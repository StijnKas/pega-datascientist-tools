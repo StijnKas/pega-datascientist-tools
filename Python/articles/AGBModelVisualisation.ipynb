{
 "cells": [
  {
   "cell_type": "markdown",
   "metadata": {
    "nbsphinx": "hidden"
   },
   "source": [
    "## Link to article\n",
    "\n",
    "This notebook is included in the documentation, where the interactive Plotly charts show up. See:\n",
    "https://pegasystems.github.io/pega-datascientist-tools/Python/articles/graph_gallery.html"
   ]
  },
  {
   "cell_type": "markdown",
   "metadata": {},
   "source": [
    "# Analyzing ADM AGB models\n",
    "\n",
    "With the introduction of ADM Gradient Boosting, we now support tree-based models in ADM as an alternative to the traditional Bayesian approach. In prediction studio, there is some information on the predictors, the model performance et cetera. However, it is also possible to export the trees themselves to analyze them further. This example demonstrates some of the info you can extract yourself, including a visualisation of the actual trees - which also allows you to check the exact 'path' a prediction used through each individual tree. \n",
    "\n",
    "On a gradient boosting model page in prediction studio, you can download an export of the model under the 'actions' button in the top right. We've also shipped an example file of a pre-built tree in the data folder, and a 'dataset' to automatically import it from the internet. That is what we will be using for this example.\n",
    "\n",
    "## Imports"
   ]
  },
  {
   "cell_type": "code",
   "execution_count": 1,
   "metadata": {
    "execution": {
     "iopub.execute_input": "2024-05-16T15:39:58.741581Z",
     "iopub.status.busy": "2024-05-16T15:39:58.741413Z",
     "iopub.status.idle": "2024-05-16T15:39:58.813326Z",
     "shell.execute_reply": "2024-05-16T15:39:58.812754Z"
    },
    "nbsphinx": "hidden"
   },
   "outputs": [],
   "source": [
    "# These lines are only for rendering in the docs, and are hidden through Jupyter tags\n",
    "# Do not run if you're running the notebook seperately\n",
    "\n",
    "import plotly.io as pio\n",
    "pio.renderers.default='notebook_connected'\n",
    "\n",
    "import sys\n",
    "sys.path.append('../../../')\n",
    "\n",
    "import warnings\n",
    "warnings.simplefilter('ignore', SyntaxWarning)"
   ]
  },
  {
   "cell_type": "code",
   "execution_count": 2,
   "metadata": {
    "execution": {
     "iopub.execute_input": "2024-05-16T15:39:58.815492Z",
     "iopub.status.busy": "2024-05-16T15:39:58.815150Z",
     "iopub.status.idle": "2024-05-16T15:39:59.715241Z",
     "shell.execute_reply": "2024-05-16T15:39:59.714635Z"
    }
   },
   "outputs": [
    {
     "ename": "AttributeError",
     "evalue": "module 'pdstools.utils.NBAD' has no attribute 'NBAD_prediction'",
     "output_type": "error",
     "traceback": [
      "\u001b[0;31m---------------------------------------------------------------------------\u001b[0m",
      "\u001b[0;31mAttributeError\u001b[0m                            Traceback (most recent call last)",
      "Cell \u001b[0;32mIn[2], line 1\u001b[0m\n\u001b[0;32m----> 1\u001b[0m \u001b[38;5;28;01mfrom\u001b[39;00m \u001b[38;5;21;01mpdstools\u001b[39;00m \u001b[38;5;28;01mimport\u001b[39;00m ADMTrees, datasets\n",
      "File \u001b[0;32m~/work/pega-datascientist-tools/pega-datascientist-tools/python/docs/source/articles/../../../pdstools/__init__.py:18\u001b[0m\n\u001b[1;32m     16\u001b[0m \u001b[38;5;28;01mfrom\u001b[39;00m \u001b[38;5;21;01m.\u001b[39;00m\u001b[38;5;21;01mpega_io\u001b[39;00m \u001b[38;5;28;01mimport\u001b[39;00m File, API, S3\n\u001b[1;32m     17\u001b[0m \u001b[38;5;28;01mfrom\u001b[39;00m \u001b[38;5;21;01m.\u001b[39;00m\u001b[38;5;21;01mpega_io\u001b[39;00m\u001b[38;5;21;01m.\u001b[39;00m\u001b[38;5;21;01mAPI\u001b[39;00m \u001b[38;5;28;01mimport\u001b[39;00m setupAzureOpenAI\n\u001b[0;32m---> 18\u001b[0m \u001b[38;5;28;01mfrom\u001b[39;00m \u001b[38;5;21;01m.\u001b[39;00m\u001b[38;5;21;01mprediction\u001b[39;00m \u001b[38;5;28;01mimport\u001b[39;00m Prediction\n\u001b[1;32m     19\u001b[0m \u001b[38;5;28;01mfrom\u001b[39;00m \u001b[38;5;21;01m.\u001b[39;00m\u001b[38;5;21;01mutils\u001b[39;00m \u001b[38;5;28;01mimport\u001b[39;00m cdh_utils, datasets, errors, hds_utils\n\u001b[1;32m     20\u001b[0m \u001b[38;5;28;01mfrom\u001b[39;00m \u001b[38;5;21;01m.\u001b[39;00m\u001b[38;5;21;01mutils\u001b[39;00m\u001b[38;5;21;01m.\u001b[39;00m\u001b[38;5;21;01mcdh_utils\u001b[39;00m \u001b[38;5;28;01mimport\u001b[39;00m defaultPredictorCategorization\n",
      "File \u001b[0;32m~/work/pega-datascientist-tools/pega-datascientist-tools/python/docs/source/articles/../../../pdstools/prediction/__init__.py:1\u001b[0m\n\u001b[0;32m----> 1\u001b[0m \u001b[38;5;28;01mfrom\u001b[39;00m \u001b[38;5;21;01m.\u001b[39;00m\u001b[38;5;21;01mPrediction\u001b[39;00m \u001b[38;5;28;01mimport\u001b[39;00m Prediction\n",
      "File \u001b[0;32m~/work/pega-datascientist-tools/pega-datascientist-tools/python/docs/source/articles/../../../pdstools/prediction/Prediction.py:7\u001b[0m\n\u001b[1;32m      2\u001b[0m \u001b[38;5;28;01mimport\u001b[39;00m \u001b[38;5;21;01mpolars\u001b[39;00m \u001b[38;5;28;01mas\u001b[39;00m \u001b[38;5;21;01mpl\u001b[39;00m\n\u001b[1;32m      4\u001b[0m \u001b[38;5;28;01mfrom\u001b[39;00m \u001b[38;5;21;01m.\u001b[39;00m\u001b[38;5;21;01m.\u001b[39;00m\u001b[38;5;21;01mutils\u001b[39;00m \u001b[38;5;28;01mimport\u001b[39;00m cdh_utils, NBAD\n\u001b[0;32m----> 7\u001b[0m \u001b[38;5;28;43;01mclass\u001b[39;49;00m\u001b[43m \u001b[49m\u001b[38;5;21;43;01mPrediction\u001b[39;49;00m\u001b[43m:\u001b[49m\n\u001b[1;32m      8\u001b[0m \u001b[43m    \u001b[49m\u001b[43mpredictions\u001b[49m\u001b[43m \u001b[49m\u001b[38;5;241;43m=\u001b[39;49m\u001b[43m \u001b[49m\u001b[38;5;28;43;01mNone\u001b[39;49;00m\n\u001b[1;32m     10\u001b[0m \u001b[43m    \u001b[49m\u001b[38;5;66;43;03m# These are pretty strict conditions - many configurations appear not to satisfy these\u001b[39;49;00m\n\u001b[1;32m     11\u001b[0m \u001b[43m    \u001b[49m\u001b[38;5;66;43;03m# perhaps the Total = Test + Control is no longer met when Impact Analyzer is around\u001b[39;49;00m\n",
      "File \u001b[0;32m~/work/pega-datascientist-tools/pega-datascientist-tools/python/docs/source/articles/../../../pdstools/prediction/Prediction.py:30\u001b[0m, in \u001b[0;36mPrediction\u001b[0;34m()\u001b[0m\n\u001b[1;32m     10\u001b[0m \u001b[38;5;66;03m# These are pretty strict conditions - many configurations appear not to satisfy these\u001b[39;00m\n\u001b[1;32m     11\u001b[0m \u001b[38;5;66;03m# perhaps the Total = Test + Control is no longer met when Impact Analyzer is around\u001b[39;00m\n\u001b[1;32m     12\u001b[0m validityExpr \u001b[38;5;241m=\u001b[39m (\n\u001b[1;32m     13\u001b[0m     (pl\u001b[38;5;241m.\u001b[39mcol(\u001b[38;5;124m\"\u001b[39m\u001b[38;5;124mPositives\u001b[39m\u001b[38;5;124m\"\u001b[39m) \u001b[38;5;241m>\u001b[39m \u001b[38;5;241m0\u001b[39m)\n\u001b[1;32m     14\u001b[0m     \u001b[38;5;241m&\u001b[39m (pl\u001b[38;5;241m.\u001b[39mcol(\u001b[38;5;124m\"\u001b[39m\u001b[38;5;124mPositives_Test\u001b[39m\u001b[38;5;124m\"\u001b[39m) \u001b[38;5;241m>\u001b[39m \u001b[38;5;241m0\u001b[39m)\n\u001b[0;32m   (...)\u001b[0m\n\u001b[1;32m     26\u001b[0m     \u001b[38;5;66;03m# )\u001b[39;00m\n\u001b[1;32m     27\u001b[0m )\n\u001b[1;32m     29\u001b[0m \u001b[38;5;28;01mdef\u001b[39;00m \u001b[38;5;21mgetPredictionsChannelMapping\u001b[39m(\n\u001b[0;32m---> 30\u001b[0m     \u001b[38;5;28mself\u001b[39m, custom_predictions\u001b[38;5;241m=\u001b[39mList[\u001b[43mNBAD\u001b[49m\u001b[38;5;241;43m.\u001b[39;49m\u001b[43mNBAD_prediction\u001b[49m]\n\u001b[1;32m     31\u001b[0m ) \u001b[38;5;241m-\u001b[39m\u001b[38;5;241m>\u001b[39m pl\u001b[38;5;241m.\u001b[39mDataFrame:\n\u001b[1;32m     32\u001b[0m     all_mappings \u001b[38;5;241m=\u001b[39m NBAD\u001b[38;5;241m.\u001b[39mstandardNBADPredictions \u001b[38;5;241m+\u001b[39m custom_predictions\n\u001b[1;32m     33\u001b[0m     \u001b[38;5;28;01mreturn\u001b[39;00m pl\u001b[38;5;241m.\u001b[39mDataFrame(\n\u001b[1;32m     34\u001b[0m         {\n\u001b[1;32m     35\u001b[0m             \u001b[38;5;124m\"\u001b[39m\u001b[38;5;124mPrediction\u001b[39m\u001b[38;5;124m\"\u001b[39m: [x\u001b[38;5;241m.\u001b[39mmodel_name\u001b[38;5;241m.\u001b[39mupper() \u001b[38;5;28;01mfor\u001b[39;00m x \u001b[38;5;129;01min\u001b[39;00m all_mappings],\n\u001b[0;32m   (...)\u001b[0m\n\u001b[1;32m     40\u001b[0m         }\n\u001b[1;32m     41\u001b[0m     )\n",
      "\u001b[0;31mAttributeError\u001b[0m: module 'pdstools.utils.NBAD' has no attribute 'NBAD_prediction'"
     ]
    }
   ],
   "source": [
    "from pdstools import ADMTrees, datasets"
   ]
  },
  {
   "cell_type": "markdown",
   "metadata": {},
   "source": [
    "## Importing your own model export\n",
    "To import your own model, simply feed the path to the ADMTrees class. There are no additional parameters."
   ]
  },
  {
   "cell_type": "code",
   "execution_count": 3,
   "metadata": {
    "execution": {
     "iopub.execute_input": "2024-05-16T15:39:59.717593Z",
     "iopub.status.busy": "2024-05-16T15:39:59.717273Z",
     "iopub.status.idle": "2024-05-16T15:39:59.719905Z",
     "shell.execute_reply": "2024-05-16T15:39:59.719359Z"
    }
   },
   "outputs": [],
   "source": [
    "# ADMTrees(\"path/to/model_download.json\")"
   ]
  },
  {
   "cell_type": "markdown",
   "metadata": {},
   "source": [
    "For this example we will use the shipped example dataset, which you can simply import with the following line:"
   ]
  },
  {
   "cell_type": "code",
   "execution_count": 4,
   "metadata": {
    "execution": {
     "iopub.execute_input": "2024-05-16T15:39:59.721998Z",
     "iopub.status.busy": "2024-05-16T15:39:59.721695Z",
     "iopub.status.idle": "2024-05-16T15:39:59.732820Z",
     "shell.execute_reply": "2024-05-16T15:39:59.732277Z"
    }
   },
   "outputs": [
    {
     "ename": "NameError",
     "evalue": "name 'datasets' is not defined",
     "output_type": "error",
     "traceback": [
      "\u001b[0;31m---------------------------------------------------------------------------\u001b[0m",
      "\u001b[0;31mNameError\u001b[0m                                 Traceback (most recent call last)",
      "Cell \u001b[0;32mIn[4], line 1\u001b[0m\n\u001b[0;32m----> 1\u001b[0m Trees \u001b[38;5;241m=\u001b[39m \u001b[43mdatasets\u001b[49m\u001b[38;5;241m.\u001b[39mSampleTrees()\n",
      "\u001b[0;31mNameError\u001b[0m: name 'datasets' is not defined"
     ]
    }
   ],
   "source": [
    "Trees = datasets.SampleTrees()"
   ]
  },
  {
   "cell_type": "markdown",
   "metadata": {},
   "source": [
    "## Exploring the ADMTrees class\n",
    "\n",
    "The raw export has quite a lot of information stored in it, which is not all easily accessible. For example, looking at the 'properties' attribute, we can see the configuration of the model."
   ]
  },
  {
   "cell_type": "code",
   "execution_count": 5,
   "metadata": {
    "execution": {
     "iopub.execute_input": "2024-05-16T15:39:59.734858Z",
     "iopub.status.busy": "2024-05-16T15:39:59.734522Z",
     "iopub.status.idle": "2024-05-16T15:39:59.745334Z",
     "shell.execute_reply": "2024-05-16T15:39:59.744843Z"
    }
   },
   "outputs": [
    {
     "ename": "NameError",
     "evalue": "name 'Trees' is not defined",
     "output_type": "error",
     "traceback": [
      "\u001b[0;31m---------------------------------------------------------------------------\u001b[0m",
      "\u001b[0;31mNameError\u001b[0m                                 Traceback (most recent call last)",
      "Cell \u001b[0;32mIn[5], line 1\u001b[0m\n\u001b[0;32m----> 1\u001b[0m \u001b[43mTrees\u001b[49m\u001b[38;5;241m.\u001b[39mproperties\n",
      "\u001b[0;31mNameError\u001b[0m: name 'Trees' is not defined"
     ]
    }
   ],
   "source": [
    "Trees.properties"
   ]
  },
  {
   "cell_type": "markdown",
   "metadata": {},
   "source": [
    "Most of this information is not particularly useful - but for example, you can find the maximum numbef of trees, the maximum depth of the trees and the outcome to label mapping. Information about the predictors is also stored here, which is extracted in the 'predictors' attribute."
   ]
  },
  {
   "cell_type": "code",
   "execution_count": 6,
   "metadata": {
    "execution": {
     "iopub.execute_input": "2024-05-16T15:39:59.747314Z",
     "iopub.status.busy": "2024-05-16T15:39:59.746989Z",
     "iopub.status.idle": "2024-05-16T15:39:59.757602Z",
     "shell.execute_reply": "2024-05-16T15:39:59.757018Z"
    }
   },
   "outputs": [
    {
     "ename": "NameError",
     "evalue": "name 'Trees' is not defined",
     "output_type": "error",
     "traceback": [
      "\u001b[0;31m---------------------------------------------------------------------------\u001b[0m",
      "\u001b[0;31mNameError\u001b[0m                                 Traceback (most recent call last)",
      "Cell \u001b[0;32mIn[6], line 1\u001b[0m\n\u001b[0;32m----> 1\u001b[0m \u001b[43mTrees\u001b[49m\u001b[38;5;241m.\u001b[39mpredictors\n",
      "\u001b[0;31mNameError\u001b[0m: name 'Trees' is not defined"
     ]
    }
   ],
   "source": [
    "Trees.predictors"
   ]
  },
  {
   "cell_type": "markdown",
   "metadata": {},
   "source": [
    "Naturally, the raw trees are stored here too. They are stored in the 'model' attribute, in a list with each tree in json format. Let's look at a single tree."
   ]
  },
  {
   "cell_type": "code",
   "execution_count": 7,
   "metadata": {
    "execution": {
     "iopub.execute_input": "2024-05-16T15:39:59.759670Z",
     "iopub.status.busy": "2024-05-16T15:39:59.759358Z",
     "iopub.status.idle": "2024-05-16T15:39:59.770560Z",
     "shell.execute_reply": "2024-05-16T15:39:59.769988Z"
    }
   },
   "outputs": [
    {
     "ename": "NameError",
     "evalue": "name 'Trees' is not defined",
     "output_type": "error",
     "traceback": [
      "\u001b[0;31m---------------------------------------------------------------------------\u001b[0m",
      "\u001b[0;31mNameError\u001b[0m                                 Traceback (most recent call last)",
      "Cell \u001b[0;32mIn[7], line 1\u001b[0m\n\u001b[0;32m----> 1\u001b[0m \u001b[43mTrees\u001b[49m\u001b[38;5;241m.\u001b[39mmodel[\u001b[38;5;241m18\u001b[39m]\n",
      "\u001b[0;31mNameError\u001b[0m: name 'Trees' is not defined"
     ]
    }
   ],
   "source": [
    "Trees.model[18]"
   ]
  },
  {
   "cell_type": "markdown",
   "metadata": {},
   "source": [
    "Each node has a 'score': the contribution to the final score, over all trees. Non-leaf nodes naturally have splits, which are expressed as a string. These can be inequality, equality or set splits. For example, we may see a split on Age being smaller than 42, but also pyName being one of {P1, P2, P3, P4, P6}. If this split evaluates to True, we follow the tree to the left node. Naturally, if it evaluates to False we follow to the right node. Lastly, each split also has a gain. This describes how well that split discriminates by splitting to the left and right nodes. \n",
    "\n",
    "Later we will revisit this tree structure, because for visualisation we need to slightly reformat it. But first, by nature of a boosting algorithm, looking at a single tree does not provide enough information to fully understand the model. For this, there are some properties of the ADMTrees class to look across trees. To start, we can call TreeStats to get an overview of the contribution of each tree to the final model."
   ]
  },
  {
   "cell_type": "code",
   "execution_count": 8,
   "metadata": {
    "execution": {
     "iopub.execute_input": "2024-05-16T15:39:59.772651Z",
     "iopub.status.busy": "2024-05-16T15:39:59.772344Z",
     "iopub.status.idle": "2024-05-16T15:39:59.783096Z",
     "shell.execute_reply": "2024-05-16T15:39:59.782642Z"
    }
   },
   "outputs": [
    {
     "ename": "NameError",
     "evalue": "name 'Trees' is not defined",
     "output_type": "error",
     "traceback": [
      "\u001b[0;31m---------------------------------------------------------------------------\u001b[0m",
      "\u001b[0;31mNameError\u001b[0m                                 Traceback (most recent call last)",
      "Cell \u001b[0;32mIn[8], line 1\u001b[0m\n\u001b[0;32m----> 1\u001b[0m \u001b[43mTrees\u001b[49m\u001b[38;5;241m.\u001b[39mtreeStats\u001b[38;5;241m.\u001b[39msample(\u001b[38;5;241m5\u001b[39m)\n",
      "\u001b[0;31mNameError\u001b[0m: name 'Trees' is not defined"
     ]
    }
   ],
   "source": [
    "Trees.treeStats.sample(5)"
   ]
  },
  {
   "cell_type": "markdown",
   "metadata": {},
   "source": [
    "In TreeStats, the index is the 'ID' of the tree, based on its position in the order of the 'model' attribute. The score corresponds to the score of the top-level node of that tree, and the 'depth' and 'nsplits' describe how deep the tree is, and how many splits are performed in total. For each split, the gain is added to the list in the 'gains' column. The mean of all splits in a tree is computed in the 'meangains' column.\n",
    "\n",
    "Some info about individual trees is also stored in attributes, such as the splits and gains for each tree."
   ]
  },
  {
   "cell_type": "code",
   "execution_count": 9,
   "metadata": {
    "execution": {
     "iopub.execute_input": "2024-05-16T15:39:59.785136Z",
     "iopub.status.busy": "2024-05-16T15:39:59.784792Z",
     "iopub.status.idle": "2024-05-16T15:39:59.795428Z",
     "shell.execute_reply": "2024-05-16T15:39:59.795001Z"
    }
   },
   "outputs": [
    {
     "ename": "NameError",
     "evalue": "name 'Trees' is not defined",
     "output_type": "error",
     "traceback": [
      "\u001b[0;31m---------------------------------------------------------------------------\u001b[0m",
      "\u001b[0;31mNameError\u001b[0m                                 Traceback (most recent call last)",
      "Cell \u001b[0;32mIn[9], line 1\u001b[0m\n\u001b[0;32m----> 1\u001b[0m \u001b[38;5;28mprint\u001b[39m(\u001b[43mTrees\u001b[49m\u001b[38;5;241m.\u001b[39msplitsPerTree[\u001b[38;5;241m18\u001b[39m])\n\u001b[1;32m      2\u001b[0m \u001b[38;5;28mprint\u001b[39m(Trees\u001b[38;5;241m.\u001b[39mgainsPerTree[\u001b[38;5;241m18\u001b[39m])\n",
      "\u001b[0;31mNameError\u001b[0m: name 'Trees' is not defined"
     ]
    }
   ],
   "source": [
    "print(Trees.splitsPerTree[18])\n",
    "print(Trees.gainsPerTree[18])"
   ]
  },
  {
   "cell_type": "markdown",
   "metadata": {},
   "source": [
    "## Variables\n",
    "Now, if we are interested in the contribution and distribution of the splits per variable, we can look at the raw data in the groupedGainsPerSplit attribute, which returns a DataFrame, grouped by the split. In the 'gains' column you see a list of all of the gains produced by this split, and the 'n' column says how often this split is performed."
   ]
  },
  {
   "cell_type": "code",
   "execution_count": 10,
   "metadata": {
    "execution": {
     "iopub.execute_input": "2024-05-16T15:39:59.797398Z",
     "iopub.status.busy": "2024-05-16T15:39:59.797231Z",
     "iopub.status.idle": "2024-05-16T15:39:59.807478Z",
     "shell.execute_reply": "2024-05-16T15:39:59.807049Z"
    }
   },
   "outputs": [
    {
     "ename": "NameError",
     "evalue": "name 'Trees' is not defined",
     "output_type": "error",
     "traceback": [
      "\u001b[0;31m---------------------------------------------------------------------------\u001b[0m",
      "\u001b[0;31mNameError\u001b[0m                                 Traceback (most recent call last)",
      "Cell \u001b[0;32mIn[10], line 1\u001b[0m\n\u001b[0;32m----> 1\u001b[0m \u001b[43mTrees\u001b[49m\u001b[38;5;241m.\u001b[39mgroupedGainsPerSplit\n",
      "\u001b[0;31mNameError\u001b[0m: name 'Trees' is not defined"
     ]
    }
   ],
   "source": [
    "Trees.groupedGainsPerSplit"
   ]
  },
  {
   "cell_type": "markdown",
   "metadata": {},
   "source": [
    "Raw data is sometimes useful, but it's better to visualise. For this, simply call plotSplitsPerVariable(), which will produce a plot of the distribution of splits for each variable. Here, the orange line denotes the number of times the given split is performed, while the blue boxes display the distribution of gains corresponding to that split. By suppling a set of predictors as the 'subset' argument, not all predictors are plotted. For readability's sake, we've filtered only on a few specific splits.\n",
    "\n",
    "**Note 1:** Given that the gains can differ drastically between splits, some plots may not be very useful as-is. However, since they are Plotly plots they are interactive: hover over the data to see the raw numbers, and select a region within the plot to zoom in.\n",
    "**Note 2:** For categorical splits especially, the axis labels are typically not very readable. Even while hovering, there may be too much information. This is simply by nature of these splits. In this case, it may be more useful to look at the raw data in the groupedGainsPerSplit dataframe."
   ]
  },
  {
   "cell_type": "code",
   "execution_count": 11,
   "metadata": {
    "execution": {
     "iopub.execute_input": "2024-05-16T15:39:59.809325Z",
     "iopub.status.busy": "2024-05-16T15:39:59.809158Z",
     "iopub.status.idle": "2024-05-16T15:39:59.820109Z",
     "shell.execute_reply": "2024-05-16T15:39:59.819555Z"
    }
   },
   "outputs": [
    {
     "ename": "NameError",
     "evalue": "name 'Trees' is not defined",
     "output_type": "error",
     "traceback": [
      "\u001b[0;31m---------------------------------------------------------------------------\u001b[0m",
      "\u001b[0;31mNameError\u001b[0m                                 Traceback (most recent call last)",
      "Cell \u001b[0;32mIn[11], line 2\u001b[0m\n\u001b[1;32m      1\u001b[0m preds \u001b[38;5;241m=\u001b[39m [\u001b[38;5;124m'\u001b[39m\u001b[38;5;124mCustomer.Age\u001b[39m\u001b[38;5;124m'\u001b[39m, \u001b[38;5;124m'\u001b[39m\u001b[38;5;124mCustomer.LanguagePreference\u001b[39m\u001b[38;5;124m'\u001b[39m, \u001b[38;5;124m'\u001b[39m\u001b[38;5;124mpyName\u001b[39m\u001b[38;5;124m'\u001b[39m]\n\u001b[0;32m----> 2\u001b[0m \u001b[43mTrees\u001b[49m\u001b[38;5;241m.\u001b[39mplotSplitsPerVariable(subset\u001b[38;5;241m=\u001b[39mpreds);\n",
      "\u001b[0;31mNameError\u001b[0m: name 'Trees' is not defined"
     ]
    }
   ],
   "source": [
    "preds = ['Customer.Age', 'Customer.LanguagePreference', 'pyName']\n",
    "Trees.plotSplitsPerVariable(subset=preds);"
   ]
  },
  {
   "cell_type": "markdown",
   "metadata": {},
   "source": [
    "## Visualising the trees\n",
    "\n",
    "With the provided tree structures, it is also possible to visualise each tree individually. While of course each individual tree is used for scoring and thus one tree is on average only 1/50th of the total contribution, this still provides useful information of the inner workings of the algorithm. In the background, we transform the raw tree structure to a node and edges-based json structure, where each node gets an ID, and their child and parent nodes are linked"
   ]
  },
  {
   "cell_type": "code",
   "execution_count": 12,
   "metadata": {
    "execution": {
     "iopub.execute_input": "2024-05-16T15:39:59.822034Z",
     "iopub.status.busy": "2024-05-16T15:39:59.821866Z",
     "iopub.status.idle": "2024-05-16T15:39:59.832162Z",
     "shell.execute_reply": "2024-05-16T15:39:59.831731Z"
    }
   },
   "outputs": [
    {
     "ename": "NameError",
     "evalue": "name 'Trees' is not defined",
     "output_type": "error",
     "traceback": [
      "\u001b[0;31m---------------------------------------------------------------------------\u001b[0m",
      "\u001b[0;31mNameError\u001b[0m                                 Traceback (most recent call last)",
      "Cell \u001b[0;32mIn[12], line 1\u001b[0m\n\u001b[0;32m----> 1\u001b[0m \u001b[43mTrees\u001b[49m\u001b[38;5;241m.\u001b[39mgetTreeRepresentation(\u001b[38;5;241m18\u001b[39m)\n",
      "\u001b[0;31mNameError\u001b[0m: name 'Trees' is not defined"
     ]
    }
   ],
   "source": [
    "Trees.getTreeRepresentation(18)"
   ]
  },
  {
   "cell_type": "markdown",
   "metadata": {},
   "source": [
    "Then, we can visualise the tree as such:"
   ]
  },
  {
   "cell_type": "code",
   "execution_count": 13,
   "metadata": {
    "execution": {
     "iopub.execute_input": "2024-05-16T15:39:59.833992Z",
     "iopub.status.busy": "2024-05-16T15:39:59.833827Z",
     "iopub.status.idle": "2024-05-16T15:39:59.844449Z",
     "shell.execute_reply": "2024-05-16T15:39:59.843999Z"
    }
   },
   "outputs": [
    {
     "ename": "NameError",
     "evalue": "name 'Trees' is not defined",
     "output_type": "error",
     "traceback": [
      "\u001b[0;31m---------------------------------------------------------------------------\u001b[0m",
      "\u001b[0;31mNameError\u001b[0m                                 Traceback (most recent call last)",
      "Cell \u001b[0;32mIn[13], line 1\u001b[0m\n\u001b[0;32m----> 1\u001b[0m \u001b[43mTrees\u001b[49m\u001b[38;5;241m.\u001b[39mplotTree(\u001b[38;5;241m18\u001b[39m);\n",
      "\u001b[0;31mNameError\u001b[0m: name 'Trees' is not defined"
     ]
    }
   ],
   "source": [
    "Trees.plotTree(18);"
   ]
  },
  {
   "cell_type": "markdown",
   "metadata": {},
   "source": [
    "## Plot prediction path\n",
    "\n",
    "With this tree, of course we can also show how a tree would score a set of input data 'x'. Simply pass a dictionary with variable:value pairs to plotTree's \"highlighted\" parameter, and that path is highlighted:"
   ]
  },
  {
   "cell_type": "code",
   "execution_count": 14,
   "metadata": {
    "execution": {
     "iopub.execute_input": "2024-05-16T15:39:59.846266Z",
     "iopub.status.busy": "2024-05-16T15:39:59.846114Z",
     "iopub.status.idle": "2024-05-16T15:39:59.857915Z",
     "shell.execute_reply": "2024-05-16T15:39:59.857462Z"
    }
   },
   "outputs": [
    {
     "ename": "NameError",
     "evalue": "name 'Trees' is not defined",
     "output_type": "error",
     "traceback": [
      "\u001b[0;31m---------------------------------------------------------------------------\u001b[0m",
      "\u001b[0;31mNameError\u001b[0m                                 Traceback (most recent call last)",
      "Cell \u001b[0;32mIn[14], line 1\u001b[0m\n\u001b[0;32m----> 1\u001b[0m \u001b[43mTrees\u001b[49m\u001b[38;5;241m.\u001b[39mplotTree(\u001b[38;5;241m18\u001b[39m, highlighted \u001b[38;5;241m=\u001b[39m {\u001b[38;5;124m\"\u001b[39m\u001b[38;5;124mIH.MISSING.MISSING.Churned.pyHistoricalOutcomeCount\u001b[39m\u001b[38;5;124m\"\u001b[39m:\u001b[38;5;241m2\u001b[39m, \u001b[38;5;124m\"\u001b[39m\u001b[38;5;124mIH.SMS.Outbound.Accept.pyHistoricalOutcomeCount\u001b[39m\u001b[38;5;124m\"\u001b[39m:\u001b[38;5;241m0\u001b[39m, \u001b[38;5;124m\"\u001b[39m\u001b[38;5;124mpyName\u001b[39m\u001b[38;5;124m\"\u001b[39m: \u001b[38;5;124m'\u001b[39m\u001b[38;5;124mPremierChecking\u001b[39m\u001b[38;5;124m'\u001b[39m});\n",
      "\u001b[0;31mNameError\u001b[0m: name 'Trees' is not defined"
     ]
    }
   ],
   "source": [
    "Trees.plotTree(18, highlighted = {\"IH.MISSING.MISSING.Churned.pyHistoricalOutcomeCount\":2, \"IH.SMS.Outbound.Accept.pyHistoricalOutcomeCount\":0, \"pyName\": 'PremierChecking'});"
   ]
  },
  {
   "cell_type": "markdown",
   "metadata": {},
   "source": [
    "Of course that also works if we define x first and then feed that as the highlighted parameter."
   ]
  },
  {
   "cell_type": "code",
   "execution_count": 15,
   "metadata": {
    "execution": {
     "iopub.execute_input": "2024-05-16T15:39:59.859998Z",
     "iopub.status.busy": "2024-05-16T15:39:59.859622Z",
     "iopub.status.idle": "2024-05-16T15:39:59.922596Z",
     "shell.execute_reply": "2024-05-16T15:39:59.922132Z"
    }
   },
   "outputs": [
    {
     "ename": "NameError",
     "evalue": "name 'Trees' is not defined",
     "output_type": "error",
     "traceback": [
      "\u001b[0;31m---------------------------------------------------------------------------\u001b[0m",
      "\u001b[0;31mNameError\u001b[0m                                 Traceback (most recent call last)",
      "Cell \u001b[0;32mIn[15], line 2\u001b[0m\n\u001b[1;32m      1\u001b[0m x \u001b[38;5;241m=\u001b[39m {\u001b[38;5;124m\"\u001b[39m\u001b[38;5;124mIH.MISSING.MISSING.Churned.pyHistoricalOutcomeCount\u001b[39m\u001b[38;5;124m\"\u001b[39m:\u001b[38;5;241m2\u001b[39m, \u001b[38;5;124m\"\u001b[39m\u001b[38;5;124mIH.SMS.Outbound.Accept.pyHistoricalOutcomeCount\u001b[39m\u001b[38;5;124m\"\u001b[39m:\u001b[38;5;241m0\u001b[39m, \u001b[38;5;124m\"\u001b[39m\u001b[38;5;124mpyName\u001b[39m\u001b[38;5;124m\"\u001b[39m: \u001b[38;5;124m'\u001b[39m\u001b[38;5;124mNotPremierChecking\u001b[39m\u001b[38;5;124m'\u001b[39m}\n\u001b[0;32m----> 2\u001b[0m \u001b[43mTrees\u001b[49m\u001b[38;5;241m.\u001b[39mplotTree(\u001b[38;5;241m18\u001b[39m, highlighted\u001b[38;5;241m=\u001b[39mx);\n",
      "\u001b[0;31mNameError\u001b[0m: name 'Trees' is not defined"
     ]
    }
   ],
   "source": [
    "x = {\"IH.MISSING.MISSING.Churned.pyHistoricalOutcomeCount\":2, \"IH.SMS.Outbound.Accept.pyHistoricalOutcomeCount\":0, \"pyName\": 'NotPremierChecking'}\n",
    "Trees.plotTree(18, highlighted=x);"
   ]
  },
  {
   "cell_type": "markdown",
   "metadata": {},
   "source": [
    "Thus far we've only look at tree 18, but of course we can plot different trees as well. This is also where these visualisations aren't always as useful, because the trees can get quite large and hard to read:"
   ]
  },
  {
   "cell_type": "code",
   "execution_count": 16,
   "metadata": {
    "execution": {
     "iopub.execute_input": "2024-05-16T15:39:59.924733Z",
     "iopub.status.busy": "2024-05-16T15:39:59.924393Z",
     "iopub.status.idle": "2024-05-16T15:39:59.935607Z",
     "shell.execute_reply": "2024-05-16T15:39:59.935185Z"
    }
   },
   "outputs": [
    {
     "ename": "NameError",
     "evalue": "name 'Trees' is not defined",
     "output_type": "error",
     "traceback": [
      "\u001b[0;31m---------------------------------------------------------------------------\u001b[0m",
      "\u001b[0;31mNameError\u001b[0m                                 Traceback (most recent call last)",
      "Cell \u001b[0;32mIn[16], line 1\u001b[0m\n\u001b[0;32m----> 1\u001b[0m \u001b[43mTrees\u001b[49m\u001b[38;5;241m.\u001b[39mplotTree(\u001b[38;5;241m30\u001b[39m);\n",
      "\u001b[0;31mNameError\u001b[0m: name 'Trees' is not defined"
     ]
    }
   ],
   "source": [
    "Trees.plotTree(30);"
   ]
  },
  {
   "cell_type": "markdown",
   "metadata": {},
   "source": [
    "Note it is possible to export these trees by calling functions on the raw model, such as 'write_png' or 'write_pdf':\n",
    "\n",
    "```python\n",
    "Trees.plotTree(4, highlighted=x).write_png('Tree.png')\n",
    "Trees.plotTree(4, highlighted=x).write_pdf('Tree.pdf')\n",
    "```\n",
    "\n",
    "#### Random input data\n",
    "For this demo, I want to generate some random input parameters, so a quick function to do that is this:"
   ]
  },
  {
   "cell_type": "code",
   "execution_count": 17,
   "metadata": {
    "execution": {
     "iopub.execute_input": "2024-05-16T15:39:59.937671Z",
     "iopub.status.busy": "2024-05-16T15:39:59.937354Z",
     "iopub.status.idle": "2024-05-16T15:39:59.951746Z",
     "shell.execute_reply": "2024-05-16T15:39:59.951306Z"
    }
   },
   "outputs": [
    {
     "ename": "NameError",
     "evalue": "name 'Trees' is not defined",
     "output_type": "error",
     "traceback": [
      "\u001b[0;31m---------------------------------------------------------------------------\u001b[0m",
      "\u001b[0;31mNameError\u001b[0m                                 Traceback (most recent call last)",
      "Cell \u001b[0;32mIn[17], line 15\u001b[0m\n\u001b[1;32m     13\u001b[0m         x[variable]\u001b[38;5;241m=\u001b[39m sample(\u001b[38;5;28mlist\u001b[39m(values), \u001b[38;5;241m1\u001b[39m)[\u001b[38;5;241m0\u001b[39m]\n\u001b[1;32m     14\u001b[0m     \u001b[38;5;28;01mreturn\u001b[39;00m x\n\u001b[0;32m---> 15\u001b[0m randomX \u001b[38;5;241m=\u001b[39m sampleX(\u001b[43mTrees\u001b[49m)\n",
      "\u001b[0;31mNameError\u001b[0m: name 'Trees' is not defined"
     ]
    }
   ],
   "source": [
    "def sampleX(trees):\n",
    "    from random import sample\n",
    "    x = {}\n",
    "    for variable, values in trees.allValuesPerSplit.items():\n",
    "        if len(values) == 1:\n",
    "            if 'true' in values or 'false' in values:\n",
    "                values = {'true', 'false'}\n",
    "            if isinstance(list(values)[0], str):\n",
    "                try: \n",
    "                    float(list(values)[0])\n",
    "                except:\n",
    "                    values = values.union({'Other'})\n",
    "        x[variable]= sample(list(values), 1)[0]\n",
    "    return x\n",
    "randomX = sampleX(Trees)"
   ]
  },
  {
   "cell_type": "markdown",
   "metadata": {},
   "source": [
    "## Replicating scores\n",
    "Lastly, with a given x and each scoring tree both stored, we can replicate the score the models would give to that customer by simply letting each tree predict a score. By calling 'getAllVisitedNodes', we get an overview of all visited nodes, each split that was performed and the scores contributed by each individual tree. By default this is sorted by their scores. This also gives us an idea of the relative 'importance' of each tree for the final prediction. "
   ]
  },
  {
   "cell_type": "code",
   "execution_count": 18,
   "metadata": {
    "execution": {
     "iopub.execute_input": "2024-05-16T15:39:59.953769Z",
     "iopub.status.busy": "2024-05-16T15:39:59.953464Z",
     "iopub.status.idle": "2024-05-16T15:39:59.963984Z",
     "shell.execute_reply": "2024-05-16T15:39:59.963559Z"
    }
   },
   "outputs": [
    {
     "ename": "NameError",
     "evalue": "name 'Trees' is not defined",
     "output_type": "error",
     "traceback": [
      "\u001b[0;31m---------------------------------------------------------------------------\u001b[0m",
      "\u001b[0;31mNameError\u001b[0m                                 Traceback (most recent call last)",
      "Cell \u001b[0;32mIn[18], line 1\u001b[0m\n\u001b[0;32m----> 1\u001b[0m scores \u001b[38;5;241m=\u001b[39m \u001b[43mTrees\u001b[49m\u001b[38;5;241m.\u001b[39mgetAllVisitedNodes(randomX)\n\u001b[1;32m      2\u001b[0m scores\n",
      "\u001b[0;31mNameError\u001b[0m: name 'Trees' is not defined"
     ]
    }
   ],
   "source": [
    "scores = Trees.getAllVisitedNodes(randomX)\n",
    "scores"
   ]
  },
  {
   "cell_type": "markdown",
   "metadata": {},
   "source": [
    "Now, to get to the final score we simply sum up the scores, and then normalize them to a range between 0 and 1:"
   ]
  },
  {
   "cell_type": "code",
   "execution_count": 19,
   "metadata": {
    "execution": {
     "iopub.execute_input": "2024-05-16T15:39:59.966209Z",
     "iopub.status.busy": "2024-05-16T15:39:59.965723Z",
     "iopub.status.idle": "2024-05-16T15:39:59.977017Z",
     "shell.execute_reply": "2024-05-16T15:39:59.976573Z"
    }
   },
   "outputs": [
    {
     "ename": "NameError",
     "evalue": "name 'scores' is not defined",
     "output_type": "error",
     "traceback": [
      "\u001b[0;31m---------------------------------------------------------------------------\u001b[0m",
      "\u001b[0;31mNameError\u001b[0m                                 Traceback (most recent call last)",
      "Cell \u001b[0;32mIn[19], line 2\u001b[0m\n\u001b[1;32m      1\u001b[0m \u001b[38;5;28;01mimport\u001b[39;00m \u001b[38;5;21;01mmath\u001b[39;00m\n\u001b[0;32m----> 2\u001b[0m \u001b[38;5;241m1\u001b[39m\u001b[38;5;241m/\u001b[39m(\u001b[38;5;241m1\u001b[39m\u001b[38;5;241m+\u001b[39mmath\u001b[38;5;241m.\u001b[39mexp(\u001b[38;5;241m-\u001b[39m\u001b[43mscores\u001b[49m[\u001b[38;5;124m'\u001b[39m\u001b[38;5;124mscore\u001b[39m\u001b[38;5;124m'\u001b[39m]\u001b[38;5;241m.\u001b[39msum()))\n",
      "\u001b[0;31mNameError\u001b[0m: name 'scores' is not defined"
     ]
    }
   ],
   "source": [
    "import math\n",
    "1/(1+math.exp(-scores['score'].sum()))"
   ]
  },
  {
   "cell_type": "markdown",
   "metadata": {},
   "source": [
    "And to simplify this even further, simply call the 'score' function to get the final score."
   ]
  },
  {
   "cell_type": "code",
   "execution_count": 20,
   "metadata": {
    "execution": {
     "iopub.execute_input": "2024-05-16T15:39:59.978957Z",
     "iopub.status.busy": "2024-05-16T15:39:59.978659Z",
     "iopub.status.idle": "2024-05-16T15:39:59.989158Z",
     "shell.execute_reply": "2024-05-16T15:39:59.988605Z"
    }
   },
   "outputs": [
    {
     "ename": "NameError",
     "evalue": "name 'Trees' is not defined",
     "output_type": "error",
     "traceback": [
      "\u001b[0;31m---------------------------------------------------------------------------\u001b[0m",
      "\u001b[0;31mNameError\u001b[0m                                 Traceback (most recent call last)",
      "Cell \u001b[0;32mIn[20], line 1\u001b[0m\n\u001b[0;32m----> 1\u001b[0m \u001b[43mTrees\u001b[49m\u001b[38;5;241m.\u001b[39mscore(randomX)\n",
      "\u001b[0;31mNameError\u001b[0m: name 'Trees' is not defined"
     ]
    }
   ],
   "source": [
    "Trees.score(randomX)"
   ]
  },
  {
   "cell_type": "markdown",
   "metadata": {},
   "source": [
    "Finally, we can also plot the contribution of each tree towards the final propensity of the prediction. Simply call the plotContributionPerTree function with a given x. This shows, for each individual tree, the scores, the cumulative mean of those scores and the running propensity. Here you can clearly see that the average score is quite negative, so as we would expect the final propensity is also quite low."
   ]
  },
  {
   "cell_type": "code",
   "execution_count": 21,
   "metadata": {
    "execution": {
     "iopub.execute_input": "2024-05-16T15:39:59.991153Z",
     "iopub.status.busy": "2024-05-16T15:39:59.990757Z",
     "iopub.status.idle": "2024-05-16T15:40:00.001870Z",
     "shell.execute_reply": "2024-05-16T15:40:00.001342Z"
    }
   },
   "outputs": [
    {
     "ename": "NameError",
     "evalue": "name 'Trees' is not defined",
     "output_type": "error",
     "traceback": [
      "\u001b[0;31m---------------------------------------------------------------------------\u001b[0m",
      "\u001b[0;31mNameError\u001b[0m                                 Traceback (most recent call last)",
      "Cell \u001b[0;32mIn[21], line 1\u001b[0m\n\u001b[0;32m----> 1\u001b[0m \u001b[43mTrees\u001b[49m\u001b[38;5;241m.\u001b[39mplotContributionPerTree(randomX);\n",
      "\u001b[0;31mNameError\u001b[0m: name 'Trees' is not defined"
     ]
    }
   ],
   "source": [
    "Trees.plotContributionPerTree(randomX);"
   ]
  },
  {
   "cell_type": "markdown",
   "metadata": {},
   "source": [
    "These are the current features of the ADMTrees class. As always, if you have suggestions, please do not hesitate to open a GitHub issue or pull request!"
   ]
  }
 ],
 "metadata": {
  "interpreter": {
   "hash": "7e1998ff7f8aa20ada591c520b972326324e5ea05489af9e422744c7c09f6dad"
  },
  "kernelspec": {
   "display_name": "Python 3.10.2 64-bit",
   "language": "python",
   "name": "python3"
  },
  "language_info": {
   "codemirror_mode": {
    "name": "ipython",
    "version": 3
   },
   "file_extension": ".py",
   "mimetype": "text/x-python",
   "name": "python",
   "nbconvert_exporter": "python",
   "pygments_lexer": "ipython3",
   "version": "3.11.9"
  }
 },
 "nbformat": 4,
 "nbformat_minor": 2
}
