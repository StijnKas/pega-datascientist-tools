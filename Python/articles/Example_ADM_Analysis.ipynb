{
 "cells": [
  {
   "cell_type": "markdown",
   "metadata": {
    "nbsphinx": "hidden"
   },
   "source": [
    "## Link to article\n",
    "\n",
    "This notebook is included in the documentation, where the interactive Plotly charts show up. See:\n",
    "https://pegasystems.github.io/pega-datascientist-tools/Python/articles/Example_ADM_Analysis.html"
   ]
  },
  {
   "cell_type": "markdown",
   "metadata": {},
   "source": [
    "# Example ADM analysis\n",
    "See this notebook for an introduction to the ADMDatamart class to get an overview of the currently implemented features in the Python version of CDH Tools. If you have any suggestions for new features, please do not hesitate to raise an issue in Git, or even better: create a pull request yourself!\n",
    "\n",
    "This notebook builds upon the [Getting Started guide](https://github.com/pegasystems/pega-datascientist-tools/wiki#using-the-python-tools). "
   ]
  },
  {
   "cell_type": "markdown",
   "metadata": {},
   "source": [
    "## Reading the data\n",
    "Reading the data is quite simple. All you need to do is to give a directory location to the ADMSnapshot class and it will automatically detect the latest files and import them. There is also a default function to import the CDH Sample data directly from the internet, as you can see below:"
   ]
  },
  {
   "cell_type": "code",
   "execution_count": 1,
   "metadata": {
    "execution": {
     "iopub.execute_input": "2024-03-15T12:09:14.305048Z",
     "iopub.status.busy": "2024-03-15T12:09:14.304880Z",
     "iopub.status.idle": "2024-03-15T12:09:14.374886Z",
     "shell.execute_reply": "2024-03-15T12:09:14.374329Z"
    },
    "nbsphinx": "hidden"
   },
   "outputs": [],
   "source": [
    "# These lines are only for rendering in the docs, and are hidden through Jupyter tags\n",
    "# Do not run if you're running the notebook seperately\n",
    "\n",
    "import plotly.io as pio\n",
    "\n",
    "pio.renderers.default = \"notebook_connected\"\n",
    "\n",
    "import sys\n",
    "\n",
    "sys.path.append(\"../../../\")\n"
   ]
  },
  {
   "cell_type": "code",
   "execution_count": 2,
   "metadata": {
    "execution": {
     "iopub.execute_input": "2024-03-15T12:09:14.377034Z",
     "iopub.status.busy": "2024-03-15T12:09:14.376853Z",
     "iopub.status.idle": "2024-03-15T12:09:15.921761Z",
     "shell.execute_reply": "2024-03-15T12:09:15.921220Z"
    }
   },
   "outputs": [],
   "source": [
    "from pdstools import ADMDatamart, datasets\n",
    "import polars as pl\n",
    "\n",
    "CDHSample = datasets.CDHSample()\n"
   ]
  },
  {
   "cell_type": "markdown",
   "metadata": {},
   "source": [
    "## Visualisations\n",
    "The following visualisations are currently available in the python version of CDH Tools. See the table below for which visualisations are applicable to what types of data:"
   ]
  },
  {
   "cell_type": "code",
   "execution_count": 3,
   "metadata": {
    "execution": {
     "iopub.execute_input": "2024-03-15T12:09:15.924461Z",
     "iopub.status.busy": "2024-03-15T12:09:15.923919Z",
     "iopub.status.idle": "2024-03-15T12:09:15.932448Z",
     "shell.execute_reply": "2024-03-15T12:09:15.931992Z"
    }
   },
   "outputs": [
    {
     "data": {
      "text/html": [
       "<div><style>\n",
       ".dataframe > thead > tr,\n",
       ".dataframe > tbody > tr {\n",
       "  text-align: right;\n",
       "  white-space: pre-wrap;\n",
       "}\n",
       "</style>\n",
       "<small>shape: (13, 4)</small><table border=\"1\" class=\"dataframe\"><thead><tr><th>Type</th><th>modelData</th><th>predictorData</th><th>Multiple snapshots</th></tr><tr><td>str</td><td>i64</td><td>i64</td><td>i64</td></tr></thead><tbody><tr><td>&quot;plotPerformanc…</td><td>1</td><td>0</td><td>0</td></tr><tr><td>&quot;plotPerformanc…</td><td>1</td><td>0</td><td>1</td></tr><tr><td>&quot;plotOverTime&quot;</td><td>1</td><td>0</td><td>1</td></tr><tr><td>&quot;plotResponseCo…</td><td>1</td><td>0</td><td>1</td></tr><tr><td>&quot;plotPropositio…</td><td>1</td><td>0</td><td>0</td></tr><tr><td>&quot;plotScoreDistr…</td><td>1</td><td>1</td><td>0</td></tr><tr><td>&quot;plotPredictorB…</td><td>1</td><td>1</td><td>0</td></tr><tr><td>&quot;plotPredictorP…</td><td>1</td><td>1</td><td>0</td></tr><tr><td>&quot;plotPredictorP…</td><td>1</td><td>1</td><td>0</td></tr><tr><td>&quot;plotImpactInfl…</td><td>1</td><td>1</td><td>0</td></tr><tr><td>&quot;plotResponseGa…</td><td>1</td><td>0</td><td>0</td></tr><tr><td>&quot;plotModelsByPo…</td><td>1</td><td>0</td><td>0</td></tr><tr><td>&quot;plotTreeMap&quot;</td><td>1</td><td>0</td><td>0</td></tr></tbody></table></div>"
      ],
      "text/plain": [
       "shape: (13, 4)\n",
       "┌───────────────────────────────────┬───────────┬───────────────┬────────────────────┐\n",
       "│ Type                              ┆ modelData ┆ predictorData ┆ Multiple snapshots │\n",
       "│ ---                               ┆ ---       ┆ ---           ┆ ---                │\n",
       "│ str                               ┆ i64       ┆ i64           ┆ i64                │\n",
       "╞═══════════════════════════════════╪═══════════╪═══════════════╪════════════════════╡\n",
       "│ plotPerformanceSuccessRateBubble… ┆ 1         ┆ 0             ┆ 0                  │\n",
       "│ plotPerformanceAndSuccessRateOve… ┆ 1         ┆ 0             ┆ 1                  │\n",
       "│ plotOverTime                      ┆ 1         ┆ 0             ┆ 1                  │\n",
       "│ plotResponseCountMatrix           ┆ 1         ┆ 0             ┆ 1                  │\n",
       "│ …                                 ┆ …         ┆ …             ┆ …                  │\n",
       "│ plotImpactInfluence               ┆ 1         ┆ 1             ┆ 0                  │\n",
       "│ plotResponseGain                  ┆ 1         ┆ 0             ┆ 0                  │\n",
       "│ plotModelsByPositives             ┆ 1         ┆ 0             ┆ 0                  │\n",
       "│ plotTreeMap                       ┆ 1         ┆ 0             ┆ 0                  │\n",
       "└───────────────────────────────────┴───────────┴───────────────┴────────────────────┘"
      ]
     },
     "execution_count": 3,
     "metadata": {},
     "output_type": "execute_result"
    }
   ],
   "source": [
    "CDHSample.AvailableVisualisations\n"
   ]
  },
  {
   "cell_type": "markdown",
   "metadata": {},
   "source": [
    "As you can see, every visualisation needs modelData, a few also need predictorData, and plotPerformanceAndSuccessRateOverTime, plotOverTime and plotResponseCountMatrix are the only visualisations requiring multiple snapshots.\n",
    "\n",
    "Let's quickly go over some easy ones to see what it does below. To start out with the bubble chart, which we can simply call by calling plotPerformanceSuccessRateBubbleChart with our main class."
   ]
  },
  {
   "cell_type": "code",
   "execution_count": 4,
   "metadata": {
    "execution": {
     "iopub.execute_input": "2024-03-15T12:09:15.934560Z",
     "iopub.status.busy": "2024-03-15T12:09:15.934234Z",
     "iopub.status.idle": "2024-03-15T12:09:16.001808Z",
     "shell.execute_reply": "2024-03-15T12:09:16.001375Z"
    }
   },
   "outputs": [
    {
     "data": {
      "text/html": [
       "        <script type=\"text/javascript\">\n",
       "        window.PlotlyConfig = {MathJaxConfig: 'local'};\n",
       "        if (window.MathJax && window.MathJax.Hub && window.MathJax.Hub.Config) {window.MathJax.Hub.Config({SVG: {font: \"STIX-Web\"}});}\n",
       "        if (typeof require !== 'undefined') {\n",
       "        require.undef(\"plotly\");\n",
       "        requirejs.config({\n",
       "            paths: {\n",
       "                'plotly': ['https://cdn.plot.ly/plotly-2.30.0.min']\n",
       "            }\n",
       "        });\n",
       "        require(['plotly'], function(Plotly) {\n",
       "            window._Plotly = Plotly;\n",
       "        });\n",
       "        }\n",
       "        </script>\n",
       "        "
      ]
     },
     "metadata": {},
     "output_type": "display_data"
    },
    {
     "data": {
      "text/html": [
       "<div>                            <div id=\"5599db19-49d5-4b2d-bf8c-12a598328d83\" class=\"plotly-graph-div\" style=\"height:525px; width:100%;\"></div>            <script type=\"text/javascript\">                require([\"plotly\"], function(Plotly) {                    window.PLOTLYENV=window.PLOTLYENV || {};                                    if (document.getElementById(\"5599db19-49d5-4b2d-bf8c-12a598328d83\")) {                    Plotly.newPlot(                        \"5599db19-49d5-4b2d-bf8c-12a598328d83\",                        [{\"customdata\":[[\"f3afaa9b-d0d5-5be9-a3b9-9fdfc4847411\",\"Email\",\"Outbound\",\"Sales\",\"AutoLoans\"],[\"e4ea7a89-c394-5014-ac26-34b8eee475bd\",\"SMS\",\"Outbound\",\"Sales\",\"CreditCards\"],[\"1289c4af-1d3f-5265-9fe5-173e1ddaadc3\",\"SMS\",\"Outbound\",\"Sales\",\"HomeLoans\"],[\"3c892256-f415-5408-905d-3158345b10bf\",\"Email\",\"Outbound\",\"Sales\",\"Bundles\"],[\"a87d51fb-cfdc-598d-b84a-dcdd64e1e750\",\"Web\",\"Inbound\",\"Sales\",\"HomeLoans\"],[\"cc9b9b1b-c2f9-5e8c-a54a-f13e0559ebd6\",\"Email\",\"Outbound\",\"Sales\",\"CreditCards\"],[\"9e9e8c2e-6d19-538c-8e7b-a73070717ecf\",\"Web\",\"Inbound\",\"Sales\",\"CreditCards\"],[\"ea0a225a-7d09-5d90-88f6-d0e8380d67cc\",\"Web\",\"Inbound\",\"Sales\",\"DepositAccounts\"],[\"b27d8eb5-7ff6-5706-ae90-6d61ce695f78\",\"SMS\",\"Outbound\",\"Sales\",\"Bundles\"],[\"84107ad6-c998-5377-b0d0-e02be2a8d768\",\"Email\",\"Outbound\",\"Sales\",\"AutoLoans\"],[\"5ca51e1e-49f0-58d2-8ab7-4a0ccbb326fd\",\"SMS\",\"Outbound\",\"Sales\",\"DepositAccounts\"],[\"b216413c-8c2e-5e1b-860b-07dfc69efa69\",\"SMS\",\"Outbound\",\"Sales\",\"AutoLoans\"],[\"c8a529fb-9d2c-5069-a50f-42ee1ea9341a\",\"Web\",\"Inbound\",\"Services\",\"Account\"],[\"f9fc995f-3f02-5e9e-8e22-b72909054f3a\",\"SMS\",\"Outbound\",\"Sales\",\"AutoLoans\"],[\"59f06605-5b39-57dd-945b-637a72fa9085\",\"Web\",\"Inbound\",\"Sales\",\"CreditCards\"],[\"7ffc8c26-8473-5c8e-bcc3-48e5b162da7a\",\"SMS\",\"Outbound\",\"Sales\",\"CreditCards\"],[\"692f453a-f825-5a90-ab40-f83cbb34b058\",\"Web\",\"Inbound\",\"Sales\",\"HomeLoans\"],[\"b5338016-1fee-5745-80ee-7bd6d51f2920\",\"Email\",\"Outbound\",\"Sales\",\"CreditCards\"],[\"26dda9e0-34a2-5e0a-8ee2-fd0c39de729e\",\"SMS\",\"Outbound\",\"Sales\",\"CreditCards\"],[\"24f11deb-a6fa-59bf-b5f7-c61abffc9482\",\"Email\",\"Outbound\",\"Sales\",\"AutoLoans\"],[\"cb67c091-5a81-56f4-9845-71afa9c8076e\",\"Email\",\"Outbound\",\"Sales\",\"HomeLoans\"],[\"95ae0f10-297a-5c01-94d8-914bb89df969\",\"Web\",\"Inbound\",\"Sales\",\"DepositAccounts\"],[\"c3f445b2-6037-5560-9f16-71a7259d2c2c\",\"SMS\",\"Outbound\",\"Sales\",\"HomeLoans\"],[\"a8cde9d1-c720-537c-8fb8-8c59506bddfe\",\"Web\",\"Inbound\",\"Sales\",\"CreditCards\"],[\"34f7d1b9-92f7-57dc-ab62-0de35dda0221\",\"SMS\",\"Outbound\",\"Services\",\"Account\"],[\"69a8e56f-6327-5a66-a9a3-9b0c106641ec\",\"SMS\",\"Outbound\",\"Sales\",\"AutoLoans\"],[\"8e40882a-aacf-5f03-9be8-f833c7932da2\",\"Web\",\"Inbound\",\"Sales\",\"Bundles\"],[\"4efdb97d-288d-518f-a3e0-8314bbd7f2a3\",\"SMS\",\"Outbound\",\"Sales\",\"CreditCards\"],[\"470485f7-3b20-58f7-a3aa-1f12c2bb99b7\",\"Email\",\"Outbound\",\"Sales\",\"HomeLoans\"],[\"79e3f70f-dc6a-5bea-8006-02a6e91ad256\",\"Email\",\"Outbound\",\"Sales\",\"DepositAccounts\"],[\"98aeb30c-d896-51bd-b421-a650f0522335\",\"SMS\",\"Outbound\",\"Sales\",\"CreditCards\"],[\"08ca1302-9fc0-57bf-9031-d4179d400493\",\"Web\",\"Inbound\",\"Sales\",\"Bundles\"],[\"68e1d164-81e3-5da0-816c-0bbc3c20ac6c\",\"Web\",\"Inbound\",\"Sales\",\"AutoLoans\"],[\"c4cd4c00-87bf-562e-9ab8-20af64a81757\",\"Email\",\"Outbound\",\"Sales\",\"DepositAccounts\"],[\"c29ffcfa-5210-5998-a826-f3a8db57c610\",\"Web\",\"Inbound\",\"Sales\",\"CreditCards\"],[\"a8cd5e12-5d10-5b62-95f6-c5bb6344a83a\",\"Web\",\"Inbound\",\"Sales\",\"DepositAccounts\"],[\"708be173-0f46-55ee-add6-6fdca447a70a\",\"SMS\",\"Outbound\",\"Sales\",\"HomeLoans\"],[\"cffb1b5d-219e-5137-9036-4e2136be6a8f\",\"Email\",\"Outbound\",\"Sales\",\"DepositAccounts\"],[\"0b363d7f-68f8-5e9e-a843-40ca8849e05b\",\"Email\",\"Outbound\",\"Sales\",\"HomeLoans\"],[\"277a2c48-8888-5b71-911e-443d52c9b50f\",\"SMS\",\"Outbound\",\"Sales\",\"Bundles\"],[\"ab4592bc-df16-5372-86e7-0caea36ac877\",\"Email\",\"Outbound\",\"Sales\",\"CreditCards\"],[\"a75db3a2-fecc-5cc8-b75f-0a44447f9cca\",\"SMS\",\"Outbound\",\"Sales\",\"AutoLoans\"],[\"602303a4-5243-523d-8964-473f3ea1200b\",\"SMS\",\"Outbound\",\"Sales\",\"CreditCards\"],[\"30cc2c18-5852-581a-abaa-555bf46a3b9c\",\"Email\",\"Outbound\",\"Services\",\"Account\"],[\"320c4d01-43a5-510e-8fa8-1fc1bb4216da\",\"Email\",\"Outbound\",\"Sales\",\"Bundles\"],[\"0469930e-8d83-5c81-ba28-a8ec488f8e4d\",\"SMS\",\"Outbound\",\"Sales\",\"DepositAccounts\"],[\"d6e132b6-ad92-5ece-8db5-b42d9d151f73\",\"SMS\",\"Outbound\",\"Sales\",\"Bundles\"],[\"0ad9da35-f171-5ab9-973f-1cc4b89b4e8f\",\"Web\",\"Inbound\",\"Sales\",\"Bundles\"],[\"bd70a915-697a-5d43-ab2c-53b0557c85a0\",\"Email\",\"Outbound\",\"Sales\",\"AutoLoans\"],[\"d5e2f4b1-249a-58c0-8a2f-2d314eada5fe\",\"SMS\",\"Outbound\",\"Sales\",\"AutoLoans\"],[\"708f20ef-7ca1-58f4-9dfa-b7efb5342fcf\",\"Web\",\"Inbound\",\"Sales\",\"HomeLoans\"],[\"5cb8d642-390e-5c3e-8868-d34768f9535c\",\"Web\",\"Inbound\",\"Sales\",\"AutoLoans\"],[\"1be7cd72-741b-5d68-b148-c1af0142fd4a\",\"SMS\",\"Outbound\",\"Sales\",\"CreditCards\"],[\"838ca9ec-74ea-5a54-8c57-f45295116921\",\"SMS\",\"Outbound\",\"Services\",\"Account\"],[\"17571d69-f802-5122-9bfe-6f3f4ef9073b\",\"Web\",\"Inbound\",\"Sales\",\"CreditCards\"],[\"a63f2f06-1e31-5691-a6df-48916a066c23\",\"Email\",\"Outbound\",\"Sales\",\"DepositAccounts\"],[\"dd502275-e98b-51f7-8935-c30c84641871\",\"Web\",\"Inbound\",\"Services\",\"Account\"],[\"f38b5b50-b01b-5fd9-8120-7470320d6664\",\"SMS\",\"Outbound\",\"Sales\",\"DepositAccounts\"],[\"7d2046d5-be79-5f5a-a858-dcd9c65fd086\",\"Web\",\"Inbound\",\"Sales\",\"AutoLoans\"],[\"2c8e753a-9e85-5060-ac5b-073e79e755c0\",\"Email\",\"Outbound\",\"Sales\",\"CreditCards\"],[\"4954d7a5-b75e-5c71-89d6-e8340feb5022\",\"Email\",\"Outbound\",\"Sales\",\"DepositAccounts\"],[\"081d0acf-bfc3-5c0a-abc4-29106252efb8\",\"SMS\",\"Outbound\",\"Sales\",\"CreditCards\"],[\"aaf75ad6-c71a-5fd8-b2eb-782cdbd30337\",\"SMS\",\"Outbound\",\"Services\",\"Account\"],[\"bb02128b-d6df-52f3-9983-316f9fce47c7\",\"Email\",\"Outbound\",\"Sales\",\"CreditCards\"],[\"baae77a0-099a-5104-b7a9-b9b1a23290fc\",\"SMS\",\"Outbound\",\"Services\",\"Customer\"],[\"a7bb008a-0514-5d41-b014-3e0b1b308382\",\"SMS\",\"Outbound\",\"Sales\",\"DepositAccounts\"],[\"85d9dd89-93e5-55a0-b05f-e68bba9c97d1\",\"Email\",\"Outbound\",\"Sales\",\"CreditCards\"],[\"ebb6d905-7c43-5422-a813-f770feba7114\",\"Email\",\"Outbound\",\"Sales\",\"AutoLoans\"]],\"hovertemplate\":\"\\u003cb\\u003e%{hovertext}\\u003c\\u002fb\\u003e\\u003cbr\\u003e\\u003cbr\\u003ePerformance=%{marker.color}\\u003cbr\\u003eSuccessRate=%{y}\\u003cbr\\u003eResponseCount=%{marker.size}\\u003cbr\\u003eModelID=%{customdata[0]}\\u003cbr\\u003eChannel=%{customdata[1]}\\u003cbr\\u003eDirection=%{customdata[2]}\\u003cbr\\u003eIssue=%{customdata[3]}\\u003cbr\\u003eGroup=%{customdata[4]}\\u003cextra\\u003e\\u003c\\u002fextra\\u003e\",\"hovertext\":[\"AutoNew84Months\",\"PaymentProtection\",\"FirstMortgageFHA\",\"StudentChoice\",\"FirstMortgage\",\"IdentityTheftProtection\",\"MasterCardGold\",\"PremierChecking\",\"PremiumBanking\",\"AutoUsed60Months\",\"RegularSaving\",\"AutoUsed36Months\",\"IncreaseYourCreditLine\",\"AutoNew36Months\",\"PlatinumRewardsCard\",\"MasterCardWorld\",\"FirstMortgageFloat\",\"PaymentProtection\",\"ChannelAction_Template\",\"AutoUsed84Months\",\"FirstMortgageFHA\",\"MoneyMarketSavingsAccount\",\"FirstMortgage\",\"UPlusFinGold\",\"Services_ChannelAction_Template\",\"AutoNew48Months\",\"PremiumBanking\",\"MasterCardGold\",\"FirstMortgageFloat\",\"MoneyMarketSavingsAccount\",\"IdentityTheftProtection\",\"HomeOwners\",\"AutoNew84Months\",\"RegularSaving\",\"PaymentProtection\",\"SeniorChecking\",\"FirstMortgageFiveOneARM\",\"PremierChecking\",\"FirstMortgageFiveOneARM\",\"HomeOwners\",\"UPlusFinPersonal\",\"AutoUsed48Months\",\"UPlusFinPersonal\",\"Services_ChannelAction_Template\",\"PremiumBanking\",\"SeniorChecking\",\"SuperSaver\",\"SuperSaver\",\"AutoNew36Months\",\"AutoUsed84Months\",\"FirstMortgageFiveOneARM\",\"AutoUsed36Months\",\"VisaGold\",\"GoPaperless\",\"VisaGold\",\"BasicChecking\",\"Services_ChannelAction_Template\",\"MoneyMarketSavingsAccount\",\"AutoNew36Months\",\"UPlusFinGold\",\"SeniorChecking\",\"UPlusFinGold\",\"IncreaseYourCreditLine\",\"PlatinumRewardsCard\",\"MissingContactInformation\",\"PremierChecking\",\"MasterCardGold\",\"AutoNew48Months\"],\"legendgroup\":\"\",\"marker\":{\"color\":[64.2461,51.4945,52.7779,60.1887,64.7708,50.0,57.1711,52.4186,61.6472,65.3775,51.1978,54.2851,59.2788,60.5845,57.9772,55.1591,64.6733,52.5041,69.7884,50.0,67.6805,50.0,64.851,68.6745,71.0618,61.8246,65.264,50.0,50.0,50.0,53.0707,75.6002,77.4901,61.4512,58.1586,54.9147,65.202,52.1103,53.0007,77.3211,61.9665,69.3922,62.9893,62.9442,62.467,56.5227,61.812,75.7296,52.3734,62.2813,52.7198,57.8638,53.1863,71.2165,51.9586,51.0276,66.3954,51.3569,56.5041,53.496,54.9252,66.541,56.4527,50.0,62.2187,51.6802,50.0,58.0125],\"coloraxis\":\"coloraxis\",\"size\":[1184.0,722.0,477.0,5203.0,4076.0,808.0,835.0,4404.0,5052.0,1378.0,1221.0,1622.0,6471.0,5602.0,907.0,634.0,518.0,537.0,828.0,1243.0,362.0,1206.0,3946.0,3760.0,7287.0,5743.0,5176.0,1080.0,444.0,1096.0,855.0,4605.0,1636.0,1069.0,686.0,3024.0,482.0,3355.0,404.0,4976.0,3508.0,1447.0,3588.0,7415.0,5430.0,3424.0,1106.0,1267.0,5817.0,1347.0,449.0,1688.0,822.0,8174.0,778.0,3868.0,7073.0,1185.0,5499.0,3545.0,2883.0,3854.0,7668.0,989.0,7096.0,4658.0,875.0,5198.0],\"sizemode\":\"area\",\"sizeref\":20.435,\"symbol\":\"circle\",\"line\":{\"color\":\"black\"}},\"mode\":\"markers\",\"name\":\"\",\"orientation\":\"v\",\"showlegend\":false,\"x\":[64.2461,51.4945,52.7779,60.1887,64.7708,50.0,57.1711,52.4186,61.6472,65.3775,51.1978,54.2851,59.2788,60.5845,57.9772,55.1591,64.6733,52.5041,69.7884,50.0,67.6805,50.0,64.851,68.6745,71.0618,61.8246,65.264,50.0,50.0,50.0,53.0707,75.6002,77.4901,61.4512,58.1586,54.9147,65.202,52.1103,53.0007,77.3211,61.9665,69.3922,62.9893,62.9442,62.467,56.5227,61.812,75.7296,52.3734,62.2813,52.7198,57.8638,53.1863,71.2165,51.9586,51.0276,66.3954,51.3569,56.5041,53.496,54.9252,66.541,56.4527,50.0,62.2187,51.6802,50.0,58.0125],\"xaxis\":\"x\",\"y\":[0.056587837636470795,0.22437673807144165,0.10062892735004425,0.016913319006562233,0.22154071927070618,0.002475247485563159,0.021556885913014412,0.27770209312438965,0.020387964323163033,0.0391872264444828,0.06388206034898758,0.08754623681306839,0.04187915474176407,0.006426276173442602,0.01543550193309784,0.05678233504295349,0.025096524506807327,0.054003722965717316,0.06280193477869034,0.01045856811106205,0.03591160103678703,0.09121061116456985,0.1685250848531723,0.05930851027369499,0.03252367302775383,0.07191363722085953,0.019513137638568878,0.0027777778450399637,0.0045045046135783195,0.017335766926407814,0.011695906519889832,0.13224755227565765,0.12591686844825745,0.014031805098056793,0.25072887539863586,0.19014550745487213,0.10373444110155106,0.08703427761793137,0.024752475321292877,0.10771704465150833,0.015393386594951153,0.03524533659219742,0.05183946341276169,0.007282535545527935,0.00441988930106163,0.15829439461231232,0.12025316804647446,0.0883977934718132,0.002062919083982706,0.03711952641606331,0.1737193763256073,0.10248815268278122,0.03284671530127525,0.11059457063674927,0.05912596359848976,0.07290589809417725,0.05089778080582619,0.09957806020975113,0.024913620203733444,0.010719322599470615,0.05064169317483902,0.042812660336494446,0.026082420721650124,0.0020222447346895933,0.1894024759531021,0.2365822196006775,0.0057142856530845165,0.02751058153808117],\"yaxis\":\"y\",\"type\":\"scatter\"}],                        {\"template\":{\"layout\":{\"colorway\":[\"#001F5F\",\"#10A5AC\",\"#F76923\",\"#661D34\",\"#86CAC6\",\"#005154\",\"#86CAC6\",\"#5F67B9\",\"#FFC836\",\"#E63690\",\"#AC1361\",\"#63666F\",\"#A7A9B4\",\"#D0D1DB\"],\"hovermode\":\"closest\"}},\"xaxis\":{\"anchor\":\"y\",\"domain\":[0.0,1.0],\"title\":{\"text\":\"Performance\"}},\"yaxis\":{\"anchor\":\"x\",\"domain\":[0.0,1.0],\"title\":{\"text\":\"SuccessRate\"},\"tickformat\":\"%\"},\"coloraxis\":{\"colorbar\":{\"title\":{\"text\":\"Performance\"}},\"colorscale\":[[0.0,\"#440154\"],[0.1111111111111111,\"#482878\"],[0.2222222222222222,\"#3e4989\"],[0.3333333333333333,\"#31688e\"],[0.4444444444444444,\"#26828e\"],[0.5555555555555556,\"#1f9e89\"],[0.6666666666666666,\"#35b779\"],[0.7777777777777778,\"#6ece58\"],[0.8888888888888888,\"#b5de2b\"],[1.0,\"#fde725\"]]},\"legend\":{\"tracegroupgap\":0,\"itemsizing\":\"constant\"},\"title\":{\"text\":\"Bubble Chart over all models \\u003cbr\\u003e\\u003csup\\u003e68 models: 0 (0.0%) at (50,0)\\u003c\\u002fsup\\u003e\"}},                        {\"responsive\": true}                    ).then(function(){\n",
       "                            \n",
       "var gd = document.getElementById('5599db19-49d5-4b2d-bf8c-12a598328d83');\n",
       "var x = new MutationObserver(function (mutations, observer) {{\n",
       "        var display = window.getComputedStyle(gd).display;\n",
       "        if (!display || display === 'none') {{\n",
       "            console.log([gd, 'removed!']);\n",
       "            Plotly.purge(gd);\n",
       "            observer.disconnect();\n",
       "        }}\n",
       "}});\n",
       "\n",
       "// Listen for the removal of the full notebook cells\n",
       "var notebookContainer = gd.closest('#notebook-container');\n",
       "if (notebookContainer) {{\n",
       "    x.observe(notebookContainer, {childList: true});\n",
       "}}\n",
       "\n",
       "// Listen for the clearing of the current output cell\n",
       "var outputEl = gd.closest('.output');\n",
       "if (outputEl) {{\n",
       "    x.observe(outputEl, {childList: true});\n",
       "}}\n",
       "\n",
       "                        })                };                });            </script>        </div>"
      ]
     },
     "metadata": {},
     "output_type": "display_data"
    }
   ],
   "source": [
    "CDHSample.plotPerformanceSuccessRateBubbleChart()\n"
   ]
  },
  {
   "cell_type": "markdown",
   "metadata": {},
   "source": [
    "Looks like a healthy bubble plot, but sometimes it is useful to consider only certain models in the analysis. Note that the bubble chart automatically considers only the last snapshot by default, though this is a parameter. \n",
    "\n",
    "To reduce the information, let's only consider models with more than 500 responses within the CreditCards group. "
   ]
  },
  {
   "cell_type": "code",
   "execution_count": 5,
   "metadata": {
    "execution": {
     "iopub.execute_input": "2024-03-15T12:09:16.003922Z",
     "iopub.status.busy": "2024-03-15T12:09:16.003597Z",
     "iopub.status.idle": "2024-03-15T12:09:16.032843Z",
     "shell.execute_reply": "2024-03-15T12:09:16.032279Z"
    }
   },
   "outputs": [
    {
     "data": {
      "text/html": [
       "<div>                            <div id=\"cc62d0e8-7668-4af3-8451-d30c94429f5e\" class=\"plotly-graph-div\" style=\"height:525px; width:100%;\"></div>            <script type=\"text/javascript\">                require([\"plotly\"], function(Plotly) {                    window.PLOTLYENV=window.PLOTLYENV || {};                                    if (document.getElementById(\"cc62d0e8-7668-4af3-8451-d30c94429f5e\")) {                    Plotly.newPlot(                        \"cc62d0e8-7668-4af3-8451-d30c94429f5e\",                        [{\"customdata\":[[\"e4ea7a89-c394-5014-ac26-34b8eee475bd\",\"SMS\",\"Outbound\",\"Sales\",\"CreditCards\"],[\"cc9b9b1b-c2f9-5e8c-a54a-f13e0559ebd6\",\"Email\",\"Outbound\",\"Sales\",\"CreditCards\"],[\"9e9e8c2e-6d19-538c-8e7b-a73070717ecf\",\"Web\",\"Inbound\",\"Sales\",\"CreditCards\"],[\"59f06605-5b39-57dd-945b-637a72fa9085\",\"Web\",\"Inbound\",\"Sales\",\"CreditCards\"],[\"7ffc8c26-8473-5c8e-bcc3-48e5b162da7a\",\"SMS\",\"Outbound\",\"Sales\",\"CreditCards\"],[\"b5338016-1fee-5745-80ee-7bd6d51f2920\",\"Email\",\"Outbound\",\"Sales\",\"CreditCards\"],[\"26dda9e0-34a2-5e0a-8ee2-fd0c39de729e\",\"SMS\",\"Outbound\",\"Sales\",\"CreditCards\"],[\"a8cde9d1-c720-537c-8fb8-8c59506bddfe\",\"Web\",\"Inbound\",\"Sales\",\"CreditCards\"],[\"4efdb97d-288d-518f-a3e0-8314bbd7f2a3\",\"SMS\",\"Outbound\",\"Sales\",\"CreditCards\"],[\"98aeb30c-d896-51bd-b421-a650f0522335\",\"SMS\",\"Outbound\",\"Sales\",\"CreditCards\"],[\"c29ffcfa-5210-5998-a826-f3a8db57c610\",\"Web\",\"Inbound\",\"Sales\",\"CreditCards\"],[\"ab4592bc-df16-5372-86e7-0caea36ac877\",\"Email\",\"Outbound\",\"Sales\",\"CreditCards\"],[\"602303a4-5243-523d-8964-473f3ea1200b\",\"SMS\",\"Outbound\",\"Sales\",\"CreditCards\"],[\"1be7cd72-741b-5d68-b148-c1af0142fd4a\",\"SMS\",\"Outbound\",\"Sales\",\"CreditCards\"],[\"17571d69-f802-5122-9bfe-6f3f4ef9073b\",\"Web\",\"Inbound\",\"Sales\",\"CreditCards\"],[\"2c8e753a-9e85-5060-ac5b-073e79e755c0\",\"Email\",\"Outbound\",\"Sales\",\"CreditCards\"],[\"081d0acf-bfc3-5c0a-abc4-29106252efb8\",\"SMS\",\"Outbound\",\"Sales\",\"CreditCards\"],[\"bb02128b-d6df-52f3-9983-316f9fce47c7\",\"Email\",\"Outbound\",\"Sales\",\"CreditCards\"],[\"85d9dd89-93e5-55a0-b05f-e68bba9c97d1\",\"Email\",\"Outbound\",\"Sales\",\"CreditCards\"]],\"hovertemplate\":\"\\u003cb\\u003e%{hovertext}\\u003c\\u002fb\\u003e\\u003cbr\\u003e\\u003cbr\\u003ePerformance=%{marker.color}\\u003cbr\\u003eSuccessRate=%{y}\\u003cbr\\u003eResponseCount=%{marker.size}\\u003cbr\\u003eModelID=%{customdata[0]}\\u003cbr\\u003eChannel=%{customdata[1]}\\u003cbr\\u003eDirection=%{customdata[2]}\\u003cbr\\u003eIssue=%{customdata[3]}\\u003cbr\\u003eGroup=%{customdata[4]}\\u003cextra\\u003e\\u003c\\u002fextra\\u003e\",\"hovertext\":[\"PaymentProtection\",\"IdentityTheftProtection\",\"MasterCardGold\",\"PlatinumRewardsCard\",\"MasterCardWorld\",\"PaymentProtection\",\"ChannelAction_Template\",\"UPlusFinGold\",\"MasterCardGold\",\"IdentityTheftProtection\",\"PaymentProtection\",\"UPlusFinPersonal\",\"UPlusFinPersonal\",\"VisaGold\",\"VisaGold\",\"UPlusFinGold\",\"UPlusFinGold\",\"PlatinumRewardsCard\",\"MasterCardGold\"],\"legendgroup\":\"\",\"marker\":{\"color\":[51.4945,50.0,57.1711,57.9772,55.1591,52.5041,69.7884,68.6745,50.0,53.0707,58.1586,61.9665,62.9893,53.1863,51.9586,53.496,66.541,50.0,50.0],\"coloraxis\":\"coloraxis\",\"size\":[722.0,808.0,835.0,907.0,634.0,537.0,828.0,3760.0,1080.0,855.0,686.0,3508.0,3588.0,822.0,778.0,3545.0,3854.0,989.0,875.0],\"sizemode\":\"area\",\"sizeref\":9.635,\"symbol\":\"circle\",\"line\":{\"color\":\"black\"}},\"mode\":\"markers\",\"name\":\"\",\"orientation\":\"v\",\"showlegend\":false,\"x\":[51.4945,50.0,57.1711,57.9772,55.1591,52.5041,69.7884,68.6745,50.0,53.0707,58.1586,61.9665,62.9893,53.1863,51.9586,53.496,66.541,50.0,50.0],\"xaxis\":\"x\",\"y\":[0.22437673807144165,0.002475247485563159,0.021556885913014412,0.01543550193309784,0.05678233504295349,0.054003722965717316,0.06280193477869034,0.05930851027369499,0.0027777778450399637,0.011695906519889832,0.25072887539863586,0.015393386594951153,0.05183946341276169,0.03284671530127525,0.05912596359848976,0.010719322599470615,0.042812660336494446,0.0020222447346895933,0.0057142856530845165],\"yaxis\":\"y\",\"type\":\"scatter\"}],                        {\"template\":{\"layout\":{\"colorway\":[\"#001F5F\",\"#10A5AC\",\"#F76923\",\"#661D34\",\"#86CAC6\",\"#005154\",\"#86CAC6\",\"#5F67B9\",\"#FFC836\",\"#E63690\",\"#AC1361\",\"#63666F\",\"#A7A9B4\",\"#D0D1DB\"],\"hovermode\":\"closest\"}},\"xaxis\":{\"anchor\":\"y\",\"domain\":[0.0,1.0],\"title\":{\"text\":\"Performance\"}},\"yaxis\":{\"anchor\":\"x\",\"domain\":[0.0,1.0],\"title\":{\"text\":\"SuccessRate\"},\"tickformat\":\"%\"},\"coloraxis\":{\"colorbar\":{\"title\":{\"text\":\"Performance\"}},\"colorscale\":[[0.0,\"#440154\"],[0.1111111111111111,\"#482878\"],[0.2222222222222222,\"#3e4989\"],[0.3333333333333333,\"#31688e\"],[0.4444444444444444,\"#26828e\"],[0.5555555555555556,\"#1f9e89\"],[0.6666666666666666,\"#35b779\"],[0.7777777777777778,\"#6ece58\"],[0.8888888888888888,\"#b5de2b\"],[1.0,\"#fde725\"]]},\"legend\":{\"tracegroupgap\":0,\"itemsizing\":\"constant\"},\"title\":{\"text\":\"Bubble Chart over all models \\u003cbr\\u003e\\u003csup\\u003e19 models: 0 (0.0%) at (50,0)\\u003c\\u002fsup\\u003e\\u003cbr\\u003e\\u003csup\\u003eQuery: [([(col(\\\"ResponseCount\\\")) \\u003e (500)]) & ([(col(\\\"Group\\\")) == (Utf8(CreditCards))])]\\u003c\\u002fsup\\u003e\"}},                        {\"responsive\": true}                    ).then(function(){\n",
       "                            \n",
       "var gd = document.getElementById('cc62d0e8-7668-4af3-8451-d30c94429f5e');\n",
       "var x = new MutationObserver(function (mutations, observer) {{\n",
       "        var display = window.getComputedStyle(gd).display;\n",
       "        if (!display || display === 'none') {{\n",
       "            console.log([gd, 'removed!']);\n",
       "            Plotly.purge(gd);\n",
       "            observer.disconnect();\n",
       "        }}\n",
       "}});\n",
       "\n",
       "// Listen for the removal of the full notebook cells\n",
       "var notebookContainer = gd.closest('#notebook-container');\n",
       "if (notebookContainer) {{\n",
       "    x.observe(notebookContainer, {childList: true});\n",
       "}}\n",
       "\n",
       "// Listen for the clearing of the current output cell\n",
       "var outputEl = gd.closest('.output');\n",
       "if (outputEl) {{\n",
       "    x.observe(outputEl, {childList: true});\n",
       "}}\n",
       "\n",
       "                        })                };                });            </script>        </div>"
      ]
     },
     "metadata": {},
     "output_type": "display_data"
    }
   ],
   "source": [
    "query = (pl.col(\"ResponseCount\") > 500) & (pl.col(\"Group\") == \"CreditCards\")\n",
    "CDHSample.plotPerformanceSuccessRateBubbleChart(query=query)\n"
   ]
  },
  {
   "cell_type": "markdown",
   "metadata": {},
   "source": [
    "Alternatively, we could only look at the top n best performing models within our query. To do this, we need to supply a list of model IDs which we can easily extract from the data as such.\n",
    "\n",
    "Note here the alternative querying syntax you can use, which was default in the previous version of CDH Tools: if you have a list (list) to subset a column's values with, you can simply supply a dictionary with 'column name':list to only get values in that list for that column."
   ]
  },
  {
   "cell_type": "code",
   "execution_count": 6,
   "metadata": {
    "execution": {
     "iopub.execute_input": "2024-03-15T12:09:16.034841Z",
     "iopub.status.busy": "2024-03-15T12:09:16.034532Z",
     "iopub.status.idle": "2024-03-15T12:09:16.063336Z",
     "shell.execute_reply": "2024-03-15T12:09:16.062801Z"
    }
   },
   "outputs": [
    {
     "data": {
      "text/html": [
       "<div>                            <div id=\"92d38dbf-1172-4ec2-a4ee-0aea6e899e5e\" class=\"plotly-graph-div\" style=\"height:525px; width:100%;\"></div>            <script type=\"text/javascript\">                require([\"plotly\"], function(Plotly) {                    window.PLOTLYENV=window.PLOTLYENV || {};                                    if (document.getElementById(\"92d38dbf-1172-4ec2-a4ee-0aea6e899e5e\")) {                    Plotly.newPlot(                        \"92d38dbf-1172-4ec2-a4ee-0aea6e899e5e\",                        [{\"customdata\":[[\"f3afaa9b-d0d5-5be9-a3b9-9fdfc4847411\",\"Email\",\"Outbound\",\"Sales\",\"AutoLoans\"],[\"a87d51fb-cfdc-598d-b84a-dcdd64e1e750\",\"Web\",\"Inbound\",\"Sales\",\"HomeLoans\"],[\"b27d8eb5-7ff6-5706-ae90-6d61ce695f78\",\"SMS\",\"Outbound\",\"Sales\",\"Bundles\"],[\"84107ad6-c998-5377-b0d0-e02be2a8d768\",\"Email\",\"Outbound\",\"Sales\",\"AutoLoans\"],[\"f9fc995f-3f02-5e9e-8e22-b72909054f3a\",\"SMS\",\"Outbound\",\"Sales\",\"AutoLoans\"],[\"692f453a-f825-5a90-ab40-f83cbb34b058\",\"Web\",\"Inbound\",\"Sales\",\"HomeLoans\"],[\"26dda9e0-34a2-5e0a-8ee2-fd0c39de729e\",\"SMS\",\"Outbound\",\"Sales\",\"CreditCards\"],[\"cb67c091-5a81-56f4-9845-71afa9c8076e\",\"Email\",\"Outbound\",\"Sales\",\"HomeLoans\"],[\"c3f445b2-6037-5560-9f16-71a7259d2c2c\",\"SMS\",\"Outbound\",\"Sales\",\"HomeLoans\"],[\"a8cde9d1-c720-537c-8fb8-8c59506bddfe\",\"Web\",\"Inbound\",\"Sales\",\"CreditCards\"],[\"34f7d1b9-92f7-57dc-ab62-0de35dda0221\",\"SMS\",\"Outbound\",\"Services\",\"Account\"],[\"69a8e56f-6327-5a66-a9a3-9b0c106641ec\",\"SMS\",\"Outbound\",\"Sales\",\"AutoLoans\"],[\"8e40882a-aacf-5f03-9be8-f833c7932da2\",\"Web\",\"Inbound\",\"Sales\",\"Bundles\"],[\"08ca1302-9fc0-57bf-9031-d4179d400493\",\"Web\",\"Inbound\",\"Sales\",\"Bundles\"],[\"68e1d164-81e3-5da0-816c-0bbc3c20ac6c\",\"Web\",\"Inbound\",\"Sales\",\"AutoLoans\"],[\"c4cd4c00-87bf-562e-9ab8-20af64a81757\",\"Email\",\"Outbound\",\"Sales\",\"DepositAccounts\"],[\"708be173-0f46-55ee-add6-6fdca447a70a\",\"SMS\",\"Outbound\",\"Sales\",\"HomeLoans\"],[\"277a2c48-8888-5b71-911e-443d52c9b50f\",\"SMS\",\"Outbound\",\"Sales\",\"Bundles\"],[\"ab4592bc-df16-5372-86e7-0caea36ac877\",\"Email\",\"Outbound\",\"Sales\",\"CreditCards\"],[\"a75db3a2-fecc-5cc8-b75f-0a44447f9cca\",\"SMS\",\"Outbound\",\"Sales\",\"AutoLoans\"],[\"602303a4-5243-523d-8964-473f3ea1200b\",\"SMS\",\"Outbound\",\"Sales\",\"CreditCards\"],[\"30cc2c18-5852-581a-abaa-555bf46a3b9c\",\"Email\",\"Outbound\",\"Services\",\"Account\"],[\"320c4d01-43a5-510e-8fa8-1fc1bb4216da\",\"Email\",\"Outbound\",\"Sales\",\"Bundles\"],[\"d6e132b6-ad92-5ece-8db5-b42d9d151f73\",\"SMS\",\"Outbound\",\"Sales\",\"Bundles\"],[\"0ad9da35-f171-5ab9-973f-1cc4b89b4e8f\",\"Web\",\"Inbound\",\"Sales\",\"Bundles\"],[\"d5e2f4b1-249a-58c0-8a2f-2d314eada5fe\",\"SMS\",\"Outbound\",\"Sales\",\"AutoLoans\"],[\"838ca9ec-74ea-5a54-8c57-f45295116921\",\"SMS\",\"Outbound\",\"Services\",\"Account\"],[\"dd502275-e98b-51f7-8935-c30c84641871\",\"Web\",\"Inbound\",\"Services\",\"Account\"],[\"081d0acf-bfc3-5c0a-abc4-29106252efb8\",\"SMS\",\"Outbound\",\"Sales\",\"CreditCards\"],[\"baae77a0-099a-5104-b7a9-b9b1a23290fc\",\"SMS\",\"Outbound\",\"Services\",\"Customer\"]],\"hovertemplate\":\"\\u003cb\\u003e%{hovertext}\\u003c\\u002fb\\u003e\\u003cbr\\u003e\\u003cbr\\u003ePerformance=%{marker.color}\\u003cbr\\u003eSuccessRate=%{y}\\u003cbr\\u003eResponseCount=%{marker.size}\\u003cbr\\u003eModelID=%{customdata[0]}\\u003cbr\\u003eChannel=%{customdata[1]}\\u003cbr\\u003eDirection=%{customdata[2]}\\u003cbr\\u003eIssue=%{customdata[3]}\\u003cbr\\u003eGroup=%{customdata[4]}\\u003cextra\\u003e\\u003c\\u002fextra\\u003e\",\"hovertext\":[\"AutoNew84Months\",\"FirstMortgage\",\"PremiumBanking\",\"AutoUsed60Months\",\"AutoNew36Months\",\"FirstMortgageFloat\",\"ChannelAction_Template\",\"FirstMortgageFHA\",\"FirstMortgage\",\"UPlusFinGold\",\"Services_ChannelAction_Template\",\"AutoNew48Months\",\"PremiumBanking\",\"HomeOwners\",\"AutoNew84Months\",\"RegularSaving\",\"FirstMortgageFiveOneARM\",\"HomeOwners\",\"UPlusFinPersonal\",\"AutoUsed48Months\",\"UPlusFinPersonal\",\"Services_ChannelAction_Template\",\"PremiumBanking\",\"SuperSaver\",\"SuperSaver\",\"AutoUsed84Months\",\"GoPaperless\",\"Services_ChannelAction_Template\",\"UPlusFinGold\",\"MissingContactInformation\"],\"legendgroup\":\"\",\"marker\":{\"color\":[64.2461,64.7708,61.6472,65.3775,60.5845,64.6733,69.7884,67.6805,64.851,68.6745,71.0618,61.8246,65.264,75.6002,77.4901,61.4512,65.202,77.3211,61.9665,69.3922,62.9893,62.9442,62.467,61.812,75.7296,62.2813,71.2165,66.3954,66.541,62.2187],\"coloraxis\":\"coloraxis\",\"size\":[1184.0,4076.0,5052.0,1378.0,5602.0,518.0,828.0,362.0,3946.0,3760.0,7287.0,5743.0,5176.0,4605.0,1636.0,1069.0,482.0,4976.0,3508.0,1447.0,3588.0,7415.0,5430.0,1106.0,1267.0,1347.0,8174.0,7073.0,3854.0,7096.0],\"sizemode\":\"area\",\"sizeref\":20.435,\"symbol\":\"circle\",\"line\":{\"color\":\"black\"}},\"mode\":\"markers\",\"name\":\"\",\"orientation\":\"v\",\"showlegend\":false,\"x\":[64.2461,64.7708,61.6472,65.3775,60.5845,64.6733,69.7884,67.6805,64.851,68.6745,71.0618,61.8246,65.264,75.6002,77.4901,61.4512,65.202,77.3211,61.9665,69.3922,62.9893,62.9442,62.467,61.812,75.7296,62.2813,71.2165,66.3954,66.541,62.2187],\"xaxis\":\"x\",\"y\":[0.056587837636470795,0.22154071927070618,0.020387964323163033,0.0391872264444828,0.006426276173442602,0.025096524506807327,0.06280193477869034,0.03591160103678703,0.1685250848531723,0.05930851027369499,0.03252367302775383,0.07191363722085953,0.019513137638568878,0.13224755227565765,0.12591686844825745,0.014031805098056793,0.10373444110155106,0.10771704465150833,0.015393386594951153,0.03524533659219742,0.05183946341276169,0.007282535545527935,0.00441988930106163,0.12025316804647446,0.0883977934718132,0.03711952641606331,0.11059457063674927,0.05089778080582619,0.042812660336494446,0.1894024759531021],\"yaxis\":\"y\",\"type\":\"scatter\"}],                        {\"template\":{\"layout\":{\"colorway\":[\"#001F5F\",\"#10A5AC\",\"#F76923\",\"#661D34\",\"#86CAC6\",\"#005154\",\"#86CAC6\",\"#5F67B9\",\"#FFC836\",\"#E63690\",\"#AC1361\",\"#63666F\",\"#A7A9B4\",\"#D0D1DB\"],\"hovermode\":\"closest\"}},\"xaxis\":{\"anchor\":\"y\",\"domain\":[0.0,1.0],\"title\":{\"text\":\"Performance\"}},\"yaxis\":{\"anchor\":\"x\",\"domain\":[0.0,1.0],\"title\":{\"text\":\"SuccessRate\"},\"tickformat\":\"%\"},\"coloraxis\":{\"colorbar\":{\"title\":{\"text\":\"Performance\"}},\"colorscale\":[[0.0,\"#440154\"],[0.1111111111111111,\"#482878\"],[0.2222222222222222,\"#3e4989\"],[0.3333333333333333,\"#31688e\"],[0.4444444444444444,\"#26828e\"],[0.5555555555555556,\"#1f9e89\"],[0.6666666666666666,\"#35b779\"],[0.7777777777777778,\"#6ece58\"],[0.8888888888888888,\"#b5de2b\"],[1.0,\"#fde725\"]]},\"legend\":{\"tracegroupgap\":0,\"itemsizing\":\"constant\"},\"title\":{\"text\":\"Bubble Chart over all models \\u003cbr\\u003e\\u003csup\\u003e30 models: 0 (0.0%) at (50,0)\\u003c\\u002fsup\\u003e\\u003cbr\\u003e\\u003csup\\u003eQuery: {'ModelID': ['68e1d164-81e3-5da0-816c-0bbc3c20ac6c', '277a2c48-8888-5b71-911e-443d52c9b50f', '0ad9da35-f171-5ab9-973f-1cc4b89b4e8f', '08ca1302-9fc0-57bf-9031-d4179d400493', '838ca9ec-74ea-5a54-8c57-f45295116921', '34f7d1b9-92f7-57dc-ab62-0de35dda0221', '26dda9e0-34a2-5e0a-8ee2-fd0c39de729e', 'a75db3a2-fecc-5cc8-b75f-0a44447f9cca', 'a8cde9d1-c720-537c-8fb8-8c59506bddfe', 'cb67c091-5a81-56f4-9845-71afa9c8076e', '081d0acf-bfc3-5c0a-abc4-29106252efb8', 'dd502275-e98b-51f7-8935-c30c84641871', '84107ad6-c998-5377-b0d0-e02be2a8d768', '8e40882a-aacf-5f03-9be8-f833c7932da2', '708be173-0f46-55ee-add6-6fdca447a70a', 'c3f445b2-6037-5560-9f16-71a7259d2c2c', 'a87d51fb-cfdc-598d-b84a-dcdd64e1e750', '692f453a-f825-5a90-ab40-f83cbb34b058', 'f3afaa9b-d0d5-5be9-a3b9-9fdfc4847411', '602303a4-5243-523d-8964-473f3ea1200b', '30cc2c18-5852-581a-abaa-555bf46a3b9c', '320c4d01-43a5-510e-8fa8-1fc1bb4216da', 'd5e2f4b1-249a-58c0-8a2f-2d314eada5fe', 'baae77a0-099a-5104-b7a9-b9b1a23290fc', 'ab4592bc-df16-5372-86e7-0caea36ac877', '69a8e56f-6327-5a66-a9a3-9b0c106641ec', 'd6e132b6-ad92-5ece-8db5-b42d9d151f73', 'b27d8eb5-7ff6-5706-ae90-6d61ce695f78', 'c4cd4c00-87bf-562e-9ab8-20af64a81757', 'f9fc995f-3f02-5e9e-8e22-b72909054f3a']}\\u003c\\u002fsup\\u003e\"}},                        {\"responsive\": true}                    ).then(function(){\n",
       "                            \n",
       "var gd = document.getElementById('92d38dbf-1172-4ec2-a4ee-0aea6e899e5e');\n",
       "var x = new MutationObserver(function (mutations, observer) {{\n",
       "        var display = window.getComputedStyle(gd).display;\n",
       "        if (!display || display === 'none') {{\n",
       "            console.log([gd, 'removed!']);\n",
       "            Plotly.purge(gd);\n",
       "            observer.disconnect();\n",
       "        }}\n",
       "}});\n",
       "\n",
       "// Listen for the removal of the full notebook cells\n",
       "var notebookContainer = gd.closest('#notebook-container');\n",
       "if (notebookContainer) {{\n",
       "    x.observe(notebookContainer, {childList: true});\n",
       "}}\n",
       "\n",
       "// Listen for the clearing of the current output cell\n",
       "var outputEl = gd.closest('.output');\n",
       "if (outputEl) {{\n",
       "    x.observe(outputEl, {childList: true});\n",
       "}}\n",
       "\n",
       "                        })                };                });            </script>        </div>"
      ]
     },
     "metadata": {},
     "output_type": "display_data"
    }
   ],
   "source": [
    "top30ids = (\n",
    "    CDHSample.last(strategy='lazy').sort(\"Performance\", descending=True)\n",
    "    .select(\"ModelID\")\n",
    "    .head(30)\n",
    "    .collect()\n",
    "    .to_series()\n",
    "    .to_list()\n",
    ")\n",
    "\n",
    "CDHSample.plotPerformanceSuccessRateBubbleChart(query={\"ModelID\": top30ids})\n"
   ]
  },
  {
   "cell_type": "markdown",
   "metadata": {},
   "source": [
    "The bubble chart gives some information about which models perform well, but that is not always informative: if we don't know in which channels, issues or groups our issues lie then we may not be looking in the right place. This is where the Treemap visualisation is quite handy. "
   ]
  },
  {
   "cell_type": "code",
   "execution_count": 7,
   "metadata": {
    "execution": {
     "iopub.execute_input": "2024-03-15T12:09:16.065332Z",
     "iopub.status.busy": "2024-03-15T12:09:16.065006Z",
     "iopub.status.idle": "2024-03-15T12:09:16.263261Z",
     "shell.execute_reply": "2024-03-15T12:09:16.262767Z"
    }
   },
   "outputs": [
    {
     "data": {
      "text/html": [
       "<div>                            <div id=\"6077dd68-a5bc-47ea-a84d-726a9767a88a\" class=\"plotly-graph-div\" style=\"height:525px; width:100%;\"></div>            <script type=\"text/javascript\">                require([\"plotly\"], function(Plotly) {                    window.PLOTLYENV=window.PLOTLYENV || {};                                    if (document.getElementById(\"6077dd68-a5bc-47ea-a84d-726a9767a88a\")) {                    Plotly.newPlot(                        \"6077dd68-a5bc-47ea-a84d-726a9767a88a\",                        [{\"branchvalues\":\"total\",\"customdata\":[[2,0.0,13544.0,4.6388468742370605,62.99525834317778,631.0],[1,0.0,7415.0,0.7282535433769226,62.944199999999995,54.0],[3,0.0,23129.0,5.640022277832031,66.27309054433826,1341.0],[3,0.0,8823.0,8.443954467773438,60.655552975178516,516.0],[5,0.0,14820.0,2.716142416000366,56.309893400809734,289.0],[5,0.0,15761.0,4.765020370483398,61.34172346297822,692.0],[3,0.0,11048.0,8.00528335571289,70.77251884503983,822.0],[2,0.0,10633.0,1.0666604042053223,61.35216929370826,112.0],[3,0.0,11134.0,8.278606414794922,68.66853960840668,772.0],[5,0.0,6966.0,8.123114585876465,63.00027265288544,473.0],[6,0.0,10262.0,1.5054700374603271,55.4294000877022,130.0],[8,0.0,12383.0,6.074169158935547,61.00976363562949,641.0],[1,0.0,7096.0,18.940248489379883,62.21869999999999,1344.0],[3,0.0,8634.0,18.635272979736328,52.95501125781792,1908.0],[5,0.0,12271.0,4.838988780975342,53.05561875152798,754.0],[4,0.0,10488.0,13.958417892456055,53.16843408657515,1840.0],[3,0.0,5043.0,14.01188850402832,63.687832718619866,994.0],[3,0.0,1210.0,2.172286033630371,56.29142462809917,25.0],[3,0.0,4905.0,12.429615020751953,63.7114104587156,763.0],[17,0.0,\"(?)\",\"(?)\",62.30671239143503,\"(?)\"],[21,0.0,\"(?)\",\"(?)\",55.76107494093408,\"(?)\"],[23,0.0,\"(?)\",\"(?)\",61.06957882380845,\"(?)\"],[2,0.0,13544.0,4.6388468742370605,62.99525834317778,631.0],[1,0.0,7415.0,0.7282535433769226,62.944199999999995,54.0],[4,0.0,\"(?)\",\"(?)\",65.25949290825369,\"(?)\"],[19,0.0,\"(?)\",\"(?)\",62.3791909126711,\"(?)\"],[22,0.0,\"(?)\",\"(?)\",56.08758062543707,\"(?)\"],[27,0.0,\"(?)\",\"(?)\",61.690306836318854,\"(?)\"],[22,0.0,\"(?)\",\"(?)\",56.08758062543707,\"(?)\"],[27,0.0,\"(?)\",\"(?)\",61.690306836318854,\"(?)\"],[19,0.0,\"(?)\",\"(?)\",62.3791909126711,\"(?)\"],[68,0.0,\"(?)\",\"(?)\",60.07014243648494,\"(?)\"]],\"domain\":{\"x\":[0.0,1.0],\"y\":[0.0,1.0]},\"hovertemplate\":\"labels=%{label}\\u003cbr\\u003eModel count=%{customdata[0]:.d}\\u003cbr\\u003eparent=%{parent}\\u003cbr\\u003eid=%{id}\\u003cbr\\u003ePercentage without responses=%{customdata[1]:.0%}\\u003cbr\\u003eResponse Count sum=%{customdata[2]:.d}\\u003cbr\\u003e(%) Success Rate mean=%{customdata[3]:.3f}\\u003cbr\\u003ePerformance weighted mean=%{color:.2f}\\u003cbr\\u003ePositives sum=%{customdata[5]:.d}\\u003cextra\\u003e\\u003c\\u002fextra\\u003e\",\"ids\":[\"All contexts\\u002fWeb\\u002fInbound\\u002fServices\\u002fAccount\",\"All contexts\\u002fEmail\\u002fOutbound\\u002fServices\\u002fAccount\",\"All contexts\\u002fSMS\\u002fOutbound\\u002fServices\\u002fAccount\",\"All contexts\\u002fWeb\\u002fInbound\\u002fSales\\u002fAutoLoans\",\"All contexts\\u002fEmail\\u002fOutbound\\u002fSales\\u002fAutoLoans\",\"All contexts\\u002fSMS\\u002fOutbound\\u002fSales\\u002fAutoLoans\",\"All contexts\\u002fWeb\\u002fInbound\\u002fSales\\u002fBundles\",\"All contexts\\u002fEmail\\u002fOutbound\\u002fSales\\u002fBundles\",\"All contexts\\u002fSMS\\u002fOutbound\\u002fSales\\u002fBundles\",\"All contexts\\u002fWeb\\u002fInbound\\u002fSales\\u002fCreditCards\",\"All contexts\\u002fEmail\\u002fOutbound\\u002fSales\\u002fCreditCards\",\"All contexts\\u002fSMS\\u002fOutbound\\u002fSales\\u002fCreditCards\",\"All contexts\\u002fSMS\\u002fOutbound\\u002fServices\\u002fCustomer\",\"All contexts\\u002fWeb\\u002fInbound\\u002fSales\\u002fDepositAccounts\",\"All contexts\\u002fEmail\\u002fOutbound\\u002fSales\\u002fDepositAccounts\",\"All contexts\\u002fSMS\\u002fOutbound\\u002fSales\\u002fDepositAccounts\",\"All contexts\\u002fWeb\\u002fInbound\\u002fSales\\u002fHomeLoans\",\"All contexts\\u002fEmail\\u002fOutbound\\u002fSales\\u002fHomeLoans\",\"All contexts\\u002fSMS\\u002fOutbound\\u002fSales\\u002fHomeLoans\",\"All contexts\\u002fWeb\\u002fInbound\\u002fSales\",\"All contexts\\u002fEmail\\u002fOutbound\\u002fSales\",\"All contexts\\u002fSMS\\u002fOutbound\\u002fSales\",\"All contexts\\u002fWeb\\u002fInbound\\u002fServices\",\"All contexts\\u002fEmail\\u002fOutbound\\u002fServices\",\"All contexts\\u002fSMS\\u002fOutbound\\u002fServices\",\"All contexts\\u002fWeb\\u002fInbound\",\"All contexts\\u002fEmail\\u002fOutbound\",\"All contexts\\u002fSMS\\u002fOutbound\",\"All contexts\\u002fEmail\",\"All contexts\\u002fSMS\",\"All contexts\\u002fWeb\",\"All contexts\"],\"labels\":[\"Account\",\"Account\",\"Account\",\"AutoLoans\",\"AutoLoans\",\"AutoLoans\",\"Bundles\",\"Bundles\",\"Bundles\",\"CreditCards\",\"CreditCards\",\"CreditCards\",\"Customer\",\"DepositAccounts\",\"DepositAccounts\",\"DepositAccounts\",\"HomeLoans\",\"HomeLoans\",\"HomeLoans\",\"Sales\",\"Sales\",\"Sales\",\"Services\",\"Services\",\"Services\",\"Inbound\",\"Outbound\",\"Outbound\",\"Email\",\"SMS\",\"Web\",\"All contexts\"],\"marker\":{\"coloraxis\":\"coloraxis\",\"colors\":[62.99525834317778,62.944199999999995,66.27309054433826,60.655552975178516,56.309893400809734,61.34172346297822,70.77251884503983,61.35216929370826,68.66853960840668,63.00027265288544,55.4294000877022,61.00976363562949,62.21869999999999,52.95501125781792,53.05561875152798,53.16843408657515,63.687832718619866,56.29142462809917,63.7114104587156,62.30671239143503,55.76107494093408,61.06957882380845,62.99525834317778,62.944199999999995,65.25949290825369,62.3791909126711,56.08758062543707,61.690306836318854,56.08758062543707,61.690306836318854,62.3791909126711,60.07014243648494]},\"name\":\"\",\"parents\":[\"All contexts\\u002fWeb\\u002fInbound\\u002fServices\",\"All contexts\\u002fEmail\\u002fOutbound\\u002fServices\",\"All contexts\\u002fSMS\\u002fOutbound\\u002fServices\",\"All contexts\\u002fWeb\\u002fInbound\\u002fSales\",\"All contexts\\u002fEmail\\u002fOutbound\\u002fSales\",\"All contexts\\u002fSMS\\u002fOutbound\\u002fSales\",\"All contexts\\u002fWeb\\u002fInbound\\u002fSales\",\"All contexts\\u002fEmail\\u002fOutbound\\u002fSales\",\"All contexts\\u002fSMS\\u002fOutbound\\u002fSales\",\"All contexts\\u002fWeb\\u002fInbound\\u002fSales\",\"All contexts\\u002fEmail\\u002fOutbound\\u002fSales\",\"All contexts\\u002fSMS\\u002fOutbound\\u002fSales\",\"All contexts\\u002fSMS\\u002fOutbound\\u002fServices\",\"All contexts\\u002fWeb\\u002fInbound\\u002fSales\",\"All contexts\\u002fEmail\\u002fOutbound\\u002fSales\",\"All contexts\\u002fSMS\\u002fOutbound\\u002fSales\",\"All contexts\\u002fWeb\\u002fInbound\\u002fSales\",\"All contexts\\u002fEmail\\u002fOutbound\\u002fSales\",\"All contexts\\u002fSMS\\u002fOutbound\\u002fSales\",\"All contexts\\u002fWeb\\u002fInbound\",\"All contexts\\u002fEmail\\u002fOutbound\",\"All contexts\\u002fSMS\\u002fOutbound\",\"All contexts\\u002fWeb\\u002fInbound\",\"All contexts\\u002fEmail\\u002fOutbound\",\"All contexts\\u002fSMS\\u002fOutbound\",\"All contexts\\u002fWeb\",\"All contexts\\u002fEmail\",\"All contexts\\u002fSMS\",\"All contexts\",\"All contexts\",\"All contexts\",\"\"],\"values\":[2,1,3,3,5,5,3,2,3,5,6,8,1,3,5,4,3,3,3,17,21,23,2,1,4,19,22,27,22,27,19,68],\"type\":\"treemap\",\"text\":[62.995,62.944,66.273,60.656,56.31,61.342,70.773,61.352,68.669,63.0,55.429,61.01,62.219,52.955,53.056,53.168,63.688,56.291,63.711,62.307,55.761,61.07,62.995,62.944,65.259,62.379,56.088,61.69,56.088,61.69,62.379,60.07],\"textinfo\":\"label+text\",\"texttemplate\":\"%{label}\\u003cbr\\u003e%{text:.2f}%\"}],                        {\"template\":{\"data\":{\"histogram2dcontour\":[{\"type\":\"histogram2dcontour\",\"colorbar\":{\"outlinewidth\":0,\"ticks\":\"\"},\"colorscale\":[[0.0,\"#0d0887\"],[0.1111111111111111,\"#46039f\"],[0.2222222222222222,\"#7201a8\"],[0.3333333333333333,\"#9c179e\"],[0.4444444444444444,\"#bd3786\"],[0.5555555555555556,\"#d8576b\"],[0.6666666666666666,\"#ed7953\"],[0.7777777777777778,\"#fb9f3a\"],[0.8888888888888888,\"#fdca26\"],[1.0,\"#f0f921\"]]}],\"choropleth\":[{\"type\":\"choropleth\",\"colorbar\":{\"outlinewidth\":0,\"ticks\":\"\"}}],\"histogram2d\":[{\"type\":\"histogram2d\",\"colorbar\":{\"outlinewidth\":0,\"ticks\":\"\"},\"colorscale\":[[0.0,\"#0d0887\"],[0.1111111111111111,\"#46039f\"],[0.2222222222222222,\"#7201a8\"],[0.3333333333333333,\"#9c179e\"],[0.4444444444444444,\"#bd3786\"],[0.5555555555555556,\"#d8576b\"],[0.6666666666666666,\"#ed7953\"],[0.7777777777777778,\"#fb9f3a\"],[0.8888888888888888,\"#fdca26\"],[1.0,\"#f0f921\"]]}],\"heatmap\":[{\"type\":\"heatmap\",\"colorbar\":{\"outlinewidth\":0,\"ticks\":\"\"},\"colorscale\":[[0.0,\"#0d0887\"],[0.1111111111111111,\"#46039f\"],[0.2222222222222222,\"#7201a8\"],[0.3333333333333333,\"#9c179e\"],[0.4444444444444444,\"#bd3786\"],[0.5555555555555556,\"#d8576b\"],[0.6666666666666666,\"#ed7953\"],[0.7777777777777778,\"#fb9f3a\"],[0.8888888888888888,\"#fdca26\"],[1.0,\"#f0f921\"]]}],\"heatmapgl\":[{\"type\":\"heatmapgl\",\"colorbar\":{\"outlinewidth\":0,\"ticks\":\"\"},\"colorscale\":[[0.0,\"#0d0887\"],[0.1111111111111111,\"#46039f\"],[0.2222222222222222,\"#7201a8\"],[0.3333333333333333,\"#9c179e\"],[0.4444444444444444,\"#bd3786\"],[0.5555555555555556,\"#d8576b\"],[0.6666666666666666,\"#ed7953\"],[0.7777777777777778,\"#fb9f3a\"],[0.8888888888888888,\"#fdca26\"],[1.0,\"#f0f921\"]]}],\"contourcarpet\":[{\"type\":\"contourcarpet\",\"colorbar\":{\"outlinewidth\":0,\"ticks\":\"\"}}],\"contour\":[{\"type\":\"contour\",\"colorbar\":{\"outlinewidth\":0,\"ticks\":\"\"},\"colorscale\":[[0.0,\"#0d0887\"],[0.1111111111111111,\"#46039f\"],[0.2222222222222222,\"#7201a8\"],[0.3333333333333333,\"#9c179e\"],[0.4444444444444444,\"#bd3786\"],[0.5555555555555556,\"#d8576b\"],[0.6666666666666666,\"#ed7953\"],[0.7777777777777778,\"#fb9f3a\"],[0.8888888888888888,\"#fdca26\"],[1.0,\"#f0f921\"]]}],\"surface\":[{\"type\":\"surface\",\"colorbar\":{\"outlinewidth\":0,\"ticks\":\"\"},\"colorscale\":[[0.0,\"#0d0887\"],[0.1111111111111111,\"#46039f\"],[0.2222222222222222,\"#7201a8\"],[0.3333333333333333,\"#9c179e\"],[0.4444444444444444,\"#bd3786\"],[0.5555555555555556,\"#d8576b\"],[0.6666666666666666,\"#ed7953\"],[0.7777777777777778,\"#fb9f3a\"],[0.8888888888888888,\"#fdca26\"],[1.0,\"#f0f921\"]]}],\"mesh3d\":[{\"type\":\"mesh3d\",\"colorbar\":{\"outlinewidth\":0,\"ticks\":\"\"}}],\"scatter\":[{\"fillpattern\":{\"fillmode\":\"overlay\",\"size\":10,\"solidity\":0.2},\"type\":\"scatter\"}],\"parcoords\":[{\"type\":\"parcoords\",\"line\":{\"colorbar\":{\"outlinewidth\":0,\"ticks\":\"\"}}}],\"scatterpolargl\":[{\"type\":\"scatterpolargl\",\"marker\":{\"colorbar\":{\"outlinewidth\":0,\"ticks\":\"\"}}}],\"bar\":[{\"error_x\":{\"color\":\"#2a3f5f\"},\"error_y\":{\"color\":\"#2a3f5f\"},\"marker\":{\"line\":{\"color\":\"#E5ECF6\",\"width\":0.5},\"pattern\":{\"fillmode\":\"overlay\",\"size\":10,\"solidity\":0.2}},\"type\":\"bar\"}],\"scattergeo\":[{\"type\":\"scattergeo\",\"marker\":{\"colorbar\":{\"outlinewidth\":0,\"ticks\":\"\"}}}],\"scatterpolar\":[{\"type\":\"scatterpolar\",\"marker\":{\"colorbar\":{\"outlinewidth\":0,\"ticks\":\"\"}}}],\"histogram\":[{\"marker\":{\"pattern\":{\"fillmode\":\"overlay\",\"size\":10,\"solidity\":0.2}},\"type\":\"histogram\"}],\"scattergl\":[{\"type\":\"scattergl\",\"marker\":{\"colorbar\":{\"outlinewidth\":0,\"ticks\":\"\"}}}],\"scatter3d\":[{\"type\":\"scatter3d\",\"line\":{\"colorbar\":{\"outlinewidth\":0,\"ticks\":\"\"}},\"marker\":{\"colorbar\":{\"outlinewidth\":0,\"ticks\":\"\"}}}],\"scattermapbox\":[{\"type\":\"scattermapbox\",\"marker\":{\"colorbar\":{\"outlinewidth\":0,\"ticks\":\"\"}}}],\"scatterternary\":[{\"type\":\"scatterternary\",\"marker\":{\"colorbar\":{\"outlinewidth\":0,\"ticks\":\"\"}}}],\"scattercarpet\":[{\"type\":\"scattercarpet\",\"marker\":{\"colorbar\":{\"outlinewidth\":0,\"ticks\":\"\"}}}],\"carpet\":[{\"aaxis\":{\"endlinecolor\":\"#2a3f5f\",\"gridcolor\":\"white\",\"linecolor\":\"white\",\"minorgridcolor\":\"white\",\"startlinecolor\":\"#2a3f5f\"},\"baxis\":{\"endlinecolor\":\"#2a3f5f\",\"gridcolor\":\"white\",\"linecolor\":\"white\",\"minorgridcolor\":\"white\",\"startlinecolor\":\"#2a3f5f\"},\"type\":\"carpet\"}],\"table\":[{\"cells\":{\"fill\":{\"color\":\"#EBF0F8\"},\"line\":{\"color\":\"white\"}},\"header\":{\"fill\":{\"color\":\"#C8D4E3\"},\"line\":{\"color\":\"white\"}},\"type\":\"table\"}],\"barpolar\":[{\"marker\":{\"line\":{\"color\":\"#E5ECF6\",\"width\":0.5},\"pattern\":{\"fillmode\":\"overlay\",\"size\":10,\"solidity\":0.2}},\"type\":\"barpolar\"}],\"pie\":[{\"automargin\":true,\"type\":\"pie\"}]},\"layout\":{\"autotypenumbers\":\"strict\",\"colorway\":[\"#636efa\",\"#EF553B\",\"#00cc96\",\"#ab63fa\",\"#FFA15A\",\"#19d3f3\",\"#FF6692\",\"#B6E880\",\"#FF97FF\",\"#FECB52\"],\"font\":{\"color\":\"#2a3f5f\"},\"hovermode\":\"closest\",\"hoverlabel\":{\"align\":\"left\"},\"paper_bgcolor\":\"white\",\"plot_bgcolor\":\"#E5ECF6\",\"polar\":{\"bgcolor\":\"#E5ECF6\",\"angularaxis\":{\"gridcolor\":\"white\",\"linecolor\":\"white\",\"ticks\":\"\"},\"radialaxis\":{\"gridcolor\":\"white\",\"linecolor\":\"white\",\"ticks\":\"\"}},\"ternary\":{\"bgcolor\":\"#E5ECF6\",\"aaxis\":{\"gridcolor\":\"white\",\"linecolor\":\"white\",\"ticks\":\"\"},\"baxis\":{\"gridcolor\":\"white\",\"linecolor\":\"white\",\"ticks\":\"\"},\"caxis\":{\"gridcolor\":\"white\",\"linecolor\":\"white\",\"ticks\":\"\"}},\"coloraxis\":{\"colorbar\":{\"outlinewidth\":0,\"ticks\":\"\"}},\"colorscale\":{\"sequential\":[[0.0,\"#0d0887\"],[0.1111111111111111,\"#46039f\"],[0.2222222222222222,\"#7201a8\"],[0.3333333333333333,\"#9c179e\"],[0.4444444444444444,\"#bd3786\"],[0.5555555555555556,\"#d8576b\"],[0.6666666666666666,\"#ed7953\"],[0.7777777777777778,\"#fb9f3a\"],[0.8888888888888888,\"#fdca26\"],[1.0,\"#f0f921\"]],\"sequentialminus\":[[0.0,\"#0d0887\"],[0.1111111111111111,\"#46039f\"],[0.2222222222222222,\"#7201a8\"],[0.3333333333333333,\"#9c179e\"],[0.4444444444444444,\"#bd3786\"],[0.5555555555555556,\"#d8576b\"],[0.6666666666666666,\"#ed7953\"],[0.7777777777777778,\"#fb9f3a\"],[0.8888888888888888,\"#fdca26\"],[1.0,\"#f0f921\"]],\"diverging\":[[0,\"#8e0152\"],[0.1,\"#c51b7d\"],[0.2,\"#de77ae\"],[0.3,\"#f1b6da\"],[0.4,\"#fde0ef\"],[0.5,\"#f7f7f7\"],[0.6,\"#e6f5d0\"],[0.7,\"#b8e186\"],[0.8,\"#7fbc41\"],[0.9,\"#4d9221\"],[1,\"#276419\"]]},\"xaxis\":{\"gridcolor\":\"white\",\"linecolor\":\"white\",\"ticks\":\"\",\"title\":{\"standoff\":15},\"zerolinecolor\":\"white\",\"automargin\":true,\"zerolinewidth\":2},\"yaxis\":{\"gridcolor\":\"white\",\"linecolor\":\"white\",\"ticks\":\"\",\"title\":{\"standoff\":15},\"zerolinecolor\":\"white\",\"automargin\":true,\"zerolinewidth\":2},\"scene\":{\"xaxis\":{\"backgroundcolor\":\"#E5ECF6\",\"gridcolor\":\"white\",\"linecolor\":\"white\",\"showbackground\":true,\"ticks\":\"\",\"zerolinecolor\":\"white\",\"gridwidth\":2},\"yaxis\":{\"backgroundcolor\":\"#E5ECF6\",\"gridcolor\":\"white\",\"linecolor\":\"white\",\"showbackground\":true,\"ticks\":\"\",\"zerolinecolor\":\"white\",\"gridwidth\":2},\"zaxis\":{\"backgroundcolor\":\"#E5ECF6\",\"gridcolor\":\"white\",\"linecolor\":\"white\",\"showbackground\":true,\"ticks\":\"\",\"zerolinecolor\":\"white\",\"gridwidth\":2}},\"shapedefaults\":{\"line\":{\"color\":\"#2a3f5f\"}},\"annotationdefaults\":{\"arrowcolor\":\"#2a3f5f\",\"arrowhead\":0,\"arrowwidth\":1},\"geo\":{\"bgcolor\":\"white\",\"landcolor\":\"#E5ECF6\",\"subunitcolor\":\"white\",\"showland\":true,\"showlakes\":true,\"lakecolor\":\"white\"},\"title\":{\"x\":0.05},\"mapbox\":{\"style\":\"light\"}}},\"coloraxis\":{\"colorbar\":{\"title\":{\"text\":\"Performance weighted mean\"}},\"colorscale\":[[0,\"#d91c29\"],[0.01,\"#F76923\"],[0.3,\"#20aa50\"],[0.8,\"#20aa50\"],[1,\"#0000FF\"]],\"cmin\":50,\"cmax\":100,\"reversescale\":false},\"legend\":{\"tracegroupgap\":0},\"title\":{\"text\":\"Weighted mean performance, per context key combination\"}},                        {\"responsive\": true}                    ).then(function(){\n",
       "                            \n",
       "var gd = document.getElementById('6077dd68-a5bc-47ea-a84d-726a9767a88a');\n",
       "var x = new MutationObserver(function (mutations, observer) {{\n",
       "        var display = window.getComputedStyle(gd).display;\n",
       "        if (!display || display === 'none') {{\n",
       "            console.log([gd, 'removed!']);\n",
       "            Plotly.purge(gd);\n",
       "            observer.disconnect();\n",
       "        }}\n",
       "}});\n",
       "\n",
       "// Listen for the removal of the full notebook cells\n",
       "var notebookContainer = gd.closest('#notebook-container');\n",
       "if (notebookContainer) {{\n",
       "    x.observe(notebookContainer, {childList: true});\n",
       "}}\n",
       "\n",
       "// Listen for the clearing of the current output cell\n",
       "var outputEl = gd.closest('.output');\n",
       "if (outputEl) {{\n",
       "    x.observe(outputEl, {childList: true});\n",
       "}}\n",
       "\n",
       "                        })                };                });            </script>        </div>"
      ]
     },
     "metadata": {},
     "output_type": "display_data"
    }
   ],
   "source": [
    "CDHSample.plotTreeMap()\n"
   ]
  },
  {
   "cell_type": "markdown",
   "metadata": {},
   "source": [
    "By default the Treemap shows the weighted performance, where the performance is weighted by the response count. The squares represent Model IDs: the larger a square, the more model IDs are within that combination of context keys. We can also color the Treemap by another variable, such as the SuccessRate:"
   ]
  },
  {
   "cell_type": "code",
   "execution_count": 8,
   "metadata": {
    "execution": {
     "iopub.execute_input": "2024-03-15T12:09:16.265367Z",
     "iopub.status.busy": "2024-03-15T12:09:16.265162Z",
     "iopub.status.idle": "2024-03-15T12:09:16.381415Z",
     "shell.execute_reply": "2024-03-15T12:09:16.380836Z"
    }
   },
   "outputs": [
    {
     "data": {
      "text/html": [
       "<div>                            <div id=\"2aebed22-a913-48ff-94d8-87fc1197e62b\" class=\"plotly-graph-div\" style=\"height:525px; width:100%;\"></div>            <script type=\"text/javascript\">                require([\"plotly\"], function(Plotly) {                    window.PLOTLYENV=window.PLOTLYENV || {};                                    if (document.getElementById(\"2aebed22-a913-48ff-94d8-87fc1197e62b\")) {                    Plotly.newPlot(                        \"2aebed22-a913-48ff-94d8-87fc1197e62b\",                        [{\"branchvalues\":\"total\",\"customdata\":[[2,0.0,13544.0,4.6388468742370605,62.99525834317778,631.0],[1,0.0,7415.0,0.7282535433769226,62.944199999999995,54.0],[3,0.0,23129.0,5.640022277832031,66.27309054433826,1341.0],[3,0.0,8823.0,8.443954467773438,60.655552975178516,516.0],[5,0.0,14820.0,2.716142416000366,56.30989340080973,289.0],[5,0.0,15761.0,4.765020370483398,61.34172346297822,692.0],[3,0.0,11048.0,8.00528335571289,70.77251884503983,822.0],[2,0.0,10633.0,1.0666604042053223,61.35216929370826,112.0],[3,0.0,11134.0,8.278606414794922,68.66853960840668,772.0],[5,0.0,6966.0,8.123114585876465,63.000272652885435,473.0],[6,0.0,10262.0,1.5054700374603271,55.4294000877022,130.0],[8,0.0,12383.0,6.074169158935547,61.00976363562949,641.0],[1,0.0,7096.0,18.940248489379883,62.21869999999999,1344.0],[3,0.0,8634.0,18.635272979736328,52.95501125781793,1908.0],[5,0.0,12271.0,4.838988780975342,53.05561875152799,754.0],[4,0.0,10488.0,13.958417892456055,53.16843408657515,1840.0],[3,0.0,5043.0,14.01188850402832,63.687832718619866,994.0],[3,0.0,1210.0,2.172286033630371,56.29142462809917,25.0],[3,0.0,4905.0,12.429615020751953,63.7114104587156,763.0],[17,0.0,\"(?)\",11.053221814772662,\"(?)\",\"(?)\"],[21,0.0,\"(?)\",2.6408883389972506,\"(?)\",\"(?)\"],[23,0.0,\"(?)\",8.277251782624617,\"(?)\",\"(?)\"],[2,0.0,13544.0,4.6388468742370605,62.99525834317778,631.0],[1,0.0,7415.0,0.7282535433769226,62.944199999999995,54.0],[4,0.0,\"(?)\",8.965078830718994,\"(?)\",\"(?)\"],[19,0.0,\"(?)\",10.37802445261102,\"(?)\",\"(?)\"],[22,0.0,\"(?)\",2.553950393741781,\"(?)\",\"(?)\"],[27,0.0,\"(?)\",8.379152086046007,\"(?)\",\"(?)\"],[22,0.0,\"(?)\",2.553950393741781,\"(?)\",\"(?)\"],[27,0.0,\"(?)\",8.379152086046007,\"(?)\",\"(?)\"],[19,0.0,\"(?)\",10.37802445261102,\"(?)\",\"(?)\"],[68,0.0,\"(?)\",7.053036464487805,\"(?)\",\"(?)\"]],\"domain\":{\"x\":[0.0,1.0],\"y\":[0.0,1.0]},\"hovertemplate\":\"labels=%{label}\\u003cbr\\u003eModel count=%{customdata[0]:.d}\\u003cbr\\u003eparent=%{parent}\\u003cbr\\u003eid=%{id}\\u003cbr\\u003ePercentage without responses=%{customdata[1]:.0%}\\u003cbr\\u003eResponse Count sum=%{customdata[2]:.d}\\u003cbr\\u003e(%) Success Rate mean=%{color:.3f}\\u003cbr\\u003ePerformance weighted mean=%{customdata[4]:.2f}\\u003cbr\\u003ePositives sum=%{customdata[5]:.d}\\u003cextra\\u003e\\u003c\\u002fextra\\u003e\",\"ids\":[\"All contexts\\u002fWeb\\u002fInbound\\u002fServices\\u002fAccount\",\"All contexts\\u002fEmail\\u002fOutbound\\u002fServices\\u002fAccount\",\"All contexts\\u002fSMS\\u002fOutbound\\u002fServices\\u002fAccount\",\"All contexts\\u002fWeb\\u002fInbound\\u002fSales\\u002fAutoLoans\",\"All contexts\\u002fEmail\\u002fOutbound\\u002fSales\\u002fAutoLoans\",\"All contexts\\u002fSMS\\u002fOutbound\\u002fSales\\u002fAutoLoans\",\"All contexts\\u002fWeb\\u002fInbound\\u002fSales\\u002fBundles\",\"All contexts\\u002fEmail\\u002fOutbound\\u002fSales\\u002fBundles\",\"All contexts\\u002fSMS\\u002fOutbound\\u002fSales\\u002fBundles\",\"All contexts\\u002fWeb\\u002fInbound\\u002fSales\\u002fCreditCards\",\"All contexts\\u002fEmail\\u002fOutbound\\u002fSales\\u002fCreditCards\",\"All contexts\\u002fSMS\\u002fOutbound\\u002fSales\\u002fCreditCards\",\"All contexts\\u002fSMS\\u002fOutbound\\u002fServices\\u002fCustomer\",\"All contexts\\u002fWeb\\u002fInbound\\u002fSales\\u002fDepositAccounts\",\"All contexts\\u002fEmail\\u002fOutbound\\u002fSales\\u002fDepositAccounts\",\"All contexts\\u002fSMS\\u002fOutbound\\u002fSales\\u002fDepositAccounts\",\"All contexts\\u002fWeb\\u002fInbound\\u002fSales\\u002fHomeLoans\",\"All contexts\\u002fEmail\\u002fOutbound\\u002fSales\\u002fHomeLoans\",\"All contexts\\u002fSMS\\u002fOutbound\\u002fSales\\u002fHomeLoans\",\"All contexts\\u002fWeb\\u002fInbound\\u002fSales\",\"All contexts\\u002fEmail\\u002fOutbound\\u002fSales\",\"All contexts\\u002fSMS\\u002fOutbound\\u002fSales\",\"All contexts\\u002fWeb\\u002fInbound\\u002fServices\",\"All contexts\\u002fEmail\\u002fOutbound\\u002fServices\",\"All contexts\\u002fSMS\\u002fOutbound\\u002fServices\",\"All contexts\\u002fWeb\\u002fInbound\",\"All contexts\\u002fEmail\\u002fOutbound\",\"All contexts\\u002fSMS\\u002fOutbound\",\"All contexts\\u002fEmail\",\"All contexts\\u002fSMS\",\"All contexts\\u002fWeb\",\"All contexts\"],\"labels\":[\"Account\",\"Account\",\"Account\",\"AutoLoans\",\"AutoLoans\",\"AutoLoans\",\"Bundles\",\"Bundles\",\"Bundles\",\"CreditCards\",\"CreditCards\",\"CreditCards\",\"Customer\",\"DepositAccounts\",\"DepositAccounts\",\"DepositAccounts\",\"HomeLoans\",\"HomeLoans\",\"HomeLoans\",\"Sales\",\"Sales\",\"Sales\",\"Services\",\"Services\",\"Services\",\"Inbound\",\"Outbound\",\"Outbound\",\"Email\",\"SMS\",\"Web\",\"All contexts\"],\"marker\":{\"coloraxis\":\"coloraxis\",\"colors\":[4.6388468742370605,0.7282535433769226,5.640022277832031,8.443954467773438,2.716142416000366,4.765020370483398,8.00528335571289,1.0666604042053223,8.278606414794922,8.123114585876465,1.5054700374603271,6.074169158935547,18.940248489379883,18.635272979736328,4.838988780975342,13.958417892456055,14.01188850402832,2.172286033630371,12.429615020751953,11.053221814772662,2.6408883389972506,8.277251782624617,4.6388468742370605,0.7282535433769226,8.965078830718994,10.37802445261102,2.553950393741781,8.379152086046007,2.553950393741781,8.379152086046007,10.37802445261102,7.053036464487805]},\"name\":\"\",\"parents\":[\"All contexts\\u002fWeb\\u002fInbound\\u002fServices\",\"All contexts\\u002fEmail\\u002fOutbound\\u002fServices\",\"All contexts\\u002fSMS\\u002fOutbound\\u002fServices\",\"All contexts\\u002fWeb\\u002fInbound\\u002fSales\",\"All contexts\\u002fEmail\\u002fOutbound\\u002fSales\",\"All contexts\\u002fSMS\\u002fOutbound\\u002fSales\",\"All contexts\\u002fWeb\\u002fInbound\\u002fSales\",\"All contexts\\u002fEmail\\u002fOutbound\\u002fSales\",\"All contexts\\u002fSMS\\u002fOutbound\\u002fSales\",\"All contexts\\u002fWeb\\u002fInbound\\u002fSales\",\"All contexts\\u002fEmail\\u002fOutbound\\u002fSales\",\"All contexts\\u002fSMS\\u002fOutbound\\u002fSales\",\"All contexts\\u002fSMS\\u002fOutbound\\u002fServices\",\"All contexts\\u002fWeb\\u002fInbound\\u002fSales\",\"All contexts\\u002fEmail\\u002fOutbound\\u002fSales\",\"All contexts\\u002fSMS\\u002fOutbound\\u002fSales\",\"All contexts\\u002fWeb\\u002fInbound\\u002fSales\",\"All contexts\\u002fEmail\\u002fOutbound\\u002fSales\",\"All contexts\\u002fSMS\\u002fOutbound\\u002fSales\",\"All contexts\\u002fWeb\\u002fInbound\",\"All contexts\\u002fEmail\\u002fOutbound\",\"All contexts\\u002fSMS\\u002fOutbound\",\"All contexts\\u002fWeb\\u002fInbound\",\"All contexts\\u002fEmail\\u002fOutbound\",\"All contexts\\u002fSMS\\u002fOutbound\",\"All contexts\\u002fWeb\",\"All contexts\\u002fEmail\",\"All contexts\\u002fSMS\",\"All contexts\",\"All contexts\",\"All contexts\",\"\"],\"values\":[2,1,3,3,5,5,3,2,3,5,6,8,1,3,5,4,3,3,3,17,21,23,2,1,4,19,22,27,22,27,19,68],\"type\":\"treemap\",\"text\":[4.639,0.728,5.64,8.444,2.716,4.765,8.005,1.067,8.279,8.123,1.505,6.074,18.94,18.635,4.839,13.958,14.012,2.172,12.43,11.053,2.641,8.277,4.639,0.728,8.965,10.378,2.554,8.379,2.554,8.379,10.378,7.053],\"textinfo\":\"label+text\",\"texttemplate\":\"%{label}\\u003cbr\\u003e%{text:.2f}%\"}],                        {\"template\":{\"data\":{\"histogram2dcontour\":[{\"type\":\"histogram2dcontour\",\"colorbar\":{\"outlinewidth\":0,\"ticks\":\"\"},\"colorscale\":[[0.0,\"#0d0887\"],[0.1111111111111111,\"#46039f\"],[0.2222222222222222,\"#7201a8\"],[0.3333333333333333,\"#9c179e\"],[0.4444444444444444,\"#bd3786\"],[0.5555555555555556,\"#d8576b\"],[0.6666666666666666,\"#ed7953\"],[0.7777777777777778,\"#fb9f3a\"],[0.8888888888888888,\"#fdca26\"],[1.0,\"#f0f921\"]]}],\"choropleth\":[{\"type\":\"choropleth\",\"colorbar\":{\"outlinewidth\":0,\"ticks\":\"\"}}],\"histogram2d\":[{\"type\":\"histogram2d\",\"colorbar\":{\"outlinewidth\":0,\"ticks\":\"\"},\"colorscale\":[[0.0,\"#0d0887\"],[0.1111111111111111,\"#46039f\"],[0.2222222222222222,\"#7201a8\"],[0.3333333333333333,\"#9c179e\"],[0.4444444444444444,\"#bd3786\"],[0.5555555555555556,\"#d8576b\"],[0.6666666666666666,\"#ed7953\"],[0.7777777777777778,\"#fb9f3a\"],[0.8888888888888888,\"#fdca26\"],[1.0,\"#f0f921\"]]}],\"heatmap\":[{\"type\":\"heatmap\",\"colorbar\":{\"outlinewidth\":0,\"ticks\":\"\"},\"colorscale\":[[0.0,\"#0d0887\"],[0.1111111111111111,\"#46039f\"],[0.2222222222222222,\"#7201a8\"],[0.3333333333333333,\"#9c179e\"],[0.4444444444444444,\"#bd3786\"],[0.5555555555555556,\"#d8576b\"],[0.6666666666666666,\"#ed7953\"],[0.7777777777777778,\"#fb9f3a\"],[0.8888888888888888,\"#fdca26\"],[1.0,\"#f0f921\"]]}],\"heatmapgl\":[{\"type\":\"heatmapgl\",\"colorbar\":{\"outlinewidth\":0,\"ticks\":\"\"},\"colorscale\":[[0.0,\"#0d0887\"],[0.1111111111111111,\"#46039f\"],[0.2222222222222222,\"#7201a8\"],[0.3333333333333333,\"#9c179e\"],[0.4444444444444444,\"#bd3786\"],[0.5555555555555556,\"#d8576b\"],[0.6666666666666666,\"#ed7953\"],[0.7777777777777778,\"#fb9f3a\"],[0.8888888888888888,\"#fdca26\"],[1.0,\"#f0f921\"]]}],\"contourcarpet\":[{\"type\":\"contourcarpet\",\"colorbar\":{\"outlinewidth\":0,\"ticks\":\"\"}}],\"contour\":[{\"type\":\"contour\",\"colorbar\":{\"outlinewidth\":0,\"ticks\":\"\"},\"colorscale\":[[0.0,\"#0d0887\"],[0.1111111111111111,\"#46039f\"],[0.2222222222222222,\"#7201a8\"],[0.3333333333333333,\"#9c179e\"],[0.4444444444444444,\"#bd3786\"],[0.5555555555555556,\"#d8576b\"],[0.6666666666666666,\"#ed7953\"],[0.7777777777777778,\"#fb9f3a\"],[0.8888888888888888,\"#fdca26\"],[1.0,\"#f0f921\"]]}],\"surface\":[{\"type\":\"surface\",\"colorbar\":{\"outlinewidth\":0,\"ticks\":\"\"},\"colorscale\":[[0.0,\"#0d0887\"],[0.1111111111111111,\"#46039f\"],[0.2222222222222222,\"#7201a8\"],[0.3333333333333333,\"#9c179e\"],[0.4444444444444444,\"#bd3786\"],[0.5555555555555556,\"#d8576b\"],[0.6666666666666666,\"#ed7953\"],[0.7777777777777778,\"#fb9f3a\"],[0.8888888888888888,\"#fdca26\"],[1.0,\"#f0f921\"]]}],\"mesh3d\":[{\"type\":\"mesh3d\",\"colorbar\":{\"outlinewidth\":0,\"ticks\":\"\"}}],\"scatter\":[{\"fillpattern\":{\"fillmode\":\"overlay\",\"size\":10,\"solidity\":0.2},\"type\":\"scatter\"}],\"parcoords\":[{\"type\":\"parcoords\",\"line\":{\"colorbar\":{\"outlinewidth\":0,\"ticks\":\"\"}}}],\"scatterpolargl\":[{\"type\":\"scatterpolargl\",\"marker\":{\"colorbar\":{\"outlinewidth\":0,\"ticks\":\"\"}}}],\"bar\":[{\"error_x\":{\"color\":\"#2a3f5f\"},\"error_y\":{\"color\":\"#2a3f5f\"},\"marker\":{\"line\":{\"color\":\"#E5ECF6\",\"width\":0.5},\"pattern\":{\"fillmode\":\"overlay\",\"size\":10,\"solidity\":0.2}},\"type\":\"bar\"}],\"scattergeo\":[{\"type\":\"scattergeo\",\"marker\":{\"colorbar\":{\"outlinewidth\":0,\"ticks\":\"\"}}}],\"scatterpolar\":[{\"type\":\"scatterpolar\",\"marker\":{\"colorbar\":{\"outlinewidth\":0,\"ticks\":\"\"}}}],\"histogram\":[{\"marker\":{\"pattern\":{\"fillmode\":\"overlay\",\"size\":10,\"solidity\":0.2}},\"type\":\"histogram\"}],\"scattergl\":[{\"type\":\"scattergl\",\"marker\":{\"colorbar\":{\"outlinewidth\":0,\"ticks\":\"\"}}}],\"scatter3d\":[{\"type\":\"scatter3d\",\"line\":{\"colorbar\":{\"outlinewidth\":0,\"ticks\":\"\"}},\"marker\":{\"colorbar\":{\"outlinewidth\":0,\"ticks\":\"\"}}}],\"scattermapbox\":[{\"type\":\"scattermapbox\",\"marker\":{\"colorbar\":{\"outlinewidth\":0,\"ticks\":\"\"}}}],\"scatterternary\":[{\"type\":\"scatterternary\",\"marker\":{\"colorbar\":{\"outlinewidth\":0,\"ticks\":\"\"}}}],\"scattercarpet\":[{\"type\":\"scattercarpet\",\"marker\":{\"colorbar\":{\"outlinewidth\":0,\"ticks\":\"\"}}}],\"carpet\":[{\"aaxis\":{\"endlinecolor\":\"#2a3f5f\",\"gridcolor\":\"white\",\"linecolor\":\"white\",\"minorgridcolor\":\"white\",\"startlinecolor\":\"#2a3f5f\"},\"baxis\":{\"endlinecolor\":\"#2a3f5f\",\"gridcolor\":\"white\",\"linecolor\":\"white\",\"minorgridcolor\":\"white\",\"startlinecolor\":\"#2a3f5f\"},\"type\":\"carpet\"}],\"table\":[{\"cells\":{\"fill\":{\"color\":\"#EBF0F8\"},\"line\":{\"color\":\"white\"}},\"header\":{\"fill\":{\"color\":\"#C8D4E3\"},\"line\":{\"color\":\"white\"}},\"type\":\"table\"}],\"barpolar\":[{\"marker\":{\"line\":{\"color\":\"#E5ECF6\",\"width\":0.5},\"pattern\":{\"fillmode\":\"overlay\",\"size\":10,\"solidity\":0.2}},\"type\":\"barpolar\"}],\"pie\":[{\"automargin\":true,\"type\":\"pie\"}]},\"layout\":{\"autotypenumbers\":\"strict\",\"colorway\":[\"#636efa\",\"#EF553B\",\"#00cc96\",\"#ab63fa\",\"#FFA15A\",\"#19d3f3\",\"#FF6692\",\"#B6E880\",\"#FF97FF\",\"#FECB52\"],\"font\":{\"color\":\"#2a3f5f\"},\"hovermode\":\"closest\",\"hoverlabel\":{\"align\":\"left\"},\"paper_bgcolor\":\"white\",\"plot_bgcolor\":\"#E5ECF6\",\"polar\":{\"bgcolor\":\"#E5ECF6\",\"angularaxis\":{\"gridcolor\":\"white\",\"linecolor\":\"white\",\"ticks\":\"\"},\"radialaxis\":{\"gridcolor\":\"white\",\"linecolor\":\"white\",\"ticks\":\"\"}},\"ternary\":{\"bgcolor\":\"#E5ECF6\",\"aaxis\":{\"gridcolor\":\"white\",\"linecolor\":\"white\",\"ticks\":\"\"},\"baxis\":{\"gridcolor\":\"white\",\"linecolor\":\"white\",\"ticks\":\"\"},\"caxis\":{\"gridcolor\":\"white\",\"linecolor\":\"white\",\"ticks\":\"\"}},\"coloraxis\":{\"colorbar\":{\"outlinewidth\":0,\"ticks\":\"\"}},\"colorscale\":{\"sequential\":[[0.0,\"#0d0887\"],[0.1111111111111111,\"#46039f\"],[0.2222222222222222,\"#7201a8\"],[0.3333333333333333,\"#9c179e\"],[0.4444444444444444,\"#bd3786\"],[0.5555555555555556,\"#d8576b\"],[0.6666666666666666,\"#ed7953\"],[0.7777777777777778,\"#fb9f3a\"],[0.8888888888888888,\"#fdca26\"],[1.0,\"#f0f921\"]],\"sequentialminus\":[[0.0,\"#0d0887\"],[0.1111111111111111,\"#46039f\"],[0.2222222222222222,\"#7201a8\"],[0.3333333333333333,\"#9c179e\"],[0.4444444444444444,\"#bd3786\"],[0.5555555555555556,\"#d8576b\"],[0.6666666666666666,\"#ed7953\"],[0.7777777777777778,\"#fb9f3a\"],[0.8888888888888888,\"#fdca26\"],[1.0,\"#f0f921\"]],\"diverging\":[[0,\"#8e0152\"],[0.1,\"#c51b7d\"],[0.2,\"#de77ae\"],[0.3,\"#f1b6da\"],[0.4,\"#fde0ef\"],[0.5,\"#f7f7f7\"],[0.6,\"#e6f5d0\"],[0.7,\"#b8e186\"],[0.8,\"#7fbc41\"],[0.9,\"#4d9221\"],[1,\"#276419\"]]},\"xaxis\":{\"gridcolor\":\"white\",\"linecolor\":\"white\",\"ticks\":\"\",\"title\":{\"standoff\":15},\"zerolinecolor\":\"white\",\"automargin\":true,\"zerolinewidth\":2},\"yaxis\":{\"gridcolor\":\"white\",\"linecolor\":\"white\",\"ticks\":\"\",\"title\":{\"standoff\":15},\"zerolinecolor\":\"white\",\"automargin\":true,\"zerolinewidth\":2},\"scene\":{\"xaxis\":{\"backgroundcolor\":\"#E5ECF6\",\"gridcolor\":\"white\",\"linecolor\":\"white\",\"showbackground\":true,\"ticks\":\"\",\"zerolinecolor\":\"white\",\"gridwidth\":2},\"yaxis\":{\"backgroundcolor\":\"#E5ECF6\",\"gridcolor\":\"white\",\"linecolor\":\"white\",\"showbackground\":true,\"ticks\":\"\",\"zerolinecolor\":\"white\",\"gridwidth\":2},\"zaxis\":{\"backgroundcolor\":\"#E5ECF6\",\"gridcolor\":\"white\",\"linecolor\":\"white\",\"showbackground\":true,\"ticks\":\"\",\"zerolinecolor\":\"white\",\"gridwidth\":2}},\"shapedefaults\":{\"line\":{\"color\":\"#2a3f5f\"}},\"annotationdefaults\":{\"arrowcolor\":\"#2a3f5f\",\"arrowhead\":0,\"arrowwidth\":1},\"geo\":{\"bgcolor\":\"white\",\"landcolor\":\"#E5ECF6\",\"subunitcolor\":\"white\",\"showland\":true,\"showlakes\":true,\"lakecolor\":\"white\"},\"title\":{\"x\":0.05},\"mapbox\":{\"style\":\"light\"}}},\"coloraxis\":{\"colorbar\":{\"title\":{\"text\":\"(%) Success Rate mean\"}},\"colorscale\":[[0.0,\"#d91c29\"],[0.5,\"#F76923\"],[1.0,\"#20aa50\"]],\"reversescale\":false},\"legend\":{\"tracegroupgap\":0},\"title\":{\"text\":\"Success rate, per context key combination\"}},                        {\"responsive\": true}                    ).then(function(){\n",
       "                            \n",
       "var gd = document.getElementById('2aebed22-a913-48ff-94d8-87fc1197e62b');\n",
       "var x = new MutationObserver(function (mutations, observer) {{\n",
       "        var display = window.getComputedStyle(gd).display;\n",
       "        if (!display || display === 'none') {{\n",
       "            console.log([gd, 'removed!']);\n",
       "            Plotly.purge(gd);\n",
       "            observer.disconnect();\n",
       "        }}\n",
       "}});\n",
       "\n",
       "// Listen for the removal of the full notebook cells\n",
       "var notebookContainer = gd.closest('#notebook-container');\n",
       "if (notebookContainer) {{\n",
       "    x.observe(notebookContainer, {childList: true});\n",
       "}}\n",
       "\n",
       "// Listen for the clearing of the current output cell\n",
       "var outputEl = gd.closest('.output');\n",
       "if (outputEl) {{\n",
       "    x.observe(outputEl, {childList: true});\n",
       "}}\n",
       "\n",
       "                        })                };                });            </script>        </div>"
      ]
     },
     "metadata": {},
     "output_type": "display_data"
    }
   ],
   "source": [
    "CDHSample.plotTreeMap(\"SuccessRate\")\n"
   ]
  },
  {
   "attachments": {},
   "cell_type": "markdown",
   "metadata": {},
   "source": [
    "Similar to the responses, the success rate over time can also be of interest. With 'plotOverTime', you can plot the success rate of different models as they develop over time."
   ]
  },
  {
   "cell_type": "code",
   "execution_count": 9,
   "metadata": {
    "execution": {
     "iopub.execute_input": "2024-03-15T12:09:16.383628Z",
     "iopub.status.busy": "2024-03-15T12:09:16.383310Z",
     "iopub.status.idle": "2024-03-15T12:09:16.455862Z",
     "shell.execute_reply": "2024-03-15T12:09:16.455296Z"
    }
   },
   "outputs": [
    {
     "data": {
      "text/html": [
       "<div>                            <div id=\"e8e5271b-6bed-4251-a163-6b3457bf68c7\" class=\"plotly-graph-div\" style=\"height:525px; width:100%;\"></div>            <script type=\"text/javascript\">                require([\"plotly\"], function(Plotly) {                    window.PLOTLYENV=window.PLOTLYENV || {};                                    if (document.getElementById(\"e8e5271b-6bed-4251-a163-6b3457bf68c7\")) {                    Plotly.newPlot(                        \"e8e5271b-6bed-4251-a163-6b3457bf68c7\",                        [{\"customdata\":[[\"08ca1302-9fc0-57bf-9031-d4179d400493\"]],\"hovertemplate\":\"ModelID=%{customdata[0]:.d}\\u003cbr\\u003eSnapshotTime=%{x}\\u003cbr\\u003eSuccessRate=%{y:.4%}\\u003cextra\\u003e\\u003c\\u002fextra\\u003e\",\"legendgroup\":\"08ca1302-9fc0-57bf-9031-d4179d400493\",\"line\":{\"color\":\"#001F5F\",\"dash\":\"solid\"},\"marker\":{\"symbol\":\"circle\"},\"mode\":\"lines+markers\",\"name\":\"08ca1302-9fc0-57bf-9031-d4179d400493\",\"orientation\":\"v\",\"showlegend\":true,\"x\":[\"2021-06-01T00:00:00\"],\"xaxis\":\"x\",\"y\":[0.128090962767601],\"yaxis\":\"y\",\"type\":\"scatter\"},{\"customdata\":[[\"0ad9da35-f171-5ab9-973f-1cc4b89b4e8f\"]],\"hovertemplate\":\"ModelID=%{customdata[0]:.d}\\u003cbr\\u003eSnapshotTime=%{x}\\u003cbr\\u003eSuccessRate=%{y:.4%}\\u003cextra\\u003e\\u003c\\u002fextra\\u003e\",\"legendgroup\":\"0ad9da35-f171-5ab9-973f-1cc4b89b4e8f\",\"line\":{\"color\":\"#10A5AC\",\"dash\":\"solid\"},\"marker\":{\"symbol\":\"circle\"},\"mode\":\"lines+markers\",\"name\":\"0ad9da35-f171-5ab9-973f-1cc4b89b4e8f\",\"orientation\":\"v\",\"showlegend\":true,\"x\":[\"2021-06-01T00:00:00\"],\"xaxis\":\"x\",\"y\":[0.087836854159832],\"yaxis\":\"y\",\"type\":\"scatter\"},{\"customdata\":[[\"17571d69-f802-5122-9bfe-6f3f4ef9073b\"]],\"hovertemplate\":\"ModelID=%{customdata[0]:.d}\\u003cbr\\u003eSnapshotTime=%{x}\\u003cbr\\u003eSuccessRate=%{y:.4%}\\u003cextra\\u003e\\u003c\\u002fextra\\u003e\",\"legendgroup\":\"17571d69-f802-5122-9bfe-6f3f4ef9073b\",\"line\":{\"color\":\"#F76923\",\"dash\":\"solid\"},\"marker\":{\"symbol\":\"circle\"},\"mode\":\"lines+markers\",\"name\":\"17571d69-f802-5122-9bfe-6f3f4ef9073b\",\"orientation\":\"v\",\"showlegend\":true,\"x\":[\"2021-06-01T00:00:00\"],\"xaxis\":\"x\",\"y\":[0.0553150549530983],\"yaxis\":\"y\",\"type\":\"scatter\"},{\"customdata\":[[\"59f06605-5b39-57dd-945b-637a72fa9085\"]],\"hovertemplate\":\"ModelID=%{customdata[0]:.d}\\u003cbr\\u003eSnapshotTime=%{x}\\u003cbr\\u003eSuccessRate=%{y:.4%}\\u003cextra\\u003e\\u003c\\u002fextra\\u003e\",\"legendgroup\":\"59f06605-5b39-57dd-945b-637a72fa9085\",\"line\":{\"color\":\"#661D34\",\"dash\":\"solid\"},\"marker\":{\"symbol\":\"circle\"},\"mode\":\"lines+markers\",\"name\":\"59f06605-5b39-57dd-945b-637a72fa9085\",\"orientation\":\"v\",\"showlegend\":true,\"x\":[\"2021-06-01T00:00:00\"],\"xaxis\":\"x\",\"y\":[0.01504230685532093],\"yaxis\":\"y\",\"type\":\"scatter\"},{\"customdata\":[[\"5cb8d642-390e-5c3e-8868-d34768f9535c\"]],\"hovertemplate\":\"ModelID=%{customdata[0]:.d}\\u003cbr\\u003eSnapshotTime=%{x}\\u003cbr\\u003eSuccessRate=%{y:.4%}\\u003cextra\\u003e\\u003c\\u002fextra\\u003e\",\"legendgroup\":\"5cb8d642-390e-5c3e-8868-d34768f9535c\",\"line\":{\"color\":\"#86CAC6\",\"dash\":\"solid\"},\"marker\":{\"symbol\":\"circle\"},\"mode\":\"lines+markers\",\"name\":\"5cb8d642-390e-5c3e-8868-d34768f9535c\",\"orientation\":\"v\",\"showlegend\":true,\"x\":[\"2021-06-01T00:00:00\"],\"xaxis\":\"x\",\"y\":[0.09909718483686447],\"yaxis\":\"y\",\"type\":\"scatter\"},{\"customdata\":[[\"68e1d164-81e3-5da0-816c-0bbc3c20ac6c\"]],\"hovertemplate\":\"ModelID=%{customdata[0]:.d}\\u003cbr\\u003eSnapshotTime=%{x}\\u003cbr\\u003eSuccessRate=%{y:.4%}\\u003cextra\\u003e\\u003c\\u002fextra\\u003e\",\"legendgroup\":\"68e1d164-81e3-5da0-816c-0bbc3c20ac6c\",\"line\":{\"color\":\"#005154\",\"dash\":\"solid\"},\"marker\":{\"symbol\":\"circle\"},\"mode\":\"lines+markers\",\"name\":\"68e1d164-81e3-5da0-816c-0bbc3c20ac6c\",\"orientation\":\"v\",\"showlegend\":true,\"x\":[\"2021-06-01T00:00:00\"],\"xaxis\":\"x\",\"y\":[0.11967532336711884],\"yaxis\":\"y\",\"type\":\"scatter\"},{\"customdata\":[[\"692f453a-f825-5a90-ab40-f83cbb34b058\"]],\"hovertemplate\":\"ModelID=%{customdata[0]:.d}\\u003cbr\\u003eSnapshotTime=%{x}\\u003cbr\\u003eSuccessRate=%{y:.4%}\\u003cextra\\u003e\\u003c\\u002fextra\\u003e\",\"legendgroup\":\"692f453a-f825-5a90-ab40-f83cbb34b058\",\"line\":{\"color\":\"#86CAC6\",\"dash\":\"solid\"},\"marker\":{\"symbol\":\"circle\"},\"mode\":\"lines+markers\",\"name\":\"692f453a-f825-5a90-ab40-f83cbb34b058\",\"orientation\":\"v\",\"showlegend\":true,\"x\":[\"2021-06-01T00:00:00\"],\"xaxis\":\"x\",\"y\":[0.017693836241960526],\"yaxis\":\"y\",\"type\":\"scatter\"},{\"customdata\":[[\"708f20ef-7ca1-58f4-9dfa-b7efb5342fcf\"]],\"hovertemplate\":\"ModelID=%{customdata[0]:.d}\\u003cbr\\u003eSnapshotTime=%{x}\\u003cbr\\u003eSuccessRate=%{y:.4%}\\u003cextra\\u003e\\u003c\\u002fextra\\u003e\",\"legendgroup\":\"708f20ef-7ca1-58f4-9dfa-b7efb5342fcf\",\"line\":{\"color\":\"#5F67B9\",\"dash\":\"solid\"},\"marker\":{\"symbol\":\"circle\"},\"mode\":\"lines+markers\",\"name\":\"708f20ef-7ca1-58f4-9dfa-b7efb5342fcf\",\"orientation\":\"v\",\"showlegend\":true,\"x\":[\"2021-06-01T00:00:00\"],\"xaxis\":\"x\",\"y\":[0.1778291016817093],\"yaxis\":\"y\",\"type\":\"scatter\"},{\"customdata\":[[\"7d2046d5-be79-5f5a-a858-dcd9c65fd086\"]],\"hovertemplate\":\"ModelID=%{customdata[0]:.d}\\u003cbr\\u003eSnapshotTime=%{x}\\u003cbr\\u003eSuccessRate=%{y:.4%}\\u003cextra\\u003e\\u003c\\u002fextra\\u003e\",\"legendgroup\":\"7d2046d5-be79-5f5a-a858-dcd9c65fd086\",\"line\":{\"color\":\"#FFC836\",\"dash\":\"solid\"},\"marker\":{\"symbol\":\"circle\"},\"mode\":\"lines+markers\",\"name\":\"7d2046d5-be79-5f5a-a858-dcd9c65fd086\",\"orientation\":\"v\",\"showlegend\":true,\"x\":[\"2021-06-01T00:00:00\"],\"xaxis\":\"x\",\"y\":[0.026831232011318207],\"yaxis\":\"y\",\"type\":\"scatter\"},{\"customdata\":[[\"8e40882a-aacf-5f03-9be8-f833c7932da2\"]],\"hovertemplate\":\"ModelID=%{customdata[0]:.d}\\u003cbr\\u003eSnapshotTime=%{x}\\u003cbr\\u003eSuccessRate=%{y:.4%}\\u003cextra\\u003e\\u003c\\u002fextra\\u003e\",\"legendgroup\":\"8e40882a-aacf-5f03-9be8-f833c7932da2\",\"line\":{\"color\":\"#E63690\",\"dash\":\"solid\"},\"marker\":{\"symbol\":\"circle\"},\"mode\":\"lines+markers\",\"name\":\"8e40882a-aacf-5f03-9be8-f833c7932da2\",\"orientation\":\"v\",\"showlegend\":true,\"x\":[\"2021-06-01T00:00:00\"],\"xaxis\":\"x\",\"y\":[0.02044643461704254],\"yaxis\":\"y\",\"type\":\"scatter\"},{\"customdata\":[[\"95ae0f10-297a-5c01-94d8-914bb89df969\"]],\"hovertemplate\":\"ModelID=%{customdata[0]:.d}\\u003cbr\\u003eSnapshotTime=%{x}\\u003cbr\\u003eSuccessRate=%{y:.4%}\\u003cextra\\u003e\\u003c\\u002fextra\\u003e\",\"legendgroup\":\"95ae0f10-297a-5c01-94d8-914bb89df969\",\"line\":{\"color\":\"#AC1361\",\"dash\":\"solid\"},\"marker\":{\"symbol\":\"circle\"},\"mode\":\"lines+markers\",\"name\":\"95ae0f10-297a-5c01-94d8-914bb89df969\",\"orientation\":\"v\",\"showlegend\":true,\"x\":[\"2021-06-01T00:00:00\"],\"xaxis\":\"x\",\"y\":[0.09730903059244156],\"yaxis\":\"y\",\"type\":\"scatter\"},{\"customdata\":[[\"9e9e8c2e-6d19-538c-8e7b-a73070717ecf\"]],\"hovertemplate\":\"ModelID=%{customdata[0]:.d}\\u003cbr\\u003eSnapshotTime=%{x}\\u003cbr\\u003eSuccessRate=%{y:.4%}\\u003cextra\\u003e\\u003c\\u002fextra\\u003e\",\"legendgroup\":\"9e9e8c2e-6d19-538c-8e7b-a73070717ecf\",\"line\":{\"color\":\"#63666F\",\"dash\":\"solid\"},\"marker\":{\"symbol\":\"circle\"},\"mode\":\"lines+markers\",\"name\":\"9e9e8c2e-6d19-538c-8e7b-a73070717ecf\",\"orientation\":\"v\",\"showlegend\":true,\"x\":[\"2021-06-01T00:00:00\"],\"xaxis\":\"x\",\"y\":[0.027344686910510063],\"yaxis\":\"y\",\"type\":\"scatter\"},{\"customdata\":[[\"a87d51fb-cfdc-598d-b84a-dcdd64e1e750\"]],\"hovertemplate\":\"ModelID=%{customdata[0]:.d}\\u003cbr\\u003eSnapshotTime=%{x}\\u003cbr\\u003eSuccessRate=%{y:.4%}\\u003cextra\\u003e\\u003c\\u002fextra\\u003e\",\"legendgroup\":\"a87d51fb-cfdc-598d-b84a-dcdd64e1e750\",\"line\":{\"color\":\"#A7A9B4\",\"dash\":\"solid\"},\"marker\":{\"symbol\":\"circle\"},\"mode\":\"lines+markers\",\"name\":\"a87d51fb-cfdc-598d-b84a-dcdd64e1e750\",\"orientation\":\"v\",\"showlegend\":true,\"x\":[\"2021-06-01T00:00:00\"],\"xaxis\":\"x\",\"y\":[0.22175775468349457],\"yaxis\":\"y\",\"type\":\"scatter\"},{\"customdata\":[[\"a8cd5e12-5d10-5b62-95f6-c5bb6344a83a\"]],\"hovertemplate\":\"ModelID=%{customdata[0]:.d}\\u003cbr\\u003eSnapshotTime=%{x}\\u003cbr\\u003eSuccessRate=%{y:.4%}\\u003cextra\\u003e\\u003c\\u002fextra\\u003e\",\"legendgroup\":\"a8cd5e12-5d10-5b62-95f6-c5bb6344a83a\",\"line\":{\"color\":\"#D0D1DB\",\"dash\":\"solid\"},\"marker\":{\"symbol\":\"circle\"},\"mode\":\"lines+markers\",\"name\":\"a8cd5e12-5d10-5b62-95f6-c5bb6344a83a\",\"orientation\":\"v\",\"showlegend\":true,\"x\":[\"2021-06-01T00:00:00\"],\"xaxis\":\"x\",\"y\":[0.19929423928260803],\"yaxis\":\"y\",\"type\":\"scatter\"},{\"customdata\":[[\"a8cde9d1-c720-537c-8fb8-8c59506bddfe\"]],\"hovertemplate\":\"ModelID=%{customdata[0]:.d}\\u003cbr\\u003eSnapshotTime=%{x}\\u003cbr\\u003eSuccessRate=%{y:.4%}\\u003cextra\\u003e\\u003c\\u002fextra\\u003e\",\"legendgroup\":\"a8cde9d1-c720-537c-8fb8-8c59506bddfe\",\"line\":{\"color\":\"#001F5F\",\"dash\":\"solid\"},\"marker\":{\"symbol\":\"circle\"},\"mode\":\"lines+markers\",\"name\":\"a8cde9d1-c720-537c-8fb8-8c59506bddfe\",\"orientation\":\"v\",\"showlegend\":true,\"x\":[\"2021-06-01T00:00:00\"],\"xaxis\":\"x\",\"y\":[0.059830453246831894],\"yaxis\":\"y\",\"type\":\"scatter\"},{\"customdata\":[[\"c29ffcfa-5210-5998-a826-f3a8db57c610\"]],\"hovertemplate\":\"ModelID=%{customdata[0]:.d}\\u003cbr\\u003eSnapshotTime=%{x}\\u003cbr\\u003eSuccessRate=%{y:.4%}\\u003cextra\\u003e\\u003c\\u002fextra\\u003e\",\"legendgroup\":\"c29ffcfa-5210-5998-a826-f3a8db57c610\",\"line\":{\"color\":\"#10A5AC\",\"dash\":\"solid\"},\"marker\":{\"symbol\":\"circle\"},\"mode\":\"lines+markers\",\"name\":\"c29ffcfa-5210-5998-a826-f3a8db57c610\",\"orientation\":\"v\",\"showlegend\":true,\"x\":[\"2021-06-01T00:00:00\"],\"xaxis\":\"x\",\"y\":[0.2450106143951416],\"yaxis\":\"y\",\"type\":\"scatter\"},{\"customdata\":[[\"c8a529fb-9d2c-5069-a50f-42ee1ea9341a\"]],\"hovertemplate\":\"ModelID=%{customdata[0]:.d}\\u003cbr\\u003eSnapshotTime=%{x}\\u003cbr\\u003eSuccessRate=%{y:.4%}\\u003cextra\\u003e\\u003c\\u002fextra\\u003e\",\"legendgroup\":\"c8a529fb-9d2c-5069-a50f-42ee1ea9341a\",\"line\":{\"color\":\"#F76923\",\"dash\":\"solid\"},\"marker\":{\"symbol\":\"circle\"},\"mode\":\"lines+markers\",\"name\":\"c8a529fb-9d2c-5069-a50f-42ee1ea9341a\",\"orientation\":\"v\",\"showlegend\":true,\"x\":[\"2021-06-01T00:00:00\"],\"xaxis\":\"x\",\"y\":[0.04353846237063408],\"yaxis\":\"y\",\"type\":\"scatter\"},{\"customdata\":[[\"dd502275-e98b-51f7-8935-c30c84641871\"]],\"hovertemplate\":\"ModelID=%{customdata[0]:.d}\\u003cbr\\u003eSnapshotTime=%{x}\\u003cbr\\u003eSuccessRate=%{y:.4%}\\u003cextra\\u003e\\u003c\\u002fextra\\u003e\",\"legendgroup\":\"dd502275-e98b-51f7-8935-c30c84641871\",\"line\":{\"color\":\"#661D34\",\"dash\":\"solid\"},\"marker\":{\"symbol\":\"circle\"},\"mode\":\"lines+markers\",\"name\":\"dd502275-e98b-51f7-8935-c30c84641871\",\"orientation\":\"v\",\"showlegend\":true,\"x\":[\"2021-06-01T00:00:00\"],\"xaxis\":\"x\",\"y\":[0.053471896797418594],\"yaxis\":\"y\",\"type\":\"scatter\"},{\"customdata\":[[\"ea0a225a-7d09-5d90-88f6-d0e8380d67cc\"]],\"hovertemplate\":\"ModelID=%{customdata[0]:.d}\\u003cbr\\u003eSnapshotTime=%{x}\\u003cbr\\u003eSuccessRate=%{y:.4%}\\u003cextra\\u003e\\u003c\\u002fextra\\u003e\",\"legendgroup\":\"ea0a225a-7d09-5d90-88f6-d0e8380d67cc\",\"line\":{\"color\":\"#86CAC6\",\"dash\":\"solid\"},\"marker\":{\"symbol\":\"circle\"},\"mode\":\"lines+markers\",\"name\":\"ea0a225a-7d09-5d90-88f6-d0e8380d67cc\",\"orientation\":\"v\",\"showlegend\":true,\"x\":[\"2021-06-01T00:00:00\"],\"xaxis\":\"x\",\"y\":[0.2819683253765106],\"yaxis\":\"y\",\"type\":\"scatter\"}],                        {\"template\":{\"layout\":{\"colorway\":[\"#001F5F\",\"#10A5AC\",\"#F76923\",\"#661D34\",\"#86CAC6\",\"#005154\",\"#86CAC6\",\"#5F67B9\",\"#FFC836\",\"#E63690\",\"#AC1361\",\"#63666F\",\"#A7A9B4\",\"#D0D1DB\"],\"hovermode\":\"closest\"}},\"xaxis\":{\"anchor\":\"y\",\"domain\":[0.0,1.0],\"title\":{\"text\":\"SnapshotTime\"}},\"yaxis\":{\"anchor\":\"x\",\"domain\":[0.0,1.0],\"title\":{\"text\":\"SuccessRate\"},\"tickformat\":\".2%\",\"rangemode\":\"tozero\"},\"legend\":{\"title\":{\"text\":\"ModelID\"},\"tracegroupgap\":0},\"title\":{\"text\":\"SuccessRate over time, per ModelID over all models \\u003cbr\\u003e\\u003csup\\u003eQuery: [(col(\\\"Channel\\\")) == (Utf8(Web))]\\u003c\\u002fsup\\u003e\"}},                        {\"responsive\": true}                    ).then(function(){\n",
       "                            \n",
       "var gd = document.getElementById('e8e5271b-6bed-4251-a163-6b3457bf68c7');\n",
       "var x = new MutationObserver(function (mutations, observer) {{\n",
       "        var display = window.getComputedStyle(gd).display;\n",
       "        if (!display || display === 'none') {{\n",
       "            console.log([gd, 'removed!']);\n",
       "            Plotly.purge(gd);\n",
       "            observer.disconnect();\n",
       "        }}\n",
       "}});\n",
       "\n",
       "// Listen for the removal of the full notebook cells\n",
       "var notebookContainer = gd.closest('#notebook-container');\n",
       "if (notebookContainer) {{\n",
       "    x.observe(notebookContainer, {childList: true});\n",
       "}}\n",
       "\n",
       "// Listen for the clearing of the current output cell\n",
       "var outputEl = gd.closest('.output');\n",
       "if (outputEl) {{\n",
       "    x.observe(outputEl, {childList: true});\n",
       "}}\n",
       "\n",
       "                        })                };                });            </script>        </div>"
      ]
     },
     "metadata": {},
     "output_type": "display_data"
    }
   ],
   "source": [
    "CDHSample.plotOverTime(\"SuccessRate\", by=\"ModelID\", query=pl.col(\"Channel\") == \"Web\")\n"
   ]
  },
  {
   "cell_type": "markdown",
   "metadata": {},
   "source": [
    "And if it is not interesting to consider the success rate over time, there is also 'plotPropositionSuccessRates', which by default considers the last state of the models and plots the histogram of their success rates."
   ]
  },
  {
   "cell_type": "code",
   "execution_count": 10,
   "metadata": {
    "execution": {
     "iopub.execute_input": "2024-03-15T12:09:16.458044Z",
     "iopub.status.busy": "2024-03-15T12:09:16.457732Z",
     "iopub.status.idle": "2024-03-15T12:09:16.531886Z",
     "shell.execute_reply": "2024-03-15T12:09:16.531369Z"
    }
   },
   "outputs": [
    {
     "data": {
      "text/html": [
       "<div>                            <div id=\"9a89e6ad-dd2a-4cf6-bfa6-88dcab5824a1\" class=\"plotly-graph-div\" style=\"height:525px; width:100%;\"></div>            <script type=\"text/javascript\">                require([\"plotly\"], function(Plotly) {                    window.PLOTLYENV=window.PLOTLYENV || {};                                    if (document.getElementById(\"9a89e6ad-dd2a-4cf6-bfa6-88dcab5824a1\")) {                    Plotly.newPlot(                        \"9a89e6ad-dd2a-4cf6-bfa6-88dcab5824a1\",                        [{\"alignmentgroup\":\"True\",\"bingroup\":\"y\",\"histfunc\":\"avg\",\"hovertemplate\":\"Name=%{y}\\u003cbr\\u003eavg of SuccessRate=%{x}\\u003cextra\\u003e\\u003c\\u002fextra\\u003e\",\"legendgroup\":\"FirstMortgage\",\"marker\":{\"color\":\"#001F5F\",\"pattern\":{\"shape\":\"\"}},\"name\":\"FirstMortgage\",\"offsetgroup\":\"FirstMortgage\",\"orientation\":\"h\",\"showlegend\":true,\"x\":[0.22154071927070618],\"xaxis\":\"x\",\"y\":[\"FirstMortgage\"],\"yaxis\":\"y\",\"type\":\"histogram\",\"error_x\":{\"array\":[null],\"valueminus\":0}},{\"alignmentgroup\":\"True\",\"bingroup\":\"y\",\"histfunc\":\"avg\",\"hovertemplate\":\"Name=%{y}\\u003cbr\\u003eavg of SuccessRate=%{x}\\u003cextra\\u003e\\u003c\\u002fextra\\u003e\",\"legendgroup\":\"MasterCardGold\",\"marker\":{\"color\":\"#10A5AC\",\"pattern\":{\"shape\":\"\"}},\"name\":\"MasterCardGold\",\"offsetgroup\":\"MasterCardGold\",\"orientation\":\"h\",\"showlegend\":true,\"x\":[0.021556885913014412],\"xaxis\":\"x\",\"y\":[\"MasterCardGold\"],\"yaxis\":\"y\",\"type\":\"histogram\",\"error_x\":{\"array\":[null],\"valueminus\":0}},{\"alignmentgroup\":\"True\",\"bingroup\":\"y\",\"histfunc\":\"avg\",\"hovertemplate\":\"Name=%{y}\\u003cbr\\u003eavg of SuccessRate=%{x}\\u003cextra\\u003e\\u003c\\u002fextra\\u003e\",\"legendgroup\":\"PremierChecking\",\"marker\":{\"color\":\"#F76923\",\"pattern\":{\"shape\":\"\"}},\"name\":\"PremierChecking\",\"offsetgroup\":\"PremierChecking\",\"orientation\":\"h\",\"showlegend\":true,\"x\":[0.27770209312438965],\"xaxis\":\"x\",\"y\":[\"PremierChecking\"],\"yaxis\":\"y\",\"type\":\"histogram\",\"error_x\":{\"array\":[null],\"valueminus\":0}},{\"alignmentgroup\":\"True\",\"bingroup\":\"y\",\"histfunc\":\"avg\",\"hovertemplate\":\"Name=%{y}\\u003cbr\\u003eavg of SuccessRate=%{x}\\u003cextra\\u003e\\u003c\\u002fextra\\u003e\",\"legendgroup\":\"IncreaseYourCreditLine\",\"marker\":{\"color\":\"#661D34\",\"pattern\":{\"shape\":\"\"}},\"name\":\"IncreaseYourCreditLine\",\"offsetgroup\":\"IncreaseYourCreditLine\",\"orientation\":\"h\",\"showlegend\":true,\"x\":[0.04187915474176407],\"xaxis\":\"x\",\"y\":[\"IncreaseYourCreditLine\"],\"yaxis\":\"y\",\"type\":\"histogram\",\"error_x\":{\"array\":[null],\"valueminus\":0}},{\"alignmentgroup\":\"True\",\"bingroup\":\"y\",\"histfunc\":\"avg\",\"hovertemplate\":\"Name=%{y}\\u003cbr\\u003eavg of SuccessRate=%{x}\\u003cextra\\u003e\\u003c\\u002fextra\\u003e\",\"legendgroup\":\"PlatinumRewardsCard\",\"marker\":{\"color\":\"#86CAC6\",\"pattern\":{\"shape\":\"\"}},\"name\":\"PlatinumRewardsCard\",\"offsetgroup\":\"PlatinumRewardsCard\",\"orientation\":\"h\",\"showlegend\":true,\"x\":[0.01543550193309784],\"xaxis\":\"x\",\"y\":[\"PlatinumRewardsCard\"],\"yaxis\":\"y\",\"type\":\"histogram\",\"error_x\":{\"array\":[null],\"valueminus\":0}},{\"alignmentgroup\":\"True\",\"bingroup\":\"y\",\"histfunc\":\"avg\",\"hovertemplate\":\"Name=%{y}\\u003cbr\\u003eavg of SuccessRate=%{x}\\u003cextra\\u003e\\u003c\\u002fextra\\u003e\",\"legendgroup\":\"FirstMortgageFloat\",\"marker\":{\"color\":\"#005154\",\"pattern\":{\"shape\":\"\"}},\"name\":\"FirstMortgageFloat\",\"offsetgroup\":\"FirstMortgageFloat\",\"orientation\":\"h\",\"showlegend\":true,\"x\":[0.025096524506807327],\"xaxis\":\"x\",\"y\":[\"FirstMortgageFloat\"],\"yaxis\":\"y\",\"type\":\"histogram\",\"error_x\":{\"array\":[null],\"valueminus\":0}},{\"alignmentgroup\":\"True\",\"bingroup\":\"y\",\"histfunc\":\"avg\",\"hovertemplate\":\"Name=%{y}\\u003cbr\\u003eavg of SuccessRate=%{x}\\u003cextra\\u003e\\u003c\\u002fextra\\u003e\",\"legendgroup\":\"MoneyMarketSavingsAccount\",\"marker\":{\"color\":\"#86CAC6\",\"pattern\":{\"shape\":\"\"}},\"name\":\"MoneyMarketSavingsAccount\",\"offsetgroup\":\"MoneyMarketSavingsAccount\",\"orientation\":\"h\",\"showlegend\":true,\"x\":[0.09121061116456985],\"xaxis\":\"x\",\"y\":[\"MoneyMarketSavingsAccount\"],\"yaxis\":\"y\",\"type\":\"histogram\",\"error_x\":{\"array\":[null],\"valueminus\":0}},{\"alignmentgroup\":\"True\",\"bingroup\":\"y\",\"histfunc\":\"avg\",\"hovertemplate\":\"Name=%{y}\\u003cbr\\u003eavg of SuccessRate=%{x}\\u003cextra\\u003e\\u003c\\u002fextra\\u003e\",\"legendgroup\":\"UPlusFinGold\",\"marker\":{\"color\":\"#5F67B9\",\"pattern\":{\"shape\":\"\"}},\"name\":\"UPlusFinGold\",\"offsetgroup\":\"UPlusFinGold\",\"orientation\":\"h\",\"showlegend\":true,\"x\":[0.05930851027369499],\"xaxis\":\"x\",\"y\":[\"UPlusFinGold\"],\"yaxis\":\"y\",\"type\":\"histogram\",\"error_x\":{\"array\":[null],\"valueminus\":0}},{\"alignmentgroup\":\"True\",\"bingroup\":\"y\",\"histfunc\":\"avg\",\"hovertemplate\":\"Name=%{y}\\u003cbr\\u003eavg of SuccessRate=%{x}\\u003cextra\\u003e\\u003c\\u002fextra\\u003e\",\"legendgroup\":\"PremiumBanking\",\"marker\":{\"color\":\"#FFC836\",\"pattern\":{\"shape\":\"\"}},\"name\":\"PremiumBanking\",\"offsetgroup\":\"PremiumBanking\",\"orientation\":\"h\",\"showlegend\":true,\"x\":[0.019513137638568878],\"xaxis\":\"x\",\"y\":[\"PremiumBanking\"],\"yaxis\":\"y\",\"type\":\"histogram\",\"error_x\":{\"array\":[null],\"valueminus\":0}},{\"alignmentgroup\":\"True\",\"bingroup\":\"y\",\"histfunc\":\"avg\",\"hovertemplate\":\"Name=%{y}\\u003cbr\\u003eavg of SuccessRate=%{x}\\u003cextra\\u003e\\u003c\\u002fextra\\u003e\",\"legendgroup\":\"HomeOwners\",\"marker\":{\"color\":\"#E63690\",\"pattern\":{\"shape\":\"\"}},\"name\":\"HomeOwners\",\"offsetgroup\":\"HomeOwners\",\"orientation\":\"h\",\"showlegend\":true,\"x\":[0.13224755227565765],\"xaxis\":\"x\",\"y\":[\"HomeOwners\"],\"yaxis\":\"y\",\"type\":\"histogram\",\"error_x\":{\"array\":[null],\"valueminus\":0}},{\"alignmentgroup\":\"True\",\"bingroup\":\"y\",\"histfunc\":\"avg\",\"hovertemplate\":\"Name=%{y}\\u003cbr\\u003eavg of SuccessRate=%{x}\\u003cextra\\u003e\\u003c\\u002fextra\\u003e\",\"legendgroup\":\"AutoNew84Months\",\"marker\":{\"color\":\"#AC1361\",\"pattern\":{\"shape\":\"\"}},\"name\":\"AutoNew84Months\",\"offsetgroup\":\"AutoNew84Months\",\"orientation\":\"h\",\"showlegend\":true,\"x\":[0.12591686844825745],\"xaxis\":\"x\",\"y\":[\"AutoNew84Months\"],\"yaxis\":\"y\",\"type\":\"histogram\",\"error_x\":{\"array\":[null],\"valueminus\":0}},{\"alignmentgroup\":\"True\",\"bingroup\":\"y\",\"histfunc\":\"avg\",\"hovertemplate\":\"Name=%{y}\\u003cbr\\u003eavg of SuccessRate=%{x}\\u003cextra\\u003e\\u003c\\u002fextra\\u003e\",\"legendgroup\":\"PaymentProtection\",\"marker\":{\"color\":\"#63666F\",\"pattern\":{\"shape\":\"\"}},\"name\":\"PaymentProtection\",\"offsetgroup\":\"PaymentProtection\",\"orientation\":\"h\",\"showlegend\":true,\"x\":[0.25072887539863586],\"xaxis\":\"x\",\"y\":[\"PaymentProtection\"],\"yaxis\":\"y\",\"type\":\"histogram\",\"error_x\":{\"array\":[null],\"valueminus\":0}},{\"alignmentgroup\":\"True\",\"bingroup\":\"y\",\"histfunc\":\"avg\",\"hovertemplate\":\"Name=%{y}\\u003cbr\\u003eavg of SuccessRate=%{x}\\u003cextra\\u003e\\u003c\\u002fextra\\u003e\",\"legendgroup\":\"SeniorChecking\",\"marker\":{\"color\":\"#A7A9B4\",\"pattern\":{\"shape\":\"\"}},\"name\":\"SeniorChecking\",\"offsetgroup\":\"SeniorChecking\",\"orientation\":\"h\",\"showlegend\":true,\"x\":[0.19014550745487213],\"xaxis\":\"x\",\"y\":[\"SeniorChecking\"],\"yaxis\":\"y\",\"type\":\"histogram\",\"error_x\":{\"array\":[null],\"valueminus\":0}},{\"alignmentgroup\":\"True\",\"bingroup\":\"y\",\"histfunc\":\"avg\",\"hovertemplate\":\"Name=%{y}\\u003cbr\\u003eavg of SuccessRate=%{x}\\u003cextra\\u003e\\u003c\\u002fextra\\u003e\",\"legendgroup\":\"SuperSaver\",\"marker\":{\"color\":\"#D0D1DB\",\"pattern\":{\"shape\":\"\"}},\"name\":\"SuperSaver\",\"offsetgroup\":\"SuperSaver\",\"orientation\":\"h\",\"showlegend\":true,\"x\":[0.0883977934718132],\"xaxis\":\"x\",\"y\":[\"SuperSaver\"],\"yaxis\":\"y\",\"type\":\"histogram\",\"error_x\":{\"array\":[null],\"valueminus\":0}},{\"alignmentgroup\":\"True\",\"bingroup\":\"y\",\"histfunc\":\"avg\",\"hovertemplate\":\"Name=%{y}\\u003cbr\\u003eavg of SuccessRate=%{x}\\u003cextra\\u003e\\u003c\\u002fextra\\u003e\",\"legendgroup\":\"FirstMortgageFiveOneARM\",\"marker\":{\"color\":\"#001F5F\",\"pattern\":{\"shape\":\"\"}},\"name\":\"FirstMortgageFiveOneARM\",\"offsetgroup\":\"FirstMortgageFiveOneARM\",\"orientation\":\"h\",\"showlegend\":true,\"x\":[0.1737193763256073],\"xaxis\":\"x\",\"y\":[\"FirstMortgageFiveOneARM\"],\"yaxis\":\"y\",\"type\":\"histogram\",\"error_x\":{\"array\":[null],\"valueminus\":0}},{\"alignmentgroup\":\"True\",\"bingroup\":\"y\",\"histfunc\":\"avg\",\"hovertemplate\":\"Name=%{y}\\u003cbr\\u003eavg of SuccessRate=%{x}\\u003cextra\\u003e\\u003c\\u002fextra\\u003e\",\"legendgroup\":\"AutoUsed36Months\",\"marker\":{\"color\":\"#10A5AC\",\"pattern\":{\"shape\":\"\"}},\"name\":\"AutoUsed36Months\",\"offsetgroup\":\"AutoUsed36Months\",\"orientation\":\"h\",\"showlegend\":true,\"x\":[0.10248815268278122],\"xaxis\":\"x\",\"y\":[\"AutoUsed36Months\"],\"yaxis\":\"y\",\"type\":\"histogram\",\"error_x\":{\"array\":[null],\"valueminus\":0}},{\"alignmentgroup\":\"True\",\"bingroup\":\"y\",\"histfunc\":\"avg\",\"hovertemplate\":\"Name=%{y}\\u003cbr\\u003eavg of SuccessRate=%{x}\\u003cextra\\u003e\\u003c\\u002fextra\\u003e\",\"legendgroup\":\"VisaGold\",\"marker\":{\"color\":\"#F76923\",\"pattern\":{\"shape\":\"\"}},\"name\":\"VisaGold\",\"offsetgroup\":\"VisaGold\",\"orientation\":\"h\",\"showlegend\":true,\"x\":[0.05912596359848976],\"xaxis\":\"x\",\"y\":[\"VisaGold\"],\"yaxis\":\"y\",\"type\":\"histogram\",\"error_x\":{\"array\":[null],\"valueminus\":0}},{\"alignmentgroup\":\"True\",\"bingroup\":\"y\",\"histfunc\":\"avg\",\"hovertemplate\":\"Name=%{y}\\u003cbr\\u003eavg of SuccessRate=%{x}\\u003cextra\\u003e\\u003c\\u002fextra\\u003e\",\"legendgroup\":\"Services_ChannelAction_Template\",\"marker\":{\"color\":\"#661D34\",\"pattern\":{\"shape\":\"\"}},\"name\":\"Services_ChannelAction_Template\",\"offsetgroup\":\"Services_ChannelAction_Template\",\"orientation\":\"h\",\"showlegend\":true,\"x\":[0.05089778080582619],\"xaxis\":\"x\",\"y\":[\"Services_ChannelAction_Template\"],\"yaxis\":\"y\",\"type\":\"histogram\",\"error_x\":{\"array\":[null],\"valueminus\":0}},{\"alignmentgroup\":\"True\",\"bingroup\":\"y\",\"histfunc\":\"avg\",\"hovertemplate\":\"Name=%{y}\\u003cbr\\u003eavg of SuccessRate=%{x}\\u003cextra\\u003e\\u003c\\u002fextra\\u003e\",\"legendgroup\":\"AutoNew36Months\",\"marker\":{\"color\":\"#86CAC6\",\"pattern\":{\"shape\":\"\"}},\"name\":\"AutoNew36Months\",\"offsetgroup\":\"AutoNew36Months\",\"orientation\":\"h\",\"showlegend\":true,\"x\":[0.024913620203733444],\"xaxis\":\"x\",\"y\":[\"AutoNew36Months\"],\"yaxis\":\"y\",\"type\":\"histogram\",\"error_x\":{\"array\":[null],\"valueminus\":0}}],                        {\"template\":{\"layout\":{\"colorway\":[\"#001F5F\",\"#10A5AC\",\"#F76923\",\"#661D34\",\"#86CAC6\",\"#005154\",\"#86CAC6\",\"#5F67B9\",\"#FFC836\",\"#E63690\",\"#AC1361\",\"#63666F\",\"#A7A9B4\",\"#D0D1DB\"],\"hovermode\":\"closest\"}},\"xaxis\":{\"anchor\":\"y\",\"domain\":[0.0,1.0],\"title\":{\"text\":\"avg of SuccessRate\"}},\"yaxis\":{\"anchor\":\"x\",\"domain\":[0.0,1.0],\"title\":{\"text\":\"Name\"},\"categoryorder\":\"total ascending\",\"categoryarray\":[\"AutoNew36Months\",\"Services_ChannelAction_Template\",\"VisaGold\",\"AutoUsed36Months\",\"FirstMortgageFiveOneARM\",\"SuperSaver\",\"SeniorChecking\",\"PaymentProtection\",\"AutoNew84Months\",\"HomeOwners\",\"PremiumBanking\",\"UPlusFinGold\",\"MoneyMarketSavingsAccount\",\"FirstMortgageFloat\",\"PlatinumRewardsCard\",\"IncreaseYourCreditLine\",\"PremierChecking\",\"MasterCardGold\",\"FirstMortgage\"],\"dtick\":1,\"automargin\":true},\"legend\":{\"title\":{\"text\":\"Name\"},\"tracegroupgap\":0},\"title\":{\"text\":\"SuccessRate of each proposition over all models \\u003cbr\\u003e\\u003csup\\u003eQuery: [(col(\\\"Channel\\\")) == (Utf8(Web))]\\u003c\\u002fsup\\u003e\"},\"barmode\":\"relative\",\"showlegend\":false},                        {\"responsive\": true}                    ).then(function(){\n",
       "                            \n",
       "var gd = document.getElementById('9a89e6ad-dd2a-4cf6-bfa6-88dcab5824a1');\n",
       "var x = new MutationObserver(function (mutations, observer) {{\n",
       "        var display = window.getComputedStyle(gd).display;\n",
       "        if (!display || display === 'none') {{\n",
       "            console.log([gd, 'removed!']);\n",
       "            Plotly.purge(gd);\n",
       "            observer.disconnect();\n",
       "        }}\n",
       "}});\n",
       "\n",
       "// Listen for the removal of the full notebook cells\n",
       "var notebookContainer = gd.closest('#notebook-container');\n",
       "if (notebookContainer) {{\n",
       "    x.observe(notebookContainer, {childList: true});\n",
       "}}\n",
       "\n",
       "// Listen for the clearing of the current output cell\n",
       "var outputEl = gd.closest('.output');\n",
       "if (outputEl) {{\n",
       "    x.observe(outputEl, {childList: true});\n",
       "}}\n",
       "\n",
       "                        })                };                });            </script>        </div>"
      ]
     },
     "metadata": {},
     "output_type": "display_data"
    }
   ],
   "source": [
    "CDHSample.plotPropositionSuccessRates(query=pl.col(\"Channel\") == \"Web\")\n"
   ]
  },
  {
   "cell_type": "markdown",
   "metadata": {},
   "source": [
    "If we want to look at the distribution of responses and their propensities for a given model, we can subset that model and call plotScoreDistribution. Note here we subset the model by its ID."
   ]
  },
  {
   "cell_type": "code",
   "execution_count": 11,
   "metadata": {
    "execution": {
     "iopub.execute_input": "2024-03-15T12:09:16.533927Z",
     "iopub.status.busy": "2024-03-15T12:09:16.533598Z",
     "iopub.status.idle": "2024-03-15T12:09:16.555775Z",
     "shell.execute_reply": "2024-03-15T12:09:16.555234Z"
    }
   },
   "outputs": [
    {
     "data": {
      "text/html": [
       "<div>                            <div id=\"1e080c58-42f4-417d-870c-47c9197eaa57\" class=\"plotly-graph-div\" style=\"height:525px; width:100%;\"></div>            <script type=\"text/javascript\">                require([\"plotly\"], function(Plotly) {                    window.PLOTLYENV=window.PLOTLYENV || {};                                    if (document.getElementById(\"1e080c58-42f4-417d-870c-47c9197eaa57\")) {                    Plotly.newPlot(                        \"1e080c58-42f4-417d-870c-47c9197eaa57\",                        [{\"name\":\"Responses\",\"x\":[\"\\u003c-0.215\",\"[-0.215, -0.2\\u003e\",\"[-0.2, -0.165\\u003e\",\"[-0.165, -0.16\\u003e\",\"[-0.16, -0.14\\u003e\",\"[-0.14, -0.115\\u003e\",\"[-0.115, -0.105\\u003e\",\"[-0.105, -0.09\\u003e\",\"[-0.09, -0.08\\u003e\",\"[-0.08, -0.065\\u003e\",\"[-0.065, -0.045\\u003e\",\"[-0.045, -0.04\\u003e\",\"[-0.04, -0.02\\u003e\",\"[-0.02, -0.01\\u003e\",\"[-0.01, 0.0\\u003e\",\"[0.0, 0.03\\u003e\",\"[0.03, 0.04\\u003e\",\"[0.04, 0.085\\u003e\",\"[0.085, 0.09\\u003e\",\"[0.09, 0.125\\u003e\",\"[0.125, 0.995\\u003e\",\"\\u003e=0.995\"],\"y\":[922.0,216.0,598.0,122.0,398.0,491.0,170.0,250.0,151.0,213.0,285.0,63.0,217.0,81.0,80.0,161.0,38.0,96.0,7.0,30.0,12.0,4.0],\"type\":\"bar\"},{\"mode\":\"lines+markers\",\"name\":\"Propensity\",\"x\":[\"\\u003c-0.215\",\"[-0.215, -0.2\\u003e\",\"[-0.2, -0.165\\u003e\",\"[-0.165, -0.16\\u003e\",\"[-0.16, -0.14\\u003e\",\"[-0.14, -0.115\\u003e\",\"[-0.115, -0.105\\u003e\",\"[-0.105, -0.09\\u003e\",\"[-0.09, -0.08\\u003e\",\"[-0.08, -0.065\\u003e\",\"[-0.065, -0.045\\u003e\",\"[-0.045, -0.04\\u003e\",\"[-0.04, -0.02\\u003e\",\"[-0.02, -0.01\\u003e\",\"[-0.01, 0.0\\u003e\",\"[0.0, 0.03\\u003e\",\"[0.03, 0.04\\u003e\",\"[0.04, 0.085\\u003e\",\"[0.085, 0.09\\u003e\",\"[0.09, 0.125\\u003e\",\"[0.125, 0.995\\u003e\",\"\\u003e=0.995\"],\"y\":[0.04446854814887047,0.046296294778585434,0.05183946341276169,0.05737704783678055,0.07537688314914703,0.08146639168262482,0.0941176488995552,0.1080000028014183,0.14569535851478577,0.17840375006198883,0.1859649121761322,0.2698412835597992,0.28110599517822266,0.3086419701576233,0.3125,0.3726707994937897,0.3947368562221527,0.5,0.7142857313156128,0.7666666507720947,0.9166666865348816,1.0],\"yaxis\":\"y2\",\"type\":\"scatter\"}],                        {\"template\":{\"data\":{\"scatter\":[{\"type\":\"scatter\"}]}},\"xaxis\":{\"anchor\":\"y\",\"domain\":[0.0,0.94],\"title\":{\"text\":\"Range\"},\"type\":\"category\"},\"yaxis\":{\"anchor\":\"x\",\"domain\":[0.0,1.0],\"title\":{\"text\":\"Responses\"},\"showgrid\":false},\"yaxis2\":{\"anchor\":\"x\",\"overlaying\":\"y\",\"side\":\"right\",\"title\":{\"text\":\"Propensity\"},\"tickformat\":\",.3%\",\"zeroline\":false,\"showgrid\":false},\"title\":{\"text\":\"Classifier score distribution\\u003cbr\\u003e\\n            \\u003csup\\u003eModel name: HomeOwners\\n            \\u003cbr\\u003eModel ID 0\\u003c\\u002fsup\\u003e\\u003cbr\\u003e\\u003csup\\u003eQuery: [(col(\\\"ModelID\\\")) == (Utf8(08ca1302-9fc0-57bf-9031-d4179d400493))]\\u003c\\u002fsup\\u003e\"}},                        {\"responsive\": true}                    ).then(function(){\n",
       "                            \n",
       "var gd = document.getElementById('1e080c58-42f4-417d-870c-47c9197eaa57');\n",
       "var x = new MutationObserver(function (mutations, observer) {{\n",
       "        var display = window.getComputedStyle(gd).display;\n",
       "        if (!display || display === 'none') {{\n",
       "            console.log([gd, 'removed!']);\n",
       "            Plotly.purge(gd);\n",
       "            observer.disconnect();\n",
       "        }}\n",
       "}});\n",
       "\n",
       "// Listen for the removal of the full notebook cells\n",
       "var notebookContainer = gd.closest('#notebook-container');\n",
       "if (notebookContainer) {{\n",
       "    x.observe(notebookContainer, {childList: true});\n",
       "}}\n",
       "\n",
       "// Listen for the clearing of the current output cell\n",
       "var outputEl = gd.closest('.output');\n",
       "if (outputEl) {{\n",
       "    x.observe(outputEl, {childList: true});\n",
       "}}\n",
       "\n",
       "                        })                };                });            </script>        </div>"
      ]
     },
     "metadata": {},
     "output_type": "display_data"
    }
   ],
   "source": [
    "CDHSample.plotScoreDistribution(\n",
    "    query=pl.col(\"ModelID\") == \"08ca1302-9fc0-57bf-9031-d4179d400493\", show_each=False\n",
    ")\n"
   ]
  },
  {
   "cell_type": "markdown",
   "metadata": {},
   "source": [
    "Alternatively, we can also subset a model by its model name, and then further drill down by group/issue/channel/configuration. See the example below."
   ]
  },
  {
   "cell_type": "code",
   "execution_count": 12,
   "metadata": {
    "execution": {
     "iopub.execute_input": "2024-03-15T12:09:16.557916Z",
     "iopub.status.busy": "2024-03-15T12:09:16.557523Z",
     "iopub.status.idle": "2024-03-15T12:09:16.578866Z",
     "shell.execute_reply": "2024-03-15T12:09:16.578450Z"
    }
   },
   "outputs": [
    {
     "data": {
      "text/html": [
       "<div>                            <div id=\"1a89b5e3-29a4-4e21-aa87-9d603ef951d2\" class=\"plotly-graph-div\" style=\"height:525px; width:100%;\"></div>            <script type=\"text/javascript\">                require([\"plotly\"], function(Plotly) {                    window.PLOTLYENV=window.PLOTLYENV || {};                                    if (document.getElementById(\"1a89b5e3-29a4-4e21-aa87-9d603ef951d2\")) {                    Plotly.newPlot(                        \"1a89b5e3-29a4-4e21-aa87-9d603ef951d2\",                        [{\"name\":\"Responses\",\"x\":[\"\\u003c-0.215\",\"[-0.215, -0.2\\u003e\",\"[-0.2, -0.165\\u003e\",\"[-0.165, -0.16\\u003e\",\"[-0.16, -0.14\\u003e\",\"[-0.14, -0.115\\u003e\",\"[-0.115, -0.105\\u003e\",\"[-0.105, -0.09\\u003e\",\"[-0.09, -0.08\\u003e\",\"[-0.08, -0.065\\u003e\",\"[-0.065, -0.045\\u003e\",\"[-0.045, -0.04\\u003e\",\"[-0.04, -0.02\\u003e\",\"[-0.02, -0.01\\u003e\",\"[-0.01, 0.0\\u003e\",\"[0.0, 0.03\\u003e\",\"[0.03, 0.04\\u003e\",\"[0.04, 0.085\\u003e\",\"[0.085, 0.09\\u003e\",\"[0.09, 0.125\\u003e\",\"[0.125, 0.995\\u003e\",\"\\u003e=0.995\"],\"y\":[922.0,216.0,598.0,122.0,398.0,491.0,170.0,250.0,151.0,213.0,285.0,63.0,217.0,81.0,80.0,161.0,38.0,96.0,7.0,30.0,12.0,4.0],\"type\":\"bar\"},{\"mode\":\"lines+markers\",\"name\":\"Propensity\",\"x\":[\"\\u003c-0.215\",\"[-0.215, -0.2\\u003e\",\"[-0.2, -0.165\\u003e\",\"[-0.165, -0.16\\u003e\",\"[-0.16, -0.14\\u003e\",\"[-0.14, -0.115\\u003e\",\"[-0.115, -0.105\\u003e\",\"[-0.105, -0.09\\u003e\",\"[-0.09, -0.08\\u003e\",\"[-0.08, -0.065\\u003e\",\"[-0.065, -0.045\\u003e\",\"[-0.045, -0.04\\u003e\",\"[-0.04, -0.02\\u003e\",\"[-0.02, -0.01\\u003e\",\"[-0.01, 0.0\\u003e\",\"[0.0, 0.03\\u003e\",\"[0.03, 0.04\\u003e\",\"[0.04, 0.085\\u003e\",\"[0.085, 0.09\\u003e\",\"[0.09, 0.125\\u003e\",\"[0.125, 0.995\\u003e\",\"\\u003e=0.995\"],\"y\":[0.04446854814887047,0.046296294778585434,0.05183946341276169,0.05737704783678055,0.07537688314914703,0.08146639168262482,0.0941176488995552,0.1080000028014183,0.14569535851478577,0.17840375006198883,0.1859649121761322,0.2698412835597992,0.28110599517822266,0.3086419701576233,0.3125,0.3726707994937897,0.3947368562221527,0.5,0.7142857313156128,0.7666666507720947,0.9166666865348816,1.0],\"yaxis\":\"y2\",\"type\":\"scatter\"}],                        {\"template\":{\"data\":{\"scatter\":[{\"type\":\"scatter\"}]}},\"xaxis\":{\"anchor\":\"y\",\"domain\":[0.0,0.94],\"title\":{\"text\":\"Range\"},\"type\":\"category\"},\"yaxis\":{\"anchor\":\"x\",\"domain\":[0.0,1.0],\"title\":{\"text\":\"Responses\"},\"showgrid\":false},\"yaxis2\":{\"anchor\":\"x\",\"overlaying\":\"y\",\"side\":\"right\",\"title\":{\"text\":\"Propensity\"},\"tickformat\":\",.3%\",\"zeroline\":false,\"showgrid\":false},\"title\":{\"text\":\"Classifier score distribution\\u003cbr\\u003e\\n            \\u003csup\\u003eModel name: HomeOwners\\n            \\u003cbr\\u003eModel ID 0\\u003c\\u002fsup\\u003e\\u003cbr\\u003e\\u003csup\\u003eQuery: [([([([([(col(\\\"Name\\\")) == (Utf8(HomeOwners))]) & ([(col(\\\"Group\\\")) == (Utf8(Bundles))])]) & ([(col(\\\"Issue\\\")) == (Utf8(Sales))])]) & ([(col(\\\"Channel\\\")) == (Utf8(Web))])]) & ([(col(\\\"Configuration\\\")) == (Utf8(OmniAdaptiveModel))])]\\u003c\\u002fsup\\u003e\"}},                        {\"responsive\": true}                    ).then(function(){\n",
       "                            \n",
       "var gd = document.getElementById('1a89b5e3-29a4-4e21-aa87-9d603ef951d2');\n",
       "var x = new MutationObserver(function (mutations, observer) {{\n",
       "        var display = window.getComputedStyle(gd).display;\n",
       "        if (!display || display === 'none') {{\n",
       "            console.log([gd, 'removed!']);\n",
       "            Plotly.purge(gd);\n",
       "            observer.disconnect();\n",
       "        }}\n",
       "}});\n",
       "\n",
       "// Listen for the removal of the full notebook cells\n",
       "var notebookContainer = gd.closest('#notebook-container');\n",
       "if (notebookContainer) {{\n",
       "    x.observe(notebookContainer, {childList: true});\n",
       "}}\n",
       "\n",
       "// Listen for the clearing of the current output cell\n",
       "var outputEl = gd.closest('.output');\n",
       "if (outputEl) {{\n",
       "    x.observe(outputEl, {childList: true});\n",
       "}}\n",
       "\n",
       "                        })                };                });            </script>        </div>"
      ]
     },
     "metadata": {},
     "output_type": "display_data"
    }
   ],
   "source": [
    "CDHSample.plotScoreDistribution(\n",
    "    query=(pl.col(\"Name\") == \"HomeOwners\")\n",
    "    & (pl.col(\"Group\") == \"Bundles\")\n",
    "    & (pl.col(\"Issue\") == \"Sales\")\n",
    "    & (pl.col(\"Channel\") == \"Web\")\n",
    "    & (pl.col(\"Configuration\") == \"OmniAdaptiveModel\")\n",
    ")\n"
   ]
  },
  {
   "cell_type": "markdown",
   "metadata": {},
   "source": [
    "Similarly, we can also display the distribution of a single predictor and its binning. This function loops through each predictor of a model and generates the binning image for that predictor. For that reason we recommend subsetting the predictor names ahead of time or, depending on how many predictors the model has, a lot of images will be generated."
   ]
  },
  {
   "cell_type": "code",
   "execution_count": 13,
   "metadata": {
    "execution": {
     "iopub.execute_input": "2024-03-15T12:09:16.580783Z",
     "iopub.status.busy": "2024-03-15T12:09:16.580484Z",
     "iopub.status.idle": "2024-03-15T12:09:16.633525Z",
     "shell.execute_reply": "2024-03-15T12:09:16.633064Z"
    }
   },
   "outputs": [
    {
     "data": {
      "text/html": [
       "<div>                            <div id=\"56caa1a0-8c81-4910-b90e-0137edfa517d\" class=\"plotly-graph-div\" style=\"height:525px; width:100%;\"></div>            <script type=\"text/javascript\">                require([\"plotly\"], function(Plotly) {                    window.PLOTLYENV=window.PLOTLYENV || {};                                    if (document.getElementById(\"56caa1a0-8c81-4910-b90e-0137edfa517d\")) {                    Plotly.newPlot(                        \"56caa1a0-8c81-4910-b90e-0137edfa517d\",                        [{\"name\":\"Responses\",\"x\":[\"\\u003c5322.5409\",\"[5322.5409, 11220.7809\\u003e\",\"[11220.7809, 14825.2609\\u003e\",\"[14825.2609, 20068.1409\\u003e\",\"[20068.1409, 25311.0209\\u003e\",\"[25311.0209, 33503.0209\\u003e\",\"[33503.0209, 38418.2209\\u003e\",\"[38418.2209, 49231.6609\\u003e\",\"[49231.6609, 58079.0209\\u003e\",\"\\u003e=58079.0209\"],\"y\":[348.0,515.0,370.0,393.0,507.0,623.0,268.0,511.0,284.0,786.0],\"type\":\"bar\"},{\"mode\":\"lines+markers\",\"name\":\"Propensity\",\"x\":[\"\\u003c5322.5409\",\"[5322.5409, 11220.7809\\u003e\",\"[11220.7809, 14825.2609\\u003e\",\"[14825.2609, 20068.1409\\u003e\",\"[20068.1409, 25311.0209\\u003e\",\"[25311.0209, 33503.0209\\u003e\",\"[33503.0209, 38418.2209\\u003e\",\"[38418.2209, 49231.6609\\u003e\",\"[49231.6609, 58079.0209\\u003e\",\"\\u003e=58079.0209\"],\"y\":[0.13793103396892548,0.09320387989282608,0.07027027010917664,0.04325699806213379,0.08481262624263763,0.051364365965127945,0.10820895433425903,0.08219178020954132,0.1654929518699646,0.3524172902107239],\"yaxis\":\"y2\",\"type\":\"scatter\"}],                        {\"template\":{\"data\":{\"scatter\":[{\"type\":\"scatter\"}]}},\"xaxis\":{\"anchor\":\"y\",\"domain\":[0.0,0.94],\"title\":{\"text\":\"Range\"},\"type\":\"category\"},\"yaxis\":{\"anchor\":\"x\",\"domain\":[0.0,1.0],\"title\":{\"text\":\"Responses\"},\"showgrid\":false},\"yaxis2\":{\"anchor\":\"x\",\"overlaying\":\"y\",\"side\":\"right\",\"title\":{\"text\":\"Propensity\"},\"tickformat\":\",.3%\",\"zeroline\":false,\"showgrid\":false},\"title\":{\"text\":\"Model name: ('HomeOwners',)\\u003cbr\\u003e\\u003csup\\u003eModel ID: 08ca1302-9fc0-57bf-9031-d4179d400493\\u003cbr\\u003ePredictor name: Customer.AnnualIncome\\u003c\\u002fsup\\u003e\\u003cbr\\u003e\\u003csup\\u003eQuery: [([(col(\\\"ModelID\\\")) == (Utf8(08ca1302-9fc0-57bf-9031-d4179d400493))]) & (col(\\\"PredictorName\\\").is_in([Series]))]\\u003c\\u002fsup\\u003e\"}},                        {\"responsive\": true}                    ).then(function(){\n",
       "                            \n",
       "var gd = document.getElementById('56caa1a0-8c81-4910-b90e-0137edfa517d');\n",
       "var x = new MutationObserver(function (mutations, observer) {{\n",
       "        var display = window.getComputedStyle(gd).display;\n",
       "        if (!display || display === 'none') {{\n",
       "            console.log([gd, 'removed!']);\n",
       "            Plotly.purge(gd);\n",
       "            observer.disconnect();\n",
       "        }}\n",
       "}});\n",
       "\n",
       "// Listen for the removal of the full notebook cells\n",
       "var notebookContainer = gd.closest('#notebook-container');\n",
       "if (notebookContainer) {{\n",
       "    x.observe(notebookContainer, {childList: true});\n",
       "}}\n",
       "\n",
       "// Listen for the clearing of the current output cell\n",
       "var outputEl = gd.closest('.output');\n",
       "if (outputEl) {{\n",
       "    x.observe(outputEl, {childList: true});\n",
       "}}\n",
       "\n",
       "                        })                };                });            </script>        </div>"
      ]
     },
     "metadata": {},
     "output_type": "display_data"
    },
    {
     "data": {
      "text/html": [
       "<div>                            <div id=\"71e2be67-bf41-4124-860c-16b083f19d3c\" class=\"plotly-graph-div\" style=\"height:525px; width:100%;\"></div>            <script type=\"text/javascript\">                require([\"plotly\"], function(Plotly) {                    window.PLOTLYENV=window.PLOTLYENV || {};                                    if (document.getElementById(\"71e2be67-bf41-4124-860c-16b083f19d3c\")) {                    Plotly.newPlot(                        \"71e2be67-bf41-4124-860c-16b083f19d3c\",                        [{\"name\":\"Responses\",\"x\":[\"\\u003c27.12\",\"[27.12, 32.08\\u003e\",\"[32.08, 34.16\\u003e\",\"[34.16, 39.12\\u003e\",\"[39.12, 42.16\\u003e\",\"[42.16, 44.08\\u003e\",\"[44.08, 47.12\\u003e\",\"[47.12, 49.04\\u003e\",\"[49.04, 52.08\\u003e\",\"[52.08, 57.04\\u003e\",\"\\u003e=57.04\"],\"y\":[374.0,571.0,238.0,771.0,586.0,320.0,432.0,313.0,332.0,328.0,340.0],\"type\":\"bar\"},{\"mode\":\"lines+markers\",\"name\":\"Propensity\",\"x\":[\"\\u003c27.12\",\"[27.12, 32.08\\u003e\",\"[32.08, 34.16\\u003e\",\"[34.16, 39.12\\u003e\",\"[39.12, 42.16\\u003e\",\"[42.16, 44.08\\u003e\",\"[44.08, 47.12\\u003e\",\"[47.12, 49.04\\u003e\",\"[49.04, 52.08\\u003e\",\"[52.08, 57.04\\u003e\",\"\\u003e=57.04\"],\"y\":[0.19518716633319855,0.09982486814260483,0.06302521377801895,0.11284046620130539,0.13993173837661743,0.09375,0.1111111119389534,0.15015974640846252,0.21987952291965485,0.18292683362960815,0.10882353037595749],\"yaxis\":\"y2\",\"type\":\"scatter\"}],                        {\"template\":{\"data\":{\"scatter\":[{\"type\":\"scatter\"}]}},\"xaxis\":{\"anchor\":\"y\",\"domain\":[0.0,0.94],\"title\":{\"text\":\"Range\"},\"type\":\"category\"},\"yaxis\":{\"anchor\":\"x\",\"domain\":[0.0,1.0],\"title\":{\"text\":\"Responses\"},\"showgrid\":false},\"yaxis2\":{\"anchor\":\"x\",\"overlaying\":\"y\",\"side\":\"right\",\"title\":{\"text\":\"Propensity\"},\"tickformat\":\",.3%\",\"zeroline\":false,\"showgrid\":false},\"title\":{\"text\":\"Model name: ('HomeOwners',)\\u003cbr\\u003e\\u003csup\\u003eModel ID: 08ca1302-9fc0-57bf-9031-d4179d400493\\u003cbr\\u003ePredictor name: Customer.Age\\u003c\\u002fsup\\u003e\\u003cbr\\u003e\\u003csup\\u003eQuery: [([(col(\\\"ModelID\\\")) == (Utf8(08ca1302-9fc0-57bf-9031-d4179d400493))]) & (col(\\\"PredictorName\\\").is_in([Series]))]\\u003c\\u002fsup\\u003e\"}},                        {\"responsive\": true}                    ).then(function(){\n",
       "                            \n",
       "var gd = document.getElementById('71e2be67-bf41-4124-860c-16b083f19d3c');\n",
       "var x = new MutationObserver(function (mutations, observer) {{\n",
       "        var display = window.getComputedStyle(gd).display;\n",
       "        if (!display || display === 'none') {{\n",
       "            console.log([gd, 'removed!']);\n",
       "            Plotly.purge(gd);\n",
       "            observer.disconnect();\n",
       "        }}\n",
       "}});\n",
       "\n",
       "// Listen for the removal of the full notebook cells\n",
       "var notebookContainer = gd.closest('#notebook-container');\n",
       "if (notebookContainer) {{\n",
       "    x.observe(notebookContainer, {childList: true});\n",
       "}}\n",
       "\n",
       "// Listen for the clearing of the current output cell\n",
       "var outputEl = gd.closest('.output');\n",
       "if (outputEl) {{\n",
       "    x.observe(outputEl, {childList: true});\n",
       "}}\n",
       "\n",
       "                        })                };                });            </script>        </div>"
      ]
     },
     "metadata": {},
     "output_type": "display_data"
    },
    {
     "data": {
      "text/html": [
       "<div>                            <div id=\"e6767f4c-eff6-49ec-b8b3-9961ea196953\" class=\"plotly-graph-div\" style=\"height:525px; width:100%;\"></div>            <script type=\"text/javascript\">                require([\"plotly\"], function(Plotly) {                    window.PLOTLYENV=window.PLOTLYENV || {};                                    if (document.getElementById(\"e6767f4c-eff6-49ec-b8b3-9961ea196953\")) {                    Plotly.newPlot(                        \"e6767f4c-eff6-49ec-b8b3-9961ea196953\",                        [{\"name\":\"Responses\",\"x\":[\"MISSING\",\"DepositAccounts, AutoLoans\",\"Customer, CreditCards\",\"HomeLoans\",\"Bundles\",\"Account, WealthOffers\"],\"y\":[675.0,1882.0,864.0,493.0,462.0,228.0],\"type\":\"bar\"},{\"mode\":\"lines+markers\",\"name\":\"Propensity\",\"x\":[\"MISSING\",\"DepositAccounts, AutoLoans\",\"Customer, CreditCards\",\"HomeLoans\",\"Bundles\",\"Account, WealthOffers\"],\"y\":[0.11555555462837219,0.11211477220058441,0.1215277761220932,0.16227181255817413,0.20995670557022095,0.1666666716337204],\"yaxis\":\"y2\",\"type\":\"scatter\"}],                        {\"template\":{\"data\":{\"scatter\":[{\"type\":\"scatter\"}]}},\"xaxis\":{\"anchor\":\"y\",\"domain\":[0.0,0.94],\"title\":{\"text\":\"Range\"},\"type\":\"category\"},\"yaxis\":{\"anchor\":\"x\",\"domain\":[0.0,1.0],\"title\":{\"text\":\"Responses\"},\"showgrid\":false},\"yaxis2\":{\"anchor\":\"x\",\"overlaying\":\"y\",\"side\":\"right\",\"title\":{\"text\":\"Propensity\"},\"tickformat\":\",.3%\",\"zeroline\":false,\"showgrid\":false},\"title\":{\"text\":\"Model name: ('HomeOwners',)\\u003cbr\\u003e\\u003csup\\u003eModel ID: 08ca1302-9fc0-57bf-9031-d4179d400493\\u003cbr\\u003ePredictor name: IH.Email.Outbound.Accepted.pxLastGroupID\\u003c\\u002fsup\\u003e\\u003cbr\\u003e\\u003csup\\u003eQuery: [([(col(\\\"ModelID\\\")) == (Utf8(08ca1302-9fc0-57bf-9031-d4179d400493))]) & (col(\\\"PredictorName\\\").is_in([Series]))]\\u003c\\u002fsup\\u003e\"}},                        {\"responsive\": true}                    ).then(function(){\n",
       "                            \n",
       "var gd = document.getElementById('e6767f4c-eff6-49ec-b8b3-9961ea196953');\n",
       "var x = new MutationObserver(function (mutations, observer) {{\n",
       "        var display = window.getComputedStyle(gd).display;\n",
       "        if (!display || display === 'none') {{\n",
       "            console.log([gd, 'removed!']);\n",
       "            Plotly.purge(gd);\n",
       "            observer.disconnect();\n",
       "        }}\n",
       "}});\n",
       "\n",
       "// Listen for the removal of the full notebook cells\n",
       "var notebookContainer = gd.closest('#notebook-container');\n",
       "if (notebookContainer) {{\n",
       "    x.observe(notebookContainer, {childList: true});\n",
       "}}\n",
       "\n",
       "// Listen for the clearing of the current output cell\n",
       "var outputEl = gd.closest('.output');\n",
       "if (outputEl) {{\n",
       "    x.observe(outputEl, {childList: true});\n",
       "}}\n",
       "\n",
       "                        })                };                });            </script>        </div>"
      ]
     },
     "metadata": {},
     "output_type": "display_data"
    }
   ],
   "source": [
    "CDHSample.plotPredictorBinning(\n",
    "    query=(pl.col(\"ModelID\") == \"08ca1302-9fc0-57bf-9031-d4179d400493\")\n",
    "    & (\n",
    "        pl.col(\"PredictorName\").is_in(\n",
    "            [\n",
    "                \"Customer.Age\",\n",
    "                \"Customer.AnnualIncome\",\n",
    "                \"IH.Email.Outbound.Accepted.pxLastGroupID\",\n",
    "            ]\n",
    "        )\n",
    "    ),\n",
    "    show_each=True,\n",
    ");\n"
   ]
  },
  {
   "cell_type": "markdown",
   "metadata": {},
   "source": [
    "Alternatively we can look at the performance of a predictor over multiple models. Again, we recommend subsetting the predictor names with a list to make it more legible. "
   ]
  },
  {
   "cell_type": "code",
   "execution_count": 14,
   "metadata": {
    "execution": {
     "iopub.execute_input": "2024-03-15T12:09:16.635495Z",
     "iopub.status.busy": "2024-03-15T12:09:16.635169Z",
     "iopub.status.idle": "2024-03-15T12:09:16.668509Z",
     "shell.execute_reply": "2024-03-15T12:09:16.667915Z"
    }
   },
   "outputs": [
    {
     "data": {
      "text/html": [
       "<div>                            <div id=\"b145ad41-a90c-490c-be90-0942a2aad8e7\" class=\"plotly-graph-div\" style=\"height:525px; width:100%;\"></div>            <script type=\"text/javascript\">                require([\"plotly\"], function(Plotly) {                    window.PLOTLYENV=window.PLOTLYENV || {};                                    if (document.getElementById(\"b145ad41-a90c-490c-be90-0942a2aad8e7\")) {                    Plotly.newPlot(                        \"b145ad41-a90c-490c-be90-0942a2aad8e7\",                        [{\"alignmentgroup\":\"True\",\"hovertemplate\":\"Legend=IH\\u003cbr\\u003ePerformance=%{x}\\u003cbr\\u003ePredictor Name=%{y}\\u003cextra\\u003e\\u003c\\u002fextra\\u003e\",\"legendgroup\":\"IH\",\"marker\":{\"color\":\"#001F5F\"},\"name\":\"IH\",\"notched\":false,\"offsetgroup\":\"IH\",\"orientation\":\"h\",\"showlegend\":true,\"x\":[57.652800000000006,66.7804,67.88300000000001,54.817499999999995,57.5792,60.5249,53.0076,53.98,63.696,54.573899999999995,57.894,67.6683,56.3398,59.1166,55.9497,57.2565,62.7857,62.2877,51.019400000000005,53.4604],\"x0\":\" \",\"xaxis\":\"x\",\"y\":[\"IH.Email.Outbound.Accepted.pxLastGroupID\",\"IH.Email.Outbound.Accepted.pxLastGroupID\",\"IH.Email.Outbound.Accepted.pxLastGroupID\",\"IH.Email.Outbound.Accepted.pxLastGroupID\",\"IH.Email.Outbound.Accepted.pxLastGroupID\",\"IH.Email.Outbound.Accepted.pxLastGroupID\",\"IH.Email.Outbound.Accepted.pxLastGroupID\",\"IH.Email.Outbound.Accepted.pxLastGroupID\",\"IH.Email.Outbound.Accepted.pxLastGroupID\",\"IH.Email.Outbound.Accepted.pxLastGroupID\",\"IH.Email.Outbound.Accepted.pxLastGroupID\",\"IH.Email.Outbound.Accepted.pxLastGroupID\",\"IH.Email.Outbound.Accepted.pxLastGroupID\",\"IH.Email.Outbound.Accepted.pxLastGroupID\",\"IH.Email.Outbound.Accepted.pxLastGroupID\",\"IH.Email.Outbound.Accepted.pxLastGroupID\",\"IH.Email.Outbound.Accepted.pxLastGroupID\",\"IH.Email.Outbound.Accepted.pxLastGroupID\",\"IH.Email.Outbound.Accepted.pxLastGroupID\",\"IH.Email.Outbound.Accepted.pxLastGroupID\"],\"y0\":\" \",\"yaxis\":\"y\",\"type\":\"box\"},{\"alignmentgroup\":\"True\",\"hovertemplate\":\"Legend=Customer\\u003cbr\\u003ePerformance=%{x}\\u003cbr\\u003ePredictor Name=%{y}\\u003cextra\\u003e\\u003c\\u002fextra\\u003e\",\"legendgroup\":\"Customer\",\"marker\":{\"color\":\"#10A5AC\"},\"name\":\"Customer\",\"notched\":false,\"offsetgroup\":\"Customer\",\"orientation\":\"h\",\"showlegend\":true,\"x\":[50.0,50.0,60.2006,67.8751,72.0121,58.243100000000005,59.7588,61.523,57.3139,60.4753,50.0,50.0,65.47619999999999,65.5934,69.9779,50.0,59.2858,59.770999999999994,50.0,65.074,71.921,67.3194,62.589099999999995,69.0542,67.8122,71.13239999999999,50.0,63.8537,50.0,50.0,65.7909,69.0493,50.0,64.5449,74.91409999999999,63.4857,78.18,50.0,86.3848,63.1201],\"x0\":\" \",\"xaxis\":\"x\",\"y\":[\"Customer.Age\",\"Customer.Age\",\"Customer.Age\",\"Customer.Age\",\"Customer.Age\",\"Customer.Age\",\"Customer.Age\",\"Customer.Age\",\"Customer.Age\",\"Customer.Age\",\"Customer.Age\",\"Customer.Age\",\"Customer.Age\",\"Customer.Age\",\"Customer.Age\",\"Customer.Age\",\"Customer.Age\",\"Customer.Age\",\"Customer.Age\",\"Customer.Age\",\"Customer.AnnualIncome\",\"Customer.AnnualIncome\",\"Customer.AnnualIncome\",\"Customer.AnnualIncome\",\"Customer.AnnualIncome\",\"Customer.AnnualIncome\",\"Customer.AnnualIncome\",\"Customer.AnnualIncome\",\"Customer.AnnualIncome\",\"Customer.AnnualIncome\",\"Customer.AnnualIncome\",\"Customer.AnnualIncome\",\"Customer.AnnualIncome\",\"Customer.AnnualIncome\",\"Customer.AnnualIncome\",\"Customer.AnnualIncome\",\"Customer.AnnualIncome\",\"Customer.AnnualIncome\",\"Customer.AnnualIncome\",\"Customer.AnnualIncome\"],\"y0\":\" \",\"yaxis\":\"y\",\"type\":\"box\"}],                        {\"template\":{\"layout\":{\"colorway\":[\"#001F5F\",\"#10A5AC\",\"#F76923\",\"#661D34\",\"#86CAC6\",\"#005154\",\"#86CAC6\",\"#5F67B9\",\"#FFC836\",\"#E63690\",\"#AC1361\",\"#63666F\",\"#A7A9B4\",\"#D0D1DB\"],\"hovermode\":\"closest\"}},\"xaxis\":{\"anchor\":\"y\",\"domain\":[0.0,1.0],\"title\":{\"text\":\"Performance\"}},\"yaxis\":{\"anchor\":\"x\",\"domain\":[0.0,1.0],\"title\":{\"text\":\"Predictor Name\"},\"categoryorder\":\"array\",\"categoryarray\":[\"IH.Email.Outbound.Accepted.pxLastGroupID\",\"Customer.Age\",\"Customer.AnnualIncome\"],\"automargin\":true,\"dtick\":1},\"legend\":{\"title\":{\"text\":\"Predictor category\"},\"tracegroupgap\":0},\"title\":{\"text\":\"Predictor PerformanceBin over all models \\u003cbr\\u003e\\u003csup\\u003eQuery: col(\\\"PredictorName\\\").is_in([Series])\\u003c\\u002fsup\\u003e\"},\"boxmode\":\"group\",\"boxgap\":0,\"boxgroupgap\":0},                        {\"responsive\": true}                    ).then(function(){\n",
       "                            \n",
       "var gd = document.getElementById('b145ad41-a90c-490c-be90-0942a2aad8e7');\n",
       "var x = new MutationObserver(function (mutations, observer) {{\n",
       "        var display = window.getComputedStyle(gd).display;\n",
       "        if (!display || display === 'none') {{\n",
       "            console.log([gd, 'removed!']);\n",
       "            Plotly.purge(gd);\n",
       "            observer.disconnect();\n",
       "        }}\n",
       "}});\n",
       "\n",
       "// Listen for the removal of the full notebook cells\n",
       "var notebookContainer = gd.closest('#notebook-container');\n",
       "if (notebookContainer) {{\n",
       "    x.observe(notebookContainer, {childList: true});\n",
       "}}\n",
       "\n",
       "// Listen for the clearing of the current output cell\n",
       "var outputEl = gd.closest('.output');\n",
       "if (outputEl) {{\n",
       "    x.observe(outputEl, {childList: true});\n",
       "}}\n",
       "\n",
       "                        })                };                });            </script>        </div>"
      ]
     },
     "metadata": {},
     "output_type": "display_data"
    }
   ],
   "source": [
    "CDHSample.plotPredictorPerformance(\n",
    "    query=pl.col(\"PredictorName\").is_in(\n",
    "        [\n",
    "            \"Customer.Age\",\n",
    "            \"Customer.AnnualIncome\",\n",
    "            \"IH.Email.Outbound.Accepted.pxLastGroupID\",\n",
    "        ]\n",
    "    ))"
   ]
  },
  {
   "cell_type": "markdown",
   "metadata": {},
   "source": [
    "What the two previous visualisations could not represent very well is the performance of the predictors over different models. That is what the plotPredictorPerformanceHeatmap function does; again with subsetting of predictors as a recommended step."
   ]
  },
  {
   "cell_type": "code",
   "execution_count": 15,
   "metadata": {
    "execution": {
     "iopub.execute_input": "2024-03-15T12:09:16.670878Z",
     "iopub.status.busy": "2024-03-15T12:09:16.670459Z",
     "iopub.status.idle": "2024-03-15T12:09:16.708686Z",
     "shell.execute_reply": "2024-03-15T12:09:16.708233Z"
    }
   },
   "outputs": [
    {
     "data": {
      "text/html": [
       "<div>                            <div id=\"cba5d7e4-589c-4e26-bc67-66de0ec22a32\" class=\"plotly-graph-div\" style=\"height:525px; width:100%;\"></div>            <script type=\"text/javascript\">                require([\"plotly\"], function(Plotly) {                    window.PLOTLYENV=window.PLOTLYENV || {};                                    if (document.getElementById(\"cba5d7e4-589c-4e26-bc67-66de0ec22a32\")) {                    Plotly.newPlot(                        \"cba5d7e4-589c-4e26-bc67-66de0ec22a32\",                        [{\"coloraxis\":\"coloraxis\",\"name\":\"0\",\"texttemplate\":\"%{z:.1f}\",\"x\":[\"ChannelAction_Template\",\"AutoNew84Months\",\"AutoUsed60Months\",\"AutoUsed48Months\",\"HomeOwners\",\"AutoUsed36Months\",\"AutoNew48Months\",\"FirstMortgage\",\"AutoUsed84Months\",\"AutoNew36Months\",\"FirstMortgageFloat\",\"FirstMortgageFHA\",\"FirstMortgageFiveOneARM\"],\"y\":[\"Customer.AnnualIncome\",\"Customer.Age\",\"IH.Email.Outbound.Accepted.pxLastGroupID\"],\"z\":[[86.3848,74.91409999999999,69.0542,63.1201,71.921,64.5449,65.7909,63.8537,62.589099999999995,50.0,50.0,50.0,50.0],[69.9779,65.5934,67.8751,60.4753,59.7588,59.2858,57.3139,59.770999999999994,50.0,50.0,50.0,50.0,50.0],[66.7804,57.894,59.1166,67.88300000000001,56.3398,54.573899999999995,54.817499999999995,53.98,51.019400000000005,57.652800000000006,57.5792,53.4604,53.0076]],\"type\":\"heatmap\",\"xaxis\":\"x\",\"yaxis\":\"y\",\"hovertemplate\":\"PredictorName: %{y}\\u003cbr\\u003ePerformance: %{z:.2f}\\u003cbr\\u003eName: %{customdata[0]}\",\"customdata\":[[[\"ChannelAction_Template\"],[\"ChannelAction_Template\"],[\"ChannelAction_Template\"],[\"AutoNew84Months\"],[\"AutoNew84Months\"],[\"AutoNew84Months\"],[\"AutoUsed60Months\"],[\"AutoUsed60Months\"],[\"AutoUsed60Months\"],[\"AutoUsed48Months\"],[\"AutoUsed48Months\"],[\"AutoUsed48Months\"],[\"HomeOwners\"]],[[\"HomeOwners\"],[\"HomeOwners\"],[\"AutoUsed36Months\"],[\"AutoUsed36Months\"],[\"AutoUsed36Months\"],[\"AutoNew48Months\"],[\"AutoNew48Months\"],[\"AutoNew48Months\"],[\"FirstMortgage\"],[\"FirstMortgage\"],[\"FirstMortgage\"],[\"AutoUsed84Months\"],[\"AutoUsed84Months\"]],[[\"AutoUsed84Months\"],[\"AutoNew36Months\"],[\"AutoNew36Months\"],[\"AutoNew36Months\"],[\"FirstMortgageFloat\"],[\"FirstMortgageFloat\"],[\"FirstMortgageFloat\"],[\"FirstMortgageFHA\"],[\"FirstMortgageFHA\"],[\"FirstMortgageFHA\"],[\"FirstMortgageFiveOneARM\"],[\"FirstMortgageFiveOneARM\"],[\"FirstMortgageFiveOneARM\"]]]}],                        {\"template\":{\"data\":{\"histogram2dcontour\":[{\"type\":\"histogram2dcontour\",\"colorbar\":{\"outlinewidth\":0,\"ticks\":\"\"},\"colorscale\":[[0.0,\"#0d0887\"],[0.1111111111111111,\"#46039f\"],[0.2222222222222222,\"#7201a8\"],[0.3333333333333333,\"#9c179e\"],[0.4444444444444444,\"#bd3786\"],[0.5555555555555556,\"#d8576b\"],[0.6666666666666666,\"#ed7953\"],[0.7777777777777778,\"#fb9f3a\"],[0.8888888888888888,\"#fdca26\"],[1.0,\"#f0f921\"]]}],\"choropleth\":[{\"type\":\"choropleth\",\"colorbar\":{\"outlinewidth\":0,\"ticks\":\"\"}}],\"histogram2d\":[{\"type\":\"histogram2d\",\"colorbar\":{\"outlinewidth\":0,\"ticks\":\"\"},\"colorscale\":[[0.0,\"#0d0887\"],[0.1111111111111111,\"#46039f\"],[0.2222222222222222,\"#7201a8\"],[0.3333333333333333,\"#9c179e\"],[0.4444444444444444,\"#bd3786\"],[0.5555555555555556,\"#d8576b\"],[0.6666666666666666,\"#ed7953\"],[0.7777777777777778,\"#fb9f3a\"],[0.8888888888888888,\"#fdca26\"],[1.0,\"#f0f921\"]]}],\"heatmap\":[{\"type\":\"heatmap\",\"colorbar\":{\"outlinewidth\":0,\"ticks\":\"\"},\"colorscale\":[[0.0,\"#0d0887\"],[0.1111111111111111,\"#46039f\"],[0.2222222222222222,\"#7201a8\"],[0.3333333333333333,\"#9c179e\"],[0.4444444444444444,\"#bd3786\"],[0.5555555555555556,\"#d8576b\"],[0.6666666666666666,\"#ed7953\"],[0.7777777777777778,\"#fb9f3a\"],[0.8888888888888888,\"#fdca26\"],[1.0,\"#f0f921\"]]}],\"heatmapgl\":[{\"type\":\"heatmapgl\",\"colorbar\":{\"outlinewidth\":0,\"ticks\":\"\"},\"colorscale\":[[0.0,\"#0d0887\"],[0.1111111111111111,\"#46039f\"],[0.2222222222222222,\"#7201a8\"],[0.3333333333333333,\"#9c179e\"],[0.4444444444444444,\"#bd3786\"],[0.5555555555555556,\"#d8576b\"],[0.6666666666666666,\"#ed7953\"],[0.7777777777777778,\"#fb9f3a\"],[0.8888888888888888,\"#fdca26\"],[1.0,\"#f0f921\"]]}],\"contourcarpet\":[{\"type\":\"contourcarpet\",\"colorbar\":{\"outlinewidth\":0,\"ticks\":\"\"}}],\"contour\":[{\"type\":\"contour\",\"colorbar\":{\"outlinewidth\":0,\"ticks\":\"\"},\"colorscale\":[[0.0,\"#0d0887\"],[0.1111111111111111,\"#46039f\"],[0.2222222222222222,\"#7201a8\"],[0.3333333333333333,\"#9c179e\"],[0.4444444444444444,\"#bd3786\"],[0.5555555555555556,\"#d8576b\"],[0.6666666666666666,\"#ed7953\"],[0.7777777777777778,\"#fb9f3a\"],[0.8888888888888888,\"#fdca26\"],[1.0,\"#f0f921\"]]}],\"surface\":[{\"type\":\"surface\",\"colorbar\":{\"outlinewidth\":0,\"ticks\":\"\"},\"colorscale\":[[0.0,\"#0d0887\"],[0.1111111111111111,\"#46039f\"],[0.2222222222222222,\"#7201a8\"],[0.3333333333333333,\"#9c179e\"],[0.4444444444444444,\"#bd3786\"],[0.5555555555555556,\"#d8576b\"],[0.6666666666666666,\"#ed7953\"],[0.7777777777777778,\"#fb9f3a\"],[0.8888888888888888,\"#fdca26\"],[1.0,\"#f0f921\"]]}],\"mesh3d\":[{\"type\":\"mesh3d\",\"colorbar\":{\"outlinewidth\":0,\"ticks\":\"\"}}],\"scatter\":[{\"fillpattern\":{\"fillmode\":\"overlay\",\"size\":10,\"solidity\":0.2},\"type\":\"scatter\"}],\"parcoords\":[{\"type\":\"parcoords\",\"line\":{\"colorbar\":{\"outlinewidth\":0,\"ticks\":\"\"}}}],\"scatterpolargl\":[{\"type\":\"scatterpolargl\",\"marker\":{\"colorbar\":{\"outlinewidth\":0,\"ticks\":\"\"}}}],\"bar\":[{\"error_x\":{\"color\":\"#2a3f5f\"},\"error_y\":{\"color\":\"#2a3f5f\"},\"marker\":{\"line\":{\"color\":\"#E5ECF6\",\"width\":0.5},\"pattern\":{\"fillmode\":\"overlay\",\"size\":10,\"solidity\":0.2}},\"type\":\"bar\"}],\"scattergeo\":[{\"type\":\"scattergeo\",\"marker\":{\"colorbar\":{\"outlinewidth\":0,\"ticks\":\"\"}}}],\"scatterpolar\":[{\"type\":\"scatterpolar\",\"marker\":{\"colorbar\":{\"outlinewidth\":0,\"ticks\":\"\"}}}],\"histogram\":[{\"marker\":{\"pattern\":{\"fillmode\":\"overlay\",\"size\":10,\"solidity\":0.2}},\"type\":\"histogram\"}],\"scattergl\":[{\"type\":\"scattergl\",\"marker\":{\"colorbar\":{\"outlinewidth\":0,\"ticks\":\"\"}}}],\"scatter3d\":[{\"type\":\"scatter3d\",\"line\":{\"colorbar\":{\"outlinewidth\":0,\"ticks\":\"\"}},\"marker\":{\"colorbar\":{\"outlinewidth\":0,\"ticks\":\"\"}}}],\"scattermapbox\":[{\"type\":\"scattermapbox\",\"marker\":{\"colorbar\":{\"outlinewidth\":0,\"ticks\":\"\"}}}],\"scatterternary\":[{\"type\":\"scatterternary\",\"marker\":{\"colorbar\":{\"outlinewidth\":0,\"ticks\":\"\"}}}],\"scattercarpet\":[{\"type\":\"scattercarpet\",\"marker\":{\"colorbar\":{\"outlinewidth\":0,\"ticks\":\"\"}}}],\"carpet\":[{\"aaxis\":{\"endlinecolor\":\"#2a3f5f\",\"gridcolor\":\"white\",\"linecolor\":\"white\",\"minorgridcolor\":\"white\",\"startlinecolor\":\"#2a3f5f\"},\"baxis\":{\"endlinecolor\":\"#2a3f5f\",\"gridcolor\":\"white\",\"linecolor\":\"white\",\"minorgridcolor\":\"white\",\"startlinecolor\":\"#2a3f5f\"},\"type\":\"carpet\"}],\"table\":[{\"cells\":{\"fill\":{\"color\":\"#EBF0F8\"},\"line\":{\"color\":\"white\"}},\"header\":{\"fill\":{\"color\":\"#C8D4E3\"},\"line\":{\"color\":\"white\"}},\"type\":\"table\"}],\"barpolar\":[{\"marker\":{\"line\":{\"color\":\"#E5ECF6\",\"width\":0.5},\"pattern\":{\"fillmode\":\"overlay\",\"size\":10,\"solidity\":0.2}},\"type\":\"barpolar\"}],\"pie\":[{\"automargin\":true,\"type\":\"pie\"}]},\"layout\":{\"autotypenumbers\":\"strict\",\"colorway\":[\"#636efa\",\"#EF553B\",\"#00cc96\",\"#ab63fa\",\"#FFA15A\",\"#19d3f3\",\"#FF6692\",\"#B6E880\",\"#FF97FF\",\"#FECB52\"],\"font\":{\"color\":\"#2a3f5f\"},\"hovermode\":\"closest\",\"hoverlabel\":{\"align\":\"left\"},\"paper_bgcolor\":\"white\",\"plot_bgcolor\":\"#E5ECF6\",\"polar\":{\"bgcolor\":\"#E5ECF6\",\"angularaxis\":{\"gridcolor\":\"white\",\"linecolor\":\"white\",\"ticks\":\"\"},\"radialaxis\":{\"gridcolor\":\"white\",\"linecolor\":\"white\",\"ticks\":\"\"}},\"ternary\":{\"bgcolor\":\"#E5ECF6\",\"aaxis\":{\"gridcolor\":\"white\",\"linecolor\":\"white\",\"ticks\":\"\"},\"baxis\":{\"gridcolor\":\"white\",\"linecolor\":\"white\",\"ticks\":\"\"},\"caxis\":{\"gridcolor\":\"white\",\"linecolor\":\"white\",\"ticks\":\"\"}},\"coloraxis\":{\"colorbar\":{\"outlinewidth\":0,\"ticks\":\"\"}},\"colorscale\":{\"sequential\":[[0.0,\"#0d0887\"],[0.1111111111111111,\"#46039f\"],[0.2222222222222222,\"#7201a8\"],[0.3333333333333333,\"#9c179e\"],[0.4444444444444444,\"#bd3786\"],[0.5555555555555556,\"#d8576b\"],[0.6666666666666666,\"#ed7953\"],[0.7777777777777778,\"#fb9f3a\"],[0.8888888888888888,\"#fdca26\"],[1.0,\"#f0f921\"]],\"sequentialminus\":[[0.0,\"#0d0887\"],[0.1111111111111111,\"#46039f\"],[0.2222222222222222,\"#7201a8\"],[0.3333333333333333,\"#9c179e\"],[0.4444444444444444,\"#bd3786\"],[0.5555555555555556,\"#d8576b\"],[0.6666666666666666,\"#ed7953\"],[0.7777777777777778,\"#fb9f3a\"],[0.8888888888888888,\"#fdca26\"],[1.0,\"#f0f921\"]],\"diverging\":[[0,\"#8e0152\"],[0.1,\"#c51b7d\"],[0.2,\"#de77ae\"],[0.3,\"#f1b6da\"],[0.4,\"#fde0ef\"],[0.5,\"#f7f7f7\"],[0.6,\"#e6f5d0\"],[0.7,\"#b8e186\"],[0.8,\"#7fbc41\"],[0.9,\"#4d9221\"],[1,\"#276419\"]]},\"xaxis\":{\"gridcolor\":\"white\",\"linecolor\":\"white\",\"ticks\":\"\",\"title\":{\"standoff\":15},\"zerolinecolor\":\"white\",\"automargin\":true,\"zerolinewidth\":2},\"yaxis\":{\"gridcolor\":\"white\",\"linecolor\":\"white\",\"ticks\":\"\",\"title\":{\"standoff\":15},\"zerolinecolor\":\"white\",\"automargin\":true,\"zerolinewidth\":2},\"scene\":{\"xaxis\":{\"backgroundcolor\":\"#E5ECF6\",\"gridcolor\":\"white\",\"linecolor\":\"white\",\"showbackground\":true,\"ticks\":\"\",\"zerolinecolor\":\"white\",\"gridwidth\":2},\"yaxis\":{\"backgroundcolor\":\"#E5ECF6\",\"gridcolor\":\"white\",\"linecolor\":\"white\",\"showbackground\":true,\"ticks\":\"\",\"zerolinecolor\":\"white\",\"gridwidth\":2},\"zaxis\":{\"backgroundcolor\":\"#E5ECF6\",\"gridcolor\":\"white\",\"linecolor\":\"white\",\"showbackground\":true,\"ticks\":\"\",\"zerolinecolor\":\"white\",\"gridwidth\":2}},\"shapedefaults\":{\"line\":{\"color\":\"#2a3f5f\"}},\"annotationdefaults\":{\"arrowcolor\":\"#2a3f5f\",\"arrowhead\":0,\"arrowwidth\":1},\"geo\":{\"bgcolor\":\"white\",\"landcolor\":\"#E5ECF6\",\"subunitcolor\":\"white\",\"showland\":true,\"showlakes\":true,\"lakecolor\":\"white\"},\"title\":{\"x\":0.05},\"mapbox\":{\"style\":\"light\"}}},\"xaxis\":{\"anchor\":\"y\",\"domain\":[0.0,1.0],\"title\":{\"text\":\"Name\"},\"dtick\":1},\"yaxis\":{\"anchor\":\"x\",\"domain\":[0.0,1.0],\"autorange\":\"reversed\",\"dtick\":1,\"automargin\":true},\"coloraxis\":{\"colorscale\":[[0,\"#d91c29\"],[0.01,\"#F76923\"],[0.3,\"#20aa50\"],[0.8,\"#20aa50\"],[1,\"#0000FF\"]],\"cmin\":50,\"cmax\":100},\"title\":{\"text\":\"Top predictors over all models \\u003cbr\\u003e\\u003csup\\u003eQuery: col(\\\"PredictorName\\\").is_in([Series])\\u003c\\u002fsup\\u003e\"}},                        {\"responsive\": true}                    ).then(function(){\n",
       "                            \n",
       "var gd = document.getElementById('cba5d7e4-589c-4e26-bc67-66de0ec22a32');\n",
       "var x = new MutationObserver(function (mutations, observer) {{\n",
       "        var display = window.getComputedStyle(gd).display;\n",
       "        if (!display || display === 'none') {{\n",
       "            console.log([gd, 'removed!']);\n",
       "            Plotly.purge(gd);\n",
       "            observer.disconnect();\n",
       "        }}\n",
       "}});\n",
       "\n",
       "// Listen for the removal of the full notebook cells\n",
       "var notebookContainer = gd.closest('#notebook-container');\n",
       "if (notebookContainer) {{\n",
       "    x.observe(notebookContainer, {childList: true});\n",
       "}}\n",
       "\n",
       "// Listen for the clearing of the current output cell\n",
       "var outputEl = gd.closest('.output');\n",
       "if (outputEl) {{\n",
       "    x.observe(outputEl, {childList: true});\n",
       "}}\n",
       "\n",
       "                        })                };                });            </script>        </div>"
      ]
     },
     "metadata": {},
     "output_type": "display_data"
    }
   ],
   "source": [
    "CDHSample.plotPredictorPerformanceHeatmap(\n",
    "    query=pl.col(\"PredictorName\").is_in(\n",
    "        [\n",
    "            \"Customer.Age\",\n",
    "            \"Customer.AnnualIncome\",\n",
    "            \"IH.Email.Outbound.Accepted.pxLastGroupID\",\n",
    "        ]\n",
    "    )\n",
    ")\n"
   ]
  }
 ],
 "metadata": {
  "interpreter": {
   "hash": "31f2aee4e71d21fbe5cf8b01ff0e069b9275f58929596ceb00d14d90e3e16cd6"
  },
  "kernelspec": {
   "display_name": "Python 3.8.2 64-bit",
   "language": "python",
   "name": "python3"
  },
  "language_info": {
   "codemirror_mode": {
    "name": "ipython",
    "version": 3
   },
   "file_extension": ".py",
   "mimetype": "text/x-python",
   "name": "python",
   "nbconvert_exporter": "python",
   "pygments_lexer": "ipython3",
   "version": "3.11.8"
  }
 },
 "nbformat": 4,
 "nbformat_minor": 2
}
