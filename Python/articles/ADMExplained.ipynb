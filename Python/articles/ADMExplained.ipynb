{
 "cells": [
  {
   "cell_type": "markdown",
   "metadata": {},
   "source": [
    "# ADM Explained\n",
    "\n",
    "__Pega__\n",
    "\n",
    "__2023-03-15__\n",
    "\n",
    "This notebook shows exactly how all the values in an ADM model report are calculated. It also shows how the propensity is calculated for a particular customer.\n",
    "\n",
    "We use one of the shipped datamart exports for the example. This is a model very similar to one used in some of the ADM PowerPoint/Excel deep dive examples. To load your own data, see the vignette on ADM reporting for examples.\n",
    "\n",
    "For the example we use one particular model: AutoNew36Months over SMS. You can use your own data and select a different model.\n",
    "\n",
    "To explain the ADM model report, we use one of the IH predictors as an example. Swap for any other predictor when using different data.\n",
    "\n"
   ]
  },
  {
   "cell_type": "code",
   "execution_count": 1,
   "metadata": {
    "execution": {
     "iopub.execute_input": "2023-03-28T14:52:51.663950Z",
     "iopub.status.busy": "2023-03-28T14:52:51.663745Z",
     "iopub.status.idle": "2023-03-28T14:52:52.172108Z",
     "shell.execute_reply": "2023-03-28T14:52:52.171549Z"
    },
    "nbsphinx": "hidden"
   },
   "outputs": [],
   "source": [
    "# These lines are only for rendering in the docs, and are hidden through Jupyter tags\n",
    "# Do not run if you're running the notebook seperately\n",
    "\n",
    "import plotly.io as pio\n",
    "\n",
    "pio.renderers.default = \"notebook_connected\"\n",
    "\n",
    "import sys\n",
    "\n",
    "sys.path.append(\"../../../\")\n",
    "import pandas as pd\n",
    "pd.set_option('display.max_colwidth', 0)\n"
   ]
  },
  {
   "cell_type": "code",
   "execution_count": 2,
   "metadata": {
    "execution": {
     "iopub.execute_input": "2023-03-28T14:52:52.175656Z",
     "iopub.status.busy": "2023-03-28T14:52:52.174768Z",
     "iopub.status.idle": "2023-03-28T14:52:52.825284Z",
     "shell.execute_reply": "2023-03-28T14:52:52.824731Z"
    }
   },
   "outputs": [
    {
     "ename": "ModuleNotFoundError",
     "evalue": "No module named 'pdstools.pega_io.S3'",
     "output_type": "error",
     "traceback": [
      "\u001b[0;31m---------------------------------------------------------------------------\u001b[0m",
      "\u001b[0;31mModuleNotFoundError\u001b[0m                       Traceback (most recent call last)",
      "Cell \u001b[0;32mIn[2], line 8\u001b[0m\n\u001b[1;32m      5\u001b[0m \u001b[38;5;28;01mimport\u001b[39;00m \u001b[38;5;21;01mplotly\u001b[39;00m\u001b[38;5;21;01m.\u001b[39;00m\u001b[38;5;21;01mexpress\u001b[39;00m \u001b[38;5;28;01mas\u001b[39;00m \u001b[38;5;21;01mpx\u001b[39;00m\n\u001b[1;32m      6\u001b[0m \u001b[38;5;28;01mfrom\u001b[39;00m \u001b[38;5;21;01mtyping\u001b[39;00m \u001b[38;5;28;01mimport\u001b[39;00m List\n\u001b[0;32m----> 8\u001b[0m \u001b[38;5;28;01mfrom\u001b[39;00m \u001b[38;5;21;01mpdstools\u001b[39;00m \u001b[38;5;28;01mimport\u001b[39;00m datasets, cdh_utils\n\u001b[1;32m     10\u001b[0m pl\u001b[38;5;241m.\u001b[39mConfig\u001b[38;5;241m.\u001b[39mset_fmt_str_lengths(\u001b[38;5;241m100\u001b[39m);\n",
      "File \u001b[0;32m~/work/pega-datascientist-tools/pega-datascientist-tools/python/docs/source/articles/../../../pdstools/__init__.py:12\u001b[0m\n\u001b[1;32m      9\u001b[0m \u001b[38;5;28;01mimport\u001b[39;00m \u001b[38;5;21;01msys\u001b[39;00m\n\u001b[1;32m     10\u001b[0m \u001b[38;5;28;01mfrom\u001b[39;00m \u001b[38;5;21;01mpathlib\u001b[39;00m \u001b[38;5;28;01mimport\u001b[39;00m Path\n\u001b[0;32m---> 12\u001b[0m \u001b[38;5;28;01mfrom\u001b[39;00m \u001b[38;5;21;01m.\u001b[39;00m\u001b[38;5;21;01madm\u001b[39;00m\u001b[38;5;21;01m.\u001b[39;00m\u001b[38;5;21;01mADMDatamart\u001b[39;00m \u001b[38;5;28;01mimport\u001b[39;00m ADMDatamart\n\u001b[1;32m     13\u001b[0m \u001b[38;5;28;01mfrom\u001b[39;00m \u001b[38;5;21;01m.\u001b[39;00m\u001b[38;5;21;01madm\u001b[39;00m\u001b[38;5;21;01m.\u001b[39;00m\u001b[38;5;21;01mADMTrees\u001b[39;00m \u001b[38;5;28;01mimport\u001b[39;00m ADMTrees, MultiTrees\n\u001b[1;32m     14\u001b[0m \u001b[38;5;28;01mfrom\u001b[39;00m \u001b[38;5;21;01m.\u001b[39;00m\u001b[38;5;21;01mpega_io\u001b[39;00m \u001b[38;5;28;01mimport\u001b[39;00m getToken, readClientCredentialFile, readDSExport\n",
      "File \u001b[0;32m~/work/pega-datascientist-tools/pega-datascientist-tools/python/docs/source/articles/../../../pdstools/adm/ADMDatamart.py:20\u001b[0m\n\u001b[1;32m     18\u001b[0m \u001b[38;5;28;01mfrom\u001b[39;00m \u001b[38;5;21;01m.\u001b[39;00m\u001b[38;5;21;01m.\u001b[39;00m\u001b[38;5;21;01mutils\u001b[39;00m\u001b[38;5;21;01m.\u001b[39;00m\u001b[38;5;21;01merrors\u001b[39;00m \u001b[38;5;28;01mimport\u001b[39;00m NotEagerError\n\u001b[1;32m     19\u001b[0m \u001b[38;5;28;01mfrom\u001b[39;00m \u001b[38;5;21;01m.\u001b[39;00m\u001b[38;5;21;01m.\u001b[39;00m\u001b[38;5;21;01mutils\u001b[39;00m\u001b[38;5;21;01m.\u001b[39;00m\u001b[38;5;21;01mtypes\u001b[39;00m \u001b[38;5;28;01mimport\u001b[39;00m any_frame\n\u001b[0;32m---> 20\u001b[0m \u001b[38;5;28;01mfrom\u001b[39;00m \u001b[38;5;21;01m.\u001b[39;00m\u001b[38;5;21;01m.\u001b[39;00m \u001b[38;5;28;01mimport\u001b[39;00m pega_io\n\u001b[1;32m     21\u001b[0m \u001b[38;5;28;01mfrom\u001b[39;00m \u001b[38;5;21;01m.\u001b[39;00m\u001b[38;5;21;01mADMTrees\u001b[39;00m \u001b[38;5;28;01mimport\u001b[39;00m ADMTrees\n\u001b[1;32m     22\u001b[0m \u001b[38;5;28;01mfrom\u001b[39;00m \u001b[38;5;21;01m.\u001b[39;00m\u001b[38;5;21;01mTables\u001b[39;00m \u001b[38;5;28;01mimport\u001b[39;00m Tables\n",
      "File \u001b[0;32m~/work/pega-datascientist-tools/pega-datascientist-tools/python/docs/source/articles/../../../pdstools/pega_io/__init__.py:3\u001b[0m\n\u001b[1;32m      1\u001b[0m \u001b[38;5;28;01mfrom\u001b[39;00m \u001b[38;5;21;01m.\u001b[39;00m\u001b[38;5;21;01mAPI\u001b[39;00m \u001b[38;5;28;01mimport\u001b[39;00m \u001b[38;5;241m*\u001b[39m\n\u001b[1;32m      2\u001b[0m \u001b[38;5;28;01mfrom\u001b[39;00m \u001b[38;5;21;01m.\u001b[39;00m\u001b[38;5;21;01mFile\u001b[39;00m \u001b[38;5;28;01mimport\u001b[39;00m \u001b[38;5;241m*\u001b[39m\n\u001b[0;32m----> 3\u001b[0m \u001b[38;5;28;01mfrom\u001b[39;00m \u001b[38;5;21;01m.\u001b[39;00m\u001b[38;5;21;01mS3\u001b[39;00m \u001b[38;5;28;01mimport\u001b[39;00m \u001b[38;5;241m*\u001b[39m\n",
      "\u001b[0;31mModuleNotFoundError\u001b[0m: No module named 'pdstools.pega_io.S3'"
     ]
    }
   ],
   "source": [
    "import polars as pl\n",
    "import numpy as np\n",
    "from plotly.subplots import make_subplots\n",
    "import plotly.graph_objects as go\n",
    "import plotly.express as px\n",
    "from typing import List\n",
    "\n",
    "from pdstools import datasets, cdh_utils\n",
    "\n",
    "pl.Config.set_fmt_str_lengths(100);"
   ]
  },
  {
   "cell_type": "code",
   "execution_count": 3,
   "metadata": {
    "execution": {
     "iopub.execute_input": "2023-03-28T14:52:52.854252Z",
     "iopub.status.busy": "2023-03-28T14:52:52.854033Z",
     "iopub.status.idle": "2023-03-28T14:52:52.873235Z",
     "shell.execute_reply": "2023-03-28T14:52:52.872767Z"
    }
   },
   "outputs": [
    {
     "ename": "NameError",
     "evalue": "name 'datasets' is not defined",
     "output_type": "error",
     "traceback": [
      "\u001b[0;31m---------------------------------------------------------------------------\u001b[0m",
      "\u001b[0;31mNameError\u001b[0m                                 Traceback (most recent call last)",
      "Cell \u001b[0;32mIn[3], line 1\u001b[0m\n\u001b[0;32m----> 1\u001b[0m dm \u001b[38;5;241m=\u001b[39m \u001b[43mdatasets\u001b[49m\u001b[38;5;241m.\u001b[39mCDHSample(subset\u001b[38;5;241m=\u001b[39m\u001b[38;5;28;01mFalse\u001b[39;00m)\n\u001b[1;32m      3\u001b[0m model \u001b[38;5;241m=\u001b[39m dm\u001b[38;5;241m.\u001b[39mcombinedData\u001b[38;5;241m.\u001b[39mfilter(\n\u001b[1;32m      4\u001b[0m     (pl\u001b[38;5;241m.\u001b[39mcol(\u001b[38;5;124m\"\u001b[39m\u001b[38;5;124mName\u001b[39m\u001b[38;5;124m\"\u001b[39m) \u001b[38;5;241m==\u001b[39m \u001b[38;5;124m\"\u001b[39m\u001b[38;5;124mAutoNew36Months\u001b[39m\u001b[38;5;124m\"\u001b[39m) \u001b[38;5;241m&\u001b[39m (pl\u001b[38;5;241m.\u001b[39mcol(\u001b[38;5;124m\"\u001b[39m\u001b[38;5;124mChannel\u001b[39m\u001b[38;5;124m\"\u001b[39m) \u001b[38;5;241m==\u001b[39m \u001b[38;5;124m\"\u001b[39m\u001b[38;5;124mSMS\u001b[39m\u001b[38;5;124m\"\u001b[39m)\n\u001b[1;32m      5\u001b[0m )\n\u001b[1;32m      7\u001b[0m modelpredictors \u001b[38;5;241m=\u001b[39m (\n\u001b[1;32m      8\u001b[0m     dm\u001b[38;5;241m.\u001b[39mcombinedData\u001b[38;5;241m.\u001b[39mjoin(\n\u001b[1;32m      9\u001b[0m         model\u001b[38;5;241m.\u001b[39mselect(pl\u001b[38;5;241m.\u001b[39mcol(\u001b[38;5;124m\"\u001b[39m\u001b[38;5;124mModelID\u001b[39m\u001b[38;5;124m\"\u001b[39m)\u001b[38;5;241m.\u001b[39munique()), on\u001b[38;5;241m=\u001b[39m\u001b[38;5;124m\"\u001b[39m\u001b[38;5;124mModelID\u001b[39m\u001b[38;5;124m\"\u001b[39m, how\u001b[38;5;241m=\u001b[39m\u001b[38;5;124m\"\u001b[39m\u001b[38;5;124minner\u001b[39m\u001b[38;5;124m\"\u001b[39m\n\u001b[0;32m   (...)\u001b[0m\n\u001b[1;32m     13\u001b[0m     \u001b[38;5;241m.\u001b[39mcollect()\n\u001b[1;32m     14\u001b[0m )\n",
      "\u001b[0;31mNameError\u001b[0m: name 'datasets' is not defined"
     ]
    }
   ],
   "source": [
    "dm = datasets.CDHSample(subset=False)\n",
    "\n",
    "model = dm.combinedData.filter(\n",
    "    (pl.col(\"Name\") == \"AutoNew36Months\") & (pl.col(\"Channel\") == \"SMS\")\n",
    ")\n",
    "\n",
    "modelpredictors = (\n",
    "    dm.combinedData.join(\n",
    "        model.select(pl.col(\"ModelID\").unique()), on=\"ModelID\", how=\"inner\"\n",
    "    )\n",
    "    .filter(pl.col(\"EntryType\") != \"Inactive\")\n",
    "    .with_columns(Action=pl.concat_str([\"Issue\", \"Group\"], separator=\"/\"))\n",
    "    .collect()\n",
    ")\n",
    "\n",
    "predictorbinning = modelpredictors.filter(\n",
    "    pl.col(\"PredictorName\") == \"IH.SMS.Outbound.Accepted.pyHistoricalOutcomeCount\"\n",
    ").sort(\"BinIndex\")"
   ]
  },
  {
   "cell_type": "markdown",
   "metadata": {},
   "source": [
    "## Model Overview"
   ]
  },
  {
   "cell_type": "code",
   "execution_count": 4,
   "metadata": {
    "execution": {
     "iopub.execute_input": "2023-03-28T14:52:52.876301Z",
     "iopub.status.busy": "2023-03-28T14:52:52.875547Z",
     "iopub.status.idle": "2023-03-28T14:52:52.893394Z",
     "shell.execute_reply": "2023-03-28T14:52:52.892941Z"
    }
   },
   "outputs": [
    {
     "ename": "NameError",
     "evalue": "name 'modelpredictors' is not defined",
     "output_type": "error",
     "traceback": [
      "\u001b[0;31m---------------------------------------------------------------------------\u001b[0m",
      "\u001b[0;31mNameError\u001b[0m                                 Traceback (most recent call last)",
      "Cell \u001b[0;32mIn[4], line 1\u001b[0m\n\u001b[0;32m----> 1\u001b[0m \u001b[43mmodelpredictors\u001b[49m\u001b[38;5;241m.\u001b[39mselect(\n\u001b[1;32m      2\u001b[0m     pl\u001b[38;5;241m.\u001b[39mcol(\u001b[38;5;124m\"\u001b[39m\u001b[38;5;124mAction\u001b[39m\u001b[38;5;124m\"\u001b[39m)\u001b[38;5;241m.\u001b[39munique(),\n\u001b[1;32m      3\u001b[0m     pl\u001b[38;5;241m.\u001b[39mcol(\u001b[38;5;124m\"\u001b[39m\u001b[38;5;124mChannel\u001b[39m\u001b[38;5;124m\"\u001b[39m)\u001b[38;5;241m.\u001b[39munique(),\n\u001b[1;32m      4\u001b[0m     pl\u001b[38;5;241m.\u001b[39mcol(\u001b[38;5;124m\"\u001b[39m\u001b[38;5;124mName\u001b[39m\u001b[38;5;124m\"\u001b[39m)\u001b[38;5;241m.\u001b[39munique(),\n\u001b[1;32m      5\u001b[0m     pl\u001b[38;5;241m.\u001b[39mcol(\u001b[38;5;124m\"\u001b[39m\u001b[38;5;124mPredictorName\u001b[39m\u001b[38;5;124m\"\u001b[39m)\u001b[38;5;241m.\u001b[39munique()\u001b[38;5;241m.\u001b[39msort()\u001b[38;5;241m.\u001b[39mlist()\n\u001b[1;32m      6\u001b[0m     \u001b[38;5;241m.\u001b[39marr\u001b[38;5;241m.\u001b[39mjoin(\u001b[38;5;124m\"\u001b[39m\u001b[38;5;124m, \u001b[39m\u001b[38;5;124m\"\u001b[39m)\u001b[38;5;241m.\u001b[39malias(\u001b[38;5;124m\"\u001b[39m\u001b[38;5;124mActive Predictors\u001b[39m\u001b[38;5;124m\"\u001b[39m),\n\u001b[1;32m      7\u001b[0m     (pl\u001b[38;5;241m.\u001b[39mcol(\u001b[38;5;124m\"\u001b[39m\u001b[38;5;124mPerformance\u001b[39m\u001b[38;5;124m\"\u001b[39m)\u001b[38;5;241m.\u001b[39munique() \u001b[38;5;241m*\u001b[39m \u001b[38;5;241m100\u001b[39m)\u001b[38;5;241m.\u001b[39malias(\u001b[38;5;124m\"\u001b[39m\u001b[38;5;124mModel Performance (AUC)\u001b[39m\u001b[38;5;124m\"\u001b[39m),\n\u001b[1;32m      8\u001b[0m )\u001b[38;5;241m.\u001b[39mto_pandas()\u001b[38;5;241m.\u001b[39mT\u001b[38;5;241m.\u001b[39mset_axis([\u001b[38;5;124m\"\u001b[39m\u001b[38;5;124mValues\u001b[39m\u001b[38;5;124m\"\u001b[39m], axis\u001b[38;5;241m=\u001b[39m\u001b[38;5;241m1\u001b[39m)\n",
      "\u001b[0;31mNameError\u001b[0m: name 'modelpredictors' is not defined"
     ]
    }
   ],
   "source": [
    "modelpredictors.select(\n",
    "    pl.col(\"Action\").unique(),\n",
    "    pl.col(\"Channel\").unique(),\n",
    "    pl.col(\"Name\").unique(),\n",
    "    pl.col(\"PredictorName\").unique().sort().list()\n",
    "    .arr.join(\", \").alias(\"Active Predictors\"),\n",
    "    (pl.col(\"Performance\").unique() * 100).alias(\"Model Performance (AUC)\"),\n",
    ").to_pandas().T.set_axis([\"Values\"], axis=1)\n"
   ]
  },
  {
   "cell_type": "markdown",
   "metadata": {},
   "source": [
    "## Predictor binning for IH.SMS.Outbound.Accepted.pyHistoricalOutcomeCount\n"
   ]
  },
  {
   "attachments": {},
   "cell_type": "markdown",
   "metadata": {},
   "source": [
    "The ADM model report will show predictor binning similar to this, with all displayed data coming from fields in the ADM data mart. In subsequent sections we’ll show how all the data is derived from the number of positives and negatives in each of the bins.\n",
    "\n"
   ]
  },
  {
   "cell_type": "code",
   "execution_count": 5,
   "metadata": {
    "execution": {
     "iopub.execute_input": "2023-03-28T14:52:52.896465Z",
     "iopub.status.busy": "2023-03-28T14:52:52.895718Z",
     "iopub.status.idle": "2023-03-28T14:52:52.912543Z",
     "shell.execute_reply": "2023-03-28T14:52:52.912098Z"
    }
   },
   "outputs": [
    {
     "ename": "NameError",
     "evalue": "name 'predictorbinning' is not defined",
     "output_type": "error",
     "traceback": [
      "\u001b[0;31m---------------------------------------------------------------------------\u001b[0m",
      "\u001b[0;31mNameError\u001b[0m                                 Traceback (most recent call last)",
      "Cell \u001b[0;32mIn[5], line 1\u001b[0m\n\u001b[0;32m----> 1\u001b[0m \u001b[43mpredictorbinning\u001b[49m\u001b[38;5;241m.\u001b[39mgroupby(\u001b[38;5;124m\"\u001b[39m\u001b[38;5;124mPredictorName\u001b[39m\u001b[38;5;124m\"\u001b[39m)\u001b[38;5;241m.\u001b[39magg(\n\u001b[1;32m      2\u001b[0m     pl\u001b[38;5;241m.\u001b[39mfirst(\u001b[38;5;124m\"\u001b[39m\u001b[38;5;124mResponseCount\u001b[39m\u001b[38;5;124m\"\u001b[39m)\u001b[38;5;241m.\u001b[39malias(\u001b[38;5;124m\"\u001b[39m\u001b[38;5;124m# Responses\u001b[39m\u001b[38;5;124m\"\u001b[39m),\n\u001b[1;32m      3\u001b[0m     pl\u001b[38;5;241m.\u001b[39mn_unique(\u001b[38;5;124m\"\u001b[39m\u001b[38;5;124mBinIndex\u001b[39m\u001b[38;5;124m\"\u001b[39m)\u001b[38;5;241m.\u001b[39malias(\u001b[38;5;124m\"\u001b[39m\u001b[38;5;124m# Bins\u001b[39m\u001b[38;5;124m\"\u001b[39m),\n\u001b[1;32m      4\u001b[0m     (pl\u001b[38;5;241m.\u001b[39mfirst(\u001b[38;5;124m\"\u001b[39m\u001b[38;5;124mPerformanceBin\u001b[39m\u001b[38;5;124m\"\u001b[39m) \u001b[38;5;241m*\u001b[39m \u001b[38;5;241m100\u001b[39m)\u001b[38;5;241m.\u001b[39malias(\u001b[38;5;124m\"\u001b[39m\u001b[38;5;124mPredictor Performance(AUC)\u001b[39m\u001b[38;5;124m\"\u001b[39m),\n\u001b[1;32m      5\u001b[0m )\u001b[38;5;241m.\u001b[39mrename({\u001b[38;5;124m\"\u001b[39m\u001b[38;5;124mPredictorName\u001b[39m\u001b[38;5;124m\"\u001b[39m: \u001b[38;5;124m\"\u001b[39m\u001b[38;5;124mPredictor Name\u001b[39m\u001b[38;5;124m\"\u001b[39m})\u001b[38;5;241m.\u001b[39mtranspose(include_header\u001b[38;5;241m=\u001b[39m\u001b[38;5;28;01mTrue\u001b[39;00m)\u001b[38;5;241m.\u001b[39mrename(\n\u001b[1;32m      6\u001b[0m     {\u001b[38;5;124m\"\u001b[39m\u001b[38;5;124mcolumn\u001b[39m\u001b[38;5;124m\"\u001b[39m: \u001b[38;5;124m\"\u001b[39m\u001b[38;5;124m\"\u001b[39m, \u001b[38;5;124m\"\u001b[39m\u001b[38;5;124mcolumn_0\u001b[39m\u001b[38;5;124m\"\u001b[39m: \u001b[38;5;124m\"\u001b[39m\u001b[38;5;124mValue\u001b[39m\u001b[38;5;124m\"\u001b[39m}\n\u001b[1;32m      7\u001b[0m )\n",
      "\u001b[0;31mNameError\u001b[0m: name 'predictorbinning' is not defined"
     ]
    }
   ],
   "source": [
    "predictorbinning.groupby(\"PredictorName\").agg(\n",
    "    pl.first(\"ResponseCount\").alias(\"# Responses\"),\n",
    "    pl.n_unique(\"BinIndex\").alias(\"# Bins\"),\n",
    "    (pl.first(\"PerformanceBin\") * 100).alias(\"Predictor Performance(AUC)\"),\n",
    ").rename({\"PredictorName\": \"Predictor Name\"}).transpose(include_header=True).rename(\n",
    "    {\"column\": \"\", \"column_0\": \"Value\"}\n",
    ")\n"
   ]
  },
  {
   "cell_type": "code",
   "execution_count": 6,
   "metadata": {
    "execution": {
     "iopub.execute_input": "2023-03-28T14:52:52.915554Z",
     "iopub.status.busy": "2023-03-28T14:52:52.914845Z",
     "iopub.status.idle": "2023-03-28T14:52:52.934504Z",
     "shell.execute_reply": "2023-03-28T14:52:52.934033Z"
    }
   },
   "outputs": [
    {
     "ename": "NameError",
     "evalue": "name 'predictorbinning' is not defined",
     "output_type": "error",
     "traceback": [
      "\u001b[0;31m---------------------------------------------------------------------------\u001b[0m",
      "\u001b[0;31mNameError\u001b[0m                                 Traceback (most recent call last)",
      "Cell \u001b[0;32mIn[6], line 6\u001b[0m\n\u001b[1;32m      3\u001b[0m sumPositives \u001b[38;5;241m=\u001b[39m pl\u001b[38;5;241m.\u001b[39msum(\u001b[38;5;124m\"\u001b[39m\u001b[38;5;124mBinPositives\u001b[39m\u001b[38;5;124m\"\u001b[39m)\n\u001b[1;32m      4\u001b[0m sumNegatives \u001b[38;5;241m=\u001b[39m pl\u001b[38;5;241m.\u001b[39msum(\u001b[38;5;124m\"\u001b[39m\u001b[38;5;124mBinNegatives\u001b[39m\u001b[38;5;124m\"\u001b[39m)\n\u001b[0;32m----> 6\u001b[0m \u001b[43mpredictorbinning\u001b[49m\u001b[38;5;241m.\u001b[39mselect(\n\u001b[1;32m      7\u001b[0m     pl\u001b[38;5;241m.\u001b[39mcol(\u001b[38;5;124m\"\u001b[39m\u001b[38;5;124mBinSymbol\u001b[39m\u001b[38;5;124m\"\u001b[39m)\u001b[38;5;241m.\u001b[39malias(\u001b[38;5;124m\"\u001b[39m\u001b[38;5;124mRange/Symbol\u001b[39m\u001b[38;5;124m\"\u001b[39m),\n\u001b[1;32m      8\u001b[0m     ((BinPositives \u001b[38;5;241m+\u001b[39m BinNegatives) \u001b[38;5;241m/\u001b[39m (sumPositives \u001b[38;5;241m+\u001b[39m sumNegatives))\n\u001b[1;32m      9\u001b[0m     \u001b[38;5;241m.\u001b[39mround(\u001b[38;5;241m2\u001b[39m)\n\u001b[1;32m     10\u001b[0m     \u001b[38;5;241m.\u001b[39malias(\u001b[38;5;124m\"\u001b[39m\u001b[38;5;124mResponses (\u001b[39m\u001b[38;5;124m%\u001b[39m\u001b[38;5;124m)\u001b[39m\u001b[38;5;124m\"\u001b[39m),\n\u001b[1;32m     11\u001b[0m     BinPositives\u001b[38;5;241m.\u001b[39malias(\u001b[38;5;124m\"\u001b[39m\u001b[38;5;124mPositives\u001b[39m\u001b[38;5;124m\"\u001b[39m),\n\u001b[1;32m     12\u001b[0m     (BinPositives \u001b[38;5;241m/\u001b[39m sumPositives)\u001b[38;5;241m.\u001b[39mround(\u001b[38;5;241m2\u001b[39m)\u001b[38;5;241m.\u001b[39malias(\u001b[38;5;124m\"\u001b[39m\u001b[38;5;124mPositives (\u001b[39m\u001b[38;5;124m%\u001b[39m\u001b[38;5;124m)\u001b[39m\u001b[38;5;124m\"\u001b[39m),\n\u001b[1;32m     13\u001b[0m     BinNegatives\u001b[38;5;241m.\u001b[39malias(\u001b[38;5;124m\"\u001b[39m\u001b[38;5;124mNegatives\u001b[39m\u001b[38;5;124m\"\u001b[39m),\n\u001b[1;32m     14\u001b[0m     (BinNegatives \u001b[38;5;241m/\u001b[39m sumNegatives)\u001b[38;5;241m.\u001b[39mround(\u001b[38;5;241m2\u001b[39m)\u001b[38;5;241m.\u001b[39malias(\u001b[38;5;124m\"\u001b[39m\u001b[38;5;124mNegatives (\u001b[39m\u001b[38;5;124m%\u001b[39m\u001b[38;5;124m)\u001b[39m\u001b[38;5;124m\"\u001b[39m),\n\u001b[1;32m     15\u001b[0m     (BinPositives \u001b[38;5;241m/\u001b[39m (BinPositives \u001b[38;5;241m+\u001b[39m BinNegatives))\u001b[38;5;241m.\u001b[39mround(\u001b[38;5;241m4\u001b[39m)\u001b[38;5;241m.\u001b[39malias(\u001b[38;5;124m\"\u001b[39m\u001b[38;5;124mPropensity (\u001b[39m\u001b[38;5;124m%\u001b[39m\u001b[38;5;124m)\u001b[39m\u001b[38;5;124m\"\u001b[39m),\n\u001b[1;32m     16\u001b[0m     pl\u001b[38;5;241m.\u001b[39mcol(\u001b[38;5;124m\"\u001b[39m\u001b[38;5;124mZRatio\u001b[39m\u001b[38;5;124m\"\u001b[39m),\n\u001b[1;32m     17\u001b[0m     pl\u001b[38;5;241m.\u001b[39mcol(\u001b[38;5;124m\"\u001b[39m\u001b[38;5;124mLift\u001b[39m\u001b[38;5;124m\"\u001b[39m),\n\u001b[1;32m     18\u001b[0m )\n",
      "\u001b[0;31mNameError\u001b[0m: name 'predictorbinning' is not defined"
     ]
    }
   ],
   "source": [
    "BinPositives = pl.col(\"BinPositives\")\n",
    "BinNegatives = pl.col(\"BinNegatives\")\n",
    "sumPositives = pl.sum(\"BinPositives\")\n",
    "sumNegatives = pl.sum(\"BinNegatives\")\n",
    "\n",
    "predictorbinning.select(\n",
    "    pl.col(\"BinSymbol\").alias(\"Range/Symbol\"),\n",
    "    ((BinPositives + BinNegatives) / (sumPositives + sumNegatives))\n",
    "    .round(2)\n",
    "    .alias(\"Responses (%)\"),\n",
    "    BinPositives.alias(\"Positives\"),\n",
    "    (BinPositives / sumPositives).round(2).alias(\"Positives (%)\"),\n",
    "    BinNegatives.alias(\"Negatives\"),\n",
    "    (BinNegatives / sumNegatives).round(2).alias(\"Negatives (%)\"),\n",
    "    (BinPositives / (BinPositives + BinNegatives)).round(4).alias(\"Propensity (%)\"),\n",
    "    pl.col(\"ZRatio\"),\n",
    "    pl.col(\"Lift\"),\n",
    ")\n"
   ]
  },
  {
   "cell_type": "markdown",
   "metadata": {},
   "source": [
    "## Bin Statistics"
   ]
  },
  {
   "cell_type": "markdown",
   "metadata": {},
   "source": [
    "### Positive and Negative ratios"
   ]
  },
  {
   "cell_type": "markdown",
   "metadata": {},
   "source": [
    "Internally, ADM only keeps track of the total counts of positive and negative responses in each bin. Everything else is derived from those numbers. The percentages and totals are trivially derived, and the propensity is just the number of positives divided by the total. The numbers calculated here match the numbers from the datamart table exactly."
   ]
  },
  {
   "cell_type": "code",
   "execution_count": 7,
   "metadata": {
    "execution": {
     "iopub.execute_input": "2023-03-28T14:52:52.937516Z",
     "iopub.status.busy": "2023-03-28T14:52:52.936788Z",
     "iopub.status.idle": "2023-03-28T14:52:52.955750Z",
     "shell.execute_reply": "2023-03-28T14:52:52.955281Z"
    }
   },
   "outputs": [
    {
     "ename": "NameError",
     "evalue": "name 'predictorbinning' is not defined",
     "output_type": "error",
     "traceback": [
      "\u001b[0;31m---------------------------------------------------------------------------\u001b[0m",
      "\u001b[0;31mNameError\u001b[0m                                 Traceback (most recent call last)",
      "Cell \u001b[0;32mIn[7], line 1\u001b[0m\n\u001b[0;32m----> 1\u001b[0m binningDerived \u001b[38;5;241m=\u001b[39m \u001b[43mpredictorbinning\u001b[49m\u001b[38;5;241m.\u001b[39mselect(\n\u001b[1;32m      2\u001b[0m     pl\u001b[38;5;241m.\u001b[39mcol(\u001b[38;5;124m\"\u001b[39m\u001b[38;5;124mBinSymbol\u001b[39m\u001b[38;5;124m\"\u001b[39m)\u001b[38;5;241m.\u001b[39malias(\u001b[38;5;124m\"\u001b[39m\u001b[38;5;124mRange/Symbol\u001b[39m\u001b[38;5;124m\"\u001b[39m),\n\u001b[1;32m      3\u001b[0m     BinPositives\u001b[38;5;241m.\u001b[39malias(\u001b[38;5;124m\"\u001b[39m\u001b[38;5;124mPositives\u001b[39m\u001b[38;5;124m\"\u001b[39m),\n\u001b[1;32m      4\u001b[0m     BinNegatives\u001b[38;5;241m.\u001b[39malias(\u001b[38;5;124m\"\u001b[39m\u001b[38;5;124mNegatives\u001b[39m\u001b[38;5;124m\"\u001b[39m),\n\u001b[1;32m      5\u001b[0m     (((BinPositives \u001b[38;5;241m+\u001b[39m BinNegatives) \u001b[38;5;241m/\u001b[39m (sumPositives \u001b[38;5;241m+\u001b[39m sumNegatives)) \u001b[38;5;241m*\u001b[39m \u001b[38;5;241m100\u001b[39m)\n\u001b[1;32m      6\u001b[0m     \u001b[38;5;241m.\u001b[39mround(\u001b[38;5;241m2\u001b[39m)\n\u001b[1;32m      7\u001b[0m     \u001b[38;5;241m.\u001b[39malias(\u001b[38;5;124m\"\u001b[39m\u001b[38;5;124mResponses \u001b[39m\u001b[38;5;124m%\u001b[39m\u001b[38;5;124m\"\u001b[39m),\n\u001b[1;32m      8\u001b[0m     ((BinPositives \u001b[38;5;241m/\u001b[39m sumPositives) \u001b[38;5;241m*\u001b[39m \u001b[38;5;241m100\u001b[39m)\u001b[38;5;241m.\u001b[39mround(\u001b[38;5;241m2\u001b[39m)\u001b[38;5;241m.\u001b[39malias(\u001b[38;5;124m\"\u001b[39m\u001b[38;5;124mPositives \u001b[39m\u001b[38;5;124m%\u001b[39m\u001b[38;5;124m\"\u001b[39m),\n\u001b[1;32m      9\u001b[0m     ((BinNegatives\u001b[38;5;241m/\u001b[39msumNegatives) \u001b[38;5;241m*\u001b[39m \u001b[38;5;241m100\u001b[39m)\u001b[38;5;241m.\u001b[39mround(\u001b[38;5;241m2\u001b[39m)\u001b[38;5;241m.\u001b[39malias(\u001b[38;5;124m\"\u001b[39m\u001b[38;5;124mNegatives \u001b[39m\u001b[38;5;124m%\u001b[39m\u001b[38;5;124m\"\u001b[39m),\n\u001b[1;32m     10\u001b[0m     (BinPositives \u001b[38;5;241m/\u001b[39m (BinPositives \u001b[38;5;241m+\u001b[39m BinNegatives))\n\u001b[1;32m     11\u001b[0m     \u001b[38;5;241m.\u001b[39mround(\u001b[38;5;241m4\u001b[39m)\n\u001b[1;32m     12\u001b[0m     \u001b[38;5;241m.\u001b[39malias(\u001b[38;5;124m\"\u001b[39m\u001b[38;5;124mPropensity\u001b[39m\u001b[38;5;124m\"\u001b[39m),\n\u001b[1;32m     13\u001b[0m )\n\u001b[1;32m     14\u001b[0m binningDerived\n",
      "\u001b[0;31mNameError\u001b[0m: name 'predictorbinning' is not defined"
     ]
    }
   ],
   "source": [
    "binningDerived = predictorbinning.select(\n",
    "    pl.col(\"BinSymbol\").alias(\"Range/Symbol\"),\n",
    "    BinPositives.alias(\"Positives\"),\n",
    "    BinNegatives.alias(\"Negatives\"),\n",
    "    (((BinPositives + BinNegatives) / (sumPositives + sumNegatives)) * 100)\n",
    "    .round(2)\n",
    "    .alias(\"Responses %\"),\n",
    "    ((BinPositives / sumPositives) * 100).round(2).alias(\"Positives %\"),\n",
    "    ((BinNegatives/sumNegatives) * 100).round(2).alias(\"Negatives %\"),\n",
    "    (BinPositives / (BinPositives + BinNegatives))\n",
    "    .round(4)\n",
    "    .alias(\"Propensity\"),\n",
    ")\n",
    "binningDerived"
   ]
  },
  {
   "cell_type": "markdown",
   "metadata": {},
   "source": [
    "### Lift"
   ]
  },
  {
   "attachments": {},
   "cell_type": "markdown",
   "metadata": {},
   "source": [
    "Lift is the ratio of the propensity in a particular bin over the average propensity. So a value of 1 is the average, larger than 1 means higher propensity, smaller means lower propensity:"
   ]
  },
  {
   "cell_type": "code",
   "execution_count": 8,
   "metadata": {
    "execution": {
     "iopub.execute_input": "2023-03-28T14:52:52.958692Z",
     "iopub.status.busy": "2023-03-28T14:52:52.957972Z",
     "iopub.status.idle": "2023-03-28T14:52:52.980764Z",
     "shell.execute_reply": "2023-03-28T14:52:52.980257Z"
    }
   },
   "outputs": [
    {
     "ename": "NameError",
     "evalue": "name 'binningDerived' is not defined",
     "output_type": "error",
     "traceback": [
      "\u001b[0;31m---------------------------------------------------------------------------\u001b[0m",
      "\u001b[0;31mNameError\u001b[0m                                 Traceback (most recent call last)",
      "Cell \u001b[0;32mIn[8], line 5\u001b[0m\n\u001b[1;32m      3\u001b[0m sumPositives \u001b[38;5;241m=\u001b[39m pl\u001b[38;5;241m.\u001b[39msum(\u001b[38;5;124m\"\u001b[39m\u001b[38;5;124mPositives\u001b[39m\u001b[38;5;124m\"\u001b[39m)\n\u001b[1;32m      4\u001b[0m sumNegatives \u001b[38;5;241m=\u001b[39m pl\u001b[38;5;241m.\u001b[39msum(\u001b[38;5;124m\"\u001b[39m\u001b[38;5;124mNegatives\u001b[39m\u001b[38;5;124m\"\u001b[39m)\n\u001b[0;32m----> 5\u001b[0m \u001b[43mbinningDerived\u001b[49m\u001b[38;5;241m.\u001b[39mselect(\n\u001b[1;32m      6\u001b[0m     \u001b[38;5;124m\"\u001b[39m\u001b[38;5;124mRange/Symbol\u001b[39m\u001b[38;5;124m\"\u001b[39m,\n\u001b[1;32m      7\u001b[0m     \u001b[38;5;124m\"\u001b[39m\u001b[38;5;124mPositives\u001b[39m\u001b[38;5;124m\"\u001b[39m,\n\u001b[1;32m      8\u001b[0m     \u001b[38;5;124m\"\u001b[39m\u001b[38;5;124mNegatives\u001b[39m\u001b[38;5;124m\"\u001b[39m,\n\u001b[1;32m      9\u001b[0m     (\n\u001b[1;32m     10\u001b[0m         (Positives \u001b[38;5;241m/\u001b[39m (Positives \u001b[38;5;241m+\u001b[39m Negatives))\n\u001b[1;32m     11\u001b[0m         \u001b[38;5;241m/\u001b[39m (sumPositives \u001b[38;5;241m/\u001b[39m (Positives \u001b[38;5;241m+\u001b[39m Negatives)\u001b[38;5;241m.\u001b[39msum())\n\u001b[1;32m     12\u001b[0m     )\u001b[38;5;241m.\u001b[39malias(\u001b[38;5;124m\"\u001b[39m\u001b[38;5;124mLift\u001b[39m\u001b[38;5;124m\"\u001b[39m),\n\u001b[1;32m     13\u001b[0m )\n",
      "\u001b[0;31mNameError\u001b[0m: name 'binningDerived' is not defined"
     ]
    }
   ],
   "source": [
    "Positives = pl.col('Positives')\n",
    "Negatives = pl.col('Negatives')\n",
    "sumPositives = pl.sum(\"Positives\")\n",
    "sumNegatives = pl.sum(\"Negatives\")\n",
    "binningDerived.select(\n",
    "    \"Range/Symbol\",\n",
    "    \"Positives\",\n",
    "    \"Negatives\",\n",
    "    (\n",
    "        (Positives / (Positives + Negatives))\n",
    "        / (sumPositives / (Positives + Negatives).sum())\n",
    "    ).alias(\"Lift\"),\n",
    ")\n"
   ]
  },
  {
   "cell_type": "markdown",
   "metadata": {},
   "source": [
    "### Z-Ratio"
   ]
  },
  {
   "attachments": {},
   "cell_type": "markdown",
   "metadata": {},
   "source": [
    "The Z-Ratio is also a measure of the how the propensity in a bin differs from the average, but takes into account the size of the bin and thus is statistically more relevant. It represents the number of standard deviations from the average, so centers around 0. The wider the spread, the better the predictor is.\n",
    "$$\\frac{posFraction-negFraction}{\\sqrt(\\frac{posFraction*(1-posFraction)}{\\sum positives}+\\frac{negFraction*(1-negFraction)}{\\sum negatives})}$$ \n",
    "\n",
    "See the calculation here, which is also included in [`cdh_utils`' `zRatio()`](https://pegasystems.github.io/pega-datascientist-tools/Python/autoapi/pdstools/utils/cdh_utils/index.html#pdstools.utils.cdh_utils.zRatio) function."
   ]
  },
  {
   "cell_type": "code",
   "execution_count": 9,
   "metadata": {
    "execution": {
     "iopub.execute_input": "2023-03-28T14:52:52.983847Z",
     "iopub.status.busy": "2023-03-28T14:52:52.983079Z",
     "iopub.status.idle": "2023-03-28T14:52:53.005428Z",
     "shell.execute_reply": "2023-03-28T14:52:53.004989Z"
    }
   },
   "outputs": [
    {
     "ename": "NameError",
     "evalue": "name 'binningDerived' is not defined",
     "output_type": "error",
     "traceback": [
      "\u001b[0;31m---------------------------------------------------------------------------\u001b[0m",
      "\u001b[0;31mNameError\u001b[0m                                 Traceback (most recent call last)",
      "Cell \u001b[0;32mIn[9], line 24\u001b[0m\n\u001b[1;32m     13\u001b[0m         \u001b[38;5;28;01mreturn\u001b[39;00m (\n\u001b[1;32m     14\u001b[0m             (posFractionCol \u001b[38;5;241m-\u001b[39m negFractionCol)\n\u001b[1;32m     15\u001b[0m             \u001b[38;5;241m/\u001b[39m (\n\u001b[0;32m   (...)\u001b[0m\n\u001b[1;32m     18\u001b[0m             )\u001b[38;5;241m.\u001b[39msqrt()\n\u001b[1;32m     19\u001b[0m         )\u001b[38;5;241m.\u001b[39malias(\u001b[38;5;124m\"\u001b[39m\u001b[38;5;124mZRatio\u001b[39m\u001b[38;5;124m\"\u001b[39m)\n\u001b[1;32m     21\u001b[0m     \u001b[38;5;28;01mreturn\u001b[39;00m zRatioimpl(\u001b[38;5;241m*\u001b[39mgetFracs(posCol, negCol), posCol\u001b[38;5;241m.\u001b[39msum(), negCol\u001b[38;5;241m.\u001b[39msum())\n\u001b[0;32m---> 24\u001b[0m \u001b[43mbinningDerived\u001b[49m\u001b[38;5;241m.\u001b[39mselect(\n\u001b[1;32m     25\u001b[0m     \u001b[38;5;124m\"\u001b[39m\u001b[38;5;124mRange/Symbol\u001b[39m\u001b[38;5;124m\"\u001b[39m, \u001b[38;5;124m\"\u001b[39m\u001b[38;5;124mPositives\u001b[39m\u001b[38;5;124m\"\u001b[39m, \u001b[38;5;124m\"\u001b[39m\u001b[38;5;124mNegatives\u001b[39m\u001b[38;5;124m\"\u001b[39m, \u001b[38;5;124m\"\u001b[39m\u001b[38;5;124mPositives \u001b[39m\u001b[38;5;124m%\u001b[39m\u001b[38;5;124m\"\u001b[39m, \u001b[38;5;124m\"\u001b[39m\u001b[38;5;124mNegatives \u001b[39m\u001b[38;5;124m%\u001b[39m\u001b[38;5;124m\"\u001b[39m\n\u001b[1;32m     26\u001b[0m )\u001b[38;5;241m.\u001b[39mwith_columns(zRatio(Positives, Negatives))\n",
      "\u001b[0;31mNameError\u001b[0m: name 'binningDerived' is not defined"
     ]
    }
   ],
   "source": [
    "def zRatio(\n",
    "    posCol: pl.Expr = pl.col(\"BinPositives\"), negCol: pl.Expr = pl.col(\"BinNegatives\")\n",
    ") -> pl.Expr:\n",
    "    def getFracs(posCol=pl.col(\"BinPositives\"), negCol=pl.col(\"BinNegatives\")):\n",
    "        return posCol / posCol.sum(), negCol / negCol.sum()\n",
    "\n",
    "    def zRatioimpl(\n",
    "        posFractionCol=pl.col(\"posFraction\"),\n",
    "        negFractionCol=pl.col(\"negFraction\"),\n",
    "        PositivesCol=pl.sum(\"BinPositives\"),\n",
    "        NegativesCol=pl.sum(\"BinNegatives\"),\n",
    "    ):\n",
    "        return (\n",
    "            (posFractionCol - negFractionCol)\n",
    "            / (\n",
    "                (posFractionCol * (1 - posFractionCol) / PositivesCol)\n",
    "                + (negFractionCol * (1 - negFractionCol) / NegativesCol)\n",
    "            ).sqrt()\n",
    "        ).alias(\"ZRatio\")\n",
    "\n",
    "    return zRatioimpl(*getFracs(posCol, negCol), posCol.sum(), negCol.sum())\n",
    "\n",
    "\n",
    "binningDerived.select(\n",
    "    \"Range/Symbol\", \"Positives\", \"Negatives\", \"Positives %\", \"Negatives %\"\n",
    ").with_columns(zRatio(Positives, Negatives))\n"
   ]
  },
  {
   "cell_type": "markdown",
   "metadata": {},
   "source": [
    "## Predictor AUC\n"
   ]
  },
  {
   "attachments": {},
   "cell_type": "markdown",
   "metadata": {},
   "source": [
    "The predictor AUC is the univariate performance of this predictor against the outcome. This too can be derived from the positives and negatives and\n",
    "there is  a convenient function in pdstools to calculate it directly from the positives and negatives.\n",
    "\n",
    "Again, this function is implemented in cdh_utils: [`cdh_utils.auc_from_bincounts()`](https://pegasystems.github.io/pega-datascientist-tools/Python/autoapi/pdstools/utils/cdh_utils/index.html#pdstools.utils.cdh_utils.auc_from_bincounts)"
   ]
  },
  {
   "cell_type": "code",
   "execution_count": 10,
   "metadata": {
    "execution": {
     "iopub.execute_input": "2023-03-28T14:52:53.008389Z",
     "iopub.status.busy": "2023-03-28T14:52:53.007661Z",
     "iopub.status.idle": "2023-03-28T14:52:53.029783Z",
     "shell.execute_reply": "2023-03-28T14:52:53.029352Z"
    }
   },
   "outputs": [
    {
     "ename": "NameError",
     "evalue": "name 'binningDerived' is not defined",
     "output_type": "error",
     "traceback": [
      "\u001b[0;31m---------------------------------------------------------------------------\u001b[0m",
      "\u001b[0;31mNameError\u001b[0m                                 Traceback (most recent call last)",
      "Cell \u001b[0;32mIn[10], line 1\u001b[0m\n\u001b[0;32m----> 1\u001b[0m pos\u001b[38;5;241m=\u001b[39m\u001b[43mbinningDerived\u001b[49m\u001b[38;5;241m.\u001b[39mget_column(\u001b[38;5;124m\"\u001b[39m\u001b[38;5;124mPositives\u001b[39m\u001b[38;5;124m\"\u001b[39m)\u001b[38;5;241m.\u001b[39mto_numpy()\n\u001b[1;32m      2\u001b[0m neg\u001b[38;5;241m=\u001b[39mbinningDerived\u001b[38;5;241m.\u001b[39mget_column(\u001b[38;5;124m\"\u001b[39m\u001b[38;5;124mNegatives\u001b[39m\u001b[38;5;124m\"\u001b[39m)\u001b[38;5;241m.\u001b[39mto_numpy()\n\u001b[1;32m      4\u001b[0m o \u001b[38;5;241m=\u001b[39m np\u001b[38;5;241m.\u001b[39margsort((pos \u001b[38;5;241m/\u001b[39m (pos \u001b[38;5;241m+\u001b[39m neg)))\n",
      "\u001b[0;31mNameError\u001b[0m: name 'binningDerived' is not defined"
     ]
    }
   ],
   "source": [
    "pos=binningDerived.get_column(\"Positives\").to_numpy()\n",
    "neg=binningDerived.get_column(\"Negatives\").to_numpy()\n",
    "\n",
    "o = np.argsort((pos / (pos + neg)))\n",
    "\n",
    "TNR = np.cumsum(neg[o]) / np.sum(neg)\n",
    "FPR = np.flip(np.cumsum(neg[o]) / np.sum(neg), axis=0)\n",
    "TPR = np.flip(np.cumsum(pos[o]) / np.sum(pos), axis=0)\n",
    "Area = (FPR - np.append(FPR[1:], 0)) * (TPR + np.append(TPR[1:], 0)) / 2\n",
    "auc = 0.5 + np.abs(0.5-np.sum(Area))\n",
    "\n",
    "fig = px.line(\n",
    "    x=TPR, y=TNR,\n",
    "    labels=dict(x='Specificity', y='Sensitivity'),\n",
    "    title = f\"AUC = {auc.round(3)}\",\n",
    "    width=700, height=700,\n",
    "    range_x=[1,0],\n",
    "    template='none'\n",
    ")\n",
    "fig.add_shape(\n",
    "    type='line', line=dict(dash='dash'),\n",
    "    x0=1, x1=0, y0=0, y1=1\n",
    ")\n",
    "fig.show()"
   ]
  },
  {
   "cell_type": "markdown",
   "metadata": {},
   "source": [
    "## Predictor score and log odds"
   ]
  },
  {
   "cell_type": "markdown",
   "metadata": {},
   "source": [
    "The score is calculated from the log odds which are simply the ratio of the probabilities of positives and negatives. For the actual calculation in ADM this is modified slightly to avoid division-by-zero problems and is written differently to avoid numeric instability as shown below."
   ]
  },
  {
   "cell_type": "code",
   "execution_count": 11,
   "metadata": {
    "execution": {
     "iopub.execute_input": "2023-03-28T14:52:53.032723Z",
     "iopub.status.busy": "2023-03-28T14:52:53.032014Z",
     "iopub.status.idle": "2023-03-28T14:52:53.048817Z",
     "shell.execute_reply": "2023-03-28T14:52:53.048371Z"
    }
   },
   "outputs": [
    {
     "ename": "NameError",
     "evalue": "name 'binningDerived' is not defined",
     "output_type": "error",
     "traceback": [
      "\u001b[0;31m---------------------------------------------------------------------------\u001b[0m",
      "\u001b[0;31mNameError\u001b[0m                                 Traceback (most recent call last)",
      "Cell \u001b[0;32mIn[11], line 1\u001b[0m\n\u001b[0;32m----> 1\u001b[0m N \u001b[38;5;241m=\u001b[39m \u001b[43mbinningDerived\u001b[49m\u001b[38;5;241m.\u001b[39mshape[\u001b[38;5;241m0\u001b[39m]\n\u001b[1;32m      2\u001b[0m binningDerived\u001b[38;5;241m.\u001b[39mwith_columns(\n\u001b[1;32m      3\u001b[0m     LogOdds\u001b[38;5;241m=\u001b[39m (pl\u001b[38;5;241m.\u001b[39mcol(\u001b[38;5;124m\"\u001b[39m\u001b[38;5;124mPositives \u001b[39m\u001b[38;5;124m%\u001b[39m\u001b[38;5;124m\"\u001b[39m) \u001b[38;5;241m/\u001b[39m pl\u001b[38;5;241m.\u001b[39mcol(\u001b[38;5;124m\"\u001b[39m\u001b[38;5;124mNegatives \u001b[39m\u001b[38;5;124m%\u001b[39m\u001b[38;5;124m\"\u001b[39m))\u001b[38;5;241m.\u001b[39mlog(),\n\u001b[1;32m      4\u001b[0m     ModifiedLogOdds\u001b[38;5;241m=\u001b[39m(\n\u001b[0;32m   (...)\u001b[0m\n\u001b[1;32m      7\u001b[0m     )\n\u001b[1;32m      8\u001b[0m )\u001b[38;5;241m.\u001b[39mdrop(\u001b[38;5;124m\"\u001b[39m\u001b[38;5;124mResponses \u001b[39m\u001b[38;5;124m%\u001b[39m\u001b[38;5;124m\"\u001b[39m, \u001b[38;5;124m\"\u001b[39m\u001b[38;5;124mPropensity\u001b[39m\u001b[38;5;124m\"\u001b[39m)\n",
      "\u001b[0;31mNameError\u001b[0m: name 'binningDerived' is not defined"
     ]
    }
   ],
   "source": [
    "N = binningDerived.shape[0]\n",
    "binningDerived.with_columns(\n",
    "    LogOdds= (pl.col(\"Positives %\") / pl.col(\"Negatives %\")).log(),\n",
    "    ModifiedLogOdds=(\n",
    "        ((Positives + 1 / N).log() - (Positives + 1).sum().log())\n",
    "        - ((Negatives + 1 / N).log() - (Negatives + 1).sum().log())\n",
    "    )\n",
    ").drop(\"Responses %\", \"Propensity\")"
   ]
  },
  {
   "cell_type": "markdown",
   "metadata": {},
   "source": [
    "## Propensity mapping"
   ]
  },
  {
   "cell_type": "markdown",
   "metadata": {},
   "source": [
    "### Log odds contribution for all the predictors"
   ]
  },
  {
   "cell_type": "markdown",
   "metadata": {},
   "source": [
    "To get to a propensity, the log odds of the relevant bins of the active predictors are added up and divided by the number of active predictors +1, then used to index in the classifier.\n",
    "\n",
    "Below an example. From all the active predictors of the model for we pick a value (in the middle for numerics, first symbol for symbolics) and show the (modified) log odds. These log odds values are averaged (added up and divided by number of active predictors + 1), and this is the “score” that is mapped to a propensity value by the classifier (which is constructed using the PAV(A) algorithm)."
   ]
  },
  {
   "cell_type": "code",
   "execution_count": 12,
   "metadata": {
    "execution": {
     "iopub.execute_input": "2023-03-28T14:52:53.051773Z",
     "iopub.status.busy": "2023-03-28T14:52:53.051042Z",
     "iopub.status.idle": "2023-03-28T14:52:53.081982Z",
     "shell.execute_reply": "2023-03-28T14:52:53.081464Z"
    }
   },
   "outputs": [
    {
     "ename": "NameError",
     "evalue": "name 'modelpredictors' is not defined",
     "output_type": "error",
     "traceback": [
      "\u001b[0;31m---------------------------------------------------------------------------\u001b[0m",
      "\u001b[0;31mNameError\u001b[0m                                 Traceback (most recent call last)",
      "Cell \u001b[0;32mIn[12], line 16\u001b[0m\n\u001b[1;32m      8\u001b[0m     PosSum, NegSum \u001b[38;5;241m=\u001b[39m Positives\u001b[38;5;241m.\u001b[39marr\u001b[38;5;241m.\u001b[39msum(), Negatives\u001b[38;5;241m.\u001b[39marr\u001b[38;5;241m.\u001b[39msum()\n\u001b[1;32m      9\u001b[0m     \u001b[38;5;28;01mreturn\u001b[39;00m (\n\u001b[1;32m     10\u001b[0m         (((Pos \u001b[38;5;241m+\u001b[39m (\u001b[38;5;241m1\u001b[39m \u001b[38;5;241m/\u001b[39m N))\u001b[38;5;241m.\u001b[39mlog() \u001b[38;5;241m-\u001b[39m (PosSum \u001b[38;5;241m+\u001b[39m N)\u001b[38;5;241m.\u001b[39mlog()))\n\u001b[1;32m     11\u001b[0m         \u001b[38;5;241m-\u001b[39m (((Neg \u001b[38;5;241m+\u001b[39m (\u001b[38;5;241m1\u001b[39m \u001b[38;5;241m/\u001b[39m N))\u001b[38;5;241m.\u001b[39mlog()) \u001b[38;5;241m-\u001b[39m (NegSum \u001b[38;5;241m+\u001b[39m N)\u001b[38;5;241m.\u001b[39mlog())\n\u001b[1;32m     12\u001b[0m     )\u001b[38;5;241m.\u001b[39malias(\u001b[38;5;124m\"\u001b[39m\u001b[38;5;124mModified Log odds\u001b[39m\u001b[38;5;124m\"\u001b[39m)\n\u001b[1;32m     15\u001b[0m df \u001b[38;5;241m=\u001b[39m (\n\u001b[0;32m---> 16\u001b[0m     \u001b[43mmodelpredictors\u001b[49m\u001b[38;5;241m.\u001b[39mfilter(pl\u001b[38;5;241m.\u001b[39mcol(\u001b[38;5;124m\"\u001b[39m\u001b[38;5;124mPredictorName\u001b[39m\u001b[38;5;124m\"\u001b[39m) \u001b[38;5;241m!=\u001b[39m \u001b[38;5;124m\"\u001b[39m\u001b[38;5;124mClassifier\u001b[39m\u001b[38;5;124m\"\u001b[39m)\n\u001b[1;32m     17\u001b[0m     \u001b[38;5;241m.\u001b[39mgroupby(\u001b[38;5;124m\"\u001b[39m\u001b[38;5;124mPredictorName\u001b[39m\u001b[38;5;124m\"\u001b[39m)\n\u001b[1;32m     18\u001b[0m     \u001b[38;5;241m.\u001b[39magg(\n\u001b[1;32m     19\u001b[0m         Value\u001b[38;5;241m=\u001b[39mpl\u001b[38;5;241m.\u001b[39mwhen(pl\u001b[38;5;241m.\u001b[39mcol(\u001b[38;5;124m\"\u001b[39m\u001b[38;5;124mType\u001b[39m\u001b[38;5;124m\"\u001b[39m)\u001b[38;5;241m.\u001b[39mfirst() \u001b[38;5;241m==\u001b[39m \u001b[38;5;124m\"\u001b[39m\u001b[38;5;124mnumeric\u001b[39m\u001b[38;5;124m\"\u001b[39m)\n\u001b[1;32m     20\u001b[0m         \u001b[38;5;241m.\u001b[39mthen(\n\u001b[1;32m     21\u001b[0m             ((pl\u001b[38;5;241m.\u001b[39mcol(\u001b[38;5;124m\"\u001b[39m\u001b[38;5;124mBinLowerBound\u001b[39m\u001b[38;5;124m\"\u001b[39m) \u001b[38;5;241m+\u001b[39m pl\u001b[38;5;241m.\u001b[39mcol(\u001b[38;5;124m\"\u001b[39m\u001b[38;5;124mBinUpperBound\u001b[39m\u001b[38;5;124m\"\u001b[39m)) \u001b[38;5;241m/\u001b[39m \u001b[38;5;241m2\u001b[39m)\u001b[38;5;241m.\u001b[39mwhere(middleBin())\n\u001b[1;32m     22\u001b[0m         )\n\u001b[1;32m     23\u001b[0m         \u001b[38;5;241m.\u001b[39motherwise(pl\u001b[38;5;241m.\u001b[39mcol(\u001b[38;5;124m\"\u001b[39m\u001b[38;5;124mBinSymbol\u001b[39m\u001b[38;5;124m\"\u001b[39m)\u001b[38;5;241m.\u001b[39mstr\u001b[38;5;241m.\u001b[39msplit(\u001b[38;5;124m\"\u001b[39m\u001b[38;5;124m,\u001b[39m\u001b[38;5;124m\"\u001b[39m)\u001b[38;5;241m.\u001b[39marr\u001b[38;5;241m.\u001b[39mfirst()\u001b[38;5;241m.\u001b[39mwhere(middleBin())),\n\u001b[1;32m     24\u001b[0m         Bin\u001b[38;5;241m=\u001b[39mpl\u001b[38;5;241m.\u001b[39mcol(\u001b[38;5;124m\"\u001b[39m\u001b[38;5;124mBinIndex\u001b[39m\u001b[38;5;124m\"\u001b[39m)\u001b[38;5;241m.\u001b[39mwhere(middleBin()),\n\u001b[1;32m     25\u001b[0m         Positives\u001b[38;5;241m=\u001b[39mpl\u001b[38;5;241m.\u001b[39mcol(\u001b[38;5;124m\"\u001b[39m\u001b[38;5;124mBinPositives\u001b[39m\u001b[38;5;124m\"\u001b[39m),\n\u001b[1;32m     26\u001b[0m         Negatives\u001b[38;5;241m=\u001b[39mpl\u001b[38;5;241m.\u001b[39mcol(\u001b[38;5;124m\"\u001b[39m\u001b[38;5;124mBinNegatives\u001b[39m\u001b[38;5;124m\"\u001b[39m),\n\u001b[1;32m     27\u001b[0m     )\n\u001b[1;32m     28\u001b[0m     \u001b[38;5;241m.\u001b[39mwith_columns(\n\u001b[1;32m     29\u001b[0m         pl\u001b[38;5;241m.\u001b[39mcol([\u001b[38;5;124m\"\u001b[39m\u001b[38;5;124mPositives\u001b[39m\u001b[38;5;124m\"\u001b[39m, \u001b[38;5;124m\"\u001b[39m\u001b[38;5;124mNegatives\u001b[39m\u001b[38;5;124m\"\u001b[39m])\u001b[38;5;241m.\u001b[39marr\u001b[38;5;241m.\u001b[39mget(pl\u001b[38;5;241m.\u001b[39mcol(\u001b[38;5;124m\"\u001b[39m\u001b[38;5;124mBin\u001b[39m\u001b[38;5;124m\"\u001b[39m)\u001b[38;5;241m.\u001b[39marr\u001b[38;5;241m.\u001b[39mget(\u001b[38;5;241m0\u001b[39m) \u001b[38;5;241m-\u001b[39m \u001b[38;5;241m1\u001b[39m),\n\u001b[1;32m     30\u001b[0m         pl\u001b[38;5;241m.\u001b[39mcol(\u001b[38;5;124m\"\u001b[39m\u001b[38;5;124mBin\u001b[39m\u001b[38;5;124m\"\u001b[39m, \u001b[38;5;124m\"\u001b[39m\u001b[38;5;124mValue\u001b[39m\u001b[38;5;124m\"\u001b[39m)\u001b[38;5;241m.\u001b[39marr\u001b[38;5;241m.\u001b[39mget(\u001b[38;5;241m0\u001b[39m),\n\u001b[1;32m     31\u001b[0m         LogOdds\u001b[38;5;241m=\u001b[39mRowWiseLogOdds(pl\u001b[38;5;241m.\u001b[39mcol(\u001b[38;5;124m\"\u001b[39m\u001b[38;5;124mBin\u001b[39m\u001b[38;5;124m\"\u001b[39m), pl\u001b[38;5;241m.\u001b[39mcol(\u001b[38;5;124m\"\u001b[39m\u001b[38;5;124mPositives\u001b[39m\u001b[38;5;124m\"\u001b[39m), pl\u001b[38;5;241m.\u001b[39mcol(\u001b[38;5;124m\"\u001b[39m\u001b[38;5;124mNegatives\u001b[39m\u001b[38;5;124m\"\u001b[39m)),\n\u001b[1;32m     32\u001b[0m     )\n\u001b[1;32m     33\u001b[0m     \u001b[38;5;241m.\u001b[39msort(\u001b[38;5;124m\"\u001b[39m\u001b[38;5;124mPredictorName\u001b[39m\u001b[38;5;124m\"\u001b[39m)\n\u001b[1;32m     34\u001b[0m )\n\u001b[1;32m     35\u001b[0m df\u001b[38;5;241m.\u001b[39mvstack(\n\u001b[1;32m     36\u001b[0m     pl\u001b[38;5;241m.\u001b[39mDataFrame(\u001b[38;5;28mdict\u001b[39m(\u001b[38;5;28mzip\u001b[39m(\n\u001b[1;32m     37\u001b[0m                 df\u001b[38;5;241m.\u001b[39mcolumns,\n\u001b[0;32m   (...)\u001b[0m\n\u001b[1;32m     41\u001b[0m     )\n\u001b[1;32m     42\u001b[0m )\n",
      "\u001b[0;31mNameError\u001b[0m: name 'modelpredictors' is not defined"
     ]
    }
   ],
   "source": [
    "def middleBin():\n",
    "    return pl.col(\"BinIndex\") == (pl.max(\"BinIndex\") / 2).floor().cast(pl.UInt32)\n",
    "\n",
    "\n",
    "def RowWiseLogOdds(Bin, Positives, Negatives):\n",
    "    Bin, N = Bin.arr.get(0) - 1, Positives.arr.lengths()\n",
    "    Pos, Neg = Positives.arr.get(Bin), Negatives.arr.get(Bin)\n",
    "    PosSum, NegSum = Positives.arr.sum(), Negatives.arr.sum()\n",
    "    return (\n",
    "        (((Pos + (1 / N)).log() - (PosSum + N).log()))\n",
    "        - (((Neg + (1 / N)).log()) - (NegSum + N).log())\n",
    "    ).alias(\"Modified Log odds\")\n",
    "\n",
    "\n",
    "df = (\n",
    "    modelpredictors.filter(pl.col(\"PredictorName\") != \"Classifier\")\n",
    "    .groupby(\"PredictorName\")\n",
    "    .agg(\n",
    "        Value=pl.when(pl.col(\"Type\").first() == \"numeric\")\n",
    "        .then(\n",
    "            ((pl.col(\"BinLowerBound\") + pl.col(\"BinUpperBound\")) / 2).where(middleBin())\n",
    "        )\n",
    "        .otherwise(pl.col(\"BinSymbol\").str.split(\",\").arr.first().where(middleBin())),\n",
    "        Bin=pl.col(\"BinIndex\").where(middleBin()),\n",
    "        Positives=pl.col(\"BinPositives\"),\n",
    "        Negatives=pl.col(\"BinNegatives\"),\n",
    "    )\n",
    "    .with_columns(\n",
    "        pl.col([\"Positives\", \"Negatives\"]).arr.get(pl.col(\"Bin\").arr.get(0) - 1),\n",
    "        pl.col(\"Bin\", \"Value\").arr.get(0),\n",
    "        LogOdds=RowWiseLogOdds(pl.col(\"Bin\"), pl.col(\"Positives\"), pl.col(\"Negatives\")),\n",
    "    )\n",
    "    .sort(\"PredictorName\")\n",
    ")\n",
    "df.vstack(\n",
    "    pl.DataFrame(dict(zip(\n",
    "                df.columns,\n",
    "                [\"Average log odds\"] + [None] * 4 + [df[\"LogOdds\"].sum() / len(df)],\n",
    "                )),\n",
    "    schema=df.schema,\n",
    "    )\n",
    ")\n"
   ]
  },
  {
   "cell_type": "markdown",
   "metadata": {},
   "source": [
    "## Classifier"
   ]
  },
  {
   "cell_type": "markdown",
   "metadata": {},
   "source": [
    "The success rate is defined as $\\frac{positives}{positives+negatives}$ per bin. \n",
    "\n",
    "The adjusted propensity that is returned is a small modification (Laplace smoothing) to this and calculated as $\\frac{0.5+positives}{1+positives+negatives}$ so empty models return a propensity of 0.5.\n"
   ]
  },
  {
   "cell_type": "code",
   "execution_count": 13,
   "metadata": {
    "execution": {
     "iopub.execute_input": "2023-03-28T14:52:53.085142Z",
     "iopub.status.busy": "2023-03-28T14:52:53.084415Z",
     "iopub.status.idle": "2023-03-28T14:52:53.106858Z",
     "shell.execute_reply": "2023-03-28T14:52:53.106374Z"
    }
   },
   "outputs": [
    {
     "ename": "NameError",
     "evalue": "name 'modelpredictors' is not defined",
     "output_type": "error",
     "traceback": [
      "\u001b[0;31m---------------------------------------------------------------------------\u001b[0m",
      "\u001b[0;31mNameError\u001b[0m                                 Traceback (most recent call last)",
      "Cell \u001b[0;32mIn[13], line 1\u001b[0m\n\u001b[0;32m----> 1\u001b[0m classifier \u001b[38;5;241m=\u001b[39m \u001b[43mmodelpredictors\u001b[49m\u001b[38;5;241m.\u001b[39mfilter(pl\u001b[38;5;241m.\u001b[39mcol(\u001b[38;5;124m\"\u001b[39m\u001b[38;5;124mEntryType\u001b[39m\u001b[38;5;124m\"\u001b[39m) \u001b[38;5;241m==\u001b[39m \u001b[38;5;124m\"\u001b[39m\u001b[38;5;124mClassifier\u001b[39m\u001b[38;5;124m\"\u001b[39m)\u001b[38;5;241m.\u001b[39mwith_columns(\n\u001b[1;32m      2\u001b[0m     Propensity\u001b[38;5;241m=\u001b[39m(Positives \u001b[38;5;241m/\u001b[39m (Positives \u001b[38;5;241m/\u001b[39m Negatives)),\n\u001b[1;32m      3\u001b[0m     AdjustedPropensity\u001b[38;5;241m=\u001b[39m((\u001b[38;5;241m0.5\u001b[39m \u001b[38;5;241m+\u001b[39m Positives) \u001b[38;5;241m/\u001b[39m (\u001b[38;5;241m1\u001b[39m \u001b[38;5;241m+\u001b[39m Positives \u001b[38;5;241m+\u001b[39m Negatives)),\n\u001b[1;32m      4\u001b[0m )\u001b[38;5;241m.\u001b[39mselect(\n\u001b[1;32m      5\u001b[0m     [\n\u001b[1;32m      6\u001b[0m         pl\u001b[38;5;241m.\u001b[39mcol(\u001b[38;5;124m\"\u001b[39m\u001b[38;5;124mBinIndex\u001b[39m\u001b[38;5;124m\"\u001b[39m)\u001b[38;5;241m.\u001b[39malias(\u001b[38;5;124m\"\u001b[39m\u001b[38;5;124mIndex\u001b[39m\u001b[38;5;124m\"\u001b[39m),\n\u001b[1;32m      7\u001b[0m         pl\u001b[38;5;241m.\u001b[39mcol(\u001b[38;5;124m\"\u001b[39m\u001b[38;5;124mBinSymbol\u001b[39m\u001b[38;5;124m\"\u001b[39m)\u001b[38;5;241m.\u001b[39malias(\u001b[38;5;124m\"\u001b[39m\u001b[38;5;124mBin\u001b[39m\u001b[38;5;124m\"\u001b[39m),\n\u001b[1;32m      8\u001b[0m         Positives\u001b[38;5;241m.\u001b[39malias(\u001b[38;5;124m\"\u001b[39m\u001b[38;5;124mPositives\u001b[39m\u001b[38;5;124m\"\u001b[39m),\n\u001b[1;32m      9\u001b[0m         Negatives\u001b[38;5;241m.\u001b[39malias(\u001b[38;5;124m\"\u001b[39m\u001b[38;5;124mNegatives\u001b[39m\u001b[38;5;124m\"\u001b[39m),\n\u001b[1;32m     10\u001b[0m         ((pl\u001b[38;5;241m.\u001b[39mcumsum(\u001b[38;5;124m\"\u001b[39m\u001b[38;5;124mBinResponseCount\u001b[39m\u001b[38;5;124m\"\u001b[39m) \u001b[38;5;241m/\u001b[39m pl\u001b[38;5;241m.\u001b[39msum(\u001b[38;5;124m\"\u001b[39m\u001b[38;5;124mBinResponseCount\u001b[39m\u001b[38;5;124m\"\u001b[39m)) \u001b[38;5;241m*\u001b[39m \u001b[38;5;241m100\u001b[39m)\u001b[38;5;241m.\u001b[39malias(\n\u001b[1;32m     11\u001b[0m             \u001b[38;5;124m\"\u001b[39m\u001b[38;5;124mCum. Total (\u001b[39m\u001b[38;5;124m%\u001b[39m\u001b[38;5;124m)\u001b[39m\u001b[38;5;124m\"\u001b[39m\n\u001b[1;32m     12\u001b[0m         ),\n\u001b[1;32m     13\u001b[0m         (pl\u001b[38;5;241m.\u001b[39mcol(\u001b[38;5;124m\"\u001b[39m\u001b[38;5;124mBinPropensity\u001b[39m\u001b[38;5;124m\"\u001b[39m) \u001b[38;5;241m*\u001b[39m \u001b[38;5;241m100\u001b[39m)\u001b[38;5;241m.\u001b[39malias(\u001b[38;5;124m\"\u001b[39m\u001b[38;5;124mPropensity (\u001b[39m\u001b[38;5;124m%\u001b[39m\u001b[38;5;124m)\u001b[39m\u001b[38;5;124m\"\u001b[39m),\n\u001b[1;32m     14\u001b[0m         (pl\u001b[38;5;241m.\u001b[39mcol(\u001b[38;5;124m\"\u001b[39m\u001b[38;5;124mAdjustedPropensity\u001b[39m\u001b[38;5;124m\"\u001b[39m) \u001b[38;5;241m*\u001b[39m \u001b[38;5;241m100\u001b[39m)\u001b[38;5;241m.\u001b[39malias(\u001b[38;5;124m\"\u001b[39m\u001b[38;5;124mAdjusted Propensity (\u001b[39m\u001b[38;5;124m%\u001b[39m\u001b[38;5;124m)\u001b[39m\u001b[38;5;124m\"\u001b[39m),\n\u001b[1;32m     15\u001b[0m         ((pl\u001b[38;5;241m.\u001b[39mcumsum(\u001b[38;5;124m\"\u001b[39m\u001b[38;5;124mBinPositives\u001b[39m\u001b[38;5;124m\"\u001b[39m) \u001b[38;5;241m/\u001b[39m pl\u001b[38;5;241m.\u001b[39msum(\u001b[38;5;124m\"\u001b[39m\u001b[38;5;124mBinPositives\u001b[39m\u001b[38;5;124m\"\u001b[39m)) \u001b[38;5;241m*\u001b[39m \u001b[38;5;241m100\u001b[39m)\u001b[38;5;241m.\u001b[39malias(\n\u001b[1;32m     16\u001b[0m             \u001b[38;5;124m\"\u001b[39m\u001b[38;5;124mCum Positives (\u001b[39m\u001b[38;5;124m%\u001b[39m\u001b[38;5;124m)\u001b[39m\u001b[38;5;124m\"\u001b[39m\n\u001b[1;32m     17\u001b[0m         ),\n\u001b[1;32m     18\u001b[0m         pl\u001b[38;5;241m.\u001b[39mcol(\u001b[38;5;124m\"\u001b[39m\u001b[38;5;124mZRatio\u001b[39m\u001b[38;5;124m\"\u001b[39m),\n\u001b[1;32m     19\u001b[0m         (pl\u001b[38;5;241m.\u001b[39mcol(\u001b[38;5;124m\"\u001b[39m\u001b[38;5;124mLift\u001b[39m\u001b[38;5;124m\"\u001b[39m) \u001b[38;5;241m*\u001b[39m \u001b[38;5;241m100\u001b[39m)\u001b[38;5;241m.\u001b[39malias(\u001b[38;5;124m\"\u001b[39m\u001b[38;5;124mLift(\u001b[39m\u001b[38;5;124m%\u001b[39m\u001b[38;5;124m)\u001b[39m\u001b[38;5;124m\"\u001b[39m),\n\u001b[1;32m     20\u001b[0m         pl\u001b[38;5;241m.\u001b[39mcol(\u001b[38;5;124m\"\u001b[39m\u001b[38;5;124mBinResponseCount\u001b[39m\u001b[38;5;124m\"\u001b[39m)\u001b[38;5;241m.\u001b[39malias(\u001b[38;5;124m\"\u001b[39m\u001b[38;5;124mResponses\u001b[39m\u001b[38;5;124m\"\u001b[39m),\n\u001b[1;32m     21\u001b[0m     ]\n\u001b[1;32m     22\u001b[0m )\n\u001b[1;32m     23\u001b[0m classifier\u001b[38;5;241m.\u001b[39mdrop(\u001b[38;5;124m\"\u001b[39m\u001b[38;5;124mResponses\u001b[39m\u001b[38;5;124m\"\u001b[39m)\n",
      "\u001b[0;31mNameError\u001b[0m: name 'modelpredictors' is not defined"
     ]
    }
   ],
   "source": [
    "classifier = modelpredictors.filter(pl.col(\"EntryType\") == \"Classifier\").with_columns(\n",
    "    Propensity=(Positives / (Positives / Negatives)),\n",
    "    AdjustedPropensity=((0.5 + Positives) / (1 + Positives + Negatives)),\n",
    ").select(\n",
    "    [\n",
    "        pl.col(\"BinIndex\").alias(\"Index\"),\n",
    "        pl.col(\"BinSymbol\").alias(\"Bin\"),\n",
    "        Positives.alias(\"Positives\"),\n",
    "        Negatives.alias(\"Negatives\"),\n",
    "        ((pl.cumsum(\"BinResponseCount\") / pl.sum(\"BinResponseCount\")) * 100).alias(\n",
    "            \"Cum. Total (%)\"\n",
    "        ),\n",
    "        (pl.col(\"BinPropensity\") * 100).alias(\"Propensity (%)\"),\n",
    "        (pl.col(\"AdjustedPropensity\") * 100).alias(\"Adjusted Propensity (%)\"),\n",
    "        ((pl.cumsum(\"BinPositives\") / pl.sum(\"BinPositives\")) * 100).alias(\n",
    "            \"Cum Positives (%)\"\n",
    "        ),\n",
    "        pl.col(\"ZRatio\"),\n",
    "        (pl.col(\"Lift\") * 100).alias(\"Lift(%)\"),\n",
    "        pl.col(\"BinResponseCount\").alias(\"Responses\"),\n",
    "    ]\n",
    ")\n",
    "classifier.drop(\"Responses\")"
   ]
  },
  {
   "cell_type": "markdown",
   "metadata": {},
   "source": [
    "## Final Propensity"
   ]
  },
  {
   "attachments": {},
   "cell_type": "markdown",
   "metadata": {},
   "source": [
    "Below the classifier mapping. On the x-axis the binned scores (log odds values), on the y-axis the Propensity. Note the returned propensities are following a slightly adjusted formula, see the table above. The bin that contains the calculated score is highlighted.\n",
    "\n",
    "The score -0.11403 falls in bin 7 of the classifier, so for this set of inputs, the model returns a propensity of 1.70%."
   ]
  },
  {
   "cell_type": "code",
   "execution_count": 14,
   "metadata": {
    "execution": {
     "iopub.execute_input": "2023-03-28T14:52:53.109907Z",
     "iopub.status.busy": "2023-03-28T14:52:53.109204Z",
     "iopub.status.idle": "2023-03-28T14:52:53.126326Z",
     "shell.execute_reply": "2023-03-28T14:52:53.125836Z"
    }
   },
   "outputs": [
    {
     "ename": "NameError",
     "evalue": "name 'modelpredictors' is not defined",
     "output_type": "error",
     "traceback": [
      "\u001b[0;31m---------------------------------------------------------------------------\u001b[0m",
      "\u001b[0;31mNameError\u001b[0m                                 Traceback (most recent call last)",
      "Cell \u001b[0;32mIn[14], line 4\u001b[0m\n\u001b[1;32m      1\u001b[0m \u001b[38;5;28;01mfrom\u001b[39;00m \u001b[38;5;21;01mpdstools\u001b[39;00m\u001b[38;5;21;01m.\u001b[39;00m\u001b[38;5;21;01mplots\u001b[39;00m\u001b[38;5;21;01m.\u001b[39;00m\u001b[38;5;21;01mplots_plotly\u001b[39;00m \u001b[38;5;28;01mimport\u001b[39;00m ADMVisualisations\n\u001b[1;32m      3\u001b[0m fig \u001b[38;5;241m=\u001b[39m ADMVisualisations\u001b[38;5;241m.\u001b[39mdistribution_graph(\n\u001b[0;32m----> 4\u001b[0m     \u001b[43mmodelpredictors\u001b[49m\u001b[38;5;241m.\u001b[39mfilter(pl\u001b[38;5;241m.\u001b[39mcol(\u001b[38;5;124m\"\u001b[39m\u001b[38;5;124mEntryType\u001b[39m\u001b[38;5;124m\"\u001b[39m) \u001b[38;5;241m==\u001b[39m \u001b[38;5;124m\"\u001b[39m\u001b[38;5;124mClassifier\u001b[39m\u001b[38;5;124m\"\u001b[39m),\n\u001b[1;32m      5\u001b[0m     \u001b[38;5;124m\"\u001b[39m\u001b[38;5;124mPropensity distribution\u001b[39m\u001b[38;5;124m\"\u001b[39m,\n\u001b[1;32m      6\u001b[0m )\u001b[38;5;241m.\u001b[39madd_annotation(\n\u001b[1;32m      7\u001b[0m     x\u001b[38;5;241m=\u001b[39m\u001b[38;5;124m\"\u001b[39m\u001b[38;5;124m[-0.22, 0.99>\u001b[39m\u001b[38;5;124m\"\u001b[39m,\n\u001b[1;32m      8\u001b[0m     y\u001b[38;5;241m=\u001b[39m\u001b[38;5;241m1400\u001b[39m,\n\u001b[1;32m      9\u001b[0m     text\u001b[38;5;241m=\u001b[39m\u001b[38;5;124m\"\u001b[39m\u001b[38;5;124mReturned propensity: 1.7\u001b[39m\u001b[38;5;124m%\u001b[39m\u001b[38;5;124m\"\u001b[39m,\n\u001b[1;32m     10\u001b[0m     bgcolor\u001b[38;5;241m=\u001b[39m\u001b[38;5;124m\"\u001b[39m\u001b[38;5;124m#FFFFFF\u001b[39m\u001b[38;5;124m\"\u001b[39m,\n\u001b[1;32m     11\u001b[0m     bordercolor\u001b[38;5;241m=\u001b[39m\u001b[38;5;124m\"\u001b[39m\u001b[38;5;124m#000000\u001b[39m\u001b[38;5;124m\"\u001b[39m,\n\u001b[1;32m     12\u001b[0m     showarrow\u001b[38;5;241m=\u001b[39m\u001b[38;5;28;01mFalse\u001b[39;00m,\n\u001b[1;32m     13\u001b[0m )\n\u001b[1;32m     14\u001b[0m fig\u001b[38;5;241m.\u001b[39mdata[\u001b[38;5;241m0\u001b[39m][\u001b[38;5;124m\"\u001b[39m\u001b[38;5;124mmarker_color\u001b[39m\u001b[38;5;124m\"\u001b[39m] \u001b[38;5;241m=\u001b[39m [\u001b[38;5;124m\"\u001b[39m\u001b[38;5;124mgrey\u001b[39m\u001b[38;5;124m\"\u001b[39m] \u001b[38;5;241m*\u001b[39m \u001b[38;5;241m6\u001b[39m \u001b[38;5;241m+\u001b[39m [\u001b[38;5;124m\"\u001b[39m\u001b[38;5;124m#1f77b4\u001b[39m\u001b[38;5;124m\"\u001b[39m] \u001b[38;5;241m+\u001b[39m [\u001b[38;5;124m\"\u001b[39m\u001b[38;5;124mgrey\u001b[39m\u001b[38;5;124m\"\u001b[39m]\n\u001b[1;32m     15\u001b[0m fig\n",
      "\u001b[0;31mNameError\u001b[0m: name 'modelpredictors' is not defined"
     ]
    }
   ],
   "source": [
    "from pdstools.plots.plots_plotly import ADMVisualisations\n",
    "\n",
    "fig = ADMVisualisations.distribution_graph(\n",
    "    modelpredictors.filter(pl.col(\"EntryType\") == \"Classifier\"),\n",
    "    \"Propensity distribution\",\n",
    ").add_annotation(\n",
    "    x=\"[-0.22, 0.99>\",\n",
    "    y=1400,\n",
    "    text=\"Returned propensity: 1.7%\",\n",
    "    bgcolor=\"#FFFFFF\",\n",
    "    bordercolor=\"#000000\",\n",
    "    showarrow=False,\n",
    ")\n",
    "fig.data[0][\"marker_color\"] = [\"grey\"] * 6 + [\"#1f77b4\"] + [\"grey\"]\n",
    "fig\n"
   ]
  }
 ],
 "metadata": {
  "kernelspec": {
   "display_name": "playground",
   "language": "python",
   "name": "python3"
  },
  "language_info": {
   "codemirror_mode": {
    "name": "ipython",
    "version": 3
   },
   "file_extension": ".py",
   "mimetype": "text/x-python",
   "name": "python",
   "nbconvert_exporter": "python",
   "pygments_lexer": "ipython3",
   "version": "3.11.2"
  }
 },
 "nbformat": 4,
 "nbformat_minor": 2
}
