{
 "cells": [
  {
   "attachments": {},
   "cell_type": "markdown",
   "metadata": {},
   "source": [
    "# ADM Explained\n",
    "\n",
    "__Pega__\n",
    "\n",
    "__2023-03-15__\n",
    "\n",
    "This notebook shows exactly how all the values in an ADM model report\n",
    "are calculated. It also shows how the propensity is calculated for a\n",
    "particular customer.\n",
    "\n",
    "We use one of the shipped datamart exports for the example. This is a\n",
    "model very similar to one used in some of the ADM PowerPoint/Excel deep\n",
    "dive examples. You can change this notebook to apply to your own data.\n",
    "\n"
   ]
  },
  {
   "cell_type": "code",
   "execution_count": 1,
   "metadata": {
    "execution": {
     "iopub.execute_input": "2024-05-16T15:39:55.117045Z",
     "iopub.status.busy": "2024-05-16T15:39:55.116879Z",
     "iopub.status.idle": "2024-05-16T15:39:55.470978Z",
     "shell.execute_reply": "2024-05-16T15:39:55.470504Z"
    },
    "nbsphinx": "hidden"
   },
   "outputs": [],
   "source": [
    "# These lines are only for rendering in the docs, and are hidden through Jupyter tags\n",
    "# Do not run if you're running the notebook seperately\n",
    "\n",
    "import plotly.io as pio\n",
    "\n",
    "pio.renderers.default = \"notebook_connected\"\n",
    "\n",
    "import sys\n",
    "import re\n",
    "sys.path.append(\"../../../\")\n",
    "sys.path.append('../../python')\n",
    "import pandas as pd\n",
    "pd.set_option('display.max_colwidth', 0)\n",
    "\n",
    "format_binning_derived = {'Positives':'{:.0f}', 'Negatives':'{:.0f}', 'Responses %':'{:.2f}', 'Positives %':'{:.2f}', 'Negatives %':'{:.2f}', 'Propensity':'{:.4f}'}\n",
    "format_lift = {'Positives': '{:.0f}', 'Negatives': '{:.0f}', 'Lift': '{:.4f}'}\n",
    "format_z_ratio = {'Positives':'{:.0f}', 'Negatives':'{:.0f}', 'Positives %':'{:.2f}', 'Negatives %':'{:.2f}', 'ZRatio':'{:.4f}'}\n",
    "format_log_odds = {'Positives':'{:.0f}', 'Negatives':'{:.0f}', 'Positives %':'{:.2f}', 'LogOdds %':'{:.4f}', 'ModifiedLogOdds':'{:.4f}'}\n",
    "format_classifier = {'Positives':'{:.0f}', 'Negatives':'{:.0f}'}"
   ]
  },
  {
   "cell_type": "code",
   "execution_count": 2,
   "metadata": {
    "execution": {
     "iopub.execute_input": "2024-05-16T15:39:55.473311Z",
     "iopub.status.busy": "2024-05-16T15:39:55.473052Z",
     "iopub.status.idle": "2024-05-16T15:39:56.088664Z",
     "shell.execute_reply": "2024-05-16T15:39:56.088000Z"
    },
    "tags": [
     "remove_input"
    ]
   },
   "outputs": [
    {
     "ename": "AttributeError",
     "evalue": "module 'pdstools.utils.NBAD' has no attribute 'NBAD_prediction'",
     "output_type": "error",
     "traceback": [
      "\u001b[0;31m---------------------------------------------------------------------------\u001b[0m",
      "\u001b[0;31mAttributeError\u001b[0m                            Traceback (most recent call last)",
      "Cell \u001b[0;32mIn[2], line 9\u001b[0m\n\u001b[1;32m      6\u001b[0m \u001b[38;5;28;01mfrom\u001b[39;00m \u001b[38;5;21;01mtyping\u001b[39;00m \u001b[38;5;28;01mimport\u001b[39;00m List\n\u001b[1;32m      7\u001b[0m \u001b[38;5;28;01mfrom\u001b[39;00m \u001b[38;5;21;01mmath\u001b[39;00m \u001b[38;5;28;01mimport\u001b[39;00m log\n\u001b[0;32m----> 9\u001b[0m \u001b[38;5;28;01mfrom\u001b[39;00m \u001b[38;5;21;01mpdstools\u001b[39;00m \u001b[38;5;28;01mimport\u001b[39;00m datasets, cdh_utils\n\u001b[1;32m     10\u001b[0m \u001b[38;5;28;01mfrom\u001b[39;00m \u001b[38;5;21;01mpdstools\u001b[39;00m\u001b[38;5;21;01m.\u001b[39;00m\u001b[38;5;21;01mplots\u001b[39;00m\u001b[38;5;21;01m.\u001b[39;00m\u001b[38;5;21;01mplots_plotly\u001b[39;00m \u001b[38;5;28;01mimport\u001b[39;00m ADMVisualisations\n\u001b[1;32m     13\u001b[0m pl\u001b[38;5;241m.\u001b[39mConfig\u001b[38;5;241m.\u001b[39mset_fmt_str_lengths(\u001b[38;5;241m100\u001b[39m);\n",
      "File \u001b[0;32m~/work/pega-datascientist-tools/pega-datascientist-tools/python/docs/source/articles/../../../pdstools/__init__.py:18\u001b[0m\n\u001b[1;32m     16\u001b[0m \u001b[38;5;28;01mfrom\u001b[39;00m \u001b[38;5;21;01m.\u001b[39;00m\u001b[38;5;21;01mpega_io\u001b[39;00m \u001b[38;5;28;01mimport\u001b[39;00m File, API, S3\n\u001b[1;32m     17\u001b[0m \u001b[38;5;28;01mfrom\u001b[39;00m \u001b[38;5;21;01m.\u001b[39;00m\u001b[38;5;21;01mpega_io\u001b[39;00m\u001b[38;5;21;01m.\u001b[39;00m\u001b[38;5;21;01mAPI\u001b[39;00m \u001b[38;5;28;01mimport\u001b[39;00m setupAzureOpenAI\n\u001b[0;32m---> 18\u001b[0m \u001b[38;5;28;01mfrom\u001b[39;00m \u001b[38;5;21;01m.\u001b[39;00m\u001b[38;5;21;01mprediction\u001b[39;00m \u001b[38;5;28;01mimport\u001b[39;00m Prediction\n\u001b[1;32m     19\u001b[0m \u001b[38;5;28;01mfrom\u001b[39;00m \u001b[38;5;21;01m.\u001b[39;00m\u001b[38;5;21;01mutils\u001b[39;00m \u001b[38;5;28;01mimport\u001b[39;00m cdh_utils, datasets, errors, hds_utils\n\u001b[1;32m     20\u001b[0m \u001b[38;5;28;01mfrom\u001b[39;00m \u001b[38;5;21;01m.\u001b[39;00m\u001b[38;5;21;01mutils\u001b[39;00m\u001b[38;5;21;01m.\u001b[39;00m\u001b[38;5;21;01mcdh_utils\u001b[39;00m \u001b[38;5;28;01mimport\u001b[39;00m defaultPredictorCategorization\n",
      "File \u001b[0;32m~/work/pega-datascientist-tools/pega-datascientist-tools/python/docs/source/articles/../../../pdstools/prediction/__init__.py:1\u001b[0m\n\u001b[0;32m----> 1\u001b[0m \u001b[38;5;28;01mfrom\u001b[39;00m \u001b[38;5;21;01m.\u001b[39;00m\u001b[38;5;21;01mPrediction\u001b[39;00m \u001b[38;5;28;01mimport\u001b[39;00m Prediction\n",
      "File \u001b[0;32m~/work/pega-datascientist-tools/pega-datascientist-tools/python/docs/source/articles/../../../pdstools/prediction/Prediction.py:7\u001b[0m\n\u001b[1;32m      2\u001b[0m \u001b[38;5;28;01mimport\u001b[39;00m \u001b[38;5;21;01mpolars\u001b[39;00m \u001b[38;5;28;01mas\u001b[39;00m \u001b[38;5;21;01mpl\u001b[39;00m\n\u001b[1;32m      4\u001b[0m \u001b[38;5;28;01mfrom\u001b[39;00m \u001b[38;5;21;01m.\u001b[39;00m\u001b[38;5;21;01m.\u001b[39;00m\u001b[38;5;21;01mutils\u001b[39;00m \u001b[38;5;28;01mimport\u001b[39;00m cdh_utils, NBAD\n\u001b[0;32m----> 7\u001b[0m \u001b[38;5;28;43;01mclass\u001b[39;49;00m\u001b[43m \u001b[49m\u001b[38;5;21;43;01mPrediction\u001b[39;49;00m\u001b[43m:\u001b[49m\n\u001b[1;32m      8\u001b[0m \u001b[43m    \u001b[49m\u001b[43mpredictions\u001b[49m\u001b[43m \u001b[49m\u001b[38;5;241;43m=\u001b[39;49m\u001b[43m \u001b[49m\u001b[38;5;28;43;01mNone\u001b[39;49;00m\n\u001b[1;32m     10\u001b[0m \u001b[43m    \u001b[49m\u001b[38;5;66;43;03m# These are pretty strict conditions - many configurations appear not to satisfy these\u001b[39;49;00m\n\u001b[1;32m     11\u001b[0m \u001b[43m    \u001b[49m\u001b[38;5;66;43;03m# perhaps the Total = Test + Control is no longer met when Impact Analyzer is around\u001b[39;49;00m\n",
      "File \u001b[0;32m~/work/pega-datascientist-tools/pega-datascientist-tools/python/docs/source/articles/../../../pdstools/prediction/Prediction.py:30\u001b[0m, in \u001b[0;36mPrediction\u001b[0;34m()\u001b[0m\n\u001b[1;32m     10\u001b[0m \u001b[38;5;66;03m# These are pretty strict conditions - many configurations appear not to satisfy these\u001b[39;00m\n\u001b[1;32m     11\u001b[0m \u001b[38;5;66;03m# perhaps the Total = Test + Control is no longer met when Impact Analyzer is around\u001b[39;00m\n\u001b[1;32m     12\u001b[0m validityExpr \u001b[38;5;241m=\u001b[39m (\n\u001b[1;32m     13\u001b[0m     (pl\u001b[38;5;241m.\u001b[39mcol(\u001b[38;5;124m\"\u001b[39m\u001b[38;5;124mPositives\u001b[39m\u001b[38;5;124m\"\u001b[39m) \u001b[38;5;241m>\u001b[39m \u001b[38;5;241m0\u001b[39m)\n\u001b[1;32m     14\u001b[0m     \u001b[38;5;241m&\u001b[39m (pl\u001b[38;5;241m.\u001b[39mcol(\u001b[38;5;124m\"\u001b[39m\u001b[38;5;124mPositives_Test\u001b[39m\u001b[38;5;124m\"\u001b[39m) \u001b[38;5;241m>\u001b[39m \u001b[38;5;241m0\u001b[39m)\n\u001b[0;32m   (...)\u001b[0m\n\u001b[1;32m     26\u001b[0m     \u001b[38;5;66;03m# )\u001b[39;00m\n\u001b[1;32m     27\u001b[0m )\n\u001b[1;32m     29\u001b[0m \u001b[38;5;28;01mdef\u001b[39;00m \u001b[38;5;21mgetPredictionsChannelMapping\u001b[39m(\n\u001b[0;32m---> 30\u001b[0m     \u001b[38;5;28mself\u001b[39m, custom_predictions\u001b[38;5;241m=\u001b[39mList[\u001b[43mNBAD\u001b[49m\u001b[38;5;241;43m.\u001b[39;49m\u001b[43mNBAD_prediction\u001b[49m]\n\u001b[1;32m     31\u001b[0m ) \u001b[38;5;241m-\u001b[39m\u001b[38;5;241m>\u001b[39m pl\u001b[38;5;241m.\u001b[39mDataFrame:\n\u001b[1;32m     32\u001b[0m     all_mappings \u001b[38;5;241m=\u001b[39m NBAD\u001b[38;5;241m.\u001b[39mstandardNBADPredictions \u001b[38;5;241m+\u001b[39m custom_predictions\n\u001b[1;32m     33\u001b[0m     \u001b[38;5;28;01mreturn\u001b[39;00m pl\u001b[38;5;241m.\u001b[39mDataFrame(\n\u001b[1;32m     34\u001b[0m         {\n\u001b[1;32m     35\u001b[0m             \u001b[38;5;124m\"\u001b[39m\u001b[38;5;124mPrediction\u001b[39m\u001b[38;5;124m\"\u001b[39m: [x\u001b[38;5;241m.\u001b[39mmodel_name\u001b[38;5;241m.\u001b[39mupper() \u001b[38;5;28;01mfor\u001b[39;00m x \u001b[38;5;129;01min\u001b[39;00m all_mappings],\n\u001b[0;32m   (...)\u001b[0m\n\u001b[1;32m     40\u001b[0m         }\n\u001b[1;32m     41\u001b[0m     )\n",
      "\u001b[0;31mAttributeError\u001b[0m: module 'pdstools.utils.NBAD' has no attribute 'NBAD_prediction'"
     ]
    }
   ],
   "source": [
    "import polars as pl\n",
    "import numpy as np\n",
    "from plotly.subplots import make_subplots\n",
    "import plotly.graph_objects as go\n",
    "import plotly.express as px\n",
    "from typing import List\n",
    "from math import log\n",
    "\n",
    "from pdstools import datasets, cdh_utils\n",
    "from pdstools.plots.plots_plotly import ADMVisualisations\n",
    "\n",
    "\n",
    "pl.Config.set_fmt_str_lengths(100);"
   ]
  },
  {
   "cell_type": "code",
   "execution_count": 3,
   "metadata": {
    "execution": {
     "iopub.execute_input": "2024-05-16T15:39:56.090827Z",
     "iopub.status.busy": "2024-05-16T15:39:56.090644Z",
     "iopub.status.idle": "2024-05-16T15:39:56.093294Z",
     "shell.execute_reply": "2024-05-16T15:39:56.092832Z"
    }
   },
   "outputs": [],
   "source": [
    "model_name = \"AutoNew84Months\"\n",
    "predictor_name = \"Customer.NetWealth\"\n",
    "channel= \"Web\""
   ]
  },
  {
   "attachments": {},
   "cell_type": "markdown",
   "metadata": {},
   "source": [
    "For the example we pick one particular model over a channel.\n",
    "To explain the ADM model report, we use one of the active predictors as an\n",
    "example. Swap for any other predictor when using different data."
   ]
  },
  {
   "cell_type": "code",
   "execution_count": 4,
   "metadata": {
    "execution": {
     "iopub.execute_input": "2024-05-16T15:39:56.095245Z",
     "iopub.status.busy": "2024-05-16T15:39:56.095071Z",
     "iopub.status.idle": "2024-05-16T15:39:56.109802Z",
     "shell.execute_reply": "2024-05-16T15:39:56.109353Z"
    }
   },
   "outputs": [
    {
     "ename": "NameError",
     "evalue": "name 'datasets' is not defined",
     "output_type": "error",
     "traceback": [
      "\u001b[0;31m---------------------------------------------------------------------------\u001b[0m",
      "\u001b[0;31mNameError\u001b[0m                                 Traceback (most recent call last)",
      "Cell \u001b[0;32mIn[4], line 1\u001b[0m\n\u001b[0;32m----> 1\u001b[0m dm \u001b[38;5;241m=\u001b[39m \u001b[43mdatasets\u001b[49m\u001b[38;5;241m.\u001b[39mCDHSample(subset\u001b[38;5;241m=\u001b[39m\u001b[38;5;28;01mFalse\u001b[39;00m)\n\u001b[1;32m      3\u001b[0m model \u001b[38;5;241m=\u001b[39m dm\u001b[38;5;241m.\u001b[39mcombinedData\u001b[38;5;241m.\u001b[39mfilter(\n\u001b[1;32m      4\u001b[0m     (pl\u001b[38;5;241m.\u001b[39mcol(\u001b[38;5;124m\"\u001b[39m\u001b[38;5;124mName\u001b[39m\u001b[38;5;124m\"\u001b[39m) \u001b[38;5;241m==\u001b[39m model_name) \u001b[38;5;241m&\u001b[39m (pl\u001b[38;5;241m.\u001b[39mcol(\u001b[38;5;124m\"\u001b[39m\u001b[38;5;124mChannel\u001b[39m\u001b[38;5;124m\"\u001b[39m) \u001b[38;5;241m==\u001b[39m channel)\n\u001b[1;32m      5\u001b[0m )\n\u001b[1;32m      7\u001b[0m modelpredictors \u001b[38;5;241m=\u001b[39m (\n\u001b[1;32m      8\u001b[0m     dm\u001b[38;5;241m.\u001b[39mcombinedData\u001b[38;5;241m.\u001b[39mjoin(\n\u001b[1;32m      9\u001b[0m         model\u001b[38;5;241m.\u001b[39mselect(pl\u001b[38;5;241m.\u001b[39mcol(\u001b[38;5;124m\"\u001b[39m\u001b[38;5;124mModelID\u001b[39m\u001b[38;5;124m\"\u001b[39m)\u001b[38;5;241m.\u001b[39munique()), on\u001b[38;5;241m=\u001b[39m\u001b[38;5;124m\"\u001b[39m\u001b[38;5;124mModelID\u001b[39m\u001b[38;5;124m\"\u001b[39m, how\u001b[38;5;241m=\u001b[39m\u001b[38;5;124m\"\u001b[39m\u001b[38;5;124minner\u001b[39m\u001b[38;5;124m\"\u001b[39m\n\u001b[0;32m   (...)\u001b[0m\n\u001b[1;32m     14\u001b[0m     \u001b[38;5;241m.\u001b[39mcollect()\n\u001b[1;32m     15\u001b[0m )\n",
      "\u001b[0;31mNameError\u001b[0m: name 'datasets' is not defined"
     ]
    }
   ],
   "source": [
    "dm = datasets.CDHSample(subset=False)\n",
    "\n",
    "model = dm.combinedData.filter(\n",
    "    (pl.col(\"Name\") == model_name) & (pl.col(\"Channel\") == channel)\n",
    ")\n",
    "\n",
    "modelpredictors = (\n",
    "    dm.combinedData.join(\n",
    "        model.select(pl.col(\"ModelID\").unique()), on=\"ModelID\", how=\"inner\"\n",
    "    )\n",
    "    .filter(pl.col(\"EntryType\") != \"Inactive\")\n",
    "    .with_columns(Action=pl.concat_str([\"Issue\", \"Group\"], separator=\"/\"),\n",
    "                  PredictorName=pl.col(\"PredictorName\").cast(pl.Utf8))\n",
    "    .collect()\n",
    ")\n",
    "\n",
    "predictorbinning = modelpredictors.filter(\n",
    "    pl.col(\"PredictorName\") == predictor_name\n",
    ").sort(\"BinIndex\")"
   ]
  },
  {
   "cell_type": "code",
   "execution_count": 5,
   "metadata": {
    "execution": {
     "iopub.execute_input": "2024-05-16T15:39:56.111811Z",
     "iopub.status.busy": "2024-05-16T15:39:56.111637Z",
     "iopub.status.idle": "2024-05-16T15:39:56.131553Z",
     "shell.execute_reply": "2024-05-16T15:39:56.130967Z"
    },
    "nbsphinx": "hidden"
   },
   "outputs": [
    {
     "ename": "NameError",
     "evalue": "name 'modelpredictors' is not defined",
     "output_type": "error",
     "traceback": [
      "\u001b[0;31m---------------------------------------------------------------------------\u001b[0m",
      "\u001b[0;31mNameError\u001b[0m                                 Traceback (most recent call last)",
      "Cell \u001b[0;32mIn[5], line 3\u001b[0m\n\u001b[1;32m      1\u001b[0m model_id \u001b[38;5;241m=\u001b[39m \u001b[38;5;28;01mNone\u001b[39;00m\n\u001b[0;32m----> 3\u001b[0m \u001b[38;5;28;01mif\u001b[39;00m (\u001b[43mmodelpredictors\u001b[49m\u001b[38;5;241m.\u001b[39mselect(pl\u001b[38;5;241m.\u001b[39mcol(\u001b[38;5;124m\"\u001b[39m\u001b[38;5;124mModelID\u001b[39m\u001b[38;5;124m\"\u001b[39m)\u001b[38;5;241m.\u001b[39munique())\u001b[38;5;241m.\u001b[39mshape[\u001b[38;5;241m0\u001b[39m] \u001b[38;5;241m>\u001b[39m \u001b[38;5;241m1\u001b[39m) \u001b[38;5;129;01mand\u001b[39;00m (\n\u001b[1;32m      4\u001b[0m     model_id \u001b[38;5;129;01mis\u001b[39;00m \u001b[38;5;28;01mNone\u001b[39;00m\n\u001b[1;32m      5\u001b[0m ):\n\u001b[1;32m      6\u001b[0m     display(\n\u001b[1;32m      7\u001b[0m         model\u001b[38;5;241m.\u001b[39mgroup_by(\u001b[38;5;124m\"\u001b[39m\u001b[38;5;124mModelID\u001b[39m\u001b[38;5;124m\"\u001b[39m)\n\u001b[1;32m      8\u001b[0m         \u001b[38;5;241m.\u001b[39magg(\n\u001b[0;32m   (...)\u001b[0m\n\u001b[1;32m     14\u001b[0m         \u001b[38;5;241m.\u001b[39mto_pandas()\n\u001b[1;32m     15\u001b[0m     )\n\u001b[1;32m     16\u001b[0m     \u001b[38;5;28;01mraise\u001b[39;00m \u001b[38;5;167;01mException\u001b[39;00m(\n\u001b[1;32m     17\u001b[0m     \u001b[38;5;124mf\u001b[39m\u001b[38;5;124m\"\u001b[39m\u001b[38;5;124m**\u001b[39m\u001b[38;5;132;01m{\u001b[39;00mmodel_name\u001b[38;5;132;01m}\u001b[39;00m\u001b[38;5;124m** model has multiple instances.\u001b[39m\u001b[38;5;124m\"\u001b[39m\n\u001b[1;32m     18\u001b[0m     \u001b[38;5;124m\"\u001b[39m\u001b[38;5;130;01m\\n\u001b[39;00m\u001b[38;5;124mThis could be due to the same model name being used in different configurations, directions, issues, or having multiple treatments.\u001b[39m\u001b[38;5;124m\"\u001b[39m\n\u001b[0;32m   (...)\u001b[0m\n\u001b[1;32m     21\u001b[0m     \u001b[38;5;124mf\u001b[39m\u001b[38;5;124m\"\u001b[39m\u001b[38;5;130;01m\\n\u001b[39;00m\u001b[38;5;124mSee model IDs in \u001b[39m\u001b[38;5;132;01m{\u001b[39;00mmodel_name\u001b[38;5;132;01m}\u001b[39;00m\u001b[38;5;124m model above:\u001b[39m\u001b[38;5;124m\"\u001b[39m\n\u001b[1;32m     22\u001b[0m     )\n",
      "\u001b[0;31mNameError\u001b[0m: name 'modelpredictors' is not defined"
     ]
    }
   ],
   "source": [
    "model_id = None\n",
    "\n",
    "if (modelpredictors.select(pl.col(\"ModelID\").unique()).shape[0] > 1) and (\n",
    "    model_id is None\n",
    "):\n",
    "    display(\n",
    "        model.group_by(\"ModelID\")\n",
    "        .agg(\n",
    "            number_of_predictors=pl.col(\"PredictorName\").n_unique(),\n",
    "            model_performance=cdh_utils.weighted_performance_polars() * 100,\n",
    "            response_count=pl.sum(\"ResponseCount\"),\n",
    "        )\n",
    "        .collect()\n",
    "        .to_pandas()\n",
    "    )\n",
    "    raise Exception(\n",
    "    f\"**{model_name}** model has multiple instances.\"\n",
    "    \"\\nThis could be due to the same model name being used in different configurations, directions, issues, or having multiple treatments.\"\n",
    "    \"\\nTo ensure the selection of a unique model, please choose a model_id from the table above and update the `model_id` variable at the top of this cell.\"\n",
    "    \"\\nAfterward, rerun this cell.\"\n",
    "    f\"\\nSee model IDs in {model_name} model above:\"\n",
    "    )\n",
    "if model_id is not None:\n",
    "    if (\n",
    "        model_id\n",
    "        not in modelpredictors.select(pl.col(\"ModelID\").unique())\n",
    "        .get_column(\"ModelID\")\n",
    "        .to_list()\n",
    "    ):\n",
    "        raise Exception(\n",
    "            f\"The {model_name} model does not have a model ID: {model_id}.\"\n",
    "            f\"Please ensure that the spelling of the model ID is correct.\"\n",
    "            f\"You can run `modelpredictors.select(pl.col('ModelID').unique().implode()).row(0)` to see the exact spellings of your IDs.\"\n",
    "            \"After updating the `model_id`, you can restart the notebook from the beginning.\"\n",
    "        )\n",
    "\n",
    "    predictors_in_selected_model = (\n",
    "        modelpredictors.filter(\n",
    "            pl.col(\"ModelID\") == model_id\n",
    "        )\n",
    "        .select(pl.col(\"PredictorName\").unique())\n",
    "        .get_column(\"PredictorName\")\n",
    "        .to_list()\n",
    "    )\n",
    "    if predictor_name not in predictors_in_selected_model:\n",
    "        raise Exception(\n",
    "            f\"{predictor_name} is not a predictor of the model with ID: {model_id}.\"\n",
    "            \"Please choose one of the available predictors below and update the **predictor_name** variable in the cell above:\"\n",
    "            f\"\\nAvailable Predictors:\\n{predictors_in_selected_model}.\"\n",
    "        )\n",
    "\n",
    "    modelpredictors = modelpredictors.filter(pl.col(\"ModelID\") == model_id)\n",
    "    predictorbinning = predictorbinning.filter(pl.col(\"ModelID\") == model_id)\n",
    "    print(f\"{model_name} model with **{model_id}** model ID is selected successfully.\")"
   ]
  },
  {
   "attachments": {},
   "cell_type": "markdown",
   "metadata": {},
   "source": [
    "## Model Overview"
   ]
  },
  {
   "attachments": {},
   "cell_type": "markdown",
   "metadata": {},
   "source": [
    "The selected model is shown below. Only the currently active predictors are used for the propensity calculation, so only showing those.\n",
    "\n"
   ]
  },
  {
   "cell_type": "code",
   "execution_count": 6,
   "metadata": {
    "execution": {
     "iopub.execute_input": "2024-05-16T15:39:56.133674Z",
     "iopub.status.busy": "2024-05-16T15:39:56.133384Z",
     "iopub.status.idle": "2024-05-16T15:39:56.147450Z",
     "shell.execute_reply": "2024-05-16T15:39:56.146995Z"
    },
    "tags": [
     "remove_input"
    ]
   },
   "outputs": [
    {
     "ename": "NameError",
     "evalue": "name 'modelpredictors' is not defined",
     "output_type": "error",
     "traceback": [
      "\u001b[0;31m---------------------------------------------------------------------------\u001b[0m",
      "\u001b[0;31mNameError\u001b[0m                                 Traceback (most recent call last)",
      "Cell \u001b[0;32mIn[6], line 1\u001b[0m\n\u001b[0;32m----> 1\u001b[0m \u001b[43mmodelpredictors\u001b[49m\u001b[38;5;241m.\u001b[39mselect(\n\u001b[1;32m      2\u001b[0m     pl\u001b[38;5;241m.\u001b[39mcol(\u001b[38;5;124m\"\u001b[39m\u001b[38;5;124mAction\u001b[39m\u001b[38;5;124m\"\u001b[39m)\u001b[38;5;241m.\u001b[39munique(),\n\u001b[1;32m      3\u001b[0m     pl\u001b[38;5;241m.\u001b[39mcol(\u001b[38;5;124m\"\u001b[39m\u001b[38;5;124mChannel\u001b[39m\u001b[38;5;124m\"\u001b[39m)\u001b[38;5;241m.\u001b[39munique(),\n\u001b[1;32m      4\u001b[0m     pl\u001b[38;5;241m.\u001b[39mcol(\u001b[38;5;124m\"\u001b[39m\u001b[38;5;124mName\u001b[39m\u001b[38;5;124m\"\u001b[39m)\u001b[38;5;241m.\u001b[39munique(),\n\u001b[1;32m      5\u001b[0m     pl\u001b[38;5;241m.\u001b[39mcol(\u001b[38;5;124m\"\u001b[39m\u001b[38;5;124mPredictorName\u001b[39m\u001b[38;5;124m\"\u001b[39m)\u001b[38;5;241m.\u001b[39munique()\u001b[38;5;241m.\u001b[39msort()\u001b[38;5;241m.\u001b[39mimplode()\u001b[38;5;241m.\u001b[39malias(\u001b[38;5;124m\"\u001b[39m\u001b[38;5;124mActive Predictors\u001b[39m\u001b[38;5;124m\"\u001b[39m),\n\u001b[1;32m      6\u001b[0m     (pl\u001b[38;5;241m.\u001b[39mcol(\u001b[38;5;124m\"\u001b[39m\u001b[38;5;124mPerformance\u001b[39m\u001b[38;5;124m\"\u001b[39m)\u001b[38;5;241m.\u001b[39munique() \u001b[38;5;241m*\u001b[39m \u001b[38;5;241m100\u001b[39m)\u001b[38;5;241m.\u001b[39malias(\u001b[38;5;124m\"\u001b[39m\u001b[38;5;124mModel Performance (AUC)\u001b[39m\u001b[38;5;124m\"\u001b[39m),\n\u001b[1;32m      7\u001b[0m )\u001b[38;5;241m.\u001b[39mto_pandas()\u001b[38;5;241m.\u001b[39mT\u001b[38;5;241m.\u001b[39mset_axis([\u001b[38;5;124m\"\u001b[39m\u001b[38;5;124mValues\u001b[39m\u001b[38;5;124m\"\u001b[39m], axis\u001b[38;5;241m=\u001b[39m\u001b[38;5;241m1\u001b[39m)\n",
      "\u001b[0;31mNameError\u001b[0m: name 'modelpredictors' is not defined"
     ]
    }
   ],
   "source": [
    "modelpredictors.select(\n",
    "    pl.col(\"Action\").unique(),\n",
    "    pl.col(\"Channel\").unique(),\n",
    "    pl.col(\"Name\").unique(),\n",
    "    pl.col(\"PredictorName\").unique().sort().implode().alias(\"Active Predictors\"),\n",
    "    (pl.col(\"Performance\").unique() * 100).alias(\"Model Performance (AUC)\"),\n",
    ").to_pandas().T.set_axis([\"Values\"], axis=1)\n"
   ]
  },
  {
   "attachments": {},
   "cell_type": "markdown",
   "metadata": {},
   "source": [
    "## Binning of the selected Predictor"
   ]
  },
  {
   "attachments": {},
   "cell_type": "markdown",
   "metadata": {},
   "source": [
    "The Model Report in Prediction Studio for this model will have a predictor binning plot like below.\n",
    "\n",
    "All numbers can be derived from just the number of positives and negatives in each bin that are stored in the ADM Data Mart. The next sections will show exactly how that is done."
   ]
  },
  {
   "cell_type": "code",
   "execution_count": 7,
   "metadata": {
    "execution": {
     "iopub.execute_input": "2024-05-16T15:39:56.149341Z",
     "iopub.status.busy": "2024-05-16T15:39:56.149176Z",
     "iopub.status.idle": "2024-05-16T15:39:56.164012Z",
     "shell.execute_reply": "2024-05-16T15:39:56.163544Z"
    },
    "tags": [
     "remove_input"
    ]
   },
   "outputs": [
    {
     "ename": "NameError",
     "evalue": "name 'predictorbinning' is not defined",
     "output_type": "error",
     "traceback": [
      "\u001b[0;31m---------------------------------------------------------------------------\u001b[0m",
      "\u001b[0;31mNameError\u001b[0m                                 Traceback (most recent call last)",
      "Cell \u001b[0;32mIn[7], line 1\u001b[0m\n\u001b[0;32m----> 1\u001b[0m display(\u001b[43mpredictorbinning\u001b[49m\u001b[38;5;241m.\u001b[39mgroup_by(\u001b[38;5;124m\"\u001b[39m\u001b[38;5;124mPredictorName\u001b[39m\u001b[38;5;124m\"\u001b[39m)\u001b[38;5;241m.\u001b[39magg(\n\u001b[1;32m      2\u001b[0m     pl\u001b[38;5;241m.\u001b[39mfirst(\u001b[38;5;124m\"\u001b[39m\u001b[38;5;124mResponseCount\u001b[39m\u001b[38;5;124m\"\u001b[39m)\u001b[38;5;241m.\u001b[39mcast(pl\u001b[38;5;241m.\u001b[39mInt64)\u001b[38;5;241m.\u001b[39malias(\u001b[38;5;124m\"\u001b[39m\u001b[38;5;124m# Responses\u001b[39m\u001b[38;5;124m\"\u001b[39m),\n\u001b[1;32m      3\u001b[0m     pl\u001b[38;5;241m.\u001b[39mn_unique(\u001b[38;5;124m\"\u001b[39m\u001b[38;5;124mBinIndex\u001b[39m\u001b[38;5;124m\"\u001b[39m)\u001b[38;5;241m.\u001b[39malias(\u001b[38;5;124m\"\u001b[39m\u001b[38;5;124m# Bins\u001b[39m\u001b[38;5;124m\"\u001b[39m),\n\u001b[1;32m      4\u001b[0m     (pl\u001b[38;5;241m.\u001b[39mfirst(\u001b[38;5;124m\"\u001b[39m\u001b[38;5;124mPerformanceBin\u001b[39m\u001b[38;5;124m\"\u001b[39m) \u001b[38;5;241m*\u001b[39m \u001b[38;5;241m100\u001b[39m)\u001b[38;5;241m.\u001b[39malias(\u001b[38;5;124m\"\u001b[39m\u001b[38;5;124mPredictor Performance(AUC)\u001b[39m\u001b[38;5;124m\"\u001b[39m),\n\u001b[1;32m      5\u001b[0m )\u001b[38;5;241m.\u001b[39mrename({\u001b[38;5;124m\"\u001b[39m\u001b[38;5;124mPredictorName\u001b[39m\u001b[38;5;124m\"\u001b[39m: \u001b[38;5;124m\"\u001b[39m\u001b[38;5;124mPredictor Name\u001b[39m\u001b[38;5;124m\"\u001b[39m})\u001b[38;5;241m.\u001b[39mtranspose(include_header\u001b[38;5;241m=\u001b[39m\u001b[38;5;28;01mTrue\u001b[39;00m)\u001b[38;5;241m.\u001b[39mrename(\n\u001b[1;32m      6\u001b[0m     {\u001b[38;5;124m\"\u001b[39m\u001b[38;5;124mcolumn\u001b[39m\u001b[38;5;124m\"\u001b[39m: \u001b[38;5;124m\"\u001b[39m\u001b[38;5;124m\"\u001b[39m, \u001b[38;5;124m\"\u001b[39m\u001b[38;5;124mcolumn_0\u001b[39m\u001b[38;5;124m\"\u001b[39m: \u001b[38;5;124m\"\u001b[39m\u001b[38;5;124mValue\u001b[39m\u001b[38;5;124m\"\u001b[39m}\n\u001b[1;32m      7\u001b[0m )\u001b[38;5;241m.\u001b[39mto_pandas()\u001b[38;5;241m.\u001b[39mset_index(\u001b[38;5;124m\"\u001b[39m\u001b[38;5;124m\"\u001b[39m))\n\u001b[1;32m      9\u001b[0m fig \u001b[38;5;241m=\u001b[39m dm\u001b[38;5;241m.\u001b[39mplotPredictorBinning(modelids\u001b[38;5;241m=\u001b[39mmodelpredictors\u001b[38;5;241m.\u001b[39mget_column(\u001b[38;5;124m\"\u001b[39m\u001b[38;5;124mModelID\u001b[39m\u001b[38;5;124m\"\u001b[39m)\u001b[38;5;241m.\u001b[39munique()\u001b[38;5;241m.\u001b[39mto_list(),\n\u001b[1;32m     10\u001b[0m                         predictors\u001b[38;5;241m=\u001b[39m[predictor_name])\n\u001b[1;32m     11\u001b[0m fig\u001b[38;5;241m.\u001b[39mupdate_layout(width\u001b[38;5;241m=\u001b[39m\u001b[38;5;241m600\u001b[39m, height\u001b[38;5;241m=\u001b[39m\u001b[38;5;241m400\u001b[39m)\n",
      "\u001b[0;31mNameError\u001b[0m: name 'predictorbinning' is not defined"
     ]
    }
   ],
   "source": [
    "display(predictorbinning.group_by(\"PredictorName\").agg(\n",
    "    pl.first(\"ResponseCount\").cast(pl.Int64).alias(\"# Responses\"),\n",
    "    pl.n_unique(\"BinIndex\").alias(\"# Bins\"),\n",
    "    (pl.first(\"PerformanceBin\") * 100).alias(\"Predictor Performance(AUC)\"),\n",
    ").rename({\"PredictorName\": \"Predictor Name\"}).transpose(include_header=True).rename(\n",
    "    {\"column\": \"\", \"column_0\": \"Value\"}\n",
    ").to_pandas().set_index(\"\"))\n",
    "\n",
    "fig = dm.plotPredictorBinning(modelids=modelpredictors.get_column(\"ModelID\").unique().to_list(),\n",
    "                        predictors=[predictor_name])\n",
    "fig.update_layout(width=600, height=400)\n",
    "display(fig)"
   ]
  },
  {
   "cell_type": "code",
   "execution_count": 8,
   "metadata": {
    "execution": {
     "iopub.execute_input": "2024-05-16T15:39:56.166008Z",
     "iopub.status.busy": "2024-05-16T15:39:56.165701Z",
     "iopub.status.idle": "2024-05-16T15:39:56.184417Z",
     "shell.execute_reply": "2024-05-16T15:39:56.183947Z"
    },
    "tags": [
     "remove_input"
    ]
   },
   "outputs": [
    {
     "ename": "NameError",
     "evalue": "name 'predictorbinning' is not defined",
     "output_type": "error",
     "traceback": [
      "\u001b[0;31m---------------------------------------------------------------------------\u001b[0m",
      "\u001b[0;31mNameError\u001b[0m                                 Traceback (most recent call last)",
      "Cell \u001b[0;32mIn[8], line 8\u001b[0m\n\u001b[1;32m      4\u001b[0m sumNegatives \u001b[38;5;241m=\u001b[39m pl\u001b[38;5;241m.\u001b[39msum(\u001b[38;5;124m\"\u001b[39m\u001b[38;5;124mBinNegatives\u001b[39m\u001b[38;5;124m\"\u001b[39m)\n\u001b[1;32m      6\u001b[0m \u001b[38;5;66;03m# TODO: add totals for first 5 columns, base rate for 6 and 0,1, see R version\u001b[39;00m\n\u001b[0;32m----> 8\u001b[0m binstats \u001b[38;5;241m=\u001b[39m \u001b[43mpredictorbinning\u001b[49m\u001b[38;5;241m.\u001b[39mselect(\n\u001b[1;32m      9\u001b[0m     pl\u001b[38;5;241m.\u001b[39mcol(\u001b[38;5;124m\"\u001b[39m\u001b[38;5;124mBinSymbol\u001b[39m\u001b[38;5;124m\"\u001b[39m)\u001b[38;5;241m.\u001b[39malias(\u001b[38;5;124m\"\u001b[39m\u001b[38;5;124mRange/Symbol\u001b[39m\u001b[38;5;124m\"\u001b[39m),\n\u001b[1;32m     10\u001b[0m     ((BinPositives \u001b[38;5;241m+\u001b[39m BinNegatives) \u001b[38;5;241m/\u001b[39m (sumPositives \u001b[38;5;241m+\u001b[39m sumNegatives))\n\u001b[1;32m     11\u001b[0m     \u001b[38;5;241m.\u001b[39mround(\u001b[38;5;241m3\u001b[39m)\n\u001b[1;32m     12\u001b[0m     \u001b[38;5;241m.\u001b[39malias(\u001b[38;5;124m\"\u001b[39m\u001b[38;5;124mResponses (\u001b[39m\u001b[38;5;124m%\u001b[39m\u001b[38;5;124m)\u001b[39m\u001b[38;5;124m\"\u001b[39m),\n\u001b[1;32m     13\u001b[0m     BinPositives\u001b[38;5;241m.\u001b[39malias(\u001b[38;5;124m\"\u001b[39m\u001b[38;5;124mPositives\u001b[39m\u001b[38;5;124m\"\u001b[39m),\n\u001b[1;32m     14\u001b[0m     (BinPositives \u001b[38;5;241m/\u001b[39m sumPositives)\u001b[38;5;241m.\u001b[39mround(\u001b[38;5;241m3\u001b[39m)\u001b[38;5;241m.\u001b[39malias(\u001b[38;5;124m\"\u001b[39m\u001b[38;5;124mPositives (\u001b[39m\u001b[38;5;124m%\u001b[39m\u001b[38;5;124m)\u001b[39m\u001b[38;5;124m\"\u001b[39m),\n\u001b[1;32m     15\u001b[0m     BinNegatives\u001b[38;5;241m.\u001b[39malias(\u001b[38;5;124m\"\u001b[39m\u001b[38;5;124mNegatives\u001b[39m\u001b[38;5;124m\"\u001b[39m),\n\u001b[1;32m     16\u001b[0m     (BinNegatives \u001b[38;5;241m/\u001b[39m sumNegatives)\u001b[38;5;241m.\u001b[39mround(\u001b[38;5;241m3\u001b[39m)\u001b[38;5;241m.\u001b[39malias(\u001b[38;5;124m\"\u001b[39m\u001b[38;5;124mNegatives (\u001b[39m\u001b[38;5;124m%\u001b[39m\u001b[38;5;124m)\u001b[39m\u001b[38;5;124m\"\u001b[39m),\n\u001b[1;32m     17\u001b[0m     (BinPositives \u001b[38;5;241m/\u001b[39m (BinPositives \u001b[38;5;241m+\u001b[39m BinNegatives))\u001b[38;5;241m.\u001b[39mround(\u001b[38;5;241m4\u001b[39m)\u001b[38;5;241m.\u001b[39malias(\u001b[38;5;124m\"\u001b[39m\u001b[38;5;124mPropensity (\u001b[39m\u001b[38;5;124m%\u001b[39m\u001b[38;5;124m)\u001b[39m\u001b[38;5;124m\"\u001b[39m),\n\u001b[1;32m     18\u001b[0m     cdh_utils\u001b[38;5;241m.\u001b[39mzRatio(negCol\u001b[38;5;241m=\u001b[39mBinNegatives, posCol\u001b[38;5;241m=\u001b[39mBinPositives),\n\u001b[1;32m     19\u001b[0m     (\n\u001b[1;32m     20\u001b[0m         (BinPositives \u001b[38;5;241m/\u001b[39m (BinPositives \u001b[38;5;241m+\u001b[39m BinNegatives))\n\u001b[1;32m     21\u001b[0m         \u001b[38;5;241m/\u001b[39m (sumPositives \u001b[38;5;241m/\u001b[39m (BinPositives \u001b[38;5;241m+\u001b[39m BinNegatives)\u001b[38;5;241m.\u001b[39msum())\n\u001b[1;32m     22\u001b[0m     )\u001b[38;5;241m.\u001b[39malias(\u001b[38;5;124m\"\u001b[39m\u001b[38;5;124mLift\u001b[39m\u001b[38;5;124m\"\u001b[39m),\n\u001b[1;32m     23\u001b[0m )\n\u001b[1;32m     25\u001b[0m binstats\u001b[38;5;241m.\u001b[39mvstack(\n\u001b[1;32m     26\u001b[0m     pl\u001b[38;5;241m.\u001b[39mDataFrame(\u001b[38;5;28mdict\u001b[39m(\u001b[38;5;28mzip\u001b[39m(\n\u001b[1;32m     27\u001b[0m                 binstats\u001b[38;5;241m.\u001b[39mcolumns,\n\u001b[0;32m   (...)\u001b[0m\n\u001b[1;32m     30\u001b[0m     schema\u001b[38;5;241m=\u001b[39mbinstats\u001b[38;5;241m.\u001b[39mschema,\n\u001b[1;32m     31\u001b[0m     ))\u001b[38;5;241m.\u001b[39mto_pandas()\u001b[38;5;241m.\u001b[39mset_index(\u001b[38;5;124m\"\u001b[39m\u001b[38;5;124mRange/Symbol\u001b[39m\u001b[38;5;124m\"\u001b[39m)\n",
      "\u001b[0;31mNameError\u001b[0m: name 'predictorbinning' is not defined"
     ]
    }
   ],
   "source": [
    "BinPositives = pl.col(\"BinPositives\")\n",
    "BinNegatives = pl.col(\"BinNegatives\")\n",
    "sumPositives = pl.sum(\"BinPositives\")\n",
    "sumNegatives = pl.sum(\"BinNegatives\")\n",
    "\n",
    "# TODO: add totals for first 5 columns, base rate for 6 and 0,1, see R version\n",
    "\n",
    "binstats = predictorbinning.select(\n",
    "    pl.col(\"BinSymbol\").alias(\"Range/Symbol\"),\n",
    "    ((BinPositives + BinNegatives) / (sumPositives + sumNegatives))\n",
    "    .round(3)\n",
    "    .alias(\"Responses (%)\"),\n",
    "    BinPositives.alias(\"Positives\"),\n",
    "    (BinPositives / sumPositives).round(3).alias(\"Positives (%)\"),\n",
    "    BinNegatives.alias(\"Negatives\"),\n",
    "    (BinNegatives / sumNegatives).round(3).alias(\"Negatives (%)\"),\n",
    "    (BinPositives / (BinPositives + BinNegatives)).round(4).alias(\"Propensity (%)\"),\n",
    "    cdh_utils.zRatio(negCol=BinNegatives, posCol=BinPositives),\n",
    "    (\n",
    "        (BinPositives / (BinPositives + BinNegatives))\n",
    "        / (sumPositives / (BinPositives + BinNegatives).sum())\n",
    "    ).alias(\"Lift\"),\n",
    ")\n",
    "\n",
    "binstats.vstack(\n",
    "    pl.DataFrame(dict(zip(\n",
    "                binstats.columns,\n",
    "                [\"Total\"] + [binstats.select(pl.sum(col)).row(0)[0] for col in binstats.columns[1:]]\n",
    "                )),\n",
    "    schema=binstats.schema,\n",
    "    )).to_pandas().set_index(\"Range/Symbol\")\n"
   ]
  },
  {
   "attachments": {},
   "cell_type": "markdown",
   "metadata": {},
   "source": [
    "## Bin Statistics"
   ]
  },
  {
   "attachments": {},
   "cell_type": "markdown",
   "metadata": {},
   "source": [
    "### Positive and Negative ratios"
   ]
  },
  {
   "attachments": {},
   "cell_type": "markdown",
   "metadata": {},
   "source": [
    "Internally, ADM only keeps track of the total counts of positive and negative responses in each bin. Everything else is derived from those numbers. The percentages and totals are trivially derived, and the propensity is just the number of positives divided by the total. The numbers calculated here match the numbers from the datamart table exactly."
   ]
  },
  {
   "cell_type": "code",
   "execution_count": 9,
   "metadata": {
    "execution": {
     "iopub.execute_input": "2024-05-16T15:39:56.186576Z",
     "iopub.status.busy": "2024-05-16T15:39:56.186255Z",
     "iopub.status.idle": "2024-05-16T15:39:56.201679Z",
     "shell.execute_reply": "2024-05-16T15:39:56.201191Z"
    }
   },
   "outputs": [
    {
     "ename": "NameError",
     "evalue": "name 'predictorbinning' is not defined",
     "output_type": "error",
     "traceback": [
      "\u001b[0;31m---------------------------------------------------------------------------\u001b[0m",
      "\u001b[0;31mNameError\u001b[0m                                 Traceback (most recent call last)",
      "Cell \u001b[0;32mIn[9], line 1\u001b[0m\n\u001b[0;32m----> 1\u001b[0m binningDerived \u001b[38;5;241m=\u001b[39m \u001b[43mpredictorbinning\u001b[49m\u001b[38;5;241m.\u001b[39mselect(\n\u001b[1;32m      2\u001b[0m     pl\u001b[38;5;241m.\u001b[39mcol(\u001b[38;5;124m\"\u001b[39m\u001b[38;5;124mBinSymbol\u001b[39m\u001b[38;5;124m\"\u001b[39m)\u001b[38;5;241m.\u001b[39malias(\u001b[38;5;124m\"\u001b[39m\u001b[38;5;124mRange/Symbol\u001b[39m\u001b[38;5;124m\"\u001b[39m),\n\u001b[1;32m      3\u001b[0m     BinPositives\u001b[38;5;241m.\u001b[39malias(\u001b[38;5;124m\"\u001b[39m\u001b[38;5;124mPositives\u001b[39m\u001b[38;5;124m\"\u001b[39m),\n\u001b[1;32m      4\u001b[0m     BinNegatives\u001b[38;5;241m.\u001b[39malias(\u001b[38;5;124m\"\u001b[39m\u001b[38;5;124mNegatives\u001b[39m\u001b[38;5;124m\"\u001b[39m),\n\u001b[1;32m      5\u001b[0m     (((BinPositives \u001b[38;5;241m+\u001b[39m BinNegatives) \u001b[38;5;241m/\u001b[39m (sumPositives \u001b[38;5;241m+\u001b[39m sumNegatives)) \u001b[38;5;241m*\u001b[39m \u001b[38;5;241m100\u001b[39m)\n\u001b[1;32m      6\u001b[0m     \u001b[38;5;241m.\u001b[39mround(\u001b[38;5;241m2\u001b[39m)\n\u001b[1;32m      7\u001b[0m     \u001b[38;5;241m.\u001b[39malias(\u001b[38;5;124m\"\u001b[39m\u001b[38;5;124mResponses \u001b[39m\u001b[38;5;124m%\u001b[39m\u001b[38;5;124m\"\u001b[39m),\n\u001b[1;32m      8\u001b[0m     ((BinPositives \u001b[38;5;241m/\u001b[39m sumPositives) \u001b[38;5;241m*\u001b[39m \u001b[38;5;241m100\u001b[39m)\u001b[38;5;241m.\u001b[39mround(\u001b[38;5;241m2\u001b[39m)\u001b[38;5;241m.\u001b[39malias(\u001b[38;5;124m\"\u001b[39m\u001b[38;5;124mPositives \u001b[39m\u001b[38;5;124m%\u001b[39m\u001b[38;5;124m\"\u001b[39m),\n\u001b[1;32m      9\u001b[0m     ((BinNegatives \u001b[38;5;241m/\u001b[39m sumNegatives) \u001b[38;5;241m*\u001b[39m \u001b[38;5;241m100\u001b[39m)\u001b[38;5;241m.\u001b[39mround(\u001b[38;5;241m2\u001b[39m)\u001b[38;5;241m.\u001b[39malias(\u001b[38;5;124m\"\u001b[39m\u001b[38;5;124mNegatives \u001b[39m\u001b[38;5;124m%\u001b[39m\u001b[38;5;124m\"\u001b[39m),\n\u001b[1;32m     10\u001b[0m     (BinPositives \u001b[38;5;241m/\u001b[39m (BinPositives \u001b[38;5;241m+\u001b[39m BinNegatives))\u001b[38;5;241m.\u001b[39mround(\u001b[38;5;241m4\u001b[39m)\u001b[38;5;241m.\u001b[39malias(\u001b[38;5;124m\"\u001b[39m\u001b[38;5;124mPropensity\u001b[39m\u001b[38;5;124m\"\u001b[39m),\n\u001b[1;32m     11\u001b[0m )\n\u001b[1;32m     12\u001b[0m binningDerived\u001b[38;5;241m.\u001b[39mto_pandas(use_pyarrow_extension_array\u001b[38;5;241m=\u001b[39m\u001b[38;5;28;01mTrue\u001b[39;00m)\u001b[38;5;241m.\u001b[39mset_index(\u001b[38;5;124m\"\u001b[39m\u001b[38;5;124mRange/Symbol\u001b[39m\u001b[38;5;124m\"\u001b[39m)\u001b[38;5;241m.\u001b[39mstyle\u001b[38;5;241m.\u001b[39mformat(\n\u001b[1;32m     13\u001b[0m     format_binning_derived\n\u001b[1;32m     14\u001b[0m )\u001b[38;5;241m.\u001b[39mset_properties(\n\u001b[1;32m     15\u001b[0m     color\u001b[38;5;241m=\u001b[39m\u001b[38;5;124m\"\u001b[39m\u001b[38;5;124m#0000FF\u001b[39m\u001b[38;5;124m\"\u001b[39m, subset\u001b[38;5;241m=\u001b[39m[\u001b[38;5;124m\"\u001b[39m\u001b[38;5;124mResponses \u001b[39m\u001b[38;5;124m%\u001b[39m\u001b[38;5;124m\"\u001b[39m, \u001b[38;5;124m\"\u001b[39m\u001b[38;5;124mPositives \u001b[39m\u001b[38;5;124m%\u001b[39m\u001b[38;5;124m\"\u001b[39m, \u001b[38;5;124m\"\u001b[39m\u001b[38;5;124mNegatives \u001b[39m\u001b[38;5;124m%\u001b[39m\u001b[38;5;124m\"\u001b[39m, \u001b[38;5;124m\"\u001b[39m\u001b[38;5;124mPropensity\u001b[39m\u001b[38;5;124m\"\u001b[39m]\n\u001b[1;32m     16\u001b[0m )\n",
      "\u001b[0;31mNameError\u001b[0m: name 'predictorbinning' is not defined"
     ]
    }
   ],
   "source": [
    "binningDerived = predictorbinning.select(\n",
    "    pl.col(\"BinSymbol\").alias(\"Range/Symbol\"),\n",
    "    BinPositives.alias(\"Positives\"),\n",
    "    BinNegatives.alias(\"Negatives\"),\n",
    "    (((BinPositives + BinNegatives) / (sumPositives + sumNegatives)) * 100)\n",
    "    .round(2)\n",
    "    .alias(\"Responses %\"),\n",
    "    ((BinPositives / sumPositives) * 100).round(2).alias(\"Positives %\"),\n",
    "    ((BinNegatives / sumNegatives) * 100).round(2).alias(\"Negatives %\"),\n",
    "    (BinPositives / (BinPositives + BinNegatives)).round(4).alias(\"Propensity\"),\n",
    ")\n",
    "binningDerived.to_pandas(use_pyarrow_extension_array=True).set_index(\"Range/Symbol\").style.format(\n",
    "    format_binning_derived\n",
    ").set_properties(\n",
    "    color=\"#0000FF\", subset=[\"Responses %\", \"Positives %\", \"Negatives %\", \"Propensity\"]\n",
    ")"
   ]
  },
  {
   "attachments": {},
   "cell_type": "markdown",
   "metadata": {},
   "source": [
    "### Lift"
   ]
  },
  {
   "attachments": {},
   "cell_type": "markdown",
   "metadata": {},
   "source": [
    "Lift is the ratio of the propensity in a particular bin over the average propensity. So a value of 1 is the average, larger than 1 means higher propensity, smaller means lower propensity:"
   ]
  },
  {
   "cell_type": "code",
   "execution_count": 10,
   "metadata": {
    "execution": {
     "iopub.execute_input": "2024-05-16T15:39:56.203697Z",
     "iopub.status.busy": "2024-05-16T15:39:56.203442Z",
     "iopub.status.idle": "2024-05-16T15:39:56.268085Z",
     "shell.execute_reply": "2024-05-16T15:39:56.267493Z"
    }
   },
   "outputs": [
    {
     "ename": "NameError",
     "evalue": "name 'binningDerived' is not defined",
     "output_type": "error",
     "traceback": [
      "\u001b[0;31m---------------------------------------------------------------------------\u001b[0m",
      "\u001b[0;31mNameError\u001b[0m                                 Traceback (most recent call last)",
      "Cell \u001b[0;32mIn[10], line 5\u001b[0m\n\u001b[1;32m      3\u001b[0m sumPositives \u001b[38;5;241m=\u001b[39m pl\u001b[38;5;241m.\u001b[39msum(\u001b[38;5;124m\"\u001b[39m\u001b[38;5;124mPositives\u001b[39m\u001b[38;5;124m\"\u001b[39m)\n\u001b[1;32m      4\u001b[0m sumNegatives \u001b[38;5;241m=\u001b[39m pl\u001b[38;5;241m.\u001b[39msum(\u001b[38;5;124m\"\u001b[39m\u001b[38;5;124mNegatives\u001b[39m\u001b[38;5;124m\"\u001b[39m)\n\u001b[0;32m----> 5\u001b[0m \u001b[43mbinningDerived\u001b[49m\u001b[38;5;241m.\u001b[39mselect(\n\u001b[1;32m      6\u001b[0m     \u001b[38;5;124m\"\u001b[39m\u001b[38;5;124mRange/Symbol\u001b[39m\u001b[38;5;124m\"\u001b[39m,\n\u001b[1;32m      7\u001b[0m     \u001b[38;5;124m\"\u001b[39m\u001b[38;5;124mPositives\u001b[39m\u001b[38;5;124m\"\u001b[39m,\n\u001b[1;32m      8\u001b[0m     \u001b[38;5;124m\"\u001b[39m\u001b[38;5;124mNegatives\u001b[39m\u001b[38;5;124m\"\u001b[39m,\n\u001b[1;32m      9\u001b[0m     (\n\u001b[1;32m     10\u001b[0m         (Positives \u001b[38;5;241m/\u001b[39m (Positives \u001b[38;5;241m+\u001b[39m Negatives))\n\u001b[1;32m     11\u001b[0m         \u001b[38;5;241m/\u001b[39m (sumPositives \u001b[38;5;241m/\u001b[39m (Positives \u001b[38;5;241m+\u001b[39m Negatives)\u001b[38;5;241m.\u001b[39msum())\n\u001b[1;32m     12\u001b[0m     )\u001b[38;5;241m.\u001b[39malias(\u001b[38;5;124m\"\u001b[39m\u001b[38;5;124mLift\u001b[39m\u001b[38;5;124m\"\u001b[39m),\n\u001b[1;32m     13\u001b[0m )\u001b[38;5;241m.\u001b[39mto_pandas()\u001b[38;5;241m.\u001b[39mset_index(\u001b[38;5;124m\"\u001b[39m\u001b[38;5;124mRange/Symbol\u001b[39m\u001b[38;5;124m\"\u001b[39m)\u001b[38;5;241m.\u001b[39mstyle\u001b[38;5;241m.\u001b[39mformat(format_lift)\u001b[38;5;241m.\u001b[39mset_properties(\n\u001b[1;32m     14\u001b[0m     \u001b[38;5;241m*\u001b[39m\u001b[38;5;241m*\u001b[39m{\u001b[38;5;124m\"\u001b[39m\u001b[38;5;124mcolor\u001b[39m\u001b[38;5;124m\"\u001b[39m: \u001b[38;5;124m\"\u001b[39m\u001b[38;5;124mblue\u001b[39m\u001b[38;5;124m\"\u001b[39m}, subset\u001b[38;5;241m=\u001b[39m[\u001b[38;5;124m\"\u001b[39m\u001b[38;5;124mLift\u001b[39m\u001b[38;5;124m\"\u001b[39m]\n\u001b[1;32m     15\u001b[0m )\n",
      "\u001b[0;31mNameError\u001b[0m: name 'binningDerived' is not defined"
     ]
    }
   ],
   "source": [
    "Positives = pl.col(\"Positives\")\n",
    "Negatives = pl.col(\"Negatives\")\n",
    "sumPositives = pl.sum(\"Positives\")\n",
    "sumNegatives = pl.sum(\"Negatives\")\n",
    "binningDerived.select(\n",
    "    \"Range/Symbol\",\n",
    "    \"Positives\",\n",
    "    \"Negatives\",\n",
    "    (\n",
    "        (Positives / (Positives + Negatives))\n",
    "        / (sumPositives / (Positives + Negatives).sum())\n",
    "    ).alias(\"Lift\"),\n",
    ").to_pandas().set_index(\"Range/Symbol\").style.format(format_lift).set_properties(\n",
    "    **{\"color\": \"blue\"}, subset=[\"Lift\"]\n",
    ")"
   ]
  },
  {
   "attachments": {},
   "cell_type": "markdown",
   "metadata": {},
   "source": [
    "### Z-Ratio"
   ]
  },
  {
   "attachments": {},
   "cell_type": "markdown",
   "metadata": {},
   "source": [
    "The Z-Ratio is also a measure of the how the propensity in a bin differs from the average, but takes into account the size of the bin and thus is statistically more relevant. It represents the number of standard deviations from the average, so centers around 0. The wider the spread, the better the predictor is.\n",
    "$$\\frac{posFraction-negFraction}{\\sqrt(\\frac{posFraction*(1-posFraction)}{\\sum positives}+\\frac{negFraction*(1-negFraction)}{\\sum negatives})}$$ \n",
    "\n",
    "See the calculation here, which is also included in [cdh_utils' zRatio()](https://pegasystems.github.io/pega-datascientist-tools/Python/autoapi/pdstools/utils/cdh_utils/index.html#pdstools.utils.cdh_utils.zRatio)."
   ]
  },
  {
   "cell_type": "code",
   "execution_count": 11,
   "metadata": {
    "execution": {
     "iopub.execute_input": "2024-05-16T15:39:56.270397Z",
     "iopub.status.busy": "2024-05-16T15:39:56.270068Z",
     "iopub.status.idle": "2024-05-16T15:39:56.288115Z",
     "shell.execute_reply": "2024-05-16T15:39:56.287651Z"
    }
   },
   "outputs": [
    {
     "ename": "NameError",
     "evalue": "name 'binningDerived' is not defined",
     "output_type": "error",
     "traceback": [
      "\u001b[0;31m---------------------------------------------------------------------------\u001b[0m",
      "\u001b[0;31mNameError\u001b[0m                                 Traceback (most recent call last)",
      "Cell \u001b[0;32mIn[11], line 24\u001b[0m\n\u001b[1;32m     13\u001b[0m         \u001b[38;5;28;01mreturn\u001b[39;00m (\n\u001b[1;32m     14\u001b[0m             (posFractionCol \u001b[38;5;241m-\u001b[39m negFractionCol)\n\u001b[1;32m     15\u001b[0m             \u001b[38;5;241m/\u001b[39m (\n\u001b[0;32m   (...)\u001b[0m\n\u001b[1;32m     18\u001b[0m             )\u001b[38;5;241m.\u001b[39msqrt()\n\u001b[1;32m     19\u001b[0m         )\u001b[38;5;241m.\u001b[39malias(\u001b[38;5;124m\"\u001b[39m\u001b[38;5;124mZRatio\u001b[39m\u001b[38;5;124m\"\u001b[39m)\n\u001b[1;32m     21\u001b[0m     \u001b[38;5;28;01mreturn\u001b[39;00m zRatioimpl(\u001b[38;5;241m*\u001b[39mgetFracs(posCol, negCol), posCol\u001b[38;5;241m.\u001b[39msum(), negCol\u001b[38;5;241m.\u001b[39msum())\n\u001b[0;32m---> 24\u001b[0m \u001b[43mbinningDerived\u001b[49m\u001b[38;5;241m.\u001b[39mselect(\n\u001b[1;32m     25\u001b[0m     \u001b[38;5;124m\"\u001b[39m\u001b[38;5;124mRange/Symbol\u001b[39m\u001b[38;5;124m\"\u001b[39m, \u001b[38;5;124m\"\u001b[39m\u001b[38;5;124mPositives\u001b[39m\u001b[38;5;124m\"\u001b[39m, \u001b[38;5;124m\"\u001b[39m\u001b[38;5;124mNegatives\u001b[39m\u001b[38;5;124m\"\u001b[39m, \u001b[38;5;124m\"\u001b[39m\u001b[38;5;124mPositives \u001b[39m\u001b[38;5;124m%\u001b[39m\u001b[38;5;124m\"\u001b[39m, \u001b[38;5;124m\"\u001b[39m\u001b[38;5;124mNegatives \u001b[39m\u001b[38;5;124m%\u001b[39m\u001b[38;5;124m\"\u001b[39m\n\u001b[1;32m     26\u001b[0m )\u001b[38;5;241m.\u001b[39mwith_columns(zRatio(Positives, Negatives))\u001b[38;5;241m.\u001b[39mto_pandas()\u001b[38;5;241m.\u001b[39mset_index(\u001b[38;5;124m\"\u001b[39m\u001b[38;5;124mRange/Symbol\u001b[39m\u001b[38;5;124m\"\u001b[39m)\u001b[38;5;241m.\u001b[39mstyle\u001b[38;5;241m.\u001b[39mformat(\n\u001b[1;32m     27\u001b[0m     format_z_ratio\n\u001b[1;32m     28\u001b[0m )\u001b[38;5;241m.\u001b[39mset_properties(\n\u001b[1;32m     29\u001b[0m     \u001b[38;5;241m*\u001b[39m\u001b[38;5;241m*\u001b[39m{\u001b[38;5;124m\"\u001b[39m\u001b[38;5;124mcolor\u001b[39m\u001b[38;5;124m\"\u001b[39m: \u001b[38;5;124m\"\u001b[39m\u001b[38;5;124mblue\u001b[39m\u001b[38;5;124m\"\u001b[39m}, subset\u001b[38;5;241m=\u001b[39m[\u001b[38;5;124m\"\u001b[39m\u001b[38;5;124mZRatio\u001b[39m\u001b[38;5;124m\"\u001b[39m]\n\u001b[1;32m     30\u001b[0m )\n",
      "\u001b[0;31mNameError\u001b[0m: name 'binningDerived' is not defined"
     ]
    }
   ],
   "source": [
    "def zRatio(\n",
    "    posCol: pl.Expr = pl.col(\"BinPositives\"), negCol: pl.Expr = pl.col(\"BinNegatives\")\n",
    ") -> pl.Expr:\n",
    "    def getFracs(posCol=pl.col(\"BinPositives\"), negCol=pl.col(\"BinNegatives\")):\n",
    "        return posCol / posCol.sum(), negCol / negCol.sum()\n",
    "\n",
    "    def zRatioimpl(\n",
    "        posFractionCol=pl.col(\"posFraction\"),\n",
    "        negFractionCol=pl.col(\"negFraction\"),\n",
    "        PositivesCol=pl.sum(\"BinPositives\"),\n",
    "        NegativesCol=pl.sum(\"BinNegatives\"),\n",
    "    ):\n",
    "        return (\n",
    "            (posFractionCol - negFractionCol)\n",
    "            / (\n",
    "                (posFractionCol * (1 - posFractionCol) / PositivesCol)\n",
    "                + (negFractionCol * (1 - negFractionCol) / NegativesCol)\n",
    "            ).sqrt()\n",
    "        ).alias(\"ZRatio\")\n",
    "\n",
    "    return zRatioimpl(*getFracs(posCol, negCol), posCol.sum(), negCol.sum())\n",
    "\n",
    "\n",
    "binningDerived.select(\n",
    "    \"Range/Symbol\", \"Positives\", \"Negatives\", \"Positives %\", \"Negatives %\"\n",
    ").with_columns(zRatio(Positives, Negatives)).to_pandas().set_index(\"Range/Symbol\").style.format(\n",
    "    format_z_ratio\n",
    ").set_properties(\n",
    "    **{\"color\": \"blue\"}, subset=[\"ZRatio\"]\n",
    ")"
   ]
  },
  {
   "attachments": {},
   "cell_type": "markdown",
   "metadata": {},
   "source": [
    "## Predictor AUC\n"
   ]
  },
  {
   "attachments": {},
   "cell_type": "markdown",
   "metadata": {},
   "source": [
    "The predictor AUC is the univariate performance of this predictor against the outcome. This too can be derived from the positives and negatives and\n",
    "there is  a convenient function in pdstools to calculate it directly from the positives and negatives.\n",
    "\n",
    "This function is implemented in cdh_utils: [cdh_utils.auc_from_bincounts()](https://pegasystems.github.io/pega-datascientist-tools/Python/autoapi/pdstools/utils/cdh_utils/index.html#pdstools.utils.cdh_utils.auc_from_bincounts)."
   ]
  },
  {
   "cell_type": "code",
   "execution_count": 12,
   "metadata": {
    "execution": {
     "iopub.execute_input": "2024-05-16T15:39:56.290285Z",
     "iopub.status.busy": "2024-05-16T15:39:56.289954Z",
     "iopub.status.idle": "2024-05-16T15:39:56.307819Z",
     "shell.execute_reply": "2024-05-16T15:39:56.307372Z"
    }
   },
   "outputs": [
    {
     "ename": "NameError",
     "evalue": "name 'binningDerived' is not defined",
     "output_type": "error",
     "traceback": [
      "\u001b[0;31m---------------------------------------------------------------------------\u001b[0m",
      "\u001b[0;31mNameError\u001b[0m                                 Traceback (most recent call last)",
      "Cell \u001b[0;32mIn[12], line 1\u001b[0m\n\u001b[0;32m----> 1\u001b[0m pos\u001b[38;5;241m=\u001b[39m\u001b[43mbinningDerived\u001b[49m\u001b[38;5;241m.\u001b[39mget_column(\u001b[38;5;124m\"\u001b[39m\u001b[38;5;124mPositives\u001b[39m\u001b[38;5;124m\"\u001b[39m)\u001b[38;5;241m.\u001b[39mto_numpy()\n\u001b[1;32m      2\u001b[0m neg\u001b[38;5;241m=\u001b[39mbinningDerived\u001b[38;5;241m.\u001b[39mget_column(\u001b[38;5;124m\"\u001b[39m\u001b[38;5;124mNegatives\u001b[39m\u001b[38;5;124m\"\u001b[39m)\u001b[38;5;241m.\u001b[39mto_numpy()\n\u001b[1;32m      3\u001b[0m probs\u001b[38;5;241m=\u001b[39mbinningDerived\u001b[38;5;241m.\u001b[39mget_column(\u001b[38;5;124m\"\u001b[39m\u001b[38;5;124mPropensity\u001b[39m\u001b[38;5;124m\"\u001b[39m)\u001b[38;5;241m.\u001b[39mto_numpy()\n",
      "\u001b[0;31mNameError\u001b[0m: name 'binningDerived' is not defined"
     ]
    }
   ],
   "source": [
    "pos=binningDerived.get_column(\"Positives\").to_numpy()\n",
    "neg=binningDerived.get_column(\"Negatives\").to_numpy()\n",
    "probs=binningDerived.get_column(\"Propensity\").to_numpy()\n",
    "order = np.argsort(probs)\n",
    "\n",
    "FPR = np.cumsum(neg[order]) / np.sum(neg[order])\n",
    "TPR = np.cumsum(pos[order]) / np.sum(pos[order])\n",
    "TPR = np.insert(TPR, 0, 0, axis=0)\n",
    "FPR = np.insert(FPR, 0, 0, axis=0)\n",
    "# Checking whether classifier labels are correct\n",
    "if TPR[1] < 1-FPR[1]:\n",
    "    temp = FPR\n",
    "    FPR = TPR\n",
    "    TPR = temp\n",
    "auc = cdh_utils.auc_from_bincounts(pos=pos, neg=neg,probs=probs)\n",
    "\n",
    "fig = px.line(\n",
    "    x=[1-x for x in FPR], y=TPR,\n",
    "    labels=dict(x='Specificity', y='Sensitivity'),\n",
    "    title = f\"AUC = {auc.round(3)}\",\n",
    "    width=700, height=700,\n",
    "    range_x=[1,0],\n",
    "    template='none'\n",
    ")\n",
    "fig.add_shape(\n",
    "    type='line', line=dict(dash='dash'),\n",
    "    x0=1, x1=0, y0=0, y1=1\n",
    ")\n",
    "fig.show()\n"
   ]
  },
  {
   "cell_type": "markdown",
   "metadata": {},
   "source": [
    "## Naive Bayes and Log Odds"
   ]
  },
  {
   "cell_type": "markdown",
   "metadata": {},
   "source": [
    "The basis for the Naive Bayes algorithm is Bayes' Theorem:\n",
    "\n",
    "$$p(C_k|x) = \\frac{p(x|C_k)*p(C_k)}{p(x)}$$\n",
    "\n",
    "with $C_k$ the outcome and $x$ the customer. Bayes' theorem turns the\n",
    "question \"what's the probability to accept this action given a customer\" around to \n",
    "\"what's the probability of this customer given an action\". With the independence\n",
    "assumption, and after applying a log odds transformation we get a log odds score \n",
    "that can be calculated efficiently and in a numerically stable manner:\n",
    "\n",
    "$$log\\ odds\\ score = \\sum_{p\\ \\in\\ active\\ predictors}log(p(x_p|Positive)) + log(p_{positive}) - \\sum_plog(p(x_p|Negative)) - log(p_{negative})$$\n",
    "note that the _prior_ can be written as:\n",
    "\n",
    "$$log(p_{positive}) - log(p_{negative}) = log(\\frac{TotalPositives}{Total})-log(\\frac{TotalNegatives}{Total}) = log(TotalPositives) - log(TotalNegatives)$$\n"
   ]
  },
  {
   "attachments": {},
   "cell_type": "markdown",
   "metadata": {},
   "source": [
    "## Predictor Contribution"
   ]
  },
  {
   "attachments": {},
   "cell_type": "markdown",
   "metadata": {},
   "source": [
    "The contribution (_conditional log odds_) of an active predictor $p$ for bin $i$ with the number\n",
    "of positive and negative responses in $Positives_i$ and $Negatives_i$ is calculated as (note the \"laplace smoothing\" to avoid log 0 issues):\n",
    "\n",
    "$$contribution_p = \\log(Positives_i+\\frac{1}{nBins}) - \\log(Negatives_i+\\frac{1}{nBins}) - \\log(1+\\sum_{i\\ = 1..nBins}{Positives_i}) + \\log(1+\\sum_i{Negatives_i})$$\n"
   ]
  },
  {
   "cell_type": "code",
   "execution_count": 13,
   "metadata": {
    "execution": {
     "iopub.execute_input": "2024-05-16T15:39:56.310055Z",
     "iopub.status.busy": "2024-05-16T15:39:56.309744Z",
     "iopub.status.idle": "2024-05-16T15:39:56.323762Z",
     "shell.execute_reply": "2024-05-16T15:39:56.323295Z"
    }
   },
   "outputs": [
    {
     "ename": "NameError",
     "evalue": "name 'binningDerived' is not defined",
     "output_type": "error",
     "traceback": [
      "\u001b[0;31m---------------------------------------------------------------------------\u001b[0m",
      "\u001b[0;31mNameError\u001b[0m                                 Traceback (most recent call last)",
      "Cell \u001b[0;32mIn[13], line 1\u001b[0m\n\u001b[0;32m----> 1\u001b[0m N \u001b[38;5;241m=\u001b[39m \u001b[43mbinningDerived\u001b[49m\u001b[38;5;241m.\u001b[39mshape[\u001b[38;5;241m0\u001b[39m]\n\u001b[1;32m      2\u001b[0m binningDerived\u001b[38;5;241m.\u001b[39mwith_columns(\n\u001b[1;32m      3\u001b[0m     LogOdds\u001b[38;5;241m=\u001b[39m(pl\u001b[38;5;241m.\u001b[39mcol(\u001b[38;5;124m\"\u001b[39m\u001b[38;5;124mPositives \u001b[39m\u001b[38;5;124m%\u001b[39m\u001b[38;5;124m\"\u001b[39m) \u001b[38;5;241m/\u001b[39m pl\u001b[38;5;241m.\u001b[39mcol(\u001b[38;5;124m\"\u001b[39m\u001b[38;5;124mNegatives \u001b[39m\u001b[38;5;124m%\u001b[39m\u001b[38;5;124m\"\u001b[39m))\u001b[38;5;241m.\u001b[39mlog(),\n\u001b[1;32m      4\u001b[0m     ModifiedLogOdds\u001b[38;5;241m=\u001b[39m(\n\u001b[0;32m   (...)\u001b[0m\n\u001b[1;32m     11\u001b[0m     \u001b[38;5;241m*\u001b[39m\u001b[38;5;241m*\u001b[39m{\u001b[38;5;124m\"\u001b[39m\u001b[38;5;124mcolor\u001b[39m\u001b[38;5;124m\"\u001b[39m: \u001b[38;5;124m\"\u001b[39m\u001b[38;5;124mblue\u001b[39m\u001b[38;5;124m\"\u001b[39m}, subset\u001b[38;5;241m=\u001b[39m[\u001b[38;5;124m\"\u001b[39m\u001b[38;5;124mLogOdds\u001b[39m\u001b[38;5;124m\"\u001b[39m, \u001b[38;5;124m\"\u001b[39m\u001b[38;5;124mModifiedLogOdds\u001b[39m\u001b[38;5;124m\"\u001b[39m]\n\u001b[1;32m     12\u001b[0m )\n",
      "\u001b[0;31mNameError\u001b[0m: name 'binningDerived' is not defined"
     ]
    }
   ],
   "source": [
    "N = binningDerived.shape[0]\n",
    "binningDerived.with_columns(\n",
    "    LogOdds=(pl.col(\"Positives %\") / pl.col(\"Negatives %\")).log(),\n",
    "    ModifiedLogOdds=(\n",
    "        ((Positives + 1 / N).log() - (Positives.sum() + 1).log())\n",
    "        - ((Negatives + 1 / N).log() - (Negatives.sum() + 1).log())\n",
    "    ),\n",
    ").drop(\"Responses %\", \"Propensity\").to_pandas().set_index(\"Range/Symbol\").style.format(\n",
    "    format_log_odds\n",
    ").set_properties(\n",
    "    **{\"color\": \"blue\"}, subset=[\"LogOdds\", \"ModifiedLogOdds\"]\n",
    ")"
   ]
  },
  {
   "attachments": {},
   "cell_type": "markdown",
   "metadata": {},
   "source": [
    "## Propensity mapping"
   ]
  },
  {
   "attachments": {},
   "cell_type": "markdown",
   "metadata": {},
   "source": [
    "### Log odds contribution for all the predictors"
   ]
  },
  {
   "attachments": {},
   "cell_type": "markdown",
   "metadata": {},
   "source": [
    "The final score is loosely referred to as \"the average contribution\" but\n",
    "in fact is a little more nuanced. The final score is calculated as:\n",
    "\n",
    "$$score = \\frac{\\log(1 + TotalPositives) – \\log(1 + TotalNegatives) + \\sum_p contribution_p}{1 + nActivePredictors}$$\n",
    "\n",
    "Here, $TotalPositives$ and $TotalNegatives$ are the total number of\n",
    "positive and negative responses to the model.\n",
    "\n",
    "Below an example. From all the active predictors of the model \n",
    "we pick a value (in the middle for numerics, first symbol\n",
    "for symbolics) and show the (modified) log odds. The final score is\n",
    "calculated per the above formula, and this is the value that is mapped\n",
    "to a propensity value by the classifier (which is constructed using the\n",
    "[PAV(A)](https://en.wikipedia.org/wiki/Isotonic_regression) algorithm).\n"
   ]
  },
  {
   "cell_type": "code",
   "execution_count": 14,
   "metadata": {
    "execution": {
     "iopub.execute_input": "2024-05-16T15:39:56.325863Z",
     "iopub.status.busy": "2024-05-16T15:39:56.325535Z",
     "iopub.status.idle": "2024-05-16T15:39:56.379338Z",
     "shell.execute_reply": "2024-05-16T15:39:56.378842Z"
    },
    "tags": [
     "remove_input"
    ]
   },
   "outputs": [
    {
     "ename": "NameError",
     "evalue": "name 'modelpredictors' is not defined",
     "output_type": "error",
     "traceback": [
      "\u001b[0;31m---------------------------------------------------------------------------\u001b[0m",
      "\u001b[0;31mNameError\u001b[0m                                 Traceback (most recent call last)",
      "Cell \u001b[0;32mIn[14], line 5\u001b[0m\n\u001b[1;32m      1\u001b[0m \u001b[38;5;28;01mdef\u001b[39;00m \u001b[38;5;21mmiddleBin\u001b[39m():\n\u001b[1;32m      2\u001b[0m     \u001b[38;5;28;01mreturn\u001b[39;00m pl\u001b[38;5;241m.\u001b[39mcol(\u001b[38;5;124m\"\u001b[39m\u001b[38;5;124mBinIndex\u001b[39m\u001b[38;5;124m\"\u001b[39m) \u001b[38;5;241m==\u001b[39m (pl\u001b[38;5;241m.\u001b[39mmax(\u001b[38;5;124m\"\u001b[39m\u001b[38;5;124mBinIndex\u001b[39m\u001b[38;5;124m\"\u001b[39m) \u001b[38;5;241m/\u001b[39m \u001b[38;5;241m2\u001b[39m)\u001b[38;5;241m.\u001b[39mfloor()\u001b[38;5;241m.\u001b[39mcast(pl\u001b[38;5;241m.\u001b[39mUInt32)\n\u001b[0;32m----> 5\u001b[0m \u001b[38;5;28;01mif\u001b[39;00m \u001b[38;5;129;01mnot\u001b[39;00m \u001b[38;5;28;43mall\u001b[39;49m\u001b[43m(\u001b[49m\n\u001b[1;32m      6\u001b[0m \u001b[43m    \u001b[49m\u001b[43mcol\u001b[49m\u001b[43m \u001b[49m\u001b[38;5;129;43;01min\u001b[39;49;00m\u001b[43m \u001b[49m\u001b[43mmodelpredictors\u001b[49m\u001b[38;5;241;43m.\u001b[39;49m\u001b[43mcolumns\u001b[49m\u001b[43m \u001b[49m\u001b[38;5;28;43;01mfor\u001b[39;49;00m\u001b[43m \u001b[49m\u001b[43mcol\u001b[49m\u001b[43m \u001b[49m\u001b[38;5;129;43;01min\u001b[39;49;00m\u001b[43m \u001b[49m\u001b[43m[\u001b[49m\u001b[38;5;124;43m\"\u001b[39;49m\u001b[38;5;124;43mBinLowerBound\u001b[39;49m\u001b[38;5;124;43m\"\u001b[39;49m\u001b[43m,\u001b[49m\u001b[43m \u001b[49m\u001b[38;5;124;43m\"\u001b[39;49m\u001b[38;5;124;43mBinUpperBound\u001b[39;49m\u001b[38;5;124;43m\"\u001b[39;49m\u001b[43m]\u001b[49m\n\u001b[1;32m      7\u001b[0m \u001b[43m)\u001b[49m:\n\u001b[1;32m      9\u001b[0m     \u001b[38;5;28;01mdef\u001b[39;00m \u001b[38;5;21mextract_numbers_in_contents\u001b[39m(s: \u001b[38;5;28mstr\u001b[39m, index):\n\u001b[1;32m     10\u001b[0m         numbers \u001b[38;5;241m=\u001b[39m re\u001b[38;5;241m.\u001b[39mfindall(\u001b[38;5;124mr\u001b[39m\u001b[38;5;124m\"\u001b[39m\u001b[38;5;124m[-+]?\u001b[39m\u001b[38;5;124m\\\u001b[39m\u001b[38;5;124md*\u001b[39m\u001b[38;5;124m\\\u001b[39m\u001b[38;5;124m.\u001b[39m\u001b[38;5;124m\\\u001b[39m\u001b[38;5;124md+|\u001b[39m\u001b[38;5;124m\\\u001b[39m\u001b[38;5;124md+\u001b[39m\u001b[38;5;124m\"\u001b[39m, s)\n",
      "Cell \u001b[0;32mIn[14], line 6\u001b[0m, in \u001b[0;36m<genexpr>\u001b[0;34m(.0)\u001b[0m\n\u001b[1;32m      1\u001b[0m \u001b[38;5;28;01mdef\u001b[39;00m \u001b[38;5;21mmiddleBin\u001b[39m():\n\u001b[1;32m      2\u001b[0m     \u001b[38;5;28;01mreturn\u001b[39;00m pl\u001b[38;5;241m.\u001b[39mcol(\u001b[38;5;124m\"\u001b[39m\u001b[38;5;124mBinIndex\u001b[39m\u001b[38;5;124m\"\u001b[39m) \u001b[38;5;241m==\u001b[39m (pl\u001b[38;5;241m.\u001b[39mmax(\u001b[38;5;124m\"\u001b[39m\u001b[38;5;124mBinIndex\u001b[39m\u001b[38;5;124m\"\u001b[39m) \u001b[38;5;241m/\u001b[39m \u001b[38;5;241m2\u001b[39m)\u001b[38;5;241m.\u001b[39mfloor()\u001b[38;5;241m.\u001b[39mcast(pl\u001b[38;5;241m.\u001b[39mUInt32)\n\u001b[1;32m      5\u001b[0m \u001b[38;5;28;01mif\u001b[39;00m \u001b[38;5;129;01mnot\u001b[39;00m \u001b[38;5;28mall\u001b[39m(\n\u001b[0;32m----> 6\u001b[0m     col \u001b[38;5;129;01min\u001b[39;00m \u001b[43mmodelpredictors\u001b[49m\u001b[38;5;241m.\u001b[39mcolumns \u001b[38;5;28;01mfor\u001b[39;00m col \u001b[38;5;129;01min\u001b[39;00m [\u001b[38;5;124m\"\u001b[39m\u001b[38;5;124mBinLowerBound\u001b[39m\u001b[38;5;124m\"\u001b[39m, \u001b[38;5;124m\"\u001b[39m\u001b[38;5;124mBinUpperBound\u001b[39m\u001b[38;5;124m\"\u001b[39m]\n\u001b[1;32m      7\u001b[0m ):\n\u001b[1;32m      9\u001b[0m     \u001b[38;5;28;01mdef\u001b[39;00m \u001b[38;5;21mextract_numbers_in_contents\u001b[39m(s: \u001b[38;5;28mstr\u001b[39m, index):\n\u001b[1;32m     10\u001b[0m         numbers \u001b[38;5;241m=\u001b[39m re\u001b[38;5;241m.\u001b[39mfindall(\u001b[38;5;124mr\u001b[39m\u001b[38;5;124m\"\u001b[39m\u001b[38;5;124m[-+]?\u001b[39m\u001b[38;5;124m\\\u001b[39m\u001b[38;5;124md*\u001b[39m\u001b[38;5;124m\\\u001b[39m\u001b[38;5;124m.\u001b[39m\u001b[38;5;124m\\\u001b[39m\u001b[38;5;124md+|\u001b[39m\u001b[38;5;124m\\\u001b[39m\u001b[38;5;124md+\u001b[39m\u001b[38;5;124m\"\u001b[39m, s)\n",
      "\u001b[0;31mNameError\u001b[0m: name 'modelpredictors' is not defined"
     ]
    }
   ],
   "source": [
    "def middleBin():\n",
    "    return pl.col(\"BinIndex\") == (pl.max(\"BinIndex\") / 2).floor().cast(pl.UInt32)\n",
    "\n",
    "\n",
    "if not all(\n",
    "    col in modelpredictors.columns for col in [\"BinLowerBound\", \"BinUpperBound\"]\n",
    "):\n",
    "\n",
    "    def extract_numbers_in_contents(s: str, index):\n",
    "        numbers = re.findall(r\"[-+]?\\d*\\.\\d+|\\d+\", s)\n",
    "        try:\n",
    "            number = float(numbers[index])\n",
    "        except:\n",
    "            number = 0\n",
    "        return number\n",
    "\n",
    "    modelpredictors = modelpredictors.with_columns(\n",
    "        pl.col(\"Contents\").cast(pl.Utf8)\n",
    "    ).with_columns(\n",
    "        pl.when(pl.col(\"Type\") == \"numeric\")\n",
    "        .then(pl.col(\"Contents\").map_elements(lambda col: extract_numbers_in_contents(col, 0)))\n",
    "        .otherwise(pl.lit(-9999))\n",
    "        .alias(\"BinLowerBound\")\n",
    "        .cast(pl.Float32),\n",
    "        pl.when(pl.col(\"Type\") == \"numeric\")\n",
    "        .then(pl.col(\"Contents\").map_elements(lambda col: extract_numbers_in_contents(col, 1)))\n",
    "        .otherwise(pl.lit(-9999))\n",
    "        .alias(\"BinUpperBound\")\n",
    "        .cast(pl.Float32),\n",
    "    )\n",
    "\n",
    "\n",
    "def RowWiseLogOdds(Bin, Positives, Negatives):\n",
    "    Bin, N = Bin.list.get(0) - 1, Positives.list.len()\n",
    "    Pos, Neg = Positives.list.get(Bin), Negatives.list.get(Bin)\n",
    "    PosSum, NegSum = Positives.list.sum(), Negatives.list.sum()\n",
    "    return (\n",
    "        (((Pos + (1 / N)).log() - (PosSum + 1).log()))\n",
    "        - (((Neg + (1 / N)).log()) - (NegSum + 1).log())\n",
    "    ).alias(\"Modified Log odds\")\n",
    "\n",
    "\n",
    "df = (\n",
    "    modelpredictors.filter(pl.col(\"PredictorName\") != \"Classifier\")\n",
    "    .group_by(\"PredictorName\")\n",
    "    .agg(\n",
    "        Value=pl.when(pl.col(\"Type\").first() == \"numeric\")\n",
    "        .then(\n",
    "            ((pl.col(\"BinLowerBound\") + pl.col(\"BinUpperBound\")) / 2).where(middleBin())\n",
    "        )\n",
    "        .otherwise(pl.col(\"BinSymbol\").str.split(\",\").list.first().where(middleBin())),\n",
    "        Bin=pl.col(\"BinIndex\").where(middleBin()),\n",
    "        Positives=pl.col(\"BinPositives\"),\n",
    "        Negatives=pl.col(\"BinNegatives\"),\n",
    "    )\n",
    "    .with_columns(\n",
    "        pl.col([\"Positives\", \"Negatives\"]).list.get(pl.col(\"Bin\").list.get(0) - 1),\n",
    "        pl.col(\"Bin\", \"Value\").list.get(0),\n",
    "        LogOdds=RowWiseLogOdds(pl.col(\"Bin\"), pl.col(\"Positives\"), pl.col(\"Negatives\")),\n",
    "    )\n",
    "    .sort(\"PredictorName\")\n",
    ")\n",
    "\n",
    "classifier = (\n",
    "    modelpredictors.filter(pl.col(\"EntryType\") == \"Classifier\")\n",
    "    .with_columns(\n",
    "        Propensity=(BinPositives / (BinPositives / BinNegatives)),\n",
    "        AdjustedPropensity=((0.5 + BinPositives) / (1 + BinPositives + BinNegatives)),\n",
    "        ZRatio=cdh_utils.zRatio(negCol=BinNegatives, posCol=BinPositives),\n",
    "        Lift=(\n",
    "            (BinPositives / (BinPositives + BinNegatives))\n",
    "            / (sumPositives / (BinPositives + BinNegatives).sum())\n",
    "        ),\n",
    "    )\n",
    "    .select(\n",
    "        [\n",
    "            pl.col(\"BinIndex\").alias(\"Index\"),\n",
    "            pl.col(\"BinSymbol\").alias(\"Bin\"),\n",
    "            BinPositives.alias(\"Positives\"),\n",
    "            BinNegatives.alias(\"Negatives\"),\n",
    "            ((pl.cum_sum(\"BinResponseCount\") / pl.sum(\"BinResponseCount\")) * 100).alias(\n",
    "                \"Cum. Total (%)\"\n",
    "            ),\n",
    "            (pl.col(\"BinPropensity\") * 100).alias(\"Propensity (%)\"),\n",
    "            (pl.col(\"AdjustedPropensity\") * 100).alias(\"Adjusted Propensity (%)\"),\n",
    "            ((pl.cum_sum(\"BinPositives\") / pl.sum(\"BinPositives\")) * 100).alias(\n",
    "                \"Cum Positives (%)\"\n",
    "            ),\n",
    "            pl.col(\"ZRatio\"),\n",
    "            (pl.col(\"Lift\") * 100).alias(\"Lift(%)\"),\n",
    "            pl.col(\"BinResponseCount\").alias(\"Responses\"),\n",
    "        ]\n",
    "    )\n",
    ")\n",
    "classifierLogOffset = log(1 + classifier[\"Positives\"].sum()) - log(\n",
    "    1 + classifier[\"Negatives\"].sum()\n",
    ")\n",
    "\n",
    "propensity_mapping = (\n",
    "    df.vstack(\n",
    "        pl.DataFrame(\n",
    "            dict(\n",
    "                zip(\n",
    "                    df.columns,\n",
    "                    [\"Final Score\"]\n",
    "                    + [None] * 4\n",
    "                    + [(df[\"LogOdds\"].sum() + classifierLogOffset) / (len(df) + 1)],\n",
    "                )\n",
    "            ),\n",
    "            schema=df.schema,\n",
    "        )\n",
    "    )\n",
    "    .to_pandas()\n",
    "    .set_index(\"PredictorName\")\n",
    "    .style.set_properties(**{\"color\": \"blue\"}, subset=[\"LogOdds\"])\n",
    ")\n",
    "\n",
    "propensity_mapping"
   ]
  },
  {
   "attachments": {},
   "cell_type": "markdown",
   "metadata": {},
   "source": [
    "## Classifier"
   ]
  },
  {
   "attachments": {},
   "cell_type": "markdown",
   "metadata": {},
   "source": [
    "The success rate is defined as $\\frac{positives}{positives+negatives}$ per bin. \n",
    "\n",
    "The adjusted propensity that is returned is a small modification (Laplace smoothing) to this and calculated as $\\frac{0.5+positives}{1+positives+negatives}$ so empty models return a propensity of 0.5.\n"
   ]
  },
  {
   "cell_type": "code",
   "execution_count": 15,
   "metadata": {
    "execution": {
     "iopub.execute_input": "2024-05-16T15:39:56.381417Z",
     "iopub.status.busy": "2024-05-16T15:39:56.381248Z",
     "iopub.status.idle": "2024-05-16T15:39:56.393018Z",
     "shell.execute_reply": "2024-05-16T15:39:56.392450Z"
    },
    "tags": [
     "remove_input"
    ]
   },
   "outputs": [
    {
     "ename": "NameError",
     "evalue": "name 'classifier' is not defined",
     "output_type": "error",
     "traceback": [
      "\u001b[0;31m---------------------------------------------------------------------------\u001b[0m",
      "\u001b[0;31mNameError\u001b[0m                                 Traceback (most recent call last)",
      "Cell \u001b[0;32mIn[15], line 3\u001b[0m\n\u001b[1;32m      1\u001b[0m \u001b[38;5;66;03m# TODO see if we can port the \"getActiveRanges\" code to python so to highlight the classifier rows that are \"active\"\u001b[39;00m\n\u001b[0;32m----> 3\u001b[0m \u001b[43mclassifier\u001b[49m\u001b[38;5;241m.\u001b[39mdrop(\u001b[38;5;124m\"\u001b[39m\u001b[38;5;124mResponses\u001b[39m\u001b[38;5;124m\"\u001b[39m)\u001b[38;5;241m.\u001b[39mto_pandas()\u001b[38;5;241m.\u001b[39mset_index(\u001b[38;5;124m\"\u001b[39m\u001b[38;5;124mIndex\u001b[39m\u001b[38;5;124m\"\u001b[39m)\u001b[38;5;241m.\u001b[39mstyle\u001b[38;5;241m.\u001b[39mformat(format_classifier)\u001b[38;5;241m.\u001b[39mset_properties(\n\u001b[1;32m      4\u001b[0m     \u001b[38;5;241m*\u001b[39m\u001b[38;5;241m*\u001b[39m{\u001b[38;5;124m\"\u001b[39m\u001b[38;5;124mcolor\u001b[39m\u001b[38;5;124m\"\u001b[39m: \u001b[38;5;124m\"\u001b[39m\u001b[38;5;124mblue\u001b[39m\u001b[38;5;124m\"\u001b[39m}, subset\u001b[38;5;241m=\u001b[39m[\u001b[38;5;124m\"\u001b[39m\u001b[38;5;124mAdjusted Propensity (\u001b[39m\u001b[38;5;124m%\u001b[39m\u001b[38;5;124m)\u001b[39m\u001b[38;5;124m\"\u001b[39m]\n\u001b[1;32m      5\u001b[0m )\n",
      "\u001b[0;31mNameError\u001b[0m: name 'classifier' is not defined"
     ]
    }
   ],
   "source": [
    "# TODO see if we can port the \"getActiveRanges\" code to python so to highlight the classifier rows that are \"active\"\n",
    "\n",
    "classifier.drop(\"Responses\").to_pandas().set_index(\"Index\").style.format(format_classifier).set_properties(\n",
    "    **{\"color\": \"blue\"}, subset=[\"Adjusted Propensity (%)\"]\n",
    ")"
   ]
  },
  {
   "attachments": {},
   "cell_type": "markdown",
   "metadata": {},
   "source": [
    "## Final Propensity"
   ]
  },
  {
   "attachments": {},
   "cell_type": "markdown",
   "metadata": {},
   "source": [
    "Below the classifier mapping. On the x-axis the binned scores (log odds values), on the y-axis the Propensity. Note the returned propensities are following a slightly adjusted formula, see the table above. The bin that contains the calculated final score is highlighted."
   ]
  },
  {
   "cell_type": "code",
   "execution_count": 16,
   "metadata": {
    "execution": {
     "iopub.execute_input": "2024-05-16T15:39:56.394935Z",
     "iopub.status.busy": "2024-05-16T15:39:56.394768Z",
     "iopub.status.idle": "2024-05-16T15:39:56.415581Z",
     "shell.execute_reply": "2024-05-16T15:39:56.415013Z"
    },
    "tags": [
     "remove_input"
    ]
   },
   "outputs": [
    {
     "ename": "NameError",
     "evalue": "name 'propensity_mapping' is not defined",
     "output_type": "error",
     "traceback": [
      "\u001b[0;31m---------------------------------------------------------------------------\u001b[0m",
      "\u001b[0;31mNameError\u001b[0m                                 Traceback (most recent call last)",
      "Cell \u001b[0;32mIn[16], line 1\u001b[0m\n\u001b[0;32m----> 1\u001b[0m score \u001b[38;5;241m=\u001b[39m \u001b[43mpropensity_mapping\u001b[49m\u001b[38;5;241m.\u001b[39mdata\u001b[38;5;241m.\u001b[39mloc[\u001b[38;5;124m\"\u001b[39m\u001b[38;5;124mFinal Score\u001b[39m\u001b[38;5;124m\"\u001b[39m, \u001b[38;5;124m\"\u001b[39m\u001b[38;5;124mLogOdds\u001b[39m\u001b[38;5;124m\"\u001b[39m]\n\u001b[1;32m      2\u001b[0m score_bin \u001b[38;5;241m=\u001b[39m modelpredictors\u001b[38;5;241m.\u001b[39mfilter(pl\u001b[38;5;241m.\u001b[39mcol(\u001b[38;5;124m\"\u001b[39m\u001b[38;5;124mEntryType\u001b[39m\u001b[38;5;124m\"\u001b[39m) \u001b[38;5;241m==\u001b[39m \u001b[38;5;124m\"\u001b[39m\u001b[38;5;124mClassifier\u001b[39m\u001b[38;5;124m\"\u001b[39m)\u001b[38;5;241m.\u001b[39mselect(\n\u001b[1;32m      3\u001b[0m     pl\u001b[38;5;241m.\u001b[39mcol(\u001b[38;5;124m\"\u001b[39m\u001b[38;5;124mBinSymbol\u001b[39m\u001b[38;5;124m\"\u001b[39m)\u001b[38;5;241m.\u001b[39mwhere(\n\u001b[1;32m      4\u001b[0m         pl\u001b[38;5;241m.\u001b[39mlit(score)\u001b[38;5;241m.\u001b[39mis_between(pl\u001b[38;5;241m.\u001b[39mcol(\u001b[38;5;124m\"\u001b[39m\u001b[38;5;124mBinLowerBound\u001b[39m\u001b[38;5;124m\"\u001b[39m), pl\u001b[38;5;241m.\u001b[39mcol(\u001b[38;5;124m\"\u001b[39m\u001b[38;5;124mBinUpperBound\u001b[39m\u001b[38;5;124m\"\u001b[39m))\n\u001b[1;32m      5\u001b[0m     )\n\u001b[1;32m      6\u001b[0m )[\u001b[38;5;124m\"\u001b[39m\u001b[38;5;124mBinSymbol\u001b[39m\u001b[38;5;124m\"\u001b[39m][\u001b[38;5;241m0\u001b[39m]\n\u001b[1;32m      7\u001b[0m score_responses \u001b[38;5;241m=\u001b[39m modelpredictors\u001b[38;5;241m.\u001b[39mfilter(\n\u001b[1;32m      8\u001b[0m     (pl\u001b[38;5;241m.\u001b[39mcol(\u001b[38;5;124m\"\u001b[39m\u001b[38;5;124mEntryType\u001b[39m\u001b[38;5;124m\"\u001b[39m) \u001b[38;5;241m==\u001b[39m \u001b[38;5;124m\"\u001b[39m\u001b[38;5;124mClassifier\u001b[39m\u001b[38;5;124m\"\u001b[39m) \u001b[38;5;241m&\u001b[39m (pl\u001b[38;5;241m.\u001b[39mcol(\u001b[38;5;124m\"\u001b[39m\u001b[38;5;124mBinSymbol\u001b[39m\u001b[38;5;124m\"\u001b[39m) \u001b[38;5;241m==\u001b[39m score_bin)\n\u001b[1;32m      9\u001b[0m )[\u001b[38;5;124m\"\u001b[39m\u001b[38;5;124mBinResponseCount\u001b[39m\u001b[38;5;124m\"\u001b[39m][\u001b[38;5;241m0\u001b[39m]\n",
      "\u001b[0;31mNameError\u001b[0m: name 'propensity_mapping' is not defined"
     ]
    }
   ],
   "source": [
    "score = propensity_mapping.data.loc[\"Final Score\", \"LogOdds\"]\n",
    "score_bin = modelpredictors.filter(pl.col(\"EntryType\") == \"Classifier\").select(\n",
    "    pl.col(\"BinSymbol\").where(\n",
    "        pl.lit(score).is_between(pl.col(\"BinLowerBound\"), pl.col(\"BinUpperBound\"))\n",
    "    )\n",
    ")[\"BinSymbol\"][0]\n",
    "score_responses = modelpredictors.filter(\n",
    "    (pl.col(\"EntryType\") == \"Classifier\") & (pl.col(\"BinSymbol\") == score_bin)\n",
    ")[\"BinResponseCount\"][0]\n",
    "score_bin_index = (\n",
    "    modelpredictors.filter(pl.col(\"EntryType\") == \"Classifier\")[\"BinSymbol\"]\n",
    "    .to_list()\n",
    "    .index(score_bin)\n",
    ")\n",
    "score_propensity = classifier.to_pandas().iloc[score_bin_index][\n",
    "    \"Adjusted Propensity (%)\"\n",
    "]\n",
    "\n",
    "adjusted_propensity = (\n",
    "    modelpredictors.filter(pl.col(\"EntryType\") == \"Classifier\")\n",
    "    .with_columns(\n",
    "        AdjustedPropensity=((0.5 + BinPositives) / (1 + BinPositives + BinNegatives)),\n",
    "    )\n",
    "    .select(\n",
    "        pl.col(\"AdjustedPropensity\").where(\n",
    "            (pl.col(\"BinLowerBound\") < score) & (pl.col(\"BinUpperBound\") > score)\n",
    "        )\n",
    "    )[\"AdjustedPropensity\"][0]\n",
    "    * 100\n",
    ")\n",
    "adjusted_propensity = round(adjusted_propensity, 2)\n",
    "\n",
    "fig = ADMVisualisations.distribution_graph(\n",
    "    modelpredictors.filter(pl.col(\"EntryType\") == \"Classifier\"),\n",
    "    \"Propensity distribution\",\n",
    ").add_annotation(\n",
    "    x=score_bin,\n",
    "    y=score_propensity / 100,\n",
    "    text=f\"Returned propensity: {score_propensity:.2f}%\",\n",
    "    bgcolor=\"#FFFFFF\",\n",
    "    bordercolor=\"#000000\",\n",
    "    showarrow=False,\n",
    "    yref=\"y2\",\n",
    "    opacity=0.7,\n",
    ")\n",
    "bin_index = list(fig.data[0][\"x\"]).index(score_bin)\n",
    "fig.data[0][\"marker_color\"] = (\n",
    "    [\"grey\"] * bin_index\n",
    "    + [\"#1f77b4\"]\n",
    "    + [\"grey\"] * (classifier.shape[0] - bin_index - 1)\n",
    ")\n",
    "fig"
   ]
  }
 ],
 "metadata": {
  "kernelspec": {
   "display_name": "playground",
   "language": "python",
   "name": "python3"
  },
  "language_info": {
   "codemirror_mode": {
    "name": "ipython",
    "version": 3
   },
   "file_extension": ".py",
   "mimetype": "text/x-python",
   "name": "python",
   "nbconvert_exporter": "python",
   "pygments_lexer": "ipython3",
   "version": "3.11.9"
  }
 },
 "nbformat": 4,
 "nbformat_minor": 2
}
