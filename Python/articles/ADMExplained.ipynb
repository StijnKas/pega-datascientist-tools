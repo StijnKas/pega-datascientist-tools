{
 "cells": [
  {
   "cell_type": "markdown",
   "metadata": {},
   "source": [
    "# ADM Explained\n",
    "\n",
    "__Pega__\n",
    "\n",
    "__2023-03-15__\n",
    "\n",
    "This notebook shows exactly how all the values in an ADM model report are calculated. It also shows how the propensity is calculated for a particular customer.\n",
    "\n",
    "We use one of the shipped datamart exports for the example. This is a model very similar to one used in some of the ADM PowerPoint/Excel deep dive examples. To load your own data, see the vignette on ADM reporting for examples.\n",
    "\n",
    "For the example we use one particular model: AutoNew36Months over SMS. You can use your own data and select a different model.\n",
    "\n",
    "To explain the ADM model report, we use one of the IH predictors as an example. Swap for any other predictor when using different data.\n",
    "\n"
   ]
  },
  {
   "cell_type": "code",
   "execution_count": 1,
   "metadata": {
    "execution": {
     "iopub.execute_input": "2023-06-01T08:28:39.062880Z",
     "iopub.status.busy": "2023-06-01T08:28:39.062676Z",
     "iopub.status.idle": "2023-06-01T08:28:39.595573Z",
     "shell.execute_reply": "2023-06-01T08:28:39.594994Z"
    },
    "nbsphinx": "hidden"
   },
   "outputs": [],
   "source": [
    "# These lines are only for rendering in the docs, and are hidden through Jupyter tags\n",
    "# Do not run if you're running the notebook seperately\n",
    "\n",
    "import plotly.io as pio\n",
    "\n",
    "pio.renderers.default = \"notebook_connected\"\n",
    "\n",
    "import sys\n",
    "\n",
    "sys.path.append(\"../../../\")\n",
    "import pandas as pd\n",
    "pd.set_option('display.max_colwidth', 0)\n",
    "\n",
    "format_binning_derived = {'Positives':'{:.0f}', 'Negatives':'{:.0f}', 'Responses %':'{:.2f}', 'Positives %':'{:.2f}', 'Negatives %':'{:.2f}', 'Propensity':'{:.4f}'}\n",
    "format_lift = {'Positives': '{:.0f}', 'Negatives': '{:.0f}', 'Lift': '{:.4f}'}\n",
    "format_z_ratio = {'Positives':'{:.0f}', 'Negatives':'{:.0f}', 'Positives %':'{:.2f}', 'Negatives %':'{:.2f}', 'ZRatio':'{:.4f}'}\n",
    "format_log_odds = {'Positives':'{:.0f}', 'Negatives':'{:.0f}', 'Positives %':'{:.2f}', 'LogOdds %':'{:.4f}', 'ModifiedLogOdds':'{:.4f}'}\n",
    "format_classifier = {'Positives':'{:.0f}', 'Negatives':'{:.0f}'}"
   ]
  },
  {
   "cell_type": "code",
   "execution_count": 2,
   "metadata": {
    "execution": {
     "iopub.execute_input": "2023-06-01T08:28:39.599392Z",
     "iopub.status.busy": "2023-06-01T08:28:39.598256Z",
     "iopub.status.idle": "2023-06-01T08:28:40.601821Z",
     "shell.execute_reply": "2023-06-01T08:28:40.601244Z"
    },
    "tags": [
     "remove_input"
    ]
   },
   "outputs": [],
   "source": [
    "import polars as pl\n",
    "import numpy as np\n",
    "from plotly.subplots import make_subplots\n",
    "import plotly.graph_objects as go\n",
    "import plotly.express as px\n",
    "from typing import List\n",
    "\n",
    "from pdstools import datasets, cdh_utils\n",
    "from pdstools.plots.plots_plotly import ADMVisualisations\n",
    "\n",
    "\n",
    "pl.Config.set_fmt_str_lengths(100);"
   ]
  },
  {
   "cell_type": "code",
   "execution_count": 3,
   "metadata": {
    "execution": {
     "iopub.execute_input": "2023-06-01T08:28:40.606078Z",
     "iopub.status.busy": "2023-06-01T08:28:40.604941Z",
     "iopub.status.idle": "2023-06-01T08:28:41.748887Z",
     "shell.execute_reply": "2023-06-01T08:28:41.748272Z"
    }
   },
   "outputs": [],
   "source": [
    "dm = datasets.CDHSample(subset=False)\n",
    "\n",
    "model = dm.combinedData.filter(\n",
    "    (pl.col(\"Name\") == \"AutoNew36Months\") & (pl.col(\"Channel\") == \"SMS\")\n",
    ")\n",
    "\n",
    "modelpredictors = (\n",
    "    dm.combinedData.join(\n",
    "        model.select(pl.col(\"ModelID\").unique()), on=\"ModelID\", how=\"inner\"\n",
    "    )\n",
    "    .filter(pl.col(\"EntryType\") != \"Inactive\")\n",
    "    .with_columns(Action=pl.concat_str([\"Issue\", \"Group\"], separator=\"/\"),\n",
    "                  PredictorName=pl.col(\"PredictorName\").cast(pl.Utf8))\n",
    "    .collect()\n",
    ")\n",
    "\n",
    "predictorbinning = modelpredictors.filter(\n",
    "    pl.col(\"PredictorName\") == \"IH.SMS.Outbound.Accepted.pyHistoricalOutcomeCount\"\n",
    ").sort(\"BinIndex\")"
   ]
  },
  {
   "cell_type": "markdown",
   "metadata": {},
   "source": [
    "## Model Overview"
   ]
  },
  {
   "cell_type": "markdown",
   "metadata": {},
   "source": [
    "The selected model is shown below. Only the currently active predictors are used for the propensity calculation, so only showing those.\n",
    "\n"
   ]
  },
  {
   "cell_type": "code",
   "execution_count": 4,
   "metadata": {
    "execution": {
     "iopub.execute_input": "2023-06-01T08:28:41.752277Z",
     "iopub.status.busy": "2023-06-01T08:28:41.751951Z",
     "iopub.status.idle": "2023-06-01T08:28:41.991588Z",
     "shell.execute_reply": "2023-06-01T08:28:41.990913Z"
    },
    "tags": [
     "remove_input"
    ]
   },
   "outputs": [
    {
     "ename": "AttributeError",
     "evalue": "'ExprArrayNameSpace' object has no attribute 'join'",
     "output_type": "error",
     "traceback": [
      "\u001b[0;31m---------------------------------------------------------------------------\u001b[0m",
      "\u001b[0;31mAttributeError\u001b[0m                            Traceback (most recent call last)",
      "Cell \u001b[0;32mIn[4], line 6\u001b[0m\n\u001b[1;32m      1\u001b[0m modelpredictors\u001b[38;5;241m.\u001b[39mselect(\n\u001b[1;32m      2\u001b[0m     pl\u001b[38;5;241m.\u001b[39mcol(\u001b[38;5;124m\"\u001b[39m\u001b[38;5;124mAction\u001b[39m\u001b[38;5;124m\"\u001b[39m)\u001b[38;5;241m.\u001b[39munique(),\n\u001b[1;32m      3\u001b[0m     pl\u001b[38;5;241m.\u001b[39mcol(\u001b[38;5;124m\"\u001b[39m\u001b[38;5;124mChannel\u001b[39m\u001b[38;5;124m\"\u001b[39m)\u001b[38;5;241m.\u001b[39munique(),\n\u001b[1;32m      4\u001b[0m     pl\u001b[38;5;241m.\u001b[39mcol(\u001b[38;5;124m\"\u001b[39m\u001b[38;5;124mName\u001b[39m\u001b[38;5;124m\"\u001b[39m)\u001b[38;5;241m.\u001b[39munique(),\n\u001b[1;32m      5\u001b[0m     \u001b[43mpl\u001b[49m\u001b[38;5;241;43m.\u001b[39;49m\u001b[43mcol\u001b[49m\u001b[43m(\u001b[49m\u001b[38;5;124;43m\"\u001b[39;49m\u001b[38;5;124;43mPredictorName\u001b[39;49m\u001b[38;5;124;43m\"\u001b[39;49m\u001b[43m)\u001b[49m\u001b[38;5;241;43m.\u001b[39;49m\u001b[43munique\u001b[49m\u001b[43m(\u001b[49m\u001b[43m)\u001b[49m\u001b[38;5;241;43m.\u001b[39;49m\u001b[43msort\u001b[49m\u001b[43m(\u001b[49m\u001b[43m)\u001b[49m\u001b[38;5;241;43m.\u001b[39;49m\u001b[43mimplode\u001b[49m\u001b[43m(\u001b[49m\u001b[43m)\u001b[49m\n\u001b[0;32m----> 6\u001b[0m \u001b[43m    \u001b[49m\u001b[38;5;241;43m.\u001b[39;49m\u001b[43marr\u001b[49m\u001b[38;5;241;43m.\u001b[39;49m\u001b[43mjoin\u001b[49m(\u001b[38;5;124m\"\u001b[39m\u001b[38;5;124m, \u001b[39m\u001b[38;5;124m\"\u001b[39m)\u001b[38;5;241m.\u001b[39malias(\u001b[38;5;124m\"\u001b[39m\u001b[38;5;124mActive Predictors\u001b[39m\u001b[38;5;124m\"\u001b[39m),\n\u001b[1;32m      7\u001b[0m     (pl\u001b[38;5;241m.\u001b[39mcol(\u001b[38;5;124m\"\u001b[39m\u001b[38;5;124mPerformance\u001b[39m\u001b[38;5;124m\"\u001b[39m)\u001b[38;5;241m.\u001b[39munique() \u001b[38;5;241m*\u001b[39m \u001b[38;5;241m100\u001b[39m)\u001b[38;5;241m.\u001b[39malias(\u001b[38;5;124m\"\u001b[39m\u001b[38;5;124mModel Performance (AUC)\u001b[39m\u001b[38;5;124m\"\u001b[39m),\n\u001b[1;32m      8\u001b[0m )\u001b[38;5;241m.\u001b[39mto_pandas()\u001b[38;5;241m.\u001b[39mT\u001b[38;5;241m.\u001b[39mset_axis([\u001b[38;5;124m\"\u001b[39m\u001b[38;5;124mValues\u001b[39m\u001b[38;5;124m\"\u001b[39m], axis\u001b[38;5;241m=\u001b[39m\u001b[38;5;241m1\u001b[39m)\n",
      "\u001b[0;31mAttributeError\u001b[0m: 'ExprArrayNameSpace' object has no attribute 'join'"
     ]
    }
   ],
   "source": [
    "modelpredictors.select(\n",
    "    pl.col(\"Action\").unique(),\n",
    "    pl.col(\"Channel\").unique(),\n",
    "    pl.col(\"Name\").unique(),\n",
    "    pl.col(\"PredictorName\").unique().sort().implode()\n",
    "    .arr.join(\", \").alias(\"Active Predictors\"),\n",
    "    (pl.col(\"Performance\").unique() * 100).alias(\"Model Performance (AUC)\"),\n",
    ").to_pandas().T.set_axis([\"Values\"], axis=1)\n"
   ]
  },
  {
   "cell_type": "markdown",
   "metadata": {},
   "source": [
    "## Predictor binning for IH.SMS.Outbound.Accepted.pyHistoricalOutcomeCount\n"
   ]
  },
  {
   "attachments": {},
   "cell_type": "markdown",
   "metadata": {},
   "source": [
    "The ADM model report will show predictor binning similar to this, with all displayed data coming from fields in the ADM data mart. In subsequent sections we’ll show how all the data is derived from the number of positives and negatives in each of the bins.\n",
    "\n"
   ]
  },
  {
   "cell_type": "code",
   "execution_count": 5,
   "metadata": {
    "execution": {
     "iopub.execute_input": "2023-06-01T08:28:42.031212Z",
     "iopub.status.busy": "2023-06-01T08:28:42.030705Z",
     "iopub.status.idle": "2023-06-01T08:28:42.045480Z",
     "shell.execute_reply": "2023-06-01T08:28:42.045027Z"
    },
    "tags": [
     "remove_input"
    ]
   },
   "outputs": [
    {
     "data": {
      "text/html": [
       "<div>\n",
       "<style scoped>\n",
       "    .dataframe tbody tr th:only-of-type {\n",
       "        vertical-align: middle;\n",
       "    }\n",
       "\n",
       "    .dataframe tbody tr th {\n",
       "        vertical-align: top;\n",
       "    }\n",
       "\n",
       "    .dataframe thead th {\n",
       "        text-align: right;\n",
       "    }\n",
       "</style>\n",
       "<table border=\"1\" class=\"dataframe\">\n",
       "  <thead>\n",
       "    <tr style=\"text-align: right;\">\n",
       "      <th></th>\n",
       "      <th></th>\n",
       "      <th>Value</th>\n",
       "    </tr>\n",
       "  </thead>\n",
       "  <tbody>\n",
       "    <tr>\n",
       "      <th>0</th>\n",
       "      <td>Predictor Name</td>\n",
       "      <td>IH.SMS.Outbound.Accepted.pyHistoricalOutcomeCount</td>\n",
       "    </tr>\n",
       "    <tr>\n",
       "      <th>1</th>\n",
       "      <td># Responses</td>\n",
       "      <td>5602</td>\n",
       "    </tr>\n",
       "    <tr>\n",
       "      <th>2</th>\n",
       "      <td># Bins</td>\n",
       "      <td>5</td>\n",
       "    </tr>\n",
       "    <tr>\n",
       "      <th>3</th>\n",
       "      <td>Predictor Performance(AUC)</td>\n",
       "      <td>65.4153</td>\n",
       "    </tr>\n",
       "  </tbody>\n",
       "</table>\n",
       "</div>"
      ],
      "text/plain": [
       "                               \\\n",
       "0  Predictor Name               \n",
       "1  # Responses                  \n",
       "2  # Bins                       \n",
       "3  Predictor Performance(AUC)   \n",
       "\n",
       "                                               Value  \n",
       "0  IH.SMS.Outbound.Accepted.pyHistoricalOutcomeCount  \n",
       "1  5602                                               \n",
       "2  5                                                  \n",
       "3  65.4153                                            "
      ]
     },
     "execution_count": 5,
     "metadata": {},
     "output_type": "execute_result"
    }
   ],
   "source": [
    "predictorbinning.groupby(\"PredictorName\").agg(\n",
    "    pl.first(\"ResponseCount\").cast(pl.Int16).alias(\"# Responses\"),\n",
    "    pl.n_unique(\"BinIndex\").alias(\"# Bins\"),\n",
    "    (pl.first(\"PerformanceBin\") * 100).alias(\"Predictor Performance(AUC)\"),\n",
    ").rename({\"PredictorName\": \"Predictor Name\"}).transpose(include_header=True).rename(\n",
    "    {\"column\": \"\", \"column_0\": \"Value\"}\n",
    ").to_pandas()\n"
   ]
  },
  {
   "cell_type": "code",
   "execution_count": 6,
   "metadata": {
    "execution": {
     "iopub.execute_input": "2023-06-01T08:28:42.048099Z",
     "iopub.status.busy": "2023-06-01T08:28:42.047630Z",
     "iopub.status.idle": "2023-06-01T08:28:42.062256Z",
     "shell.execute_reply": "2023-06-01T08:28:42.061677Z"
    },
    "tags": [
     "remove_input"
    ]
   },
   "outputs": [
    {
     "data": {
      "text/html": [
       "<div>\n",
       "<style scoped>\n",
       "    .dataframe tbody tr th:only-of-type {\n",
       "        vertical-align: middle;\n",
       "    }\n",
       "\n",
       "    .dataframe tbody tr th {\n",
       "        vertical-align: top;\n",
       "    }\n",
       "\n",
       "    .dataframe thead th {\n",
       "        text-align: right;\n",
       "    }\n",
       "</style>\n",
       "<table border=\"1\" class=\"dataframe\">\n",
       "  <thead>\n",
       "    <tr style=\"text-align: right;\">\n",
       "      <th></th>\n",
       "      <th>Range/Symbol</th>\n",
       "      <th>Responses (%)</th>\n",
       "      <th>Positives</th>\n",
       "      <th>Positives (%)</th>\n",
       "      <th>Negatives</th>\n",
       "      <th>Negatives (%)</th>\n",
       "      <th>Propensity (%)</th>\n",
       "      <th>ZRatio</th>\n",
       "      <th>Lift</th>\n",
       "    </tr>\n",
       "  </thead>\n",
       "  <tbody>\n",
       "    <tr>\n",
       "      <th>0</th>\n",
       "      <td>MISSING</td>\n",
       "      <td>0.001</td>\n",
       "      <td>0.0</td>\n",
       "      <td>0.000</td>\n",
       "      <td>5.0</td>\n",
       "      <td>0.001</td>\n",
       "      <td>0.0000</td>\n",
       "      <td>-2.237073</td>\n",
       "      <td>0.000000</td>\n",
       "    </tr>\n",
       "    <tr>\n",
       "      <th>1</th>\n",
       "      <td>&lt;7.08</td>\n",
       "      <td>0.395</td>\n",
       "      <td>7.0</td>\n",
       "      <td>0.194</td>\n",
       "      <td>2208.0</td>\n",
       "      <td>0.397</td>\n",
       "      <td>0.0032</td>\n",
       "      <td>-3.051114</td>\n",
       "      <td>0.491773</td>\n",
       "    </tr>\n",
       "    <tr>\n",
       "      <th>2</th>\n",
       "      <td>[7.08, 12.04&gt;</td>\n",
       "      <td>0.345</td>\n",
       "      <td>11.0</td>\n",
       "      <td>0.306</td>\n",
       "      <td>1919.0</td>\n",
       "      <td>0.345</td>\n",
       "      <td>0.0057</td>\n",
       "      <td>-0.509054</td>\n",
       "      <td>0.886903</td>\n",
       "    </tr>\n",
       "    <tr>\n",
       "      <th>3</th>\n",
       "      <td>[12.04, 18.04&gt;</td>\n",
       "      <td>0.195</td>\n",
       "      <td>12.0</td>\n",
       "      <td>0.333</td>\n",
       "      <td>1082.0</td>\n",
       "      <td>0.194</td>\n",
       "      <td>0.0110</td>\n",
       "      <td>1.764386</td>\n",
       "      <td>1.706886</td>\n",
       "    </tr>\n",
       "    <tr>\n",
       "      <th>4</th>\n",
       "      <td>&gt;=18.04</td>\n",
       "      <td>0.064</td>\n",
       "      <td>6.0</td>\n",
       "      <td>0.167</td>\n",
       "      <td>352.0</td>\n",
       "      <td>0.063</td>\n",
       "      <td>0.0168</td>\n",
       "      <td>1.662827</td>\n",
       "      <td>2.608007</td>\n",
       "    </tr>\n",
       "  </tbody>\n",
       "</table>\n",
       "</div>"
      ],
      "text/plain": [
       "     Range/Symbol  Responses (%)  Positives  Positives (%)  Negatives  \\\n",
       "0  MISSING         0.001          0.0        0.000          5.0         \n",
       "1  <7.08           0.395          7.0        0.194          2208.0      \n",
       "2  [7.08, 12.04>   0.345          11.0       0.306          1919.0      \n",
       "3  [12.04, 18.04>  0.195          12.0       0.333          1082.0      \n",
       "4  >=18.04         0.064          6.0        0.167          352.0       \n",
       "\n",
       "   Negatives (%)  Propensity (%)    ZRatio      Lift  \n",
       "0  0.001          0.0000         -2.237073  0.000000  \n",
       "1  0.397          0.0032         -3.051114  0.491773  \n",
       "2  0.345          0.0057         -0.509054  0.886903  \n",
       "3  0.194          0.0110          1.764386  1.706886  \n",
       "4  0.063          0.0168          1.662827  2.608007  "
      ]
     },
     "execution_count": 6,
     "metadata": {},
     "output_type": "execute_result"
    }
   ],
   "source": [
    "BinPositives = pl.col(\"BinPositives\")\n",
    "BinNegatives = pl.col(\"BinNegatives\")\n",
    "sumPositives = pl.sum(\"BinPositives\")\n",
    "sumNegatives = pl.sum(\"BinNegatives\")\n",
    "\n",
    "predictorbinning.select(\n",
    "    pl.col(\"BinSymbol\").alias(\"Range/Symbol\"),\n",
    "    ((BinPositives + BinNegatives) / (sumPositives + sumNegatives))\n",
    "    .round(3)\n",
    "    .alias(\"Responses (%)\"),\n",
    "    BinPositives.alias(\"Positives\"),\n",
    "    (BinPositives / sumPositives).round(3).alias(\"Positives (%)\"),\n",
    "    BinNegatives.alias(\"Negatives\"),\n",
    "    (BinNegatives / sumNegatives).round(3).alias(\"Negatives (%)\"),\n",
    "    (BinPositives / (BinPositives + BinNegatives)).round(4).alias(\"Propensity (%)\"),\n",
    "    pl.col(\"ZRatio\"),\n",
    "    pl.col(\"Lift\"),\n",
    ").to_pandas()\n"
   ]
  },
  {
   "cell_type": "markdown",
   "metadata": {},
   "source": [
    "## Bin Statistics"
   ]
  },
  {
   "cell_type": "markdown",
   "metadata": {},
   "source": [
    "### Positive and Negative ratios"
   ]
  },
  {
   "cell_type": "markdown",
   "metadata": {},
   "source": [
    "Internally, ADM only keeps track of the total counts of positive and negative responses in each bin. Everything else is derived from those numbers. The percentages and totals are trivially derived, and the propensity is just the number of positives divided by the total. The numbers calculated here match the numbers from the datamart table exactly."
   ]
  },
  {
   "cell_type": "code",
   "execution_count": 7,
   "metadata": {
    "execution": {
     "iopub.execute_input": "2023-06-01T08:28:42.064990Z",
     "iopub.status.busy": "2023-06-01T08:28:42.064555Z",
     "iopub.status.idle": "2023-06-01T08:28:42.123089Z",
     "shell.execute_reply": "2023-06-01T08:28:42.122442Z"
    }
   },
   "outputs": [
    {
     "data": {
      "text/html": [
       "<style type=\"text/css\">\n",
       "#T_da27a_row0_col3, #T_da27a_row0_col4, #T_da27a_row0_col5, #T_da27a_row0_col6, #T_da27a_row1_col3, #T_da27a_row1_col4, #T_da27a_row1_col5, #T_da27a_row1_col6, #T_da27a_row2_col3, #T_da27a_row2_col4, #T_da27a_row2_col5, #T_da27a_row2_col6, #T_da27a_row3_col3, #T_da27a_row3_col4, #T_da27a_row3_col5, #T_da27a_row3_col6, #T_da27a_row4_col3, #T_da27a_row4_col4, #T_da27a_row4_col5, #T_da27a_row4_col6 {\n",
       "  color: #0000FF;\n",
       "}\n",
       "</style>\n",
       "<table id=\"T_da27a\">\n",
       "  <thead>\n",
       "    <tr>\n",
       "      <th class=\"blank level0\" >&nbsp;</th>\n",
       "      <th id=\"T_da27a_level0_col0\" class=\"col_heading level0 col0\" >Range/Symbol</th>\n",
       "      <th id=\"T_da27a_level0_col1\" class=\"col_heading level0 col1\" >Positives</th>\n",
       "      <th id=\"T_da27a_level0_col2\" class=\"col_heading level0 col2\" >Negatives</th>\n",
       "      <th id=\"T_da27a_level0_col3\" class=\"col_heading level0 col3\" >Responses %</th>\n",
       "      <th id=\"T_da27a_level0_col4\" class=\"col_heading level0 col4\" >Positives %</th>\n",
       "      <th id=\"T_da27a_level0_col5\" class=\"col_heading level0 col5\" >Negatives %</th>\n",
       "      <th id=\"T_da27a_level0_col6\" class=\"col_heading level0 col6\" >Propensity</th>\n",
       "    </tr>\n",
       "  </thead>\n",
       "  <tbody>\n",
       "    <tr>\n",
       "      <th id=\"T_da27a_level0_row0\" class=\"row_heading level0 row0\" >0</th>\n",
       "      <td id=\"T_da27a_row0_col0\" class=\"data row0 col0\" >MISSING</td>\n",
       "      <td id=\"T_da27a_row0_col1\" class=\"data row0 col1\" >0</td>\n",
       "      <td id=\"T_da27a_row0_col2\" class=\"data row0 col2\" >5</td>\n",
       "      <td id=\"T_da27a_row0_col3\" class=\"data row0 col3\" >0.09</td>\n",
       "      <td id=\"T_da27a_row0_col4\" class=\"data row0 col4\" >0.00</td>\n",
       "      <td id=\"T_da27a_row0_col5\" class=\"data row0 col5\" >0.09</td>\n",
       "      <td id=\"T_da27a_row0_col6\" class=\"data row0 col6\" >0.0000</td>\n",
       "    </tr>\n",
       "    <tr>\n",
       "      <th id=\"T_da27a_level0_row1\" class=\"row_heading level0 row1\" >1</th>\n",
       "      <td id=\"T_da27a_row1_col0\" class=\"data row1 col0\" ><7.08</td>\n",
       "      <td id=\"T_da27a_row1_col1\" class=\"data row1 col1\" >7</td>\n",
       "      <td id=\"T_da27a_row1_col2\" class=\"data row1 col2\" >2208</td>\n",
       "      <td id=\"T_da27a_row1_col3\" class=\"data row1 col3\" >39.54</td>\n",
       "      <td id=\"T_da27a_row1_col4\" class=\"data row1 col4\" >19.44</td>\n",
       "      <td id=\"T_da27a_row1_col5\" class=\"data row1 col5\" >39.67</td>\n",
       "      <td id=\"T_da27a_row1_col6\" class=\"data row1 col6\" >0.0032</td>\n",
       "    </tr>\n",
       "    <tr>\n",
       "      <th id=\"T_da27a_level0_row2\" class=\"row_heading level0 row2\" >2</th>\n",
       "      <td id=\"T_da27a_row2_col0\" class=\"data row2 col0\" >[7.08, 12.04></td>\n",
       "      <td id=\"T_da27a_row2_col1\" class=\"data row2 col1\" >11</td>\n",
       "      <td id=\"T_da27a_row2_col2\" class=\"data row2 col2\" >1919</td>\n",
       "      <td id=\"T_da27a_row2_col3\" class=\"data row2 col3\" >34.45</td>\n",
       "      <td id=\"T_da27a_row2_col4\" class=\"data row2 col4\" >30.56</td>\n",
       "      <td id=\"T_da27a_row2_col5\" class=\"data row2 col5\" >34.48</td>\n",
       "      <td id=\"T_da27a_row2_col6\" class=\"data row2 col6\" >0.0057</td>\n",
       "    </tr>\n",
       "    <tr>\n",
       "      <th id=\"T_da27a_level0_row3\" class=\"row_heading level0 row3\" >3</th>\n",
       "      <td id=\"T_da27a_row3_col0\" class=\"data row3 col0\" >[12.04, 18.04></td>\n",
       "      <td id=\"T_da27a_row3_col1\" class=\"data row3 col1\" >12</td>\n",
       "      <td id=\"T_da27a_row3_col2\" class=\"data row3 col2\" >1082</td>\n",
       "      <td id=\"T_da27a_row3_col3\" class=\"data row3 col3\" >19.53</td>\n",
       "      <td id=\"T_da27a_row3_col4\" class=\"data row3 col4\" >33.33</td>\n",
       "      <td id=\"T_da27a_row3_col5\" class=\"data row3 col5\" >19.44</td>\n",
       "      <td id=\"T_da27a_row3_col6\" class=\"data row3 col6\" >0.0110</td>\n",
       "    </tr>\n",
       "    <tr>\n",
       "      <th id=\"T_da27a_level0_row4\" class=\"row_heading level0 row4\" >4</th>\n",
       "      <td id=\"T_da27a_row4_col0\" class=\"data row4 col0\" >>=18.04</td>\n",
       "      <td id=\"T_da27a_row4_col1\" class=\"data row4 col1\" >6</td>\n",
       "      <td id=\"T_da27a_row4_col2\" class=\"data row4 col2\" >352</td>\n",
       "      <td id=\"T_da27a_row4_col3\" class=\"data row4 col3\" >6.39</td>\n",
       "      <td id=\"T_da27a_row4_col4\" class=\"data row4 col4\" >16.67</td>\n",
       "      <td id=\"T_da27a_row4_col5\" class=\"data row4 col5\" >6.32</td>\n",
       "      <td id=\"T_da27a_row4_col6\" class=\"data row4 col6\" >0.0168</td>\n",
       "    </tr>\n",
       "  </tbody>\n",
       "</table>\n"
      ],
      "text/plain": [
       "<pandas.io.formats.style.Styler at 0x7f52b8c3dcd0>"
      ]
     },
     "execution_count": 7,
     "metadata": {},
     "output_type": "execute_result"
    }
   ],
   "source": [
    "binningDerived = predictorbinning.select(\n",
    "    pl.col(\"BinSymbol\").alias(\"Range/Symbol\"),\n",
    "    BinPositives.alias(\"Positives\"),\n",
    "    BinNegatives.alias(\"Negatives\"),\n",
    "    (((BinPositives + BinNegatives) / (sumPositives + sumNegatives)) * 100)\n",
    "    .round(2)\n",
    "    .alias(\"Responses %\"),\n",
    "    ((BinPositives / sumPositives) * 100).round(2).alias(\"Positives %\"),\n",
    "    ((BinNegatives / sumNegatives) * 100).round(2).alias(\"Negatives %\"),\n",
    "    (BinPositives / (BinPositives + BinNegatives)).round(4).alias(\"Propensity\"),\n",
    ")\n",
    "binningDerived.to_pandas(use_pyarrow_extension_array=True).style.format(\n",
    "    format_binning_derived\n",
    ").set_properties(\n",
    "    color=\"#0000FF\", subset=[\"Responses %\", \"Positives %\", \"Negatives %\", \"Propensity\"]\n",
    ")"
   ]
  },
  {
   "cell_type": "markdown",
   "metadata": {},
   "source": [
    "### Lift"
   ]
  },
  {
   "attachments": {},
   "cell_type": "markdown",
   "metadata": {},
   "source": [
    "Lift is the ratio of the propensity in a particular bin over the average propensity. So a value of 1 is the average, larger than 1 means higher propensity, smaller means lower propensity:"
   ]
  },
  {
   "cell_type": "code",
   "execution_count": 8,
   "metadata": {
    "execution": {
     "iopub.execute_input": "2023-06-01T08:28:42.126059Z",
     "iopub.status.busy": "2023-06-01T08:28:42.125635Z",
     "iopub.status.idle": "2023-06-01T08:28:42.135313Z",
     "shell.execute_reply": "2023-06-01T08:28:42.134749Z"
    }
   },
   "outputs": [
    {
     "data": {
      "text/html": [
       "<style type=\"text/css\">\n",
       "#T_ddc43_row0_col3, #T_ddc43_row1_col3, #T_ddc43_row2_col3, #T_ddc43_row3_col3, #T_ddc43_row4_col3 {\n",
       "  color: blue;\n",
       "}\n",
       "</style>\n",
       "<table id=\"T_ddc43\">\n",
       "  <thead>\n",
       "    <tr>\n",
       "      <th class=\"blank level0\" >&nbsp;</th>\n",
       "      <th id=\"T_ddc43_level0_col0\" class=\"col_heading level0 col0\" >Range/Symbol</th>\n",
       "      <th id=\"T_ddc43_level0_col1\" class=\"col_heading level0 col1\" >Positives</th>\n",
       "      <th id=\"T_ddc43_level0_col2\" class=\"col_heading level0 col2\" >Negatives</th>\n",
       "      <th id=\"T_ddc43_level0_col3\" class=\"col_heading level0 col3\" >Lift</th>\n",
       "    </tr>\n",
       "  </thead>\n",
       "  <tbody>\n",
       "    <tr>\n",
       "      <th id=\"T_ddc43_level0_row0\" class=\"row_heading level0 row0\" >0</th>\n",
       "      <td id=\"T_ddc43_row0_col0\" class=\"data row0 col0\" >MISSING</td>\n",
       "      <td id=\"T_ddc43_row0_col1\" class=\"data row0 col1\" >0</td>\n",
       "      <td id=\"T_ddc43_row0_col2\" class=\"data row0 col2\" >5</td>\n",
       "      <td id=\"T_ddc43_row0_col3\" class=\"data row0 col3\" >0.0000</td>\n",
       "    </tr>\n",
       "    <tr>\n",
       "      <th id=\"T_ddc43_level0_row1\" class=\"row_heading level0 row1\" >1</th>\n",
       "      <td id=\"T_ddc43_row1_col0\" class=\"data row1 col0\" ><7.08</td>\n",
       "      <td id=\"T_ddc43_row1_col1\" class=\"data row1 col1\" >7</td>\n",
       "      <td id=\"T_ddc43_row1_col2\" class=\"data row1 col2\" >2208</td>\n",
       "      <td id=\"T_ddc43_row1_col3\" class=\"data row1 col3\" >0.4918</td>\n",
       "    </tr>\n",
       "    <tr>\n",
       "      <th id=\"T_ddc43_level0_row2\" class=\"row_heading level0 row2\" >2</th>\n",
       "      <td id=\"T_ddc43_row2_col0\" class=\"data row2 col0\" >[7.08, 12.04></td>\n",
       "      <td id=\"T_ddc43_row2_col1\" class=\"data row2 col1\" >11</td>\n",
       "      <td id=\"T_ddc43_row2_col2\" class=\"data row2 col2\" >1919</td>\n",
       "      <td id=\"T_ddc43_row2_col3\" class=\"data row2 col3\" >0.8869</td>\n",
       "    </tr>\n",
       "    <tr>\n",
       "      <th id=\"T_ddc43_level0_row3\" class=\"row_heading level0 row3\" >3</th>\n",
       "      <td id=\"T_ddc43_row3_col0\" class=\"data row3 col0\" >[12.04, 18.04></td>\n",
       "      <td id=\"T_ddc43_row3_col1\" class=\"data row3 col1\" >12</td>\n",
       "      <td id=\"T_ddc43_row3_col2\" class=\"data row3 col2\" >1082</td>\n",
       "      <td id=\"T_ddc43_row3_col3\" class=\"data row3 col3\" >1.7069</td>\n",
       "    </tr>\n",
       "    <tr>\n",
       "      <th id=\"T_ddc43_level0_row4\" class=\"row_heading level0 row4\" >4</th>\n",
       "      <td id=\"T_ddc43_row4_col0\" class=\"data row4 col0\" >>=18.04</td>\n",
       "      <td id=\"T_ddc43_row4_col1\" class=\"data row4 col1\" >6</td>\n",
       "      <td id=\"T_ddc43_row4_col2\" class=\"data row4 col2\" >352</td>\n",
       "      <td id=\"T_ddc43_row4_col3\" class=\"data row4 col3\" >2.6080</td>\n",
       "    </tr>\n",
       "  </tbody>\n",
       "</table>\n"
      ],
      "text/plain": [
       "<pandas.io.formats.style.Styler at 0x7f52500c0390>"
      ]
     },
     "execution_count": 8,
     "metadata": {},
     "output_type": "execute_result"
    }
   ],
   "source": [
    "Positives = pl.col(\"Positives\")\n",
    "Negatives = pl.col(\"Negatives\")\n",
    "sumPositives = pl.sum(\"Positives\")\n",
    "sumNegatives = pl.sum(\"Negatives\")\n",
    "binningDerived.select(\n",
    "    \"Range/Symbol\",\n",
    "    \"Positives\",\n",
    "    \"Negatives\",\n",
    "    (\n",
    "        (Positives / (Positives + Negatives))\n",
    "        / (sumPositives / (Positives + Negatives).sum())\n",
    "    ).alias(\"Lift\"),\n",
    ").to_pandas().style.format(format_lift).set_properties(\n",
    "    **{\"color\": \"blue\"}, subset=[\"Lift\"]\n",
    ")"
   ]
  },
  {
   "cell_type": "markdown",
   "metadata": {},
   "source": [
    "### Z-Ratio"
   ]
  },
  {
   "attachments": {},
   "cell_type": "markdown",
   "metadata": {},
   "source": [
    "The Z-Ratio is also a measure of the how the propensity in a bin differs from the average, but takes into account the size of the bin and thus is statistically more relevant. It represents the number of standard deviations from the average, so centers around 0. The wider the spread, the better the predictor is.\n",
    "$$\\frac{posFraction-negFraction}{\\sqrt(\\frac{posFraction*(1-posFraction)}{\\sum positives}+\\frac{negFraction*(1-negFraction)}{\\sum negatives})}$$ \n",
    "\n",
    "See the calculation here, which is also included in `cdh_utils' zRatio()` <https://pegasystems.github.io/pega-datascientist-tools/Python/autoapi/pdstools/utils/cdh_utils/index.html#pdstools.utils.cdh_utils.zRatio>`_"
   ]
  },
  {
   "cell_type": "code",
   "execution_count": 9,
   "metadata": {
    "execution": {
     "iopub.execute_input": "2023-06-01T08:28:42.137706Z",
     "iopub.status.busy": "2023-06-01T08:28:42.137292Z",
     "iopub.status.idle": "2023-06-01T08:28:42.149357Z",
     "shell.execute_reply": "2023-06-01T08:28:42.148810Z"
    }
   },
   "outputs": [
    {
     "data": {
      "text/html": [
       "<style type=\"text/css\">\n",
       "#T_60ad7_row0_col5, #T_60ad7_row1_col5, #T_60ad7_row2_col5, #T_60ad7_row3_col5, #T_60ad7_row4_col5 {\n",
       "  color: blue;\n",
       "}\n",
       "</style>\n",
       "<table id=\"T_60ad7\">\n",
       "  <thead>\n",
       "    <tr>\n",
       "      <th class=\"blank level0\" >&nbsp;</th>\n",
       "      <th id=\"T_60ad7_level0_col0\" class=\"col_heading level0 col0\" >Range/Symbol</th>\n",
       "      <th id=\"T_60ad7_level0_col1\" class=\"col_heading level0 col1\" >Positives</th>\n",
       "      <th id=\"T_60ad7_level0_col2\" class=\"col_heading level0 col2\" >Negatives</th>\n",
       "      <th id=\"T_60ad7_level0_col3\" class=\"col_heading level0 col3\" >Positives %</th>\n",
       "      <th id=\"T_60ad7_level0_col4\" class=\"col_heading level0 col4\" >Negatives %</th>\n",
       "      <th id=\"T_60ad7_level0_col5\" class=\"col_heading level0 col5\" >ZRatio</th>\n",
       "    </tr>\n",
       "  </thead>\n",
       "  <tbody>\n",
       "    <tr>\n",
       "      <th id=\"T_60ad7_level0_row0\" class=\"row_heading level0 row0\" >0</th>\n",
       "      <td id=\"T_60ad7_row0_col0\" class=\"data row0 col0\" >MISSING</td>\n",
       "      <td id=\"T_60ad7_row0_col1\" class=\"data row0 col1\" >0</td>\n",
       "      <td id=\"T_60ad7_row0_col2\" class=\"data row0 col2\" >5</td>\n",
       "      <td id=\"T_60ad7_row0_col3\" class=\"data row0 col3\" >0.00</td>\n",
       "      <td id=\"T_60ad7_row0_col4\" class=\"data row0 col4\" >0.09</td>\n",
       "      <td id=\"T_60ad7_row0_col5\" class=\"data row0 col5\" >-2.2371</td>\n",
       "    </tr>\n",
       "    <tr>\n",
       "      <th id=\"T_60ad7_level0_row1\" class=\"row_heading level0 row1\" >1</th>\n",
       "      <td id=\"T_60ad7_row1_col0\" class=\"data row1 col0\" ><7.08</td>\n",
       "      <td id=\"T_60ad7_row1_col1\" class=\"data row1 col1\" >7</td>\n",
       "      <td id=\"T_60ad7_row1_col2\" class=\"data row1 col2\" >2208</td>\n",
       "      <td id=\"T_60ad7_row1_col3\" class=\"data row1 col3\" >19.44</td>\n",
       "      <td id=\"T_60ad7_row1_col4\" class=\"data row1 col4\" >39.67</td>\n",
       "      <td id=\"T_60ad7_row1_col5\" class=\"data row1 col5\" >-3.0511</td>\n",
       "    </tr>\n",
       "    <tr>\n",
       "      <th id=\"T_60ad7_level0_row2\" class=\"row_heading level0 row2\" >2</th>\n",
       "      <td id=\"T_60ad7_row2_col0\" class=\"data row2 col0\" >[7.08, 12.04></td>\n",
       "      <td id=\"T_60ad7_row2_col1\" class=\"data row2 col1\" >11</td>\n",
       "      <td id=\"T_60ad7_row2_col2\" class=\"data row2 col2\" >1919</td>\n",
       "      <td id=\"T_60ad7_row2_col3\" class=\"data row2 col3\" >30.56</td>\n",
       "      <td id=\"T_60ad7_row2_col4\" class=\"data row2 col4\" >34.48</td>\n",
       "      <td id=\"T_60ad7_row2_col5\" class=\"data row2 col5\" >-0.5091</td>\n",
       "    </tr>\n",
       "    <tr>\n",
       "      <th id=\"T_60ad7_level0_row3\" class=\"row_heading level0 row3\" >3</th>\n",
       "      <td id=\"T_60ad7_row3_col0\" class=\"data row3 col0\" >[12.04, 18.04></td>\n",
       "      <td id=\"T_60ad7_row3_col1\" class=\"data row3 col1\" >12</td>\n",
       "      <td id=\"T_60ad7_row3_col2\" class=\"data row3 col2\" >1082</td>\n",
       "      <td id=\"T_60ad7_row3_col3\" class=\"data row3 col3\" >33.33</td>\n",
       "      <td id=\"T_60ad7_row3_col4\" class=\"data row3 col4\" >19.44</td>\n",
       "      <td id=\"T_60ad7_row3_col5\" class=\"data row3 col5\" >1.7644</td>\n",
       "    </tr>\n",
       "    <tr>\n",
       "      <th id=\"T_60ad7_level0_row4\" class=\"row_heading level0 row4\" >4</th>\n",
       "      <td id=\"T_60ad7_row4_col0\" class=\"data row4 col0\" >>=18.04</td>\n",
       "      <td id=\"T_60ad7_row4_col1\" class=\"data row4 col1\" >6</td>\n",
       "      <td id=\"T_60ad7_row4_col2\" class=\"data row4 col2\" >352</td>\n",
       "      <td id=\"T_60ad7_row4_col3\" class=\"data row4 col3\" >16.67</td>\n",
       "      <td id=\"T_60ad7_row4_col4\" class=\"data row4 col4\" >6.32</td>\n",
       "      <td id=\"T_60ad7_row4_col5\" class=\"data row4 col5\" >1.6628</td>\n",
       "    </tr>\n",
       "  </tbody>\n",
       "</table>\n"
      ],
      "text/plain": [
       "<pandas.io.formats.style.Styler at 0x7f52768d3b10>"
      ]
     },
     "execution_count": 9,
     "metadata": {},
     "output_type": "execute_result"
    }
   ],
   "source": [
    "def zRatio(\n",
    "    posCol: pl.Expr = pl.col(\"BinPositives\"), negCol: pl.Expr = pl.col(\"BinNegatives\")\n",
    ") -> pl.Expr:\n",
    "    def getFracs(posCol=pl.col(\"BinPositives\"), negCol=pl.col(\"BinNegatives\")):\n",
    "        return posCol / posCol.sum(), negCol / negCol.sum()\n",
    "\n",
    "    def zRatioimpl(\n",
    "        posFractionCol=pl.col(\"posFraction\"),\n",
    "        negFractionCol=pl.col(\"negFraction\"),\n",
    "        PositivesCol=pl.sum(\"BinPositives\"),\n",
    "        NegativesCol=pl.sum(\"BinNegatives\"),\n",
    "    ):\n",
    "        return (\n",
    "            (posFractionCol - negFractionCol)\n",
    "            / (\n",
    "                (posFractionCol * (1 - posFractionCol) / PositivesCol)\n",
    "                + (negFractionCol * (1 - negFractionCol) / NegativesCol)\n",
    "            ).sqrt()\n",
    "        ).alias(\"ZRatio\")\n",
    "\n",
    "    return zRatioimpl(*getFracs(posCol, negCol), posCol.sum(), negCol.sum())\n",
    "\n",
    "\n",
    "binningDerived.select(\n",
    "    \"Range/Symbol\", \"Positives\", \"Negatives\", \"Positives %\", \"Negatives %\"\n",
    ").with_columns(zRatio(Positives, Negatives)).to_pandas().style.format(\n",
    "    format_z_ratio\n",
    ").set_properties(\n",
    "    **{\"color\": \"blue\"}, subset=[\"ZRatio\"]\n",
    ")"
   ]
  },
  {
   "cell_type": "markdown",
   "metadata": {},
   "source": [
    "## Predictor AUC\n"
   ]
  },
  {
   "attachments": {},
   "cell_type": "markdown",
   "metadata": {},
   "source": [
    "The predictor AUC is the univariate performance of this predictor against the outcome. This too can be derived from the positives and negatives and\n",
    "there is  a convenient function in pdstools to calculate it directly from the positives and negatives.\n",
    "\n",
    "Again, this function is implemented in cdh_utils: [`cdh_utils.auc_from_bincounts()`](https://pegasystems.github.io/pega-datascientist-tools/Python/autoapi/pdstools/utils/cdh_utils/index.html#pdstools.utils.cdh_utils.auc_from_bincounts)"
   ]
  },
  {
   "cell_type": "code",
   "execution_count": 10,
   "metadata": {
    "execution": {
     "iopub.execute_input": "2023-06-01T08:28:42.151608Z",
     "iopub.status.busy": "2023-06-01T08:28:42.151327Z",
     "iopub.status.idle": "2023-06-01T08:28:42.223037Z",
     "shell.execute_reply": "2023-06-01T08:28:42.222421Z"
    }
   },
   "outputs": [
    {
     "data": {
      "text/html": [
       "        <script type=\"text/javascript\">\n",
       "        window.PlotlyConfig = {MathJaxConfig: 'local'};\n",
       "        if (window.MathJax && window.MathJax.Hub && window.MathJax.Hub.Config) {window.MathJax.Hub.Config({SVG: {font: \"STIX-Web\"}});}\n",
       "        if (typeof require !== 'undefined') {\n",
       "        require.undef(\"plotly\");\n",
       "        requirejs.config({\n",
       "            paths: {\n",
       "                'plotly': ['https://cdn.plot.ly/plotly-2.20.0.min']\n",
       "            }\n",
       "        });\n",
       "        require(['plotly'], function(Plotly) {\n",
       "            window._Plotly = Plotly;\n",
       "        });\n",
       "        }\n",
       "        </script>\n",
       "        "
      ]
     },
     "metadata": {},
     "output_type": "display_data"
    },
    {
     "data": {
      "text/html": [
       "<div>                            <div id=\"083165ac-90ac-460e-8367-d483282a8864\" class=\"plotly-graph-div\" style=\"height:700px; width:700px;\"></div>            <script type=\"text/javascript\">                require([\"plotly\"], function(Plotly) {                    window.PLOTLYENV=window.PLOTLYENV || {};                                    if (document.getElementById(\"083165ac-90ac-460e-8367-d483282a8864\")) {                    Plotly.newPlot(                        \"083165ac-90ac-460e-8367-d483282a8864\",                        [{\"hovertemplate\":\"Specificity=%{x}<br>Sensitivity=%{y}<extra></extra>\",\"legendgroup\":\"\",\"line\":{\"color\":\"#1F77B4\",\"dash\":\"solid\"},\"marker\":{\"symbol\":\"circle\"},\"mode\":\"lines\",\"name\":\"\",\"orientation\":\"v\",\"showlegend\":false,\"x\":[1.0,0.8333333134651184,0.5,0.1944444477558136,0.0],\"xaxis\":\"x\",\"y\":[0.0008983111474663019,0.3975925147533417,0.7423643469810486,0.9367588758468628,1.0],\"yaxis\":\"y\",\"type\":\"scatter\"}],                        {\"template\":{\"data\":{\"scatter\":[{\"type\":\"scatter\"}]}},\"xaxis\":{\"anchor\":\"y\",\"domain\":[0.0,1.0],\"title\":{\"text\":\"Specificity\"},\"range\":[1,0]},\"yaxis\":{\"anchor\":\"x\",\"domain\":[0.0,1.0],\"title\":{\"text\":\"Sensitivity\"}},\"legend\":{\"tracegroupgap\":0},\"title\":{\"text\":\"AUC = 0.654\"},\"height\":700,\"width\":700,\"shapes\":[{\"line\":{\"dash\":\"dash\"},\"type\":\"line\",\"x0\":1,\"x1\":0,\"y0\":0,\"y1\":1}]},                        {\"responsive\": true}                    ).then(function(){\n",
       "                            \n",
       "var gd = document.getElementById('083165ac-90ac-460e-8367-d483282a8864');\n",
       "var x = new MutationObserver(function (mutations, observer) {{\n",
       "        var display = window.getComputedStyle(gd).display;\n",
       "        if (!display || display === 'none') {{\n",
       "            console.log([gd, 'removed!']);\n",
       "            Plotly.purge(gd);\n",
       "            observer.disconnect();\n",
       "        }}\n",
       "}});\n",
       "\n",
       "// Listen for the removal of the full notebook cells\n",
       "var notebookContainer = gd.closest('#notebook-container');\n",
       "if (notebookContainer) {{\n",
       "    x.observe(notebookContainer, {childList: true});\n",
       "}}\n",
       "\n",
       "// Listen for the clearing of the current output cell\n",
       "var outputEl = gd.closest('.output');\n",
       "if (outputEl) {{\n",
       "    x.observe(outputEl, {childList: true});\n",
       "}}\n",
       "\n",
       "                        })                };                });            </script>        </div>"
      ]
     },
     "metadata": {},
     "output_type": "display_data"
    }
   ],
   "source": [
    "pos=binningDerived.get_column(\"Positives\").to_numpy()\n",
    "neg=binningDerived.get_column(\"Negatives\").to_numpy()\n",
    "\n",
    "o = np.argsort((pos / (pos + neg)))\n",
    "\n",
    "TNR = np.cumsum(neg[o]) / np.sum(neg)\n",
    "FPR = np.flip(np.cumsum(neg[o]) / np.sum(neg), axis=0)\n",
    "TPR = np.flip(np.cumsum(pos[o]) / np.sum(pos), axis=0)\n",
    "Area = (FPR - np.append(FPR[1:], 0)) * (TPR + np.append(TPR[1:], 0)) / 2\n",
    "auc = 0.5 + np.abs(0.5-np.sum(Area))\n",
    "\n",
    "fig = px.line(\n",
    "    x=TPR, y=TNR,\n",
    "    labels=dict(x='Specificity', y='Sensitivity'),\n",
    "    title = f\"AUC = {auc.round(3)}\",\n",
    "    width=700, height=700,\n",
    "    range_x=[1,0],\n",
    "    template='none'\n",
    ")\n",
    "fig.add_shape(\n",
    "    type='line', line=dict(dash='dash'),\n",
    "    x0=1, x1=0, y0=0, y1=1\n",
    ")\n",
    "fig.show()"
   ]
  },
  {
   "cell_type": "markdown",
   "metadata": {},
   "source": [
    "## Predictor score and log odds"
   ]
  },
  {
   "cell_type": "markdown",
   "metadata": {},
   "source": [
    "The score is calculated from the log odds which are simply the ratio of the probabilities of positives and negatives. For the actual calculation in ADM this is modified slightly to avoid division-by-zero problems and is written differently to avoid numeric instability as shown below."
   ]
  },
  {
   "cell_type": "code",
   "execution_count": 11,
   "metadata": {
    "execution": {
     "iopub.execute_input": "2023-06-01T08:28:42.225910Z",
     "iopub.status.busy": "2023-06-01T08:28:42.225540Z",
     "iopub.status.idle": "2023-06-01T08:28:42.236592Z",
     "shell.execute_reply": "2023-06-01T08:28:42.236038Z"
    }
   },
   "outputs": [
    {
     "data": {
      "text/html": [
       "<style type=\"text/css\">\n",
       "#T_e1dab_row0_col5, #T_e1dab_row0_col6, #T_e1dab_row1_col5, #T_e1dab_row1_col6, #T_e1dab_row2_col5, #T_e1dab_row2_col6, #T_e1dab_row3_col5, #T_e1dab_row3_col6, #T_e1dab_row4_col5, #T_e1dab_row4_col6 {\n",
       "  color: blue;\n",
       "}\n",
       "</style>\n",
       "<table id=\"T_e1dab\">\n",
       "  <thead>\n",
       "    <tr>\n",
       "      <th class=\"blank level0\" >&nbsp;</th>\n",
       "      <th id=\"T_e1dab_level0_col0\" class=\"col_heading level0 col0\" >Range/Symbol</th>\n",
       "      <th id=\"T_e1dab_level0_col1\" class=\"col_heading level0 col1\" >Positives</th>\n",
       "      <th id=\"T_e1dab_level0_col2\" class=\"col_heading level0 col2\" >Negatives</th>\n",
       "      <th id=\"T_e1dab_level0_col3\" class=\"col_heading level0 col3\" >Positives %</th>\n",
       "      <th id=\"T_e1dab_level0_col4\" class=\"col_heading level0 col4\" >Negatives %</th>\n",
       "      <th id=\"T_e1dab_level0_col5\" class=\"col_heading level0 col5\" >LogOdds</th>\n",
       "      <th id=\"T_e1dab_level0_col6\" class=\"col_heading level0 col6\" >ModifiedLogOdds</th>\n",
       "    </tr>\n",
       "  </thead>\n",
       "  <tbody>\n",
       "    <tr>\n",
       "      <th id=\"T_e1dab_level0_row0\" class=\"row_heading level0 row0\" >0</th>\n",
       "      <td id=\"T_e1dab_row0_col0\" class=\"data row0 col0\" >MISSING</td>\n",
       "      <td id=\"T_e1dab_row0_col1\" class=\"data row0 col1\" >0</td>\n",
       "      <td id=\"T_e1dab_row0_col2\" class=\"data row0 col2\" >5</td>\n",
       "      <td id=\"T_e1dab_row0_col3\" class=\"data row0 col3\" >0.00</td>\n",
       "      <td id=\"T_e1dab_row0_col4\" class=\"data row0 col4\" >0.090000</td>\n",
       "      <td id=\"T_e1dab_row0_col5\" class=\"data row0 col5\" >-inf</td>\n",
       "      <td id=\"T_e1dab_row0_col6\" class=\"data row0 col6\" >1.6537</td>\n",
       "    </tr>\n",
       "    <tr>\n",
       "      <th id=\"T_e1dab_level0_row1\" class=\"row_heading level0 row1\" >1</th>\n",
       "      <td id=\"T_e1dab_row1_col0\" class=\"data row1 col0\" ><7.08</td>\n",
       "      <td id=\"T_e1dab_row1_col1\" class=\"data row1 col1\" >7</td>\n",
       "      <td id=\"T_e1dab_row1_col2\" class=\"data row1 col2\" >2208</td>\n",
       "      <td id=\"T_e1dab_row1_col3\" class=\"data row1 col3\" >19.44</td>\n",
       "      <td id=\"T_e1dab_row1_col4\" class=\"data row1 col4\" >39.669998</td>\n",
       "      <td id=\"T_e1dab_row1_col5\" class=\"data row1 col5\" >-0.713262</td>\n",
       "      <td id=\"T_e1dab_row1_col6\" class=\"data row1 col6\" >-0.8141</td>\n",
       "    </tr>\n",
       "    <tr>\n",
       "      <th id=\"T_e1dab_level0_row2\" class=\"row_heading level0 row2\" >2</th>\n",
       "      <td id=\"T_e1dab_row2_col0\" class=\"data row2 col0\" >[7.08, 12.04></td>\n",
       "      <td id=\"T_e1dab_row2_col1\" class=\"data row2 col1\" >11</td>\n",
       "      <td id=\"T_e1dab_row2_col2\" class=\"data row2 col2\" >1919</td>\n",
       "      <td id=\"T_e1dab_row2_col3\" class=\"data row2 col3\" >30.56</td>\n",
       "      <td id=\"T_e1dab_row2_col4\" class=\"data row2 col4\" >34.480000</td>\n",
       "      <td id=\"T_e1dab_row2_col5\" class=\"data row2 col5\" >-0.120688</td>\n",
       "      <td id=\"T_e1dab_row2_col6\" class=\"data row2 col6\" >-0.2320</td>\n",
       "    </tr>\n",
       "    <tr>\n",
       "      <th id=\"T_e1dab_level0_row3\" class=\"row_heading level0 row3\" >3</th>\n",
       "      <td id=\"T_e1dab_row3_col0\" class=\"data row3 col0\" >[12.04, 18.04></td>\n",
       "      <td id=\"T_e1dab_row3_col1\" class=\"data row3 col1\" >12</td>\n",
       "      <td id=\"T_e1dab_row3_col2\" class=\"data row3 col2\" >1082</td>\n",
       "      <td id=\"T_e1dab_row3_col3\" class=\"data row3 col3\" >33.33</td>\n",
       "      <td id=\"T_e1dab_row3_col4\" class=\"data row3 col4\" >19.440001</td>\n",
       "      <td id=\"T_e1dab_row3_col5\" class=\"data row3 col5\" >0.539125</td>\n",
       "      <td id=\"T_e1dab_row3_col6\" class=\"data row3 col6\" >0.4264</td>\n",
       "    </tr>\n",
       "    <tr>\n",
       "      <th id=\"T_e1dab_level0_row4\" class=\"row_heading level0 row4\" >4</th>\n",
       "      <td id=\"T_e1dab_row4_col0\" class=\"data row4 col0\" >>=18.04</td>\n",
       "      <td id=\"T_e1dab_row4_col1\" class=\"data row4 col1\" >6</td>\n",
       "      <td id=\"T_e1dab_row4_col2\" class=\"data row4 col2\" >352</td>\n",
       "      <td id=\"T_e1dab_row4_col3\" class=\"data row4 col3\" >16.67</td>\n",
       "      <td id=\"T_e1dab_row4_col4\" class=\"data row4 col4\" >6.320000</td>\n",
       "      <td id=\"T_e1dab_row4_col5\" class=\"data row4 col5\" >0.969891</td>\n",
       "      <td id=\"T_e1dab_row4_col6\" class=\"data row4 col6\" >0.8721</td>\n",
       "    </tr>\n",
       "  </tbody>\n",
       "</table>\n"
      ],
      "text/plain": [
       "<pandas.io.formats.style.Styler at 0x7f52b8c50a90>"
      ]
     },
     "execution_count": 11,
     "metadata": {},
     "output_type": "execute_result"
    }
   ],
   "source": [
    "N = binningDerived.shape[0]\n",
    "binningDerived.with_columns(\n",
    "    LogOdds=(pl.col(\"Positives %\") / pl.col(\"Negatives %\")).log(),\n",
    "    ModifiedLogOdds=(\n",
    "        ((Positives + 1 / N).log() - (Positives + 1).sum().log())\n",
    "        - ((Negatives + 1 / N).log() - (Negatives + 1).sum().log())\n",
    "    ),\n",
    ").drop(\"Responses %\", \"Propensity\").to_pandas().style.format(\n",
    "    format_log_odds\n",
    ").set_properties(\n",
    "    **{\"color\": \"blue\"}, subset=[\"LogOdds\", \"ModifiedLogOdds\"]\n",
    ")"
   ]
  },
  {
   "cell_type": "markdown",
   "metadata": {},
   "source": [
    "## Propensity mapping"
   ]
  },
  {
   "cell_type": "markdown",
   "metadata": {},
   "source": [
    "### Log odds contribution for all the predictors"
   ]
  },
  {
   "cell_type": "markdown",
   "metadata": {},
   "source": [
    "To get to a propensity, the log odds of the relevant bins of the active predictors are added up and divided by the number of active predictors +1, then used to index in the classifier.\n",
    "\n",
    "Below an example. From all the active predictors of the model for we pick a value (in the middle for numerics, first symbol for symbolics) and show the (modified) log odds. These log odds values are averaged (added up and divided by number of active predictors + 1), and this is the “score” that is mapped to a propensity value by the classifier (which is constructed using the PAV(A) algorithm)."
   ]
  },
  {
   "cell_type": "code",
   "execution_count": 12,
   "metadata": {
    "execution": {
     "iopub.execute_input": "2023-06-01T08:28:42.238997Z",
     "iopub.status.busy": "2023-06-01T08:28:42.238716Z",
     "iopub.status.idle": "2023-06-01T08:28:42.284780Z",
     "shell.execute_reply": "2023-06-01T08:28:42.284112Z"
    },
    "tags": [
     "remove_input"
    ]
   },
   "outputs": [
    {
     "ename": "AttributeError",
     "evalue": "'ExprArrayNameSpace' object has no attribute 'first'",
     "output_type": "error",
     "traceback": [
      "\u001b[0;31m---------------------------------------------------------------------------\u001b[0m",
      "\u001b[0;31mAttributeError\u001b[0m                            Traceback (most recent call last)",
      "Cell \u001b[0;32mIn[12], line 23\u001b[0m\n\u001b[1;32m      8\u001b[0m     PosSum, NegSum \u001b[38;5;241m=\u001b[39m Positives\u001b[38;5;241m.\u001b[39marr\u001b[38;5;241m.\u001b[39msum(), Negatives\u001b[38;5;241m.\u001b[39marr\u001b[38;5;241m.\u001b[39msum()\n\u001b[1;32m      9\u001b[0m     \u001b[38;5;28;01mreturn\u001b[39;00m (\n\u001b[1;32m     10\u001b[0m         (((Pos \u001b[38;5;241m+\u001b[39m (\u001b[38;5;241m1\u001b[39m \u001b[38;5;241m/\u001b[39m N))\u001b[38;5;241m.\u001b[39mlog() \u001b[38;5;241m-\u001b[39m (PosSum \u001b[38;5;241m+\u001b[39m N)\u001b[38;5;241m.\u001b[39mlog()))\n\u001b[1;32m     11\u001b[0m         \u001b[38;5;241m-\u001b[39m (((Neg \u001b[38;5;241m+\u001b[39m (\u001b[38;5;241m1\u001b[39m \u001b[38;5;241m/\u001b[39m N))\u001b[38;5;241m.\u001b[39mlog()) \u001b[38;5;241m-\u001b[39m (NegSum \u001b[38;5;241m+\u001b[39m N)\u001b[38;5;241m.\u001b[39mlog())\n\u001b[1;32m     12\u001b[0m     )\u001b[38;5;241m.\u001b[39malias(\u001b[38;5;124m\"\u001b[39m\u001b[38;5;124mModified Log odds\u001b[39m\u001b[38;5;124m\"\u001b[39m)\n\u001b[1;32m     15\u001b[0m df \u001b[38;5;241m=\u001b[39m (\n\u001b[1;32m     16\u001b[0m     modelpredictors\u001b[38;5;241m.\u001b[39mfilter(pl\u001b[38;5;241m.\u001b[39mcol(\u001b[38;5;124m\"\u001b[39m\u001b[38;5;124mPredictorName\u001b[39m\u001b[38;5;124m\"\u001b[39m) \u001b[38;5;241m!=\u001b[39m \u001b[38;5;124m\"\u001b[39m\u001b[38;5;124mClassifier\u001b[39m\u001b[38;5;124m\"\u001b[39m)\n\u001b[1;32m     17\u001b[0m     \u001b[38;5;241m.\u001b[39mgroupby(\u001b[38;5;124m\"\u001b[39m\u001b[38;5;124mPredictorName\u001b[39m\u001b[38;5;124m\"\u001b[39m)\n\u001b[1;32m     18\u001b[0m     \u001b[38;5;241m.\u001b[39magg(\n\u001b[1;32m     19\u001b[0m         Value\u001b[38;5;241m=\u001b[39mpl\u001b[38;5;241m.\u001b[39mwhen(pl\u001b[38;5;241m.\u001b[39mcol(\u001b[38;5;124m\"\u001b[39m\u001b[38;5;124mType\u001b[39m\u001b[38;5;124m\"\u001b[39m)\u001b[38;5;241m.\u001b[39mfirst() \u001b[38;5;241m==\u001b[39m \u001b[38;5;124m\"\u001b[39m\u001b[38;5;124mnumeric\u001b[39m\u001b[38;5;124m\"\u001b[39m)\n\u001b[1;32m     20\u001b[0m         \u001b[38;5;241m.\u001b[39mthen(\n\u001b[1;32m     21\u001b[0m             ((pl\u001b[38;5;241m.\u001b[39mcol(\u001b[38;5;124m\"\u001b[39m\u001b[38;5;124mBinLowerBound\u001b[39m\u001b[38;5;124m\"\u001b[39m) \u001b[38;5;241m+\u001b[39m pl\u001b[38;5;241m.\u001b[39mcol(\u001b[38;5;124m\"\u001b[39m\u001b[38;5;124mBinUpperBound\u001b[39m\u001b[38;5;124m\"\u001b[39m)) \u001b[38;5;241m/\u001b[39m \u001b[38;5;241m2\u001b[39m)\u001b[38;5;241m.\u001b[39mwhere(middleBin())\n\u001b[1;32m     22\u001b[0m         )\n\u001b[0;32m---> 23\u001b[0m         \u001b[38;5;241m.\u001b[39motherwise(\u001b[43mpl\u001b[49m\u001b[38;5;241;43m.\u001b[39;49m\u001b[43mcol\u001b[49m\u001b[43m(\u001b[49m\u001b[38;5;124;43m\"\u001b[39;49m\u001b[38;5;124;43mBinSymbol\u001b[39;49m\u001b[38;5;124;43m\"\u001b[39;49m\u001b[43m)\u001b[49m\u001b[38;5;241;43m.\u001b[39;49m\u001b[43mstr\u001b[49m\u001b[38;5;241;43m.\u001b[39;49m\u001b[43msplit\u001b[49m\u001b[43m(\u001b[49m\u001b[38;5;124;43m\"\u001b[39;49m\u001b[38;5;124;43m,\u001b[39;49m\u001b[38;5;124;43m\"\u001b[39;49m\u001b[43m)\u001b[49m\u001b[38;5;241;43m.\u001b[39;49m\u001b[43marr\u001b[49m\u001b[38;5;241;43m.\u001b[39;49m\u001b[43mfirst\u001b[49m()\u001b[38;5;241m.\u001b[39mwhere(middleBin())),\n\u001b[1;32m     24\u001b[0m         Bin\u001b[38;5;241m=\u001b[39mpl\u001b[38;5;241m.\u001b[39mcol(\u001b[38;5;124m\"\u001b[39m\u001b[38;5;124mBinIndex\u001b[39m\u001b[38;5;124m\"\u001b[39m)\u001b[38;5;241m.\u001b[39mwhere(middleBin()),\n\u001b[1;32m     25\u001b[0m         Positives\u001b[38;5;241m=\u001b[39mpl\u001b[38;5;241m.\u001b[39mcol(\u001b[38;5;124m\"\u001b[39m\u001b[38;5;124mBinPositives\u001b[39m\u001b[38;5;124m\"\u001b[39m),\n\u001b[1;32m     26\u001b[0m         Negatives\u001b[38;5;241m=\u001b[39mpl\u001b[38;5;241m.\u001b[39mcol(\u001b[38;5;124m\"\u001b[39m\u001b[38;5;124mBinNegatives\u001b[39m\u001b[38;5;124m\"\u001b[39m),\n\u001b[1;32m     27\u001b[0m     )\n\u001b[1;32m     28\u001b[0m     \u001b[38;5;241m.\u001b[39mwith_columns(\n\u001b[1;32m     29\u001b[0m         pl\u001b[38;5;241m.\u001b[39mcol([\u001b[38;5;124m\"\u001b[39m\u001b[38;5;124mPositives\u001b[39m\u001b[38;5;124m\"\u001b[39m, \u001b[38;5;124m\"\u001b[39m\u001b[38;5;124mNegatives\u001b[39m\u001b[38;5;124m\"\u001b[39m])\u001b[38;5;241m.\u001b[39marr\u001b[38;5;241m.\u001b[39mget(pl\u001b[38;5;241m.\u001b[39mcol(\u001b[38;5;124m\"\u001b[39m\u001b[38;5;124mBin\u001b[39m\u001b[38;5;124m\"\u001b[39m)\u001b[38;5;241m.\u001b[39marr\u001b[38;5;241m.\u001b[39mget(\u001b[38;5;241m0\u001b[39m) \u001b[38;5;241m-\u001b[39m \u001b[38;5;241m1\u001b[39m),\n\u001b[1;32m     30\u001b[0m         pl\u001b[38;5;241m.\u001b[39mcol(\u001b[38;5;124m\"\u001b[39m\u001b[38;5;124mBin\u001b[39m\u001b[38;5;124m\"\u001b[39m, \u001b[38;5;124m\"\u001b[39m\u001b[38;5;124mValue\u001b[39m\u001b[38;5;124m\"\u001b[39m)\u001b[38;5;241m.\u001b[39marr\u001b[38;5;241m.\u001b[39mget(\u001b[38;5;241m0\u001b[39m),\n\u001b[1;32m     31\u001b[0m         LogOdds\u001b[38;5;241m=\u001b[39mRowWiseLogOdds(pl\u001b[38;5;241m.\u001b[39mcol(\u001b[38;5;124m\"\u001b[39m\u001b[38;5;124mBin\u001b[39m\u001b[38;5;124m\"\u001b[39m), pl\u001b[38;5;241m.\u001b[39mcol(\u001b[38;5;124m\"\u001b[39m\u001b[38;5;124mPositives\u001b[39m\u001b[38;5;124m\"\u001b[39m), pl\u001b[38;5;241m.\u001b[39mcol(\u001b[38;5;124m\"\u001b[39m\u001b[38;5;124mNegatives\u001b[39m\u001b[38;5;124m\"\u001b[39m)),\n\u001b[1;32m     32\u001b[0m     )\n\u001b[1;32m     33\u001b[0m     \u001b[38;5;241m.\u001b[39msort(\u001b[38;5;124m\"\u001b[39m\u001b[38;5;124mPredictorName\u001b[39m\u001b[38;5;124m\"\u001b[39m)\n\u001b[1;32m     34\u001b[0m )\n\u001b[1;32m     35\u001b[0m propensity_mapping \u001b[38;5;241m=\u001b[39m df\u001b[38;5;241m.\u001b[39mvstack(\n\u001b[1;32m     36\u001b[0m     pl\u001b[38;5;241m.\u001b[39mDataFrame(\u001b[38;5;28mdict\u001b[39m(\u001b[38;5;28mzip\u001b[39m(\n\u001b[1;32m     37\u001b[0m                 df\u001b[38;5;241m.\u001b[39mcolumns,\n\u001b[0;32m   (...)\u001b[0m\n\u001b[1;32m     41\u001b[0m     )\n\u001b[1;32m     42\u001b[0m )\u001b[38;5;241m.\u001b[39mto_pandas()\u001b[38;5;241m.\u001b[39mstyle\u001b[38;5;241m.\u001b[39mset_properties(\u001b[38;5;241m*\u001b[39m\u001b[38;5;241m*\u001b[39m{\u001b[38;5;124m'\u001b[39m\u001b[38;5;124mcolor\u001b[39m\u001b[38;5;124m'\u001b[39m: \u001b[38;5;124m'\u001b[39m\u001b[38;5;124mblue\u001b[39m\u001b[38;5;124m'\u001b[39m}, subset\u001b[38;5;241m=\u001b[39m[\u001b[38;5;124m\"\u001b[39m\u001b[38;5;124mLogOdds\u001b[39m\u001b[38;5;124m\"\u001b[39m])\n\u001b[1;32m     44\u001b[0m propensity_mapping\n",
      "\u001b[0;31mAttributeError\u001b[0m: 'ExprArrayNameSpace' object has no attribute 'first'"
     ]
    }
   ],
   "source": [
    "def middleBin():\n",
    "    return pl.col(\"BinIndex\") == (pl.max(\"BinIndex\") / 2).floor().cast(pl.UInt32)\n",
    "\n",
    "\n",
    "def RowWiseLogOdds(Bin, Positives, Negatives):\n",
    "    Bin, N = Bin.arr.get(0) - 1, Positives.arr.lengths()\n",
    "    Pos, Neg = Positives.arr.get(Bin), Negatives.arr.get(Bin)\n",
    "    PosSum, NegSum = Positives.arr.sum(), Negatives.arr.sum()\n",
    "    return (\n",
    "        (((Pos + (1 / N)).log() - (PosSum + N).log()))\n",
    "        - (((Neg + (1 / N)).log()) - (NegSum + N).log())\n",
    "    ).alias(\"Modified Log odds\")\n",
    "\n",
    "\n",
    "df = (\n",
    "    modelpredictors.filter(pl.col(\"PredictorName\") != \"Classifier\")\n",
    "    .groupby(\"PredictorName\")\n",
    "    .agg(\n",
    "        Value=pl.when(pl.col(\"Type\").first() == \"numeric\")\n",
    "        .then(\n",
    "            ((pl.col(\"BinLowerBound\") + pl.col(\"BinUpperBound\")) / 2).where(middleBin())\n",
    "        )\n",
    "        .otherwise(pl.col(\"BinSymbol\").str.split(\",\").arr.first().where(middleBin())),\n",
    "        Bin=pl.col(\"BinIndex\").where(middleBin()),\n",
    "        Positives=pl.col(\"BinPositives\"),\n",
    "        Negatives=pl.col(\"BinNegatives\"),\n",
    "    )\n",
    "    .with_columns(\n",
    "        pl.col([\"Positives\", \"Negatives\"]).arr.get(pl.col(\"Bin\").arr.get(0) - 1),\n",
    "        pl.col(\"Bin\", \"Value\").arr.get(0),\n",
    "        LogOdds=RowWiseLogOdds(pl.col(\"Bin\"), pl.col(\"Positives\"), pl.col(\"Negatives\")),\n",
    "    )\n",
    "    .sort(\"PredictorName\")\n",
    ")\n",
    "propensity_mapping = df.vstack(\n",
    "    pl.DataFrame(dict(zip(\n",
    "                df.columns,\n",
    "                [\"Average log odds\"] + [None] * 4 + [df[\"LogOdds\"].sum() / (len(df)+1)],\n",
    "                )),\n",
    "    schema=df.schema,\n",
    "    )\n",
    ").to_pandas().style.set_properties(**{'color': 'blue'}, subset=[\"LogOdds\"])\n",
    "\n",
    "propensity_mapping"
   ]
  },
  {
   "cell_type": "markdown",
   "metadata": {},
   "source": [
    "## Classifier"
   ]
  },
  {
   "cell_type": "markdown",
   "metadata": {},
   "source": [
    "The success rate is defined as $\\frac{positives}{positives+negatives}$ per bin. \n",
    "\n",
    "The adjusted propensity that is returned is a small modification (Laplace smoothing) to this and calculated as $\\frac{0.5+positives}{1+positives+negatives}$ so empty models return a propensity of 0.5.\n"
   ]
  },
  {
   "cell_type": "code",
   "execution_count": 13,
   "metadata": {
    "execution": {
     "iopub.execute_input": "2023-06-01T08:28:42.287437Z",
     "iopub.status.busy": "2023-06-01T08:28:42.287134Z",
     "iopub.status.idle": "2023-06-01T08:28:42.301263Z",
     "shell.execute_reply": "2023-06-01T08:28:42.300717Z"
    },
    "tags": [
     "remove_input"
    ]
   },
   "outputs": [
    {
     "data": {
      "text/html": [
       "<style type=\"text/css\">\n",
       "#T_2d57a_row0_col6, #T_2d57a_row1_col6, #T_2d57a_row2_col6, #T_2d57a_row3_col6, #T_2d57a_row4_col6, #T_2d57a_row5_col6, #T_2d57a_row6_col6, #T_2d57a_row7_col6 {\n",
       "  color: blue;\n",
       "}\n",
       "</style>\n",
       "<table id=\"T_2d57a\">\n",
       "  <thead>\n",
       "    <tr>\n",
       "      <th class=\"blank level0\" >&nbsp;</th>\n",
       "      <th id=\"T_2d57a_level0_col0\" class=\"col_heading level0 col0\" >Index</th>\n",
       "      <th id=\"T_2d57a_level0_col1\" class=\"col_heading level0 col1\" >Bin</th>\n",
       "      <th id=\"T_2d57a_level0_col2\" class=\"col_heading level0 col2\" >Positives</th>\n",
       "      <th id=\"T_2d57a_level0_col3\" class=\"col_heading level0 col3\" >Negatives</th>\n",
       "      <th id=\"T_2d57a_level0_col4\" class=\"col_heading level0 col4\" >Cum. Total (%)</th>\n",
       "      <th id=\"T_2d57a_level0_col5\" class=\"col_heading level0 col5\" >Propensity (%)</th>\n",
       "      <th id=\"T_2d57a_level0_col6\" class=\"col_heading level0 col6\" >Adjusted Propensity (%)</th>\n",
       "      <th id=\"T_2d57a_level0_col7\" class=\"col_heading level0 col7\" >Cum Positives (%)</th>\n",
       "      <th id=\"T_2d57a_level0_col8\" class=\"col_heading level0 col8\" >ZRatio</th>\n",
       "      <th id=\"T_2d57a_level0_col9\" class=\"col_heading level0 col9\" >Lift(%)</th>\n",
       "    </tr>\n",
       "  </thead>\n",
       "  <tbody>\n",
       "    <tr>\n",
       "      <th id=\"T_2d57a_level0_row0\" class=\"row_heading level0 row0\" >0</th>\n",
       "      <td id=\"T_2d57a_row0_col0\" class=\"data row0 col0\" >1</td>\n",
       "      <td id=\"T_2d57a_row0_col1\" class=\"data row0 col1\" ><-1.95</td>\n",
       "      <td id=\"T_2d57a_row0_col2\" class=\"data row0 col2\" >0</td>\n",
       "      <td id=\"T_2d57a_row0_col3\" class=\"data row0 col3\" >35</td>\n",
       "      <td id=\"T_2d57a_row0_col4\" class=\"data row0 col4\" >0.624777</td>\n",
       "      <td id=\"T_2d57a_row0_col5\" class=\"data row0 col5\" >0.000000</td>\n",
       "      <td id=\"T_2d57a_row0_col6\" class=\"data row0 col6\" >1.388889</td>\n",
       "      <td id=\"T_2d57a_row0_col7\" class=\"data row0 col7\" >0.000000</td>\n",
       "      <td id=\"T_2d57a_row0_col8\" class=\"data row0 col8\" >-5.934769</td>\n",
       "      <td id=\"T_2d57a_row0_col9\" class=\"data row0 col9\" >0.000000</td>\n",
       "    </tr>\n",
       "    <tr>\n",
       "      <th id=\"T_2d57a_level0_row1\" class=\"row_heading level0 row1\" >1</th>\n",
       "      <td id=\"T_2d57a_row1_col0\" class=\"data row1 col0\" >2</td>\n",
       "      <td id=\"T_2d57a_row1_col1\" class=\"data row1 col1\" >[-1.95, -0.63></td>\n",
       "      <td id=\"T_2d57a_row1_col2\" class=\"data row1 col2\" >7</td>\n",
       "      <td id=\"T_2d57a_row1_col3\" class=\"data row1 col3\" >1939</td>\n",
       "      <td id=\"T_2d57a_row1_col4\" class=\"data row1 col4\" >35.362373</td>\n",
       "      <td id=\"T_2d57a_row1_col5\" class=\"data row1 col5\" >0.359712</td>\n",
       "      <td id=\"T_2d57a_row1_col6\" class=\"data row1 col6\" >0.385208</td>\n",
       "      <td id=\"T_2d57a_row1_col7\" class=\"data row1 col7\" >19.444445</td>\n",
       "      <td id=\"T_2d57a_row1_col8\" class=\"data row1 col8\" >-2.322612</td>\n",
       "      <td id=\"T_2d57a_row1_col9\" class=\"data row1 col9\" >55.975200</td>\n",
       "    </tr>\n",
       "    <tr>\n",
       "      <th id=\"T_2d57a_level0_row2\" class=\"row_heading level0 row2\" >2</th>\n",
       "      <td id=\"T_2d57a_row2_col0\" class=\"data row2 col0\" >3</td>\n",
       "      <td id=\"T_2d57a_row2_col1\" class=\"data row2 col1\" >[-0.63, -0.5></td>\n",
       "      <td id=\"T_2d57a_row2_col2\" class=\"data row2 col2\" >7</td>\n",
       "      <td id=\"T_2d57a_row2_col3\" class=\"data row2 col3\" >1331</td>\n",
       "      <td id=\"T_2d57a_row2_col4\" class=\"data row2 col4\" >59.246696</td>\n",
       "      <td id=\"T_2d57a_row2_col5\" class=\"data row2 col5\" >0.523169</td>\n",
       "      <td id=\"T_2d57a_row2_col6\" class=\"data row2 col6\" >0.560120</td>\n",
       "      <td id=\"T_2d57a_row2_col7\" class=\"data row2 col7\" >38.888889</td>\n",
       "      <td id=\"T_2d57a_row2_col8\" class=\"data row2 col8\" >-0.674919</td>\n",
       "      <td id=\"T_2d57a_row2_col9\" class=\"data row2 col9\" >81.410900</td>\n",
       "    </tr>\n",
       "    <tr>\n",
       "      <th id=\"T_2d57a_level0_row3\" class=\"row_heading level0 row3\" >3</th>\n",
       "      <td id=\"T_2d57a_row3_col0\" class=\"data row3 col0\" >4</td>\n",
       "      <td id=\"T_2d57a_row3_col1\" class=\"data row3 col1\" >[-0.5, -0.36></td>\n",
       "      <td id=\"T_2d57a_row3_col2\" class=\"data row3 col2\" >8</td>\n",
       "      <td id=\"T_2d57a_row3_col3\" class=\"data row3 col3\" >1125</td>\n",
       "      <td id=\"T_2d57a_row3_col4\" class=\"data row3 col4\" >79.471619</td>\n",
       "      <td id=\"T_2d57a_row3_col5\" class=\"data row3 col5\" >0.706090</td>\n",
       "      <td id=\"T_2d57a_row3_col6\" class=\"data row3 col6\" >0.749559</td>\n",
       "      <td id=\"T_2d57a_row3_col7\" class=\"data row3 col7\" >61.111111</td>\n",
       "      <td id=\"T_2d57a_row3_col8\" class=\"data row3 col8\" >0.289246</td>\n",
       "      <td id=\"T_2d57a_row3_col9\" class=\"data row3 col9\" >109.875500</td>\n",
       "    </tr>\n",
       "    <tr>\n",
       "      <th id=\"T_2d57a_level0_row4\" class=\"row_heading level0 row4\" >4</th>\n",
       "      <td id=\"T_2d57a_row4_col0\" class=\"data row4 col0\" >5</td>\n",
       "      <td id=\"T_2d57a_row4_col1\" class=\"data row4 col1\" >[-0.36, -0.29></td>\n",
       "      <td id=\"T_2d57a_row4_col2\" class=\"data row4 col2\" >4</td>\n",
       "      <td id=\"T_2d57a_row4_col3\" class=\"data row4 col3\" >446</td>\n",
       "      <td id=\"T_2d57a_row4_col4\" class=\"data row4 col4\" >87.504463</td>\n",
       "      <td id=\"T_2d57a_row4_col5\" class=\"data row4 col5\" >0.888889</td>\n",
       "      <td id=\"T_2d57a_row4_col6\" class=\"data row4 col6\" >0.997783</td>\n",
       "      <td id=\"T_2d57a_row4_col7\" class=\"data row4 col7\" >72.222221</td>\n",
       "      <td id=\"T_2d57a_row4_col8\" class=\"data row4 col8\" >0.590078</td>\n",
       "      <td id=\"T_2d57a_row4_col9\" class=\"data row4 col9\" >138.321000</td>\n",
       "    </tr>\n",
       "    <tr>\n",
       "      <th id=\"T_2d57a_level0_row5\" class=\"row_heading level0 row5\" >5</th>\n",
       "      <td id=\"T_2d57a_row5_col0\" class=\"data row5 col0\" >6</td>\n",
       "      <td id=\"T_2d57a_row5_col1\" class=\"data row5 col1\" >[-0.29, -0.22></td>\n",
       "      <td id=\"T_2d57a_row5_col2\" class=\"data row5 col2\" >3</td>\n",
       "      <td id=\"T_2d57a_row5_col3\" class=\"data row5 col3\" >319</td>\n",
       "      <td id=\"T_2d57a_row5_col4\" class=\"data row5 col4\" >93.252411</td>\n",
       "      <td id=\"T_2d57a_row5_col5\" class=\"data row5 col5\" >0.931677</td>\n",
       "      <td id=\"T_2d57a_row5_col6\" class=\"data row5 col6\" >1.083591</td>\n",
       "      <td id=\"T_2d57a_row5_col7\" class=\"data row5 col7\" >80.555557</td>\n",
       "      <td id=\"T_2d57a_row5_col8\" class=\"data row5 col8\" >0.563599</td>\n",
       "      <td id=\"T_2d57a_row5_col9\" class=\"data row5 col9\" >144.979300</td>\n",
       "    </tr>\n",
       "    <tr>\n",
       "      <th id=\"T_2d57a_level0_row6\" class=\"row_heading level0 row6\" >6</th>\n",
       "      <td id=\"T_2d57a_row6_col0\" class=\"data row6 col0\" >7</td>\n",
       "      <td id=\"T_2d57a_row6_col1\" class=\"data row6 col1\" >[-0.22, 0.99></td>\n",
       "      <td id=\"T_2d57a_row6_col2\" class=\"data row6 col2\" >2</td>\n",
       "      <td id=\"T_2d57a_row6_col3\" class=\"data row6 col3\" >144</td>\n",
       "      <td id=\"T_2d57a_row6_col4\" class=\"data row6 col4\" >95.858620</td>\n",
       "      <td id=\"T_2d57a_row6_col5\" class=\"data row6 col5\" >1.369863</td>\n",
       "      <td id=\"T_2d57a_row6_col6\" class=\"data row6 col6\" >1.700680</td>\n",
       "      <td id=\"T_2d57a_row6_col7\" class=\"data row6 col7\" >86.111107</td>\n",
       "      <td id=\"T_2d57a_row6_col8\" class=\"data row6 col8\" >0.776338</td>\n",
       "      <td id=\"T_2d57a_row6_col9\" class=\"data row6 col9\" >213.165900</td>\n",
       "    </tr>\n",
       "    <tr>\n",
       "      <th id=\"T_2d57a_level0_row7\" class=\"row_heading level0 row7\" >7</th>\n",
       "      <td id=\"T_2d57a_row7_col0\" class=\"data row7 col0\" >8</td>\n",
       "      <td id=\"T_2d57a_row7_col1\" class=\"data row7 col1\" >>=0.99</td>\n",
       "      <td id=\"T_2d57a_row7_col2\" class=\"data row7 col2\" >5</td>\n",
       "      <td id=\"T_2d57a_row7_col3\" class=\"data row7 col3\" >227</td>\n",
       "      <td id=\"T_2d57a_row7_col4\" class=\"data row7 col4\" >100.000000</td>\n",
       "      <td id=\"T_2d57a_row7_col5\" class=\"data row7 col5\" >2.155172</td>\n",
       "      <td id=\"T_2d57a_row7_col6\" class=\"data row7 col6\" >2.360515</td>\n",
       "      <td id=\"T_2d57a_row7_col7\" class=\"data row7 col7\" >100.000000</td>\n",
       "      <td id=\"T_2d57a_row7_col8\" class=\"data row7 col8\" >1.700289</td>\n",
       "      <td id=\"T_2d57a_row7_col9\" class=\"data row7 col9\" >335.368800</td>\n",
       "    </tr>\n",
       "  </tbody>\n",
       "</table>\n"
      ],
      "text/plain": [
       "<pandas.io.formats.style.Styler at 0x7f525000eed0>"
      ]
     },
     "execution_count": 13,
     "metadata": {},
     "output_type": "execute_result"
    }
   ],
   "source": [
    "classifier = (\n",
    "    modelpredictors.filter(pl.col(\"EntryType\") == \"Classifier\")\n",
    "    .with_columns(\n",
    "        Propensity=(BinPositives / (BinPositives / BinNegatives)),\n",
    "        AdjustedPropensity=((0.5 + BinPositives) / (1 + BinPositives + BinNegatives)),\n",
    "    )\n",
    "    .select(\n",
    "        [\n",
    "            pl.col(\"BinIndex\").alias(\"Index\"),\n",
    "            pl.col(\"BinSymbol\").alias(\"Bin\"),\n",
    "            BinPositives.alias(\"Positives\"),\n",
    "            BinNegatives.alias(\"Negatives\"),\n",
    "            ((pl.cumsum(\"BinResponseCount\") / pl.sum(\"BinResponseCount\")) * 100).alias(\n",
    "                \"Cum. Total (%)\"\n",
    "            ),\n",
    "            (pl.col(\"BinPropensity\") * 100).alias(\"Propensity (%)\"),\n",
    "            (pl.col(\"AdjustedPropensity\") * 100).alias(\"Adjusted Propensity (%)\"),\n",
    "            ((pl.cumsum(\"BinPositives\") / pl.sum(\"BinPositives\")) * 100).alias(\n",
    "                \"Cum Positives (%)\"\n",
    "            ),\n",
    "            pl.col(\"ZRatio\"),\n",
    "            (pl.col(\"Lift\") * 100).alias(\"Lift(%)\"),\n",
    "            pl.col(\"BinResponseCount\").alias(\"Responses\"),\n",
    "        ]\n",
    "    )\n",
    ")\n",
    "classifier.drop(\"Responses\").to_pandas().style.format(format_classifier).set_properties(\n",
    "    **{\"color\": \"blue\"}, subset=[\"Adjusted Propensity (%)\"]\n",
    ")"
   ]
  },
  {
   "cell_type": "markdown",
   "metadata": {},
   "source": [
    "## Final Propensity"
   ]
  },
  {
   "attachments": {},
   "cell_type": "markdown",
   "metadata": {},
   "source": [
    "Below the classifier mapping. On the x-axis the binned scores (log odds values), on the y-axis the Propensity. Note the returned propensities are following a slightly adjusted formula, see the table above. The bin that contains the calculated score is highlighted.\n",
    "\n",
    "The score -0.11403 falls in bin 7 of the classifier, so for this set of inputs, the model returns a propensity of 1.70%."
   ]
  },
  {
   "cell_type": "code",
   "execution_count": 14,
   "metadata": {
    "execution": {
     "iopub.execute_input": "2023-06-01T08:28:42.303710Z",
     "iopub.status.busy": "2023-06-01T08:28:42.303360Z",
     "iopub.status.idle": "2023-06-01T08:28:42.328086Z",
     "shell.execute_reply": "2023-06-01T08:28:42.327441Z"
    },
    "tags": [
     "remove_input"
    ]
   },
   "outputs": [
    {
     "ename": "NameError",
     "evalue": "name 'propensity_mapping' is not defined",
     "output_type": "error",
     "traceback": [
      "\u001b[0;31m---------------------------------------------------------------------------\u001b[0m",
      "\u001b[0;31mNameError\u001b[0m                                 Traceback (most recent call last)",
      "Cell \u001b[0;32mIn[14], line 1\u001b[0m\n\u001b[0;32m----> 1\u001b[0m score \u001b[38;5;241m=\u001b[39m \u001b[43mpropensity_mapping\u001b[49m\u001b[38;5;241m.\u001b[39mdata\u001b[38;5;241m.\u001b[39mloc[\u001b[38;5;241m24\u001b[39m, \u001b[38;5;124m\"\u001b[39m\u001b[38;5;124mLogOdds\u001b[39m\u001b[38;5;124m\"\u001b[39m]\n\u001b[1;32m      2\u001b[0m score_bin \u001b[38;5;241m=\u001b[39m modelpredictors\u001b[38;5;241m.\u001b[39mfilter(pl\u001b[38;5;241m.\u001b[39mcol(\u001b[38;5;124m\"\u001b[39m\u001b[38;5;124mEntryType\u001b[39m\u001b[38;5;124m\"\u001b[39m) \u001b[38;5;241m==\u001b[39m \u001b[38;5;124m\"\u001b[39m\u001b[38;5;124mClassifier\u001b[39m\u001b[38;5;124m\"\u001b[39m)\u001b[38;5;241m.\u001b[39mselect(\n\u001b[1;32m      3\u001b[0m     pl\u001b[38;5;241m.\u001b[39mcol(\u001b[38;5;124m\"\u001b[39m\u001b[38;5;124mBinSymbol\u001b[39m\u001b[38;5;124m\"\u001b[39m)\u001b[38;5;241m.\u001b[39mwhere(\n\u001b[1;32m      4\u001b[0m         (pl\u001b[38;5;241m.\u001b[39mcol(\u001b[38;5;124m\"\u001b[39m\u001b[38;5;124mBinLowerBound\u001b[39m\u001b[38;5;124m\"\u001b[39m) \u001b[38;5;241m<\u001b[39m score) \u001b[38;5;241m&\u001b[39m (pl\u001b[38;5;241m.\u001b[39mcol(\u001b[38;5;124m\"\u001b[39m\u001b[38;5;124mBinUpperBound\u001b[39m\u001b[38;5;124m\"\u001b[39m) \u001b[38;5;241m>\u001b[39m score)\n\u001b[1;32m      5\u001b[0m     )\n\u001b[1;32m      6\u001b[0m )[\u001b[38;5;124m\"\u001b[39m\u001b[38;5;124mBinSymbol\u001b[39m\u001b[38;5;124m\"\u001b[39m][\u001b[38;5;241m0\u001b[39m]\n\u001b[1;32m      9\u001b[0m adjusted_propensity \u001b[38;5;241m=\u001b[39m (\n\u001b[1;32m     10\u001b[0m     modelpredictors\u001b[38;5;241m.\u001b[39mfilter(pl\u001b[38;5;241m.\u001b[39mcol(\u001b[38;5;124m\"\u001b[39m\u001b[38;5;124mEntryType\u001b[39m\u001b[38;5;124m\"\u001b[39m) \u001b[38;5;241m==\u001b[39m \u001b[38;5;124m\"\u001b[39m\u001b[38;5;124mClassifier\u001b[39m\u001b[38;5;124m\"\u001b[39m)\n\u001b[1;32m     11\u001b[0m     \u001b[38;5;241m.\u001b[39mwith_columns(\n\u001b[0;32m   (...)\u001b[0m\n\u001b[1;32m     19\u001b[0m     \u001b[38;5;241m*\u001b[39m \u001b[38;5;241m100\u001b[39m\n\u001b[1;32m     20\u001b[0m )\n",
      "\u001b[0;31mNameError\u001b[0m: name 'propensity_mapping' is not defined"
     ]
    }
   ],
   "source": [
    "score = propensity_mapping.data.loc[24, \"LogOdds\"]\n",
    "score_bin = modelpredictors.filter(pl.col(\"EntryType\") == \"Classifier\").select(\n",
    "    pl.col(\"BinSymbol\").where(\n",
    "        (pl.col(\"BinLowerBound\") < score) & (pl.col(\"BinUpperBound\") > score)\n",
    "    )\n",
    ")[\"BinSymbol\"][0]\n",
    "\n",
    "\n",
    "adjusted_propensity = (\n",
    "    modelpredictors.filter(pl.col(\"EntryType\") == \"Classifier\")\n",
    "    .with_columns(\n",
    "        AdjustedPropensity=((0.5 + BinPositives) / (1 + BinPositives + BinNegatives)),\n",
    "    )\n",
    "    .select(\n",
    "        pl.col(\"AdjustedPropensity\").where(\n",
    "            (pl.col(\"BinLowerBound\") < score) & (pl.col(\"BinUpperBound\") > score)\n",
    "        )\n",
    "    )[\"AdjustedPropensity\"][0]\n",
    "    * 100\n",
    ")\n",
    "adjusted_propensity = round(adjusted_propensity, 2)\n",
    "\n",
    "\n",
    "fig = ADMVisualisations.distribution_graph(\n",
    "    modelpredictors.filter(pl.col(\"EntryType\") == \"Classifier\"),\n",
    "    \"Propensity distribution\",\n",
    ").add_annotation(\n",
    "    x=score_bin,\n",
    "    y=1400,\n",
    "    text=\"Returned propensity: 1.7%\",\n",
    "    bgcolor=\"#FFFFFF\",\n",
    "    bordercolor=\"#000000\",\n",
    "    showarrow=False,\n",
    ")\n",
    "bin_index = list(fig.data[0][\"x\"]).index(score_bin)\n",
    "fig.data[0][\"marker_color\"] = [\"grey\"] * bin_index + [\"#1f77b4\"] + [\"grey\"]\n",
    "fig"
   ]
  }
 ],
 "metadata": {
  "kernelspec": {
   "display_name": "playground",
   "language": "python",
   "name": "python3"
  },
  "language_info": {
   "codemirror_mode": {
    "name": "ipython",
    "version": 3
   },
   "file_extension": ".py",
   "mimetype": "text/x-python",
   "name": "python",
   "nbconvert_exporter": "python",
   "pygments_lexer": "ipython3",
   "version": "3.11.3"
  }
 },
 "nbformat": 4,
 "nbformat_minor": 2
}
