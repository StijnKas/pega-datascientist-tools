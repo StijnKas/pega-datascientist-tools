{
 "cells": [
  {
   "cell_type": "markdown",
   "metadata": {},
   "source": [
    "# ADM Explained\n",
    "\n",
    "__Pega__\n",
    "\n",
    "__2023-03-15__\n",
    "\n",
    "This notebook shows exactly how all the values in an ADM model report are calculated. It also shows how the propensity is calculated for a particular customer.\n",
    "\n",
    "We use one of the shipped datamart exports for the example. This is a model very similar to one used in some of the ADM PowerPoint/Excel deep dive examples. To load your own data, see the vignette on ADM reporting for examples.\n",
    "\n",
    "For the example we use one particular model: AutoNew36Months over SMS. You can use your own data and select a different model.\n",
    "\n",
    "To explain the ADM model report, we use one of the IH predictors as an example. Swap for any other predictor when using different data.\n",
    "\n"
   ]
  },
  {
   "cell_type": "code",
   "execution_count": 1,
   "metadata": {
    "execution": {
     "iopub.execute_input": "2023-04-26T08:16:13.705732Z",
     "iopub.status.busy": "2023-04-26T08:16:13.704488Z",
     "iopub.status.idle": "2023-04-26T08:16:14.402449Z",
     "shell.execute_reply": "2023-04-26T08:16:14.401844Z"
    },
    "nbsphinx": "hidden"
   },
   "outputs": [],
   "source": [
    "# These lines are only for rendering in the docs, and are hidden through Jupyter tags\n",
    "# Do not run if you're running the notebook seperately\n",
    "\n",
    "import plotly.io as pio\n",
    "\n",
    "pio.renderers.default = \"notebook_connected\"\n",
    "\n",
    "import sys\n",
    "\n",
    "sys.path.append(\"../../../\")\n",
    "import pandas as pd\n",
    "pd.set_option('display.max_colwidth', 0)\n"
   ]
  },
  {
   "cell_type": "code",
   "execution_count": 2,
   "metadata": {
    "execution": {
     "iopub.execute_input": "2023-04-26T08:16:14.406151Z",
     "iopub.status.busy": "2023-04-26T08:16:14.405726Z",
     "iopub.status.idle": "2023-04-26T08:16:15.369670Z",
     "shell.execute_reply": "2023-04-26T08:16:15.369038Z"
    }
   },
   "outputs": [],
   "source": [
    "import polars as pl\n",
    "import numpy as np\n",
    "from plotly.subplots import make_subplots\n",
    "import plotly.graph_objects as go\n",
    "import plotly.express as px\n",
    "from typing import List\n",
    "\n",
    "from pdstools import datasets, cdh_utils\n",
    "\n",
    "pl.Config.set_fmt_str_lengths(100);"
   ]
  },
  {
   "cell_type": "code",
   "execution_count": 3,
   "metadata": {
    "execution": {
     "iopub.execute_input": "2023-04-26T08:16:15.373441Z",
     "iopub.status.busy": "2023-04-26T08:16:15.372799Z",
     "iopub.status.idle": "2023-04-26T08:16:16.470818Z",
     "shell.execute_reply": "2023-04-26T08:16:16.470190Z"
    }
   },
   "outputs": [],
   "source": [
    "dm = datasets.CDHSample(subset=False)\n",
    "\n",
    "model = dm.combinedData.filter(\n",
    "    (pl.col(\"Name\") == \"AutoNew36Months\") & (pl.col(\"Channel\") == \"SMS\")\n",
    ")\n",
    "\n",
    "modelpredictors = (\n",
    "    dm.combinedData.join(\n",
    "        model.select(pl.col(\"ModelID\").unique()), on=\"ModelID\", how=\"inner\"\n",
    "    )\n",
    "    .filter(pl.col(\"EntryType\") != \"Inactive\")\n",
    "    .with_columns(Action=pl.concat_str([\"Issue\", \"Group\"], separator=\"/\"))\n",
    "    .collect()\n",
    ")\n",
    "\n",
    "predictorbinning = modelpredictors.filter(\n",
    "    pl.col(\"PredictorName\") == \"IH.SMS.Outbound.Accepted.pyHistoricalOutcomeCount\"\n",
    ").sort(\"BinIndex\")"
   ]
  },
  {
   "cell_type": "markdown",
   "metadata": {},
   "source": [
    "## Model Overview"
   ]
  },
  {
   "cell_type": "code",
   "execution_count": 4,
   "metadata": {
    "execution": {
     "iopub.execute_input": "2023-04-26T08:16:16.473885Z",
     "iopub.status.busy": "2023-04-26T08:16:16.473677Z",
     "iopub.status.idle": "2023-04-26T08:16:17.039906Z",
     "shell.execute_reply": "2023-04-26T08:16:17.039157Z"
    }
   },
   "outputs": [
    {
     "name": "stderr",
     "output_type": "stream",
     "text": [
      "/tmp/ipykernel_2858/2987984251.py:5: DeprecationWarning:\n",
      "\n",
      "`Expr.list` has been renamed; this redirect is temporary, please use `.implode` instead\n",
      "\n"
     ]
    },
    {
     "ename": "InvalidOperationError",
     "evalue": "`lst.join` operation not supported for dtype `cat` (expected: Utf8)",
     "output_type": "error",
     "traceback": [
      "\u001b[0;31m---------------------------------------------------------------------------\u001b[0m",
      "\u001b[0;31mInvalidOperationError\u001b[0m                     Traceback (most recent call last)",
      "Cell \u001b[0;32mIn[4], line 1\u001b[0m\n\u001b[0;32m----> 1\u001b[0m \u001b[43mmodelpredictors\u001b[49m\u001b[38;5;241;43m.\u001b[39;49m\u001b[43mselect\u001b[49m\u001b[43m(\u001b[49m\n\u001b[1;32m      2\u001b[0m \u001b[43m    \u001b[49m\u001b[43mpl\u001b[49m\u001b[38;5;241;43m.\u001b[39;49m\u001b[43mcol\u001b[49m\u001b[43m(\u001b[49m\u001b[38;5;124;43m\"\u001b[39;49m\u001b[38;5;124;43mAction\u001b[39;49m\u001b[38;5;124;43m\"\u001b[39;49m\u001b[43m)\u001b[49m\u001b[38;5;241;43m.\u001b[39;49m\u001b[43munique\u001b[49m\u001b[43m(\u001b[49m\u001b[43m)\u001b[49m\u001b[43m,\u001b[49m\n\u001b[1;32m      3\u001b[0m \u001b[43m    \u001b[49m\u001b[43mpl\u001b[49m\u001b[38;5;241;43m.\u001b[39;49m\u001b[43mcol\u001b[49m\u001b[43m(\u001b[49m\u001b[38;5;124;43m\"\u001b[39;49m\u001b[38;5;124;43mChannel\u001b[39;49m\u001b[38;5;124;43m\"\u001b[39;49m\u001b[43m)\u001b[49m\u001b[38;5;241;43m.\u001b[39;49m\u001b[43munique\u001b[49m\u001b[43m(\u001b[49m\u001b[43m)\u001b[49m\u001b[43m,\u001b[49m\n\u001b[1;32m      4\u001b[0m \u001b[43m    \u001b[49m\u001b[43mpl\u001b[49m\u001b[38;5;241;43m.\u001b[39;49m\u001b[43mcol\u001b[49m\u001b[43m(\u001b[49m\u001b[38;5;124;43m\"\u001b[39;49m\u001b[38;5;124;43mName\u001b[39;49m\u001b[38;5;124;43m\"\u001b[39;49m\u001b[43m)\u001b[49m\u001b[38;5;241;43m.\u001b[39;49m\u001b[43munique\u001b[49m\u001b[43m(\u001b[49m\u001b[43m)\u001b[49m\u001b[43m,\u001b[49m\n\u001b[1;32m      5\u001b[0m \u001b[43m    \u001b[49m\u001b[43mpl\u001b[49m\u001b[38;5;241;43m.\u001b[39;49m\u001b[43mcol\u001b[49m\u001b[43m(\u001b[49m\u001b[38;5;124;43m\"\u001b[39;49m\u001b[38;5;124;43mPredictorName\u001b[39;49m\u001b[38;5;124;43m\"\u001b[39;49m\u001b[43m)\u001b[49m\u001b[38;5;241;43m.\u001b[39;49m\u001b[43munique\u001b[49m\u001b[43m(\u001b[49m\u001b[43m)\u001b[49m\u001b[38;5;241;43m.\u001b[39;49m\u001b[43msort\u001b[49m\u001b[43m(\u001b[49m\u001b[43m)\u001b[49m\u001b[38;5;241;43m.\u001b[39;49m\u001b[43mlist\u001b[49m\u001b[43m(\u001b[49m\u001b[43m)\u001b[49m\n\u001b[1;32m      6\u001b[0m \u001b[43m    \u001b[49m\u001b[38;5;241;43m.\u001b[39;49m\u001b[43marr\u001b[49m\u001b[38;5;241;43m.\u001b[39;49m\u001b[43mjoin\u001b[49m\u001b[43m(\u001b[49m\u001b[38;5;124;43m\"\u001b[39;49m\u001b[38;5;124;43m, \u001b[39;49m\u001b[38;5;124;43m\"\u001b[39;49m\u001b[43m)\u001b[49m\u001b[38;5;241;43m.\u001b[39;49m\u001b[43malias\u001b[49m\u001b[43m(\u001b[49m\u001b[38;5;124;43m\"\u001b[39;49m\u001b[38;5;124;43mActive Predictors\u001b[39;49m\u001b[38;5;124;43m\"\u001b[39;49m\u001b[43m)\u001b[49m\u001b[43m,\u001b[49m\n\u001b[1;32m      7\u001b[0m \u001b[43m    \u001b[49m\u001b[43m(\u001b[49m\u001b[43mpl\u001b[49m\u001b[38;5;241;43m.\u001b[39;49m\u001b[43mcol\u001b[49m\u001b[43m(\u001b[49m\u001b[38;5;124;43m\"\u001b[39;49m\u001b[38;5;124;43mPerformance\u001b[39;49m\u001b[38;5;124;43m\"\u001b[39;49m\u001b[43m)\u001b[49m\u001b[38;5;241;43m.\u001b[39;49m\u001b[43munique\u001b[49m\u001b[43m(\u001b[49m\u001b[43m)\u001b[49m\u001b[43m \u001b[49m\u001b[38;5;241;43m*\u001b[39;49m\u001b[43m \u001b[49m\u001b[38;5;241;43m100\u001b[39;49m\u001b[43m)\u001b[49m\u001b[38;5;241;43m.\u001b[39;49m\u001b[43malias\u001b[49m\u001b[43m(\u001b[49m\u001b[38;5;124;43m\"\u001b[39;49m\u001b[38;5;124;43mModel Performance (AUC)\u001b[39;49m\u001b[38;5;124;43m\"\u001b[39;49m\u001b[43m)\u001b[49m\u001b[43m,\u001b[49m\n\u001b[1;32m      8\u001b[0m \u001b[43m)\u001b[49m\u001b[38;5;241m.\u001b[39mto_pandas()\u001b[38;5;241m.\u001b[39mT\u001b[38;5;241m.\u001b[39mset_axis([\u001b[38;5;124m\"\u001b[39m\u001b[38;5;124mValues\u001b[39m\u001b[38;5;124m\"\u001b[39m], axis\u001b[38;5;241m=\u001b[39m\u001b[38;5;241m1\u001b[39m)\n",
      "File \u001b[0;32m/opt/hostedtoolcache/Python/3.11.3/x64/lib/python3.11/site-packages/polars/dataframe/frame.py:6884\u001b[0m, in \u001b[0;36mDataFrame.select\u001b[0;34m(self, exprs, *more_exprs, **named_exprs)\u001b[0m\n\u001b[1;32m   6775\u001b[0m \u001b[38;5;28;01mdef\u001b[39;00m \u001b[38;5;21mselect\u001b[39m(\n\u001b[1;32m   6776\u001b[0m     \u001b[38;5;28mself\u001b[39m,\n\u001b[1;32m   6777\u001b[0m     exprs: IntoExpr \u001b[38;5;241m|\u001b[39m Iterable[IntoExpr] \u001b[38;5;241m|\u001b[39m \u001b[38;5;28;01mNone\u001b[39;00m \u001b[38;5;241m=\u001b[39m \u001b[38;5;28;01mNone\u001b[39;00m,\n\u001b[1;32m   6778\u001b[0m     \u001b[38;5;241m*\u001b[39mmore_exprs: IntoExpr,\n\u001b[1;32m   6779\u001b[0m     \u001b[38;5;241m*\u001b[39m\u001b[38;5;241m*\u001b[39mnamed_exprs: IntoExpr,\n\u001b[1;32m   6780\u001b[0m ) \u001b[38;5;241m-\u001b[39m\u001b[38;5;241m>\u001b[39m Self:\n\u001b[1;32m   6781\u001b[0m \u001b[38;5;250m    \u001b[39m\u001b[38;5;124;03m\"\"\"\u001b[39;00m\n\u001b[1;32m   6782\u001b[0m \u001b[38;5;124;03m    Select columns from this DataFrame.\u001b[39;00m\n\u001b[1;32m   6783\u001b[0m \n\u001b[0;32m   (...)\u001b[0m\n\u001b[1;32m   6879\u001b[0m \n\u001b[1;32m   6880\u001b[0m \u001b[38;5;124;03m    \"\"\"\u001b[39;00m\n\u001b[1;32m   6881\u001b[0m     \u001b[38;5;28;01mreturn\u001b[39;00m \u001b[38;5;28mself\u001b[39m\u001b[38;5;241m.\u001b[39m_from_pydf(\n\u001b[1;32m   6882\u001b[0m         \u001b[38;5;28;43mself\u001b[39;49m\u001b[38;5;241;43m.\u001b[39;49m\u001b[43mlazy\u001b[49m\u001b[43m(\u001b[49m\u001b[43m)\u001b[49m\n\u001b[1;32m   6883\u001b[0m \u001b[43m        \u001b[49m\u001b[38;5;241;43m.\u001b[39;49m\u001b[43mselect\u001b[49m\u001b[43m(\u001b[49m\u001b[43mexprs\u001b[49m\u001b[43m,\u001b[49m\u001b[43m \u001b[49m\u001b[38;5;241;43m*\u001b[39;49m\u001b[43mmore_exprs\u001b[49m\u001b[43m,\u001b[49m\u001b[43m \u001b[49m\u001b[38;5;241;43m*\u001b[39;49m\u001b[38;5;241;43m*\u001b[39;49m\u001b[43mnamed_exprs\u001b[49m\u001b[43m)\u001b[49m\n\u001b[0;32m-> 6884\u001b[0m \u001b[43m        \u001b[49m\u001b[38;5;241;43m.\u001b[39;49m\u001b[43mcollect\u001b[49m\u001b[43m(\u001b[49m\u001b[43mno_optimization\u001b[49m\u001b[38;5;241;43m=\u001b[39;49m\u001b[38;5;28;43;01mTrue\u001b[39;49;00m\u001b[43m)\u001b[49m\n\u001b[1;32m   6885\u001b[0m         \u001b[38;5;241m.\u001b[39m_df\n\u001b[1;32m   6886\u001b[0m     )\n",
      "File \u001b[0;32m/opt/hostedtoolcache/Python/3.11.3/x64/lib/python3.11/site-packages/polars/lazyframe/frame.py:1606\u001b[0m, in \u001b[0;36mLazyFrame.collect\u001b[0;34m(self, type_coercion, predicate_pushdown, projection_pushdown, simplify_expression, no_optimization, slice_pushdown, common_subplan_elimination, streaming)\u001b[0m\n\u001b[1;32m   1595\u001b[0m     common_subplan_elimination \u001b[38;5;241m=\u001b[39m \u001b[38;5;28;01mFalse\u001b[39;00m\n\u001b[1;32m   1597\u001b[0m ldf \u001b[38;5;241m=\u001b[39m \u001b[38;5;28mself\u001b[39m\u001b[38;5;241m.\u001b[39m_ldf\u001b[38;5;241m.\u001b[39moptimization_toggle(\n\u001b[1;32m   1598\u001b[0m     type_coercion,\n\u001b[1;32m   1599\u001b[0m     predicate_pushdown,\n\u001b[0;32m   (...)\u001b[0m\n\u001b[1;32m   1604\u001b[0m     streaming,\n\u001b[1;32m   1605\u001b[0m )\n\u001b[0;32m-> 1606\u001b[0m \u001b[38;5;28;01mreturn\u001b[39;00m wrap_df(ldf\u001b[38;5;241m.\u001b[39mcollect())\n",
      "\u001b[0;31mInvalidOperationError\u001b[0m: `lst.join` operation not supported for dtype `cat` (expected: Utf8)"
     ]
    }
   ],
   "source": [
    "modelpredictors.select(\n",
    "    pl.col(\"Action\").unique(),\n",
    "    pl.col(\"Channel\").unique(),\n",
    "    pl.col(\"Name\").unique(),\n",
    "    pl.col(\"PredictorName\").unique().sort().list()\n",
    "    .arr.join(\", \").alias(\"Active Predictors\"),\n",
    "    (pl.col(\"Performance\").unique() * 100).alias(\"Model Performance (AUC)\"),\n",
    ").to_pandas().T.set_axis([\"Values\"], axis=1)\n"
   ]
  },
  {
   "cell_type": "markdown",
   "metadata": {},
   "source": [
    "## Predictor binning for IH.SMS.Outbound.Accepted.pyHistoricalOutcomeCount\n"
   ]
  },
  {
   "attachments": {},
   "cell_type": "markdown",
   "metadata": {},
   "source": [
    "The ADM model report will show predictor binning similar to this, with all displayed data coming from fields in the ADM data mart. In subsequent sections we’ll show how all the data is derived from the number of positives and negatives in each of the bins.\n",
    "\n"
   ]
  },
  {
   "cell_type": "code",
   "execution_count": 5,
   "metadata": {
    "execution": {
     "iopub.execute_input": "2023-04-26T08:16:17.043054Z",
     "iopub.status.busy": "2023-04-26T08:16:17.042851Z",
     "iopub.status.idle": "2023-04-26T08:16:17.069994Z",
     "shell.execute_reply": "2023-04-26T08:16:17.069334Z"
    }
   },
   "outputs": [
    {
     "ename": "ComputeError",
     "evalue": "failed to determine supertype of cat and f32",
     "output_type": "error",
     "traceback": [
      "\u001b[0;31m---------------------------------------------------------------------------\u001b[0m",
      "\u001b[0;31mComputeError\u001b[0m                              Traceback (most recent call last)",
      "Cell \u001b[0;32mIn[5], line 5\u001b[0m\n\u001b[1;32m      1\u001b[0m \u001b[43mpredictorbinning\u001b[49m\u001b[38;5;241;43m.\u001b[39;49m\u001b[43mgroupby\u001b[49m\u001b[43m(\u001b[49m\u001b[38;5;124;43m\"\u001b[39;49m\u001b[38;5;124;43mPredictorName\u001b[39;49m\u001b[38;5;124;43m\"\u001b[39;49m\u001b[43m)\u001b[49m\u001b[38;5;241;43m.\u001b[39;49m\u001b[43magg\u001b[49m\u001b[43m(\u001b[49m\n\u001b[1;32m      2\u001b[0m \u001b[43m    \u001b[49m\u001b[43mpl\u001b[49m\u001b[38;5;241;43m.\u001b[39;49m\u001b[43mfirst\u001b[49m\u001b[43m(\u001b[49m\u001b[38;5;124;43m\"\u001b[39;49m\u001b[38;5;124;43mResponseCount\u001b[39;49m\u001b[38;5;124;43m\"\u001b[39;49m\u001b[43m)\u001b[49m\u001b[38;5;241;43m.\u001b[39;49m\u001b[43malias\u001b[49m\u001b[43m(\u001b[49m\u001b[38;5;124;43m\"\u001b[39;49m\u001b[38;5;124;43m# Responses\u001b[39;49m\u001b[38;5;124;43m\"\u001b[39;49m\u001b[43m)\u001b[49m\u001b[43m,\u001b[49m\n\u001b[1;32m      3\u001b[0m \u001b[43m    \u001b[49m\u001b[43mpl\u001b[49m\u001b[38;5;241;43m.\u001b[39;49m\u001b[43mn_unique\u001b[49m\u001b[43m(\u001b[49m\u001b[38;5;124;43m\"\u001b[39;49m\u001b[38;5;124;43mBinIndex\u001b[39;49m\u001b[38;5;124;43m\"\u001b[39;49m\u001b[43m)\u001b[49m\u001b[38;5;241;43m.\u001b[39;49m\u001b[43malias\u001b[49m\u001b[43m(\u001b[49m\u001b[38;5;124;43m\"\u001b[39;49m\u001b[38;5;124;43m# Bins\u001b[39;49m\u001b[38;5;124;43m\"\u001b[39;49m\u001b[43m)\u001b[49m\u001b[43m,\u001b[49m\n\u001b[1;32m      4\u001b[0m \u001b[43m    \u001b[49m\u001b[43m(\u001b[49m\u001b[43mpl\u001b[49m\u001b[38;5;241;43m.\u001b[39;49m\u001b[43mfirst\u001b[49m\u001b[43m(\u001b[49m\u001b[38;5;124;43m\"\u001b[39;49m\u001b[38;5;124;43mPerformanceBin\u001b[39;49m\u001b[38;5;124;43m\"\u001b[39;49m\u001b[43m)\u001b[49m\u001b[43m \u001b[49m\u001b[38;5;241;43m*\u001b[39;49m\u001b[43m \u001b[49m\u001b[38;5;241;43m100\u001b[39;49m\u001b[43m)\u001b[49m\u001b[38;5;241;43m.\u001b[39;49m\u001b[43malias\u001b[49m\u001b[43m(\u001b[49m\u001b[38;5;124;43m\"\u001b[39;49m\u001b[38;5;124;43mPredictor Performance(AUC)\u001b[39;49m\u001b[38;5;124;43m\"\u001b[39;49m\u001b[43m)\u001b[49m\u001b[43m,\u001b[49m\n\u001b[0;32m----> 5\u001b[0m \u001b[43m)\u001b[49m\u001b[38;5;241;43m.\u001b[39;49m\u001b[43mrename\u001b[49m\u001b[43m(\u001b[49m\u001b[43m{\u001b[49m\u001b[38;5;124;43m\"\u001b[39;49m\u001b[38;5;124;43mPredictorName\u001b[39;49m\u001b[38;5;124;43m\"\u001b[39;49m\u001b[43m:\u001b[49m\u001b[43m \u001b[49m\u001b[38;5;124;43m\"\u001b[39;49m\u001b[38;5;124;43mPredictor Name\u001b[39;49m\u001b[38;5;124;43m\"\u001b[39;49m\u001b[43m}\u001b[49m\u001b[43m)\u001b[49m\u001b[38;5;241;43m.\u001b[39;49m\u001b[43mtranspose\u001b[49m\u001b[43m(\u001b[49m\u001b[43minclude_header\u001b[49m\u001b[38;5;241;43m=\u001b[39;49m\u001b[38;5;28;43;01mTrue\u001b[39;49;00m\u001b[43m)\u001b[49m\u001b[38;5;241m.\u001b[39mrename(\n\u001b[1;32m      6\u001b[0m     {\u001b[38;5;124m\"\u001b[39m\u001b[38;5;124mcolumn\u001b[39m\u001b[38;5;124m\"\u001b[39m: \u001b[38;5;124m\"\u001b[39m\u001b[38;5;124m\"\u001b[39m, \u001b[38;5;124m\"\u001b[39m\u001b[38;5;124mcolumn_0\u001b[39m\u001b[38;5;124m\"\u001b[39m: \u001b[38;5;124m\"\u001b[39m\u001b[38;5;124mValue\u001b[39m\u001b[38;5;124m\"\u001b[39m}\n\u001b[1;32m      7\u001b[0m )\n",
      "File \u001b[0;32m/opt/hostedtoolcache/Python/3.11.3/x64/lib/python3.11/site-packages/polars/dataframe/frame.py:3314\u001b[0m, in \u001b[0;36mDataFrame.transpose\u001b[0;34m(self, include_header, header_name, column_names)\u001b[0m\n\u001b[1;32m   3222\u001b[0m \u001b[38;5;28;01mdef\u001b[39;00m \u001b[38;5;21mtranspose\u001b[39m(\n\u001b[1;32m   3223\u001b[0m     \u001b[38;5;28mself\u001b[39m,\n\u001b[1;32m   3224\u001b[0m     \u001b[38;5;241m*\u001b[39m,\n\u001b[0;32m   (...)\u001b[0m\n\u001b[1;32m   3227\u001b[0m     column_names: Iterator[\u001b[38;5;28mstr\u001b[39m] \u001b[38;5;241m|\u001b[39m Sequence[\u001b[38;5;28mstr\u001b[39m] \u001b[38;5;241m|\u001b[39m \u001b[38;5;28;01mNone\u001b[39;00m \u001b[38;5;241m=\u001b[39m \u001b[38;5;28;01mNone\u001b[39;00m,\n\u001b[1;32m   3228\u001b[0m ) \u001b[38;5;241m-\u001b[39m\u001b[38;5;241m>\u001b[39m Self:\n\u001b[1;32m   3229\u001b[0m \u001b[38;5;250m    \u001b[39m\u001b[38;5;124;03m\"\"\"\u001b[39;00m\n\u001b[1;32m   3230\u001b[0m \u001b[38;5;124;03m    Transpose a DataFrame over the diagonal.\u001b[39;00m\n\u001b[1;32m   3231\u001b[0m \n\u001b[0;32m   (...)\u001b[0m\n\u001b[1;32m   3312\u001b[0m \n\u001b[1;32m   3313\u001b[0m \u001b[38;5;124;03m    \"\"\"\u001b[39;00m\n\u001b[0;32m-> 3314\u001b[0m     df \u001b[38;5;241m=\u001b[39m \u001b[38;5;28mself\u001b[39m\u001b[38;5;241m.\u001b[39m_from_pydf(\u001b[38;5;28;43mself\u001b[39;49m\u001b[38;5;241;43m.\u001b[39;49m\u001b[43m_df\u001b[49m\u001b[38;5;241;43m.\u001b[39;49m\u001b[43mtranspose\u001b[49m\u001b[43m(\u001b[49m\u001b[43minclude_header\u001b[49m\u001b[43m,\u001b[49m\u001b[43m \u001b[49m\u001b[43mheader_name\u001b[49m\u001b[43m)\u001b[49m)\n\u001b[1;32m   3315\u001b[0m     \u001b[38;5;28;01mif\u001b[39;00m column_names \u001b[38;5;129;01mis\u001b[39;00m \u001b[38;5;129;01mnot\u001b[39;00m \u001b[38;5;28;01mNone\u001b[39;00m:\n\u001b[1;32m   3316\u001b[0m         names \u001b[38;5;241m=\u001b[39m []\n",
      "\u001b[0;31mComputeError\u001b[0m: failed to determine supertype of cat and f32"
     ]
    }
   ],
   "source": [
    "predictorbinning.groupby(\"PredictorName\").agg(\n",
    "    pl.first(\"ResponseCount\").alias(\"# Responses\"),\n",
    "    pl.n_unique(\"BinIndex\").alias(\"# Bins\"),\n",
    "    (pl.first(\"PerformanceBin\") * 100).alias(\"Predictor Performance(AUC)\"),\n",
    ").rename({\"PredictorName\": \"Predictor Name\"}).transpose(include_header=True).rename(\n",
    "    {\"column\": \"\", \"column_0\": \"Value\"}\n",
    ")\n"
   ]
  },
  {
   "cell_type": "code",
   "execution_count": 6,
   "metadata": {
    "execution": {
     "iopub.execute_input": "2023-04-26T08:16:17.072508Z",
     "iopub.status.busy": "2023-04-26T08:16:17.072310Z",
     "iopub.status.idle": "2023-04-26T08:16:17.083115Z",
     "shell.execute_reply": "2023-04-26T08:16:17.082571Z"
    }
   },
   "outputs": [
    {
     "data": {
      "text/html": [
       "<div><style>\n",
       ".dataframe > thead > tr > th,\n",
       ".dataframe > tbody > tr > td {\n",
       "  text-align: right;\n",
       "}\n",
       "</style>\n",
       "<small>shape: (5, 9)</small><table border=\"1\" class=\"dataframe\"><thead><tr><th>Range/Symbol</th><th>Responses (%)</th><th>Positives</th><th>Positives (%)</th><th>Negatives</th><th>Negatives (%)</th><th>Propensity (%)</th><th>ZRatio</th><th>Lift</th></tr><tr><td>str</td><td>f32</td><td>f32</td><td>f32</td><td>f32</td><td>f32</td><td>f32</td><td>f64</td><td>f64</td></tr></thead><tbody><tr><td>&quot;MISSING&quot;</td><td>0.0</td><td>0.0</td><td>0.0</td><td>5.0</td><td>0.0</td><td>0.0</td><td>-2.237073</td><td>0.0</td></tr><tr><td>&quot;&lt;7.08&quot;</td><td>0.4</td><td>7.0</td><td>0.19</td><td>2208.0</td><td>0.4</td><td>0.0032</td><td>-3.051114</td><td>0.491773</td></tr><tr><td>&quot;[7.08, 12.04&gt;&quot;</td><td>0.34</td><td>11.0</td><td>0.31</td><td>1919.0</td><td>0.34</td><td>0.0057</td><td>-0.509054</td><td>0.886903</td></tr><tr><td>&quot;[12.04, 18.04&gt;&quot;</td><td>0.2</td><td>12.0</td><td>0.33</td><td>1082.0</td><td>0.19</td><td>0.011</td><td>1.764386</td><td>1.706886</td></tr><tr><td>&quot;&gt;=18.04&quot;</td><td>0.06</td><td>6.0</td><td>0.17</td><td>352.0</td><td>0.06</td><td>0.0168</td><td>1.662827</td><td>2.608007</td></tr></tbody></table></div>"
      ],
      "text/plain": [
       "shape: (5, 9)\n",
       "┌────────────┬────────────┬───────────┬────────────┬───┬────────────┬────────────┬───────────┬──────────┐\n",
       "│ Range/Symb ┆ Responses  ┆ Positives ┆ Positives  ┆ … ┆ Negatives  ┆ Propensity ┆ ZRatio    ┆ Lift     │\n",
       "│ ol         ┆ (%)        ┆ ---       ┆ (%)        ┆   ┆ (%)        ┆ (%)        ┆ ---       ┆ ---      │\n",
       "│ ---        ┆ ---        ┆ f32       ┆ ---        ┆   ┆ ---        ┆ ---        ┆ f64       ┆ f64      │\n",
       "│ str        ┆ f32        ┆           ┆ f32        ┆   ┆ f32        ┆ f32        ┆           ┆          │\n",
       "╞════════════╪════════════╪═══════════╪════════════╪═══╪════════════╪════════════╪═══════════╪══════════╡\n",
       "│ MISSING    ┆ 0.0        ┆ 0.0       ┆ 0.0        ┆ … ┆ 0.0        ┆ 0.0        ┆ -2.237073 ┆ 0.0      │\n",
       "│ <7.08      ┆ 0.4        ┆ 7.0       ┆ 0.19       ┆ … ┆ 0.4        ┆ 0.0032     ┆ -3.051114 ┆ 0.491773 │\n",
       "│ [7.08,     ┆ 0.34       ┆ 11.0      ┆ 0.31       ┆ … ┆ 0.34       ┆ 0.0057     ┆ -0.509054 ┆ 0.886903 │\n",
       "│ 12.04>     ┆            ┆           ┆            ┆   ┆            ┆            ┆           ┆          │\n",
       "│ [12.04,    ┆ 0.2        ┆ 12.0      ┆ 0.33       ┆ … ┆ 0.19       ┆ 0.011      ┆ 1.764386  ┆ 1.706886 │\n",
       "│ 18.04>     ┆            ┆           ┆            ┆   ┆            ┆            ┆           ┆          │\n",
       "│ >=18.04    ┆ 0.06       ┆ 6.0       ┆ 0.17       ┆ … ┆ 0.06       ┆ 0.0168     ┆ 1.662827  ┆ 2.608007 │\n",
       "└────────────┴────────────┴───────────┴────────────┴───┴────────────┴────────────┴───────────┴──────────┘"
      ]
     },
     "execution_count": 6,
     "metadata": {},
     "output_type": "execute_result"
    }
   ],
   "source": [
    "BinPositives = pl.col(\"BinPositives\")\n",
    "BinNegatives = pl.col(\"BinNegatives\")\n",
    "sumPositives = pl.sum(\"BinPositives\")\n",
    "sumNegatives = pl.sum(\"BinNegatives\")\n",
    "\n",
    "predictorbinning.select(\n",
    "    pl.col(\"BinSymbol\").alias(\"Range/Symbol\"),\n",
    "    ((BinPositives + BinNegatives) / (sumPositives + sumNegatives))\n",
    "    .round(2)\n",
    "    .alias(\"Responses (%)\"),\n",
    "    BinPositives.alias(\"Positives\"),\n",
    "    (BinPositives / sumPositives).round(2).alias(\"Positives (%)\"),\n",
    "    BinNegatives.alias(\"Negatives\"),\n",
    "    (BinNegatives / sumNegatives).round(2).alias(\"Negatives (%)\"),\n",
    "    (BinPositives / (BinPositives + BinNegatives)).round(4).alias(\"Propensity (%)\"),\n",
    "    pl.col(\"ZRatio\"),\n",
    "    pl.col(\"Lift\"),\n",
    ")\n"
   ]
  },
  {
   "cell_type": "markdown",
   "metadata": {},
   "source": [
    "## Bin Statistics"
   ]
  },
  {
   "cell_type": "markdown",
   "metadata": {},
   "source": [
    "### Positive and Negative ratios"
   ]
  },
  {
   "cell_type": "markdown",
   "metadata": {},
   "source": [
    "Internally, ADM only keeps track of the total counts of positive and negative responses in each bin. Everything else is derived from those numbers. The percentages and totals are trivially derived, and the propensity is just the number of positives divided by the total. The numbers calculated here match the numbers from the datamart table exactly."
   ]
  },
  {
   "cell_type": "code",
   "execution_count": 7,
   "metadata": {
    "execution": {
     "iopub.execute_input": "2023-04-26T08:16:17.086087Z",
     "iopub.status.busy": "2023-04-26T08:16:17.085648Z",
     "iopub.status.idle": "2023-04-26T08:16:17.093717Z",
     "shell.execute_reply": "2023-04-26T08:16:17.093175Z"
    }
   },
   "outputs": [
    {
     "data": {
      "text/html": [
       "<div><style>\n",
       ".dataframe > thead > tr > th,\n",
       ".dataframe > tbody > tr > td {\n",
       "  text-align: right;\n",
       "}\n",
       "</style>\n",
       "<small>shape: (5, 7)</small><table border=\"1\" class=\"dataframe\"><thead><tr><th>Range/Symbol</th><th>Positives</th><th>Negatives</th><th>Responses %</th><th>Positives %</th><th>Negatives %</th><th>Propensity</th></tr><tr><td>str</td><td>f32</td><td>f32</td><td>f32</td><td>f32</td><td>f32</td><td>f32</td></tr></thead><tbody><tr><td>&quot;MISSING&quot;</td><td>0.0</td><td>5.0</td><td>0.09</td><td>0.0</td><td>0.09</td><td>0.0</td></tr><tr><td>&quot;&lt;7.08&quot;</td><td>7.0</td><td>2208.0</td><td>39.540001</td><td>19.440001</td><td>39.669998</td><td>0.0032</td></tr><tr><td>&quot;[7.08, 12.04&gt;&quot;</td><td>11.0</td><td>1919.0</td><td>34.450001</td><td>30.559999</td><td>34.48</td><td>0.0057</td></tr><tr><td>&quot;[12.04, 18.04&gt;&quot;</td><td>12.0</td><td>1082.0</td><td>19.530001</td><td>33.330002</td><td>19.440001</td><td>0.011</td></tr><tr><td>&quot;&gt;=18.04&quot;</td><td>6.0</td><td>352.0</td><td>6.39</td><td>16.67</td><td>6.32</td><td>0.0168</td></tr></tbody></table></div>"
      ],
      "text/plain": [
       "shape: (5, 7)\n",
       "┌────────────────┬───────────┬───────────┬─────────────┬─────────────┬─────────────┬────────────┐\n",
       "│ Range/Symbol   ┆ Positives ┆ Negatives ┆ Responses % ┆ Positives % ┆ Negatives % ┆ Propensity │\n",
       "│ ---            ┆ ---       ┆ ---       ┆ ---         ┆ ---         ┆ ---         ┆ ---        │\n",
       "│ str            ┆ f32       ┆ f32       ┆ f32         ┆ f32         ┆ f32         ┆ f32        │\n",
       "╞════════════════╪═══════════╪═══════════╪═════════════╪═════════════╪═════════════╪════════════╡\n",
       "│ MISSING        ┆ 0.0       ┆ 5.0       ┆ 0.09        ┆ 0.0         ┆ 0.09        ┆ 0.0        │\n",
       "│ <7.08          ┆ 7.0       ┆ 2208.0    ┆ 39.540001   ┆ 19.440001   ┆ 39.669998   ┆ 0.0032     │\n",
       "│ [7.08, 12.04>  ┆ 11.0      ┆ 1919.0    ┆ 34.450001   ┆ 30.559999   ┆ 34.48       ┆ 0.0057     │\n",
       "│ [12.04, 18.04> ┆ 12.0      ┆ 1082.0    ┆ 19.530001   ┆ 33.330002   ┆ 19.440001   ┆ 0.011      │\n",
       "│ >=18.04        ┆ 6.0       ┆ 352.0     ┆ 6.39        ┆ 16.67       ┆ 6.32        ┆ 0.0168     │\n",
       "└────────────────┴───────────┴───────────┴─────────────┴─────────────┴─────────────┴────────────┘"
      ]
     },
     "execution_count": 7,
     "metadata": {},
     "output_type": "execute_result"
    }
   ],
   "source": [
    "binningDerived = predictorbinning.select(\n",
    "    pl.col(\"BinSymbol\").alias(\"Range/Symbol\"),\n",
    "    BinPositives.alias(\"Positives\"),\n",
    "    BinNegatives.alias(\"Negatives\"),\n",
    "    (((BinPositives + BinNegatives) / (sumPositives + sumNegatives)) * 100)\n",
    "    .round(2)\n",
    "    .alias(\"Responses %\"),\n",
    "    ((BinPositives / sumPositives) * 100).round(2).alias(\"Positives %\"),\n",
    "    ((BinNegatives/sumNegatives) * 100).round(2).alias(\"Negatives %\"),\n",
    "    (BinPositives / (BinPositives + BinNegatives))\n",
    "    .round(4)\n",
    "    .alias(\"Propensity\"),\n",
    ")\n",
    "binningDerived"
   ]
  },
  {
   "cell_type": "markdown",
   "metadata": {},
   "source": [
    "### Lift"
   ]
  },
  {
   "attachments": {},
   "cell_type": "markdown",
   "metadata": {},
   "source": [
    "Lift is the ratio of the propensity in a particular bin over the average propensity. So a value of 1 is the average, larger than 1 means higher propensity, smaller means lower propensity:"
   ]
  },
  {
   "cell_type": "code",
   "execution_count": 8,
   "metadata": {
    "execution": {
     "iopub.execute_input": "2023-04-26T08:16:17.096203Z",
     "iopub.status.busy": "2023-04-26T08:16:17.095775Z",
     "iopub.status.idle": "2023-04-26T08:16:17.101430Z",
     "shell.execute_reply": "2023-04-26T08:16:17.100889Z"
    }
   },
   "outputs": [
    {
     "data": {
      "text/html": [
       "<div><style>\n",
       ".dataframe > thead > tr > th,\n",
       ".dataframe > tbody > tr > td {\n",
       "  text-align: right;\n",
       "}\n",
       "</style>\n",
       "<small>shape: (5, 4)</small><table border=\"1\" class=\"dataframe\"><thead><tr><th>Range/Symbol</th><th>Positives</th><th>Negatives</th><th>Lift</th></tr><tr><td>str</td><td>f32</td><td>f32</td><td>f32</td></tr></thead><tbody><tr><td>&quot;MISSING&quot;</td><td>0.0</td><td>5.0</td><td>0.0</td></tr><tr><td>&quot;&lt;7.08&quot;</td><td>7.0</td><td>2208.0</td><td>0.491773</td></tr><tr><td>&quot;[7.08, 12.04&gt;&quot;</td><td>11.0</td><td>1919.0</td><td>0.886903</td></tr><tr><td>&quot;[12.04, 18.04&gt;&quot;</td><td>12.0</td><td>1082.0</td><td>1.706886</td></tr><tr><td>&quot;&gt;=18.04&quot;</td><td>6.0</td><td>352.0</td><td>2.608008</td></tr></tbody></table></div>"
      ],
      "text/plain": [
       "shape: (5, 4)\n",
       "┌────────────────┬───────────┬───────────┬──────────┐\n",
       "│ Range/Symbol   ┆ Positives ┆ Negatives ┆ Lift     │\n",
       "│ ---            ┆ ---       ┆ ---       ┆ ---      │\n",
       "│ str            ┆ f32       ┆ f32       ┆ f32      │\n",
       "╞════════════════╪═══════════╪═══════════╪══════════╡\n",
       "│ MISSING        ┆ 0.0       ┆ 5.0       ┆ 0.0      │\n",
       "│ <7.08          ┆ 7.0       ┆ 2208.0    ┆ 0.491773 │\n",
       "│ [7.08, 12.04>  ┆ 11.0      ┆ 1919.0    ┆ 0.886903 │\n",
       "│ [12.04, 18.04> ┆ 12.0      ┆ 1082.0    ┆ 1.706886 │\n",
       "│ >=18.04        ┆ 6.0       ┆ 352.0     ┆ 2.608008 │\n",
       "└────────────────┴───────────┴───────────┴──────────┘"
      ]
     },
     "execution_count": 8,
     "metadata": {},
     "output_type": "execute_result"
    }
   ],
   "source": [
    "Positives = pl.col('Positives')\n",
    "Negatives = pl.col('Negatives')\n",
    "sumPositives = pl.sum(\"Positives\")\n",
    "sumNegatives = pl.sum(\"Negatives\")\n",
    "binningDerived.select(\n",
    "    \"Range/Symbol\",\n",
    "    \"Positives\",\n",
    "    \"Negatives\",\n",
    "    (\n",
    "        (Positives / (Positives + Negatives))\n",
    "        / (sumPositives / (Positives + Negatives).sum())\n",
    "    ).alias(\"Lift\"),\n",
    ")\n"
   ]
  },
  {
   "cell_type": "markdown",
   "metadata": {},
   "source": [
    "### Z-Ratio"
   ]
  },
  {
   "attachments": {},
   "cell_type": "markdown",
   "metadata": {},
   "source": [
    "The Z-Ratio is also a measure of the how the propensity in a bin differs from the average, but takes into account the size of the bin and thus is statistically more relevant. It represents the number of standard deviations from the average, so centers around 0. The wider the spread, the better the predictor is.\n",
    "$$\\frac{posFraction-negFraction}{\\sqrt(\\frac{posFraction*(1-posFraction)}{\\sum positives}+\\frac{negFraction*(1-negFraction)}{\\sum negatives})}$$ \n",
    "\n",
    "See the calculation here, which is also included in [`cdh_utils`' `zRatio()`](https://pegasystems.github.io/pega-datascientist-tools/Python/autoapi/pdstools/utils/cdh_utils/index.html#pdstools.utils.cdh_utils.zRatio) function."
   ]
  },
  {
   "cell_type": "code",
   "execution_count": 9,
   "metadata": {
    "execution": {
     "iopub.execute_input": "2023-04-26T08:16:17.103866Z",
     "iopub.status.busy": "2023-04-26T08:16:17.103431Z",
     "iopub.status.idle": "2023-04-26T08:16:17.111580Z",
     "shell.execute_reply": "2023-04-26T08:16:17.111040Z"
    }
   },
   "outputs": [
    {
     "data": {
      "text/html": [
       "<div><style>\n",
       ".dataframe > thead > tr > th,\n",
       ".dataframe > tbody > tr > td {\n",
       "  text-align: right;\n",
       "}\n",
       "</style>\n",
       "<small>shape: (5, 6)</small><table border=\"1\" class=\"dataframe\"><thead><tr><th>Range/Symbol</th><th>Positives</th><th>Negatives</th><th>Positives %</th><th>Negatives %</th><th>ZRatio</th></tr><tr><td>str</td><td>f32</td><td>f32</td><td>f32</td><td>f32</td><td>f64</td></tr></thead><tbody><tr><td>&quot;MISSING&quot;</td><td>0.0</td><td>5.0</td><td>0.0</td><td>0.09</td><td>-2.237073</td></tr><tr><td>&quot;&lt;7.08&quot;</td><td>7.0</td><td>2208.0</td><td>19.440001</td><td>39.669998</td><td>-3.051113</td></tr><tr><td>&quot;[7.08, 12.04&gt;&quot;</td><td>11.0</td><td>1919.0</td><td>30.559999</td><td>34.48</td><td>-0.509054</td></tr><tr><td>&quot;[12.04, 18.04&gt;&quot;</td><td>12.0</td><td>1082.0</td><td>33.330002</td><td>19.440001</td><td>1.764386</td></tr><tr><td>&quot;&gt;=18.04&quot;</td><td>6.0</td><td>352.0</td><td>16.67</td><td>6.32</td><td>1.662827</td></tr></tbody></table></div>"
      ],
      "text/plain": [
       "shape: (5, 6)\n",
       "┌────────────────┬───────────┬───────────┬─────────────┬─────────────┬───────────┐\n",
       "│ Range/Symbol   ┆ Positives ┆ Negatives ┆ Positives % ┆ Negatives % ┆ ZRatio    │\n",
       "│ ---            ┆ ---       ┆ ---       ┆ ---         ┆ ---         ┆ ---       │\n",
       "│ str            ┆ f32       ┆ f32       ┆ f32         ┆ f32         ┆ f64       │\n",
       "╞════════════════╪═══════════╪═══════════╪═════════════╪═════════════╪═══════════╡\n",
       "│ MISSING        ┆ 0.0       ┆ 5.0       ┆ 0.0         ┆ 0.09        ┆ -2.237073 │\n",
       "│ <7.08          ┆ 7.0       ┆ 2208.0    ┆ 19.440001   ┆ 39.669998   ┆ -3.051113 │\n",
       "│ [7.08, 12.04>  ┆ 11.0      ┆ 1919.0    ┆ 30.559999   ┆ 34.48       ┆ -0.509054 │\n",
       "│ [12.04, 18.04> ┆ 12.0      ┆ 1082.0    ┆ 33.330002   ┆ 19.440001   ┆ 1.764386  │\n",
       "│ >=18.04        ┆ 6.0       ┆ 352.0     ┆ 16.67       ┆ 6.32        ┆ 1.662827  │\n",
       "└────────────────┴───────────┴───────────┴─────────────┴─────────────┴───────────┘"
      ]
     },
     "execution_count": 9,
     "metadata": {},
     "output_type": "execute_result"
    }
   ],
   "source": [
    "def zRatio(\n",
    "    posCol: pl.Expr = pl.col(\"BinPositives\"), negCol: pl.Expr = pl.col(\"BinNegatives\")\n",
    ") -> pl.Expr:\n",
    "    def getFracs(posCol=pl.col(\"BinPositives\"), negCol=pl.col(\"BinNegatives\")):\n",
    "        return posCol / posCol.sum(), negCol / negCol.sum()\n",
    "\n",
    "    def zRatioimpl(\n",
    "        posFractionCol=pl.col(\"posFraction\"),\n",
    "        negFractionCol=pl.col(\"negFraction\"),\n",
    "        PositivesCol=pl.sum(\"BinPositives\"),\n",
    "        NegativesCol=pl.sum(\"BinNegatives\"),\n",
    "    ):\n",
    "        return (\n",
    "            (posFractionCol - negFractionCol)\n",
    "            / (\n",
    "                (posFractionCol * (1 - posFractionCol) / PositivesCol)\n",
    "                + (negFractionCol * (1 - negFractionCol) / NegativesCol)\n",
    "            ).sqrt()\n",
    "        ).alias(\"ZRatio\")\n",
    "\n",
    "    return zRatioimpl(*getFracs(posCol, negCol), posCol.sum(), negCol.sum())\n",
    "\n",
    "\n",
    "binningDerived.select(\n",
    "    \"Range/Symbol\", \"Positives\", \"Negatives\", \"Positives %\", \"Negatives %\"\n",
    ").with_columns(zRatio(Positives, Negatives))\n"
   ]
  },
  {
   "cell_type": "markdown",
   "metadata": {},
   "source": [
    "## Predictor AUC\n"
   ]
  },
  {
   "attachments": {},
   "cell_type": "markdown",
   "metadata": {},
   "source": [
    "The predictor AUC is the univariate performance of this predictor against the outcome. This too can be derived from the positives and negatives and\n",
    "there is  a convenient function in pdstools to calculate it directly from the positives and negatives.\n",
    "\n",
    "Again, this function is implemented in cdh_utils: [`cdh_utils.auc_from_bincounts()`](https://pegasystems.github.io/pega-datascientist-tools/Python/autoapi/pdstools/utils/cdh_utils/index.html#pdstools.utils.cdh_utils.auc_from_bincounts)"
   ]
  },
  {
   "cell_type": "code",
   "execution_count": 10,
   "metadata": {
    "execution": {
     "iopub.execute_input": "2023-04-26T08:16:17.114090Z",
     "iopub.status.busy": "2023-04-26T08:16:17.113667Z",
     "iopub.status.idle": "2023-04-26T08:16:17.187609Z",
     "shell.execute_reply": "2023-04-26T08:16:17.186981Z"
    }
   },
   "outputs": [
    {
     "data": {
      "text/html": [
       "        <script type=\"text/javascript\">\n",
       "        window.PlotlyConfig = {MathJaxConfig: 'local'};\n",
       "        if (window.MathJax && window.MathJax.Hub && window.MathJax.Hub.Config) {window.MathJax.Hub.Config({SVG: {font: \"STIX-Web\"}});}\n",
       "        if (typeof require !== 'undefined') {\n",
       "        require.undef(\"plotly\");\n",
       "        requirejs.config({\n",
       "            paths: {\n",
       "                'plotly': ['https://cdn.plot.ly/plotly-2.20.0.min']\n",
       "            }\n",
       "        });\n",
       "        require(['plotly'], function(Plotly) {\n",
       "            window._Plotly = Plotly;\n",
       "        });\n",
       "        }\n",
       "        </script>\n",
       "        "
      ]
     },
     "metadata": {},
     "output_type": "display_data"
    },
    {
     "data": {
      "text/html": [
       "<div>                            <div id=\"81569f3f-1df9-4b67-856a-3f250d910f1a\" class=\"plotly-graph-div\" style=\"height:700px; width:700px;\"></div>            <script type=\"text/javascript\">                require([\"plotly\"], function(Plotly) {                    window.PLOTLYENV=window.PLOTLYENV || {};                                    if (document.getElementById(\"81569f3f-1df9-4b67-856a-3f250d910f1a\")) {                    Plotly.newPlot(                        \"81569f3f-1df9-4b67-856a-3f250d910f1a\",                        [{\"hovertemplate\":\"Specificity=%{x}<br>Sensitivity=%{y}<extra></extra>\",\"legendgroup\":\"\",\"line\":{\"color\":\"#1F77B4\",\"dash\":\"solid\"},\"marker\":{\"symbol\":\"circle\"},\"mode\":\"lines\",\"name\":\"\",\"orientation\":\"v\",\"showlegend\":false,\"x\":[1.0,0.8333333134651184,0.5,0.1944444477558136,0.0],\"xaxis\":\"x\",\"y\":[0.0008983111474663019,0.3975925147533417,0.7423643469810486,0.9367588758468628,1.0],\"yaxis\":\"y\",\"type\":\"scatter\"}],                        {\"template\":{\"data\":{\"scatter\":[{\"type\":\"scatter\"}]}},\"xaxis\":{\"anchor\":\"y\",\"domain\":[0.0,1.0],\"title\":{\"text\":\"Specificity\"},\"range\":[1,0]},\"yaxis\":{\"anchor\":\"x\",\"domain\":[0.0,1.0],\"title\":{\"text\":\"Sensitivity\"}},\"legend\":{\"tracegroupgap\":0},\"title\":{\"text\":\"AUC = 0.654\"},\"height\":700,\"width\":700,\"shapes\":[{\"line\":{\"dash\":\"dash\"},\"type\":\"line\",\"x0\":1,\"x1\":0,\"y0\":0,\"y1\":1}]},                        {\"responsive\": true}                    ).then(function(){\n",
       "                            \n",
       "var gd = document.getElementById('81569f3f-1df9-4b67-856a-3f250d910f1a');\n",
       "var x = new MutationObserver(function (mutations, observer) {{\n",
       "        var display = window.getComputedStyle(gd).display;\n",
       "        if (!display || display === 'none') {{\n",
       "            console.log([gd, 'removed!']);\n",
       "            Plotly.purge(gd);\n",
       "            observer.disconnect();\n",
       "        }}\n",
       "}});\n",
       "\n",
       "// Listen for the removal of the full notebook cells\n",
       "var notebookContainer = gd.closest('#notebook-container');\n",
       "if (notebookContainer) {{\n",
       "    x.observe(notebookContainer, {childList: true});\n",
       "}}\n",
       "\n",
       "// Listen for the clearing of the current output cell\n",
       "var outputEl = gd.closest('.output');\n",
       "if (outputEl) {{\n",
       "    x.observe(outputEl, {childList: true});\n",
       "}}\n",
       "\n",
       "                        })                };                });            </script>        </div>"
      ]
     },
     "metadata": {},
     "output_type": "display_data"
    }
   ],
   "source": [
    "pos=binningDerived.get_column(\"Positives\").to_numpy()\n",
    "neg=binningDerived.get_column(\"Negatives\").to_numpy()\n",
    "\n",
    "o = np.argsort((pos / (pos + neg)))\n",
    "\n",
    "TNR = np.cumsum(neg[o]) / np.sum(neg)\n",
    "FPR = np.flip(np.cumsum(neg[o]) / np.sum(neg), axis=0)\n",
    "TPR = np.flip(np.cumsum(pos[o]) / np.sum(pos), axis=0)\n",
    "Area = (FPR - np.append(FPR[1:], 0)) * (TPR + np.append(TPR[1:], 0)) / 2\n",
    "auc = 0.5 + np.abs(0.5-np.sum(Area))\n",
    "\n",
    "fig = px.line(\n",
    "    x=TPR, y=TNR,\n",
    "    labels=dict(x='Specificity', y='Sensitivity'),\n",
    "    title = f\"AUC = {auc.round(3)}\",\n",
    "    width=700, height=700,\n",
    "    range_x=[1,0],\n",
    "    template='none'\n",
    ")\n",
    "fig.add_shape(\n",
    "    type='line', line=dict(dash='dash'),\n",
    "    x0=1, x1=0, y0=0, y1=1\n",
    ")\n",
    "fig.show()"
   ]
  },
  {
   "cell_type": "markdown",
   "metadata": {},
   "source": [
    "## Predictor score and log odds"
   ]
  },
  {
   "cell_type": "markdown",
   "metadata": {},
   "source": [
    "The score is calculated from the log odds which are simply the ratio of the probabilities of positives and negatives. For the actual calculation in ADM this is modified slightly to avoid division-by-zero problems and is written differently to avoid numeric instability as shown below."
   ]
  },
  {
   "cell_type": "code",
   "execution_count": 11,
   "metadata": {
    "execution": {
     "iopub.execute_input": "2023-04-26T08:16:17.190426Z",
     "iopub.status.busy": "2023-04-26T08:16:17.190039Z",
     "iopub.status.idle": "2023-04-26T08:16:17.196575Z",
     "shell.execute_reply": "2023-04-26T08:16:17.196042Z"
    }
   },
   "outputs": [
    {
     "data": {
      "text/html": [
       "<div><style>\n",
       ".dataframe > thead > tr > th,\n",
       ".dataframe > tbody > tr > td {\n",
       "  text-align: right;\n",
       "}\n",
       "</style>\n",
       "<small>shape: (5, 7)</small><table border=\"1\" class=\"dataframe\"><thead><tr><th>Range/Symbol</th><th>Positives</th><th>Negatives</th><th>Positives %</th><th>Negatives %</th><th>LogOdds</th><th>ModifiedLogOdds</th></tr><tr><td>str</td><td>f32</td><td>f32</td><td>f32</td><td>f32</td><td>f32</td><td>f32</td></tr></thead><tbody><tr><td>&quot;MISSING&quot;</td><td>0.0</td><td>5.0</td><td>0.0</td><td>0.09</td><td>-inf</td><td>1.653662</td></tr><tr><td>&quot;&lt;7.08&quot;</td><td>7.0</td><td>2208.0</td><td>19.440001</td><td>39.669998</td><td>-0.713262</td><td>-0.814094</td></tr><tr><td>&quot;[7.08, 12.04&gt;&quot;</td><td>11.0</td><td>1919.0</td><td>30.559999</td><td>34.48</td><td>-0.120688</td><td>-0.231992</td></tr><tr><td>&quot;[12.04, 18.04&gt;&quot;</td><td>12.0</td><td>1082.0</td><td>33.330002</td><td>19.440001</td><td>0.539125</td><td>0.426443</td></tr><tr><td>&quot;&gt;=18.04&quot;</td><td>6.0</td><td>352.0</td><td>16.67</td><td>6.32</td><td>0.969891</td><td>0.872108</td></tr></tbody></table></div>"
      ],
      "text/plain": [
       "shape: (5, 7)\n",
       "┌────────────────┬───────────┬───────────┬─────────────┬─────────────┬───────────┬─────────────────┐\n",
       "│ Range/Symbol   ┆ Positives ┆ Negatives ┆ Positives % ┆ Negatives % ┆ LogOdds   ┆ ModifiedLogOdds │\n",
       "│ ---            ┆ ---       ┆ ---       ┆ ---         ┆ ---         ┆ ---       ┆ ---             │\n",
       "│ str            ┆ f32       ┆ f32       ┆ f32         ┆ f32         ┆ f32       ┆ f32             │\n",
       "╞════════════════╪═══════════╪═══════════╪═════════════╪═════════════╪═══════════╪═════════════════╡\n",
       "│ MISSING        ┆ 0.0       ┆ 5.0       ┆ 0.0         ┆ 0.09        ┆ -inf      ┆ 1.653662        │\n",
       "│ <7.08          ┆ 7.0       ┆ 2208.0    ┆ 19.440001   ┆ 39.669998   ┆ -0.713262 ┆ -0.814094       │\n",
       "│ [7.08, 12.04>  ┆ 11.0      ┆ 1919.0    ┆ 30.559999   ┆ 34.48       ┆ -0.120688 ┆ -0.231992       │\n",
       "│ [12.04, 18.04> ┆ 12.0      ┆ 1082.0    ┆ 33.330002   ┆ 19.440001   ┆ 0.539125  ┆ 0.426443        │\n",
       "│ >=18.04        ┆ 6.0       ┆ 352.0     ┆ 16.67       ┆ 6.32        ┆ 0.969891  ┆ 0.872108        │\n",
       "└────────────────┴───────────┴───────────┴─────────────┴─────────────┴───────────┴─────────────────┘"
      ]
     },
     "execution_count": 11,
     "metadata": {},
     "output_type": "execute_result"
    }
   ],
   "source": [
    "N = binningDerived.shape[0]\n",
    "binningDerived.with_columns(\n",
    "    LogOdds= (pl.col(\"Positives %\") / pl.col(\"Negatives %\")).log(),\n",
    "    ModifiedLogOdds=(\n",
    "        ((Positives + 1 / N).log() - (Positives + 1).sum().log())\n",
    "        - ((Negatives + 1 / N).log() - (Negatives + 1).sum().log())\n",
    "    )\n",
    ").drop(\"Responses %\", \"Propensity\")"
   ]
  },
  {
   "cell_type": "markdown",
   "metadata": {},
   "source": [
    "## Propensity mapping"
   ]
  },
  {
   "cell_type": "markdown",
   "metadata": {},
   "source": [
    "### Log odds contribution for all the predictors"
   ]
  },
  {
   "cell_type": "markdown",
   "metadata": {},
   "source": [
    "To get to a propensity, the log odds of the relevant bins of the active predictors are added up and divided by the number of active predictors +1, then used to index in the classifier.\n",
    "\n",
    "Below an example. From all the active predictors of the model for we pick a value (in the middle for numerics, first symbol for symbolics) and show the (modified) log odds. These log odds values are averaged (added up and divided by number of active predictors + 1), and this is the “score” that is mapped to a propensity value by the classifier (which is constructed using the PAV(A) algorithm)."
   ]
  },
  {
   "cell_type": "code",
   "execution_count": 12,
   "metadata": {
    "execution": {
     "iopub.execute_input": "2023-04-26T08:16:17.199334Z",
     "iopub.status.busy": "2023-04-26T08:16:17.198876Z",
     "iopub.status.idle": "2023-04-26T08:16:17.213717Z",
     "shell.execute_reply": "2023-04-26T08:16:17.213167Z"
    }
   },
   "outputs": [
    {
     "data": {
      "text/html": [
       "<div><style>\n",
       ".dataframe > thead > tr > th,\n",
       ".dataframe > tbody > tr > td {\n",
       "  text-align: right;\n",
       "}\n",
       "</style>\n",
       "<small>shape: (25, 6)</small><table border=\"1\" class=\"dataframe\"><thead><tr><th>PredictorName</th><th>Value</th><th>Bin</th><th>Positives</th><th>Negatives</th><th>LogOdds</th></tr><tr><td>cat</td><td>str</td><td>u8</td><td>f32</td><td>f32</td><td>f64</td></tr></thead><tbody><tr><td>&quot;Customer.Prefix&quot;</td><td>&quot;Miss&quot;</td><td>2</td><td>8.0</td><td>1174.0</td><td>-0.021901</td></tr><tr><td>&quot;Customer.NetWealth&quot;</td><td>&quot;5458.64&quot;</td><td>1</td><td>7.0</td><td>2679.0</td><td>-0.939484</td></tr><tr><td>&quot;Customer.AnnualIncome&quot;</td><td>&quot;2827.71&quot;</td><td>1</td><td>7.0</td><td>3401.0</td><td>-1.178083</td></tr><tr><td>&quot;Customer.CLV_VALUE&quot;</td><td>&quot;352.52&quot;</td><td>1</td><td>7.0</td><td>1379.0</td><td>-0.275516</td></tr><tr><td>&quot;Customer.OrganizationLabel&quot;</td><td>&quot;NON-MISSING&quot;</td><td>1</td><td>31.0</td><td>3646.0</td><td>0.23567</td></tr><tr><td>&quot;Customer.WinScore&quot;</td><td>&quot;66.600006&quot;</td><td>2</td><td>9.0</td><td>462.0</td><td>1.024789</td></tr><tr><td>&quot;Customer.Age&quot;</td><td>&quot;37.16&quot;</td><td>2</td><td>7.0</td><td>3042.0</td><td>-1.10308</td></tr><tr><td>&quot;Customer.Gender&quot;</td><td>&quot;M&quot;</td><td>1</td><td>7.0</td><td>1735.0</td><td>-0.505115</td></tr><tr><td>&quot;Customer.MaritalStatus&quot;</td><td>&quot;Single&quot;</td><td>1</td><td>6.0</td><td>1454.0</td><td>-0.475067</td></tr><tr><td>&quot;Customer.BusinessSegment&quot;</td><td>&quot;middleSegmentPlus&quot;</td><td>1</td><td>10.0</td><td>3369.0</td><td>-0.825686</td></tr><tr><td>&quot;Customer.CreditScore&quot;</td><td>&quot;432.2&quot;</td><td>1</td><td>14.0</td><td>426.0</td><td>1.568775</td></tr><tr><td>&quot;IH.Email.Outbound.Rejected.pyHistoricalOutcomeCount&quot;</td><td>&quot;68.119995&quot;</td><td>2</td><td>6.0</td><td>1251.0</td><td>-0.395551</td></tr><tr><td>&quot;IH.Email.Outbound.Rejected.pxLastGroupID&quot;</td><td>&quot;DepositAccounts&quot;</td><td>2</td><td>7.0</td><td>975.0</td><td>0.034578</td></tr><tr><td>&quot;IH.Web.Inbound.Accepted.pyHistoricalOutcomeCount&quot;</td><td>null</td><td>1</td><td>0.0</td><td>4.0</td><td>2.39646</td></tr><tr><td>&quot;IH.Web.Inbound.Rejected.pxLastGroupID&quot;</td><td>&quot;Account&quot;</td><td>1</td><td>18.0</td><td>3425.0</td><td>-0.268824</td></tr><tr><td>&quot;IH.SMS.Outbound.Accepted.pyHistoricalOutcomeCount&quot;</td><td>&quot;1.04&quot;</td><td>2</td><td>7.0</td><td>2208.0</td><td>-0.814094</td></tr><tr><td>&quot;IH.SMS.Outbound.Accepted.pxLastGroupID&quot;</td><td>&quot;Customer&quot;</td><td>2</td><td>9.0</td><td>2090.0</td><td>-0.514054</td></tr><tr><td>&quot;IH.SMS.Outbound.Rejected.pxLastGroupID&quot;</td><td>&quot;Account&quot;</td><td>2</td><td>10.0</td><td>1484.0</td><td>-0.039116</td></tr><tr><td>&quot;IH.Email.Outbound.Accepted.pxLastGroupID&quot;</td><td>&quot;CreditCards&quot;</td><td>2</td><td>10.0</td><td>2887.0</td><td>-0.733897</td></tr><tr><td>&quot;IH.Email.Outbound.Accepted.pyHistoricalOutcomeCount&quot;</td><td>&quot;1.01&quot;</td><td>2</td><td>10.0</td><td>1244.0</td><td>0.13726</td></tr><tr><td>&quot;IH.Web.Inbound.Churned.pxLastOutcomeTime.DaysSince&quot;</td><td>null</td><td>1</td><td>23.0</td><td>2891.0</td><td>0.174136</td></tr><tr><td>&quot;IH.Web.Inbound.Churned.pxLastGroupID&quot;</td><td>&quot;MISSING&quot;</td><td>1</td><td>23.0</td><td>2891.0</td><td>0.14128</td></tr><tr><td>&quot;IH.SMS.Outbound.Loyal.pyHistoricalOutcomeCount&quot;</td><td>null</td><td>1</td><td>24.0</td><td>4563.0</td><td>-0.216176</td></tr><tr><td>&quot;IH.SMS.Outbound.Churned.pxLastGroupID&quot;</td><td>&quot;MISSING&quot;</td><td>1</td><td>28.0</td><td>4935.0</td><td>-0.14403</td></tr><tr><td>&quot;Average log odds&quot;</td><td>null</td><td>null</td><td>null</td><td>null</td><td>-0.11403</td></tr></tbody></table></div>"
      ],
      "text/plain": [
       "shape: (25, 6)\n",
       "┌─────────────────────────────────────────────┬─────────┬──────┬───────────┬───────────┬───────────┐\n",
       "│ PredictorName                               ┆ Value   ┆ Bin  ┆ Positives ┆ Negatives ┆ LogOdds   │\n",
       "│ ---                                         ┆ ---     ┆ ---  ┆ ---       ┆ ---       ┆ ---       │\n",
       "│ cat                                         ┆ str     ┆ u8   ┆ f32       ┆ f32       ┆ f64       │\n",
       "╞═════════════════════════════════════════════╪═════════╪══════╪═══════════╪═══════════╪═══════════╡\n",
       "│ Customer.Prefix                             ┆ Miss    ┆ 2    ┆ 8.0       ┆ 1174.0    ┆ -0.021901 │\n",
       "│ Customer.NetWealth                          ┆ 5458.64 ┆ 1    ┆ 7.0       ┆ 2679.0    ┆ -0.939484 │\n",
       "│ Customer.AnnualIncome                       ┆ 2827.71 ┆ 1    ┆ 7.0       ┆ 3401.0    ┆ -1.178083 │\n",
       "│ Customer.CLV_VALUE                          ┆ 352.52  ┆ 1    ┆ 7.0       ┆ 1379.0    ┆ -0.275516 │\n",
       "│ …                                           ┆ …       ┆ …    ┆ …         ┆ …         ┆ …         │\n",
       "│ IH.Web.Inbound.Churned.pxLastGroupID        ┆ MISSING ┆ 1    ┆ 23.0      ┆ 2891.0    ┆ 0.14128   │\n",
       "│ IH.SMS.Outbound.Loyal.pyHistoricalOutcomeCo ┆ null    ┆ 1    ┆ 24.0      ┆ 4563.0    ┆ -0.216176 │\n",
       "│ unt                                         ┆         ┆      ┆           ┆           ┆           │\n",
       "│ IH.SMS.Outbound.Churned.pxLastGroupID       ┆ MISSING ┆ 1    ┆ 28.0      ┆ 4935.0    ┆ -0.14403  │\n",
       "│ Average log odds                            ┆ null    ┆ null ┆ null      ┆ null      ┆ -0.11403  │\n",
       "└─────────────────────────────────────────────┴─────────┴──────┴───────────┴───────────┴───────────┘"
      ]
     },
     "execution_count": 12,
     "metadata": {},
     "output_type": "execute_result"
    }
   ],
   "source": [
    "def middleBin():\n",
    "    return pl.col(\"BinIndex\") == (pl.max(\"BinIndex\") / 2).floor().cast(pl.UInt32)\n",
    "\n",
    "\n",
    "def RowWiseLogOdds(Bin, Positives, Negatives):\n",
    "    Bin, N = Bin.arr.get(0) - 1, Positives.arr.lengths()\n",
    "    Pos, Neg = Positives.arr.get(Bin), Negatives.arr.get(Bin)\n",
    "    PosSum, NegSum = Positives.arr.sum(), Negatives.arr.sum()\n",
    "    return (\n",
    "        (((Pos + (1 / N)).log() - (PosSum + N).log()))\n",
    "        - (((Neg + (1 / N)).log()) - (NegSum + N).log())\n",
    "    ).alias(\"Modified Log odds\")\n",
    "\n",
    "\n",
    "df = (\n",
    "    modelpredictors.filter(pl.col(\"PredictorName\") != \"Classifier\")\n",
    "    .groupby(\"PredictorName\")\n",
    "    .agg(\n",
    "        Value=pl.when(pl.col(\"Type\").first() == \"numeric\")\n",
    "        .then(\n",
    "            ((pl.col(\"BinLowerBound\") + pl.col(\"BinUpperBound\")) / 2).where(middleBin())\n",
    "        )\n",
    "        .otherwise(pl.col(\"BinSymbol\").str.split(\",\").arr.first().where(middleBin())),\n",
    "        Bin=pl.col(\"BinIndex\").where(middleBin()),\n",
    "        Positives=pl.col(\"BinPositives\"),\n",
    "        Negatives=pl.col(\"BinNegatives\"),\n",
    "    )\n",
    "    .with_columns(\n",
    "        pl.col([\"Positives\", \"Negatives\"]).arr.get(pl.col(\"Bin\").arr.get(0) - 1),\n",
    "        pl.col(\"Bin\", \"Value\").arr.get(0),\n",
    "        LogOdds=RowWiseLogOdds(pl.col(\"Bin\"), pl.col(\"Positives\"), pl.col(\"Negatives\")),\n",
    "    )\n",
    "    .sort(\"PredictorName\")\n",
    ")\n",
    "df.vstack(\n",
    "    pl.DataFrame(dict(zip(\n",
    "                df.columns,\n",
    "                [\"Average log odds\"] + [None] * 4 + [df[\"LogOdds\"].sum() / len(df)],\n",
    "                )),\n",
    "    schema=df.schema,\n",
    "    )\n",
    ")\n"
   ]
  },
  {
   "cell_type": "markdown",
   "metadata": {},
   "source": [
    "## Classifier"
   ]
  },
  {
   "cell_type": "markdown",
   "metadata": {},
   "source": [
    "The success rate is defined as $\\frac{positives}{positives+negatives}$ per bin. \n",
    "\n",
    "The adjusted propensity that is returned is a small modification (Laplace smoothing) to this and calculated as $\\frac{0.5+positives}{1+positives+negatives}$ so empty models return a propensity of 0.5.\n"
   ]
  },
  {
   "cell_type": "code",
   "execution_count": 13,
   "metadata": {
    "execution": {
     "iopub.execute_input": "2023-04-26T08:16:17.216050Z",
     "iopub.status.busy": "2023-04-26T08:16:17.215755Z",
     "iopub.status.idle": "2023-04-26T08:16:17.224741Z",
     "shell.execute_reply": "2023-04-26T08:16:17.224184Z"
    }
   },
   "outputs": [
    {
     "data": {
      "text/html": [
       "<div><style>\n",
       ".dataframe > thead > tr > th,\n",
       ".dataframe > tbody > tr > td {\n",
       "  text-align: right;\n",
       "}\n",
       "</style>\n",
       "<small>shape: (8, 10)</small><table border=\"1\" class=\"dataframe\"><thead><tr><th>Index</th><th>Bin</th><th>Positives</th><th>Negatives</th><th>Cum. Total (%)</th><th>Propensity (%)</th><th>Adjusted Propensity (%)</th><th>Cum Positives (%)</th><th>ZRatio</th><th>Lift(%)</th></tr><tr><td>u8</td><td>str</td><td>f32</td><td>f32</td><td>f32</td><td>f32</td><td>f32</td><td>f32</td><td>f64</td><td>f64</td></tr></thead><tbody><tr><td>1</td><td>&quot;&lt;-1.95&quot;</td><td>36.0</td><td>5566.0</td><td>0.624777</td><td>0.0</td><td>0.651437</td><td>0.0</td><td>-5.934769</td><td>0.0</td></tr><tr><td>2</td><td>&quot;[-1.95, -0.63&gt;&quot;</td><td>36.0</td><td>5566.0</td><td>35.362373</td><td>0.359712</td><td>0.651437</td><td>19.444445</td><td>-2.322612</td><td>55.9752</td></tr><tr><td>3</td><td>&quot;[-0.63, -0.5&gt;&quot;</td><td>36.0</td><td>5566.0</td><td>59.246696</td><td>0.523169</td><td>0.651437</td><td>38.888889</td><td>-0.674919</td><td>81.4109</td></tr><tr><td>4</td><td>&quot;[-0.5, -0.36&gt;&quot;</td><td>36.0</td><td>5566.0</td><td>79.471619</td><td>0.70609</td><td>0.651437</td><td>61.111111</td><td>0.289246</td><td>109.8755</td></tr><tr><td>5</td><td>&quot;[-0.36, -0.29&gt;&quot;</td><td>36.0</td><td>5566.0</td><td>87.504463</td><td>0.888889</td><td>0.651437</td><td>72.222221</td><td>0.590078</td><td>138.321</td></tr><tr><td>6</td><td>&quot;[-0.29, -0.22&gt;&quot;</td><td>36.0</td><td>5566.0</td><td>93.252411</td><td>0.931677</td><td>0.651437</td><td>80.555557</td><td>0.563599</td><td>144.9793</td></tr><tr><td>7</td><td>&quot;[-0.22, 0.99&gt;&quot;</td><td>36.0</td><td>5566.0</td><td>95.85862</td><td>1.369863</td><td>0.651437</td><td>86.111107</td><td>0.776338</td><td>213.1659</td></tr><tr><td>8</td><td>&quot;&gt;=0.99&quot;</td><td>36.0</td><td>5566.0</td><td>100.0</td><td>2.155172</td><td>0.651437</td><td>100.0</td><td>1.700289</td><td>335.3688</td></tr></tbody></table></div>"
      ],
      "text/plain": [
       "shape: (8, 10)\n",
       "┌───────┬─────────┬───────────┬───────────┬───┬────────────┬────────────┬───────────┬──────────┐\n",
       "│ Index ┆ Bin     ┆ Positives ┆ Negatives ┆ … ┆ Adjusted   ┆ Cum        ┆ ZRatio    ┆ Lift(%)  │\n",
       "│ ---   ┆ ---     ┆ ---       ┆ ---       ┆   ┆ Propensity ┆ Positives  ┆ ---       ┆ ---      │\n",
       "│ u8    ┆ str     ┆ f32       ┆ f32       ┆   ┆ (%)        ┆ (%)        ┆ f64       ┆ f64      │\n",
       "│       ┆         ┆           ┆           ┆   ┆ ---        ┆ ---        ┆           ┆          │\n",
       "│       ┆         ┆           ┆           ┆   ┆ f32        ┆ f32        ┆           ┆          │\n",
       "╞═══════╪═════════╪═══════════╪═══════════╪═══╪════════════╪════════════╪═══════════╪══════════╡\n",
       "│ 1     ┆ <-1.95  ┆ 36.0      ┆ 5566.0    ┆ … ┆ 0.651437   ┆ 0.0        ┆ -5.934769 ┆ 0.0      │\n",
       "│ 2     ┆ [-1.95, ┆ 36.0      ┆ 5566.0    ┆ … ┆ 0.651437   ┆ 19.444445  ┆ -2.322612 ┆ 55.9752  │\n",
       "│       ┆ -0.63>  ┆           ┆           ┆   ┆            ┆            ┆           ┆          │\n",
       "│ 3     ┆ [-0.63, ┆ 36.0      ┆ 5566.0    ┆ … ┆ 0.651437   ┆ 38.888889  ┆ -0.674919 ┆ 81.4109  │\n",
       "│       ┆ -0.5>   ┆           ┆           ┆   ┆            ┆            ┆           ┆          │\n",
       "│ 4     ┆ [-0.5,  ┆ 36.0      ┆ 5566.0    ┆ … ┆ 0.651437   ┆ 61.111111  ┆ 0.289246  ┆ 109.8755 │\n",
       "│       ┆ -0.36>  ┆           ┆           ┆   ┆            ┆            ┆           ┆          │\n",
       "│ 5     ┆ [-0.36, ┆ 36.0      ┆ 5566.0    ┆ … ┆ 0.651437   ┆ 72.222221  ┆ 0.590078  ┆ 138.321  │\n",
       "│       ┆ -0.29>  ┆           ┆           ┆   ┆            ┆            ┆           ┆          │\n",
       "│ 6     ┆ [-0.29, ┆ 36.0      ┆ 5566.0    ┆ … ┆ 0.651437   ┆ 80.555557  ┆ 0.563599  ┆ 144.9793 │\n",
       "│       ┆ -0.22>  ┆           ┆           ┆   ┆            ┆            ┆           ┆          │\n",
       "│ 7     ┆ [-0.22, ┆ 36.0      ┆ 5566.0    ┆ … ┆ 0.651437   ┆ 86.111107  ┆ 0.776338  ┆ 213.1659 │\n",
       "│       ┆ 0.99>   ┆           ┆           ┆   ┆            ┆            ┆           ┆          │\n",
       "│ 8     ┆ >=0.99  ┆ 36.0      ┆ 5566.0    ┆ … ┆ 0.651437   ┆ 100.0      ┆ 1.700289  ┆ 335.3688 │\n",
       "└───────┴─────────┴───────────┴───────────┴───┴────────────┴────────────┴───────────┴──────────┘"
      ]
     },
     "execution_count": 13,
     "metadata": {},
     "output_type": "execute_result"
    }
   ],
   "source": [
    "classifier = modelpredictors.filter(pl.col(\"EntryType\") == \"Classifier\").with_columns(\n",
    "    Propensity=(Positives / (Positives / Negatives)),\n",
    "    AdjustedPropensity=((0.5 + Positives) / (1 + Positives + Negatives)),\n",
    ").select(\n",
    "    [\n",
    "        pl.col(\"BinIndex\").alias(\"Index\"),\n",
    "        pl.col(\"BinSymbol\").alias(\"Bin\"),\n",
    "        Positives.alias(\"Positives\"),\n",
    "        Negatives.alias(\"Negatives\"),\n",
    "        ((pl.cumsum(\"BinResponseCount\") / pl.sum(\"BinResponseCount\")) * 100).alias(\n",
    "            \"Cum. Total (%)\"\n",
    "        ),\n",
    "        (pl.col(\"BinPropensity\") * 100).alias(\"Propensity (%)\"),\n",
    "        (pl.col(\"AdjustedPropensity\") * 100).alias(\"Adjusted Propensity (%)\"),\n",
    "        ((pl.cumsum(\"BinPositives\") / pl.sum(\"BinPositives\")) * 100).alias(\n",
    "            \"Cum Positives (%)\"\n",
    "        ),\n",
    "        pl.col(\"ZRatio\"),\n",
    "        (pl.col(\"Lift\") * 100).alias(\"Lift(%)\"),\n",
    "        pl.col(\"BinResponseCount\").alias(\"Responses\"),\n",
    "    ]\n",
    ")\n",
    "classifier.drop(\"Responses\")"
   ]
  },
  {
   "cell_type": "markdown",
   "metadata": {},
   "source": [
    "## Final Propensity"
   ]
  },
  {
   "attachments": {},
   "cell_type": "markdown",
   "metadata": {},
   "source": [
    "Below the classifier mapping. On the x-axis the binned scores (log odds values), on the y-axis the Propensity. Note the returned propensities are following a slightly adjusted formula, see the table above. The bin that contains the calculated score is highlighted.\n",
    "\n",
    "The score -0.11403 falls in bin 7 of the classifier, so for this set of inputs, the model returns a propensity of 1.70%."
   ]
  },
  {
   "cell_type": "code",
   "execution_count": 14,
   "metadata": {
    "execution": {
     "iopub.execute_input": "2023-04-26T08:16:17.227198Z",
     "iopub.status.busy": "2023-04-26T08:16:17.226765Z",
     "iopub.status.idle": "2023-04-26T08:16:17.267567Z",
     "shell.execute_reply": "2023-04-26T08:16:17.266895Z"
    }
   },
   "outputs": [
    {
     "data": {
      "text/html": [
       "<div>                            <div id=\"575316aa-28e1-4f87-a6dd-5c9c84b1c2a1\" class=\"plotly-graph-div\" style=\"height:525px; width:100%;\"></div>            <script type=\"text/javascript\">                require([\"plotly\"], function(Plotly) {                    window.PLOTLYENV=window.PLOTLYENV || {};                                    if (document.getElementById(\"575316aa-28e1-4f87-a6dd-5c9c84b1c2a1\")) {                    Plotly.newPlot(                        \"575316aa-28e1-4f87-a6dd-5c9c84b1c2a1\",                        [{\"name\":\"Responses\",\"x\":[\"<-1.95\",\"[-1.95, -0.63>\",\"[-0.63, -0.5>\",\"[-0.5, -0.36>\",\"[-0.36, -0.29>\",\"[-0.29, -0.22>\",\"[-0.22, 0.99>\",\">=0.99\"],\"y\":[35.0,1946.0,1338.0,1133.0,450.0,322.0,146.0,232.0],\"type\":\"bar\",\"marker\":{\"color\":[\"grey\",\"grey\",\"grey\",\"grey\",\"grey\",\"grey\",\"#1f77b4\",\"grey\"]}},{\"mode\":\"lines+markers\",\"name\":\"Propensity\",\"x\":[\"<-1.95\",\"[-1.95, -0.63>\",\"[-0.63, -0.5>\",\"[-0.5, -0.36>\",\"[-0.36, -0.29>\",\"[-0.29, -0.22>\",\"[-0.22, 0.99>\",\">=0.99\"],\"y\":[0.0,0.003597122384235263,0.005231689196079969,0.007060900330543518,0.008888889104127884,0.009316770359873772,0.013698630034923553,0.021551724523305893],\"yaxis\":\"y2\",\"type\":\"scatter\"}],                        {\"template\":{\"data\":{\"scatter\":[{\"type\":\"scatter\"}]}},\"xaxis\":{\"anchor\":\"y\",\"domain\":[0.0,0.94],\"title\":{\"text\":\"Range\"}},\"yaxis\":{\"anchor\":\"x\",\"domain\":[0.0,1.0],\"title\":{\"text\":\"Responses\"},\"showgrid\":false},\"yaxis2\":{\"anchor\":\"x\",\"overlaying\":\"y\",\"side\":\"right\",\"title\":{\"text\":\"Propensity\"},\"tickformat\":\",.0%\",\"zeroline\":false,\"showgrid\":false},\"title\":{\"text\":\"Propensity distribution\"},\"annotations\":[{\"bgcolor\":\"#FFFFFF\",\"bordercolor\":\"#000000\",\"showarrow\":false,\"text\":\"Returned propensity: 1.7%\",\"x\":\"[-0.22, 0.99>\",\"y\":1400}]},                        {\"responsive\": true}                    ).then(function(){\n",
       "                            \n",
       "var gd = document.getElementById('575316aa-28e1-4f87-a6dd-5c9c84b1c2a1');\n",
       "var x = new MutationObserver(function (mutations, observer) {{\n",
       "        var display = window.getComputedStyle(gd).display;\n",
       "        if (!display || display === 'none') {{\n",
       "            console.log([gd, 'removed!']);\n",
       "            Plotly.purge(gd);\n",
       "            observer.disconnect();\n",
       "        }}\n",
       "}});\n",
       "\n",
       "// Listen for the removal of the full notebook cells\n",
       "var notebookContainer = gd.closest('#notebook-container');\n",
       "if (notebookContainer) {{\n",
       "    x.observe(notebookContainer, {childList: true});\n",
       "}}\n",
       "\n",
       "// Listen for the clearing of the current output cell\n",
       "var outputEl = gd.closest('.output');\n",
       "if (outputEl) {{\n",
       "    x.observe(outputEl, {childList: true});\n",
       "}}\n",
       "\n",
       "                        })                };                });            </script>        </div>"
      ]
     },
     "metadata": {},
     "output_type": "display_data"
    }
   ],
   "source": [
    "from pdstools.plots.plots_plotly import ADMVisualisations\n",
    "\n",
    "fig = ADMVisualisations.distribution_graph(\n",
    "    modelpredictors.filter(pl.col(\"EntryType\") == \"Classifier\"),\n",
    "    \"Propensity distribution\",\n",
    ").add_annotation(\n",
    "    x=\"[-0.22, 0.99>\",\n",
    "    y=1400,\n",
    "    text=\"Returned propensity: 1.7%\",\n",
    "    bgcolor=\"#FFFFFF\",\n",
    "    bordercolor=\"#000000\",\n",
    "    showarrow=False,\n",
    ")\n",
    "fig.data[0][\"marker_color\"] = [\"grey\"] * 6 + [\"#1f77b4\"] + [\"grey\"]\n",
    "fig\n"
   ]
  }
 ],
 "metadata": {
  "kernelspec": {
   "display_name": "playground",
   "language": "python",
   "name": "python3"
  },
  "language_info": {
   "codemirror_mode": {
    "name": "ipython",
    "version": 3
   },
   "file_extension": ".py",
   "mimetype": "text/x-python",
   "name": "python",
   "nbconvert_exporter": "python",
   "pygments_lexer": "ipython3",
   "version": "3.11.3"
  }
 },
 "nbformat": 4,
 "nbformat_minor": 2
}
