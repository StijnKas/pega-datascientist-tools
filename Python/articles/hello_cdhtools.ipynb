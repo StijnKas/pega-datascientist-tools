{
 "cells": [
  {
   "cell_type": "markdown",
   "metadata": {
    "nbsphinx": "hidden"
   },
   "source": [
    "## Link to article\n",
    "\n",
    "This notebook is included in the documentation, where the interactive Plotly charts show up. See:\n",
    "https://pegasystems.github.io/pega-datascientist-tools/Python/articles/hello_cdhtools.html"
   ]
  },
  {
   "cell_type": "markdown",
   "metadata": {},
   "source": [
    "# Hello pdstools\n",
    "\n",
    "This is a basic example of using pdstools to visualize the ADM datamart.\n",
    "\n",
    "To run this first install the `pdstools` library as per the [installation instructions](https://github.com/pegasystems/pega-datascientist-tools/wiki#using-the-python-tools) of the GitHub repository https://github.com/pegasystems/pega-datascientist-tools. Then you can import the ADMDatamart class as such:"
   ]
  },
  {
   "cell_type": "code",
   "execution_count": 1,
   "metadata": {
    "execution": {
     "iopub.execute_input": "2023-04-17T16:01:04.198908Z",
     "iopub.status.busy": "2023-04-17T16:01:04.197999Z",
     "iopub.status.idle": "2023-04-17T16:01:04.261589Z",
     "shell.execute_reply": "2023-04-17T16:01:04.261016Z"
    },
    "nbsphinx": "hidden"
   },
   "outputs": [],
   "source": [
    "# These lines are only for rendering in the docs, and are hidden through Jupyter tags\n",
    "# Do not run if you're running the notebook seperately\n",
    "import plotly.io as pio\n",
    "pio.renderers.default='notebook_connected'\n",
    "\n",
    "import sys\n",
    "sys.path.append('../../../')"
   ]
  },
  {
   "cell_type": "code",
   "execution_count": 2,
   "metadata": {
    "execution": {
     "iopub.execute_input": "2023-04-17T16:01:04.264381Z",
     "iopub.status.busy": "2023-04-17T16:01:04.264027Z",
     "iopub.status.idle": "2023-04-17T16:01:05.334711Z",
     "shell.execute_reply": "2023-04-17T16:01:05.334070Z"
    }
   },
   "outputs": [],
   "source": [
    "from pdstools import ADMDatamart, datasets"
   ]
  },
  {
   "cell_type": "markdown",
   "metadata": {},
   "source": [
    "Then to run this example, use a sample dataset included or export your own from Pega. These steps are detailed on the [Wiki](https://github.com/pegasystems/pega-datascientist-tools/wiki/How-to-export-and-use-the-ADM-Datamart).\n",
    "\n",
    "Change the path if it is different from the current working directory. The class `ADMDatamart` will read ADM datamart and standardize the fields returned. It is very flexible and can read from datamart export zips, from CSV, parquet etc and has a number of arguments to fine tune the behavior.\n",
    "\n",
    "Because we import from the CDH Sample dataset hosted on GitHub, these two commands are identical:"
   ]
  },
  {
   "cell_type": "code",
   "execution_count": 3,
   "metadata": {
    "execution": {
     "iopub.execute_input": "2023-04-17T16:01:05.337964Z",
     "iopub.status.busy": "2023-04-17T16:01:05.337526Z",
     "iopub.status.idle": "2023-04-17T16:01:06.454234Z",
     "shell.execute_reply": "2023-04-17T16:01:06.453586Z"
    }
   },
   "outputs": [],
   "source": [
    "# ADMDatamart = ADMDatamart(\"../../data\")\n",
    "ADMDatamart = datasets.CDHSample()"
   ]
  },
  {
   "cell_type": "markdown",
   "metadata": {},
   "source": [
    "## Bubble Chart\n",
    "\n",
    "The following plot shows the bubble chart as shown on the Pega out-of-the-box model report landing page. The \n",
    "methods has options to zoom in into only certain channels/issues etc."
   ]
  },
  {
   "cell_type": "code",
   "execution_count": 4,
   "metadata": {
    "execution": {
     "iopub.execute_input": "2023-04-17T16:01:06.457785Z",
     "iopub.status.busy": "2023-04-17T16:01:06.457314Z",
     "iopub.status.idle": "2023-04-17T16:01:06.543165Z",
     "shell.execute_reply": "2023-04-17T16:01:06.542578Z"
    }
   },
   "outputs": [
    {
     "data": {
      "text/html": [
       "        <script type=\"text/javascript\">\n",
       "        window.PlotlyConfig = {MathJaxConfig: 'local'};\n",
       "        if (window.MathJax && window.MathJax.Hub && window.MathJax.Hub.Config) {window.MathJax.Hub.Config({SVG: {font: \"STIX-Web\"}});}\n",
       "        if (typeof require !== 'undefined') {\n",
       "        require.undef(\"plotly\");\n",
       "        requirejs.config({\n",
       "            paths: {\n",
       "                'plotly': ['https://cdn.plot.ly/plotly-2.20.0.min']\n",
       "            }\n",
       "        });\n",
       "        require(['plotly'], function(Plotly) {\n",
       "            window._Plotly = Plotly;\n",
       "        });\n",
       "        }\n",
       "        </script>\n",
       "        "
      ]
     },
     "metadata": {},
     "output_type": "display_data"
    },
    {
     "data": {
      "text/html": [
       "<div>                            <div id=\"ee56c98e-0b58-442a-833a-11ee57b3e7b9\" class=\"plotly-graph-div\" style=\"height:525px; width:100%;\"></div>            <script type=\"text/javascript\">                require([\"plotly\"], function(Plotly) {                    window.PLOTLYENV=window.PLOTLYENV || {};                                    if (document.getElementById(\"ee56c98e-0b58-442a-833a-11ee57b3e7b9\")) {                    Plotly.newPlot(                        \"ee56c98e-0b58-442a-833a-11ee57b3e7b9\",                        [{\"customdata\":[[\"f3afaa9b-d0d5-5be9-a3b9-9fdfc4847411\",\"Email\",\"Outbound\",\"Sales\",\"AutoLoans\"],[\"e4ea7a89-c394-5014-ac26-34b8eee475bd\",\"SMS\",\"Outbound\",\"Sales\",\"CreditCards\"],[\"1289c4af-1d3f-5265-9fe5-173e1ddaadc3\",\"SMS\",\"Outbound\",\"Sales\",\"HomeLoans\"],[\"3c892256-f415-5408-905d-3158345b10bf\",\"Email\",\"Outbound\",\"Sales\",\"Bundles\"],[\"a87d51fb-cfdc-598d-b84a-dcdd64e1e750\",\"Web\",\"Inbound\",\"Sales\",\"HomeLoans\"],[\"cc9b9b1b-c2f9-5e8c-a54a-f13e0559ebd6\",\"Email\",\"Outbound\",\"Sales\",\"CreditCards\"],[\"9e9e8c2e-6d19-538c-8e7b-a73070717ecf\",\"Web\",\"Inbound\",\"Sales\",\"CreditCards\"],[\"ea0a225a-7d09-5d90-88f6-d0e8380d67cc\",\"Web\",\"Inbound\",\"Sales\",\"DepositAccounts\"],[\"b27d8eb5-7ff6-5706-ae90-6d61ce695f78\",\"SMS\",\"Outbound\",\"Sales\",\"Bundles\"],[\"84107ad6-c998-5377-b0d0-e02be2a8d768\",\"Email\",\"Outbound\",\"Sales\",\"AutoLoans\"],[\"5ca51e1e-49f0-58d2-8ab7-4a0ccbb326fd\",\"SMS\",\"Outbound\",\"Sales\",\"DepositAccounts\"],[\"b216413c-8c2e-5e1b-860b-07dfc69efa69\",\"SMS\",\"Outbound\",\"Sales\",\"AutoLoans\"],[\"c8a529fb-9d2c-5069-a50f-42ee1ea9341a\",\"Web\",\"Inbound\",\"Services\",\"Account\"],[\"f9fc995f-3f02-5e9e-8e22-b72909054f3a\",\"SMS\",\"Outbound\",\"Sales\",\"AutoLoans\"],[\"59f06605-5b39-57dd-945b-637a72fa9085\",\"Web\",\"Inbound\",\"Sales\",\"CreditCards\"],[\"7ffc8c26-8473-5c8e-bcc3-48e5b162da7a\",\"SMS\",\"Outbound\",\"Sales\",\"CreditCards\"],[\"692f453a-f825-5a90-ab40-f83cbb34b058\",\"Web\",\"Inbound\",\"Sales\",\"HomeLoans\"],[\"b5338016-1fee-5745-80ee-7bd6d51f2920\",\"Email\",\"Outbound\",\"Sales\",\"CreditCards\"],[\"26dda9e0-34a2-5e0a-8ee2-fd0c39de729e\",\"SMS\",\"Outbound\",\"Sales\",\"CreditCards\"],[\"24f11deb-a6fa-59bf-b5f7-c61abffc9482\",\"Email\",\"Outbound\",\"Sales\",\"AutoLoans\"],[\"cb67c091-5a81-56f4-9845-71afa9c8076e\",\"Email\",\"Outbound\",\"Sales\",\"HomeLoans\"],[\"95ae0f10-297a-5c01-94d8-914bb89df969\",\"Web\",\"Inbound\",\"Sales\",\"DepositAccounts\"],[\"c3f445b2-6037-5560-9f16-71a7259d2c2c\",\"SMS\",\"Outbound\",\"Sales\",\"HomeLoans\"],[\"a8cde9d1-c720-537c-8fb8-8c59506bddfe\",\"Web\",\"Inbound\",\"Sales\",\"CreditCards\"],[\"34f7d1b9-92f7-57dc-ab62-0de35dda0221\",\"SMS\",\"Outbound\",\"Services\",\"Account\"],[\"69a8e56f-6327-5a66-a9a3-9b0c106641ec\",\"SMS\",\"Outbound\",\"Sales\",\"AutoLoans\"],[\"8e40882a-aacf-5f03-9be8-f833c7932da2\",\"Web\",\"Inbound\",\"Sales\",\"Bundles\"],[\"4efdb97d-288d-518f-a3e0-8314bbd7f2a3\",\"SMS\",\"Outbound\",\"Sales\",\"CreditCards\"],[\"470485f7-3b20-58f7-a3aa-1f12c2bb99b7\",\"Email\",\"Outbound\",\"Sales\",\"HomeLoans\"],[\"79e3f70f-dc6a-5bea-8006-02a6e91ad256\",\"Email\",\"Outbound\",\"Sales\",\"DepositAccounts\"],[\"98aeb30c-d896-51bd-b421-a650f0522335\",\"SMS\",\"Outbound\",\"Sales\",\"CreditCards\"],[\"08ca1302-9fc0-57bf-9031-d4179d400493\",\"Web\",\"Inbound\",\"Sales\",\"Bundles\"],[\"68e1d164-81e3-5da0-816c-0bbc3c20ac6c\",\"Web\",\"Inbound\",\"Sales\",\"AutoLoans\"],[\"c4cd4c00-87bf-562e-9ab8-20af64a81757\",\"Email\",\"Outbound\",\"Sales\",\"DepositAccounts\"],[\"c29ffcfa-5210-5998-a826-f3a8db57c610\",\"Web\",\"Inbound\",\"Sales\",\"CreditCards\"],[\"a8cd5e12-5d10-5b62-95f6-c5bb6344a83a\",\"Web\",\"Inbound\",\"Sales\",\"DepositAccounts\"],[\"708be173-0f46-55ee-add6-6fdca447a70a\",\"SMS\",\"Outbound\",\"Sales\",\"HomeLoans\"],[\"cffb1b5d-219e-5137-9036-4e2136be6a8f\",\"Email\",\"Outbound\",\"Sales\",\"DepositAccounts\"],[\"0b363d7f-68f8-5e9e-a843-40ca8849e05b\",\"Email\",\"Outbound\",\"Sales\",\"HomeLoans\"],[\"277a2c48-8888-5b71-911e-443d52c9b50f\",\"SMS\",\"Outbound\",\"Sales\",\"Bundles\"],[\"ab4592bc-df16-5372-86e7-0caea36ac877\",\"Email\",\"Outbound\",\"Sales\",\"CreditCards\"],[\"a75db3a2-fecc-5cc8-b75f-0a44447f9cca\",\"SMS\",\"Outbound\",\"Sales\",\"AutoLoans\"],[\"602303a4-5243-523d-8964-473f3ea1200b\",\"SMS\",\"Outbound\",\"Sales\",\"CreditCards\"],[\"30cc2c18-5852-581a-abaa-555bf46a3b9c\",\"Email\",\"Outbound\",\"Services\",\"Account\"],[\"320c4d01-43a5-510e-8fa8-1fc1bb4216da\",\"Email\",\"Outbound\",\"Sales\",\"Bundles\"],[\"0469930e-8d83-5c81-ba28-a8ec488f8e4d\",\"SMS\",\"Outbound\",\"Sales\",\"DepositAccounts\"],[\"d6e132b6-ad92-5ece-8db5-b42d9d151f73\",\"SMS\",\"Outbound\",\"Sales\",\"Bundles\"],[\"0ad9da35-f171-5ab9-973f-1cc4b89b4e8f\",\"Web\",\"Inbound\",\"Sales\",\"Bundles\"],[\"bd70a915-697a-5d43-ab2c-53b0557c85a0\",\"Email\",\"Outbound\",\"Sales\",\"AutoLoans\"],[\"d5e2f4b1-249a-58c0-8a2f-2d314eada5fe\",\"SMS\",\"Outbound\",\"Sales\",\"AutoLoans\"],[\"708f20ef-7ca1-58f4-9dfa-b7efb5342fcf\",\"Web\",\"Inbound\",\"Sales\",\"HomeLoans\"],[\"5cb8d642-390e-5c3e-8868-d34768f9535c\",\"Web\",\"Inbound\",\"Sales\",\"AutoLoans\"],[\"1be7cd72-741b-5d68-b148-c1af0142fd4a\",\"SMS\",\"Outbound\",\"Sales\",\"CreditCards\"],[\"838ca9ec-74ea-5a54-8c57-f45295116921\",\"SMS\",\"Outbound\",\"Services\",\"Account\"],[\"17571d69-f802-5122-9bfe-6f3f4ef9073b\",\"Web\",\"Inbound\",\"Sales\",\"CreditCards\"],[\"a63f2f06-1e31-5691-a6df-48916a066c23\",\"Email\",\"Outbound\",\"Sales\",\"DepositAccounts\"],[\"dd502275-e98b-51f7-8935-c30c84641871\",\"Web\",\"Inbound\",\"Services\",\"Account\"],[\"f38b5b50-b01b-5fd9-8120-7470320d6664\",\"SMS\",\"Outbound\",\"Sales\",\"DepositAccounts\"],[\"7d2046d5-be79-5f5a-a858-dcd9c65fd086\",\"Web\",\"Inbound\",\"Sales\",\"AutoLoans\"],[\"2c8e753a-9e85-5060-ac5b-073e79e755c0\",\"Email\",\"Outbound\",\"Sales\",\"CreditCards\"],[\"4954d7a5-b75e-5c71-89d6-e8340feb5022\",\"Email\",\"Outbound\",\"Sales\",\"DepositAccounts\"],[\"081d0acf-bfc3-5c0a-abc4-29106252efb8\",\"SMS\",\"Outbound\",\"Sales\",\"CreditCards\"],[\"aaf75ad6-c71a-5fd8-b2eb-782cdbd30337\",\"SMS\",\"Outbound\",\"Services\",\"Account\"],[\"bb02128b-d6df-52f3-9983-316f9fce47c7\",\"Email\",\"Outbound\",\"Sales\",\"CreditCards\"],[\"baae77a0-099a-5104-b7a9-b9b1a23290fc\",\"SMS\",\"Outbound\",\"Services\",\"Customer\"],[\"a7bb008a-0514-5d41-b014-3e0b1b308382\",\"SMS\",\"Outbound\",\"Sales\",\"DepositAccounts\"],[\"85d9dd89-93e5-55a0-b05f-e68bba9c97d1\",\"Email\",\"Outbound\",\"Sales\",\"CreditCards\"],[\"ebb6d905-7c43-5422-a813-f770feba7114\",\"Email\",\"Outbound\",\"Sales\",\"AutoLoans\"]],\"hovertemplate\":\"<b>%{hovertext}</b><br><br>Performance=%{marker.color}<br>SuccessRate=%{y}<br>ResponseCount=%{marker.size}<br>ModelID=%{customdata[0]}<br>Channel=%{customdata[1]}<br>Direction=%{customdata[2]}<br>Issue=%{customdata[3]}<br>Group=%{customdata[4]}<extra></extra>\",\"hovertext\":[\"AutoNew84Months\",\"PaymentProtection\",\"FirstMortgageFHA\",\"StudentChoice\",\"FirstMortgage\",\"IdentityTheftProtection\",\"MasterCardGold\",\"PremierChecking\",\"PremiumBanking\",\"AutoUsed60Months\",\"RegularSaving\",\"AutoUsed36Months\",\"IncreaseYourCreditLine\",\"AutoNew36Months\",\"PlatinumRewardsCard\",\"MasterCardWorld\",\"FirstMortgageFloat\",\"PaymentProtection\",\"ChannelAction_Template\",\"AutoUsed84Months\",\"FirstMortgageFHA\",\"MoneyMarketSavingsAccount\",\"FirstMortgage\",\"UPlusFinGold\",\"Services_ChannelAction_Template\",\"AutoNew48Months\",\"PremiumBanking\",\"MasterCardGold\",\"FirstMortgageFloat\",\"MoneyMarketSavingsAccount\",\"IdentityTheftProtection\",\"HomeOwners\",\"AutoNew84Months\",\"RegularSaving\",\"PaymentProtection\",\"SeniorChecking\",\"FirstMortgageFiveOneARM\",\"PremierChecking\",\"FirstMortgageFiveOneARM\",\"HomeOwners\",\"UPlusFinPersonal\",\"AutoUsed48Months\",\"UPlusFinPersonal\",\"Services_ChannelAction_Template\",\"PremiumBanking\",\"SeniorChecking\",\"SuperSaver\",\"SuperSaver\",\"AutoNew36Months\",\"AutoUsed84Months\",\"FirstMortgageFiveOneARM\",\"AutoUsed36Months\",\"VisaGold\",\"GoPaperless\",\"VisaGold\",\"BasicChecking\",\"Services_ChannelAction_Template\",\"MoneyMarketSavingsAccount\",\"AutoNew36Months\",\"UPlusFinGold\",\"SeniorChecking\",\"UPlusFinGold\",\"IncreaseYourCreditLine\",\"PlatinumRewardsCard\",\"MissingContactInformation\",\"PremierChecking\",\"MasterCardGold\",\"AutoNew48Months\"],\"legendgroup\":\"\",\"marker\":{\"color\":[64.2461,51.4945,52.7779,60.1887,64.7708,50.0,57.1711,52.4186,61.6472,65.3775,51.1978,54.2851,59.2788,60.5845,57.9772,55.1591,64.6733,52.5041,69.7884,50.0,67.6805,50.0,64.851,68.6745,71.0618,61.8246,65.264,50.0,50.0,50.0,53.0707,75.6002,77.4901,61.4512,58.1586,54.9147,65.202,52.1103,53.0007,77.3211,61.9665,69.3922,62.9893,62.9442,62.467,56.5227,61.812,75.7296,52.3734,62.2813,52.7198,57.8638,53.1863,71.2165,51.9586,51.0276,66.3954,51.3569,56.5041,53.496,54.9252,66.541,56.4527,50.0,62.2187,51.6802,50.0,58.0125],\"coloraxis\":\"coloraxis\",\"size\":[1184.0,722.0,477.0,5203.0,4076.0,808.0,835.0,4404.0,5052.0,1378.0,1221.0,1622.0,6471.0,5602.0,907.0,634.0,518.0,537.0,828.0,1243.0,362.0,1206.0,3946.0,3760.0,7287.0,5743.0,5176.0,1080.0,444.0,1096.0,855.0,4605.0,1636.0,1069.0,686.0,3024.0,482.0,3355.0,404.0,4976.0,3508.0,1447.0,3588.0,7415.0,5430.0,3424.0,1106.0,1267.0,5817.0,1347.0,449.0,1688.0,822.0,8174.0,778.0,3868.0,7073.0,1185.0,5499.0,3545.0,2883.0,3854.0,7668.0,989.0,7096.0,4658.0,875.0,5198.0],\"sizemode\":\"area\",\"sizeref\":20.435,\"symbol\":\"circle\",\"line\":{\"color\":\"black\"}},\"mode\":\"markers\",\"name\":\"\",\"orientation\":\"v\",\"showlegend\":false,\"x\":[64.2461,51.4945,52.7779,60.1887,64.7708,50.0,57.1711,52.4186,61.6472,65.3775,51.1978,54.2851,59.2788,60.5845,57.9772,55.1591,64.6733,52.5041,69.7884,50.0,67.6805,50.0,64.851,68.6745,71.0618,61.8246,65.264,50.0,50.0,50.0,53.0707,75.6002,77.4901,61.4512,58.1586,54.9147,65.202,52.1103,53.0007,77.3211,61.9665,69.3922,62.9893,62.9442,62.467,56.5227,61.812,75.7296,52.3734,62.2813,52.7198,57.8638,53.1863,71.2165,51.9586,51.0276,66.3954,51.3569,56.5041,53.496,54.9252,66.541,56.4527,50.0,62.2187,51.6802,50.0,58.0125],\"xaxis\":\"x\",\"y\":[5.658780097961426,22.43766975402832,10.06289005279541,1.6913299560546875,22.154069900512695,0.24751999974250793,2.1556899547576904,27.77021026611328,2.038800001144409,3.918720006942749,6.388209819793701,8.754619598388672,4.187920093536377,0.6426299810409546,1.5435500144958496,5.678229808807373,2.5096499919891357,5.400370121002197,6.2801899909973145,1.0458600521087646,3.5911600589752197,9.121060371398926,16.852510452270508,5.930850028991699,3.2523701190948486,7.191359996795654,1.9513100385665894,0.2777799963951111,0.45045000314712524,1.7335799932479858,1.1695899963378906,13.224760055541992,12.591690063476562,1.4031800031661987,25.07288932800293,19.014549255371094,10.37343978881836,8.70343017578125,2.475250005722046,10.771699905395508,1.5393400192260742,3.5245299339294434,5.183949947357178,0.7282500267028809,0.4419899880886078,15.829440116882324,12.025320053100586,8.8397798538208,0.20629000663757324,3.7119500637054443,17.37194061279297,10.248820304870605,3.284670114517212,11.059459686279297,5.912600040435791,7.290589809417725,5.089779853820801,9.957810401916504,2.4913599491119385,1.0719300508499146,5.064169883728027,4.2812700271606445,2.6082398891448975,0.20221999287605286,18.940250396728516,23.658220291137695,0.5714300274848938,2.7510600090026855],\"yaxis\":\"y\",\"type\":\"scatter\"}],                        {\"template\":{\"layout\":{\"colorway\":[\"#001F5F\",\"#10A5AC\",\"#F76923\",\"#661D34\",\"#86CAC6\",\"#005154\",\"#86CAC6\",\"#5F67B9\",\"#FFC836\",\"#E63690\",\"#AC1361\",\"#63666F\",\"#A7A9B4\",\"#D0D1DB\"],\"hovermode\":\"closest\"}},\"xaxis\":{\"anchor\":\"y\",\"domain\":[0.0,1.0],\"title\":{\"text\":\"Performance\"}},\"yaxis\":{\"anchor\":\"x\",\"domain\":[0.0,1.0],\"title\":{\"text\":\"SuccessRate\"}},\"coloraxis\":{\"colorbar\":{\"title\":{\"text\":\"Performance\"}},\"colorscale\":[[0.0,\"#440154\"],[0.1111111111111111,\"#482878\"],[0.2222222222222222,\"#3e4989\"],[0.3333333333333333,\"#31688e\"],[0.4444444444444444,\"#26828e\"],[0.5555555555555556,\"#1f9e89\"],[0.6666666666666666,\"#35b779\"],[0.7777777777777778,\"#6ece58\"],[0.8888888888888888,\"#b5de2b\"],[1.0,\"#fde725\"]]},\"legend\":{\"tracegroupgap\":0,\"itemsizing\":\"constant\"},\"title\":{\"text\":\"Bubble Chart over all models <br><sup>68 models: 0 (0.0%) at (50,0)</sup>\"}},                        {\"responsive\": true}                    ).then(function(){\n",
       "                            \n",
       "var gd = document.getElementById('ee56c98e-0b58-442a-833a-11ee57b3e7b9');\n",
       "var x = new MutationObserver(function (mutations, observer) {{\n",
       "        var display = window.getComputedStyle(gd).display;\n",
       "        if (!display || display === 'none') {{\n",
       "            console.log([gd, 'removed!']);\n",
       "            Plotly.purge(gd);\n",
       "            observer.disconnect();\n",
       "        }}\n",
       "}});\n",
       "\n",
       "// Listen for the removal of the full notebook cells\n",
       "var notebookContainer = gd.closest('#notebook-container');\n",
       "if (notebookContainer) {{\n",
       "    x.observe(notebookContainer, {childList: true});\n",
       "}}\n",
       "\n",
       "// Listen for the clearing of the current output cell\n",
       "var outputEl = gd.closest('.output');\n",
       "if (outputEl) {{\n",
       "    x.observe(outputEl, {childList: true});\n",
       "}}\n",
       "\n",
       "                        })                };                });            </script>        </div>"
      ]
     },
     "metadata": {},
     "output_type": "display_data"
    }
   ],
   "source": [
    "ADMDatamart.plotPerformanceSuccessRateBubbleChart()"
   ]
  },
  {
   "cell_type": "markdown",
   "metadata": {},
   "source": [
    "## Predictor Overview\n",
    "\n",
    "Load predictor data and show a basic predictor performance overview."
   ]
  },
  {
   "cell_type": "code",
   "execution_count": 5,
   "metadata": {
    "execution": {
     "iopub.execute_input": "2023-04-17T16:01:06.545657Z",
     "iopub.status.busy": "2023-04-17T16:01:06.545346Z",
     "iopub.status.idle": "2023-04-17T16:01:06.619469Z",
     "shell.execute_reply": "2023-04-17T16:01:06.618927Z"
    }
   },
   "outputs": [
    {
     "data": {
      "text/html": [
       "<div>                            <div id=\"a218cfbf-c343-4235-a8f9-1d211f75b3da\" class=\"plotly-graph-div\" style=\"height:525px; width:100%;\"></div>            <script type=\"text/javascript\">                require([\"plotly\"], function(Plotly) {                    window.PLOTLYENV=window.PLOTLYENV || {};                                    if (document.getElementById(\"a218cfbf-c343-4235-a8f9-1d211f75b3da\")) {                    Plotly.newPlot(                        \"a218cfbf-c343-4235-a8f9-1d211f75b3da\",                        [{\"alignmentgroup\":\"True\",\"hovertemplate\":\"Legend=Customer<br>Performance=%{x}<br>Predictor Name=%{y}<extra></extra>\",\"legendgroup\":\"Customer\",\"marker\":{\"color\":\"#001F5F\"},\"name\":\"Customer\",\"notched\":false,\"offsetgroup\":\"Customer\",\"orientation\":\"h\",\"showlegend\":true,\"x\":[51.9228,56.15520000000001,58.34160000000001,54.325,63.051100000000005,69.3831,52.8648,50.949999999999996,50.0073,50.23609999999999,53.371199999999995,50.321400000000004,61.5168,56.164899999999996,53.1076,64.2534,57.0117,58.077999999999996,52.6235,54.4162,55.1646,50.0,50.0,57.2828,59.6243,58.278200000000005,53.9408,57.9302,55.559999999999995,50.0,50.0,53.357299999999995,51.9761,50.0,50.0,55.9508,53.3915,54.813900000000004,56.1343,58.02850000000001,68.11120000000001,50.0,56.2588,50.0,55.4379,56.6492,61.8981,57.908300000000004,54.585499999999996,64.99549999999999,58.4965,51.5258,57.8542,54.202099999999994,50.0,61.9112,50.0,52.990899999999996,51.4385,53.689299999999996,60.520399999999995,51.4401,56.8581,57.5545,71.8279,57.557199999999995,55.212700000000005,53.6961,51.2269,61.4975,55.0814,65.18969999999999,50.342,51.739900000000006,54.395700000000005,50.156800000000004,59.3529,54.905300000000004,56.25059999999999,53.260600000000004,55.6875,55.5095,54.611399999999996,55.72279999999999,50.0,69.2803,59.4035,54.0976,67.7474,50.0,50.0,61.5379,58.9005,50.0,56.7403,63.2074,50.0,57.792500000000004,60.742399999999996,54.802099999999996,58.8394,57.604299999999995,59.164300000000004,57.5545,50.2131,55.1373,53.736700000000006,55.212700000000005,50.404700000000005,54.395700000000005,51.605199999999996,56.25059999999999,51.3856,51.2269,57.7999,53.3458,71.8279,65.18969999999999,60.520399999999995,61.4975,53.62050000000001,50.0,58.192299999999996,61.2906,50.0,56.9369,50.0,50.0,56.9839,50.0,62.205999999999996,60.64190000000001,52.8998,57.9354,60.3538,53.464299999999994,57.085699999999996,55.116699999999994,56.37,60.99,57.1878,50.0,59.4924,57.233999999999995,58.857400000000005,60.2228,56.6963,56.5815,53.9098,50.0,50.0,59.8607,56.0249,50.0,50.0,60.912,64.76849999999999,50.0,61.8656,58.8009,50.0,59.6731,57.67250000000001,56.7884,60.7897,59.206599999999995,50.0,56.704699999999995,63.1562,63.2781,69.4885,53.880700000000004,50.0,50.0,61.8852,59.412200000000006,57.2222,50.0,57.4949,59.2558,62.77779999999999,56.3236,58.720099999999995,58.7225,59.8314,50.0,60.9977,50.0,55.825,60.919000000000004,53.7008,68.42240000000001,50.0,59.2995,50.0,60.044799999999995,55.489200000000004,61.0174,58.3999,54.7925,50.0,64.4263,58.8784,50.0,64.26389999999999,50.0,61.563599999999994,58.7996,64.2321,56.0964,50.0,50.0,59.3662,63.151,50.0,60.130300000000005,57.8851,62.566500000000005,60.260999999999996,58.884499999999996,65.074,72.0121,59.7588,50.0,65.5934,60.2006,60.4753,50.0,65.47619999999999,67.8751,58.243100000000005,50.0,59.770999999999994,50.0,50.0,50.0,59.2858,69.9779,57.3139,61.523,61.9755,55.9398,61.677899999999994,69.6095,50.0,66.3934,50.0,62.7574,66.76910000000001,67.091,65.8252,66.14,50.0,50.0,69.1364,50.0,67.843,79.5234,61.2695,50.0,72.2077,63.101,50.0,60.4482,50.0,67.6933,61.277800000000006,63.6825,68.5224,50.0,68.40990000000001,60.002900000000004,50.0,67.90079999999999,68.10810000000001,50.0,50.0,66.4995,68.8072,65.94139999999999,50.0,72.70830000000001,65.1779,50.0,50.0,50.0,68.0832,60.348,72.2297,70.54169999999999,50.0,64.193,75.493,67.8088,58.949600000000004,67.284,67.7885,60.4125,50.0,67.85679999999999,63.4857,50.0,63.1201,69.0542,62.589099999999995,64.5449,50.0,67.8122,65.7909,50.0,71.13239999999999,63.8537,74.91409999999999,86.3848,78.18,71.921,50.0,67.3194,50.0,69.0493],\"x0\":\" \",\"xaxis\":\"x\",\"y\":[\"Customer.CLV\",\"Customer.CLV\",\"Customer.CLV\",\"Customer.CLV\",\"Customer.CLV\",\"Customer.CLV\",\"Customer.CLV\",\"Customer.CLV\",\"Customer.CLV\",\"Customer.CLV\",\"Customer.CLV\",\"Customer.CLV\",\"Customer.CLV\",\"Customer.CLV\",\"Customer.CLV\",\"Customer.CLV\",\"Customer.CLV\",\"Customer.CLV\",\"Customer.CLV\",\"Customer.CLV\",\"Customer.NoOfDependents\",\"Customer.NoOfDependents\",\"Customer.NoOfDependents\",\"Customer.NoOfDependents\",\"Customer.NoOfDependents\",\"Customer.NoOfDependents\",\"Customer.NoOfDependents\",\"Customer.NoOfDependents\",\"Customer.NoOfDependents\",\"Customer.NoOfDependents\",\"Customer.NoOfDependents\",\"Customer.NoOfDependents\",\"Customer.NoOfDependents\",\"Customer.NoOfDependents\",\"Customer.NoOfDependents\",\"Customer.NoOfDependents\",\"Customer.NoOfDependents\",\"Customer.NoOfDependents\",\"Customer.NoOfDependents\",\"Customer.NoOfDependents\",\"Customer.Prefix\",\"Customer.Prefix\",\"Customer.Prefix\",\"Customer.Prefix\",\"Customer.Prefix\",\"Customer.Prefix\",\"Customer.Prefix\",\"Customer.Prefix\",\"Customer.Prefix\",\"Customer.Prefix\",\"Customer.Prefix\",\"Customer.Prefix\",\"Customer.Prefix\",\"Customer.Prefix\",\"Customer.Prefix\",\"Customer.Prefix\",\"Customer.Prefix\",\"Customer.Prefix\",\"Customer.Prefix\",\"Customer.Prefix\",\"Customer.City\",\"Customer.City\",\"Customer.City\",\"Customer.City\",\"Customer.City\",\"Customer.City\",\"Customer.City\",\"Customer.City\",\"Customer.City\",\"Customer.City\",\"Customer.City\",\"Customer.City\",\"Customer.City\",\"Customer.City\",\"Customer.City\",\"Customer.City\",\"Customer.City\",\"Customer.City\",\"Customer.City\",\"Customer.City\",\"Customer.BusinessSegment\",\"Customer.BusinessSegment\",\"Customer.BusinessSegment\",\"Customer.BusinessSegment\",\"Customer.BusinessSegment\",\"Customer.BusinessSegment\",\"Customer.BusinessSegment\",\"Customer.BusinessSegment\",\"Customer.BusinessSegment\",\"Customer.BusinessSegment\",\"Customer.BusinessSegment\",\"Customer.BusinessSegment\",\"Customer.BusinessSegment\",\"Customer.BusinessSegment\",\"Customer.BusinessSegment\",\"Customer.BusinessSegment\",\"Customer.BusinessSegment\",\"Customer.BusinessSegment\",\"Customer.BusinessSegment\",\"Customer.BusinessSegment\",\"Customer.C_CIFNBR\",\"Customer.C_CIFNBR\",\"Customer.C_CIFNBR\",\"Customer.C_CIFNBR\",\"Customer.C_CIFNBR\",\"Customer.C_CIFNBR\",\"Customer.C_CIFNBR\",\"Customer.C_CIFNBR\",\"Customer.C_CIFNBR\",\"Customer.C_CIFNBR\",\"Customer.C_CIFNBR\",\"Customer.C_CIFNBR\",\"Customer.C_CIFNBR\",\"Customer.C_CIFNBR\",\"Customer.C_CIFNBR\",\"Customer.C_CIFNBR\",\"Customer.C_CIFNBR\",\"Customer.C_CIFNBR\",\"Customer.C_CIFNBR\",\"Customer.C_CIFNBR\",\"Customer.Date_of_Birth\",\"Customer.Date_of_Birth\",\"Customer.Date_of_Birth\",\"Customer.Date_of_Birth\",\"Customer.Date_of_Birth\",\"Customer.Date_of_Birth\",\"Customer.Date_of_Birth\",\"Customer.Date_of_Birth\",\"Customer.Date_of_Birth\",\"Customer.Date_of_Birth\",\"Customer.Date_of_Birth\",\"Customer.Date_of_Birth\",\"Customer.Date_of_Birth\",\"Customer.Date_of_Birth\",\"Customer.Date_of_Birth\",\"Customer.Date_of_Birth\",\"Customer.Date_of_Birth\",\"Customer.Date_of_Birth\",\"Customer.Date_of_Birth\",\"Customer.Date_of_Birth\",\"Customer.RelationshipStartDate\",\"Customer.RelationshipStartDate\",\"Customer.RelationshipStartDate\",\"Customer.RelationshipStartDate\",\"Customer.RelationshipStartDate\",\"Customer.RelationshipStartDate\",\"Customer.RelationshipStartDate\",\"Customer.RelationshipStartDate\",\"Customer.RelationshipStartDate\",\"Customer.RelationshipStartDate\",\"Customer.RelationshipStartDate\",\"Customer.RelationshipStartDate\",\"Customer.RelationshipStartDate\",\"Customer.RelationshipStartDate\",\"Customer.RelationshipStartDate\",\"Customer.RelationshipStartDate\",\"Customer.RelationshipStartDate\",\"Customer.RelationshipStartDate\",\"Customer.RelationshipStartDate\",\"Customer.RelationshipStartDate\",\"Customer.MaritalStatus\",\"Customer.MaritalStatus\",\"Customer.MaritalStatus\",\"Customer.MaritalStatus\",\"Customer.MaritalStatus\",\"Customer.MaritalStatus\",\"Customer.MaritalStatus\",\"Customer.MaritalStatus\",\"Customer.MaritalStatus\",\"Customer.MaritalStatus\",\"Customer.MaritalStatus\",\"Customer.MaritalStatus\",\"Customer.MaritalStatus\",\"Customer.MaritalStatus\",\"Customer.MaritalStatus\",\"Customer.MaritalStatus\",\"Customer.MaritalStatus\",\"Customer.MaritalStatus\",\"Customer.MaritalStatus\",\"Customer.MaritalStatus\",\"Customer.RiskCode\",\"Customer.RiskCode\",\"Customer.RiskCode\",\"Customer.RiskCode\",\"Customer.RiskCode\",\"Customer.RiskCode\",\"Customer.RiskCode\",\"Customer.RiskCode\",\"Customer.RiskCode\",\"Customer.RiskCode\",\"Customer.RiskCode\",\"Customer.RiskCode\",\"Customer.RiskCode\",\"Customer.RiskCode\",\"Customer.RiskCode\",\"Customer.RiskCode\",\"Customer.RiskCode\",\"Customer.RiskCode\",\"Customer.RiskCode\",\"Customer.RiskCode\",\"Customer.CLV_VALUE\",\"Customer.CLV_VALUE\",\"Customer.CLV_VALUE\",\"Customer.CLV_VALUE\",\"Customer.CLV_VALUE\",\"Customer.CLV_VALUE\",\"Customer.CLV_VALUE\",\"Customer.CLV_VALUE\",\"Customer.CLV_VALUE\",\"Customer.CLV_VALUE\",\"Customer.CLV_VALUE\",\"Customer.CLV_VALUE\",\"Customer.CLV_VALUE\",\"Customer.CLV_VALUE\",\"Customer.CLV_VALUE\",\"Customer.CLV_VALUE\",\"Customer.CLV_VALUE\",\"Customer.CLV_VALUE\",\"Customer.CLV_VALUE\",\"Customer.CLV_VALUE\",\"Customer.Age\",\"Customer.Age\",\"Customer.Age\",\"Customer.Age\",\"Customer.Age\",\"Customer.Age\",\"Customer.Age\",\"Customer.Age\",\"Customer.Age\",\"Customer.Age\",\"Customer.Age\",\"Customer.Age\",\"Customer.Age\",\"Customer.Age\",\"Customer.Age\",\"Customer.Age\",\"Customer.Age\",\"Customer.Age\",\"Customer.Age\",\"Customer.Age\",\"Customer.WinScore\",\"Customer.WinScore\",\"Customer.WinScore\",\"Customer.WinScore\",\"Customer.WinScore\",\"Customer.WinScore\",\"Customer.WinScore\",\"Customer.WinScore\",\"Customer.WinScore\",\"Customer.WinScore\",\"Customer.WinScore\",\"Customer.WinScore\",\"Customer.WinScore\",\"Customer.WinScore\",\"Customer.WinScore\",\"Customer.WinScore\",\"Customer.WinScore\",\"Customer.WinScore\",\"Customer.WinScore\",\"Customer.WinScore\",\"Customer.NetWealth\",\"Customer.NetWealth\",\"Customer.NetWealth\",\"Customer.NetWealth\",\"Customer.NetWealth\",\"Customer.NetWealth\",\"Customer.NetWealth\",\"Customer.NetWealth\",\"Customer.NetWealth\",\"Customer.NetWealth\",\"Customer.NetWealth\",\"Customer.NetWealth\",\"Customer.NetWealth\",\"Customer.NetWealth\",\"Customer.NetWealth\",\"Customer.NetWealth\",\"Customer.NetWealth\",\"Customer.NetWealth\",\"Customer.NetWealth\",\"Customer.NetWealth\",\"Customer.CreditScore\",\"Customer.CreditScore\",\"Customer.CreditScore\",\"Customer.CreditScore\",\"Customer.CreditScore\",\"Customer.CreditScore\",\"Customer.CreditScore\",\"Customer.CreditScore\",\"Customer.CreditScore\",\"Customer.CreditScore\",\"Customer.CreditScore\",\"Customer.CreditScore\",\"Customer.CreditScore\",\"Customer.CreditScore\",\"Customer.CreditScore\",\"Customer.CreditScore\",\"Customer.CreditScore\",\"Customer.CreditScore\",\"Customer.CreditScore\",\"Customer.CreditScore\",\"Customer.AnnualIncome\",\"Customer.AnnualIncome\",\"Customer.AnnualIncome\",\"Customer.AnnualIncome\",\"Customer.AnnualIncome\",\"Customer.AnnualIncome\",\"Customer.AnnualIncome\",\"Customer.AnnualIncome\",\"Customer.AnnualIncome\",\"Customer.AnnualIncome\",\"Customer.AnnualIncome\",\"Customer.AnnualIncome\",\"Customer.AnnualIncome\",\"Customer.AnnualIncome\",\"Customer.AnnualIncome\",\"Customer.AnnualIncome\",\"Customer.AnnualIncome\",\"Customer.AnnualIncome\",\"Customer.AnnualIncome\",\"Customer.AnnualIncome\"],\"y0\":\" \",\"yaxis\":\"y\",\"type\":\"box\"},{\"alignmentgroup\":\"True\",\"hovertemplate\":\"Legend=IH<br>Performance=%{x}<br>Predictor Name=%{y}<extra></extra>\",\"legendgroup\":\"IH\",\"marker\":{\"color\":\"#10A5AC\"},\"name\":\"IH\",\"notched\":false,\"offsetgroup\":\"IH\",\"orientation\":\"h\",\"showlegend\":true,\"x\":[55.1111,56.0681,53.3948,62.185500000000005,54.684999999999995,53.0768,56.424099999999996,53.4709,67.5339,57.798899999999996,55.16799999999999,52.753099999999996,57.8135,56.1223,54.454,53.90859999999999,55.755900000000004,54.6213,53.60549999999999,51.401399999999995,58.796499999999995,56.0083,53.0192,52.6125,52.2733,52.9915,53.654,56.282399999999996,53.934000000000005,70.9567,54.4977,55.3206,55.156400000000005,64.51400000000001,52.643499999999996,54.652100000000004,61.2984,55.3455,54.343399999999995,57.1655,58.7655,51.903600000000004,51.696799999999996,53.71,52.405699999999996,57.8241,56.26219999999999,54.0659,58.883700000000005,50.662600000000005,56.9168,61.919900000000005,63.037200000000006,59.973,51.5159,54.98800000000001,52.5888,57.469300000000004,57.6847,55.3316,58.19800000000001,56.7851,54.526799999999994,54.0076,52.290800000000004,55.2365,64.4175,55.209399999999995,55.9603,55.9403,59.79750000000001,53.6446,61.28940000000001,53.046499999999995,71.0407,55.0376,56.368300000000005,58.0686,56.2361,60.62030000000001,54.2427,63.035,52.4236,55.4017,53.37,70.32509999999999,58.0908,60.8391,56.8518,55.5577,50.985,53.4604,60.6094,57.5792,56.295700000000004,56.884,60.398700000000005,61.487700000000004,57.15710000000001,52.868,65.08,50.286500000000004,55.04710000000001,59.594899999999996,59.461,57.5397,58.3707,50.1131,50.232600000000005,56.3673,56.7448,50.3807,57.4326,59.829100000000004,57.550599999999996,58.6947,53.1967,55.513400000000004,50.3252,68.6689,68.4031,56.9537,50.099000000000004,50.2262,62.490100000000005,50.253800000000005,60.3909,58.32000000000001,59.6171,56.74550000000001,58.6283,56.8491,57.419399999999996,57.9052,54.748799999999996,53.630599999999994,50.286500000000004,59.319900000000004,63.4496,55.761300000000006,62.2877,53.0076,57.652800000000006,66.7804,51.019400000000005,67.88300000000001,54.573899999999995,57.2565,57.5792,54.817499999999995,56.3398,55.9497,60.5249,62.7857,59.1166,67.6683,53.4604,63.696,57.894,53.98,50.0,59.488,63.8987,59.5351,60.1503,50.0,50.0,59.24850000000001,57.776300000000006,50.0,58.72730000000001,58.5596,54.7725,57.7587,50.0,57.6265,57.578300000000006,50.0,50.0,64.2375,50.0,50.0,63.5993,61.12499999999999,50.0,57.129,58.8884,64.67150000000001,55.31270000000001,50.0,57.152899999999995,64.3524,60.2962,56.049499999999995,61.483200000000004,58.4571,59.18560000000001,57.3605,60.467999999999996,50.0,54.759299999999996,50.2262,61.175000000000004,50.099000000000004,65.4153,61.272000000000006,63.0443,59.5125,63.4209,50.1269,59.4537,54.1848,64.6274,60.552099999999996,55.7909,58.097100000000005,60.6255,50.286500000000004,54.6334,50.068900000000006,58.902699999999996,50.0,63.8127,57.999500000000005,64.48129999999999,50.0,50.0,61.1295,61.351,50.0,62.590599999999995,57.6318,50.0,59.7952,58.7307,61.1115,50.0,65.2045,56.3731,60.9884,56.7573,60.255,58.870400000000004,61.3475,56.41929999999999,50.0,53.259,50.0258,61.20060000000001,50.0,61.4148,50.0,60.7985,58.4923,59.39919999999999,59.809599999999996,50.0,58.847899999999996,65.3965,62.9572],\"x0\":\" \",\"xaxis\":\"x\",\"y\":[\"IH.SMS.Outbound.Rejected.pxLastGroupID\",\"IH.SMS.Outbound.Rejected.pxLastGroupID\",\"IH.SMS.Outbound.Rejected.pxLastGroupID\",\"IH.SMS.Outbound.Rejected.pxLastGroupID\",\"IH.SMS.Outbound.Rejected.pxLastGroupID\",\"IH.SMS.Outbound.Rejected.pxLastGroupID\",\"IH.SMS.Outbound.Rejected.pxLastGroupID\",\"IH.SMS.Outbound.Rejected.pxLastGroupID\",\"IH.SMS.Outbound.Rejected.pxLastGroupID\",\"IH.SMS.Outbound.Rejected.pxLastGroupID\",\"IH.SMS.Outbound.Rejected.pxLastGroupID\",\"IH.SMS.Outbound.Rejected.pxLastGroupID\",\"IH.SMS.Outbound.Rejected.pxLastGroupID\",\"IH.SMS.Outbound.Rejected.pxLastGroupID\",\"IH.SMS.Outbound.Rejected.pxLastGroupID\",\"IH.SMS.Outbound.Rejected.pxLastGroupID\",\"IH.SMS.Outbound.Rejected.pxLastGroupID\",\"IH.SMS.Outbound.Rejected.pxLastGroupID\",\"IH.SMS.Outbound.Rejected.pxLastGroupID\",\"IH.SMS.Outbound.Rejected.pxLastGroupID\",\"IH.Web.Inbound.Loyal.pyHistoricalOutcomeCount\",\"IH.Web.Inbound.Loyal.pyHistoricalOutcomeCount\",\"IH.Web.Inbound.Loyal.pyHistoricalOutcomeCount\",\"IH.Web.Inbound.Loyal.pyHistoricalOutcomeCount\",\"IH.Web.Inbound.Loyal.pyHistoricalOutcomeCount\",\"IH.Web.Inbound.Loyal.pyHistoricalOutcomeCount\",\"IH.Web.Inbound.Loyal.pyHistoricalOutcomeCount\",\"IH.Web.Inbound.Loyal.pyHistoricalOutcomeCount\",\"IH.Web.Inbound.Loyal.pyHistoricalOutcomeCount\",\"IH.Web.Inbound.Loyal.pyHistoricalOutcomeCount\",\"IH.Web.Inbound.Loyal.pyHistoricalOutcomeCount\",\"IH.Web.Inbound.Loyal.pyHistoricalOutcomeCount\",\"IH.Web.Inbound.Loyal.pyHistoricalOutcomeCount\",\"IH.Web.Inbound.Loyal.pyHistoricalOutcomeCount\",\"IH.Web.Inbound.Loyal.pyHistoricalOutcomeCount\",\"IH.Web.Inbound.Loyal.pyHistoricalOutcomeCount\",\"IH.Web.Inbound.Loyal.pyHistoricalOutcomeCount\",\"IH.Web.Inbound.Loyal.pyHistoricalOutcomeCount\",\"IH.Web.Inbound.Loyal.pyHistoricalOutcomeCount\",\"IH.Web.Inbound.Loyal.pyHistoricalOutcomeCount\",\"IH.Web.Inbound.Rejected.pxLastGroupID\",\"IH.Web.Inbound.Rejected.pxLastGroupID\",\"IH.Web.Inbound.Rejected.pxLastGroupID\",\"IH.Web.Inbound.Rejected.pxLastGroupID\",\"IH.Web.Inbound.Rejected.pxLastGroupID\",\"IH.Web.Inbound.Rejected.pxLastGroupID\",\"IH.Web.Inbound.Rejected.pxLastGroupID\",\"IH.Web.Inbound.Rejected.pxLastGroupID\",\"IH.Web.Inbound.Rejected.pxLastGroupID\",\"IH.Web.Inbound.Rejected.pxLastGroupID\",\"IH.Web.Inbound.Rejected.pxLastGroupID\",\"IH.Web.Inbound.Rejected.pxLastGroupID\",\"IH.Web.Inbound.Rejected.pxLastGroupID\",\"IH.Web.Inbound.Rejected.pxLastGroupID\",\"IH.Web.Inbound.Rejected.pxLastGroupID\",\"IH.Web.Inbound.Rejected.pxLastGroupID\",\"IH.Web.Inbound.Rejected.pxLastGroupID\",\"IH.Web.Inbound.Rejected.pxLastGroupID\",\"IH.Web.Inbound.Rejected.pxLastGroupID\",\"IH.Web.Inbound.Rejected.pxLastGroupID\",\"IH.Web.Inbound.Churned.pyHistoricalOutcomeCount\",\"IH.Web.Inbound.Churned.pyHistoricalOutcomeCount\",\"IH.Web.Inbound.Churned.pyHistoricalOutcomeCount\",\"IH.Web.Inbound.Churned.pyHistoricalOutcomeCount\",\"IH.Web.Inbound.Churned.pyHistoricalOutcomeCount\",\"IH.Web.Inbound.Churned.pyHistoricalOutcomeCount\",\"IH.Web.Inbound.Churned.pyHistoricalOutcomeCount\",\"IH.Web.Inbound.Churned.pyHistoricalOutcomeCount\",\"IH.Web.Inbound.Churned.pyHistoricalOutcomeCount\",\"IH.Web.Inbound.Churned.pyHistoricalOutcomeCount\",\"IH.Web.Inbound.Churned.pyHistoricalOutcomeCount\",\"IH.Web.Inbound.Churned.pyHistoricalOutcomeCount\",\"IH.Web.Inbound.Churned.pyHistoricalOutcomeCount\",\"IH.Web.Inbound.Churned.pyHistoricalOutcomeCount\",\"IH.Web.Inbound.Churned.pyHistoricalOutcomeCount\",\"IH.Web.Inbound.Churned.pyHistoricalOutcomeCount\",\"IH.Web.Inbound.Churned.pyHistoricalOutcomeCount\",\"IH.Web.Inbound.Churned.pyHistoricalOutcomeCount\",\"IH.Web.Inbound.Churned.pyHistoricalOutcomeCount\",\"IH.Web.Inbound.Churned.pyHistoricalOutcomeCount\",\"IH.Email.Outbound.Accepted.pyHistoricalOutcomeCount\",\"IH.Email.Outbound.Accepted.pyHistoricalOutcomeCount\",\"IH.Email.Outbound.Accepted.pyHistoricalOutcomeCount\",\"IH.Email.Outbound.Accepted.pyHistoricalOutcomeCount\",\"IH.Email.Outbound.Accepted.pyHistoricalOutcomeCount\",\"IH.Email.Outbound.Accepted.pyHistoricalOutcomeCount\",\"IH.Email.Outbound.Accepted.pyHistoricalOutcomeCount\",\"IH.Email.Outbound.Accepted.pyHistoricalOutcomeCount\",\"IH.Email.Outbound.Accepted.pyHistoricalOutcomeCount\",\"IH.Email.Outbound.Accepted.pyHistoricalOutcomeCount\",\"IH.Email.Outbound.Accepted.pyHistoricalOutcomeCount\",\"IH.Email.Outbound.Accepted.pyHistoricalOutcomeCount\",\"IH.Email.Outbound.Accepted.pyHistoricalOutcomeCount\",\"IH.Email.Outbound.Accepted.pyHistoricalOutcomeCount\",\"IH.Email.Outbound.Accepted.pyHistoricalOutcomeCount\",\"IH.Email.Outbound.Accepted.pyHistoricalOutcomeCount\",\"IH.Email.Outbound.Accepted.pyHistoricalOutcomeCount\",\"IH.Email.Outbound.Accepted.pyHistoricalOutcomeCount\",\"IH.Email.Outbound.Accepted.pyHistoricalOutcomeCount\",\"IH.Email.Outbound.Accepted.pyHistoricalOutcomeCount\",\"IH.Web.Inbound.Accepted.pxLastGroupID\",\"IH.Web.Inbound.Accepted.pxLastGroupID\",\"IH.Web.Inbound.Accepted.pxLastGroupID\",\"IH.Web.Inbound.Accepted.pxLastGroupID\",\"IH.Web.Inbound.Accepted.pxLastGroupID\",\"IH.Web.Inbound.Accepted.pxLastGroupID\",\"IH.Web.Inbound.Accepted.pxLastGroupID\",\"IH.Web.Inbound.Accepted.pxLastGroupID\",\"IH.Web.Inbound.Accepted.pxLastGroupID\",\"IH.Web.Inbound.Accepted.pxLastGroupID\",\"IH.Web.Inbound.Accepted.pxLastGroupID\",\"IH.Web.Inbound.Accepted.pxLastGroupID\",\"IH.Web.Inbound.Accepted.pxLastGroupID\",\"IH.Web.Inbound.Accepted.pxLastGroupID\",\"IH.Web.Inbound.Accepted.pxLastGroupID\",\"IH.Web.Inbound.Accepted.pxLastGroupID\",\"IH.Web.Inbound.Accepted.pxLastGroupID\",\"IH.Web.Inbound.Accepted.pxLastGroupID\",\"IH.Web.Inbound.Accepted.pxLastGroupID\",\"IH.Web.Inbound.Accepted.pxLastGroupID\",\"IH.SMS.Outbound.Accepted.pxLastGroupID\",\"IH.SMS.Outbound.Accepted.pxLastGroupID\",\"IH.SMS.Outbound.Accepted.pxLastGroupID\",\"IH.SMS.Outbound.Accepted.pxLastGroupID\",\"IH.SMS.Outbound.Accepted.pxLastGroupID\",\"IH.SMS.Outbound.Accepted.pxLastGroupID\",\"IH.SMS.Outbound.Accepted.pxLastGroupID\",\"IH.SMS.Outbound.Accepted.pxLastGroupID\",\"IH.SMS.Outbound.Accepted.pxLastGroupID\",\"IH.SMS.Outbound.Accepted.pxLastGroupID\",\"IH.SMS.Outbound.Accepted.pxLastGroupID\",\"IH.SMS.Outbound.Accepted.pxLastGroupID\",\"IH.SMS.Outbound.Accepted.pxLastGroupID\",\"IH.SMS.Outbound.Accepted.pxLastGroupID\",\"IH.SMS.Outbound.Accepted.pxLastGroupID\",\"IH.SMS.Outbound.Accepted.pxLastGroupID\",\"IH.SMS.Outbound.Accepted.pxLastGroupID\",\"IH.SMS.Outbound.Accepted.pxLastGroupID\",\"IH.SMS.Outbound.Accepted.pxLastGroupID\",\"IH.SMS.Outbound.Accepted.pxLastGroupID\",\"IH.Email.Outbound.Accepted.pxLastGroupID\",\"IH.Email.Outbound.Accepted.pxLastGroupID\",\"IH.Email.Outbound.Accepted.pxLastGroupID\",\"IH.Email.Outbound.Accepted.pxLastGroupID\",\"IH.Email.Outbound.Accepted.pxLastGroupID\",\"IH.Email.Outbound.Accepted.pxLastGroupID\",\"IH.Email.Outbound.Accepted.pxLastGroupID\",\"IH.Email.Outbound.Accepted.pxLastGroupID\",\"IH.Email.Outbound.Accepted.pxLastGroupID\",\"IH.Email.Outbound.Accepted.pxLastGroupID\",\"IH.Email.Outbound.Accepted.pxLastGroupID\",\"IH.Email.Outbound.Accepted.pxLastGroupID\",\"IH.Email.Outbound.Accepted.pxLastGroupID\",\"IH.Email.Outbound.Accepted.pxLastGroupID\",\"IH.Email.Outbound.Accepted.pxLastGroupID\",\"IH.Email.Outbound.Accepted.pxLastGroupID\",\"IH.Email.Outbound.Accepted.pxLastGroupID\",\"IH.Email.Outbound.Accepted.pxLastGroupID\",\"IH.Email.Outbound.Accepted.pxLastGroupID\",\"IH.Email.Outbound.Accepted.pxLastGroupID\",\"IH.Web.Inbound.Rejected.pyHistoricalOutcomeCount\",\"IH.Web.Inbound.Rejected.pyHistoricalOutcomeCount\",\"IH.Web.Inbound.Rejected.pyHistoricalOutcomeCount\",\"IH.Web.Inbound.Rejected.pyHistoricalOutcomeCount\",\"IH.Web.Inbound.Rejected.pyHistoricalOutcomeCount\",\"IH.Web.Inbound.Rejected.pyHistoricalOutcomeCount\",\"IH.Web.Inbound.Rejected.pyHistoricalOutcomeCount\",\"IH.Web.Inbound.Rejected.pyHistoricalOutcomeCount\",\"IH.Web.Inbound.Rejected.pyHistoricalOutcomeCount\",\"IH.Web.Inbound.Rejected.pyHistoricalOutcomeCount\",\"IH.Web.Inbound.Rejected.pyHistoricalOutcomeCount\",\"IH.Web.Inbound.Rejected.pyHistoricalOutcomeCount\",\"IH.Web.Inbound.Rejected.pyHistoricalOutcomeCount\",\"IH.Web.Inbound.Rejected.pyHistoricalOutcomeCount\",\"IH.Web.Inbound.Rejected.pyHistoricalOutcomeCount\",\"IH.Web.Inbound.Rejected.pyHistoricalOutcomeCount\",\"IH.Web.Inbound.Rejected.pyHistoricalOutcomeCount\",\"IH.Web.Inbound.Rejected.pyHistoricalOutcomeCount\",\"IH.Web.Inbound.Rejected.pyHistoricalOutcomeCount\",\"IH.Web.Inbound.Rejected.pyHistoricalOutcomeCount\",\"IH.SMS.Outbound.Rejected.pyHistoricalOutcomeCount\",\"IH.SMS.Outbound.Rejected.pyHistoricalOutcomeCount\",\"IH.SMS.Outbound.Rejected.pyHistoricalOutcomeCount\",\"IH.SMS.Outbound.Rejected.pyHistoricalOutcomeCount\",\"IH.SMS.Outbound.Rejected.pyHistoricalOutcomeCount\",\"IH.SMS.Outbound.Rejected.pyHistoricalOutcomeCount\",\"IH.SMS.Outbound.Rejected.pyHistoricalOutcomeCount\",\"IH.SMS.Outbound.Rejected.pyHistoricalOutcomeCount\",\"IH.SMS.Outbound.Rejected.pyHistoricalOutcomeCount\",\"IH.SMS.Outbound.Rejected.pyHistoricalOutcomeCount\",\"IH.SMS.Outbound.Rejected.pyHistoricalOutcomeCount\",\"IH.SMS.Outbound.Rejected.pyHistoricalOutcomeCount\",\"IH.SMS.Outbound.Rejected.pyHistoricalOutcomeCount\",\"IH.SMS.Outbound.Rejected.pyHistoricalOutcomeCount\",\"IH.SMS.Outbound.Rejected.pyHistoricalOutcomeCount\",\"IH.SMS.Outbound.Rejected.pyHistoricalOutcomeCount\",\"IH.SMS.Outbound.Rejected.pyHistoricalOutcomeCount\",\"IH.SMS.Outbound.Rejected.pyHistoricalOutcomeCount\",\"IH.SMS.Outbound.Rejected.pyHistoricalOutcomeCount\",\"IH.SMS.Outbound.Rejected.pyHistoricalOutcomeCount\",\"IH.SMS.Outbound.Accepted.pyHistoricalOutcomeCount\",\"IH.SMS.Outbound.Accepted.pyHistoricalOutcomeCount\",\"IH.SMS.Outbound.Accepted.pyHistoricalOutcomeCount\",\"IH.SMS.Outbound.Accepted.pyHistoricalOutcomeCount\",\"IH.SMS.Outbound.Accepted.pyHistoricalOutcomeCount\",\"IH.SMS.Outbound.Accepted.pyHistoricalOutcomeCount\",\"IH.SMS.Outbound.Accepted.pyHistoricalOutcomeCount\",\"IH.SMS.Outbound.Accepted.pyHistoricalOutcomeCount\",\"IH.SMS.Outbound.Accepted.pyHistoricalOutcomeCount\",\"IH.SMS.Outbound.Accepted.pyHistoricalOutcomeCount\",\"IH.SMS.Outbound.Accepted.pyHistoricalOutcomeCount\",\"IH.SMS.Outbound.Accepted.pyHistoricalOutcomeCount\",\"IH.SMS.Outbound.Accepted.pyHistoricalOutcomeCount\",\"IH.SMS.Outbound.Accepted.pyHistoricalOutcomeCount\",\"IH.SMS.Outbound.Accepted.pyHistoricalOutcomeCount\",\"IH.SMS.Outbound.Accepted.pyHistoricalOutcomeCount\",\"IH.SMS.Outbound.Accepted.pyHistoricalOutcomeCount\",\"IH.SMS.Outbound.Accepted.pyHistoricalOutcomeCount\",\"IH.SMS.Outbound.Accepted.pyHistoricalOutcomeCount\",\"IH.SMS.Outbound.Accepted.pyHistoricalOutcomeCount\",\"IH.Email.Outbound.Rejected.pyHistoricalOutcomeCount\",\"IH.Email.Outbound.Rejected.pyHistoricalOutcomeCount\",\"IH.Email.Outbound.Rejected.pyHistoricalOutcomeCount\",\"IH.Email.Outbound.Rejected.pyHistoricalOutcomeCount\",\"IH.Email.Outbound.Rejected.pyHistoricalOutcomeCount\",\"IH.Email.Outbound.Rejected.pyHistoricalOutcomeCount\",\"IH.Email.Outbound.Rejected.pyHistoricalOutcomeCount\",\"IH.Email.Outbound.Rejected.pyHistoricalOutcomeCount\",\"IH.Email.Outbound.Rejected.pyHistoricalOutcomeCount\",\"IH.Email.Outbound.Rejected.pyHistoricalOutcomeCount\",\"IH.Email.Outbound.Rejected.pyHistoricalOutcomeCount\",\"IH.Email.Outbound.Rejected.pyHistoricalOutcomeCount\",\"IH.Email.Outbound.Rejected.pyHistoricalOutcomeCount\",\"IH.Email.Outbound.Rejected.pyHistoricalOutcomeCount\",\"IH.Email.Outbound.Rejected.pyHistoricalOutcomeCount\",\"IH.Email.Outbound.Rejected.pyHistoricalOutcomeCount\",\"IH.Email.Outbound.Rejected.pyHistoricalOutcomeCount\",\"IH.Email.Outbound.Rejected.pyHistoricalOutcomeCount\",\"IH.Email.Outbound.Rejected.pyHistoricalOutcomeCount\",\"IH.Email.Outbound.Rejected.pyHistoricalOutcomeCount\",\"IH.Web.Inbound.Accepted.pyHistoricalOutcomeCount\",\"IH.Web.Inbound.Accepted.pyHistoricalOutcomeCount\",\"IH.Web.Inbound.Accepted.pyHistoricalOutcomeCount\",\"IH.Web.Inbound.Accepted.pyHistoricalOutcomeCount\",\"IH.Web.Inbound.Accepted.pyHistoricalOutcomeCount\",\"IH.Web.Inbound.Accepted.pyHistoricalOutcomeCount\",\"IH.Web.Inbound.Accepted.pyHistoricalOutcomeCount\",\"IH.Web.Inbound.Accepted.pyHistoricalOutcomeCount\",\"IH.Web.Inbound.Accepted.pyHistoricalOutcomeCount\",\"IH.Web.Inbound.Accepted.pyHistoricalOutcomeCount\",\"IH.Web.Inbound.Accepted.pyHistoricalOutcomeCount\",\"IH.Web.Inbound.Accepted.pyHistoricalOutcomeCount\",\"IH.Web.Inbound.Accepted.pyHistoricalOutcomeCount\",\"IH.Web.Inbound.Accepted.pyHistoricalOutcomeCount\",\"IH.Web.Inbound.Accepted.pyHistoricalOutcomeCount\",\"IH.Web.Inbound.Accepted.pyHistoricalOutcomeCount\",\"IH.Web.Inbound.Accepted.pyHistoricalOutcomeCount\",\"IH.Web.Inbound.Accepted.pyHistoricalOutcomeCount\",\"IH.Web.Inbound.Accepted.pyHistoricalOutcomeCount\",\"IH.Web.Inbound.Accepted.pyHistoricalOutcomeCount\"],\"y0\":\" \",\"yaxis\":\"y\",\"type\":\"box\"},{\"alignmentgroup\":\"True\",\"hovertemplate\":\"Legend=Param<br>Performance=%{x}<br>Predictor Name=%{y}<extra></extra>\",\"legendgroup\":\"Param\",\"marker\":{\"color\":\"#F76923\"},\"name\":\"Param\",\"notched\":false,\"offsetgroup\":\"Param\",\"orientation\":\"h\",\"showlegend\":true,\"x\":[57.604299999999995,50.404700000000005,59.164300000000004,60.520399999999995,58.8394,51.605199999999996,54.395700000000005,57.5545,53.736700000000006,51.2269,56.25059999999999,71.8279,57.7999,51.3856,61.4975,55.212700000000005,55.2592,50.2131,53.3458,65.18969999999999],\"x0\":\" \",\"xaxis\":\"x\",\"y\":[\"Param.ExtGroupCreditcards\",\"Param.ExtGroupCreditcards\",\"Param.ExtGroupCreditcards\",\"Param.ExtGroupCreditcards\",\"Param.ExtGroupCreditcards\",\"Param.ExtGroupCreditcards\",\"Param.ExtGroupCreditcards\",\"Param.ExtGroupCreditcards\",\"Param.ExtGroupCreditcards\",\"Param.ExtGroupCreditcards\",\"Param.ExtGroupCreditcards\",\"Param.ExtGroupCreditcards\",\"Param.ExtGroupCreditcards\",\"Param.ExtGroupCreditcards\",\"Param.ExtGroupCreditcards\",\"Param.ExtGroupCreditcards\",\"Param.ExtGroupCreditcards\",\"Param.ExtGroupCreditcards\",\"Param.ExtGroupCreditcards\",\"Param.ExtGroupCreditcards\"],\"y0\":\" \",\"yaxis\":\"y\",\"type\":\"box\"}],                        {\"template\":{\"layout\":{\"colorway\":[\"#001F5F\",\"#10A5AC\",\"#F76923\",\"#661D34\",\"#86CAC6\",\"#005154\",\"#86CAC6\",\"#5F67B9\",\"#FFC836\",\"#E63690\",\"#AC1361\",\"#63666F\",\"#A7A9B4\",\"#D0D1DB\"],\"hovermode\":\"closest\"}},\"xaxis\":{\"anchor\":\"y\",\"domain\":[0.0,1.0],\"title\":{\"text\":\"Performance\"}},\"yaxis\":{\"anchor\":\"x\",\"domain\":[0.0,1.0],\"title\":{\"text\":\"Predictor Name\"},\"categoryorder\":\"array\",\"categoryarray\":[\"Customer.CLV\",\"Customer.NoOfDependents\",\"IH.SMS.Outbound.Rejected.pxLastGroupID\",\"IH.Web.Inbound.Loyal.pyHistoricalOutcomeCount\",\"Customer.Prefix\",\"Customer.City\",\"Customer.BusinessSegment\",\"Customer.C_CIFNBR\",\"Param.ExtGroupCreditcards\",\"IH.Web.Inbound.Rejected.pxLastGroupID\",\"IH.Web.Inbound.Churned.pyHistoricalOutcomeCount\",\"Customer.Date_of_Birth\",\"IH.Email.Outbound.Accepted.pyHistoricalOutcomeCount\",\"Customer.RelationshipStartDate\",\"IH.Web.Inbound.Accepted.pxLastGroupID\",\"IH.SMS.Outbound.Accepted.pxLastGroupID\",\"Customer.MaritalStatus\",\"IH.Email.Outbound.Accepted.pxLastGroupID\",\"IH.Web.Inbound.Rejected.pyHistoricalOutcomeCount\",\"IH.SMS.Outbound.Rejected.pyHistoricalOutcomeCount\",\"Customer.RiskCode\",\"IH.SMS.Outbound.Accepted.pyHistoricalOutcomeCount\",\"IH.Email.Outbound.Rejected.pyHistoricalOutcomeCount\",\"IH.Web.Inbound.Accepted.pyHistoricalOutcomeCount\",\"Customer.CLV_VALUE\",\"Customer.Age\",\"Customer.WinScore\",\"Customer.NetWealth\",\"Customer.CreditScore\",\"Customer.AnnualIncome\"],\"automargin\":true,\"dtick\":1},\"legend\":{\"title\":{\"text\":\"Predictor category\"},\"tracegroupgap\":0},\"title\":{\"text\":\"Predictor Performance over all models \"},\"boxmode\":\"group\",\"boxgap\":0,\"boxgroupgap\":0},                        {\"responsive\": true}                    ).then(function(){\n",
       "                            \n",
       "var gd = document.getElementById('a218cfbf-c343-4235-a8f9-1d211f75b3da');\n",
       "var x = new MutationObserver(function (mutations, observer) {{\n",
       "        var display = window.getComputedStyle(gd).display;\n",
       "        if (!display || display === 'none') {{\n",
       "            console.log([gd, 'removed!']);\n",
       "            Plotly.purge(gd);\n",
       "            observer.disconnect();\n",
       "        }}\n",
       "}});\n",
       "\n",
       "// Listen for the removal of the full notebook cells\n",
       "var notebookContainer = gd.closest('#notebook-container');\n",
       "if (notebookContainer) {{\n",
       "    x.observe(notebookContainer, {childList: true});\n",
       "}}\n",
       "\n",
       "// Listen for the clearing of the current output cell\n",
       "var outputEl = gd.closest('.output');\n",
       "if (outputEl) {{\n",
       "    x.observe(outputEl, {childList: true});\n",
       "}}\n",
       "\n",
       "                        })                };                });            </script>        </div>"
      ]
     },
     "metadata": {},
     "output_type": "display_data"
    }
   ],
   "source": [
    "ADMDatamart.plotPredictorPerformance(top_n=30)"
   ]
  },
  {
   "cell_type": "markdown",
   "metadata": {},
   "source": [
    "## Next steps\n",
    "\n",
    "For more examples and sample code please see the [pdstools Wiki](https://github.com/pegasystems/pega-datascientist-tools/wiki) and the documentation."
   ]
  }
 ],
 "metadata": {
  "interpreter": {
   "hash": "0c5c31b7614ab5f7bbff6555bdc6f3ec4cea8754d51936ee45052251e94c1071"
  },
  "kernelspec": {
   "display_name": "Python 3",
   "language": "python",
   "name": "python3"
  },
  "language_info": {
   "codemirror_mode": {
    "name": "ipython",
    "version": 3
   },
   "file_extension": ".py",
   "mimetype": "text/x-python",
   "name": "python",
   "nbconvert_exporter": "python",
   "pygments_lexer": "ipython3",
   "version": "3.11.3"
  }
 },
 "nbformat": 4,
 "nbformat_minor": 2
}
