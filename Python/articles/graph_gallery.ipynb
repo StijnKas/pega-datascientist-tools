{
 "cells": [
  {
   "cell_type": "markdown",
   "metadata": {
    "nbsphinx": "hidden"
   },
   "source": [
    "## Link to article\n",
    "\n",
    "This notebook is included in the documentation, where the interactive Plotly charts show up. See:\n",
    "https://pegasystems.github.io/pega-datascientist-tools/Python/articles/graph_gallery.html"
   ]
  },
  {
   "cell_type": "markdown",
   "metadata": {},
   "source": [
    "# Graph Gallery"
   ]
  },
  {
   "cell_type": "code",
   "execution_count": 1,
   "metadata": {
    "execution": {
     "iopub.execute_input": "2023-12-08T09:58:16.902639Z",
     "iopub.status.busy": "2023-12-08T09:58:16.902153Z",
     "iopub.status.idle": "2023-12-08T09:58:16.971173Z",
     "shell.execute_reply": "2023-12-08T09:58:16.970632Z"
    },
    "nbsphinx": "hidden"
   },
   "outputs": [],
   "source": [
    "# These lines are only for rendering in the docs, and are hidden through Jupyter tags\n",
    "# Do not run if you're running the notebook seperately\n",
    "import plotly.io as pio\n",
    "\n",
    "pio.renderers.default = \"notebook_connected\"\n",
    "\n",
    "import sys\n",
    "\n",
    "sys.path.append(\"../../../\")\n"
   ]
  },
  {
   "cell_type": "code",
   "execution_count": 2,
   "metadata": {
    "execution": {
     "iopub.execute_input": "2023-12-08T09:58:16.973662Z",
     "iopub.status.busy": "2023-12-08T09:58:16.973321Z",
     "iopub.status.idle": "2023-12-08T09:58:18.860399Z",
     "shell.execute_reply": "2023-12-08T09:58:18.859863Z"
    }
   },
   "outputs": [],
   "source": [
    "import polars as pl\n",
    "from pdstools import datasets\n",
    "\n",
    "data = datasets.CDHSample()\n"
   ]
  },
  {
   "cell_type": "markdown",
   "metadata": {},
   "source": [
    "## Models By Positives"
   ]
  },
  {
   "cell_type": "code",
   "execution_count": 3,
   "metadata": {
    "execution": {
     "iopub.execute_input": "2023-12-08T09:58:18.862972Z",
     "iopub.status.busy": "2023-12-08T09:58:18.862690Z",
     "iopub.status.idle": "2023-12-08T09:58:18.930184Z",
     "shell.execute_reply": "2023-12-08T09:58:18.929681Z"
    }
   },
   "outputs": [
    {
     "data": {
      "text/html": [
       "        <script type=\"text/javascript\">\n",
       "        window.PlotlyConfig = {MathJaxConfig: 'local'};\n",
       "        if (window.MathJax && window.MathJax.Hub && window.MathJax.Hub.Config) {window.MathJax.Hub.Config({SVG: {font: \"STIX-Web\"}});}\n",
       "        if (typeof require !== 'undefined') {\n",
       "        require.undef(\"plotly\");\n",
       "        requirejs.config({\n",
       "            paths: {\n",
       "                'plotly': ['https://cdn.plot.ly/plotly-2.27.0.min']\n",
       "            }\n",
       "        });\n",
       "        require(['plotly'], function(Plotly) {\n",
       "            window._Plotly = Plotly;\n",
       "        });\n",
       "        }\n",
       "        </script>\n",
       "        "
      ]
     },
     "metadata": {},
     "output_type": "display_data"
    },
    {
     "data": {
      "text/html": [
       "<div>                            <div id=\"86f6f5d5-ec71-4f7a-b44b-ccee5ba738cf\" class=\"plotly-graph-div\" style=\"height:525px; width:100%;\"></div>            <script type=\"text/javascript\">                require([\"plotly\"], function(Plotly) {                    window.PLOTLYENV=window.PLOTLYENV || {};                                    if (document.getElementById(\"86f6f5d5-ec71-4f7a-b44b-ccee5ba738cf\")) {                    Plotly.newPlot(                        \"86f6f5d5-ec71-4f7a-b44b-ccee5ba738cf\",                        [{\"hovertemplate\":\"Channel=Email\\u003cbr\\u003ePositives=%{x}\\u003cbr\\u003ePercentage of Models=%{y}\\u003cextra\\u003e\\u003c\\u002fextra\\u003e\",\"legendgroup\":\"Email\",\"line\":{\"color\":\"#001F5F\",\"dash\":\"solid\"},\"marker\":{\"symbol\":\"circle\"},\"mode\":\"lines+markers\",\"name\":\"Email\",\"orientation\":\"v\",\"showlegend\":true,\"x\":[\"(0, 10]\",\"(10, 20]\",\"(20, 30]\",\"(30, 40]\",\"(50, 60]\",\"(60, 70]\",\"(80, 90]\",\"(140, 150]\",\"(200, inf]\"],\"xaxis\":\"x\",\"y\":[0.22727272727272727,0.22727272727272727,0.09090909090909091,0.045454545454545456,0.13636363636363635,0.045454545454545456,0.045454545454545456,0.09090909090909091,0.09090909090909091],\"yaxis\":\"y\",\"type\":\"scatter\"},{\"hovertemplate\":\"Channel=SMS\\u003cbr\\u003ePositives=%{x}\\u003cbr\\u003ePercentage of Models=%{y}\\u003cextra\\u003e\\u003c\\u002fextra\\u003e\",\"legendgroup\":\"SMS\",\"line\":{\"color\":\"#10A5AC\",\"dash\":\"solid\"},\"marker\":{\"symbol\":\"circle\"},\"mode\":\"lines+markers\",\"name\":\"SMS\",\"orientation\":\"v\",\"showlegend\":true,\"x\":[\"(0, 10]\",\"(20, 30]\",\"(30, 40]\",\"(40, 50]\",\"(50, 60]\",\"(70, 80]\",\"(100, 110]\",\"(110, 120]\",\"(130, 140]\",\"(140, 150]\",\"(160, 170]\",\"(180, 190]\",\"(190, 200]\",\"(200, inf]\"],\"xaxis\":\"x\",\"y\":[0.07407407407407407,0.037037037037037035,0.07407407407407407,0.1111111111111111,0.07407407407407407,0.037037037037037035,0.037037037037037035,0.037037037037037035,0.037037037037037035,0.037037037037037035,0.07407407407407407,0.037037037037037035,0.037037037037037035,0.2962962962962963],\"yaxis\":\"y\",\"type\":\"scatter\"},{\"hovertemplate\":\"Channel=Web\\u003cbr\\u003ePositives=%{x}\\u003cbr\\u003ePercentage of Models=%{y}\\u003cextra\\u003e\\u003c\\u002fextra\\u003e\",\"legendgroup\":\"Web\",\"line\":{\"color\":\"#F76923\",\"dash\":\"solid\"},\"marker\":{\"symbol\":\"circle\"},\"mode\":\"lines+markers\",\"name\":\"Web\",\"orientation\":\"v\",\"showlegend\":true,\"x\":[\"(10, 20]\",\"(40, 50]\",\"(70, 80]\",\"(100, 110]\",\"(110, 120]\",\"(130, 140]\",\"(170, 180]\",\"(200, inf]\"],\"xaxis\":\"x\",\"y\":[0.15789473684210525,0.05263157894736842,0.05263157894736842,0.10526315789473684,0.05263157894736842,0.05263157894736842,0.10526315789473684,0.42105263157894735],\"yaxis\":\"y\",\"type\":\"scatter\"}],                        {\"template\":{\"layout\":{\"colorway\":[\"#001F5F\",\"#10A5AC\",\"#F76923\",\"#661D34\",\"#86CAC6\",\"#005154\",\"#86CAC6\",\"#5F67B9\",\"#FFC836\",\"#E63690\",\"#AC1361\",\"#63666F\",\"#A7A9B4\",\"#D0D1DB\"],\"hovermode\":\"closest\"}},\"xaxis\":{\"anchor\":\"y\",\"domain\":[0.0,1.0],\"title\":{\"text\":\"Positives\"},\"categoryorder\":\"array\",\"categoryarray\":[\"(0, 10]\",\"(10, 20]\",\"(20, 30]\",\"(30, 40]\",\"(40, 50]\",\"(50, 60]\",\"(60, 70]\",\"(70, 80]\",\"(80, 90]\",\"(100, 110]\",\"(110, 120]\",\"(130, 140]\",\"(140, 150]\",\"(160, 170]\",\"(170, 180]\",\"(180, 190]\",\"(190, 200]\",\"(200, inf]\"]},\"yaxis\":{\"anchor\":\"x\",\"domain\":[0.0,1.0],\"title\":{\"text\":\"Percentage of Models\"},\"tickformat\":\",.0%\"},\"legend\":{\"title\":{\"text\":\"Channel\"},\"tracegroupgap\":0},\"title\":{\"text\":\"Percentage of models vs number of positive responses \\u003cbr\\u003e\\u003csup\\u003eBy Channel\\u003c\\u002fsup\\u003e\"}},                        {\"responsive\": true}                    ).then(function(){\n",
       "                            \n",
       "var gd = document.getElementById('86f6f5d5-ec71-4f7a-b44b-ccee5ba738cf');\n",
       "var x = new MutationObserver(function (mutations, observer) {{\n",
       "        var display = window.getComputedStyle(gd).display;\n",
       "        if (!display || display === 'none') {{\n",
       "            console.log([gd, 'removed!']);\n",
       "            Plotly.purge(gd);\n",
       "            observer.disconnect();\n",
       "        }}\n",
       "}});\n",
       "\n",
       "// Listen for the removal of the full notebook cells\n",
       "var notebookContainer = gd.closest('#notebook-container');\n",
       "if (notebookContainer) {{\n",
       "    x.observe(notebookContainer, {childList: true});\n",
       "}}\n",
       "\n",
       "// Listen for the clearing of the current output cell\n",
       "var outputEl = gd.closest('.output');\n",
       "if (outputEl) {{\n",
       "    x.observe(outputEl, {childList: true});\n",
       "}}\n",
       "\n",
       "                        })                };                });            </script>        </div>"
      ]
     },
     "metadata": {},
     "output_type": "display_data"
    }
   ],
   "source": [
    "data.plotModelsByPositives()\n"
   ]
  },
  {
   "cell_type": "markdown",
   "metadata": {},
   "source": [
    "## Over Time"
   ]
  },
  {
   "cell_type": "code",
   "execution_count": 4,
   "metadata": {
    "execution": {
     "iopub.execute_input": "2023-12-08T09:58:18.932551Z",
     "iopub.status.busy": "2023-12-08T09:58:18.932071Z",
     "iopub.status.idle": "2023-12-08T09:58:19.003744Z",
     "shell.execute_reply": "2023-12-08T09:58:19.003139Z"
    }
   },
   "outputs": [
    {
     "data": {
      "text/html": [
       "<div>                            <div id=\"9176724a-28f3-43b4-8fb5-59e51aedb0e1\" class=\"plotly-graph-div\" style=\"height:525px; width:100%;\"></div>            <script type=\"text/javascript\">                require([\"plotly\"], function(Plotly) {                    window.PLOTLYENV=window.PLOTLYENV || {};                                    if (document.getElementById(\"9176724a-28f3-43b4-8fb5-59e51aedb0e1\")) {                    Plotly.newPlot(                        \"9176724a-28f3-43b4-8fb5-59e51aedb0e1\",                        [{\"customdata\":[[\"AutoNew36Months\"]],\"hovertemplate\":\"Name=%{customdata[0]:.d}\\u003cbr\\u003eSnapshotTime=%{x}\\u003cbr\\u003eweighted_performance=%{y:.4f}\\u003cextra\\u003e\\u003c\\u002fextra\\u003e\",\"legendgroup\":\"AutoNew36Months\",\"line\":{\"color\":\"#001F5F\",\"dash\":\"solid\"},\"marker\":{\"symbol\":\"circle\"},\"mode\":\"lines+markers\",\"name\":\"AutoNew36Months\",\"orientation\":\"v\",\"showlegend\":true,\"x\":[\"2021-06-01T00:00:00\"],\"xaxis\":\"x\",\"y\":[56.575561658170116],\"yaxis\":\"y\",\"type\":\"scatter\"},{\"customdata\":[[\"AutoNew84Months\"]],\"hovertemplate\":\"Name=%{customdata[0]:.d}\\u003cbr\\u003eSnapshotTime=%{x}\\u003cbr\\u003eweighted_performance=%{y:.4f}\\u003cextra\\u003e\\u003c\\u002fextra\\u003e\",\"legendgroup\":\"AutoNew84Months\",\"line\":{\"color\":\"#10A5AC\",\"dash\":\"solid\"},\"marker\":{\"symbol\":\"circle\"},\"mode\":\"lines+markers\",\"name\":\"AutoNew84Months\",\"orientation\":\"v\",\"showlegend\":true,\"x\":[\"2021-06-01T00:00:00\"],\"xaxis\":\"x\",\"y\":[72.49891951948052],\"yaxis\":\"y\",\"type\":\"scatter\"},{\"customdata\":[[\"AutoUsed36Months\"]],\"hovertemplate\":\"Name=%{customdata[0]:.d}\\u003cbr\\u003eSnapshotTime=%{x}\\u003cbr\\u003eweighted_performance=%{y:.4f}\\u003cextra\\u003e\\u003c\\u002fextra\\u003e\",\"legendgroup\":\"AutoUsed36Months\",\"line\":{\"color\":\"#F76923\",\"dash\":\"solid\"},\"marker\":{\"symbol\":\"circle\"},\"mode\":\"lines+markers\",\"name\":\"AutoUsed36Months\",\"orientation\":\"v\",\"showlegend\":true,\"x\":[\"2021-06-01T00:00:00\"],\"xaxis\":\"x\",\"y\":[56.02125684545938],\"yaxis\":\"y\",\"type\":\"scatter\"},{\"customdata\":[[\"FirstMortgage\"]],\"hovertemplate\":\"Name=%{customdata[0]:.d}\\u003cbr\\u003eSnapshotTime=%{x}\\u003cbr\\u003eweighted_performance=%{y:.4f}\\u003cextra\\u003e\\u003c\\u002fextra\\u003e\",\"legendgroup\":\"FirstMortgage\",\"line\":{\"color\":\"#661D34\",\"dash\":\"solid\"},\"marker\":{\"symbol\":\"circle\"},\"mode\":\"lines+markers\",\"name\":\"FirstMortgage\",\"orientation\":\"v\",\"showlegend\":true,\"x\":[\"2021-06-01T00:00:00\"],\"xaxis\":\"x\",\"y\":[63.34021106176194],\"yaxis\":\"y\",\"type\":\"scatter\"},{\"customdata\":[[\"FirstMortgageFiveOneARM\"]],\"hovertemplate\":\"Name=%{customdata[0]:.d}\\u003cbr\\u003eSnapshotTime=%{x}\\u003cbr\\u003eweighted_performance=%{y:.4f}\\u003cextra\\u003e\\u003c\\u002fextra\\u003e\",\"legendgroup\":\"FirstMortgageFiveOneARM\",\"line\":{\"color\":\"#86CAC6\",\"dash\":\"solid\"},\"marker\":{\"symbol\":\"circle\"},\"mode\":\"lines+markers\",\"name\":\"FirstMortgageFiveOneARM\",\"orientation\":\"v\",\"showlegend\":true,\"x\":[\"2021-06-01T00:00:00\"],\"xaxis\":\"x\",\"y\":[53.82122628175519],\"yaxis\":\"y\",\"type\":\"scatter\"},{\"customdata\":[[\"FirstMortgageFloat\"]],\"hovertemplate\":\"Name=%{customdata[0]:.d}\\u003cbr\\u003eSnapshotTime=%{x}\\u003cbr\\u003eweighted_performance=%{y:.4f}\\u003cextra\\u003e\\u003c\\u002fextra\\u003e\",\"legendgroup\":\"FirstMortgageFloat\",\"line\":{\"color\":\"#005154\",\"dash\":\"solid\"},\"marker\":{\"symbol\":\"circle\"},\"mode\":\"lines+markers\",\"name\":\"FirstMortgageFloat\",\"orientation\":\"v\",\"showlegend\":true,\"x\":[\"2021-06-01T00:00:00\"],\"xaxis\":\"x\",\"y\":[59.02094234592447],\"yaxis\":\"y\",\"type\":\"scatter\"},{\"customdata\":[[\"HomeOwners\"]],\"hovertemplate\":\"Name=%{customdata[0]:.d}\\u003cbr\\u003eSnapshotTime=%{x}\\u003cbr\\u003eweighted_performance=%{y:.4f}\\u003cextra\\u003e\\u003c\\u002fextra\\u003e\",\"legendgroup\":\"HomeOwners\",\"line\":{\"color\":\"#86CAC6\",\"dash\":\"solid\"},\"marker\":{\"symbol\":\"circle\"},\"mode\":\"lines+markers\",\"name\":\"HomeOwners\",\"orientation\":\"v\",\"showlegend\":true,\"x\":[\"2021-06-01T00:00:00\"],\"xaxis\":\"x\",\"y\":[71.57897451149923],\"yaxis\":\"y\",\"type\":\"scatter\"},{\"customdata\":[[\"IncreaseYourCreditLine\"]],\"hovertemplate\":\"Name=%{customdata[0]:.d}\\u003cbr\\u003eSnapshotTime=%{x}\\u003cbr\\u003eweighted_performance=%{y:.4f}\\u003cextra\\u003e\\u003c\\u002fextra\\u003e\",\"legendgroup\":\"IncreaseYourCreditLine\",\"line\":{\"color\":\"#5F67B9\",\"dash\":\"solid\"},\"marker\":{\"symbol\":\"circle\"},\"mode\":\"lines+markers\",\"name\":\"IncreaseYourCreditLine\",\"orientation\":\"v\",\"showlegend\":true,\"x\":[\"2021-06-01T00:00:00\"],\"xaxis\":\"x\",\"y\":[58.7052482123077],\"yaxis\":\"y\",\"type\":\"scatter\"},{\"customdata\":[[\"MasterCardGold\"]],\"hovertemplate\":\"Name=%{customdata[0]:.d}\\u003cbr\\u003eSnapshotTime=%{x}\\u003cbr\\u003eweighted_performance=%{y:.4f}\\u003cextra\\u003e\\u003c\\u002fextra\\u003e\",\"legendgroup\":\"MasterCardGold\",\"line\":{\"color\":\"#FFC836\",\"dash\":\"solid\"},\"marker\":{\"symbol\":\"circle\"},\"mode\":\"lines+markers\",\"name\":\"MasterCardGold\",\"orientation\":\"v\",\"showlegend\":true,\"x\":[\"2021-06-01T00:00:00\"],\"xaxis\":\"x\",\"y\":[56.4042011033821],\"yaxis\":\"y\",\"type\":\"scatter\"},{\"customdata\":[[\"MoneyMarketSavingsAccount\"]],\"hovertemplate\":\"Name=%{customdata[0]:.d}\\u003cbr\\u003eSnapshotTime=%{x}\\u003cbr\\u003eweighted_performance=%{y:.4f}\\u003cextra\\u003e\\u003c\\u002fextra\\u003e\",\"legendgroup\":\"MoneyMarketSavingsAccount\",\"line\":{\"color\":\"#E63690\",\"dash\":\"solid\"},\"marker\":{\"symbol\":\"circle\"},\"mode\":\"lines+markers\",\"name\":\"MoneyMarketSavingsAccount\",\"orientation\":\"v\",\"showlegend\":true,\"x\":[\"2021-06-01T00:00:00\"],\"xaxis\":\"x\",\"y\":[50.0],\"yaxis\":\"y\",\"type\":\"scatter\"},{\"customdata\":[[\"PaymentProtection\"]],\"hovertemplate\":\"Name=%{customdata[0]:.d}\\u003cbr\\u003eSnapshotTime=%{x}\\u003cbr\\u003eweighted_performance=%{y:.4f}\\u003cextra\\u003e\\u003c\\u002fextra\\u003e\",\"legendgroup\":\"PaymentProtection\",\"line\":{\"color\":\"#AC1361\",\"dash\":\"solid\"},\"marker\":{\"symbol\":\"circle\"},\"mode\":\"lines+markers\",\"name\":\"PaymentProtection\",\"orientation\":\"v\",\"showlegend\":true,\"x\":[\"2021-06-01T00:00:00\"],\"xaxis\":\"x\",\"y\":[55.92534992215145],\"yaxis\":\"y\",\"type\":\"scatter\"},{\"customdata\":[[\"PlatinumRewardsCard\"]],\"hovertemplate\":\"Name=%{customdata[0]:.d}\\u003cbr\\u003eSnapshotTime=%{x}\\u003cbr\\u003eweighted_performance=%{y:.4f}\\u003cextra\\u003e\\u003c\\u002fextra\\u003e\",\"legendgroup\":\"PlatinumRewardsCard\",\"line\":{\"color\":\"#63666F\",\"dash\":\"solid\"},\"marker\":{\"symbol\":\"circle\"},\"mode\":\"lines+markers\",\"name\":\"PlatinumRewardsCard\",\"orientation\":\"v\",\"showlegend\":true,\"x\":[\"2021-06-01T00:00:00\"],\"xaxis\":\"x\",\"y\":[59.15322127859606],\"yaxis\":\"y\",\"type\":\"scatter\"},{\"customdata\":[[\"PremierChecking\"]],\"hovertemplate\":\"Name=%{customdata[0]:.d}\\u003cbr\\u003eSnapshotTime=%{x}\\u003cbr\\u003eweighted_performance=%{y:.4f}\\u003cextra\\u003e\\u003c\\u002fextra\\u003e\",\"legendgroup\":\"PremierChecking\",\"line\":{\"color\":\"#A7A9B4\",\"dash\":\"solid\"},\"marker\":{\"symbol\":\"circle\"},\"mode\":\"lines+markers\",\"name\":\"PremierChecking\",\"orientation\":\"v\",\"showlegend\":true,\"x\":[\"2021-06-01T00:00:00\"],\"xaxis\":\"x\",\"y\":[53.13052330749354],\"yaxis\":\"y\",\"type\":\"scatter\"},{\"customdata\":[[\"PremiumBanking\"]],\"hovertemplate\":\"Name=%{customdata[0]:.d}\\u003cbr\\u003eSnapshotTime=%{x}\\u003cbr\\u003eweighted_performance=%{y:.4f}\\u003cextra\\u003e\\u003c\\u002fextra\\u003e\",\"legendgroup\":\"PremiumBanking\",\"line\":{\"color\":\"#D0D1DB\",\"dash\":\"solid\"},\"marker\":{\"symbol\":\"circle\"},\"mode\":\"lines+markers\",\"name\":\"PremiumBanking\",\"orientation\":\"v\",\"showlegend\":true,\"x\":[\"2021-06-01T00:00:00\"],\"xaxis\":\"x\",\"y\":[62.19324250964971],\"yaxis\":\"y\",\"type\":\"scatter\"},{\"customdata\":[[\"SeniorChecking\"]],\"hovertemplate\":\"Name=%{customdata[0]:.d}\\u003cbr\\u003eSnapshotTime=%{x}\\u003cbr\\u003eweighted_performance=%{y:.4f}\\u003cextra\\u003e\\u003c\\u002fextra\\u003e\",\"legendgroup\":\"SeniorChecking\",\"line\":{\"color\":\"#001F5F\",\"dash\":\"solid\"},\"marker\":{\"symbol\":\"circle\"},\"mode\":\"lines+markers\",\"name\":\"SeniorChecking\",\"orientation\":\"v\",\"showlegend\":true,\"x\":[\"2021-06-01T00:00:00\"],\"xaxis\":\"x\",\"y\":[53.70358239891827],\"yaxis\":\"y\",\"type\":\"scatter\"},{\"customdata\":[[\"Services_ChannelAction_Template\"]],\"hovertemplate\":\"Name=%{customdata[0]:.d}\\u003cbr\\u003eSnapshotTime=%{x}\\u003cbr\\u003eweighted_performance=%{y:.4f}\\u003cextra\\u003e\\u003c\\u002fextra\\u003e\",\"legendgroup\":\"Services_ChannelAction_Template\",\"line\":{\"color\":\"#10A5AC\",\"dash\":\"solid\"},\"marker\":{\"symbol\":\"circle\"},\"mode\":\"lines+markers\",\"name\":\"Services_ChannelAction_Template\",\"orientation\":\"v\",\"showlegend\":true,\"x\":[\"2021-06-01T00:00:00\"],\"xaxis\":\"x\",\"y\":[64.87774700213575],\"yaxis\":\"y\",\"type\":\"scatter\"},{\"customdata\":[[\"SuperSaver\"]],\"hovertemplate\":\"Name=%{customdata[0]:.d}\\u003cbr\\u003eSnapshotTime=%{x}\\u003cbr\\u003eweighted_performance=%{y:.4f}\\u003cextra\\u003e\\u003c\\u002fextra\\u003e\",\"legendgroup\":\"SuperSaver\",\"line\":{\"color\":\"#F76923\",\"dash\":\"solid\"},\"marker\":{\"symbol\":\"circle\"},\"mode\":\"lines+markers\",\"name\":\"SuperSaver\",\"orientation\":\"v\",\"showlegend\":true,\"x\":[\"2021-06-01T00:00:00\"],\"xaxis\":\"x\",\"y\":[69.42290362709396],\"yaxis\":\"y\",\"type\":\"scatter\"},{\"customdata\":[[\"UPlusFinGold\"]],\"hovertemplate\":\"Name=%{customdata[0]:.d}\\u003cbr\\u003eSnapshotTime=%{x}\\u003cbr\\u003eweighted_performance=%{y:.4f}\\u003cextra\\u003e\\u003c\\u002fextra\\u003e\",\"legendgroup\":\"UPlusFinGold\",\"line\":{\"color\":\"#661D34\",\"dash\":\"solid\"},\"marker\":{\"symbol\":\"circle\"},\"mode\":\"lines+markers\",\"name\":\"UPlusFinGold\",\"orientation\":\"v\",\"showlegend\":true,\"x\":[\"2021-06-01T00:00:00\"],\"xaxis\":\"x\",\"y\":[68.06227184001739],\"yaxis\":\"y\",\"type\":\"scatter\"},{\"customdata\":[[\"VisaGold\"]],\"hovertemplate\":\"Name=%{customdata[0]:.d}\\u003cbr\\u003eSnapshotTime=%{x}\\u003cbr\\u003eweighted_performance=%{y:.4f}\\u003cextra\\u003e\\u003c\\u002fextra\\u003e\",\"legendgroup\":\"VisaGold\",\"line\":{\"color\":\"#86CAC6\",\"dash\":\"solid\"},\"marker\":{\"symbol\":\"circle\"},\"mode\":\"lines+markers\",\"name\":\"VisaGold\",\"orientation\":\"v\",\"showlegend\":true,\"x\":[\"2021-06-01T00:00:00\"],\"xaxis\":\"x\",\"y\":[53.59593556998558],\"yaxis\":\"y\",\"type\":\"scatter\"}],                        {\"template\":{\"layout\":{\"colorway\":[\"#001F5F\",\"#10A5AC\",\"#F76923\",\"#661D34\",\"#86CAC6\",\"#005154\",\"#86CAC6\",\"#5F67B9\",\"#FFC836\",\"#E63690\",\"#AC1361\",\"#63666F\",\"#A7A9B4\",\"#D0D1DB\"],\"hovermode\":\"closest\"}},\"xaxis\":{\"anchor\":\"y\",\"domain\":[0.0,1.0],\"title\":{\"text\":\"SnapshotTime\"}},\"yaxis\":{\"anchor\":\"x\",\"domain\":[0.0,1.0],\"title\":{\"text\":\"weighted_performance\"}},\"legend\":{\"title\":{\"text\":\"Name\"},\"tracegroupgap\":0},\"title\":{\"text\":\"weighted_performance over time, per Name over all models \\u003cbr\\u003e\\u003csup\\u003eQuery: [(col(\\\"Channel\\\")) == (Utf8(Web))]\\u003c\\u002fsup\\u003e\"}},                        {\"responsive\": true}                    ).then(function(){\n",
       "                            \n",
       "var gd = document.getElementById('9176724a-28f3-43b4-8fb5-59e51aedb0e1');\n",
       "var x = new MutationObserver(function (mutations, observer) {{\n",
       "        var display = window.getComputedStyle(gd).display;\n",
       "        if (!display || display === 'none') {{\n",
       "            console.log([gd, 'removed!']);\n",
       "            Plotly.purge(gd);\n",
       "            observer.disconnect();\n",
       "        }}\n",
       "}});\n",
       "\n",
       "// Listen for the removal of the full notebook cells\n",
       "var notebookContainer = gd.closest('#notebook-container');\n",
       "if (notebookContainer) {{\n",
       "    x.observe(notebookContainer, {childList: true});\n",
       "}}\n",
       "\n",
       "// Listen for the clearing of the current output cell\n",
       "var outputEl = gd.closest('.output');\n",
       "if (outputEl) {{\n",
       "    x.observe(outputEl, {childList: true});\n",
       "}}\n",
       "\n",
       "                        })                };                });            </script>        </div>"
      ]
     },
     "metadata": {},
     "output_type": "display_data"
    }
   ],
   "source": [
    "data.plotOverTime(query=pl.col(\"Channel\") == \"Web\", by=\"Name\")\n"
   ]
  },
  {
   "cell_type": "markdown",
   "metadata": {},
   "source": [
    "## Performance Success Rate Bubble Chart"
   ]
  },
  {
   "cell_type": "code",
   "execution_count": 5,
   "metadata": {
    "execution": {
     "iopub.execute_input": "2023-12-08T09:58:19.006240Z",
     "iopub.status.busy": "2023-12-08T09:58:19.005895Z",
     "iopub.status.idle": "2023-12-08T09:58:19.041013Z",
     "shell.execute_reply": "2023-12-08T09:58:19.040387Z"
    }
   },
   "outputs": [
    {
     "data": {
      "text/html": [
       "<div>                            <div id=\"4a668a5c-7b5a-4826-9a61-6a5f2a21ecd8\" class=\"plotly-graph-div\" style=\"height:525px; width:100%;\"></div>            <script type=\"text/javascript\">                require([\"plotly\"], function(Plotly) {                    window.PLOTLYENV=window.PLOTLYENV || {};                                    if (document.getElementById(\"4a668a5c-7b5a-4826-9a61-6a5f2a21ecd8\")) {                    Plotly.newPlot(                        \"4a668a5c-7b5a-4826-9a61-6a5f2a21ecd8\",                        [{\"customdata\":[[\"f3afaa9b-d0d5-5be9-a3b9-9fdfc4847411\",\"Email\",\"Outbound\",\"Sales\",\"AutoLoans\"],[\"e4ea7a89-c394-5014-ac26-34b8eee475bd\",\"SMS\",\"Outbound\",\"Sales\",\"CreditCards\"],[\"1289c4af-1d3f-5265-9fe5-173e1ddaadc3\",\"SMS\",\"Outbound\",\"Sales\",\"HomeLoans\"],[\"3c892256-f415-5408-905d-3158345b10bf\",\"Email\",\"Outbound\",\"Sales\",\"Bundles\"],[\"a87d51fb-cfdc-598d-b84a-dcdd64e1e750\",\"Web\",\"Inbound\",\"Sales\",\"HomeLoans\"],[\"cc9b9b1b-c2f9-5e8c-a54a-f13e0559ebd6\",\"Email\",\"Outbound\",\"Sales\",\"CreditCards\"],[\"9e9e8c2e-6d19-538c-8e7b-a73070717ecf\",\"Web\",\"Inbound\",\"Sales\",\"CreditCards\"],[\"ea0a225a-7d09-5d90-88f6-d0e8380d67cc\",\"Web\",\"Inbound\",\"Sales\",\"DepositAccounts\"],[\"b27d8eb5-7ff6-5706-ae90-6d61ce695f78\",\"SMS\",\"Outbound\",\"Sales\",\"Bundles\"],[\"84107ad6-c998-5377-b0d0-e02be2a8d768\",\"Email\",\"Outbound\",\"Sales\",\"AutoLoans\"],[\"5ca51e1e-49f0-58d2-8ab7-4a0ccbb326fd\",\"SMS\",\"Outbound\",\"Sales\",\"DepositAccounts\"],[\"b216413c-8c2e-5e1b-860b-07dfc69efa69\",\"SMS\",\"Outbound\",\"Sales\",\"AutoLoans\"],[\"c8a529fb-9d2c-5069-a50f-42ee1ea9341a\",\"Web\",\"Inbound\",\"Services\",\"Account\"],[\"f9fc995f-3f02-5e9e-8e22-b72909054f3a\",\"SMS\",\"Outbound\",\"Sales\",\"AutoLoans\"],[\"59f06605-5b39-57dd-945b-637a72fa9085\",\"Web\",\"Inbound\",\"Sales\",\"CreditCards\"],[\"7ffc8c26-8473-5c8e-bcc3-48e5b162da7a\",\"SMS\",\"Outbound\",\"Sales\",\"CreditCards\"],[\"692f453a-f825-5a90-ab40-f83cbb34b058\",\"Web\",\"Inbound\",\"Sales\",\"HomeLoans\"],[\"b5338016-1fee-5745-80ee-7bd6d51f2920\",\"Email\",\"Outbound\",\"Sales\",\"CreditCards\"],[\"26dda9e0-34a2-5e0a-8ee2-fd0c39de729e\",\"SMS\",\"Outbound\",\"Sales\",\"CreditCards\"],[\"24f11deb-a6fa-59bf-b5f7-c61abffc9482\",\"Email\",\"Outbound\",\"Sales\",\"AutoLoans\"],[\"cb67c091-5a81-56f4-9845-71afa9c8076e\",\"Email\",\"Outbound\",\"Sales\",\"HomeLoans\"],[\"95ae0f10-297a-5c01-94d8-914bb89df969\",\"Web\",\"Inbound\",\"Sales\",\"DepositAccounts\"],[\"c3f445b2-6037-5560-9f16-71a7259d2c2c\",\"SMS\",\"Outbound\",\"Sales\",\"HomeLoans\"],[\"a8cde9d1-c720-537c-8fb8-8c59506bddfe\",\"Web\",\"Inbound\",\"Sales\",\"CreditCards\"],[\"34f7d1b9-92f7-57dc-ab62-0de35dda0221\",\"SMS\",\"Outbound\",\"Services\",\"Account\"],[\"69a8e56f-6327-5a66-a9a3-9b0c106641ec\",\"SMS\",\"Outbound\",\"Sales\",\"AutoLoans\"],[\"8e40882a-aacf-5f03-9be8-f833c7932da2\",\"Web\",\"Inbound\",\"Sales\",\"Bundles\"],[\"4efdb97d-288d-518f-a3e0-8314bbd7f2a3\",\"SMS\",\"Outbound\",\"Sales\",\"CreditCards\"],[\"470485f7-3b20-58f7-a3aa-1f12c2bb99b7\",\"Email\",\"Outbound\",\"Sales\",\"HomeLoans\"],[\"79e3f70f-dc6a-5bea-8006-02a6e91ad256\",\"Email\",\"Outbound\",\"Sales\",\"DepositAccounts\"],[\"98aeb30c-d896-51bd-b421-a650f0522335\",\"SMS\",\"Outbound\",\"Sales\",\"CreditCards\"],[\"08ca1302-9fc0-57bf-9031-d4179d400493\",\"Web\",\"Inbound\",\"Sales\",\"Bundles\"],[\"68e1d164-81e3-5da0-816c-0bbc3c20ac6c\",\"Web\",\"Inbound\",\"Sales\",\"AutoLoans\"],[\"c4cd4c00-87bf-562e-9ab8-20af64a81757\",\"Email\",\"Outbound\",\"Sales\",\"DepositAccounts\"],[\"c29ffcfa-5210-5998-a826-f3a8db57c610\",\"Web\",\"Inbound\",\"Sales\",\"CreditCards\"],[\"a8cd5e12-5d10-5b62-95f6-c5bb6344a83a\",\"Web\",\"Inbound\",\"Sales\",\"DepositAccounts\"],[\"708be173-0f46-55ee-add6-6fdca447a70a\",\"SMS\",\"Outbound\",\"Sales\",\"HomeLoans\"],[\"cffb1b5d-219e-5137-9036-4e2136be6a8f\",\"Email\",\"Outbound\",\"Sales\",\"DepositAccounts\"],[\"0b363d7f-68f8-5e9e-a843-40ca8849e05b\",\"Email\",\"Outbound\",\"Sales\",\"HomeLoans\"],[\"277a2c48-8888-5b71-911e-443d52c9b50f\",\"SMS\",\"Outbound\",\"Sales\",\"Bundles\"],[\"ab4592bc-df16-5372-86e7-0caea36ac877\",\"Email\",\"Outbound\",\"Sales\",\"CreditCards\"],[\"a75db3a2-fecc-5cc8-b75f-0a44447f9cca\",\"SMS\",\"Outbound\",\"Sales\",\"AutoLoans\"],[\"602303a4-5243-523d-8964-473f3ea1200b\",\"SMS\",\"Outbound\",\"Sales\",\"CreditCards\"],[\"30cc2c18-5852-581a-abaa-555bf46a3b9c\",\"Email\",\"Outbound\",\"Services\",\"Account\"],[\"320c4d01-43a5-510e-8fa8-1fc1bb4216da\",\"Email\",\"Outbound\",\"Sales\",\"Bundles\"],[\"0469930e-8d83-5c81-ba28-a8ec488f8e4d\",\"SMS\",\"Outbound\",\"Sales\",\"DepositAccounts\"],[\"d6e132b6-ad92-5ece-8db5-b42d9d151f73\",\"SMS\",\"Outbound\",\"Sales\",\"Bundles\"],[\"0ad9da35-f171-5ab9-973f-1cc4b89b4e8f\",\"Web\",\"Inbound\",\"Sales\",\"Bundles\"],[\"bd70a915-697a-5d43-ab2c-53b0557c85a0\",\"Email\",\"Outbound\",\"Sales\",\"AutoLoans\"],[\"d5e2f4b1-249a-58c0-8a2f-2d314eada5fe\",\"SMS\",\"Outbound\",\"Sales\",\"AutoLoans\"],[\"708f20ef-7ca1-58f4-9dfa-b7efb5342fcf\",\"Web\",\"Inbound\",\"Sales\",\"HomeLoans\"],[\"5cb8d642-390e-5c3e-8868-d34768f9535c\",\"Web\",\"Inbound\",\"Sales\",\"AutoLoans\"],[\"1be7cd72-741b-5d68-b148-c1af0142fd4a\",\"SMS\",\"Outbound\",\"Sales\",\"CreditCards\"],[\"838ca9ec-74ea-5a54-8c57-f45295116921\",\"SMS\",\"Outbound\",\"Services\",\"Account\"],[\"17571d69-f802-5122-9bfe-6f3f4ef9073b\",\"Web\",\"Inbound\",\"Sales\",\"CreditCards\"],[\"a63f2f06-1e31-5691-a6df-48916a066c23\",\"Email\",\"Outbound\",\"Sales\",\"DepositAccounts\"],[\"dd502275-e98b-51f7-8935-c30c84641871\",\"Web\",\"Inbound\",\"Services\",\"Account\"],[\"f38b5b50-b01b-5fd9-8120-7470320d6664\",\"SMS\",\"Outbound\",\"Sales\",\"DepositAccounts\"],[\"7d2046d5-be79-5f5a-a858-dcd9c65fd086\",\"Web\",\"Inbound\",\"Sales\",\"AutoLoans\"],[\"2c8e753a-9e85-5060-ac5b-073e79e755c0\",\"Email\",\"Outbound\",\"Sales\",\"CreditCards\"],[\"4954d7a5-b75e-5c71-89d6-e8340feb5022\",\"Email\",\"Outbound\",\"Sales\",\"DepositAccounts\"],[\"081d0acf-bfc3-5c0a-abc4-29106252efb8\",\"SMS\",\"Outbound\",\"Sales\",\"CreditCards\"],[\"aaf75ad6-c71a-5fd8-b2eb-782cdbd30337\",\"SMS\",\"Outbound\",\"Services\",\"Account\"],[\"bb02128b-d6df-52f3-9983-316f9fce47c7\",\"Email\",\"Outbound\",\"Sales\",\"CreditCards\"],[\"baae77a0-099a-5104-b7a9-b9b1a23290fc\",\"SMS\",\"Outbound\",\"Services\",\"Customer\"],[\"a7bb008a-0514-5d41-b014-3e0b1b308382\",\"SMS\",\"Outbound\",\"Sales\",\"DepositAccounts\"],[\"85d9dd89-93e5-55a0-b05f-e68bba9c97d1\",\"Email\",\"Outbound\",\"Sales\",\"CreditCards\"],[\"ebb6d905-7c43-5422-a813-f770feba7114\",\"Email\",\"Outbound\",\"Sales\",\"AutoLoans\"]],\"hovertemplate\":\"\\u003cb\\u003e%{hovertext}\\u003c\\u002fb\\u003e\\u003cbr\\u003e\\u003cbr\\u003ePerformance=%{marker.color}\\u003cbr\\u003eSuccessRate=%{y}\\u003cbr\\u003eResponseCount=%{marker.size}\\u003cbr\\u003eModelID=%{customdata[0]}\\u003cbr\\u003eChannel=%{customdata[1]}\\u003cbr\\u003eDirection=%{customdata[2]}\\u003cbr\\u003eIssue=%{customdata[3]}\\u003cbr\\u003eGroup=%{customdata[4]}\\u003cextra\\u003e\\u003c\\u002fextra\\u003e\",\"hovertext\":[\"AutoNew84Months\",\"PaymentProtection\",\"FirstMortgageFHA\",\"StudentChoice\",\"FirstMortgage\",\"IdentityTheftProtection\",\"MasterCardGold\",\"PremierChecking\",\"PremiumBanking\",\"AutoUsed60Months\",\"RegularSaving\",\"AutoUsed36Months\",\"IncreaseYourCreditLine\",\"AutoNew36Months\",\"PlatinumRewardsCard\",\"MasterCardWorld\",\"FirstMortgageFloat\",\"PaymentProtection\",\"ChannelAction_Template\",\"AutoUsed84Months\",\"FirstMortgageFHA\",\"MoneyMarketSavingsAccount\",\"FirstMortgage\",\"UPlusFinGold\",\"Services_ChannelAction_Template\",\"AutoNew48Months\",\"PremiumBanking\",\"MasterCardGold\",\"FirstMortgageFloat\",\"MoneyMarketSavingsAccount\",\"IdentityTheftProtection\",\"HomeOwners\",\"AutoNew84Months\",\"RegularSaving\",\"PaymentProtection\",\"SeniorChecking\",\"FirstMortgageFiveOneARM\",\"PremierChecking\",\"FirstMortgageFiveOneARM\",\"HomeOwners\",\"UPlusFinPersonal\",\"AutoUsed48Months\",\"UPlusFinPersonal\",\"Services_ChannelAction_Template\",\"PremiumBanking\",\"SeniorChecking\",\"SuperSaver\",\"SuperSaver\",\"AutoNew36Months\",\"AutoUsed84Months\",\"FirstMortgageFiveOneARM\",\"AutoUsed36Months\",\"VisaGold\",\"GoPaperless\",\"VisaGold\",\"BasicChecking\",\"Services_ChannelAction_Template\",\"MoneyMarketSavingsAccount\",\"AutoNew36Months\",\"UPlusFinGold\",\"SeniorChecking\",\"UPlusFinGold\",\"IncreaseYourCreditLine\",\"PlatinumRewardsCard\",\"MissingContactInformation\",\"PremierChecking\",\"MasterCardGold\",\"AutoNew48Months\"],\"legendgroup\":\"\",\"marker\":{\"color\":[64.2461,51.4945,52.7779,60.1887,64.7708,50.0,57.1711,52.4186,61.6472,65.3775,51.1978,54.2851,59.2788,60.5845,57.9772,55.1591,64.6733,52.5041,69.7884,50.0,67.6805,50.0,64.851,68.6745,71.0618,61.8246,65.264,50.0,50.0,50.0,53.0707,75.6002,77.4901,61.4512,58.1586,54.9147,65.202,52.1103,53.0007,77.3211,61.9665,69.3922,62.9893,62.9442,62.467,56.5227,61.812,75.7296,52.3734,62.2813,52.7198,57.8638,53.1863,71.2165,51.9586,51.0276,66.3954,51.3569,56.5041,53.496,54.9252,66.541,56.4527,50.0,62.2187,51.6802,50.0,58.0125],\"coloraxis\":\"coloraxis\",\"size\":[1184.0,722.0,477.0,5203.0,4076.0,808.0,835.0,4404.0,5052.0,1378.0,1221.0,1622.0,6471.0,5602.0,907.0,634.0,518.0,537.0,828.0,1243.0,362.0,1206.0,3946.0,3760.0,7287.0,5743.0,5176.0,1080.0,444.0,1096.0,855.0,4605.0,1636.0,1069.0,686.0,3024.0,482.0,3355.0,404.0,4976.0,3508.0,1447.0,3588.0,7415.0,5430.0,3424.0,1106.0,1267.0,5817.0,1347.0,449.0,1688.0,822.0,8174.0,778.0,3868.0,7073.0,1185.0,5499.0,3545.0,2883.0,3854.0,7668.0,989.0,7096.0,4658.0,875.0,5198.0],\"sizemode\":\"area\",\"sizeref\":20.435,\"symbol\":\"circle\",\"line\":{\"color\":\"black\"}},\"mode\":\"markers\",\"name\":\"\",\"orientation\":\"v\",\"showlegend\":false,\"x\":[64.2461,51.4945,52.7779,60.1887,64.7708,50.0,57.1711,52.4186,61.6472,65.3775,51.1978,54.2851,59.2788,60.5845,57.9772,55.1591,64.6733,52.5041,69.7884,50.0,67.6805,50.0,64.851,68.6745,71.0618,61.8246,65.264,50.0,50.0,50.0,53.0707,75.6002,77.4901,61.4512,58.1586,54.9147,65.202,52.1103,53.0007,77.3211,61.9665,69.3922,62.9893,62.9442,62.467,56.5227,61.812,75.7296,52.3734,62.2813,52.7198,57.8638,53.1863,71.2165,51.9586,51.0276,66.3954,51.3569,56.5041,53.496,54.9252,66.541,56.4527,50.0,62.2187,51.6802,50.0,58.0125],\"xaxis\":\"x\",\"y\":[0.056587837636470795,0.22437673807144165,0.10062892735004425,0.016913319006562233,0.22154071927070618,0.002475247485563159,0.021556885913014412,0.27770209312438965,0.020387964323163033,0.0391872264444828,0.06388206034898758,0.08754623681306839,0.04187915474176407,0.006426276173442602,0.01543550193309784,0.05678233504295349,0.025096524506807327,0.054003722965717316,0.06280193477869034,0.01045856811106205,0.03591160103678703,0.09121061116456985,0.1685250848531723,0.05930851027369499,0.03252367302775383,0.07191363722085953,0.019513137638568878,0.0027777778450399637,0.0045045046135783195,0.017335766926407814,0.011695906519889832,0.13224755227565765,0.12591686844825745,0.014031805098056793,0.25072887539863586,0.19014550745487213,0.10373444110155106,0.08703427761793137,0.024752475321292877,0.10771704465150833,0.015393386594951153,0.03524533659219742,0.05183946341276169,0.007282535545527935,0.00441988930106163,0.15829439461231232,0.12025316804647446,0.0883977934718132,0.002062919083982706,0.03711952641606331,0.1737193763256073,0.10248815268278122,0.03284671530127525,0.11059457063674927,0.05912596359848976,0.07290589809417725,0.05089778080582619,0.09957806020975113,0.024913620203733444,0.010719322599470615,0.05064169317483902,0.042812660336494446,0.026082420721650124,0.0020222447346895933,0.1894024759531021,0.2365822196006775,0.0057142856530845165,0.02751058153808117],\"yaxis\":\"y\",\"type\":\"scatter\"}],                        {\"template\":{\"layout\":{\"colorway\":[\"#001F5F\",\"#10A5AC\",\"#F76923\",\"#661D34\",\"#86CAC6\",\"#005154\",\"#86CAC6\",\"#5F67B9\",\"#FFC836\",\"#E63690\",\"#AC1361\",\"#63666F\",\"#A7A9B4\",\"#D0D1DB\"],\"hovermode\":\"closest\"}},\"xaxis\":{\"anchor\":\"y\",\"domain\":[0.0,1.0],\"title\":{\"text\":\"Performance\"}},\"yaxis\":{\"anchor\":\"x\",\"domain\":[0.0,1.0],\"title\":{\"text\":\"SuccessRate\"},\"tickformat\":\"%\"},\"coloraxis\":{\"colorbar\":{\"title\":{\"text\":\"Performance\"}},\"colorscale\":[[0.0,\"#440154\"],[0.1111111111111111,\"#482878\"],[0.2222222222222222,\"#3e4989\"],[0.3333333333333333,\"#31688e\"],[0.4444444444444444,\"#26828e\"],[0.5555555555555556,\"#1f9e89\"],[0.6666666666666666,\"#35b779\"],[0.7777777777777778,\"#6ece58\"],[0.8888888888888888,\"#b5de2b\"],[1.0,\"#fde725\"]]},\"legend\":{\"tracegroupgap\":0,\"itemsizing\":\"constant\"},\"title\":{\"text\":\"Bubble Chart over all models \\u003cbr\\u003e\\u003csup\\u003e68 models: 0 (0.0%) at (50,0)\\u003c\\u002fsup\\u003e\"}},                        {\"responsive\": true}                    ).then(function(){\n",
       "                            \n",
       "var gd = document.getElementById('4a668a5c-7b5a-4826-9a61-6a5f2a21ecd8');\n",
       "var x = new MutationObserver(function (mutations, observer) {{\n",
       "        var display = window.getComputedStyle(gd).display;\n",
       "        if (!display || display === 'none') {{\n",
       "            console.log([gd, 'removed!']);\n",
       "            Plotly.purge(gd);\n",
       "            observer.disconnect();\n",
       "        }}\n",
       "}});\n",
       "\n",
       "// Listen for the removal of the full notebook cells\n",
       "var notebookContainer = gd.closest('#notebook-container');\n",
       "if (notebookContainer) {{\n",
       "    x.observe(notebookContainer, {childList: true});\n",
       "}}\n",
       "\n",
       "// Listen for the clearing of the current output cell\n",
       "var outputEl = gd.closest('.output');\n",
       "if (outputEl) {{\n",
       "    x.observe(outputEl, {childList: true});\n",
       "}}\n",
       "\n",
       "                        })                };                });            </script>        </div>"
      ]
     },
     "metadata": {},
     "output_type": "display_data"
    }
   ],
   "source": [
    "data.plotPerformanceSuccessRateBubbleChart()\n"
   ]
  },
  {
   "cell_type": "markdown",
   "metadata": {},
   "source": [
    "## Predictor Binning"
   ]
  },
  {
   "cell_type": "code",
   "execution_count": 6,
   "metadata": {
    "execution": {
     "iopub.execute_input": "2023-12-08T09:58:19.043371Z",
     "iopub.status.busy": "2023-12-08T09:58:19.042977Z",
     "iopub.status.idle": "2023-12-08T09:58:19.101366Z",
     "shell.execute_reply": "2023-12-08T09:58:19.100867Z"
    }
   },
   "outputs": [
    {
     "data": {
      "text/html": [
       "<div>                            <div id=\"21586fe3-ede5-4d6a-a7bb-d78cf70dbcc0\" class=\"plotly-graph-div\" style=\"height:525px; width:100%;\"></div>            <script type=\"text/javascript\">                require([\"plotly\"], function(Plotly) {                    window.PLOTLYENV=window.PLOTLYENV || {};                                    if (document.getElementById(\"21586fe3-ede5-4d6a-a7bb-d78cf70dbcc0\")) {                    Plotly.newPlot(                        \"21586fe3-ede5-4d6a-a7bb-d78cf70dbcc0\",                        [{\"name\":\"Responses\",\"x\":[\"\\u003c27.12\",\"[27.12, 32.08\\u003e\",\"[32.08, 34.16\\u003e\",\"[34.16, 39.12\\u003e\",\"[39.12, 42.16\\u003e\",\"[42.16, 44.08\\u003e\",\"[44.08, 47.12\\u003e\",\"[47.12, 49.04\\u003e\",\"[49.04, 52.08\\u003e\",\"[52.08, 57.04\\u003e\",\"\\u003e=57.04\"],\"y\":[374.0,571.0,238.0,771.0,586.0,320.0,432.0,313.0,332.0,328.0,340.0],\"type\":\"bar\"},{\"mode\":\"lines+markers\",\"name\":\"Propensity\",\"x\":[\"\\u003c27.12\",\"[27.12, 32.08\\u003e\",\"[32.08, 34.16\\u003e\",\"[34.16, 39.12\\u003e\",\"[39.12, 42.16\\u003e\",\"[42.16, 44.08\\u003e\",\"[44.08, 47.12\\u003e\",\"[47.12, 49.04\\u003e\",\"[49.04, 52.08\\u003e\",\"[52.08, 57.04\\u003e\",\"\\u003e=57.04\"],\"y\":[0.19518716633319855,0.09982486814260483,0.06302521377801895,0.11284046620130539,0.13993173837661743,0.09375,0.1111111119389534,0.15015974640846252,0.21987952291965485,0.18292683362960815,0.10882353037595749],\"yaxis\":\"y2\",\"type\":\"scatter\"}],                        {\"template\":{\"data\":{\"scatter\":[{\"type\":\"scatter\"}]}},\"xaxis\":{\"anchor\":\"y\",\"domain\":[0.0,0.94],\"title\":{\"text\":\"Range\"},\"type\":\"category\"},\"yaxis\":{\"anchor\":\"x\",\"domain\":[0.0,1.0],\"title\":{\"text\":\"Responses\"},\"showgrid\":false},\"yaxis2\":{\"anchor\":\"x\",\"overlaying\":\"y\",\"side\":\"right\",\"title\":{\"text\":\"Propensity\"},\"tickformat\":\",.3%\",\"zeroline\":false,\"showgrid\":false},\"title\":{\"text\":\"Model name: ('HomeOwners',)\\u003cbr\\u003e\\u003csup\\u003eModel ID: 08ca1302-9fc0-57bf-9031-d4179d400493\\u003cbr\\u003ePredictor name: Customer.Age\\u003c\\u002fsup\\u003e\\u003cbr\\u003e\\u003csup\\u003eQuery: [([(col(\\\"ModelID\\\")) == (Utf8(08ca1302-9fc0-57bf-9031-d4179d400493))]) & (col(\\\"PredictorName\\\").is_in([Series]))]\\u003c\\u002fsup\\u003e\"}},                        {\"responsive\": true}                    ).then(function(){\n",
       "                            \n",
       "var gd = document.getElementById('21586fe3-ede5-4d6a-a7bb-d78cf70dbcc0');\n",
       "var x = new MutationObserver(function (mutations, observer) {{\n",
       "        var display = window.getComputedStyle(gd).display;\n",
       "        if (!display || display === 'none') {{\n",
       "            console.log([gd, 'removed!']);\n",
       "            Plotly.purge(gd);\n",
       "            observer.disconnect();\n",
       "        }}\n",
       "}});\n",
       "\n",
       "// Listen for the removal of the full notebook cells\n",
       "var notebookContainer = gd.closest('#notebook-container');\n",
       "if (notebookContainer) {{\n",
       "    x.observe(notebookContainer, {childList: true});\n",
       "}}\n",
       "\n",
       "// Listen for the clearing of the current output cell\n",
       "var outputEl = gd.closest('.output');\n",
       "if (outputEl) {{\n",
       "    x.observe(outputEl, {childList: true});\n",
       "}}\n",
       "\n",
       "                        })                };                });            </script>        </div>"
      ]
     },
     "metadata": {},
     "output_type": "display_data"
    },
    {
     "data": {
      "text/html": [
       "<div>                            <div id=\"8ce79aa9-9941-4ab3-a1ee-97deaf7efe9d\" class=\"plotly-graph-div\" style=\"height:525px; width:100%;\"></div>            <script type=\"text/javascript\">                require([\"plotly\"], function(Plotly) {                    window.PLOTLYENV=window.PLOTLYENV || {};                                    if (document.getElementById(\"8ce79aa9-9941-4ab3-a1ee-97deaf7efe9d\")) {                    Plotly.newPlot(                        \"8ce79aa9-9941-4ab3-a1ee-97deaf7efe9d\",                        [{\"name\":\"Responses\",\"x\":[\"\\u003c5322.5409\",\"[5322.5409, 11220.7809\\u003e\",\"[11220.7809, 14825.2609\\u003e\",\"[14825.2609, 20068.1409\\u003e\",\"[20068.1409, 25311.0209\\u003e\",\"[25311.0209, 33503.0209\\u003e\",\"[33503.0209, 38418.2209\\u003e\",\"[38418.2209, 49231.6609\\u003e\",\"[49231.6609, 58079.0209\\u003e\",\"\\u003e=58079.0209\"],\"y\":[348.0,515.0,370.0,393.0,507.0,623.0,268.0,511.0,284.0,786.0],\"type\":\"bar\"},{\"mode\":\"lines+markers\",\"name\":\"Propensity\",\"x\":[\"\\u003c5322.5409\",\"[5322.5409, 11220.7809\\u003e\",\"[11220.7809, 14825.2609\\u003e\",\"[14825.2609, 20068.1409\\u003e\",\"[20068.1409, 25311.0209\\u003e\",\"[25311.0209, 33503.0209\\u003e\",\"[33503.0209, 38418.2209\\u003e\",\"[38418.2209, 49231.6609\\u003e\",\"[49231.6609, 58079.0209\\u003e\",\"\\u003e=58079.0209\"],\"y\":[0.13793103396892548,0.09320387989282608,0.07027027010917664,0.04325699806213379,0.08481262624263763,0.051364365965127945,0.10820895433425903,0.08219178020954132,0.1654929518699646,0.3524172902107239],\"yaxis\":\"y2\",\"type\":\"scatter\"}],                        {\"template\":{\"data\":{\"scatter\":[{\"type\":\"scatter\"}]}},\"xaxis\":{\"anchor\":\"y\",\"domain\":[0.0,0.94],\"title\":{\"text\":\"Range\"},\"type\":\"category\"},\"yaxis\":{\"anchor\":\"x\",\"domain\":[0.0,1.0],\"title\":{\"text\":\"Responses\"},\"showgrid\":false},\"yaxis2\":{\"anchor\":\"x\",\"overlaying\":\"y\",\"side\":\"right\",\"title\":{\"text\":\"Propensity\"},\"tickformat\":\",.3%\",\"zeroline\":false,\"showgrid\":false},\"title\":{\"text\":\"Model name: ('HomeOwners',)\\u003cbr\\u003e\\u003csup\\u003eModel ID: 08ca1302-9fc0-57bf-9031-d4179d400493\\u003cbr\\u003ePredictor name: Customer.AnnualIncome\\u003c\\u002fsup\\u003e\\u003cbr\\u003e\\u003csup\\u003eQuery: [([(col(\\\"ModelID\\\")) == (Utf8(08ca1302-9fc0-57bf-9031-d4179d400493))]) & (col(\\\"PredictorName\\\").is_in([Series]))]\\u003c\\u002fsup\\u003e\"}},                        {\"responsive\": true}                    ).then(function(){\n",
       "                            \n",
       "var gd = document.getElementById('8ce79aa9-9941-4ab3-a1ee-97deaf7efe9d');\n",
       "var x = new MutationObserver(function (mutations, observer) {{\n",
       "        var display = window.getComputedStyle(gd).display;\n",
       "        if (!display || display === 'none') {{\n",
       "            console.log([gd, 'removed!']);\n",
       "            Plotly.purge(gd);\n",
       "            observer.disconnect();\n",
       "        }}\n",
       "}});\n",
       "\n",
       "// Listen for the removal of the full notebook cells\n",
       "var notebookContainer = gd.closest('#notebook-container');\n",
       "if (notebookContainer) {{\n",
       "    x.observe(notebookContainer, {childList: true});\n",
       "}}\n",
       "\n",
       "// Listen for the clearing of the current output cell\n",
       "var outputEl = gd.closest('.output');\n",
       "if (outputEl) {{\n",
       "    x.observe(outputEl, {childList: true});\n",
       "}}\n",
       "\n",
       "                        })                };                });            </script>        </div>"
      ]
     },
     "metadata": {},
     "output_type": "display_data"
    },
    {
     "data": {
      "text/html": [
       "<div>                            <div id=\"db8afda9-daf9-419c-9a12-c91d40940c89\" class=\"plotly-graph-div\" style=\"height:525px; width:100%;\"></div>            <script type=\"text/javascript\">                require([\"plotly\"], function(Plotly) {                    window.PLOTLYENV=window.PLOTLYENV || {};                                    if (document.getElementById(\"db8afda9-daf9-419c-9a12-c91d40940c89\")) {                    Plotly.newPlot(                        \"db8afda9-daf9-419c-9a12-c91d40940c89\",                        [{\"name\":\"Responses\",\"x\":[\"MISSING\",\"DepositAccounts, AutoLoans\",\"Customer, CreditCards\",\"HomeLoans\",\"Bundles\",\"Account, WealthOffers\"],\"y\":[675.0,1882.0,864.0,493.0,462.0,228.0],\"type\":\"bar\"},{\"mode\":\"lines+markers\",\"name\":\"Propensity\",\"x\":[\"MISSING\",\"DepositAccounts, AutoLoans\",\"Customer, CreditCards\",\"HomeLoans\",\"Bundles\",\"Account, WealthOffers\"],\"y\":[0.11555555462837219,0.11211477220058441,0.1215277761220932,0.16227181255817413,0.20995670557022095,0.1666666716337204],\"yaxis\":\"y2\",\"type\":\"scatter\"}],                        {\"template\":{\"data\":{\"scatter\":[{\"type\":\"scatter\"}]}},\"xaxis\":{\"anchor\":\"y\",\"domain\":[0.0,0.94],\"title\":{\"text\":\"Range\"},\"type\":\"category\"},\"yaxis\":{\"anchor\":\"x\",\"domain\":[0.0,1.0],\"title\":{\"text\":\"Responses\"},\"showgrid\":false},\"yaxis2\":{\"anchor\":\"x\",\"overlaying\":\"y\",\"side\":\"right\",\"title\":{\"text\":\"Propensity\"},\"tickformat\":\",.3%\",\"zeroline\":false,\"showgrid\":false},\"title\":{\"text\":\"Model name: ('HomeOwners',)\\u003cbr\\u003e\\u003csup\\u003eModel ID: 08ca1302-9fc0-57bf-9031-d4179d400493\\u003cbr\\u003ePredictor name: IH.Email.Outbound.Accepted.pxLastGroupID\\u003c\\u002fsup\\u003e\\u003cbr\\u003e\\u003csup\\u003eQuery: [([(col(\\\"ModelID\\\")) == (Utf8(08ca1302-9fc0-57bf-9031-d4179d400493))]) & (col(\\\"PredictorName\\\").is_in([Series]))]\\u003c\\u002fsup\\u003e\"}},                        {\"responsive\": true}                    ).then(function(){\n",
       "                            \n",
       "var gd = document.getElementById('db8afda9-daf9-419c-9a12-c91d40940c89');\n",
       "var x = new MutationObserver(function (mutations, observer) {{\n",
       "        var display = window.getComputedStyle(gd).display;\n",
       "        if (!display || display === 'none') {{\n",
       "            console.log([gd, 'removed!']);\n",
       "            Plotly.purge(gd);\n",
       "            observer.disconnect();\n",
       "        }}\n",
       "}});\n",
       "\n",
       "// Listen for the removal of the full notebook cells\n",
       "var notebookContainer = gd.closest('#notebook-container');\n",
       "if (notebookContainer) {{\n",
       "    x.observe(notebookContainer, {childList: true});\n",
       "}}\n",
       "\n",
       "// Listen for the clearing of the current output cell\n",
       "var outputEl = gd.closest('.output');\n",
       "if (outputEl) {{\n",
       "    x.observe(outputEl, {childList: true});\n",
       "}}\n",
       "\n",
       "                        })                };                });            </script>        </div>"
      ]
     },
     "metadata": {},
     "output_type": "display_data"
    }
   ],
   "source": [
    "data.plotPredictorBinning(\n",
    "    query=(pl.col(\"ModelID\") == \"08ca1302-9fc0-57bf-9031-d4179d400493\")\n",
    "    & pl.col(\"PredictorName\").is_in(\n",
    "        [\n",
    "            \"Customer.Age\",\n",
    "            \"Customer.AnnualIncome\",\n",
    "            \"IH.Email.Outbound.Accepted.pxLastGroupID\",\n",
    "        ]\n",
    "    )\n",
    ",show_each=True);\n"
   ]
  },
  {
   "cell_type": "markdown",
   "metadata": {},
   "source": [
    "## Predictor Performance"
   ]
  },
  {
   "cell_type": "code",
   "execution_count": 7,
   "metadata": {
    "execution": {
     "iopub.execute_input": "2023-12-08T09:58:19.103451Z",
     "iopub.status.busy": "2023-12-08T09:58:19.103264Z",
     "iopub.status.idle": "2023-12-08T09:58:19.143254Z",
     "shell.execute_reply": "2023-12-08T09:58:19.142754Z"
    }
   },
   "outputs": [
    {
     "data": {
      "text/html": [
       "<div>                            <div id=\"5836bc6b-5203-4669-a2bf-014da524d2fa\" class=\"plotly-graph-div\" style=\"height:525px; width:100%;\"></div>            <script type=\"text/javascript\">                require([\"plotly\"], function(Plotly) {                    window.PLOTLYENV=window.PLOTLYENV || {};                                    if (document.getElementById(\"5836bc6b-5203-4669-a2bf-014da524d2fa\")) {                    Plotly.newPlot(                        \"5836bc6b-5203-4669-a2bf-014da524d2fa\",                        [{\"alignmentgroup\":\"True\",\"hovertemplate\":\"Legend=IH\\u003cbr\\u003ePerformance=%{x}\\u003cbr\\u003ePredictor Name=%{y}\\u003cextra\\u003e\\u003c\\u002fextra\\u003e\",\"legendgroup\":\"IH\",\"marker\":{\"color\":\"#001F5F\"},\"name\":\"IH\",\"notched\":false,\"offsetgroup\":\"IH\",\"orientation\":\"h\",\"showlegend\":true,\"x\":[54.021300000000004,55.9603,61.28940000000001,58.8025,55.53979999999999,50.428,52.7043,52.5975,53.046499999999995,54.0076,53.2007,52.5612,51.588,52.290800000000004,56.259800000000006,53.050399999999996,52.565799999999996,52.2676,64.4175,71.0407,53.4612,55.576,55.746300000000005,52.7659,51.0452,61.4359,51.29,51.775499999999994,52.8227,54.0712,56.4372,52.9104,57.1577,52.7855,64.751,52.6177,59.551,53.323100000000004,71.267,53.457699999999996,51.3847,52.586,51.540600000000005,64.7804,55.7871,54.6562,53.107400000000005,53.4393,53.9967,64.6683,55.65989999999999,58.21340000000001,70.9567,52.88159999999999,53.3794,56.407399999999996,57.071000000000005,53.2585,53.255399999999995,50.674699999999994,53.60549999999999,56.424099999999996,53.3948,54.6213,55.755900000000004,56.1223,55.16799999999999,53.0768,67.5339,51.401399999999995,53.90859999999999,53.4709,57.8135,56.0681,54.454,57.798899999999996,52.753099999999996,55.1111,54.684999999999995,62.185500000000005,55.3206,70.9567,56.0083,57.1655,53.0192,52.9915,54.4977,61.2984,52.643499999999996,54.652100000000004,52.6125,56.282399999999996,52.2733,53.934000000000005,55.156400000000005,54.343399999999995,53.654,64.51400000000001,55.3455,58.796499999999995,55.209399999999995,56.368300000000005,58.19800000000001,55.9403,60.62030000000001,64.4175,61.28940000000001,52.290800000000004,56.2361,56.7851,53.6446,55.9603,58.0686,55.0376,54.526799999999994,53.046499999999995,71.0407,59.79750000000001,55.2365,54.0076,54.2427,58.0908,57.5792,52.4236,56.8518,55.5577,60.398700000000005,53.4604,61.487700000000004,60.8391,57.15710000000001,56.295700000000004,56.884,70.32509999999999,60.6094,50.985,55.4017,53.37,52.868,63.035,53.1967,59.829100000000004,50.3807,56.3673,68.6689,58.3707,50.3252,59.461,59.594899999999996,50.232600000000005,50.286500000000004,58.6947,65.08,55.513400000000004,56.7448,57.4326,55.04710000000001,57.5397,50.1131,57.550599999999996,50.286500000000004,56.74550000000001,62.490100000000005,59.6171,58.32000000000001,68.4031,55.761300000000006,53.630599999999994,50.2262,60.3909,63.4496,57.419399999999996,58.6283,56.9537,50.253800000000005,56.8491,50.099000000000004,59.319900000000004,54.748799999999996,57.9052,66.7804,63.696,51.019400000000005,67.88300000000001,53.4604,57.652800000000006,57.5792,54.573899999999995,56.3398,57.2565,62.2877,60.5249,55.9497,54.817499999999995,67.6683,53.98,62.7857,59.1166,53.0076,57.894,60.1503,63.8987,50.0,58.72730000000001,50.0,54.7725,50.0,50.0,59.488,57.7587,59.24850000000001,57.6265,50.0,57.578300000000006,50.0,59.5351,64.2375,57.776300000000006,58.5596,50.0,59.18560000000001,61.483200000000004,58.8884,60.2962,58.4571,57.3605,57.129,61.12499999999999,50.0,57.152899999999995,56.049499999999995,64.3524,50.0,50.0,50.0,64.67150000000001,50.0,55.31270000000001,63.5993,60.467999999999996,64.6274,61.272000000000006,54.759299999999996,60.6255,59.4537,60.552099999999996,55.7909,54.1848,63.0443,50.1269,50.2262,50.068900000000006,50.099000000000004,58.097100000000005,61.175000000000004,63.4209,50.286500000000004,65.4153,54.6334,59.5125,50.0,65.2045,56.3731,50.0,50.0,61.351,50.0,61.1295,58.7307,58.902699999999996,61.1115,60.9884,64.48129999999999,59.7952,50.0,57.999500000000005,62.590599999999995,57.6318,50.0,63.8127,61.20060000000001,61.4148,56.41929999999999,59.809599999999996,58.847899999999996,58.4923,50.0,65.3965,62.9572,58.870400000000004,50.0258,53.259,60.7985,56.7573,59.39919999999999,50.0,50.0,60.255,61.3475,50.0],\"x0\":\" \",\"xaxis\":\"x\",\"y\":[\"IH.Web.Inbound.Churned.pxLastOutcomeTime.DaysSince\",\"IH.Web.Inbound.Churned.pxLastOutcomeTime.DaysSince\",\"IH.Web.Inbound.Churned.pxLastOutcomeTime.DaysSince\",\"IH.Web.Inbound.Churned.pxLastOutcomeTime.DaysSince\",\"IH.Web.Inbound.Churned.pxLastOutcomeTime.DaysSince\",\"IH.Web.Inbound.Churned.pxLastOutcomeTime.DaysSince\",\"IH.Web.Inbound.Churned.pxLastOutcomeTime.DaysSince\",\"IH.Web.Inbound.Churned.pxLastOutcomeTime.DaysSince\",\"IH.Web.Inbound.Churned.pxLastOutcomeTime.DaysSince\",\"IH.Web.Inbound.Churned.pxLastOutcomeTime.DaysSince\",\"IH.Web.Inbound.Churned.pxLastOutcomeTime.DaysSince\",\"IH.Web.Inbound.Churned.pxLastOutcomeTime.DaysSince\",\"IH.Web.Inbound.Churned.pxLastOutcomeTime.DaysSince\",\"IH.Web.Inbound.Churned.pxLastOutcomeTime.DaysSince\",\"IH.Web.Inbound.Churned.pxLastOutcomeTime.DaysSince\",\"IH.Web.Inbound.Churned.pxLastOutcomeTime.DaysSince\",\"IH.Web.Inbound.Churned.pxLastOutcomeTime.DaysSince\",\"IH.Web.Inbound.Churned.pxLastOutcomeTime.DaysSince\",\"IH.Web.Inbound.Churned.pxLastOutcomeTime.DaysSince\",\"IH.Web.Inbound.Churned.pxLastOutcomeTime.DaysSince\",\"IH.Web.Inbound.Churned.pxLastGroupID\",\"IH.Web.Inbound.Churned.pxLastGroupID\",\"IH.Web.Inbound.Churned.pxLastGroupID\",\"IH.Web.Inbound.Churned.pxLastGroupID\",\"IH.Web.Inbound.Churned.pxLastGroupID\",\"IH.Web.Inbound.Churned.pxLastGroupID\",\"IH.Web.Inbound.Churned.pxLastGroupID\",\"IH.Web.Inbound.Churned.pxLastGroupID\",\"IH.Web.Inbound.Churned.pxLastGroupID\",\"IH.Web.Inbound.Churned.pxLastGroupID\",\"IH.Web.Inbound.Churned.pxLastGroupID\",\"IH.Web.Inbound.Churned.pxLastGroupID\",\"IH.Web.Inbound.Churned.pxLastGroupID\",\"IH.Web.Inbound.Churned.pxLastGroupID\",\"IH.Web.Inbound.Churned.pxLastGroupID\",\"IH.Web.Inbound.Churned.pxLastGroupID\",\"IH.Web.Inbound.Churned.pxLastGroupID\",\"IH.Web.Inbound.Churned.pxLastGroupID\",\"IH.Web.Inbound.Churned.pxLastGroupID\",\"IH.Web.Inbound.Churned.pxLastGroupID\",\"IH.Web.Inbound.Loyal.pxLastGroupID\",\"IH.Web.Inbound.Loyal.pxLastGroupID\",\"IH.Web.Inbound.Loyal.pxLastGroupID\",\"IH.Web.Inbound.Loyal.pxLastGroupID\",\"IH.Web.Inbound.Loyal.pxLastGroupID\",\"IH.Web.Inbound.Loyal.pxLastGroupID\",\"IH.Web.Inbound.Loyal.pxLastGroupID\",\"IH.Web.Inbound.Loyal.pxLastGroupID\",\"IH.Web.Inbound.Loyal.pxLastGroupID\",\"IH.Web.Inbound.Loyal.pxLastGroupID\",\"IH.Web.Inbound.Loyal.pxLastGroupID\",\"IH.Web.Inbound.Loyal.pxLastGroupID\",\"IH.Web.Inbound.Loyal.pxLastGroupID\",\"IH.Web.Inbound.Loyal.pxLastGroupID\",\"IH.Web.Inbound.Loyal.pxLastGroupID\",\"IH.Web.Inbound.Loyal.pxLastGroupID\",\"IH.Web.Inbound.Loyal.pxLastGroupID\",\"IH.Web.Inbound.Loyal.pxLastGroupID\",\"IH.Web.Inbound.Loyal.pxLastGroupID\",\"IH.Web.Inbound.Loyal.pxLastGroupID\",\"IH.SMS.Outbound.Rejected.pxLastGroupID\",\"IH.SMS.Outbound.Rejected.pxLastGroupID\",\"IH.SMS.Outbound.Rejected.pxLastGroupID\",\"IH.SMS.Outbound.Rejected.pxLastGroupID\",\"IH.SMS.Outbound.Rejected.pxLastGroupID\",\"IH.SMS.Outbound.Rejected.pxLastGroupID\",\"IH.SMS.Outbound.Rejected.pxLastGroupID\",\"IH.SMS.Outbound.Rejected.pxLastGroupID\",\"IH.SMS.Outbound.Rejected.pxLastGroupID\",\"IH.SMS.Outbound.Rejected.pxLastGroupID\",\"IH.SMS.Outbound.Rejected.pxLastGroupID\",\"IH.SMS.Outbound.Rejected.pxLastGroupID\",\"IH.SMS.Outbound.Rejected.pxLastGroupID\",\"IH.SMS.Outbound.Rejected.pxLastGroupID\",\"IH.SMS.Outbound.Rejected.pxLastGroupID\",\"IH.SMS.Outbound.Rejected.pxLastGroupID\",\"IH.SMS.Outbound.Rejected.pxLastGroupID\",\"IH.SMS.Outbound.Rejected.pxLastGroupID\",\"IH.SMS.Outbound.Rejected.pxLastGroupID\",\"IH.SMS.Outbound.Rejected.pxLastGroupID\",\"IH.Web.Inbound.Loyal.pyHistoricalOutcomeCount\",\"IH.Web.Inbound.Loyal.pyHistoricalOutcomeCount\",\"IH.Web.Inbound.Loyal.pyHistoricalOutcomeCount\",\"IH.Web.Inbound.Loyal.pyHistoricalOutcomeCount\",\"IH.Web.Inbound.Loyal.pyHistoricalOutcomeCount\",\"IH.Web.Inbound.Loyal.pyHistoricalOutcomeCount\",\"IH.Web.Inbound.Loyal.pyHistoricalOutcomeCount\",\"IH.Web.Inbound.Loyal.pyHistoricalOutcomeCount\",\"IH.Web.Inbound.Loyal.pyHistoricalOutcomeCount\",\"IH.Web.Inbound.Loyal.pyHistoricalOutcomeCount\",\"IH.Web.Inbound.Loyal.pyHistoricalOutcomeCount\",\"IH.Web.Inbound.Loyal.pyHistoricalOutcomeCount\",\"IH.Web.Inbound.Loyal.pyHistoricalOutcomeCount\",\"IH.Web.Inbound.Loyal.pyHistoricalOutcomeCount\",\"IH.Web.Inbound.Loyal.pyHistoricalOutcomeCount\",\"IH.Web.Inbound.Loyal.pyHistoricalOutcomeCount\",\"IH.Web.Inbound.Loyal.pyHistoricalOutcomeCount\",\"IH.Web.Inbound.Loyal.pyHistoricalOutcomeCount\",\"IH.Web.Inbound.Loyal.pyHistoricalOutcomeCount\",\"IH.Web.Inbound.Loyal.pyHistoricalOutcomeCount\",\"IH.Web.Inbound.Churned.pyHistoricalOutcomeCount\",\"IH.Web.Inbound.Churned.pyHistoricalOutcomeCount\",\"IH.Web.Inbound.Churned.pyHistoricalOutcomeCount\",\"IH.Web.Inbound.Churned.pyHistoricalOutcomeCount\",\"IH.Web.Inbound.Churned.pyHistoricalOutcomeCount\",\"IH.Web.Inbound.Churned.pyHistoricalOutcomeCount\",\"IH.Web.Inbound.Churned.pyHistoricalOutcomeCount\",\"IH.Web.Inbound.Churned.pyHistoricalOutcomeCount\",\"IH.Web.Inbound.Churned.pyHistoricalOutcomeCount\",\"IH.Web.Inbound.Churned.pyHistoricalOutcomeCount\",\"IH.Web.Inbound.Churned.pyHistoricalOutcomeCount\",\"IH.Web.Inbound.Churned.pyHistoricalOutcomeCount\",\"IH.Web.Inbound.Churned.pyHistoricalOutcomeCount\",\"IH.Web.Inbound.Churned.pyHistoricalOutcomeCount\",\"IH.Web.Inbound.Churned.pyHistoricalOutcomeCount\",\"IH.Web.Inbound.Churned.pyHistoricalOutcomeCount\",\"IH.Web.Inbound.Churned.pyHistoricalOutcomeCount\",\"IH.Web.Inbound.Churned.pyHistoricalOutcomeCount\",\"IH.Web.Inbound.Churned.pyHistoricalOutcomeCount\",\"IH.Web.Inbound.Churned.pyHistoricalOutcomeCount\",\"IH.Email.Outbound.Accepted.pyHistoricalOutcomeCount\",\"IH.Email.Outbound.Accepted.pyHistoricalOutcomeCount\",\"IH.Email.Outbound.Accepted.pyHistoricalOutcomeCount\",\"IH.Email.Outbound.Accepted.pyHistoricalOutcomeCount\",\"IH.Email.Outbound.Accepted.pyHistoricalOutcomeCount\",\"IH.Email.Outbound.Accepted.pyHistoricalOutcomeCount\",\"IH.Email.Outbound.Accepted.pyHistoricalOutcomeCount\",\"IH.Email.Outbound.Accepted.pyHistoricalOutcomeCount\",\"IH.Email.Outbound.Accepted.pyHistoricalOutcomeCount\",\"IH.Email.Outbound.Accepted.pyHistoricalOutcomeCount\",\"IH.Email.Outbound.Accepted.pyHistoricalOutcomeCount\",\"IH.Email.Outbound.Accepted.pyHistoricalOutcomeCount\",\"IH.Email.Outbound.Accepted.pyHistoricalOutcomeCount\",\"IH.Email.Outbound.Accepted.pyHistoricalOutcomeCount\",\"IH.Email.Outbound.Accepted.pyHistoricalOutcomeCount\",\"IH.Email.Outbound.Accepted.pyHistoricalOutcomeCount\",\"IH.Email.Outbound.Accepted.pyHistoricalOutcomeCount\",\"IH.Email.Outbound.Accepted.pyHistoricalOutcomeCount\",\"IH.Email.Outbound.Accepted.pyHistoricalOutcomeCount\",\"IH.Email.Outbound.Accepted.pyHistoricalOutcomeCount\",\"IH.Web.Inbound.Accepted.pxLastGroupID\",\"IH.Web.Inbound.Accepted.pxLastGroupID\",\"IH.Web.Inbound.Accepted.pxLastGroupID\",\"IH.Web.Inbound.Accepted.pxLastGroupID\",\"IH.Web.Inbound.Accepted.pxLastGroupID\",\"IH.Web.Inbound.Accepted.pxLastGroupID\",\"IH.Web.Inbound.Accepted.pxLastGroupID\",\"IH.Web.Inbound.Accepted.pxLastGroupID\",\"IH.Web.Inbound.Accepted.pxLastGroupID\",\"IH.Web.Inbound.Accepted.pxLastGroupID\",\"IH.Web.Inbound.Accepted.pxLastGroupID\",\"IH.Web.Inbound.Accepted.pxLastGroupID\",\"IH.Web.Inbound.Accepted.pxLastGroupID\",\"IH.Web.Inbound.Accepted.pxLastGroupID\",\"IH.Web.Inbound.Accepted.pxLastGroupID\",\"IH.Web.Inbound.Accepted.pxLastGroupID\",\"IH.Web.Inbound.Accepted.pxLastGroupID\",\"IH.Web.Inbound.Accepted.pxLastGroupID\",\"IH.Web.Inbound.Accepted.pxLastGroupID\",\"IH.Web.Inbound.Accepted.pxLastGroupID\",\"IH.SMS.Outbound.Accepted.pxLastGroupID\",\"IH.SMS.Outbound.Accepted.pxLastGroupID\",\"IH.SMS.Outbound.Accepted.pxLastGroupID\",\"IH.SMS.Outbound.Accepted.pxLastGroupID\",\"IH.SMS.Outbound.Accepted.pxLastGroupID\",\"IH.SMS.Outbound.Accepted.pxLastGroupID\",\"IH.SMS.Outbound.Accepted.pxLastGroupID\",\"IH.SMS.Outbound.Accepted.pxLastGroupID\",\"IH.SMS.Outbound.Accepted.pxLastGroupID\",\"IH.SMS.Outbound.Accepted.pxLastGroupID\",\"IH.SMS.Outbound.Accepted.pxLastGroupID\",\"IH.SMS.Outbound.Accepted.pxLastGroupID\",\"IH.SMS.Outbound.Accepted.pxLastGroupID\",\"IH.SMS.Outbound.Accepted.pxLastGroupID\",\"IH.SMS.Outbound.Accepted.pxLastGroupID\",\"IH.SMS.Outbound.Accepted.pxLastGroupID\",\"IH.SMS.Outbound.Accepted.pxLastGroupID\",\"IH.SMS.Outbound.Accepted.pxLastGroupID\",\"IH.SMS.Outbound.Accepted.pxLastGroupID\",\"IH.SMS.Outbound.Accepted.pxLastGroupID\",\"IH.Email.Outbound.Accepted.pxLastGroupID\",\"IH.Email.Outbound.Accepted.pxLastGroupID\",\"IH.Email.Outbound.Accepted.pxLastGroupID\",\"IH.Email.Outbound.Accepted.pxLastGroupID\",\"IH.Email.Outbound.Accepted.pxLastGroupID\",\"IH.Email.Outbound.Accepted.pxLastGroupID\",\"IH.Email.Outbound.Accepted.pxLastGroupID\",\"IH.Email.Outbound.Accepted.pxLastGroupID\",\"IH.Email.Outbound.Accepted.pxLastGroupID\",\"IH.Email.Outbound.Accepted.pxLastGroupID\",\"IH.Email.Outbound.Accepted.pxLastGroupID\",\"IH.Email.Outbound.Accepted.pxLastGroupID\",\"IH.Email.Outbound.Accepted.pxLastGroupID\",\"IH.Email.Outbound.Accepted.pxLastGroupID\",\"IH.Email.Outbound.Accepted.pxLastGroupID\",\"IH.Email.Outbound.Accepted.pxLastGroupID\",\"IH.Email.Outbound.Accepted.pxLastGroupID\",\"IH.Email.Outbound.Accepted.pxLastGroupID\",\"IH.Email.Outbound.Accepted.pxLastGroupID\",\"IH.Email.Outbound.Accepted.pxLastGroupID\",\"IH.Web.Inbound.Rejected.pyHistoricalOutcomeCount\",\"IH.Web.Inbound.Rejected.pyHistoricalOutcomeCount\",\"IH.Web.Inbound.Rejected.pyHistoricalOutcomeCount\",\"IH.Web.Inbound.Rejected.pyHistoricalOutcomeCount\",\"IH.Web.Inbound.Rejected.pyHistoricalOutcomeCount\",\"IH.Web.Inbound.Rejected.pyHistoricalOutcomeCount\",\"IH.Web.Inbound.Rejected.pyHistoricalOutcomeCount\",\"IH.Web.Inbound.Rejected.pyHistoricalOutcomeCount\",\"IH.Web.Inbound.Rejected.pyHistoricalOutcomeCount\",\"IH.Web.Inbound.Rejected.pyHistoricalOutcomeCount\",\"IH.Web.Inbound.Rejected.pyHistoricalOutcomeCount\",\"IH.Web.Inbound.Rejected.pyHistoricalOutcomeCount\",\"IH.Web.Inbound.Rejected.pyHistoricalOutcomeCount\",\"IH.Web.Inbound.Rejected.pyHistoricalOutcomeCount\",\"IH.Web.Inbound.Rejected.pyHistoricalOutcomeCount\",\"IH.Web.Inbound.Rejected.pyHistoricalOutcomeCount\",\"IH.Web.Inbound.Rejected.pyHistoricalOutcomeCount\",\"IH.Web.Inbound.Rejected.pyHistoricalOutcomeCount\",\"IH.Web.Inbound.Rejected.pyHistoricalOutcomeCount\",\"IH.Web.Inbound.Rejected.pyHistoricalOutcomeCount\",\"IH.SMS.Outbound.Rejected.pyHistoricalOutcomeCount\",\"IH.SMS.Outbound.Rejected.pyHistoricalOutcomeCount\",\"IH.SMS.Outbound.Rejected.pyHistoricalOutcomeCount\",\"IH.SMS.Outbound.Rejected.pyHistoricalOutcomeCount\",\"IH.SMS.Outbound.Rejected.pyHistoricalOutcomeCount\",\"IH.SMS.Outbound.Rejected.pyHistoricalOutcomeCount\",\"IH.SMS.Outbound.Rejected.pyHistoricalOutcomeCount\",\"IH.SMS.Outbound.Rejected.pyHistoricalOutcomeCount\",\"IH.SMS.Outbound.Rejected.pyHistoricalOutcomeCount\",\"IH.SMS.Outbound.Rejected.pyHistoricalOutcomeCount\",\"IH.SMS.Outbound.Rejected.pyHistoricalOutcomeCount\",\"IH.SMS.Outbound.Rejected.pyHistoricalOutcomeCount\",\"IH.SMS.Outbound.Rejected.pyHistoricalOutcomeCount\",\"IH.SMS.Outbound.Rejected.pyHistoricalOutcomeCount\",\"IH.SMS.Outbound.Rejected.pyHistoricalOutcomeCount\",\"IH.SMS.Outbound.Rejected.pyHistoricalOutcomeCount\",\"IH.SMS.Outbound.Rejected.pyHistoricalOutcomeCount\",\"IH.SMS.Outbound.Rejected.pyHistoricalOutcomeCount\",\"IH.SMS.Outbound.Rejected.pyHistoricalOutcomeCount\",\"IH.SMS.Outbound.Rejected.pyHistoricalOutcomeCount\",\"IH.SMS.Outbound.Accepted.pyHistoricalOutcomeCount\",\"IH.SMS.Outbound.Accepted.pyHistoricalOutcomeCount\",\"IH.SMS.Outbound.Accepted.pyHistoricalOutcomeCount\",\"IH.SMS.Outbound.Accepted.pyHistoricalOutcomeCount\",\"IH.SMS.Outbound.Accepted.pyHistoricalOutcomeCount\",\"IH.SMS.Outbound.Accepted.pyHistoricalOutcomeCount\",\"IH.SMS.Outbound.Accepted.pyHistoricalOutcomeCount\",\"IH.SMS.Outbound.Accepted.pyHistoricalOutcomeCount\",\"IH.SMS.Outbound.Accepted.pyHistoricalOutcomeCount\",\"IH.SMS.Outbound.Accepted.pyHistoricalOutcomeCount\",\"IH.SMS.Outbound.Accepted.pyHistoricalOutcomeCount\",\"IH.SMS.Outbound.Accepted.pyHistoricalOutcomeCount\",\"IH.SMS.Outbound.Accepted.pyHistoricalOutcomeCount\",\"IH.SMS.Outbound.Accepted.pyHistoricalOutcomeCount\",\"IH.SMS.Outbound.Accepted.pyHistoricalOutcomeCount\",\"IH.SMS.Outbound.Accepted.pyHistoricalOutcomeCount\",\"IH.SMS.Outbound.Accepted.pyHistoricalOutcomeCount\",\"IH.SMS.Outbound.Accepted.pyHistoricalOutcomeCount\",\"IH.SMS.Outbound.Accepted.pyHistoricalOutcomeCount\",\"IH.SMS.Outbound.Accepted.pyHistoricalOutcomeCount\",\"IH.Email.Outbound.Rejected.pyHistoricalOutcomeCount\",\"IH.Email.Outbound.Rejected.pyHistoricalOutcomeCount\",\"IH.Email.Outbound.Rejected.pyHistoricalOutcomeCount\",\"IH.Email.Outbound.Rejected.pyHistoricalOutcomeCount\",\"IH.Email.Outbound.Rejected.pyHistoricalOutcomeCount\",\"IH.Email.Outbound.Rejected.pyHistoricalOutcomeCount\",\"IH.Email.Outbound.Rejected.pyHistoricalOutcomeCount\",\"IH.Email.Outbound.Rejected.pyHistoricalOutcomeCount\",\"IH.Email.Outbound.Rejected.pyHistoricalOutcomeCount\",\"IH.Email.Outbound.Rejected.pyHistoricalOutcomeCount\",\"IH.Email.Outbound.Rejected.pyHistoricalOutcomeCount\",\"IH.Email.Outbound.Rejected.pyHistoricalOutcomeCount\",\"IH.Email.Outbound.Rejected.pyHistoricalOutcomeCount\",\"IH.Email.Outbound.Rejected.pyHistoricalOutcomeCount\",\"IH.Email.Outbound.Rejected.pyHistoricalOutcomeCount\",\"IH.Email.Outbound.Rejected.pyHistoricalOutcomeCount\",\"IH.Email.Outbound.Rejected.pyHistoricalOutcomeCount\",\"IH.Email.Outbound.Rejected.pyHistoricalOutcomeCount\",\"IH.Email.Outbound.Rejected.pyHistoricalOutcomeCount\",\"IH.Email.Outbound.Rejected.pyHistoricalOutcomeCount\",\"IH.Web.Inbound.Accepted.pyHistoricalOutcomeCount\",\"IH.Web.Inbound.Accepted.pyHistoricalOutcomeCount\",\"IH.Web.Inbound.Accepted.pyHistoricalOutcomeCount\",\"IH.Web.Inbound.Accepted.pyHistoricalOutcomeCount\",\"IH.Web.Inbound.Accepted.pyHistoricalOutcomeCount\",\"IH.Web.Inbound.Accepted.pyHistoricalOutcomeCount\",\"IH.Web.Inbound.Accepted.pyHistoricalOutcomeCount\",\"IH.Web.Inbound.Accepted.pyHistoricalOutcomeCount\",\"IH.Web.Inbound.Accepted.pyHistoricalOutcomeCount\",\"IH.Web.Inbound.Accepted.pyHistoricalOutcomeCount\",\"IH.Web.Inbound.Accepted.pyHistoricalOutcomeCount\",\"IH.Web.Inbound.Accepted.pyHistoricalOutcomeCount\",\"IH.Web.Inbound.Accepted.pyHistoricalOutcomeCount\",\"IH.Web.Inbound.Accepted.pyHistoricalOutcomeCount\",\"IH.Web.Inbound.Accepted.pyHistoricalOutcomeCount\",\"IH.Web.Inbound.Accepted.pyHistoricalOutcomeCount\",\"IH.Web.Inbound.Accepted.pyHistoricalOutcomeCount\",\"IH.Web.Inbound.Accepted.pyHistoricalOutcomeCount\",\"IH.Web.Inbound.Accepted.pyHistoricalOutcomeCount\",\"IH.Web.Inbound.Accepted.pyHistoricalOutcomeCount\"],\"y0\":\" \",\"yaxis\":\"y\",\"type\":\"box\"},{\"alignmentgroup\":\"True\",\"hovertemplate\":\"Legend=Customer\\u003cbr\\u003ePerformance=%{x}\\u003cbr\\u003ePredictor Name=%{y}\\u003cextra\\u003e\\u003c\\u002fextra\\u003e\",\"legendgroup\":\"Customer\",\"marker\":{\"color\":\"#10A5AC\"},\"name\":\"Customer\",\"notched\":false,\"offsetgroup\":\"Customer\",\"orientation\":\"h\",\"showlegend\":true,\"x\":[51.6481,50.614599999999996,63.184,54.231700000000004,50.084399999999995,51.2302,51.599,55.4526,56.723800000000004,57.934799999999996,64.1403,57.3937,53.90970000000001,54.438900000000004,51.213699999999996,53.67960000000001,62.844500000000004,51.318,60.3031,71.249,53.260600000000004,51.739900000000006,51.4401,54.905300000000004,55.0814,71.8279,65.18969999999999,54.395700000000005,61.4975,50.156800000000004,50.342,60.520399999999995,57.5545,59.3529,56.8581,56.25059999999999,53.6961,55.212700000000005,51.2269,57.557199999999995,58.9005,61.5379,50.0,50.0,57.792500000000004,54.802099999999996,59.4035,50.0,69.2803,67.7474,55.6875,50.0,55.72279999999999,54.611399999999996,60.742399999999996,56.7403,55.5095,63.2074,54.0976,50.0,50.2131,61.4975,59.164300000000004,53.736700000000006,58.8394,51.3856,55.1373,60.520399999999995,57.5545,65.18969999999999,54.395700000000005,51.2269,53.3458,71.8279,57.7999,55.212700000000005,51.605199999999996,50.404700000000005,57.604299999999995,56.25059999999999,60.3538,50.0,56.9839,56.37,55.116699999999994,60.99,50.0,53.464299999999994,56.9369,57.9354,62.205999999999996,52.8998,61.2906,50.0,60.64190000000001,58.192299999999996,50.0,50.0,53.62050000000001,57.085699999999996,58.8009,57.1878,56.6963,50.0,56.5815,53.9098,58.857400000000005,57.233999999999995,60.912,60.2228,61.8656,59.4924,50.0,50.0,64.76849999999999,50.0,56.0249,59.8607,50.0,50.0,63.1562,50.0,50.0,57.2222,59.412200000000006,59.206599999999995,56.7884,59.6731,63.2781,57.4949,50.0,69.4885,53.880700000000004,59.2558,50.0,60.7897,50.0,57.67250000000001,56.704699999999995,61.8852,62.77779999999999,59.2995,60.044799999999995,50.0,53.7008,55.825,56.3236,59.8314,58.3999,60.919000000000004,54.7925,55.489200000000004,50.0,61.0174,58.720099999999995,60.9977,50.0,58.7225,50.0,68.42240000000001,50.0,61.563599999999994,50.0,56.0964,64.26389999999999,58.7996,60.130300000000005,50.0,63.151,58.8784,50.0,59.3662,62.566500000000005,57.8851,58.884499999999996,50.0,50.0,64.4263,60.260999999999996,64.2321,69.9779,50.0,59.2858,65.074,60.4753,72.0121,50.0,50.0,61.523,65.5934,50.0,57.3139,59.770999999999994,50.0,67.8751,50.0,60.2006,65.47619999999999,59.7588,58.243100000000005,62.7574,50.0,61.677899999999994,66.14,66.76910000000001,50.0,61.2695,69.1364,55.9398,66.3934,67.091,50.0,61.9755,65.8252,50.0,67.843,50.0,50.0,69.6095,79.5234,50.0,50.0,50.0,67.6933,50.0,50.0,63.6825,60.002900000000004,68.40990000000001,67.90079999999999,63.101,61.277800000000006,68.5224,60.4482,50.0,68.8072,66.4995,68.10810000000001,65.94139999999999,72.2077,50.0,67.7885,50.0,72.2297,67.85679999999999,75.493,67.8088,60.4125,72.70830000000001,50.0,60.348,67.284,58.949600000000004,65.1779,68.0832,64.193,50.0,50.0,70.54169999999999,50.0,78.18,50.0,62.589099999999995,63.8537,86.3848,64.5449,69.0542,67.3194,74.91409999999999,69.0493,71.13239999999999,50.0,63.4857,65.7909,71.921,67.8122,50.0,63.1201,50.0,50.0],\"x0\":\" \",\"xaxis\":\"x\",\"y\":[\"Customer.OrganizationLabel\",\"Customer.OrganizationLabel\",\"Customer.OrganizationLabel\",\"Customer.OrganizationLabel\",\"Customer.OrganizationLabel\",\"Customer.OrganizationLabel\",\"Customer.OrganizationLabel\",\"Customer.OrganizationLabel\",\"Customer.OrganizationLabel\",\"Customer.OrganizationLabel\",\"Customer.OrganizationLabel\",\"Customer.OrganizationLabel\",\"Customer.OrganizationLabel\",\"Customer.OrganizationLabel\",\"Customer.OrganizationLabel\",\"Customer.OrganizationLabel\",\"Customer.OrganizationLabel\",\"Customer.OrganizationLabel\",\"Customer.OrganizationLabel\",\"Customer.OrganizationLabel\",\"Customer.City\",\"Customer.City\",\"Customer.City\",\"Customer.City\",\"Customer.City\",\"Customer.City\",\"Customer.City\",\"Customer.City\",\"Customer.City\",\"Customer.City\",\"Customer.City\",\"Customer.City\",\"Customer.City\",\"Customer.City\",\"Customer.City\",\"Customer.City\",\"Customer.City\",\"Customer.City\",\"Customer.City\",\"Customer.City\",\"Customer.BusinessSegment\",\"Customer.BusinessSegment\",\"Customer.BusinessSegment\",\"Customer.BusinessSegment\",\"Customer.BusinessSegment\",\"Customer.BusinessSegment\",\"Customer.BusinessSegment\",\"Customer.BusinessSegment\",\"Customer.BusinessSegment\",\"Customer.BusinessSegment\",\"Customer.BusinessSegment\",\"Customer.BusinessSegment\",\"Customer.BusinessSegment\",\"Customer.BusinessSegment\",\"Customer.BusinessSegment\",\"Customer.BusinessSegment\",\"Customer.BusinessSegment\",\"Customer.BusinessSegment\",\"Customer.BusinessSegment\",\"Customer.BusinessSegment\",\"Customer.C_CIFNBR\",\"Customer.C_CIFNBR\",\"Customer.C_CIFNBR\",\"Customer.C_CIFNBR\",\"Customer.C_CIFNBR\",\"Customer.C_CIFNBR\",\"Customer.C_CIFNBR\",\"Customer.C_CIFNBR\",\"Customer.C_CIFNBR\",\"Customer.C_CIFNBR\",\"Customer.C_CIFNBR\",\"Customer.C_CIFNBR\",\"Customer.C_CIFNBR\",\"Customer.C_CIFNBR\",\"Customer.C_CIFNBR\",\"Customer.C_CIFNBR\",\"Customer.C_CIFNBR\",\"Customer.C_CIFNBR\",\"Customer.C_CIFNBR\",\"Customer.C_CIFNBR\",\"Customer.Date_of_Birth\",\"Customer.Date_of_Birth\",\"Customer.Date_of_Birth\",\"Customer.Date_of_Birth\",\"Customer.Date_of_Birth\",\"Customer.Date_of_Birth\",\"Customer.Date_of_Birth\",\"Customer.Date_of_Birth\",\"Customer.Date_of_Birth\",\"Customer.Date_of_Birth\",\"Customer.Date_of_Birth\",\"Customer.Date_of_Birth\",\"Customer.Date_of_Birth\",\"Customer.Date_of_Birth\",\"Customer.Date_of_Birth\",\"Customer.Date_of_Birth\",\"Customer.Date_of_Birth\",\"Customer.Date_of_Birth\",\"Customer.Date_of_Birth\",\"Customer.Date_of_Birth\",\"Customer.RelationshipStartDate\",\"Customer.RelationshipStartDate\",\"Customer.RelationshipStartDate\",\"Customer.RelationshipStartDate\",\"Customer.RelationshipStartDate\",\"Customer.RelationshipStartDate\",\"Customer.RelationshipStartDate\",\"Customer.RelationshipStartDate\",\"Customer.RelationshipStartDate\",\"Customer.RelationshipStartDate\",\"Customer.RelationshipStartDate\",\"Customer.RelationshipStartDate\",\"Customer.RelationshipStartDate\",\"Customer.RelationshipStartDate\",\"Customer.RelationshipStartDate\",\"Customer.RelationshipStartDate\",\"Customer.RelationshipStartDate\",\"Customer.RelationshipStartDate\",\"Customer.RelationshipStartDate\",\"Customer.RelationshipStartDate\",\"Customer.MaritalStatus\",\"Customer.MaritalStatus\",\"Customer.MaritalStatus\",\"Customer.MaritalStatus\",\"Customer.MaritalStatus\",\"Customer.MaritalStatus\",\"Customer.MaritalStatus\",\"Customer.MaritalStatus\",\"Customer.MaritalStatus\",\"Customer.MaritalStatus\",\"Customer.MaritalStatus\",\"Customer.MaritalStatus\",\"Customer.MaritalStatus\",\"Customer.MaritalStatus\",\"Customer.MaritalStatus\",\"Customer.MaritalStatus\",\"Customer.MaritalStatus\",\"Customer.MaritalStatus\",\"Customer.MaritalStatus\",\"Customer.MaritalStatus\",\"Customer.RiskCode\",\"Customer.RiskCode\",\"Customer.RiskCode\",\"Customer.RiskCode\",\"Customer.RiskCode\",\"Customer.RiskCode\",\"Customer.RiskCode\",\"Customer.RiskCode\",\"Customer.RiskCode\",\"Customer.RiskCode\",\"Customer.RiskCode\",\"Customer.RiskCode\",\"Customer.RiskCode\",\"Customer.RiskCode\",\"Customer.RiskCode\",\"Customer.RiskCode\",\"Customer.RiskCode\",\"Customer.RiskCode\",\"Customer.RiskCode\",\"Customer.RiskCode\",\"Customer.CLV_VALUE\",\"Customer.CLV_VALUE\",\"Customer.CLV_VALUE\",\"Customer.CLV_VALUE\",\"Customer.CLV_VALUE\",\"Customer.CLV_VALUE\",\"Customer.CLV_VALUE\",\"Customer.CLV_VALUE\",\"Customer.CLV_VALUE\",\"Customer.CLV_VALUE\",\"Customer.CLV_VALUE\",\"Customer.CLV_VALUE\",\"Customer.CLV_VALUE\",\"Customer.CLV_VALUE\",\"Customer.CLV_VALUE\",\"Customer.CLV_VALUE\",\"Customer.CLV_VALUE\",\"Customer.CLV_VALUE\",\"Customer.CLV_VALUE\",\"Customer.CLV_VALUE\",\"Customer.Age\",\"Customer.Age\",\"Customer.Age\",\"Customer.Age\",\"Customer.Age\",\"Customer.Age\",\"Customer.Age\",\"Customer.Age\",\"Customer.Age\",\"Customer.Age\",\"Customer.Age\",\"Customer.Age\",\"Customer.Age\",\"Customer.Age\",\"Customer.Age\",\"Customer.Age\",\"Customer.Age\",\"Customer.Age\",\"Customer.Age\",\"Customer.Age\",\"Customer.WinScore\",\"Customer.WinScore\",\"Customer.WinScore\",\"Customer.WinScore\",\"Customer.WinScore\",\"Customer.WinScore\",\"Customer.WinScore\",\"Customer.WinScore\",\"Customer.WinScore\",\"Customer.WinScore\",\"Customer.WinScore\",\"Customer.WinScore\",\"Customer.WinScore\",\"Customer.WinScore\",\"Customer.WinScore\",\"Customer.WinScore\",\"Customer.WinScore\",\"Customer.WinScore\",\"Customer.WinScore\",\"Customer.WinScore\",\"Customer.NetWealth\",\"Customer.NetWealth\",\"Customer.NetWealth\",\"Customer.NetWealth\",\"Customer.NetWealth\",\"Customer.NetWealth\",\"Customer.NetWealth\",\"Customer.NetWealth\",\"Customer.NetWealth\",\"Customer.NetWealth\",\"Customer.NetWealth\",\"Customer.NetWealth\",\"Customer.NetWealth\",\"Customer.NetWealth\",\"Customer.NetWealth\",\"Customer.NetWealth\",\"Customer.NetWealth\",\"Customer.NetWealth\",\"Customer.NetWealth\",\"Customer.NetWealth\",\"Customer.CreditScore\",\"Customer.CreditScore\",\"Customer.CreditScore\",\"Customer.CreditScore\",\"Customer.CreditScore\",\"Customer.CreditScore\",\"Customer.CreditScore\",\"Customer.CreditScore\",\"Customer.CreditScore\",\"Customer.CreditScore\",\"Customer.CreditScore\",\"Customer.CreditScore\",\"Customer.CreditScore\",\"Customer.CreditScore\",\"Customer.CreditScore\",\"Customer.CreditScore\",\"Customer.CreditScore\",\"Customer.CreditScore\",\"Customer.CreditScore\",\"Customer.CreditScore\",\"Customer.AnnualIncome\",\"Customer.AnnualIncome\",\"Customer.AnnualIncome\",\"Customer.AnnualIncome\",\"Customer.AnnualIncome\",\"Customer.AnnualIncome\",\"Customer.AnnualIncome\",\"Customer.AnnualIncome\",\"Customer.AnnualIncome\",\"Customer.AnnualIncome\",\"Customer.AnnualIncome\",\"Customer.AnnualIncome\",\"Customer.AnnualIncome\",\"Customer.AnnualIncome\",\"Customer.AnnualIncome\",\"Customer.AnnualIncome\",\"Customer.AnnualIncome\",\"Customer.AnnualIncome\",\"Customer.AnnualIncome\",\"Customer.AnnualIncome\"],\"y0\":\" \",\"yaxis\":\"y\",\"type\":\"box\"},{\"alignmentgroup\":\"True\",\"hovertemplate\":\"Legend=Param\\u003cbr\\u003ePerformance=%{x}\\u003cbr\\u003ePredictor Name=%{y}\\u003cextra\\u003e\\u003c\\u002fextra\\u003e\",\"legendgroup\":\"Param\",\"marker\":{\"color\":\"#F76923\"},\"name\":\"Param\",\"notched\":false,\"offsetgroup\":\"Param\",\"orientation\":\"h\",\"showlegend\":true,\"x\":[61.4975,53.736700000000006,55.212700000000005,51.3856,53.3458,56.25059999999999,55.2592,50.404700000000005,60.520399999999995,51.2269,71.8279,58.8394,50.2131,54.395700000000005,57.604299999999995,59.164300000000004,51.605199999999996,65.18969999999999,57.7999,57.5545],\"x0\":\" \",\"xaxis\":\"x\",\"y\":[\"Param.ExtGroupCreditcards\",\"Param.ExtGroupCreditcards\",\"Param.ExtGroupCreditcards\",\"Param.ExtGroupCreditcards\",\"Param.ExtGroupCreditcards\",\"Param.ExtGroupCreditcards\",\"Param.ExtGroupCreditcards\",\"Param.ExtGroupCreditcards\",\"Param.ExtGroupCreditcards\",\"Param.ExtGroupCreditcards\",\"Param.ExtGroupCreditcards\",\"Param.ExtGroupCreditcards\",\"Param.ExtGroupCreditcards\",\"Param.ExtGroupCreditcards\",\"Param.ExtGroupCreditcards\",\"Param.ExtGroupCreditcards\",\"Param.ExtGroupCreditcards\",\"Param.ExtGroupCreditcards\",\"Param.ExtGroupCreditcards\",\"Param.ExtGroupCreditcards\"],\"y0\":\" \",\"yaxis\":\"y\",\"type\":\"box\"}],                        {\"template\":{\"layout\":{\"colorway\":[\"#001F5F\",\"#10A5AC\",\"#F76923\",\"#661D34\",\"#86CAC6\",\"#005154\",\"#86CAC6\",\"#5F67B9\",\"#FFC836\",\"#E63690\",\"#AC1361\",\"#63666F\",\"#A7A9B4\",\"#D0D1DB\"],\"hovermode\":\"closest\"}},\"xaxis\":{\"anchor\":\"y\",\"domain\":[0.0,1.0],\"title\":{\"text\":\"Performance\"}},\"yaxis\":{\"anchor\":\"x\",\"domain\":[0.0,1.0],\"title\":{\"text\":\"Predictor Name\"},\"categoryorder\":\"array\",\"categoryarray\":[\"IH.Web.Inbound.Churned.pxLastOutcomeTime.DaysSince\",\"IH.Web.Inbound.Churned.pxLastGroupID\",\"IH.Web.Inbound.Loyal.pxLastGroupID\",\"Customer.OrganizationLabel\",\"IH.SMS.Outbound.Rejected.pxLastGroupID\",\"IH.Web.Inbound.Loyal.pyHistoricalOutcomeCount\",\"Customer.City\",\"Customer.BusinessSegment\",\"Customer.C_CIFNBR\",\"Param.ExtGroupCreditcards\",\"IH.Web.Inbound.Churned.pyHistoricalOutcomeCount\",\"Customer.Date_of_Birth\",\"IH.Email.Outbound.Accepted.pyHistoricalOutcomeCount\",\"Customer.RelationshipStartDate\",\"IH.Web.Inbound.Accepted.pxLastGroupID\",\"IH.SMS.Outbound.Accepted.pxLastGroupID\",\"Customer.MaritalStatus\",\"IH.Email.Outbound.Accepted.pxLastGroupID\",\"IH.Web.Inbound.Rejected.pyHistoricalOutcomeCount\",\"IH.SMS.Outbound.Rejected.pyHistoricalOutcomeCount\",\"Customer.RiskCode\",\"IH.SMS.Outbound.Accepted.pyHistoricalOutcomeCount\",\"IH.Email.Outbound.Rejected.pyHistoricalOutcomeCount\",\"IH.Web.Inbound.Accepted.pyHistoricalOutcomeCount\",\"Customer.CLV_VALUE\",\"Customer.Age\",\"Customer.WinScore\",\"Customer.NetWealth\",\"Customer.CreditScore\",\"Customer.AnnualIncome\"],\"automargin\":true,\"dtick\":1},\"legend\":{\"title\":{\"text\":\"Predictor category\"},\"tracegroupgap\":0},\"title\":{\"text\":\"Predictor PerformanceBin over all models \"},\"boxmode\":\"group\",\"boxgap\":0,\"boxgroupgap\":0},                        {\"responsive\": true}                    ).then(function(){\n",
       "                            \n",
       "var gd = document.getElementById('5836bc6b-5203-4669-a2bf-014da524d2fa');\n",
       "var x = new MutationObserver(function (mutations, observer) {{\n",
       "        var display = window.getComputedStyle(gd).display;\n",
       "        if (!display || display === 'none') {{\n",
       "            console.log([gd, 'removed!']);\n",
       "            Plotly.purge(gd);\n",
       "            observer.disconnect();\n",
       "        }}\n",
       "}});\n",
       "\n",
       "// Listen for the removal of the full notebook cells\n",
       "var notebookContainer = gd.closest('#notebook-container');\n",
       "if (notebookContainer) {{\n",
       "    x.observe(notebookContainer, {childList: true});\n",
       "}}\n",
       "\n",
       "// Listen for the clearing of the current output cell\n",
       "var outputEl = gd.closest('.output');\n",
       "if (outputEl) {{\n",
       "    x.observe(outputEl, {childList: true});\n",
       "}}\n",
       "\n",
       "                        })                };                });            </script>        </div>"
      ]
     },
     "metadata": {},
     "output_type": "display_data"
    }
   ],
   "source": [
    "data.plotPredictorPerformance(top_n=30)\n"
   ]
  },
  {
   "attachments": {},
   "cell_type": "markdown",
   "metadata": {},
   "source": [
    "## Predictor Contribution"
   ]
  },
  {
   "cell_type": "code",
   "execution_count": 8,
   "metadata": {
    "execution": {
     "iopub.execute_input": "2023-12-08T09:58:19.145459Z",
     "iopub.status.busy": "2023-12-08T09:58:19.145271Z",
     "iopub.status.idle": "2023-12-08T09:58:19.177020Z",
     "shell.execute_reply": "2023-12-08T09:58:19.176492Z"
    }
   },
   "outputs": [
    {
     "data": {
      "text/html": [
       "<div>                            <div id=\"d36df7ba-0eff-4c0d-bf1a-9a3deb28a057\" class=\"plotly-graph-div\" style=\"height:525px; width:100%;\"></div>            <script type=\"text/javascript\">                require([\"plotly\"], function(Plotly) {                    window.PLOTLYENV=window.PLOTLYENV || {};                                    if (document.getElementById(\"d36df7ba-0eff-4c0d-bf1a-9a3deb28a057\")) {                    Plotly.newPlot(                        \"d36df7ba-0eff-4c0d-bf1a-9a3deb28a057\",                        [{\"alignmentgroup\":\"True\",\"hovertemplate\":\"PredictorCategory=Customer\\u003cbr\\u003eContribution=%{x}\\u003cbr\\u003eConfiguration=%{y}\\u003cextra\\u003e\\u003c\\u002fextra\\u003e\",\"legendgroup\":\"Customer\",\"marker\":{\"color\":\"#001F5F\",\"pattern\":{\"shape\":\"\"}},\"name\":\"Customer\",\"offsetgroup\":\"Customer\",\"orientation\":\"h\",\"showlegend\":true,\"textposition\":\"auto\",\"x\":[39.01578080037275],\"xaxis\":\"x\",\"y\":[\"OmniAdaptiveModel\"],\"yaxis\":\"y\",\"type\":\"bar\"},{\"alignmentgroup\":\"True\",\"hovertemplate\":\"PredictorCategory=IH\\u003cbr\\u003eContribution=%{x}\\u003cbr\\u003eConfiguration=%{y}\\u003cextra\\u003e\\u003c\\u002fextra\\u003e\",\"legendgroup\":\"IH\",\"marker\":{\"color\":\"#10A5AC\",\"pattern\":{\"shape\":\"\"}},\"name\":\"IH\",\"offsetgroup\":\"IH\",\"orientation\":\"h\",\"showlegend\":true,\"textposition\":\"auto\",\"x\":[42.6746454736057],\"xaxis\":\"x\",\"y\":[\"OmniAdaptiveModel\"],\"yaxis\":\"y\",\"type\":\"bar\"},{\"alignmentgroup\":\"True\",\"hovertemplate\":\"PredictorCategory=Param\\u003cbr\\u003eContribution=%{x}\\u003cbr\\u003eConfiguration=%{y}\\u003cextra\\u003e\\u003c\\u002fextra\\u003e\",\"legendgroup\":\"Param\",\"marker\":{\"color\":\"#F76923\",\"pattern\":{\"shape\":\"\"}},\"name\":\"Param\",\"offsetgroup\":\"Param\",\"orientation\":\"h\",\"showlegend\":true,\"textposition\":\"auto\",\"x\":[18.30957372602155],\"xaxis\":\"x\",\"y\":[\"OmniAdaptiveModel\"],\"yaxis\":\"y\",\"type\":\"bar\"}],                        {\"template\":{\"layout\":{\"colorway\":[\"#001F5F\",\"#10A5AC\",\"#F76923\",\"#661D34\",\"#86CAC6\",\"#005154\",\"#86CAC6\",\"#5F67B9\",\"#FFC836\",\"#E63690\",\"#AC1361\",\"#63666F\",\"#A7A9B4\",\"#D0D1DB\"],\"hovermode\":\"closest\"}},\"xaxis\":{\"anchor\":\"y\",\"domain\":[0.0,1.0],\"title\":{\"text\":\"Contribution\"}},\"yaxis\":{\"anchor\":\"x\",\"domain\":[0.0,1.0],\"title\":{\"text\":\"Configuration\"}},\"legend\":{\"title\":{\"text\":\"PredictorCategory\"},\"tracegroupgap\":0},\"title\":{\"text\":\"Contribution of different sources\"},\"barmode\":\"relative\"},                        {\"responsive\": true}                    ).then(function(){\n",
       "                            \n",
       "var gd = document.getElementById('d36df7ba-0eff-4c0d-bf1a-9a3deb28a057');\n",
       "var x = new MutationObserver(function (mutations, observer) {{\n",
       "        var display = window.getComputedStyle(gd).display;\n",
       "        if (!display || display === 'none') {{\n",
       "            console.log([gd, 'removed!']);\n",
       "            Plotly.purge(gd);\n",
       "            observer.disconnect();\n",
       "        }}\n",
       "}});\n",
       "\n",
       "// Listen for the removal of the full notebook cells\n",
       "var notebookContainer = gd.closest('#notebook-container');\n",
       "if (notebookContainer) {{\n",
       "    x.observe(notebookContainer, {childList: true});\n",
       "}}\n",
       "\n",
       "// Listen for the clearing of the current output cell\n",
       "var outputEl = gd.closest('.output');\n",
       "if (outputEl) {{\n",
       "    x.observe(outputEl, {childList: true});\n",
       "}}\n",
       "\n",
       "                        })                };                });            </script>        </div>"
      ]
     },
     "metadata": {},
     "output_type": "display_data"
    }
   ],
   "source": [
    "data.plotPredictorContribution()"
   ]
  },
  {
   "cell_type": "markdown",
   "metadata": {},
   "source": [
    "## Predictor Performance Heatmap"
   ]
  },
  {
   "cell_type": "code",
   "execution_count": 9,
   "metadata": {
    "execution": {
     "iopub.execute_input": "2023-12-08T09:58:19.179263Z",
     "iopub.status.busy": "2023-12-08T09:58:19.178898Z",
     "iopub.status.idle": "2023-12-08T09:58:19.301343Z",
     "shell.execute_reply": "2023-12-08T09:58:19.300751Z"
    }
   },
   "outputs": [
    {
     "data": {
      "text/html": [
       "<div>                            <div id=\"2e64cc3b-e31d-4c68-9db7-08839ba08d0f\" class=\"plotly-graph-div\" style=\"height:525px; width:100%;\"></div>            <script type=\"text/javascript\">                require([\"plotly\"], function(Plotly) {                    window.PLOTLYENV=window.PLOTLYENV || {};                                    if (document.getElementById(\"2e64cc3b-e31d-4c68-9db7-08839ba08d0f\")) {                    Plotly.newPlot(                        \"2e64cc3b-e31d-4c68-9db7-08839ba08d0f\",                        [{\"coloraxis\":\"coloraxis\",\"name\":\"0\",\"texttemplate\":\"%{z:.1f}\",\"x\":[\"ChannelAction_Template\",\"AutoUsed60Months\",\"FirstMortgageFloat\",\"AutoUsed48Months\",\"AutoNew84Months\",\"AutoUsed36Months\",\"HomeOwners\",\"FirstMortgage\",\"FirstMortgageFHA\",\"AutoNew48Months\",\"AutoNew36Months\",\"AutoUsed84Months\",\"FirstMortgageFiveOneARM\"],\"y\":[\"Customer.AnnualIncome\",\"Customer.WinScore\",\"Customer.CreditScore\",\"Customer.NetWealth\",\"IH.Web.Inbound.Churned.pyHistoricalOutcomeCount\",\"Customer.Age\",\"Customer.MaritalStatus\",\"IH.SMS.Outbound.Accepted.pyHistoricalOutcomeCount\",\"IH.Email.Outbound.Accepted.pxLastGroupID\",\"IH.Web.Inbound.Loyal.pxLastGroupID\",\"IH.Web.Inbound.Loyal.pyHistoricalOutcomeCount\",\"IH.Email.Outbound.Accepted.pyHistoricalOutcomeCount\",\"IH.SMS.Outbound.Accepted.pxLastGroupID\",\"IH.Web.Inbound.Rejected.pyHistoricalOutcomeCount\",\"IH.SMS.Outbound.Rejected.pyHistoricalOutcomeCount\",\"IH.Web.Inbound.Accepted.pyHistoricalOutcomeCount\",\"IH.Web.Inbound.Churned.pxLastGroupID\",\"IH.Email.Outbound.Rejected.pyHistoricalOutcomeCount\",\"IH.Web.Inbound.Loyal.pxLastOutcomeTime.DaysSince\",\"Customer.CLV_VALUE\"],\"z\":[[86.3848,69.0542,50.0,63.1201,74.91409999999999,64.5449,71.921,63.8537,50.0,65.7909,50.0,62.589099999999995,50.0],[67.843,69.6095,50.0,79.5234,69.1364,62.7574,66.14,61.9755,50.0,61.677899999999994,50.0,50.0,50.0],[70.54169999999999,75.493,50.0,68.0832,67.7885,64.193,67.284,60.348,50.0,58.949600000000004,50.0,50.0,50.0],[68.10810000000001,66.4995,50.0,68.8072,72.2077,60.002900000000004,67.6933,63.6825,50.0,63.101,50.0,50.0,50.0],[60.62030000000001,59.79750000000001,71.0407,58.19800000000001,56.7851,55.0376,54.526799999999994,55.2365,64.4175,55.209399999999995,61.28940000000001,52.290800000000004,54.0076],[69.9779,67.8751,50.0,60.4753,65.5934,59.2858,59.7588,59.770999999999994,50.0,57.3139,50.0,50.0,50.0],[59.412200000000006,69.4885,50.0,63.2781,63.1562,56.7884,59.6731,56.704699999999995,50.0,57.4949,50.0,59.2558,50.0],[60.552099999999996,61.272000000000006,50.2262,63.0443,64.6274,59.5125,61.175000000000004,54.6334,50.286500000000004,55.7909,50.068900000000006,63.4209,50.1269],[66.7804,59.1166,57.5792,67.88300000000001,57.894,54.573899999999995,56.3398,53.98,53.4604,54.817499999999995,57.652800000000006,51.019400000000005,53.0076],[58.21340000000001,56.407399999999996,70.9567,53.3794,55.7871,50.674699999999994,53.107400000000005,52.88159999999999,64.6683,53.4393,64.7804,52.586,55.65989999999999],[58.796499999999995,52.643499999999996,70.9567,52.6125,57.1655,53.654,54.652100000000004,55.156400000000005,64.51400000000001,54.4977,61.2984,52.2733,53.934000000000005],[70.32509999999999,60.8391,57.5792,60.6094,60.398700000000005,56.8518,55.4017,53.37,53.4604,54.2427,52.4236,50.985,52.868],[68.4031,58.32000000000001,50.2262,59.6171,56.74550000000001,55.761300000000006,57.419399999999996,54.748799999999996,50.286500000000004,53.630599999999994,63.4496,60.3909,50.253800000000005],[57.578300000000006,63.8987,50.0,64.2375,59.5351,59.488,57.6265,57.776300000000006,50.0,58.5596,50.0,58.72730000000001,50.0],[64.3524,50.0,50.0,64.67150000000001,57.129,61.483200000000004,56.049499999999995,57.152899999999995,63.5993,57.3605,50.0,55.31270000000001,50.0],[62.9572,61.20060000000001,50.0,61.3475,65.3965,60.255,59.39919999999999,53.259,50.0,56.41929999999999,50.0258,56.7573,50.0],[59.551,52.7855,71.267,53.4612,55.576,51.0452,52.7659,52.8227,64.751,53.323100000000004,61.4359,52.9104,54.0712],[64.48129999999999,63.8127,50.0,65.2045,58.902699999999996,61.1115,57.6318,56.3731,50.0,57.999500000000005,50.0,50.0,50.0],[57.8139,52.25189999999999,70.9567,52.6125,55.8926,53.2478,52.952200000000005,52.5693,64.51400000000001,53.176,61.2984,52.2733,53.934000000000005],[56.0964,61.563599999999994,50.0,63.151,64.4263,60.260999999999996,60.130300000000005,57.8851,50.0,58.8784,50.0,50.0,50.0]],\"type\":\"heatmap\",\"xaxis\":\"x\",\"yaxis\":\"y\",\"hovertemplate\":\"PredictorName: %{y}\\u003cbr\\u003ePerformance: %{z:.2f}\\u003cbr\\u003eName: %{customdata[0]}\",\"customdata\":[[[\"ChannelAction_Template\"],[\"ChannelAction_Template\"],[\"ChannelAction_Template\"],[\"ChannelAction_Template\"],[\"ChannelAction_Template\"],[\"ChannelAction_Template\"],[\"ChannelAction_Template\"],[\"ChannelAction_Template\"],[\"ChannelAction_Template\"],[\"ChannelAction_Template\"],[\"ChannelAction_Template\"],[\"ChannelAction_Template\"],[\"ChannelAction_Template\"]],[[\"ChannelAction_Template\"],[\"ChannelAction_Template\"],[\"ChannelAction_Template\"],[\"ChannelAction_Template\"],[\"ChannelAction_Template\"],[\"ChannelAction_Template\"],[\"ChannelAction_Template\"],[\"AutoUsed60Months\"],[\"AutoUsed60Months\"],[\"AutoUsed60Months\"],[\"AutoUsed60Months\"],[\"AutoUsed60Months\"],[\"AutoUsed60Months\"]],[[\"AutoUsed60Months\"],[\"AutoUsed60Months\"],[\"AutoUsed60Months\"],[\"AutoUsed60Months\"],[\"AutoUsed60Months\"],[\"AutoUsed60Months\"],[\"AutoUsed60Months\"],[\"AutoUsed60Months\"],[\"AutoUsed60Months\"],[\"AutoUsed60Months\"],[\"AutoUsed60Months\"],[\"AutoUsed60Months\"],[\"AutoUsed60Months\"]],[[\"AutoUsed60Months\"],[\"FirstMortgageFloat\"],[\"FirstMortgageFloat\"],[\"FirstMortgageFloat\"],[\"FirstMortgageFloat\"],[\"FirstMortgageFloat\"],[\"FirstMortgageFloat\"],[\"FirstMortgageFloat\"],[\"FirstMortgageFloat\"],[\"FirstMortgageFloat\"],[\"FirstMortgageFloat\"],[\"FirstMortgageFloat\"],[\"FirstMortgageFloat\"]],[[\"FirstMortgageFloat\"],[\"FirstMortgageFloat\"],[\"FirstMortgageFloat\"],[\"FirstMortgageFloat\"],[\"FirstMortgageFloat\"],[\"FirstMortgageFloat\"],[\"FirstMortgageFloat\"],[\"FirstMortgageFloat\"],[\"AutoUsed48Months\"],[\"AutoUsed48Months\"],[\"AutoUsed48Months\"],[\"AutoUsed48Months\"],[\"AutoUsed48Months\"]],[[\"AutoUsed48Months\"],[\"AutoUsed48Months\"],[\"AutoUsed48Months\"],[\"AutoUsed48Months\"],[\"AutoUsed48Months\"],[\"AutoUsed48Months\"],[\"AutoUsed48Months\"],[\"AutoUsed48Months\"],[\"AutoUsed48Months\"],[\"AutoUsed48Months\"],[\"AutoUsed48Months\"],[\"AutoUsed48Months\"],[\"AutoUsed48Months\"]],[[\"AutoUsed48Months\"],[\"AutoUsed48Months\"],[\"AutoNew84Months\"],[\"AutoNew84Months\"],[\"AutoNew84Months\"],[\"AutoNew84Months\"],[\"AutoNew84Months\"],[\"AutoNew84Months\"],[\"AutoNew84Months\"],[\"AutoNew84Months\"],[\"AutoNew84Months\"],[\"AutoNew84Months\"],[\"AutoNew84Months\"]],[[\"AutoNew84Months\"],[\"AutoNew84Months\"],[\"AutoNew84Months\"],[\"AutoNew84Months\"],[\"AutoNew84Months\"],[\"AutoNew84Months\"],[\"AutoNew84Months\"],[\"AutoNew84Months\"],[\"AutoNew84Months\"],[\"AutoUsed36Months\"],[\"AutoUsed36Months\"],[\"AutoUsed36Months\"],[\"AutoUsed36Months\"]],[[\"AutoUsed36Months\"],[\"AutoUsed36Months\"],[\"AutoUsed36Months\"],[\"AutoUsed36Months\"],[\"AutoUsed36Months\"],[\"AutoUsed36Months\"],[\"AutoUsed36Months\"],[\"AutoUsed36Months\"],[\"AutoUsed36Months\"],[\"AutoUsed36Months\"],[\"AutoUsed36Months\"],[\"AutoUsed36Months\"],[\"AutoUsed36Months\"]],[[\"AutoUsed36Months\"],[\"AutoUsed36Months\"],[\"AutoUsed36Months\"],[\"HomeOwners\"],[\"HomeOwners\"],[\"HomeOwners\"],[\"HomeOwners\"],[\"HomeOwners\"],[\"HomeOwners\"],[\"HomeOwners\"],[\"HomeOwners\"],[\"HomeOwners\"],[\"HomeOwners\"]],[[\"HomeOwners\"],[\"HomeOwners\"],[\"HomeOwners\"],[\"HomeOwners\"],[\"HomeOwners\"],[\"HomeOwners\"],[\"HomeOwners\"],[\"HomeOwners\"],[\"HomeOwners\"],[\"HomeOwners\"],[\"FirstMortgage\"],[\"FirstMortgage\"],[\"FirstMortgage\"]],[[\"FirstMortgage\"],[\"FirstMortgage\"],[\"FirstMortgage\"],[\"FirstMortgage\"],[\"FirstMortgage\"],[\"FirstMortgage\"],[\"FirstMortgage\"],[\"FirstMortgage\"],[\"FirstMortgage\"],[\"FirstMortgage\"],[\"FirstMortgage\"],[\"FirstMortgage\"],[\"FirstMortgage\"]],[[\"FirstMortgage\"],[\"FirstMortgage\"],[\"FirstMortgage\"],[\"FirstMortgage\"],[\"FirstMortgageFHA\"],[\"FirstMortgageFHA\"],[\"FirstMortgageFHA\"],[\"FirstMortgageFHA\"],[\"FirstMortgageFHA\"],[\"FirstMortgageFHA\"],[\"FirstMortgageFHA\"],[\"FirstMortgageFHA\"],[\"FirstMortgageFHA\"]],[[\"FirstMortgageFHA\"],[\"FirstMortgageFHA\"],[\"FirstMortgageFHA\"],[\"FirstMortgageFHA\"],[\"FirstMortgageFHA\"],[\"FirstMortgageFHA\"],[\"FirstMortgageFHA\"],[\"FirstMortgageFHA\"],[\"FirstMortgageFHA\"],[\"FirstMortgageFHA\"],[\"FirstMortgageFHA\"],[\"AutoNew48Months\"],[\"AutoNew48Months\"]],[[\"AutoNew48Months\"],[\"AutoNew48Months\"],[\"AutoNew48Months\"],[\"AutoNew48Months\"],[\"AutoNew48Months\"],[\"AutoNew48Months\"],[\"AutoNew48Months\"],[\"AutoNew48Months\"],[\"AutoNew48Months\"],[\"AutoNew48Months\"],[\"AutoNew48Months\"],[\"AutoNew48Months\"],[\"AutoNew48Months\"]],[[\"AutoNew48Months\"],[\"AutoNew48Months\"],[\"AutoNew48Months\"],[\"AutoNew48Months\"],[\"AutoNew48Months\"],[\"AutoNew36Months\"],[\"AutoNew36Months\"],[\"AutoNew36Months\"],[\"AutoNew36Months\"],[\"AutoNew36Months\"],[\"AutoNew36Months\"],[\"AutoNew36Months\"],[\"AutoNew36Months\"]],[[\"AutoNew36Months\"],[\"AutoNew36Months\"],[\"AutoNew36Months\"],[\"AutoNew36Months\"],[\"AutoNew36Months\"],[\"AutoNew36Months\"],[\"AutoNew36Months\"],[\"AutoNew36Months\"],[\"AutoNew36Months\"],[\"AutoNew36Months\"],[\"AutoNew36Months\"],[\"AutoNew36Months\"],[\"AutoUsed84Months\"]],[[\"AutoUsed84Months\"],[\"AutoUsed84Months\"],[\"AutoUsed84Months\"],[\"AutoUsed84Months\"],[\"AutoUsed84Months\"],[\"AutoUsed84Months\"],[\"AutoUsed84Months\"],[\"AutoUsed84Months\"],[\"AutoUsed84Months\"],[\"AutoUsed84Months\"],[\"AutoUsed84Months\"],[\"AutoUsed84Months\"],[\"AutoUsed84Months\"]],[[\"AutoUsed84Months\"],[\"AutoUsed84Months\"],[\"AutoUsed84Months\"],[\"AutoUsed84Months\"],[\"AutoUsed84Months\"],[\"AutoUsed84Months\"],[\"FirstMortgageFiveOneARM\"],[\"FirstMortgageFiveOneARM\"],[\"FirstMortgageFiveOneARM\"],[\"FirstMortgageFiveOneARM\"],[\"FirstMortgageFiveOneARM\"],[\"FirstMortgageFiveOneARM\"],[\"FirstMortgageFiveOneARM\"]],[[\"FirstMortgageFiveOneARM\"],[\"FirstMortgageFiveOneARM\"],[\"FirstMortgageFiveOneARM\"],[\"FirstMortgageFiveOneARM\"],[\"FirstMortgageFiveOneARM\"],[\"FirstMortgageFiveOneARM\"],[\"FirstMortgageFiveOneARM\"],[\"FirstMortgageFiveOneARM\"],[\"FirstMortgageFiveOneARM\"],[\"FirstMortgageFiveOneARM\"],[\"FirstMortgageFiveOneARM\"],[\"FirstMortgageFiveOneARM\"],[\"FirstMortgageFiveOneARM\"]]]}],                        {\"template\":{\"data\":{\"histogram2dcontour\":[{\"type\":\"histogram2dcontour\",\"colorbar\":{\"outlinewidth\":0,\"ticks\":\"\"},\"colorscale\":[[0.0,\"#0d0887\"],[0.1111111111111111,\"#46039f\"],[0.2222222222222222,\"#7201a8\"],[0.3333333333333333,\"#9c179e\"],[0.4444444444444444,\"#bd3786\"],[0.5555555555555556,\"#d8576b\"],[0.6666666666666666,\"#ed7953\"],[0.7777777777777778,\"#fb9f3a\"],[0.8888888888888888,\"#fdca26\"],[1.0,\"#f0f921\"]]}],\"choropleth\":[{\"type\":\"choropleth\",\"colorbar\":{\"outlinewidth\":0,\"ticks\":\"\"}}],\"histogram2d\":[{\"type\":\"histogram2d\",\"colorbar\":{\"outlinewidth\":0,\"ticks\":\"\"},\"colorscale\":[[0.0,\"#0d0887\"],[0.1111111111111111,\"#46039f\"],[0.2222222222222222,\"#7201a8\"],[0.3333333333333333,\"#9c179e\"],[0.4444444444444444,\"#bd3786\"],[0.5555555555555556,\"#d8576b\"],[0.6666666666666666,\"#ed7953\"],[0.7777777777777778,\"#fb9f3a\"],[0.8888888888888888,\"#fdca26\"],[1.0,\"#f0f921\"]]}],\"heatmap\":[{\"type\":\"heatmap\",\"colorbar\":{\"outlinewidth\":0,\"ticks\":\"\"},\"colorscale\":[[0.0,\"#0d0887\"],[0.1111111111111111,\"#46039f\"],[0.2222222222222222,\"#7201a8\"],[0.3333333333333333,\"#9c179e\"],[0.4444444444444444,\"#bd3786\"],[0.5555555555555556,\"#d8576b\"],[0.6666666666666666,\"#ed7953\"],[0.7777777777777778,\"#fb9f3a\"],[0.8888888888888888,\"#fdca26\"],[1.0,\"#f0f921\"]]}],\"heatmapgl\":[{\"type\":\"heatmapgl\",\"colorbar\":{\"outlinewidth\":0,\"ticks\":\"\"},\"colorscale\":[[0.0,\"#0d0887\"],[0.1111111111111111,\"#46039f\"],[0.2222222222222222,\"#7201a8\"],[0.3333333333333333,\"#9c179e\"],[0.4444444444444444,\"#bd3786\"],[0.5555555555555556,\"#d8576b\"],[0.6666666666666666,\"#ed7953\"],[0.7777777777777778,\"#fb9f3a\"],[0.8888888888888888,\"#fdca26\"],[1.0,\"#f0f921\"]]}],\"contourcarpet\":[{\"type\":\"contourcarpet\",\"colorbar\":{\"outlinewidth\":0,\"ticks\":\"\"}}],\"contour\":[{\"type\":\"contour\",\"colorbar\":{\"outlinewidth\":0,\"ticks\":\"\"},\"colorscale\":[[0.0,\"#0d0887\"],[0.1111111111111111,\"#46039f\"],[0.2222222222222222,\"#7201a8\"],[0.3333333333333333,\"#9c179e\"],[0.4444444444444444,\"#bd3786\"],[0.5555555555555556,\"#d8576b\"],[0.6666666666666666,\"#ed7953\"],[0.7777777777777778,\"#fb9f3a\"],[0.8888888888888888,\"#fdca26\"],[1.0,\"#f0f921\"]]}],\"surface\":[{\"type\":\"surface\",\"colorbar\":{\"outlinewidth\":0,\"ticks\":\"\"},\"colorscale\":[[0.0,\"#0d0887\"],[0.1111111111111111,\"#46039f\"],[0.2222222222222222,\"#7201a8\"],[0.3333333333333333,\"#9c179e\"],[0.4444444444444444,\"#bd3786\"],[0.5555555555555556,\"#d8576b\"],[0.6666666666666666,\"#ed7953\"],[0.7777777777777778,\"#fb9f3a\"],[0.8888888888888888,\"#fdca26\"],[1.0,\"#f0f921\"]]}],\"mesh3d\":[{\"type\":\"mesh3d\",\"colorbar\":{\"outlinewidth\":0,\"ticks\":\"\"}}],\"scatter\":[{\"fillpattern\":{\"fillmode\":\"overlay\",\"size\":10,\"solidity\":0.2},\"type\":\"scatter\"}],\"parcoords\":[{\"type\":\"parcoords\",\"line\":{\"colorbar\":{\"outlinewidth\":0,\"ticks\":\"\"}}}],\"scatterpolargl\":[{\"type\":\"scatterpolargl\",\"marker\":{\"colorbar\":{\"outlinewidth\":0,\"ticks\":\"\"}}}],\"bar\":[{\"error_x\":{\"color\":\"#2a3f5f\"},\"error_y\":{\"color\":\"#2a3f5f\"},\"marker\":{\"line\":{\"color\":\"#E5ECF6\",\"width\":0.5},\"pattern\":{\"fillmode\":\"overlay\",\"size\":10,\"solidity\":0.2}},\"type\":\"bar\"}],\"scattergeo\":[{\"type\":\"scattergeo\",\"marker\":{\"colorbar\":{\"outlinewidth\":0,\"ticks\":\"\"}}}],\"scatterpolar\":[{\"type\":\"scatterpolar\",\"marker\":{\"colorbar\":{\"outlinewidth\":0,\"ticks\":\"\"}}}],\"histogram\":[{\"marker\":{\"pattern\":{\"fillmode\":\"overlay\",\"size\":10,\"solidity\":0.2}},\"type\":\"histogram\"}],\"scattergl\":[{\"type\":\"scattergl\",\"marker\":{\"colorbar\":{\"outlinewidth\":0,\"ticks\":\"\"}}}],\"scatter3d\":[{\"type\":\"scatter3d\",\"line\":{\"colorbar\":{\"outlinewidth\":0,\"ticks\":\"\"}},\"marker\":{\"colorbar\":{\"outlinewidth\":0,\"ticks\":\"\"}}}],\"scattermapbox\":[{\"type\":\"scattermapbox\",\"marker\":{\"colorbar\":{\"outlinewidth\":0,\"ticks\":\"\"}}}],\"scatterternary\":[{\"type\":\"scatterternary\",\"marker\":{\"colorbar\":{\"outlinewidth\":0,\"ticks\":\"\"}}}],\"scattercarpet\":[{\"type\":\"scattercarpet\",\"marker\":{\"colorbar\":{\"outlinewidth\":0,\"ticks\":\"\"}}}],\"carpet\":[{\"aaxis\":{\"endlinecolor\":\"#2a3f5f\",\"gridcolor\":\"white\",\"linecolor\":\"white\",\"minorgridcolor\":\"white\",\"startlinecolor\":\"#2a3f5f\"},\"baxis\":{\"endlinecolor\":\"#2a3f5f\",\"gridcolor\":\"white\",\"linecolor\":\"white\",\"minorgridcolor\":\"white\",\"startlinecolor\":\"#2a3f5f\"},\"type\":\"carpet\"}],\"table\":[{\"cells\":{\"fill\":{\"color\":\"#EBF0F8\"},\"line\":{\"color\":\"white\"}},\"header\":{\"fill\":{\"color\":\"#C8D4E3\"},\"line\":{\"color\":\"white\"}},\"type\":\"table\"}],\"barpolar\":[{\"marker\":{\"line\":{\"color\":\"#E5ECF6\",\"width\":0.5},\"pattern\":{\"fillmode\":\"overlay\",\"size\":10,\"solidity\":0.2}},\"type\":\"barpolar\"}],\"pie\":[{\"automargin\":true,\"type\":\"pie\"}]},\"layout\":{\"autotypenumbers\":\"strict\",\"colorway\":[\"#636efa\",\"#EF553B\",\"#00cc96\",\"#ab63fa\",\"#FFA15A\",\"#19d3f3\",\"#FF6692\",\"#B6E880\",\"#FF97FF\",\"#FECB52\"],\"font\":{\"color\":\"#2a3f5f\"},\"hovermode\":\"closest\",\"hoverlabel\":{\"align\":\"left\"},\"paper_bgcolor\":\"white\",\"plot_bgcolor\":\"#E5ECF6\",\"polar\":{\"bgcolor\":\"#E5ECF6\",\"angularaxis\":{\"gridcolor\":\"white\",\"linecolor\":\"white\",\"ticks\":\"\"},\"radialaxis\":{\"gridcolor\":\"white\",\"linecolor\":\"white\",\"ticks\":\"\"}},\"ternary\":{\"bgcolor\":\"#E5ECF6\",\"aaxis\":{\"gridcolor\":\"white\",\"linecolor\":\"white\",\"ticks\":\"\"},\"baxis\":{\"gridcolor\":\"white\",\"linecolor\":\"white\",\"ticks\":\"\"},\"caxis\":{\"gridcolor\":\"white\",\"linecolor\":\"white\",\"ticks\":\"\"}},\"coloraxis\":{\"colorbar\":{\"outlinewidth\":0,\"ticks\":\"\"}},\"colorscale\":{\"sequential\":[[0.0,\"#0d0887\"],[0.1111111111111111,\"#46039f\"],[0.2222222222222222,\"#7201a8\"],[0.3333333333333333,\"#9c179e\"],[0.4444444444444444,\"#bd3786\"],[0.5555555555555556,\"#d8576b\"],[0.6666666666666666,\"#ed7953\"],[0.7777777777777778,\"#fb9f3a\"],[0.8888888888888888,\"#fdca26\"],[1.0,\"#f0f921\"]],\"sequentialminus\":[[0.0,\"#0d0887\"],[0.1111111111111111,\"#46039f\"],[0.2222222222222222,\"#7201a8\"],[0.3333333333333333,\"#9c179e\"],[0.4444444444444444,\"#bd3786\"],[0.5555555555555556,\"#d8576b\"],[0.6666666666666666,\"#ed7953\"],[0.7777777777777778,\"#fb9f3a\"],[0.8888888888888888,\"#fdca26\"],[1.0,\"#f0f921\"]],\"diverging\":[[0,\"#8e0152\"],[0.1,\"#c51b7d\"],[0.2,\"#de77ae\"],[0.3,\"#f1b6da\"],[0.4,\"#fde0ef\"],[0.5,\"#f7f7f7\"],[0.6,\"#e6f5d0\"],[0.7,\"#b8e186\"],[0.8,\"#7fbc41\"],[0.9,\"#4d9221\"],[1,\"#276419\"]]},\"xaxis\":{\"gridcolor\":\"white\",\"linecolor\":\"white\",\"ticks\":\"\",\"title\":{\"standoff\":15},\"zerolinecolor\":\"white\",\"automargin\":true,\"zerolinewidth\":2},\"yaxis\":{\"gridcolor\":\"white\",\"linecolor\":\"white\",\"ticks\":\"\",\"title\":{\"standoff\":15},\"zerolinecolor\":\"white\",\"automargin\":true,\"zerolinewidth\":2},\"scene\":{\"xaxis\":{\"backgroundcolor\":\"#E5ECF6\",\"gridcolor\":\"white\",\"linecolor\":\"white\",\"showbackground\":true,\"ticks\":\"\",\"zerolinecolor\":\"white\",\"gridwidth\":2},\"yaxis\":{\"backgroundcolor\":\"#E5ECF6\",\"gridcolor\":\"white\",\"linecolor\":\"white\",\"showbackground\":true,\"ticks\":\"\",\"zerolinecolor\":\"white\",\"gridwidth\":2},\"zaxis\":{\"backgroundcolor\":\"#E5ECF6\",\"gridcolor\":\"white\",\"linecolor\":\"white\",\"showbackground\":true,\"ticks\":\"\",\"zerolinecolor\":\"white\",\"gridwidth\":2}},\"shapedefaults\":{\"line\":{\"color\":\"#2a3f5f\"}},\"annotationdefaults\":{\"arrowcolor\":\"#2a3f5f\",\"arrowhead\":0,\"arrowwidth\":1},\"geo\":{\"bgcolor\":\"white\",\"landcolor\":\"#E5ECF6\",\"subunitcolor\":\"white\",\"showland\":true,\"showlakes\":true,\"lakecolor\":\"white\"},\"title\":{\"x\":0.05},\"mapbox\":{\"style\":\"light\"}}},\"xaxis\":{\"anchor\":\"y\",\"domain\":[0.0,1.0],\"title\":{\"text\":\"Name\"},\"dtick\":1},\"yaxis\":{\"anchor\":\"x\",\"domain\":[0.0,1.0],\"autorange\":\"reversed\",\"dtick\":1,\"automargin\":true},\"coloraxis\":{\"colorscale\":[[0,\"#d91c29\"],[0.01,\"#F76923\"],[0.3,\"#20aa50\"],[0.8,\"#20aa50\"],[1,\"#0000FF\"]],\"cmin\":50,\"cmax\":100},\"title\":{\"text\":\"Top predictors over all models \"}},                        {\"responsive\": true}                    ).then(function(){\n",
       "                            \n",
       "var gd = document.getElementById('2e64cc3b-e31d-4c68-9db7-08839ba08d0f');\n",
       "var x = new MutationObserver(function (mutations, observer) {{\n",
       "        var display = window.getComputedStyle(gd).display;\n",
       "        if (!display || display === 'none') {{\n",
       "            console.log([gd, 'removed!']);\n",
       "            Plotly.purge(gd);\n",
       "            observer.disconnect();\n",
       "        }}\n",
       "}});\n",
       "\n",
       "// Listen for the removal of the full notebook cells\n",
       "var notebookContainer = gd.closest('#notebook-container');\n",
       "if (notebookContainer) {{\n",
       "    x.observe(notebookContainer, {childList: true});\n",
       "}}\n",
       "\n",
       "// Listen for the clearing of the current output cell\n",
       "var outputEl = gd.closest('.output');\n",
       "if (outputEl) {{\n",
       "    x.observe(outputEl, {childList: true});\n",
       "}}\n",
       "\n",
       "                        })                };                });            </script>        </div>"
      ]
     },
     "metadata": {},
     "output_type": "display_data"
    }
   ],
   "source": [
    "data.plotPredictorPerformanceHeatmap(top_n=20)\n"
   ]
  },
  {
   "cell_type": "markdown",
   "metadata": {},
   "source": [
    "## Proposition Success Rates"
   ]
  },
  {
   "cell_type": "code",
   "execution_count": 10,
   "metadata": {
    "execution": {
     "iopub.execute_input": "2023-12-08T09:58:19.303687Z",
     "iopub.status.busy": "2023-12-08T09:58:19.303312Z",
     "iopub.status.idle": "2023-12-08T09:58:19.381014Z",
     "shell.execute_reply": "2023-12-08T09:58:19.380409Z"
    }
   },
   "outputs": [
    {
     "name": "stderr",
     "output_type": "stream",
     "text": [
      "The predicate 'col(\"SuccessRate\").std().is_not_nan()' in 'when->then->otherwise' is not a valid aggregation and might produce a different number of rows than the group_by operation would. This behavior is experimental and may be subject to change\n"
     ]
    },
    {
     "data": {
      "text/html": [
       "<div>                            <div id=\"d0881f5f-6de7-4925-a51b-0f0785379744\" class=\"plotly-graph-div\" style=\"height:525px; width:100%;\"></div>            <script type=\"text/javascript\">                require([\"plotly\"], function(Plotly) {                    window.PLOTLYENV=window.PLOTLYENV || {};                                    if (document.getElementById(\"d0881f5f-6de7-4925-a51b-0f0785379744\")) {                    Plotly.newPlot(                        \"d0881f5f-6de7-4925-a51b-0f0785379744\",                        [{\"alignmentgroup\":\"True\",\"bingroup\":\"y\",\"histfunc\":\"avg\",\"hovertemplate\":\"Name=%{y}\\u003cbr\\u003eavg of SuccessRate=%{x}\\u003cextra\\u003e\\u003c\\u002fextra\\u003e\",\"legendgroup\":\"FirstMortgage\",\"marker\":{\"color\":\"#001F5F\",\"pattern\":{\"shape\":\"\"}},\"name\":\"FirstMortgage\",\"offsetgroup\":\"FirstMortgage\",\"orientation\":\"h\",\"showlegend\":true,\"x\":[0.22154071927070618],\"xaxis\":\"x\",\"y\":[\"FirstMortgage\"],\"yaxis\":\"y\",\"type\":\"histogram\",\"error_x\":{\"array\":[null],\"valueminus\":0}},{\"alignmentgroup\":\"True\",\"bingroup\":\"y\",\"histfunc\":\"avg\",\"hovertemplate\":\"Name=%{y}\\u003cbr\\u003eavg of SuccessRate=%{x}\\u003cextra\\u003e\\u003c\\u002fextra\\u003e\",\"legendgroup\":\"MasterCardGold\",\"marker\":{\"color\":\"#10A5AC\",\"pattern\":{\"shape\":\"\"}},\"name\":\"MasterCardGold\",\"offsetgroup\":\"MasterCardGold\",\"orientation\":\"h\",\"showlegend\":true,\"x\":[0.021556885913014412],\"xaxis\":\"x\",\"y\":[\"MasterCardGold\"],\"yaxis\":\"y\",\"type\":\"histogram\",\"error_x\":{\"array\":[null],\"valueminus\":0}},{\"alignmentgroup\":\"True\",\"bingroup\":\"y\",\"histfunc\":\"avg\",\"hovertemplate\":\"Name=%{y}\\u003cbr\\u003eavg of SuccessRate=%{x}\\u003cextra\\u003e\\u003c\\u002fextra\\u003e\",\"legendgroup\":\"PremierChecking\",\"marker\":{\"color\":\"#F76923\",\"pattern\":{\"shape\":\"\"}},\"name\":\"PremierChecking\",\"offsetgroup\":\"PremierChecking\",\"orientation\":\"h\",\"showlegend\":true,\"x\":[0.27770209312438965],\"xaxis\":\"x\",\"y\":[\"PremierChecking\"],\"yaxis\":\"y\",\"type\":\"histogram\",\"error_x\":{\"array\":[null],\"valueminus\":0}},{\"alignmentgroup\":\"True\",\"bingroup\":\"y\",\"histfunc\":\"avg\",\"hovertemplate\":\"Name=%{y}\\u003cbr\\u003eavg of SuccessRate=%{x}\\u003cextra\\u003e\\u003c\\u002fextra\\u003e\",\"legendgroup\":\"IncreaseYourCreditLine\",\"marker\":{\"color\":\"#661D34\",\"pattern\":{\"shape\":\"\"}},\"name\":\"IncreaseYourCreditLine\",\"offsetgroup\":\"IncreaseYourCreditLine\",\"orientation\":\"h\",\"showlegend\":true,\"x\":[0.04187915474176407],\"xaxis\":\"x\",\"y\":[\"IncreaseYourCreditLine\"],\"yaxis\":\"y\",\"type\":\"histogram\",\"error_x\":{\"array\":[null],\"valueminus\":0}},{\"alignmentgroup\":\"True\",\"bingroup\":\"y\",\"histfunc\":\"avg\",\"hovertemplate\":\"Name=%{y}\\u003cbr\\u003eavg of SuccessRate=%{x}\\u003cextra\\u003e\\u003c\\u002fextra\\u003e\",\"legendgroup\":\"PlatinumRewardsCard\",\"marker\":{\"color\":\"#86CAC6\",\"pattern\":{\"shape\":\"\"}},\"name\":\"PlatinumRewardsCard\",\"offsetgroup\":\"PlatinumRewardsCard\",\"orientation\":\"h\",\"showlegend\":true,\"x\":[0.01543550193309784],\"xaxis\":\"x\",\"y\":[\"PlatinumRewardsCard\"],\"yaxis\":\"y\",\"type\":\"histogram\",\"error_x\":{\"array\":[null],\"valueminus\":0}},{\"alignmentgroup\":\"True\",\"bingroup\":\"y\",\"histfunc\":\"avg\",\"hovertemplate\":\"Name=%{y}\\u003cbr\\u003eavg of SuccessRate=%{x}\\u003cextra\\u003e\\u003c\\u002fextra\\u003e\",\"legendgroup\":\"FirstMortgageFloat\",\"marker\":{\"color\":\"#005154\",\"pattern\":{\"shape\":\"\"}},\"name\":\"FirstMortgageFloat\",\"offsetgroup\":\"FirstMortgageFloat\",\"orientation\":\"h\",\"showlegend\":true,\"x\":[0.025096524506807327],\"xaxis\":\"x\",\"y\":[\"FirstMortgageFloat\"],\"yaxis\":\"y\",\"type\":\"histogram\",\"error_x\":{\"array\":[null],\"valueminus\":0}},{\"alignmentgroup\":\"True\",\"bingroup\":\"y\",\"histfunc\":\"avg\",\"hovertemplate\":\"Name=%{y}\\u003cbr\\u003eavg of SuccessRate=%{x}\\u003cextra\\u003e\\u003c\\u002fextra\\u003e\",\"legendgroup\":\"MoneyMarketSavingsAccount\",\"marker\":{\"color\":\"#86CAC6\",\"pattern\":{\"shape\":\"\"}},\"name\":\"MoneyMarketSavingsAccount\",\"offsetgroup\":\"MoneyMarketSavingsAccount\",\"orientation\":\"h\",\"showlegend\":true,\"x\":[0.09121061116456985],\"xaxis\":\"x\",\"y\":[\"MoneyMarketSavingsAccount\"],\"yaxis\":\"y\",\"type\":\"histogram\",\"error_x\":{\"array\":[null],\"valueminus\":0}},{\"alignmentgroup\":\"True\",\"bingroup\":\"y\",\"histfunc\":\"avg\",\"hovertemplate\":\"Name=%{y}\\u003cbr\\u003eavg of SuccessRate=%{x}\\u003cextra\\u003e\\u003c\\u002fextra\\u003e\",\"legendgroup\":\"UPlusFinGold\",\"marker\":{\"color\":\"#5F67B9\",\"pattern\":{\"shape\":\"\"}},\"name\":\"UPlusFinGold\",\"offsetgroup\":\"UPlusFinGold\",\"orientation\":\"h\",\"showlegend\":true,\"x\":[0.05930851027369499],\"xaxis\":\"x\",\"y\":[\"UPlusFinGold\"],\"yaxis\":\"y\",\"type\":\"histogram\",\"error_x\":{\"array\":[null],\"valueminus\":0}},{\"alignmentgroup\":\"True\",\"bingroup\":\"y\",\"histfunc\":\"avg\",\"hovertemplate\":\"Name=%{y}\\u003cbr\\u003eavg of SuccessRate=%{x}\\u003cextra\\u003e\\u003c\\u002fextra\\u003e\",\"legendgroup\":\"PremiumBanking\",\"marker\":{\"color\":\"#FFC836\",\"pattern\":{\"shape\":\"\"}},\"name\":\"PremiumBanking\",\"offsetgroup\":\"PremiumBanking\",\"orientation\":\"h\",\"showlegend\":true,\"x\":[0.019513137638568878],\"xaxis\":\"x\",\"y\":[\"PremiumBanking\"],\"yaxis\":\"y\",\"type\":\"histogram\",\"error_x\":{\"array\":[null],\"valueminus\":0}},{\"alignmentgroup\":\"True\",\"bingroup\":\"y\",\"histfunc\":\"avg\",\"hovertemplate\":\"Name=%{y}\\u003cbr\\u003eavg of SuccessRate=%{x}\\u003cextra\\u003e\\u003c\\u002fextra\\u003e\",\"legendgroup\":\"HomeOwners\",\"marker\":{\"color\":\"#E63690\",\"pattern\":{\"shape\":\"\"}},\"name\":\"HomeOwners\",\"offsetgroup\":\"HomeOwners\",\"orientation\":\"h\",\"showlegend\":true,\"x\":[0.13224755227565765],\"xaxis\":\"x\",\"y\":[\"HomeOwners\"],\"yaxis\":\"y\",\"type\":\"histogram\",\"error_x\":{\"array\":[null],\"valueminus\":0}},{\"alignmentgroup\":\"True\",\"bingroup\":\"y\",\"histfunc\":\"avg\",\"hovertemplate\":\"Name=%{y}\\u003cbr\\u003eavg of SuccessRate=%{x}\\u003cextra\\u003e\\u003c\\u002fextra\\u003e\",\"legendgroup\":\"AutoNew84Months\",\"marker\":{\"color\":\"#AC1361\",\"pattern\":{\"shape\":\"\"}},\"name\":\"AutoNew84Months\",\"offsetgroup\":\"AutoNew84Months\",\"orientation\":\"h\",\"showlegend\":true,\"x\":[0.12591686844825745],\"xaxis\":\"x\",\"y\":[\"AutoNew84Months\"],\"yaxis\":\"y\",\"type\":\"histogram\",\"error_x\":{\"array\":[null],\"valueminus\":0}},{\"alignmentgroup\":\"True\",\"bingroup\":\"y\",\"histfunc\":\"avg\",\"hovertemplate\":\"Name=%{y}\\u003cbr\\u003eavg of SuccessRate=%{x}\\u003cextra\\u003e\\u003c\\u002fextra\\u003e\",\"legendgroup\":\"PaymentProtection\",\"marker\":{\"color\":\"#63666F\",\"pattern\":{\"shape\":\"\"}},\"name\":\"PaymentProtection\",\"offsetgroup\":\"PaymentProtection\",\"orientation\":\"h\",\"showlegend\":true,\"x\":[0.25072887539863586],\"xaxis\":\"x\",\"y\":[\"PaymentProtection\"],\"yaxis\":\"y\",\"type\":\"histogram\",\"error_x\":{\"array\":[null],\"valueminus\":0}},{\"alignmentgroup\":\"True\",\"bingroup\":\"y\",\"histfunc\":\"avg\",\"hovertemplate\":\"Name=%{y}\\u003cbr\\u003eavg of SuccessRate=%{x}\\u003cextra\\u003e\\u003c\\u002fextra\\u003e\",\"legendgroup\":\"SeniorChecking\",\"marker\":{\"color\":\"#A7A9B4\",\"pattern\":{\"shape\":\"\"}},\"name\":\"SeniorChecking\",\"offsetgroup\":\"SeniorChecking\",\"orientation\":\"h\",\"showlegend\":true,\"x\":[0.19014550745487213],\"xaxis\":\"x\",\"y\":[\"SeniorChecking\"],\"yaxis\":\"y\",\"type\":\"histogram\",\"error_x\":{\"array\":[null],\"valueminus\":0}},{\"alignmentgroup\":\"True\",\"bingroup\":\"y\",\"histfunc\":\"avg\",\"hovertemplate\":\"Name=%{y}\\u003cbr\\u003eavg of SuccessRate=%{x}\\u003cextra\\u003e\\u003c\\u002fextra\\u003e\",\"legendgroup\":\"SuperSaver\",\"marker\":{\"color\":\"#D0D1DB\",\"pattern\":{\"shape\":\"\"}},\"name\":\"SuperSaver\",\"offsetgroup\":\"SuperSaver\",\"orientation\":\"h\",\"showlegend\":true,\"x\":[0.0883977934718132],\"xaxis\":\"x\",\"y\":[\"SuperSaver\"],\"yaxis\":\"y\",\"type\":\"histogram\",\"error_x\":{\"array\":[null],\"valueminus\":0}},{\"alignmentgroup\":\"True\",\"bingroup\":\"y\",\"histfunc\":\"avg\",\"hovertemplate\":\"Name=%{y}\\u003cbr\\u003eavg of SuccessRate=%{x}\\u003cextra\\u003e\\u003c\\u002fextra\\u003e\",\"legendgroup\":\"FirstMortgageFiveOneARM\",\"marker\":{\"color\":\"#001F5F\",\"pattern\":{\"shape\":\"\"}},\"name\":\"FirstMortgageFiveOneARM\",\"offsetgroup\":\"FirstMortgageFiveOneARM\",\"orientation\":\"h\",\"showlegend\":true,\"x\":[0.1737193763256073],\"xaxis\":\"x\",\"y\":[\"FirstMortgageFiveOneARM\"],\"yaxis\":\"y\",\"type\":\"histogram\",\"error_x\":{\"array\":[null],\"valueminus\":0}},{\"alignmentgroup\":\"True\",\"bingroup\":\"y\",\"histfunc\":\"avg\",\"hovertemplate\":\"Name=%{y}\\u003cbr\\u003eavg of SuccessRate=%{x}\\u003cextra\\u003e\\u003c\\u002fextra\\u003e\",\"legendgroup\":\"AutoUsed36Months\",\"marker\":{\"color\":\"#10A5AC\",\"pattern\":{\"shape\":\"\"}},\"name\":\"AutoUsed36Months\",\"offsetgroup\":\"AutoUsed36Months\",\"orientation\":\"h\",\"showlegend\":true,\"x\":[0.10248815268278122],\"xaxis\":\"x\",\"y\":[\"AutoUsed36Months\"],\"yaxis\":\"y\",\"type\":\"histogram\",\"error_x\":{\"array\":[null],\"valueminus\":0}},{\"alignmentgroup\":\"True\",\"bingroup\":\"y\",\"histfunc\":\"avg\",\"hovertemplate\":\"Name=%{y}\\u003cbr\\u003eavg of SuccessRate=%{x}\\u003cextra\\u003e\\u003c\\u002fextra\\u003e\",\"legendgroup\":\"VisaGold\",\"marker\":{\"color\":\"#F76923\",\"pattern\":{\"shape\":\"\"}},\"name\":\"VisaGold\",\"offsetgroup\":\"VisaGold\",\"orientation\":\"h\",\"showlegend\":true,\"x\":[0.05912596359848976],\"xaxis\":\"x\",\"y\":[\"VisaGold\"],\"yaxis\":\"y\",\"type\":\"histogram\",\"error_x\":{\"array\":[null],\"valueminus\":0}},{\"alignmentgroup\":\"True\",\"bingroup\":\"y\",\"histfunc\":\"avg\",\"hovertemplate\":\"Name=%{y}\\u003cbr\\u003eavg of SuccessRate=%{x}\\u003cextra\\u003e\\u003c\\u002fextra\\u003e\",\"legendgroup\":\"Services_ChannelAction_Template\",\"marker\":{\"color\":\"#661D34\",\"pattern\":{\"shape\":\"\"}},\"name\":\"Services_ChannelAction_Template\",\"offsetgroup\":\"Services_ChannelAction_Template\",\"orientation\":\"h\",\"showlegend\":true,\"x\":[0.05089778080582619],\"xaxis\":\"x\",\"y\":[\"Services_ChannelAction_Template\"],\"yaxis\":\"y\",\"type\":\"histogram\",\"error_x\":{\"array\":[null],\"valueminus\":0}},{\"alignmentgroup\":\"True\",\"bingroup\":\"y\",\"histfunc\":\"avg\",\"hovertemplate\":\"Name=%{y}\\u003cbr\\u003eavg of SuccessRate=%{x}\\u003cextra\\u003e\\u003c\\u002fextra\\u003e\",\"legendgroup\":\"AutoNew36Months\",\"marker\":{\"color\":\"#86CAC6\",\"pattern\":{\"shape\":\"\"}},\"name\":\"AutoNew36Months\",\"offsetgroup\":\"AutoNew36Months\",\"orientation\":\"h\",\"showlegend\":true,\"x\":[0.024913620203733444],\"xaxis\":\"x\",\"y\":[\"AutoNew36Months\"],\"yaxis\":\"y\",\"type\":\"histogram\",\"error_x\":{\"array\":[null],\"valueminus\":0}}],                        {\"template\":{\"layout\":{\"colorway\":[\"#001F5F\",\"#10A5AC\",\"#F76923\",\"#661D34\",\"#86CAC6\",\"#005154\",\"#86CAC6\",\"#5F67B9\",\"#FFC836\",\"#E63690\",\"#AC1361\",\"#63666F\",\"#A7A9B4\",\"#D0D1DB\"],\"hovermode\":\"closest\"}},\"xaxis\":{\"anchor\":\"y\",\"domain\":[0.0,1.0],\"title\":{\"text\":\"avg of SuccessRate\"}},\"yaxis\":{\"anchor\":\"x\",\"domain\":[0.0,1.0],\"title\":{\"text\":\"Name\"},\"categoryorder\":\"total ascending\",\"categoryarray\":[\"AutoNew36Months\",\"Services_ChannelAction_Template\",\"VisaGold\",\"AutoUsed36Months\",\"FirstMortgageFiveOneARM\",\"SuperSaver\",\"SeniorChecking\",\"PaymentProtection\",\"AutoNew84Months\",\"HomeOwners\",\"PremiumBanking\",\"UPlusFinGold\",\"MoneyMarketSavingsAccount\",\"FirstMortgageFloat\",\"PlatinumRewardsCard\",\"IncreaseYourCreditLine\",\"PremierChecking\",\"MasterCardGold\",\"FirstMortgage\"],\"dtick\":1,\"automargin\":true},\"legend\":{\"title\":{\"text\":\"Name\"},\"tracegroupgap\":0},\"title\":{\"text\":\"SuccessRate of each proposition over all models \\u003cbr\\u003e\\u003csup\\u003eQuery: [(col(\\\"Channel\\\")) == (Utf8(Web))]\\u003c\\u002fsup\\u003e\"},\"barmode\":\"relative\",\"showlegend\":false},                        {\"responsive\": true}                    ).then(function(){\n",
       "                            \n",
       "var gd = document.getElementById('d0881f5f-6de7-4925-a51b-0f0785379744');\n",
       "var x = new MutationObserver(function (mutations, observer) {{\n",
       "        var display = window.getComputedStyle(gd).display;\n",
       "        if (!display || display === 'none') {{\n",
       "            console.log([gd, 'removed!']);\n",
       "            Plotly.purge(gd);\n",
       "            observer.disconnect();\n",
       "        }}\n",
       "}});\n",
       "\n",
       "// Listen for the removal of the full notebook cells\n",
       "var notebookContainer = gd.closest('#notebook-container');\n",
       "if (notebookContainer) {{\n",
       "    x.observe(notebookContainer, {childList: true});\n",
       "}}\n",
       "\n",
       "// Listen for the clearing of the current output cell\n",
       "var outputEl = gd.closest('.output');\n",
       "if (outputEl) {{\n",
       "    x.observe(outputEl, {childList: true});\n",
       "}}\n",
       "\n",
       "                        })                };                });            </script>        </div>"
      ]
     },
     "metadata": {},
     "output_type": "display_data"
    }
   ],
   "source": [
    "data.plotPropositionSuccessRates(query=pl.col(\"Channel\") == \"Web\")\n"
   ]
  },
  {
   "cell_type": "markdown",
   "metadata": {},
   "source": [
    "## Response Gain"
   ]
  },
  {
   "cell_type": "code",
   "execution_count": 11,
   "metadata": {
    "execution": {
     "iopub.execute_input": "2023-12-08T09:58:19.383149Z",
     "iopub.status.busy": "2023-12-08T09:58:19.382958Z",
     "iopub.status.idle": "2023-12-08T09:58:19.411460Z",
     "shell.execute_reply": "2023-12-08T09:58:19.410903Z"
    }
   },
   "outputs": [
    {
     "data": {
      "text/html": [
       "<div>                            <div id=\"7e6df4c1-cc70-4b15-8b7f-bb7c6db9b147\" class=\"plotly-graph-div\" style=\"height:525px; width:100%;\"></div>            <script type=\"text/javascript\">                require([\"plotly\"], function(Plotly) {                    window.PLOTLYENV=window.PLOTLYENV || {};                                    if (document.getElementById(\"7e6df4c1-cc70-4b15-8b7f-bb7c6db9b147\")) {                    Plotly.newPlot(                        \"7e6df4c1-cc70-4b15-8b7f-bb7c6db9b147\",                        [{\"hovertemplate\":\"Channel=Email\\u003cbr\\u003ePercentage of Models=%{x}\\u003cbr\\u003ePercentage of Responses=%{y}\\u003cextra\\u003e\\u003c\\u002fextra\\u003e\",\"legendgroup\":\"Email\",\"line\":{\"color\":\"#001F5F\",\"dash\":\"solid\"},\"marker\":{\"symbol\":\"circle\"},\"mode\":\"lines\",\"name\":\"Email\",\"orientation\":\"v\",\"showlegend\":true,\"x\":[0.045454545454545456,0.09090909090909091,0.13636363636363635,0.18181818181818182,0.22727272727272727,0.2727272727272727,0.3181818181818182,0.36363636363636365,0.4090909090909091,0.45454545454545453,0.5,0.5454545454545454,0.5909090909090909,0.6363636363636364,0.6818181818181818,0.7272727272727273,0.7727272727272727,0.8181818181818182,0.8636363636363636,0.9090909090909091,0.9545454545454546,1.0],\"xaxis\":\"x\",\"y\":[0.13098160922527313,0.23373548686504364,0.32965323328971863,0.42156118154525757,0.513380765914917,0.5817067623138428,0.6443270444869995,0.7062938213348389,0.7655579447746277,0.8164844512939453,0.8408259749412537,0.8627828359603882,0.883697509765625,0.9030576944351196,0.9219409823417664,0.9394110441207886,0.954867422580719,0.9691402912139893,0.9786260724067688,0.9864690899848938,0.9936054944992065,1.0],\"yaxis\":\"y\",\"type\":\"scatter\"},{\"hovertemplate\":\"Channel=SMS\\u003cbr\\u003ePercentage of Models=%{x}\\u003cbr\\u003ePercentage of Responses=%{y}\\u003cextra\\u003e\\u003c\\u002fextra\\u003e\",\"legendgroup\":\"SMS\",\"line\":{\"color\":\"#10A5AC\",\"dash\":\"solid\"},\"marker\":{\"symbol\":\"circle\"},\"mode\":\"lines\",\"name\":\"SMS\",\"orientation\":\"v\",\"showlegend\":true,\"x\":[0.037037037037037035,0.07407407407407407,0.1111111111111111,0.14814814814814814,0.18518518518518517,0.2222222222222222,0.25925925925925924,0.2962962962962963,0.3333333333333333,0.37037037037037035,0.4074074074074074,0.4444444444444444,0.48148148148148145,0.5185185185185185,0.5555555555555556,0.5925925925925926,0.6296296296296297,0.6666666666666666,0.7037037037037037,0.7407407407407407,0.7777777777777778,0.8148148148148148,0.8518518518518519,0.8888888888888888,0.9259259259259259,0.9629629629629629,1.0],\"xaxis\":\"x\",\"y\":[0.09628251194953918,0.18660478293895721,0.27243921160697937,0.3560238480567932,0.42367130517959595,0.4896579384803772,0.5491660237312317,0.6077789068222046,0.6626460552215576,0.7091264724731445,0.7545231580734253,0.7967866659164429,0.8371183276176453,0.8562240600585938,0.8732684850692749,0.88913494348526,0.9035172462463379,0.9174755215644836,0.9305031895637512,0.9432246685028076,0.9532958269119263,0.9630489349365234,0.972731351852417,0.9812358617782593,0.9887038469314575,0.9943813681602478,1.0],\"yaxis\":\"y\",\"type\":\"scatter\"},{\"hovertemplate\":\"Channel=Web\\u003cbr\\u003ePercentage of Models=%{x}\\u003cbr\\u003ePercentage of Responses=%{y}\\u003cextra\\u003e\\u003c\\u002fextra\\u003e\",\"legendgroup\":\"Web\",\"line\":{\"color\":\"#F76923\",\"dash\":\"solid\"},\"marker\":{\"symbol\":\"circle\"},\"mode\":\"lines\",\"name\":\"Web\",\"orientation\":\"v\",\"showlegend\":true,\"x\":[0.05263157894736842,0.10526315789473684,0.15789473684210525,0.21052631578947367,0.2631578947368421,0.3157894736842105,0.3684210526315789,0.42105263157894735,0.47368421052631576,0.5263157894736842,0.5789473684210527,0.631578947368421,0.6842105263157895,0.7368421052631579,0.7894736842105263,0.8421052631578947,0.8947368421052632,0.9473684210526315,1.0],\"xaxis\":\"x\",\"y\":[0.1308409422636032,0.2505457103252411,0.3522697985172272,0.44801878929138184,0.5332050919532776,0.6146731376647949,0.6900736093521118,0.7596285343170166,0.8155684471130371,0.8467941880226135,0.8770579695701599,0.9004957675933838,0.92280513048172,0.939583420753479,0.9550297856330872,0.9694217443466187,0.9821118116378784,0.9916940927505493,1.0],\"yaxis\":\"y\",\"type\":\"scatter\"}],                        {\"template\":{\"layout\":{\"colorway\":[\"#001F5F\",\"#10A5AC\",\"#F76923\",\"#661D34\",\"#86CAC6\",\"#005154\",\"#86CAC6\",\"#5F67B9\",\"#FFC836\",\"#E63690\",\"#AC1361\",\"#63666F\",\"#A7A9B4\",\"#D0D1DB\"],\"hovermode\":\"closest\"}},\"xaxis\":{\"anchor\":\"y\",\"domain\":[0.0,1.0],\"title\":{\"text\":\"Percentage of Models\"},\"tickformat\":\",.1%\"},\"yaxis\":{\"anchor\":\"x\",\"domain\":[0.0,1.0],\"title\":{\"text\":\"Percentage of Responses\"},\"tickformat\":\",.1%\"},\"legend\":{\"title\":{\"text\":\"Channel\"},\"tracegroupgap\":0},\"title\":{\"text\":\"Cumulative Responses over all models \\u003cbr\\u003e\\u003csup\\u003eby Channel\\u003c\\u002fsup\\u003e\"}},                        {\"responsive\": true}                    ).then(function(){\n",
       "                            \n",
       "var gd = document.getElementById('7e6df4c1-cc70-4b15-8b7f-bb7c6db9b147');\n",
       "var x = new MutationObserver(function (mutations, observer) {{\n",
       "        var display = window.getComputedStyle(gd).display;\n",
       "        if (!display || display === 'none') {{\n",
       "            console.log([gd, 'removed!']);\n",
       "            Plotly.purge(gd);\n",
       "            observer.disconnect();\n",
       "        }}\n",
       "}});\n",
       "\n",
       "// Listen for the removal of the full notebook cells\n",
       "var notebookContainer = gd.closest('#notebook-container');\n",
       "if (notebookContainer) {{\n",
       "    x.observe(notebookContainer, {childList: true});\n",
       "}}\n",
       "\n",
       "// Listen for the clearing of the current output cell\n",
       "var outputEl = gd.closest('.output');\n",
       "if (outputEl) {{\n",
       "    x.observe(outputEl, {childList: true});\n",
       "}}\n",
       "\n",
       "                        })                };                });            </script>        </div>"
      ]
     },
     "metadata": {},
     "output_type": "display_data"
    }
   ],
   "source": [
    "data.plotResponseGain()\n"
   ]
  },
  {
   "cell_type": "markdown",
   "metadata": {},
   "source": [
    "## Score Distribution"
   ]
  },
  {
   "cell_type": "code",
   "execution_count": 12,
   "metadata": {
    "execution": {
     "iopub.execute_input": "2023-12-08T09:58:19.413767Z",
     "iopub.status.busy": "2023-12-08T09:58:19.413586Z",
     "iopub.status.idle": "2023-12-08T09:58:19.743174Z",
     "shell.execute_reply": "2023-12-08T09:58:19.742641Z"
    }
   },
   "outputs": [
    {
     "data": {
      "text/html": [
       "<div>                            <div id=\"c9d599db-6772-43f8-8e60-4fc565ff4b93\" class=\"plotly-graph-div\" style=\"height:525px; width:100%;\"></div>            <script type=\"text/javascript\">                require([\"plotly\"], function(Plotly) {                    window.PLOTLYENV=window.PLOTLYENV || {};                                    if (document.getElementById(\"c9d599db-6772-43f8-8e60-4fc565ff4b93\")) {                    Plotly.newPlot(                        \"c9d599db-6772-43f8-8e60-4fc565ff4b93\",                        [{\"name\":\"Responses\",\"x\":[\"\\u003c-0.125\",\"[-0.125, -0.06\\u003e\",\"[-0.06, 0.015\\u003e\",\"[0.015, 0.025\\u003e\",\"[0.025, 0.995\\u003e\",\"\\u003e=0.995\"],\"y\":[886.0,465.0,223.0,16.0,7.0,25.0],\"type\":\"bar\"},{\"mode\":\"lines+markers\",\"name\":\"Propensity\",\"x\":[\"\\u003c-0.125\",\"[-0.125, -0.06\\u003e\",\"[-0.06, 0.015\\u003e\",\"[0.015, 0.025\\u003e\",\"[0.025, 0.995\\u003e\",\"\\u003e=0.995\"],\"y\":[0.07449209690093994,0.09677419066429138,0.1031390130519867,0.125,0.1428571492433548,0.20000000298023224],\"yaxis\":\"y2\",\"type\":\"scatter\"}],                        {\"template\":{\"data\":{\"scatter\":[{\"type\":\"scatter\"}]}},\"xaxis\":{\"anchor\":\"y\",\"domain\":[0.0,0.94],\"title\":{\"text\":\"Range\"},\"type\":\"category\"},\"yaxis\":{\"anchor\":\"x\",\"domain\":[0.0,1.0],\"title\":{\"text\":\"Responses\"},\"showgrid\":false},\"yaxis2\":{\"anchor\":\"x\",\"overlaying\":\"y\",\"side\":\"right\",\"title\":{\"text\":\"Propensity\"},\"tickformat\":\",.3%\",\"zeroline\":false,\"showgrid\":false},\"title\":{\"text\":\"Classifier score distribution\\u003cbr\\u003e\\n            \\u003csup\\u003eModel name: AutoUsed36Months\\n            \\u003cbr\\u003eModel ID b\\u003c\\u002fsup\\u003e\"}},                        {\"responsive\": true}                    ).then(function(){\n",
       "                            \n",
       "var gd = document.getElementById('c9d599db-6772-43f8-8e60-4fc565ff4b93');\n",
       "var x = new MutationObserver(function (mutations, observer) {{\n",
       "        var display = window.getComputedStyle(gd).display;\n",
       "        if (!display || display === 'none') {{\n",
       "            console.log([gd, 'removed!']);\n",
       "            Plotly.purge(gd);\n",
       "            observer.disconnect();\n",
       "        }}\n",
       "}});\n",
       "\n",
       "// Listen for the removal of the full notebook cells\n",
       "var notebookContainer = gd.closest('#notebook-container');\n",
       "if (notebookContainer) {{\n",
       "    x.observe(notebookContainer, {childList: true});\n",
       "}}\n",
       "\n",
       "// Listen for the clearing of the current output cell\n",
       "var outputEl = gd.closest('.output');\n",
       "if (outputEl) {{\n",
       "    x.observe(outputEl, {childList: true});\n",
       "}}\n",
       "\n",
       "                        })                };                });            </script>        </div>"
      ]
     },
     "metadata": {},
     "output_type": "display_data"
    },
    {
     "data": {
      "text/html": [
       "<div>                            <div id=\"b40f4692-5b72-4da3-82e8-b1e264ab617d\" class=\"plotly-graph-div\" style=\"height:525px; width:100%;\"></div>            <script type=\"text/javascript\">                require([\"plotly\"], function(Plotly) {                    window.PLOTLYENV=window.PLOTLYENV || {};                                    if (document.getElementById(\"b40f4692-5b72-4da3-82e8-b1e264ab617d\")) {                    Plotly.newPlot(                        \"b40f4692-5b72-4da3-82e8-b1e264ab617d\",                        [{\"name\":\"Responses\",\"x\":[\"\\u003c-0.36\",\"[-0.36, -0.13\\u003e\",\"[-0.13, 0.995\\u003e\",\"\\u003e=0.995\"],\"y\":[403.0,609.0,256.0,79.0],\"type\":\"bar\"},{\"mode\":\"lines+markers\",\"name\":\"Propensity\",\"x\":[\"\\u003c-0.36\",\"[-0.36, -0.13\\u003e\",\"[-0.13, 0.995\\u003e\",\"\\u003e=0.995\"],\"y\":[0.014888337813317776,0.03940886631608009,0.05859375,0.06329113990068436],\"yaxis\":\"y2\",\"type\":\"scatter\"}],                        {\"template\":{\"data\":{\"scatter\":[{\"type\":\"scatter\"}]}},\"xaxis\":{\"anchor\":\"y\",\"domain\":[0.0,0.94],\"title\":{\"text\":\"Range\"},\"type\":\"category\"},\"yaxis\":{\"anchor\":\"x\",\"domain\":[0.0,1.0],\"title\":{\"text\":\"Responses\"},\"showgrid\":false},\"yaxis2\":{\"anchor\":\"x\",\"overlaying\":\"y\",\"side\":\"right\",\"title\":{\"text\":\"Propensity\"},\"tickformat\":\",.3%\",\"zeroline\":false,\"showgrid\":false},\"title\":{\"text\":\"Classifier score distribution\\u003cbr\\u003e\\n            \\u003csup\\u003eModel name: AutoUsed84Months\\n            \\u003cbr\\u003eModel ID d\\u003c\\u002fsup\\u003e\"}},                        {\"responsive\": true}                    ).then(function(){\n",
       "                            \n",
       "var gd = document.getElementById('b40f4692-5b72-4da3-82e8-b1e264ab617d');\n",
       "var x = new MutationObserver(function (mutations, observer) {{\n",
       "        var display = window.getComputedStyle(gd).display;\n",
       "        if (!display || display === 'none') {{\n",
       "            console.log([gd, 'removed!']);\n",
       "            Plotly.purge(gd);\n",
       "            observer.disconnect();\n",
       "        }}\n",
       "}});\n",
       "\n",
       "// Listen for the removal of the full notebook cells\n",
       "var notebookContainer = gd.closest('#notebook-container');\n",
       "if (notebookContainer) {{\n",
       "    x.observe(notebookContainer, {childList: true});\n",
       "}}\n",
       "\n",
       "// Listen for the clearing of the current output cell\n",
       "var outputEl = gd.closest('.output');\n",
       "if (outputEl) {{\n",
       "    x.observe(outputEl, {childList: true});\n",
       "}}\n",
       "\n",
       "                        })                };                });            </script>        </div>"
      ]
     },
     "metadata": {},
     "output_type": "display_data"
    },
    {
     "data": {
      "text/html": [
       "<div>                            <div id=\"8e8c8b03-4277-4fc7-8f64-83b12b4177f4\" class=\"plotly-graph-div\" style=\"height:525px; width:100%;\"></div>            <script type=\"text/javascript\">                require([\"plotly\"], function(Plotly) {                    window.PLOTLYENV=window.PLOTLYENV || {};                                    if (document.getElementById(\"8e8c8b03-4277-4fc7-8f64-83b12b4177f4\")) {                    Plotly.newPlot(                        \"8e8c8b03-4277-4fc7-8f64-83b12b4177f4\",                        [{\"name\":\"Responses\",\"x\":[\"\\u003c-1.95\",\"[-1.95, -0.63\\u003e\",\"[-0.63, -0.5\\u003e\",\"[-0.5, -0.36\\u003e\",\"[-0.36, -0.29\\u003e\",\"[-0.29, -0.22\\u003e\",\"[-0.22, 0.99\\u003e\",\"\\u003e=0.99\"],\"y\":[35.0,1946.0,1338.0,1133.0,450.0,322.0,146.0,232.0],\"type\":\"bar\"},{\"mode\":\"lines+markers\",\"name\":\"Propensity\",\"x\":[\"\\u003c-1.95\",\"[-1.95, -0.63\\u003e\",\"[-0.63, -0.5\\u003e\",\"[-0.5, -0.36\\u003e\",\"[-0.36, -0.29\\u003e\",\"[-0.29, -0.22\\u003e\",\"[-0.22, 0.99\\u003e\",\"\\u003e=0.99\"],\"y\":[0.0,0.003597122384235263,0.005231689196079969,0.007060900330543518,0.008888889104127884,0.009316770359873772,0.013698630034923553,0.021551724523305893],\"yaxis\":\"y2\",\"type\":\"scatter\"}],                        {\"template\":{\"data\":{\"scatter\":[{\"type\":\"scatter\"}]}},\"xaxis\":{\"anchor\":\"y\",\"domain\":[0.0,0.94],\"title\":{\"text\":\"Range\"},\"type\":\"category\"},\"yaxis\":{\"anchor\":\"x\",\"domain\":[0.0,1.0],\"title\":{\"text\":\"Responses\"},\"showgrid\":false},\"yaxis2\":{\"anchor\":\"x\",\"overlaying\":\"y\",\"side\":\"right\",\"title\":{\"text\":\"Propensity\"},\"tickformat\":\",.3%\",\"zeroline\":false,\"showgrid\":false},\"title\":{\"text\":\"Classifier score distribution\\u003cbr\\u003e\\n            \\u003csup\\u003eModel name: AutoNew36Months\\n            \\u003cbr\\u003eModel ID f\\u003c\\u002fsup\\u003e\"}},                        {\"responsive\": true}                    ).then(function(){\n",
       "                            \n",
       "var gd = document.getElementById('8e8c8b03-4277-4fc7-8f64-83b12b4177f4');\n",
       "var x = new MutationObserver(function (mutations, observer) {{\n",
       "        var display = window.getComputedStyle(gd).display;\n",
       "        if (!display || display === 'none') {{\n",
       "            console.log([gd, 'removed!']);\n",
       "            Plotly.purge(gd);\n",
       "            observer.disconnect();\n",
       "        }}\n",
       "}});\n",
       "\n",
       "// Listen for the removal of the full notebook cells\n",
       "var notebookContainer = gd.closest('#notebook-container');\n",
       "if (notebookContainer) {{\n",
       "    x.observe(notebookContainer, {childList: true});\n",
       "}}\n",
       "\n",
       "// Listen for the clearing of the current output cell\n",
       "var outputEl = gd.closest('.output');\n",
       "if (outputEl) {{\n",
       "    x.observe(outputEl, {childList: true});\n",
       "}}\n",
       "\n",
       "                        })                };                });            </script>        </div>"
      ]
     },
     "metadata": {},
     "output_type": "display_data"
    },
    {
     "data": {
      "text/html": [
       "<div>                            <div id=\"6ba3a31a-6da8-4bef-abe7-5d43f6bcb2b2\" class=\"plotly-graph-div\" style=\"height:525px; width:100%;\"></div>            <script type=\"text/javascript\">                require([\"plotly\"], function(Plotly) {                    window.PLOTLYENV=window.PLOTLYENV || {};                                    if (document.getElementById(\"6ba3a31a-6da8-4bef-abe7-5d43f6bcb2b2\")) {                    Plotly.newPlot(                        \"6ba3a31a-6da8-4bef-abe7-5d43f6bcb2b2\",                        [{\"name\":\"Responses\",\"x\":[\"\\u003c-0.45\",\"[-0.45, 0.99\\u003e\",\"\\u003e=0.99\"],\"y\":[167.0,218.0,19.0],\"type\":\"bar\"},{\"mode\":\"lines+markers\",\"name\":\"Propensity\",\"x\":[\"\\u003c-0.45\",\"[-0.45, 0.99\\u003e\",\"\\u003e=0.99\"],\"y\":[0.01796407252550125,0.0229357797652483,0.10526315867900848],\"yaxis\":\"y2\",\"type\":\"scatter\"}],                        {\"template\":{\"data\":{\"scatter\":[{\"type\":\"scatter\"}]}},\"xaxis\":{\"anchor\":\"y\",\"domain\":[0.0,0.94],\"title\":{\"text\":\"Range\"},\"type\":\"category\"},\"yaxis\":{\"anchor\":\"x\",\"domain\":[0.0,1.0],\"title\":{\"text\":\"Responses\"},\"showgrid\":false},\"yaxis2\":{\"anchor\":\"x\",\"overlaying\":\"y\",\"side\":\"right\",\"title\":{\"text\":\"Propensity\"},\"tickformat\":\",.3%\",\"zeroline\":false,\"showgrid\":false},\"title\":{\"text\":\"Classifier score distribution\\u003cbr\\u003e\\n            \\u003csup\\u003eModel name: FirstMortgageFiveOneARM\\n            \\u003cbr\\u003eModel ID 0\\u003c\\u002fsup\\u003e\"}},                        {\"responsive\": true}                    ).then(function(){\n",
       "                            \n",
       "var gd = document.getElementById('6ba3a31a-6da8-4bef-abe7-5d43f6bcb2b2');\n",
       "var x = new MutationObserver(function (mutations, observer) {{\n",
       "        var display = window.getComputedStyle(gd).display;\n",
       "        if (!display || display === 'none') {{\n",
       "            console.log([gd, 'removed!']);\n",
       "            Plotly.purge(gd);\n",
       "            observer.disconnect();\n",
       "        }}\n",
       "}});\n",
       "\n",
       "// Listen for the removal of the full notebook cells\n",
       "var notebookContainer = gd.closest('#notebook-container');\n",
       "if (notebookContainer) {{\n",
       "    x.observe(notebookContainer, {childList: true});\n",
       "}}\n",
       "\n",
       "// Listen for the clearing of the current output cell\n",
       "var outputEl = gd.closest('.output');\n",
       "if (outputEl) {{\n",
       "    x.observe(outputEl, {childList: true});\n",
       "}}\n",
       "\n",
       "                        })                };                });            </script>        </div>"
      ]
     },
     "metadata": {},
     "output_type": "display_data"
    },
    {
     "data": {
      "text/html": [
       "<div>                            <div id=\"8e1fa99f-066f-44d3-9e7a-763c5d30e109\" class=\"plotly-graph-div\" style=\"height:525px; width:100%;\"></div>            <script type=\"text/javascript\">                require([\"plotly\"], function(Plotly) {                    window.PLOTLYENV=window.PLOTLYENV || {};                                    if (document.getElementById(\"8e1fa99f-066f-44d3-9e7a-763c5d30e109\")) {                    Plotly.newPlot(                        \"8e1fa99f-066f-44d3-9e7a-763c5d30e109\",                        [{\"name\":\"Responses\",\"x\":[\"\\u003c-0.16\",\"[-0.16, -0.145\\u003e\",\"[-0.145, -0.14\\u003e\",\"[-0.14, -0.125\\u003e\",\"[-0.125, -0.1\\u003e\",\"[-0.1, -0.085\\u003e\",\"[-0.085, -0.07\\u003e\",\"[-0.07, -0.035\\u003e\",\"[-0.035, 0.01\\u003e\",\"[0.01, 0.015\\u003e\",\"[0.015, 0.025\\u003e\",\"[0.025, 0.03\\u003e\",\"[0.03, 0.995\\u003e\",\"\\u003e=0.995\"],\"y\":[2426.0,430.0,149.0,472.0,709.0,380.0,312.0,439.0,294.0,20.0,31.0,10.0,9.0,62.0],\"type\":\"bar\"},{\"mode\":\"lines+markers\",\"name\":\"Propensity\",\"x\":[\"\\u003c-0.16\",\"[-0.16, -0.145\\u003e\",\"[-0.145, -0.14\\u003e\",\"[-0.14, -0.125\\u003e\",\"[-0.125, -0.1\\u003e\",\"[-0.1, -0.085\\u003e\",\"[-0.085, -0.07\\u003e\",\"[-0.07, -0.035\\u003e\",\"[-0.035, 0.01\\u003e\",\"[0.01, 0.015\\u003e\",\"[0.015, 0.025\\u003e\",\"[0.025, 0.03\\u003e\",\"[0.03, 0.995\\u003e\",\"\\u003e=0.995\"],\"y\":[0.04657873138785362,0.05116279050707817,0.05369127541780472,0.06779661029577255,0.07052186131477356,0.08684210479259491,0.08974359184503555,0.12072893232107162,0.14965985715389252,0.15000000596046448,0.16129031777381897,0.20000000298023224,0.2222222238779068,0.29032257199287415],\"yaxis\":\"y2\",\"type\":\"scatter\"}],                        {\"template\":{\"data\":{\"scatter\":[{\"type\":\"scatter\"}]}},\"xaxis\":{\"anchor\":\"y\",\"domain\":[0.0,0.94],\"title\":{\"text\":\"Range\"},\"type\":\"category\"},\"yaxis\":{\"anchor\":\"x\",\"domain\":[0.0,1.0],\"title\":{\"text\":\"Responses\"},\"showgrid\":false},\"yaxis2\":{\"anchor\":\"x\",\"overlaying\":\"y\",\"side\":\"right\",\"title\":{\"text\":\"Propensity\"},\"tickformat\":\",.3%\",\"zeroline\":false,\"showgrid\":false},\"title\":{\"text\":\"Classifier score distribution\\u003cbr\\u003e\\n            \\u003csup\\u003eModel name: AutoNew48Months\\n            \\u003cbr\\u003eModel ID 6\\u003c\\u002fsup\\u003e\"}},                        {\"responsive\": true}                    ).then(function(){\n",
       "                            \n",
       "var gd = document.getElementById('8e1fa99f-066f-44d3-9e7a-763c5d30e109');\n",
       "var x = new MutationObserver(function (mutations, observer) {{\n",
       "        var display = window.getComputedStyle(gd).display;\n",
       "        if (!display || display === 'none') {{\n",
       "            console.log([gd, 'removed!']);\n",
       "            Plotly.purge(gd);\n",
       "            observer.disconnect();\n",
       "        }}\n",
       "}});\n",
       "\n",
       "// Listen for the removal of the full notebook cells\n",
       "var notebookContainer = gd.closest('#notebook-container');\n",
       "if (notebookContainer) {{\n",
       "    x.observe(notebookContainer, {childList: true});\n",
       "}}\n",
       "\n",
       "// Listen for the clearing of the current output cell\n",
       "var outputEl = gd.closest('.output');\n",
       "if (outputEl) {{\n",
       "    x.observe(outputEl, {childList: true});\n",
       "}}\n",
       "\n",
       "                        })                };                });            </script>        </div>"
      ]
     },
     "metadata": {},
     "output_type": "display_data"
    },
    {
     "data": {
      "text/html": [
       "<div>                            <div id=\"e743b1e7-1aea-467b-8e8d-0659a9ff7243\" class=\"plotly-graph-div\" style=\"height:525px; width:100%;\"></div>            <script type=\"text/javascript\">                require([\"plotly\"], function(Plotly) {                    window.PLOTLYENV=window.PLOTLYENV || {};                                    if (document.getElementById(\"e743b1e7-1aea-467b-8e8d-0659a9ff7243\")) {                    Plotly.newPlot(                        \"e743b1e7-1aea-467b-8e8d-0659a9ff7243\",                        [{\"name\":\"Responses\",\"x\":[\"\\u003c-0.155\",\"[-0.155, -0.14\\u003e\",\"[-0.14, -0.13\\u003e\",\"[-0.13, -0.125\\u003e\",\"[-0.125, -0.12\\u003e\",\"[-0.12, -0.1\\u003e\",\"[-0.1, -0.09\\u003e\",\"[-0.09, -0.055\\u003e\",\"[-0.055, -0.05\\u003e\",\"[-0.05, -0.045\\u003e\",\"[-0.045, -0.005\\u003e\",\"[-0.005, 0.005\\u003e\",\"[0.005, 0.02\\u003e\",\"[0.02, 0.035\\u003e\",\"[0.035, 0.04\\u003e\",\"[0.04, 0.06\\u003e\",\"[0.06, 0.065\\u003e\",\"[0.065, 0.085\\u003e\",\"[0.085, 0.09\\u003e\",\"[0.09, 0.125\\u003e\",\"[0.125, 0.995\\u003e\",\"\\u003e=0.995\"],\"y\":[2305.0,331.0,241.0,107.0,102.0,417.0,190.0,550.0,56.0,53.0,323.0,54.0,72.0,57.0,18.0,38.0,9.0,23.0,3.0,21.0,5.0,1.0],\"type\":\"bar\"},{\"mode\":\"lines+markers\",\"name\":\"Propensity\",\"x\":[\"\\u003c-0.155\",\"[-0.155, -0.14\\u003e\",\"[-0.14, -0.13\\u003e\",\"[-0.13, -0.125\\u003e\",\"[-0.125, -0.12\\u003e\",\"[-0.12, -0.1\\u003e\",\"[-0.1, -0.09\\u003e\",\"[-0.09, -0.055\\u003e\",\"[-0.055, -0.05\\u003e\",\"[-0.05, -0.045\\u003e\",\"[-0.045, -0.005\\u003e\",\"[-0.005, 0.005\\u003e\",\"[0.005, 0.02\\u003e\",\"[0.02, 0.035\\u003e\",\"[0.035, 0.04\\u003e\",\"[0.04, 0.06\\u003e\",\"[0.06, 0.065\\u003e\",\"[0.065, 0.085\\u003e\",\"[0.085, 0.09\\u003e\",\"[0.09, 0.125\\u003e\",\"[0.125, 0.995\\u003e\",\"\\u003e=0.995\"],\"y\":[0.03600867837667465,0.04531722143292427,0.062240663915872574,0.06542056053876877,0.0882352963089943,0.0983213409781456,0.11052631586790085,0.15272727608680725,0.2321428507566452,0.24528302252292633,0.2848297357559204,0.40740740299224854,0.4305555522441864,0.4385964870452881,0.4444444477558136,0.44736841320991516,0.5555555820465088,0.5652173757553101,0.6666666865348816,0.7142857313156128,0.800000011920929,1.0],\"yaxis\":\"y2\",\"type\":\"scatter\"}],                        {\"template\":{\"data\":{\"scatter\":[{\"type\":\"scatter\"}]}},\"xaxis\":{\"anchor\":\"y\",\"domain\":[0.0,0.94],\"title\":{\"text\":\"Range\"},\"type\":\"category\"},\"yaxis\":{\"anchor\":\"x\",\"domain\":[0.0,1.0],\"title\":{\"text\":\"Responses\"},\"showgrid\":false},\"yaxis2\":{\"anchor\":\"x\",\"overlaying\":\"y\",\"side\":\"right\",\"title\":{\"text\":\"Propensity\"},\"tickformat\":\",.3%\",\"zeroline\":false,\"showgrid\":false},\"title\":{\"text\":\"Classifier score distribution\\u003cbr\\u003e\\n            \\u003csup\\u003eModel name: HomeOwners\\n            \\u003cbr\\u003eModel ID 2\\u003c\\u002fsup\\u003e\"}},                        {\"responsive\": true}                    ).then(function(){\n",
       "                            \n",
       "var gd = document.getElementById('e743b1e7-1aea-467b-8e8d-0659a9ff7243');\n",
       "var x = new MutationObserver(function (mutations, observer) {{\n",
       "        var display = window.getComputedStyle(gd).display;\n",
       "        if (!display || display === 'none') {{\n",
       "            console.log([gd, 'removed!']);\n",
       "            Plotly.purge(gd);\n",
       "            observer.disconnect();\n",
       "        }}\n",
       "}});\n",
       "\n",
       "// Listen for the removal of the full notebook cells\n",
       "var notebookContainer = gd.closest('#notebook-container');\n",
       "if (notebookContainer) {{\n",
       "    x.observe(notebookContainer, {childList: true});\n",
       "}}\n",
       "\n",
       "// Listen for the clearing of the current output cell\n",
       "var outputEl = gd.closest('.output');\n",
       "if (outputEl) {{\n",
       "    x.observe(outputEl, {childList: true});\n",
       "}}\n",
       "\n",
       "                        })                };                });            </script>        </div>"
      ]
     },
     "metadata": {},
     "output_type": "display_data"
    },
    {
     "data": {
      "text/html": [
       "<div>                            <div id=\"d5e6ba67-c379-433a-923d-9915897eb259\" class=\"plotly-graph-div\" style=\"height:525px; width:100%;\"></div>            <script type=\"text/javascript\">                require([\"plotly\"], function(Plotly) {                    window.PLOTLYENV=window.PLOTLYENV || {};                                    if (document.getElementById(\"d5e6ba67-c379-433a-923d-9915897eb259\")) {                    Plotly.newPlot(                        \"d5e6ba67-c379-433a-923d-9915897eb259\",                        [{\"name\":\"Responses\",\"x\":[\"\\u003c-0.21\",\"[-0.21, -0.185\\u003e\",\"[-0.185, -0.175\\u003e\",\"[-0.175, -0.105\\u003e\",\"[-0.105, -0.095\\u003e\",\"[-0.095, -0.09\\u003e\",\"[-0.09, -0.065\\u003e\",\"[-0.065, -0.02\\u003e\",\"[-0.02, 0.03\\u003e\",\"[0.03, 0.06\\u003e\",\"[0.06, 0.12\\u003e\",\"[0.12, 0.125\\u003e\",\"[0.125, 0.13\\u003e\",\"[0.13, 0.995\\u003e\",\"\\u003e=0.995\"],\"y\":[460.0,141.0,51.0,398.0,55.0,21.0,86.0,184.0,102.0,49.0,63.0,4.0,6.0,11.0,5.0],\"type\":\"bar\"},{\"mode\":\"lines+markers\",\"name\":\"Propensity\",\"x\":[\"\\u003c-0.21\",\"[-0.21, -0.185\\u003e\",\"[-0.185, -0.175\\u003e\",\"[-0.175, -0.105\\u003e\",\"[-0.105, -0.095\\u003e\",\"[-0.095, -0.09\\u003e\",\"[-0.09, -0.065\\u003e\",\"[-0.065, -0.02\\u003e\",\"[-0.02, 0.03\\u003e\",\"[0.03, 0.06\\u003e\",\"[0.06, 0.12\\u003e\",\"[0.12, 0.125\\u003e\",\"[0.125, 0.13\\u003e\",\"[0.13, 0.995\\u003e\",\"\\u003e=0.995\"],\"y\":[0.03695652261376381,0.05673758685588837,0.05882352963089943,0.07035175710916519,0.072727270424366,0.095238097012043,0.10465116053819656,0.16304348409175873,0.36274510622024536,0.40816327929496765,0.4761904776096344,0.5,0.6666666865348816,0.7272727489471436,0.800000011920929],\"yaxis\":\"y2\",\"type\":\"scatter\"}],                        {\"template\":{\"data\":{\"scatter\":[{\"type\":\"scatter\"}]}},\"xaxis\":{\"anchor\":\"y\",\"domain\":[0.0,0.94],\"title\":{\"text\":\"Range\"},\"type\":\"category\"},\"yaxis\":{\"anchor\":\"x\",\"domain\":[0.0,1.0],\"title\":{\"text\":\"Responses\"},\"showgrid\":false},\"yaxis2\":{\"anchor\":\"x\",\"overlaying\":\"y\",\"side\":\"right\",\"title\":{\"text\":\"Propensity\"},\"tickformat\":\",.3%\",\"zeroline\":false,\"showgrid\":false},\"title\":{\"text\":\"Classifier score distribution\\u003cbr\\u003e\\n            \\u003csup\\u003eModel name: AutoNew84Months\\n            \\u003cbr\\u003eModel ID 6\\u003c\\u002fsup\\u003e\"}},                        {\"responsive\": true}                    ).then(function(){\n",
       "                            \n",
       "var gd = document.getElementById('d5e6ba67-c379-433a-923d-9915897eb259');\n",
       "var x = new MutationObserver(function (mutations, observer) {{\n",
       "        var display = window.getComputedStyle(gd).display;\n",
       "        if (!display || display === 'none') {{\n",
       "            console.log([gd, 'removed!']);\n",
       "            Plotly.purge(gd);\n",
       "            observer.disconnect();\n",
       "        }}\n",
       "}});\n",
       "\n",
       "// Listen for the removal of the full notebook cells\n",
       "var notebookContainer = gd.closest('#notebook-container');\n",
       "if (notebookContainer) {{\n",
       "    x.observe(notebookContainer, {childList: true});\n",
       "}}\n",
       "\n",
       "// Listen for the clearing of the current output cell\n",
       "var outputEl = gd.closest('.output');\n",
       "if (outputEl) {{\n",
       "    x.observe(outputEl, {childList: true});\n",
       "}}\n",
       "\n",
       "                        })                };                });            </script>        </div>"
      ]
     },
     "metadata": {},
     "output_type": "display_data"
    },
    {
     "data": {
      "text/html": [
       "<div>                            <div id=\"2babe4c7-8c93-47d2-ba8d-9d326a0b5400\" class=\"plotly-graph-div\" style=\"height:525px; width:100%;\"></div>            <script type=\"text/javascript\">                require([\"plotly\"], function(Plotly) {                    window.PLOTLYENV=window.PLOTLYENV || {};                                    if (document.getElementById(\"2babe4c7-8c93-47d2-ba8d-9d326a0b5400\")) {                    Plotly.newPlot(                        \"2babe4c7-8c93-47d2-ba8d-9d326a0b5400\",                        [{\"name\":\"Responses\",\"x\":[\"\\u003c-0.57\",\"[-0.57, -0.4\\u003e\",\"[-0.4, -0.34\\u003e\",\"[-0.34, -0.29\\u003e\",\"[-0.29, 0.99\\u003e\",\"\\u003e=0.99\"],\"y\":[202.0,118.0,52.0,31.0,45.0,70.0],\"type\":\"bar\"},{\"mode\":\"lines+markers\",\"name\":\"Propensity\",\"x\":[\"\\u003c-0.57\",\"[-0.57, -0.4\\u003e\",\"[-0.4, -0.34\\u003e\",\"[-0.34, -0.29\\u003e\",\"[-0.29, 0.99\\u003e\",\"\\u003e=0.99\"],\"y\":[0.009900989942252636,0.016949152573943138,0.01923076994717121,0.032258063554763794,0.04444444552063942,0.0714285746216774],\"yaxis\":\"y2\",\"type\":\"scatter\"}],                        {\"template\":{\"data\":{\"scatter\":[{\"type\":\"scatter\"}]}},\"xaxis\":{\"anchor\":\"y\",\"domain\":[0.0,0.94],\"title\":{\"text\":\"Range\"},\"type\":\"category\"},\"yaxis\":{\"anchor\":\"x\",\"domain\":[0.0,1.0],\"title\":{\"text\":\"Responses\"},\"showgrid\":false},\"yaxis2\":{\"anchor\":\"x\",\"overlaying\":\"y\",\"side\":\"right\",\"title\":{\"text\":\"Propensity\"},\"tickformat\":\",.3%\",\"zeroline\":false,\"showgrid\":false},\"title\":{\"text\":\"Classifier score distribution\\u003cbr\\u003e\\n            \\u003csup\\u003eModel name: FirstMortgageFloat\\n            \\u003cbr\\u003eModel ID 6\\u003c\\u002fsup\\u003e\"}},                        {\"responsive\": true}                    ).then(function(){\n",
       "                            \n",
       "var gd = document.getElementById('2babe4c7-8c93-47d2-ba8d-9d326a0b5400');\n",
       "var x = new MutationObserver(function (mutations, observer) {{\n",
       "        var display = window.getComputedStyle(gd).display;\n",
       "        if (!display || display === 'none') {{\n",
       "            console.log([gd, 'removed!']);\n",
       "            Plotly.purge(gd);\n",
       "            observer.disconnect();\n",
       "        }}\n",
       "}});\n",
       "\n",
       "// Listen for the removal of the full notebook cells\n",
       "var notebookContainer = gd.closest('#notebook-container');\n",
       "if (notebookContainer) {{\n",
       "    x.observe(notebookContainer, {childList: true});\n",
       "}}\n",
       "\n",
       "// Listen for the clearing of the current output cell\n",
       "var outputEl = gd.closest('.output');\n",
       "if (outputEl) {{\n",
       "    x.observe(outputEl, {childList: true});\n",
       "}}\n",
       "\n",
       "                        })                };                });            </script>        </div>"
      ]
     },
     "metadata": {},
     "output_type": "display_data"
    },
    {
     "data": {
      "text/html": [
       "<div>                            <div id=\"80ef776d-8c35-4428-948a-e6e19e829f32\" class=\"plotly-graph-div\" style=\"height:525px; width:100%;\"></div>            <script type=\"text/javascript\">                require([\"plotly\"], function(Plotly) {                    window.PLOTLYENV=window.PLOTLYENV || {};                                    if (document.getElementById(\"80ef776d-8c35-4428-948a-e6e19e829f32\")) {                    Plotly.newPlot(                        \"80ef776d-8c35-4428-948a-e6e19e829f32\",                        [{\"name\":\"Responses\",\"x\":[\"\\u003c-0.79\",\"[-0.79, 0.99\\u003e\",\"\\u003e=0.99\"],\"y\":[2871.0,2849.0,97.0],\"type\":\"bar\"},{\"mode\":\"lines+markers\",\"name\":\"Propensity\",\"x\":[\"\\u003c-0.79\",\"[-0.79, 0.99\\u003e\",\"\\u003e=0.99\"],\"y\":[0.0017415534239262342,0.002106002066284418,0.010309278033673763],\"yaxis\":\"y2\",\"type\":\"scatter\"}],                        {\"template\":{\"data\":{\"scatter\":[{\"type\":\"scatter\"}]}},\"xaxis\":{\"anchor\":\"y\",\"domain\":[0.0,0.94],\"title\":{\"text\":\"Range\"},\"type\":\"category\"},\"yaxis\":{\"anchor\":\"x\",\"domain\":[0.0,1.0],\"title\":{\"text\":\"Responses\"},\"showgrid\":false},\"yaxis2\":{\"anchor\":\"x\",\"overlaying\":\"y\",\"side\":\"right\",\"title\":{\"text\":\"Propensity\"},\"tickformat\":\",.3%\",\"zeroline\":false,\"showgrid\":false},\"title\":{\"text\":\"Classifier score distribution\\u003cbr\\u003e\\n            \\u003csup\\u003eModel name: AutoNew36Months\\n            \\u003cbr\\u003eModel ID b\\u003c\\u002fsup\\u003e\"}},                        {\"responsive\": true}                    ).then(function(){\n",
       "                            \n",
       "var gd = document.getElementById('80ef776d-8c35-4428-948a-e6e19e829f32');\n",
       "var x = new MutationObserver(function (mutations, observer) {{\n",
       "        var display = window.getComputedStyle(gd).display;\n",
       "        if (!display || display === 'none') {{\n",
       "            console.log([gd, 'removed!']);\n",
       "            Plotly.purge(gd);\n",
       "            observer.disconnect();\n",
       "        }}\n",
       "}});\n",
       "\n",
       "// Listen for the removal of the full notebook cells\n",
       "var notebookContainer = gd.closest('#notebook-container');\n",
       "if (notebookContainer) {{\n",
       "    x.observe(notebookContainer, {childList: true});\n",
       "}}\n",
       "\n",
       "// Listen for the clearing of the current output cell\n",
       "var outputEl = gd.closest('.output');\n",
       "if (outputEl) {{\n",
       "    x.observe(outputEl, {childList: true});\n",
       "}}\n",
       "\n",
       "                        })                };                });            </script>        </div>"
      ]
     },
     "metadata": {},
     "output_type": "display_data"
    },
    {
     "data": {
      "text/html": [
       "<div>                            <div id=\"c5cc1113-a8d7-462b-bb5b-8704dc8d00d7\" class=\"plotly-graph-div\" style=\"height:525px; width:100%;\"></div>            <script type=\"text/javascript\">                require([\"plotly\"], function(Plotly) {                    window.PLOTLYENV=window.PLOTLYENV || {};                                    if (document.getElementById(\"c5cc1113-a8d7-462b-bb5b-8704dc8d00d7\")) {                    Plotly.newPlot(                        \"c5cc1113-a8d7-462b-bb5b-8704dc8d00d7\",                        [{\"name\":\"Responses\",\"x\":[\"\\u003c-0.205\",\"[-0.205, -0.165\\u003e\",\"[-0.165, -0.085\\u003e\",\"[-0.085, -0.02\\u003e\",\"[-0.02, 0.02\\u003e\",\"[0.02, 0.05\\u003e\",\"[0.05, 0.065\\u003e\",\"[0.065, 0.08\\u003e\",\"[0.08, 0.995\\u003e\",\"\\u003e=0.995\"],\"y\":[840.0,142.0,241.0,94.0,31.0,9.0,4.0,8.0,6.0,3.0],\"type\":\"bar\"},{\"mode\":\"lines+markers\",\"name\":\"Propensity\",\"x\":[\"\\u003c-0.205\",\"[-0.205, -0.165\\u003e\",\"[-0.165, -0.085\\u003e\",\"[-0.085, -0.02\\u003e\",\"[-0.02, 0.02\\u003e\",\"[0.02, 0.05\\u003e\",\"[0.05, 0.065\\u003e\",\"[0.065, 0.08\\u003e\",\"[0.08, 0.995\\u003e\",\"\\u003e=0.995\"],\"y\":[0.02500000037252903,0.028169013559818268,0.029045643284916878,0.06382978707551956,0.09677419066429138,0.2222222238779068,0.25,0.375,0.6666666865348816,1.0],\"yaxis\":\"y2\",\"type\":\"scatter\"}],                        {\"template\":{\"data\":{\"scatter\":[{\"type\":\"scatter\"}]}},\"xaxis\":{\"anchor\":\"y\",\"domain\":[0.0,0.94],\"title\":{\"text\":\"Range\"},\"type\":\"category\"},\"yaxis\":{\"anchor\":\"x\",\"domain\":[0.0,1.0],\"title\":{\"text\":\"Responses\"},\"showgrid\":false},\"yaxis2\":{\"anchor\":\"x\",\"overlaying\":\"y\",\"side\":\"right\",\"title\":{\"text\":\"Propensity\"},\"tickformat\":\",.3%\",\"zeroline\":false,\"showgrid\":false},\"title\":{\"text\":\"Classifier score distribution\\u003cbr\\u003e\\n            \\u003csup\\u003eModel name: AutoUsed60Months\\n            \\u003cbr\\u003eModel ID 8\\u003c\\u002fsup\\u003e\"}},                        {\"responsive\": true}                    ).then(function(){\n",
       "                            \n",
       "var gd = document.getElementById('c5cc1113-a8d7-462b-bb5b-8704dc8d00d7');\n",
       "var x = new MutationObserver(function (mutations, observer) {{\n",
       "        var display = window.getComputedStyle(gd).display;\n",
       "        if (!display || display === 'none') {{\n",
       "            console.log([gd, 'removed!']);\n",
       "            Plotly.purge(gd);\n",
       "            observer.disconnect();\n",
       "        }}\n",
       "}});\n",
       "\n",
       "// Listen for the removal of the full notebook cells\n",
       "var notebookContainer = gd.closest('#notebook-container');\n",
       "if (notebookContainer) {{\n",
       "    x.observe(notebookContainer, {childList: true});\n",
       "}}\n",
       "\n",
       "// Listen for the clearing of the current output cell\n",
       "var outputEl = gd.closest('.output');\n",
       "if (outputEl) {{\n",
       "    x.observe(outputEl, {childList: true});\n",
       "}}\n",
       "\n",
       "                        })                };                });            </script>        </div>"
      ]
     },
     "metadata": {},
     "output_type": "display_data"
    },
    {
     "data": {
      "text/html": [
       "<div>                            <div id=\"ba9f987f-78ff-4bec-86c1-a9b07e00920c\" class=\"plotly-graph-div\" style=\"height:525px; width:100%;\"></div>            <script type=\"text/javascript\">                require([\"plotly\"], function(Plotly) {                    window.PLOTLYENV=window.PLOTLYENV || {};                                    if (document.getElementById(\"ba9f987f-78ff-4bec-86c1-a9b07e00920c\")) {                    Plotly.newPlot(                        \"ba9f987f-78ff-4bec-86c1-a9b07e00920c\",                        [{\"name\":\"Responses\",\"x\":[\"\\u003c-0.215\",\"[-0.215, -0.2\\u003e\",\"[-0.2, -0.165\\u003e\",\"[-0.165, -0.16\\u003e\",\"[-0.16, -0.14\\u003e\",\"[-0.14, -0.115\\u003e\",\"[-0.115, -0.105\\u003e\",\"[-0.105, -0.09\\u003e\",\"[-0.09, -0.08\\u003e\",\"[-0.08, -0.065\\u003e\",\"[-0.065, -0.045\\u003e\",\"[-0.045, -0.04\\u003e\",\"[-0.04, -0.02\\u003e\",\"[-0.02, -0.01\\u003e\",\"[-0.01, 0.0\\u003e\",\"[0.0, 0.03\\u003e\",\"[0.03, 0.04\\u003e\",\"[0.04, 0.085\\u003e\",\"[0.085, 0.09\\u003e\",\"[0.09, 0.125\\u003e\",\"[0.125, 0.995\\u003e\",\"\\u003e=0.995\"],\"y\":[922.0,216.0,598.0,122.0,398.0,491.0,170.0,250.0,151.0,213.0,285.0,63.0,217.0,81.0,80.0,161.0,38.0,96.0,7.0,30.0,12.0,4.0],\"type\":\"bar\"},{\"mode\":\"lines+markers\",\"name\":\"Propensity\",\"x\":[\"\\u003c-0.215\",\"[-0.215, -0.2\\u003e\",\"[-0.2, -0.165\\u003e\",\"[-0.165, -0.16\\u003e\",\"[-0.16, -0.14\\u003e\",\"[-0.14, -0.115\\u003e\",\"[-0.115, -0.105\\u003e\",\"[-0.105, -0.09\\u003e\",\"[-0.09, -0.08\\u003e\",\"[-0.08, -0.065\\u003e\",\"[-0.065, -0.045\\u003e\",\"[-0.045, -0.04\\u003e\",\"[-0.04, -0.02\\u003e\",\"[-0.02, -0.01\\u003e\",\"[-0.01, 0.0\\u003e\",\"[0.0, 0.03\\u003e\",\"[0.03, 0.04\\u003e\",\"[0.04, 0.085\\u003e\",\"[0.085, 0.09\\u003e\",\"[0.09, 0.125\\u003e\",\"[0.125, 0.995\\u003e\",\"\\u003e=0.995\"],\"y\":[0.04446854814887047,0.046296294778585434,0.05183946341276169,0.05737704783678055,0.07537688314914703,0.08146639168262482,0.0941176488995552,0.1080000028014183,0.14569535851478577,0.17840375006198883,0.1859649121761322,0.2698412835597992,0.28110599517822266,0.3086419701576233,0.3125,0.3726707994937897,0.3947368562221527,0.5,0.7142857313156128,0.7666666507720947,0.9166666865348816,1.0],\"yaxis\":\"y2\",\"type\":\"scatter\"}],                        {\"template\":{\"data\":{\"scatter\":[{\"type\":\"scatter\"}]}},\"xaxis\":{\"anchor\":\"y\",\"domain\":[0.0,0.94],\"title\":{\"text\":\"Range\"},\"type\":\"category\"},\"yaxis\":{\"anchor\":\"x\",\"domain\":[0.0,1.0],\"title\":{\"text\":\"Responses\"},\"showgrid\":false},\"yaxis2\":{\"anchor\":\"x\",\"overlaying\":\"y\",\"side\":\"right\",\"title\":{\"text\":\"Propensity\"},\"tickformat\":\",.3%\",\"zeroline\":false,\"showgrid\":false},\"title\":{\"text\":\"Classifier score distribution\\u003cbr\\u003e\\n            \\u003csup\\u003eModel name: HomeOwners\\n            \\u003cbr\\u003eModel ID 0\\u003c\\u002fsup\\u003e\"}},                        {\"responsive\": true}                    ).then(function(){\n",
       "                            \n",
       "var gd = document.getElementById('ba9f987f-78ff-4bec-86c1-a9b07e00920c');\n",
       "var x = new MutationObserver(function (mutations, observer) {{\n",
       "        var display = window.getComputedStyle(gd).display;\n",
       "        if (!display || display === 'none') {{\n",
       "            console.log([gd, 'removed!']);\n",
       "            Plotly.purge(gd);\n",
       "            observer.disconnect();\n",
       "        }}\n",
       "}});\n",
       "\n",
       "// Listen for the removal of the full notebook cells\n",
       "var notebookContainer = gd.closest('#notebook-container');\n",
       "if (notebookContainer) {{\n",
       "    x.observe(notebookContainer, {childList: true});\n",
       "}}\n",
       "\n",
       "// Listen for the clearing of the current output cell\n",
       "var outputEl = gd.closest('.output');\n",
       "if (outputEl) {{\n",
       "    x.observe(outputEl, {childList: true});\n",
       "}}\n",
       "\n",
       "                        })                };                });            </script>        </div>"
      ]
     },
     "metadata": {},
     "output_type": "display_data"
    },
    {
     "data": {
      "text/html": [
       "<div>                            <div id=\"abce0a50-b4ad-4215-8442-b71ce1d45a4e\" class=\"plotly-graph-div\" style=\"height:525px; width:100%;\"></div>            <script type=\"text/javascript\">                require([\"plotly\"], function(Plotly) {                    window.PLOTLYENV=window.PLOTLYENV || {};                                    if (document.getElementById(\"abce0a50-b4ad-4215-8442-b71ce1d45a4e\")) {                    Plotly.newPlot(                        \"abce0a50-b4ad-4215-8442-b71ce1d45a4e\",                        [{\"name\":\"Responses\",\"x\":[\"\\u003c-2.4\",\"[-2.4, 0.99\\u003e\",\"\\u003e=0.99\"],\"y\":[27.0,1128.0,88.0],\"type\":\"bar\"},{\"mode\":\"lines+markers\",\"name\":\"Propensity\",\"x\":[\"\\u003c-2.4\",\"[-2.4, 0.99\\u003e\",\"\\u003e=0.99\"],\"y\":[0.0,0.010638297535479069,0.011363636702299118],\"yaxis\":\"y2\",\"type\":\"scatter\"}],                        {\"template\":{\"data\":{\"scatter\":[{\"type\":\"scatter\"}]}},\"xaxis\":{\"anchor\":\"y\",\"domain\":[0.0,0.94],\"title\":{\"text\":\"Range\"},\"type\":\"category\"},\"yaxis\":{\"anchor\":\"x\",\"domain\":[0.0,1.0],\"title\":{\"text\":\"Responses\"},\"showgrid\":false},\"yaxis2\":{\"anchor\":\"x\",\"overlaying\":\"y\",\"side\":\"right\",\"title\":{\"text\":\"Propensity\"},\"tickformat\":\",.3%\",\"zeroline\":false,\"showgrid\":false},\"title\":{\"text\":\"Classifier score distribution\\u003cbr\\u003e\\n            \\u003csup\\u003eModel name: AutoUsed84Months\\n            \\u003cbr\\u003eModel ID 2\\u003c\\u002fsup\\u003e\"}},                        {\"responsive\": true}                    ).then(function(){\n",
       "                            \n",
       "var gd = document.getElementById('abce0a50-b4ad-4215-8442-b71ce1d45a4e');\n",
       "var x = new MutationObserver(function (mutations, observer) {{\n",
       "        var display = window.getComputedStyle(gd).display;\n",
       "        if (!display || display === 'none') {{\n",
       "            console.log([gd, 'removed!']);\n",
       "            Plotly.purge(gd);\n",
       "            observer.disconnect();\n",
       "        }}\n",
       "}});\n",
       "\n",
       "// Listen for the removal of the full notebook cells\n",
       "var notebookContainer = gd.closest('#notebook-container');\n",
       "if (notebookContainer) {{\n",
       "    x.observe(notebookContainer, {childList: true});\n",
       "}}\n",
       "\n",
       "// Listen for the clearing of the current output cell\n",
       "var outputEl = gd.closest('.output');\n",
       "if (outputEl) {{\n",
       "    x.observe(outputEl, {childList: true});\n",
       "}}\n",
       "\n",
       "                        })                };                });            </script>        </div>"
      ]
     },
     "metadata": {},
     "output_type": "display_data"
    },
    {
     "data": {
      "text/html": [
       "<div>                            <div id=\"110fa46b-d607-4cfb-81e1-bf1241d9468c\" class=\"plotly-graph-div\" style=\"height:525px; width:100%;\"></div>            <script type=\"text/javascript\">                require([\"plotly\"], function(Plotly) {                    window.PLOTLYENV=window.PLOTLYENV || {};                                    if (document.getElementById(\"110fa46b-d607-4cfb-81e1-bf1241d9468c\")) {                    Plotly.newPlot(                        \"110fa46b-d607-4cfb-81e1-bf1241d9468c\",                        [{\"name\":\"Responses\",\"x\":[\"\\u003c-0.065\",\"[-0.065, -0.04\\u003e\",\"[-0.04, 0.995\\u003e\",\"\\u003e=0.995\"],\"y\":[300.0,46.0,40.0,63.0],\"type\":\"bar\"},{\"mode\":\"lines+markers\",\"name\":\"Propensity\",\"x\":[\"\\u003c-0.065\",\"[-0.065, -0.04\\u003e\",\"[-0.04, 0.995\\u003e\",\"\\u003e=0.995\"],\"y\":[0.14666666090488434,0.17391304671764374,0.20000000298023224,0.2857142984867096],\"yaxis\":\"y2\",\"type\":\"scatter\"}],                        {\"template\":{\"data\":{\"scatter\":[{\"type\":\"scatter\"}]}},\"xaxis\":{\"anchor\":\"y\",\"domain\":[0.0,0.94],\"title\":{\"text\":\"Range\"},\"type\":\"category\"},\"yaxis\":{\"anchor\":\"x\",\"domain\":[0.0,1.0],\"title\":{\"text\":\"Responses\"},\"showgrid\":false},\"yaxis2\":{\"anchor\":\"x\",\"overlaying\":\"y\",\"side\":\"right\",\"title\":{\"text\":\"Propensity\"},\"tickformat\":\",.3%\",\"zeroline\":false,\"showgrid\":false},\"title\":{\"text\":\"Classifier score distribution\\u003cbr\\u003e\\n            \\u003csup\\u003eModel name: FirstMortgageFiveOneARM\\n            \\u003cbr\\u003eModel ID 7\\u003c\\u002fsup\\u003e\"}},                        {\"responsive\": true}                    ).then(function(){\n",
       "                            \n",
       "var gd = document.getElementById('110fa46b-d607-4cfb-81e1-bf1241d9468c');\n",
       "var x = new MutationObserver(function (mutations, observer) {{\n",
       "        var display = window.getComputedStyle(gd).display;\n",
       "        if (!display || display === 'none') {{\n",
       "            console.log([gd, 'removed!']);\n",
       "            Plotly.purge(gd);\n",
       "            observer.disconnect();\n",
       "        }}\n",
       "}});\n",
       "\n",
       "// Listen for the removal of the full notebook cells\n",
       "var notebookContainer = gd.closest('#notebook-container');\n",
       "if (notebookContainer) {{\n",
       "    x.observe(notebookContainer, {childList: true});\n",
       "}}\n",
       "\n",
       "// Listen for the clearing of the current output cell\n",
       "var outputEl = gd.closest('.output');\n",
       "if (outputEl) {{\n",
       "    x.observe(outputEl, {childList: true});\n",
       "}}\n",
       "\n",
       "                        })                };                });            </script>        </div>"
      ]
     },
     "metadata": {},
     "output_type": "display_data"
    },
    {
     "data": {
      "text/html": [
       "<div>                            <div id=\"799637c9-1d87-4153-b942-1e8a76b01364\" class=\"plotly-graph-div\" style=\"height:525px; width:100%;\"></div>            <script type=\"text/javascript\">                require([\"plotly\"], function(Plotly) {                    window.PLOTLYENV=window.PLOTLYENV || {};                                    if (document.getElementById(\"799637c9-1d87-4153-b942-1e8a76b01364\")) {                    Plotly.newPlot(                        \"799637c9-1d87-4153-b942-1e8a76b01364\",                        [{\"name\":\"Responses\",\"x\":[\"\\u003c-1.33\",\"[-1.33, -0.15\\u003e\",\"[-0.15, -0.11\\u003e\",\"[-0.11, -0.1\\u003e\",\"[-0.1, -0.09\\u003e\",\"[-0.09, -0.06\\u003e\",\"[-0.06, -0.055\\u003e\",\"[-0.055, -0.05\\u003e\",\"[-0.05, -0.02\\u003e\",\"[-0.02, 0.03\\u003e\",\"[0.03, 0.085\\u003e\",\"[0.085, 0.995\\u003e\",\"\\u003e=0.995\"],\"y\":[4.0,949.0,870.0,220.0,234.0,563.0,77.0,79.0,419.0,374.0,129.0,12.0,16.0],\"type\":\"bar\"},{\"mode\":\"lines+markers\",\"name\":\"Propensity\",\"x\":[\"\\u003c-1.33\",\"[-1.33, -0.15\\u003e\",\"[-0.15, -0.11\\u003e\",\"[-0.11, -0.1\\u003e\",\"[-0.1, -0.09\\u003e\",\"[-0.09, -0.06\\u003e\",\"[-0.06, -0.055\\u003e\",\"[-0.055, -0.05\\u003e\",\"[-0.05, -0.02\\u003e\",\"[-0.02, 0.03\\u003e\",\"[0.03, 0.085\\u003e\",\"[0.085, 0.995\\u003e\",\"\\u003e=0.995\"],\"y\":[0.0,0.0937829315662384,0.10919540375471115,0.1409090906381607,0.1538461595773697,0.18827708065509796,0.19480518996715546,0.2531645596027374,0.2577565610408783,0.2754010558128357,0.3798449635505676,0.4166666567325592,0.5],\"yaxis\":\"y2\",\"type\":\"scatter\"}],                        {\"template\":{\"data\":{\"scatter\":[{\"type\":\"scatter\"}]}},\"xaxis\":{\"anchor\":\"y\",\"domain\":[0.0,0.94],\"title\":{\"text\":\"Range\"},\"type\":\"category\"},\"yaxis\":{\"anchor\":\"x\",\"domain\":[0.0,1.0],\"title\":{\"text\":\"Responses\"},\"showgrid\":false},\"yaxis2\":{\"anchor\":\"x\",\"overlaying\":\"y\",\"side\":\"right\",\"title\":{\"text\":\"Propensity\"},\"tickformat\":\",.3%\",\"zeroline\":false,\"showgrid\":false},\"title\":{\"text\":\"Classifier score distribution\\u003cbr\\u003e\\n            \\u003csup\\u003eModel name: FirstMortgage\\n            \\u003cbr\\u003eModel ID c\\u003c\\u002fsup\\u003e\"}},                        {\"responsive\": true}                    ).then(function(){\n",
       "                            \n",
       "var gd = document.getElementById('799637c9-1d87-4153-b942-1e8a76b01364');\n",
       "var x = new MutationObserver(function (mutations, observer) {{\n",
       "        var display = window.getComputedStyle(gd).display;\n",
       "        if (!display || display === 'none') {{\n",
       "            console.log([gd, 'removed!']);\n",
       "            Plotly.purge(gd);\n",
       "            observer.disconnect();\n",
       "        }}\n",
       "}});\n",
       "\n",
       "// Listen for the removal of the full notebook cells\n",
       "var notebookContainer = gd.closest('#notebook-container');\n",
       "if (notebookContainer) {{\n",
       "    x.observe(notebookContainer, {childList: true});\n",
       "}}\n",
       "\n",
       "// Listen for the clearing of the current output cell\n",
       "var outputEl = gd.closest('.output');\n",
       "if (outputEl) {{\n",
       "    x.observe(outputEl, {childList: true});\n",
       "}}\n",
       "\n",
       "                        })                };                });            </script>        </div>"
      ]
     },
     "metadata": {},
     "output_type": "display_data"
    },
    {
     "data": {
      "text/html": [
       "<div>                            <div id=\"8214a2a5-25ce-49f2-9eb2-af35873a32de\" class=\"plotly-graph-div\" style=\"height:525px; width:100%;\"></div>            <script type=\"text/javascript\">                require([\"plotly\"], function(Plotly) {                    window.PLOTLYENV=window.PLOTLYENV || {};                                    if (document.getElementById(\"8214a2a5-25ce-49f2-9eb2-af35873a32de\")) {                    Plotly.newPlot(                        \"8214a2a5-25ce-49f2-9eb2-af35873a32de\",                        [{\"name\":\"Responses\",\"x\":[\"\\u003c-0.255\",\"[-0.255, -0.24\\u003e\",\"[-0.24, -0.235\\u003e\",\"[-0.235, -0.195\\u003e\",\"[-0.195, -0.16\\u003e\",\"[-0.16, -0.14\\u003e\",\"[-0.14, -0.125\\u003e\",\"[-0.125, -0.05\\u003e\",\"[-0.05, 0.995\\u003e\",\"\\u003e=0.995\"],\"y\":[134.0,18.0,13.0,75.0,41.0,38.0,26.0,93.0,42.0,2.0],\"type\":\"bar\"},{\"mode\":\"lines+markers\",\"name\":\"Propensity\",\"x\":[\"\\u003c-0.255\",\"[-0.255, -0.24\\u003e\",\"[-0.24, -0.235\\u003e\",\"[-0.235, -0.195\\u003e\",\"[-0.195, -0.16\\u003e\",\"[-0.16, -0.14\\u003e\",\"[-0.14, -0.125\\u003e\",\"[-0.125, -0.05\\u003e\",\"[-0.05, 0.995\\u003e\",\"\\u003e=0.995\"],\"y\":[0.05223880708217621,0.0555555559694767,0.07692307978868484,0.07999999821186066,0.09756097197532654,0.10526315867900848,0.11538461595773697,0.12903225421905518,0.261904776096344,0.5],\"yaxis\":\"y2\",\"type\":\"scatter\"}],                        {\"template\":{\"data\":{\"scatter\":[{\"type\":\"scatter\"}]}},\"xaxis\":{\"anchor\":\"y\",\"domain\":[0.0,0.94],\"title\":{\"text\":\"Range\"},\"type\":\"category\"},\"yaxis\":{\"anchor\":\"x\",\"domain\":[0.0,1.0],\"title\":{\"text\":\"Responses\"},\"showgrid\":false},\"yaxis2\":{\"anchor\":\"x\",\"overlaying\":\"y\",\"side\":\"right\",\"title\":{\"text\":\"Propensity\"},\"tickformat\":\",.3%\",\"zeroline\":false,\"showgrid\":false},\"title\":{\"text\":\"Classifier score distribution\\u003cbr\\u003e\\n            \\u003csup\\u003eModel name: FirstMortgageFiveOneARM\\n            \\u003cbr\\u003eModel ID 7\\u003c\\u002fsup\\u003e\"}},                        {\"responsive\": true}                    ).then(function(){\n",
       "                            \n",
       "var gd = document.getElementById('8214a2a5-25ce-49f2-9eb2-af35873a32de');\n",
       "var x = new MutationObserver(function (mutations, observer) {{\n",
       "        var display = window.getComputedStyle(gd).display;\n",
       "        if (!display || display === 'none') {{\n",
       "            console.log([gd, 'removed!']);\n",
       "            Plotly.purge(gd);\n",
       "            observer.disconnect();\n",
       "        }}\n",
       "}});\n",
       "\n",
       "// Listen for the removal of the full notebook cells\n",
       "var notebookContainer = gd.closest('#notebook-container');\n",
       "if (notebookContainer) {{\n",
       "    x.observe(notebookContainer, {childList: true});\n",
       "}}\n",
       "\n",
       "// Listen for the clearing of the current output cell\n",
       "var outputEl = gd.closest('.output');\n",
       "if (outputEl) {{\n",
       "    x.observe(outputEl, {childList: true});\n",
       "}}\n",
       "\n",
       "                        })                };                });            </script>        </div>"
      ]
     },
     "metadata": {},
     "output_type": "display_data"
    },
    {
     "data": {
      "text/html": [
       "<div>                            <div id=\"8851c426-4abe-485b-8983-be30bbc16acd\" class=\"plotly-graph-div\" style=\"height:525px; width:100%;\"></div>            <script type=\"text/javascript\">                require([\"plotly\"], function(Plotly) {                    window.PLOTLYENV=window.PLOTLYENV || {};                                    if (document.getElementById(\"8851c426-4abe-485b-8983-be30bbc16acd\")) {                    Plotly.newPlot(                        \"8851c426-4abe-485b-8983-be30bbc16acd\",                        [{\"name\":\"Responses\",\"x\":[\"\\u003c-1.95\",\"[-1.95, -0.23\\u003e\",\"[-0.23, -0.18\\u003e\",\"[-0.18, -0.075\\u003e\",\"[-0.075, -0.06\\u003e\",\"[-0.06, -0.01\\u003e\",\"[-0.01, 0.005\\u003e\",\"[0.005, 0.08\\u003e\",\"[0.08, 0.165\\u003e\",\"[0.165, 0.995\\u003e\",\"\\u003e=0.995\"],\"y\":[27.0,671.0,254.0,353.0,30.0,59.0,13.0,29.0,7.0,2.0,2.0],\"type\":\"bar\"},{\"mode\":\"lines+markers\",\"name\":\"Propensity\",\"x\":[\"\\u003c-1.95\",\"[-1.95, -0.23\\u003e\",\"[-0.23, -0.18\\u003e\",\"[-0.18, -0.075\\u003e\",\"[-0.075, -0.06\\u003e\",\"[-0.06, -0.01\\u003e\",\"[-0.01, 0.005\\u003e\",\"[0.005, 0.08\\u003e\",\"[0.08, 0.165\\u003e\",\"[0.165, 0.995\\u003e\",\"\\u003e=0.995\"],\"y\":[0.0,0.019374068826436996,0.023622047156095505,0.025495750829577446,0.03333333507180214,0.1525423675775528,0.1538461595773697,0.2068965584039688,0.2857142984867096,0.5,1.0],\"yaxis\":\"y2\",\"type\":\"scatter\"}],                        {\"template\":{\"data\":{\"scatter\":[{\"type\":\"scatter\"}]}},\"xaxis\":{\"anchor\":\"y\",\"domain\":[0.0,0.94],\"title\":{\"text\":\"Range\"},\"type\":\"category\"},\"yaxis\":{\"anchor\":\"x\",\"domain\":[0.0,1.0],\"title\":{\"text\":\"Responses\"},\"showgrid\":false},\"yaxis2\":{\"anchor\":\"x\",\"overlaying\":\"y\",\"side\":\"right\",\"title\":{\"text\":\"Propensity\"},\"tickformat\":\",.3%\",\"zeroline\":false,\"showgrid\":false},\"title\":{\"text\":\"Classifier score distribution\\u003cbr\\u003e\\n            \\u003csup\\u003eModel name: AutoUsed48Months\\n            \\u003cbr\\u003eModel ID a\\u003c\\u002fsup\\u003e\"}},                        {\"responsive\": true}                    ).then(function(){\n",
       "                            \n",
       "var gd = document.getElementById('8851c426-4abe-485b-8983-be30bbc16acd');\n",
       "var x = new MutationObserver(function (mutations, observer) {{\n",
       "        var display = window.getComputedStyle(gd).display;\n",
       "        if (!display || display === 'none') {{\n",
       "            console.log([gd, 'removed!']);\n",
       "            Plotly.purge(gd);\n",
       "            observer.disconnect();\n",
       "        }}\n",
       "}});\n",
       "\n",
       "// Listen for the removal of the full notebook cells\n",
       "var notebookContainer = gd.closest('#notebook-container');\n",
       "if (notebookContainer) {{\n",
       "    x.observe(notebookContainer, {childList: true});\n",
       "}}\n",
       "\n",
       "// Listen for the clearing of the current output cell\n",
       "var outputEl = gd.closest('.output');\n",
       "if (outputEl) {{\n",
       "    x.observe(outputEl, {childList: true});\n",
       "}}\n",
       "\n",
       "                        })                };                });            </script>        </div>"
      ]
     },
     "metadata": {},
     "output_type": "display_data"
    },
    {
     "data": {
      "text/html": [
       "<div>                            <div id=\"a3c69cb7-9ab0-4f12-a750-85c7cd3bfa57\" class=\"plotly-graph-div\" style=\"height:525px; width:100%;\"></div>            <script type=\"text/javascript\">                require([\"plotly\"], function(Plotly) {                    window.PLOTLYENV=window.PLOTLYENV || {};                                    if (document.getElementById(\"a3c69cb7-9ab0-4f12-a750-85c7cd3bfa57\")) {                    Plotly.newPlot(                        \"a3c69cb7-9ab0-4f12-a750-85c7cd3bfa57\",                        [{\"name\":\"Responses\",\"x\":[\"\\u003c-0.63\",\"[-0.63, -0.31\\u003e\",\"[-0.31, -0.28\\u003e\",\"[-0.28, -0.25\\u003e\",\"[-0.25, 0.99\\u003e\",\"\\u003e=0.99\"],\"y\":[99.0,135.0,30.0,16.0,69.0,13.0],\"type\":\"bar\"},{\"mode\":\"lines+markers\",\"name\":\"Propensity\",\"x\":[\"\\u003c-0.63\",\"[-0.63, -0.31\\u003e\",\"[-0.31, -0.28\\u003e\",\"[-0.28, -0.25\\u003e\",\"[-0.25, 0.99\\u003e\",\"\\u003e=0.99\"],\"y\":[0.010101010091602802,0.029629629105329514,0.03333333507180214,0.0625,0.07246376574039459,0.07692307978868484],\"yaxis\":\"y2\",\"type\":\"scatter\"}],                        {\"template\":{\"data\":{\"scatter\":[{\"type\":\"scatter\"}]}},\"xaxis\":{\"anchor\":\"y\",\"domain\":[0.0,0.94],\"title\":{\"text\":\"Range\"},\"type\":\"category\"},\"yaxis\":{\"anchor\":\"x\",\"domain\":[0.0,1.0],\"title\":{\"text\":\"Responses\"},\"showgrid\":false},\"yaxis2\":{\"anchor\":\"x\",\"overlaying\":\"y\",\"side\":\"right\",\"title\":{\"text\":\"Propensity\"},\"tickformat\":\",.3%\",\"zeroline\":false,\"showgrid\":false},\"title\":{\"text\":\"Classifier score distribution\\u003cbr\\u003e\\n            \\u003csup\\u003eModel name: FirstMortgageFHA\\n            \\u003cbr\\u003eModel ID c\\u003c\\u002fsup\\u003e\"}},                        {\"responsive\": true}                    ).then(function(){\n",
       "                            \n",
       "var gd = document.getElementById('a3c69cb7-9ab0-4f12-a750-85c7cd3bfa57');\n",
       "var x = new MutationObserver(function (mutations, observer) {{\n",
       "        var display = window.getComputedStyle(gd).display;\n",
       "        if (!display || display === 'none') {{\n",
       "            console.log([gd, 'removed!']);\n",
       "            Plotly.purge(gd);\n",
       "            observer.disconnect();\n",
       "        }}\n",
       "}});\n",
       "\n",
       "// Listen for the removal of the full notebook cells\n",
       "var notebookContainer = gd.closest('#notebook-container');\n",
       "if (notebookContainer) {{\n",
       "    x.observe(notebookContainer, {childList: true});\n",
       "}}\n",
       "\n",
       "// Listen for the clearing of the current output cell\n",
       "var outputEl = gd.closest('.output');\n",
       "if (outputEl) {{\n",
       "    x.observe(outputEl, {childList: true});\n",
       "}}\n",
       "\n",
       "                        })                };                });            </script>        </div>"
      ]
     },
     "metadata": {},
     "output_type": "display_data"
    },
    {
     "data": {
      "text/html": [
       "<div>                            <div id=\"a2eb94c5-3376-45c5-b248-690b236108f5\" class=\"plotly-graph-div\" style=\"height:525px; width:100%;\"></div>            <script type=\"text/javascript\">                require([\"plotly\"], function(Plotly) {                    window.PLOTLYENV=window.PLOTLYENV || {};                                    if (document.getElementById(\"a2eb94c5-3376-45c5-b248-690b236108f5\")) {                    Plotly.newPlot(                        \"a2eb94c5-3376-45c5-b248-690b236108f5\",                        [{\"name\":\"Responses\",\"x\":[\"\\u003c-1.65\",\"[-1.65, -0.245\\u003e\",\"[-0.245, -0.16\\u003e\",\"[-0.16, 0.02\\u003e\",\"[0.02, 0.075\\u003e\",\"[0.075, 0.995\\u003e\",\"\\u003e=0.995\"],\"y\":[14.0,376.0,153.0,219.0,32.0,31.0,3.0],\"type\":\"bar\"},{\"mode\":\"lines+markers\",\"name\":\"Propensity\",\"x\":[\"\\u003c-1.65\",\"[-1.65, -0.245\\u003e\",\"[-0.245, -0.16\\u003e\",\"[-0.16, 0.02\\u003e\",\"[0.02, 0.075\\u003e\",\"[0.075, 0.995\\u003e\",\"\\u003e=0.995\"],\"y\":[0.0,0.029255319386720657,0.05228758230805397,0.06849315017461777,0.1875,0.32258063554763794,0.6666666865348816],\"yaxis\":\"y2\",\"type\":\"scatter\"}],                        {\"template\":{\"data\":{\"scatter\":[{\"type\":\"scatter\"}]}},\"xaxis\":{\"anchor\":\"y\",\"domain\":[0.0,0.94],\"title\":{\"text\":\"Range\"},\"type\":\"category\"},\"yaxis\":{\"anchor\":\"x\",\"domain\":[0.0,1.0],\"title\":{\"text\":\"Responses\"},\"showgrid\":false},\"yaxis2\":{\"anchor\":\"x\",\"overlaying\":\"y\",\"side\":\"right\",\"title\":{\"text\":\"Propensity\"},\"tickformat\":\",.3%\",\"zeroline\":false,\"showgrid\":false},\"title\":{\"text\":\"Classifier score distribution\\u003cbr\\u003e\\n            \\u003csup\\u003eModel name: ChannelAction_Template\\n            \\u003cbr\\u003eModel ID 2\\u003c\\u002fsup\\u003e\"}},                        {\"responsive\": true}                    ).then(function(){\n",
       "                            \n",
       "var gd = document.getElementById('a2eb94c5-3376-45c5-b248-690b236108f5');\n",
       "var x = new MutationObserver(function (mutations, observer) {{\n",
       "        var display = window.getComputedStyle(gd).display;\n",
       "        if (!display || display === 'none') {{\n",
       "            console.log([gd, 'removed!']);\n",
       "            Plotly.purge(gd);\n",
       "            observer.disconnect();\n",
       "        }}\n",
       "}});\n",
       "\n",
       "// Listen for the removal of the full notebook cells\n",
       "var notebookContainer = gd.closest('#notebook-container');\n",
       "if (notebookContainer) {{\n",
       "    x.observe(notebookContainer, {childList: true});\n",
       "}}\n",
       "\n",
       "// Listen for the clearing of the current output cell\n",
       "var outputEl = gd.closest('.output');\n",
       "if (outputEl) {{\n",
       "    x.observe(outputEl, {childList: true});\n",
       "}}\n",
       "\n",
       "                        })                };                });            </script>        </div>"
      ]
     },
     "metadata": {},
     "output_type": "display_data"
    },
    {
     "data": {
      "text/html": [
       "<div>                            <div id=\"52ad1aa8-b2bd-4413-9aca-6db1cd072bf7\" class=\"plotly-graph-div\" style=\"height:525px; width:100%;\"></div>            <script type=\"text/javascript\">                require([\"plotly\"], function(Plotly) {                    window.PLOTLYENV=window.PLOTLYENV || {};                                    if (document.getElementById(\"52ad1aa8-b2bd-4413-9aca-6db1cd072bf7\")) {                    Plotly.newPlot(                        \"52ad1aa8-b2bd-4413-9aca-6db1cd072bf7\",                        [{\"name\":\"Responses\",\"x\":[\"\\u003c0.99\",\"\\u003e=0.99\"],\"y\":[344.0,100.0],\"type\":\"bar\"},{\"mode\":\"lines+markers\",\"name\":\"Propensity\",\"x\":[\"\\u003c0.99\",\"\\u003e=0.99\"],\"y\":[0.0029069767333567142,0.009999999776482582],\"yaxis\":\"y2\",\"type\":\"scatter\"}],                        {\"template\":{\"data\":{\"scatter\":[{\"type\":\"scatter\"}]}},\"xaxis\":{\"anchor\":\"y\",\"domain\":[0.0,0.94],\"title\":{\"text\":\"Range\"},\"type\":\"category\"},\"yaxis\":{\"anchor\":\"x\",\"domain\":[0.0,1.0],\"title\":{\"text\":\"Responses\"},\"showgrid\":false},\"yaxis2\":{\"anchor\":\"x\",\"overlaying\":\"y\",\"side\":\"right\",\"title\":{\"text\":\"Propensity\"},\"tickformat\":\",.3%\",\"zeroline\":false,\"showgrid\":false},\"title\":{\"text\":\"Classifier score distribution\\u003cbr\\u003e\\n            \\u003csup\\u003eModel name: FirstMortgageFloat\\n            \\u003cbr\\u003eModel ID 4\\u003c\\u002fsup\\u003e\"}},                        {\"responsive\": true}                    ).then(function(){\n",
       "                            \n",
       "var gd = document.getElementById('52ad1aa8-b2bd-4413-9aca-6db1cd072bf7');\n",
       "var x = new MutationObserver(function (mutations, observer) {{\n",
       "        var display = window.getComputedStyle(gd).display;\n",
       "        if (!display || display === 'none') {{\n",
       "            console.log([gd, 'removed!']);\n",
       "            Plotly.purge(gd);\n",
       "            observer.disconnect();\n",
       "        }}\n",
       "}});\n",
       "\n",
       "// Listen for the removal of the full notebook cells\n",
       "var notebookContainer = gd.closest('#notebook-container');\n",
       "if (notebookContainer) {{\n",
       "    x.observe(notebookContainer, {childList: true});\n",
       "}}\n",
       "\n",
       "// Listen for the clearing of the current output cell\n",
       "var outputEl = gd.closest('.output');\n",
       "if (outputEl) {{\n",
       "    x.observe(outputEl, {childList: true});\n",
       "}}\n",
       "\n",
       "                        })                };                });            </script>        </div>"
      ]
     },
     "metadata": {},
     "output_type": "display_data"
    },
    {
     "data": {
      "text/html": [
       "<div>                            <div id=\"c882a009-c4dd-4f2b-aeec-87eb19911b85\" class=\"plotly-graph-div\" style=\"height:525px; width:100%;\"></div>            <script type=\"text/javascript\">                require([\"plotly\"], function(Plotly) {                    window.PLOTLYENV=window.PLOTLYENV || {};                                    if (document.getElementById(\"c882a009-c4dd-4f2b-aeec-87eb19911b85\")) {                    Plotly.newPlot(                        \"c882a009-c4dd-4f2b-aeec-87eb19911b85\",                        [{\"name\":\"Responses\",\"x\":[\"\\u003c-0.47\",\"[-0.47, -0.205\\u003e\",\"[-0.205, -0.12\\u003e\",\"[-0.12, -0.115\\u003e\",\"[-0.115, -0.085\\u003e\",\"[-0.085, -0.01\\u003e\",\"[-0.01, 0.155\\u003e\",\"[0.155, 0.995\\u003e\",\"\\u003e=0.995\"],\"y\":[72.0,451.0,308.0,19.0,102.0,165.0,62.0,4.0,1.0],\"type\":\"bar\"},{\"mode\":\"lines+markers\",\"name\":\"Propensity\",\"x\":[\"\\u003c-0.47\",\"[-0.47, -0.205\\u003e\",\"[-0.205, -0.12\\u003e\",\"[-0.12, -0.115\\u003e\",\"[-0.115, -0.085\\u003e\",\"[-0.085, -0.01\\u003e\",\"[-0.01, 0.155\\u003e\",\"[0.155, 0.995\\u003e\",\"\\u003e=0.995\"],\"y\":[0.02777777798473835,0.033259425312280655,0.048701297491788864,0.05263157933950424,0.0784313753247261,0.10303030163049698,0.11290322244167328,0.25,1.0],\"yaxis\":\"y2\",\"type\":\"scatter\"}],                        {\"template\":{\"data\":{\"scatter\":[{\"type\":\"scatter\"}]}},\"xaxis\":{\"anchor\":\"y\",\"domain\":[0.0,0.94],\"title\":{\"text\":\"Range\"},\"type\":\"category\"},\"yaxis\":{\"anchor\":\"x\",\"domain\":[0.0,1.0],\"title\":{\"text\":\"Responses\"},\"showgrid\":false},\"yaxis2\":{\"anchor\":\"x\",\"overlaying\":\"y\",\"side\":\"right\",\"title\":{\"text\":\"Propensity\"},\"tickformat\":\",.3%\",\"zeroline\":false,\"showgrid\":false},\"title\":{\"text\":\"Classifier score distribution\\u003cbr\\u003e\\n            \\u003csup\\u003eModel name: AutoNew84Months\\n            \\u003cbr\\u003eModel ID f\\u003c\\u002fsup\\u003e\"}},                        {\"responsive\": true}                    ).then(function(){\n",
       "                            \n",
       "var gd = document.getElementById('c882a009-c4dd-4f2b-aeec-87eb19911b85');\n",
       "var x = new MutationObserver(function (mutations, observer) {{\n",
       "        var display = window.getComputedStyle(gd).display;\n",
       "        if (!display || display === 'none') {{\n",
       "            console.log([gd, 'removed!']);\n",
       "            Plotly.purge(gd);\n",
       "            observer.disconnect();\n",
       "        }}\n",
       "}});\n",
       "\n",
       "// Listen for the removal of the full notebook cells\n",
       "var notebookContainer = gd.closest('#notebook-container');\n",
       "if (notebookContainer) {{\n",
       "    x.observe(notebookContainer, {childList: true});\n",
       "}}\n",
       "\n",
       "// Listen for the clearing of the current output cell\n",
       "var outputEl = gd.closest('.output');\n",
       "if (outputEl) {{\n",
       "    x.observe(outputEl, {childList: true});\n",
       "}}\n",
       "\n",
       "                        })                };                });            </script>        </div>"
      ]
     },
     "metadata": {},
     "output_type": "display_data"
    }
   ],
   "source": [
    "data.plotScoreDistribution(show_each=True);\n"
   ]
  },
  {
   "cell_type": "markdown",
   "metadata": {},
   "source": [
    "## Tree Map"
   ]
  },
  {
   "cell_type": "code",
   "execution_count": 13,
   "metadata": {
    "execution": {
     "iopub.execute_input": "2023-12-08T09:58:19.745430Z",
     "iopub.status.busy": "2023-12-08T09:58:19.745092Z",
     "iopub.status.idle": "2023-12-08T09:58:19.869148Z",
     "shell.execute_reply": "2023-12-08T09:58:19.868550Z"
    }
   },
   "outputs": [
    {
     "name": "stderr",
     "output_type": "stream",
     "text": [
      "The predicate '[([(col(\"Performance\")) * (col(\"ResponseCount\").cast(Float64))].sum()) / (col(\"ResponseCount\").sum().cast(Float64))].alias(\"Performance_weighted\").is_not_nan()' in 'when->then->otherwise' is not a valid aggregation and might produce a different number of rows than the group_by operation would. This behavior is experimental and may be subject to change\n"
     ]
    },
    {
     "data": {
      "text/html": [
       "<div>                            <div id=\"794a6cbb-fdc5-4325-ada8-13884e8ff40a\" class=\"plotly-graph-div\" style=\"height:525px; width:100%;\"></div>            <script type=\"text/javascript\">                require([\"plotly\"], function(Plotly) {                    window.PLOTLYENV=window.PLOTLYENV || {};                                    if (document.getElementById(\"794a6cbb-fdc5-4325-ada8-13884e8ff40a\")) {                    Plotly.newPlot(                        \"794a6cbb-fdc5-4325-ada8-13884e8ff40a\",                        [{\"branchvalues\":\"total\",\"customdata\":[[2,0.0,13544.0,4.6388468742370605,62.99525834317778,631.0],[1,0.0,7415.0,0.7282535433769226,62.944199999999995,54.0],[3,0.0,23129.0,5.640022277832031,66.27309054433826,1341.0],[3,0.0,8823.0,8.443954467773438,60.655552975178516,516.0],[5,0.0,14820.0,2.716142416000366,56.309893400809734,289.0],[5,0.0,15761.0,4.765020370483398,61.34172346297822,692.0],[3,0.0,11048.0,8.00528335571289,70.77251884503983,822.0],[2,0.0,10633.0,1.0666604042053223,61.35216929370826,112.0],[3,0.0,11134.0,8.278606414794922,68.66853960840668,772.0],[5,0.0,6966.0,8.123114585876465,63.00027265288544,473.0],[6,0.0,10262.0,1.5054700374603271,55.4294000877022,130.0],[8,0.0,12383.0,6.074169158935547,61.00976363562949,641.0],[1,0.0,7096.0,18.940248489379883,62.21869999999999,1344.0],[3,0.0,8634.0,18.635272979736328,52.95501125781792,1908.0],[5,0.0,12271.0,4.838988780975342,53.05561875152798,754.0],[4,0.0,10488.0,13.958417892456055,53.16843408657515,1840.0],[3,0.0,5043.0,14.01188850402832,63.687832718619866,994.0],[3,0.0,1210.0,2.172286033630371,56.29142462809917,25.0],[3,0.0,4905.0,12.429615020751953,63.7114104587156,763.0],[17,0.0,\"(?)\",\"(?)\",62.30671239143503,\"(?)\"],[21,0.0,\"(?)\",\"(?)\",55.76107494093408,\"(?)\"],[23,0.0,\"(?)\",\"(?)\",61.06957882380845,\"(?)\"],[2,0.0,13544.0,4.6388468742370605,62.99525834317778,631.0],[1,0.0,7415.0,0.7282535433769226,62.944199999999995,54.0],[4,0.0,\"(?)\",\"(?)\",65.25949290825369,\"(?)\"],[19,0.0,\"(?)\",\"(?)\",62.3791909126711,\"(?)\"],[22,0.0,\"(?)\",\"(?)\",56.08758062543707,\"(?)\"],[27,0.0,\"(?)\",\"(?)\",61.690306836318854,\"(?)\"],[22,0.0,\"(?)\",\"(?)\",56.08758062543707,\"(?)\"],[27,0.0,\"(?)\",\"(?)\",61.690306836318854,\"(?)\"],[19,0.0,\"(?)\",\"(?)\",62.3791909126711,\"(?)\"],[68,0.0,\"(?)\",\"(?)\",60.07014243648494,\"(?)\"]],\"domain\":{\"x\":[0.0,1.0],\"y\":[0.0,1.0]},\"hovertemplate\":\"labels=%{label}\\u003cbr\\u003eModel count=%{customdata[0]:.d}\\u003cbr\\u003eparent=%{parent}\\u003cbr\\u003eid=%{id}\\u003cbr\\u003ePercentage without responses=%{customdata[1]:.0%}\\u003cbr\\u003eResponse Count sum=%{customdata[2]:.d}\\u003cbr\\u003e(%) Success Rate mean=%{customdata[3]:.3f}\\u003cbr\\u003ePerformance weighted mean=%{color:.2f}\\u003cbr\\u003ePositives sum=%{customdata[5]:.d}\\u003cextra\\u003e\\u003c\\u002fextra\\u003e\",\"ids\":[\"All contexts\\u002fWeb\\u002fInbound\\u002fServices\\u002fAccount\",\"All contexts\\u002fEmail\\u002fOutbound\\u002fServices\\u002fAccount\",\"All contexts\\u002fSMS\\u002fOutbound\\u002fServices\\u002fAccount\",\"All contexts\\u002fWeb\\u002fInbound\\u002fSales\\u002fAutoLoans\",\"All contexts\\u002fEmail\\u002fOutbound\\u002fSales\\u002fAutoLoans\",\"All contexts\\u002fSMS\\u002fOutbound\\u002fSales\\u002fAutoLoans\",\"All contexts\\u002fWeb\\u002fInbound\\u002fSales\\u002fBundles\",\"All contexts\\u002fEmail\\u002fOutbound\\u002fSales\\u002fBundles\",\"All contexts\\u002fSMS\\u002fOutbound\\u002fSales\\u002fBundles\",\"All contexts\\u002fWeb\\u002fInbound\\u002fSales\\u002fCreditCards\",\"All contexts\\u002fEmail\\u002fOutbound\\u002fSales\\u002fCreditCards\",\"All contexts\\u002fSMS\\u002fOutbound\\u002fSales\\u002fCreditCards\",\"All contexts\\u002fSMS\\u002fOutbound\\u002fServices\\u002fCustomer\",\"All contexts\\u002fWeb\\u002fInbound\\u002fSales\\u002fDepositAccounts\",\"All contexts\\u002fEmail\\u002fOutbound\\u002fSales\\u002fDepositAccounts\",\"All contexts\\u002fSMS\\u002fOutbound\\u002fSales\\u002fDepositAccounts\",\"All contexts\\u002fWeb\\u002fInbound\\u002fSales\\u002fHomeLoans\",\"All contexts\\u002fEmail\\u002fOutbound\\u002fSales\\u002fHomeLoans\",\"All contexts\\u002fSMS\\u002fOutbound\\u002fSales\\u002fHomeLoans\",\"All contexts\\u002fWeb\\u002fInbound\\u002fSales\",\"All contexts\\u002fEmail\\u002fOutbound\\u002fSales\",\"All contexts\\u002fSMS\\u002fOutbound\\u002fSales\",\"All contexts\\u002fWeb\\u002fInbound\\u002fServices\",\"All contexts\\u002fEmail\\u002fOutbound\\u002fServices\",\"All contexts\\u002fSMS\\u002fOutbound\\u002fServices\",\"All contexts\\u002fWeb\\u002fInbound\",\"All contexts\\u002fEmail\\u002fOutbound\",\"All contexts\\u002fSMS\\u002fOutbound\",\"All contexts\\u002fEmail\",\"All contexts\\u002fSMS\",\"All contexts\\u002fWeb\",\"All contexts\"],\"labels\":[\"Account\",\"Account\",\"Account\",\"AutoLoans\",\"AutoLoans\",\"AutoLoans\",\"Bundles\",\"Bundles\",\"Bundles\",\"CreditCards\",\"CreditCards\",\"CreditCards\",\"Customer\",\"DepositAccounts\",\"DepositAccounts\",\"DepositAccounts\",\"HomeLoans\",\"HomeLoans\",\"HomeLoans\",\"Sales\",\"Sales\",\"Sales\",\"Services\",\"Services\",\"Services\",\"Inbound\",\"Outbound\",\"Outbound\",\"Email\",\"SMS\",\"Web\",\"All contexts\"],\"marker\":{\"coloraxis\":\"coloraxis\",\"colors\":[62.99525834317778,62.944199999999995,66.27309054433826,60.655552975178516,56.309893400809734,61.34172346297822,70.77251884503983,61.35216929370826,68.66853960840668,63.00027265288544,55.4294000877022,61.00976363562949,62.21869999999999,52.95501125781792,53.05561875152798,53.16843408657515,63.687832718619866,56.29142462809917,63.7114104587156,62.30671239143503,55.76107494093408,61.06957882380845,62.99525834317778,62.944199999999995,65.25949290825369,62.3791909126711,56.08758062543707,61.690306836318854,56.08758062543707,61.690306836318854,62.3791909126711,60.07014243648494]},\"name\":\"\",\"parents\":[\"All contexts\\u002fWeb\\u002fInbound\\u002fServices\",\"All contexts\\u002fEmail\\u002fOutbound\\u002fServices\",\"All contexts\\u002fSMS\\u002fOutbound\\u002fServices\",\"All contexts\\u002fWeb\\u002fInbound\\u002fSales\",\"All contexts\\u002fEmail\\u002fOutbound\\u002fSales\",\"All contexts\\u002fSMS\\u002fOutbound\\u002fSales\",\"All contexts\\u002fWeb\\u002fInbound\\u002fSales\",\"All contexts\\u002fEmail\\u002fOutbound\\u002fSales\",\"All contexts\\u002fSMS\\u002fOutbound\\u002fSales\",\"All contexts\\u002fWeb\\u002fInbound\\u002fSales\",\"All contexts\\u002fEmail\\u002fOutbound\\u002fSales\",\"All contexts\\u002fSMS\\u002fOutbound\\u002fSales\",\"All contexts\\u002fSMS\\u002fOutbound\\u002fServices\",\"All contexts\\u002fWeb\\u002fInbound\\u002fSales\",\"All contexts\\u002fEmail\\u002fOutbound\\u002fSales\",\"All contexts\\u002fSMS\\u002fOutbound\\u002fSales\",\"All contexts\\u002fWeb\\u002fInbound\\u002fSales\",\"All contexts\\u002fEmail\\u002fOutbound\\u002fSales\",\"All contexts\\u002fSMS\\u002fOutbound\\u002fSales\",\"All contexts\\u002fWeb\\u002fInbound\",\"All contexts\\u002fEmail\\u002fOutbound\",\"All contexts\\u002fSMS\\u002fOutbound\",\"All contexts\\u002fWeb\\u002fInbound\",\"All contexts\\u002fEmail\\u002fOutbound\",\"All contexts\\u002fSMS\\u002fOutbound\",\"All contexts\\u002fWeb\",\"All contexts\\u002fEmail\",\"All contexts\\u002fSMS\",\"All contexts\",\"All contexts\",\"All contexts\",\"\"],\"values\":[2,1,3,3,5,5,3,2,3,5,6,8,1,3,5,4,3,3,3,17,21,23,2,1,4,19,22,27,22,27,19,68],\"type\":\"treemap\",\"text\":[62.995,62.944,66.273,60.656,56.31,61.342,70.773,61.352,68.669,63.0,55.429,61.01,62.219,52.955,53.056,53.168,63.688,56.291,63.711,62.307,55.761,61.07,62.995,62.944,65.259,62.379,56.088,61.69,56.088,61.69,62.379,60.07],\"textinfo\":\"label+text\",\"texttemplate\":\"%{label}\\u003cbr\\u003e%{text:.2f}%\"}],                        {\"template\":{\"data\":{\"histogram2dcontour\":[{\"type\":\"histogram2dcontour\",\"colorbar\":{\"outlinewidth\":0,\"ticks\":\"\"},\"colorscale\":[[0.0,\"#0d0887\"],[0.1111111111111111,\"#46039f\"],[0.2222222222222222,\"#7201a8\"],[0.3333333333333333,\"#9c179e\"],[0.4444444444444444,\"#bd3786\"],[0.5555555555555556,\"#d8576b\"],[0.6666666666666666,\"#ed7953\"],[0.7777777777777778,\"#fb9f3a\"],[0.8888888888888888,\"#fdca26\"],[1.0,\"#f0f921\"]]}],\"choropleth\":[{\"type\":\"choropleth\",\"colorbar\":{\"outlinewidth\":0,\"ticks\":\"\"}}],\"histogram2d\":[{\"type\":\"histogram2d\",\"colorbar\":{\"outlinewidth\":0,\"ticks\":\"\"},\"colorscale\":[[0.0,\"#0d0887\"],[0.1111111111111111,\"#46039f\"],[0.2222222222222222,\"#7201a8\"],[0.3333333333333333,\"#9c179e\"],[0.4444444444444444,\"#bd3786\"],[0.5555555555555556,\"#d8576b\"],[0.6666666666666666,\"#ed7953\"],[0.7777777777777778,\"#fb9f3a\"],[0.8888888888888888,\"#fdca26\"],[1.0,\"#f0f921\"]]}],\"heatmap\":[{\"type\":\"heatmap\",\"colorbar\":{\"outlinewidth\":0,\"ticks\":\"\"},\"colorscale\":[[0.0,\"#0d0887\"],[0.1111111111111111,\"#46039f\"],[0.2222222222222222,\"#7201a8\"],[0.3333333333333333,\"#9c179e\"],[0.4444444444444444,\"#bd3786\"],[0.5555555555555556,\"#d8576b\"],[0.6666666666666666,\"#ed7953\"],[0.7777777777777778,\"#fb9f3a\"],[0.8888888888888888,\"#fdca26\"],[1.0,\"#f0f921\"]]}],\"heatmapgl\":[{\"type\":\"heatmapgl\",\"colorbar\":{\"outlinewidth\":0,\"ticks\":\"\"},\"colorscale\":[[0.0,\"#0d0887\"],[0.1111111111111111,\"#46039f\"],[0.2222222222222222,\"#7201a8\"],[0.3333333333333333,\"#9c179e\"],[0.4444444444444444,\"#bd3786\"],[0.5555555555555556,\"#d8576b\"],[0.6666666666666666,\"#ed7953\"],[0.7777777777777778,\"#fb9f3a\"],[0.8888888888888888,\"#fdca26\"],[1.0,\"#f0f921\"]]}],\"contourcarpet\":[{\"type\":\"contourcarpet\",\"colorbar\":{\"outlinewidth\":0,\"ticks\":\"\"}}],\"contour\":[{\"type\":\"contour\",\"colorbar\":{\"outlinewidth\":0,\"ticks\":\"\"},\"colorscale\":[[0.0,\"#0d0887\"],[0.1111111111111111,\"#46039f\"],[0.2222222222222222,\"#7201a8\"],[0.3333333333333333,\"#9c179e\"],[0.4444444444444444,\"#bd3786\"],[0.5555555555555556,\"#d8576b\"],[0.6666666666666666,\"#ed7953\"],[0.7777777777777778,\"#fb9f3a\"],[0.8888888888888888,\"#fdca26\"],[1.0,\"#f0f921\"]]}],\"surface\":[{\"type\":\"surface\",\"colorbar\":{\"outlinewidth\":0,\"ticks\":\"\"},\"colorscale\":[[0.0,\"#0d0887\"],[0.1111111111111111,\"#46039f\"],[0.2222222222222222,\"#7201a8\"],[0.3333333333333333,\"#9c179e\"],[0.4444444444444444,\"#bd3786\"],[0.5555555555555556,\"#d8576b\"],[0.6666666666666666,\"#ed7953\"],[0.7777777777777778,\"#fb9f3a\"],[0.8888888888888888,\"#fdca26\"],[1.0,\"#f0f921\"]]}],\"mesh3d\":[{\"type\":\"mesh3d\",\"colorbar\":{\"outlinewidth\":0,\"ticks\":\"\"}}],\"scatter\":[{\"fillpattern\":{\"fillmode\":\"overlay\",\"size\":10,\"solidity\":0.2},\"type\":\"scatter\"}],\"parcoords\":[{\"type\":\"parcoords\",\"line\":{\"colorbar\":{\"outlinewidth\":0,\"ticks\":\"\"}}}],\"scatterpolargl\":[{\"type\":\"scatterpolargl\",\"marker\":{\"colorbar\":{\"outlinewidth\":0,\"ticks\":\"\"}}}],\"bar\":[{\"error_x\":{\"color\":\"#2a3f5f\"},\"error_y\":{\"color\":\"#2a3f5f\"},\"marker\":{\"line\":{\"color\":\"#E5ECF6\",\"width\":0.5},\"pattern\":{\"fillmode\":\"overlay\",\"size\":10,\"solidity\":0.2}},\"type\":\"bar\"}],\"scattergeo\":[{\"type\":\"scattergeo\",\"marker\":{\"colorbar\":{\"outlinewidth\":0,\"ticks\":\"\"}}}],\"scatterpolar\":[{\"type\":\"scatterpolar\",\"marker\":{\"colorbar\":{\"outlinewidth\":0,\"ticks\":\"\"}}}],\"histogram\":[{\"marker\":{\"pattern\":{\"fillmode\":\"overlay\",\"size\":10,\"solidity\":0.2}},\"type\":\"histogram\"}],\"scattergl\":[{\"type\":\"scattergl\",\"marker\":{\"colorbar\":{\"outlinewidth\":0,\"ticks\":\"\"}}}],\"scatter3d\":[{\"type\":\"scatter3d\",\"line\":{\"colorbar\":{\"outlinewidth\":0,\"ticks\":\"\"}},\"marker\":{\"colorbar\":{\"outlinewidth\":0,\"ticks\":\"\"}}}],\"scattermapbox\":[{\"type\":\"scattermapbox\",\"marker\":{\"colorbar\":{\"outlinewidth\":0,\"ticks\":\"\"}}}],\"scatterternary\":[{\"type\":\"scatterternary\",\"marker\":{\"colorbar\":{\"outlinewidth\":0,\"ticks\":\"\"}}}],\"scattercarpet\":[{\"type\":\"scattercarpet\",\"marker\":{\"colorbar\":{\"outlinewidth\":0,\"ticks\":\"\"}}}],\"carpet\":[{\"aaxis\":{\"endlinecolor\":\"#2a3f5f\",\"gridcolor\":\"white\",\"linecolor\":\"white\",\"minorgridcolor\":\"white\",\"startlinecolor\":\"#2a3f5f\"},\"baxis\":{\"endlinecolor\":\"#2a3f5f\",\"gridcolor\":\"white\",\"linecolor\":\"white\",\"minorgridcolor\":\"white\",\"startlinecolor\":\"#2a3f5f\"},\"type\":\"carpet\"}],\"table\":[{\"cells\":{\"fill\":{\"color\":\"#EBF0F8\"},\"line\":{\"color\":\"white\"}},\"header\":{\"fill\":{\"color\":\"#C8D4E3\"},\"line\":{\"color\":\"white\"}},\"type\":\"table\"}],\"barpolar\":[{\"marker\":{\"line\":{\"color\":\"#E5ECF6\",\"width\":0.5},\"pattern\":{\"fillmode\":\"overlay\",\"size\":10,\"solidity\":0.2}},\"type\":\"barpolar\"}],\"pie\":[{\"automargin\":true,\"type\":\"pie\"}]},\"layout\":{\"autotypenumbers\":\"strict\",\"colorway\":[\"#636efa\",\"#EF553B\",\"#00cc96\",\"#ab63fa\",\"#FFA15A\",\"#19d3f3\",\"#FF6692\",\"#B6E880\",\"#FF97FF\",\"#FECB52\"],\"font\":{\"color\":\"#2a3f5f\"},\"hovermode\":\"closest\",\"hoverlabel\":{\"align\":\"left\"},\"paper_bgcolor\":\"white\",\"plot_bgcolor\":\"#E5ECF6\",\"polar\":{\"bgcolor\":\"#E5ECF6\",\"angularaxis\":{\"gridcolor\":\"white\",\"linecolor\":\"white\",\"ticks\":\"\"},\"radialaxis\":{\"gridcolor\":\"white\",\"linecolor\":\"white\",\"ticks\":\"\"}},\"ternary\":{\"bgcolor\":\"#E5ECF6\",\"aaxis\":{\"gridcolor\":\"white\",\"linecolor\":\"white\",\"ticks\":\"\"},\"baxis\":{\"gridcolor\":\"white\",\"linecolor\":\"white\",\"ticks\":\"\"},\"caxis\":{\"gridcolor\":\"white\",\"linecolor\":\"white\",\"ticks\":\"\"}},\"coloraxis\":{\"colorbar\":{\"outlinewidth\":0,\"ticks\":\"\"}},\"colorscale\":{\"sequential\":[[0.0,\"#0d0887\"],[0.1111111111111111,\"#46039f\"],[0.2222222222222222,\"#7201a8\"],[0.3333333333333333,\"#9c179e\"],[0.4444444444444444,\"#bd3786\"],[0.5555555555555556,\"#d8576b\"],[0.6666666666666666,\"#ed7953\"],[0.7777777777777778,\"#fb9f3a\"],[0.8888888888888888,\"#fdca26\"],[1.0,\"#f0f921\"]],\"sequentialminus\":[[0.0,\"#0d0887\"],[0.1111111111111111,\"#46039f\"],[0.2222222222222222,\"#7201a8\"],[0.3333333333333333,\"#9c179e\"],[0.4444444444444444,\"#bd3786\"],[0.5555555555555556,\"#d8576b\"],[0.6666666666666666,\"#ed7953\"],[0.7777777777777778,\"#fb9f3a\"],[0.8888888888888888,\"#fdca26\"],[1.0,\"#f0f921\"]],\"diverging\":[[0,\"#8e0152\"],[0.1,\"#c51b7d\"],[0.2,\"#de77ae\"],[0.3,\"#f1b6da\"],[0.4,\"#fde0ef\"],[0.5,\"#f7f7f7\"],[0.6,\"#e6f5d0\"],[0.7,\"#b8e186\"],[0.8,\"#7fbc41\"],[0.9,\"#4d9221\"],[1,\"#276419\"]]},\"xaxis\":{\"gridcolor\":\"white\",\"linecolor\":\"white\",\"ticks\":\"\",\"title\":{\"standoff\":15},\"zerolinecolor\":\"white\",\"automargin\":true,\"zerolinewidth\":2},\"yaxis\":{\"gridcolor\":\"white\",\"linecolor\":\"white\",\"ticks\":\"\",\"title\":{\"standoff\":15},\"zerolinecolor\":\"white\",\"automargin\":true,\"zerolinewidth\":2},\"scene\":{\"xaxis\":{\"backgroundcolor\":\"#E5ECF6\",\"gridcolor\":\"white\",\"linecolor\":\"white\",\"showbackground\":true,\"ticks\":\"\",\"zerolinecolor\":\"white\",\"gridwidth\":2},\"yaxis\":{\"backgroundcolor\":\"#E5ECF6\",\"gridcolor\":\"white\",\"linecolor\":\"white\",\"showbackground\":true,\"ticks\":\"\",\"zerolinecolor\":\"white\",\"gridwidth\":2},\"zaxis\":{\"backgroundcolor\":\"#E5ECF6\",\"gridcolor\":\"white\",\"linecolor\":\"white\",\"showbackground\":true,\"ticks\":\"\",\"zerolinecolor\":\"white\",\"gridwidth\":2}},\"shapedefaults\":{\"line\":{\"color\":\"#2a3f5f\"}},\"annotationdefaults\":{\"arrowcolor\":\"#2a3f5f\",\"arrowhead\":0,\"arrowwidth\":1},\"geo\":{\"bgcolor\":\"white\",\"landcolor\":\"#E5ECF6\",\"subunitcolor\":\"white\",\"showland\":true,\"showlakes\":true,\"lakecolor\":\"white\"},\"title\":{\"x\":0.05},\"mapbox\":{\"style\":\"light\"}}},\"coloraxis\":{\"colorbar\":{\"title\":{\"text\":\"Performance weighted mean\"}},\"colorscale\":[[0,\"#d91c29\"],[0.01,\"#F76923\"],[0.3,\"#20aa50\"],[0.8,\"#20aa50\"],[1,\"#0000FF\"]],\"cmin\":50,\"cmax\":100,\"reversescale\":false},\"legend\":{\"tracegroupgap\":0},\"title\":{\"text\":\"Weighted mean performance, per context key combination\"}},                        {\"responsive\": true}                    ).then(function(){\n",
       "                            \n",
       "var gd = document.getElementById('794a6cbb-fdc5-4325-ada8-13884e8ff40a');\n",
       "var x = new MutationObserver(function (mutations, observer) {{\n",
       "        var display = window.getComputedStyle(gd).display;\n",
       "        if (!display || display === 'none') {{\n",
       "            console.log([gd, 'removed!']);\n",
       "            Plotly.purge(gd);\n",
       "            observer.disconnect();\n",
       "        }}\n",
       "}});\n",
       "\n",
       "// Listen for the removal of the full notebook cells\n",
       "var notebookContainer = gd.closest('#notebook-container');\n",
       "if (notebookContainer) {{\n",
       "    x.observe(notebookContainer, {childList: true});\n",
       "}}\n",
       "\n",
       "// Listen for the clearing of the current output cell\n",
       "var outputEl = gd.closest('.output');\n",
       "if (outputEl) {{\n",
       "    x.observe(outputEl, {childList: true});\n",
       "}}\n",
       "\n",
       "                        })                };                });            </script>        </div>"
      ]
     },
     "metadata": {},
     "output_type": "display_data"
    }
   ],
   "source": [
    "data.plotTreeMap()\n"
   ]
  }
 ],
 "metadata": {
  "interpreter": {
   "hash": "aee8b7b246df8f9039afb4144a1f6fd8d2ca17a180786b69acc140d282b71a49"
  },
  "kernelspec": {
   "display_name": "Python 3.10.2 64-bit",
   "language": "python",
   "name": "python3"
  },
  "language_info": {
   "codemirror_mode": {
    "name": "ipython",
    "version": 3
   },
   "file_extension": ".py",
   "mimetype": "text/x-python",
   "name": "python",
   "nbconvert_exporter": "python",
   "pygments_lexer": "ipython3",
   "version": "3.11.6"
  }
 },
 "nbformat": 4,
 "nbformat_minor": 2
}
