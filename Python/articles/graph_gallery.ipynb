{
 "cells": [
  {
   "cell_type": "markdown",
   "metadata": {
    "nbsphinx": "hidden"
   },
   "source": [
    "## Link to article\n",
    "\n",
    "This notebook is included in the documentation, where the interactive Plotly charts show up. See:\n",
    "https://pegasystems.github.io/pega-datascientist-tools/Python/articles/graph_gallery.html"
   ]
  },
  {
   "cell_type": "markdown",
   "metadata": {},
   "source": [
    "# Graph Gallery"
   ]
  },
  {
   "cell_type": "code",
   "execution_count": 1,
   "metadata": {
    "execution": {
     "iopub.execute_input": "2023-07-28T14:40:26.184901Z",
     "iopub.status.busy": "2023-07-28T14:40:26.184715Z",
     "iopub.status.idle": "2023-07-28T14:40:26.263402Z",
     "shell.execute_reply": "2023-07-28T14:40:26.262778Z"
    },
    "nbsphinx": "hidden"
   },
   "outputs": [],
   "source": [
    "# These lines are only for rendering in the docs, and are hidden through Jupyter tags\n",
    "# Do not run if you're running the notebook seperately\n",
    "import plotly.io as pio\n",
    "\n",
    "pio.renderers.default = \"notebook_connected\"\n",
    "\n",
    "import sys\n",
    "\n",
    "sys.path.append(\"../../../\")\n"
   ]
  },
  {
   "cell_type": "code",
   "execution_count": 2,
   "metadata": {
    "execution": {
     "iopub.execute_input": "2023-07-28T14:40:26.266116Z",
     "iopub.status.busy": "2023-07-28T14:40:26.265800Z",
     "iopub.status.idle": "2023-07-28T14:40:28.604136Z",
     "shell.execute_reply": "2023-07-28T14:40:28.603576Z"
    }
   },
   "outputs": [],
   "source": [
    "import polars as pl\n",
    "from pdstools import datasets\n",
    "\n",
    "data = datasets.CDHSample()\n"
   ]
  },
  {
   "cell_type": "markdown",
   "metadata": {},
   "source": [
    "## Models By Positives"
   ]
  },
  {
   "cell_type": "code",
   "execution_count": 3,
   "metadata": {
    "execution": {
     "iopub.execute_input": "2023-07-28T14:40:28.607789Z",
     "iopub.status.busy": "2023-07-28T14:40:28.607094Z",
     "iopub.status.idle": "2023-07-28T14:40:28.685595Z",
     "shell.execute_reply": "2023-07-28T14:40:28.685053Z"
    }
   },
   "outputs": [
    {
     "data": {
      "text/html": [
       "        <script type=\"text/javascript\">\n",
       "        window.PlotlyConfig = {MathJaxConfig: 'local'};\n",
       "        if (window.MathJax && window.MathJax.Hub && window.MathJax.Hub.Config) {window.MathJax.Hub.Config({SVG: {font: \"STIX-Web\"}});}\n",
       "        if (typeof require !== 'undefined') {\n",
       "        require.undef(\"plotly\");\n",
       "        requirejs.config({\n",
       "            paths: {\n",
       "                'plotly': ['https://cdn.plot.ly/plotly-2.24.1.min']\n",
       "            }\n",
       "        });\n",
       "        require(['plotly'], function(Plotly) {\n",
       "            window._Plotly = Plotly;\n",
       "        });\n",
       "        }\n",
       "        </script>\n",
       "        "
      ]
     },
     "metadata": {},
     "output_type": "display_data"
    },
    {
     "data": {
      "text/html": [
       "<div>                            <div id=\"381c0493-d6ee-4c6b-94a2-842588e97660\" class=\"plotly-graph-div\" style=\"height:525px; width:100%;\"></div>            <script type=\"text/javascript\">                require([\"plotly\"], function(Plotly) {                    window.PLOTLYENV=window.PLOTLYENV || {};                                    if (document.getElementById(\"381c0493-d6ee-4c6b-94a2-842588e97660\")) {                    Plotly.newPlot(                        \"381c0493-d6ee-4c6b-94a2-842588e97660\",                        [{\"hovertemplate\":\"Channel=Email\\u003cbr\\u003ePositives=%{x}\\u003cbr\\u003ePercentage of Models=%{y}\\u003cextra\\u003e\\u003c\\u002fextra\\u003e\",\"legendgroup\":\"Email\",\"line\":{\"color\":\"#001F5F\",\"dash\":\"solid\"},\"marker\":{\"symbol\":\"circle\"},\"mode\":\"markers+lines\",\"name\":\"Email\",\"orientation\":\"v\",\"showlegend\":true,\"x\":[\"(0, 10]\",\"(10, 20]\",\"(20, 30]\",\"(30, 40]\",\"(50, 60]\",\"(60, 70]\",\"(80, 90]\",\"(140, 150]\",\"(200, inf]\"],\"xaxis\":\"x\",\"y\":[0.22727272727272727,0.22727272727272727,0.09090909090909091,0.045454545454545456,0.13636363636363635,0.045454545454545456,0.045454545454545456,0.09090909090909091,0.09090909090909091],\"yaxis\":\"y\",\"type\":\"scatter\"},{\"hovertemplate\":\"Channel=SMS\\u003cbr\\u003ePositives=%{x}\\u003cbr\\u003ePercentage of Models=%{y}\\u003cextra\\u003e\\u003c\\u002fextra\\u003e\",\"legendgroup\":\"SMS\",\"line\":{\"color\":\"#10A5AC\",\"dash\":\"solid\"},\"marker\":{\"symbol\":\"circle\"},\"mode\":\"markers+lines\",\"name\":\"SMS\",\"orientation\":\"v\",\"showlegend\":true,\"x\":[\"(0, 10]\",\"(20, 30]\",\"(30, 40]\",\"(40, 50]\",\"(50, 60]\",\"(70, 80]\",\"(100, 110]\",\"(110, 120]\",\"(130, 140]\",\"(140, 150]\",\"(160, 170]\",\"(180, 190]\",\"(190, 200]\",\"(200, inf]\"],\"xaxis\":\"x\",\"y\":[0.07407407407407407,0.037037037037037035,0.07407407407407407,0.1111111111111111,0.07407407407407407,0.037037037037037035,0.037037037037037035,0.037037037037037035,0.037037037037037035,0.037037037037037035,0.07407407407407407,0.037037037037037035,0.037037037037037035,0.2962962962962963],\"yaxis\":\"y\",\"type\":\"scatter\"},{\"hovertemplate\":\"Channel=Web\\u003cbr\\u003ePositives=%{x}\\u003cbr\\u003ePercentage of Models=%{y}\\u003cextra\\u003e\\u003c\\u002fextra\\u003e\",\"legendgroup\":\"Web\",\"line\":{\"color\":\"#F76923\",\"dash\":\"solid\"},\"marker\":{\"symbol\":\"circle\"},\"mode\":\"markers+lines\",\"name\":\"Web\",\"orientation\":\"v\",\"showlegend\":true,\"x\":[\"(10, 20]\",\"(40, 50]\",\"(70, 80]\",\"(100, 110]\",\"(110, 120]\",\"(130, 140]\",\"(170, 180]\",\"(200, inf]\"],\"xaxis\":\"x\",\"y\":[0.15789473684210525,0.05263157894736842,0.05263157894736842,0.10526315789473684,0.05263157894736842,0.05263157894736842,0.10526315789473684,0.42105263157894735],\"yaxis\":\"y\",\"type\":\"scatter\"}],                        {\"template\":{\"layout\":{\"colorway\":[\"#001F5F\",\"#10A5AC\",\"#F76923\",\"#661D34\",\"#86CAC6\",\"#005154\",\"#86CAC6\",\"#5F67B9\",\"#FFC836\",\"#E63690\",\"#AC1361\",\"#63666F\",\"#A7A9B4\",\"#D0D1DB\"],\"hovermode\":\"closest\"}},\"xaxis\":{\"anchor\":\"y\",\"domain\":[0.0,1.0],\"title\":{\"text\":\"Positives\"},\"categoryorder\":\"array\",\"categoryarray\":[\"(0, 10]\",\"(10, 20]\",\"(20, 30]\",\"(30, 40]\",\"(40, 50]\",\"(50, 60]\",\"(60, 70]\",\"(70, 80]\",\"(80, 90]\",\"(100, 110]\",\"(110, 120]\",\"(130, 140]\",\"(140, 150]\",\"(160, 170]\",\"(170, 180]\",\"(180, 190]\",\"(190, 200]\",\"(200, inf]\"]},\"yaxis\":{\"anchor\":\"x\",\"domain\":[0.0,1.0],\"title\":{\"text\":\"Percentage of Models\"},\"tickformat\":\",.0%\"},\"legend\":{\"title\":{\"text\":\"Channel\"},\"tracegroupgap\":0},\"title\":{\"text\":\"Percentage of models vs number of positive responses \\u003cbr\\u003e\\u003csup\\u003eBy Channel\\u003c\\u002fsup\\u003e\"}},                        {\"responsive\": true}                    ).then(function(){\n",
       "                            \n",
       "var gd = document.getElementById('381c0493-d6ee-4c6b-94a2-842588e97660');\n",
       "var x = new MutationObserver(function (mutations, observer) {{\n",
       "        var display = window.getComputedStyle(gd).display;\n",
       "        if (!display || display === 'none') {{\n",
       "            console.log([gd, 'removed!']);\n",
       "            Plotly.purge(gd);\n",
       "            observer.disconnect();\n",
       "        }}\n",
       "}});\n",
       "\n",
       "// Listen for the removal of the full notebook cells\n",
       "var notebookContainer = gd.closest('#notebook-container');\n",
       "if (notebookContainer) {{\n",
       "    x.observe(notebookContainer, {childList: true});\n",
       "}}\n",
       "\n",
       "// Listen for the clearing of the current output cell\n",
       "var outputEl = gd.closest('.output');\n",
       "if (outputEl) {{\n",
       "    x.observe(outputEl, {childList: true});\n",
       "}}\n",
       "\n",
       "                        })                };                });            </script>        </div>"
      ]
     },
     "metadata": {},
     "output_type": "display_data"
    }
   ],
   "source": [
    "data.plotModelsByPositives()\n"
   ]
  },
  {
   "cell_type": "markdown",
   "metadata": {},
   "source": [
    "## Over Time"
   ]
  },
  {
   "cell_type": "code",
   "execution_count": 4,
   "metadata": {
    "execution": {
     "iopub.execute_input": "2023-07-28T14:40:28.688154Z",
     "iopub.status.busy": "2023-07-28T14:40:28.687686Z",
     "iopub.status.idle": "2023-07-28T14:40:28.777786Z",
     "shell.execute_reply": "2023-07-28T14:40:28.777238Z"
    }
   },
   "outputs": [
    {
     "data": {
      "text/html": [
       "<div>                            <div id=\"75957583-3f82-4475-8ae5-51444f0c40c5\" class=\"plotly-graph-div\" style=\"height:525px; width:100%;\"></div>            <script type=\"text/javascript\">                require([\"plotly\"], function(Plotly) {                    window.PLOTLYENV=window.PLOTLYENV || {};                                    if (document.getElementById(\"75957583-3f82-4475-8ae5-51444f0c40c5\")) {                    Plotly.newPlot(                        \"75957583-3f82-4475-8ae5-51444f0c40c5\",                        [{\"customdata\":[[\"AutoNew36Months\"]],\"hovertemplate\":\"Name=%{customdata[0]:.d}\\u003cbr\\u003eSnapshotTime=%{x}\\u003cbr\\u003eweighted_performance=%{y:.4f}\\u003cextra\\u003e\\u003c\\u002fextra\\u003e\",\"legendgroup\":\"AutoNew36Months\",\"line\":{\"color\":\"#001F5F\",\"dash\":\"solid\"},\"marker\":{\"symbol\":\"circle\"},\"mode\":\"markers+lines\",\"name\":\"AutoNew36Months\",\"orientation\":\"v\",\"showlegend\":true,\"x\":[\"2021-06-01T00:00:00\"],\"xaxis\":\"x\",\"y\":[56.575561658170116],\"yaxis\":\"y\",\"type\":\"scatter\"},{\"customdata\":[[\"AutoNew84Months\"]],\"hovertemplate\":\"Name=%{customdata[0]:.d}\\u003cbr\\u003eSnapshotTime=%{x}\\u003cbr\\u003eweighted_performance=%{y:.4f}\\u003cextra\\u003e\\u003c\\u002fextra\\u003e\",\"legendgroup\":\"AutoNew84Months\",\"line\":{\"color\":\"#10A5AC\",\"dash\":\"solid\"},\"marker\":{\"symbol\":\"circle\"},\"mode\":\"markers+lines\",\"name\":\"AutoNew84Months\",\"orientation\":\"v\",\"showlegend\":true,\"x\":[\"2021-06-01T00:00:00\"],\"xaxis\":\"x\",\"y\":[72.49891951948052],\"yaxis\":\"y\",\"type\":\"scatter\"},{\"customdata\":[[\"AutoUsed36Months\"]],\"hovertemplate\":\"Name=%{customdata[0]:.d}\\u003cbr\\u003eSnapshotTime=%{x}\\u003cbr\\u003eweighted_performance=%{y:.4f}\\u003cextra\\u003e\\u003c\\u002fextra\\u003e\",\"legendgroup\":\"AutoUsed36Months\",\"line\":{\"color\":\"#F76923\",\"dash\":\"solid\"},\"marker\":{\"symbol\":\"circle\"},\"mode\":\"markers+lines\",\"name\":\"AutoUsed36Months\",\"orientation\":\"v\",\"showlegend\":true,\"x\":[\"2021-06-01T00:00:00\"],\"xaxis\":\"x\",\"y\":[56.02125684545938],\"yaxis\":\"y\",\"type\":\"scatter\"},{\"customdata\":[[\"FirstMortgage\"]],\"hovertemplate\":\"Name=%{customdata[0]:.d}\\u003cbr\\u003eSnapshotTime=%{x}\\u003cbr\\u003eweighted_performance=%{y:.4f}\\u003cextra\\u003e\\u003c\\u002fextra\\u003e\",\"legendgroup\":\"FirstMortgage\",\"line\":{\"color\":\"#661D34\",\"dash\":\"solid\"},\"marker\":{\"symbol\":\"circle\"},\"mode\":\"markers+lines\",\"name\":\"FirstMortgage\",\"orientation\":\"v\",\"showlegend\":true,\"x\":[\"2021-06-01T00:00:00\"],\"xaxis\":\"x\",\"y\":[63.34021106176194],\"yaxis\":\"y\",\"type\":\"scatter\"},{\"customdata\":[[\"FirstMortgageFiveOneARM\"]],\"hovertemplate\":\"Name=%{customdata[0]:.d}\\u003cbr\\u003eSnapshotTime=%{x}\\u003cbr\\u003eweighted_performance=%{y:.4f}\\u003cextra\\u003e\\u003c\\u002fextra\\u003e\",\"legendgroup\":\"FirstMortgageFiveOneARM\",\"line\":{\"color\":\"#86CAC6\",\"dash\":\"solid\"},\"marker\":{\"symbol\":\"circle\"},\"mode\":\"markers+lines\",\"name\":\"FirstMortgageFiveOneARM\",\"orientation\":\"v\",\"showlegend\":true,\"x\":[\"2021-06-01T00:00:00\"],\"xaxis\":\"x\",\"y\":[53.82122628175519],\"yaxis\":\"y\",\"type\":\"scatter\"},{\"customdata\":[[\"FirstMortgageFloat\"]],\"hovertemplate\":\"Name=%{customdata[0]:.d}\\u003cbr\\u003eSnapshotTime=%{x}\\u003cbr\\u003eweighted_performance=%{y:.4f}\\u003cextra\\u003e\\u003c\\u002fextra\\u003e\",\"legendgroup\":\"FirstMortgageFloat\",\"line\":{\"color\":\"#005154\",\"dash\":\"solid\"},\"marker\":{\"symbol\":\"circle\"},\"mode\":\"markers+lines\",\"name\":\"FirstMortgageFloat\",\"orientation\":\"v\",\"showlegend\":true,\"x\":[\"2021-06-01T00:00:00\"],\"xaxis\":\"x\",\"y\":[59.02094234592447],\"yaxis\":\"y\",\"type\":\"scatter\"},{\"customdata\":[[\"HomeOwners\"]],\"hovertemplate\":\"Name=%{customdata[0]:.d}\\u003cbr\\u003eSnapshotTime=%{x}\\u003cbr\\u003eweighted_performance=%{y:.4f}\\u003cextra\\u003e\\u003c\\u002fextra\\u003e\",\"legendgroup\":\"HomeOwners\",\"line\":{\"color\":\"#86CAC6\",\"dash\":\"solid\"},\"marker\":{\"symbol\":\"circle\"},\"mode\":\"markers+lines\",\"name\":\"HomeOwners\",\"orientation\":\"v\",\"showlegend\":true,\"x\":[\"2021-06-01T00:00:00\"],\"xaxis\":\"x\",\"y\":[71.57897451149923],\"yaxis\":\"y\",\"type\":\"scatter\"},{\"customdata\":[[\"IncreaseYourCreditLine\"]],\"hovertemplate\":\"Name=%{customdata[0]:.d}\\u003cbr\\u003eSnapshotTime=%{x}\\u003cbr\\u003eweighted_performance=%{y:.4f}\\u003cextra\\u003e\\u003c\\u002fextra\\u003e\",\"legendgroup\":\"IncreaseYourCreditLine\",\"line\":{\"color\":\"#5F67B9\",\"dash\":\"solid\"},\"marker\":{\"symbol\":\"circle\"},\"mode\":\"markers+lines\",\"name\":\"IncreaseYourCreditLine\",\"orientation\":\"v\",\"showlegend\":true,\"x\":[\"2021-06-01T00:00:00\"],\"xaxis\":\"x\",\"y\":[58.7052482123077],\"yaxis\":\"y\",\"type\":\"scatter\"},{\"customdata\":[[\"MasterCardGold\"]],\"hovertemplate\":\"Name=%{customdata[0]:.d}\\u003cbr\\u003eSnapshotTime=%{x}\\u003cbr\\u003eweighted_performance=%{y:.4f}\\u003cextra\\u003e\\u003c\\u002fextra\\u003e\",\"legendgroup\":\"MasterCardGold\",\"line\":{\"color\":\"#FFC836\",\"dash\":\"solid\"},\"marker\":{\"symbol\":\"circle\"},\"mode\":\"markers+lines\",\"name\":\"MasterCardGold\",\"orientation\":\"v\",\"showlegend\":true,\"x\":[\"2021-06-01T00:00:00\"],\"xaxis\":\"x\",\"y\":[56.4042011033821],\"yaxis\":\"y\",\"type\":\"scatter\"},{\"customdata\":[[\"MoneyMarketSavingsAccount\"]],\"hovertemplate\":\"Name=%{customdata[0]:.d}\\u003cbr\\u003eSnapshotTime=%{x}\\u003cbr\\u003eweighted_performance=%{y:.4f}\\u003cextra\\u003e\\u003c\\u002fextra\\u003e\",\"legendgroup\":\"MoneyMarketSavingsAccount\",\"line\":{\"color\":\"#E63690\",\"dash\":\"solid\"},\"marker\":{\"symbol\":\"circle\"},\"mode\":\"markers+lines\",\"name\":\"MoneyMarketSavingsAccount\",\"orientation\":\"v\",\"showlegend\":true,\"x\":[\"2021-06-01T00:00:00\"],\"xaxis\":\"x\",\"y\":[50.0],\"yaxis\":\"y\",\"type\":\"scatter\"},{\"customdata\":[[\"PaymentProtection\"]],\"hovertemplate\":\"Name=%{customdata[0]:.d}\\u003cbr\\u003eSnapshotTime=%{x}\\u003cbr\\u003eweighted_performance=%{y:.4f}\\u003cextra\\u003e\\u003c\\u002fextra\\u003e\",\"legendgroup\":\"PaymentProtection\",\"line\":{\"color\":\"#AC1361\",\"dash\":\"solid\"},\"marker\":{\"symbol\":\"circle\"},\"mode\":\"markers+lines\",\"name\":\"PaymentProtection\",\"orientation\":\"v\",\"showlegend\":true,\"x\":[\"2021-06-01T00:00:00\"],\"xaxis\":\"x\",\"y\":[55.92534992215145],\"yaxis\":\"y\",\"type\":\"scatter\"},{\"customdata\":[[\"PlatinumRewardsCard\"]],\"hovertemplate\":\"Name=%{customdata[0]:.d}\\u003cbr\\u003eSnapshotTime=%{x}\\u003cbr\\u003eweighted_performance=%{y:.4f}\\u003cextra\\u003e\\u003c\\u002fextra\\u003e\",\"legendgroup\":\"PlatinumRewardsCard\",\"line\":{\"color\":\"#63666F\",\"dash\":\"solid\"},\"marker\":{\"symbol\":\"circle\"},\"mode\":\"markers+lines\",\"name\":\"PlatinumRewardsCard\",\"orientation\":\"v\",\"showlegend\":true,\"x\":[\"2021-06-01T00:00:00\"],\"xaxis\":\"x\",\"y\":[59.15322127859606],\"yaxis\":\"y\",\"type\":\"scatter\"},{\"customdata\":[[\"PremierChecking\"]],\"hovertemplate\":\"Name=%{customdata[0]:.d}\\u003cbr\\u003eSnapshotTime=%{x}\\u003cbr\\u003eweighted_performance=%{y:.4f}\\u003cextra\\u003e\\u003c\\u002fextra\\u003e\",\"legendgroup\":\"PremierChecking\",\"line\":{\"color\":\"#A7A9B4\",\"dash\":\"solid\"},\"marker\":{\"symbol\":\"circle\"},\"mode\":\"markers+lines\",\"name\":\"PremierChecking\",\"orientation\":\"v\",\"showlegend\":true,\"x\":[\"2021-06-01T00:00:00\"],\"xaxis\":\"x\",\"y\":[53.13052330749354],\"yaxis\":\"y\",\"type\":\"scatter\"},{\"customdata\":[[\"PremiumBanking\"]],\"hovertemplate\":\"Name=%{customdata[0]:.d}\\u003cbr\\u003eSnapshotTime=%{x}\\u003cbr\\u003eweighted_performance=%{y:.4f}\\u003cextra\\u003e\\u003c\\u002fextra\\u003e\",\"legendgroup\":\"PremiumBanking\",\"line\":{\"color\":\"#D0D1DB\",\"dash\":\"solid\"},\"marker\":{\"symbol\":\"circle\"},\"mode\":\"markers+lines\",\"name\":\"PremiumBanking\",\"orientation\":\"v\",\"showlegend\":true,\"x\":[\"2021-06-01T00:00:00\"],\"xaxis\":\"x\",\"y\":[62.19324250964971],\"yaxis\":\"y\",\"type\":\"scatter\"},{\"customdata\":[[\"SeniorChecking\"]],\"hovertemplate\":\"Name=%{customdata[0]:.d}\\u003cbr\\u003eSnapshotTime=%{x}\\u003cbr\\u003eweighted_performance=%{y:.4f}\\u003cextra\\u003e\\u003c\\u002fextra\\u003e\",\"legendgroup\":\"SeniorChecking\",\"line\":{\"color\":\"#001F5F\",\"dash\":\"solid\"},\"marker\":{\"symbol\":\"circle\"},\"mode\":\"markers+lines\",\"name\":\"SeniorChecking\",\"orientation\":\"v\",\"showlegend\":true,\"x\":[\"2021-06-01T00:00:00\"],\"xaxis\":\"x\",\"y\":[53.70358239891827],\"yaxis\":\"y\",\"type\":\"scatter\"},{\"customdata\":[[\"Services_ChannelAction_Template\"]],\"hovertemplate\":\"Name=%{customdata[0]:.d}\\u003cbr\\u003eSnapshotTime=%{x}\\u003cbr\\u003eweighted_performance=%{y:.4f}\\u003cextra\\u003e\\u003c\\u002fextra\\u003e\",\"legendgroup\":\"Services_ChannelAction_Template\",\"line\":{\"color\":\"#10A5AC\",\"dash\":\"solid\"},\"marker\":{\"symbol\":\"circle\"},\"mode\":\"markers+lines\",\"name\":\"Services_ChannelAction_Template\",\"orientation\":\"v\",\"showlegend\":true,\"x\":[\"2021-06-01T00:00:00\"],\"xaxis\":\"x\",\"y\":[64.87774700213575],\"yaxis\":\"y\",\"type\":\"scatter\"},{\"customdata\":[[\"SuperSaver\"]],\"hovertemplate\":\"Name=%{customdata[0]:.d}\\u003cbr\\u003eSnapshotTime=%{x}\\u003cbr\\u003eweighted_performance=%{y:.4f}\\u003cextra\\u003e\\u003c\\u002fextra\\u003e\",\"legendgroup\":\"SuperSaver\",\"line\":{\"color\":\"#F76923\",\"dash\":\"solid\"},\"marker\":{\"symbol\":\"circle\"},\"mode\":\"markers+lines\",\"name\":\"SuperSaver\",\"orientation\":\"v\",\"showlegend\":true,\"x\":[\"2021-06-01T00:00:00\"],\"xaxis\":\"x\",\"y\":[69.42290362709396],\"yaxis\":\"y\",\"type\":\"scatter\"},{\"customdata\":[[\"UPlusFinGold\"]],\"hovertemplate\":\"Name=%{customdata[0]:.d}\\u003cbr\\u003eSnapshotTime=%{x}\\u003cbr\\u003eweighted_performance=%{y:.4f}\\u003cextra\\u003e\\u003c\\u002fextra\\u003e\",\"legendgroup\":\"UPlusFinGold\",\"line\":{\"color\":\"#661D34\",\"dash\":\"solid\"},\"marker\":{\"symbol\":\"circle\"},\"mode\":\"markers+lines\",\"name\":\"UPlusFinGold\",\"orientation\":\"v\",\"showlegend\":true,\"x\":[\"2021-06-01T00:00:00\"],\"xaxis\":\"x\",\"y\":[68.06227184001739],\"yaxis\":\"y\",\"type\":\"scatter\"},{\"customdata\":[[\"VisaGold\"]],\"hovertemplate\":\"Name=%{customdata[0]:.d}\\u003cbr\\u003eSnapshotTime=%{x}\\u003cbr\\u003eweighted_performance=%{y:.4f}\\u003cextra\\u003e\\u003c\\u002fextra\\u003e\",\"legendgroup\":\"VisaGold\",\"line\":{\"color\":\"#86CAC6\",\"dash\":\"solid\"},\"marker\":{\"symbol\":\"circle\"},\"mode\":\"markers+lines\",\"name\":\"VisaGold\",\"orientation\":\"v\",\"showlegend\":true,\"x\":[\"2021-06-01T00:00:00\"],\"xaxis\":\"x\",\"y\":[53.59593556998558],\"yaxis\":\"y\",\"type\":\"scatter\"}],                        {\"template\":{\"layout\":{\"colorway\":[\"#001F5F\",\"#10A5AC\",\"#F76923\",\"#661D34\",\"#86CAC6\",\"#005154\",\"#86CAC6\",\"#5F67B9\",\"#FFC836\",\"#E63690\",\"#AC1361\",\"#63666F\",\"#A7A9B4\",\"#D0D1DB\"],\"hovermode\":\"closest\"}},\"xaxis\":{\"anchor\":\"y\",\"domain\":[0.0,1.0],\"title\":{\"text\":\"SnapshotTime\"}},\"yaxis\":{\"anchor\":\"x\",\"domain\":[0.0,1.0],\"title\":{\"text\":\"weighted_performance\"}},\"legend\":{\"title\":{\"text\":\"Name\"},\"tracegroupgap\":0},\"title\":{\"text\":\"weighted_performance over time, per Name over all models \\u003cbr\\u003e\\u003csup\\u003eQuery: [(col(\\\"Channel\\\")) == (Utf8(Web))]\\u003c\\u002fsup\\u003e\"}},                        {\"responsive\": true}                    ).then(function(){\n",
       "                            \n",
       "var gd = document.getElementById('75957583-3f82-4475-8ae5-51444f0c40c5');\n",
       "var x = new MutationObserver(function (mutations, observer) {{\n",
       "        var display = window.getComputedStyle(gd).display;\n",
       "        if (!display || display === 'none') {{\n",
       "            console.log([gd, 'removed!']);\n",
       "            Plotly.purge(gd);\n",
       "            observer.disconnect();\n",
       "        }}\n",
       "}});\n",
       "\n",
       "// Listen for the removal of the full notebook cells\n",
       "var notebookContainer = gd.closest('#notebook-container');\n",
       "if (notebookContainer) {{\n",
       "    x.observe(notebookContainer, {childList: true});\n",
       "}}\n",
       "\n",
       "// Listen for the clearing of the current output cell\n",
       "var outputEl = gd.closest('.output');\n",
       "if (outputEl) {{\n",
       "    x.observe(outputEl, {childList: true});\n",
       "}}\n",
       "\n",
       "                        })                };                });            </script>        </div>"
      ]
     },
     "metadata": {},
     "output_type": "display_data"
    }
   ],
   "source": [
    "data.plotOverTime(query=pl.col(\"Channel\") == \"Web\", by=\"Name\")\n"
   ]
  },
  {
   "cell_type": "markdown",
   "metadata": {},
   "source": [
    "## Performance Success Rate Bubble Chart"
   ]
  },
  {
   "cell_type": "code",
   "execution_count": 5,
   "metadata": {
    "execution": {
     "iopub.execute_input": "2023-07-28T14:40:28.780455Z",
     "iopub.status.busy": "2023-07-28T14:40:28.779905Z",
     "iopub.status.idle": "2023-07-28T14:40:28.822875Z",
     "shell.execute_reply": "2023-07-28T14:40:28.822275Z"
    }
   },
   "outputs": [
    {
     "data": {
      "text/html": [
       "<div>                            <div id=\"bba7000d-0d32-440b-b8ea-31d7bc9d3ec3\" class=\"plotly-graph-div\" style=\"height:525px; width:100%;\"></div>            <script type=\"text/javascript\">                require([\"plotly\"], function(Plotly) {                    window.PLOTLYENV=window.PLOTLYENV || {};                                    if (document.getElementById(\"bba7000d-0d32-440b-b8ea-31d7bc9d3ec3\")) {                    Plotly.newPlot(                        \"bba7000d-0d32-440b-b8ea-31d7bc9d3ec3\",                        [{\"customdata\":[[\"f3afaa9b-d0d5-5be9-a3b9-9fdfc4847411\",\"Email\",\"Outbound\",\"Sales\",\"AutoLoans\"],[\"e4ea7a89-c394-5014-ac26-34b8eee475bd\",\"SMS\",\"Outbound\",\"Sales\",\"CreditCards\"],[\"1289c4af-1d3f-5265-9fe5-173e1ddaadc3\",\"SMS\",\"Outbound\",\"Sales\",\"HomeLoans\"],[\"3c892256-f415-5408-905d-3158345b10bf\",\"Email\",\"Outbound\",\"Sales\",\"Bundles\"],[\"a87d51fb-cfdc-598d-b84a-dcdd64e1e750\",\"Web\",\"Inbound\",\"Sales\",\"HomeLoans\"],[\"cc9b9b1b-c2f9-5e8c-a54a-f13e0559ebd6\",\"Email\",\"Outbound\",\"Sales\",\"CreditCards\"],[\"9e9e8c2e-6d19-538c-8e7b-a73070717ecf\",\"Web\",\"Inbound\",\"Sales\",\"CreditCards\"],[\"ea0a225a-7d09-5d90-88f6-d0e8380d67cc\",\"Web\",\"Inbound\",\"Sales\",\"DepositAccounts\"],[\"b27d8eb5-7ff6-5706-ae90-6d61ce695f78\",\"SMS\",\"Outbound\",\"Sales\",\"Bundles\"],[\"84107ad6-c998-5377-b0d0-e02be2a8d768\",\"Email\",\"Outbound\",\"Sales\",\"AutoLoans\"],[\"5ca51e1e-49f0-58d2-8ab7-4a0ccbb326fd\",\"SMS\",\"Outbound\",\"Sales\",\"DepositAccounts\"],[\"b216413c-8c2e-5e1b-860b-07dfc69efa69\",\"SMS\",\"Outbound\",\"Sales\",\"AutoLoans\"],[\"c8a529fb-9d2c-5069-a50f-42ee1ea9341a\",\"Web\",\"Inbound\",\"Services\",\"Account\"],[\"f9fc995f-3f02-5e9e-8e22-b72909054f3a\",\"SMS\",\"Outbound\",\"Sales\",\"AutoLoans\"],[\"59f06605-5b39-57dd-945b-637a72fa9085\",\"Web\",\"Inbound\",\"Sales\",\"CreditCards\"],[\"7ffc8c26-8473-5c8e-bcc3-48e5b162da7a\",\"SMS\",\"Outbound\",\"Sales\",\"CreditCards\"],[\"692f453a-f825-5a90-ab40-f83cbb34b058\",\"Web\",\"Inbound\",\"Sales\",\"HomeLoans\"],[\"b5338016-1fee-5745-80ee-7bd6d51f2920\",\"Email\",\"Outbound\",\"Sales\",\"CreditCards\"],[\"26dda9e0-34a2-5e0a-8ee2-fd0c39de729e\",\"SMS\",\"Outbound\",\"Sales\",\"CreditCards\"],[\"24f11deb-a6fa-59bf-b5f7-c61abffc9482\",\"Email\",\"Outbound\",\"Sales\",\"AutoLoans\"],[\"cb67c091-5a81-56f4-9845-71afa9c8076e\",\"Email\",\"Outbound\",\"Sales\",\"HomeLoans\"],[\"95ae0f10-297a-5c01-94d8-914bb89df969\",\"Web\",\"Inbound\",\"Sales\",\"DepositAccounts\"],[\"c3f445b2-6037-5560-9f16-71a7259d2c2c\",\"SMS\",\"Outbound\",\"Sales\",\"HomeLoans\"],[\"a8cde9d1-c720-537c-8fb8-8c59506bddfe\",\"Web\",\"Inbound\",\"Sales\",\"CreditCards\"],[\"34f7d1b9-92f7-57dc-ab62-0de35dda0221\",\"SMS\",\"Outbound\",\"Services\",\"Account\"],[\"69a8e56f-6327-5a66-a9a3-9b0c106641ec\",\"SMS\",\"Outbound\",\"Sales\",\"AutoLoans\"],[\"8e40882a-aacf-5f03-9be8-f833c7932da2\",\"Web\",\"Inbound\",\"Sales\",\"Bundles\"],[\"4efdb97d-288d-518f-a3e0-8314bbd7f2a3\",\"SMS\",\"Outbound\",\"Sales\",\"CreditCards\"],[\"470485f7-3b20-58f7-a3aa-1f12c2bb99b7\",\"Email\",\"Outbound\",\"Sales\",\"HomeLoans\"],[\"79e3f70f-dc6a-5bea-8006-02a6e91ad256\",\"Email\",\"Outbound\",\"Sales\",\"DepositAccounts\"],[\"98aeb30c-d896-51bd-b421-a650f0522335\",\"SMS\",\"Outbound\",\"Sales\",\"CreditCards\"],[\"08ca1302-9fc0-57bf-9031-d4179d400493\",\"Web\",\"Inbound\",\"Sales\",\"Bundles\"],[\"68e1d164-81e3-5da0-816c-0bbc3c20ac6c\",\"Web\",\"Inbound\",\"Sales\",\"AutoLoans\"],[\"c4cd4c00-87bf-562e-9ab8-20af64a81757\",\"Email\",\"Outbound\",\"Sales\",\"DepositAccounts\"],[\"c29ffcfa-5210-5998-a826-f3a8db57c610\",\"Web\",\"Inbound\",\"Sales\",\"CreditCards\"],[\"a8cd5e12-5d10-5b62-95f6-c5bb6344a83a\",\"Web\",\"Inbound\",\"Sales\",\"DepositAccounts\"],[\"708be173-0f46-55ee-add6-6fdca447a70a\",\"SMS\",\"Outbound\",\"Sales\",\"HomeLoans\"],[\"cffb1b5d-219e-5137-9036-4e2136be6a8f\",\"Email\",\"Outbound\",\"Sales\",\"DepositAccounts\"],[\"0b363d7f-68f8-5e9e-a843-40ca8849e05b\",\"Email\",\"Outbound\",\"Sales\",\"HomeLoans\"],[\"277a2c48-8888-5b71-911e-443d52c9b50f\",\"SMS\",\"Outbound\",\"Sales\",\"Bundles\"],[\"ab4592bc-df16-5372-86e7-0caea36ac877\",\"Email\",\"Outbound\",\"Sales\",\"CreditCards\"],[\"a75db3a2-fecc-5cc8-b75f-0a44447f9cca\",\"SMS\",\"Outbound\",\"Sales\",\"AutoLoans\"],[\"602303a4-5243-523d-8964-473f3ea1200b\",\"SMS\",\"Outbound\",\"Sales\",\"CreditCards\"],[\"30cc2c18-5852-581a-abaa-555bf46a3b9c\",\"Email\",\"Outbound\",\"Services\",\"Account\"],[\"320c4d01-43a5-510e-8fa8-1fc1bb4216da\",\"Email\",\"Outbound\",\"Sales\",\"Bundles\"],[\"0469930e-8d83-5c81-ba28-a8ec488f8e4d\",\"SMS\",\"Outbound\",\"Sales\",\"DepositAccounts\"],[\"d6e132b6-ad92-5ece-8db5-b42d9d151f73\",\"SMS\",\"Outbound\",\"Sales\",\"Bundles\"],[\"0ad9da35-f171-5ab9-973f-1cc4b89b4e8f\",\"Web\",\"Inbound\",\"Sales\",\"Bundles\"],[\"bd70a915-697a-5d43-ab2c-53b0557c85a0\",\"Email\",\"Outbound\",\"Sales\",\"AutoLoans\"],[\"d5e2f4b1-249a-58c0-8a2f-2d314eada5fe\",\"SMS\",\"Outbound\",\"Sales\",\"AutoLoans\"],[\"708f20ef-7ca1-58f4-9dfa-b7efb5342fcf\",\"Web\",\"Inbound\",\"Sales\",\"HomeLoans\"],[\"5cb8d642-390e-5c3e-8868-d34768f9535c\",\"Web\",\"Inbound\",\"Sales\",\"AutoLoans\"],[\"1be7cd72-741b-5d68-b148-c1af0142fd4a\",\"SMS\",\"Outbound\",\"Sales\",\"CreditCards\"],[\"838ca9ec-74ea-5a54-8c57-f45295116921\",\"SMS\",\"Outbound\",\"Services\",\"Account\"],[\"17571d69-f802-5122-9bfe-6f3f4ef9073b\",\"Web\",\"Inbound\",\"Sales\",\"CreditCards\"],[\"a63f2f06-1e31-5691-a6df-48916a066c23\",\"Email\",\"Outbound\",\"Sales\",\"DepositAccounts\"],[\"dd502275-e98b-51f7-8935-c30c84641871\",\"Web\",\"Inbound\",\"Services\",\"Account\"],[\"f38b5b50-b01b-5fd9-8120-7470320d6664\",\"SMS\",\"Outbound\",\"Sales\",\"DepositAccounts\"],[\"7d2046d5-be79-5f5a-a858-dcd9c65fd086\",\"Web\",\"Inbound\",\"Sales\",\"AutoLoans\"],[\"2c8e753a-9e85-5060-ac5b-073e79e755c0\",\"Email\",\"Outbound\",\"Sales\",\"CreditCards\"],[\"4954d7a5-b75e-5c71-89d6-e8340feb5022\",\"Email\",\"Outbound\",\"Sales\",\"DepositAccounts\"],[\"081d0acf-bfc3-5c0a-abc4-29106252efb8\",\"SMS\",\"Outbound\",\"Sales\",\"CreditCards\"],[\"aaf75ad6-c71a-5fd8-b2eb-782cdbd30337\",\"SMS\",\"Outbound\",\"Services\",\"Account\"],[\"bb02128b-d6df-52f3-9983-316f9fce47c7\",\"Email\",\"Outbound\",\"Sales\",\"CreditCards\"],[\"baae77a0-099a-5104-b7a9-b9b1a23290fc\",\"SMS\",\"Outbound\",\"Services\",\"Customer\"],[\"a7bb008a-0514-5d41-b014-3e0b1b308382\",\"SMS\",\"Outbound\",\"Sales\",\"DepositAccounts\"],[\"85d9dd89-93e5-55a0-b05f-e68bba9c97d1\",\"Email\",\"Outbound\",\"Sales\",\"CreditCards\"],[\"ebb6d905-7c43-5422-a813-f770feba7114\",\"Email\",\"Outbound\",\"Sales\",\"AutoLoans\"]],\"hovertemplate\":\"\\u003cb\\u003e%{hovertext}\\u003c\\u002fb\\u003e\\u003cbr\\u003e\\u003cbr\\u003ePerformance=%{marker.color}\\u003cbr\\u003eSuccessRate=%{y}\\u003cbr\\u003eResponseCount=%{marker.size}\\u003cbr\\u003eModelID=%{customdata[0]}\\u003cbr\\u003eChannel=%{customdata[1]}\\u003cbr\\u003eDirection=%{customdata[2]}\\u003cbr\\u003eIssue=%{customdata[3]}\\u003cbr\\u003eGroup=%{customdata[4]}\\u003cextra\\u003e\\u003c\\u002fextra\\u003e\",\"hovertext\":[\"AutoNew84Months\",\"PaymentProtection\",\"FirstMortgageFHA\",\"StudentChoice\",\"FirstMortgage\",\"IdentityTheftProtection\",\"MasterCardGold\",\"PremierChecking\",\"PremiumBanking\",\"AutoUsed60Months\",\"RegularSaving\",\"AutoUsed36Months\",\"IncreaseYourCreditLine\",\"AutoNew36Months\",\"PlatinumRewardsCard\",\"MasterCardWorld\",\"FirstMortgageFloat\",\"PaymentProtection\",\"ChannelAction_Template\",\"AutoUsed84Months\",\"FirstMortgageFHA\",\"MoneyMarketSavingsAccount\",\"FirstMortgage\",\"UPlusFinGold\",\"Services_ChannelAction_Template\",\"AutoNew48Months\",\"PremiumBanking\",\"MasterCardGold\",\"FirstMortgageFloat\",\"MoneyMarketSavingsAccount\",\"IdentityTheftProtection\",\"HomeOwners\",\"AutoNew84Months\",\"RegularSaving\",\"PaymentProtection\",\"SeniorChecking\",\"FirstMortgageFiveOneARM\",\"PremierChecking\",\"FirstMortgageFiveOneARM\",\"HomeOwners\",\"UPlusFinPersonal\",\"AutoUsed48Months\",\"UPlusFinPersonal\",\"Services_ChannelAction_Template\",\"PremiumBanking\",\"SeniorChecking\",\"SuperSaver\",\"SuperSaver\",\"AutoNew36Months\",\"AutoUsed84Months\",\"FirstMortgageFiveOneARM\",\"AutoUsed36Months\",\"VisaGold\",\"GoPaperless\",\"VisaGold\",\"BasicChecking\",\"Services_ChannelAction_Template\",\"MoneyMarketSavingsAccount\",\"AutoNew36Months\",\"UPlusFinGold\",\"SeniorChecking\",\"UPlusFinGold\",\"IncreaseYourCreditLine\",\"PlatinumRewardsCard\",\"MissingContactInformation\",\"PremierChecking\",\"MasterCardGold\",\"AutoNew48Months\"],\"legendgroup\":\"\",\"marker\":{\"color\":[64.2461,51.4945,52.7779,60.1887,64.7708,50.0,57.1711,52.4186,61.6472,65.3775,51.1978,54.2851,59.2788,60.5845,57.9772,55.1591,64.6733,52.5041,69.7884,50.0,67.6805,50.0,64.851,68.6745,71.0618,61.8246,65.264,50.0,50.0,50.0,53.0707,75.6002,77.4901,61.4512,58.1586,54.9147,65.202,52.1103,53.0007,77.3211,61.9665,69.3922,62.9893,62.9442,62.467,56.5227,61.812,75.7296,52.3734,62.2813,52.7198,57.8638,53.1863,71.2165,51.9586,51.0276,66.3954,51.3569,56.5041,53.496,54.9252,66.541,56.4527,50.0,62.2187,51.6802,50.0,58.0125],\"coloraxis\":\"coloraxis\",\"size\":[1184.0,722.0,477.0,5203.0,4076.0,808.0,835.0,4404.0,5052.0,1378.0,1221.0,1622.0,6471.0,5602.0,907.0,634.0,518.0,537.0,828.0,1243.0,362.0,1206.0,3946.0,3760.0,7287.0,5743.0,5176.0,1080.0,444.0,1096.0,855.0,4605.0,1636.0,1069.0,686.0,3024.0,482.0,3355.0,404.0,4976.0,3508.0,1447.0,3588.0,7415.0,5430.0,3424.0,1106.0,1267.0,5817.0,1347.0,449.0,1688.0,822.0,8174.0,778.0,3868.0,7073.0,1185.0,5499.0,3545.0,2883.0,3854.0,7668.0,989.0,7096.0,4658.0,875.0,5198.0],\"sizemode\":\"area\",\"sizeref\":20.435,\"symbol\":\"circle\",\"line\":{\"color\":\"black\"}},\"mode\":\"markers\",\"name\":\"\",\"orientation\":\"v\",\"showlegend\":false,\"x\":[64.2461,51.4945,52.7779,60.1887,64.7708,50.0,57.1711,52.4186,61.6472,65.3775,51.1978,54.2851,59.2788,60.5845,57.9772,55.1591,64.6733,52.5041,69.7884,50.0,67.6805,50.0,64.851,68.6745,71.0618,61.8246,65.264,50.0,50.0,50.0,53.0707,75.6002,77.4901,61.4512,58.1586,54.9147,65.202,52.1103,53.0007,77.3211,61.9665,69.3922,62.9893,62.9442,62.467,56.5227,61.812,75.7296,52.3734,62.2813,52.7198,57.8638,53.1863,71.2165,51.9586,51.0276,66.3954,51.3569,56.5041,53.496,54.9252,66.541,56.4527,50.0,62.2187,51.6802,50.0,58.0125],\"xaxis\":\"x\",\"y\":[5.658780097961426,22.43766975402832,10.06289005279541,1.6913299560546875,22.154069900512695,0.24751999974250793,2.1556899547576904,27.77021026611328,2.038800001144409,3.918720006942749,6.388209819793701,8.754619598388672,4.187920093536377,0.6426299810409546,1.5435500144958496,5.678229808807373,2.5096499919891357,5.400370121002197,6.2801899909973145,1.0458600521087646,3.5911600589752197,9.121060371398926,16.852510452270508,5.930850028991699,3.2523701190948486,7.191359996795654,1.9513100385665894,0.2777799963951111,0.45045000314712524,1.7335799932479858,1.1695899963378906,13.224760055541992,12.591690063476562,1.4031800031661987,25.07288932800293,19.014549255371094,10.37343978881836,8.70343017578125,2.475250005722046,10.771699905395508,1.5393400192260742,3.5245299339294434,5.183949947357178,0.7282500267028809,0.4419899880886078,15.829440116882324,12.025320053100586,8.8397798538208,0.20629000663757324,3.7119500637054443,17.37194061279297,10.248820304870605,3.284670114517212,11.059459686279297,5.912600040435791,7.290589809417725,5.089779853820801,9.957810401916504,2.4913599491119385,1.0719300508499146,5.064169883728027,4.2812700271606445,2.6082398891448975,0.20221999287605286,18.940250396728516,23.658220291137695,0.5714300274848938,2.7510600090026855],\"yaxis\":\"y\",\"type\":\"scatter\"}],                        {\"template\":{\"layout\":{\"colorway\":[\"#001F5F\",\"#10A5AC\",\"#F76923\",\"#661D34\",\"#86CAC6\",\"#005154\",\"#86CAC6\",\"#5F67B9\",\"#FFC836\",\"#E63690\",\"#AC1361\",\"#63666F\",\"#A7A9B4\",\"#D0D1DB\"],\"hovermode\":\"closest\"}},\"xaxis\":{\"anchor\":\"y\",\"domain\":[0.0,1.0],\"title\":{\"text\":\"Performance\"}},\"yaxis\":{\"anchor\":\"x\",\"domain\":[0.0,1.0],\"title\":{\"text\":\"SuccessRate\"}},\"coloraxis\":{\"colorbar\":{\"title\":{\"text\":\"Performance\"}},\"colorscale\":[[0.0,\"#440154\"],[0.1111111111111111,\"#482878\"],[0.2222222222222222,\"#3e4989\"],[0.3333333333333333,\"#31688e\"],[0.4444444444444444,\"#26828e\"],[0.5555555555555556,\"#1f9e89\"],[0.6666666666666666,\"#35b779\"],[0.7777777777777778,\"#6ece58\"],[0.8888888888888888,\"#b5de2b\"],[1.0,\"#fde725\"]]},\"legend\":{\"tracegroupgap\":0,\"itemsizing\":\"constant\"},\"title\":{\"text\":\"Bubble Chart over all models \\u003cbr\\u003e\\u003csup\\u003e68 models: 0 (0.0%) at (50,0)\\u003c\\u002fsup\\u003e\"}},                        {\"responsive\": true}                    ).then(function(){\n",
       "                            \n",
       "var gd = document.getElementById('bba7000d-0d32-440b-b8ea-31d7bc9d3ec3');\n",
       "var x = new MutationObserver(function (mutations, observer) {{\n",
       "        var display = window.getComputedStyle(gd).display;\n",
       "        if (!display || display === 'none') {{\n",
       "            console.log([gd, 'removed!']);\n",
       "            Plotly.purge(gd);\n",
       "            observer.disconnect();\n",
       "        }}\n",
       "}});\n",
       "\n",
       "// Listen for the removal of the full notebook cells\n",
       "var notebookContainer = gd.closest('#notebook-container');\n",
       "if (notebookContainer) {{\n",
       "    x.observe(notebookContainer, {childList: true});\n",
       "}}\n",
       "\n",
       "// Listen for the clearing of the current output cell\n",
       "var outputEl = gd.closest('.output');\n",
       "if (outputEl) {{\n",
       "    x.observe(outputEl, {childList: true});\n",
       "}}\n",
       "\n",
       "                        })                };                });            </script>        </div>"
      ]
     },
     "metadata": {},
     "output_type": "display_data"
    }
   ],
   "source": [
    "data.plotPerformanceSuccessRateBubbleChart()\n"
   ]
  },
  {
   "cell_type": "markdown",
   "metadata": {},
   "source": [
    "## Predictor Binning"
   ]
  },
  {
   "cell_type": "code",
   "execution_count": 6,
   "metadata": {
    "execution": {
     "iopub.execute_input": "2023-07-28T14:40:28.825424Z",
     "iopub.status.busy": "2023-07-28T14:40:28.825094Z",
     "iopub.status.idle": "2023-07-28T14:40:28.893521Z",
     "shell.execute_reply": "2023-07-28T14:40:28.892932Z"
    }
   },
   "outputs": [
    {
     "data": {
      "text/html": [
       "<div>                            <div id=\"fda0f4be-6c35-4180-9d43-bd6884a16e7d\" class=\"plotly-graph-div\" style=\"height:525px; width:100%;\"></div>            <script type=\"text/javascript\">                require([\"plotly\"], function(Plotly) {                    window.PLOTLYENV=window.PLOTLYENV || {};                                    if (document.getElementById(\"fda0f4be-6c35-4180-9d43-bd6884a16e7d\")) {                    Plotly.newPlot(                        \"fda0f4be-6c35-4180-9d43-bd6884a16e7d\",                        [{\"name\":\"Responses\",\"x\":[\"\\u003c5322.5409\",\"[5322.5409, 11220.7809\\u003e\",\"[11220.7809, 14825.2609\\u003e\",\"[14825.2609, 20068.1409\\u003e\",\"[20068.1409, 25311.0209\\u003e\",\"[25311.0209, 33503.0209\\u003e\",\"[33503.0209, 38418.2209\\u003e\",\"[38418.2209, 49231.6609\\u003e\",\"[49231.6609, 58079.0209\\u003e\",\"\\u003e=58079.0209\"],\"y\":[348.0,515.0,370.0,393.0,507.0,623.0,268.0,511.0,284.0,786.0],\"type\":\"bar\"},{\"mode\":\"lines+markers\",\"name\":\"Propensity\",\"x\":[\"\\u003c5322.5409\",\"[5322.5409, 11220.7809\\u003e\",\"[11220.7809, 14825.2609\\u003e\",\"[14825.2609, 20068.1409\\u003e\",\"[20068.1409, 25311.0209\\u003e\",\"[25311.0209, 33503.0209\\u003e\",\"[33503.0209, 38418.2209\\u003e\",\"[38418.2209, 49231.6609\\u003e\",\"[49231.6609, 58079.0209\\u003e\",\"\\u003e=58079.0209\"],\"y\":[0.13793103396892548,0.09320387989282608,0.07027027010917664,0.04325699806213379,0.08481262624263763,0.051364365965127945,0.10820895433425903,0.08219178020954132,0.1654929518699646,0.3524172902107239],\"yaxis\":\"y2\",\"type\":\"scatter\"}],                        {\"template\":{\"data\":{\"scatter\":[{\"type\":\"scatter\"}]}},\"xaxis\":{\"anchor\":\"y\",\"domain\":[0.0,0.94],\"title\":{\"text\":\"Range\"}},\"yaxis\":{\"anchor\":\"x\",\"domain\":[0.0,1.0],\"title\":{\"text\":\"Responses\"},\"showgrid\":false},\"yaxis2\":{\"anchor\":\"x\",\"overlaying\":\"y\",\"side\":\"right\",\"title\":{\"text\":\"Propensity\"},\"tickformat\":\",.2%\",\"zeroline\":false,\"showgrid\":false},\"title\":{\"text\":\"Model name: ('HomeOwners',)\\u003cbr\\u003e\\u003csup\\u003eModel ID: 08ca1302-9fc0-57bf-9031-d4179d400493\\u003cbr\\u003ePredictor name: Customer.AnnualIncome\\u003c\\u002fsup\\u003e\\u003cbr\\u003e\\u003csup\\u003eQuery: [([(col(\\\"ModelID\\\")) == (Utf8(08ca1302-9fc0-57bf-9031-d4179d400493))]) & (col(\\\"PredictorName\\\").is_in([Series]))]\\u003c\\u002fsup\\u003e\"}},                        {\"responsive\": true}                    ).then(function(){\n",
       "                            \n",
       "var gd = document.getElementById('fda0f4be-6c35-4180-9d43-bd6884a16e7d');\n",
       "var x = new MutationObserver(function (mutations, observer) {{\n",
       "        var display = window.getComputedStyle(gd).display;\n",
       "        if (!display || display === 'none') {{\n",
       "            console.log([gd, 'removed!']);\n",
       "            Plotly.purge(gd);\n",
       "            observer.disconnect();\n",
       "        }}\n",
       "}});\n",
       "\n",
       "// Listen for the removal of the full notebook cells\n",
       "var notebookContainer = gd.closest('#notebook-container');\n",
       "if (notebookContainer) {{\n",
       "    x.observe(notebookContainer, {childList: true});\n",
       "}}\n",
       "\n",
       "// Listen for the clearing of the current output cell\n",
       "var outputEl = gd.closest('.output');\n",
       "if (outputEl) {{\n",
       "    x.observe(outputEl, {childList: true});\n",
       "}}\n",
       "\n",
       "                        })                };                });            </script>        </div>"
      ]
     },
     "metadata": {},
     "output_type": "display_data"
    },
    {
     "data": {
      "text/html": [
       "<div>                            <div id=\"f8277257-d5de-4a65-be4d-63eef5b9d130\" class=\"plotly-graph-div\" style=\"height:525px; width:100%;\"></div>            <script type=\"text/javascript\">                require([\"plotly\"], function(Plotly) {                    window.PLOTLYENV=window.PLOTLYENV || {};                                    if (document.getElementById(\"f8277257-d5de-4a65-be4d-63eef5b9d130\")) {                    Plotly.newPlot(                        \"f8277257-d5de-4a65-be4d-63eef5b9d130\",                        [{\"name\":\"Responses\",\"x\":[\"\\u003c27.12\",\"[27.12, 32.08\\u003e\",\"[32.08, 34.16\\u003e\",\"[34.16, 39.12\\u003e\",\"[39.12, 42.16\\u003e\",\"[42.16, 44.08\\u003e\",\"[44.08, 47.12\\u003e\",\"[47.12, 49.04\\u003e\",\"[49.04, 52.08\\u003e\",\"[52.08, 57.04\\u003e\",\"\\u003e=57.04\"],\"y\":[374.0,571.0,238.0,771.0,586.0,320.0,432.0,313.0,332.0,328.0,340.0],\"type\":\"bar\"},{\"mode\":\"lines+markers\",\"name\":\"Propensity\",\"x\":[\"\\u003c27.12\",\"[27.12, 32.08\\u003e\",\"[32.08, 34.16\\u003e\",\"[34.16, 39.12\\u003e\",\"[39.12, 42.16\\u003e\",\"[42.16, 44.08\\u003e\",\"[44.08, 47.12\\u003e\",\"[47.12, 49.04\\u003e\",\"[49.04, 52.08\\u003e\",\"[52.08, 57.04\\u003e\",\"\\u003e=57.04\"],\"y\":[0.19518716633319855,0.09982486814260483,0.06302521377801895,0.11284046620130539,0.13993173837661743,0.09375,0.1111111119389534,0.15015974640846252,0.21987952291965485,0.18292683362960815,0.10882353037595749],\"yaxis\":\"y2\",\"type\":\"scatter\"}],                        {\"template\":{\"data\":{\"scatter\":[{\"type\":\"scatter\"}]}},\"xaxis\":{\"anchor\":\"y\",\"domain\":[0.0,0.94],\"title\":{\"text\":\"Range\"}},\"yaxis\":{\"anchor\":\"x\",\"domain\":[0.0,1.0],\"title\":{\"text\":\"Responses\"},\"showgrid\":false},\"yaxis2\":{\"anchor\":\"x\",\"overlaying\":\"y\",\"side\":\"right\",\"title\":{\"text\":\"Propensity\"},\"tickformat\":\",.2%\",\"zeroline\":false,\"showgrid\":false},\"title\":{\"text\":\"Model name: ('HomeOwners',)\\u003cbr\\u003e\\u003csup\\u003eModel ID: 08ca1302-9fc0-57bf-9031-d4179d400493\\u003cbr\\u003ePredictor name: Customer.Age\\u003c\\u002fsup\\u003e\\u003cbr\\u003e\\u003csup\\u003eQuery: [([(col(\\\"ModelID\\\")) == (Utf8(08ca1302-9fc0-57bf-9031-d4179d400493))]) & (col(\\\"PredictorName\\\").is_in([Series]))]\\u003c\\u002fsup\\u003e\"}},                        {\"responsive\": true}                    ).then(function(){\n",
       "                            \n",
       "var gd = document.getElementById('f8277257-d5de-4a65-be4d-63eef5b9d130');\n",
       "var x = new MutationObserver(function (mutations, observer) {{\n",
       "        var display = window.getComputedStyle(gd).display;\n",
       "        if (!display || display === 'none') {{\n",
       "            console.log([gd, 'removed!']);\n",
       "            Plotly.purge(gd);\n",
       "            observer.disconnect();\n",
       "        }}\n",
       "}});\n",
       "\n",
       "// Listen for the removal of the full notebook cells\n",
       "var notebookContainer = gd.closest('#notebook-container');\n",
       "if (notebookContainer) {{\n",
       "    x.observe(notebookContainer, {childList: true});\n",
       "}}\n",
       "\n",
       "// Listen for the clearing of the current output cell\n",
       "var outputEl = gd.closest('.output');\n",
       "if (outputEl) {{\n",
       "    x.observe(outputEl, {childList: true});\n",
       "}}\n",
       "\n",
       "                        })                };                });            </script>        </div>"
      ]
     },
     "metadata": {},
     "output_type": "display_data"
    },
    {
     "data": {
      "text/html": [
       "<div>                            <div id=\"e393023c-e55a-40e6-8174-1bf88e0f09b0\" class=\"plotly-graph-div\" style=\"height:525px; width:100%;\"></div>            <script type=\"text/javascript\">                require([\"plotly\"], function(Plotly) {                    window.PLOTLYENV=window.PLOTLYENV || {};                                    if (document.getElementById(\"e393023c-e55a-40e6-8174-1bf88e0f09b0\")) {                    Plotly.newPlot(                        \"e393023c-e55a-40e6-8174-1bf88e0f09b0\",                        [{\"name\":\"Responses\",\"x\":[\"MISSING\",\"DepositAccounts, AutoLoans\",\"Customer, CreditCards\",\"HomeLoans\",\"Bundles\",\"Account, WealthOffers\"],\"y\":[675.0,1882.0,864.0,493.0,462.0,228.0],\"type\":\"bar\"},{\"mode\":\"lines+markers\",\"name\":\"Propensity\",\"x\":[\"MISSING\",\"DepositAccounts, AutoLoans\",\"Customer, CreditCards\",\"HomeLoans\",\"Bundles\",\"Account, WealthOffers\"],\"y\":[0.11555555462837219,0.11211477220058441,0.1215277761220932,0.16227181255817413,0.20995670557022095,0.1666666716337204],\"yaxis\":\"y2\",\"type\":\"scatter\"}],                        {\"template\":{\"data\":{\"scatter\":[{\"type\":\"scatter\"}]}},\"xaxis\":{\"anchor\":\"y\",\"domain\":[0.0,0.94],\"title\":{\"text\":\"Range\"}},\"yaxis\":{\"anchor\":\"x\",\"domain\":[0.0,1.0],\"title\":{\"text\":\"Responses\"},\"showgrid\":false},\"yaxis2\":{\"anchor\":\"x\",\"overlaying\":\"y\",\"side\":\"right\",\"title\":{\"text\":\"Propensity\"},\"tickformat\":\",.2%\",\"zeroline\":false,\"showgrid\":false},\"title\":{\"text\":\"Model name: ('HomeOwners',)\\u003cbr\\u003e\\u003csup\\u003eModel ID: 08ca1302-9fc0-57bf-9031-d4179d400493\\u003cbr\\u003ePredictor name: IH.Email.Outbound.Accepted.pxLastGroupID\\u003c\\u002fsup\\u003e\\u003cbr\\u003e\\u003csup\\u003eQuery: [([(col(\\\"ModelID\\\")) == (Utf8(08ca1302-9fc0-57bf-9031-d4179d400493))]) & (col(\\\"PredictorName\\\").is_in([Series]))]\\u003c\\u002fsup\\u003e\"}},                        {\"responsive\": true}                    ).then(function(){\n",
       "                            \n",
       "var gd = document.getElementById('e393023c-e55a-40e6-8174-1bf88e0f09b0');\n",
       "var x = new MutationObserver(function (mutations, observer) {{\n",
       "        var display = window.getComputedStyle(gd).display;\n",
       "        if (!display || display === 'none') {{\n",
       "            console.log([gd, 'removed!']);\n",
       "            Plotly.purge(gd);\n",
       "            observer.disconnect();\n",
       "        }}\n",
       "}});\n",
       "\n",
       "// Listen for the removal of the full notebook cells\n",
       "var notebookContainer = gd.closest('#notebook-container');\n",
       "if (notebookContainer) {{\n",
       "    x.observe(notebookContainer, {childList: true});\n",
       "}}\n",
       "\n",
       "// Listen for the clearing of the current output cell\n",
       "var outputEl = gd.closest('.output');\n",
       "if (outputEl) {{\n",
       "    x.observe(outputEl, {childList: true});\n",
       "}}\n",
       "\n",
       "                        })                };                });            </script>        </div>"
      ]
     },
     "metadata": {},
     "output_type": "display_data"
    }
   ],
   "source": [
    "data.plotPredictorBinning(\n",
    "    query=(pl.col(\"ModelID\") == \"08ca1302-9fc0-57bf-9031-d4179d400493\")\n",
    "    & pl.col(\"PredictorName\").is_in(\n",
    "        [\n",
    "            \"Customer.Age\",\n",
    "            \"Customer.AnnualIncome\",\n",
    "            \"IH.Email.Outbound.Accepted.pxLastGroupID\",\n",
    "        ]\n",
    "    )\n",
    ",show_each=True);\n"
   ]
  },
  {
   "cell_type": "markdown",
   "metadata": {},
   "source": [
    "## Predictor Performance"
   ]
  },
  {
   "cell_type": "code",
   "execution_count": 7,
   "metadata": {
    "execution": {
     "iopub.execute_input": "2023-07-28T14:40:28.896026Z",
     "iopub.status.busy": "2023-07-28T14:40:28.895584Z",
     "iopub.status.idle": "2023-07-28T14:40:28.950060Z",
     "shell.execute_reply": "2023-07-28T14:40:28.949403Z"
    }
   },
   "outputs": [
    {
     "data": {
      "text/html": [
       "<div>                            <div id=\"8bb24114-cd04-42b0-9cab-e66e667cebbb\" class=\"plotly-graph-div\" style=\"height:525px; width:100%;\"></div>            <script type=\"text/javascript\">                require([\"plotly\"], function(Plotly) {                    window.PLOTLYENV=window.PLOTLYENV || {};                                    if (document.getElementById(\"8bb24114-cd04-42b0-9cab-e66e667cebbb\")) {                    Plotly.newPlot(                        \"8bb24114-cd04-42b0-9cab-e66e667cebbb\",                        [{\"alignmentgroup\":\"True\",\"hovertemplate\":\"Legend=Customer\\u003cbr\\u003ePerformance=%{x}\\u003cbr\\u003ePredictor Name=%{y}\\u003cextra\\u003e\\u003c\\u002fextra\\u003e\",\"legendgroup\":\"Customer\",\"marker\":{\"color\":\"#001F5F\"},\"name\":\"Customer\",\"notched\":false,\"offsetgroup\":\"Customer\",\"orientation\":\"h\",\"showlegend\":true,\"x\":[56.164899999999996,50.321400000000004,58.077999999999996,56.15520000000001,53.1076,54.4162,50.0073,52.8648,50.949999999999996,53.371199999999995,61.5168,58.34160000000001,63.051100000000005,64.2534,54.325,51.9228,69.3831,57.0117,50.23609999999999,52.6235,58.02850000000001,50.0,56.1343,53.9408,50.0,58.278200000000005,55.559999999999995,50.0,54.813900000000004,57.2828,51.9761,50.0,53.3915,57.9302,50.0,53.357299999999995,55.1646,55.9508,50.0,59.6243,57.908300000000004,50.0,64.99549999999999,50.0,61.9112,50.0,52.990899999999996,51.4385,54.202099999999994,56.2588,56.6492,61.8981,57.8542,68.11120000000001,55.4379,50.0,54.585499999999996,53.689299999999996,51.5258,58.4965,65.18969999999999,51.4401,55.212700000000005,57.5545,56.25059999999999,53.6961,55.0814,53.260600000000004,61.4975,56.8581,50.156800000000004,59.3529,54.395700000000005,50.342,57.557199999999995,71.8279,54.905300000000004,60.520399999999995,51.739900000000006,51.2269,55.5095,56.7403,54.611399999999996,63.2074,50.0,55.72279999999999,50.0,59.4035,61.5379,60.742399999999996,57.792500000000004,54.802099999999996,50.0,67.7474,50.0,50.0,55.6875,54.0976,58.9005,69.2803,54.395700000000005,53.736700000000006,57.604299999999995,58.8394,59.164300000000004,60.520399999999995,51.2269,65.18969999999999,55.212700000000005,55.1373,57.5545,50.2131,71.8279,57.7999,53.3458,61.4975,51.3856,50.404700000000005,51.605199999999996,56.25059999999999,61.2906,50.0,53.62050000000001,57.085699999999996,62.205999999999996,50.0,56.9369,50.0,60.3538,60.99,53.464299999999994,56.9839,52.8998,50.0,60.64190000000001,56.37,50.0,58.192299999999996,57.9354,55.116699999999994,50.0,61.8656,57.233999999999995,50.0,58.8009,50.0,58.857400000000005,59.4924,50.0,50.0,59.8607,57.1878,56.5815,60.2228,50.0,56.0249,56.6963,60.912,53.9098,64.76849999999999,57.4949,53.880700000000004,50.0,50.0,56.7884,63.2781,60.7897,57.67250000000001,59.412200000000006,59.2558,59.6731,59.206599999999995,69.4885,63.1562,56.704699999999995,50.0,50.0,61.8852,57.2222,50.0,58.7225,59.2995,55.825,68.42240000000001,58.3999,60.919000000000004,50.0,50.0,58.720099999999995,50.0,50.0,59.8314,55.489200000000004,56.3236,53.7008,61.0174,54.7925,60.9977,60.044799999999995,62.77779999999999,60.260999999999996,64.26389999999999,62.566500000000005,63.151,56.0964,60.130300000000005,59.3662,50.0,50.0,64.2321,58.884499999999996,61.563599999999994,58.7996,50.0,58.8784,50.0,50.0,64.4263,50.0,57.8851,67.8751,59.2858,57.3139,59.7588,60.4753,58.243100000000005,50.0,50.0,60.2006,50.0,65.074,50.0,59.770999999999994,61.523,50.0,65.47619999999999,50.0,65.5934,69.9779,72.0121,61.9755,50.0,50.0,67.843,66.76910000000001,61.2695,67.091,55.9398,69.6095,50.0,50.0,61.677899999999994,62.7574,65.8252,50.0,50.0,69.1364,66.3934,66.14,79.5234,66.4995,60.4482,68.10810000000001,50.0,50.0,63.101,50.0,67.6933,65.94139999999999,61.277800000000006,50.0,68.5224,68.8072,68.40990000000001,72.2077,63.6825,50.0,60.002900000000004,67.90079999999999,50.0,50.0,72.2297,60.4125,67.284,50.0,50.0,65.1779,70.54169999999999,50.0,50.0,67.85679999999999,75.493,67.7885,67.8088,64.193,58.949600000000004,60.348,50.0,68.0832,72.70830000000001,71.921,50.0,69.0493,69.0542,74.91409999999999,67.3194,50.0,71.13239999999999,62.589099999999995,50.0,63.8537,64.5449,63.1201,50.0,63.4857,86.3848,50.0,65.7909,78.18,67.8122],\"x0\":\" \",\"xaxis\":\"x\",\"y\":[\"Customer.CLV\",\"Customer.CLV\",\"Customer.CLV\",\"Customer.CLV\",\"Customer.CLV\",\"Customer.CLV\",\"Customer.CLV\",\"Customer.CLV\",\"Customer.CLV\",\"Customer.CLV\",\"Customer.CLV\",\"Customer.CLV\",\"Customer.CLV\",\"Customer.CLV\",\"Customer.CLV\",\"Customer.CLV\",\"Customer.CLV\",\"Customer.CLV\",\"Customer.CLV\",\"Customer.CLV\",\"Customer.NoOfDependents\",\"Customer.NoOfDependents\",\"Customer.NoOfDependents\",\"Customer.NoOfDependents\",\"Customer.NoOfDependents\",\"Customer.NoOfDependents\",\"Customer.NoOfDependents\",\"Customer.NoOfDependents\",\"Customer.NoOfDependents\",\"Customer.NoOfDependents\",\"Customer.NoOfDependents\",\"Customer.NoOfDependents\",\"Customer.NoOfDependents\",\"Customer.NoOfDependents\",\"Customer.NoOfDependents\",\"Customer.NoOfDependents\",\"Customer.NoOfDependents\",\"Customer.NoOfDependents\",\"Customer.NoOfDependents\",\"Customer.NoOfDependents\",\"Customer.Prefix\",\"Customer.Prefix\",\"Customer.Prefix\",\"Customer.Prefix\",\"Customer.Prefix\",\"Customer.Prefix\",\"Customer.Prefix\",\"Customer.Prefix\",\"Customer.Prefix\",\"Customer.Prefix\",\"Customer.Prefix\",\"Customer.Prefix\",\"Customer.Prefix\",\"Customer.Prefix\",\"Customer.Prefix\",\"Customer.Prefix\",\"Customer.Prefix\",\"Customer.Prefix\",\"Customer.Prefix\",\"Customer.Prefix\",\"Customer.City\",\"Customer.City\",\"Customer.City\",\"Customer.City\",\"Customer.City\",\"Customer.City\",\"Customer.City\",\"Customer.City\",\"Customer.City\",\"Customer.City\",\"Customer.City\",\"Customer.City\",\"Customer.City\",\"Customer.City\",\"Customer.City\",\"Customer.City\",\"Customer.City\",\"Customer.City\",\"Customer.City\",\"Customer.City\",\"Customer.BusinessSegment\",\"Customer.BusinessSegment\",\"Customer.BusinessSegment\",\"Customer.BusinessSegment\",\"Customer.BusinessSegment\",\"Customer.BusinessSegment\",\"Customer.BusinessSegment\",\"Customer.BusinessSegment\",\"Customer.BusinessSegment\",\"Customer.BusinessSegment\",\"Customer.BusinessSegment\",\"Customer.BusinessSegment\",\"Customer.BusinessSegment\",\"Customer.BusinessSegment\",\"Customer.BusinessSegment\",\"Customer.BusinessSegment\",\"Customer.BusinessSegment\",\"Customer.BusinessSegment\",\"Customer.BusinessSegment\",\"Customer.BusinessSegment\",\"Customer.C_CIFNBR\",\"Customer.C_CIFNBR\",\"Customer.C_CIFNBR\",\"Customer.C_CIFNBR\",\"Customer.C_CIFNBR\",\"Customer.C_CIFNBR\",\"Customer.C_CIFNBR\",\"Customer.C_CIFNBR\",\"Customer.C_CIFNBR\",\"Customer.C_CIFNBR\",\"Customer.C_CIFNBR\",\"Customer.C_CIFNBR\",\"Customer.C_CIFNBR\",\"Customer.C_CIFNBR\",\"Customer.C_CIFNBR\",\"Customer.C_CIFNBR\",\"Customer.C_CIFNBR\",\"Customer.C_CIFNBR\",\"Customer.C_CIFNBR\",\"Customer.C_CIFNBR\",\"Customer.Date_of_Birth\",\"Customer.Date_of_Birth\",\"Customer.Date_of_Birth\",\"Customer.Date_of_Birth\",\"Customer.Date_of_Birth\",\"Customer.Date_of_Birth\",\"Customer.Date_of_Birth\",\"Customer.Date_of_Birth\",\"Customer.Date_of_Birth\",\"Customer.Date_of_Birth\",\"Customer.Date_of_Birth\",\"Customer.Date_of_Birth\",\"Customer.Date_of_Birth\",\"Customer.Date_of_Birth\",\"Customer.Date_of_Birth\",\"Customer.Date_of_Birth\",\"Customer.Date_of_Birth\",\"Customer.Date_of_Birth\",\"Customer.Date_of_Birth\",\"Customer.Date_of_Birth\",\"Customer.RelationshipStartDate\",\"Customer.RelationshipStartDate\",\"Customer.RelationshipStartDate\",\"Customer.RelationshipStartDate\",\"Customer.RelationshipStartDate\",\"Customer.RelationshipStartDate\",\"Customer.RelationshipStartDate\",\"Customer.RelationshipStartDate\",\"Customer.RelationshipStartDate\",\"Customer.RelationshipStartDate\",\"Customer.RelationshipStartDate\",\"Customer.RelationshipStartDate\",\"Customer.RelationshipStartDate\",\"Customer.RelationshipStartDate\",\"Customer.RelationshipStartDate\",\"Customer.RelationshipStartDate\",\"Customer.RelationshipStartDate\",\"Customer.RelationshipStartDate\",\"Customer.RelationshipStartDate\",\"Customer.RelationshipStartDate\",\"Customer.MaritalStatus\",\"Customer.MaritalStatus\",\"Customer.MaritalStatus\",\"Customer.MaritalStatus\",\"Customer.MaritalStatus\",\"Customer.MaritalStatus\",\"Customer.MaritalStatus\",\"Customer.MaritalStatus\",\"Customer.MaritalStatus\",\"Customer.MaritalStatus\",\"Customer.MaritalStatus\",\"Customer.MaritalStatus\",\"Customer.MaritalStatus\",\"Customer.MaritalStatus\",\"Customer.MaritalStatus\",\"Customer.MaritalStatus\",\"Customer.MaritalStatus\",\"Customer.MaritalStatus\",\"Customer.MaritalStatus\",\"Customer.MaritalStatus\",\"Customer.RiskCode\",\"Customer.RiskCode\",\"Customer.RiskCode\",\"Customer.RiskCode\",\"Customer.RiskCode\",\"Customer.RiskCode\",\"Customer.RiskCode\",\"Customer.RiskCode\",\"Customer.RiskCode\",\"Customer.RiskCode\",\"Customer.RiskCode\",\"Customer.RiskCode\",\"Customer.RiskCode\",\"Customer.RiskCode\",\"Customer.RiskCode\",\"Customer.RiskCode\",\"Customer.RiskCode\",\"Customer.RiskCode\",\"Customer.RiskCode\",\"Customer.RiskCode\",\"Customer.CLV_VALUE\",\"Customer.CLV_VALUE\",\"Customer.CLV_VALUE\",\"Customer.CLV_VALUE\",\"Customer.CLV_VALUE\",\"Customer.CLV_VALUE\",\"Customer.CLV_VALUE\",\"Customer.CLV_VALUE\",\"Customer.CLV_VALUE\",\"Customer.CLV_VALUE\",\"Customer.CLV_VALUE\",\"Customer.CLV_VALUE\",\"Customer.CLV_VALUE\",\"Customer.CLV_VALUE\",\"Customer.CLV_VALUE\",\"Customer.CLV_VALUE\",\"Customer.CLV_VALUE\",\"Customer.CLV_VALUE\",\"Customer.CLV_VALUE\",\"Customer.CLV_VALUE\",\"Customer.Age\",\"Customer.Age\",\"Customer.Age\",\"Customer.Age\",\"Customer.Age\",\"Customer.Age\",\"Customer.Age\",\"Customer.Age\",\"Customer.Age\",\"Customer.Age\",\"Customer.Age\",\"Customer.Age\",\"Customer.Age\",\"Customer.Age\",\"Customer.Age\",\"Customer.Age\",\"Customer.Age\",\"Customer.Age\",\"Customer.Age\",\"Customer.Age\",\"Customer.WinScore\",\"Customer.WinScore\",\"Customer.WinScore\",\"Customer.WinScore\",\"Customer.WinScore\",\"Customer.WinScore\",\"Customer.WinScore\",\"Customer.WinScore\",\"Customer.WinScore\",\"Customer.WinScore\",\"Customer.WinScore\",\"Customer.WinScore\",\"Customer.WinScore\",\"Customer.WinScore\",\"Customer.WinScore\",\"Customer.WinScore\",\"Customer.WinScore\",\"Customer.WinScore\",\"Customer.WinScore\",\"Customer.WinScore\",\"Customer.NetWealth\",\"Customer.NetWealth\",\"Customer.NetWealth\",\"Customer.NetWealth\",\"Customer.NetWealth\",\"Customer.NetWealth\",\"Customer.NetWealth\",\"Customer.NetWealth\",\"Customer.NetWealth\",\"Customer.NetWealth\",\"Customer.NetWealth\",\"Customer.NetWealth\",\"Customer.NetWealth\",\"Customer.NetWealth\",\"Customer.NetWealth\",\"Customer.NetWealth\",\"Customer.NetWealth\",\"Customer.NetWealth\",\"Customer.NetWealth\",\"Customer.NetWealth\",\"Customer.CreditScore\",\"Customer.CreditScore\",\"Customer.CreditScore\",\"Customer.CreditScore\",\"Customer.CreditScore\",\"Customer.CreditScore\",\"Customer.CreditScore\",\"Customer.CreditScore\",\"Customer.CreditScore\",\"Customer.CreditScore\",\"Customer.CreditScore\",\"Customer.CreditScore\",\"Customer.CreditScore\",\"Customer.CreditScore\",\"Customer.CreditScore\",\"Customer.CreditScore\",\"Customer.CreditScore\",\"Customer.CreditScore\",\"Customer.CreditScore\",\"Customer.CreditScore\",\"Customer.AnnualIncome\",\"Customer.AnnualIncome\",\"Customer.AnnualIncome\",\"Customer.AnnualIncome\",\"Customer.AnnualIncome\",\"Customer.AnnualIncome\",\"Customer.AnnualIncome\",\"Customer.AnnualIncome\",\"Customer.AnnualIncome\",\"Customer.AnnualIncome\",\"Customer.AnnualIncome\",\"Customer.AnnualIncome\",\"Customer.AnnualIncome\",\"Customer.AnnualIncome\",\"Customer.AnnualIncome\",\"Customer.AnnualIncome\",\"Customer.AnnualIncome\",\"Customer.AnnualIncome\",\"Customer.AnnualIncome\",\"Customer.AnnualIncome\"],\"y0\":\" \",\"yaxis\":\"y\",\"type\":\"box\"},{\"alignmentgroup\":\"True\",\"hovertemplate\":\"Legend=IH\\u003cbr\\u003ePerformance=%{x}\\u003cbr\\u003ePredictor Name=%{y}\\u003cextra\\u003e\\u003c\\u002fextra\\u003e\",\"legendgroup\":\"IH\",\"marker\":{\"color\":\"#10A5AC\"},\"name\":\"IH\",\"notched\":false,\"offsetgroup\":\"IH\",\"orientation\":\"h\",\"showlegend\":true,\"x\":[54.684999999999995,53.3948,51.401399999999995,52.753099999999996,54.454,53.90859999999999,53.60549999999999,67.5339,56.0681,56.424099999999996,55.1111,57.8135,57.798899999999996,56.1223,55.755900000000004,55.16799999999999,53.0768,54.6213,62.185500000000005,53.4709,57.1655,52.643499999999996,56.282399999999996,54.4977,53.0192,61.2984,64.51400000000001,70.9567,52.9915,55.3206,58.796499999999995,54.343399999999995,52.6125,55.3455,55.156400000000005,56.0083,52.2733,53.654,53.934000000000005,54.652100000000004,58.7655,51.903600000000004,51.5159,52.405699999999996,54.98800000000001,56.26219999999999,58.883700000000005,54.0659,57.469300000000004,55.3316,59.973,63.037200000000006,53.71,51.696799999999996,61.919900000000005,57.6847,50.662600000000005,57.8241,56.9168,52.5888,55.2365,56.368300000000005,55.9403,53.6446,61.28940000000001,53.046499999999995,52.290800000000004,54.0076,60.62030000000001,59.79750000000001,58.19800000000001,56.7851,54.526799999999994,55.209399999999995,64.4175,58.0686,56.2361,55.0376,55.9603,71.0407,70.32509999999999,50.985,53.4604,54.2427,60.8391,56.295700000000004,53.37,55.5577,58.0908,63.035,52.868,56.8518,57.15710000000001,52.4236,60.398700000000005,61.487700000000004,56.884,57.5792,55.4017,60.6094,65.08,55.04710000000001,59.594899999999996,57.550599999999996,50.232600000000005,57.5397,53.1967,56.7448,57.4326,50.1131,50.3252,50.3807,59.829100000000004,56.3673,68.6689,55.513400000000004,50.286500000000004,58.6947,59.461,58.3707,55.761300000000006,60.3909,54.748799999999996,50.286500000000004,53.630599999999994,58.32000000000001,59.319900000000004,58.6283,68.4031,50.099000000000004,56.9537,50.2262,57.419399999999996,57.9052,56.8491,62.490100000000005,63.4496,56.74550000000001,59.6171,50.253800000000005,53.4604,56.3398,57.652800000000006,54.573899999999995,57.894,62.7857,63.696,67.6683,60.5249,51.019400000000005,54.817499999999995,53.98,57.2565,66.7804,53.0076,67.88300000000001,55.9497,62.2877,57.5792,59.1166,50.0,57.6265,59.488,63.8987,57.578300000000006,58.72730000000001,50.0,50.0,50.0,54.7725,64.2375,50.0,50.0,58.5596,60.1503,59.24850000000001,57.7587,59.5351,50.0,57.776300000000006,60.467999999999996,57.129,50.0,57.3605,64.3524,56.049499999999995,57.152899999999995,61.12499999999999,64.67150000000001,50.0,50.0,61.483200000000004,58.8884,63.5993,58.4571,50.0,55.31270000000001,60.2962,50.0,59.18560000000001,60.552099999999996,63.4209,54.1848,61.272000000000006,54.759299999999996,65.4153,63.0443,64.6274,60.6255,50.1269,61.175000000000004,59.4537,50.286500000000004,55.7909,54.6334,50.2262,50.099000000000004,58.097100000000005,59.5125,50.068900000000006,62.590599999999995,57.999500000000005,64.48129999999999,50.0,57.6318,50.0,50.0,60.9884,56.3731,63.8127,61.1115,61.351,65.2045,50.0,50.0,58.7307,59.7952,58.902699999999996,61.1295,50.0,58.870400000000004,65.3965,62.9572,60.255,60.7985,61.3475,59.39919999999999,59.809599999999996,58.4923,50.0,50.0,58.847899999999996,50.0,61.4148,53.259,56.41929999999999,56.7573,61.20060000000001,50.0,50.0258],\"x0\":\" \",\"xaxis\":\"x\",\"y\":[\"IH.SMS.Outbound.Rejected.pxLastGroupID\",\"IH.SMS.Outbound.Rejected.pxLastGroupID\",\"IH.SMS.Outbound.Rejected.pxLastGroupID\",\"IH.SMS.Outbound.Rejected.pxLastGroupID\",\"IH.SMS.Outbound.Rejected.pxLastGroupID\",\"IH.SMS.Outbound.Rejected.pxLastGroupID\",\"IH.SMS.Outbound.Rejected.pxLastGroupID\",\"IH.SMS.Outbound.Rejected.pxLastGroupID\",\"IH.SMS.Outbound.Rejected.pxLastGroupID\",\"IH.SMS.Outbound.Rejected.pxLastGroupID\",\"IH.SMS.Outbound.Rejected.pxLastGroupID\",\"IH.SMS.Outbound.Rejected.pxLastGroupID\",\"IH.SMS.Outbound.Rejected.pxLastGroupID\",\"IH.SMS.Outbound.Rejected.pxLastGroupID\",\"IH.SMS.Outbound.Rejected.pxLastGroupID\",\"IH.SMS.Outbound.Rejected.pxLastGroupID\",\"IH.SMS.Outbound.Rejected.pxLastGroupID\",\"IH.SMS.Outbound.Rejected.pxLastGroupID\",\"IH.SMS.Outbound.Rejected.pxLastGroupID\",\"IH.SMS.Outbound.Rejected.pxLastGroupID\",\"IH.Web.Inbound.Loyal.pyHistoricalOutcomeCount\",\"IH.Web.Inbound.Loyal.pyHistoricalOutcomeCount\",\"IH.Web.Inbound.Loyal.pyHistoricalOutcomeCount\",\"IH.Web.Inbound.Loyal.pyHistoricalOutcomeCount\",\"IH.Web.Inbound.Loyal.pyHistoricalOutcomeCount\",\"IH.Web.Inbound.Loyal.pyHistoricalOutcomeCount\",\"IH.Web.Inbound.Loyal.pyHistoricalOutcomeCount\",\"IH.Web.Inbound.Loyal.pyHistoricalOutcomeCount\",\"IH.Web.Inbound.Loyal.pyHistoricalOutcomeCount\",\"IH.Web.Inbound.Loyal.pyHistoricalOutcomeCount\",\"IH.Web.Inbound.Loyal.pyHistoricalOutcomeCount\",\"IH.Web.Inbound.Loyal.pyHistoricalOutcomeCount\",\"IH.Web.Inbound.Loyal.pyHistoricalOutcomeCount\",\"IH.Web.Inbound.Loyal.pyHistoricalOutcomeCount\",\"IH.Web.Inbound.Loyal.pyHistoricalOutcomeCount\",\"IH.Web.Inbound.Loyal.pyHistoricalOutcomeCount\",\"IH.Web.Inbound.Loyal.pyHistoricalOutcomeCount\",\"IH.Web.Inbound.Loyal.pyHistoricalOutcomeCount\",\"IH.Web.Inbound.Loyal.pyHistoricalOutcomeCount\",\"IH.Web.Inbound.Loyal.pyHistoricalOutcomeCount\",\"IH.Web.Inbound.Rejected.pxLastGroupID\",\"IH.Web.Inbound.Rejected.pxLastGroupID\",\"IH.Web.Inbound.Rejected.pxLastGroupID\",\"IH.Web.Inbound.Rejected.pxLastGroupID\",\"IH.Web.Inbound.Rejected.pxLastGroupID\",\"IH.Web.Inbound.Rejected.pxLastGroupID\",\"IH.Web.Inbound.Rejected.pxLastGroupID\",\"IH.Web.Inbound.Rejected.pxLastGroupID\",\"IH.Web.Inbound.Rejected.pxLastGroupID\",\"IH.Web.Inbound.Rejected.pxLastGroupID\",\"IH.Web.Inbound.Rejected.pxLastGroupID\",\"IH.Web.Inbound.Rejected.pxLastGroupID\",\"IH.Web.Inbound.Rejected.pxLastGroupID\",\"IH.Web.Inbound.Rejected.pxLastGroupID\",\"IH.Web.Inbound.Rejected.pxLastGroupID\",\"IH.Web.Inbound.Rejected.pxLastGroupID\",\"IH.Web.Inbound.Rejected.pxLastGroupID\",\"IH.Web.Inbound.Rejected.pxLastGroupID\",\"IH.Web.Inbound.Rejected.pxLastGroupID\",\"IH.Web.Inbound.Rejected.pxLastGroupID\",\"IH.Web.Inbound.Churned.pyHistoricalOutcomeCount\",\"IH.Web.Inbound.Churned.pyHistoricalOutcomeCount\",\"IH.Web.Inbound.Churned.pyHistoricalOutcomeCount\",\"IH.Web.Inbound.Churned.pyHistoricalOutcomeCount\",\"IH.Web.Inbound.Churned.pyHistoricalOutcomeCount\",\"IH.Web.Inbound.Churned.pyHistoricalOutcomeCount\",\"IH.Web.Inbound.Churned.pyHistoricalOutcomeCount\",\"IH.Web.Inbound.Churned.pyHistoricalOutcomeCount\",\"IH.Web.Inbound.Churned.pyHistoricalOutcomeCount\",\"IH.Web.Inbound.Churned.pyHistoricalOutcomeCount\",\"IH.Web.Inbound.Churned.pyHistoricalOutcomeCount\",\"IH.Web.Inbound.Churned.pyHistoricalOutcomeCount\",\"IH.Web.Inbound.Churned.pyHistoricalOutcomeCount\",\"IH.Web.Inbound.Churned.pyHistoricalOutcomeCount\",\"IH.Web.Inbound.Churned.pyHistoricalOutcomeCount\",\"IH.Web.Inbound.Churned.pyHistoricalOutcomeCount\",\"IH.Web.Inbound.Churned.pyHistoricalOutcomeCount\",\"IH.Web.Inbound.Churned.pyHistoricalOutcomeCount\",\"IH.Web.Inbound.Churned.pyHistoricalOutcomeCount\",\"IH.Web.Inbound.Churned.pyHistoricalOutcomeCount\",\"IH.Email.Outbound.Accepted.pyHistoricalOutcomeCount\",\"IH.Email.Outbound.Accepted.pyHistoricalOutcomeCount\",\"IH.Email.Outbound.Accepted.pyHistoricalOutcomeCount\",\"IH.Email.Outbound.Accepted.pyHistoricalOutcomeCount\",\"IH.Email.Outbound.Accepted.pyHistoricalOutcomeCount\",\"IH.Email.Outbound.Accepted.pyHistoricalOutcomeCount\",\"IH.Email.Outbound.Accepted.pyHistoricalOutcomeCount\",\"IH.Email.Outbound.Accepted.pyHistoricalOutcomeCount\",\"IH.Email.Outbound.Accepted.pyHistoricalOutcomeCount\",\"IH.Email.Outbound.Accepted.pyHistoricalOutcomeCount\",\"IH.Email.Outbound.Accepted.pyHistoricalOutcomeCount\",\"IH.Email.Outbound.Accepted.pyHistoricalOutcomeCount\",\"IH.Email.Outbound.Accepted.pyHistoricalOutcomeCount\",\"IH.Email.Outbound.Accepted.pyHistoricalOutcomeCount\",\"IH.Email.Outbound.Accepted.pyHistoricalOutcomeCount\",\"IH.Email.Outbound.Accepted.pyHistoricalOutcomeCount\",\"IH.Email.Outbound.Accepted.pyHistoricalOutcomeCount\",\"IH.Email.Outbound.Accepted.pyHistoricalOutcomeCount\",\"IH.Email.Outbound.Accepted.pyHistoricalOutcomeCount\",\"IH.Email.Outbound.Accepted.pyHistoricalOutcomeCount\",\"IH.Web.Inbound.Accepted.pxLastGroupID\",\"IH.Web.Inbound.Accepted.pxLastGroupID\",\"IH.Web.Inbound.Accepted.pxLastGroupID\",\"IH.Web.Inbound.Accepted.pxLastGroupID\",\"IH.Web.Inbound.Accepted.pxLastGroupID\",\"IH.Web.Inbound.Accepted.pxLastGroupID\",\"IH.Web.Inbound.Accepted.pxLastGroupID\",\"IH.Web.Inbound.Accepted.pxLastGroupID\",\"IH.Web.Inbound.Accepted.pxLastGroupID\",\"IH.Web.Inbound.Accepted.pxLastGroupID\",\"IH.Web.Inbound.Accepted.pxLastGroupID\",\"IH.Web.Inbound.Accepted.pxLastGroupID\",\"IH.Web.Inbound.Accepted.pxLastGroupID\",\"IH.Web.Inbound.Accepted.pxLastGroupID\",\"IH.Web.Inbound.Accepted.pxLastGroupID\",\"IH.Web.Inbound.Accepted.pxLastGroupID\",\"IH.Web.Inbound.Accepted.pxLastGroupID\",\"IH.Web.Inbound.Accepted.pxLastGroupID\",\"IH.Web.Inbound.Accepted.pxLastGroupID\",\"IH.Web.Inbound.Accepted.pxLastGroupID\",\"IH.SMS.Outbound.Accepted.pxLastGroupID\",\"IH.SMS.Outbound.Accepted.pxLastGroupID\",\"IH.SMS.Outbound.Accepted.pxLastGroupID\",\"IH.SMS.Outbound.Accepted.pxLastGroupID\",\"IH.SMS.Outbound.Accepted.pxLastGroupID\",\"IH.SMS.Outbound.Accepted.pxLastGroupID\",\"IH.SMS.Outbound.Accepted.pxLastGroupID\",\"IH.SMS.Outbound.Accepted.pxLastGroupID\",\"IH.SMS.Outbound.Accepted.pxLastGroupID\",\"IH.SMS.Outbound.Accepted.pxLastGroupID\",\"IH.SMS.Outbound.Accepted.pxLastGroupID\",\"IH.SMS.Outbound.Accepted.pxLastGroupID\",\"IH.SMS.Outbound.Accepted.pxLastGroupID\",\"IH.SMS.Outbound.Accepted.pxLastGroupID\",\"IH.SMS.Outbound.Accepted.pxLastGroupID\",\"IH.SMS.Outbound.Accepted.pxLastGroupID\",\"IH.SMS.Outbound.Accepted.pxLastGroupID\",\"IH.SMS.Outbound.Accepted.pxLastGroupID\",\"IH.SMS.Outbound.Accepted.pxLastGroupID\",\"IH.SMS.Outbound.Accepted.pxLastGroupID\",\"IH.Email.Outbound.Accepted.pxLastGroupID\",\"IH.Email.Outbound.Accepted.pxLastGroupID\",\"IH.Email.Outbound.Accepted.pxLastGroupID\",\"IH.Email.Outbound.Accepted.pxLastGroupID\",\"IH.Email.Outbound.Accepted.pxLastGroupID\",\"IH.Email.Outbound.Accepted.pxLastGroupID\",\"IH.Email.Outbound.Accepted.pxLastGroupID\",\"IH.Email.Outbound.Accepted.pxLastGroupID\",\"IH.Email.Outbound.Accepted.pxLastGroupID\",\"IH.Email.Outbound.Accepted.pxLastGroupID\",\"IH.Email.Outbound.Accepted.pxLastGroupID\",\"IH.Email.Outbound.Accepted.pxLastGroupID\",\"IH.Email.Outbound.Accepted.pxLastGroupID\",\"IH.Email.Outbound.Accepted.pxLastGroupID\",\"IH.Email.Outbound.Accepted.pxLastGroupID\",\"IH.Email.Outbound.Accepted.pxLastGroupID\",\"IH.Email.Outbound.Accepted.pxLastGroupID\",\"IH.Email.Outbound.Accepted.pxLastGroupID\",\"IH.Email.Outbound.Accepted.pxLastGroupID\",\"IH.Email.Outbound.Accepted.pxLastGroupID\",\"IH.Web.Inbound.Rejected.pyHistoricalOutcomeCount\",\"IH.Web.Inbound.Rejected.pyHistoricalOutcomeCount\",\"IH.Web.Inbound.Rejected.pyHistoricalOutcomeCount\",\"IH.Web.Inbound.Rejected.pyHistoricalOutcomeCount\",\"IH.Web.Inbound.Rejected.pyHistoricalOutcomeCount\",\"IH.Web.Inbound.Rejected.pyHistoricalOutcomeCount\",\"IH.Web.Inbound.Rejected.pyHistoricalOutcomeCount\",\"IH.Web.Inbound.Rejected.pyHistoricalOutcomeCount\",\"IH.Web.Inbound.Rejected.pyHistoricalOutcomeCount\",\"IH.Web.Inbound.Rejected.pyHistoricalOutcomeCount\",\"IH.Web.Inbound.Rejected.pyHistoricalOutcomeCount\",\"IH.Web.Inbound.Rejected.pyHistoricalOutcomeCount\",\"IH.Web.Inbound.Rejected.pyHistoricalOutcomeCount\",\"IH.Web.Inbound.Rejected.pyHistoricalOutcomeCount\",\"IH.Web.Inbound.Rejected.pyHistoricalOutcomeCount\",\"IH.Web.Inbound.Rejected.pyHistoricalOutcomeCount\",\"IH.Web.Inbound.Rejected.pyHistoricalOutcomeCount\",\"IH.Web.Inbound.Rejected.pyHistoricalOutcomeCount\",\"IH.Web.Inbound.Rejected.pyHistoricalOutcomeCount\",\"IH.Web.Inbound.Rejected.pyHistoricalOutcomeCount\",\"IH.SMS.Outbound.Rejected.pyHistoricalOutcomeCount\",\"IH.SMS.Outbound.Rejected.pyHistoricalOutcomeCount\",\"IH.SMS.Outbound.Rejected.pyHistoricalOutcomeCount\",\"IH.SMS.Outbound.Rejected.pyHistoricalOutcomeCount\",\"IH.SMS.Outbound.Rejected.pyHistoricalOutcomeCount\",\"IH.SMS.Outbound.Rejected.pyHistoricalOutcomeCount\",\"IH.SMS.Outbound.Rejected.pyHistoricalOutcomeCount\",\"IH.SMS.Outbound.Rejected.pyHistoricalOutcomeCount\",\"IH.SMS.Outbound.Rejected.pyHistoricalOutcomeCount\",\"IH.SMS.Outbound.Rejected.pyHistoricalOutcomeCount\",\"IH.SMS.Outbound.Rejected.pyHistoricalOutcomeCount\",\"IH.SMS.Outbound.Rejected.pyHistoricalOutcomeCount\",\"IH.SMS.Outbound.Rejected.pyHistoricalOutcomeCount\",\"IH.SMS.Outbound.Rejected.pyHistoricalOutcomeCount\",\"IH.SMS.Outbound.Rejected.pyHistoricalOutcomeCount\",\"IH.SMS.Outbound.Rejected.pyHistoricalOutcomeCount\",\"IH.SMS.Outbound.Rejected.pyHistoricalOutcomeCount\",\"IH.SMS.Outbound.Rejected.pyHistoricalOutcomeCount\",\"IH.SMS.Outbound.Rejected.pyHistoricalOutcomeCount\",\"IH.SMS.Outbound.Rejected.pyHistoricalOutcomeCount\",\"IH.SMS.Outbound.Accepted.pyHistoricalOutcomeCount\",\"IH.SMS.Outbound.Accepted.pyHistoricalOutcomeCount\",\"IH.SMS.Outbound.Accepted.pyHistoricalOutcomeCount\",\"IH.SMS.Outbound.Accepted.pyHistoricalOutcomeCount\",\"IH.SMS.Outbound.Accepted.pyHistoricalOutcomeCount\",\"IH.SMS.Outbound.Accepted.pyHistoricalOutcomeCount\",\"IH.SMS.Outbound.Accepted.pyHistoricalOutcomeCount\",\"IH.SMS.Outbound.Accepted.pyHistoricalOutcomeCount\",\"IH.SMS.Outbound.Accepted.pyHistoricalOutcomeCount\",\"IH.SMS.Outbound.Accepted.pyHistoricalOutcomeCount\",\"IH.SMS.Outbound.Accepted.pyHistoricalOutcomeCount\",\"IH.SMS.Outbound.Accepted.pyHistoricalOutcomeCount\",\"IH.SMS.Outbound.Accepted.pyHistoricalOutcomeCount\",\"IH.SMS.Outbound.Accepted.pyHistoricalOutcomeCount\",\"IH.SMS.Outbound.Accepted.pyHistoricalOutcomeCount\",\"IH.SMS.Outbound.Accepted.pyHistoricalOutcomeCount\",\"IH.SMS.Outbound.Accepted.pyHistoricalOutcomeCount\",\"IH.SMS.Outbound.Accepted.pyHistoricalOutcomeCount\",\"IH.SMS.Outbound.Accepted.pyHistoricalOutcomeCount\",\"IH.SMS.Outbound.Accepted.pyHistoricalOutcomeCount\",\"IH.Email.Outbound.Rejected.pyHistoricalOutcomeCount\",\"IH.Email.Outbound.Rejected.pyHistoricalOutcomeCount\",\"IH.Email.Outbound.Rejected.pyHistoricalOutcomeCount\",\"IH.Email.Outbound.Rejected.pyHistoricalOutcomeCount\",\"IH.Email.Outbound.Rejected.pyHistoricalOutcomeCount\",\"IH.Email.Outbound.Rejected.pyHistoricalOutcomeCount\",\"IH.Email.Outbound.Rejected.pyHistoricalOutcomeCount\",\"IH.Email.Outbound.Rejected.pyHistoricalOutcomeCount\",\"IH.Email.Outbound.Rejected.pyHistoricalOutcomeCount\",\"IH.Email.Outbound.Rejected.pyHistoricalOutcomeCount\",\"IH.Email.Outbound.Rejected.pyHistoricalOutcomeCount\",\"IH.Email.Outbound.Rejected.pyHistoricalOutcomeCount\",\"IH.Email.Outbound.Rejected.pyHistoricalOutcomeCount\",\"IH.Email.Outbound.Rejected.pyHistoricalOutcomeCount\",\"IH.Email.Outbound.Rejected.pyHistoricalOutcomeCount\",\"IH.Email.Outbound.Rejected.pyHistoricalOutcomeCount\",\"IH.Email.Outbound.Rejected.pyHistoricalOutcomeCount\",\"IH.Email.Outbound.Rejected.pyHistoricalOutcomeCount\",\"IH.Email.Outbound.Rejected.pyHistoricalOutcomeCount\",\"IH.Email.Outbound.Rejected.pyHistoricalOutcomeCount\",\"IH.Web.Inbound.Accepted.pyHistoricalOutcomeCount\",\"IH.Web.Inbound.Accepted.pyHistoricalOutcomeCount\",\"IH.Web.Inbound.Accepted.pyHistoricalOutcomeCount\",\"IH.Web.Inbound.Accepted.pyHistoricalOutcomeCount\",\"IH.Web.Inbound.Accepted.pyHistoricalOutcomeCount\",\"IH.Web.Inbound.Accepted.pyHistoricalOutcomeCount\",\"IH.Web.Inbound.Accepted.pyHistoricalOutcomeCount\",\"IH.Web.Inbound.Accepted.pyHistoricalOutcomeCount\",\"IH.Web.Inbound.Accepted.pyHistoricalOutcomeCount\",\"IH.Web.Inbound.Accepted.pyHistoricalOutcomeCount\",\"IH.Web.Inbound.Accepted.pyHistoricalOutcomeCount\",\"IH.Web.Inbound.Accepted.pyHistoricalOutcomeCount\",\"IH.Web.Inbound.Accepted.pyHistoricalOutcomeCount\",\"IH.Web.Inbound.Accepted.pyHistoricalOutcomeCount\",\"IH.Web.Inbound.Accepted.pyHistoricalOutcomeCount\",\"IH.Web.Inbound.Accepted.pyHistoricalOutcomeCount\",\"IH.Web.Inbound.Accepted.pyHistoricalOutcomeCount\",\"IH.Web.Inbound.Accepted.pyHistoricalOutcomeCount\",\"IH.Web.Inbound.Accepted.pyHistoricalOutcomeCount\",\"IH.Web.Inbound.Accepted.pyHistoricalOutcomeCount\"],\"y0\":\" \",\"yaxis\":\"y\",\"type\":\"box\"},{\"alignmentgroup\":\"True\",\"hovertemplate\":\"Legend=Param\\u003cbr\\u003ePerformance=%{x}\\u003cbr\\u003ePredictor Name=%{y}\\u003cextra\\u003e\\u003c\\u002fextra\\u003e\",\"legendgroup\":\"Param\",\"marker\":{\"color\":\"#F76923\"},\"name\":\"Param\",\"notched\":false,\"offsetgroup\":\"Param\",\"orientation\":\"h\",\"showlegend\":true,\"x\":[50.404700000000005,57.5545,60.520399999999995,51.605199999999996,65.18969999999999,53.736700000000006,50.2131,53.3458,56.25059999999999,57.7999,58.8394,59.164300000000004,57.604299999999995,51.2269,51.3856,55.212700000000005,55.2592,71.8279,61.4975,54.395700000000005],\"x0\":\" \",\"xaxis\":\"x\",\"y\":[\"Param.ExtGroupCreditcards\",\"Param.ExtGroupCreditcards\",\"Param.ExtGroupCreditcards\",\"Param.ExtGroupCreditcards\",\"Param.ExtGroupCreditcards\",\"Param.ExtGroupCreditcards\",\"Param.ExtGroupCreditcards\",\"Param.ExtGroupCreditcards\",\"Param.ExtGroupCreditcards\",\"Param.ExtGroupCreditcards\",\"Param.ExtGroupCreditcards\",\"Param.ExtGroupCreditcards\",\"Param.ExtGroupCreditcards\",\"Param.ExtGroupCreditcards\",\"Param.ExtGroupCreditcards\",\"Param.ExtGroupCreditcards\",\"Param.ExtGroupCreditcards\",\"Param.ExtGroupCreditcards\",\"Param.ExtGroupCreditcards\",\"Param.ExtGroupCreditcards\"],\"y0\":\" \",\"yaxis\":\"y\",\"type\":\"box\"}],                        {\"template\":{\"layout\":{\"colorway\":[\"#001F5F\",\"#10A5AC\",\"#F76923\",\"#661D34\",\"#86CAC6\",\"#005154\",\"#86CAC6\",\"#5F67B9\",\"#FFC836\",\"#E63690\",\"#AC1361\",\"#63666F\",\"#A7A9B4\",\"#D0D1DB\"],\"hovermode\":\"closest\"}},\"xaxis\":{\"anchor\":\"y\",\"domain\":[0.0,1.0],\"title\":{\"text\":\"Performance\"}},\"yaxis\":{\"anchor\":\"x\",\"domain\":[0.0,1.0],\"title\":{\"text\":\"Predictor Name\"},\"categoryorder\":\"array\",\"categoryarray\":[\"Customer.CLV\",\"Customer.NoOfDependents\",\"IH.SMS.Outbound.Rejected.pxLastGroupID\",\"IH.Web.Inbound.Loyal.pyHistoricalOutcomeCount\",\"Customer.Prefix\",\"Customer.City\",\"Customer.BusinessSegment\",\"Customer.C_CIFNBR\",\"Param.ExtGroupCreditcards\",\"IH.Web.Inbound.Rejected.pxLastGroupID\",\"IH.Web.Inbound.Churned.pyHistoricalOutcomeCount\",\"Customer.Date_of_Birth\",\"IH.Email.Outbound.Accepted.pyHistoricalOutcomeCount\",\"Customer.RelationshipStartDate\",\"IH.Web.Inbound.Accepted.pxLastGroupID\",\"IH.SMS.Outbound.Accepted.pxLastGroupID\",\"Customer.MaritalStatus\",\"IH.Email.Outbound.Accepted.pxLastGroupID\",\"IH.Web.Inbound.Rejected.pyHistoricalOutcomeCount\",\"IH.SMS.Outbound.Rejected.pyHistoricalOutcomeCount\",\"Customer.RiskCode\",\"IH.SMS.Outbound.Accepted.pyHistoricalOutcomeCount\",\"IH.Email.Outbound.Rejected.pyHistoricalOutcomeCount\",\"IH.Web.Inbound.Accepted.pyHistoricalOutcomeCount\",\"Customer.CLV_VALUE\",\"Customer.Age\",\"Customer.WinScore\",\"Customer.NetWealth\",\"Customer.CreditScore\",\"Customer.AnnualIncome\"],\"automargin\":true,\"dtick\":1},\"legend\":{\"title\":{\"text\":\"Predictor category\"},\"tracegroupgap\":0},\"title\":{\"text\":\"Predictor Performance over all models \"},\"boxmode\":\"group\",\"boxgap\":0,\"boxgroupgap\":0},                        {\"responsive\": true}                    ).then(function(){\n",
       "                            \n",
       "var gd = document.getElementById('8bb24114-cd04-42b0-9cab-e66e667cebbb');\n",
       "var x = new MutationObserver(function (mutations, observer) {{\n",
       "        var display = window.getComputedStyle(gd).display;\n",
       "        if (!display || display === 'none') {{\n",
       "            console.log([gd, 'removed!']);\n",
       "            Plotly.purge(gd);\n",
       "            observer.disconnect();\n",
       "        }}\n",
       "}});\n",
       "\n",
       "// Listen for the removal of the full notebook cells\n",
       "var notebookContainer = gd.closest('#notebook-container');\n",
       "if (notebookContainer) {{\n",
       "    x.observe(notebookContainer, {childList: true});\n",
       "}}\n",
       "\n",
       "// Listen for the clearing of the current output cell\n",
       "var outputEl = gd.closest('.output');\n",
       "if (outputEl) {{\n",
       "    x.observe(outputEl, {childList: true});\n",
       "}}\n",
       "\n",
       "                        })                };                });            </script>        </div>"
      ]
     },
     "metadata": {},
     "output_type": "display_data"
    }
   ],
   "source": [
    "data.plotPredictorPerformance(top_n=30)\n"
   ]
  },
  {
   "attachments": {},
   "cell_type": "markdown",
   "metadata": {},
   "source": [
    "## Predictor Contribution"
   ]
  },
  {
   "cell_type": "code",
   "execution_count": 8,
   "metadata": {
    "execution": {
     "iopub.execute_input": "2023-07-28T14:40:28.952906Z",
     "iopub.status.busy": "2023-07-28T14:40:28.952371Z",
     "iopub.status.idle": "2023-07-28T14:40:28.992077Z",
     "shell.execute_reply": "2023-07-28T14:40:28.991528Z"
    }
   },
   "outputs": [
    {
     "data": {
      "text/html": [
       "<div>                            <div id=\"5b37be1c-6f27-4c28-b81f-538c166c7eaf\" class=\"plotly-graph-div\" style=\"height:525px; width:100%;\"></div>            <script type=\"text/javascript\">                require([\"plotly\"], function(Plotly) {                    window.PLOTLYENV=window.PLOTLYENV || {};                                    if (document.getElementById(\"5b37be1c-6f27-4c28-b81f-538c166c7eaf\")) {                    Plotly.newPlot(                        \"5b37be1c-6f27-4c28-b81f-538c166c7eaf\",                        [{\"alignmentgroup\":\"True\",\"hovertemplate\":\"PredictorCategory=Customer\\u003cbr\\u003eContribution=%{x}\\u003cbr\\u003eConfiguration=%{y}\\u003cextra\\u003e\\u003c\\u002fextra\\u003e\",\"legendgroup\":\"Customer\",\"marker\":{\"color\":\"#001F5F\",\"pattern\":{\"shape\":\"\"}},\"name\":\"Customer\",\"offsetgroup\":\"Customer\",\"orientation\":\"h\",\"showlegend\":true,\"textposition\":\"auto\",\"x\":[39.01578080037275],\"xaxis\":\"x\",\"y\":[\"OmniAdaptiveModel\"],\"yaxis\":\"y\",\"type\":\"bar\"},{\"alignmentgroup\":\"True\",\"hovertemplate\":\"PredictorCategory=IH\\u003cbr\\u003eContribution=%{x}\\u003cbr\\u003eConfiguration=%{y}\\u003cextra\\u003e\\u003c\\u002fextra\\u003e\",\"legendgroup\":\"IH\",\"marker\":{\"color\":\"#10A5AC\",\"pattern\":{\"shape\":\"\"}},\"name\":\"IH\",\"offsetgroup\":\"IH\",\"orientation\":\"h\",\"showlegend\":true,\"textposition\":\"auto\",\"x\":[42.6746454736057],\"xaxis\":\"x\",\"y\":[\"OmniAdaptiveModel\"],\"yaxis\":\"y\",\"type\":\"bar\"},{\"alignmentgroup\":\"True\",\"hovertemplate\":\"PredictorCategory=Param\\u003cbr\\u003eContribution=%{x}\\u003cbr\\u003eConfiguration=%{y}\\u003cextra\\u003e\\u003c\\u002fextra\\u003e\",\"legendgroup\":\"Param\",\"marker\":{\"color\":\"#F76923\",\"pattern\":{\"shape\":\"\"}},\"name\":\"Param\",\"offsetgroup\":\"Param\",\"orientation\":\"h\",\"showlegend\":true,\"textposition\":\"auto\",\"x\":[18.30957372602155],\"xaxis\":\"x\",\"y\":[\"OmniAdaptiveModel\"],\"yaxis\":\"y\",\"type\":\"bar\"}],                        {\"template\":{\"layout\":{\"colorway\":[\"#001F5F\",\"#10A5AC\",\"#F76923\",\"#661D34\",\"#86CAC6\",\"#005154\",\"#86CAC6\",\"#5F67B9\",\"#FFC836\",\"#E63690\",\"#AC1361\",\"#63666F\",\"#A7A9B4\",\"#D0D1DB\"],\"hovermode\":\"closest\"}},\"xaxis\":{\"anchor\":\"y\",\"domain\":[0.0,1.0],\"title\":{\"text\":\"Contribution\"}},\"yaxis\":{\"anchor\":\"x\",\"domain\":[0.0,1.0],\"title\":{\"text\":\"Configuration\"}},\"legend\":{\"title\":{\"text\":\"PredictorCategory\"},\"tracegroupgap\":0},\"title\":{\"text\":\"Contribution of different sources\"},\"barmode\":\"relative\"},                        {\"responsive\": true}                    ).then(function(){\n",
       "                            \n",
       "var gd = document.getElementById('5b37be1c-6f27-4c28-b81f-538c166c7eaf');\n",
       "var x = new MutationObserver(function (mutations, observer) {{\n",
       "        var display = window.getComputedStyle(gd).display;\n",
       "        if (!display || display === 'none') {{\n",
       "            console.log([gd, 'removed!']);\n",
       "            Plotly.purge(gd);\n",
       "            observer.disconnect();\n",
       "        }}\n",
       "}});\n",
       "\n",
       "// Listen for the removal of the full notebook cells\n",
       "var notebookContainer = gd.closest('#notebook-container');\n",
       "if (notebookContainer) {{\n",
       "    x.observe(notebookContainer, {childList: true});\n",
       "}}\n",
       "\n",
       "// Listen for the clearing of the current output cell\n",
       "var outputEl = gd.closest('.output');\n",
       "if (outputEl) {{\n",
       "    x.observe(outputEl, {childList: true});\n",
       "}}\n",
       "\n",
       "                        })                };                });            </script>        </div>"
      ]
     },
     "metadata": {},
     "output_type": "display_data"
    }
   ],
   "source": [
    "data.plotPredictorContribution()"
   ]
  },
  {
   "cell_type": "markdown",
   "metadata": {},
   "source": [
    "## Predictor Performance Heatmap"
   ]
  },
  {
   "cell_type": "code",
   "execution_count": 9,
   "metadata": {
    "execution": {
     "iopub.execute_input": "2023-07-28T14:40:28.995081Z",
     "iopub.status.busy": "2023-07-28T14:40:28.994634Z",
     "iopub.status.idle": "2023-07-28T14:40:29.122878Z",
     "shell.execute_reply": "2023-07-28T14:40:29.122338Z"
    }
   },
   "outputs": [
    {
     "data": {
      "text/html": [
       "<div>                            <div id=\"56c687f4-f4ca-4b50-b108-3c5b5f898714\" class=\"plotly-graph-div\" style=\"height:525px; width:100%;\"></div>            <script type=\"text/javascript\">                require([\"plotly\"], function(Plotly) {                    window.PLOTLYENV=window.PLOTLYENV || {};                                    if (document.getElementById(\"56c687f4-f4ca-4b50-b108-3c5b5f898714\")) {                    Plotly.newPlot(                        \"56c687f4-f4ca-4b50-b108-3c5b5f898714\",                        [{\"coloraxis\":\"coloraxis\",\"name\":\"0\",\"texttemplate\":\"%{z:.1f}\",\"x\":[\"FirstMortgageFloat\",\"ChannelAction_Template\",\"AutoUsed48Months\",\"AutoNew36Months\",\"AutoUsed60Months\",\"AutoNew84Months\"],\"y\":[\"Customer.AnnualIncome\",\"IH.Email.Outbound.Churned.pxLastGroupID\",\"IH.Email.Outbound.Churned.pxLastOutcomeTime.DaysSince\",\"IH.Email.Outbound.Churned.pyHistoricalOutcomeCount\",\"Customer.WinScore\",\"Customer.CreditScore\"],\"z\":[[50.0,86.3848,50.0,78.18,50.0,74.91409999999999],[81.9005,50.0,50.0,50.0,50.0,50.0],[81.9005,50.0,50.0,50.0,50.0,50.0],[81.9005,50.0,50.0,50.0,50.0,50.0],[50.0,50.0,79.5234,50.0,50.0,50.0],[50.0,50.0,50.0,50.0,75.493,50.0]],\"type\":\"heatmap\",\"xaxis\":\"x\",\"yaxis\":\"y\",\"hovertemplate\":\"PredictorName: %{y}\\u003cbr\\u003ePerformance: %{z:.2f}\\u003cbr\\u003eName: %{customdata[0]}\",\"customdata\":[[[\"FirstMortgageFloat\"],[\"FirstMortgageFloat\"],[\"FirstMortgageFloat\"],[\"FirstMortgageFloat\"],[\"FirstMortgageFloat\"],[\"FirstMortgageFloat\"]],[[\"ChannelAction_Template\"],[\"ChannelAction_Template\"],[\"ChannelAction_Template\"],[\"ChannelAction_Template\"],[\"ChannelAction_Template\"],[\"ChannelAction_Template\"]],[[\"AutoUsed48Months\"],[\"AutoUsed48Months\"],[\"AutoUsed48Months\"],[\"AutoUsed48Months\"],[\"AutoUsed48Months\"],[\"AutoUsed48Months\"]],[[\"AutoNew36Months\"],[\"AutoNew36Months\"],[\"AutoNew36Months\"],[\"AutoNew36Months\"],[\"AutoNew36Months\"],[\"AutoNew36Months\"]],[[\"AutoUsed60Months\"],[\"AutoUsed60Months\"],[\"AutoUsed60Months\"],[\"AutoUsed60Months\"],[\"AutoUsed60Months\"],[\"AutoUsed60Months\"]],[[\"AutoNew84Months\"],[\"AutoNew84Months\"],[\"AutoNew84Months\"],[\"AutoNew84Months\"],[\"AutoNew84Months\"],[\"AutoNew84Months\"]]]}],                        {\"template\":{\"data\":{\"histogram2dcontour\":[{\"type\":\"histogram2dcontour\",\"colorbar\":{\"outlinewidth\":0,\"ticks\":\"\"},\"colorscale\":[[0.0,\"#0d0887\"],[0.1111111111111111,\"#46039f\"],[0.2222222222222222,\"#7201a8\"],[0.3333333333333333,\"#9c179e\"],[0.4444444444444444,\"#bd3786\"],[0.5555555555555556,\"#d8576b\"],[0.6666666666666666,\"#ed7953\"],[0.7777777777777778,\"#fb9f3a\"],[0.8888888888888888,\"#fdca26\"],[1.0,\"#f0f921\"]]}],\"choropleth\":[{\"type\":\"choropleth\",\"colorbar\":{\"outlinewidth\":0,\"ticks\":\"\"}}],\"histogram2d\":[{\"type\":\"histogram2d\",\"colorbar\":{\"outlinewidth\":0,\"ticks\":\"\"},\"colorscale\":[[0.0,\"#0d0887\"],[0.1111111111111111,\"#46039f\"],[0.2222222222222222,\"#7201a8\"],[0.3333333333333333,\"#9c179e\"],[0.4444444444444444,\"#bd3786\"],[0.5555555555555556,\"#d8576b\"],[0.6666666666666666,\"#ed7953\"],[0.7777777777777778,\"#fb9f3a\"],[0.8888888888888888,\"#fdca26\"],[1.0,\"#f0f921\"]]}],\"heatmap\":[{\"type\":\"heatmap\",\"colorbar\":{\"outlinewidth\":0,\"ticks\":\"\"},\"colorscale\":[[0.0,\"#0d0887\"],[0.1111111111111111,\"#46039f\"],[0.2222222222222222,\"#7201a8\"],[0.3333333333333333,\"#9c179e\"],[0.4444444444444444,\"#bd3786\"],[0.5555555555555556,\"#d8576b\"],[0.6666666666666666,\"#ed7953\"],[0.7777777777777778,\"#fb9f3a\"],[0.8888888888888888,\"#fdca26\"],[1.0,\"#f0f921\"]]}],\"heatmapgl\":[{\"type\":\"heatmapgl\",\"colorbar\":{\"outlinewidth\":0,\"ticks\":\"\"},\"colorscale\":[[0.0,\"#0d0887\"],[0.1111111111111111,\"#46039f\"],[0.2222222222222222,\"#7201a8\"],[0.3333333333333333,\"#9c179e\"],[0.4444444444444444,\"#bd3786\"],[0.5555555555555556,\"#d8576b\"],[0.6666666666666666,\"#ed7953\"],[0.7777777777777778,\"#fb9f3a\"],[0.8888888888888888,\"#fdca26\"],[1.0,\"#f0f921\"]]}],\"contourcarpet\":[{\"type\":\"contourcarpet\",\"colorbar\":{\"outlinewidth\":0,\"ticks\":\"\"}}],\"contour\":[{\"type\":\"contour\",\"colorbar\":{\"outlinewidth\":0,\"ticks\":\"\"},\"colorscale\":[[0.0,\"#0d0887\"],[0.1111111111111111,\"#46039f\"],[0.2222222222222222,\"#7201a8\"],[0.3333333333333333,\"#9c179e\"],[0.4444444444444444,\"#bd3786\"],[0.5555555555555556,\"#d8576b\"],[0.6666666666666666,\"#ed7953\"],[0.7777777777777778,\"#fb9f3a\"],[0.8888888888888888,\"#fdca26\"],[1.0,\"#f0f921\"]]}],\"surface\":[{\"type\":\"surface\",\"colorbar\":{\"outlinewidth\":0,\"ticks\":\"\"},\"colorscale\":[[0.0,\"#0d0887\"],[0.1111111111111111,\"#46039f\"],[0.2222222222222222,\"#7201a8\"],[0.3333333333333333,\"#9c179e\"],[0.4444444444444444,\"#bd3786\"],[0.5555555555555556,\"#d8576b\"],[0.6666666666666666,\"#ed7953\"],[0.7777777777777778,\"#fb9f3a\"],[0.8888888888888888,\"#fdca26\"],[1.0,\"#f0f921\"]]}],\"mesh3d\":[{\"type\":\"mesh3d\",\"colorbar\":{\"outlinewidth\":0,\"ticks\":\"\"}}],\"scatter\":[{\"fillpattern\":{\"fillmode\":\"overlay\",\"size\":10,\"solidity\":0.2},\"type\":\"scatter\"}],\"parcoords\":[{\"type\":\"parcoords\",\"line\":{\"colorbar\":{\"outlinewidth\":0,\"ticks\":\"\"}}}],\"scatterpolargl\":[{\"type\":\"scatterpolargl\",\"marker\":{\"colorbar\":{\"outlinewidth\":0,\"ticks\":\"\"}}}],\"bar\":[{\"error_x\":{\"color\":\"#2a3f5f\"},\"error_y\":{\"color\":\"#2a3f5f\"},\"marker\":{\"line\":{\"color\":\"#E5ECF6\",\"width\":0.5},\"pattern\":{\"fillmode\":\"overlay\",\"size\":10,\"solidity\":0.2}},\"type\":\"bar\"}],\"scattergeo\":[{\"type\":\"scattergeo\",\"marker\":{\"colorbar\":{\"outlinewidth\":0,\"ticks\":\"\"}}}],\"scatterpolar\":[{\"type\":\"scatterpolar\",\"marker\":{\"colorbar\":{\"outlinewidth\":0,\"ticks\":\"\"}}}],\"histogram\":[{\"marker\":{\"pattern\":{\"fillmode\":\"overlay\",\"size\":10,\"solidity\":0.2}},\"type\":\"histogram\"}],\"scattergl\":[{\"type\":\"scattergl\",\"marker\":{\"colorbar\":{\"outlinewidth\":0,\"ticks\":\"\"}}}],\"scatter3d\":[{\"type\":\"scatter3d\",\"line\":{\"colorbar\":{\"outlinewidth\":0,\"ticks\":\"\"}},\"marker\":{\"colorbar\":{\"outlinewidth\":0,\"ticks\":\"\"}}}],\"scattermapbox\":[{\"type\":\"scattermapbox\",\"marker\":{\"colorbar\":{\"outlinewidth\":0,\"ticks\":\"\"}}}],\"scatterternary\":[{\"type\":\"scatterternary\",\"marker\":{\"colorbar\":{\"outlinewidth\":0,\"ticks\":\"\"}}}],\"scattercarpet\":[{\"type\":\"scattercarpet\",\"marker\":{\"colorbar\":{\"outlinewidth\":0,\"ticks\":\"\"}}}],\"carpet\":[{\"aaxis\":{\"endlinecolor\":\"#2a3f5f\",\"gridcolor\":\"white\",\"linecolor\":\"white\",\"minorgridcolor\":\"white\",\"startlinecolor\":\"#2a3f5f\"},\"baxis\":{\"endlinecolor\":\"#2a3f5f\",\"gridcolor\":\"white\",\"linecolor\":\"white\",\"minorgridcolor\":\"white\",\"startlinecolor\":\"#2a3f5f\"},\"type\":\"carpet\"}],\"table\":[{\"cells\":{\"fill\":{\"color\":\"#EBF0F8\"},\"line\":{\"color\":\"white\"}},\"header\":{\"fill\":{\"color\":\"#C8D4E3\"},\"line\":{\"color\":\"white\"}},\"type\":\"table\"}],\"barpolar\":[{\"marker\":{\"line\":{\"color\":\"#E5ECF6\",\"width\":0.5},\"pattern\":{\"fillmode\":\"overlay\",\"size\":10,\"solidity\":0.2}},\"type\":\"barpolar\"}],\"pie\":[{\"automargin\":true,\"type\":\"pie\"}]},\"layout\":{\"autotypenumbers\":\"strict\",\"colorway\":[\"#636efa\",\"#EF553B\",\"#00cc96\",\"#ab63fa\",\"#FFA15A\",\"#19d3f3\",\"#FF6692\",\"#B6E880\",\"#FF97FF\",\"#FECB52\"],\"font\":{\"color\":\"#2a3f5f\"},\"hovermode\":\"closest\",\"hoverlabel\":{\"align\":\"left\"},\"paper_bgcolor\":\"white\",\"plot_bgcolor\":\"#E5ECF6\",\"polar\":{\"bgcolor\":\"#E5ECF6\",\"angularaxis\":{\"gridcolor\":\"white\",\"linecolor\":\"white\",\"ticks\":\"\"},\"radialaxis\":{\"gridcolor\":\"white\",\"linecolor\":\"white\",\"ticks\":\"\"}},\"ternary\":{\"bgcolor\":\"#E5ECF6\",\"aaxis\":{\"gridcolor\":\"white\",\"linecolor\":\"white\",\"ticks\":\"\"},\"baxis\":{\"gridcolor\":\"white\",\"linecolor\":\"white\",\"ticks\":\"\"},\"caxis\":{\"gridcolor\":\"white\",\"linecolor\":\"white\",\"ticks\":\"\"}},\"coloraxis\":{\"colorbar\":{\"outlinewidth\":0,\"ticks\":\"\"}},\"colorscale\":{\"sequential\":[[0.0,\"#0d0887\"],[0.1111111111111111,\"#46039f\"],[0.2222222222222222,\"#7201a8\"],[0.3333333333333333,\"#9c179e\"],[0.4444444444444444,\"#bd3786\"],[0.5555555555555556,\"#d8576b\"],[0.6666666666666666,\"#ed7953\"],[0.7777777777777778,\"#fb9f3a\"],[0.8888888888888888,\"#fdca26\"],[1.0,\"#f0f921\"]],\"sequentialminus\":[[0.0,\"#0d0887\"],[0.1111111111111111,\"#46039f\"],[0.2222222222222222,\"#7201a8\"],[0.3333333333333333,\"#9c179e\"],[0.4444444444444444,\"#bd3786\"],[0.5555555555555556,\"#d8576b\"],[0.6666666666666666,\"#ed7953\"],[0.7777777777777778,\"#fb9f3a\"],[0.8888888888888888,\"#fdca26\"],[1.0,\"#f0f921\"]],\"diverging\":[[0,\"#8e0152\"],[0.1,\"#c51b7d\"],[0.2,\"#de77ae\"],[0.3,\"#f1b6da\"],[0.4,\"#fde0ef\"],[0.5,\"#f7f7f7\"],[0.6,\"#e6f5d0\"],[0.7,\"#b8e186\"],[0.8,\"#7fbc41\"],[0.9,\"#4d9221\"],[1,\"#276419\"]]},\"xaxis\":{\"gridcolor\":\"white\",\"linecolor\":\"white\",\"ticks\":\"\",\"title\":{\"standoff\":15},\"zerolinecolor\":\"white\",\"automargin\":true,\"zerolinewidth\":2},\"yaxis\":{\"gridcolor\":\"white\",\"linecolor\":\"white\",\"ticks\":\"\",\"title\":{\"standoff\":15},\"zerolinecolor\":\"white\",\"automargin\":true,\"zerolinewidth\":2},\"scene\":{\"xaxis\":{\"backgroundcolor\":\"#E5ECF6\",\"gridcolor\":\"white\",\"linecolor\":\"white\",\"showbackground\":true,\"ticks\":\"\",\"zerolinecolor\":\"white\",\"gridwidth\":2},\"yaxis\":{\"backgroundcolor\":\"#E5ECF6\",\"gridcolor\":\"white\",\"linecolor\":\"white\",\"showbackground\":true,\"ticks\":\"\",\"zerolinecolor\":\"white\",\"gridwidth\":2},\"zaxis\":{\"backgroundcolor\":\"#E5ECF6\",\"gridcolor\":\"white\",\"linecolor\":\"white\",\"showbackground\":true,\"ticks\":\"\",\"zerolinecolor\":\"white\",\"gridwidth\":2}},\"shapedefaults\":{\"line\":{\"color\":\"#2a3f5f\"}},\"annotationdefaults\":{\"arrowcolor\":\"#2a3f5f\",\"arrowhead\":0,\"arrowwidth\":1},\"geo\":{\"bgcolor\":\"white\",\"landcolor\":\"#E5ECF6\",\"subunitcolor\":\"white\",\"showland\":true,\"showlakes\":true,\"lakecolor\":\"white\"},\"title\":{\"x\":0.05},\"mapbox\":{\"style\":\"light\"}}},\"xaxis\":{\"anchor\":\"y\",\"domain\":[0.0,1.0],\"title\":{\"text\":\"Name\"},\"dtick\":1},\"yaxis\":{\"anchor\":\"x\",\"domain\":[0.0,1.0],\"autorange\":\"reversed\",\"dtick\":1,\"automargin\":true},\"coloraxis\":{\"colorscale\":[[0,\"#d91c29\"],[0.01,\"#F76923\"],[0.3,\"#20aa50\"],[0.8,\"#20aa50\"],[1,\"#0000FF\"]],\"cmin\":50,\"cmax\":100},\"title\":{\"text\":\"Top predictors over all models \"}},                        {\"responsive\": true}                    ).then(function(){\n",
       "                            \n",
       "var gd = document.getElementById('56c687f4-f4ca-4b50-b108-3c5b5f898714');\n",
       "var x = new MutationObserver(function (mutations, observer) {{\n",
       "        var display = window.getComputedStyle(gd).display;\n",
       "        if (!display || display === 'none') {{\n",
       "            console.log([gd, 'removed!']);\n",
       "            Plotly.purge(gd);\n",
       "            observer.disconnect();\n",
       "        }}\n",
       "}});\n",
       "\n",
       "// Listen for the removal of the full notebook cells\n",
       "var notebookContainer = gd.closest('#notebook-container');\n",
       "if (notebookContainer) {{\n",
       "    x.observe(notebookContainer, {childList: true});\n",
       "}}\n",
       "\n",
       "// Listen for the clearing of the current output cell\n",
       "var outputEl = gd.closest('.output');\n",
       "if (outputEl) {{\n",
       "    x.observe(outputEl, {childList: true});\n",
       "}}\n",
       "\n",
       "                        })                };                });            </script>        </div>"
      ]
     },
     "metadata": {},
     "output_type": "display_data"
    }
   ],
   "source": [
    "data.plotPredictorPerformanceHeatmap(top_n=20)\n"
   ]
  },
  {
   "cell_type": "markdown",
   "metadata": {},
   "source": [
    "## Proposition Success Rates"
   ]
  },
  {
   "cell_type": "code",
   "execution_count": 10,
   "metadata": {
    "execution": {
     "iopub.execute_input": "2023-07-28T14:40:29.125318Z",
     "iopub.status.busy": "2023-07-28T14:40:29.125010Z",
     "iopub.status.idle": "2023-07-28T14:40:29.219945Z",
     "shell.execute_reply": "2023-07-28T14:40:29.219423Z"
    }
   },
   "outputs": [
    {
     "name": "stderr",
     "output_type": "stream",
     "text": [
      "The predicate 'col(\"SuccessRate\").var().is_not_nan()' in 'when->then->otherwise' is not a valid aggregation and might produce a different number of rows than the groupby operation would. This behavior is experimental and may be subject to change\n"
     ]
    },
    {
     "data": {
      "text/html": [
       "<div>                            <div id=\"00f2870e-5775-4ad8-bb8b-73b0509116df\" class=\"plotly-graph-div\" style=\"height:525px; width:100%;\"></div>            <script type=\"text/javascript\">                require([\"plotly\"], function(Plotly) {                    window.PLOTLYENV=window.PLOTLYENV || {};                                    if (document.getElementById(\"00f2870e-5775-4ad8-bb8b-73b0509116df\")) {                    Plotly.newPlot(                        \"00f2870e-5775-4ad8-bb8b-73b0509116df\",                        [{\"alignmentgroup\":\"True\",\"bingroup\":\"y\",\"histfunc\":\"avg\",\"hovertemplate\":\"Name=%{y}\\u003cbr\\u003eavg of SuccessRate=%{x}\\u003cextra\\u003e\\u003c\\u002fextra\\u003e\",\"legendgroup\":\"FirstMortgage\",\"marker\":{\"color\":\"#001F5F\",\"pattern\":{\"shape\":\"\"}},\"name\":\"FirstMortgage\",\"offsetgroup\":\"FirstMortgage\",\"orientation\":\"h\",\"showlegend\":true,\"x\":[0.22154071927070618],\"xaxis\":\"x\",\"y\":[\"FirstMortgage\"],\"yaxis\":\"y\",\"type\":\"histogram\",\"error_x\":{\"array\":[0.0],\"valueminus\":0}},{\"alignmentgroup\":\"True\",\"bingroup\":\"y\",\"histfunc\":\"avg\",\"hovertemplate\":\"Name=%{y}\\u003cbr\\u003eavg of SuccessRate=%{x}\\u003cextra\\u003e\\u003c\\u002fextra\\u003e\",\"legendgroup\":\"MasterCardGold\",\"marker\":{\"color\":\"#10A5AC\",\"pattern\":{\"shape\":\"\"}},\"name\":\"MasterCardGold\",\"offsetgroup\":\"MasterCardGold\",\"orientation\":\"h\",\"showlegend\":true,\"x\":[0.021556885913014412],\"xaxis\":\"x\",\"y\":[\"MasterCardGold\"],\"yaxis\":\"y\",\"type\":\"histogram\",\"error_x\":{\"array\":[0.0],\"valueminus\":0}},{\"alignmentgroup\":\"True\",\"bingroup\":\"y\",\"histfunc\":\"avg\",\"hovertemplate\":\"Name=%{y}\\u003cbr\\u003eavg of SuccessRate=%{x}\\u003cextra\\u003e\\u003c\\u002fextra\\u003e\",\"legendgroup\":\"PremierChecking\",\"marker\":{\"color\":\"#F76923\",\"pattern\":{\"shape\":\"\"}},\"name\":\"PremierChecking\",\"offsetgroup\":\"PremierChecking\",\"orientation\":\"h\",\"showlegend\":true,\"x\":[0.27770209312438965],\"xaxis\":\"x\",\"y\":[\"PremierChecking\"],\"yaxis\":\"y\",\"type\":\"histogram\",\"error_x\":{\"array\":[0.0],\"valueminus\":0}},{\"alignmentgroup\":\"True\",\"bingroup\":\"y\",\"histfunc\":\"avg\",\"hovertemplate\":\"Name=%{y}\\u003cbr\\u003eavg of SuccessRate=%{x}\\u003cextra\\u003e\\u003c\\u002fextra\\u003e\",\"legendgroup\":\"IncreaseYourCreditLine\",\"marker\":{\"color\":\"#661D34\",\"pattern\":{\"shape\":\"\"}},\"name\":\"IncreaseYourCreditLine\",\"offsetgroup\":\"IncreaseYourCreditLine\",\"orientation\":\"h\",\"showlegend\":true,\"x\":[0.04187915474176407],\"xaxis\":\"x\",\"y\":[\"IncreaseYourCreditLine\"],\"yaxis\":\"y\",\"type\":\"histogram\",\"error_x\":{\"array\":[0.0],\"valueminus\":0}},{\"alignmentgroup\":\"True\",\"bingroup\":\"y\",\"histfunc\":\"avg\",\"hovertemplate\":\"Name=%{y}\\u003cbr\\u003eavg of SuccessRate=%{x}\\u003cextra\\u003e\\u003c\\u002fextra\\u003e\",\"legendgroup\":\"PlatinumRewardsCard\",\"marker\":{\"color\":\"#86CAC6\",\"pattern\":{\"shape\":\"\"}},\"name\":\"PlatinumRewardsCard\",\"offsetgroup\":\"PlatinumRewardsCard\",\"orientation\":\"h\",\"showlegend\":true,\"x\":[0.01543550193309784],\"xaxis\":\"x\",\"y\":[\"PlatinumRewardsCard\"],\"yaxis\":\"y\",\"type\":\"histogram\",\"error_x\":{\"array\":[0.0],\"valueminus\":0}},{\"alignmentgroup\":\"True\",\"bingroup\":\"y\",\"histfunc\":\"avg\",\"hovertemplate\":\"Name=%{y}\\u003cbr\\u003eavg of SuccessRate=%{x}\\u003cextra\\u003e\\u003c\\u002fextra\\u003e\",\"legendgroup\":\"FirstMortgageFloat\",\"marker\":{\"color\":\"#005154\",\"pattern\":{\"shape\":\"\"}},\"name\":\"FirstMortgageFloat\",\"offsetgroup\":\"FirstMortgageFloat\",\"orientation\":\"h\",\"showlegend\":true,\"x\":[0.025096524506807327],\"xaxis\":\"x\",\"y\":[\"FirstMortgageFloat\"],\"yaxis\":\"y\",\"type\":\"histogram\",\"error_x\":{\"array\":[0.0],\"valueminus\":0}},{\"alignmentgroup\":\"True\",\"bingroup\":\"y\",\"histfunc\":\"avg\",\"hovertemplate\":\"Name=%{y}\\u003cbr\\u003eavg of SuccessRate=%{x}\\u003cextra\\u003e\\u003c\\u002fextra\\u003e\",\"legendgroup\":\"MoneyMarketSavingsAccount\",\"marker\":{\"color\":\"#86CAC6\",\"pattern\":{\"shape\":\"\"}},\"name\":\"MoneyMarketSavingsAccount\",\"offsetgroup\":\"MoneyMarketSavingsAccount\",\"orientation\":\"h\",\"showlegend\":true,\"x\":[0.09121061116456985],\"xaxis\":\"x\",\"y\":[\"MoneyMarketSavingsAccount\"],\"yaxis\":\"y\",\"type\":\"histogram\",\"error_x\":{\"array\":[0.0],\"valueminus\":0}},{\"alignmentgroup\":\"True\",\"bingroup\":\"y\",\"histfunc\":\"avg\",\"hovertemplate\":\"Name=%{y}\\u003cbr\\u003eavg of SuccessRate=%{x}\\u003cextra\\u003e\\u003c\\u002fextra\\u003e\",\"legendgroup\":\"UPlusFinGold\",\"marker\":{\"color\":\"#5F67B9\",\"pattern\":{\"shape\":\"\"}},\"name\":\"UPlusFinGold\",\"offsetgroup\":\"UPlusFinGold\",\"orientation\":\"h\",\"showlegend\":true,\"x\":[0.05930851027369499],\"xaxis\":\"x\",\"y\":[\"UPlusFinGold\"],\"yaxis\":\"y\",\"type\":\"histogram\",\"error_x\":{\"array\":[0.0],\"valueminus\":0}},{\"alignmentgroup\":\"True\",\"bingroup\":\"y\",\"histfunc\":\"avg\",\"hovertemplate\":\"Name=%{y}\\u003cbr\\u003eavg of SuccessRate=%{x}\\u003cextra\\u003e\\u003c\\u002fextra\\u003e\",\"legendgroup\":\"PremiumBanking\",\"marker\":{\"color\":\"#FFC836\",\"pattern\":{\"shape\":\"\"}},\"name\":\"PremiumBanking\",\"offsetgroup\":\"PremiumBanking\",\"orientation\":\"h\",\"showlegend\":true,\"x\":[0.019513137638568878],\"xaxis\":\"x\",\"y\":[\"PremiumBanking\"],\"yaxis\":\"y\",\"type\":\"histogram\",\"error_x\":{\"array\":[0.0],\"valueminus\":0}},{\"alignmentgroup\":\"True\",\"bingroup\":\"y\",\"histfunc\":\"avg\",\"hovertemplate\":\"Name=%{y}\\u003cbr\\u003eavg of SuccessRate=%{x}\\u003cextra\\u003e\\u003c\\u002fextra\\u003e\",\"legendgroup\":\"HomeOwners\",\"marker\":{\"color\":\"#E63690\",\"pattern\":{\"shape\":\"\"}},\"name\":\"HomeOwners\",\"offsetgroup\":\"HomeOwners\",\"orientation\":\"h\",\"showlegend\":true,\"x\":[0.13224755227565765],\"xaxis\":\"x\",\"y\":[\"HomeOwners\"],\"yaxis\":\"y\",\"type\":\"histogram\",\"error_x\":{\"array\":[0.0],\"valueminus\":0}},{\"alignmentgroup\":\"True\",\"bingroup\":\"y\",\"histfunc\":\"avg\",\"hovertemplate\":\"Name=%{y}\\u003cbr\\u003eavg of SuccessRate=%{x}\\u003cextra\\u003e\\u003c\\u002fextra\\u003e\",\"legendgroup\":\"AutoNew84Months\",\"marker\":{\"color\":\"#AC1361\",\"pattern\":{\"shape\":\"\"}},\"name\":\"AutoNew84Months\",\"offsetgroup\":\"AutoNew84Months\",\"orientation\":\"h\",\"showlegend\":true,\"x\":[0.12591686844825745],\"xaxis\":\"x\",\"y\":[\"AutoNew84Months\"],\"yaxis\":\"y\",\"type\":\"histogram\",\"error_x\":{\"array\":[0.0],\"valueminus\":0}},{\"alignmentgroup\":\"True\",\"bingroup\":\"y\",\"histfunc\":\"avg\",\"hovertemplate\":\"Name=%{y}\\u003cbr\\u003eavg of SuccessRate=%{x}\\u003cextra\\u003e\\u003c\\u002fextra\\u003e\",\"legendgroup\":\"PaymentProtection\",\"marker\":{\"color\":\"#63666F\",\"pattern\":{\"shape\":\"\"}},\"name\":\"PaymentProtection\",\"offsetgroup\":\"PaymentProtection\",\"orientation\":\"h\",\"showlegend\":true,\"x\":[0.25072887539863586],\"xaxis\":\"x\",\"y\":[\"PaymentProtection\"],\"yaxis\":\"y\",\"type\":\"histogram\",\"error_x\":{\"array\":[0.0],\"valueminus\":0}},{\"alignmentgroup\":\"True\",\"bingroup\":\"y\",\"histfunc\":\"avg\",\"hovertemplate\":\"Name=%{y}\\u003cbr\\u003eavg of SuccessRate=%{x}\\u003cextra\\u003e\\u003c\\u002fextra\\u003e\",\"legendgroup\":\"SeniorChecking\",\"marker\":{\"color\":\"#A7A9B4\",\"pattern\":{\"shape\":\"\"}},\"name\":\"SeniorChecking\",\"offsetgroup\":\"SeniorChecking\",\"orientation\":\"h\",\"showlegend\":true,\"x\":[0.19014550745487213],\"xaxis\":\"x\",\"y\":[\"SeniorChecking\"],\"yaxis\":\"y\",\"type\":\"histogram\",\"error_x\":{\"array\":[0.0],\"valueminus\":0}},{\"alignmentgroup\":\"True\",\"bingroup\":\"y\",\"histfunc\":\"avg\",\"hovertemplate\":\"Name=%{y}\\u003cbr\\u003eavg of SuccessRate=%{x}\\u003cextra\\u003e\\u003c\\u002fextra\\u003e\",\"legendgroup\":\"SuperSaver\",\"marker\":{\"color\":\"#D0D1DB\",\"pattern\":{\"shape\":\"\"}},\"name\":\"SuperSaver\",\"offsetgroup\":\"SuperSaver\",\"orientation\":\"h\",\"showlegend\":true,\"x\":[0.0883977934718132],\"xaxis\":\"x\",\"y\":[\"SuperSaver\"],\"yaxis\":\"y\",\"type\":\"histogram\",\"error_x\":{\"array\":[0.0],\"valueminus\":0}},{\"alignmentgroup\":\"True\",\"bingroup\":\"y\",\"histfunc\":\"avg\",\"hovertemplate\":\"Name=%{y}\\u003cbr\\u003eavg of SuccessRate=%{x}\\u003cextra\\u003e\\u003c\\u002fextra\\u003e\",\"legendgroup\":\"FirstMortgageFiveOneARM\",\"marker\":{\"color\":\"#001F5F\",\"pattern\":{\"shape\":\"\"}},\"name\":\"FirstMortgageFiveOneARM\",\"offsetgroup\":\"FirstMortgageFiveOneARM\",\"orientation\":\"h\",\"showlegend\":true,\"x\":[0.1737193763256073],\"xaxis\":\"x\",\"y\":[\"FirstMortgageFiveOneARM\"],\"yaxis\":\"y\",\"type\":\"histogram\",\"error_x\":{\"array\":[0.0],\"valueminus\":0}},{\"alignmentgroup\":\"True\",\"bingroup\":\"y\",\"histfunc\":\"avg\",\"hovertemplate\":\"Name=%{y}\\u003cbr\\u003eavg of SuccessRate=%{x}\\u003cextra\\u003e\\u003c\\u002fextra\\u003e\",\"legendgroup\":\"AutoUsed36Months\",\"marker\":{\"color\":\"#10A5AC\",\"pattern\":{\"shape\":\"\"}},\"name\":\"AutoUsed36Months\",\"offsetgroup\":\"AutoUsed36Months\",\"orientation\":\"h\",\"showlegend\":true,\"x\":[0.10248815268278122],\"xaxis\":\"x\",\"y\":[\"AutoUsed36Months\"],\"yaxis\":\"y\",\"type\":\"histogram\",\"error_x\":{\"array\":[0.0],\"valueminus\":0}},{\"alignmentgroup\":\"True\",\"bingroup\":\"y\",\"histfunc\":\"avg\",\"hovertemplate\":\"Name=%{y}\\u003cbr\\u003eavg of SuccessRate=%{x}\\u003cextra\\u003e\\u003c\\u002fextra\\u003e\",\"legendgroup\":\"VisaGold\",\"marker\":{\"color\":\"#F76923\",\"pattern\":{\"shape\":\"\"}},\"name\":\"VisaGold\",\"offsetgroup\":\"VisaGold\",\"orientation\":\"h\",\"showlegend\":true,\"x\":[0.05912596359848976],\"xaxis\":\"x\",\"y\":[\"VisaGold\"],\"yaxis\":\"y\",\"type\":\"histogram\",\"error_x\":{\"array\":[0.0],\"valueminus\":0}},{\"alignmentgroup\":\"True\",\"bingroup\":\"y\",\"histfunc\":\"avg\",\"hovertemplate\":\"Name=%{y}\\u003cbr\\u003eavg of SuccessRate=%{x}\\u003cextra\\u003e\\u003c\\u002fextra\\u003e\",\"legendgroup\":\"Services_ChannelAction_Template\",\"marker\":{\"color\":\"#661D34\",\"pattern\":{\"shape\":\"\"}},\"name\":\"Services_ChannelAction_Template\",\"offsetgroup\":\"Services_ChannelAction_Template\",\"orientation\":\"h\",\"showlegend\":true,\"x\":[0.05089778080582619],\"xaxis\":\"x\",\"y\":[\"Services_ChannelAction_Template\"],\"yaxis\":\"y\",\"type\":\"histogram\",\"error_x\":{\"array\":[0.0],\"valueminus\":0}},{\"alignmentgroup\":\"True\",\"bingroup\":\"y\",\"histfunc\":\"avg\",\"hovertemplate\":\"Name=%{y}\\u003cbr\\u003eavg of SuccessRate=%{x}\\u003cextra\\u003e\\u003c\\u002fextra\\u003e\",\"legendgroup\":\"AutoNew36Months\",\"marker\":{\"color\":\"#86CAC6\",\"pattern\":{\"shape\":\"\"}},\"name\":\"AutoNew36Months\",\"offsetgroup\":\"AutoNew36Months\",\"orientation\":\"h\",\"showlegend\":true,\"x\":[0.024913620203733444],\"xaxis\":\"x\",\"y\":[\"AutoNew36Months\"],\"yaxis\":\"y\",\"type\":\"histogram\",\"error_x\":{\"array\":[0.0],\"valueminus\":0}}],                        {\"template\":{\"layout\":{\"colorway\":[\"#001F5F\",\"#10A5AC\",\"#F76923\",\"#661D34\",\"#86CAC6\",\"#005154\",\"#86CAC6\",\"#5F67B9\",\"#FFC836\",\"#E63690\",\"#AC1361\",\"#63666F\",\"#A7A9B4\",\"#D0D1DB\"],\"hovermode\":\"closest\"}},\"xaxis\":{\"anchor\":\"y\",\"domain\":[0.0,1.0],\"title\":{\"text\":\"avg of SuccessRate\"}},\"yaxis\":{\"anchor\":\"x\",\"domain\":[0.0,1.0],\"title\":{\"text\":\"Name\"},\"categoryorder\":\"total ascending\",\"categoryarray\":[\"AutoNew36Months\",\"Services_ChannelAction_Template\",\"VisaGold\",\"AutoUsed36Months\",\"FirstMortgageFiveOneARM\",\"SuperSaver\",\"SeniorChecking\",\"PaymentProtection\",\"AutoNew84Months\",\"HomeOwners\",\"PremiumBanking\",\"UPlusFinGold\",\"MoneyMarketSavingsAccount\",\"FirstMortgageFloat\",\"PlatinumRewardsCard\",\"IncreaseYourCreditLine\",\"PremierChecking\",\"MasterCardGold\",\"FirstMortgage\"],\"dtick\":1,\"automargin\":true},\"legend\":{\"title\":{\"text\":\"Name\"},\"tracegroupgap\":0},\"title\":{\"text\":\"SuccessRate of each proposition over all models \\u003cbr\\u003e\\u003csup\\u003eQuery: [(col(\\\"Channel\\\")) == (Utf8(Web))]\\u003c\\u002fsup\\u003e\"},\"barmode\":\"relative\",\"showlegend\":false},                        {\"responsive\": true}                    ).then(function(){\n",
       "                            \n",
       "var gd = document.getElementById('00f2870e-5775-4ad8-bb8b-73b0509116df');\n",
       "var x = new MutationObserver(function (mutations, observer) {{\n",
       "        var display = window.getComputedStyle(gd).display;\n",
       "        if (!display || display === 'none') {{\n",
       "            console.log([gd, 'removed!']);\n",
       "            Plotly.purge(gd);\n",
       "            observer.disconnect();\n",
       "        }}\n",
       "}});\n",
       "\n",
       "// Listen for the removal of the full notebook cells\n",
       "var notebookContainer = gd.closest('#notebook-container');\n",
       "if (notebookContainer) {{\n",
       "    x.observe(notebookContainer, {childList: true});\n",
       "}}\n",
       "\n",
       "// Listen for the clearing of the current output cell\n",
       "var outputEl = gd.closest('.output');\n",
       "if (outputEl) {{\n",
       "    x.observe(outputEl, {childList: true});\n",
       "}}\n",
       "\n",
       "                        })                };                });            </script>        </div>"
      ]
     },
     "metadata": {},
     "output_type": "display_data"
    }
   ],
   "source": [
    "data.plotPropositionSuccessRates(query=pl.col(\"Channel\") == \"Web\")\n"
   ]
  },
  {
   "cell_type": "markdown",
   "metadata": {},
   "source": [
    "## Response Gain"
   ]
  },
  {
   "cell_type": "code",
   "execution_count": 11,
   "metadata": {
    "execution": {
     "iopub.execute_input": "2023-07-28T14:40:29.222236Z",
     "iopub.status.busy": "2023-07-28T14:40:29.222042Z",
     "iopub.status.idle": "2023-07-28T14:40:29.256697Z",
     "shell.execute_reply": "2023-07-28T14:40:29.256203Z"
    }
   },
   "outputs": [
    {
     "data": {
      "text/html": [
       "<div>                            <div id=\"df253585-34a9-434e-9520-a164d4a06923\" class=\"plotly-graph-div\" style=\"height:525px; width:100%;\"></div>            <script type=\"text/javascript\">                require([\"plotly\"], function(Plotly) {                    window.PLOTLYENV=window.PLOTLYENV || {};                                    if (document.getElementById(\"df253585-34a9-434e-9520-a164d4a06923\")) {                    Plotly.newPlot(                        \"df253585-34a9-434e-9520-a164d4a06923\",                        [{\"hovertemplate\":\"Channel=Email\\u003cbr\\u003ePercentage of Models=%{x}\\u003cbr\\u003ePercentage of Responses=%{y}\\u003cextra\\u003e\\u003c\\u002fextra\\u003e\",\"legendgroup\":\"Email\",\"line\":{\"color\":\"#001F5F\",\"dash\":\"solid\"},\"marker\":{\"symbol\":\"circle\"},\"mode\":\"lines\",\"name\":\"Email\",\"orientation\":\"v\",\"showlegend\":true,\"x\":[0.045454545454545456,0.09090909090909091,0.13636363636363635,0.18181818181818182,0.22727272727272727,0.2727272727272727,0.3181818181818182,0.36363636363636365,0.4090909090909091,0.45454545454545453,0.5,0.5454545454545454,0.5909090909090909,0.6363636363636364,0.6818181818181818,0.7272727272727273,0.7727272727272727,0.8181818181818182,0.8636363636363636,0.9090909090909091,0.9545454545454546,1.0],\"xaxis\":\"x\",\"y\":[0.13098160922527313,0.23373548686504364,0.32965323328971863,0.42156118154525757,0.513380765914917,0.5817067623138428,0.6443270444869995,0.7062938213348389,0.7655579447746277,0.8164844512939453,0.8408259749412537,0.8627828359603882,0.883697509765625,0.9030576944351196,0.9219409823417664,0.9394110441207886,0.954867422580719,0.9691402912139893,0.9786260724067688,0.9864690899848938,0.9936054944992065,1.0],\"yaxis\":\"y\",\"type\":\"scatter\"},{\"hovertemplate\":\"Channel=SMS\\u003cbr\\u003ePercentage of Models=%{x}\\u003cbr\\u003ePercentage of Responses=%{y}\\u003cextra\\u003e\\u003c\\u002fextra\\u003e\",\"legendgroup\":\"SMS\",\"line\":{\"color\":\"#10A5AC\",\"dash\":\"solid\"},\"marker\":{\"symbol\":\"circle\"},\"mode\":\"lines\",\"name\":\"SMS\",\"orientation\":\"v\",\"showlegend\":true,\"x\":[0.037037037037037035,0.07407407407407407,0.1111111111111111,0.14814814814814814,0.18518518518518517,0.2222222222222222,0.25925925925925924,0.2962962962962963,0.3333333333333333,0.37037037037037035,0.4074074074074074,0.4444444444444444,0.48148148148148145,0.5185185185185185,0.5555555555555556,0.5925925925925926,0.6296296296296297,0.6666666666666666,0.7037037037037037,0.7407407407407407,0.7777777777777778,0.8148148148148148,0.8518518518518519,0.8888888888888888,0.9259259259259259,0.9629629629629629,1.0],\"xaxis\":\"x\",\"y\":[0.09628251194953918,0.18660478293895721,0.27243921160697937,0.3560238480567932,0.42367130517959595,0.4896579384803772,0.5491660237312317,0.6077789068222046,0.6626460552215576,0.7091264724731445,0.7545231580734253,0.7967866659164429,0.8371183276176453,0.8562240600585938,0.8732684850692749,0.88913494348526,0.9035172462463379,0.9174755215644836,0.9305031895637512,0.9432246685028076,0.9532958269119263,0.9630489349365234,0.972731351852417,0.9812358617782593,0.9887038469314575,0.9943813681602478,1.0],\"yaxis\":\"y\",\"type\":\"scatter\"},{\"hovertemplate\":\"Channel=Web\\u003cbr\\u003ePercentage of Models=%{x}\\u003cbr\\u003ePercentage of Responses=%{y}\\u003cextra\\u003e\\u003c\\u002fextra\\u003e\",\"legendgroup\":\"Web\",\"line\":{\"color\":\"#F76923\",\"dash\":\"solid\"},\"marker\":{\"symbol\":\"circle\"},\"mode\":\"lines\",\"name\":\"Web\",\"orientation\":\"v\",\"showlegend\":true,\"x\":[0.05263157894736842,0.10526315789473684,0.15789473684210525,0.21052631578947367,0.2631578947368421,0.3157894736842105,0.3684210526315789,0.42105263157894735,0.47368421052631576,0.5263157894736842,0.5789473684210527,0.631578947368421,0.6842105263157895,0.7368421052631579,0.7894736842105263,0.8421052631578947,0.8947368421052632,0.9473684210526315,1.0],\"xaxis\":\"x\",\"y\":[0.1308409422636032,0.2505457103252411,0.3522697985172272,0.44801878929138184,0.5332050919532776,0.6146731376647949,0.6900736093521118,0.7596285343170166,0.8155684471130371,0.8467941880226135,0.8770579695701599,0.9004957675933838,0.92280513048172,0.939583420753479,0.9550297856330872,0.9694217443466187,0.9821118116378784,0.9916940927505493,1.0],\"yaxis\":\"y\",\"type\":\"scatter\"}],                        {\"template\":{\"layout\":{\"colorway\":[\"#001F5F\",\"#10A5AC\",\"#F76923\",\"#661D34\",\"#86CAC6\",\"#005154\",\"#86CAC6\",\"#5F67B9\",\"#FFC836\",\"#E63690\",\"#AC1361\",\"#63666F\",\"#A7A9B4\",\"#D0D1DB\"],\"hovermode\":\"closest\"}},\"xaxis\":{\"anchor\":\"y\",\"domain\":[0.0,1.0],\"title\":{\"text\":\"Percentage of Models\"},\"tickformat\":\",.1%\"},\"yaxis\":{\"anchor\":\"x\",\"domain\":[0.0,1.0],\"title\":{\"text\":\"Percentage of Responses\"},\"tickformat\":\",.1%\"},\"legend\":{\"title\":{\"text\":\"Channel\"},\"tracegroupgap\":0},\"title\":{\"text\":\"Cumulative Responses over all models \\u003cbr\\u003e\\u003csup\\u003eby Channel\\u003c\\u002fsup\\u003e\"}},                        {\"responsive\": true}                    ).then(function(){\n",
       "                            \n",
       "var gd = document.getElementById('df253585-34a9-434e-9520-a164d4a06923');\n",
       "var x = new MutationObserver(function (mutations, observer) {{\n",
       "        var display = window.getComputedStyle(gd).display;\n",
       "        if (!display || display === 'none') {{\n",
       "            console.log([gd, 'removed!']);\n",
       "            Plotly.purge(gd);\n",
       "            observer.disconnect();\n",
       "        }}\n",
       "}});\n",
       "\n",
       "// Listen for the removal of the full notebook cells\n",
       "var notebookContainer = gd.closest('#notebook-container');\n",
       "if (notebookContainer) {{\n",
       "    x.observe(notebookContainer, {childList: true});\n",
       "}}\n",
       "\n",
       "// Listen for the clearing of the current output cell\n",
       "var outputEl = gd.closest('.output');\n",
       "if (outputEl) {{\n",
       "    x.observe(outputEl, {childList: true});\n",
       "}}\n",
       "\n",
       "                        })                };                });            </script>        </div>"
      ]
     },
     "metadata": {},
     "output_type": "display_data"
    }
   ],
   "source": [
    "data.plotResponseGain()\n"
   ]
  },
  {
   "cell_type": "markdown",
   "metadata": {},
   "source": [
    "## Score Distribution"
   ]
  },
  {
   "cell_type": "code",
   "execution_count": 12,
   "metadata": {
    "execution": {
     "iopub.execute_input": "2023-07-28T14:40:29.258829Z",
     "iopub.status.busy": "2023-07-28T14:40:29.258649Z",
     "iopub.status.idle": "2023-07-28T14:40:29.646439Z",
     "shell.execute_reply": "2023-07-28T14:40:29.645854Z"
    }
   },
   "outputs": [
    {
     "data": {
      "text/html": [
       "<div>                            <div id=\"6471d6bf-54b8-4632-8da6-bbd3a6362898\" class=\"plotly-graph-div\" style=\"height:525px; width:100%;\"></div>            <script type=\"text/javascript\">                require([\"plotly\"], function(Plotly) {                    window.PLOTLYENV=window.PLOTLYENV || {};                                    if (document.getElementById(\"6471d6bf-54b8-4632-8da6-bbd3a6362898\")) {                    Plotly.newPlot(                        \"6471d6bf-54b8-4632-8da6-bbd3a6362898\",                        [{\"name\":\"Responses\",\"x\":[\"\\u003c-0.16\",\"[-0.16, -0.145\\u003e\",\"[-0.145, -0.14\\u003e\",\"[-0.14, -0.125\\u003e\",\"[-0.125, -0.1\\u003e\",\"[-0.1, -0.085\\u003e\",\"[-0.085, -0.07\\u003e\",\"[-0.07, -0.035\\u003e\",\"[-0.035, 0.01\\u003e\",\"[0.01, 0.015\\u003e\",\"[0.015, 0.025\\u003e\",\"[0.025, 0.03\\u003e\",\"[0.03, 0.995\\u003e\",\"\\u003e=0.995\"],\"y\":[2426.0,430.0,149.0,472.0,709.0,380.0,312.0,439.0,294.0,20.0,31.0,10.0,9.0,62.0],\"type\":\"bar\"},{\"mode\":\"lines+markers\",\"name\":\"Propensity\",\"x\":[\"\\u003c-0.16\",\"[-0.16, -0.145\\u003e\",\"[-0.145, -0.14\\u003e\",\"[-0.14, -0.125\\u003e\",\"[-0.125, -0.1\\u003e\",\"[-0.1, -0.085\\u003e\",\"[-0.085, -0.07\\u003e\",\"[-0.07, -0.035\\u003e\",\"[-0.035, 0.01\\u003e\",\"[0.01, 0.015\\u003e\",\"[0.015, 0.025\\u003e\",\"[0.025, 0.03\\u003e\",\"[0.03, 0.995\\u003e\",\"\\u003e=0.995\"],\"y\":[0.04657873138785362,0.05116279050707817,0.05369127541780472,0.06779661029577255,0.07052186131477356,0.08684210479259491,0.08974359184503555,0.12072893232107162,0.14965985715389252,0.15000000596046448,0.16129031777381897,0.20000000298023224,0.2222222238779068,0.29032257199287415],\"yaxis\":\"y2\",\"type\":\"scatter\"}],                        {\"template\":{\"data\":{\"scatter\":[{\"type\":\"scatter\"}]}},\"xaxis\":{\"anchor\":\"y\",\"domain\":[0.0,0.94],\"title\":{\"text\":\"Range\"}},\"yaxis\":{\"anchor\":\"x\",\"domain\":[0.0,1.0],\"title\":{\"text\":\"Responses\"},\"showgrid\":false},\"yaxis2\":{\"anchor\":\"x\",\"overlaying\":\"y\",\"side\":\"right\",\"title\":{\"text\":\"Propensity\"},\"tickformat\":\",.2%\",\"zeroline\":false,\"showgrid\":false},\"title\":{\"text\":\"Classifier score distribution\\u003cbr\\u003e\\n            \\u003csup\\u003eModel name: AutoNew48Months\\n            \\u003cbr\\u003eModel ID 6\\u003c\\u002fsup\\u003e\"}},                        {\"responsive\": true}                    ).then(function(){\n",
       "                            \n",
       "var gd = document.getElementById('6471d6bf-54b8-4632-8da6-bbd3a6362898');\n",
       "var x = new MutationObserver(function (mutations, observer) {{\n",
       "        var display = window.getComputedStyle(gd).display;\n",
       "        if (!display || display === 'none') {{\n",
       "            console.log([gd, 'removed!']);\n",
       "            Plotly.purge(gd);\n",
       "            observer.disconnect();\n",
       "        }}\n",
       "}});\n",
       "\n",
       "// Listen for the removal of the full notebook cells\n",
       "var notebookContainer = gd.closest('#notebook-container');\n",
       "if (notebookContainer) {{\n",
       "    x.observe(notebookContainer, {childList: true});\n",
       "}}\n",
       "\n",
       "// Listen for the clearing of the current output cell\n",
       "var outputEl = gd.closest('.output');\n",
       "if (outputEl) {{\n",
       "    x.observe(outputEl, {childList: true});\n",
       "}}\n",
       "\n",
       "                        })                };                });            </script>        </div>"
      ]
     },
     "metadata": {},
     "output_type": "display_data"
    },
    {
     "data": {
      "text/html": [
       "<div>                            <div id=\"a5c4be0c-4a8e-4335-bc83-48b41c08ca1f\" class=\"plotly-graph-div\" style=\"height:525px; width:100%;\"></div>            <script type=\"text/javascript\">                require([\"plotly\"], function(Plotly) {                    window.PLOTLYENV=window.PLOTLYENV || {};                                    if (document.getElementById(\"a5c4be0c-4a8e-4335-bc83-48b41c08ca1f\")) {                    Plotly.newPlot(                        \"a5c4be0c-4a8e-4335-bc83-48b41c08ca1f\",                        [{\"name\":\"Responses\",\"x\":[\"\\u003c-0.155\",\"[-0.155, -0.14\\u003e\",\"[-0.14, -0.13\\u003e\",\"[-0.13, -0.125\\u003e\",\"[-0.125, -0.12\\u003e\",\"[-0.12, -0.1\\u003e\",\"[-0.1, -0.09\\u003e\",\"[-0.09, -0.055\\u003e\",\"[-0.055, -0.05\\u003e\",\"[-0.05, -0.045\\u003e\",\"[-0.045, -0.005\\u003e\",\"[-0.005, 0.005\\u003e\",\"[0.005, 0.02\\u003e\",\"[0.02, 0.035\\u003e\",\"[0.035, 0.04\\u003e\",\"[0.04, 0.06\\u003e\",\"[0.06, 0.065\\u003e\",\"[0.065, 0.085\\u003e\",\"[0.085, 0.09\\u003e\",\"[0.09, 0.125\\u003e\",\"[0.125, 0.995\\u003e\",\"\\u003e=0.995\"],\"y\":[2305.0,331.0,241.0,107.0,102.0,417.0,190.0,550.0,56.0,53.0,323.0,54.0,72.0,57.0,18.0,38.0,9.0,23.0,3.0,21.0,5.0,1.0],\"type\":\"bar\"},{\"mode\":\"lines+markers\",\"name\":\"Propensity\",\"x\":[\"\\u003c-0.155\",\"[-0.155, -0.14\\u003e\",\"[-0.14, -0.13\\u003e\",\"[-0.13, -0.125\\u003e\",\"[-0.125, -0.12\\u003e\",\"[-0.12, -0.1\\u003e\",\"[-0.1, -0.09\\u003e\",\"[-0.09, -0.055\\u003e\",\"[-0.055, -0.05\\u003e\",\"[-0.05, -0.045\\u003e\",\"[-0.045, -0.005\\u003e\",\"[-0.005, 0.005\\u003e\",\"[0.005, 0.02\\u003e\",\"[0.02, 0.035\\u003e\",\"[0.035, 0.04\\u003e\",\"[0.04, 0.06\\u003e\",\"[0.06, 0.065\\u003e\",\"[0.065, 0.085\\u003e\",\"[0.085, 0.09\\u003e\",\"[0.09, 0.125\\u003e\",\"[0.125, 0.995\\u003e\",\"\\u003e=0.995\"],\"y\":[0.03600867837667465,0.04531722143292427,0.062240663915872574,0.06542056053876877,0.0882352963089943,0.0983213409781456,0.11052631586790085,0.15272727608680725,0.2321428507566452,0.24528302252292633,0.2848297357559204,0.40740740299224854,0.4305555522441864,0.4385964870452881,0.4444444477558136,0.44736841320991516,0.5555555820465088,0.5652173757553101,0.6666666865348816,0.7142857313156128,0.800000011920929,1.0],\"yaxis\":\"y2\",\"type\":\"scatter\"}],                        {\"template\":{\"data\":{\"scatter\":[{\"type\":\"scatter\"}]}},\"xaxis\":{\"anchor\":\"y\",\"domain\":[0.0,0.94],\"title\":{\"text\":\"Range\"}},\"yaxis\":{\"anchor\":\"x\",\"domain\":[0.0,1.0],\"title\":{\"text\":\"Responses\"},\"showgrid\":false},\"yaxis2\":{\"anchor\":\"x\",\"overlaying\":\"y\",\"side\":\"right\",\"title\":{\"text\":\"Propensity\"},\"tickformat\":\",.2%\",\"zeroline\":false,\"showgrid\":false},\"title\":{\"text\":\"Classifier score distribution\\u003cbr\\u003e\\n            \\u003csup\\u003eModel name: HomeOwners\\n            \\u003cbr\\u003eModel ID 2\\u003c\\u002fsup\\u003e\"}},                        {\"responsive\": true}                    ).then(function(){\n",
       "                            \n",
       "var gd = document.getElementById('a5c4be0c-4a8e-4335-bc83-48b41c08ca1f');\n",
       "var x = new MutationObserver(function (mutations, observer) {{\n",
       "        var display = window.getComputedStyle(gd).display;\n",
       "        if (!display || display === 'none') {{\n",
       "            console.log([gd, 'removed!']);\n",
       "            Plotly.purge(gd);\n",
       "            observer.disconnect();\n",
       "        }}\n",
       "}});\n",
       "\n",
       "// Listen for the removal of the full notebook cells\n",
       "var notebookContainer = gd.closest('#notebook-container');\n",
       "if (notebookContainer) {{\n",
       "    x.observe(notebookContainer, {childList: true});\n",
       "}}\n",
       "\n",
       "// Listen for the clearing of the current output cell\n",
       "var outputEl = gd.closest('.output');\n",
       "if (outputEl) {{\n",
       "    x.observe(outputEl, {childList: true});\n",
       "}}\n",
       "\n",
       "                        })                };                });            </script>        </div>"
      ]
     },
     "metadata": {},
     "output_type": "display_data"
    },
    {
     "data": {
      "text/html": [
       "<div>                            <div id=\"ce5fac9a-82dd-40e5-8886-e55f919042cc\" class=\"plotly-graph-div\" style=\"height:525px; width:100%;\"></div>            <script type=\"text/javascript\">                require([\"plotly\"], function(Plotly) {                    window.PLOTLYENV=window.PLOTLYENV || {};                                    if (document.getElementById(\"ce5fac9a-82dd-40e5-8886-e55f919042cc\")) {                    Plotly.newPlot(                        \"ce5fac9a-82dd-40e5-8886-e55f919042cc\",                        [{\"name\":\"Responses\",\"x\":[\"\\u003c-0.215\",\"[-0.215, -0.2\\u003e\",\"[-0.2, -0.165\\u003e\",\"[-0.165, -0.16\\u003e\",\"[-0.16, -0.14\\u003e\",\"[-0.14, -0.115\\u003e\",\"[-0.115, -0.105\\u003e\",\"[-0.105, -0.09\\u003e\",\"[-0.09, -0.08\\u003e\",\"[-0.08, -0.065\\u003e\",\"[-0.065, -0.045\\u003e\",\"[-0.045, -0.04\\u003e\",\"[-0.04, -0.02\\u003e\",\"[-0.02, -0.01\\u003e\",\"[-0.01, 0.0\\u003e\",\"[0.0, 0.03\\u003e\",\"[0.03, 0.04\\u003e\",\"[0.04, 0.085\\u003e\",\"[0.085, 0.09\\u003e\",\"[0.09, 0.125\\u003e\",\"[0.125, 0.995\\u003e\",\"\\u003e=0.995\"],\"y\":[922.0,216.0,598.0,122.0,398.0,491.0,170.0,250.0,151.0,213.0,285.0,63.0,217.0,81.0,80.0,161.0,38.0,96.0,7.0,30.0,12.0,4.0],\"type\":\"bar\"},{\"mode\":\"lines+markers\",\"name\":\"Propensity\",\"x\":[\"\\u003c-0.215\",\"[-0.215, -0.2\\u003e\",\"[-0.2, -0.165\\u003e\",\"[-0.165, -0.16\\u003e\",\"[-0.16, -0.14\\u003e\",\"[-0.14, -0.115\\u003e\",\"[-0.115, -0.105\\u003e\",\"[-0.105, -0.09\\u003e\",\"[-0.09, -0.08\\u003e\",\"[-0.08, -0.065\\u003e\",\"[-0.065, -0.045\\u003e\",\"[-0.045, -0.04\\u003e\",\"[-0.04, -0.02\\u003e\",\"[-0.02, -0.01\\u003e\",\"[-0.01, 0.0\\u003e\",\"[0.0, 0.03\\u003e\",\"[0.03, 0.04\\u003e\",\"[0.04, 0.085\\u003e\",\"[0.085, 0.09\\u003e\",\"[0.09, 0.125\\u003e\",\"[0.125, 0.995\\u003e\",\"\\u003e=0.995\"],\"y\":[0.04446854814887047,0.046296294778585434,0.05183946341276169,0.05737704783678055,0.07537688314914703,0.08146639168262482,0.0941176488995552,0.1080000028014183,0.14569535851478577,0.17840375006198883,0.1859649121761322,0.2698412835597992,0.28110599517822266,0.3086419701576233,0.3125,0.3726707994937897,0.3947368562221527,0.5,0.7142857313156128,0.7666666507720947,0.9166666865348816,1.0],\"yaxis\":\"y2\",\"type\":\"scatter\"}],                        {\"template\":{\"data\":{\"scatter\":[{\"type\":\"scatter\"}]}},\"xaxis\":{\"anchor\":\"y\",\"domain\":[0.0,0.94],\"title\":{\"text\":\"Range\"}},\"yaxis\":{\"anchor\":\"x\",\"domain\":[0.0,1.0],\"title\":{\"text\":\"Responses\"},\"showgrid\":false},\"yaxis2\":{\"anchor\":\"x\",\"overlaying\":\"y\",\"side\":\"right\",\"title\":{\"text\":\"Propensity\"},\"tickformat\":\",.2%\",\"zeroline\":false,\"showgrid\":false},\"title\":{\"text\":\"Classifier score distribution\\u003cbr\\u003e\\n            \\u003csup\\u003eModel name: HomeOwners\\n            \\u003cbr\\u003eModel ID 0\\u003c\\u002fsup\\u003e\"}},                        {\"responsive\": true}                    ).then(function(){\n",
       "                            \n",
       "var gd = document.getElementById('ce5fac9a-82dd-40e5-8886-e55f919042cc');\n",
       "var x = new MutationObserver(function (mutations, observer) {{\n",
       "        var display = window.getComputedStyle(gd).display;\n",
       "        if (!display || display === 'none') {{\n",
       "            console.log([gd, 'removed!']);\n",
       "            Plotly.purge(gd);\n",
       "            observer.disconnect();\n",
       "        }}\n",
       "}});\n",
       "\n",
       "// Listen for the removal of the full notebook cells\n",
       "var notebookContainer = gd.closest('#notebook-container');\n",
       "if (notebookContainer) {{\n",
       "    x.observe(notebookContainer, {childList: true});\n",
       "}}\n",
       "\n",
       "// Listen for the clearing of the current output cell\n",
       "var outputEl = gd.closest('.output');\n",
       "if (outputEl) {{\n",
       "    x.observe(outputEl, {childList: true});\n",
       "}}\n",
       "\n",
       "                        })                };                });            </script>        </div>"
      ]
     },
     "metadata": {},
     "output_type": "display_data"
    },
    {
     "data": {
      "text/html": [
       "<div>                            <div id=\"14f75410-1a5e-4395-ad51-1e55ae33f554\" class=\"plotly-graph-div\" style=\"height:525px; width:100%;\"></div>            <script type=\"text/javascript\">                require([\"plotly\"], function(Plotly) {                    window.PLOTLYENV=window.PLOTLYENV || {};                                    if (document.getElementById(\"14f75410-1a5e-4395-ad51-1e55ae33f554\")) {                    Plotly.newPlot(                        \"14f75410-1a5e-4395-ad51-1e55ae33f554\",                        [{\"name\":\"Responses\",\"x\":[\"\\u003c-1.95\",\"[-1.95, -0.23\\u003e\",\"[-0.23, -0.18\\u003e\",\"[-0.18, -0.075\\u003e\",\"[-0.075, -0.06\\u003e\",\"[-0.06, -0.01\\u003e\",\"[-0.01, 0.005\\u003e\",\"[0.005, 0.08\\u003e\",\"[0.08, 0.165\\u003e\",\"[0.165, 0.995\\u003e\",\"\\u003e=0.995\"],\"y\":[27.0,671.0,254.0,353.0,30.0,59.0,13.0,29.0,7.0,2.0,2.0],\"type\":\"bar\"},{\"mode\":\"lines+markers\",\"name\":\"Propensity\",\"x\":[\"\\u003c-1.95\",\"[-1.95, -0.23\\u003e\",\"[-0.23, -0.18\\u003e\",\"[-0.18, -0.075\\u003e\",\"[-0.075, -0.06\\u003e\",\"[-0.06, -0.01\\u003e\",\"[-0.01, 0.005\\u003e\",\"[0.005, 0.08\\u003e\",\"[0.08, 0.165\\u003e\",\"[0.165, 0.995\\u003e\",\"\\u003e=0.995\"],\"y\":[0.0,0.019374068826436996,0.023622047156095505,0.025495750829577446,0.03333333507180214,0.1525423675775528,0.1538461595773697,0.2068965584039688,0.2857142984867096,0.5,1.0],\"yaxis\":\"y2\",\"type\":\"scatter\"}],                        {\"template\":{\"data\":{\"scatter\":[{\"type\":\"scatter\"}]}},\"xaxis\":{\"anchor\":\"y\",\"domain\":[0.0,0.94],\"title\":{\"text\":\"Range\"}},\"yaxis\":{\"anchor\":\"x\",\"domain\":[0.0,1.0],\"title\":{\"text\":\"Responses\"},\"showgrid\":false},\"yaxis2\":{\"anchor\":\"x\",\"overlaying\":\"y\",\"side\":\"right\",\"title\":{\"text\":\"Propensity\"},\"tickformat\":\",.2%\",\"zeroline\":false,\"showgrid\":false},\"title\":{\"text\":\"Classifier score distribution\\u003cbr\\u003e\\n            \\u003csup\\u003eModel name: AutoUsed48Months\\n            \\u003cbr\\u003eModel ID a\\u003c\\u002fsup\\u003e\"}},                        {\"responsive\": true}                    ).then(function(){\n",
       "                            \n",
       "var gd = document.getElementById('14f75410-1a5e-4395-ad51-1e55ae33f554');\n",
       "var x = new MutationObserver(function (mutations, observer) {{\n",
       "        var display = window.getComputedStyle(gd).display;\n",
       "        if (!display || display === 'none') {{\n",
       "            console.log([gd, 'removed!']);\n",
       "            Plotly.purge(gd);\n",
       "            observer.disconnect();\n",
       "        }}\n",
       "}});\n",
       "\n",
       "// Listen for the removal of the full notebook cells\n",
       "var notebookContainer = gd.closest('#notebook-container');\n",
       "if (notebookContainer) {{\n",
       "    x.observe(notebookContainer, {childList: true});\n",
       "}}\n",
       "\n",
       "// Listen for the clearing of the current output cell\n",
       "var outputEl = gd.closest('.output');\n",
       "if (outputEl) {{\n",
       "    x.observe(outputEl, {childList: true});\n",
       "}}\n",
       "\n",
       "                        })                };                });            </script>        </div>"
      ]
     },
     "metadata": {},
     "output_type": "display_data"
    },
    {
     "data": {
      "text/html": [
       "<div>                            <div id=\"88d0c68d-ab85-4a2b-9433-b477279d4b10\" class=\"plotly-graph-div\" style=\"height:525px; width:100%;\"></div>            <script type=\"text/javascript\">                require([\"plotly\"], function(Plotly) {                    window.PLOTLYENV=window.PLOTLYENV || {};                                    if (document.getElementById(\"88d0c68d-ab85-4a2b-9433-b477279d4b10\")) {                    Plotly.newPlot(                        \"88d0c68d-ab85-4a2b-9433-b477279d4b10\",                        [{\"name\":\"Responses\",\"x\":[\"\\u003c-2.4\",\"[-2.4, 0.99\\u003e\",\"\\u003e=0.99\"],\"y\":[27.0,1128.0,88.0],\"type\":\"bar\"},{\"mode\":\"lines+markers\",\"name\":\"Propensity\",\"x\":[\"\\u003c-2.4\",\"[-2.4, 0.99\\u003e\",\"\\u003e=0.99\"],\"y\":[0.0,0.010638297535479069,0.011363636702299118],\"yaxis\":\"y2\",\"type\":\"scatter\"}],                        {\"template\":{\"data\":{\"scatter\":[{\"type\":\"scatter\"}]}},\"xaxis\":{\"anchor\":\"y\",\"domain\":[0.0,0.94],\"title\":{\"text\":\"Range\"}},\"yaxis\":{\"anchor\":\"x\",\"domain\":[0.0,1.0],\"title\":{\"text\":\"Responses\"},\"showgrid\":false},\"yaxis2\":{\"anchor\":\"x\",\"overlaying\":\"y\",\"side\":\"right\",\"title\":{\"text\":\"Propensity\"},\"tickformat\":\",.2%\",\"zeroline\":false,\"showgrid\":false},\"title\":{\"text\":\"Classifier score distribution\\u003cbr\\u003e\\n            \\u003csup\\u003eModel name: AutoUsed84Months\\n            \\u003cbr\\u003eModel ID 2\\u003c\\u002fsup\\u003e\"}},                        {\"responsive\": true}                    ).then(function(){\n",
       "                            \n",
       "var gd = document.getElementById('88d0c68d-ab85-4a2b-9433-b477279d4b10');\n",
       "var x = new MutationObserver(function (mutations, observer) {{\n",
       "        var display = window.getComputedStyle(gd).display;\n",
       "        if (!display || display === 'none') {{\n",
       "            console.log([gd, 'removed!']);\n",
       "            Plotly.purge(gd);\n",
       "            observer.disconnect();\n",
       "        }}\n",
       "}});\n",
       "\n",
       "// Listen for the removal of the full notebook cells\n",
       "var notebookContainer = gd.closest('#notebook-container');\n",
       "if (notebookContainer) {{\n",
       "    x.observe(notebookContainer, {childList: true});\n",
       "}}\n",
       "\n",
       "// Listen for the clearing of the current output cell\n",
       "var outputEl = gd.closest('.output');\n",
       "if (outputEl) {{\n",
       "    x.observe(outputEl, {childList: true});\n",
       "}}\n",
       "\n",
       "                        })                };                });            </script>        </div>"
      ]
     },
     "metadata": {},
     "output_type": "display_data"
    },
    {
     "data": {
      "text/html": [
       "<div>                            <div id=\"83d28f8d-7f6e-493d-b7d6-4d477ecb3a50\" class=\"plotly-graph-div\" style=\"height:525px; width:100%;\"></div>            <script type=\"text/javascript\">                require([\"plotly\"], function(Plotly) {                    window.PLOTLYENV=window.PLOTLYENV || {};                                    if (document.getElementById(\"83d28f8d-7f6e-493d-b7d6-4d477ecb3a50\")) {                    Plotly.newPlot(                        \"83d28f8d-7f6e-493d-b7d6-4d477ecb3a50\",                        [{\"name\":\"Responses\",\"x\":[\"\\u003c-0.065\",\"[-0.065, -0.04\\u003e\",\"[-0.04, 0.995\\u003e\",\"\\u003e=0.995\"],\"y\":[300.0,46.0,40.0,63.0],\"type\":\"bar\"},{\"mode\":\"lines+markers\",\"name\":\"Propensity\",\"x\":[\"\\u003c-0.065\",\"[-0.065, -0.04\\u003e\",\"[-0.04, 0.995\\u003e\",\"\\u003e=0.995\"],\"y\":[0.14666666090488434,0.17391304671764374,0.20000000298023224,0.2857142984867096],\"yaxis\":\"y2\",\"type\":\"scatter\"}],                        {\"template\":{\"data\":{\"scatter\":[{\"type\":\"scatter\"}]}},\"xaxis\":{\"anchor\":\"y\",\"domain\":[0.0,0.94],\"title\":{\"text\":\"Range\"}},\"yaxis\":{\"anchor\":\"x\",\"domain\":[0.0,1.0],\"title\":{\"text\":\"Responses\"},\"showgrid\":false},\"yaxis2\":{\"anchor\":\"x\",\"overlaying\":\"y\",\"side\":\"right\",\"title\":{\"text\":\"Propensity\"},\"tickformat\":\",.2%\",\"zeroline\":false,\"showgrid\":false},\"title\":{\"text\":\"Classifier score distribution\\u003cbr\\u003e\\n            \\u003csup\\u003eModel name: FirstMortgageFiveOneARM\\n            \\u003cbr\\u003eModel ID 7\\u003c\\u002fsup\\u003e\"}},                        {\"responsive\": true}                    ).then(function(){\n",
       "                            \n",
       "var gd = document.getElementById('83d28f8d-7f6e-493d-b7d6-4d477ecb3a50');\n",
       "var x = new MutationObserver(function (mutations, observer) {{\n",
       "        var display = window.getComputedStyle(gd).display;\n",
       "        if (!display || display === 'none') {{\n",
       "            console.log([gd, 'removed!']);\n",
       "            Plotly.purge(gd);\n",
       "            observer.disconnect();\n",
       "        }}\n",
       "}});\n",
       "\n",
       "// Listen for the removal of the full notebook cells\n",
       "var notebookContainer = gd.closest('#notebook-container');\n",
       "if (notebookContainer) {{\n",
       "    x.observe(notebookContainer, {childList: true});\n",
       "}}\n",
       "\n",
       "// Listen for the clearing of the current output cell\n",
       "var outputEl = gd.closest('.output');\n",
       "if (outputEl) {{\n",
       "    x.observe(outputEl, {childList: true});\n",
       "}}\n",
       "\n",
       "                        })                };                });            </script>        </div>"
      ]
     },
     "metadata": {},
     "output_type": "display_data"
    },
    {
     "data": {
      "text/html": [
       "<div>                            <div id=\"c78881d1-93ae-4c84-a8d3-bfa5a7f0529c\" class=\"plotly-graph-div\" style=\"height:525px; width:100%;\"></div>            <script type=\"text/javascript\">                require([\"plotly\"], function(Plotly) {                    window.PLOTLYENV=window.PLOTLYENV || {};                                    if (document.getElementById(\"c78881d1-93ae-4c84-a8d3-bfa5a7f0529c\")) {                    Plotly.newPlot(                        \"c78881d1-93ae-4c84-a8d3-bfa5a7f0529c\",                        [{\"name\":\"Responses\",\"x\":[\"\\u003c-0.125\",\"[-0.125, -0.06\\u003e\",\"[-0.06, 0.015\\u003e\",\"[0.015, 0.025\\u003e\",\"[0.025, 0.995\\u003e\",\"\\u003e=0.995\"],\"y\":[886.0,465.0,223.0,16.0,7.0,25.0],\"type\":\"bar\"},{\"mode\":\"lines+markers\",\"name\":\"Propensity\",\"x\":[\"\\u003c-0.125\",\"[-0.125, -0.06\\u003e\",\"[-0.06, 0.015\\u003e\",\"[0.015, 0.025\\u003e\",\"[0.025, 0.995\\u003e\",\"\\u003e=0.995\"],\"y\":[0.07449209690093994,0.09677419066429138,0.1031390130519867,0.125,0.1428571492433548,0.20000000298023224],\"yaxis\":\"y2\",\"type\":\"scatter\"}],                        {\"template\":{\"data\":{\"scatter\":[{\"type\":\"scatter\"}]}},\"xaxis\":{\"anchor\":\"y\",\"domain\":[0.0,0.94],\"title\":{\"text\":\"Range\"}},\"yaxis\":{\"anchor\":\"x\",\"domain\":[0.0,1.0],\"title\":{\"text\":\"Responses\"},\"showgrid\":false},\"yaxis2\":{\"anchor\":\"x\",\"overlaying\":\"y\",\"side\":\"right\",\"title\":{\"text\":\"Propensity\"},\"tickformat\":\",.2%\",\"zeroline\":false,\"showgrid\":false},\"title\":{\"text\":\"Classifier score distribution\\u003cbr\\u003e\\n            \\u003csup\\u003eModel name: AutoUsed36Months\\n            \\u003cbr\\u003eModel ID b\\u003c\\u002fsup\\u003e\"}},                        {\"responsive\": true}                    ).then(function(){\n",
       "                            \n",
       "var gd = document.getElementById('c78881d1-93ae-4c84-a8d3-bfa5a7f0529c');\n",
       "var x = new MutationObserver(function (mutations, observer) {{\n",
       "        var display = window.getComputedStyle(gd).display;\n",
       "        if (!display || display === 'none') {{\n",
       "            console.log([gd, 'removed!']);\n",
       "            Plotly.purge(gd);\n",
       "            observer.disconnect();\n",
       "        }}\n",
       "}});\n",
       "\n",
       "// Listen for the removal of the full notebook cells\n",
       "var notebookContainer = gd.closest('#notebook-container');\n",
       "if (notebookContainer) {{\n",
       "    x.observe(notebookContainer, {childList: true});\n",
       "}}\n",
       "\n",
       "// Listen for the clearing of the current output cell\n",
       "var outputEl = gd.closest('.output');\n",
       "if (outputEl) {{\n",
       "    x.observe(outputEl, {childList: true});\n",
       "}}\n",
       "\n",
       "                        })                };                });            </script>        </div>"
      ]
     },
     "metadata": {},
     "output_type": "display_data"
    },
    {
     "data": {
      "text/html": [
       "<div>                            <div id=\"cc85b4d0-95a1-462e-8c14-e92928d5c3b3\" class=\"plotly-graph-div\" style=\"height:525px; width:100%;\"></div>            <script type=\"text/javascript\">                require([\"plotly\"], function(Plotly) {                    window.PLOTLYENV=window.PLOTLYENV || {};                                    if (document.getElementById(\"cc85b4d0-95a1-462e-8c14-e92928d5c3b3\")) {                    Plotly.newPlot(                        \"cc85b4d0-95a1-462e-8c14-e92928d5c3b3\",                        [{\"name\":\"Responses\",\"x\":[\"\\u003c0.99\",\"\\u003e=0.99\"],\"y\":[344.0,100.0],\"type\":\"bar\"},{\"mode\":\"lines+markers\",\"name\":\"Propensity\",\"x\":[\"\\u003c0.99\",\"\\u003e=0.99\"],\"y\":[0.0029069767333567142,0.009999999776482582],\"yaxis\":\"y2\",\"type\":\"scatter\"}],                        {\"template\":{\"data\":{\"scatter\":[{\"type\":\"scatter\"}]}},\"xaxis\":{\"anchor\":\"y\",\"domain\":[0.0,0.94],\"title\":{\"text\":\"Range\"}},\"yaxis\":{\"anchor\":\"x\",\"domain\":[0.0,1.0],\"title\":{\"text\":\"Responses\"},\"showgrid\":false},\"yaxis2\":{\"anchor\":\"x\",\"overlaying\":\"y\",\"side\":\"right\",\"title\":{\"text\":\"Propensity\"},\"tickformat\":\",.2%\",\"zeroline\":false,\"showgrid\":false},\"title\":{\"text\":\"Classifier score distribution\\u003cbr\\u003e\\n            \\u003csup\\u003eModel name: FirstMortgageFloat\\n            \\u003cbr\\u003eModel ID 4\\u003c\\u002fsup\\u003e\"}},                        {\"responsive\": true}                    ).then(function(){\n",
       "                            \n",
       "var gd = document.getElementById('cc85b4d0-95a1-462e-8c14-e92928d5c3b3');\n",
       "var x = new MutationObserver(function (mutations, observer) {{\n",
       "        var display = window.getComputedStyle(gd).display;\n",
       "        if (!display || display === 'none') {{\n",
       "            console.log([gd, 'removed!']);\n",
       "            Plotly.purge(gd);\n",
       "            observer.disconnect();\n",
       "        }}\n",
       "}});\n",
       "\n",
       "// Listen for the removal of the full notebook cells\n",
       "var notebookContainer = gd.closest('#notebook-container');\n",
       "if (notebookContainer) {{\n",
       "    x.observe(notebookContainer, {childList: true});\n",
       "}}\n",
       "\n",
       "// Listen for the clearing of the current output cell\n",
       "var outputEl = gd.closest('.output');\n",
       "if (outputEl) {{\n",
       "    x.observe(outputEl, {childList: true});\n",
       "}}\n",
       "\n",
       "                        })                };                });            </script>        </div>"
      ]
     },
     "metadata": {},
     "output_type": "display_data"
    },
    {
     "data": {
      "text/html": [
       "<div>                            <div id=\"59e26aa8-a5f3-4293-b76a-e84bf9ce6ac3\" class=\"plotly-graph-div\" style=\"height:525px; width:100%;\"></div>            <script type=\"text/javascript\">                require([\"plotly\"], function(Plotly) {                    window.PLOTLYENV=window.PLOTLYENV || {};                                    if (document.getElementById(\"59e26aa8-a5f3-4293-b76a-e84bf9ce6ac3\")) {                    Plotly.newPlot(                        \"59e26aa8-a5f3-4293-b76a-e84bf9ce6ac3\",                        [{\"name\":\"Responses\",\"x\":[\"\\u003c-0.79\",\"[-0.79, 0.99\\u003e\",\"\\u003e=0.99\"],\"y\":[2871.0,2849.0,97.0],\"type\":\"bar\"},{\"mode\":\"lines+markers\",\"name\":\"Propensity\",\"x\":[\"\\u003c-0.79\",\"[-0.79, 0.99\\u003e\",\"\\u003e=0.99\"],\"y\":[0.0017415534239262342,0.002106002066284418,0.010309278033673763],\"yaxis\":\"y2\",\"type\":\"scatter\"}],                        {\"template\":{\"data\":{\"scatter\":[{\"type\":\"scatter\"}]}},\"xaxis\":{\"anchor\":\"y\",\"domain\":[0.0,0.94],\"title\":{\"text\":\"Range\"}},\"yaxis\":{\"anchor\":\"x\",\"domain\":[0.0,1.0],\"title\":{\"text\":\"Responses\"},\"showgrid\":false},\"yaxis2\":{\"anchor\":\"x\",\"overlaying\":\"y\",\"side\":\"right\",\"title\":{\"text\":\"Propensity\"},\"tickformat\":\",.2%\",\"zeroline\":false,\"showgrid\":false},\"title\":{\"text\":\"Classifier score distribution\\u003cbr\\u003e\\n            \\u003csup\\u003eModel name: AutoNew36Months\\n            \\u003cbr\\u003eModel ID b\\u003c\\u002fsup\\u003e\"}},                        {\"responsive\": true}                    ).then(function(){\n",
       "                            \n",
       "var gd = document.getElementById('59e26aa8-a5f3-4293-b76a-e84bf9ce6ac3');\n",
       "var x = new MutationObserver(function (mutations, observer) {{\n",
       "        var display = window.getComputedStyle(gd).display;\n",
       "        if (!display || display === 'none') {{\n",
       "            console.log([gd, 'removed!']);\n",
       "            Plotly.purge(gd);\n",
       "            observer.disconnect();\n",
       "        }}\n",
       "}});\n",
       "\n",
       "// Listen for the removal of the full notebook cells\n",
       "var notebookContainer = gd.closest('#notebook-container');\n",
       "if (notebookContainer) {{\n",
       "    x.observe(notebookContainer, {childList: true});\n",
       "}}\n",
       "\n",
       "// Listen for the clearing of the current output cell\n",
       "var outputEl = gd.closest('.output');\n",
       "if (outputEl) {{\n",
       "    x.observe(outputEl, {childList: true});\n",
       "}}\n",
       "\n",
       "                        })                };                });            </script>        </div>"
      ]
     },
     "metadata": {},
     "output_type": "display_data"
    },
    {
     "data": {
      "text/html": [
       "<div>                            <div id=\"8f0991de-84d6-46fc-8a6e-5ec7a2d0643a\" class=\"plotly-graph-div\" style=\"height:525px; width:100%;\"></div>            <script type=\"text/javascript\">                require([\"plotly\"], function(Plotly) {                    window.PLOTLYENV=window.PLOTLYENV || {};                                    if (document.getElementById(\"8f0991de-84d6-46fc-8a6e-5ec7a2d0643a\")) {                    Plotly.newPlot(                        \"8f0991de-84d6-46fc-8a6e-5ec7a2d0643a\",                        [{\"name\":\"Responses\",\"x\":[\"\\u003c-0.36\",\"[-0.36, -0.13\\u003e\",\"[-0.13, 0.995\\u003e\",\"\\u003e=0.995\"],\"y\":[403.0,609.0,256.0,79.0],\"type\":\"bar\"},{\"mode\":\"lines+markers\",\"name\":\"Propensity\",\"x\":[\"\\u003c-0.36\",\"[-0.36, -0.13\\u003e\",\"[-0.13, 0.995\\u003e\",\"\\u003e=0.995\"],\"y\":[0.014888337813317776,0.03940886631608009,0.05859375,0.06329113990068436],\"yaxis\":\"y2\",\"type\":\"scatter\"}],                        {\"template\":{\"data\":{\"scatter\":[{\"type\":\"scatter\"}]}},\"xaxis\":{\"anchor\":\"y\",\"domain\":[0.0,0.94],\"title\":{\"text\":\"Range\"}},\"yaxis\":{\"anchor\":\"x\",\"domain\":[0.0,1.0],\"title\":{\"text\":\"Responses\"},\"showgrid\":false},\"yaxis2\":{\"anchor\":\"x\",\"overlaying\":\"y\",\"side\":\"right\",\"title\":{\"text\":\"Propensity\"},\"tickformat\":\",.2%\",\"zeroline\":false,\"showgrid\":false},\"title\":{\"text\":\"Classifier score distribution\\u003cbr\\u003e\\n            \\u003csup\\u003eModel name: AutoUsed84Months\\n            \\u003cbr\\u003eModel ID d\\u003c\\u002fsup\\u003e\"}},                        {\"responsive\": true}                    ).then(function(){\n",
       "                            \n",
       "var gd = document.getElementById('8f0991de-84d6-46fc-8a6e-5ec7a2d0643a');\n",
       "var x = new MutationObserver(function (mutations, observer) {{\n",
       "        var display = window.getComputedStyle(gd).display;\n",
       "        if (!display || display === 'none') {{\n",
       "            console.log([gd, 'removed!']);\n",
       "            Plotly.purge(gd);\n",
       "            observer.disconnect();\n",
       "        }}\n",
       "}});\n",
       "\n",
       "// Listen for the removal of the full notebook cells\n",
       "var notebookContainer = gd.closest('#notebook-container');\n",
       "if (notebookContainer) {{\n",
       "    x.observe(notebookContainer, {childList: true});\n",
       "}}\n",
       "\n",
       "// Listen for the clearing of the current output cell\n",
       "var outputEl = gd.closest('.output');\n",
       "if (outputEl) {{\n",
       "    x.observe(outputEl, {childList: true});\n",
       "}}\n",
       "\n",
       "                        })                };                });            </script>        </div>"
      ]
     },
     "metadata": {},
     "output_type": "display_data"
    },
    {
     "data": {
      "text/html": [
       "<div>                            <div id=\"367d4808-091c-4a50-b52a-9148a87d591a\" class=\"plotly-graph-div\" style=\"height:525px; width:100%;\"></div>            <script type=\"text/javascript\">                require([\"plotly\"], function(Plotly) {                    window.PLOTLYENV=window.PLOTLYENV || {};                                    if (document.getElementById(\"367d4808-091c-4a50-b52a-9148a87d591a\")) {                    Plotly.newPlot(                        \"367d4808-091c-4a50-b52a-9148a87d591a\",                        [{\"name\":\"Responses\",\"x\":[\"\\u003c-0.205\",\"[-0.205, -0.165\\u003e\",\"[-0.165, -0.085\\u003e\",\"[-0.085, -0.02\\u003e\",\"[-0.02, 0.02\\u003e\",\"[0.02, 0.05\\u003e\",\"[0.05, 0.065\\u003e\",\"[0.065, 0.08\\u003e\",\"[0.08, 0.995\\u003e\",\"\\u003e=0.995\"],\"y\":[840.0,142.0,241.0,94.0,31.0,9.0,4.0,8.0,6.0,3.0],\"type\":\"bar\"},{\"mode\":\"lines+markers\",\"name\":\"Propensity\",\"x\":[\"\\u003c-0.205\",\"[-0.205, -0.165\\u003e\",\"[-0.165, -0.085\\u003e\",\"[-0.085, -0.02\\u003e\",\"[-0.02, 0.02\\u003e\",\"[0.02, 0.05\\u003e\",\"[0.05, 0.065\\u003e\",\"[0.065, 0.08\\u003e\",\"[0.08, 0.995\\u003e\",\"\\u003e=0.995\"],\"y\":[0.02500000037252903,0.028169013559818268,0.029045643284916878,0.06382978707551956,0.09677419066429138,0.2222222238779068,0.25,0.375,0.6666666865348816,1.0],\"yaxis\":\"y2\",\"type\":\"scatter\"}],                        {\"template\":{\"data\":{\"scatter\":[{\"type\":\"scatter\"}]}},\"xaxis\":{\"anchor\":\"y\",\"domain\":[0.0,0.94],\"title\":{\"text\":\"Range\"}},\"yaxis\":{\"anchor\":\"x\",\"domain\":[0.0,1.0],\"title\":{\"text\":\"Responses\"},\"showgrid\":false},\"yaxis2\":{\"anchor\":\"x\",\"overlaying\":\"y\",\"side\":\"right\",\"title\":{\"text\":\"Propensity\"},\"tickformat\":\",.2%\",\"zeroline\":false,\"showgrid\":false},\"title\":{\"text\":\"Classifier score distribution\\u003cbr\\u003e\\n            \\u003csup\\u003eModel name: AutoUsed60Months\\n            \\u003cbr\\u003eModel ID 8\\u003c\\u002fsup\\u003e\"}},                        {\"responsive\": true}                    ).then(function(){\n",
       "                            \n",
       "var gd = document.getElementById('367d4808-091c-4a50-b52a-9148a87d591a');\n",
       "var x = new MutationObserver(function (mutations, observer) {{\n",
       "        var display = window.getComputedStyle(gd).display;\n",
       "        if (!display || display === 'none') {{\n",
       "            console.log([gd, 'removed!']);\n",
       "            Plotly.purge(gd);\n",
       "            observer.disconnect();\n",
       "        }}\n",
       "}});\n",
       "\n",
       "// Listen for the removal of the full notebook cells\n",
       "var notebookContainer = gd.closest('#notebook-container');\n",
       "if (notebookContainer) {{\n",
       "    x.observe(notebookContainer, {childList: true});\n",
       "}}\n",
       "\n",
       "// Listen for the clearing of the current output cell\n",
       "var outputEl = gd.closest('.output');\n",
       "if (outputEl) {{\n",
       "    x.observe(outputEl, {childList: true});\n",
       "}}\n",
       "\n",
       "                        })                };                });            </script>        </div>"
      ]
     },
     "metadata": {},
     "output_type": "display_data"
    },
    {
     "data": {
      "text/html": [
       "<div>                            <div id=\"f9af40cf-25f6-4c00-9e58-f4df3a3fbfee\" class=\"plotly-graph-div\" style=\"height:525px; width:100%;\"></div>            <script type=\"text/javascript\">                require([\"plotly\"], function(Plotly) {                    window.PLOTLYENV=window.PLOTLYENV || {};                                    if (document.getElementById(\"f9af40cf-25f6-4c00-9e58-f4df3a3fbfee\")) {                    Plotly.newPlot(                        \"f9af40cf-25f6-4c00-9e58-f4df3a3fbfee\",                        [{\"name\":\"Responses\",\"x\":[\"\\u003c-0.21\",\"[-0.21, -0.185\\u003e\",\"[-0.185, -0.175\\u003e\",\"[-0.175, -0.105\\u003e\",\"[-0.105, -0.095\\u003e\",\"[-0.095, -0.09\\u003e\",\"[-0.09, -0.065\\u003e\",\"[-0.065, -0.02\\u003e\",\"[-0.02, 0.03\\u003e\",\"[0.03, 0.06\\u003e\",\"[0.06, 0.12\\u003e\",\"[0.12, 0.125\\u003e\",\"[0.125, 0.13\\u003e\",\"[0.13, 0.995\\u003e\",\"\\u003e=0.995\"],\"y\":[460.0,141.0,51.0,398.0,55.0,21.0,86.0,184.0,102.0,49.0,63.0,4.0,6.0,11.0,5.0],\"type\":\"bar\"},{\"mode\":\"lines+markers\",\"name\":\"Propensity\",\"x\":[\"\\u003c-0.21\",\"[-0.21, -0.185\\u003e\",\"[-0.185, -0.175\\u003e\",\"[-0.175, -0.105\\u003e\",\"[-0.105, -0.095\\u003e\",\"[-0.095, -0.09\\u003e\",\"[-0.09, -0.065\\u003e\",\"[-0.065, -0.02\\u003e\",\"[-0.02, 0.03\\u003e\",\"[0.03, 0.06\\u003e\",\"[0.06, 0.12\\u003e\",\"[0.12, 0.125\\u003e\",\"[0.125, 0.13\\u003e\",\"[0.13, 0.995\\u003e\",\"\\u003e=0.995\"],\"y\":[0.03695652261376381,0.05673758685588837,0.05882352963089943,0.07035175710916519,0.072727270424366,0.095238097012043,0.10465116053819656,0.16304348409175873,0.36274510622024536,0.40816327929496765,0.4761904776096344,0.5,0.6666666865348816,0.7272727489471436,0.800000011920929],\"yaxis\":\"y2\",\"type\":\"scatter\"}],                        {\"template\":{\"data\":{\"scatter\":[{\"type\":\"scatter\"}]}},\"xaxis\":{\"anchor\":\"y\",\"domain\":[0.0,0.94],\"title\":{\"text\":\"Range\"}},\"yaxis\":{\"anchor\":\"x\",\"domain\":[0.0,1.0],\"title\":{\"text\":\"Responses\"},\"showgrid\":false},\"yaxis2\":{\"anchor\":\"x\",\"overlaying\":\"y\",\"side\":\"right\",\"title\":{\"text\":\"Propensity\"},\"tickformat\":\",.2%\",\"zeroline\":false,\"showgrid\":false},\"title\":{\"text\":\"Classifier score distribution\\u003cbr\\u003e\\n            \\u003csup\\u003eModel name: AutoNew84Months\\n            \\u003cbr\\u003eModel ID 6\\u003c\\u002fsup\\u003e\"}},                        {\"responsive\": true}                    ).then(function(){\n",
       "                            \n",
       "var gd = document.getElementById('f9af40cf-25f6-4c00-9e58-f4df3a3fbfee');\n",
       "var x = new MutationObserver(function (mutations, observer) {{\n",
       "        var display = window.getComputedStyle(gd).display;\n",
       "        if (!display || display === 'none') {{\n",
       "            console.log([gd, 'removed!']);\n",
       "            Plotly.purge(gd);\n",
       "            observer.disconnect();\n",
       "        }}\n",
       "}});\n",
       "\n",
       "// Listen for the removal of the full notebook cells\n",
       "var notebookContainer = gd.closest('#notebook-container');\n",
       "if (notebookContainer) {{\n",
       "    x.observe(notebookContainer, {childList: true});\n",
       "}}\n",
       "\n",
       "// Listen for the clearing of the current output cell\n",
       "var outputEl = gd.closest('.output');\n",
       "if (outputEl) {{\n",
       "    x.observe(outputEl, {childList: true});\n",
       "}}\n",
       "\n",
       "                        })                };                });            </script>        </div>"
      ]
     },
     "metadata": {},
     "output_type": "display_data"
    },
    {
     "data": {
      "text/html": [
       "<div>                            <div id=\"5806a088-49b8-4467-aabd-336e964311bd\" class=\"plotly-graph-div\" style=\"height:525px; width:100%;\"></div>            <script type=\"text/javascript\">                require([\"plotly\"], function(Plotly) {                    window.PLOTLYENV=window.PLOTLYENV || {};                                    if (document.getElementById(\"5806a088-49b8-4467-aabd-336e964311bd\")) {                    Plotly.newPlot(                        \"5806a088-49b8-4467-aabd-336e964311bd\",                        [{\"name\":\"Responses\",\"x\":[\"\\u003c-0.63\",\"[-0.63, -0.31\\u003e\",\"[-0.31, -0.28\\u003e\",\"[-0.28, -0.25\\u003e\",\"[-0.25, 0.99\\u003e\",\"\\u003e=0.99\"],\"y\":[99.0,135.0,30.0,16.0,69.0,13.0],\"type\":\"bar\"},{\"mode\":\"lines+markers\",\"name\":\"Propensity\",\"x\":[\"\\u003c-0.63\",\"[-0.63, -0.31\\u003e\",\"[-0.31, -0.28\\u003e\",\"[-0.28, -0.25\\u003e\",\"[-0.25, 0.99\\u003e\",\"\\u003e=0.99\"],\"y\":[0.010101010091602802,0.029629629105329514,0.03333333507180214,0.0625,0.07246376574039459,0.07692307978868484],\"yaxis\":\"y2\",\"type\":\"scatter\"}],                        {\"template\":{\"data\":{\"scatter\":[{\"type\":\"scatter\"}]}},\"xaxis\":{\"anchor\":\"y\",\"domain\":[0.0,0.94],\"title\":{\"text\":\"Range\"}},\"yaxis\":{\"anchor\":\"x\",\"domain\":[0.0,1.0],\"title\":{\"text\":\"Responses\"},\"showgrid\":false},\"yaxis2\":{\"anchor\":\"x\",\"overlaying\":\"y\",\"side\":\"right\",\"title\":{\"text\":\"Propensity\"},\"tickformat\":\",.2%\",\"zeroline\":false,\"showgrid\":false},\"title\":{\"text\":\"Classifier score distribution\\u003cbr\\u003e\\n            \\u003csup\\u003eModel name: FirstMortgageFHA\\n            \\u003cbr\\u003eModel ID c\\u003c\\u002fsup\\u003e\"}},                        {\"responsive\": true}                    ).then(function(){\n",
       "                            \n",
       "var gd = document.getElementById('5806a088-49b8-4467-aabd-336e964311bd');\n",
       "var x = new MutationObserver(function (mutations, observer) {{\n",
       "        var display = window.getComputedStyle(gd).display;\n",
       "        if (!display || display === 'none') {{\n",
       "            console.log([gd, 'removed!']);\n",
       "            Plotly.purge(gd);\n",
       "            observer.disconnect();\n",
       "        }}\n",
       "}});\n",
       "\n",
       "// Listen for the removal of the full notebook cells\n",
       "var notebookContainer = gd.closest('#notebook-container');\n",
       "if (notebookContainer) {{\n",
       "    x.observe(notebookContainer, {childList: true});\n",
       "}}\n",
       "\n",
       "// Listen for the clearing of the current output cell\n",
       "var outputEl = gd.closest('.output');\n",
       "if (outputEl) {{\n",
       "    x.observe(outputEl, {childList: true});\n",
       "}}\n",
       "\n",
       "                        })                };                });            </script>        </div>"
      ]
     },
     "metadata": {},
     "output_type": "display_data"
    },
    {
     "data": {
      "text/html": [
       "<div>                            <div id=\"0d566f90-e4ba-452b-85f3-2ebcd1295568\" class=\"plotly-graph-div\" style=\"height:525px; width:100%;\"></div>            <script type=\"text/javascript\">                require([\"plotly\"], function(Plotly) {                    window.PLOTLYENV=window.PLOTLYENV || {};                                    if (document.getElementById(\"0d566f90-e4ba-452b-85f3-2ebcd1295568\")) {                    Plotly.newPlot(                        \"0d566f90-e4ba-452b-85f3-2ebcd1295568\",                        [{\"name\":\"Responses\",\"x\":[\"\\u003c-1.65\",\"[-1.65, -0.245\\u003e\",\"[-0.245, -0.16\\u003e\",\"[-0.16, 0.02\\u003e\",\"[0.02, 0.075\\u003e\",\"[0.075, 0.995\\u003e\",\"\\u003e=0.995\"],\"y\":[14.0,376.0,153.0,219.0,32.0,31.0,3.0],\"type\":\"bar\"},{\"mode\":\"lines+markers\",\"name\":\"Propensity\",\"x\":[\"\\u003c-1.65\",\"[-1.65, -0.245\\u003e\",\"[-0.245, -0.16\\u003e\",\"[-0.16, 0.02\\u003e\",\"[0.02, 0.075\\u003e\",\"[0.075, 0.995\\u003e\",\"\\u003e=0.995\"],\"y\":[0.0,0.029255319386720657,0.05228758230805397,0.06849315017461777,0.1875,0.32258063554763794,0.6666666865348816],\"yaxis\":\"y2\",\"type\":\"scatter\"}],                        {\"template\":{\"data\":{\"scatter\":[{\"type\":\"scatter\"}]}},\"xaxis\":{\"anchor\":\"y\",\"domain\":[0.0,0.94],\"title\":{\"text\":\"Range\"}},\"yaxis\":{\"anchor\":\"x\",\"domain\":[0.0,1.0],\"title\":{\"text\":\"Responses\"},\"showgrid\":false},\"yaxis2\":{\"anchor\":\"x\",\"overlaying\":\"y\",\"side\":\"right\",\"title\":{\"text\":\"Propensity\"},\"tickformat\":\",.2%\",\"zeroline\":false,\"showgrid\":false},\"title\":{\"text\":\"Classifier score distribution\\u003cbr\\u003e\\n            \\u003csup\\u003eModel name: ChannelAction_Template\\n            \\u003cbr\\u003eModel ID 2\\u003c\\u002fsup\\u003e\"}},                        {\"responsive\": true}                    ).then(function(){\n",
       "                            \n",
       "var gd = document.getElementById('0d566f90-e4ba-452b-85f3-2ebcd1295568');\n",
       "var x = new MutationObserver(function (mutations, observer) {{\n",
       "        var display = window.getComputedStyle(gd).display;\n",
       "        if (!display || display === 'none') {{\n",
       "            console.log([gd, 'removed!']);\n",
       "            Plotly.purge(gd);\n",
       "            observer.disconnect();\n",
       "        }}\n",
       "}});\n",
       "\n",
       "// Listen for the removal of the full notebook cells\n",
       "var notebookContainer = gd.closest('#notebook-container');\n",
       "if (notebookContainer) {{\n",
       "    x.observe(notebookContainer, {childList: true});\n",
       "}}\n",
       "\n",
       "// Listen for the clearing of the current output cell\n",
       "var outputEl = gd.closest('.output');\n",
       "if (outputEl) {{\n",
       "    x.observe(outputEl, {childList: true});\n",
       "}}\n",
       "\n",
       "                        })                };                });            </script>        </div>"
      ]
     },
     "metadata": {},
     "output_type": "display_data"
    },
    {
     "data": {
      "text/html": [
       "<div>                            <div id=\"32489983-5625-4198-91c0-54546ee3ac15\" class=\"plotly-graph-div\" style=\"height:525px; width:100%;\"></div>            <script type=\"text/javascript\">                require([\"plotly\"], function(Plotly) {                    window.PLOTLYENV=window.PLOTLYENV || {};                                    if (document.getElementById(\"32489983-5625-4198-91c0-54546ee3ac15\")) {                    Plotly.newPlot(                        \"32489983-5625-4198-91c0-54546ee3ac15\",                        [{\"name\":\"Responses\",\"x\":[\"\\u003c-0.45\",\"[-0.45, 0.99\\u003e\",\"\\u003e=0.99\"],\"y\":[167.0,218.0,19.0],\"type\":\"bar\"},{\"mode\":\"lines+markers\",\"name\":\"Propensity\",\"x\":[\"\\u003c-0.45\",\"[-0.45, 0.99\\u003e\",\"\\u003e=0.99\"],\"y\":[0.01796407252550125,0.0229357797652483,0.10526315867900848],\"yaxis\":\"y2\",\"type\":\"scatter\"}],                        {\"template\":{\"data\":{\"scatter\":[{\"type\":\"scatter\"}]}},\"xaxis\":{\"anchor\":\"y\",\"domain\":[0.0,0.94],\"title\":{\"text\":\"Range\"}},\"yaxis\":{\"anchor\":\"x\",\"domain\":[0.0,1.0],\"title\":{\"text\":\"Responses\"},\"showgrid\":false},\"yaxis2\":{\"anchor\":\"x\",\"overlaying\":\"y\",\"side\":\"right\",\"title\":{\"text\":\"Propensity\"},\"tickformat\":\",.2%\",\"zeroline\":false,\"showgrid\":false},\"title\":{\"text\":\"Classifier score distribution\\u003cbr\\u003e\\n            \\u003csup\\u003eModel name: FirstMortgageFiveOneARM\\n            \\u003cbr\\u003eModel ID 0\\u003c\\u002fsup\\u003e\"}},                        {\"responsive\": true}                    ).then(function(){\n",
       "                            \n",
       "var gd = document.getElementById('32489983-5625-4198-91c0-54546ee3ac15');\n",
       "var x = new MutationObserver(function (mutations, observer) {{\n",
       "        var display = window.getComputedStyle(gd).display;\n",
       "        if (!display || display === 'none') {{\n",
       "            console.log([gd, 'removed!']);\n",
       "            Plotly.purge(gd);\n",
       "            observer.disconnect();\n",
       "        }}\n",
       "}});\n",
       "\n",
       "// Listen for the removal of the full notebook cells\n",
       "var notebookContainer = gd.closest('#notebook-container');\n",
       "if (notebookContainer) {{\n",
       "    x.observe(notebookContainer, {childList: true});\n",
       "}}\n",
       "\n",
       "// Listen for the clearing of the current output cell\n",
       "var outputEl = gd.closest('.output');\n",
       "if (outputEl) {{\n",
       "    x.observe(outputEl, {childList: true});\n",
       "}}\n",
       "\n",
       "                        })                };                });            </script>        </div>"
      ]
     },
     "metadata": {},
     "output_type": "display_data"
    },
    {
     "data": {
      "text/html": [
       "<div>                            <div id=\"aaeb08fa-3d5f-4aaa-925b-5a618ff85d16\" class=\"plotly-graph-div\" style=\"height:525px; width:100%;\"></div>            <script type=\"text/javascript\">                require([\"plotly\"], function(Plotly) {                    window.PLOTLYENV=window.PLOTLYENV || {};                                    if (document.getElementById(\"aaeb08fa-3d5f-4aaa-925b-5a618ff85d16\")) {                    Plotly.newPlot(                        \"aaeb08fa-3d5f-4aaa-925b-5a618ff85d16\",                        [{\"name\":\"Responses\",\"x\":[\"\\u003c-1.33\",\"[-1.33, -0.15\\u003e\",\"[-0.15, -0.11\\u003e\",\"[-0.11, -0.1\\u003e\",\"[-0.1, -0.09\\u003e\",\"[-0.09, -0.06\\u003e\",\"[-0.06, -0.055\\u003e\",\"[-0.055, -0.05\\u003e\",\"[-0.05, -0.02\\u003e\",\"[-0.02, 0.03\\u003e\",\"[0.03, 0.085\\u003e\",\"[0.085, 0.995\\u003e\",\"\\u003e=0.995\"],\"y\":[4.0,949.0,870.0,220.0,234.0,563.0,77.0,79.0,419.0,374.0,129.0,12.0,16.0],\"type\":\"bar\"},{\"mode\":\"lines+markers\",\"name\":\"Propensity\",\"x\":[\"\\u003c-1.33\",\"[-1.33, -0.15\\u003e\",\"[-0.15, -0.11\\u003e\",\"[-0.11, -0.1\\u003e\",\"[-0.1, -0.09\\u003e\",\"[-0.09, -0.06\\u003e\",\"[-0.06, -0.055\\u003e\",\"[-0.055, -0.05\\u003e\",\"[-0.05, -0.02\\u003e\",\"[-0.02, 0.03\\u003e\",\"[0.03, 0.085\\u003e\",\"[0.085, 0.995\\u003e\",\"\\u003e=0.995\"],\"y\":[0.0,0.0937829315662384,0.10919540375471115,0.1409090906381607,0.1538461595773697,0.18827708065509796,0.19480518996715546,0.2531645596027374,0.2577565610408783,0.2754010558128357,0.3798449635505676,0.4166666567325592,0.5],\"yaxis\":\"y2\",\"type\":\"scatter\"}],                        {\"template\":{\"data\":{\"scatter\":[{\"type\":\"scatter\"}]}},\"xaxis\":{\"anchor\":\"y\",\"domain\":[0.0,0.94],\"title\":{\"text\":\"Range\"}},\"yaxis\":{\"anchor\":\"x\",\"domain\":[0.0,1.0],\"title\":{\"text\":\"Responses\"},\"showgrid\":false},\"yaxis2\":{\"anchor\":\"x\",\"overlaying\":\"y\",\"side\":\"right\",\"title\":{\"text\":\"Propensity\"},\"tickformat\":\",.2%\",\"zeroline\":false,\"showgrid\":false},\"title\":{\"text\":\"Classifier score distribution\\u003cbr\\u003e\\n            \\u003csup\\u003eModel name: FirstMortgage\\n            \\u003cbr\\u003eModel ID c\\u003c\\u002fsup\\u003e\"}},                        {\"responsive\": true}                    ).then(function(){\n",
       "                            \n",
       "var gd = document.getElementById('aaeb08fa-3d5f-4aaa-925b-5a618ff85d16');\n",
       "var x = new MutationObserver(function (mutations, observer) {{\n",
       "        var display = window.getComputedStyle(gd).display;\n",
       "        if (!display || display === 'none') {{\n",
       "            console.log([gd, 'removed!']);\n",
       "            Plotly.purge(gd);\n",
       "            observer.disconnect();\n",
       "        }}\n",
       "}});\n",
       "\n",
       "// Listen for the removal of the full notebook cells\n",
       "var notebookContainer = gd.closest('#notebook-container');\n",
       "if (notebookContainer) {{\n",
       "    x.observe(notebookContainer, {childList: true});\n",
       "}}\n",
       "\n",
       "// Listen for the clearing of the current output cell\n",
       "var outputEl = gd.closest('.output');\n",
       "if (outputEl) {{\n",
       "    x.observe(outputEl, {childList: true});\n",
       "}}\n",
       "\n",
       "                        })                };                });            </script>        </div>"
      ]
     },
     "metadata": {},
     "output_type": "display_data"
    },
    {
     "data": {
      "text/html": [
       "<div>                            <div id=\"66792aed-2f18-4cb5-bf9e-15c2f759d401\" class=\"plotly-graph-div\" style=\"height:525px; width:100%;\"></div>            <script type=\"text/javascript\">                require([\"plotly\"], function(Plotly) {                    window.PLOTLYENV=window.PLOTLYENV || {};                                    if (document.getElementById(\"66792aed-2f18-4cb5-bf9e-15c2f759d401\")) {                    Plotly.newPlot(                        \"66792aed-2f18-4cb5-bf9e-15c2f759d401\",                        [{\"name\":\"Responses\",\"x\":[\"\\u003c-0.57\",\"[-0.57, -0.4\\u003e\",\"[-0.4, -0.34\\u003e\",\"[-0.34, -0.29\\u003e\",\"[-0.29, 0.99\\u003e\",\"\\u003e=0.99\"],\"y\":[202.0,118.0,52.0,31.0,45.0,70.0],\"type\":\"bar\"},{\"mode\":\"lines+markers\",\"name\":\"Propensity\",\"x\":[\"\\u003c-0.57\",\"[-0.57, -0.4\\u003e\",\"[-0.4, -0.34\\u003e\",\"[-0.34, -0.29\\u003e\",\"[-0.29, 0.99\\u003e\",\"\\u003e=0.99\"],\"y\":[0.009900989942252636,0.016949152573943138,0.01923076994717121,0.032258063554763794,0.04444444552063942,0.0714285746216774],\"yaxis\":\"y2\",\"type\":\"scatter\"}],                        {\"template\":{\"data\":{\"scatter\":[{\"type\":\"scatter\"}]}},\"xaxis\":{\"anchor\":\"y\",\"domain\":[0.0,0.94],\"title\":{\"text\":\"Range\"}},\"yaxis\":{\"anchor\":\"x\",\"domain\":[0.0,1.0],\"title\":{\"text\":\"Responses\"},\"showgrid\":false},\"yaxis2\":{\"anchor\":\"x\",\"overlaying\":\"y\",\"side\":\"right\",\"title\":{\"text\":\"Propensity\"},\"tickformat\":\",.2%\",\"zeroline\":false,\"showgrid\":false},\"title\":{\"text\":\"Classifier score distribution\\u003cbr\\u003e\\n            \\u003csup\\u003eModel name: FirstMortgageFloat\\n            \\u003cbr\\u003eModel ID 6\\u003c\\u002fsup\\u003e\"}},                        {\"responsive\": true}                    ).then(function(){\n",
       "                            \n",
       "var gd = document.getElementById('66792aed-2f18-4cb5-bf9e-15c2f759d401');\n",
       "var x = new MutationObserver(function (mutations, observer) {{\n",
       "        var display = window.getComputedStyle(gd).display;\n",
       "        if (!display || display === 'none') {{\n",
       "            console.log([gd, 'removed!']);\n",
       "            Plotly.purge(gd);\n",
       "            observer.disconnect();\n",
       "        }}\n",
       "}});\n",
       "\n",
       "// Listen for the removal of the full notebook cells\n",
       "var notebookContainer = gd.closest('#notebook-container');\n",
       "if (notebookContainer) {{\n",
       "    x.observe(notebookContainer, {childList: true});\n",
       "}}\n",
       "\n",
       "// Listen for the clearing of the current output cell\n",
       "var outputEl = gd.closest('.output');\n",
       "if (outputEl) {{\n",
       "    x.observe(outputEl, {childList: true});\n",
       "}}\n",
       "\n",
       "                        })                };                });            </script>        </div>"
      ]
     },
     "metadata": {},
     "output_type": "display_data"
    },
    {
     "data": {
      "text/html": [
       "<div>                            <div id=\"99d76183-571f-412c-aca3-0b3ec1d6c8f6\" class=\"plotly-graph-div\" style=\"height:525px; width:100%;\"></div>            <script type=\"text/javascript\">                require([\"plotly\"], function(Plotly) {                    window.PLOTLYENV=window.PLOTLYENV || {};                                    if (document.getElementById(\"99d76183-571f-412c-aca3-0b3ec1d6c8f6\")) {                    Plotly.newPlot(                        \"99d76183-571f-412c-aca3-0b3ec1d6c8f6\",                        [{\"name\":\"Responses\",\"x\":[\"\\u003c-0.47\",\"[-0.47, -0.205\\u003e\",\"[-0.205, -0.12\\u003e\",\"[-0.12, -0.115\\u003e\",\"[-0.115, -0.085\\u003e\",\"[-0.085, -0.01\\u003e\",\"[-0.01, 0.155\\u003e\",\"[0.155, 0.995\\u003e\",\"\\u003e=0.995\"],\"y\":[72.0,451.0,308.0,19.0,102.0,165.0,62.0,4.0,1.0],\"type\":\"bar\"},{\"mode\":\"lines+markers\",\"name\":\"Propensity\",\"x\":[\"\\u003c-0.47\",\"[-0.47, -0.205\\u003e\",\"[-0.205, -0.12\\u003e\",\"[-0.12, -0.115\\u003e\",\"[-0.115, -0.085\\u003e\",\"[-0.085, -0.01\\u003e\",\"[-0.01, 0.155\\u003e\",\"[0.155, 0.995\\u003e\",\"\\u003e=0.995\"],\"y\":[0.02777777798473835,0.033259425312280655,0.048701297491788864,0.05263157933950424,0.0784313753247261,0.10303030163049698,0.11290322244167328,0.25,1.0],\"yaxis\":\"y2\",\"type\":\"scatter\"}],                        {\"template\":{\"data\":{\"scatter\":[{\"type\":\"scatter\"}]}},\"xaxis\":{\"anchor\":\"y\",\"domain\":[0.0,0.94],\"title\":{\"text\":\"Range\"}},\"yaxis\":{\"anchor\":\"x\",\"domain\":[0.0,1.0],\"title\":{\"text\":\"Responses\"},\"showgrid\":false},\"yaxis2\":{\"anchor\":\"x\",\"overlaying\":\"y\",\"side\":\"right\",\"title\":{\"text\":\"Propensity\"},\"tickformat\":\",.2%\",\"zeroline\":false,\"showgrid\":false},\"title\":{\"text\":\"Classifier score distribution\\u003cbr\\u003e\\n            \\u003csup\\u003eModel name: AutoNew84Months\\n            \\u003cbr\\u003eModel ID f\\u003c\\u002fsup\\u003e\"}},                        {\"responsive\": true}                    ).then(function(){\n",
       "                            \n",
       "var gd = document.getElementById('99d76183-571f-412c-aca3-0b3ec1d6c8f6');\n",
       "var x = new MutationObserver(function (mutations, observer) {{\n",
       "        var display = window.getComputedStyle(gd).display;\n",
       "        if (!display || display === 'none') {{\n",
       "            console.log([gd, 'removed!']);\n",
       "            Plotly.purge(gd);\n",
       "            observer.disconnect();\n",
       "        }}\n",
       "}});\n",
       "\n",
       "// Listen for the removal of the full notebook cells\n",
       "var notebookContainer = gd.closest('#notebook-container');\n",
       "if (notebookContainer) {{\n",
       "    x.observe(notebookContainer, {childList: true});\n",
       "}}\n",
       "\n",
       "// Listen for the clearing of the current output cell\n",
       "var outputEl = gd.closest('.output');\n",
       "if (outputEl) {{\n",
       "    x.observe(outputEl, {childList: true});\n",
       "}}\n",
       "\n",
       "                        })                };                });            </script>        </div>"
      ]
     },
     "metadata": {},
     "output_type": "display_data"
    },
    {
     "data": {
      "text/html": [
       "<div>                            <div id=\"f38663a8-efe4-48b3-9e81-b20bc7068bc2\" class=\"plotly-graph-div\" style=\"height:525px; width:100%;\"></div>            <script type=\"text/javascript\">                require([\"plotly\"], function(Plotly) {                    window.PLOTLYENV=window.PLOTLYENV || {};                                    if (document.getElementById(\"f38663a8-efe4-48b3-9e81-b20bc7068bc2\")) {                    Plotly.newPlot(                        \"f38663a8-efe4-48b3-9e81-b20bc7068bc2\",                        [{\"name\":\"Responses\",\"x\":[\"\\u003c-0.255\",\"[-0.255, -0.24\\u003e\",\"[-0.24, -0.235\\u003e\",\"[-0.235, -0.195\\u003e\",\"[-0.195, -0.16\\u003e\",\"[-0.16, -0.14\\u003e\",\"[-0.14, -0.125\\u003e\",\"[-0.125, -0.05\\u003e\",\"[-0.05, 0.995\\u003e\",\"\\u003e=0.995\"],\"y\":[134.0,18.0,13.0,75.0,41.0,38.0,26.0,93.0,42.0,2.0],\"type\":\"bar\"},{\"mode\":\"lines+markers\",\"name\":\"Propensity\",\"x\":[\"\\u003c-0.255\",\"[-0.255, -0.24\\u003e\",\"[-0.24, -0.235\\u003e\",\"[-0.235, -0.195\\u003e\",\"[-0.195, -0.16\\u003e\",\"[-0.16, -0.14\\u003e\",\"[-0.14, -0.125\\u003e\",\"[-0.125, -0.05\\u003e\",\"[-0.05, 0.995\\u003e\",\"\\u003e=0.995\"],\"y\":[0.05223880708217621,0.0555555559694767,0.07692307978868484,0.07999999821186066,0.09756097197532654,0.10526315867900848,0.11538461595773697,0.12903225421905518,0.261904776096344,0.5],\"yaxis\":\"y2\",\"type\":\"scatter\"}],                        {\"template\":{\"data\":{\"scatter\":[{\"type\":\"scatter\"}]}},\"xaxis\":{\"anchor\":\"y\",\"domain\":[0.0,0.94],\"title\":{\"text\":\"Range\"}},\"yaxis\":{\"anchor\":\"x\",\"domain\":[0.0,1.0],\"title\":{\"text\":\"Responses\"},\"showgrid\":false},\"yaxis2\":{\"anchor\":\"x\",\"overlaying\":\"y\",\"side\":\"right\",\"title\":{\"text\":\"Propensity\"},\"tickformat\":\",.2%\",\"zeroline\":false,\"showgrid\":false},\"title\":{\"text\":\"Classifier score distribution\\u003cbr\\u003e\\n            \\u003csup\\u003eModel name: FirstMortgageFiveOneARM\\n            \\u003cbr\\u003eModel ID 7\\u003c\\u002fsup\\u003e\"}},                        {\"responsive\": true}                    ).then(function(){\n",
       "                            \n",
       "var gd = document.getElementById('f38663a8-efe4-48b3-9e81-b20bc7068bc2');\n",
       "var x = new MutationObserver(function (mutations, observer) {{\n",
       "        var display = window.getComputedStyle(gd).display;\n",
       "        if (!display || display === 'none') {{\n",
       "            console.log([gd, 'removed!']);\n",
       "            Plotly.purge(gd);\n",
       "            observer.disconnect();\n",
       "        }}\n",
       "}});\n",
       "\n",
       "// Listen for the removal of the full notebook cells\n",
       "var notebookContainer = gd.closest('#notebook-container');\n",
       "if (notebookContainer) {{\n",
       "    x.observe(notebookContainer, {childList: true});\n",
       "}}\n",
       "\n",
       "// Listen for the clearing of the current output cell\n",
       "var outputEl = gd.closest('.output');\n",
       "if (outputEl) {{\n",
       "    x.observe(outputEl, {childList: true});\n",
       "}}\n",
       "\n",
       "                        })                };                });            </script>        </div>"
      ]
     },
     "metadata": {},
     "output_type": "display_data"
    },
    {
     "data": {
      "text/html": [
       "<div>                            <div id=\"d26b7cba-a1dc-477e-a816-3cab234b2ecb\" class=\"plotly-graph-div\" style=\"height:525px; width:100%;\"></div>            <script type=\"text/javascript\">                require([\"plotly\"], function(Plotly) {                    window.PLOTLYENV=window.PLOTLYENV || {};                                    if (document.getElementById(\"d26b7cba-a1dc-477e-a816-3cab234b2ecb\")) {                    Plotly.newPlot(                        \"d26b7cba-a1dc-477e-a816-3cab234b2ecb\",                        [{\"name\":\"Responses\",\"x\":[\"\\u003c-1.95\",\"[-1.95, -0.63\\u003e\",\"[-0.63, -0.5\\u003e\",\"[-0.5, -0.36\\u003e\",\"[-0.36, -0.29\\u003e\",\"[-0.29, -0.22\\u003e\",\"[-0.22, 0.99\\u003e\",\"\\u003e=0.99\"],\"y\":[35.0,1946.0,1338.0,1133.0,450.0,322.0,146.0,232.0],\"type\":\"bar\"},{\"mode\":\"lines+markers\",\"name\":\"Propensity\",\"x\":[\"\\u003c-1.95\",\"[-1.95, -0.63\\u003e\",\"[-0.63, -0.5\\u003e\",\"[-0.5, -0.36\\u003e\",\"[-0.36, -0.29\\u003e\",\"[-0.29, -0.22\\u003e\",\"[-0.22, 0.99\\u003e\",\"\\u003e=0.99\"],\"y\":[0.0,0.003597122384235263,0.005231689196079969,0.007060900330543518,0.008888889104127884,0.009316770359873772,0.013698630034923553,0.021551724523305893],\"yaxis\":\"y2\",\"type\":\"scatter\"}],                        {\"template\":{\"data\":{\"scatter\":[{\"type\":\"scatter\"}]}},\"xaxis\":{\"anchor\":\"y\",\"domain\":[0.0,0.94],\"title\":{\"text\":\"Range\"}},\"yaxis\":{\"anchor\":\"x\",\"domain\":[0.0,1.0],\"title\":{\"text\":\"Responses\"},\"showgrid\":false},\"yaxis2\":{\"anchor\":\"x\",\"overlaying\":\"y\",\"side\":\"right\",\"title\":{\"text\":\"Propensity\"},\"tickformat\":\",.2%\",\"zeroline\":false,\"showgrid\":false},\"title\":{\"text\":\"Classifier score distribution\\u003cbr\\u003e\\n            \\u003csup\\u003eModel name: AutoNew36Months\\n            \\u003cbr\\u003eModel ID f\\u003c\\u002fsup\\u003e\"}},                        {\"responsive\": true}                    ).then(function(){\n",
       "                            \n",
       "var gd = document.getElementById('d26b7cba-a1dc-477e-a816-3cab234b2ecb');\n",
       "var x = new MutationObserver(function (mutations, observer) {{\n",
       "        var display = window.getComputedStyle(gd).display;\n",
       "        if (!display || display === 'none') {{\n",
       "            console.log([gd, 'removed!']);\n",
       "            Plotly.purge(gd);\n",
       "            observer.disconnect();\n",
       "        }}\n",
       "}});\n",
       "\n",
       "// Listen for the removal of the full notebook cells\n",
       "var notebookContainer = gd.closest('#notebook-container');\n",
       "if (notebookContainer) {{\n",
       "    x.observe(notebookContainer, {childList: true});\n",
       "}}\n",
       "\n",
       "// Listen for the clearing of the current output cell\n",
       "var outputEl = gd.closest('.output');\n",
       "if (outputEl) {{\n",
       "    x.observe(outputEl, {childList: true});\n",
       "}}\n",
       "\n",
       "                        })                };                });            </script>        </div>"
      ]
     },
     "metadata": {},
     "output_type": "display_data"
    }
   ],
   "source": [
    "data.plotScoreDistribution(show_each=True);\n"
   ]
  },
  {
   "cell_type": "markdown",
   "metadata": {},
   "source": [
    "## Tree Map"
   ]
  },
  {
   "cell_type": "code",
   "execution_count": 13,
   "metadata": {
    "execution": {
     "iopub.execute_input": "2023-07-28T14:40:29.649067Z",
     "iopub.status.busy": "2023-07-28T14:40:29.648530Z",
     "iopub.status.idle": "2023-07-28T14:40:29.876630Z",
     "shell.execute_reply": "2023-07-28T14:40:29.876018Z"
    }
   },
   "outputs": [
    {
     "data": {
      "text/html": [
       "<div>                            <div id=\"1197521e-27a4-4c2b-846d-26c2fb7f6ecb\" class=\"plotly-graph-div\" style=\"height:525px; width:100%;\"></div>            <script type=\"text/javascript\">                require([\"plotly\"], function(Plotly) {                    window.PLOTLYENV=window.PLOTLYENV || {};                                    if (document.getElementById(\"1197521e-27a4-4c2b-846d-26c2fb7f6ecb\")) {                    Plotly.newPlot(                        \"1197521e-27a4-4c2b-846d-26c2fb7f6ecb\",                        [{\"branchvalues\":\"total\",\"customdata\":[[2,0.0,13544.0,4.6388468742370605,62.99525834317778,631.0],[1,0.0,7415.0,0.7282535433769226,62.944199999999995,54.0],[3,0.0,23129.0,5.640022277832031,66.27309054433826,1341.0],[3,0.0,8823.0,8.443954467773438,60.655552975178516,516.0],[5,0.0,14820.0,2.716142416000366,56.309893400809734,289.0],[5,0.0,15761.0,4.765020370483398,61.34172346297822,692.0],[3,0.0,11048.0,8.00528335571289,70.77251884503983,822.0],[2,0.0,10633.0,1.0666604042053223,61.35216929370826,112.0],[3,0.0,11134.0,8.278606414794922,68.66853960840668,772.0],[5,0.0,6966.0,8.123114585876465,63.00027265288544,473.0],[6,0.0,10262.0,1.5054700374603271,55.4294000877022,130.0],[8,0.0,12383.0,6.074169158935547,61.00976363562949,641.0],[1,0.0,7096.0,18.940248489379883,62.21869999999999,1344.0],[3,0.0,8634.0,18.635272979736328,52.95501125781792,1908.0],[5,0.0,12271.0,4.838988780975342,53.05561875152798,754.0],[4,0.0,10488.0,13.958417892456055,53.16843408657515,1840.0],[3,0.0,5043.0,14.01188850402832,63.687832718619866,994.0],[3,0.0,1210.0,2.172286033630371,56.29142462809917,25.0],[3,0.0,4905.0,12.429615020751953,63.7114104587156,763.0],[17,0.0,\"(?)\",\"(?)\",62.30671239143503,\"(?)\"],[21,0.0,\"(?)\",\"(?)\",55.76107494093408,\"(?)\"],[23,0.0,\"(?)\",\"(?)\",61.06957882380845,\"(?)\"],[2,0.0,13544.0,4.6388468742370605,62.99525834317778,631.0],[1,0.0,7415.0,0.7282535433769226,62.944199999999995,54.0],[4,0.0,\"(?)\",\"(?)\",65.25949290825369,\"(?)\"],[19,0.0,\"(?)\",\"(?)\",62.3791909126711,\"(?)\"],[22,0.0,\"(?)\",\"(?)\",56.08758062543707,\"(?)\"],[27,0.0,\"(?)\",\"(?)\",61.690306836318854,\"(?)\"],[22,0.0,\"(?)\",\"(?)\",56.08758062543707,\"(?)\"],[27,0.0,\"(?)\",\"(?)\",61.690306836318854,\"(?)\"],[19,0.0,\"(?)\",\"(?)\",62.3791909126711,\"(?)\"],[68,0.0,\"(?)\",\"(?)\",60.07014243648494,\"(?)\"]],\"domain\":{\"x\":[0.0,1.0],\"y\":[0.0,1.0]},\"hovertemplate\":\"labels=%{label}\\u003cbr\\u003eModel count=%{customdata[0]:.d}\\u003cbr\\u003eparent=%{parent}\\u003cbr\\u003eid=%{id}\\u003cbr\\u003ePercentage without responses=%{customdata[1]:.0%}\\u003cbr\\u003eResponse Count sum=%{customdata[2]:.d}\\u003cbr\\u003e(%) Success Rate mean=%{customdata[3]:.3f}\\u003cbr\\u003ePerformance weighted mean=%{color:.2f}\\u003cbr\\u003ePositives sum=%{customdata[5]:.d}\\u003cextra\\u003e\\u003c\\u002fextra\\u003e\",\"ids\":[\"All contexts\\u002fWeb\\u002fInbound\\u002fServices\\u002fAccount\",\"All contexts\\u002fEmail\\u002fOutbound\\u002fServices\\u002fAccount\",\"All contexts\\u002fSMS\\u002fOutbound\\u002fServices\\u002fAccount\",\"All contexts\\u002fWeb\\u002fInbound\\u002fSales\\u002fAutoLoans\",\"All contexts\\u002fEmail\\u002fOutbound\\u002fSales\\u002fAutoLoans\",\"All contexts\\u002fSMS\\u002fOutbound\\u002fSales\\u002fAutoLoans\",\"All contexts\\u002fWeb\\u002fInbound\\u002fSales\\u002fBundles\",\"All contexts\\u002fEmail\\u002fOutbound\\u002fSales\\u002fBundles\",\"All contexts\\u002fSMS\\u002fOutbound\\u002fSales\\u002fBundles\",\"All contexts\\u002fWeb\\u002fInbound\\u002fSales\\u002fCreditCards\",\"All contexts\\u002fEmail\\u002fOutbound\\u002fSales\\u002fCreditCards\",\"All contexts\\u002fSMS\\u002fOutbound\\u002fSales\\u002fCreditCards\",\"All contexts\\u002fSMS\\u002fOutbound\\u002fServices\\u002fCustomer\",\"All contexts\\u002fWeb\\u002fInbound\\u002fSales\\u002fDepositAccounts\",\"All contexts\\u002fEmail\\u002fOutbound\\u002fSales\\u002fDepositAccounts\",\"All contexts\\u002fSMS\\u002fOutbound\\u002fSales\\u002fDepositAccounts\",\"All contexts\\u002fWeb\\u002fInbound\\u002fSales\\u002fHomeLoans\",\"All contexts\\u002fEmail\\u002fOutbound\\u002fSales\\u002fHomeLoans\",\"All contexts\\u002fSMS\\u002fOutbound\\u002fSales\\u002fHomeLoans\",\"All contexts\\u002fWeb\\u002fInbound\\u002fSales\",\"All contexts\\u002fEmail\\u002fOutbound\\u002fSales\",\"All contexts\\u002fSMS\\u002fOutbound\\u002fSales\",\"All contexts\\u002fWeb\\u002fInbound\\u002fServices\",\"All contexts\\u002fEmail\\u002fOutbound\\u002fServices\",\"All contexts\\u002fSMS\\u002fOutbound\\u002fServices\",\"All contexts\\u002fWeb\\u002fInbound\",\"All contexts\\u002fEmail\\u002fOutbound\",\"All contexts\\u002fSMS\\u002fOutbound\",\"All contexts\\u002fEmail\",\"All contexts\\u002fSMS\",\"All contexts\\u002fWeb\",\"All contexts\"],\"labels\":[\"Account\",\"Account\",\"Account\",\"AutoLoans\",\"AutoLoans\",\"AutoLoans\",\"Bundles\",\"Bundles\",\"Bundles\",\"CreditCards\",\"CreditCards\",\"CreditCards\",\"Customer\",\"DepositAccounts\",\"DepositAccounts\",\"DepositAccounts\",\"HomeLoans\",\"HomeLoans\",\"HomeLoans\",\"Sales\",\"Sales\",\"Sales\",\"Services\",\"Services\",\"Services\",\"Inbound\",\"Outbound\",\"Outbound\",\"Email\",\"SMS\",\"Web\",\"All contexts\"],\"marker\":{\"coloraxis\":\"coloraxis\",\"colors\":[62.99525834317778,62.944199999999995,66.27309054433826,60.655552975178516,56.309893400809734,61.34172346297822,70.77251884503983,61.35216929370826,68.66853960840668,63.00027265288544,55.4294000877022,61.00976363562949,62.21869999999999,52.95501125781792,53.05561875152798,53.16843408657515,63.687832718619866,56.29142462809917,63.7114104587156,62.30671239143503,55.76107494093408,61.06957882380845,62.99525834317778,62.944199999999995,65.25949290825369,62.3791909126711,56.08758062543707,61.690306836318854,56.08758062543707,61.690306836318854,62.3791909126711,60.07014243648494]},\"name\":\"\",\"parents\":[\"All contexts\\u002fWeb\\u002fInbound\\u002fServices\",\"All contexts\\u002fEmail\\u002fOutbound\\u002fServices\",\"All contexts\\u002fSMS\\u002fOutbound\\u002fServices\",\"All contexts\\u002fWeb\\u002fInbound\\u002fSales\",\"All contexts\\u002fEmail\\u002fOutbound\\u002fSales\",\"All contexts\\u002fSMS\\u002fOutbound\\u002fSales\",\"All contexts\\u002fWeb\\u002fInbound\\u002fSales\",\"All contexts\\u002fEmail\\u002fOutbound\\u002fSales\",\"All contexts\\u002fSMS\\u002fOutbound\\u002fSales\",\"All contexts\\u002fWeb\\u002fInbound\\u002fSales\",\"All contexts\\u002fEmail\\u002fOutbound\\u002fSales\",\"All contexts\\u002fSMS\\u002fOutbound\\u002fSales\",\"All contexts\\u002fSMS\\u002fOutbound\\u002fServices\",\"All contexts\\u002fWeb\\u002fInbound\\u002fSales\",\"All contexts\\u002fEmail\\u002fOutbound\\u002fSales\",\"All contexts\\u002fSMS\\u002fOutbound\\u002fSales\",\"All contexts\\u002fWeb\\u002fInbound\\u002fSales\",\"All contexts\\u002fEmail\\u002fOutbound\\u002fSales\",\"All contexts\\u002fSMS\\u002fOutbound\\u002fSales\",\"All contexts\\u002fWeb\\u002fInbound\",\"All contexts\\u002fEmail\\u002fOutbound\",\"All contexts\\u002fSMS\\u002fOutbound\",\"All contexts\\u002fWeb\\u002fInbound\",\"All contexts\\u002fEmail\\u002fOutbound\",\"All contexts\\u002fSMS\\u002fOutbound\",\"All contexts\\u002fWeb\",\"All contexts\\u002fEmail\",\"All contexts\\u002fSMS\",\"All contexts\",\"All contexts\",\"All contexts\",\"\"],\"values\":[2,1,3,3,5,5,3,2,3,5,6,8,1,3,5,4,3,3,3,17,21,23,2,1,4,19,22,27,22,27,19,68],\"type\":\"treemap\",\"text\":[62.995,62.944,66.273,60.656,56.31,61.342,70.773,61.352,68.669,63.0,55.429,61.01,62.219,52.955,53.056,53.168,63.688,56.291,63.711,62.307,55.761,61.07,62.995,62.944,65.259,62.379,56.088,61.69,56.088,61.69,62.379,60.07],\"textinfo\":\"label+text\",\"texttemplate\":\"%{label}\\u003cbr\\u003e%{text:.2f}%\"}],                        {\"template\":{\"data\":{\"histogram2dcontour\":[{\"type\":\"histogram2dcontour\",\"colorbar\":{\"outlinewidth\":0,\"ticks\":\"\"},\"colorscale\":[[0.0,\"#0d0887\"],[0.1111111111111111,\"#46039f\"],[0.2222222222222222,\"#7201a8\"],[0.3333333333333333,\"#9c179e\"],[0.4444444444444444,\"#bd3786\"],[0.5555555555555556,\"#d8576b\"],[0.6666666666666666,\"#ed7953\"],[0.7777777777777778,\"#fb9f3a\"],[0.8888888888888888,\"#fdca26\"],[1.0,\"#f0f921\"]]}],\"choropleth\":[{\"type\":\"choropleth\",\"colorbar\":{\"outlinewidth\":0,\"ticks\":\"\"}}],\"histogram2d\":[{\"type\":\"histogram2d\",\"colorbar\":{\"outlinewidth\":0,\"ticks\":\"\"},\"colorscale\":[[0.0,\"#0d0887\"],[0.1111111111111111,\"#46039f\"],[0.2222222222222222,\"#7201a8\"],[0.3333333333333333,\"#9c179e\"],[0.4444444444444444,\"#bd3786\"],[0.5555555555555556,\"#d8576b\"],[0.6666666666666666,\"#ed7953\"],[0.7777777777777778,\"#fb9f3a\"],[0.8888888888888888,\"#fdca26\"],[1.0,\"#f0f921\"]]}],\"heatmap\":[{\"type\":\"heatmap\",\"colorbar\":{\"outlinewidth\":0,\"ticks\":\"\"},\"colorscale\":[[0.0,\"#0d0887\"],[0.1111111111111111,\"#46039f\"],[0.2222222222222222,\"#7201a8\"],[0.3333333333333333,\"#9c179e\"],[0.4444444444444444,\"#bd3786\"],[0.5555555555555556,\"#d8576b\"],[0.6666666666666666,\"#ed7953\"],[0.7777777777777778,\"#fb9f3a\"],[0.8888888888888888,\"#fdca26\"],[1.0,\"#f0f921\"]]}],\"heatmapgl\":[{\"type\":\"heatmapgl\",\"colorbar\":{\"outlinewidth\":0,\"ticks\":\"\"},\"colorscale\":[[0.0,\"#0d0887\"],[0.1111111111111111,\"#46039f\"],[0.2222222222222222,\"#7201a8\"],[0.3333333333333333,\"#9c179e\"],[0.4444444444444444,\"#bd3786\"],[0.5555555555555556,\"#d8576b\"],[0.6666666666666666,\"#ed7953\"],[0.7777777777777778,\"#fb9f3a\"],[0.8888888888888888,\"#fdca26\"],[1.0,\"#f0f921\"]]}],\"contourcarpet\":[{\"type\":\"contourcarpet\",\"colorbar\":{\"outlinewidth\":0,\"ticks\":\"\"}}],\"contour\":[{\"type\":\"contour\",\"colorbar\":{\"outlinewidth\":0,\"ticks\":\"\"},\"colorscale\":[[0.0,\"#0d0887\"],[0.1111111111111111,\"#46039f\"],[0.2222222222222222,\"#7201a8\"],[0.3333333333333333,\"#9c179e\"],[0.4444444444444444,\"#bd3786\"],[0.5555555555555556,\"#d8576b\"],[0.6666666666666666,\"#ed7953\"],[0.7777777777777778,\"#fb9f3a\"],[0.8888888888888888,\"#fdca26\"],[1.0,\"#f0f921\"]]}],\"surface\":[{\"type\":\"surface\",\"colorbar\":{\"outlinewidth\":0,\"ticks\":\"\"},\"colorscale\":[[0.0,\"#0d0887\"],[0.1111111111111111,\"#46039f\"],[0.2222222222222222,\"#7201a8\"],[0.3333333333333333,\"#9c179e\"],[0.4444444444444444,\"#bd3786\"],[0.5555555555555556,\"#d8576b\"],[0.6666666666666666,\"#ed7953\"],[0.7777777777777778,\"#fb9f3a\"],[0.8888888888888888,\"#fdca26\"],[1.0,\"#f0f921\"]]}],\"mesh3d\":[{\"type\":\"mesh3d\",\"colorbar\":{\"outlinewidth\":0,\"ticks\":\"\"}}],\"scatter\":[{\"fillpattern\":{\"fillmode\":\"overlay\",\"size\":10,\"solidity\":0.2},\"type\":\"scatter\"}],\"parcoords\":[{\"type\":\"parcoords\",\"line\":{\"colorbar\":{\"outlinewidth\":0,\"ticks\":\"\"}}}],\"scatterpolargl\":[{\"type\":\"scatterpolargl\",\"marker\":{\"colorbar\":{\"outlinewidth\":0,\"ticks\":\"\"}}}],\"bar\":[{\"error_x\":{\"color\":\"#2a3f5f\"},\"error_y\":{\"color\":\"#2a3f5f\"},\"marker\":{\"line\":{\"color\":\"#E5ECF6\",\"width\":0.5},\"pattern\":{\"fillmode\":\"overlay\",\"size\":10,\"solidity\":0.2}},\"type\":\"bar\"}],\"scattergeo\":[{\"type\":\"scattergeo\",\"marker\":{\"colorbar\":{\"outlinewidth\":0,\"ticks\":\"\"}}}],\"scatterpolar\":[{\"type\":\"scatterpolar\",\"marker\":{\"colorbar\":{\"outlinewidth\":0,\"ticks\":\"\"}}}],\"histogram\":[{\"marker\":{\"pattern\":{\"fillmode\":\"overlay\",\"size\":10,\"solidity\":0.2}},\"type\":\"histogram\"}],\"scattergl\":[{\"type\":\"scattergl\",\"marker\":{\"colorbar\":{\"outlinewidth\":0,\"ticks\":\"\"}}}],\"scatter3d\":[{\"type\":\"scatter3d\",\"line\":{\"colorbar\":{\"outlinewidth\":0,\"ticks\":\"\"}},\"marker\":{\"colorbar\":{\"outlinewidth\":0,\"ticks\":\"\"}}}],\"scattermapbox\":[{\"type\":\"scattermapbox\",\"marker\":{\"colorbar\":{\"outlinewidth\":0,\"ticks\":\"\"}}}],\"scatterternary\":[{\"type\":\"scatterternary\",\"marker\":{\"colorbar\":{\"outlinewidth\":0,\"ticks\":\"\"}}}],\"scattercarpet\":[{\"type\":\"scattercarpet\",\"marker\":{\"colorbar\":{\"outlinewidth\":0,\"ticks\":\"\"}}}],\"carpet\":[{\"aaxis\":{\"endlinecolor\":\"#2a3f5f\",\"gridcolor\":\"white\",\"linecolor\":\"white\",\"minorgridcolor\":\"white\",\"startlinecolor\":\"#2a3f5f\"},\"baxis\":{\"endlinecolor\":\"#2a3f5f\",\"gridcolor\":\"white\",\"linecolor\":\"white\",\"minorgridcolor\":\"white\",\"startlinecolor\":\"#2a3f5f\"},\"type\":\"carpet\"}],\"table\":[{\"cells\":{\"fill\":{\"color\":\"#EBF0F8\"},\"line\":{\"color\":\"white\"}},\"header\":{\"fill\":{\"color\":\"#C8D4E3\"},\"line\":{\"color\":\"white\"}},\"type\":\"table\"}],\"barpolar\":[{\"marker\":{\"line\":{\"color\":\"#E5ECF6\",\"width\":0.5},\"pattern\":{\"fillmode\":\"overlay\",\"size\":10,\"solidity\":0.2}},\"type\":\"barpolar\"}],\"pie\":[{\"automargin\":true,\"type\":\"pie\"}]},\"layout\":{\"autotypenumbers\":\"strict\",\"colorway\":[\"#636efa\",\"#EF553B\",\"#00cc96\",\"#ab63fa\",\"#FFA15A\",\"#19d3f3\",\"#FF6692\",\"#B6E880\",\"#FF97FF\",\"#FECB52\"],\"font\":{\"color\":\"#2a3f5f\"},\"hovermode\":\"closest\",\"hoverlabel\":{\"align\":\"left\"},\"paper_bgcolor\":\"white\",\"plot_bgcolor\":\"#E5ECF6\",\"polar\":{\"bgcolor\":\"#E5ECF6\",\"angularaxis\":{\"gridcolor\":\"white\",\"linecolor\":\"white\",\"ticks\":\"\"},\"radialaxis\":{\"gridcolor\":\"white\",\"linecolor\":\"white\",\"ticks\":\"\"}},\"ternary\":{\"bgcolor\":\"#E5ECF6\",\"aaxis\":{\"gridcolor\":\"white\",\"linecolor\":\"white\",\"ticks\":\"\"},\"baxis\":{\"gridcolor\":\"white\",\"linecolor\":\"white\",\"ticks\":\"\"},\"caxis\":{\"gridcolor\":\"white\",\"linecolor\":\"white\",\"ticks\":\"\"}},\"coloraxis\":{\"colorbar\":{\"outlinewidth\":0,\"ticks\":\"\"}},\"colorscale\":{\"sequential\":[[0.0,\"#0d0887\"],[0.1111111111111111,\"#46039f\"],[0.2222222222222222,\"#7201a8\"],[0.3333333333333333,\"#9c179e\"],[0.4444444444444444,\"#bd3786\"],[0.5555555555555556,\"#d8576b\"],[0.6666666666666666,\"#ed7953\"],[0.7777777777777778,\"#fb9f3a\"],[0.8888888888888888,\"#fdca26\"],[1.0,\"#f0f921\"]],\"sequentialminus\":[[0.0,\"#0d0887\"],[0.1111111111111111,\"#46039f\"],[0.2222222222222222,\"#7201a8\"],[0.3333333333333333,\"#9c179e\"],[0.4444444444444444,\"#bd3786\"],[0.5555555555555556,\"#d8576b\"],[0.6666666666666666,\"#ed7953\"],[0.7777777777777778,\"#fb9f3a\"],[0.8888888888888888,\"#fdca26\"],[1.0,\"#f0f921\"]],\"diverging\":[[0,\"#8e0152\"],[0.1,\"#c51b7d\"],[0.2,\"#de77ae\"],[0.3,\"#f1b6da\"],[0.4,\"#fde0ef\"],[0.5,\"#f7f7f7\"],[0.6,\"#e6f5d0\"],[0.7,\"#b8e186\"],[0.8,\"#7fbc41\"],[0.9,\"#4d9221\"],[1,\"#276419\"]]},\"xaxis\":{\"gridcolor\":\"white\",\"linecolor\":\"white\",\"ticks\":\"\",\"title\":{\"standoff\":15},\"zerolinecolor\":\"white\",\"automargin\":true,\"zerolinewidth\":2},\"yaxis\":{\"gridcolor\":\"white\",\"linecolor\":\"white\",\"ticks\":\"\",\"title\":{\"standoff\":15},\"zerolinecolor\":\"white\",\"automargin\":true,\"zerolinewidth\":2},\"scene\":{\"xaxis\":{\"backgroundcolor\":\"#E5ECF6\",\"gridcolor\":\"white\",\"linecolor\":\"white\",\"showbackground\":true,\"ticks\":\"\",\"zerolinecolor\":\"white\",\"gridwidth\":2},\"yaxis\":{\"backgroundcolor\":\"#E5ECF6\",\"gridcolor\":\"white\",\"linecolor\":\"white\",\"showbackground\":true,\"ticks\":\"\",\"zerolinecolor\":\"white\",\"gridwidth\":2},\"zaxis\":{\"backgroundcolor\":\"#E5ECF6\",\"gridcolor\":\"white\",\"linecolor\":\"white\",\"showbackground\":true,\"ticks\":\"\",\"zerolinecolor\":\"white\",\"gridwidth\":2}},\"shapedefaults\":{\"line\":{\"color\":\"#2a3f5f\"}},\"annotationdefaults\":{\"arrowcolor\":\"#2a3f5f\",\"arrowhead\":0,\"arrowwidth\":1},\"geo\":{\"bgcolor\":\"white\",\"landcolor\":\"#E5ECF6\",\"subunitcolor\":\"white\",\"showland\":true,\"showlakes\":true,\"lakecolor\":\"white\"},\"title\":{\"x\":0.05},\"mapbox\":{\"style\":\"light\"}}},\"coloraxis\":{\"colorbar\":{\"title\":{\"text\":\"Performance weighted mean\"}},\"colorscale\":[[0,\"#d91c29\"],[0.01,\"#F76923\"],[0.3,\"#20aa50\"],[0.8,\"#20aa50\"],[1,\"#0000FF\"]],\"cmin\":50,\"cmax\":100,\"reversescale\":false},\"legend\":{\"tracegroupgap\":0},\"title\":{\"text\":\"Weighted mean performance, per context key combination\"}},                        {\"responsive\": true}                    ).then(function(){\n",
       "                            \n",
       "var gd = document.getElementById('1197521e-27a4-4c2b-846d-26c2fb7f6ecb');\n",
       "var x = new MutationObserver(function (mutations, observer) {{\n",
       "        var display = window.getComputedStyle(gd).display;\n",
       "        if (!display || display === 'none') {{\n",
       "            console.log([gd, 'removed!']);\n",
       "            Plotly.purge(gd);\n",
       "            observer.disconnect();\n",
       "        }}\n",
       "}});\n",
       "\n",
       "// Listen for the removal of the full notebook cells\n",
       "var notebookContainer = gd.closest('#notebook-container');\n",
       "if (notebookContainer) {{\n",
       "    x.observe(notebookContainer, {childList: true});\n",
       "}}\n",
       "\n",
       "// Listen for the clearing of the current output cell\n",
       "var outputEl = gd.closest('.output');\n",
       "if (outputEl) {{\n",
       "    x.observe(outputEl, {childList: true});\n",
       "}}\n",
       "\n",
       "                        })                };                });            </script>        </div>"
      ]
     },
     "metadata": {},
     "output_type": "display_data"
    }
   ],
   "source": [
    "data.plotTreeMap()\n"
   ]
  }
 ],
 "metadata": {
  "interpreter": {
   "hash": "aee8b7b246df8f9039afb4144a1f6fd8d2ca17a180786b69acc140d282b71a49"
  },
  "kernelspec": {
   "display_name": "Python 3.10.2 64-bit",
   "language": "python",
   "name": "python3"
  },
  "language_info": {
   "codemirror_mode": {
    "name": "ipython",
    "version": 3
   },
   "file_extension": ".py",
   "mimetype": "text/x-python",
   "name": "python",
   "nbconvert_exporter": "python",
   "pygments_lexer": "ipython3",
   "version": "3.11.4"
  }
 },
 "nbformat": 4,
 "nbformat_minor": 2
}
