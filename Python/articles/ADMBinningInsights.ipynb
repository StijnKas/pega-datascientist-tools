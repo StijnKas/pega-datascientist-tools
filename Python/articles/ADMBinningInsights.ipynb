{
 "cells": [
  {
   "cell_type": "markdown",
   "metadata": {},
   "source": [
    "# Insights from ADM Models\n",
    "\n",
    "The predictor binning from ADM models can deliver great insights to marketing and business and provides transparency into the models. \n",
    "\n",
    "Both AGB and NB types of ADM models already provide overall predictor importance views like these:\n",
    "\n"
   ]
  },
  {
   "cell_type": "code",
   "execution_count": 1,
   "metadata": {
    "execution": {
     "iopub.execute_input": "2024-10-22T12:35:57.635121Z",
     "iopub.status.busy": "2024-10-22T12:35:57.634900Z",
     "iopub.status.idle": "2024-10-22T12:35:57.749883Z",
     "shell.execute_reply": "2024-10-22T12:35:57.749160Z"
    },
    "nbsphinx": "hidden"
   },
   "outputs": [],
   "source": [
    "# These lines are only for rendering in the docs, and are hidden through Jupyter tags\n",
    "# Do not run if you're running the notebook seperately\n",
    "# Hidden from doc by virtue of cell tags - in VSCode right-click on the bar to the left of this cell, edit cell tags, see metadata\n",
    "\n",
    "import plotly.io as pio\n",
    "\n",
    "pio.renderers.default = \"notebook_connected\"\n",
    "\n",
    "import sys\n",
    "\n",
    "sys.path.append(\"../../../\")\n",
    "\n",
    "import warnings\n",
    "\n",
    "warnings.simplefilter(\"ignore\", SyntaxWarning)"
   ]
  },
  {
   "cell_type": "code",
   "execution_count": 2,
   "metadata": {
    "execution": {
     "iopub.execute_input": "2024-10-22T12:35:57.753895Z",
     "iopub.status.busy": "2024-10-22T12:35:57.753007Z",
     "iopub.status.idle": "2024-10-22T12:35:59.763979Z",
     "shell.execute_reply": "2024-10-22T12:35:59.763367Z"
    }
   },
   "outputs": [
    {
     "data": {
      "text/html": [
       "        <script type=\"text/javascript\">\n",
       "        window.PlotlyConfig = {MathJaxConfig: 'local'};\n",
       "        if (window.MathJax && window.MathJax.Hub && window.MathJax.Hub.Config) {window.MathJax.Hub.Config({SVG: {font: \"STIX-Web\"}});}\n",
       "        if (typeof require !== 'undefined') {\n",
       "        require.undef(\"plotly\");\n",
       "        requirejs.config({\n",
       "            paths: {\n",
       "                'plotly': ['https://cdn.plot.ly/plotly-2.35.2.min']\n",
       "            }\n",
       "        });\n",
       "        require(['plotly'], function(Plotly) {\n",
       "            window._Plotly = Plotly;\n",
       "        });\n",
       "        }\n",
       "        </script>\n",
       "        "
      ]
     },
     "metadata": {},
     "output_type": "display_data"
    },
    {
     "data": {
      "text/html": [
       "<div>                            <div id=\"fdd9ceaa-2bc5-48c4-b860-532b6e62dc7f\" class=\"plotly-graph-div\" style=\"height:400px; width:800px;\"></div>            <script type=\"text/javascript\">                require([\"plotly\"], function(Plotly) {                    window.PLOTLYENV=window.PLOTLYENV || {};                                    if (document.getElementById(\"fdd9ceaa-2bc5-48c4-b860-532b6e62dc7f\")) {                    Plotly.newPlot(                        \"fdd9ceaa-2bc5-48c4-b860-532b6e62dc7f\",                        [{\"alignmentgroup\":\"True\",\"hovertemplate\":\"Legend=IH\\u003cbr\\u003ePerformance=%{x}\\u003cbr\\u003ePredictor Name=%{y}\\u003cextra\\u003e\\u003c\\u002fextra\\u003e\",\"legendgroup\":\"IH\",\"marker\":{\"color\":\"#001F5F\"},\"name\":\"IH\",\"notched\":false,\"offsetgroup\":\"IH\",\"orientation\":\"h\",\"showlegend\":true,\"x\":[50.253800000000005,57.9052,60.3909,59.319900000000004,56.8491,57.419399999999996,50.099000000000004,53.630599999999994,58.6283,50.2262,56.74550000000001,68.4031,56.9537,62.490100000000005,58.32000000000001,59.6171,50.286500000000004,54.748799999999996,55.761300000000006,63.4496,59.1166,54.573899999999995,66.7804,51.019400000000005,54.817499999999995,57.894,67.6683,60.5249,53.98,62.7857,55.9497,53.0076,63.696,57.5792,56.3398,53.4604,57.652800000000006,62.2877,67.88300000000001,57.2565,61.175000000000004,50.099000000000004,58.097100000000005,59.5125,50.1269,50.2262,54.1848,60.6255,54.6334,63.0443,63.4209,55.7909,60.552099999999996,50.068900000000006,59.4537,54.759299999999996,65.4153,64.6274,61.272000000000006,50.286500000000004],\"x0\":\" \",\"xaxis\":\"x\",\"y\":[\"IH.SMS.Outbound.Accepted.pxLastGroupID\",\"IH.SMS.Outbound.Accepted.pxLastGroupID\",\"IH.SMS.Outbound.Accepted.pxLastGroupID\",\"IH.SMS.Outbound.Accepted.pxLastGroupID\",\"IH.SMS.Outbound.Accepted.pxLastGroupID\",\"IH.SMS.Outbound.Accepted.pxLastGroupID\",\"IH.SMS.Outbound.Accepted.pxLastGroupID\",\"IH.SMS.Outbound.Accepted.pxLastGroupID\",\"IH.SMS.Outbound.Accepted.pxLastGroupID\",\"IH.SMS.Outbound.Accepted.pxLastGroupID\",\"IH.SMS.Outbound.Accepted.pxLastGroupID\",\"IH.SMS.Outbound.Accepted.pxLastGroupID\",\"IH.SMS.Outbound.Accepted.pxLastGroupID\",\"IH.SMS.Outbound.Accepted.pxLastGroupID\",\"IH.SMS.Outbound.Accepted.pxLastGroupID\",\"IH.SMS.Outbound.Accepted.pxLastGroupID\",\"IH.SMS.Outbound.Accepted.pxLastGroupID\",\"IH.SMS.Outbound.Accepted.pxLastGroupID\",\"IH.SMS.Outbound.Accepted.pxLastGroupID\",\"IH.SMS.Outbound.Accepted.pxLastGroupID\",\"IH.Email.Outbound.Accepted.pxLastGroupID\",\"IH.Email.Outbound.Accepted.pxLastGroupID\",\"IH.Email.Outbound.Accepted.pxLastGroupID\",\"IH.Email.Outbound.Accepted.pxLastGroupID\",\"IH.Email.Outbound.Accepted.pxLastGroupID\",\"IH.Email.Outbound.Accepted.pxLastGroupID\",\"IH.Email.Outbound.Accepted.pxLastGroupID\",\"IH.Email.Outbound.Accepted.pxLastGroupID\",\"IH.Email.Outbound.Accepted.pxLastGroupID\",\"IH.Email.Outbound.Accepted.pxLastGroupID\",\"IH.Email.Outbound.Accepted.pxLastGroupID\",\"IH.Email.Outbound.Accepted.pxLastGroupID\",\"IH.Email.Outbound.Accepted.pxLastGroupID\",\"IH.Email.Outbound.Accepted.pxLastGroupID\",\"IH.Email.Outbound.Accepted.pxLastGroupID\",\"IH.Email.Outbound.Accepted.pxLastGroupID\",\"IH.Email.Outbound.Accepted.pxLastGroupID\",\"IH.Email.Outbound.Accepted.pxLastGroupID\",\"IH.Email.Outbound.Accepted.pxLastGroupID\",\"IH.Email.Outbound.Accepted.pxLastGroupID\",\"IH.SMS.Outbound.Accepted.pyHistoricalOutcomeCount\",\"IH.SMS.Outbound.Accepted.pyHistoricalOutcomeCount\",\"IH.SMS.Outbound.Accepted.pyHistoricalOutcomeCount\",\"IH.SMS.Outbound.Accepted.pyHistoricalOutcomeCount\",\"IH.SMS.Outbound.Accepted.pyHistoricalOutcomeCount\",\"IH.SMS.Outbound.Accepted.pyHistoricalOutcomeCount\",\"IH.SMS.Outbound.Accepted.pyHistoricalOutcomeCount\",\"IH.SMS.Outbound.Accepted.pyHistoricalOutcomeCount\",\"IH.SMS.Outbound.Accepted.pyHistoricalOutcomeCount\",\"IH.SMS.Outbound.Accepted.pyHistoricalOutcomeCount\",\"IH.SMS.Outbound.Accepted.pyHistoricalOutcomeCount\",\"IH.SMS.Outbound.Accepted.pyHistoricalOutcomeCount\",\"IH.SMS.Outbound.Accepted.pyHistoricalOutcomeCount\",\"IH.SMS.Outbound.Accepted.pyHistoricalOutcomeCount\",\"IH.SMS.Outbound.Accepted.pyHistoricalOutcomeCount\",\"IH.SMS.Outbound.Accepted.pyHistoricalOutcomeCount\",\"IH.SMS.Outbound.Accepted.pyHistoricalOutcomeCount\",\"IH.SMS.Outbound.Accepted.pyHistoricalOutcomeCount\",\"IH.SMS.Outbound.Accepted.pyHistoricalOutcomeCount\",\"IH.SMS.Outbound.Accepted.pyHistoricalOutcomeCount\"],\"y0\":\" \",\"yaxis\":\"y\",\"type\":\"box\"},{\"alignmentgroup\":\"True\",\"hovertemplate\":\"Legend=Customer\\u003cbr\\u003ePerformance=%{x}\\u003cbr\\u003ePredictor Name=%{y}\\u003cextra\\u003e\\u003c\\u002fextra\\u003e\",\"legendgroup\":\"Customer\",\"marker\":{\"color\":\"#10A5AC\"},\"name\":\"Customer\",\"notched\":false,\"offsetgroup\":\"Customer\",\"orientation\":\"h\",\"showlegend\":true,\"x\":[57.4949,60.7897,63.2781,56.7884,56.704699999999995,50.0,59.206599999999995,50.0,53.880700000000004,50.0,59.412200000000006,59.2558,61.8852,57.2222,69.4885,50.0,57.67250000000001,50.0,59.6731,63.1562,59.8314,55.489200000000004,50.0,55.825,58.720099999999995,58.7225,58.3999,50.0,53.7008,54.7925,62.77779999999999,61.0174,60.044799999999995,60.919000000000004,50.0,60.9977,50.0,68.42240000000001,59.2995,56.3236,57.3139,69.9779,50.0,60.4753,65.074,65.5934,61.523,50.0,60.2006,50.0,58.243100000000005,59.770999999999994,72.0121,59.7588,67.8751,50.0,65.47619999999999,50.0,50.0,59.2858,61.677899999999994,50.0,50.0,67.843,69.1364,65.8252,66.14,66.76910000000001,62.7574,55.9398,61.2695,50.0,79.5234,50.0,50.0,67.091,69.6095,61.9755,66.3934,50.0,63.6825,67.6933,66.4995,50.0,60.002900000000004,50.0,68.5224,68.10810000000001,72.2077,67.90079999999999,68.40990000000001,50.0,50.0,50.0,61.277800000000006,68.8072,63.101,65.94139999999999,50.0,60.4482,67.8088,50.0,60.348,70.54169999999999,50.0,72.2297,75.493,67.85679999999999,50.0,67.284,50.0,50.0,50.0,58.949600000000004,60.4125,68.0832,67.7885,72.70830000000001,65.1779,64.193,50.0,50.0,63.1201,50.0,63.8537,64.5449,50.0,86.3848,69.0542,71.13239999999999,62.589099999999995,63.4857,71.921,65.7909,67.8122,67.3194,69.0493,74.91409999999999,50.0,78.18],\"x0\":\" \",\"xaxis\":\"x\",\"y\":[\"Customer.MaritalStatus\",\"Customer.MaritalStatus\",\"Customer.MaritalStatus\",\"Customer.MaritalStatus\",\"Customer.MaritalStatus\",\"Customer.MaritalStatus\",\"Customer.MaritalStatus\",\"Customer.MaritalStatus\",\"Customer.MaritalStatus\",\"Customer.MaritalStatus\",\"Customer.MaritalStatus\",\"Customer.MaritalStatus\",\"Customer.MaritalStatus\",\"Customer.MaritalStatus\",\"Customer.MaritalStatus\",\"Customer.MaritalStatus\",\"Customer.MaritalStatus\",\"Customer.MaritalStatus\",\"Customer.MaritalStatus\",\"Customer.MaritalStatus\",\"Customer.RiskCode\",\"Customer.RiskCode\",\"Customer.RiskCode\",\"Customer.RiskCode\",\"Customer.RiskCode\",\"Customer.RiskCode\",\"Customer.RiskCode\",\"Customer.RiskCode\",\"Customer.RiskCode\",\"Customer.RiskCode\",\"Customer.RiskCode\",\"Customer.RiskCode\",\"Customer.RiskCode\",\"Customer.RiskCode\",\"Customer.RiskCode\",\"Customer.RiskCode\",\"Customer.RiskCode\",\"Customer.RiskCode\",\"Customer.RiskCode\",\"Customer.RiskCode\",\"Customer.Age\",\"Customer.Age\",\"Customer.Age\",\"Customer.Age\",\"Customer.Age\",\"Customer.Age\",\"Customer.Age\",\"Customer.Age\",\"Customer.Age\",\"Customer.Age\",\"Customer.Age\",\"Customer.Age\",\"Customer.Age\",\"Customer.Age\",\"Customer.Age\",\"Customer.Age\",\"Customer.Age\",\"Customer.Age\",\"Customer.Age\",\"Customer.Age\",\"Customer.WinScore\",\"Customer.WinScore\",\"Customer.WinScore\",\"Customer.WinScore\",\"Customer.WinScore\",\"Customer.WinScore\",\"Customer.WinScore\",\"Customer.WinScore\",\"Customer.WinScore\",\"Customer.WinScore\",\"Customer.WinScore\",\"Customer.WinScore\",\"Customer.WinScore\",\"Customer.WinScore\",\"Customer.WinScore\",\"Customer.WinScore\",\"Customer.WinScore\",\"Customer.WinScore\",\"Customer.WinScore\",\"Customer.WinScore\",\"Customer.NetWealth\",\"Customer.NetWealth\",\"Customer.NetWealth\",\"Customer.NetWealth\",\"Customer.NetWealth\",\"Customer.NetWealth\",\"Customer.NetWealth\",\"Customer.NetWealth\",\"Customer.NetWealth\",\"Customer.NetWealth\",\"Customer.NetWealth\",\"Customer.NetWealth\",\"Customer.NetWealth\",\"Customer.NetWealth\",\"Customer.NetWealth\",\"Customer.NetWealth\",\"Customer.NetWealth\",\"Customer.NetWealth\",\"Customer.NetWealth\",\"Customer.NetWealth\",\"Customer.CreditScore\",\"Customer.CreditScore\",\"Customer.CreditScore\",\"Customer.CreditScore\",\"Customer.CreditScore\",\"Customer.CreditScore\",\"Customer.CreditScore\",\"Customer.CreditScore\",\"Customer.CreditScore\",\"Customer.CreditScore\",\"Customer.CreditScore\",\"Customer.CreditScore\",\"Customer.CreditScore\",\"Customer.CreditScore\",\"Customer.CreditScore\",\"Customer.CreditScore\",\"Customer.CreditScore\",\"Customer.CreditScore\",\"Customer.CreditScore\",\"Customer.CreditScore\",\"Customer.AnnualIncome\",\"Customer.AnnualIncome\",\"Customer.AnnualIncome\",\"Customer.AnnualIncome\",\"Customer.AnnualIncome\",\"Customer.AnnualIncome\",\"Customer.AnnualIncome\",\"Customer.AnnualIncome\",\"Customer.AnnualIncome\",\"Customer.AnnualIncome\",\"Customer.AnnualIncome\",\"Customer.AnnualIncome\",\"Customer.AnnualIncome\",\"Customer.AnnualIncome\",\"Customer.AnnualIncome\",\"Customer.AnnualIncome\",\"Customer.AnnualIncome\",\"Customer.AnnualIncome\",\"Customer.AnnualIncome\",\"Customer.AnnualIncome\"],\"y0\":\" \",\"yaxis\":\"y\",\"type\":\"box\"}],                        {\"template\":{\"layout\":{\"colorway\":[\"#001F5F\",\"#10A5AC\",\"#F76923\",\"#661D34\",\"#86CAC6\",\"#005154\",\"#86CAC6\",\"#5F67B9\",\"#FFC836\",\"#E63690\",\"#AC1361\",\"#63666F\",\"#A7A9B4\",\"#D0D1DB\"],\"hovermode\":\"closest\"}},\"xaxis\":{\"anchor\":\"y\",\"domain\":[0.0,1.0],\"title\":{\"text\":\"\"}},\"yaxis\":{\"anchor\":\"x\",\"domain\":[0.0,1.0],\"title\":{\"text\":\"\"},\"categoryorder\":\"array\",\"categoryarray\":[\"IH.SMS.Outbound.Accepted.pxLastGroupID\",\"Customer.MaritalStatus\",\"IH.Email.Outbound.Accepted.pxLastGroupID\",\"Customer.RiskCode\",\"IH.SMS.Outbound.Accepted.pyHistoricalOutcomeCount\",\"Customer.Age\",\"Customer.WinScore\",\"Customer.NetWealth\",\"Customer.CreditScore\",\"Customer.AnnualIncome\"],\"automargin\":true,\"dtick\":1},\"legend\":{\"title\":{\"text\":\"Predictor category\"},\"tracegroupgap\":0},\"title\":{\"text\":\"Feature Importance\"},\"boxmode\":\"group\",\"boxgap\":0,\"boxgroupgap\":0,\"height\":400,\"width\":800},                        {\"responsive\": true}                    ).then(function(){\n",
       "                            \n",
       "var gd = document.getElementById('fdd9ceaa-2bc5-48c4-b860-532b6e62dc7f');\n",
       "var x = new MutationObserver(function (mutations, observer) {{\n",
       "        var display = window.getComputedStyle(gd).display;\n",
       "        if (!display || display === 'none') {{\n",
       "            console.log([gd, 'removed!']);\n",
       "            Plotly.purge(gd);\n",
       "            observer.disconnect();\n",
       "        }}\n",
       "}});\n",
       "\n",
       "// Listen for the removal of the full notebook cells\n",
       "var notebookContainer = gd.closest('#notebook-container');\n",
       "if (notebookContainer) {{\n",
       "    x.observe(notebookContainer, {childList: true});\n",
       "}}\n",
       "\n",
       "// Listen for the clearing of the current output cell\n",
       "var outputEl = gd.closest('.output');\n",
       "if (outputEl) {{\n",
       "    x.observe(outputEl, {childList: true});\n",
       "}}\n",
       "\n",
       "                        })                };                });            </script>        </div>"
      ]
     },
     "metadata": {},
     "output_type": "display_data"
    }
   ],
   "source": [
    "import sys\n",
    "basePath = \"../..\"\n",
    "\n",
    "sys.path.append(f\"{str(basePath)}/python\")\n",
    "from pdstools import datasets\n",
    "from pdstools import BinAggregator\n",
    "from pdstools import ADMDatamart, datasets\n",
    "import polars as pl\n",
    "\n",
    "dm = datasets.CDHSample(subset=False)\n",
    "# replace this with your own datamart data, see PDS tools documentation for examples\n",
    "# dm = ADMDatamart(\n",
    "#     model_filename=\"...\",\n",
    "#     predictor_filename=\"...\",\n",
    "#     subset=False\n",
    "# )\n",
    "\n",
    "fig = dm.plotPredictorPerformance(top_n=10)\n",
    "fig.update_layout(\n",
    "    height=400, width=800, title=\"Feature Importance\", xaxis_title=\"\", yaxis_title=\"\"\n",
    ")\n",
    "\n",
    "fig.show()"
   ]
  },
  {
   "cell_type": "markdown",
   "metadata": {},
   "source": [
    "While helpful to understand how a model works, a global perspective on the model features is not of much use to understand who accepts what. For this type of insight, we need to dive deeper into how the model partitions the customers. The Pega ADM models can provide such information."
   ]
  },
  {
   "cell_type": "markdown",
   "metadata": {},
   "source": [
    "## Predictor Binning for Individual Models\n",
    "\n",
    "The predictor binning for Baysian ADM models is available in Pega Prediction Studio and also in the downloadable, off-line model reports you can create with PDS tools. These reports are available for both the legacy R and the new Python versions of the toolkit.\n",
    "\n",
    "You can create these reports directly from the PDS tools app, or work in an IDE, for more information see [the PDS Tools Documentation](https://github.com/pegasystems/pega-datascientist-tools/wiki).\n",
    "\n",
    "You can easily recreate all or parts of this in code. For example, to recreate the binning reports use code like shown below. You'll need the model ID that you can pick up from Prediction Studio or from a quick analysis with PDS tools functions."
   ]
  },
  {
   "cell_type": "code",
   "execution_count": 3,
   "metadata": {
    "execution": {
     "iopub.execute_input": "2024-10-22T12:35:59.793923Z",
     "iopub.status.busy": "2024-10-22T12:35:59.793422Z",
     "iopub.status.idle": "2024-10-22T12:35:59.821204Z",
     "shell.execute_reply": "2024-10-22T12:35:59.820741Z"
    }
   },
   "outputs": [
    {
     "data": {
      "text/html": [
       "<div>                            <div id=\"0be7562f-c3bc-4601-aaba-e1d66ce4f4a0\" class=\"plotly-graph-div\" style=\"height:400px; width:700px;\"></div>            <script type=\"text/javascript\">                require([\"plotly\"], function(Plotly) {                    window.PLOTLYENV=window.PLOTLYENV || {};                                    if (document.getElementById(\"0be7562f-c3bc-4601-aaba-e1d66ce4f4a0\")) {                    Plotly.newPlot(                        \"0be7562f-c3bc-4601-aaba-e1d66ce4f4a0\",                        [{\"name\":\"Responses\",\"x\":[\"\\u003c5322.5409\",\"[5322.5409, 11220.7809\\u003e\",\"[11220.7809, 14825.2609\\u003e\",\"[14825.2609, 20068.1409\\u003e\",\"[20068.1409, 25311.0209\\u003e\",\"[25311.0209, 33503.0209\\u003e\",\"[33503.0209, 38418.2209\\u003e\",\"[38418.2209, 49231.6609\\u003e\",\"[49231.6609, 58079.0209\\u003e\",\"\\u003e=58079.0209\"],\"y\":[348.0,515.0,370.0,393.0,507.0,623.0,268.0,511.0,284.0,786.0],\"type\":\"bar\"},{\"mode\":\"lines+markers\",\"name\":\"Propensity\",\"x\":[\"\\u003c5322.5409\",\"[5322.5409, 11220.7809\\u003e\",\"[11220.7809, 14825.2609\\u003e\",\"[14825.2609, 20068.1409\\u003e\",\"[20068.1409, 25311.0209\\u003e\",\"[25311.0209, 33503.0209\\u003e\",\"[33503.0209, 38418.2209\\u003e\",\"[38418.2209, 49231.6609\\u003e\",\"[49231.6609, 58079.0209\\u003e\",\"\\u003e=58079.0209\"],\"y\":[0.13793103396892548,0.09320387989282608,0.07027027010917664,0.04325699806213379,0.08481262624263763,0.051364365965127945,0.10820895433425903,0.08219178020954132,0.1654929518699646,0.3524172902107239],\"yaxis\":\"y2\",\"type\":\"scatter\"}],                        {\"template\":{\"data\":{\"scatter\":[{\"type\":\"scatter\"}]}},\"xaxis\":{\"anchor\":\"y\",\"domain\":[0.0,0.94],\"title\":{\"text\":\"\"},\"type\":\"category\"},\"yaxis\":{\"anchor\":\"x\",\"domain\":[0.0,1.0],\"title\":{\"text\":\"Responses\"},\"showgrid\":false},\"yaxis2\":{\"anchor\":\"x\",\"overlaying\":\"y\",\"side\":\"right\",\"title\":{\"text\":\"Propensity\"},\"tickformat\":\",.3%\",\"zeroline\":false,\"showgrid\":false},\"title\":{\"text\":\"Model name: ('HomeOwners',)\\u003cbr\\u003e\\u003csup\\u003eModel ID: 08ca1302-9fc0-57bf-9031-d4179d400493\\u003cbr\\u003ePredictor name: Customer.AnnualIncome\\u003c\\u002fsup\\u003e\"},\"height\":400,\"width\":700},                        {\"responsive\": true}                    ).then(function(){\n",
       "                            \n",
       "var gd = document.getElementById('0be7562f-c3bc-4601-aaba-e1d66ce4f4a0');\n",
       "var x = new MutationObserver(function (mutations, observer) {{\n",
       "        var display = window.getComputedStyle(gd).display;\n",
       "        if (!display || display === 'none') {{\n",
       "            console.log([gd, 'removed!']);\n",
       "            Plotly.purge(gd);\n",
       "            observer.disconnect();\n",
       "        }}\n",
       "}});\n",
       "\n",
       "// Listen for the removal of the full notebook cells\n",
       "var notebookContainer = gd.closest('#notebook-container');\n",
       "if (notebookContainer) {{\n",
       "    x.observe(notebookContainer, {childList: true});\n",
       "}}\n",
       "\n",
       "// Listen for the clearing of the current output cell\n",
       "var outputEl = gd.closest('.output');\n",
       "if (outputEl) {{\n",
       "    x.observe(outputEl, {childList: true});\n",
       "}}\n",
       "\n",
       "                        })                };                });            </script>        </div>"
      ]
     },
     "metadata": {},
     "output_type": "display_data"
    }
   ],
   "source": [
    "fig = dm.plotPredictorBinning(\n",
    "    modelids=[\"08ca1302-9fc0-57bf-9031-d4179d400493\"],\n",
    "    predictors=[\"Customer.AnnualIncome\"],\n",
    ")\n",
    "fig.update_layout(height=400, width=700, xaxis_title=\"\")\n",
    "fig.show()"
   ]
  },
  {
   "cell_type": "markdown",
   "metadata": {},
   "source": [
    "You can also view these reports in an alternative way, focussing on how each of the bins pushes the propensity above or below the average. This perspective on the \"lift\" of each bin is similar to the yellow line in the above plot but emphasizes it more.\n",
    "\n",
    "This view is available in the off-line model reports.\n",
    "\n",
    "TODO: move PM lift plot into PDS tools and show it here - currently lives in the model qmd"
   ]
  },
  {
   "cell_type": "markdown",
   "metadata": {},
   "source": [
    "## Rolling up individual binning\n",
    "\n",
    "While already giving more insight than global predictor importance, being specific to one individual ADM instance means you may have to browse through 100's of individual model reports to get a feel for how, for example, Income is related to Cards acceptance.\n",
    "\n",
    "With the \"BinAggregator\" class in PDS Tools you can now \"roll up\" these binning views across actions and even across channels. For example this could show that \"People with income > 60000 and age > 30\" are more likely to respond positively to Cards offers.\n",
    "\n",
    "The rolling up is based on the predictor binning from ADM NB models. For a numeric predictor, we first create equi-distance or log-distance bins, for example, 10 bins from 20 to 85 for \"Age\" or 10 bins in a log scale from 10k to 10m for \"income\". \n",
    "\n",
    "Then, the predictor binning of all models (in a certain group, issue perhaps) is mapped onto those target bins and the values are mapped proportional to the overlap between the model bin and the target bin. We map the *lift* values, not the *bin counts*. The bin counts are heavily dependent on channel both in absolute numbers as in the ratio between positives and negatives (success rate) so aggregating those does give meaningful results. The lift is an indication of how a certain predictor value range pushes the likelhood to accept up or down.\n",
    "\n",
    "\n"
   ]
  },
  {
   "cell_type": "markdown",
   "metadata": {},
   "source": [
    "To illustrate this, see below. We have a equi-distance target binning for Age, shown in red, from 20 to 80. From one of the models we have binning of Age that has a slightly different range (10 - 75) - shown in blue. The first bin of the target gets a weighted lift from source bins 1 and 2. The second target bin falls completely within the range of bin 2 of the source, so gets the exact same lift value. Same for the target bins 3 and 4, they are both sourced from just source bin 3. The 4th one in not fully covered however, as you see reflected in the \"BinCoverage\" column in the table."
   ]
  },
  {
   "cell_type": "code",
   "execution_count": 4,
   "metadata": {
    "execution": {
     "iopub.execute_input": "2024-10-22T12:35:59.822957Z",
     "iopub.status.busy": "2024-10-22T12:35:59.822788Z",
     "iopub.status.idle": "2024-10-22T12:35:59.987537Z",
     "shell.execute_reply": "2024-10-22T12:35:59.987064Z"
    }
   },
   "outputs": [
    {
     "data": {
      "text/html": [
       "<div>                            <div id=\"fd426852-7c77-4dec-9b54-2c78056fdf3a\" class=\"plotly-graph-div\" style=\"height:250px; width:700px;\"></div>            <script type=\"text/javascript\">                require([\"plotly\"], function(Plotly) {                    window.PLOTLYENV=window.PLOTLYENV || {};                                    if (document.getElementById(\"fd426852-7c77-4dec-9b54-2c78056fdf3a\")) {                    Plotly.newPlot(                        \"fd426852-7c77-4dec-9b54-2c78056fdf3a\",                        [{\"hovertemplate\":\"binning=%{y}\\u003cbr\\u003eboundary=%{x}\\u003cextra\\u003e\\u003c\\u002fextra\\u003e\",\"legendgroup\":\"source\",\"line\":{\"color\":\"#636efa\",\"dash\":\"solid\"},\"marker\":{\"symbol\":\"circle\"},\"mode\":\"lines+markers\",\"name\":\"source\",\"orientation\":\"h\",\"showlegend\":true,\"x\":[10.0,25.0,50.0,25.0,50.0,75.0],\"xaxis\":\"x\",\"y\":[\"source\",\"source\",\"source\",\"source\",\"source\",\"source\"],\"yaxis\":\"y\",\"type\":\"scatter\"},{\"hovertemplate\":\"binning=%{y}\\u003cbr\\u003eboundary=%{x}\\u003cextra\\u003e\\u003c\\u002fextra\\u003e\",\"legendgroup\":\"target\",\"line\":{\"color\":\"#EF553B\",\"dash\":\"solid\"},\"marker\":{\"symbol\":\"circle\"},\"mode\":\"lines+markers\",\"name\":\"target\",\"orientation\":\"h\",\"showlegend\":true,\"x\":[20.0,35.0,50.0,65.0,35.0,50.0,65.0,80.0],\"xaxis\":\"x\",\"y\":[\"target\",\"target\",\"target\",\"target\",\"target\",\"target\",\"target\",\"target\"],\"yaxis\":\"y\",\"type\":\"scatter\"}],                        {\"template\":{\"data\":{\"barpolar\":[{\"marker\":{\"line\":{\"color\":\"white\",\"width\":0.5},\"pattern\":{\"fillmode\":\"overlay\",\"size\":10,\"solidity\":0.2}},\"type\":\"barpolar\"}],\"bar\":[{\"error_x\":{\"color\":\"#2a3f5f\"},\"error_y\":{\"color\":\"#2a3f5f\"},\"marker\":{\"line\":{\"color\":\"white\",\"width\":0.5},\"pattern\":{\"fillmode\":\"overlay\",\"size\":10,\"solidity\":0.2}},\"type\":\"bar\"}],\"carpet\":[{\"aaxis\":{\"endlinecolor\":\"#2a3f5f\",\"gridcolor\":\"#C8D4E3\",\"linecolor\":\"#C8D4E3\",\"minorgridcolor\":\"#C8D4E3\",\"startlinecolor\":\"#2a3f5f\"},\"baxis\":{\"endlinecolor\":\"#2a3f5f\",\"gridcolor\":\"#C8D4E3\",\"linecolor\":\"#C8D4E3\",\"minorgridcolor\":\"#C8D4E3\",\"startlinecolor\":\"#2a3f5f\"},\"type\":\"carpet\"}],\"choropleth\":[{\"colorbar\":{\"outlinewidth\":0,\"ticks\":\"\"},\"type\":\"choropleth\"}],\"contourcarpet\":[{\"colorbar\":{\"outlinewidth\":0,\"ticks\":\"\"},\"type\":\"contourcarpet\"}],\"contour\":[{\"colorbar\":{\"outlinewidth\":0,\"ticks\":\"\"},\"colorscale\":[[0.0,\"#0d0887\"],[0.1111111111111111,\"#46039f\"],[0.2222222222222222,\"#7201a8\"],[0.3333333333333333,\"#9c179e\"],[0.4444444444444444,\"#bd3786\"],[0.5555555555555556,\"#d8576b\"],[0.6666666666666666,\"#ed7953\"],[0.7777777777777778,\"#fb9f3a\"],[0.8888888888888888,\"#fdca26\"],[1.0,\"#f0f921\"]],\"type\":\"contour\"}],\"heatmapgl\":[{\"colorbar\":{\"outlinewidth\":0,\"ticks\":\"\"},\"colorscale\":[[0.0,\"#0d0887\"],[0.1111111111111111,\"#46039f\"],[0.2222222222222222,\"#7201a8\"],[0.3333333333333333,\"#9c179e\"],[0.4444444444444444,\"#bd3786\"],[0.5555555555555556,\"#d8576b\"],[0.6666666666666666,\"#ed7953\"],[0.7777777777777778,\"#fb9f3a\"],[0.8888888888888888,\"#fdca26\"],[1.0,\"#f0f921\"]],\"type\":\"heatmapgl\"}],\"heatmap\":[{\"colorbar\":{\"outlinewidth\":0,\"ticks\":\"\"},\"colorscale\":[[0.0,\"#0d0887\"],[0.1111111111111111,\"#46039f\"],[0.2222222222222222,\"#7201a8\"],[0.3333333333333333,\"#9c179e\"],[0.4444444444444444,\"#bd3786\"],[0.5555555555555556,\"#d8576b\"],[0.6666666666666666,\"#ed7953\"],[0.7777777777777778,\"#fb9f3a\"],[0.8888888888888888,\"#fdca26\"],[1.0,\"#f0f921\"]],\"type\":\"heatmap\"}],\"histogram2dcontour\":[{\"colorbar\":{\"outlinewidth\":0,\"ticks\":\"\"},\"colorscale\":[[0.0,\"#0d0887\"],[0.1111111111111111,\"#46039f\"],[0.2222222222222222,\"#7201a8\"],[0.3333333333333333,\"#9c179e\"],[0.4444444444444444,\"#bd3786\"],[0.5555555555555556,\"#d8576b\"],[0.6666666666666666,\"#ed7953\"],[0.7777777777777778,\"#fb9f3a\"],[0.8888888888888888,\"#fdca26\"],[1.0,\"#f0f921\"]],\"type\":\"histogram2dcontour\"}],\"histogram2d\":[{\"colorbar\":{\"outlinewidth\":0,\"ticks\":\"\"},\"colorscale\":[[0.0,\"#0d0887\"],[0.1111111111111111,\"#46039f\"],[0.2222222222222222,\"#7201a8\"],[0.3333333333333333,\"#9c179e\"],[0.4444444444444444,\"#bd3786\"],[0.5555555555555556,\"#d8576b\"],[0.6666666666666666,\"#ed7953\"],[0.7777777777777778,\"#fb9f3a\"],[0.8888888888888888,\"#fdca26\"],[1.0,\"#f0f921\"]],\"type\":\"histogram2d\"}],\"histogram\":[{\"marker\":{\"pattern\":{\"fillmode\":\"overlay\",\"size\":10,\"solidity\":0.2}},\"type\":\"histogram\"}],\"mesh3d\":[{\"colorbar\":{\"outlinewidth\":0,\"ticks\":\"\"},\"type\":\"mesh3d\"}],\"parcoords\":[{\"line\":{\"colorbar\":{\"outlinewidth\":0,\"ticks\":\"\"}},\"type\":\"parcoords\"}],\"pie\":[{\"automargin\":true,\"type\":\"pie\"}],\"scatter3d\":[{\"line\":{\"colorbar\":{\"outlinewidth\":0,\"ticks\":\"\"}},\"marker\":{\"colorbar\":{\"outlinewidth\":0,\"ticks\":\"\"}},\"type\":\"scatter3d\"}],\"scattercarpet\":[{\"marker\":{\"colorbar\":{\"outlinewidth\":0,\"ticks\":\"\"}},\"type\":\"scattercarpet\"}],\"scattergeo\":[{\"marker\":{\"colorbar\":{\"outlinewidth\":0,\"ticks\":\"\"}},\"type\":\"scattergeo\"}],\"scattergl\":[{\"marker\":{\"colorbar\":{\"outlinewidth\":0,\"ticks\":\"\"}},\"type\":\"scattergl\"}],\"scattermapbox\":[{\"marker\":{\"colorbar\":{\"outlinewidth\":0,\"ticks\":\"\"}},\"type\":\"scattermapbox\"}],\"scatterpolargl\":[{\"marker\":{\"colorbar\":{\"outlinewidth\":0,\"ticks\":\"\"}},\"type\":\"scatterpolargl\"}],\"scatterpolar\":[{\"marker\":{\"colorbar\":{\"outlinewidth\":0,\"ticks\":\"\"}},\"type\":\"scatterpolar\"}],\"scatter\":[{\"fillpattern\":{\"fillmode\":\"overlay\",\"size\":10,\"solidity\":0.2},\"type\":\"scatter\"}],\"scatterternary\":[{\"marker\":{\"colorbar\":{\"outlinewidth\":0,\"ticks\":\"\"}},\"type\":\"scatterternary\"}],\"surface\":[{\"colorbar\":{\"outlinewidth\":0,\"ticks\":\"\"},\"colorscale\":[[0.0,\"#0d0887\"],[0.1111111111111111,\"#46039f\"],[0.2222222222222222,\"#7201a8\"],[0.3333333333333333,\"#9c179e\"],[0.4444444444444444,\"#bd3786\"],[0.5555555555555556,\"#d8576b\"],[0.6666666666666666,\"#ed7953\"],[0.7777777777777778,\"#fb9f3a\"],[0.8888888888888888,\"#fdca26\"],[1.0,\"#f0f921\"]],\"type\":\"surface\"}],\"table\":[{\"cells\":{\"fill\":{\"color\":\"#EBF0F8\"},\"line\":{\"color\":\"white\"}},\"header\":{\"fill\":{\"color\":\"#C8D4E3\"},\"line\":{\"color\":\"white\"}},\"type\":\"table\"}]},\"layout\":{\"annotationdefaults\":{\"arrowcolor\":\"#2a3f5f\",\"arrowhead\":0,\"arrowwidth\":1},\"autotypenumbers\":\"strict\",\"coloraxis\":{\"colorbar\":{\"outlinewidth\":0,\"ticks\":\"\"}},\"colorscale\":{\"diverging\":[[0,\"#8e0152\"],[0.1,\"#c51b7d\"],[0.2,\"#de77ae\"],[0.3,\"#f1b6da\"],[0.4,\"#fde0ef\"],[0.5,\"#f7f7f7\"],[0.6,\"#e6f5d0\"],[0.7,\"#b8e186\"],[0.8,\"#7fbc41\"],[0.9,\"#4d9221\"],[1,\"#276419\"]],\"sequential\":[[0.0,\"#0d0887\"],[0.1111111111111111,\"#46039f\"],[0.2222222222222222,\"#7201a8\"],[0.3333333333333333,\"#9c179e\"],[0.4444444444444444,\"#bd3786\"],[0.5555555555555556,\"#d8576b\"],[0.6666666666666666,\"#ed7953\"],[0.7777777777777778,\"#fb9f3a\"],[0.8888888888888888,\"#fdca26\"],[1.0,\"#f0f921\"]],\"sequentialminus\":[[0.0,\"#0d0887\"],[0.1111111111111111,\"#46039f\"],[0.2222222222222222,\"#7201a8\"],[0.3333333333333333,\"#9c179e\"],[0.4444444444444444,\"#bd3786\"],[0.5555555555555556,\"#d8576b\"],[0.6666666666666666,\"#ed7953\"],[0.7777777777777778,\"#fb9f3a\"],[0.8888888888888888,\"#fdca26\"],[1.0,\"#f0f921\"]]},\"colorway\":[\"#636efa\",\"#EF553B\",\"#00cc96\",\"#ab63fa\",\"#FFA15A\",\"#19d3f3\",\"#FF6692\",\"#B6E880\",\"#FF97FF\",\"#FECB52\"],\"font\":{\"color\":\"#2a3f5f\"},\"geo\":{\"bgcolor\":\"white\",\"lakecolor\":\"white\",\"landcolor\":\"white\",\"showlakes\":true,\"showland\":true,\"subunitcolor\":\"#C8D4E3\"},\"hoverlabel\":{\"align\":\"left\"},\"hovermode\":\"closest\",\"mapbox\":{\"style\":\"light\"},\"paper_bgcolor\":\"white\",\"plot_bgcolor\":\"white\",\"polar\":{\"angularaxis\":{\"gridcolor\":\"#EBF0F8\",\"linecolor\":\"#EBF0F8\",\"ticks\":\"\"},\"bgcolor\":\"white\",\"radialaxis\":{\"gridcolor\":\"#EBF0F8\",\"linecolor\":\"#EBF0F8\",\"ticks\":\"\"}},\"scene\":{\"xaxis\":{\"backgroundcolor\":\"white\",\"gridcolor\":\"#DFE8F3\",\"gridwidth\":2,\"linecolor\":\"#EBF0F8\",\"showbackground\":true,\"ticks\":\"\",\"zerolinecolor\":\"#EBF0F8\"},\"yaxis\":{\"backgroundcolor\":\"white\",\"gridcolor\":\"#DFE8F3\",\"gridwidth\":2,\"linecolor\":\"#EBF0F8\",\"showbackground\":true,\"ticks\":\"\",\"zerolinecolor\":\"#EBF0F8\"},\"zaxis\":{\"backgroundcolor\":\"white\",\"gridcolor\":\"#DFE8F3\",\"gridwidth\":2,\"linecolor\":\"#EBF0F8\",\"showbackground\":true,\"ticks\":\"\",\"zerolinecolor\":\"#EBF0F8\"}},\"shapedefaults\":{\"line\":{\"color\":\"#2a3f5f\"}},\"ternary\":{\"aaxis\":{\"gridcolor\":\"#DFE8F3\",\"linecolor\":\"#A2B1C6\",\"ticks\":\"\"},\"baxis\":{\"gridcolor\":\"#DFE8F3\",\"linecolor\":\"#A2B1C6\",\"ticks\":\"\"},\"bgcolor\":\"white\",\"caxis\":{\"gridcolor\":\"#DFE8F3\",\"linecolor\":\"#A2B1C6\",\"ticks\":\"\"}},\"title\":{\"x\":0.05},\"xaxis\":{\"automargin\":true,\"gridcolor\":\"#EBF0F8\",\"linecolor\":\"#EBF0F8\",\"ticks\":\"\",\"title\":{\"standoff\":15},\"zerolinecolor\":\"#EBF0F8\",\"zerolinewidth\":2},\"yaxis\":{\"automargin\":true,\"gridcolor\":\"#EBF0F8\",\"linecolor\":\"#EBF0F8\",\"ticks\":\"\",\"title\":{\"standoff\":15},\"zerolinecolor\":\"#EBF0F8\",\"zerolinewidth\":2}}},\"xaxis\":{\"anchor\":\"y\",\"domain\":[0.0,1.0],\"title\":{\"text\":\"\"}},\"yaxis\":{\"anchor\":\"x\",\"domain\":[0.0,1.0],\"title\":{\"text\":\"binning\"},\"categoryorder\":\"array\",\"categoryarray\":[\"target\",\"source\"]},\"legend\":{\"title\":{\"text\":\"binning\"},\"tracegroupgap\":0},\"margin\":{\"t\":60},\"height\":250,\"width\":700,\"shapes\":[{\"line\":{\"color\":\"blue\",\"dash\":\"dash\",\"width\":0.5},\"type\":\"line\",\"x0\":10.0,\"x1\":10.0,\"xref\":\"x\",\"y0\":0,\"y1\":1,\"yref\":\"y domain\"},{\"line\":{\"color\":\"blue\",\"dash\":\"dash\",\"width\":0.5},\"type\":\"line\",\"x0\":25.0,\"x1\":25.0,\"xref\":\"x\",\"y0\":0,\"y1\":1,\"yref\":\"y domain\"},{\"line\":{\"color\":\"blue\",\"dash\":\"dash\",\"width\":0.5},\"type\":\"line\",\"x0\":50.0,\"x1\":50.0,\"xref\":\"x\",\"y0\":0,\"y1\":1,\"yref\":\"y domain\"},{\"line\":{\"color\":\"blue\",\"dash\":\"dash\",\"width\":0.5},\"type\":\"line\",\"x0\":25.0,\"x1\":25.0,\"xref\":\"x\",\"y0\":0,\"y1\":1,\"yref\":\"y domain\"},{\"line\":{\"color\":\"blue\",\"dash\":\"dash\",\"width\":0.5},\"type\":\"line\",\"x0\":50.0,\"x1\":50.0,\"xref\":\"x\",\"y0\":0,\"y1\":1,\"yref\":\"y domain\"},{\"line\":{\"color\":\"blue\",\"dash\":\"dash\",\"width\":0.5},\"type\":\"line\",\"x0\":75.0,\"x1\":75.0,\"xref\":\"x\",\"y0\":0,\"y1\":1,\"yref\":\"y domain\"}],\"annotations\":[{\"font\":{\"color\":\"blue\"},\"showarrow\":false,\"text\":\"Bin 1\\u003cbr\\u003e\\u003cbr\\u003eLift: 40.00%\",\"x\":17.5,\"y\":\"source\",\"yshift\":0},{\"font\":{\"color\":\"blue\"},\"showarrow\":false,\"text\":\"Bin 2\\u003cbr\\u003e\\u003cbr\\u003eLift: -10.00%\",\"x\":37.5,\"y\":\"source\",\"yshift\":0},{\"font\":{\"color\":\"blue\"},\"showarrow\":false,\"text\":\"Bin 3\\u003cbr\\u003e\\u003cbr\\u003eLift: 200.00%\",\"x\":62.5,\"y\":\"source\",\"yshift\":0},{\"font\":{\"color\":\"red\"},\"showarrow\":false,\"text\":\"Bin 1\",\"x\":27.5,\"y\":\"target\",\"yshift\":-10},{\"font\":{\"color\":\"red\"},\"showarrow\":false,\"text\":\"Bin 2\",\"x\":42.5,\"y\":\"target\",\"yshift\":-10},{\"font\":{\"color\":\"red\"},\"showarrow\":false,\"text\":\"Bin 3\",\"x\":57.5,\"y\":\"target\",\"yshift\":-10},{\"font\":{\"color\":\"red\"},\"showarrow\":false,\"text\":\"Bin 4\",\"x\":72.5,\"y\":\"target\",\"yshift\":-10}]},                        {\"responsive\": true}                    ).then(function(){\n",
       "                            \n",
       "var gd = document.getElementById('fd426852-7c77-4dec-9b54-2c78056fdf3a');\n",
       "var x = new MutationObserver(function (mutations, observer) {{\n",
       "        var display = window.getComputedStyle(gd).display;\n",
       "        if (!display || display === 'none') {{\n",
       "            console.log([gd, 'removed!']);\n",
       "            Plotly.purge(gd);\n",
       "            observer.disconnect();\n",
       "        }}\n",
       "}});\n",
       "\n",
       "// Listen for the removal of the full notebook cells\n",
       "var notebookContainer = gd.closest('#notebook-container');\n",
       "if (notebookContainer) {{\n",
       "    x.observe(notebookContainer, {childList: true});\n",
       "}}\n",
       "\n",
       "// Listen for the clearing of the current output cell\n",
       "var outputEl = gd.closest('.output');\n",
       "if (outputEl) {{\n",
       "    x.observe(outputEl, {childList: true});\n",
       "}}\n",
       "\n",
       "                        })                };                });            </script>        </div>"
      ]
     },
     "metadata": {},
     "output_type": "display_data"
    }
   ],
   "source": [
    "# For PDS tools example keep dm as above but the subset argument is important\n",
    "myAggregator = BinAggregator(dm)\n",
    "\n",
    "target = myAggregator.create_empty_numbinning(\"Customer.Age\", 4, minimum=20, maximum=80)\n",
    "source = pl.DataFrame(\n",
    "    {\n",
    "        \"ModelID\": [1] * 3,\n",
    "        \"PredictorName\": [\"Customer.Age\"] * 3,\n",
    "        \"BinIndex\": [1, 2, 3],\n",
    "        \"BinLowerBound\": [10.0, 25.0, 50.0],\n",
    "        \"BinUpperBound\": [25.0, 50.0, 75.0],\n",
    "        # \"BinSymbol\" : [\"20-25\", \"25-50\", \"50-75\"],\n",
    "        \"Lift\": [0.4, -0.1, 2.0],\n",
    "        \"BinResponses\": [100, 1000, 400],\n",
    "    }\n",
    ")\n",
    "myAggregator.plot_binning_attribution(source, target).update_layout(width=700)"
   ]
  },
  {
   "cell_type": "markdown",
   "metadata": {},
   "source": [
    "The result of mapping the source binning onto this target is shown below. \n",
    "The resulting **Lift** is the average lift of the overlapping segments, weighted by overlap. It is not weighed by response count like we usually do for model performance etc, as this would skew the numbers heavily towards the positive bins (as generally the actions will be selected where the bins are scoring higher). The **BinResponses** is an indication of the number of responses (postive plus negative) for the bin (but is not used, only provided for additional insights). **BinCoverage** is the sum of the coverage by all the models for this new bin. It cannot be higher than the number of models (**Models**) - some models are empty and not taken into account at all, or they have a value range smaller than the combined binning."
   ]
  },
  {
   "cell_type": "code",
   "execution_count": 5,
   "metadata": {
    "execution": {
     "iopub.execute_input": "2024-10-22T12:35:59.989392Z",
     "iopub.status.busy": "2024-10-22T12:35:59.989037Z",
     "iopub.status.idle": "2024-10-22T12:35:59.995888Z",
     "shell.execute_reply": "2024-10-22T12:35:59.995314Z"
    }
   },
   "outputs": [
    {
     "data": {
      "text/html": [
       "<div><style>\n",
       ".dataframe > thead > tr,\n",
       ".dataframe > tbody > tr {\n",
       "  text-align: right;\n",
       "  white-space: pre-wrap;\n",
       "}\n",
       "</style>\n",
       "<small>shape: (4, 9)</small><table border=\"1\" class=\"dataframe\"><thead><tr><th>PredictorName</th><th>BinIndex</th><th>BinLowerBound</th><th>BinUpperBound</th><th>BinSymbol</th><th>Lift</th><th>BinResponses</th><th>BinCoverage</th><th>Models</th></tr><tr><td>str</td><td>i64</td><td>f64</td><td>f64</td><td>str</td><td>f64</td><td>f64</td><td>f64</td><td>i32</td></tr></thead><tbody><tr><td>&quot;Customer.Age&quot;</td><td>1</td><td>20.0</td><td>35.0</td><td>&quot;&lt;35.0&quot;</td><td>0.066667</td><td>433.333333</td><td>1.0</td><td>1</td></tr><tr><td>&quot;Customer.Age&quot;</td><td>2</td><td>35.0</td><td>50.0</td><td>&quot;&lt;50.0&quot;</td><td>-0.1</td><td>600.0</td><td>1.0</td><td>1</td></tr><tr><td>&quot;Customer.Age&quot;</td><td>3</td><td>50.0</td><td>65.0</td><td>&quot;&lt;65.0&quot;</td><td>2.0</td><td>240.0</td><td>1.0</td><td>1</td></tr><tr><td>&quot;Customer.Age&quot;</td><td>4</td><td>65.0</td><td>80.0</td><td>&quot;&lt;80.0&quot;</td><td>2.0</td><td>160.0</td><td>0.666667</td><td>1</td></tr></tbody></table></div>"
      ],
      "text/plain": [
       "shape: (4, 9)\n",
       "┌────────────┬──────────┬────────────┬────────────┬───┬──────────┬────────────┬───────────┬────────┐\n",
       "│ PredictorN ┆ BinIndex ┆ BinLowerBo ┆ BinUpperBo ┆ … ┆ Lift     ┆ BinRespons ┆ BinCovera ┆ Models │\n",
       "│ ame        ┆ ---      ┆ und        ┆ und        ┆   ┆ ---      ┆ es         ┆ ge        ┆ ---    │\n",
       "│ ---        ┆ i64      ┆ ---        ┆ ---        ┆   ┆ f64      ┆ ---        ┆ ---       ┆ i32    │\n",
       "│ str        ┆          ┆ f64        ┆ f64        ┆   ┆          ┆ f64        ┆ f64       ┆        │\n",
       "╞════════════╪══════════╪════════════╪════════════╪═══╪══════════╪════════════╪═══════════╪════════╡\n",
       "│ Customer.A ┆ 1        ┆ 20.0       ┆ 35.0       ┆ … ┆ 0.066667 ┆ 433.333333 ┆ 1.0       ┆ 1      │\n",
       "│ ge         ┆          ┆            ┆            ┆   ┆          ┆            ┆           ┆        │\n",
       "│ Customer.A ┆ 2        ┆ 35.0       ┆ 50.0       ┆ … ┆ -0.1     ┆ 600.0      ┆ 1.0       ┆ 1      │\n",
       "│ ge         ┆          ┆            ┆            ┆   ┆          ┆            ┆           ┆        │\n",
       "│ Customer.A ┆ 3        ┆ 50.0       ┆ 65.0       ┆ … ┆ 2.0      ┆ 240.0      ┆ 1.0       ┆ 1      │\n",
       "│ ge         ┆          ┆            ┆            ┆   ┆          ┆            ┆           ┆        │\n",
       "│ Customer.A ┆ 4        ┆ 65.0       ┆ 80.0       ┆ … ┆ 2.0      ┆ 160.0      ┆ 0.666667  ┆ 1      │\n",
       "│ ge         ┆          ┆            ┆            ┆   ┆          ┆            ┆           ┆        │\n",
       "└────────────┴──────────┴────────────┴────────────┴───┴──────────┴────────────┴───────────┴────────┘"
      ]
     },
     "execution_count": 5,
     "metadata": {},
     "output_type": "execute_result"
    }
   ],
   "source": [
    "myAggregator.combine_two_numbinnings(source, target)"
   ]
  },
  {
   "cell_type": "markdown",
   "metadata": {},
   "source": [
    "So you can roll up Age over all of the models in this sample data set and visualize how age affects propensity across all models:"
   ]
  },
  {
   "cell_type": "code",
   "execution_count": 6,
   "metadata": {
    "execution": {
     "iopub.execute_input": "2024-10-22T12:35:59.997857Z",
     "iopub.status.busy": "2024-10-22T12:35:59.997430Z",
     "iopub.status.idle": "2024-10-22T12:36:00.120666Z",
     "shell.execute_reply": "2024-10-22T12:36:00.120055Z"
    }
   },
   "outputs": [
    {
     "data": {
      "text/html": [
       "<div>                            <div id=\"da9032bb-b130-4017-ad0c-e91882692096\" class=\"plotly-graph-div\" style=\"height:300px; width:600px;\"></div>            <script type=\"text/javascript\">                require([\"plotly\"], function(Plotly) {                    window.PLOTLYENV=window.PLOTLYENV || {};                                    if (document.getElementById(\"da9032bb-b130-4017-ad0c-e91882692096\")) {                    Plotly.newPlot(                        \"da9032bb-b130-4017-ad0c-e91882692096\",                        [{\"alignmentgroup\":\"True\",\"customdata\":[[\"Customer.Age\",\"\\u003c24.0\",0.9916666666666666,2407.832060596152],[\"Customer.Age\",\"\\u003c30.0\",1.0,3929.821488827346],[\"Customer.Age\",\"\\u003c54.0\",1.0,3774.6789587887847],[\"Customer.Age\",\"\\u003c60.0\",1.0,1469.6187810832494],[\"Customer.Age\",\"\\u003c66.0\",1.0,1001.5007948345176],[\"Customer.Age\",\"\\u003c72.0\",0.975,1001.5007948345176],[\"Customer.Age\",\"\\u003c78.0\",0.9333333333333333,906.4364140393087]],\"hovertemplate\":\"\\u003cb\\u003e%{customdata[0]}\\u003c\\u002fb\\u003e\\u003cbr\\u003e\\u003cb\\u003e%{customdata[1]}\\u003c\\u002fb\\u003e\\u003cbr\\u003e\\u003cb\\u003eLift: %{x:.2%}\\u003c\\u002fb\\u003e\\u003cbr\\u003eCoverage: %{customdata[2]:.2%}\\u003cbr\\u003eAttributed Responses: %{customdata[3]:.2f}\",\"legendgroup\":\"pos\",\"marker\":{\"color\":\"#5F9F37\",\"pattern\":{\"shape\":\"\"}},\"name\":\"pos\",\"offsetgroup\":\"pos\",\"orientation\":\"h\",\"showlegend\":true,\"textposition\":\"auto\",\"x\":[0.42120621812754727,0.0901427039270719,0.26038574790414176,0.3732155566449165,0.33113205,0.3396226153846153,0.353823625],\"xaxis\":\"x\",\"y\":[\"\\u003c24.0\",\"\\u003c30.0\",\"\\u003c54.0\",\"\\u003c60.0\",\"\\u003c66.0\",\"\\u003c72.0\",\"\\u003c78.0\"],\"yaxis\":\"y\",\"type\":\"bar\"},{\"alignmentgroup\":\"True\",\"customdata\":[[\"Customer.Age\",\"\\u003c36.0\",1.0,6070.309319634542],[\"Customer.Age\",\"\\u003c42.0\",1.0,7844.387419462578],[\"Customer.Age\",\"\\u003c48.0\",1.0,6838.913967899006]],\"hovertemplate\":\"\\u003cb\\u003e%{customdata[0]}\\u003c\\u002fb\\u003e\\u003cbr\\u003e\\u003cb\\u003e%{customdata[1]}\\u003c\\u002fb\\u003e\\u003cbr\\u003e\\u003cb\\u003eLift: %{x:.2%}\\u003c\\u002fb\\u003e\\u003cbr\\u003eCoverage: %{customdata[2]:.2%}\\u003cbr\\u003eAttributed Responses: %{customdata[3]:.2f}\",\"legendgroup\":\"neg\",\"marker\":{\"color\":\"#A01503\",\"pattern\":{\"shape\":\"\"}},\"name\":\"neg\",\"offsetgroup\":\"neg\",\"orientation\":\"h\",\"showlegend\":true,\"textposition\":\"auto\",\"x\":[-0.14888281428939504,-0.20378680869690577,-0.013911905947971337],\"xaxis\":\"x\",\"y\":[\"\\u003c36.0\",\"\\u003c42.0\",\"\\u003c48.0\"],\"yaxis\":\"y\",\"type\":\"bar\"}],                        {\"template\":{\"layout\":{\"colorway\":[\"#001F5F\",\"#10A5AC\",\"#F76923\",\"#661D34\",\"#86CAC6\",\"#005154\",\"#86CAC6\",\"#5F67B9\",\"#FFC836\",\"#E63690\",\"#AC1361\",\"#63666F\",\"#A7A9B4\",\"#D0D1DB\"],\"hovermode\":\"closest\"}},\"xaxis\":{\"anchor\":\"y\",\"domain\":[0.0,1.0],\"title\":{\"text\":\"\"},\"tickformat\":\",.2%\"},\"yaxis\":{\"anchor\":\"x\",\"domain\":[0.0,1.0],\"title\":{\"text\":\"\"},\"type\":\"category\",\"categoryorder\":\"array\",\"categoryarray\":[\"\\u003c24.0\",\"\\u003c30.0\",\"\\u003c36.0\",\"\\u003c42.0\",\"\\u003c48.0\",\"\\u003c54.0\",\"\\u003c60.0\",\"\\u003c66.0\",\"\\u003c72.0\",\"\\u003c78.0\"],\"automargin\":true,\"autorange\":\"reversed\",\"dtick\":1},\"legend\":{\"title\":{\"text\":\"Direction\"},\"tracegroupgap\":0},\"margin\":{\"t\":60},\"barmode\":\"relative\",\"shapes\":[{\"line\":{\"color\":\"black\"},\"type\":\"line\",\"x0\":0,\"x1\":0,\"xref\":\"x\",\"y0\":0,\"y1\":1,\"yref\":\"y domain\"}],\"showlegend\":false,\"title\":{\"text\":\"Propensity lift of \\u003cb\\u003eCustomer.Age\\u003c\\u002fb\\u003e\\u003cbr\\u003ein 20 models across 3 channels\"},\"hovermode\":\"y\",\"height\":300,\"width\":600},                        {\"responsive\": true}                    ).then(function(){\n",
       "                            \n",
       "var gd = document.getElementById('da9032bb-b130-4017-ad0c-e91882692096');\n",
       "var x = new MutationObserver(function (mutations, observer) {{\n",
       "        var display = window.getComputedStyle(gd).display;\n",
       "        if (!display || display === 'none') {{\n",
       "            console.log([gd, 'removed!']);\n",
       "            Plotly.purge(gd);\n",
       "            observer.disconnect();\n",
       "        }}\n",
       "}});\n",
       "\n",
       "// Listen for the removal of the full notebook cells\n",
       "var notebookContainer = gd.closest('#notebook-container');\n",
       "if (notebookContainer) {{\n",
       "    x.observe(notebookContainer, {childList: true});\n",
       "}}\n",
       "\n",
       "// Listen for the clearing of the current output cell\n",
       "var outputEl = gd.closest('.output');\n",
       "if (outputEl) {{\n",
       "    x.observe(outputEl, {childList: true});\n",
       "}}\n",
       "\n",
       "                        })                };                });            </script>        </div>"
      ]
     },
     "metadata": {},
     "output_type": "display_data"
    }
   ],
   "source": [
    "fig = myAggregator.roll_up(\"Customer.Age\")\n",
    "fig.update_layout(height=300, width=600)\n",
    "fig.show()"
   ]
  },
  {
   "cell_type": "markdown",
   "metadata": {},
   "source": [
    "The above is a view across *all* models in *all* channels and may not be that meaningful. It roughly says that both young and elderly people are more likely to respond than middle-agers. That in itself may not be that insightful.\n",
    "\n",
    "It generally is much more useful to compare this distribution across different issues, groups or other dimensions of interest. For example, showing how Age has a different relation with different groups of actions can be done with the following:"
   ]
  },
  {
   "cell_type": "code",
   "execution_count": 7,
   "metadata": {
    "execution": {
     "iopub.execute_input": "2024-10-22T12:36:00.122605Z",
     "iopub.status.busy": "2024-10-22T12:36:00.122231Z",
     "iopub.status.idle": "2024-10-22T12:36:00.313012Z",
     "shell.execute_reply": "2024-10-22T12:36:00.312514Z"
    }
   },
   "outputs": [
    {
     "data": {
      "text/html": [
       "<div>                            <div id=\"e2440b8b-cc43-4c47-8dcc-3730abf55186\" class=\"plotly-graph-div\" style=\"height:500px; width:100%;\"></div>            <script type=\"text/javascript\">                require([\"plotly\"], function(Plotly) {                    window.PLOTLYENV=window.PLOTLYENV || {};                                    if (document.getElementById(\"e2440b8b-cc43-4c47-8dcc-3730abf55186\")) {                    Plotly.newPlot(                        \"e2440b8b-cc43-4c47-8dcc-3730abf55186\",                        [{\"alignmentgroup\":\"True\",\"customdata\":[[\"Customer.Age\",\"\\u003c32.0\",1.0,4398.940697843971],[\"Customer.Age\",\"\\u003c56.0\",1.0000000000000002,4540.748856338725],[\"Customer.Age\",\"\\u003c68.0\",1.0,1272.3627682949789],[\"Customer.Age\",\"\\u003c80.0\",0.8166666666666667,965.2379261172734]],\"hovertemplate\":\"\\u003cb\\u003e%{customdata[0]}\\u003c\\u002fb\\u003e\\u003cbr\\u003e\\u003cb\\u003e%{customdata[1]}\\u003c\\u002fb\\u003e\\u003cbr\\u003e\\u003cb\\u003eLift: %{x:.2%}\\u003c\\u002fb\\u003e\\u003cbr\\u003eCoverage: %{customdata[2]:.2%}\\u003cbr\\u003eAttributed Responses: %{customdata[3]:.2f}\",\"legendgroup\":\"pos\",\"marker\":{\"color\":\"#5F9F37\",\"pattern\":{\"shape\":\"\"}},\"name\":\"pos\",\"offsetgroup\":\"pos\",\"orientation\":\"h\",\"showlegend\":true,\"textposition\":\"auto\",\"x\":[0.22964337949938782,0.2810446890594801,0.5011783999999999,0.5103085714285714],\"xaxis\":\"x4\",\"y\":[\"\\u003c32.0\",\"\\u003c56.0\",\"\\u003c68.0\",\"\\u003c80.0\"],\"yaxis\":\"y4\",\"type\":\"bar\"},{\"alignmentgroup\":\"True\",\"customdata\":[[\"Customer.Age\",\"\\u003c32.0\",1.0,995.7249514753628],[\"Customer.Age\",\"\\u003c56.0\",0.9999999999999999,1350.110244288721],[\"Customer.Age\",\"\\u003c68.0\",1.0,251.37011171440537],[\"Customer.Age\",\"\\u003c80.0\",0.7261904761904762,209.47509309533783]],\"hovertemplate\":\"\\u003cb\\u003e%{customdata[0]}\\u003c\\u002fb\\u003e\\u003cbr\\u003e\\u003cb\\u003e%{customdata[1]}\\u003c\\u002fb\\u003e\\u003cbr\\u003e\\u003cb\\u003eLift: %{x:.2%}\\u003c\\u002fb\\u003e\\u003cbr\\u003eCoverage: %{customdata[2]:.2%}\\u003cbr\\u003eAttributed Responses: %{customdata[3]:.2f}\",\"legendgroup\":\"pos\",\"marker\":{\"color\":\"#5F9F37\",\"pattern\":{\"shape\":\"\"}},\"name\":\"pos\",\"offsetgroup\":\"pos\",\"orientation\":\"h\",\"showlegend\":false,\"textposition\":\"auto\",\"x\":[0.11058961957743055,0.04731295866294136,0.14598728571428574,0.167526393442623],\"xaxis\":\"x5\",\"y\":[\"\\u003c32.0\",\"\\u003c56.0\",\"\\u003c68.0\",\"\\u003c80.0\"],\"yaxis\":\"y5\",\"type\":\"bar\"},{\"alignmentgroup\":\"True\",\"customdata\":[[\"Customer.Age\",\"\\u003c32.0\",1.0,247.67672631723053],[\"Customer.Age\",\"\\u003c56.0\",1.0,82.98937861455805],[\"Customer.Age\",\"\\u003c68.0\",1.0,81.36792892067004],[\"Customer.Age\",\"\\u003c80.0\",0.8333333333333334,67.8066074338917]],\"hovertemplate\":\"\\u003cb\\u003e%{customdata[0]}\\u003c\\u002fb\\u003e\\u003cbr\\u003e\\u003cb\\u003e%{customdata[1]}\\u003c\\u002fb\\u003e\\u003cbr\\u003e\\u003cb\\u003eLift: %{x:.2%}\\u003c\\u002fb\\u003e\\u003cbr\\u003eCoverage: %{customdata[2]:.2%}\\u003cbr\\u003eAttributed Responses: %{customdata[3]:.2f}\",\"legendgroup\":\"pos\",\"marker\":{\"color\":\"#5F9F37\",\"pattern\":{\"shape\":\"\"}},\"name\":\"pos\",\"offsetgroup\":\"pos\",\"orientation\":\"h\",\"showlegend\":false,\"textposition\":\"auto\",\"x\":[0.038872535699844335,0.9969867549819947,1.007692,1.007692],\"xaxis\":\"x6\",\"y\":[\"\\u003c32.0\",\"\\u003c56.0\",\"\\u003c68.0\",\"\\u003c80.0\"],\"yaxis\":\"y6\",\"type\":\"bar\"},{\"alignmentgroup\":\"True\",\"customdata\":[[\"Customer.Age\",\"\\u003c32.0\",0.9999999999999999,1749.9216277382177],[\"Customer.Age\",\"\\u003c56.0\",1.0,2843.3392708963015]],\"hovertemplate\":\"\\u003cb\\u003e%{customdata[0]}\\u003c\\u002fb\\u003e\\u003cbr\\u003e\\u003cb\\u003e%{customdata[1]}\\u003c\\u002fb\\u003e\\u003cbr\\u003e\\u003cb\\u003eLift: %{x:.2%}\\u003c\\u002fb\\u003e\\u003cbr\\u003eCoverage: %{customdata[2]:.2%}\\u003cbr\\u003eAttributed Responses: %{customdata[3]:.2f}\",\"legendgroup\":\"pos\",\"marker\":{\"color\":\"#5F9F37\",\"pattern\":{\"shape\":\"\"}},\"name\":\"pos\",\"offsetgroup\":\"pos\",\"orientation\":\"h\",\"showlegend\":false,\"textposition\":\"auto\",\"x\":[0.15535527697801593,0.2443972354219755],\"xaxis\":\"x\",\"y\":[\"\\u003c32.0\",\"\\u003c56.0\"],\"yaxis\":\"y\",\"type\":\"bar\"},{\"alignmentgroup\":\"True\",\"customdata\":[[\"Customer.Age\",\"\\u003c44.0\",1.0,8280.450496146754]],\"hovertemplate\":\"\\u003cb\\u003e%{customdata[0]}\\u003c\\u002fb\\u003e\\u003cbr\\u003e\\u003cb\\u003e%{customdata[1]}\\u003c\\u002fb\\u003e\\u003cbr\\u003e\\u003cb\\u003eLift: %{x:.2%}\\u003c\\u002fb\\u003e\\u003cbr\\u003eCoverage: %{customdata[2]:.2%}\\u003cbr\\u003eAttributed Responses: %{customdata[3]:.2f}\",\"legendgroup\":\"neg\",\"marker\":{\"color\":\"#A01503\",\"pattern\":{\"shape\":\"\"}},\"name\":\"neg\",\"offsetgroup\":\"neg\",\"orientation\":\"h\",\"showlegend\":true,\"textposition\":\"auto\",\"x\":[-0.26150548329296114],\"xaxis\":\"x4\",\"y\":[\"\\u003c44.0\"],\"yaxis\":\"y4\",\"type\":\"bar\"},{\"alignmentgroup\":\"True\",\"customdata\":[[\"Customer.Age\",\"\\u003c44.0\",1.0,1975.0713249752416]],\"hovertemplate\":\"\\u003cb\\u003e%{customdata[0]}\\u003c\\u002fb\\u003e\\u003cbr\\u003e\\u003cb\\u003e%{customdata[1]}\\u003c\\u002fb\\u003e\\u003cbr\\u003e\\u003cb\\u003eLift: %{x:.2%}\\u003c\\u002fb\\u003e\\u003cbr\\u003eCoverage: %{customdata[2]:.2%}\\u003cbr\\u003eAttributed Responses: %{customdata[3]:.2f}\",\"legendgroup\":\"neg\",\"marker\":{\"color\":\"#A01503\",\"pattern\":{\"shape\":\"\"}},\"name\":\"neg\",\"offsetgroup\":\"neg\",\"orientation\":\"h\",\"showlegend\":false,\"textposition\":\"auto\",\"x\":[-0.07862275906748999],\"xaxis\":\"x5\",\"y\":[\"\\u003c44.0\"],\"yaxis\":\"y5\",\"type\":\"bar\"},{\"alignmentgroup\":\"True\",\"customdata\":[[\"Customer.Age\",\"\\u003c44.0\",1.0,324.5798163255411]],\"hovertemplate\":\"\\u003cb\\u003e%{customdata[0]}\\u003c\\u002fb\\u003e\\u003cbr\\u003e\\u003cb\\u003e%{customdata[1]}\\u003c\\u002fb\\u003e\\u003cbr\\u003e\\u003cb\\u003eLift: %{x:.2%}\\u003c\\u002fb\\u003e\\u003cbr\\u003eCoverage: %{customdata[2]:.2%}\\u003cbr\\u003eAttributed Responses: %{customdata[3]:.2f}\",\"legendgroup\":\"neg\",\"marker\":{\"color\":\"#A01503\",\"pattern\":{\"shape\":\"\"}},\"name\":\"neg\",\"offsetgroup\":\"neg\",\"orientation\":\"h\",\"showlegend\":false,\"textposition\":\"auto\",\"x\":[-0.598058],\"xaxis\":\"x6\",\"y\":[\"\\u003c44.0\"],\"yaxis\":\"y6\",\"type\":\"bar\"},{\"alignmentgroup\":\"True\",\"customdata\":[[\"Customer.Age\",\"\\u003c44.0\",0.9999999999999999,3979.820578008992],[\"Customer.Age\",\"\\u003c68.0\",1.0,502.6503448636513],[\"Customer.Age\",\"\\u003c80.0\",0.8333333333333334,331.58398394915093]],\"hovertemplate\":\"\\u003cb\\u003e%{customdata[0]}\\u003c\\u002fb\\u003e\\u003cbr\\u003e\\u003cb\\u003e%{customdata[1]}\\u003c\\u002fb\\u003e\\u003cbr\\u003e\\u003cb\\u003eLift: %{x:.2%}\\u003c\\u002fb\\u003e\\u003cbr\\u003eCoverage: %{customdata[2]:.2%}\\u003cbr\\u003eAttributed Responses: %{customdata[3]:.2f}\",\"legendgroup\":\"neg\",\"marker\":{\"color\":\"#A01503\",\"pattern\":{\"shape\":\"\"}},\"name\":\"neg\",\"offsetgroup\":\"neg\",\"orientation\":\"h\",\"showlegend\":false,\"textposition\":\"auto\",\"x\":[-0.12478602362251286,-0.13927828162797296,-0.20937300000000003],\"xaxis\":\"x\",\"y\":[\"\\u003c44.0\",\"\\u003c68.0\",\"\\u003c80.0\"],\"yaxis\":\"y\",\"type\":\"bar\"}],                        {\"template\":{\"layout\":{\"colorway\":[\"#001F5F\",\"#10A5AC\",\"#F76923\",\"#661D34\",\"#86CAC6\",\"#005154\",\"#86CAC6\",\"#5F67B9\",\"#FFC836\",\"#E63690\",\"#AC1361\",\"#63666F\",\"#A7A9B4\",\"#D0D1DB\"],\"hovermode\":\"closest\"}},\"xaxis\":{\"anchor\":\"y\",\"domain\":[0.0,0.31999999999999995],\"title\":{\"text\":\"\"},\"tickformat\":\",.2%\"},\"yaxis\":{\"anchor\":\"x\",\"domain\":[0.0,0.46499999999999997],\"title\":{\"text\":\"\"},\"type\":\"category\",\"categoryorder\":\"array\",\"categoryarray\":[\"\\u003c32.0\",\"\\u003c32.0\",\"\\u003c32.0\",\"\\u003c32.0\",\"\\u003c44.0\",\"\\u003c44.0\",\"\\u003c44.0\",\"\\u003c44.0\",\"\\u003c56.0\",\"\\u003c56.0\",\"\\u003c56.0\",\"\\u003c56.0\",\"\\u003c68.0\",\"\\u003c68.0\",\"\\u003c68.0\",\"\\u003c68.0\",\"\\u003c80.0\",\"\\u003c80.0\",\"\\u003c80.0\",\"\\u003c80.0\"],\"automargin\":true,\"autorange\":\"reversed\",\"dtick\":1},\"xaxis2\":{\"anchor\":\"y2\",\"domain\":[0.33999999999999997,0.6599999999999999],\"matches\":\"x\",\"title\":{\"text\":\"\"},\"tickformat\":\",.2%\"},\"yaxis2\":{\"anchor\":\"x2\",\"domain\":[0.0,0.46499999999999997],\"showticklabels\":false,\"type\":\"category\",\"categoryorder\":\"array\",\"categoryarray\":[\"\\u003c32.0\",\"\\u003c32.0\",\"\\u003c32.0\",\"\\u003c32.0\",\"\\u003c44.0\",\"\\u003c44.0\",\"\\u003c44.0\",\"\\u003c44.0\",\"\\u003c56.0\",\"\\u003c56.0\",\"\\u003c56.0\",\"\\u003c56.0\",\"\\u003c68.0\",\"\\u003c68.0\",\"\\u003c68.0\",\"\\u003c68.0\",\"\\u003c80.0\",\"\\u003c80.0\",\"\\u003c80.0\",\"\\u003c80.0\"],\"automargin\":true,\"autorange\":\"reversed\",\"title\":{\"text\":\"\"},\"dtick\":1},\"xaxis3\":{\"anchor\":\"y3\",\"domain\":[0.6799999999999999,0.9999999999999999],\"matches\":\"x\",\"title\":{\"text\":\"\"},\"tickformat\":\",.2%\"},\"yaxis3\":{\"anchor\":\"x3\",\"domain\":[0.0,0.46499999999999997],\"showticklabels\":false,\"type\":\"category\",\"categoryorder\":\"array\",\"categoryarray\":[\"\\u003c32.0\",\"\\u003c32.0\",\"\\u003c32.0\",\"\\u003c32.0\",\"\\u003c44.0\",\"\\u003c44.0\",\"\\u003c44.0\",\"\\u003c44.0\",\"\\u003c56.0\",\"\\u003c56.0\",\"\\u003c56.0\",\"\\u003c56.0\",\"\\u003c68.0\",\"\\u003c68.0\",\"\\u003c68.0\",\"\\u003c68.0\",\"\\u003c80.0\",\"\\u003c80.0\",\"\\u003c80.0\",\"\\u003c80.0\"],\"automargin\":true,\"autorange\":\"reversed\",\"title\":{\"text\":\"\"},\"dtick\":1},\"xaxis4\":{\"anchor\":\"y4\",\"domain\":[0.0,0.31999999999999995],\"matches\":\"x\",\"showticklabels\":false,\"title\":{\"text\":\"\"},\"tickformat\":\",.2%\"},\"yaxis4\":{\"anchor\":\"x4\",\"domain\":[0.5349999999999999,0.9999999999999999],\"title\":{\"text\":\"\"},\"type\":\"category\",\"categoryorder\":\"array\",\"categoryarray\":[\"\\u003c32.0\",\"\\u003c32.0\",\"\\u003c32.0\",\"\\u003c32.0\",\"\\u003c44.0\",\"\\u003c44.0\",\"\\u003c44.0\",\"\\u003c44.0\",\"\\u003c56.0\",\"\\u003c56.0\",\"\\u003c56.0\",\"\\u003c56.0\",\"\\u003c68.0\",\"\\u003c68.0\",\"\\u003c68.0\",\"\\u003c68.0\",\"\\u003c80.0\",\"\\u003c80.0\",\"\\u003c80.0\",\"\\u003c80.0\"],\"automargin\":true,\"autorange\":\"reversed\",\"dtick\":1},\"xaxis5\":{\"anchor\":\"y5\",\"domain\":[0.33999999999999997,0.6599999999999999],\"matches\":\"x\",\"showticklabels\":false,\"title\":{\"text\":\"\"},\"tickformat\":\",.2%\"},\"yaxis5\":{\"anchor\":\"x5\",\"domain\":[0.5349999999999999,0.9999999999999999],\"showticklabels\":false,\"type\":\"category\",\"categoryorder\":\"array\",\"categoryarray\":[\"\\u003c32.0\",\"\\u003c32.0\",\"\\u003c32.0\",\"\\u003c32.0\",\"\\u003c44.0\",\"\\u003c44.0\",\"\\u003c44.0\",\"\\u003c44.0\",\"\\u003c56.0\",\"\\u003c56.0\",\"\\u003c56.0\",\"\\u003c56.0\",\"\\u003c68.0\",\"\\u003c68.0\",\"\\u003c68.0\",\"\\u003c68.0\",\"\\u003c80.0\",\"\\u003c80.0\",\"\\u003c80.0\",\"\\u003c80.0\"],\"automargin\":true,\"autorange\":\"reversed\",\"title\":{\"text\":\"\"},\"dtick\":1},\"xaxis6\":{\"anchor\":\"y6\",\"domain\":[0.6799999999999999,0.9999999999999999],\"matches\":\"x\",\"showticklabels\":false,\"title\":{\"text\":\"\"},\"tickformat\":\",.2%\"},\"yaxis6\":{\"anchor\":\"x6\",\"domain\":[0.5349999999999999,0.9999999999999999],\"showticklabels\":false,\"type\":\"category\",\"categoryorder\":\"array\",\"categoryarray\":[\"\\u003c32.0\",\"\\u003c32.0\",\"\\u003c32.0\",\"\\u003c32.0\",\"\\u003c44.0\",\"\\u003c44.0\",\"\\u003c44.0\",\"\\u003c44.0\",\"\\u003c56.0\",\"\\u003c56.0\",\"\\u003c56.0\",\"\\u003c56.0\",\"\\u003c68.0\",\"\\u003c68.0\",\"\\u003c68.0\",\"\\u003c68.0\",\"\\u003c80.0\",\"\\u003c80.0\",\"\\u003c80.0\",\"\\u003c80.0\"],\"automargin\":true,\"autorange\":\"reversed\",\"title\":{\"text\":\"\"},\"dtick\":1},\"annotations\":[{\"showarrow\":false,\"text\":\"Bundles\",\"x\":0.15999999999999998,\"xanchor\":\"center\",\"xref\":\"paper\",\"y\":0.46499999999999997,\"yanchor\":\"bottom\",\"yref\":\"paper\"},{\"showarrow\":false,\"text\":\"AutoLoans\",\"x\":0.15999999999999998,\"xanchor\":\"center\",\"xref\":\"paper\",\"y\":0.9999999999999999,\"yanchor\":\"bottom\",\"yref\":\"paper\"},{\"showarrow\":false,\"text\":\"HomeLoans\",\"x\":0.49999999999999994,\"xanchor\":\"center\",\"xref\":\"paper\",\"y\":0.9999999999999999,\"yanchor\":\"bottom\",\"yref\":\"paper\"},{\"showarrow\":false,\"text\":\"CreditCards\",\"x\":0.8399999999999999,\"xanchor\":\"center\",\"xref\":\"paper\",\"y\":0.9999999999999999,\"yanchor\":\"bottom\",\"yref\":\"paper\"}],\"legend\":{\"title\":{\"text\":\"Direction\"},\"tracegroupgap\":0},\"margin\":{\"t\":60},\"barmode\":\"relative\",\"shapes\":[{\"line\":{\"color\":\"black\"},\"type\":\"line\",\"x0\":0,\"x1\":0,\"xref\":\"x\",\"y0\":0,\"y1\":1,\"yref\":\"y domain\"},{\"line\":{\"color\":\"black\"},\"type\":\"line\",\"x0\":0,\"x1\":0,\"xref\":\"x4\",\"y0\":0,\"y1\":1,\"yref\":\"y4 domain\"},{\"line\":{\"color\":\"black\"},\"type\":\"line\",\"x0\":0,\"x1\":0,\"xref\":\"x5\",\"y0\":0,\"y1\":1,\"yref\":\"y5 domain\"},{\"line\":{\"color\":\"black\"},\"type\":\"line\",\"x0\":0,\"x1\":0,\"xref\":\"x6\",\"y0\":0,\"y1\":1,\"yref\":\"y6 domain\"}],\"showlegend\":false,\"title\":{\"text\":\"Propensity lift of \\u003cb\\u003eCustomer.Age\\u003c\\u002fb\\u003e in 20 models across 3 channels, split by \\u003cb\\u003eGroup\\u003c\\u002fb\\u003e\"},\"hovermode\":\"y\",\"height\":500},                        {\"responsive\": true}                    ).then(function(){\n",
       "                            \n",
       "var gd = document.getElementById('e2440b8b-cc43-4c47-8dcc-3730abf55186');\n",
       "var x = new MutationObserver(function (mutations, observer) {{\n",
       "        var display = window.getComputedStyle(gd).display;\n",
       "        if (!display || display === 'none') {{\n",
       "            console.log([gd, 'removed!']);\n",
       "            Plotly.purge(gd);\n",
       "            observer.disconnect();\n",
       "        }}\n",
       "}});\n",
       "\n",
       "// Listen for the removal of the full notebook cells\n",
       "var notebookContainer = gd.closest('#notebook-container');\n",
       "if (notebookContainer) {{\n",
       "    x.observe(notebookContainer, {childList: true});\n",
       "}}\n",
       "\n",
       "// Listen for the clearing of the current output cell\n",
       "var outputEl = gd.closest('.output');\n",
       "if (outputEl) {{\n",
       "    x.observe(outputEl, {childList: true});\n",
       "}}\n",
       "\n",
       "                        })                };                });            </script>        </div>"
      ]
     },
     "metadata": {},
     "output_type": "display_data"
    }
   ],
   "source": [
    "fig = myAggregator.roll_up(\n",
    "    \"Customer.Age\", minimum=20, maximum=80, n=5, aggregation=\"Group\"\n",
    ")\n",
    "fig.update_layout(height=500)\n",
    "fig.show()"
   ]
  },
  {
   "cell_type": "markdown",
   "metadata": {},
   "source": [
    "If you're interested in the underlying data rather than just the plot, use the 'return_df' argument - like in many of the PDS Tools plot functions."
   ]
  },
  {
   "cell_type": "code",
   "execution_count": 8,
   "metadata": {
    "execution": {
     "iopub.execute_input": "2024-10-22T12:36:00.314681Z",
     "iopub.status.busy": "2024-10-22T12:36:00.314491Z",
     "iopub.status.idle": "2024-10-22T12:36:00.449315Z",
     "shell.execute_reply": "2024-10-22T12:36:00.448776Z"
    }
   },
   "outputs": [
    {
     "data": {
      "text/html": [
       "<style type=\"text/css\">\n",
       "</style>\n",
       "<table id=\"T_0848a\">\n",
       "  <thead>\n",
       "    <tr>\n",
       "      <th id=\"T_0848a_level0_col0\" class=\"col_heading level0 col0\" >PredictorName</th>\n",
       "      <th id=\"T_0848a_level0_col1\" class=\"col_heading level0 col1\" >BinIndex</th>\n",
       "      <th id=\"T_0848a_level0_col2\" class=\"col_heading level0 col2\" >BinLowerBound</th>\n",
       "      <th id=\"T_0848a_level0_col3\" class=\"col_heading level0 col3\" >BinUpperBound</th>\n",
       "      <th id=\"T_0848a_level0_col4\" class=\"col_heading level0 col4\" >BinSymbol</th>\n",
       "      <th id=\"T_0848a_level0_col5\" class=\"col_heading level0 col5\" >Lift</th>\n",
       "      <th id=\"T_0848a_level0_col6\" class=\"col_heading level0 col6\" >BinResponses</th>\n",
       "      <th id=\"T_0848a_level0_col7\" class=\"col_heading level0 col7\" >BinCoverage</th>\n",
       "      <th id=\"T_0848a_level0_col8\" class=\"col_heading level0 col8\" >Models</th>\n",
       "      <th id=\"T_0848a_level0_col9\" class=\"col_heading level0 col9\" >Group</th>\n",
       "    </tr>\n",
       "  </thead>\n",
       "  <tbody>\n",
       "    <tr>\n",
       "      <td id=\"T_0848a_row0_col0\" class=\"data row0 col0\" >Customer.Age</td>\n",
       "      <td id=\"T_0848a_row0_col1\" class=\"data row0 col1\" >1</td>\n",
       "      <td id=\"T_0848a_row0_col2\" class=\"data row0 col2\" >20.000000</td>\n",
       "      <td id=\"T_0848a_row0_col3\" class=\"data row0 col3\" >32.000000</td>\n",
       "      <td id=\"T_0848a_row0_col4\" class=\"data row0 col4\" ><32.0</td>\n",
       "      <td id=\"T_0848a_row0_col5\" class=\"data row0 col5\" >0.229643</td>\n",
       "      <td id=\"T_0848a_row0_col6\" class=\"data row0 col6\" >4398.940698</td>\n",
       "      <td id=\"T_0848a_row0_col7\" class=\"data row0 col7\" >10.000000</td>\n",
       "      <td id=\"T_0848a_row0_col8\" class=\"data row0 col8\" >10</td>\n",
       "      <td id=\"T_0848a_row0_col9\" class=\"data row0 col9\" >AutoLoans</td>\n",
       "    </tr>\n",
       "    <tr>\n",
       "      <td id=\"T_0848a_row1_col0\" class=\"data row1 col0\" >Customer.Age</td>\n",
       "      <td id=\"T_0848a_row1_col1\" class=\"data row1 col1\" >2</td>\n",
       "      <td id=\"T_0848a_row1_col2\" class=\"data row1 col2\" >32.000000</td>\n",
       "      <td id=\"T_0848a_row1_col3\" class=\"data row1 col3\" >44.000000</td>\n",
       "      <td id=\"T_0848a_row1_col4\" class=\"data row1 col4\" ><44.0</td>\n",
       "      <td id=\"T_0848a_row1_col5\" class=\"data row1 col5\" >-0.261505</td>\n",
       "      <td id=\"T_0848a_row1_col6\" class=\"data row1 col6\" >8280.450496</td>\n",
       "      <td id=\"T_0848a_row1_col7\" class=\"data row1 col7\" >10.000000</td>\n",
       "      <td id=\"T_0848a_row1_col8\" class=\"data row1 col8\" >10</td>\n",
       "      <td id=\"T_0848a_row1_col9\" class=\"data row1 col9\" >AutoLoans</td>\n",
       "    </tr>\n",
       "    <tr>\n",
       "      <td id=\"T_0848a_row2_col0\" class=\"data row2 col0\" >Customer.Age</td>\n",
       "      <td id=\"T_0848a_row2_col1\" class=\"data row2 col1\" >3</td>\n",
       "      <td id=\"T_0848a_row2_col2\" class=\"data row2 col2\" >44.000000</td>\n",
       "      <td id=\"T_0848a_row2_col3\" class=\"data row2 col3\" >56.000000</td>\n",
       "      <td id=\"T_0848a_row2_col4\" class=\"data row2 col4\" ><56.0</td>\n",
       "      <td id=\"T_0848a_row2_col5\" class=\"data row2 col5\" >0.281045</td>\n",
       "      <td id=\"T_0848a_row2_col6\" class=\"data row2 col6\" >4540.748856</td>\n",
       "      <td id=\"T_0848a_row2_col7\" class=\"data row2 col7\" >10.000000</td>\n",
       "      <td id=\"T_0848a_row2_col8\" class=\"data row2 col8\" >10</td>\n",
       "      <td id=\"T_0848a_row2_col9\" class=\"data row2 col9\" >AutoLoans</td>\n",
       "    </tr>\n",
       "    <tr>\n",
       "      <td id=\"T_0848a_row3_col0\" class=\"data row3 col0\" >Customer.Age</td>\n",
       "      <td id=\"T_0848a_row3_col1\" class=\"data row3 col1\" >4</td>\n",
       "      <td id=\"T_0848a_row3_col2\" class=\"data row3 col2\" >56.000000</td>\n",
       "      <td id=\"T_0848a_row3_col3\" class=\"data row3 col3\" >68.000000</td>\n",
       "      <td id=\"T_0848a_row3_col4\" class=\"data row3 col4\" ><68.0</td>\n",
       "      <td id=\"T_0848a_row3_col5\" class=\"data row3 col5\" >0.501178</td>\n",
       "      <td id=\"T_0848a_row3_col6\" class=\"data row3 col6\" >1272.362768</td>\n",
       "      <td id=\"T_0848a_row3_col7\" class=\"data row3 col7\" >10.000000</td>\n",
       "      <td id=\"T_0848a_row3_col8\" class=\"data row3 col8\" >10</td>\n",
       "      <td id=\"T_0848a_row3_col9\" class=\"data row3 col9\" >AutoLoans</td>\n",
       "    </tr>\n",
       "    <tr>\n",
       "      <td id=\"T_0848a_row4_col0\" class=\"data row4 col0\" >Customer.Age</td>\n",
       "      <td id=\"T_0848a_row4_col1\" class=\"data row4 col1\" >5</td>\n",
       "      <td id=\"T_0848a_row4_col2\" class=\"data row4 col2\" >68.000000</td>\n",
       "      <td id=\"T_0848a_row4_col3\" class=\"data row4 col3\" >80.000000</td>\n",
       "      <td id=\"T_0848a_row4_col4\" class=\"data row4 col4\" ><80.0</td>\n",
       "      <td id=\"T_0848a_row4_col5\" class=\"data row4 col5\" >0.510309</td>\n",
       "      <td id=\"T_0848a_row4_col6\" class=\"data row4 col6\" >965.237926</td>\n",
       "      <td id=\"T_0848a_row4_col7\" class=\"data row4 col7\" >8.166667</td>\n",
       "      <td id=\"T_0848a_row4_col8\" class=\"data row4 col8\" >10</td>\n",
       "      <td id=\"T_0848a_row4_col9\" class=\"data row4 col9\" >AutoLoans</td>\n",
       "    </tr>\n",
       "    <tr>\n",
       "      <td id=\"T_0848a_row5_col0\" class=\"data row5 col0\" >Customer.Age</td>\n",
       "      <td id=\"T_0848a_row5_col1\" class=\"data row5 col1\" >1</td>\n",
       "      <td id=\"T_0848a_row5_col2\" class=\"data row5 col2\" >20.000000</td>\n",
       "      <td id=\"T_0848a_row5_col3\" class=\"data row5 col3\" >32.000000</td>\n",
       "      <td id=\"T_0848a_row5_col4\" class=\"data row5 col4\" ><32.0</td>\n",
       "      <td id=\"T_0848a_row5_col5\" class=\"data row5 col5\" >0.110590</td>\n",
       "      <td id=\"T_0848a_row5_col6\" class=\"data row5 col6\" >995.724951</td>\n",
       "      <td id=\"T_0848a_row5_col7\" class=\"data row5 col7\" >7.000000</td>\n",
       "      <td id=\"T_0848a_row5_col8\" class=\"data row5 col8\" >7</td>\n",
       "      <td id=\"T_0848a_row5_col9\" class=\"data row5 col9\" >HomeLoans</td>\n",
       "    </tr>\n",
       "    <tr>\n",
       "      <td id=\"T_0848a_row6_col0\" class=\"data row6 col0\" >Customer.Age</td>\n",
       "      <td id=\"T_0848a_row6_col1\" class=\"data row6 col1\" >2</td>\n",
       "      <td id=\"T_0848a_row6_col2\" class=\"data row6 col2\" >32.000000</td>\n",
       "      <td id=\"T_0848a_row6_col3\" class=\"data row6 col3\" >44.000000</td>\n",
       "      <td id=\"T_0848a_row6_col4\" class=\"data row6 col4\" ><44.0</td>\n",
       "      <td id=\"T_0848a_row6_col5\" class=\"data row6 col5\" >-0.078623</td>\n",
       "      <td id=\"T_0848a_row6_col6\" class=\"data row6 col6\" >1975.071325</td>\n",
       "      <td id=\"T_0848a_row6_col7\" class=\"data row6 col7\" >7.000000</td>\n",
       "      <td id=\"T_0848a_row6_col8\" class=\"data row6 col8\" >7</td>\n",
       "      <td id=\"T_0848a_row6_col9\" class=\"data row6 col9\" >HomeLoans</td>\n",
       "    </tr>\n",
       "    <tr>\n",
       "      <td id=\"T_0848a_row7_col0\" class=\"data row7 col0\" >Customer.Age</td>\n",
       "      <td id=\"T_0848a_row7_col1\" class=\"data row7 col1\" >3</td>\n",
       "      <td id=\"T_0848a_row7_col2\" class=\"data row7 col2\" >44.000000</td>\n",
       "      <td id=\"T_0848a_row7_col3\" class=\"data row7 col3\" >56.000000</td>\n",
       "      <td id=\"T_0848a_row7_col4\" class=\"data row7 col4\" ><56.0</td>\n",
       "      <td id=\"T_0848a_row7_col5\" class=\"data row7 col5\" >0.047313</td>\n",
       "      <td id=\"T_0848a_row7_col6\" class=\"data row7 col6\" >1350.110244</td>\n",
       "      <td id=\"T_0848a_row7_col7\" class=\"data row7 col7\" >7.000000</td>\n",
       "      <td id=\"T_0848a_row7_col8\" class=\"data row7 col8\" >7</td>\n",
       "      <td id=\"T_0848a_row7_col9\" class=\"data row7 col9\" >HomeLoans</td>\n",
       "    </tr>\n",
       "    <tr>\n",
       "      <td id=\"T_0848a_row8_col0\" class=\"data row8 col0\" >Customer.Age</td>\n",
       "      <td id=\"T_0848a_row8_col1\" class=\"data row8 col1\" >4</td>\n",
       "      <td id=\"T_0848a_row8_col2\" class=\"data row8 col2\" >56.000000</td>\n",
       "      <td id=\"T_0848a_row8_col3\" class=\"data row8 col3\" >68.000000</td>\n",
       "      <td id=\"T_0848a_row8_col4\" class=\"data row8 col4\" ><68.0</td>\n",
       "      <td id=\"T_0848a_row8_col5\" class=\"data row8 col5\" >0.145987</td>\n",
       "      <td id=\"T_0848a_row8_col6\" class=\"data row8 col6\" >251.370112</td>\n",
       "      <td id=\"T_0848a_row8_col7\" class=\"data row8 col7\" >7.000000</td>\n",
       "      <td id=\"T_0848a_row8_col8\" class=\"data row8 col8\" >7</td>\n",
       "      <td id=\"T_0848a_row8_col9\" class=\"data row8 col9\" >HomeLoans</td>\n",
       "    </tr>\n",
       "    <tr>\n",
       "      <td id=\"T_0848a_row9_col0\" class=\"data row9 col0\" >Customer.Age</td>\n",
       "      <td id=\"T_0848a_row9_col1\" class=\"data row9 col1\" >5</td>\n",
       "      <td id=\"T_0848a_row9_col2\" class=\"data row9 col2\" >68.000000</td>\n",
       "      <td id=\"T_0848a_row9_col3\" class=\"data row9 col3\" >80.000000</td>\n",
       "      <td id=\"T_0848a_row9_col4\" class=\"data row9 col4\" ><80.0</td>\n",
       "      <td id=\"T_0848a_row9_col5\" class=\"data row9 col5\" >0.167526</td>\n",
       "      <td id=\"T_0848a_row9_col6\" class=\"data row9 col6\" >209.475093</td>\n",
       "      <td id=\"T_0848a_row9_col7\" class=\"data row9 col7\" >5.083333</td>\n",
       "      <td id=\"T_0848a_row9_col8\" class=\"data row9 col8\" >7</td>\n",
       "      <td id=\"T_0848a_row9_col9\" class=\"data row9 col9\" >HomeLoans</td>\n",
       "    </tr>\n",
       "    <tr>\n",
       "      <td id=\"T_0848a_row10_col0\" class=\"data row10 col0\" >Customer.Age</td>\n",
       "      <td id=\"T_0848a_row10_col1\" class=\"data row10 col1\" >1</td>\n",
       "      <td id=\"T_0848a_row10_col2\" class=\"data row10 col2\" >20.000000</td>\n",
       "      <td id=\"T_0848a_row10_col3\" class=\"data row10 col3\" >32.000000</td>\n",
       "      <td id=\"T_0848a_row10_col4\" class=\"data row10 col4\" ><32.0</td>\n",
       "      <td id=\"T_0848a_row10_col5\" class=\"data row10 col5\" >0.038873</td>\n",
       "      <td id=\"T_0848a_row10_col6\" class=\"data row10 col6\" >247.676726</td>\n",
       "      <td id=\"T_0848a_row10_col7\" class=\"data row10 col7\" >1.000000</td>\n",
       "      <td id=\"T_0848a_row10_col8\" class=\"data row10 col8\" >1</td>\n",
       "      <td id=\"T_0848a_row10_col9\" class=\"data row10 col9\" >CreditCards</td>\n",
       "    </tr>\n",
       "    <tr>\n",
       "      <td id=\"T_0848a_row11_col0\" class=\"data row11 col0\" >Customer.Age</td>\n",
       "      <td id=\"T_0848a_row11_col1\" class=\"data row11 col1\" >2</td>\n",
       "      <td id=\"T_0848a_row11_col2\" class=\"data row11 col2\" >32.000000</td>\n",
       "      <td id=\"T_0848a_row11_col3\" class=\"data row11 col3\" >44.000000</td>\n",
       "      <td id=\"T_0848a_row11_col4\" class=\"data row11 col4\" ><44.0</td>\n",
       "      <td id=\"T_0848a_row11_col5\" class=\"data row11 col5\" >-0.598058</td>\n",
       "      <td id=\"T_0848a_row11_col6\" class=\"data row11 col6\" >324.579816</td>\n",
       "      <td id=\"T_0848a_row11_col7\" class=\"data row11 col7\" >1.000000</td>\n",
       "      <td id=\"T_0848a_row11_col8\" class=\"data row11 col8\" >1</td>\n",
       "      <td id=\"T_0848a_row11_col9\" class=\"data row11 col9\" >CreditCards</td>\n",
       "    </tr>\n",
       "    <tr>\n",
       "      <td id=\"T_0848a_row12_col0\" class=\"data row12 col0\" >Customer.Age</td>\n",
       "      <td id=\"T_0848a_row12_col1\" class=\"data row12 col1\" >3</td>\n",
       "      <td id=\"T_0848a_row12_col2\" class=\"data row12 col2\" >44.000000</td>\n",
       "      <td id=\"T_0848a_row12_col3\" class=\"data row12 col3\" >56.000000</td>\n",
       "      <td id=\"T_0848a_row12_col4\" class=\"data row12 col4\" ><56.0</td>\n",
       "      <td id=\"T_0848a_row12_col5\" class=\"data row12 col5\" >0.996987</td>\n",
       "      <td id=\"T_0848a_row12_col6\" class=\"data row12 col6\" >82.989379</td>\n",
       "      <td id=\"T_0848a_row12_col7\" class=\"data row12 col7\" >1.000000</td>\n",
       "      <td id=\"T_0848a_row12_col8\" class=\"data row12 col8\" >1</td>\n",
       "      <td id=\"T_0848a_row12_col9\" class=\"data row12 col9\" >CreditCards</td>\n",
       "    </tr>\n",
       "    <tr>\n",
       "      <td id=\"T_0848a_row13_col0\" class=\"data row13 col0\" >Customer.Age</td>\n",
       "      <td id=\"T_0848a_row13_col1\" class=\"data row13 col1\" >4</td>\n",
       "      <td id=\"T_0848a_row13_col2\" class=\"data row13 col2\" >56.000000</td>\n",
       "      <td id=\"T_0848a_row13_col3\" class=\"data row13 col3\" >68.000000</td>\n",
       "      <td id=\"T_0848a_row13_col4\" class=\"data row13 col4\" ><68.0</td>\n",
       "      <td id=\"T_0848a_row13_col5\" class=\"data row13 col5\" >1.007692</td>\n",
       "      <td id=\"T_0848a_row13_col6\" class=\"data row13 col6\" >81.367929</td>\n",
       "      <td id=\"T_0848a_row13_col7\" class=\"data row13 col7\" >1.000000</td>\n",
       "      <td id=\"T_0848a_row13_col8\" class=\"data row13 col8\" >1</td>\n",
       "      <td id=\"T_0848a_row13_col9\" class=\"data row13 col9\" >CreditCards</td>\n",
       "    </tr>\n",
       "    <tr>\n",
       "      <td id=\"T_0848a_row14_col0\" class=\"data row14 col0\" >Customer.Age</td>\n",
       "      <td id=\"T_0848a_row14_col1\" class=\"data row14 col1\" >5</td>\n",
       "      <td id=\"T_0848a_row14_col2\" class=\"data row14 col2\" >68.000000</td>\n",
       "      <td id=\"T_0848a_row14_col3\" class=\"data row14 col3\" >80.000000</td>\n",
       "      <td id=\"T_0848a_row14_col4\" class=\"data row14 col4\" ><80.0</td>\n",
       "      <td id=\"T_0848a_row14_col5\" class=\"data row14 col5\" >1.007692</td>\n",
       "      <td id=\"T_0848a_row14_col6\" class=\"data row14 col6\" >67.806607</td>\n",
       "      <td id=\"T_0848a_row14_col7\" class=\"data row14 col7\" >0.833333</td>\n",
       "      <td id=\"T_0848a_row14_col8\" class=\"data row14 col8\" >1</td>\n",
       "      <td id=\"T_0848a_row14_col9\" class=\"data row14 col9\" >CreditCards</td>\n",
       "    </tr>\n",
       "    <tr>\n",
       "      <td id=\"T_0848a_row15_col0\" class=\"data row15 col0\" >Customer.Age</td>\n",
       "      <td id=\"T_0848a_row15_col1\" class=\"data row15 col1\" >1</td>\n",
       "      <td id=\"T_0848a_row15_col2\" class=\"data row15 col2\" >20.000000</td>\n",
       "      <td id=\"T_0848a_row15_col3\" class=\"data row15 col3\" >32.000000</td>\n",
       "      <td id=\"T_0848a_row15_col4\" class=\"data row15 col4\" ><32.0</td>\n",
       "      <td id=\"T_0848a_row15_col5\" class=\"data row15 col5\" >0.155355</td>\n",
       "      <td id=\"T_0848a_row15_col6\" class=\"data row15 col6\" >1749.921628</td>\n",
       "      <td id=\"T_0848a_row15_col7\" class=\"data row15 col7\" >2.000000</td>\n",
       "      <td id=\"T_0848a_row15_col8\" class=\"data row15 col8\" >2</td>\n",
       "      <td id=\"T_0848a_row15_col9\" class=\"data row15 col9\" >Bundles</td>\n",
       "    </tr>\n",
       "    <tr>\n",
       "      <td id=\"T_0848a_row16_col0\" class=\"data row16 col0\" >Customer.Age</td>\n",
       "      <td id=\"T_0848a_row16_col1\" class=\"data row16 col1\" >2</td>\n",
       "      <td id=\"T_0848a_row16_col2\" class=\"data row16 col2\" >32.000000</td>\n",
       "      <td id=\"T_0848a_row16_col3\" class=\"data row16 col3\" >44.000000</td>\n",
       "      <td id=\"T_0848a_row16_col4\" class=\"data row16 col4\" ><44.0</td>\n",
       "      <td id=\"T_0848a_row16_col5\" class=\"data row16 col5\" >-0.124786</td>\n",
       "      <td id=\"T_0848a_row16_col6\" class=\"data row16 col6\" >3979.820578</td>\n",
       "      <td id=\"T_0848a_row16_col7\" class=\"data row16 col7\" >2.000000</td>\n",
       "      <td id=\"T_0848a_row16_col8\" class=\"data row16 col8\" >2</td>\n",
       "      <td id=\"T_0848a_row16_col9\" class=\"data row16 col9\" >Bundles</td>\n",
       "    </tr>\n",
       "    <tr>\n",
       "      <td id=\"T_0848a_row17_col0\" class=\"data row17 col0\" >Customer.Age</td>\n",
       "      <td id=\"T_0848a_row17_col1\" class=\"data row17 col1\" >3</td>\n",
       "      <td id=\"T_0848a_row17_col2\" class=\"data row17 col2\" >44.000000</td>\n",
       "      <td id=\"T_0848a_row17_col3\" class=\"data row17 col3\" >56.000000</td>\n",
       "      <td id=\"T_0848a_row17_col4\" class=\"data row17 col4\" ><56.0</td>\n",
       "      <td id=\"T_0848a_row17_col5\" class=\"data row17 col5\" >0.244397</td>\n",
       "      <td id=\"T_0848a_row17_col6\" class=\"data row17 col6\" >2843.339271</td>\n",
       "      <td id=\"T_0848a_row17_col7\" class=\"data row17 col7\" >2.000000</td>\n",
       "      <td id=\"T_0848a_row17_col8\" class=\"data row17 col8\" >2</td>\n",
       "      <td id=\"T_0848a_row17_col9\" class=\"data row17 col9\" >Bundles</td>\n",
       "    </tr>\n",
       "    <tr>\n",
       "      <td id=\"T_0848a_row18_col0\" class=\"data row18 col0\" >Customer.Age</td>\n",
       "      <td id=\"T_0848a_row18_col1\" class=\"data row18 col1\" >4</td>\n",
       "      <td id=\"T_0848a_row18_col2\" class=\"data row18 col2\" >56.000000</td>\n",
       "      <td id=\"T_0848a_row18_col3\" class=\"data row18 col3\" >68.000000</td>\n",
       "      <td id=\"T_0848a_row18_col4\" class=\"data row18 col4\" ><68.0</td>\n",
       "      <td id=\"T_0848a_row18_col5\" class=\"data row18 col5\" >-0.139278</td>\n",
       "      <td id=\"T_0848a_row18_col6\" class=\"data row18 col6\" >502.650345</td>\n",
       "      <td id=\"T_0848a_row18_col7\" class=\"data row18 col7\" >2.000000</td>\n",
       "      <td id=\"T_0848a_row18_col8\" class=\"data row18 col8\" >2</td>\n",
       "      <td id=\"T_0848a_row18_col9\" class=\"data row18 col9\" >Bundles</td>\n",
       "    </tr>\n",
       "    <tr>\n",
       "      <td id=\"T_0848a_row19_col0\" class=\"data row19 col0\" >Customer.Age</td>\n",
       "      <td id=\"T_0848a_row19_col1\" class=\"data row19 col1\" >5</td>\n",
       "      <td id=\"T_0848a_row19_col2\" class=\"data row19 col2\" >68.000000</td>\n",
       "      <td id=\"T_0848a_row19_col3\" class=\"data row19 col3\" >80.000000</td>\n",
       "      <td id=\"T_0848a_row19_col4\" class=\"data row19 col4\" ><80.0</td>\n",
       "      <td id=\"T_0848a_row19_col5\" class=\"data row19 col5\" >-0.209373</td>\n",
       "      <td id=\"T_0848a_row19_col6\" class=\"data row19 col6\" >331.583984</td>\n",
       "      <td id=\"T_0848a_row19_col7\" class=\"data row19 col7\" >1.666667</td>\n",
       "      <td id=\"T_0848a_row19_col8\" class=\"data row19 col8\" >2</td>\n",
       "      <td id=\"T_0848a_row19_col9\" class=\"data row19 col9\" >Bundles</td>\n",
       "    </tr>\n",
       "  </tbody>\n",
       "</table>\n"
      ],
      "text/plain": [
       "<pandas.io.formats.style.Styler at 0x7fcfb6484150>"
      ]
     },
     "execution_count": 8,
     "metadata": {},
     "output_type": "execute_result"
    }
   ],
   "source": [
    "myAggregator.roll_up(\n",
    "    \"Customer.Age\", minimum=20, maximum=80, n=5, aggregation=\"Group\", return_df=True\n",
    ").to_pandas().style.hide()"
   ]
  },
  {
   "cell_type": "markdown",
   "metadata": {},
   "source": [
    "The boundaries of the bin intervals are by default created automatically, but can be given explicitly. Income, wealth etc are typically distributed very unevenly (with a long right tail) so you can tell the system to use a logarithmic scale, which means the boundaries are a multiple of eachother, unlike the even spacing you can when not specifying the distribution (or using \"lin\"). Below we split by Channel and define a few explicit income boundaries:"
   ]
  },
  {
   "cell_type": "code",
   "execution_count": 9,
   "metadata": {
    "execution": {
     "iopub.execute_input": "2024-10-22T12:36:00.451297Z",
     "iopub.status.busy": "2024-10-22T12:36:00.450904Z",
     "iopub.status.idle": "2024-10-22T12:36:00.608301Z",
     "shell.execute_reply": "2024-10-22T12:36:00.607781Z"
    }
   },
   "outputs": [
    {
     "data": {
      "text/html": [
       "<div>                            <div id=\"49bddceb-e1c2-4d46-ba6e-5618121a46ea\" class=\"plotly-graph-div\" style=\"height:300px; width:100%;\"></div>            <script type=\"text/javascript\">                require([\"plotly\"], function(Plotly) {                    window.PLOTLYENV=window.PLOTLYENV || {};                                    if (document.getElementById(\"49bddceb-e1c2-4d46-ba6e-5618121a46ea\")) {                    Plotly.newPlot(                        \"49bddceb-e1c2-4d46-ba6e-5618121a46ea\",                        [{\"alignmentgroup\":\"True\",\"customdata\":[[\"Customer.AnnualIncome\",\"\\u003c10000.0\",0.9988855945440539,4126.870993239704],[\"Customer.AnnualIncome\",\"\\u003c42861.87\",1.0,3621.2120375544932],[\"Customer.AnnualIncome\",\"\\u003c87492.52\",1.0,2075.560279375492],[\"Customer.AnnualIncome\",\"\\u003c125003.11\",1.0,1892.6863925324526],[\"Customer.AnnualIncome\",\"\\u003c178595.58\",0.9593162584424372,2653.876731428685]],\"hovertemplate\":\"\\u003cb\\u003e%{customdata[0]}\\u003c\\u002fb\\u003e\\u003cbr\\u003e\\u003cb\\u003e%{customdata[1]}\\u003c\\u002fb\\u003e\\u003cbr\\u003e\\u003cb\\u003eLift: %{x:.2%}\\u003c\\u002fb\\u003e\\u003cbr\\u003eCoverage: %{customdata[2]:.2%}\\u003cbr\\u003eAttributed Responses: %{customdata[3]:.2f}\",\"legendgroup\":\"pos\",\"marker\":{\"color\":\"#5F9F37\",\"pattern\":{\"shape\":\"\"}},\"name\":\"pos\",\"offsetgroup\":\"pos\",\"orientation\":\"h\",\"showlegend\":true,\"textposition\":\"auto\",\"x\":[0.3133951342188759,0.4332031782032972,0.4027121187944711,0.35167244444444434,0.38324298666693246],\"xaxis\":\"x\",\"y\":[\"\\u003c10000.0\",\"\\u003c42861.87\",\"\\u003c87492.52\",\"\\u003c125003.11\",\"\\u003c178595.58\"],\"yaxis\":\"y\",\"type\":\"bar\"},{\"alignmentgroup\":\"True\",\"customdata\":[[\"Customer.AnnualIncome\",\"\\u003c61238.01\",1.0,929.4163570704069],[\"Customer.AnnualIncome\",\"\\u003c87492.52\",1.0,279.9328939855258],[\"Customer.AnnualIncome\",\"\\u003c125003.11\",1.0,399.94827161967703],[\"Customer.AnnualIncome\",\"\\u003c178595.58\",0.8422564791356539,466.5007656878827]],\"hovertemplate\":\"\\u003cb\\u003e%{customdata[0]}\\u003c\\u002fb\\u003e\\u003cbr\\u003e\\u003cb\\u003e%{customdata[1]}\\u003c\\u002fb\\u003e\\u003cbr\\u003e\\u003cb\\u003eLift: %{x:.2%}\\u003c\\u002fb\\u003e\\u003cbr\\u003eCoverage: %{customdata[2]:.2%}\\u003cbr\\u003eAttributed Responses: %{customdata[3]:.2f}\",\"legendgroup\":\"pos\",\"marker\":{\"color\":\"#5F9F37\",\"pattern\":{\"shape\":\"\"}},\"name\":\"pos\",\"offsetgroup\":\"pos\",\"orientation\":\"h\",\"showlegend\":false,\"textposition\":\"auto\",\"x\":[0.0886979884243269,0.9436414999999999,0.9436414999999999,0.9895100602770832],\"xaxis\":\"x2\",\"y\":[\"\\u003c61238.01\",\"\\u003c87492.52\",\"\\u003c125003.11\",\"\\u003c178595.58\"],\"yaxis\":\"y2\",\"type\":\"bar\"},{\"alignmentgroup\":\"True\",\"customdata\":[[\"Customer.AnnualIncome\",\"\\u003c10000.0\",0.9929672551282803,574.9629621549673],[\"Customer.AnnualIncome\",\"\\u003c20000.0\",1.0,498.966745738035],[\"Customer.AnnualIncome\",\"\\u003c87492.52\",1.0,370.41994134470855],[\"Customer.AnnualIncome\",\"\\u003c125003.11\",1.0,476.9573245945],[\"Customer.AnnualIncome\",\"\\u003c178595.58\",0.8590780985388792,681.4428089961323]],\"hovertemplate\":\"\\u003cb\\u003e%{customdata[0]}\\u003c\\u002fb\\u003e\\u003cbr\\u003e\\u003cb\\u003e%{customdata[1]}\\u003c\\u002fb\\u003e\\u003cbr\\u003e\\u003cb\\u003eLift: %{x:.2%}\\u003c\\u002fb\\u003e\\u003cbr\\u003eCoverage: %{customdata[2]:.2%}\\u003cbr\\u003eAttributed Responses: %{customdata[3]:.2f}\",\"legendgroup\":\"pos\",\"marker\":{\"color\":\"#5F9F37\",\"pattern\":{\"shape\":\"\"}},\"name\":\"pos\",\"offsetgroup\":\"pos\",\"orientation\":\"h\",\"showlegend\":false,\"textposition\":\"auto\",\"x\":[0.30682170467884895,0.0547829599945173,0.07253085839389016,0.13006028571428566,0.15139518273774213],\"xaxis\":\"x3\",\"y\":[\"\\u003c10000.0\",\"\\u003c20000.0\",\"\\u003c87492.52\",\"\\u003c125003.11\",\"\\u003c178595.58\"],\"yaxis\":\"y3\",\"type\":\"bar\"},{\"alignmentgroup\":\"True\",\"customdata\":[[\"Customer.AnnualIncome\",\"\\u003c20000.0\",1.0,4389.9519931757295],[\"Customer.AnnualIncome\",\"\\u003c30000.0\",1.0,4232.875554355383],[\"Customer.AnnualIncome\",\"\\u003c61238.01\",1.0,2999.9660183380597]],\"hovertemplate\":\"\\u003cb\\u003e%{customdata[0]}\\u003c\\u002fb\\u003e\\u003cbr\\u003e\\u003cb\\u003e%{customdata[1]}\\u003c\\u002fb\\u003e\\u003cbr\\u003e\\u003cb\\u003eLift: %{x:.2%}\\u003c\\u002fb\\u003e\\u003cbr\\u003eCoverage: %{customdata[2]:.2%}\\u003cbr\\u003eAttributed Responses: %{customdata[3]:.2f}\",\"legendgroup\":\"neg\",\"marker\":{\"color\":\"#A01503\",\"pattern\":{\"shape\":\"\"}},\"name\":\"neg\",\"offsetgroup\":\"neg\",\"orientation\":\"h\",\"showlegend\":true,\"textposition\":\"auto\",\"x\":[-0.20932701400995007,-0.2842778639845052,-0.010520184577284522],\"xaxis\":\"x\",\"y\":[\"\\u003c20000.0\",\"\\u003c30000.0\",\"\\u003c61238.01\"],\"yaxis\":\"y\",\"type\":\"bar\"},{\"alignmentgroup\":\"True\",\"customdata\":[[\"Customer.AnnualIncome\",\"\\u003c10000.0\",0.9974925877241211,1082.674701315243],[\"Customer.AnnualIncome\",\"\\u003c20000.0\",1.0,1189.3002304464942],[\"Customer.AnnualIncome\",\"\\u003c30000.0\",1.0,1187.8458712413517],[\"Customer.AnnualIncome\",\"\\u003c42861.87\",1.0,1154.3809086334186]],\"hovertemplate\":\"\\u003cb\\u003e%{customdata[0]}\\u003c\\u002fb\\u003e\\u003cbr\\u003e\\u003cb\\u003e%{customdata[1]}\\u003c\\u002fb\\u003e\\u003cbr\\u003e\\u003cb\\u003eLift: %{x:.2%}\\u003c\\u002fb\\u003e\\u003cbr\\u003eCoverage: %{customdata[2]:.2%}\\u003cbr\\u003eAttributed Responses: %{customdata[3]:.2f}\",\"legendgroup\":\"neg\",\"marker\":{\"color\":\"#A01503\",\"pattern\":{\"shape\":\"\"}},\"name\":\"neg\",\"offsetgroup\":\"neg\",\"orientation\":\"h\",\"showlegend\":false,\"textposition\":\"auto\",\"x\":[-0.11925679153653937,-0.0977691463197998,-0.2071448605529785,-0.18906196654044005],\"xaxis\":\"x2\",\"y\":[\"\\u003c10000.0\",\"\\u003c20000.0\",\"\\u003c30000.0\",\"\\u003c42861.87\"],\"yaxis\":\"y2\",\"type\":\"bar\"},{\"alignmentgroup\":\"True\",\"customdata\":[[\"Customer.AnnualIncome\",\"\\u003c30000.0\",1.0,427.31868390071025],[\"Customer.AnnualIncome\",\"\\u003c42861.87\",1.0,380.07527670500326],[\"Customer.AnnualIncome\",\"\\u003c61238.01\",1.0,394.85625656594357]],\"hovertemplate\":\"\\u003cb\\u003e%{customdata[0]}\\u003c\\u002fb\\u003e\\u003cbr\\u003e\\u003cb\\u003e%{customdata[1]}\\u003c\\u002fb\\u003e\\u003cbr\\u003e\\u003cb\\u003eLift: %{x:.2%}\\u003c\\u002fb\\u003e\\u003cbr\\u003eCoverage: %{customdata[2]:.2%}\\u003cbr\\u003eAttributed Responses: %{customdata[3]:.2f}\",\"legendgroup\":\"neg\",\"marker\":{\"color\":\"#A01503\",\"pattern\":{\"shape\":\"\"}},\"name\":\"neg\",\"offsetgroup\":\"neg\",\"orientation\":\"h\",\"showlegend\":false,\"textposition\":\"auto\",\"x\":[-0.03861503835000002,-0.11365129071746694,-0.1281810962779826],\"xaxis\":\"x3\",\"y\":[\"\\u003c30000.0\",\"\\u003c42861.87\",\"\\u003c61238.01\"],\"yaxis\":\"y3\",\"type\":\"bar\"}],                        {\"template\":{\"layout\":{\"colorway\":[\"#001F5F\",\"#10A5AC\",\"#F76923\",\"#661D34\",\"#86CAC6\",\"#005154\",\"#86CAC6\",\"#5F67B9\",\"#FFC836\",\"#E63690\",\"#AC1361\",\"#63666F\",\"#A7A9B4\",\"#D0D1DB\"],\"hovermode\":\"closest\"}},\"xaxis\":{\"anchor\":\"y\",\"domain\":[0.0,0.31999999999999995],\"title\":{\"text\":\"\"},\"tickformat\":\",.2%\"},\"yaxis\":{\"anchor\":\"x\",\"domain\":[0.0,1.0],\"title\":{\"text\":\"\"},\"type\":\"category\",\"categoryorder\":\"array\",\"categoryarray\":[\"\\u003c10000.0\",\"\\u003c10000.0\",\"\\u003c10000.0\",\"\\u003c20000.0\",\"\\u003c20000.0\",\"\\u003c20000.0\",\"\\u003c30000.0\",\"\\u003c30000.0\",\"\\u003c30000.0\",\"\\u003c42861.87\",\"\\u003c42861.87\",\"\\u003c42861.87\",\"\\u003c61238.01\",\"\\u003c61238.01\",\"\\u003c61238.01\",\"\\u003c87492.52\",\"\\u003c87492.52\",\"\\u003c87492.52\",\"\\u003c125003.11\",\"\\u003c125003.11\",\"\\u003c125003.11\",\"\\u003c178595.58\",\"\\u003c178595.58\",\"\\u003c178595.58\"],\"automargin\":true,\"autorange\":\"reversed\",\"dtick\":1},\"xaxis2\":{\"anchor\":\"y2\",\"domain\":[0.33999999999999997,0.6599999999999999],\"matches\":\"x\",\"title\":{\"text\":\"\"},\"tickformat\":\",.2%\"},\"yaxis2\":{\"anchor\":\"x2\",\"domain\":[0.0,1.0],\"showticklabels\":false,\"type\":\"category\",\"categoryorder\":\"array\",\"categoryarray\":[\"\\u003c10000.0\",\"\\u003c10000.0\",\"\\u003c10000.0\",\"\\u003c20000.0\",\"\\u003c20000.0\",\"\\u003c20000.0\",\"\\u003c30000.0\",\"\\u003c30000.0\",\"\\u003c30000.0\",\"\\u003c42861.87\",\"\\u003c42861.87\",\"\\u003c42861.87\",\"\\u003c61238.01\",\"\\u003c61238.01\",\"\\u003c61238.01\",\"\\u003c87492.52\",\"\\u003c87492.52\",\"\\u003c87492.52\",\"\\u003c125003.11\",\"\\u003c125003.11\",\"\\u003c125003.11\",\"\\u003c178595.58\",\"\\u003c178595.58\",\"\\u003c178595.58\"],\"automargin\":true,\"autorange\":\"reversed\",\"title\":{\"text\":\"\"},\"dtick\":1},\"xaxis3\":{\"anchor\":\"y3\",\"domain\":[0.6799999999999999,0.9999999999999999],\"matches\":\"x\",\"title\":{\"text\":\"\"},\"tickformat\":\",.2%\"},\"yaxis3\":{\"anchor\":\"x3\",\"domain\":[0.0,1.0],\"showticklabels\":false,\"type\":\"category\",\"categoryorder\":\"array\",\"categoryarray\":[\"\\u003c10000.0\",\"\\u003c10000.0\",\"\\u003c10000.0\",\"\\u003c20000.0\",\"\\u003c20000.0\",\"\\u003c20000.0\",\"\\u003c30000.0\",\"\\u003c30000.0\",\"\\u003c30000.0\",\"\\u003c42861.87\",\"\\u003c42861.87\",\"\\u003c42861.87\",\"\\u003c61238.01\",\"\\u003c61238.01\",\"\\u003c61238.01\",\"\\u003c87492.52\",\"\\u003c87492.52\",\"\\u003c87492.52\",\"\\u003c125003.11\",\"\\u003c125003.11\",\"\\u003c125003.11\",\"\\u003c178595.58\",\"\\u003c178595.58\",\"\\u003c178595.58\"],\"automargin\":true,\"autorange\":\"reversed\",\"title\":{\"text\":\"\"},\"dtick\":1},\"annotations\":[{\"showarrow\":false,\"text\":\"SMS\",\"x\":0.15999999999999998,\"xanchor\":\"center\",\"xref\":\"paper\",\"y\":1.0,\"yanchor\":\"bottom\",\"yref\":\"paper\"},{\"showarrow\":false,\"text\":\"Web\",\"x\":0.49999999999999994,\"xanchor\":\"center\",\"xref\":\"paper\",\"y\":1.0,\"yanchor\":\"bottom\",\"yref\":\"paper\"},{\"showarrow\":false,\"text\":\"Email\",\"x\":0.8399999999999999,\"xanchor\":\"center\",\"xref\":\"paper\",\"y\":1.0,\"yanchor\":\"bottom\",\"yref\":\"paper\"}],\"legend\":{\"title\":{\"text\":\"Direction\"},\"tracegroupgap\":0},\"margin\":{\"t\":60},\"barmode\":\"relative\",\"shapes\":[{\"line\":{\"color\":\"black\"},\"type\":\"line\",\"x0\":0,\"x1\":0,\"xref\":\"x\",\"y0\":0,\"y1\":1,\"yref\":\"y domain\"},{\"line\":{\"color\":\"black\"},\"type\":\"line\",\"x0\":0,\"x1\":0,\"xref\":\"x2\",\"y0\":0,\"y1\":1,\"yref\":\"y2 domain\"},{\"line\":{\"color\":\"black\"},\"type\":\"line\",\"x0\":0,\"x1\":0,\"xref\":\"x3\",\"y0\":0,\"y1\":1,\"yref\":\"y3 domain\"}],\"showlegend\":false,\"title\":{\"text\":\"Propensity lift of \\u003cb\\u003eCustomer.AnnualIncome\\u003c\\u002fb\\u003e in 20 models across 3 channels, split by \\u003cb\\u003eChannel\\u003c\\u002fb\\u003e\"},\"hovermode\":\"y\",\"height\":300},                        {\"responsive\": true}                    ).then(function(){\n",
       "                            \n",
       "var gd = document.getElementById('49bddceb-e1c2-4d46-ba6e-5618121a46ea');\n",
       "var x = new MutationObserver(function (mutations, observer) {{\n",
       "        var display = window.getComputedStyle(gd).display;\n",
       "        if (!display || display === 'none') {{\n",
       "            console.log([gd, 'removed!']);\n",
       "            Plotly.purge(gd);\n",
       "            observer.disconnect();\n",
       "        }}\n",
       "}});\n",
       "\n",
       "// Listen for the removal of the full notebook cells\n",
       "var notebookContainer = gd.closest('#notebook-container');\n",
       "if (notebookContainer) {{\n",
       "    x.observe(notebookContainer, {childList: true});\n",
       "}}\n",
       "\n",
       "// Listen for the clearing of the current output cell\n",
       "var outputEl = gd.closest('.output');\n",
       "if (outputEl) {{\n",
       "    x.observe(outputEl, {childList: true});\n",
       "}}\n",
       "\n",
       "                        })                };                });            </script>        </div>"
      ]
     },
     "metadata": {},
     "output_type": "display_data"
    }
   ],
   "source": [
    "fig = myAggregator.roll_up(\n",
    "    \"Customer.AnnualIncome\",\n",
    "    boundaries=[10000, 20000, 30000],\n",
    "    n=8,\n",
    "    distribution=\"log\",\n",
    "    aggregation=\"Channel\",\n",
    ")\n",
    "fig.update_layout(height=300)\n",
    "fig.show()"
   ]
  },
  {
   "cell_type": "markdown",
   "metadata": {},
   "source": [
    "## Symbolic Predictors"
   ]
  },
  {
   "cell_type": "markdown",
   "metadata": {},
   "source": [
    "For symbolic ('categorical') predictors the process is conceptually simpler. We first extract the symbols from the bin labels, then aggregate the lift for the symbols up. For both types, the aggregated lift is weighted proportional to the responses of the models.\n",
    "\n",
    "While the way symbolic predictors are aggregated is very different, the process to roll them up is similar to that of numeric predictors. You can pass in some explicit symbols to consider, set the maximum and aggregate over some dimension like Issue or Group exactly as you can for numeric predictors."
   ]
  },
  {
   "cell_type": "code",
   "execution_count": 10,
   "metadata": {
    "execution": {
     "iopub.execute_input": "2024-10-22T12:36:00.610246Z",
     "iopub.status.busy": "2024-10-22T12:36:00.609893Z",
     "iopub.status.idle": "2024-10-22T12:36:00.657925Z",
     "shell.execute_reply": "2024-10-22T12:36:00.657327Z"
    }
   },
   "outputs": [
    {
     "data": {
      "text/html": [
       "<div>                            <div id=\"1aa2b0b3-368a-4573-b7b5-db1aa969a56c\" class=\"plotly-graph-div\" style=\"height:300px; width:600px;\"></div>            <script type=\"text/javascript\">                require([\"plotly\"], function(Plotly) {                    window.PLOTLYENV=window.PLOTLYENV || {};                                    if (document.getElementById(\"1aa2b0b3-368a-4573-b7b5-db1aa969a56c\")) {                    Plotly.newPlot(                        \"1aa2b0b3-368a-4573-b7b5-db1aa969a56c\",                        [{\"alignmentgroup\":\"True\",\"customdata\":[[\"Customer.MaritalStatus\",\"Unknown\",1.0,8092.0],[\"Customer.MaritalStatus\",\"Single\",1.0,9581.5]],\"hovertemplate\":\"\\u003cb\\u003e%{customdata[0]}\\u003c\\u002fb\\u003e\\u003cbr\\u003e\\u003cb\\u003e%{customdata[1]}\\u003c\\u002fb\\u003e\\u003cbr\\u003e\\u003cb\\u003eLift: %{x:.2%}\\u003c\\u002fb\\u003e\\u003cbr\\u003eCoverage: %{customdata[2]:.2%}\\u003cbr\\u003eAttributed Responses: %{customdata[3]:.2f}\",\"legendgroup\":\"pos\",\"marker\":{\"color\":\"#5F9F37\",\"pattern\":{\"shape\":\"\"}},\"name\":\"pos\",\"offsetgroup\":\"pos\",\"orientation\":\"h\",\"showlegend\":true,\"textposition\":\"auto\",\"x\":[0.49399006666666667,0.05506846666666665],\"xaxis\":\"x\",\"y\":[\"Unknown\",\"Single\"],\"yaxis\":\"y\",\"type\":\"bar\"},{\"alignmentgroup\":\"True\",\"customdata\":[[\"Customer.MaritalStatus\",\"Married\",1.0,9312.5],[\"Customer.MaritalStatus\",\"No Resp+\",1.0,9502.0]],\"hovertemplate\":\"\\u003cb\\u003e%{customdata[0]}\\u003c\\u002fb\\u003e\\u003cbr\\u003e\\u003cb\\u003e%{customdata[1]}\\u003c\\u002fb\\u003e\\u003cbr\\u003e\\u003cb\\u003eLift: %{x:.2%}\\u003c\\u002fb\\u003e\\u003cbr\\u003eCoverage: %{customdata[2]:.2%}\\u003cbr\\u003eAttributed Responses: %{customdata[3]:.2f}\",\"legendgroup\":\"neg\",\"marker\":{\"color\":\"#A01503\",\"pattern\":{\"shape\":\"\"}},\"name\":\"neg\",\"offsetgroup\":\"neg\",\"orientation\":\"h\",\"showlegend\":true,\"textposition\":\"auto\",\"x\":[-0.1984114666666667,-0.2539571333333333],\"xaxis\":\"x\",\"y\":[\"Married\",\"No Resp+\"],\"yaxis\":\"y\",\"type\":\"bar\"}],                        {\"template\":{\"layout\":{\"colorway\":[\"#001F5F\",\"#10A5AC\",\"#F76923\",\"#661D34\",\"#86CAC6\",\"#005154\",\"#86CAC6\",\"#5F67B9\",\"#FFC836\",\"#E63690\",\"#AC1361\",\"#63666F\",\"#A7A9B4\",\"#D0D1DB\"],\"hovermode\":\"closest\"}},\"xaxis\":{\"anchor\":\"y\",\"domain\":[0.0,1.0],\"title\":{\"text\":\"\"},\"tickformat\":\",.2%\"},\"yaxis\":{\"anchor\":\"x\",\"domain\":[0.0,1.0],\"title\":{\"text\":\"\"},\"type\":\"category\",\"categoryorder\":\"array\",\"categoryarray\":[\"Unknown\",\"Single\",\"Married\",\"No Resp+\"],\"automargin\":true,\"autorange\":\"reversed\",\"dtick\":1},\"legend\":{\"title\":{\"text\":\"Direction\"},\"tracegroupgap\":0},\"margin\":{\"t\":60},\"barmode\":\"relative\",\"shapes\":[{\"line\":{\"color\":\"black\"},\"type\":\"line\",\"x0\":0,\"x1\":0,\"xref\":\"x\",\"y0\":0,\"y1\":1,\"yref\":\"y domain\"}],\"showlegend\":false,\"title\":{\"text\":\"Propensity lift of \\u003cb\\u003eCustomer.MaritalStatus\\u003c\\u002fb\\u003e\\u003cbr\\u003ein 15 models across 3 channels\"},\"hovermode\":\"y\",\"height\":300,\"width\":600},                        {\"responsive\": true}                    ).then(function(){\n",
       "                            \n",
       "var gd = document.getElementById('1aa2b0b3-368a-4573-b7b5-db1aa969a56c');\n",
       "var x = new MutationObserver(function (mutations, observer) {{\n",
       "        var display = window.getComputedStyle(gd).display;\n",
       "        if (!display || display === 'none') {{\n",
       "            console.log([gd, 'removed!']);\n",
       "            Plotly.purge(gd);\n",
       "            observer.disconnect();\n",
       "        }}\n",
       "}});\n",
       "\n",
       "// Listen for the removal of the full notebook cells\n",
       "var notebookContainer = gd.closest('#notebook-container');\n",
       "if (notebookContainer) {{\n",
       "    x.observe(notebookContainer, {childList: true});\n",
       "}}\n",
       "\n",
       "// Listen for the clearing of the current output cell\n",
       "var outputEl = gd.closest('.output');\n",
       "if (outputEl) {{\n",
       "    x.observe(outputEl, {childList: true});\n",
       "}}\n",
       "\n",
       "                        })                };                });            </script>        </div>"
      ]
     },
     "metadata": {},
     "output_type": "display_data"
    }
   ],
   "source": [
    "fig = myAggregator.roll_up(\"Customer.MaritalStatus\")\n",
    "fig.update_layout(height=300, width=600)\n",
    "fig.show()"
   ]
  },
  {
   "cell_type": "markdown",
   "metadata": {},
   "source": [
    "## Multiple predictors at once\n",
    "\n",
    "If you want to look at the aggregated lift of the top-5 predictors you can also do that. Instead of one predictor name, you can pass a list. You can even do this in combination with splitting on e.g. Group or Issue although this may be a little overwhelming.\n",
    "\n",
    "Remember that you can always subset to a subset of the models when creating the **BinAggregator**."
   ]
  },
  {
   "cell_type": "code",
   "execution_count": 11,
   "metadata": {
    "execution": {
     "iopub.execute_input": "2024-10-22T12:36:00.659715Z",
     "iopub.status.busy": "2024-10-22T12:36:00.659534Z",
     "iopub.status.idle": "2024-10-22T12:36:01.267166Z",
     "shell.execute_reply": "2024-10-22T12:36:01.266551Z"
    }
   },
   "outputs": [
    {
     "data": {
      "text/html": [
       "<div>                            <div id=\"2376d515-835d-4af4-9c36-684b4edb3825\" class=\"plotly-graph-div\" style=\"height:600px; width:100%;\"></div>            <script type=\"text/javascript\">                require([\"plotly\"], function(Plotly) {                    window.PLOTLYENV=window.PLOTLYENV || {};                                    if (document.getElementById(\"2376d515-835d-4af4-9c36-684b4edb3825\")) {                    Plotly.newPlot(                        \"2376d515-835d-4af4-9c36-684b4edb3825\",                        [{\"alignmentgroup\":\"True\",\"customdata\":[[\"Customer.BusinessSegment\",\"youngSegmentPlus\",1.0,389.5],[\"Customer.BusinessSegment\",\"matureSegmentPlus\",1.0,1688.5]],\"hovertemplate\":\"\\u003cb\\u003e%{customdata[0]}\\u003c\\u002fb\\u003e\\u003cbr\\u003e\\u003cb\\u003e%{customdata[1]}\\u003c\\u002fb\\u003e\\u003cbr\\u003e\\u003cb\\u003eLift: %{x:.2%}\\u003c\\u002fb\\u003e\\u003cbr\\u003eCoverage: %{customdata[2]:.2%}\\u003cbr\\u003eAttributed Responses: %{customdata[3]:.2f}\",\"legendgroup\":\"pos\",\"marker\":{\"color\":\"#5F9F37\",\"pattern\":{\"shape\":\"\"}},\"name\":\"pos\",\"offsetgroup\":\"pos\",\"orientation\":\"h\",\"showlegend\":true,\"textposition\":\"auto\",\"x\":[0.7020005,0.1476815],\"xaxis\":\"x13\",\"y\":[\"youngSegmentPlus\",\"matureSegmentPlus\"],\"yaxis\":\"y13\",\"type\":\"bar\"},{\"alignmentgroup\":\"True\",\"customdata\":[[\"Customer.BusinessSegment\",\"matureSegmentPlus\",1.0,195.0],[\"Customer.BusinessSegment\",\"youngSegmentPlus\",1.0,83.0]],\"hovertemplate\":\"\\u003cb\\u003e%{customdata[0]}\\u003c\\u002fb\\u003e\\u003cbr\\u003e\\u003cb\\u003e%{customdata[1]}\\u003c\\u002fb\\u003e\\u003cbr\\u003e\\u003cb\\u003eLift: %{x:.2%}\\u003c\\u002fb\\u003e\\u003cbr\\u003eCoverage: %{customdata[2]:.2%}\\u003cbr\\u003eAttributed Responses: %{customdata[3]:.2f}\",\"legendgroup\":\"pos\",\"marker\":{\"color\":\"#5F9F37\",\"pattern\":{\"shape\":\"\"}},\"name\":\"pos\",\"offsetgroup\":\"pos\",\"orientation\":\"h\",\"showlegend\":false,\"textposition\":\"auto\",\"x\":[1.1230769999999999,0.9184429999999999],\"xaxis\":\"x14\",\"y\":[\"matureSegmentPlus\",\"youngSegmentPlus\"],\"yaxis\":\"y14\",\"type\":\"bar\"},{\"alignmentgroup\":\"True\",\"customdata\":[[\"Customer.BusinessSegment\",\"youngSegmentPlus\",1.0,576.0],[\"Customer.BusinessSegment\",\"matureSegmentPlus\",1.0,3336.0]],\"hovertemplate\":\"\\u003cb\\u003e%{customdata[0]}\\u003c\\u002fb\\u003e\\u003cbr\\u003e\\u003cb\\u003e%{customdata[1]}\\u003c\\u002fb\\u003e\\u003cbr\\u003e\\u003cb\\u003eLift: %{x:.2%}\\u003c\\u002fb\\u003e\\u003cbr\\u003eCoverage: %{customdata[2]:.2%}\\u003cbr\\u003eAttributed Responses: %{customdata[3]:.2f}\",\"legendgroup\":\"pos\",\"marker\":{\"color\":\"#5F9F37\",\"pattern\":{\"shape\":\"\"}},\"name\":\"pos\",\"offsetgroup\":\"pos\",\"orientation\":\"h\",\"showlegend\":false,\"textposition\":\"auto\",\"x\":[0.512681,0.14493299999999998],\"xaxis\":\"x15\",\"y\":[\"youngSegmentPlus\",\"matureSegmentPlus\"],\"yaxis\":\"y15\",\"type\":\"bar\"},{\"alignmentgroup\":\"True\",\"customdata\":[[\"Customer.BusinessSegment\",\"youngSegmentPlus\",1.0,1700.0],[\"Customer.BusinessSegment\",\"matureSegmentPlus\",1.0,5806.0]],\"hovertemplate\":\"\\u003cb\\u003e%{customdata[0]}\\u003c\\u002fb\\u003e\\u003cbr\\u003e\\u003cb\\u003e%{customdata[1]}\\u003c\\u002fb\\u003e\\u003cbr\\u003e\\u003cb\\u003eLift: %{x:.2%}\\u003c\\u002fb\\u003e\\u003cbr\\u003eCoverage: %{customdata[2]:.2%}\\u003cbr\\u003eAttributed Responses: %{customdata[3]:.2f}\",\"legendgroup\":\"pos\",\"marker\":{\"color\":\"#5F9F37\",\"pattern\":{\"shape\":\"\"}},\"name\":\"pos\",\"offsetgroup\":\"pos\",\"orientation\":\"h\",\"showlegend\":false,\"textposition\":\"auto\",\"x\":[0.7589012500000001,0.43752262499999994],\"xaxis\":\"x16\",\"y\":[\"youngSegmentPlus\",\"matureSegmentPlus\"],\"yaxis\":\"y16\",\"type\":\"bar\"},{\"alignmentgroup\":\"True\",\"customdata\":[[\"Customer.MaritalStatus\",\"Single\",1.0,1242.0],[\"Customer.MaritalStatus\",\"Unknown\",1.0,1102.0]],\"hovertemplate\":\"\\u003cb\\u003e%{customdata[0]}\\u003c\\u002fb\\u003e\\u003cbr\\u003e\\u003cb\\u003e%{customdata[1]}\\u003c\\u002fb\\u003e\\u003cbr\\u003e\\u003cb\\u003eLift: %{x:.2%}\\u003c\\u002fb\\u003e\\u003cbr\\u003eCoverage: %{customdata[2]:.2%}\\u003cbr\\u003eAttributed Responses: %{customdata[3]:.2f}\",\"legendgroup\":\"pos\",\"marker\":{\"color\":\"#5F9F37\",\"pattern\":{\"shape\":\"\"}},\"name\":\"pos\",\"offsetgroup\":\"pos\",\"orientation\":\"h\",\"showlegend\":false,\"textposition\":\"auto\",\"x\":[0.14191133333333328,0.1339796666666667],\"xaxis\":\"x9\",\"y\":[\"Single\",\"Unknown\"],\"yaxis\":\"y9\",\"type\":\"bar\"},{\"alignmentgroup\":\"True\",\"customdata\":[[\"Customer.MaritalStatus\",\"Unknown\",1.0,180.0],[\"Customer.MaritalStatus\",\"Single\",1.0,203.0]],\"hovertemplate\":\"\\u003cb\\u003e%{customdata[0]}\\u003c\\u002fb\\u003e\\u003cbr\\u003e\\u003cb\\u003e%{customdata[1]}\\u003c\\u002fb\\u003e\\u003cbr\\u003e\\u003cb\\u003eLift: %{x:.2%}\\u003c\\u002fb\\u003e\\u003cbr\\u003eCoverage: %{customdata[2]:.2%}\\u003cbr\\u003eAttributed Responses: %{customdata[3]:.2f}\",\"legendgroup\":\"pos\",\"marker\":{\"color\":\"#5F9F37\",\"pattern\":{\"shape\":\"\"}},\"name\":\"pos\",\"offsetgroup\":\"pos\",\"orientation\":\"h\",\"showlegend\":false,\"textposition\":\"auto\",\"x\":[0.4153849999999999,0.3334600000000001],\"xaxis\":\"x10\",\"y\":[\"Unknown\",\"Single\"],\"yaxis\":\"y10\",\"type\":\"bar\"},{\"alignmentgroup\":\"True\",\"customdata\":[[\"Customer.MaritalStatus\",\"Unknown\",1.0,2152.0],[\"Customer.MaritalStatus\",\"Single\",1.0,2411.0]],\"hovertemplate\":\"\\u003cb\\u003e%{customdata[0]}\\u003c\\u002fb\\u003e\\u003cbr\\u003e\\u003cb\\u003e%{customdata[1]}\\u003c\\u002fb\\u003e\\u003cbr\\u003e\\u003cb\\u003eLift: %{x:.2%}\\u003c\\u002fb\\u003e\\u003cbr\\u003eCoverage: %{customdata[2]:.2%}\\u003cbr\\u003eAttributed Responses: %{customdata[3]:.2f}\",\"legendgroup\":\"pos\",\"marker\":{\"color\":\"#5F9F37\",\"pattern\":{\"shape\":\"\"}},\"name\":\"pos\",\"offsetgroup\":\"pos\",\"orientation\":\"h\",\"showlegend\":false,\"textposition\":\"auto\",\"x\":[0.5465905,0.09884799999999994],\"xaxis\":\"x11\",\"y\":[\"Unknown\",\"Single\"],\"yaxis\":\"y11\",\"type\":\"bar\"},{\"alignmentgroup\":\"True\",\"customdata\":[[\"Customer.MaritalStatus\",\"Unknown\",1.0,4658.0]],\"hovertemplate\":\"\\u003cb\\u003e%{customdata[0]}\\u003c\\u002fb\\u003e\\u003cbr\\u003e\\u003cb\\u003e%{customdata[1]}\\u003c\\u002fb\\u003e\\u003cbr\\u003e\\u003cb\\u003eLift: %{x:.2%}\\u003c\\u002fb\\u003e\\u003cbr\\u003eCoverage: %{customdata[2]:.2%}\\u003cbr\\u003eAttributed Responses: %{customdata[3]:.2f}\",\"legendgroup\":\"pos\",\"marker\":{\"color\":\"#5F9F37\",\"pattern\":{\"shape\":\"\"}},\"name\":\"pos\",\"offsetgroup\":\"pos\",\"orientation\":\"h\",\"showlegend\":false,\"textposition\":\"auto\",\"x\":[0.6110384444444446],\"xaxis\":\"x12\",\"y\":[\"Unknown\"],\"yaxis\":\"y12\",\"type\":\"bar\"},{\"alignmentgroup\":\"True\",\"customdata\":[[\"Customer.RelationshipStartDate\",\"\\u003c701.13\",0.9869697773846381,756.392782522173],[\"Customer.RelationshipStartDate\",\"\\u003c1306.75\",0.9999999999999999,806.0814685372151],[\"Customer.RelationshipStartDate\",\"\\u003c3123.63\",1.0,769.1118376712233],[\"Customer.RelationshipStartDate\",\"\\u003c3729.25\",0.9895385522630102,803.54973249455]],\"hovertemplate\":\"\\u003cb\\u003e%{customdata[0]}\\u003c\\u002fb\\u003e\\u003cbr\\u003e\\u003cb\\u003e%{customdata[1]}\\u003c\\u002fb\\u003e\\u003cbr\\u003e\\u003cb\\u003eLift: %{x:.2%}\\u003c\\u002fb\\u003e\\u003cbr\\u003eCoverage: %{customdata[2]:.2%}\\u003cbr\\u003eAttributed Responses: %{customdata[3]:.2f}\",\"legendgroup\":\"pos\",\"marker\":{\"color\":\"#5F9F37\",\"pattern\":{\"shape\":\"\"}},\"name\":\"pos\",\"offsetgroup\":\"pos\",\"orientation\":\"h\",\"showlegend\":false,\"textposition\":\"auto\",\"x\":[0.02333840443321766,0.047725883602561095,0.040155501234301276,0.011232846447610391],\"xaxis\":\"x5\",\"y\":[\"\\u003c701.13\",\"\\u003c1306.75\",\"\\u003c3123.63\",\"\\u003c3729.25\"],\"yaxis\":\"y5\",\"type\":\"bar\"},{\"alignmentgroup\":\"True\",\"customdata\":[[\"Customer.RelationshipStartDate\",\"\\u003c1912.38\",1.0,133.6795301651751],[\"Customer.RelationshipStartDate\",\"\\u003c2518.0\",1.0,133.6795301651751],[\"Customer.RelationshipStartDate\",\"\\u003c3123.63\",1.0,134.7131890732208]],\"hovertemplate\":\"\\u003cb\\u003e%{customdata[0]}\\u003c\\u002fb\\u003e\\u003cbr\\u003e\\u003cb\\u003e%{customdata[1]}\\u003c\\u002fb\\u003e\\u003cbr\\u003e\\u003cb\\u003eLift: %{x:.2%}\\u003c\\u002fb\\u003e\\u003cbr\\u003eCoverage: %{customdata[2]:.2%}\\u003cbr\\u003eAttributed Responses: %{customdata[3]:.2f}\",\"legendgroup\":\"pos\",\"marker\":{\"color\":\"#5F9F37\",\"pattern\":{\"shape\":\"\"}},\"name\":\"pos\",\"offsetgroup\":\"pos\",\"orientation\":\"h\",\"showlegend\":false,\"textposition\":\"auto\",\"x\":[0.013287000000000049,0.013287000000000049,0.8308869865845103],\"xaxis\":\"x6\",\"y\":[\"\\u003c1912.38\",\"\\u003c2518.0\",\"\\u003c3123.63\"],\"yaxis\":\"y6\",\"type\":\"bar\"},{\"alignmentgroup\":\"True\",\"customdata\":[[\"Customer.RelationshipStartDate\",\"\\u003c1306.75\",1.0,1579.2872974764578],[\"Customer.RelationshipStartDate\",\"\\u003c3123.63\",1.0,1521.2570581966304],[\"Customer.RelationshipStartDate\",\"\\u003c3729.25\",0.9999752321981423,1574.6091613522667]],\"hovertemplate\":\"\\u003cb\\u003e%{customdata[0]}\\u003c\\u002fb\\u003e\\u003cbr\\u003e\\u003cb\\u003e%{customdata[1]}\\u003c\\u002fb\\u003e\\u003cbr\\u003e\\u003cb\\u003eLift: %{x:.2%}\\u003c\\u002fb\\u003e\\u003cbr\\u003eCoverage: %{customdata[2]:.2%}\\u003cbr\\u003eAttributed Responses: %{customdata[3]:.2f}\",\"legendgroup\":\"pos\",\"marker\":{\"color\":\"#5F9F37\",\"pattern\":{\"shape\":\"\"}},\"name\":\"pos\",\"offsetgroup\":\"pos\",\"orientation\":\"h\",\"showlegend\":false,\"textposition\":\"auto\",\"x\":[0.18993319321032082,0.2000732374014368,0.026393967524479436],\"xaxis\":\"x7\",\"y\":[\"\\u003c1306.75\",\"\\u003c3123.63\",\"\\u003c3729.25\"],\"yaxis\":\"y7\",\"type\":\"bar\"},{\"alignmentgroup\":\"True\",\"customdata\":[[\"Customer.RelationshipStartDate\",\"\\u003c701.13\",0.9927232198142416,3326.136964710243],[\"Customer.RelationshipStartDate\",\"\\u003c1306.75\",1.0,3353.6636096147017],[\"Customer.RelationshipStartDate\",\"\\u003c3729.25\",0.9999785345717234,3408.130567543659]],\"hovertemplate\":\"\\u003cb\\u003e%{customdata[0]}\\u003c\\u002fb\\u003e\\u003cbr\\u003e\\u003cb\\u003e%{customdata[1]}\\u003c\\u002fb\\u003e\\u003cbr\\u003e\\u003cb\\u003eLift: %{x:.2%}\\u003c\\u002fb\\u003e\\u003cbr\\u003eCoverage: %{customdata[2]:.2%}\\u003cbr\\u003eAttributed Responses: %{customdata[3]:.2f}\",\"legendgroup\":\"pos\",\"marker\":{\"color\":\"#5F9F37\",\"pattern\":{\"shape\":\"\"}},\"name\":\"pos\",\"offsetgroup\":\"pos\",\"orientation\":\"h\",\"showlegend\":false,\"textposition\":\"auto\",\"x\":[0.011286028578877762,0.058238928787641475,0.05887448660506273],\"xaxis\":\"x8\",\"y\":[\"\\u003c701.13\",\"\\u003c1306.75\",\"\\u003c3729.25\"],\"yaxis\":\"y8\",\"type\":\"bar\"},{\"alignmentgroup\":\"True\",\"customdata\":[[\"Customer.RiskCode\",\"R3\",1.0,1326.0]],\"hovertemplate\":\"\\u003cb\\u003e%{customdata[0]}\\u003c\\u002fb\\u003e\\u003cbr\\u003e\\u003cb\\u003e%{customdata[1]}\\u003c\\u002fb\\u003e\\u003cbr\\u003e\\u003cb\\u003eLift: %{x:.2%}\\u003c\\u002fb\\u003e\\u003cbr\\u003eCoverage: %{customdata[2]:.2%}\\u003cbr\\u003eAttributed Responses: %{customdata[3]:.2f}\",\"legendgroup\":\"pos\",\"marker\":{\"color\":\"#5F9F37\",\"pattern\":{\"shape\":\"\"}},\"name\":\"pos\",\"offsetgroup\":\"pos\",\"orientation\":\"h\",\"showlegend\":false,\"textposition\":\"auto\",\"x\":[0.537889],\"xaxis\":\"x\",\"y\":[\"R3\"],\"yaxis\":\"y\",\"type\":\"bar\"},{\"alignmentgroup\":\"True\",\"customdata\":[[\"Customer.RiskCode\",\"R1\",1.0,191.0],[\"Customer.RiskCode\",\"R2\",1.0,232.0],[\"Customer.RiskCode\",\"R3\",1.0,232.0]],\"hovertemplate\":\"\\u003cb\\u003e%{customdata[0]}\\u003c\\u002fb\\u003e\\u003cbr\\u003e\\u003cb\\u003e%{customdata[1]}\\u003c\\u002fb\\u003e\\u003cbr\\u003e\\u003cb\\u003eLift: %{x:.2%}\\u003c\\u002fb\\u003e\\u003cbr\\u003eCoverage: %{customdata[2]:.2%}\\u003cbr\\u003eAttributed Responses: %{customdata[3]:.2f}\",\"legendgroup\":\"pos\",\"marker\":{\"color\":\"#5F9F37\",\"pattern\":{\"shape\":\"\"}},\"name\":\"pos\",\"offsetgroup\":\"pos\",\"orientation\":\"h\",\"showlegend\":false,\"textposition\":\"auto\",\"x\":[0.2505029999999999,0.029509000000000007,0.029509000000000007],\"xaxis\":\"x2\",\"y\":[\"R1\",\"R2\",\"R3\"],\"yaxis\":\"y2\",\"type\":\"bar\"},{\"alignmentgroup\":\"True\",\"customdata\":[[\"Customer.RiskCode\",\"R3\",1.0,2295.0]],\"hovertemplate\":\"\\u003cb\\u003e%{customdata[0]}\\u003c\\u002fb\\u003e\\u003cbr\\u003e\\u003cb\\u003e%{customdata[1]}\\u003c\\u002fb\\u003e\\u003cbr\\u003e\\u003cb\\u003eLift: %{x:.2%}\\u003c\\u002fb\\u003e\\u003cbr\\u003eCoverage: %{customdata[2]:.2%}\\u003cbr\\u003eAttributed Responses: %{customdata[3]:.2f}\",\"legendgroup\":\"pos\",\"marker\":{\"color\":\"#5F9F37\",\"pattern\":{\"shape\":\"\"}},\"name\":\"pos\",\"offsetgroup\":\"pos\",\"orientation\":\"h\",\"showlegend\":false,\"textposition\":\"auto\",\"x\":[0.5899415],\"xaxis\":\"x3\",\"y\":[\"R3\"],\"yaxis\":\"y3\",\"type\":\"bar\"},{\"alignmentgroup\":\"True\",\"customdata\":[[\"Customer.RiskCode\",\"R3\",1.0,6196.0],[\"Customer.RiskCode\",\"R1\",1.0,6632.0]],\"hovertemplate\":\"\\u003cb\\u003e%{customdata[0]}\\u003c\\u002fb\\u003e\\u003cbr\\u003e\\u003cb\\u003e%{customdata[1]}\\u003c\\u002fb\\u003e\\u003cbr\\u003e\\u003cb\\u003eLift: %{x:.2%}\\u003c\\u002fb\\u003e\\u003cbr\\u003eCoverage: %{customdata[2]:.2%}\\u003cbr\\u003eAttributed Responses: %{customdata[3]:.2f}\",\"legendgroup\":\"pos\",\"marker\":{\"color\":\"#5F9F37\",\"pattern\":{\"shape\":\"\"}},\"name\":\"pos\",\"offsetgroup\":\"pos\",\"orientation\":\"h\",\"showlegend\":false,\"textposition\":\"auto\",\"x\":[0.5373033333333334,0.019420999999999983],\"xaxis\":\"x4\",\"y\":[\"R3\",\"R1\"],\"yaxis\":\"y4\",\"type\":\"bar\"},{\"alignmentgroup\":\"True\",\"customdata\":[[\"Customer.BusinessSegment\",\"middleSegmentPlus\",1.0,3317.0]],\"hovertemplate\":\"\\u003cb\\u003e%{customdata[0]}\\u003c\\u002fb\\u003e\\u003cbr\\u003e\\u003cb\\u003e%{customdata[1]}\\u003c\\u002fb\\u003e\\u003cbr\\u003e\\u003cb\\u003eLift: %{x:.2%}\\u003c\\u002fb\\u003e\\u003cbr\\u003eCoverage: %{customdata[2]:.2%}\\u003cbr\\u003eAttributed Responses: %{customdata[3]:.2f}\",\"legendgroup\":\"neg\",\"marker\":{\"color\":\"#A01503\",\"pattern\":{\"shape\":\"\"}},\"name\":\"neg\",\"offsetgroup\":\"neg\",\"orientation\":\"h\",\"showlegend\":true,\"textposition\":\"auto\",\"x\":[-0.15666775],\"xaxis\":\"x13\",\"y\":[\"middleSegmentPlus\"],\"yaxis\":\"y13\",\"type\":\"bar\"},{\"alignmentgroup\":\"True\",\"customdata\":[[\"Customer.BusinessSegment\",\"middleSegmentPlus\",1.0,550.0]],\"hovertemplate\":\"\\u003cb\\u003e%{customdata[0]}\\u003c\\u002fb\\u003e\\u003cbr\\u003e\\u003cb\\u003e%{customdata[1]}\\u003c\\u002fb\\u003e\\u003cbr\\u003e\\u003cb\\u003eLift: %{x:.2%}\\u003c\\u002fb\\u003e\\u003cbr\\u003eCoverage: %{customdata[2]:.2%}\\u003cbr\\u003eAttributed Responses: %{customdata[3]:.2f}\",\"legendgroup\":\"neg\",\"marker\":{\"color\":\"#A01503\",\"pattern\":{\"shape\":\"\"}},\"name\":\"neg\",\"offsetgroup\":\"neg\",\"orientation\":\"h\",\"showlegend\":false,\"textposition\":\"auto\",\"x\":[-0.536783],\"xaxis\":\"x14\",\"y\":[\"middleSegmentPlus\"],\"yaxis\":\"y14\",\"type\":\"bar\"},{\"alignmentgroup\":\"True\",\"customdata\":[[\"Customer.BusinessSegment\",\"middleSegmentPlus\",1.0,5669.0]],\"hovertemplate\":\"\\u003cb\\u003e%{customdata[0]}\\u003c\\u002fb\\u003e\\u003cbr\\u003e\\u003cb\\u003e%{customdata[1]}\\u003c\\u002fb\\u003e\\u003cbr\\u003e\\u003cb\\u003eLift: %{x:.2%}\\u003c\\u002fb\\u003e\\u003cbr\\u003eCoverage: %{customdata[2]:.2%}\\u003cbr\\u003eAttributed Responses: %{customdata[3]:.2f}\",\"legendgroup\":\"neg\",\"marker\":{\"color\":\"#A01503\",\"pattern\":{\"shape\":\"\"}},\"name\":\"neg\",\"offsetgroup\":\"neg\",\"orientation\":\"h\",\"showlegend\":false,\"textposition\":\"auto\",\"x\":[-0.13732499999999997],\"xaxis\":\"x15\",\"y\":[\"middleSegmentPlus\"],\"yaxis\":\"y15\",\"type\":\"bar\"},{\"alignmentgroup\":\"True\",\"customdata\":[[\"Customer.BusinessSegment\",\"middleSegmentPlus\",1.0,12453.0]],\"hovertemplate\":\"\\u003cb\\u003e%{customdata[0]}\\u003c\\u002fb\\u003e\\u003cbr\\u003e\\u003cb\\u003e%{customdata[1]}\\u003c\\u002fb\\u003e\\u003cbr\\u003e\\u003cb\\u003eLift: %{x:.2%}\\u003c\\u002fb\\u003e\\u003cbr\\u003eCoverage: %{customdata[2]:.2%}\\u003cbr\\u003eAttributed Responses: %{customdata[3]:.2f}\",\"legendgroup\":\"neg\",\"marker\":{\"color\":\"#A01503\",\"pattern\":{\"shape\":\"\"}},\"name\":\"neg\",\"offsetgroup\":\"neg\",\"orientation\":\"h\",\"showlegend\":false,\"textposition\":\"auto\",\"x\":[-0.28416887500000004],\"xaxis\":\"x16\",\"y\":[\"middleSegmentPlus\"],\"yaxis\":\"y16\",\"type\":\"bar\"},{\"alignmentgroup\":\"True\",\"customdata\":[[\"Customer.MaritalStatus\",\"No Resp+\",1.0,1250.0],[\"Customer.MaritalStatus\",\"Married\",1.0,1283.0]],\"hovertemplate\":\"\\u003cb\\u003e%{customdata[0]}\\u003c\\u002fb\\u003e\\u003cbr\\u003e\\u003cb\\u003e%{customdata[1]}\\u003c\\u002fb\\u003e\\u003cbr\\u003e\\u003cb\\u003eLift: %{x:.2%}\\u003c\\u002fb\\u003e\\u003cbr\\u003eCoverage: %{customdata[2]:.2%}\\u003cbr\\u003eAttributed Responses: %{customdata[3]:.2f}\",\"legendgroup\":\"neg\",\"marker\":{\"color\":\"#A01503\",\"pattern\":{\"shape\":\"\"}},\"name\":\"neg\",\"offsetgroup\":\"neg\",\"orientation\":\"h\",\"showlegend\":false,\"textposition\":\"auto\",\"x\":[-0.09544466666666666,-0.190632],\"xaxis\":\"x9\",\"y\":[\"No Resp+\",\"Married\"],\"yaxis\":\"y9\",\"type\":\"bar\"},{\"alignmentgroup\":\"True\",\"customdata\":[[\"Customer.MaritalStatus\",\"No Resp+\",1.0,222.5],[\"Customer.MaritalStatus\",\"Married\",1.0,222.5]],\"hovertemplate\":\"\\u003cb\\u003e%{customdata[0]}\\u003c\\u002fb\\u003e\\u003cbr\\u003e\\u003cb\\u003e%{customdata[1]}\\u003c\\u002fb\\u003e\\u003cbr\\u003e\\u003cb\\u003eLift: %{x:.2%}\\u003c\\u002fb\\u003e\\u003cbr\\u003eCoverage: %{customdata[2]:.2%}\\u003cbr\\u003eAttributed Responses: %{customdata[3]:.2f}\",\"legendgroup\":\"neg\",\"marker\":{\"color\":\"#A01503\",\"pattern\":{\"shape\":\"\"}},\"name\":\"neg\",\"offsetgroup\":\"neg\",\"orientation\":\"h\",\"showlegend\":false,\"textposition\":\"auto\",\"x\":[-0.32013800000000003,-0.32013800000000003],\"xaxis\":\"x10\",\"y\":[\"No Resp+\",\"Married\"],\"yaxis\":\"y10\",\"type\":\"bar\"},{\"alignmentgroup\":\"True\",\"customdata\":[[\"Customer.MaritalStatus\",\"Married\",1.0,2541.0],[\"Customer.MaritalStatus\",\"No Resp+\",1.0,2477.0]],\"hovertemplate\":\"\\u003cb\\u003e%{customdata[0]}\\u003c\\u002fb\\u003e\\u003cbr\\u003e\\u003cb\\u003e%{customdata[1]}\\u003c\\u002fb\\u003e\\u003cbr\\u003e\\u003cb\\u003eLift: %{x:.2%}\\u003c\\u002fb\\u003e\\u003cbr\\u003eCoverage: %{customdata[2]:.2%}\\u003cbr\\u003eAttributed Responses: %{customdata[3]:.2f}\",\"legendgroup\":\"neg\",\"marker\":{\"color\":\"#A01503\",\"pattern\":{\"shape\":\"\"}},\"name\":\"neg\",\"offsetgroup\":\"neg\",\"orientation\":\"h\",\"showlegend\":false,\"textposition\":\"auto\",\"x\":[-0.2302845,-0.3367265],\"xaxis\":\"x11\",\"y\":[\"Married\",\"No Resp+\"],\"yaxis\":\"y11\",\"type\":\"bar\"},{\"alignmentgroup\":\"True\",\"customdata\":[[\"Customer.MaritalStatus\",\"Single\",1.0,5725.5],[\"Customer.MaritalStatus\",\"Married\",1.0,5266.0],[\"Customer.MaritalStatus\",\"No Resp+\",1.0,5552.5]],\"hovertemplate\":\"\\u003cb\\u003e%{customdata[0]}\\u003c\\u002fb\\u003e\\u003cbr\\u003e\\u003cb\\u003e%{customdata[1]}\\u003c\\u002fb\\u003e\\u003cbr\\u003e\\u003cb\\u003eLift: %{x:.2%}\\u003c\\u002fb\\u003e\\u003cbr\\u003eCoverage: %{customdata[2]:.2%}\\u003cbr\\u003eAttributed Responses: %{customdata[3]:.2f}\",\"legendgroup\":\"neg\",\"marker\":{\"color\":\"#A01503\",\"pattern\":{\"shape\":\"\"}},\"name\":\"neg\",\"offsetgroup\":\"neg\",\"orientation\":\"h\",\"showlegend\":false,\"textposition\":\"auto\",\"x\":[-0.014540333333333341,-0.1803965555555556,-0.281048],\"xaxis\":\"x12\",\"y\":[\"Single\",\"Married\",\"No Resp+\"],\"yaxis\":\"y12\",\"type\":\"bar\"},{\"alignmentgroup\":\"True\",\"customdata\":[[\"Customer.RelationshipStartDate\",\"\\u003c1912.38\",1.0,976.1929514592075],[\"Customer.RelationshipStartDate\",\"\\u003c2518.0\",1.0,765.6712273156311]],\"hovertemplate\":\"\\u003cb\\u003e%{customdata[0]}\\u003c\\u002fb\\u003e\\u003cbr\\u003e\\u003cb\\u003e%{customdata[1]}\\u003c\\u002fb\\u003e\\u003cbr\\u003e\\u003cb\\u003eLift: %{x:.2%}\\u003c\\u002fb\\u003e\\u003cbr\\u003eCoverage: %{customdata[2]:.2%}\\u003cbr\\u003eAttributed Responses: %{customdata[3]:.2f}\",\"legendgroup\":\"neg\",\"marker\":{\"color\":\"#A01503\",\"pattern\":{\"shape\":\"\"}},\"name\":\"neg\",\"offsetgroup\":\"neg\",\"orientation\":\"h\",\"showlegend\":false,\"textposition\":\"auto\",\"x\":[-0.10700358892333661,-0.016873536115679832],\"xaxis\":\"x5\",\"y\":[\"\\u003c1912.38\",\"\\u003c2518.0\"],\"yaxis\":\"y5\",\"type\":\"bar\"},{\"alignmentgroup\":\"True\",\"customdata\":[[\"Customer.RelationshipStartDate\",\"\\u003c701.13\",0.9896140350877194,147.7344812162828],[\"Customer.RelationshipStartDate\",\"\\u003c1306.75\",1.0,148.2375738407711],[\"Customer.RelationshipStartDate\",\"\\u003c3729.25\",0.9999339525283798,129.95569553937514]],\"hovertemplate\":\"\\u003cb\\u003e%{customdata[0]}\\u003c\\u002fb\\u003e\\u003cbr\\u003e\\u003cb\\u003e%{customdata[1]}\\u003c\\u002fb\\u003e\\u003cbr\\u003e\\u003cb\\u003eLift: %{x:.2%}\\u003c\\u002fb\\u003e\\u003cbr\\u003eCoverage: %{customdata[2]:.2%}\\u003cbr\\u003eAttributed Responses: %{customdata[3]:.2f}\",\"legendgroup\":\"neg\",\"marker\":{\"color\":\"#A01503\",\"pattern\":{\"shape\":\"\"}},\"name\":\"neg\",\"offsetgroup\":\"neg\",\"orientation\":\"h\",\"showlegend\":false,\"textposition\":\"auto\",\"x\":[-0.38970800000000005,-0.36266052816007166,-0.03599787822783189],\"xaxis\":\"x6\",\"y\":[\"\\u003c701.13\",\"\\u003c1306.75\",\"\\u003c3729.25\"],\"yaxis\":\"y6\",\"type\":\"bar\"},{\"alignmentgroup\":\"True\",\"customdata\":[[\"Customer.RelationshipStartDate\",\"\\u003c701.13\",1.0,1503.0367716238316],[\"Customer.RelationshipStartDate\",\"\\u003c1912.38\",1.0,1873.4038038851652],[\"Customer.RelationshipStartDate\",\"\\u003c2518.0\",1.0,1529.4059074656482]],\"hovertemplate\":\"\\u003cb\\u003e%{customdata[0]}\\u003c\\u002fb\\u003e\\u003cbr\\u003e\\u003cb\\u003e%{customdata[1]}\\u003c\\u002fb\\u003e\\u003cbr\\u003e\\u003cb\\u003eLift: %{x:.2%}\\u003c\\u002fb\\u003e\\u003cbr\\u003eCoverage: %{customdata[2]:.2%}\\u003cbr\\u003eAttributed Responses: %{customdata[3]:.2f}\",\"legendgroup\":\"neg\",\"marker\":{\"color\":\"#A01503\",\"pattern\":{\"shape\":\"\"}},\"name\":\"neg\",\"offsetgroup\":\"neg\",\"orientation\":\"h\",\"showlegend\":false,\"textposition\":\"auto\",\"x\":[-0.1295734916677752,-0.1482944552002709,-0.10543032800486969],\"xaxis\":\"x7\",\"y\":[\"\\u003c701.13\",\"\\u003c1912.38\",\"\\u003c2518.0\"],\"yaxis\":\"y7\",\"type\":\"bar\"},{\"alignmentgroup\":\"True\",\"customdata\":[[\"Customer.RelationshipStartDate\",\"\\u003c1912.38\",1.0,3502.9862746883828],[\"Customer.RelationshipStartDate\",\"\\u003c2518.0\",1.0,3288.5331047959035],[\"Customer.RelationshipStartDate\",\"\\u003c3123.63\",1.0,3294.549478647111]],\"hovertemplate\":\"\\u003cb\\u003e%{customdata[0]}\\u003c\\u002fb\\u003e\\u003cbr\\u003e\\u003cb\\u003e%{customdata[1]}\\u003c\\u002fb\\u003e\\u003cbr\\u003e\\u003cb\\u003eLift: %{x:.2%}\\u003c\\u002fb\\u003e\\u003cbr\\u003eCoverage: %{customdata[2]:.2%}\\u003cbr\\u003eAttributed Responses: %{customdata[3]:.2f}\",\"legendgroup\":\"neg\",\"marker\":{\"color\":\"#A01503\",\"pattern\":{\"shape\":\"\"}},\"name\":\"neg\",\"offsetgroup\":\"neg\",\"orientation\":\"h\",\"showlegend\":false,\"textposition\":\"auto\",\"x\":[-0.07371384446852425,-0.0019776372559097643,-0.016935449377499356],\"xaxis\":\"x8\",\"y\":[\"\\u003c1912.38\",\"\\u003c2518.0\",\"\\u003c3123.63\"],\"yaxis\":\"y8\",\"type\":\"bar\"},{\"alignmentgroup\":\"True\",\"customdata\":[[\"Customer.RiskCode\",\"R2\",1.0,1327.5],[\"Customer.RiskCode\",\"R1\",1.0,1425.0],[\"Customer.RiskCode\",\"R4\",1.0,1316.5]],\"hovertemplate\":\"\\u003cb\\u003e%{customdata[0]}\\u003c\\u002fb\\u003e\\u003cbr\\u003e\\u003cb\\u003e%{customdata[1]}\\u003c\\u002fb\\u003e\\u003cbr\\u003e\\u003cb\\u003eLift: %{x:.2%}\\u003c\\u002fb\\u003e\\u003cbr\\u003eCoverage: %{customdata[2]:.2%}\\u003cbr\\u003eAttributed Responses: %{customdata[3]:.2f}\",\"legendgroup\":\"neg\",\"marker\":{\"color\":\"#A01503\",\"pattern\":{\"shape\":\"\"}},\"name\":\"neg\",\"offsetgroup\":\"neg\",\"orientation\":\"h\",\"showlegend\":false,\"textposition\":\"auto\",\"x\":[-0.010221499999999967,-0.23891524999999997,-0.26821925],\"xaxis\":\"x\",\"y\":[\"R2\",\"R1\",\"R4\"],\"yaxis\":\"y\",\"type\":\"bar\"},{\"alignmentgroup\":\"True\",\"customdata\":[[\"Customer.RiskCode\",\"R4\",1.0,173.0]],\"hovertemplate\":\"\\u003cb\\u003e%{customdata[0]}\\u003c\\u002fb\\u003e\\u003cbr\\u003e\\u003cb\\u003e%{customdata[1]}\\u003c\\u002fb\\u003e\\u003cbr\\u003e\\u003cb\\u003eLift: %{x:.2%}\\u003c\\u002fb\\u003e\\u003cbr\\u003eCoverage: %{customdata[2]:.2%}\\u003cbr\\u003eAttributed Responses: %{customdata[3]:.2f}\",\"legendgroup\":\"neg\",\"marker\":{\"color\":\"#A01503\",\"pattern\":{\"shape\":\"\"}},\"name\":\"neg\",\"offsetgroup\":\"neg\",\"orientation\":\"h\",\"showlegend\":false,\"textposition\":\"auto\",\"x\":[-0.355714],\"xaxis\":\"x2\",\"y\":[\"R4\"],\"yaxis\":\"y2\",\"type\":\"bar\"},{\"alignmentgroup\":\"True\",\"customdata\":[[\"Customer.RiskCode\",\"R2\",1.0,2415.0],[\"Customer.RiskCode\",\"R4\",1.0,2259.0],[\"Customer.RiskCode\",\"R1\",1.0,2612.0]],\"hovertemplate\":\"\\u003cb\\u003e%{customdata[0]}\\u003c\\u002fb\\u003e\\u003cbr\\u003e\\u003cb\\u003e%{customdata[1]}\\u003c\\u002fb\\u003e\\u003cbr\\u003e\\u003cb\\u003eLift: %{x:.2%}\\u003c\\u002fb\\u003e\\u003cbr\\u003eCoverage: %{customdata[2]:.2%}\\u003cbr\\u003eAttributed Responses: %{customdata[3]:.2f}\",\"legendgroup\":\"neg\",\"marker\":{\"color\":\"#A01503\",\"pattern\":{\"shape\":\"\"}},\"name\":\"neg\",\"offsetgroup\":\"neg\",\"orientation\":\"h\",\"showlegend\":false,\"textposition\":\"auto\",\"x\":[-0.08046949999999997,-0.2061985,-0.265721],\"xaxis\":\"x3\",\"y\":[\"R2\",\"R4\",\"R1\"],\"yaxis\":\"y3\",\"type\":\"bar\"},{\"alignmentgroup\":\"True\",\"customdata\":[[\"Customer.RiskCode\",\"R2\",1.0,6714.5],[\"Customer.RiskCode\",\"R4\",1.0,6233.5]],\"hovertemplate\":\"\\u003cb\\u003e%{customdata[0]}\\u003c\\u002fb\\u003e\\u003cbr\\u003e\\u003cb\\u003e%{customdata[1]}\\u003c\\u002fb\\u003e\\u003cbr\\u003e\\u003cb\\u003eLift: %{x:.2%}\\u003c\\u002fb\\u003e\\u003cbr\\u003eCoverage: %{customdata[2]:.2%}\\u003cbr\\u003eAttributed Responses: %{customdata[3]:.2f}\",\"legendgroup\":\"neg\",\"marker\":{\"color\":\"#A01503\",\"pattern\":{\"shape\":\"\"}},\"name\":\"neg\",\"offsetgroup\":\"neg\",\"orientation\":\"h\",\"showlegend\":false,\"textposition\":\"auto\",\"x\":[-0.19675244444444445,-0.3219258888888889],\"xaxis\":\"x4\",\"y\":[\"R2\",\"R4\"],\"yaxis\":\"y4\",\"type\":\"bar\"}],                        {\"template\":{\"layout\":{\"colorway\":[\"#001F5F\",\"#10A5AC\",\"#F76923\",\"#661D34\",\"#86CAC6\",\"#005154\",\"#86CAC6\",\"#5F67B9\",\"#FFC836\",\"#E63690\",\"#AC1361\",\"#63666F\",\"#A7A9B4\",\"#D0D1DB\"],\"hovermode\":\"closest\"}},\"xaxis\":{\"anchor\":\"y\",\"domain\":[0.0,0.22999999999999998],\"title\":{\"text\":\"\"},\"tickformat\":\",.2%\"},\"yaxis\":{\"anchor\":\"x\",\"domain\":[0.0,0.2275],\"title\":{\"text\":\"\"},\"type\":\"category\",\"categoryorder\":\"array\",\"categoryarray\":[\"youngSegmentPlus\",\"matureSegmentPlus\",\"youngSegmentPlus\",\"youngSegmentPlus\",\"matureSegmentPlus\",\"matureSegmentPlus\",\"youngSegmentPlus\",\"matureSegmentPlus\",\"middleSegmentPlus\",\"middleSegmentPlus\",\"middleSegmentPlus\",\"middleSegmentPlus\",\"Unknown\",\"Single\",\"Unknown\",\"Unknown\",\"Single\",\"Single\",\"Unknown\",\"Single\",\"Married\",\"No Resp+\",\"No Resp+\",\"Married\",\"Married\",\"No Resp+\",\"No Resp+\",\"Married\",\"\\u003c701.13\",\"\\u003c701.13\",\"\\u003c701.13\",\"\\u003c701.13\",\"\\u003c1306.75\",\"\\u003c1306.75\",\"\\u003c1306.75\",\"\\u003c1306.75\",\"\\u003c1912.38\",\"\\u003c1912.38\",\"\\u003c1912.38\",\"\\u003c1912.38\",\"\\u003c2518.0\",\"\\u003c2518.0\",\"\\u003c2518.0\",\"\\u003c2518.0\",\"\\u003c3123.63\",\"\\u003c3123.63\",\"\\u003c3123.63\",\"\\u003c3123.63\",\"\\u003c3729.25\",\"\\u003c3729.25\",\"\\u003c3729.25\",\"\\u003c3729.25\",\"R1\",\"R3\",\"R3\",\"R3\",\"R1\",\"R2\",\"R2\",\"R2\",\"R2\",\"R1\",\"R3\",\"R4\",\"R4\",\"R4\",\"R4\",\"R1\"],\"automargin\":true,\"autorange\":\"reversed\",\"dtick\":1},\"xaxis2\":{\"anchor\":\"y2\",\"domain\":[0.24999999999999997,0.48],\"matches\":\"x\",\"title\":{\"text\":\"\"},\"tickformat\":\",.2%\"},\"yaxis2\":{\"anchor\":\"x2\",\"domain\":[0.0,0.2275],\"showticklabels\":false,\"type\":\"category\",\"categoryorder\":\"array\",\"categoryarray\":[\"youngSegmentPlus\",\"matureSegmentPlus\",\"youngSegmentPlus\",\"youngSegmentPlus\",\"matureSegmentPlus\",\"matureSegmentPlus\",\"youngSegmentPlus\",\"matureSegmentPlus\",\"middleSegmentPlus\",\"middleSegmentPlus\",\"middleSegmentPlus\",\"middleSegmentPlus\",\"Unknown\",\"Single\",\"Unknown\",\"Unknown\",\"Single\",\"Single\",\"Unknown\",\"Single\",\"Married\",\"No Resp+\",\"No Resp+\",\"Married\",\"Married\",\"No Resp+\",\"No Resp+\",\"Married\",\"\\u003c701.13\",\"\\u003c701.13\",\"\\u003c701.13\",\"\\u003c701.13\",\"\\u003c1306.75\",\"\\u003c1306.75\",\"\\u003c1306.75\",\"\\u003c1306.75\",\"\\u003c1912.38\",\"\\u003c1912.38\",\"\\u003c1912.38\",\"\\u003c1912.38\",\"\\u003c2518.0\",\"\\u003c2518.0\",\"\\u003c2518.0\",\"\\u003c2518.0\",\"\\u003c3123.63\",\"\\u003c3123.63\",\"\\u003c3123.63\",\"\\u003c3123.63\",\"\\u003c3729.25\",\"\\u003c3729.25\",\"\\u003c3729.25\",\"\\u003c3729.25\",\"R1\",\"R3\",\"R3\",\"R3\",\"R1\",\"R2\",\"R2\",\"R2\",\"R2\",\"R1\",\"R3\",\"R4\",\"R4\",\"R4\",\"R4\",\"R1\"],\"automargin\":true,\"autorange\":\"reversed\",\"title\":{\"text\":\"\"},\"dtick\":1},\"xaxis3\":{\"anchor\":\"y3\",\"domain\":[0.49999999999999994,0.73],\"matches\":\"x\",\"title\":{\"text\":\"\"},\"tickformat\":\",.2%\"},\"yaxis3\":{\"anchor\":\"x3\",\"domain\":[0.0,0.2275],\"showticklabels\":false,\"type\":\"category\",\"categoryorder\":\"array\",\"categoryarray\":[\"youngSegmentPlus\",\"matureSegmentPlus\",\"youngSegmentPlus\",\"youngSegmentPlus\",\"matureSegmentPlus\",\"matureSegmentPlus\",\"youngSegmentPlus\",\"matureSegmentPlus\",\"middleSegmentPlus\",\"middleSegmentPlus\",\"middleSegmentPlus\",\"middleSegmentPlus\",\"Unknown\",\"Single\",\"Unknown\",\"Unknown\",\"Single\",\"Single\",\"Unknown\",\"Single\",\"Married\",\"No Resp+\",\"No Resp+\",\"Married\",\"Married\",\"No Resp+\",\"No Resp+\",\"Married\",\"\\u003c701.13\",\"\\u003c701.13\",\"\\u003c701.13\",\"\\u003c701.13\",\"\\u003c1306.75\",\"\\u003c1306.75\",\"\\u003c1306.75\",\"\\u003c1306.75\",\"\\u003c1912.38\",\"\\u003c1912.38\",\"\\u003c1912.38\",\"\\u003c1912.38\",\"\\u003c2518.0\",\"\\u003c2518.0\",\"\\u003c2518.0\",\"\\u003c2518.0\",\"\\u003c3123.63\",\"\\u003c3123.63\",\"\\u003c3123.63\",\"\\u003c3123.63\",\"\\u003c3729.25\",\"\\u003c3729.25\",\"\\u003c3729.25\",\"\\u003c3729.25\",\"R1\",\"R3\",\"R3\",\"R3\",\"R1\",\"R2\",\"R2\",\"R2\",\"R2\",\"R1\",\"R3\",\"R4\",\"R4\",\"R4\",\"R4\",\"R1\"],\"automargin\":true,\"autorange\":\"reversed\",\"title\":{\"text\":\"\"},\"dtick\":1},\"xaxis4\":{\"anchor\":\"y4\",\"domain\":[0.75,0.98],\"matches\":\"x\",\"title\":{\"text\":\"\"},\"tickformat\":\",.2%\"},\"yaxis4\":{\"anchor\":\"x4\",\"domain\":[0.0,0.2275],\"showticklabels\":false,\"type\":\"category\",\"categoryorder\":\"array\",\"categoryarray\":[\"youngSegmentPlus\",\"matureSegmentPlus\",\"youngSegmentPlus\",\"youngSegmentPlus\",\"matureSegmentPlus\",\"matureSegmentPlus\",\"youngSegmentPlus\",\"matureSegmentPlus\",\"middleSegmentPlus\",\"middleSegmentPlus\",\"middleSegmentPlus\",\"middleSegmentPlus\",\"Unknown\",\"Single\",\"Unknown\",\"Unknown\",\"Single\",\"Single\",\"Unknown\",\"Single\",\"Married\",\"No Resp+\",\"No Resp+\",\"Married\",\"Married\",\"No Resp+\",\"No Resp+\",\"Married\",\"\\u003c701.13\",\"\\u003c701.13\",\"\\u003c701.13\",\"\\u003c701.13\",\"\\u003c1306.75\",\"\\u003c1306.75\",\"\\u003c1306.75\",\"\\u003c1306.75\",\"\\u003c1912.38\",\"\\u003c1912.38\",\"\\u003c1912.38\",\"\\u003c1912.38\",\"\\u003c2518.0\",\"\\u003c2518.0\",\"\\u003c2518.0\",\"\\u003c2518.0\",\"\\u003c3123.63\",\"\\u003c3123.63\",\"\\u003c3123.63\",\"\\u003c3123.63\",\"\\u003c3729.25\",\"\\u003c3729.25\",\"\\u003c3729.25\",\"\\u003c3729.25\",\"R1\",\"R3\",\"R3\",\"R3\",\"R1\",\"R2\",\"R2\",\"R2\",\"R2\",\"R1\",\"R3\",\"R4\",\"R4\",\"R4\",\"R4\",\"R1\"],\"automargin\":true,\"autorange\":\"reversed\",\"title\":{\"text\":\"\"},\"dtick\":1},\"xaxis5\":{\"anchor\":\"y5\",\"domain\":[0.0,0.22999999999999998],\"matches\":\"x\",\"showticklabels\":false,\"title\":{\"text\":\"\"},\"tickformat\":\",.2%\"},\"yaxis5\":{\"anchor\":\"x5\",\"domain\":[0.2575,0.485],\"title\":{\"text\":\"\"},\"type\":\"category\",\"categoryorder\":\"array\",\"categoryarray\":[\"youngSegmentPlus\",\"matureSegmentPlus\",\"youngSegmentPlus\",\"youngSegmentPlus\",\"matureSegmentPlus\",\"matureSegmentPlus\",\"youngSegmentPlus\",\"matureSegmentPlus\",\"middleSegmentPlus\",\"middleSegmentPlus\",\"middleSegmentPlus\",\"middleSegmentPlus\",\"Unknown\",\"Single\",\"Unknown\",\"Unknown\",\"Single\",\"Single\",\"Unknown\",\"Single\",\"Married\",\"No Resp+\",\"No Resp+\",\"Married\",\"Married\",\"No Resp+\",\"No Resp+\",\"Married\",\"\\u003c701.13\",\"\\u003c701.13\",\"\\u003c701.13\",\"\\u003c701.13\",\"\\u003c1306.75\",\"\\u003c1306.75\",\"\\u003c1306.75\",\"\\u003c1306.75\",\"\\u003c1912.38\",\"\\u003c1912.38\",\"\\u003c1912.38\",\"\\u003c1912.38\",\"\\u003c2518.0\",\"\\u003c2518.0\",\"\\u003c2518.0\",\"\\u003c2518.0\",\"\\u003c3123.63\",\"\\u003c3123.63\",\"\\u003c3123.63\",\"\\u003c3123.63\",\"\\u003c3729.25\",\"\\u003c3729.25\",\"\\u003c3729.25\",\"\\u003c3729.25\",\"R1\",\"R3\",\"R3\",\"R3\",\"R1\",\"R2\",\"R2\",\"R2\",\"R2\",\"R1\",\"R3\",\"R4\",\"R4\",\"R4\",\"R4\",\"R1\"],\"automargin\":true,\"autorange\":\"reversed\",\"dtick\":1},\"xaxis6\":{\"anchor\":\"y6\",\"domain\":[0.24999999999999997,0.48],\"matches\":\"x\",\"showticklabels\":false,\"title\":{\"text\":\"\"},\"tickformat\":\",.2%\"},\"yaxis6\":{\"anchor\":\"x6\",\"domain\":[0.2575,0.485],\"showticklabels\":false,\"type\":\"category\",\"categoryorder\":\"array\",\"categoryarray\":[\"youngSegmentPlus\",\"matureSegmentPlus\",\"youngSegmentPlus\",\"youngSegmentPlus\",\"matureSegmentPlus\",\"matureSegmentPlus\",\"youngSegmentPlus\",\"matureSegmentPlus\",\"middleSegmentPlus\",\"middleSegmentPlus\",\"middleSegmentPlus\",\"middleSegmentPlus\",\"Unknown\",\"Single\",\"Unknown\",\"Unknown\",\"Single\",\"Single\",\"Unknown\",\"Single\",\"Married\",\"No Resp+\",\"No Resp+\",\"Married\",\"Married\",\"No Resp+\",\"No Resp+\",\"Married\",\"\\u003c701.13\",\"\\u003c701.13\",\"\\u003c701.13\",\"\\u003c701.13\",\"\\u003c1306.75\",\"\\u003c1306.75\",\"\\u003c1306.75\",\"\\u003c1306.75\",\"\\u003c1912.38\",\"\\u003c1912.38\",\"\\u003c1912.38\",\"\\u003c1912.38\",\"\\u003c2518.0\",\"\\u003c2518.0\",\"\\u003c2518.0\",\"\\u003c2518.0\",\"\\u003c3123.63\",\"\\u003c3123.63\",\"\\u003c3123.63\",\"\\u003c3123.63\",\"\\u003c3729.25\",\"\\u003c3729.25\",\"\\u003c3729.25\",\"\\u003c3729.25\",\"R1\",\"R3\",\"R3\",\"R3\",\"R1\",\"R2\",\"R2\",\"R2\",\"R2\",\"R1\",\"R3\",\"R4\",\"R4\",\"R4\",\"R4\",\"R1\"],\"automargin\":true,\"autorange\":\"reversed\",\"title\":{\"text\":\"\"},\"dtick\":1},\"xaxis7\":{\"anchor\":\"y7\",\"domain\":[0.49999999999999994,0.73],\"matches\":\"x\",\"showticklabels\":false,\"title\":{\"text\":\"\"},\"tickformat\":\",.2%\"},\"yaxis7\":{\"anchor\":\"x7\",\"domain\":[0.2575,0.485],\"showticklabels\":false,\"type\":\"category\",\"categoryorder\":\"array\",\"categoryarray\":[\"youngSegmentPlus\",\"matureSegmentPlus\",\"youngSegmentPlus\",\"youngSegmentPlus\",\"matureSegmentPlus\",\"matureSegmentPlus\",\"youngSegmentPlus\",\"matureSegmentPlus\",\"middleSegmentPlus\",\"middleSegmentPlus\",\"middleSegmentPlus\",\"middleSegmentPlus\",\"Unknown\",\"Single\",\"Unknown\",\"Unknown\",\"Single\",\"Single\",\"Unknown\",\"Single\",\"Married\",\"No Resp+\",\"No Resp+\",\"Married\",\"Married\",\"No Resp+\",\"No Resp+\",\"Married\",\"\\u003c701.13\",\"\\u003c701.13\",\"\\u003c701.13\",\"\\u003c701.13\",\"\\u003c1306.75\",\"\\u003c1306.75\",\"\\u003c1306.75\",\"\\u003c1306.75\",\"\\u003c1912.38\",\"\\u003c1912.38\",\"\\u003c1912.38\",\"\\u003c1912.38\",\"\\u003c2518.0\",\"\\u003c2518.0\",\"\\u003c2518.0\",\"\\u003c2518.0\",\"\\u003c3123.63\",\"\\u003c3123.63\",\"\\u003c3123.63\",\"\\u003c3123.63\",\"\\u003c3729.25\",\"\\u003c3729.25\",\"\\u003c3729.25\",\"\\u003c3729.25\",\"R1\",\"R3\",\"R3\",\"R3\",\"R1\",\"R2\",\"R2\",\"R2\",\"R2\",\"R1\",\"R3\",\"R4\",\"R4\",\"R4\",\"R4\",\"R1\"],\"automargin\":true,\"autorange\":\"reversed\",\"title\":{\"text\":\"\"},\"dtick\":1},\"xaxis8\":{\"anchor\":\"y8\",\"domain\":[0.75,0.98],\"matches\":\"x\",\"showticklabels\":false,\"title\":{\"text\":\"\"},\"tickformat\":\",.2%\"},\"yaxis8\":{\"anchor\":\"x8\",\"domain\":[0.2575,0.485],\"showticklabels\":false,\"type\":\"category\",\"categoryorder\":\"array\",\"categoryarray\":[\"youngSegmentPlus\",\"matureSegmentPlus\",\"youngSegmentPlus\",\"youngSegmentPlus\",\"matureSegmentPlus\",\"matureSegmentPlus\",\"youngSegmentPlus\",\"matureSegmentPlus\",\"middleSegmentPlus\",\"middleSegmentPlus\",\"middleSegmentPlus\",\"middleSegmentPlus\",\"Unknown\",\"Single\",\"Unknown\",\"Unknown\",\"Single\",\"Single\",\"Unknown\",\"Single\",\"Married\",\"No Resp+\",\"No Resp+\",\"Married\",\"Married\",\"No Resp+\",\"No Resp+\",\"Married\",\"\\u003c701.13\",\"\\u003c701.13\",\"\\u003c701.13\",\"\\u003c701.13\",\"\\u003c1306.75\",\"\\u003c1306.75\",\"\\u003c1306.75\",\"\\u003c1306.75\",\"\\u003c1912.38\",\"\\u003c1912.38\",\"\\u003c1912.38\",\"\\u003c1912.38\",\"\\u003c2518.0\",\"\\u003c2518.0\",\"\\u003c2518.0\",\"\\u003c2518.0\",\"\\u003c3123.63\",\"\\u003c3123.63\",\"\\u003c3123.63\",\"\\u003c3123.63\",\"\\u003c3729.25\",\"\\u003c3729.25\",\"\\u003c3729.25\",\"\\u003c3729.25\",\"R1\",\"R3\",\"R3\",\"R3\",\"R1\",\"R2\",\"R2\",\"R2\",\"R2\",\"R1\",\"R3\",\"R4\",\"R4\",\"R4\",\"R4\",\"R1\"],\"automargin\":true,\"autorange\":\"reversed\",\"title\":{\"text\":\"\"},\"dtick\":1},\"xaxis9\":{\"anchor\":\"y9\",\"domain\":[0.0,0.22999999999999998],\"matches\":\"x\",\"showticklabels\":false,\"title\":{\"text\":\"\"},\"tickformat\":\",.2%\"},\"yaxis9\":{\"anchor\":\"x9\",\"domain\":[0.515,0.7425],\"title\":{\"text\":\"\"},\"type\":\"category\",\"categoryorder\":\"array\",\"categoryarray\":[\"youngSegmentPlus\",\"matureSegmentPlus\",\"youngSegmentPlus\",\"youngSegmentPlus\",\"matureSegmentPlus\",\"matureSegmentPlus\",\"youngSegmentPlus\",\"matureSegmentPlus\",\"middleSegmentPlus\",\"middleSegmentPlus\",\"middleSegmentPlus\",\"middleSegmentPlus\",\"Unknown\",\"Single\",\"Unknown\",\"Unknown\",\"Single\",\"Single\",\"Unknown\",\"Single\",\"Married\",\"No Resp+\",\"No Resp+\",\"Married\",\"Married\",\"No Resp+\",\"No Resp+\",\"Married\",\"\\u003c701.13\",\"\\u003c701.13\",\"\\u003c701.13\",\"\\u003c701.13\",\"\\u003c1306.75\",\"\\u003c1306.75\",\"\\u003c1306.75\",\"\\u003c1306.75\",\"\\u003c1912.38\",\"\\u003c1912.38\",\"\\u003c1912.38\",\"\\u003c1912.38\",\"\\u003c2518.0\",\"\\u003c2518.0\",\"\\u003c2518.0\",\"\\u003c2518.0\",\"\\u003c3123.63\",\"\\u003c3123.63\",\"\\u003c3123.63\",\"\\u003c3123.63\",\"\\u003c3729.25\",\"\\u003c3729.25\",\"\\u003c3729.25\",\"\\u003c3729.25\",\"R1\",\"R3\",\"R3\",\"R3\",\"R1\",\"R2\",\"R2\",\"R2\",\"R2\",\"R1\",\"R3\",\"R4\",\"R4\",\"R4\",\"R4\",\"R1\"],\"automargin\":true,\"autorange\":\"reversed\",\"dtick\":1},\"xaxis10\":{\"anchor\":\"y10\",\"domain\":[0.24999999999999997,0.48],\"matches\":\"x\",\"showticklabels\":false,\"title\":{\"text\":\"\"},\"tickformat\":\",.2%\"},\"yaxis10\":{\"anchor\":\"x10\",\"domain\":[0.515,0.7425],\"showticklabels\":false,\"type\":\"category\",\"categoryorder\":\"array\",\"categoryarray\":[\"youngSegmentPlus\",\"matureSegmentPlus\",\"youngSegmentPlus\",\"youngSegmentPlus\",\"matureSegmentPlus\",\"matureSegmentPlus\",\"youngSegmentPlus\",\"matureSegmentPlus\",\"middleSegmentPlus\",\"middleSegmentPlus\",\"middleSegmentPlus\",\"middleSegmentPlus\",\"Unknown\",\"Single\",\"Unknown\",\"Unknown\",\"Single\",\"Single\",\"Unknown\",\"Single\",\"Married\",\"No Resp+\",\"No Resp+\",\"Married\",\"Married\",\"No Resp+\",\"No Resp+\",\"Married\",\"\\u003c701.13\",\"\\u003c701.13\",\"\\u003c701.13\",\"\\u003c701.13\",\"\\u003c1306.75\",\"\\u003c1306.75\",\"\\u003c1306.75\",\"\\u003c1306.75\",\"\\u003c1912.38\",\"\\u003c1912.38\",\"\\u003c1912.38\",\"\\u003c1912.38\",\"\\u003c2518.0\",\"\\u003c2518.0\",\"\\u003c2518.0\",\"\\u003c2518.0\",\"\\u003c3123.63\",\"\\u003c3123.63\",\"\\u003c3123.63\",\"\\u003c3123.63\",\"\\u003c3729.25\",\"\\u003c3729.25\",\"\\u003c3729.25\",\"\\u003c3729.25\",\"R1\",\"R3\",\"R3\",\"R3\",\"R1\",\"R2\",\"R2\",\"R2\",\"R2\",\"R1\",\"R3\",\"R4\",\"R4\",\"R4\",\"R4\",\"R1\"],\"automargin\":true,\"autorange\":\"reversed\",\"title\":{\"text\":\"\"},\"dtick\":1},\"xaxis11\":{\"anchor\":\"y11\",\"domain\":[0.49999999999999994,0.73],\"matches\":\"x\",\"showticklabels\":false,\"title\":{\"text\":\"\"},\"tickformat\":\",.2%\"},\"yaxis11\":{\"anchor\":\"x11\",\"domain\":[0.515,0.7425],\"showticklabels\":false,\"type\":\"category\",\"categoryorder\":\"array\",\"categoryarray\":[\"youngSegmentPlus\",\"matureSegmentPlus\",\"youngSegmentPlus\",\"youngSegmentPlus\",\"matureSegmentPlus\",\"matureSegmentPlus\",\"youngSegmentPlus\",\"matureSegmentPlus\",\"middleSegmentPlus\",\"middleSegmentPlus\",\"middleSegmentPlus\",\"middleSegmentPlus\",\"Unknown\",\"Single\",\"Unknown\",\"Unknown\",\"Single\",\"Single\",\"Unknown\",\"Single\",\"Married\",\"No Resp+\",\"No Resp+\",\"Married\",\"Married\",\"No Resp+\",\"No Resp+\",\"Married\",\"\\u003c701.13\",\"\\u003c701.13\",\"\\u003c701.13\",\"\\u003c701.13\",\"\\u003c1306.75\",\"\\u003c1306.75\",\"\\u003c1306.75\",\"\\u003c1306.75\",\"\\u003c1912.38\",\"\\u003c1912.38\",\"\\u003c1912.38\",\"\\u003c1912.38\",\"\\u003c2518.0\",\"\\u003c2518.0\",\"\\u003c2518.0\",\"\\u003c2518.0\",\"\\u003c3123.63\",\"\\u003c3123.63\",\"\\u003c3123.63\",\"\\u003c3123.63\",\"\\u003c3729.25\",\"\\u003c3729.25\",\"\\u003c3729.25\",\"\\u003c3729.25\",\"R1\",\"R3\",\"R3\",\"R3\",\"R1\",\"R2\",\"R2\",\"R2\",\"R2\",\"R1\",\"R3\",\"R4\",\"R4\",\"R4\",\"R4\",\"R1\"],\"automargin\":true,\"autorange\":\"reversed\",\"title\":{\"text\":\"\"},\"dtick\":1},\"xaxis12\":{\"anchor\":\"y12\",\"domain\":[0.75,0.98],\"matches\":\"x\",\"showticklabels\":false,\"title\":{\"text\":\"\"},\"tickformat\":\",.2%\"},\"yaxis12\":{\"anchor\":\"x12\",\"domain\":[0.515,0.7425],\"showticklabels\":false,\"type\":\"category\",\"categoryorder\":\"array\",\"categoryarray\":[\"youngSegmentPlus\",\"matureSegmentPlus\",\"youngSegmentPlus\",\"youngSegmentPlus\",\"matureSegmentPlus\",\"matureSegmentPlus\",\"youngSegmentPlus\",\"matureSegmentPlus\",\"middleSegmentPlus\",\"middleSegmentPlus\",\"middleSegmentPlus\",\"middleSegmentPlus\",\"Unknown\",\"Single\",\"Unknown\",\"Unknown\",\"Single\",\"Single\",\"Unknown\",\"Single\",\"Married\",\"No Resp+\",\"No Resp+\",\"Married\",\"Married\",\"No Resp+\",\"No Resp+\",\"Married\",\"\\u003c701.13\",\"\\u003c701.13\",\"\\u003c701.13\",\"\\u003c701.13\",\"\\u003c1306.75\",\"\\u003c1306.75\",\"\\u003c1306.75\",\"\\u003c1306.75\",\"\\u003c1912.38\",\"\\u003c1912.38\",\"\\u003c1912.38\",\"\\u003c1912.38\",\"\\u003c2518.0\",\"\\u003c2518.0\",\"\\u003c2518.0\",\"\\u003c2518.0\",\"\\u003c3123.63\",\"\\u003c3123.63\",\"\\u003c3123.63\",\"\\u003c3123.63\",\"\\u003c3729.25\",\"\\u003c3729.25\",\"\\u003c3729.25\",\"\\u003c3729.25\",\"R1\",\"R3\",\"R3\",\"R3\",\"R1\",\"R2\",\"R2\",\"R2\",\"R2\",\"R1\",\"R3\",\"R4\",\"R4\",\"R4\",\"R4\",\"R1\"],\"automargin\":true,\"autorange\":\"reversed\",\"title\":{\"text\":\"\"},\"dtick\":1},\"xaxis13\":{\"anchor\":\"y13\",\"domain\":[0.0,0.22999999999999998],\"matches\":\"x\",\"showticklabels\":false,\"title\":{\"text\":\"\"},\"tickformat\":\",.2%\"},\"yaxis13\":{\"anchor\":\"x13\",\"domain\":[0.7725,1.0],\"title\":{\"text\":\"\"},\"type\":\"category\",\"categoryorder\":\"array\",\"categoryarray\":[\"youngSegmentPlus\",\"matureSegmentPlus\",\"youngSegmentPlus\",\"youngSegmentPlus\",\"matureSegmentPlus\",\"matureSegmentPlus\",\"youngSegmentPlus\",\"matureSegmentPlus\",\"middleSegmentPlus\",\"middleSegmentPlus\",\"middleSegmentPlus\",\"middleSegmentPlus\",\"Unknown\",\"Single\",\"Unknown\",\"Unknown\",\"Single\",\"Single\",\"Unknown\",\"Single\",\"Married\",\"No Resp+\",\"No Resp+\",\"Married\",\"Married\",\"No Resp+\",\"No Resp+\",\"Married\",\"\\u003c701.13\",\"\\u003c701.13\",\"\\u003c701.13\",\"\\u003c701.13\",\"\\u003c1306.75\",\"\\u003c1306.75\",\"\\u003c1306.75\",\"\\u003c1306.75\",\"\\u003c1912.38\",\"\\u003c1912.38\",\"\\u003c1912.38\",\"\\u003c1912.38\",\"\\u003c2518.0\",\"\\u003c2518.0\",\"\\u003c2518.0\",\"\\u003c2518.0\",\"\\u003c3123.63\",\"\\u003c3123.63\",\"\\u003c3123.63\",\"\\u003c3123.63\",\"\\u003c3729.25\",\"\\u003c3729.25\",\"\\u003c3729.25\",\"\\u003c3729.25\",\"R1\",\"R3\",\"R3\",\"R3\",\"R1\",\"R2\",\"R2\",\"R2\",\"R2\",\"R1\",\"R3\",\"R4\",\"R4\",\"R4\",\"R4\",\"R1\"],\"automargin\":true,\"autorange\":\"reversed\",\"dtick\":1},\"xaxis14\":{\"anchor\":\"y14\",\"domain\":[0.24999999999999997,0.48],\"matches\":\"x\",\"showticklabels\":false,\"title\":{\"text\":\"\"},\"tickformat\":\",.2%\"},\"yaxis14\":{\"anchor\":\"x14\",\"domain\":[0.7725,1.0],\"showticklabels\":false,\"type\":\"category\",\"categoryorder\":\"array\",\"categoryarray\":[\"youngSegmentPlus\",\"matureSegmentPlus\",\"youngSegmentPlus\",\"youngSegmentPlus\",\"matureSegmentPlus\",\"matureSegmentPlus\",\"youngSegmentPlus\",\"matureSegmentPlus\",\"middleSegmentPlus\",\"middleSegmentPlus\",\"middleSegmentPlus\",\"middleSegmentPlus\",\"Unknown\",\"Single\",\"Unknown\",\"Unknown\",\"Single\",\"Single\",\"Unknown\",\"Single\",\"Married\",\"No Resp+\",\"No Resp+\",\"Married\",\"Married\",\"No Resp+\",\"No Resp+\",\"Married\",\"\\u003c701.13\",\"\\u003c701.13\",\"\\u003c701.13\",\"\\u003c701.13\",\"\\u003c1306.75\",\"\\u003c1306.75\",\"\\u003c1306.75\",\"\\u003c1306.75\",\"\\u003c1912.38\",\"\\u003c1912.38\",\"\\u003c1912.38\",\"\\u003c1912.38\",\"\\u003c2518.0\",\"\\u003c2518.0\",\"\\u003c2518.0\",\"\\u003c2518.0\",\"\\u003c3123.63\",\"\\u003c3123.63\",\"\\u003c3123.63\",\"\\u003c3123.63\",\"\\u003c3729.25\",\"\\u003c3729.25\",\"\\u003c3729.25\",\"\\u003c3729.25\",\"R1\",\"R3\",\"R3\",\"R3\",\"R1\",\"R2\",\"R2\",\"R2\",\"R2\",\"R1\",\"R3\",\"R4\",\"R4\",\"R4\",\"R4\",\"R1\"],\"automargin\":true,\"autorange\":\"reversed\",\"title\":{\"text\":\"\"},\"dtick\":1},\"xaxis15\":{\"anchor\":\"y15\",\"domain\":[0.49999999999999994,0.73],\"matches\":\"x\",\"showticklabels\":false,\"title\":{\"text\":\"\"},\"tickformat\":\",.2%\"},\"yaxis15\":{\"anchor\":\"x15\",\"domain\":[0.7725,1.0],\"showticklabels\":false,\"type\":\"category\",\"categoryorder\":\"array\",\"categoryarray\":[\"youngSegmentPlus\",\"matureSegmentPlus\",\"youngSegmentPlus\",\"youngSegmentPlus\",\"matureSegmentPlus\",\"matureSegmentPlus\",\"youngSegmentPlus\",\"matureSegmentPlus\",\"middleSegmentPlus\",\"middleSegmentPlus\",\"middleSegmentPlus\",\"middleSegmentPlus\",\"Unknown\",\"Single\",\"Unknown\",\"Unknown\",\"Single\",\"Single\",\"Unknown\",\"Single\",\"Married\",\"No Resp+\",\"No Resp+\",\"Married\",\"Married\",\"No Resp+\",\"No Resp+\",\"Married\",\"\\u003c701.13\",\"\\u003c701.13\",\"\\u003c701.13\",\"\\u003c701.13\",\"\\u003c1306.75\",\"\\u003c1306.75\",\"\\u003c1306.75\",\"\\u003c1306.75\",\"\\u003c1912.38\",\"\\u003c1912.38\",\"\\u003c1912.38\",\"\\u003c1912.38\",\"\\u003c2518.0\",\"\\u003c2518.0\",\"\\u003c2518.0\",\"\\u003c2518.0\",\"\\u003c3123.63\",\"\\u003c3123.63\",\"\\u003c3123.63\",\"\\u003c3123.63\",\"\\u003c3729.25\",\"\\u003c3729.25\",\"\\u003c3729.25\",\"\\u003c3729.25\",\"R1\",\"R3\",\"R3\",\"R3\",\"R1\",\"R2\",\"R2\",\"R2\",\"R2\",\"R1\",\"R3\",\"R4\",\"R4\",\"R4\",\"R4\",\"R1\"],\"automargin\":true,\"autorange\":\"reversed\",\"title\":{\"text\":\"\"},\"dtick\":1},\"xaxis16\":{\"anchor\":\"y16\",\"domain\":[0.75,0.98],\"matches\":\"x\",\"showticklabels\":false,\"title\":{\"text\":\"\"},\"tickformat\":\",.2%\"},\"yaxis16\":{\"anchor\":\"x16\",\"domain\":[0.7725,1.0],\"showticklabels\":false,\"type\":\"category\",\"categoryorder\":\"array\",\"categoryarray\":[\"youngSegmentPlus\",\"matureSegmentPlus\",\"youngSegmentPlus\",\"youngSegmentPlus\",\"matureSegmentPlus\",\"matureSegmentPlus\",\"youngSegmentPlus\",\"matureSegmentPlus\",\"middleSegmentPlus\",\"middleSegmentPlus\",\"middleSegmentPlus\",\"middleSegmentPlus\",\"Unknown\",\"Single\",\"Unknown\",\"Unknown\",\"Single\",\"Single\",\"Unknown\",\"Single\",\"Married\",\"No Resp+\",\"No Resp+\",\"Married\",\"Married\",\"No Resp+\",\"No Resp+\",\"Married\",\"\\u003c701.13\",\"\\u003c701.13\",\"\\u003c701.13\",\"\\u003c701.13\",\"\\u003c1306.75\",\"\\u003c1306.75\",\"\\u003c1306.75\",\"\\u003c1306.75\",\"\\u003c1912.38\",\"\\u003c1912.38\",\"\\u003c1912.38\",\"\\u003c1912.38\",\"\\u003c2518.0\",\"\\u003c2518.0\",\"\\u003c2518.0\",\"\\u003c2518.0\",\"\\u003c3123.63\",\"\\u003c3123.63\",\"\\u003c3123.63\",\"\\u003c3123.63\",\"\\u003c3729.25\",\"\\u003c3729.25\",\"\\u003c3729.25\",\"\\u003c3729.25\",\"R1\",\"R3\",\"R3\",\"R3\",\"R1\",\"R2\",\"R2\",\"R2\",\"R2\",\"R1\",\"R3\",\"R4\",\"R4\",\"R4\",\"R4\",\"R1\"],\"automargin\":true,\"autorange\":\"reversed\",\"title\":{\"text\":\"\"},\"dtick\":1},\"annotations\":[{\"showarrow\":false,\"text\":\"HomeLoans\",\"x\":0.11499999999999999,\"xanchor\":\"center\",\"xref\":\"paper\",\"y\":1.0,\"yanchor\":\"bottom\",\"yref\":\"paper\"},{\"showarrow\":false,\"text\":\"CreditCards\",\"x\":0.365,\"xanchor\":\"center\",\"xref\":\"paper\",\"y\":1.0,\"yanchor\":\"bottom\",\"yref\":\"paper\"},{\"showarrow\":false,\"text\":\"Bundles\",\"x\":0.615,\"xanchor\":\"center\",\"xref\":\"paper\",\"y\":1.0,\"yanchor\":\"bottom\",\"yref\":\"paper\"},{\"showarrow\":false,\"text\":\"AutoLoans\",\"x\":0.865,\"xanchor\":\"center\",\"xref\":\"paper\",\"y\":1.0,\"yanchor\":\"bottom\",\"yref\":\"paper\"},{\"showarrow\":false,\"text\":\"RiskCode\",\"textangle\":90,\"x\":0.98,\"xanchor\":\"left\",\"xref\":\"paper\",\"y\":0.11375,\"yanchor\":\"middle\",\"yref\":\"paper\"},{\"showarrow\":false,\"text\":\"RelationshipStartDate\",\"textangle\":90,\"x\":0.98,\"xanchor\":\"left\",\"xref\":\"paper\",\"y\":0.37124999999999997,\"yanchor\":\"middle\",\"yref\":\"paper\"},{\"showarrow\":false,\"text\":\"MaritalStatus\",\"textangle\":90,\"x\":0.98,\"xanchor\":\"left\",\"xref\":\"paper\",\"y\":0.62875,\"yanchor\":\"middle\",\"yref\":\"paper\"},{\"showarrow\":false,\"text\":\"BusinessSegment\",\"textangle\":90,\"x\":0.98,\"xanchor\":\"left\",\"xref\":\"paper\",\"y\":0.88625,\"yanchor\":\"middle\",\"yref\":\"paper\"}],\"legend\":{\"title\":{\"text\":\"Direction\"},\"tracegroupgap\":0},\"margin\":{\"t\":60},\"barmode\":\"relative\",\"shapes\":[{\"line\":{\"color\":\"black\"},\"type\":\"line\",\"x0\":0,\"x1\":0,\"xref\":\"x\",\"y0\":0,\"y1\":1,\"yref\":\"y domain\"},{\"line\":{\"color\":\"black\"},\"type\":\"line\",\"x0\":0,\"x1\":0,\"xref\":\"x2\",\"y0\":0,\"y1\":1,\"yref\":\"y2 domain\"},{\"line\":{\"color\":\"black\"},\"type\":\"line\",\"x0\":0,\"x1\":0,\"xref\":\"x3\",\"y0\":0,\"y1\":1,\"yref\":\"y3 domain\"},{\"line\":{\"color\":\"black\"},\"type\":\"line\",\"x0\":0,\"x1\":0,\"xref\":\"x4\",\"y0\":0,\"y1\":1,\"yref\":\"y4 domain\"},{\"line\":{\"color\":\"black\"},\"type\":\"line\",\"x0\":0,\"x1\":0,\"xref\":\"x5\",\"y0\":0,\"y1\":1,\"yref\":\"y5 domain\"},{\"line\":{\"color\":\"black\"},\"type\":\"line\",\"x0\":0,\"x1\":0,\"xref\":\"x6\",\"y0\":0,\"y1\":1,\"yref\":\"y6 domain\"},{\"line\":{\"color\":\"black\"},\"type\":\"line\",\"x0\":0,\"x1\":0,\"xref\":\"x7\",\"y0\":0,\"y1\":1,\"yref\":\"y7 domain\"},{\"line\":{\"color\":\"black\"},\"type\":\"line\",\"x0\":0,\"x1\":0,\"xref\":\"x8\",\"y0\":0,\"y1\":1,\"yref\":\"y8 domain\"},{\"line\":{\"color\":\"black\"},\"type\":\"line\",\"x0\":0,\"x1\":0,\"xref\":\"x9\",\"y0\":0,\"y1\":1,\"yref\":\"y9 domain\"},{\"line\":{\"color\":\"black\"},\"type\":\"line\",\"x0\":0,\"x1\":0,\"xref\":\"x10\",\"y0\":0,\"y1\":1,\"yref\":\"y10 domain\"},{\"line\":{\"color\":\"black\"},\"type\":\"line\",\"x0\":0,\"x1\":0,\"xref\":\"x11\",\"y0\":0,\"y1\":1,\"yref\":\"y11 domain\"},{\"line\":{\"color\":\"black\"},\"type\":\"line\",\"x0\":0,\"x1\":0,\"xref\":\"x12\",\"y0\":0,\"y1\":1,\"yref\":\"y12 domain\"},{\"line\":{\"color\":\"black\"},\"type\":\"line\",\"x0\":0,\"x1\":0,\"xref\":\"x13\",\"y0\":0,\"y1\":1,\"yref\":\"y13 domain\"},{\"line\":{\"color\":\"black\"},\"type\":\"line\",\"x0\":0,\"x1\":0,\"xref\":\"x14\",\"y0\":0,\"y1\":1,\"yref\":\"y14 domain\"},{\"line\":{\"color\":\"black\"},\"type\":\"line\",\"x0\":0,\"x1\":0,\"xref\":\"x15\",\"y0\":0,\"y1\":1,\"yref\":\"y15 domain\"},{\"line\":{\"color\":\"black\"},\"type\":\"line\",\"x0\":0,\"x1\":0,\"xref\":\"x16\",\"y0\":0,\"y1\":1,\"yref\":\"y16 domain\"}],\"showlegend\":false,\"title\":{\"text\":\"Propensity lift in 15 models across 3 channels\"},\"hovermode\":\"y\",\"height\":600},                        {\"responsive\": true}                    ).then(function(){\n",
       "                            \n",
       "var gd = document.getElementById('2376d515-835d-4af4-9c36-684b4edb3825');\n",
       "var x = new MutationObserver(function (mutations, observer) {{\n",
       "        var display = window.getComputedStyle(gd).display;\n",
       "        if (!display || display === 'none') {{\n",
       "            console.log([gd, 'removed!']);\n",
       "            Plotly.purge(gd);\n",
       "            observer.disconnect();\n",
       "        }}\n",
       "}});\n",
       "\n",
       "// Listen for the removal of the full notebook cells\n",
       "var notebookContainer = gd.closest('#notebook-container');\n",
       "if (notebookContainer) {{\n",
       "    x.observe(notebookContainer, {childList: true});\n",
       "}}\n",
       "\n",
       "// Listen for the clearing of the current output cell\n",
       "var outputEl = gd.closest('.output');\n",
       "if (outputEl) {{\n",
       "    x.observe(outputEl, {childList: true});\n",
       "}}\n",
       "\n",
       "                        })                };                });            </script>        </div>"
      ]
     },
     "metadata": {},
     "output_type": "display_data"
    }
   ],
   "source": [
    "top_predictors = dm.plotPredictorPerformance(\n",
    "    top_n=10,\n",
    "    query=pl.col(\"PredictorCategory\")\n",
    "    == \"Customer\",  # skip the \"IH\" predictors, taking only the ones prefixed with \"Customer.\"\n",
    "    return_df=True,  # with \"return_df\" True this returns a tuple, the second element [1] gives the top n predictors\n",
    ")[1]\n",
    "\n",
    "fig = myAggregator.roll_up(top_predictors[0:4], n=6, aggregation=\"Group\")\n",
    "fig.update_layout(height=600)\n",
    "fig.for_each_annotation(\n",
    "    lambda a: a.update(text=a.text.split(\".\")[-1])\n",
    ")  # trick to show just the part of the predictor names after the dot\n",
    "\n",
    "fig.show()"
   ]
  },
  {
   "cell_type": "markdown",
   "metadata": {},
   "source": [
    "## Subsetting the data\n",
    "\n",
    "The examples above all work with all the data passed in from the datamart - all the models, across all the channels etc. If you want to analyse just part of the models,perhaps certain issues, certain channels, or exclude some, there are various ways to do so.\n",
    "\n",
    "You can subset the data when creating the ADM datamart (see the query argument there), or do that when constructing the \"BinAggregator\", which also has a query argument.\n",
    "\n",
    "The query argument, like in most of PDS Tools, is a Polars expression. See Polars documentation for the full details. Note the Polars glibberish necessary below to work with the \"categorical\" Group column when we want to do the analysis only on the \"Loan\" groups."
   ]
  },
  {
   "cell_type": "code",
   "execution_count": 12,
   "metadata": {
    "execution": {
     "iopub.execute_input": "2024-10-22T12:36:01.269099Z",
     "iopub.status.busy": "2024-10-22T12:36:01.268776Z",
     "iopub.status.idle": "2024-10-22T12:36:01.458375Z",
     "shell.execute_reply": "2024-10-22T12:36:01.457762Z"
    }
   },
   "outputs": [
    {
     "data": {
      "text/html": [
       "<div>                            <div id=\"e318c55a-17b3-49af-a1e3-5d8ae35622d5\" class=\"plotly-graph-div\" style=\"height:525px; width:100%;\"></div>            <script type=\"text/javascript\">                require([\"plotly\"], function(Plotly) {                    window.PLOTLYENV=window.PLOTLYENV || {};                                    if (document.getElementById(\"e318c55a-17b3-49af-a1e3-5d8ae35622d5\")) {                    Plotly.newPlot(                        \"e318c55a-17b3-49af-a1e3-5d8ae35622d5\",                        [{\"alignmentgroup\":\"True\",\"customdata\":[[\"Customer.Age\",\"\\u003c28.0\",1.0,2920.9986909616377],[\"Customer.Age\",\"\\u003c58.0\",1.0,2267.7029182624856],[\"Customer.Age\",\"\\u003c68.0\",1.0,1060.3023069124824],[\"Customer.Age\",\"\\u003c78.0\",0.9800000000000001,965.2379261172734]],\"hovertemplate\":\"\\u003cb\\u003e%{customdata[0]}\\u003c\\u002fb\\u003e\\u003cbr\\u003e\\u003cb\\u003e%{customdata[1]}\\u003c\\u002fb\\u003e\\u003cbr\\u003e\\u003cb\\u003eLift: %{x:.2%}\\u003c\\u002fb\\u003e\\u003cbr\\u003eCoverage: %{customdata[2]:.2%}\\u003cbr\\u003eAttributed Responses: %{customdata[3]:.2f}\",\"legendgroup\":\"pos\",\"marker\":{\"color\":\"#5F9F37\",\"pattern\":{\"shape\":\"\"}},\"name\":\"pos\",\"offsetgroup\":\"pos\",\"orientation\":\"h\",\"showlegend\":true,\"textposition\":\"auto\",\"x\":[0.38168183393844607,0.38057276349651337,0.5011783999999999,0.5103085714285714],\"xaxis\":\"x3\",\"y\":[\"\\u003c28.0\",\"\\u003c58.0\",\"\\u003c68.0\",\"\\u003c78.0\"],\"yaxis\":\"y3\",\"type\":\"bar\"},{\"alignmentgroup\":\"True\",\"customdata\":[[\"Customer.Age\",\"\\u003c28.0\",0.9857142857142858,652.6124159239191],[\"Customer.Age\",\"\\u003c58.0\",1.0000000000000002,797.9809674546193],[\"Customer.Age\",\"\\u003c68.0\",1.0,209.47509309533783],[\"Customer.Age\",\"\\u003c78.0\",0.8714285714285713,209.47509309533783]],\"hovertemplate\":\"\\u003cb\\u003e%{customdata[0]}\\u003c\\u002fb\\u003e\\u003cbr\\u003e\\u003cb\\u003e%{customdata[1]}\\u003c\\u002fb\\u003e\\u003cbr\\u003e\\u003cb\\u003eLift: %{x:.2%}\\u003c\\u002fb\\u003e\\u003cbr\\u003eCoverage: %{customdata[2]:.2%}\\u003cbr\\u003eAttributed Responses: %{customdata[3]:.2f}\",\"legendgroup\":\"pos\",\"marker\":{\"color\":\"#5F9F37\",\"pattern\":{\"shape\":\"\"}},\"name\":\"pos\",\"offsetgroup\":\"pos\",\"orientation\":\"h\",\"showlegend\":false,\"textposition\":\"auto\",\"x\":[0.18381321803629225,0.10269817771279471,0.14598728571428574,0.167526393442623],\"xaxis\":\"x4\",\"y\":[\"\\u003c28.0\",\"\\u003c58.0\",\"\\u003c68.0\",\"\\u003c78.0\"],\"yaxis\":\"y4\",\"type\":\"bar\"},{\"alignmentgroup\":\"True\",\"customdata\":[[\"Customer.Prefix\",\"Ms.\",1.0,4658.5],[\"Customer.Prefix\",\"Mrs.\",1.0,3774.5],[\"Customer.Prefix\",\"Miss\",1.0,4553.0]],\"hovertemplate\":\"\\u003cb\\u003e%{customdata[0]}\\u003c\\u002fb\\u003e\\u003cbr\\u003e\\u003cb\\u003e%{customdata[1]}\\u003c\\u002fb\\u003e\\u003cbr\\u003e\\u003cb\\u003eLift: %{x:.2%}\\u003c\\u002fb\\u003e\\u003cbr\\u003eCoverage: %{customdata[2]:.2%}\\u003cbr\\u003eAttributed Responses: %{customdata[3]:.2f}\",\"legendgroup\":\"pos\",\"marker\":{\"color\":\"#5F9F37\",\"pattern\":{\"shape\":\"\"}},\"name\":\"pos\",\"offsetgroup\":\"pos\",\"orientation\":\"h\",\"showlegend\":false,\"textposition\":\"auto\",\"x\":[0.14355133333333328,0.08290866666666669,0.05859877777777778],\"xaxis\":\"x\",\"y\":[\"Ms.\",\"Mrs.\",\"Miss\"],\"yaxis\":\"y\",\"type\":\"bar\"},{\"alignmentgroup\":\"True\",\"customdata\":[[\"Customer.Prefix\",\"Miss\",1.0,1058.5]],\"hovertemplate\":\"\\u003cb\\u003e%{customdata[0]}\\u003c\\u002fb\\u003e\\u003cbr\\u003e\\u003cb\\u003e%{customdata[1]}\\u003c\\u002fb\\u003e\\u003cbr\\u003e\\u003cb\\u003eLift: %{x:.2%}\\u003c\\u002fb\\u003e\\u003cbr\\u003eCoverage: %{customdata[2]:.2%}\\u003cbr\\u003eAttributed Responses: %{customdata[3]:.2f}\",\"legendgroup\":\"pos\",\"marker\":{\"color\":\"#5F9F37\",\"pattern\":{\"shape\":\"\"}},\"name\":\"pos\",\"offsetgroup\":\"pos\",\"orientation\":\"h\",\"showlegend\":false,\"textposition\":\"auto\",\"x\":[0.497477],\"xaxis\":\"x2\",\"y\":[\"Miss\"],\"yaxis\":\"y2\",\"type\":\"bar\"},{\"alignmentgroup\":\"True\",\"customdata\":[[\"Customer.Age\",\"\\u003c38.0\",1.0,5928.252964708149],[\"Customer.Age\",\"\\u003c48.0\",1.0000000000000002,6816.505193037974]],\"hovertemplate\":\"\\u003cb\\u003e%{customdata[0]}\\u003c\\u002fb\\u003e\\u003cbr\\u003e\\u003cb\\u003e%{customdata[1]}\\u003c\\u002fb\\u003e\\u003cbr\\u003e\\u003cb\\u003eLift: %{x:.2%}\\u003c\\u002fb\\u003e\\u003cbr\\u003eCoverage: %{customdata[2]:.2%}\\u003cbr\\u003eAttributed Responses: %{customdata[3]:.2f}\",\"legendgroup\":\"neg\",\"marker\":{\"color\":\"#A01503\",\"pattern\":{\"shape\":\"\"}},\"name\":\"neg\",\"offsetgroup\":\"neg\",\"orientation\":\"h\",\"showlegend\":true,\"textposition\":\"auto\",\"x\":[-0.177244945127697,-0.09434798998817444],\"xaxis\":\"x3\",\"y\":[\"\\u003c38.0\",\"\\u003c48.0\"],\"yaxis\":\"y3\",\"type\":\"bar\"},{\"alignmentgroup\":\"True\",\"customdata\":[[\"Customer.Age\",\"\\u003c38.0\",1.0,1254.315837652011],[\"Customer.Age\",\"\\u003c48.0\",1.0,1753.140592778775]],\"hovertemplate\":\"\\u003cb\\u003e%{customdata[0]}\\u003c\\u002fb\\u003e\\u003cbr\\u003e\\u003cb\\u003e%{customdata[1]}\\u003c\\u002fb\\u003e\\u003cbr\\u003e\\u003cb\\u003eLift: %{x:.2%}\\u003c\\u002fb\\u003e\\u003cbr\\u003eCoverage: %{customdata[2]:.2%}\\u003cbr\\u003eAttributed Responses: %{customdata[3]:.2f}\",\"legendgroup\":\"neg\",\"marker\":{\"color\":\"#A01503\",\"pattern\":{\"shape\":\"\"}},\"name\":\"neg\",\"offsetgroup\":\"neg\",\"orientation\":\"h\",\"showlegend\":false,\"textposition\":\"auto\",\"x\":[-0.031762512705176195,-0.07729122549307689],\"xaxis\":\"x4\",\"y\":[\"\\u003c38.0\",\"\\u003c48.0\"],\"yaxis\":\"y4\",\"type\":\"bar\"},{\"alignmentgroup\":\"True\",\"customdata\":[[\"Customer.Prefix\",\"Dr.\",1.0,4065.5],[\"Customer.Prefix\",\"Mr.\",1.0,4150.5]],\"hovertemplate\":\"\\u003cb\\u003e%{customdata[0]}\\u003c\\u002fb\\u003e\\u003cbr\\u003e\\u003cb\\u003e%{customdata[1]}\\u003c\\u002fb\\u003e\\u003cbr\\u003e\\u003cb\\u003eLift: %{x:.2%}\\u003c\\u002fb\\u003e\\u003cbr\\u003eCoverage: %{customdata[2]:.2%}\\u003cbr\\u003eAttributed Responses: %{customdata[3]:.2f}\",\"legendgroup\":\"neg\",\"marker\":{\"color\":\"#A01503\",\"pattern\":{\"shape\":\"\"}},\"name\":\"neg\",\"offsetgroup\":\"neg\",\"orientation\":\"h\",\"showlegend\":false,\"textposition\":\"auto\",\"x\":[-0.07009866666666667,-0.24019422222222225],\"xaxis\":\"x\",\"y\":[\"Dr.\",\"Mr.\"],\"yaxis\":\"y\",\"type\":\"bar\"},{\"alignmentgroup\":\"True\",\"customdata\":[[\"Customer.Prefix\",\"Mrs.\",1.0,1036.5],[\"Customer.Prefix\",\"Dr.\",1.0,1106.5],[\"Customer.Prefix\",\"Mr.\",1.0,1091.0],[\"Customer.Prefix\",\"Ms.\",1.0,1102.5]],\"hovertemplate\":\"\\u003cb\\u003e%{customdata[0]}\\u003c\\u002fb\\u003e\\u003cbr\\u003e\\u003cb\\u003e%{customdata[1]}\\u003c\\u002fb\\u003e\\u003cbr\\u003e\\u003cb\\u003eLift: %{x:.2%}\\u003c\\u002fb\\u003e\\u003cbr\\u003eCoverage: %{customdata[2]:.2%}\\u003cbr\\u003eAttributed Responses: %{customdata[3]:.2f}\",\"legendgroup\":\"neg\",\"marker\":{\"color\":\"#A01503\",\"pattern\":{\"shape\":\"\"}},\"name\":\"neg\",\"offsetgroup\":\"neg\",\"orientation\":\"h\",\"showlegend\":false,\"textposition\":\"auto\",\"x\":[-0.00505950000000005,-0.086789,-0.13312375,-0.2140155],\"xaxis\":\"x2\",\"y\":[\"Mrs.\",\"Dr.\",\"Mr.\",\"Ms.\"],\"yaxis\":\"y2\",\"type\":\"bar\"}],                        {\"template\":{\"layout\":{\"colorway\":[\"#001F5F\",\"#10A5AC\",\"#F76923\",\"#661D34\",\"#86CAC6\",\"#005154\",\"#86CAC6\",\"#5F67B9\",\"#FFC836\",\"#E63690\",\"#AC1361\",\"#63666F\",\"#A7A9B4\",\"#D0D1DB\"],\"hovermode\":\"closest\"}},\"xaxis\":{\"anchor\":\"y\",\"domain\":[0.0,0.48],\"title\":{\"text\":\"\"},\"tickformat\":\",.2%\"},\"yaxis\":{\"anchor\":\"x\",\"domain\":[0.0,0.485],\"title\":{\"text\":\"\"},\"type\":\"category\",\"categoryorder\":\"array\",\"categoryarray\":[\"\\u003c28.0\",\"\\u003c28.0\",\"\\u003c38.0\",\"\\u003c38.0\",\"\\u003c48.0\",\"\\u003c48.0\",\"\\u003c58.0\",\"\\u003c58.0\",\"\\u003c68.0\",\"\\u003c68.0\",\"\\u003c78.0\",\"\\u003c78.0\",\"Ms.\",\"Miss\",\"Mrs.\",\"Mrs.\",\"Dr.\",\"Miss\",\"Mr.\",\"Dr.\",\"Ms.\",\"Mr.\"],\"automargin\":true,\"autorange\":\"reversed\",\"dtick\":1},\"xaxis2\":{\"anchor\":\"y2\",\"domain\":[0.5,0.98],\"matches\":\"x\",\"title\":{\"text\":\"\"},\"tickformat\":\",.2%\"},\"yaxis2\":{\"anchor\":\"x2\",\"domain\":[0.0,0.485],\"showticklabels\":false,\"type\":\"category\",\"categoryorder\":\"array\",\"categoryarray\":[\"\\u003c28.0\",\"\\u003c28.0\",\"\\u003c38.0\",\"\\u003c38.0\",\"\\u003c48.0\",\"\\u003c48.0\",\"\\u003c58.0\",\"\\u003c58.0\",\"\\u003c68.0\",\"\\u003c68.0\",\"\\u003c78.0\",\"\\u003c78.0\",\"Ms.\",\"Miss\",\"Mrs.\",\"Mrs.\",\"Dr.\",\"Miss\",\"Mr.\",\"Dr.\",\"Ms.\",\"Mr.\"],\"automargin\":true,\"autorange\":\"reversed\",\"title\":{\"text\":\"\"},\"dtick\":1},\"xaxis3\":{\"anchor\":\"y3\",\"domain\":[0.0,0.48],\"matches\":\"x\",\"showticklabels\":false,\"title\":{\"text\":\"\"},\"tickformat\":\",.2%\"},\"yaxis3\":{\"anchor\":\"x3\",\"domain\":[0.515,1.0],\"title\":{\"text\":\"\"},\"type\":\"category\",\"categoryorder\":\"array\",\"categoryarray\":[\"\\u003c28.0\",\"\\u003c28.0\",\"\\u003c38.0\",\"\\u003c38.0\",\"\\u003c48.0\",\"\\u003c48.0\",\"\\u003c58.0\",\"\\u003c58.0\",\"\\u003c68.0\",\"\\u003c68.0\",\"\\u003c78.0\",\"\\u003c78.0\",\"Ms.\",\"Miss\",\"Mrs.\",\"Mrs.\",\"Dr.\",\"Miss\",\"Mr.\",\"Dr.\",\"Ms.\",\"Mr.\"],\"automargin\":true,\"autorange\":\"reversed\",\"dtick\":1},\"xaxis4\":{\"anchor\":\"y4\",\"domain\":[0.5,0.98],\"matches\":\"x\",\"showticklabels\":false,\"title\":{\"text\":\"\"},\"tickformat\":\",.2%\"},\"yaxis4\":{\"anchor\":\"x4\",\"domain\":[0.515,1.0],\"showticklabels\":false,\"type\":\"category\",\"categoryorder\":\"array\",\"categoryarray\":[\"\\u003c28.0\",\"\\u003c28.0\",\"\\u003c38.0\",\"\\u003c38.0\",\"\\u003c48.0\",\"\\u003c48.0\",\"\\u003c58.0\",\"\\u003c58.0\",\"\\u003c68.0\",\"\\u003c68.0\",\"\\u003c78.0\",\"\\u003c78.0\",\"Ms.\",\"Miss\",\"Mrs.\",\"Mrs.\",\"Dr.\",\"Miss\",\"Mr.\",\"Dr.\",\"Ms.\",\"Mr.\"],\"automargin\":true,\"autorange\":\"reversed\",\"title\":{\"text\":\"\"},\"dtick\":1},\"annotations\":[{\"showarrow\":false,\"text\":\"AutoLoans\",\"x\":0.24,\"xanchor\":\"center\",\"xref\":\"paper\",\"y\":1.0,\"yanchor\":\"bottom\",\"yref\":\"paper\"},{\"showarrow\":false,\"text\":\"HomeLoans\",\"x\":0.74,\"xanchor\":\"center\",\"xref\":\"paper\",\"y\":1.0,\"yanchor\":\"bottom\",\"yref\":\"paper\"},{\"showarrow\":false,\"text\":\"Customer.Prefix\",\"textangle\":90,\"x\":0.98,\"xanchor\":\"left\",\"xref\":\"paper\",\"y\":0.2425,\"yanchor\":\"middle\",\"yref\":\"paper\"},{\"showarrow\":false,\"text\":\"Customer.Age\",\"textangle\":90,\"x\":0.98,\"xanchor\":\"left\",\"xref\":\"paper\",\"y\":0.7575000000000001,\"yanchor\":\"middle\",\"yref\":\"paper\"}],\"legend\":{\"title\":{\"text\":\"Direction\"},\"tracegroupgap\":0},\"margin\":{\"t\":60},\"barmode\":\"relative\",\"shapes\":[{\"line\":{\"color\":\"black\"},\"type\":\"line\",\"x0\":0,\"x1\":0,\"xref\":\"x\",\"y0\":0,\"y1\":1,\"yref\":\"y domain\"},{\"line\":{\"color\":\"black\"},\"type\":\"line\",\"x0\":0,\"x1\":0,\"xref\":\"x2\",\"y0\":0,\"y1\":1,\"yref\":\"y2 domain\"},{\"line\":{\"color\":\"black\"},\"type\":\"line\",\"x0\":0,\"x1\":0,\"xref\":\"x3\",\"y0\":0,\"y1\":1,\"yref\":\"y3 domain\"},{\"line\":{\"color\":\"black\"},\"type\":\"line\",\"x0\":0,\"x1\":0,\"xref\":\"x4\",\"y0\":0,\"y1\":1,\"yref\":\"y4 domain\"}],\"showlegend\":false,\"title\":{\"text\":\"Propensity lift in 13 models across 3 channels\"},\"hovermode\":\"y\"},                        {\"responsive\": true}                    ).then(function(){\n",
       "                            \n",
       "var gd = document.getElementById('e318c55a-17b3-49af-a1e3-5d8ae35622d5');\n",
       "var x = new MutationObserver(function (mutations, observer) {{\n",
       "        var display = window.getComputedStyle(gd).display;\n",
       "        if (!display || display === 'none') {{\n",
       "            console.log([gd, 'removed!']);\n",
       "            Plotly.purge(gd);\n",
       "            observer.disconnect();\n",
       "        }}\n",
       "}});\n",
       "\n",
       "// Listen for the removal of the full notebook cells\n",
       "var notebookContainer = gd.closest('#notebook-container');\n",
       "if (notebookContainer) {{\n",
       "    x.observe(notebookContainer, {childList: true});\n",
       "}}\n",
       "\n",
       "// Listen for the clearing of the current output cell\n",
       "var outputEl = gd.closest('.output');\n",
       "if (outputEl) {{\n",
       "    x.observe(outputEl, {childList: true});\n",
       "}}\n",
       "\n",
       "                        })                };                });            </script>        </div>"
      ]
     },
     "metadata": {},
     "output_type": "display_data"
    }
   ],
   "source": [
    "binAggregator = BinAggregator(\n",
    "    dm, query=pl.col(\"Group\").cast(pl.Utf8).str.contains(\"Loan\")\n",
    ")\n",
    "fig = binAggregator.roll_up(\n",
    "    [\"Customer.Prefix\", \"Customer.Age\"], n=6, aggregation=\"Group\"\n",
    ")\n",
    "fig.show()"
   ]
  }
 ],
 "metadata": {
  "kernelspec": {
   "display_name": "env-p11",
   "language": "python",
   "name": "python3"
  },
  "language_info": {
   "codemirror_mode": {
    "name": "ipython",
    "version": 3
   },
   "file_extension": ".py",
   "mimetype": "text/x-python",
   "name": "python",
   "nbconvert_exporter": "python",
   "pygments_lexer": "ipython3",
   "version": "3.11.10"
  }
 },
 "nbformat": 4,
 "nbformat_minor": 2
}
