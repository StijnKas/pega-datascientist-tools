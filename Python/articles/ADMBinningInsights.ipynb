{
 "cells": [
  {
   "cell_type": "markdown",
   "metadata": {},
   "source": [
    "# Insights from ADM Models\n",
    "\n",
    "The predictor binning from ADM models can deliver great insights to marketing and business and provides transparency into the models. \n",
    "\n",
    "Both AGB and NB types of ADM models already provide overall predictor importance views like these:\n",
    "\n"
   ]
  },
  {
   "cell_type": "code",
   "execution_count": 1,
   "metadata": {
    "execution": {
     "iopub.execute_input": "2024-06-25T13:54:39.517072Z",
     "iopub.status.busy": "2024-06-25T13:54:39.516843Z",
     "iopub.status.idle": "2024-06-25T13:54:39.619597Z",
     "shell.execute_reply": "2024-06-25T13:54:39.618435Z"
    },
    "nbsphinx": "hidden"
   },
   "outputs": [],
   "source": [
    "# These lines are only for rendering in the docs, and are hidden through Jupyter tags\n",
    "# Do not run if you're running the notebook seperately\n",
    "# Hidden from doc by virtue of cell tags - in VSCode right-click on the bar to the left of this cell, edit cell tags, see metadata\n",
    "\n",
    "import plotly.io as pio\n",
    "\n",
    "pio.renderers.default = \"notebook_connected\"\n",
    "\n",
    "import sys\n",
    "\n",
    "sys.path.append(\"../../../\")\n",
    "\n",
    "import warnings\n",
    "\n",
    "warnings.simplefilter(\"ignore\", SyntaxWarning)"
   ]
  },
  {
   "cell_type": "code",
   "execution_count": 2,
   "metadata": {
    "execution": {
     "iopub.execute_input": "2024-06-25T13:54:39.624332Z",
     "iopub.status.busy": "2024-06-25T13:54:39.623243Z",
     "iopub.status.idle": "2024-06-25T13:54:41.532070Z",
     "shell.execute_reply": "2024-06-25T13:54:41.531336Z"
    }
   },
   "outputs": [
    {
     "ename": "NotApplicableError",
     "evalue": "This visualisation requires combinedData, but that table isn't in this dataset.",
     "output_type": "error",
     "traceback": [
      "\u001b[0;31m---------------------------------------------------------------------------\u001b[0m",
      "\u001b[0;31mNotApplicableError\u001b[0m                        Traceback (most recent call last)",
      "Cell \u001b[0;32mIn[2], line 21\u001b[0m\n\u001b[1;32m     11\u001b[0m dm \u001b[38;5;241m=\u001b[39m ADMDatamart(model_filename\u001b[38;5;241m=\u001b[39m\u001b[38;5;124m\"\u001b[39m\u001b[38;5;124m/Users/perdo/Downloads/cross-customers-cache/CDHSample_ModelSnapshots.parquet\u001b[39m\u001b[38;5;124m\"\u001b[39m,\n\u001b[1;32m     12\u001b[0m                     predictor_filename\u001b[38;5;241m=\u001b[39m\u001b[38;5;124m\"\u001b[39m\u001b[38;5;124m/Users/perdo/Downloads/cross-customers-cache/CDHSample_PredictorSnapshots.parquet\u001b[39m\u001b[38;5;124m\"\u001b[39m,\n\u001b[1;32m     13\u001b[0m                     subset\u001b[38;5;241m=\u001b[39m\u001b[38;5;28;01mFalse\u001b[39;00m)\n\u001b[1;32m     15\u001b[0m \u001b[38;5;66;03m# replace this with your own datamart data, see PDS tools documentation for examples\u001b[39;00m\n\u001b[1;32m     16\u001b[0m \u001b[38;5;66;03m# dm = ADMDatamart(\u001b[39;00m\n\u001b[1;32m     17\u001b[0m \u001b[38;5;66;03m#     model_filename=\"...\",\u001b[39;00m\n\u001b[1;32m     18\u001b[0m \u001b[38;5;66;03m#     predictor_filename=\"...\"\u001b[39;00m\n\u001b[1;32m     19\u001b[0m \u001b[38;5;66;03m# )\u001b[39;00m\n\u001b[0;32m---> 21\u001b[0m fig \u001b[38;5;241m=\u001b[39m \u001b[43mdm\u001b[49m\u001b[38;5;241;43m.\u001b[39;49m\u001b[43mplotPredictorPerformance\u001b[49m\u001b[43m(\u001b[49m\u001b[43mtop_n\u001b[49m\u001b[38;5;241;43m=\u001b[39;49m\u001b[38;5;241;43m10\u001b[39;49m\u001b[43m)\u001b[49m\n\u001b[1;32m     22\u001b[0m fig\u001b[38;5;241m.\u001b[39mupdate_layout(\n\u001b[1;32m     23\u001b[0m     height\u001b[38;5;241m=\u001b[39m\u001b[38;5;241m400\u001b[39m, width\u001b[38;5;241m=\u001b[39m\u001b[38;5;241m800\u001b[39m, title\u001b[38;5;241m=\u001b[39m\u001b[38;5;124m\"\u001b[39m\u001b[38;5;124mFeature Importance\u001b[39m\u001b[38;5;124m\"\u001b[39m, xaxis_title\u001b[38;5;241m=\u001b[39m\u001b[38;5;124m\"\u001b[39m\u001b[38;5;124m\"\u001b[39m, yaxis_title\u001b[38;5;241m=\u001b[39m\u001b[38;5;124m\"\u001b[39m\u001b[38;5;124m\"\u001b[39m\n\u001b[1;32m     24\u001b[0m )\n\u001b[1;32m     26\u001b[0m fig\u001b[38;5;241m.\u001b[39mshow()\n",
      "File \u001b[0;32m~/work/pega-datascientist-tools/pega-datascientist-tools/python/docs/source/articles/../../../pdstools/plots/plot_base.py:836\u001b[0m, in \u001b[0;36mPlots.plotPredictorPerformance\u001b[0;34m(self, top_n, active_only, to_plot, query, facets, **kwargs)\u001b[0m\n\u001b[1;32m    824\u001b[0m last \u001b[38;5;241m=\u001b[39m \u001b[38;5;28;01mTrue\u001b[39;00m\n\u001b[1;32m    825\u001b[0m required_columns \u001b[38;5;241m=\u001b[39m {\n\u001b[1;32m    826\u001b[0m     \u001b[38;5;124m\"\u001b[39m\u001b[38;5;124mChannel\u001b[39m\u001b[38;5;124m\"\u001b[39m,\n\u001b[1;32m    827\u001b[0m     \u001b[38;5;124m\"\u001b[39m\u001b[38;5;124mPredictorName\u001b[39m\u001b[38;5;124m\"\u001b[39m,\n\u001b[0;32m   (...)\u001b[0m\n\u001b[1;32m    833\u001b[0m     \u001b[38;5;124m\"\u001b[39m\u001b[38;5;124mPredictorCategory\u001b[39m\u001b[38;5;124m\"\u001b[39m,\n\u001b[1;32m    834\u001b[0m }\n\u001b[0;32m--> 836\u001b[0m df, facets \u001b[38;5;241m=\u001b[39m \u001b[38;5;28;43mself\u001b[39;49m\u001b[38;5;241;43m.\u001b[39;49m\u001b[43m_subset_data\u001b[49m\u001b[43m(\u001b[49m\n\u001b[1;32m    837\u001b[0m \u001b[43m    \u001b[49m\u001b[43mtable\u001b[49m\u001b[43m,\u001b[49m\n\u001b[1;32m    838\u001b[0m \u001b[43m    \u001b[49m\u001b[43mrequired_columns\u001b[49m\u001b[43m,\u001b[49m\n\u001b[1;32m    839\u001b[0m \u001b[43m    \u001b[49m\u001b[43mquery\u001b[49m\u001b[43m,\u001b[49m\n\u001b[1;32m    840\u001b[0m \u001b[43m    \u001b[49m\u001b[43mlast\u001b[49m\u001b[38;5;241;43m=\u001b[39;49m\u001b[43mlast\u001b[49m\u001b[43m,\u001b[49m\n\u001b[1;32m    841\u001b[0m \u001b[43m    \u001b[49m\u001b[43mfacets\u001b[49m\u001b[38;5;241;43m=\u001b[39;49m\u001b[43mfacets\u001b[49m\u001b[43m,\u001b[49m\n\u001b[1;32m    842\u001b[0m \u001b[43m    \u001b[49m\u001b[43mactive_only\u001b[49m\u001b[38;5;241;43m=\u001b[39;49m\u001b[43mactive_only\u001b[49m\u001b[43m,\u001b[49m\n\u001b[1;32m    843\u001b[0m \u001b[43m\u001b[49m\u001b[43m)\u001b[49m\n\u001b[1;32m    845\u001b[0m df \u001b[38;5;241m=\u001b[39m (\n\u001b[1;32m    846\u001b[0m     df\u001b[38;5;241m.\u001b[39mfilter(pl\u001b[38;5;241m.\u001b[39mcol(\u001b[38;5;124m\"\u001b[39m\u001b[38;5;124mPredictorName\u001b[39m\u001b[38;5;124m\"\u001b[39m) \u001b[38;5;241m!=\u001b[39m \u001b[38;5;124m\"\u001b[39m\u001b[38;5;124mClassifier\u001b[39m\u001b[38;5;124m\"\u001b[39m)\n\u001b[1;32m    847\u001b[0m     \u001b[38;5;241m.\u001b[39munique(subset\u001b[38;5;241m=\u001b[39m[\u001b[38;5;124m\"\u001b[39m\u001b[38;5;124mModelID\u001b[39m\u001b[38;5;124m\"\u001b[39m, \u001b[38;5;124m\"\u001b[39m\u001b[38;5;124mPredictorName\u001b[39m\u001b[38;5;124m\"\u001b[39m], keep\u001b[38;5;241m=\u001b[39m\u001b[38;5;124m\"\u001b[39m\u001b[38;5;124mfirst\u001b[39m\u001b[38;5;124m\"\u001b[39m)\n\u001b[1;32m    848\u001b[0m     \u001b[38;5;241m.\u001b[39mrename({\u001b[38;5;124m\"\u001b[39m\u001b[38;5;124mPredictorCategory\u001b[39m\u001b[38;5;124m\"\u001b[39m: \u001b[38;5;124m\"\u001b[39m\u001b[38;5;124mLegend\u001b[39m\u001b[38;5;124m\"\u001b[39m})\n\u001b[1;32m    849\u001b[0m )\n\u001b[1;32m    851\u001b[0m separate \u001b[38;5;241m=\u001b[39m kwargs\u001b[38;5;241m.\u001b[39mpop(\u001b[38;5;124m\"\u001b[39m\u001b[38;5;124mseparate\u001b[39m\u001b[38;5;124m\"\u001b[39m, \u001b[38;5;28;01mFalse\u001b[39;00m)\n",
      "File \u001b[0;32m~/work/pega-datascientist-tools/pega-datascientist-tools/python/docs/source/articles/../../../pdstools/plots/plot_base.py:191\u001b[0m, in \u001b[0;36mPlots._subset_data\u001b[0;34m(self, table, required_columns, query, multi_snapshot, last, facets, active_only, include_cols)\u001b[0m\n\u001b[1;32m    162\u001b[0m \u001b[38;5;250m\u001b[39m\u001b[38;5;124;03m\"\"\"Retrieves and subsets the data and performs some assertion checks\u001b[39;00m\n\u001b[1;32m    163\u001b[0m \n\u001b[1;32m    164\u001b[0m \u001b[38;5;124;03mParameters\u001b[39;00m\n\u001b[0;32m   (...)\u001b[0m\n\u001b[1;32m    188\u001b[0m \u001b[38;5;124;03m    Generated facet column name\u001b[39;00m\n\u001b[1;32m    189\u001b[0m \u001b[38;5;124;03m\"\"\"\u001b[39;00m\n\u001b[1;32m    190\u001b[0m \u001b[38;5;28;01mif\u001b[39;00m \u001b[38;5;129;01mnot\u001b[39;00m \u001b[38;5;28mhasattr\u001b[39m(\u001b[38;5;28mself\u001b[39m, table) \u001b[38;5;129;01mor\u001b[39;00m \u001b[38;5;28mgetattr\u001b[39m(\u001b[38;5;28mself\u001b[39m, table) \u001b[38;5;129;01mis\u001b[39;00m \u001b[38;5;28;01mNone\u001b[39;00m:\n\u001b[0;32m--> 191\u001b[0m     \u001b[38;5;28;01mraise\u001b[39;00m NotApplicableError(\n\u001b[1;32m    192\u001b[0m         \u001b[38;5;124mf\u001b[39m\u001b[38;5;124m\"\u001b[39m\u001b[38;5;124mThis visualisation requires \u001b[39m\u001b[38;5;132;01m{\u001b[39;00mtable\u001b[38;5;132;01m}\u001b[39;00m\u001b[38;5;124m, but that table isn\u001b[39m\u001b[38;5;124m'\u001b[39m\u001b[38;5;124mt in this dataset.\u001b[39m\u001b[38;5;124m\"\u001b[39m\n\u001b[1;32m    193\u001b[0m     )\n\u001b[1;32m    195\u001b[0m df \u001b[38;5;241m=\u001b[39m \u001b[38;5;28mgetattr\u001b[39m(\u001b[38;5;28mself\u001b[39m, table)\n\u001b[1;32m    196\u001b[0m \u001b[38;5;28;01mif\u001b[39;00m table \u001b[38;5;241m!=\u001b[39m \u001b[38;5;124m\"\u001b[39m\u001b[38;5;124mpredictorData\u001b[39m\u001b[38;5;124m\"\u001b[39m:\n",
      "\u001b[0;31mNotApplicableError\u001b[0m: This visualisation requires combinedData, but that table isn't in this dataset."
     ]
    }
   ],
   "source": [
    "import pathlib, sys\n",
    "basePath = \"../..\"\n",
    "\n",
    "sys.path.append(f\"{str(basePath)}/python\")\n",
    "from pdstools import datasets\n",
    "from pdstools import BinAggregator\n",
    "from pdstools import ADMDatamart, datasets\n",
    "import polars as pl\n",
    "\n",
    "# dm = datasets.CDHSample()\n",
    "dm = ADMDatamart(model_filename=\"/Users/perdo/Downloads/cross-customers-cache/CDHSample_ModelSnapshots.parquet\",\n",
    "                    predictor_filename=\"/Users/perdo/Downloads/cross-customers-cache/CDHSample_PredictorSnapshots.parquet\",\n",
    "                    subset=False)\n",
    "\n",
    "# replace this with your own datamart data, see PDS tools documentation for examples\n",
    "# dm = ADMDatamart(\n",
    "#     model_filename=\"...\",\n",
    "#     predictor_filename=\"...\"\n",
    "# )\n",
    "\n",
    "fig = dm.plotPredictorPerformance(top_n=10)\n",
    "fig.update_layout(\n",
    "    height=400, width=800, title=\"Feature Importance\", xaxis_title=\"\", yaxis_title=\"\"\n",
    ")\n",
    "\n",
    "fig.show()"
   ]
  },
  {
   "cell_type": "markdown",
   "metadata": {},
   "source": [
    "While helpful to understand how a model works, a global perspective on the model features is not of much use to understand who accepts what. For this type of insight, we need to dive deeper into how the model partitions the customers. The Pega ADM models can provide such information."
   ]
  },
  {
   "cell_type": "markdown",
   "metadata": {},
   "source": [
    "## Predictor Binning for Individual Models\n",
    "\n",
    "The predictor binning for Baysian ADM models is available in Pega Prediction Studio and also in the downloadable, off-line model reports you can create with PDS tools. These reports are available for both the legacy R and the new Python versions of the toolkit.\n",
    "\n",
    "You can create these reports directly from the PDS tools app, or work in an IDE, for more information see [the PDS Tools Documentation](https://github.com/pegasystems/pega-datascientist-tools/wiki).\n",
    "\n",
    "You can easily recreate all or parts of this in code. For example, to recreate the binning reports use code like shown below. You'll need the model ID that you can pick up from Prediction Studio or from a quick analysis with PDS tools functions."
   ]
  },
  {
   "cell_type": "code",
   "execution_count": 3,
   "metadata": {
    "execution": {
     "iopub.execute_input": "2024-06-25T13:54:41.564880Z",
     "iopub.status.busy": "2024-06-25T13:54:41.564461Z",
     "iopub.status.idle": "2024-06-25T13:54:41.594640Z",
     "shell.execute_reply": "2024-06-25T13:54:41.594044Z"
    }
   },
   "outputs": [
    {
     "ename": "NotApplicableError",
     "evalue": "This visualisation requires combinedData, but that table isn't in this dataset.",
     "output_type": "error",
     "traceback": [
      "\u001b[0;31m---------------------------------------------------------------------------\u001b[0m",
      "\u001b[0;31mNotApplicableError\u001b[0m                        Traceback (most recent call last)",
      "Cell \u001b[0;32mIn[3], line 1\u001b[0m\n\u001b[0;32m----> 1\u001b[0m fig \u001b[38;5;241m=\u001b[39m \u001b[43mdm\u001b[49m\u001b[38;5;241;43m.\u001b[39;49m\u001b[43mplotPredictorBinning\u001b[49m\u001b[43m(\u001b[49m\n\u001b[1;32m      2\u001b[0m \u001b[43m    \u001b[49m\u001b[43mmodelids\u001b[49m\u001b[38;5;241;43m=\u001b[39;49m\u001b[43m[\u001b[49m\u001b[38;5;124;43m\"\u001b[39;49m\u001b[38;5;124;43m08ca1302-9fc0-57bf-9031-d4179d400493\u001b[39;49m\u001b[38;5;124;43m\"\u001b[39;49m\u001b[43m]\u001b[49m\u001b[43m,\u001b[49m\n\u001b[1;32m      3\u001b[0m \u001b[43m    \u001b[49m\u001b[43mpredictors\u001b[49m\u001b[38;5;241;43m=\u001b[39;49m\u001b[43m[\u001b[49m\u001b[38;5;124;43m\"\u001b[39;49m\u001b[38;5;124;43mCustomer.AnnualIncome\u001b[39;49m\u001b[38;5;124;43m\"\u001b[39;49m\u001b[43m]\u001b[49m\u001b[43m,\u001b[49m\n\u001b[1;32m      4\u001b[0m \u001b[43m)\u001b[49m\n\u001b[1;32m      5\u001b[0m fig\u001b[38;5;241m.\u001b[39mupdate_layout(height\u001b[38;5;241m=\u001b[39m\u001b[38;5;241m400\u001b[39m, width\u001b[38;5;241m=\u001b[39m\u001b[38;5;241m700\u001b[39m, xaxis_title\u001b[38;5;241m=\u001b[39m\u001b[38;5;124m\"\u001b[39m\u001b[38;5;124m\"\u001b[39m)\n\u001b[1;32m      6\u001b[0m fig\u001b[38;5;241m.\u001b[39mshow()\n",
      "File \u001b[0;32m~/work/pega-datascientist-tools/pega-datascientist-tools/python/docs/source/articles/../../../pdstools/plots/plot_base.py:746\u001b[0m, in \u001b[0;36mPlots.plotPredictorBinning\u001b[0;34m(self, predictors, modelids, show_each, query, **kwargs)\u001b[0m\n\u001b[1;32m    736\u001b[0m last \u001b[38;5;241m=\u001b[39m \u001b[38;5;28;01mTrue\u001b[39;00m\n\u001b[1;32m    737\u001b[0m required_columns \u001b[38;5;241m=\u001b[39m {\n\u001b[1;32m    738\u001b[0m     \u001b[38;5;124m\"\u001b[39m\u001b[38;5;124mPredictorName\u001b[39m\u001b[38;5;124m\"\u001b[39m,\n\u001b[1;32m    739\u001b[0m     \u001b[38;5;124m\"\u001b[39m\u001b[38;5;124mName\u001b[39m\u001b[38;5;124m\"\u001b[39m,\n\u001b[0;32m   (...)\u001b[0m\n\u001b[1;32m    744\u001b[0m     \u001b[38;5;124m\"\u001b[39m\u001b[38;5;124mModelID\u001b[39m\u001b[38;5;124m\"\u001b[39m,\n\u001b[1;32m    745\u001b[0m }\n\u001b[0;32m--> 746\u001b[0m df, _ \u001b[38;5;241m=\u001b[39m \u001b[38;5;28;43mself\u001b[39;49m\u001b[38;5;241;43m.\u001b[39;49m\u001b[43m_subset_data\u001b[49m\u001b[43m(\u001b[49m\u001b[43mtable\u001b[49m\u001b[43m,\u001b[49m\u001b[43m \u001b[49m\u001b[43mrequired_columns\u001b[49m\u001b[43m,\u001b[49m\u001b[43m \u001b[49m\u001b[43mquery\u001b[49m\u001b[43m,\u001b[49m\u001b[43m \u001b[49m\u001b[43mlast\u001b[49m\u001b[38;5;241;43m=\u001b[39;49m\u001b[43mlast\u001b[49m\u001b[43m)\u001b[49m\n\u001b[1;32m    747\u001b[0m df \u001b[38;5;241m=\u001b[39m df\u001b[38;5;241m.\u001b[39mfilter(pl\u001b[38;5;241m.\u001b[39mcol(\u001b[38;5;124m\"\u001b[39m\u001b[38;5;124mPredictorName\u001b[39m\u001b[38;5;124m\"\u001b[39m) \u001b[38;5;241m!=\u001b[39m \u001b[38;5;124m\"\u001b[39m\u001b[38;5;124mClassifier\u001b[39m\u001b[38;5;124m\"\u001b[39m)\n\u001b[1;32m    748\u001b[0m \u001b[38;5;28;01mif\u001b[39;00m modelids \u001b[38;5;129;01mis\u001b[39;00m \u001b[38;5;129;01mnot\u001b[39;00m \u001b[38;5;28;01mNone\u001b[39;00m:\n",
      "File \u001b[0;32m~/work/pega-datascientist-tools/pega-datascientist-tools/python/docs/source/articles/../../../pdstools/plots/plot_base.py:191\u001b[0m, in \u001b[0;36mPlots._subset_data\u001b[0;34m(self, table, required_columns, query, multi_snapshot, last, facets, active_only, include_cols)\u001b[0m\n\u001b[1;32m    162\u001b[0m \u001b[38;5;250m\u001b[39m\u001b[38;5;124;03m\"\"\"Retrieves and subsets the data and performs some assertion checks\u001b[39;00m\n\u001b[1;32m    163\u001b[0m \n\u001b[1;32m    164\u001b[0m \u001b[38;5;124;03mParameters\u001b[39;00m\n\u001b[0;32m   (...)\u001b[0m\n\u001b[1;32m    188\u001b[0m \u001b[38;5;124;03m    Generated facet column name\u001b[39;00m\n\u001b[1;32m    189\u001b[0m \u001b[38;5;124;03m\"\"\"\u001b[39;00m\n\u001b[1;32m    190\u001b[0m \u001b[38;5;28;01mif\u001b[39;00m \u001b[38;5;129;01mnot\u001b[39;00m \u001b[38;5;28mhasattr\u001b[39m(\u001b[38;5;28mself\u001b[39m, table) \u001b[38;5;129;01mor\u001b[39;00m \u001b[38;5;28mgetattr\u001b[39m(\u001b[38;5;28mself\u001b[39m, table) \u001b[38;5;129;01mis\u001b[39;00m \u001b[38;5;28;01mNone\u001b[39;00m:\n\u001b[0;32m--> 191\u001b[0m     \u001b[38;5;28;01mraise\u001b[39;00m NotApplicableError(\n\u001b[1;32m    192\u001b[0m         \u001b[38;5;124mf\u001b[39m\u001b[38;5;124m\"\u001b[39m\u001b[38;5;124mThis visualisation requires \u001b[39m\u001b[38;5;132;01m{\u001b[39;00mtable\u001b[38;5;132;01m}\u001b[39;00m\u001b[38;5;124m, but that table isn\u001b[39m\u001b[38;5;124m'\u001b[39m\u001b[38;5;124mt in this dataset.\u001b[39m\u001b[38;5;124m\"\u001b[39m\n\u001b[1;32m    193\u001b[0m     )\n\u001b[1;32m    195\u001b[0m df \u001b[38;5;241m=\u001b[39m \u001b[38;5;28mgetattr\u001b[39m(\u001b[38;5;28mself\u001b[39m, table)\n\u001b[1;32m    196\u001b[0m \u001b[38;5;28;01mif\u001b[39;00m table \u001b[38;5;241m!=\u001b[39m \u001b[38;5;124m\"\u001b[39m\u001b[38;5;124mpredictorData\u001b[39m\u001b[38;5;124m\"\u001b[39m:\n",
      "\u001b[0;31mNotApplicableError\u001b[0m: This visualisation requires combinedData, but that table isn't in this dataset."
     ]
    }
   ],
   "source": [
    "fig = dm.plotPredictorBinning(\n",
    "    modelids=[\"08ca1302-9fc0-57bf-9031-d4179d400493\"],\n",
    "    predictors=[\"Customer.AnnualIncome\"],\n",
    ")\n",
    "fig.update_layout(height=400, width=700, xaxis_title=\"\")\n",
    "fig.show()"
   ]
  },
  {
   "cell_type": "markdown",
   "metadata": {},
   "source": [
    "You can also view these reports in an alternative way, focussing on how each of the bins pushes the propensity above or below the average. This perspective on the \"lift\" of each bin is similar to the yellow line in the above plot but emphasizes it more.\n",
    "\n",
    "This view is available in the off-line model reports.\n",
    "\n",
    "TODO: move PM lift plot into PDS tools and show it here - currently lives in the model qmd"
   ]
  },
  {
   "cell_type": "markdown",
   "metadata": {},
   "source": [
    "## Rolling up individual binning\n",
    "\n",
    "While already giving more insight than global predictor importance, being specific to one individual ADM instance means you may have to browse through 100's of individual model reports to get a feel for how, for example, Income is related to Cards acceptance.\n",
    "\n",
    "With the \"BinAggregator\" class in PDS Tools you can now \"roll up\" these binning views across actions and even across channels. For example this could show that \"People with income > 60000 and age > 30\" are more likely to respond positively to Cards offers.\n",
    "\n",
    "The rolling up is based on the predictor binning from ADM NB models. For a numeric predictor, we first create equi-distance or log-distance bins, for example, 10 bins from 20 to 85 for \"Age\" or 10 bins in a log scale from 10k to 10m for \"income\". \n",
    "\n",
    "Then, the predictor binning of all models (in a certain group, issue perhaps) is mapped onto those target bins and the values are mapped proportional to the overlap between the model bin and the target bin. We map the *lift* values, not the *bin counts*. The bin counts are heavily dependent on channel both in absolute numbers as in the ratio between positives and negatives (success rate) so aggregating those does give meaningful results. The lift is an indication of how a certain predictor value range pushes the likelhood to accept up or down.\n",
    "\n",
    "\n"
   ]
  },
  {
   "cell_type": "markdown",
   "metadata": {},
   "source": [
    "To illustrate this, see below. We have a equi-distance target binning for Age, shown in red, from 20 to 80. From one of the models we have binning of Age that has a slightly different range (10 - 75) - shown in blue. The first bin of the target gets a weighted lift from source bins 1 and 2. The second target bin falls completely within the range of bin 2 of the source, so gets the exact same lift value. Same for the target bins 3 and 4, they are both sourced from just source bin 3. The 4th one in not fully covered however, as you see reflected in the \"BinCoverage\" column in the table."
   ]
  },
  {
   "cell_type": "code",
   "execution_count": 4,
   "metadata": {
    "execution": {
     "iopub.execute_input": "2024-06-25T13:54:41.597178Z",
     "iopub.status.busy": "2024-06-25T13:54:41.596689Z",
     "iopub.status.idle": "2024-06-25T13:54:41.784085Z",
     "shell.execute_reply": "2024-06-25T13:54:41.783445Z"
    }
   },
   "outputs": [
    {
     "ename": "AttributeError",
     "evalue": "'ADMDatamart' object has no attribute 'combinedData'",
     "output_type": "error",
     "traceback": [
      "\u001b[0;31m---------------------------------------------------------------------------\u001b[0m",
      "\u001b[0;31mAttributeError\u001b[0m                            Traceback (most recent call last)",
      "Cell \u001b[0;32mIn[4], line 5\u001b[0m\n\u001b[1;32m      1\u001b[0m \u001b[38;5;28;01mfrom\u001b[39;00m \u001b[38;5;21;01mpdstools\u001b[39;00m \u001b[38;5;28;01mimport\u001b[39;00m BinAggregator\n\u001b[1;32m      3\u001b[0m \u001b[38;5;66;03m# For PDS tools example keep dm as above but the subset argument is important\u001b[39;00m\n\u001b[1;32m      4\u001b[0m \u001b[38;5;66;03m# dm = datasets.CDHSample(subset=False)\u001b[39;00m\n\u001b[0;32m----> 5\u001b[0m myAggregator \u001b[38;5;241m=\u001b[39m \u001b[43mBinAggregator\u001b[49m\u001b[43m(\u001b[49m\u001b[43mdm\u001b[49m\u001b[43m)\u001b[49m\n\u001b[1;32m      7\u001b[0m target \u001b[38;5;241m=\u001b[39m myAggregator\u001b[38;5;241m.\u001b[39mcreate_empty_numbinning(\u001b[38;5;124m\"\u001b[39m\u001b[38;5;124mCustomer.Age\u001b[39m\u001b[38;5;124m\"\u001b[39m, \u001b[38;5;241m4\u001b[39m, minimum\u001b[38;5;241m=\u001b[39m\u001b[38;5;241m20\u001b[39m, maximum\u001b[38;5;241m=\u001b[39m\u001b[38;5;241m80\u001b[39m)\n\u001b[1;32m      8\u001b[0m source \u001b[38;5;241m=\u001b[39m pl\u001b[38;5;241m.\u001b[39mDataFrame(\n\u001b[1;32m      9\u001b[0m     {\n\u001b[1;32m     10\u001b[0m         \u001b[38;5;124m\"\u001b[39m\u001b[38;5;124mModelID\u001b[39m\u001b[38;5;124m\"\u001b[39m: [\u001b[38;5;241m1\u001b[39m] \u001b[38;5;241m*\u001b[39m \u001b[38;5;241m3\u001b[39m,\n\u001b[0;32m   (...)\u001b[0m\n\u001b[1;32m     18\u001b[0m     }\n\u001b[1;32m     19\u001b[0m )\n",
      "File \u001b[0;32m~/work/pega-datascientist-tools/pega-datascientist-tools/python/docs/source/articles/../../../pdstools/adm/BinAggregator.py:19\u001b[0m, in \u001b[0;36mBinAggregator.__init__\u001b[0;34m(self, dm, query)\u001b[0m\n\u001b[1;32m     18\u001b[0m \u001b[38;5;28;01mdef\u001b[39;00m \u001b[38;5;21m__init__\u001b[39m(\u001b[38;5;28mself\u001b[39m, dm: ADMDatamart, query: pl\u001b[38;5;241m.\u001b[39mExpr \u001b[38;5;241m=\u001b[39m \u001b[38;5;28;01mNone\u001b[39;00m) \u001b[38;5;241m-\u001b[39m\u001b[38;5;241m>\u001b[39m \u001b[38;5;28;01mNone\u001b[39;00m:\n\u001b[0;32m---> 19\u001b[0m     data \u001b[38;5;241m=\u001b[39m \u001b[43mdm\u001b[49m\u001b[38;5;241;43m.\u001b[39;49m\u001b[43mlast\u001b[49m\u001b[43m(\u001b[49m\u001b[38;5;124;43m\"\u001b[39;49m\u001b[38;5;124;43mcombinedData\u001b[39;49m\u001b[38;5;124;43m\"\u001b[39;49m\u001b[43m)\u001b[49m\u001b[38;5;241m.\u001b[39mlazy()\n\u001b[1;32m     20\u001b[0m     \u001b[38;5;28;01mif\u001b[39;00m query \u001b[38;5;129;01mis\u001b[39;00m \u001b[38;5;129;01mnot\u001b[39;00m \u001b[38;5;28;01mNone\u001b[39;00m:\n\u001b[1;32m     21\u001b[0m         \u001b[38;5;66;03m# print(f\"Query: {query}\")\u001b[39;00m\n\u001b[1;32m     22\u001b[0m         data \u001b[38;5;241m=\u001b[39m data\u001b[38;5;241m.\u001b[39mfilter(query)\n",
      "File \u001b[0;32m~/work/pega-datascientist-tools/pega-datascientist-tools/python/docs/source/articles/../../../pdstools/adm/ADMDatamart.py:582\u001b[0m, in \u001b[0;36mADMDatamart.last\u001b[0;34m(self, table, strategy)\u001b[0m\n\u001b[1;32m    580\u001b[0m \u001b[38;5;28;01melif\u001b[39;00m \u001b[38;5;28misinstance\u001b[39m(table, \u001b[38;5;28mstr\u001b[39m):\n\u001b[1;32m    581\u001b[0m     \u001b[38;5;28;01massert\u001b[39;00m table \u001b[38;5;129;01min\u001b[39;00m {\u001b[38;5;124m\"\u001b[39m\u001b[38;5;124mmodelData\u001b[39m\u001b[38;5;124m\"\u001b[39m, \u001b[38;5;124m\"\u001b[39m\u001b[38;5;124mpredictorData\u001b[39m\u001b[38;5;124m\"\u001b[39m, \u001b[38;5;124m\"\u001b[39m\u001b[38;5;124mcombinedData\u001b[39m\u001b[38;5;124m\"\u001b[39m}\n\u001b[0;32m--> 582\u001b[0m     df \u001b[38;5;241m=\u001b[39m \u001b[38;5;28mself\u001b[39m\u001b[38;5;241m.\u001b[39m_last(\u001b[38;5;28;43mgetattr\u001b[39;49m\u001b[43m(\u001b[49m\u001b[38;5;28;43mself\u001b[39;49m\u001b[43m,\u001b[49m\u001b[43m \u001b[49m\u001b[43mtable\u001b[49m\u001b[43m)\u001b[49m)\n\u001b[1;32m    583\u001b[0m \u001b[38;5;28;01melse\u001b[39;00m:  \u001b[38;5;66;03m# pragma: no cover\u001b[39;00m\n\u001b[1;32m    584\u001b[0m     \u001b[38;5;28;01mraise\u001b[39;00m \u001b[38;5;167;01mValueError\u001b[39;00m(\u001b[38;5;124m\"\u001b[39m\u001b[38;5;124mThis should not happen, please file a GitHub issue :).\u001b[39m\u001b[38;5;124m\"\u001b[39m)\n",
      "\u001b[0;31mAttributeError\u001b[0m: 'ADMDatamart' object has no attribute 'combinedData'"
     ]
    }
   ],
   "source": [
    "from pdstools import BinAggregator\n",
    "\n",
    "# For PDS tools example keep dm as above but the subset argument is important\n",
    "# dm = datasets.CDHSample(subset=False)\n",
    "myAggregator = BinAggregator(dm)\n",
    "\n",
    "target = myAggregator.create_empty_numbinning(\"Customer.Age\", 4, minimum=20, maximum=80)\n",
    "source = pl.DataFrame(\n",
    "    {\n",
    "        \"ModelID\": [1] * 3,\n",
    "        \"PredictorName\": [\"Customer.Age\"] * 3,\n",
    "        \"BinIndex\": [1, 2, 3],\n",
    "        \"BinLowerBound\": [10.0, 25.0, 50.0],\n",
    "        \"BinUpperBound\": [25.0, 50.0, 75.0],\n",
    "        # \"BinSymbol\" : [\"20-25\", \"25-50\", \"50-75\"],\n",
    "        \"Lift\": [0.4, -0.1, 2.0],\n",
    "        \"BinResponses\": [100, 1000, 400],\n",
    "    }\n",
    ")\n",
    "myAggregator.plot_binning_attribution(source, target).update_layout(width=700)"
   ]
  },
  {
   "cell_type": "markdown",
   "metadata": {},
   "source": [
    "The result of mapping the source binning onto this target is shown below. \n",
    "The resulting **Lift** is the average lift of the overlapping segments, weighted by overlap. It is not weighed by response count like we usually do for model performance etc, as this would skew the numbers heavily towards the positive bins (as generally the actions will be selected where the bins are scoring higher). The **BinResponses** is an indication of the number of responses (postive plus negative) for the bin (but is not used, only provided for additional insights). **BinCoverage** is the sum of the coverage by all the models for this new bin. It cannot be higher than the number of models (**Models**) - some models are empty and not taken into account at all, or they have a value range smaller than the combined binning."
   ]
  },
  {
   "cell_type": "code",
   "execution_count": 5,
   "metadata": {
    "execution": {
     "iopub.execute_input": "2024-06-25T13:54:41.786497Z",
     "iopub.status.busy": "2024-06-25T13:54:41.786071Z",
     "iopub.status.idle": "2024-06-25T13:54:41.798901Z",
     "shell.execute_reply": "2024-06-25T13:54:41.798341Z"
    }
   },
   "outputs": [
    {
     "ename": "NameError",
     "evalue": "name 'myAggregator' is not defined",
     "output_type": "error",
     "traceback": [
      "\u001b[0;31m---------------------------------------------------------------------------\u001b[0m",
      "\u001b[0;31mNameError\u001b[0m                                 Traceback (most recent call last)",
      "Cell \u001b[0;32mIn[5], line 1\u001b[0m\n\u001b[0;32m----> 1\u001b[0m \u001b[43mmyAggregator\u001b[49m\u001b[38;5;241m.\u001b[39mcombine_two_numbinnings(source, target)\n",
      "\u001b[0;31mNameError\u001b[0m: name 'myAggregator' is not defined"
     ]
    }
   ],
   "source": [
    "myAggregator.combine_two_numbinnings(source, target)"
   ]
  },
  {
   "cell_type": "markdown",
   "metadata": {},
   "source": [
    "So you can roll up Age over all of the models in this sample data set and visualize how age affects propensity across all models:"
   ]
  },
  {
   "cell_type": "code",
   "execution_count": 6,
   "metadata": {
    "execution": {
     "iopub.execute_input": "2024-06-25T13:54:41.801319Z",
     "iopub.status.busy": "2024-06-25T13:54:41.800876Z",
     "iopub.status.idle": "2024-06-25T13:54:41.814387Z",
     "shell.execute_reply": "2024-06-25T13:54:41.813823Z"
    }
   },
   "outputs": [
    {
     "ename": "NameError",
     "evalue": "name 'myAggregator' is not defined",
     "output_type": "error",
     "traceback": [
      "\u001b[0;31m---------------------------------------------------------------------------\u001b[0m",
      "\u001b[0;31mNameError\u001b[0m                                 Traceback (most recent call last)",
      "Cell \u001b[0;32mIn[6], line 1\u001b[0m\n\u001b[0;32m----> 1\u001b[0m fig \u001b[38;5;241m=\u001b[39m \u001b[43mmyAggregator\u001b[49m\u001b[38;5;241m.\u001b[39mroll_up(\u001b[38;5;124m\"\u001b[39m\u001b[38;5;124mCustomer.Age\u001b[39m\u001b[38;5;124m\"\u001b[39m)\n\u001b[1;32m      2\u001b[0m fig\u001b[38;5;241m.\u001b[39mupdate_layout(height\u001b[38;5;241m=\u001b[39m\u001b[38;5;241m300\u001b[39m, width\u001b[38;5;241m=\u001b[39m\u001b[38;5;241m600\u001b[39m)\n\u001b[1;32m      3\u001b[0m fig\u001b[38;5;241m.\u001b[39mshow()\n",
      "\u001b[0;31mNameError\u001b[0m: name 'myAggregator' is not defined"
     ]
    }
   ],
   "source": [
    "fig = myAggregator.roll_up(\"Customer.Age\")\n",
    "fig.update_layout(height=300, width=600)\n",
    "fig.show()"
   ]
  },
  {
   "cell_type": "markdown",
   "metadata": {},
   "source": [
    "The above is a view across *all* models in *all* channels and may not be that meaningful. It roughly says that both young and elderly people are more likely to respond than middle-agers. That in itself may not be that insightful.\n",
    "\n",
    "It generally is much more useful to compare this distribution across different issues, groups or other dimensions of interest. For example, showing how Age has a different relation with different groups of actions can be done with the following:"
   ]
  },
  {
   "cell_type": "code",
   "execution_count": 7,
   "metadata": {
    "execution": {
     "iopub.execute_input": "2024-06-25T13:54:41.816717Z",
     "iopub.status.busy": "2024-06-25T13:54:41.816347Z",
     "iopub.status.idle": "2024-06-25T13:54:41.829947Z",
     "shell.execute_reply": "2024-06-25T13:54:41.829481Z"
    }
   },
   "outputs": [
    {
     "ename": "NameError",
     "evalue": "name 'myAggregator' is not defined",
     "output_type": "error",
     "traceback": [
      "\u001b[0;31m---------------------------------------------------------------------------\u001b[0m",
      "\u001b[0;31mNameError\u001b[0m                                 Traceback (most recent call last)",
      "Cell \u001b[0;32mIn[7], line 1\u001b[0m\n\u001b[0;32m----> 1\u001b[0m fig \u001b[38;5;241m=\u001b[39m \u001b[43mmyAggregator\u001b[49m\u001b[38;5;241m.\u001b[39mroll_up(\n\u001b[1;32m      2\u001b[0m     \u001b[38;5;124m\"\u001b[39m\u001b[38;5;124mCustomer.Age\u001b[39m\u001b[38;5;124m\"\u001b[39m, minimum\u001b[38;5;241m=\u001b[39m\u001b[38;5;241m20\u001b[39m, maximum\u001b[38;5;241m=\u001b[39m\u001b[38;5;241m80\u001b[39m, n\u001b[38;5;241m=\u001b[39m\u001b[38;5;241m5\u001b[39m, aggregation\u001b[38;5;241m=\u001b[39m\u001b[38;5;124m\"\u001b[39m\u001b[38;5;124mGroup\u001b[39m\u001b[38;5;124m\"\u001b[39m\n\u001b[1;32m      3\u001b[0m )\n\u001b[1;32m      4\u001b[0m fig\u001b[38;5;241m.\u001b[39mupdate_layout(height\u001b[38;5;241m=\u001b[39m\u001b[38;5;241m500\u001b[39m)\n\u001b[1;32m      5\u001b[0m fig\u001b[38;5;241m.\u001b[39mshow()\n",
      "\u001b[0;31mNameError\u001b[0m: name 'myAggregator' is not defined"
     ]
    }
   ],
   "source": [
    "fig = myAggregator.roll_up(\n",
    "    \"Customer.Age\", minimum=20, maximum=80, n=5, aggregation=\"Group\"\n",
    ")\n",
    "fig.update_layout(height=500)\n",
    "fig.show()"
   ]
  },
  {
   "cell_type": "markdown",
   "metadata": {},
   "source": [
    "If you're interested in the underlying data rather than just the plot, use the 'return_df' argument - like in many of the PDS Tools plot functions."
   ]
  },
  {
   "cell_type": "code",
   "execution_count": 8,
   "metadata": {
    "execution": {
     "iopub.execute_input": "2024-06-25T13:54:41.831977Z",
     "iopub.status.busy": "2024-06-25T13:54:41.831696Z",
     "iopub.status.idle": "2024-06-25T13:54:41.844637Z",
     "shell.execute_reply": "2024-06-25T13:54:41.844160Z"
    }
   },
   "outputs": [
    {
     "ename": "NameError",
     "evalue": "name 'myAggregator' is not defined",
     "output_type": "error",
     "traceback": [
      "\u001b[0;31m---------------------------------------------------------------------------\u001b[0m",
      "\u001b[0;31mNameError\u001b[0m                                 Traceback (most recent call last)",
      "Cell \u001b[0;32mIn[8], line 1\u001b[0m\n\u001b[0;32m----> 1\u001b[0m \u001b[43mmyAggregator\u001b[49m\u001b[38;5;241m.\u001b[39mroll_up(\n\u001b[1;32m      2\u001b[0m     \u001b[38;5;124m\"\u001b[39m\u001b[38;5;124mCustomer.Age\u001b[39m\u001b[38;5;124m\"\u001b[39m, minimum\u001b[38;5;241m=\u001b[39m\u001b[38;5;241m20\u001b[39m, maximum\u001b[38;5;241m=\u001b[39m\u001b[38;5;241m80\u001b[39m, n\u001b[38;5;241m=\u001b[39m\u001b[38;5;241m5\u001b[39m, aggregation\u001b[38;5;241m=\u001b[39m\u001b[38;5;124m\"\u001b[39m\u001b[38;5;124mGroup\u001b[39m\u001b[38;5;124m\"\u001b[39m, return_df\u001b[38;5;241m=\u001b[39m\u001b[38;5;28;01mTrue\u001b[39;00m\n\u001b[1;32m      3\u001b[0m )\u001b[38;5;241m.\u001b[39mto_pandas()\u001b[38;5;241m.\u001b[39mstyle\u001b[38;5;241m.\u001b[39mhide()\n",
      "\u001b[0;31mNameError\u001b[0m: name 'myAggregator' is not defined"
     ]
    }
   ],
   "source": [
    "myAggregator.roll_up(\n",
    "    \"Customer.Age\", minimum=20, maximum=80, n=5, aggregation=\"Group\", return_df=True\n",
    ").to_pandas().style.hide()"
   ]
  },
  {
   "cell_type": "markdown",
   "metadata": {},
   "source": [
    "The boundaries of the bin intervals are by default created automatically, but can be given explicitly. Income, wealth etc are typically distributed very unevenly (with a long right tail) so you can tell the system to use a logarithmic scale, which means the boundaries are a multiple of eachother, unlike the even spacing you can when not specifying the distribution (or using \"lin\"). Below we split by Channel and define a few explicit income boundaries:"
   ]
  },
  {
   "cell_type": "code",
   "execution_count": 9,
   "metadata": {
    "execution": {
     "iopub.execute_input": "2024-06-25T13:54:41.846719Z",
     "iopub.status.busy": "2024-06-25T13:54:41.846380Z",
     "iopub.status.idle": "2024-06-25T13:54:41.860092Z",
     "shell.execute_reply": "2024-06-25T13:54:41.859623Z"
    }
   },
   "outputs": [
    {
     "ename": "NameError",
     "evalue": "name 'myAggregator' is not defined",
     "output_type": "error",
     "traceback": [
      "\u001b[0;31m---------------------------------------------------------------------------\u001b[0m",
      "\u001b[0;31mNameError\u001b[0m                                 Traceback (most recent call last)",
      "Cell \u001b[0;32mIn[9], line 1\u001b[0m\n\u001b[0;32m----> 1\u001b[0m fig \u001b[38;5;241m=\u001b[39m \u001b[43mmyAggregator\u001b[49m\u001b[38;5;241m.\u001b[39mroll_up(\n\u001b[1;32m      2\u001b[0m     \u001b[38;5;124m\"\u001b[39m\u001b[38;5;124mCustomer.AnnualIncome\u001b[39m\u001b[38;5;124m\"\u001b[39m,\n\u001b[1;32m      3\u001b[0m     boundaries\u001b[38;5;241m=\u001b[39m[\u001b[38;5;241m10000\u001b[39m, \u001b[38;5;241m20000\u001b[39m, \u001b[38;5;241m30000\u001b[39m],\n\u001b[1;32m      4\u001b[0m     n\u001b[38;5;241m=\u001b[39m\u001b[38;5;241m8\u001b[39m,\n\u001b[1;32m      5\u001b[0m     distribution\u001b[38;5;241m=\u001b[39m\u001b[38;5;124m\"\u001b[39m\u001b[38;5;124mlog\u001b[39m\u001b[38;5;124m\"\u001b[39m,\n\u001b[1;32m      6\u001b[0m     aggregation\u001b[38;5;241m=\u001b[39m\u001b[38;5;124m\"\u001b[39m\u001b[38;5;124mChannel\u001b[39m\u001b[38;5;124m\"\u001b[39m,\n\u001b[1;32m      7\u001b[0m )\n\u001b[1;32m      8\u001b[0m fig\u001b[38;5;241m.\u001b[39mupdate_layout(height\u001b[38;5;241m=\u001b[39m\u001b[38;5;241m300\u001b[39m)\n\u001b[1;32m      9\u001b[0m fig\u001b[38;5;241m.\u001b[39mshow()\n",
      "\u001b[0;31mNameError\u001b[0m: name 'myAggregator' is not defined"
     ]
    }
   ],
   "source": [
    "fig = myAggregator.roll_up(\n",
    "    \"Customer.AnnualIncome\",\n",
    "    boundaries=[10000, 20000, 30000],\n",
    "    n=8,\n",
    "    distribution=\"log\",\n",
    "    aggregation=\"Channel\",\n",
    ")\n",
    "fig.update_layout(height=300)\n",
    "fig.show()"
   ]
  },
  {
   "cell_type": "markdown",
   "metadata": {},
   "source": [
    "## Symbolic Predictors"
   ]
  },
  {
   "cell_type": "markdown",
   "metadata": {},
   "source": [
    "For symbolic ('categorical') predictors the process is conceptually simpler. We first extract the symbols from the bin labels, then aggregate the lift for the symbols up. For both types, the aggregated lift is weighted proportional to the responses of the models.\n",
    "\n",
    "While the way symbolic predictors are aggregated is very different, the process to roll them up is similar to that of numeric predictors. You can pass in some explicit symbols to consider, set the maximum and aggregate over some dimension like Issue or Group exactly as you can for numeric predictors."
   ]
  },
  {
   "cell_type": "code",
   "execution_count": 10,
   "metadata": {
    "execution": {
     "iopub.execute_input": "2024-06-25T13:54:41.862327Z",
     "iopub.status.busy": "2024-06-25T13:54:41.861979Z",
     "iopub.status.idle": "2024-06-25T13:54:41.874884Z",
     "shell.execute_reply": "2024-06-25T13:54:41.874405Z"
    }
   },
   "outputs": [
    {
     "ename": "NameError",
     "evalue": "name 'myAggregator' is not defined",
     "output_type": "error",
     "traceback": [
      "\u001b[0;31m---------------------------------------------------------------------------\u001b[0m",
      "\u001b[0;31mNameError\u001b[0m                                 Traceback (most recent call last)",
      "Cell \u001b[0;32mIn[10], line 1\u001b[0m\n\u001b[0;32m----> 1\u001b[0m fig \u001b[38;5;241m=\u001b[39m \u001b[43mmyAggregator\u001b[49m\u001b[38;5;241m.\u001b[39mroll_up(\u001b[38;5;124m\"\u001b[39m\u001b[38;5;124mCustomer.MaritalStatus\u001b[39m\u001b[38;5;124m\"\u001b[39m)\n\u001b[1;32m      2\u001b[0m fig\u001b[38;5;241m.\u001b[39mupdate_layout(height\u001b[38;5;241m=\u001b[39m\u001b[38;5;241m300\u001b[39m, width\u001b[38;5;241m=\u001b[39m\u001b[38;5;241m600\u001b[39m)\n\u001b[1;32m      3\u001b[0m fig\u001b[38;5;241m.\u001b[39mshow()\n",
      "\u001b[0;31mNameError\u001b[0m: name 'myAggregator' is not defined"
     ]
    }
   ],
   "source": [
    "fig = myAggregator.roll_up(\"Customer.MaritalStatus\")\n",
    "fig.update_layout(height=300, width=600)\n",
    "fig.show()"
   ]
  },
  {
   "cell_type": "markdown",
   "metadata": {},
   "source": [
    "## Multiple predictors at once\n",
    "\n",
    "If you want to look at the aggregated lift of the top-5 predictors you can also do that. Instead of one predictor name, you can pass a list. You can even do this in combination with splitting on e.g. Group or Issue although this may be a little overwhelming.\n",
    "\n",
    "Remember that you can always subset to a subset of the models when creating the **BinAggregator**."
   ]
  },
  {
   "cell_type": "code",
   "execution_count": 11,
   "metadata": {
    "execution": {
     "iopub.execute_input": "2024-06-25T13:54:41.877227Z",
     "iopub.status.busy": "2024-06-25T13:54:41.876868Z",
     "iopub.status.idle": "2024-06-25T13:54:41.912043Z",
     "shell.execute_reply": "2024-06-25T13:54:41.911404Z"
    }
   },
   "outputs": [
    {
     "ename": "NotApplicableError",
     "evalue": "This visualisation requires combinedData, but that table isn't in this dataset.",
     "output_type": "error",
     "traceback": [
      "\u001b[0;31m---------------------------------------------------------------------------\u001b[0m",
      "\u001b[0;31mNotApplicableError\u001b[0m                        Traceback (most recent call last)",
      "Cell \u001b[0;32mIn[11], line 1\u001b[0m\n\u001b[0;32m----> 1\u001b[0m top_predictors \u001b[38;5;241m=\u001b[39m \u001b[43mdm\u001b[49m\u001b[38;5;241;43m.\u001b[39;49m\u001b[43mplotPredictorPerformance\u001b[49m\u001b[43m(\u001b[49m\n\u001b[1;32m      2\u001b[0m \u001b[43m    \u001b[49m\u001b[43mtop_n\u001b[49m\u001b[38;5;241;43m=\u001b[39;49m\u001b[38;5;241;43m10\u001b[39;49m\u001b[43m,\u001b[49m\n\u001b[1;32m      3\u001b[0m \u001b[43m    \u001b[49m\u001b[43mquery\u001b[49m\u001b[38;5;241;43m=\u001b[39;49m\u001b[43mpl\u001b[49m\u001b[38;5;241;43m.\u001b[39;49m\u001b[43mcol\u001b[49m\u001b[43m(\u001b[49m\u001b[38;5;124;43m\"\u001b[39;49m\u001b[38;5;124;43mPredictorCategory\u001b[39;49m\u001b[38;5;124;43m\"\u001b[39;49m\u001b[43m)\u001b[49m\n\u001b[1;32m      4\u001b[0m \u001b[43m    \u001b[49m\u001b[38;5;241;43m==\u001b[39;49m\u001b[43m \u001b[49m\u001b[38;5;124;43m\"\u001b[39;49m\u001b[38;5;124;43mCustomer\u001b[39;49m\u001b[38;5;124;43m\"\u001b[39;49m\u001b[43m,\u001b[49m\u001b[43m  \u001b[49m\u001b[38;5;66;43;03m# skip the \"IH\" predictors, taking only the ones prefixed with \"Customer.\"\u001b[39;49;00m\n\u001b[1;32m      5\u001b[0m \u001b[43m    \u001b[49m\u001b[43mreturn_df\u001b[49m\u001b[38;5;241;43m=\u001b[39;49m\u001b[38;5;28;43;01mTrue\u001b[39;49;00m\u001b[43m,\u001b[49m\u001b[43m  \u001b[49m\u001b[38;5;66;43;03m# with \"return_df\" True this returns a tuple, the second element [1] gives the top n predictors\u001b[39;49;00m\n\u001b[1;32m      6\u001b[0m \u001b[43m)\u001b[49m[\u001b[38;5;241m1\u001b[39m]\n\u001b[1;32m      8\u001b[0m fig \u001b[38;5;241m=\u001b[39m myAggregator\u001b[38;5;241m.\u001b[39mroll_up(top_predictors[\u001b[38;5;241m0\u001b[39m:\u001b[38;5;241m4\u001b[39m], n\u001b[38;5;241m=\u001b[39m\u001b[38;5;241m6\u001b[39m, aggregation\u001b[38;5;241m=\u001b[39m\u001b[38;5;124m\"\u001b[39m\u001b[38;5;124mGroup\u001b[39m\u001b[38;5;124m\"\u001b[39m)\n\u001b[1;32m      9\u001b[0m fig\u001b[38;5;241m.\u001b[39mupdate_layout(height\u001b[38;5;241m=\u001b[39m\u001b[38;5;241m600\u001b[39m)\n",
      "File \u001b[0;32m~/work/pega-datascientist-tools/pega-datascientist-tools/python/docs/source/articles/../../../pdstools/plots/plot_base.py:836\u001b[0m, in \u001b[0;36mPlots.plotPredictorPerformance\u001b[0;34m(self, top_n, active_only, to_plot, query, facets, **kwargs)\u001b[0m\n\u001b[1;32m    824\u001b[0m last \u001b[38;5;241m=\u001b[39m \u001b[38;5;28;01mTrue\u001b[39;00m\n\u001b[1;32m    825\u001b[0m required_columns \u001b[38;5;241m=\u001b[39m {\n\u001b[1;32m    826\u001b[0m     \u001b[38;5;124m\"\u001b[39m\u001b[38;5;124mChannel\u001b[39m\u001b[38;5;124m\"\u001b[39m,\n\u001b[1;32m    827\u001b[0m     \u001b[38;5;124m\"\u001b[39m\u001b[38;5;124mPredictorName\u001b[39m\u001b[38;5;124m\"\u001b[39m,\n\u001b[0;32m   (...)\u001b[0m\n\u001b[1;32m    833\u001b[0m     \u001b[38;5;124m\"\u001b[39m\u001b[38;5;124mPredictorCategory\u001b[39m\u001b[38;5;124m\"\u001b[39m,\n\u001b[1;32m    834\u001b[0m }\n\u001b[0;32m--> 836\u001b[0m df, facets \u001b[38;5;241m=\u001b[39m \u001b[38;5;28;43mself\u001b[39;49m\u001b[38;5;241;43m.\u001b[39;49m\u001b[43m_subset_data\u001b[49m\u001b[43m(\u001b[49m\n\u001b[1;32m    837\u001b[0m \u001b[43m    \u001b[49m\u001b[43mtable\u001b[49m\u001b[43m,\u001b[49m\n\u001b[1;32m    838\u001b[0m \u001b[43m    \u001b[49m\u001b[43mrequired_columns\u001b[49m\u001b[43m,\u001b[49m\n\u001b[1;32m    839\u001b[0m \u001b[43m    \u001b[49m\u001b[43mquery\u001b[49m\u001b[43m,\u001b[49m\n\u001b[1;32m    840\u001b[0m \u001b[43m    \u001b[49m\u001b[43mlast\u001b[49m\u001b[38;5;241;43m=\u001b[39;49m\u001b[43mlast\u001b[49m\u001b[43m,\u001b[49m\n\u001b[1;32m    841\u001b[0m \u001b[43m    \u001b[49m\u001b[43mfacets\u001b[49m\u001b[38;5;241;43m=\u001b[39;49m\u001b[43mfacets\u001b[49m\u001b[43m,\u001b[49m\n\u001b[1;32m    842\u001b[0m \u001b[43m    \u001b[49m\u001b[43mactive_only\u001b[49m\u001b[38;5;241;43m=\u001b[39;49m\u001b[43mactive_only\u001b[49m\u001b[43m,\u001b[49m\n\u001b[1;32m    843\u001b[0m \u001b[43m\u001b[49m\u001b[43m)\u001b[49m\n\u001b[1;32m    845\u001b[0m df \u001b[38;5;241m=\u001b[39m (\n\u001b[1;32m    846\u001b[0m     df\u001b[38;5;241m.\u001b[39mfilter(pl\u001b[38;5;241m.\u001b[39mcol(\u001b[38;5;124m\"\u001b[39m\u001b[38;5;124mPredictorName\u001b[39m\u001b[38;5;124m\"\u001b[39m) \u001b[38;5;241m!=\u001b[39m \u001b[38;5;124m\"\u001b[39m\u001b[38;5;124mClassifier\u001b[39m\u001b[38;5;124m\"\u001b[39m)\n\u001b[1;32m    847\u001b[0m     \u001b[38;5;241m.\u001b[39munique(subset\u001b[38;5;241m=\u001b[39m[\u001b[38;5;124m\"\u001b[39m\u001b[38;5;124mModelID\u001b[39m\u001b[38;5;124m\"\u001b[39m, \u001b[38;5;124m\"\u001b[39m\u001b[38;5;124mPredictorName\u001b[39m\u001b[38;5;124m\"\u001b[39m], keep\u001b[38;5;241m=\u001b[39m\u001b[38;5;124m\"\u001b[39m\u001b[38;5;124mfirst\u001b[39m\u001b[38;5;124m\"\u001b[39m)\n\u001b[1;32m    848\u001b[0m     \u001b[38;5;241m.\u001b[39mrename({\u001b[38;5;124m\"\u001b[39m\u001b[38;5;124mPredictorCategory\u001b[39m\u001b[38;5;124m\"\u001b[39m: \u001b[38;5;124m\"\u001b[39m\u001b[38;5;124mLegend\u001b[39m\u001b[38;5;124m\"\u001b[39m})\n\u001b[1;32m    849\u001b[0m )\n\u001b[1;32m    851\u001b[0m separate \u001b[38;5;241m=\u001b[39m kwargs\u001b[38;5;241m.\u001b[39mpop(\u001b[38;5;124m\"\u001b[39m\u001b[38;5;124mseparate\u001b[39m\u001b[38;5;124m\"\u001b[39m, \u001b[38;5;28;01mFalse\u001b[39;00m)\n",
      "File \u001b[0;32m~/work/pega-datascientist-tools/pega-datascientist-tools/python/docs/source/articles/../../../pdstools/plots/plot_base.py:191\u001b[0m, in \u001b[0;36mPlots._subset_data\u001b[0;34m(self, table, required_columns, query, multi_snapshot, last, facets, active_only, include_cols)\u001b[0m\n\u001b[1;32m    162\u001b[0m \u001b[38;5;250m\u001b[39m\u001b[38;5;124;03m\"\"\"Retrieves and subsets the data and performs some assertion checks\u001b[39;00m\n\u001b[1;32m    163\u001b[0m \n\u001b[1;32m    164\u001b[0m \u001b[38;5;124;03mParameters\u001b[39;00m\n\u001b[0;32m   (...)\u001b[0m\n\u001b[1;32m    188\u001b[0m \u001b[38;5;124;03m    Generated facet column name\u001b[39;00m\n\u001b[1;32m    189\u001b[0m \u001b[38;5;124;03m\"\"\"\u001b[39;00m\n\u001b[1;32m    190\u001b[0m \u001b[38;5;28;01mif\u001b[39;00m \u001b[38;5;129;01mnot\u001b[39;00m \u001b[38;5;28mhasattr\u001b[39m(\u001b[38;5;28mself\u001b[39m, table) \u001b[38;5;129;01mor\u001b[39;00m \u001b[38;5;28mgetattr\u001b[39m(\u001b[38;5;28mself\u001b[39m, table) \u001b[38;5;129;01mis\u001b[39;00m \u001b[38;5;28;01mNone\u001b[39;00m:\n\u001b[0;32m--> 191\u001b[0m     \u001b[38;5;28;01mraise\u001b[39;00m NotApplicableError(\n\u001b[1;32m    192\u001b[0m         \u001b[38;5;124mf\u001b[39m\u001b[38;5;124m\"\u001b[39m\u001b[38;5;124mThis visualisation requires \u001b[39m\u001b[38;5;132;01m{\u001b[39;00mtable\u001b[38;5;132;01m}\u001b[39;00m\u001b[38;5;124m, but that table isn\u001b[39m\u001b[38;5;124m'\u001b[39m\u001b[38;5;124mt in this dataset.\u001b[39m\u001b[38;5;124m\"\u001b[39m\n\u001b[1;32m    193\u001b[0m     )\n\u001b[1;32m    195\u001b[0m df \u001b[38;5;241m=\u001b[39m \u001b[38;5;28mgetattr\u001b[39m(\u001b[38;5;28mself\u001b[39m, table)\n\u001b[1;32m    196\u001b[0m \u001b[38;5;28;01mif\u001b[39;00m table \u001b[38;5;241m!=\u001b[39m \u001b[38;5;124m\"\u001b[39m\u001b[38;5;124mpredictorData\u001b[39m\u001b[38;5;124m\"\u001b[39m:\n",
      "\u001b[0;31mNotApplicableError\u001b[0m: This visualisation requires combinedData, but that table isn't in this dataset."
     ]
    }
   ],
   "source": [
    "top_predictors = dm.plotPredictorPerformance(\n",
    "    top_n=10,\n",
    "    query=pl.col(\"PredictorCategory\")\n",
    "    == \"Customer\",  # skip the \"IH\" predictors, taking only the ones prefixed with \"Customer.\"\n",
    "    return_df=True,  # with \"return_df\" True this returns a tuple, the second element [1] gives the top n predictors\n",
    ")[1]\n",
    "\n",
    "fig = myAggregator.roll_up(top_predictors[0:4], n=6, aggregation=\"Group\")\n",
    "fig.update_layout(height=600)\n",
    "fig.for_each_annotation(\n",
    "    lambda a: a.update(text=a.text.split(\".\")[-1])\n",
    ")  # trick to show just the part of the predictor names after the dot\n",
    "\n",
    "fig.show()"
   ]
  },
  {
   "cell_type": "markdown",
   "metadata": {},
   "source": [
    "## Subsetting the data\n",
    "\n",
    "The examples above all work with all the data passed in from the datamart - all the models, across all the channels etc. If you want to analyse just part of the models,perhaps certain issues, certain channels, or exclude some, there are various ways to do so.\n",
    "\n",
    "You can subset the data when creating the ADM datamart (see the query argument there), or do that when constructing the \"BinAggregator\", which also has a query argument.\n",
    "\n",
    "The query argument, like in most of PDS Tools, is a Polars expression. See Polars documentation for the full details. Note the Polars glibberish necessary below to work with the \"categorical\" Group column when we want to do the analysis only on the \"Loan\" groups."
   ]
  },
  {
   "cell_type": "code",
   "execution_count": 12,
   "metadata": {
    "execution": {
     "iopub.execute_input": "2024-06-25T13:54:41.914307Z",
     "iopub.status.busy": "2024-06-25T13:54:41.914125Z",
     "iopub.status.idle": "2024-06-25T13:54:41.938348Z",
     "shell.execute_reply": "2024-06-25T13:54:41.937836Z"
    }
   },
   "outputs": [
    {
     "ename": "AttributeError",
     "evalue": "'ADMDatamart' object has no attribute 'combinedData'",
     "output_type": "error",
     "traceback": [
      "\u001b[0;31m---------------------------------------------------------------------------\u001b[0m",
      "\u001b[0;31mAttributeError\u001b[0m                            Traceback (most recent call last)",
      "Cell \u001b[0;32mIn[12], line 1\u001b[0m\n\u001b[0;32m----> 1\u001b[0m binAggregator \u001b[38;5;241m=\u001b[39m \u001b[43mBinAggregator\u001b[49m\u001b[43m(\u001b[49m\n\u001b[1;32m      2\u001b[0m \u001b[43m    \u001b[49m\u001b[43mdm\u001b[49m\u001b[43m,\u001b[49m\u001b[43m \u001b[49m\u001b[43mquery\u001b[49m\u001b[38;5;241;43m=\u001b[39;49m\u001b[43mpl\u001b[49m\u001b[38;5;241;43m.\u001b[39;49m\u001b[43mcol\u001b[49m\u001b[43m(\u001b[49m\u001b[38;5;124;43m\"\u001b[39;49m\u001b[38;5;124;43mGroup\u001b[39;49m\u001b[38;5;124;43m\"\u001b[39;49m\u001b[43m)\u001b[49m\u001b[38;5;241;43m.\u001b[39;49m\u001b[43mcast\u001b[49m\u001b[43m(\u001b[49m\u001b[43mpl\u001b[49m\u001b[38;5;241;43m.\u001b[39;49m\u001b[43mUtf8\u001b[49m\u001b[43m)\u001b[49m\u001b[38;5;241;43m.\u001b[39;49m\u001b[43mstr\u001b[49m\u001b[38;5;241;43m.\u001b[39;49m\u001b[43mcontains\u001b[49m\u001b[43m(\u001b[49m\u001b[38;5;124;43m\"\u001b[39;49m\u001b[38;5;124;43mLoan\u001b[39;49m\u001b[38;5;124;43m\"\u001b[39;49m\u001b[43m)\u001b[49m\n\u001b[1;32m      3\u001b[0m \u001b[43m)\u001b[49m\n\u001b[1;32m      4\u001b[0m fig \u001b[38;5;241m=\u001b[39m binAggregator\u001b[38;5;241m.\u001b[39mroll_up(\n\u001b[1;32m      5\u001b[0m     [\u001b[38;5;124m\"\u001b[39m\u001b[38;5;124mCustomer.Prefix\u001b[39m\u001b[38;5;124m\"\u001b[39m, \u001b[38;5;124m\"\u001b[39m\u001b[38;5;124mCustomer.Age\u001b[39m\u001b[38;5;124m\"\u001b[39m], n\u001b[38;5;241m=\u001b[39m\u001b[38;5;241m6\u001b[39m, aggregation\u001b[38;5;241m=\u001b[39m\u001b[38;5;124m\"\u001b[39m\u001b[38;5;124mGroup\u001b[39m\u001b[38;5;124m\"\u001b[39m\n\u001b[1;32m      6\u001b[0m )\n\u001b[1;32m      7\u001b[0m fig\u001b[38;5;241m.\u001b[39mshow()\n",
      "File \u001b[0;32m~/work/pega-datascientist-tools/pega-datascientist-tools/python/docs/source/articles/../../../pdstools/adm/BinAggregator.py:19\u001b[0m, in \u001b[0;36mBinAggregator.__init__\u001b[0;34m(self, dm, query)\u001b[0m\n\u001b[1;32m     18\u001b[0m \u001b[38;5;28;01mdef\u001b[39;00m \u001b[38;5;21m__init__\u001b[39m(\u001b[38;5;28mself\u001b[39m, dm: ADMDatamart, query: pl\u001b[38;5;241m.\u001b[39mExpr \u001b[38;5;241m=\u001b[39m \u001b[38;5;28;01mNone\u001b[39;00m) \u001b[38;5;241m-\u001b[39m\u001b[38;5;241m>\u001b[39m \u001b[38;5;28;01mNone\u001b[39;00m:\n\u001b[0;32m---> 19\u001b[0m     data \u001b[38;5;241m=\u001b[39m \u001b[43mdm\u001b[49m\u001b[38;5;241;43m.\u001b[39;49m\u001b[43mlast\u001b[49m\u001b[43m(\u001b[49m\u001b[38;5;124;43m\"\u001b[39;49m\u001b[38;5;124;43mcombinedData\u001b[39;49m\u001b[38;5;124;43m\"\u001b[39;49m\u001b[43m)\u001b[49m\u001b[38;5;241m.\u001b[39mlazy()\n\u001b[1;32m     20\u001b[0m     \u001b[38;5;28;01mif\u001b[39;00m query \u001b[38;5;129;01mis\u001b[39;00m \u001b[38;5;129;01mnot\u001b[39;00m \u001b[38;5;28;01mNone\u001b[39;00m:\n\u001b[1;32m     21\u001b[0m         \u001b[38;5;66;03m# print(f\"Query: {query}\")\u001b[39;00m\n\u001b[1;32m     22\u001b[0m         data \u001b[38;5;241m=\u001b[39m data\u001b[38;5;241m.\u001b[39mfilter(query)\n",
      "File \u001b[0;32m~/work/pega-datascientist-tools/pega-datascientist-tools/python/docs/source/articles/../../../pdstools/adm/ADMDatamart.py:582\u001b[0m, in \u001b[0;36mADMDatamart.last\u001b[0;34m(self, table, strategy)\u001b[0m\n\u001b[1;32m    580\u001b[0m \u001b[38;5;28;01melif\u001b[39;00m \u001b[38;5;28misinstance\u001b[39m(table, \u001b[38;5;28mstr\u001b[39m):\n\u001b[1;32m    581\u001b[0m     \u001b[38;5;28;01massert\u001b[39;00m table \u001b[38;5;129;01min\u001b[39;00m {\u001b[38;5;124m\"\u001b[39m\u001b[38;5;124mmodelData\u001b[39m\u001b[38;5;124m\"\u001b[39m, \u001b[38;5;124m\"\u001b[39m\u001b[38;5;124mpredictorData\u001b[39m\u001b[38;5;124m\"\u001b[39m, \u001b[38;5;124m\"\u001b[39m\u001b[38;5;124mcombinedData\u001b[39m\u001b[38;5;124m\"\u001b[39m}\n\u001b[0;32m--> 582\u001b[0m     df \u001b[38;5;241m=\u001b[39m \u001b[38;5;28mself\u001b[39m\u001b[38;5;241m.\u001b[39m_last(\u001b[38;5;28;43mgetattr\u001b[39;49m\u001b[43m(\u001b[49m\u001b[38;5;28;43mself\u001b[39;49m\u001b[43m,\u001b[49m\u001b[43m \u001b[49m\u001b[43mtable\u001b[49m\u001b[43m)\u001b[49m)\n\u001b[1;32m    583\u001b[0m \u001b[38;5;28;01melse\u001b[39;00m:  \u001b[38;5;66;03m# pragma: no cover\u001b[39;00m\n\u001b[1;32m    584\u001b[0m     \u001b[38;5;28;01mraise\u001b[39;00m \u001b[38;5;167;01mValueError\u001b[39;00m(\u001b[38;5;124m\"\u001b[39m\u001b[38;5;124mThis should not happen, please file a GitHub issue :).\u001b[39m\u001b[38;5;124m\"\u001b[39m)\n",
      "\u001b[0;31mAttributeError\u001b[0m: 'ADMDatamart' object has no attribute 'combinedData'"
     ]
    }
   ],
   "source": [
    "binAggregator = BinAggregator(\n",
    "    dm, query=pl.col(\"Group\").cast(pl.Utf8).str.contains(\"Loan\")\n",
    ")\n",
    "fig = binAggregator.roll_up(\n",
    "    [\"Customer.Prefix\", \"Customer.Age\"], n=6, aggregation=\"Group\"\n",
    ")\n",
    "fig.show()"
   ]
  },
  {
   "cell_type": "code",
   "execution_count": 13,
   "metadata": {
    "execution": {
     "iopub.execute_input": "2024-06-25T13:54:41.940505Z",
     "iopub.status.busy": "2024-06-25T13:54:41.940219Z",
     "iopub.status.idle": "2024-06-25T13:54:41.955048Z",
     "shell.execute_reply": "2024-06-25T13:54:41.954587Z"
    }
   },
   "outputs": [
    {
     "ename": "AttributeError",
     "evalue": "'NoneType' object has no attribute 'select'",
     "output_type": "error",
     "traceback": [
      "\u001b[0;31m---------------------------------------------------------------------------\u001b[0m",
      "\u001b[0;31mAttributeError\u001b[0m                            Traceback (most recent call last)",
      "Cell \u001b[0;32mIn[13], line 1\u001b[0m\n\u001b[0;32m----> 1\u001b[0m \u001b[43mdm\u001b[49m\u001b[38;5;241;43m.\u001b[39;49m\u001b[43mpredictorData\u001b[49m\u001b[38;5;241;43m.\u001b[39;49m\u001b[43mselect\u001b[49m(pl\u001b[38;5;241m.\u001b[39mcol(\u001b[38;5;124m'\u001b[39m\u001b[38;5;124mPredictorName\u001b[39m\u001b[38;5;124m'\u001b[39m)\u001b[38;5;241m.\u001b[39mfilter(pl\u001b[38;5;241m.\u001b[39mcol(\u001b[38;5;124m'\u001b[39m\u001b[38;5;124mPredictorName\u001b[39m\u001b[38;5;124m'\u001b[39m)\u001b[38;5;241m.\u001b[39mcast(pl\u001b[38;5;241m.\u001b[39mString)\u001b[38;5;241m.\u001b[39mstr\u001b[38;5;241m.\u001b[39mstarts_with(\u001b[38;5;124m\"\u001b[39m\u001b[38;5;124mIH.\u001b[39m\u001b[38;5;124m\"\u001b[39m))\u001b[38;5;241m.\u001b[39munique()\u001b[38;5;241m.\u001b[39msort())\u001b[38;5;241m.\u001b[39mcollect()[\u001b[38;5;124m'\u001b[39m\u001b[38;5;124mPredictorName\u001b[39m\u001b[38;5;124m'\u001b[39m]\u001b[38;5;241m.\u001b[39mto_list()\n",
      "\u001b[0;31mAttributeError\u001b[0m: 'NoneType' object has no attribute 'select'"
     ]
    }
   ],
   "source": [
    "dm.predictorData.select(pl.col('PredictorName').filter(pl.col('PredictorName').cast(pl.String).str.starts_with(\"IH.\")).unique().sort()).collect()['PredictorName'].to_list()"
   ]
  },
  {
   "cell_type": "code",
   "execution_count": 14,
   "metadata": {
    "execution": {
     "iopub.execute_input": "2024-06-25T13:54:41.957216Z",
     "iopub.status.busy": "2024-06-25T13:54:41.956879Z",
     "iopub.status.idle": "2024-06-25T13:54:41.981019Z",
     "shell.execute_reply": "2024-06-25T13:54:41.980475Z"
    }
   },
   "outputs": [
    {
     "ename": "AttributeError",
     "evalue": "'ADMDatamart' object has no attribute 'combinedData'",
     "output_type": "error",
     "traceback": [
      "\u001b[0;31m---------------------------------------------------------------------------\u001b[0m",
      "\u001b[0;31mAttributeError\u001b[0m                            Traceback (most recent call last)",
      "Cell \u001b[0;32mIn[14], line 2\u001b[0m\n\u001b[1;32m      1\u001b[0m pred \u001b[38;5;241m=\u001b[39m \u001b[38;5;124m'\u001b[39m\u001b[38;5;124mIH.Web.Inbound.Clicked.pyHistoricalOutcomeCount\u001b[39m\u001b[38;5;124m'\u001b[39m\n\u001b[0;32m----> 2\u001b[0m myAggregator \u001b[38;5;241m=\u001b[39m \u001b[43mBinAggregator\u001b[49m\u001b[43m(\u001b[49m\u001b[43mdm\u001b[49m\u001b[43m,\u001b[49m\u001b[43m \u001b[49m\u001b[43mquery\u001b[49m\u001b[38;5;241;43m=\u001b[39;49m\u001b[43m(\u001b[49m\u001b[43mpl\u001b[49m\u001b[38;5;241;43m.\u001b[39;49m\u001b[43mcol\u001b[49m\u001b[43m(\u001b[49m\u001b[38;5;124;43m\"\u001b[39;49m\u001b[38;5;124;43mChannel\u001b[39;49m\u001b[38;5;124;43m\"\u001b[39;49m\u001b[43m)\u001b[49m\u001b[38;5;241;43m==\u001b[39;49m\u001b[38;5;124;43m\"\u001b[39;49m\u001b[38;5;124;43mWeb\u001b[39;49m\u001b[38;5;124;43m\"\u001b[39;49m\u001b[43m)\u001b[49m\u001b[43m \u001b[49m\u001b[38;5;241;43m&\u001b[39;49m\u001b[43m \u001b[49m\u001b[43m(\u001b[49m\u001b[43mpl\u001b[49m\u001b[38;5;241;43m.\u001b[39;49m\u001b[43mcol\u001b[49m\u001b[43m(\u001b[49m\u001b[38;5;124;43m\"\u001b[39;49m\u001b[38;5;124;43mGroup\u001b[39;49m\u001b[38;5;124;43m\"\u001b[39;49m\u001b[43m)\u001b[49m\u001b[38;5;241;43m==\u001b[39;49m\u001b[38;5;124;43m\"\u001b[39;49m\u001b[38;5;124;43mCreditCards\u001b[39;49m\u001b[38;5;124;43m\"\u001b[39;49m\u001b[43m)\u001b[49m\u001b[43m)\u001b[49m\n\u001b[1;32m      4\u001b[0m target \u001b[38;5;241m=\u001b[39m myAggregator\u001b[38;5;241m.\u001b[39mcreate_empty_numbinning(pred, \u001b[38;5;241m10\u001b[39m)\n\u001b[1;32m      5\u001b[0m target\n",
      "File \u001b[0;32m~/work/pega-datascientist-tools/pega-datascientist-tools/python/docs/source/articles/../../../pdstools/adm/BinAggregator.py:19\u001b[0m, in \u001b[0;36mBinAggregator.__init__\u001b[0;34m(self, dm, query)\u001b[0m\n\u001b[1;32m     18\u001b[0m \u001b[38;5;28;01mdef\u001b[39;00m \u001b[38;5;21m__init__\u001b[39m(\u001b[38;5;28mself\u001b[39m, dm: ADMDatamart, query: pl\u001b[38;5;241m.\u001b[39mExpr \u001b[38;5;241m=\u001b[39m \u001b[38;5;28;01mNone\u001b[39;00m) \u001b[38;5;241m-\u001b[39m\u001b[38;5;241m>\u001b[39m \u001b[38;5;28;01mNone\u001b[39;00m:\n\u001b[0;32m---> 19\u001b[0m     data \u001b[38;5;241m=\u001b[39m \u001b[43mdm\u001b[49m\u001b[38;5;241;43m.\u001b[39;49m\u001b[43mlast\u001b[49m\u001b[43m(\u001b[49m\u001b[38;5;124;43m\"\u001b[39;49m\u001b[38;5;124;43mcombinedData\u001b[39;49m\u001b[38;5;124;43m\"\u001b[39;49m\u001b[43m)\u001b[49m\u001b[38;5;241m.\u001b[39mlazy()\n\u001b[1;32m     20\u001b[0m     \u001b[38;5;28;01mif\u001b[39;00m query \u001b[38;5;129;01mis\u001b[39;00m \u001b[38;5;129;01mnot\u001b[39;00m \u001b[38;5;28;01mNone\u001b[39;00m:\n\u001b[1;32m     21\u001b[0m         \u001b[38;5;66;03m# print(f\"Query: {query}\")\u001b[39;00m\n\u001b[1;32m     22\u001b[0m         data \u001b[38;5;241m=\u001b[39m data\u001b[38;5;241m.\u001b[39mfilter(query)\n",
      "File \u001b[0;32m~/work/pega-datascientist-tools/pega-datascientist-tools/python/docs/source/articles/../../../pdstools/adm/ADMDatamart.py:582\u001b[0m, in \u001b[0;36mADMDatamart.last\u001b[0;34m(self, table, strategy)\u001b[0m\n\u001b[1;32m    580\u001b[0m \u001b[38;5;28;01melif\u001b[39;00m \u001b[38;5;28misinstance\u001b[39m(table, \u001b[38;5;28mstr\u001b[39m):\n\u001b[1;32m    581\u001b[0m     \u001b[38;5;28;01massert\u001b[39;00m table \u001b[38;5;129;01min\u001b[39;00m {\u001b[38;5;124m\"\u001b[39m\u001b[38;5;124mmodelData\u001b[39m\u001b[38;5;124m\"\u001b[39m, \u001b[38;5;124m\"\u001b[39m\u001b[38;5;124mpredictorData\u001b[39m\u001b[38;5;124m\"\u001b[39m, \u001b[38;5;124m\"\u001b[39m\u001b[38;5;124mcombinedData\u001b[39m\u001b[38;5;124m\"\u001b[39m}\n\u001b[0;32m--> 582\u001b[0m     df \u001b[38;5;241m=\u001b[39m \u001b[38;5;28mself\u001b[39m\u001b[38;5;241m.\u001b[39m_last(\u001b[38;5;28;43mgetattr\u001b[39;49m\u001b[43m(\u001b[49m\u001b[38;5;28;43mself\u001b[39;49m\u001b[43m,\u001b[49m\u001b[43m \u001b[49m\u001b[43mtable\u001b[49m\u001b[43m)\u001b[49m)\n\u001b[1;32m    583\u001b[0m \u001b[38;5;28;01melse\u001b[39;00m:  \u001b[38;5;66;03m# pragma: no cover\u001b[39;00m\n\u001b[1;32m    584\u001b[0m     \u001b[38;5;28;01mraise\u001b[39;00m \u001b[38;5;167;01mValueError\u001b[39;00m(\u001b[38;5;124m\"\u001b[39m\u001b[38;5;124mThis should not happen, please file a GitHub issue :).\u001b[39m\u001b[38;5;124m\"\u001b[39m)\n",
      "\u001b[0;31mAttributeError\u001b[0m: 'ADMDatamart' object has no attribute 'combinedData'"
     ]
    }
   ],
   "source": [
    "pred = 'IH.Web.Inbound.Clicked.pyHistoricalOutcomeCount'\n",
    "myAggregator = BinAggregator(dm, query=(pl.col(\"Channel\")==\"Web\") & (pl.col(\"Group\")==\"CreditCards\"))\n",
    "\n",
    "target = myAggregator.create_empty_numbinning(pred, 10)\n",
    "target"
   ]
  },
  {
   "cell_type": "code",
   "execution_count": 15,
   "metadata": {
    "execution": {
     "iopub.execute_input": "2024-06-25T13:54:41.983270Z",
     "iopub.status.busy": "2024-06-25T13:54:41.982924Z",
     "iopub.status.idle": "2024-06-25T13:54:41.996328Z",
     "shell.execute_reply": "2024-06-25T13:54:41.995879Z"
    }
   },
   "outputs": [
    {
     "ename": "NameError",
     "evalue": "name 'myAggregator' is not defined",
     "output_type": "error",
     "traceback": [
      "\u001b[0;31m---------------------------------------------------------------------------\u001b[0m",
      "\u001b[0;31mNameError\u001b[0m                                 Traceback (most recent call last)",
      "Cell \u001b[0;32mIn[15], line 1\u001b[0m\n\u001b[0;32m----> 1\u001b[0m \u001b[43mmyAggregator\u001b[49m\u001b[38;5;241m.\u001b[39mall_predictorbinning\u001b[38;5;241m.\u001b[39mselect(pl\u001b[38;5;241m.\u001b[39mcol(\u001b[38;5;124m\"\u001b[39m\u001b[38;5;124mModelID\u001b[39m\u001b[38;5;124m\"\u001b[39m)\u001b[38;5;241m.\u001b[39mn_unique())\u001b[38;5;241m.\u001b[39mcollect()\n",
      "\u001b[0;31mNameError\u001b[0m: name 'myAggregator' is not defined"
     ]
    }
   ],
   "source": [
    "myAggregator.all_predictorbinning.select(pl.col(\"ModelID\").n_unique()).collect()"
   ]
  },
  {
   "cell_type": "code",
   "execution_count": 16,
   "metadata": {
    "execution": {
     "iopub.execute_input": "2024-06-25T13:54:41.998556Z",
     "iopub.status.busy": "2024-06-25T13:54:41.998229Z",
     "iopub.status.idle": "2024-06-25T13:54:42.012803Z",
     "shell.execute_reply": "2024-06-25T13:54:42.012315Z"
    }
   },
   "outputs": [
    {
     "ename": "NameError",
     "evalue": "name 'myAggregator' is not defined",
     "output_type": "error",
     "traceback": [
      "\u001b[0;31m---------------------------------------------------------------------------\u001b[0m",
      "\u001b[0;31mNameError\u001b[0m                                 Traceback (most recent call last)",
      "Cell \u001b[0;32mIn[16], line 2\u001b[0m\n\u001b[1;32m      1\u001b[0m pred \u001b[38;5;241m=\u001b[39m \u001b[38;5;124m'\u001b[39m\u001b[38;5;124mIH.Web.Inbound.Clicked.pyHistoricalOutcomeCount\u001b[39m\u001b[38;5;124m'\u001b[39m\n\u001b[0;32m----> 2\u001b[0m \u001b[43mmyAggregator\u001b[49m\u001b[38;5;241m.\u001b[39mall_predictorbinning\u001b[38;5;241m.\u001b[39mfilter(pl\u001b[38;5;241m.\u001b[39mcol(\u001b[38;5;124m\"\u001b[39m\u001b[38;5;124mPredictorName\u001b[39m\u001b[38;5;124m\"\u001b[39m) \u001b[38;5;241m==\u001b[39m pred)\u001b[38;5;241m.\u001b[39mgroup_by(\n\u001b[1;32m      3\u001b[0m     pl\u001b[38;5;241m.\u001b[39mcol(\u001b[38;5;124m\"\u001b[39m\u001b[38;5;124mModelID\u001b[39m\u001b[38;5;124m\"\u001b[39m)\n\u001b[1;32m      4\u001b[0m )\u001b[38;5;241m.\u001b[39magg(pl\u001b[38;5;241m.\u001b[39msum(\u001b[38;5;124m\"\u001b[39m\u001b[38;5;124mResponseCount\u001b[39m\u001b[38;5;124m\"\u001b[39m), pl\u001b[38;5;241m.\u001b[39mmax(\u001b[38;5;124m\"\u001b[39m\u001b[38;5;124mBinIndex\u001b[39m\u001b[38;5;124m\"\u001b[39m))\u001b[38;5;241m.\u001b[39msort(\n\u001b[1;32m      5\u001b[0m     \u001b[38;5;124m\"\u001b[39m\u001b[38;5;124mResponseCount\u001b[39m\u001b[38;5;124m\"\u001b[39m, descending\u001b[38;5;241m=\u001b[39m\u001b[38;5;28;01mTrue\u001b[39;00m\n\u001b[1;32m      6\u001b[0m )\u001b[38;5;241m.\u001b[39mhead()\u001b[38;5;241m.\u001b[39mcollect()\u001b[38;5;241m.\u001b[39mto_pandas()\u001b[38;5;241m.\u001b[39mstyle\n",
      "\u001b[0;31mNameError\u001b[0m: name 'myAggregator' is not defined"
     ]
    }
   ],
   "source": [
    "pred = 'IH.Web.Inbound.Clicked.pyHistoricalOutcomeCount'\n",
    "myAggregator.all_predictorbinning.filter(pl.col(\"PredictorName\") == pred).group_by(\n",
    "    pl.col(\"ModelID\")\n",
    ").agg(pl.sum(\"ResponseCount\"), pl.max(\"BinIndex\")).sort(\n",
    "    \"ResponseCount\", descending=True\n",
    ").head().collect().to_pandas().style"
   ]
  },
  {
   "cell_type": "code",
   "execution_count": 17,
   "metadata": {
    "execution": {
     "iopub.execute_input": "2024-06-25T13:54:42.014992Z",
     "iopub.status.busy": "2024-06-25T13:54:42.014661Z",
     "iopub.status.idle": "2024-06-25T13:54:42.027598Z",
     "shell.execute_reply": "2024-06-25T13:54:42.027019Z"
    }
   },
   "outputs": [
    {
     "ename": "NameError",
     "evalue": "name 'myAggregator' is not defined",
     "output_type": "error",
     "traceback": [
      "\u001b[0;31m---------------------------------------------------------------------------\u001b[0m",
      "\u001b[0;31mNameError\u001b[0m                                 Traceback (most recent call last)",
      "Cell \u001b[0;32mIn[17], line 1\u001b[0m\n\u001b[0;32m----> 1\u001b[0m overall \u001b[38;5;241m=\u001b[39m \u001b[43mmyAggregator\u001b[49m\u001b[38;5;241m.\u001b[39mroll_up(predictors\u001b[38;5;241m=\u001b[39mpred, return_df\u001b[38;5;241m=\u001b[39m\u001b[38;5;28;01mTrue\u001b[39;00m)\u001b[38;5;241m.\u001b[39mwith_columns(BinIndex \u001b[38;5;241m=\u001b[39m pl\u001b[38;5;241m.\u001b[39mcol(\u001b[38;5;124m\"\u001b[39m\u001b[38;5;124mBinIndex\u001b[39m\u001b[38;5;124m\"\u001b[39m)\u001b[38;5;241m.\u001b[39mcast(pl\u001b[38;5;241m.\u001b[39mUInt32))\n\u001b[1;32m      2\u001b[0m overall\u001b[38;5;241m.\u001b[39mto_pandas()\u001b[38;5;241m.\u001b[39mstyle\n",
      "\u001b[0;31mNameError\u001b[0m: name 'myAggregator' is not defined"
     ]
    }
   ],
   "source": [
    "overall = myAggregator.roll_up(predictors=pred, return_df=True).with_columns(BinIndex = pl.col(\"BinIndex\").cast(pl.UInt32))\n",
    "overall.to_pandas().style\n"
   ]
  },
  {
   "cell_type": "code",
   "execution_count": 18,
   "metadata": {
    "execution": {
     "iopub.execute_input": "2024-06-25T13:54:42.029803Z",
     "iopub.status.busy": "2024-06-25T13:54:42.029494Z",
     "iopub.status.idle": "2024-06-25T13:54:42.041129Z",
     "shell.execute_reply": "2024-06-25T13:54:42.040567Z"
    }
   },
   "outputs": [
    {
     "ename": "NameError",
     "evalue": "name 'myAggregator' is not defined",
     "output_type": "error",
     "traceback": [
      "\u001b[0;31m---------------------------------------------------------------------------\u001b[0m",
      "\u001b[0;31mNameError\u001b[0m                                 Traceback (most recent call last)",
      "Cell \u001b[0;32mIn[18], line 1\u001b[0m\n\u001b[0;32m----> 1\u001b[0m \u001b[43mmyAggregator\u001b[49m\u001b[38;5;241m.\u001b[39mall_predictorbinning\u001b[38;5;241m.\u001b[39mhead()\u001b[38;5;241m.\u001b[39mcollect()\n",
      "\u001b[0;31mNameError\u001b[0m: name 'myAggregator' is not defined"
     ]
    }
   ],
   "source": [
    "myAggregator.all_predictorbinning.head().collect()"
   ]
  },
  {
   "cell_type": "code",
   "execution_count": 19,
   "metadata": {
    "execution": {
     "iopub.execute_input": "2024-06-25T13:54:42.043367Z",
     "iopub.status.busy": "2024-06-25T13:54:42.042936Z",
     "iopub.status.idle": "2024-06-25T13:54:42.056216Z",
     "shell.execute_reply": "2024-06-25T13:54:42.055760Z"
    }
   },
   "outputs": [
    {
     "ename": "NameError",
     "evalue": "name 'myAggregator' is not defined",
     "output_type": "error",
     "traceback": [
      "\u001b[0;31m---------------------------------------------------------------------------\u001b[0m",
      "\u001b[0;31mNameError\u001b[0m                                 Traceback (most recent call last)",
      "Cell \u001b[0;32mIn[19], line 1\u001b[0m\n\u001b[0;32m----> 1\u001b[0m predictor_types\u001b[38;5;241m=\u001b[39m\u001b[43mmyAggregator\u001b[49m\u001b[38;5;241m.\u001b[39mall_predictorbinning\u001b[38;5;241m.\u001b[39mgroup_by(\u001b[38;5;124m\"\u001b[39m\u001b[38;5;124mPredictorName\u001b[39m\u001b[38;5;124m\"\u001b[39m)\u001b[38;5;241m.\u001b[39magg(pl\u001b[38;5;241m.\u001b[39mfirst(\u001b[38;5;124m\"\u001b[39m\u001b[38;5;124misNumeric\u001b[39m\u001b[38;5;124m\"\u001b[39m))\u001b[38;5;241m.\u001b[39msort(\u001b[38;5;124m'\u001b[39m\u001b[38;5;124mPredictorName\u001b[39m\u001b[38;5;124m'\u001b[39m)\u001b[38;5;241m.\u001b[39mcollect()\u001b[38;5;241m.\u001b[39mto_dict()\n\u001b[1;32m      2\u001b[0m is_numeric_map \u001b[38;5;241m=\u001b[39m {i[\u001b[38;5;241m1\u001b[39m]:predictor_types[\u001b[38;5;124m'\u001b[39m\u001b[38;5;124misNumeric\u001b[39m\u001b[38;5;124m'\u001b[39m][i[\u001b[38;5;241m0\u001b[39m]] \u001b[38;5;28;01mfor\u001b[39;00m i \u001b[38;5;129;01min\u001b[39;00m \u001b[38;5;28menumerate\u001b[39m(predictor_types[\u001b[38;5;124m'\u001b[39m\u001b[38;5;124mPredictorName\u001b[39m\u001b[38;5;124m'\u001b[39m])}\n\u001b[1;32m      3\u001b[0m is_numeric_map\n",
      "\u001b[0;31mNameError\u001b[0m: name 'myAggregator' is not defined"
     ]
    }
   ],
   "source": [
    "predictor_types=myAggregator.all_predictorbinning.group_by(\"PredictorName\").agg(pl.first(\"isNumeric\")).sort('PredictorName').collect().to_dict()\n",
    "is_numeric_map = {i[1]:predictor_types['isNumeric'][i[0]] for i in enumerate(predictor_types['PredictorName'])}\n",
    "is_numeric_map"
   ]
  },
  {
   "cell_type": "code",
   "execution_count": 20,
   "metadata": {
    "execution": {
     "iopub.execute_input": "2024-06-25T13:54:42.058322Z",
     "iopub.status.busy": "2024-06-25T13:54:42.058012Z",
     "iopub.status.idle": "2024-06-25T13:54:42.082375Z",
     "shell.execute_reply": "2024-06-25T13:54:42.081798Z"
    }
   },
   "outputs": [
    {
     "ename": "NameError",
     "evalue": "name 'myAggregator' is not defined",
     "output_type": "error",
     "traceback": [
      "\u001b[0;31m---------------------------------------------------------------------------\u001b[0m",
      "\u001b[0;31mNameError\u001b[0m                                 Traceback (most recent call last)",
      "Cell \u001b[0;32mIn[20], line 4\u001b[0m\n\u001b[1;32m      1\u001b[0m \u001b[38;5;28;01mfrom\u001b[39;00m \u001b[38;5;21;01mpdstools\u001b[39;00m\u001b[38;5;21;01m.\u001b[39;00m\u001b[38;5;21;01mutils\u001b[39;00m\u001b[38;5;21;01m.\u001b[39;00m\u001b[38;5;21;01mcdh_utils\u001b[39;00m \u001b[38;5;28;01mimport\u001b[39;00m weighted_average_polars\n\u001b[1;32m      3\u001b[0m ids \u001b[38;5;241m=\u001b[39m [\u001b[38;5;124m\"\u001b[39m\u001b[38;5;124mfb41259a-2c47-5039-be73-00287273f32d\u001b[39m\u001b[38;5;124m\"\u001b[39m, \u001b[38;5;124m\"\u001b[39m\u001b[38;5;124mae3e7134-f30e-5e25-8845-e08af0009942\u001b[39m\u001b[38;5;124m\"\u001b[39m]\n\u001b[0;32m----> 4\u001b[0m ids \u001b[38;5;241m=\u001b[39m \u001b[43mmyAggregator\u001b[49m\u001b[38;5;241m.\u001b[39mall_predictorbinning\u001b[38;5;241m.\u001b[39mselect(pl\u001b[38;5;241m.\u001b[39mcol(\u001b[38;5;124m\"\u001b[39m\u001b[38;5;124mModelID\u001b[39m\u001b[38;5;124m\"\u001b[39m)\u001b[38;5;241m.\u001b[39munique())\u001b[38;5;241m.\u001b[39mcollect()[\u001b[38;5;124m\"\u001b[39m\u001b[38;5;124mModelID\u001b[39m\u001b[38;5;124m\"\u001b[39m]\u001b[38;5;241m.\u001b[39mhead(\u001b[38;5;241m10\u001b[39m)\u001b[38;5;241m.\u001b[39mto_list()\n\u001b[1;32m      6\u001b[0m \u001b[38;5;66;03m# preds = ['IH.Web.Inbound.Clicked.pyHistoricalOutcomeCount']\u001b[39;00m\n\u001b[1;32m      7\u001b[0m preds \u001b[38;5;241m=\u001b[39m [\u001b[38;5;124m'\u001b[39m\u001b[38;5;124mIH.Web.Inbound.Clicked.pyHistoricalOutcomeCount\u001b[39m\u001b[38;5;124m'\u001b[39m, \u001b[38;5;124m'\u001b[39m\u001b[38;5;124mIH.SMS.Outbound.Clicked.pyHistoricalOutcomeCount\u001b[39m\u001b[38;5;124m'\u001b[39m, \u001b[38;5;124m\"\u001b[39m\u001b[38;5;124mIH.Web.Inbound.Clicked.pxLastGroupID\u001b[39m\u001b[38;5;124m\"\u001b[39m, \u001b[38;5;124m\"\u001b[39m\u001b[38;5;124mIH.SMS.Outbound.Clicked.pxLastGroupID\u001b[39m\u001b[38;5;124m\"\u001b[39m]\n",
      "\u001b[0;31mNameError\u001b[0m: name 'myAggregator' is not defined"
     ]
    }
   ],
   "source": [
    "from pdstools.utils.cdh_utils import weighted_average_polars\n",
    "\n",
    "ids = [\"fb41259a-2c47-5039-be73-00287273f32d\", \"ae3e7134-f30e-5e25-8845-e08af0009942\"]\n",
    "ids = myAggregator.all_predictorbinning.select(pl.col(\"ModelID\").unique()).collect()[\"ModelID\"].head(10).to_list()\n",
    "\n",
    "# preds = ['IH.Web.Inbound.Clicked.pyHistoricalOutcomeCount']\n",
    "preds = ['IH.Web.Inbound.Clicked.pyHistoricalOutcomeCount', 'IH.SMS.Outbound.Clicked.pyHistoricalOutcomeCount', \"IH.Web.Inbound.Clicked.pxLastGroupID\", \"IH.SMS.Outbound.Clicked.pxLastGroupID\"]\n",
    "\n",
    "def combine_num_binnings(pred, id, target):\n",
    "    return myAggregator.accumulate_num_binnings(pred, [id], target.clone()).with_columns(ModelID=pl.lit(id))\n",
    "\n",
    "def combine_sym_binnings(pred, id, target):\n",
    "    return  myAggregator.accumulate_sym_binnings(pred, [id], symbols).with_columns(ModelID=pl.lit(id))\n",
    "\n",
    "def combine_binnings_multiple(pred, ids):\n",
    "    is_numeric = is_numeric_map[pred]\n",
    "    if is_numeric:\n",
    "        target = myAggregator.create_empty_numbinning(pred, 10)\n",
    "        result = pl.concat([combine_num_binnings(pred, id, target) for id in ids], how=\"vertical_relaxed\")\n",
    "    else:\n",
    "        symbols = myAggregator.create_symbol_list(pred, n_symbols=10, musthave_symbols=[])\n",
    "        result = pl.concat([combine_sym_binnings(pred, id, symbols) for id in ids], how=\"vertical_relaxed\")\n",
    "    return result\n",
    "\n",
    "# Map the individual binning of each model onto the normalized target binning\n",
    "normalized_source_binnings = pl.concat([combine_binnings_multiple(pred, ids) for pred in preds], how=\"vertical_relaxed\")\n",
    "# normalized_source_binnings.to_pandas().style\n",
    "normalized_source_binnings.with_columns(BinIndex = pl.col(\"BinIndex\").cast(pl.UInt32)).join(\n",
    "    overall.select([\"BinIndex\", \"Lift\"]), on=\"BinIndex\", how=\"left\", suffix=\"_overall\"\n",
    ").with_columns(\n",
    "    Distance=(pl.col(\"Lift\") - pl.col(\"Lift_overall\")).abs()\n",
    ").group_by(\n",
    "    [\"PredictorName\", \"ModelID\"]\n",
    ").agg(\n",
    "    Distance=weighted_average_polars(\"Distance\", \"BinResponses\")\n",
    ").group_by(\"PredictorName\").agg(ACDC=pl.col(\"Distance\").mean()).sort(\"PredictorName\").to_pandas().style"
   ]
  },
  {
   "cell_type": "code",
   "execution_count": 21,
   "metadata": {
    "execution": {
     "iopub.execute_input": "2024-06-25T13:54:42.084515Z",
     "iopub.status.busy": "2024-06-25T13:54:42.084194Z",
     "iopub.status.idle": "2024-06-25T13:54:42.097355Z",
     "shell.execute_reply": "2024-06-25T13:54:42.096833Z"
    }
   },
   "outputs": [
    {
     "ename": "NameError",
     "evalue": "name 'onemodel' is not defined",
     "output_type": "error",
     "traceback": [
      "\u001b[0;31m---------------------------------------------------------------------------\u001b[0m",
      "\u001b[0;31mNameError\u001b[0m                                 Traceback (most recent call last)",
      "Cell \u001b[0;32mIn[21], line 1\u001b[0m\n\u001b[0;32m----> 1\u001b[0m \u001b[43monemodel\u001b[49m\u001b[38;5;241m.\u001b[39mjoin(overall\u001b[38;5;241m.\u001b[39mselect([\u001b[38;5;124m\"\u001b[39m\u001b[38;5;124mBinIndex\u001b[39m\u001b[38;5;124m\"\u001b[39m, \u001b[38;5;124m\"\u001b[39m\u001b[38;5;124mLift\u001b[39m\u001b[38;5;124m\"\u001b[39m]), on\u001b[38;5;241m=\u001b[39m\u001b[38;5;124m\"\u001b[39m\u001b[38;5;124mBinIndex\u001b[39m\u001b[38;5;124m\"\u001b[39m, how\u001b[38;5;241m=\u001b[39m\u001b[38;5;124m\"\u001b[39m\u001b[38;5;124mleft\u001b[39m\u001b[38;5;124m\"\u001b[39m, suffix\u001b[38;5;241m=\u001b[39m\u001b[38;5;124m\"\u001b[39m\u001b[38;5;124m_overall\u001b[39m\u001b[38;5;124m\"\u001b[39m)\n",
      "\u001b[0;31mNameError\u001b[0m: name 'onemodel' is not defined"
     ]
    }
   ],
   "source": [
    "onemodel.join(overall.select([\"BinIndex\", \"Lift\"]), on=\"BinIndex\", how=\"left\", suffix=\"_overall\")"
   ]
  }
 ],
 "metadata": {
  "kernelspec": {
   "display_name": "env-p11",
   "language": "python",
   "name": "python3"
  },
  "language_info": {
   "codemirror_mode": {
    "name": "ipython",
    "version": 3
   },
   "file_extension": ".py",
   "mimetype": "text/x-python",
   "name": "python",
   "nbconvert_exporter": "python",
   "pygments_lexer": "ipython3",
   "version": "3.11.9"
  }
 },
 "nbformat": 4,
 "nbformat_minor": 2
}
