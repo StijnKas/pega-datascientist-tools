{
 "cells": [
  {
   "cell_type": "markdown",
   "metadata": {},
   "source": [
    "# Insights from ADM Models\n",
    "\n",
    "The predictor binning from ADM models can deliver great insights to marketing and business and provides transparency into the models. \n",
    "\n",
    "Both AGB and NB types of ADM models already provide overall predictor importance views like these:\n",
    "\n"
   ]
  },
  {
   "cell_type": "code",
   "execution_count": 1,
   "metadata": {
    "execution": {
     "iopub.execute_input": "2024-05-17T12:21:50.613086Z",
     "iopub.status.busy": "2024-05-17T12:21:50.612686Z",
     "iopub.status.idle": "2024-05-17T12:21:50.686967Z",
     "shell.execute_reply": "2024-05-17T12:21:50.686407Z"
    },
    "nbsphinx": "hidden"
   },
   "outputs": [],
   "source": [
    "# These lines are only for rendering in the docs, and are hidden through Jupyter tags\n",
    "# Do not run if you're running the notebook seperately\n",
    "# Hidden from doc by virtue of cell tags - in VSCode right-click on the bar to the left of this cell, edit cell tags, see metadata\n",
    "\n",
    "import plotly.io as pio\n",
    "\n",
    "pio.renderers.default = \"notebook_connected\"\n",
    "\n",
    "import sys\n",
    "\n",
    "sys.path.append(\"../../../\")\n",
    "\n",
    "import warnings\n",
    "\n",
    "warnings.simplefilter(\"ignore\", SyntaxWarning)"
   ]
  },
  {
   "cell_type": "code",
   "execution_count": 2,
   "metadata": {
    "execution": {
     "iopub.execute_input": "2024-05-17T12:21:50.689908Z",
     "iopub.status.busy": "2024-05-17T12:21:50.689416Z",
     "iopub.status.idle": "2024-05-17T12:21:52.854093Z",
     "shell.execute_reply": "2024-05-17T12:21:52.853447Z"
    }
   },
   "outputs": [
    {
     "ename": "InvalidOperationError",
     "evalue": "could not determine supertype of: [datetime[ns], dyn int]\n\n\nThis error occurred with the following context stack:\n\t[1] 'filter' failed\n\t[2] 'join left' input failed to resolve\n",
     "output_type": "error",
     "traceback": [
      "\u001b[0;31m---------------------------------------------------------------------------\u001b[0m",
      "\u001b[0;31mInvalidOperationError\u001b[0m                     Traceback (most recent call last)",
      "Cell \u001b[0;32mIn[2], line 4\u001b[0m\n\u001b[1;32m      1\u001b[0m \u001b[38;5;28;01mfrom\u001b[39;00m \u001b[38;5;21;01mpdstools\u001b[39;00m \u001b[38;5;28;01mimport\u001b[39;00m ADMDatamart, datasets\n\u001b[1;32m      2\u001b[0m \u001b[38;5;28;01mimport\u001b[39;00m \u001b[38;5;21;01mpolars\u001b[39;00m \u001b[38;5;28;01mas\u001b[39;00m \u001b[38;5;21;01mpl\u001b[39;00m\n\u001b[0;32m----> 4\u001b[0m dm \u001b[38;5;241m=\u001b[39m \u001b[43mdatasets\u001b[49m\u001b[38;5;241;43m.\u001b[39;49m\u001b[43mCDHSample\u001b[49m\u001b[43m(\u001b[49m\u001b[43m)\u001b[49m\n\u001b[1;32m      6\u001b[0m \u001b[38;5;66;03m# replace this with your own datamart data, see PDS tools documentation for examples\u001b[39;00m\n\u001b[1;32m      7\u001b[0m \u001b[38;5;66;03m# dm = ADMDatamart(\u001b[39;00m\n\u001b[1;32m      8\u001b[0m \u001b[38;5;66;03m#     model_filename=\"...\",\u001b[39;00m\n\u001b[1;32m      9\u001b[0m \u001b[38;5;66;03m#     predictor_filename=\"...\"\u001b[39;00m\n\u001b[1;32m     10\u001b[0m \u001b[38;5;66;03m# )\u001b[39;00m\n\u001b[1;32m     12\u001b[0m fig \u001b[38;5;241m=\u001b[39m dm\u001b[38;5;241m.\u001b[39mplotPredictorPerformance(top_n\u001b[38;5;241m=\u001b[39m\u001b[38;5;241m10\u001b[39m)\n",
      "File \u001b[0;32m~/work/pega-datascientist-tools/pega-datascientist-tools/python/docs/source/articles/../../../pdstools/utils/datasets.py:10\u001b[0m, in \u001b[0;36mCDHSample\u001b[0;34m(plotting_engine, query, **kwargs)\u001b[0m\n\u001b[1;32m      8\u001b[0m models \u001b[38;5;241m=\u001b[39m \u001b[38;5;124m\"\u001b[39m\u001b[38;5;124mData-Decision-ADM-ModelSnapshot_pyModelSnapshots_20210526T131808_GMT.zip\u001b[39m\u001b[38;5;124m\"\u001b[39m\n\u001b[1;32m      9\u001b[0m predictors \u001b[38;5;241m=\u001b[39m \u001b[38;5;124m\"\u001b[39m\u001b[38;5;124mData-Decision-ADM-PredictorBinningSnapshot_pyADMPredictorSnapshots_20210526T133622_GMT.zip\u001b[39m\u001b[38;5;124m\"\u001b[39m\n\u001b[0;32m---> 10\u001b[0m \u001b[38;5;28;01mreturn\u001b[39;00m \u001b[43mADMDatamart\u001b[49m\u001b[43m(\u001b[49m\n\u001b[1;32m     11\u001b[0m \u001b[43m    \u001b[49m\u001b[43mpath\u001b[49m\u001b[38;5;241;43m=\u001b[39;49m\u001b[43mpath\u001b[49m\u001b[43m,\u001b[49m\n\u001b[1;32m     12\u001b[0m \u001b[43m    \u001b[49m\u001b[43mmodel_filename\u001b[49m\u001b[38;5;241;43m=\u001b[39;49m\u001b[43mmodels\u001b[49m\u001b[43m,\u001b[49m\n\u001b[1;32m     13\u001b[0m \u001b[43m    \u001b[49m\u001b[43mpredictor_filename\u001b[49m\u001b[38;5;241;43m=\u001b[39;49m\u001b[43mpredictors\u001b[49m\u001b[43m,\u001b[49m\n\u001b[1;32m     14\u001b[0m \u001b[43m    \u001b[49m\u001b[43mplotting_engine\u001b[49m\u001b[38;5;241;43m=\u001b[39;49m\u001b[43mplotting_engine\u001b[49m\u001b[43m,\u001b[49m\n\u001b[1;32m     15\u001b[0m \u001b[43m    \u001b[49m\u001b[43mquery\u001b[49m\u001b[38;5;241;43m=\u001b[39;49m\u001b[43mquery\u001b[49m\u001b[43m,\u001b[49m\n\u001b[1;32m     16\u001b[0m \u001b[43m    \u001b[49m\u001b[38;5;241;43m*\u001b[39;49m\u001b[38;5;241;43m*\u001b[39;49m\u001b[43mkwargs\u001b[49m\u001b[43m,\u001b[49m\n\u001b[1;32m     17\u001b[0m \u001b[43m\u001b[49m\u001b[43m)\u001b[49m\n",
      "File \u001b[0;32m~/work/pega-datascientist-tools/pega-datascientist-tools/python/docs/source/articles/../../../pdstools/adm/ADMDatamart.py:179\u001b[0m, in \u001b[0;36mADMDatamart.__init__\u001b[0;34m(self, path, import_strategy, model_filename, predictor_filename, model_df, predictor_df, query, subset, drop_cols, include_cols, context_keys, extract_keys, predictorCategorization, plotting_engine, verbose, **reading_opts)\u001b[0m\n\u001b[1;32m    176\u001b[0m \u001b[38;5;28mself\u001b[39m\u001b[38;5;241m.\u001b[39mplotting_engine \u001b[38;5;241m=\u001b[39m plotting_engine\n\u001b[1;32m    177\u001b[0m \u001b[38;5;28msuper\u001b[39m()\u001b[38;5;241m.\u001b[39m\u001b[38;5;21m__init__\u001b[39m()\n\u001b[0;32m--> 179\u001b[0m \u001b[38;5;28;43mself\u001b[39;49m\u001b[38;5;241;43m.\u001b[39;49m\u001b[43mprocessTables\u001b[49m\u001b[43m(\u001b[49m\u001b[38;5;28;43mself\u001b[39;49m\u001b[38;5;241;43m.\u001b[39;49m\u001b[43mquery\u001b[49m\u001b[43m)\u001b[49m\n",
      "File \u001b[0;32m~/work/pega-datascientist-tools/pega-datascientist-tools/python/docs/source/articles/../../../pdstools/adm/ADMDatamart.py:670\u001b[0m, in \u001b[0;36mADMDatamart.processTables\u001b[0;34m(self, query)\u001b[0m\n\u001b[1;32m    667\u001b[0m         \u001b[38;5;28mself\u001b[39m\u001b[38;5;241m.\u001b[39mpredictorData \u001b[38;5;241m=\u001b[39m \u001b[38;5;28mself\u001b[39m\u001b[38;5;241m.\u001b[39mpredictorData\u001b[38;5;241m.\u001b[39mcollect()\u001b[38;5;241m.\u001b[39mlazy()\n\u001b[1;32m    669\u001b[0m \u001b[38;5;28;01mif\u001b[39;00m \u001b[38;5;28mself\u001b[39m\u001b[38;5;241m.\u001b[39mpredictorData \u001b[38;5;129;01mis\u001b[39;00m \u001b[38;5;129;01mnot\u001b[39;00m \u001b[38;5;28;01mNone\u001b[39;00m \u001b[38;5;129;01mand\u001b[39;00m \u001b[38;5;28mself\u001b[39m\u001b[38;5;241m.\u001b[39mmodelData \u001b[38;5;129;01mis\u001b[39;00m \u001b[38;5;129;01mnot\u001b[39;00m \u001b[38;5;28;01mNone\u001b[39;00m:\n\u001b[0;32m--> 670\u001b[0m     \u001b[38;5;28mself\u001b[39m\u001b[38;5;241m.\u001b[39mcombinedData \u001b[38;5;241m=\u001b[39m \u001b[38;5;28;43mself\u001b[39;49m\u001b[38;5;241;43m.\u001b[39;49m\u001b[43m_get_combined_data\u001b[49m\u001b[43m(\u001b[49m\u001b[43mstrategy\u001b[49m\u001b[38;5;241;43m=\u001b[39;49m\u001b[38;5;28;43mself\u001b[39;49m\u001b[38;5;241;43m.\u001b[39;49m\u001b[43mimport_strategy\u001b[49m\u001b[43m)\u001b[49m\n\u001b[1;32m    671\u001b[0m \u001b[38;5;28;01melif\u001b[39;00m \u001b[38;5;28mself\u001b[39m\u001b[38;5;241m.\u001b[39mverbose:\n\u001b[1;32m    672\u001b[0m     \u001b[38;5;28mprint\u001b[39m(\n\u001b[1;32m    673\u001b[0m         \u001b[38;5;124m\"\u001b[39m\u001b[38;5;124mCould not be combined. Do you have both model data and predictor data?\u001b[39m\u001b[38;5;124m\"\u001b[39m\n\u001b[1;32m    674\u001b[0m     )\n",
      "File \u001b[0;32m~/work/pega-datascientist-tools/pega-datascientist-tools/python/docs/source/articles/../../../pdstools/adm/ADMDatamart.py:630\u001b[0m, in \u001b[0;36mADMDatamart._get_combined_data\u001b[0;34m(self, last, strategy)\u001b[0m\n\u001b[1;32m    628\u001b[0m combined \u001b[38;5;241m=\u001b[39m models\u001b[38;5;241m.\u001b[39mjoin(preds, on\u001b[38;5;241m=\u001b[39m\u001b[38;5;124m\"\u001b[39m\u001b[38;5;124mModelID\u001b[39m\u001b[38;5;124m\"\u001b[39m, how\u001b[38;5;241m=\u001b[39m\u001b[38;5;124m\"\u001b[39m\u001b[38;5;124minner\u001b[39m\u001b[38;5;124m\"\u001b[39m, suffix\u001b[38;5;241m=\u001b[39m\u001b[38;5;124m\"\u001b[39m\u001b[38;5;124mBin\u001b[39m\u001b[38;5;124m\"\u001b[39m)\n\u001b[1;32m    629\u001b[0m \u001b[38;5;28;01mif\u001b[39;00m strategy \u001b[38;5;241m==\u001b[39m \u001b[38;5;124m\"\u001b[39m\u001b[38;5;124meager\u001b[39m\u001b[38;5;124m\"\u001b[39m:\n\u001b[0;32m--> 630\u001b[0m     \u001b[38;5;28;01mreturn\u001b[39;00m \u001b[43mcombined\u001b[49m\u001b[38;5;241;43m.\u001b[39;49m\u001b[43mcollect\u001b[49m\u001b[43m(\u001b[49m\u001b[43m)\u001b[49m\u001b[38;5;241m.\u001b[39mlazy()\n\u001b[1;32m    631\u001b[0m \u001b[38;5;28;01melse\u001b[39;00m:\n\u001b[1;32m    632\u001b[0m     \u001b[38;5;28;01mreturn\u001b[39;00m combined\n",
      "File \u001b[0;32m/opt/hostedtoolcache/Python/3.11.9/x64/lib/python3.11/site-packages/polars/lazyframe/frame.py:1816\u001b[0m, in \u001b[0;36mLazyFrame.collect\u001b[0;34m(self, type_coercion, predicate_pushdown, projection_pushdown, simplify_expression, slice_pushdown, comm_subplan_elim, comm_subexpr_elim, no_optimization, streaming, background, _eager, **_kwargs)\u001b[0m\n\u001b[1;32m   1813\u001b[0m \u001b[38;5;66;03m# Only for testing purposes atm.\u001b[39;00m\n\u001b[1;32m   1814\u001b[0m callback \u001b[38;5;241m=\u001b[39m _kwargs\u001b[38;5;241m.\u001b[39mget(\u001b[38;5;124m\"\u001b[39m\u001b[38;5;124mpost_opt_callback\u001b[39m\u001b[38;5;124m\"\u001b[39m)\n\u001b[0;32m-> 1816\u001b[0m \u001b[38;5;28;01mreturn\u001b[39;00m wrap_df(\u001b[43mldf\u001b[49m\u001b[38;5;241;43m.\u001b[39;49m\u001b[43mcollect\u001b[49m\u001b[43m(\u001b[49m\u001b[43mcallback\u001b[49m\u001b[43m)\u001b[49m)\n",
      "\u001b[0;31mInvalidOperationError\u001b[0m: could not determine supertype of: [datetime[ns], dyn int]\n\n\nThis error occurred with the following context stack:\n\t[1] 'filter' failed\n\t[2] 'join left' input failed to resolve\n"
     ]
    }
   ],
   "source": [
    "from pdstools import ADMDatamart, datasets\n",
    "import polars as pl\n",
    "\n",
    "dm = datasets.CDHSample()\n",
    "\n",
    "# replace this with your own datamart data, see PDS tools documentation for examples\n",
    "# dm = ADMDatamart(\n",
    "#     model_filename=\"...\",\n",
    "#     predictor_filename=\"...\"\n",
    "# )\n",
    "\n",
    "fig = dm.plotPredictorPerformance(top_n=10)\n",
    "fig.update_layout(\n",
    "    height=400, width=800, title=\"Feature Importance\", xaxis_title=\"\", yaxis_title=\"\"\n",
    ")\n",
    "\n",
    "fig.show()"
   ]
  },
  {
   "cell_type": "markdown",
   "metadata": {},
   "source": [
    "While helpful to understand how a model works, a global perspective on the model features is not of much use to understand who accepts what. For this type of insight, we need to dive deeper into how the model partitions the customers. The Pega ADM models can provide such information."
   ]
  },
  {
   "cell_type": "markdown",
   "metadata": {},
   "source": [
    "## Predictor Binning for Individual Models\n",
    "\n",
    "The predictor binning for Baysian ADM models is available in Pega Prediction Studio and also in the downloadable, off-line model reports you can create with PDS tools. These reports are available for both the legacy R and the new Python versions of the toolkit.\n",
    "\n",
    "You can create these reports directly from the PDS tools app, or work in an IDE.\n",
    "\n",
    "In code, you can easily recreate these binning reports like this. You'll need the model ID that you can pick up from Prediction Studio or from a quick analysis with PDS tools functions."
   ]
  },
  {
   "cell_type": "code",
   "execution_count": 3,
   "metadata": {
    "execution": {
     "iopub.execute_input": "2024-05-17T12:21:52.885247Z",
     "iopub.status.busy": "2024-05-17T12:21:52.884844Z",
     "iopub.status.idle": "2024-05-17T12:21:52.898500Z",
     "shell.execute_reply": "2024-05-17T12:21:52.897959Z"
    }
   },
   "outputs": [
    {
     "ename": "NameError",
     "evalue": "name 'dm' is not defined",
     "output_type": "error",
     "traceback": [
      "\u001b[0;31m---------------------------------------------------------------------------\u001b[0m",
      "\u001b[0;31mNameError\u001b[0m                                 Traceback (most recent call last)",
      "Cell \u001b[0;32mIn[3], line 1\u001b[0m\n\u001b[0;32m----> 1\u001b[0m fig \u001b[38;5;241m=\u001b[39m \u001b[43mdm\u001b[49m\u001b[38;5;241m.\u001b[39mplotPredictorBinning(\n\u001b[1;32m      2\u001b[0m     modelids\u001b[38;5;241m=\u001b[39m[\u001b[38;5;124m\"\u001b[39m\u001b[38;5;124m08ca1302-9fc0-57bf-9031-d4179d400493\u001b[39m\u001b[38;5;124m\"\u001b[39m],\n\u001b[1;32m      3\u001b[0m     predictors\u001b[38;5;241m=\u001b[39m[\u001b[38;5;124m\"\u001b[39m\u001b[38;5;124mCustomer.AnnualIncome\u001b[39m\u001b[38;5;124m\"\u001b[39m],\n\u001b[1;32m      4\u001b[0m )\n\u001b[1;32m      5\u001b[0m fig\u001b[38;5;241m.\u001b[39mupdate_layout(height\u001b[38;5;241m=\u001b[39m\u001b[38;5;241m400\u001b[39m, width\u001b[38;5;241m=\u001b[39m\u001b[38;5;241m700\u001b[39m, xaxis_title\u001b[38;5;241m=\u001b[39m\u001b[38;5;124m\"\u001b[39m\u001b[38;5;124m\"\u001b[39m)\n\u001b[1;32m      6\u001b[0m fig\u001b[38;5;241m.\u001b[39mshow()\n",
      "\u001b[0;31mNameError\u001b[0m: name 'dm' is not defined"
     ]
    }
   ],
   "source": [
    "fig = dm.plotPredictorBinning(\n",
    "    modelids=[\"08ca1302-9fc0-57bf-9031-d4179d400493\"],\n",
    "    predictors=[\"Customer.AnnualIncome\"],\n",
    ")\n",
    "fig.update_layout(height=400, width=700, xaxis_title=\"\")\n",
    "fig.show()"
   ]
  },
  {
   "cell_type": "markdown",
   "metadata": {},
   "source": [
    "You can also view these reports in an alternative way, focussing on how each of the bins pushes the propensity above or below the average. This perspective on the \"lift\" of each bin is similar to the yellow line in the above plot but emphasizes it more.\n",
    "\n",
    "This view is available in the off-line model reports.\n",
    "\n",
    "TODO: move PM lift plot into PDS tools and show it here - currently lives in the model qmd"
   ]
  },
  {
   "cell_type": "markdown",
   "metadata": {},
   "source": [
    "## Rolling up individual binning\n",
    "\n",
    "While already giving more insight than global predictor importance, being specific to one individual ADM instance means you may have to browse through 100's of individual model reports to get a feel for how, for example, Income is related to Cards acceptance.\n",
    "\n",
    "With the \"BinAggregator\" class in PDS Tools you can now \"roll up\" these binning views across actions and even across channels. For example this could show that \"People with income > 60000 and age > 30\" are more likely to respond positively to Cards offers.\n",
    "\n",
    "The rolling up is based on the predictor binning from ADM NB models. For a numeric predictor, we first create equi-distance or log-distance bins, for example, 10 bins from 20 to 85 for \"Age\" or 10 bins in a log scale from 10k to 10m for \"income\". \n",
    "\n",
    "Then, the predictor binning of all models (in a certain group, issue perhaps) is mapped onto those target bins and the values are mapped proportional to the overlap between the model bin and the target bin. We map the *lift* values, not the *bin counts*. The bin counts are heavily dependent on channel both in absolute numbers as in the ratio between positives and negatives (success rate) so aggregating those does give meaningful results. The lift is an indication of how a certain predictor value range pushes the likelhood to accept up or down.\n",
    "\n",
    "\n"
   ]
  },
  {
   "cell_type": "markdown",
   "metadata": {},
   "source": [
    "To illustrate this, see below. We have a equi-distance target binning for Age, shown in red, from 20 to 80. From one of the models we have binning of Age that has a slightly different range (10 - 75) - shown in blue. The first bin of the target gets a weighted lift from source bins 1 and 2. The second target bin falls completely within the range of bin 2 of the source, so gets the exact same lift value. Same for the target bins 3 and 4, they are both sourced from just source bin 3. The 4th one in not fully covered however, as you see reflected in the \"BinCoverage\" column in the table."
   ]
  },
  {
   "cell_type": "code",
   "execution_count": 4,
   "metadata": {
    "execution": {
     "iopub.execute_input": "2024-05-17T12:21:52.900767Z",
     "iopub.status.busy": "2024-05-17T12:21:52.900482Z",
     "iopub.status.idle": "2024-05-17T12:21:53.536631Z",
     "shell.execute_reply": "2024-05-17T12:21:53.536071Z"
    }
   },
   "outputs": [
    {
     "ename": "InvalidOperationError",
     "evalue": "could not determine supertype of: [datetime[ns], dyn int]\n\n\nThis error occurred with the following context stack:\n\t[1] 'filter' failed\n\t[2] 'join left' input failed to resolve\n",
     "output_type": "error",
     "traceback": [
      "\u001b[0;31m---------------------------------------------------------------------------\u001b[0m",
      "\u001b[0;31mInvalidOperationError\u001b[0m                     Traceback (most recent call last)",
      "Cell \u001b[0;32mIn[4], line 4\u001b[0m\n\u001b[1;32m      1\u001b[0m \u001b[38;5;28;01mfrom\u001b[39;00m \u001b[38;5;21;01mpdstools\u001b[39;00m \u001b[38;5;28;01mimport\u001b[39;00m BinAggregator\n\u001b[1;32m      3\u001b[0m \u001b[38;5;66;03m# For PDS tools example keep dm as above but the subset argument is important\u001b[39;00m\n\u001b[0;32m----> 4\u001b[0m dm \u001b[38;5;241m=\u001b[39m \u001b[43mdatasets\u001b[49m\u001b[38;5;241;43m.\u001b[39;49m\u001b[43mCDHSample\u001b[49m\u001b[43m(\u001b[49m\u001b[43msubset\u001b[49m\u001b[38;5;241;43m=\u001b[39;49m\u001b[38;5;28;43;01mFalse\u001b[39;49;00m\u001b[43m)\u001b[49m\n\u001b[1;32m      5\u001b[0m myAggregator \u001b[38;5;241m=\u001b[39m BinAggregator(dm)\n\u001b[1;32m      7\u001b[0m target \u001b[38;5;241m=\u001b[39m myAggregator\u001b[38;5;241m.\u001b[39mcreate_empty_numbinning(\u001b[38;5;124m\"\u001b[39m\u001b[38;5;124mCustomer.Age\u001b[39m\u001b[38;5;124m\"\u001b[39m, \u001b[38;5;241m4\u001b[39m, minimum\u001b[38;5;241m=\u001b[39m\u001b[38;5;241m20\u001b[39m, maximum\u001b[38;5;241m=\u001b[39m\u001b[38;5;241m80\u001b[39m)\n",
      "File \u001b[0;32m~/work/pega-datascientist-tools/pega-datascientist-tools/python/docs/source/articles/../../../pdstools/utils/datasets.py:10\u001b[0m, in \u001b[0;36mCDHSample\u001b[0;34m(plotting_engine, query, **kwargs)\u001b[0m\n\u001b[1;32m      8\u001b[0m models \u001b[38;5;241m=\u001b[39m \u001b[38;5;124m\"\u001b[39m\u001b[38;5;124mData-Decision-ADM-ModelSnapshot_pyModelSnapshots_20210526T131808_GMT.zip\u001b[39m\u001b[38;5;124m\"\u001b[39m\n\u001b[1;32m      9\u001b[0m predictors \u001b[38;5;241m=\u001b[39m \u001b[38;5;124m\"\u001b[39m\u001b[38;5;124mData-Decision-ADM-PredictorBinningSnapshot_pyADMPredictorSnapshots_20210526T133622_GMT.zip\u001b[39m\u001b[38;5;124m\"\u001b[39m\n\u001b[0;32m---> 10\u001b[0m \u001b[38;5;28;01mreturn\u001b[39;00m \u001b[43mADMDatamart\u001b[49m\u001b[43m(\u001b[49m\n\u001b[1;32m     11\u001b[0m \u001b[43m    \u001b[49m\u001b[43mpath\u001b[49m\u001b[38;5;241;43m=\u001b[39;49m\u001b[43mpath\u001b[49m\u001b[43m,\u001b[49m\n\u001b[1;32m     12\u001b[0m \u001b[43m    \u001b[49m\u001b[43mmodel_filename\u001b[49m\u001b[38;5;241;43m=\u001b[39;49m\u001b[43mmodels\u001b[49m\u001b[43m,\u001b[49m\n\u001b[1;32m     13\u001b[0m \u001b[43m    \u001b[49m\u001b[43mpredictor_filename\u001b[49m\u001b[38;5;241;43m=\u001b[39;49m\u001b[43mpredictors\u001b[49m\u001b[43m,\u001b[49m\n\u001b[1;32m     14\u001b[0m \u001b[43m    \u001b[49m\u001b[43mplotting_engine\u001b[49m\u001b[38;5;241;43m=\u001b[39;49m\u001b[43mplotting_engine\u001b[49m\u001b[43m,\u001b[49m\n\u001b[1;32m     15\u001b[0m \u001b[43m    \u001b[49m\u001b[43mquery\u001b[49m\u001b[38;5;241;43m=\u001b[39;49m\u001b[43mquery\u001b[49m\u001b[43m,\u001b[49m\n\u001b[1;32m     16\u001b[0m \u001b[43m    \u001b[49m\u001b[38;5;241;43m*\u001b[39;49m\u001b[38;5;241;43m*\u001b[39;49m\u001b[43mkwargs\u001b[49m\u001b[43m,\u001b[49m\n\u001b[1;32m     17\u001b[0m \u001b[43m\u001b[49m\u001b[43m)\u001b[49m\n",
      "File \u001b[0;32m~/work/pega-datascientist-tools/pega-datascientist-tools/python/docs/source/articles/../../../pdstools/adm/ADMDatamart.py:179\u001b[0m, in \u001b[0;36mADMDatamart.__init__\u001b[0;34m(self, path, import_strategy, model_filename, predictor_filename, model_df, predictor_df, query, subset, drop_cols, include_cols, context_keys, extract_keys, predictorCategorization, plotting_engine, verbose, **reading_opts)\u001b[0m\n\u001b[1;32m    176\u001b[0m \u001b[38;5;28mself\u001b[39m\u001b[38;5;241m.\u001b[39mplotting_engine \u001b[38;5;241m=\u001b[39m plotting_engine\n\u001b[1;32m    177\u001b[0m \u001b[38;5;28msuper\u001b[39m()\u001b[38;5;241m.\u001b[39m\u001b[38;5;21m__init__\u001b[39m()\n\u001b[0;32m--> 179\u001b[0m \u001b[38;5;28;43mself\u001b[39;49m\u001b[38;5;241;43m.\u001b[39;49m\u001b[43mprocessTables\u001b[49m\u001b[43m(\u001b[49m\u001b[38;5;28;43mself\u001b[39;49m\u001b[38;5;241;43m.\u001b[39;49m\u001b[43mquery\u001b[49m\u001b[43m)\u001b[49m\n",
      "File \u001b[0;32m~/work/pega-datascientist-tools/pega-datascientist-tools/python/docs/source/articles/../../../pdstools/adm/ADMDatamart.py:670\u001b[0m, in \u001b[0;36mADMDatamart.processTables\u001b[0;34m(self, query)\u001b[0m\n\u001b[1;32m    667\u001b[0m         \u001b[38;5;28mself\u001b[39m\u001b[38;5;241m.\u001b[39mpredictorData \u001b[38;5;241m=\u001b[39m \u001b[38;5;28mself\u001b[39m\u001b[38;5;241m.\u001b[39mpredictorData\u001b[38;5;241m.\u001b[39mcollect()\u001b[38;5;241m.\u001b[39mlazy()\n\u001b[1;32m    669\u001b[0m \u001b[38;5;28;01mif\u001b[39;00m \u001b[38;5;28mself\u001b[39m\u001b[38;5;241m.\u001b[39mpredictorData \u001b[38;5;129;01mis\u001b[39;00m \u001b[38;5;129;01mnot\u001b[39;00m \u001b[38;5;28;01mNone\u001b[39;00m \u001b[38;5;129;01mand\u001b[39;00m \u001b[38;5;28mself\u001b[39m\u001b[38;5;241m.\u001b[39mmodelData \u001b[38;5;129;01mis\u001b[39;00m \u001b[38;5;129;01mnot\u001b[39;00m \u001b[38;5;28;01mNone\u001b[39;00m:\n\u001b[0;32m--> 670\u001b[0m     \u001b[38;5;28mself\u001b[39m\u001b[38;5;241m.\u001b[39mcombinedData \u001b[38;5;241m=\u001b[39m \u001b[38;5;28;43mself\u001b[39;49m\u001b[38;5;241;43m.\u001b[39;49m\u001b[43m_get_combined_data\u001b[49m\u001b[43m(\u001b[49m\u001b[43mstrategy\u001b[49m\u001b[38;5;241;43m=\u001b[39;49m\u001b[38;5;28;43mself\u001b[39;49m\u001b[38;5;241;43m.\u001b[39;49m\u001b[43mimport_strategy\u001b[49m\u001b[43m)\u001b[49m\n\u001b[1;32m    671\u001b[0m \u001b[38;5;28;01melif\u001b[39;00m \u001b[38;5;28mself\u001b[39m\u001b[38;5;241m.\u001b[39mverbose:\n\u001b[1;32m    672\u001b[0m     \u001b[38;5;28mprint\u001b[39m(\n\u001b[1;32m    673\u001b[0m         \u001b[38;5;124m\"\u001b[39m\u001b[38;5;124mCould not be combined. Do you have both model data and predictor data?\u001b[39m\u001b[38;5;124m\"\u001b[39m\n\u001b[1;32m    674\u001b[0m     )\n",
      "File \u001b[0;32m~/work/pega-datascientist-tools/pega-datascientist-tools/python/docs/source/articles/../../../pdstools/adm/ADMDatamart.py:630\u001b[0m, in \u001b[0;36mADMDatamart._get_combined_data\u001b[0;34m(self, last, strategy)\u001b[0m\n\u001b[1;32m    628\u001b[0m combined \u001b[38;5;241m=\u001b[39m models\u001b[38;5;241m.\u001b[39mjoin(preds, on\u001b[38;5;241m=\u001b[39m\u001b[38;5;124m\"\u001b[39m\u001b[38;5;124mModelID\u001b[39m\u001b[38;5;124m\"\u001b[39m, how\u001b[38;5;241m=\u001b[39m\u001b[38;5;124m\"\u001b[39m\u001b[38;5;124minner\u001b[39m\u001b[38;5;124m\"\u001b[39m, suffix\u001b[38;5;241m=\u001b[39m\u001b[38;5;124m\"\u001b[39m\u001b[38;5;124mBin\u001b[39m\u001b[38;5;124m\"\u001b[39m)\n\u001b[1;32m    629\u001b[0m \u001b[38;5;28;01mif\u001b[39;00m strategy \u001b[38;5;241m==\u001b[39m \u001b[38;5;124m\"\u001b[39m\u001b[38;5;124meager\u001b[39m\u001b[38;5;124m\"\u001b[39m:\n\u001b[0;32m--> 630\u001b[0m     \u001b[38;5;28;01mreturn\u001b[39;00m \u001b[43mcombined\u001b[49m\u001b[38;5;241;43m.\u001b[39;49m\u001b[43mcollect\u001b[49m\u001b[43m(\u001b[49m\u001b[43m)\u001b[49m\u001b[38;5;241m.\u001b[39mlazy()\n\u001b[1;32m    631\u001b[0m \u001b[38;5;28;01melse\u001b[39;00m:\n\u001b[1;32m    632\u001b[0m     \u001b[38;5;28;01mreturn\u001b[39;00m combined\n",
      "File \u001b[0;32m/opt/hostedtoolcache/Python/3.11.9/x64/lib/python3.11/site-packages/polars/lazyframe/frame.py:1816\u001b[0m, in \u001b[0;36mLazyFrame.collect\u001b[0;34m(self, type_coercion, predicate_pushdown, projection_pushdown, simplify_expression, slice_pushdown, comm_subplan_elim, comm_subexpr_elim, no_optimization, streaming, background, _eager, **_kwargs)\u001b[0m\n\u001b[1;32m   1813\u001b[0m \u001b[38;5;66;03m# Only for testing purposes atm.\u001b[39;00m\n\u001b[1;32m   1814\u001b[0m callback \u001b[38;5;241m=\u001b[39m _kwargs\u001b[38;5;241m.\u001b[39mget(\u001b[38;5;124m\"\u001b[39m\u001b[38;5;124mpost_opt_callback\u001b[39m\u001b[38;5;124m\"\u001b[39m)\n\u001b[0;32m-> 1816\u001b[0m \u001b[38;5;28;01mreturn\u001b[39;00m wrap_df(\u001b[43mldf\u001b[49m\u001b[38;5;241;43m.\u001b[39;49m\u001b[43mcollect\u001b[49m\u001b[43m(\u001b[49m\u001b[43mcallback\u001b[49m\u001b[43m)\u001b[49m)\n",
      "\u001b[0;31mInvalidOperationError\u001b[0m: could not determine supertype of: [datetime[ns], dyn int]\n\n\nThis error occurred with the following context stack:\n\t[1] 'filter' failed\n\t[2] 'join left' input failed to resolve\n"
     ]
    }
   ],
   "source": [
    "from pdstools import BinAggregator\n",
    "\n",
    "# For PDS tools example keep dm as above but the subset argument is important\n",
    "dm = datasets.CDHSample(subset=False)\n",
    "myAggregator = BinAggregator(dm)\n",
    "\n",
    "target = myAggregator.create_empty_numbinning(\"Customer.Age\", 4, minimum=20, maximum=80)\n",
    "source = pl.DataFrame(\n",
    "    {\n",
    "        \"ModelID\": [1] * 3,\n",
    "        \"PredictorName\": [\"Customer.Age\"] * 3,\n",
    "        \"BinIndex\": [1, 2, 3],\n",
    "        \"BinLowerBound\": [10.0, 25.0, 50.0],\n",
    "        \"BinUpperBound\": [25.0, 50.0, 75.0],\n",
    "        # \"BinSymbol\" : [\"20-25\", \"25-50\", \"50-75\"],\n",
    "        \"Lift\": [0.4, -0.1, 2.0],\n",
    "        \"BinResponses\": [100, 1000, 400],\n",
    "    }\n",
    ")\n",
    "myAggregator.plot_binning_attribution(source, target).update_layout(width=700)"
   ]
  },
  {
   "cell_type": "markdown",
   "metadata": {},
   "source": [
    "The result of mapping the source binning onto this target is shown below. \n",
    "The resulting **Lift** is the average lift of the overlapping segments, weighted by overlap. It is not weighed by response count like we usually do for model performance etc, as this would skew the numbers heavily towards the positive bins (as generally the actions will be selected where the bins are scoring higher). The **BinResponses** is an indication of the number of responses (postive plus negative) for the bin (but is not used, only provided for additional insights). **BinCoverage** is the sum of the coverage by all the models for this new bin. It cannot be higher than the number of models (**Models**) - some models are empty and not taken into account at all, or they have a value range smaller than the combined binning."
   ]
  },
  {
   "cell_type": "code",
   "execution_count": 5,
   "metadata": {
    "execution": {
     "iopub.execute_input": "2024-05-17T12:21:53.539059Z",
     "iopub.status.busy": "2024-05-17T12:21:53.538644Z",
     "iopub.status.idle": "2024-05-17T12:21:53.551156Z",
     "shell.execute_reply": "2024-05-17T12:21:53.550618Z"
    }
   },
   "outputs": [
    {
     "ename": "NameError",
     "evalue": "name 'myAggregator' is not defined",
     "output_type": "error",
     "traceback": [
      "\u001b[0;31m---------------------------------------------------------------------------\u001b[0m",
      "\u001b[0;31mNameError\u001b[0m                                 Traceback (most recent call last)",
      "Cell \u001b[0;32mIn[5], line 1\u001b[0m\n\u001b[0;32m----> 1\u001b[0m \u001b[43mmyAggregator\u001b[49m\u001b[38;5;241m.\u001b[39mcombine_two_numbinnings(source, target)\n",
      "\u001b[0;31mNameError\u001b[0m: name 'myAggregator' is not defined"
     ]
    }
   ],
   "source": [
    "myAggregator.combine_two_numbinnings(source, target)"
   ]
  },
  {
   "cell_type": "markdown",
   "metadata": {},
   "source": [
    "So you can roll up Age over all of the models in this sample data set and visualize how age affects propensity across all models:"
   ]
  },
  {
   "cell_type": "code",
   "execution_count": 6,
   "metadata": {
    "execution": {
     "iopub.execute_input": "2024-05-17T12:21:53.553375Z",
     "iopub.status.busy": "2024-05-17T12:21:53.553034Z",
     "iopub.status.idle": "2024-05-17T12:21:53.565160Z",
     "shell.execute_reply": "2024-05-17T12:21:53.564679Z"
    }
   },
   "outputs": [
    {
     "ename": "NameError",
     "evalue": "name 'myAggregator' is not defined",
     "output_type": "error",
     "traceback": [
      "\u001b[0;31m---------------------------------------------------------------------------\u001b[0m",
      "\u001b[0;31mNameError\u001b[0m                                 Traceback (most recent call last)",
      "Cell \u001b[0;32mIn[6], line 1\u001b[0m\n\u001b[0;32m----> 1\u001b[0m fig \u001b[38;5;241m=\u001b[39m \u001b[43mmyAggregator\u001b[49m\u001b[38;5;241m.\u001b[39mroll_up(\u001b[38;5;124m\"\u001b[39m\u001b[38;5;124mCustomer.Age\u001b[39m\u001b[38;5;124m\"\u001b[39m)\n\u001b[1;32m      2\u001b[0m fig\u001b[38;5;241m.\u001b[39mupdate_layout(height\u001b[38;5;241m=\u001b[39m\u001b[38;5;241m300\u001b[39m, width\u001b[38;5;241m=\u001b[39m\u001b[38;5;241m600\u001b[39m)\n\u001b[1;32m      3\u001b[0m fig\u001b[38;5;241m.\u001b[39mshow()\n",
      "\u001b[0;31mNameError\u001b[0m: name 'myAggregator' is not defined"
     ]
    }
   ],
   "source": [
    "fig = myAggregator.roll_up(\"Customer.Age\")\n",
    "fig.update_layout(height=300, width=600)\n",
    "fig.show()"
   ]
  },
  {
   "cell_type": "markdown",
   "metadata": {},
   "source": [
    "The above is a view across *all* models in *all* channels and may not be that meaningful. It roughly says that both young and elderly people are more likely to respond than middle-agers. That in itself may not be that insightful.\n",
    "\n",
    "It generally is much more useful to compare this distribution across different issues, groups or other dimensions of interest. For example, showing how Age has a different relation with different groups of actions can be done with the following:"
   ]
  },
  {
   "cell_type": "code",
   "execution_count": 7,
   "metadata": {
    "execution": {
     "iopub.execute_input": "2024-05-17T12:21:53.567196Z",
     "iopub.status.busy": "2024-05-17T12:21:53.566862Z",
     "iopub.status.idle": "2024-05-17T12:21:53.579725Z",
     "shell.execute_reply": "2024-05-17T12:21:53.579265Z"
    }
   },
   "outputs": [
    {
     "ename": "NameError",
     "evalue": "name 'myAggregator' is not defined",
     "output_type": "error",
     "traceback": [
      "\u001b[0;31m---------------------------------------------------------------------------\u001b[0m",
      "\u001b[0;31mNameError\u001b[0m                                 Traceback (most recent call last)",
      "Cell \u001b[0;32mIn[7], line 1\u001b[0m\n\u001b[0;32m----> 1\u001b[0m fig \u001b[38;5;241m=\u001b[39m \u001b[43mmyAggregator\u001b[49m\u001b[38;5;241m.\u001b[39mroll_up(\n\u001b[1;32m      2\u001b[0m     \u001b[38;5;124m\"\u001b[39m\u001b[38;5;124mCustomer.Age\u001b[39m\u001b[38;5;124m\"\u001b[39m, minimum\u001b[38;5;241m=\u001b[39m\u001b[38;5;241m20\u001b[39m, maximum\u001b[38;5;241m=\u001b[39m\u001b[38;5;241m80\u001b[39m, n\u001b[38;5;241m=\u001b[39m\u001b[38;5;241m5\u001b[39m, aggregation\u001b[38;5;241m=\u001b[39m\u001b[38;5;124m\"\u001b[39m\u001b[38;5;124mGroup\u001b[39m\u001b[38;5;124m\"\u001b[39m\n\u001b[1;32m      3\u001b[0m )\n\u001b[1;32m      4\u001b[0m fig\u001b[38;5;241m.\u001b[39mupdate_layout(height\u001b[38;5;241m=\u001b[39m\u001b[38;5;241m500\u001b[39m)\n\u001b[1;32m      5\u001b[0m fig\u001b[38;5;241m.\u001b[39mshow()\n",
      "\u001b[0;31mNameError\u001b[0m: name 'myAggregator' is not defined"
     ]
    }
   ],
   "source": [
    "fig = myAggregator.roll_up(\n",
    "    \"Customer.Age\", minimum=20, maximum=80, n=5, aggregation=\"Group\"\n",
    ")\n",
    "fig.update_layout(height=500)\n",
    "fig.show()"
   ]
  },
  {
   "cell_type": "markdown",
   "metadata": {},
   "source": [
    "If you're interested in the underlying data rather than just the plot, use the 'return_df' argument - like in many of the PDS Tools plot functions."
   ]
  },
  {
   "cell_type": "code",
   "execution_count": 8,
   "metadata": {
    "execution": {
     "iopub.execute_input": "2024-05-17T12:21:53.581826Z",
     "iopub.status.busy": "2024-05-17T12:21:53.581439Z",
     "iopub.status.idle": "2024-05-17T12:21:53.593549Z",
     "shell.execute_reply": "2024-05-17T12:21:53.593008Z"
    }
   },
   "outputs": [
    {
     "ename": "NameError",
     "evalue": "name 'myAggregator' is not defined",
     "output_type": "error",
     "traceback": [
      "\u001b[0;31m---------------------------------------------------------------------------\u001b[0m",
      "\u001b[0;31mNameError\u001b[0m                                 Traceback (most recent call last)",
      "Cell \u001b[0;32mIn[8], line 1\u001b[0m\n\u001b[0;32m----> 1\u001b[0m \u001b[43mmyAggregator\u001b[49m\u001b[38;5;241m.\u001b[39mroll_up(\n\u001b[1;32m      2\u001b[0m     \u001b[38;5;124m\"\u001b[39m\u001b[38;5;124mCustomer.Age\u001b[39m\u001b[38;5;124m\"\u001b[39m, minimum\u001b[38;5;241m=\u001b[39m\u001b[38;5;241m20\u001b[39m, maximum\u001b[38;5;241m=\u001b[39m\u001b[38;5;241m80\u001b[39m, n\u001b[38;5;241m=\u001b[39m\u001b[38;5;241m5\u001b[39m, aggregation\u001b[38;5;241m=\u001b[39m\u001b[38;5;124m\"\u001b[39m\u001b[38;5;124mGroup\u001b[39m\u001b[38;5;124m\"\u001b[39m, return_df\u001b[38;5;241m=\u001b[39m\u001b[38;5;28;01mTrue\u001b[39;00m\n\u001b[1;32m      3\u001b[0m )\u001b[38;5;241m.\u001b[39mto_pandas()\u001b[38;5;241m.\u001b[39mstyle\u001b[38;5;241m.\u001b[39mhide()\n",
      "\u001b[0;31mNameError\u001b[0m: name 'myAggregator' is not defined"
     ]
    }
   ],
   "source": [
    "myAggregator.roll_up(\n",
    "    \"Customer.Age\", minimum=20, maximum=80, n=5, aggregation=\"Group\", return_df=True\n",
    ").to_pandas().style.hide()"
   ]
  },
  {
   "cell_type": "markdown",
   "metadata": {},
   "source": [
    "The boundaries of the bin intervals are by default created automatically, but can be given explicitly. Income, wealth etc are typically distributed very unevenly (with a long right tail) so you can tell the system to use a logarithmic scale, which means the boundaries are a multiple of eachother, unlike the even spacing you can when not specifying the distribution (or using \"lin\"). Below we split by Channel and define a few explicit income boundaries:"
   ]
  },
  {
   "cell_type": "code",
   "execution_count": 9,
   "metadata": {
    "execution": {
     "iopub.execute_input": "2024-05-17T12:21:53.595730Z",
     "iopub.status.busy": "2024-05-17T12:21:53.595423Z",
     "iopub.status.idle": "2024-05-17T12:21:53.607603Z",
     "shell.execute_reply": "2024-05-17T12:21:53.607107Z"
    }
   },
   "outputs": [
    {
     "ename": "NameError",
     "evalue": "name 'myAggregator' is not defined",
     "output_type": "error",
     "traceback": [
      "\u001b[0;31m---------------------------------------------------------------------------\u001b[0m",
      "\u001b[0;31mNameError\u001b[0m                                 Traceback (most recent call last)",
      "Cell \u001b[0;32mIn[9], line 1\u001b[0m\n\u001b[0;32m----> 1\u001b[0m fig \u001b[38;5;241m=\u001b[39m \u001b[43mmyAggregator\u001b[49m\u001b[38;5;241m.\u001b[39mroll_up(\n\u001b[1;32m      2\u001b[0m     \u001b[38;5;124m\"\u001b[39m\u001b[38;5;124mCustomer.AnnualIncome\u001b[39m\u001b[38;5;124m\"\u001b[39m,\n\u001b[1;32m      3\u001b[0m     boundaries\u001b[38;5;241m=\u001b[39m[\u001b[38;5;241m10000\u001b[39m, \u001b[38;5;241m20000\u001b[39m, \u001b[38;5;241m30000\u001b[39m],\n\u001b[1;32m      4\u001b[0m     n\u001b[38;5;241m=\u001b[39m\u001b[38;5;241m8\u001b[39m,\n\u001b[1;32m      5\u001b[0m     distribution\u001b[38;5;241m=\u001b[39m\u001b[38;5;124m\"\u001b[39m\u001b[38;5;124mlog\u001b[39m\u001b[38;5;124m\"\u001b[39m,\n\u001b[1;32m      6\u001b[0m     aggregation\u001b[38;5;241m=\u001b[39m\u001b[38;5;124m\"\u001b[39m\u001b[38;5;124mChannel\u001b[39m\u001b[38;5;124m\"\u001b[39m,\n\u001b[1;32m      7\u001b[0m )\n\u001b[1;32m      8\u001b[0m fig\u001b[38;5;241m.\u001b[39mupdate_layout(height\u001b[38;5;241m=\u001b[39m\u001b[38;5;241m300\u001b[39m)\n\u001b[1;32m      9\u001b[0m fig\u001b[38;5;241m.\u001b[39mshow()\n",
      "\u001b[0;31mNameError\u001b[0m: name 'myAggregator' is not defined"
     ]
    }
   ],
   "source": [
    "fig = myAggregator.roll_up(\n",
    "    \"Customer.AnnualIncome\",\n",
    "    boundaries=[10000, 20000, 30000],\n",
    "    n=8,\n",
    "    distribution=\"log\",\n",
    "    aggregation=\"Channel\",\n",
    ")\n",
    "fig.update_layout(height=300)\n",
    "fig.show()"
   ]
  },
  {
   "cell_type": "markdown",
   "metadata": {},
   "source": [
    "## Symbolic Predictors"
   ]
  },
  {
   "cell_type": "markdown",
   "metadata": {},
   "source": [
    "For symbolic ('categorical') predictors the process is conceptually simpler. We first extract the symbols from the bin labels, then aggregate the lift for the symbols up. For both types, the aggregated lift is weighted proportional to the responses of the models.\n",
    "\n",
    "While the way symbolic predictors are aggregated is very different, the process to roll them up is similar to that of numeric predictors. You can pass in some explicit symbols to consider, set the maximum and aggregate over some dimension like Issue or Group exactly as you can for numeric predictors."
   ]
  },
  {
   "cell_type": "code",
   "execution_count": 10,
   "metadata": {
    "execution": {
     "iopub.execute_input": "2024-05-17T12:21:53.609691Z",
     "iopub.status.busy": "2024-05-17T12:21:53.609380Z",
     "iopub.status.idle": "2024-05-17T12:21:53.621178Z",
     "shell.execute_reply": "2024-05-17T12:21:53.620635Z"
    }
   },
   "outputs": [
    {
     "ename": "NameError",
     "evalue": "name 'myAggregator' is not defined",
     "output_type": "error",
     "traceback": [
      "\u001b[0;31m---------------------------------------------------------------------------\u001b[0m",
      "\u001b[0;31mNameError\u001b[0m                                 Traceback (most recent call last)",
      "Cell \u001b[0;32mIn[10], line 1\u001b[0m\n\u001b[0;32m----> 1\u001b[0m fig \u001b[38;5;241m=\u001b[39m \u001b[43mmyAggregator\u001b[49m\u001b[38;5;241m.\u001b[39mroll_up(\u001b[38;5;124m\"\u001b[39m\u001b[38;5;124mCustomer.MaritalStatus\u001b[39m\u001b[38;5;124m\"\u001b[39m)\n\u001b[1;32m      2\u001b[0m fig\u001b[38;5;241m.\u001b[39mupdate_layout(height\u001b[38;5;241m=\u001b[39m\u001b[38;5;241m300\u001b[39m, width\u001b[38;5;241m=\u001b[39m\u001b[38;5;241m600\u001b[39m)\n\u001b[1;32m      3\u001b[0m fig\u001b[38;5;241m.\u001b[39mshow()\n",
      "\u001b[0;31mNameError\u001b[0m: name 'myAggregator' is not defined"
     ]
    }
   ],
   "source": [
    "fig = myAggregator.roll_up(\"Customer.MaritalStatus\")\n",
    "fig.update_layout(height=300, width=600)\n",
    "fig.show()"
   ]
  },
  {
   "cell_type": "markdown",
   "metadata": {},
   "source": [
    "## Multiple predictors at once\n",
    "\n",
    "If you want to look at the aggregated lift of the top-5 predictors you can also do that. Instead of one predictor name, you can pass a list. You can even do this in combination with splitting on e.g. Group or Issue although this may be a little overwhelming.\n",
    "\n",
    "Remember that you can always subset to a subset of the models when creating the **BinAggregator**."
   ]
  },
  {
   "cell_type": "code",
   "execution_count": 11,
   "metadata": {
    "execution": {
     "iopub.execute_input": "2024-05-17T12:21:53.623209Z",
     "iopub.status.busy": "2024-05-17T12:21:53.622905Z",
     "iopub.status.idle": "2024-05-17T12:21:53.636699Z",
     "shell.execute_reply": "2024-05-17T12:21:53.636141Z"
    }
   },
   "outputs": [
    {
     "ename": "NameError",
     "evalue": "name 'dm' is not defined",
     "output_type": "error",
     "traceback": [
      "\u001b[0;31m---------------------------------------------------------------------------\u001b[0m",
      "\u001b[0;31mNameError\u001b[0m                                 Traceback (most recent call last)",
      "Cell \u001b[0;32mIn[11], line 1\u001b[0m\n\u001b[0;32m----> 1\u001b[0m top_predictors \u001b[38;5;241m=\u001b[39m \u001b[43mdm\u001b[49m\u001b[38;5;241m.\u001b[39mplotPredictorPerformance(\n\u001b[1;32m      2\u001b[0m     top_n\u001b[38;5;241m=\u001b[39m\u001b[38;5;241m10\u001b[39m,\n\u001b[1;32m      3\u001b[0m     query\u001b[38;5;241m=\u001b[39mpl\u001b[38;5;241m.\u001b[39mcol(\u001b[38;5;124m\"\u001b[39m\u001b[38;5;124mPredictorCategory\u001b[39m\u001b[38;5;124m\"\u001b[39m)\n\u001b[1;32m      4\u001b[0m     \u001b[38;5;241m==\u001b[39m \u001b[38;5;124m\"\u001b[39m\u001b[38;5;124mCustomer\u001b[39m\u001b[38;5;124m\"\u001b[39m,  \u001b[38;5;66;03m# skip the \"IH\" predictors, taking only the ones prefixed with \"Customer.\"\u001b[39;00m\n\u001b[1;32m      5\u001b[0m     return_df\u001b[38;5;241m=\u001b[39m\u001b[38;5;28;01mTrue\u001b[39;00m,  \u001b[38;5;66;03m# with \"return_df\" True this returns a tuple, the second element [1] gives the top n predictors\u001b[39;00m\n\u001b[1;32m      6\u001b[0m )[\u001b[38;5;241m1\u001b[39m]\n\u001b[1;32m      8\u001b[0m fig \u001b[38;5;241m=\u001b[39m myAggregator\u001b[38;5;241m.\u001b[39mroll_up(top_predictors[\u001b[38;5;241m0\u001b[39m:\u001b[38;5;241m4\u001b[39m], n\u001b[38;5;241m=\u001b[39m\u001b[38;5;241m6\u001b[39m, aggregation\u001b[38;5;241m=\u001b[39m\u001b[38;5;124m\"\u001b[39m\u001b[38;5;124mGroup\u001b[39m\u001b[38;5;124m\"\u001b[39m)\n\u001b[1;32m      9\u001b[0m fig\u001b[38;5;241m.\u001b[39mupdate_layout(height\u001b[38;5;241m=\u001b[39m\u001b[38;5;241m600\u001b[39m)\n",
      "\u001b[0;31mNameError\u001b[0m: name 'dm' is not defined"
     ]
    }
   ],
   "source": [
    "top_predictors = dm.plotPredictorPerformance(\n",
    "    top_n=10,\n",
    "    query=pl.col(\"PredictorCategory\")\n",
    "    == \"Customer\",  # skip the \"IH\" predictors, taking only the ones prefixed with \"Customer.\"\n",
    "    return_df=True,  # with \"return_df\" True this returns a tuple, the second element [1] gives the top n predictors\n",
    ")[1]\n",
    "\n",
    "fig = myAggregator.roll_up(top_predictors[0:4], n=6, aggregation=\"Group\")\n",
    "fig.update_layout(height=600)\n",
    "fig.for_each_annotation(\n",
    "    lambda a: a.update(text=a.text.split(\".\")[-1])\n",
    ")  # trick to show just the part of the predictor names after the dot\n",
    "\n",
    "fig.show()"
   ]
  },
  {
   "cell_type": "markdown",
   "metadata": {},
   "source": [
    "## Subsetting the data\n",
    "\n",
    "The examples above all work with all the data passed in from the datamart - all the models, across all the channels etc. If you want to analyse just part of the models,perhaps certain issues, certain channels, or exclude some, there are various ways to do so.\n",
    "\n",
    "You can subset the data when creating the ADM datamart (see the query argument there), or do that when constructing the \"BinAggregator\", which also has a query argument.\n",
    "\n",
    "The query argument, like in most of PDS Tools, is a Polars expression. See Polars documentation for the full details. Note the Polars glibberish necessary below to work with the \"categorical\" Group column when we want to do the analysis only on the \"Loan\" groups."
   ]
  },
  {
   "cell_type": "code",
   "execution_count": 12,
   "metadata": {
    "execution": {
     "iopub.execute_input": "2024-05-17T12:21:53.639015Z",
     "iopub.status.busy": "2024-05-17T12:21:53.638578Z",
     "iopub.status.idle": "2024-05-17T12:21:53.651457Z",
     "shell.execute_reply": "2024-05-17T12:21:53.650937Z"
    }
   },
   "outputs": [
    {
     "ename": "NameError",
     "evalue": "name 'dm' is not defined",
     "output_type": "error",
     "traceback": [
      "\u001b[0;31m---------------------------------------------------------------------------\u001b[0m",
      "\u001b[0;31mNameError\u001b[0m                                 Traceback (most recent call last)",
      "Cell \u001b[0;32mIn[12], line 2\u001b[0m\n\u001b[1;32m      1\u001b[0m binAggregator \u001b[38;5;241m=\u001b[39m BinAggregator(\n\u001b[0;32m----> 2\u001b[0m     \u001b[43mdm\u001b[49m, query\u001b[38;5;241m=\u001b[39mpl\u001b[38;5;241m.\u001b[39mcol(\u001b[38;5;124m\"\u001b[39m\u001b[38;5;124mGroup\u001b[39m\u001b[38;5;124m\"\u001b[39m)\u001b[38;5;241m.\u001b[39mcast(pl\u001b[38;5;241m.\u001b[39mUtf8)\u001b[38;5;241m.\u001b[39mstr\u001b[38;5;241m.\u001b[39mcontains(\u001b[38;5;124m\"\u001b[39m\u001b[38;5;124mLoan\u001b[39m\u001b[38;5;124m\"\u001b[39m)\n\u001b[1;32m      3\u001b[0m )\n\u001b[1;32m      4\u001b[0m fig \u001b[38;5;241m=\u001b[39m binAggregator\u001b[38;5;241m.\u001b[39mroll_up(\n\u001b[1;32m      5\u001b[0m     [\u001b[38;5;124m\"\u001b[39m\u001b[38;5;124mCustomer.Prefix\u001b[39m\u001b[38;5;124m\"\u001b[39m, \u001b[38;5;124m\"\u001b[39m\u001b[38;5;124mCustomer.Age\u001b[39m\u001b[38;5;124m\"\u001b[39m], n\u001b[38;5;241m=\u001b[39m\u001b[38;5;241m6\u001b[39m, aggregation\u001b[38;5;241m=\u001b[39m\u001b[38;5;124m\"\u001b[39m\u001b[38;5;124mGroup\u001b[39m\u001b[38;5;124m\"\u001b[39m\n\u001b[1;32m      6\u001b[0m )\n\u001b[1;32m      7\u001b[0m fig\u001b[38;5;241m.\u001b[39mshow()\n",
      "\u001b[0;31mNameError\u001b[0m: name 'dm' is not defined"
     ]
    }
   ],
   "source": [
    "binAggregator = BinAggregator(\n",
    "    dm, query=pl.col(\"Group\").cast(pl.Utf8).str.contains(\"Loan\")\n",
    ")\n",
    "fig = binAggregator.roll_up(\n",
    "    [\"Customer.Prefix\", \"Customer.Age\"], n=6, aggregation=\"Group\"\n",
    ")\n",
    "fig.show()"
   ]
  }
 ],
 "metadata": {
  "kernelspec": {
   "display_name": "env-p11",
   "language": "python",
   "name": "python3"
  },
  "language_info": {
   "codemirror_mode": {
    "name": "ipython",
    "version": 3
   },
   "file_extension": ".py",
   "mimetype": "text/x-python",
   "name": "python",
   "nbconvert_exporter": "python",
   "pygments_lexer": "ipython3",
   "version": "3.11.9"
  }
 },
 "nbformat": 4,
 "nbformat_minor": 2
}
