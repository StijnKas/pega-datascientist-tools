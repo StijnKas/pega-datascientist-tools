{
 "cells": [
  {
   "attachments": {},
   "cell_type": "markdown",
   "metadata": {},
   "source": [
    "# Example data anonymization\n",
    "\n",
    "In Pega CDH 8.5 and up, it's now possible to record the historical data as seen by the Adaptive Models. See [this academy challenge](https://academy.pega.com/challenge/exporting-historical-data/v4) for reference. This historical data can be further used to experiment with offline models, but also to fine-tune the OOTB Gradient Boosting model. However, sharing this information with Pega can be sensitive as it contains raw predictor data. \n",
    "\n",
    "To this end, we provide a simple and transparent script to fully anonimize this dataset.\n",
    "\n",
    "The DataAnonymization script is now part of pdstools, and you can import it directly as such."
   ]
  },
  {
   "cell_type": "code",
   "execution_count": 1,
   "metadata": {
    "execution": {
     "iopub.execute_input": "2023-08-11T16:21:39.099621Z",
     "iopub.status.busy": "2023-08-11T16:21:39.099384Z",
     "iopub.status.idle": "2023-08-11T16:21:39.108869Z",
     "shell.execute_reply": "2023-08-11T16:21:39.107869Z"
    },
    "nbsphinx": "hidden"
   },
   "outputs": [],
   "source": [
    "# These lines are only for rendering in the docs, and are hidden through Jupyter tags\n",
    "# Do not run if you're running the notebook seperately\n",
    "\n",
    "import sys\n",
    "sys.path.append('../../../')"
   ]
  },
  {
   "cell_type": "code",
   "execution_count": 2,
   "metadata": {
    "execution": {
     "iopub.execute_input": "2023-08-11T16:21:39.112052Z",
     "iopub.status.busy": "2023-08-11T16:21:39.111828Z",
     "iopub.status.idle": "2023-08-11T16:21:40.546759Z",
     "shell.execute_reply": "2023-08-11T16:21:40.545813Z"
    }
   },
   "outputs": [],
   "source": [
    "from pdstools import ADMDatamart\n",
    "from pdstools import Config, DataAnonymization\n",
    "import polars as pl"
   ]
  },
  {
   "attachments": {},
   "cell_type": "markdown",
   "metadata": {},
   "source": [
    "## Input data\n",
    "\n",
    "To demonstrate this process, we're going to anonymise this toy example dataframe:"
   ]
  },
  {
   "cell_type": "code",
   "execution_count": 3,
   "metadata": {
    "execution": {
     "iopub.execute_input": "2023-08-11T16:21:40.550782Z",
     "iopub.status.busy": "2023-08-11T16:21:40.550283Z",
     "iopub.status.idle": "2023-08-11T16:21:40.563975Z",
     "shell.execute_reply": "2023-08-11T16:21:40.563176Z"
    }
   },
   "outputs": [
    {
     "data": {
      "text/html": [
       "<div><style>\n",
       ".dataframe > thead > tr > th,\n",
       ".dataframe > tbody > tr > td {\n",
       "  text-align: right;\n",
       "}\n",
       "</style>\n",
       "<small>shape: (7, 6)</small><table border=\"1\" class=\"dataframe\"><thead><tr><th>Context_Name</th><th>Customer_MaritalStatus</th><th>Customer_CLV</th><th>Customer_City</th><th>IH_Web_Inbound_Accepted_pxLastGroupID</th><th>Decision_Outcome</th></tr><tr><td>str</td><td>str</td><td>i64</td><td>str</td><td>str</td><td>str</td></tr></thead><tbody><tr><td>&quot;FirstMortgage3…</td><td>&quot;Married&quot;</td><td>1460</td><td>&quot;Port Raoul&quot;</td><td>&quot;Account&quot;</td><td>&quot;Rejected&quot;</td></tr><tr><td>&quot;FirstMortgage3…</td><td>&quot;Unknown&quot;</td><td>669</td><td>&quot;Laurianneshire…</td><td>&quot;AutoLoans&quot;</td><td>&quot;Accepted&quot;</td></tr><tr><td>&quot;MoneyMarketSav…</td><td>&quot;No Resp+&quot;</td><td>1174</td><td>&quot;Jacobshaven&quot;</td><td>&quot;Account&quot;</td><td>&quot;Rejected&quot;</td></tr><tr><td>&quot;BasicChecking&quot;</td><td>&quot;Unknown&quot;</td><td>1476</td><td>&quot;Lindton&quot;</td><td>&quot;Account&quot;</td><td>&quot;Rejected&quot;</td></tr><tr><td>&quot;BasicChecking&quot;</td><td>&quot;Married&quot;</td><td>1211</td><td>&quot;South Jimmiesh…</td><td>&quot;DepositAccount…</td><td>&quot;Accepted&quot;</td></tr><tr><td>&quot;UPlusFinPerson…</td><td>&quot;No Resp+&quot;</td><td>533</td><td>&quot;Bergeville&quot;</td><td>null</td><td>&quot;Rejected&quot;</td></tr><tr><td>&quot;BasicChecking&quot;</td><td>&quot;No Resp+&quot;</td><td>555</td><td>&quot;Willyville&quot;</td><td>&quot;DepositAccount…</td><td>&quot;Rejected&quot;</td></tr></tbody></table></div>"
      ],
      "text/plain": [
       "shape: (7, 6)\n",
       "┌────────────────┬────────────────┬──────────────┬────────────────┬────────────────┬───────────────┐\n",
       "│ Context_Name   ┆ Customer_Marit ┆ Customer_CLV ┆ Customer_City  ┆ IH_Web_Inbound ┆ Decision_Outc │\n",
       "│ ---            ┆ alStatus       ┆ ---          ┆ ---            ┆ _Accepted_pxLa ┆ ome           │\n",
       "│ str            ┆ ---            ┆ i64          ┆ str            ┆ stGr…          ┆ ---           │\n",
       "│                ┆ str            ┆              ┆                ┆ ---            ┆ str           │\n",
       "│                ┆                ┆              ┆                ┆ str            ┆               │\n",
       "╞════════════════╪════════════════╪══════════════╪════════════════╪════════════════╪═══════════════╡\n",
       "│ FirstMortgage3 ┆ Married        ┆ 1460         ┆ Port Raoul     ┆ Account        ┆ Rejected      │\n",
       "│ 0yr            ┆                ┆              ┆                ┆                ┆               │\n",
       "│ FirstMortgage3 ┆ Unknown        ┆ 669          ┆ Laurianneshire ┆ AutoLoans      ┆ Accepted      │\n",
       "│ 0yr            ┆                ┆              ┆                ┆                ┆               │\n",
       "│ MoneyMarketSav ┆ No Resp+       ┆ 1174         ┆ Jacobshaven    ┆ Account        ┆ Rejected      │\n",
       "│ ingsAccount    ┆                ┆              ┆                ┆                ┆               │\n",
       "│ BasicChecking  ┆ Unknown        ┆ 1476         ┆ Lindton        ┆ Account        ┆ Rejected      │\n",
       "│ BasicChecking  ┆ Married        ┆ 1211         ┆ South          ┆ DepositAccount ┆ Accepted      │\n",
       "│                ┆                ┆              ┆ Jimmieshire    ┆ s              ┆               │\n",
       "│ UPlusFinPerson ┆ No Resp+       ┆ 533          ┆ Bergeville     ┆ null           ┆ Rejected      │\n",
       "│ al             ┆                ┆              ┆                ┆                ┆               │\n",
       "│ BasicChecking  ┆ No Resp+       ┆ 555          ┆ Willyville     ┆ DepositAccount ┆ Rejected      │\n",
       "│                ┆                ┆              ┆                ┆ s              ┆               │\n",
       "└────────────────┴────────────────┴──────────────┴────────────────┴────────────────┴───────────────┘"
      ]
     },
     "execution_count": 3,
     "metadata": {},
     "output_type": "execute_result"
    }
   ],
   "source": [
    "pl.read_ndjson('../../../../data/SampleHDS.json')"
   ]
  },
  {
   "attachments": {},
   "cell_type": "markdown",
   "metadata": {},
   "source": [
    "As you can see, this dataset consists of regular predictors, IH predictors, context keys and the outcome column. Additionally, some columns are numeric, others are strings. Let's first initialize the DataAnonymization class."
   ]
  },
  {
   "cell_type": "code",
   "execution_count": 4,
   "metadata": {
    "execution": {
     "iopub.execute_input": "2023-08-11T16:21:40.566812Z",
     "iopub.status.busy": "2023-08-11T16:21:40.566467Z",
     "iopub.status.idle": "2023-08-11T16:21:40.577778Z",
     "shell.execute_reply": "2023-08-11T16:21:40.576884Z"
    }
   },
   "outputs": [],
   "source": [
    "anon = DataAnonymization(hds_folder='../../../../data/')"
   ]
  },
  {
   "attachments": {},
   "cell_type": "markdown",
   "metadata": {},
   "source": [
    "By default, the class applies a set of anonymisation techniques:\n",
    "- Column names are remapped to a non-descriptive name\n",
    "- Categorical values are hashed with a random seed\n",
    "- Numerical values are normalized between 0 and 1\n",
    "- Outcomes are mapped to a binary outcome.\n",
    "\n",
    "To apply these techniques, simply call `.process()`:"
   ]
  },
  {
   "cell_type": "code",
   "execution_count": 5,
   "metadata": {
    "execution": {
     "iopub.execute_input": "2023-08-11T16:21:40.580950Z",
     "iopub.status.busy": "2023-08-11T16:21:40.580449Z",
     "iopub.status.idle": "2023-08-11T16:21:40.591104Z",
     "shell.execute_reply": "2023-08-11T16:21:40.590422Z"
    }
   },
   "outputs": [
    {
     "data": {
      "text/html": [
       "<div><style>\n",
       ".dataframe > thead > tr > th,\n",
       ".dataframe > tbody > tr > td {\n",
       "  text-align: right;\n",
       "}\n",
       "</style>\n",
       "<small>shape: (7, 7)</small><table border=\"1\" class=\"dataframe\"><thead><tr><th>PREDICTOR_0</th><th>filename</th><th>PREDICTOR_2</th><th>PREDICTOR_3</th><th>Context_Name</th><th>IH_PREDICTOR_0</th><th>Decision_Outcome</th></tr><tr><td>str</td><td>str</td><td>f64</td><td>str</td><td>str</td><td>str</td><td>bool</td></tr></thead><tbody><tr><td>&quot;37053442160660…</td><td>&quot;../../../../da…</td><td>1.2927e19</td><td>&quot;54206141235986…</td><td>&quot;11966207682587…</td><td>&quot;15307046422904…</td><td>false</td></tr><tr><td>&quot;10737962557489…</td><td>&quot;../../../../da…</td><td>1.4856e19</td><td>&quot;52166614343603…</td><td>&quot;11966207682587…</td><td>&quot;81689159558470…</td><td>true</td></tr><tr><td>&quot;37147384221290…</td><td>&quot;../../../../da…</td><td>5.6458e17</td><td>&quot;87465782560297…</td><td>&quot;90298269405012…</td><td>&quot;15307046422904…</td><td>false</td></tr><tr><td>&quot;10737962557489…</td><td>&quot;../../../../da…</td><td>4.0723e18</td><td>&quot;75499487218246…</td><td>&quot;37849694309486…</td><td>&quot;15307046422904…</td><td>false</td></tr><tr><td>&quot;37053442160660…</td><td>&quot;../../../../da…</td><td>1.4677e19</td><td>&quot;84910838255766…</td><td>&quot;37849694309486…</td><td>&quot;56855095315247…</td><td>true</td></tr><tr><td>&quot;37147384221290…</td><td>&quot;../../../../da…</td><td>1.6330e19</td><td>&quot;16131331372131…</td><td>&quot;35256563139276…</td><td>null</td><td>false</td></tr><tr><td>&quot;37147384221290…</td><td>&quot;../../../../da…</td><td>8.7675e18</td><td>&quot;15365369647332…</td><td>&quot;37849694309486…</td><td>&quot;56855095315247…</td><td>false</td></tr></tbody></table></div>"
      ],
      "text/plain": [
       "shape: (7, 7)\n",
       "┌──────────────┬─────────────┬─────────────┬─────────────┬─────────────┬─────────────┬─────────────┐\n",
       "│ PREDICTOR_0  ┆ filename    ┆ PREDICTOR_2 ┆ PREDICTOR_3 ┆ Context_Nam ┆ IH_PREDICTO ┆ Decision_Ou │\n",
       "│ ---          ┆ ---         ┆ ---         ┆ ---         ┆ e           ┆ R_0         ┆ tcome       │\n",
       "│ str          ┆ str         ┆ f64         ┆ str         ┆ ---         ┆ ---         ┆ ---         │\n",
       "│              ┆             ┆             ┆             ┆ str         ┆ str         ┆ bool        │\n",
       "╞══════════════╪═════════════╪═════════════╪═════════════╪═════════════╪═════════════╪═════════════╡\n",
       "│ 370534421606 ┆ ../../../.. ┆ 1.2927e19   ┆ 54206141235 ┆ 11966207682 ┆ 15307046422 ┆ false       │\n",
       "│ 6050700      ┆ /data/Sampl ┆             ┆ 98642706    ┆ 587780744   ┆ 904109677   ┆             │\n",
       "│              ┆ eHDS.json   ┆             ┆             ┆             ┆             ┆             │\n",
       "│ 107379625574 ┆ ../../../.. ┆ 1.4856e19   ┆ 52166614343 ┆ 11966207682 ┆ 81689159558 ┆ true        │\n",
       "│ 89065507     ┆ /data/Sampl ┆             ┆ 60349680    ┆ 587780744   ┆ 47006929    ┆             │\n",
       "│              ┆ eHDS.json   ┆             ┆             ┆             ┆             ┆             │\n",
       "│ 371473842212 ┆ ../../../.. ┆ 5.6458e17   ┆ 87465782560 ┆ 90298269405 ┆ 15307046422 ┆ false       │\n",
       "│ 903383       ┆ /data/Sampl ┆             ┆ 29735796    ┆ 01299514    ┆ 904109677   ┆             │\n",
       "│              ┆ eHDS.json   ┆             ┆             ┆             ┆             ┆             │\n",
       "│ 107379625574 ┆ ../../../.. ┆ 4.0723e18   ┆ 75499487218 ┆ 37849694309 ┆ 15307046422 ┆ false       │\n",
       "│ 89065507     ┆ /data/Sampl ┆             ┆ 24604595    ┆ 48644163    ┆ 904109677   ┆             │\n",
       "│              ┆ eHDS.json   ┆             ┆             ┆             ┆             ┆             │\n",
       "│ 370534421606 ┆ ../../../.. ┆ 1.4677e19   ┆ 84910838255 ┆ 37849694309 ┆ 56855095315 ┆ true        │\n",
       "│ 6050700      ┆ /data/Sampl ┆             ┆ 76661114    ┆ 48644163    ┆ 24786744    ┆             │\n",
       "│              ┆ eHDS.json   ┆             ┆             ┆             ┆             ┆             │\n",
       "│ 371473842212 ┆ ../../../.. ┆ 1.6330e19   ┆ 16131331372 ┆ 35256563139 ┆ null        ┆ false       │\n",
       "│ 903383       ┆ /data/Sampl ┆             ┆ 13168561    ┆ 27638506    ┆             ┆             │\n",
       "│              ┆ eHDS.json   ┆             ┆             ┆             ┆             ┆             │\n",
       "│ 371473842212 ┆ ../../../.. ┆ 8.7675e18   ┆ 15365369647 ┆ 37849694309 ┆ 56855095315 ┆ false       │\n",
       "│ 903383       ┆ /data/Sampl ┆             ┆ 332306970   ┆ 48644163    ┆ 24786744    ┆             │\n",
       "│              ┆ eHDS.json   ┆             ┆             ┆             ┆             ┆             │\n",
       "└──────────────┴─────────────┴─────────────┴─────────────┴─────────────┴─────────────┴─────────────┘"
      ]
     },
     "execution_count": 5,
     "metadata": {},
     "output_type": "execute_result"
    }
   ],
   "source": [
    "anon.process()"
   ]
  },
  {
   "attachments": {},
   "cell_type": "markdown",
   "metadata": {},
   "source": [
    "To trace back the columns to their original names, the class also contains a mapping, which does not have to be provided."
   ]
  },
  {
   "cell_type": "code",
   "execution_count": 6,
   "metadata": {
    "execution": {
     "iopub.execute_input": "2023-08-11T16:21:40.594505Z",
     "iopub.status.busy": "2023-08-11T16:21:40.593979Z",
     "iopub.status.idle": "2023-08-11T16:21:40.601298Z",
     "shell.execute_reply": "2023-08-11T16:21:40.600297Z"
    }
   },
   "outputs": [
    {
     "data": {
      "text/plain": [
       "{'Customer_MaritalStatus': 'PREDICTOR_0',\n",
       " 'filename': 'filename',\n",
       " 'Customer_CLV': 'PREDICTOR_2',\n",
       " 'Customer_City': 'PREDICTOR_3',\n",
       " 'Context_Name': 'Context_Name',\n",
       " 'IH_Web_Inbound_Accepted_pxLastGroupID': 'IH_PREDICTOR_0',\n",
       " 'Decision_Outcome': 'Decision_Outcome'}"
      ]
     },
     "execution_count": 6,
     "metadata": {},
     "output_type": "execute_result"
    }
   ],
   "source": [
    "anon.column_mapping"
   ]
  },
  {
   "attachments": {},
   "cell_type": "markdown",
   "metadata": {},
   "source": [
    "## Configs\n",
    "\n",
    "Each capability can optionally be turned off - see below for the full list of config options, and refer to the API reference for the full description."
   ]
  },
  {
   "cell_type": "code",
   "execution_count": 7,
   "metadata": {
    "execution": {
     "iopub.execute_input": "2023-08-11T16:21:40.604579Z",
     "iopub.status.busy": "2023-08-11T16:21:40.604344Z",
     "iopub.status.idle": "2023-08-11T16:21:40.610635Z",
     "shell.execute_reply": "2023-08-11T16:21:40.609956Z"
    }
   },
   "outputs": [
    {
     "data": {
      "text/plain": [
       "{'config_file': None,\n",
       " 'hds_folder': '.',\n",
       " 'use_datamart': False,\n",
       " 'datamart_folder': 'datamart',\n",
       " 'output_format': 'ndjson',\n",
       " 'output_folder': 'output',\n",
       " 'mapping_file': 'mapping.map',\n",
       " 'mask_predictor_names': True,\n",
       " 'mask_context_key_names': False,\n",
       " 'mask_ih_names': True,\n",
       " 'mask_outcome_name': False,\n",
       " 'mask_predictor_values': True,\n",
       " 'mask_context_key_values': True,\n",
       " 'mask_ih_values': True,\n",
       " 'mask_outcome_values': True,\n",
       " 'context_key_label': 'Context_*',\n",
       " 'ih_label': 'IH_*',\n",
       " 'outcome_column': 'Decision_Outcome',\n",
       " 'positive_outcomes': ['Accepted', 'Clicked'],\n",
       " 'negative_outcomes': ['Rejected', 'Impression'],\n",
       " 'special_predictors': ['Decision_DecisionTime',\n",
       "  'Decision_OutcomeTime',\n",
       "  'Decision_Rank'],\n",
       " 'sample_percentage_schema_inferencing': 0.01}"
      ]
     },
     "execution_count": 7,
     "metadata": {},
     "output_type": "execute_result"
    }
   ],
   "source": [
    "dict(zip(Config.__init__.__code__.co_varnames[1:], Config.__init__.__defaults__))"
   ]
  },
  {
   "attachments": {},
   "cell_type": "markdown",
   "metadata": {},
   "source": [
    "It's easy to change these parameters by just passing the keyword arguments. In the following example, we\n",
    "- Keep the IH predictor names\n",
    "- Keep the outcome values\n",
    "- Keep the context key values\n",
    "- Keep the context key predictor names"
   ]
  },
  {
   "cell_type": "code",
   "execution_count": 8,
   "metadata": {
    "execution": {
     "iopub.execute_input": "2023-08-11T16:21:40.613675Z",
     "iopub.status.busy": "2023-08-11T16:21:40.613295Z",
     "iopub.status.idle": "2023-08-11T16:21:40.626923Z",
     "shell.execute_reply": "2023-08-11T16:21:40.626257Z"
    }
   },
   "outputs": [
    {
     "data": {
      "text/html": [
       "<div><style>\n",
       ".dataframe > thead > tr > th,\n",
       ".dataframe > tbody > tr > td {\n",
       "  text-align: right;\n",
       "}\n",
       "</style>\n",
       "<small>shape: (7, 7)</small><table border=\"1\" class=\"dataframe\"><thead><tr><th>PREDICTOR_0</th><th>filename</th><th>PREDICTOR_2</th><th>PREDICTOR_3</th><th>Context_Name</th><th>IH_Web_Inbound_Accepted_pxLastGroupID</th><th>Decision_Outcome</th></tr><tr><td>str</td><td>str</td><td>f64</td><td>str</td><td>str</td><td>str</td><td>str</td></tr></thead><tbody><tr><td>&quot;12748154092584…</td><td>&quot;../../../../da…</td><td>1.2927e19</td><td>&quot;28265671404150…</td><td>&quot;FirstMortgage3…</td><td>&quot;46378951947183…</td><td>&quot;Rejected&quot;</td></tr><tr><td>&quot;11970935334812…</td><td>&quot;../../../../da…</td><td>1.4856e19</td><td>&quot;15805293187791…</td><td>&quot;FirstMortgage3…</td><td>&quot;47400610028716…</td><td>&quot;Accepted&quot;</td></tr><tr><td>&quot;33248967989521…</td><td>&quot;../../../../da…</td><td>5.6458e17</td><td>&quot;87373275648223…</td><td>&quot;MoneyMarketSav…</td><td>&quot;46378951947183…</td><td>&quot;Rejected&quot;</td></tr><tr><td>&quot;11970935334812…</td><td>&quot;../../../../da…</td><td>4.0723e18</td><td>&quot;13642427151825…</td><td>&quot;BasicChecking&quot;</td><td>&quot;46378951947183…</td><td>&quot;Rejected&quot;</td></tr><tr><td>&quot;12748154092584…</td><td>&quot;../../../../da…</td><td>1.4677e19</td><td>&quot;53156559336787…</td><td>&quot;BasicChecking&quot;</td><td>&quot;28591502787818…</td><td>&quot;Accepted&quot;</td></tr><tr><td>&quot;33248967989521…</td><td>&quot;../../../../da…</td><td>1.6330e19</td><td>&quot;77633464709666…</td><td>&quot;UPlusFinPerson…</td><td>null</td><td>&quot;Rejected&quot;</td></tr><tr><td>&quot;33248967989521…</td><td>&quot;../../../../da…</td><td>8.7675e18</td><td>&quot;12760341398369…</td><td>&quot;BasicChecking&quot;</td><td>&quot;28591502787818…</td><td>&quot;Rejected&quot;</td></tr></tbody></table></div>"
      ],
      "text/plain": [
       "shape: (7, 7)\n",
       "┌──────────────┬─────────────┬─────────────┬─────────────┬─────────────┬─────────────┬─────────────┐\n",
       "│ PREDICTOR_0  ┆ filename    ┆ PREDICTOR_2 ┆ PREDICTOR_3 ┆ Context_Nam ┆ IH_Web_Inbo ┆ Decision_Ou │\n",
       "│ ---          ┆ ---         ┆ ---         ┆ ---         ┆ e           ┆ und_Accepte ┆ tcome       │\n",
       "│ str          ┆ str         ┆ f64         ┆ str         ┆ ---         ┆ d_pxLastGr… ┆ ---         │\n",
       "│              ┆             ┆             ┆             ┆ str         ┆ ---         ┆ str         │\n",
       "│              ┆             ┆             ┆             ┆             ┆ str         ┆             │\n",
       "╞══════════════╪═════════════╪═════════════╪═════════════╪═════════════╪═════════════╪═════════════╡\n",
       "│ 127481540925 ┆ ../../../.. ┆ 1.2927e19   ┆ 28265671404 ┆ FirstMortga ┆ 46378951947 ┆ Rejected    │\n",
       "│ 84079261     ┆ /data/Sampl ┆             ┆ 15000657    ┆ ge30yr      ┆ 18357712    ┆             │\n",
       "│              ┆ eHDS.json   ┆             ┆             ┆             ┆             ┆             │\n",
       "│ 119709353348 ┆ ../../../.. ┆ 1.4856e19   ┆ 15805293187 ┆ FirstMortga ┆ 47400610028 ┆ Accepted    │\n",
       "│ 12945726     ┆ /data/Sampl ┆             ┆ 791122503   ┆ ge30yr      ┆ 716435      ┆             │\n",
       "│              ┆ eHDS.json   ┆             ┆             ┆             ┆             ┆             │\n",
       "│ 332489679895 ┆ ../../../.. ┆ 5.6458e17   ┆ 87373275648 ┆ MoneyMarket ┆ 46378951947 ┆ Rejected    │\n",
       "│ 2118654      ┆ /data/Sampl ┆             ┆ 22337274    ┆ SavingsAcco ┆ 18357712    ┆             │\n",
       "│              ┆ eHDS.json   ┆             ┆             ┆ unt         ┆             ┆             │\n",
       "│ 119709353348 ┆ ../../../.. ┆ 4.0723e18   ┆ 13642427151 ┆ BasicChecki ┆ 46378951947 ┆ Rejected    │\n",
       "│ 12945726     ┆ /data/Sampl ┆             ┆ 825061080   ┆ ng          ┆ 18357712    ┆             │\n",
       "│              ┆ eHDS.json   ┆             ┆             ┆             ┆             ┆             │\n",
       "│ 127481540925 ┆ ../../../.. ┆ 1.4677e19   ┆ 53156559336 ┆ BasicChecki ┆ 28591502787 ┆ Accepted    │\n",
       "│ 84079261     ┆ /data/Sampl ┆             ┆ 7872084     ┆ ng          ┆ 81861086    ┆             │\n",
       "│              ┆ eHDS.json   ┆             ┆             ┆             ┆             ┆             │\n",
       "│ 332489679895 ┆ ../../../.. ┆ 1.6330e19   ┆ 77633464709 ┆ UPlusFinPer ┆ null        ┆ Rejected    │\n",
       "│ 2118654      ┆ /data/Sampl ┆             ┆ 66630037    ┆ sonal       ┆             ┆             │\n",
       "│              ┆ eHDS.json   ┆             ┆             ┆             ┆             ┆             │\n",
       "│ 332489679895 ┆ ../../../.. ┆ 8.7675e18   ┆ 12760341398 ┆ BasicChecki ┆ 28591502787 ┆ Rejected    │\n",
       "│ 2118654      ┆ /data/Sampl ┆             ┆ 369334952   ┆ ng          ┆ 81861086    ┆             │\n",
       "│              ┆ eHDS.json   ┆             ┆             ┆             ┆             ┆             │\n",
       "└──────────────┴─────────────┴─────────────┴─────────────┴─────────────┴─────────────┴─────────────┘"
      ]
     },
     "execution_count": 8,
     "metadata": {},
     "output_type": "execute_result"
    }
   ],
   "source": [
    "anon = DataAnonymization(\n",
    "    hds_folder='../../../../data/',\n",
    "    mask_ih_names=False,\n",
    "    mask_outcome_values=False,\n",
    "    mask_context_key_values=False,\n",
    "    mask_context_key_names=False,\n",
    ")\n",
    "anon.process()\n"
   ]
  },
  {
   "attachments": {},
   "cell_type": "markdown",
   "metadata": {},
   "source": [
    "The configs can also be written and read as such:"
   ]
  },
  {
   "cell_type": "code",
   "execution_count": 9,
   "metadata": {
    "execution": {
     "iopub.execute_input": "2023-08-11T16:21:40.630135Z",
     "iopub.status.busy": "2023-08-11T16:21:40.629691Z",
     "iopub.status.idle": "2023-08-11T16:21:40.633119Z",
     "shell.execute_reply": "2023-08-11T16:21:40.632407Z"
    }
   },
   "outputs": [],
   "source": [
    "anon.config.save_to_config_file('config.json')"
   ]
  },
  {
   "cell_type": "code",
   "execution_count": 10,
   "metadata": {
    "execution": {
     "iopub.execute_input": "2023-08-11T16:21:40.636118Z",
     "iopub.status.busy": "2023-08-11T16:21:40.635733Z",
     "iopub.status.idle": "2023-08-11T16:21:40.649234Z",
     "shell.execute_reply": "2023-08-11T16:21:40.648520Z"
    }
   },
   "outputs": [
    {
     "data": {
      "text/html": [
       "<div><style>\n",
       ".dataframe > thead > tr > th,\n",
       ".dataframe > tbody > tr > td {\n",
       "  text-align: right;\n",
       "}\n",
       "</style>\n",
       "<small>shape: (7, 7)</small><table border=\"1\" class=\"dataframe\"><thead><tr><th>PREDICTOR_0</th><th>filename</th><th>PREDICTOR_2</th><th>PREDICTOR_3</th><th>Context_Name</th><th>IH_Web_Inbound_Accepted_pxLastGroupID</th><th>Decision_Outcome</th></tr><tr><td>str</td><td>str</td><td>f64</td><td>str</td><td>str</td><td>str</td><td>str</td></tr></thead><tbody><tr><td>&quot;15371618910964…</td><td>&quot;../../../../da…</td><td>1.2927e19</td><td>&quot;27294789177727…</td><td>&quot;FirstMortgage3…</td><td>&quot;94031248956605…</td><td>&quot;Rejected&quot;</td></tr><tr><td>&quot;10361353493552…</td><td>&quot;../../../../da…</td><td>1.4856e19</td><td>&quot;13030583930846…</td><td>&quot;FirstMortgage3…</td><td>&quot;50662742773895…</td><td>&quot;Accepted&quot;</td></tr><tr><td>&quot;75291962692044…</td><td>&quot;../../../../da…</td><td>5.6458e17</td><td>&quot;64275261551616…</td><td>&quot;MoneyMarketSav…</td><td>&quot;94031248956605…</td><td>&quot;Rejected&quot;</td></tr><tr><td>&quot;10361353493552…</td><td>&quot;../../../../da…</td><td>4.0723e18</td><td>&quot;13141442456298…</td><td>&quot;BasicChecking&quot;</td><td>&quot;94031248956605…</td><td>&quot;Rejected&quot;</td></tr><tr><td>&quot;15371618910964…</td><td>&quot;../../../../da…</td><td>1.4677e19</td><td>&quot;13016722368499…</td><td>&quot;BasicChecking&quot;</td><td>&quot;33948017492107…</td><td>&quot;Accepted&quot;</td></tr><tr><td>&quot;75291962692044…</td><td>&quot;../../../../da…</td><td>1.6330e19</td><td>&quot;13951739744308…</td><td>&quot;UPlusFinPerson…</td><td>null</td><td>&quot;Rejected&quot;</td></tr><tr><td>&quot;75291962692044…</td><td>&quot;../../../../da…</td><td>8.7675e18</td><td>&quot;78478060516693…</td><td>&quot;BasicChecking&quot;</td><td>&quot;33948017492107…</td><td>&quot;Rejected&quot;</td></tr></tbody></table></div>"
      ],
      "text/plain": [
       "shape: (7, 7)\n",
       "┌──────────────┬─────────────┬─────────────┬─────────────┬─────────────┬─────────────┬─────────────┐\n",
       "│ PREDICTOR_0  ┆ filename    ┆ PREDICTOR_2 ┆ PREDICTOR_3 ┆ Context_Nam ┆ IH_Web_Inbo ┆ Decision_Ou │\n",
       "│ ---          ┆ ---         ┆ ---         ┆ ---         ┆ e           ┆ und_Accepte ┆ tcome       │\n",
       "│ str          ┆ str         ┆ f64         ┆ str         ┆ ---         ┆ d_pxLastGr… ┆ ---         │\n",
       "│              ┆             ┆             ┆             ┆ str         ┆ ---         ┆ str         │\n",
       "│              ┆             ┆             ┆             ┆             ┆ str         ┆             │\n",
       "╞══════════════╪═════════════╪═════════════╪═════════════╪═════════════╪═════════════╪═════════════╡\n",
       "│ 153716189109 ┆ ../../../.. ┆ 1.2927e19   ┆ 27294789177 ┆ FirstMortga ┆ 94031248956 ┆ Rejected    │\n",
       "│ 64177789     ┆ /data/Sampl ┆             ┆ 72766678    ┆ ge30yr      ┆ 60519969    ┆             │\n",
       "│              ┆ eHDS.json   ┆             ┆             ┆             ┆             ┆             │\n",
       "│ 103613534935 ┆ ../../../.. ┆ 1.4856e19   ┆ 13030583930 ┆ FirstMortga ┆ 50662742773 ┆ Accepted    │\n",
       "│ 52513490     ┆ /data/Sampl ┆             ┆ 846562862   ┆ ge30yr      ┆ 89500350    ┆             │\n",
       "│              ┆ eHDS.json   ┆             ┆             ┆             ┆             ┆             │\n",
       "│ 752919626920 ┆ ../../../.. ┆ 5.6458e17   ┆ 64275261551 ┆ MoneyMarket ┆ 94031248956 ┆ Rejected    │\n",
       "│ 4405224      ┆ /data/Sampl ┆             ┆ 6162563     ┆ SavingsAcco ┆ 60519969    ┆             │\n",
       "│              ┆ eHDS.json   ┆             ┆             ┆ unt         ┆             ┆             │\n",
       "│ 103613534935 ┆ ../../../.. ┆ 4.0723e18   ┆ 13141442456 ┆ BasicChecki ┆ 94031248956 ┆ Rejected    │\n",
       "│ 52513490     ┆ /data/Sampl ┆             ┆ 298278073   ┆ ng          ┆ 60519969    ┆             │\n",
       "│              ┆ eHDS.json   ┆             ┆             ┆             ┆             ┆             │\n",
       "│ 153716189109 ┆ ../../../.. ┆ 1.4677e19   ┆ 13016722368 ┆ BasicChecki ┆ 33948017492 ┆ Accepted    │\n",
       "│ 64177789     ┆ /data/Sampl ┆             ┆ 499561743   ┆ ng          ┆ 10707509    ┆             │\n",
       "│              ┆ eHDS.json   ┆             ┆             ┆             ┆             ┆             │\n",
       "│ 752919626920 ┆ ../../../.. ┆ 1.6330e19   ┆ 13951739744 ┆ UPlusFinPer ┆ null        ┆ Rejected    │\n",
       "│ 4405224      ┆ /data/Sampl ┆             ┆ 308904697   ┆ sonal       ┆             ┆             │\n",
       "│              ┆ eHDS.json   ┆             ┆             ┆             ┆             ┆             │\n",
       "│ 752919626920 ┆ ../../../.. ┆ 8.7675e18   ┆ 78478060516 ┆ BasicChecki ┆ 33948017492 ┆ Rejected    │\n",
       "│ 4405224      ┆ /data/Sampl ┆             ┆ 69346455    ┆ ng          ┆ 10707509    ┆             │\n",
       "│              ┆ eHDS.json   ┆             ┆             ┆             ┆             ┆             │\n",
       "└──────────────┴─────────────┴─────────────┴─────────────┴─────────────┴─────────────┴─────────────┘"
      ]
     },
     "execution_count": 10,
     "metadata": {},
     "output_type": "execute_result"
    }
   ],
   "source": [
    "anon = DataAnonymization(config=Config(config_file='config.json'))\n",
    "anon.process()"
   ]
  },
  {
   "attachments": {},
   "cell_type": "markdown",
   "metadata": {},
   "source": [
    "## Exporting\n",
    "Two functions export:\n",
    "- `create_mapping_file()` writes the mapping file of the predictor names\n",
    "- `write_to_output()` writes the processed dataframe to disk\n",
    "\n",
    "Write to output accepts the following extensions: `[\"ndjson\", \"parquet\", \"arrow\", \"csv\"]`"
   ]
  },
  {
   "cell_type": "code",
   "execution_count": 11,
   "metadata": {
    "execution": {
     "iopub.execute_input": "2023-08-11T16:21:40.654812Z",
     "iopub.status.busy": "2023-08-11T16:21:40.654458Z",
     "iopub.status.idle": "2023-08-11T16:21:40.659354Z",
     "shell.execute_reply": "2023-08-11T16:21:40.658498Z"
    }
   },
   "outputs": [
    {
     "name": "stdout",
     "output_type": "stream",
     "text": [
      "Customer_MaritalStatus=PREDICTOR_0\n",
      "filename=filename\n",
      "Customer_CLV=PREDICTOR_2\n",
      "Customer_City=PREDICTOR_3\n",
      "Context_Name=Context_Name\n",
      "IH_Web_Inbound_Accepted_pxLastGroupID=IH_Web_Inbound_Accepted_pxLastGroupID\n",
      "Decision_Outcome=Decision_Outcome\n",
      "\n"
     ]
    }
   ],
   "source": [
    "anon.create_mapping_file()\n",
    "with open('mapping.map') as f:\n",
    "    print(f.read())"
   ]
  },
  {
   "cell_type": "code",
   "execution_count": 12,
   "metadata": {
    "execution": {
     "iopub.execute_input": "2023-08-11T16:21:40.663324Z",
     "iopub.status.busy": "2023-08-11T16:21:40.662903Z",
     "iopub.status.idle": "2023-08-11T16:21:40.668645Z",
     "shell.execute_reply": "2023-08-11T16:21:40.667805Z"
    }
   },
   "outputs": [],
   "source": [
    "anon.write_to_output(ext='arrow')"
   ]
  },
  {
   "cell_type": "code",
   "execution_count": 13,
   "metadata": {
    "execution": {
     "iopub.execute_input": "2023-08-11T16:21:40.671433Z",
     "iopub.status.busy": "2023-08-11T16:21:40.671136Z",
     "iopub.status.idle": "2023-08-11T16:21:40.678045Z",
     "shell.execute_reply": "2023-08-11T16:21:40.677250Z"
    }
   },
   "outputs": [
    {
     "data": {
      "text/html": [
       "<div><style>\n",
       ".dataframe > thead > tr > th,\n",
       ".dataframe > tbody > tr > td {\n",
       "  text-align: right;\n",
       "}\n",
       "</style>\n",
       "<small>shape: (7, 6)</small><table border=\"1\" class=\"dataframe\"><thead><tr><th>PREDICTOR_0</th><th>PREDICTOR_2</th><th>PREDICTOR_3</th><th>Context_Name</th><th>IH_Web_Inbound_Accepted_pxLastGroupID</th><th>Decision_Outcome</th></tr><tr><td>str</td><td>f64</td><td>str</td><td>str</td><td>str</td><td>str</td></tr></thead><tbody><tr><td>&quot;10213237252561…</td><td>1.2927e19</td><td>&quot;16316823798438…</td><td>&quot;FirstMortgage3…</td><td>&quot;60759046623801…</td><td>&quot;Rejected&quot;</td></tr><tr><td>&quot;92160135682859…</td><td>1.4856e19</td><td>&quot;15536626512726…</td><td>&quot;FirstMortgage3…</td><td>&quot;78764657858225…</td><td>&quot;Accepted&quot;</td></tr><tr><td>&quot;81711211104616…</td><td>5.6458e17</td><td>&quot;15993714433548…</td><td>&quot;MoneyMarketSav…</td><td>&quot;60759046623801…</td><td>&quot;Rejected&quot;</td></tr><tr><td>&quot;92160135682859…</td><td>4.0723e18</td><td>&quot;11781890142435…</td><td>&quot;BasicChecking&quot;</td><td>&quot;60759046623801…</td><td>&quot;Rejected&quot;</td></tr><tr><td>&quot;10213237252561…</td><td>1.4677e19</td><td>&quot;16285954887386…</td><td>&quot;BasicChecking&quot;</td><td>&quot;15107090855804…</td><td>&quot;Accepted&quot;</td></tr><tr><td>&quot;81711211104616…</td><td>1.6330e19</td><td>&quot;12382556647558…</td><td>&quot;UPlusFinPerson…</td><td>null</td><td>&quot;Rejected&quot;</td></tr><tr><td>&quot;81711211104616…</td><td>8.7675e18</td><td>&quot;16647288223403…</td><td>&quot;BasicChecking&quot;</td><td>&quot;15107090855804…</td><td>&quot;Rejected&quot;</td></tr></tbody></table></div>"
      ],
      "text/plain": [
       "shape: (7, 6)\n",
       "┌────────────────┬─────────────┬────────────────┬────────────────┬────────────────┬────────────────┐\n",
       "│ PREDICTOR_0    ┆ PREDICTOR_2 ┆ PREDICTOR_3    ┆ Context_Name   ┆ IH_Web_Inbound ┆ Decision_Outco │\n",
       "│ ---            ┆ ---         ┆ ---            ┆ ---            ┆ _Accepted_pxLa ┆ me             │\n",
       "│ str            ┆ f64         ┆ str            ┆ str            ┆ stGr…          ┆ ---            │\n",
       "│                ┆             ┆                ┆                ┆ ---            ┆ str            │\n",
       "│                ┆             ┆                ┆                ┆ str            ┆                │\n",
       "╞════════════════╪═════════════╪════════════════╪════════════════╪════════════════╪════════════════╡\n",
       "│ 10213237252561 ┆ 1.2927e19   ┆ 16316823798438 ┆ FirstMortgage3 ┆ 60759046623801 ┆ Rejected       │\n",
       "│ 210789         ┆             ┆ 895240         ┆ 0yr            ┆ 96319          ┆                │\n",
       "│ 92160135682859 ┆ 1.4856e19   ┆ 15536626512726 ┆ FirstMortgage3 ┆ 78764657858225 ┆ Accepted       │\n",
       "│ 49261          ┆             ┆ 907053         ┆ 0yr            ┆ 98528          ┆                │\n",
       "│ 81711211104616 ┆ 5.6458e17   ┆ 15993714433548 ┆ MoneyMarketSav ┆ 60759046623801 ┆ Rejected       │\n",
       "│ 56758          ┆             ┆ 669661         ┆ ingsAccount    ┆ 96319          ┆                │\n",
       "│ 92160135682859 ┆ 4.0723e18   ┆ 11781890142435 ┆ BasicChecking  ┆ 60759046623801 ┆ Rejected       │\n",
       "│ 49261          ┆             ┆ 22683          ┆                ┆ 96319          ┆                │\n",
       "│ 10213237252561 ┆ 1.4677e19   ┆ 16285954887386 ┆ BasicChecking  ┆ 15107090855804 ┆ Accepted       │\n",
       "│ 210789         ┆             ┆ 907427         ┆                ┆ 873269         ┆                │\n",
       "│ 81711211104616 ┆ 1.6330e19   ┆ 12382556647558 ┆ UPlusFinPerson ┆ null           ┆ Rejected       │\n",
       "│ 56758          ┆             ┆ 152871         ┆ al             ┆                ┆                │\n",
       "│ 81711211104616 ┆ 8.7675e18   ┆ 16647288223403 ┆ BasicChecking  ┆ 15107090855804 ┆ Rejected       │\n",
       "│ 56758          ┆             ┆ 1196           ┆                ┆ 873269         ┆                │\n",
       "└────────────────┴─────────────┴────────────────┴────────────────┴────────────────┴────────────────┘"
      ]
     },
     "execution_count": 13,
     "metadata": {},
     "output_type": "execute_result"
    }
   ],
   "source": [
    "pl.read_ipc('output/hds.arrow')"
   ]
  },
  {
   "attachments": {},
   "cell_type": "markdown",
   "metadata": {},
   "source": [
    "## Advanced: Hash fuctions\n",
    "\n",
    "By default, we use [the same hashing algorithm Polars](https://pola-rs.github.io/polars/py-polars/html/reference/expressions/api/polars.Expr.hash.html#polars.Expr.hash) uses: [xxhash](https://github.com/Cyan4973/xxHash), as implemented [here](https://github.com/pola-rs/polars/blob/3f287f370b3c388ed2f3f218b2c096382548136f/polars/polars-core/src/vector_hasher.rs#L266). xxhash is fast to compute, and you can check its performance in collision, dispersion and randomness [here](https://github.com/Cyan4973/xxHash/tree/dev/tests). \n",
    "\n",
    "xxhash accepts four distinct seeds, but by default we set the seeds to `0`. It is possible to set the `seed` argument of the `process()` function to `'random'`, which will set all four seeds to a random integer between `0` and `1000000000`. Alternatively, it is possible to supply the four seeds manually with arguments `seed`, `seed_1`, `seed_2` and `seed_3`. \n",
    "\n",
    "If the xxhash with (random) seed(s) is not deemed sufficiently secure, it is possible to use your own hashing algorithm.\n",
    "\n",
    "Note that since we're now running python code and not native Polars code anymore, this will be _significantly_ slower. Nonetheless, it is possible.\n",
    "\n",
    "Just as an example - this is how one would use sha3_256:"
   ]
  },
  {
   "cell_type": "code",
   "execution_count": 14,
   "metadata": {
    "execution": {
     "iopub.execute_input": "2023-08-11T16:21:40.682008Z",
     "iopub.status.busy": "2023-08-11T16:21:40.681778Z",
     "iopub.status.idle": "2023-08-11T16:21:41.116254Z",
     "shell.execute_reply": "2023-08-11T16:21:41.115403Z"
    }
   },
   "outputs": [
    {
     "ename": "ComputeError",
     "evalue": "AttributeError: 'int' object has no attribute 'encode'",
     "output_type": "error",
     "traceback": [
      "\u001b[0;31m---------------------------------------------------------------------------\u001b[0m",
      "\u001b[0;31mComputeError\u001b[0m                              Traceback (most recent call last)",
      "Cell \u001b[0;32mIn[14], line 3\u001b[0m\n\u001b[1;32m      1\u001b[0m \u001b[38;5;28;01mfrom\u001b[39;00m \u001b[38;5;21;01mhashlib\u001b[39;00m \u001b[38;5;28;01mimport\u001b[39;00m sha3_256\n\u001b[0;32m----> 3\u001b[0m \u001b[43manon\u001b[49m\u001b[38;5;241;43m.\u001b[39;49m\u001b[43mprocess\u001b[49m\u001b[43m(\u001b[49m\u001b[43malgorithm\u001b[49m\u001b[38;5;241;43m=\u001b[39;49m\u001b[38;5;28;43;01mlambda\u001b[39;49;00m\u001b[43m \u001b[49m\u001b[43mx\u001b[49m\u001b[43m:\u001b[49m\u001b[43m \u001b[49m\u001b[43msha3_256\u001b[49m\u001b[43m(\u001b[49m\u001b[43mx\u001b[49m\u001b[38;5;241;43m.\u001b[39;49m\u001b[43mencode\u001b[49m\u001b[43m(\u001b[49m\u001b[43m)\u001b[49m\u001b[43m)\u001b[49m\u001b[38;5;241;43m.\u001b[39;49m\u001b[43mhexdigest\u001b[49m\u001b[43m(\u001b[49m\u001b[43m)\u001b[49m\u001b[43m)\u001b[49m\n",
      "File \u001b[0;32m~/work/pega-datascientist-tools/pega-datascientist-tools/python/docs/source/articles/../../../pdstools/utils/hds_utils.py:516\u001b[0m, in \u001b[0;36mDataAnonymization.process\u001b[0;34m(self, strategy, **kwargs)\u001b[0m\n\u001b[1;32m    514\u001b[0m df \u001b[38;5;241m=\u001b[39m df\u001b[38;5;241m.\u001b[39mselect(\u001b[38;5;28mself\u001b[39m\u001b[38;5;241m.\u001b[39mcolumn_mapping\u001b[38;5;241m.\u001b[39mkeys())\u001b[38;5;241m.\u001b[39mrename(\u001b[38;5;28mself\u001b[39m\u001b[38;5;241m.\u001b[39mcolumn_mapping)\n\u001b[1;32m    515\u001b[0m \u001b[38;5;28;01mif\u001b[39;00m strategy \u001b[38;5;241m==\u001b[39m \u001b[38;5;124m\"\u001b[39m\u001b[38;5;124meager\u001b[39m\u001b[38;5;124m\"\u001b[39m:\n\u001b[0;32m--> 516\u001b[0m     \u001b[38;5;28;01mreturn\u001b[39;00m \u001b[43mdf\u001b[49m\u001b[38;5;241;43m.\u001b[39;49m\u001b[43mcollect\u001b[49m\u001b[43m(\u001b[49m\u001b[43m)\u001b[49m\n\u001b[1;32m    517\u001b[0m \u001b[38;5;28;01mreturn\u001b[39;00m df\n",
      "File \u001b[0;32m/opt/hostedtoolcache/Python/3.11.4/x64/lib/python3.11/site-packages/polars/lazyframe/frame.py:1530\u001b[0m, in \u001b[0;36mLazyFrame.collect\u001b[0;34m(self, type_coercion, predicate_pushdown, projection_pushdown, simplify_expression, no_optimization, slice_pushdown, common_subplan_elimination, streaming)\u001b[0m\n\u001b[1;32m   1519\u001b[0m     common_subplan_elimination \u001b[38;5;241m=\u001b[39m \u001b[38;5;28;01mFalse\u001b[39;00m\n\u001b[1;32m   1521\u001b[0m ldf \u001b[38;5;241m=\u001b[39m \u001b[38;5;28mself\u001b[39m\u001b[38;5;241m.\u001b[39m_ldf\u001b[38;5;241m.\u001b[39moptimization_toggle(\n\u001b[1;32m   1522\u001b[0m     type_coercion,\n\u001b[1;32m   1523\u001b[0m     predicate_pushdown,\n\u001b[0;32m   (...)\u001b[0m\n\u001b[1;32m   1528\u001b[0m     streaming,\n\u001b[1;32m   1529\u001b[0m )\n\u001b[0;32m-> 1530\u001b[0m \u001b[38;5;28;01mreturn\u001b[39;00m wrap_df(ldf\u001b[38;5;241m.\u001b[39mcollect())\n",
      "\u001b[0;31mComputeError\u001b[0m: AttributeError: 'int' object has no attribute 'encode'"
     ]
    }
   ],
   "source": [
    "from hashlib import sha3_256\n",
    "\n",
    "anon.process(algorithm=lambda x: sha3_256(x.encode()).hexdigest())"
   ]
  }
 ],
 "metadata": {
  "kernelspec": {
   "display_name": "Python 3",
   "language": "python",
   "name": "python3"
  },
  "language_info": {
   "codemirror_mode": {
    "name": "ipython",
    "version": 3
   },
   "file_extension": ".py",
   "mimetype": "text/x-python",
   "name": "python",
   "nbconvert_exporter": "python",
   "pygments_lexer": "ipython3",
   "version": "3.11.4"
  },
  "vscode": {
   "interpreter": {
    "hash": "aee8b7b246df8f9039afb4144a1f6fd8d2ca17a180786b69acc140d282b71a49"
   }
  }
 },
 "nbformat": 4,
 "nbformat_minor": 2
}
