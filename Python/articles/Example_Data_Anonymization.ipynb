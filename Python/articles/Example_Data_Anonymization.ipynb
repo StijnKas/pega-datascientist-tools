{
 "cells": [
  {
   "attachments": {},
   "cell_type": "markdown",
   "metadata": {},
   "source": [
    "# Example data anonymization\n",
    "\n",
    "In Pega CDH 8.5 and up, it's now possible to record the historical data as seen by the Adaptive Models. See [this academy challenge](https://academy.pega.com/challenge/exporting-historical-data/v4) for reference. This historical data can be further used to experiment with offline models, but also to fine-tune the OOTB Gradient Boosting model. However, sharing this information with Pega can be sensitive as it contains raw predictor data. \n",
    "\n",
    "To this end, we provide a simple and transparent script to fully anonimize this dataset.\n",
    "\n",
    "The DataAnonymization script is now part of pdstools, and you can import it directly as such."
   ]
  },
  {
   "cell_type": "code",
   "execution_count": 1,
   "metadata": {
    "execution": {
     "iopub.execute_input": "2023-11-03T17:03:30.860809Z",
     "iopub.status.busy": "2023-11-03T17:03:30.860639Z",
     "iopub.status.idle": "2023-11-03T17:03:30.941645Z",
     "shell.execute_reply": "2023-11-03T17:03:30.940394Z"
    },
    "nbsphinx": "hidden"
   },
   "outputs": [],
   "source": [
    "# These lines are only for rendering in the docs, and are hidden through Jupyter tags\n",
    "# Do not run if you're running the notebook seperately\n",
    "\n",
    "import os  \n",
    "import sys\n",
    "import plotly.io as pio\n",
    "pio.renderers.default = \"notebook_connected\"\n",
    "\n",
    "sys.path.append(\"../../../\")\n",
    "sys.path.append('../../python')"
   ]
  },
  {
   "cell_type": "code",
   "execution_count": 2,
   "metadata": {
    "execution": {
     "iopub.execute_input": "2023-11-03T17:03:30.944761Z",
     "iopub.status.busy": "2023-11-03T17:03:30.944529Z",
     "iopub.status.idle": "2023-11-03T17:03:32.138010Z",
     "shell.execute_reply": "2023-11-03T17:03:32.136797Z"
    }
   },
   "outputs": [],
   "source": [
    "from pdstools import ADMDatamart\n",
    "from pdstools import Config, DataAnonymization\n",
    "import polars as pl"
   ]
  },
  {
   "attachments": {},
   "cell_type": "markdown",
   "metadata": {},
   "source": [
    "## Input data\n",
    "\n",
    "To demonstrate this process, we're going to anonymise this toy example dataframe:"
   ]
  },
  {
   "cell_type": "code",
   "execution_count": 3,
   "metadata": {
    "execution": {
     "iopub.execute_input": "2023-11-03T17:03:32.141784Z",
     "iopub.status.busy": "2023-11-03T17:03:32.141098Z",
     "iopub.status.idle": "2023-11-03T17:03:32.153283Z",
     "shell.execute_reply": "2023-11-03T17:03:32.152735Z"
    }
   },
   "outputs": [
    {
     "data": {
      "text/html": [
       "<div><style>\n",
       ".dataframe > thead > tr > th,\n",
       ".dataframe > tbody > tr > td {\n",
       "  text-align: right;\n",
       "  white-space: pre-wrap;\n",
       "}\n",
       "</style>\n",
       "<small>shape: (7, 6)</small><table border=\"1\" class=\"dataframe\"><thead><tr><th>Context_Name</th><th>Customer_MaritalStatus</th><th>Customer_CLV</th><th>Customer_City</th><th>IH_Web_Inbound_Accepted_pxLastGroupID</th><th>Decision_Outcome</th></tr><tr><td>str</td><td>str</td><td>i64</td><td>str</td><td>str</td><td>str</td></tr></thead><tbody><tr><td>&quot;FirstMortgage3…</td><td>&quot;Married&quot;</td><td>1460</td><td>&quot;Port Raoul&quot;</td><td>&quot;Account&quot;</td><td>&quot;Rejected&quot;</td></tr><tr><td>&quot;FirstMortgage3…</td><td>&quot;Unknown&quot;</td><td>669</td><td>&quot;Laurianneshire…</td><td>&quot;AutoLoans&quot;</td><td>&quot;Accepted&quot;</td></tr><tr><td>&quot;MoneyMarketSav…</td><td>&quot;No Resp+&quot;</td><td>1174</td><td>&quot;Jacobshaven&quot;</td><td>&quot;Account&quot;</td><td>&quot;Rejected&quot;</td></tr><tr><td>&quot;BasicChecking&quot;</td><td>&quot;Unknown&quot;</td><td>1476</td><td>&quot;Lindton&quot;</td><td>&quot;Account&quot;</td><td>&quot;Rejected&quot;</td></tr><tr><td>&quot;BasicChecking&quot;</td><td>&quot;Married&quot;</td><td>1211</td><td>&quot;South Jimmiesh…</td><td>&quot;DepositAccount…</td><td>&quot;Accepted&quot;</td></tr><tr><td>&quot;UPlusFinPerson…</td><td>&quot;No Resp+&quot;</td><td>533</td><td>&quot;Bergeville&quot;</td><td>null</td><td>&quot;Rejected&quot;</td></tr><tr><td>&quot;BasicChecking&quot;</td><td>&quot;No Resp+&quot;</td><td>555</td><td>&quot;Willyville&quot;</td><td>&quot;DepositAccount…</td><td>&quot;Rejected&quot;</td></tr></tbody></table></div>"
      ],
      "text/plain": [
       "shape: (7, 6)\n",
       "┌────────────────┬────────────────┬──────────────┬────────────────┬────────────────┬───────────────┐\n",
       "│ Context_Name   ┆ Customer_Marit ┆ Customer_CLV ┆ Customer_City  ┆ IH_Web_Inbound ┆ Decision_Outc │\n",
       "│ ---            ┆ alStatus       ┆ ---          ┆ ---            ┆ _Accepted_pxLa ┆ ome           │\n",
       "│ str            ┆ ---            ┆ i64          ┆ str            ┆ stGr…          ┆ ---           │\n",
       "│                ┆ str            ┆              ┆                ┆ ---            ┆ str           │\n",
       "│                ┆                ┆              ┆                ┆ str            ┆               │\n",
       "╞════════════════╪════════════════╪══════════════╪════════════════╪════════════════╪═══════════════╡\n",
       "│ FirstMortgage3 ┆ Married        ┆ 1460         ┆ Port Raoul     ┆ Account        ┆ Rejected      │\n",
       "│ 0yr            ┆                ┆              ┆                ┆                ┆               │\n",
       "│ FirstMortgage3 ┆ Unknown        ┆ 669          ┆ Laurianneshire ┆ AutoLoans      ┆ Accepted      │\n",
       "│ 0yr            ┆                ┆              ┆                ┆                ┆               │\n",
       "│ MoneyMarketSav ┆ No Resp+       ┆ 1174         ┆ Jacobshaven    ┆ Account        ┆ Rejected      │\n",
       "│ ingsAccount    ┆                ┆              ┆                ┆                ┆               │\n",
       "│ BasicChecking  ┆ Unknown        ┆ 1476         ┆ Lindton        ┆ Account        ┆ Rejected      │\n",
       "│ BasicChecking  ┆ Married        ┆ 1211         ┆ South          ┆ DepositAccount ┆ Accepted      │\n",
       "│                ┆                ┆              ┆ Jimmieshire    ┆ s              ┆               │\n",
       "│ UPlusFinPerson ┆ No Resp+       ┆ 533          ┆ Bergeville     ┆ null           ┆ Rejected      │\n",
       "│ al             ┆                ┆              ┆                ┆                ┆               │\n",
       "│ BasicChecking  ┆ No Resp+       ┆ 555          ┆ Willyville     ┆ DepositAccount ┆ Rejected      │\n",
       "│                ┆                ┆              ┆                ┆ s              ┆               │\n",
       "└────────────────┴────────────────┴──────────────┴────────────────┴────────────────┴───────────────┘"
      ]
     },
     "execution_count": 3,
     "metadata": {},
     "output_type": "execute_result"
    }
   ],
   "source": [
    "pl.read_ndjson('../../../../data/SampleHDS.json')"
   ]
  },
  {
   "attachments": {},
   "cell_type": "markdown",
   "metadata": {},
   "source": [
    "As you can see, this dataset consists of regular predictors, IH predictors, context keys and the outcome column. Additionally, some columns are numeric, others are strings. Let's first initialize the DataAnonymization class."
   ]
  },
  {
   "cell_type": "code",
   "execution_count": 4,
   "metadata": {
    "execution": {
     "iopub.execute_input": "2023-11-03T17:03:32.155708Z",
     "iopub.status.busy": "2023-11-03T17:03:32.155456Z",
     "iopub.status.idle": "2023-11-03T17:03:32.166147Z",
     "shell.execute_reply": "2023-11-03T17:03:32.164983Z"
    }
   },
   "outputs": [],
   "source": [
    "anon = DataAnonymization(hds_folder='../../../../data/')"
   ]
  },
  {
   "attachments": {},
   "cell_type": "markdown",
   "metadata": {},
   "source": [
    "By default, the class applies a set of anonymisation techniques:\n",
    "- Column names are remapped to a non-descriptive name\n",
    "- Categorical values are hashed with a random seed\n",
    "- Numerical values are normalized between 0 and 1\n",
    "- Outcomes are mapped to a binary outcome.\n",
    "\n",
    "To apply these techniques, simply call `.process()`:"
   ]
  },
  {
   "cell_type": "code",
   "execution_count": 5,
   "metadata": {
    "execution": {
     "iopub.execute_input": "2023-11-03T17:03:32.168736Z",
     "iopub.status.busy": "2023-11-03T17:03:32.168526Z",
     "iopub.status.idle": "2023-11-03T17:03:32.177048Z",
     "shell.execute_reply": "2023-11-03T17:03:32.176451Z"
    }
   },
   "outputs": [
    {
     "data": {
      "text/html": [
       "<div><style>\n",
       ".dataframe > thead > tr > th,\n",
       ".dataframe > tbody > tr > td {\n",
       "  text-align: right;\n",
       "  white-space: pre-wrap;\n",
       "}\n",
       "</style>\n",
       "<small>shape: (7, 7)</small><table border=\"1\" class=\"dataframe\"><thead><tr><th>PREDICTOR_0</th><th>PREDICTOR_1</th><th>PREDICTOR_2</th><th>filename</th><th>Context_Name</th><th>IH_PREDICTOR_0</th><th>Decision_Outcome</th></tr><tr><td>str</td><td>str</td><td>f64</td><td>str</td><td>str</td><td>str</td><td>bool</td></tr></thead><tbody><tr><td>&quot;39614394611904…</td><td>&quot;98974952859542…</td><td>1.2927e19</td><td>&quot;../../../../da…</td><td>&quot;12625860503633…</td><td>&quot;37117717968132…</td><td>false</td></tr><tr><td>&quot;15234038173069…</td><td>&quot;88308720592055…</td><td>1.4856e19</td><td>&quot;../../../../da…</td><td>&quot;12625860503633…</td><td>&quot;16155238513302…</td><td>true</td></tr><tr><td>&quot;49969424881575…</td><td>&quot;13483422405507…</td><td>5.6458e17</td><td>&quot;../../../../da…</td><td>&quot;58899174680096…</td><td>&quot;37117717968132…</td><td>false</td></tr><tr><td>&quot;15506395878320…</td><td>&quot;88308720592055…</td><td>4.0723e18</td><td>&quot;../../../../da…</td><td>&quot;16383145376075…</td><td>&quot;37117717968132…</td><td>false</td></tr><tr><td>&quot;57859482805389…</td><td>&quot;98974952859542…</td><td>1.4677e19</td><td>&quot;../../../../da…</td><td>&quot;16383145376075…</td><td>&quot;38134894516732…</td><td>true</td></tr><tr><td>&quot;17666424399408…</td><td>&quot;13483422405507…</td><td>1.6330e19</td><td>&quot;../../../../da…</td><td>&quot;19910495316176…</td><td>null</td><td>false</td></tr><tr><td>&quot;69660566944120…</td><td>&quot;13483422405507…</td><td>8.7675e18</td><td>&quot;../../../../da…</td><td>&quot;16383145376075…</td><td>&quot;38134894516732…</td><td>false</td></tr></tbody></table></div>"
      ],
      "text/plain": [
       "shape: (7, 7)\n",
       "┌──────────────┬─────────────┬─────────────┬─────────────┬─────────────┬─────────────┬─────────────┐\n",
       "│ PREDICTOR_0  ┆ PREDICTOR_1 ┆ PREDICTOR_2 ┆ filename    ┆ Context_Nam ┆ IH_PREDICTO ┆ Decision_Ou │\n",
       "│ ---          ┆ ---         ┆ ---         ┆ ---         ┆ e           ┆ R_0         ┆ tcome       │\n",
       "│ str          ┆ str         ┆ f64         ┆ str         ┆ ---         ┆ ---         ┆ ---         │\n",
       "│              ┆             ┆             ┆             ┆ str         ┆ str         ┆ bool        │\n",
       "╞══════════════╪═════════════╪═════════════╪═════════════╪═════════════╪═════════════╪═════════════╡\n",
       "│ 396143946119 ┆ 98974952859 ┆ 1.2927e19   ┆ ../../../.. ┆ 12625860503 ┆ 37117717968 ┆ false       │\n",
       "│ 0489676      ┆ 54271825    ┆             ┆ /data/Sampl ┆ 633718649   ┆ 13246329    ┆             │\n",
       "│              ┆             ┆             ┆ eHDS.json   ┆             ┆             ┆             │\n",
       "│ 152340381730 ┆ 88308720592 ┆ 1.4856e19   ┆ ../../../.. ┆ 12625860503 ┆ 16155238513 ┆ true        │\n",
       "│ 69448376     ┆ 05557170    ┆             ┆ /data/Sampl ┆ 633718649   ┆ 302489204   ┆             │\n",
       "│              ┆             ┆             ┆ eHDS.json   ┆             ┆             ┆             │\n",
       "│ 499694248815 ┆ 13483422405 ┆ 5.6458e17   ┆ ../../../.. ┆ 58899174680 ┆ 37117717968 ┆ false       │\n",
       "│ 7535144      ┆ 507304448   ┆             ┆ /data/Sampl ┆ 09690026    ┆ 13246329    ┆             │\n",
       "│              ┆             ┆             ┆ eHDS.json   ┆             ┆             ┆             │\n",
       "│ 155063958783 ┆ 88308720592 ┆ 4.0723e18   ┆ ../../../.. ┆ 16383145376 ┆ 37117717968 ┆ false       │\n",
       "│ 20789098     ┆ 05557170    ┆             ┆ /data/Sampl ┆ 075331838   ┆ 13246329    ┆             │\n",
       "│              ┆             ┆             ┆ eHDS.json   ┆             ┆             ┆             │\n",
       "│ 578594828053 ┆ 98974952859 ┆ 1.4677e19   ┆ ../../../.. ┆ 16383145376 ┆ 38134894516 ┆ true        │\n",
       "│ 8961843      ┆ 54271825    ┆             ┆ /data/Sampl ┆ 075331838   ┆ 73239530    ┆             │\n",
       "│              ┆             ┆             ┆ eHDS.json   ┆             ┆             ┆             │\n",
       "│ 176664243994 ┆ 13483422405 ┆ 1.6330e19   ┆ ../../../.. ┆ 19910495316 ┆ null        ┆ false       │\n",
       "│ 0848200      ┆ 507304448   ┆             ┆ /data/Sampl ┆ 17681303    ┆             ┆             │\n",
       "│              ┆             ┆             ┆ eHDS.json   ┆             ┆             ┆             │\n",
       "│ 696605669441 ┆ 13483422405 ┆ 8.7675e18   ┆ ../../../.. ┆ 16383145376 ┆ 38134894516 ┆ false       │\n",
       "│ 2086922      ┆ 507304448   ┆             ┆ /data/Sampl ┆ 075331838   ┆ 73239530    ┆             │\n",
       "│              ┆             ┆             ┆ eHDS.json   ┆             ┆             ┆             │\n",
       "└──────────────┴─────────────┴─────────────┴─────────────┴─────────────┴─────────────┴─────────────┘"
      ]
     },
     "execution_count": 5,
     "metadata": {},
     "output_type": "execute_result"
    }
   ],
   "source": [
    "anon.process()"
   ]
  },
  {
   "attachments": {},
   "cell_type": "markdown",
   "metadata": {},
   "source": [
    "To trace back the columns to their original names, the class also contains a mapping, which does not have to be provided."
   ]
  },
  {
   "cell_type": "code",
   "execution_count": 6,
   "metadata": {
    "execution": {
     "iopub.execute_input": "2023-11-03T17:03:32.179756Z",
     "iopub.status.busy": "2023-11-03T17:03:32.179150Z",
     "iopub.status.idle": "2023-11-03T17:03:32.183094Z",
     "shell.execute_reply": "2023-11-03T17:03:32.182712Z"
    }
   },
   "outputs": [
    {
     "data": {
      "text/plain": [
       "{'Customer_City': 'PREDICTOR_0',\n",
       " 'Customer_MaritalStatus': 'PREDICTOR_1',\n",
       " 'Customer_CLV': 'PREDICTOR_2',\n",
       " 'filename': 'filename',\n",
       " 'Context_Name': 'Context_Name',\n",
       " 'IH_Web_Inbound_Accepted_pxLastGroupID': 'IH_PREDICTOR_0',\n",
       " 'Decision_Outcome': 'Decision_Outcome'}"
      ]
     },
     "execution_count": 6,
     "metadata": {},
     "output_type": "execute_result"
    }
   ],
   "source": [
    "anon.column_mapping"
   ]
  },
  {
   "attachments": {},
   "cell_type": "markdown",
   "metadata": {},
   "source": [
    "## Configs\n",
    "\n",
    "Each capability can optionally be turned off - see below for the full list of config options, and refer to the API reference for the full description."
   ]
  },
  {
   "cell_type": "code",
   "execution_count": 7,
   "metadata": {
    "execution": {
     "iopub.execute_input": "2023-11-03T17:03:32.185223Z",
     "iopub.status.busy": "2023-11-03T17:03:32.184816Z",
     "iopub.status.idle": "2023-11-03T17:03:32.189589Z",
     "shell.execute_reply": "2023-11-03T17:03:32.189214Z"
    }
   },
   "outputs": [
    {
     "data": {
      "text/plain": [
       "{'config_file': None,\n",
       " 'hds_folder': '.',\n",
       " 'use_datamart': False,\n",
       " 'datamart_folder': 'datamart',\n",
       " 'output_format': 'ndjson',\n",
       " 'output_folder': 'output',\n",
       " 'mapping_file': 'mapping.map',\n",
       " 'mask_predictor_names': True,\n",
       " 'mask_context_key_names': False,\n",
       " 'mask_ih_names': True,\n",
       " 'mask_outcome_name': False,\n",
       " 'mask_predictor_values': True,\n",
       " 'mask_context_key_values': True,\n",
       " 'mask_ih_values': True,\n",
       " 'mask_outcome_values': True,\n",
       " 'context_key_label': 'Context_*',\n",
       " 'ih_label': 'IH_*',\n",
       " 'outcome_column': 'Decision_Outcome',\n",
       " 'positive_outcomes': ['Accepted', 'Clicked'],\n",
       " 'negative_outcomes': ['Rejected', 'Impression'],\n",
       " 'special_predictors': ['Decision_DecisionTime',\n",
       "  'Decision_OutcomeTime',\n",
       "  'Decision_Rank'],\n",
       " 'sample_percentage_schema_inferencing': 0.01}"
      ]
     },
     "execution_count": 7,
     "metadata": {},
     "output_type": "execute_result"
    }
   ],
   "source": [
    "dict(zip(Config.__init__.__code__.co_varnames[1:], Config.__init__.__defaults__))"
   ]
  },
  {
   "attachments": {},
   "cell_type": "markdown",
   "metadata": {},
   "source": [
    "It's easy to change these parameters by just passing the keyword arguments. In the following example, we\n",
    "- Keep the IH predictor names\n",
    "- Keep the outcome values\n",
    "- Keep the context key values\n",
    "- Keep the context key predictor names"
   ]
  },
  {
   "cell_type": "code",
   "execution_count": 8,
   "metadata": {
    "execution": {
     "iopub.execute_input": "2023-11-03T17:03:32.191441Z",
     "iopub.status.busy": "2023-11-03T17:03:32.191120Z",
     "iopub.status.idle": "2023-11-03T17:03:32.206676Z",
     "shell.execute_reply": "2023-11-03T17:03:32.206301Z"
    }
   },
   "outputs": [
    {
     "data": {
      "text/html": [
       "<div><style>\n",
       ".dataframe > thead > tr > th,\n",
       ".dataframe > tbody > tr > td {\n",
       "  text-align: right;\n",
       "  white-space: pre-wrap;\n",
       "}\n",
       "</style>\n",
       "<small>shape: (7, 7)</small><table border=\"1\" class=\"dataframe\"><thead><tr><th>PREDICTOR_0</th><th>PREDICTOR_1</th><th>PREDICTOR_2</th><th>filename</th><th>Context_Name</th><th>IH_Web_Inbound_Accepted_pxLastGroupID</th><th>Decision_Outcome</th></tr><tr><td>str</td><td>str</td><td>f64</td><td>str</td><td>str</td><td>str</td><td>str</td></tr></thead><tbody><tr><td>&quot;24906287822007…</td><td>&quot;41923957743614…</td><td>1.2927e19</td><td>&quot;../../../../da…</td><td>&quot;FirstMortgage3…</td><td>&quot;10694444699049…</td><td>&quot;Rejected&quot;</td></tr><tr><td>&quot;16920450330872…</td><td>&quot;18372075322930…</td><td>1.4856e19</td><td>&quot;../../../../da…</td><td>&quot;FirstMortgage3…</td><td>&quot;10711748221210…</td><td>&quot;Accepted&quot;</td></tr><tr><td>&quot;17503097617606…</td><td>&quot;81044596674439…</td><td>5.6458e17</td><td>&quot;../../../../da…</td><td>&quot;MoneyMarketSav…</td><td>&quot;10694444699049…</td><td>&quot;Rejected&quot;</td></tr><tr><td>&quot;12913749763954…</td><td>&quot;18372075322930…</td><td>4.0723e18</td><td>&quot;../../../../da…</td><td>&quot;BasicChecking&quot;</td><td>&quot;10694444699049…</td><td>&quot;Rejected&quot;</td></tr><tr><td>&quot;82844023519525…</td><td>&quot;41923957743614…</td><td>1.4677e19</td><td>&quot;../../../../da…</td><td>&quot;BasicChecking&quot;</td><td>&quot;28585038371934…</td><td>&quot;Accepted&quot;</td></tr><tr><td>&quot;32506535932083…</td><td>&quot;81044596674439…</td><td>1.6330e19</td><td>&quot;../../../../da…</td><td>&quot;UPlusFinPerson…</td><td>null</td><td>&quot;Rejected&quot;</td></tr><tr><td>&quot;74000969213362…</td><td>&quot;81044596674439…</td><td>8.7675e18</td><td>&quot;../../../../da…</td><td>&quot;BasicChecking&quot;</td><td>&quot;28585038371934…</td><td>&quot;Rejected&quot;</td></tr></tbody></table></div>"
      ],
      "text/plain": [
       "shape: (7, 7)\n",
       "┌──────────────┬─────────────┬─────────────┬─────────────┬─────────────┬─────────────┬─────────────┐\n",
       "│ PREDICTOR_0  ┆ PREDICTOR_1 ┆ PREDICTOR_2 ┆ filename    ┆ Context_Nam ┆ IH_Web_Inbo ┆ Decision_Ou │\n",
       "│ ---          ┆ ---         ┆ ---         ┆ ---         ┆ e           ┆ und_Accepte ┆ tcome       │\n",
       "│ str          ┆ str         ┆ f64         ┆ str         ┆ ---         ┆ d_pxLastGr… ┆ ---         │\n",
       "│              ┆             ┆             ┆             ┆ str         ┆ ---         ┆ str         │\n",
       "│              ┆             ┆             ┆             ┆             ┆ str         ┆             │\n",
       "╞══════════════╪═════════════╪═════════════╪═════════════╪═════════════╪═════════════╪═════════════╡\n",
       "│ 249062878220 ┆ 41923957743 ┆ 1.2927e19   ┆ ../../../.. ┆ FirstMortga ┆ 10694444699 ┆ Rejected    │\n",
       "│ 0772985      ┆ 61496995    ┆             ┆ /data/Sampl ┆ ge30yr      ┆ 049458697   ┆             │\n",
       "│              ┆             ┆             ┆ eHDS.json   ┆             ┆             ┆             │\n",
       "│ 169204503308 ┆ 18372075322 ┆ 1.4856e19   ┆ ../../../.. ┆ FirstMortga ┆ 10711748221 ┆ Accepted    │\n",
       "│ 72446629     ┆ 930390053   ┆             ┆ /data/Sampl ┆ ge30yr      ┆ 210041020   ┆             │\n",
       "│              ┆             ┆             ┆ eHDS.json   ┆             ┆             ┆             │\n",
       "│ 175030976176 ┆ 81044596674 ┆ 5.6458e17   ┆ ../../../.. ┆ MoneyMarket ┆ 10694444699 ┆ Rejected    │\n",
       "│ 0681947      ┆ 4394275     ┆             ┆ /data/Sampl ┆ SavingsAcco ┆ 049458697   ┆             │\n",
       "│              ┆             ┆             ┆ eHDS.json   ┆ unt         ┆             ┆             │\n",
       "│ 129137497639 ┆ 18372075322 ┆ 4.0723e18   ┆ ../../../.. ┆ BasicChecki ┆ 10694444699 ┆ Rejected    │\n",
       "│ 54468901     ┆ 930390053   ┆             ┆ /data/Sampl ┆ ng          ┆ 049458697   ┆             │\n",
       "│              ┆             ┆             ┆ eHDS.json   ┆             ┆             ┆             │\n",
       "│ 828440235195 ┆ 41923957743 ┆ 1.4677e19   ┆ ../../../.. ┆ BasicChecki ┆ 28585038371 ┆ Accepted    │\n",
       "│ 256694       ┆ 61496995    ┆             ┆ /data/Sampl ┆ ng          ┆ 9340548     ┆             │\n",
       "│              ┆             ┆             ┆ eHDS.json   ┆             ┆             ┆             │\n",
       "│ 325065359320 ┆ 81044596674 ┆ 1.6330e19   ┆ ../../../.. ┆ UPlusFinPer ┆ null        ┆ Rejected    │\n",
       "│ 8333751      ┆ 4394275     ┆             ┆ /data/Sampl ┆ sonal       ┆             ┆             │\n",
       "│              ┆             ┆             ┆ eHDS.json   ┆             ┆             ┆             │\n",
       "│ 740009692133 ┆ 81044596674 ┆ 8.7675e18   ┆ ../../../.. ┆ BasicChecki ┆ 28585038371 ┆ Rejected    │\n",
       "│ 6224702      ┆ 4394275     ┆             ┆ /data/Sampl ┆ ng          ┆ 9340548     ┆             │\n",
       "│              ┆             ┆             ┆ eHDS.json   ┆             ┆             ┆             │\n",
       "└──────────────┴─────────────┴─────────────┴─────────────┴─────────────┴─────────────┴─────────────┘"
      ]
     },
     "execution_count": 8,
     "metadata": {},
     "output_type": "execute_result"
    }
   ],
   "source": [
    "anon = DataAnonymization(\n",
    "    hds_folder=\"../../../../data/\",\n",
    "    mask_ih_names=False,\n",
    "    mask_outcome_values=False,\n",
    "    mask_context_key_values=False,\n",
    "    mask_context_key_names=False,\n",
    ")\n",
    "anon.process()\n"
   ]
  },
  {
   "attachments": {},
   "cell_type": "markdown",
   "metadata": {},
   "source": [
    "The configs can also be written and read as such:"
   ]
  },
  {
   "cell_type": "code",
   "execution_count": 9,
   "metadata": {
    "execution": {
     "iopub.execute_input": "2023-11-03T17:03:32.209387Z",
     "iopub.status.busy": "2023-11-03T17:03:32.208659Z",
     "iopub.status.idle": "2023-11-03T17:03:32.211917Z",
     "shell.execute_reply": "2023-11-03T17:03:32.211493Z"
    }
   },
   "outputs": [],
   "source": [
    "anon.config.save_to_config_file('config.json')"
   ]
  },
  {
   "cell_type": "code",
   "execution_count": 10,
   "metadata": {
    "execution": {
     "iopub.execute_input": "2023-11-03T17:03:32.213767Z",
     "iopub.status.busy": "2023-11-03T17:03:32.213463Z",
     "iopub.status.idle": "2023-11-03T17:03:32.228446Z",
     "shell.execute_reply": "2023-11-03T17:03:32.227915Z"
    }
   },
   "outputs": [
    {
     "data": {
      "text/html": [
       "<div><style>\n",
       ".dataframe > thead > tr > th,\n",
       ".dataframe > tbody > tr > td {\n",
       "  text-align: right;\n",
       "  white-space: pre-wrap;\n",
       "}\n",
       "</style>\n",
       "<small>shape: (7, 7)</small><table border=\"1\" class=\"dataframe\"><thead><tr><th>PREDICTOR_0</th><th>PREDICTOR_1</th><th>PREDICTOR_2</th><th>filename</th><th>Context_Name</th><th>IH_Web_Inbound_Accepted_pxLastGroupID</th><th>Decision_Outcome</th></tr><tr><td>str</td><td>str</td><td>f64</td><td>str</td><td>str</td><td>str</td><td>str</td></tr></thead><tbody><tr><td>&quot;82587065948713…</td><td>&quot;21425229165987…</td><td>1.2927e19</td><td>&quot;../../../../da…</td><td>&quot;FirstMortgage3…</td><td>&quot;17461492197842…</td><td>&quot;Rejected&quot;</td></tr><tr><td>&quot;12449034186719…</td><td>&quot;18305619675034…</td><td>1.4856e19</td><td>&quot;../../../../da…</td><td>&quot;FirstMortgage3…</td><td>&quot;14240636017869…</td><td>&quot;Accepted&quot;</td></tr><tr><td>&quot;14680153896357…</td><td>&quot;41123443433542…</td><td>5.6458e17</td><td>&quot;../../../../da…</td><td>&quot;MoneyMarketSav…</td><td>&quot;17461492197842…</td><td>&quot;Rejected&quot;</td></tr><tr><td>&quot;10030003527024…</td><td>&quot;18305619675034…</td><td>4.0723e18</td><td>&quot;../../../../da…</td><td>&quot;BasicChecking&quot;</td><td>&quot;17461492197842…</td><td>&quot;Rejected&quot;</td></tr><tr><td>&quot;15736682729849…</td><td>&quot;21425229165987…</td><td>1.4677e19</td><td>&quot;../../../../da…</td><td>&quot;BasicChecking&quot;</td><td>&quot;49072358533906…</td><td>&quot;Accepted&quot;</td></tr><tr><td>&quot;22637276770428…</td><td>&quot;41123443433542…</td><td>1.6330e19</td><td>&quot;../../../../da…</td><td>&quot;UPlusFinPerson…</td><td>null</td><td>&quot;Rejected&quot;</td></tr><tr><td>&quot;13470607066337…</td><td>&quot;41123443433542…</td><td>8.7675e18</td><td>&quot;../../../../da…</td><td>&quot;BasicChecking&quot;</td><td>&quot;49072358533906…</td><td>&quot;Rejected&quot;</td></tr></tbody></table></div>"
      ],
      "text/plain": [
       "shape: (7, 7)\n",
       "┌──────────────┬─────────────┬─────────────┬─────────────┬─────────────┬─────────────┬─────────────┐\n",
       "│ PREDICTOR_0  ┆ PREDICTOR_1 ┆ PREDICTOR_2 ┆ filename    ┆ Context_Nam ┆ IH_Web_Inbo ┆ Decision_Ou │\n",
       "│ ---          ┆ ---         ┆ ---         ┆ ---         ┆ e           ┆ und_Accepte ┆ tcome       │\n",
       "│ str          ┆ str         ┆ f64         ┆ str         ┆ ---         ┆ d_pxLastGr… ┆ ---         │\n",
       "│              ┆             ┆             ┆             ┆ str         ┆ ---         ┆ str         │\n",
       "│              ┆             ┆             ┆             ┆             ┆ str         ┆             │\n",
       "╞══════════════╪═════════════╪═════════════╪═════════════╪═════════════╪═════════════╪═════════════╡\n",
       "│ 825870659487 ┆ 21425229165 ┆ 1.2927e19   ┆ ../../../.. ┆ FirstMortga ┆ 17461492197 ┆ Rejected    │\n",
       "│ 1386095      ┆ 98736642    ┆             ┆ /data/Sampl ┆ ge30yr      ┆ 8425180     ┆             │\n",
       "│              ┆             ┆             ┆ eHDS.json   ┆             ┆             ┆             │\n",
       "│ 124490341867 ┆ 18305619675 ┆ 1.4856e19   ┆ ../../../.. ┆ FirstMortga ┆ 14240636017 ┆ Accepted    │\n",
       "│ 19513861     ┆ 034812046   ┆             ┆ /data/Sampl ┆ ge30yr      ┆ 869162896   ┆             │\n",
       "│              ┆             ┆             ┆ eHDS.json   ┆             ┆             ┆             │\n",
       "│ 146801538963 ┆ 41123443433 ┆ 5.6458e17   ┆ ../../../.. ┆ MoneyMarket ┆ 17461492197 ┆ Rejected    │\n",
       "│ 57283673     ┆ 5426629     ┆             ┆ /data/Sampl ┆ SavingsAcco ┆ 8425180     ┆             │\n",
       "│              ┆             ┆             ┆ eHDS.json   ┆ unt         ┆             ┆             │\n",
       "│ 100300035270 ┆ 18305619675 ┆ 4.0723e18   ┆ ../../../.. ┆ BasicChecki ┆ 17461492197 ┆ Rejected    │\n",
       "│ 24283762     ┆ 034812046   ┆             ┆ /data/Sampl ┆ ng          ┆ 8425180     ┆             │\n",
       "│              ┆             ┆             ┆ eHDS.json   ┆             ┆             ┆             │\n",
       "│ 157366827298 ┆ 21425229165 ┆ 1.4677e19   ┆ ../../../.. ┆ BasicChecki ┆ 49072358533 ┆ Accepted    │\n",
       "│ 49753353     ┆ 98736642    ┆             ┆ /data/Sampl ┆ ng          ┆ 90679166    ┆             │\n",
       "│              ┆             ┆             ┆ eHDS.json   ┆             ┆             ┆             │\n",
       "│ 226372767704 ┆ 41123443433 ┆ 1.6330e19   ┆ ../../../.. ┆ UPlusFinPer ┆ null        ┆ Rejected    │\n",
       "│ 2884999      ┆ 5426629     ┆             ┆ /data/Sampl ┆ sonal       ┆             ┆             │\n",
       "│              ┆             ┆             ┆ eHDS.json   ┆             ┆             ┆             │\n",
       "│ 134706070663 ┆ 41123443433 ┆ 8.7675e18   ┆ ../../../.. ┆ BasicChecki ┆ 49072358533 ┆ Rejected    │\n",
       "│ 37933520     ┆ 5426629     ┆             ┆ /data/Sampl ┆ ng          ┆ 90679166    ┆             │\n",
       "│              ┆             ┆             ┆ eHDS.json   ┆             ┆             ┆             │\n",
       "└──────────────┴─────────────┴─────────────┴─────────────┴─────────────┴─────────────┴─────────────┘"
      ]
     },
     "execution_count": 10,
     "metadata": {},
     "output_type": "execute_result"
    }
   ],
   "source": [
    "anon = DataAnonymization(config=Config(config_file='config.json'))\n",
    "anon.process()"
   ]
  },
  {
   "attachments": {},
   "cell_type": "markdown",
   "metadata": {},
   "source": [
    "## Exporting\n",
    "Two functions export:\n",
    "- `create_mapping_file()` writes the mapping file of the predictor names\n",
    "- `write_to_output()` writes the processed dataframe to disk\n",
    "\n",
    "Write to output accepts the following extensions: `[\"ndjson\", \"parquet\", \"arrow\", \"csv\"]`"
   ]
  },
  {
   "cell_type": "code",
   "execution_count": 11,
   "metadata": {
    "execution": {
     "iopub.execute_input": "2023-11-03T17:03:32.230569Z",
     "iopub.status.busy": "2023-11-03T17:03:32.230136Z",
     "iopub.status.idle": "2023-11-03T17:03:32.233457Z",
     "shell.execute_reply": "2023-11-03T17:03:32.233036Z"
    }
   },
   "outputs": [
    {
     "name": "stdout",
     "output_type": "stream",
     "text": [
      "Customer_City=PREDICTOR_0\n",
      "Customer_MaritalStatus=PREDICTOR_1\n",
      "Customer_CLV=PREDICTOR_2\n",
      "filename=filename\n",
      "Context_Name=Context_Name\n",
      "IH_Web_Inbound_Accepted_pxLastGroupID=IH_Web_Inbound_Accepted_pxLastGroupID\n",
      "Decision_Outcome=Decision_Outcome\n",
      "\n"
     ]
    }
   ],
   "source": [
    "anon.create_mapping_file()\n",
    "with open('mapping.map') as f:\n",
    "    print(f.read())"
   ]
  },
  {
   "cell_type": "code",
   "execution_count": 12,
   "metadata": {
    "execution": {
     "iopub.execute_input": "2023-11-03T17:03:32.235967Z",
     "iopub.status.busy": "2023-11-03T17:03:32.235440Z",
     "iopub.status.idle": "2023-11-03T17:03:32.240282Z",
     "shell.execute_reply": "2023-11-03T17:03:32.239082Z"
    }
   },
   "outputs": [],
   "source": [
    "anon.write_to_output(ext='arrow')"
   ]
  },
  {
   "cell_type": "code",
   "execution_count": 13,
   "metadata": {
    "execution": {
     "iopub.execute_input": "2023-11-03T17:03:32.242331Z",
     "iopub.status.busy": "2023-11-03T17:03:32.241865Z",
     "iopub.status.idle": "2023-11-03T17:03:32.245932Z",
     "shell.execute_reply": "2023-11-03T17:03:32.245509Z"
    }
   },
   "outputs": [
    {
     "data": {
      "text/html": [
       "<div><style>\n",
       ".dataframe > thead > tr > th,\n",
       ".dataframe > tbody > tr > td {\n",
       "  text-align: right;\n",
       "  white-space: pre-wrap;\n",
       "}\n",
       "</style>\n",
       "<small>shape: (7, 6)</small><table border=\"1\" class=\"dataframe\"><thead><tr><th>PREDICTOR_0</th><th>PREDICTOR_1</th><th>PREDICTOR_2</th><th>Context_Name</th><th>IH_Web_Inbound_Accepted_pxLastGroupID</th><th>Decision_Outcome</th></tr><tr><td>str</td><td>str</td><td>f64</td><td>str</td><td>str</td><td>str</td></tr></thead><tbody><tr><td>&quot;12974584836859…</td><td>&quot;10124454860364…</td><td>1.2927e19</td><td>&quot;FirstMortgage3…</td><td>&quot;12878186021907…</td><td>&quot;Rejected&quot;</td></tr><tr><td>&quot;20131286213001…</td><td>&quot;17267845986325…</td><td>1.4856e19</td><td>&quot;FirstMortgage3…</td><td>&quot;16258678085361…</td><td>&quot;Accepted&quot;</td></tr><tr><td>&quot;46531680358044…</td><td>&quot;10162716038494…</td><td>5.6458e17</td><td>&quot;MoneyMarketSav…</td><td>&quot;12878186021907…</td><td>&quot;Rejected&quot;</td></tr><tr><td>&quot;48239023461650…</td><td>&quot;17267845986325…</td><td>4.0723e18</td><td>&quot;BasicChecking&quot;</td><td>&quot;12878186021907…</td><td>&quot;Rejected&quot;</td></tr><tr><td>&quot;91613172251530…</td><td>&quot;10124454860364…</td><td>1.4677e19</td><td>&quot;BasicChecking&quot;</td><td>&quot;15172295135836…</td><td>&quot;Accepted&quot;</td></tr><tr><td>&quot;36007618774920…</td><td>&quot;10162716038494…</td><td>1.6330e19</td><td>&quot;UPlusFinPerson…</td><td>null</td><td>&quot;Rejected&quot;</td></tr><tr><td>&quot;45222118156308…</td><td>&quot;10162716038494…</td><td>8.7675e18</td><td>&quot;BasicChecking&quot;</td><td>&quot;15172295135836…</td><td>&quot;Rejected&quot;</td></tr></tbody></table></div>"
      ],
      "text/plain": [
       "shape: (7, 6)\n",
       "┌────────────────┬────────────────┬─────────────┬────────────────┬────────────────┬────────────────┐\n",
       "│ PREDICTOR_0    ┆ PREDICTOR_1    ┆ PREDICTOR_2 ┆ Context_Name   ┆ IH_Web_Inbound ┆ Decision_Outco │\n",
       "│ ---            ┆ ---            ┆ ---         ┆ ---            ┆ _Accepted_pxLa ┆ me             │\n",
       "│ str            ┆ str            ┆ f64         ┆ str            ┆ stGr…          ┆ ---            │\n",
       "│                ┆                ┆             ┆                ┆ ---            ┆ str            │\n",
       "│                ┆                ┆             ┆                ┆ str            ┆                │\n",
       "╞════════════════╪════════════════╪═════════════╪════════════════╪════════════════╪════════════════╡\n",
       "│ 12974584836859 ┆ 10124454860364 ┆ 1.2927e19   ┆ FirstMortgage3 ┆ 12878186021907 ┆ Rejected       │\n",
       "│ 349311         ┆ 333943         ┆             ┆ 0yr            ┆ 751695         ┆                │\n",
       "│ 20131286213001 ┆ 17267845986325 ┆ 1.4856e19   ┆ FirstMortgage3 ┆ 16258678085361 ┆ Accepted       │\n",
       "│ 34710          ┆ 337739         ┆             ┆ 0yr            ┆ 150973         ┆                │\n",
       "│ 46531680358044 ┆ 10162716038494 ┆ 5.6458e17   ┆ MoneyMarketSav ┆ 12878186021907 ┆ Rejected       │\n",
       "│ 7569           ┆ 812334         ┆             ┆ ingsAccount    ┆ 751695         ┆                │\n",
       "│ 48239023461650 ┆ 17267845986325 ┆ 4.0723e18   ┆ BasicChecking  ┆ 12878186021907 ┆ Rejected       │\n",
       "│ 4858           ┆ 337739         ┆             ┆                ┆ 751695         ┆                │\n",
       "│ 91613172251530 ┆ 10124454860364 ┆ 1.4677e19   ┆ BasicChecking  ┆ 15172295135836 ┆ Accepted       │\n",
       "│ 71250          ┆ 333943         ┆             ┆                ┆ 242497         ┆                │\n",
       "│ 36007618774920 ┆ 10162716038494 ┆ 1.6330e19   ┆ UPlusFinPerson ┆ null           ┆ Rejected       │\n",
       "│ 59918          ┆ 812334         ┆             ┆ al             ┆                ┆                │\n",
       "│ 45222118156308 ┆ 10162716038494 ┆ 8.7675e18   ┆ BasicChecking  ┆ 15172295135836 ┆ Rejected       │\n",
       "│ 79203          ┆ 812334         ┆             ┆                ┆ 242497         ┆                │\n",
       "└────────────────┴────────────────┴─────────────┴────────────────┴────────────────┴────────────────┘"
      ]
     },
     "execution_count": 13,
     "metadata": {},
     "output_type": "execute_result"
    }
   ],
   "source": [
    "pl.read_ipc('output/hds.arrow')"
   ]
  },
  {
   "attachments": {},
   "cell_type": "markdown",
   "metadata": {
    "nbsphinx": "hidden"
   },
   "source": [
    "## Advanced: Hash fuctions\n",
    "\n",
    "By default, we use [the same hashing algorithm Polars](https://pola-rs.github.io/polars/py-polars/html/reference/expressions/api/polars.Expr.hash.html#polars.Expr.hash) uses: [xxhash](https://github.com/Cyan4973/xxHash), as implemented [here](https://github.com/pola-rs/polars/blob/3f287f370b3c388ed2f3f218b2c096382548136f/polars/polars-core/src/vector_hasher.rs#L266). xxhash is fast to compute, and you can check its performance in collision, dispersion and randomness [here](https://github.com/Cyan4973/xxHash/tree/dev/tests). \n",
    "\n",
    "xxhash accepts four distinct seeds, but by default we set the seeds to `0`. It is possible to set the `seed` argument of the `process()` function to `'random'`, which will set all four seeds to a random integer between `0` and `1000000000`. Alternatively, it is possible to supply the four seeds manually with arguments `seed`, `seed_1`, `seed_2` and `seed_3`. \n",
    "\n",
    "If the xxhash with (random) seed(s) is not deemed sufficiently secure, it is possible to use your own hashing algorithm.\n",
    "\n",
    "Note that since we're now running python code and not native Polars code anymore, this will be _significantly_ slower. Nonetheless, it is possible.\n",
    "\n",
    "Just as an example - this is how one would use sha3_256:"
   ]
  },
  {
   "cell_type": "code",
   "execution_count": 14,
   "metadata": {
    "execution": {
     "iopub.execute_input": "2023-11-03T17:03:32.247894Z",
     "iopub.status.busy": "2023-11-03T17:03:32.247589Z",
     "iopub.status.idle": "2023-11-03T17:03:32.648736Z",
     "shell.execute_reply": "2023-11-03T17:03:32.647757Z"
    },
    "nbsphinx": "hidden"
   },
   "outputs": [
    {
     "ename": "ComputeError",
     "evalue": "AttributeError: 'int' object has no attribute 'encode'",
     "output_type": "error",
     "traceback": [
      "\u001b[0;31m---------------------------------------------------------------------------\u001b[0m",
      "\u001b[0;31mComputeError\u001b[0m                              Traceback (most recent call last)",
      "Cell \u001b[0;32mIn[14], line 3\u001b[0m\n\u001b[1;32m      1\u001b[0m \u001b[38;5;28;01mfrom\u001b[39;00m \u001b[38;5;21;01mhashlib\u001b[39;00m \u001b[38;5;28;01mimport\u001b[39;00m sha3_256\n\u001b[0;32m----> 3\u001b[0m \u001b[43manon\u001b[49m\u001b[38;5;241;43m.\u001b[39;49m\u001b[43mprocess\u001b[49m\u001b[43m(\u001b[49m\u001b[43malgorithm\u001b[49m\u001b[38;5;241;43m=\u001b[39;49m\u001b[38;5;28;43;01mlambda\u001b[39;49;00m\u001b[43m \u001b[49m\u001b[43mx\u001b[49m\u001b[43m:\u001b[49m\u001b[43m \u001b[49m\u001b[43msha3_256\u001b[49m\u001b[43m(\u001b[49m\u001b[43mx\u001b[49m\u001b[38;5;241;43m.\u001b[39;49m\u001b[43mencode\u001b[49m\u001b[43m(\u001b[49m\u001b[43m)\u001b[49m\u001b[43m)\u001b[49m\u001b[38;5;241;43m.\u001b[39;49m\u001b[43mhexdigest\u001b[49m\u001b[43m(\u001b[49m\u001b[43m)\u001b[49m\u001b[43m)\u001b[49m\n",
      "File \u001b[0;32m~/work/pega-datascientist-tools/pega-datascientist-tools/python/docs/source/articles/../../../pdstools/utils/hds_utils.py:516\u001b[0m, in \u001b[0;36mDataAnonymization.process\u001b[0;34m(self, strategy, **kwargs)\u001b[0m\n\u001b[1;32m    514\u001b[0m df \u001b[38;5;241m=\u001b[39m df\u001b[38;5;241m.\u001b[39mselect(\u001b[38;5;28mself\u001b[39m\u001b[38;5;241m.\u001b[39mcolumn_mapping\u001b[38;5;241m.\u001b[39mkeys())\u001b[38;5;241m.\u001b[39mrename(\u001b[38;5;28mself\u001b[39m\u001b[38;5;241m.\u001b[39mcolumn_mapping)\n\u001b[1;32m    515\u001b[0m \u001b[38;5;28;01mif\u001b[39;00m strategy \u001b[38;5;241m==\u001b[39m \u001b[38;5;124m\"\u001b[39m\u001b[38;5;124meager\u001b[39m\u001b[38;5;124m\"\u001b[39m:\n\u001b[0;32m--> 516\u001b[0m     \u001b[38;5;28;01mreturn\u001b[39;00m \u001b[43mdf\u001b[49m\u001b[38;5;241;43m.\u001b[39;49m\u001b[43mcollect\u001b[49m\u001b[43m(\u001b[49m\u001b[43m)\u001b[49m\n\u001b[1;32m    517\u001b[0m \u001b[38;5;28;01mreturn\u001b[39;00m df\n",
      "File \u001b[0;32m/opt/hostedtoolcache/Python/3.11.6/x64/lib/python3.11/site-packages/polars/utils/deprecation.py:95\u001b[0m, in \u001b[0;36mdeprecate_renamed_parameter.<locals>.decorate.<locals>.wrapper\u001b[0;34m(*args, **kwargs)\u001b[0m\n\u001b[1;32m     90\u001b[0m \u001b[38;5;129m@wraps\u001b[39m(function)\n\u001b[1;32m     91\u001b[0m \u001b[38;5;28;01mdef\u001b[39;00m \u001b[38;5;21mwrapper\u001b[39m(\u001b[38;5;241m*\u001b[39margs: P\u001b[38;5;241m.\u001b[39margs, \u001b[38;5;241m*\u001b[39m\u001b[38;5;241m*\u001b[39mkwargs: P\u001b[38;5;241m.\u001b[39mkwargs) \u001b[38;5;241m-\u001b[39m\u001b[38;5;241m>\u001b[39m T:\n\u001b[1;32m     92\u001b[0m     _rename_keyword_argument(\n\u001b[1;32m     93\u001b[0m         old_name, new_name, kwargs, function\u001b[38;5;241m.\u001b[39m\u001b[38;5;18m__name__\u001b[39m, version\n\u001b[1;32m     94\u001b[0m     )\n\u001b[0;32m---> 95\u001b[0m     \u001b[38;5;28;01mreturn\u001b[39;00m \u001b[43mfunction\u001b[49m\u001b[43m(\u001b[49m\u001b[38;5;241;43m*\u001b[39;49m\u001b[43margs\u001b[49m\u001b[43m,\u001b[49m\u001b[43m \u001b[49m\u001b[38;5;241;43m*\u001b[39;49m\u001b[38;5;241;43m*\u001b[39;49m\u001b[43mkwargs\u001b[49m\u001b[43m)\u001b[49m\n",
      "File \u001b[0;32m/opt/hostedtoolcache/Python/3.11.6/x64/lib/python3.11/site-packages/polars/lazyframe/frame.py:1711\u001b[0m, in \u001b[0;36mLazyFrame.collect\u001b[0;34m(self, type_coercion, predicate_pushdown, projection_pushdown, simplify_expression, no_optimization, slice_pushdown, comm_subplan_elim, comm_subexpr_elim, streaming, **kwargs)\u001b[0m\n\u001b[1;32m   1698\u001b[0m     comm_subplan_elim \u001b[38;5;241m=\u001b[39m \u001b[38;5;28;01mFalse\u001b[39;00m\n\u001b[1;32m   1700\u001b[0m ldf \u001b[38;5;241m=\u001b[39m \u001b[38;5;28mself\u001b[39m\u001b[38;5;241m.\u001b[39m_ldf\u001b[38;5;241m.\u001b[39moptimization_toggle(\n\u001b[1;32m   1701\u001b[0m     type_coercion,\n\u001b[1;32m   1702\u001b[0m     predicate_pushdown,\n\u001b[0;32m   (...)\u001b[0m\n\u001b[1;32m   1709\u001b[0m     eager,\n\u001b[1;32m   1710\u001b[0m )\n\u001b[0;32m-> 1711\u001b[0m \u001b[38;5;28;01mreturn\u001b[39;00m wrap_df(ldf\u001b[38;5;241m.\u001b[39mcollect())\n",
      "\u001b[0;31mComputeError\u001b[0m: AttributeError: 'int' object has no attribute 'encode'"
     ]
    }
   ],
   "source": [
    "from hashlib import sha3_256\n",
    "\n",
    "anon.process(algorithm=lambda x: sha3_256(x.encode()).hexdigest())"
   ]
  }
 ],
 "metadata": {
  "kernelspec": {
   "display_name": "Python 3",
   "language": "python",
   "name": "python3"
  },
  "language_info": {
   "codemirror_mode": {
    "name": "ipython",
    "version": 3
   },
   "file_extension": ".py",
   "mimetype": "text/x-python",
   "name": "python",
   "nbconvert_exporter": "python",
   "pygments_lexer": "ipython3",
   "version": "3.11.6"
  },
  "vscode": {
   "interpreter": {
    "hash": "aee8b7b246df8f9039afb4144a1f6fd8d2ca17a180786b69acc140d282b71a49"
   }
  }
 },
 "nbformat": 4,
 "nbformat_minor": 2
}
