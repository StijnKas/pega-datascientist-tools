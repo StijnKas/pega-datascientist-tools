{
 "cells": [
  {
   "attachments": {},
   "cell_type": "markdown",
   "metadata": {},
   "source": [
    "# Example data anonymization\n",
    "\n",
    "In Pega CDH 8.5 and up, it's now possible to record the historical data as seen by the Adaptive Models. See [this academy challenge](https://academy.pega.com/challenge/exporting-historical-data/v4) for reference. This historical data can be further used to experiment with offline models, but also to fine-tune the OOTB Gradient Boosting model. However, sharing this information with Pega can be sensitive as it contains raw predictor data. \n",
    "\n",
    "To this end, we provide a simple and transparent script to fully anonimize this dataset.\n",
    "\n",
    "The DataAnonymization script is now part of pdstools, and you can import it directly as such."
   ]
  },
  {
   "cell_type": "code",
   "execution_count": 1,
   "metadata": {
    "execution": {
     "iopub.execute_input": "2023-07-06T09:22:16.869513Z",
     "iopub.status.busy": "2023-07-06T09:22:16.869256Z",
     "iopub.status.idle": "2023-07-06T09:22:16.877567Z",
     "shell.execute_reply": "2023-07-06T09:22:16.876805Z"
    },
    "nbsphinx": "hidden"
   },
   "outputs": [],
   "source": [
    "# These lines are only for rendering in the docs, and are hidden through Jupyter tags\n",
    "# Do not run if you're running the notebook seperately\n",
    "\n",
    "import sys\n",
    "sys.path.append('../../../')"
   ]
  },
  {
   "cell_type": "code",
   "execution_count": 2,
   "metadata": {
    "execution": {
     "iopub.execute_input": "2023-07-06T09:22:16.880951Z",
     "iopub.status.busy": "2023-07-06T09:22:16.880439Z",
     "iopub.status.idle": "2023-07-06T09:22:18.317042Z",
     "shell.execute_reply": "2023-07-06T09:22:18.316202Z"
    }
   },
   "outputs": [],
   "source": [
    "from pdstools import ADMDatamart\n",
    "from pdstools import Config, DataAnonymization\n",
    "import polars as pl"
   ]
  },
  {
   "attachments": {},
   "cell_type": "markdown",
   "metadata": {},
   "source": [
    "## Input data\n",
    "\n",
    "To demonstrate this process, we're going to anonymise this toy example dataframe:"
   ]
  },
  {
   "cell_type": "code",
   "execution_count": 3,
   "metadata": {
    "execution": {
     "iopub.execute_input": "2023-07-06T09:22:18.321270Z",
     "iopub.status.busy": "2023-07-06T09:22:18.320683Z",
     "iopub.status.idle": "2023-07-06T09:22:18.333660Z",
     "shell.execute_reply": "2023-07-06T09:22:18.333012Z"
    }
   },
   "outputs": [
    {
     "data": {
      "text/html": [
       "<div><style>\n",
       ".dataframe > thead > tr > th,\n",
       ".dataframe > tbody > tr > td {\n",
       "  text-align: right;\n",
       "}\n",
       "</style>\n",
       "<small>shape: (7, 6)</small><table border=\"1\" class=\"dataframe\"><thead><tr><th>Context_Name</th><th>Customer_MaritalStatus</th><th>Customer_CLV</th><th>Customer_City</th><th>IH_Web_Inbound_Accepted_pxLastGroupID</th><th>Decision_Outcome</th></tr><tr><td>str</td><td>str</td><td>i64</td><td>str</td><td>str</td><td>str</td></tr></thead><tbody><tr><td>&quot;FirstMortgage3…</td><td>&quot;Married&quot;</td><td>1460</td><td>&quot;Port Raoul&quot;</td><td>&quot;Account&quot;</td><td>&quot;Rejected&quot;</td></tr><tr><td>&quot;FirstMortgage3…</td><td>&quot;Unknown&quot;</td><td>669</td><td>&quot;Laurianneshire…</td><td>&quot;AutoLoans&quot;</td><td>&quot;Accepted&quot;</td></tr><tr><td>&quot;MoneyMarketSav…</td><td>&quot;No Resp+&quot;</td><td>1174</td><td>&quot;Jacobshaven&quot;</td><td>&quot;Account&quot;</td><td>&quot;Rejected&quot;</td></tr><tr><td>&quot;BasicChecking&quot;</td><td>&quot;Unknown&quot;</td><td>1476</td><td>&quot;Lindton&quot;</td><td>&quot;Account&quot;</td><td>&quot;Rejected&quot;</td></tr><tr><td>&quot;BasicChecking&quot;</td><td>&quot;Married&quot;</td><td>1211</td><td>&quot;South Jimmiesh…</td><td>&quot;DepositAccount…</td><td>&quot;Accepted&quot;</td></tr><tr><td>&quot;UPlusFinPerson…</td><td>&quot;No Resp+&quot;</td><td>533</td><td>&quot;Bergeville&quot;</td><td>null</td><td>&quot;Rejected&quot;</td></tr><tr><td>&quot;BasicChecking&quot;</td><td>&quot;No Resp+&quot;</td><td>555</td><td>&quot;Willyville&quot;</td><td>&quot;DepositAccount…</td><td>&quot;Rejected&quot;</td></tr></tbody></table></div>"
      ],
      "text/plain": [
       "shape: (7, 6)\n",
       "┌────────────────┬────────────────┬──────────────┬────────────────┬────────────────┬───────────────┐\n",
       "│ Context_Name   ┆ Customer_Marit ┆ Customer_CLV ┆ Customer_City  ┆ IH_Web_Inbound ┆ Decision_Outc │\n",
       "│ ---            ┆ alStatus       ┆ ---          ┆ ---            ┆ _Accepted_pxLa ┆ ome           │\n",
       "│ str            ┆ ---            ┆ i64          ┆ str            ┆ stGr…          ┆ ---           │\n",
       "│                ┆ str            ┆              ┆                ┆ ---            ┆ str           │\n",
       "│                ┆                ┆              ┆                ┆ str            ┆               │\n",
       "╞════════════════╪════════════════╪══════════════╪════════════════╪════════════════╪═══════════════╡\n",
       "│ FirstMortgage3 ┆ Married        ┆ 1460         ┆ Port Raoul     ┆ Account        ┆ Rejected      │\n",
       "│ 0yr            ┆                ┆              ┆                ┆                ┆               │\n",
       "│ FirstMortgage3 ┆ Unknown        ┆ 669          ┆ Laurianneshire ┆ AutoLoans      ┆ Accepted      │\n",
       "│ 0yr            ┆                ┆              ┆                ┆                ┆               │\n",
       "│ MoneyMarketSav ┆ No Resp+       ┆ 1174         ┆ Jacobshaven    ┆ Account        ┆ Rejected      │\n",
       "│ ingsAccount    ┆                ┆              ┆                ┆                ┆               │\n",
       "│ BasicChecking  ┆ Unknown        ┆ 1476         ┆ Lindton        ┆ Account        ┆ Rejected      │\n",
       "│ BasicChecking  ┆ Married        ┆ 1211         ┆ South          ┆ DepositAccount ┆ Accepted      │\n",
       "│                ┆                ┆              ┆ Jimmieshire    ┆ s              ┆               │\n",
       "│ UPlusFinPerson ┆ No Resp+       ┆ 533          ┆ Bergeville     ┆ null           ┆ Rejected      │\n",
       "│ al             ┆                ┆              ┆                ┆                ┆               │\n",
       "│ BasicChecking  ┆ No Resp+       ┆ 555          ┆ Willyville     ┆ DepositAccount ┆ Rejected      │\n",
       "│                ┆                ┆              ┆                ┆ s              ┆               │\n",
       "└────────────────┴────────────────┴──────────────┴────────────────┴────────────────┴───────────────┘"
      ]
     },
     "execution_count": 3,
     "metadata": {},
     "output_type": "execute_result"
    }
   ],
   "source": [
    "pl.read_ndjson('../../../../data/SampleHDS.json')"
   ]
  },
  {
   "attachments": {},
   "cell_type": "markdown",
   "metadata": {},
   "source": [
    "As you can see, this dataset consists of regular predictors, IH predictors, context keys and the outcome column. Additionally, some columns are numeric, others are strings. Let's first initialize the DataAnonymization class."
   ]
  },
  {
   "cell_type": "code",
   "execution_count": 4,
   "metadata": {
    "execution": {
     "iopub.execute_input": "2023-07-06T09:22:18.336853Z",
     "iopub.status.busy": "2023-07-06T09:22:18.336462Z",
     "iopub.status.idle": "2023-07-06T09:22:18.347434Z",
     "shell.execute_reply": "2023-07-06T09:22:18.346815Z"
    }
   },
   "outputs": [],
   "source": [
    "anon = DataAnonymization(hds_folder='../../../../data/')"
   ]
  },
  {
   "attachments": {},
   "cell_type": "markdown",
   "metadata": {},
   "source": [
    "By default, the class applies a set of anonymisation techniques:\n",
    "- Column names are remapped to a non-descriptive name\n",
    "- Categorical values are hashed with a random seed\n",
    "- Numerical values are normalized between 0 and 1\n",
    "- Outcomes are mapped to a binary outcome.\n",
    "\n",
    "To apply these techniques, simply call `.process()`:"
   ]
  },
  {
   "cell_type": "code",
   "execution_count": 5,
   "metadata": {
    "execution": {
     "iopub.execute_input": "2023-07-06T09:22:18.350458Z",
     "iopub.status.busy": "2023-07-06T09:22:18.350059Z",
     "iopub.status.idle": "2023-07-06T09:22:18.357022Z",
     "shell.execute_reply": "2023-07-06T09:22:18.356044Z"
    }
   },
   "outputs": [
    {
     "data": {
      "text/html": [
       "<div><style>\n",
       ".dataframe > thead > tr > th,\n",
       ".dataframe > tbody > tr > td {\n",
       "  text-align: right;\n",
       "}\n",
       "</style>\n",
       "<small>shape: (7, 7)</small><table border=\"1\" class=\"dataframe\"><thead><tr><th>filename</th><th>PREDICTOR_1</th><th>PREDICTOR_2</th><th>PREDICTOR_3</th><th>Context_Name</th><th>IH_PREDICTOR_0</th><th>Decision_Outcome</th></tr><tr><td>str</td><td>f64</td><td>str</td><td>str</td><td>str</td><td>str</td><td>bool</td></tr></thead><tbody><tr><td>&quot;../../../../da…</td><td>1.2927e19</td><td>&quot;15130666264550…</td><td>&quot;62024094566666…</td><td>&quot;49372458409459…</td><td>&quot;14011775049326…</td><td>false</td></tr><tr><td>&quot;../../../../da…</td><td>1.4856e19</td><td>&quot;17672222777748…</td><td>&quot;69919860245105…</td><td>&quot;49372458409459…</td><td>&quot;11273311348027…</td><td>true</td></tr><tr><td>&quot;../../../../da…</td><td>5.6458e17</td><td>&quot;17733443242346…</td><td>&quot;12718217377296…</td><td>&quot;92464972637050…</td><td>&quot;14011775049326…</td><td>false</td></tr><tr><td>&quot;../../../../da…</td><td>4.0723e18</td><td>&quot;10119956405041…</td><td>&quot;69919860245105…</td><td>&quot;21402025580214…</td><td>&quot;14011775049326…</td><td>false</td></tr><tr><td>&quot;../../../../da…</td><td>1.4677e19</td><td>&quot;42453109902186…</td><td>&quot;62024094566666…</td><td>&quot;21402025580214…</td><td>&quot;48377138514622…</td><td>true</td></tr><tr><td>&quot;../../../../da…</td><td>1.6330e19</td><td>&quot;18545686467940…</td><td>&quot;12718217377296…</td><td>&quot;42749569485692…</td><td>null</td><td>false</td></tr><tr><td>&quot;../../../../da…</td><td>8.7675e18</td><td>&quot;85918468513500…</td><td>&quot;12718217377296…</td><td>&quot;21402025580214…</td><td>&quot;48377138514622…</td><td>false</td></tr></tbody></table></div>"
      ],
      "text/plain": [
       "shape: (7, 7)\n",
       "┌───────────────┬─────────────┬──────────────┬──────────────┬────────────┬────────────┬────────────┐\n",
       "│ filename      ┆ PREDICTOR_1 ┆ PREDICTOR_2  ┆ PREDICTOR_3  ┆ Context_Na ┆ IH_PREDICT ┆ Decision_O │\n",
       "│ ---           ┆ ---         ┆ ---          ┆ ---          ┆ me         ┆ OR_0       ┆ utcome     │\n",
       "│ str           ┆ f64         ┆ str          ┆ str          ┆ ---        ┆ ---        ┆ ---        │\n",
       "│               ┆             ┆              ┆              ┆ str        ┆ str        ┆ bool       │\n",
       "╞═══════════════╪═════════════╪══════════════╪══════════════╪════════════╪════════════╪════════════╡\n",
       "│ ../../../../d ┆ 1.2927e19   ┆ 151306662645 ┆ 620240945666 ┆ 4937245840 ┆ 1401177504 ┆ false      │\n",
       "│ ata/SampleHDS ┆             ┆ 50236141     ┆ 6692057      ┆ 945971514  ┆ 932696373  ┆            │\n",
       "│ .json         ┆             ┆              ┆              ┆            ┆            ┆            │\n",
       "│ ../../../../d ┆ 1.4856e19   ┆ 176722227777 ┆ 699198602451 ┆ 4937245840 ┆ 1127331134 ┆ true       │\n",
       "│ ata/SampleHDS ┆             ┆ 48376276     ┆ 0583475      ┆ 945971514  ┆ 8027737726 ┆            │\n",
       "│ .json         ┆             ┆              ┆              ┆            ┆            ┆            │\n",
       "│ ../../../../d ┆ 5.6458e17   ┆ 177334432423 ┆ 127182173772 ┆ 9246497263 ┆ 1401177504 ┆ false      │\n",
       "│ ata/SampleHDS ┆             ┆ 46487348     ┆ 96946642     ┆ 705082234  ┆ 932696373  ┆            │\n",
       "│ .json         ┆             ┆              ┆              ┆            ┆            ┆            │\n",
       "│ ../../../../d ┆ 4.0723e18   ┆ 101199564050 ┆ 699198602451 ┆ 2140202558 ┆ 1401177504 ┆ false      │\n",
       "│ ata/SampleHDS ┆             ┆ 41455119     ┆ 0583475      ┆ 021492874  ┆ 932696373  ┆            │\n",
       "│ .json         ┆             ┆              ┆              ┆            ┆            ┆            │\n",
       "│ ../../../../d ┆ 1.4677e19   ┆ 424531099021 ┆ 620240945666 ┆ 2140202558 ┆ 4837713851 ┆ true       │\n",
       "│ ata/SampleHDS ┆             ┆ 8667981      ┆ 6692057      ┆ 021492874  ┆ 462225710  ┆            │\n",
       "│ .json         ┆             ┆              ┆              ┆            ┆            ┆            │\n",
       "│ ../../../../d ┆ 1.6330e19   ┆ 185456864679 ┆ 127182173772 ┆ 4274956948 ┆ null       ┆ false      │\n",
       "│ ata/SampleHDS ┆             ┆ 4041734      ┆ 96946642     ┆ 569263509  ┆            ┆            │\n",
       "│ .json         ┆             ┆              ┆              ┆            ┆            ┆            │\n",
       "│ ../../../../d ┆ 8.7675e18   ┆ 859184685135 ┆ 127182173772 ┆ 2140202558 ┆ 4837713851 ┆ false      │\n",
       "│ ata/SampleHDS ┆             ┆ 0074498      ┆ 96946642     ┆ 021492874  ┆ 462225710  ┆            │\n",
       "│ .json         ┆             ┆              ┆              ┆            ┆            ┆            │\n",
       "└───────────────┴─────────────┴──────────────┴──────────────┴────────────┴────────────┴────────────┘"
      ]
     },
     "execution_count": 5,
     "metadata": {},
     "output_type": "execute_result"
    }
   ],
   "source": [
    "anon.process()"
   ]
  },
  {
   "attachments": {},
   "cell_type": "markdown",
   "metadata": {},
   "source": [
    "To trace back the columns to their original names, the class also contains a mapping, which does not have to be provided."
   ]
  },
  {
   "cell_type": "code",
   "execution_count": 6,
   "metadata": {
    "execution": {
     "iopub.execute_input": "2023-07-06T09:22:18.360337Z",
     "iopub.status.busy": "2023-07-06T09:22:18.359835Z",
     "iopub.status.idle": "2023-07-06T09:22:18.364411Z",
     "shell.execute_reply": "2023-07-06T09:22:18.363743Z"
    }
   },
   "outputs": [
    {
     "data": {
      "text/plain": [
       "{'filename': 'filename',\n",
       " 'Customer_CLV': 'PREDICTOR_1',\n",
       " 'Customer_City': 'PREDICTOR_2',\n",
       " 'Customer_MaritalStatus': 'PREDICTOR_3',\n",
       " 'Context_Name': 'Context_Name',\n",
       " 'IH_Web_Inbound_Accepted_pxLastGroupID': 'IH_PREDICTOR_0',\n",
       " 'Decision_Outcome': 'Decision_Outcome'}"
      ]
     },
     "execution_count": 6,
     "metadata": {},
     "output_type": "execute_result"
    }
   ],
   "source": [
    "anon.column_mapping"
   ]
  },
  {
   "attachments": {},
   "cell_type": "markdown",
   "metadata": {},
   "source": [
    "## Configs\n",
    "\n",
    "Each capability can optionally be turned off - see below for the full list of config options, and refer to the API reference for the full description."
   ]
  },
  {
   "cell_type": "code",
   "execution_count": 7,
   "metadata": {
    "execution": {
     "iopub.execute_input": "2023-07-06T09:22:18.367475Z",
     "iopub.status.busy": "2023-07-06T09:22:18.367110Z",
     "iopub.status.idle": "2023-07-06T09:22:18.372479Z",
     "shell.execute_reply": "2023-07-06T09:22:18.371885Z"
    }
   },
   "outputs": [
    {
     "data": {
      "text/plain": [
       "{'config_file': None,\n",
       " 'hds_folder': '.',\n",
       " 'use_datamart': False,\n",
       " 'datamart_folder': 'datamart',\n",
       " 'output_format': 'ndjson',\n",
       " 'output_folder': 'output',\n",
       " 'mapping_file': 'mapping.map',\n",
       " 'mask_predictor_names': True,\n",
       " 'mask_context_key_names': False,\n",
       " 'mask_ih_names': True,\n",
       " 'mask_outcome_name': False,\n",
       " 'mask_predictor_values': True,\n",
       " 'mask_context_key_values': True,\n",
       " 'mask_ih_values': True,\n",
       " 'mask_outcome_values': True,\n",
       " 'context_key_label': 'Context_*',\n",
       " 'ih_label': 'IH_*',\n",
       " 'outcome_column': 'Decision_Outcome',\n",
       " 'positive_outcomes': ['Accepted', 'Clicked'],\n",
       " 'negative_outcomes': ['Rejected', 'Impression'],\n",
       " 'special_predictors': ['Decision_DecisionTime',\n",
       "  'Decision_OutcomeTime',\n",
       "  'Decision_Rank'],\n",
       " 'sample_percentage_schema_inferencing': 0.01}"
      ]
     },
     "execution_count": 7,
     "metadata": {},
     "output_type": "execute_result"
    }
   ],
   "source": [
    "dict(zip(Config.__init__.__code__.co_varnames[1:], Config.__init__.__defaults__))"
   ]
  },
  {
   "attachments": {},
   "cell_type": "markdown",
   "metadata": {},
   "source": [
    "It's easy to change these parameters by just passing the keyword arguments. In the following example, we\n",
    "- Keep the IH predictor names\n",
    "- Keep the outcome values\n",
    "- Keep the context key values\n",
    "- Keep the context key predictor names"
   ]
  },
  {
   "cell_type": "code",
   "execution_count": 8,
   "metadata": {
    "execution": {
     "iopub.execute_input": "2023-07-06T09:22:18.375587Z",
     "iopub.status.busy": "2023-07-06T09:22:18.375210Z",
     "iopub.status.idle": "2023-07-06T09:22:18.388531Z",
     "shell.execute_reply": "2023-07-06T09:22:18.387956Z"
    }
   },
   "outputs": [
    {
     "data": {
      "text/html": [
       "<div><style>\n",
       ".dataframe > thead > tr > th,\n",
       ".dataframe > tbody > tr > td {\n",
       "  text-align: right;\n",
       "}\n",
       "</style>\n",
       "<small>shape: (7, 7)</small><table border=\"1\" class=\"dataframe\"><thead><tr><th>filename</th><th>PREDICTOR_1</th><th>PREDICTOR_2</th><th>PREDICTOR_3</th><th>Context_Name</th><th>IH_Web_Inbound_Accepted_pxLastGroupID</th><th>Decision_Outcome</th></tr><tr><td>str</td><td>f64</td><td>str</td><td>str</td><td>str</td><td>str</td><td>str</td></tr></thead><tbody><tr><td>&quot;../../../../da…</td><td>1.2927e19</td><td>&quot;26966398562794…</td><td>&quot;58205489615742…</td><td>&quot;FirstMortgage3…</td><td>&quot;11001468374950…</td><td>&quot;Rejected&quot;</td></tr><tr><td>&quot;../../../../da…</td><td>1.4856e19</td><td>&quot;10888342417233…</td><td>&quot;17313535397387…</td><td>&quot;FirstMortgage3…</td><td>&quot;26645775286148…</td><td>&quot;Accepted&quot;</td></tr><tr><td>&quot;../../../../da…</td><td>5.6458e17</td><td>&quot;70600923917482…</td><td>&quot;17320622074982…</td><td>&quot;MoneyMarketSav…</td><td>&quot;11001468374950…</td><td>&quot;Rejected&quot;</td></tr><tr><td>&quot;../../../../da…</td><td>4.0723e18</td><td>&quot;60228505380642…</td><td>&quot;17313535397387…</td><td>&quot;BasicChecking&quot;</td><td>&quot;11001468374950…</td><td>&quot;Rejected&quot;</td></tr><tr><td>&quot;../../../../da…</td><td>1.4677e19</td><td>&quot;71350791186337…</td><td>&quot;58205489615742…</td><td>&quot;BasicChecking&quot;</td><td>&quot;14996720860198…</td><td>&quot;Accepted&quot;</td></tr><tr><td>&quot;../../../../da…</td><td>1.6330e19</td><td>&quot;80164227603752…</td><td>&quot;17320622074982…</td><td>&quot;UPlusFinPerson…</td><td>null</td><td>&quot;Rejected&quot;</td></tr><tr><td>&quot;../../../../da…</td><td>8.7675e18</td><td>&quot;64889919967575…</td><td>&quot;17320622074982…</td><td>&quot;BasicChecking&quot;</td><td>&quot;14996720860198…</td><td>&quot;Rejected&quot;</td></tr></tbody></table></div>"
      ],
      "text/plain": [
       "shape: (7, 7)\n",
       "┌───────────────┬─────────────┬──────────────┬──────────────┬────────────┬────────────┬────────────┐\n",
       "│ filename      ┆ PREDICTOR_1 ┆ PREDICTOR_2  ┆ PREDICTOR_3  ┆ Context_Na ┆ IH_Web_Inb ┆ Decision_O │\n",
       "│ ---           ┆ ---         ┆ ---          ┆ ---          ┆ me         ┆ ound_Accep ┆ utcome     │\n",
       "│ str           ┆ f64         ┆ str          ┆ str          ┆ ---        ┆ ted_pxLast ┆ ---        │\n",
       "│               ┆             ┆              ┆              ┆ str        ┆ Gr…        ┆ str        │\n",
       "│               ┆             ┆              ┆              ┆            ┆ ---        ┆            │\n",
       "│               ┆             ┆              ┆              ┆            ┆ str        ┆            │\n",
       "╞═══════════════╪═════════════╪══════════════╪══════════════╪════════════╪════════════╪════════════╡\n",
       "│ ../../../../d ┆ 1.2927e19   ┆ 269663985627 ┆ 582054896157 ┆ FirstMortg ┆ 1100146837 ┆ Rejected   │\n",
       "│ ata/SampleHDS ┆             ┆ 9499350      ┆ 4261924      ┆ age30yr    ┆ 4950366085 ┆            │\n",
       "│ .json         ┆             ┆              ┆              ┆            ┆            ┆            │\n",
       "│ ../../../../d ┆ 1.4856e19   ┆ 108883424172 ┆ 173135353973 ┆ FirstMortg ┆ 2664577528 ┆ Accepted   │\n",
       "│ ata/SampleHDS ┆             ┆ 33892958     ┆ 87238697     ┆ age30yr    ┆ 614842349  ┆            │\n",
       "│ .json         ┆             ┆              ┆              ┆            ┆            ┆            │\n",
       "│ ../../../../d ┆ 5.6458e17   ┆ 706009239174 ┆ 173206220749 ┆ MoneyMarke ┆ 1100146837 ┆ Rejected   │\n",
       "│ ata/SampleHDS ┆             ┆ 8244778      ┆ 82716906     ┆ tSavingsAc ┆ 4950366085 ┆            │\n",
       "│ .json         ┆             ┆              ┆              ┆ count      ┆            ┆            │\n",
       "│ ../../../../d ┆ 4.0723e18   ┆ 602285053806 ┆ 173135353973 ┆ BasicCheck ┆ 1100146837 ┆ Rejected   │\n",
       "│ ata/SampleHDS ┆             ┆ 4283620      ┆ 87238697     ┆ ing        ┆ 4950366085 ┆            │\n",
       "│ .json         ┆             ┆              ┆              ┆            ┆            ┆            │\n",
       "│ ../../../../d ┆ 1.4677e19   ┆ 713507911863 ┆ 582054896157 ┆ BasicCheck ┆ 1499672086 ┆ Accepted   │\n",
       "│ ata/SampleHDS ┆             ┆ 3780559      ┆ 4261924      ┆ ing        ┆ 0198601385 ┆            │\n",
       "│ .json         ┆             ┆              ┆              ┆            ┆            ┆            │\n",
       "│ ../../../../d ┆ 1.6330e19   ┆ 801642276037 ┆ 173206220749 ┆ UPlusFinPe ┆ null       ┆ Rejected   │\n",
       "│ ata/SampleHDS ┆             ┆ 5294710      ┆ 82716906     ┆ rsonal     ┆            ┆            │\n",
       "│ .json         ┆             ┆              ┆              ┆            ┆            ┆            │\n",
       "│ ../../../../d ┆ 8.7675e18   ┆ 648899199675 ┆ 173206220749 ┆ BasicCheck ┆ 1499672086 ┆ Rejected   │\n",
       "│ ata/SampleHDS ┆             ┆ 7565857      ┆ 82716906     ┆ ing        ┆ 0198601385 ┆            │\n",
       "│ .json         ┆             ┆              ┆              ┆            ┆            ┆            │\n",
       "└───────────────┴─────────────┴──────────────┴──────────────┴────────────┴────────────┴────────────┘"
      ]
     },
     "execution_count": 8,
     "metadata": {},
     "output_type": "execute_result"
    }
   ],
   "source": [
    "anon = DataAnonymization(\n",
    "    hds_folder='../../../../data/',\n",
    "    mask_ih_names=False,\n",
    "    mask_outcome_values=False,\n",
    "    mask_context_key_values=False,\n",
    "    mask_context_key_names=False,\n",
    ")\n",
    "anon.process()\n"
   ]
  },
  {
   "attachments": {},
   "cell_type": "markdown",
   "metadata": {},
   "source": [
    "The configs can also be written and read as such:"
   ]
  },
  {
   "cell_type": "code",
   "execution_count": 9,
   "metadata": {
    "execution": {
     "iopub.execute_input": "2023-07-06T09:22:18.391472Z",
     "iopub.status.busy": "2023-07-06T09:22:18.391109Z",
     "iopub.status.idle": "2023-07-06T09:22:18.394239Z",
     "shell.execute_reply": "2023-07-06T09:22:18.393674Z"
    }
   },
   "outputs": [],
   "source": [
    "anon.config.save_to_config_file('config.json')"
   ]
  },
  {
   "cell_type": "code",
   "execution_count": 10,
   "metadata": {
    "execution": {
     "iopub.execute_input": "2023-07-06T09:22:18.397264Z",
     "iopub.status.busy": "2023-07-06T09:22:18.396906Z",
     "iopub.status.idle": "2023-07-06T09:22:18.410917Z",
     "shell.execute_reply": "2023-07-06T09:22:18.410040Z"
    }
   },
   "outputs": [
    {
     "data": {
      "text/html": [
       "<div><style>\n",
       ".dataframe > thead > tr > th,\n",
       ".dataframe > tbody > tr > td {\n",
       "  text-align: right;\n",
       "}\n",
       "</style>\n",
       "<small>shape: (7, 7)</small><table border=\"1\" class=\"dataframe\"><thead><tr><th>filename</th><th>PREDICTOR_1</th><th>PREDICTOR_2</th><th>PREDICTOR_3</th><th>Context_Name</th><th>IH_Web_Inbound_Accepted_pxLastGroupID</th><th>Decision_Outcome</th></tr><tr><td>str</td><td>f64</td><td>str</td><td>str</td><td>str</td><td>str</td><td>str</td></tr></thead><tbody><tr><td>&quot;../../../../da…</td><td>1.2927e19</td><td>&quot;53143111629009…</td><td>&quot;46700455255518…</td><td>&quot;FirstMortgage3…</td><td>&quot;17018233096625…</td><td>&quot;Rejected&quot;</td></tr><tr><td>&quot;../../../../da…</td><td>1.4856e19</td><td>&quot;25091924879780…</td><td>&quot;70214574306593…</td><td>&quot;FirstMortgage3…</td><td>&quot;79064648968386…</td><td>&quot;Accepted&quot;</td></tr><tr><td>&quot;../../../../da…</td><td>5.6458e17</td><td>&quot;88658368720705…</td><td>&quot;80044616806818…</td><td>&quot;MoneyMarketSav…</td><td>&quot;17018233096625…</td><td>&quot;Rejected&quot;</td></tr><tr><td>&quot;../../../../da…</td><td>4.0723e18</td><td>&quot;77105391344753…</td><td>&quot;70214574306593…</td><td>&quot;BasicChecking&quot;</td><td>&quot;17018233096625…</td><td>&quot;Rejected&quot;</td></tr><tr><td>&quot;../../../../da…</td><td>1.4677e19</td><td>&quot;10172997720118…</td><td>&quot;46700455255518…</td><td>&quot;BasicChecking&quot;</td><td>&quot;63524210260497…</td><td>&quot;Accepted&quot;</td></tr><tr><td>&quot;../../../../da…</td><td>1.6330e19</td><td>&quot;91880426861611…</td><td>&quot;80044616806818…</td><td>&quot;UPlusFinPerson…</td><td>null</td><td>&quot;Rejected&quot;</td></tr><tr><td>&quot;../../../../da…</td><td>8.7675e18</td><td>&quot;14720279436419…</td><td>&quot;80044616806818…</td><td>&quot;BasicChecking&quot;</td><td>&quot;63524210260497…</td><td>&quot;Rejected&quot;</td></tr></tbody></table></div>"
      ],
      "text/plain": [
       "shape: (7, 7)\n",
       "┌───────────────┬─────────────┬──────────────┬──────────────┬────────────┬────────────┬────────────┐\n",
       "│ filename      ┆ PREDICTOR_1 ┆ PREDICTOR_2  ┆ PREDICTOR_3  ┆ Context_Na ┆ IH_Web_Inb ┆ Decision_O │\n",
       "│ ---           ┆ ---         ┆ ---          ┆ ---          ┆ me         ┆ ound_Accep ┆ utcome     │\n",
       "│ str           ┆ f64         ┆ str          ┆ str          ┆ ---        ┆ ted_pxLast ┆ ---        │\n",
       "│               ┆             ┆              ┆              ┆ str        ┆ Gr…        ┆ str        │\n",
       "│               ┆             ┆              ┆              ┆            ┆ ---        ┆            │\n",
       "│               ┆             ┆              ┆              ┆            ┆ str        ┆            │\n",
       "╞═══════════════╪═════════════╪══════════════╪══════════════╪════════════╪════════════╪════════════╡\n",
       "│ ../../../../d ┆ 1.2927e19   ┆ 531431116290 ┆ 467004552555 ┆ FirstMortg ┆ 1701823309 ┆ Rejected   │\n",
       "│ ata/SampleHDS ┆             ┆ 0940838      ┆ 1822853      ┆ age30yr    ┆ 6625845694 ┆            │\n",
       "│ .json         ┆             ┆              ┆              ┆            ┆            ┆            │\n",
       "│ ../../../../d ┆ 1.4856e19   ┆ 250919248797 ┆ 702145743065 ┆ FirstMortg ┆ 7906464896 ┆ Accepted   │\n",
       "│ ata/SampleHDS ┆             ┆ 8082196      ┆ 9311661      ┆ age30yr    ┆ 838666751  ┆            │\n",
       "│ .json         ┆             ┆              ┆              ┆            ┆            ┆            │\n",
       "│ ../../../../d ┆ 5.6458e17   ┆ 886583687207 ┆ 800446168068 ┆ MoneyMarke ┆ 1701823309 ┆ Rejected   │\n",
       "│ ata/SampleHDS ┆             ┆ 0543469      ┆ 1827042      ┆ tSavingsAc ┆ 6625845694 ┆            │\n",
       "│ .json         ┆             ┆              ┆              ┆ count      ┆            ┆            │\n",
       "│ ../../../../d ┆ 4.0723e18   ┆ 771053913447 ┆ 702145743065 ┆ BasicCheck ┆ 1701823309 ┆ Rejected   │\n",
       "│ ata/SampleHDS ┆             ┆ 5352143      ┆ 9311661      ┆ ing        ┆ 6625845694 ┆            │\n",
       "│ .json         ┆             ┆              ┆              ┆            ┆            ┆            │\n",
       "│ ../../../../d ┆ 1.4677e19   ┆ 101729977201 ┆ 467004552555 ┆ BasicCheck ┆ 6352421026 ┆ Accepted   │\n",
       "│ ata/SampleHDS ┆             ┆ 18166936     ┆ 1822853      ┆ ing        ┆ 049743518  ┆            │\n",
       "│ .json         ┆             ┆              ┆              ┆            ┆            ┆            │\n",
       "│ ../../../../d ┆ 1.6330e19   ┆ 918804268616 ┆ 800446168068 ┆ UPlusFinPe ┆ null       ┆ Rejected   │\n",
       "│ ata/SampleHDS ┆             ┆ 1125516      ┆ 1827042      ┆ rsonal     ┆            ┆            │\n",
       "│ .json         ┆             ┆              ┆              ┆            ┆            ┆            │\n",
       "│ ../../../../d ┆ 8.7675e18   ┆ 147202794364 ┆ 800446168068 ┆ BasicCheck ┆ 6352421026 ┆ Rejected   │\n",
       "│ ata/SampleHDS ┆             ┆ 19789085     ┆ 1827042      ┆ ing        ┆ 049743518  ┆            │\n",
       "│ .json         ┆             ┆              ┆              ┆            ┆            ┆            │\n",
       "└───────────────┴─────────────┴──────────────┴──────────────┴────────────┴────────────┴────────────┘"
      ]
     },
     "execution_count": 10,
     "metadata": {},
     "output_type": "execute_result"
    }
   ],
   "source": [
    "anon = DataAnonymization(config=Config(config_file='config.json'))\n",
    "anon.process()"
   ]
  },
  {
   "attachments": {},
   "cell_type": "markdown",
   "metadata": {},
   "source": [
    "## Exporting\n",
    "Two functions export:\n",
    "- `create_mapping_file()` writes the mapping file of the predictor names\n",
    "- `write_to_output()` writes the processed dataframe to disk\n",
    "\n",
    "Write to output accepts the following extensions: `[\"ndjson\", \"parquet\", \"arrow\", \"csv\"]`"
   ]
  },
  {
   "cell_type": "code",
   "execution_count": 11,
   "metadata": {
    "execution": {
     "iopub.execute_input": "2023-07-06T09:22:18.414239Z",
     "iopub.status.busy": "2023-07-06T09:22:18.413791Z",
     "iopub.status.idle": "2023-07-06T09:22:18.418295Z",
     "shell.execute_reply": "2023-07-06T09:22:18.417592Z"
    }
   },
   "outputs": [
    {
     "name": "stdout",
     "output_type": "stream",
     "text": [
      "filename=filename\n",
      "Customer_CLV=PREDICTOR_1\n",
      "Customer_City=PREDICTOR_2\n",
      "Customer_MaritalStatus=PREDICTOR_3\n",
      "Context_Name=Context_Name\n",
      "IH_Web_Inbound_Accepted_pxLastGroupID=IH_Web_Inbound_Accepted_pxLastGroupID\n",
      "Decision_Outcome=Decision_Outcome\n",
      "\n"
     ]
    }
   ],
   "source": [
    "anon.create_mapping_file()\n",
    "with open('mapping.map') as f:\n",
    "    print(f.read())"
   ]
  },
  {
   "cell_type": "code",
   "execution_count": 12,
   "metadata": {
    "execution": {
     "iopub.execute_input": "2023-07-06T09:22:18.421368Z",
     "iopub.status.busy": "2023-07-06T09:22:18.420999Z",
     "iopub.status.idle": "2023-07-06T09:22:18.425492Z",
     "shell.execute_reply": "2023-07-06T09:22:18.424875Z"
    }
   },
   "outputs": [],
   "source": [
    "anon.write_to_output(ext='arrow')"
   ]
  },
  {
   "cell_type": "code",
   "execution_count": 13,
   "metadata": {
    "execution": {
     "iopub.execute_input": "2023-07-06T09:22:18.428702Z",
     "iopub.status.busy": "2023-07-06T09:22:18.428258Z",
     "iopub.status.idle": "2023-07-06T09:22:18.434179Z",
     "shell.execute_reply": "2023-07-06T09:22:18.433575Z"
    }
   },
   "outputs": [
    {
     "data": {
      "text/html": [
       "<div><style>\n",
       ".dataframe > thead > tr > th,\n",
       ".dataframe > tbody > tr > td {\n",
       "  text-align: right;\n",
       "}\n",
       "</style>\n",
       "<small>shape: (7, 6)</small><table border=\"1\" class=\"dataframe\"><thead><tr><th>PREDICTOR_1</th><th>PREDICTOR_2</th><th>PREDICTOR_3</th><th>Context_Name</th><th>IH_Web_Inbound_Accepted_pxLastGroupID</th><th>Decision_Outcome</th></tr><tr><td>f64</td><td>str</td><td>str</td><td>str</td><td>str</td><td>str</td></tr></thead><tbody><tr><td>1.2927e19</td><td>&quot;66152841175816…</td><td>&quot;16762902773178…</td><td>&quot;FirstMortgage3…</td><td>&quot;14961179910371…</td><td>&quot;Rejected&quot;</td></tr><tr><td>1.4856e19</td><td>&quot;13507418157907…</td><td>&quot;16265842560315…</td><td>&quot;FirstMortgage3…</td><td>&quot;17799528202669…</td><td>&quot;Accepted&quot;</td></tr><tr><td>5.6458e17</td><td>&quot;16313753158498…</td><td>&quot;15732322579337…</td><td>&quot;MoneyMarketSav…</td><td>&quot;14961179910371…</td><td>&quot;Rejected&quot;</td></tr><tr><td>4.0723e18</td><td>&quot;14262518519424…</td><td>&quot;16265842560315…</td><td>&quot;BasicChecking&quot;</td><td>&quot;14961179910371…</td><td>&quot;Rejected&quot;</td></tr><tr><td>1.4677e19</td><td>&quot;83187088782301…</td><td>&quot;16762902773178…</td><td>&quot;BasicChecking&quot;</td><td>&quot;15691861758992…</td><td>&quot;Accepted&quot;</td></tr><tr><td>1.6330e19</td><td>&quot;93098615113191…</td><td>&quot;15732322579337…</td><td>&quot;UPlusFinPerson…</td><td>null</td><td>&quot;Rejected&quot;</td></tr><tr><td>8.7675e18</td><td>&quot;65704538171004…</td><td>&quot;15732322579337…</td><td>&quot;BasicChecking&quot;</td><td>&quot;15691861758992…</td><td>&quot;Rejected&quot;</td></tr></tbody></table></div>"
      ],
      "text/plain": [
       "shape: (7, 6)\n",
       "┌─────────────┬────────────────┬────────────────┬────────────────┬────────────────┬────────────────┐\n",
       "│ PREDICTOR_1 ┆ PREDICTOR_2    ┆ PREDICTOR_3    ┆ Context_Name   ┆ IH_Web_Inbound ┆ Decision_Outco │\n",
       "│ ---         ┆ ---            ┆ ---            ┆ ---            ┆ _Accepted_pxLa ┆ me             │\n",
       "│ f64         ┆ str            ┆ str            ┆ str            ┆ stGr…          ┆ ---            │\n",
       "│             ┆                ┆                ┆                ┆ ---            ┆ str            │\n",
       "│             ┆                ┆                ┆                ┆ str            ┆                │\n",
       "╞═════════════╪════════════════╪════════════════╪════════════════╪════════════════╪════════════════╡\n",
       "│ 1.2927e19   ┆ 66152841175816 ┆ 16762902773178 ┆ FirstMortgage3 ┆ 14961179910371 ┆ Rejected       │\n",
       "│             ┆ 63858          ┆ 536879         ┆ 0yr            ┆ 173514         ┆                │\n",
       "│ 1.4856e19   ┆ 13507418157907 ┆ 16265842560315 ┆ FirstMortgage3 ┆ 17799528202669 ┆ Accepted       │\n",
       "│             ┆ 23614          ┆ 244721         ┆ 0yr            ┆ 157684         ┆                │\n",
       "│ 5.6458e17   ┆ 16313753158498 ┆ 15732322579337 ┆ MoneyMarketSav ┆ 14961179910371 ┆ Rejected       │\n",
       "│             ┆ 633677         ┆ 691802         ┆ ingsAccount    ┆ 173514         ┆                │\n",
       "│ 4.0723e18   ┆ 14262518519424 ┆ 16265842560315 ┆ BasicChecking  ┆ 14961179910371 ┆ Rejected       │\n",
       "│             ┆ 39629          ┆ 244721         ┆                ┆ 173514         ┆                │\n",
       "│ 1.4677e19   ┆ 83187088782301 ┆ 16762902773178 ┆ BasicChecking  ┆ 15691861758992 ┆ Accepted       │\n",
       "│             ┆ 14724          ┆ 536879         ┆                ┆ 174205         ┆                │\n",
       "│ 1.6330e19   ┆ 93098615113191 ┆ 15732322579337 ┆ UPlusFinPerson ┆ null           ┆ Rejected       │\n",
       "│             ┆ 56139          ┆ 691802         ┆ al             ┆                ┆                │\n",
       "│ 8.7675e18   ┆ 65704538171004 ┆ 15732322579337 ┆ BasicChecking  ┆ 15691861758992 ┆ Rejected       │\n",
       "│             ┆ 84293          ┆ 691802         ┆                ┆ 174205         ┆                │\n",
       "└─────────────┴────────────────┴────────────────┴────────────────┴────────────────┴────────────────┘"
      ]
     },
     "execution_count": 13,
     "metadata": {},
     "output_type": "execute_result"
    }
   ],
   "source": [
    "pl.read_ipc('output/hds.arrow')"
   ]
  },
  {
   "attachments": {},
   "cell_type": "markdown",
   "metadata": {},
   "source": [
    "## Advanced: Hash fuctions\n",
    "\n",
    "By default, we use [the same hashing algorithm Polars](https://pola-rs.github.io/polars/py-polars/html/reference/expressions/api/polars.Expr.hash.html#polars.Expr.hash) uses: [xxhash](https://github.com/Cyan4973/xxHash), as implemented [here](https://github.com/pola-rs/polars/blob/3f287f370b3c388ed2f3f218b2c096382548136f/polars/polars-core/src/vector_hasher.rs#L266). xxhash is fast to compute, and you can check its performance in collision, dispersion and randomness [here](https://github.com/Cyan4973/xxHash/tree/dev/tests). \n",
    "\n",
    "xxhash accepts four distinct seeds, but by default we set the seeds to `0`. It is possible to set the `seed` argument of the `process()` function to `'random'`, which will set all four seeds to a random integer between `0` and `1000000000`. Alternatively, it is possible to supply the four seeds manually with arguments `seed`, `seed_1`, `seed_2` and `seed_3`. \n",
    "\n",
    "If the xxhash with (random) seed(s) is not deemed sufficiently secure, it is possible to use your own hashing algorithm.\n",
    "\n",
    "Note that since we're now running python code and not native Polars code anymore, this will be _significantly_ slower. Nonetheless, it is possible.\n",
    "\n",
    "Just as an example - this is how one would use sha3_256:"
   ]
  },
  {
   "cell_type": "code",
   "execution_count": 14,
   "metadata": {
    "execution": {
     "iopub.execute_input": "2023-07-06T09:22:18.437521Z",
     "iopub.status.busy": "2023-07-06T09:22:18.436950Z",
     "iopub.status.idle": "2023-07-06T09:22:18.874249Z",
     "shell.execute_reply": "2023-07-06T09:22:18.873363Z"
    }
   },
   "outputs": [
    {
     "ename": "ComputeError",
     "evalue": "AttributeError: 'int' object has no attribute 'encode'",
     "output_type": "error",
     "traceback": [
      "\u001b[0;31m---------------------------------------------------------------------------\u001b[0m",
      "\u001b[0;31mComputeError\u001b[0m                              Traceback (most recent call last)",
      "Cell \u001b[0;32mIn[14], line 3\u001b[0m\n\u001b[1;32m      1\u001b[0m \u001b[38;5;28;01mfrom\u001b[39;00m \u001b[38;5;21;01mhashlib\u001b[39;00m \u001b[38;5;28;01mimport\u001b[39;00m sha3_256\n\u001b[0;32m----> 3\u001b[0m \u001b[43manon\u001b[49m\u001b[38;5;241;43m.\u001b[39;49m\u001b[43mprocess\u001b[49m\u001b[43m(\u001b[49m\u001b[43malgorithm\u001b[49m\u001b[38;5;241;43m=\u001b[39;49m\u001b[38;5;28;43;01mlambda\u001b[39;49;00m\u001b[43m \u001b[49m\u001b[43mx\u001b[49m\u001b[43m:\u001b[49m\u001b[43m \u001b[49m\u001b[43msha3_256\u001b[49m\u001b[43m(\u001b[49m\u001b[43mx\u001b[49m\u001b[38;5;241;43m.\u001b[39;49m\u001b[43mencode\u001b[49m\u001b[43m(\u001b[49m\u001b[43m)\u001b[49m\u001b[43m)\u001b[49m\u001b[38;5;241;43m.\u001b[39;49m\u001b[43mhexdigest\u001b[49m\u001b[43m(\u001b[49m\u001b[43m)\u001b[49m\u001b[43m)\u001b[49m\n",
      "File \u001b[0;32m~/work/pega-datascientist-tools/pega-datascientist-tools/python/docs/source/articles/../../../pdstools/utils/hds_utils.py:516\u001b[0m, in \u001b[0;36mDataAnonymization.process\u001b[0;34m(self, strategy, **kwargs)\u001b[0m\n\u001b[1;32m    514\u001b[0m df \u001b[38;5;241m=\u001b[39m df\u001b[38;5;241m.\u001b[39mselect(\u001b[38;5;28mself\u001b[39m\u001b[38;5;241m.\u001b[39mcolumn_mapping\u001b[38;5;241m.\u001b[39mkeys())\u001b[38;5;241m.\u001b[39mrename(\u001b[38;5;28mself\u001b[39m\u001b[38;5;241m.\u001b[39mcolumn_mapping)\n\u001b[1;32m    515\u001b[0m \u001b[38;5;28;01mif\u001b[39;00m strategy \u001b[38;5;241m==\u001b[39m \u001b[38;5;124m\"\u001b[39m\u001b[38;5;124meager\u001b[39m\u001b[38;5;124m\"\u001b[39m:\n\u001b[0;32m--> 516\u001b[0m     \u001b[38;5;28;01mreturn\u001b[39;00m \u001b[43mdf\u001b[49m\u001b[38;5;241;43m.\u001b[39;49m\u001b[43mcollect\u001b[49m\u001b[43m(\u001b[49m\u001b[43m)\u001b[49m\n\u001b[1;32m    517\u001b[0m \u001b[38;5;28;01mreturn\u001b[39;00m df\n",
      "File \u001b[0;32m/opt/hostedtoolcache/Python/3.11.4/x64/lib/python3.11/site-packages/polars/lazyframe/frame.py:1508\u001b[0m, in \u001b[0;36mLazyFrame.collect\u001b[0;34m(self, type_coercion, predicate_pushdown, projection_pushdown, simplify_expression, no_optimization, slice_pushdown, common_subplan_elimination, streaming)\u001b[0m\n\u001b[1;32m   1497\u001b[0m     common_subplan_elimination \u001b[38;5;241m=\u001b[39m \u001b[38;5;28;01mFalse\u001b[39;00m\n\u001b[1;32m   1499\u001b[0m ldf \u001b[38;5;241m=\u001b[39m \u001b[38;5;28mself\u001b[39m\u001b[38;5;241m.\u001b[39m_ldf\u001b[38;5;241m.\u001b[39moptimization_toggle(\n\u001b[1;32m   1500\u001b[0m     type_coercion,\n\u001b[1;32m   1501\u001b[0m     predicate_pushdown,\n\u001b[0;32m   (...)\u001b[0m\n\u001b[1;32m   1506\u001b[0m     streaming,\n\u001b[1;32m   1507\u001b[0m )\n\u001b[0;32m-> 1508\u001b[0m \u001b[38;5;28;01mreturn\u001b[39;00m wrap_df(ldf\u001b[38;5;241m.\u001b[39mcollect())\n",
      "\u001b[0;31mComputeError\u001b[0m: AttributeError: 'int' object has no attribute 'encode'"
     ]
    }
   ],
   "source": [
    "from hashlib import sha3_256\n",
    "\n",
    "anon.process(algorithm=lambda x: sha3_256(x.encode()).hexdigest())"
   ]
  }
 ],
 "metadata": {
  "kernelspec": {
   "display_name": "Python 3",
   "language": "python",
   "name": "python3"
  },
  "language_info": {
   "codemirror_mode": {
    "name": "ipython",
    "version": 3
   },
   "file_extension": ".py",
   "mimetype": "text/x-python",
   "name": "python",
   "nbconvert_exporter": "python",
   "pygments_lexer": "ipython3",
   "version": "3.11.4"
  },
  "vscode": {
   "interpreter": {
    "hash": "aee8b7b246df8f9039afb4144a1f6fd8d2ca17a180786b69acc140d282b71a49"
   }
  }
 },
 "nbformat": 4,
 "nbformat_minor": 2
}
