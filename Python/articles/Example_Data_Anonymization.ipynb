{
 "cells": [
  {
   "attachments": {},
   "cell_type": "markdown",
   "metadata": {},
   "source": [
    "# Example data anonymization\n",
    "\n",
    "In Pega CDH 8.5 and up, it's now possible to record the historical data as seen by the Adaptive Models. See [this academy challenge](https://academy.pega.com/challenge/exporting-historical-data/v4) for reference. This historical data can be further used to experiment with offline models, but also to fine-tune the OOTB Gradient Boosting model. However, sharing this information with Pega can be sensitive as it contains raw predictor data. \n",
    "\n",
    "To this end, we provide a simple and transparent script to fully anonimize this dataset.\n",
    "\n",
    "The DataAnonymization script is now part of pdstools, and you can import it directly as such."
   ]
  },
  {
   "cell_type": "code",
   "execution_count": 1,
   "metadata": {
    "execution": {
     "iopub.execute_input": "2023-09-21T09:39:47.792287Z",
     "iopub.status.busy": "2023-09-21T09:39:47.792050Z",
     "iopub.status.idle": "2023-09-21T09:39:47.894024Z",
     "shell.execute_reply": "2023-09-21T09:39:47.893077Z"
    },
    "nbsphinx": "hidden"
   },
   "outputs": [],
   "source": [
    "# These lines are only for rendering in the docs, and are hidden through Jupyter tags\n",
    "# Do not run if you're running the notebook seperately\n",
    "\n",
    "import os  \n",
    "import sys\n",
    "import plotly.io as pio\n",
    "pio.renderers.default = \"notebook_connected\"\n",
    "\n",
    "sys.path.append(\"../../../\")\n",
    "sys.path.append('../../python')"
   ]
  },
  {
   "cell_type": "code",
   "execution_count": 2,
   "metadata": {
    "execution": {
     "iopub.execute_input": "2023-09-21T09:39:47.897296Z",
     "iopub.status.busy": "2023-09-21T09:39:47.897041Z",
     "iopub.status.idle": "2023-09-21T09:39:49.297776Z",
     "shell.execute_reply": "2023-09-21T09:39:49.297031Z"
    }
   },
   "outputs": [],
   "source": [
    "from pdstools import ADMDatamart\n",
    "from pdstools import Config, DataAnonymization\n",
    "import polars as pl"
   ]
  },
  {
   "attachments": {},
   "cell_type": "markdown",
   "metadata": {},
   "source": [
    "## Input data\n",
    "\n",
    "To demonstrate this process, we're going to anonymise this toy example dataframe:"
   ]
  },
  {
   "cell_type": "code",
   "execution_count": 3,
   "metadata": {
    "execution": {
     "iopub.execute_input": "2023-09-21T09:39:49.302376Z",
     "iopub.status.busy": "2023-09-21T09:39:49.301095Z",
     "iopub.status.idle": "2023-09-21T09:39:49.314725Z",
     "shell.execute_reply": "2023-09-21T09:39:49.313956Z"
    }
   },
   "outputs": [
    {
     "data": {
      "text/html": [
       "<div><style>\n",
       ".dataframe > thead > tr > th,\n",
       ".dataframe > tbody > tr > td {\n",
       "  text-align: right;\n",
       "}\n",
       "</style>\n",
       "<small>shape: (7, 6)</small><table border=\"1\" class=\"dataframe\"><thead><tr><th>Context_Name</th><th>Customer_MaritalStatus</th><th>Customer_CLV</th><th>Customer_City</th><th>IH_Web_Inbound_Accepted_pxLastGroupID</th><th>Decision_Outcome</th></tr><tr><td>str</td><td>str</td><td>i64</td><td>str</td><td>str</td><td>str</td></tr></thead><tbody><tr><td>&quot;FirstMortgage3…</td><td>&quot;Married&quot;</td><td>1460</td><td>&quot;Port Raoul&quot;</td><td>&quot;Account&quot;</td><td>&quot;Rejected&quot;</td></tr><tr><td>&quot;FirstMortgage3…</td><td>&quot;Unknown&quot;</td><td>669</td><td>&quot;Laurianneshire…</td><td>&quot;AutoLoans&quot;</td><td>&quot;Accepted&quot;</td></tr><tr><td>&quot;MoneyMarketSav…</td><td>&quot;No Resp+&quot;</td><td>1174</td><td>&quot;Jacobshaven&quot;</td><td>&quot;Account&quot;</td><td>&quot;Rejected&quot;</td></tr><tr><td>&quot;BasicChecking&quot;</td><td>&quot;Unknown&quot;</td><td>1476</td><td>&quot;Lindton&quot;</td><td>&quot;Account&quot;</td><td>&quot;Rejected&quot;</td></tr><tr><td>&quot;BasicChecking&quot;</td><td>&quot;Married&quot;</td><td>1211</td><td>&quot;South Jimmiesh…</td><td>&quot;DepositAccount…</td><td>&quot;Accepted&quot;</td></tr><tr><td>&quot;UPlusFinPerson…</td><td>&quot;No Resp+&quot;</td><td>533</td><td>&quot;Bergeville&quot;</td><td>null</td><td>&quot;Rejected&quot;</td></tr><tr><td>&quot;BasicChecking&quot;</td><td>&quot;No Resp+&quot;</td><td>555</td><td>&quot;Willyville&quot;</td><td>&quot;DepositAccount…</td><td>&quot;Rejected&quot;</td></tr></tbody></table></div>"
      ],
      "text/plain": [
       "shape: (7, 6)\n",
       "┌────────────────┬────────────────┬──────────────┬────────────────┬────────────────┬───────────────┐\n",
       "│ Context_Name   ┆ Customer_Marit ┆ Customer_CLV ┆ Customer_City  ┆ IH_Web_Inbound ┆ Decision_Outc │\n",
       "│ ---            ┆ alStatus       ┆ ---          ┆ ---            ┆ _Accepted_pxLa ┆ ome           │\n",
       "│ str            ┆ ---            ┆ i64          ┆ str            ┆ stGr…          ┆ ---           │\n",
       "│                ┆ str            ┆              ┆                ┆ ---            ┆ str           │\n",
       "│                ┆                ┆              ┆                ┆ str            ┆               │\n",
       "╞════════════════╪════════════════╪══════════════╪════════════════╪════════════════╪═══════════════╡\n",
       "│ FirstMortgage3 ┆ Married        ┆ 1460         ┆ Port Raoul     ┆ Account        ┆ Rejected      │\n",
       "│ 0yr            ┆                ┆              ┆                ┆                ┆               │\n",
       "│ FirstMortgage3 ┆ Unknown        ┆ 669          ┆ Laurianneshire ┆ AutoLoans      ┆ Accepted      │\n",
       "│ 0yr            ┆                ┆              ┆                ┆                ┆               │\n",
       "│ MoneyMarketSav ┆ No Resp+       ┆ 1174         ┆ Jacobshaven    ┆ Account        ┆ Rejected      │\n",
       "│ ingsAccount    ┆                ┆              ┆                ┆                ┆               │\n",
       "│ BasicChecking  ┆ Unknown        ┆ 1476         ┆ Lindton        ┆ Account        ┆ Rejected      │\n",
       "│ BasicChecking  ┆ Married        ┆ 1211         ┆ South          ┆ DepositAccount ┆ Accepted      │\n",
       "│                ┆                ┆              ┆ Jimmieshire    ┆ s              ┆               │\n",
       "│ UPlusFinPerson ┆ No Resp+       ┆ 533          ┆ Bergeville     ┆ null           ┆ Rejected      │\n",
       "│ al             ┆                ┆              ┆                ┆                ┆               │\n",
       "│ BasicChecking  ┆ No Resp+       ┆ 555          ┆ Willyville     ┆ DepositAccount ┆ Rejected      │\n",
       "│                ┆                ┆              ┆                ┆ s              ┆               │\n",
       "└────────────────┴────────────────┴──────────────┴────────────────┴────────────────┴───────────────┘"
      ]
     },
     "execution_count": 3,
     "metadata": {},
     "output_type": "execute_result"
    }
   ],
   "source": [
    "pl.read_ndjson('../../../../data/SampleHDS.json')"
   ]
  },
  {
   "attachments": {},
   "cell_type": "markdown",
   "metadata": {},
   "source": [
    "As you can see, this dataset consists of regular predictors, IH predictors, context keys and the outcome column. Additionally, some columns are numeric, others are strings. Let's first initialize the DataAnonymization class."
   ]
  },
  {
   "cell_type": "code",
   "execution_count": 4,
   "metadata": {
    "execution": {
     "iopub.execute_input": "2023-09-21T09:39:49.317569Z",
     "iopub.status.busy": "2023-09-21T09:39:49.317112Z",
     "iopub.status.idle": "2023-09-21T09:39:49.327386Z",
     "shell.execute_reply": "2023-09-21T09:39:49.326723Z"
    }
   },
   "outputs": [],
   "source": [
    "anon = DataAnonymization(hds_folder='../../../../data/')"
   ]
  },
  {
   "attachments": {},
   "cell_type": "markdown",
   "metadata": {},
   "source": [
    "By default, the class applies a set of anonymisation techniques:\n",
    "- Column names are remapped to a non-descriptive name\n",
    "- Categorical values are hashed with a random seed\n",
    "- Numerical values are normalized between 0 and 1\n",
    "- Outcomes are mapped to a binary outcome.\n",
    "\n",
    "To apply these techniques, simply call `.process()`:"
   ]
  },
  {
   "cell_type": "code",
   "execution_count": 5,
   "metadata": {
    "execution": {
     "iopub.execute_input": "2023-09-21T09:39:49.330134Z",
     "iopub.status.busy": "2023-09-21T09:39:49.329793Z",
     "iopub.status.idle": "2023-09-21T09:39:49.336442Z",
     "shell.execute_reply": "2023-09-21T09:39:49.335902Z"
    }
   },
   "outputs": [
    {
     "data": {
      "text/html": [
       "<div><style>\n",
       ".dataframe > thead > tr > th,\n",
       ".dataframe > tbody > tr > td {\n",
       "  text-align: right;\n",
       "}\n",
       "</style>\n",
       "<small>shape: (7, 7)</small><table border=\"1\" class=\"dataframe\"><thead><tr><th>PREDICTOR_0</th><th>filename</th><th>PREDICTOR_2</th><th>PREDICTOR_3</th><th>Context_Name</th><th>IH_PREDICTOR_0</th><th>Decision_Outcome</th></tr><tr><td>str</td><td>str</td><td>f64</td><td>str</td><td>str</td><td>str</td><td>bool</td></tr></thead><tbody><tr><td>&quot;14336737299303…</td><td>&quot;../../../../da…</td><td>1.2927e19</td><td>&quot;69217977927239…</td><td>&quot;13610174356200…</td><td>&quot;13002889636067…</td><td>false</td></tr><tr><td>&quot;16306038951534…</td><td>&quot;../../../../da…</td><td>1.4856e19</td><td>&quot;34981408658821…</td><td>&quot;13610174356200…</td><td>&quot;15957769775016…</td><td>true</td></tr><tr><td>&quot;16325995777112…</td><td>&quot;../../../../da…</td><td>5.6458e17</td><td>&quot;13663255640684…</td><td>&quot;49720179974435…</td><td>&quot;13002889636067…</td><td>false</td></tr><tr><td>&quot;54164188308987…</td><td>&quot;../../../../da…</td><td>4.0723e18</td><td>&quot;34981408658821…</td><td>&quot;79099256380439…</td><td>&quot;13002889636067…</td><td>false</td></tr><tr><td>&quot;51155595641267…</td><td>&quot;../../../../da…</td><td>1.4677e19</td><td>&quot;69217977927239…</td><td>&quot;79099256380439…</td><td>&quot;52786108153847…</td><td>true</td></tr><tr><td>&quot;11399637419097…</td><td>&quot;../../../../da…</td><td>1.6330e19</td><td>&quot;13663255640684…</td><td>&quot;18092779239219…</td><td>null</td><td>false</td></tr><tr><td>&quot;51230081897379…</td><td>&quot;../../../../da…</td><td>8.7675e18</td><td>&quot;13663255640684…</td><td>&quot;79099256380439…</td><td>&quot;52786108153847…</td><td>false</td></tr></tbody></table></div>"
      ],
      "text/plain": [
       "shape: (7, 7)\n",
       "┌──────────────┬─────────────┬─────────────┬─────────────┬─────────────┬─────────────┬─────────────┐\n",
       "│ PREDICTOR_0  ┆ filename    ┆ PREDICTOR_2 ┆ PREDICTOR_3 ┆ Context_Nam ┆ IH_PREDICTO ┆ Decision_Ou │\n",
       "│ ---          ┆ ---         ┆ ---         ┆ ---         ┆ e           ┆ R_0         ┆ tcome       │\n",
       "│ str          ┆ str         ┆ f64         ┆ str         ┆ ---         ┆ ---         ┆ ---         │\n",
       "│              ┆             ┆             ┆             ┆ str         ┆ str         ┆ bool        │\n",
       "╞══════════════╪═════════════╪═════════════╪═════════════╪═════════════╪═════════════╪═════════════╡\n",
       "│ 143367372993 ┆ ../../../.. ┆ 1.2927e19   ┆ 69217977927 ┆ 13610174356 ┆ 13002889636 ┆ false       │\n",
       "│ 03233838     ┆ /data/Sampl ┆             ┆ 23901318    ┆ 200775637   ┆ 067427323   ┆             │\n",
       "│              ┆ eHDS.json   ┆             ┆             ┆             ┆             ┆             │\n",
       "│ 163060389515 ┆ ../../../.. ┆ 1.4856e19   ┆ 34981408658 ┆ 13610174356 ┆ 15957769775 ┆ true        │\n",
       "│ 34834928     ┆ /data/Sampl ┆             ┆ 82103103    ┆ 200775637   ┆ 016854062   ┆             │\n",
       "│              ┆ eHDS.json   ┆             ┆             ┆             ┆             ┆             │\n",
       "│ 163259957771 ┆ ../../../.. ┆ 5.6458e17   ┆ 13663255640 ┆ 49720179974 ┆ 13002889636 ┆ false       │\n",
       "│ 12183345     ┆ /data/Sampl ┆             ┆ 684818441   ┆ 43569686    ┆ 067427323   ┆             │\n",
       "│              ┆ eHDS.json   ┆             ┆             ┆             ┆             ┆             │\n",
       "│ 541641883089 ┆ ../../../.. ┆ 4.0723e18   ┆ 34981408658 ┆ 79099256380 ┆ 13002889636 ┆ false       │\n",
       "│ 8709859      ┆ /data/Sampl ┆             ┆ 82103103    ┆ 43938615    ┆ 067427323   ┆             │\n",
       "│              ┆ eHDS.json   ┆             ┆             ┆             ┆             ┆             │\n",
       "│ 511555956412 ┆ ../../../.. ┆ 1.4677e19   ┆ 69217977927 ┆ 79099256380 ┆ 52786108153 ┆ true        │\n",
       "│ 6757270      ┆ /data/Sampl ┆             ┆ 23901318    ┆ 43938615    ┆ 84776855    ┆             │\n",
       "│              ┆ eHDS.json   ┆             ┆             ┆             ┆             ┆             │\n",
       "│ 113996374190 ┆ ../../../.. ┆ 1.6330e19   ┆ 13663255640 ┆ 18092779239 ┆ null        ┆ false       │\n",
       "│ 97828551     ┆ /data/Sampl ┆             ┆ 684818441   ┆ 219140515   ┆             ┆             │\n",
       "│              ┆ eHDS.json   ┆             ┆             ┆             ┆             ┆             │\n",
       "│ 512300818973 ┆ ../../../.. ┆ 8.7675e18   ┆ 13663255640 ┆ 79099256380 ┆ 52786108153 ┆ false       │\n",
       "│ 7970108      ┆ /data/Sampl ┆             ┆ 684818441   ┆ 43938615    ┆ 84776855    ┆             │\n",
       "│              ┆ eHDS.json   ┆             ┆             ┆             ┆             ┆             │\n",
       "└──────────────┴─────────────┴─────────────┴─────────────┴─────────────┴─────────────┴─────────────┘"
      ]
     },
     "execution_count": 5,
     "metadata": {},
     "output_type": "execute_result"
    }
   ],
   "source": [
    "anon.process()"
   ]
  },
  {
   "attachments": {},
   "cell_type": "markdown",
   "metadata": {},
   "source": [
    "To trace back the columns to their original names, the class also contains a mapping, which does not have to be provided."
   ]
  },
  {
   "cell_type": "code",
   "execution_count": 6,
   "metadata": {
    "execution": {
     "iopub.execute_input": "2023-09-21T09:39:49.339306Z",
     "iopub.status.busy": "2023-09-21T09:39:49.338965Z",
     "iopub.status.idle": "2023-09-21T09:39:49.343157Z",
     "shell.execute_reply": "2023-09-21T09:39:49.342531Z"
    }
   },
   "outputs": [
    {
     "data": {
      "text/plain": [
       "{'Customer_City': 'PREDICTOR_0',\n",
       " 'filename': 'filename',\n",
       " 'Customer_CLV': 'PREDICTOR_2',\n",
       " 'Customer_MaritalStatus': 'PREDICTOR_3',\n",
       " 'Context_Name': 'Context_Name',\n",
       " 'IH_Web_Inbound_Accepted_pxLastGroupID': 'IH_PREDICTOR_0',\n",
       " 'Decision_Outcome': 'Decision_Outcome'}"
      ]
     },
     "execution_count": 6,
     "metadata": {},
     "output_type": "execute_result"
    }
   ],
   "source": [
    "anon.column_mapping"
   ]
  },
  {
   "attachments": {},
   "cell_type": "markdown",
   "metadata": {},
   "source": [
    "## Configs\n",
    "\n",
    "Each capability can optionally be turned off - see below for the full list of config options, and refer to the API reference for the full description."
   ]
  },
  {
   "cell_type": "code",
   "execution_count": 7,
   "metadata": {
    "execution": {
     "iopub.execute_input": "2023-09-21T09:39:49.346275Z",
     "iopub.status.busy": "2023-09-21T09:39:49.345899Z",
     "iopub.status.idle": "2023-09-21T09:39:49.350505Z",
     "shell.execute_reply": "2023-09-21T09:39:49.349875Z"
    }
   },
   "outputs": [
    {
     "data": {
      "text/plain": [
       "{'config_file': None,\n",
       " 'hds_folder': '.',\n",
       " 'use_datamart': False,\n",
       " 'datamart_folder': 'datamart',\n",
       " 'output_format': 'ndjson',\n",
       " 'output_folder': 'output',\n",
       " 'mapping_file': 'mapping.map',\n",
       " 'mask_predictor_names': True,\n",
       " 'mask_context_key_names': False,\n",
       " 'mask_ih_names': True,\n",
       " 'mask_outcome_name': False,\n",
       " 'mask_predictor_values': True,\n",
       " 'mask_context_key_values': True,\n",
       " 'mask_ih_values': True,\n",
       " 'mask_outcome_values': True,\n",
       " 'context_key_label': 'Context_*',\n",
       " 'ih_label': 'IH_*',\n",
       " 'outcome_column': 'Decision_Outcome',\n",
       " 'positive_outcomes': ['Accepted', 'Clicked'],\n",
       " 'negative_outcomes': ['Rejected', 'Impression'],\n",
       " 'special_predictors': ['Decision_DecisionTime',\n",
       "  'Decision_OutcomeTime',\n",
       "  'Decision_Rank'],\n",
       " 'sample_percentage_schema_inferencing': 0.01}"
      ]
     },
     "execution_count": 7,
     "metadata": {},
     "output_type": "execute_result"
    }
   ],
   "source": [
    "dict(zip(Config.__init__.__code__.co_varnames[1:], Config.__init__.__defaults__))"
   ]
  },
  {
   "attachments": {},
   "cell_type": "markdown",
   "metadata": {},
   "source": [
    "It's easy to change these parameters by just passing the keyword arguments. In the following example, we\n",
    "- Keep the IH predictor names\n",
    "- Keep the outcome values\n",
    "- Keep the context key values\n",
    "- Keep the context key predictor names"
   ]
  },
  {
   "cell_type": "code",
   "execution_count": 8,
   "metadata": {
    "execution": {
     "iopub.execute_input": "2023-09-21T09:39:49.353750Z",
     "iopub.status.busy": "2023-09-21T09:39:49.353421Z",
     "iopub.status.idle": "2023-09-21T09:39:49.365582Z",
     "shell.execute_reply": "2023-09-21T09:39:49.364557Z"
    }
   },
   "outputs": [
    {
     "data": {
      "text/html": [
       "<div><style>\n",
       ".dataframe > thead > tr > th,\n",
       ".dataframe > tbody > tr > td {\n",
       "  text-align: right;\n",
       "}\n",
       "</style>\n",
       "<small>shape: (7, 7)</small><table border=\"1\" class=\"dataframe\"><thead><tr><th>PREDICTOR_0</th><th>filename</th><th>PREDICTOR_2</th><th>PREDICTOR_3</th><th>Context_Name</th><th>IH_Web_Inbound_Accepted_pxLastGroupID</th><th>Decision_Outcome</th></tr><tr><td>str</td><td>str</td><td>f64</td><td>str</td><td>str</td><td>str</td><td>str</td></tr></thead><tbody><tr><td>&quot;16606175969325…</td><td>&quot;../../../../da…</td><td>1.2927e19</td><td>&quot;86050135458531…</td><td>&quot;FirstMortgage3…</td><td>&quot;52158912173824…</td><td>&quot;Rejected&quot;</td></tr><tr><td>&quot;48989449425371…</td><td>&quot;../../../../da…</td><td>1.4856e19</td><td>&quot;53802500056944…</td><td>&quot;FirstMortgage3…</td><td>&quot;40005535483459…</td><td>&quot;Accepted&quot;</td></tr><tr><td>&quot;73936259108684…</td><td>&quot;../../../../da…</td><td>5.6458e17</td><td>&quot;11416644921693…</td><td>&quot;MoneyMarketSav…</td><td>&quot;52158912173824…</td><td>&quot;Rejected&quot;</td></tr><tr><td>&quot;41218805354321…</td><td>&quot;../../../../da…</td><td>4.0723e18</td><td>&quot;53802500056944…</td><td>&quot;BasicChecking&quot;</td><td>&quot;52158912173824…</td><td>&quot;Rejected&quot;</td></tr><tr><td>&quot;46153581794986…</td><td>&quot;../../../../da…</td><td>1.4677e19</td><td>&quot;86050135458531…</td><td>&quot;BasicChecking&quot;</td><td>&quot;60474798080983…</td><td>&quot;Accepted&quot;</td></tr><tr><td>&quot;70232526135233…</td><td>&quot;../../../../da…</td><td>1.6330e19</td><td>&quot;11416644921693…</td><td>&quot;UPlusFinPerson…</td><td>null</td><td>&quot;Rejected&quot;</td></tr><tr><td>&quot;50809932004242…</td><td>&quot;../../../../da…</td><td>8.7675e18</td><td>&quot;11416644921693…</td><td>&quot;BasicChecking&quot;</td><td>&quot;60474798080983…</td><td>&quot;Rejected&quot;</td></tr></tbody></table></div>"
      ],
      "text/plain": [
       "shape: (7, 7)\n",
       "┌──────────────┬─────────────┬─────────────┬─────────────┬─────────────┬─────────────┬─────────────┐\n",
       "│ PREDICTOR_0  ┆ filename    ┆ PREDICTOR_2 ┆ PREDICTOR_3 ┆ Context_Nam ┆ IH_Web_Inbo ┆ Decision_Ou │\n",
       "│ ---          ┆ ---         ┆ ---         ┆ ---         ┆ e           ┆ und_Accepte ┆ tcome       │\n",
       "│ str          ┆ str         ┆ f64         ┆ str         ┆ ---         ┆ d_pxLastGr… ┆ ---         │\n",
       "│              ┆             ┆             ┆             ┆ str         ┆ ---         ┆ str         │\n",
       "│              ┆             ┆             ┆             ┆             ┆ str         ┆             │\n",
       "╞══════════════╪═════════════╪═════════════╪═════════════╪═════════════╪═════════════╪═════════════╡\n",
       "│ 166061759693 ┆ ../../../.. ┆ 1.2927e19   ┆ 86050135458 ┆ FirstMortga ┆ 52158912173 ┆ Rejected    │\n",
       "│ 25439167     ┆ /data/Sampl ┆             ┆ 53119228    ┆ ge30yr      ┆ 82419501    ┆             │\n",
       "│              ┆ eHDS.json   ┆             ┆             ┆             ┆             ┆             │\n",
       "│ 489894494253 ┆ ../../../.. ┆ 1.4856e19   ┆ 53802500056 ┆ FirstMortga ┆ 40005535483 ┆ Accepted    │\n",
       "│ 7104721      ┆ /data/Sampl ┆             ┆ 94445986    ┆ ge30yr      ┆ 45961297    ┆             │\n",
       "│              ┆ eHDS.json   ┆             ┆             ┆             ┆             ┆             │\n",
       "│ 739362591086 ┆ ../../../.. ┆ 5.6458e17   ┆ 11416644921 ┆ MoneyMarket ┆ 52158912173 ┆ Rejected    │\n",
       "│ 8421845      ┆ /data/Sampl ┆             ┆ 693062250   ┆ SavingsAcco ┆ 82419501    ┆             │\n",
       "│              ┆ eHDS.json   ┆             ┆             ┆ unt         ┆             ┆             │\n",
       "│ 412188053543 ┆ ../../../.. ┆ 4.0723e18   ┆ 53802500056 ┆ BasicChecki ┆ 52158912173 ┆ Rejected    │\n",
       "│ 2120775      ┆ /data/Sampl ┆             ┆ 94445986    ┆ ng          ┆ 82419501    ┆             │\n",
       "│              ┆ eHDS.json   ┆             ┆             ┆             ┆             ┆             │\n",
       "│ 461535817949 ┆ ../../../.. ┆ 1.4677e19   ┆ 86050135458 ┆ BasicChecki ┆ 60474798080 ┆ Accepted    │\n",
       "│ 8636382      ┆ /data/Sampl ┆             ┆ 53119228    ┆ ng          ┆ 9837165     ┆             │\n",
       "│              ┆ eHDS.json   ┆             ┆             ┆             ┆             ┆             │\n",
       "│ 702325261352 ┆ ../../../.. ┆ 1.6330e19   ┆ 11416644921 ┆ UPlusFinPer ┆ null        ┆ Rejected    │\n",
       "│ 3351732      ┆ /data/Sampl ┆             ┆ 693062250   ┆ sonal       ┆             ┆             │\n",
       "│              ┆ eHDS.json   ┆             ┆             ┆             ┆             ┆             │\n",
       "│ 508099320042 ┆ ../../../.. ┆ 8.7675e18   ┆ 11416644921 ┆ BasicChecki ┆ 60474798080 ┆ Rejected    │\n",
       "│ 4234464      ┆ /data/Sampl ┆             ┆ 693062250   ┆ ng          ┆ 9837165     ┆             │\n",
       "│              ┆ eHDS.json   ┆             ┆             ┆             ┆             ┆             │\n",
       "└──────────────┴─────────────┴─────────────┴─────────────┴─────────────┴─────────────┴─────────────┘"
      ]
     },
     "execution_count": 8,
     "metadata": {},
     "output_type": "execute_result"
    }
   ],
   "source": [
    "anon = DataAnonymization(\n",
    "    hds_folder=\"../../../../data/\",\n",
    "    mask_ih_names=False,\n",
    "    mask_outcome_values=False,\n",
    "    mask_context_key_values=False,\n",
    "    mask_context_key_names=False,\n",
    ")\n",
    "anon.process()\n"
   ]
  },
  {
   "attachments": {},
   "cell_type": "markdown",
   "metadata": {},
   "source": [
    "The configs can also be written and read as such:"
   ]
  },
  {
   "cell_type": "code",
   "execution_count": 9,
   "metadata": {
    "execution": {
     "iopub.execute_input": "2023-09-21T09:39:49.368760Z",
     "iopub.status.busy": "2023-09-21T09:39:49.368255Z",
     "iopub.status.idle": "2023-09-21T09:39:49.371657Z",
     "shell.execute_reply": "2023-09-21T09:39:49.371055Z"
    }
   },
   "outputs": [],
   "source": [
    "anon.config.save_to_config_file('config.json')"
   ]
  },
  {
   "cell_type": "code",
   "execution_count": 10,
   "metadata": {
    "execution": {
     "iopub.execute_input": "2023-09-21T09:39:49.374287Z",
     "iopub.status.busy": "2023-09-21T09:39:49.373939Z",
     "iopub.status.idle": "2023-09-21T09:39:49.386104Z",
     "shell.execute_reply": "2023-09-21T09:39:49.385251Z"
    }
   },
   "outputs": [
    {
     "data": {
      "text/html": [
       "<div><style>\n",
       ".dataframe > thead > tr > th,\n",
       ".dataframe > tbody > tr > td {\n",
       "  text-align: right;\n",
       "}\n",
       "</style>\n",
       "<small>shape: (7, 7)</small><table border=\"1\" class=\"dataframe\"><thead><tr><th>PREDICTOR_0</th><th>filename</th><th>PREDICTOR_2</th><th>PREDICTOR_3</th><th>Context_Name</th><th>IH_Web_Inbound_Accepted_pxLastGroupID</th><th>Decision_Outcome</th></tr><tr><td>str</td><td>str</td><td>f64</td><td>str</td><td>str</td><td>str</td><td>str</td></tr></thead><tbody><tr><td>&quot;13900848103644…</td><td>&quot;../../../../da…</td><td>1.2927e19</td><td>&quot;10915645239905…</td><td>&quot;FirstMortgage3…</td><td>&quot;82981218542419…</td><td>&quot;Rejected&quot;</td></tr><tr><td>&quot;79855234553166…</td><td>&quot;../../../../da…</td><td>1.4856e19</td><td>&quot;12025900207842…</td><td>&quot;FirstMortgage3…</td><td>&quot;55031406841984…</td><td>&quot;Accepted&quot;</td></tr><tr><td>&quot;11915403097034…</td><td>&quot;../../../../da…</td><td>5.6458e17</td><td>&quot;30855713155062…</td><td>&quot;MoneyMarketSav…</td><td>&quot;82981218542419…</td><td>&quot;Rejected&quot;</td></tr><tr><td>&quot;11681093620698…</td><td>&quot;../../../../da…</td><td>4.0723e18</td><td>&quot;12025900207842…</td><td>&quot;BasicChecking&quot;</td><td>&quot;82981218542419…</td><td>&quot;Rejected&quot;</td></tr><tr><td>&quot;43179915290136…</td><td>&quot;../../../../da…</td><td>1.4677e19</td><td>&quot;10915645239905…</td><td>&quot;BasicChecking&quot;</td><td>&quot;34207304308224…</td><td>&quot;Accepted&quot;</td></tr><tr><td>&quot;81483321853145…</td><td>&quot;../../../../da…</td><td>1.6330e19</td><td>&quot;30855713155062…</td><td>&quot;UPlusFinPerson…</td><td>null</td><td>&quot;Rejected&quot;</td></tr><tr><td>&quot;51471146324585…</td><td>&quot;../../../../da…</td><td>8.7675e18</td><td>&quot;30855713155062…</td><td>&quot;BasicChecking&quot;</td><td>&quot;34207304308224…</td><td>&quot;Rejected&quot;</td></tr></tbody></table></div>"
      ],
      "text/plain": [
       "shape: (7, 7)\n",
       "┌──────────────┬─────────────┬─────────────┬─────────────┬─────────────┬─────────────┬─────────────┐\n",
       "│ PREDICTOR_0  ┆ filename    ┆ PREDICTOR_2 ┆ PREDICTOR_3 ┆ Context_Nam ┆ IH_Web_Inbo ┆ Decision_Ou │\n",
       "│ ---          ┆ ---         ┆ ---         ┆ ---         ┆ e           ┆ und_Accepte ┆ tcome       │\n",
       "│ str          ┆ str         ┆ f64         ┆ str         ┆ ---         ┆ d_pxLastGr… ┆ ---         │\n",
       "│              ┆             ┆             ┆             ┆ str         ┆ ---         ┆ str         │\n",
       "│              ┆             ┆             ┆             ┆             ┆ str         ┆             │\n",
       "╞══════════════╪═════════════╪═════════════╪═════════════╪═════════════╪═════════════╪═════════════╡\n",
       "│ 139008481036 ┆ ../../../.. ┆ 1.2927e19   ┆ 10915645239 ┆ FirstMortga ┆ 82981218542 ┆ Rejected    │\n",
       "│ 44898182     ┆ /data/Sampl ┆             ┆ 905096947   ┆ ge30yr      ┆ 41967573    ┆             │\n",
       "│              ┆ eHDS.json   ┆             ┆             ┆             ┆             ┆             │\n",
       "│ 798552345531 ┆ ../../../.. ┆ 1.4856e19   ┆ 12025900207 ┆ FirstMortga ┆ 55031406841 ┆ Accepted    │\n",
       "│ 6676825      ┆ /data/Sampl ┆             ┆ 842822571   ┆ ge30yr      ┆ 98429615    ┆             │\n",
       "│              ┆ eHDS.json   ┆             ┆             ┆             ┆             ┆             │\n",
       "│ 119154030970 ┆ ../../../.. ┆ 5.6458e17   ┆ 30855713155 ┆ MoneyMarket ┆ 82981218542 ┆ Rejected    │\n",
       "│ 34851339     ┆ /data/Sampl ┆             ┆ 06285125    ┆ SavingsAcco ┆ 41967573    ┆             │\n",
       "│              ┆ eHDS.json   ┆             ┆             ┆ unt         ┆             ┆             │\n",
       "│ 116810936206 ┆ ../../../.. ┆ 4.0723e18   ┆ 12025900207 ┆ BasicChecki ┆ 82981218542 ┆ Rejected    │\n",
       "│ 98208682     ┆ /data/Sampl ┆             ┆ 842822571   ┆ ng          ┆ 41967573    ┆             │\n",
       "│              ┆ eHDS.json   ┆             ┆             ┆             ┆             ┆             │\n",
       "│ 431799152901 ┆ ../../../.. ┆ 1.4677e19   ┆ 10915645239 ┆ BasicChecki ┆ 34207304308 ┆ Accepted    │\n",
       "│ 3613620      ┆ /data/Sampl ┆             ┆ 905096947   ┆ ng          ┆ 22447487    ┆             │\n",
       "│              ┆ eHDS.json   ┆             ┆             ┆             ┆             ┆             │\n",
       "│ 814833218531 ┆ ../../../.. ┆ 1.6330e19   ┆ 30855713155 ┆ UPlusFinPer ┆ null        ┆ Rejected    │\n",
       "│ 452621       ┆ /data/Sampl ┆             ┆ 06285125    ┆ sonal       ┆             ┆             │\n",
       "│              ┆ eHDS.json   ┆             ┆             ┆             ┆             ┆             │\n",
       "│ 514711463245 ┆ ../../../.. ┆ 8.7675e18   ┆ 30855713155 ┆ BasicChecki ┆ 34207304308 ┆ Rejected    │\n",
       "│ 8526249      ┆ /data/Sampl ┆             ┆ 06285125    ┆ ng          ┆ 22447487    ┆             │\n",
       "│              ┆ eHDS.json   ┆             ┆             ┆             ┆             ┆             │\n",
       "└──────────────┴─────────────┴─────────────┴─────────────┴─────────────┴─────────────┴─────────────┘"
      ]
     },
     "execution_count": 10,
     "metadata": {},
     "output_type": "execute_result"
    }
   ],
   "source": [
    "anon = DataAnonymization(config=Config(config_file='config.json'))\n",
    "anon.process()"
   ]
  },
  {
   "attachments": {},
   "cell_type": "markdown",
   "metadata": {},
   "source": [
    "## Exporting\n",
    "Two functions export:\n",
    "- `create_mapping_file()` writes the mapping file of the predictor names\n",
    "- `write_to_output()` writes the processed dataframe to disk\n",
    "\n",
    "Write to output accepts the following extensions: `[\"ndjson\", \"parquet\", \"arrow\", \"csv\"]`"
   ]
  },
  {
   "cell_type": "code",
   "execution_count": 11,
   "metadata": {
    "execution": {
     "iopub.execute_input": "2023-09-21T09:39:49.388742Z",
     "iopub.status.busy": "2023-09-21T09:39:49.388383Z",
     "iopub.status.idle": "2023-09-21T09:39:49.392373Z",
     "shell.execute_reply": "2023-09-21T09:39:49.391665Z"
    }
   },
   "outputs": [
    {
     "name": "stdout",
     "output_type": "stream",
     "text": [
      "Customer_City=PREDICTOR_0\n",
      "filename=filename\n",
      "Customer_CLV=PREDICTOR_2\n",
      "Customer_MaritalStatus=PREDICTOR_3\n",
      "Context_Name=Context_Name\n",
      "IH_Web_Inbound_Accepted_pxLastGroupID=IH_Web_Inbound_Accepted_pxLastGroupID\n",
      "Decision_Outcome=Decision_Outcome\n",
      "\n"
     ]
    }
   ],
   "source": [
    "anon.create_mapping_file()\n",
    "with open('mapping.map') as f:\n",
    "    print(f.read())"
   ]
  },
  {
   "cell_type": "code",
   "execution_count": 12,
   "metadata": {
    "execution": {
     "iopub.execute_input": "2023-09-21T09:39:49.395150Z",
     "iopub.status.busy": "2023-09-21T09:39:49.394816Z",
     "iopub.status.idle": "2023-09-21T09:39:49.399177Z",
     "shell.execute_reply": "2023-09-21T09:39:49.398630Z"
    }
   },
   "outputs": [],
   "source": [
    "anon.write_to_output(ext='arrow')"
   ]
  },
  {
   "cell_type": "code",
   "execution_count": 13,
   "metadata": {
    "execution": {
     "iopub.execute_input": "2023-09-21T09:39:49.401997Z",
     "iopub.status.busy": "2023-09-21T09:39:49.401657Z",
     "iopub.status.idle": "2023-09-21T09:39:49.407002Z",
     "shell.execute_reply": "2023-09-21T09:39:49.406357Z"
    }
   },
   "outputs": [
    {
     "data": {
      "text/html": [
       "<div><style>\n",
       ".dataframe > thead > tr > th,\n",
       ".dataframe > tbody > tr > td {\n",
       "  text-align: right;\n",
       "}\n",
       "</style>\n",
       "<small>shape: (7, 6)</small><table border=\"1\" class=\"dataframe\"><thead><tr><th>PREDICTOR_0</th><th>PREDICTOR_2</th><th>PREDICTOR_3</th><th>Context_Name</th><th>IH_Web_Inbound_Accepted_pxLastGroupID</th><th>Decision_Outcome</th></tr><tr><td>str</td><td>f64</td><td>str</td><td>str</td><td>str</td><td>str</td></tr></thead><tbody><tr><td>&quot;14036233056649…</td><td>1.2927e19</td><td>&quot;12910020278855…</td><td>&quot;FirstMortgage3…</td><td>&quot;68848262557517…</td><td>&quot;Rejected&quot;</td></tr><tr><td>&quot;10482833503038…</td><td>1.4856e19</td><td>&quot;92568337079192…</td><td>&quot;FirstMortgage3…</td><td>&quot;16297231089045…</td><td>&quot;Accepted&quot;</td></tr><tr><td>&quot;71999243453110…</td><td>5.6458e17</td><td>&quot;21317888133778…</td><td>&quot;MoneyMarketSav…</td><td>&quot;68848262557517…</td><td>&quot;Rejected&quot;</td></tr><tr><td>&quot;10374619281367…</td><td>4.0723e18</td><td>&quot;92568337079192…</td><td>&quot;BasicChecking&quot;</td><td>&quot;68848262557517…</td><td>&quot;Rejected&quot;</td></tr><tr><td>&quot;88595475598485…</td><td>1.4677e19</td><td>&quot;12910020278855…</td><td>&quot;BasicChecking&quot;</td><td>&quot;12678878702894…</td><td>&quot;Accepted&quot;</td></tr><tr><td>&quot;16624926707498…</td><td>1.6330e19</td><td>&quot;21317888133778…</td><td>&quot;UPlusFinPerson…</td><td>null</td><td>&quot;Rejected&quot;</td></tr><tr><td>&quot;10631274710588…</td><td>8.7675e18</td><td>&quot;21317888133778…</td><td>&quot;BasicChecking&quot;</td><td>&quot;12678878702894…</td><td>&quot;Rejected&quot;</td></tr></tbody></table></div>"
      ],
      "text/plain": [
       "shape: (7, 6)\n",
       "┌────────────────┬─────────────┬────────────────┬────────────────┬────────────────┬────────────────┐\n",
       "│ PREDICTOR_0    ┆ PREDICTOR_2 ┆ PREDICTOR_3    ┆ Context_Name   ┆ IH_Web_Inbound ┆ Decision_Outco │\n",
       "│ ---            ┆ ---         ┆ ---            ┆ ---            ┆ _Accepted_pxLa ┆ me             │\n",
       "│ str            ┆ f64         ┆ str            ┆ str            ┆ stGr…          ┆ ---            │\n",
       "│                ┆             ┆                ┆                ┆ ---            ┆ str            │\n",
       "│                ┆             ┆                ┆                ┆ str            ┆                │\n",
       "╞════════════════╪═════════════╪════════════════╪════════════════╪════════════════╪════════════════╡\n",
       "│ 14036233056649 ┆ 1.2927e19   ┆ 12910020278855 ┆ FirstMortgage3 ┆ 68848262557517 ┆ Rejected       │\n",
       "│ 417828         ┆             ┆ 441100         ┆ 0yr            ┆ 55923          ┆                │\n",
       "│ 10482833503038 ┆ 1.4856e19   ┆ 92568337079192 ┆ FirstMortgage3 ┆ 16297231089045 ┆ Accepted       │\n",
       "│ 021977         ┆             ┆ 2641           ┆ 0yr            ┆ 592952         ┆                │\n",
       "│ 71999243453110 ┆ 5.6458e17   ┆ 21317888133778 ┆ MoneyMarketSav ┆ 68848262557517 ┆ Rejected       │\n",
       "│ 14160          ┆             ┆ 88395          ┆ ingsAccount    ┆ 55923          ┆                │\n",
       "│ 10374619281367 ┆ 4.0723e18   ┆ 92568337079192 ┆ BasicChecking  ┆ 68848262557517 ┆ Rejected       │\n",
       "│ 724900         ┆             ┆ 2641           ┆                ┆ 55923          ┆                │\n",
       "│ 88595475598485 ┆ 1.4677e19   ┆ 12910020278855 ┆ BasicChecking  ┆ 12678878702894 ┆ Accepted       │\n",
       "│ 95842          ┆             ┆ 441100         ┆                ┆ 496331         ┆                │\n",
       "│ 16624926707498 ┆ 1.6330e19   ┆ 21317888133778 ┆ UPlusFinPerson ┆ null           ┆ Rejected       │\n",
       "│ 902352         ┆             ┆ 88395          ┆ al             ┆                ┆                │\n",
       "│ 10631274710588 ┆ 8.7675e18   ┆ 21317888133778 ┆ BasicChecking  ┆ 12678878702894 ┆ Rejected       │\n",
       "│ 864067         ┆             ┆ 88395          ┆                ┆ 496331         ┆                │\n",
       "└────────────────┴─────────────┴────────────────┴────────────────┴────────────────┴────────────────┘"
      ]
     },
     "execution_count": 13,
     "metadata": {},
     "output_type": "execute_result"
    }
   ],
   "source": [
    "pl.read_ipc('output/hds.arrow')"
   ]
  },
  {
   "attachments": {},
   "cell_type": "markdown",
   "metadata": {
    "nbsphinx": "hidden"
   },
   "source": [
    "## Advanced: Hash fuctions\n",
    "\n",
    "By default, we use [the same hashing algorithm Polars](https://pola-rs.github.io/polars/py-polars/html/reference/expressions/api/polars.Expr.hash.html#polars.Expr.hash) uses: [xxhash](https://github.com/Cyan4973/xxHash), as implemented [here](https://github.com/pola-rs/polars/blob/3f287f370b3c388ed2f3f218b2c096382548136f/polars/polars-core/src/vector_hasher.rs#L266). xxhash is fast to compute, and you can check its performance in collision, dispersion and randomness [here](https://github.com/Cyan4973/xxHash/tree/dev/tests). \n",
    "\n",
    "xxhash accepts four distinct seeds, but by default we set the seeds to `0`. It is possible to set the `seed` argument of the `process()` function to `'random'`, which will set all four seeds to a random integer between `0` and `1000000000`. Alternatively, it is possible to supply the four seeds manually with arguments `seed`, `seed_1`, `seed_2` and `seed_3`. \n",
    "\n",
    "If the xxhash with (random) seed(s) is not deemed sufficiently secure, it is possible to use your own hashing algorithm.\n",
    "\n",
    "Note that since we're now running python code and not native Polars code anymore, this will be _significantly_ slower. Nonetheless, it is possible.\n",
    "\n",
    "Just as an example - this is how one would use sha3_256:"
   ]
  },
  {
   "cell_type": "code",
   "execution_count": 14,
   "metadata": {
    "execution": {
     "iopub.execute_input": "2023-09-21T09:39:49.409612Z",
     "iopub.status.busy": "2023-09-21T09:39:49.409288Z",
     "iopub.status.idle": "2023-09-21T09:39:49.811957Z",
     "shell.execute_reply": "2023-09-21T09:39:49.811109Z"
    },
    "nbsphinx": "hidden"
   },
   "outputs": [
    {
     "ename": "ComputeError",
     "evalue": "AttributeError: 'int' object has no attribute 'encode'",
     "output_type": "error",
     "traceback": [
      "\u001b[0;31m---------------------------------------------------------------------------\u001b[0m",
      "\u001b[0;31mComputeError\u001b[0m                              Traceback (most recent call last)",
      "Cell \u001b[0;32mIn[14], line 3\u001b[0m\n\u001b[1;32m      1\u001b[0m \u001b[38;5;28;01mfrom\u001b[39;00m \u001b[38;5;21;01mhashlib\u001b[39;00m \u001b[38;5;28;01mimport\u001b[39;00m sha3_256\n\u001b[0;32m----> 3\u001b[0m \u001b[43manon\u001b[49m\u001b[38;5;241;43m.\u001b[39;49m\u001b[43mprocess\u001b[49m\u001b[43m(\u001b[49m\u001b[43malgorithm\u001b[49m\u001b[38;5;241;43m=\u001b[39;49m\u001b[38;5;28;43;01mlambda\u001b[39;49;00m\u001b[43m \u001b[49m\u001b[43mx\u001b[49m\u001b[43m:\u001b[49m\u001b[43m \u001b[49m\u001b[43msha3_256\u001b[49m\u001b[43m(\u001b[49m\u001b[43mx\u001b[49m\u001b[38;5;241;43m.\u001b[39;49m\u001b[43mencode\u001b[49m\u001b[43m(\u001b[49m\u001b[43m)\u001b[49m\u001b[43m)\u001b[49m\u001b[38;5;241;43m.\u001b[39;49m\u001b[43mhexdigest\u001b[49m\u001b[43m(\u001b[49m\u001b[43m)\u001b[49m\u001b[43m)\u001b[49m\n",
      "File \u001b[0;32m~/work/pega-datascientist-tools/pega-datascientist-tools/python/docs/source/articles/../../../pdstools/utils/hds_utils.py:516\u001b[0m, in \u001b[0;36mDataAnonymization.process\u001b[0;34m(self, strategy, **kwargs)\u001b[0m\n\u001b[1;32m    514\u001b[0m df \u001b[38;5;241m=\u001b[39m df\u001b[38;5;241m.\u001b[39mselect(\u001b[38;5;28mself\u001b[39m\u001b[38;5;241m.\u001b[39mcolumn_mapping\u001b[38;5;241m.\u001b[39mkeys())\u001b[38;5;241m.\u001b[39mrename(\u001b[38;5;28mself\u001b[39m\u001b[38;5;241m.\u001b[39mcolumn_mapping)\n\u001b[1;32m    515\u001b[0m \u001b[38;5;28;01mif\u001b[39;00m strategy \u001b[38;5;241m==\u001b[39m \u001b[38;5;124m\"\u001b[39m\u001b[38;5;124meager\u001b[39m\u001b[38;5;124m\"\u001b[39m:\n\u001b[0;32m--> 516\u001b[0m     \u001b[38;5;28;01mreturn\u001b[39;00m \u001b[43mdf\u001b[49m\u001b[38;5;241;43m.\u001b[39;49m\u001b[43mcollect\u001b[49m\u001b[43m(\u001b[49m\u001b[43m)\u001b[49m\n\u001b[1;32m    517\u001b[0m \u001b[38;5;28;01mreturn\u001b[39;00m df\n",
      "File \u001b[0;32m/opt/hostedtoolcache/Python/3.11.5/x64/lib/python3.11/site-packages/polars/lazyframe/frame.py:1530\u001b[0m, in \u001b[0;36mLazyFrame.collect\u001b[0;34m(self, type_coercion, predicate_pushdown, projection_pushdown, simplify_expression, no_optimization, slice_pushdown, common_subplan_elimination, streaming)\u001b[0m\n\u001b[1;32m   1519\u001b[0m     common_subplan_elimination \u001b[38;5;241m=\u001b[39m \u001b[38;5;28;01mFalse\u001b[39;00m\n\u001b[1;32m   1521\u001b[0m ldf \u001b[38;5;241m=\u001b[39m \u001b[38;5;28mself\u001b[39m\u001b[38;5;241m.\u001b[39m_ldf\u001b[38;5;241m.\u001b[39moptimization_toggle(\n\u001b[1;32m   1522\u001b[0m     type_coercion,\n\u001b[1;32m   1523\u001b[0m     predicate_pushdown,\n\u001b[0;32m   (...)\u001b[0m\n\u001b[1;32m   1528\u001b[0m     streaming,\n\u001b[1;32m   1529\u001b[0m )\n\u001b[0;32m-> 1530\u001b[0m \u001b[38;5;28;01mreturn\u001b[39;00m wrap_df(ldf\u001b[38;5;241m.\u001b[39mcollect())\n",
      "\u001b[0;31mComputeError\u001b[0m: AttributeError: 'int' object has no attribute 'encode'"
     ]
    }
   ],
   "source": [
    "from hashlib import sha3_256\n",
    "\n",
    "anon.process(algorithm=lambda x: sha3_256(x.encode()).hexdigest())"
   ]
  }
 ],
 "metadata": {
  "kernelspec": {
   "display_name": "Python 3",
   "language": "python",
   "name": "python3"
  },
  "language_info": {
   "codemirror_mode": {
    "name": "ipython",
    "version": 3
   },
   "file_extension": ".py",
   "mimetype": "text/x-python",
   "name": "python",
   "nbconvert_exporter": "python",
   "pygments_lexer": "ipython3",
   "version": "3.11.5"
  },
  "vscode": {
   "interpreter": {
    "hash": "aee8b7b246df8f9039afb4144a1f6fd8d2ca17a180786b69acc140d282b71a49"
   }
  }
 },
 "nbformat": 4,
 "nbformat_minor": 2
}
