{
 "cells": [
  {
   "attachments": {},
   "cell_type": "markdown",
   "metadata": {},
   "source": [
    "# Data Anonymization\n",
    "\n",
    "In Pega CDH 8.5 and up, it's now possible to record the historical data as seen by the Adaptive Models. See [this academy challenge](https://academy.pega.com/challenge/exporting-historical-data/v4) for reference. This historical data can be further used to experiment with offline models, but also to fine-tune the OOTB Gradient Boosting model. However, sharing this information with Pega can be sensitive as it contains raw predictor data. \n",
    "\n",
    "To this end, we provide a simple and transparent script to fully anonimize this dataset.\n",
    "\n",
    "The DataAnonymization script is now part of pdstools, and you can import it directly as such."
   ]
  },
  {
   "cell_type": "code",
   "execution_count": 1,
   "metadata": {
    "execution": {
     "iopub.execute_input": "2024-05-08T15:36:48.441391Z",
     "iopub.status.busy": "2024-05-08T15:36:48.440952Z",
     "iopub.status.idle": "2024-05-08T15:36:48.513489Z",
     "shell.execute_reply": "2024-05-08T15:36:48.512810Z"
    },
    "nbsphinx": "hidden"
   },
   "outputs": [],
   "source": [
    "# These lines are only for rendering in the docs, and are hidden through Jupyter tags\n",
    "# Do not run if you're running the notebook seperately\n",
    "\n",
    "import os  \n",
    "import sys\n",
    "import plotly.io as pio\n",
    "pio.renderers.default = \"notebook_connected\"\n",
    "\n",
    "sys.path.append(\"../../../\")\n",
    "sys.path.append('../../python')"
   ]
  },
  {
   "cell_type": "code",
   "execution_count": 2,
   "metadata": {
    "execution": {
     "iopub.execute_input": "2024-05-08T15:36:48.515791Z",
     "iopub.status.busy": "2024-05-08T15:36:48.515478Z",
     "iopub.status.idle": "2024-05-08T15:36:49.518339Z",
     "shell.execute_reply": "2024-05-08T15:36:49.517716Z"
    }
   },
   "outputs": [],
   "source": [
    "from pdstools import ADMDatamart\n",
    "from pdstools import Config, DataAnonymization\n",
    "import polars as pl"
   ]
  },
  {
   "attachments": {},
   "cell_type": "markdown",
   "metadata": {},
   "source": [
    "## Input data\n",
    "\n",
    "To demonstrate this process, we're going to anonymise this toy example dataframe:"
   ]
  },
  {
   "cell_type": "code",
   "execution_count": 3,
   "metadata": {
    "execution": {
     "iopub.execute_input": "2024-05-08T15:36:49.521157Z",
     "iopub.status.busy": "2024-05-08T15:36:49.520561Z",
     "iopub.status.idle": "2024-05-08T15:36:49.528830Z",
     "shell.execute_reply": "2024-05-08T15:36:49.528294Z"
    }
   },
   "outputs": [
    {
     "data": {
      "text/html": [
       "<div><style>\n",
       ".dataframe > thead > tr,\n",
       ".dataframe > tbody > tr {\n",
       "  text-align: right;\n",
       "  white-space: pre-wrap;\n",
       "}\n",
       "</style>\n",
       "<small>shape: (7, 6)</small><table border=\"1\" class=\"dataframe\"><thead><tr><th>Context_Name</th><th>Customer_MaritalStatus</th><th>Customer_CLV</th><th>Customer_City</th><th>IH_Web_Inbound_Accepted_pxLastGroupID</th><th>Decision_Outcome</th></tr><tr><td>str</td><td>str</td><td>i64</td><td>str</td><td>str</td><td>str</td></tr></thead><tbody><tr><td>&quot;FirstMortgage3…</td><td>&quot;Married&quot;</td><td>1460</td><td>&quot;Port Raoul&quot;</td><td>&quot;Account&quot;</td><td>&quot;Rejected&quot;</td></tr><tr><td>&quot;FirstMortgage3…</td><td>&quot;Unknown&quot;</td><td>669</td><td>&quot;Laurianneshire…</td><td>&quot;AutoLoans&quot;</td><td>&quot;Accepted&quot;</td></tr><tr><td>&quot;MoneyMarketSav…</td><td>&quot;No Resp+&quot;</td><td>1174</td><td>&quot;Jacobshaven&quot;</td><td>&quot;Account&quot;</td><td>&quot;Rejected&quot;</td></tr><tr><td>&quot;BasicChecking&quot;</td><td>&quot;Unknown&quot;</td><td>1476</td><td>&quot;Lindton&quot;</td><td>&quot;Account&quot;</td><td>&quot;Rejected&quot;</td></tr><tr><td>&quot;BasicChecking&quot;</td><td>&quot;Married&quot;</td><td>1211</td><td>&quot;South Jimmiesh…</td><td>&quot;DepositAccount…</td><td>&quot;Accepted&quot;</td></tr><tr><td>&quot;UPlusFinPerson…</td><td>&quot;No Resp+&quot;</td><td>533</td><td>&quot;Bergeville&quot;</td><td>null</td><td>&quot;Rejected&quot;</td></tr><tr><td>&quot;BasicChecking&quot;</td><td>&quot;No Resp+&quot;</td><td>555</td><td>&quot;Willyville&quot;</td><td>&quot;DepositAccount…</td><td>&quot;Rejected&quot;</td></tr></tbody></table></div>"
      ],
      "text/plain": [
       "shape: (7, 6)\n",
       "┌────────────────┬────────────────┬──────────────┬────────────────┬────────────────┬───────────────┐\n",
       "│ Context_Name   ┆ Customer_Marit ┆ Customer_CLV ┆ Customer_City  ┆ IH_Web_Inbound ┆ Decision_Outc │\n",
       "│ ---            ┆ alStatus       ┆ ---          ┆ ---            ┆ _Accepted_pxLa ┆ ome           │\n",
       "│ str            ┆ ---            ┆ i64          ┆ str            ┆ stGr…          ┆ ---           │\n",
       "│                ┆ str            ┆              ┆                ┆ ---            ┆ str           │\n",
       "│                ┆                ┆              ┆                ┆ str            ┆               │\n",
       "╞════════════════╪════════════════╪══════════════╪════════════════╪════════════════╪═══════════════╡\n",
       "│ FirstMortgage3 ┆ Married        ┆ 1460         ┆ Port Raoul     ┆ Account        ┆ Rejected      │\n",
       "│ 0yr            ┆                ┆              ┆                ┆                ┆               │\n",
       "│ FirstMortgage3 ┆ Unknown        ┆ 669          ┆ Laurianneshire ┆ AutoLoans      ┆ Accepted      │\n",
       "│ 0yr            ┆                ┆              ┆                ┆                ┆               │\n",
       "│ MoneyMarketSav ┆ No Resp+       ┆ 1174         ┆ Jacobshaven    ┆ Account        ┆ Rejected      │\n",
       "│ ingsAccount    ┆                ┆              ┆                ┆                ┆               │\n",
       "│ BasicChecking  ┆ Unknown        ┆ 1476         ┆ Lindton        ┆ Account        ┆ Rejected      │\n",
       "│ BasicChecking  ┆ Married        ┆ 1211         ┆ South          ┆ DepositAccount ┆ Accepted      │\n",
       "│                ┆                ┆              ┆ Jimmieshire    ┆ s              ┆               │\n",
       "│ UPlusFinPerson ┆ No Resp+       ┆ 533          ┆ Bergeville     ┆ null           ┆ Rejected      │\n",
       "│ al             ┆                ┆              ┆                ┆                ┆               │\n",
       "│ BasicChecking  ┆ No Resp+       ┆ 555          ┆ Willyville     ┆ DepositAccount ┆ Rejected      │\n",
       "│                ┆                ┆              ┆                ┆ s              ┆               │\n",
       "└────────────────┴────────────────┴──────────────┴────────────────┴────────────────┴───────────────┘"
      ]
     },
     "execution_count": 3,
     "metadata": {},
     "output_type": "execute_result"
    }
   ],
   "source": [
    "pl.read_ndjson('../../../../data/SampleHDS.json')"
   ]
  },
  {
   "attachments": {},
   "cell_type": "markdown",
   "metadata": {},
   "source": [
    "As you can see, this dataset consists of regular predictors, IH predictors, context keys and the outcome column. Additionally, some columns are numeric, others are strings. Let's first initialize the DataAnonymization class."
   ]
  },
  {
   "cell_type": "code",
   "execution_count": 4,
   "metadata": {
    "execution": {
     "iopub.execute_input": "2024-05-08T15:36:49.531110Z",
     "iopub.status.busy": "2024-05-08T15:36:49.530689Z",
     "iopub.status.idle": "2024-05-08T15:36:49.536888Z",
     "shell.execute_reply": "2024-05-08T15:36:49.536348Z"
    }
   },
   "outputs": [],
   "source": [
    "anon = DataAnonymization(hds_folder='../../../../data/')"
   ]
  },
  {
   "attachments": {},
   "cell_type": "markdown",
   "metadata": {},
   "source": [
    "By default, the class applies a set of anonymisation techniques:\n",
    "- Column names are remapped to a non-descriptive name\n",
    "- Categorical values are hashed with a random seed\n",
    "- Numerical values are normalized between 0 and 1\n",
    "- Outcomes are mapped to a binary outcome.\n",
    "\n",
    "To apply these techniques, simply call `.process()`:"
   ]
  },
  {
   "cell_type": "code",
   "execution_count": 5,
   "metadata": {
    "execution": {
     "iopub.execute_input": "2024-05-08T15:36:49.539130Z",
     "iopub.status.busy": "2024-05-08T15:36:49.538820Z",
     "iopub.status.idle": "2024-05-08T15:36:49.544680Z",
     "shell.execute_reply": "2024-05-08T15:36:49.544142Z"
    }
   },
   "outputs": [
    {
     "data": {
      "text/html": [
       "<div><style>\n",
       ".dataframe > thead > tr,\n",
       ".dataframe > tbody > tr {\n",
       "  text-align: right;\n",
       "  white-space: pre-wrap;\n",
       "}\n",
       "</style>\n",
       "<small>shape: (7, 7)</small><table border=\"1\" class=\"dataframe\"><thead><tr><th>PREDICTOR_0</th><th>PREDICTOR_1</th><th>filename</th><th>PREDICTOR_3</th><th>Context_Name</th><th>IH_PREDICTOR_0</th><th>Decision_Outcome</th></tr><tr><td>str</td><td>str</td><td>str</td><td>f64</td><td>str</td><td>str</td><td>bool</td></tr></thead><tbody><tr><td>&quot;17786647240093…</td><td>&quot;94500947529846…</td><td>&quot;../../../../da…</td><td>0.983033</td><td>&quot;29109993339257…</td><td>&quot;15243962837121…</td><td>false</td></tr><tr><td>&quot;15382455723600…</td><td>&quot;10381943658215…</td><td>&quot;../../../../da…</td><td>0.144221</td><td>&quot;29109993339257…</td><td>&quot;17497416807240…</td><td>true</td></tr><tr><td>&quot;17842054492291…</td><td>&quot;83747384891371…</td><td>&quot;../../../../da…</td><td>0.679745</td><td>&quot;79120012676251…</td><td>&quot;15243962837121…</td><td>false</td></tr><tr><td>&quot;21231452742978…</td><td>&quot;10381943658215…</td><td>&quot;../../../../da…</td><td>1.0</td><td>&quot;38621737531313…</td><td>&quot;15243962837121…</td><td>false</td></tr><tr><td>&quot;14656804312813…</td><td>&quot;94500947529846…</td><td>&quot;../../../../da…</td><td>0.718982</td><td>&quot;38621737531313…</td><td>&quot;12289458308824…</td><td>true</td></tr><tr><td>&quot;30455791618413…</td><td>&quot;83747384891371…</td><td>&quot;../../../../da…</td><td>0.0</td><td>&quot;63126942124766…</td><td>null</td><td>false</td></tr><tr><td>&quot;16339131237175…</td><td>&quot;83747384891371…</td><td>&quot;../../../../da…</td><td>0.02333</td><td>&quot;38621737531313…</td><td>&quot;12289458308824…</td><td>false</td></tr></tbody></table></div>"
      ],
      "text/plain": [
       "shape: (7, 7)\n",
       "┌──────────────┬─────────────┬─────────────┬─────────────┬─────────────┬─────────────┬─────────────┐\n",
       "│ PREDICTOR_0  ┆ PREDICTOR_1 ┆ filename    ┆ PREDICTOR_3 ┆ Context_Nam ┆ IH_PREDICTO ┆ Decision_Ou │\n",
       "│ ---          ┆ ---         ┆ ---         ┆ ---         ┆ e           ┆ R_0         ┆ tcome       │\n",
       "│ str          ┆ str         ┆ str         ┆ f64         ┆ ---         ┆ ---         ┆ ---         │\n",
       "│              ┆             ┆             ┆             ┆ str         ┆ str         ┆ bool        │\n",
       "╞══════════════╪═════════════╪═════════════╪═════════════╪═════════════╪═════════════╪═════════════╡\n",
       "│ 177866472400 ┆ 94500947529 ┆ ../../../.. ┆ 0.983033    ┆ 29109993339 ┆ 15243962837 ┆ false       │\n",
       "│ 93924609     ┆ 84691834    ┆ /data/Sampl ┆             ┆ 25718560    ┆ 121953430   ┆             │\n",
       "│              ┆             ┆ eHDS.json   ┆             ┆             ┆             ┆             │\n",
       "│ 153824557236 ┆ 10381943658 ┆ ../../../.. ┆ 0.144221    ┆ 29109993339 ┆ 17497416807 ┆ true        │\n",
       "│ 00721189     ┆ 215006026   ┆ /data/Sampl ┆             ┆ 25718560    ┆ 240275139   ┆             │\n",
       "│              ┆             ┆ eHDS.json   ┆             ┆             ┆             ┆             │\n",
       "│ 178420544922 ┆ 83747384891 ┆ ../../../.. ┆ 0.679745    ┆ 79120012676 ┆ 15243962837 ┆ false       │\n",
       "│ 91635199     ┆ 37131087    ┆ /data/Sampl ┆             ┆ 25185500    ┆ 121953430   ┆             │\n",
       "│              ┆             ┆ eHDS.json   ┆             ┆             ┆             ┆             │\n",
       "│ 212314527429 ┆ 10381943658 ┆ ../../../.. ┆ 1.0         ┆ 38621737531 ┆ 15243962837 ┆ false       │\n",
       "│ 7832846      ┆ 215006026   ┆ /data/Sampl ┆             ┆ 31389251    ┆ 121953430   ┆             │\n",
       "│              ┆             ┆ eHDS.json   ┆             ┆             ┆             ┆             │\n",
       "│ 146568043128 ┆ 94500947529 ┆ ../../../.. ┆ 0.718982    ┆ 38621737531 ┆ 12289458308 ┆ true        │\n",
       "│ 13282608     ┆ 84691834    ┆ /data/Sampl ┆             ┆ 31389251    ┆ 824271073   ┆             │\n",
       "│              ┆             ┆ eHDS.json   ┆             ┆             ┆             ┆             │\n",
       "│ 304557916184 ┆ 83747384891 ┆ ../../../.. ┆ 0.0         ┆ 63126942124 ┆ null        ┆ false       │\n",
       "│ 1310415      ┆ 37131087    ┆ /data/Sampl ┆             ┆ 76675113    ┆             ┆             │\n",
       "│              ┆             ┆ eHDS.json   ┆             ┆             ┆             ┆             │\n",
       "│ 163391312371 ┆ 83747384891 ┆ ../../../.. ┆ 0.02333     ┆ 38621737531 ┆ 12289458308 ┆ false       │\n",
       "│ 75446753     ┆ 37131087    ┆ /data/Sampl ┆             ┆ 31389251    ┆ 824271073   ┆             │\n",
       "│              ┆             ┆ eHDS.json   ┆             ┆             ┆             ┆             │\n",
       "└──────────────┴─────────────┴─────────────┴─────────────┴─────────────┴─────────────┴─────────────┘"
      ]
     },
     "execution_count": 5,
     "metadata": {},
     "output_type": "execute_result"
    }
   ],
   "source": [
    "anon.process()"
   ]
  },
  {
   "attachments": {},
   "cell_type": "markdown",
   "metadata": {},
   "source": [
    "To trace back the columns to their original names, the class also contains a mapping, which does not have to be provided."
   ]
  },
  {
   "cell_type": "code",
   "execution_count": 6,
   "metadata": {
    "execution": {
     "iopub.execute_input": "2024-05-08T15:36:49.546806Z",
     "iopub.status.busy": "2024-05-08T15:36:49.546388Z",
     "iopub.status.idle": "2024-05-08T15:36:49.550101Z",
     "shell.execute_reply": "2024-05-08T15:36:49.549568Z"
    }
   },
   "outputs": [
    {
     "data": {
      "text/plain": [
       "{'Customer_City': 'PREDICTOR_0',\n",
       " 'Customer_MaritalStatus': 'PREDICTOR_1',\n",
       " 'filename': 'filename',\n",
       " 'Customer_CLV': 'PREDICTOR_3',\n",
       " 'Context_Name': 'Context_Name',\n",
       " 'IH_Web_Inbound_Accepted_pxLastGroupID': 'IH_PREDICTOR_0',\n",
       " 'Decision_Outcome': 'Decision_Outcome'}"
      ]
     },
     "execution_count": 6,
     "metadata": {},
     "output_type": "execute_result"
    }
   ],
   "source": [
    "anon.column_mapping"
   ]
  },
  {
   "attachments": {},
   "cell_type": "markdown",
   "metadata": {},
   "source": [
    "## Configs\n",
    "\n",
    "Each capability can optionally be turned off - see below for the full list of config options, and refer to the API reference for the full description."
   ]
  },
  {
   "cell_type": "code",
   "execution_count": 7,
   "metadata": {
    "execution": {
     "iopub.execute_input": "2024-05-08T15:36:49.552088Z",
     "iopub.status.busy": "2024-05-08T15:36:49.551760Z",
     "iopub.status.idle": "2024-05-08T15:36:49.555938Z",
     "shell.execute_reply": "2024-05-08T15:36:49.555478Z"
    }
   },
   "outputs": [
    {
     "data": {
      "text/plain": [
       "{'config_file': None,\n",
       " 'hds_folder': '.',\n",
       " 'use_datamart': False,\n",
       " 'datamart_folder': 'datamart',\n",
       " 'output_format': 'ndjson',\n",
       " 'output_folder': 'output',\n",
       " 'mapping_file': 'mapping.map',\n",
       " 'mask_predictor_names': True,\n",
       " 'mask_context_key_names': False,\n",
       " 'mask_ih_names': True,\n",
       " 'mask_outcome_name': False,\n",
       " 'mask_predictor_values': True,\n",
       " 'mask_context_key_values': True,\n",
       " 'mask_ih_values': True,\n",
       " 'mask_outcome_values': True,\n",
       " 'context_key_label': 'Context_*',\n",
       " 'ih_label': 'IH_*',\n",
       " 'outcome_column': 'Decision_Outcome',\n",
       " 'positive_outcomes': ['Accepted', 'Clicked'],\n",
       " 'negative_outcomes': ['Rejected', 'Impression'],\n",
       " 'special_predictors': ['Decision_DecisionTime',\n",
       "  'Decision_OutcomeTime',\n",
       "  'Decision_Rank'],\n",
       " 'sample_percentage_schema_inferencing': 0.01}"
      ]
     },
     "execution_count": 7,
     "metadata": {},
     "output_type": "execute_result"
    }
   ],
   "source": [
    "dict(zip(Config.__init__.__code__.co_varnames[1:], Config.__init__.__defaults__))"
   ]
  },
  {
   "attachments": {},
   "cell_type": "markdown",
   "metadata": {},
   "source": [
    "It's easy to change these parameters by just passing the keyword arguments. In the following example, we\n",
    "- Keep the IH predictor names\n",
    "- Keep the outcome values\n",
    "- Keep the context key values\n",
    "- Keep the context key predictor names"
   ]
  },
  {
   "cell_type": "code",
   "execution_count": 8,
   "metadata": {
    "execution": {
     "iopub.execute_input": "2024-05-08T15:36:49.557960Z",
     "iopub.status.busy": "2024-05-08T15:36:49.557548Z",
     "iopub.status.idle": "2024-05-08T15:36:49.565421Z",
     "shell.execute_reply": "2024-05-08T15:36:49.564856Z"
    }
   },
   "outputs": [
    {
     "data": {
      "text/html": [
       "<div><style>\n",
       ".dataframe > thead > tr,\n",
       ".dataframe > tbody > tr {\n",
       "  text-align: right;\n",
       "  white-space: pre-wrap;\n",
       "}\n",
       "</style>\n",
       "<small>shape: (7, 7)</small><table border=\"1\" class=\"dataframe\"><thead><tr><th>PREDICTOR_0</th><th>PREDICTOR_1</th><th>filename</th><th>PREDICTOR_3</th><th>Context_Name</th><th>IH_Web_Inbound_Accepted_pxLastGroupID</th><th>Decision_Outcome</th></tr><tr><td>str</td><td>str</td><td>str</td><td>f64</td><td>str</td><td>str</td><td>str</td></tr></thead><tbody><tr><td>&quot;10631693341967…</td><td>&quot;54970406434014…</td><td>&quot;../../../../da…</td><td>0.983033</td><td>&quot;FirstMortgage3…</td><td>&quot;94563687120715…</td><td>&quot;Rejected&quot;</td></tr><tr><td>&quot;46901877029977…</td><td>&quot;27176160284815…</td><td>&quot;../../../../da…</td><td>0.144221</td><td>&quot;FirstMortgage3…</td><td>&quot;12997444109085…</td><td>&quot;Accepted&quot;</td></tr><tr><td>&quot;12694450859405…</td><td>&quot;16707424364841…</td><td>&quot;../../../../da…</td><td>0.679745</td><td>&quot;MoneyMarketSav…</td><td>&quot;94563687120715…</td><td>&quot;Rejected&quot;</td></tr><tr><td>&quot;17364156545064…</td><td>&quot;27176160284815…</td><td>&quot;../../../../da…</td><td>1.0</td><td>&quot;BasicChecking&quot;</td><td>&quot;94563687120715…</td><td>&quot;Rejected&quot;</td></tr><tr><td>&quot;89318631262210…</td><td>&quot;54970406434014…</td><td>&quot;../../../../da…</td><td>0.718982</td><td>&quot;BasicChecking&quot;</td><td>&quot;42535379802443…</td><td>&quot;Accepted&quot;</td></tr><tr><td>&quot;45601714038841…</td><td>&quot;16707424364841…</td><td>&quot;../../../../da…</td><td>0.0</td><td>&quot;UPlusFinPerson…</td><td>null</td><td>&quot;Rejected&quot;</td></tr><tr><td>&quot;11595060206435…</td><td>&quot;16707424364841…</td><td>&quot;../../../../da…</td><td>0.02333</td><td>&quot;BasicChecking&quot;</td><td>&quot;42535379802443…</td><td>&quot;Rejected&quot;</td></tr></tbody></table></div>"
      ],
      "text/plain": [
       "shape: (7, 7)\n",
       "┌──────────────┬─────────────┬─────────────┬─────────────┬─────────────┬─────────────┬─────────────┐\n",
       "│ PREDICTOR_0  ┆ PREDICTOR_1 ┆ filename    ┆ PREDICTOR_3 ┆ Context_Nam ┆ IH_Web_Inbo ┆ Decision_Ou │\n",
       "│ ---          ┆ ---         ┆ ---         ┆ ---         ┆ e           ┆ und_Accepte ┆ tcome       │\n",
       "│ str          ┆ str         ┆ str         ┆ f64         ┆ ---         ┆ d_pxLastGr… ┆ ---         │\n",
       "│              ┆             ┆             ┆             ┆ str         ┆ ---         ┆ str         │\n",
       "│              ┆             ┆             ┆             ┆             ┆ str         ┆             │\n",
       "╞══════════════╪═════════════╪═════════════╪═════════════╪═════════════╪═════════════╪═════════════╡\n",
       "│ 106316933419 ┆ 54970406434 ┆ ../../../.. ┆ 0.983033    ┆ FirstMortga ┆ 94563687120 ┆ Rejected    │\n",
       "│ 67886130     ┆ 01409360    ┆ /data/Sampl ┆             ┆ ge30yr      ┆ 71598219    ┆             │\n",
       "│              ┆             ┆ eHDS.json   ┆             ┆             ┆             ┆             │\n",
       "│ 469018770299 ┆ 27176160284 ┆ ../../../.. ┆ 0.144221    ┆ FirstMortga ┆ 12997444109 ┆ Accepted    │\n",
       "│ 7748775      ┆ 81557698    ┆ /data/Sampl ┆             ┆ ge30yr      ┆ 085508995   ┆             │\n",
       "│              ┆             ┆ eHDS.json   ┆             ┆             ┆             ┆             │\n",
       "│ 126944508594 ┆ 16707424364 ┆ ../../../.. ┆ 0.679745    ┆ MoneyMarket ┆ 94563687120 ┆ Rejected    │\n",
       "│ 05637747     ┆ 841321637   ┆ /data/Sampl ┆             ┆ SavingsAcco ┆ 71598219    ┆             │\n",
       "│              ┆             ┆ eHDS.json   ┆             ┆ unt         ┆             ┆             │\n",
       "│ 173641565450 ┆ 27176160284 ┆ ../../../.. ┆ 1.0         ┆ BasicChecki ┆ 94563687120 ┆ Rejected    │\n",
       "│ 64277942     ┆ 81557698    ┆ /data/Sampl ┆             ┆ ng          ┆ 71598219    ┆             │\n",
       "│              ┆             ┆ eHDS.json   ┆             ┆             ┆             ┆             │\n",
       "│ 893186312622 ┆ 54970406434 ┆ ../../../.. ┆ 0.718982    ┆ BasicChecki ┆ 42535379802 ┆ Accepted    │\n",
       "│ 1037503      ┆ 01409360    ┆ /data/Sampl ┆             ┆ ng          ┆ 44399429    ┆             │\n",
       "│              ┆             ┆ eHDS.json   ┆             ┆             ┆             ┆             │\n",
       "│ 456017140388 ┆ 16707424364 ┆ ../../../.. ┆ 0.0         ┆ UPlusFinPer ┆ null        ┆ Rejected    │\n",
       "│ 4119764      ┆ 841321637   ┆ /data/Sampl ┆             ┆ sonal       ┆             ┆             │\n",
       "│              ┆             ┆ eHDS.json   ┆             ┆             ┆             ┆             │\n",
       "│ 115950602064 ┆ 16707424364 ┆ ../../../.. ┆ 0.02333     ┆ BasicChecki ┆ 42535379802 ┆ Rejected    │\n",
       "│ 35881312     ┆ 841321637   ┆ /data/Sampl ┆             ┆ ng          ┆ 44399429    ┆             │\n",
       "│              ┆             ┆ eHDS.json   ┆             ┆             ┆             ┆             │\n",
       "└──────────────┴─────────────┴─────────────┴─────────────┴─────────────┴─────────────┴─────────────┘"
      ]
     },
     "execution_count": 8,
     "metadata": {},
     "output_type": "execute_result"
    }
   ],
   "source": [
    "anon = DataAnonymization(\n",
    "    hds_folder=\"../../../../data/\",\n",
    "    mask_ih_names=False,\n",
    "    mask_outcome_values=False,\n",
    "    mask_context_key_values=False,\n",
    "    mask_context_key_names=False,\n",
    ")\n",
    "anon.process()\n"
   ]
  },
  {
   "attachments": {},
   "cell_type": "markdown",
   "metadata": {},
   "source": [
    "The configs can also be written and read as such:"
   ]
  },
  {
   "cell_type": "code",
   "execution_count": 9,
   "metadata": {
    "execution": {
     "iopub.execute_input": "2024-05-08T15:36:49.567397Z",
     "iopub.status.busy": "2024-05-08T15:36:49.567101Z",
     "iopub.status.idle": "2024-05-08T15:36:49.569924Z",
     "shell.execute_reply": "2024-05-08T15:36:49.569389Z"
    }
   },
   "outputs": [],
   "source": [
    "anon.config.save_to_config_file('config.json')"
   ]
  },
  {
   "cell_type": "code",
   "execution_count": 10,
   "metadata": {
    "execution": {
     "iopub.execute_input": "2024-05-08T15:36:49.572007Z",
     "iopub.status.busy": "2024-05-08T15:36:49.571610Z",
     "iopub.status.idle": "2024-05-08T15:36:49.579048Z",
     "shell.execute_reply": "2024-05-08T15:36:49.578603Z"
    }
   },
   "outputs": [
    {
     "data": {
      "text/html": [
       "<div><style>\n",
       ".dataframe > thead > tr,\n",
       ".dataframe > tbody > tr {\n",
       "  text-align: right;\n",
       "  white-space: pre-wrap;\n",
       "}\n",
       "</style>\n",
       "<small>shape: (7, 7)</small><table border=\"1\" class=\"dataframe\"><thead><tr><th>PREDICTOR_0</th><th>PREDICTOR_1</th><th>filename</th><th>PREDICTOR_3</th><th>Context_Name</th><th>IH_Web_Inbound_Accepted_pxLastGroupID</th><th>Decision_Outcome</th></tr><tr><td>str</td><td>str</td><td>str</td><td>f64</td><td>str</td><td>str</td><td>str</td></tr></thead><tbody><tr><td>&quot;18178322463443…</td><td>&quot;11540291368375…</td><td>&quot;../../../../da…</td><td>0.983033</td><td>&quot;FirstMortgage3…</td><td>&quot;58673201327109…</td><td>&quot;Rejected&quot;</td></tr><tr><td>&quot;74307006442302…</td><td>&quot;15334034803640…</td><td>&quot;../../../../da…</td><td>0.144221</td><td>&quot;FirstMortgage3…</td><td>&quot;17403156545851…</td><td>&quot;Accepted&quot;</td></tr><tr><td>&quot;11211069872420…</td><td>&quot;16841191183522…</td><td>&quot;../../../../da…</td><td>0.679745</td><td>&quot;MoneyMarketSav…</td><td>&quot;58673201327109…</td><td>&quot;Rejected&quot;</td></tr><tr><td>&quot;10496711704977…</td><td>&quot;15334034803640…</td><td>&quot;../../../../da…</td><td>1.0</td><td>&quot;BasicChecking&quot;</td><td>&quot;58673201327109…</td><td>&quot;Rejected&quot;</td></tr><tr><td>&quot;50468173471371…</td><td>&quot;11540291368375…</td><td>&quot;../../../../da…</td><td>0.718982</td><td>&quot;BasicChecking&quot;</td><td>&quot;39019879127268…</td><td>&quot;Accepted&quot;</td></tr><tr><td>&quot;87303926616889…</td><td>&quot;16841191183522…</td><td>&quot;../../../../da…</td><td>0.0</td><td>&quot;UPlusFinPerson…</td><td>null</td><td>&quot;Rejected&quot;</td></tr><tr><td>&quot;95501593358172…</td><td>&quot;16841191183522…</td><td>&quot;../../../../da…</td><td>0.02333</td><td>&quot;BasicChecking&quot;</td><td>&quot;39019879127268…</td><td>&quot;Rejected&quot;</td></tr></tbody></table></div>"
      ],
      "text/plain": [
       "shape: (7, 7)\n",
       "┌──────────────┬─────────────┬─────────────┬─────────────┬─────────────┬─────────────┬─────────────┐\n",
       "│ PREDICTOR_0  ┆ PREDICTOR_1 ┆ filename    ┆ PREDICTOR_3 ┆ Context_Nam ┆ IH_Web_Inbo ┆ Decision_Ou │\n",
       "│ ---          ┆ ---         ┆ ---         ┆ ---         ┆ e           ┆ und_Accepte ┆ tcome       │\n",
       "│ str          ┆ str         ┆ str         ┆ f64         ┆ ---         ┆ d_pxLastGr… ┆ ---         │\n",
       "│              ┆             ┆             ┆             ┆ str         ┆ ---         ┆ str         │\n",
       "│              ┆             ┆             ┆             ┆             ┆ str         ┆             │\n",
       "╞══════════════╪═════════════╪═════════════╪═════════════╪═════════════╪═════════════╪═════════════╡\n",
       "│ 181783224634 ┆ 11540291368 ┆ ../../../.. ┆ 0.983033    ┆ FirstMortga ┆ 58673201327 ┆ Rejected    │\n",
       "│ 43058868     ┆ 375592151   ┆ /data/Sampl ┆             ┆ ge30yr      ┆ 10952725    ┆             │\n",
       "│              ┆             ┆ eHDS.json   ┆             ┆             ┆             ┆             │\n",
       "│ 743070064423 ┆ 15334034803 ┆ ../../../.. ┆ 0.144221    ┆ FirstMortga ┆ 17403156545 ┆ Accepted    │\n",
       "│ 0272738      ┆ 640646470   ┆ /data/Sampl ┆             ┆ ge30yr      ┆ 851097192   ┆             │\n",
       "│              ┆             ┆ eHDS.json   ┆             ┆             ┆             ┆             │\n",
       "│ 112110698724 ┆ 16841191183 ┆ ../../../.. ┆ 0.679745    ┆ MoneyMarket ┆ 58673201327 ┆ Rejected    │\n",
       "│ 20619615     ┆ 522145241   ┆ /data/Sampl ┆             ┆ SavingsAcco ┆ 10952725    ┆             │\n",
       "│              ┆             ┆ eHDS.json   ┆             ┆ unt         ┆             ┆             │\n",
       "│ 104967117049 ┆ 15334034803 ┆ ../../../.. ┆ 1.0         ┆ BasicChecki ┆ 58673201327 ┆ Rejected    │\n",
       "│ 77221903     ┆ 640646470   ┆ /data/Sampl ┆             ┆ ng          ┆ 10952725    ┆             │\n",
       "│              ┆             ┆ eHDS.json   ┆             ┆             ┆             ┆             │\n",
       "│ 504681734713 ┆ 11540291368 ┆ ../../../.. ┆ 0.718982    ┆ BasicChecki ┆ 39019879127 ┆ Accepted    │\n",
       "│ 7177571      ┆ 375592151   ┆ /data/Sampl ┆             ┆ ng          ┆ 26826705    ┆             │\n",
       "│              ┆             ┆ eHDS.json   ┆             ┆             ┆             ┆             │\n",
       "│ 873039266168 ┆ 16841191183 ┆ ../../../.. ┆ 0.0         ┆ UPlusFinPer ┆ null        ┆ Rejected    │\n",
       "│ 898811       ┆ 522145241   ┆ /data/Sampl ┆             ┆ sonal       ┆             ┆             │\n",
       "│              ┆             ┆ eHDS.json   ┆             ┆             ┆             ┆             │\n",
       "│ 955015933581 ┆ 16841191183 ┆ ../../../.. ┆ 0.02333     ┆ BasicChecki ┆ 39019879127 ┆ Rejected    │\n",
       "│ 7242505      ┆ 522145241   ┆ /data/Sampl ┆             ┆ ng          ┆ 26826705    ┆             │\n",
       "│              ┆             ┆ eHDS.json   ┆             ┆             ┆             ┆             │\n",
       "└──────────────┴─────────────┴─────────────┴─────────────┴─────────────┴─────────────┴─────────────┘"
      ]
     },
     "execution_count": 10,
     "metadata": {},
     "output_type": "execute_result"
    }
   ],
   "source": [
    "anon = DataAnonymization(config=Config(config_file='config.json'))\n",
    "anon.process()"
   ]
  },
  {
   "attachments": {},
   "cell_type": "markdown",
   "metadata": {},
   "source": [
    "## Exporting\n",
    "Two functions export:\n",
    "- `create_mapping_file()` writes the mapping file of the predictor names\n",
    "- `write_to_output()` writes the processed dataframe to disk\n",
    "\n",
    "Write to output accepts the following extensions: `[\"ndjson\", \"parquet\", \"arrow\", \"csv\"]`"
   ]
  },
  {
   "cell_type": "code",
   "execution_count": 11,
   "metadata": {
    "execution": {
     "iopub.execute_input": "2024-05-08T15:36:49.581099Z",
     "iopub.status.busy": "2024-05-08T15:36:49.580779Z",
     "iopub.status.idle": "2024-05-08T15:36:49.584053Z",
     "shell.execute_reply": "2024-05-08T15:36:49.583622Z"
    }
   },
   "outputs": [
    {
     "name": "stdout",
     "output_type": "stream",
     "text": [
      "Customer_City=PREDICTOR_0\n",
      "Customer_MaritalStatus=PREDICTOR_1\n",
      "filename=filename\n",
      "Customer_CLV=PREDICTOR_3\n",
      "Context_Name=Context_Name\n",
      "IH_Web_Inbound_Accepted_pxLastGroupID=IH_Web_Inbound_Accepted_pxLastGroupID\n",
      "Decision_Outcome=Decision_Outcome\n",
      "\n"
     ]
    }
   ],
   "source": [
    "anon.create_mapping_file()\n",
    "with open('mapping.map') as f:\n",
    "    print(f.read())"
   ]
  },
  {
   "cell_type": "code",
   "execution_count": 12,
   "metadata": {
    "execution": {
     "iopub.execute_input": "2024-05-08T15:36:49.586021Z",
     "iopub.status.busy": "2024-05-08T15:36:49.585700Z",
     "iopub.status.idle": "2024-05-08T15:36:49.589108Z",
     "shell.execute_reply": "2024-05-08T15:36:49.588687Z"
    }
   },
   "outputs": [],
   "source": [
    "anon.write_to_output(ext='arrow')"
   ]
  },
  {
   "cell_type": "code",
   "execution_count": 13,
   "metadata": {
    "execution": {
     "iopub.execute_input": "2024-05-08T15:36:49.591056Z",
     "iopub.status.busy": "2024-05-08T15:36:49.590718Z",
     "iopub.status.idle": "2024-05-08T15:36:49.595193Z",
     "shell.execute_reply": "2024-05-08T15:36:49.594742Z"
    }
   },
   "outputs": [
    {
     "data": {
      "text/html": [
       "<div><style>\n",
       ".dataframe > thead > tr,\n",
       ".dataframe > tbody > tr {\n",
       "  text-align: right;\n",
       "  white-space: pre-wrap;\n",
       "}\n",
       "</style>\n",
       "<small>shape: (7, 6)</small><table border=\"1\" class=\"dataframe\"><thead><tr><th>PREDICTOR_0</th><th>PREDICTOR_1</th><th>PREDICTOR_3</th><th>Context_Name</th><th>IH_Web_Inbound_Accepted_pxLastGroupID</th><th>Decision_Outcome</th></tr><tr><td>str</td><td>str</td><td>f64</td><td>str</td><td>str</td><td>str</td></tr></thead><tbody><tr><td>&quot;86408357842341…</td><td>&quot;62127979447983…</td><td>0.983033</td><td>&quot;FirstMortgage3…</td><td>&quot;16954231447620…</td><td>&quot;Rejected&quot;</td></tr><tr><td>&quot;58640175940687…</td><td>&quot;75446896320649…</td><td>0.144221</td><td>&quot;FirstMortgage3…</td><td>&quot;16760400260944…</td><td>&quot;Accepted&quot;</td></tr><tr><td>&quot;14817193972399…</td><td>&quot;15645869057770…</td><td>0.679745</td><td>&quot;MoneyMarketSav…</td><td>&quot;16954231447620…</td><td>&quot;Rejected&quot;</td></tr><tr><td>&quot;86320730062727…</td><td>&quot;75446896320649…</td><td>1.0</td><td>&quot;BasicChecking&quot;</td><td>&quot;16954231447620…</td><td>&quot;Rejected&quot;</td></tr><tr><td>&quot;21314812625266…</td><td>&quot;62127979447983…</td><td>0.718982</td><td>&quot;BasicChecking&quot;</td><td>&quot;17719026435943…</td><td>&quot;Accepted&quot;</td></tr><tr><td>&quot;15005592790114…</td><td>&quot;15645869057770…</td><td>0.0</td><td>&quot;UPlusFinPerson…</td><td>null</td><td>&quot;Rejected&quot;</td></tr><tr><td>&quot;27618899013807…</td><td>&quot;15645869057770…</td><td>0.02333</td><td>&quot;BasicChecking&quot;</td><td>&quot;17719026435943…</td><td>&quot;Rejected&quot;</td></tr></tbody></table></div>"
      ],
      "text/plain": [
       "shape: (7, 6)\n",
       "┌────────────────┬────────────────┬─────────────┬────────────────┬────────────────┬────────────────┐\n",
       "│ PREDICTOR_0    ┆ PREDICTOR_1    ┆ PREDICTOR_3 ┆ Context_Name   ┆ IH_Web_Inbound ┆ Decision_Outco │\n",
       "│ ---            ┆ ---            ┆ ---         ┆ ---            ┆ _Accepted_pxLa ┆ me             │\n",
       "│ str            ┆ str            ┆ f64         ┆ str            ┆ stGr…          ┆ ---            │\n",
       "│                ┆                ┆             ┆                ┆ ---            ┆ str            │\n",
       "│                ┆                ┆             ┆                ┆ str            ┆                │\n",
       "╞════════════════╪════════════════╪═════════════╪════════════════╪════════════════╪════════════════╡\n",
       "│ 86408357842341 ┆ 62127979447983 ┆ 0.983033    ┆ FirstMortgage3 ┆ 16954231447620 ┆ Rejected       │\n",
       "│ 31962          ┆ 07981          ┆             ┆ 0yr            ┆ 210772         ┆                │\n",
       "│ 58640175940687 ┆ 75446896320649 ┆ 0.144221    ┆ FirstMortgage3 ┆ 16760400260944 ┆ Accepted       │\n",
       "│ 62243          ┆ 76628          ┆             ┆ 0yr            ┆ 165626         ┆                │\n",
       "│ 14817193972399 ┆ 15645869057770 ┆ 0.679745    ┆ MoneyMarketSav ┆ 16954231447620 ┆ Rejected       │\n",
       "│ 85132          ┆ 329519         ┆             ┆ ingsAccount    ┆ 210772         ┆                │\n",
       "│ 86320730062727 ┆ 75446896320649 ┆ 1.0         ┆ BasicChecking  ┆ 16954231447620 ┆ Rejected       │\n",
       "│ 02178          ┆ 76628          ┆             ┆                ┆ 210772         ┆                │\n",
       "│ 21314812625266 ┆ 62127979447983 ┆ 0.718982    ┆ BasicChecking  ┆ 17719026435943 ┆ Accepted       │\n",
       "│ 61626          ┆ 07981          ┆             ┆                ┆ 907988         ┆                │\n",
       "│ 15005592790114 ┆ 15645869057770 ┆ 0.0         ┆ UPlusFinPerson ┆ null           ┆ Rejected       │\n",
       "│ 184096         ┆ 329519         ┆             ┆ al             ┆                ┆                │\n",
       "│ 27618899013807 ┆ 15645869057770 ┆ 0.02333     ┆ BasicChecking  ┆ 17719026435943 ┆ Rejected       │\n",
       "│ 00803          ┆ 329519         ┆             ┆                ┆ 907988         ┆                │\n",
       "└────────────────┴────────────────┴─────────────┴────────────────┴────────────────┴────────────────┘"
      ]
     },
     "execution_count": 13,
     "metadata": {},
     "output_type": "execute_result"
    }
   ],
   "source": [
    "pl.read_ipc('output/hds.arrow')"
   ]
  },
  {
   "attachments": {},
   "cell_type": "markdown",
   "metadata": {
    "nbsphinx": "hidden"
   },
   "source": [
    "## Advanced: Hash fuctions\n",
    "\n",
    "By default, we use [the same hashing algorithm Polars](https://pola-rs.github.io/polars/py-polars/html/reference/expressions/api/polars.Expr.hash.html#polars.Expr.hash) uses: [xxhash](https://github.com/Cyan4973/xxHash), as implemented [here](https://github.com/pola-rs/polars/blob/3f287f370b3c388ed2f3f218b2c096382548136f/polars/polars-core/src/vector_hasher.rs#L266). xxhash is fast to compute, and you can check its performance in collision, dispersion and randomness [here](https://github.com/Cyan4973/xxHash/tree/dev/tests). \n",
    "\n",
    "xxhash accepts four distinct seeds, but by default we set the seeds to `0`. It is possible to set the `seed` argument of the `process()` function to `'random'`, which will set all four seeds to a random integer between `0` and `1000000000`. Alternatively, it is possible to supply the four seeds manually with arguments `seed`, `seed_1`, `seed_2` and `seed_3`. \n",
    "\n",
    "If the xxhash with (random) seed(s) is not deemed sufficiently secure, it is possible to use your own hashing algorithm.\n",
    "\n",
    "Note that since we're now running python code and not native Polars code anymore, this will be _significantly_ slower. Nonetheless, it is possible.\n",
    "\n",
    "Just as an example - this is how one would use sha3_256:"
   ]
  },
  {
   "cell_type": "code",
   "execution_count": 14,
   "metadata": {
    "execution": {
     "iopub.execute_input": "2024-05-08T15:36:49.597121Z",
     "iopub.status.busy": "2024-05-08T15:36:49.596806Z",
     "iopub.status.idle": "2024-05-08T15:36:49.604181Z",
     "shell.execute_reply": "2024-05-08T15:36:49.603659Z"
    },
    "nbsphinx": "hidden"
   },
   "outputs": [
    {
     "data": {
      "text/html": [
       "<div><style>\n",
       ".dataframe > thead > tr,\n",
       ".dataframe > tbody > tr {\n",
       "  text-align: right;\n",
       "  white-space: pre-wrap;\n",
       "}\n",
       "</style>\n",
       "<small>shape: (7, 7)</small><table border=\"1\" class=\"dataframe\"><thead><tr><th>PREDICTOR_0</th><th>PREDICTOR_1</th><th>filename</th><th>PREDICTOR_3</th><th>Context_Name</th><th>IH_Web_Inbound_Accepted_pxLastGroupID</th><th>Decision_Outcome</th></tr><tr><td>str</td><td>str</td><td>str</td><td>f64</td><td>str</td><td>str</td><td>str</td></tr></thead><tbody><tr><td>&quot;c73023dda51de1…</td><td>&quot;af486bc1815c72…</td><td>&quot;../../../../da…</td><td>0.983033</td><td>&quot;FirstMortgage3…</td><td>&quot;2513d0e24d8d02…</td><td>&quot;Rejected&quot;</td></tr><tr><td>&quot;5414b197fb87b3…</td><td>&quot;3cdf7b1ae1342e…</td><td>&quot;../../../../da…</td><td>0.144221</td><td>&quot;FirstMortgage3…</td><td>&quot;8b55bf62fc2ecd…</td><td>&quot;Accepted&quot;</td></tr><tr><td>&quot;892f5d61a9215e…</td><td>&quot;806ef34eb8237f…</td><td>&quot;../../../../da…</td><td>0.679745</td><td>&quot;MoneyMarketSav…</td><td>&quot;2513d0e24d8d02…</td><td>&quot;Rejected&quot;</td></tr><tr><td>&quot;c3aa807d9e927a…</td><td>&quot;3cdf7b1ae1342e…</td><td>&quot;../../../../da…</td><td>1.0</td><td>&quot;BasicChecking&quot;</td><td>&quot;2513d0e24d8d02…</td><td>&quot;Rejected&quot;</td></tr><tr><td>&quot;c2d492f9a05073…</td><td>&quot;af486bc1815c72…</td><td>&quot;../../../../da…</td><td>0.718982</td><td>&quot;BasicChecking&quot;</td><td>&quot;1cd082ecbd5dd9…</td><td>&quot;Accepted&quot;</td></tr><tr><td>&quot;b21059221605c4…</td><td>&quot;806ef34eb8237f…</td><td>&quot;../../../../da…</td><td>0.0</td><td>&quot;UPlusFinPerson…</td><td>null</td><td>&quot;Rejected&quot;</td></tr><tr><td>&quot;80cbe489dcecd4…</td><td>&quot;806ef34eb8237f…</td><td>&quot;../../../../da…</td><td>0.02333</td><td>&quot;BasicChecking&quot;</td><td>&quot;1cd082ecbd5dd9…</td><td>&quot;Rejected&quot;</td></tr></tbody></table></div>"
      ],
      "text/plain": [
       "shape: (7, 7)\n",
       "┌──────────────┬─────────────┬─────────────┬─────────────┬─────────────┬─────────────┬─────────────┐\n",
       "│ PREDICTOR_0  ┆ PREDICTOR_1 ┆ filename    ┆ PREDICTOR_3 ┆ Context_Nam ┆ IH_Web_Inbo ┆ Decision_Ou │\n",
       "│ ---          ┆ ---         ┆ ---         ┆ ---         ┆ e           ┆ und_Accepte ┆ tcome       │\n",
       "│ str          ┆ str         ┆ str         ┆ f64         ┆ ---         ┆ d_pxLastGr… ┆ ---         │\n",
       "│              ┆             ┆             ┆             ┆ str         ┆ ---         ┆ str         │\n",
       "│              ┆             ┆             ┆             ┆             ┆ str         ┆             │\n",
       "╞══════════════╪═════════════╪═════════════╪═════════════╪═════════════╪═════════════╪═════════════╡\n",
       "│ c73023dda51d ┆ af486bc1815 ┆ ../../../.. ┆ 0.983033    ┆ FirstMortga ┆ 2513d0e24d8 ┆ Rejected    │\n",
       "│ e1b84f7af774 ┆ c726c357890 ┆ /data/Sampl ┆             ┆ ge30yr      ┆ d0214eda4fb ┆             │\n",
       "│ fd6f8c73…    ┆ ac2a40ba98… ┆ eHDS.json   ┆             ┆             ┆ 454447162b… ┆             │\n",
       "│ 5414b197fb87 ┆ 3cdf7b1ae13 ┆ ../../../.. ┆ 0.144221    ┆ FirstMortga ┆ 8b55bf62fc2 ┆ Accepted    │\n",
       "│ b3f2e350d7a7 ┆ 42ef979ea2a ┆ /data/Sampl ┆             ┆ ge30yr      ┆ ecd16af97d4 ┆             │\n",
       "│ 4a840a81…    ┆ 782541ad05… ┆ eHDS.json   ┆             ┆             ┆ 8e469362cf… ┆             │\n",
       "│ 892f5d61a921 ┆ 806ef34eb82 ┆ ../../../.. ┆ 0.679745    ┆ MoneyMarket ┆ 2513d0e24d8 ┆ Rejected    │\n",
       "│ 5ef985f3fa29 ┆ 37f4db85004 ┆ /data/Sampl ┆             ┆ SavingsAcco ┆ d0214eda4fb ┆             │\n",
       "│ 3d51c92e…    ┆ e96dc471d8… ┆ eHDS.json   ┆             ┆ unt         ┆ 454447162b… ┆             │\n",
       "│ c3aa807d9e92 ┆ 3cdf7b1ae13 ┆ ../../../.. ┆ 1.0         ┆ BasicChecki ┆ 2513d0e24d8 ┆ Rejected    │\n",
       "│ 7ae426a89e76 ┆ 42ef979ea2a ┆ /data/Sampl ┆             ┆ ng          ┆ d0214eda4fb ┆             │\n",
       "│ a12b9160…    ┆ 782541ad05… ┆ eHDS.json   ┆             ┆             ┆ 454447162b… ┆             │\n",
       "│ c2d492f9a050 ┆ af486bc1815 ┆ ../../../.. ┆ 0.718982    ┆ BasicChecki ┆ 1cd082ecbd5 ┆ Accepted    │\n",
       "│ 7327c14285e9 ┆ c726c357890 ┆ /data/Sampl ┆             ┆ ng          ┆ dd95383b104 ┆             │\n",
       "│ 4e8ee54c…    ┆ ac2a40ba98… ┆ eHDS.json   ┆             ┆             ┆ 65e395c1f7… ┆             │\n",
       "│ b21059221605 ┆ 806ef34eb82 ┆ ../../../.. ┆ 0.0         ┆ UPlusFinPer ┆ null        ┆ Rejected    │\n",
       "│ c49757cfe0fe ┆ 37f4db85004 ┆ /data/Sampl ┆             ┆ sonal       ┆             ┆             │\n",
       "│ e45640db…    ┆ e96dc471d8… ┆ eHDS.json   ┆             ┆             ┆             ┆             │\n",
       "│ 80cbe489dcec ┆ 806ef34eb82 ┆ ../../../.. ┆ 0.02333     ┆ BasicChecki ┆ 1cd082ecbd5 ┆ Rejected    │\n",
       "│ d4b9304898c9 ┆ 37f4db85004 ┆ /data/Sampl ┆             ┆ ng          ┆ dd95383b104 ┆             │\n",
       "│ 986afeeb…    ┆ e96dc471d8… ┆ eHDS.json   ┆             ┆             ┆ 65e395c1f7… ┆             │\n",
       "└──────────────┴─────────────┴─────────────┴─────────────┴─────────────┴─────────────┴─────────────┘"
      ]
     },
     "execution_count": 14,
     "metadata": {},
     "output_type": "execute_result"
    }
   ],
   "source": [
    "from hashlib import sha3_256\n",
    "\n",
    "anon.process(algorithm=lambda x: sha3_256(x.encode()).hexdigest())"
   ]
  }
 ],
 "metadata": {
  "kernelspec": {
   "display_name": "Python 3",
   "language": "python",
   "name": "python3"
  },
  "language_info": {
   "codemirror_mode": {
    "name": "ipython",
    "version": 3
   },
   "file_extension": ".py",
   "mimetype": "text/x-python",
   "name": "python",
   "nbconvert_exporter": "python",
   "pygments_lexer": "ipython3",
   "version": "3.11.9"
  },
  "vscode": {
   "interpreter": {
    "hash": "aee8b7b246df8f9039afb4144a1f6fd8d2ca17a180786b69acc140d282b71a49"
   }
  }
 },
 "nbformat": 4,
 "nbformat_minor": 2
}
