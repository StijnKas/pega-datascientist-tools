{
 "cells": [
  {
   "attachments": {},
   "cell_type": "markdown",
   "metadata": {},
   "source": [
    "# Data Anonymization\n",
    "\n",
    "In Pega CDH 8.5 and up, it's now possible to record the historical data as seen by the Adaptive Models. See [this academy challenge](https://academy.pega.com/challenge/exporting-historical-data/v4) for reference. This historical data can be further used to experiment with offline models, but also to fine-tune the OOTB Gradient Boosting model. However, sharing this information with Pega can be sensitive as it contains raw predictor data. \n",
    "\n",
    "To this end, we provide a simple and transparent script to fully anonimize this dataset.\n",
    "\n",
    "The DataAnonymization script is now part of pdstools, and you can import it directly as such."
   ]
  },
  {
   "cell_type": "code",
   "execution_count": 1,
   "metadata": {
    "execution": {
     "iopub.execute_input": "2024-08-29T15:46:47.194642Z",
     "iopub.status.busy": "2024-08-29T15:46:47.194187Z",
     "iopub.status.idle": "2024-08-29T15:46:47.272972Z",
     "shell.execute_reply": "2024-08-29T15:46:47.272444Z"
    },
    "nbsphinx": "hidden"
   },
   "outputs": [],
   "source": [
    "# These lines are only for rendering in the docs, and are hidden through Jupyter tags\n",
    "# Do not run if you're running the notebook seperately\n",
    "\n",
    "import os  \n",
    "import sys\n",
    "import plotly.io as pio\n",
    "pio.renderers.default = \"notebook_connected\"\n",
    "\n",
    "sys.path.append(\"../../../\")\n",
    "sys.path.append('../../python')"
   ]
  },
  {
   "cell_type": "code",
   "execution_count": 2,
   "metadata": {
    "execution": {
     "iopub.execute_input": "2024-08-29T15:46:47.275906Z",
     "iopub.status.busy": "2024-08-29T15:46:47.275502Z",
     "iopub.status.idle": "2024-08-29T15:46:48.463817Z",
     "shell.execute_reply": "2024-08-29T15:46:48.463173Z"
    }
   },
   "outputs": [],
   "source": [
    "from pdstools import ADMDatamart\n",
    "from pdstools import Config, DataAnonymization\n",
    "import polars as pl"
   ]
  },
  {
   "attachments": {},
   "cell_type": "markdown",
   "metadata": {},
   "source": [
    "## Input data\n",
    "\n",
    "To demonstrate this process, we're going to anonymise this toy example dataframe:"
   ]
  },
  {
   "cell_type": "code",
   "execution_count": 3,
   "metadata": {
    "execution": {
     "iopub.execute_input": "2024-08-29T15:46:48.466727Z",
     "iopub.status.busy": "2024-08-29T15:46:48.466241Z",
     "iopub.status.idle": "2024-08-29T15:46:48.474768Z",
     "shell.execute_reply": "2024-08-29T15:46:48.474196Z"
    }
   },
   "outputs": [
    {
     "data": {
      "text/html": [
       "<div><style>\n",
       ".dataframe > thead > tr,\n",
       ".dataframe > tbody > tr {\n",
       "  text-align: right;\n",
       "  white-space: pre-wrap;\n",
       "}\n",
       "</style>\n",
       "<small>shape: (7, 6)</small><table border=\"1\" class=\"dataframe\"><thead><tr><th>Context_Name</th><th>Customer_MaritalStatus</th><th>Customer_CLV</th><th>Customer_City</th><th>IH_Web_Inbound_Accepted_pxLastGroupID</th><th>Decision_Outcome</th></tr><tr><td>str</td><td>str</td><td>i64</td><td>str</td><td>str</td><td>str</td></tr></thead><tbody><tr><td>&quot;FirstMortgage30yr&quot;</td><td>&quot;Married&quot;</td><td>1460</td><td>&quot;Port Raoul&quot;</td><td>&quot;Account&quot;</td><td>&quot;Rejected&quot;</td></tr><tr><td>&quot;FirstMortgage30yr&quot;</td><td>&quot;Unknown&quot;</td><td>669</td><td>&quot;Laurianneshire&quot;</td><td>&quot;AutoLoans&quot;</td><td>&quot;Accepted&quot;</td></tr><tr><td>&quot;MoneyMarketSavingsAccount&quot;</td><td>&quot;No Resp+&quot;</td><td>1174</td><td>&quot;Jacobshaven&quot;</td><td>&quot;Account&quot;</td><td>&quot;Rejected&quot;</td></tr><tr><td>&quot;BasicChecking&quot;</td><td>&quot;Unknown&quot;</td><td>1476</td><td>&quot;Lindton&quot;</td><td>&quot;Account&quot;</td><td>&quot;Rejected&quot;</td></tr><tr><td>&quot;BasicChecking&quot;</td><td>&quot;Married&quot;</td><td>1211</td><td>&quot;South Jimmieshire&quot;</td><td>&quot;DepositAccounts&quot;</td><td>&quot;Accepted&quot;</td></tr><tr><td>&quot;UPlusFinPersonal&quot;</td><td>&quot;No Resp+&quot;</td><td>533</td><td>&quot;Bergeville&quot;</td><td>null</td><td>&quot;Rejected&quot;</td></tr><tr><td>&quot;BasicChecking&quot;</td><td>&quot;No Resp+&quot;</td><td>555</td><td>&quot;Willyville&quot;</td><td>&quot;DepositAccounts&quot;</td><td>&quot;Rejected&quot;</td></tr></tbody></table></div>"
      ],
      "text/plain": [
       "shape: (7, 6)\n",
       "┌────────────────┬────────────────┬──────────────┬────────────────┬────────────────┬───────────────┐\n",
       "│ Context_Name   ┆ Customer_Marit ┆ Customer_CLV ┆ Customer_City  ┆ IH_Web_Inbound ┆ Decision_Outc │\n",
       "│ ---            ┆ alStatus       ┆ ---          ┆ ---            ┆ _Accepted_pxLa ┆ ome           │\n",
       "│ str            ┆ ---            ┆ i64          ┆ str            ┆ st…            ┆ ---           │\n",
       "│                ┆ str            ┆              ┆                ┆ ---            ┆ str           │\n",
       "│                ┆                ┆              ┆                ┆ str            ┆               │\n",
       "╞════════════════╪════════════════╪══════════════╪════════════════╪════════════════╪═══════════════╡\n",
       "│ FirstMortgage3 ┆ Married        ┆ 1460         ┆ Port Raoul     ┆ Account        ┆ Rejected      │\n",
       "│ 0yr            ┆                ┆              ┆                ┆                ┆               │\n",
       "│ FirstMortgage3 ┆ Unknown        ┆ 669          ┆ Laurianneshire ┆ AutoLoans      ┆ Accepted      │\n",
       "│ 0yr            ┆                ┆              ┆                ┆                ┆               │\n",
       "│ MoneyMarketSav ┆ No Resp+       ┆ 1174         ┆ Jacobshaven    ┆ Account        ┆ Rejected      │\n",
       "│ ingsAccount    ┆                ┆              ┆                ┆                ┆               │\n",
       "│ BasicChecking  ┆ Unknown        ┆ 1476         ┆ Lindton        ┆ Account        ┆ Rejected      │\n",
       "│ BasicChecking  ┆ Married        ┆ 1211         ┆ South          ┆ DepositAccount ┆ Accepted      │\n",
       "│                ┆                ┆              ┆ Jimmieshire    ┆ s              ┆               │\n",
       "│ UPlusFinPerson ┆ No Resp+       ┆ 533          ┆ Bergeville     ┆ null           ┆ Rejected      │\n",
       "│ al             ┆                ┆              ┆                ┆                ┆               │\n",
       "│ BasicChecking  ┆ No Resp+       ┆ 555          ┆ Willyville     ┆ DepositAccount ┆ Rejected      │\n",
       "│                ┆                ┆              ┆                ┆ s              ┆               │\n",
       "└────────────────┴────────────────┴──────────────┴────────────────┴────────────────┴───────────────┘"
      ]
     },
     "execution_count": 3,
     "metadata": {},
     "output_type": "execute_result"
    }
   ],
   "source": [
    "pl.read_ndjson('../../../../data/SampleHDS.json')"
   ]
  },
  {
   "attachments": {},
   "cell_type": "markdown",
   "metadata": {},
   "source": [
    "As you can see, this dataset consists of regular predictors, IH predictors, context keys and the outcome column. Additionally, some columns are numeric, others are strings. Let's first initialize the DataAnonymization class."
   ]
  },
  {
   "cell_type": "code",
   "execution_count": 4,
   "metadata": {
    "execution": {
     "iopub.execute_input": "2024-08-29T15:46:48.476885Z",
     "iopub.status.busy": "2024-08-29T15:46:48.476630Z",
     "iopub.status.idle": "2024-08-29T15:46:48.487774Z",
     "shell.execute_reply": "2024-08-29T15:46:48.487311Z"
    }
   },
   "outputs": [],
   "source": [
    "anon = DataAnonymization(hds_folder='../../../../data/')"
   ]
  },
  {
   "attachments": {},
   "cell_type": "markdown",
   "metadata": {},
   "source": [
    "By default, the class applies a set of anonymisation techniques:\n",
    "- Column names are remapped to a non-descriptive name\n",
    "- Categorical values are hashed with a random seed\n",
    "- Numerical values are normalized between 0 and 1\n",
    "- Outcomes are mapped to a binary outcome.\n",
    "\n",
    "To apply these techniques, simply call `.process()`:"
   ]
  },
  {
   "cell_type": "code",
   "execution_count": 5,
   "metadata": {
    "execution": {
     "iopub.execute_input": "2024-08-29T15:46:48.490213Z",
     "iopub.status.busy": "2024-08-29T15:46:48.489858Z",
     "iopub.status.idle": "2024-08-29T15:46:48.495107Z",
     "shell.execute_reply": "2024-08-29T15:46:48.494653Z"
    }
   },
   "outputs": [
    {
     "data": {
      "text/html": [
       "<div><style>\n",
       ".dataframe > thead > tr,\n",
       ".dataframe > tbody > tr {\n",
       "  text-align: right;\n",
       "  white-space: pre-wrap;\n",
       "}\n",
       "</style>\n",
       "<small>shape: (7, 7)</small><table border=\"1\" class=\"dataframe\"><thead><tr><th>PREDICTOR_0</th><th>PREDICTOR_1</th><th>filename</th><th>PREDICTOR_3</th><th>Context_Name</th><th>IH_PREDICTOR_0</th><th>Decision_Outcome</th></tr><tr><td>str</td><td>f64</td><td>str</td><td>str</td><td>str</td><td>str</td><td>bool</td></tr></thead><tbody><tr><td>&quot;14701768515961094324&quot;</td><td>4.3868e18</td><td>&quot;../../../../data/SampleHDS.jso…</td><td>&quot;6933706528673508779&quot;</td><td>&quot;8329648895030493763&quot;</td><td>&quot;4912967725802745490&quot;</td><td>false</td></tr><tr><td>&quot;1830870434762229531&quot;</td><td>1.6294e19</td><td>&quot;../../../../data/SampleHDS.jso…</td><td>&quot;15048428407909383056&quot;</td><td>&quot;8329648895030493763&quot;</td><td>&quot;13285166811542217445&quot;</td><td>true</td></tr><tr><td>&quot;10703286009199392865&quot;</td><td>6.1954e18</td><td>&quot;../../../../data/SampleHDS.jso…</td><td>&quot;374362652987472736&quot;</td><td>&quot;7232539414939600107&quot;</td><td>&quot;4912967725802745490&quot;</td><td>false</td></tr><tr><td>&quot;2306871788416096254&quot;</td><td>9.9240e18</td><td>&quot;../../../../data/SampleHDS.jso…</td><td>&quot;15048428407909383056&quot;</td><td>&quot;2641638384544890442&quot;</td><td>&quot;4912967725802745490&quot;</td><td>false</td></tr><tr><td>&quot;1563471117808725661&quot;</td><td>1.7078e19</td><td>&quot;../../../../data/SampleHDS.jso…</td><td>&quot;6933706528673508779&quot;</td><td>&quot;2641638384544890442&quot;</td><td>&quot;12072159323336673559&quot;</td><td>true</td></tr><tr><td>&quot;10209740610312381670&quot;</td><td>5.0893e17</td><td>&quot;../../../../data/SampleHDS.jso…</td><td>&quot;374362652987472736&quot;</td><td>&quot;5716144096203697984&quot;</td><td>null</td><td>false</td></tr><tr><td>&quot;5320432496449302954&quot;</td><td>3.0313e18</td><td>&quot;../../../../data/SampleHDS.jso…</td><td>&quot;374362652987472736&quot;</td><td>&quot;2641638384544890442&quot;</td><td>&quot;12072159323336673559&quot;</td><td>false</td></tr></tbody></table></div>"
      ],
      "text/plain": [
       "shape: (7, 7)\n",
       "┌──────────────┬─────────────┬─────────────┬─────────────┬─────────────┬─────────────┬─────────────┐\n",
       "│ PREDICTOR_0  ┆ PREDICTOR_1 ┆ filename    ┆ PREDICTOR_3 ┆ Context_Nam ┆ IH_PREDICTO ┆ Decision_Ou │\n",
       "│ ---          ┆ ---         ┆ ---         ┆ ---         ┆ e           ┆ R_0         ┆ tcome       │\n",
       "│ str          ┆ f64         ┆ str         ┆ str         ┆ ---         ┆ ---         ┆ ---         │\n",
       "│              ┆             ┆             ┆             ┆ str         ┆ str         ┆ bool        │\n",
       "╞══════════════╪═════════════╪═════════════╪═════════════╪═════════════╪═════════════╪═════════════╡\n",
       "│ 147017685159 ┆ 4.3868e18   ┆ ../../../.. ┆ 69337065286 ┆ 83296488950 ┆ 49129677258 ┆ false       │\n",
       "│ 61094324     ┆             ┆ /data/Sampl ┆ 73508779    ┆ 30493763    ┆ 02745490    ┆             │\n",
       "│              ┆             ┆ eHDS.jso…   ┆             ┆             ┆             ┆             │\n",
       "│ 183087043476 ┆ 1.6294e19   ┆ ../../../.. ┆ 15048428407 ┆ 83296488950 ┆ 13285166811 ┆ true        │\n",
       "│ 2229531      ┆             ┆ /data/Sampl ┆ 909383056   ┆ 30493763    ┆ 542217445   ┆             │\n",
       "│              ┆             ┆ eHDS.jso…   ┆             ┆             ┆             ┆             │\n",
       "│ 107032860091 ┆ 6.1954e18   ┆ ../../../.. ┆ 37436265298 ┆ 72325394149 ┆ 49129677258 ┆ false       │\n",
       "│ 99392865     ┆             ┆ /data/Sampl ┆ 7472736     ┆ 39600107    ┆ 02745490    ┆             │\n",
       "│              ┆             ┆ eHDS.jso…   ┆             ┆             ┆             ┆             │\n",
       "│ 230687178841 ┆ 9.9240e18   ┆ ../../../.. ┆ 15048428407 ┆ 26416383845 ┆ 49129677258 ┆ false       │\n",
       "│ 6096254      ┆             ┆ /data/Sampl ┆ 909383056   ┆ 44890442    ┆ 02745490    ┆             │\n",
       "│              ┆             ┆ eHDS.jso…   ┆             ┆             ┆             ┆             │\n",
       "│ 156347111780 ┆ 1.7078e19   ┆ ../../../.. ┆ 69337065286 ┆ 26416383845 ┆ 12072159323 ┆ true        │\n",
       "│ 8725661      ┆             ┆ /data/Sampl ┆ 73508779    ┆ 44890442    ┆ 336673559   ┆             │\n",
       "│              ┆             ┆ eHDS.jso…   ┆             ┆             ┆             ┆             │\n",
       "│ 102097406103 ┆ 5.0893e17   ┆ ../../../.. ┆ 37436265298 ┆ 57161440962 ┆ null        ┆ false       │\n",
       "│ 12381670     ┆             ┆ /data/Sampl ┆ 7472736     ┆ 03697984    ┆             ┆             │\n",
       "│              ┆             ┆ eHDS.jso…   ┆             ┆             ┆             ┆             │\n",
       "│ 532043249644 ┆ 3.0313e18   ┆ ../../../.. ┆ 37436265298 ┆ 26416383845 ┆ 12072159323 ┆ false       │\n",
       "│ 9302954      ┆             ┆ /data/Sampl ┆ 7472736     ┆ 44890442    ┆ 336673559   ┆             │\n",
       "│              ┆             ┆ eHDS.jso…   ┆             ┆             ┆             ┆             │\n",
       "└──────────────┴─────────────┴─────────────┴─────────────┴─────────────┴─────────────┴─────────────┘"
      ]
     },
     "execution_count": 5,
     "metadata": {},
     "output_type": "execute_result"
    }
   ],
   "source": [
    "anon.process()"
   ]
  },
  {
   "attachments": {},
   "cell_type": "markdown",
   "metadata": {},
   "source": [
    "To trace back the columns to their original names, the class also contains a mapping, which does not have to be provided."
   ]
  },
  {
   "cell_type": "code",
   "execution_count": 6,
   "metadata": {
    "execution": {
     "iopub.execute_input": "2024-08-29T15:46:48.497329Z",
     "iopub.status.busy": "2024-08-29T15:46:48.496965Z",
     "iopub.status.idle": "2024-08-29T15:46:48.500800Z",
     "shell.execute_reply": "2024-08-29T15:46:48.500232Z"
    }
   },
   "outputs": [
    {
     "data": {
      "text/plain": [
       "{'Customer_City': 'PREDICTOR_0',\n",
       " 'Customer_CLV': 'PREDICTOR_1',\n",
       " 'filename': 'filename',\n",
       " 'Customer_MaritalStatus': 'PREDICTOR_3',\n",
       " 'Context_Name': 'Context_Name',\n",
       " 'IH_Web_Inbound_Accepted_pxLastGroupID': 'IH_PREDICTOR_0',\n",
       " 'Decision_Outcome': 'Decision_Outcome'}"
      ]
     },
     "execution_count": 6,
     "metadata": {},
     "output_type": "execute_result"
    }
   ],
   "source": [
    "anon.column_mapping"
   ]
  },
  {
   "attachments": {},
   "cell_type": "markdown",
   "metadata": {},
   "source": [
    "## Configs\n",
    "\n",
    "Each capability can optionally be turned off - see below for the full list of config options, and refer to the API reference for the full description."
   ]
  },
  {
   "cell_type": "code",
   "execution_count": 7,
   "metadata": {
    "execution": {
     "iopub.execute_input": "2024-08-29T15:46:48.502888Z",
     "iopub.status.busy": "2024-08-29T15:46:48.502574Z",
     "iopub.status.idle": "2024-08-29T15:46:48.506877Z",
     "shell.execute_reply": "2024-08-29T15:46:48.506348Z"
    }
   },
   "outputs": [
    {
     "data": {
      "text/plain": [
       "{'config_file': None,\n",
       " 'hds_folder': '.',\n",
       " 'use_datamart': False,\n",
       " 'datamart_folder': 'datamart',\n",
       " 'output_format': 'ndjson',\n",
       " 'output_folder': 'output',\n",
       " 'mapping_file': 'mapping.map',\n",
       " 'mask_predictor_names': True,\n",
       " 'mask_context_key_names': False,\n",
       " 'mask_ih_names': True,\n",
       " 'mask_outcome_name': False,\n",
       " 'mask_predictor_values': True,\n",
       " 'mask_context_key_values': True,\n",
       " 'mask_ih_values': True,\n",
       " 'mask_outcome_values': True,\n",
       " 'context_key_label': 'Context_*',\n",
       " 'ih_label': 'IH_*',\n",
       " 'outcome_column': 'Decision_Outcome',\n",
       " 'positive_outcomes': ['Accepted', 'Clicked'],\n",
       " 'negative_outcomes': ['Rejected', 'Impression'],\n",
       " 'special_predictors': ['Decision_DecisionTime',\n",
       "  'Decision_OutcomeTime',\n",
       "  'Decision_Rank'],\n",
       " 'sample_percentage_schema_inferencing': 0.01}"
      ]
     },
     "execution_count": 7,
     "metadata": {},
     "output_type": "execute_result"
    }
   ],
   "source": [
    "dict(zip(Config.__init__.__code__.co_varnames[1:], Config.__init__.__defaults__))"
   ]
  },
  {
   "attachments": {},
   "cell_type": "markdown",
   "metadata": {},
   "source": [
    "It's easy to change these parameters by just passing the keyword arguments. In the following example, we\n",
    "- Keep the IH predictor names\n",
    "- Keep the outcome values\n",
    "- Keep the context key values\n",
    "- Keep the context key predictor names"
   ]
  },
  {
   "cell_type": "code",
   "execution_count": 8,
   "metadata": {
    "execution": {
     "iopub.execute_input": "2024-08-29T15:46:48.508975Z",
     "iopub.status.busy": "2024-08-29T15:46:48.508623Z",
     "iopub.status.idle": "2024-08-29T15:46:48.516874Z",
     "shell.execute_reply": "2024-08-29T15:46:48.516317Z"
    }
   },
   "outputs": [
    {
     "data": {
      "text/html": [
       "<div><style>\n",
       ".dataframe > thead > tr,\n",
       ".dataframe > tbody > tr {\n",
       "  text-align: right;\n",
       "  white-space: pre-wrap;\n",
       "}\n",
       "</style>\n",
       "<small>shape: (7, 7)</small><table border=\"1\" class=\"dataframe\"><thead><tr><th>PREDICTOR_0</th><th>PREDICTOR_1</th><th>filename</th><th>PREDICTOR_3</th><th>Context_Name</th><th>IH_Web_Inbound_Accepted_pxLastGroupID</th><th>Decision_Outcome</th></tr><tr><td>str</td><td>f64</td><td>str</td><td>str</td><td>str</td><td>str</td><td>str</td></tr></thead><tbody><tr><td>&quot;5448452337218064398&quot;</td><td>2.8499e17</td><td>&quot;../../../../data/SampleHDS.jso…</td><td>&quot;15828018352702081594&quot;</td><td>&quot;FirstMortgage30yr&quot;</td><td>&quot;12869474465175321465&quot;</td><td>&quot;Rejected&quot;</td></tr><tr><td>&quot;17478127141569231282&quot;</td><td>1.6206e19</td><td>&quot;../../../../data/SampleHDS.jso…</td><td>&quot;16354800262861975004&quot;</td><td>&quot;FirstMortgage30yr&quot;</td><td>&quot;2826875804395316157&quot;</td><td>&quot;Accepted&quot;</td></tr><tr><td>&quot;17002059151292482706&quot;</td><td>2.5110e18</td><td>&quot;../../../../data/SampleHDS.jso…</td><td>&quot;1602248905436116730&quot;</td><td>&quot;MoneyMarketSavingsAccount&quot;</td><td>&quot;12869474465175321465&quot;</td><td>&quot;Rejected&quot;</td></tr><tr><td>&quot;13130913155690388550&quot;</td><td>4.0151e18</td><td>&quot;../../../../data/SampleHDS.jso…</td><td>&quot;16354800262861975004&quot;</td><td>&quot;BasicChecking&quot;</td><td>&quot;12869474465175321465&quot;</td><td>&quot;Rejected&quot;</td></tr><tr><td>&quot;13083853053692937498&quot;</td><td>3.3418e18</td><td>&quot;../../../../data/SampleHDS.jso…</td><td>&quot;15828018352702081594&quot;</td><td>&quot;BasicChecking&quot;</td><td>&quot;7383630733164936082&quot;</td><td>&quot;Accepted&quot;</td></tr><tr><td>&quot;17836924343033675323&quot;</td><td>1.0085e19</td><td>&quot;../../../../data/SampleHDS.jso…</td><td>&quot;1602248905436116730&quot;</td><td>&quot;UPlusFinPersonal&quot;</td><td>null</td><td>&quot;Rejected&quot;</td></tr><tr><td>&quot;15528079268958571530&quot;</td><td>1.5180e19</td><td>&quot;../../../../data/SampleHDS.jso…</td><td>&quot;1602248905436116730&quot;</td><td>&quot;BasicChecking&quot;</td><td>&quot;7383630733164936082&quot;</td><td>&quot;Rejected&quot;</td></tr></tbody></table></div>"
      ],
      "text/plain": [
       "shape: (7, 7)\n",
       "┌──────────────┬─────────────┬─────────────┬─────────────┬─────────────┬─────────────┬─────────────┐\n",
       "│ PREDICTOR_0  ┆ PREDICTOR_1 ┆ filename    ┆ PREDICTOR_3 ┆ Context_Nam ┆ IH_Web_Inbo ┆ Decision_Ou │\n",
       "│ ---          ┆ ---         ┆ ---         ┆ ---         ┆ e           ┆ und_Accepte ┆ tcome       │\n",
       "│ str          ┆ f64         ┆ str         ┆ str         ┆ ---         ┆ d_pxLast…   ┆ ---         │\n",
       "│              ┆             ┆             ┆             ┆ str         ┆ ---         ┆ str         │\n",
       "│              ┆             ┆             ┆             ┆             ┆ str         ┆             │\n",
       "╞══════════════╪═════════════╪═════════════╪═════════════╪═════════════╪═════════════╪═════════════╡\n",
       "│ 544845233721 ┆ 2.8499e17   ┆ ../../../.. ┆ 15828018352 ┆ FirstMortga ┆ 12869474465 ┆ Rejected    │\n",
       "│ 8064398      ┆             ┆ /data/Sampl ┆ 702081594   ┆ ge30yr      ┆ 175321465   ┆             │\n",
       "│              ┆             ┆ eHDS.jso…   ┆             ┆             ┆             ┆             │\n",
       "│ 174781271415 ┆ 1.6206e19   ┆ ../../../.. ┆ 16354800262 ┆ FirstMortga ┆ 28268758043 ┆ Accepted    │\n",
       "│ 69231282     ┆             ┆ /data/Sampl ┆ 861975004   ┆ ge30yr      ┆ 95316157    ┆             │\n",
       "│              ┆             ┆ eHDS.jso…   ┆             ┆             ┆             ┆             │\n",
       "│ 170020591512 ┆ 2.5110e18   ┆ ../../../.. ┆ 16022489054 ┆ MoneyMarket ┆ 12869474465 ┆ Rejected    │\n",
       "│ 92482706     ┆             ┆ /data/Sampl ┆ 36116730    ┆ SavingsAcco ┆ 175321465   ┆             │\n",
       "│              ┆             ┆ eHDS.jso…   ┆             ┆ unt         ┆             ┆             │\n",
       "│ 131309131556 ┆ 4.0151e18   ┆ ../../../.. ┆ 16354800262 ┆ BasicChecki ┆ 12869474465 ┆ Rejected    │\n",
       "│ 90388550     ┆             ┆ /data/Sampl ┆ 861975004   ┆ ng          ┆ 175321465   ┆             │\n",
       "│              ┆             ┆ eHDS.jso…   ┆             ┆             ┆             ┆             │\n",
       "│ 130838530536 ┆ 3.3418e18   ┆ ../../../.. ┆ 15828018352 ┆ BasicChecki ┆ 73836307331 ┆ Accepted    │\n",
       "│ 92937498     ┆             ┆ /data/Sampl ┆ 702081594   ┆ ng          ┆ 64936082    ┆             │\n",
       "│              ┆             ┆ eHDS.jso…   ┆             ┆             ┆             ┆             │\n",
       "│ 178369243430 ┆ 1.0085e19   ┆ ../../../.. ┆ 16022489054 ┆ UPlusFinPer ┆ null        ┆ Rejected    │\n",
       "│ 33675323     ┆             ┆ /data/Sampl ┆ 36116730    ┆ sonal       ┆             ┆             │\n",
       "│              ┆             ┆ eHDS.jso…   ┆             ┆             ┆             ┆             │\n",
       "│ 155280792689 ┆ 1.5180e19   ┆ ../../../.. ┆ 16022489054 ┆ BasicChecki ┆ 73836307331 ┆ Rejected    │\n",
       "│ 58571530     ┆             ┆ /data/Sampl ┆ 36116730    ┆ ng          ┆ 64936082    ┆             │\n",
       "│              ┆             ┆ eHDS.jso…   ┆             ┆             ┆             ┆             │\n",
       "└──────────────┴─────────────┴─────────────┴─────────────┴─────────────┴─────────────┴─────────────┘"
      ]
     },
     "execution_count": 8,
     "metadata": {},
     "output_type": "execute_result"
    }
   ],
   "source": [
    "anon = DataAnonymization(\n",
    "    hds_folder=\"../../../../data/\",\n",
    "    mask_ih_names=False,\n",
    "    mask_outcome_values=False,\n",
    "    mask_context_key_values=False,\n",
    "    mask_context_key_names=False,\n",
    ")\n",
    "anon.process()\n"
   ]
  },
  {
   "attachments": {},
   "cell_type": "markdown",
   "metadata": {},
   "source": [
    "The configs can also be written and read as such:"
   ]
  },
  {
   "cell_type": "code",
   "execution_count": 9,
   "metadata": {
    "execution": {
     "iopub.execute_input": "2024-08-29T15:46:48.519034Z",
     "iopub.status.busy": "2024-08-29T15:46:48.518731Z",
     "iopub.status.idle": "2024-08-29T15:46:48.521486Z",
     "shell.execute_reply": "2024-08-29T15:46:48.521050Z"
    }
   },
   "outputs": [],
   "source": [
    "anon.config.save_to_config_file('config.json')"
   ]
  },
  {
   "cell_type": "code",
   "execution_count": 10,
   "metadata": {
    "execution": {
     "iopub.execute_input": "2024-08-29T15:46:48.523333Z",
     "iopub.status.busy": "2024-08-29T15:46:48.523073Z",
     "iopub.status.idle": "2024-08-29T15:46:48.531163Z",
     "shell.execute_reply": "2024-08-29T15:46:48.530598Z"
    }
   },
   "outputs": [
    {
     "data": {
      "text/html": [
       "<div><style>\n",
       ".dataframe > thead > tr,\n",
       ".dataframe > tbody > tr {\n",
       "  text-align: right;\n",
       "  white-space: pre-wrap;\n",
       "}\n",
       "</style>\n",
       "<small>shape: (7, 7)</small><table border=\"1\" class=\"dataframe\"><thead><tr><th>PREDICTOR_0</th><th>PREDICTOR_1</th><th>filename</th><th>PREDICTOR_3</th><th>Context_Name</th><th>IH_Web_Inbound_Accepted_pxLastGroupID</th><th>Decision_Outcome</th></tr><tr><td>str</td><td>f64</td><td>str</td><td>str</td><td>str</td><td>str</td><td>str</td></tr></thead><tbody><tr><td>&quot;14358030279554259035&quot;</td><td>1.7053e19</td><td>&quot;../../../../data/SampleHDS.jso…</td><td>&quot;3379665622621738913&quot;</td><td>&quot;FirstMortgage30yr&quot;</td><td>&quot;11730390344365785675&quot;</td><td>&quot;Rejected&quot;</td></tr><tr><td>&quot;9786188987779878491&quot;</td><td>8.4606e18</td><td>&quot;../../../../data/SampleHDS.jso…</td><td>&quot;12225859183858212282&quot;</td><td>&quot;FirstMortgage30yr&quot;</td><td>&quot;13611860230996235604&quot;</td><td>&quot;Accepted&quot;</td></tr><tr><td>&quot;11776150188831750100&quot;</td><td>1.4298e19</td><td>&quot;../../../../data/SampleHDS.jso…</td><td>&quot;4400466202206793792&quot;</td><td>&quot;MoneyMarketSavingsAccount&quot;</td><td>&quot;11730390344365785675&quot;</td><td>&quot;Rejected&quot;</td></tr><tr><td>&quot;3371989351220163991&quot;</td><td>1.8222e19</td><td>&quot;../../../../data/SampleHDS.jso…</td><td>&quot;12225859183858212282&quot;</td><td>&quot;BasicChecking&quot;</td><td>&quot;11730390344365785675&quot;</td><td>&quot;Rejected&quot;</td></tr><tr><td>&quot;5441665109427285436&quot;</td><td>2.7539e18</td><td>&quot;../../../../data/SampleHDS.jso…</td><td>&quot;3379665622621738913&quot;</td><td>&quot;BasicChecking&quot;</td><td>&quot;13158039235640228738&quot;</td><td>&quot;Accepted&quot;</td></tr><tr><td>&quot;13102695026656957626&quot;</td><td>1.4071e19</td><td>&quot;../../../../data/SampleHDS.jso…</td><td>&quot;4400466202206793792&quot;</td><td>&quot;UPlusFinPersonal&quot;</td><td>null</td><td>&quot;Rejected&quot;</td></tr><tr><td>&quot;6029228625241794598&quot;</td><td>1.0575e19</td><td>&quot;../../../../data/SampleHDS.jso…</td><td>&quot;4400466202206793792&quot;</td><td>&quot;BasicChecking&quot;</td><td>&quot;13158039235640228738&quot;</td><td>&quot;Rejected&quot;</td></tr></tbody></table></div>"
      ],
      "text/plain": [
       "shape: (7, 7)\n",
       "┌──────────────┬─────────────┬─────────────┬─────────────┬─────────────┬─────────────┬─────────────┐\n",
       "│ PREDICTOR_0  ┆ PREDICTOR_1 ┆ filename    ┆ PREDICTOR_3 ┆ Context_Nam ┆ IH_Web_Inbo ┆ Decision_Ou │\n",
       "│ ---          ┆ ---         ┆ ---         ┆ ---         ┆ e           ┆ und_Accepte ┆ tcome       │\n",
       "│ str          ┆ f64         ┆ str         ┆ str         ┆ ---         ┆ d_pxLast…   ┆ ---         │\n",
       "│              ┆             ┆             ┆             ┆ str         ┆ ---         ┆ str         │\n",
       "│              ┆             ┆             ┆             ┆             ┆ str         ┆             │\n",
       "╞══════════════╪═════════════╪═════════════╪═════════════╪═════════════╪═════════════╪═════════════╡\n",
       "│ 143580302795 ┆ 1.7053e19   ┆ ../../../.. ┆ 33796656226 ┆ FirstMortga ┆ 11730390344 ┆ Rejected    │\n",
       "│ 54259035     ┆             ┆ /data/Sampl ┆ 21738913    ┆ ge30yr      ┆ 365785675   ┆             │\n",
       "│              ┆             ┆ eHDS.jso…   ┆             ┆             ┆             ┆             │\n",
       "│ 978618898777 ┆ 8.4606e18   ┆ ../../../.. ┆ 12225859183 ┆ FirstMortga ┆ 13611860230 ┆ Accepted    │\n",
       "│ 9878491      ┆             ┆ /data/Sampl ┆ 858212282   ┆ ge30yr      ┆ 996235604   ┆             │\n",
       "│              ┆             ┆ eHDS.jso…   ┆             ┆             ┆             ┆             │\n",
       "│ 117761501888 ┆ 1.4298e19   ┆ ../../../.. ┆ 44004662022 ┆ MoneyMarket ┆ 11730390344 ┆ Rejected    │\n",
       "│ 31750100     ┆             ┆ /data/Sampl ┆ 06793792    ┆ SavingsAcco ┆ 365785675   ┆             │\n",
       "│              ┆             ┆ eHDS.jso…   ┆             ┆ unt         ┆             ┆             │\n",
       "│ 337198935122 ┆ 1.8222e19   ┆ ../../../.. ┆ 12225859183 ┆ BasicChecki ┆ 11730390344 ┆ Rejected    │\n",
       "│ 0163991      ┆             ┆ /data/Sampl ┆ 858212282   ┆ ng          ┆ 365785675   ┆             │\n",
       "│              ┆             ┆ eHDS.jso…   ┆             ┆             ┆             ┆             │\n",
       "│ 544166510942 ┆ 2.7539e18   ┆ ../../../.. ┆ 33796656226 ┆ BasicChecki ┆ 13158039235 ┆ Accepted    │\n",
       "│ 7285436      ┆             ┆ /data/Sampl ┆ 21738913    ┆ ng          ┆ 640228738   ┆             │\n",
       "│              ┆             ┆ eHDS.jso…   ┆             ┆             ┆             ┆             │\n",
       "│ 131026950266 ┆ 1.4071e19   ┆ ../../../.. ┆ 44004662022 ┆ UPlusFinPer ┆ null        ┆ Rejected    │\n",
       "│ 56957626     ┆             ┆ /data/Sampl ┆ 06793792    ┆ sonal       ┆             ┆             │\n",
       "│              ┆             ┆ eHDS.jso…   ┆             ┆             ┆             ┆             │\n",
       "│ 602922862524 ┆ 1.0575e19   ┆ ../../../.. ┆ 44004662022 ┆ BasicChecki ┆ 13158039235 ┆ Rejected    │\n",
       "│ 1794598      ┆             ┆ /data/Sampl ┆ 06793792    ┆ ng          ┆ 640228738   ┆             │\n",
       "│              ┆             ┆ eHDS.jso…   ┆             ┆             ┆             ┆             │\n",
       "└──────────────┴─────────────┴─────────────┴─────────────┴─────────────┴─────────────┴─────────────┘"
      ]
     },
     "execution_count": 10,
     "metadata": {},
     "output_type": "execute_result"
    }
   ],
   "source": [
    "anon = DataAnonymization(config=Config(config_file='config.json'))\n",
    "anon.process()"
   ]
  },
  {
   "attachments": {},
   "cell_type": "markdown",
   "metadata": {},
   "source": [
    "## Exporting\n",
    "Two functions export:\n",
    "- `create_mapping_file()` writes the mapping file of the predictor names\n",
    "- `write_to_output()` writes the processed dataframe to disk\n",
    "\n",
    "Write to output accepts the following extensions: `[\"ndjson\", \"parquet\", \"arrow\", \"csv\"]`"
   ]
  },
  {
   "cell_type": "code",
   "execution_count": 11,
   "metadata": {
    "execution": {
     "iopub.execute_input": "2024-08-29T15:46:48.533301Z",
     "iopub.status.busy": "2024-08-29T15:46:48.532974Z",
     "iopub.status.idle": "2024-08-29T15:46:48.536359Z",
     "shell.execute_reply": "2024-08-29T15:46:48.535916Z"
    }
   },
   "outputs": [
    {
     "name": "stdout",
     "output_type": "stream",
     "text": [
      "Customer_City=PREDICTOR_0\n",
      "Customer_CLV=PREDICTOR_1\n",
      "filename=filename\n",
      "Customer_MaritalStatus=PREDICTOR_3\n",
      "Context_Name=Context_Name\n",
      "IH_Web_Inbound_Accepted_pxLastGroupID=IH_Web_Inbound_Accepted_pxLastGroupID\n",
      "Decision_Outcome=Decision_Outcome\n",
      "\n"
     ]
    }
   ],
   "source": [
    "anon.create_mapping_file()\n",
    "with open('mapping.map') as f:\n",
    "    print(f.read())"
   ]
  },
  {
   "cell_type": "code",
   "execution_count": 12,
   "metadata": {
    "execution": {
     "iopub.execute_input": "2024-08-29T15:46:48.538285Z",
     "iopub.status.busy": "2024-08-29T15:46:48.537991Z",
     "iopub.status.idle": "2024-08-29T15:46:48.541691Z",
     "shell.execute_reply": "2024-08-29T15:46:48.541146Z"
    }
   },
   "outputs": [],
   "source": [
    "anon.write_to_output(ext='arrow')"
   ]
  },
  {
   "cell_type": "code",
   "execution_count": 13,
   "metadata": {
    "execution": {
     "iopub.execute_input": "2024-08-29T15:46:48.543803Z",
     "iopub.status.busy": "2024-08-29T15:46:48.543413Z",
     "iopub.status.idle": "2024-08-29T15:46:48.548108Z",
     "shell.execute_reply": "2024-08-29T15:46:48.547569Z"
    }
   },
   "outputs": [
    {
     "data": {
      "text/html": [
       "<div><style>\n",
       ".dataframe > thead > tr,\n",
       ".dataframe > tbody > tr {\n",
       "  text-align: right;\n",
       "  white-space: pre-wrap;\n",
       "}\n",
       "</style>\n",
       "<small>shape: (7, 6)</small><table border=\"1\" class=\"dataframe\"><thead><tr><th>PREDICTOR_0</th><th>PREDICTOR_1</th><th>PREDICTOR_3</th><th>Context_Name</th><th>IH_Web_Inbound_Accepted_pxLastGroupID</th><th>Decision_Outcome</th></tr><tr><td>str</td><td>f64</td><td>str</td><td>str</td><td>str</td><td>str</td></tr></thead><tbody><tr><td>&quot;8262429355211842360&quot;</td><td>8.3867e18</td><td>&quot;12284549990905224385&quot;</td><td>&quot;FirstMortgage30yr&quot;</td><td>&quot;11589024074427623291&quot;</td><td>&quot;Rejected&quot;</td></tr><tr><td>&quot;7966456522498371456&quot;</td><td>8.9327e18</td><td>&quot;9665925817762485216&quot;</td><td>&quot;FirstMortgage30yr&quot;</td><td>&quot;6844352117297209851&quot;</td><td>&quot;Accepted&quot;</td></tr><tr><td>&quot;4855127628707324881&quot;</td><td>6.1854e18</td><td>&quot;8320858726954197783&quot;</td><td>&quot;MoneyMarketSavingsAccount&quot;</td><td>&quot;11589024074427623291&quot;</td><td>&quot;Rejected&quot;</td></tr><tr><td>&quot;2935096018552473823&quot;</td><td>9.2904e18</td><td>&quot;9665925817762485216&quot;</td><td>&quot;BasicChecking&quot;</td><td>&quot;11589024074427623291&quot;</td><td>&quot;Rejected&quot;</td></tr><tr><td>&quot;15295666770933943866&quot;</td><td>2.2013e17</td><td>&quot;12284549990905224385&quot;</td><td>&quot;BasicChecking&quot;</td><td>&quot;3758632175384387202&quot;</td><td>&quot;Accepted&quot;</td></tr><tr><td>&quot;3613709968155097108&quot;</td><td>2.4484e18</td><td>&quot;8320858726954197783&quot;</td><td>&quot;UPlusFinPersonal&quot;</td><td>null</td><td>&quot;Rejected&quot;</td></tr><tr><td>&quot;9397904830987699640&quot;</td><td>1.0939e19</td><td>&quot;8320858726954197783&quot;</td><td>&quot;BasicChecking&quot;</td><td>&quot;3758632175384387202&quot;</td><td>&quot;Rejected&quot;</td></tr></tbody></table></div>"
      ],
      "text/plain": [
       "shape: (7, 6)\n",
       "┌────────────────┬─────────────┬────────────────┬────────────────┬────────────────┬────────────────┐\n",
       "│ PREDICTOR_0    ┆ PREDICTOR_1 ┆ PREDICTOR_3    ┆ Context_Name   ┆ IH_Web_Inbound ┆ Decision_Outco │\n",
       "│ ---            ┆ ---         ┆ ---            ┆ ---            ┆ _Accepted_pxLa ┆ me             │\n",
       "│ str            ┆ f64         ┆ str            ┆ str            ┆ st…            ┆ ---            │\n",
       "│                ┆             ┆                ┆                ┆ ---            ┆ str            │\n",
       "│                ┆             ┆                ┆                ┆ str            ┆                │\n",
       "╞════════════════╪═════════════╪════════════════╪════════════════╪════════════════╪════════════════╡\n",
       "│ 82624293552118 ┆ 8.3867e18   ┆ 12284549990905 ┆ FirstMortgage3 ┆ 11589024074427 ┆ Rejected       │\n",
       "│ 42360          ┆             ┆ 224385         ┆ 0yr            ┆ 623291         ┆                │\n",
       "│ 79664565224983 ┆ 8.9327e18   ┆ 96659258177624 ┆ FirstMortgage3 ┆ 68443521172972 ┆ Accepted       │\n",
       "│ 71456          ┆             ┆ 85216          ┆ 0yr            ┆ 09851          ┆                │\n",
       "│ 48551276287073 ┆ 6.1854e18   ┆ 83208587269541 ┆ MoneyMarketSav ┆ 11589024074427 ┆ Rejected       │\n",
       "│ 24881          ┆             ┆ 97783          ┆ ingsAccount    ┆ 623291         ┆                │\n",
       "│ 29350960185524 ┆ 9.2904e18   ┆ 96659258177624 ┆ BasicChecking  ┆ 11589024074427 ┆ Rejected       │\n",
       "│ 73823          ┆             ┆ 85216          ┆                ┆ 623291         ┆                │\n",
       "│ 15295666770933 ┆ 2.2013e17   ┆ 12284549990905 ┆ BasicChecking  ┆ 37586321753843 ┆ Accepted       │\n",
       "│ 943866         ┆             ┆ 224385         ┆                ┆ 87202          ┆                │\n",
       "│ 36137099681550 ┆ 2.4484e18   ┆ 83208587269541 ┆ UPlusFinPerson ┆ null           ┆ Rejected       │\n",
       "│ 97108          ┆             ┆ 97783          ┆ al             ┆                ┆                │\n",
       "│ 93979048309876 ┆ 1.0939e19   ┆ 83208587269541 ┆ BasicChecking  ┆ 37586321753843 ┆ Rejected       │\n",
       "│ 99640          ┆             ┆ 97783          ┆                ┆ 87202          ┆                │\n",
       "└────────────────┴─────────────┴────────────────┴────────────────┴────────────────┴────────────────┘"
      ]
     },
     "execution_count": 13,
     "metadata": {},
     "output_type": "execute_result"
    }
   ],
   "source": [
    "pl.read_ipc('output/hds.arrow')"
   ]
  },
  {
   "attachments": {},
   "cell_type": "markdown",
   "metadata": {
    "nbsphinx": "hidden"
   },
   "source": [
    "## Advanced: Hash fuctions\n",
    "\n",
    "By default, we use [the same hashing algorithm Polars](https://pola-rs.github.io/polars/py-polars/html/reference/expressions/api/polars.Expr.hash.html#polars.Expr.hash) uses: [xxhash](https://github.com/Cyan4973/xxHash), as implemented [here](https://github.com/pola-rs/polars/blob/3f287f370b3c388ed2f3f218b2c096382548136f/polars/polars-core/src/vector_hasher.rs#L266). xxhash is fast to compute, and you can check its performance in collision, dispersion and randomness [here](https://github.com/Cyan4973/xxHash/tree/dev/tests). \n",
    "\n",
    "xxhash accepts four distinct seeds, but by default we set the seeds to `0`. It is possible to set the `seed` argument of the `process()` function to `'random'`, which will set all four seeds to a random integer between `0` and `1000000000`. Alternatively, it is possible to supply the four seeds manually with arguments `seed`, `seed_1`, `seed_2` and `seed_3`. \n",
    "\n",
    "If the xxhash with (random) seed(s) is not deemed sufficiently secure, it is possible to use your own hashing algorithm.\n",
    "\n",
    "Note that since we're now running python code and not native Polars code anymore, this will be _significantly_ slower. Nonetheless, it is possible.\n",
    "\n",
    "Just as an example - this is how one would use sha3_256:"
   ]
  },
  {
   "cell_type": "code",
   "execution_count": 14,
   "metadata": {
    "execution": {
     "iopub.execute_input": "2024-08-29T15:46:48.550204Z",
     "iopub.status.busy": "2024-08-29T15:46:48.549904Z",
     "iopub.status.idle": "2024-08-29T15:46:48.889218Z",
     "shell.execute_reply": "2024-08-29T15:46:48.888565Z"
    },
    "nbsphinx": "hidden"
   },
   "outputs": [
    {
     "name": "stderr",
     "output_type": "stream",
     "text": [
      "sys:1: MapWithoutReturnDtypeWarning:\n",
      "\n",
      "Calling `map_elements` without specifying `return_dtype` can lead to unpredictable results. Specify `return_dtype` to silence this warning.\n",
      "\n",
      "sys:1: MapWithoutReturnDtypeWarning:\n",
      "\n",
      "Calling `map_elements` without specifying `return_dtype` can lead to unpredictable results. Specify `return_dtype` to silence this warning.\n",
      "\n",
      "sys:1: MapWithoutReturnDtypeWarning:\n",
      "\n",
      "Calling `map_elements` without specifying `return_dtype` can lead to unpredictable results. Specify `return_dtype` to silence this warning.\n",
      "\n",
      "sys:1: MapWithoutReturnDtypeWarning:\n",
      "\n",
      "Calling `map_elements` without specifying `return_dtype` can lead to unpredictable results. Specify `return_dtype` to silence this warning.\n",
      "\n"
     ]
    },
    {
     "ename": "ComputeError",
     "evalue": "AttributeError: 'int' object has no attribute 'encode'",
     "output_type": "error",
     "traceback": [
      "\u001b[0;31m---------------------------------------------------------------------------\u001b[0m",
      "\u001b[0;31mComputeError\u001b[0m                              Traceback (most recent call last)",
      "Cell \u001b[0;32mIn[14], line 3\u001b[0m\n\u001b[1;32m      1\u001b[0m \u001b[38;5;28;01mfrom\u001b[39;00m \u001b[38;5;21;01mhashlib\u001b[39;00m \u001b[38;5;28;01mimport\u001b[39;00m sha3_256\n\u001b[0;32m----> 3\u001b[0m \u001b[43manon\u001b[49m\u001b[38;5;241;43m.\u001b[39;49m\u001b[43mprocess\u001b[49m\u001b[43m(\u001b[49m\u001b[43malgorithm\u001b[49m\u001b[38;5;241;43m=\u001b[39;49m\u001b[38;5;28;43;01mlambda\u001b[39;49;00m\u001b[43m \u001b[49m\u001b[43mx\u001b[49m\u001b[43m:\u001b[49m\u001b[43m \u001b[49m\u001b[43msha3_256\u001b[49m\u001b[43m(\u001b[49m\u001b[43mx\u001b[49m\u001b[38;5;241;43m.\u001b[39;49m\u001b[43mencode\u001b[49m\u001b[43m(\u001b[49m\u001b[43m)\u001b[49m\u001b[43m)\u001b[49m\u001b[38;5;241;43m.\u001b[39;49m\u001b[43mhexdigest\u001b[49m\u001b[43m(\u001b[49m\u001b[43m)\u001b[49m\u001b[43m)\u001b[49m\n",
      "File \u001b[0;32m~/work/pega-datascientist-tools/pega-datascientist-tools/python/docs/source/articles/../../../pdstools/utils/hds_utils.py:512\u001b[0m, in \u001b[0;36mDataAnonymization.process\u001b[0;34m(self, strategy, **kwargs)\u001b[0m\n\u001b[1;32m    510\u001b[0m df \u001b[38;5;241m=\u001b[39m df\u001b[38;5;241m.\u001b[39mselect(\u001b[38;5;28mself\u001b[39m\u001b[38;5;241m.\u001b[39mcolumn_mapping\u001b[38;5;241m.\u001b[39mkeys())\u001b[38;5;241m.\u001b[39mrename(\u001b[38;5;28mself\u001b[39m\u001b[38;5;241m.\u001b[39mcolumn_mapping)\n\u001b[1;32m    511\u001b[0m \u001b[38;5;28;01mif\u001b[39;00m strategy \u001b[38;5;241m==\u001b[39m \u001b[38;5;124m\"\u001b[39m\u001b[38;5;124meager\u001b[39m\u001b[38;5;124m\"\u001b[39m:\n\u001b[0;32m--> 512\u001b[0m     \u001b[38;5;28;01mreturn\u001b[39;00m \u001b[43mdf\u001b[49m\u001b[38;5;241;43m.\u001b[39;49m\u001b[43mcollect\u001b[49m\u001b[43m(\u001b[49m\u001b[43m)\u001b[49m\n\u001b[1;32m    513\u001b[0m \u001b[38;5;28;01mreturn\u001b[39;00m df\n",
      "File \u001b[0;32m/opt/hostedtoolcache/Python/3.11.9/x64/lib/python3.11/site-packages/polars/lazyframe/frame.py:1967\u001b[0m, in \u001b[0;36mLazyFrame.collect\u001b[0;34m(self, type_coercion, predicate_pushdown, projection_pushdown, simplify_expression, slice_pushdown, comm_subplan_elim, comm_subexpr_elim, cluster_with_columns, no_optimization, streaming, background, _eager, **_kwargs)\u001b[0m\n\u001b[1;32m   1964\u001b[0m \u001b[38;5;66;03m# Only for testing purposes atm.\u001b[39;00m\n\u001b[1;32m   1965\u001b[0m callback \u001b[38;5;241m=\u001b[39m _kwargs\u001b[38;5;241m.\u001b[39mget(\u001b[38;5;124m\"\u001b[39m\u001b[38;5;124mpost_opt_callback\u001b[39m\u001b[38;5;124m\"\u001b[39m)\n\u001b[0;32m-> 1967\u001b[0m \u001b[38;5;28;01mreturn\u001b[39;00m wrap_df(\u001b[43mldf\u001b[49m\u001b[38;5;241;43m.\u001b[39;49m\u001b[43mcollect\u001b[49m\u001b[43m(\u001b[49m\u001b[43mcallback\u001b[49m\u001b[43m)\u001b[49m)\n",
      "\u001b[0;31mComputeError\u001b[0m: AttributeError: 'int' object has no attribute 'encode'"
     ]
    }
   ],
   "source": [
    "from hashlib import sha3_256\n",
    "\n",
    "anon.process(algorithm=lambda x: sha3_256(x.encode()).hexdigest())"
   ]
  }
 ],
 "metadata": {
  "kernelspec": {
   "display_name": "Python 3",
   "language": "python",
   "name": "python3"
  },
  "language_info": {
   "codemirror_mode": {
    "name": "ipython",
    "version": 3
   },
   "file_extension": ".py",
   "mimetype": "text/x-python",
   "name": "python",
   "nbconvert_exporter": "python",
   "pygments_lexer": "ipython3",
   "version": "3.11.9"
  },
  "vscode": {
   "interpreter": {
    "hash": "aee8b7b246df8f9039afb4144a1f6fd8d2ca17a180786b69acc140d282b71a49"
   }
  }
 },
 "nbformat": 4,
 "nbformat_minor": 2
}
