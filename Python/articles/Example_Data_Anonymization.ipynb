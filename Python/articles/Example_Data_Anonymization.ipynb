{
 "cells": [
  {
   "attachments": {},
   "cell_type": "markdown",
   "metadata": {},
   "source": [
    "# Example data anonymization\n",
    "\n",
    "In Pega CDH 8.5 and up, it's now possible to record the historical data as seen by the Adaptive Models. See [this academy challenge](https://academy.pega.com/challenge/exporting-historical-data/v4) for reference. This historical data can be further used to experiment with offline models, but also to fine-tune the OOTB Gradient Boosting model. However, sharing this information with Pega can be sensitive as it contains raw predictor data. \n",
    "\n",
    "To this end, we provide a simple and transparent script to fully anonimize this dataset.\n",
    "\n",
    "The DataAnonymization script is now part of pdstools, and you can import it directly as such."
   ]
  },
  {
   "cell_type": "code",
   "execution_count": 1,
   "metadata": {
    "execution": {
     "iopub.execute_input": "2023-06-30T14:51:17.912706Z",
     "iopub.status.busy": "2023-06-30T14:51:17.912518Z",
     "iopub.status.idle": "2023-06-30T14:51:17.919032Z",
     "shell.execute_reply": "2023-06-30T14:51:17.917836Z"
    },
    "nbsphinx": "hidden"
   },
   "outputs": [],
   "source": [
    "# These lines are only for rendering in the docs, and are hidden through Jupyter tags\n",
    "# Do not run if you're running the notebook seperately\n",
    "\n",
    "import sys\n",
    "sys.path.append('../../../')"
   ]
  },
  {
   "cell_type": "code",
   "execution_count": 2,
   "metadata": {
    "execution": {
     "iopub.execute_input": "2023-06-30T14:51:17.921325Z",
     "iopub.status.busy": "2023-06-30T14:51:17.920897Z",
     "iopub.status.idle": "2023-06-30T14:51:18.982374Z",
     "shell.execute_reply": "2023-06-30T14:51:18.981804Z"
    }
   },
   "outputs": [],
   "source": [
    "from pdstools import ADMDatamart\n",
    "from pdstools import Config, DataAnonymization\n",
    "import polars as pl"
   ]
  },
  {
   "attachments": {},
   "cell_type": "markdown",
   "metadata": {},
   "source": [
    "## Input data\n",
    "\n",
    "To demonstrate this process, we're going to anonymise this toy example dataframe:"
   ]
  },
  {
   "cell_type": "code",
   "execution_count": 3,
   "metadata": {
    "execution": {
     "iopub.execute_input": "2023-06-30T14:51:18.985735Z",
     "iopub.status.busy": "2023-06-30T14:51:18.985046Z",
     "iopub.status.idle": "2023-06-30T14:51:18.995349Z",
     "shell.execute_reply": "2023-06-30T14:51:18.994824Z"
    }
   },
   "outputs": [
    {
     "data": {
      "text/html": [
       "<div><style>\n",
       ".dataframe > thead > tr > th,\n",
       ".dataframe > tbody > tr > td {\n",
       "  text-align: right;\n",
       "}\n",
       "</style>\n",
       "<small>shape: (7, 6)</small><table border=\"1\" class=\"dataframe\"><thead><tr><th>Context_Name</th><th>Customer_MaritalStatus</th><th>Customer_CLV</th><th>Customer_City</th><th>IH_Web_Inbound_Accepted_pxLastGroupID</th><th>Decision_Outcome</th></tr><tr><td>str</td><td>str</td><td>i64</td><td>str</td><td>str</td><td>str</td></tr></thead><tbody><tr><td>&quot;FirstMortgage3…</td><td>&quot;Married&quot;</td><td>1460</td><td>&quot;Port Raoul&quot;</td><td>&quot;Account&quot;</td><td>&quot;Rejected&quot;</td></tr><tr><td>&quot;FirstMortgage3…</td><td>&quot;Unknown&quot;</td><td>669</td><td>&quot;Laurianneshire…</td><td>&quot;AutoLoans&quot;</td><td>&quot;Accepted&quot;</td></tr><tr><td>&quot;MoneyMarketSav…</td><td>&quot;No Resp+&quot;</td><td>1174</td><td>&quot;Jacobshaven&quot;</td><td>&quot;Account&quot;</td><td>&quot;Rejected&quot;</td></tr><tr><td>&quot;BasicChecking&quot;</td><td>&quot;Unknown&quot;</td><td>1476</td><td>&quot;Lindton&quot;</td><td>&quot;Account&quot;</td><td>&quot;Rejected&quot;</td></tr><tr><td>&quot;BasicChecking&quot;</td><td>&quot;Married&quot;</td><td>1211</td><td>&quot;South Jimmiesh…</td><td>&quot;DepositAccount…</td><td>&quot;Accepted&quot;</td></tr><tr><td>&quot;UPlusFinPerson…</td><td>&quot;No Resp+&quot;</td><td>533</td><td>&quot;Bergeville&quot;</td><td>null</td><td>&quot;Rejected&quot;</td></tr><tr><td>&quot;BasicChecking&quot;</td><td>&quot;No Resp+&quot;</td><td>555</td><td>&quot;Willyville&quot;</td><td>&quot;DepositAccount…</td><td>&quot;Rejected&quot;</td></tr></tbody></table></div>"
      ],
      "text/plain": [
       "shape: (7, 6)\n",
       "┌────────────────┬────────────────┬──────────────┬────────────────┬────────────────┬───────────────┐\n",
       "│ Context_Name   ┆ Customer_Marit ┆ Customer_CLV ┆ Customer_City  ┆ IH_Web_Inbound ┆ Decision_Outc │\n",
       "│ ---            ┆ alStatus       ┆ ---          ┆ ---            ┆ _Accepted_pxLa ┆ ome           │\n",
       "│ str            ┆ ---            ┆ i64          ┆ str            ┆ stGr…          ┆ ---           │\n",
       "│                ┆ str            ┆              ┆                ┆ ---            ┆ str           │\n",
       "│                ┆                ┆              ┆                ┆ str            ┆               │\n",
       "╞════════════════╪════════════════╪══════════════╪════════════════╪════════════════╪═══════════════╡\n",
       "│ FirstMortgage3 ┆ Married        ┆ 1460         ┆ Port Raoul     ┆ Account        ┆ Rejected      │\n",
       "│ 0yr            ┆                ┆              ┆                ┆                ┆               │\n",
       "│ FirstMortgage3 ┆ Unknown        ┆ 669          ┆ Laurianneshire ┆ AutoLoans      ┆ Accepted      │\n",
       "│ 0yr            ┆                ┆              ┆                ┆                ┆               │\n",
       "│ MoneyMarketSav ┆ No Resp+       ┆ 1174         ┆ Jacobshaven    ┆ Account        ┆ Rejected      │\n",
       "│ ingsAccount    ┆                ┆              ┆                ┆                ┆               │\n",
       "│ BasicChecking  ┆ Unknown        ┆ 1476         ┆ Lindton        ┆ Account        ┆ Rejected      │\n",
       "│ BasicChecking  ┆ Married        ┆ 1211         ┆ South          ┆ DepositAccount ┆ Accepted      │\n",
       "│                ┆                ┆              ┆ Jimmieshire    ┆ s              ┆               │\n",
       "│ UPlusFinPerson ┆ No Resp+       ┆ 533          ┆ Bergeville     ┆ null           ┆ Rejected      │\n",
       "│ al             ┆                ┆              ┆                ┆                ┆               │\n",
       "│ BasicChecking  ┆ No Resp+       ┆ 555          ┆ Willyville     ┆ DepositAccount ┆ Rejected      │\n",
       "│                ┆                ┆              ┆                ┆ s              ┆               │\n",
       "└────────────────┴────────────────┴──────────────┴────────────────┴────────────────┴───────────────┘"
      ]
     },
     "execution_count": 3,
     "metadata": {},
     "output_type": "execute_result"
    }
   ],
   "source": [
    "pl.read_ndjson('../../../../data/SampleHDS.json')"
   ]
  },
  {
   "attachments": {},
   "cell_type": "markdown",
   "metadata": {},
   "source": [
    "As you can see, this dataset consists of regular predictors, IH predictors, context keys and the outcome column. Additionally, some columns are numeric, others are strings. Let's first initialize the DataAnonymization class."
   ]
  },
  {
   "cell_type": "code",
   "execution_count": 4,
   "metadata": {
    "execution": {
     "iopub.execute_input": "2023-06-30T14:51:18.998013Z",
     "iopub.status.busy": "2023-06-30T14:51:18.997721Z",
     "iopub.status.idle": "2023-06-30T14:51:19.005787Z",
     "shell.execute_reply": "2023-06-30T14:51:19.005285Z"
    }
   },
   "outputs": [],
   "source": [
    "anon = DataAnonymization(hds_folder='../../../../data/')"
   ]
  },
  {
   "attachments": {},
   "cell_type": "markdown",
   "metadata": {},
   "source": [
    "By default, the class applies a set of anonymisation techniques:\n",
    "- Column names are remapped to a non-descriptive name\n",
    "- Categorical values are hashed with a random seed\n",
    "- Numerical values are normalized between 0 and 1\n",
    "- Outcomes are mapped to a binary outcome.\n",
    "\n",
    "To apply these techniques, simply call `.process()`:"
   ]
  },
  {
   "cell_type": "code",
   "execution_count": 5,
   "metadata": {
    "execution": {
     "iopub.execute_input": "2023-06-30T14:51:19.007940Z",
     "iopub.status.busy": "2023-06-30T14:51:19.007751Z",
     "iopub.status.idle": "2023-06-30T14:51:19.014440Z",
     "shell.execute_reply": "2023-06-30T14:51:19.013896Z"
    }
   },
   "outputs": [
    {
     "data": {
      "text/html": [
       "<div><style>\n",
       ".dataframe > thead > tr > th,\n",
       ".dataframe > tbody > tr > td {\n",
       "  text-align: right;\n",
       "}\n",
       "</style>\n",
       "<small>shape: (7, 7)</small><table border=\"1\" class=\"dataframe\"><thead><tr><th>PREDICTOR_0</th><th>PREDICTOR_1</th><th>filename</th><th>PREDICTOR_3</th><th>Context_Name</th><th>IH_PREDICTOR_0</th><th>Decision_Outcome</th></tr><tr><td>str</td><td>str</td><td>str</td><td>f64</td><td>str</td><td>str</td><td>bool</td></tr></thead><tbody><tr><td>&quot;92748107410054…</td><td>&quot;94590171303765…</td><td>&quot;../../../../da…</td><td>1.2927e19</td><td>&quot;64921396585480…</td><td>&quot;13459012231088…</td><td>false</td></tr><tr><td>&quot;12240071396895…</td><td>&quot;15940073280510…</td><td>&quot;../../../../da…</td><td>1.4856e19</td><td>&quot;64921396585480…</td><td>&quot;23881597874743…</td><td>true</td></tr><tr><td>&quot;54044488605809…</td><td>&quot;11356969929084…</td><td>&quot;../../../../da…</td><td>5.6458e17</td><td>&quot;14108307185083…</td><td>&quot;13459012231088…</td><td>false</td></tr><tr><td>&quot;12240071396895…</td><td>&quot;61405775338278…</td><td>&quot;../../../../da…</td><td>4.0723e18</td><td>&quot;37724848704482…</td><td>&quot;13459012231088…</td><td>false</td></tr><tr><td>&quot;92748107410054…</td><td>&quot;10871801798780…</td><td>&quot;../../../../da…</td><td>1.4677e19</td><td>&quot;37724848704482…</td><td>&quot;13908182357323…</td><td>true</td></tr><tr><td>&quot;54044488605809…</td><td>&quot;17175497221760…</td><td>&quot;../../../../da…</td><td>1.6330e19</td><td>&quot;58309060134148…</td><td>null</td><td>false</td></tr><tr><td>&quot;54044488605809…</td><td>&quot;10201055502669…</td><td>&quot;../../../../da…</td><td>8.7675e18</td><td>&quot;37724848704482…</td><td>&quot;13908182357323…</td><td>false</td></tr></tbody></table></div>"
      ],
      "text/plain": [
       "shape: (7, 7)\n",
       "┌───────────────┬──────────────┬──────────────┬─────────────┬────────────┬────────────┬────────────┐\n",
       "│ PREDICTOR_0   ┆ PREDICTOR_1  ┆ filename     ┆ PREDICTOR_3 ┆ Context_Na ┆ IH_PREDICT ┆ Decision_O │\n",
       "│ ---           ┆ ---          ┆ ---          ┆ ---         ┆ me         ┆ OR_0       ┆ utcome     │\n",
       "│ str           ┆ str          ┆ str          ┆ f64         ┆ ---        ┆ ---        ┆ ---        │\n",
       "│               ┆              ┆              ┆             ┆ str        ┆ str        ┆ bool       │\n",
       "╞═══════════════╪══════════════╪══════════════╪═════════════╪════════════╪════════════╪════════════╡\n",
       "│ 9274810741005 ┆ 945901713037 ┆ ../../../../ ┆ 1.2927e19   ┆ 6492139658 ┆ 1345901223 ┆ false      │\n",
       "│ 492972        ┆ 6584022      ┆ data/SampleH ┆             ┆ 548033340  ┆ 1088407699 ┆            │\n",
       "│               ┆              ┆ DS.json      ┆             ┆            ┆            ┆            │\n",
       "│ 1224007139689 ┆ 159400732805 ┆ ../../../../ ┆ 1.4856e19   ┆ 6492139658 ┆ 2388159787 ┆ true       │\n",
       "│ 5904608       ┆ 10112555     ┆ data/SampleH ┆             ┆ 548033340  ┆ 474347674  ┆            │\n",
       "│               ┆              ┆ DS.json      ┆             ┆            ┆            ┆            │\n",
       "│ 5404448860580 ┆ 113569699290 ┆ ../../../../ ┆ 5.6458e17   ┆ 1410830718 ┆ 1345901223 ┆ false      │\n",
       "│ 989265        ┆ 84785520     ┆ data/SampleH ┆             ┆ 5083023818 ┆ 1088407699 ┆            │\n",
       "│               ┆              ┆ DS.json      ┆             ┆            ┆            ┆            │\n",
       "│ 1224007139689 ┆ 614057753382 ┆ ../../../../ ┆ 4.0723e18   ┆ 3772484870 ┆ 1345901223 ┆ false      │\n",
       "│ 5904608       ┆ 7802762      ┆ data/SampleH ┆             ┆ 448202067  ┆ 1088407699 ┆            │\n",
       "│               ┆              ┆ DS.json      ┆             ┆            ┆            ┆            │\n",
       "│ 9274810741005 ┆ 108718017987 ┆ ../../../../ ┆ 1.4677e19   ┆ 3772484870 ┆ 1390818235 ┆ true       │\n",
       "│ 492972        ┆ 80249390     ┆ data/SampleH ┆             ┆ 448202067  ┆ 7323036582 ┆            │\n",
       "│               ┆              ┆ DS.json      ┆             ┆            ┆            ┆            │\n",
       "│ 5404448860580 ┆ 171754972217 ┆ ../../../../ ┆ 1.6330e19   ┆ 5830906013 ┆ null       ┆ false      │\n",
       "│ 989265        ┆ 60889018     ┆ data/SampleH ┆             ┆ 414816172  ┆            ┆            │\n",
       "│               ┆              ┆ DS.json      ┆             ┆            ┆            ┆            │\n",
       "│ 5404448860580 ┆ 102010555026 ┆ ../../../../ ┆ 8.7675e18   ┆ 3772484870 ┆ 1390818235 ┆ false      │\n",
       "│ 989265        ┆ 69115928     ┆ data/SampleH ┆             ┆ 448202067  ┆ 7323036582 ┆            │\n",
       "│               ┆              ┆ DS.json      ┆             ┆            ┆            ┆            │\n",
       "└───────────────┴──────────────┴──────────────┴─────────────┴────────────┴────────────┴────────────┘"
      ]
     },
     "execution_count": 5,
     "metadata": {},
     "output_type": "execute_result"
    }
   ],
   "source": [
    "anon.process()"
   ]
  },
  {
   "attachments": {},
   "cell_type": "markdown",
   "metadata": {},
   "source": [
    "To trace back the columns to their original names, the class also contains a mapping, which does not have to be provided."
   ]
  },
  {
   "cell_type": "code",
   "execution_count": 6,
   "metadata": {
    "execution": {
     "iopub.execute_input": "2023-06-30T14:51:19.016614Z",
     "iopub.status.busy": "2023-06-30T14:51:19.016435Z",
     "iopub.status.idle": "2023-06-30T14:51:19.020181Z",
     "shell.execute_reply": "2023-06-30T14:51:19.019670Z"
    }
   },
   "outputs": [
    {
     "data": {
      "text/plain": [
       "{'Customer_MaritalStatus': 'PREDICTOR_0',\n",
       " 'Customer_City': 'PREDICTOR_1',\n",
       " 'filename': 'filename',\n",
       " 'Customer_CLV': 'PREDICTOR_3',\n",
       " 'Context_Name': 'Context_Name',\n",
       " 'IH_Web_Inbound_Accepted_pxLastGroupID': 'IH_PREDICTOR_0',\n",
       " 'Decision_Outcome': 'Decision_Outcome'}"
      ]
     },
     "execution_count": 6,
     "metadata": {},
     "output_type": "execute_result"
    }
   ],
   "source": [
    "anon.column_mapping"
   ]
  },
  {
   "attachments": {},
   "cell_type": "markdown",
   "metadata": {},
   "source": [
    "## Configs\n",
    "\n",
    "Each capability can optionally be turned off - see below for the full list of config options, and refer to the API reference for the full description."
   ]
  },
  {
   "cell_type": "code",
   "execution_count": 7,
   "metadata": {
    "execution": {
     "iopub.execute_input": "2023-06-30T14:51:19.022788Z",
     "iopub.status.busy": "2023-06-30T14:51:19.022616Z",
     "iopub.status.idle": "2023-06-30T14:51:19.026838Z",
     "shell.execute_reply": "2023-06-30T14:51:19.026323Z"
    }
   },
   "outputs": [
    {
     "data": {
      "text/plain": [
       "{'config_file': None,\n",
       " 'hds_folder': '.',\n",
       " 'use_datamart': False,\n",
       " 'datamart_folder': 'datamart',\n",
       " 'output_format': 'ndjson',\n",
       " 'output_folder': 'output',\n",
       " 'mapping_file': 'mapping.map',\n",
       " 'mask_predictor_names': True,\n",
       " 'mask_context_key_names': False,\n",
       " 'mask_ih_names': True,\n",
       " 'mask_outcome_name': False,\n",
       " 'mask_predictor_values': True,\n",
       " 'mask_context_key_values': True,\n",
       " 'mask_ih_values': True,\n",
       " 'mask_outcome_values': True,\n",
       " 'context_key_label': 'Context_*',\n",
       " 'ih_label': 'IH_*',\n",
       " 'outcome_column': 'Decision_Outcome',\n",
       " 'positive_outcomes': ['Accepted', 'Clicked'],\n",
       " 'negative_outcomes': ['Rejected', 'Impression'],\n",
       " 'special_predictors': ['Decision_DecisionTime',\n",
       "  'Decision_OutcomeTime',\n",
       "  'Decision_Rank'],\n",
       " 'sample_percentage_schema_inferencing': 0.01}"
      ]
     },
     "execution_count": 7,
     "metadata": {},
     "output_type": "execute_result"
    }
   ],
   "source": [
    "dict(zip(Config.__init__.__code__.co_varnames[1:], Config.__init__.__defaults__))"
   ]
  },
  {
   "attachments": {},
   "cell_type": "markdown",
   "metadata": {},
   "source": [
    "It's easy to change these parameters by just passing the keyword arguments. In the following example, we\n",
    "- Keep the IH predictor names\n",
    "- Keep the outcome values\n",
    "- Keep the context key values\n",
    "- Keep the context key predictor names"
   ]
  },
  {
   "cell_type": "code",
   "execution_count": 8,
   "metadata": {
    "execution": {
     "iopub.execute_input": "2023-06-30T14:51:19.029364Z",
     "iopub.status.busy": "2023-06-30T14:51:19.029177Z",
     "iopub.status.idle": "2023-06-30T14:51:19.038866Z",
     "shell.execute_reply": "2023-06-30T14:51:19.038343Z"
    }
   },
   "outputs": [
    {
     "data": {
      "text/html": [
       "<div><style>\n",
       ".dataframe > thead > tr > th,\n",
       ".dataframe > tbody > tr > td {\n",
       "  text-align: right;\n",
       "}\n",
       "</style>\n",
       "<small>shape: (7, 7)</small><table border=\"1\" class=\"dataframe\"><thead><tr><th>PREDICTOR_0</th><th>PREDICTOR_1</th><th>filename</th><th>PREDICTOR_3</th><th>Context_Name</th><th>IH_Web_Inbound_Accepted_pxLastGroupID</th><th>Decision_Outcome</th></tr><tr><td>str</td><td>str</td><td>str</td><td>f64</td><td>str</td><td>str</td><td>str</td></tr></thead><tbody><tr><td>&quot;14854348474023…</td><td>&quot;42439939960301…</td><td>&quot;../../../../da…</td><td>1.2927e19</td><td>&quot;FirstMortgage3…</td><td>&quot;12984705266642…</td><td>&quot;Rejected&quot;</td></tr><tr><td>&quot;33200212055466…</td><td>&quot;15200946957389…</td><td>&quot;../../../../da…</td><td>1.4856e19</td><td>&quot;FirstMortgage3…</td><td>&quot;14626649609009…</td><td>&quot;Accepted&quot;</td></tr><tr><td>&quot;15226841170602…</td><td>&quot;18270202527890…</td><td>&quot;../../../../da…</td><td>5.6458e17</td><td>&quot;MoneyMarketSav…</td><td>&quot;12984705266642…</td><td>&quot;Rejected&quot;</td></tr><tr><td>&quot;33200212055466…</td><td>&quot;14861922818461…</td><td>&quot;../../../../da…</td><td>4.0723e18</td><td>&quot;BasicChecking&quot;</td><td>&quot;12984705266642…</td><td>&quot;Rejected&quot;</td></tr><tr><td>&quot;14854348474023…</td><td>&quot;23724012892267…</td><td>&quot;../../../../da…</td><td>1.4677e19</td><td>&quot;BasicChecking&quot;</td><td>&quot;74860309640906…</td><td>&quot;Accepted&quot;</td></tr><tr><td>&quot;15226841170602…</td><td>&quot;15045386378629…</td><td>&quot;../../../../da…</td><td>1.6330e19</td><td>&quot;UPlusFinPerson…</td><td>null</td><td>&quot;Rejected&quot;</td></tr><tr><td>&quot;15226841170602…</td><td>&quot;50537264394300…</td><td>&quot;../../../../da…</td><td>8.7675e18</td><td>&quot;BasicChecking&quot;</td><td>&quot;74860309640906…</td><td>&quot;Rejected&quot;</td></tr></tbody></table></div>"
      ],
      "text/plain": [
       "shape: (7, 7)\n",
       "┌───────────────┬──────────────┬──────────────┬─────────────┬────────────┬────────────┬────────────┐\n",
       "│ PREDICTOR_0   ┆ PREDICTOR_1  ┆ filename     ┆ PREDICTOR_3 ┆ Context_Na ┆ IH_Web_Inb ┆ Decision_O │\n",
       "│ ---           ┆ ---          ┆ ---          ┆ ---         ┆ me         ┆ ound_Accep ┆ utcome     │\n",
       "│ str           ┆ str          ┆ str          ┆ f64         ┆ ---        ┆ ted_pxLast ┆ ---        │\n",
       "│               ┆              ┆              ┆             ┆ str        ┆ Gr…        ┆ str        │\n",
       "│               ┆              ┆              ┆             ┆            ┆ ---        ┆            │\n",
       "│               ┆              ┆              ┆             ┆            ┆ str        ┆            │\n",
       "╞═══════════════╪══════════════╪══════════════╪═════════════╪════════════╪════════════╪════════════╡\n",
       "│ 1485434847402 ┆ 424399399603 ┆ ../../../../ ┆ 1.2927e19   ┆ FirstMortg ┆ 1298470526 ┆ Rejected   │\n",
       "│ 3206844       ┆ 0178863      ┆ data/SampleH ┆             ┆ age30yr    ┆ 6642378166 ┆            │\n",
       "│               ┆              ┆ DS.json      ┆             ┆            ┆            ┆            │\n",
       "│ 3320021205546 ┆ 152009469573 ┆ ../../../../ ┆ 1.4856e19   ┆ FirstMortg ┆ 1462664960 ┆ Accepted   │\n",
       "│ 629574        ┆ 89838860     ┆ data/SampleH ┆             ┆ age30yr    ┆ 9009084246 ┆            │\n",
       "│               ┆              ┆ DS.json      ┆             ┆            ┆            ┆            │\n",
       "│ 1522684117060 ┆ 182702025278 ┆ ../../../../ ┆ 5.6458e17   ┆ MoneyMarke ┆ 1298470526 ┆ Rejected   │\n",
       "│ 2567192       ┆ 9091336      ┆ data/SampleH ┆             ┆ tSavingsAc ┆ 6642378166 ┆            │\n",
       "│               ┆              ┆ DS.json      ┆             ┆ count      ┆            ┆            │\n",
       "│ 3320021205546 ┆ 148619228184 ┆ ../../../../ ┆ 4.0723e18   ┆ BasicCheck ┆ 1298470526 ┆ Rejected   │\n",
       "│ 629574        ┆ 61007317     ┆ data/SampleH ┆             ┆ ing        ┆ 6642378166 ┆            │\n",
       "│               ┆              ┆ DS.json      ┆             ┆            ┆            ┆            │\n",
       "│ 1485434847402 ┆ 237240128922 ┆ ../../../../ ┆ 1.4677e19   ┆ BasicCheck ┆ 7486030964 ┆ Accepted   │\n",
       "│ 3206844       ┆ 6778910      ┆ data/SampleH ┆             ┆ ing        ┆ 090697141  ┆            │\n",
       "│               ┆              ┆ DS.json      ┆             ┆            ┆            ┆            │\n",
       "│ 1522684117060 ┆ 150453863786 ┆ ../../../../ ┆ 1.6330e19   ┆ UPlusFinPe ┆ null       ┆ Rejected   │\n",
       "│ 2567192       ┆ 29939458     ┆ data/SampleH ┆             ┆ rsonal     ┆            ┆            │\n",
       "│               ┆              ┆ DS.json      ┆             ┆            ┆            ┆            │\n",
       "│ 1522684117060 ┆ 505372643943 ┆ ../../../../ ┆ 8.7675e18   ┆ BasicCheck ┆ 7486030964 ┆ Rejected   │\n",
       "│ 2567192       ┆ 0078739      ┆ data/SampleH ┆             ┆ ing        ┆ 090697141  ┆            │\n",
       "│               ┆              ┆ DS.json      ┆             ┆            ┆            ┆            │\n",
       "└───────────────┴──────────────┴──────────────┴─────────────┴────────────┴────────────┴────────────┘"
      ]
     },
     "execution_count": 8,
     "metadata": {},
     "output_type": "execute_result"
    }
   ],
   "source": [
    "anon = DataAnonymization(\n",
    "    hds_folder='../../../../data/',\n",
    "    mask_ih_names=False,\n",
    "    mask_outcome_values=False,\n",
    "    mask_context_key_values=False,\n",
    "    mask_context_key_names=False,\n",
    ")\n",
    "anon.process()\n"
   ]
  },
  {
   "attachments": {},
   "cell_type": "markdown",
   "metadata": {},
   "source": [
    "The configs can also be written and read as such:"
   ]
  },
  {
   "cell_type": "code",
   "execution_count": 9,
   "metadata": {
    "execution": {
     "iopub.execute_input": "2023-06-30T14:51:19.041069Z",
     "iopub.status.busy": "2023-06-30T14:51:19.040883Z",
     "iopub.status.idle": "2023-06-30T14:51:19.043738Z",
     "shell.execute_reply": "2023-06-30T14:51:19.043222Z"
    }
   },
   "outputs": [],
   "source": [
    "anon.config.save_to_config_file('config.json')"
   ]
  },
  {
   "cell_type": "code",
   "execution_count": 10,
   "metadata": {
    "execution": {
     "iopub.execute_input": "2023-06-30T14:51:19.045705Z",
     "iopub.status.busy": "2023-06-30T14:51:19.045528Z",
     "iopub.status.idle": "2023-06-30T14:51:19.054972Z",
     "shell.execute_reply": "2023-06-30T14:51:19.054429Z"
    }
   },
   "outputs": [
    {
     "data": {
      "text/html": [
       "<div><style>\n",
       ".dataframe > thead > tr > th,\n",
       ".dataframe > tbody > tr > td {\n",
       "  text-align: right;\n",
       "}\n",
       "</style>\n",
       "<small>shape: (7, 7)</small><table border=\"1\" class=\"dataframe\"><thead><tr><th>PREDICTOR_0</th><th>PREDICTOR_1</th><th>filename</th><th>PREDICTOR_3</th><th>Context_Name</th><th>IH_Web_Inbound_Accepted_pxLastGroupID</th><th>Decision_Outcome</th></tr><tr><td>str</td><td>str</td><td>str</td><td>f64</td><td>str</td><td>str</td><td>str</td></tr></thead><tbody><tr><td>&quot;16010181789338…</td><td>&quot;15980494866973…</td><td>&quot;../../../../da…</td><td>1.2927e19</td><td>&quot;FirstMortgage3…</td><td>&quot;98716385469007…</td><td>&quot;Rejected&quot;</td></tr><tr><td>&quot;21203228628141…</td><td>&quot;11173200428656…</td><td>&quot;../../../../da…</td><td>1.4856e19</td><td>&quot;FirstMortgage3…</td><td>&quot;10933737634131…</td><td>&quot;Accepted&quot;</td></tr><tr><td>&quot;31829390812929…</td><td>&quot;78070414630229…</td><td>&quot;../../../../da…</td><td>5.6458e17</td><td>&quot;MoneyMarketSav…</td><td>&quot;98716385469007…</td><td>&quot;Rejected&quot;</td></tr><tr><td>&quot;21203228628141…</td><td>&quot;13532799217763…</td><td>&quot;../../../../da…</td><td>4.0723e18</td><td>&quot;BasicChecking&quot;</td><td>&quot;98716385469007…</td><td>&quot;Rejected&quot;</td></tr><tr><td>&quot;16010181789338…</td><td>&quot;10378725973445…</td><td>&quot;../../../../da…</td><td>1.4677e19</td><td>&quot;BasicChecking&quot;</td><td>&quot;84363566523951…</td><td>&quot;Accepted&quot;</td></tr><tr><td>&quot;31829390812929…</td><td>&quot;13755189067750…</td><td>&quot;../../../../da…</td><td>1.6330e19</td><td>&quot;UPlusFinPerson…</td><td>null</td><td>&quot;Rejected&quot;</td></tr><tr><td>&quot;31829390812929…</td><td>&quot;18154363833382…</td><td>&quot;../../../../da…</td><td>8.7675e18</td><td>&quot;BasicChecking&quot;</td><td>&quot;84363566523951…</td><td>&quot;Rejected&quot;</td></tr></tbody></table></div>"
      ],
      "text/plain": [
       "shape: (7, 7)\n",
       "┌───────────────┬──────────────┬──────────────┬─────────────┬────────────┬────────────┬────────────┐\n",
       "│ PREDICTOR_0   ┆ PREDICTOR_1  ┆ filename     ┆ PREDICTOR_3 ┆ Context_Na ┆ IH_Web_Inb ┆ Decision_O │\n",
       "│ ---           ┆ ---          ┆ ---          ┆ ---         ┆ me         ┆ ound_Accep ┆ utcome     │\n",
       "│ str           ┆ str          ┆ str          ┆ f64         ┆ ---        ┆ ted_pxLast ┆ ---        │\n",
       "│               ┆              ┆              ┆             ┆ str        ┆ Gr…        ┆ str        │\n",
       "│               ┆              ┆              ┆             ┆            ┆ ---        ┆            │\n",
       "│               ┆              ┆              ┆             ┆            ┆ str        ┆            │\n",
       "╞═══════════════╪══════════════╪══════════════╪═════════════╪════════════╪════════════╪════════════╡\n",
       "│ 1601018178933 ┆ 159804948669 ┆ ../../../../ ┆ 1.2927e19   ┆ FirstMortg ┆ 9871638546 ┆ Rejected   │\n",
       "│ 8104213       ┆ 73595627     ┆ data/SampleH ┆             ┆ age30yr    ┆ 900725295  ┆            │\n",
       "│               ┆              ┆ DS.json      ┆             ┆            ┆            ┆            │\n",
       "│ 2120322862814 ┆ 111732004286 ┆ ../../../../ ┆ 1.4856e19   ┆ FirstMortg ┆ 1093373763 ┆ Accepted   │\n",
       "│ 189786        ┆ 56057029     ┆ data/SampleH ┆             ┆ age30yr    ┆ 4131984106 ┆            │\n",
       "│               ┆              ┆ DS.json      ┆             ┆            ┆            ┆            │\n",
       "│ 3182939081292 ┆ 780704146302 ┆ ../../../../ ┆ 5.6458e17   ┆ MoneyMarke ┆ 9871638546 ┆ Rejected   │\n",
       "│ 973461        ┆ 293648       ┆ data/SampleH ┆             ┆ tSavingsAc ┆ 900725295  ┆            │\n",
       "│               ┆              ┆ DS.json      ┆             ┆ count      ┆            ┆            │\n",
       "│ 2120322862814 ┆ 135327992177 ┆ ../../../../ ┆ 4.0723e18   ┆ BasicCheck ┆ 9871638546 ┆ Rejected   │\n",
       "│ 189786        ┆ 63522233     ┆ data/SampleH ┆             ┆ ing        ┆ 900725295  ┆            │\n",
       "│               ┆              ┆ DS.json      ┆             ┆            ┆            ┆            │\n",
       "│ 1601018178933 ┆ 103787259734 ┆ ../../../../ ┆ 1.4677e19   ┆ BasicCheck ┆ 8436356652 ┆ Accepted   │\n",
       "│ 8104213       ┆ 45695509     ┆ data/SampleH ┆             ┆ ing        ┆ 39518126   ┆            │\n",
       "│               ┆              ┆ DS.json      ┆             ┆            ┆            ┆            │\n",
       "│ 3182939081292 ┆ 137551890677 ┆ ../../../../ ┆ 1.6330e19   ┆ UPlusFinPe ┆ null       ┆ Rejected   │\n",
       "│ 973461        ┆ 50090537     ┆ data/SampleH ┆             ┆ rsonal     ┆            ┆            │\n",
       "│               ┆              ┆ DS.json      ┆             ┆            ┆            ┆            │\n",
       "│ 3182939081292 ┆ 181543638333 ┆ ../../../../ ┆ 8.7675e18   ┆ BasicCheck ┆ 8436356652 ┆ Rejected   │\n",
       "│ 973461        ┆ 82189512     ┆ data/SampleH ┆             ┆ ing        ┆ 39518126   ┆            │\n",
       "│               ┆              ┆ DS.json      ┆             ┆            ┆            ┆            │\n",
       "└───────────────┴──────────────┴──────────────┴─────────────┴────────────┴────────────┴────────────┘"
      ]
     },
     "execution_count": 10,
     "metadata": {},
     "output_type": "execute_result"
    }
   ],
   "source": [
    "anon = DataAnonymization(config=Config(config_file='config.json'))\n",
    "anon.process()"
   ]
  },
  {
   "attachments": {},
   "cell_type": "markdown",
   "metadata": {},
   "source": [
    "## Exporting\n",
    "Two functions export:\n",
    "- `create_mapping_file()` writes the mapping file of the predictor names\n",
    "- `write_to_output()` writes the processed dataframe to disk\n",
    "\n",
    "Write to output accepts the following extensions: `[\"ndjson\", \"parquet\", \"arrow\", \"csv\"]`"
   ]
  },
  {
   "cell_type": "code",
   "execution_count": 11,
   "metadata": {
    "execution": {
     "iopub.execute_input": "2023-06-30T14:51:19.057039Z",
     "iopub.status.busy": "2023-06-30T14:51:19.056855Z",
     "iopub.status.idle": "2023-06-30T14:51:19.060459Z",
     "shell.execute_reply": "2023-06-30T14:51:19.059903Z"
    }
   },
   "outputs": [
    {
     "name": "stdout",
     "output_type": "stream",
     "text": [
      "Customer_MaritalStatus=PREDICTOR_0\n",
      "Customer_City=PREDICTOR_1\n",
      "filename=filename\n",
      "Customer_CLV=PREDICTOR_3\n",
      "Context_Name=Context_Name\n",
      "IH_Web_Inbound_Accepted_pxLastGroupID=IH_Web_Inbound_Accepted_pxLastGroupID\n",
      "Decision_Outcome=Decision_Outcome\n",
      "\n"
     ]
    }
   ],
   "source": [
    "anon.create_mapping_file()\n",
    "with open('mapping.map') as f:\n",
    "    print(f.read())"
   ]
  },
  {
   "cell_type": "code",
   "execution_count": 12,
   "metadata": {
    "execution": {
     "iopub.execute_input": "2023-06-30T14:51:19.062781Z",
     "iopub.status.busy": "2023-06-30T14:51:19.062598Z",
     "iopub.status.idle": "2023-06-30T14:51:19.066053Z",
     "shell.execute_reply": "2023-06-30T14:51:19.065535Z"
    }
   },
   "outputs": [],
   "source": [
    "anon.write_to_output(ext='arrow')"
   ]
  },
  {
   "cell_type": "code",
   "execution_count": 13,
   "metadata": {
    "execution": {
     "iopub.execute_input": "2023-06-30T14:51:19.068102Z",
     "iopub.status.busy": "2023-06-30T14:51:19.067922Z",
     "iopub.status.idle": "2023-06-30T14:51:19.072677Z",
     "shell.execute_reply": "2023-06-30T14:51:19.072161Z"
    }
   },
   "outputs": [
    {
     "data": {
      "text/html": [
       "<div><style>\n",
       ".dataframe > thead > tr > th,\n",
       ".dataframe > tbody > tr > td {\n",
       "  text-align: right;\n",
       "}\n",
       "</style>\n",
       "<small>shape: (7, 6)</small><table border=\"1\" class=\"dataframe\"><thead><tr><th>PREDICTOR_0</th><th>PREDICTOR_1</th><th>PREDICTOR_3</th><th>Context_Name</th><th>IH_Web_Inbound_Accepted_pxLastGroupID</th><th>Decision_Outcome</th></tr><tr><td>str</td><td>str</td><td>f64</td><td>str</td><td>str</td><td>str</td></tr></thead><tbody><tr><td>&quot;89240288844783…</td><td>&quot;18124380068880…</td><td>1.2927e19</td><td>&quot;FirstMortgage3…</td><td>&quot;15186244409906…</td><td>&quot;Rejected&quot;</td></tr><tr><td>&quot;15779032907596…</td><td>&quot;33418541079894…</td><td>1.4856e19</td><td>&quot;FirstMortgage3…</td><td>&quot;68400999137430…</td><td>&quot;Accepted&quot;</td></tr><tr><td>&quot;13054104807543…</td><td>&quot;63115134587122…</td><td>5.6458e17</td><td>&quot;MoneyMarketSav…</td><td>&quot;15186244409906…</td><td>&quot;Rejected&quot;</td></tr><tr><td>&quot;15779032907596…</td><td>&quot;90314686753266…</td><td>4.0723e18</td><td>&quot;BasicChecking&quot;</td><td>&quot;15186244409906…</td><td>&quot;Rejected&quot;</td></tr><tr><td>&quot;89240288844783…</td><td>&quot;97036858209217…</td><td>1.4677e19</td><td>&quot;BasicChecking&quot;</td><td>&quot;14884446698381…</td><td>&quot;Accepted&quot;</td></tr><tr><td>&quot;13054104807543…</td><td>&quot;28722924242918…</td><td>1.6330e19</td><td>&quot;UPlusFinPerson…</td><td>null</td><td>&quot;Rejected&quot;</td></tr><tr><td>&quot;13054104807543…</td><td>&quot;26566094159259…</td><td>8.7675e18</td><td>&quot;BasicChecking&quot;</td><td>&quot;14884446698381…</td><td>&quot;Rejected&quot;</td></tr></tbody></table></div>"
      ],
      "text/plain": [
       "shape: (7, 6)\n",
       "┌────────────────┬────────────────┬─────────────┬────────────────┬────────────────┬────────────────┐\n",
       "│ PREDICTOR_0    ┆ PREDICTOR_1    ┆ PREDICTOR_3 ┆ Context_Name   ┆ IH_Web_Inbound ┆ Decision_Outco │\n",
       "│ ---            ┆ ---            ┆ ---         ┆ ---            ┆ _Accepted_pxLa ┆ me             │\n",
       "│ str            ┆ str            ┆ f64         ┆ str            ┆ stGr…          ┆ ---            │\n",
       "│                ┆                ┆             ┆                ┆ ---            ┆ str            │\n",
       "│                ┆                ┆             ┆                ┆ str            ┆                │\n",
       "╞════════════════╪════════════════╪═════════════╪════════════════╪════════════════╪════════════════╡\n",
       "│ 89240288844783 ┆ 18124380068880 ┆ 1.2927e19   ┆ FirstMortgage3 ┆ 15186244409906 ┆ Rejected       │\n",
       "│ 5770           ┆ 731145         ┆             ┆ 0yr            ┆ 744131         ┆                │\n",
       "│ 15779032907596 ┆ 33418541079894 ┆ 1.4856e19   ┆ FirstMortgage3 ┆ 68400999137430 ┆ Accepted       │\n",
       "│ 155293         ┆ 3682           ┆             ┆ 0yr            ┆ 06298          ┆                │\n",
       "│ 13054104807543 ┆ 63115134587122 ┆ 5.6458e17   ┆ MoneyMarketSav ┆ 15186244409906 ┆ Rejected       │\n",
       "│ 373364         ┆ 43219          ┆             ┆ ingsAccount    ┆ 744131         ┆                │\n",
       "│ 15779032907596 ┆ 90314686753266 ┆ 4.0723e18   ┆ BasicChecking  ┆ 15186244409906 ┆ Rejected       │\n",
       "│ 155293         ┆ 49950          ┆             ┆                ┆ 744131         ┆                │\n",
       "│ 89240288844783 ┆ 97036858209217 ┆ 1.4677e19   ┆ BasicChecking  ┆ 14884446698381 ┆ Accepted       │\n",
       "│ 5770           ┆ 55758          ┆             ┆                ┆ 895198         ┆                │\n",
       "│ 13054104807543 ┆ 28722924242918 ┆ 1.6330e19   ┆ UPlusFinPerson ┆ null           ┆ Rejected       │\n",
       "│ 373364         ┆ 63939          ┆             ┆ al             ┆                ┆                │\n",
       "│ 13054104807543 ┆ 26566094159259 ┆ 8.7675e18   ┆ BasicChecking  ┆ 14884446698381 ┆ Rejected       │\n",
       "│ 373364         ┆ 19974          ┆             ┆                ┆ 895198         ┆                │\n",
       "└────────────────┴────────────────┴─────────────┴────────────────┴────────────────┴────────────────┘"
      ]
     },
     "execution_count": 13,
     "metadata": {},
     "output_type": "execute_result"
    }
   ],
   "source": [
    "pl.read_ipc('output/hds.arrow')"
   ]
  },
  {
   "attachments": {},
   "cell_type": "markdown",
   "metadata": {},
   "source": [
    "## Advanced: Hash fuctions\n",
    "\n",
    "By default, we use [the same hashing algorithm Polars](https://pola-rs.github.io/polars/py-polars/html/reference/expressions/api/polars.Expr.hash.html#polars.Expr.hash) uses: [xxhash](https://github.com/Cyan4973/xxHash), as implemented [here](https://github.com/pola-rs/polars/blob/3f287f370b3c388ed2f3f218b2c096382548136f/polars/polars-core/src/vector_hasher.rs#L266). xxhash is fast to compute, and you can check its performance in collision, dispersion and randomness [here](https://github.com/Cyan4973/xxHash/tree/dev/tests). \n",
    "\n",
    "xxhash accepts four distinct seeds, but by default we set the seeds to `0`. It is possible to set the `seed` argument of the `process()` function to `'random'`, which will set all four seeds to a random integer between `0` and `1000000000`. Alternatively, it is possible to supply the four seeds manually with arguments `seed`, `seed_1`, `seed_2` and `seed_3`. \n",
    "\n",
    "If the xxhash with (random) seed(s) is not deemed sufficiently secure, it is possible to use your own hashing algorithm.\n",
    "\n",
    "Note that since we're now running python code and not native Polars code anymore, this will be _significantly_ slower. Nonetheless, it is possible.\n",
    "\n",
    "Just as an example - this is how one would use sha3_256:"
   ]
  },
  {
   "cell_type": "code",
   "execution_count": 14,
   "metadata": {
    "execution": {
     "iopub.execute_input": "2023-06-30T14:51:19.075148Z",
     "iopub.status.busy": "2023-06-30T14:51:19.074956Z",
     "iopub.status.idle": "2023-06-30T14:51:19.410561Z",
     "shell.execute_reply": "2023-06-30T14:51:19.409939Z"
    }
   },
   "outputs": [
    {
     "ename": "ComputeError",
     "evalue": "AttributeError: 'int' object has no attribute 'encode'",
     "output_type": "error",
     "traceback": [
      "\u001b[0;31m---------------------------------------------------------------------------\u001b[0m",
      "\u001b[0;31mComputeError\u001b[0m                              Traceback (most recent call last)",
      "Cell \u001b[0;32mIn[14], line 3\u001b[0m\n\u001b[1;32m      1\u001b[0m \u001b[38;5;28;01mfrom\u001b[39;00m \u001b[38;5;21;01mhashlib\u001b[39;00m \u001b[38;5;28;01mimport\u001b[39;00m sha3_256\n\u001b[0;32m----> 3\u001b[0m \u001b[43manon\u001b[49m\u001b[38;5;241;43m.\u001b[39;49m\u001b[43mprocess\u001b[49m\u001b[43m(\u001b[49m\u001b[43malgorithm\u001b[49m\u001b[38;5;241;43m=\u001b[39;49m\u001b[38;5;28;43;01mlambda\u001b[39;49;00m\u001b[43m \u001b[49m\u001b[43mx\u001b[49m\u001b[43m:\u001b[49m\u001b[43m \u001b[49m\u001b[43msha3_256\u001b[49m\u001b[43m(\u001b[49m\u001b[43mx\u001b[49m\u001b[38;5;241;43m.\u001b[39;49m\u001b[43mencode\u001b[49m\u001b[43m(\u001b[49m\u001b[43m)\u001b[49m\u001b[43m)\u001b[49m\u001b[38;5;241;43m.\u001b[39;49m\u001b[43mhexdigest\u001b[49m\u001b[43m(\u001b[49m\u001b[43m)\u001b[49m\u001b[43m)\u001b[49m\n",
      "File \u001b[0;32m~/work/pega-datascientist-tools/pega-datascientist-tools/python/docs/source/articles/../../../pdstools/utils/hds_utils.py:516\u001b[0m, in \u001b[0;36mDataAnonymization.process\u001b[0;34m(self, strategy, **kwargs)\u001b[0m\n\u001b[1;32m    514\u001b[0m df \u001b[38;5;241m=\u001b[39m df\u001b[38;5;241m.\u001b[39mselect(\u001b[38;5;28mself\u001b[39m\u001b[38;5;241m.\u001b[39mcolumn_mapping\u001b[38;5;241m.\u001b[39mkeys())\u001b[38;5;241m.\u001b[39mrename(\u001b[38;5;28mself\u001b[39m\u001b[38;5;241m.\u001b[39mcolumn_mapping)\n\u001b[1;32m    515\u001b[0m \u001b[38;5;28;01mif\u001b[39;00m strategy \u001b[38;5;241m==\u001b[39m \u001b[38;5;124m\"\u001b[39m\u001b[38;5;124meager\u001b[39m\u001b[38;5;124m\"\u001b[39m:\n\u001b[0;32m--> 516\u001b[0m     \u001b[38;5;28;01mreturn\u001b[39;00m \u001b[43mdf\u001b[49m\u001b[38;5;241;43m.\u001b[39;49m\u001b[43mcollect\u001b[49m\u001b[43m(\u001b[49m\u001b[43m)\u001b[49m\n\u001b[1;32m    517\u001b[0m \u001b[38;5;28;01mreturn\u001b[39;00m df\n",
      "File \u001b[0;32m/opt/hostedtoolcache/Python/3.11.4/x64/lib/python3.11/site-packages/polars/lazyframe/frame.py:1512\u001b[0m, in \u001b[0;36mLazyFrame.collect\u001b[0;34m(self, type_coercion, predicate_pushdown, projection_pushdown, simplify_expression, no_optimization, slice_pushdown, common_subplan_elimination, streaming)\u001b[0m\n\u001b[1;32m   1501\u001b[0m     common_subplan_elimination \u001b[38;5;241m=\u001b[39m \u001b[38;5;28;01mFalse\u001b[39;00m\n\u001b[1;32m   1503\u001b[0m ldf \u001b[38;5;241m=\u001b[39m \u001b[38;5;28mself\u001b[39m\u001b[38;5;241m.\u001b[39m_ldf\u001b[38;5;241m.\u001b[39moptimization_toggle(\n\u001b[1;32m   1504\u001b[0m     type_coercion,\n\u001b[1;32m   1505\u001b[0m     predicate_pushdown,\n\u001b[0;32m   (...)\u001b[0m\n\u001b[1;32m   1510\u001b[0m     streaming,\n\u001b[1;32m   1511\u001b[0m )\n\u001b[0;32m-> 1512\u001b[0m \u001b[38;5;28;01mreturn\u001b[39;00m wrap_df(ldf\u001b[38;5;241m.\u001b[39mcollect())\n",
      "\u001b[0;31mComputeError\u001b[0m: AttributeError: 'int' object has no attribute 'encode'"
     ]
    }
   ],
   "source": [
    "from hashlib import sha3_256\n",
    "\n",
    "anon.process(algorithm=lambda x: sha3_256(x.encode()).hexdigest())"
   ]
  }
 ],
 "metadata": {
  "kernelspec": {
   "display_name": "Python 3",
   "language": "python",
   "name": "python3"
  },
  "language_info": {
   "codemirror_mode": {
    "name": "ipython",
    "version": 3
   },
   "file_extension": ".py",
   "mimetype": "text/x-python",
   "name": "python",
   "nbconvert_exporter": "python",
   "pygments_lexer": "ipython3",
   "version": "3.11.4"
  },
  "vscode": {
   "interpreter": {
    "hash": "aee8b7b246df8f9039afb4144a1f6fd8d2ca17a180786b69acc140d282b71a49"
   }
  }
 },
 "nbformat": 4,
 "nbformat_minor": 2
}
