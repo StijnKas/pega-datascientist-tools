{
 "cells": [
  {
   "attachments": {},
   "cell_type": "markdown",
   "metadata": {},
   "source": [
    "# Data Anonymization\n",
    "\n",
    "In Pega CDH 8.5 and up, it's now possible to record the historical data as seen by the Adaptive Models. See [this academy challenge](https://academy.pega.com/challenge/exporting-historical-data/v4) for reference. This historical data can be further used to experiment with offline models, but also to fine-tune the OOTB Gradient Boosting model. However, sharing this information with Pega can be sensitive as it contains raw predictor data. \n",
    "\n",
    "To this end, we provide a simple and transparent script to fully anonimize this dataset.\n",
    "\n",
    "The DataAnonymization script is now part of pdstools, and you can import it directly as such."
   ]
  },
  {
   "cell_type": "code",
   "execution_count": 1,
   "metadata": {
    "execution": {
     "iopub.execute_input": "2023-12-15T17:11:29.988787Z",
     "iopub.status.busy": "2023-12-15T17:11:29.988628Z",
     "iopub.status.idle": "2023-12-15T17:11:30.056354Z",
     "shell.execute_reply": "2023-12-15T17:11:30.055777Z"
    },
    "nbsphinx": "hidden"
   },
   "outputs": [],
   "source": [
    "# These lines are only for rendering in the docs, and are hidden through Jupyter tags\n",
    "# Do not run if you're running the notebook seperately\n",
    "\n",
    "import os  \n",
    "import sys\n",
    "import plotly.io as pio\n",
    "pio.renderers.default = \"notebook_connected\"\n",
    "\n",
    "sys.path.append(\"../../../\")\n",
    "sys.path.append('../../python')"
   ]
  },
  {
   "cell_type": "code",
   "execution_count": 2,
   "metadata": {
    "execution": {
     "iopub.execute_input": "2023-12-15T17:11:30.058319Z",
     "iopub.status.busy": "2023-12-15T17:11:30.058147Z",
     "iopub.status.idle": "2023-12-15T17:11:31.028596Z",
     "shell.execute_reply": "2023-12-15T17:11:31.027983Z"
    }
   },
   "outputs": [],
   "source": [
    "from pdstools import ADMDatamart\n",
    "from pdstools import Config, DataAnonymization\n",
    "import polars as pl"
   ]
  },
  {
   "attachments": {},
   "cell_type": "markdown",
   "metadata": {},
   "source": [
    "## Input data\n",
    "\n",
    "To demonstrate this process, we're going to anonymise this toy example dataframe:"
   ]
  },
  {
   "cell_type": "code",
   "execution_count": 3,
   "metadata": {
    "execution": {
     "iopub.execute_input": "2023-12-15T17:11:31.031246Z",
     "iopub.status.busy": "2023-12-15T17:11:31.030836Z",
     "iopub.status.idle": "2023-12-15T17:11:31.039266Z",
     "shell.execute_reply": "2023-12-15T17:11:31.038792Z"
    }
   },
   "outputs": [
    {
     "data": {
      "text/html": [
       "<div><style>\n",
       ".dataframe > thead > tr > th,\n",
       ".dataframe > tbody > tr > td {\n",
       "  text-align: right;\n",
       "  white-space: pre-wrap;\n",
       "}\n",
       "</style>\n",
       "<small>shape: (7, 6)</small><table border=\"1\" class=\"dataframe\"><thead><tr><th>Context_Name</th><th>Customer_MaritalStatus</th><th>Customer_CLV</th><th>Customer_City</th><th>IH_Web_Inbound_Accepted_pxLastGroupID</th><th>Decision_Outcome</th></tr><tr><td>str</td><td>str</td><td>i64</td><td>str</td><td>str</td><td>str</td></tr></thead><tbody><tr><td>&quot;FirstMortgage3…</td><td>&quot;Married&quot;</td><td>1460</td><td>&quot;Port Raoul&quot;</td><td>&quot;Account&quot;</td><td>&quot;Rejected&quot;</td></tr><tr><td>&quot;FirstMortgage3…</td><td>&quot;Unknown&quot;</td><td>669</td><td>&quot;Laurianneshire…</td><td>&quot;AutoLoans&quot;</td><td>&quot;Accepted&quot;</td></tr><tr><td>&quot;MoneyMarketSav…</td><td>&quot;No Resp+&quot;</td><td>1174</td><td>&quot;Jacobshaven&quot;</td><td>&quot;Account&quot;</td><td>&quot;Rejected&quot;</td></tr><tr><td>&quot;BasicChecking&quot;</td><td>&quot;Unknown&quot;</td><td>1476</td><td>&quot;Lindton&quot;</td><td>&quot;Account&quot;</td><td>&quot;Rejected&quot;</td></tr><tr><td>&quot;BasicChecking&quot;</td><td>&quot;Married&quot;</td><td>1211</td><td>&quot;South Jimmiesh…</td><td>&quot;DepositAccount…</td><td>&quot;Accepted&quot;</td></tr><tr><td>&quot;UPlusFinPerson…</td><td>&quot;No Resp+&quot;</td><td>533</td><td>&quot;Bergeville&quot;</td><td>null</td><td>&quot;Rejected&quot;</td></tr><tr><td>&quot;BasicChecking&quot;</td><td>&quot;No Resp+&quot;</td><td>555</td><td>&quot;Willyville&quot;</td><td>&quot;DepositAccount…</td><td>&quot;Rejected&quot;</td></tr></tbody></table></div>"
      ],
      "text/plain": [
       "shape: (7, 6)\n",
       "┌────────────────┬────────────────┬──────────────┬────────────────┬────────────────┬───────────────┐\n",
       "│ Context_Name   ┆ Customer_Marit ┆ Customer_CLV ┆ Customer_City  ┆ IH_Web_Inbound ┆ Decision_Outc │\n",
       "│ ---            ┆ alStatus       ┆ ---          ┆ ---            ┆ _Accepted_pxLa ┆ ome           │\n",
       "│ str            ┆ ---            ┆ i64          ┆ str            ┆ stGr…          ┆ ---           │\n",
       "│                ┆ str            ┆              ┆                ┆ ---            ┆ str           │\n",
       "│                ┆                ┆              ┆                ┆ str            ┆               │\n",
       "╞════════════════╪════════════════╪══════════════╪════════════════╪════════════════╪═══════════════╡\n",
       "│ FirstMortgage3 ┆ Married        ┆ 1460         ┆ Port Raoul     ┆ Account        ┆ Rejected      │\n",
       "│ 0yr            ┆                ┆              ┆                ┆                ┆               │\n",
       "│ FirstMortgage3 ┆ Unknown        ┆ 669          ┆ Laurianneshire ┆ AutoLoans      ┆ Accepted      │\n",
       "│ 0yr            ┆                ┆              ┆                ┆                ┆               │\n",
       "│ MoneyMarketSav ┆ No Resp+       ┆ 1174         ┆ Jacobshaven    ┆ Account        ┆ Rejected      │\n",
       "│ ingsAccount    ┆                ┆              ┆                ┆                ┆               │\n",
       "│ BasicChecking  ┆ Unknown        ┆ 1476         ┆ Lindton        ┆ Account        ┆ Rejected      │\n",
       "│ BasicChecking  ┆ Married        ┆ 1211         ┆ South          ┆ DepositAccount ┆ Accepted      │\n",
       "│                ┆                ┆              ┆ Jimmieshire    ┆ s              ┆               │\n",
       "│ UPlusFinPerson ┆ No Resp+       ┆ 533          ┆ Bergeville     ┆ null           ┆ Rejected      │\n",
       "│ al             ┆                ┆              ┆                ┆                ┆               │\n",
       "│ BasicChecking  ┆ No Resp+       ┆ 555          ┆ Willyville     ┆ DepositAccount ┆ Rejected      │\n",
       "│                ┆                ┆              ┆                ┆ s              ┆               │\n",
       "└────────────────┴────────────────┴──────────────┴────────────────┴────────────────┴───────────────┘"
      ]
     },
     "execution_count": 3,
     "metadata": {},
     "output_type": "execute_result"
    }
   ],
   "source": [
    "pl.read_ndjson('../../../../data/SampleHDS.json')"
   ]
  },
  {
   "attachments": {},
   "cell_type": "markdown",
   "metadata": {},
   "source": [
    "As you can see, this dataset consists of regular predictors, IH predictors, context keys and the outcome column. Additionally, some columns are numeric, others are strings. Let's first initialize the DataAnonymization class."
   ]
  },
  {
   "cell_type": "code",
   "execution_count": 4,
   "metadata": {
    "execution": {
     "iopub.execute_input": "2023-12-15T17:11:31.041405Z",
     "iopub.status.busy": "2023-12-15T17:11:31.041081Z",
     "iopub.status.idle": "2023-12-15T17:11:31.049746Z",
     "shell.execute_reply": "2023-12-15T17:11:31.049194Z"
    }
   },
   "outputs": [],
   "source": [
    "anon = DataAnonymization(hds_folder='../../../../data/')"
   ]
  },
  {
   "attachments": {},
   "cell_type": "markdown",
   "metadata": {},
   "source": [
    "By default, the class applies a set of anonymisation techniques:\n",
    "- Column names are remapped to a non-descriptive name\n",
    "- Categorical values are hashed with a random seed\n",
    "- Numerical values are normalized between 0 and 1\n",
    "- Outcomes are mapped to a binary outcome.\n",
    "\n",
    "To apply these techniques, simply call `.process()`:"
   ]
  },
  {
   "cell_type": "code",
   "execution_count": 5,
   "metadata": {
    "execution": {
     "iopub.execute_input": "2023-12-15T17:11:31.051816Z",
     "iopub.status.busy": "2023-12-15T17:11:31.051490Z",
     "iopub.status.idle": "2023-12-15T17:11:31.057312Z",
     "shell.execute_reply": "2023-12-15T17:11:31.056863Z"
    }
   },
   "outputs": [
    {
     "data": {
      "text/html": [
       "<div><style>\n",
       ".dataframe > thead > tr > th,\n",
       ".dataframe > tbody > tr > td {\n",
       "  text-align: right;\n",
       "  white-space: pre-wrap;\n",
       "}\n",
       "</style>\n",
       "<small>shape: (7, 7)</small><table border=\"1\" class=\"dataframe\"><thead><tr><th>PREDICTOR_0</th><th>filename</th><th>PREDICTOR_2</th><th>PREDICTOR_3</th><th>Context_Name</th><th>IH_PREDICTOR_0</th><th>Decision_Outcome</th></tr><tr><td>str</td><td>str</td><td>str</td><td>f64</td><td>str</td><td>str</td><td>bool</td></tr></thead><tbody><tr><td>&quot;97953358878468…</td><td>&quot;../../../../da…</td><td>&quot;15306907386400…</td><td>1.2927e19</td><td>&quot;73063131062807…</td><td>&quot;12041664342669…</td><td>false</td></tr><tr><td>&quot;72129039474782…</td><td>&quot;../../../../da…</td><td>&quot;35025951945250…</td><td>1.4856e19</td><td>&quot;73063131062807…</td><td>&quot;75270469056872…</td><td>true</td></tr><tr><td>&quot;18388240598088…</td><td>&quot;../../../../da…</td><td>&quot;33689831625072…</td><td>5.6458e17</td><td>&quot;75786297548846…</td><td>&quot;12041664342669…</td><td>false</td></tr><tr><td>&quot;68135673984751…</td><td>&quot;../../../../da…</td><td>&quot;35025951945250…</td><td>4.0723e18</td><td>&quot;13053240249232…</td><td>&quot;12041664342669…</td><td>false</td></tr><tr><td>&quot;47697503424586…</td><td>&quot;../../../../da…</td><td>&quot;15306907386400…</td><td>1.4677e19</td><td>&quot;13053240249232…</td><td>&quot;10690259351510…</td><td>true</td></tr><tr><td>&quot;94478656701119…</td><td>&quot;../../../../da…</td><td>&quot;33689831625072…</td><td>1.6330e19</td><td>&quot;43456233287197…</td><td>null</td><td>false</td></tr><tr><td>&quot;12021642079192…</td><td>&quot;../../../../da…</td><td>&quot;33689831625072…</td><td>8.7675e18</td><td>&quot;13053240249232…</td><td>&quot;10690259351510…</td><td>false</td></tr></tbody></table></div>"
      ],
      "text/plain": [
       "shape: (7, 7)\n",
       "┌──────────────┬─────────────┬─────────────┬─────────────┬─────────────┬─────────────┬─────────────┐\n",
       "│ PREDICTOR_0  ┆ filename    ┆ PREDICTOR_2 ┆ PREDICTOR_3 ┆ Context_Nam ┆ IH_PREDICTO ┆ Decision_Ou │\n",
       "│ ---          ┆ ---         ┆ ---         ┆ ---         ┆ e           ┆ R_0         ┆ tcome       │\n",
       "│ str          ┆ str         ┆ str         ┆ f64         ┆ ---         ┆ ---         ┆ ---         │\n",
       "│              ┆             ┆             ┆             ┆ str         ┆ str         ┆ bool        │\n",
       "╞══════════════╪═════════════╪═════════════╪═════════════╪═════════════╪═════════════╪═════════════╡\n",
       "│ 979533588784 ┆ ../../../.. ┆ 15306907386 ┆ 1.2927e19   ┆ 73063131062 ┆ 12041664342 ┆ false       │\n",
       "│ 6877333      ┆ /data/Sampl ┆ 400267422   ┆             ┆ 80737060    ┆ 669632469   ┆             │\n",
       "│              ┆ eHDS.json   ┆             ┆             ┆             ┆             ┆             │\n",
       "│ 721290394747 ┆ ../../../.. ┆ 35025951945 ┆ 1.4856e19   ┆ 73063131062 ┆ 75270469056 ┆ true        │\n",
       "│ 8219123      ┆ /data/Sampl ┆ 25002375    ┆             ┆ 80737060    ┆ 87276402    ┆             │\n",
       "│              ┆ eHDS.json   ┆             ┆             ┆             ┆             ┆             │\n",
       "│ 183882405980 ┆ ../../../.. ┆ 33689831625 ┆ 5.6458e17   ┆ 75786297548 ┆ 12041664342 ┆ false       │\n",
       "│ 88867772     ┆ /data/Sampl ┆ 07228053    ┆             ┆ 84673558    ┆ 669632469   ┆             │\n",
       "│              ┆ eHDS.json   ┆             ┆             ┆             ┆             ┆             │\n",
       "│ 681356739847 ┆ ../../../.. ┆ 35025951945 ┆ 4.0723e18   ┆ 13053240249 ┆ 12041664342 ┆ false       │\n",
       "│ 5100664      ┆ /data/Sampl ┆ 25002375    ┆             ┆ 232172609   ┆ 669632469   ┆             │\n",
       "│              ┆ eHDS.json   ┆             ┆             ┆             ┆             ┆             │\n",
       "│ 476975034245 ┆ ../../../.. ┆ 15306907386 ┆ 1.4677e19   ┆ 13053240249 ┆ 10690259351 ┆ true        │\n",
       "│ 8607122      ┆ /data/Sampl ┆ 400267422   ┆             ┆ 232172609   ┆ 510836732   ┆             │\n",
       "│              ┆ eHDS.json   ┆             ┆             ┆             ┆             ┆             │\n",
       "│ 944786567011 ┆ ../../../.. ┆ 33689831625 ┆ 1.6330e19   ┆ 43456233287 ┆ null        ┆ false       │\n",
       "│ 1915118      ┆ /data/Sampl ┆ 07228053    ┆             ┆ 19753539    ┆             ┆             │\n",
       "│              ┆ eHDS.json   ┆             ┆             ┆             ┆             ┆             │\n",
       "│ 120216420791 ┆ ../../../.. ┆ 33689831625 ┆ 8.7675e18   ┆ 13053240249 ┆ 10690259351 ┆ false       │\n",
       "│ 92282434     ┆ /data/Sampl ┆ 07228053    ┆             ┆ 232172609   ┆ 510836732   ┆             │\n",
       "│              ┆ eHDS.json   ┆             ┆             ┆             ┆             ┆             │\n",
       "└──────────────┴─────────────┴─────────────┴─────────────┴─────────────┴─────────────┴─────────────┘"
      ]
     },
     "execution_count": 5,
     "metadata": {},
     "output_type": "execute_result"
    }
   ],
   "source": [
    "anon.process()"
   ]
  },
  {
   "attachments": {},
   "cell_type": "markdown",
   "metadata": {},
   "source": [
    "To trace back the columns to their original names, the class also contains a mapping, which does not have to be provided."
   ]
  },
  {
   "cell_type": "code",
   "execution_count": 6,
   "metadata": {
    "execution": {
     "iopub.execute_input": "2023-12-15T17:11:31.059315Z",
     "iopub.status.busy": "2023-12-15T17:11:31.058991Z",
     "iopub.status.idle": "2023-12-15T17:11:31.062616Z",
     "shell.execute_reply": "2023-12-15T17:11:31.062054Z"
    }
   },
   "outputs": [
    {
     "data": {
      "text/plain": [
       "{'Customer_City': 'PREDICTOR_0',\n",
       " 'filename': 'filename',\n",
       " 'Customer_MaritalStatus': 'PREDICTOR_2',\n",
       " 'Customer_CLV': 'PREDICTOR_3',\n",
       " 'Context_Name': 'Context_Name',\n",
       " 'IH_Web_Inbound_Accepted_pxLastGroupID': 'IH_PREDICTOR_0',\n",
       " 'Decision_Outcome': 'Decision_Outcome'}"
      ]
     },
     "execution_count": 6,
     "metadata": {},
     "output_type": "execute_result"
    }
   ],
   "source": [
    "anon.column_mapping"
   ]
  },
  {
   "attachments": {},
   "cell_type": "markdown",
   "metadata": {},
   "source": [
    "## Configs\n",
    "\n",
    "Each capability can optionally be turned off - see below for the full list of config options, and refer to the API reference for the full description."
   ]
  },
  {
   "cell_type": "code",
   "execution_count": 7,
   "metadata": {
    "execution": {
     "iopub.execute_input": "2023-12-15T17:11:31.064677Z",
     "iopub.status.busy": "2023-12-15T17:11:31.064255Z",
     "iopub.status.idle": "2023-12-15T17:11:31.068319Z",
     "shell.execute_reply": "2023-12-15T17:11:31.067906Z"
    }
   },
   "outputs": [
    {
     "data": {
      "text/plain": [
       "{'config_file': None,\n",
       " 'hds_folder': '.',\n",
       " 'use_datamart': False,\n",
       " 'datamart_folder': 'datamart',\n",
       " 'output_format': 'ndjson',\n",
       " 'output_folder': 'output',\n",
       " 'mapping_file': 'mapping.map',\n",
       " 'mask_predictor_names': True,\n",
       " 'mask_context_key_names': False,\n",
       " 'mask_ih_names': True,\n",
       " 'mask_outcome_name': False,\n",
       " 'mask_predictor_values': True,\n",
       " 'mask_context_key_values': True,\n",
       " 'mask_ih_values': True,\n",
       " 'mask_outcome_values': True,\n",
       " 'context_key_label': 'Context_*',\n",
       " 'ih_label': 'IH_*',\n",
       " 'outcome_column': 'Decision_Outcome',\n",
       " 'positive_outcomes': ['Accepted', 'Clicked'],\n",
       " 'negative_outcomes': ['Rejected', 'Impression'],\n",
       " 'special_predictors': ['Decision_DecisionTime',\n",
       "  'Decision_OutcomeTime',\n",
       "  'Decision_Rank'],\n",
       " 'sample_percentage_schema_inferencing': 0.01}"
      ]
     },
     "execution_count": 7,
     "metadata": {},
     "output_type": "execute_result"
    }
   ],
   "source": [
    "dict(zip(Config.__init__.__code__.co_varnames[1:], Config.__init__.__defaults__))"
   ]
  },
  {
   "attachments": {},
   "cell_type": "markdown",
   "metadata": {},
   "source": [
    "It's easy to change these parameters by just passing the keyword arguments. In the following example, we\n",
    "- Keep the IH predictor names\n",
    "- Keep the outcome values\n",
    "- Keep the context key values\n",
    "- Keep the context key predictor names"
   ]
  },
  {
   "cell_type": "code",
   "execution_count": 8,
   "metadata": {
    "execution": {
     "iopub.execute_input": "2023-12-15T17:11:31.070335Z",
     "iopub.status.busy": "2023-12-15T17:11:31.070027Z",
     "iopub.status.idle": "2023-12-15T17:11:31.080148Z",
     "shell.execute_reply": "2023-12-15T17:11:31.079704Z"
    }
   },
   "outputs": [
    {
     "data": {
      "text/html": [
       "<div><style>\n",
       ".dataframe > thead > tr > th,\n",
       ".dataframe > tbody > tr > td {\n",
       "  text-align: right;\n",
       "  white-space: pre-wrap;\n",
       "}\n",
       "</style>\n",
       "<small>shape: (7, 7)</small><table border=\"1\" class=\"dataframe\"><thead><tr><th>PREDICTOR_0</th><th>filename</th><th>PREDICTOR_2</th><th>PREDICTOR_3</th><th>Context_Name</th><th>IH_Web_Inbound_Accepted_pxLastGroupID</th><th>Decision_Outcome</th></tr><tr><td>str</td><td>str</td><td>str</td><td>f64</td><td>str</td><td>str</td><td>str</td></tr></thead><tbody><tr><td>&quot;17746492844631…</td><td>&quot;../../../../da…</td><td>&quot;17571988744947…</td><td>1.2927e19</td><td>&quot;FirstMortgage3…</td><td>&quot;17087839121206…</td><td>&quot;Rejected&quot;</td></tr><tr><td>&quot;11133059475251…</td><td>&quot;../../../../da…</td><td>&quot;29786406665359…</td><td>1.4856e19</td><td>&quot;FirstMortgage3…</td><td>&quot;11249277848636…</td><td>&quot;Accepted&quot;</td></tr><tr><td>&quot;15145823863637…</td><td>&quot;../../../../da…</td><td>&quot;14038309077624…</td><td>5.6458e17</td><td>&quot;MoneyMarketSav…</td><td>&quot;17087839121206…</td><td>&quot;Rejected&quot;</td></tr><tr><td>&quot;10361079862701…</td><td>&quot;../../../../da…</td><td>&quot;29786406665359…</td><td>4.0723e18</td><td>&quot;BasicChecking&quot;</td><td>&quot;17087839121206…</td><td>&quot;Rejected&quot;</td></tr><tr><td>&quot;27202283909085…</td><td>&quot;../../../../da…</td><td>&quot;17571988744947…</td><td>1.4677e19</td><td>&quot;BasicChecking&quot;</td><td>&quot;53510716974339…</td><td>&quot;Accepted&quot;</td></tr><tr><td>&quot;46351702187466…</td><td>&quot;../../../../da…</td><td>&quot;14038309077624…</td><td>1.6330e19</td><td>&quot;UPlusFinPerson…</td><td>null</td><td>&quot;Rejected&quot;</td></tr><tr><td>&quot;16538424244133…</td><td>&quot;../../../../da…</td><td>&quot;14038309077624…</td><td>8.7675e18</td><td>&quot;BasicChecking&quot;</td><td>&quot;53510716974339…</td><td>&quot;Rejected&quot;</td></tr></tbody></table></div>"
      ],
      "text/plain": [
       "shape: (7, 7)\n",
       "┌──────────────┬─────────────┬─────────────┬─────────────┬─────────────┬─────────────┬─────────────┐\n",
       "│ PREDICTOR_0  ┆ filename    ┆ PREDICTOR_2 ┆ PREDICTOR_3 ┆ Context_Nam ┆ IH_Web_Inbo ┆ Decision_Ou │\n",
       "│ ---          ┆ ---         ┆ ---         ┆ ---         ┆ e           ┆ und_Accepte ┆ tcome       │\n",
       "│ str          ┆ str         ┆ str         ┆ f64         ┆ ---         ┆ d_pxLastGr… ┆ ---         │\n",
       "│              ┆             ┆             ┆             ┆ str         ┆ ---         ┆ str         │\n",
       "│              ┆             ┆             ┆             ┆             ┆ str         ┆             │\n",
       "╞══════════════╪═════════════╪═════════════╪═════════════╪═════════════╪═════════════╪═════════════╡\n",
       "│ 177464928446 ┆ ../../../.. ┆ 17571988744 ┆ 1.2927e19   ┆ FirstMortga ┆ 17087839121 ┆ Rejected    │\n",
       "│ 31167261     ┆ /data/Sampl ┆ 947248749   ┆             ┆ ge30yr      ┆ 206705598   ┆             │\n",
       "│              ┆ eHDS.json   ┆             ┆             ┆             ┆             ┆             │\n",
       "│ 111330594752 ┆ ../../../.. ┆ 29786406665 ┆ 1.4856e19   ┆ FirstMortga ┆ 11249277848 ┆ Accepted    │\n",
       "│ 5103760      ┆ /data/Sampl ┆ 35951597    ┆             ┆ ge30yr      ┆ 636761835   ┆             │\n",
       "│              ┆ eHDS.json   ┆             ┆             ┆             ┆             ┆             │\n",
       "│ 151458238636 ┆ ../../../.. ┆ 14038309077 ┆ 5.6458e17   ┆ MoneyMarket ┆ 17087839121 ┆ Rejected    │\n",
       "│ 37191106     ┆ /data/Sampl ┆ 624539093   ┆             ┆ SavingsAcco ┆ 206705598   ┆             │\n",
       "│              ┆ eHDS.json   ┆             ┆             ┆ unt         ┆             ┆             │\n",
       "│ 103610798627 ┆ ../../../.. ┆ 29786406665 ┆ 4.0723e18   ┆ BasicChecki ┆ 17087839121 ┆ Rejected    │\n",
       "│ 01901047     ┆ /data/Sampl ┆ 35951597    ┆             ┆ ng          ┆ 206705598   ┆             │\n",
       "│              ┆ eHDS.json   ┆             ┆             ┆             ┆             ┆             │\n",
       "│ 272022839090 ┆ ../../../.. ┆ 17571988744 ┆ 1.4677e19   ┆ BasicChecki ┆ 53510716974 ┆ Accepted    │\n",
       "│ 8588284      ┆ /data/Sampl ┆ 947248749   ┆             ┆ ng          ┆ 33901342    ┆             │\n",
       "│              ┆ eHDS.json   ┆             ┆             ┆             ┆             ┆             │\n",
       "│ 463517021874 ┆ ../../../.. ┆ 14038309077 ┆ 1.6330e19   ┆ UPlusFinPer ┆ null        ┆ Rejected    │\n",
       "│ 6685605      ┆ /data/Sampl ┆ 624539093   ┆             ┆ sonal       ┆             ┆             │\n",
       "│              ┆ eHDS.json   ┆             ┆             ┆             ┆             ┆             │\n",
       "│ 165384242441 ┆ ../../../.. ┆ 14038309077 ┆ 8.7675e18   ┆ BasicChecki ┆ 53510716974 ┆ Rejected    │\n",
       "│ 33556084     ┆ /data/Sampl ┆ 624539093   ┆             ┆ ng          ┆ 33901342    ┆             │\n",
       "│              ┆ eHDS.json   ┆             ┆             ┆             ┆             ┆             │\n",
       "└──────────────┴─────────────┴─────────────┴─────────────┴─────────────┴─────────────┴─────────────┘"
      ]
     },
     "execution_count": 8,
     "metadata": {},
     "output_type": "execute_result"
    }
   ],
   "source": [
    "anon = DataAnonymization(\n",
    "    hds_folder=\"../../../../data/\",\n",
    "    mask_ih_names=False,\n",
    "    mask_outcome_values=False,\n",
    "    mask_context_key_values=False,\n",
    "    mask_context_key_names=False,\n",
    ")\n",
    "anon.process()\n"
   ]
  },
  {
   "attachments": {},
   "cell_type": "markdown",
   "metadata": {},
   "source": [
    "The configs can also be written and read as such:"
   ]
  },
  {
   "cell_type": "code",
   "execution_count": 9,
   "metadata": {
    "execution": {
     "iopub.execute_input": "2023-12-15T17:11:31.082207Z",
     "iopub.status.busy": "2023-12-15T17:11:31.081813Z",
     "iopub.status.idle": "2023-12-15T17:11:31.084573Z",
     "shell.execute_reply": "2023-12-15T17:11:31.084151Z"
    }
   },
   "outputs": [],
   "source": [
    "anon.config.save_to_config_file('config.json')"
   ]
  },
  {
   "cell_type": "code",
   "execution_count": 10,
   "metadata": {
    "execution": {
     "iopub.execute_input": "2023-12-15T17:11:31.086483Z",
     "iopub.status.busy": "2023-12-15T17:11:31.086180Z",
     "iopub.status.idle": "2023-12-15T17:11:31.096041Z",
     "shell.execute_reply": "2023-12-15T17:11:31.095606Z"
    }
   },
   "outputs": [
    {
     "data": {
      "text/html": [
       "<div><style>\n",
       ".dataframe > thead > tr > th,\n",
       ".dataframe > tbody > tr > td {\n",
       "  text-align: right;\n",
       "  white-space: pre-wrap;\n",
       "}\n",
       "</style>\n",
       "<small>shape: (7, 7)</small><table border=\"1\" class=\"dataframe\"><thead><tr><th>PREDICTOR_0</th><th>filename</th><th>PREDICTOR_2</th><th>PREDICTOR_3</th><th>Context_Name</th><th>IH_Web_Inbound_Accepted_pxLastGroupID</th><th>Decision_Outcome</th></tr><tr><td>str</td><td>str</td><td>str</td><td>f64</td><td>str</td><td>str</td><td>str</td></tr></thead><tbody><tr><td>&quot;12766913796236…</td><td>&quot;../../../../da…</td><td>&quot;74584698300116…</td><td>1.2927e19</td><td>&quot;FirstMortgage3…</td><td>&quot;39016048750216…</td><td>&quot;Rejected&quot;</td></tr><tr><td>&quot;68292852418638…</td><td>&quot;../../../../da…</td><td>&quot;43915497384262…</td><td>1.4856e19</td><td>&quot;FirstMortgage3…</td><td>&quot;17539660301932…</td><td>&quot;Accepted&quot;</td></tr><tr><td>&quot;15142153048104…</td><td>&quot;../../../../da…</td><td>&quot;51524465992013…</td><td>5.6458e17</td><td>&quot;MoneyMarketSav…</td><td>&quot;39016048750216…</td><td>&quot;Rejected&quot;</td></tr><tr><td>&quot;14224502227668…</td><td>&quot;../../../../da…</td><td>&quot;43915497384262…</td><td>4.0723e18</td><td>&quot;BasicChecking&quot;</td><td>&quot;39016048750216…</td><td>&quot;Rejected&quot;</td></tr><tr><td>&quot;10366304805496…</td><td>&quot;../../../../da…</td><td>&quot;74584698300116…</td><td>1.4677e19</td><td>&quot;BasicChecking&quot;</td><td>&quot;15629747151437…</td><td>&quot;Accepted&quot;</td></tr><tr><td>&quot;17009230294980…</td><td>&quot;../../../../da…</td><td>&quot;51524465992013…</td><td>1.6330e19</td><td>&quot;UPlusFinPerson…</td><td>null</td><td>&quot;Rejected&quot;</td></tr><tr><td>&quot;12663269376769…</td><td>&quot;../../../../da…</td><td>&quot;51524465992013…</td><td>8.7675e18</td><td>&quot;BasicChecking&quot;</td><td>&quot;15629747151437…</td><td>&quot;Rejected&quot;</td></tr></tbody></table></div>"
      ],
      "text/plain": [
       "shape: (7, 7)\n",
       "┌──────────────┬─────────────┬─────────────┬─────────────┬─────────────┬─────────────┬─────────────┐\n",
       "│ PREDICTOR_0  ┆ filename    ┆ PREDICTOR_2 ┆ PREDICTOR_3 ┆ Context_Nam ┆ IH_Web_Inbo ┆ Decision_Ou │\n",
       "│ ---          ┆ ---         ┆ ---         ┆ ---         ┆ e           ┆ und_Accepte ┆ tcome       │\n",
       "│ str          ┆ str         ┆ str         ┆ f64         ┆ ---         ┆ d_pxLastGr… ┆ ---         │\n",
       "│              ┆             ┆             ┆             ┆ str         ┆ ---         ┆ str         │\n",
       "│              ┆             ┆             ┆             ┆             ┆ str         ┆             │\n",
       "╞══════════════╪═════════════╪═════════════╪═════════════╪═════════════╪═════════════╪═════════════╡\n",
       "│ 127669137962 ┆ ../../../.. ┆ 74584698300 ┆ 1.2927e19   ┆ FirstMortga ┆ 39016048750 ┆ Rejected    │\n",
       "│ 36953357     ┆ /data/Sampl ┆ 11617395    ┆             ┆ ge30yr      ┆ 21699441    ┆             │\n",
       "│              ┆ eHDS.json   ┆             ┆             ┆             ┆             ┆             │\n",
       "│ 682928524186 ┆ ../../../.. ┆ 43915497384 ┆ 1.4856e19   ┆ FirstMortga ┆ 17539660301 ┆ Accepted    │\n",
       "│ 3896167      ┆ /data/Sampl ┆ 26204706    ┆             ┆ ge30yr      ┆ 932682349   ┆             │\n",
       "│              ┆ eHDS.json   ┆             ┆             ┆             ┆             ┆             │\n",
       "│ 151421530481 ┆ ../../../.. ┆ 51524465992 ┆ 5.6458e17   ┆ MoneyMarket ┆ 39016048750 ┆ Rejected    │\n",
       "│ 04337960     ┆ /data/Sampl ┆ 01314903    ┆             ┆ SavingsAcco ┆ 21699441    ┆             │\n",
       "│              ┆ eHDS.json   ┆             ┆             ┆ unt         ┆             ┆             │\n",
       "│ 142245022276 ┆ ../../../.. ┆ 43915497384 ┆ 4.0723e18   ┆ BasicChecki ┆ 39016048750 ┆ Rejected    │\n",
       "│ 68631909     ┆ /data/Sampl ┆ 26204706    ┆             ┆ ng          ┆ 21699441    ┆             │\n",
       "│              ┆ eHDS.json   ┆             ┆             ┆             ┆             ┆             │\n",
       "│ 103663048054 ┆ ../../../.. ┆ 74584698300 ┆ 1.4677e19   ┆ BasicChecki ┆ 15629747151 ┆ Accepted    │\n",
       "│ 96350723     ┆ /data/Sampl ┆ 11617395    ┆             ┆ ng          ┆ 437365986   ┆             │\n",
       "│              ┆ eHDS.json   ┆             ┆             ┆             ┆             ┆             │\n",
       "│ 170092302949 ┆ ../../../.. ┆ 51524465992 ┆ 1.6330e19   ┆ UPlusFinPer ┆ null        ┆ Rejected    │\n",
       "│ 80236365     ┆ /data/Sampl ┆ 01314903    ┆             ┆ sonal       ┆             ┆             │\n",
       "│              ┆ eHDS.json   ┆             ┆             ┆             ┆             ┆             │\n",
       "│ 126632693767 ┆ ../../../.. ┆ 51524465992 ┆ 8.7675e18   ┆ BasicChecki ┆ 15629747151 ┆ Rejected    │\n",
       "│ 69072529     ┆ /data/Sampl ┆ 01314903    ┆             ┆ ng          ┆ 437365986   ┆             │\n",
       "│              ┆ eHDS.json   ┆             ┆             ┆             ┆             ┆             │\n",
       "└──────────────┴─────────────┴─────────────┴─────────────┴─────────────┴─────────────┴─────────────┘"
      ]
     },
     "execution_count": 10,
     "metadata": {},
     "output_type": "execute_result"
    }
   ],
   "source": [
    "anon = DataAnonymization(config=Config(config_file='config.json'))\n",
    "anon.process()"
   ]
  },
  {
   "attachments": {},
   "cell_type": "markdown",
   "metadata": {},
   "source": [
    "## Exporting\n",
    "Two functions export:\n",
    "- `create_mapping_file()` writes the mapping file of the predictor names\n",
    "- `write_to_output()` writes the processed dataframe to disk\n",
    "\n",
    "Write to output accepts the following extensions: `[\"ndjson\", \"parquet\", \"arrow\", \"csv\"]`"
   ]
  },
  {
   "cell_type": "code",
   "execution_count": 11,
   "metadata": {
    "execution": {
     "iopub.execute_input": "2023-12-15T17:11:31.097994Z",
     "iopub.status.busy": "2023-12-15T17:11:31.097675Z",
     "iopub.status.idle": "2023-12-15T17:11:31.100867Z",
     "shell.execute_reply": "2023-12-15T17:11:31.100429Z"
    }
   },
   "outputs": [
    {
     "name": "stdout",
     "output_type": "stream",
     "text": [
      "Customer_City=PREDICTOR_0\n",
      "filename=filename\n",
      "Customer_MaritalStatus=PREDICTOR_2\n",
      "Customer_CLV=PREDICTOR_3\n",
      "Context_Name=Context_Name\n",
      "IH_Web_Inbound_Accepted_pxLastGroupID=IH_Web_Inbound_Accepted_pxLastGroupID\n",
      "Decision_Outcome=Decision_Outcome\n",
      "\n"
     ]
    }
   ],
   "source": [
    "anon.create_mapping_file()\n",
    "with open('mapping.map') as f:\n",
    "    print(f.read())"
   ]
  },
  {
   "cell_type": "code",
   "execution_count": 12,
   "metadata": {
    "execution": {
     "iopub.execute_input": "2023-12-15T17:11:31.102830Z",
     "iopub.status.busy": "2023-12-15T17:11:31.102495Z",
     "iopub.status.idle": "2023-12-15T17:11:31.105900Z",
     "shell.execute_reply": "2023-12-15T17:11:31.105431Z"
    }
   },
   "outputs": [],
   "source": [
    "anon.write_to_output(ext='arrow')"
   ]
  },
  {
   "cell_type": "code",
   "execution_count": 13,
   "metadata": {
    "execution": {
     "iopub.execute_input": "2023-12-15T17:11:31.107777Z",
     "iopub.status.busy": "2023-12-15T17:11:31.107462Z",
     "iopub.status.idle": "2023-12-15T17:11:31.111863Z",
     "shell.execute_reply": "2023-12-15T17:11:31.111422Z"
    }
   },
   "outputs": [
    {
     "data": {
      "text/html": [
       "<div><style>\n",
       ".dataframe > thead > tr > th,\n",
       ".dataframe > tbody > tr > td {\n",
       "  text-align: right;\n",
       "  white-space: pre-wrap;\n",
       "}\n",
       "</style>\n",
       "<small>shape: (7, 6)</small><table border=\"1\" class=\"dataframe\"><thead><tr><th>PREDICTOR_0</th><th>PREDICTOR_2</th><th>PREDICTOR_3</th><th>Context_Name</th><th>IH_Web_Inbound_Accepted_pxLastGroupID</th><th>Decision_Outcome</th></tr><tr><td>str</td><td>str</td><td>f64</td><td>str</td><td>str</td><td>str</td></tr></thead><tbody><tr><td>&quot;10668049608346…</td><td>&quot;10143286345217…</td><td>1.2927e19</td><td>&quot;FirstMortgage3…</td><td>&quot;13736873101588…</td><td>&quot;Rejected&quot;</td></tr><tr><td>&quot;25996158122413…</td><td>&quot;13791402545406…</td><td>1.4856e19</td><td>&quot;FirstMortgage3…</td><td>&quot;53316837518277…</td><td>&quot;Accepted&quot;</td></tr><tr><td>&quot;17182244835788…</td><td>&quot;10716954374874…</td><td>5.6458e17</td><td>&quot;MoneyMarketSav…</td><td>&quot;13736873101588…</td><td>&quot;Rejected&quot;</td></tr><tr><td>&quot;17226335744641…</td><td>&quot;13791402545406…</td><td>4.0723e18</td><td>&quot;BasicChecking&quot;</td><td>&quot;13736873101588…</td><td>&quot;Rejected&quot;</td></tr><tr><td>&quot;77932801077034…</td><td>&quot;10143286345217…</td><td>1.4677e19</td><td>&quot;BasicChecking&quot;</td><td>&quot;90431188539059…</td><td>&quot;Accepted&quot;</td></tr><tr><td>&quot;36401091832888…</td><td>&quot;10716954374874…</td><td>1.6330e19</td><td>&quot;UPlusFinPerson…</td><td>null</td><td>&quot;Rejected&quot;</td></tr><tr><td>&quot;17656235665901…</td><td>&quot;10716954374874…</td><td>8.7675e18</td><td>&quot;BasicChecking&quot;</td><td>&quot;90431188539059…</td><td>&quot;Rejected&quot;</td></tr></tbody></table></div>"
      ],
      "text/plain": [
       "shape: (7, 6)\n",
       "┌────────────────┬────────────────┬─────────────┬────────────────┬────────────────┬────────────────┐\n",
       "│ PREDICTOR_0    ┆ PREDICTOR_2    ┆ PREDICTOR_3 ┆ Context_Name   ┆ IH_Web_Inbound ┆ Decision_Outco │\n",
       "│ ---            ┆ ---            ┆ ---         ┆ ---            ┆ _Accepted_pxLa ┆ me             │\n",
       "│ str            ┆ str            ┆ f64         ┆ str            ┆ stGr…          ┆ ---            │\n",
       "│                ┆                ┆             ┆                ┆ ---            ┆ str            │\n",
       "│                ┆                ┆             ┆                ┆ str            ┆                │\n",
       "╞════════════════╪════════════════╪═════════════╪════════════════╪════════════════╪════════════════╡\n",
       "│ 10668049608346 ┆ 10143286345217 ┆ 1.2927e19   ┆ FirstMortgage3 ┆ 13736873101588 ┆ Rejected       │\n",
       "│ 289537         ┆ 202641         ┆             ┆ 0yr            ┆ 914511         ┆                │\n",
       "│ 25996158122413 ┆ 13791402545406 ┆ 1.4856e19   ┆ FirstMortgage3 ┆ 53316837518277 ┆ Accepted       │\n",
       "│ 71903          ┆ 068398         ┆             ┆ 0yr            ┆ 06983          ┆                │\n",
       "│ 17182244835788 ┆ 10716954374874 ┆ 5.6458e17   ┆ MoneyMarketSav ┆ 13736873101588 ┆ Rejected       │\n",
       "│ 252411         ┆ 432165         ┆             ┆ ingsAccount    ┆ 914511         ┆                │\n",
       "│ 17226335744641 ┆ 13791402545406 ┆ 4.0723e18   ┆ BasicChecking  ┆ 13736873101588 ┆ Rejected       │\n",
       "│ 82945          ┆ 068398         ┆             ┆                ┆ 914511         ┆                │\n",
       "│ 77932801077034 ┆ 10143286345217 ┆ 1.4677e19   ┆ BasicChecking  ┆ 90431188539059 ┆ Accepted       │\n",
       "│ 01167          ┆ 202641         ┆             ┆                ┆ 2644           ┆                │\n",
       "│ 36401091832888 ┆ 10716954374874 ┆ 1.6330e19   ┆ UPlusFinPerson ┆ null           ┆ Rejected       │\n",
       "│ 9435           ┆ 432165         ┆             ┆ al             ┆                ┆                │\n",
       "│ 17656235665901 ┆ 10716954374874 ┆ 8.7675e18   ┆ BasicChecking  ┆ 90431188539059 ┆ Rejected       │\n",
       "│ 695336         ┆ 432165         ┆             ┆                ┆ 2644           ┆                │\n",
       "└────────────────┴────────────────┴─────────────┴────────────────┴────────────────┴────────────────┘"
      ]
     },
     "execution_count": 13,
     "metadata": {},
     "output_type": "execute_result"
    }
   ],
   "source": [
    "pl.read_ipc('output/hds.arrow')"
   ]
  },
  {
   "attachments": {},
   "cell_type": "markdown",
   "metadata": {
    "nbsphinx": "hidden"
   },
   "source": [
    "## Advanced: Hash fuctions\n",
    "\n",
    "By default, we use [the same hashing algorithm Polars](https://pola-rs.github.io/polars/py-polars/html/reference/expressions/api/polars.Expr.hash.html#polars.Expr.hash) uses: [xxhash](https://github.com/Cyan4973/xxHash), as implemented [here](https://github.com/pola-rs/polars/blob/3f287f370b3c388ed2f3f218b2c096382548136f/polars/polars-core/src/vector_hasher.rs#L266). xxhash is fast to compute, and you can check its performance in collision, dispersion and randomness [here](https://github.com/Cyan4973/xxHash/tree/dev/tests). \n",
    "\n",
    "xxhash accepts four distinct seeds, but by default we set the seeds to `0`. It is possible to set the `seed` argument of the `process()` function to `'random'`, which will set all four seeds to a random integer between `0` and `1000000000`. Alternatively, it is possible to supply the four seeds manually with arguments `seed`, `seed_1`, `seed_2` and `seed_3`. \n",
    "\n",
    "If the xxhash with (random) seed(s) is not deemed sufficiently secure, it is possible to use your own hashing algorithm.\n",
    "\n",
    "Note that since we're now running python code and not native Polars code anymore, this will be _significantly_ slower. Nonetheless, it is possible.\n",
    "\n",
    "Just as an example - this is how one would use sha3_256:"
   ]
  },
  {
   "cell_type": "code",
   "execution_count": 14,
   "metadata": {
    "execution": {
     "iopub.execute_input": "2023-12-15T17:11:31.113899Z",
     "iopub.status.busy": "2023-12-15T17:11:31.113450Z",
     "iopub.status.idle": "2023-12-15T17:11:31.434640Z",
     "shell.execute_reply": "2023-12-15T17:11:31.434117Z"
    },
    "nbsphinx": "hidden"
   },
   "outputs": [
    {
     "ename": "ComputeError",
     "evalue": "AttributeError: 'int' object has no attribute 'encode'",
     "output_type": "error",
     "traceback": [
      "\u001b[0;31m---------------------------------------------------------------------------\u001b[0m",
      "\u001b[0;31mComputeError\u001b[0m                              Traceback (most recent call last)",
      "Cell \u001b[0;32mIn[14], line 3\u001b[0m\n\u001b[1;32m      1\u001b[0m \u001b[38;5;28;01mfrom\u001b[39;00m \u001b[38;5;21;01mhashlib\u001b[39;00m \u001b[38;5;28;01mimport\u001b[39;00m sha3_256\n\u001b[0;32m----> 3\u001b[0m \u001b[43manon\u001b[49m\u001b[38;5;241;43m.\u001b[39;49m\u001b[43mprocess\u001b[49m\u001b[43m(\u001b[49m\u001b[43malgorithm\u001b[49m\u001b[38;5;241;43m=\u001b[39;49m\u001b[38;5;28;43;01mlambda\u001b[39;49;00m\u001b[43m \u001b[49m\u001b[43mx\u001b[49m\u001b[43m:\u001b[49m\u001b[43m \u001b[49m\u001b[43msha3_256\u001b[49m\u001b[43m(\u001b[49m\u001b[43mx\u001b[49m\u001b[38;5;241;43m.\u001b[39;49m\u001b[43mencode\u001b[49m\u001b[43m(\u001b[49m\u001b[43m)\u001b[49m\u001b[43m)\u001b[49m\u001b[38;5;241;43m.\u001b[39;49m\u001b[43mhexdigest\u001b[49m\u001b[43m(\u001b[49m\u001b[43m)\u001b[49m\u001b[43m)\u001b[49m\n",
      "File \u001b[0;32m~/work/pega-datascientist-tools/pega-datascientist-tools/python/docs/source/articles/../../../pdstools/utils/hds_utils.py:516\u001b[0m, in \u001b[0;36mDataAnonymization.process\u001b[0;34m(self, strategy, **kwargs)\u001b[0m\n\u001b[1;32m    514\u001b[0m df \u001b[38;5;241m=\u001b[39m df\u001b[38;5;241m.\u001b[39mselect(\u001b[38;5;28mself\u001b[39m\u001b[38;5;241m.\u001b[39mcolumn_mapping\u001b[38;5;241m.\u001b[39mkeys())\u001b[38;5;241m.\u001b[39mrename(\u001b[38;5;28mself\u001b[39m\u001b[38;5;241m.\u001b[39mcolumn_mapping)\n\u001b[1;32m    515\u001b[0m \u001b[38;5;28;01mif\u001b[39;00m strategy \u001b[38;5;241m==\u001b[39m \u001b[38;5;124m\"\u001b[39m\u001b[38;5;124meager\u001b[39m\u001b[38;5;124m\"\u001b[39m:\n\u001b[0;32m--> 516\u001b[0m     \u001b[38;5;28;01mreturn\u001b[39;00m \u001b[43mdf\u001b[49m\u001b[38;5;241;43m.\u001b[39;49m\u001b[43mcollect\u001b[49m\u001b[43m(\u001b[49m\u001b[43m)\u001b[49m\n\u001b[1;32m    517\u001b[0m \u001b[38;5;28;01mreturn\u001b[39;00m df\n",
      "File \u001b[0;32m/opt/hostedtoolcache/Python/3.11.7/x64/lib/python3.11/site-packages/polars/utils/deprecation.py:100\u001b[0m, in \u001b[0;36mdeprecate_renamed_parameter.<locals>.decorate.<locals>.wrapper\u001b[0;34m(*args, **kwargs)\u001b[0m\n\u001b[1;32m     95\u001b[0m \u001b[38;5;129m@wraps\u001b[39m(function)\n\u001b[1;32m     96\u001b[0m \u001b[38;5;28;01mdef\u001b[39;00m \u001b[38;5;21mwrapper\u001b[39m(\u001b[38;5;241m*\u001b[39margs: P\u001b[38;5;241m.\u001b[39margs, \u001b[38;5;241m*\u001b[39m\u001b[38;5;241m*\u001b[39mkwargs: P\u001b[38;5;241m.\u001b[39mkwargs) \u001b[38;5;241m-\u001b[39m\u001b[38;5;241m>\u001b[39m T:\n\u001b[1;32m     97\u001b[0m     _rename_keyword_argument(\n\u001b[1;32m     98\u001b[0m         old_name, new_name, kwargs, function\u001b[38;5;241m.\u001b[39m\u001b[38;5;18m__name__\u001b[39m, version\n\u001b[1;32m     99\u001b[0m     )\n\u001b[0;32m--> 100\u001b[0m     \u001b[38;5;28;01mreturn\u001b[39;00m \u001b[43mfunction\u001b[49m\u001b[43m(\u001b[49m\u001b[38;5;241;43m*\u001b[39;49m\u001b[43margs\u001b[49m\u001b[43m,\u001b[49m\u001b[43m \u001b[49m\u001b[38;5;241;43m*\u001b[39;49m\u001b[38;5;241;43m*\u001b[39;49m\u001b[43mkwargs\u001b[49m\u001b[43m)\u001b[49m\n",
      "File \u001b[0;32m/opt/hostedtoolcache/Python/3.11.7/x64/lib/python3.11/site-packages/polars/lazyframe/frame.py:1787\u001b[0m, in \u001b[0;36mLazyFrame.collect\u001b[0;34m(self, type_coercion, predicate_pushdown, projection_pushdown, simplify_expression, slice_pushdown, comm_subplan_elim, comm_subexpr_elim, no_optimization, streaming, _eager)\u001b[0m\n\u001b[1;32m   1774\u001b[0m     comm_subplan_elim \u001b[38;5;241m=\u001b[39m \u001b[38;5;28;01mFalse\u001b[39;00m\n\u001b[1;32m   1776\u001b[0m ldf \u001b[38;5;241m=\u001b[39m \u001b[38;5;28mself\u001b[39m\u001b[38;5;241m.\u001b[39m_ldf\u001b[38;5;241m.\u001b[39moptimization_toggle(\n\u001b[1;32m   1777\u001b[0m     type_coercion,\n\u001b[1;32m   1778\u001b[0m     predicate_pushdown,\n\u001b[0;32m   (...)\u001b[0m\n\u001b[1;32m   1785\u001b[0m     _eager,\n\u001b[1;32m   1786\u001b[0m )\n\u001b[0;32m-> 1787\u001b[0m \u001b[38;5;28;01mreturn\u001b[39;00m wrap_df(ldf\u001b[38;5;241m.\u001b[39mcollect())\n",
      "\u001b[0;31mComputeError\u001b[0m: AttributeError: 'int' object has no attribute 'encode'"
     ]
    }
   ],
   "source": [
    "from hashlib import sha3_256\n",
    "\n",
    "anon.process(algorithm=lambda x: sha3_256(x.encode()).hexdigest())"
   ]
  }
 ],
 "metadata": {
  "kernelspec": {
   "display_name": "Python 3",
   "language": "python",
   "name": "python3"
  },
  "language_info": {
   "codemirror_mode": {
    "name": "ipython",
    "version": 3
   },
   "file_extension": ".py",
   "mimetype": "text/x-python",
   "name": "python",
   "nbconvert_exporter": "python",
   "pygments_lexer": "ipython3",
   "version": "3.11.7"
  },
  "vscode": {
   "interpreter": {
    "hash": "aee8b7b246df8f9039afb4144a1f6fd8d2ca17a180786b69acc140d282b71a49"
   }
  }
 },
 "nbformat": 4,
 "nbformat_minor": 2
}
