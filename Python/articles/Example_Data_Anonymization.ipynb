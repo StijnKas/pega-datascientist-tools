{
 "cells": [
  {
   "attachments": {},
   "cell_type": "markdown",
   "metadata": {},
   "source": [
    "# Data Anonymization\n",
    "\n",
    "In Pega CDH 8.5 and up, it's now possible to record the historical data as seen by the Adaptive Models. See [this academy challenge](https://academy.pega.com/challenge/exporting-historical-data/v4) for reference. This historical data can be further used to experiment with offline models, but also to fine-tune the OOTB Gradient Boosting model. However, sharing this information with Pega can be sensitive as it contains raw predictor data. \n",
    "\n",
    "To this end, we provide a simple and transparent script to fully anonimize this dataset.\n",
    "\n",
    "The DataAnonymization script is now part of pdstools, and you can import it directly as such."
   ]
  },
  {
   "cell_type": "code",
   "execution_count": 1,
   "metadata": {
    "execution": {
     "iopub.execute_input": "2024-01-13T14:01:52.691173Z",
     "iopub.status.busy": "2024-01-13T14:01:52.691009Z",
     "iopub.status.idle": "2024-01-13T14:01:52.762223Z",
     "shell.execute_reply": "2024-01-13T14:01:52.761741Z"
    },
    "nbsphinx": "hidden"
   },
   "outputs": [],
   "source": [
    "# These lines are only for rendering in the docs, and are hidden through Jupyter tags\n",
    "# Do not run if you're running the notebook seperately\n",
    "\n",
    "import os  \n",
    "import sys\n",
    "import plotly.io as pio\n",
    "pio.renderers.default = \"notebook_connected\"\n",
    "\n",
    "sys.path.append(\"../../../\")\n",
    "sys.path.append('../../python')"
   ]
  },
  {
   "cell_type": "code",
   "execution_count": 2,
   "metadata": {
    "execution": {
     "iopub.execute_input": "2024-01-13T14:01:52.764491Z",
     "iopub.status.busy": "2024-01-13T14:01:52.764069Z",
     "iopub.status.idle": "2024-01-13T14:01:53.737425Z",
     "shell.execute_reply": "2024-01-13T14:01:53.736839Z"
    }
   },
   "outputs": [],
   "source": [
    "from pdstools import ADMDatamart\n",
    "from pdstools import Config, DataAnonymization\n",
    "import polars as pl"
   ]
  },
  {
   "attachments": {},
   "cell_type": "markdown",
   "metadata": {},
   "source": [
    "## Input data\n",
    "\n",
    "To demonstrate this process, we're going to anonymise this toy example dataframe:"
   ]
  },
  {
   "cell_type": "code",
   "execution_count": 3,
   "metadata": {
    "execution": {
     "iopub.execute_input": "2024-01-13T14:01:53.740188Z",
     "iopub.status.busy": "2024-01-13T14:01:53.739695Z",
     "iopub.status.idle": "2024-01-13T14:01:53.748362Z",
     "shell.execute_reply": "2024-01-13T14:01:53.747843Z"
    }
   },
   "outputs": [
    {
     "data": {
      "text/html": [
       "<div><style>\n",
       ".dataframe > thead > tr,\n",
       ".dataframe > tbody > tr {\n",
       "  text-align: right;\n",
       "  white-space: pre-wrap;\n",
       "}\n",
       "</style>\n",
       "<small>shape: (7, 6)</small><table border=\"1\" class=\"dataframe\"><thead><tr><th>Context_Name</th><th>Customer_MaritalStatus</th><th>Customer_CLV</th><th>Customer_City</th><th>IH_Web_Inbound_Accepted_pxLastGroupID</th><th>Decision_Outcome</th></tr><tr><td>str</td><td>str</td><td>i64</td><td>str</td><td>str</td><td>str</td></tr></thead><tbody><tr><td>&quot;FirstMortgage3…</td><td>&quot;Married&quot;</td><td>1460</td><td>&quot;Port Raoul&quot;</td><td>&quot;Account&quot;</td><td>&quot;Rejected&quot;</td></tr><tr><td>&quot;FirstMortgage3…</td><td>&quot;Unknown&quot;</td><td>669</td><td>&quot;Laurianneshire…</td><td>&quot;AutoLoans&quot;</td><td>&quot;Accepted&quot;</td></tr><tr><td>&quot;MoneyMarketSav…</td><td>&quot;No Resp+&quot;</td><td>1174</td><td>&quot;Jacobshaven&quot;</td><td>&quot;Account&quot;</td><td>&quot;Rejected&quot;</td></tr><tr><td>&quot;BasicChecking&quot;</td><td>&quot;Unknown&quot;</td><td>1476</td><td>&quot;Lindton&quot;</td><td>&quot;Account&quot;</td><td>&quot;Rejected&quot;</td></tr><tr><td>&quot;BasicChecking&quot;</td><td>&quot;Married&quot;</td><td>1211</td><td>&quot;South Jimmiesh…</td><td>&quot;DepositAccount…</td><td>&quot;Accepted&quot;</td></tr><tr><td>&quot;UPlusFinPerson…</td><td>&quot;No Resp+&quot;</td><td>533</td><td>&quot;Bergeville&quot;</td><td>null</td><td>&quot;Rejected&quot;</td></tr><tr><td>&quot;BasicChecking&quot;</td><td>&quot;No Resp+&quot;</td><td>555</td><td>&quot;Willyville&quot;</td><td>&quot;DepositAccount…</td><td>&quot;Rejected&quot;</td></tr></tbody></table></div>"
      ],
      "text/plain": [
       "shape: (7, 6)\n",
       "┌────────────────┬────────────────┬──────────────┬────────────────┬────────────────┬───────────────┐\n",
       "│ Context_Name   ┆ Customer_Marit ┆ Customer_CLV ┆ Customer_City  ┆ IH_Web_Inbound ┆ Decision_Outc │\n",
       "│ ---            ┆ alStatus       ┆ ---          ┆ ---            ┆ _Accepted_pxLa ┆ ome           │\n",
       "│ str            ┆ ---            ┆ i64          ┆ str            ┆ stGr…          ┆ ---           │\n",
       "│                ┆ str            ┆              ┆                ┆ ---            ┆ str           │\n",
       "│                ┆                ┆              ┆                ┆ str            ┆               │\n",
       "╞════════════════╪════════════════╪══════════════╪════════════════╪════════════════╪═══════════════╡\n",
       "│ FirstMortgage3 ┆ Married        ┆ 1460         ┆ Port Raoul     ┆ Account        ┆ Rejected      │\n",
       "│ 0yr            ┆                ┆              ┆                ┆                ┆               │\n",
       "│ FirstMortgage3 ┆ Unknown        ┆ 669          ┆ Laurianneshire ┆ AutoLoans      ┆ Accepted      │\n",
       "│ 0yr            ┆                ┆              ┆                ┆                ┆               │\n",
       "│ MoneyMarketSav ┆ No Resp+       ┆ 1174         ┆ Jacobshaven    ┆ Account        ┆ Rejected      │\n",
       "│ ingsAccount    ┆                ┆              ┆                ┆                ┆               │\n",
       "│ BasicChecking  ┆ Unknown        ┆ 1476         ┆ Lindton        ┆ Account        ┆ Rejected      │\n",
       "│ BasicChecking  ┆ Married        ┆ 1211         ┆ South          ┆ DepositAccount ┆ Accepted      │\n",
       "│                ┆                ┆              ┆ Jimmieshire    ┆ s              ┆               │\n",
       "│ UPlusFinPerson ┆ No Resp+       ┆ 533          ┆ Bergeville     ┆ null           ┆ Rejected      │\n",
       "│ al             ┆                ┆              ┆                ┆                ┆               │\n",
       "│ BasicChecking  ┆ No Resp+       ┆ 555          ┆ Willyville     ┆ DepositAccount ┆ Rejected      │\n",
       "│                ┆                ┆              ┆                ┆ s              ┆               │\n",
       "└────────────────┴────────────────┴──────────────┴────────────────┴────────────────┴───────────────┘"
      ]
     },
     "execution_count": 3,
     "metadata": {},
     "output_type": "execute_result"
    }
   ],
   "source": [
    "pl.read_ndjson('../../../../data/SampleHDS.json')"
   ]
  },
  {
   "attachments": {},
   "cell_type": "markdown",
   "metadata": {},
   "source": [
    "As you can see, this dataset consists of regular predictors, IH predictors, context keys and the outcome column. Additionally, some columns are numeric, others are strings. Let's first initialize the DataAnonymization class."
   ]
  },
  {
   "cell_type": "code",
   "execution_count": 4,
   "metadata": {
    "execution": {
     "iopub.execute_input": "2024-01-13T14:01:53.750468Z",
     "iopub.status.busy": "2024-01-13T14:01:53.750170Z",
     "iopub.status.idle": "2024-01-13T14:01:53.756170Z",
     "shell.execute_reply": "2024-01-13T14:01:53.755636Z"
    }
   },
   "outputs": [],
   "source": [
    "anon = DataAnonymization(hds_folder='../../../../data/')"
   ]
  },
  {
   "attachments": {},
   "cell_type": "markdown",
   "metadata": {},
   "source": [
    "By default, the class applies a set of anonymisation techniques:\n",
    "- Column names are remapped to a non-descriptive name\n",
    "- Categorical values are hashed with a random seed\n",
    "- Numerical values are normalized between 0 and 1\n",
    "- Outcomes are mapped to a binary outcome.\n",
    "\n",
    "To apply these techniques, simply call `.process()`:"
   ]
  },
  {
   "cell_type": "code",
   "execution_count": 5,
   "metadata": {
    "execution": {
     "iopub.execute_input": "2024-01-13T14:01:53.758198Z",
     "iopub.status.busy": "2024-01-13T14:01:53.757879Z",
     "iopub.status.idle": "2024-01-13T14:01:53.763431Z",
     "shell.execute_reply": "2024-01-13T14:01:53.762993Z"
    }
   },
   "outputs": [
    {
     "data": {
      "text/html": [
       "<div><style>\n",
       ".dataframe > thead > tr,\n",
       ".dataframe > tbody > tr {\n",
       "  text-align: right;\n",
       "  white-space: pre-wrap;\n",
       "}\n",
       "</style>\n",
       "<small>shape: (7, 7)</small><table border=\"1\" class=\"dataframe\"><thead><tr><th>PREDICTOR_0</th><th>PREDICTOR_1</th><th>filename</th><th>PREDICTOR_3</th><th>Context_Name</th><th>IH_PREDICTOR_0</th><th>Decision_Outcome</th></tr><tr><td>f64</td><td>str</td><td>str</td><td>str</td><td>str</td><td>str</td><td>bool</td></tr></thead><tbody><tr><td>0.983033</td><td>&quot;16422041086677…</td><td>&quot;../../../../da…</td><td>&quot;17000072905979…</td><td>&quot;59288463577833…</td><td>&quot;56862967937937…</td><td>false</td></tr><tr><td>0.144221</td><td>&quot;82589721783404…</td><td>&quot;../../../../da…</td><td>&quot;90559228707515…</td><td>&quot;59288463577833…</td><td>&quot;12657845020284…</td><td>true</td></tr><tr><td>0.679745</td><td>&quot;10576810793280…</td><td>&quot;../../../../da…</td><td>&quot;33680953094809…</td><td>&quot;22757383136810…</td><td>&quot;56862967937937…</td><td>false</td></tr><tr><td>1.0</td><td>&quot;63168250606752…</td><td>&quot;../../../../da…</td><td>&quot;90559228707515…</td><td>&quot;18206536403758…</td><td>&quot;56862967937937…</td><td>false</td></tr><tr><td>0.718982</td><td>&quot;13531780026445…</td><td>&quot;../../../../da…</td><td>&quot;17000072905979…</td><td>&quot;18206536403758…</td><td>&quot;10611334444899…</td><td>true</td></tr><tr><td>0.0</td><td>&quot;16054307055777…</td><td>&quot;../../../../da…</td><td>&quot;33680953094809…</td><td>&quot;17416580503860…</td><td>null</td><td>false</td></tr><tr><td>0.02333</td><td>&quot;11848528886670…</td><td>&quot;../../../../da…</td><td>&quot;33680953094809…</td><td>&quot;18206536403758…</td><td>&quot;10611334444899…</td><td>false</td></tr></tbody></table></div>"
      ],
      "text/plain": [
       "shape: (7, 7)\n",
       "┌─────────────┬──────────────┬─────────────┬─────────────┬─────────────┬─────────────┬─────────────┐\n",
       "│ PREDICTOR_0 ┆ PREDICTOR_1  ┆ filename    ┆ PREDICTOR_3 ┆ Context_Nam ┆ IH_PREDICTO ┆ Decision_Ou │\n",
       "│ ---         ┆ ---          ┆ ---         ┆ ---         ┆ e           ┆ R_0         ┆ tcome       │\n",
       "│ f64         ┆ str          ┆ str         ┆ str         ┆ ---         ┆ ---         ┆ ---         │\n",
       "│             ┆              ┆             ┆             ┆ str         ┆ str         ┆ bool        │\n",
       "╞═════════════╪══════════════╪═════════════╪═════════════╪═════════════╪═════════════╪═════════════╡\n",
       "│ 0.983033    ┆ 164220410866 ┆ ../../../.. ┆ 17000072905 ┆ 59288463577 ┆ 56862967937 ┆ false       │\n",
       "│             ┆ 77366866     ┆ /data/Sampl ┆ 979566418   ┆ 83384541    ┆ 93757162    ┆             │\n",
       "│             ┆              ┆ eHDS.json   ┆             ┆             ┆             ┆             │\n",
       "│ 0.144221    ┆ 825897217834 ┆ ../../../.. ┆ 90559228707 ┆ 59288463577 ┆ 12657845020 ┆ true        │\n",
       "│             ┆ 0497293      ┆ /data/Sampl ┆ 51501881    ┆ 83384541    ┆ 28467212    ┆             │\n",
       "│             ┆              ┆ eHDS.json   ┆             ┆             ┆             ┆             │\n",
       "│ 0.679745    ┆ 105768107932 ┆ ../../../.. ┆ 33680953094 ┆ 22757383136 ┆ 56862967937 ┆ false       │\n",
       "│             ┆ 80426201     ┆ /data/Sampl ┆ 80939877    ┆ 81090794    ┆ 93757162    ┆             │\n",
       "│             ┆              ┆ eHDS.json   ┆             ┆             ┆             ┆             │\n",
       "│ 1.0         ┆ 631682506067 ┆ ../../../.. ┆ 90559228707 ┆ 18206536403 ┆ 56862967937 ┆ false       │\n",
       "│             ┆ 5289970      ┆ /data/Sampl ┆ 51501881    ┆ 758008194   ┆ 93757162    ┆             │\n",
       "│             ┆              ┆ eHDS.json   ┆             ┆             ┆             ┆             │\n",
       "│ 0.718982    ┆ 135317800264 ┆ ../../../.. ┆ 17000072905 ┆ 18206536403 ┆ 10611334444 ┆ true        │\n",
       "│             ┆ 45183882     ┆ /data/Sampl ┆ 979566418   ┆ 758008194   ┆ 899197019   ┆             │\n",
       "│             ┆              ┆ eHDS.json   ┆             ┆             ┆             ┆             │\n",
       "│ 0.0         ┆ 160543070557 ┆ ../../../.. ┆ 33680953094 ┆ 17416580503 ┆ null        ┆ false       │\n",
       "│             ┆ 77636148     ┆ /data/Sampl ┆ 80939877    ┆ 860708339   ┆             ┆             │\n",
       "│             ┆              ┆ eHDS.json   ┆             ┆             ┆             ┆             │\n",
       "│ 0.02333     ┆ 118485288866 ┆ ../../../.. ┆ 33680953094 ┆ 18206536403 ┆ 10611334444 ┆ false       │\n",
       "│             ┆ 70388914     ┆ /data/Sampl ┆ 80939877    ┆ 758008194   ┆ 899197019   ┆             │\n",
       "│             ┆              ┆ eHDS.json   ┆             ┆             ┆             ┆             │\n",
       "└─────────────┴──────────────┴─────────────┴─────────────┴─────────────┴─────────────┴─────────────┘"
      ]
     },
     "execution_count": 5,
     "metadata": {},
     "output_type": "execute_result"
    }
   ],
   "source": [
    "anon.process()"
   ]
  },
  {
   "attachments": {},
   "cell_type": "markdown",
   "metadata": {},
   "source": [
    "To trace back the columns to their original names, the class also contains a mapping, which does not have to be provided."
   ]
  },
  {
   "cell_type": "code",
   "execution_count": 6,
   "metadata": {
    "execution": {
     "iopub.execute_input": "2024-01-13T14:01:53.765412Z",
     "iopub.status.busy": "2024-01-13T14:01:53.765087Z",
     "iopub.status.idle": "2024-01-13T14:01:53.768570Z",
     "shell.execute_reply": "2024-01-13T14:01:53.768091Z"
    }
   },
   "outputs": [
    {
     "data": {
      "text/plain": [
       "{'Customer_CLV': 'PREDICTOR_0',\n",
       " 'Customer_City': 'PREDICTOR_1',\n",
       " 'filename': 'filename',\n",
       " 'Customer_MaritalStatus': 'PREDICTOR_3',\n",
       " 'Context_Name': 'Context_Name',\n",
       " 'IH_Web_Inbound_Accepted_pxLastGroupID': 'IH_PREDICTOR_0',\n",
       " 'Decision_Outcome': 'Decision_Outcome'}"
      ]
     },
     "execution_count": 6,
     "metadata": {},
     "output_type": "execute_result"
    }
   ],
   "source": [
    "anon.column_mapping"
   ]
  },
  {
   "attachments": {},
   "cell_type": "markdown",
   "metadata": {},
   "source": [
    "## Configs\n",
    "\n",
    "Each capability can optionally be turned off - see below for the full list of config options, and refer to the API reference for the full description."
   ]
  },
  {
   "cell_type": "code",
   "execution_count": 7,
   "metadata": {
    "execution": {
     "iopub.execute_input": "2024-01-13T14:01:53.770411Z",
     "iopub.status.busy": "2024-01-13T14:01:53.770128Z",
     "iopub.status.idle": "2024-01-13T14:01:53.774214Z",
     "shell.execute_reply": "2024-01-13T14:01:53.773708Z"
    }
   },
   "outputs": [
    {
     "data": {
      "text/plain": [
       "{'config_file': None,\n",
       " 'hds_folder': '.',\n",
       " 'use_datamart': False,\n",
       " 'datamart_folder': 'datamart',\n",
       " 'output_format': 'ndjson',\n",
       " 'output_folder': 'output',\n",
       " 'mapping_file': 'mapping.map',\n",
       " 'mask_predictor_names': True,\n",
       " 'mask_context_key_names': False,\n",
       " 'mask_ih_names': True,\n",
       " 'mask_outcome_name': False,\n",
       " 'mask_predictor_values': True,\n",
       " 'mask_context_key_values': True,\n",
       " 'mask_ih_values': True,\n",
       " 'mask_outcome_values': True,\n",
       " 'context_key_label': 'Context_*',\n",
       " 'ih_label': 'IH_*',\n",
       " 'outcome_column': 'Decision_Outcome',\n",
       " 'positive_outcomes': ['Accepted', 'Clicked'],\n",
       " 'negative_outcomes': ['Rejected', 'Impression'],\n",
       " 'special_predictors': ['Decision_DecisionTime',\n",
       "  'Decision_OutcomeTime',\n",
       "  'Decision_Rank'],\n",
       " 'sample_percentage_schema_inferencing': 0.01}"
      ]
     },
     "execution_count": 7,
     "metadata": {},
     "output_type": "execute_result"
    }
   ],
   "source": [
    "dict(zip(Config.__init__.__code__.co_varnames[1:], Config.__init__.__defaults__))"
   ]
  },
  {
   "attachments": {},
   "cell_type": "markdown",
   "metadata": {},
   "source": [
    "It's easy to change these parameters by just passing the keyword arguments. In the following example, we\n",
    "- Keep the IH predictor names\n",
    "- Keep the outcome values\n",
    "- Keep the context key values\n",
    "- Keep the context key predictor names"
   ]
  },
  {
   "cell_type": "code",
   "execution_count": 8,
   "metadata": {
    "execution": {
     "iopub.execute_input": "2024-01-13T14:01:53.776220Z",
     "iopub.status.busy": "2024-01-13T14:01:53.775899Z",
     "iopub.status.idle": "2024-01-13T14:01:53.783492Z",
     "shell.execute_reply": "2024-01-13T14:01:53.782985Z"
    }
   },
   "outputs": [
    {
     "data": {
      "text/html": [
       "<div><style>\n",
       ".dataframe > thead > tr,\n",
       ".dataframe > tbody > tr {\n",
       "  text-align: right;\n",
       "  white-space: pre-wrap;\n",
       "}\n",
       "</style>\n",
       "<small>shape: (7, 7)</small><table border=\"1\" class=\"dataframe\"><thead><tr><th>PREDICTOR_0</th><th>PREDICTOR_1</th><th>filename</th><th>PREDICTOR_3</th><th>Context_Name</th><th>IH_Web_Inbound_Accepted_pxLastGroupID</th><th>Decision_Outcome</th></tr><tr><td>f64</td><td>str</td><td>str</td><td>str</td><td>str</td><td>str</td><td>str</td></tr></thead><tbody><tr><td>0.983033</td><td>&quot;31530602218362…</td><td>&quot;../../../../da…</td><td>&quot;13760787222162…</td><td>&quot;FirstMortgage3…</td><td>&quot;11110435185100…</td><td>&quot;Rejected&quot;</td></tr><tr><td>0.144221</td><td>&quot;75652576398783…</td><td>&quot;../../../../da…</td><td>&quot;71091621030751…</td><td>&quot;FirstMortgage3…</td><td>&quot;17494588542242…</td><td>&quot;Accepted&quot;</td></tr><tr><td>0.679745</td><td>&quot;42897405751837…</td><td>&quot;../../../../da…</td><td>&quot;14400430783528…</td><td>&quot;MoneyMarketSav…</td><td>&quot;11110435185100…</td><td>&quot;Rejected&quot;</td></tr><tr><td>1.0</td><td>&quot;91079531202445…</td><td>&quot;../../../../da…</td><td>&quot;71091621030751…</td><td>&quot;BasicChecking&quot;</td><td>&quot;11110435185100…</td><td>&quot;Rejected&quot;</td></tr><tr><td>0.718982</td><td>&quot;10858209551657…</td><td>&quot;../../../../da…</td><td>&quot;13760787222162…</td><td>&quot;BasicChecking&quot;</td><td>&quot;69390031378793…</td><td>&quot;Accepted&quot;</td></tr><tr><td>0.0</td><td>&quot;17330502091498…</td><td>&quot;../../../../da…</td><td>&quot;14400430783528…</td><td>&quot;UPlusFinPerson…</td><td>null</td><td>&quot;Rejected&quot;</td></tr><tr><td>0.02333</td><td>&quot;13846373102457…</td><td>&quot;../../../../da…</td><td>&quot;14400430783528…</td><td>&quot;BasicChecking&quot;</td><td>&quot;69390031378793…</td><td>&quot;Rejected&quot;</td></tr></tbody></table></div>"
      ],
      "text/plain": [
       "shape: (7, 7)\n",
       "┌─────────────┬──────────────┬─────────────┬─────────────┬─────────────┬─────────────┬─────────────┐\n",
       "│ PREDICTOR_0 ┆ PREDICTOR_1  ┆ filename    ┆ PREDICTOR_3 ┆ Context_Nam ┆ IH_Web_Inbo ┆ Decision_Ou │\n",
       "│ ---         ┆ ---          ┆ ---         ┆ ---         ┆ e           ┆ und_Accepte ┆ tcome       │\n",
       "│ f64         ┆ str          ┆ str         ┆ str         ┆ ---         ┆ d_pxLastGr… ┆ ---         │\n",
       "│             ┆              ┆             ┆             ┆ str         ┆ ---         ┆ str         │\n",
       "│             ┆              ┆             ┆             ┆             ┆ str         ┆             │\n",
       "╞═════════════╪══════════════╪═════════════╪═════════════╪═════════════╪═════════════╪═════════════╡\n",
       "│ 0.983033    ┆ 315306022183 ┆ ../../../.. ┆ 13760787222 ┆ FirstMortga ┆ 11110435185 ┆ Rejected    │\n",
       "│             ┆ 6209992      ┆ /data/Sampl ┆ 162964468   ┆ ge30yr      ┆ 1007868     ┆             │\n",
       "│             ┆              ┆ eHDS.json   ┆             ┆             ┆             ┆             │\n",
       "│ 0.144221    ┆ 756525763987 ┆ ../../../.. ┆ 71091621030 ┆ FirstMortga ┆ 17494588542 ┆ Accepted    │\n",
       "│             ┆ 8393695      ┆ /data/Sampl ┆ 75188262    ┆ ge30yr      ┆ 242149704   ┆             │\n",
       "│             ┆              ┆ eHDS.json   ┆             ┆             ┆             ┆             │\n",
       "│ 0.679745    ┆ 428974057518 ┆ ../../../.. ┆ 14400430783 ┆ MoneyMarket ┆ 11110435185 ┆ Rejected    │\n",
       "│             ┆ 3760752      ┆ /data/Sampl ┆ 528702596   ┆ SavingsAcco ┆ 1007868     ┆             │\n",
       "│             ┆              ┆ eHDS.json   ┆             ┆ unt         ┆             ┆             │\n",
       "│ 1.0         ┆ 910795312024 ┆ ../../../.. ┆ 71091621030 ┆ BasicChecki ┆ 11110435185 ┆ Rejected    │\n",
       "│             ┆ 451923       ┆ /data/Sampl ┆ 75188262    ┆ ng          ┆ 1007868     ┆             │\n",
       "│             ┆              ┆ eHDS.json   ┆             ┆             ┆             ┆             │\n",
       "│ 0.718982    ┆ 108582095516 ┆ ../../../.. ┆ 13760787222 ┆ BasicChecki ┆ 69390031378 ┆ Accepted    │\n",
       "│             ┆ 57617034     ┆ /data/Sampl ┆ 162964468   ┆ ng          ┆ 79343139    ┆             │\n",
       "│             ┆              ┆ eHDS.json   ┆             ┆             ┆             ┆             │\n",
       "│ 0.0         ┆ 173305020914 ┆ ../../../.. ┆ 14400430783 ┆ UPlusFinPer ┆ null        ┆ Rejected    │\n",
       "│             ┆ 98974885     ┆ /data/Sampl ┆ 528702596   ┆ sonal       ┆             ┆             │\n",
       "│             ┆              ┆ eHDS.json   ┆             ┆             ┆             ┆             │\n",
       "│ 0.02333     ┆ 138463731024 ┆ ../../../.. ┆ 14400430783 ┆ BasicChecki ┆ 69390031378 ┆ Rejected    │\n",
       "│             ┆ 57114458     ┆ /data/Sampl ┆ 528702596   ┆ ng          ┆ 79343139    ┆             │\n",
       "│             ┆              ┆ eHDS.json   ┆             ┆             ┆             ┆             │\n",
       "└─────────────┴──────────────┴─────────────┴─────────────┴─────────────┴─────────────┴─────────────┘"
      ]
     },
     "execution_count": 8,
     "metadata": {},
     "output_type": "execute_result"
    }
   ],
   "source": [
    "anon = DataAnonymization(\n",
    "    hds_folder=\"../../../../data/\",\n",
    "    mask_ih_names=False,\n",
    "    mask_outcome_values=False,\n",
    "    mask_context_key_values=False,\n",
    "    mask_context_key_names=False,\n",
    ")\n",
    "anon.process()\n"
   ]
  },
  {
   "attachments": {},
   "cell_type": "markdown",
   "metadata": {},
   "source": [
    "The configs can also be written and read as such:"
   ]
  },
  {
   "cell_type": "code",
   "execution_count": 9,
   "metadata": {
    "execution": {
     "iopub.execute_input": "2024-01-13T14:01:53.785502Z",
     "iopub.status.busy": "2024-01-13T14:01:53.785195Z",
     "iopub.status.idle": "2024-01-13T14:01:53.787888Z",
     "shell.execute_reply": "2024-01-13T14:01:53.787449Z"
    }
   },
   "outputs": [],
   "source": [
    "anon.config.save_to_config_file('config.json')"
   ]
  },
  {
   "cell_type": "code",
   "execution_count": 10,
   "metadata": {
    "execution": {
     "iopub.execute_input": "2024-01-13T14:01:53.789821Z",
     "iopub.status.busy": "2024-01-13T14:01:53.789445Z",
     "iopub.status.idle": "2024-01-13T14:01:53.796712Z",
     "shell.execute_reply": "2024-01-13T14:01:53.796292Z"
    }
   },
   "outputs": [
    {
     "data": {
      "text/html": [
       "<div><style>\n",
       ".dataframe > thead > tr,\n",
       ".dataframe > tbody > tr {\n",
       "  text-align: right;\n",
       "  white-space: pre-wrap;\n",
       "}\n",
       "</style>\n",
       "<small>shape: (7, 7)</small><table border=\"1\" class=\"dataframe\"><thead><tr><th>PREDICTOR_0</th><th>PREDICTOR_1</th><th>filename</th><th>PREDICTOR_3</th><th>Context_Name</th><th>IH_Web_Inbound_Accepted_pxLastGroupID</th><th>Decision_Outcome</th></tr><tr><td>f64</td><td>str</td><td>str</td><td>str</td><td>str</td><td>str</td><td>str</td></tr></thead><tbody><tr><td>0.983033</td><td>&quot;38413520582630…</td><td>&quot;../../../../da…</td><td>&quot;47667404552092…</td><td>&quot;FirstMortgage3…</td><td>&quot;67937159366821…</td><td>&quot;Rejected&quot;</td></tr><tr><td>0.144221</td><td>&quot;16201366745835…</td><td>&quot;../../../../da…</td><td>&quot;26266512149204…</td><td>&quot;FirstMortgage3…</td><td>&quot;73825661548594…</td><td>&quot;Accepted&quot;</td></tr><tr><td>0.679745</td><td>&quot;89282738104599…</td><td>&quot;../../../../da…</td><td>&quot;24350440080405…</td><td>&quot;MoneyMarketSav…</td><td>&quot;67937159366821…</td><td>&quot;Rejected&quot;</td></tr><tr><td>1.0</td><td>&quot;80071111162905…</td><td>&quot;../../../../da…</td><td>&quot;26266512149204…</td><td>&quot;BasicChecking&quot;</td><td>&quot;67937159366821…</td><td>&quot;Rejected&quot;</td></tr><tr><td>0.718982</td><td>&quot;16641135377085…</td><td>&quot;../../../../da…</td><td>&quot;47667404552092…</td><td>&quot;BasicChecking&quot;</td><td>&quot;13648128567648…</td><td>&quot;Accepted&quot;</td></tr><tr><td>0.0</td><td>&quot;58327523606789…</td><td>&quot;../../../../da…</td><td>&quot;24350440080405…</td><td>&quot;UPlusFinPerson…</td><td>null</td><td>&quot;Rejected&quot;</td></tr><tr><td>0.02333</td><td>&quot;80285002962964…</td><td>&quot;../../../../da…</td><td>&quot;24350440080405…</td><td>&quot;BasicChecking&quot;</td><td>&quot;13648128567648…</td><td>&quot;Rejected&quot;</td></tr></tbody></table></div>"
      ],
      "text/plain": [
       "shape: (7, 7)\n",
       "┌─────────────┬──────────────┬─────────────┬─────────────┬─────────────┬─────────────┬─────────────┐\n",
       "│ PREDICTOR_0 ┆ PREDICTOR_1  ┆ filename    ┆ PREDICTOR_3 ┆ Context_Nam ┆ IH_Web_Inbo ┆ Decision_Ou │\n",
       "│ ---         ┆ ---          ┆ ---         ┆ ---         ┆ e           ┆ und_Accepte ┆ tcome       │\n",
       "│ f64         ┆ str          ┆ str         ┆ str         ┆ ---         ┆ d_pxLastGr… ┆ ---         │\n",
       "│             ┆              ┆             ┆             ┆ str         ┆ ---         ┆ str         │\n",
       "│             ┆              ┆             ┆             ┆             ┆ str         ┆             │\n",
       "╞═════════════╪══════════════╪═════════════╪═════════════╪═════════════╪═════════════╪═════════════╡\n",
       "│ 0.983033    ┆ 384135205826 ┆ ../../../.. ┆ 47667404552 ┆ FirstMortga ┆ 67937159366 ┆ Rejected    │\n",
       "│             ┆ 3080707      ┆ /data/Sampl ┆ 09255451    ┆ ge30yr      ┆ 8210849     ┆             │\n",
       "│             ┆              ┆ eHDS.json   ┆             ┆             ┆             ┆             │\n",
       "│ 0.144221    ┆ 162013667458 ┆ ../../../.. ┆ 26266512149 ┆ FirstMortga ┆ 73825661548 ┆ Accepted    │\n",
       "│             ┆ 35024428     ┆ /data/Sampl ┆ 20427512    ┆ ge30yr      ┆ 59424128    ┆             │\n",
       "│             ┆              ┆ eHDS.json   ┆             ┆             ┆             ┆             │\n",
       "│ 0.679745    ┆ 892827381045 ┆ ../../../.. ┆ 24350440080 ┆ MoneyMarket ┆ 67937159366 ┆ Rejected    │\n",
       "│             ┆ 996079       ┆ /data/Sampl ┆ 40597007    ┆ SavingsAcco ┆ 8210849     ┆             │\n",
       "│             ┆              ┆ eHDS.json   ┆             ┆ unt         ┆             ┆             │\n",
       "│ 1.0         ┆ 800711111629 ┆ ../../../.. ┆ 26266512149 ┆ BasicChecki ┆ 67937159366 ┆ Rejected    │\n",
       "│             ┆ 0533104      ┆ /data/Sampl ┆ 20427512    ┆ ng          ┆ 8210849     ┆             │\n",
       "│             ┆              ┆ eHDS.json   ┆             ┆             ┆             ┆             │\n",
       "│ 0.718982    ┆ 166411353770 ┆ ../../../.. ┆ 47667404552 ┆ BasicChecki ┆ 13648128567 ┆ Accepted    │\n",
       "│             ┆ 85017323     ┆ /data/Sampl ┆ 09255451    ┆ ng          ┆ 648330550   ┆             │\n",
       "│             ┆              ┆ eHDS.json   ┆             ┆             ┆             ┆             │\n",
       "│ 0.0         ┆ 583275236067 ┆ ../../../.. ┆ 24350440080 ┆ UPlusFinPer ┆ null        ┆ Rejected    │\n",
       "│             ┆ 8955455      ┆ /data/Sampl ┆ 40597007    ┆ sonal       ┆             ┆             │\n",
       "│             ┆              ┆ eHDS.json   ┆             ┆             ┆             ┆             │\n",
       "│ 0.02333     ┆ 802850029629 ┆ ../../../.. ┆ 24350440080 ┆ BasicChecki ┆ 13648128567 ┆ Rejected    │\n",
       "│             ┆ 649038       ┆ /data/Sampl ┆ 40597007    ┆ ng          ┆ 648330550   ┆             │\n",
       "│             ┆              ┆ eHDS.json   ┆             ┆             ┆             ┆             │\n",
       "└─────────────┴──────────────┴─────────────┴─────────────┴─────────────┴─────────────┴─────────────┘"
      ]
     },
     "execution_count": 10,
     "metadata": {},
     "output_type": "execute_result"
    }
   ],
   "source": [
    "anon = DataAnonymization(config=Config(config_file='config.json'))\n",
    "anon.process()"
   ]
  },
  {
   "attachments": {},
   "cell_type": "markdown",
   "metadata": {},
   "source": [
    "## Exporting\n",
    "Two functions export:\n",
    "- `create_mapping_file()` writes the mapping file of the predictor names\n",
    "- `write_to_output()` writes the processed dataframe to disk\n",
    "\n",
    "Write to output accepts the following extensions: `[\"ndjson\", \"parquet\", \"arrow\", \"csv\"]`"
   ]
  },
  {
   "cell_type": "code",
   "execution_count": 11,
   "metadata": {
    "execution": {
     "iopub.execute_input": "2024-01-13T14:01:53.798740Z",
     "iopub.status.busy": "2024-01-13T14:01:53.798370Z",
     "iopub.status.idle": "2024-01-13T14:01:53.801823Z",
     "shell.execute_reply": "2024-01-13T14:01:53.801316Z"
    }
   },
   "outputs": [
    {
     "name": "stdout",
     "output_type": "stream",
     "text": [
      "Customer_CLV=PREDICTOR_0\n",
      "Customer_City=PREDICTOR_1\n",
      "filename=filename\n",
      "Customer_MaritalStatus=PREDICTOR_3\n",
      "Context_Name=Context_Name\n",
      "IH_Web_Inbound_Accepted_pxLastGroupID=IH_Web_Inbound_Accepted_pxLastGroupID\n",
      "Decision_Outcome=Decision_Outcome\n",
      "\n"
     ]
    }
   ],
   "source": [
    "anon.create_mapping_file()\n",
    "with open('mapping.map') as f:\n",
    "    print(f.read())"
   ]
  },
  {
   "cell_type": "code",
   "execution_count": 12,
   "metadata": {
    "execution": {
     "iopub.execute_input": "2024-01-13T14:01:53.803698Z",
     "iopub.status.busy": "2024-01-13T14:01:53.803418Z",
     "iopub.status.idle": "2024-01-13T14:01:53.806902Z",
     "shell.execute_reply": "2024-01-13T14:01:53.806364Z"
    }
   },
   "outputs": [],
   "source": [
    "anon.write_to_output(ext='arrow')"
   ]
  },
  {
   "cell_type": "code",
   "execution_count": 13,
   "metadata": {
    "execution": {
     "iopub.execute_input": "2024-01-13T14:01:53.808747Z",
     "iopub.status.busy": "2024-01-13T14:01:53.808468Z",
     "iopub.status.idle": "2024-01-13T14:01:53.812726Z",
     "shell.execute_reply": "2024-01-13T14:01:53.812220Z"
    }
   },
   "outputs": [
    {
     "data": {
      "text/html": [
       "<div><style>\n",
       ".dataframe > thead > tr,\n",
       ".dataframe > tbody > tr {\n",
       "  text-align: right;\n",
       "  white-space: pre-wrap;\n",
       "}\n",
       "</style>\n",
       "<small>shape: (7, 6)</small><table border=\"1\" class=\"dataframe\"><thead><tr><th>PREDICTOR_0</th><th>PREDICTOR_1</th><th>PREDICTOR_3</th><th>Context_Name</th><th>IH_Web_Inbound_Accepted_pxLastGroupID</th><th>Decision_Outcome</th></tr><tr><td>f64</td><td>str</td><td>str</td><td>str</td><td>str</td><td>str</td></tr></thead><tbody><tr><td>0.983033</td><td>&quot;83006559117044…</td><td>&quot;13659211107211…</td><td>&quot;FirstMortgage3…</td><td>&quot;16866692171742…</td><td>&quot;Rejected&quot;</td></tr><tr><td>0.144221</td><td>&quot;67209219753881…</td><td>&quot;78351038508354…</td><td>&quot;FirstMortgage3…</td><td>&quot;97177809676306…</td><td>&quot;Accepted&quot;</td></tr><tr><td>0.679745</td><td>&quot;17109820992353…</td><td>&quot;18440160215443…</td><td>&quot;MoneyMarketSav…</td><td>&quot;16866692171742…</td><td>&quot;Rejected&quot;</td></tr><tr><td>1.0</td><td>&quot;50329527454137…</td><td>&quot;78351038508354…</td><td>&quot;BasicChecking&quot;</td><td>&quot;16866692171742…</td><td>&quot;Rejected&quot;</td></tr><tr><td>0.718982</td><td>&quot;49820764071531…</td><td>&quot;13659211107211…</td><td>&quot;BasicChecking&quot;</td><td>&quot;90736705467068…</td><td>&quot;Accepted&quot;</td></tr><tr><td>0.0</td><td>&quot;16432312091900…</td><td>&quot;18440160215443…</td><td>&quot;UPlusFinPerson…</td><td>null</td><td>&quot;Rejected&quot;</td></tr><tr><td>0.02333</td><td>&quot;22167054430828…</td><td>&quot;18440160215443…</td><td>&quot;BasicChecking&quot;</td><td>&quot;90736705467068…</td><td>&quot;Rejected&quot;</td></tr></tbody></table></div>"
      ],
      "text/plain": [
       "shape: (7, 6)\n",
       "┌─────────────┬────────────────┬────────────────┬────────────────┬────────────────┬────────────────┐\n",
       "│ PREDICTOR_0 ┆ PREDICTOR_1    ┆ PREDICTOR_3    ┆ Context_Name   ┆ IH_Web_Inbound ┆ Decision_Outco │\n",
       "│ ---         ┆ ---            ┆ ---            ┆ ---            ┆ _Accepted_pxLa ┆ me             │\n",
       "│ f64         ┆ str            ┆ str            ┆ str            ┆ stGr…          ┆ ---            │\n",
       "│             ┆                ┆                ┆                ┆ ---            ┆ str            │\n",
       "│             ┆                ┆                ┆                ┆ str            ┆                │\n",
       "╞═════════════╪════════════════╪════════════════╪════════════════╪════════════════╪════════════════╡\n",
       "│ 0.983033    ┆ 83006559117044 ┆ 13659211107211 ┆ FirstMortgage3 ┆ 16866692171742 ┆ Rejected       │\n",
       "│             ┆ 94160          ┆ 882806         ┆ 0yr            ┆ 069802         ┆                │\n",
       "│ 0.144221    ┆ 67209219753881 ┆ 78351038508354 ┆ FirstMortgage3 ┆ 97177809676306 ┆ Accepted       │\n",
       "│             ┆ 13931          ┆ 67675          ┆ 0yr            ┆ 19193          ┆                │\n",
       "│ 0.679745    ┆ 17109820992353 ┆ 18440160215443 ┆ MoneyMarketSav ┆ 16866692171742 ┆ Rejected       │\n",
       "│             ┆ 514400         ┆ 740288         ┆ ingsAccount    ┆ 069802         ┆                │\n",
       "│ 1.0         ┆ 50329527454137 ┆ 78351038508354 ┆ BasicChecking  ┆ 16866692171742 ┆ Rejected       │\n",
       "│             ┆ 87997          ┆ 67675          ┆                ┆ 069802         ┆                │\n",
       "│ 0.718982    ┆ 49820764071531 ┆ 13659211107211 ┆ BasicChecking  ┆ 90736705467068 ┆ Accepted       │\n",
       "│             ┆ 37485          ┆ 882806         ┆                ┆ 84385          ┆                │\n",
       "│ 0.0         ┆ 16432312091900 ┆ 18440160215443 ┆ UPlusFinPerson ┆ null           ┆ Rejected       │\n",
       "│             ┆ 191438         ┆ 740288         ┆ al             ┆                ┆                │\n",
       "│ 0.02333     ┆ 22167054430828 ┆ 18440160215443 ┆ BasicChecking  ┆ 90736705467068 ┆ Rejected       │\n",
       "│             ┆ 10607          ┆ 740288         ┆                ┆ 84385          ┆                │\n",
       "└─────────────┴────────────────┴────────────────┴────────────────┴────────────────┴────────────────┘"
      ]
     },
     "execution_count": 13,
     "metadata": {},
     "output_type": "execute_result"
    }
   ],
   "source": [
    "pl.read_ipc('output/hds.arrow')"
   ]
  },
  {
   "attachments": {},
   "cell_type": "markdown",
   "metadata": {
    "nbsphinx": "hidden"
   },
   "source": [
    "## Advanced: Hash fuctions\n",
    "\n",
    "By default, we use [the same hashing algorithm Polars](https://pola-rs.github.io/polars/py-polars/html/reference/expressions/api/polars.Expr.hash.html#polars.Expr.hash) uses: [xxhash](https://github.com/Cyan4973/xxHash), as implemented [here](https://github.com/pola-rs/polars/blob/3f287f370b3c388ed2f3f218b2c096382548136f/polars/polars-core/src/vector_hasher.rs#L266). xxhash is fast to compute, and you can check its performance in collision, dispersion and randomness [here](https://github.com/Cyan4973/xxHash/tree/dev/tests). \n",
    "\n",
    "xxhash accepts four distinct seeds, but by default we set the seeds to `0`. It is possible to set the `seed` argument of the `process()` function to `'random'`, which will set all four seeds to a random integer between `0` and `1000000000`. Alternatively, it is possible to supply the four seeds manually with arguments `seed`, `seed_1`, `seed_2` and `seed_3`. \n",
    "\n",
    "If the xxhash with (random) seed(s) is not deemed sufficiently secure, it is possible to use your own hashing algorithm.\n",
    "\n",
    "Note that since we're now running python code and not native Polars code anymore, this will be _significantly_ slower. Nonetheless, it is possible.\n",
    "\n",
    "Just as an example - this is how one would use sha3_256:"
   ]
  },
  {
   "cell_type": "code",
   "execution_count": 14,
   "metadata": {
    "execution": {
     "iopub.execute_input": "2024-01-13T14:01:53.814582Z",
     "iopub.status.busy": "2024-01-13T14:01:53.814305Z",
     "iopub.status.idle": "2024-01-13T14:01:53.821269Z",
     "shell.execute_reply": "2024-01-13T14:01:53.820844Z"
    },
    "nbsphinx": "hidden"
   },
   "outputs": [
    {
     "data": {
      "text/html": [
       "<div><style>\n",
       ".dataframe > thead > tr,\n",
       ".dataframe > tbody > tr {\n",
       "  text-align: right;\n",
       "  white-space: pre-wrap;\n",
       "}\n",
       "</style>\n",
       "<small>shape: (7, 7)</small><table border=\"1\" class=\"dataframe\"><thead><tr><th>PREDICTOR_0</th><th>PREDICTOR_1</th><th>filename</th><th>PREDICTOR_3</th><th>Context_Name</th><th>IH_Web_Inbound_Accepted_pxLastGroupID</th><th>Decision_Outcome</th></tr><tr><td>f64</td><td>str</td><td>str</td><td>str</td><td>str</td><td>str</td><td>str</td></tr></thead><tbody><tr><td>0.983033</td><td>&quot;c73023dda51de1…</td><td>&quot;../../../../da…</td><td>&quot;af486bc1815c72…</td><td>&quot;FirstMortgage3…</td><td>&quot;2513d0e24d8d02…</td><td>&quot;Rejected&quot;</td></tr><tr><td>0.144221</td><td>&quot;5414b197fb87b3…</td><td>&quot;../../../../da…</td><td>&quot;3cdf7b1ae1342e…</td><td>&quot;FirstMortgage3…</td><td>&quot;8b55bf62fc2ecd…</td><td>&quot;Accepted&quot;</td></tr><tr><td>0.679745</td><td>&quot;892f5d61a9215e…</td><td>&quot;../../../../da…</td><td>&quot;806ef34eb8237f…</td><td>&quot;MoneyMarketSav…</td><td>&quot;2513d0e24d8d02…</td><td>&quot;Rejected&quot;</td></tr><tr><td>1.0</td><td>&quot;c3aa807d9e927a…</td><td>&quot;../../../../da…</td><td>&quot;3cdf7b1ae1342e…</td><td>&quot;BasicChecking&quot;</td><td>&quot;2513d0e24d8d02…</td><td>&quot;Rejected&quot;</td></tr><tr><td>0.718982</td><td>&quot;c2d492f9a05073…</td><td>&quot;../../../../da…</td><td>&quot;af486bc1815c72…</td><td>&quot;BasicChecking&quot;</td><td>&quot;1cd082ecbd5dd9…</td><td>&quot;Accepted&quot;</td></tr><tr><td>0.0</td><td>&quot;b21059221605c4…</td><td>&quot;../../../../da…</td><td>&quot;806ef34eb8237f…</td><td>&quot;UPlusFinPerson…</td><td>null</td><td>&quot;Rejected&quot;</td></tr><tr><td>0.02333</td><td>&quot;80cbe489dcecd4…</td><td>&quot;../../../../da…</td><td>&quot;806ef34eb8237f…</td><td>&quot;BasicChecking&quot;</td><td>&quot;1cd082ecbd5dd9…</td><td>&quot;Rejected&quot;</td></tr></tbody></table></div>"
      ],
      "text/plain": [
       "shape: (7, 7)\n",
       "┌─────────────┬──────────────┬─────────────┬─────────────┬─────────────┬─────────────┬─────────────┐\n",
       "│ PREDICTOR_0 ┆ PREDICTOR_1  ┆ filename    ┆ PREDICTOR_3 ┆ Context_Nam ┆ IH_Web_Inbo ┆ Decision_Ou │\n",
       "│ ---         ┆ ---          ┆ ---         ┆ ---         ┆ e           ┆ und_Accepte ┆ tcome       │\n",
       "│ f64         ┆ str          ┆ str         ┆ str         ┆ ---         ┆ d_pxLastGr… ┆ ---         │\n",
       "│             ┆              ┆             ┆             ┆ str         ┆ ---         ┆ str         │\n",
       "│             ┆              ┆             ┆             ┆             ┆ str         ┆             │\n",
       "╞═════════════╪══════════════╪═════════════╪═════════════╪═════════════╪═════════════╪═════════════╡\n",
       "│ 0.983033    ┆ c73023dda51d ┆ ../../../.. ┆ af486bc1815 ┆ FirstMortga ┆ 2513d0e24d8 ┆ Rejected    │\n",
       "│             ┆ e1b84f7af774 ┆ /data/Sampl ┆ c726c357890 ┆ ge30yr      ┆ d0214eda4fb ┆             │\n",
       "│             ┆ fd6f8c73…    ┆ eHDS.json   ┆ ac2a40ba98… ┆             ┆ 454447162b… ┆             │\n",
       "│ 0.144221    ┆ 5414b197fb87 ┆ ../../../.. ┆ 3cdf7b1ae13 ┆ FirstMortga ┆ 8b55bf62fc2 ┆ Accepted    │\n",
       "│             ┆ b3f2e350d7a7 ┆ /data/Sampl ┆ 42ef979ea2a ┆ ge30yr      ┆ ecd16af97d4 ┆             │\n",
       "│             ┆ 4a840a81…    ┆ eHDS.json   ┆ 782541ad05… ┆             ┆ 8e469362cf… ┆             │\n",
       "│ 0.679745    ┆ 892f5d61a921 ┆ ../../../.. ┆ 806ef34eb82 ┆ MoneyMarket ┆ 2513d0e24d8 ┆ Rejected    │\n",
       "│             ┆ 5ef985f3fa29 ┆ /data/Sampl ┆ 37f4db85004 ┆ SavingsAcco ┆ d0214eda4fb ┆             │\n",
       "│             ┆ 3d51c92e…    ┆ eHDS.json   ┆ e96dc471d8… ┆ unt         ┆ 454447162b… ┆             │\n",
       "│ 1.0         ┆ c3aa807d9e92 ┆ ../../../.. ┆ 3cdf7b1ae13 ┆ BasicChecki ┆ 2513d0e24d8 ┆ Rejected    │\n",
       "│             ┆ 7ae426a89e76 ┆ /data/Sampl ┆ 42ef979ea2a ┆ ng          ┆ d0214eda4fb ┆             │\n",
       "│             ┆ a12b9160…    ┆ eHDS.json   ┆ 782541ad05… ┆             ┆ 454447162b… ┆             │\n",
       "│ 0.718982    ┆ c2d492f9a050 ┆ ../../../.. ┆ af486bc1815 ┆ BasicChecki ┆ 1cd082ecbd5 ┆ Accepted    │\n",
       "│             ┆ 7327c14285e9 ┆ /data/Sampl ┆ c726c357890 ┆ ng          ┆ dd95383b104 ┆             │\n",
       "│             ┆ 4e8ee54c…    ┆ eHDS.json   ┆ ac2a40ba98… ┆             ┆ 65e395c1f7… ┆             │\n",
       "│ 0.0         ┆ b21059221605 ┆ ../../../.. ┆ 806ef34eb82 ┆ UPlusFinPer ┆ null        ┆ Rejected    │\n",
       "│             ┆ c49757cfe0fe ┆ /data/Sampl ┆ 37f4db85004 ┆ sonal       ┆             ┆             │\n",
       "│             ┆ e45640db…    ┆ eHDS.json   ┆ e96dc471d8… ┆             ┆             ┆             │\n",
       "│ 0.02333     ┆ 80cbe489dcec ┆ ../../../.. ┆ 806ef34eb82 ┆ BasicChecki ┆ 1cd082ecbd5 ┆ Rejected    │\n",
       "│             ┆ d4b9304898c9 ┆ /data/Sampl ┆ 37f4db85004 ┆ ng          ┆ dd95383b104 ┆             │\n",
       "│             ┆ 986afeeb…    ┆ eHDS.json   ┆ e96dc471d8… ┆             ┆ 65e395c1f7… ┆             │\n",
       "└─────────────┴──────────────┴─────────────┴─────────────┴─────────────┴─────────────┴─────────────┘"
      ]
     },
     "execution_count": 14,
     "metadata": {},
     "output_type": "execute_result"
    }
   ],
   "source": [
    "from hashlib import sha3_256\n",
    "\n",
    "anon.process(algorithm=lambda x: sha3_256(x.encode()).hexdigest())"
   ]
  }
 ],
 "metadata": {
  "kernelspec": {
   "display_name": "Python 3",
   "language": "python",
   "name": "python3"
  },
  "language_info": {
   "codemirror_mode": {
    "name": "ipython",
    "version": 3
   },
   "file_extension": ".py",
   "mimetype": "text/x-python",
   "name": "python",
   "nbconvert_exporter": "python",
   "pygments_lexer": "ipython3",
   "version": "3.11.7"
  },
  "vscode": {
   "interpreter": {
    "hash": "aee8b7b246df8f9039afb4144a1f6fd8d2ca17a180786b69acc140d282b71a49"
   }
  }
 },
 "nbformat": 4,
 "nbformat_minor": 2
}
