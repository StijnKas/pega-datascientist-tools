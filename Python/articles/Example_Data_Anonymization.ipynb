{
 "cells": [
  {
   "attachments": {},
   "cell_type": "markdown",
   "metadata": {},
   "source": [
    "# Data Anonymization\n",
    "\n",
    "In Pega CDH 8.5 and up, it's now possible to record the historical data as seen by the Adaptive Models. See [this academy challenge](https://academy.pega.com/challenge/exporting-historical-data/v4) for reference. This historical data can be further used to experiment with offline models, but also to fine-tune the OOTB Gradient Boosting model. However, sharing this information with Pega can be sensitive as it contains raw predictor data. \n",
    "\n",
    "To this end, we provide a simple and transparent script to fully anonimize this dataset.\n",
    "\n",
    "The DataAnonymization script is now part of pdstools, and you can import it directly as such."
   ]
  },
  {
   "cell_type": "code",
   "execution_count": 1,
   "metadata": {
    "execution": {
     "iopub.execute_input": "2024-06-25T13:55:00.176871Z",
     "iopub.status.busy": "2024-06-25T13:55:00.176658Z",
     "iopub.status.idle": "2024-06-25T13:55:00.249986Z",
     "shell.execute_reply": "2024-06-25T13:55:00.249367Z"
    },
    "nbsphinx": "hidden"
   },
   "outputs": [],
   "source": [
    "# These lines are only for rendering in the docs, and are hidden through Jupyter tags\n",
    "# Do not run if you're running the notebook seperately\n",
    "\n",
    "import os  \n",
    "import sys\n",
    "import plotly.io as pio\n",
    "pio.renderers.default = \"notebook_connected\"\n",
    "\n",
    "sys.path.append(\"../../../\")\n",
    "sys.path.append('../../python')"
   ]
  },
  {
   "cell_type": "code",
   "execution_count": 2,
   "metadata": {
    "execution": {
     "iopub.execute_input": "2024-06-25T13:55:00.252368Z",
     "iopub.status.busy": "2024-06-25T13:55:00.252181Z",
     "iopub.status.idle": "2024-06-25T13:55:01.373060Z",
     "shell.execute_reply": "2024-06-25T13:55:01.372464Z"
    }
   },
   "outputs": [],
   "source": [
    "from pdstools import ADMDatamart\n",
    "from pdstools import Config, DataAnonymization\n",
    "import polars as pl"
   ]
  },
  {
   "attachments": {},
   "cell_type": "markdown",
   "metadata": {},
   "source": [
    "## Input data\n",
    "\n",
    "To demonstrate this process, we're going to anonymise this toy example dataframe:"
   ]
  },
  {
   "cell_type": "code",
   "execution_count": 3,
   "metadata": {
    "execution": {
     "iopub.execute_input": "2024-06-25T13:55:01.376112Z",
     "iopub.status.busy": "2024-06-25T13:55:01.375707Z",
     "iopub.status.idle": "2024-06-25T13:55:01.384821Z",
     "shell.execute_reply": "2024-06-25T13:55:01.384242Z"
    }
   },
   "outputs": [
    {
     "data": {
      "text/html": [
       "<div><style>\n",
       ".dataframe > thead > tr,\n",
       ".dataframe > tbody > tr {\n",
       "  text-align: right;\n",
       "  white-space: pre-wrap;\n",
       "}\n",
       "</style>\n",
       "<small>shape: (7, 6)</small><table border=\"1\" class=\"dataframe\"><thead><tr><th>Context_Name</th><th>Customer_MaritalStatus</th><th>Customer_CLV</th><th>Customer_City</th><th>IH_Web_Inbound_Accepted_pxLastGroupID</th><th>Decision_Outcome</th></tr><tr><td>str</td><td>str</td><td>i64</td><td>str</td><td>str</td><td>str</td></tr></thead><tbody><tr><td>&quot;FirstMortgage30yr&quot;</td><td>&quot;Married&quot;</td><td>1460</td><td>&quot;Port Raoul&quot;</td><td>&quot;Account&quot;</td><td>&quot;Rejected&quot;</td></tr><tr><td>&quot;FirstMortgage30yr&quot;</td><td>&quot;Unknown&quot;</td><td>669</td><td>&quot;Laurianneshire&quot;</td><td>&quot;AutoLoans&quot;</td><td>&quot;Accepted&quot;</td></tr><tr><td>&quot;MoneyMarketSavingsAccount&quot;</td><td>&quot;No Resp+&quot;</td><td>1174</td><td>&quot;Jacobshaven&quot;</td><td>&quot;Account&quot;</td><td>&quot;Rejected&quot;</td></tr><tr><td>&quot;BasicChecking&quot;</td><td>&quot;Unknown&quot;</td><td>1476</td><td>&quot;Lindton&quot;</td><td>&quot;Account&quot;</td><td>&quot;Rejected&quot;</td></tr><tr><td>&quot;BasicChecking&quot;</td><td>&quot;Married&quot;</td><td>1211</td><td>&quot;South Jimmieshire&quot;</td><td>&quot;DepositAccounts&quot;</td><td>&quot;Accepted&quot;</td></tr><tr><td>&quot;UPlusFinPersonal&quot;</td><td>&quot;No Resp+&quot;</td><td>533</td><td>&quot;Bergeville&quot;</td><td>null</td><td>&quot;Rejected&quot;</td></tr><tr><td>&quot;BasicChecking&quot;</td><td>&quot;No Resp+&quot;</td><td>555</td><td>&quot;Willyville&quot;</td><td>&quot;DepositAccounts&quot;</td><td>&quot;Rejected&quot;</td></tr></tbody></table></div>"
      ],
      "text/plain": [
       "shape: (7, 6)\n",
       "┌────────────────┬────────────────┬──────────────┬────────────────┬────────────────┬───────────────┐\n",
       "│ Context_Name   ┆ Customer_Marit ┆ Customer_CLV ┆ Customer_City  ┆ IH_Web_Inbound ┆ Decision_Outc │\n",
       "│ ---            ┆ alStatus       ┆ ---          ┆ ---            ┆ _Accepted_pxLa ┆ ome           │\n",
       "│ str            ┆ ---            ┆ i64          ┆ str            ┆ st…            ┆ ---           │\n",
       "│                ┆ str            ┆              ┆                ┆ ---            ┆ str           │\n",
       "│                ┆                ┆              ┆                ┆ str            ┆               │\n",
       "╞════════════════╪════════════════╪══════════════╪════════════════╪════════════════╪═══════════════╡\n",
       "│ FirstMortgage3 ┆ Married        ┆ 1460         ┆ Port Raoul     ┆ Account        ┆ Rejected      │\n",
       "│ 0yr            ┆                ┆              ┆                ┆                ┆               │\n",
       "│ FirstMortgage3 ┆ Unknown        ┆ 669          ┆ Laurianneshire ┆ AutoLoans      ┆ Accepted      │\n",
       "│ 0yr            ┆                ┆              ┆                ┆                ┆               │\n",
       "│ MoneyMarketSav ┆ No Resp+       ┆ 1174         ┆ Jacobshaven    ┆ Account        ┆ Rejected      │\n",
       "│ ingsAccount    ┆                ┆              ┆                ┆                ┆               │\n",
       "│ BasicChecking  ┆ Unknown        ┆ 1476         ┆ Lindton        ┆ Account        ┆ Rejected      │\n",
       "│ BasicChecking  ┆ Married        ┆ 1211         ┆ South          ┆ DepositAccount ┆ Accepted      │\n",
       "│                ┆                ┆              ┆ Jimmieshire    ┆ s              ┆               │\n",
       "│ UPlusFinPerson ┆ No Resp+       ┆ 533          ┆ Bergeville     ┆ null           ┆ Rejected      │\n",
       "│ al             ┆                ┆              ┆                ┆                ┆               │\n",
       "│ BasicChecking  ┆ No Resp+       ┆ 555          ┆ Willyville     ┆ DepositAccount ┆ Rejected      │\n",
       "│                ┆                ┆              ┆                ┆ s              ┆               │\n",
       "└────────────────┴────────────────┴──────────────┴────────────────┴────────────────┴───────────────┘"
      ]
     },
     "execution_count": 3,
     "metadata": {},
     "output_type": "execute_result"
    }
   ],
   "source": [
    "pl.read_ndjson('../../../../data/SampleHDS.json')"
   ]
  },
  {
   "attachments": {},
   "cell_type": "markdown",
   "metadata": {},
   "source": [
    "As you can see, this dataset consists of regular predictors, IH predictors, context keys and the outcome column. Additionally, some columns are numeric, others are strings. Let's first initialize the DataAnonymization class."
   ]
  },
  {
   "cell_type": "code",
   "execution_count": 4,
   "metadata": {
    "execution": {
     "iopub.execute_input": "2024-06-25T13:55:01.387190Z",
     "iopub.status.busy": "2024-06-25T13:55:01.386746Z",
     "iopub.status.idle": "2024-06-25T13:55:01.396855Z",
     "shell.execute_reply": "2024-06-25T13:55:01.396222Z"
    }
   },
   "outputs": [],
   "source": [
    "anon = DataAnonymization(hds_folder='../../../../data/')"
   ]
  },
  {
   "attachments": {},
   "cell_type": "markdown",
   "metadata": {},
   "source": [
    "By default, the class applies a set of anonymisation techniques:\n",
    "- Column names are remapped to a non-descriptive name\n",
    "- Categorical values are hashed with a random seed\n",
    "- Numerical values are normalized between 0 and 1\n",
    "- Outcomes are mapped to a binary outcome.\n",
    "\n",
    "To apply these techniques, simply call `.process()`:"
   ]
  },
  {
   "cell_type": "code",
   "execution_count": 5,
   "metadata": {
    "execution": {
     "iopub.execute_input": "2024-06-25T13:55:01.399445Z",
     "iopub.status.busy": "2024-06-25T13:55:01.399014Z",
     "iopub.status.idle": "2024-06-25T13:55:01.404429Z",
     "shell.execute_reply": "2024-06-25T13:55:01.403958Z"
    }
   },
   "outputs": [
    {
     "data": {
      "text/html": [
       "<div><style>\n",
       ".dataframe > thead > tr,\n",
       ".dataframe > tbody > tr {\n",
       "  text-align: right;\n",
       "  white-space: pre-wrap;\n",
       "}\n",
       "</style>\n",
       "<small>shape: (7, 7)</small><table border=\"1\" class=\"dataframe\"><thead><tr><th>PREDICTOR_0</th><th>PREDICTOR_1</th><th>filename</th><th>PREDICTOR_3</th><th>Context_Name</th><th>IH_PREDICTOR_0</th><th>Decision_Outcome</th></tr><tr><td>f64</td><td>str</td><td>str</td><td>str</td><td>str</td><td>str</td><td>bool</td></tr></thead><tbody><tr><td>5.3431e18</td><td>&quot;10831486870363456856&quot;</td><td>&quot;../../../../data/SampleHDS.jso…</td><td>&quot;12719386505136887422&quot;</td><td>&quot;11890007023989276111&quot;</td><td>&quot;10868400715796717920&quot;</td><td>false</td></tr><tr><td>5.5617e18</td><td>&quot;8527985881567514673&quot;</td><td>&quot;../../../../data/SampleHDS.jso…</td><td>&quot;14052183327114255698&quot;</td><td>&quot;11890007023989276111&quot;</td><td>&quot;5997451788758191148&quot;</td><td>true</td></tr><tr><td>1.5859e18</td><td>&quot;124424036889564711&quot;</td><td>&quot;../../../../data/SampleHDS.jso…</td><td>&quot;16944238344783374646&quot;</td><td>&quot;158550944716944236&quot;</td><td>&quot;10868400715796717920&quot;</td><td>false</td></tr><tr><td>1.3431e19</td><td>&quot;8527985881567514673&quot;</td><td>&quot;../../../../data/SampleHDS.jso…</td><td>&quot;3901875729476741695&quot;</td><td>&quot;6653811494134817397&quot;</td><td>&quot;10868400715796717920&quot;</td><td>false</td></tr><tr><td>3.4456e18</td><td>&quot;10831486870363456856&quot;</td><td>&quot;../../../../data/SampleHDS.jso…</td><td>&quot;5844344389285945587&quot;</td><td>&quot;6653811494134817397&quot;</td><td>&quot;12561036712258206169&quot;</td><td>true</td></tr><tr><td>9.1390e18</td><td>&quot;124424036889564711&quot;</td><td>&quot;../../../../data/SampleHDS.jso…</td><td>&quot;5648729090705388398&quot;</td><td>&quot;15811845728705189266&quot;</td><td>null</td><td>false</td></tr><tr><td>1.7275e19</td><td>&quot;124424036889564711&quot;</td><td>&quot;../../../../data/SampleHDS.jso…</td><td>&quot;15331866792890720054&quot;</td><td>&quot;6653811494134817397&quot;</td><td>&quot;12561036712258206169&quot;</td><td>false</td></tr></tbody></table></div>"
      ],
      "text/plain": [
       "shape: (7, 7)\n",
       "┌─────────────┬──────────────┬─────────────┬─────────────┬─────────────┬─────────────┬─────────────┐\n",
       "│ PREDICTOR_0 ┆ PREDICTOR_1  ┆ filename    ┆ PREDICTOR_3 ┆ Context_Nam ┆ IH_PREDICTO ┆ Decision_Ou │\n",
       "│ ---         ┆ ---          ┆ ---         ┆ ---         ┆ e           ┆ R_0         ┆ tcome       │\n",
       "│ f64         ┆ str          ┆ str         ┆ str         ┆ ---         ┆ ---         ┆ ---         │\n",
       "│             ┆              ┆             ┆             ┆ str         ┆ str         ┆ bool        │\n",
       "╞═════════════╪══════════════╪═════════════╪═════════════╪═════════════╪═════════════╪═════════════╡\n",
       "│ 5.3431e18   ┆ 108314868703 ┆ ../../../.. ┆ 12719386505 ┆ 11890007023 ┆ 10868400715 ┆ false       │\n",
       "│             ┆ 63456856     ┆ /data/Sampl ┆ 136887422   ┆ 989276111   ┆ 796717920   ┆             │\n",
       "│             ┆              ┆ eHDS.jso…   ┆             ┆             ┆             ┆             │\n",
       "│ 5.5617e18   ┆ 852798588156 ┆ ../../../.. ┆ 14052183327 ┆ 11890007023 ┆ 59974517887 ┆ true        │\n",
       "│             ┆ 7514673      ┆ /data/Sampl ┆ 114255698   ┆ 989276111   ┆ 58191148    ┆             │\n",
       "│             ┆              ┆ eHDS.jso…   ┆             ┆             ┆             ┆             │\n",
       "│ 1.5859e18   ┆ 124424036889 ┆ ../../../.. ┆ 16944238344 ┆ 15855094471 ┆ 10868400715 ┆ false       │\n",
       "│             ┆ 564711       ┆ /data/Sampl ┆ 783374646   ┆ 6944236     ┆ 796717920   ┆             │\n",
       "│             ┆              ┆ eHDS.jso…   ┆             ┆             ┆             ┆             │\n",
       "│ 1.3431e19   ┆ 852798588156 ┆ ../../../.. ┆ 39018757294 ┆ 66538114941 ┆ 10868400715 ┆ false       │\n",
       "│             ┆ 7514673      ┆ /data/Sampl ┆ 76741695    ┆ 34817397    ┆ 796717920   ┆             │\n",
       "│             ┆              ┆ eHDS.jso…   ┆             ┆             ┆             ┆             │\n",
       "│ 3.4456e18   ┆ 108314868703 ┆ ../../../.. ┆ 58443443892 ┆ 66538114941 ┆ 12561036712 ┆ true        │\n",
       "│             ┆ 63456856     ┆ /data/Sampl ┆ 85945587    ┆ 34817397    ┆ 258206169   ┆             │\n",
       "│             ┆              ┆ eHDS.jso…   ┆             ┆             ┆             ┆             │\n",
       "│ 9.1390e18   ┆ 124424036889 ┆ ../../../.. ┆ 56487290907 ┆ 15811845728 ┆ null        ┆ false       │\n",
       "│             ┆ 564711       ┆ /data/Sampl ┆ 05388398    ┆ 705189266   ┆             ┆             │\n",
       "│             ┆              ┆ eHDS.jso…   ┆             ┆             ┆             ┆             │\n",
       "│ 1.7275e19   ┆ 124424036889 ┆ ../../../.. ┆ 15331866792 ┆ 66538114941 ┆ 12561036712 ┆ false       │\n",
       "│             ┆ 564711       ┆ /data/Sampl ┆ 890720054   ┆ 34817397    ┆ 258206169   ┆             │\n",
       "│             ┆              ┆ eHDS.jso…   ┆             ┆             ┆             ┆             │\n",
       "└─────────────┴──────────────┴─────────────┴─────────────┴─────────────┴─────────────┴─────────────┘"
      ]
     },
     "execution_count": 5,
     "metadata": {},
     "output_type": "execute_result"
    }
   ],
   "source": [
    "anon.process()"
   ]
  },
  {
   "attachments": {},
   "cell_type": "markdown",
   "metadata": {},
   "source": [
    "To trace back the columns to their original names, the class also contains a mapping, which does not have to be provided."
   ]
  },
  {
   "cell_type": "code",
   "execution_count": 6,
   "metadata": {
    "execution": {
     "iopub.execute_input": "2024-06-25T13:55:01.406619Z",
     "iopub.status.busy": "2024-06-25T13:55:01.406264Z",
     "iopub.status.idle": "2024-06-25T13:55:01.410198Z",
     "shell.execute_reply": "2024-06-25T13:55:01.409748Z"
    }
   },
   "outputs": [
    {
     "data": {
      "text/plain": [
       "{'Customer_CLV': 'PREDICTOR_0',\n",
       " 'Customer_MaritalStatus': 'PREDICTOR_1',\n",
       " 'filename': 'filename',\n",
       " 'Customer_City': 'PREDICTOR_3',\n",
       " 'Context_Name': 'Context_Name',\n",
       " 'IH_Web_Inbound_Accepted_pxLastGroupID': 'IH_PREDICTOR_0',\n",
       " 'Decision_Outcome': 'Decision_Outcome'}"
      ]
     },
     "execution_count": 6,
     "metadata": {},
     "output_type": "execute_result"
    }
   ],
   "source": [
    "anon.column_mapping"
   ]
  },
  {
   "attachments": {},
   "cell_type": "markdown",
   "metadata": {},
   "source": [
    "## Configs\n",
    "\n",
    "Each capability can optionally be turned off - see below for the full list of config options, and refer to the API reference for the full description."
   ]
  },
  {
   "cell_type": "code",
   "execution_count": 7,
   "metadata": {
    "execution": {
     "iopub.execute_input": "2024-06-25T13:55:01.412244Z",
     "iopub.status.busy": "2024-06-25T13:55:01.411918Z",
     "iopub.status.idle": "2024-06-25T13:55:01.416232Z",
     "shell.execute_reply": "2024-06-25T13:55:01.415777Z"
    }
   },
   "outputs": [
    {
     "data": {
      "text/plain": [
       "{'config_file': None,\n",
       " 'hds_folder': '.',\n",
       " 'use_datamart': False,\n",
       " 'datamart_folder': 'datamart',\n",
       " 'output_format': 'ndjson',\n",
       " 'output_folder': 'output',\n",
       " 'mapping_file': 'mapping.map',\n",
       " 'mask_predictor_names': True,\n",
       " 'mask_context_key_names': False,\n",
       " 'mask_ih_names': True,\n",
       " 'mask_outcome_name': False,\n",
       " 'mask_predictor_values': True,\n",
       " 'mask_context_key_values': True,\n",
       " 'mask_ih_values': True,\n",
       " 'mask_outcome_values': True,\n",
       " 'context_key_label': 'Context_*',\n",
       " 'ih_label': 'IH_*',\n",
       " 'outcome_column': 'Decision_Outcome',\n",
       " 'positive_outcomes': ['Accepted', 'Clicked'],\n",
       " 'negative_outcomes': ['Rejected', 'Impression'],\n",
       " 'special_predictors': ['Decision_DecisionTime',\n",
       "  'Decision_OutcomeTime',\n",
       "  'Decision_Rank'],\n",
       " 'sample_percentage_schema_inferencing': 0.01}"
      ]
     },
     "execution_count": 7,
     "metadata": {},
     "output_type": "execute_result"
    }
   ],
   "source": [
    "dict(zip(Config.__init__.__code__.co_varnames[1:], Config.__init__.__defaults__))"
   ]
  },
  {
   "attachments": {},
   "cell_type": "markdown",
   "metadata": {},
   "source": [
    "It's easy to change these parameters by just passing the keyword arguments. In the following example, we\n",
    "- Keep the IH predictor names\n",
    "- Keep the outcome values\n",
    "- Keep the context key values\n",
    "- Keep the context key predictor names"
   ]
  },
  {
   "cell_type": "code",
   "execution_count": 8,
   "metadata": {
    "execution": {
     "iopub.execute_input": "2024-06-25T13:55:01.418226Z",
     "iopub.status.busy": "2024-06-25T13:55:01.417919Z",
     "iopub.status.idle": "2024-06-25T13:55:01.425951Z",
     "shell.execute_reply": "2024-06-25T13:55:01.425485Z"
    }
   },
   "outputs": [
    {
     "data": {
      "text/html": [
       "<div><style>\n",
       ".dataframe > thead > tr,\n",
       ".dataframe > tbody > tr {\n",
       "  text-align: right;\n",
       "  white-space: pre-wrap;\n",
       "}\n",
       "</style>\n",
       "<small>shape: (7, 7)</small><table border=\"1\" class=\"dataframe\"><thead><tr><th>PREDICTOR_0</th><th>PREDICTOR_1</th><th>filename</th><th>PREDICTOR_3</th><th>Context_Name</th><th>IH_Web_Inbound_Accepted_pxLastGroupID</th><th>Decision_Outcome</th></tr><tr><td>f64</td><td>str</td><td>str</td><td>str</td><td>str</td><td>str</td><td>str</td></tr></thead><tbody><tr><td>4.1575e18</td><td>&quot;3149480548280037146&quot;</td><td>&quot;../../../../data/SampleHDS.jso…</td><td>&quot;12542311172466509671&quot;</td><td>&quot;FirstMortgage30yr&quot;</td><td>&quot;7537064975952712641&quot;</td><td>&quot;Rejected&quot;</td></tr><tr><td>1.0652e19</td><td>&quot;11310407480535828497&quot;</td><td>&quot;../../../../data/SampleHDS.jso…</td><td>&quot;18316053974807194591&quot;</td><td>&quot;FirstMortgage30yr&quot;</td><td>&quot;7654035917377455166&quot;</td><td>&quot;Accepted&quot;</td></tr><tr><td>5.5470e18</td><td>&quot;1356614725612954196&quot;</td><td>&quot;../../../../data/SampleHDS.jso…</td><td>&quot;14844646775568122703&quot;</td><td>&quot;MoneyMarketSavingsAccount&quot;</td><td>&quot;7537064975952712641&quot;</td><td>&quot;Rejected&quot;</td></tr><tr><td>4.6315e18</td><td>&quot;11310407480535828497&quot;</td><td>&quot;../../../../data/SampleHDS.jso…</td><td>&quot;9845140509788936661&quot;</td><td>&quot;BasicChecking&quot;</td><td>&quot;7537064975952712641&quot;</td><td>&quot;Rejected&quot;</td></tr><tr><td>1.2390e19</td><td>&quot;3149480548280037146&quot;</td><td>&quot;../../../../data/SampleHDS.jso…</td><td>&quot;6334864336833586530&quot;</td><td>&quot;BasicChecking&quot;</td><td>&quot;6356063117451043038&quot;</td><td>&quot;Accepted&quot;</td></tr><tr><td>1.4595e19</td><td>&quot;1356614725612954196&quot;</td><td>&quot;../../../../data/SampleHDS.jso…</td><td>&quot;12273737014632098359&quot;</td><td>&quot;UPlusFinPersonal&quot;</td><td>null</td><td>&quot;Rejected&quot;</td></tr><tr><td>1.0791e19</td><td>&quot;1356614725612954196&quot;</td><td>&quot;../../../../data/SampleHDS.jso…</td><td>&quot;16925345986892011844&quot;</td><td>&quot;BasicChecking&quot;</td><td>&quot;6356063117451043038&quot;</td><td>&quot;Rejected&quot;</td></tr></tbody></table></div>"
      ],
      "text/plain": [
       "shape: (7, 7)\n",
       "┌─────────────┬──────────────┬─────────────┬─────────────┬─────────────┬─────────────┬─────────────┐\n",
       "│ PREDICTOR_0 ┆ PREDICTOR_1  ┆ filename    ┆ PREDICTOR_3 ┆ Context_Nam ┆ IH_Web_Inbo ┆ Decision_Ou │\n",
       "│ ---         ┆ ---          ┆ ---         ┆ ---         ┆ e           ┆ und_Accepte ┆ tcome       │\n",
       "│ f64         ┆ str          ┆ str         ┆ str         ┆ ---         ┆ d_pxLast…   ┆ ---         │\n",
       "│             ┆              ┆             ┆             ┆ str         ┆ ---         ┆ str         │\n",
       "│             ┆              ┆             ┆             ┆             ┆ str         ┆             │\n",
       "╞═════════════╪══════════════╪═════════════╪═════════════╪═════════════╪═════════════╪═════════════╡\n",
       "│ 4.1575e18   ┆ 314948054828 ┆ ../../../.. ┆ 12542311172 ┆ FirstMortga ┆ 75370649759 ┆ Rejected    │\n",
       "│             ┆ 0037146      ┆ /data/Sampl ┆ 466509671   ┆ ge30yr      ┆ 52712641    ┆             │\n",
       "│             ┆              ┆ eHDS.jso…   ┆             ┆             ┆             ┆             │\n",
       "│ 1.0652e19   ┆ 113104074805 ┆ ../../../.. ┆ 18316053974 ┆ FirstMortga ┆ 76540359173 ┆ Accepted    │\n",
       "│             ┆ 35828497     ┆ /data/Sampl ┆ 807194591   ┆ ge30yr      ┆ 77455166    ┆             │\n",
       "│             ┆              ┆ eHDS.jso…   ┆             ┆             ┆             ┆             │\n",
       "│ 5.5470e18   ┆ 135661472561 ┆ ../../../.. ┆ 14844646775 ┆ MoneyMarket ┆ 75370649759 ┆ Rejected    │\n",
       "│             ┆ 2954196      ┆ /data/Sampl ┆ 568122703   ┆ SavingsAcco ┆ 52712641    ┆             │\n",
       "│             ┆              ┆ eHDS.jso…   ┆             ┆ unt         ┆             ┆             │\n",
       "│ 4.6315e18   ┆ 113104074805 ┆ ../../../.. ┆ 98451405097 ┆ BasicChecki ┆ 75370649759 ┆ Rejected    │\n",
       "│             ┆ 35828497     ┆ /data/Sampl ┆ 88936661    ┆ ng          ┆ 52712641    ┆             │\n",
       "│             ┆              ┆ eHDS.jso…   ┆             ┆             ┆             ┆             │\n",
       "│ 1.2390e19   ┆ 314948054828 ┆ ../../../.. ┆ 63348643368 ┆ BasicChecki ┆ 63560631174 ┆ Accepted    │\n",
       "│             ┆ 0037146      ┆ /data/Sampl ┆ 33586530    ┆ ng          ┆ 51043038    ┆             │\n",
       "│             ┆              ┆ eHDS.jso…   ┆             ┆             ┆             ┆             │\n",
       "│ 1.4595e19   ┆ 135661472561 ┆ ../../../.. ┆ 12273737014 ┆ UPlusFinPer ┆ null        ┆ Rejected    │\n",
       "│             ┆ 2954196      ┆ /data/Sampl ┆ 632098359   ┆ sonal       ┆             ┆             │\n",
       "│             ┆              ┆ eHDS.jso…   ┆             ┆             ┆             ┆             │\n",
       "│ 1.0791e19   ┆ 135661472561 ┆ ../../../.. ┆ 16925345986 ┆ BasicChecki ┆ 63560631174 ┆ Rejected    │\n",
       "│             ┆ 2954196      ┆ /data/Sampl ┆ 892011844   ┆ ng          ┆ 51043038    ┆             │\n",
       "│             ┆              ┆ eHDS.jso…   ┆             ┆             ┆             ┆             │\n",
       "└─────────────┴──────────────┴─────────────┴─────────────┴─────────────┴─────────────┴─────────────┘"
      ]
     },
     "execution_count": 8,
     "metadata": {},
     "output_type": "execute_result"
    }
   ],
   "source": [
    "anon = DataAnonymization(\n",
    "    hds_folder=\"../../../../data/\",\n",
    "    mask_ih_names=False,\n",
    "    mask_outcome_values=False,\n",
    "    mask_context_key_values=False,\n",
    "    mask_context_key_names=False,\n",
    ")\n",
    "anon.process()\n"
   ]
  },
  {
   "attachments": {},
   "cell_type": "markdown",
   "metadata": {},
   "source": [
    "The configs can also be written and read as such:"
   ]
  },
  {
   "cell_type": "code",
   "execution_count": 9,
   "metadata": {
    "execution": {
     "iopub.execute_input": "2024-06-25T13:55:01.428051Z",
     "iopub.status.busy": "2024-06-25T13:55:01.427698Z",
     "iopub.status.idle": "2024-06-25T13:55:01.430546Z",
     "shell.execute_reply": "2024-06-25T13:55:01.430126Z"
    }
   },
   "outputs": [],
   "source": [
    "anon.config.save_to_config_file('config.json')"
   ]
  },
  {
   "cell_type": "code",
   "execution_count": 10,
   "metadata": {
    "execution": {
     "iopub.execute_input": "2024-06-25T13:55:01.432478Z",
     "iopub.status.busy": "2024-06-25T13:55:01.432188Z",
     "iopub.status.idle": "2024-06-25T13:55:01.439966Z",
     "shell.execute_reply": "2024-06-25T13:55:01.439449Z"
    }
   },
   "outputs": [
    {
     "data": {
      "text/html": [
       "<div><style>\n",
       ".dataframe > thead > tr,\n",
       ".dataframe > tbody > tr {\n",
       "  text-align: right;\n",
       "  white-space: pre-wrap;\n",
       "}\n",
       "</style>\n",
       "<small>shape: (7, 7)</small><table border=\"1\" class=\"dataframe\"><thead><tr><th>PREDICTOR_0</th><th>PREDICTOR_1</th><th>filename</th><th>PREDICTOR_3</th><th>Context_Name</th><th>IH_Web_Inbound_Accepted_pxLastGroupID</th><th>Decision_Outcome</th></tr><tr><td>f64</td><td>str</td><td>str</td><td>str</td><td>str</td><td>str</td><td>str</td></tr></thead><tbody><tr><td>7.0761e18</td><td>&quot;2361789810396253517&quot;</td><td>&quot;../../../../data/SampleHDS.jso…</td><td>&quot;16686285685172645345&quot;</td><td>&quot;FirstMortgage30yr&quot;</td><td>&quot;17004409338086296404&quot;</td><td>&quot;Rejected&quot;</td></tr><tr><td>1.5205e19</td><td>&quot;11018414291457401949&quot;</td><td>&quot;../../../../data/SampleHDS.jso…</td><td>&quot;11817370619844815542&quot;</td><td>&quot;FirstMortgage30yr&quot;</td><td>&quot;10843666827130830215&quot;</td><td>&quot;Accepted&quot;</td></tr><tr><td>1.1905e19</td><td>&quot;18401597918455725878&quot;</td><td>&quot;../../../../data/SampleHDS.jso…</td><td>&quot;6559103365435694694&quot;</td><td>&quot;MoneyMarketSavingsAccount&quot;</td><td>&quot;17004409338086296404&quot;</td><td>&quot;Rejected&quot;</td></tr><tr><td>1.5686e18</td><td>&quot;11018414291457401949&quot;</td><td>&quot;../../../../data/SampleHDS.jso…</td><td>&quot;9797982355271122390&quot;</td><td>&quot;BasicChecking&quot;</td><td>&quot;17004409338086296404&quot;</td><td>&quot;Rejected&quot;</td></tr><tr><td>1.0127e18</td><td>&quot;2361789810396253517&quot;</td><td>&quot;../../../../data/SampleHDS.jso…</td><td>&quot;4586214043502800528&quot;</td><td>&quot;BasicChecking&quot;</td><td>&quot;18051879944344772158&quot;</td><td>&quot;Accepted&quot;</td></tr><tr><td>1.7640e19</td><td>&quot;18401597918455725878&quot;</td><td>&quot;../../../../data/SampleHDS.jso…</td><td>&quot;14266600082600006176&quot;</td><td>&quot;UPlusFinPersonal&quot;</td><td>null</td><td>&quot;Rejected&quot;</td></tr><tr><td>6.1390e18</td><td>&quot;18401597918455725878&quot;</td><td>&quot;../../../../data/SampleHDS.jso…</td><td>&quot;10471941183013278126&quot;</td><td>&quot;BasicChecking&quot;</td><td>&quot;18051879944344772158&quot;</td><td>&quot;Rejected&quot;</td></tr></tbody></table></div>"
      ],
      "text/plain": [
       "shape: (7, 7)\n",
       "┌─────────────┬──────────────┬─────────────┬─────────────┬─────────────┬─────────────┬─────────────┐\n",
       "│ PREDICTOR_0 ┆ PREDICTOR_1  ┆ filename    ┆ PREDICTOR_3 ┆ Context_Nam ┆ IH_Web_Inbo ┆ Decision_Ou │\n",
       "│ ---         ┆ ---          ┆ ---         ┆ ---         ┆ e           ┆ und_Accepte ┆ tcome       │\n",
       "│ f64         ┆ str          ┆ str         ┆ str         ┆ ---         ┆ d_pxLast…   ┆ ---         │\n",
       "│             ┆              ┆             ┆             ┆ str         ┆ ---         ┆ str         │\n",
       "│             ┆              ┆             ┆             ┆             ┆ str         ┆             │\n",
       "╞═════════════╪══════════════╪═════════════╪═════════════╪═════════════╪═════════════╪═════════════╡\n",
       "│ 7.0761e18   ┆ 236178981039 ┆ ../../../.. ┆ 16686285685 ┆ FirstMortga ┆ 17004409338 ┆ Rejected    │\n",
       "│             ┆ 6253517      ┆ /data/Sampl ┆ 172645345   ┆ ge30yr      ┆ 086296404   ┆             │\n",
       "│             ┆              ┆ eHDS.jso…   ┆             ┆             ┆             ┆             │\n",
       "│ 1.5205e19   ┆ 110184142914 ┆ ../../../.. ┆ 11817370619 ┆ FirstMortga ┆ 10843666827 ┆ Accepted    │\n",
       "│             ┆ 57401949     ┆ /data/Sampl ┆ 844815542   ┆ ge30yr      ┆ 130830215   ┆             │\n",
       "│             ┆              ┆ eHDS.jso…   ┆             ┆             ┆             ┆             │\n",
       "│ 1.1905e19   ┆ 184015979184 ┆ ../../../.. ┆ 65591033654 ┆ MoneyMarket ┆ 17004409338 ┆ Rejected    │\n",
       "│             ┆ 55725878     ┆ /data/Sampl ┆ 35694694    ┆ SavingsAcco ┆ 086296404   ┆             │\n",
       "│             ┆              ┆ eHDS.jso…   ┆             ┆ unt         ┆             ┆             │\n",
       "│ 1.5686e18   ┆ 110184142914 ┆ ../../../.. ┆ 97979823552 ┆ BasicChecki ┆ 17004409338 ┆ Rejected    │\n",
       "│             ┆ 57401949     ┆ /data/Sampl ┆ 71122390    ┆ ng          ┆ 086296404   ┆             │\n",
       "│             ┆              ┆ eHDS.jso…   ┆             ┆             ┆             ┆             │\n",
       "│ 1.0127e18   ┆ 236178981039 ┆ ../../../.. ┆ 45862140435 ┆ BasicChecki ┆ 18051879944 ┆ Accepted    │\n",
       "│             ┆ 6253517      ┆ /data/Sampl ┆ 02800528    ┆ ng          ┆ 344772158   ┆             │\n",
       "│             ┆              ┆ eHDS.jso…   ┆             ┆             ┆             ┆             │\n",
       "│ 1.7640e19   ┆ 184015979184 ┆ ../../../.. ┆ 14266600082 ┆ UPlusFinPer ┆ null        ┆ Rejected    │\n",
       "│             ┆ 55725878     ┆ /data/Sampl ┆ 600006176   ┆ sonal       ┆             ┆             │\n",
       "│             ┆              ┆ eHDS.jso…   ┆             ┆             ┆             ┆             │\n",
       "│ 6.1390e18   ┆ 184015979184 ┆ ../../../.. ┆ 10471941183 ┆ BasicChecki ┆ 18051879944 ┆ Rejected    │\n",
       "│             ┆ 55725878     ┆ /data/Sampl ┆ 013278126   ┆ ng          ┆ 344772158   ┆             │\n",
       "│             ┆              ┆ eHDS.jso…   ┆             ┆             ┆             ┆             │\n",
       "└─────────────┴──────────────┴─────────────┴─────────────┴─────────────┴─────────────┴─────────────┘"
      ]
     },
     "execution_count": 10,
     "metadata": {},
     "output_type": "execute_result"
    }
   ],
   "source": [
    "anon = DataAnonymization(config=Config(config_file='config.json'))\n",
    "anon.process()"
   ]
  },
  {
   "attachments": {},
   "cell_type": "markdown",
   "metadata": {},
   "source": [
    "## Exporting\n",
    "Two functions export:\n",
    "- `create_mapping_file()` writes the mapping file of the predictor names\n",
    "- `write_to_output()` writes the processed dataframe to disk\n",
    "\n",
    "Write to output accepts the following extensions: `[\"ndjson\", \"parquet\", \"arrow\", \"csv\"]`"
   ]
  },
  {
   "cell_type": "code",
   "execution_count": 11,
   "metadata": {
    "execution": {
     "iopub.execute_input": "2024-06-25T13:55:01.442180Z",
     "iopub.status.busy": "2024-06-25T13:55:01.441869Z",
     "iopub.status.idle": "2024-06-25T13:55:01.445637Z",
     "shell.execute_reply": "2024-06-25T13:55:01.445146Z"
    }
   },
   "outputs": [
    {
     "name": "stdout",
     "output_type": "stream",
     "text": [
      "Customer_CLV=PREDICTOR_0\n",
      "Customer_MaritalStatus=PREDICTOR_1\n",
      "filename=filename\n",
      "Customer_City=PREDICTOR_3\n",
      "Context_Name=Context_Name\n",
      "IH_Web_Inbound_Accepted_pxLastGroupID=IH_Web_Inbound_Accepted_pxLastGroupID\n",
      "Decision_Outcome=Decision_Outcome\n",
      "\n"
     ]
    }
   ],
   "source": [
    "anon.create_mapping_file()\n",
    "with open('mapping.map') as f:\n",
    "    print(f.read())"
   ]
  },
  {
   "cell_type": "code",
   "execution_count": 12,
   "metadata": {
    "execution": {
     "iopub.execute_input": "2024-06-25T13:55:01.447796Z",
     "iopub.status.busy": "2024-06-25T13:55:01.447411Z",
     "iopub.status.idle": "2024-06-25T13:55:01.451172Z",
     "shell.execute_reply": "2024-06-25T13:55:01.450647Z"
    }
   },
   "outputs": [],
   "source": [
    "anon.write_to_output(ext='arrow')"
   ]
  },
  {
   "cell_type": "code",
   "execution_count": 13,
   "metadata": {
    "execution": {
     "iopub.execute_input": "2024-06-25T13:55:01.453227Z",
     "iopub.status.busy": "2024-06-25T13:55:01.452912Z",
     "iopub.status.idle": "2024-06-25T13:55:01.457517Z",
     "shell.execute_reply": "2024-06-25T13:55:01.457062Z"
    }
   },
   "outputs": [
    {
     "data": {
      "text/html": [
       "<div><style>\n",
       ".dataframe > thead > tr,\n",
       ".dataframe > tbody > tr {\n",
       "  text-align: right;\n",
       "  white-space: pre-wrap;\n",
       "}\n",
       "</style>\n",
       "<small>shape: (7, 6)</small><table border=\"1\" class=\"dataframe\"><thead><tr><th>PREDICTOR_0</th><th>PREDICTOR_1</th><th>PREDICTOR_3</th><th>Context_Name</th><th>IH_Web_Inbound_Accepted_pxLastGroupID</th><th>Decision_Outcome</th></tr><tr><td>f64</td><td>str</td><td>str</td><td>str</td><td>str</td><td>str</td></tr></thead><tbody><tr><td>1.5003e19</td><td>&quot;1870649273708989239&quot;</td><td>&quot;6209286911328173376&quot;</td><td>&quot;FirstMortgage30yr&quot;</td><td>&quot;7122172208037088876&quot;</td><td>&quot;Rejected&quot;</td></tr><tr><td>1.2415e19</td><td>&quot;9001570458728140908&quot;</td><td>&quot;276917953509087066&quot;</td><td>&quot;FirstMortgage30yr&quot;</td><td>&quot;2146275036002471067&quot;</td><td>&quot;Accepted&quot;</td></tr><tr><td>1.0503e19</td><td>&quot;2843121096913309995&quot;</td><td>&quot;1132895760759646637&quot;</td><td>&quot;MoneyMarketSavingsAccount&quot;</td><td>&quot;7122172208037088876&quot;</td><td>&quot;Rejected&quot;</td></tr><tr><td>1.8260e18</td><td>&quot;9001570458728140908&quot;</td><td>&quot;17906048586114904262&quot;</td><td>&quot;BasicChecking&quot;</td><td>&quot;7122172208037088876&quot;</td><td>&quot;Rejected&quot;</td></tr><tr><td>3.2928e18</td><td>&quot;1870649273708989239&quot;</td><td>&quot;17786880851547946247&quot;</td><td>&quot;BasicChecking&quot;</td><td>&quot;12475166319505016758&quot;</td><td>&quot;Accepted&quot;</td></tr><tr><td>1.4119e19</td><td>&quot;2843121096913309995&quot;</td><td>&quot;3763817651507268451&quot;</td><td>&quot;UPlusFinPersonal&quot;</td><td>null</td><td>&quot;Rejected&quot;</td></tr><tr><td>7.1352e18</td><td>&quot;2843121096913309995&quot;</td><td>&quot;1781521713842737451&quot;</td><td>&quot;BasicChecking&quot;</td><td>&quot;12475166319505016758&quot;</td><td>&quot;Rejected&quot;</td></tr></tbody></table></div>"
      ],
      "text/plain": [
       "shape: (7, 6)\n",
       "┌─────────────┬────────────────┬────────────────┬────────────────┬────────────────┬────────────────┐\n",
       "│ PREDICTOR_0 ┆ PREDICTOR_1    ┆ PREDICTOR_3    ┆ Context_Name   ┆ IH_Web_Inbound ┆ Decision_Outco │\n",
       "│ ---         ┆ ---            ┆ ---            ┆ ---            ┆ _Accepted_pxLa ┆ me             │\n",
       "│ f64         ┆ str            ┆ str            ┆ str            ┆ st…            ┆ ---            │\n",
       "│             ┆                ┆                ┆                ┆ ---            ┆ str            │\n",
       "│             ┆                ┆                ┆                ┆ str            ┆                │\n",
       "╞═════════════╪════════════════╪════════════════╪════════════════╪════════════════╪════════════════╡\n",
       "│ 1.5003e19   ┆ 18706492737089 ┆ 62092869113281 ┆ FirstMortgage3 ┆ 71221722080370 ┆ Rejected       │\n",
       "│             ┆ 89239          ┆ 73376          ┆ 0yr            ┆ 88876          ┆                │\n",
       "│ 1.2415e19   ┆ 90015704587281 ┆ 27691795350908 ┆ FirstMortgage3 ┆ 21462750360024 ┆ Accepted       │\n",
       "│             ┆ 40908          ┆ 7066           ┆ 0yr            ┆ 71067          ┆                │\n",
       "│ 1.0503e19   ┆ 28431210969133 ┆ 11328957607596 ┆ MoneyMarketSav ┆ 71221722080370 ┆ Rejected       │\n",
       "│             ┆ 09995          ┆ 46637          ┆ ingsAccount    ┆ 88876          ┆                │\n",
       "│ 1.8260e18   ┆ 90015704587281 ┆ 17906048586114 ┆ BasicChecking  ┆ 71221722080370 ┆ Rejected       │\n",
       "│             ┆ 40908          ┆ 904262         ┆                ┆ 88876          ┆                │\n",
       "│ 3.2928e18   ┆ 18706492737089 ┆ 17786880851547 ┆ BasicChecking  ┆ 12475166319505 ┆ Accepted       │\n",
       "│             ┆ 89239          ┆ 946247         ┆                ┆ 016758         ┆                │\n",
       "│ 1.4119e19   ┆ 28431210969133 ┆ 37638176515072 ┆ UPlusFinPerson ┆ null           ┆ Rejected       │\n",
       "│             ┆ 09995          ┆ 68451          ┆ al             ┆                ┆                │\n",
       "│ 7.1352e18   ┆ 28431210969133 ┆ 17815217138427 ┆ BasicChecking  ┆ 12475166319505 ┆ Rejected       │\n",
       "│             ┆ 09995          ┆ 37451          ┆                ┆ 016758         ┆                │\n",
       "└─────────────┴────────────────┴────────────────┴────────────────┴────────────────┴────────────────┘"
      ]
     },
     "execution_count": 13,
     "metadata": {},
     "output_type": "execute_result"
    }
   ],
   "source": [
    "pl.read_ipc('output/hds.arrow')"
   ]
  },
  {
   "attachments": {},
   "cell_type": "markdown",
   "metadata": {
    "nbsphinx": "hidden"
   },
   "source": [
    "## Advanced: Hash fuctions\n",
    "\n",
    "By default, we use [the same hashing algorithm Polars](https://pola-rs.github.io/polars/py-polars/html/reference/expressions/api/polars.Expr.hash.html#polars.Expr.hash) uses: [xxhash](https://github.com/Cyan4973/xxHash), as implemented [here](https://github.com/pola-rs/polars/blob/3f287f370b3c388ed2f3f218b2c096382548136f/polars/polars-core/src/vector_hasher.rs#L266). xxhash is fast to compute, and you can check its performance in collision, dispersion and randomness [here](https://github.com/Cyan4973/xxHash/tree/dev/tests). \n",
    "\n",
    "xxhash accepts four distinct seeds, but by default we set the seeds to `0`. It is possible to set the `seed` argument of the `process()` function to `'random'`, which will set all four seeds to a random integer between `0` and `1000000000`. Alternatively, it is possible to supply the four seeds manually with arguments `seed`, `seed_1`, `seed_2` and `seed_3`. \n",
    "\n",
    "If the xxhash with (random) seed(s) is not deemed sufficiently secure, it is possible to use your own hashing algorithm.\n",
    "\n",
    "Note that since we're now running python code and not native Polars code anymore, this will be _significantly_ slower. Nonetheless, it is possible.\n",
    "\n",
    "Just as an example - this is how one would use sha3_256:"
   ]
  },
  {
   "cell_type": "code",
   "execution_count": 14,
   "metadata": {
    "execution": {
     "iopub.execute_input": "2024-06-25T13:55:01.459585Z",
     "iopub.status.busy": "2024-06-25T13:55:01.459274Z",
     "iopub.status.idle": "2024-06-25T13:55:01.792152Z",
     "shell.execute_reply": "2024-06-25T13:55:01.791564Z"
    },
    "nbsphinx": "hidden"
   },
   "outputs": [
    {
     "name": "stderr",
     "output_type": "stream",
     "text": [
      "sys:1: MapWithoutReturnDtypeWarning:\n",
      "\n",
      "Calling `map_elements` without specifying `return_dtype` can lead to unpredictable results. Specify `return_dtype` to silence this warning.\n",
      "\n",
      "sys:1: MapWithoutReturnDtypeWarning:\n",
      "\n",
      "Calling `map_elements` without specifying `return_dtype` can lead to unpredictable results. Specify `return_dtype` to silence this warning.\n",
      "\n",
      "sys:1: MapWithoutReturnDtypeWarning:\n",
      "\n",
      "Calling `map_elements` without specifying `return_dtype` can lead to unpredictable results. Specify `return_dtype` to silence this warning.\n",
      "\n",
      "sys:1: MapWithoutReturnDtypeWarning:\n",
      "\n",
      "Calling `map_elements` without specifying `return_dtype` can lead to unpredictable results. Specify `return_dtype` to silence this warning.\n",
      "\n"
     ]
    },
    {
     "ename": "ComputeError",
     "evalue": "AttributeError: 'int' object has no attribute 'encode'",
     "output_type": "error",
     "traceback": [
      "\u001b[0;31m---------------------------------------------------------------------------\u001b[0m",
      "\u001b[0;31mComputeError\u001b[0m                              Traceback (most recent call last)",
      "Cell \u001b[0;32mIn[14], line 3\u001b[0m\n\u001b[1;32m      1\u001b[0m \u001b[38;5;28;01mfrom\u001b[39;00m \u001b[38;5;21;01mhashlib\u001b[39;00m \u001b[38;5;28;01mimport\u001b[39;00m sha3_256\n\u001b[0;32m----> 3\u001b[0m \u001b[43manon\u001b[49m\u001b[38;5;241;43m.\u001b[39;49m\u001b[43mprocess\u001b[49m\u001b[43m(\u001b[49m\u001b[43malgorithm\u001b[49m\u001b[38;5;241;43m=\u001b[39;49m\u001b[38;5;28;43;01mlambda\u001b[39;49;00m\u001b[43m \u001b[49m\u001b[43mx\u001b[49m\u001b[43m:\u001b[49m\u001b[43m \u001b[49m\u001b[43msha3_256\u001b[49m\u001b[43m(\u001b[49m\u001b[43mx\u001b[49m\u001b[38;5;241;43m.\u001b[39;49m\u001b[43mencode\u001b[49m\u001b[43m(\u001b[49m\u001b[43m)\u001b[49m\u001b[43m)\u001b[49m\u001b[38;5;241;43m.\u001b[39;49m\u001b[43mhexdigest\u001b[49m\u001b[43m(\u001b[49m\u001b[43m)\u001b[49m\u001b[43m)\u001b[49m\n",
      "File \u001b[0;32m~/work/pega-datascientist-tools/pega-datascientist-tools/python/docs/source/articles/../../../pdstools/utils/hds_utils.py:512\u001b[0m, in \u001b[0;36mDataAnonymization.process\u001b[0;34m(self, strategy, **kwargs)\u001b[0m\n\u001b[1;32m    510\u001b[0m df \u001b[38;5;241m=\u001b[39m df\u001b[38;5;241m.\u001b[39mselect(\u001b[38;5;28mself\u001b[39m\u001b[38;5;241m.\u001b[39mcolumn_mapping\u001b[38;5;241m.\u001b[39mkeys())\u001b[38;5;241m.\u001b[39mrename(\u001b[38;5;28mself\u001b[39m\u001b[38;5;241m.\u001b[39mcolumn_mapping)\n\u001b[1;32m    511\u001b[0m \u001b[38;5;28;01mif\u001b[39;00m strategy \u001b[38;5;241m==\u001b[39m \u001b[38;5;124m\"\u001b[39m\u001b[38;5;124meager\u001b[39m\u001b[38;5;124m\"\u001b[39m:\n\u001b[0;32m--> 512\u001b[0m     \u001b[38;5;28;01mreturn\u001b[39;00m \u001b[43mdf\u001b[49m\u001b[38;5;241;43m.\u001b[39;49m\u001b[43mcollect\u001b[49m\u001b[43m(\u001b[49m\u001b[43m)\u001b[49m\n\u001b[1;32m    513\u001b[0m \u001b[38;5;28;01mreturn\u001b[39;00m df\n",
      "File \u001b[0;32m/opt/hostedtoolcache/Python/3.11.9/x64/lib/python3.11/site-packages/polars/lazyframe/frame.py:1967\u001b[0m, in \u001b[0;36mLazyFrame.collect\u001b[0;34m(self, type_coercion, predicate_pushdown, projection_pushdown, simplify_expression, slice_pushdown, comm_subplan_elim, comm_subexpr_elim, cluster_with_columns, no_optimization, streaming, background, _eager, **_kwargs)\u001b[0m\n\u001b[1;32m   1964\u001b[0m \u001b[38;5;66;03m# Only for testing purposes atm.\u001b[39;00m\n\u001b[1;32m   1965\u001b[0m callback \u001b[38;5;241m=\u001b[39m _kwargs\u001b[38;5;241m.\u001b[39mget(\u001b[38;5;124m\"\u001b[39m\u001b[38;5;124mpost_opt_callback\u001b[39m\u001b[38;5;124m\"\u001b[39m)\n\u001b[0;32m-> 1967\u001b[0m \u001b[38;5;28;01mreturn\u001b[39;00m wrap_df(\u001b[43mldf\u001b[49m\u001b[38;5;241;43m.\u001b[39;49m\u001b[43mcollect\u001b[49m\u001b[43m(\u001b[49m\u001b[43mcallback\u001b[49m\u001b[43m)\u001b[49m)\n",
      "\u001b[0;31mComputeError\u001b[0m: AttributeError: 'int' object has no attribute 'encode'"
     ]
    }
   ],
   "source": [
    "from hashlib import sha3_256\n",
    "\n",
    "anon.process(algorithm=lambda x: sha3_256(x.encode()).hexdigest())"
   ]
  }
 ],
 "metadata": {
  "kernelspec": {
   "display_name": "Python 3",
   "language": "python",
   "name": "python3"
  },
  "language_info": {
   "codemirror_mode": {
    "name": "ipython",
    "version": 3
   },
   "file_extension": ".py",
   "mimetype": "text/x-python",
   "name": "python",
   "nbconvert_exporter": "python",
   "pygments_lexer": "ipython3",
   "version": "3.11.9"
  },
  "vscode": {
   "interpreter": {
    "hash": "aee8b7b246df8f9039afb4144a1f6fd8d2ca17a180786b69acc140d282b71a49"
   }
  }
 },
 "nbformat": 4,
 "nbformat_minor": 2
}
