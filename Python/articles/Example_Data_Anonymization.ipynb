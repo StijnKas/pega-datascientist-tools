{
 "cells": [
  {
   "attachments": {},
   "cell_type": "markdown",
   "metadata": {},
   "source": [
    "# Data Anonymization\n",
    "\n",
    "In Pega CDH 8.5 and up, it's now possible to record the historical data as seen by the Adaptive Models. See [this academy challenge](https://academy.pega.com/challenge/exporting-historical-data/v4) for reference. This historical data can be further used to experiment with offline models, but also to fine-tune the OOTB Gradient Boosting model. However, sharing this information with Pega can be sensitive as it contains raw predictor data. \n",
    "\n",
    "To this end, we provide a simple and transparent script to fully anonimize this dataset.\n",
    "\n",
    "The DataAnonymization script is now part of pdstools, and you can import it directly as such."
   ]
  },
  {
   "cell_type": "code",
   "execution_count": 1,
   "metadata": {
    "execution": {
     "iopub.execute_input": "2024-08-29T15:50:03.006883Z",
     "iopub.status.busy": "2024-08-29T15:50:03.006712Z",
     "iopub.status.idle": "2024-08-29T15:50:03.080996Z",
     "shell.execute_reply": "2024-08-29T15:50:03.080371Z"
    },
    "nbsphinx": "hidden"
   },
   "outputs": [],
   "source": [
    "# These lines are only for rendering in the docs, and are hidden through Jupyter tags\n",
    "# Do not run if you're running the notebook seperately\n",
    "\n",
    "import os  \n",
    "import sys\n",
    "import plotly.io as pio\n",
    "pio.renderers.default = \"notebook_connected\"\n",
    "\n",
    "sys.path.append(\"../../../\")\n",
    "sys.path.append('../../python')"
   ]
  },
  {
   "cell_type": "code",
   "execution_count": 2,
   "metadata": {
    "execution": {
     "iopub.execute_input": "2024-08-29T15:50:03.083629Z",
     "iopub.status.busy": "2024-08-29T15:50:03.083445Z",
     "iopub.status.idle": "2024-08-29T15:50:04.160528Z",
     "shell.execute_reply": "2024-08-29T15:50:04.160019Z"
    }
   },
   "outputs": [],
   "source": [
    "from pdstools import ADMDatamart\n",
    "from pdstools import Config, DataAnonymization\n",
    "import polars as pl"
   ]
  },
  {
   "attachments": {},
   "cell_type": "markdown",
   "metadata": {},
   "source": [
    "## Input data\n",
    "\n",
    "To demonstrate this process, we're going to anonymise this toy example dataframe:"
   ]
  },
  {
   "cell_type": "code",
   "execution_count": 3,
   "metadata": {
    "execution": {
     "iopub.execute_input": "2024-08-29T15:50:04.163092Z",
     "iopub.status.busy": "2024-08-29T15:50:04.162613Z",
     "iopub.status.idle": "2024-08-29T15:50:04.171096Z",
     "shell.execute_reply": "2024-08-29T15:50:04.170548Z"
    }
   },
   "outputs": [
    {
     "data": {
      "text/html": [
       "<div><style>\n",
       ".dataframe > thead > tr,\n",
       ".dataframe > tbody > tr {\n",
       "  text-align: right;\n",
       "  white-space: pre-wrap;\n",
       "}\n",
       "</style>\n",
       "<small>shape: (7, 6)</small><table border=\"1\" class=\"dataframe\"><thead><tr><th>Context_Name</th><th>Customer_MaritalStatus</th><th>Customer_CLV</th><th>Customer_City</th><th>IH_Web_Inbound_Accepted_pxLastGroupID</th><th>Decision_Outcome</th></tr><tr><td>str</td><td>str</td><td>i64</td><td>str</td><td>str</td><td>str</td></tr></thead><tbody><tr><td>&quot;FirstMortgage30yr&quot;</td><td>&quot;Married&quot;</td><td>1460</td><td>&quot;Port Raoul&quot;</td><td>&quot;Account&quot;</td><td>&quot;Rejected&quot;</td></tr><tr><td>&quot;FirstMortgage30yr&quot;</td><td>&quot;Unknown&quot;</td><td>669</td><td>&quot;Laurianneshire&quot;</td><td>&quot;AutoLoans&quot;</td><td>&quot;Accepted&quot;</td></tr><tr><td>&quot;MoneyMarketSavingsAccount&quot;</td><td>&quot;No Resp+&quot;</td><td>1174</td><td>&quot;Jacobshaven&quot;</td><td>&quot;Account&quot;</td><td>&quot;Rejected&quot;</td></tr><tr><td>&quot;BasicChecking&quot;</td><td>&quot;Unknown&quot;</td><td>1476</td><td>&quot;Lindton&quot;</td><td>&quot;Account&quot;</td><td>&quot;Rejected&quot;</td></tr><tr><td>&quot;BasicChecking&quot;</td><td>&quot;Married&quot;</td><td>1211</td><td>&quot;South Jimmieshire&quot;</td><td>&quot;DepositAccounts&quot;</td><td>&quot;Accepted&quot;</td></tr><tr><td>&quot;UPlusFinPersonal&quot;</td><td>&quot;No Resp+&quot;</td><td>533</td><td>&quot;Bergeville&quot;</td><td>null</td><td>&quot;Rejected&quot;</td></tr><tr><td>&quot;BasicChecking&quot;</td><td>&quot;No Resp+&quot;</td><td>555</td><td>&quot;Willyville&quot;</td><td>&quot;DepositAccounts&quot;</td><td>&quot;Rejected&quot;</td></tr></tbody></table></div>"
      ],
      "text/plain": [
       "shape: (7, 6)\n",
       "┌────────────────┬────────────────┬──────────────┬────────────────┬────────────────┬───────────────┐\n",
       "│ Context_Name   ┆ Customer_Marit ┆ Customer_CLV ┆ Customer_City  ┆ IH_Web_Inbound ┆ Decision_Outc │\n",
       "│ ---            ┆ alStatus       ┆ ---          ┆ ---            ┆ _Accepted_pxLa ┆ ome           │\n",
       "│ str            ┆ ---            ┆ i64          ┆ str            ┆ st…            ┆ ---           │\n",
       "│                ┆ str            ┆              ┆                ┆ ---            ┆ str           │\n",
       "│                ┆                ┆              ┆                ┆ str            ┆               │\n",
       "╞════════════════╪════════════════╪══════════════╪════════════════╪════════════════╪═══════════════╡\n",
       "│ FirstMortgage3 ┆ Married        ┆ 1460         ┆ Port Raoul     ┆ Account        ┆ Rejected      │\n",
       "│ 0yr            ┆                ┆              ┆                ┆                ┆               │\n",
       "│ FirstMortgage3 ┆ Unknown        ┆ 669          ┆ Laurianneshire ┆ AutoLoans      ┆ Accepted      │\n",
       "│ 0yr            ┆                ┆              ┆                ┆                ┆               │\n",
       "│ MoneyMarketSav ┆ No Resp+       ┆ 1174         ┆ Jacobshaven    ┆ Account        ┆ Rejected      │\n",
       "│ ingsAccount    ┆                ┆              ┆                ┆                ┆               │\n",
       "│ BasicChecking  ┆ Unknown        ┆ 1476         ┆ Lindton        ┆ Account        ┆ Rejected      │\n",
       "│ BasicChecking  ┆ Married        ┆ 1211         ┆ South          ┆ DepositAccount ┆ Accepted      │\n",
       "│                ┆                ┆              ┆ Jimmieshire    ┆ s              ┆               │\n",
       "│ UPlusFinPerson ┆ No Resp+       ┆ 533          ┆ Bergeville     ┆ null           ┆ Rejected      │\n",
       "│ al             ┆                ┆              ┆                ┆                ┆               │\n",
       "│ BasicChecking  ┆ No Resp+       ┆ 555          ┆ Willyville     ┆ DepositAccount ┆ Rejected      │\n",
       "│                ┆                ┆              ┆                ┆ s              ┆               │\n",
       "└────────────────┴────────────────┴──────────────┴────────────────┴────────────────┴───────────────┘"
      ]
     },
     "execution_count": 3,
     "metadata": {},
     "output_type": "execute_result"
    }
   ],
   "source": [
    "pl.read_ndjson('../../../../data/SampleHDS.json')"
   ]
  },
  {
   "attachments": {},
   "cell_type": "markdown",
   "metadata": {},
   "source": [
    "As you can see, this dataset consists of regular predictors, IH predictors, context keys and the outcome column. Additionally, some columns are numeric, others are strings. Let's first initialize the DataAnonymization class."
   ]
  },
  {
   "cell_type": "code",
   "execution_count": 4,
   "metadata": {
    "execution": {
     "iopub.execute_input": "2024-08-29T15:50:04.173324Z",
     "iopub.status.busy": "2024-08-29T15:50:04.172997Z",
     "iopub.status.idle": "2024-08-29T15:50:04.182341Z",
     "shell.execute_reply": "2024-08-29T15:50:04.181931Z"
    }
   },
   "outputs": [],
   "source": [
    "anon = DataAnonymization(hds_folder='../../../../data/')"
   ]
  },
  {
   "attachments": {},
   "cell_type": "markdown",
   "metadata": {},
   "source": [
    "By default, the class applies a set of anonymisation techniques:\n",
    "- Column names are remapped to a non-descriptive name\n",
    "- Categorical values are hashed with a random seed\n",
    "- Numerical values are normalized between 0 and 1\n",
    "- Outcomes are mapped to a binary outcome.\n",
    "\n",
    "To apply these techniques, simply call `.process()`:"
   ]
  },
  {
   "cell_type": "code",
   "execution_count": 5,
   "metadata": {
    "execution": {
     "iopub.execute_input": "2024-08-29T15:50:04.184344Z",
     "iopub.status.busy": "2024-08-29T15:50:04.184030Z",
     "iopub.status.idle": "2024-08-29T15:50:04.189153Z",
     "shell.execute_reply": "2024-08-29T15:50:04.188701Z"
    }
   },
   "outputs": [
    {
     "data": {
      "text/html": [
       "<div><style>\n",
       ".dataframe > thead > tr,\n",
       ".dataframe > tbody > tr {\n",
       "  text-align: right;\n",
       "  white-space: pre-wrap;\n",
       "}\n",
       "</style>\n",
       "<small>shape: (7, 7)</small><table border=\"1\" class=\"dataframe\"><thead><tr><th>PREDICTOR_0</th><th>filename</th><th>PREDICTOR_2</th><th>PREDICTOR_3</th><th>Context_Name</th><th>IH_PREDICTOR_0</th><th>Decision_Outcome</th></tr><tr><td>str</td><td>str</td><td>f64</td><td>str</td><td>str</td><td>str</td><td>bool</td></tr></thead><tbody><tr><td>&quot;404173051456653878&quot;</td><td>&quot;../../../../data/SampleHDS.jso…</td><td>4.9159e18</td><td>&quot;4692280470527271555&quot;</td><td>&quot;10302775680610657704&quot;</td><td>&quot;3883180112191679735&quot;</td><td>false</td></tr><tr><td>&quot;16770761098689782295&quot;</td><td>&quot;../../../../data/SampleHDS.jso…</td><td>3.9247e18</td><td>&quot;5953402813748492241&quot;</td><td>&quot;10302775680610657704&quot;</td><td>&quot;1937549559038232991&quot;</td><td>true</td></tr><tr><td>&quot;16924908019897135234&quot;</td><td>&quot;../../../../data/SampleHDS.jso…</td><td>1.5734e19</td><td>&quot;12652296150669527045&quot;</td><td>&quot;17353787005530307570&quot;</td><td>&quot;3883180112191679735&quot;</td><td>false</td></tr><tr><td>&quot;16770761098689782295&quot;</td><td>&quot;../../../../data/SampleHDS.jso…</td><td>9.6042e18</td><td>&quot;13830154787914866761&quot;</td><td>&quot;12179607937839748158&quot;</td><td>&quot;3883180112191679735&quot;</td><td>false</td></tr><tr><td>&quot;404173051456653878&quot;</td><td>&quot;../../../../data/SampleHDS.jso…</td><td>1.7984e19</td><td>&quot;9183950266408627032&quot;</td><td>&quot;12179607937839748158&quot;</td><td>&quot;4354866275269377784&quot;</td><td>true</td></tr><tr><td>&quot;16924908019897135234&quot;</td><td>&quot;../../../../data/SampleHDS.jso…</td><td>7.6710e18</td><td>&quot;8471678075449575800&quot;</td><td>&quot;2914612472534327262&quot;</td><td>null</td><td>false</td></tr><tr><td>&quot;16924908019897135234&quot;</td><td>&quot;../../../../data/SampleHDS.jso…</td><td>3.3658e18</td><td>&quot;15737694272008311484&quot;</td><td>&quot;12179607937839748158&quot;</td><td>&quot;4354866275269377784&quot;</td><td>false</td></tr></tbody></table></div>"
      ],
      "text/plain": [
       "shape: (7, 7)\n",
       "┌──────────────┬─────────────┬─────────────┬─────────────┬─────────────┬─────────────┬─────────────┐\n",
       "│ PREDICTOR_0  ┆ filename    ┆ PREDICTOR_2 ┆ PREDICTOR_3 ┆ Context_Nam ┆ IH_PREDICTO ┆ Decision_Ou │\n",
       "│ ---          ┆ ---         ┆ ---         ┆ ---         ┆ e           ┆ R_0         ┆ tcome       │\n",
       "│ str          ┆ str         ┆ f64         ┆ str         ┆ ---         ┆ ---         ┆ ---         │\n",
       "│              ┆             ┆             ┆             ┆ str         ┆ str         ┆ bool        │\n",
       "╞══════════════╪═════════════╪═════════════╪═════════════╪═════════════╪═════════════╪═════════════╡\n",
       "│ 404173051456 ┆ ../../../.. ┆ 4.9159e18   ┆ 46922804705 ┆ 10302775680 ┆ 38831801121 ┆ false       │\n",
       "│ 653878       ┆ /data/Sampl ┆             ┆ 27271555    ┆ 610657704   ┆ 91679735    ┆             │\n",
       "│              ┆ eHDS.jso…   ┆             ┆             ┆             ┆             ┆             │\n",
       "│ 167707610986 ┆ ../../../.. ┆ 3.9247e18   ┆ 59534028137 ┆ 10302775680 ┆ 19375495590 ┆ true        │\n",
       "│ 89782295     ┆ /data/Sampl ┆             ┆ 48492241    ┆ 610657704   ┆ 38232991    ┆             │\n",
       "│              ┆ eHDS.jso…   ┆             ┆             ┆             ┆             ┆             │\n",
       "│ 169249080198 ┆ ../../../.. ┆ 1.5734e19   ┆ 12652296150 ┆ 17353787005 ┆ 38831801121 ┆ false       │\n",
       "│ 97135234     ┆ /data/Sampl ┆             ┆ 669527045   ┆ 530307570   ┆ 91679735    ┆             │\n",
       "│              ┆ eHDS.jso…   ┆             ┆             ┆             ┆             ┆             │\n",
       "│ 167707610986 ┆ ../../../.. ┆ 9.6042e18   ┆ 13830154787 ┆ 12179607937 ┆ 38831801121 ┆ false       │\n",
       "│ 89782295     ┆ /data/Sampl ┆             ┆ 914866761   ┆ 839748158   ┆ 91679735    ┆             │\n",
       "│              ┆ eHDS.jso…   ┆             ┆             ┆             ┆             ┆             │\n",
       "│ 404173051456 ┆ ../../../.. ┆ 1.7984e19   ┆ 91839502664 ┆ 12179607937 ┆ 43548662752 ┆ true        │\n",
       "│ 653878       ┆ /data/Sampl ┆             ┆ 08627032    ┆ 839748158   ┆ 69377784    ┆             │\n",
       "│              ┆ eHDS.jso…   ┆             ┆             ┆             ┆             ┆             │\n",
       "│ 169249080198 ┆ ../../../.. ┆ 7.6710e18   ┆ 84716780754 ┆ 29146124725 ┆ null        ┆ false       │\n",
       "│ 97135234     ┆ /data/Sampl ┆             ┆ 49575800    ┆ 34327262    ┆             ┆             │\n",
       "│              ┆ eHDS.jso…   ┆             ┆             ┆             ┆             ┆             │\n",
       "│ 169249080198 ┆ ../../../.. ┆ 3.3658e18   ┆ 15737694272 ┆ 12179607937 ┆ 43548662752 ┆ false       │\n",
       "│ 97135234     ┆ /data/Sampl ┆             ┆ 008311484   ┆ 839748158   ┆ 69377784    ┆             │\n",
       "│              ┆ eHDS.jso…   ┆             ┆             ┆             ┆             ┆             │\n",
       "└──────────────┴─────────────┴─────────────┴─────────────┴─────────────┴─────────────┴─────────────┘"
      ]
     },
     "execution_count": 5,
     "metadata": {},
     "output_type": "execute_result"
    }
   ],
   "source": [
    "anon.process()"
   ]
  },
  {
   "attachments": {},
   "cell_type": "markdown",
   "metadata": {},
   "source": [
    "To trace back the columns to their original names, the class also contains a mapping, which does not have to be provided."
   ]
  },
  {
   "cell_type": "code",
   "execution_count": 6,
   "metadata": {
    "execution": {
     "iopub.execute_input": "2024-08-29T15:50:04.191000Z",
     "iopub.status.busy": "2024-08-29T15:50:04.190811Z",
     "iopub.status.idle": "2024-08-29T15:50:04.194461Z",
     "shell.execute_reply": "2024-08-29T15:50:04.193903Z"
    }
   },
   "outputs": [
    {
     "data": {
      "text/plain": [
       "{'Customer_MaritalStatus': 'PREDICTOR_0',\n",
       " 'filename': 'filename',\n",
       " 'Customer_CLV': 'PREDICTOR_2',\n",
       " 'Customer_City': 'PREDICTOR_3',\n",
       " 'Context_Name': 'Context_Name',\n",
       " 'IH_Web_Inbound_Accepted_pxLastGroupID': 'IH_PREDICTOR_0',\n",
       " 'Decision_Outcome': 'Decision_Outcome'}"
      ]
     },
     "execution_count": 6,
     "metadata": {},
     "output_type": "execute_result"
    }
   ],
   "source": [
    "anon.column_mapping"
   ]
  },
  {
   "attachments": {},
   "cell_type": "markdown",
   "metadata": {},
   "source": [
    "## Configs\n",
    "\n",
    "Each capability can optionally be turned off - see below for the full list of config options, and refer to the API reference for the full description."
   ]
  },
  {
   "cell_type": "code",
   "execution_count": 7,
   "metadata": {
    "execution": {
     "iopub.execute_input": "2024-08-29T15:50:04.196483Z",
     "iopub.status.busy": "2024-08-29T15:50:04.196117Z",
     "iopub.status.idle": "2024-08-29T15:50:04.200109Z",
     "shell.execute_reply": "2024-08-29T15:50:04.199688Z"
    }
   },
   "outputs": [
    {
     "data": {
      "text/plain": [
       "{'config_file': None,\n",
       " 'hds_folder': '.',\n",
       " 'use_datamart': False,\n",
       " 'datamart_folder': 'datamart',\n",
       " 'output_format': 'ndjson',\n",
       " 'output_folder': 'output',\n",
       " 'mapping_file': 'mapping.map',\n",
       " 'mask_predictor_names': True,\n",
       " 'mask_context_key_names': False,\n",
       " 'mask_ih_names': True,\n",
       " 'mask_outcome_name': False,\n",
       " 'mask_predictor_values': True,\n",
       " 'mask_context_key_values': True,\n",
       " 'mask_ih_values': True,\n",
       " 'mask_outcome_values': True,\n",
       " 'context_key_label': 'Context_*',\n",
       " 'ih_label': 'IH_*',\n",
       " 'outcome_column': 'Decision_Outcome',\n",
       " 'positive_outcomes': ['Accepted', 'Clicked'],\n",
       " 'negative_outcomes': ['Rejected', 'Impression'],\n",
       " 'special_predictors': ['Decision_DecisionTime',\n",
       "  'Decision_OutcomeTime',\n",
       "  'Decision_Rank'],\n",
       " 'sample_percentage_schema_inferencing': 0.01}"
      ]
     },
     "execution_count": 7,
     "metadata": {},
     "output_type": "execute_result"
    }
   ],
   "source": [
    "dict(zip(Config.__init__.__code__.co_varnames[1:], Config.__init__.__defaults__))"
   ]
  },
  {
   "attachments": {},
   "cell_type": "markdown",
   "metadata": {},
   "source": [
    "It's easy to change these parameters by just passing the keyword arguments. In the following example, we\n",
    "- Keep the IH predictor names\n",
    "- Keep the outcome values\n",
    "- Keep the context key values\n",
    "- Keep the context key predictor names"
   ]
  },
  {
   "cell_type": "code",
   "execution_count": 8,
   "metadata": {
    "execution": {
     "iopub.execute_input": "2024-08-29T15:50:04.201908Z",
     "iopub.status.busy": "2024-08-29T15:50:04.201739Z",
     "iopub.status.idle": "2024-08-29T15:50:04.208990Z",
     "shell.execute_reply": "2024-08-29T15:50:04.208556Z"
    }
   },
   "outputs": [
    {
     "data": {
      "text/html": [
       "<div><style>\n",
       ".dataframe > thead > tr,\n",
       ".dataframe > tbody > tr {\n",
       "  text-align: right;\n",
       "  white-space: pre-wrap;\n",
       "}\n",
       "</style>\n",
       "<small>shape: (7, 7)</small><table border=\"1\" class=\"dataframe\"><thead><tr><th>PREDICTOR_0</th><th>filename</th><th>PREDICTOR_2</th><th>PREDICTOR_3</th><th>Context_Name</th><th>IH_Web_Inbound_Accepted_pxLastGroupID</th><th>Decision_Outcome</th></tr><tr><td>str</td><td>str</td><td>f64</td><td>str</td><td>str</td><td>str</td><td>str</td></tr></thead><tbody><tr><td>&quot;12759996022709740427&quot;</td><td>&quot;../../../../data/SampleHDS.jso…</td><td>1.6045e19</td><td>&quot;3420116485914154392&quot;</td><td>&quot;FirstMortgage30yr&quot;</td><td>&quot;16808286123624275033&quot;</td><td>&quot;Rejected&quot;</td></tr><tr><td>&quot;12277049264649131524&quot;</td><td>&quot;../../../../data/SampleHDS.jso…</td><td>1.1771e19</td><td>&quot;12076802019602216286&quot;</td><td>&quot;FirstMortgage30yr&quot;</td><td>&quot;18200265145214301830&quot;</td><td>&quot;Accepted&quot;</td></tr><tr><td>&quot;4057306347847713165&quot;</td><td>&quot;../../../../data/SampleHDS.jso…</td><td>5.5013e18</td><td>&quot;3212651797849668061&quot;</td><td>&quot;MoneyMarketSavingsAccount&quot;</td><td>&quot;16808286123624275033&quot;</td><td>&quot;Rejected&quot;</td></tr><tr><td>&quot;12277049264649131524&quot;</td><td>&quot;../../../../data/SampleHDS.jso…</td><td>1.3401e18</td><td>&quot;1292810103145664408&quot;</td><td>&quot;BasicChecking&quot;</td><td>&quot;16808286123624275033&quot;</td><td>&quot;Rejected&quot;</td></tr><tr><td>&quot;12759996022709740427&quot;</td><td>&quot;../../../../data/SampleHDS.jso…</td><td>8.8584e18</td><td>&quot;9675600202102410476&quot;</td><td>&quot;BasicChecking&quot;</td><td>&quot;17572559607884776069&quot;</td><td>&quot;Accepted&quot;</td></tr><tr><td>&quot;4057306347847713165&quot;</td><td>&quot;../../../../data/SampleHDS.jso…</td><td>2.0311e18</td><td>&quot;8567295650841513926&quot;</td><td>&quot;UPlusFinPersonal&quot;</td><td>null</td><td>&quot;Rejected&quot;</td></tr><tr><td>&quot;4057306347847713165&quot;</td><td>&quot;../../../../data/SampleHDS.jso…</td><td>1.2661e19</td><td>&quot;14860297069384159990&quot;</td><td>&quot;BasicChecking&quot;</td><td>&quot;17572559607884776069&quot;</td><td>&quot;Rejected&quot;</td></tr></tbody></table></div>"
      ],
      "text/plain": [
       "shape: (7, 7)\n",
       "┌──────────────┬─────────────┬─────────────┬─────────────┬─────────────┬─────────────┬─────────────┐\n",
       "│ PREDICTOR_0  ┆ filename    ┆ PREDICTOR_2 ┆ PREDICTOR_3 ┆ Context_Nam ┆ IH_Web_Inbo ┆ Decision_Ou │\n",
       "│ ---          ┆ ---         ┆ ---         ┆ ---         ┆ e           ┆ und_Accepte ┆ tcome       │\n",
       "│ str          ┆ str         ┆ f64         ┆ str         ┆ ---         ┆ d_pxLast…   ┆ ---         │\n",
       "│              ┆             ┆             ┆             ┆ str         ┆ ---         ┆ str         │\n",
       "│              ┆             ┆             ┆             ┆             ┆ str         ┆             │\n",
       "╞══════════════╪═════════════╪═════════════╪═════════════╪═════════════╪═════════════╪═════════════╡\n",
       "│ 127599960227 ┆ ../../../.. ┆ 1.6045e19   ┆ 34201164859 ┆ FirstMortga ┆ 16808286123 ┆ Rejected    │\n",
       "│ 09740427     ┆ /data/Sampl ┆             ┆ 14154392    ┆ ge30yr      ┆ 624275033   ┆             │\n",
       "│              ┆ eHDS.jso…   ┆             ┆             ┆             ┆             ┆             │\n",
       "│ 122770492646 ┆ ../../../.. ┆ 1.1771e19   ┆ 12076802019 ┆ FirstMortga ┆ 18200265145 ┆ Accepted    │\n",
       "│ 49131524     ┆ /data/Sampl ┆             ┆ 602216286   ┆ ge30yr      ┆ 214301830   ┆             │\n",
       "│              ┆ eHDS.jso…   ┆             ┆             ┆             ┆             ┆             │\n",
       "│ 405730634784 ┆ ../../../.. ┆ 5.5013e18   ┆ 32126517978 ┆ MoneyMarket ┆ 16808286123 ┆ Rejected    │\n",
       "│ 7713165      ┆ /data/Sampl ┆             ┆ 49668061    ┆ SavingsAcco ┆ 624275033   ┆             │\n",
       "│              ┆ eHDS.jso…   ┆             ┆             ┆ unt         ┆             ┆             │\n",
       "│ 122770492646 ┆ ../../../.. ┆ 1.3401e18   ┆ 12928101031 ┆ BasicChecki ┆ 16808286123 ┆ Rejected    │\n",
       "│ 49131524     ┆ /data/Sampl ┆             ┆ 45664408    ┆ ng          ┆ 624275033   ┆             │\n",
       "│              ┆ eHDS.jso…   ┆             ┆             ┆             ┆             ┆             │\n",
       "│ 127599960227 ┆ ../../../.. ┆ 8.8584e18   ┆ 96756002021 ┆ BasicChecki ┆ 17572559607 ┆ Accepted    │\n",
       "│ 09740427     ┆ /data/Sampl ┆             ┆ 02410476    ┆ ng          ┆ 884776069   ┆             │\n",
       "│              ┆ eHDS.jso…   ┆             ┆             ┆             ┆             ┆             │\n",
       "│ 405730634784 ┆ ../../../.. ┆ 2.0311e18   ┆ 85672956508 ┆ UPlusFinPer ┆ null        ┆ Rejected    │\n",
       "│ 7713165      ┆ /data/Sampl ┆             ┆ 41513926    ┆ sonal       ┆             ┆             │\n",
       "│              ┆ eHDS.jso…   ┆             ┆             ┆             ┆             ┆             │\n",
       "│ 405730634784 ┆ ../../../.. ┆ 1.2661e19   ┆ 14860297069 ┆ BasicChecki ┆ 17572559607 ┆ Rejected    │\n",
       "│ 7713165      ┆ /data/Sampl ┆             ┆ 384159990   ┆ ng          ┆ 884776069   ┆             │\n",
       "│              ┆ eHDS.jso…   ┆             ┆             ┆             ┆             ┆             │\n",
       "└──────────────┴─────────────┴─────────────┴─────────────┴─────────────┴─────────────┴─────────────┘"
      ]
     },
     "execution_count": 8,
     "metadata": {},
     "output_type": "execute_result"
    }
   ],
   "source": [
    "anon = DataAnonymization(\n",
    "    hds_folder=\"../../../../data/\",\n",
    "    mask_ih_names=False,\n",
    "    mask_outcome_values=False,\n",
    "    mask_context_key_values=False,\n",
    "    mask_context_key_names=False,\n",
    ")\n",
    "anon.process()\n"
   ]
  },
  {
   "attachments": {},
   "cell_type": "markdown",
   "metadata": {},
   "source": [
    "The configs can also be written and read as such:"
   ]
  },
  {
   "cell_type": "code",
   "execution_count": 9,
   "metadata": {
    "execution": {
     "iopub.execute_input": "2024-08-29T15:50:04.210993Z",
     "iopub.status.busy": "2024-08-29T15:50:04.210664Z",
     "iopub.status.idle": "2024-08-29T15:50:04.213365Z",
     "shell.execute_reply": "2024-08-29T15:50:04.212958Z"
    }
   },
   "outputs": [],
   "source": [
    "anon.config.save_to_config_file('config.json')"
   ]
  },
  {
   "cell_type": "code",
   "execution_count": 10,
   "metadata": {
    "execution": {
     "iopub.execute_input": "2024-08-29T15:50:04.215209Z",
     "iopub.status.busy": "2024-08-29T15:50:04.215043Z",
     "iopub.status.idle": "2024-08-29T15:50:04.222313Z",
     "shell.execute_reply": "2024-08-29T15:50:04.221876Z"
    }
   },
   "outputs": [
    {
     "data": {
      "text/html": [
       "<div><style>\n",
       ".dataframe > thead > tr,\n",
       ".dataframe > tbody > tr {\n",
       "  text-align: right;\n",
       "  white-space: pre-wrap;\n",
       "}\n",
       "</style>\n",
       "<small>shape: (7, 7)</small><table border=\"1\" class=\"dataframe\"><thead><tr><th>PREDICTOR_0</th><th>filename</th><th>PREDICTOR_2</th><th>PREDICTOR_3</th><th>Context_Name</th><th>IH_Web_Inbound_Accepted_pxLastGroupID</th><th>Decision_Outcome</th></tr><tr><td>str</td><td>str</td><td>f64</td><td>str</td><td>str</td><td>str</td><td>str</td></tr></thead><tbody><tr><td>&quot;15704902589394036773&quot;</td><td>&quot;../../../../data/SampleHDS.jso…</td><td>1.2459e19</td><td>&quot;5395477463980974623&quot;</td><td>&quot;FirstMortgage30yr&quot;</td><td>&quot;8581908620437591436&quot;</td><td>&quot;Rejected&quot;</td></tr><tr><td>&quot;7993606177582160336&quot;</td><td>&quot;../../../../data/SampleHDS.jso…</td><td>4.7993e18</td><td>&quot;4439544387414767747&quot;</td><td>&quot;FirstMortgage30yr&quot;</td><td>&quot;3124974601909306092&quot;</td><td>&quot;Accepted&quot;</td></tr><tr><td>&quot;4922010897597875305&quot;</td><td>&quot;../../../../data/SampleHDS.jso…</td><td>1.3076e19</td><td>&quot;4712562603249850485&quot;</td><td>&quot;MoneyMarketSavingsAccount&quot;</td><td>&quot;8581908620437591436&quot;</td><td>&quot;Rejected&quot;</td></tr><tr><td>&quot;7993606177582160336&quot;</td><td>&quot;../../../../data/SampleHDS.jso…</td><td>1.6706e19</td><td>&quot;18171885522261281229&quot;</td><td>&quot;BasicChecking&quot;</td><td>&quot;8581908620437591436&quot;</td><td>&quot;Rejected&quot;</td></tr><tr><td>&quot;15704902589394036773&quot;</td><td>&quot;../../../../data/SampleHDS.jso…</td><td>1.8349e18</td><td>&quot;11372330336759034905&quot;</td><td>&quot;BasicChecking&quot;</td><td>&quot;2468568473826695821&quot;</td><td>&quot;Accepted&quot;</td></tr><tr><td>&quot;4922010897597875305&quot;</td><td>&quot;../../../../data/SampleHDS.jso…</td><td>1.2687e19</td><td>&quot;18344768351478480948&quot;</td><td>&quot;UPlusFinPersonal&quot;</td><td>null</td><td>&quot;Rejected&quot;</td></tr><tr><td>&quot;4922010897597875305&quot;</td><td>&quot;../../../../data/SampleHDS.jso…</td><td>1.7229e19</td><td>&quot;16279688712674263256&quot;</td><td>&quot;BasicChecking&quot;</td><td>&quot;2468568473826695821&quot;</td><td>&quot;Rejected&quot;</td></tr></tbody></table></div>"
      ],
      "text/plain": [
       "shape: (7, 7)\n",
       "┌──────────────┬─────────────┬─────────────┬─────────────┬─────────────┬─────────────┬─────────────┐\n",
       "│ PREDICTOR_0  ┆ filename    ┆ PREDICTOR_2 ┆ PREDICTOR_3 ┆ Context_Nam ┆ IH_Web_Inbo ┆ Decision_Ou │\n",
       "│ ---          ┆ ---         ┆ ---         ┆ ---         ┆ e           ┆ und_Accepte ┆ tcome       │\n",
       "│ str          ┆ str         ┆ f64         ┆ str         ┆ ---         ┆ d_pxLast…   ┆ ---         │\n",
       "│              ┆             ┆             ┆             ┆ str         ┆ ---         ┆ str         │\n",
       "│              ┆             ┆             ┆             ┆             ┆ str         ┆             │\n",
       "╞══════════════╪═════════════╪═════════════╪═════════════╪═════════════╪═════════════╪═════════════╡\n",
       "│ 157049025893 ┆ ../../../.. ┆ 1.2459e19   ┆ 53954774639 ┆ FirstMortga ┆ 85819086204 ┆ Rejected    │\n",
       "│ 94036773     ┆ /data/Sampl ┆             ┆ 80974623    ┆ ge30yr      ┆ 37591436    ┆             │\n",
       "│              ┆ eHDS.jso…   ┆             ┆             ┆             ┆             ┆             │\n",
       "│ 799360617758 ┆ ../../../.. ┆ 4.7993e18   ┆ 44395443874 ┆ FirstMortga ┆ 31249746019 ┆ Accepted    │\n",
       "│ 2160336      ┆ /data/Sampl ┆             ┆ 14767747    ┆ ge30yr      ┆ 09306092    ┆             │\n",
       "│              ┆ eHDS.jso…   ┆             ┆             ┆             ┆             ┆             │\n",
       "│ 492201089759 ┆ ../../../.. ┆ 1.3076e19   ┆ 47125626032 ┆ MoneyMarket ┆ 85819086204 ┆ Rejected    │\n",
       "│ 7875305      ┆ /data/Sampl ┆             ┆ 49850485    ┆ SavingsAcco ┆ 37591436    ┆             │\n",
       "│              ┆ eHDS.jso…   ┆             ┆             ┆ unt         ┆             ┆             │\n",
       "│ 799360617758 ┆ ../../../.. ┆ 1.6706e19   ┆ 18171885522 ┆ BasicChecki ┆ 85819086204 ┆ Rejected    │\n",
       "│ 2160336      ┆ /data/Sampl ┆             ┆ 261281229   ┆ ng          ┆ 37591436    ┆             │\n",
       "│              ┆ eHDS.jso…   ┆             ┆             ┆             ┆             ┆             │\n",
       "│ 157049025893 ┆ ../../../.. ┆ 1.8349e18   ┆ 11372330336 ┆ BasicChecki ┆ 24685684738 ┆ Accepted    │\n",
       "│ 94036773     ┆ /data/Sampl ┆             ┆ 759034905   ┆ ng          ┆ 26695821    ┆             │\n",
       "│              ┆ eHDS.jso…   ┆             ┆             ┆             ┆             ┆             │\n",
       "│ 492201089759 ┆ ../../../.. ┆ 1.2687e19   ┆ 18344768351 ┆ UPlusFinPer ┆ null        ┆ Rejected    │\n",
       "│ 7875305      ┆ /data/Sampl ┆             ┆ 478480948   ┆ sonal       ┆             ┆             │\n",
       "│              ┆ eHDS.jso…   ┆             ┆             ┆             ┆             ┆             │\n",
       "│ 492201089759 ┆ ../../../.. ┆ 1.7229e19   ┆ 16279688712 ┆ BasicChecki ┆ 24685684738 ┆ Rejected    │\n",
       "│ 7875305      ┆ /data/Sampl ┆             ┆ 674263256   ┆ ng          ┆ 26695821    ┆             │\n",
       "│              ┆ eHDS.jso…   ┆             ┆             ┆             ┆             ┆             │\n",
       "└──────────────┴─────────────┴─────────────┴─────────────┴─────────────┴─────────────┴─────────────┘"
      ]
     },
     "execution_count": 10,
     "metadata": {},
     "output_type": "execute_result"
    }
   ],
   "source": [
    "anon = DataAnonymization(config=Config(config_file='config.json'))\n",
    "anon.process()"
   ]
  },
  {
   "attachments": {},
   "cell_type": "markdown",
   "metadata": {},
   "source": [
    "## Exporting\n",
    "Two functions export:\n",
    "- `create_mapping_file()` writes the mapping file of the predictor names\n",
    "- `write_to_output()` writes the processed dataframe to disk\n",
    "\n",
    "Write to output accepts the following extensions: `[\"ndjson\", \"parquet\", \"arrow\", \"csv\"]`"
   ]
  },
  {
   "cell_type": "code",
   "execution_count": 11,
   "metadata": {
    "execution": {
     "iopub.execute_input": "2024-08-29T15:50:04.224387Z",
     "iopub.status.busy": "2024-08-29T15:50:04.223965Z",
     "iopub.status.idle": "2024-08-29T15:50:04.227232Z",
     "shell.execute_reply": "2024-08-29T15:50:04.226777Z"
    }
   },
   "outputs": [
    {
     "name": "stdout",
     "output_type": "stream",
     "text": [
      "Customer_MaritalStatus=PREDICTOR_0\n",
      "filename=filename\n",
      "Customer_CLV=PREDICTOR_2\n",
      "Customer_City=PREDICTOR_3\n",
      "Context_Name=Context_Name\n",
      "IH_Web_Inbound_Accepted_pxLastGroupID=IH_Web_Inbound_Accepted_pxLastGroupID\n",
      "Decision_Outcome=Decision_Outcome\n",
      "\n"
     ]
    }
   ],
   "source": [
    "anon.create_mapping_file()\n",
    "with open('mapping.map') as f:\n",
    "    print(f.read())"
   ]
  },
  {
   "cell_type": "code",
   "execution_count": 12,
   "metadata": {
    "execution": {
     "iopub.execute_input": "2024-08-29T15:50:04.229225Z",
     "iopub.status.busy": "2024-08-29T15:50:04.228915Z",
     "iopub.status.idle": "2024-08-29T15:50:04.232192Z",
     "shell.execute_reply": "2024-08-29T15:50:04.231779Z"
    }
   },
   "outputs": [],
   "source": [
    "anon.write_to_output(ext='arrow')"
   ]
  },
  {
   "cell_type": "code",
   "execution_count": 13,
   "metadata": {
    "execution": {
     "iopub.execute_input": "2024-08-29T15:50:04.234143Z",
     "iopub.status.busy": "2024-08-29T15:50:04.233835Z",
     "iopub.status.idle": "2024-08-29T15:50:04.237940Z",
     "shell.execute_reply": "2024-08-29T15:50:04.237507Z"
    }
   },
   "outputs": [
    {
     "data": {
      "text/html": [
       "<div><style>\n",
       ".dataframe > thead > tr,\n",
       ".dataframe > tbody > tr {\n",
       "  text-align: right;\n",
       "  white-space: pre-wrap;\n",
       "}\n",
       "</style>\n",
       "<small>shape: (7, 6)</small><table border=\"1\" class=\"dataframe\"><thead><tr><th>PREDICTOR_0</th><th>PREDICTOR_2</th><th>PREDICTOR_3</th><th>Context_Name</th><th>IH_Web_Inbound_Accepted_pxLastGroupID</th><th>Decision_Outcome</th></tr><tr><td>str</td><td>f64</td><td>str</td><td>str</td><td>str</td><td>str</td></tr></thead><tbody><tr><td>&quot;4680616243636161801&quot;</td><td>1.1939e19</td><td>&quot;6975737182130307024&quot;</td><td>&quot;FirstMortgage30yr&quot;</td><td>&quot;17040774647327699853&quot;</td><td>&quot;Rejected&quot;</td></tr><tr><td>&quot;2813416363470635376&quot;</td><td>4.4418e18</td><td>&quot;16054467463533024279&quot;</td><td>&quot;FirstMortgage30yr&quot;</td><td>&quot;14860844409794217593&quot;</td><td>&quot;Accepted&quot;</td></tr><tr><td>&quot;4882900982119994914&quot;</td><td>1.1450e19</td><td>&quot;2679109607038234748&quot;</td><td>&quot;MoneyMarketSavingsAccount&quot;</td><td>&quot;17040774647327699853&quot;</td><td>&quot;Rejected&quot;</td></tr><tr><td>&quot;2813416363470635376&quot;</td><td>6.5167e18</td><td>&quot;10408106888189457234&quot;</td><td>&quot;BasicChecking&quot;</td><td>&quot;17040774647327699853&quot;</td><td>&quot;Rejected&quot;</td></tr><tr><td>&quot;4680616243636161801&quot;</td><td>1.6807e19</td><td>&quot;16659331222881826711&quot;</td><td>&quot;BasicChecking&quot;</td><td>&quot;11928824298899560061&quot;</td><td>&quot;Accepted&quot;</td></tr><tr><td>&quot;4882900982119994914&quot;</td><td>9.7154e18</td><td>&quot;16604888074900216847&quot;</td><td>&quot;UPlusFinPersonal&quot;</td><td>null</td><td>&quot;Rejected&quot;</td></tr><tr><td>&quot;4882900982119994914&quot;</td><td>7.6805e18</td><td>&quot;14472806737725633635&quot;</td><td>&quot;BasicChecking&quot;</td><td>&quot;11928824298899560061&quot;</td><td>&quot;Rejected&quot;</td></tr></tbody></table></div>"
      ],
      "text/plain": [
       "shape: (7, 6)\n",
       "┌────────────────┬─────────────┬────────────────┬────────────────┬────────────────┬────────────────┐\n",
       "│ PREDICTOR_0    ┆ PREDICTOR_2 ┆ PREDICTOR_3    ┆ Context_Name   ┆ IH_Web_Inbound ┆ Decision_Outco │\n",
       "│ ---            ┆ ---         ┆ ---            ┆ ---            ┆ _Accepted_pxLa ┆ me             │\n",
       "│ str            ┆ f64         ┆ str            ┆ str            ┆ st…            ┆ ---            │\n",
       "│                ┆             ┆                ┆                ┆ ---            ┆ str            │\n",
       "│                ┆             ┆                ┆                ┆ str            ┆                │\n",
       "╞════════════════╪═════════════╪════════════════╪════════════════╪════════════════╪════════════════╡\n",
       "│ 46806162436361 ┆ 1.1939e19   ┆ 69757371821303 ┆ FirstMortgage3 ┆ 17040774647327 ┆ Rejected       │\n",
       "│ 61801          ┆             ┆ 07024          ┆ 0yr            ┆ 699853         ┆                │\n",
       "│ 28134163634706 ┆ 4.4418e18   ┆ 16054467463533 ┆ FirstMortgage3 ┆ 14860844409794 ┆ Accepted       │\n",
       "│ 35376          ┆             ┆ 024279         ┆ 0yr            ┆ 217593         ┆                │\n",
       "│ 48829009821199 ┆ 1.1450e19   ┆ 26791096070382 ┆ MoneyMarketSav ┆ 17040774647327 ┆ Rejected       │\n",
       "│ 94914          ┆             ┆ 34748          ┆ ingsAccount    ┆ 699853         ┆                │\n",
       "│ 28134163634706 ┆ 6.5167e18   ┆ 10408106888189 ┆ BasicChecking  ┆ 17040774647327 ┆ Rejected       │\n",
       "│ 35376          ┆             ┆ 457234         ┆                ┆ 699853         ┆                │\n",
       "│ 46806162436361 ┆ 1.6807e19   ┆ 16659331222881 ┆ BasicChecking  ┆ 11928824298899 ┆ Accepted       │\n",
       "│ 61801          ┆             ┆ 826711         ┆                ┆ 560061         ┆                │\n",
       "│ 48829009821199 ┆ 9.7154e18   ┆ 16604888074900 ┆ UPlusFinPerson ┆ null           ┆ Rejected       │\n",
       "│ 94914          ┆             ┆ 216847         ┆ al             ┆                ┆                │\n",
       "│ 48829009821199 ┆ 7.6805e18   ┆ 14472806737725 ┆ BasicChecking  ┆ 11928824298899 ┆ Rejected       │\n",
       "│ 94914          ┆             ┆ 633635         ┆                ┆ 560061         ┆                │\n",
       "└────────────────┴─────────────┴────────────────┴────────────────┴────────────────┴────────────────┘"
      ]
     },
     "execution_count": 13,
     "metadata": {},
     "output_type": "execute_result"
    }
   ],
   "source": [
    "pl.read_ipc('output/hds.arrow')"
   ]
  },
  {
   "attachments": {},
   "cell_type": "markdown",
   "metadata": {
    "nbsphinx": "hidden"
   },
   "source": [
    "## Advanced: Hash fuctions\n",
    "\n",
    "By default, we use [the same hashing algorithm Polars](https://pola-rs.github.io/polars/py-polars/html/reference/expressions/api/polars.Expr.hash.html#polars.Expr.hash) uses: [xxhash](https://github.com/Cyan4973/xxHash), as implemented [here](https://github.com/pola-rs/polars/blob/3f287f370b3c388ed2f3f218b2c096382548136f/polars/polars-core/src/vector_hasher.rs#L266). xxhash is fast to compute, and you can check its performance in collision, dispersion and randomness [here](https://github.com/Cyan4973/xxHash/tree/dev/tests). \n",
    "\n",
    "xxhash accepts four distinct seeds, but by default we set the seeds to `0`. It is possible to set the `seed` argument of the `process()` function to `'random'`, which will set all four seeds to a random integer between `0` and `1000000000`. Alternatively, it is possible to supply the four seeds manually with arguments `seed`, `seed_1`, `seed_2` and `seed_3`. \n",
    "\n",
    "If the xxhash with (random) seed(s) is not deemed sufficiently secure, it is possible to use your own hashing algorithm.\n",
    "\n",
    "Note that since we're now running python code and not native Polars code anymore, this will be _significantly_ slower. Nonetheless, it is possible.\n",
    "\n",
    "Just as an example - this is how one would use sha3_256:"
   ]
  },
  {
   "cell_type": "code",
   "execution_count": 14,
   "metadata": {
    "execution": {
     "iopub.execute_input": "2024-08-29T15:50:04.239941Z",
     "iopub.status.busy": "2024-08-29T15:50:04.239623Z",
     "iopub.status.idle": "2024-08-29T15:50:04.557767Z",
     "shell.execute_reply": "2024-08-29T15:50:04.557296Z"
    },
    "nbsphinx": "hidden"
   },
   "outputs": [
    {
     "name": "stderr",
     "output_type": "stream",
     "text": [
      "sys:1: MapWithoutReturnDtypeWarning:\n",
      "\n",
      "Calling `map_elements` without specifying `return_dtype` can lead to unpredictable results. Specify `return_dtype` to silence this warning.\n",
      "\n",
      "sys:1: MapWithoutReturnDtypeWarning:\n",
      "\n",
      "Calling `map_elements` without specifying `return_dtype` can lead to unpredictable results. Specify `return_dtype` to silence this warning.\n",
      "\n",
      "sys:1: MapWithoutReturnDtypeWarning:\n",
      "\n",
      "Calling `map_elements` without specifying `return_dtype` can lead to unpredictable results. Specify `return_dtype` to silence this warning.\n",
      "\n",
      "sys:1: MapWithoutReturnDtypeWarning:\n",
      "\n",
      "Calling `map_elements` without specifying `return_dtype` can lead to unpredictable results. Specify `return_dtype` to silence this warning.\n",
      "\n"
     ]
    },
    {
     "ename": "ComputeError",
     "evalue": "AttributeError: 'int' object has no attribute 'encode'",
     "output_type": "error",
     "traceback": [
      "\u001b[0;31m---------------------------------------------------------------------------\u001b[0m",
      "\u001b[0;31mComputeError\u001b[0m                              Traceback (most recent call last)",
      "Cell \u001b[0;32mIn[14], line 3\u001b[0m\n\u001b[1;32m      1\u001b[0m \u001b[38;5;28;01mfrom\u001b[39;00m \u001b[38;5;21;01mhashlib\u001b[39;00m \u001b[38;5;28;01mimport\u001b[39;00m sha3_256\n\u001b[0;32m----> 3\u001b[0m \u001b[43manon\u001b[49m\u001b[38;5;241;43m.\u001b[39;49m\u001b[43mprocess\u001b[49m\u001b[43m(\u001b[49m\u001b[43malgorithm\u001b[49m\u001b[38;5;241;43m=\u001b[39;49m\u001b[38;5;28;43;01mlambda\u001b[39;49;00m\u001b[43m \u001b[49m\u001b[43mx\u001b[49m\u001b[43m:\u001b[49m\u001b[43m \u001b[49m\u001b[43msha3_256\u001b[49m\u001b[43m(\u001b[49m\u001b[43mx\u001b[49m\u001b[38;5;241;43m.\u001b[39;49m\u001b[43mencode\u001b[49m\u001b[43m(\u001b[49m\u001b[43m)\u001b[49m\u001b[43m)\u001b[49m\u001b[38;5;241;43m.\u001b[39;49m\u001b[43mhexdigest\u001b[49m\u001b[43m(\u001b[49m\u001b[43m)\u001b[49m\u001b[43m)\u001b[49m\n",
      "File \u001b[0;32m~/work/pega-datascientist-tools/pega-datascientist-tools/python/docs/source/articles/../../../pdstools/utils/hds_utils.py:512\u001b[0m, in \u001b[0;36mDataAnonymization.process\u001b[0;34m(self, strategy, **kwargs)\u001b[0m\n\u001b[1;32m    510\u001b[0m df \u001b[38;5;241m=\u001b[39m df\u001b[38;5;241m.\u001b[39mselect(\u001b[38;5;28mself\u001b[39m\u001b[38;5;241m.\u001b[39mcolumn_mapping\u001b[38;5;241m.\u001b[39mkeys())\u001b[38;5;241m.\u001b[39mrename(\u001b[38;5;28mself\u001b[39m\u001b[38;5;241m.\u001b[39mcolumn_mapping)\n\u001b[1;32m    511\u001b[0m \u001b[38;5;28;01mif\u001b[39;00m strategy \u001b[38;5;241m==\u001b[39m \u001b[38;5;124m\"\u001b[39m\u001b[38;5;124meager\u001b[39m\u001b[38;5;124m\"\u001b[39m:\n\u001b[0;32m--> 512\u001b[0m     \u001b[38;5;28;01mreturn\u001b[39;00m \u001b[43mdf\u001b[49m\u001b[38;5;241;43m.\u001b[39;49m\u001b[43mcollect\u001b[49m\u001b[43m(\u001b[49m\u001b[43m)\u001b[49m\n\u001b[1;32m    513\u001b[0m \u001b[38;5;28;01mreturn\u001b[39;00m df\n",
      "File \u001b[0;32m/opt/hostedtoolcache/Python/3.11.9/x64/lib/python3.11/site-packages/polars/lazyframe/frame.py:1967\u001b[0m, in \u001b[0;36mLazyFrame.collect\u001b[0;34m(self, type_coercion, predicate_pushdown, projection_pushdown, simplify_expression, slice_pushdown, comm_subplan_elim, comm_subexpr_elim, cluster_with_columns, no_optimization, streaming, background, _eager, **_kwargs)\u001b[0m\n\u001b[1;32m   1964\u001b[0m \u001b[38;5;66;03m# Only for testing purposes atm.\u001b[39;00m\n\u001b[1;32m   1965\u001b[0m callback \u001b[38;5;241m=\u001b[39m _kwargs\u001b[38;5;241m.\u001b[39mget(\u001b[38;5;124m\"\u001b[39m\u001b[38;5;124mpost_opt_callback\u001b[39m\u001b[38;5;124m\"\u001b[39m)\n\u001b[0;32m-> 1967\u001b[0m \u001b[38;5;28;01mreturn\u001b[39;00m wrap_df(\u001b[43mldf\u001b[49m\u001b[38;5;241;43m.\u001b[39;49m\u001b[43mcollect\u001b[49m\u001b[43m(\u001b[49m\u001b[43mcallback\u001b[49m\u001b[43m)\u001b[49m)\n",
      "\u001b[0;31mComputeError\u001b[0m: AttributeError: 'int' object has no attribute 'encode'"
     ]
    }
   ],
   "source": [
    "from hashlib import sha3_256\n",
    "\n",
    "anon.process(algorithm=lambda x: sha3_256(x.encode()).hexdigest())"
   ]
  }
 ],
 "metadata": {
  "kernelspec": {
   "display_name": "Python 3",
   "language": "python",
   "name": "python3"
  },
  "language_info": {
   "codemirror_mode": {
    "name": "ipython",
    "version": 3
   },
   "file_extension": ".py",
   "mimetype": "text/x-python",
   "name": "python",
   "nbconvert_exporter": "python",
   "pygments_lexer": "ipython3",
   "version": "3.11.9"
  },
  "vscode": {
   "interpreter": {
    "hash": "aee8b7b246df8f9039afb4144a1f6fd8d2ca17a180786b69acc140d282b71a49"
   }
  }
 },
 "nbformat": 4,
 "nbformat_minor": 2
}
