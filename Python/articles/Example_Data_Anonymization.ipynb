{
 "cells": [
  {
   "attachments": {},
   "cell_type": "markdown",
   "metadata": {},
   "source": [
    "# Data Anonymization\n",
    "\n",
    "In Pega CDH 8.5 and up, it's now possible to record the historical data as seen by the Adaptive Models. See [this academy challenge](https://academy.pega.com/challenge/exporting-historical-data/v4) for reference. This historical data can be further used to experiment with offline models, but also to fine-tune the OOTB Gradient Boosting model. However, sharing this information with Pega can be sensitive as it contains raw predictor data. \n",
    "\n",
    "To this end, we provide a simple and transparent script to fully anonimize this dataset.\n",
    "\n",
    "The DataAnonymization script is now part of pdstools, and you can import it directly as such."
   ]
  },
  {
   "cell_type": "code",
   "execution_count": 1,
   "metadata": {
    "execution": {
     "iopub.execute_input": "2024-04-08T14:46:17.313106Z",
     "iopub.status.busy": "2024-04-08T14:46:17.312935Z",
     "iopub.status.idle": "2024-04-08T14:46:17.383100Z",
     "shell.execute_reply": "2024-04-08T14:46:17.382589Z"
    },
    "nbsphinx": "hidden"
   },
   "outputs": [],
   "source": [
    "# These lines are only for rendering in the docs, and are hidden through Jupyter tags\n",
    "# Do not run if you're running the notebook seperately\n",
    "\n",
    "import os  \n",
    "import sys\n",
    "import plotly.io as pio\n",
    "pio.renderers.default = \"notebook_connected\"\n",
    "\n",
    "sys.path.append(\"../../../\")\n",
    "sys.path.append('../../python')"
   ]
  },
  {
   "cell_type": "code",
   "execution_count": 2,
   "metadata": {
    "execution": {
     "iopub.execute_input": "2024-04-08T14:46:17.385360Z",
     "iopub.status.busy": "2024-04-08T14:46:17.384993Z",
     "iopub.status.idle": "2024-04-08T14:46:18.384451Z",
     "shell.execute_reply": "2024-04-08T14:46:18.383962Z"
    }
   },
   "outputs": [],
   "source": [
    "from pdstools import ADMDatamart\n",
    "from pdstools import Config, DataAnonymization\n",
    "import polars as pl"
   ]
  },
  {
   "attachments": {},
   "cell_type": "markdown",
   "metadata": {},
   "source": [
    "## Input data\n",
    "\n",
    "To demonstrate this process, we're going to anonymise this toy example dataframe:"
   ]
  },
  {
   "cell_type": "code",
   "execution_count": 3,
   "metadata": {
    "execution": {
     "iopub.execute_input": "2024-04-08T14:46:18.387130Z",
     "iopub.status.busy": "2024-04-08T14:46:18.386591Z",
     "iopub.status.idle": "2024-04-08T14:46:18.395329Z",
     "shell.execute_reply": "2024-04-08T14:46:18.394795Z"
    }
   },
   "outputs": [
    {
     "data": {
      "text/html": [
       "<div><style>\n",
       ".dataframe > thead > tr,\n",
       ".dataframe > tbody > tr {\n",
       "  text-align: right;\n",
       "  white-space: pre-wrap;\n",
       "}\n",
       "</style>\n",
       "<small>shape: (7, 6)</small><table border=\"1\" class=\"dataframe\"><thead><tr><th>Context_Name</th><th>Customer_MaritalStatus</th><th>Customer_CLV</th><th>Customer_City</th><th>IH_Web_Inbound_Accepted_pxLastGroupID</th><th>Decision_Outcome</th></tr><tr><td>str</td><td>str</td><td>i64</td><td>str</td><td>str</td><td>str</td></tr></thead><tbody><tr><td>&quot;FirstMortgage3…</td><td>&quot;Married&quot;</td><td>1460</td><td>&quot;Port Raoul&quot;</td><td>&quot;Account&quot;</td><td>&quot;Rejected&quot;</td></tr><tr><td>&quot;FirstMortgage3…</td><td>&quot;Unknown&quot;</td><td>669</td><td>&quot;Laurianneshire…</td><td>&quot;AutoLoans&quot;</td><td>&quot;Accepted&quot;</td></tr><tr><td>&quot;MoneyMarketSav…</td><td>&quot;No Resp+&quot;</td><td>1174</td><td>&quot;Jacobshaven&quot;</td><td>&quot;Account&quot;</td><td>&quot;Rejected&quot;</td></tr><tr><td>&quot;BasicChecking&quot;</td><td>&quot;Unknown&quot;</td><td>1476</td><td>&quot;Lindton&quot;</td><td>&quot;Account&quot;</td><td>&quot;Rejected&quot;</td></tr><tr><td>&quot;BasicChecking&quot;</td><td>&quot;Married&quot;</td><td>1211</td><td>&quot;South Jimmiesh…</td><td>&quot;DepositAccount…</td><td>&quot;Accepted&quot;</td></tr><tr><td>&quot;UPlusFinPerson…</td><td>&quot;No Resp+&quot;</td><td>533</td><td>&quot;Bergeville&quot;</td><td>null</td><td>&quot;Rejected&quot;</td></tr><tr><td>&quot;BasicChecking&quot;</td><td>&quot;No Resp+&quot;</td><td>555</td><td>&quot;Willyville&quot;</td><td>&quot;DepositAccount…</td><td>&quot;Rejected&quot;</td></tr></tbody></table></div>"
      ],
      "text/plain": [
       "shape: (7, 6)\n",
       "┌────────────────┬────────────────┬──────────────┬────────────────┬────────────────┬───────────────┐\n",
       "│ Context_Name   ┆ Customer_Marit ┆ Customer_CLV ┆ Customer_City  ┆ IH_Web_Inbound ┆ Decision_Outc │\n",
       "│ ---            ┆ alStatus       ┆ ---          ┆ ---            ┆ _Accepted_pxLa ┆ ome           │\n",
       "│ str            ┆ ---            ┆ i64          ┆ str            ┆ stGr…          ┆ ---           │\n",
       "│                ┆ str            ┆              ┆                ┆ ---            ┆ str           │\n",
       "│                ┆                ┆              ┆                ┆ str            ┆               │\n",
       "╞════════════════╪════════════════╪══════════════╪════════════════╪════════════════╪═══════════════╡\n",
       "│ FirstMortgage3 ┆ Married        ┆ 1460         ┆ Port Raoul     ┆ Account        ┆ Rejected      │\n",
       "│ 0yr            ┆                ┆              ┆                ┆                ┆               │\n",
       "│ FirstMortgage3 ┆ Unknown        ┆ 669          ┆ Laurianneshire ┆ AutoLoans      ┆ Accepted      │\n",
       "│ 0yr            ┆                ┆              ┆                ┆                ┆               │\n",
       "│ MoneyMarketSav ┆ No Resp+       ┆ 1174         ┆ Jacobshaven    ┆ Account        ┆ Rejected      │\n",
       "│ ingsAccount    ┆                ┆              ┆                ┆                ┆               │\n",
       "│ BasicChecking  ┆ Unknown        ┆ 1476         ┆ Lindton        ┆ Account        ┆ Rejected      │\n",
       "│ BasicChecking  ┆ Married        ┆ 1211         ┆ South          ┆ DepositAccount ┆ Accepted      │\n",
       "│                ┆                ┆              ┆ Jimmieshire    ┆ s              ┆               │\n",
       "│ UPlusFinPerson ┆ No Resp+       ┆ 533          ┆ Bergeville     ┆ null           ┆ Rejected      │\n",
       "│ al             ┆                ┆              ┆                ┆                ┆               │\n",
       "│ BasicChecking  ┆ No Resp+       ┆ 555          ┆ Willyville     ┆ DepositAccount ┆ Rejected      │\n",
       "│                ┆                ┆              ┆                ┆ s              ┆               │\n",
       "└────────────────┴────────────────┴──────────────┴────────────────┴────────────────┴───────────────┘"
      ]
     },
     "execution_count": 3,
     "metadata": {},
     "output_type": "execute_result"
    }
   ],
   "source": [
    "pl.read_ndjson('../../../../data/SampleHDS.json')"
   ]
  },
  {
   "attachments": {},
   "cell_type": "markdown",
   "metadata": {},
   "source": [
    "As you can see, this dataset consists of regular predictors, IH predictors, context keys and the outcome column. Additionally, some columns are numeric, others are strings. Let's first initialize the DataAnonymization class."
   ]
  },
  {
   "cell_type": "code",
   "execution_count": 4,
   "metadata": {
    "execution": {
     "iopub.execute_input": "2024-04-08T14:46:18.397361Z",
     "iopub.status.busy": "2024-04-08T14:46:18.397186Z",
     "iopub.status.idle": "2024-04-08T14:46:18.404239Z",
     "shell.execute_reply": "2024-04-08T14:46:18.403715Z"
    }
   },
   "outputs": [],
   "source": [
    "anon = DataAnonymization(hds_folder='../../../../data/')"
   ]
  },
  {
   "attachments": {},
   "cell_type": "markdown",
   "metadata": {},
   "source": [
    "By default, the class applies a set of anonymisation techniques:\n",
    "- Column names are remapped to a non-descriptive name\n",
    "- Categorical values are hashed with a random seed\n",
    "- Numerical values are normalized between 0 and 1\n",
    "- Outcomes are mapped to a binary outcome.\n",
    "\n",
    "To apply these techniques, simply call `.process()`:"
   ]
  },
  {
   "cell_type": "code",
   "execution_count": 5,
   "metadata": {
    "execution": {
     "iopub.execute_input": "2024-04-08T14:46:18.406433Z",
     "iopub.status.busy": "2024-04-08T14:46:18.406086Z",
     "iopub.status.idle": "2024-04-08T14:46:18.411652Z",
     "shell.execute_reply": "2024-04-08T14:46:18.411146Z"
    }
   },
   "outputs": [
    {
     "data": {
      "text/html": [
       "<div><style>\n",
       ".dataframe > thead > tr,\n",
       ".dataframe > tbody > tr {\n",
       "  text-align: right;\n",
       "  white-space: pre-wrap;\n",
       "}\n",
       "</style>\n",
       "<small>shape: (7, 7)</small><table border=\"1\" class=\"dataframe\"><thead><tr><th>PREDICTOR_0</th><th>filename</th><th>PREDICTOR_2</th><th>PREDICTOR_3</th><th>Context_Name</th><th>IH_PREDICTOR_0</th><th>Decision_Outcome</th></tr><tr><td>f64</td><td>str</td><td>str</td><td>str</td><td>str</td><td>str</td><td>bool</td></tr></thead><tbody><tr><td>0.983033</td><td>&quot;../../../../da…</td><td>&quot;72788730038330…</td><td>&quot;12781120653053…</td><td>&quot;17736740143650…</td><td>&quot;12039258766267…</td><td>false</td></tr><tr><td>0.144221</td><td>&quot;../../../../da…</td><td>&quot;22206279788881…</td><td>&quot;27748122282797…</td><td>&quot;17736740143650…</td><td>&quot;17068669108224…</td><td>true</td></tr><tr><td>0.679745</td><td>&quot;../../../../da…</td><td>&quot;16369527491381…</td><td>&quot;92830827823640…</td><td>&quot;15613603902670…</td><td>&quot;12039258766267…</td><td>false</td></tr><tr><td>1.0</td><td>&quot;../../../../da…</td><td>&quot;22206279788881…</td><td>&quot;60896861322761…</td><td>&quot;13316449201372…</td><td>&quot;12039258766267…</td><td>false</td></tr><tr><td>0.718982</td><td>&quot;../../../../da…</td><td>&quot;72788730038330…</td><td>&quot;64192875959620…</td><td>&quot;13316449201372…</td><td>&quot;63219951171818…</td><td>true</td></tr><tr><td>0.0</td><td>&quot;../../../../da…</td><td>&quot;16369527491381…</td><td>&quot;59176465353257…</td><td>&quot;92580254089113…</td><td>null</td><td>false</td></tr><tr><td>0.02333</td><td>&quot;../../../../da…</td><td>&quot;16369527491381…</td><td>&quot;11657250963043…</td><td>&quot;13316449201372…</td><td>&quot;63219951171818…</td><td>false</td></tr></tbody></table></div>"
      ],
      "text/plain": [
       "shape: (7, 7)\n",
       "┌─────────────┬──────────────┬─────────────┬─────────────┬─────────────┬─────────────┬─────────────┐\n",
       "│ PREDICTOR_0 ┆ filename     ┆ PREDICTOR_2 ┆ PREDICTOR_3 ┆ Context_Nam ┆ IH_PREDICTO ┆ Decision_Ou │\n",
       "│ ---         ┆ ---          ┆ ---         ┆ ---         ┆ e           ┆ R_0         ┆ tcome       │\n",
       "│ f64         ┆ str          ┆ str         ┆ str         ┆ ---         ┆ ---         ┆ ---         │\n",
       "│             ┆              ┆             ┆             ┆ str         ┆ str         ┆ bool        │\n",
       "╞═════════════╪══════════════╪═════════════╪═════════════╪═════════════╪═════════════╪═════════════╡\n",
       "│ 0.983033    ┆ ../../../../ ┆ 72788730038 ┆ 12781120653 ┆ 17736740143 ┆ 12039258766 ┆ false       │\n",
       "│             ┆ data/SampleH ┆ 33001513    ┆ 053037117   ┆ 650327887   ┆ 267680052   ┆             │\n",
       "│             ┆ DS.json      ┆             ┆             ┆             ┆             ┆             │\n",
       "│ 0.144221    ┆ ../../../../ ┆ 22206279788 ┆ 27748122282 ┆ 17736740143 ┆ 17068669108 ┆ true        │\n",
       "│             ┆ data/SampleH ┆ 88148512    ┆ 79743199    ┆ 650327887   ┆ 224573048   ┆             │\n",
       "│             ┆ DS.json      ┆             ┆             ┆             ┆             ┆             │\n",
       "│ 0.679745    ┆ ../../../../ ┆ 16369527491 ┆ 92830827823 ┆ 15613603902 ┆ 12039258766 ┆ false       │\n",
       "│             ┆ data/SampleH ┆ 381047857   ┆ 64088794    ┆ 670869576   ┆ 267680052   ┆             │\n",
       "│             ┆ DS.json      ┆             ┆             ┆             ┆             ┆             │\n",
       "│ 1.0         ┆ ../../../../ ┆ 22206279788 ┆ 60896861322 ┆ 13316449201 ┆ 12039258766 ┆ false       │\n",
       "│             ┆ data/SampleH ┆ 88148512    ┆ 76111604    ┆ 372171731   ┆ 267680052   ┆             │\n",
       "│             ┆ DS.json      ┆             ┆             ┆             ┆             ┆             │\n",
       "│ 0.718982    ┆ ../../../../ ┆ 72788730038 ┆ 64192875959 ┆ 13316449201 ┆ 63219951171 ┆ true        │\n",
       "│             ┆ data/SampleH ┆ 33001513    ┆ 62091074    ┆ 372171731   ┆ 81848949    ┆             │\n",
       "│             ┆ DS.json      ┆             ┆             ┆             ┆             ┆             │\n",
       "│ 0.0         ┆ ../../../../ ┆ 16369527491 ┆ 59176465353 ┆ 92580254089 ┆ null        ┆ false       │\n",
       "│             ┆ data/SampleH ┆ 381047857   ┆ 2574730     ┆ 11341511    ┆             ┆             │\n",
       "│             ┆ DS.json      ┆             ┆             ┆             ┆             ┆             │\n",
       "│ 0.02333     ┆ ../../../../ ┆ 16369527491 ┆ 11657250963 ┆ 13316449201 ┆ 63219951171 ┆ false       │\n",
       "│             ┆ data/SampleH ┆ 381047857   ┆ 043054163   ┆ 372171731   ┆ 81848949    ┆             │\n",
       "│             ┆ DS.json      ┆             ┆             ┆             ┆             ┆             │\n",
       "└─────────────┴──────────────┴─────────────┴─────────────┴─────────────┴─────────────┴─────────────┘"
      ]
     },
     "execution_count": 5,
     "metadata": {},
     "output_type": "execute_result"
    }
   ],
   "source": [
    "anon.process()"
   ]
  },
  {
   "attachments": {},
   "cell_type": "markdown",
   "metadata": {},
   "source": [
    "To trace back the columns to their original names, the class also contains a mapping, which does not have to be provided."
   ]
  },
  {
   "cell_type": "code",
   "execution_count": 6,
   "metadata": {
    "execution": {
     "iopub.execute_input": "2024-04-08T14:46:18.413601Z",
     "iopub.status.busy": "2024-04-08T14:46:18.413268Z",
     "iopub.status.idle": "2024-04-08T14:46:18.416792Z",
     "shell.execute_reply": "2024-04-08T14:46:18.416286Z"
    }
   },
   "outputs": [
    {
     "data": {
      "text/plain": [
       "{'Customer_CLV': 'PREDICTOR_0',\n",
       " 'filename': 'filename',\n",
       " 'Customer_MaritalStatus': 'PREDICTOR_2',\n",
       " 'Customer_City': 'PREDICTOR_3',\n",
       " 'Context_Name': 'Context_Name',\n",
       " 'IH_Web_Inbound_Accepted_pxLastGroupID': 'IH_PREDICTOR_0',\n",
       " 'Decision_Outcome': 'Decision_Outcome'}"
      ]
     },
     "execution_count": 6,
     "metadata": {},
     "output_type": "execute_result"
    }
   ],
   "source": [
    "anon.column_mapping"
   ]
  },
  {
   "attachments": {},
   "cell_type": "markdown",
   "metadata": {},
   "source": [
    "## Configs\n",
    "\n",
    "Each capability can optionally be turned off - see below for the full list of config options, and refer to the API reference for the full description."
   ]
  },
  {
   "cell_type": "code",
   "execution_count": 7,
   "metadata": {
    "execution": {
     "iopub.execute_input": "2024-04-08T14:46:18.418832Z",
     "iopub.status.busy": "2024-04-08T14:46:18.418448Z",
     "iopub.status.idle": "2024-04-08T14:46:18.422581Z",
     "shell.execute_reply": "2024-04-08T14:46:18.422075Z"
    }
   },
   "outputs": [
    {
     "data": {
      "text/plain": [
       "{'config_file': None,\n",
       " 'hds_folder': '.',\n",
       " 'use_datamart': False,\n",
       " 'datamart_folder': 'datamart',\n",
       " 'output_format': 'ndjson',\n",
       " 'output_folder': 'output',\n",
       " 'mapping_file': 'mapping.map',\n",
       " 'mask_predictor_names': True,\n",
       " 'mask_context_key_names': False,\n",
       " 'mask_ih_names': True,\n",
       " 'mask_outcome_name': False,\n",
       " 'mask_predictor_values': True,\n",
       " 'mask_context_key_values': True,\n",
       " 'mask_ih_values': True,\n",
       " 'mask_outcome_values': True,\n",
       " 'context_key_label': 'Context_*',\n",
       " 'ih_label': 'IH_*',\n",
       " 'outcome_column': 'Decision_Outcome',\n",
       " 'positive_outcomes': ['Accepted', 'Clicked'],\n",
       " 'negative_outcomes': ['Rejected', 'Impression'],\n",
       " 'special_predictors': ['Decision_DecisionTime',\n",
       "  'Decision_OutcomeTime',\n",
       "  'Decision_Rank'],\n",
       " 'sample_percentage_schema_inferencing': 0.01}"
      ]
     },
     "execution_count": 7,
     "metadata": {},
     "output_type": "execute_result"
    }
   ],
   "source": [
    "dict(zip(Config.__init__.__code__.co_varnames[1:], Config.__init__.__defaults__))"
   ]
  },
  {
   "attachments": {},
   "cell_type": "markdown",
   "metadata": {},
   "source": [
    "It's easy to change these parameters by just passing the keyword arguments. In the following example, we\n",
    "- Keep the IH predictor names\n",
    "- Keep the outcome values\n",
    "- Keep the context key values\n",
    "- Keep the context key predictor names"
   ]
  },
  {
   "cell_type": "code",
   "execution_count": 8,
   "metadata": {
    "execution": {
     "iopub.execute_input": "2024-04-08T14:46:18.424525Z",
     "iopub.status.busy": "2024-04-08T14:46:18.424207Z",
     "iopub.status.idle": "2024-04-08T14:46:18.431532Z",
     "shell.execute_reply": "2024-04-08T14:46:18.431124Z"
    }
   },
   "outputs": [
    {
     "data": {
      "text/html": [
       "<div><style>\n",
       ".dataframe > thead > tr,\n",
       ".dataframe > tbody > tr {\n",
       "  text-align: right;\n",
       "  white-space: pre-wrap;\n",
       "}\n",
       "</style>\n",
       "<small>shape: (7, 7)</small><table border=\"1\" class=\"dataframe\"><thead><tr><th>PREDICTOR_0</th><th>filename</th><th>PREDICTOR_2</th><th>PREDICTOR_3</th><th>Context_Name</th><th>IH_Web_Inbound_Accepted_pxLastGroupID</th><th>Decision_Outcome</th></tr><tr><td>f64</td><td>str</td><td>str</td><td>str</td><td>str</td><td>str</td><td>str</td></tr></thead><tbody><tr><td>0.983033</td><td>&quot;../../../../da…</td><td>&quot;87117503304295…</td><td>&quot;14202024361144…</td><td>&quot;FirstMortgage3…</td><td>&quot;11192272087508…</td><td>&quot;Rejected&quot;</td></tr><tr><td>0.144221</td><td>&quot;../../../../da…</td><td>&quot;42540617417657…</td><td>&quot;11178337218528…</td><td>&quot;FirstMortgage3…</td><td>&quot;10344059511447…</td><td>&quot;Accepted&quot;</td></tr><tr><td>0.679745</td><td>&quot;../../../../da…</td><td>&quot;27995035000155…</td><td>&quot;20984180118021…</td><td>&quot;MoneyMarketSav…</td><td>&quot;11192272087508…</td><td>&quot;Rejected&quot;</td></tr><tr><td>1.0</td><td>&quot;../../../../da…</td><td>&quot;42540617417657…</td><td>&quot;15604858249977…</td><td>&quot;BasicChecking&quot;</td><td>&quot;11192272087508…</td><td>&quot;Rejected&quot;</td></tr><tr><td>0.718982</td><td>&quot;../../../../da…</td><td>&quot;87117503304295…</td><td>&quot;80674180549228…</td><td>&quot;BasicChecking&quot;</td><td>&quot;16713176384335…</td><td>&quot;Accepted&quot;</td></tr><tr><td>0.0</td><td>&quot;../../../../da…</td><td>&quot;27995035000155…</td><td>&quot;13829737525127…</td><td>&quot;UPlusFinPerson…</td><td>null</td><td>&quot;Rejected&quot;</td></tr><tr><td>0.02333</td><td>&quot;../../../../da…</td><td>&quot;27995035000155…</td><td>&quot;97664643145012…</td><td>&quot;BasicChecking&quot;</td><td>&quot;16713176384335…</td><td>&quot;Rejected&quot;</td></tr></tbody></table></div>"
      ],
      "text/plain": [
       "shape: (7, 7)\n",
       "┌─────────────┬──────────────┬─────────────┬─────────────┬─────────────┬─────────────┬─────────────┐\n",
       "│ PREDICTOR_0 ┆ filename     ┆ PREDICTOR_2 ┆ PREDICTOR_3 ┆ Context_Nam ┆ IH_Web_Inbo ┆ Decision_Ou │\n",
       "│ ---         ┆ ---          ┆ ---         ┆ ---         ┆ e           ┆ und_Accepte ┆ tcome       │\n",
       "│ f64         ┆ str          ┆ str         ┆ str         ┆ ---         ┆ d_pxLastGr… ┆ ---         │\n",
       "│             ┆              ┆             ┆             ┆ str         ┆ ---         ┆ str         │\n",
       "│             ┆              ┆             ┆             ┆             ┆ str         ┆             │\n",
       "╞═════════════╪══════════════╪═════════════╪═════════════╪═════════════╪═════════════╪═════════════╡\n",
       "│ 0.983033    ┆ ../../../../ ┆ 87117503304 ┆ 14202024361 ┆ FirstMortga ┆ 11192272087 ┆ Rejected    │\n",
       "│             ┆ data/SampleH ┆ 29509434    ┆ 144342663   ┆ ge30yr      ┆ 508940279   ┆             │\n",
       "│             ┆ DS.json      ┆             ┆             ┆             ┆             ┆             │\n",
       "│ 0.144221    ┆ ../../../../ ┆ 42540617417 ┆ 11178337218 ┆ FirstMortga ┆ 10344059511 ┆ Accepted    │\n",
       "│             ┆ data/SampleH ┆ 65767657    ┆ 528725855   ┆ ge30yr      ┆ 44749839    ┆             │\n",
       "│             ┆ DS.json      ┆             ┆             ┆             ┆             ┆             │\n",
       "│ 0.679745    ┆ ../../../../ ┆ 27995035000 ┆ 20984180118 ┆ MoneyMarket ┆ 11192272087 ┆ Rejected    │\n",
       "│             ┆ data/SampleH ┆ 15571291    ┆ 02152416    ┆ SavingsAcco ┆ 508940279   ┆             │\n",
       "│             ┆ DS.json      ┆             ┆             ┆ unt         ┆             ┆             │\n",
       "│ 1.0         ┆ ../../../../ ┆ 42540617417 ┆ 15604858249 ┆ BasicChecki ┆ 11192272087 ┆ Rejected    │\n",
       "│             ┆ data/SampleH ┆ 65767657    ┆ 977783150   ┆ ng          ┆ 508940279   ┆             │\n",
       "│             ┆ DS.json      ┆             ┆             ┆             ┆             ┆             │\n",
       "│ 0.718982    ┆ ../../../../ ┆ 87117503304 ┆ 80674180549 ┆ BasicChecki ┆ 16713176384 ┆ Accepted    │\n",
       "│             ┆ data/SampleH ┆ 29509434    ┆ 22833736    ┆ ng          ┆ 335673932   ┆             │\n",
       "│             ┆ DS.json      ┆             ┆             ┆             ┆             ┆             │\n",
       "│ 0.0         ┆ ../../../../ ┆ 27995035000 ┆ 13829737525 ┆ UPlusFinPer ┆ null        ┆ Rejected    │\n",
       "│             ┆ data/SampleH ┆ 15571291    ┆ 127428613   ┆ sonal       ┆             ┆             │\n",
       "│             ┆ DS.json      ┆             ┆             ┆             ┆             ┆             │\n",
       "│ 0.02333     ┆ ../../../../ ┆ 27995035000 ┆ 97664643145 ┆ BasicChecki ┆ 16713176384 ┆ Rejected    │\n",
       "│             ┆ data/SampleH ┆ 15571291    ┆ 01239830    ┆ ng          ┆ 335673932   ┆             │\n",
       "│             ┆ DS.json      ┆             ┆             ┆             ┆             ┆             │\n",
       "└─────────────┴──────────────┴─────────────┴─────────────┴─────────────┴─────────────┴─────────────┘"
      ]
     },
     "execution_count": 8,
     "metadata": {},
     "output_type": "execute_result"
    }
   ],
   "source": [
    "anon = DataAnonymization(\n",
    "    hds_folder=\"../../../../data/\",\n",
    "    mask_ih_names=False,\n",
    "    mask_outcome_values=False,\n",
    "    mask_context_key_values=False,\n",
    "    mask_context_key_names=False,\n",
    ")\n",
    "anon.process()\n"
   ]
  },
  {
   "attachments": {},
   "cell_type": "markdown",
   "metadata": {},
   "source": [
    "The configs can also be written and read as such:"
   ]
  },
  {
   "cell_type": "code",
   "execution_count": 9,
   "metadata": {
    "execution": {
     "iopub.execute_input": "2024-04-08T14:46:18.433585Z",
     "iopub.status.busy": "2024-04-08T14:46:18.433281Z",
     "iopub.status.idle": "2024-04-08T14:46:18.436032Z",
     "shell.execute_reply": "2024-04-08T14:46:18.435609Z"
    }
   },
   "outputs": [],
   "source": [
    "anon.config.save_to_config_file('config.json')"
   ]
  },
  {
   "cell_type": "code",
   "execution_count": 10,
   "metadata": {
    "execution": {
     "iopub.execute_input": "2024-04-08T14:46:18.437924Z",
     "iopub.status.busy": "2024-04-08T14:46:18.437587Z",
     "iopub.status.idle": "2024-04-08T14:46:18.445028Z",
     "shell.execute_reply": "2024-04-08T14:46:18.444517Z"
    }
   },
   "outputs": [
    {
     "data": {
      "text/html": [
       "<div><style>\n",
       ".dataframe > thead > tr,\n",
       ".dataframe > tbody > tr {\n",
       "  text-align: right;\n",
       "  white-space: pre-wrap;\n",
       "}\n",
       "</style>\n",
       "<small>shape: (7, 7)</small><table border=\"1\" class=\"dataframe\"><thead><tr><th>PREDICTOR_0</th><th>filename</th><th>PREDICTOR_2</th><th>PREDICTOR_3</th><th>Context_Name</th><th>IH_Web_Inbound_Accepted_pxLastGroupID</th><th>Decision_Outcome</th></tr><tr><td>f64</td><td>str</td><td>str</td><td>str</td><td>str</td><td>str</td><td>str</td></tr></thead><tbody><tr><td>0.983033</td><td>&quot;../../../../da…</td><td>&quot;13470925634867…</td><td>&quot;50502068151212…</td><td>&quot;FirstMortgage3…</td><td>&quot;12744160209502…</td><td>&quot;Rejected&quot;</td></tr><tr><td>0.144221</td><td>&quot;../../../../da…</td><td>&quot;18367638469402…</td><td>&quot;19882009805564…</td><td>&quot;FirstMortgage3…</td><td>&quot;39845621792230…</td><td>&quot;Accepted&quot;</td></tr><tr><td>0.679745</td><td>&quot;../../../../da…</td><td>&quot;14221467709144…</td><td>&quot;17873532394827…</td><td>&quot;MoneyMarketSav…</td><td>&quot;12744160209502…</td><td>&quot;Rejected&quot;</td></tr><tr><td>1.0</td><td>&quot;../../../../da…</td><td>&quot;18367638469402…</td><td>&quot;15777196590122…</td><td>&quot;BasicChecking&quot;</td><td>&quot;12744160209502…</td><td>&quot;Rejected&quot;</td></tr><tr><td>0.718982</td><td>&quot;../../../../da…</td><td>&quot;13470925634867…</td><td>&quot;15747025422004…</td><td>&quot;BasicChecking&quot;</td><td>&quot;73333829755546…</td><td>&quot;Accepted&quot;</td></tr><tr><td>0.0</td><td>&quot;../../../../da…</td><td>&quot;14221467709144…</td><td>&quot;17900049367038…</td><td>&quot;UPlusFinPerson…</td><td>null</td><td>&quot;Rejected&quot;</td></tr><tr><td>0.02333</td><td>&quot;../../../../da…</td><td>&quot;14221467709144…</td><td>&quot;45989791903664…</td><td>&quot;BasicChecking&quot;</td><td>&quot;73333829755546…</td><td>&quot;Rejected&quot;</td></tr></tbody></table></div>"
      ],
      "text/plain": [
       "shape: (7, 7)\n",
       "┌─────────────┬──────────────┬─────────────┬─────────────┬─────────────┬─────────────┬─────────────┐\n",
       "│ PREDICTOR_0 ┆ filename     ┆ PREDICTOR_2 ┆ PREDICTOR_3 ┆ Context_Nam ┆ IH_Web_Inbo ┆ Decision_Ou │\n",
       "│ ---         ┆ ---          ┆ ---         ┆ ---         ┆ e           ┆ und_Accepte ┆ tcome       │\n",
       "│ f64         ┆ str          ┆ str         ┆ str         ┆ ---         ┆ d_pxLastGr… ┆ ---         │\n",
       "│             ┆              ┆             ┆             ┆ str         ┆ ---         ┆ str         │\n",
       "│             ┆              ┆             ┆             ┆             ┆ str         ┆             │\n",
       "╞═════════════╪══════════════╪═════════════╪═════════════╪═════════════╪═════════════╪═════════════╡\n",
       "│ 0.983033    ┆ ../../../../ ┆ 13470925634 ┆ 50502068151 ┆ FirstMortga ┆ 12744160209 ┆ Rejected    │\n",
       "│             ┆ data/SampleH ┆ 867950565   ┆ 21239052    ┆ ge30yr      ┆ 502429720   ┆             │\n",
       "│             ┆ DS.json      ┆             ┆             ┆             ┆             ┆             │\n",
       "│ 0.144221    ┆ ../../../../ ┆ 18367638469 ┆ 19882009805 ┆ FirstMortga ┆ 39845621792 ┆ Accepted    │\n",
       "│             ┆ data/SampleH ┆ 402172398   ┆ 56424522    ┆ ge30yr      ┆ 23088147    ┆             │\n",
       "│             ┆ DS.json      ┆             ┆             ┆             ┆             ┆             │\n",
       "│ 0.679745    ┆ ../../../../ ┆ 14221467709 ┆ 17873532394 ┆ MoneyMarket ┆ 12744160209 ┆ Rejected    │\n",
       "│             ┆ data/SampleH ┆ 144272925   ┆ 827568618   ┆ SavingsAcco ┆ 502429720   ┆             │\n",
       "│             ┆ DS.json      ┆             ┆             ┆ unt         ┆             ┆             │\n",
       "│ 1.0         ┆ ../../../../ ┆ 18367638469 ┆ 15777196590 ┆ BasicChecki ┆ 12744160209 ┆ Rejected    │\n",
       "│             ┆ data/SampleH ┆ 402172398   ┆ 122024785   ┆ ng          ┆ 502429720   ┆             │\n",
       "│             ┆ DS.json      ┆             ┆             ┆             ┆             ┆             │\n",
       "│ 0.718982    ┆ ../../../../ ┆ 13470925634 ┆ 15747025422 ┆ BasicChecki ┆ 73333829755 ┆ Accepted    │\n",
       "│             ┆ data/SampleH ┆ 867950565   ┆ 004750370   ┆ ng          ┆ 54602863    ┆             │\n",
       "│             ┆ DS.json      ┆             ┆             ┆             ┆             ┆             │\n",
       "│ 0.0         ┆ ../../../../ ┆ 14221467709 ┆ 17900049367 ┆ UPlusFinPer ┆ null        ┆ Rejected    │\n",
       "│             ┆ data/SampleH ┆ 144272925   ┆ 038838156   ┆ sonal       ┆             ┆             │\n",
       "│             ┆ DS.json      ┆             ┆             ┆             ┆             ┆             │\n",
       "│ 0.02333     ┆ ../../../../ ┆ 14221467709 ┆ 45989791903 ┆ BasicChecki ┆ 73333829755 ┆ Rejected    │\n",
       "│             ┆ data/SampleH ┆ 144272925   ┆ 66438686    ┆ ng          ┆ 54602863    ┆             │\n",
       "│             ┆ DS.json      ┆             ┆             ┆             ┆             ┆             │\n",
       "└─────────────┴──────────────┴─────────────┴─────────────┴─────────────┴─────────────┴─────────────┘"
      ]
     },
     "execution_count": 10,
     "metadata": {},
     "output_type": "execute_result"
    }
   ],
   "source": [
    "anon = DataAnonymization(config=Config(config_file='config.json'))\n",
    "anon.process()"
   ]
  },
  {
   "attachments": {},
   "cell_type": "markdown",
   "metadata": {},
   "source": [
    "## Exporting\n",
    "Two functions export:\n",
    "- `create_mapping_file()` writes the mapping file of the predictor names\n",
    "- `write_to_output()` writes the processed dataframe to disk\n",
    "\n",
    "Write to output accepts the following extensions: `[\"ndjson\", \"parquet\", \"arrow\", \"csv\"]`"
   ]
  },
  {
   "cell_type": "code",
   "execution_count": 11,
   "metadata": {
    "execution": {
     "iopub.execute_input": "2024-04-08T14:46:18.447043Z",
     "iopub.status.busy": "2024-04-08T14:46:18.446681Z",
     "iopub.status.idle": "2024-04-08T14:46:18.450239Z",
     "shell.execute_reply": "2024-04-08T14:46:18.449704Z"
    }
   },
   "outputs": [
    {
     "name": "stdout",
     "output_type": "stream",
     "text": [
      "Customer_CLV=PREDICTOR_0\n",
      "filename=filename\n",
      "Customer_MaritalStatus=PREDICTOR_2\n",
      "Customer_City=PREDICTOR_3\n",
      "Context_Name=Context_Name\n",
      "IH_Web_Inbound_Accepted_pxLastGroupID=IH_Web_Inbound_Accepted_pxLastGroupID\n",
      "Decision_Outcome=Decision_Outcome\n",
      "\n"
     ]
    }
   ],
   "source": [
    "anon.create_mapping_file()\n",
    "with open('mapping.map') as f:\n",
    "    print(f.read())"
   ]
  },
  {
   "cell_type": "code",
   "execution_count": 12,
   "metadata": {
    "execution": {
     "iopub.execute_input": "2024-04-08T14:46:18.452223Z",
     "iopub.status.busy": "2024-04-08T14:46:18.451936Z",
     "iopub.status.idle": "2024-04-08T14:46:18.455411Z",
     "shell.execute_reply": "2024-04-08T14:46:18.454906Z"
    }
   },
   "outputs": [],
   "source": [
    "anon.write_to_output(ext='arrow')"
   ]
  },
  {
   "cell_type": "code",
   "execution_count": 13,
   "metadata": {
    "execution": {
     "iopub.execute_input": "2024-04-08T14:46:18.457386Z",
     "iopub.status.busy": "2024-04-08T14:46:18.457103Z",
     "iopub.status.idle": "2024-04-08T14:46:18.461604Z",
     "shell.execute_reply": "2024-04-08T14:46:18.461099Z"
    }
   },
   "outputs": [
    {
     "data": {
      "text/html": [
       "<div><style>\n",
       ".dataframe > thead > tr,\n",
       ".dataframe > tbody > tr {\n",
       "  text-align: right;\n",
       "  white-space: pre-wrap;\n",
       "}\n",
       "</style>\n",
       "<small>shape: (7, 6)</small><table border=\"1\" class=\"dataframe\"><thead><tr><th>PREDICTOR_0</th><th>PREDICTOR_2</th><th>PREDICTOR_3</th><th>Context_Name</th><th>IH_Web_Inbound_Accepted_pxLastGroupID</th><th>Decision_Outcome</th></tr><tr><td>f64</td><td>str</td><td>str</td><td>str</td><td>str</td><td>str</td></tr></thead><tbody><tr><td>0.983033</td><td>&quot;61061253883749…</td><td>&quot;98531287659882…</td><td>&quot;FirstMortgage3…</td><td>&quot;17915170930029…</td><td>&quot;Rejected&quot;</td></tr><tr><td>0.144221</td><td>&quot;13432418662148…</td><td>&quot;82213411512049…</td><td>&quot;FirstMortgage3…</td><td>&quot;89235748973236…</td><td>&quot;Accepted&quot;</td></tr><tr><td>0.679745</td><td>&quot;13375477806371…</td><td>&quot;16584412636866…</td><td>&quot;MoneyMarketSav…</td><td>&quot;17915170930029…</td><td>&quot;Rejected&quot;</td></tr><tr><td>1.0</td><td>&quot;13432418662148…</td><td>&quot;52574187773767…</td><td>&quot;BasicChecking&quot;</td><td>&quot;17915170930029…</td><td>&quot;Rejected&quot;</td></tr><tr><td>0.718982</td><td>&quot;61061253883749…</td><td>&quot;88758840027919…</td><td>&quot;BasicChecking&quot;</td><td>&quot;97893759114536…</td><td>&quot;Accepted&quot;</td></tr><tr><td>0.0</td><td>&quot;13375477806371…</td><td>&quot;60208190935285…</td><td>&quot;UPlusFinPerson…</td><td>null</td><td>&quot;Rejected&quot;</td></tr><tr><td>0.02333</td><td>&quot;13375477806371…</td><td>&quot;89862634108262…</td><td>&quot;BasicChecking&quot;</td><td>&quot;97893759114536…</td><td>&quot;Rejected&quot;</td></tr></tbody></table></div>"
      ],
      "text/plain": [
       "shape: (7, 6)\n",
       "┌─────────────┬────────────────┬────────────────┬────────────────┬────────────────┬────────────────┐\n",
       "│ PREDICTOR_0 ┆ PREDICTOR_2    ┆ PREDICTOR_3    ┆ Context_Name   ┆ IH_Web_Inbound ┆ Decision_Outco │\n",
       "│ ---         ┆ ---            ┆ ---            ┆ ---            ┆ _Accepted_pxLa ┆ me             │\n",
       "│ f64         ┆ str            ┆ str            ┆ str            ┆ stGr…          ┆ ---            │\n",
       "│             ┆                ┆                ┆                ┆ ---            ┆ str            │\n",
       "│             ┆                ┆                ┆                ┆ str            ┆                │\n",
       "╞═════════════╪════════════════╪════════════════╪════════════════╪════════════════╪════════════════╡\n",
       "│ 0.983033    ┆ 61061253883749 ┆ 98531287659882 ┆ FirstMortgage3 ┆ 17915170930029 ┆ Rejected       │\n",
       "│             ┆ 83829          ┆ 05434          ┆ 0yr            ┆ 330998         ┆                │\n",
       "│ 0.144221    ┆ 13432418662148 ┆ 82213411512049 ┆ FirstMortgage3 ┆ 89235748973236 ┆ Accepted       │\n",
       "│             ┆ 969330         ┆ 62515          ┆ 0yr            ┆ 59505          ┆                │\n",
       "│ 0.679745    ┆ 13375477806371 ┆ 16584412636866 ┆ MoneyMarketSav ┆ 17915170930029 ┆ Rejected       │\n",
       "│             ┆ 94081          ┆ 765805         ┆ ingsAccount    ┆ 330998         ┆                │\n",
       "│ 1.0         ┆ 13432418662148 ┆ 52574187773767 ┆ BasicChecking  ┆ 17915170930029 ┆ Rejected       │\n",
       "│             ┆ 969330         ┆ 77957          ┆                ┆ 330998         ┆                │\n",
       "│ 0.718982    ┆ 61061253883749 ┆ 88758840027919 ┆ BasicChecking  ┆ 97893759114536 ┆ Accepted       │\n",
       "│             ┆ 83829          ┆ 81829          ┆                ┆ 34085          ┆                │\n",
       "│ 0.0         ┆ 13375477806371 ┆ 60208190935285 ┆ UPlusFinPerson ┆ null           ┆ Rejected       │\n",
       "│             ┆ 94081          ┆ 98450          ┆ al             ┆                ┆                │\n",
       "│ 0.02333     ┆ 13375477806371 ┆ 89862634108262 ┆ BasicChecking  ┆ 97893759114536 ┆ Rejected       │\n",
       "│             ┆ 94081          ┆ 96732          ┆                ┆ 34085          ┆                │\n",
       "└─────────────┴────────────────┴────────────────┴────────────────┴────────────────┴────────────────┘"
      ]
     },
     "execution_count": 13,
     "metadata": {},
     "output_type": "execute_result"
    }
   ],
   "source": [
    "pl.read_ipc('output/hds.arrow')"
   ]
  },
  {
   "attachments": {},
   "cell_type": "markdown",
   "metadata": {
    "nbsphinx": "hidden"
   },
   "source": [
    "## Advanced: Hash fuctions\n",
    "\n",
    "By default, we use [the same hashing algorithm Polars](https://pola-rs.github.io/polars/py-polars/html/reference/expressions/api/polars.Expr.hash.html#polars.Expr.hash) uses: [xxhash](https://github.com/Cyan4973/xxHash), as implemented [here](https://github.com/pola-rs/polars/blob/3f287f370b3c388ed2f3f218b2c096382548136f/polars/polars-core/src/vector_hasher.rs#L266). xxhash is fast to compute, and you can check its performance in collision, dispersion and randomness [here](https://github.com/Cyan4973/xxHash/tree/dev/tests). \n",
    "\n",
    "xxhash accepts four distinct seeds, but by default we set the seeds to `0`. It is possible to set the `seed` argument of the `process()` function to `'random'`, which will set all four seeds to a random integer between `0` and `1000000000`. Alternatively, it is possible to supply the four seeds manually with arguments `seed`, `seed_1`, `seed_2` and `seed_3`. \n",
    "\n",
    "If the xxhash with (random) seed(s) is not deemed sufficiently secure, it is possible to use your own hashing algorithm.\n",
    "\n",
    "Note that since we're now running python code and not native Polars code anymore, this will be _significantly_ slower. Nonetheless, it is possible.\n",
    "\n",
    "Just as an example - this is how one would use sha3_256:"
   ]
  },
  {
   "cell_type": "code",
   "execution_count": 14,
   "metadata": {
    "execution": {
     "iopub.execute_input": "2024-04-08T14:46:18.463503Z",
     "iopub.status.busy": "2024-04-08T14:46:18.463227Z",
     "iopub.status.idle": "2024-04-08T14:46:18.470350Z",
     "shell.execute_reply": "2024-04-08T14:46:18.469822Z"
    },
    "nbsphinx": "hidden"
   },
   "outputs": [
    {
     "data": {
      "text/html": [
       "<div><style>\n",
       ".dataframe > thead > tr,\n",
       ".dataframe > tbody > tr {\n",
       "  text-align: right;\n",
       "  white-space: pre-wrap;\n",
       "}\n",
       "</style>\n",
       "<small>shape: (7, 7)</small><table border=\"1\" class=\"dataframe\"><thead><tr><th>PREDICTOR_0</th><th>filename</th><th>PREDICTOR_2</th><th>PREDICTOR_3</th><th>Context_Name</th><th>IH_Web_Inbound_Accepted_pxLastGroupID</th><th>Decision_Outcome</th></tr><tr><td>f64</td><td>str</td><td>str</td><td>str</td><td>str</td><td>str</td><td>str</td></tr></thead><tbody><tr><td>0.983033</td><td>&quot;../../../../da…</td><td>&quot;af486bc1815c72…</td><td>&quot;c73023dda51de1…</td><td>&quot;FirstMortgage3…</td><td>&quot;2513d0e24d8d02…</td><td>&quot;Rejected&quot;</td></tr><tr><td>0.144221</td><td>&quot;../../../../da…</td><td>&quot;3cdf7b1ae1342e…</td><td>&quot;5414b197fb87b3…</td><td>&quot;FirstMortgage3…</td><td>&quot;8b55bf62fc2ecd…</td><td>&quot;Accepted&quot;</td></tr><tr><td>0.679745</td><td>&quot;../../../../da…</td><td>&quot;806ef34eb8237f…</td><td>&quot;892f5d61a9215e…</td><td>&quot;MoneyMarketSav…</td><td>&quot;2513d0e24d8d02…</td><td>&quot;Rejected&quot;</td></tr><tr><td>1.0</td><td>&quot;../../../../da…</td><td>&quot;3cdf7b1ae1342e…</td><td>&quot;c3aa807d9e927a…</td><td>&quot;BasicChecking&quot;</td><td>&quot;2513d0e24d8d02…</td><td>&quot;Rejected&quot;</td></tr><tr><td>0.718982</td><td>&quot;../../../../da…</td><td>&quot;af486bc1815c72…</td><td>&quot;c2d492f9a05073…</td><td>&quot;BasicChecking&quot;</td><td>&quot;1cd082ecbd5dd9…</td><td>&quot;Accepted&quot;</td></tr><tr><td>0.0</td><td>&quot;../../../../da…</td><td>&quot;806ef34eb8237f…</td><td>&quot;b21059221605c4…</td><td>&quot;UPlusFinPerson…</td><td>null</td><td>&quot;Rejected&quot;</td></tr><tr><td>0.02333</td><td>&quot;../../../../da…</td><td>&quot;806ef34eb8237f…</td><td>&quot;80cbe489dcecd4…</td><td>&quot;BasicChecking&quot;</td><td>&quot;1cd082ecbd5dd9…</td><td>&quot;Rejected&quot;</td></tr></tbody></table></div>"
      ],
      "text/plain": [
       "shape: (7, 7)\n",
       "┌─────────────┬──────────────┬─────────────┬─────────────┬─────────────┬─────────────┬─────────────┐\n",
       "│ PREDICTOR_0 ┆ filename     ┆ PREDICTOR_2 ┆ PREDICTOR_3 ┆ Context_Nam ┆ IH_Web_Inbo ┆ Decision_Ou │\n",
       "│ ---         ┆ ---          ┆ ---         ┆ ---         ┆ e           ┆ und_Accepte ┆ tcome       │\n",
       "│ f64         ┆ str          ┆ str         ┆ str         ┆ ---         ┆ d_pxLastGr… ┆ ---         │\n",
       "│             ┆              ┆             ┆             ┆ str         ┆ ---         ┆ str         │\n",
       "│             ┆              ┆             ┆             ┆             ┆ str         ┆             │\n",
       "╞═════════════╪══════════════╪═════════════╪═════════════╪═════════════╪═════════════╪═════════════╡\n",
       "│ 0.983033    ┆ ../../../../ ┆ af486bc1815 ┆ c73023dda51 ┆ FirstMortga ┆ 2513d0e24d8 ┆ Rejected    │\n",
       "│             ┆ data/SampleH ┆ c726c357890 ┆ de1b84f7af7 ┆ ge30yr      ┆ d0214eda4fb ┆             │\n",
       "│             ┆ DS.json      ┆ ac2a40ba98… ┆ 74fd6f8c73… ┆             ┆ 454447162b… ┆             │\n",
       "│ 0.144221    ┆ ../../../../ ┆ 3cdf7b1ae13 ┆ 5414b197fb8 ┆ FirstMortga ┆ 8b55bf62fc2 ┆ Accepted    │\n",
       "│             ┆ data/SampleH ┆ 42ef979ea2a ┆ 7b3f2e350d7 ┆ ge30yr      ┆ ecd16af97d4 ┆             │\n",
       "│             ┆ DS.json      ┆ 782541ad05… ┆ a74a840a81… ┆             ┆ 8e469362cf… ┆             │\n",
       "│ 0.679745    ┆ ../../../../ ┆ 806ef34eb82 ┆ 892f5d61a92 ┆ MoneyMarket ┆ 2513d0e24d8 ┆ Rejected    │\n",
       "│             ┆ data/SampleH ┆ 37f4db85004 ┆ 15ef985f3fa ┆ SavingsAcco ┆ d0214eda4fb ┆             │\n",
       "│             ┆ DS.json      ┆ e96dc471d8… ┆ 293d51c92e… ┆ unt         ┆ 454447162b… ┆             │\n",
       "│ 1.0         ┆ ../../../../ ┆ 3cdf7b1ae13 ┆ c3aa807d9e9 ┆ BasicChecki ┆ 2513d0e24d8 ┆ Rejected    │\n",
       "│             ┆ data/SampleH ┆ 42ef979ea2a ┆ 27ae426a89e ┆ ng          ┆ d0214eda4fb ┆             │\n",
       "│             ┆ DS.json      ┆ 782541ad05… ┆ 76a12b9160… ┆             ┆ 454447162b… ┆             │\n",
       "│ 0.718982    ┆ ../../../../ ┆ af486bc1815 ┆ c2d492f9a05 ┆ BasicChecki ┆ 1cd082ecbd5 ┆ Accepted    │\n",
       "│             ┆ data/SampleH ┆ c726c357890 ┆ 07327c14285 ┆ ng          ┆ dd95383b104 ┆             │\n",
       "│             ┆ DS.json      ┆ ac2a40ba98… ┆ e94e8ee54c… ┆             ┆ 65e395c1f7… ┆             │\n",
       "│ 0.0         ┆ ../../../../ ┆ 806ef34eb82 ┆ b2105922160 ┆ UPlusFinPer ┆ null        ┆ Rejected    │\n",
       "│             ┆ data/SampleH ┆ 37f4db85004 ┆ 5c49757cfe0 ┆ sonal       ┆             ┆             │\n",
       "│             ┆ DS.json      ┆ e96dc471d8… ┆ fee45640db… ┆             ┆             ┆             │\n",
       "│ 0.02333     ┆ ../../../../ ┆ 806ef34eb82 ┆ 80cbe489dce ┆ BasicChecki ┆ 1cd082ecbd5 ┆ Rejected    │\n",
       "│             ┆ data/SampleH ┆ 37f4db85004 ┆ cd4b9304898 ┆ ng          ┆ dd95383b104 ┆             │\n",
       "│             ┆ DS.json      ┆ e96dc471d8… ┆ c9986afeeb… ┆             ┆ 65e395c1f7… ┆             │\n",
       "└─────────────┴──────────────┴─────────────┴─────────────┴─────────────┴─────────────┴─────────────┘"
      ]
     },
     "execution_count": 14,
     "metadata": {},
     "output_type": "execute_result"
    }
   ],
   "source": [
    "from hashlib import sha3_256\n",
    "\n",
    "anon.process(algorithm=lambda x: sha3_256(x.encode()).hexdigest())"
   ]
  }
 ],
 "metadata": {
  "kernelspec": {
   "display_name": "Python 3",
   "language": "python",
   "name": "python3"
  },
  "language_info": {
   "codemirror_mode": {
    "name": "ipython",
    "version": 3
   },
   "file_extension": ".py",
   "mimetype": "text/x-python",
   "name": "python",
   "nbconvert_exporter": "python",
   "pygments_lexer": "ipython3",
   "version": "3.11.8"
  },
  "vscode": {
   "interpreter": {
    "hash": "aee8b7b246df8f9039afb4144a1f6fd8d2ca17a180786b69acc140d282b71a49"
   }
  }
 },
 "nbformat": 4,
 "nbformat_minor": 2
}
