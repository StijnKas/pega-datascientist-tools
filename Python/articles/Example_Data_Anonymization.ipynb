{
 "cells": [
  {
   "attachments": {},
   "cell_type": "markdown",
   "metadata": {},
   "source": [
    "# Data Anonymization\n",
    "\n",
    "In Pega CDH 8.5 and up, it's now possible to record the historical data as seen by the Adaptive Models. See [this academy challenge](https://academy.pega.com/challenge/exporting-historical-data/v4) for reference. This historical data can be further used to experiment with offline models, but also to fine-tune the OOTB Gradient Boosting model. However, sharing this information with Pega can be sensitive as it contains raw predictor data. \n",
    "\n",
    "To this end, we provide a simple and transparent script to fully anonimize this dataset.\n",
    "\n",
    "The DataAnonymization script is now part of pdstools, and you can import it directly as such."
   ]
  },
  {
   "cell_type": "code",
   "execution_count": 1,
   "metadata": {
    "execution": {
     "iopub.execute_input": "2024-07-03T09:55:43.477394Z",
     "iopub.status.busy": "2024-07-03T09:55:43.477223Z",
     "iopub.status.idle": "2024-07-03T09:55:43.554043Z",
     "shell.execute_reply": "2024-07-03T09:55:43.553439Z"
    },
    "nbsphinx": "hidden"
   },
   "outputs": [],
   "source": [
    "# These lines are only for rendering in the docs, and are hidden through Jupyter tags\n",
    "# Do not run if you're running the notebook seperately\n",
    "\n",
    "import os  \n",
    "import sys\n",
    "import plotly.io as pio\n",
    "pio.renderers.default = \"notebook_connected\"\n",
    "\n",
    "sys.path.append(\"../../../\")\n",
    "sys.path.append('../../python')"
   ]
  },
  {
   "cell_type": "code",
   "execution_count": 2,
   "metadata": {
    "execution": {
     "iopub.execute_input": "2024-07-03T09:55:43.556569Z",
     "iopub.status.busy": "2024-07-03T09:55:43.556220Z",
     "iopub.status.idle": "2024-07-03T09:55:44.672598Z",
     "shell.execute_reply": "2024-07-03T09:55:44.672090Z"
    }
   },
   "outputs": [],
   "source": [
    "from pdstools import ADMDatamart\n",
    "from pdstools import Config, DataAnonymization\n",
    "import polars as pl"
   ]
  },
  {
   "attachments": {},
   "cell_type": "markdown",
   "metadata": {},
   "source": [
    "## Input data\n",
    "\n",
    "To demonstrate this process, we're going to anonymise this toy example dataframe:"
   ]
  },
  {
   "cell_type": "code",
   "execution_count": 3,
   "metadata": {
    "execution": {
     "iopub.execute_input": "2024-07-03T09:55:44.675226Z",
     "iopub.status.busy": "2024-07-03T09:55:44.674758Z",
     "iopub.status.idle": "2024-07-03T09:55:44.683844Z",
     "shell.execute_reply": "2024-07-03T09:55:44.683297Z"
    }
   },
   "outputs": [
    {
     "data": {
      "text/html": [
       "<div><style>\n",
       ".dataframe > thead > tr,\n",
       ".dataframe > tbody > tr {\n",
       "  text-align: right;\n",
       "  white-space: pre-wrap;\n",
       "}\n",
       "</style>\n",
       "<small>shape: (7, 6)</small><table border=\"1\" class=\"dataframe\"><thead><tr><th>Context_Name</th><th>Customer_MaritalStatus</th><th>Customer_CLV</th><th>Customer_City</th><th>IH_Web_Inbound_Accepted_pxLastGroupID</th><th>Decision_Outcome</th></tr><tr><td>str</td><td>str</td><td>i64</td><td>str</td><td>str</td><td>str</td></tr></thead><tbody><tr><td>&quot;FirstMortgage30yr&quot;</td><td>&quot;Married&quot;</td><td>1460</td><td>&quot;Port Raoul&quot;</td><td>&quot;Account&quot;</td><td>&quot;Rejected&quot;</td></tr><tr><td>&quot;FirstMortgage30yr&quot;</td><td>&quot;Unknown&quot;</td><td>669</td><td>&quot;Laurianneshire&quot;</td><td>&quot;AutoLoans&quot;</td><td>&quot;Accepted&quot;</td></tr><tr><td>&quot;MoneyMarketSavingsAccount&quot;</td><td>&quot;No Resp+&quot;</td><td>1174</td><td>&quot;Jacobshaven&quot;</td><td>&quot;Account&quot;</td><td>&quot;Rejected&quot;</td></tr><tr><td>&quot;BasicChecking&quot;</td><td>&quot;Unknown&quot;</td><td>1476</td><td>&quot;Lindton&quot;</td><td>&quot;Account&quot;</td><td>&quot;Rejected&quot;</td></tr><tr><td>&quot;BasicChecking&quot;</td><td>&quot;Married&quot;</td><td>1211</td><td>&quot;South Jimmieshire&quot;</td><td>&quot;DepositAccounts&quot;</td><td>&quot;Accepted&quot;</td></tr><tr><td>&quot;UPlusFinPersonal&quot;</td><td>&quot;No Resp+&quot;</td><td>533</td><td>&quot;Bergeville&quot;</td><td>null</td><td>&quot;Rejected&quot;</td></tr><tr><td>&quot;BasicChecking&quot;</td><td>&quot;No Resp+&quot;</td><td>555</td><td>&quot;Willyville&quot;</td><td>&quot;DepositAccounts&quot;</td><td>&quot;Rejected&quot;</td></tr></tbody></table></div>"
      ],
      "text/plain": [
       "shape: (7, 6)\n",
       "┌────────────────┬────────────────┬──────────────┬────────────────┬────────────────┬───────────────┐\n",
       "│ Context_Name   ┆ Customer_Marit ┆ Customer_CLV ┆ Customer_City  ┆ IH_Web_Inbound ┆ Decision_Outc │\n",
       "│ ---            ┆ alStatus       ┆ ---          ┆ ---            ┆ _Accepted_pxLa ┆ ome           │\n",
       "│ str            ┆ ---            ┆ i64          ┆ str            ┆ st…            ┆ ---           │\n",
       "│                ┆ str            ┆              ┆                ┆ ---            ┆ str           │\n",
       "│                ┆                ┆              ┆                ┆ str            ┆               │\n",
       "╞════════════════╪════════════════╪══════════════╪════════════════╪════════════════╪═══════════════╡\n",
       "│ FirstMortgage3 ┆ Married        ┆ 1460         ┆ Port Raoul     ┆ Account        ┆ Rejected      │\n",
       "│ 0yr            ┆                ┆              ┆                ┆                ┆               │\n",
       "│ FirstMortgage3 ┆ Unknown        ┆ 669          ┆ Laurianneshire ┆ AutoLoans      ┆ Accepted      │\n",
       "│ 0yr            ┆                ┆              ┆                ┆                ┆               │\n",
       "│ MoneyMarketSav ┆ No Resp+       ┆ 1174         ┆ Jacobshaven    ┆ Account        ┆ Rejected      │\n",
       "│ ingsAccount    ┆                ┆              ┆                ┆                ┆               │\n",
       "│ BasicChecking  ┆ Unknown        ┆ 1476         ┆ Lindton        ┆ Account        ┆ Rejected      │\n",
       "│ BasicChecking  ┆ Married        ┆ 1211         ┆ South          ┆ DepositAccount ┆ Accepted      │\n",
       "│                ┆                ┆              ┆ Jimmieshire    ┆ s              ┆               │\n",
       "│ UPlusFinPerson ┆ No Resp+       ┆ 533          ┆ Bergeville     ┆ null           ┆ Rejected      │\n",
       "│ al             ┆                ┆              ┆                ┆                ┆               │\n",
       "│ BasicChecking  ┆ No Resp+       ┆ 555          ┆ Willyville     ┆ DepositAccount ┆ Rejected      │\n",
       "│                ┆                ┆              ┆                ┆ s              ┆               │\n",
       "└────────────────┴────────────────┴──────────────┴────────────────┴────────────────┴───────────────┘"
      ]
     },
     "execution_count": 3,
     "metadata": {},
     "output_type": "execute_result"
    }
   ],
   "source": [
    "pl.read_ndjson('../../../../data/SampleHDS.json')"
   ]
  },
  {
   "attachments": {},
   "cell_type": "markdown",
   "metadata": {},
   "source": [
    "As you can see, this dataset consists of regular predictors, IH predictors, context keys and the outcome column. Additionally, some columns are numeric, others are strings. Let's first initialize the DataAnonymization class."
   ]
  },
  {
   "cell_type": "code",
   "execution_count": 4,
   "metadata": {
    "execution": {
     "iopub.execute_input": "2024-07-03T09:55:44.686292Z",
     "iopub.status.busy": "2024-07-03T09:55:44.685810Z",
     "iopub.status.idle": "2024-07-03T09:55:44.696008Z",
     "shell.execute_reply": "2024-07-03T09:55:44.695435Z"
    }
   },
   "outputs": [],
   "source": [
    "anon = DataAnonymization(hds_folder='../../../../data/')"
   ]
  },
  {
   "attachments": {},
   "cell_type": "markdown",
   "metadata": {},
   "source": [
    "By default, the class applies a set of anonymisation techniques:\n",
    "- Column names are remapped to a non-descriptive name\n",
    "- Categorical values are hashed with a random seed\n",
    "- Numerical values are normalized between 0 and 1\n",
    "- Outcomes are mapped to a binary outcome.\n",
    "\n",
    "To apply these techniques, simply call `.process()`:"
   ]
  },
  {
   "cell_type": "code",
   "execution_count": 5,
   "metadata": {
    "execution": {
     "iopub.execute_input": "2024-07-03T09:55:44.698322Z",
     "iopub.status.busy": "2024-07-03T09:55:44.697914Z",
     "iopub.status.idle": "2024-07-03T09:55:44.703631Z",
     "shell.execute_reply": "2024-07-03T09:55:44.703149Z"
    }
   },
   "outputs": [
    {
     "data": {
      "text/html": [
       "<div><style>\n",
       ".dataframe > thead > tr,\n",
       ".dataframe > tbody > tr {\n",
       "  text-align: right;\n",
       "  white-space: pre-wrap;\n",
       "}\n",
       "</style>\n",
       "<small>shape: (7, 7)</small><table border=\"1\" class=\"dataframe\"><thead><tr><th>PREDICTOR_0</th><th>PREDICTOR_1</th><th>filename</th><th>PREDICTOR_3</th><th>Context_Name</th><th>IH_PREDICTOR_0</th><th>Decision_Outcome</th></tr><tr><td>f64</td><td>str</td><td>str</td><td>str</td><td>str</td><td>str</td><td>bool</td></tr></thead><tbody><tr><td>1.3131e19</td><td>&quot;10427748905776168611&quot;</td><td>&quot;../../../../data/SampleHDS.jso…</td><td>&quot;17291703901795668642&quot;</td><td>&quot;16204010219352260203&quot;</td><td>&quot;7066813686078969216&quot;</td><td>false</td></tr><tr><td>1.4719e19</td><td>&quot;4333625867847959570&quot;</td><td>&quot;../../../../data/SampleHDS.jso…</td><td>&quot;5037566824653361147&quot;</td><td>&quot;16204010219352260203&quot;</td><td>&quot;15109119096250725519&quot;</td><td>true</td></tr><tr><td>8.8131e18</td><td>&quot;13123922201475826831&quot;</td><td>&quot;../../../../data/SampleHDS.jso…</td><td>&quot;11793055027117407356&quot;</td><td>&quot;17993634590654756474&quot;</td><td>&quot;7066813686078969216&quot;</td><td>false</td></tr><tr><td>2.7200e17</td><td>&quot;4948398817395327837&quot;</td><td>&quot;../../../../data/SampleHDS.jso…</td><td>&quot;5037566824653361147&quot;</td><td>&quot;12585168333134380881&quot;</td><td>&quot;7066813686078969216&quot;</td><td>false</td></tr><tr><td>8.4799e18</td><td>&quot;17186518998262780710&quot;</td><td>&quot;../../../../data/SampleHDS.jso…</td><td>&quot;17291703901795668642&quot;</td><td>&quot;12585168333134380881&quot;</td><td>&quot;8202589507181348374&quot;</td><td>true</td></tr><tr><td>1.3658e19</td><td>&quot;13969546352197067123&quot;</td><td>&quot;../../../../data/SampleHDS.jso…</td><td>&quot;11793055027117407356&quot;</td><td>&quot;12963883698870176432&quot;</td><td>null</td><td>false</td></tr><tr><td>3.8119e18</td><td>&quot;10304849338065023224&quot;</td><td>&quot;../../../../data/SampleHDS.jso…</td><td>&quot;11793055027117407356&quot;</td><td>&quot;12585168333134380881&quot;</td><td>&quot;8202589507181348374&quot;</td><td>false</td></tr></tbody></table></div>"
      ],
      "text/plain": [
       "shape: (7, 7)\n",
       "┌─────────────┬──────────────┬─────────────┬─────────────┬─────────────┬─────────────┬─────────────┐\n",
       "│ PREDICTOR_0 ┆ PREDICTOR_1  ┆ filename    ┆ PREDICTOR_3 ┆ Context_Nam ┆ IH_PREDICTO ┆ Decision_Ou │\n",
       "│ ---         ┆ ---          ┆ ---         ┆ ---         ┆ e           ┆ R_0         ┆ tcome       │\n",
       "│ f64         ┆ str          ┆ str         ┆ str         ┆ ---         ┆ ---         ┆ ---         │\n",
       "│             ┆              ┆             ┆             ┆ str         ┆ str         ┆ bool        │\n",
       "╞═════════════╪══════════════╪═════════════╪═════════════╪═════════════╪═════════════╪═════════════╡\n",
       "│ 1.3131e19   ┆ 104277489057 ┆ ../../../.. ┆ 17291703901 ┆ 16204010219 ┆ 70668136860 ┆ false       │\n",
       "│             ┆ 76168611     ┆ /data/Sampl ┆ 795668642   ┆ 352260203   ┆ 78969216    ┆             │\n",
       "│             ┆              ┆ eHDS.jso…   ┆             ┆             ┆             ┆             │\n",
       "│ 1.4719e19   ┆ 433362586784 ┆ ../../../.. ┆ 50375668246 ┆ 16204010219 ┆ 15109119096 ┆ true        │\n",
       "│             ┆ 7959570      ┆ /data/Sampl ┆ 53361147    ┆ 352260203   ┆ 250725519   ┆             │\n",
       "│             ┆              ┆ eHDS.jso…   ┆             ┆             ┆             ┆             │\n",
       "│ 8.8131e18   ┆ 131239222014 ┆ ../../../.. ┆ 11793055027 ┆ 17993634590 ┆ 70668136860 ┆ false       │\n",
       "│             ┆ 75826831     ┆ /data/Sampl ┆ 117407356   ┆ 654756474   ┆ 78969216    ┆             │\n",
       "│             ┆              ┆ eHDS.jso…   ┆             ┆             ┆             ┆             │\n",
       "│ 2.7200e17   ┆ 494839881739 ┆ ../../../.. ┆ 50375668246 ┆ 12585168333 ┆ 70668136860 ┆ false       │\n",
       "│             ┆ 5327837      ┆ /data/Sampl ┆ 53361147    ┆ 134380881   ┆ 78969216    ┆             │\n",
       "│             ┆              ┆ eHDS.jso…   ┆             ┆             ┆             ┆             │\n",
       "│ 8.4799e18   ┆ 171865189982 ┆ ../../../.. ┆ 17291703901 ┆ 12585168333 ┆ 82025895071 ┆ true        │\n",
       "│             ┆ 62780710     ┆ /data/Sampl ┆ 795668642   ┆ 134380881   ┆ 81348374    ┆             │\n",
       "│             ┆              ┆ eHDS.jso…   ┆             ┆             ┆             ┆             │\n",
       "│ 1.3658e19   ┆ 139695463521 ┆ ../../../.. ┆ 11793055027 ┆ 12963883698 ┆ null        ┆ false       │\n",
       "│             ┆ 97067123     ┆ /data/Sampl ┆ 117407356   ┆ 870176432   ┆             ┆             │\n",
       "│             ┆              ┆ eHDS.jso…   ┆             ┆             ┆             ┆             │\n",
       "│ 3.8119e18   ┆ 103048493380 ┆ ../../../.. ┆ 11793055027 ┆ 12585168333 ┆ 82025895071 ┆ false       │\n",
       "│             ┆ 65023224     ┆ /data/Sampl ┆ 117407356   ┆ 134380881   ┆ 81348374    ┆             │\n",
       "│             ┆              ┆ eHDS.jso…   ┆             ┆             ┆             ┆             │\n",
       "└─────────────┴──────────────┴─────────────┴─────────────┴─────────────┴─────────────┴─────────────┘"
      ]
     },
     "execution_count": 5,
     "metadata": {},
     "output_type": "execute_result"
    }
   ],
   "source": [
    "anon.process()"
   ]
  },
  {
   "attachments": {},
   "cell_type": "markdown",
   "metadata": {},
   "source": [
    "To trace back the columns to their original names, the class also contains a mapping, which does not have to be provided."
   ]
  },
  {
   "cell_type": "code",
   "execution_count": 6,
   "metadata": {
    "execution": {
     "iopub.execute_input": "2024-07-03T09:55:44.705885Z",
     "iopub.status.busy": "2024-07-03T09:55:44.705428Z",
     "iopub.status.idle": "2024-07-03T09:55:44.709272Z",
     "shell.execute_reply": "2024-07-03T09:55:44.708730Z"
    }
   },
   "outputs": [
    {
     "data": {
      "text/plain": [
       "{'Customer_CLV': 'PREDICTOR_0',\n",
       " 'Customer_City': 'PREDICTOR_1',\n",
       " 'filename': 'filename',\n",
       " 'Customer_MaritalStatus': 'PREDICTOR_3',\n",
       " 'Context_Name': 'Context_Name',\n",
       " 'IH_Web_Inbound_Accepted_pxLastGroupID': 'IH_PREDICTOR_0',\n",
       " 'Decision_Outcome': 'Decision_Outcome'}"
      ]
     },
     "execution_count": 6,
     "metadata": {},
     "output_type": "execute_result"
    }
   ],
   "source": [
    "anon.column_mapping"
   ]
  },
  {
   "attachments": {},
   "cell_type": "markdown",
   "metadata": {},
   "source": [
    "## Configs\n",
    "\n",
    "Each capability can optionally be turned off - see below for the full list of config options, and refer to the API reference for the full description."
   ]
  },
  {
   "cell_type": "code",
   "execution_count": 7,
   "metadata": {
    "execution": {
     "iopub.execute_input": "2024-07-03T09:55:44.711398Z",
     "iopub.status.busy": "2024-07-03T09:55:44.711041Z",
     "iopub.status.idle": "2024-07-03T09:55:44.715314Z",
     "shell.execute_reply": "2024-07-03T09:55:44.714840Z"
    }
   },
   "outputs": [
    {
     "data": {
      "text/plain": [
       "{'config_file': None,\n",
       " 'hds_folder': '.',\n",
       " 'use_datamart': False,\n",
       " 'datamart_folder': 'datamart',\n",
       " 'output_format': 'ndjson',\n",
       " 'output_folder': 'output',\n",
       " 'mapping_file': 'mapping.map',\n",
       " 'mask_predictor_names': True,\n",
       " 'mask_context_key_names': False,\n",
       " 'mask_ih_names': True,\n",
       " 'mask_outcome_name': False,\n",
       " 'mask_predictor_values': True,\n",
       " 'mask_context_key_values': True,\n",
       " 'mask_ih_values': True,\n",
       " 'mask_outcome_values': True,\n",
       " 'context_key_label': 'Context_*',\n",
       " 'ih_label': 'IH_*',\n",
       " 'outcome_column': 'Decision_Outcome',\n",
       " 'positive_outcomes': ['Accepted', 'Clicked'],\n",
       " 'negative_outcomes': ['Rejected', 'Impression'],\n",
       " 'special_predictors': ['Decision_DecisionTime',\n",
       "  'Decision_OutcomeTime',\n",
       "  'Decision_Rank'],\n",
       " 'sample_percentage_schema_inferencing': 0.01}"
      ]
     },
     "execution_count": 7,
     "metadata": {},
     "output_type": "execute_result"
    }
   ],
   "source": [
    "dict(zip(Config.__init__.__code__.co_varnames[1:], Config.__init__.__defaults__))"
   ]
  },
  {
   "attachments": {},
   "cell_type": "markdown",
   "metadata": {},
   "source": [
    "It's easy to change these parameters by just passing the keyword arguments. In the following example, we\n",
    "- Keep the IH predictor names\n",
    "- Keep the outcome values\n",
    "- Keep the context key values\n",
    "- Keep the context key predictor names"
   ]
  },
  {
   "cell_type": "code",
   "execution_count": 8,
   "metadata": {
    "execution": {
     "iopub.execute_input": "2024-07-03T09:55:44.717359Z",
     "iopub.status.busy": "2024-07-03T09:55:44.717090Z",
     "iopub.status.idle": "2024-07-03T09:55:44.725245Z",
     "shell.execute_reply": "2024-07-03T09:55:44.724708Z"
    }
   },
   "outputs": [
    {
     "data": {
      "text/html": [
       "<div><style>\n",
       ".dataframe > thead > tr,\n",
       ".dataframe > tbody > tr {\n",
       "  text-align: right;\n",
       "  white-space: pre-wrap;\n",
       "}\n",
       "</style>\n",
       "<small>shape: (7, 7)</small><table border=\"1\" class=\"dataframe\"><thead><tr><th>PREDICTOR_0</th><th>PREDICTOR_1</th><th>filename</th><th>PREDICTOR_3</th><th>Context_Name</th><th>IH_Web_Inbound_Accepted_pxLastGroupID</th><th>Decision_Outcome</th></tr><tr><td>f64</td><td>str</td><td>str</td><td>str</td><td>str</td><td>str</td><td>str</td></tr></thead><tbody><tr><td>2.4189e18</td><td>&quot;6711345464731672664&quot;</td><td>&quot;../../../../data/SampleHDS.jso…</td><td>&quot;17806548581483879004&quot;</td><td>&quot;FirstMortgage30yr&quot;</td><td>&quot;15373809272803060537&quot;</td><td>&quot;Rejected&quot;</td></tr><tr><td>4.6557e18</td><td>&quot;2647650755118811860&quot;</td><td>&quot;../../../../data/SampleHDS.jso…</td><td>&quot;4811996235887263709&quot;</td><td>&quot;FirstMortgage30yr&quot;</td><td>&quot;6826099097547785329&quot;</td><td>&quot;Accepted&quot;</td></tr><tr><td>3.4675e18</td><td>&quot;15309630591406033599&quot;</td><td>&quot;../../../../data/SampleHDS.jso…</td><td>&quot;4702127689482341553&quot;</td><td>&quot;MoneyMarketSavingsAccount&quot;</td><td>&quot;15373809272803060537&quot;</td><td>&quot;Rejected&quot;</td></tr><tr><td>1.8250e19</td><td>&quot;1445209891722146069&quot;</td><td>&quot;../../../../data/SampleHDS.jso…</td><td>&quot;4811996235887263709&quot;</td><td>&quot;BasicChecking&quot;</td><td>&quot;15373809272803060537&quot;</td><td>&quot;Rejected&quot;</td></tr><tr><td>3.0686e18</td><td>&quot;3996814666541139240&quot;</td><td>&quot;../../../../data/SampleHDS.jso…</td><td>&quot;17806548581483879004&quot;</td><td>&quot;BasicChecking&quot;</td><td>&quot;2378608845708450564&quot;</td><td>&quot;Accepted&quot;</td></tr><tr><td>1.8273e19</td><td>&quot;8009703105116097549&quot;</td><td>&quot;../../../../data/SampleHDS.jso…</td><td>&quot;4702127689482341553&quot;</td><td>&quot;UPlusFinPersonal&quot;</td><td>null</td><td>&quot;Rejected&quot;</td></tr><tr><td>1.7207e19</td><td>&quot;6278427285272900714&quot;</td><td>&quot;../../../../data/SampleHDS.jso…</td><td>&quot;4702127689482341553&quot;</td><td>&quot;BasicChecking&quot;</td><td>&quot;2378608845708450564&quot;</td><td>&quot;Rejected&quot;</td></tr></tbody></table></div>"
      ],
      "text/plain": [
       "shape: (7, 7)\n",
       "┌─────────────┬──────────────┬─────────────┬─────────────┬─────────────┬─────────────┬─────────────┐\n",
       "│ PREDICTOR_0 ┆ PREDICTOR_1  ┆ filename    ┆ PREDICTOR_3 ┆ Context_Nam ┆ IH_Web_Inbo ┆ Decision_Ou │\n",
       "│ ---         ┆ ---          ┆ ---         ┆ ---         ┆ e           ┆ und_Accepte ┆ tcome       │\n",
       "│ f64         ┆ str          ┆ str         ┆ str         ┆ ---         ┆ d_pxLast…   ┆ ---         │\n",
       "│             ┆              ┆             ┆             ┆ str         ┆ ---         ┆ str         │\n",
       "│             ┆              ┆             ┆             ┆             ┆ str         ┆             │\n",
       "╞═════════════╪══════════════╪═════════════╪═════════════╪═════════════╪═════════════╪═════════════╡\n",
       "│ 2.4189e18   ┆ 671134546473 ┆ ../../../.. ┆ 17806548581 ┆ FirstMortga ┆ 15373809272 ┆ Rejected    │\n",
       "│             ┆ 1672664      ┆ /data/Sampl ┆ 483879004   ┆ ge30yr      ┆ 803060537   ┆             │\n",
       "│             ┆              ┆ eHDS.jso…   ┆             ┆             ┆             ┆             │\n",
       "│ 4.6557e18   ┆ 264765075511 ┆ ../../../.. ┆ 48119962358 ┆ FirstMortga ┆ 68260990975 ┆ Accepted    │\n",
       "│             ┆ 8811860      ┆ /data/Sampl ┆ 87263709    ┆ ge30yr      ┆ 47785329    ┆             │\n",
       "│             ┆              ┆ eHDS.jso…   ┆             ┆             ┆             ┆             │\n",
       "│ 3.4675e18   ┆ 153096305914 ┆ ../../../.. ┆ 47021276894 ┆ MoneyMarket ┆ 15373809272 ┆ Rejected    │\n",
       "│             ┆ 06033599     ┆ /data/Sampl ┆ 82341553    ┆ SavingsAcco ┆ 803060537   ┆             │\n",
       "│             ┆              ┆ eHDS.jso…   ┆             ┆ unt         ┆             ┆             │\n",
       "│ 1.8250e19   ┆ 144520989172 ┆ ../../../.. ┆ 48119962358 ┆ BasicChecki ┆ 15373809272 ┆ Rejected    │\n",
       "│             ┆ 2146069      ┆ /data/Sampl ┆ 87263709    ┆ ng          ┆ 803060537   ┆             │\n",
       "│             ┆              ┆ eHDS.jso…   ┆             ┆             ┆             ┆             │\n",
       "│ 3.0686e18   ┆ 399681466654 ┆ ../../../.. ┆ 17806548581 ┆ BasicChecki ┆ 23786088457 ┆ Accepted    │\n",
       "│             ┆ 1139240      ┆ /data/Sampl ┆ 483879004   ┆ ng          ┆ 08450564    ┆             │\n",
       "│             ┆              ┆ eHDS.jso…   ┆             ┆             ┆             ┆             │\n",
       "│ 1.8273e19   ┆ 800970310511 ┆ ../../../.. ┆ 47021276894 ┆ UPlusFinPer ┆ null        ┆ Rejected    │\n",
       "│             ┆ 6097549      ┆ /data/Sampl ┆ 82341553    ┆ sonal       ┆             ┆             │\n",
       "│             ┆              ┆ eHDS.jso…   ┆             ┆             ┆             ┆             │\n",
       "│ 1.7207e19   ┆ 627842728527 ┆ ../../../.. ┆ 47021276894 ┆ BasicChecki ┆ 23786088457 ┆ Rejected    │\n",
       "│             ┆ 2900714      ┆ /data/Sampl ┆ 82341553    ┆ ng          ┆ 08450564    ┆             │\n",
       "│             ┆              ┆ eHDS.jso…   ┆             ┆             ┆             ┆             │\n",
       "└─────────────┴──────────────┴─────────────┴─────────────┴─────────────┴─────────────┴─────────────┘"
      ]
     },
     "execution_count": 8,
     "metadata": {},
     "output_type": "execute_result"
    }
   ],
   "source": [
    "anon = DataAnonymization(\n",
    "    hds_folder=\"../../../../data/\",\n",
    "    mask_ih_names=False,\n",
    "    mask_outcome_values=False,\n",
    "    mask_context_key_values=False,\n",
    "    mask_context_key_names=False,\n",
    ")\n",
    "anon.process()\n"
   ]
  },
  {
   "attachments": {},
   "cell_type": "markdown",
   "metadata": {},
   "source": [
    "The configs can also be written and read as such:"
   ]
  },
  {
   "cell_type": "code",
   "execution_count": 9,
   "metadata": {
    "execution": {
     "iopub.execute_input": "2024-07-03T09:55:44.727304Z",
     "iopub.status.busy": "2024-07-03T09:55:44.726974Z",
     "iopub.status.idle": "2024-07-03T09:55:44.729923Z",
     "shell.execute_reply": "2024-07-03T09:55:44.729375Z"
    }
   },
   "outputs": [],
   "source": [
    "anon.config.save_to_config_file('config.json')"
   ]
  },
  {
   "cell_type": "code",
   "execution_count": 10,
   "metadata": {
    "execution": {
     "iopub.execute_input": "2024-07-03T09:55:44.731860Z",
     "iopub.status.busy": "2024-07-03T09:55:44.731693Z",
     "iopub.status.idle": "2024-07-03T09:55:44.739444Z",
     "shell.execute_reply": "2024-07-03T09:55:44.738882Z"
    }
   },
   "outputs": [
    {
     "data": {
      "text/html": [
       "<div><style>\n",
       ".dataframe > thead > tr,\n",
       ".dataframe > tbody > tr {\n",
       "  text-align: right;\n",
       "  white-space: pre-wrap;\n",
       "}\n",
       "</style>\n",
       "<small>shape: (7, 7)</small><table border=\"1\" class=\"dataframe\"><thead><tr><th>PREDICTOR_0</th><th>PREDICTOR_1</th><th>filename</th><th>PREDICTOR_3</th><th>Context_Name</th><th>IH_Web_Inbound_Accepted_pxLastGroupID</th><th>Decision_Outcome</th></tr><tr><td>f64</td><td>str</td><td>str</td><td>str</td><td>str</td><td>str</td><td>str</td></tr></thead><tbody><tr><td>2.8383e18</td><td>&quot;5053670615412188111&quot;</td><td>&quot;../../../../data/SampleHDS.jso…</td><td>&quot;12992809753310160171&quot;</td><td>&quot;FirstMortgage30yr&quot;</td><td>&quot;2587185929665586991&quot;</td><td>&quot;Rejected&quot;</td></tr><tr><td>4.1508e18</td><td>&quot;2032736856086413460&quot;</td><td>&quot;../../../../data/SampleHDS.jso…</td><td>&quot;13308523693436356107&quot;</td><td>&quot;FirstMortgage30yr&quot;</td><td>&quot;9773456977901110530&quot;</td><td>&quot;Accepted&quot;</td></tr><tr><td>7.5495e18</td><td>&quot;1270230512425409364&quot;</td><td>&quot;../../../../data/SampleHDS.jso…</td><td>&quot;11430199213989519547&quot;</td><td>&quot;MoneyMarketSavingsAccount&quot;</td><td>&quot;2587185929665586991&quot;</td><td>&quot;Rejected&quot;</td></tr><tr><td>1.6746e19</td><td>&quot;14497146773705335566&quot;</td><td>&quot;../../../../data/SampleHDS.jso…</td><td>&quot;13308523693436356107&quot;</td><td>&quot;BasicChecking&quot;</td><td>&quot;2587185929665586991&quot;</td><td>&quot;Rejected&quot;</td></tr><tr><td>1.2184e18</td><td>&quot;9811861286252726497&quot;</td><td>&quot;../../../../data/SampleHDS.jso…</td><td>&quot;12992809753310160171&quot;</td><td>&quot;BasicChecking&quot;</td><td>&quot;4172838066194248138&quot;</td><td>&quot;Accepted&quot;</td></tr><tr><td>1.3271e19</td><td>&quot;15556177180209701514&quot;</td><td>&quot;../../../../data/SampleHDS.jso…</td><td>&quot;11430199213989519547&quot;</td><td>&quot;UPlusFinPersonal&quot;</td><td>null</td><td>&quot;Rejected&quot;</td></tr><tr><td>1.7361e19</td><td>&quot;16121661315912309018&quot;</td><td>&quot;../../../../data/SampleHDS.jso…</td><td>&quot;11430199213989519547&quot;</td><td>&quot;BasicChecking&quot;</td><td>&quot;4172838066194248138&quot;</td><td>&quot;Rejected&quot;</td></tr></tbody></table></div>"
      ],
      "text/plain": [
       "shape: (7, 7)\n",
       "┌─────────────┬──────────────┬─────────────┬─────────────┬─────────────┬─────────────┬─────────────┐\n",
       "│ PREDICTOR_0 ┆ PREDICTOR_1  ┆ filename    ┆ PREDICTOR_3 ┆ Context_Nam ┆ IH_Web_Inbo ┆ Decision_Ou │\n",
       "│ ---         ┆ ---          ┆ ---         ┆ ---         ┆ e           ┆ und_Accepte ┆ tcome       │\n",
       "│ f64         ┆ str          ┆ str         ┆ str         ┆ ---         ┆ d_pxLast…   ┆ ---         │\n",
       "│             ┆              ┆             ┆             ┆ str         ┆ ---         ┆ str         │\n",
       "│             ┆              ┆             ┆             ┆             ┆ str         ┆             │\n",
       "╞═════════════╪══════════════╪═════════════╪═════════════╪═════════════╪═════════════╪═════════════╡\n",
       "│ 2.8383e18   ┆ 505367061541 ┆ ../../../.. ┆ 12992809753 ┆ FirstMortga ┆ 25871859296 ┆ Rejected    │\n",
       "│             ┆ 2188111      ┆ /data/Sampl ┆ 310160171   ┆ ge30yr      ┆ 65586991    ┆             │\n",
       "│             ┆              ┆ eHDS.jso…   ┆             ┆             ┆             ┆             │\n",
       "│ 4.1508e18   ┆ 203273685608 ┆ ../../../.. ┆ 13308523693 ┆ FirstMortga ┆ 97734569779 ┆ Accepted    │\n",
       "│             ┆ 6413460      ┆ /data/Sampl ┆ 436356107   ┆ ge30yr      ┆ 01110530    ┆             │\n",
       "│             ┆              ┆ eHDS.jso…   ┆             ┆             ┆             ┆             │\n",
       "│ 7.5495e18   ┆ 127023051242 ┆ ../../../.. ┆ 11430199213 ┆ MoneyMarket ┆ 25871859296 ┆ Rejected    │\n",
       "│             ┆ 5409364      ┆ /data/Sampl ┆ 989519547   ┆ SavingsAcco ┆ 65586991    ┆             │\n",
       "│             ┆              ┆ eHDS.jso…   ┆             ┆ unt         ┆             ┆             │\n",
       "│ 1.6746e19   ┆ 144971467737 ┆ ../../../.. ┆ 13308523693 ┆ BasicChecki ┆ 25871859296 ┆ Rejected    │\n",
       "│             ┆ 05335566     ┆ /data/Sampl ┆ 436356107   ┆ ng          ┆ 65586991    ┆             │\n",
       "│             ┆              ┆ eHDS.jso…   ┆             ┆             ┆             ┆             │\n",
       "│ 1.2184e18   ┆ 981186128625 ┆ ../../../.. ┆ 12992809753 ┆ BasicChecki ┆ 41728380661 ┆ Accepted    │\n",
       "│             ┆ 2726497      ┆ /data/Sampl ┆ 310160171   ┆ ng          ┆ 94248138    ┆             │\n",
       "│             ┆              ┆ eHDS.jso…   ┆             ┆             ┆             ┆             │\n",
       "│ 1.3271e19   ┆ 155561771802 ┆ ../../../.. ┆ 11430199213 ┆ UPlusFinPer ┆ null        ┆ Rejected    │\n",
       "│             ┆ 09701514     ┆ /data/Sampl ┆ 989519547   ┆ sonal       ┆             ┆             │\n",
       "│             ┆              ┆ eHDS.jso…   ┆             ┆             ┆             ┆             │\n",
       "│ 1.7361e19   ┆ 161216613159 ┆ ../../../.. ┆ 11430199213 ┆ BasicChecki ┆ 41728380661 ┆ Rejected    │\n",
       "│             ┆ 12309018     ┆ /data/Sampl ┆ 989519547   ┆ ng          ┆ 94248138    ┆             │\n",
       "│             ┆              ┆ eHDS.jso…   ┆             ┆             ┆             ┆             │\n",
       "└─────────────┴──────────────┴─────────────┴─────────────┴─────────────┴─────────────┴─────────────┘"
      ]
     },
     "execution_count": 10,
     "metadata": {},
     "output_type": "execute_result"
    }
   ],
   "source": [
    "anon = DataAnonymization(config=Config(config_file='config.json'))\n",
    "anon.process()"
   ]
  },
  {
   "attachments": {},
   "cell_type": "markdown",
   "metadata": {},
   "source": [
    "## Exporting\n",
    "Two functions export:\n",
    "- `create_mapping_file()` writes the mapping file of the predictor names\n",
    "- `write_to_output()` writes the processed dataframe to disk\n",
    "\n",
    "Write to output accepts the following extensions: `[\"ndjson\", \"parquet\", \"arrow\", \"csv\"]`"
   ]
  },
  {
   "cell_type": "code",
   "execution_count": 11,
   "metadata": {
    "execution": {
     "iopub.execute_input": "2024-07-03T09:55:44.741418Z",
     "iopub.status.busy": "2024-07-03T09:55:44.741098Z",
     "iopub.status.idle": "2024-07-03T09:55:44.744495Z",
     "shell.execute_reply": "2024-07-03T09:55:44.743972Z"
    }
   },
   "outputs": [
    {
     "name": "stdout",
     "output_type": "stream",
     "text": [
      "Customer_CLV=PREDICTOR_0\n",
      "Customer_City=PREDICTOR_1\n",
      "filename=filename\n",
      "Customer_MaritalStatus=PREDICTOR_3\n",
      "Context_Name=Context_Name\n",
      "IH_Web_Inbound_Accepted_pxLastGroupID=IH_Web_Inbound_Accepted_pxLastGroupID\n",
      "Decision_Outcome=Decision_Outcome\n",
      "\n"
     ]
    }
   ],
   "source": [
    "anon.create_mapping_file()\n",
    "with open('mapping.map') as f:\n",
    "    print(f.read())"
   ]
  },
  {
   "cell_type": "code",
   "execution_count": 12,
   "metadata": {
    "execution": {
     "iopub.execute_input": "2024-07-03T09:55:44.746356Z",
     "iopub.status.busy": "2024-07-03T09:55:44.746047Z",
     "iopub.status.idle": "2024-07-03T09:55:44.749489Z",
     "shell.execute_reply": "2024-07-03T09:55:44.749060Z"
    }
   },
   "outputs": [],
   "source": [
    "anon.write_to_output(ext='arrow')"
   ]
  },
  {
   "cell_type": "code",
   "execution_count": 13,
   "metadata": {
    "execution": {
     "iopub.execute_input": "2024-07-03T09:55:44.751427Z",
     "iopub.status.busy": "2024-07-03T09:55:44.751095Z",
     "iopub.status.idle": "2024-07-03T09:55:44.755404Z",
     "shell.execute_reply": "2024-07-03T09:55:44.754936Z"
    }
   },
   "outputs": [
    {
     "data": {
      "text/html": [
       "<div><style>\n",
       ".dataframe > thead > tr,\n",
       ".dataframe > tbody > tr {\n",
       "  text-align: right;\n",
       "  white-space: pre-wrap;\n",
       "}\n",
       "</style>\n",
       "<small>shape: (7, 6)</small><table border=\"1\" class=\"dataframe\"><thead><tr><th>PREDICTOR_0</th><th>PREDICTOR_1</th><th>PREDICTOR_3</th><th>Context_Name</th><th>IH_Web_Inbound_Accepted_pxLastGroupID</th><th>Decision_Outcome</th></tr><tr><td>f64</td><td>str</td><td>str</td><td>str</td><td>str</td><td>str</td></tr></thead><tbody><tr><td>6.3776e18</td><td>&quot;1479990386607289885&quot;</td><td>&quot;7587988981258368701&quot;</td><td>&quot;FirstMortgage30yr&quot;</td><td>&quot;16776571533984735091&quot;</td><td>&quot;Rejected&quot;</td></tr><tr><td>2.9754e18</td><td>&quot;10483053782656404407&quot;</td><td>&quot;9559023664706771799&quot;</td><td>&quot;FirstMortgage30yr&quot;</td><td>&quot;4790523414832774907&quot;</td><td>&quot;Accepted&quot;</td></tr><tr><td>6.7822e18</td><td>&quot;5394710640613084763&quot;</td><td>&quot;11648770440733316472&quot;</td><td>&quot;MoneyMarketSavingsAccount&quot;</td><td>&quot;16776571533984735091&quot;</td><td>&quot;Rejected&quot;</td></tr><tr><td>1.7196e19</td><td>&quot;433181250249899939&quot;</td><td>&quot;9559023664706771799&quot;</td><td>&quot;BasicChecking&quot;</td><td>&quot;16776571533984735091&quot;</td><td>&quot;Rejected&quot;</td></tr><tr><td>1.4849e19</td><td>&quot;4655689389101676244&quot;</td><td>&quot;7587988981258368701&quot;</td><td>&quot;BasicChecking&quot;</td><td>&quot;5410920482003366391&quot;</td><td>&quot;Accepted&quot;</td></tr><tr><td>6.0123e18</td><td>&quot;9881330624229775634&quot;</td><td>&quot;11648770440733316472&quot;</td><td>&quot;UPlusFinPersonal&quot;</td><td>null</td><td>&quot;Rejected&quot;</td></tr><tr><td>1.6584e19</td><td>&quot;17990650103828231291&quot;</td><td>&quot;11648770440733316472&quot;</td><td>&quot;BasicChecking&quot;</td><td>&quot;5410920482003366391&quot;</td><td>&quot;Rejected&quot;</td></tr></tbody></table></div>"
      ],
      "text/plain": [
       "shape: (7, 6)\n",
       "┌─────────────┬────────────────┬────────────────┬────────────────┬────────────────┬────────────────┐\n",
       "│ PREDICTOR_0 ┆ PREDICTOR_1    ┆ PREDICTOR_3    ┆ Context_Name   ┆ IH_Web_Inbound ┆ Decision_Outco │\n",
       "│ ---         ┆ ---            ┆ ---            ┆ ---            ┆ _Accepted_pxLa ┆ me             │\n",
       "│ f64         ┆ str            ┆ str            ┆ str            ┆ st…            ┆ ---            │\n",
       "│             ┆                ┆                ┆                ┆ ---            ┆ str            │\n",
       "│             ┆                ┆                ┆                ┆ str            ┆                │\n",
       "╞═════════════╪════════════════╪════════════════╪════════════════╪════════════════╪════════════════╡\n",
       "│ 6.3776e18   ┆ 14799903866072 ┆ 75879889812583 ┆ FirstMortgage3 ┆ 16776571533984 ┆ Rejected       │\n",
       "│             ┆ 89885          ┆ 68701          ┆ 0yr            ┆ 735091         ┆                │\n",
       "│ 2.9754e18   ┆ 10483053782656 ┆ 95590236647067 ┆ FirstMortgage3 ┆ 47905234148327 ┆ Accepted       │\n",
       "│             ┆ 404407         ┆ 71799          ┆ 0yr            ┆ 74907          ┆                │\n",
       "│ 6.7822e18   ┆ 53947106406130 ┆ 11648770440733 ┆ MoneyMarketSav ┆ 16776571533984 ┆ Rejected       │\n",
       "│             ┆ 84763          ┆ 316472         ┆ ingsAccount    ┆ 735091         ┆                │\n",
       "│ 1.7196e19   ┆ 43318125024989 ┆ 95590236647067 ┆ BasicChecking  ┆ 16776571533984 ┆ Rejected       │\n",
       "│             ┆ 9939           ┆ 71799          ┆                ┆ 735091         ┆                │\n",
       "│ 1.4849e19   ┆ 46556893891016 ┆ 75879889812583 ┆ BasicChecking  ┆ 54109204820033 ┆ Accepted       │\n",
       "│             ┆ 76244          ┆ 68701          ┆                ┆ 66391          ┆                │\n",
       "│ 6.0123e18   ┆ 98813306242297 ┆ 11648770440733 ┆ UPlusFinPerson ┆ null           ┆ Rejected       │\n",
       "│             ┆ 75634          ┆ 316472         ┆ al             ┆                ┆                │\n",
       "│ 1.6584e19   ┆ 17990650103828 ┆ 11648770440733 ┆ BasicChecking  ┆ 54109204820033 ┆ Rejected       │\n",
       "│             ┆ 231291         ┆ 316472         ┆                ┆ 66391          ┆                │\n",
       "└─────────────┴────────────────┴────────────────┴────────────────┴────────────────┴────────────────┘"
      ]
     },
     "execution_count": 13,
     "metadata": {},
     "output_type": "execute_result"
    }
   ],
   "source": [
    "pl.read_ipc('output/hds.arrow')"
   ]
  },
  {
   "attachments": {},
   "cell_type": "markdown",
   "metadata": {
    "nbsphinx": "hidden"
   },
   "source": [
    "## Advanced: Hash fuctions\n",
    "\n",
    "By default, we use [the same hashing algorithm Polars](https://pola-rs.github.io/polars/py-polars/html/reference/expressions/api/polars.Expr.hash.html#polars.Expr.hash) uses: [xxhash](https://github.com/Cyan4973/xxHash), as implemented [here](https://github.com/pola-rs/polars/blob/3f287f370b3c388ed2f3f218b2c096382548136f/polars/polars-core/src/vector_hasher.rs#L266). xxhash is fast to compute, and you can check its performance in collision, dispersion and randomness [here](https://github.com/Cyan4973/xxHash/tree/dev/tests). \n",
    "\n",
    "xxhash accepts four distinct seeds, but by default we set the seeds to `0`. It is possible to set the `seed` argument of the `process()` function to `'random'`, which will set all four seeds to a random integer between `0` and `1000000000`. Alternatively, it is possible to supply the four seeds manually with arguments `seed`, `seed_1`, `seed_2` and `seed_3`. \n",
    "\n",
    "If the xxhash with (random) seed(s) is not deemed sufficiently secure, it is possible to use your own hashing algorithm.\n",
    "\n",
    "Note that since we're now running python code and not native Polars code anymore, this will be _significantly_ slower. Nonetheless, it is possible.\n",
    "\n",
    "Just as an example - this is how one would use sha3_256:"
   ]
  },
  {
   "cell_type": "code",
   "execution_count": 14,
   "metadata": {
    "execution": {
     "iopub.execute_input": "2024-07-03T09:55:44.757213Z",
     "iopub.status.busy": "2024-07-03T09:55:44.757048Z",
     "iopub.status.idle": "2024-07-03T09:55:45.083484Z",
     "shell.execute_reply": "2024-07-03T09:55:45.082927Z"
    },
    "nbsphinx": "hidden"
   },
   "outputs": [
    {
     "name": "stderr",
     "output_type": "stream",
     "text": [
      "sys:1: MapWithoutReturnDtypeWarning:\n",
      "\n",
      "Calling `map_elements` without specifying `return_dtype` can lead to unpredictable results. Specify `return_dtype` to silence this warning.\n",
      "\n",
      "sys:1: MapWithoutReturnDtypeWarning:\n",
      "\n",
      "Calling `map_elements` without specifying `return_dtype` can lead to unpredictable results. Specify `return_dtype` to silence this warning.\n",
      "\n",
      "sys:1: MapWithoutReturnDtypeWarning:\n",
      "\n",
      "Calling `map_elements` without specifying `return_dtype` can lead to unpredictable results. Specify `return_dtype` to silence this warning.\n",
      "\n",
      "sys:1: MapWithoutReturnDtypeWarning:\n",
      "\n",
      "Calling `map_elements` without specifying `return_dtype` can lead to unpredictable results. Specify `return_dtype` to silence this warning.\n",
      "\n"
     ]
    },
    {
     "ename": "ComputeError",
     "evalue": "AttributeError: 'int' object has no attribute 'encode'",
     "output_type": "error",
     "traceback": [
      "\u001b[0;31m---------------------------------------------------------------------------\u001b[0m",
      "\u001b[0;31mComputeError\u001b[0m                              Traceback (most recent call last)",
      "Cell \u001b[0;32mIn[14], line 3\u001b[0m\n\u001b[1;32m      1\u001b[0m \u001b[38;5;28;01mfrom\u001b[39;00m \u001b[38;5;21;01mhashlib\u001b[39;00m \u001b[38;5;28;01mimport\u001b[39;00m sha3_256\n\u001b[0;32m----> 3\u001b[0m \u001b[43manon\u001b[49m\u001b[38;5;241;43m.\u001b[39;49m\u001b[43mprocess\u001b[49m\u001b[43m(\u001b[49m\u001b[43malgorithm\u001b[49m\u001b[38;5;241;43m=\u001b[39;49m\u001b[38;5;28;43;01mlambda\u001b[39;49;00m\u001b[43m \u001b[49m\u001b[43mx\u001b[49m\u001b[43m:\u001b[49m\u001b[43m \u001b[49m\u001b[43msha3_256\u001b[49m\u001b[43m(\u001b[49m\u001b[43mx\u001b[49m\u001b[38;5;241;43m.\u001b[39;49m\u001b[43mencode\u001b[49m\u001b[43m(\u001b[49m\u001b[43m)\u001b[49m\u001b[43m)\u001b[49m\u001b[38;5;241;43m.\u001b[39;49m\u001b[43mhexdigest\u001b[49m\u001b[43m(\u001b[49m\u001b[43m)\u001b[49m\u001b[43m)\u001b[49m\n",
      "File \u001b[0;32m~/work/pega-datascientist-tools/pega-datascientist-tools/python/docs/source/articles/../../../pdstools/utils/hds_utils.py:512\u001b[0m, in \u001b[0;36mDataAnonymization.process\u001b[0;34m(self, strategy, **kwargs)\u001b[0m\n\u001b[1;32m    510\u001b[0m df \u001b[38;5;241m=\u001b[39m df\u001b[38;5;241m.\u001b[39mselect(\u001b[38;5;28mself\u001b[39m\u001b[38;5;241m.\u001b[39mcolumn_mapping\u001b[38;5;241m.\u001b[39mkeys())\u001b[38;5;241m.\u001b[39mrename(\u001b[38;5;28mself\u001b[39m\u001b[38;5;241m.\u001b[39mcolumn_mapping)\n\u001b[1;32m    511\u001b[0m \u001b[38;5;28;01mif\u001b[39;00m strategy \u001b[38;5;241m==\u001b[39m \u001b[38;5;124m\"\u001b[39m\u001b[38;5;124meager\u001b[39m\u001b[38;5;124m\"\u001b[39m:\n\u001b[0;32m--> 512\u001b[0m     \u001b[38;5;28;01mreturn\u001b[39;00m \u001b[43mdf\u001b[49m\u001b[38;5;241;43m.\u001b[39;49m\u001b[43mcollect\u001b[49m\u001b[43m(\u001b[49m\u001b[43m)\u001b[49m\n\u001b[1;32m    513\u001b[0m \u001b[38;5;28;01mreturn\u001b[39;00m df\n",
      "File \u001b[0;32m/opt/hostedtoolcache/Python/3.11.9/x64/lib/python3.11/site-packages/polars/lazyframe/frame.py:1967\u001b[0m, in \u001b[0;36mLazyFrame.collect\u001b[0;34m(self, type_coercion, predicate_pushdown, projection_pushdown, simplify_expression, slice_pushdown, comm_subplan_elim, comm_subexpr_elim, cluster_with_columns, no_optimization, streaming, background, _eager, **_kwargs)\u001b[0m\n\u001b[1;32m   1964\u001b[0m \u001b[38;5;66;03m# Only for testing purposes atm.\u001b[39;00m\n\u001b[1;32m   1965\u001b[0m callback \u001b[38;5;241m=\u001b[39m _kwargs\u001b[38;5;241m.\u001b[39mget(\u001b[38;5;124m\"\u001b[39m\u001b[38;5;124mpost_opt_callback\u001b[39m\u001b[38;5;124m\"\u001b[39m)\n\u001b[0;32m-> 1967\u001b[0m \u001b[38;5;28;01mreturn\u001b[39;00m wrap_df(\u001b[43mldf\u001b[49m\u001b[38;5;241;43m.\u001b[39;49m\u001b[43mcollect\u001b[49m\u001b[43m(\u001b[49m\u001b[43mcallback\u001b[49m\u001b[43m)\u001b[49m)\n",
      "\u001b[0;31mComputeError\u001b[0m: AttributeError: 'int' object has no attribute 'encode'"
     ]
    }
   ],
   "source": [
    "from hashlib import sha3_256\n",
    "\n",
    "anon.process(algorithm=lambda x: sha3_256(x.encode()).hexdigest())"
   ]
  }
 ],
 "metadata": {
  "kernelspec": {
   "display_name": "Python 3",
   "language": "python",
   "name": "python3"
  },
  "language_info": {
   "codemirror_mode": {
    "name": "ipython",
    "version": 3
   },
   "file_extension": ".py",
   "mimetype": "text/x-python",
   "name": "python",
   "nbconvert_exporter": "python",
   "pygments_lexer": "ipython3",
   "version": "3.11.9"
  },
  "vscode": {
   "interpreter": {
    "hash": "aee8b7b246df8f9039afb4144a1f6fd8d2ca17a180786b69acc140d282b71a49"
   }
  }
 },
 "nbformat": 4,
 "nbformat_minor": 2
}
