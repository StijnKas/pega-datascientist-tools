{
 "cells": [
  {
   "attachments": {},
   "cell_type": "markdown",
   "metadata": {},
   "source": [
    "# Data Anonymization\n",
    "\n",
    "In Pega CDH 8.5 and up, it's now possible to record the historical data as seen by the Adaptive Models. See [this academy challenge](https://academy.pega.com/challenge/exporting-historical-data/v4) for reference. This historical data can be further used to experiment with offline models, but also to fine-tune the OOTB Gradient Boosting model. However, sharing this information with Pega can be sensitive as it contains raw predictor data. \n",
    "\n",
    "To this end, we provide a simple and transparent script to fully anonimize this dataset.\n",
    "\n",
    "The DataAnonymization script is now part of pdstools, and you can import it directly as such."
   ]
  },
  {
   "cell_type": "code",
   "execution_count": 1,
   "metadata": {
    "execution": {
     "iopub.execute_input": "2024-05-10T09:04:12.264672Z",
     "iopub.status.busy": "2024-05-10T09:04:12.264508Z",
     "iopub.status.idle": "2024-05-10T09:04:12.333794Z",
     "shell.execute_reply": "2024-05-10T09:04:12.333219Z"
    },
    "nbsphinx": "hidden"
   },
   "outputs": [],
   "source": [
    "# These lines are only for rendering in the docs, and are hidden through Jupyter tags\n",
    "# Do not run if you're running the notebook seperately\n",
    "\n",
    "import os  \n",
    "import sys\n",
    "import plotly.io as pio\n",
    "pio.renderers.default = \"notebook_connected\"\n",
    "\n",
    "sys.path.append(\"../../../\")\n",
    "sys.path.append('../../python')"
   ]
  },
  {
   "cell_type": "code",
   "execution_count": 2,
   "metadata": {
    "execution": {
     "iopub.execute_input": "2024-05-10T09:04:12.335845Z",
     "iopub.status.busy": "2024-05-10T09:04:12.335681Z",
     "iopub.status.idle": "2024-05-10T09:04:13.315136Z",
     "shell.execute_reply": "2024-05-10T09:04:13.314653Z"
    }
   },
   "outputs": [],
   "source": [
    "from pdstools import ADMDatamart\n",
    "from pdstools import Config, DataAnonymization\n",
    "import polars as pl"
   ]
  },
  {
   "attachments": {},
   "cell_type": "markdown",
   "metadata": {},
   "source": [
    "## Input data\n",
    "\n",
    "To demonstrate this process, we're going to anonymise this toy example dataframe:"
   ]
  },
  {
   "cell_type": "code",
   "execution_count": 3,
   "metadata": {
    "execution": {
     "iopub.execute_input": "2024-05-10T09:04:13.317810Z",
     "iopub.status.busy": "2024-05-10T09:04:13.317323Z",
     "iopub.status.idle": "2024-05-10T09:04:13.325789Z",
     "shell.execute_reply": "2024-05-10T09:04:13.325284Z"
    }
   },
   "outputs": [
    {
     "data": {
      "text/html": [
       "<div><style>\n",
       ".dataframe > thead > tr,\n",
       ".dataframe > tbody > tr {\n",
       "  text-align: right;\n",
       "  white-space: pre-wrap;\n",
       "}\n",
       "</style>\n",
       "<small>shape: (7, 6)</small><table border=\"1\" class=\"dataframe\"><thead><tr><th>Context_Name</th><th>Customer_MaritalStatus</th><th>Customer_CLV</th><th>Customer_City</th><th>IH_Web_Inbound_Accepted_pxLastGroupID</th><th>Decision_Outcome</th></tr><tr><td>str</td><td>str</td><td>i64</td><td>str</td><td>str</td><td>str</td></tr></thead><tbody><tr><td>&quot;FirstMortgage30yr&quot;</td><td>&quot;Married&quot;</td><td>1460</td><td>&quot;Port Raoul&quot;</td><td>&quot;Account&quot;</td><td>&quot;Rejected&quot;</td></tr><tr><td>&quot;FirstMortgage30yr&quot;</td><td>&quot;Unknown&quot;</td><td>669</td><td>&quot;Laurianneshire&quot;</td><td>&quot;AutoLoans&quot;</td><td>&quot;Accepted&quot;</td></tr><tr><td>&quot;MoneyMarketSavingsAccount&quot;</td><td>&quot;No Resp+&quot;</td><td>1174</td><td>&quot;Jacobshaven&quot;</td><td>&quot;Account&quot;</td><td>&quot;Rejected&quot;</td></tr><tr><td>&quot;BasicChecking&quot;</td><td>&quot;Unknown&quot;</td><td>1476</td><td>&quot;Lindton&quot;</td><td>&quot;Account&quot;</td><td>&quot;Rejected&quot;</td></tr><tr><td>&quot;BasicChecking&quot;</td><td>&quot;Married&quot;</td><td>1211</td><td>&quot;South Jimmieshire&quot;</td><td>&quot;DepositAccounts&quot;</td><td>&quot;Accepted&quot;</td></tr><tr><td>&quot;UPlusFinPersonal&quot;</td><td>&quot;No Resp+&quot;</td><td>533</td><td>&quot;Bergeville&quot;</td><td>null</td><td>&quot;Rejected&quot;</td></tr><tr><td>&quot;BasicChecking&quot;</td><td>&quot;No Resp+&quot;</td><td>555</td><td>&quot;Willyville&quot;</td><td>&quot;DepositAccounts&quot;</td><td>&quot;Rejected&quot;</td></tr></tbody></table></div>"
      ],
      "text/plain": [
       "shape: (7, 6)\n",
       "┌────────────────┬────────────────┬──────────────┬────────────────┬────────────────┬───────────────┐\n",
       "│ Context_Name   ┆ Customer_Marit ┆ Customer_CLV ┆ Customer_City  ┆ IH_Web_Inbound ┆ Decision_Outc │\n",
       "│ ---            ┆ alStatus       ┆ ---          ┆ ---            ┆ _Accepted_pxLa ┆ ome           │\n",
       "│ str            ┆ ---            ┆ i64          ┆ str            ┆ st…            ┆ ---           │\n",
       "│                ┆ str            ┆              ┆                ┆ ---            ┆ str           │\n",
       "│                ┆                ┆              ┆                ┆ str            ┆               │\n",
       "╞════════════════╪════════════════╪══════════════╪════════════════╪════════════════╪═══════════════╡\n",
       "│ FirstMortgage3 ┆ Married        ┆ 1460         ┆ Port Raoul     ┆ Account        ┆ Rejected      │\n",
       "│ 0yr            ┆                ┆              ┆                ┆                ┆               │\n",
       "│ FirstMortgage3 ┆ Unknown        ┆ 669          ┆ Laurianneshire ┆ AutoLoans      ┆ Accepted      │\n",
       "│ 0yr            ┆                ┆              ┆                ┆                ┆               │\n",
       "│ MoneyMarketSav ┆ No Resp+       ┆ 1174         ┆ Jacobshaven    ┆ Account        ┆ Rejected      │\n",
       "│ ingsAccount    ┆                ┆              ┆                ┆                ┆               │\n",
       "│ BasicChecking  ┆ Unknown        ┆ 1476         ┆ Lindton        ┆ Account        ┆ Rejected      │\n",
       "│ BasicChecking  ┆ Married        ┆ 1211         ┆ South          ┆ DepositAccount ┆ Accepted      │\n",
       "│                ┆                ┆              ┆ Jimmieshire    ┆ s              ┆               │\n",
       "│ UPlusFinPerson ┆ No Resp+       ┆ 533          ┆ Bergeville     ┆ null           ┆ Rejected      │\n",
       "│ al             ┆                ┆              ┆                ┆                ┆               │\n",
       "│ BasicChecking  ┆ No Resp+       ┆ 555          ┆ Willyville     ┆ DepositAccount ┆ Rejected      │\n",
       "│                ┆                ┆              ┆                ┆ s              ┆               │\n",
       "└────────────────┴────────────────┴──────────────┴────────────────┴────────────────┴───────────────┘"
      ]
     },
     "execution_count": 3,
     "metadata": {},
     "output_type": "execute_result"
    }
   ],
   "source": [
    "pl.read_ndjson('../../../../data/SampleHDS.json')"
   ]
  },
  {
   "attachments": {},
   "cell_type": "markdown",
   "metadata": {},
   "source": [
    "As you can see, this dataset consists of regular predictors, IH predictors, context keys and the outcome column. Additionally, some columns are numeric, others are strings. Let's first initialize the DataAnonymization class."
   ]
  },
  {
   "cell_type": "code",
   "execution_count": 4,
   "metadata": {
    "execution": {
     "iopub.execute_input": "2024-05-10T09:04:13.327955Z",
     "iopub.status.busy": "2024-05-10T09:04:13.327626Z",
     "iopub.status.idle": "2024-05-10T09:04:13.336582Z",
     "shell.execute_reply": "2024-05-10T09:04:13.336171Z"
    }
   },
   "outputs": [],
   "source": [
    "anon = DataAnonymization(hds_folder='../../../../data/')"
   ]
  },
  {
   "attachments": {},
   "cell_type": "markdown",
   "metadata": {},
   "source": [
    "By default, the class applies a set of anonymisation techniques:\n",
    "- Column names are remapped to a non-descriptive name\n",
    "- Categorical values are hashed with a random seed\n",
    "- Numerical values are normalized between 0 and 1\n",
    "- Outcomes are mapped to a binary outcome.\n",
    "\n",
    "To apply these techniques, simply call `.process()`:"
   ]
  },
  {
   "cell_type": "code",
   "execution_count": 5,
   "metadata": {
    "execution": {
     "iopub.execute_input": "2024-05-10T09:04:13.338610Z",
     "iopub.status.busy": "2024-05-10T09:04:13.338281Z",
     "iopub.status.idle": "2024-05-10T09:04:13.343656Z",
     "shell.execute_reply": "2024-05-10T09:04:13.343209Z"
    }
   },
   "outputs": [
    {
     "data": {
      "text/html": [
       "<div><style>\n",
       ".dataframe > thead > tr,\n",
       ".dataframe > tbody > tr {\n",
       "  text-align: right;\n",
       "  white-space: pre-wrap;\n",
       "}\n",
       "</style>\n",
       "<small>shape: (7, 7)</small><table border=\"1\" class=\"dataframe\"><thead><tr><th>PREDICTOR_0</th><th>PREDICTOR_1</th><th>filename</th><th>PREDICTOR_3</th><th>Context_Name</th><th>IH_PREDICTOR_0</th><th>Decision_Outcome</th></tr><tr><td>f64</td><td>str</td><td>str</td><td>str</td><td>str</td><td>str</td><td>bool</td></tr></thead><tbody><tr><td>1.5247e19</td><td>&quot;5179392153921583691&quot;</td><td>&quot;../../../../data/SampleHDS.jso…</td><td>&quot;17474175563586727886&quot;</td><td>&quot;9714192072175555228&quot;</td><td>&quot;6099134761902327241&quot;</td><td>false</td></tr><tr><td>1.8460e18</td><td>&quot;17940013979327734757&quot;</td><td>&quot;../../../../data/SampleHDS.jso…</td><td>&quot;14981675891994343769&quot;</td><td>&quot;9714192072175555228&quot;</td><td>&quot;18294008364412038654&quot;</td><td>true</td></tr><tr><td>1.1197e19</td><td>&quot;14999552791562091104&quot;</td><td>&quot;../../../../data/SampleHDS.jso…</td><td>&quot;8262673382741712242&quot;</td><td>&quot;12645135992074137864&quot;</td><td>&quot;6099134761902327241&quot;</td><td>false</td></tr><tr><td>2.7843e18</td><td>&quot;17940013979327734757&quot;</td><td>&quot;../../../../data/SampleHDS.jso…</td><td>&quot;2907777176371979799&quot;</td><td>&quot;11230190041859322853&quot;</td><td>&quot;6099134761902327241&quot;</td><td>false</td></tr><tr><td>7.6730e18</td><td>&quot;5179392153921583691&quot;</td><td>&quot;../../../../data/SampleHDS.jso…</td><td>&quot;7497014876548220268&quot;</td><td>&quot;11230190041859322853&quot;</td><td>&quot;9469689233780073754&quot;</td><td>true</td></tr><tr><td>6.6172e18</td><td>&quot;14999552791562091104&quot;</td><td>&quot;../../../../data/SampleHDS.jso…</td><td>&quot;14205187435825479763&quot;</td><td>&quot;11445304671692733038&quot;</td><td>null</td><td>false</td></tr><tr><td>2.7919e18</td><td>&quot;14999552791562091104&quot;</td><td>&quot;../../../../data/SampleHDS.jso…</td><td>&quot;14541675697494601701&quot;</td><td>&quot;11230190041859322853&quot;</td><td>&quot;9469689233780073754&quot;</td><td>false</td></tr></tbody></table></div>"
      ],
      "text/plain": [
       "shape: (7, 7)\n",
       "┌─────────────┬──────────────┬─────────────┬─────────────┬─────────────┬─────────────┬─────────────┐\n",
       "│ PREDICTOR_0 ┆ PREDICTOR_1  ┆ filename    ┆ PREDICTOR_3 ┆ Context_Nam ┆ IH_PREDICTO ┆ Decision_Ou │\n",
       "│ ---         ┆ ---          ┆ ---         ┆ ---         ┆ e           ┆ R_0         ┆ tcome       │\n",
       "│ f64         ┆ str          ┆ str         ┆ str         ┆ ---         ┆ ---         ┆ ---         │\n",
       "│             ┆              ┆             ┆             ┆ str         ┆ str         ┆ bool        │\n",
       "╞═════════════╪══════════════╪═════════════╪═════════════╪═════════════╪═════════════╪═════════════╡\n",
       "│ 1.5247e19   ┆ 517939215392 ┆ ../../../.. ┆ 17474175563 ┆ 97141920721 ┆ 60991347619 ┆ false       │\n",
       "│             ┆ 1583691      ┆ /data/Sampl ┆ 586727886   ┆ 75555228    ┆ 02327241    ┆             │\n",
       "│             ┆              ┆ eHDS.jso…   ┆             ┆             ┆             ┆             │\n",
       "│ 1.8460e18   ┆ 179400139793 ┆ ../../../.. ┆ 14981675891 ┆ 97141920721 ┆ 18294008364 ┆ true        │\n",
       "│             ┆ 27734757     ┆ /data/Sampl ┆ 994343769   ┆ 75555228    ┆ 412038654   ┆             │\n",
       "│             ┆              ┆ eHDS.jso…   ┆             ┆             ┆             ┆             │\n",
       "│ 1.1197e19   ┆ 149995527915 ┆ ../../../.. ┆ 82626733827 ┆ 12645135992 ┆ 60991347619 ┆ false       │\n",
       "│             ┆ 62091104     ┆ /data/Sampl ┆ 41712242    ┆ 074137864   ┆ 02327241    ┆             │\n",
       "│             ┆              ┆ eHDS.jso…   ┆             ┆             ┆             ┆             │\n",
       "│ 2.7843e18   ┆ 179400139793 ┆ ../../../.. ┆ 29077771763 ┆ 11230190041 ┆ 60991347619 ┆ false       │\n",
       "│             ┆ 27734757     ┆ /data/Sampl ┆ 71979799    ┆ 859322853   ┆ 02327241    ┆             │\n",
       "│             ┆              ┆ eHDS.jso…   ┆             ┆             ┆             ┆             │\n",
       "│ 7.6730e18   ┆ 517939215392 ┆ ../../../.. ┆ 74970148765 ┆ 11230190041 ┆ 94696892337 ┆ true        │\n",
       "│             ┆ 1583691      ┆ /data/Sampl ┆ 48220268    ┆ 859322853   ┆ 80073754    ┆             │\n",
       "│             ┆              ┆ eHDS.jso…   ┆             ┆             ┆             ┆             │\n",
       "│ 6.6172e18   ┆ 149995527915 ┆ ../../../.. ┆ 14205187435 ┆ 11445304671 ┆ null        ┆ false       │\n",
       "│             ┆ 62091104     ┆ /data/Sampl ┆ 825479763   ┆ 692733038   ┆             ┆             │\n",
       "│             ┆              ┆ eHDS.jso…   ┆             ┆             ┆             ┆             │\n",
       "│ 2.7919e18   ┆ 149995527915 ┆ ../../../.. ┆ 14541675697 ┆ 11230190041 ┆ 94696892337 ┆ false       │\n",
       "│             ┆ 62091104     ┆ /data/Sampl ┆ 494601701   ┆ 859322853   ┆ 80073754    ┆             │\n",
       "│             ┆              ┆ eHDS.jso…   ┆             ┆             ┆             ┆             │\n",
       "└─────────────┴──────────────┴─────────────┴─────────────┴─────────────┴─────────────┴─────────────┘"
      ]
     },
     "execution_count": 5,
     "metadata": {},
     "output_type": "execute_result"
    }
   ],
   "source": [
    "anon.process()"
   ]
  },
  {
   "attachments": {},
   "cell_type": "markdown",
   "metadata": {},
   "source": [
    "To trace back the columns to their original names, the class also contains a mapping, which does not have to be provided."
   ]
  },
  {
   "cell_type": "code",
   "execution_count": 6,
   "metadata": {
    "execution": {
     "iopub.execute_input": "2024-05-10T09:04:13.345549Z",
     "iopub.status.busy": "2024-05-10T09:04:13.345383Z",
     "iopub.status.idle": "2024-05-10T09:04:13.349230Z",
     "shell.execute_reply": "2024-05-10T09:04:13.348780Z"
    }
   },
   "outputs": [
    {
     "data": {
      "text/plain": [
       "{'Customer_CLV': 'PREDICTOR_0',\n",
       " 'Customer_MaritalStatus': 'PREDICTOR_1',\n",
       " 'filename': 'filename',\n",
       " 'Customer_City': 'PREDICTOR_3',\n",
       " 'Context_Name': 'Context_Name',\n",
       " 'IH_Web_Inbound_Accepted_pxLastGroupID': 'IH_PREDICTOR_0',\n",
       " 'Decision_Outcome': 'Decision_Outcome'}"
      ]
     },
     "execution_count": 6,
     "metadata": {},
     "output_type": "execute_result"
    }
   ],
   "source": [
    "anon.column_mapping"
   ]
  },
  {
   "attachments": {},
   "cell_type": "markdown",
   "metadata": {},
   "source": [
    "## Configs\n",
    "\n",
    "Each capability can optionally be turned off - see below for the full list of config options, and refer to the API reference for the full description."
   ]
  },
  {
   "cell_type": "code",
   "execution_count": 7,
   "metadata": {
    "execution": {
     "iopub.execute_input": "2024-05-10T09:04:13.351222Z",
     "iopub.status.busy": "2024-05-10T09:04:13.350927Z",
     "iopub.status.idle": "2024-05-10T09:04:13.355067Z",
     "shell.execute_reply": "2024-05-10T09:04:13.354620Z"
    }
   },
   "outputs": [
    {
     "data": {
      "text/plain": [
       "{'config_file': None,\n",
       " 'hds_folder': '.',\n",
       " 'use_datamart': False,\n",
       " 'datamart_folder': 'datamart',\n",
       " 'output_format': 'ndjson',\n",
       " 'output_folder': 'output',\n",
       " 'mapping_file': 'mapping.map',\n",
       " 'mask_predictor_names': True,\n",
       " 'mask_context_key_names': False,\n",
       " 'mask_ih_names': True,\n",
       " 'mask_outcome_name': False,\n",
       " 'mask_predictor_values': True,\n",
       " 'mask_context_key_values': True,\n",
       " 'mask_ih_values': True,\n",
       " 'mask_outcome_values': True,\n",
       " 'context_key_label': 'Context_*',\n",
       " 'ih_label': 'IH_*',\n",
       " 'outcome_column': 'Decision_Outcome',\n",
       " 'positive_outcomes': ['Accepted', 'Clicked'],\n",
       " 'negative_outcomes': ['Rejected', 'Impression'],\n",
       " 'special_predictors': ['Decision_DecisionTime',\n",
       "  'Decision_OutcomeTime',\n",
       "  'Decision_Rank'],\n",
       " 'sample_percentage_schema_inferencing': 0.01}"
      ]
     },
     "execution_count": 7,
     "metadata": {},
     "output_type": "execute_result"
    }
   ],
   "source": [
    "dict(zip(Config.__init__.__code__.co_varnames[1:], Config.__init__.__defaults__))"
   ]
  },
  {
   "attachments": {},
   "cell_type": "markdown",
   "metadata": {},
   "source": [
    "It's easy to change these parameters by just passing the keyword arguments. In the following example, we\n",
    "- Keep the IH predictor names\n",
    "- Keep the outcome values\n",
    "- Keep the context key values\n",
    "- Keep the context key predictor names"
   ]
  },
  {
   "cell_type": "code",
   "execution_count": 8,
   "metadata": {
    "execution": {
     "iopub.execute_input": "2024-05-10T09:04:13.357084Z",
     "iopub.status.busy": "2024-05-10T09:04:13.356691Z",
     "iopub.status.idle": "2024-05-10T09:04:13.364592Z",
     "shell.execute_reply": "2024-05-10T09:04:13.364045Z"
    }
   },
   "outputs": [
    {
     "data": {
      "text/html": [
       "<div><style>\n",
       ".dataframe > thead > tr,\n",
       ".dataframe > tbody > tr {\n",
       "  text-align: right;\n",
       "  white-space: pre-wrap;\n",
       "}\n",
       "</style>\n",
       "<small>shape: (7, 7)</small><table border=\"1\" class=\"dataframe\"><thead><tr><th>PREDICTOR_0</th><th>PREDICTOR_1</th><th>filename</th><th>PREDICTOR_3</th><th>Context_Name</th><th>IH_Web_Inbound_Accepted_pxLastGroupID</th><th>Decision_Outcome</th></tr><tr><td>f64</td><td>str</td><td>str</td><td>str</td><td>str</td><td>str</td><td>str</td></tr></thead><tbody><tr><td>5.4735e17</td><td>&quot;15382727669290606416&quot;</td><td>&quot;../../../../data/SampleHDS.jso…</td><td>&quot;8063140318070100244&quot;</td><td>&quot;FirstMortgage30yr&quot;</td><td>&quot;12730265499883026579&quot;</td><td>&quot;Rejected&quot;</td></tr><tr><td>1.4114e19</td><td>&quot;11890983927289252095&quot;</td><td>&quot;../../../../data/SampleHDS.jso…</td><td>&quot;12107142067298034732&quot;</td><td>&quot;FirstMortgage30yr&quot;</td><td>&quot;4169497361815982117&quot;</td><td>&quot;Accepted&quot;</td></tr><tr><td>1.4733e19</td><td>&quot;7602069423440632356&quot;</td><td>&quot;../../../../data/SampleHDS.jso…</td><td>&quot;5274731381479035942&quot;</td><td>&quot;MoneyMarketSavingsAccount&quot;</td><td>&quot;12730265499883026579&quot;</td><td>&quot;Rejected&quot;</td></tr><tr><td>1.0467e19</td><td>&quot;11890983927289252095&quot;</td><td>&quot;../../../../data/SampleHDS.jso…</td><td>&quot;17197415458613310218&quot;</td><td>&quot;BasicChecking&quot;</td><td>&quot;12730265499883026579&quot;</td><td>&quot;Rejected&quot;</td></tr><tr><td>3.0848e18</td><td>&quot;15382727669290606416&quot;</td><td>&quot;../../../../data/SampleHDS.jso…</td><td>&quot;16907010810793496991&quot;</td><td>&quot;BasicChecking&quot;</td><td>&quot;8479992277171098576&quot;</td><td>&quot;Accepted&quot;</td></tr><tr><td>1.6352e19</td><td>&quot;7602069423440632356&quot;</td><td>&quot;../../../../data/SampleHDS.jso…</td><td>&quot;17095475831976436801&quot;</td><td>&quot;UPlusFinPersonal&quot;</td><td>null</td><td>&quot;Rejected&quot;</td></tr><tr><td>4.8860e18</td><td>&quot;7602069423440632356&quot;</td><td>&quot;../../../../data/SampleHDS.jso…</td><td>&quot;15191262926429173632&quot;</td><td>&quot;BasicChecking&quot;</td><td>&quot;8479992277171098576&quot;</td><td>&quot;Rejected&quot;</td></tr></tbody></table></div>"
      ],
      "text/plain": [
       "shape: (7, 7)\n",
       "┌─────────────┬──────────────┬─────────────┬─────────────┬─────────────┬─────────────┬─────────────┐\n",
       "│ PREDICTOR_0 ┆ PREDICTOR_1  ┆ filename    ┆ PREDICTOR_3 ┆ Context_Nam ┆ IH_Web_Inbo ┆ Decision_Ou │\n",
       "│ ---         ┆ ---          ┆ ---         ┆ ---         ┆ e           ┆ und_Accepte ┆ tcome       │\n",
       "│ f64         ┆ str          ┆ str         ┆ str         ┆ ---         ┆ d_pxLast…   ┆ ---         │\n",
       "│             ┆              ┆             ┆             ┆ str         ┆ ---         ┆ str         │\n",
       "│             ┆              ┆             ┆             ┆             ┆ str         ┆             │\n",
       "╞═════════════╪══════════════╪═════════════╪═════════════╪═════════════╪═════════════╪═════════════╡\n",
       "│ 5.4735e17   ┆ 153827276692 ┆ ../../../.. ┆ 80631403180 ┆ FirstMortga ┆ 12730265499 ┆ Rejected    │\n",
       "│             ┆ 90606416     ┆ /data/Sampl ┆ 70100244    ┆ ge30yr      ┆ 883026579   ┆             │\n",
       "│             ┆              ┆ eHDS.jso…   ┆             ┆             ┆             ┆             │\n",
       "│ 1.4114e19   ┆ 118909839272 ┆ ../../../.. ┆ 12107142067 ┆ FirstMortga ┆ 41694973618 ┆ Accepted    │\n",
       "│             ┆ 89252095     ┆ /data/Sampl ┆ 298034732   ┆ ge30yr      ┆ 15982117    ┆             │\n",
       "│             ┆              ┆ eHDS.jso…   ┆             ┆             ┆             ┆             │\n",
       "│ 1.4733e19   ┆ 760206942344 ┆ ../../../.. ┆ 52747313814 ┆ MoneyMarket ┆ 12730265499 ┆ Rejected    │\n",
       "│             ┆ 0632356      ┆ /data/Sampl ┆ 79035942    ┆ SavingsAcco ┆ 883026579   ┆             │\n",
       "│             ┆              ┆ eHDS.jso…   ┆             ┆ unt         ┆             ┆             │\n",
       "│ 1.0467e19   ┆ 118909839272 ┆ ../../../.. ┆ 17197415458 ┆ BasicChecki ┆ 12730265499 ┆ Rejected    │\n",
       "│             ┆ 89252095     ┆ /data/Sampl ┆ 613310218   ┆ ng          ┆ 883026579   ┆             │\n",
       "│             ┆              ┆ eHDS.jso…   ┆             ┆             ┆             ┆             │\n",
       "│ 3.0848e18   ┆ 153827276692 ┆ ../../../.. ┆ 16907010810 ┆ BasicChecki ┆ 84799922771 ┆ Accepted    │\n",
       "│             ┆ 90606416     ┆ /data/Sampl ┆ 793496991   ┆ ng          ┆ 71098576    ┆             │\n",
       "│             ┆              ┆ eHDS.jso…   ┆             ┆             ┆             ┆             │\n",
       "│ 1.6352e19   ┆ 760206942344 ┆ ../../../.. ┆ 17095475831 ┆ UPlusFinPer ┆ null        ┆ Rejected    │\n",
       "│             ┆ 0632356      ┆ /data/Sampl ┆ 976436801   ┆ sonal       ┆             ┆             │\n",
       "│             ┆              ┆ eHDS.jso…   ┆             ┆             ┆             ┆             │\n",
       "│ 4.8860e18   ┆ 760206942344 ┆ ../../../.. ┆ 15191262926 ┆ BasicChecki ┆ 84799922771 ┆ Rejected    │\n",
       "│             ┆ 0632356      ┆ /data/Sampl ┆ 429173632   ┆ ng          ┆ 71098576    ┆             │\n",
       "│             ┆              ┆ eHDS.jso…   ┆             ┆             ┆             ┆             │\n",
       "└─────────────┴──────────────┴─────────────┴─────────────┴─────────────┴─────────────┴─────────────┘"
      ]
     },
     "execution_count": 8,
     "metadata": {},
     "output_type": "execute_result"
    }
   ],
   "source": [
    "anon = DataAnonymization(\n",
    "    hds_folder=\"../../../../data/\",\n",
    "    mask_ih_names=False,\n",
    "    mask_outcome_values=False,\n",
    "    mask_context_key_values=False,\n",
    "    mask_context_key_names=False,\n",
    ")\n",
    "anon.process()\n"
   ]
  },
  {
   "attachments": {},
   "cell_type": "markdown",
   "metadata": {},
   "source": [
    "The configs can also be written and read as such:"
   ]
  },
  {
   "cell_type": "code",
   "execution_count": 9,
   "metadata": {
    "execution": {
     "iopub.execute_input": "2024-05-10T09:04:13.366714Z",
     "iopub.status.busy": "2024-05-10T09:04:13.366410Z",
     "iopub.status.idle": "2024-05-10T09:04:13.369139Z",
     "shell.execute_reply": "2024-05-10T09:04:13.368693Z"
    }
   },
   "outputs": [],
   "source": [
    "anon.config.save_to_config_file('config.json')"
   ]
  },
  {
   "cell_type": "code",
   "execution_count": 10,
   "metadata": {
    "execution": {
     "iopub.execute_input": "2024-05-10T09:04:13.371152Z",
     "iopub.status.busy": "2024-05-10T09:04:13.370750Z",
     "iopub.status.idle": "2024-05-10T09:04:13.378387Z",
     "shell.execute_reply": "2024-05-10T09:04:13.377822Z"
    }
   },
   "outputs": [
    {
     "data": {
      "text/html": [
       "<div><style>\n",
       ".dataframe > thead > tr,\n",
       ".dataframe > tbody > tr {\n",
       "  text-align: right;\n",
       "  white-space: pre-wrap;\n",
       "}\n",
       "</style>\n",
       "<small>shape: (7, 7)</small><table border=\"1\" class=\"dataframe\"><thead><tr><th>PREDICTOR_0</th><th>PREDICTOR_1</th><th>filename</th><th>PREDICTOR_3</th><th>Context_Name</th><th>IH_Web_Inbound_Accepted_pxLastGroupID</th><th>Decision_Outcome</th></tr><tr><td>f64</td><td>str</td><td>str</td><td>str</td><td>str</td><td>str</td><td>str</td></tr></thead><tbody><tr><td>1.6016e19</td><td>&quot;1036680771002603838&quot;</td><td>&quot;../../../../data/SampleHDS.jso…</td><td>&quot;2462089141645756336&quot;</td><td>&quot;FirstMortgage30yr&quot;</td><td>&quot;38513706541725791&quot;</td><td>&quot;Rejected&quot;</td></tr><tr><td>1.8127e19</td><td>&quot;14044617397041215286&quot;</td><td>&quot;../../../../data/SampleHDS.jso…</td><td>&quot;10809778988135924044&quot;</td><td>&quot;FirstMortgage30yr&quot;</td><td>&quot;13746767746219736417&quot;</td><td>&quot;Accepted&quot;</td></tr><tr><td>1.3075e19</td><td>&quot;2411782643901597225&quot;</td><td>&quot;../../../../data/SampleHDS.jso…</td><td>&quot;13443638259097896003&quot;</td><td>&quot;MoneyMarketSavingsAccount&quot;</td><td>&quot;38513706541725791&quot;</td><td>&quot;Rejected&quot;</td></tr><tr><td>6.8473e18</td><td>&quot;14044617397041215286&quot;</td><td>&quot;../../../../data/SampleHDS.jso…</td><td>&quot;8360695290463518531&quot;</td><td>&quot;BasicChecking&quot;</td><td>&quot;38513706541725791&quot;</td><td>&quot;Rejected&quot;</td></tr><tr><td>9.8768e18</td><td>&quot;1036680771002603838&quot;</td><td>&quot;../../../../data/SampleHDS.jso…</td><td>&quot;18238277421133152802&quot;</td><td>&quot;BasicChecking&quot;</td><td>&quot;5115345972055596829&quot;</td><td>&quot;Accepted&quot;</td></tr><tr><td>7.9551e18</td><td>&quot;2411782643901597225&quot;</td><td>&quot;../../../../data/SampleHDS.jso…</td><td>&quot;154043692009781937&quot;</td><td>&quot;UPlusFinPersonal&quot;</td><td>null</td><td>&quot;Rejected&quot;</td></tr><tr><td>1.0464e19</td><td>&quot;2411782643901597225&quot;</td><td>&quot;../../../../data/SampleHDS.jso…</td><td>&quot;15100455684642642473&quot;</td><td>&quot;BasicChecking&quot;</td><td>&quot;5115345972055596829&quot;</td><td>&quot;Rejected&quot;</td></tr></tbody></table></div>"
      ],
      "text/plain": [
       "shape: (7, 7)\n",
       "┌─────────────┬──────────────┬─────────────┬─────────────┬─────────────┬─────────────┬─────────────┐\n",
       "│ PREDICTOR_0 ┆ PREDICTOR_1  ┆ filename    ┆ PREDICTOR_3 ┆ Context_Nam ┆ IH_Web_Inbo ┆ Decision_Ou │\n",
       "│ ---         ┆ ---          ┆ ---         ┆ ---         ┆ e           ┆ und_Accepte ┆ tcome       │\n",
       "│ f64         ┆ str          ┆ str         ┆ str         ┆ ---         ┆ d_pxLast…   ┆ ---         │\n",
       "│             ┆              ┆             ┆             ┆ str         ┆ ---         ┆ str         │\n",
       "│             ┆              ┆             ┆             ┆             ┆ str         ┆             │\n",
       "╞═════════════╪══════════════╪═════════════╪═════════════╪═════════════╪═════════════╪═════════════╡\n",
       "│ 1.6016e19   ┆ 103668077100 ┆ ../../../.. ┆ 24620891416 ┆ FirstMortga ┆ 38513706541 ┆ Rejected    │\n",
       "│             ┆ 2603838      ┆ /data/Sampl ┆ 45756336    ┆ ge30yr      ┆ 725791      ┆             │\n",
       "│             ┆              ┆ eHDS.jso…   ┆             ┆             ┆             ┆             │\n",
       "│ 1.8127e19   ┆ 140446173970 ┆ ../../../.. ┆ 10809778988 ┆ FirstMortga ┆ 13746767746 ┆ Accepted    │\n",
       "│             ┆ 41215286     ┆ /data/Sampl ┆ 135924044   ┆ ge30yr      ┆ 219736417   ┆             │\n",
       "│             ┆              ┆ eHDS.jso…   ┆             ┆             ┆             ┆             │\n",
       "│ 1.3075e19   ┆ 241178264390 ┆ ../../../.. ┆ 13443638259 ┆ MoneyMarket ┆ 38513706541 ┆ Rejected    │\n",
       "│             ┆ 1597225      ┆ /data/Sampl ┆ 097896003   ┆ SavingsAcco ┆ 725791      ┆             │\n",
       "│             ┆              ┆ eHDS.jso…   ┆             ┆ unt         ┆             ┆             │\n",
       "│ 6.8473e18   ┆ 140446173970 ┆ ../../../.. ┆ 83606952904 ┆ BasicChecki ┆ 38513706541 ┆ Rejected    │\n",
       "│             ┆ 41215286     ┆ /data/Sampl ┆ 63518531    ┆ ng          ┆ 725791      ┆             │\n",
       "│             ┆              ┆ eHDS.jso…   ┆             ┆             ┆             ┆             │\n",
       "│ 9.8768e18   ┆ 103668077100 ┆ ../../../.. ┆ 18238277421 ┆ BasicChecki ┆ 51153459720 ┆ Accepted    │\n",
       "│             ┆ 2603838      ┆ /data/Sampl ┆ 133152802   ┆ ng          ┆ 55596829    ┆             │\n",
       "│             ┆              ┆ eHDS.jso…   ┆             ┆             ┆             ┆             │\n",
       "│ 7.9551e18   ┆ 241178264390 ┆ ../../../.. ┆ 15404369200 ┆ UPlusFinPer ┆ null        ┆ Rejected    │\n",
       "│             ┆ 1597225      ┆ /data/Sampl ┆ 9781937     ┆ sonal       ┆             ┆             │\n",
       "│             ┆              ┆ eHDS.jso…   ┆             ┆             ┆             ┆             │\n",
       "│ 1.0464e19   ┆ 241178264390 ┆ ../../../.. ┆ 15100455684 ┆ BasicChecki ┆ 51153459720 ┆ Rejected    │\n",
       "│             ┆ 1597225      ┆ /data/Sampl ┆ 642642473   ┆ ng          ┆ 55596829    ┆             │\n",
       "│             ┆              ┆ eHDS.jso…   ┆             ┆             ┆             ┆             │\n",
       "└─────────────┴──────────────┴─────────────┴─────────────┴─────────────┴─────────────┴─────────────┘"
      ]
     },
     "execution_count": 10,
     "metadata": {},
     "output_type": "execute_result"
    }
   ],
   "source": [
    "anon = DataAnonymization(config=Config(config_file='config.json'))\n",
    "anon.process()"
   ]
  },
  {
   "attachments": {},
   "cell_type": "markdown",
   "metadata": {},
   "source": [
    "## Exporting\n",
    "Two functions export:\n",
    "- `create_mapping_file()` writes the mapping file of the predictor names\n",
    "- `write_to_output()` writes the processed dataframe to disk\n",
    "\n",
    "Write to output accepts the following extensions: `[\"ndjson\", \"parquet\", \"arrow\", \"csv\"]`"
   ]
  },
  {
   "cell_type": "code",
   "execution_count": 11,
   "metadata": {
    "execution": {
     "iopub.execute_input": "2024-05-10T09:04:13.380334Z",
     "iopub.status.busy": "2024-05-10T09:04:13.380049Z",
     "iopub.status.idle": "2024-05-10T09:04:13.383318Z",
     "shell.execute_reply": "2024-05-10T09:04:13.382884Z"
    }
   },
   "outputs": [
    {
     "name": "stdout",
     "output_type": "stream",
     "text": [
      "Customer_CLV=PREDICTOR_0\n",
      "Customer_MaritalStatus=PREDICTOR_1\n",
      "filename=filename\n",
      "Customer_City=PREDICTOR_3\n",
      "Context_Name=Context_Name\n",
      "IH_Web_Inbound_Accepted_pxLastGroupID=IH_Web_Inbound_Accepted_pxLastGroupID\n",
      "Decision_Outcome=Decision_Outcome\n",
      "\n"
     ]
    }
   ],
   "source": [
    "anon.create_mapping_file()\n",
    "with open('mapping.map') as f:\n",
    "    print(f.read())"
   ]
  },
  {
   "cell_type": "code",
   "execution_count": 12,
   "metadata": {
    "execution": {
     "iopub.execute_input": "2024-05-10T09:04:13.385284Z",
     "iopub.status.busy": "2024-05-10T09:04:13.384941Z",
     "iopub.status.idle": "2024-05-10T09:04:13.388518Z",
     "shell.execute_reply": "2024-05-10T09:04:13.387950Z"
    }
   },
   "outputs": [],
   "source": [
    "anon.write_to_output(ext='arrow')"
   ]
  },
  {
   "cell_type": "code",
   "execution_count": 13,
   "metadata": {
    "execution": {
     "iopub.execute_input": "2024-05-10T09:04:13.390644Z",
     "iopub.status.busy": "2024-05-10T09:04:13.390287Z",
     "iopub.status.idle": "2024-05-10T09:04:13.395500Z",
     "shell.execute_reply": "2024-05-10T09:04:13.395027Z"
    }
   },
   "outputs": [
    {
     "data": {
      "text/html": [
       "<div><style>\n",
       ".dataframe > thead > tr,\n",
       ".dataframe > tbody > tr {\n",
       "  text-align: right;\n",
       "  white-space: pre-wrap;\n",
       "}\n",
       "</style>\n",
       "<small>shape: (7, 6)</small><table border=\"1\" class=\"dataframe\"><thead><tr><th>PREDICTOR_0</th><th>PREDICTOR_1</th><th>PREDICTOR_3</th><th>Context_Name</th><th>IH_Web_Inbound_Accepted_pxLastGroupID</th><th>Decision_Outcome</th></tr><tr><td>f64</td><td>str</td><td>str</td><td>str</td><td>str</td><td>str</td></tr></thead><tbody><tr><td>1.5967e19</td><td>&quot;2694305331326908706&quot;</td><td>&quot;1840724640545968672&quot;</td><td>&quot;FirstMortgage30yr&quot;</td><td>&quot;4939638654962732341&quot;</td><td>&quot;Rejected&quot;</td></tr><tr><td>1.5737e19</td><td>&quot;1949180108809398051&quot;</td><td>&quot;7832152552962031928&quot;</td><td>&quot;FirstMortgage30yr&quot;</td><td>&quot;12826971976887187280&quot;</td><td>&quot;Accepted&quot;</td></tr><tr><td>1.4409e19</td><td>&quot;16884734000232782142&quot;</td><td>&quot;15412287632562621725&quot;</td><td>&quot;MoneyMarketSavingsAccount&quot;</td><td>&quot;4939638654962732341&quot;</td><td>&quot;Rejected&quot;</td></tr><tr><td>1.4422e19</td><td>&quot;1949180108809398051&quot;</td><td>&quot;17733056944395838154&quot;</td><td>&quot;BasicChecking&quot;</td><td>&quot;4939638654962732341&quot;</td><td>&quot;Rejected&quot;</td></tr><tr><td>1.2182e19</td><td>&quot;2694305331326908706&quot;</td><td>&quot;917926020296609547&quot;</td><td>&quot;BasicChecking&quot;</td><td>&quot;16267193307825368447&quot;</td><td>&quot;Accepted&quot;</td></tr><tr><td>1.1628e19</td><td>&quot;16884734000232782142&quot;</td><td>&quot;15498909199646823918&quot;</td><td>&quot;UPlusFinPersonal&quot;</td><td>null</td><td>&quot;Rejected&quot;</td></tr><tr><td>7.5535e17</td><td>&quot;16884734000232782142&quot;</td><td>&quot;5931328156118746873&quot;</td><td>&quot;BasicChecking&quot;</td><td>&quot;16267193307825368447&quot;</td><td>&quot;Rejected&quot;</td></tr></tbody></table></div>"
      ],
      "text/plain": [
       "shape: (7, 6)\n",
       "┌─────────────┬────────────────┬────────────────┬────────────────┬────────────────┬────────────────┐\n",
       "│ PREDICTOR_0 ┆ PREDICTOR_1    ┆ PREDICTOR_3    ┆ Context_Name   ┆ IH_Web_Inbound ┆ Decision_Outco │\n",
       "│ ---         ┆ ---            ┆ ---            ┆ ---            ┆ _Accepted_pxLa ┆ me             │\n",
       "│ f64         ┆ str            ┆ str            ┆ str            ┆ st…            ┆ ---            │\n",
       "│             ┆                ┆                ┆                ┆ ---            ┆ str            │\n",
       "│             ┆                ┆                ┆                ┆ str            ┆                │\n",
       "╞═════════════╪════════════════╪════════════════╪════════════════╪════════════════╪════════════════╡\n",
       "│ 1.5967e19   ┆ 26943053313269 ┆ 18407246405459 ┆ FirstMortgage3 ┆ 49396386549627 ┆ Rejected       │\n",
       "│             ┆ 08706          ┆ 68672          ┆ 0yr            ┆ 32341          ┆                │\n",
       "│ 1.5737e19   ┆ 19491801088093 ┆ 78321525529620 ┆ FirstMortgage3 ┆ 12826971976887 ┆ Accepted       │\n",
       "│             ┆ 98051          ┆ 31928          ┆ 0yr            ┆ 187280         ┆                │\n",
       "│ 1.4409e19   ┆ 16884734000232 ┆ 15412287632562 ┆ MoneyMarketSav ┆ 49396386549627 ┆ Rejected       │\n",
       "│             ┆ 782142         ┆ 621725         ┆ ingsAccount    ┆ 32341          ┆                │\n",
       "│ 1.4422e19   ┆ 19491801088093 ┆ 17733056944395 ┆ BasicChecking  ┆ 49396386549627 ┆ Rejected       │\n",
       "│             ┆ 98051          ┆ 838154         ┆                ┆ 32341          ┆                │\n",
       "│ 1.2182e19   ┆ 26943053313269 ┆ 91792602029660 ┆ BasicChecking  ┆ 16267193307825 ┆ Accepted       │\n",
       "│             ┆ 08706          ┆ 9547           ┆                ┆ 368447         ┆                │\n",
       "│ 1.1628e19   ┆ 16884734000232 ┆ 15498909199646 ┆ UPlusFinPerson ┆ null           ┆ Rejected       │\n",
       "│             ┆ 782142         ┆ 823918         ┆ al             ┆                ┆                │\n",
       "│ 7.5535e17   ┆ 16884734000232 ┆ 59313281561187 ┆ BasicChecking  ┆ 16267193307825 ┆ Rejected       │\n",
       "│             ┆ 782142         ┆ 46873          ┆                ┆ 368447         ┆                │\n",
       "└─────────────┴────────────────┴────────────────┴────────────────┴────────────────┴────────────────┘"
      ]
     },
     "execution_count": 13,
     "metadata": {},
     "output_type": "execute_result"
    }
   ],
   "source": [
    "pl.read_ipc('output/hds.arrow')"
   ]
  },
  {
   "attachments": {},
   "cell_type": "markdown",
   "metadata": {
    "nbsphinx": "hidden"
   },
   "source": [
    "## Advanced: Hash fuctions\n",
    "\n",
    "By default, we use [the same hashing algorithm Polars](https://pola-rs.github.io/polars/py-polars/html/reference/expressions/api/polars.Expr.hash.html#polars.Expr.hash) uses: [xxhash](https://github.com/Cyan4973/xxHash), as implemented [here](https://github.com/pola-rs/polars/blob/3f287f370b3c388ed2f3f218b2c096382548136f/polars/polars-core/src/vector_hasher.rs#L266). xxhash is fast to compute, and you can check its performance in collision, dispersion and randomness [here](https://github.com/Cyan4973/xxHash/tree/dev/tests). \n",
    "\n",
    "xxhash accepts four distinct seeds, but by default we set the seeds to `0`. It is possible to set the `seed` argument of the `process()` function to `'random'`, which will set all four seeds to a random integer between `0` and `1000000000`. Alternatively, it is possible to supply the four seeds manually with arguments `seed`, `seed_1`, `seed_2` and `seed_3`. \n",
    "\n",
    "If the xxhash with (random) seed(s) is not deemed sufficiently secure, it is possible to use your own hashing algorithm.\n",
    "\n",
    "Note that since we're now running python code and not native Polars code anymore, this will be _significantly_ slower. Nonetheless, it is possible.\n",
    "\n",
    "Just as an example - this is how one would use sha3_256:"
   ]
  },
  {
   "cell_type": "code",
   "execution_count": 14,
   "metadata": {
    "execution": {
     "iopub.execute_input": "2024-05-10T09:04:13.397756Z",
     "iopub.status.busy": "2024-05-10T09:04:13.397322Z",
     "iopub.status.idle": "2024-05-10T09:04:13.715063Z",
     "shell.execute_reply": "2024-05-10T09:04:13.714482Z"
    },
    "nbsphinx": "hidden"
   },
   "outputs": [
    {
     "name": "stderr",
     "output_type": "stream",
     "text": [
      "sys:1: MapWithoutReturnDtypeWarning:\n",
      "\n",
      "Calling `map_elements` without specifying `return_dtype` can lead to unpredictable results. Specify `return_dtype` to silence this warning.\n",
      "\n",
      "sys:1: MapWithoutReturnDtypeWarning:\n",
      "\n",
      "Calling `map_elements` without specifying `return_dtype` can lead to unpredictable results. Specify `return_dtype` to silence this warning.\n",
      "\n",
      "sys:1: MapWithoutReturnDtypeWarning:\n",
      "\n",
      "Calling `map_elements` without specifying `return_dtype` can lead to unpredictable results. Specify `return_dtype` to silence this warning.\n",
      "\n",
      "sys:1: MapWithoutReturnDtypeWarning:\n",
      "\n",
      "Calling `map_elements` without specifying `return_dtype` can lead to unpredictable results. Specify `return_dtype` to silence this warning.\n",
      "\n"
     ]
    },
    {
     "ename": "ComputeError",
     "evalue": "AttributeError: 'int' object has no attribute 'encode'",
     "output_type": "error",
     "traceback": [
      "\u001b[0;31m---------------------------------------------------------------------------\u001b[0m",
      "\u001b[0;31mComputeError\u001b[0m                              Traceback (most recent call last)",
      "Cell \u001b[0;32mIn[14], line 3\u001b[0m\n\u001b[1;32m      1\u001b[0m \u001b[38;5;28;01mfrom\u001b[39;00m \u001b[38;5;21;01mhashlib\u001b[39;00m \u001b[38;5;28;01mimport\u001b[39;00m sha3_256\n\u001b[0;32m----> 3\u001b[0m \u001b[43manon\u001b[49m\u001b[38;5;241;43m.\u001b[39;49m\u001b[43mprocess\u001b[49m\u001b[43m(\u001b[49m\u001b[43malgorithm\u001b[49m\u001b[38;5;241;43m=\u001b[39;49m\u001b[38;5;28;43;01mlambda\u001b[39;49;00m\u001b[43m \u001b[49m\u001b[43mx\u001b[49m\u001b[43m:\u001b[49m\u001b[43m \u001b[49m\u001b[43msha3_256\u001b[49m\u001b[43m(\u001b[49m\u001b[43mx\u001b[49m\u001b[38;5;241;43m.\u001b[39;49m\u001b[43mencode\u001b[49m\u001b[43m(\u001b[49m\u001b[43m)\u001b[49m\u001b[43m)\u001b[49m\u001b[38;5;241;43m.\u001b[39;49m\u001b[43mhexdigest\u001b[49m\u001b[43m(\u001b[49m\u001b[43m)\u001b[49m\u001b[43m)\u001b[49m\n",
      "File \u001b[0;32m~/work/pega-datascientist-tools/pega-datascientist-tools/python/docs/source/articles/../../../pdstools/utils/hds_utils.py:512\u001b[0m, in \u001b[0;36mDataAnonymization.process\u001b[0;34m(self, strategy, **kwargs)\u001b[0m\n\u001b[1;32m    510\u001b[0m df \u001b[38;5;241m=\u001b[39m df\u001b[38;5;241m.\u001b[39mselect(\u001b[38;5;28mself\u001b[39m\u001b[38;5;241m.\u001b[39mcolumn_mapping\u001b[38;5;241m.\u001b[39mkeys())\u001b[38;5;241m.\u001b[39mrename(\u001b[38;5;28mself\u001b[39m\u001b[38;5;241m.\u001b[39mcolumn_mapping)\n\u001b[1;32m    511\u001b[0m \u001b[38;5;28;01mif\u001b[39;00m strategy \u001b[38;5;241m==\u001b[39m \u001b[38;5;124m\"\u001b[39m\u001b[38;5;124meager\u001b[39m\u001b[38;5;124m\"\u001b[39m:\n\u001b[0;32m--> 512\u001b[0m     \u001b[38;5;28;01mreturn\u001b[39;00m \u001b[43mdf\u001b[49m\u001b[38;5;241;43m.\u001b[39;49m\u001b[43mcollect\u001b[49m\u001b[43m(\u001b[49m\u001b[43m)\u001b[49m\n\u001b[1;32m    513\u001b[0m \u001b[38;5;28;01mreturn\u001b[39;00m df\n",
      "File \u001b[0;32m/opt/hostedtoolcache/Python/3.11.9/x64/lib/python3.11/site-packages/polars/lazyframe/frame.py:1816\u001b[0m, in \u001b[0;36mLazyFrame.collect\u001b[0;34m(self, type_coercion, predicate_pushdown, projection_pushdown, simplify_expression, slice_pushdown, comm_subplan_elim, comm_subexpr_elim, no_optimization, streaming, background, _eager, **_kwargs)\u001b[0m\n\u001b[1;32m   1813\u001b[0m \u001b[38;5;66;03m# Only for testing purposes atm.\u001b[39;00m\n\u001b[1;32m   1814\u001b[0m callback \u001b[38;5;241m=\u001b[39m _kwargs\u001b[38;5;241m.\u001b[39mget(\u001b[38;5;124m\"\u001b[39m\u001b[38;5;124mpost_opt_callback\u001b[39m\u001b[38;5;124m\"\u001b[39m)\n\u001b[0;32m-> 1816\u001b[0m \u001b[38;5;28;01mreturn\u001b[39;00m wrap_df(\u001b[43mldf\u001b[49m\u001b[38;5;241;43m.\u001b[39;49m\u001b[43mcollect\u001b[49m\u001b[43m(\u001b[49m\u001b[43mcallback\u001b[49m\u001b[43m)\u001b[49m)\n",
      "\u001b[0;31mComputeError\u001b[0m: AttributeError: 'int' object has no attribute 'encode'"
     ]
    }
   ],
   "source": [
    "from hashlib import sha3_256\n",
    "\n",
    "anon.process(algorithm=lambda x: sha3_256(x.encode()).hexdigest())"
   ]
  }
 ],
 "metadata": {
  "kernelspec": {
   "display_name": "Python 3",
   "language": "python",
   "name": "python3"
  },
  "language_info": {
   "codemirror_mode": {
    "name": "ipython",
    "version": 3
   },
   "file_extension": ".py",
   "mimetype": "text/x-python",
   "name": "python",
   "nbconvert_exporter": "python",
   "pygments_lexer": "ipython3",
   "version": "3.11.9"
  },
  "vscode": {
   "interpreter": {
    "hash": "aee8b7b246df8f9039afb4144a1f6fd8d2ca17a180786b69acc140d282b71a49"
   }
  }
 },
 "nbformat": 4,
 "nbformat_minor": 2
}
