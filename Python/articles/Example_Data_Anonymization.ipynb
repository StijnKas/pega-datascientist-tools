{
 "cells": [
  {
   "attachments": {},
   "cell_type": "markdown",
   "metadata": {},
   "source": [
    "# Data Anonymization\n",
    "\n",
    "In Pega CDH 8.5 and up, it's now possible to record the historical data as seen by the Adaptive Models. See [this academy challenge](https://academy.pega.com/challenge/exporting-historical-data/v4) for reference. This historical data can be further used to experiment with offline models, but also to fine-tune the OOTB Gradient Boosting model. However, sharing this information with Pega can be sensitive as it contains raw predictor data. \n",
    "\n",
    "To this end, we provide a simple and transparent script to fully anonimize this dataset.\n",
    "\n",
    "The DataAnonymization script is now part of pdstools, and you can import it directly as such."
   ]
  },
  {
   "cell_type": "code",
   "execution_count": 1,
   "metadata": {
    "execution": {
     "iopub.execute_input": "2024-03-06T15:26:52.450249Z",
     "iopub.status.busy": "2024-03-06T15:26:52.449813Z",
     "iopub.status.idle": "2024-03-06T15:26:52.524921Z",
     "shell.execute_reply": "2024-03-06T15:26:52.524318Z"
    },
    "nbsphinx": "hidden"
   },
   "outputs": [],
   "source": [
    "# These lines are only for rendering in the docs, and are hidden through Jupyter tags\n",
    "# Do not run if you're running the notebook seperately\n",
    "\n",
    "import os  \n",
    "import sys\n",
    "import plotly.io as pio\n",
    "pio.renderers.default = \"notebook_connected\"\n",
    "\n",
    "sys.path.append(\"../../../\")\n",
    "sys.path.append('../../python')"
   ]
  },
  {
   "cell_type": "code",
   "execution_count": 2,
   "metadata": {
    "execution": {
     "iopub.execute_input": "2024-03-06T15:26:52.527628Z",
     "iopub.status.busy": "2024-03-06T15:26:52.527276Z",
     "iopub.status.idle": "2024-03-06T15:26:53.565860Z",
     "shell.execute_reply": "2024-03-06T15:26:53.565363Z"
    }
   },
   "outputs": [],
   "source": [
    "from pdstools import ADMDatamart\n",
    "from pdstools import Config, DataAnonymization\n",
    "import polars as pl"
   ]
  },
  {
   "attachments": {},
   "cell_type": "markdown",
   "metadata": {},
   "source": [
    "## Input data\n",
    "\n",
    "To demonstrate this process, we're going to anonymise this toy example dataframe:"
   ]
  },
  {
   "cell_type": "code",
   "execution_count": 3,
   "metadata": {
    "execution": {
     "iopub.execute_input": "2024-03-06T15:26:53.568377Z",
     "iopub.status.busy": "2024-03-06T15:26:53.567936Z",
     "iopub.status.idle": "2024-03-06T15:26:53.576850Z",
     "shell.execute_reply": "2024-03-06T15:26:53.576347Z"
    }
   },
   "outputs": [
    {
     "data": {
      "text/html": [
       "<div><style>\n",
       ".dataframe > thead > tr,\n",
       ".dataframe > tbody > tr {\n",
       "  text-align: right;\n",
       "  white-space: pre-wrap;\n",
       "}\n",
       "</style>\n",
       "<small>shape: (7, 6)</small><table border=\"1\" class=\"dataframe\"><thead><tr><th>Context_Name</th><th>Customer_MaritalStatus</th><th>Customer_CLV</th><th>Customer_City</th><th>IH_Web_Inbound_Accepted_pxLastGroupID</th><th>Decision_Outcome</th></tr><tr><td>str</td><td>str</td><td>i64</td><td>str</td><td>str</td><td>str</td></tr></thead><tbody><tr><td>&quot;FirstMortgage3…</td><td>&quot;Married&quot;</td><td>1460</td><td>&quot;Port Raoul&quot;</td><td>&quot;Account&quot;</td><td>&quot;Rejected&quot;</td></tr><tr><td>&quot;FirstMortgage3…</td><td>&quot;Unknown&quot;</td><td>669</td><td>&quot;Laurianneshire…</td><td>&quot;AutoLoans&quot;</td><td>&quot;Accepted&quot;</td></tr><tr><td>&quot;MoneyMarketSav…</td><td>&quot;No Resp+&quot;</td><td>1174</td><td>&quot;Jacobshaven&quot;</td><td>&quot;Account&quot;</td><td>&quot;Rejected&quot;</td></tr><tr><td>&quot;BasicChecking&quot;</td><td>&quot;Unknown&quot;</td><td>1476</td><td>&quot;Lindton&quot;</td><td>&quot;Account&quot;</td><td>&quot;Rejected&quot;</td></tr><tr><td>&quot;BasicChecking&quot;</td><td>&quot;Married&quot;</td><td>1211</td><td>&quot;South Jimmiesh…</td><td>&quot;DepositAccount…</td><td>&quot;Accepted&quot;</td></tr><tr><td>&quot;UPlusFinPerson…</td><td>&quot;No Resp+&quot;</td><td>533</td><td>&quot;Bergeville&quot;</td><td>null</td><td>&quot;Rejected&quot;</td></tr><tr><td>&quot;BasicChecking&quot;</td><td>&quot;No Resp+&quot;</td><td>555</td><td>&quot;Willyville&quot;</td><td>&quot;DepositAccount…</td><td>&quot;Rejected&quot;</td></tr></tbody></table></div>"
      ],
      "text/plain": [
       "shape: (7, 6)\n",
       "┌────────────────┬────────────────┬──────────────┬────────────────┬────────────────┬───────────────┐\n",
       "│ Context_Name   ┆ Customer_Marit ┆ Customer_CLV ┆ Customer_City  ┆ IH_Web_Inbound ┆ Decision_Outc │\n",
       "│ ---            ┆ alStatus       ┆ ---          ┆ ---            ┆ _Accepted_pxLa ┆ ome           │\n",
       "│ str            ┆ ---            ┆ i64          ┆ str            ┆ stGr…          ┆ ---           │\n",
       "│                ┆ str            ┆              ┆                ┆ ---            ┆ str           │\n",
       "│                ┆                ┆              ┆                ┆ str            ┆               │\n",
       "╞════════════════╪════════════════╪══════════════╪════════════════╪════════════════╪═══════════════╡\n",
       "│ FirstMortgage3 ┆ Married        ┆ 1460         ┆ Port Raoul     ┆ Account        ┆ Rejected      │\n",
       "│ 0yr            ┆                ┆              ┆                ┆                ┆               │\n",
       "│ FirstMortgage3 ┆ Unknown        ┆ 669          ┆ Laurianneshire ┆ AutoLoans      ┆ Accepted      │\n",
       "│ 0yr            ┆                ┆              ┆                ┆                ┆               │\n",
       "│ MoneyMarketSav ┆ No Resp+       ┆ 1174         ┆ Jacobshaven    ┆ Account        ┆ Rejected      │\n",
       "│ ingsAccount    ┆                ┆              ┆                ┆                ┆               │\n",
       "│ BasicChecking  ┆ Unknown        ┆ 1476         ┆ Lindton        ┆ Account        ┆ Rejected      │\n",
       "│ BasicChecking  ┆ Married        ┆ 1211         ┆ South          ┆ DepositAccount ┆ Accepted      │\n",
       "│                ┆                ┆              ┆ Jimmieshire    ┆ s              ┆               │\n",
       "│ UPlusFinPerson ┆ No Resp+       ┆ 533          ┆ Bergeville     ┆ null           ┆ Rejected      │\n",
       "│ al             ┆                ┆              ┆                ┆                ┆               │\n",
       "│ BasicChecking  ┆ No Resp+       ┆ 555          ┆ Willyville     ┆ DepositAccount ┆ Rejected      │\n",
       "│                ┆                ┆              ┆                ┆ s              ┆               │\n",
       "└────────────────┴────────────────┴──────────────┴────────────────┴────────────────┴───────────────┘"
      ]
     },
     "execution_count": 3,
     "metadata": {},
     "output_type": "execute_result"
    }
   ],
   "source": [
    "pl.read_ndjson('../../../../data/SampleHDS.json')"
   ]
  },
  {
   "attachments": {},
   "cell_type": "markdown",
   "metadata": {},
   "source": [
    "As you can see, this dataset consists of regular predictors, IH predictors, context keys and the outcome column. Additionally, some columns are numeric, others are strings. Let's first initialize the DataAnonymization class."
   ]
  },
  {
   "cell_type": "code",
   "execution_count": 4,
   "metadata": {
    "execution": {
     "iopub.execute_input": "2024-03-06T15:26:53.579310Z",
     "iopub.status.busy": "2024-03-06T15:26:53.578961Z",
     "iopub.status.idle": "2024-03-06T15:26:53.585368Z",
     "shell.execute_reply": "2024-03-06T15:26:53.584950Z"
    }
   },
   "outputs": [],
   "source": [
    "anon = DataAnonymization(hds_folder='../../../../data/')"
   ]
  },
  {
   "attachments": {},
   "cell_type": "markdown",
   "metadata": {},
   "source": [
    "By default, the class applies a set of anonymisation techniques:\n",
    "- Column names are remapped to a non-descriptive name\n",
    "- Categorical values are hashed with a random seed\n",
    "- Numerical values are normalized between 0 and 1\n",
    "- Outcomes are mapped to a binary outcome.\n",
    "\n",
    "To apply these techniques, simply call `.process()`:"
   ]
  },
  {
   "cell_type": "code",
   "execution_count": 5,
   "metadata": {
    "execution": {
     "iopub.execute_input": "2024-03-06T15:26:53.587472Z",
     "iopub.status.busy": "2024-03-06T15:26:53.587146Z",
     "iopub.status.idle": "2024-03-06T15:26:53.592587Z",
     "shell.execute_reply": "2024-03-06T15:26:53.592070Z"
    }
   },
   "outputs": [
    {
     "data": {
      "text/html": [
       "<div><style>\n",
       ".dataframe > thead > tr,\n",
       ".dataframe > tbody > tr {\n",
       "  text-align: right;\n",
       "  white-space: pre-wrap;\n",
       "}\n",
       "</style>\n",
       "<small>shape: (7, 7)</small><table border=\"1\" class=\"dataframe\"><thead><tr><th>filename</th><th>PREDICTOR_1</th><th>PREDICTOR_2</th><th>PREDICTOR_3</th><th>Context_Name</th><th>IH_PREDICTOR_0</th><th>Decision_Outcome</th></tr><tr><td>str</td><td>f64</td><td>str</td><td>str</td><td>str</td><td>str</td><td>bool</td></tr></thead><tbody><tr><td>&quot;../../../../da…</td><td>0.983033</td><td>&quot;84488899730106…</td><td>&quot;15403709084833…</td><td>&quot;16213955297970…</td><td>&quot;75129883939917…</td><td>false</td></tr><tr><td>&quot;../../../../da…</td><td>0.144221</td><td>&quot;16738404728860…</td><td>&quot;15035238798132…</td><td>&quot;16213955297970…</td><td>&quot;14170067642315…</td><td>true</td></tr><tr><td>&quot;../../../../da…</td><td>0.679745</td><td>&quot;17235298700813…</td><td>&quot;28235007362858…</td><td>&quot;35286693972771…</td><td>&quot;75129883939917…</td><td>false</td></tr><tr><td>&quot;../../../../da…</td><td>1.0</td><td>&quot;16781042313839…</td><td>&quot;15035238798132…</td><td>&quot;13401532865605…</td><td>&quot;75129883939917…</td><td>false</td></tr><tr><td>&quot;../../../../da…</td><td>0.718982</td><td>&quot;16934794238391…</td><td>&quot;15403709084833…</td><td>&quot;13401532865605…</td><td>&quot;96357049266983…</td><td>true</td></tr><tr><td>&quot;../../../../da…</td><td>0.0</td><td>&quot;49326568206307…</td><td>&quot;28235007362858…</td><td>&quot;92695101123115…</td><td>null</td><td>false</td></tr><tr><td>&quot;../../../../da…</td><td>0.02333</td><td>&quot;55874148604335…</td><td>&quot;28235007362858…</td><td>&quot;13401532865605…</td><td>&quot;96357049266983…</td><td>false</td></tr></tbody></table></div>"
      ],
      "text/plain": [
       "shape: (7, 7)\n",
       "┌──────────────┬─────────────┬─────────────┬─────────────┬─────────────┬─────────────┬─────────────┐\n",
       "│ filename     ┆ PREDICTOR_1 ┆ PREDICTOR_2 ┆ PREDICTOR_3 ┆ Context_Nam ┆ IH_PREDICTO ┆ Decision_Ou │\n",
       "│ ---          ┆ ---         ┆ ---         ┆ ---         ┆ e           ┆ R_0         ┆ tcome       │\n",
       "│ str          ┆ f64         ┆ str         ┆ str         ┆ ---         ┆ ---         ┆ ---         │\n",
       "│              ┆             ┆             ┆             ┆ str         ┆ str         ┆ bool        │\n",
       "╞══════════════╪═════════════╪═════════════╪═════════════╪═════════════╪═════════════╪═════════════╡\n",
       "│ ../../../../ ┆ 0.983033    ┆ 84488899730 ┆ 15403709084 ┆ 16213955297 ┆ 75129883939 ┆ false       │\n",
       "│ data/SampleH ┆             ┆ 1064388     ┆ 833648679   ┆ 970542068   ┆ 91737345    ┆             │\n",
       "│ DS.json      ┆             ┆             ┆             ┆             ┆             ┆             │\n",
       "│ ../../../../ ┆ 0.144221    ┆ 16738404728 ┆ 15035238798 ┆ 16213955297 ┆ 14170067642 ┆ true        │\n",
       "│ data/SampleH ┆             ┆ 860585648   ┆ 132283622   ┆ 970542068   ┆ 315891606   ┆             │\n",
       "│ DS.json      ┆             ┆             ┆             ┆             ┆             ┆             │\n",
       "│ ../../../../ ┆ 0.679745    ┆ 17235298700 ┆ 28235007362 ┆ 35286693972 ┆ 75129883939 ┆ false       │\n",
       "│ data/SampleH ┆             ┆ 813204822   ┆ 85807120    ┆ 77101521    ┆ 91737345    ┆             │\n",
       "│ DS.json      ┆             ┆             ┆             ┆             ┆             ┆             │\n",
       "│ ../../../../ ┆ 1.0         ┆ 16781042313 ┆ 15035238798 ┆ 13401532865 ┆ 75129883939 ┆ false       │\n",
       "│ data/SampleH ┆             ┆ 839314269   ┆ 132283622   ┆ 605910160   ┆ 91737345    ┆             │\n",
       "│ DS.json      ┆             ┆             ┆             ┆             ┆             ┆             │\n",
       "│ ../../../../ ┆ 0.718982    ┆ 16934794238 ┆ 15403709084 ┆ 13401532865 ┆ 96357049266 ┆ true        │\n",
       "│ data/SampleH ┆             ┆ 391044747   ┆ 833648679   ┆ 605910160   ┆ 98335502    ┆             │\n",
       "│ DS.json      ┆             ┆             ┆             ┆             ┆             ┆             │\n",
       "│ ../../../../ ┆ 0.0         ┆ 49326568206 ┆ 28235007362 ┆ 92695101123 ┆ null        ┆ false       │\n",
       "│ data/SampleH ┆             ┆ 30765370    ┆ 85807120    ┆ 11569912    ┆             ┆             │\n",
       "│ DS.json      ┆             ┆             ┆             ┆             ┆             ┆             │\n",
       "│ ../../../../ ┆ 0.02333     ┆ 55874148604 ┆ 28235007362 ┆ 13401532865 ┆ 96357049266 ┆ false       │\n",
       "│ data/SampleH ┆             ┆ 33594189    ┆ 85807120    ┆ 605910160   ┆ 98335502    ┆             │\n",
       "│ DS.json      ┆             ┆             ┆             ┆             ┆             ┆             │\n",
       "└──────────────┴─────────────┴─────────────┴─────────────┴─────────────┴─────────────┴─────────────┘"
      ]
     },
     "execution_count": 5,
     "metadata": {},
     "output_type": "execute_result"
    }
   ],
   "source": [
    "anon.process()"
   ]
  },
  {
   "attachments": {},
   "cell_type": "markdown",
   "metadata": {},
   "source": [
    "To trace back the columns to their original names, the class also contains a mapping, which does not have to be provided."
   ]
  },
  {
   "cell_type": "code",
   "execution_count": 6,
   "metadata": {
    "execution": {
     "iopub.execute_input": "2024-03-06T15:26:53.594629Z",
     "iopub.status.busy": "2024-03-06T15:26:53.594311Z",
     "iopub.status.idle": "2024-03-06T15:26:53.598014Z",
     "shell.execute_reply": "2024-03-06T15:26:53.597510Z"
    }
   },
   "outputs": [
    {
     "data": {
      "text/plain": [
       "{'filename': 'filename',\n",
       " 'Customer_CLV': 'PREDICTOR_1',\n",
       " 'Customer_City': 'PREDICTOR_2',\n",
       " 'Customer_MaritalStatus': 'PREDICTOR_3',\n",
       " 'Context_Name': 'Context_Name',\n",
       " 'IH_Web_Inbound_Accepted_pxLastGroupID': 'IH_PREDICTOR_0',\n",
       " 'Decision_Outcome': 'Decision_Outcome'}"
      ]
     },
     "execution_count": 6,
     "metadata": {},
     "output_type": "execute_result"
    }
   ],
   "source": [
    "anon.column_mapping"
   ]
  },
  {
   "attachments": {},
   "cell_type": "markdown",
   "metadata": {},
   "source": [
    "## Configs\n",
    "\n",
    "Each capability can optionally be turned off - see below for the full list of config options, and refer to the API reference for the full description."
   ]
  },
  {
   "cell_type": "code",
   "execution_count": 7,
   "metadata": {
    "execution": {
     "iopub.execute_input": "2024-03-06T15:26:53.600030Z",
     "iopub.status.busy": "2024-03-06T15:26:53.599736Z",
     "iopub.status.idle": "2024-03-06T15:26:53.603668Z",
     "shell.execute_reply": "2024-03-06T15:26:53.603162Z"
    }
   },
   "outputs": [
    {
     "data": {
      "text/plain": [
       "{'config_file': None,\n",
       " 'hds_folder': '.',\n",
       " 'use_datamart': False,\n",
       " 'datamart_folder': 'datamart',\n",
       " 'output_format': 'ndjson',\n",
       " 'output_folder': 'output',\n",
       " 'mapping_file': 'mapping.map',\n",
       " 'mask_predictor_names': True,\n",
       " 'mask_context_key_names': False,\n",
       " 'mask_ih_names': True,\n",
       " 'mask_outcome_name': False,\n",
       " 'mask_predictor_values': True,\n",
       " 'mask_context_key_values': True,\n",
       " 'mask_ih_values': True,\n",
       " 'mask_outcome_values': True,\n",
       " 'context_key_label': 'Context_*',\n",
       " 'ih_label': 'IH_*',\n",
       " 'outcome_column': 'Decision_Outcome',\n",
       " 'positive_outcomes': ['Accepted', 'Clicked'],\n",
       " 'negative_outcomes': ['Rejected', 'Impression'],\n",
       " 'special_predictors': ['Decision_DecisionTime',\n",
       "  'Decision_OutcomeTime',\n",
       "  'Decision_Rank'],\n",
       " 'sample_percentage_schema_inferencing': 0.01}"
      ]
     },
     "execution_count": 7,
     "metadata": {},
     "output_type": "execute_result"
    }
   ],
   "source": [
    "dict(zip(Config.__init__.__code__.co_varnames[1:], Config.__init__.__defaults__))"
   ]
  },
  {
   "attachments": {},
   "cell_type": "markdown",
   "metadata": {},
   "source": [
    "It's easy to change these parameters by just passing the keyword arguments. In the following example, we\n",
    "- Keep the IH predictor names\n",
    "- Keep the outcome values\n",
    "- Keep the context key values\n",
    "- Keep the context key predictor names"
   ]
  },
  {
   "cell_type": "code",
   "execution_count": 8,
   "metadata": {
    "execution": {
     "iopub.execute_input": "2024-03-06T15:26:53.605622Z",
     "iopub.status.busy": "2024-03-06T15:26:53.605319Z",
     "iopub.status.idle": "2024-03-06T15:26:53.613010Z",
     "shell.execute_reply": "2024-03-06T15:26:53.612501Z"
    }
   },
   "outputs": [
    {
     "data": {
      "text/html": [
       "<div><style>\n",
       ".dataframe > thead > tr,\n",
       ".dataframe > tbody > tr {\n",
       "  text-align: right;\n",
       "  white-space: pre-wrap;\n",
       "}\n",
       "</style>\n",
       "<small>shape: (7, 7)</small><table border=\"1\" class=\"dataframe\"><thead><tr><th>filename</th><th>PREDICTOR_1</th><th>PREDICTOR_2</th><th>PREDICTOR_3</th><th>Context_Name</th><th>IH_Web_Inbound_Accepted_pxLastGroupID</th><th>Decision_Outcome</th></tr><tr><td>str</td><td>f64</td><td>str</td><td>str</td><td>str</td><td>str</td><td>str</td></tr></thead><tbody><tr><td>&quot;../../../../da…</td><td>0.983033</td><td>&quot;86637905523248…</td><td>&quot;14504443648784…</td><td>&quot;FirstMortgage3…</td><td>&quot;12963358137711…</td><td>&quot;Rejected&quot;</td></tr><tr><td>&quot;../../../../da…</td><td>0.144221</td><td>&quot;18085710732903…</td><td>&quot;11428482888644…</td><td>&quot;FirstMortgage3…</td><td>&quot;48838957026443…</td><td>&quot;Accepted&quot;</td></tr><tr><td>&quot;../../../../da…</td><td>0.679745</td><td>&quot;16741786131439…</td><td>&quot;82964748011493…</td><td>&quot;MoneyMarketSav…</td><td>&quot;12963358137711…</td><td>&quot;Rejected&quot;</td></tr><tr><td>&quot;../../../../da…</td><td>1.0</td><td>&quot;41817579706788…</td><td>&quot;11428482888644…</td><td>&quot;BasicChecking&quot;</td><td>&quot;12963358137711…</td><td>&quot;Rejected&quot;</td></tr><tr><td>&quot;../../../../da…</td><td>0.718982</td><td>&quot;38627314990843…</td><td>&quot;14504443648784…</td><td>&quot;BasicChecking&quot;</td><td>&quot;27529608056715…</td><td>&quot;Accepted&quot;</td></tr><tr><td>&quot;../../../../da…</td><td>0.0</td><td>&quot;58860461245134…</td><td>&quot;82964748011493…</td><td>&quot;UPlusFinPerson…</td><td>null</td><td>&quot;Rejected&quot;</td></tr><tr><td>&quot;../../../../da…</td><td>0.02333</td><td>&quot;67919365267249…</td><td>&quot;82964748011493…</td><td>&quot;BasicChecking&quot;</td><td>&quot;27529608056715…</td><td>&quot;Rejected&quot;</td></tr></tbody></table></div>"
      ],
      "text/plain": [
       "shape: (7, 7)\n",
       "┌──────────────┬─────────────┬─────────────┬─────────────┬─────────────┬─────────────┬─────────────┐\n",
       "│ filename     ┆ PREDICTOR_1 ┆ PREDICTOR_2 ┆ PREDICTOR_3 ┆ Context_Nam ┆ IH_Web_Inbo ┆ Decision_Ou │\n",
       "│ ---          ┆ ---         ┆ ---         ┆ ---         ┆ e           ┆ und_Accepte ┆ tcome       │\n",
       "│ str          ┆ f64         ┆ str         ┆ str         ┆ ---         ┆ d_pxLastGr… ┆ ---         │\n",
       "│              ┆             ┆             ┆             ┆ str         ┆ ---         ┆ str         │\n",
       "│              ┆             ┆             ┆             ┆             ┆ str         ┆             │\n",
       "╞══════════════╪═════════════╪═════════════╪═════════════╪═════════════╪═════════════╪═════════════╡\n",
       "│ ../../../../ ┆ 0.983033    ┆ 86637905523 ┆ 14504443648 ┆ FirstMortga ┆ 12963358137 ┆ Rejected    │\n",
       "│ data/SampleH ┆             ┆ 24805429    ┆ 784087915   ┆ ge30yr      ┆ 711438935   ┆             │\n",
       "│ DS.json      ┆             ┆             ┆             ┆             ┆             ┆             │\n",
       "│ ../../../../ ┆ 0.144221    ┆ 18085710732 ┆ 11428482888 ┆ FirstMortga ┆ 48838957026 ┆ Accepted    │\n",
       "│ data/SampleH ┆             ┆ 903456132   ┆ 644330548   ┆ ge30yr      ┆ 44372227    ┆             │\n",
       "│ DS.json      ┆             ┆             ┆             ┆             ┆             ┆             │\n",
       "│ ../../../../ ┆ 0.679745    ┆ 16741786131 ┆ 82964748011 ┆ MoneyMarket ┆ 12963358137 ┆ Rejected    │\n",
       "│ data/SampleH ┆             ┆ 439608654   ┆ 49316903    ┆ SavingsAcco ┆ 711438935   ┆             │\n",
       "│ DS.json      ┆             ┆             ┆             ┆ unt         ┆             ┆             │\n",
       "│ ../../../../ ┆ 1.0         ┆ 41817579706 ┆ 11428482888 ┆ BasicChecki ┆ 12963358137 ┆ Rejected    │\n",
       "│ data/SampleH ┆             ┆ 78810114    ┆ 644330548   ┆ ng          ┆ 711438935   ┆             │\n",
       "│ DS.json      ┆             ┆             ┆             ┆             ┆             ┆             │\n",
       "│ ../../../../ ┆ 0.718982    ┆ 38627314990 ┆ 14504443648 ┆ BasicChecki ┆ 27529608056 ┆ Accepted    │\n",
       "│ data/SampleH ┆             ┆ 84300628    ┆ 784087915   ┆ ng          ┆ 71553181    ┆             │\n",
       "│ DS.json      ┆             ┆             ┆             ┆             ┆             ┆             │\n",
       "│ ../../../../ ┆ 0.0         ┆ 58860461245 ┆ 82964748011 ┆ UPlusFinPer ┆ null        ┆ Rejected    │\n",
       "│ data/SampleH ┆             ┆ 13411320    ┆ 49316903    ┆ sonal       ┆             ┆             │\n",
       "│ DS.json      ┆             ┆             ┆             ┆             ┆             ┆             │\n",
       "│ ../../../../ ┆ 0.02333     ┆ 67919365267 ┆ 82964748011 ┆ BasicChecki ┆ 27529608056 ┆ Rejected    │\n",
       "│ data/SampleH ┆             ┆ 249143      ┆ 49316903    ┆ ng          ┆ 71553181    ┆             │\n",
       "│ DS.json      ┆             ┆             ┆             ┆             ┆             ┆             │\n",
       "└──────────────┴─────────────┴─────────────┴─────────────┴─────────────┴─────────────┴─────────────┘"
      ]
     },
     "execution_count": 8,
     "metadata": {},
     "output_type": "execute_result"
    }
   ],
   "source": [
    "anon = DataAnonymization(\n",
    "    hds_folder=\"../../../../data/\",\n",
    "    mask_ih_names=False,\n",
    "    mask_outcome_values=False,\n",
    "    mask_context_key_values=False,\n",
    "    mask_context_key_names=False,\n",
    ")\n",
    "anon.process()\n"
   ]
  },
  {
   "attachments": {},
   "cell_type": "markdown",
   "metadata": {},
   "source": [
    "The configs can also be written and read as such:"
   ]
  },
  {
   "cell_type": "code",
   "execution_count": 9,
   "metadata": {
    "execution": {
     "iopub.execute_input": "2024-03-06T15:26:53.615046Z",
     "iopub.status.busy": "2024-03-06T15:26:53.614731Z",
     "iopub.status.idle": "2024-03-06T15:26:53.617366Z",
     "shell.execute_reply": "2024-03-06T15:26:53.616957Z"
    }
   },
   "outputs": [],
   "source": [
    "anon.config.save_to_config_file('config.json')"
   ]
  },
  {
   "cell_type": "code",
   "execution_count": 10,
   "metadata": {
    "execution": {
     "iopub.execute_input": "2024-03-06T15:26:53.619253Z",
     "iopub.status.busy": "2024-03-06T15:26:53.618945Z",
     "iopub.status.idle": "2024-03-06T15:26:53.626795Z",
     "shell.execute_reply": "2024-03-06T15:26:53.626306Z"
    }
   },
   "outputs": [
    {
     "data": {
      "text/html": [
       "<div><style>\n",
       ".dataframe > thead > tr,\n",
       ".dataframe > tbody > tr {\n",
       "  text-align: right;\n",
       "  white-space: pre-wrap;\n",
       "}\n",
       "</style>\n",
       "<small>shape: (7, 7)</small><table border=\"1\" class=\"dataframe\"><thead><tr><th>filename</th><th>PREDICTOR_1</th><th>PREDICTOR_2</th><th>PREDICTOR_3</th><th>Context_Name</th><th>IH_Web_Inbound_Accepted_pxLastGroupID</th><th>Decision_Outcome</th></tr><tr><td>str</td><td>f64</td><td>str</td><td>str</td><td>str</td><td>str</td><td>str</td></tr></thead><tbody><tr><td>&quot;../../../../da…</td><td>0.983033</td><td>&quot;12651133628755…</td><td>&quot;45176458495062…</td><td>&quot;FirstMortgage3…</td><td>&quot;12659370993736…</td><td>&quot;Rejected&quot;</td></tr><tr><td>&quot;../../../../da…</td><td>0.144221</td><td>&quot;76878682585658…</td><td>&quot;51228893375897…</td><td>&quot;FirstMortgage3…</td><td>&quot;51213403744729…</td><td>&quot;Accepted&quot;</td></tr><tr><td>&quot;../../../../da…</td><td>0.679745</td><td>&quot;17069499925737…</td><td>&quot;37851203220612…</td><td>&quot;MoneyMarketSav…</td><td>&quot;12659370993736…</td><td>&quot;Rejected&quot;</td></tr><tr><td>&quot;../../../../da…</td><td>1.0</td><td>&quot;14443304822234…</td><td>&quot;51228893375897…</td><td>&quot;BasicChecking&quot;</td><td>&quot;12659370993736…</td><td>&quot;Rejected&quot;</td></tr><tr><td>&quot;../../../../da…</td><td>0.718982</td><td>&quot;14600805697688…</td><td>&quot;45176458495062…</td><td>&quot;BasicChecking&quot;</td><td>&quot;19325612373511…</td><td>&quot;Accepted&quot;</td></tr><tr><td>&quot;../../../../da…</td><td>0.0</td><td>&quot;17473884125598…</td><td>&quot;37851203220612…</td><td>&quot;UPlusFinPerson…</td><td>null</td><td>&quot;Rejected&quot;</td></tr><tr><td>&quot;../../../../da…</td><td>0.02333</td><td>&quot;16538267585347…</td><td>&quot;37851203220612…</td><td>&quot;BasicChecking&quot;</td><td>&quot;19325612373511…</td><td>&quot;Rejected&quot;</td></tr></tbody></table></div>"
      ],
      "text/plain": [
       "shape: (7, 7)\n",
       "┌──────────────┬─────────────┬─────────────┬─────────────┬─────────────┬─────────────┬─────────────┐\n",
       "│ filename     ┆ PREDICTOR_1 ┆ PREDICTOR_2 ┆ PREDICTOR_3 ┆ Context_Nam ┆ IH_Web_Inbo ┆ Decision_Ou │\n",
       "│ ---          ┆ ---         ┆ ---         ┆ ---         ┆ e           ┆ und_Accepte ┆ tcome       │\n",
       "│ str          ┆ f64         ┆ str         ┆ str         ┆ ---         ┆ d_pxLastGr… ┆ ---         │\n",
       "│              ┆             ┆             ┆             ┆ str         ┆ ---         ┆ str         │\n",
       "│              ┆             ┆             ┆             ┆             ┆ str         ┆             │\n",
       "╞══════════════╪═════════════╪═════════════╪═════════════╪═════════════╪═════════════╪═════════════╡\n",
       "│ ../../../../ ┆ 0.983033    ┆ 12651133628 ┆ 45176458495 ┆ FirstMortga ┆ 12659370993 ┆ Rejected    │\n",
       "│ data/SampleH ┆             ┆ 755301050   ┆ 06268643    ┆ ge30yr      ┆ 736963420   ┆             │\n",
       "│ DS.json      ┆             ┆             ┆             ┆             ┆             ┆             │\n",
       "│ ../../../../ ┆ 0.144221    ┆ 76878682585 ┆ 51228893375 ┆ FirstMortga ┆ 51213403744 ┆ Accepted    │\n",
       "│ data/SampleH ┆             ┆ 65825003    ┆ 89766035    ┆ ge30yr      ┆ 72996224    ┆             │\n",
       "│ DS.json      ┆             ┆             ┆             ┆             ┆             ┆             │\n",
       "│ ../../../../ ┆ 0.679745    ┆ 17069499925 ┆ 37851203220 ┆ MoneyMarket ┆ 12659370993 ┆ Rejected    │\n",
       "│ data/SampleH ┆             ┆ 737588370   ┆ 61209008    ┆ SavingsAcco ┆ 736963420   ┆             │\n",
       "│ DS.json      ┆             ┆             ┆             ┆ unt         ┆             ┆             │\n",
       "│ ../../../../ ┆ 1.0         ┆ 14443304822 ┆ 51228893375 ┆ BasicChecki ┆ 12659370993 ┆ Rejected    │\n",
       "│ data/SampleH ┆             ┆ 234752412   ┆ 89766035    ┆ ng          ┆ 736963420   ┆             │\n",
       "│ DS.json      ┆             ┆             ┆             ┆             ┆             ┆             │\n",
       "│ ../../../../ ┆ 0.718982    ┆ 14600805697 ┆ 45176458495 ┆ BasicChecki ┆ 19325612373 ┆ Accepted    │\n",
       "│ data/SampleH ┆             ┆ 688347644   ┆ 06268643    ┆ ng          ┆ 51146575    ┆             │\n",
       "│ DS.json      ┆             ┆             ┆             ┆             ┆             ┆             │\n",
       "│ ../../../../ ┆ 0.0         ┆ 17473884125 ┆ 37851203220 ┆ UPlusFinPer ┆ null        ┆ Rejected    │\n",
       "│ data/SampleH ┆             ┆ 598749818   ┆ 61209008    ┆ sonal       ┆             ┆             │\n",
       "│ DS.json      ┆             ┆             ┆             ┆             ┆             ┆             │\n",
       "│ ../../../../ ┆ 0.02333     ┆ 16538267585 ┆ 37851203220 ┆ BasicChecki ┆ 19325612373 ┆ Rejected    │\n",
       "│ data/SampleH ┆             ┆ 347668326   ┆ 61209008    ┆ ng          ┆ 51146575    ┆             │\n",
       "│ DS.json      ┆             ┆             ┆             ┆             ┆             ┆             │\n",
       "└──────────────┴─────────────┴─────────────┴─────────────┴─────────────┴─────────────┴─────────────┘"
      ]
     },
     "execution_count": 10,
     "metadata": {},
     "output_type": "execute_result"
    }
   ],
   "source": [
    "anon = DataAnonymization(config=Config(config_file='config.json'))\n",
    "anon.process()"
   ]
  },
  {
   "attachments": {},
   "cell_type": "markdown",
   "metadata": {},
   "source": [
    "## Exporting\n",
    "Two functions export:\n",
    "- `create_mapping_file()` writes the mapping file of the predictor names\n",
    "- `write_to_output()` writes the processed dataframe to disk\n",
    "\n",
    "Write to output accepts the following extensions: `[\"ndjson\", \"parquet\", \"arrow\", \"csv\"]`"
   ]
  },
  {
   "cell_type": "code",
   "execution_count": 11,
   "metadata": {
    "execution": {
     "iopub.execute_input": "2024-03-06T15:26:53.628743Z",
     "iopub.status.busy": "2024-03-06T15:26:53.628473Z",
     "iopub.status.idle": "2024-03-06T15:26:53.632085Z",
     "shell.execute_reply": "2024-03-06T15:26:53.631666Z"
    }
   },
   "outputs": [
    {
     "name": "stdout",
     "output_type": "stream",
     "text": [
      "filename=filename\n",
      "Customer_CLV=PREDICTOR_1\n",
      "Customer_City=PREDICTOR_2\n",
      "Customer_MaritalStatus=PREDICTOR_3\n",
      "Context_Name=Context_Name\n",
      "IH_Web_Inbound_Accepted_pxLastGroupID=IH_Web_Inbound_Accepted_pxLastGroupID\n",
      "Decision_Outcome=Decision_Outcome\n",
      "\n"
     ]
    }
   ],
   "source": [
    "anon.create_mapping_file()\n",
    "with open('mapping.map') as f:\n",
    "    print(f.read())"
   ]
  },
  {
   "cell_type": "code",
   "execution_count": 12,
   "metadata": {
    "execution": {
     "iopub.execute_input": "2024-03-06T15:26:53.633979Z",
     "iopub.status.busy": "2024-03-06T15:26:53.633728Z",
     "iopub.status.idle": "2024-03-06T15:26:53.637147Z",
     "shell.execute_reply": "2024-03-06T15:26:53.636738Z"
    }
   },
   "outputs": [],
   "source": [
    "anon.write_to_output(ext='arrow')"
   ]
  },
  {
   "cell_type": "code",
   "execution_count": 13,
   "metadata": {
    "execution": {
     "iopub.execute_input": "2024-03-06T15:26:53.639024Z",
     "iopub.status.busy": "2024-03-06T15:26:53.638763Z",
     "iopub.status.idle": "2024-03-06T15:26:53.643287Z",
     "shell.execute_reply": "2024-03-06T15:26:53.642722Z"
    }
   },
   "outputs": [
    {
     "data": {
      "text/html": [
       "<div><style>\n",
       ".dataframe > thead > tr,\n",
       ".dataframe > tbody > tr {\n",
       "  text-align: right;\n",
       "  white-space: pre-wrap;\n",
       "}\n",
       "</style>\n",
       "<small>shape: (7, 6)</small><table border=\"1\" class=\"dataframe\"><thead><tr><th>PREDICTOR_1</th><th>PREDICTOR_2</th><th>PREDICTOR_3</th><th>Context_Name</th><th>IH_Web_Inbound_Accepted_pxLastGroupID</th><th>Decision_Outcome</th></tr><tr><td>f64</td><td>str</td><td>str</td><td>str</td><td>str</td><td>str</td></tr></thead><tbody><tr><td>0.983033</td><td>&quot;14384407981425…</td><td>&quot;85772107202178…</td><td>&quot;FirstMortgage3…</td><td>&quot;84937232671467…</td><td>&quot;Rejected&quot;</td></tr><tr><td>0.144221</td><td>&quot;44567362412308…</td><td>&quot;17308166830456…</td><td>&quot;FirstMortgage3…</td><td>&quot;76458015161407…</td><td>&quot;Accepted&quot;</td></tr><tr><td>0.679745</td><td>&quot;82079698818724…</td><td>&quot;17248607605095…</td><td>&quot;MoneyMarketSav…</td><td>&quot;84937232671467…</td><td>&quot;Rejected&quot;</td></tr><tr><td>1.0</td><td>&quot;45075160691482…</td><td>&quot;17308166830456…</td><td>&quot;BasicChecking&quot;</td><td>&quot;84937232671467…</td><td>&quot;Rejected&quot;</td></tr><tr><td>0.718982</td><td>&quot;12013953044440…</td><td>&quot;85772107202178…</td><td>&quot;BasicChecking&quot;</td><td>&quot;77734984076201…</td><td>&quot;Accepted&quot;</td></tr><tr><td>0.0</td><td>&quot;82701408024061…</td><td>&quot;17248607605095…</td><td>&quot;UPlusFinPerson…</td><td>null</td><td>&quot;Rejected&quot;</td></tr><tr><td>0.02333</td><td>&quot;15948992459756…</td><td>&quot;17248607605095…</td><td>&quot;BasicChecking&quot;</td><td>&quot;77734984076201…</td><td>&quot;Rejected&quot;</td></tr></tbody></table></div>"
      ],
      "text/plain": [
       "shape: (7, 6)\n",
       "┌─────────────┬────────────────┬────────────────┬────────────────┬────────────────┬────────────────┐\n",
       "│ PREDICTOR_1 ┆ PREDICTOR_2    ┆ PREDICTOR_3    ┆ Context_Name   ┆ IH_Web_Inbound ┆ Decision_Outco │\n",
       "│ ---         ┆ ---            ┆ ---            ┆ ---            ┆ _Accepted_pxLa ┆ me             │\n",
       "│ f64         ┆ str            ┆ str            ┆ str            ┆ stGr…          ┆ ---            │\n",
       "│             ┆                ┆                ┆                ┆ ---            ┆ str            │\n",
       "│             ┆                ┆                ┆                ┆ str            ┆                │\n",
       "╞═════════════╪════════════════╪════════════════╪════════════════╪════════════════╪════════════════╡\n",
       "│ 0.983033    ┆ 14384407981425 ┆ 85772107202178 ┆ FirstMortgage3 ┆ 84937232671467 ┆ Rejected       │\n",
       "│             ┆ 928679         ┆ 72734          ┆ 0yr            ┆ 5313           ┆                │\n",
       "│ 0.144221    ┆ 44567362412308 ┆ 17308166830456 ┆ FirstMortgage3 ┆ 76458015161407 ┆ Accepted       │\n",
       "│             ┆ 7945           ┆ 935403         ┆ 0yr            ┆ 00927          ┆                │\n",
       "│ 0.679745    ┆ 82079698818724 ┆ 17248607605095 ┆ MoneyMarketSav ┆ 84937232671467 ┆ Rejected       │\n",
       "│             ┆ 77611          ┆ 517225         ┆ ingsAccount    ┆ 5313           ┆                │\n",
       "│ 1.0         ┆ 45075160691482 ┆ 17308166830456 ┆ BasicChecking  ┆ 84937232671467 ┆ Rejected       │\n",
       "│             ┆ 78951          ┆ 935403         ┆                ┆ 5313           ┆                │\n",
       "│ 0.718982    ┆ 12013953044440 ┆ 85772107202178 ┆ BasicChecking  ┆ 77734984076201 ┆ Accepted       │\n",
       "│             ┆ 084447         ┆ 72734          ┆                ┆ 28290          ┆                │\n",
       "│ 0.0         ┆ 82701408024061 ┆ 17248607605095 ┆ UPlusFinPerson ┆ null           ┆ Rejected       │\n",
       "│             ┆ 10445          ┆ 517225         ┆ al             ┆                ┆                │\n",
       "│ 0.02333     ┆ 15948992459756 ┆ 17248607605095 ┆ BasicChecking  ┆ 77734984076201 ┆ Rejected       │\n",
       "│             ┆ 970703         ┆ 517225         ┆                ┆ 28290          ┆                │\n",
       "└─────────────┴────────────────┴────────────────┴────────────────┴────────────────┴────────────────┘"
      ]
     },
     "execution_count": 13,
     "metadata": {},
     "output_type": "execute_result"
    }
   ],
   "source": [
    "pl.read_ipc('output/hds.arrow')"
   ]
  },
  {
   "attachments": {},
   "cell_type": "markdown",
   "metadata": {
    "nbsphinx": "hidden"
   },
   "source": [
    "## Advanced: Hash fuctions\n",
    "\n",
    "By default, we use [the same hashing algorithm Polars](https://pola-rs.github.io/polars/py-polars/html/reference/expressions/api/polars.Expr.hash.html#polars.Expr.hash) uses: [xxhash](https://github.com/Cyan4973/xxHash), as implemented [here](https://github.com/pola-rs/polars/blob/3f287f370b3c388ed2f3f218b2c096382548136f/polars/polars-core/src/vector_hasher.rs#L266). xxhash is fast to compute, and you can check its performance in collision, dispersion and randomness [here](https://github.com/Cyan4973/xxHash/tree/dev/tests). \n",
    "\n",
    "xxhash accepts four distinct seeds, but by default we set the seeds to `0`. It is possible to set the `seed` argument of the `process()` function to `'random'`, which will set all four seeds to a random integer between `0` and `1000000000`. Alternatively, it is possible to supply the four seeds manually with arguments `seed`, `seed_1`, `seed_2` and `seed_3`. \n",
    "\n",
    "If the xxhash with (random) seed(s) is not deemed sufficiently secure, it is possible to use your own hashing algorithm.\n",
    "\n",
    "Note that since we're now running python code and not native Polars code anymore, this will be _significantly_ slower. Nonetheless, it is possible.\n",
    "\n",
    "Just as an example - this is how one would use sha3_256:"
   ]
  },
  {
   "cell_type": "code",
   "execution_count": 14,
   "metadata": {
    "execution": {
     "iopub.execute_input": "2024-03-06T15:26:53.645198Z",
     "iopub.status.busy": "2024-03-06T15:26:53.644891Z",
     "iopub.status.idle": "2024-03-06T15:26:53.652378Z",
     "shell.execute_reply": "2024-03-06T15:26:53.651858Z"
    },
    "nbsphinx": "hidden"
   },
   "outputs": [
    {
     "data": {
      "text/html": [
       "<div><style>\n",
       ".dataframe > thead > tr,\n",
       ".dataframe > tbody > tr {\n",
       "  text-align: right;\n",
       "  white-space: pre-wrap;\n",
       "}\n",
       "</style>\n",
       "<small>shape: (7, 7)</small><table border=\"1\" class=\"dataframe\"><thead><tr><th>filename</th><th>PREDICTOR_1</th><th>PREDICTOR_2</th><th>PREDICTOR_3</th><th>Context_Name</th><th>IH_Web_Inbound_Accepted_pxLastGroupID</th><th>Decision_Outcome</th></tr><tr><td>str</td><td>f64</td><td>str</td><td>str</td><td>str</td><td>str</td><td>str</td></tr></thead><tbody><tr><td>&quot;../../../../da…</td><td>0.983033</td><td>&quot;c73023dda51de1…</td><td>&quot;af486bc1815c72…</td><td>&quot;FirstMortgage3…</td><td>&quot;2513d0e24d8d02…</td><td>&quot;Rejected&quot;</td></tr><tr><td>&quot;../../../../da…</td><td>0.144221</td><td>&quot;5414b197fb87b3…</td><td>&quot;3cdf7b1ae1342e…</td><td>&quot;FirstMortgage3…</td><td>&quot;8b55bf62fc2ecd…</td><td>&quot;Accepted&quot;</td></tr><tr><td>&quot;../../../../da…</td><td>0.679745</td><td>&quot;892f5d61a9215e…</td><td>&quot;806ef34eb8237f…</td><td>&quot;MoneyMarketSav…</td><td>&quot;2513d0e24d8d02…</td><td>&quot;Rejected&quot;</td></tr><tr><td>&quot;../../../../da…</td><td>1.0</td><td>&quot;c3aa807d9e927a…</td><td>&quot;3cdf7b1ae1342e…</td><td>&quot;BasicChecking&quot;</td><td>&quot;2513d0e24d8d02…</td><td>&quot;Rejected&quot;</td></tr><tr><td>&quot;../../../../da…</td><td>0.718982</td><td>&quot;c2d492f9a05073…</td><td>&quot;af486bc1815c72…</td><td>&quot;BasicChecking&quot;</td><td>&quot;1cd082ecbd5dd9…</td><td>&quot;Accepted&quot;</td></tr><tr><td>&quot;../../../../da…</td><td>0.0</td><td>&quot;b21059221605c4…</td><td>&quot;806ef34eb8237f…</td><td>&quot;UPlusFinPerson…</td><td>null</td><td>&quot;Rejected&quot;</td></tr><tr><td>&quot;../../../../da…</td><td>0.02333</td><td>&quot;80cbe489dcecd4…</td><td>&quot;806ef34eb8237f…</td><td>&quot;BasicChecking&quot;</td><td>&quot;1cd082ecbd5dd9…</td><td>&quot;Rejected&quot;</td></tr></tbody></table></div>"
      ],
      "text/plain": [
       "shape: (7, 7)\n",
       "┌──────────────┬─────────────┬─────────────┬─────────────┬─────────────┬─────────────┬─────────────┐\n",
       "│ filename     ┆ PREDICTOR_1 ┆ PREDICTOR_2 ┆ PREDICTOR_3 ┆ Context_Nam ┆ IH_Web_Inbo ┆ Decision_Ou │\n",
       "│ ---          ┆ ---         ┆ ---         ┆ ---         ┆ e           ┆ und_Accepte ┆ tcome       │\n",
       "│ str          ┆ f64         ┆ str         ┆ str         ┆ ---         ┆ d_pxLastGr… ┆ ---         │\n",
       "│              ┆             ┆             ┆             ┆ str         ┆ ---         ┆ str         │\n",
       "│              ┆             ┆             ┆             ┆             ┆ str         ┆             │\n",
       "╞══════════════╪═════════════╪═════════════╪═════════════╪═════════════╪═════════════╪═════════════╡\n",
       "│ ../../../../ ┆ 0.983033    ┆ c73023dda51 ┆ af486bc1815 ┆ FirstMortga ┆ 2513d0e24d8 ┆ Rejected    │\n",
       "│ data/SampleH ┆             ┆ de1b84f7af7 ┆ c726c357890 ┆ ge30yr      ┆ d0214eda4fb ┆             │\n",
       "│ DS.json      ┆             ┆ 74fd6f8c73… ┆ ac2a40ba98… ┆             ┆ 454447162b… ┆             │\n",
       "│ ../../../../ ┆ 0.144221    ┆ 5414b197fb8 ┆ 3cdf7b1ae13 ┆ FirstMortga ┆ 8b55bf62fc2 ┆ Accepted    │\n",
       "│ data/SampleH ┆             ┆ 7b3f2e350d7 ┆ 42ef979ea2a ┆ ge30yr      ┆ ecd16af97d4 ┆             │\n",
       "│ DS.json      ┆             ┆ a74a840a81… ┆ 782541ad05… ┆             ┆ 8e469362cf… ┆             │\n",
       "│ ../../../../ ┆ 0.679745    ┆ 892f5d61a92 ┆ 806ef34eb82 ┆ MoneyMarket ┆ 2513d0e24d8 ┆ Rejected    │\n",
       "│ data/SampleH ┆             ┆ 15ef985f3fa ┆ 37f4db85004 ┆ SavingsAcco ┆ d0214eda4fb ┆             │\n",
       "│ DS.json      ┆             ┆ 293d51c92e… ┆ e96dc471d8… ┆ unt         ┆ 454447162b… ┆             │\n",
       "│ ../../../../ ┆ 1.0         ┆ c3aa807d9e9 ┆ 3cdf7b1ae13 ┆ BasicChecki ┆ 2513d0e24d8 ┆ Rejected    │\n",
       "│ data/SampleH ┆             ┆ 27ae426a89e ┆ 42ef979ea2a ┆ ng          ┆ d0214eda4fb ┆             │\n",
       "│ DS.json      ┆             ┆ 76a12b9160… ┆ 782541ad05… ┆             ┆ 454447162b… ┆             │\n",
       "│ ../../../../ ┆ 0.718982    ┆ c2d492f9a05 ┆ af486bc1815 ┆ BasicChecki ┆ 1cd082ecbd5 ┆ Accepted    │\n",
       "│ data/SampleH ┆             ┆ 07327c14285 ┆ c726c357890 ┆ ng          ┆ dd95383b104 ┆             │\n",
       "│ DS.json      ┆             ┆ e94e8ee54c… ┆ ac2a40ba98… ┆             ┆ 65e395c1f7… ┆             │\n",
       "│ ../../../../ ┆ 0.0         ┆ b2105922160 ┆ 806ef34eb82 ┆ UPlusFinPer ┆ null        ┆ Rejected    │\n",
       "│ data/SampleH ┆             ┆ 5c49757cfe0 ┆ 37f4db85004 ┆ sonal       ┆             ┆             │\n",
       "│ DS.json      ┆             ┆ fee45640db… ┆ e96dc471d8… ┆             ┆             ┆             │\n",
       "│ ../../../../ ┆ 0.02333     ┆ 80cbe489dce ┆ 806ef34eb82 ┆ BasicChecki ┆ 1cd082ecbd5 ┆ Rejected    │\n",
       "│ data/SampleH ┆             ┆ cd4b9304898 ┆ 37f4db85004 ┆ ng          ┆ dd95383b104 ┆             │\n",
       "│ DS.json      ┆             ┆ c9986afeeb… ┆ e96dc471d8… ┆             ┆ 65e395c1f7… ┆             │\n",
       "└──────────────┴─────────────┴─────────────┴─────────────┴─────────────┴─────────────┴─────────────┘"
      ]
     },
     "execution_count": 14,
     "metadata": {},
     "output_type": "execute_result"
    }
   ],
   "source": [
    "from hashlib import sha3_256\n",
    "\n",
    "anon.process(algorithm=lambda x: sha3_256(x.encode()).hexdigest())"
   ]
  }
 ],
 "metadata": {
  "kernelspec": {
   "display_name": "Python 3",
   "language": "python",
   "name": "python3"
  },
  "language_info": {
   "codemirror_mode": {
    "name": "ipython",
    "version": 3
   },
   "file_extension": ".py",
   "mimetype": "text/x-python",
   "name": "python",
   "nbconvert_exporter": "python",
   "pygments_lexer": "ipython3",
   "version": "3.11.8"
  },
  "vscode": {
   "interpreter": {
    "hash": "aee8b7b246df8f9039afb4144a1f6fd8d2ca17a180786b69acc140d282b71a49"
   }
  }
 },
 "nbformat": 4,
 "nbformat_minor": 2
}
