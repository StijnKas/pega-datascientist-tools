{
 "cells": [
  {
   "attachments": {},
   "cell_type": "markdown",
   "metadata": {},
   "source": [
    "# Data Anonymization\n",
    "\n",
    "In Pega CDH 8.5 and up, it's now possible to record the historical data as seen by the Adaptive Models. See [this academy challenge](https://academy.pega.com/challenge/exporting-historical-data/v4) for reference. This historical data can be further used to experiment with offline models, but also to fine-tune the OOTB Gradient Boosting model. However, sharing this information with Pega can be sensitive as it contains raw predictor data. \n",
    "\n",
    "To this end, we provide a simple and transparent script to fully anonimize this dataset.\n",
    "\n",
    "The DataAnonymization script is now part of pdstools, and you can import it directly as such."
   ]
  },
  {
   "cell_type": "code",
   "execution_count": 1,
   "metadata": {
    "execution": {
     "iopub.execute_input": "2024-05-10T08:55:50.331583Z",
     "iopub.status.busy": "2024-05-10T08:55:50.331124Z",
     "iopub.status.idle": "2024-05-10T08:55:50.402517Z",
     "shell.execute_reply": "2024-05-10T08:55:50.401897Z"
    },
    "nbsphinx": "hidden"
   },
   "outputs": [],
   "source": [
    "# These lines are only for rendering in the docs, and are hidden through Jupyter tags\n",
    "# Do not run if you're running the notebook seperately\n",
    "\n",
    "import os  \n",
    "import sys\n",
    "import plotly.io as pio\n",
    "pio.renderers.default = \"notebook_connected\"\n",
    "\n",
    "sys.path.append(\"../../../\")\n",
    "sys.path.append('../../python')"
   ]
  },
  {
   "cell_type": "code",
   "execution_count": 2,
   "metadata": {
    "execution": {
     "iopub.execute_input": "2024-05-10T08:55:50.404810Z",
     "iopub.status.busy": "2024-05-10T08:55:50.404632Z",
     "iopub.status.idle": "2024-05-10T08:55:51.444824Z",
     "shell.execute_reply": "2024-05-10T08:55:51.444207Z"
    }
   },
   "outputs": [],
   "source": [
    "from pdstools import ADMDatamart\n",
    "from pdstools import Config, DataAnonymization\n",
    "import polars as pl"
   ]
  },
  {
   "attachments": {},
   "cell_type": "markdown",
   "metadata": {},
   "source": [
    "## Input data\n",
    "\n",
    "To demonstrate this process, we're going to anonymise this toy example dataframe:"
   ]
  },
  {
   "cell_type": "code",
   "execution_count": 3,
   "metadata": {
    "execution": {
     "iopub.execute_input": "2024-05-10T08:55:51.447609Z",
     "iopub.status.busy": "2024-05-10T08:55:51.447160Z",
     "iopub.status.idle": "2024-05-10T08:55:51.455809Z",
     "shell.execute_reply": "2024-05-10T08:55:51.455320Z"
    }
   },
   "outputs": [
    {
     "data": {
      "text/html": [
       "<div><style>\n",
       ".dataframe > thead > tr,\n",
       ".dataframe > tbody > tr {\n",
       "  text-align: right;\n",
       "  white-space: pre-wrap;\n",
       "}\n",
       "</style>\n",
       "<small>shape: (7, 6)</small><table border=\"1\" class=\"dataframe\"><thead><tr><th>Context_Name</th><th>Customer_MaritalStatus</th><th>Customer_CLV</th><th>Customer_City</th><th>IH_Web_Inbound_Accepted_pxLastGroupID</th><th>Decision_Outcome</th></tr><tr><td>str</td><td>str</td><td>i64</td><td>str</td><td>str</td><td>str</td></tr></thead><tbody><tr><td>&quot;FirstMortgage30yr&quot;</td><td>&quot;Married&quot;</td><td>1460</td><td>&quot;Port Raoul&quot;</td><td>&quot;Account&quot;</td><td>&quot;Rejected&quot;</td></tr><tr><td>&quot;FirstMortgage30yr&quot;</td><td>&quot;Unknown&quot;</td><td>669</td><td>&quot;Laurianneshire&quot;</td><td>&quot;AutoLoans&quot;</td><td>&quot;Accepted&quot;</td></tr><tr><td>&quot;MoneyMarketSavingsAccount&quot;</td><td>&quot;No Resp+&quot;</td><td>1174</td><td>&quot;Jacobshaven&quot;</td><td>&quot;Account&quot;</td><td>&quot;Rejected&quot;</td></tr><tr><td>&quot;BasicChecking&quot;</td><td>&quot;Unknown&quot;</td><td>1476</td><td>&quot;Lindton&quot;</td><td>&quot;Account&quot;</td><td>&quot;Rejected&quot;</td></tr><tr><td>&quot;BasicChecking&quot;</td><td>&quot;Married&quot;</td><td>1211</td><td>&quot;South Jimmieshire&quot;</td><td>&quot;DepositAccounts&quot;</td><td>&quot;Accepted&quot;</td></tr><tr><td>&quot;UPlusFinPersonal&quot;</td><td>&quot;No Resp+&quot;</td><td>533</td><td>&quot;Bergeville&quot;</td><td>null</td><td>&quot;Rejected&quot;</td></tr><tr><td>&quot;BasicChecking&quot;</td><td>&quot;No Resp+&quot;</td><td>555</td><td>&quot;Willyville&quot;</td><td>&quot;DepositAccounts&quot;</td><td>&quot;Rejected&quot;</td></tr></tbody></table></div>"
      ],
      "text/plain": [
       "shape: (7, 6)\n",
       "┌────────────────┬────────────────┬──────────────┬────────────────┬────────────────┬───────────────┐\n",
       "│ Context_Name   ┆ Customer_Marit ┆ Customer_CLV ┆ Customer_City  ┆ IH_Web_Inbound ┆ Decision_Outc │\n",
       "│ ---            ┆ alStatus       ┆ ---          ┆ ---            ┆ _Accepted_pxLa ┆ ome           │\n",
       "│ str            ┆ ---            ┆ i64          ┆ str            ┆ st…            ┆ ---           │\n",
       "│                ┆ str            ┆              ┆                ┆ ---            ┆ str           │\n",
       "│                ┆                ┆              ┆                ┆ str            ┆               │\n",
       "╞════════════════╪════════════════╪══════════════╪════════════════╪════════════════╪═══════════════╡\n",
       "│ FirstMortgage3 ┆ Married        ┆ 1460         ┆ Port Raoul     ┆ Account        ┆ Rejected      │\n",
       "│ 0yr            ┆                ┆              ┆                ┆                ┆               │\n",
       "│ FirstMortgage3 ┆ Unknown        ┆ 669          ┆ Laurianneshire ┆ AutoLoans      ┆ Accepted      │\n",
       "│ 0yr            ┆                ┆              ┆                ┆                ┆               │\n",
       "│ MoneyMarketSav ┆ No Resp+       ┆ 1174         ┆ Jacobshaven    ┆ Account        ┆ Rejected      │\n",
       "│ ingsAccount    ┆                ┆              ┆                ┆                ┆               │\n",
       "│ BasicChecking  ┆ Unknown        ┆ 1476         ┆ Lindton        ┆ Account        ┆ Rejected      │\n",
       "│ BasicChecking  ┆ Married        ┆ 1211         ┆ South          ┆ DepositAccount ┆ Accepted      │\n",
       "│                ┆                ┆              ┆ Jimmieshire    ┆ s              ┆               │\n",
       "│ UPlusFinPerson ┆ No Resp+       ┆ 533          ┆ Bergeville     ┆ null           ┆ Rejected      │\n",
       "│ al             ┆                ┆              ┆                ┆                ┆               │\n",
       "│ BasicChecking  ┆ No Resp+       ┆ 555          ┆ Willyville     ┆ DepositAccount ┆ Rejected      │\n",
       "│                ┆                ┆              ┆                ┆ s              ┆               │\n",
       "└────────────────┴────────────────┴──────────────┴────────────────┴────────────────┴───────────────┘"
      ]
     },
     "execution_count": 3,
     "metadata": {},
     "output_type": "execute_result"
    }
   ],
   "source": [
    "pl.read_ndjson('../../../../data/SampleHDS.json')"
   ]
  },
  {
   "attachments": {},
   "cell_type": "markdown",
   "metadata": {},
   "source": [
    "As you can see, this dataset consists of regular predictors, IH predictors, context keys and the outcome column. Additionally, some columns are numeric, others are strings. Let's first initialize the DataAnonymization class."
   ]
  },
  {
   "cell_type": "code",
   "execution_count": 4,
   "metadata": {
    "execution": {
     "iopub.execute_input": "2024-05-10T08:55:51.457993Z",
     "iopub.status.busy": "2024-05-10T08:55:51.457662Z",
     "iopub.status.idle": "2024-05-10T08:55:51.467105Z",
     "shell.execute_reply": "2024-05-10T08:55:51.466642Z"
    }
   },
   "outputs": [],
   "source": [
    "anon = DataAnonymization(hds_folder='../../../../data/')"
   ]
  },
  {
   "attachments": {},
   "cell_type": "markdown",
   "metadata": {},
   "source": [
    "By default, the class applies a set of anonymisation techniques:\n",
    "- Column names are remapped to a non-descriptive name\n",
    "- Categorical values are hashed with a random seed\n",
    "- Numerical values are normalized between 0 and 1\n",
    "- Outcomes are mapped to a binary outcome.\n",
    "\n",
    "To apply these techniques, simply call `.process()`:"
   ]
  },
  {
   "cell_type": "code",
   "execution_count": 5,
   "metadata": {
    "execution": {
     "iopub.execute_input": "2024-05-10T08:55:51.469151Z",
     "iopub.status.busy": "2024-05-10T08:55:51.468832Z",
     "iopub.status.idle": "2024-05-10T08:55:51.474464Z",
     "shell.execute_reply": "2024-05-10T08:55:51.474005Z"
    }
   },
   "outputs": [
    {
     "data": {
      "text/html": [
       "<div><style>\n",
       ".dataframe > thead > tr,\n",
       ".dataframe > tbody > tr {\n",
       "  text-align: right;\n",
       "  white-space: pre-wrap;\n",
       "}\n",
       "</style>\n",
       "<small>shape: (7, 7)</small><table border=\"1\" class=\"dataframe\"><thead><tr><th>PREDICTOR_0</th><th>PREDICTOR_1</th><th>filename</th><th>PREDICTOR_3</th><th>Context_Name</th><th>IH_PREDICTOR_0</th><th>Decision_Outcome</th></tr><tr><td>str</td><td>f64</td><td>str</td><td>str</td><td>str</td><td>str</td><td>bool</td></tr></thead><tbody><tr><td>&quot;10077498185059855319&quot;</td><td>5.7611e18</td><td>&quot;../../../../data/SampleHDS.jso…</td><td>&quot;10656365717583539913&quot;</td><td>&quot;10261671901979445030&quot;</td><td>&quot;7750833398573795376&quot;</td><td>false</td></tr><tr><td>&quot;942729983063710018&quot;</td><td>1.7026e19</td><td>&quot;../../../../data/SampleHDS.jso…</td><td>&quot;6607561431314487482&quot;</td><td>&quot;10261671901979445030&quot;</td><td>&quot;14123790688265052903&quot;</td><td>true</td></tr><tr><td>&quot;3818815615138386383&quot;</td><td>2.9634e18</td><td>&quot;../../../../data/SampleHDS.jso…</td><td>&quot;8037215748665178806&quot;</td><td>&quot;11284186782676436401&quot;</td><td>&quot;7750833398573795376&quot;</td><td>false</td></tr><tr><td>&quot;813335576182279504&quot;</td><td>9.6018e18</td><td>&quot;../../../../data/SampleHDS.jso…</td><td>&quot;6607561431314487482&quot;</td><td>&quot;8629175929929579770&quot;</td><td>&quot;7750833398573795376&quot;</td><td>false</td></tr><tr><td>&quot;11137938681377716231&quot;</td><td>1.1695e19</td><td>&quot;../../../../data/SampleHDS.jso…</td><td>&quot;10656365717583539913&quot;</td><td>&quot;8629175929929579770&quot;</td><td>&quot;1894772632572944101&quot;</td><td>true</td></tr><tr><td>&quot;6486769435483843006&quot;</td><td>3.2391e18</td><td>&quot;../../../../data/SampleHDS.jso…</td><td>&quot;8037215748665178806&quot;</td><td>&quot;5510782863652847641&quot;</td><td>null</td><td>false</td></tr><tr><td>&quot;12907511846830711410&quot;</td><td>1.2508e19</td><td>&quot;../../../../data/SampleHDS.jso…</td><td>&quot;8037215748665178806&quot;</td><td>&quot;8629175929929579770&quot;</td><td>&quot;1894772632572944101&quot;</td><td>false</td></tr></tbody></table></div>"
      ],
      "text/plain": [
       "shape: (7, 7)\n",
       "┌──────────────┬─────────────┬─────────────┬─────────────┬─────────────┬─────────────┬─────────────┐\n",
       "│ PREDICTOR_0  ┆ PREDICTOR_1 ┆ filename    ┆ PREDICTOR_3 ┆ Context_Nam ┆ IH_PREDICTO ┆ Decision_Ou │\n",
       "│ ---          ┆ ---         ┆ ---         ┆ ---         ┆ e           ┆ R_0         ┆ tcome       │\n",
       "│ str          ┆ f64         ┆ str         ┆ str         ┆ ---         ┆ ---         ┆ ---         │\n",
       "│              ┆             ┆             ┆             ┆ str         ┆ str         ┆ bool        │\n",
       "╞══════════════╪═════════════╪═════════════╪═════════════╪═════════════╪═════════════╪═════════════╡\n",
       "│ 100774981850 ┆ 5.7611e18   ┆ ../../../.. ┆ 10656365717 ┆ 10261671901 ┆ 77508333985 ┆ false       │\n",
       "│ 59855319     ┆             ┆ /data/Sampl ┆ 583539913   ┆ 979445030   ┆ 73795376    ┆             │\n",
       "│              ┆             ┆ eHDS.jso…   ┆             ┆             ┆             ┆             │\n",
       "│ 942729983063 ┆ 1.7026e19   ┆ ../../../.. ┆ 66075614313 ┆ 10261671901 ┆ 14123790688 ┆ true        │\n",
       "│ 710018       ┆             ┆ /data/Sampl ┆ 14487482    ┆ 979445030   ┆ 265052903   ┆             │\n",
       "│              ┆             ┆ eHDS.jso…   ┆             ┆             ┆             ┆             │\n",
       "│ 381881561513 ┆ 2.9634e18   ┆ ../../../.. ┆ 80372157486 ┆ 11284186782 ┆ 77508333985 ┆ false       │\n",
       "│ 8386383      ┆             ┆ /data/Sampl ┆ 65178806    ┆ 676436401   ┆ 73795376    ┆             │\n",
       "│              ┆             ┆ eHDS.jso…   ┆             ┆             ┆             ┆             │\n",
       "│ 813335576182 ┆ 9.6018e18   ┆ ../../../.. ┆ 66075614313 ┆ 86291759299 ┆ 77508333985 ┆ false       │\n",
       "│ 279504       ┆             ┆ /data/Sampl ┆ 14487482    ┆ 29579770    ┆ 73795376    ┆             │\n",
       "│              ┆             ┆ eHDS.jso…   ┆             ┆             ┆             ┆             │\n",
       "│ 111379386813 ┆ 1.1695e19   ┆ ../../../.. ┆ 10656365717 ┆ 86291759299 ┆ 18947726325 ┆ true        │\n",
       "│ 77716231     ┆             ┆ /data/Sampl ┆ 583539913   ┆ 29579770    ┆ 72944101    ┆             │\n",
       "│              ┆             ┆ eHDS.jso…   ┆             ┆             ┆             ┆             │\n",
       "│ 648676943548 ┆ 3.2391e18   ┆ ../../../.. ┆ 80372157486 ┆ 55107828636 ┆ null        ┆ false       │\n",
       "│ 3843006      ┆             ┆ /data/Sampl ┆ 65178806    ┆ 52847641    ┆             ┆             │\n",
       "│              ┆             ┆ eHDS.jso…   ┆             ┆             ┆             ┆             │\n",
       "│ 129075118468 ┆ 1.2508e19   ┆ ../../../.. ┆ 80372157486 ┆ 86291759299 ┆ 18947726325 ┆ false       │\n",
       "│ 30711410     ┆             ┆ /data/Sampl ┆ 65178806    ┆ 29579770    ┆ 72944101    ┆             │\n",
       "│              ┆             ┆ eHDS.jso…   ┆             ┆             ┆             ┆             │\n",
       "└──────────────┴─────────────┴─────────────┴─────────────┴─────────────┴─────────────┴─────────────┘"
      ]
     },
     "execution_count": 5,
     "metadata": {},
     "output_type": "execute_result"
    }
   ],
   "source": [
    "anon.process()"
   ]
  },
  {
   "attachments": {},
   "cell_type": "markdown",
   "metadata": {},
   "source": [
    "To trace back the columns to their original names, the class also contains a mapping, which does not have to be provided."
   ]
  },
  {
   "cell_type": "code",
   "execution_count": 6,
   "metadata": {
    "execution": {
     "iopub.execute_input": "2024-05-10T08:55:51.476418Z",
     "iopub.status.busy": "2024-05-10T08:55:51.476248Z",
     "iopub.status.idle": "2024-05-10T08:55:51.479981Z",
     "shell.execute_reply": "2024-05-10T08:55:51.479545Z"
    }
   },
   "outputs": [
    {
     "data": {
      "text/plain": [
       "{'Customer_City': 'PREDICTOR_0',\n",
       " 'Customer_CLV': 'PREDICTOR_1',\n",
       " 'filename': 'filename',\n",
       " 'Customer_MaritalStatus': 'PREDICTOR_3',\n",
       " 'Context_Name': 'Context_Name',\n",
       " 'IH_Web_Inbound_Accepted_pxLastGroupID': 'IH_PREDICTOR_0',\n",
       " 'Decision_Outcome': 'Decision_Outcome'}"
      ]
     },
     "execution_count": 6,
     "metadata": {},
     "output_type": "execute_result"
    }
   ],
   "source": [
    "anon.column_mapping"
   ]
  },
  {
   "attachments": {},
   "cell_type": "markdown",
   "metadata": {},
   "source": [
    "## Configs\n",
    "\n",
    "Each capability can optionally be turned off - see below for the full list of config options, and refer to the API reference for the full description."
   ]
  },
  {
   "cell_type": "code",
   "execution_count": 7,
   "metadata": {
    "execution": {
     "iopub.execute_input": "2024-05-10T08:55:51.481947Z",
     "iopub.status.busy": "2024-05-10T08:55:51.481625Z",
     "iopub.status.idle": "2024-05-10T08:55:51.485784Z",
     "shell.execute_reply": "2024-05-10T08:55:51.485239Z"
    }
   },
   "outputs": [
    {
     "data": {
      "text/plain": [
       "{'config_file': None,\n",
       " 'hds_folder': '.',\n",
       " 'use_datamart': False,\n",
       " 'datamart_folder': 'datamart',\n",
       " 'output_format': 'ndjson',\n",
       " 'output_folder': 'output',\n",
       " 'mapping_file': 'mapping.map',\n",
       " 'mask_predictor_names': True,\n",
       " 'mask_context_key_names': False,\n",
       " 'mask_ih_names': True,\n",
       " 'mask_outcome_name': False,\n",
       " 'mask_predictor_values': True,\n",
       " 'mask_context_key_values': True,\n",
       " 'mask_ih_values': True,\n",
       " 'mask_outcome_values': True,\n",
       " 'context_key_label': 'Context_*',\n",
       " 'ih_label': 'IH_*',\n",
       " 'outcome_column': 'Decision_Outcome',\n",
       " 'positive_outcomes': ['Accepted', 'Clicked'],\n",
       " 'negative_outcomes': ['Rejected', 'Impression'],\n",
       " 'special_predictors': ['Decision_DecisionTime',\n",
       "  'Decision_OutcomeTime',\n",
       "  'Decision_Rank'],\n",
       " 'sample_percentage_schema_inferencing': 0.01}"
      ]
     },
     "execution_count": 7,
     "metadata": {},
     "output_type": "execute_result"
    }
   ],
   "source": [
    "dict(zip(Config.__init__.__code__.co_varnames[1:], Config.__init__.__defaults__))"
   ]
  },
  {
   "attachments": {},
   "cell_type": "markdown",
   "metadata": {},
   "source": [
    "It's easy to change these parameters by just passing the keyword arguments. In the following example, we\n",
    "- Keep the IH predictor names\n",
    "- Keep the outcome values\n",
    "- Keep the context key values\n",
    "- Keep the context key predictor names"
   ]
  },
  {
   "cell_type": "code",
   "execution_count": 8,
   "metadata": {
    "execution": {
     "iopub.execute_input": "2024-05-10T08:55:51.487648Z",
     "iopub.status.busy": "2024-05-10T08:55:51.487478Z",
     "iopub.status.idle": "2024-05-10T08:55:51.495790Z",
     "shell.execute_reply": "2024-05-10T08:55:51.495240Z"
    }
   },
   "outputs": [
    {
     "data": {
      "text/html": [
       "<div><style>\n",
       ".dataframe > thead > tr,\n",
       ".dataframe > tbody > tr {\n",
       "  text-align: right;\n",
       "  white-space: pre-wrap;\n",
       "}\n",
       "</style>\n",
       "<small>shape: (7, 7)</small><table border=\"1\" class=\"dataframe\"><thead><tr><th>PREDICTOR_0</th><th>PREDICTOR_1</th><th>filename</th><th>PREDICTOR_3</th><th>Context_Name</th><th>IH_Web_Inbound_Accepted_pxLastGroupID</th><th>Decision_Outcome</th></tr><tr><td>str</td><td>f64</td><td>str</td><td>str</td><td>str</td><td>str</td><td>str</td></tr></thead><tbody><tr><td>&quot;17021200390789634767&quot;</td><td>1.7319e19</td><td>&quot;../../../../data/SampleHDS.jso…</td><td>&quot;8973579136740895916&quot;</td><td>&quot;FirstMortgage30yr&quot;</td><td>&quot;8871676171556147795&quot;</td><td>&quot;Rejected&quot;</td></tr><tr><td>&quot;17544086720894178852&quot;</td><td>1.2311e19</td><td>&quot;../../../../data/SampleHDS.jso…</td><td>&quot;17338410244790542383&quot;</td><td>&quot;FirstMortgage30yr&quot;</td><td>&quot;12151606643379405297&quot;</td><td>&quot;Accepted&quot;</td></tr><tr><td>&quot;2608404415705092858&quot;</td><td>1.7058e19</td><td>&quot;../../../../data/SampleHDS.jso…</td><td>&quot;12204139172891107800&quot;</td><td>&quot;MoneyMarketSavingsAccount&quot;</td><td>&quot;8871676171556147795&quot;</td><td>&quot;Rejected&quot;</td></tr><tr><td>&quot;5817609737565267353&quot;</td><td>4.1345e18</td><td>&quot;../../../../data/SampleHDS.jso…</td><td>&quot;17338410244790542383&quot;</td><td>&quot;BasicChecking&quot;</td><td>&quot;8871676171556147795&quot;</td><td>&quot;Rejected&quot;</td></tr><tr><td>&quot;17215557615437904129&quot;</td><td>1.3507e19</td><td>&quot;../../../../data/SampleHDS.jso…</td><td>&quot;8973579136740895916&quot;</td><td>&quot;BasicChecking&quot;</td><td>&quot;6018071385505420650&quot;</td><td>&quot;Accepted&quot;</td></tr><tr><td>&quot;8151885844329759850&quot;</td><td>1.7773e19</td><td>&quot;../../../../data/SampleHDS.jso…</td><td>&quot;12204139172891107800&quot;</td><td>&quot;UPlusFinPersonal&quot;</td><td>null</td><td>&quot;Rejected&quot;</td></tr><tr><td>&quot;4576154232532392396&quot;</td><td>2.3662e18</td><td>&quot;../../../../data/SampleHDS.jso…</td><td>&quot;12204139172891107800&quot;</td><td>&quot;BasicChecking&quot;</td><td>&quot;6018071385505420650&quot;</td><td>&quot;Rejected&quot;</td></tr></tbody></table></div>"
      ],
      "text/plain": [
       "shape: (7, 7)\n",
       "┌──────────────┬─────────────┬─────────────┬─────────────┬─────────────┬─────────────┬─────────────┐\n",
       "│ PREDICTOR_0  ┆ PREDICTOR_1 ┆ filename    ┆ PREDICTOR_3 ┆ Context_Nam ┆ IH_Web_Inbo ┆ Decision_Ou │\n",
       "│ ---          ┆ ---         ┆ ---         ┆ ---         ┆ e           ┆ und_Accepte ┆ tcome       │\n",
       "│ str          ┆ f64         ┆ str         ┆ str         ┆ ---         ┆ d_pxLast…   ┆ ---         │\n",
       "│              ┆             ┆             ┆             ┆ str         ┆ ---         ┆ str         │\n",
       "│              ┆             ┆             ┆             ┆             ┆ str         ┆             │\n",
       "╞══════════════╪═════════════╪═════════════╪═════════════╪═════════════╪═════════════╪═════════════╡\n",
       "│ 170212003907 ┆ 1.7319e19   ┆ ../../../.. ┆ 89735791367 ┆ FirstMortga ┆ 88716761715 ┆ Rejected    │\n",
       "│ 89634767     ┆             ┆ /data/Sampl ┆ 40895916    ┆ ge30yr      ┆ 56147795    ┆             │\n",
       "│              ┆             ┆ eHDS.jso…   ┆             ┆             ┆             ┆             │\n",
       "│ 175440867208 ┆ 1.2311e19   ┆ ../../../.. ┆ 17338410244 ┆ FirstMortga ┆ 12151606643 ┆ Accepted    │\n",
       "│ 94178852     ┆             ┆ /data/Sampl ┆ 790542383   ┆ ge30yr      ┆ 379405297   ┆             │\n",
       "│              ┆             ┆ eHDS.jso…   ┆             ┆             ┆             ┆             │\n",
       "│ 260840441570 ┆ 1.7058e19   ┆ ../../../.. ┆ 12204139172 ┆ MoneyMarket ┆ 88716761715 ┆ Rejected    │\n",
       "│ 5092858      ┆             ┆ /data/Sampl ┆ 891107800   ┆ SavingsAcco ┆ 56147795    ┆             │\n",
       "│              ┆             ┆ eHDS.jso…   ┆             ┆ unt         ┆             ┆             │\n",
       "│ 581760973756 ┆ 4.1345e18   ┆ ../../../.. ┆ 17338410244 ┆ BasicChecki ┆ 88716761715 ┆ Rejected    │\n",
       "│ 5267353      ┆             ┆ /data/Sampl ┆ 790542383   ┆ ng          ┆ 56147795    ┆             │\n",
       "│              ┆             ┆ eHDS.jso…   ┆             ┆             ┆             ┆             │\n",
       "│ 172155576154 ┆ 1.3507e19   ┆ ../../../.. ┆ 89735791367 ┆ BasicChecki ┆ 60180713855 ┆ Accepted    │\n",
       "│ 37904129     ┆             ┆ /data/Sampl ┆ 40895916    ┆ ng          ┆ 05420650    ┆             │\n",
       "│              ┆             ┆ eHDS.jso…   ┆             ┆             ┆             ┆             │\n",
       "│ 815188584432 ┆ 1.7773e19   ┆ ../../../.. ┆ 12204139172 ┆ UPlusFinPer ┆ null        ┆ Rejected    │\n",
       "│ 9759850      ┆             ┆ /data/Sampl ┆ 891107800   ┆ sonal       ┆             ┆             │\n",
       "│              ┆             ┆ eHDS.jso…   ┆             ┆             ┆             ┆             │\n",
       "│ 457615423253 ┆ 2.3662e18   ┆ ../../../.. ┆ 12204139172 ┆ BasicChecki ┆ 60180713855 ┆ Rejected    │\n",
       "│ 2392396      ┆             ┆ /data/Sampl ┆ 891107800   ┆ ng          ┆ 05420650    ┆             │\n",
       "│              ┆             ┆ eHDS.jso…   ┆             ┆             ┆             ┆             │\n",
       "└──────────────┴─────────────┴─────────────┴─────────────┴─────────────┴─────────────┴─────────────┘"
      ]
     },
     "execution_count": 8,
     "metadata": {},
     "output_type": "execute_result"
    }
   ],
   "source": [
    "anon = DataAnonymization(\n",
    "    hds_folder=\"../../../../data/\",\n",
    "    mask_ih_names=False,\n",
    "    mask_outcome_values=False,\n",
    "    mask_context_key_values=False,\n",
    "    mask_context_key_names=False,\n",
    ")\n",
    "anon.process()\n"
   ]
  },
  {
   "attachments": {},
   "cell_type": "markdown",
   "metadata": {},
   "source": [
    "The configs can also be written and read as such:"
   ]
  },
  {
   "cell_type": "code",
   "execution_count": 9,
   "metadata": {
    "execution": {
     "iopub.execute_input": "2024-05-10T08:55:51.497680Z",
     "iopub.status.busy": "2024-05-10T08:55:51.497416Z",
     "iopub.status.idle": "2024-05-10T08:55:51.500373Z",
     "shell.execute_reply": "2024-05-10T08:55:51.499927Z"
    }
   },
   "outputs": [],
   "source": [
    "anon.config.save_to_config_file('config.json')"
   ]
  },
  {
   "cell_type": "code",
   "execution_count": 10,
   "metadata": {
    "execution": {
     "iopub.execute_input": "2024-05-10T08:55:51.502405Z",
     "iopub.status.busy": "2024-05-10T08:55:51.502086Z",
     "iopub.status.idle": "2024-05-10T08:55:51.509655Z",
     "shell.execute_reply": "2024-05-10T08:55:51.509239Z"
    }
   },
   "outputs": [
    {
     "data": {
      "text/html": [
       "<div><style>\n",
       ".dataframe > thead > tr,\n",
       ".dataframe > tbody > tr {\n",
       "  text-align: right;\n",
       "  white-space: pre-wrap;\n",
       "}\n",
       "</style>\n",
       "<small>shape: (7, 7)</small><table border=\"1\" class=\"dataframe\"><thead><tr><th>PREDICTOR_0</th><th>PREDICTOR_1</th><th>filename</th><th>PREDICTOR_3</th><th>Context_Name</th><th>IH_Web_Inbound_Accepted_pxLastGroupID</th><th>Decision_Outcome</th></tr><tr><td>str</td><td>f64</td><td>str</td><td>str</td><td>str</td><td>str</td><td>str</td></tr></thead><tbody><tr><td>&quot;813076299930669557&quot;</td><td>8.4757e17</td><td>&quot;../../../../data/SampleHDS.jso…</td><td>&quot;13730240430822337523&quot;</td><td>&quot;FirstMortgage30yr&quot;</td><td>&quot;1547786191524735015&quot;</td><td>&quot;Rejected&quot;</td></tr><tr><td>&quot;5705327515575178129&quot;</td><td>3.3800e18</td><td>&quot;../../../../data/SampleHDS.jso…</td><td>&quot;5021490259315704636&quot;</td><td>&quot;FirstMortgage30yr&quot;</td><td>&quot;18370968546890038233&quot;</td><td>&quot;Accepted&quot;</td></tr><tr><td>&quot;8045349805967082244&quot;</td><td>9.4535e18</td><td>&quot;../../../../data/SampleHDS.jso…</td><td>&quot;5829952120196273636&quot;</td><td>&quot;MoneyMarketSavingsAccount&quot;</td><td>&quot;1547786191524735015&quot;</td><td>&quot;Rejected&quot;</td></tr><tr><td>&quot;8040904595279708011&quot;</td><td>1.3146e19</td><td>&quot;../../../../data/SampleHDS.jso…</td><td>&quot;5021490259315704636&quot;</td><td>&quot;BasicChecking&quot;</td><td>&quot;1547786191524735015&quot;</td><td>&quot;Rejected&quot;</td></tr><tr><td>&quot;12474447813230399459&quot;</td><td>1.9948e18</td><td>&quot;../../../../data/SampleHDS.jso…</td><td>&quot;13730240430822337523&quot;</td><td>&quot;BasicChecking&quot;</td><td>&quot;5088144089422412893&quot;</td><td>&quot;Accepted&quot;</td></tr><tr><td>&quot;11984387239614018734&quot;</td><td>4.4509e18</td><td>&quot;../../../../data/SampleHDS.jso…</td><td>&quot;5829952120196273636&quot;</td><td>&quot;UPlusFinPersonal&quot;</td><td>null</td><td>&quot;Rejected&quot;</td></tr><tr><td>&quot;17736879331245226295&quot;</td><td>1.3874e19</td><td>&quot;../../../../data/SampleHDS.jso…</td><td>&quot;5829952120196273636&quot;</td><td>&quot;BasicChecking&quot;</td><td>&quot;5088144089422412893&quot;</td><td>&quot;Rejected&quot;</td></tr></tbody></table></div>"
      ],
      "text/plain": [
       "shape: (7, 7)\n",
       "┌──────────────┬─────────────┬─────────────┬─────────────┬─────────────┬─────────────┬─────────────┐\n",
       "│ PREDICTOR_0  ┆ PREDICTOR_1 ┆ filename    ┆ PREDICTOR_3 ┆ Context_Nam ┆ IH_Web_Inbo ┆ Decision_Ou │\n",
       "│ ---          ┆ ---         ┆ ---         ┆ ---         ┆ e           ┆ und_Accepte ┆ tcome       │\n",
       "│ str          ┆ f64         ┆ str         ┆ str         ┆ ---         ┆ d_pxLast…   ┆ ---         │\n",
       "│              ┆             ┆             ┆             ┆ str         ┆ ---         ┆ str         │\n",
       "│              ┆             ┆             ┆             ┆             ┆ str         ┆             │\n",
       "╞══════════════╪═════════════╪═════════════╪═════════════╪═════════════╪═════════════╪═════════════╡\n",
       "│ 813076299930 ┆ 8.4757e17   ┆ ../../../.. ┆ 13730240430 ┆ FirstMortga ┆ 15477861915 ┆ Rejected    │\n",
       "│ 669557       ┆             ┆ /data/Sampl ┆ 822337523   ┆ ge30yr      ┆ 24735015    ┆             │\n",
       "│              ┆             ┆ eHDS.jso…   ┆             ┆             ┆             ┆             │\n",
       "│ 570532751557 ┆ 3.3800e18   ┆ ../../../.. ┆ 50214902593 ┆ FirstMortga ┆ 18370968546 ┆ Accepted    │\n",
       "│ 5178129      ┆             ┆ /data/Sampl ┆ 15704636    ┆ ge30yr      ┆ 890038233   ┆             │\n",
       "│              ┆             ┆ eHDS.jso…   ┆             ┆             ┆             ┆             │\n",
       "│ 804534980596 ┆ 9.4535e18   ┆ ../../../.. ┆ 58299521201 ┆ MoneyMarket ┆ 15477861915 ┆ Rejected    │\n",
       "│ 7082244      ┆             ┆ /data/Sampl ┆ 96273636    ┆ SavingsAcco ┆ 24735015    ┆             │\n",
       "│              ┆             ┆ eHDS.jso…   ┆             ┆ unt         ┆             ┆             │\n",
       "│ 804090459527 ┆ 1.3146e19   ┆ ../../../.. ┆ 50214902593 ┆ BasicChecki ┆ 15477861915 ┆ Rejected    │\n",
       "│ 9708011      ┆             ┆ /data/Sampl ┆ 15704636    ┆ ng          ┆ 24735015    ┆             │\n",
       "│              ┆             ┆ eHDS.jso…   ┆             ┆             ┆             ┆             │\n",
       "│ 124744478132 ┆ 1.9948e18   ┆ ../../../.. ┆ 13730240430 ┆ BasicChecki ┆ 50881440894 ┆ Accepted    │\n",
       "│ 30399459     ┆             ┆ /data/Sampl ┆ 822337523   ┆ ng          ┆ 22412893    ┆             │\n",
       "│              ┆             ┆ eHDS.jso…   ┆             ┆             ┆             ┆             │\n",
       "│ 119843872396 ┆ 4.4509e18   ┆ ../../../.. ┆ 58299521201 ┆ UPlusFinPer ┆ null        ┆ Rejected    │\n",
       "│ 14018734     ┆             ┆ /data/Sampl ┆ 96273636    ┆ sonal       ┆             ┆             │\n",
       "│              ┆             ┆ eHDS.jso…   ┆             ┆             ┆             ┆             │\n",
       "│ 177368793312 ┆ 1.3874e19   ┆ ../../../.. ┆ 58299521201 ┆ BasicChecki ┆ 50881440894 ┆ Rejected    │\n",
       "│ 45226295     ┆             ┆ /data/Sampl ┆ 96273636    ┆ ng          ┆ 22412893    ┆             │\n",
       "│              ┆             ┆ eHDS.jso…   ┆             ┆             ┆             ┆             │\n",
       "└──────────────┴─────────────┴─────────────┴─────────────┴─────────────┴─────────────┴─────────────┘"
      ]
     },
     "execution_count": 10,
     "metadata": {},
     "output_type": "execute_result"
    }
   ],
   "source": [
    "anon = DataAnonymization(config=Config(config_file='config.json'))\n",
    "anon.process()"
   ]
  },
  {
   "attachments": {},
   "cell_type": "markdown",
   "metadata": {},
   "source": [
    "## Exporting\n",
    "Two functions export:\n",
    "- `create_mapping_file()` writes the mapping file of the predictor names\n",
    "- `write_to_output()` writes the processed dataframe to disk\n",
    "\n",
    "Write to output accepts the following extensions: `[\"ndjson\", \"parquet\", \"arrow\", \"csv\"]`"
   ]
  },
  {
   "cell_type": "code",
   "execution_count": 11,
   "metadata": {
    "execution": {
     "iopub.execute_input": "2024-05-10T08:55:51.511770Z",
     "iopub.status.busy": "2024-05-10T08:55:51.511456Z",
     "iopub.status.idle": "2024-05-10T08:55:51.514668Z",
     "shell.execute_reply": "2024-05-10T08:55:51.514217Z"
    }
   },
   "outputs": [
    {
     "name": "stdout",
     "output_type": "stream",
     "text": [
      "Customer_City=PREDICTOR_0\n",
      "Customer_CLV=PREDICTOR_1\n",
      "filename=filename\n",
      "Customer_MaritalStatus=PREDICTOR_3\n",
      "Context_Name=Context_Name\n",
      "IH_Web_Inbound_Accepted_pxLastGroupID=IH_Web_Inbound_Accepted_pxLastGroupID\n",
      "Decision_Outcome=Decision_Outcome\n",
      "\n"
     ]
    }
   ],
   "source": [
    "anon.create_mapping_file()\n",
    "with open('mapping.map') as f:\n",
    "    print(f.read())"
   ]
  },
  {
   "cell_type": "code",
   "execution_count": 12,
   "metadata": {
    "execution": {
     "iopub.execute_input": "2024-05-10T08:55:51.516713Z",
     "iopub.status.busy": "2024-05-10T08:55:51.516395Z",
     "iopub.status.idle": "2024-05-10T08:55:51.519939Z",
     "shell.execute_reply": "2024-05-10T08:55:51.519518Z"
    }
   },
   "outputs": [],
   "source": [
    "anon.write_to_output(ext='arrow')"
   ]
  },
  {
   "cell_type": "code",
   "execution_count": 13,
   "metadata": {
    "execution": {
     "iopub.execute_input": "2024-05-10T08:55:51.521969Z",
     "iopub.status.busy": "2024-05-10T08:55:51.521646Z",
     "iopub.status.idle": "2024-05-10T08:55:51.526173Z",
     "shell.execute_reply": "2024-05-10T08:55:51.525714Z"
    }
   },
   "outputs": [
    {
     "data": {
      "text/html": [
       "<div><style>\n",
       ".dataframe > thead > tr,\n",
       ".dataframe > tbody > tr {\n",
       "  text-align: right;\n",
       "  white-space: pre-wrap;\n",
       "}\n",
       "</style>\n",
       "<small>shape: (7, 6)</small><table border=\"1\" class=\"dataframe\"><thead><tr><th>PREDICTOR_0</th><th>PREDICTOR_1</th><th>PREDICTOR_3</th><th>Context_Name</th><th>IH_Web_Inbound_Accepted_pxLastGroupID</th><th>Decision_Outcome</th></tr><tr><td>str</td><td>f64</td><td>str</td><td>str</td><td>str</td><td>str</td></tr></thead><tbody><tr><td>&quot;11886092612887717183&quot;</td><td>1.1897e18</td><td>&quot;8147083483650163615&quot;</td><td>&quot;FirstMortgage30yr&quot;</td><td>&quot;5190834302216795803&quot;</td><td>&quot;Rejected&quot;</td></tr><tr><td>&quot;1094177178592495301&quot;</td><td>1.0869e19</td><td>&quot;14057640247994721063&quot;</td><td>&quot;FirstMortgage30yr&quot;</td><td>&quot;222441260287063194&quot;</td><td>&quot;Accepted&quot;</td></tr><tr><td>&quot;10330824417150314753&quot;</td><td>3.5389e18</td><td>&quot;8088142751856650856&quot;</td><td>&quot;MoneyMarketSavingsAccount&quot;</td><td>&quot;5190834302216795803&quot;</td><td>&quot;Rejected&quot;</td></tr><tr><td>&quot;7899999843716291045&quot;</td><td>1.1766e19</td><td>&quot;14057640247994721063&quot;</td><td>&quot;BasicChecking&quot;</td><td>&quot;5190834302216795803&quot;</td><td>&quot;Rejected&quot;</td></tr><tr><td>&quot;17524805312059947946&quot;</td><td>1.0191e19</td><td>&quot;8147083483650163615&quot;</td><td>&quot;BasicChecking&quot;</td><td>&quot;13141097939005242326&quot;</td><td>&quot;Accepted&quot;</td></tr><tr><td>&quot;874051649157329442&quot;</td><td>5.6537e18</td><td>&quot;8088142751856650856&quot;</td><td>&quot;UPlusFinPersonal&quot;</td><td>null</td><td>&quot;Rejected&quot;</td></tr><tr><td>&quot;17051969167667844559&quot;</td><td>1.0532e19</td><td>&quot;8088142751856650856&quot;</td><td>&quot;BasicChecking&quot;</td><td>&quot;13141097939005242326&quot;</td><td>&quot;Rejected&quot;</td></tr></tbody></table></div>"
      ],
      "text/plain": [
       "shape: (7, 6)\n",
       "┌────────────────┬─────────────┬────────────────┬────────────────┬────────────────┬────────────────┐\n",
       "│ PREDICTOR_0    ┆ PREDICTOR_1 ┆ PREDICTOR_3    ┆ Context_Name   ┆ IH_Web_Inbound ┆ Decision_Outco │\n",
       "│ ---            ┆ ---         ┆ ---            ┆ ---            ┆ _Accepted_pxLa ┆ me             │\n",
       "│ str            ┆ f64         ┆ str            ┆ str            ┆ st…            ┆ ---            │\n",
       "│                ┆             ┆                ┆                ┆ ---            ┆ str            │\n",
       "│                ┆             ┆                ┆                ┆ str            ┆                │\n",
       "╞════════════════╪═════════════╪════════════════╪════════════════╪════════════════╪════════════════╡\n",
       "│ 11886092612887 ┆ 1.1897e18   ┆ 81470834836501 ┆ FirstMortgage3 ┆ 51908343022167 ┆ Rejected       │\n",
       "│ 717183         ┆             ┆ 63615          ┆ 0yr            ┆ 95803          ┆                │\n",
       "│ 10941771785924 ┆ 1.0869e19   ┆ 14057640247994 ┆ FirstMortgage3 ┆ 22244126028706 ┆ Accepted       │\n",
       "│ 95301          ┆             ┆ 721063         ┆ 0yr            ┆ 3194           ┆                │\n",
       "│ 10330824417150 ┆ 3.5389e18   ┆ 80881427518566 ┆ MoneyMarketSav ┆ 51908343022167 ┆ Rejected       │\n",
       "│ 314753         ┆             ┆ 50856          ┆ ingsAccount    ┆ 95803          ┆                │\n",
       "│ 78999998437162 ┆ 1.1766e19   ┆ 14057640247994 ┆ BasicChecking  ┆ 51908343022167 ┆ Rejected       │\n",
       "│ 91045          ┆             ┆ 721063         ┆                ┆ 95803          ┆                │\n",
       "│ 17524805312059 ┆ 1.0191e19   ┆ 81470834836501 ┆ BasicChecking  ┆ 13141097939005 ┆ Accepted       │\n",
       "│ 947946         ┆             ┆ 63615          ┆                ┆ 242326         ┆                │\n",
       "│ 87405164915732 ┆ 5.6537e18   ┆ 80881427518566 ┆ UPlusFinPerson ┆ null           ┆ Rejected       │\n",
       "│ 9442           ┆             ┆ 50856          ┆ al             ┆                ┆                │\n",
       "│ 17051969167667 ┆ 1.0532e19   ┆ 80881427518566 ┆ BasicChecking  ┆ 13141097939005 ┆ Rejected       │\n",
       "│ 844559         ┆             ┆ 50856          ┆                ┆ 242326         ┆                │\n",
       "└────────────────┴─────────────┴────────────────┴────────────────┴────────────────┴────────────────┘"
      ]
     },
     "execution_count": 13,
     "metadata": {},
     "output_type": "execute_result"
    }
   ],
   "source": [
    "pl.read_ipc('output/hds.arrow')"
   ]
  },
  {
   "attachments": {},
   "cell_type": "markdown",
   "metadata": {
    "nbsphinx": "hidden"
   },
   "source": [
    "## Advanced: Hash fuctions\n",
    "\n",
    "By default, we use [the same hashing algorithm Polars](https://pola-rs.github.io/polars/py-polars/html/reference/expressions/api/polars.Expr.hash.html#polars.Expr.hash) uses: [xxhash](https://github.com/Cyan4973/xxHash), as implemented [here](https://github.com/pola-rs/polars/blob/3f287f370b3c388ed2f3f218b2c096382548136f/polars/polars-core/src/vector_hasher.rs#L266). xxhash is fast to compute, and you can check its performance in collision, dispersion and randomness [here](https://github.com/Cyan4973/xxHash/tree/dev/tests). \n",
    "\n",
    "xxhash accepts four distinct seeds, but by default we set the seeds to `0`. It is possible to set the `seed` argument of the `process()` function to `'random'`, which will set all four seeds to a random integer between `0` and `1000000000`. Alternatively, it is possible to supply the four seeds manually with arguments `seed`, `seed_1`, `seed_2` and `seed_3`. \n",
    "\n",
    "If the xxhash with (random) seed(s) is not deemed sufficiently secure, it is possible to use your own hashing algorithm.\n",
    "\n",
    "Note that since we're now running python code and not native Polars code anymore, this will be _significantly_ slower. Nonetheless, it is possible.\n",
    "\n",
    "Just as an example - this is how one would use sha3_256:"
   ]
  },
  {
   "cell_type": "code",
   "execution_count": 14,
   "metadata": {
    "execution": {
     "iopub.execute_input": "2024-05-10T08:55:51.528160Z",
     "iopub.status.busy": "2024-05-10T08:55:51.527869Z",
     "iopub.status.idle": "2024-05-10T08:55:51.852066Z",
     "shell.execute_reply": "2024-05-10T08:55:51.851454Z"
    },
    "nbsphinx": "hidden"
   },
   "outputs": [
    {
     "name": "stderr",
     "output_type": "stream",
     "text": [
      "sys:1: MapWithoutReturnDtypeWarning:\n",
      "\n",
      "Calling `map_elements` without specifying `return_dtype` can lead to unpredictable results. Specify `return_dtype` to silence this warning.\n",
      "\n",
      "sys:1: MapWithoutReturnDtypeWarning:\n",
      "\n",
      "Calling `map_elements` without specifying `return_dtype` can lead to unpredictable results. Specify `return_dtype` to silence this warning.\n",
      "\n",
      "sys:1: MapWithoutReturnDtypeWarning:\n",
      "\n",
      "Calling `map_elements` without specifying `return_dtype` can lead to unpredictable results. Specify `return_dtype` to silence this warning.\n",
      "\n",
      "sys:1: MapWithoutReturnDtypeWarning:\n",
      "\n",
      "Calling `map_elements` without specifying `return_dtype` can lead to unpredictable results. Specify `return_dtype` to silence this warning.\n",
      "\n"
     ]
    },
    {
     "ename": "ComputeError",
     "evalue": "AttributeError: 'int' object has no attribute 'encode'",
     "output_type": "error",
     "traceback": [
      "\u001b[0;31m---------------------------------------------------------------------------\u001b[0m",
      "\u001b[0;31mComputeError\u001b[0m                              Traceback (most recent call last)",
      "Cell \u001b[0;32mIn[14], line 3\u001b[0m\n\u001b[1;32m      1\u001b[0m \u001b[38;5;28;01mfrom\u001b[39;00m \u001b[38;5;21;01mhashlib\u001b[39;00m \u001b[38;5;28;01mimport\u001b[39;00m sha3_256\n\u001b[0;32m----> 3\u001b[0m \u001b[43manon\u001b[49m\u001b[38;5;241;43m.\u001b[39;49m\u001b[43mprocess\u001b[49m\u001b[43m(\u001b[49m\u001b[43malgorithm\u001b[49m\u001b[38;5;241;43m=\u001b[39;49m\u001b[38;5;28;43;01mlambda\u001b[39;49;00m\u001b[43m \u001b[49m\u001b[43mx\u001b[49m\u001b[43m:\u001b[49m\u001b[43m \u001b[49m\u001b[43msha3_256\u001b[49m\u001b[43m(\u001b[49m\u001b[43mx\u001b[49m\u001b[38;5;241;43m.\u001b[39;49m\u001b[43mencode\u001b[49m\u001b[43m(\u001b[49m\u001b[43m)\u001b[49m\u001b[43m)\u001b[49m\u001b[38;5;241;43m.\u001b[39;49m\u001b[43mhexdigest\u001b[49m\u001b[43m(\u001b[49m\u001b[43m)\u001b[49m\u001b[43m)\u001b[49m\n",
      "File \u001b[0;32m~/work/pega-datascientist-tools/pega-datascientist-tools/python/docs/source/articles/../../../pdstools/utils/hds_utils.py:512\u001b[0m, in \u001b[0;36mDataAnonymization.process\u001b[0;34m(self, strategy, **kwargs)\u001b[0m\n\u001b[1;32m    510\u001b[0m df \u001b[38;5;241m=\u001b[39m df\u001b[38;5;241m.\u001b[39mselect(\u001b[38;5;28mself\u001b[39m\u001b[38;5;241m.\u001b[39mcolumn_mapping\u001b[38;5;241m.\u001b[39mkeys())\u001b[38;5;241m.\u001b[39mrename(\u001b[38;5;28mself\u001b[39m\u001b[38;5;241m.\u001b[39mcolumn_mapping)\n\u001b[1;32m    511\u001b[0m \u001b[38;5;28;01mif\u001b[39;00m strategy \u001b[38;5;241m==\u001b[39m \u001b[38;5;124m\"\u001b[39m\u001b[38;5;124meager\u001b[39m\u001b[38;5;124m\"\u001b[39m:\n\u001b[0;32m--> 512\u001b[0m     \u001b[38;5;28;01mreturn\u001b[39;00m \u001b[43mdf\u001b[49m\u001b[38;5;241;43m.\u001b[39;49m\u001b[43mcollect\u001b[49m\u001b[43m(\u001b[49m\u001b[43m)\u001b[49m\n\u001b[1;32m    513\u001b[0m \u001b[38;5;28;01mreturn\u001b[39;00m df\n",
      "File \u001b[0;32m/opt/hostedtoolcache/Python/3.11.9/x64/lib/python3.11/site-packages/polars/lazyframe/frame.py:1816\u001b[0m, in \u001b[0;36mLazyFrame.collect\u001b[0;34m(self, type_coercion, predicate_pushdown, projection_pushdown, simplify_expression, slice_pushdown, comm_subplan_elim, comm_subexpr_elim, no_optimization, streaming, background, _eager, **_kwargs)\u001b[0m\n\u001b[1;32m   1813\u001b[0m \u001b[38;5;66;03m# Only for testing purposes atm.\u001b[39;00m\n\u001b[1;32m   1814\u001b[0m callback \u001b[38;5;241m=\u001b[39m _kwargs\u001b[38;5;241m.\u001b[39mget(\u001b[38;5;124m\"\u001b[39m\u001b[38;5;124mpost_opt_callback\u001b[39m\u001b[38;5;124m\"\u001b[39m)\n\u001b[0;32m-> 1816\u001b[0m \u001b[38;5;28;01mreturn\u001b[39;00m wrap_df(\u001b[43mldf\u001b[49m\u001b[38;5;241;43m.\u001b[39;49m\u001b[43mcollect\u001b[49m\u001b[43m(\u001b[49m\u001b[43mcallback\u001b[49m\u001b[43m)\u001b[49m)\n",
      "\u001b[0;31mComputeError\u001b[0m: AttributeError: 'int' object has no attribute 'encode'"
     ]
    }
   ],
   "source": [
    "from hashlib import sha3_256\n",
    "\n",
    "anon.process(algorithm=lambda x: sha3_256(x.encode()).hexdigest())"
   ]
  }
 ],
 "metadata": {
  "kernelspec": {
   "display_name": "Python 3",
   "language": "python",
   "name": "python3"
  },
  "language_info": {
   "codemirror_mode": {
    "name": "ipython",
    "version": 3
   },
   "file_extension": ".py",
   "mimetype": "text/x-python",
   "name": "python",
   "nbconvert_exporter": "python",
   "pygments_lexer": "ipython3",
   "version": "3.11.9"
  },
  "vscode": {
   "interpreter": {
    "hash": "aee8b7b246df8f9039afb4144a1f6fd8d2ca17a180786b69acc140d282b71a49"
   }
  }
 },
 "nbformat": 4,
 "nbformat_minor": 2
}
