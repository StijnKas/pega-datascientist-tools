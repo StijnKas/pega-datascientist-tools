{
 "cells": [
  {
   "attachments": {},
   "cell_type": "markdown",
   "metadata": {},
   "source": [
    "# Data Anonymization\n",
    "\n",
    "In Pega CDH 8.5 and up, it's now possible to record the historical data as seen by the Adaptive Models. See [this academy challenge](https://academy.pega.com/challenge/exporting-historical-data/v4) for reference. This historical data can be further used to experiment with offline models, but also to fine-tune the OOTB Gradient Boosting model. However, sharing this information with Pega can be sensitive as it contains raw predictor data. \n",
    "\n",
    "To this end, we provide a simple and transparent script to fully anonimize this dataset.\n",
    "\n",
    "The DataAnonymization script is now part of pdstools, and you can import it directly as such."
   ]
  },
  {
   "cell_type": "code",
   "execution_count": 1,
   "metadata": {
    "execution": {
     "iopub.execute_input": "2024-03-06T10:40:11.664340Z",
     "iopub.status.busy": "2024-03-06T10:40:11.664172Z",
     "iopub.status.idle": "2024-03-06T10:40:11.736815Z",
     "shell.execute_reply": "2024-03-06T10:40:11.736307Z"
    },
    "nbsphinx": "hidden"
   },
   "outputs": [],
   "source": [
    "# These lines are only for rendering in the docs, and are hidden through Jupyter tags\n",
    "# Do not run if you're running the notebook seperately\n",
    "\n",
    "import os  \n",
    "import sys\n",
    "import plotly.io as pio\n",
    "pio.renderers.default = \"notebook_connected\"\n",
    "\n",
    "sys.path.append(\"../../../\")\n",
    "sys.path.append('../../python')"
   ]
  },
  {
   "cell_type": "code",
   "execution_count": 2,
   "metadata": {
    "execution": {
     "iopub.execute_input": "2024-03-06T10:40:11.739200Z",
     "iopub.status.busy": "2024-03-06T10:40:11.738846Z",
     "iopub.status.idle": "2024-03-06T10:40:12.783465Z",
     "shell.execute_reply": "2024-03-06T10:40:12.782970Z"
    }
   },
   "outputs": [],
   "source": [
    "from pdstools import ADMDatamart\n",
    "from pdstools import Config, DataAnonymization\n",
    "import polars as pl"
   ]
  },
  {
   "attachments": {},
   "cell_type": "markdown",
   "metadata": {},
   "source": [
    "## Input data\n",
    "\n",
    "To demonstrate this process, we're going to anonymise this toy example dataframe:"
   ]
  },
  {
   "cell_type": "code",
   "execution_count": 3,
   "metadata": {
    "execution": {
     "iopub.execute_input": "2024-03-06T10:40:12.786077Z",
     "iopub.status.busy": "2024-03-06T10:40:12.785766Z",
     "iopub.status.idle": "2024-03-06T10:40:12.794628Z",
     "shell.execute_reply": "2024-03-06T10:40:12.794166Z"
    }
   },
   "outputs": [
    {
     "data": {
      "text/html": [
       "<div><style>\n",
       ".dataframe > thead > tr,\n",
       ".dataframe > tbody > tr {\n",
       "  text-align: right;\n",
       "  white-space: pre-wrap;\n",
       "}\n",
       "</style>\n",
       "<small>shape: (7, 6)</small><table border=\"1\" class=\"dataframe\"><thead><tr><th>Context_Name</th><th>Customer_MaritalStatus</th><th>Customer_CLV</th><th>Customer_City</th><th>IH_Web_Inbound_Accepted_pxLastGroupID</th><th>Decision_Outcome</th></tr><tr><td>str</td><td>str</td><td>i64</td><td>str</td><td>str</td><td>str</td></tr></thead><tbody><tr><td>&quot;FirstMortgage3…</td><td>&quot;Married&quot;</td><td>1460</td><td>&quot;Port Raoul&quot;</td><td>&quot;Account&quot;</td><td>&quot;Rejected&quot;</td></tr><tr><td>&quot;FirstMortgage3…</td><td>&quot;Unknown&quot;</td><td>669</td><td>&quot;Laurianneshire…</td><td>&quot;AutoLoans&quot;</td><td>&quot;Accepted&quot;</td></tr><tr><td>&quot;MoneyMarketSav…</td><td>&quot;No Resp+&quot;</td><td>1174</td><td>&quot;Jacobshaven&quot;</td><td>&quot;Account&quot;</td><td>&quot;Rejected&quot;</td></tr><tr><td>&quot;BasicChecking&quot;</td><td>&quot;Unknown&quot;</td><td>1476</td><td>&quot;Lindton&quot;</td><td>&quot;Account&quot;</td><td>&quot;Rejected&quot;</td></tr><tr><td>&quot;BasicChecking&quot;</td><td>&quot;Married&quot;</td><td>1211</td><td>&quot;South Jimmiesh…</td><td>&quot;DepositAccount…</td><td>&quot;Accepted&quot;</td></tr><tr><td>&quot;UPlusFinPerson…</td><td>&quot;No Resp+&quot;</td><td>533</td><td>&quot;Bergeville&quot;</td><td>null</td><td>&quot;Rejected&quot;</td></tr><tr><td>&quot;BasicChecking&quot;</td><td>&quot;No Resp+&quot;</td><td>555</td><td>&quot;Willyville&quot;</td><td>&quot;DepositAccount…</td><td>&quot;Rejected&quot;</td></tr></tbody></table></div>"
      ],
      "text/plain": [
       "shape: (7, 6)\n",
       "┌────────────────┬────────────────┬──────────────┬────────────────┬────────────────┬───────────────┐\n",
       "│ Context_Name   ┆ Customer_Marit ┆ Customer_CLV ┆ Customer_City  ┆ IH_Web_Inbound ┆ Decision_Outc │\n",
       "│ ---            ┆ alStatus       ┆ ---          ┆ ---            ┆ _Accepted_pxLa ┆ ome           │\n",
       "│ str            ┆ ---            ┆ i64          ┆ str            ┆ stGr…          ┆ ---           │\n",
       "│                ┆ str            ┆              ┆                ┆ ---            ┆ str           │\n",
       "│                ┆                ┆              ┆                ┆ str            ┆               │\n",
       "╞════════════════╪════════════════╪══════════════╪════════════════╪════════════════╪═══════════════╡\n",
       "│ FirstMortgage3 ┆ Married        ┆ 1460         ┆ Port Raoul     ┆ Account        ┆ Rejected      │\n",
       "│ 0yr            ┆                ┆              ┆                ┆                ┆               │\n",
       "│ FirstMortgage3 ┆ Unknown        ┆ 669          ┆ Laurianneshire ┆ AutoLoans      ┆ Accepted      │\n",
       "│ 0yr            ┆                ┆              ┆                ┆                ┆               │\n",
       "│ MoneyMarketSav ┆ No Resp+       ┆ 1174         ┆ Jacobshaven    ┆ Account        ┆ Rejected      │\n",
       "│ ingsAccount    ┆                ┆              ┆                ┆                ┆               │\n",
       "│ BasicChecking  ┆ Unknown        ┆ 1476         ┆ Lindton        ┆ Account        ┆ Rejected      │\n",
       "│ BasicChecking  ┆ Married        ┆ 1211         ┆ South          ┆ DepositAccount ┆ Accepted      │\n",
       "│                ┆                ┆              ┆ Jimmieshire    ┆ s              ┆               │\n",
       "│ UPlusFinPerson ┆ No Resp+       ┆ 533          ┆ Bergeville     ┆ null           ┆ Rejected      │\n",
       "│ al             ┆                ┆              ┆                ┆                ┆               │\n",
       "│ BasicChecking  ┆ No Resp+       ┆ 555          ┆ Willyville     ┆ DepositAccount ┆ Rejected      │\n",
       "│                ┆                ┆              ┆                ┆ s              ┆               │\n",
       "└────────────────┴────────────────┴──────────────┴────────────────┴────────────────┴───────────────┘"
      ]
     },
     "execution_count": 3,
     "metadata": {},
     "output_type": "execute_result"
    }
   ],
   "source": [
    "pl.read_ndjson('../../../../data/SampleHDS.json')"
   ]
  },
  {
   "attachments": {},
   "cell_type": "markdown",
   "metadata": {},
   "source": [
    "As you can see, this dataset consists of regular predictors, IH predictors, context keys and the outcome column. Additionally, some columns are numeric, others are strings. Let's first initialize the DataAnonymization class."
   ]
  },
  {
   "cell_type": "code",
   "execution_count": 4,
   "metadata": {
    "execution": {
     "iopub.execute_input": "2024-03-06T10:40:12.796706Z",
     "iopub.status.busy": "2024-03-06T10:40:12.796458Z",
     "iopub.status.idle": "2024-03-06T10:40:12.802690Z",
     "shell.execute_reply": "2024-03-06T10:40:12.802272Z"
    }
   },
   "outputs": [],
   "source": [
    "anon = DataAnonymization(hds_folder='../../../../data/')"
   ]
  },
  {
   "attachments": {},
   "cell_type": "markdown",
   "metadata": {},
   "source": [
    "By default, the class applies a set of anonymisation techniques:\n",
    "- Column names are remapped to a non-descriptive name\n",
    "- Categorical values are hashed with a random seed\n",
    "- Numerical values are normalized between 0 and 1\n",
    "- Outcomes are mapped to a binary outcome.\n",
    "\n",
    "To apply these techniques, simply call `.process()`:"
   ]
  },
  {
   "cell_type": "code",
   "execution_count": 5,
   "metadata": {
    "execution": {
     "iopub.execute_input": "2024-03-06T10:40:12.804758Z",
     "iopub.status.busy": "2024-03-06T10:40:12.804428Z",
     "iopub.status.idle": "2024-03-06T10:40:12.809720Z",
     "shell.execute_reply": "2024-03-06T10:40:12.809281Z"
    }
   },
   "outputs": [
    {
     "data": {
      "text/html": [
       "<div><style>\n",
       ".dataframe > thead > tr,\n",
       ".dataframe > tbody > tr {\n",
       "  text-align: right;\n",
       "  white-space: pre-wrap;\n",
       "}\n",
       "</style>\n",
       "<small>shape: (7, 7)</small><table border=\"1\" class=\"dataframe\"><thead><tr><th>filename</th><th>PREDICTOR_1</th><th>PREDICTOR_2</th><th>PREDICTOR_3</th><th>Context_Name</th><th>IH_PREDICTOR_0</th><th>Decision_Outcome</th></tr><tr><td>str</td><td>str</td><td>str</td><td>f64</td><td>str</td><td>str</td><td>bool</td></tr></thead><tbody><tr><td>&quot;../../../../da…</td><td>&quot;12282160648272…</td><td>&quot;96811073016194…</td><td>0.983033</td><td>&quot;72281088811978…</td><td>&quot;97676351947872…</td><td>false</td></tr><tr><td>&quot;../../../../da…</td><td>&quot;17537164543060…</td><td>&quot;33349244493434…</td><td>0.144221</td><td>&quot;72281088811978…</td><td>&quot;37997862568154…</td><td>true</td></tr><tr><td>&quot;../../../../da…</td><td>&quot;17240384350397…</td><td>&quot;58294996131252…</td><td>0.679745</td><td>&quot;82369571163127…</td><td>&quot;97676351947872…</td><td>false</td></tr><tr><td>&quot;../../../../da…</td><td>&quot;86355999620805…</td><td>&quot;33349244493434…</td><td>1.0</td><td>&quot;21165973243065…</td><td>&quot;97676351947872…</td><td>false</td></tr><tr><td>&quot;../../../../da…</td><td>&quot;15372748140427…</td><td>&quot;96811073016194…</td><td>0.718982</td><td>&quot;21165973243065…</td><td>&quot;23659886545116…</td><td>true</td></tr><tr><td>&quot;../../../../da…</td><td>&quot;30218271848382…</td><td>&quot;58294996131252…</td><td>0.0</td><td>&quot;52046771856783…</td><td>null</td><td>false</td></tr><tr><td>&quot;../../../../da…</td><td>&quot;12501051827076…</td><td>&quot;58294996131252…</td><td>0.02333</td><td>&quot;21165973243065…</td><td>&quot;23659886545116…</td><td>false</td></tr></tbody></table></div>"
      ],
      "text/plain": [
       "shape: (7, 7)\n",
       "┌──────────────┬─────────────┬─────────────┬─────────────┬─────────────┬─────────────┬─────────────┐\n",
       "│ filename     ┆ PREDICTOR_1 ┆ PREDICTOR_2 ┆ PREDICTOR_3 ┆ Context_Nam ┆ IH_PREDICTO ┆ Decision_Ou │\n",
       "│ ---          ┆ ---         ┆ ---         ┆ ---         ┆ e           ┆ R_0         ┆ tcome       │\n",
       "│ str          ┆ str         ┆ str         ┆ f64         ┆ ---         ┆ ---         ┆ ---         │\n",
       "│              ┆             ┆             ┆             ┆ str         ┆ str         ┆ bool        │\n",
       "╞══════════════╪═════════════╪═════════════╪═════════════╪═════════════╪═════════════╪═════════════╡\n",
       "│ ../../../../ ┆ 12282160648 ┆ 96811073016 ┆ 0.983033    ┆ 72281088811 ┆ 97676351947 ┆ false       │\n",
       "│ data/SampleH ┆ 272096831   ┆ 19434565    ┆             ┆ 97874792    ┆ 872286      ┆             │\n",
       "│ DS.json      ┆             ┆             ┆             ┆             ┆             ┆             │\n",
       "│ ../../../../ ┆ 17537164543 ┆ 33349244493 ┆ 0.144221    ┆ 72281088811 ┆ 37997862568 ┆ true        │\n",
       "│ data/SampleH ┆ 060815604   ┆ 4340803     ┆             ┆ 97874792    ┆ 15444311    ┆             │\n",
       "│ DS.json      ┆             ┆             ┆             ┆             ┆             ┆             │\n",
       "│ ../../../../ ┆ 17240384350 ┆ 58294996131 ┆ 0.679745    ┆ 82369571163 ┆ 97676351947 ┆ false       │\n",
       "│ data/SampleH ┆ 397329057   ┆ 25262416    ┆             ┆ 12751160    ┆ 872286      ┆             │\n",
       "│ DS.json      ┆             ┆             ┆             ┆             ┆             ┆             │\n",
       "│ ../../../../ ┆ 86355999620 ┆ 33349244493 ┆ 1.0         ┆ 21165973243 ┆ 97676351947 ┆ false       │\n",
       "│ data/SampleH ┆ 80542513    ┆ 4340803     ┆             ┆ 06553560    ┆ 872286      ┆             │\n",
       "│ DS.json      ┆             ┆             ┆             ┆             ┆             ┆             │\n",
       "│ ../../../../ ┆ 15372748140 ┆ 96811073016 ┆ 0.718982    ┆ 21165973243 ┆ 23659886545 ┆ true        │\n",
       "│ data/SampleH ┆ 427573881   ┆ 19434565    ┆             ┆ 06553560    ┆ 11614900    ┆             │\n",
       "│ DS.json      ┆             ┆             ┆             ┆             ┆             ┆             │\n",
       "│ ../../../../ ┆ 30218271848 ┆ 58294996131 ┆ 0.0         ┆ 52046771856 ┆ null        ┆ false       │\n",
       "│ data/SampleH ┆ 38283874    ┆ 25262416    ┆             ┆ 78360433    ┆             ┆             │\n",
       "│ DS.json      ┆             ┆             ┆             ┆             ┆             ┆             │\n",
       "│ ../../../../ ┆ 12501051827 ┆ 58294996131 ┆ 0.02333     ┆ 21165973243 ┆ 23659886545 ┆ false       │\n",
       "│ data/SampleH ┆ 076868474   ┆ 25262416    ┆             ┆ 06553560    ┆ 11614900    ┆             │\n",
       "│ DS.json      ┆             ┆             ┆             ┆             ┆             ┆             │\n",
       "└──────────────┴─────────────┴─────────────┴─────────────┴─────────────┴─────────────┴─────────────┘"
      ]
     },
     "execution_count": 5,
     "metadata": {},
     "output_type": "execute_result"
    }
   ],
   "source": [
    "anon.process()"
   ]
  },
  {
   "attachments": {},
   "cell_type": "markdown",
   "metadata": {},
   "source": [
    "To trace back the columns to their original names, the class also contains a mapping, which does not have to be provided."
   ]
  },
  {
   "cell_type": "code",
   "execution_count": 6,
   "metadata": {
    "execution": {
     "iopub.execute_input": "2024-03-06T10:40:12.811656Z",
     "iopub.status.busy": "2024-03-06T10:40:12.811342Z",
     "iopub.status.idle": "2024-03-06T10:40:12.814808Z",
     "shell.execute_reply": "2024-03-06T10:40:12.814346Z"
    }
   },
   "outputs": [
    {
     "data": {
      "text/plain": [
       "{'filename': 'filename',\n",
       " 'Customer_City': 'PREDICTOR_1',\n",
       " 'Customer_MaritalStatus': 'PREDICTOR_2',\n",
       " 'Customer_CLV': 'PREDICTOR_3',\n",
       " 'Context_Name': 'Context_Name',\n",
       " 'IH_Web_Inbound_Accepted_pxLastGroupID': 'IH_PREDICTOR_0',\n",
       " 'Decision_Outcome': 'Decision_Outcome'}"
      ]
     },
     "execution_count": 6,
     "metadata": {},
     "output_type": "execute_result"
    }
   ],
   "source": [
    "anon.column_mapping"
   ]
  },
  {
   "attachments": {},
   "cell_type": "markdown",
   "metadata": {},
   "source": [
    "## Configs\n",
    "\n",
    "Each capability can optionally be turned off - see below for the full list of config options, and refer to the API reference for the full description."
   ]
  },
  {
   "cell_type": "code",
   "execution_count": 7,
   "metadata": {
    "execution": {
     "iopub.execute_input": "2024-03-06T10:40:12.816822Z",
     "iopub.status.busy": "2024-03-06T10:40:12.816506Z",
     "iopub.status.idle": "2024-03-06T10:40:12.820505Z",
     "shell.execute_reply": "2024-03-06T10:40:12.819973Z"
    }
   },
   "outputs": [
    {
     "data": {
      "text/plain": [
       "{'config_file': None,\n",
       " 'hds_folder': '.',\n",
       " 'use_datamart': False,\n",
       " 'datamart_folder': 'datamart',\n",
       " 'output_format': 'ndjson',\n",
       " 'output_folder': 'output',\n",
       " 'mapping_file': 'mapping.map',\n",
       " 'mask_predictor_names': True,\n",
       " 'mask_context_key_names': False,\n",
       " 'mask_ih_names': True,\n",
       " 'mask_outcome_name': False,\n",
       " 'mask_predictor_values': True,\n",
       " 'mask_context_key_values': True,\n",
       " 'mask_ih_values': True,\n",
       " 'mask_outcome_values': True,\n",
       " 'context_key_label': 'Context_*',\n",
       " 'ih_label': 'IH_*',\n",
       " 'outcome_column': 'Decision_Outcome',\n",
       " 'positive_outcomes': ['Accepted', 'Clicked'],\n",
       " 'negative_outcomes': ['Rejected', 'Impression'],\n",
       " 'special_predictors': ['Decision_DecisionTime',\n",
       "  'Decision_OutcomeTime',\n",
       "  'Decision_Rank'],\n",
       " 'sample_percentage_schema_inferencing': 0.01}"
      ]
     },
     "execution_count": 7,
     "metadata": {},
     "output_type": "execute_result"
    }
   ],
   "source": [
    "dict(zip(Config.__init__.__code__.co_varnames[1:], Config.__init__.__defaults__))"
   ]
  },
  {
   "attachments": {},
   "cell_type": "markdown",
   "metadata": {},
   "source": [
    "It's easy to change these parameters by just passing the keyword arguments. In the following example, we\n",
    "- Keep the IH predictor names\n",
    "- Keep the outcome values\n",
    "- Keep the context key values\n",
    "- Keep the context key predictor names"
   ]
  },
  {
   "cell_type": "code",
   "execution_count": 8,
   "metadata": {
    "execution": {
     "iopub.execute_input": "2024-03-06T10:40:12.822529Z",
     "iopub.status.busy": "2024-03-06T10:40:12.822215Z",
     "iopub.status.idle": "2024-03-06T10:40:12.830369Z",
     "shell.execute_reply": "2024-03-06T10:40:12.829855Z"
    }
   },
   "outputs": [
    {
     "data": {
      "text/html": [
       "<div><style>\n",
       ".dataframe > thead > tr,\n",
       ".dataframe > tbody > tr {\n",
       "  text-align: right;\n",
       "  white-space: pre-wrap;\n",
       "}\n",
       "</style>\n",
       "<small>shape: (7, 7)</small><table border=\"1\" class=\"dataframe\"><thead><tr><th>filename</th><th>PREDICTOR_1</th><th>PREDICTOR_2</th><th>PREDICTOR_3</th><th>Context_Name</th><th>IH_Web_Inbound_Accepted_pxLastGroupID</th><th>Decision_Outcome</th></tr><tr><td>str</td><td>str</td><td>str</td><td>f64</td><td>str</td><td>str</td><td>str</td></tr></thead><tbody><tr><td>&quot;../../../../da…</td><td>&quot;62955542092035…</td><td>&quot;10472438145387…</td><td>0.983033</td><td>&quot;FirstMortgage3…</td><td>&quot;11130246963571…</td><td>&quot;Rejected&quot;</td></tr><tr><td>&quot;../../../../da…</td><td>&quot;13418720327839…</td><td>&quot;16409717170496…</td><td>0.144221</td><td>&quot;FirstMortgage3…</td><td>&quot;13548038849107…</td><td>&quot;Accepted&quot;</td></tr><tr><td>&quot;../../../../da…</td><td>&quot;10583826573941…</td><td>&quot;15878122754268…</td><td>0.679745</td><td>&quot;MoneyMarketSav…</td><td>&quot;11130246963571…</td><td>&quot;Rejected&quot;</td></tr><tr><td>&quot;../../../../da…</td><td>&quot;16997666636706…</td><td>&quot;16409717170496…</td><td>1.0</td><td>&quot;BasicChecking&quot;</td><td>&quot;11130246963571…</td><td>&quot;Rejected&quot;</td></tr><tr><td>&quot;../../../../da…</td><td>&quot;62077948103439…</td><td>&quot;10472438145387…</td><td>0.718982</td><td>&quot;BasicChecking&quot;</td><td>&quot;12215575307112…</td><td>&quot;Accepted&quot;</td></tr><tr><td>&quot;../../../../da…</td><td>&quot;14754853199538…</td><td>&quot;15878122754268…</td><td>0.0</td><td>&quot;UPlusFinPerson…</td><td>null</td><td>&quot;Rejected&quot;</td></tr><tr><td>&quot;../../../../da…</td><td>&quot;14734805733664…</td><td>&quot;15878122754268…</td><td>0.02333</td><td>&quot;BasicChecking&quot;</td><td>&quot;12215575307112…</td><td>&quot;Rejected&quot;</td></tr></tbody></table></div>"
      ],
      "text/plain": [
       "shape: (7, 7)\n",
       "┌──────────────┬─────────────┬─────────────┬─────────────┬─────────────┬─────────────┬─────────────┐\n",
       "│ filename     ┆ PREDICTOR_1 ┆ PREDICTOR_2 ┆ PREDICTOR_3 ┆ Context_Nam ┆ IH_Web_Inbo ┆ Decision_Ou │\n",
       "│ ---          ┆ ---         ┆ ---         ┆ ---         ┆ e           ┆ und_Accepte ┆ tcome       │\n",
       "│ str          ┆ str         ┆ str         ┆ f64         ┆ ---         ┆ d_pxLastGr… ┆ ---         │\n",
       "│              ┆             ┆             ┆             ┆ str         ┆ ---         ┆ str         │\n",
       "│              ┆             ┆             ┆             ┆             ┆ str         ┆             │\n",
       "╞══════════════╪═════════════╪═════════════╪═════════════╪═════════════╪═════════════╪═════════════╡\n",
       "│ ../../../../ ┆ 62955542092 ┆ 10472438145 ┆ 0.983033    ┆ FirstMortga ┆ 11130246963 ┆ Rejected    │\n",
       "│ data/SampleH ┆ 03542873    ┆ 387949579   ┆             ┆ ge30yr      ┆ 571954684   ┆             │\n",
       "│ DS.json      ┆             ┆             ┆             ┆             ┆             ┆             │\n",
       "│ ../../../../ ┆ 13418720327 ┆ 16409717170 ┆ 0.144221    ┆ FirstMortga ┆ 13548038849 ┆ Accepted    │\n",
       "│ data/SampleH ┆ 839108107   ┆ 496477201   ┆             ┆ ge30yr      ┆ 107551952   ┆             │\n",
       "│ DS.json      ┆             ┆             ┆             ┆             ┆             ┆             │\n",
       "│ ../../../../ ┆ 10583826573 ┆ 15878122754 ┆ 0.679745    ┆ MoneyMarket ┆ 11130246963 ┆ Rejected    │\n",
       "│ data/SampleH ┆ 94191192    ┆ 268434895   ┆             ┆ SavingsAcco ┆ 571954684   ┆             │\n",
       "│ DS.json      ┆             ┆             ┆             ┆ unt         ┆             ┆             │\n",
       "│ ../../../../ ┆ 16997666636 ┆ 16409717170 ┆ 1.0         ┆ BasicChecki ┆ 11130246963 ┆ Rejected    │\n",
       "│ data/SampleH ┆ 706792303   ┆ 496477201   ┆             ┆ ng          ┆ 571954684   ┆             │\n",
       "│ DS.json      ┆             ┆             ┆             ┆             ┆             ┆             │\n",
       "│ ../../../../ ┆ 62077948103 ┆ 10472438145 ┆ 0.718982    ┆ BasicChecki ┆ 12215575307 ┆ Accepted    │\n",
       "│ data/SampleH ┆ 43981748    ┆ 387949579   ┆             ┆ ng          ┆ 112597172   ┆             │\n",
       "│ DS.json      ┆             ┆             ┆             ┆             ┆             ┆             │\n",
       "│ ../../../../ ┆ 14754853199 ┆ 15878122754 ┆ 0.0         ┆ UPlusFinPer ┆ null        ┆ Rejected    │\n",
       "│ data/SampleH ┆ 538824668   ┆ 268434895   ┆             ┆ sonal       ┆             ┆             │\n",
       "│ DS.json      ┆             ┆             ┆             ┆             ┆             ┆             │\n",
       "│ ../../../../ ┆ 14734805733 ┆ 15878122754 ┆ 0.02333     ┆ BasicChecki ┆ 12215575307 ┆ Rejected    │\n",
       "│ data/SampleH ┆ 664803227   ┆ 268434895   ┆             ┆ ng          ┆ 112597172   ┆             │\n",
       "│ DS.json      ┆             ┆             ┆             ┆             ┆             ┆             │\n",
       "└──────────────┴─────────────┴─────────────┴─────────────┴─────────────┴─────────────┴─────────────┘"
      ]
     },
     "execution_count": 8,
     "metadata": {},
     "output_type": "execute_result"
    }
   ],
   "source": [
    "anon = DataAnonymization(\n",
    "    hds_folder=\"../../../../data/\",\n",
    "    mask_ih_names=False,\n",
    "    mask_outcome_values=False,\n",
    "    mask_context_key_values=False,\n",
    "    mask_context_key_names=False,\n",
    ")\n",
    "anon.process()\n"
   ]
  },
  {
   "attachments": {},
   "cell_type": "markdown",
   "metadata": {},
   "source": [
    "The configs can also be written and read as such:"
   ]
  },
  {
   "cell_type": "code",
   "execution_count": 9,
   "metadata": {
    "execution": {
     "iopub.execute_input": "2024-03-06T10:40:12.832395Z",
     "iopub.status.busy": "2024-03-06T10:40:12.832088Z",
     "iopub.status.idle": "2024-03-06T10:40:12.834767Z",
     "shell.execute_reply": "2024-03-06T10:40:12.834331Z"
    }
   },
   "outputs": [],
   "source": [
    "anon.config.save_to_config_file('config.json')"
   ]
  },
  {
   "cell_type": "code",
   "execution_count": 10,
   "metadata": {
    "execution": {
     "iopub.execute_input": "2024-03-06T10:40:12.836829Z",
     "iopub.status.busy": "2024-03-06T10:40:12.836431Z",
     "iopub.status.idle": "2024-03-06T10:40:12.845047Z",
     "shell.execute_reply": "2024-03-06T10:40:12.844599Z"
    }
   },
   "outputs": [
    {
     "data": {
      "text/html": [
       "<div><style>\n",
       ".dataframe > thead > tr,\n",
       ".dataframe > tbody > tr {\n",
       "  text-align: right;\n",
       "  white-space: pre-wrap;\n",
       "}\n",
       "</style>\n",
       "<small>shape: (7, 7)</small><table border=\"1\" class=\"dataframe\"><thead><tr><th>filename</th><th>PREDICTOR_1</th><th>PREDICTOR_2</th><th>PREDICTOR_3</th><th>Context_Name</th><th>IH_Web_Inbound_Accepted_pxLastGroupID</th><th>Decision_Outcome</th></tr><tr><td>str</td><td>str</td><td>str</td><td>f64</td><td>str</td><td>str</td><td>str</td></tr></thead><tbody><tr><td>&quot;../../../../da…</td><td>&quot;45250729856352…</td><td>&quot;16903288100715…</td><td>0.983033</td><td>&quot;FirstMortgage3…</td><td>&quot;13882963780534…</td><td>&quot;Rejected&quot;</td></tr><tr><td>&quot;../../../../da…</td><td>&quot;43854872127197…</td><td>&quot;93657959982300…</td><td>0.144221</td><td>&quot;FirstMortgage3…</td><td>&quot;10649885665659…</td><td>&quot;Accepted&quot;</td></tr><tr><td>&quot;../../../../da…</td><td>&quot;10912614758745…</td><td>&quot;16592978204138…</td><td>0.679745</td><td>&quot;MoneyMarketSav…</td><td>&quot;13882963780534…</td><td>&quot;Rejected&quot;</td></tr><tr><td>&quot;../../../../da…</td><td>&quot;10237966678350…</td><td>&quot;93657959982300…</td><td>1.0</td><td>&quot;BasicChecking&quot;</td><td>&quot;13882963780534…</td><td>&quot;Rejected&quot;</td></tr><tr><td>&quot;../../../../da…</td><td>&quot;12455809506491…</td><td>&quot;16903288100715…</td><td>0.718982</td><td>&quot;BasicChecking&quot;</td><td>&quot;22255685690488…</td><td>&quot;Accepted&quot;</td></tr><tr><td>&quot;../../../../da…</td><td>&quot;21032778999430…</td><td>&quot;16592978204138…</td><td>0.0</td><td>&quot;UPlusFinPerson…</td><td>null</td><td>&quot;Rejected&quot;</td></tr><tr><td>&quot;../../../../da…</td><td>&quot;13130428708078…</td><td>&quot;16592978204138…</td><td>0.02333</td><td>&quot;BasicChecking&quot;</td><td>&quot;22255685690488…</td><td>&quot;Rejected&quot;</td></tr></tbody></table></div>"
      ],
      "text/plain": [
       "shape: (7, 7)\n",
       "┌──────────────┬─────────────┬─────────────┬─────────────┬─────────────┬─────────────┬─────────────┐\n",
       "│ filename     ┆ PREDICTOR_1 ┆ PREDICTOR_2 ┆ PREDICTOR_3 ┆ Context_Nam ┆ IH_Web_Inbo ┆ Decision_Ou │\n",
       "│ ---          ┆ ---         ┆ ---         ┆ ---         ┆ e           ┆ und_Accepte ┆ tcome       │\n",
       "│ str          ┆ str         ┆ str         ┆ f64         ┆ ---         ┆ d_pxLastGr… ┆ ---         │\n",
       "│              ┆             ┆             ┆             ┆ str         ┆ ---         ┆ str         │\n",
       "│              ┆             ┆             ┆             ┆             ┆ str         ┆             │\n",
       "╞══════════════╪═════════════╪═════════════╪═════════════╪═════════════╪═════════════╪═════════════╡\n",
       "│ ../../../../ ┆ 45250729856 ┆ 16903288100 ┆ 0.983033    ┆ FirstMortga ┆ 13882963780 ┆ Rejected    │\n",
       "│ data/SampleH ┆ 35275710    ┆ 715712054   ┆             ┆ ge30yr      ┆ 534685473   ┆             │\n",
       "│ DS.json      ┆             ┆             ┆             ┆             ┆             ┆             │\n",
       "│ ../../../../ ┆ 43854872127 ┆ 93657959982 ┆ 0.144221    ┆ FirstMortga ┆ 10649885665 ┆ Accepted    │\n",
       "│ data/SampleH ┆ 1971708     ┆ 30014564    ┆             ┆ ge30yr      ┆ 659308130   ┆             │\n",
       "│ DS.json      ┆             ┆             ┆             ┆             ┆             ┆             │\n",
       "│ ../../../../ ┆ 10912614758 ┆ 16592978204 ┆ 0.679745    ┆ MoneyMarket ┆ 13882963780 ┆ Rejected    │\n",
       "│ data/SampleH ┆ 745323073   ┆ 138929626   ┆             ┆ SavingsAcco ┆ 534685473   ┆             │\n",
       "│ DS.json      ┆             ┆             ┆             ┆ unt         ┆             ┆             │\n",
       "│ ../../../../ ┆ 10237966678 ┆ 93657959982 ┆ 1.0         ┆ BasicChecki ┆ 13882963780 ┆ Rejected    │\n",
       "│ data/SampleH ┆ 350618733   ┆ 30014564    ┆             ┆ ng          ┆ 534685473   ┆             │\n",
       "│ DS.json      ┆             ┆             ┆             ┆             ┆             ┆             │\n",
       "│ ../../../../ ┆ 12455809506 ┆ 16903288100 ┆ 0.718982    ┆ BasicChecki ┆ 22255685690 ┆ Accepted    │\n",
       "│ data/SampleH ┆ 491651444   ┆ 715712054   ┆             ┆ ng          ┆ 48820052    ┆             │\n",
       "│ DS.json      ┆             ┆             ┆             ┆             ┆             ┆             │\n",
       "│ ../../../../ ┆ 21032778999 ┆ 16592978204 ┆ 0.0         ┆ UPlusFinPer ┆ null        ┆ Rejected    │\n",
       "│ data/SampleH ┆ 43032488    ┆ 138929626   ┆             ┆ sonal       ┆             ┆             │\n",
       "│ DS.json      ┆             ┆             ┆             ┆             ┆             ┆             │\n",
       "│ ../../../../ ┆ 13130428708 ┆ 16592978204 ┆ 0.02333     ┆ BasicChecki ┆ 22255685690 ┆ Rejected    │\n",
       "│ data/SampleH ┆ 07853096    ┆ 138929626   ┆             ┆ ng          ┆ 48820052    ┆             │\n",
       "│ DS.json      ┆             ┆             ┆             ┆             ┆             ┆             │\n",
       "└──────────────┴─────────────┴─────────────┴─────────────┴─────────────┴─────────────┴─────────────┘"
      ]
     },
     "execution_count": 10,
     "metadata": {},
     "output_type": "execute_result"
    }
   ],
   "source": [
    "anon = DataAnonymization(config=Config(config_file='config.json'))\n",
    "anon.process()"
   ]
  },
  {
   "attachments": {},
   "cell_type": "markdown",
   "metadata": {},
   "source": [
    "## Exporting\n",
    "Two functions export:\n",
    "- `create_mapping_file()` writes the mapping file of the predictor names\n",
    "- `write_to_output()` writes the processed dataframe to disk\n",
    "\n",
    "Write to output accepts the following extensions: `[\"ndjson\", \"parquet\", \"arrow\", \"csv\"]`"
   ]
  },
  {
   "cell_type": "code",
   "execution_count": 11,
   "metadata": {
    "execution": {
     "iopub.execute_input": "2024-03-06T10:40:12.847340Z",
     "iopub.status.busy": "2024-03-06T10:40:12.846922Z",
     "iopub.status.idle": "2024-03-06T10:40:12.850492Z",
     "shell.execute_reply": "2024-03-06T10:40:12.849991Z"
    }
   },
   "outputs": [
    {
     "name": "stdout",
     "output_type": "stream",
     "text": [
      "filename=filename\n",
      "Customer_City=PREDICTOR_1\n",
      "Customer_MaritalStatus=PREDICTOR_2\n",
      "Customer_CLV=PREDICTOR_3\n",
      "Context_Name=Context_Name\n",
      "IH_Web_Inbound_Accepted_pxLastGroupID=IH_Web_Inbound_Accepted_pxLastGroupID\n",
      "Decision_Outcome=Decision_Outcome\n",
      "\n"
     ]
    }
   ],
   "source": [
    "anon.create_mapping_file()\n",
    "with open('mapping.map') as f:\n",
    "    print(f.read())"
   ]
  },
  {
   "cell_type": "code",
   "execution_count": 12,
   "metadata": {
    "execution": {
     "iopub.execute_input": "2024-03-06T10:40:12.852395Z",
     "iopub.status.busy": "2024-03-06T10:40:12.852112Z",
     "iopub.status.idle": "2024-03-06T10:40:12.855649Z",
     "shell.execute_reply": "2024-03-06T10:40:12.855149Z"
    }
   },
   "outputs": [],
   "source": [
    "anon.write_to_output(ext='arrow')"
   ]
  },
  {
   "cell_type": "code",
   "execution_count": 13,
   "metadata": {
    "execution": {
     "iopub.execute_input": "2024-03-06T10:40:12.857542Z",
     "iopub.status.busy": "2024-03-06T10:40:12.857258Z",
     "iopub.status.idle": "2024-03-06T10:40:12.861571Z",
     "shell.execute_reply": "2024-03-06T10:40:12.861073Z"
    }
   },
   "outputs": [
    {
     "data": {
      "text/html": [
       "<div><style>\n",
       ".dataframe > thead > tr,\n",
       ".dataframe > tbody > tr {\n",
       "  text-align: right;\n",
       "  white-space: pre-wrap;\n",
       "}\n",
       "</style>\n",
       "<small>shape: (7, 6)</small><table border=\"1\" class=\"dataframe\"><thead><tr><th>PREDICTOR_1</th><th>PREDICTOR_2</th><th>PREDICTOR_3</th><th>Context_Name</th><th>IH_Web_Inbound_Accepted_pxLastGroupID</th><th>Decision_Outcome</th></tr><tr><td>str</td><td>str</td><td>f64</td><td>str</td><td>str</td><td>str</td></tr></thead><tbody><tr><td>&quot;16237954115938…</td><td>&quot;57428555971764…</td><td>0.983033</td><td>&quot;FirstMortgage3…</td><td>&quot;26344131665267…</td><td>&quot;Rejected&quot;</td></tr><tr><td>&quot;33358100700772…</td><td>&quot;70428279814874…</td><td>0.144221</td><td>&quot;FirstMortgage3…</td><td>&quot;72110525302930…</td><td>&quot;Accepted&quot;</td></tr><tr><td>&quot;84964393491317…</td><td>&quot;72686206789264…</td><td>0.679745</td><td>&quot;MoneyMarketSav…</td><td>&quot;26344131665267…</td><td>&quot;Rejected&quot;</td></tr><tr><td>&quot;71936306528711…</td><td>&quot;70428279814874…</td><td>1.0</td><td>&quot;BasicChecking&quot;</td><td>&quot;26344131665267…</td><td>&quot;Rejected&quot;</td></tr><tr><td>&quot;77435990562047…</td><td>&quot;57428555971764…</td><td>0.718982</td><td>&quot;BasicChecking&quot;</td><td>&quot;77888448478260…</td><td>&quot;Accepted&quot;</td></tr><tr><td>&quot;70661999552005…</td><td>&quot;72686206789264…</td><td>0.0</td><td>&quot;UPlusFinPerson…</td><td>null</td><td>&quot;Rejected&quot;</td></tr><tr><td>&quot;14238824900806…</td><td>&quot;72686206789264…</td><td>0.02333</td><td>&quot;BasicChecking&quot;</td><td>&quot;77888448478260…</td><td>&quot;Rejected&quot;</td></tr></tbody></table></div>"
      ],
      "text/plain": [
       "shape: (7, 6)\n",
       "┌────────────────┬────────────────┬─────────────┬────────────────┬────────────────┬────────────────┐\n",
       "│ PREDICTOR_1    ┆ PREDICTOR_2    ┆ PREDICTOR_3 ┆ Context_Name   ┆ IH_Web_Inbound ┆ Decision_Outco │\n",
       "│ ---            ┆ ---            ┆ ---         ┆ ---            ┆ _Accepted_pxLa ┆ me             │\n",
       "│ str            ┆ str            ┆ f64         ┆ str            ┆ stGr…          ┆ ---            │\n",
       "│                ┆                ┆             ┆                ┆ ---            ┆ str            │\n",
       "│                ┆                ┆             ┆                ┆ str            ┆                │\n",
       "╞════════════════╪════════════════╪═════════════╪════════════════╪════════════════╪════════════════╡\n",
       "│ 16237954115938 ┆ 57428555971764 ┆ 0.983033    ┆ FirstMortgage3 ┆ 26344131665267 ┆ Rejected       │\n",
       "│ 869351         ┆ 48930          ┆             ┆ 0yr            ┆ 09559          ┆                │\n",
       "│ 33358100700772 ┆ 70428279814874 ┆ 0.144221    ┆ FirstMortgage3 ┆ 72110525302930 ┆ Accepted       │\n",
       "│ 20132          ┆ 70352          ┆             ┆ 0yr            ┆ 63827          ┆                │\n",
       "│ 84964393491317 ┆ 72686206789264 ┆ 0.679745    ┆ MoneyMarketSav ┆ 26344131665267 ┆ Rejected       │\n",
       "│ 26212          ┆ 9833           ┆             ┆ ingsAccount    ┆ 09559          ┆                │\n",
       "│ 71936306528711 ┆ 70428279814874 ┆ 1.0         ┆ BasicChecking  ┆ 26344131665267 ┆ Rejected       │\n",
       "│ 81371          ┆ 70352          ┆             ┆                ┆ 09559          ┆                │\n",
       "│ 77435990562047 ┆ 57428555971764 ┆ 0.718982    ┆ BasicChecking  ┆ 77888448478260 ┆ Accepted       │\n",
       "│ 66807          ┆ 48930          ┆             ┆                ┆ 47606          ┆                │\n",
       "│ 70661999552005 ┆ 72686206789264 ┆ 0.0         ┆ UPlusFinPerson ┆ null           ┆ Rejected       │\n",
       "│ 79635          ┆ 9833           ┆             ┆ al             ┆                ┆                │\n",
       "│ 14238824900806 ┆ 72686206789264 ┆ 0.02333     ┆ BasicChecking  ┆ 77888448478260 ┆ Rejected       │\n",
       "│ 105573         ┆ 9833           ┆             ┆                ┆ 47606          ┆                │\n",
       "└────────────────┴────────────────┴─────────────┴────────────────┴────────────────┴────────────────┘"
      ]
     },
     "execution_count": 13,
     "metadata": {},
     "output_type": "execute_result"
    }
   ],
   "source": [
    "pl.read_ipc('output/hds.arrow')"
   ]
  },
  {
   "attachments": {},
   "cell_type": "markdown",
   "metadata": {
    "nbsphinx": "hidden"
   },
   "source": [
    "## Advanced: Hash fuctions\n",
    "\n",
    "By default, we use [the same hashing algorithm Polars](https://pola-rs.github.io/polars/py-polars/html/reference/expressions/api/polars.Expr.hash.html#polars.Expr.hash) uses: [xxhash](https://github.com/Cyan4973/xxHash), as implemented [here](https://github.com/pola-rs/polars/blob/3f287f370b3c388ed2f3f218b2c096382548136f/polars/polars-core/src/vector_hasher.rs#L266). xxhash is fast to compute, and you can check its performance in collision, dispersion and randomness [here](https://github.com/Cyan4973/xxHash/tree/dev/tests). \n",
    "\n",
    "xxhash accepts four distinct seeds, but by default we set the seeds to `0`. It is possible to set the `seed` argument of the `process()` function to `'random'`, which will set all four seeds to a random integer between `0` and `1000000000`. Alternatively, it is possible to supply the four seeds manually with arguments `seed`, `seed_1`, `seed_2` and `seed_3`. \n",
    "\n",
    "If the xxhash with (random) seed(s) is not deemed sufficiently secure, it is possible to use your own hashing algorithm.\n",
    "\n",
    "Note that since we're now running python code and not native Polars code anymore, this will be _significantly_ slower. Nonetheless, it is possible.\n",
    "\n",
    "Just as an example - this is how one would use sha3_256:"
   ]
  },
  {
   "cell_type": "code",
   "execution_count": 14,
   "metadata": {
    "execution": {
     "iopub.execute_input": "2024-03-06T10:40:12.863521Z",
     "iopub.status.busy": "2024-03-06T10:40:12.863213Z",
     "iopub.status.idle": "2024-03-06T10:40:12.870527Z",
     "shell.execute_reply": "2024-03-06T10:40:12.869992Z"
    },
    "nbsphinx": "hidden"
   },
   "outputs": [
    {
     "data": {
      "text/html": [
       "<div><style>\n",
       ".dataframe > thead > tr,\n",
       ".dataframe > tbody > tr {\n",
       "  text-align: right;\n",
       "  white-space: pre-wrap;\n",
       "}\n",
       "</style>\n",
       "<small>shape: (7, 7)</small><table border=\"1\" class=\"dataframe\"><thead><tr><th>filename</th><th>PREDICTOR_1</th><th>PREDICTOR_2</th><th>PREDICTOR_3</th><th>Context_Name</th><th>IH_Web_Inbound_Accepted_pxLastGroupID</th><th>Decision_Outcome</th></tr><tr><td>str</td><td>str</td><td>str</td><td>f64</td><td>str</td><td>str</td><td>str</td></tr></thead><tbody><tr><td>&quot;../../../../da…</td><td>&quot;c73023dda51de1…</td><td>&quot;af486bc1815c72…</td><td>0.983033</td><td>&quot;FirstMortgage3…</td><td>&quot;2513d0e24d8d02…</td><td>&quot;Rejected&quot;</td></tr><tr><td>&quot;../../../../da…</td><td>&quot;5414b197fb87b3…</td><td>&quot;3cdf7b1ae1342e…</td><td>0.144221</td><td>&quot;FirstMortgage3…</td><td>&quot;8b55bf62fc2ecd…</td><td>&quot;Accepted&quot;</td></tr><tr><td>&quot;../../../../da…</td><td>&quot;892f5d61a9215e…</td><td>&quot;806ef34eb8237f…</td><td>0.679745</td><td>&quot;MoneyMarketSav…</td><td>&quot;2513d0e24d8d02…</td><td>&quot;Rejected&quot;</td></tr><tr><td>&quot;../../../../da…</td><td>&quot;c3aa807d9e927a…</td><td>&quot;3cdf7b1ae1342e…</td><td>1.0</td><td>&quot;BasicChecking&quot;</td><td>&quot;2513d0e24d8d02…</td><td>&quot;Rejected&quot;</td></tr><tr><td>&quot;../../../../da…</td><td>&quot;c2d492f9a05073…</td><td>&quot;af486bc1815c72…</td><td>0.718982</td><td>&quot;BasicChecking&quot;</td><td>&quot;1cd082ecbd5dd9…</td><td>&quot;Accepted&quot;</td></tr><tr><td>&quot;../../../../da…</td><td>&quot;b21059221605c4…</td><td>&quot;806ef34eb8237f…</td><td>0.0</td><td>&quot;UPlusFinPerson…</td><td>null</td><td>&quot;Rejected&quot;</td></tr><tr><td>&quot;../../../../da…</td><td>&quot;80cbe489dcecd4…</td><td>&quot;806ef34eb8237f…</td><td>0.02333</td><td>&quot;BasicChecking&quot;</td><td>&quot;1cd082ecbd5dd9…</td><td>&quot;Rejected&quot;</td></tr></tbody></table></div>"
      ],
      "text/plain": [
       "shape: (7, 7)\n",
       "┌──────────────┬─────────────┬─────────────┬─────────────┬─────────────┬─────────────┬─────────────┐\n",
       "│ filename     ┆ PREDICTOR_1 ┆ PREDICTOR_2 ┆ PREDICTOR_3 ┆ Context_Nam ┆ IH_Web_Inbo ┆ Decision_Ou │\n",
       "│ ---          ┆ ---         ┆ ---         ┆ ---         ┆ e           ┆ und_Accepte ┆ tcome       │\n",
       "│ str          ┆ str         ┆ str         ┆ f64         ┆ ---         ┆ d_pxLastGr… ┆ ---         │\n",
       "│              ┆             ┆             ┆             ┆ str         ┆ ---         ┆ str         │\n",
       "│              ┆             ┆             ┆             ┆             ┆ str         ┆             │\n",
       "╞══════════════╪═════════════╪═════════════╪═════════════╪═════════════╪═════════════╪═════════════╡\n",
       "│ ../../../../ ┆ c73023dda51 ┆ af486bc1815 ┆ 0.983033    ┆ FirstMortga ┆ 2513d0e24d8 ┆ Rejected    │\n",
       "│ data/SampleH ┆ de1b84f7af7 ┆ c726c357890 ┆             ┆ ge30yr      ┆ d0214eda4fb ┆             │\n",
       "│ DS.json      ┆ 74fd6f8c73… ┆ ac2a40ba98… ┆             ┆             ┆ 454447162b… ┆             │\n",
       "│ ../../../../ ┆ 5414b197fb8 ┆ 3cdf7b1ae13 ┆ 0.144221    ┆ FirstMortga ┆ 8b55bf62fc2 ┆ Accepted    │\n",
       "│ data/SampleH ┆ 7b3f2e350d7 ┆ 42ef979ea2a ┆             ┆ ge30yr      ┆ ecd16af97d4 ┆             │\n",
       "│ DS.json      ┆ a74a840a81… ┆ 782541ad05… ┆             ┆             ┆ 8e469362cf… ┆             │\n",
       "│ ../../../../ ┆ 892f5d61a92 ┆ 806ef34eb82 ┆ 0.679745    ┆ MoneyMarket ┆ 2513d0e24d8 ┆ Rejected    │\n",
       "│ data/SampleH ┆ 15ef985f3fa ┆ 37f4db85004 ┆             ┆ SavingsAcco ┆ d0214eda4fb ┆             │\n",
       "│ DS.json      ┆ 293d51c92e… ┆ e96dc471d8… ┆             ┆ unt         ┆ 454447162b… ┆             │\n",
       "│ ../../../../ ┆ c3aa807d9e9 ┆ 3cdf7b1ae13 ┆ 1.0         ┆ BasicChecki ┆ 2513d0e24d8 ┆ Rejected    │\n",
       "│ data/SampleH ┆ 27ae426a89e ┆ 42ef979ea2a ┆             ┆ ng          ┆ d0214eda4fb ┆             │\n",
       "│ DS.json      ┆ 76a12b9160… ┆ 782541ad05… ┆             ┆             ┆ 454447162b… ┆             │\n",
       "│ ../../../../ ┆ c2d492f9a05 ┆ af486bc1815 ┆ 0.718982    ┆ BasicChecki ┆ 1cd082ecbd5 ┆ Accepted    │\n",
       "│ data/SampleH ┆ 07327c14285 ┆ c726c357890 ┆             ┆ ng          ┆ dd95383b104 ┆             │\n",
       "│ DS.json      ┆ e94e8ee54c… ┆ ac2a40ba98… ┆             ┆             ┆ 65e395c1f7… ┆             │\n",
       "│ ../../../../ ┆ b2105922160 ┆ 806ef34eb82 ┆ 0.0         ┆ UPlusFinPer ┆ null        ┆ Rejected    │\n",
       "│ data/SampleH ┆ 5c49757cfe0 ┆ 37f4db85004 ┆             ┆ sonal       ┆             ┆             │\n",
       "│ DS.json      ┆ fee45640db… ┆ e96dc471d8… ┆             ┆             ┆             ┆             │\n",
       "│ ../../../../ ┆ 80cbe489dce ┆ 806ef34eb82 ┆ 0.02333     ┆ BasicChecki ┆ 1cd082ecbd5 ┆ Rejected    │\n",
       "│ data/SampleH ┆ cd4b9304898 ┆ 37f4db85004 ┆             ┆ ng          ┆ dd95383b104 ┆             │\n",
       "│ DS.json      ┆ c9986afeeb… ┆ e96dc471d8… ┆             ┆             ┆ 65e395c1f7… ┆             │\n",
       "└──────────────┴─────────────┴─────────────┴─────────────┴─────────────┴─────────────┴─────────────┘"
      ]
     },
     "execution_count": 14,
     "metadata": {},
     "output_type": "execute_result"
    }
   ],
   "source": [
    "from hashlib import sha3_256\n",
    "\n",
    "anon.process(algorithm=lambda x: sha3_256(x.encode()).hexdigest())"
   ]
  }
 ],
 "metadata": {
  "kernelspec": {
   "display_name": "Python 3",
   "language": "python",
   "name": "python3"
  },
  "language_info": {
   "codemirror_mode": {
    "name": "ipython",
    "version": 3
   },
   "file_extension": ".py",
   "mimetype": "text/x-python",
   "name": "python",
   "nbconvert_exporter": "python",
   "pygments_lexer": "ipython3",
   "version": "3.11.8"
  },
  "vscode": {
   "interpreter": {
    "hash": "aee8b7b246df8f9039afb4144a1f6fd8d2ca17a180786b69acc140d282b71a49"
   }
  }
 },
 "nbformat": 4,
 "nbformat_minor": 2
}
