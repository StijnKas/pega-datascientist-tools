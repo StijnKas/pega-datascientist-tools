{
 "cells": [
  {
   "attachments": {},
   "cell_type": "markdown",
   "metadata": {},
   "source": [
    "# Data Anonymization\n",
    "\n",
    "In Pega CDH 8.5 and up, it's now possible to record the historical data as seen by the Adaptive Models. See [this academy challenge](https://academy.pega.com/challenge/exporting-historical-data/v4) for reference. This historical data can be further used to experiment with offline models, but also to fine-tune the OOTB Gradient Boosting model. However, sharing this information with Pega can be sensitive as it contains raw predictor data. \n",
    "\n",
    "To this end, we provide a simple and transparent script to fully anonimize this dataset.\n",
    "\n",
    "The DataAnonymization script is now part of pdstools, and you can import it directly as such."
   ]
  },
  {
   "cell_type": "code",
   "execution_count": 1,
   "metadata": {
    "execution": {
     "iopub.execute_input": "2023-12-20T14:10:40.034066Z",
     "iopub.status.busy": "2023-12-20T14:10:40.033569Z",
     "iopub.status.idle": "2023-12-20T14:10:40.102317Z",
     "shell.execute_reply": "2023-12-20T14:10:40.101791Z"
    },
    "nbsphinx": "hidden"
   },
   "outputs": [],
   "source": [
    "# These lines are only for rendering in the docs, and are hidden through Jupyter tags\n",
    "# Do not run if you're running the notebook seperately\n",
    "\n",
    "import os  \n",
    "import sys\n",
    "import plotly.io as pio\n",
    "pio.renderers.default = \"notebook_connected\"\n",
    "\n",
    "sys.path.append(\"../../../\")\n",
    "sys.path.append('../../python')"
   ]
  },
  {
   "cell_type": "code",
   "execution_count": 2,
   "metadata": {
    "execution": {
     "iopub.execute_input": "2023-12-20T14:10:40.104728Z",
     "iopub.status.busy": "2023-12-20T14:10:40.104393Z",
     "iopub.status.idle": "2023-12-20T14:10:41.095528Z",
     "shell.execute_reply": "2023-12-20T14:10:41.095027Z"
    }
   },
   "outputs": [],
   "source": [
    "from pdstools import ADMDatamart\n",
    "from pdstools import Config, DataAnonymization\n",
    "import polars as pl"
   ]
  },
  {
   "attachments": {},
   "cell_type": "markdown",
   "metadata": {},
   "source": [
    "## Input data\n",
    "\n",
    "To demonstrate this process, we're going to anonymise this toy example dataframe:"
   ]
  },
  {
   "cell_type": "code",
   "execution_count": 3,
   "metadata": {
    "execution": {
     "iopub.execute_input": "2023-12-20T14:10:41.098171Z",
     "iopub.status.busy": "2023-12-20T14:10:41.097691Z",
     "iopub.status.idle": "2023-12-20T14:10:41.106587Z",
     "shell.execute_reply": "2023-12-20T14:10:41.106030Z"
    }
   },
   "outputs": [
    {
     "data": {
      "text/html": [
       "<div><style>\n",
       ".dataframe > thead > tr > th,\n",
       ".dataframe > tbody > tr > td {\n",
       "  text-align: right;\n",
       "  white-space: pre-wrap;\n",
       "}\n",
       "</style>\n",
       "<small>shape: (7, 6)</small><table border=\"1\" class=\"dataframe\"><thead><tr><th>Context_Name</th><th>Customer_MaritalStatus</th><th>Customer_CLV</th><th>Customer_City</th><th>IH_Web_Inbound_Accepted_pxLastGroupID</th><th>Decision_Outcome</th></tr><tr><td>str</td><td>str</td><td>i64</td><td>str</td><td>str</td><td>str</td></tr></thead><tbody><tr><td>&quot;FirstMortgage3…</td><td>&quot;Married&quot;</td><td>1460</td><td>&quot;Port Raoul&quot;</td><td>&quot;Account&quot;</td><td>&quot;Rejected&quot;</td></tr><tr><td>&quot;FirstMortgage3…</td><td>&quot;Unknown&quot;</td><td>669</td><td>&quot;Laurianneshire…</td><td>&quot;AutoLoans&quot;</td><td>&quot;Accepted&quot;</td></tr><tr><td>&quot;MoneyMarketSav…</td><td>&quot;No Resp+&quot;</td><td>1174</td><td>&quot;Jacobshaven&quot;</td><td>&quot;Account&quot;</td><td>&quot;Rejected&quot;</td></tr><tr><td>&quot;BasicChecking&quot;</td><td>&quot;Unknown&quot;</td><td>1476</td><td>&quot;Lindton&quot;</td><td>&quot;Account&quot;</td><td>&quot;Rejected&quot;</td></tr><tr><td>&quot;BasicChecking&quot;</td><td>&quot;Married&quot;</td><td>1211</td><td>&quot;South Jimmiesh…</td><td>&quot;DepositAccount…</td><td>&quot;Accepted&quot;</td></tr><tr><td>&quot;UPlusFinPerson…</td><td>&quot;No Resp+&quot;</td><td>533</td><td>&quot;Bergeville&quot;</td><td>null</td><td>&quot;Rejected&quot;</td></tr><tr><td>&quot;BasicChecking&quot;</td><td>&quot;No Resp+&quot;</td><td>555</td><td>&quot;Willyville&quot;</td><td>&quot;DepositAccount…</td><td>&quot;Rejected&quot;</td></tr></tbody></table></div>"
      ],
      "text/plain": [
       "shape: (7, 6)\n",
       "┌────────────────┬────────────────┬──────────────┬────────────────┬────────────────┬───────────────┐\n",
       "│ Context_Name   ┆ Customer_Marit ┆ Customer_CLV ┆ Customer_City  ┆ IH_Web_Inbound ┆ Decision_Outc │\n",
       "│ ---            ┆ alStatus       ┆ ---          ┆ ---            ┆ _Accepted_pxLa ┆ ome           │\n",
       "│ str            ┆ ---            ┆ i64          ┆ str            ┆ stGr…          ┆ ---           │\n",
       "│                ┆ str            ┆              ┆                ┆ ---            ┆ str           │\n",
       "│                ┆                ┆              ┆                ┆ str            ┆               │\n",
       "╞════════════════╪════════════════╪══════════════╪════════════════╪════════════════╪═══════════════╡\n",
       "│ FirstMortgage3 ┆ Married        ┆ 1460         ┆ Port Raoul     ┆ Account        ┆ Rejected      │\n",
       "│ 0yr            ┆                ┆              ┆                ┆                ┆               │\n",
       "│ FirstMortgage3 ┆ Unknown        ┆ 669          ┆ Laurianneshire ┆ AutoLoans      ┆ Accepted      │\n",
       "│ 0yr            ┆                ┆              ┆                ┆                ┆               │\n",
       "│ MoneyMarketSav ┆ No Resp+       ┆ 1174         ┆ Jacobshaven    ┆ Account        ┆ Rejected      │\n",
       "│ ingsAccount    ┆                ┆              ┆                ┆                ┆               │\n",
       "│ BasicChecking  ┆ Unknown        ┆ 1476         ┆ Lindton        ┆ Account        ┆ Rejected      │\n",
       "│ BasicChecking  ┆ Married        ┆ 1211         ┆ South          ┆ DepositAccount ┆ Accepted      │\n",
       "│                ┆                ┆              ┆ Jimmieshire    ┆ s              ┆               │\n",
       "│ UPlusFinPerson ┆ No Resp+       ┆ 533          ┆ Bergeville     ┆ null           ┆ Rejected      │\n",
       "│ al             ┆                ┆              ┆                ┆                ┆               │\n",
       "│ BasicChecking  ┆ No Resp+       ┆ 555          ┆ Willyville     ┆ DepositAccount ┆ Rejected      │\n",
       "│                ┆                ┆              ┆                ┆ s              ┆               │\n",
       "└────────────────┴────────────────┴──────────────┴────────────────┴────────────────┴───────────────┘"
      ]
     },
     "execution_count": 3,
     "metadata": {},
     "output_type": "execute_result"
    }
   ],
   "source": [
    "pl.read_ndjson('../../../../data/SampleHDS.json')"
   ]
  },
  {
   "attachments": {},
   "cell_type": "markdown",
   "metadata": {},
   "source": [
    "As you can see, this dataset consists of regular predictors, IH predictors, context keys and the outcome column. Additionally, some columns are numeric, others are strings. Let's first initialize the DataAnonymization class."
   ]
  },
  {
   "cell_type": "code",
   "execution_count": 4,
   "metadata": {
    "execution": {
     "iopub.execute_input": "2023-12-20T14:10:41.108637Z",
     "iopub.status.busy": "2023-12-20T14:10:41.108337Z",
     "iopub.status.idle": "2023-12-20T14:10:41.116567Z",
     "shell.execute_reply": "2023-12-20T14:10:41.116019Z"
    }
   },
   "outputs": [],
   "source": [
    "anon = DataAnonymization(hds_folder='../../../../data/')"
   ]
  },
  {
   "attachments": {},
   "cell_type": "markdown",
   "metadata": {},
   "source": [
    "By default, the class applies a set of anonymisation techniques:\n",
    "- Column names are remapped to a non-descriptive name\n",
    "- Categorical values are hashed with a random seed\n",
    "- Numerical values are normalized between 0 and 1\n",
    "- Outcomes are mapped to a binary outcome.\n",
    "\n",
    "To apply these techniques, simply call `.process()`:"
   ]
  },
  {
   "cell_type": "code",
   "execution_count": 5,
   "metadata": {
    "execution": {
     "iopub.execute_input": "2023-12-20T14:10:41.118715Z",
     "iopub.status.busy": "2023-12-20T14:10:41.118413Z",
     "iopub.status.idle": "2023-12-20T14:10:41.124066Z",
     "shell.execute_reply": "2023-12-20T14:10:41.123531Z"
    }
   },
   "outputs": [
    {
     "data": {
      "text/html": [
       "<div><style>\n",
       ".dataframe > thead > tr > th,\n",
       ".dataframe > tbody > tr > td {\n",
       "  text-align: right;\n",
       "  white-space: pre-wrap;\n",
       "}\n",
       "</style>\n",
       "<small>shape: (7, 7)</small><table border=\"1\" class=\"dataframe\"><thead><tr><th>PREDICTOR_0</th><th>PREDICTOR_1</th><th>PREDICTOR_2</th><th>filename</th><th>Context_Name</th><th>IH_PREDICTOR_0</th><th>Decision_Outcome</th></tr><tr><td>str</td><td>f64</td><td>str</td><td>str</td><td>str</td><td>str</td><td>bool</td></tr></thead><tbody><tr><td>&quot;82409298610024…</td><td>1.2927e19</td><td>&quot;15921522927488…</td><td>&quot;../../../../da…</td><td>&quot;12193965033264…</td><td>&quot;15389257823873…</td><td>false</td></tr><tr><td>&quot;27698138475280…</td><td>1.4856e19</td><td>&quot;16914983411326…</td><td>&quot;../../../../da…</td><td>&quot;12193965033264…</td><td>&quot;17996305109511…</td><td>true</td></tr><tr><td>&quot;68461758763726…</td><td>5.6458e17</td><td>&quot;33519528195602…</td><td>&quot;../../../../da…</td><td>&quot;63570195832470…</td><td>&quot;15389257823873…</td><td>false</td></tr><tr><td>&quot;15867902113822…</td><td>4.0723e18</td><td>&quot;16914983411326…</td><td>&quot;../../../../da…</td><td>&quot;14626966501206…</td><td>&quot;15389257823873…</td><td>false</td></tr><tr><td>&quot;11968569675991…</td><td>1.4677e19</td><td>&quot;15921522927488…</td><td>&quot;../../../../da…</td><td>&quot;14626966501206…</td><td>&quot;14246675187620…</td><td>true</td></tr><tr><td>&quot;96493690655816…</td><td>1.6330e19</td><td>&quot;33519528195602…</td><td>&quot;../../../../da…</td><td>&quot;15420909341890…</td><td>null</td><td>false</td></tr><tr><td>&quot;57822697402185…</td><td>8.7675e18</td><td>&quot;33519528195602…</td><td>&quot;../../../../da…</td><td>&quot;14626966501206…</td><td>&quot;14246675187620…</td><td>false</td></tr></tbody></table></div>"
      ],
      "text/plain": [
       "shape: (7, 7)\n",
       "┌──────────────┬─────────────┬─────────────┬─────────────┬─────────────┬─────────────┬─────────────┐\n",
       "│ PREDICTOR_0  ┆ PREDICTOR_1 ┆ PREDICTOR_2 ┆ filename    ┆ Context_Nam ┆ IH_PREDICTO ┆ Decision_Ou │\n",
       "│ ---          ┆ ---         ┆ ---         ┆ ---         ┆ e           ┆ R_0         ┆ tcome       │\n",
       "│ str          ┆ f64         ┆ str         ┆ str         ┆ ---         ┆ ---         ┆ ---         │\n",
       "│              ┆             ┆             ┆             ┆ str         ┆ str         ┆ bool        │\n",
       "╞══════════════╪═════════════╪═════════════╪═════════════╪═════════════╪═════════════╪═════════════╡\n",
       "│ 824092986100 ┆ 1.2927e19   ┆ 15921522927 ┆ ../../../.. ┆ 12193965033 ┆ 15389257823 ┆ false       │\n",
       "│ 245866       ┆             ┆ 488437463   ┆ /data/Sampl ┆ 264743612   ┆ 87319176    ┆             │\n",
       "│              ┆             ┆             ┆ eHDS.json   ┆             ┆             ┆             │\n",
       "│ 276981384752 ┆ 1.4856e19   ┆ 16914983411 ┆ ../../../.. ┆ 12193965033 ┆ 17996305109 ┆ true        │\n",
       "│ 8087512      ┆             ┆ 326254616   ┆ /data/Sampl ┆ 264743612   ┆ 51147122    ┆             │\n",
       "│              ┆             ┆             ┆ eHDS.json   ┆             ┆             ┆             │\n",
       "│ 684617587637 ┆ 5.6458e17   ┆ 33519528195 ┆ ../../../.. ┆ 63570195832 ┆ 15389257823 ┆ false       │\n",
       "│ 2624559      ┆             ┆ 60248689    ┆ /data/Sampl ┆ 47003132    ┆ 87319176    ┆             │\n",
       "│              ┆             ┆             ┆ eHDS.json   ┆             ┆             ┆             │\n",
       "│ 158679021138 ┆ 4.0723e18   ┆ 16914983411 ┆ ../../../.. ┆ 14626966501 ┆ 15389257823 ┆ false       │\n",
       "│ 2210070      ┆             ┆ 326254616   ┆ /data/Sampl ┆ 206392006   ┆ 87319176    ┆             │\n",
       "│              ┆             ┆             ┆ eHDS.json   ┆             ┆             ┆             │\n",
       "│ 119685696759 ┆ 1.4677e19   ┆ 15921522927 ┆ ../../../.. ┆ 14626966501 ┆ 14246675187 ┆ true        │\n",
       "│ 91585117     ┆             ┆ 488437463   ┆ /data/Sampl ┆ 206392006   ┆ 620116582   ┆             │\n",
       "│              ┆             ┆             ┆ eHDS.json   ┆             ┆             ┆             │\n",
       "│ 964936906558 ┆ 1.6330e19   ┆ 33519528195 ┆ ../../../.. ┆ 15420909341 ┆ null        ┆ false       │\n",
       "│ 160071       ┆             ┆ 60248689    ┆ /data/Sampl ┆ 890094023   ┆             ┆             │\n",
       "│              ┆             ┆             ┆ eHDS.json   ┆             ┆             ┆             │\n",
       "│ 578226974021 ┆ 8.7675e18   ┆ 33519528195 ┆ ../../../.. ┆ 14626966501 ┆ 14246675187 ┆ false       │\n",
       "│ 8532283      ┆             ┆ 60248689    ┆ /data/Sampl ┆ 206392006   ┆ 620116582   ┆             │\n",
       "│              ┆             ┆             ┆ eHDS.json   ┆             ┆             ┆             │\n",
       "└──────────────┴─────────────┴─────────────┴─────────────┴─────────────┴─────────────┴─────────────┘"
      ]
     },
     "execution_count": 5,
     "metadata": {},
     "output_type": "execute_result"
    }
   ],
   "source": [
    "anon.process()"
   ]
  },
  {
   "attachments": {},
   "cell_type": "markdown",
   "metadata": {},
   "source": [
    "To trace back the columns to their original names, the class also contains a mapping, which does not have to be provided."
   ]
  },
  {
   "cell_type": "code",
   "execution_count": 6,
   "metadata": {
    "execution": {
     "iopub.execute_input": "2023-12-20T14:10:41.126085Z",
     "iopub.status.busy": "2023-12-20T14:10:41.125795Z",
     "iopub.status.idle": "2023-12-20T14:10:41.129482Z",
     "shell.execute_reply": "2023-12-20T14:10:41.129036Z"
    }
   },
   "outputs": [
    {
     "data": {
      "text/plain": [
       "{'Customer_City': 'PREDICTOR_0',\n",
       " 'Customer_CLV': 'PREDICTOR_1',\n",
       " 'Customer_MaritalStatus': 'PREDICTOR_2',\n",
       " 'filename': 'filename',\n",
       " 'Context_Name': 'Context_Name',\n",
       " 'IH_Web_Inbound_Accepted_pxLastGroupID': 'IH_PREDICTOR_0',\n",
       " 'Decision_Outcome': 'Decision_Outcome'}"
      ]
     },
     "execution_count": 6,
     "metadata": {},
     "output_type": "execute_result"
    }
   ],
   "source": [
    "anon.column_mapping"
   ]
  },
  {
   "attachments": {},
   "cell_type": "markdown",
   "metadata": {},
   "source": [
    "## Configs\n",
    "\n",
    "Each capability can optionally be turned off - see below for the full list of config options, and refer to the API reference for the full description."
   ]
  },
  {
   "cell_type": "code",
   "execution_count": 7,
   "metadata": {
    "execution": {
     "iopub.execute_input": "2023-12-20T14:10:41.131428Z",
     "iopub.status.busy": "2023-12-20T14:10:41.131096Z",
     "iopub.status.idle": "2023-12-20T14:10:41.135210Z",
     "shell.execute_reply": "2023-12-20T14:10:41.134687Z"
    }
   },
   "outputs": [
    {
     "data": {
      "text/plain": [
       "{'config_file': None,\n",
       " 'hds_folder': '.',\n",
       " 'use_datamart': False,\n",
       " 'datamart_folder': 'datamart',\n",
       " 'output_format': 'ndjson',\n",
       " 'output_folder': 'output',\n",
       " 'mapping_file': 'mapping.map',\n",
       " 'mask_predictor_names': True,\n",
       " 'mask_context_key_names': False,\n",
       " 'mask_ih_names': True,\n",
       " 'mask_outcome_name': False,\n",
       " 'mask_predictor_values': True,\n",
       " 'mask_context_key_values': True,\n",
       " 'mask_ih_values': True,\n",
       " 'mask_outcome_values': True,\n",
       " 'context_key_label': 'Context_*',\n",
       " 'ih_label': 'IH_*',\n",
       " 'outcome_column': 'Decision_Outcome',\n",
       " 'positive_outcomes': ['Accepted', 'Clicked'],\n",
       " 'negative_outcomes': ['Rejected', 'Impression'],\n",
       " 'special_predictors': ['Decision_DecisionTime',\n",
       "  'Decision_OutcomeTime',\n",
       "  'Decision_Rank'],\n",
       " 'sample_percentage_schema_inferencing': 0.01}"
      ]
     },
     "execution_count": 7,
     "metadata": {},
     "output_type": "execute_result"
    }
   ],
   "source": [
    "dict(zip(Config.__init__.__code__.co_varnames[1:], Config.__init__.__defaults__))"
   ]
  },
  {
   "attachments": {},
   "cell_type": "markdown",
   "metadata": {},
   "source": [
    "It's easy to change these parameters by just passing the keyword arguments. In the following example, we\n",
    "- Keep the IH predictor names\n",
    "- Keep the outcome values\n",
    "- Keep the context key values\n",
    "- Keep the context key predictor names"
   ]
  },
  {
   "cell_type": "code",
   "execution_count": 8,
   "metadata": {
    "execution": {
     "iopub.execute_input": "2023-12-20T14:10:41.137107Z",
     "iopub.status.busy": "2023-12-20T14:10:41.136815Z",
     "iopub.status.idle": "2023-12-20T14:10:41.146258Z",
     "shell.execute_reply": "2023-12-20T14:10:41.145711Z"
    }
   },
   "outputs": [
    {
     "data": {
      "text/html": [
       "<div><style>\n",
       ".dataframe > thead > tr > th,\n",
       ".dataframe > tbody > tr > td {\n",
       "  text-align: right;\n",
       "  white-space: pre-wrap;\n",
       "}\n",
       "</style>\n",
       "<small>shape: (7, 7)</small><table border=\"1\" class=\"dataframe\"><thead><tr><th>PREDICTOR_0</th><th>PREDICTOR_1</th><th>PREDICTOR_2</th><th>filename</th><th>Context_Name</th><th>IH_Web_Inbound_Accepted_pxLastGroupID</th><th>Decision_Outcome</th></tr><tr><td>str</td><td>f64</td><td>str</td><td>str</td><td>str</td><td>str</td><td>str</td></tr></thead><tbody><tr><td>&quot;12441179652233…</td><td>1.2927e19</td><td>&quot;63794180391804…</td><td>&quot;../../../../da…</td><td>&quot;FirstMortgage3…</td><td>&quot;12607999027858…</td><td>&quot;Rejected&quot;</td></tr><tr><td>&quot;19606881662817…</td><td>1.4856e19</td><td>&quot;20494658842556…</td><td>&quot;../../../../da…</td><td>&quot;FirstMortgage3…</td><td>&quot;64213579172956…</td><td>&quot;Accepted&quot;</td></tr><tr><td>&quot;51345578829651…</td><td>5.6458e17</td><td>&quot;14808159721085…</td><td>&quot;../../../../da…</td><td>&quot;MoneyMarketSav…</td><td>&quot;12607999027858…</td><td>&quot;Rejected&quot;</td></tr><tr><td>&quot;84260137127847…</td><td>4.0723e18</td><td>&quot;20494658842556…</td><td>&quot;../../../../da…</td><td>&quot;BasicChecking&quot;</td><td>&quot;12607999027858…</td><td>&quot;Rejected&quot;</td></tr><tr><td>&quot;14435410012424…</td><td>1.4677e19</td><td>&quot;63794180391804…</td><td>&quot;../../../../da…</td><td>&quot;BasicChecking&quot;</td><td>&quot;17859243384144…</td><td>&quot;Accepted&quot;</td></tr><tr><td>&quot;61644790185119…</td><td>1.6330e19</td><td>&quot;14808159721085…</td><td>&quot;../../../../da…</td><td>&quot;UPlusFinPerson…</td><td>null</td><td>&quot;Rejected&quot;</td></tr><tr><td>&quot;50192412674063…</td><td>8.7675e18</td><td>&quot;14808159721085…</td><td>&quot;../../../../da…</td><td>&quot;BasicChecking&quot;</td><td>&quot;17859243384144…</td><td>&quot;Rejected&quot;</td></tr></tbody></table></div>"
      ],
      "text/plain": [
       "shape: (7, 7)\n",
       "┌──────────────┬─────────────┬─────────────┬─────────────┬─────────────┬─────────────┬─────────────┐\n",
       "│ PREDICTOR_0  ┆ PREDICTOR_1 ┆ PREDICTOR_2 ┆ filename    ┆ Context_Nam ┆ IH_Web_Inbo ┆ Decision_Ou │\n",
       "│ ---          ┆ ---         ┆ ---         ┆ ---         ┆ e           ┆ und_Accepte ┆ tcome       │\n",
       "│ str          ┆ f64         ┆ str         ┆ str         ┆ ---         ┆ d_pxLastGr… ┆ ---         │\n",
       "│              ┆             ┆             ┆             ┆ str         ┆ ---         ┆ str         │\n",
       "│              ┆             ┆             ┆             ┆             ┆ str         ┆             │\n",
       "╞══════════════╪═════════════╪═════════════╪═════════════╪═════════════╪═════════════╪═════════════╡\n",
       "│ 124411796522 ┆ 1.2927e19   ┆ 63794180391 ┆ ../../../.. ┆ FirstMortga ┆ 12607999027 ┆ Rejected    │\n",
       "│ 3368478      ┆             ┆ 80424859    ┆ /data/Sampl ┆ ge30yr      ┆ 858297520   ┆             │\n",
       "│              ┆             ┆             ┆ eHDS.json   ┆             ┆             ┆             │\n",
       "│ 196068816628 ┆ 1.4856e19   ┆ 20494658842 ┆ ../../../.. ┆ FirstMortga ┆ 64213579172 ┆ Accepted    │\n",
       "│ 1721692      ┆             ┆ 55693700    ┆ /data/Sampl ┆ ge30yr      ┆ 95678396    ┆             │\n",
       "│              ┆             ┆             ┆ eHDS.json   ┆             ┆             ┆             │\n",
       "│ 513455788296 ┆ 5.6458e17   ┆ 14808159721 ┆ ../../../.. ┆ MoneyMarket ┆ 12607999027 ┆ Rejected    │\n",
       "│ 5136920      ┆             ┆ 085003886   ┆ /data/Sampl ┆ SavingsAcco ┆ 858297520   ┆             │\n",
       "│              ┆             ┆             ┆ eHDS.json   ┆ unt         ┆             ┆             │\n",
       "│ 842601371278 ┆ 4.0723e18   ┆ 20494658842 ┆ ../../../.. ┆ BasicChecki ┆ 12607999027 ┆ Rejected    │\n",
       "│ 4725350      ┆             ┆ 55693700    ┆ /data/Sampl ┆ ng          ┆ 858297520   ┆             │\n",
       "│              ┆             ┆             ┆ eHDS.json   ┆             ┆             ┆             │\n",
       "│ 144354100124 ┆ 1.4677e19   ┆ 63794180391 ┆ ../../../.. ┆ BasicChecki ┆ 17859243384 ┆ Accepted    │\n",
       "│ 24004354     ┆             ┆ 80424859    ┆ /data/Sampl ┆ ng          ┆ 144457962   ┆             │\n",
       "│              ┆             ┆             ┆ eHDS.json   ┆             ┆             ┆             │\n",
       "│ 616447901851 ┆ 1.6330e19   ┆ 14808159721 ┆ ../../../.. ┆ UPlusFinPer ┆ null        ┆ Rejected    │\n",
       "│ 1964594      ┆             ┆ 085003886   ┆ /data/Sampl ┆ sonal       ┆             ┆             │\n",
       "│              ┆             ┆             ┆ eHDS.json   ┆             ┆             ┆             │\n",
       "│ 501924126740 ┆ 8.7675e18   ┆ 14808159721 ┆ ../../../.. ┆ BasicChecki ┆ 17859243384 ┆ Rejected    │\n",
       "│ 6308343      ┆             ┆ 085003886   ┆ /data/Sampl ┆ ng          ┆ 144457962   ┆             │\n",
       "│              ┆             ┆             ┆ eHDS.json   ┆             ┆             ┆             │\n",
       "└──────────────┴─────────────┴─────────────┴─────────────┴─────────────┴─────────────┴─────────────┘"
      ]
     },
     "execution_count": 8,
     "metadata": {},
     "output_type": "execute_result"
    }
   ],
   "source": [
    "anon = DataAnonymization(\n",
    "    hds_folder=\"../../../../data/\",\n",
    "    mask_ih_names=False,\n",
    "    mask_outcome_values=False,\n",
    "    mask_context_key_values=False,\n",
    "    mask_context_key_names=False,\n",
    ")\n",
    "anon.process()\n"
   ]
  },
  {
   "attachments": {},
   "cell_type": "markdown",
   "metadata": {},
   "source": [
    "The configs can also be written and read as such:"
   ]
  },
  {
   "cell_type": "code",
   "execution_count": 9,
   "metadata": {
    "execution": {
     "iopub.execute_input": "2023-12-20T14:10:41.148177Z",
     "iopub.status.busy": "2023-12-20T14:10:41.147876Z",
     "iopub.status.idle": "2023-12-20T14:10:41.150679Z",
     "shell.execute_reply": "2023-12-20T14:10:41.150151Z"
    }
   },
   "outputs": [],
   "source": [
    "anon.config.save_to_config_file('config.json')"
   ]
  },
  {
   "cell_type": "code",
   "execution_count": 10,
   "metadata": {
    "execution": {
     "iopub.execute_input": "2023-12-20T14:10:41.152543Z",
     "iopub.status.busy": "2023-12-20T14:10:41.152224Z",
     "iopub.status.idle": "2023-12-20T14:10:41.161340Z",
     "shell.execute_reply": "2023-12-20T14:10:41.160819Z"
    }
   },
   "outputs": [
    {
     "data": {
      "text/html": [
       "<div><style>\n",
       ".dataframe > thead > tr > th,\n",
       ".dataframe > tbody > tr > td {\n",
       "  text-align: right;\n",
       "  white-space: pre-wrap;\n",
       "}\n",
       "</style>\n",
       "<small>shape: (7, 7)</small><table border=\"1\" class=\"dataframe\"><thead><tr><th>PREDICTOR_0</th><th>PREDICTOR_1</th><th>PREDICTOR_2</th><th>filename</th><th>Context_Name</th><th>IH_Web_Inbound_Accepted_pxLastGroupID</th><th>Decision_Outcome</th></tr><tr><td>str</td><td>f64</td><td>str</td><td>str</td><td>str</td><td>str</td><td>str</td></tr></thead><tbody><tr><td>&quot;57168702719767…</td><td>1.2927e19</td><td>&quot;15648645790562…</td><td>&quot;../../../../da…</td><td>&quot;FirstMortgage3…</td><td>&quot;17585784817063…</td><td>&quot;Rejected&quot;</td></tr><tr><td>&quot;11149485785138…</td><td>1.4856e19</td><td>&quot;10798002436636…</td><td>&quot;../../../../da…</td><td>&quot;FirstMortgage3…</td><td>&quot;15423264842149…</td><td>&quot;Accepted&quot;</td></tr><tr><td>&quot;14994428720821…</td><td>5.6458e17</td><td>&quot;89951493829927…</td><td>&quot;../../../../da…</td><td>&quot;MoneyMarketSav…</td><td>&quot;17585784817063…</td><td>&quot;Rejected&quot;</td></tr><tr><td>&quot;15251952415935…</td><td>4.0723e18</td><td>&quot;10798002436636…</td><td>&quot;../../../../da…</td><td>&quot;BasicChecking&quot;</td><td>&quot;17585784817063…</td><td>&quot;Rejected&quot;</td></tr><tr><td>&quot;33012906122521…</td><td>1.4677e19</td><td>&quot;15648645790562…</td><td>&quot;../../../../da…</td><td>&quot;BasicChecking&quot;</td><td>&quot;12712649283070…</td><td>&quot;Accepted&quot;</td></tr><tr><td>&quot;78478600415907…</td><td>1.6330e19</td><td>&quot;89951493829927…</td><td>&quot;../../../../da…</td><td>&quot;UPlusFinPerson…</td><td>null</td><td>&quot;Rejected&quot;</td></tr><tr><td>&quot;77555486655392…</td><td>8.7675e18</td><td>&quot;89951493829927…</td><td>&quot;../../../../da…</td><td>&quot;BasicChecking&quot;</td><td>&quot;12712649283070…</td><td>&quot;Rejected&quot;</td></tr></tbody></table></div>"
      ],
      "text/plain": [
       "shape: (7, 7)\n",
       "┌──────────────┬─────────────┬─────────────┬─────────────┬─────────────┬─────────────┬─────────────┐\n",
       "│ PREDICTOR_0  ┆ PREDICTOR_1 ┆ PREDICTOR_2 ┆ filename    ┆ Context_Nam ┆ IH_Web_Inbo ┆ Decision_Ou │\n",
       "│ ---          ┆ ---         ┆ ---         ┆ ---         ┆ e           ┆ und_Accepte ┆ tcome       │\n",
       "│ str          ┆ f64         ┆ str         ┆ str         ┆ ---         ┆ d_pxLastGr… ┆ ---         │\n",
       "│              ┆             ┆             ┆             ┆ str         ┆ ---         ┆ str         │\n",
       "│              ┆             ┆             ┆             ┆             ┆ str         ┆             │\n",
       "╞══════════════╪═════════════╪═════════════╪═════════════╪═════════════╪═════════════╪═════════════╡\n",
       "│ 571687027197 ┆ 1.2927e19   ┆ 15648645790 ┆ ../../../.. ┆ FirstMortga ┆ 17585784817 ┆ Rejected    │\n",
       "│ 6755019      ┆             ┆ 562178928   ┆ /data/Sampl ┆ ge30yr      ┆ 063450616   ┆             │\n",
       "│              ┆             ┆             ┆ eHDS.json   ┆             ┆             ┆             │\n",
       "│ 111494857851 ┆ 1.4856e19   ┆ 10798002436 ┆ ../../../.. ┆ FirstMortga ┆ 15423264842 ┆ Accepted    │\n",
       "│ 38899876     ┆             ┆ 636002659   ┆ /data/Sampl ┆ ge30yr      ┆ 14976348    ┆             │\n",
       "│              ┆             ┆             ┆ eHDS.json   ┆             ┆             ┆             │\n",
       "│ 149944287208 ┆ 5.6458e17   ┆ 89951493829 ┆ ../../../.. ┆ MoneyMarket ┆ 17585784817 ┆ Rejected    │\n",
       "│ 21459494     ┆             ┆ 92756497    ┆ /data/Sampl ┆ SavingsAcco ┆ 063450616   ┆             │\n",
       "│              ┆             ┆             ┆ eHDS.json   ┆ unt         ┆             ┆             │\n",
       "│ 152519524159 ┆ 4.0723e18   ┆ 10798002436 ┆ ../../../.. ┆ BasicChecki ┆ 17585784817 ┆ Rejected    │\n",
       "│ 35883240     ┆             ┆ 636002659   ┆ /data/Sampl ┆ ng          ┆ 063450616   ┆             │\n",
       "│              ┆             ┆             ┆ eHDS.json   ┆             ┆             ┆             │\n",
       "│ 330129061225 ┆ 1.4677e19   ┆ 15648645790 ┆ ../../../.. ┆ BasicChecki ┆ 12712649283 ┆ Accepted    │\n",
       "│ 2155716      ┆             ┆ 562178928   ┆ /data/Sampl ┆ ng          ┆ 070226232   ┆             │\n",
       "│              ┆             ┆             ┆ eHDS.json   ┆             ┆             ┆             │\n",
       "│ 784786004159 ┆ 1.6330e19   ┆ 89951493829 ┆ ../../../.. ┆ UPlusFinPer ┆ null        ┆ Rejected    │\n",
       "│ 0701823      ┆             ┆ 92756497    ┆ /data/Sampl ┆ sonal       ┆             ┆             │\n",
       "│              ┆             ┆             ┆ eHDS.json   ┆             ┆             ┆             │\n",
       "│ 775554866553 ┆ 8.7675e18   ┆ 89951493829 ┆ ../../../.. ┆ BasicChecki ┆ 12712649283 ┆ Rejected    │\n",
       "│ 9275320      ┆             ┆ 92756497    ┆ /data/Sampl ┆ ng          ┆ 070226232   ┆             │\n",
       "│              ┆             ┆             ┆ eHDS.json   ┆             ┆             ┆             │\n",
       "└──────────────┴─────────────┴─────────────┴─────────────┴─────────────┴─────────────┴─────────────┘"
      ]
     },
     "execution_count": 10,
     "metadata": {},
     "output_type": "execute_result"
    }
   ],
   "source": [
    "anon = DataAnonymization(config=Config(config_file='config.json'))\n",
    "anon.process()"
   ]
  },
  {
   "attachments": {},
   "cell_type": "markdown",
   "metadata": {},
   "source": [
    "## Exporting\n",
    "Two functions export:\n",
    "- `create_mapping_file()` writes the mapping file of the predictor names\n",
    "- `write_to_output()` writes the processed dataframe to disk\n",
    "\n",
    "Write to output accepts the following extensions: `[\"ndjson\", \"parquet\", \"arrow\", \"csv\"]`"
   ]
  },
  {
   "cell_type": "code",
   "execution_count": 11,
   "metadata": {
    "execution": {
     "iopub.execute_input": "2023-12-20T14:10:41.163375Z",
     "iopub.status.busy": "2023-12-20T14:10:41.163084Z",
     "iopub.status.idle": "2023-12-20T14:10:41.166345Z",
     "shell.execute_reply": "2023-12-20T14:10:41.165892Z"
    }
   },
   "outputs": [
    {
     "name": "stdout",
     "output_type": "stream",
     "text": [
      "Customer_City=PREDICTOR_0\n",
      "Customer_CLV=PREDICTOR_1\n",
      "Customer_MaritalStatus=PREDICTOR_2\n",
      "filename=filename\n",
      "Context_Name=Context_Name\n",
      "IH_Web_Inbound_Accepted_pxLastGroupID=IH_Web_Inbound_Accepted_pxLastGroupID\n",
      "Decision_Outcome=Decision_Outcome\n",
      "\n"
     ]
    }
   ],
   "source": [
    "anon.create_mapping_file()\n",
    "with open('mapping.map') as f:\n",
    "    print(f.read())"
   ]
  },
  {
   "cell_type": "code",
   "execution_count": 12,
   "metadata": {
    "execution": {
     "iopub.execute_input": "2023-12-20T14:10:41.168666Z",
     "iopub.status.busy": "2023-12-20T14:10:41.168191Z",
     "iopub.status.idle": "2023-12-20T14:10:41.171797Z",
     "shell.execute_reply": "2023-12-20T14:10:41.171376Z"
    }
   },
   "outputs": [],
   "source": [
    "anon.write_to_output(ext='arrow')"
   ]
  },
  {
   "cell_type": "code",
   "execution_count": 13,
   "metadata": {
    "execution": {
     "iopub.execute_input": "2023-12-20T14:10:41.173707Z",
     "iopub.status.busy": "2023-12-20T14:10:41.173393Z",
     "iopub.status.idle": "2023-12-20T14:10:41.177917Z",
     "shell.execute_reply": "2023-12-20T14:10:41.177431Z"
    }
   },
   "outputs": [
    {
     "data": {
      "text/html": [
       "<div><style>\n",
       ".dataframe > thead > tr > th,\n",
       ".dataframe > tbody > tr > td {\n",
       "  text-align: right;\n",
       "  white-space: pre-wrap;\n",
       "}\n",
       "</style>\n",
       "<small>shape: (7, 6)</small><table border=\"1\" class=\"dataframe\"><thead><tr><th>PREDICTOR_0</th><th>PREDICTOR_1</th><th>PREDICTOR_2</th><th>Context_Name</th><th>IH_Web_Inbound_Accepted_pxLastGroupID</th><th>Decision_Outcome</th></tr><tr><td>str</td><td>f64</td><td>str</td><td>str</td><td>str</td><td>str</td></tr></thead><tbody><tr><td>&quot;40202338202199…</td><td>1.2927e19</td><td>&quot;17242762668245…</td><td>&quot;FirstMortgage3…</td><td>&quot;15747165217601…</td><td>&quot;Rejected&quot;</td></tr><tr><td>&quot;17225155306564…</td><td>1.4856e19</td><td>&quot;12278239919267…</td><td>&quot;FirstMortgage3…</td><td>&quot;49892653629190…</td><td>&quot;Accepted&quot;</td></tr><tr><td>&quot;11727372901717…</td><td>5.6458e17</td><td>&quot;80427167448238…</td><td>&quot;MoneyMarketSav…</td><td>&quot;15747165217601…</td><td>&quot;Rejected&quot;</td></tr><tr><td>&quot;14441511634725…</td><td>4.0723e18</td><td>&quot;12278239919267…</td><td>&quot;BasicChecking&quot;</td><td>&quot;15747165217601…</td><td>&quot;Rejected&quot;</td></tr><tr><td>&quot;99178725444057…</td><td>1.4677e19</td><td>&quot;17242762668245…</td><td>&quot;BasicChecking&quot;</td><td>&quot;28619093686412…</td><td>&quot;Accepted&quot;</td></tr><tr><td>&quot;12853391097906…</td><td>1.6330e19</td><td>&quot;80427167448238…</td><td>&quot;UPlusFinPerson…</td><td>null</td><td>&quot;Rejected&quot;</td></tr><tr><td>&quot;49628486778868…</td><td>8.7675e18</td><td>&quot;80427167448238…</td><td>&quot;BasicChecking&quot;</td><td>&quot;28619093686412…</td><td>&quot;Rejected&quot;</td></tr></tbody></table></div>"
      ],
      "text/plain": [
       "shape: (7, 6)\n",
       "┌────────────────┬─────────────┬────────────────┬────────────────┬────────────────┬────────────────┐\n",
       "│ PREDICTOR_0    ┆ PREDICTOR_1 ┆ PREDICTOR_2    ┆ Context_Name   ┆ IH_Web_Inbound ┆ Decision_Outco │\n",
       "│ ---            ┆ ---         ┆ ---            ┆ ---            ┆ _Accepted_pxLa ┆ me             │\n",
       "│ str            ┆ f64         ┆ str            ┆ str            ┆ stGr…          ┆ ---            │\n",
       "│                ┆             ┆                ┆                ┆ ---            ┆ str            │\n",
       "│                ┆             ┆                ┆                ┆ str            ┆                │\n",
       "╞════════════════╪═════════════╪════════════════╪════════════════╪════════════════╪════════════════╡\n",
       "│ 40202338202199 ┆ 1.2927e19   ┆ 17242762668245 ┆ FirstMortgage3 ┆ 15747165217601 ┆ Rejected       │\n",
       "│ 77073          ┆             ┆ 788092         ┆ 0yr            ┆ 701989         ┆                │\n",
       "│ 17225155306564 ┆ 1.4856e19   ┆ 12278239919267 ┆ FirstMortgage3 ┆ 49892653629190 ┆ Accepted       │\n",
       "│ 175015         ┆             ┆ 452863         ┆ 0yr            ┆ 97904          ┆                │\n",
       "│ 11727372901717 ┆ 5.6458e17   ┆ 80427167448238 ┆ MoneyMarketSav ┆ 15747165217601 ┆ Rejected       │\n",
       "│ 799433         ┆             ┆ 36474          ┆ ingsAccount    ┆ 701989         ┆                │\n",
       "│ 14441511634725 ┆ 4.0723e18   ┆ 12278239919267 ┆ BasicChecking  ┆ 15747165217601 ┆ Rejected       │\n",
       "│ 557724         ┆             ┆ 452863         ┆                ┆ 701989         ┆                │\n",
       "│ 99178725444057 ┆ 1.4677e19   ┆ 17242762668245 ┆ BasicChecking  ┆ 28619093686412 ┆ Accepted       │\n",
       "│ 81205          ┆             ┆ 788092         ┆                ┆ 80996          ┆                │\n",
       "│ 12853391097906 ┆ 1.6330e19   ┆ 80427167448238 ┆ UPlusFinPerson ┆ null           ┆ Rejected       │\n",
       "│ 880533         ┆             ┆ 36474          ┆ al             ┆                ┆                │\n",
       "│ 49628486778868 ┆ 8.7675e18   ┆ 80427167448238 ┆ BasicChecking  ┆ 28619093686412 ┆ Rejected       │\n",
       "│ 61708          ┆             ┆ 36474          ┆                ┆ 80996          ┆                │\n",
       "└────────────────┴─────────────┴────────────────┴────────────────┴────────────────┴────────────────┘"
      ]
     },
     "execution_count": 13,
     "metadata": {},
     "output_type": "execute_result"
    }
   ],
   "source": [
    "pl.read_ipc('output/hds.arrow')"
   ]
  },
  {
   "attachments": {},
   "cell_type": "markdown",
   "metadata": {
    "nbsphinx": "hidden"
   },
   "source": [
    "## Advanced: Hash fuctions\n",
    "\n",
    "By default, we use [the same hashing algorithm Polars](https://pola-rs.github.io/polars/py-polars/html/reference/expressions/api/polars.Expr.hash.html#polars.Expr.hash) uses: [xxhash](https://github.com/Cyan4973/xxHash), as implemented [here](https://github.com/pola-rs/polars/blob/3f287f370b3c388ed2f3f218b2c096382548136f/polars/polars-core/src/vector_hasher.rs#L266). xxhash is fast to compute, and you can check its performance in collision, dispersion and randomness [here](https://github.com/Cyan4973/xxHash/tree/dev/tests). \n",
    "\n",
    "xxhash accepts four distinct seeds, but by default we set the seeds to `0`. It is possible to set the `seed` argument of the `process()` function to `'random'`, which will set all four seeds to a random integer between `0` and `1000000000`. Alternatively, it is possible to supply the four seeds manually with arguments `seed`, `seed_1`, `seed_2` and `seed_3`. \n",
    "\n",
    "If the xxhash with (random) seed(s) is not deemed sufficiently secure, it is possible to use your own hashing algorithm.\n",
    "\n",
    "Note that since we're now running python code and not native Polars code anymore, this will be _significantly_ slower. Nonetheless, it is possible.\n",
    "\n",
    "Just as an example - this is how one would use sha3_256:"
   ]
  },
  {
   "cell_type": "code",
   "execution_count": 14,
   "metadata": {
    "execution": {
     "iopub.execute_input": "2023-12-20T14:10:41.179895Z",
     "iopub.status.busy": "2023-12-20T14:10:41.179643Z",
     "iopub.status.idle": "2023-12-20T14:10:41.505337Z",
     "shell.execute_reply": "2023-12-20T14:10:41.504796Z"
    },
    "nbsphinx": "hidden"
   },
   "outputs": [
    {
     "ename": "ComputeError",
     "evalue": "AttributeError: 'int' object has no attribute 'encode'",
     "output_type": "error",
     "traceback": [
      "\u001b[0;31m---------------------------------------------------------------------------\u001b[0m",
      "\u001b[0;31mComputeError\u001b[0m                              Traceback (most recent call last)",
      "Cell \u001b[0;32mIn[14], line 3\u001b[0m\n\u001b[1;32m      1\u001b[0m \u001b[38;5;28;01mfrom\u001b[39;00m \u001b[38;5;21;01mhashlib\u001b[39;00m \u001b[38;5;28;01mimport\u001b[39;00m sha3_256\n\u001b[0;32m----> 3\u001b[0m \u001b[43manon\u001b[49m\u001b[38;5;241;43m.\u001b[39;49m\u001b[43mprocess\u001b[49m\u001b[43m(\u001b[49m\u001b[43malgorithm\u001b[49m\u001b[38;5;241;43m=\u001b[39;49m\u001b[38;5;28;43;01mlambda\u001b[39;49;00m\u001b[43m \u001b[49m\u001b[43mx\u001b[49m\u001b[43m:\u001b[49m\u001b[43m \u001b[49m\u001b[43msha3_256\u001b[49m\u001b[43m(\u001b[49m\u001b[43mx\u001b[49m\u001b[38;5;241;43m.\u001b[39;49m\u001b[43mencode\u001b[49m\u001b[43m(\u001b[49m\u001b[43m)\u001b[49m\u001b[43m)\u001b[49m\u001b[38;5;241;43m.\u001b[39;49m\u001b[43mhexdigest\u001b[49m\u001b[43m(\u001b[49m\u001b[43m)\u001b[49m\u001b[43m)\u001b[49m\n",
      "File \u001b[0;32m~/work/pega-datascientist-tools/pega-datascientist-tools/python/docs/source/articles/../../../pdstools/utils/hds_utils.py:516\u001b[0m, in \u001b[0;36mDataAnonymization.process\u001b[0;34m(self, strategy, **kwargs)\u001b[0m\n\u001b[1;32m    514\u001b[0m df \u001b[38;5;241m=\u001b[39m df\u001b[38;5;241m.\u001b[39mselect(\u001b[38;5;28mself\u001b[39m\u001b[38;5;241m.\u001b[39mcolumn_mapping\u001b[38;5;241m.\u001b[39mkeys())\u001b[38;5;241m.\u001b[39mrename(\u001b[38;5;28mself\u001b[39m\u001b[38;5;241m.\u001b[39mcolumn_mapping)\n\u001b[1;32m    515\u001b[0m \u001b[38;5;28;01mif\u001b[39;00m strategy \u001b[38;5;241m==\u001b[39m \u001b[38;5;124m\"\u001b[39m\u001b[38;5;124meager\u001b[39m\u001b[38;5;124m\"\u001b[39m:\n\u001b[0;32m--> 516\u001b[0m     \u001b[38;5;28;01mreturn\u001b[39;00m \u001b[43mdf\u001b[49m\u001b[38;5;241;43m.\u001b[39;49m\u001b[43mcollect\u001b[49m\u001b[43m(\u001b[49m\u001b[43m)\u001b[49m\n\u001b[1;32m    517\u001b[0m \u001b[38;5;28;01mreturn\u001b[39;00m df\n",
      "File \u001b[0;32m/opt/hostedtoolcache/Python/3.11.7/x64/lib/python3.11/site-packages/polars/utils/deprecation.py:100\u001b[0m, in \u001b[0;36mdeprecate_renamed_parameter.<locals>.decorate.<locals>.wrapper\u001b[0;34m(*args, **kwargs)\u001b[0m\n\u001b[1;32m     95\u001b[0m \u001b[38;5;129m@wraps\u001b[39m(function)\n\u001b[1;32m     96\u001b[0m \u001b[38;5;28;01mdef\u001b[39;00m \u001b[38;5;21mwrapper\u001b[39m(\u001b[38;5;241m*\u001b[39margs: P\u001b[38;5;241m.\u001b[39margs, \u001b[38;5;241m*\u001b[39m\u001b[38;5;241m*\u001b[39mkwargs: P\u001b[38;5;241m.\u001b[39mkwargs) \u001b[38;5;241m-\u001b[39m\u001b[38;5;241m>\u001b[39m T:\n\u001b[1;32m     97\u001b[0m     _rename_keyword_argument(\n\u001b[1;32m     98\u001b[0m         old_name, new_name, kwargs, function\u001b[38;5;241m.\u001b[39m\u001b[38;5;18m__name__\u001b[39m, version\n\u001b[1;32m     99\u001b[0m     )\n\u001b[0;32m--> 100\u001b[0m     \u001b[38;5;28;01mreturn\u001b[39;00m \u001b[43mfunction\u001b[49m\u001b[43m(\u001b[49m\u001b[38;5;241;43m*\u001b[39;49m\u001b[43margs\u001b[49m\u001b[43m,\u001b[49m\u001b[43m \u001b[49m\u001b[38;5;241;43m*\u001b[39;49m\u001b[38;5;241;43m*\u001b[39;49m\u001b[43mkwargs\u001b[49m\u001b[43m)\u001b[49m\n",
      "File \u001b[0;32m/opt/hostedtoolcache/Python/3.11.7/x64/lib/python3.11/site-packages/polars/lazyframe/frame.py:1787\u001b[0m, in \u001b[0;36mLazyFrame.collect\u001b[0;34m(self, type_coercion, predicate_pushdown, projection_pushdown, simplify_expression, slice_pushdown, comm_subplan_elim, comm_subexpr_elim, no_optimization, streaming, _eager)\u001b[0m\n\u001b[1;32m   1774\u001b[0m     comm_subplan_elim \u001b[38;5;241m=\u001b[39m \u001b[38;5;28;01mFalse\u001b[39;00m\n\u001b[1;32m   1776\u001b[0m ldf \u001b[38;5;241m=\u001b[39m \u001b[38;5;28mself\u001b[39m\u001b[38;5;241m.\u001b[39m_ldf\u001b[38;5;241m.\u001b[39moptimization_toggle(\n\u001b[1;32m   1777\u001b[0m     type_coercion,\n\u001b[1;32m   1778\u001b[0m     predicate_pushdown,\n\u001b[0;32m   (...)\u001b[0m\n\u001b[1;32m   1785\u001b[0m     _eager,\n\u001b[1;32m   1786\u001b[0m )\n\u001b[0;32m-> 1787\u001b[0m \u001b[38;5;28;01mreturn\u001b[39;00m wrap_df(ldf\u001b[38;5;241m.\u001b[39mcollect())\n",
      "\u001b[0;31mComputeError\u001b[0m: AttributeError: 'int' object has no attribute 'encode'"
     ]
    }
   ],
   "source": [
    "from hashlib import sha3_256\n",
    "\n",
    "anon.process(algorithm=lambda x: sha3_256(x.encode()).hexdigest())"
   ]
  }
 ],
 "metadata": {
  "kernelspec": {
   "display_name": "Python 3",
   "language": "python",
   "name": "python3"
  },
  "language_info": {
   "codemirror_mode": {
    "name": "ipython",
    "version": 3
   },
   "file_extension": ".py",
   "mimetype": "text/x-python",
   "name": "python",
   "nbconvert_exporter": "python",
   "pygments_lexer": "ipython3",
   "version": "3.11.7"
  },
  "vscode": {
   "interpreter": {
    "hash": "aee8b7b246df8f9039afb4144a1f6fd8d2ca17a180786b69acc140d282b71a49"
   }
  }
 },
 "nbformat": 4,
 "nbformat_minor": 2
}
