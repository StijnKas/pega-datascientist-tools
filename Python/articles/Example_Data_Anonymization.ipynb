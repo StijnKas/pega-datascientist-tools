{
 "cells": [
  {
   "attachments": {},
   "cell_type": "markdown",
   "metadata": {},
   "source": [
    "# Data Anonymization\n",
    "\n",
    "In Pega CDH 8.5 and up, it's now possible to record the historical data as seen by the Adaptive Models. See [this academy challenge](https://academy.pega.com/challenge/exporting-historical-data/v4) for reference. This historical data can be further used to experiment with offline models, but also to fine-tune the OOTB Gradient Boosting model. However, sharing this information with Pega can be sensitive as it contains raw predictor data. \n",
    "\n",
    "To this end, we provide a simple and transparent script to fully anonimize this dataset.\n",
    "\n",
    "The DataAnonymization script is now part of pdstools, and you can import it directly as such."
   ]
  },
  {
   "cell_type": "code",
   "execution_count": 1,
   "metadata": {
    "execution": {
     "iopub.execute_input": "2024-08-26T14:33:36.609574Z",
     "iopub.status.busy": "2024-08-26T14:33:36.609109Z",
     "iopub.status.idle": "2024-08-26T14:33:36.680881Z",
     "shell.execute_reply": "2024-08-26T14:33:36.680385Z"
    },
    "nbsphinx": "hidden"
   },
   "outputs": [],
   "source": [
    "# These lines are only for rendering in the docs, and are hidden through Jupyter tags\n",
    "# Do not run if you're running the notebook seperately\n",
    "\n",
    "import os  \n",
    "import sys\n",
    "import plotly.io as pio\n",
    "pio.renderers.default = \"notebook_connected\"\n",
    "\n",
    "sys.path.append(\"../../../\")\n",
    "sys.path.append('../../python')"
   ]
  },
  {
   "cell_type": "code",
   "execution_count": 2,
   "metadata": {
    "execution": {
     "iopub.execute_input": "2024-08-26T14:33:36.683417Z",
     "iopub.status.busy": "2024-08-26T14:33:36.682995Z",
     "iopub.status.idle": "2024-08-26T14:33:37.808878Z",
     "shell.execute_reply": "2024-08-26T14:33:37.808246Z"
    }
   },
   "outputs": [],
   "source": [
    "from pdstools import ADMDatamart\n",
    "from pdstools import Config, DataAnonymization\n",
    "import polars as pl"
   ]
  },
  {
   "attachments": {},
   "cell_type": "markdown",
   "metadata": {},
   "source": [
    "## Input data\n",
    "\n",
    "To demonstrate this process, we're going to anonymise this toy example dataframe:"
   ]
  },
  {
   "cell_type": "code",
   "execution_count": 3,
   "metadata": {
    "execution": {
     "iopub.execute_input": "2024-08-26T14:33:37.811732Z",
     "iopub.status.busy": "2024-08-26T14:33:37.811191Z",
     "iopub.status.idle": "2024-08-26T14:33:37.820176Z",
     "shell.execute_reply": "2024-08-26T14:33:37.819664Z"
    }
   },
   "outputs": [
    {
     "data": {
      "text/html": [
       "<div><style>\n",
       ".dataframe > thead > tr,\n",
       ".dataframe > tbody > tr {\n",
       "  text-align: right;\n",
       "  white-space: pre-wrap;\n",
       "}\n",
       "</style>\n",
       "<small>shape: (7, 6)</small><table border=\"1\" class=\"dataframe\"><thead><tr><th>Context_Name</th><th>Customer_MaritalStatus</th><th>Customer_CLV</th><th>Customer_City</th><th>IH_Web_Inbound_Accepted_pxLastGroupID</th><th>Decision_Outcome</th></tr><tr><td>str</td><td>str</td><td>i64</td><td>str</td><td>str</td><td>str</td></tr></thead><tbody><tr><td>&quot;FirstMortgage30yr&quot;</td><td>&quot;Married&quot;</td><td>1460</td><td>&quot;Port Raoul&quot;</td><td>&quot;Account&quot;</td><td>&quot;Rejected&quot;</td></tr><tr><td>&quot;FirstMortgage30yr&quot;</td><td>&quot;Unknown&quot;</td><td>669</td><td>&quot;Laurianneshire&quot;</td><td>&quot;AutoLoans&quot;</td><td>&quot;Accepted&quot;</td></tr><tr><td>&quot;MoneyMarketSavingsAccount&quot;</td><td>&quot;No Resp+&quot;</td><td>1174</td><td>&quot;Jacobshaven&quot;</td><td>&quot;Account&quot;</td><td>&quot;Rejected&quot;</td></tr><tr><td>&quot;BasicChecking&quot;</td><td>&quot;Unknown&quot;</td><td>1476</td><td>&quot;Lindton&quot;</td><td>&quot;Account&quot;</td><td>&quot;Rejected&quot;</td></tr><tr><td>&quot;BasicChecking&quot;</td><td>&quot;Married&quot;</td><td>1211</td><td>&quot;South Jimmieshire&quot;</td><td>&quot;DepositAccounts&quot;</td><td>&quot;Accepted&quot;</td></tr><tr><td>&quot;UPlusFinPersonal&quot;</td><td>&quot;No Resp+&quot;</td><td>533</td><td>&quot;Bergeville&quot;</td><td>null</td><td>&quot;Rejected&quot;</td></tr><tr><td>&quot;BasicChecking&quot;</td><td>&quot;No Resp+&quot;</td><td>555</td><td>&quot;Willyville&quot;</td><td>&quot;DepositAccounts&quot;</td><td>&quot;Rejected&quot;</td></tr></tbody></table></div>"
      ],
      "text/plain": [
       "shape: (7, 6)\n",
       "┌────────────────┬────────────────┬──────────────┬────────────────┬────────────────┬───────────────┐\n",
       "│ Context_Name   ┆ Customer_Marit ┆ Customer_CLV ┆ Customer_City  ┆ IH_Web_Inbound ┆ Decision_Outc │\n",
       "│ ---            ┆ alStatus       ┆ ---          ┆ ---            ┆ _Accepted_pxLa ┆ ome           │\n",
       "│ str            ┆ ---            ┆ i64          ┆ str            ┆ st…            ┆ ---           │\n",
       "│                ┆ str            ┆              ┆                ┆ ---            ┆ str           │\n",
       "│                ┆                ┆              ┆                ┆ str            ┆               │\n",
       "╞════════════════╪════════════════╪══════════════╪════════════════╪════════════════╪═══════════════╡\n",
       "│ FirstMortgage3 ┆ Married        ┆ 1460         ┆ Port Raoul     ┆ Account        ┆ Rejected      │\n",
       "│ 0yr            ┆                ┆              ┆                ┆                ┆               │\n",
       "│ FirstMortgage3 ┆ Unknown        ┆ 669          ┆ Laurianneshire ┆ AutoLoans      ┆ Accepted      │\n",
       "│ 0yr            ┆                ┆              ┆                ┆                ┆               │\n",
       "│ MoneyMarketSav ┆ No Resp+       ┆ 1174         ┆ Jacobshaven    ┆ Account        ┆ Rejected      │\n",
       "│ ingsAccount    ┆                ┆              ┆                ┆                ┆               │\n",
       "│ BasicChecking  ┆ Unknown        ┆ 1476         ┆ Lindton        ┆ Account        ┆ Rejected      │\n",
       "│ BasicChecking  ┆ Married        ┆ 1211         ┆ South          ┆ DepositAccount ┆ Accepted      │\n",
       "│                ┆                ┆              ┆ Jimmieshire    ┆ s              ┆               │\n",
       "│ UPlusFinPerson ┆ No Resp+       ┆ 533          ┆ Bergeville     ┆ null           ┆ Rejected      │\n",
       "│ al             ┆                ┆              ┆                ┆                ┆               │\n",
       "│ BasicChecking  ┆ No Resp+       ┆ 555          ┆ Willyville     ┆ DepositAccount ┆ Rejected      │\n",
       "│                ┆                ┆              ┆                ┆ s              ┆               │\n",
       "└────────────────┴────────────────┴──────────────┴────────────────┴────────────────┴───────────────┘"
      ]
     },
     "execution_count": 3,
     "metadata": {},
     "output_type": "execute_result"
    }
   ],
   "source": [
    "pl.read_ndjson('../../../../data/SampleHDS.json')"
   ]
  },
  {
   "attachments": {},
   "cell_type": "markdown",
   "metadata": {},
   "source": [
    "As you can see, this dataset consists of regular predictors, IH predictors, context keys and the outcome column. Additionally, some columns are numeric, others are strings. Let's first initialize the DataAnonymization class."
   ]
  },
  {
   "cell_type": "code",
   "execution_count": 4,
   "metadata": {
    "execution": {
     "iopub.execute_input": "2024-08-26T14:33:37.822194Z",
     "iopub.status.busy": "2024-08-26T14:33:37.822017Z",
     "iopub.status.idle": "2024-08-26T14:33:37.832976Z",
     "shell.execute_reply": "2024-08-26T14:33:37.832496Z"
    }
   },
   "outputs": [],
   "source": [
    "anon = DataAnonymization(hds_folder='../../../../data/')"
   ]
  },
  {
   "attachments": {},
   "cell_type": "markdown",
   "metadata": {},
   "source": [
    "By default, the class applies a set of anonymisation techniques:\n",
    "- Column names are remapped to a non-descriptive name\n",
    "- Categorical values are hashed with a random seed\n",
    "- Numerical values are normalized between 0 and 1\n",
    "- Outcomes are mapped to a binary outcome.\n",
    "\n",
    "To apply these techniques, simply call `.process()`:"
   ]
  },
  {
   "cell_type": "code",
   "execution_count": 5,
   "metadata": {
    "execution": {
     "iopub.execute_input": "2024-08-26T14:33:37.835317Z",
     "iopub.status.busy": "2024-08-26T14:33:37.834988Z",
     "iopub.status.idle": "2024-08-26T14:33:37.840430Z",
     "shell.execute_reply": "2024-08-26T14:33:37.839909Z"
    }
   },
   "outputs": [
    {
     "data": {
      "text/html": [
       "<div><style>\n",
       ".dataframe > thead > tr,\n",
       ".dataframe > tbody > tr {\n",
       "  text-align: right;\n",
       "  white-space: pre-wrap;\n",
       "}\n",
       "</style>\n",
       "<small>shape: (7, 7)</small><table border=\"1\" class=\"dataframe\"><thead><tr><th>PREDICTOR_0</th><th>filename</th><th>PREDICTOR_2</th><th>PREDICTOR_3</th><th>Context_Name</th><th>IH_PREDICTOR_0</th><th>Decision_Outcome</th></tr><tr><td>str</td><td>str</td><td>f64</td><td>str</td><td>str</td><td>str</td><td>bool</td></tr></thead><tbody><tr><td>&quot;5398360169311843157&quot;</td><td>&quot;../../../../data/SampleHDS.jso…</td><td>4.0268e18</td><td>&quot;15892369649658543097&quot;</td><td>&quot;12006942628514731319&quot;</td><td>&quot;16148460541627308395&quot;</td><td>false</td></tr><tr><td>&quot;11967296035907955873&quot;</td><td>&quot;../../../../data/SampleHDS.jso…</td><td>1.8007e19</td><td>&quot;2777111513117214561&quot;</td><td>&quot;12006942628514731319&quot;</td><td>&quot;14022302925660943236&quot;</td><td>true</td></tr><tr><td>&quot;3942435161784834817&quot;</td><td>&quot;../../../../data/SampleHDS.jso…</td><td>1.7204e19</td><td>&quot;10880544421112658989&quot;</td><td>&quot;14378043338182894103&quot;</td><td>&quot;16148460541627308395&quot;</td><td>false</td></tr><tr><td>&quot;11967296035907955873&quot;</td><td>&quot;../../../../data/SampleHDS.jso…</td><td>3.6445e18</td><td>&quot;6591241293613560564&quot;</td><td>&quot;13094853007860835240&quot;</td><td>&quot;16148460541627308395&quot;</td><td>false</td></tr><tr><td>&quot;5398360169311843157&quot;</td><td>&quot;../../../../data/SampleHDS.jso…</td><td>2.7231e18</td><td>&quot;17600854238110156777&quot;</td><td>&quot;13094853007860835240&quot;</td><td>&quot;414425427498139499&quot;</td><td>true</td></tr><tr><td>&quot;3942435161784834817&quot;</td><td>&quot;../../../../data/SampleHDS.jso…</td><td>7.9901e18</td><td>&quot;12713277038932338672&quot;</td><td>&quot;6252894449529604079&quot;</td><td>null</td><td>false</td></tr><tr><td>&quot;3942435161784834817&quot;</td><td>&quot;../../../../data/SampleHDS.jso…</td><td>5.3511e18</td><td>&quot;4464362995733085047&quot;</td><td>&quot;13094853007860835240&quot;</td><td>&quot;414425427498139499&quot;</td><td>false</td></tr></tbody></table></div>"
      ],
      "text/plain": [
       "shape: (7, 7)\n",
       "┌──────────────┬─────────────┬─────────────┬─────────────┬─────────────┬─────────────┬─────────────┐\n",
       "│ PREDICTOR_0  ┆ filename    ┆ PREDICTOR_2 ┆ PREDICTOR_3 ┆ Context_Nam ┆ IH_PREDICTO ┆ Decision_Ou │\n",
       "│ ---          ┆ ---         ┆ ---         ┆ ---         ┆ e           ┆ R_0         ┆ tcome       │\n",
       "│ str          ┆ str         ┆ f64         ┆ str         ┆ ---         ┆ ---         ┆ ---         │\n",
       "│              ┆             ┆             ┆             ┆ str         ┆ str         ┆ bool        │\n",
       "╞══════════════╪═════════════╪═════════════╪═════════════╪═════════════╪═════════════╪═════════════╡\n",
       "│ 539836016931 ┆ ../../../.. ┆ 4.0268e18   ┆ 15892369649 ┆ 12006942628 ┆ 16148460541 ┆ false       │\n",
       "│ 1843157      ┆ /data/Sampl ┆             ┆ 658543097   ┆ 514731319   ┆ 627308395   ┆             │\n",
       "│              ┆ eHDS.jso…   ┆             ┆             ┆             ┆             ┆             │\n",
       "│ 119672960359 ┆ ../../../.. ┆ 1.8007e19   ┆ 27771115131 ┆ 12006942628 ┆ 14022302925 ┆ true        │\n",
       "│ 07955873     ┆ /data/Sampl ┆             ┆ 17214561    ┆ 514731319   ┆ 660943236   ┆             │\n",
       "│              ┆ eHDS.jso…   ┆             ┆             ┆             ┆             ┆             │\n",
       "│ 394243516178 ┆ ../../../.. ┆ 1.7204e19   ┆ 10880544421 ┆ 14378043338 ┆ 16148460541 ┆ false       │\n",
       "│ 4834817      ┆ /data/Sampl ┆             ┆ 112658989   ┆ 182894103   ┆ 627308395   ┆             │\n",
       "│              ┆ eHDS.jso…   ┆             ┆             ┆             ┆             ┆             │\n",
       "│ 119672960359 ┆ ../../../.. ┆ 3.6445e18   ┆ 65912412936 ┆ 13094853007 ┆ 16148460541 ┆ false       │\n",
       "│ 07955873     ┆ /data/Sampl ┆             ┆ 13560564    ┆ 860835240   ┆ 627308395   ┆             │\n",
       "│              ┆ eHDS.jso…   ┆             ┆             ┆             ┆             ┆             │\n",
       "│ 539836016931 ┆ ../../../.. ┆ 2.7231e18   ┆ 17600854238 ┆ 13094853007 ┆ 41442542749 ┆ true        │\n",
       "│ 1843157      ┆ /data/Sampl ┆             ┆ 110156777   ┆ 860835240   ┆ 8139499     ┆             │\n",
       "│              ┆ eHDS.jso…   ┆             ┆             ┆             ┆             ┆             │\n",
       "│ 394243516178 ┆ ../../../.. ┆ 7.9901e18   ┆ 12713277038 ┆ 62528944495 ┆ null        ┆ false       │\n",
       "│ 4834817      ┆ /data/Sampl ┆             ┆ 932338672   ┆ 29604079    ┆             ┆             │\n",
       "│              ┆ eHDS.jso…   ┆             ┆             ┆             ┆             ┆             │\n",
       "│ 394243516178 ┆ ../../../.. ┆ 5.3511e18   ┆ 44643629957 ┆ 13094853007 ┆ 41442542749 ┆ false       │\n",
       "│ 4834817      ┆ /data/Sampl ┆             ┆ 33085047    ┆ 860835240   ┆ 8139499     ┆             │\n",
       "│              ┆ eHDS.jso…   ┆             ┆             ┆             ┆             ┆             │\n",
       "└──────────────┴─────────────┴─────────────┴─────────────┴─────────────┴─────────────┴─────────────┘"
      ]
     },
     "execution_count": 5,
     "metadata": {},
     "output_type": "execute_result"
    }
   ],
   "source": [
    "anon.process()"
   ]
  },
  {
   "attachments": {},
   "cell_type": "markdown",
   "metadata": {},
   "source": [
    "To trace back the columns to their original names, the class also contains a mapping, which does not have to be provided."
   ]
  },
  {
   "cell_type": "code",
   "execution_count": 6,
   "metadata": {
    "execution": {
     "iopub.execute_input": "2024-08-26T14:33:37.842434Z",
     "iopub.status.busy": "2024-08-26T14:33:37.842122Z",
     "iopub.status.idle": "2024-08-26T14:33:37.845969Z",
     "shell.execute_reply": "2024-08-26T14:33:37.845399Z"
    }
   },
   "outputs": [
    {
     "data": {
      "text/plain": [
       "{'Customer_MaritalStatus': 'PREDICTOR_0',\n",
       " 'filename': 'filename',\n",
       " 'Customer_CLV': 'PREDICTOR_2',\n",
       " 'Customer_City': 'PREDICTOR_3',\n",
       " 'Context_Name': 'Context_Name',\n",
       " 'IH_Web_Inbound_Accepted_pxLastGroupID': 'IH_PREDICTOR_0',\n",
       " 'Decision_Outcome': 'Decision_Outcome'}"
      ]
     },
     "execution_count": 6,
     "metadata": {},
     "output_type": "execute_result"
    }
   ],
   "source": [
    "anon.column_mapping"
   ]
  },
  {
   "attachments": {},
   "cell_type": "markdown",
   "metadata": {},
   "source": [
    "## Configs\n",
    "\n",
    "Each capability can optionally be turned off - see below for the full list of config options, and refer to the API reference for the full description."
   ]
  },
  {
   "cell_type": "code",
   "execution_count": 7,
   "metadata": {
    "execution": {
     "iopub.execute_input": "2024-08-26T14:33:37.848148Z",
     "iopub.status.busy": "2024-08-26T14:33:37.847828Z",
     "iopub.status.idle": "2024-08-26T14:33:37.852424Z",
     "shell.execute_reply": "2024-08-26T14:33:37.851860Z"
    }
   },
   "outputs": [
    {
     "data": {
      "text/plain": [
       "{'config_file': None,\n",
       " 'hds_folder': '.',\n",
       " 'use_datamart': False,\n",
       " 'datamart_folder': 'datamart',\n",
       " 'output_format': 'ndjson',\n",
       " 'output_folder': 'output',\n",
       " 'mapping_file': 'mapping.map',\n",
       " 'mask_predictor_names': True,\n",
       " 'mask_context_key_names': False,\n",
       " 'mask_ih_names': True,\n",
       " 'mask_outcome_name': False,\n",
       " 'mask_predictor_values': True,\n",
       " 'mask_context_key_values': True,\n",
       " 'mask_ih_values': True,\n",
       " 'mask_outcome_values': True,\n",
       " 'context_key_label': 'Context_*',\n",
       " 'ih_label': 'IH_*',\n",
       " 'outcome_column': 'Decision_Outcome',\n",
       " 'positive_outcomes': ['Accepted', 'Clicked'],\n",
       " 'negative_outcomes': ['Rejected', 'Impression'],\n",
       " 'special_predictors': ['Decision_DecisionTime',\n",
       "  'Decision_OutcomeTime',\n",
       "  'Decision_Rank'],\n",
       " 'sample_percentage_schema_inferencing': 0.01}"
      ]
     },
     "execution_count": 7,
     "metadata": {},
     "output_type": "execute_result"
    }
   ],
   "source": [
    "dict(zip(Config.__init__.__code__.co_varnames[1:], Config.__init__.__defaults__))"
   ]
  },
  {
   "attachments": {},
   "cell_type": "markdown",
   "metadata": {},
   "source": [
    "It's easy to change these parameters by just passing the keyword arguments. In the following example, we\n",
    "- Keep the IH predictor names\n",
    "- Keep the outcome values\n",
    "- Keep the context key values\n",
    "- Keep the context key predictor names"
   ]
  },
  {
   "cell_type": "code",
   "execution_count": 8,
   "metadata": {
    "execution": {
     "iopub.execute_input": "2024-08-26T14:33:37.854574Z",
     "iopub.status.busy": "2024-08-26T14:33:37.854213Z",
     "iopub.status.idle": "2024-08-26T14:33:37.862591Z",
     "shell.execute_reply": "2024-08-26T14:33:37.862124Z"
    }
   },
   "outputs": [
    {
     "data": {
      "text/html": [
       "<div><style>\n",
       ".dataframe > thead > tr,\n",
       ".dataframe > tbody > tr {\n",
       "  text-align: right;\n",
       "  white-space: pre-wrap;\n",
       "}\n",
       "</style>\n",
       "<small>shape: (7, 7)</small><table border=\"1\" class=\"dataframe\"><thead><tr><th>PREDICTOR_0</th><th>filename</th><th>PREDICTOR_2</th><th>PREDICTOR_3</th><th>Context_Name</th><th>IH_Web_Inbound_Accepted_pxLastGroupID</th><th>Decision_Outcome</th></tr><tr><td>str</td><td>str</td><td>f64</td><td>str</td><td>str</td><td>str</td><td>str</td></tr></thead><tbody><tr><td>&quot;15848002248818613278&quot;</td><td>&quot;../../../../data/SampleHDS.jso…</td><td>1.1174e19</td><td>&quot;9265325719151228614&quot;</td><td>&quot;FirstMortgage30yr&quot;</td><td>&quot;17848911494475000563&quot;</td><td>&quot;Rejected&quot;</td></tr><tr><td>&quot;12137295744880477336&quot;</td><td>&quot;../../../../data/SampleHDS.jso…</td><td>1.7827e19</td><td>&quot;7786423225957336511&quot;</td><td>&quot;FirstMortgage30yr&quot;</td><td>&quot;4579887283956551099&quot;</td><td>&quot;Accepted&quot;</td></tr><tr><td>&quot;8820671509832720296&quot;</td><td>&quot;../../../../data/SampleHDS.jso…</td><td>1.5646e19</td><td>&quot;13841085348251792078&quot;</td><td>&quot;MoneyMarketSavingsAccount&quot;</td><td>&quot;17848911494475000563&quot;</td><td>&quot;Rejected&quot;</td></tr><tr><td>&quot;12137295744880477336&quot;</td><td>&quot;../../../../data/SampleHDS.jso…</td><td>4.6115e18</td><td>&quot;2677400569047684887&quot;</td><td>&quot;BasicChecking&quot;</td><td>&quot;17848911494475000563&quot;</td><td>&quot;Rejected&quot;</td></tr><tr><td>&quot;15848002248818613278&quot;</td><td>&quot;../../../../data/SampleHDS.jso…</td><td>8.6191e18</td><td>&quot;8903079026211318661&quot;</td><td>&quot;BasicChecking&quot;</td><td>&quot;16061984791637900534&quot;</td><td>&quot;Accepted&quot;</td></tr><tr><td>&quot;8820671509832720296&quot;</td><td>&quot;../../../../data/SampleHDS.jso…</td><td>4.6931e18</td><td>&quot;5274141283598386803&quot;</td><td>&quot;UPlusFinPersonal&quot;</td><td>null</td><td>&quot;Rejected&quot;</td></tr><tr><td>&quot;8820671509832720296&quot;</td><td>&quot;../../../../data/SampleHDS.jso…</td><td>9.0406e18</td><td>&quot;9296877367927305653&quot;</td><td>&quot;BasicChecking&quot;</td><td>&quot;16061984791637900534&quot;</td><td>&quot;Rejected&quot;</td></tr></tbody></table></div>"
      ],
      "text/plain": [
       "shape: (7, 7)\n",
       "┌──────────────┬─────────────┬─────────────┬─────────────┬─────────────┬─────────────┬─────────────┐\n",
       "│ PREDICTOR_0  ┆ filename    ┆ PREDICTOR_2 ┆ PREDICTOR_3 ┆ Context_Nam ┆ IH_Web_Inbo ┆ Decision_Ou │\n",
       "│ ---          ┆ ---         ┆ ---         ┆ ---         ┆ e           ┆ und_Accepte ┆ tcome       │\n",
       "│ str          ┆ str         ┆ f64         ┆ str         ┆ ---         ┆ d_pxLast…   ┆ ---         │\n",
       "│              ┆             ┆             ┆             ┆ str         ┆ ---         ┆ str         │\n",
       "│              ┆             ┆             ┆             ┆             ┆ str         ┆             │\n",
       "╞══════════════╪═════════════╪═════════════╪═════════════╪═════════════╪═════════════╪═════════════╡\n",
       "│ 158480022488 ┆ ../../../.. ┆ 1.1174e19   ┆ 92653257191 ┆ FirstMortga ┆ 17848911494 ┆ Rejected    │\n",
       "│ 18613278     ┆ /data/Sampl ┆             ┆ 51228614    ┆ ge30yr      ┆ 475000563   ┆             │\n",
       "│              ┆ eHDS.jso…   ┆             ┆             ┆             ┆             ┆             │\n",
       "│ 121372957448 ┆ ../../../.. ┆ 1.7827e19   ┆ 77864232259 ┆ FirstMortga ┆ 45798872839 ┆ Accepted    │\n",
       "│ 80477336     ┆ /data/Sampl ┆             ┆ 57336511    ┆ ge30yr      ┆ 56551099    ┆             │\n",
       "│              ┆ eHDS.jso…   ┆             ┆             ┆             ┆             ┆             │\n",
       "│ 882067150983 ┆ ../../../.. ┆ 1.5646e19   ┆ 13841085348 ┆ MoneyMarket ┆ 17848911494 ┆ Rejected    │\n",
       "│ 2720296      ┆ /data/Sampl ┆             ┆ 251792078   ┆ SavingsAcco ┆ 475000563   ┆             │\n",
       "│              ┆ eHDS.jso…   ┆             ┆             ┆ unt         ┆             ┆             │\n",
       "│ 121372957448 ┆ ../../../.. ┆ 4.6115e18   ┆ 26774005690 ┆ BasicChecki ┆ 17848911494 ┆ Rejected    │\n",
       "│ 80477336     ┆ /data/Sampl ┆             ┆ 47684887    ┆ ng          ┆ 475000563   ┆             │\n",
       "│              ┆ eHDS.jso…   ┆             ┆             ┆             ┆             ┆             │\n",
       "│ 158480022488 ┆ ../../../.. ┆ 8.6191e18   ┆ 89030790262 ┆ BasicChecki ┆ 16061984791 ┆ Accepted    │\n",
       "│ 18613278     ┆ /data/Sampl ┆             ┆ 11318661    ┆ ng          ┆ 637900534   ┆             │\n",
       "│              ┆ eHDS.jso…   ┆             ┆             ┆             ┆             ┆             │\n",
       "│ 882067150983 ┆ ../../../.. ┆ 4.6931e18   ┆ 52741412835 ┆ UPlusFinPer ┆ null        ┆ Rejected    │\n",
       "│ 2720296      ┆ /data/Sampl ┆             ┆ 98386803    ┆ sonal       ┆             ┆             │\n",
       "│              ┆ eHDS.jso…   ┆             ┆             ┆             ┆             ┆             │\n",
       "│ 882067150983 ┆ ../../../.. ┆ 9.0406e18   ┆ 92968773679 ┆ BasicChecki ┆ 16061984791 ┆ Rejected    │\n",
       "│ 2720296      ┆ /data/Sampl ┆             ┆ 27305653    ┆ ng          ┆ 637900534   ┆             │\n",
       "│              ┆ eHDS.jso…   ┆             ┆             ┆             ┆             ┆             │\n",
       "└──────────────┴─────────────┴─────────────┴─────────────┴─────────────┴─────────────┴─────────────┘"
      ]
     },
     "execution_count": 8,
     "metadata": {},
     "output_type": "execute_result"
    }
   ],
   "source": [
    "anon = DataAnonymization(\n",
    "    hds_folder=\"../../../../data/\",\n",
    "    mask_ih_names=False,\n",
    "    mask_outcome_values=False,\n",
    "    mask_context_key_values=False,\n",
    "    mask_context_key_names=False,\n",
    ")\n",
    "anon.process()\n"
   ]
  },
  {
   "attachments": {},
   "cell_type": "markdown",
   "metadata": {},
   "source": [
    "The configs can also be written and read as such:"
   ]
  },
  {
   "cell_type": "code",
   "execution_count": 9,
   "metadata": {
    "execution": {
     "iopub.execute_input": "2024-08-26T14:33:37.864693Z",
     "iopub.status.busy": "2024-08-26T14:33:37.864351Z",
     "iopub.status.idle": "2024-08-26T14:33:37.867268Z",
     "shell.execute_reply": "2024-08-26T14:33:37.866800Z"
    }
   },
   "outputs": [],
   "source": [
    "anon.config.save_to_config_file('config.json')"
   ]
  },
  {
   "cell_type": "code",
   "execution_count": 10,
   "metadata": {
    "execution": {
     "iopub.execute_input": "2024-08-26T14:33:37.869213Z",
     "iopub.status.busy": "2024-08-26T14:33:37.868897Z",
     "iopub.status.idle": "2024-08-26T14:33:37.876357Z",
     "shell.execute_reply": "2024-08-26T14:33:37.875918Z"
    }
   },
   "outputs": [
    {
     "data": {
      "text/html": [
       "<div><style>\n",
       ".dataframe > thead > tr,\n",
       ".dataframe > tbody > tr {\n",
       "  text-align: right;\n",
       "  white-space: pre-wrap;\n",
       "}\n",
       "</style>\n",
       "<small>shape: (7, 7)</small><table border=\"1\" class=\"dataframe\"><thead><tr><th>PREDICTOR_0</th><th>filename</th><th>PREDICTOR_2</th><th>PREDICTOR_3</th><th>Context_Name</th><th>IH_Web_Inbound_Accepted_pxLastGroupID</th><th>Decision_Outcome</th></tr><tr><td>str</td><td>str</td><td>f64</td><td>str</td><td>str</td><td>str</td><td>str</td></tr></thead><tbody><tr><td>&quot;18275008459824845603&quot;</td><td>&quot;../../../../data/SampleHDS.jso…</td><td>8.0232e18</td><td>&quot;5649658576739015925&quot;</td><td>&quot;FirstMortgage30yr&quot;</td><td>&quot;14943934164341550875&quot;</td><td>&quot;Rejected&quot;</td></tr><tr><td>&quot;8590213773274579899&quot;</td><td>&quot;../../../../data/SampleHDS.jso…</td><td>2.0868e18</td><td>&quot;3168970876485338324&quot;</td><td>&quot;FirstMortgage30yr&quot;</td><td>&quot;2187542552179307146&quot;</td><td>&quot;Accepted&quot;</td></tr><tr><td>&quot;15363642437953389018&quot;</td><td>&quot;../../../../data/SampleHDS.jso…</td><td>1.5944e18</td><td>&quot;10049073876774012354&quot;</td><td>&quot;MoneyMarketSavingsAccount&quot;</td><td>&quot;14943934164341550875&quot;</td><td>&quot;Rejected&quot;</td></tr><tr><td>&quot;8590213773274579899&quot;</td><td>&quot;../../../../data/SampleHDS.jso…</td><td>1.6563e19</td><td>&quot;14346743418436570435&quot;</td><td>&quot;BasicChecking&quot;</td><td>&quot;14943934164341550875&quot;</td><td>&quot;Rejected&quot;</td></tr><tr><td>&quot;18275008459824845603&quot;</td><td>&quot;../../../../data/SampleHDS.jso…</td><td>1.7966e19</td><td>&quot;908489365961842223&quot;</td><td>&quot;BasicChecking&quot;</td><td>&quot;8909604001254530810&quot;</td><td>&quot;Accepted&quot;</td></tr><tr><td>&quot;15363642437953389018&quot;</td><td>&quot;../../../../data/SampleHDS.jso…</td><td>1.3352e19</td><td>&quot;16690391885718434369&quot;</td><td>&quot;UPlusFinPersonal&quot;</td><td>null</td><td>&quot;Rejected&quot;</td></tr><tr><td>&quot;15363642437953389018&quot;</td><td>&quot;../../../../data/SampleHDS.jso…</td><td>1.2693e19</td><td>&quot;1214614062180410552&quot;</td><td>&quot;BasicChecking&quot;</td><td>&quot;8909604001254530810&quot;</td><td>&quot;Rejected&quot;</td></tr></tbody></table></div>"
      ],
      "text/plain": [
       "shape: (7, 7)\n",
       "┌──────────────┬─────────────┬─────────────┬─────────────┬─────────────┬─────────────┬─────────────┐\n",
       "│ PREDICTOR_0  ┆ filename    ┆ PREDICTOR_2 ┆ PREDICTOR_3 ┆ Context_Nam ┆ IH_Web_Inbo ┆ Decision_Ou │\n",
       "│ ---          ┆ ---         ┆ ---         ┆ ---         ┆ e           ┆ und_Accepte ┆ tcome       │\n",
       "│ str          ┆ str         ┆ f64         ┆ str         ┆ ---         ┆ d_pxLast…   ┆ ---         │\n",
       "│              ┆             ┆             ┆             ┆ str         ┆ ---         ┆ str         │\n",
       "│              ┆             ┆             ┆             ┆             ┆ str         ┆             │\n",
       "╞══════════════╪═════════════╪═════════════╪═════════════╪═════════════╪═════════════╪═════════════╡\n",
       "│ 182750084598 ┆ ../../../.. ┆ 8.0232e18   ┆ 56496585767 ┆ FirstMortga ┆ 14943934164 ┆ Rejected    │\n",
       "│ 24845603     ┆ /data/Sampl ┆             ┆ 39015925    ┆ ge30yr      ┆ 341550875   ┆             │\n",
       "│              ┆ eHDS.jso…   ┆             ┆             ┆             ┆             ┆             │\n",
       "│ 859021377327 ┆ ../../../.. ┆ 2.0868e18   ┆ 31689708764 ┆ FirstMortga ┆ 21875425521 ┆ Accepted    │\n",
       "│ 4579899      ┆ /data/Sampl ┆             ┆ 85338324    ┆ ge30yr      ┆ 79307146    ┆             │\n",
       "│              ┆ eHDS.jso…   ┆             ┆             ┆             ┆             ┆             │\n",
       "│ 153636424379 ┆ ../../../.. ┆ 1.5944e18   ┆ 10049073876 ┆ MoneyMarket ┆ 14943934164 ┆ Rejected    │\n",
       "│ 53389018     ┆ /data/Sampl ┆             ┆ 774012354   ┆ SavingsAcco ┆ 341550875   ┆             │\n",
       "│              ┆ eHDS.jso…   ┆             ┆             ┆ unt         ┆             ┆             │\n",
       "│ 859021377327 ┆ ../../../.. ┆ 1.6563e19   ┆ 14346743418 ┆ BasicChecki ┆ 14943934164 ┆ Rejected    │\n",
       "│ 4579899      ┆ /data/Sampl ┆             ┆ 436570435   ┆ ng          ┆ 341550875   ┆             │\n",
       "│              ┆ eHDS.jso…   ┆             ┆             ┆             ┆             ┆             │\n",
       "│ 182750084598 ┆ ../../../.. ┆ 1.7966e19   ┆ 90848936596 ┆ BasicChecki ┆ 89096040012 ┆ Accepted    │\n",
       "│ 24845603     ┆ /data/Sampl ┆             ┆ 1842223     ┆ ng          ┆ 54530810    ┆             │\n",
       "│              ┆ eHDS.jso…   ┆             ┆             ┆             ┆             ┆             │\n",
       "│ 153636424379 ┆ ../../../.. ┆ 1.3352e19   ┆ 16690391885 ┆ UPlusFinPer ┆ null        ┆ Rejected    │\n",
       "│ 53389018     ┆ /data/Sampl ┆             ┆ 718434369   ┆ sonal       ┆             ┆             │\n",
       "│              ┆ eHDS.jso…   ┆             ┆             ┆             ┆             ┆             │\n",
       "│ 153636424379 ┆ ../../../.. ┆ 1.2693e19   ┆ 12146140621 ┆ BasicChecki ┆ 89096040012 ┆ Rejected    │\n",
       "│ 53389018     ┆ /data/Sampl ┆             ┆ 80410552    ┆ ng          ┆ 54530810    ┆             │\n",
       "│              ┆ eHDS.jso…   ┆             ┆             ┆             ┆             ┆             │\n",
       "└──────────────┴─────────────┴─────────────┴─────────────┴─────────────┴─────────────┴─────────────┘"
      ]
     },
     "execution_count": 10,
     "metadata": {},
     "output_type": "execute_result"
    }
   ],
   "source": [
    "anon = DataAnonymization(config=Config(config_file='config.json'))\n",
    "anon.process()"
   ]
  },
  {
   "attachments": {},
   "cell_type": "markdown",
   "metadata": {},
   "source": [
    "## Exporting\n",
    "Two functions export:\n",
    "- `create_mapping_file()` writes the mapping file of the predictor names\n",
    "- `write_to_output()` writes the processed dataframe to disk\n",
    "\n",
    "Write to output accepts the following extensions: `[\"ndjson\", \"parquet\", \"arrow\", \"csv\"]`"
   ]
  },
  {
   "cell_type": "code",
   "execution_count": 11,
   "metadata": {
    "execution": {
     "iopub.execute_input": "2024-08-26T14:33:37.878345Z",
     "iopub.status.busy": "2024-08-26T14:33:37.877979Z",
     "iopub.status.idle": "2024-08-26T14:33:37.881369Z",
     "shell.execute_reply": "2024-08-26T14:33:37.880939Z"
    }
   },
   "outputs": [
    {
     "name": "stdout",
     "output_type": "stream",
     "text": [
      "Customer_MaritalStatus=PREDICTOR_0\n",
      "filename=filename\n",
      "Customer_CLV=PREDICTOR_2\n",
      "Customer_City=PREDICTOR_3\n",
      "Context_Name=Context_Name\n",
      "IH_Web_Inbound_Accepted_pxLastGroupID=IH_Web_Inbound_Accepted_pxLastGroupID\n",
      "Decision_Outcome=Decision_Outcome\n",
      "\n"
     ]
    }
   ],
   "source": [
    "anon.create_mapping_file()\n",
    "with open('mapping.map') as f:\n",
    "    print(f.read())"
   ]
  },
  {
   "cell_type": "code",
   "execution_count": 12,
   "metadata": {
    "execution": {
     "iopub.execute_input": "2024-08-26T14:33:37.883415Z",
     "iopub.status.busy": "2024-08-26T14:33:37.883019Z",
     "iopub.status.idle": "2024-08-26T14:33:37.886757Z",
     "shell.execute_reply": "2024-08-26T14:33:37.886222Z"
    }
   },
   "outputs": [],
   "source": [
    "anon.write_to_output(ext='arrow')"
   ]
  },
  {
   "cell_type": "code",
   "execution_count": 13,
   "metadata": {
    "execution": {
     "iopub.execute_input": "2024-08-26T14:33:37.888920Z",
     "iopub.status.busy": "2024-08-26T14:33:37.888529Z",
     "iopub.status.idle": "2024-08-26T14:33:37.893064Z",
     "shell.execute_reply": "2024-08-26T14:33:37.892562Z"
    }
   },
   "outputs": [
    {
     "data": {
      "text/html": [
       "<div><style>\n",
       ".dataframe > thead > tr,\n",
       ".dataframe > tbody > tr {\n",
       "  text-align: right;\n",
       "  white-space: pre-wrap;\n",
       "}\n",
       "</style>\n",
       "<small>shape: (7, 6)</small><table border=\"1\" class=\"dataframe\"><thead><tr><th>PREDICTOR_0</th><th>PREDICTOR_2</th><th>PREDICTOR_3</th><th>Context_Name</th><th>IH_Web_Inbound_Accepted_pxLastGroupID</th><th>Decision_Outcome</th></tr><tr><td>str</td><td>f64</td><td>str</td><td>str</td><td>str</td><td>str</td></tr></thead><tbody><tr><td>&quot;5647345435870296968&quot;</td><td>5.2020e18</td><td>&quot;3668836460984522919&quot;</td><td>&quot;FirstMortgage30yr&quot;</td><td>&quot;17972151441301669959&quot;</td><td>&quot;Rejected&quot;</td></tr><tr><td>&quot;11658568607905760119&quot;</td><td>8.4144e18</td><td>&quot;10562454662844849814&quot;</td><td>&quot;FirstMortgage30yr&quot;</td><td>&quot;11399796510172690371&quot;</td><td>&quot;Accepted&quot;</td></tr><tr><td>&quot;1216230209140611405&quot;</td><td>4.1117e18</td><td>&quot;10941993694228804024&quot;</td><td>&quot;MoneyMarketSavingsAccount&quot;</td><td>&quot;17972151441301669959&quot;</td><td>&quot;Rejected&quot;</td></tr><tr><td>&quot;11658568607905760119&quot;</td><td>4.6745e18</td><td>&quot;453143593466443771&quot;</td><td>&quot;BasicChecking&quot;</td><td>&quot;17972151441301669959&quot;</td><td>&quot;Rejected&quot;</td></tr><tr><td>&quot;5647345435870296968&quot;</td><td>3.0878e18</td><td>&quot;6619368202762216112&quot;</td><td>&quot;BasicChecking&quot;</td><td>&quot;565780648122698305&quot;</td><td>&quot;Accepted&quot;</td></tr><tr><td>&quot;1216230209140611405&quot;</td><td>1.2170e18</td><td>&quot;8394724157197101449&quot;</td><td>&quot;UPlusFinPersonal&quot;</td><td>null</td><td>&quot;Rejected&quot;</td></tr><tr><td>&quot;1216230209140611405&quot;</td><td>6.9150e18</td><td>&quot;12450827582232701707&quot;</td><td>&quot;BasicChecking&quot;</td><td>&quot;565780648122698305&quot;</td><td>&quot;Rejected&quot;</td></tr></tbody></table></div>"
      ],
      "text/plain": [
       "shape: (7, 6)\n",
       "┌────────────────┬─────────────┬────────────────┬────────────────┬────────────────┬────────────────┐\n",
       "│ PREDICTOR_0    ┆ PREDICTOR_2 ┆ PREDICTOR_3    ┆ Context_Name   ┆ IH_Web_Inbound ┆ Decision_Outco │\n",
       "│ ---            ┆ ---         ┆ ---            ┆ ---            ┆ _Accepted_pxLa ┆ me             │\n",
       "│ str            ┆ f64         ┆ str            ┆ str            ┆ st…            ┆ ---            │\n",
       "│                ┆             ┆                ┆                ┆ ---            ┆ str            │\n",
       "│                ┆             ┆                ┆                ┆ str            ┆                │\n",
       "╞════════════════╪═════════════╪════════════════╪════════════════╪════════════════╪════════════════╡\n",
       "│ 56473454358702 ┆ 5.2020e18   ┆ 36688364609845 ┆ FirstMortgage3 ┆ 17972151441301 ┆ Rejected       │\n",
       "│ 96968          ┆             ┆ 22919          ┆ 0yr            ┆ 669959         ┆                │\n",
       "│ 11658568607905 ┆ 8.4144e18   ┆ 10562454662844 ┆ FirstMortgage3 ┆ 11399796510172 ┆ Accepted       │\n",
       "│ 760119         ┆             ┆ 849814         ┆ 0yr            ┆ 690371         ┆                │\n",
       "│ 12162302091406 ┆ 4.1117e18   ┆ 10941993694228 ┆ MoneyMarketSav ┆ 17972151441301 ┆ Rejected       │\n",
       "│ 11405          ┆             ┆ 804024         ┆ ingsAccount    ┆ 669959         ┆                │\n",
       "│ 11658568607905 ┆ 4.6745e18   ┆ 45314359346644 ┆ BasicChecking  ┆ 17972151441301 ┆ Rejected       │\n",
       "│ 760119         ┆             ┆ 3771           ┆                ┆ 669959         ┆                │\n",
       "│ 56473454358702 ┆ 3.0878e18   ┆ 66193682027622 ┆ BasicChecking  ┆ 56578064812269 ┆ Accepted       │\n",
       "│ 96968          ┆             ┆ 16112          ┆                ┆ 8305           ┆                │\n",
       "│ 12162302091406 ┆ 1.2170e18   ┆ 83947241571971 ┆ UPlusFinPerson ┆ null           ┆ Rejected       │\n",
       "│ 11405          ┆             ┆ 01449          ┆ al             ┆                ┆                │\n",
       "│ 12162302091406 ┆ 6.9150e18   ┆ 12450827582232 ┆ BasicChecking  ┆ 56578064812269 ┆ Rejected       │\n",
       "│ 11405          ┆             ┆ 701707         ┆                ┆ 8305           ┆                │\n",
       "└────────────────┴─────────────┴────────────────┴────────────────┴────────────────┴────────────────┘"
      ]
     },
     "execution_count": 13,
     "metadata": {},
     "output_type": "execute_result"
    }
   ],
   "source": [
    "pl.read_ipc('output/hds.arrow')"
   ]
  },
  {
   "attachments": {},
   "cell_type": "markdown",
   "metadata": {
    "nbsphinx": "hidden"
   },
   "source": [
    "## Advanced: Hash fuctions\n",
    "\n",
    "By default, we use [the same hashing algorithm Polars](https://pola-rs.github.io/polars/py-polars/html/reference/expressions/api/polars.Expr.hash.html#polars.Expr.hash) uses: [xxhash](https://github.com/Cyan4973/xxHash), as implemented [here](https://github.com/pola-rs/polars/blob/3f287f370b3c388ed2f3f218b2c096382548136f/polars/polars-core/src/vector_hasher.rs#L266). xxhash is fast to compute, and you can check its performance in collision, dispersion and randomness [here](https://github.com/Cyan4973/xxHash/tree/dev/tests). \n",
    "\n",
    "xxhash accepts four distinct seeds, but by default we set the seeds to `0`. It is possible to set the `seed` argument of the `process()` function to `'random'`, which will set all four seeds to a random integer between `0` and `1000000000`. Alternatively, it is possible to supply the four seeds manually with arguments `seed`, `seed_1`, `seed_2` and `seed_3`. \n",
    "\n",
    "If the xxhash with (random) seed(s) is not deemed sufficiently secure, it is possible to use your own hashing algorithm.\n",
    "\n",
    "Note that since we're now running python code and not native Polars code anymore, this will be _significantly_ slower. Nonetheless, it is possible.\n",
    "\n",
    "Just as an example - this is how one would use sha3_256:"
   ]
  },
  {
   "cell_type": "code",
   "execution_count": 14,
   "metadata": {
    "execution": {
     "iopub.execute_input": "2024-08-26T14:33:37.895062Z",
     "iopub.status.busy": "2024-08-26T14:33:37.894887Z",
     "iopub.status.idle": "2024-08-26T14:33:38.227782Z",
     "shell.execute_reply": "2024-08-26T14:33:38.227207Z"
    },
    "nbsphinx": "hidden"
   },
   "outputs": [
    {
     "name": "stderr",
     "output_type": "stream",
     "text": [
      "sys:1: MapWithoutReturnDtypeWarning:\n",
      "\n",
      "Calling `map_elements` without specifying `return_dtype` can lead to unpredictable results. Specify `return_dtype` to silence this warning.\n",
      "\n",
      "sys:1: MapWithoutReturnDtypeWarning:\n",
      "\n",
      "Calling `map_elements` without specifying `return_dtype` can lead to unpredictable results. Specify `return_dtype` to silence this warning.\n",
      "\n",
      "sys:1: MapWithoutReturnDtypeWarning:\n",
      "\n",
      "Calling `map_elements` without specifying `return_dtype` can lead to unpredictable results. Specify `return_dtype` to silence this warning.\n",
      "\n",
      "sys:1: MapWithoutReturnDtypeWarning:\n",
      "\n",
      "Calling `map_elements` without specifying `return_dtype` can lead to unpredictable results. Specify `return_dtype` to silence this warning.\n",
      "\n"
     ]
    },
    {
     "ename": "ComputeError",
     "evalue": "AttributeError: 'int' object has no attribute 'encode'",
     "output_type": "error",
     "traceback": [
      "\u001b[0;31m---------------------------------------------------------------------------\u001b[0m",
      "\u001b[0;31mComputeError\u001b[0m                              Traceback (most recent call last)",
      "Cell \u001b[0;32mIn[14], line 3\u001b[0m\n\u001b[1;32m      1\u001b[0m \u001b[38;5;28;01mfrom\u001b[39;00m \u001b[38;5;21;01mhashlib\u001b[39;00m \u001b[38;5;28;01mimport\u001b[39;00m sha3_256\n\u001b[0;32m----> 3\u001b[0m \u001b[43manon\u001b[49m\u001b[38;5;241;43m.\u001b[39;49m\u001b[43mprocess\u001b[49m\u001b[43m(\u001b[49m\u001b[43malgorithm\u001b[49m\u001b[38;5;241;43m=\u001b[39;49m\u001b[38;5;28;43;01mlambda\u001b[39;49;00m\u001b[43m \u001b[49m\u001b[43mx\u001b[49m\u001b[43m:\u001b[49m\u001b[43m \u001b[49m\u001b[43msha3_256\u001b[49m\u001b[43m(\u001b[49m\u001b[43mx\u001b[49m\u001b[38;5;241;43m.\u001b[39;49m\u001b[43mencode\u001b[49m\u001b[43m(\u001b[49m\u001b[43m)\u001b[49m\u001b[43m)\u001b[49m\u001b[38;5;241;43m.\u001b[39;49m\u001b[43mhexdigest\u001b[49m\u001b[43m(\u001b[49m\u001b[43m)\u001b[49m\u001b[43m)\u001b[49m\n",
      "File \u001b[0;32m~/work/pega-datascientist-tools/pega-datascientist-tools/python/docs/source/articles/../../../pdstools/utils/hds_utils.py:512\u001b[0m, in \u001b[0;36mDataAnonymization.process\u001b[0;34m(self, strategy, **kwargs)\u001b[0m\n\u001b[1;32m    510\u001b[0m df \u001b[38;5;241m=\u001b[39m df\u001b[38;5;241m.\u001b[39mselect(\u001b[38;5;28mself\u001b[39m\u001b[38;5;241m.\u001b[39mcolumn_mapping\u001b[38;5;241m.\u001b[39mkeys())\u001b[38;5;241m.\u001b[39mrename(\u001b[38;5;28mself\u001b[39m\u001b[38;5;241m.\u001b[39mcolumn_mapping)\n\u001b[1;32m    511\u001b[0m \u001b[38;5;28;01mif\u001b[39;00m strategy \u001b[38;5;241m==\u001b[39m \u001b[38;5;124m\"\u001b[39m\u001b[38;5;124meager\u001b[39m\u001b[38;5;124m\"\u001b[39m:\n\u001b[0;32m--> 512\u001b[0m     \u001b[38;5;28;01mreturn\u001b[39;00m \u001b[43mdf\u001b[49m\u001b[38;5;241;43m.\u001b[39;49m\u001b[43mcollect\u001b[49m\u001b[43m(\u001b[49m\u001b[43m)\u001b[49m\n\u001b[1;32m    513\u001b[0m \u001b[38;5;28;01mreturn\u001b[39;00m df\n",
      "File \u001b[0;32m/opt/hostedtoolcache/Python/3.11.9/x64/lib/python3.11/site-packages/polars/lazyframe/frame.py:1967\u001b[0m, in \u001b[0;36mLazyFrame.collect\u001b[0;34m(self, type_coercion, predicate_pushdown, projection_pushdown, simplify_expression, slice_pushdown, comm_subplan_elim, comm_subexpr_elim, cluster_with_columns, no_optimization, streaming, background, _eager, **_kwargs)\u001b[0m\n\u001b[1;32m   1964\u001b[0m \u001b[38;5;66;03m# Only for testing purposes atm.\u001b[39;00m\n\u001b[1;32m   1965\u001b[0m callback \u001b[38;5;241m=\u001b[39m _kwargs\u001b[38;5;241m.\u001b[39mget(\u001b[38;5;124m\"\u001b[39m\u001b[38;5;124mpost_opt_callback\u001b[39m\u001b[38;5;124m\"\u001b[39m)\n\u001b[0;32m-> 1967\u001b[0m \u001b[38;5;28;01mreturn\u001b[39;00m wrap_df(\u001b[43mldf\u001b[49m\u001b[38;5;241;43m.\u001b[39;49m\u001b[43mcollect\u001b[49m\u001b[43m(\u001b[49m\u001b[43mcallback\u001b[49m\u001b[43m)\u001b[49m)\n",
      "\u001b[0;31mComputeError\u001b[0m: AttributeError: 'int' object has no attribute 'encode'"
     ]
    }
   ],
   "source": [
    "from hashlib import sha3_256\n",
    "\n",
    "anon.process(algorithm=lambda x: sha3_256(x.encode()).hexdigest())"
   ]
  }
 ],
 "metadata": {
  "kernelspec": {
   "display_name": "Python 3",
   "language": "python",
   "name": "python3"
  },
  "language_info": {
   "codemirror_mode": {
    "name": "ipython",
    "version": 3
   },
   "file_extension": ".py",
   "mimetype": "text/x-python",
   "name": "python",
   "nbconvert_exporter": "python",
   "pygments_lexer": "ipython3",
   "version": "3.11.9"
  },
  "vscode": {
   "interpreter": {
    "hash": "aee8b7b246df8f9039afb4144a1f6fd8d2ca17a180786b69acc140d282b71a49"
   }
  }
 },
 "nbformat": 4,
 "nbformat_minor": 2
}
