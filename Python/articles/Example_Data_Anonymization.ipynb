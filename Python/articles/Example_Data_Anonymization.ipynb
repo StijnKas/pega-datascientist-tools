{
 "cells": [
  {
   "attachments": {},
   "cell_type": "markdown",
   "metadata": {},
   "source": [
    "# Data Anonymization\n",
    "\n",
    "In Pega CDH 8.5 and up, it's now possible to record the historical data as seen by the Adaptive Models. See [this academy challenge](https://academy.pega.com/challenge/exporting-historical-data/v4) for reference. This historical data can be further used to experiment with offline models, but also to fine-tune the OOTB Gradient Boosting model. However, sharing this information with Pega can be sensitive as it contains raw predictor data. \n",
    "\n",
    "To this end, we provide a simple and transparent script to fully anonimize this dataset.\n",
    "\n",
    "The DataAnonymization script is now part of pdstools, and you can import it directly as such."
   ]
  },
  {
   "cell_type": "code",
   "execution_count": 1,
   "metadata": {
    "execution": {
     "iopub.execute_input": "2024-03-06T10:31:28.905994Z",
     "iopub.status.busy": "2024-03-06T10:31:28.905419Z",
     "iopub.status.idle": "2024-03-06T10:31:28.976669Z",
     "shell.execute_reply": "2024-03-06T10:31:28.976189Z"
    },
    "nbsphinx": "hidden"
   },
   "outputs": [],
   "source": [
    "# These lines are only for rendering in the docs, and are hidden through Jupyter tags\n",
    "# Do not run if you're running the notebook seperately\n",
    "\n",
    "import os  \n",
    "import sys\n",
    "import plotly.io as pio\n",
    "pio.renderers.default = \"notebook_connected\"\n",
    "\n",
    "sys.path.append(\"../../../\")\n",
    "sys.path.append('../../python')"
   ]
  },
  {
   "cell_type": "code",
   "execution_count": 2,
   "metadata": {
    "execution": {
     "iopub.execute_input": "2024-03-06T10:31:28.978573Z",
     "iopub.status.busy": "2024-03-06T10:31:28.978404Z",
     "iopub.status.idle": "2024-03-06T10:31:30.000192Z",
     "shell.execute_reply": "2024-03-06T10:31:29.999607Z"
    }
   },
   "outputs": [],
   "source": [
    "from pdstools import ADMDatamart\n",
    "from pdstools import Config, DataAnonymization\n",
    "import polars as pl"
   ]
  },
  {
   "attachments": {},
   "cell_type": "markdown",
   "metadata": {},
   "source": [
    "## Input data\n",
    "\n",
    "To demonstrate this process, we're going to anonymise this toy example dataframe:"
   ]
  },
  {
   "cell_type": "code",
   "execution_count": 3,
   "metadata": {
    "execution": {
     "iopub.execute_input": "2024-03-06T10:31:30.002873Z",
     "iopub.status.busy": "2024-03-06T10:31:30.002391Z",
     "iopub.status.idle": "2024-03-06T10:31:30.012714Z",
     "shell.execute_reply": "2024-03-06T10:31:30.012175Z"
    }
   },
   "outputs": [
    {
     "data": {
      "text/html": [
       "<div><style>\n",
       ".dataframe > thead > tr,\n",
       ".dataframe > tbody > tr {\n",
       "  text-align: right;\n",
       "  white-space: pre-wrap;\n",
       "}\n",
       "</style>\n",
       "<small>shape: (7, 6)</small><table border=\"1\" class=\"dataframe\"><thead><tr><th>Context_Name</th><th>Customer_MaritalStatus</th><th>Customer_CLV</th><th>Customer_City</th><th>IH_Web_Inbound_Accepted_pxLastGroupID</th><th>Decision_Outcome</th></tr><tr><td>str</td><td>str</td><td>i64</td><td>str</td><td>str</td><td>str</td></tr></thead><tbody><tr><td>&quot;FirstMortgage3…</td><td>&quot;Married&quot;</td><td>1460</td><td>&quot;Port Raoul&quot;</td><td>&quot;Account&quot;</td><td>&quot;Rejected&quot;</td></tr><tr><td>&quot;FirstMortgage3…</td><td>&quot;Unknown&quot;</td><td>669</td><td>&quot;Laurianneshire…</td><td>&quot;AutoLoans&quot;</td><td>&quot;Accepted&quot;</td></tr><tr><td>&quot;MoneyMarketSav…</td><td>&quot;No Resp+&quot;</td><td>1174</td><td>&quot;Jacobshaven&quot;</td><td>&quot;Account&quot;</td><td>&quot;Rejected&quot;</td></tr><tr><td>&quot;BasicChecking&quot;</td><td>&quot;Unknown&quot;</td><td>1476</td><td>&quot;Lindton&quot;</td><td>&quot;Account&quot;</td><td>&quot;Rejected&quot;</td></tr><tr><td>&quot;BasicChecking&quot;</td><td>&quot;Married&quot;</td><td>1211</td><td>&quot;South Jimmiesh…</td><td>&quot;DepositAccount…</td><td>&quot;Accepted&quot;</td></tr><tr><td>&quot;UPlusFinPerson…</td><td>&quot;No Resp+&quot;</td><td>533</td><td>&quot;Bergeville&quot;</td><td>null</td><td>&quot;Rejected&quot;</td></tr><tr><td>&quot;BasicChecking&quot;</td><td>&quot;No Resp+&quot;</td><td>555</td><td>&quot;Willyville&quot;</td><td>&quot;DepositAccount…</td><td>&quot;Rejected&quot;</td></tr></tbody></table></div>"
      ],
      "text/plain": [
       "shape: (7, 6)\n",
       "┌────────────────┬────────────────┬──────────────┬────────────────┬────────────────┬───────────────┐\n",
       "│ Context_Name   ┆ Customer_Marit ┆ Customer_CLV ┆ Customer_City  ┆ IH_Web_Inbound ┆ Decision_Outc │\n",
       "│ ---            ┆ alStatus       ┆ ---          ┆ ---            ┆ _Accepted_pxLa ┆ ome           │\n",
       "│ str            ┆ ---            ┆ i64          ┆ str            ┆ stGr…          ┆ ---           │\n",
       "│                ┆ str            ┆              ┆                ┆ ---            ┆ str           │\n",
       "│                ┆                ┆              ┆                ┆ str            ┆               │\n",
       "╞════════════════╪════════════════╪══════════════╪════════════════╪════════════════╪═══════════════╡\n",
       "│ FirstMortgage3 ┆ Married        ┆ 1460         ┆ Port Raoul     ┆ Account        ┆ Rejected      │\n",
       "│ 0yr            ┆                ┆              ┆                ┆                ┆               │\n",
       "│ FirstMortgage3 ┆ Unknown        ┆ 669          ┆ Laurianneshire ┆ AutoLoans      ┆ Accepted      │\n",
       "│ 0yr            ┆                ┆              ┆                ┆                ┆               │\n",
       "│ MoneyMarketSav ┆ No Resp+       ┆ 1174         ┆ Jacobshaven    ┆ Account        ┆ Rejected      │\n",
       "│ ingsAccount    ┆                ┆              ┆                ┆                ┆               │\n",
       "│ BasicChecking  ┆ Unknown        ┆ 1476         ┆ Lindton        ┆ Account        ┆ Rejected      │\n",
       "│ BasicChecking  ┆ Married        ┆ 1211         ┆ South          ┆ DepositAccount ┆ Accepted      │\n",
       "│                ┆                ┆              ┆ Jimmieshire    ┆ s              ┆               │\n",
       "│ UPlusFinPerson ┆ No Resp+       ┆ 533          ┆ Bergeville     ┆ null           ┆ Rejected      │\n",
       "│ al             ┆                ┆              ┆                ┆                ┆               │\n",
       "│ BasicChecking  ┆ No Resp+       ┆ 555          ┆ Willyville     ┆ DepositAccount ┆ Rejected      │\n",
       "│                ┆                ┆              ┆                ┆ s              ┆               │\n",
       "└────────────────┴────────────────┴──────────────┴────────────────┴────────────────┴───────────────┘"
      ]
     },
     "execution_count": 3,
     "metadata": {},
     "output_type": "execute_result"
    }
   ],
   "source": [
    "pl.read_ndjson('../../../../data/SampleHDS.json')"
   ]
  },
  {
   "attachments": {},
   "cell_type": "markdown",
   "metadata": {},
   "source": [
    "As you can see, this dataset consists of regular predictors, IH predictors, context keys and the outcome column. Additionally, some columns are numeric, others are strings. Let's first initialize the DataAnonymization class."
   ]
  },
  {
   "cell_type": "code",
   "execution_count": 4,
   "metadata": {
    "execution": {
     "iopub.execute_input": "2024-03-06T10:31:30.015075Z",
     "iopub.status.busy": "2024-03-06T10:31:30.014665Z",
     "iopub.status.idle": "2024-03-06T10:31:30.021783Z",
     "shell.execute_reply": "2024-03-06T10:31:30.021275Z"
    }
   },
   "outputs": [],
   "source": [
    "anon = DataAnonymization(hds_folder='../../../../data/')"
   ]
  },
  {
   "attachments": {},
   "cell_type": "markdown",
   "metadata": {},
   "source": [
    "By default, the class applies a set of anonymisation techniques:\n",
    "- Column names are remapped to a non-descriptive name\n",
    "- Categorical values are hashed with a random seed\n",
    "- Numerical values are normalized between 0 and 1\n",
    "- Outcomes are mapped to a binary outcome.\n",
    "\n",
    "To apply these techniques, simply call `.process()`:"
   ]
  },
  {
   "cell_type": "code",
   "execution_count": 5,
   "metadata": {
    "execution": {
     "iopub.execute_input": "2024-03-06T10:31:30.024186Z",
     "iopub.status.busy": "2024-03-06T10:31:30.023746Z",
     "iopub.status.idle": "2024-03-06T10:31:30.029891Z",
     "shell.execute_reply": "2024-03-06T10:31:30.029338Z"
    }
   },
   "outputs": [
    {
     "data": {
      "text/html": [
       "<div><style>\n",
       ".dataframe > thead > tr,\n",
       ".dataframe > tbody > tr {\n",
       "  text-align: right;\n",
       "  white-space: pre-wrap;\n",
       "}\n",
       "</style>\n",
       "<small>shape: (7, 7)</small><table border=\"1\" class=\"dataframe\"><thead><tr><th>PREDICTOR_0</th><th>PREDICTOR_1</th><th>PREDICTOR_2</th><th>filename</th><th>Context_Name</th><th>IH_PREDICTOR_0</th><th>Decision_Outcome</th></tr><tr><td>str</td><td>str</td><td>f64</td><td>str</td><td>str</td><td>str</td><td>bool</td></tr></thead><tbody><tr><td>&quot;39593270383635…</td><td>&quot;45719067176093…</td><td>0.983033</td><td>&quot;../../../../da…</td><td>&quot;74683325817711…</td><td>&quot;17214262337058…</td><td>false</td></tr><tr><td>&quot;48998603752488…</td><td>&quot;13792202652049…</td><td>0.144221</td><td>&quot;../../../../da…</td><td>&quot;74683325817711…</td><td>&quot;36874864507019…</td><td>true</td></tr><tr><td>&quot;13730889346573…</td><td>&quot;84157825629100…</td><td>0.679745</td><td>&quot;../../../../da…</td><td>&quot;40109862850919…</td><td>&quot;17214262337058…</td><td>false</td></tr><tr><td>&quot;48998603752488…</td><td>&quot;34243670349596…</td><td>1.0</td><td>&quot;../../../../da…</td><td>&quot;14627615347323…</td><td>&quot;17214262337058…</td><td>false</td></tr><tr><td>&quot;39593270383635…</td><td>&quot;84608908291964…</td><td>0.718982</td><td>&quot;../../../../da…</td><td>&quot;14627615347323…</td><td>&quot;89315117938505…</td><td>true</td></tr><tr><td>&quot;13730889346573…</td><td>&quot;93942011321420…</td><td>0.0</td><td>&quot;../../../../da…</td><td>&quot;11948521396949…</td><td>null</td><td>false</td></tr><tr><td>&quot;13730889346573…</td><td>&quot;15164736347687…</td><td>0.02333</td><td>&quot;../../../../da…</td><td>&quot;14627615347323…</td><td>&quot;89315117938505…</td><td>false</td></tr></tbody></table></div>"
      ],
      "text/plain": [
       "shape: (7, 7)\n",
       "┌──────────────┬─────────────┬─────────────┬─────────────┬─────────────┬─────────────┬─────────────┐\n",
       "│ PREDICTOR_0  ┆ PREDICTOR_1 ┆ PREDICTOR_2 ┆ filename    ┆ Context_Nam ┆ IH_PREDICTO ┆ Decision_Ou │\n",
       "│ ---          ┆ ---         ┆ ---         ┆ ---         ┆ e           ┆ R_0         ┆ tcome       │\n",
       "│ str          ┆ str         ┆ f64         ┆ str         ┆ ---         ┆ ---         ┆ ---         │\n",
       "│              ┆             ┆             ┆             ┆ str         ┆ str         ┆ bool        │\n",
       "╞══════════════╪═════════════╪═════════════╪═════════════╪═════════════╪═════════════╪═════════════╡\n",
       "│ 395932703836 ┆ 45719067176 ┆ 0.983033    ┆ ../../../.. ┆ 74683325817 ┆ 17214262337 ┆ false       │\n",
       "│ 3553946      ┆ 09361029    ┆             ┆ /data/Sampl ┆ 71152959    ┆ 058787735   ┆             │\n",
       "│              ┆             ┆             ┆ eHDS.json   ┆             ┆             ┆             │\n",
       "│ 489986037524 ┆ 13792202652 ┆ 0.144221    ┆ ../../../.. ┆ 74683325817 ┆ 36874864507 ┆ true        │\n",
       "│ 8850750      ┆ 049164609   ┆             ┆ /data/Sampl ┆ 71152959    ┆ 01911958    ┆             │\n",
       "│              ┆             ┆             ┆ eHDS.json   ┆             ┆             ┆             │\n",
       "│ 137308893465 ┆ 84157825629 ┆ 0.679745    ┆ ../../../.. ┆ 40109862850 ┆ 17214262337 ┆ false       │\n",
       "│ 7316687      ┆ 10027247    ┆             ┆ /data/Sampl ┆ 91968935    ┆ 058787735   ┆             │\n",
       "│              ┆             ┆             ┆ eHDS.json   ┆             ┆             ┆             │\n",
       "│ 489986037524 ┆ 34243670349 ┆ 1.0         ┆ ../../../.. ┆ 14627615347 ┆ 17214262337 ┆ false       │\n",
       "│ 8850750      ┆ 59613257    ┆             ┆ /data/Sampl ┆ 323930753   ┆ 058787735   ┆             │\n",
       "│              ┆             ┆             ┆ eHDS.json   ┆             ┆             ┆             │\n",
       "│ 395932703836 ┆ 84608908291 ┆ 0.718982    ┆ ../../../.. ┆ 14627615347 ┆ 89315117938 ┆ true        │\n",
       "│ 3553946      ┆ 964116      ┆             ┆ /data/Sampl ┆ 323930753   ┆ 50563178    ┆             │\n",
       "│              ┆             ┆             ┆ eHDS.json   ┆             ┆             ┆             │\n",
       "│ 137308893465 ┆ 93942011321 ┆ 0.0         ┆ ../../../.. ┆ 11948521396 ┆ null        ┆ false       │\n",
       "│ 7316687      ┆ 42051628    ┆             ┆ /data/Sampl ┆ 94904192    ┆             ┆             │\n",
       "│              ┆             ┆             ┆ eHDS.json   ┆             ┆             ┆             │\n",
       "│ 137308893465 ┆ 15164736347 ┆ 0.02333     ┆ ../../../.. ┆ 14627615347 ┆ 89315117938 ┆ false       │\n",
       "│ 7316687      ┆ 687315412   ┆             ┆ /data/Sampl ┆ 323930753   ┆ 50563178    ┆             │\n",
       "│              ┆             ┆             ┆ eHDS.json   ┆             ┆             ┆             │\n",
       "└──────────────┴─────────────┴─────────────┴─────────────┴─────────────┴─────────────┴─────────────┘"
      ]
     },
     "execution_count": 5,
     "metadata": {},
     "output_type": "execute_result"
    }
   ],
   "source": [
    "anon.process()"
   ]
  },
  {
   "attachments": {},
   "cell_type": "markdown",
   "metadata": {},
   "source": [
    "To trace back the columns to their original names, the class also contains a mapping, which does not have to be provided."
   ]
  },
  {
   "cell_type": "code",
   "execution_count": 6,
   "metadata": {
    "execution": {
     "iopub.execute_input": "2024-03-06T10:31:30.032161Z",
     "iopub.status.busy": "2024-03-06T10:31:30.031795Z",
     "iopub.status.idle": "2024-03-06T10:31:30.035955Z",
     "shell.execute_reply": "2024-03-06T10:31:30.035455Z"
    }
   },
   "outputs": [
    {
     "data": {
      "text/plain": [
       "{'Customer_MaritalStatus': 'PREDICTOR_0',\n",
       " 'Customer_City': 'PREDICTOR_1',\n",
       " 'Customer_CLV': 'PREDICTOR_2',\n",
       " 'filename': 'filename',\n",
       " 'Context_Name': 'Context_Name',\n",
       " 'IH_Web_Inbound_Accepted_pxLastGroupID': 'IH_PREDICTOR_0',\n",
       " 'Decision_Outcome': 'Decision_Outcome'}"
      ]
     },
     "execution_count": 6,
     "metadata": {},
     "output_type": "execute_result"
    }
   ],
   "source": [
    "anon.column_mapping"
   ]
  },
  {
   "attachments": {},
   "cell_type": "markdown",
   "metadata": {},
   "source": [
    "## Configs\n",
    "\n",
    "Each capability can optionally be turned off - see below for the full list of config options, and refer to the API reference for the full description."
   ]
  },
  {
   "cell_type": "code",
   "execution_count": 7,
   "metadata": {
    "execution": {
     "iopub.execute_input": "2024-03-06T10:31:30.038127Z",
     "iopub.status.busy": "2024-03-06T10:31:30.037764Z",
     "iopub.status.idle": "2024-03-06T10:31:30.042661Z",
     "shell.execute_reply": "2024-03-06T10:31:30.042131Z"
    }
   },
   "outputs": [
    {
     "data": {
      "text/plain": [
       "{'config_file': None,\n",
       " 'hds_folder': '.',\n",
       " 'use_datamart': False,\n",
       " 'datamart_folder': 'datamart',\n",
       " 'output_format': 'ndjson',\n",
       " 'output_folder': 'output',\n",
       " 'mapping_file': 'mapping.map',\n",
       " 'mask_predictor_names': True,\n",
       " 'mask_context_key_names': False,\n",
       " 'mask_ih_names': True,\n",
       " 'mask_outcome_name': False,\n",
       " 'mask_predictor_values': True,\n",
       " 'mask_context_key_values': True,\n",
       " 'mask_ih_values': True,\n",
       " 'mask_outcome_values': True,\n",
       " 'context_key_label': 'Context_*',\n",
       " 'ih_label': 'IH_*',\n",
       " 'outcome_column': 'Decision_Outcome',\n",
       " 'positive_outcomes': ['Accepted', 'Clicked'],\n",
       " 'negative_outcomes': ['Rejected', 'Impression'],\n",
       " 'special_predictors': ['Decision_DecisionTime',\n",
       "  'Decision_OutcomeTime',\n",
       "  'Decision_Rank'],\n",
       " 'sample_percentage_schema_inferencing': 0.01}"
      ]
     },
     "execution_count": 7,
     "metadata": {},
     "output_type": "execute_result"
    }
   ],
   "source": [
    "dict(zip(Config.__init__.__code__.co_varnames[1:], Config.__init__.__defaults__))"
   ]
  },
  {
   "attachments": {},
   "cell_type": "markdown",
   "metadata": {},
   "source": [
    "It's easy to change these parameters by just passing the keyword arguments. In the following example, we\n",
    "- Keep the IH predictor names\n",
    "- Keep the outcome values\n",
    "- Keep the context key values\n",
    "- Keep the context key predictor names"
   ]
  },
  {
   "cell_type": "code",
   "execution_count": 8,
   "metadata": {
    "execution": {
     "iopub.execute_input": "2024-03-06T10:31:30.045008Z",
     "iopub.status.busy": "2024-03-06T10:31:30.044561Z",
     "iopub.status.idle": "2024-03-06T10:31:30.052867Z",
     "shell.execute_reply": "2024-03-06T10:31:30.052323Z"
    }
   },
   "outputs": [
    {
     "data": {
      "text/html": [
       "<div><style>\n",
       ".dataframe > thead > tr,\n",
       ".dataframe > tbody > tr {\n",
       "  text-align: right;\n",
       "  white-space: pre-wrap;\n",
       "}\n",
       "</style>\n",
       "<small>shape: (7, 7)</small><table border=\"1\" class=\"dataframe\"><thead><tr><th>PREDICTOR_0</th><th>PREDICTOR_1</th><th>PREDICTOR_2</th><th>filename</th><th>Context_Name</th><th>IH_Web_Inbound_Accepted_pxLastGroupID</th><th>Decision_Outcome</th></tr><tr><td>str</td><td>str</td><td>f64</td><td>str</td><td>str</td><td>str</td><td>str</td></tr></thead><tbody><tr><td>&quot;13807674730555…</td><td>&quot;56937175297381…</td><td>0.983033</td><td>&quot;../../../../da…</td><td>&quot;FirstMortgage3…</td><td>&quot;13434206405869…</td><td>&quot;Rejected&quot;</td></tr><tr><td>&quot;74084459052111…</td><td>&quot;58583324815231…</td><td>0.144221</td><td>&quot;../../../../da…</td><td>&quot;FirstMortgage3…</td><td>&quot;17574309567636…</td><td>&quot;Accepted&quot;</td></tr><tr><td>&quot;76760754738056…</td><td>&quot;11245468942173…</td><td>0.679745</td><td>&quot;../../../../da…</td><td>&quot;MoneyMarketSav…</td><td>&quot;13434206405869…</td><td>&quot;Rejected&quot;</td></tr><tr><td>&quot;74084459052111…</td><td>&quot;12992919804464…</td><td>1.0</td><td>&quot;../../../../da…</td><td>&quot;BasicChecking&quot;</td><td>&quot;13434206405869…</td><td>&quot;Rejected&quot;</td></tr><tr><td>&quot;13807674730555…</td><td>&quot;16835686147559…</td><td>0.718982</td><td>&quot;../../../../da…</td><td>&quot;BasicChecking&quot;</td><td>&quot;16034627401509…</td><td>&quot;Accepted&quot;</td></tr><tr><td>&quot;76760754738056…</td><td>&quot;14539510467423…</td><td>0.0</td><td>&quot;../../../../da…</td><td>&quot;UPlusFinPerson…</td><td>null</td><td>&quot;Rejected&quot;</td></tr><tr><td>&quot;76760754738056…</td><td>&quot;10536420261289…</td><td>0.02333</td><td>&quot;../../../../da…</td><td>&quot;BasicChecking&quot;</td><td>&quot;16034627401509…</td><td>&quot;Rejected&quot;</td></tr></tbody></table></div>"
      ],
      "text/plain": [
       "shape: (7, 7)\n",
       "┌──────────────┬─────────────┬─────────────┬─────────────┬─────────────┬─────────────┬─────────────┐\n",
       "│ PREDICTOR_0  ┆ PREDICTOR_1 ┆ PREDICTOR_2 ┆ filename    ┆ Context_Nam ┆ IH_Web_Inbo ┆ Decision_Ou │\n",
       "│ ---          ┆ ---         ┆ ---         ┆ ---         ┆ e           ┆ und_Accepte ┆ tcome       │\n",
       "│ str          ┆ str         ┆ f64         ┆ str         ┆ ---         ┆ d_pxLastGr… ┆ ---         │\n",
       "│              ┆             ┆             ┆             ┆ str         ┆ ---         ┆ str         │\n",
       "│              ┆             ┆             ┆             ┆             ┆ str         ┆             │\n",
       "╞══════════════╪═════════════╪═════════════╪═════════════╪═════════════╪═════════════╪═════════════╡\n",
       "│ 138076747305 ┆ 56937175297 ┆ 0.983033    ┆ ../../../.. ┆ FirstMortga ┆ 13434206405 ┆ Rejected    │\n",
       "│ 55774311     ┆ 38161195    ┆             ┆ /data/Sampl ┆ ge30yr      ┆ 869376854   ┆             │\n",
       "│              ┆             ┆             ┆ eHDS.json   ┆             ┆             ┆             │\n",
       "│ 740844590521 ┆ 58583324815 ┆ 0.144221    ┆ ../../../.. ┆ FirstMortga ┆ 17574309567 ┆ Accepted    │\n",
       "│ 1169278      ┆ 23183328    ┆             ┆ /data/Sampl ┆ ge30yr      ┆ 636857470   ┆             │\n",
       "│              ┆             ┆             ┆ eHDS.json   ┆             ┆             ┆             │\n",
       "│ 767607547380 ┆ 11245468942 ┆ 0.679745    ┆ ../../../.. ┆ MoneyMarket ┆ 13434206405 ┆ Rejected    │\n",
       "│ 5666042      ┆ 173639567   ┆             ┆ /data/Sampl ┆ SavingsAcco ┆ 869376854   ┆             │\n",
       "│              ┆             ┆             ┆ eHDS.json   ┆ unt         ┆             ┆             │\n",
       "│ 740844590521 ┆ 12992919804 ┆ 1.0         ┆ ../../../.. ┆ BasicChecki ┆ 13434206405 ┆ Rejected    │\n",
       "│ 1169278      ┆ 464969580   ┆             ┆ /data/Sampl ┆ ng          ┆ 869376854   ┆             │\n",
       "│              ┆             ┆             ┆ eHDS.json   ┆             ┆             ┆             │\n",
       "│ 138076747305 ┆ 16835686147 ┆ 0.718982    ┆ ../../../.. ┆ BasicChecki ┆ 16034627401 ┆ Accepted    │\n",
       "│ 55774311     ┆ 559362512   ┆             ┆ /data/Sampl ┆ ng          ┆ 509934569   ┆             │\n",
       "│              ┆             ┆             ┆ eHDS.json   ┆             ┆             ┆             │\n",
       "│ 767607547380 ┆ 14539510467 ┆ 0.0         ┆ ../../../.. ┆ UPlusFinPer ┆ null        ┆ Rejected    │\n",
       "│ 5666042      ┆ 423080783   ┆             ┆ /data/Sampl ┆ sonal       ┆             ┆             │\n",
       "│              ┆             ┆             ┆ eHDS.json   ┆             ┆             ┆             │\n",
       "│ 767607547380 ┆ 10536420261 ┆ 0.02333     ┆ ../../../.. ┆ BasicChecki ┆ 16034627401 ┆ Rejected    │\n",
       "│ 5666042      ┆ 289857501   ┆             ┆ /data/Sampl ┆ ng          ┆ 509934569   ┆             │\n",
       "│              ┆             ┆             ┆ eHDS.json   ┆             ┆             ┆             │\n",
       "└──────────────┴─────────────┴─────────────┴─────────────┴─────────────┴─────────────┴─────────────┘"
      ]
     },
     "execution_count": 8,
     "metadata": {},
     "output_type": "execute_result"
    }
   ],
   "source": [
    "anon = DataAnonymization(\n",
    "    hds_folder=\"../../../../data/\",\n",
    "    mask_ih_names=False,\n",
    "    mask_outcome_values=False,\n",
    "    mask_context_key_values=False,\n",
    "    mask_context_key_names=False,\n",
    ")\n",
    "anon.process()\n"
   ]
  },
  {
   "attachments": {},
   "cell_type": "markdown",
   "metadata": {},
   "source": [
    "The configs can also be written and read as such:"
   ]
  },
  {
   "cell_type": "code",
   "execution_count": 9,
   "metadata": {
    "execution": {
     "iopub.execute_input": "2024-03-06T10:31:30.054972Z",
     "iopub.status.busy": "2024-03-06T10:31:30.054793Z",
     "iopub.status.idle": "2024-03-06T10:31:30.057771Z",
     "shell.execute_reply": "2024-03-06T10:31:30.057210Z"
    }
   },
   "outputs": [],
   "source": [
    "anon.config.save_to_config_file('config.json')"
   ]
  },
  {
   "cell_type": "code",
   "execution_count": 10,
   "metadata": {
    "execution": {
     "iopub.execute_input": "2024-03-06T10:31:30.059958Z",
     "iopub.status.busy": "2024-03-06T10:31:30.059593Z",
     "iopub.status.idle": "2024-03-06T10:31:30.068193Z",
     "shell.execute_reply": "2024-03-06T10:31:30.067649Z"
    }
   },
   "outputs": [
    {
     "data": {
      "text/html": [
       "<div><style>\n",
       ".dataframe > thead > tr,\n",
       ".dataframe > tbody > tr {\n",
       "  text-align: right;\n",
       "  white-space: pre-wrap;\n",
       "}\n",
       "</style>\n",
       "<small>shape: (7, 7)</small><table border=\"1\" class=\"dataframe\"><thead><tr><th>PREDICTOR_0</th><th>PREDICTOR_1</th><th>PREDICTOR_2</th><th>filename</th><th>Context_Name</th><th>IH_Web_Inbound_Accepted_pxLastGroupID</th><th>Decision_Outcome</th></tr><tr><td>str</td><td>str</td><td>f64</td><td>str</td><td>str</td><td>str</td><td>str</td></tr></thead><tbody><tr><td>&quot;16752701032543…</td><td>&quot;33758581145863…</td><td>0.983033</td><td>&quot;../../../../da…</td><td>&quot;FirstMortgage3…</td><td>&quot;84232185603450…</td><td>&quot;Rejected&quot;</td></tr><tr><td>&quot;85062645562218…</td><td>&quot;47069840783307…</td><td>0.144221</td><td>&quot;../../../../da…</td><td>&quot;FirstMortgage3…</td><td>&quot;14700342176641…</td><td>&quot;Accepted&quot;</td></tr><tr><td>&quot;16253670600973…</td><td>&quot;54826176482400…</td><td>0.679745</td><td>&quot;../../../../da…</td><td>&quot;MoneyMarketSav…</td><td>&quot;84232185603450…</td><td>&quot;Rejected&quot;</td></tr><tr><td>&quot;85062645562218…</td><td>&quot;71424474708775…</td><td>1.0</td><td>&quot;../../../../da…</td><td>&quot;BasicChecking&quot;</td><td>&quot;84232185603450…</td><td>&quot;Rejected&quot;</td></tr><tr><td>&quot;16752701032543…</td><td>&quot;85765255566136…</td><td>0.718982</td><td>&quot;../../../../da…</td><td>&quot;BasicChecking&quot;</td><td>&quot;10348289604807…</td><td>&quot;Accepted&quot;</td></tr><tr><td>&quot;16253670600973…</td><td>&quot;16430008888189…</td><td>0.0</td><td>&quot;../../../../da…</td><td>&quot;UPlusFinPerson…</td><td>null</td><td>&quot;Rejected&quot;</td></tr><tr><td>&quot;16253670600973…</td><td>&quot;72162681866178…</td><td>0.02333</td><td>&quot;../../../../da…</td><td>&quot;BasicChecking&quot;</td><td>&quot;10348289604807…</td><td>&quot;Rejected&quot;</td></tr></tbody></table></div>"
      ],
      "text/plain": [
       "shape: (7, 7)\n",
       "┌──────────────┬─────────────┬─────────────┬─────────────┬─────────────┬─────────────┬─────────────┐\n",
       "│ PREDICTOR_0  ┆ PREDICTOR_1 ┆ PREDICTOR_2 ┆ filename    ┆ Context_Nam ┆ IH_Web_Inbo ┆ Decision_Ou │\n",
       "│ ---          ┆ ---         ┆ ---         ┆ ---         ┆ e           ┆ und_Accepte ┆ tcome       │\n",
       "│ str          ┆ str         ┆ f64         ┆ str         ┆ ---         ┆ d_pxLastGr… ┆ ---         │\n",
       "│              ┆             ┆             ┆             ┆ str         ┆ ---         ┆ str         │\n",
       "│              ┆             ┆             ┆             ┆             ┆ str         ┆             │\n",
       "╞══════════════╪═════════════╪═════════════╪═════════════╪═════════════╪═════════════╪═════════════╡\n",
       "│ 167527010325 ┆ 33758581145 ┆ 0.983033    ┆ ../../../.. ┆ FirstMortga ┆ 84232185603 ┆ Rejected    │\n",
       "│ 43294225     ┆ 86398764    ┆             ┆ /data/Sampl ┆ ge30yr      ┆ 45092274    ┆             │\n",
       "│              ┆             ┆             ┆ eHDS.json   ┆             ┆             ┆             │\n",
       "│ 850626455622 ┆ 47069840783 ┆ 0.144221    ┆ ../../../.. ┆ FirstMortga ┆ 14700342176 ┆ Accepted    │\n",
       "│ 1802310      ┆ 30705582    ┆             ┆ /data/Sampl ┆ ge30yr      ┆ 641594814   ┆             │\n",
       "│              ┆             ┆             ┆ eHDS.json   ┆             ┆             ┆             │\n",
       "│ 162536706009 ┆ 54826176482 ┆ 0.679745    ┆ ../../../.. ┆ MoneyMarket ┆ 84232185603 ┆ Rejected    │\n",
       "│ 73797851     ┆ 40018992    ┆             ┆ /data/Sampl ┆ SavingsAcco ┆ 45092274    ┆             │\n",
       "│              ┆             ┆             ┆ eHDS.json   ┆ unt         ┆             ┆             │\n",
       "│ 850626455622 ┆ 71424474708 ┆ 1.0         ┆ ../../../.. ┆ BasicChecki ┆ 84232185603 ┆ Rejected    │\n",
       "│ 1802310      ┆ 77562914    ┆             ┆ /data/Sampl ┆ ng          ┆ 45092274    ┆             │\n",
       "│              ┆             ┆             ┆ eHDS.json   ┆             ┆             ┆             │\n",
       "│ 167527010325 ┆ 85765255566 ┆ 0.718982    ┆ ../../../.. ┆ BasicChecki ┆ 10348289604 ┆ Accepted    │\n",
       "│ 43294225     ┆ 13624736    ┆             ┆ /data/Sampl ┆ ng          ┆ 807039340   ┆             │\n",
       "│              ┆             ┆             ┆ eHDS.json   ┆             ┆             ┆             │\n",
       "│ 162536706009 ┆ 16430008888 ┆ 0.0         ┆ ../../../.. ┆ UPlusFinPer ┆ null        ┆ Rejected    │\n",
       "│ 73797851     ┆ 189955558   ┆             ┆ /data/Sampl ┆ sonal       ┆             ┆             │\n",
       "│              ┆             ┆             ┆ eHDS.json   ┆             ┆             ┆             │\n",
       "│ 162536706009 ┆ 72162681866 ┆ 0.02333     ┆ ../../../.. ┆ BasicChecki ┆ 10348289604 ┆ Rejected    │\n",
       "│ 73797851     ┆ 17821878    ┆             ┆ /data/Sampl ┆ ng          ┆ 807039340   ┆             │\n",
       "│              ┆             ┆             ┆ eHDS.json   ┆             ┆             ┆             │\n",
       "└──────────────┴─────────────┴─────────────┴─────────────┴─────────────┴─────────────┴─────────────┘"
      ]
     },
     "execution_count": 10,
     "metadata": {},
     "output_type": "execute_result"
    }
   ],
   "source": [
    "anon = DataAnonymization(config=Config(config_file='config.json'))\n",
    "anon.process()"
   ]
  },
  {
   "attachments": {},
   "cell_type": "markdown",
   "metadata": {},
   "source": [
    "## Exporting\n",
    "Two functions export:\n",
    "- `create_mapping_file()` writes the mapping file of the predictor names\n",
    "- `write_to_output()` writes the processed dataframe to disk\n",
    "\n",
    "Write to output accepts the following extensions: `[\"ndjson\", \"parquet\", \"arrow\", \"csv\"]`"
   ]
  },
  {
   "cell_type": "code",
   "execution_count": 11,
   "metadata": {
    "execution": {
     "iopub.execute_input": "2024-03-06T10:31:30.070619Z",
     "iopub.status.busy": "2024-03-06T10:31:30.070094Z",
     "iopub.status.idle": "2024-03-06T10:31:30.073731Z",
     "shell.execute_reply": "2024-03-06T10:31:30.073202Z"
    }
   },
   "outputs": [
    {
     "name": "stdout",
     "output_type": "stream",
     "text": [
      "Customer_MaritalStatus=PREDICTOR_0\n",
      "Customer_City=PREDICTOR_1\n",
      "Customer_CLV=PREDICTOR_2\n",
      "filename=filename\n",
      "Context_Name=Context_Name\n",
      "IH_Web_Inbound_Accepted_pxLastGroupID=IH_Web_Inbound_Accepted_pxLastGroupID\n",
      "Decision_Outcome=Decision_Outcome\n",
      "\n"
     ]
    }
   ],
   "source": [
    "anon.create_mapping_file()\n",
    "with open('mapping.map') as f:\n",
    "    print(f.read())"
   ]
  },
  {
   "cell_type": "code",
   "execution_count": 12,
   "metadata": {
    "execution": {
     "iopub.execute_input": "2024-03-06T10:31:30.075917Z",
     "iopub.status.busy": "2024-03-06T10:31:30.075590Z",
     "iopub.status.idle": "2024-03-06T10:31:30.079350Z",
     "shell.execute_reply": "2024-03-06T10:31:30.078836Z"
    }
   },
   "outputs": [],
   "source": [
    "anon.write_to_output(ext='arrow')"
   ]
  },
  {
   "cell_type": "code",
   "execution_count": 13,
   "metadata": {
    "execution": {
     "iopub.execute_input": "2024-03-06T10:31:30.081480Z",
     "iopub.status.busy": "2024-03-06T10:31:30.081099Z",
     "iopub.status.idle": "2024-03-06T10:31:30.086221Z",
     "shell.execute_reply": "2024-03-06T10:31:30.085717Z"
    }
   },
   "outputs": [
    {
     "data": {
      "text/html": [
       "<div><style>\n",
       ".dataframe > thead > tr,\n",
       ".dataframe > tbody > tr {\n",
       "  text-align: right;\n",
       "  white-space: pre-wrap;\n",
       "}\n",
       "</style>\n",
       "<small>shape: (7, 6)</small><table border=\"1\" class=\"dataframe\"><thead><tr><th>PREDICTOR_0</th><th>PREDICTOR_1</th><th>PREDICTOR_2</th><th>Context_Name</th><th>IH_Web_Inbound_Accepted_pxLastGroupID</th><th>Decision_Outcome</th></tr><tr><td>str</td><td>str</td><td>f64</td><td>str</td><td>str</td><td>str</td></tr></thead><tbody><tr><td>&quot;12301013375332…</td><td>&quot;11975597042375…</td><td>0.983033</td><td>&quot;FirstMortgage3…</td><td>&quot;16987089665618…</td><td>&quot;Rejected&quot;</td></tr><tr><td>&quot;84894927442749…</td><td>&quot;12251144065239…</td><td>0.144221</td><td>&quot;FirstMortgage3…</td><td>&quot;33982823567617…</td><td>&quot;Accepted&quot;</td></tr><tr><td>&quot;16720009550376…</td><td>&quot;13449932762897…</td><td>0.679745</td><td>&quot;MoneyMarketSav…</td><td>&quot;16987089665618…</td><td>&quot;Rejected&quot;</td></tr><tr><td>&quot;84894927442749…</td><td>&quot;58522686137115…</td><td>1.0</td><td>&quot;BasicChecking&quot;</td><td>&quot;16987089665618…</td><td>&quot;Rejected&quot;</td></tr><tr><td>&quot;12301013375332…</td><td>&quot;11060469738492…</td><td>0.718982</td><td>&quot;BasicChecking&quot;</td><td>&quot;18285157533058…</td><td>&quot;Accepted&quot;</td></tr><tr><td>&quot;16720009550376…</td><td>&quot;16745559249854…</td><td>0.0</td><td>&quot;UPlusFinPerson…</td><td>null</td><td>&quot;Rejected&quot;</td></tr><tr><td>&quot;16720009550376…</td><td>&quot;17884992655802…</td><td>0.02333</td><td>&quot;BasicChecking&quot;</td><td>&quot;18285157533058…</td><td>&quot;Rejected&quot;</td></tr></tbody></table></div>"
      ],
      "text/plain": [
       "shape: (7, 6)\n",
       "┌────────────────┬────────────────┬─────────────┬────────────────┬────────────────┬────────────────┐\n",
       "│ PREDICTOR_0    ┆ PREDICTOR_1    ┆ PREDICTOR_2 ┆ Context_Name   ┆ IH_Web_Inbound ┆ Decision_Outco │\n",
       "│ ---            ┆ ---            ┆ ---         ┆ ---            ┆ _Accepted_pxLa ┆ me             │\n",
       "│ str            ┆ str            ┆ f64         ┆ str            ┆ stGr…          ┆ ---            │\n",
       "│                ┆                ┆             ┆                ┆ ---            ┆ str            │\n",
       "│                ┆                ┆             ┆                ┆ str            ┆                │\n",
       "╞════════════════╪════════════════╪═════════════╪════════════════╪════════════════╪════════════════╡\n",
       "│ 12301013375332 ┆ 11975597042375 ┆ 0.983033    ┆ FirstMortgage3 ┆ 16987089665618 ┆ Rejected       │\n",
       "│ 012964         ┆ 512696         ┆             ┆ 0yr            ┆ 341468         ┆                │\n",
       "│ 84894927442749 ┆ 12251144065239 ┆ 0.144221    ┆ FirstMortgage3 ┆ 33982823567617 ┆ Accepted       │\n",
       "│ 35333          ┆ 565134         ┆             ┆ 0yr            ┆ 40764          ┆                │\n",
       "│ 16720009550376 ┆ 13449932762897 ┆ 0.679745    ┆ MoneyMarketSav ┆ 16987089665618 ┆ Rejected       │\n",
       "│ 78286          ┆ 158114         ┆             ┆ ingsAccount    ┆ 341468         ┆                │\n",
       "│ 84894927442749 ┆ 58522686137115 ┆ 1.0         ┆ BasicChecking  ┆ 16987089665618 ┆ Rejected       │\n",
       "│ 35333          ┆ 13206          ┆             ┆                ┆ 341468         ┆                │\n",
       "│ 12301013375332 ┆ 11060469738492 ┆ 0.718982    ┆ BasicChecking  ┆ 18285157533058 ┆ Accepted       │\n",
       "│ 012964         ┆ 601308         ┆             ┆                ┆ 131641         ┆                │\n",
       "│ 16720009550376 ┆ 16745559249854 ┆ 0.0         ┆ UPlusFinPerson ┆ null           ┆ Rejected       │\n",
       "│ 78286          ┆ 883073         ┆             ┆ al             ┆                ┆                │\n",
       "│ 16720009550376 ┆ 17884992655802 ┆ 0.02333     ┆ BasicChecking  ┆ 18285157533058 ┆ Rejected       │\n",
       "│ 78286          ┆ 536614         ┆             ┆                ┆ 131641         ┆                │\n",
       "└────────────────┴────────────────┴─────────────┴────────────────┴────────────────┴────────────────┘"
      ]
     },
     "execution_count": 13,
     "metadata": {},
     "output_type": "execute_result"
    }
   ],
   "source": [
    "pl.read_ipc('output/hds.arrow')"
   ]
  },
  {
   "attachments": {},
   "cell_type": "markdown",
   "metadata": {
    "nbsphinx": "hidden"
   },
   "source": [
    "## Advanced: Hash fuctions\n",
    "\n",
    "By default, we use [the same hashing algorithm Polars](https://pola-rs.github.io/polars/py-polars/html/reference/expressions/api/polars.Expr.hash.html#polars.Expr.hash) uses: [xxhash](https://github.com/Cyan4973/xxHash), as implemented [here](https://github.com/pola-rs/polars/blob/3f287f370b3c388ed2f3f218b2c096382548136f/polars/polars-core/src/vector_hasher.rs#L266). xxhash is fast to compute, and you can check its performance in collision, dispersion and randomness [here](https://github.com/Cyan4973/xxHash/tree/dev/tests). \n",
    "\n",
    "xxhash accepts four distinct seeds, but by default we set the seeds to `0`. It is possible to set the `seed` argument of the `process()` function to `'random'`, which will set all four seeds to a random integer between `0` and `1000000000`. Alternatively, it is possible to supply the four seeds manually with arguments `seed`, `seed_1`, `seed_2` and `seed_3`. \n",
    "\n",
    "If the xxhash with (random) seed(s) is not deemed sufficiently secure, it is possible to use your own hashing algorithm.\n",
    "\n",
    "Note that since we're now running python code and not native Polars code anymore, this will be _significantly_ slower. Nonetheless, it is possible.\n",
    "\n",
    "Just as an example - this is how one would use sha3_256:"
   ]
  },
  {
   "cell_type": "code",
   "execution_count": 14,
   "metadata": {
    "execution": {
     "iopub.execute_input": "2024-03-06T10:31:30.088406Z",
     "iopub.status.busy": "2024-03-06T10:31:30.088088Z",
     "iopub.status.idle": "2024-03-06T10:31:30.096174Z",
     "shell.execute_reply": "2024-03-06T10:31:30.095640Z"
    },
    "nbsphinx": "hidden"
   },
   "outputs": [
    {
     "data": {
      "text/html": [
       "<div><style>\n",
       ".dataframe > thead > tr,\n",
       ".dataframe > tbody > tr {\n",
       "  text-align: right;\n",
       "  white-space: pre-wrap;\n",
       "}\n",
       "</style>\n",
       "<small>shape: (7, 7)</small><table border=\"1\" class=\"dataframe\"><thead><tr><th>PREDICTOR_0</th><th>PREDICTOR_1</th><th>PREDICTOR_2</th><th>filename</th><th>Context_Name</th><th>IH_Web_Inbound_Accepted_pxLastGroupID</th><th>Decision_Outcome</th></tr><tr><td>str</td><td>str</td><td>f64</td><td>str</td><td>str</td><td>str</td><td>str</td></tr></thead><tbody><tr><td>&quot;af486bc1815c72…</td><td>&quot;c73023dda51de1…</td><td>0.983033</td><td>&quot;../../../../da…</td><td>&quot;FirstMortgage3…</td><td>&quot;2513d0e24d8d02…</td><td>&quot;Rejected&quot;</td></tr><tr><td>&quot;3cdf7b1ae1342e…</td><td>&quot;5414b197fb87b3…</td><td>0.144221</td><td>&quot;../../../../da…</td><td>&quot;FirstMortgage3…</td><td>&quot;8b55bf62fc2ecd…</td><td>&quot;Accepted&quot;</td></tr><tr><td>&quot;806ef34eb8237f…</td><td>&quot;892f5d61a9215e…</td><td>0.679745</td><td>&quot;../../../../da…</td><td>&quot;MoneyMarketSav…</td><td>&quot;2513d0e24d8d02…</td><td>&quot;Rejected&quot;</td></tr><tr><td>&quot;3cdf7b1ae1342e…</td><td>&quot;c3aa807d9e927a…</td><td>1.0</td><td>&quot;../../../../da…</td><td>&quot;BasicChecking&quot;</td><td>&quot;2513d0e24d8d02…</td><td>&quot;Rejected&quot;</td></tr><tr><td>&quot;af486bc1815c72…</td><td>&quot;c2d492f9a05073…</td><td>0.718982</td><td>&quot;../../../../da…</td><td>&quot;BasicChecking&quot;</td><td>&quot;1cd082ecbd5dd9…</td><td>&quot;Accepted&quot;</td></tr><tr><td>&quot;806ef34eb8237f…</td><td>&quot;b21059221605c4…</td><td>0.0</td><td>&quot;../../../../da…</td><td>&quot;UPlusFinPerson…</td><td>null</td><td>&quot;Rejected&quot;</td></tr><tr><td>&quot;806ef34eb8237f…</td><td>&quot;80cbe489dcecd4…</td><td>0.02333</td><td>&quot;../../../../da…</td><td>&quot;BasicChecking&quot;</td><td>&quot;1cd082ecbd5dd9…</td><td>&quot;Rejected&quot;</td></tr></tbody></table></div>"
      ],
      "text/plain": [
       "shape: (7, 7)\n",
       "┌──────────────┬─────────────┬─────────────┬─────────────┬─────────────┬─────────────┬─────────────┐\n",
       "│ PREDICTOR_0  ┆ PREDICTOR_1 ┆ PREDICTOR_2 ┆ filename    ┆ Context_Nam ┆ IH_Web_Inbo ┆ Decision_Ou │\n",
       "│ ---          ┆ ---         ┆ ---         ┆ ---         ┆ e           ┆ und_Accepte ┆ tcome       │\n",
       "│ str          ┆ str         ┆ f64         ┆ str         ┆ ---         ┆ d_pxLastGr… ┆ ---         │\n",
       "│              ┆             ┆             ┆             ┆ str         ┆ ---         ┆ str         │\n",
       "│              ┆             ┆             ┆             ┆             ┆ str         ┆             │\n",
       "╞══════════════╪═════════════╪═════════════╪═════════════╪═════════════╪═════════════╪═════════════╡\n",
       "│ af486bc1815c ┆ c73023dda51 ┆ 0.983033    ┆ ../../../.. ┆ FirstMortga ┆ 2513d0e24d8 ┆ Rejected    │\n",
       "│ 726c357890ac ┆ de1b84f7af7 ┆             ┆ /data/Sampl ┆ ge30yr      ┆ d0214eda4fb ┆             │\n",
       "│ 2a40ba98…    ┆ 74fd6f8c73… ┆             ┆ eHDS.json   ┆             ┆ 454447162b… ┆             │\n",
       "│ 3cdf7b1ae134 ┆ 5414b197fb8 ┆ 0.144221    ┆ ../../../.. ┆ FirstMortga ┆ 8b55bf62fc2 ┆ Accepted    │\n",
       "│ 2ef979ea2a78 ┆ 7b3f2e350d7 ┆             ┆ /data/Sampl ┆ ge30yr      ┆ ecd16af97d4 ┆             │\n",
       "│ 2541ad05…    ┆ a74a840a81… ┆             ┆ eHDS.json   ┆             ┆ 8e469362cf… ┆             │\n",
       "│ 806ef34eb823 ┆ 892f5d61a92 ┆ 0.679745    ┆ ../../../.. ┆ MoneyMarket ┆ 2513d0e24d8 ┆ Rejected    │\n",
       "│ 7f4db85004e9 ┆ 15ef985f3fa ┆             ┆ /data/Sampl ┆ SavingsAcco ┆ d0214eda4fb ┆             │\n",
       "│ 6dc471d8…    ┆ 293d51c92e… ┆             ┆ eHDS.json   ┆ unt         ┆ 454447162b… ┆             │\n",
       "│ 3cdf7b1ae134 ┆ c3aa807d9e9 ┆ 1.0         ┆ ../../../.. ┆ BasicChecki ┆ 2513d0e24d8 ┆ Rejected    │\n",
       "│ 2ef979ea2a78 ┆ 27ae426a89e ┆             ┆ /data/Sampl ┆ ng          ┆ d0214eda4fb ┆             │\n",
       "│ 2541ad05…    ┆ 76a12b9160… ┆             ┆ eHDS.json   ┆             ┆ 454447162b… ┆             │\n",
       "│ af486bc1815c ┆ c2d492f9a05 ┆ 0.718982    ┆ ../../../.. ┆ BasicChecki ┆ 1cd082ecbd5 ┆ Accepted    │\n",
       "│ 726c357890ac ┆ 07327c14285 ┆             ┆ /data/Sampl ┆ ng          ┆ dd95383b104 ┆             │\n",
       "│ 2a40ba98…    ┆ e94e8ee54c… ┆             ┆ eHDS.json   ┆             ┆ 65e395c1f7… ┆             │\n",
       "│ 806ef34eb823 ┆ b2105922160 ┆ 0.0         ┆ ../../../.. ┆ UPlusFinPer ┆ null        ┆ Rejected    │\n",
       "│ 7f4db85004e9 ┆ 5c49757cfe0 ┆             ┆ /data/Sampl ┆ sonal       ┆             ┆             │\n",
       "│ 6dc471d8…    ┆ fee45640db… ┆             ┆ eHDS.json   ┆             ┆             ┆             │\n",
       "│ 806ef34eb823 ┆ 80cbe489dce ┆ 0.02333     ┆ ../../../.. ┆ BasicChecki ┆ 1cd082ecbd5 ┆ Rejected    │\n",
       "│ 7f4db85004e9 ┆ cd4b9304898 ┆             ┆ /data/Sampl ┆ ng          ┆ dd95383b104 ┆             │\n",
       "│ 6dc471d8…    ┆ c9986afeeb… ┆             ┆ eHDS.json   ┆             ┆ 65e395c1f7… ┆             │\n",
       "└──────────────┴─────────────┴─────────────┴─────────────┴─────────────┴─────────────┴─────────────┘"
      ]
     },
     "execution_count": 14,
     "metadata": {},
     "output_type": "execute_result"
    }
   ],
   "source": [
    "from hashlib import sha3_256\n",
    "\n",
    "anon.process(algorithm=lambda x: sha3_256(x.encode()).hexdigest())"
   ]
  }
 ],
 "metadata": {
  "kernelspec": {
   "display_name": "Python 3",
   "language": "python",
   "name": "python3"
  },
  "language_info": {
   "codemirror_mode": {
    "name": "ipython",
    "version": 3
   },
   "file_extension": ".py",
   "mimetype": "text/x-python",
   "name": "python",
   "nbconvert_exporter": "python",
   "pygments_lexer": "ipython3",
   "version": "3.11.8"
  },
  "vscode": {
   "interpreter": {
    "hash": "aee8b7b246df8f9039afb4144a1f6fd8d2ca17a180786b69acc140d282b71a49"
   }
  }
 },
 "nbformat": 4,
 "nbformat_minor": 2
}
