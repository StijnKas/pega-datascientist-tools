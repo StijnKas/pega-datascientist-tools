{
 "cells": [
  {
   "attachments": {},
   "cell_type": "markdown",
   "metadata": {},
   "source": [
    "# Data Anonymization\n",
    "\n",
    "In Pega CDH 8.5 and up, it's now possible to record the historical data as seen by the Adaptive Models. See [this academy challenge](https://academy.pega.com/challenge/exporting-historical-data/v4) for reference. This historical data can be further used to experiment with offline models, but also to fine-tune the OOTB Gradient Boosting model. However, sharing this information with Pega can be sensitive as it contains raw predictor data. \n",
    "\n",
    "To this end, we provide a simple and transparent script to fully anonimize this dataset.\n",
    "\n",
    "The DataAnonymization script is now part of pdstools, and you can import it directly as such."
   ]
  },
  {
   "cell_type": "code",
   "execution_count": 1,
   "metadata": {
    "execution": {
     "iopub.execute_input": "2024-06-24T14:51:38.613956Z",
     "iopub.status.busy": "2024-06-24T14:51:38.613540Z",
     "iopub.status.idle": "2024-06-24T14:51:38.686050Z",
     "shell.execute_reply": "2024-06-24T14:51:38.685513Z"
    },
    "nbsphinx": "hidden"
   },
   "outputs": [],
   "source": [
    "# These lines are only for rendering in the docs, and are hidden through Jupyter tags\n",
    "# Do not run if you're running the notebook seperately\n",
    "\n",
    "import os  \n",
    "import sys\n",
    "import plotly.io as pio\n",
    "pio.renderers.default = \"notebook_connected\"\n",
    "\n",
    "sys.path.append(\"../../../\")\n",
    "sys.path.append('../../python')"
   ]
  },
  {
   "cell_type": "code",
   "execution_count": 2,
   "metadata": {
    "execution": {
     "iopub.execute_input": "2024-06-24T14:51:38.688464Z",
     "iopub.status.busy": "2024-06-24T14:51:38.688133Z",
     "iopub.status.idle": "2024-06-24T14:51:39.761640Z",
     "shell.execute_reply": "2024-06-24T14:51:39.761129Z"
    }
   },
   "outputs": [],
   "source": [
    "from pdstools import ADMDatamart\n",
    "from pdstools import Config, DataAnonymization\n",
    "import polars as pl"
   ]
  },
  {
   "attachments": {},
   "cell_type": "markdown",
   "metadata": {},
   "source": [
    "## Input data\n",
    "\n",
    "To demonstrate this process, we're going to anonymise this toy example dataframe:"
   ]
  },
  {
   "cell_type": "code",
   "execution_count": 3,
   "metadata": {
    "execution": {
     "iopub.execute_input": "2024-06-24T14:51:39.764131Z",
     "iopub.status.busy": "2024-06-24T14:51:39.763845Z",
     "iopub.status.idle": "2024-06-24T14:51:39.772158Z",
     "shell.execute_reply": "2024-06-24T14:51:39.771706Z"
    }
   },
   "outputs": [
    {
     "data": {
      "text/html": [
       "<div><style>\n",
       ".dataframe > thead > tr,\n",
       ".dataframe > tbody > tr {\n",
       "  text-align: right;\n",
       "  white-space: pre-wrap;\n",
       "}\n",
       "</style>\n",
       "<small>shape: (7, 6)</small><table border=\"1\" class=\"dataframe\"><thead><tr><th>Context_Name</th><th>Customer_MaritalStatus</th><th>Customer_CLV</th><th>Customer_City</th><th>IH_Web_Inbound_Accepted_pxLastGroupID</th><th>Decision_Outcome</th></tr><tr><td>str</td><td>str</td><td>i64</td><td>str</td><td>str</td><td>str</td></tr></thead><tbody><tr><td>&quot;FirstMortgage30yr&quot;</td><td>&quot;Married&quot;</td><td>1460</td><td>&quot;Port Raoul&quot;</td><td>&quot;Account&quot;</td><td>&quot;Rejected&quot;</td></tr><tr><td>&quot;FirstMortgage30yr&quot;</td><td>&quot;Unknown&quot;</td><td>669</td><td>&quot;Laurianneshire&quot;</td><td>&quot;AutoLoans&quot;</td><td>&quot;Accepted&quot;</td></tr><tr><td>&quot;MoneyMarketSavingsAccount&quot;</td><td>&quot;No Resp+&quot;</td><td>1174</td><td>&quot;Jacobshaven&quot;</td><td>&quot;Account&quot;</td><td>&quot;Rejected&quot;</td></tr><tr><td>&quot;BasicChecking&quot;</td><td>&quot;Unknown&quot;</td><td>1476</td><td>&quot;Lindton&quot;</td><td>&quot;Account&quot;</td><td>&quot;Rejected&quot;</td></tr><tr><td>&quot;BasicChecking&quot;</td><td>&quot;Married&quot;</td><td>1211</td><td>&quot;South Jimmieshire&quot;</td><td>&quot;DepositAccounts&quot;</td><td>&quot;Accepted&quot;</td></tr><tr><td>&quot;UPlusFinPersonal&quot;</td><td>&quot;No Resp+&quot;</td><td>533</td><td>&quot;Bergeville&quot;</td><td>null</td><td>&quot;Rejected&quot;</td></tr><tr><td>&quot;BasicChecking&quot;</td><td>&quot;No Resp+&quot;</td><td>555</td><td>&quot;Willyville&quot;</td><td>&quot;DepositAccounts&quot;</td><td>&quot;Rejected&quot;</td></tr></tbody></table></div>"
      ],
      "text/plain": [
       "shape: (7, 6)\n",
       "┌────────────────┬────────────────┬──────────────┬────────────────┬────────────────┬───────────────┐\n",
       "│ Context_Name   ┆ Customer_Marit ┆ Customer_CLV ┆ Customer_City  ┆ IH_Web_Inbound ┆ Decision_Outc │\n",
       "│ ---            ┆ alStatus       ┆ ---          ┆ ---            ┆ _Accepted_pxLa ┆ ome           │\n",
       "│ str            ┆ ---            ┆ i64          ┆ str            ┆ st…            ┆ ---           │\n",
       "│                ┆ str            ┆              ┆                ┆ ---            ┆ str           │\n",
       "│                ┆                ┆              ┆                ┆ str            ┆               │\n",
       "╞════════════════╪════════════════╪══════════════╪════════════════╪════════════════╪═══════════════╡\n",
       "│ FirstMortgage3 ┆ Married        ┆ 1460         ┆ Port Raoul     ┆ Account        ┆ Rejected      │\n",
       "│ 0yr            ┆                ┆              ┆                ┆                ┆               │\n",
       "│ FirstMortgage3 ┆ Unknown        ┆ 669          ┆ Laurianneshire ┆ AutoLoans      ┆ Accepted      │\n",
       "│ 0yr            ┆                ┆              ┆                ┆                ┆               │\n",
       "│ MoneyMarketSav ┆ No Resp+       ┆ 1174         ┆ Jacobshaven    ┆ Account        ┆ Rejected      │\n",
       "│ ingsAccount    ┆                ┆              ┆                ┆                ┆               │\n",
       "│ BasicChecking  ┆ Unknown        ┆ 1476         ┆ Lindton        ┆ Account        ┆ Rejected      │\n",
       "│ BasicChecking  ┆ Married        ┆ 1211         ┆ South          ┆ DepositAccount ┆ Accepted      │\n",
       "│                ┆                ┆              ┆ Jimmieshire    ┆ s              ┆               │\n",
       "│ UPlusFinPerson ┆ No Resp+       ┆ 533          ┆ Bergeville     ┆ null           ┆ Rejected      │\n",
       "│ al             ┆                ┆              ┆                ┆                ┆               │\n",
       "│ BasicChecking  ┆ No Resp+       ┆ 555          ┆ Willyville     ┆ DepositAccount ┆ Rejected      │\n",
       "│                ┆                ┆              ┆                ┆ s              ┆               │\n",
       "└────────────────┴────────────────┴──────────────┴────────────────┴────────────────┴───────────────┘"
      ]
     },
     "execution_count": 3,
     "metadata": {},
     "output_type": "execute_result"
    }
   ],
   "source": [
    "pl.read_ndjson('../../../../data/SampleHDS.json')"
   ]
  },
  {
   "attachments": {},
   "cell_type": "markdown",
   "metadata": {},
   "source": [
    "As you can see, this dataset consists of regular predictors, IH predictors, context keys and the outcome column. Additionally, some columns are numeric, others are strings. Let's first initialize the DataAnonymization class."
   ]
  },
  {
   "cell_type": "code",
   "execution_count": 4,
   "metadata": {
    "execution": {
     "iopub.execute_input": "2024-06-24T14:51:39.774266Z",
     "iopub.status.busy": "2024-06-24T14:51:39.773933Z",
     "iopub.status.idle": "2024-06-24T14:51:39.783345Z",
     "shell.execute_reply": "2024-06-24T14:51:39.782932Z"
    }
   },
   "outputs": [],
   "source": [
    "anon = DataAnonymization(hds_folder='../../../../data/')"
   ]
  },
  {
   "attachments": {},
   "cell_type": "markdown",
   "metadata": {},
   "source": [
    "By default, the class applies a set of anonymisation techniques:\n",
    "- Column names are remapped to a non-descriptive name\n",
    "- Categorical values are hashed with a random seed\n",
    "- Numerical values are normalized between 0 and 1\n",
    "- Outcomes are mapped to a binary outcome.\n",
    "\n",
    "To apply these techniques, simply call `.process()`:"
   ]
  },
  {
   "cell_type": "code",
   "execution_count": 5,
   "metadata": {
    "execution": {
     "iopub.execute_input": "2024-06-24T14:51:39.785313Z",
     "iopub.status.busy": "2024-06-24T14:51:39.785137Z",
     "iopub.status.idle": "2024-06-24T14:51:39.789927Z",
     "shell.execute_reply": "2024-06-24T14:51:39.789482Z"
    }
   },
   "outputs": [
    {
     "data": {
      "text/html": [
       "<div><style>\n",
       ".dataframe > thead > tr,\n",
       ".dataframe > tbody > tr {\n",
       "  text-align: right;\n",
       "  white-space: pre-wrap;\n",
       "}\n",
       "</style>\n",
       "<small>shape: (7, 7)</small><table border=\"1\" class=\"dataframe\"><thead><tr><th>PREDICTOR_0</th><th>filename</th><th>PREDICTOR_2</th><th>PREDICTOR_3</th><th>Context_Name</th><th>IH_PREDICTOR_0</th><th>Decision_Outcome</th></tr><tr><td>str</td><td>str</td><td>f64</td><td>str</td><td>str</td><td>str</td><td>bool</td></tr></thead><tbody><tr><td>&quot;7214098495505223835&quot;</td><td>&quot;../../../../data/SampleHDS.jso…</td><td>1.5658e19</td><td>&quot;9125746113062090954&quot;</td><td>&quot;13720266205980305223&quot;</td><td>&quot;17203863101706440101&quot;</td><td>false</td></tr><tr><td>&quot;16925946624136288702&quot;</td><td>&quot;../../../../data/SampleHDS.jso…</td><td>9.7340e18</td><td>&quot;9122969655173187130&quot;</td><td>&quot;13720266205980305223&quot;</td><td>&quot;5677219347270663792&quot;</td><td>true</td></tr><tr><td>&quot;3253644328268054947&quot;</td><td>&quot;../../../../data/SampleHDS.jso…</td><td>3.4717e18</td><td>&quot;7963550500859883798&quot;</td><td>&quot;8096707801333887523&quot;</td><td>&quot;17203863101706440101&quot;</td><td>false</td></tr><tr><td>&quot;4215141485855284346&quot;</td><td>&quot;../../../../data/SampleHDS.jso…</td><td>1.1341e19</td><td>&quot;9122969655173187130&quot;</td><td>&quot;8317988125252490892&quot;</td><td>&quot;17203863101706440101&quot;</td><td>false</td></tr><tr><td>&quot;18068483211249972322&quot;</td><td>&quot;../../../../data/SampleHDS.jso…</td><td>6.8087e18</td><td>&quot;9125746113062090954&quot;</td><td>&quot;8317988125252490892&quot;</td><td>&quot;981697134326111858&quot;</td><td>true</td></tr><tr><td>&quot;4104324425473679245&quot;</td><td>&quot;../../../../data/SampleHDS.jso…</td><td>3.7513e18</td><td>&quot;7963550500859883798&quot;</td><td>&quot;5340830511425436750&quot;</td><td>null</td><td>false</td></tr><tr><td>&quot;11702730099285820339&quot;</td><td>&quot;../../../../data/SampleHDS.jso…</td><td>1.6317e19</td><td>&quot;7963550500859883798&quot;</td><td>&quot;8317988125252490892&quot;</td><td>&quot;981697134326111858&quot;</td><td>false</td></tr></tbody></table></div>"
      ],
      "text/plain": [
       "shape: (7, 7)\n",
       "┌──────────────┬─────────────┬─────────────┬─────────────┬─────────────┬─────────────┬─────────────┐\n",
       "│ PREDICTOR_0  ┆ filename    ┆ PREDICTOR_2 ┆ PREDICTOR_3 ┆ Context_Nam ┆ IH_PREDICTO ┆ Decision_Ou │\n",
       "│ ---          ┆ ---         ┆ ---         ┆ ---         ┆ e           ┆ R_0         ┆ tcome       │\n",
       "│ str          ┆ str         ┆ f64         ┆ str         ┆ ---         ┆ ---         ┆ ---         │\n",
       "│              ┆             ┆             ┆             ┆ str         ┆ str         ┆ bool        │\n",
       "╞══════════════╪═════════════╪═════════════╪═════════════╪═════════════╪═════════════╪═════════════╡\n",
       "│ 721409849550 ┆ ../../../.. ┆ 1.5658e19   ┆ 91257461130 ┆ 13720266205 ┆ 17203863101 ┆ false       │\n",
       "│ 5223835      ┆ /data/Sampl ┆             ┆ 62090954    ┆ 980305223   ┆ 706440101   ┆             │\n",
       "│              ┆ eHDS.jso…   ┆             ┆             ┆             ┆             ┆             │\n",
       "│ 169259466241 ┆ ../../../.. ┆ 9.7340e18   ┆ 91229696551 ┆ 13720266205 ┆ 56772193472 ┆ true        │\n",
       "│ 36288702     ┆ /data/Sampl ┆             ┆ 73187130    ┆ 980305223   ┆ 70663792    ┆             │\n",
       "│              ┆ eHDS.jso…   ┆             ┆             ┆             ┆             ┆             │\n",
       "│ 325364432826 ┆ ../../../.. ┆ 3.4717e18   ┆ 79635505008 ┆ 80967078013 ┆ 17203863101 ┆ false       │\n",
       "│ 8054947      ┆ /data/Sampl ┆             ┆ 59883798    ┆ 33887523    ┆ 706440101   ┆             │\n",
       "│              ┆ eHDS.jso…   ┆             ┆             ┆             ┆             ┆             │\n",
       "│ 421514148585 ┆ ../../../.. ┆ 1.1341e19   ┆ 91229696551 ┆ 83179881252 ┆ 17203863101 ┆ false       │\n",
       "│ 5284346      ┆ /data/Sampl ┆             ┆ 73187130    ┆ 52490892    ┆ 706440101   ┆             │\n",
       "│              ┆ eHDS.jso…   ┆             ┆             ┆             ┆             ┆             │\n",
       "│ 180684832112 ┆ ../../../.. ┆ 6.8087e18   ┆ 91257461130 ┆ 83179881252 ┆ 98169713432 ┆ true        │\n",
       "│ 49972322     ┆ /data/Sampl ┆             ┆ 62090954    ┆ 52490892    ┆ 6111858     ┆             │\n",
       "│              ┆ eHDS.jso…   ┆             ┆             ┆             ┆             ┆             │\n",
       "│ 410432442547 ┆ ../../../.. ┆ 3.7513e18   ┆ 79635505008 ┆ 53408305114 ┆ null        ┆ false       │\n",
       "│ 3679245      ┆ /data/Sampl ┆             ┆ 59883798    ┆ 25436750    ┆             ┆             │\n",
       "│              ┆ eHDS.jso…   ┆             ┆             ┆             ┆             ┆             │\n",
       "│ 117027300992 ┆ ../../../.. ┆ 1.6317e19   ┆ 79635505008 ┆ 83179881252 ┆ 98169713432 ┆ false       │\n",
       "│ 85820339     ┆ /data/Sampl ┆             ┆ 59883798    ┆ 52490892    ┆ 6111858     ┆             │\n",
       "│              ┆ eHDS.jso…   ┆             ┆             ┆             ┆             ┆             │\n",
       "└──────────────┴─────────────┴─────────────┴─────────────┴─────────────┴─────────────┴─────────────┘"
      ]
     },
     "execution_count": 5,
     "metadata": {},
     "output_type": "execute_result"
    }
   ],
   "source": [
    "anon.process()"
   ]
  },
  {
   "attachments": {},
   "cell_type": "markdown",
   "metadata": {},
   "source": [
    "To trace back the columns to their original names, the class also contains a mapping, which does not have to be provided."
   ]
  },
  {
   "cell_type": "code",
   "execution_count": 6,
   "metadata": {
    "execution": {
     "iopub.execute_input": "2024-06-24T14:51:39.792014Z",
     "iopub.status.busy": "2024-06-24T14:51:39.791688Z",
     "iopub.status.idle": "2024-06-24T14:51:39.795405Z",
     "shell.execute_reply": "2024-06-24T14:51:39.794848Z"
    }
   },
   "outputs": [
    {
     "data": {
      "text/plain": [
       "{'Customer_City': 'PREDICTOR_0',\n",
       " 'filename': 'filename',\n",
       " 'Customer_CLV': 'PREDICTOR_2',\n",
       " 'Customer_MaritalStatus': 'PREDICTOR_3',\n",
       " 'Context_Name': 'Context_Name',\n",
       " 'IH_Web_Inbound_Accepted_pxLastGroupID': 'IH_PREDICTOR_0',\n",
       " 'Decision_Outcome': 'Decision_Outcome'}"
      ]
     },
     "execution_count": 6,
     "metadata": {},
     "output_type": "execute_result"
    }
   ],
   "source": [
    "anon.column_mapping"
   ]
  },
  {
   "attachments": {},
   "cell_type": "markdown",
   "metadata": {},
   "source": [
    "## Configs\n",
    "\n",
    "Each capability can optionally be turned off - see below for the full list of config options, and refer to the API reference for the full description."
   ]
  },
  {
   "cell_type": "code",
   "execution_count": 7,
   "metadata": {
    "execution": {
     "iopub.execute_input": "2024-06-24T14:51:39.797487Z",
     "iopub.status.busy": "2024-06-24T14:51:39.797048Z",
     "iopub.status.idle": "2024-06-24T14:51:39.801083Z",
     "shell.execute_reply": "2024-06-24T14:51:39.800587Z"
    }
   },
   "outputs": [
    {
     "data": {
      "text/plain": [
       "{'config_file': None,\n",
       " 'hds_folder': '.',\n",
       " 'use_datamart': False,\n",
       " 'datamart_folder': 'datamart',\n",
       " 'output_format': 'ndjson',\n",
       " 'output_folder': 'output',\n",
       " 'mapping_file': 'mapping.map',\n",
       " 'mask_predictor_names': True,\n",
       " 'mask_context_key_names': False,\n",
       " 'mask_ih_names': True,\n",
       " 'mask_outcome_name': False,\n",
       " 'mask_predictor_values': True,\n",
       " 'mask_context_key_values': True,\n",
       " 'mask_ih_values': True,\n",
       " 'mask_outcome_values': True,\n",
       " 'context_key_label': 'Context_*',\n",
       " 'ih_label': 'IH_*',\n",
       " 'outcome_column': 'Decision_Outcome',\n",
       " 'positive_outcomes': ['Accepted', 'Clicked'],\n",
       " 'negative_outcomes': ['Rejected', 'Impression'],\n",
       " 'special_predictors': ['Decision_DecisionTime',\n",
       "  'Decision_OutcomeTime',\n",
       "  'Decision_Rank'],\n",
       " 'sample_percentage_schema_inferencing': 0.01}"
      ]
     },
     "execution_count": 7,
     "metadata": {},
     "output_type": "execute_result"
    }
   ],
   "source": [
    "dict(zip(Config.__init__.__code__.co_varnames[1:], Config.__init__.__defaults__))"
   ]
  },
  {
   "attachments": {},
   "cell_type": "markdown",
   "metadata": {},
   "source": [
    "It's easy to change these parameters by just passing the keyword arguments. In the following example, we\n",
    "- Keep the IH predictor names\n",
    "- Keep the outcome values\n",
    "- Keep the context key values\n",
    "- Keep the context key predictor names"
   ]
  },
  {
   "cell_type": "code",
   "execution_count": 8,
   "metadata": {
    "execution": {
     "iopub.execute_input": "2024-06-24T14:51:39.803065Z",
     "iopub.status.busy": "2024-06-24T14:51:39.802754Z",
     "iopub.status.idle": "2024-06-24T14:51:39.810362Z",
     "shell.execute_reply": "2024-06-24T14:51:39.809826Z"
    }
   },
   "outputs": [
    {
     "data": {
      "text/html": [
       "<div><style>\n",
       ".dataframe > thead > tr,\n",
       ".dataframe > tbody > tr {\n",
       "  text-align: right;\n",
       "  white-space: pre-wrap;\n",
       "}\n",
       "</style>\n",
       "<small>shape: (7, 7)</small><table border=\"1\" class=\"dataframe\"><thead><tr><th>PREDICTOR_0</th><th>filename</th><th>PREDICTOR_2</th><th>PREDICTOR_3</th><th>Context_Name</th><th>IH_Web_Inbound_Accepted_pxLastGroupID</th><th>Decision_Outcome</th></tr><tr><td>str</td><td>str</td><td>f64</td><td>str</td><td>str</td><td>str</td><td>str</td></tr></thead><tbody><tr><td>&quot;2373592059457764073&quot;</td><td>&quot;../../../../data/SampleHDS.jso…</td><td>6.9199e18</td><td>&quot;2880600467473429942&quot;</td><td>&quot;FirstMortgage30yr&quot;</td><td>&quot;6772501305515576314&quot;</td><td>&quot;Rejected&quot;</td></tr><tr><td>&quot;17241819709490878424&quot;</td><td>&quot;../../../../data/SampleHDS.jso…</td><td>1.5791e19</td><td>&quot;13237482271131638777&quot;</td><td>&quot;FirstMortgage30yr&quot;</td><td>&quot;17413254661474864988&quot;</td><td>&quot;Accepted&quot;</td></tr><tr><td>&quot;322130473586871040&quot;</td><td>&quot;../../../../data/SampleHDS.jso…</td><td>6.7790e18</td><td>&quot;8407542876692354426&quot;</td><td>&quot;MoneyMarketSavingsAccount&quot;</td><td>&quot;6772501305515576314&quot;</td><td>&quot;Rejected&quot;</td></tr><tr><td>&quot;1482037313563932753&quot;</td><td>&quot;../../../../data/SampleHDS.jso…</td><td>1.4837e18</td><td>&quot;13237482271131638777&quot;</td><td>&quot;BasicChecking&quot;</td><td>&quot;6772501305515576314&quot;</td><td>&quot;Rejected&quot;</td></tr><tr><td>&quot;9820393012684327919&quot;</td><td>&quot;../../../../data/SampleHDS.jso…</td><td>1.1879e19</td><td>&quot;2880600467473429942&quot;</td><td>&quot;BasicChecking&quot;</td><td>&quot;4628437209402000446&quot;</td><td>&quot;Accepted&quot;</td></tr><tr><td>&quot;6200133409996739200&quot;</td><td>&quot;../../../../data/SampleHDS.jso…</td><td>1.7281e19</td><td>&quot;8407542876692354426&quot;</td><td>&quot;UPlusFinPersonal&quot;</td><td>null</td><td>&quot;Rejected&quot;</td></tr><tr><td>&quot;2305326543846589043&quot;</td><td>&quot;../../../../data/SampleHDS.jso…</td><td>1.5397e19</td><td>&quot;8407542876692354426&quot;</td><td>&quot;BasicChecking&quot;</td><td>&quot;4628437209402000446&quot;</td><td>&quot;Rejected&quot;</td></tr></tbody></table></div>"
      ],
      "text/plain": [
       "shape: (7, 7)\n",
       "┌──────────────┬─────────────┬─────────────┬─────────────┬─────────────┬─────────────┬─────────────┐\n",
       "│ PREDICTOR_0  ┆ filename    ┆ PREDICTOR_2 ┆ PREDICTOR_3 ┆ Context_Nam ┆ IH_Web_Inbo ┆ Decision_Ou │\n",
       "│ ---          ┆ ---         ┆ ---         ┆ ---         ┆ e           ┆ und_Accepte ┆ tcome       │\n",
       "│ str          ┆ str         ┆ f64         ┆ str         ┆ ---         ┆ d_pxLast…   ┆ ---         │\n",
       "│              ┆             ┆             ┆             ┆ str         ┆ ---         ┆ str         │\n",
       "│              ┆             ┆             ┆             ┆             ┆ str         ┆             │\n",
       "╞══════════════╪═════════════╪═════════════╪═════════════╪═════════════╪═════════════╪═════════════╡\n",
       "│ 237359205945 ┆ ../../../.. ┆ 6.9199e18   ┆ 28806004674 ┆ FirstMortga ┆ 67725013055 ┆ Rejected    │\n",
       "│ 7764073      ┆ /data/Sampl ┆             ┆ 73429942    ┆ ge30yr      ┆ 15576314    ┆             │\n",
       "│              ┆ eHDS.jso…   ┆             ┆             ┆             ┆             ┆             │\n",
       "│ 172418197094 ┆ ../../../.. ┆ 1.5791e19   ┆ 13237482271 ┆ FirstMortga ┆ 17413254661 ┆ Accepted    │\n",
       "│ 90878424     ┆ /data/Sampl ┆             ┆ 131638777   ┆ ge30yr      ┆ 474864988   ┆             │\n",
       "│              ┆ eHDS.jso…   ┆             ┆             ┆             ┆             ┆             │\n",
       "│ 322130473586 ┆ ../../../.. ┆ 6.7790e18   ┆ 84075428766 ┆ MoneyMarket ┆ 67725013055 ┆ Rejected    │\n",
       "│ 871040       ┆ /data/Sampl ┆             ┆ 92354426    ┆ SavingsAcco ┆ 15576314    ┆             │\n",
       "│              ┆ eHDS.jso…   ┆             ┆             ┆ unt         ┆             ┆             │\n",
       "│ 148203731356 ┆ ../../../.. ┆ 1.4837e18   ┆ 13237482271 ┆ BasicChecki ┆ 67725013055 ┆ Rejected    │\n",
       "│ 3932753      ┆ /data/Sampl ┆             ┆ 131638777   ┆ ng          ┆ 15576314    ┆             │\n",
       "│              ┆ eHDS.jso…   ┆             ┆             ┆             ┆             ┆             │\n",
       "│ 982039301268 ┆ ../../../.. ┆ 1.1879e19   ┆ 28806004674 ┆ BasicChecki ┆ 46284372094 ┆ Accepted    │\n",
       "│ 4327919      ┆ /data/Sampl ┆             ┆ 73429942    ┆ ng          ┆ 02000446    ┆             │\n",
       "│              ┆ eHDS.jso…   ┆             ┆             ┆             ┆             ┆             │\n",
       "│ 620013340999 ┆ ../../../.. ┆ 1.7281e19   ┆ 84075428766 ┆ UPlusFinPer ┆ null        ┆ Rejected    │\n",
       "│ 6739200      ┆ /data/Sampl ┆             ┆ 92354426    ┆ sonal       ┆             ┆             │\n",
       "│              ┆ eHDS.jso…   ┆             ┆             ┆             ┆             ┆             │\n",
       "│ 230532654384 ┆ ../../../.. ┆ 1.5397e19   ┆ 84075428766 ┆ BasicChecki ┆ 46284372094 ┆ Rejected    │\n",
       "│ 6589043      ┆ /data/Sampl ┆             ┆ 92354426    ┆ ng          ┆ 02000446    ┆             │\n",
       "│              ┆ eHDS.jso…   ┆             ┆             ┆             ┆             ┆             │\n",
       "└──────────────┴─────────────┴─────────────┴─────────────┴─────────────┴─────────────┴─────────────┘"
      ]
     },
     "execution_count": 8,
     "metadata": {},
     "output_type": "execute_result"
    }
   ],
   "source": [
    "anon = DataAnonymization(\n",
    "    hds_folder=\"../../../../data/\",\n",
    "    mask_ih_names=False,\n",
    "    mask_outcome_values=False,\n",
    "    mask_context_key_values=False,\n",
    "    mask_context_key_names=False,\n",
    ")\n",
    "anon.process()\n"
   ]
  },
  {
   "attachments": {},
   "cell_type": "markdown",
   "metadata": {},
   "source": [
    "The configs can also be written and read as such:"
   ]
  },
  {
   "cell_type": "code",
   "execution_count": 9,
   "metadata": {
    "execution": {
     "iopub.execute_input": "2024-06-24T14:51:39.812291Z",
     "iopub.status.busy": "2024-06-24T14:51:39.812005Z",
     "iopub.status.idle": "2024-06-24T14:51:39.814828Z",
     "shell.execute_reply": "2024-06-24T14:51:39.814303Z"
    }
   },
   "outputs": [],
   "source": [
    "anon.config.save_to_config_file('config.json')"
   ]
  },
  {
   "cell_type": "code",
   "execution_count": 10,
   "metadata": {
    "execution": {
     "iopub.execute_input": "2024-06-24T14:51:39.816681Z",
     "iopub.status.busy": "2024-06-24T14:51:39.816392Z",
     "iopub.status.idle": "2024-06-24T14:51:39.823687Z",
     "shell.execute_reply": "2024-06-24T14:51:39.823241Z"
    }
   },
   "outputs": [
    {
     "data": {
      "text/html": [
       "<div><style>\n",
       ".dataframe > thead > tr,\n",
       ".dataframe > tbody > tr {\n",
       "  text-align: right;\n",
       "  white-space: pre-wrap;\n",
       "}\n",
       "</style>\n",
       "<small>shape: (7, 7)</small><table border=\"1\" class=\"dataframe\"><thead><tr><th>PREDICTOR_0</th><th>filename</th><th>PREDICTOR_2</th><th>PREDICTOR_3</th><th>Context_Name</th><th>IH_Web_Inbound_Accepted_pxLastGroupID</th><th>Decision_Outcome</th></tr><tr><td>str</td><td>str</td><td>f64</td><td>str</td><td>str</td><td>str</td><td>str</td></tr></thead><tbody><tr><td>&quot;10940758635026206683&quot;</td><td>&quot;../../../../data/SampleHDS.jso…</td><td>3.0582e18</td><td>&quot;10283509424210239021&quot;</td><td>&quot;FirstMortgage30yr&quot;</td><td>&quot;15274554402532124515&quot;</td><td>&quot;Rejected&quot;</td></tr><tr><td>&quot;13492107503574211872&quot;</td><td>&quot;../../../../data/SampleHDS.jso…</td><td>1.1463e18</td><td>&quot;4342418725627949777&quot;</td><td>&quot;FirstMortgage30yr&quot;</td><td>&quot;1926519464317187260&quot;</td><td>&quot;Accepted&quot;</td></tr><tr><td>&quot;7969642468172285795&quot;</td><td>&quot;../../../../data/SampleHDS.jso…</td><td>7.8023e18</td><td>&quot;7895422772354746500&quot;</td><td>&quot;MoneyMarketSavingsAccount&quot;</td><td>&quot;15274554402532124515&quot;</td><td>&quot;Rejected&quot;</td></tr><tr><td>&quot;1313107311780088065&quot;</td><td>&quot;../../../../data/SampleHDS.jso…</td><td>1.5057e19</td><td>&quot;4342418725627949777&quot;</td><td>&quot;BasicChecking&quot;</td><td>&quot;15274554402532124515&quot;</td><td>&quot;Rejected&quot;</td></tr><tr><td>&quot;9784836628120965613&quot;</td><td>&quot;../../../../data/SampleHDS.jso…</td><td>9.0925e18</td><td>&quot;10283509424210239021&quot;</td><td>&quot;BasicChecking&quot;</td><td>&quot;15166405519848142881&quot;</td><td>&quot;Accepted&quot;</td></tr><tr><td>&quot;4957994631410446949&quot;</td><td>&quot;../../../../data/SampleHDS.jso…</td><td>2.9083e18</td><td>&quot;7895422772354746500&quot;</td><td>&quot;UPlusFinPersonal&quot;</td><td>null</td><td>&quot;Rejected&quot;</td></tr><tr><td>&quot;17660250685348595059&quot;</td><td>&quot;../../../../data/SampleHDS.jso…</td><td>4.4894e18</td><td>&quot;7895422772354746500&quot;</td><td>&quot;BasicChecking&quot;</td><td>&quot;15166405519848142881&quot;</td><td>&quot;Rejected&quot;</td></tr></tbody></table></div>"
      ],
      "text/plain": [
       "shape: (7, 7)\n",
       "┌──────────────┬─────────────┬─────────────┬─────────────┬─────────────┬─────────────┬─────────────┐\n",
       "│ PREDICTOR_0  ┆ filename    ┆ PREDICTOR_2 ┆ PREDICTOR_3 ┆ Context_Nam ┆ IH_Web_Inbo ┆ Decision_Ou │\n",
       "│ ---          ┆ ---         ┆ ---         ┆ ---         ┆ e           ┆ und_Accepte ┆ tcome       │\n",
       "│ str          ┆ str         ┆ f64         ┆ str         ┆ ---         ┆ d_pxLast…   ┆ ---         │\n",
       "│              ┆             ┆             ┆             ┆ str         ┆ ---         ┆ str         │\n",
       "│              ┆             ┆             ┆             ┆             ┆ str         ┆             │\n",
       "╞══════════════╪═════════════╪═════════════╪═════════════╪═════════════╪═════════════╪═════════════╡\n",
       "│ 109407586350 ┆ ../../../.. ┆ 3.0582e18   ┆ 10283509424 ┆ FirstMortga ┆ 15274554402 ┆ Rejected    │\n",
       "│ 26206683     ┆ /data/Sampl ┆             ┆ 210239021   ┆ ge30yr      ┆ 532124515   ┆             │\n",
       "│              ┆ eHDS.jso…   ┆             ┆             ┆             ┆             ┆             │\n",
       "│ 134921075035 ┆ ../../../.. ┆ 1.1463e18   ┆ 43424187256 ┆ FirstMortga ┆ 19265194643 ┆ Accepted    │\n",
       "│ 74211872     ┆ /data/Sampl ┆             ┆ 27949777    ┆ ge30yr      ┆ 17187260    ┆             │\n",
       "│              ┆ eHDS.jso…   ┆             ┆             ┆             ┆             ┆             │\n",
       "│ 796964246817 ┆ ../../../.. ┆ 7.8023e18   ┆ 78954227723 ┆ MoneyMarket ┆ 15274554402 ┆ Rejected    │\n",
       "│ 2285795      ┆ /data/Sampl ┆             ┆ 54746500    ┆ SavingsAcco ┆ 532124515   ┆             │\n",
       "│              ┆ eHDS.jso…   ┆             ┆             ┆ unt         ┆             ┆             │\n",
       "│ 131310731178 ┆ ../../../.. ┆ 1.5057e19   ┆ 43424187256 ┆ BasicChecki ┆ 15274554402 ┆ Rejected    │\n",
       "│ 0088065      ┆ /data/Sampl ┆             ┆ 27949777    ┆ ng          ┆ 532124515   ┆             │\n",
       "│              ┆ eHDS.jso…   ┆             ┆             ┆             ┆             ┆             │\n",
       "│ 978483662812 ┆ ../../../.. ┆ 9.0925e18   ┆ 10283509424 ┆ BasicChecki ┆ 15166405519 ┆ Accepted    │\n",
       "│ 0965613      ┆ /data/Sampl ┆             ┆ 210239021   ┆ ng          ┆ 848142881   ┆             │\n",
       "│              ┆ eHDS.jso…   ┆             ┆             ┆             ┆             ┆             │\n",
       "│ 495799463141 ┆ ../../../.. ┆ 2.9083e18   ┆ 78954227723 ┆ UPlusFinPer ┆ null        ┆ Rejected    │\n",
       "│ 0446949      ┆ /data/Sampl ┆             ┆ 54746500    ┆ sonal       ┆             ┆             │\n",
       "│              ┆ eHDS.jso…   ┆             ┆             ┆             ┆             ┆             │\n",
       "│ 176602506853 ┆ ../../../.. ┆ 4.4894e18   ┆ 78954227723 ┆ BasicChecki ┆ 15166405519 ┆ Rejected    │\n",
       "│ 48595059     ┆ /data/Sampl ┆             ┆ 54746500    ┆ ng          ┆ 848142881   ┆             │\n",
       "│              ┆ eHDS.jso…   ┆             ┆             ┆             ┆             ┆             │\n",
       "└──────────────┴─────────────┴─────────────┴─────────────┴─────────────┴─────────────┴─────────────┘"
      ]
     },
     "execution_count": 10,
     "metadata": {},
     "output_type": "execute_result"
    }
   ],
   "source": [
    "anon = DataAnonymization(config=Config(config_file='config.json'))\n",
    "anon.process()"
   ]
  },
  {
   "attachments": {},
   "cell_type": "markdown",
   "metadata": {},
   "source": [
    "## Exporting\n",
    "Two functions export:\n",
    "- `create_mapping_file()` writes the mapping file of the predictor names\n",
    "- `write_to_output()` writes the processed dataframe to disk\n",
    "\n",
    "Write to output accepts the following extensions: `[\"ndjson\", \"parquet\", \"arrow\", \"csv\"]`"
   ]
  },
  {
   "cell_type": "code",
   "execution_count": 11,
   "metadata": {
    "execution": {
     "iopub.execute_input": "2024-06-24T14:51:39.825782Z",
     "iopub.status.busy": "2024-06-24T14:51:39.825462Z",
     "iopub.status.idle": "2024-06-24T14:51:39.828866Z",
     "shell.execute_reply": "2024-06-24T14:51:39.828388Z"
    }
   },
   "outputs": [
    {
     "name": "stdout",
     "output_type": "stream",
     "text": [
      "Customer_City=PREDICTOR_0\n",
      "filename=filename\n",
      "Customer_CLV=PREDICTOR_2\n",
      "Customer_MaritalStatus=PREDICTOR_3\n",
      "Context_Name=Context_Name\n",
      "IH_Web_Inbound_Accepted_pxLastGroupID=IH_Web_Inbound_Accepted_pxLastGroupID\n",
      "Decision_Outcome=Decision_Outcome\n",
      "\n"
     ]
    }
   ],
   "source": [
    "anon.create_mapping_file()\n",
    "with open('mapping.map') as f:\n",
    "    print(f.read())"
   ]
  },
  {
   "cell_type": "code",
   "execution_count": 12,
   "metadata": {
    "execution": {
     "iopub.execute_input": "2024-06-24T14:51:39.830842Z",
     "iopub.status.busy": "2024-06-24T14:51:39.830526Z",
     "iopub.status.idle": "2024-06-24T14:51:39.833828Z",
     "shell.execute_reply": "2024-06-24T14:51:39.833395Z"
    }
   },
   "outputs": [],
   "source": [
    "anon.write_to_output(ext='arrow')"
   ]
  },
  {
   "cell_type": "code",
   "execution_count": 13,
   "metadata": {
    "execution": {
     "iopub.execute_input": "2024-06-24T14:51:39.835739Z",
     "iopub.status.busy": "2024-06-24T14:51:39.835421Z",
     "iopub.status.idle": "2024-06-24T14:51:39.839675Z",
     "shell.execute_reply": "2024-06-24T14:51:39.839241Z"
    }
   },
   "outputs": [
    {
     "data": {
      "text/html": [
       "<div><style>\n",
       ".dataframe > thead > tr,\n",
       ".dataframe > tbody > tr {\n",
       "  text-align: right;\n",
       "  white-space: pre-wrap;\n",
       "}\n",
       "</style>\n",
       "<small>shape: (7, 6)</small><table border=\"1\" class=\"dataframe\"><thead><tr><th>PREDICTOR_0</th><th>PREDICTOR_2</th><th>PREDICTOR_3</th><th>Context_Name</th><th>IH_Web_Inbound_Accepted_pxLastGroupID</th><th>Decision_Outcome</th></tr><tr><td>str</td><td>f64</td><td>str</td><td>str</td><td>str</td><td>str</td></tr></thead><tbody><tr><td>&quot;12566719704964328590&quot;</td><td>5.7964e17</td><td>&quot;7316055550216647036&quot;</td><td>&quot;FirstMortgage30yr&quot;</td><td>&quot;14953231644066734692&quot;</td><td>&quot;Rejected&quot;</td></tr><tr><td>&quot;3484814720753155743&quot;</td><td>7.2890e18</td><td>&quot;17450610036069767591&quot;</td><td>&quot;FirstMortgage30yr&quot;</td><td>&quot;7571795107142995895&quot;</td><td>&quot;Accepted&quot;</td></tr><tr><td>&quot;6508277315004576810&quot;</td><td>1.4319e18</td><td>&quot;1411779264622791539&quot;</td><td>&quot;MoneyMarketSavingsAccount&quot;</td><td>&quot;14953231644066734692&quot;</td><td>&quot;Rejected&quot;</td></tr><tr><td>&quot;7336094545971923405&quot;</td><td>1.7302e19</td><td>&quot;17450610036069767591&quot;</td><td>&quot;BasicChecking&quot;</td><td>&quot;14953231644066734692&quot;</td><td>&quot;Rejected&quot;</td></tr><tr><td>&quot;15033152049786308567&quot;</td><td>1.1405e19</td><td>&quot;7316055550216647036&quot;</td><td>&quot;BasicChecking&quot;</td><td>&quot;4427937609119853381&quot;</td><td>&quot;Accepted&quot;</td></tr><tr><td>&quot;9482412601445830876&quot;</td><td>1.1185e19</td><td>&quot;1411779264622791539&quot;</td><td>&quot;UPlusFinPersonal&quot;</td><td>null</td><td>&quot;Rejected&quot;</td></tr><tr><td>&quot;13056348536235662935&quot;</td><td>1.2898e19</td><td>&quot;1411779264622791539&quot;</td><td>&quot;BasicChecking&quot;</td><td>&quot;4427937609119853381&quot;</td><td>&quot;Rejected&quot;</td></tr></tbody></table></div>"
      ],
      "text/plain": [
       "shape: (7, 6)\n",
       "┌────────────────┬─────────────┬────────────────┬────────────────┬────────────────┬────────────────┐\n",
       "│ PREDICTOR_0    ┆ PREDICTOR_2 ┆ PREDICTOR_3    ┆ Context_Name   ┆ IH_Web_Inbound ┆ Decision_Outco │\n",
       "│ ---            ┆ ---         ┆ ---            ┆ ---            ┆ _Accepted_pxLa ┆ me             │\n",
       "│ str            ┆ f64         ┆ str            ┆ str            ┆ st…            ┆ ---            │\n",
       "│                ┆             ┆                ┆                ┆ ---            ┆ str            │\n",
       "│                ┆             ┆                ┆                ┆ str            ┆                │\n",
       "╞════════════════╪═════════════╪════════════════╪════════════════╪════════════════╪════════════════╡\n",
       "│ 12566719704964 ┆ 5.7964e17   ┆ 73160555502166 ┆ FirstMortgage3 ┆ 14953231644066 ┆ Rejected       │\n",
       "│ 328590         ┆             ┆ 47036          ┆ 0yr            ┆ 734692         ┆                │\n",
       "│ 34848147207531 ┆ 7.2890e18   ┆ 17450610036069 ┆ FirstMortgage3 ┆ 75717951071429 ┆ Accepted       │\n",
       "│ 55743          ┆             ┆ 767591         ┆ 0yr            ┆ 95895          ┆                │\n",
       "│ 65082773150045 ┆ 1.4319e18   ┆ 14117792646227 ┆ MoneyMarketSav ┆ 14953231644066 ┆ Rejected       │\n",
       "│ 76810          ┆             ┆ 91539          ┆ ingsAccount    ┆ 734692         ┆                │\n",
       "│ 73360945459719 ┆ 1.7302e19   ┆ 17450610036069 ┆ BasicChecking  ┆ 14953231644066 ┆ Rejected       │\n",
       "│ 23405          ┆             ┆ 767591         ┆                ┆ 734692         ┆                │\n",
       "│ 15033152049786 ┆ 1.1405e19   ┆ 73160555502166 ┆ BasicChecking  ┆ 44279376091198 ┆ Accepted       │\n",
       "│ 308567         ┆             ┆ 47036          ┆                ┆ 53381          ┆                │\n",
       "│ 94824126014458 ┆ 1.1185e19   ┆ 14117792646227 ┆ UPlusFinPerson ┆ null           ┆ Rejected       │\n",
       "│ 30876          ┆             ┆ 91539          ┆ al             ┆                ┆                │\n",
       "│ 13056348536235 ┆ 1.2898e19   ┆ 14117792646227 ┆ BasicChecking  ┆ 44279376091198 ┆ Rejected       │\n",
       "│ 662935         ┆             ┆ 91539          ┆                ┆ 53381          ┆                │\n",
       "└────────────────┴─────────────┴────────────────┴────────────────┴────────────────┴────────────────┘"
      ]
     },
     "execution_count": 13,
     "metadata": {},
     "output_type": "execute_result"
    }
   ],
   "source": [
    "pl.read_ipc('output/hds.arrow')"
   ]
  },
  {
   "attachments": {},
   "cell_type": "markdown",
   "metadata": {
    "nbsphinx": "hidden"
   },
   "source": [
    "## Advanced: Hash fuctions\n",
    "\n",
    "By default, we use [the same hashing algorithm Polars](https://pola-rs.github.io/polars/py-polars/html/reference/expressions/api/polars.Expr.hash.html#polars.Expr.hash) uses: [xxhash](https://github.com/Cyan4973/xxHash), as implemented [here](https://github.com/pola-rs/polars/blob/3f287f370b3c388ed2f3f218b2c096382548136f/polars/polars-core/src/vector_hasher.rs#L266). xxhash is fast to compute, and you can check its performance in collision, dispersion and randomness [here](https://github.com/Cyan4973/xxHash/tree/dev/tests). \n",
    "\n",
    "xxhash accepts four distinct seeds, but by default we set the seeds to `0`. It is possible to set the `seed` argument of the `process()` function to `'random'`, which will set all four seeds to a random integer between `0` and `1000000000`. Alternatively, it is possible to supply the four seeds manually with arguments `seed`, `seed_1`, `seed_2` and `seed_3`. \n",
    "\n",
    "If the xxhash with (random) seed(s) is not deemed sufficiently secure, it is possible to use your own hashing algorithm.\n",
    "\n",
    "Note that since we're now running python code and not native Polars code anymore, this will be _significantly_ slower. Nonetheless, it is possible.\n",
    "\n",
    "Just as an example - this is how one would use sha3_256:"
   ]
  },
  {
   "cell_type": "code",
   "execution_count": 14,
   "metadata": {
    "execution": {
     "iopub.execute_input": "2024-06-24T14:51:39.841735Z",
     "iopub.status.busy": "2024-06-24T14:51:39.841415Z",
     "iopub.status.idle": "2024-06-24T14:51:40.167273Z",
     "shell.execute_reply": "2024-06-24T14:51:40.166735Z"
    },
    "nbsphinx": "hidden"
   },
   "outputs": [
    {
     "name": "stderr",
     "output_type": "stream",
     "text": [
      "sys:1: MapWithoutReturnDtypeWarning:\n",
      "\n",
      "Calling `map_elements` without specifying `return_dtype` can lead to unpredictable results. Specify `return_dtype` to silence this warning.\n",
      "\n",
      "sys:1: MapWithoutReturnDtypeWarning:\n",
      "\n",
      "Calling `map_elements` without specifying `return_dtype` can lead to unpredictable results. Specify `return_dtype` to silence this warning.\n",
      "\n",
      "sys:1: MapWithoutReturnDtypeWarning:\n",
      "\n",
      "Calling `map_elements` without specifying `return_dtype` can lead to unpredictable results. Specify `return_dtype` to silence this warning.\n",
      "\n",
      "sys:1: MapWithoutReturnDtypeWarning:\n",
      "\n",
      "Calling `map_elements` without specifying `return_dtype` can lead to unpredictable results. Specify `return_dtype` to silence this warning.\n",
      "\n"
     ]
    },
    {
     "ename": "ComputeError",
     "evalue": "AttributeError: 'int' object has no attribute 'encode'",
     "output_type": "error",
     "traceback": [
      "\u001b[0;31m---------------------------------------------------------------------------\u001b[0m",
      "\u001b[0;31mComputeError\u001b[0m                              Traceback (most recent call last)",
      "Cell \u001b[0;32mIn[14], line 3\u001b[0m\n\u001b[1;32m      1\u001b[0m \u001b[38;5;28;01mfrom\u001b[39;00m \u001b[38;5;21;01mhashlib\u001b[39;00m \u001b[38;5;28;01mimport\u001b[39;00m sha3_256\n\u001b[0;32m----> 3\u001b[0m \u001b[43manon\u001b[49m\u001b[38;5;241;43m.\u001b[39;49m\u001b[43mprocess\u001b[49m\u001b[43m(\u001b[49m\u001b[43malgorithm\u001b[49m\u001b[38;5;241;43m=\u001b[39;49m\u001b[38;5;28;43;01mlambda\u001b[39;49;00m\u001b[43m \u001b[49m\u001b[43mx\u001b[49m\u001b[43m:\u001b[49m\u001b[43m \u001b[49m\u001b[43msha3_256\u001b[49m\u001b[43m(\u001b[49m\u001b[43mx\u001b[49m\u001b[38;5;241;43m.\u001b[39;49m\u001b[43mencode\u001b[49m\u001b[43m(\u001b[49m\u001b[43m)\u001b[49m\u001b[43m)\u001b[49m\u001b[38;5;241;43m.\u001b[39;49m\u001b[43mhexdigest\u001b[49m\u001b[43m(\u001b[49m\u001b[43m)\u001b[49m\u001b[43m)\u001b[49m\n",
      "File \u001b[0;32m~/work/pega-datascientist-tools/pega-datascientist-tools/python/docs/source/articles/../../../pdstools/utils/hds_utils.py:512\u001b[0m, in \u001b[0;36mDataAnonymization.process\u001b[0;34m(self, strategy, **kwargs)\u001b[0m\n\u001b[1;32m    510\u001b[0m df \u001b[38;5;241m=\u001b[39m df\u001b[38;5;241m.\u001b[39mselect(\u001b[38;5;28mself\u001b[39m\u001b[38;5;241m.\u001b[39mcolumn_mapping\u001b[38;5;241m.\u001b[39mkeys())\u001b[38;5;241m.\u001b[39mrename(\u001b[38;5;28mself\u001b[39m\u001b[38;5;241m.\u001b[39mcolumn_mapping)\n\u001b[1;32m    511\u001b[0m \u001b[38;5;28;01mif\u001b[39;00m strategy \u001b[38;5;241m==\u001b[39m \u001b[38;5;124m\"\u001b[39m\u001b[38;5;124meager\u001b[39m\u001b[38;5;124m\"\u001b[39m:\n\u001b[0;32m--> 512\u001b[0m     \u001b[38;5;28;01mreturn\u001b[39;00m \u001b[43mdf\u001b[49m\u001b[38;5;241;43m.\u001b[39;49m\u001b[43mcollect\u001b[49m\u001b[43m(\u001b[49m\u001b[43m)\u001b[49m\n\u001b[1;32m    513\u001b[0m \u001b[38;5;28;01mreturn\u001b[39;00m df\n",
      "File \u001b[0;32m/opt/hostedtoolcache/Python/3.11.9/x64/lib/python3.11/site-packages/polars/lazyframe/frame.py:1967\u001b[0m, in \u001b[0;36mLazyFrame.collect\u001b[0;34m(self, type_coercion, predicate_pushdown, projection_pushdown, simplify_expression, slice_pushdown, comm_subplan_elim, comm_subexpr_elim, cluster_with_columns, no_optimization, streaming, background, _eager, **_kwargs)\u001b[0m\n\u001b[1;32m   1964\u001b[0m \u001b[38;5;66;03m# Only for testing purposes atm.\u001b[39;00m\n\u001b[1;32m   1965\u001b[0m callback \u001b[38;5;241m=\u001b[39m _kwargs\u001b[38;5;241m.\u001b[39mget(\u001b[38;5;124m\"\u001b[39m\u001b[38;5;124mpost_opt_callback\u001b[39m\u001b[38;5;124m\"\u001b[39m)\n\u001b[0;32m-> 1967\u001b[0m \u001b[38;5;28;01mreturn\u001b[39;00m wrap_df(\u001b[43mldf\u001b[49m\u001b[38;5;241;43m.\u001b[39;49m\u001b[43mcollect\u001b[49m\u001b[43m(\u001b[49m\u001b[43mcallback\u001b[49m\u001b[43m)\u001b[49m)\n",
      "\u001b[0;31mComputeError\u001b[0m: AttributeError: 'int' object has no attribute 'encode'"
     ]
    }
   ],
   "source": [
    "from hashlib import sha3_256\n",
    "\n",
    "anon.process(algorithm=lambda x: sha3_256(x.encode()).hexdigest())"
   ]
  }
 ],
 "metadata": {
  "kernelspec": {
   "display_name": "Python 3",
   "language": "python",
   "name": "python3"
  },
  "language_info": {
   "codemirror_mode": {
    "name": "ipython",
    "version": 3
   },
   "file_extension": ".py",
   "mimetype": "text/x-python",
   "name": "python",
   "nbconvert_exporter": "python",
   "pygments_lexer": "ipython3",
   "version": "3.11.9"
  },
  "vscode": {
   "interpreter": {
    "hash": "aee8b7b246df8f9039afb4144a1f6fd8d2ca17a180786b69acc140d282b71a49"
   }
  }
 },
 "nbformat": 4,
 "nbformat_minor": 2
}
