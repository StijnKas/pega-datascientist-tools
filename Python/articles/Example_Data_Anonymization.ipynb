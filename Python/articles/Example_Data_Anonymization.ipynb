{
 "cells": [
  {
   "attachments": {},
   "cell_type": "markdown",
   "metadata": {},
   "source": [
    "# Data Anonymization\n",
    "\n",
    "In Pega CDH 8.5 and up, it's now possible to record the historical data as seen by the Adaptive Models. See [this academy challenge](https://academy.pega.com/challenge/exporting-historical-data/v4) for reference. This historical data can be further used to experiment with offline models, but also to fine-tune the OOTB Gradient Boosting model. However, sharing this information with Pega can be sensitive as it contains raw predictor data. \n",
    "\n",
    "To this end, we provide a simple and transparent script to fully anonimize this dataset.\n",
    "\n",
    "The DataAnonymization script is now part of pdstools, and you can import it directly as such."
   ]
  },
  {
   "cell_type": "code",
   "execution_count": 1,
   "metadata": {
    "execution": {
     "iopub.execute_input": "2024-03-06T10:45:34.802196Z",
     "iopub.status.busy": "2024-03-06T10:45:34.802028Z",
     "iopub.status.idle": "2024-03-06T10:45:34.872695Z",
     "shell.execute_reply": "2024-03-06T10:45:34.872221Z"
    },
    "nbsphinx": "hidden"
   },
   "outputs": [],
   "source": [
    "# These lines are only for rendering in the docs, and are hidden through Jupyter tags\n",
    "# Do not run if you're running the notebook seperately\n",
    "\n",
    "import os  \n",
    "import sys\n",
    "import plotly.io as pio\n",
    "pio.renderers.default = \"notebook_connected\"\n",
    "\n",
    "sys.path.append(\"../../../\")\n",
    "sys.path.append('../../python')"
   ]
  },
  {
   "cell_type": "code",
   "execution_count": 2,
   "metadata": {
    "execution": {
     "iopub.execute_input": "2024-03-06T10:45:34.874882Z",
     "iopub.status.busy": "2024-03-06T10:45:34.874437Z",
     "iopub.status.idle": "2024-03-06T10:45:35.888701Z",
     "shell.execute_reply": "2024-03-06T10:45:35.888224Z"
    }
   },
   "outputs": [],
   "source": [
    "from pdstools import ADMDatamart\n",
    "from pdstools import Config, DataAnonymization\n",
    "import polars as pl"
   ]
  },
  {
   "attachments": {},
   "cell_type": "markdown",
   "metadata": {},
   "source": [
    "## Input data\n",
    "\n",
    "To demonstrate this process, we're going to anonymise this toy example dataframe:"
   ]
  },
  {
   "cell_type": "code",
   "execution_count": 3,
   "metadata": {
    "execution": {
     "iopub.execute_input": "2024-03-06T10:45:35.891108Z",
     "iopub.status.busy": "2024-03-06T10:45:35.890849Z",
     "iopub.status.idle": "2024-03-06T10:45:35.899353Z",
     "shell.execute_reply": "2024-03-06T10:45:35.898828Z"
    }
   },
   "outputs": [
    {
     "data": {
      "text/html": [
       "<div><style>\n",
       ".dataframe > thead > tr,\n",
       ".dataframe > tbody > tr {\n",
       "  text-align: right;\n",
       "  white-space: pre-wrap;\n",
       "}\n",
       "</style>\n",
       "<small>shape: (7, 6)</small><table border=\"1\" class=\"dataframe\"><thead><tr><th>Context_Name</th><th>Customer_MaritalStatus</th><th>Customer_CLV</th><th>Customer_City</th><th>IH_Web_Inbound_Accepted_pxLastGroupID</th><th>Decision_Outcome</th></tr><tr><td>str</td><td>str</td><td>i64</td><td>str</td><td>str</td><td>str</td></tr></thead><tbody><tr><td>&quot;FirstMortgage3…</td><td>&quot;Married&quot;</td><td>1460</td><td>&quot;Port Raoul&quot;</td><td>&quot;Account&quot;</td><td>&quot;Rejected&quot;</td></tr><tr><td>&quot;FirstMortgage3…</td><td>&quot;Unknown&quot;</td><td>669</td><td>&quot;Laurianneshire…</td><td>&quot;AutoLoans&quot;</td><td>&quot;Accepted&quot;</td></tr><tr><td>&quot;MoneyMarketSav…</td><td>&quot;No Resp+&quot;</td><td>1174</td><td>&quot;Jacobshaven&quot;</td><td>&quot;Account&quot;</td><td>&quot;Rejected&quot;</td></tr><tr><td>&quot;BasicChecking&quot;</td><td>&quot;Unknown&quot;</td><td>1476</td><td>&quot;Lindton&quot;</td><td>&quot;Account&quot;</td><td>&quot;Rejected&quot;</td></tr><tr><td>&quot;BasicChecking&quot;</td><td>&quot;Married&quot;</td><td>1211</td><td>&quot;South Jimmiesh…</td><td>&quot;DepositAccount…</td><td>&quot;Accepted&quot;</td></tr><tr><td>&quot;UPlusFinPerson…</td><td>&quot;No Resp+&quot;</td><td>533</td><td>&quot;Bergeville&quot;</td><td>null</td><td>&quot;Rejected&quot;</td></tr><tr><td>&quot;BasicChecking&quot;</td><td>&quot;No Resp+&quot;</td><td>555</td><td>&quot;Willyville&quot;</td><td>&quot;DepositAccount…</td><td>&quot;Rejected&quot;</td></tr></tbody></table></div>"
      ],
      "text/plain": [
       "shape: (7, 6)\n",
       "┌────────────────┬────────────────┬──────────────┬────────────────┬────────────────┬───────────────┐\n",
       "│ Context_Name   ┆ Customer_Marit ┆ Customer_CLV ┆ Customer_City  ┆ IH_Web_Inbound ┆ Decision_Outc │\n",
       "│ ---            ┆ alStatus       ┆ ---          ┆ ---            ┆ _Accepted_pxLa ┆ ome           │\n",
       "│ str            ┆ ---            ┆ i64          ┆ str            ┆ stGr…          ┆ ---           │\n",
       "│                ┆ str            ┆              ┆                ┆ ---            ┆ str           │\n",
       "│                ┆                ┆              ┆                ┆ str            ┆               │\n",
       "╞════════════════╪════════════════╪══════════════╪════════════════╪════════════════╪═══════════════╡\n",
       "│ FirstMortgage3 ┆ Married        ┆ 1460         ┆ Port Raoul     ┆ Account        ┆ Rejected      │\n",
       "│ 0yr            ┆                ┆              ┆                ┆                ┆               │\n",
       "│ FirstMortgage3 ┆ Unknown        ┆ 669          ┆ Laurianneshire ┆ AutoLoans      ┆ Accepted      │\n",
       "│ 0yr            ┆                ┆              ┆                ┆                ┆               │\n",
       "│ MoneyMarketSav ┆ No Resp+       ┆ 1174         ┆ Jacobshaven    ┆ Account        ┆ Rejected      │\n",
       "│ ingsAccount    ┆                ┆              ┆                ┆                ┆               │\n",
       "│ BasicChecking  ┆ Unknown        ┆ 1476         ┆ Lindton        ┆ Account        ┆ Rejected      │\n",
       "│ BasicChecking  ┆ Married        ┆ 1211         ┆ South          ┆ DepositAccount ┆ Accepted      │\n",
       "│                ┆                ┆              ┆ Jimmieshire    ┆ s              ┆               │\n",
       "│ UPlusFinPerson ┆ No Resp+       ┆ 533          ┆ Bergeville     ┆ null           ┆ Rejected      │\n",
       "│ al             ┆                ┆              ┆                ┆                ┆               │\n",
       "│ BasicChecking  ┆ No Resp+       ┆ 555          ┆ Willyville     ┆ DepositAccount ┆ Rejected      │\n",
       "│                ┆                ┆              ┆                ┆ s              ┆               │\n",
       "└────────────────┴────────────────┴──────────────┴────────────────┴────────────────┴───────────────┘"
      ]
     },
     "execution_count": 3,
     "metadata": {},
     "output_type": "execute_result"
    }
   ],
   "source": [
    "pl.read_ndjson('../../../../data/SampleHDS.json')"
   ]
  },
  {
   "attachments": {},
   "cell_type": "markdown",
   "metadata": {},
   "source": [
    "As you can see, this dataset consists of regular predictors, IH predictors, context keys and the outcome column. Additionally, some columns are numeric, others are strings. Let's first initialize the DataAnonymization class."
   ]
  },
  {
   "cell_type": "code",
   "execution_count": 4,
   "metadata": {
    "execution": {
     "iopub.execute_input": "2024-03-06T10:45:35.901443Z",
     "iopub.status.busy": "2024-03-06T10:45:35.901128Z",
     "iopub.status.idle": "2024-03-06T10:45:35.907242Z",
     "shell.execute_reply": "2024-03-06T10:45:35.906715Z"
    }
   },
   "outputs": [],
   "source": [
    "anon = DataAnonymization(hds_folder='../../../../data/')"
   ]
  },
  {
   "attachments": {},
   "cell_type": "markdown",
   "metadata": {},
   "source": [
    "By default, the class applies a set of anonymisation techniques:\n",
    "- Column names are remapped to a non-descriptive name\n",
    "- Categorical values are hashed with a random seed\n",
    "- Numerical values are normalized between 0 and 1\n",
    "- Outcomes are mapped to a binary outcome.\n",
    "\n",
    "To apply these techniques, simply call `.process()`:"
   ]
  },
  {
   "cell_type": "code",
   "execution_count": 5,
   "metadata": {
    "execution": {
     "iopub.execute_input": "2024-03-06T10:45:35.909483Z",
     "iopub.status.busy": "2024-03-06T10:45:35.909156Z",
     "iopub.status.idle": "2024-03-06T10:45:35.914543Z",
     "shell.execute_reply": "2024-03-06T10:45:35.914110Z"
    }
   },
   "outputs": [
    {
     "data": {
      "text/html": [
       "<div><style>\n",
       ".dataframe > thead > tr,\n",
       ".dataframe > tbody > tr {\n",
       "  text-align: right;\n",
       "  white-space: pre-wrap;\n",
       "}\n",
       "</style>\n",
       "<small>shape: (7, 7)</small><table border=\"1\" class=\"dataframe\"><thead><tr><th>filename</th><th>PREDICTOR_1</th><th>PREDICTOR_2</th><th>PREDICTOR_3</th><th>Context_Name</th><th>IH_PREDICTOR_0</th><th>Decision_Outcome</th></tr><tr><td>str</td><td>str</td><td>f64</td><td>str</td><td>str</td><td>str</td><td>bool</td></tr></thead><tbody><tr><td>&quot;../../../../da…</td><td>&quot;65732777866868…</td><td>0.983033</td><td>&quot;20880812621919…</td><td>&quot;16833361426168…</td><td>&quot;93311249197735…</td><td>false</td></tr><tr><td>&quot;../../../../da…</td><td>&quot;82794960301423…</td><td>0.144221</td><td>&quot;11028392519531…</td><td>&quot;16833361426168…</td><td>&quot;11267924501229…</td><td>true</td></tr><tr><td>&quot;../../../../da…</td><td>&quot;16845454466849…</td><td>0.679745</td><td>&quot;65941724532634…</td><td>&quot;95646249209787…</td><td>&quot;93311249197735…</td><td>false</td></tr><tr><td>&quot;../../../../da…</td><td>&quot;41416529054668…</td><td>1.0</td><td>&quot;11028392519531…</td><td>&quot;10452557567083…</td><td>&quot;93311249197735…</td><td>false</td></tr><tr><td>&quot;../../../../da…</td><td>&quot;17044567919853…</td><td>0.718982</td><td>&quot;20880812621919…</td><td>&quot;10452557567083…</td><td>&quot;63814384168383…</td><td>true</td></tr><tr><td>&quot;../../../../da…</td><td>&quot;89888647483259…</td><td>0.0</td><td>&quot;65941724532634…</td><td>&quot;10894427003473…</td><td>null</td><td>false</td></tr><tr><td>&quot;../../../../da…</td><td>&quot;10579678940844…</td><td>0.02333</td><td>&quot;65941724532634…</td><td>&quot;10452557567083…</td><td>&quot;63814384168383…</td><td>false</td></tr></tbody></table></div>"
      ],
      "text/plain": [
       "shape: (7, 7)\n",
       "┌──────────────┬─────────────┬─────────────┬─────────────┬─────────────┬─────────────┬─────────────┐\n",
       "│ filename     ┆ PREDICTOR_1 ┆ PREDICTOR_2 ┆ PREDICTOR_3 ┆ Context_Nam ┆ IH_PREDICTO ┆ Decision_Ou │\n",
       "│ ---          ┆ ---         ┆ ---         ┆ ---         ┆ e           ┆ R_0         ┆ tcome       │\n",
       "│ str          ┆ str         ┆ f64         ┆ str         ┆ ---         ┆ ---         ┆ ---         │\n",
       "│              ┆             ┆             ┆             ┆ str         ┆ str         ┆ bool        │\n",
       "╞══════════════╪═════════════╪═════════════╪═════════════╪═════════════╪═════════════╪═════════════╡\n",
       "│ ../../../../ ┆ 65732777866 ┆ 0.983033    ┆ 20880812621 ┆ 16833361426 ┆ 93311249197 ┆ false       │\n",
       "│ data/SampleH ┆ 8680594     ┆             ┆ 91945150    ┆ 168565490   ┆ 73574887    ┆             │\n",
       "│ DS.json      ┆             ┆             ┆             ┆             ┆             ┆             │\n",
       "│ ../../../../ ┆ 82794960301 ┆ 0.144221    ┆ 11028392519 ┆ 16833361426 ┆ 11267924501 ┆ true        │\n",
       "│ data/SampleH ┆ 42338554    ┆             ┆ 531098340   ┆ 168565490   ┆ 229529776   ┆             │\n",
       "│ DS.json      ┆             ┆             ┆             ┆             ┆             ┆             │\n",
       "│ ../../../../ ┆ 16845454466 ┆ 0.679745    ┆ 65941724532 ┆ 95646249209 ┆ 93311249197 ┆ false       │\n",
       "│ data/SampleH ┆ 849702971   ┆             ┆ 63423485    ┆ 78785061    ┆ 73574887    ┆             │\n",
       "│ DS.json      ┆             ┆             ┆             ┆             ┆             ┆             │\n",
       "│ ../../../../ ┆ 41416529054 ┆ 1.0         ┆ 11028392519 ┆ 10452557567 ┆ 93311249197 ┆ false       │\n",
       "│ data/SampleH ┆ 66895801    ┆             ┆ 531098340   ┆ 08362275    ┆ 73574887    ┆             │\n",
       "│ DS.json      ┆             ┆             ┆             ┆             ┆             ┆             │\n",
       "│ ../../../../ ┆ 17044567919 ┆ 0.718982    ┆ 20880812621 ┆ 10452557567 ┆ 63814384168 ┆ true        │\n",
       "│ data/SampleH ┆ 853699901   ┆             ┆ 91945150    ┆ 08362275    ┆ 38349551    ┆             │\n",
       "│ DS.json      ┆             ┆             ┆             ┆             ┆             ┆             │\n",
       "│ ../../../../ ┆ 89888647483 ┆ 0.0         ┆ 65941724532 ┆ 10894427003 ┆ null        ┆ false       │\n",
       "│ data/SampleH ┆ 25997765    ┆             ┆ 63423485    ┆ 473847739   ┆             ┆             │\n",
       "│ DS.json      ┆             ┆             ┆             ┆             ┆             ┆             │\n",
       "│ ../../../../ ┆ 10579678940 ┆ 0.02333     ┆ 65941724532 ┆ 10452557567 ┆ 63814384168 ┆ false       │\n",
       "│ data/SampleH ┆ 844199380   ┆             ┆ 63423485    ┆ 08362275    ┆ 38349551    ┆             │\n",
       "│ DS.json      ┆             ┆             ┆             ┆             ┆             ┆             │\n",
       "└──────────────┴─────────────┴─────────────┴─────────────┴─────────────┴─────────────┴─────────────┘"
      ]
     },
     "execution_count": 5,
     "metadata": {},
     "output_type": "execute_result"
    }
   ],
   "source": [
    "anon.process()"
   ]
  },
  {
   "attachments": {},
   "cell_type": "markdown",
   "metadata": {},
   "source": [
    "To trace back the columns to their original names, the class also contains a mapping, which does not have to be provided."
   ]
  },
  {
   "cell_type": "code",
   "execution_count": 6,
   "metadata": {
    "execution": {
     "iopub.execute_input": "2024-03-06T10:45:35.916307Z",
     "iopub.status.busy": "2024-03-06T10:45:35.916138Z",
     "iopub.status.idle": "2024-03-06T10:45:35.919770Z",
     "shell.execute_reply": "2024-03-06T10:45:35.919334Z"
    }
   },
   "outputs": [
    {
     "data": {
      "text/plain": [
       "{'filename': 'filename',\n",
       " 'Customer_City': 'PREDICTOR_1',\n",
       " 'Customer_CLV': 'PREDICTOR_2',\n",
       " 'Customer_MaritalStatus': 'PREDICTOR_3',\n",
       " 'Context_Name': 'Context_Name',\n",
       " 'IH_Web_Inbound_Accepted_pxLastGroupID': 'IH_PREDICTOR_0',\n",
       " 'Decision_Outcome': 'Decision_Outcome'}"
      ]
     },
     "execution_count": 6,
     "metadata": {},
     "output_type": "execute_result"
    }
   ],
   "source": [
    "anon.column_mapping"
   ]
  },
  {
   "attachments": {},
   "cell_type": "markdown",
   "metadata": {},
   "source": [
    "## Configs\n",
    "\n",
    "Each capability can optionally be turned off - see below for the full list of config options, and refer to the API reference for the full description."
   ]
  },
  {
   "cell_type": "code",
   "execution_count": 7,
   "metadata": {
    "execution": {
     "iopub.execute_input": "2024-03-06T10:45:35.921528Z",
     "iopub.status.busy": "2024-03-06T10:45:35.921363Z",
     "iopub.status.idle": "2024-03-06T10:45:35.925356Z",
     "shell.execute_reply": "2024-03-06T10:45:35.924889Z"
    }
   },
   "outputs": [
    {
     "data": {
      "text/plain": [
       "{'config_file': None,\n",
       " 'hds_folder': '.',\n",
       " 'use_datamart': False,\n",
       " 'datamart_folder': 'datamart',\n",
       " 'output_format': 'ndjson',\n",
       " 'output_folder': 'output',\n",
       " 'mapping_file': 'mapping.map',\n",
       " 'mask_predictor_names': True,\n",
       " 'mask_context_key_names': False,\n",
       " 'mask_ih_names': True,\n",
       " 'mask_outcome_name': False,\n",
       " 'mask_predictor_values': True,\n",
       " 'mask_context_key_values': True,\n",
       " 'mask_ih_values': True,\n",
       " 'mask_outcome_values': True,\n",
       " 'context_key_label': 'Context_*',\n",
       " 'ih_label': 'IH_*',\n",
       " 'outcome_column': 'Decision_Outcome',\n",
       " 'positive_outcomes': ['Accepted', 'Clicked'],\n",
       " 'negative_outcomes': ['Rejected', 'Impression'],\n",
       " 'special_predictors': ['Decision_DecisionTime',\n",
       "  'Decision_OutcomeTime',\n",
       "  'Decision_Rank'],\n",
       " 'sample_percentage_schema_inferencing': 0.01}"
      ]
     },
     "execution_count": 7,
     "metadata": {},
     "output_type": "execute_result"
    }
   ],
   "source": [
    "dict(zip(Config.__init__.__code__.co_varnames[1:], Config.__init__.__defaults__))"
   ]
  },
  {
   "attachments": {},
   "cell_type": "markdown",
   "metadata": {},
   "source": [
    "It's easy to change these parameters by just passing the keyword arguments. In the following example, we\n",
    "- Keep the IH predictor names\n",
    "- Keep the outcome values\n",
    "- Keep the context key values\n",
    "- Keep the context key predictor names"
   ]
  },
  {
   "cell_type": "code",
   "execution_count": 8,
   "metadata": {
    "execution": {
     "iopub.execute_input": "2024-03-06T10:45:35.927238Z",
     "iopub.status.busy": "2024-03-06T10:45:35.926942Z",
     "iopub.status.idle": "2024-03-06T10:45:35.934364Z",
     "shell.execute_reply": "2024-03-06T10:45:35.933838Z"
    }
   },
   "outputs": [
    {
     "data": {
      "text/html": [
       "<div><style>\n",
       ".dataframe > thead > tr,\n",
       ".dataframe > tbody > tr {\n",
       "  text-align: right;\n",
       "  white-space: pre-wrap;\n",
       "}\n",
       "</style>\n",
       "<small>shape: (7, 7)</small><table border=\"1\" class=\"dataframe\"><thead><tr><th>filename</th><th>PREDICTOR_1</th><th>PREDICTOR_2</th><th>PREDICTOR_3</th><th>Context_Name</th><th>IH_Web_Inbound_Accepted_pxLastGroupID</th><th>Decision_Outcome</th></tr><tr><td>str</td><td>str</td><td>f64</td><td>str</td><td>str</td><td>str</td><td>str</td></tr></thead><tbody><tr><td>&quot;../../../../da…</td><td>&quot;57519756201559…</td><td>0.983033</td><td>&quot;69711617015562…</td><td>&quot;FirstMortgage3…</td><td>&quot;13962235838568…</td><td>&quot;Rejected&quot;</td></tr><tr><td>&quot;../../../../da…</td><td>&quot;31859296589808…</td><td>0.144221</td><td>&quot;15548132004687…</td><td>&quot;FirstMortgage3…</td><td>&quot;29862476782353…</td><td>&quot;Accepted&quot;</td></tr><tr><td>&quot;../../../../da…</td><td>&quot;15095784979404…</td><td>0.679745</td><td>&quot;13434331885454…</td><td>&quot;MoneyMarketSav…</td><td>&quot;13962235838568…</td><td>&quot;Rejected&quot;</td></tr><tr><td>&quot;../../../../da…</td><td>&quot;61006127432065…</td><td>1.0</td><td>&quot;15548132004687…</td><td>&quot;BasicChecking&quot;</td><td>&quot;13962235838568…</td><td>&quot;Rejected&quot;</td></tr><tr><td>&quot;../../../../da…</td><td>&quot;13360973173448…</td><td>0.718982</td><td>&quot;69711617015562…</td><td>&quot;BasicChecking&quot;</td><td>&quot;12767155822890…</td><td>&quot;Accepted&quot;</td></tr><tr><td>&quot;../../../../da…</td><td>&quot;16008456843210…</td><td>0.0</td><td>&quot;13434331885454…</td><td>&quot;UPlusFinPerson…</td><td>null</td><td>&quot;Rejected&quot;</td></tr><tr><td>&quot;../../../../da…</td><td>&quot;14038953402839…</td><td>0.02333</td><td>&quot;13434331885454…</td><td>&quot;BasicChecking&quot;</td><td>&quot;12767155822890…</td><td>&quot;Rejected&quot;</td></tr></tbody></table></div>"
      ],
      "text/plain": [
       "shape: (7, 7)\n",
       "┌──────────────┬─────────────┬─────────────┬─────────────┬─────────────┬─────────────┬─────────────┐\n",
       "│ filename     ┆ PREDICTOR_1 ┆ PREDICTOR_2 ┆ PREDICTOR_3 ┆ Context_Nam ┆ IH_Web_Inbo ┆ Decision_Ou │\n",
       "│ ---          ┆ ---         ┆ ---         ┆ ---         ┆ e           ┆ und_Accepte ┆ tcome       │\n",
       "│ str          ┆ str         ┆ f64         ┆ str         ┆ ---         ┆ d_pxLastGr… ┆ ---         │\n",
       "│              ┆             ┆             ┆             ┆ str         ┆ ---         ┆ str         │\n",
       "│              ┆             ┆             ┆             ┆             ┆ str         ┆             │\n",
       "╞══════════════╪═════════════╪═════════════╪═════════════╪═════════════╪═════════════╪═════════════╡\n",
       "│ ../../../../ ┆ 57519756201 ┆ 0.983033    ┆ 69711617015 ┆ FirstMortga ┆ 13962235838 ┆ Rejected    │\n",
       "│ data/SampleH ┆ 5597770     ┆             ┆ 56219159    ┆ ge30yr      ┆ 568440576   ┆             │\n",
       "│ DS.json      ┆             ┆             ┆             ┆             ┆             ┆             │\n",
       "│ ../../../../ ┆ 31859296589 ┆ 0.144221    ┆ 15548132004 ┆ FirstMortga ┆ 29862476782 ┆ Accepted    │\n",
       "│ data/SampleH ┆ 80829899    ┆             ┆ 687629880   ┆ ge30yr      ┆ 3537553     ┆             │\n",
       "│ DS.json      ┆             ┆             ┆             ┆             ┆             ┆             │\n",
       "│ ../../../../ ┆ 15095784979 ┆ 0.679745    ┆ 13434331885 ┆ MoneyMarket ┆ 13962235838 ┆ Rejected    │\n",
       "│ data/SampleH ┆ 4040030     ┆             ┆ 454480017   ┆ SavingsAcco ┆ 568440576   ┆             │\n",
       "│ DS.json      ┆             ┆             ┆             ┆ unt         ┆             ┆             │\n",
       "│ ../../../../ ┆ 61006127432 ┆ 1.0         ┆ 15548132004 ┆ BasicChecki ┆ 13962235838 ┆ Rejected    │\n",
       "│ data/SampleH ┆ 06555752    ┆             ┆ 687629880   ┆ ng          ┆ 568440576   ┆             │\n",
       "│ DS.json      ┆             ┆             ┆             ┆             ┆             ┆             │\n",
       "│ ../../../../ ┆ 13360973173 ┆ 0.718982    ┆ 69711617015 ┆ BasicChecki ┆ 12767155822 ┆ Accepted    │\n",
       "│ data/SampleH ┆ 448235750   ┆             ┆ 56219159    ┆ ng          ┆ 890969966   ┆             │\n",
       "│ DS.json      ┆             ┆             ┆             ┆             ┆             ┆             │\n",
       "│ ../../../../ ┆ 16008456843 ┆ 0.0         ┆ 13434331885 ┆ UPlusFinPer ┆ null        ┆ Rejected    │\n",
       "│ data/SampleH ┆ 210254155   ┆             ┆ 454480017   ┆ sonal       ┆             ┆             │\n",
       "│ DS.json      ┆             ┆             ┆             ┆             ┆             ┆             │\n",
       "│ ../../../../ ┆ 14038953402 ┆ 0.02333     ┆ 13434331885 ┆ BasicChecki ┆ 12767155822 ┆ Rejected    │\n",
       "│ data/SampleH ┆ 839832821   ┆             ┆ 454480017   ┆ ng          ┆ 890969966   ┆             │\n",
       "│ DS.json      ┆             ┆             ┆             ┆             ┆             ┆             │\n",
       "└──────────────┴─────────────┴─────────────┴─────────────┴─────────────┴─────────────┴─────────────┘"
      ]
     },
     "execution_count": 8,
     "metadata": {},
     "output_type": "execute_result"
    }
   ],
   "source": [
    "anon = DataAnonymization(\n",
    "    hds_folder=\"../../../../data/\",\n",
    "    mask_ih_names=False,\n",
    "    mask_outcome_values=False,\n",
    "    mask_context_key_values=False,\n",
    "    mask_context_key_names=False,\n",
    ")\n",
    "anon.process()\n"
   ]
  },
  {
   "attachments": {},
   "cell_type": "markdown",
   "metadata": {},
   "source": [
    "The configs can also be written and read as such:"
   ]
  },
  {
   "cell_type": "code",
   "execution_count": 9,
   "metadata": {
    "execution": {
     "iopub.execute_input": "2024-03-06T10:45:35.936265Z",
     "iopub.status.busy": "2024-03-06T10:45:35.936096Z",
     "iopub.status.idle": "2024-03-06T10:45:35.938947Z",
     "shell.execute_reply": "2024-03-06T10:45:35.938432Z"
    }
   },
   "outputs": [],
   "source": [
    "anon.config.save_to_config_file('config.json')"
   ]
  },
  {
   "cell_type": "code",
   "execution_count": 10,
   "metadata": {
    "execution": {
     "iopub.execute_input": "2024-03-06T10:45:35.940953Z",
     "iopub.status.busy": "2024-03-06T10:45:35.940671Z",
     "iopub.status.idle": "2024-03-06T10:45:35.947972Z",
     "shell.execute_reply": "2024-03-06T10:45:35.947550Z"
    }
   },
   "outputs": [
    {
     "data": {
      "text/html": [
       "<div><style>\n",
       ".dataframe > thead > tr,\n",
       ".dataframe > tbody > tr {\n",
       "  text-align: right;\n",
       "  white-space: pre-wrap;\n",
       "}\n",
       "</style>\n",
       "<small>shape: (7, 7)</small><table border=\"1\" class=\"dataframe\"><thead><tr><th>filename</th><th>PREDICTOR_1</th><th>PREDICTOR_2</th><th>PREDICTOR_3</th><th>Context_Name</th><th>IH_Web_Inbound_Accepted_pxLastGroupID</th><th>Decision_Outcome</th></tr><tr><td>str</td><td>str</td><td>f64</td><td>str</td><td>str</td><td>str</td><td>str</td></tr></thead><tbody><tr><td>&quot;../../../../da…</td><td>&quot;60226079550340…</td><td>0.983033</td><td>&quot;17806506984616…</td><td>&quot;FirstMortgage3…</td><td>&quot;15942892474020…</td><td>&quot;Rejected&quot;</td></tr><tr><td>&quot;../../../../da…</td><td>&quot;32983244890963…</td><td>0.144221</td><td>&quot;88158534262136…</td><td>&quot;FirstMortgage3…</td><td>&quot;17273842993958…</td><td>&quot;Accepted&quot;</td></tr><tr><td>&quot;../../../../da…</td><td>&quot;42674723931660…</td><td>0.679745</td><td>&quot;17327331774184…</td><td>&quot;MoneyMarketSav…</td><td>&quot;15942892474020…</td><td>&quot;Rejected&quot;</td></tr><tr><td>&quot;../../../../da…</td><td>&quot;92948969117739…</td><td>1.0</td><td>&quot;88158534262136…</td><td>&quot;BasicChecking&quot;</td><td>&quot;15942892474020…</td><td>&quot;Rejected&quot;</td></tr><tr><td>&quot;../../../../da…</td><td>&quot;15892976791960…</td><td>0.718982</td><td>&quot;17806506984616…</td><td>&quot;BasicChecking&quot;</td><td>&quot;37857970005736…</td><td>&quot;Accepted&quot;</td></tr><tr><td>&quot;../../../../da…</td><td>&quot;48562473446711…</td><td>0.0</td><td>&quot;17327331774184…</td><td>&quot;UPlusFinPerson…</td><td>null</td><td>&quot;Rejected&quot;</td></tr><tr><td>&quot;../../../../da…</td><td>&quot;31907197921853…</td><td>0.02333</td><td>&quot;17327331774184…</td><td>&quot;BasicChecking&quot;</td><td>&quot;37857970005736…</td><td>&quot;Rejected&quot;</td></tr></tbody></table></div>"
      ],
      "text/plain": [
       "shape: (7, 7)\n",
       "┌──────────────┬─────────────┬─────────────┬─────────────┬─────────────┬─────────────┬─────────────┐\n",
       "│ filename     ┆ PREDICTOR_1 ┆ PREDICTOR_2 ┆ PREDICTOR_3 ┆ Context_Nam ┆ IH_Web_Inbo ┆ Decision_Ou │\n",
       "│ ---          ┆ ---         ┆ ---         ┆ ---         ┆ e           ┆ und_Accepte ┆ tcome       │\n",
       "│ str          ┆ str         ┆ f64         ┆ str         ┆ ---         ┆ d_pxLastGr… ┆ ---         │\n",
       "│              ┆             ┆             ┆             ┆ str         ┆ ---         ┆ str         │\n",
       "│              ┆             ┆             ┆             ┆             ┆ str         ┆             │\n",
       "╞══════════════╪═════════════╪═════════════╪═════════════╪═════════════╪═════════════╪═════════════╡\n",
       "│ ../../../../ ┆ 60226079550 ┆ 0.983033    ┆ 17806506984 ┆ FirstMortga ┆ 15942892474 ┆ Rejected    │\n",
       "│ data/SampleH ┆ 34031837    ┆             ┆ 616788328   ┆ ge30yr      ┆ 02022717    ┆             │\n",
       "│ DS.json      ┆             ┆             ┆             ┆             ┆             ┆             │\n",
       "│ ../../../../ ┆ 32983244890 ┆ 0.144221    ┆ 88158534262 ┆ FirstMortga ┆ 17273842993 ┆ Accepted    │\n",
       "│ data/SampleH ┆ 96350377    ┆             ┆ 13617697    ┆ ge30yr      ┆ 958165242   ┆             │\n",
       "│ DS.json      ┆             ┆             ┆             ┆             ┆             ┆             │\n",
       "│ ../../../../ ┆ 42674723931 ┆ 0.679745    ┆ 17327331774 ┆ MoneyMarket ┆ 15942892474 ┆ Rejected    │\n",
       "│ data/SampleH ┆ 66072322    ┆             ┆ 184867419   ┆ SavingsAcco ┆ 02022717    ┆             │\n",
       "│ DS.json      ┆             ┆             ┆             ┆ unt         ┆             ┆             │\n",
       "│ ../../../../ ┆ 92948969117 ┆ 1.0         ┆ 88158534262 ┆ BasicChecki ┆ 15942892474 ┆ Rejected    │\n",
       "│ data/SampleH ┆ 73977404    ┆             ┆ 13617697    ┆ ng          ┆ 02022717    ┆             │\n",
       "│ DS.json      ┆             ┆             ┆             ┆             ┆             ┆             │\n",
       "│ ../../../../ ┆ 15892976791 ┆ 0.718982    ┆ 17806506984 ┆ BasicChecki ┆ 37857970005 ┆ Accepted    │\n",
       "│ data/SampleH ┆ 960671473   ┆             ┆ 616788328   ┆ ng          ┆ 73643621    ┆             │\n",
       "│ DS.json      ┆             ┆             ┆             ┆             ┆             ┆             │\n",
       "│ ../../../../ ┆ 48562473446 ┆ 0.0         ┆ 17327331774 ┆ UPlusFinPer ┆ null        ┆ Rejected    │\n",
       "│ data/SampleH ┆ 7112037     ┆             ┆ 184867419   ┆ sonal       ┆             ┆             │\n",
       "│ DS.json      ┆             ┆             ┆             ┆             ┆             ┆             │\n",
       "│ ../../../../ ┆ 31907197921 ┆ 0.02333     ┆ 17327331774 ┆ BasicChecki ┆ 37857970005 ┆ Rejected    │\n",
       "│ data/SampleH ┆ 8534179     ┆             ┆ 184867419   ┆ ng          ┆ 73643621    ┆             │\n",
       "│ DS.json      ┆             ┆             ┆             ┆             ┆             ┆             │\n",
       "└──────────────┴─────────────┴─────────────┴─────────────┴─────────────┴─────────────┴─────────────┘"
      ]
     },
     "execution_count": 10,
     "metadata": {},
     "output_type": "execute_result"
    }
   ],
   "source": [
    "anon = DataAnonymization(config=Config(config_file='config.json'))\n",
    "anon.process()"
   ]
  },
  {
   "attachments": {},
   "cell_type": "markdown",
   "metadata": {},
   "source": [
    "## Exporting\n",
    "Two functions export:\n",
    "- `create_mapping_file()` writes the mapping file of the predictor names\n",
    "- `write_to_output()` writes the processed dataframe to disk\n",
    "\n",
    "Write to output accepts the following extensions: `[\"ndjson\", \"parquet\", \"arrow\", \"csv\"]`"
   ]
  },
  {
   "cell_type": "code",
   "execution_count": 11,
   "metadata": {
    "execution": {
     "iopub.execute_input": "2024-03-06T10:45:35.949882Z",
     "iopub.status.busy": "2024-03-06T10:45:35.949717Z",
     "iopub.status.idle": "2024-03-06T10:45:35.953193Z",
     "shell.execute_reply": "2024-03-06T10:45:35.952735Z"
    }
   },
   "outputs": [
    {
     "name": "stdout",
     "output_type": "stream",
     "text": [
      "filename=filename\n",
      "Customer_City=PREDICTOR_1\n",
      "Customer_CLV=PREDICTOR_2\n",
      "Customer_MaritalStatus=PREDICTOR_3\n",
      "Context_Name=Context_Name\n",
      "IH_Web_Inbound_Accepted_pxLastGroupID=IH_Web_Inbound_Accepted_pxLastGroupID\n",
      "Decision_Outcome=Decision_Outcome\n",
      "\n"
     ]
    }
   ],
   "source": [
    "anon.create_mapping_file()\n",
    "with open('mapping.map') as f:\n",
    "    print(f.read())"
   ]
  },
  {
   "cell_type": "code",
   "execution_count": 12,
   "metadata": {
    "execution": {
     "iopub.execute_input": "2024-03-06T10:45:35.955030Z",
     "iopub.status.busy": "2024-03-06T10:45:35.954862Z",
     "iopub.status.idle": "2024-03-06T10:45:35.958141Z",
     "shell.execute_reply": "2024-03-06T10:45:35.957709Z"
    }
   },
   "outputs": [],
   "source": [
    "anon.write_to_output(ext='arrow')"
   ]
  },
  {
   "cell_type": "code",
   "execution_count": 13,
   "metadata": {
    "execution": {
     "iopub.execute_input": "2024-03-06T10:45:35.960098Z",
     "iopub.status.busy": "2024-03-06T10:45:35.959708Z",
     "iopub.status.idle": "2024-03-06T10:45:35.964093Z",
     "shell.execute_reply": "2024-03-06T10:45:35.963574Z"
    }
   },
   "outputs": [
    {
     "data": {
      "text/html": [
       "<div><style>\n",
       ".dataframe > thead > tr,\n",
       ".dataframe > tbody > tr {\n",
       "  text-align: right;\n",
       "  white-space: pre-wrap;\n",
       "}\n",
       "</style>\n",
       "<small>shape: (7, 6)</small><table border=\"1\" class=\"dataframe\"><thead><tr><th>PREDICTOR_1</th><th>PREDICTOR_2</th><th>PREDICTOR_3</th><th>Context_Name</th><th>IH_Web_Inbound_Accepted_pxLastGroupID</th><th>Decision_Outcome</th></tr><tr><td>str</td><td>f64</td><td>str</td><td>str</td><td>str</td><td>str</td></tr></thead><tbody><tr><td>&quot;94520044034088…</td><td>0.983033</td><td>&quot;14568678670821…</td><td>&quot;FirstMortgage3…</td><td>&quot;15332385152909…</td><td>&quot;Rejected&quot;</td></tr><tr><td>&quot;17657541265028…</td><td>0.144221</td><td>&quot;15209912510629…</td><td>&quot;FirstMortgage3…</td><td>&quot;11038777584306…</td><td>&quot;Accepted&quot;</td></tr><tr><td>&quot;19060241620686…</td><td>0.679745</td><td>&quot;81921098528204…</td><td>&quot;MoneyMarketSav…</td><td>&quot;15332385152909…</td><td>&quot;Rejected&quot;</td></tr><tr><td>&quot;13649717206559…</td><td>1.0</td><td>&quot;15209912510629…</td><td>&quot;BasicChecking&quot;</td><td>&quot;15332385152909…</td><td>&quot;Rejected&quot;</td></tr><tr><td>&quot;56133732841987…</td><td>0.718982</td><td>&quot;14568678670821…</td><td>&quot;BasicChecking&quot;</td><td>&quot;11628014325818…</td><td>&quot;Accepted&quot;</td></tr><tr><td>&quot;58464924240807…</td><td>0.0</td><td>&quot;81921098528204…</td><td>&quot;UPlusFinPerson…</td><td>null</td><td>&quot;Rejected&quot;</td></tr><tr><td>&quot;12697572995518…</td><td>0.02333</td><td>&quot;81921098528204…</td><td>&quot;BasicChecking&quot;</td><td>&quot;11628014325818…</td><td>&quot;Rejected&quot;</td></tr></tbody></table></div>"
      ],
      "text/plain": [
       "shape: (7, 6)\n",
       "┌────────────────┬─────────────┬────────────────┬────────────────┬────────────────┬────────────────┐\n",
       "│ PREDICTOR_1    ┆ PREDICTOR_2 ┆ PREDICTOR_3    ┆ Context_Name   ┆ IH_Web_Inbound ┆ Decision_Outco │\n",
       "│ ---            ┆ ---         ┆ ---            ┆ ---            ┆ _Accepted_pxLa ┆ me             │\n",
       "│ str            ┆ f64         ┆ str            ┆ str            ┆ stGr…          ┆ ---            │\n",
       "│                ┆             ┆                ┆                ┆ ---            ┆ str            │\n",
       "│                ┆             ┆                ┆                ┆ str            ┆                │\n",
       "╞════════════════╪═════════════╪════════════════╪════════════════╪════════════════╪════════════════╡\n",
       "│ 94520044034088 ┆ 0.983033    ┆ 14568678670821 ┆ FirstMortgage3 ┆ 15332385152909 ┆ Rejected       │\n",
       "│ 32036          ┆             ┆ 46332          ┆ 0yr            ┆ 678164         ┆                │\n",
       "│ 17657541265028 ┆ 0.144221    ┆ 15209912510629 ┆ FirstMortgage3 ┆ 11038777584306 ┆ Accepted       │\n",
       "│ 45148          ┆             ┆ 59845          ┆ 0yr            ┆ 118453         ┆                │\n",
       "│ 19060241620686 ┆ 0.679745    ┆ 81921098528204 ┆ MoneyMarketSav ┆ 15332385152909 ┆ Rejected       │\n",
       "│ 75277          ┆             ┆ 2774           ┆ ingsAccount    ┆ 678164         ┆                │\n",
       "│ 13649717206559 ┆ 1.0         ┆ 15209912510629 ┆ BasicChecking  ┆ 15332385152909 ┆ Rejected       │\n",
       "│ 088962         ┆             ┆ 59845          ┆                ┆ 678164         ┆                │\n",
       "│ 56133732841987 ┆ 0.718982    ┆ 14568678670821 ┆ BasicChecking  ┆ 11628014325818 ┆ Accepted       │\n",
       "│ 06534          ┆             ┆ 46332          ┆                ┆ 243613         ┆                │\n",
       "│ 58464924240807 ┆ 0.0         ┆ 81921098528204 ┆ UPlusFinPerson ┆ null           ┆ Rejected       │\n",
       "│ 98186          ┆             ┆ 2774           ┆ al             ┆                ┆                │\n",
       "│ 12697572995518 ┆ 0.02333     ┆ 81921098528204 ┆ BasicChecking  ┆ 11628014325818 ┆ Rejected       │\n",
       "│ 885909         ┆             ┆ 2774           ┆                ┆ 243613         ┆                │\n",
       "└────────────────┴─────────────┴────────────────┴────────────────┴────────────────┴────────────────┘"
      ]
     },
     "execution_count": 13,
     "metadata": {},
     "output_type": "execute_result"
    }
   ],
   "source": [
    "pl.read_ipc('output/hds.arrow')"
   ]
  },
  {
   "attachments": {},
   "cell_type": "markdown",
   "metadata": {
    "nbsphinx": "hidden"
   },
   "source": [
    "## Advanced: Hash fuctions\n",
    "\n",
    "By default, we use [the same hashing algorithm Polars](https://pola-rs.github.io/polars/py-polars/html/reference/expressions/api/polars.Expr.hash.html#polars.Expr.hash) uses: [xxhash](https://github.com/Cyan4973/xxHash), as implemented [here](https://github.com/pola-rs/polars/blob/3f287f370b3c388ed2f3f218b2c096382548136f/polars/polars-core/src/vector_hasher.rs#L266). xxhash is fast to compute, and you can check its performance in collision, dispersion and randomness [here](https://github.com/Cyan4973/xxHash/tree/dev/tests). \n",
    "\n",
    "xxhash accepts four distinct seeds, but by default we set the seeds to `0`. It is possible to set the `seed` argument of the `process()` function to `'random'`, which will set all four seeds to a random integer between `0` and `1000000000`. Alternatively, it is possible to supply the four seeds manually with arguments `seed`, `seed_1`, `seed_2` and `seed_3`. \n",
    "\n",
    "If the xxhash with (random) seed(s) is not deemed sufficiently secure, it is possible to use your own hashing algorithm.\n",
    "\n",
    "Note that since we're now running python code and not native Polars code anymore, this will be _significantly_ slower. Nonetheless, it is possible.\n",
    "\n",
    "Just as an example - this is how one would use sha3_256:"
   ]
  },
  {
   "cell_type": "code",
   "execution_count": 14,
   "metadata": {
    "execution": {
     "iopub.execute_input": "2024-03-06T10:45:35.966091Z",
     "iopub.status.busy": "2024-03-06T10:45:35.965769Z",
     "iopub.status.idle": "2024-03-06T10:45:35.973066Z",
     "shell.execute_reply": "2024-03-06T10:45:35.972635Z"
    },
    "nbsphinx": "hidden"
   },
   "outputs": [
    {
     "data": {
      "text/html": [
       "<div><style>\n",
       ".dataframe > thead > tr,\n",
       ".dataframe > tbody > tr {\n",
       "  text-align: right;\n",
       "  white-space: pre-wrap;\n",
       "}\n",
       "</style>\n",
       "<small>shape: (7, 7)</small><table border=\"1\" class=\"dataframe\"><thead><tr><th>filename</th><th>PREDICTOR_1</th><th>PREDICTOR_2</th><th>PREDICTOR_3</th><th>Context_Name</th><th>IH_Web_Inbound_Accepted_pxLastGroupID</th><th>Decision_Outcome</th></tr><tr><td>str</td><td>str</td><td>f64</td><td>str</td><td>str</td><td>str</td><td>str</td></tr></thead><tbody><tr><td>&quot;../../../../da…</td><td>&quot;c73023dda51de1…</td><td>0.983033</td><td>&quot;af486bc1815c72…</td><td>&quot;FirstMortgage3…</td><td>&quot;2513d0e24d8d02…</td><td>&quot;Rejected&quot;</td></tr><tr><td>&quot;../../../../da…</td><td>&quot;5414b197fb87b3…</td><td>0.144221</td><td>&quot;3cdf7b1ae1342e…</td><td>&quot;FirstMortgage3…</td><td>&quot;8b55bf62fc2ecd…</td><td>&quot;Accepted&quot;</td></tr><tr><td>&quot;../../../../da…</td><td>&quot;892f5d61a9215e…</td><td>0.679745</td><td>&quot;806ef34eb8237f…</td><td>&quot;MoneyMarketSav…</td><td>&quot;2513d0e24d8d02…</td><td>&quot;Rejected&quot;</td></tr><tr><td>&quot;../../../../da…</td><td>&quot;c3aa807d9e927a…</td><td>1.0</td><td>&quot;3cdf7b1ae1342e…</td><td>&quot;BasicChecking&quot;</td><td>&quot;2513d0e24d8d02…</td><td>&quot;Rejected&quot;</td></tr><tr><td>&quot;../../../../da…</td><td>&quot;c2d492f9a05073…</td><td>0.718982</td><td>&quot;af486bc1815c72…</td><td>&quot;BasicChecking&quot;</td><td>&quot;1cd082ecbd5dd9…</td><td>&quot;Accepted&quot;</td></tr><tr><td>&quot;../../../../da…</td><td>&quot;b21059221605c4…</td><td>0.0</td><td>&quot;806ef34eb8237f…</td><td>&quot;UPlusFinPerson…</td><td>null</td><td>&quot;Rejected&quot;</td></tr><tr><td>&quot;../../../../da…</td><td>&quot;80cbe489dcecd4…</td><td>0.02333</td><td>&quot;806ef34eb8237f…</td><td>&quot;BasicChecking&quot;</td><td>&quot;1cd082ecbd5dd9…</td><td>&quot;Rejected&quot;</td></tr></tbody></table></div>"
      ],
      "text/plain": [
       "shape: (7, 7)\n",
       "┌──────────────┬─────────────┬─────────────┬─────────────┬─────────────┬─────────────┬─────────────┐\n",
       "│ filename     ┆ PREDICTOR_1 ┆ PREDICTOR_2 ┆ PREDICTOR_3 ┆ Context_Nam ┆ IH_Web_Inbo ┆ Decision_Ou │\n",
       "│ ---          ┆ ---         ┆ ---         ┆ ---         ┆ e           ┆ und_Accepte ┆ tcome       │\n",
       "│ str          ┆ str         ┆ f64         ┆ str         ┆ ---         ┆ d_pxLastGr… ┆ ---         │\n",
       "│              ┆             ┆             ┆             ┆ str         ┆ ---         ┆ str         │\n",
       "│              ┆             ┆             ┆             ┆             ┆ str         ┆             │\n",
       "╞══════════════╪═════════════╪═════════════╪═════════════╪═════════════╪═════════════╪═════════════╡\n",
       "│ ../../../../ ┆ c73023dda51 ┆ 0.983033    ┆ af486bc1815 ┆ FirstMortga ┆ 2513d0e24d8 ┆ Rejected    │\n",
       "│ data/SampleH ┆ de1b84f7af7 ┆             ┆ c726c357890 ┆ ge30yr      ┆ d0214eda4fb ┆             │\n",
       "│ DS.json      ┆ 74fd6f8c73… ┆             ┆ ac2a40ba98… ┆             ┆ 454447162b… ┆             │\n",
       "│ ../../../../ ┆ 5414b197fb8 ┆ 0.144221    ┆ 3cdf7b1ae13 ┆ FirstMortga ┆ 8b55bf62fc2 ┆ Accepted    │\n",
       "│ data/SampleH ┆ 7b3f2e350d7 ┆             ┆ 42ef979ea2a ┆ ge30yr      ┆ ecd16af97d4 ┆             │\n",
       "│ DS.json      ┆ a74a840a81… ┆             ┆ 782541ad05… ┆             ┆ 8e469362cf… ┆             │\n",
       "│ ../../../../ ┆ 892f5d61a92 ┆ 0.679745    ┆ 806ef34eb82 ┆ MoneyMarket ┆ 2513d0e24d8 ┆ Rejected    │\n",
       "│ data/SampleH ┆ 15ef985f3fa ┆             ┆ 37f4db85004 ┆ SavingsAcco ┆ d0214eda4fb ┆             │\n",
       "│ DS.json      ┆ 293d51c92e… ┆             ┆ e96dc471d8… ┆ unt         ┆ 454447162b… ┆             │\n",
       "│ ../../../../ ┆ c3aa807d9e9 ┆ 1.0         ┆ 3cdf7b1ae13 ┆ BasicChecki ┆ 2513d0e24d8 ┆ Rejected    │\n",
       "│ data/SampleH ┆ 27ae426a89e ┆             ┆ 42ef979ea2a ┆ ng          ┆ d0214eda4fb ┆             │\n",
       "│ DS.json      ┆ 76a12b9160… ┆             ┆ 782541ad05… ┆             ┆ 454447162b… ┆             │\n",
       "│ ../../../../ ┆ c2d492f9a05 ┆ 0.718982    ┆ af486bc1815 ┆ BasicChecki ┆ 1cd082ecbd5 ┆ Accepted    │\n",
       "│ data/SampleH ┆ 07327c14285 ┆             ┆ c726c357890 ┆ ng          ┆ dd95383b104 ┆             │\n",
       "│ DS.json      ┆ e94e8ee54c… ┆             ┆ ac2a40ba98… ┆             ┆ 65e395c1f7… ┆             │\n",
       "│ ../../../../ ┆ b2105922160 ┆ 0.0         ┆ 806ef34eb82 ┆ UPlusFinPer ┆ null        ┆ Rejected    │\n",
       "│ data/SampleH ┆ 5c49757cfe0 ┆             ┆ 37f4db85004 ┆ sonal       ┆             ┆             │\n",
       "│ DS.json      ┆ fee45640db… ┆             ┆ e96dc471d8… ┆             ┆             ┆             │\n",
       "│ ../../../../ ┆ 80cbe489dce ┆ 0.02333     ┆ 806ef34eb82 ┆ BasicChecki ┆ 1cd082ecbd5 ┆ Rejected    │\n",
       "│ data/SampleH ┆ cd4b9304898 ┆             ┆ 37f4db85004 ┆ ng          ┆ dd95383b104 ┆             │\n",
       "│ DS.json      ┆ c9986afeeb… ┆             ┆ e96dc471d8… ┆             ┆ 65e395c1f7… ┆             │\n",
       "└──────────────┴─────────────┴─────────────┴─────────────┴─────────────┴─────────────┴─────────────┘"
      ]
     },
     "execution_count": 14,
     "metadata": {},
     "output_type": "execute_result"
    }
   ],
   "source": [
    "from hashlib import sha3_256\n",
    "\n",
    "anon.process(algorithm=lambda x: sha3_256(x.encode()).hexdigest())"
   ]
  }
 ],
 "metadata": {
  "kernelspec": {
   "display_name": "Python 3",
   "language": "python",
   "name": "python3"
  },
  "language_info": {
   "codemirror_mode": {
    "name": "ipython",
    "version": 3
   },
   "file_extension": ".py",
   "mimetype": "text/x-python",
   "name": "python",
   "nbconvert_exporter": "python",
   "pygments_lexer": "ipython3",
   "version": "3.11.8"
  },
  "vscode": {
   "interpreter": {
    "hash": "aee8b7b246df8f9039afb4144a1f6fd8d2ca17a180786b69acc140d282b71a49"
   }
  }
 },
 "nbformat": 4,
 "nbformat_minor": 2
}
