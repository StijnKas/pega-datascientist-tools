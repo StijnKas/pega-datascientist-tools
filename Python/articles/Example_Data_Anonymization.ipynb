{
 "cells": [
  {
   "attachments": {},
   "cell_type": "markdown",
   "metadata": {},
   "source": [
    "# Data Anonymization\n",
    "\n",
    "In Pega CDH 8.5 and up, it's now possible to record the historical data as seen by the Adaptive Models. See [this academy challenge](https://academy.pega.com/challenge/exporting-historical-data/v4) for reference. This historical data can be further used to experiment with offline models, but also to fine-tune the OOTB Gradient Boosting model. However, sharing this information with Pega can be sensitive as it contains raw predictor data. \n",
    "\n",
    "To this end, we provide a simple and transparent script to fully anonimize this dataset.\n",
    "\n",
    "The DataAnonymization script is now part of pdstools, and you can import it directly as such."
   ]
  },
  {
   "cell_type": "code",
   "execution_count": 1,
   "metadata": {
    "execution": {
     "iopub.execute_input": "2024-06-30T11:37:33.028051Z",
     "iopub.status.busy": "2024-06-30T11:37:33.027882Z",
     "iopub.status.idle": "2024-06-30T11:37:33.101852Z",
     "shell.execute_reply": "2024-06-30T11:37:33.101256Z"
    },
    "nbsphinx": "hidden"
   },
   "outputs": [],
   "source": [
    "# These lines are only for rendering in the docs, and are hidden through Jupyter tags\n",
    "# Do not run if you're running the notebook seperately\n",
    "\n",
    "import os  \n",
    "import sys\n",
    "import plotly.io as pio\n",
    "pio.renderers.default = \"notebook_connected\"\n",
    "\n",
    "sys.path.append(\"../../../\")\n",
    "sys.path.append('../../python')"
   ]
  },
  {
   "cell_type": "code",
   "execution_count": 2,
   "metadata": {
    "execution": {
     "iopub.execute_input": "2024-06-30T11:37:33.104542Z",
     "iopub.status.busy": "2024-06-30T11:37:33.104120Z",
     "iopub.status.idle": "2024-06-30T11:37:34.210232Z",
     "shell.execute_reply": "2024-06-30T11:37:34.209715Z"
    }
   },
   "outputs": [],
   "source": [
    "from pdstools import ADMDatamart\n",
    "from pdstools import Config, DataAnonymization\n",
    "import polars as pl"
   ]
  },
  {
   "attachments": {},
   "cell_type": "markdown",
   "metadata": {},
   "source": [
    "## Input data\n",
    "\n",
    "To demonstrate this process, we're going to anonymise this toy example dataframe:"
   ]
  },
  {
   "cell_type": "code",
   "execution_count": 3,
   "metadata": {
    "execution": {
     "iopub.execute_input": "2024-06-30T11:37:34.212941Z",
     "iopub.status.busy": "2024-06-30T11:37:34.212510Z",
     "iopub.status.idle": "2024-06-30T11:37:34.220741Z",
     "shell.execute_reply": "2024-06-30T11:37:34.220185Z"
    }
   },
   "outputs": [
    {
     "data": {
      "text/html": [
       "<div><style>\n",
       ".dataframe > thead > tr,\n",
       ".dataframe > tbody > tr {\n",
       "  text-align: right;\n",
       "  white-space: pre-wrap;\n",
       "}\n",
       "</style>\n",
       "<small>shape: (7, 6)</small><table border=\"1\" class=\"dataframe\"><thead><tr><th>Context_Name</th><th>Customer_MaritalStatus</th><th>Customer_CLV</th><th>Customer_City</th><th>IH_Web_Inbound_Accepted_pxLastGroupID</th><th>Decision_Outcome</th></tr><tr><td>str</td><td>str</td><td>i64</td><td>str</td><td>str</td><td>str</td></tr></thead><tbody><tr><td>&quot;FirstMortgage30yr&quot;</td><td>&quot;Married&quot;</td><td>1460</td><td>&quot;Port Raoul&quot;</td><td>&quot;Account&quot;</td><td>&quot;Rejected&quot;</td></tr><tr><td>&quot;FirstMortgage30yr&quot;</td><td>&quot;Unknown&quot;</td><td>669</td><td>&quot;Laurianneshire&quot;</td><td>&quot;AutoLoans&quot;</td><td>&quot;Accepted&quot;</td></tr><tr><td>&quot;MoneyMarketSavingsAccount&quot;</td><td>&quot;No Resp+&quot;</td><td>1174</td><td>&quot;Jacobshaven&quot;</td><td>&quot;Account&quot;</td><td>&quot;Rejected&quot;</td></tr><tr><td>&quot;BasicChecking&quot;</td><td>&quot;Unknown&quot;</td><td>1476</td><td>&quot;Lindton&quot;</td><td>&quot;Account&quot;</td><td>&quot;Rejected&quot;</td></tr><tr><td>&quot;BasicChecking&quot;</td><td>&quot;Married&quot;</td><td>1211</td><td>&quot;South Jimmieshire&quot;</td><td>&quot;DepositAccounts&quot;</td><td>&quot;Accepted&quot;</td></tr><tr><td>&quot;UPlusFinPersonal&quot;</td><td>&quot;No Resp+&quot;</td><td>533</td><td>&quot;Bergeville&quot;</td><td>null</td><td>&quot;Rejected&quot;</td></tr><tr><td>&quot;BasicChecking&quot;</td><td>&quot;No Resp+&quot;</td><td>555</td><td>&quot;Willyville&quot;</td><td>&quot;DepositAccounts&quot;</td><td>&quot;Rejected&quot;</td></tr></tbody></table></div>"
      ],
      "text/plain": [
       "shape: (7, 6)\n",
       "┌────────────────┬────────────────┬──────────────┬────────────────┬────────────────┬───────────────┐\n",
       "│ Context_Name   ┆ Customer_Marit ┆ Customer_CLV ┆ Customer_City  ┆ IH_Web_Inbound ┆ Decision_Outc │\n",
       "│ ---            ┆ alStatus       ┆ ---          ┆ ---            ┆ _Accepted_pxLa ┆ ome           │\n",
       "│ str            ┆ ---            ┆ i64          ┆ str            ┆ st…            ┆ ---           │\n",
       "│                ┆ str            ┆              ┆                ┆ ---            ┆ str           │\n",
       "│                ┆                ┆              ┆                ┆ str            ┆               │\n",
       "╞════════════════╪════════════════╪══════════════╪════════════════╪════════════════╪═══════════════╡\n",
       "│ FirstMortgage3 ┆ Married        ┆ 1460         ┆ Port Raoul     ┆ Account        ┆ Rejected      │\n",
       "│ 0yr            ┆                ┆              ┆                ┆                ┆               │\n",
       "│ FirstMortgage3 ┆ Unknown        ┆ 669          ┆ Laurianneshire ┆ AutoLoans      ┆ Accepted      │\n",
       "│ 0yr            ┆                ┆              ┆                ┆                ┆               │\n",
       "│ MoneyMarketSav ┆ No Resp+       ┆ 1174         ┆ Jacobshaven    ┆ Account        ┆ Rejected      │\n",
       "│ ingsAccount    ┆                ┆              ┆                ┆                ┆               │\n",
       "│ BasicChecking  ┆ Unknown        ┆ 1476         ┆ Lindton        ┆ Account        ┆ Rejected      │\n",
       "│ BasicChecking  ┆ Married        ┆ 1211         ┆ South          ┆ DepositAccount ┆ Accepted      │\n",
       "│                ┆                ┆              ┆ Jimmieshire    ┆ s              ┆               │\n",
       "│ UPlusFinPerson ┆ No Resp+       ┆ 533          ┆ Bergeville     ┆ null           ┆ Rejected      │\n",
       "│ al             ┆                ┆              ┆                ┆                ┆               │\n",
       "│ BasicChecking  ┆ No Resp+       ┆ 555          ┆ Willyville     ┆ DepositAccount ┆ Rejected      │\n",
       "│                ┆                ┆              ┆                ┆ s              ┆               │\n",
       "└────────────────┴────────────────┴──────────────┴────────────────┴────────────────┴───────────────┘"
      ]
     },
     "execution_count": 3,
     "metadata": {},
     "output_type": "execute_result"
    }
   ],
   "source": [
    "pl.read_ndjson('../../../../data/SampleHDS.json')"
   ]
  },
  {
   "attachments": {},
   "cell_type": "markdown",
   "metadata": {},
   "source": [
    "As you can see, this dataset consists of regular predictors, IH predictors, context keys and the outcome column. Additionally, some columns are numeric, others are strings. Let's first initialize the DataAnonymization class."
   ]
  },
  {
   "cell_type": "code",
   "execution_count": 4,
   "metadata": {
    "execution": {
     "iopub.execute_input": "2024-06-30T11:37:34.222860Z",
     "iopub.status.busy": "2024-06-30T11:37:34.222515Z",
     "iopub.status.idle": "2024-06-30T11:37:34.232286Z",
     "shell.execute_reply": "2024-06-30T11:37:34.231866Z"
    }
   },
   "outputs": [],
   "source": [
    "anon = DataAnonymization(hds_folder='../../../../data/')"
   ]
  },
  {
   "attachments": {},
   "cell_type": "markdown",
   "metadata": {},
   "source": [
    "By default, the class applies a set of anonymisation techniques:\n",
    "- Column names are remapped to a non-descriptive name\n",
    "- Categorical values are hashed with a random seed\n",
    "- Numerical values are normalized between 0 and 1\n",
    "- Outcomes are mapped to a binary outcome.\n",
    "\n",
    "To apply these techniques, simply call `.process()`:"
   ]
  },
  {
   "cell_type": "code",
   "execution_count": 5,
   "metadata": {
    "execution": {
     "iopub.execute_input": "2024-06-30T11:37:34.234408Z",
     "iopub.status.busy": "2024-06-30T11:37:34.234087Z",
     "iopub.status.idle": "2024-06-30T11:37:34.239111Z",
     "shell.execute_reply": "2024-06-30T11:37:34.238663Z"
    }
   },
   "outputs": [
    {
     "data": {
      "text/html": [
       "<div><style>\n",
       ".dataframe > thead > tr,\n",
       ".dataframe > tbody > tr {\n",
       "  text-align: right;\n",
       "  white-space: pre-wrap;\n",
       "}\n",
       "</style>\n",
       "<small>shape: (7, 7)</small><table border=\"1\" class=\"dataframe\"><thead><tr><th>filename</th><th>PREDICTOR_1</th><th>PREDICTOR_2</th><th>PREDICTOR_3</th><th>Context_Name</th><th>IH_PREDICTOR_0</th><th>Decision_Outcome</th></tr><tr><td>str</td><td>str</td><td>f64</td><td>str</td><td>str</td><td>str</td><td>bool</td></tr></thead><tbody><tr><td>&quot;../../../../data/SampleHDS.jso…</td><td>&quot;9290696907273502702&quot;</td><td>2.8448e18</td><td>&quot;13273462532994275286&quot;</td><td>&quot;16138599964586145670&quot;</td><td>&quot;251058571276432204&quot;</td><td>false</td></tr><tr><td>&quot;../../../../data/SampleHDS.jso…</td><td>&quot;3501385184977768495&quot;</td><td>9.3440e18</td><td>&quot;10131755847073285334&quot;</td><td>&quot;16138599964586145670&quot;</td><td>&quot;5827918498744954324&quot;</td><td>true</td></tr><tr><td>&quot;../../../../data/SampleHDS.jso…</td><td>&quot;18397638399460712938&quot;</td><td>1.5701e19</td><td>&quot;2328768548294123391&quot;</td><td>&quot;4483231989430303041&quot;</td><td>&quot;251058571276432204&quot;</td><td>false</td></tr><tr><td>&quot;../../../../data/SampleHDS.jso…</td><td>&quot;3501385184977768495&quot;</td><td>3.9332e18</td><td>&quot;6801397021320985502&quot;</td><td>&quot;16566081692875180502&quot;</td><td>&quot;251058571276432204&quot;</td><td>false</td></tr><tr><td>&quot;../../../../data/SampleHDS.jso…</td><td>&quot;9290696907273502702&quot;</td><td>1.0603e18</td><td>&quot;2506018600311723107&quot;</td><td>&quot;16566081692875180502&quot;</td><td>&quot;3391530805412893797&quot;</td><td>true</td></tr><tr><td>&quot;../../../../data/SampleHDS.jso…</td><td>&quot;18397638399460712938&quot;</td><td>7.1366e17</td><td>&quot;2875382368114983342&quot;</td><td>&quot;11227272905135642445&quot;</td><td>null</td><td>false</td></tr><tr><td>&quot;../../../../data/SampleHDS.jso…</td><td>&quot;18397638399460712938&quot;</td><td>2.3074e18</td><td>&quot;3050298108943098080&quot;</td><td>&quot;16566081692875180502&quot;</td><td>&quot;3391530805412893797&quot;</td><td>false</td></tr></tbody></table></div>"
      ],
      "text/plain": [
       "shape: (7, 7)\n",
       "┌──────────────┬─────────────┬─────────────┬─────────────┬─────────────┬─────────────┬─────────────┐\n",
       "│ filename     ┆ PREDICTOR_1 ┆ PREDICTOR_2 ┆ PREDICTOR_3 ┆ Context_Nam ┆ IH_PREDICTO ┆ Decision_Ou │\n",
       "│ ---          ┆ ---         ┆ ---         ┆ ---         ┆ e           ┆ R_0         ┆ tcome       │\n",
       "│ str          ┆ str         ┆ f64         ┆ str         ┆ ---         ┆ ---         ┆ ---         │\n",
       "│              ┆             ┆             ┆             ┆ str         ┆ str         ┆ bool        │\n",
       "╞══════════════╪═════════════╪═════════════╪═════════════╪═════════════╪═════════════╪═════════════╡\n",
       "│ ../../../../ ┆ 92906969072 ┆ 2.8448e18   ┆ 13273462532 ┆ 16138599964 ┆ 25105857127 ┆ false       │\n",
       "│ data/SampleH ┆ 73502702    ┆             ┆ 994275286   ┆ 586145670   ┆ 6432204     ┆             │\n",
       "│ DS.jso…      ┆             ┆             ┆             ┆             ┆             ┆             │\n",
       "│ ../../../../ ┆ 35013851849 ┆ 9.3440e18   ┆ 10131755847 ┆ 16138599964 ┆ 58279184987 ┆ true        │\n",
       "│ data/SampleH ┆ 77768495    ┆             ┆ 073285334   ┆ 586145670   ┆ 44954324    ┆             │\n",
       "│ DS.jso…      ┆             ┆             ┆             ┆             ┆             ┆             │\n",
       "│ ../../../../ ┆ 18397638399 ┆ 1.5701e19   ┆ 23287685482 ┆ 44832319894 ┆ 25105857127 ┆ false       │\n",
       "│ data/SampleH ┆ 460712938   ┆             ┆ 94123391    ┆ 30303041    ┆ 6432204     ┆             │\n",
       "│ DS.jso…      ┆             ┆             ┆             ┆             ┆             ┆             │\n",
       "│ ../../../../ ┆ 35013851849 ┆ 3.9332e18   ┆ 68013970213 ┆ 16566081692 ┆ 25105857127 ┆ false       │\n",
       "│ data/SampleH ┆ 77768495    ┆             ┆ 20985502    ┆ 875180502   ┆ 6432204     ┆             │\n",
       "│ DS.jso…      ┆             ┆             ┆             ┆             ┆             ┆             │\n",
       "│ ../../../../ ┆ 92906969072 ┆ 1.0603e18   ┆ 25060186003 ┆ 16566081692 ┆ 33915308054 ┆ true        │\n",
       "│ data/SampleH ┆ 73502702    ┆             ┆ 11723107    ┆ 875180502   ┆ 12893797    ┆             │\n",
       "│ DS.jso…      ┆             ┆             ┆             ┆             ┆             ┆             │\n",
       "│ ../../../../ ┆ 18397638399 ┆ 7.1366e17   ┆ 28753823681 ┆ 11227272905 ┆ null        ┆ false       │\n",
       "│ data/SampleH ┆ 460712938   ┆             ┆ 14983342    ┆ 135642445   ┆             ┆             │\n",
       "│ DS.jso…      ┆             ┆             ┆             ┆             ┆             ┆             │\n",
       "│ ../../../../ ┆ 18397638399 ┆ 2.3074e18   ┆ 30502981089 ┆ 16566081692 ┆ 33915308054 ┆ false       │\n",
       "│ data/SampleH ┆ 460712938   ┆             ┆ 43098080    ┆ 875180502   ┆ 12893797    ┆             │\n",
       "│ DS.jso…      ┆             ┆             ┆             ┆             ┆             ┆             │\n",
       "└──────────────┴─────────────┴─────────────┴─────────────┴─────────────┴─────────────┴─────────────┘"
      ]
     },
     "execution_count": 5,
     "metadata": {},
     "output_type": "execute_result"
    }
   ],
   "source": [
    "anon.process()"
   ]
  },
  {
   "attachments": {},
   "cell_type": "markdown",
   "metadata": {},
   "source": [
    "To trace back the columns to their original names, the class also contains a mapping, which does not have to be provided."
   ]
  },
  {
   "cell_type": "code",
   "execution_count": 6,
   "metadata": {
    "execution": {
     "iopub.execute_input": "2024-06-30T11:37:34.241374Z",
     "iopub.status.busy": "2024-06-30T11:37:34.240964Z",
     "iopub.status.idle": "2024-06-30T11:37:34.244653Z",
     "shell.execute_reply": "2024-06-30T11:37:34.244112Z"
    }
   },
   "outputs": [
    {
     "data": {
      "text/plain": [
       "{'filename': 'filename',\n",
       " 'Customer_MaritalStatus': 'PREDICTOR_1',\n",
       " 'Customer_CLV': 'PREDICTOR_2',\n",
       " 'Customer_City': 'PREDICTOR_3',\n",
       " 'Context_Name': 'Context_Name',\n",
       " 'IH_Web_Inbound_Accepted_pxLastGroupID': 'IH_PREDICTOR_0',\n",
       " 'Decision_Outcome': 'Decision_Outcome'}"
      ]
     },
     "execution_count": 6,
     "metadata": {},
     "output_type": "execute_result"
    }
   ],
   "source": [
    "anon.column_mapping"
   ]
  },
  {
   "attachments": {},
   "cell_type": "markdown",
   "metadata": {},
   "source": [
    "## Configs\n",
    "\n",
    "Each capability can optionally be turned off - see below for the full list of config options, and refer to the API reference for the full description."
   ]
  },
  {
   "cell_type": "code",
   "execution_count": 7,
   "metadata": {
    "execution": {
     "iopub.execute_input": "2024-06-30T11:37:34.246557Z",
     "iopub.status.busy": "2024-06-30T11:37:34.246267Z",
     "iopub.status.idle": "2024-06-30T11:37:34.250452Z",
     "shell.execute_reply": "2024-06-30T11:37:34.250010Z"
    }
   },
   "outputs": [
    {
     "data": {
      "text/plain": [
       "{'config_file': None,\n",
       " 'hds_folder': '.',\n",
       " 'use_datamart': False,\n",
       " 'datamart_folder': 'datamart',\n",
       " 'output_format': 'ndjson',\n",
       " 'output_folder': 'output',\n",
       " 'mapping_file': 'mapping.map',\n",
       " 'mask_predictor_names': True,\n",
       " 'mask_context_key_names': False,\n",
       " 'mask_ih_names': True,\n",
       " 'mask_outcome_name': False,\n",
       " 'mask_predictor_values': True,\n",
       " 'mask_context_key_values': True,\n",
       " 'mask_ih_values': True,\n",
       " 'mask_outcome_values': True,\n",
       " 'context_key_label': 'Context_*',\n",
       " 'ih_label': 'IH_*',\n",
       " 'outcome_column': 'Decision_Outcome',\n",
       " 'positive_outcomes': ['Accepted', 'Clicked'],\n",
       " 'negative_outcomes': ['Rejected', 'Impression'],\n",
       " 'special_predictors': ['Decision_DecisionTime',\n",
       "  'Decision_OutcomeTime',\n",
       "  'Decision_Rank'],\n",
       " 'sample_percentage_schema_inferencing': 0.01}"
      ]
     },
     "execution_count": 7,
     "metadata": {},
     "output_type": "execute_result"
    }
   ],
   "source": [
    "dict(zip(Config.__init__.__code__.co_varnames[1:], Config.__init__.__defaults__))"
   ]
  },
  {
   "attachments": {},
   "cell_type": "markdown",
   "metadata": {},
   "source": [
    "It's easy to change these parameters by just passing the keyword arguments. In the following example, we\n",
    "- Keep the IH predictor names\n",
    "- Keep the outcome values\n",
    "- Keep the context key values\n",
    "- Keep the context key predictor names"
   ]
  },
  {
   "cell_type": "code",
   "execution_count": 8,
   "metadata": {
    "execution": {
     "iopub.execute_input": "2024-06-30T11:37:34.252234Z",
     "iopub.status.busy": "2024-06-30T11:37:34.252066Z",
     "iopub.status.idle": "2024-06-30T11:37:34.259469Z",
     "shell.execute_reply": "2024-06-30T11:37:34.258938Z"
    }
   },
   "outputs": [
    {
     "data": {
      "text/html": [
       "<div><style>\n",
       ".dataframe > thead > tr,\n",
       ".dataframe > tbody > tr {\n",
       "  text-align: right;\n",
       "  white-space: pre-wrap;\n",
       "}\n",
       "</style>\n",
       "<small>shape: (7, 7)</small><table border=\"1\" class=\"dataframe\"><thead><tr><th>filename</th><th>PREDICTOR_1</th><th>PREDICTOR_2</th><th>PREDICTOR_3</th><th>Context_Name</th><th>IH_Web_Inbound_Accepted_pxLastGroupID</th><th>Decision_Outcome</th></tr><tr><td>str</td><td>str</td><td>f64</td><td>str</td><td>str</td><td>str</td><td>str</td></tr></thead><tbody><tr><td>&quot;../../../../data/SampleHDS.jso…</td><td>&quot;2192344891735682244&quot;</td><td>4.1019e18</td><td>&quot;10372041764087666234&quot;</td><td>&quot;FirstMortgage30yr&quot;</td><td>&quot;13979833645192498843&quot;</td><td>&quot;Rejected&quot;</td></tr><tr><td>&quot;../../../../data/SampleHDS.jso…</td><td>&quot;2636970147018559192&quot;</td><td>1.4672e18</td><td>&quot;11627893521730451562&quot;</td><td>&quot;FirstMortgage30yr&quot;</td><td>&quot;13183962862427934764&quot;</td><td>&quot;Accepted&quot;</td></tr><tr><td>&quot;../../../../data/SampleHDS.jso…</td><td>&quot;6881016052143307260&quot;</td><td>9.2698e18</td><td>&quot;160305067431659914&quot;</td><td>&quot;MoneyMarketSavingsAccount&quot;</td><td>&quot;13979833645192498843&quot;</td><td>&quot;Rejected&quot;</td></tr><tr><td>&quot;../../../../data/SampleHDS.jso…</td><td>&quot;2636970147018559192&quot;</td><td>1.1843e19</td><td>&quot;17586717007926432265&quot;</td><td>&quot;BasicChecking&quot;</td><td>&quot;13979833645192498843&quot;</td><td>&quot;Rejected&quot;</td></tr><tr><td>&quot;../../../../data/SampleHDS.jso…</td><td>&quot;2192344891735682244&quot;</td><td>1.0469e19</td><td>&quot;3334632982831573700&quot;</td><td>&quot;BasicChecking&quot;</td><td>&quot;5239728048338093937&quot;</td><td>&quot;Accepted&quot;</td></tr><tr><td>&quot;../../../../data/SampleHDS.jso…</td><td>&quot;6881016052143307260&quot;</td><td>7.6051e18</td><td>&quot;10400199843330799781&quot;</td><td>&quot;UPlusFinPersonal&quot;</td><td>null</td><td>&quot;Rejected&quot;</td></tr><tr><td>&quot;../../../../data/SampleHDS.jso…</td><td>&quot;6881016052143307260&quot;</td><td>5.9874e18</td><td>&quot;18000579479267922111&quot;</td><td>&quot;BasicChecking&quot;</td><td>&quot;5239728048338093937&quot;</td><td>&quot;Rejected&quot;</td></tr></tbody></table></div>"
      ],
      "text/plain": [
       "shape: (7, 7)\n",
       "┌──────────────┬─────────────┬─────────────┬─────────────┬─────────────┬─────────────┬─────────────┐\n",
       "│ filename     ┆ PREDICTOR_1 ┆ PREDICTOR_2 ┆ PREDICTOR_3 ┆ Context_Nam ┆ IH_Web_Inbo ┆ Decision_Ou │\n",
       "│ ---          ┆ ---         ┆ ---         ┆ ---         ┆ e           ┆ und_Accepte ┆ tcome       │\n",
       "│ str          ┆ str         ┆ f64         ┆ str         ┆ ---         ┆ d_pxLast…   ┆ ---         │\n",
       "│              ┆             ┆             ┆             ┆ str         ┆ ---         ┆ str         │\n",
       "│              ┆             ┆             ┆             ┆             ┆ str         ┆             │\n",
       "╞══════════════╪═════════════╪═════════════╪═════════════╪═════════════╪═════════════╪═════════════╡\n",
       "│ ../../../../ ┆ 21923448917 ┆ 4.1019e18   ┆ 10372041764 ┆ FirstMortga ┆ 13979833645 ┆ Rejected    │\n",
       "│ data/SampleH ┆ 35682244    ┆             ┆ 087666234   ┆ ge30yr      ┆ 192498843   ┆             │\n",
       "│ DS.jso…      ┆             ┆             ┆             ┆             ┆             ┆             │\n",
       "│ ../../../../ ┆ 26369701470 ┆ 1.4672e18   ┆ 11627893521 ┆ FirstMortga ┆ 13183962862 ┆ Accepted    │\n",
       "│ data/SampleH ┆ 18559192    ┆             ┆ 730451562   ┆ ge30yr      ┆ 427934764   ┆             │\n",
       "│ DS.jso…      ┆             ┆             ┆             ┆             ┆             ┆             │\n",
       "│ ../../../../ ┆ 68810160521 ┆ 9.2698e18   ┆ 16030506743 ┆ MoneyMarket ┆ 13979833645 ┆ Rejected    │\n",
       "│ data/SampleH ┆ 43307260    ┆             ┆ 1659914     ┆ SavingsAcco ┆ 192498843   ┆             │\n",
       "│ DS.jso…      ┆             ┆             ┆             ┆ unt         ┆             ┆             │\n",
       "│ ../../../../ ┆ 26369701470 ┆ 1.1843e19   ┆ 17586717007 ┆ BasicChecki ┆ 13979833645 ┆ Rejected    │\n",
       "│ data/SampleH ┆ 18559192    ┆             ┆ 926432265   ┆ ng          ┆ 192498843   ┆             │\n",
       "│ DS.jso…      ┆             ┆             ┆             ┆             ┆             ┆             │\n",
       "│ ../../../../ ┆ 21923448917 ┆ 1.0469e19   ┆ 33346329828 ┆ BasicChecki ┆ 52397280483 ┆ Accepted    │\n",
       "│ data/SampleH ┆ 35682244    ┆             ┆ 31573700    ┆ ng          ┆ 38093937    ┆             │\n",
       "│ DS.jso…      ┆             ┆             ┆             ┆             ┆             ┆             │\n",
       "│ ../../../../ ┆ 68810160521 ┆ 7.6051e18   ┆ 10400199843 ┆ UPlusFinPer ┆ null        ┆ Rejected    │\n",
       "│ data/SampleH ┆ 43307260    ┆             ┆ 330799781   ┆ sonal       ┆             ┆             │\n",
       "│ DS.jso…      ┆             ┆             ┆             ┆             ┆             ┆             │\n",
       "│ ../../../../ ┆ 68810160521 ┆ 5.9874e18   ┆ 18000579479 ┆ BasicChecki ┆ 52397280483 ┆ Rejected    │\n",
       "│ data/SampleH ┆ 43307260    ┆             ┆ 267922111   ┆ ng          ┆ 38093937    ┆             │\n",
       "│ DS.jso…      ┆             ┆             ┆             ┆             ┆             ┆             │\n",
       "└──────────────┴─────────────┴─────────────┴─────────────┴─────────────┴─────────────┴─────────────┘"
      ]
     },
     "execution_count": 8,
     "metadata": {},
     "output_type": "execute_result"
    }
   ],
   "source": [
    "anon = DataAnonymization(\n",
    "    hds_folder=\"../../../../data/\",\n",
    "    mask_ih_names=False,\n",
    "    mask_outcome_values=False,\n",
    "    mask_context_key_values=False,\n",
    "    mask_context_key_names=False,\n",
    ")\n",
    "anon.process()\n"
   ]
  },
  {
   "attachments": {},
   "cell_type": "markdown",
   "metadata": {},
   "source": [
    "The configs can also be written and read as such:"
   ]
  },
  {
   "cell_type": "code",
   "execution_count": 9,
   "metadata": {
    "execution": {
     "iopub.execute_input": "2024-06-30T11:37:34.261391Z",
     "iopub.status.busy": "2024-06-30T11:37:34.261068Z",
     "iopub.status.idle": "2024-06-30T11:37:34.263896Z",
     "shell.execute_reply": "2024-06-30T11:37:34.263446Z"
    }
   },
   "outputs": [],
   "source": [
    "anon.config.save_to_config_file('config.json')"
   ]
  },
  {
   "cell_type": "code",
   "execution_count": 10,
   "metadata": {
    "execution": {
     "iopub.execute_input": "2024-06-30T11:37:34.265778Z",
     "iopub.status.busy": "2024-06-30T11:37:34.265479Z",
     "iopub.status.idle": "2024-06-30T11:37:34.272779Z",
     "shell.execute_reply": "2024-06-30T11:37:34.272322Z"
    }
   },
   "outputs": [
    {
     "data": {
      "text/html": [
       "<div><style>\n",
       ".dataframe > thead > tr,\n",
       ".dataframe > tbody > tr {\n",
       "  text-align: right;\n",
       "  white-space: pre-wrap;\n",
       "}\n",
       "</style>\n",
       "<small>shape: (7, 7)</small><table border=\"1\" class=\"dataframe\"><thead><tr><th>filename</th><th>PREDICTOR_1</th><th>PREDICTOR_2</th><th>PREDICTOR_3</th><th>Context_Name</th><th>IH_Web_Inbound_Accepted_pxLastGroupID</th><th>Decision_Outcome</th></tr><tr><td>str</td><td>str</td><td>f64</td><td>str</td><td>str</td><td>str</td><td>str</td></tr></thead><tbody><tr><td>&quot;../../../../data/SampleHDS.jso…</td><td>&quot;16563416606604171344&quot;</td><td>1.6169e19</td><td>&quot;5736459754255529832&quot;</td><td>&quot;FirstMortgage30yr&quot;</td><td>&quot;961799643224585796&quot;</td><td>&quot;Rejected&quot;</td></tr><tr><td>&quot;../../../../data/SampleHDS.jso…</td><td>&quot;17492716056040859995&quot;</td><td>1.3675e18</td><td>&quot;10297922878076795742&quot;</td><td>&quot;FirstMortgage30yr&quot;</td><td>&quot;11844090999704295929&quot;</td><td>&quot;Accepted&quot;</td></tr><tr><td>&quot;../../../../data/SampleHDS.jso…</td><td>&quot;14627204154638799643&quot;</td><td>1.0152e19</td><td>&quot;7515766168711231939&quot;</td><td>&quot;MoneyMarketSavingsAccount&quot;</td><td>&quot;961799643224585796&quot;</td><td>&quot;Rejected&quot;</td></tr><tr><td>&quot;../../../../data/SampleHDS.jso…</td><td>&quot;17492716056040859995&quot;</td><td>1.6680e19</td><td>&quot;1518912504615945380&quot;</td><td>&quot;BasicChecking&quot;</td><td>&quot;961799643224585796&quot;</td><td>&quot;Rejected&quot;</td></tr><tr><td>&quot;../../../../data/SampleHDS.jso…</td><td>&quot;16563416606604171344&quot;</td><td>1.0285e18</td><td>&quot;1647303866071534864&quot;</td><td>&quot;BasicChecking&quot;</td><td>&quot;15984657781101378302&quot;</td><td>&quot;Accepted&quot;</td></tr><tr><td>&quot;../../../../data/SampleHDS.jso…</td><td>&quot;14627204154638799643&quot;</td><td>2.4055e18</td><td>&quot;3704976643923706106&quot;</td><td>&quot;UPlusFinPersonal&quot;</td><td>null</td><td>&quot;Rejected&quot;</td></tr><tr><td>&quot;../../../../data/SampleHDS.jso…</td><td>&quot;14627204154638799643&quot;</td><td>1.8263e19</td><td>&quot;853346816451868867&quot;</td><td>&quot;BasicChecking&quot;</td><td>&quot;15984657781101378302&quot;</td><td>&quot;Rejected&quot;</td></tr></tbody></table></div>"
      ],
      "text/plain": [
       "shape: (7, 7)\n",
       "┌──────────────┬─────────────┬─────────────┬─────────────┬─────────────┬─────────────┬─────────────┐\n",
       "│ filename     ┆ PREDICTOR_1 ┆ PREDICTOR_2 ┆ PREDICTOR_3 ┆ Context_Nam ┆ IH_Web_Inbo ┆ Decision_Ou │\n",
       "│ ---          ┆ ---         ┆ ---         ┆ ---         ┆ e           ┆ und_Accepte ┆ tcome       │\n",
       "│ str          ┆ str         ┆ f64         ┆ str         ┆ ---         ┆ d_pxLast…   ┆ ---         │\n",
       "│              ┆             ┆             ┆             ┆ str         ┆ ---         ┆ str         │\n",
       "│              ┆             ┆             ┆             ┆             ┆ str         ┆             │\n",
       "╞══════════════╪═════════════╪═════════════╪═════════════╪═════════════╪═════════════╪═════════════╡\n",
       "│ ../../../../ ┆ 16563416606 ┆ 1.6169e19   ┆ 57364597542 ┆ FirstMortga ┆ 96179964322 ┆ Rejected    │\n",
       "│ data/SampleH ┆ 604171344   ┆             ┆ 55529832    ┆ ge30yr      ┆ 4585796     ┆             │\n",
       "│ DS.jso…      ┆             ┆             ┆             ┆             ┆             ┆             │\n",
       "│ ../../../../ ┆ 17492716056 ┆ 1.3675e18   ┆ 10297922878 ┆ FirstMortga ┆ 11844090999 ┆ Accepted    │\n",
       "│ data/SampleH ┆ 040859995   ┆             ┆ 076795742   ┆ ge30yr      ┆ 704295929   ┆             │\n",
       "│ DS.jso…      ┆             ┆             ┆             ┆             ┆             ┆             │\n",
       "│ ../../../../ ┆ 14627204154 ┆ 1.0152e19   ┆ 75157661687 ┆ MoneyMarket ┆ 96179964322 ┆ Rejected    │\n",
       "│ data/SampleH ┆ 638799643   ┆             ┆ 11231939    ┆ SavingsAcco ┆ 4585796     ┆             │\n",
       "│ DS.jso…      ┆             ┆             ┆             ┆ unt         ┆             ┆             │\n",
       "│ ../../../../ ┆ 17492716056 ┆ 1.6680e19   ┆ 15189125046 ┆ BasicChecki ┆ 96179964322 ┆ Rejected    │\n",
       "│ data/SampleH ┆ 040859995   ┆             ┆ 15945380    ┆ ng          ┆ 4585796     ┆             │\n",
       "│ DS.jso…      ┆             ┆             ┆             ┆             ┆             ┆             │\n",
       "│ ../../../../ ┆ 16563416606 ┆ 1.0285e18   ┆ 16473038660 ┆ BasicChecki ┆ 15984657781 ┆ Accepted    │\n",
       "│ data/SampleH ┆ 604171344   ┆             ┆ 71534864    ┆ ng          ┆ 101378302   ┆             │\n",
       "│ DS.jso…      ┆             ┆             ┆             ┆             ┆             ┆             │\n",
       "│ ../../../../ ┆ 14627204154 ┆ 2.4055e18   ┆ 37049766439 ┆ UPlusFinPer ┆ null        ┆ Rejected    │\n",
       "│ data/SampleH ┆ 638799643   ┆             ┆ 23706106    ┆ sonal       ┆             ┆             │\n",
       "│ DS.jso…      ┆             ┆             ┆             ┆             ┆             ┆             │\n",
       "│ ../../../../ ┆ 14627204154 ┆ 1.8263e19   ┆ 85334681645 ┆ BasicChecki ┆ 15984657781 ┆ Rejected    │\n",
       "│ data/SampleH ┆ 638799643   ┆             ┆ 1868867     ┆ ng          ┆ 101378302   ┆             │\n",
       "│ DS.jso…      ┆             ┆             ┆             ┆             ┆             ┆             │\n",
       "└──────────────┴─────────────┴─────────────┴─────────────┴─────────────┴─────────────┴─────────────┘"
      ]
     },
     "execution_count": 10,
     "metadata": {},
     "output_type": "execute_result"
    }
   ],
   "source": [
    "anon = DataAnonymization(config=Config(config_file='config.json'))\n",
    "anon.process()"
   ]
  },
  {
   "attachments": {},
   "cell_type": "markdown",
   "metadata": {},
   "source": [
    "## Exporting\n",
    "Two functions export:\n",
    "- `create_mapping_file()` writes the mapping file of the predictor names\n",
    "- `write_to_output()` writes the processed dataframe to disk\n",
    "\n",
    "Write to output accepts the following extensions: `[\"ndjson\", \"parquet\", \"arrow\", \"csv\"]`"
   ]
  },
  {
   "cell_type": "code",
   "execution_count": 11,
   "metadata": {
    "execution": {
     "iopub.execute_input": "2024-06-30T11:37:34.274721Z",
     "iopub.status.busy": "2024-06-30T11:37:34.274404Z",
     "iopub.status.idle": "2024-06-30T11:37:34.277888Z",
     "shell.execute_reply": "2024-06-30T11:37:34.277429Z"
    }
   },
   "outputs": [
    {
     "name": "stdout",
     "output_type": "stream",
     "text": [
      "filename=filename\n",
      "Customer_MaritalStatus=PREDICTOR_1\n",
      "Customer_CLV=PREDICTOR_2\n",
      "Customer_City=PREDICTOR_3\n",
      "Context_Name=Context_Name\n",
      "IH_Web_Inbound_Accepted_pxLastGroupID=IH_Web_Inbound_Accepted_pxLastGroupID\n",
      "Decision_Outcome=Decision_Outcome\n",
      "\n"
     ]
    }
   ],
   "source": [
    "anon.create_mapping_file()\n",
    "with open('mapping.map') as f:\n",
    "    print(f.read())"
   ]
  },
  {
   "cell_type": "code",
   "execution_count": 12,
   "metadata": {
    "execution": {
     "iopub.execute_input": "2024-06-30T11:37:34.279747Z",
     "iopub.status.busy": "2024-06-30T11:37:34.279430Z",
     "iopub.status.idle": "2024-06-30T11:37:34.282765Z",
     "shell.execute_reply": "2024-06-30T11:37:34.282339Z"
    }
   },
   "outputs": [],
   "source": [
    "anon.write_to_output(ext='arrow')"
   ]
  },
  {
   "cell_type": "code",
   "execution_count": 13,
   "metadata": {
    "execution": {
     "iopub.execute_input": "2024-06-30T11:37:34.284630Z",
     "iopub.status.busy": "2024-06-30T11:37:34.284284Z",
     "iopub.status.idle": "2024-06-30T11:37:34.288615Z",
     "shell.execute_reply": "2024-06-30T11:37:34.288126Z"
    }
   },
   "outputs": [
    {
     "data": {
      "text/html": [
       "<div><style>\n",
       ".dataframe > thead > tr,\n",
       ".dataframe > tbody > tr {\n",
       "  text-align: right;\n",
       "  white-space: pre-wrap;\n",
       "}\n",
       "</style>\n",
       "<small>shape: (7, 6)</small><table border=\"1\" class=\"dataframe\"><thead><tr><th>PREDICTOR_1</th><th>PREDICTOR_2</th><th>PREDICTOR_3</th><th>Context_Name</th><th>IH_Web_Inbound_Accepted_pxLastGroupID</th><th>Decision_Outcome</th></tr><tr><td>str</td><td>f64</td><td>str</td><td>str</td><td>str</td><td>str</td></tr></thead><tbody><tr><td>&quot;12627307941091580418&quot;</td><td>8.0235e18</td><td>&quot;25157198722377422&quot;</td><td>&quot;FirstMortgage30yr&quot;</td><td>&quot;4295164060856894422&quot;</td><td>&quot;Rejected&quot;</td></tr><tr><td>&quot;10935410098080431797&quot;</td><td>8.0171e18</td><td>&quot;14136156570581473276&quot;</td><td>&quot;FirstMortgage30yr&quot;</td><td>&quot;1154972244858176757&quot;</td><td>&quot;Accepted&quot;</td></tr><tr><td>&quot;306828318694733161&quot;</td><td>7.1946e18</td><td>&quot;11313055665305484622&quot;</td><td>&quot;MoneyMarketSavingsAccount&quot;</td><td>&quot;4295164060856894422&quot;</td><td>&quot;Rejected&quot;</td></tr><tr><td>&quot;10935410098080431797&quot;</td><td>1.2790e19</td><td>&quot;18226948181616197301&quot;</td><td>&quot;BasicChecking&quot;</td><td>&quot;4295164060856894422&quot;</td><td>&quot;Rejected&quot;</td></tr><tr><td>&quot;12627307941091580418&quot;</td><td>3.0393e18</td><td>&quot;11091739706092406376&quot;</td><td>&quot;BasicChecking&quot;</td><td>&quot;6884931819761883326&quot;</td><td>&quot;Accepted&quot;</td></tr><tr><td>&quot;306828318694733161&quot;</td><td>8.3995e18</td><td>&quot;7221985708650499481&quot;</td><td>&quot;UPlusFinPersonal&quot;</td><td>null</td><td>&quot;Rejected&quot;</td></tr><tr><td>&quot;306828318694733161&quot;</td><td>9.7667e18</td><td>&quot;800498179031730829&quot;</td><td>&quot;BasicChecking&quot;</td><td>&quot;6884931819761883326&quot;</td><td>&quot;Rejected&quot;</td></tr></tbody></table></div>"
      ],
      "text/plain": [
       "shape: (7, 6)\n",
       "┌────────────────┬─────────────┬────────────────┬────────────────┬────────────────┬────────────────┐\n",
       "│ PREDICTOR_1    ┆ PREDICTOR_2 ┆ PREDICTOR_3    ┆ Context_Name   ┆ IH_Web_Inbound ┆ Decision_Outco │\n",
       "│ ---            ┆ ---         ┆ ---            ┆ ---            ┆ _Accepted_pxLa ┆ me             │\n",
       "│ str            ┆ f64         ┆ str            ┆ str            ┆ st…            ┆ ---            │\n",
       "│                ┆             ┆                ┆                ┆ ---            ┆ str            │\n",
       "│                ┆             ┆                ┆                ┆ str            ┆                │\n",
       "╞════════════════╪═════════════╪════════════════╪════════════════╪════════════════╪════════════════╡\n",
       "│ 12627307941091 ┆ 8.0235e18   ┆ 25157198722377 ┆ FirstMortgage3 ┆ 42951640608568 ┆ Rejected       │\n",
       "│ 580418         ┆             ┆ 422            ┆ 0yr            ┆ 94422          ┆                │\n",
       "│ 10935410098080 ┆ 8.0171e18   ┆ 14136156570581 ┆ FirstMortgage3 ┆ 11549722448581 ┆ Accepted       │\n",
       "│ 431797         ┆             ┆ 473276         ┆ 0yr            ┆ 76757          ┆                │\n",
       "│ 30682831869473 ┆ 7.1946e18   ┆ 11313055665305 ┆ MoneyMarketSav ┆ 42951640608568 ┆ Rejected       │\n",
       "│ 3161           ┆             ┆ 484622         ┆ ingsAccount    ┆ 94422          ┆                │\n",
       "│ 10935410098080 ┆ 1.2790e19   ┆ 18226948181616 ┆ BasicChecking  ┆ 42951640608568 ┆ Rejected       │\n",
       "│ 431797         ┆             ┆ 197301         ┆                ┆ 94422          ┆                │\n",
       "│ 12627307941091 ┆ 3.0393e18   ┆ 11091739706092 ┆ BasicChecking  ┆ 68849318197618 ┆ Accepted       │\n",
       "│ 580418         ┆             ┆ 406376         ┆                ┆ 83326          ┆                │\n",
       "│ 30682831869473 ┆ 8.3995e18   ┆ 72219857086504 ┆ UPlusFinPerson ┆ null           ┆ Rejected       │\n",
       "│ 3161           ┆             ┆ 99481          ┆ al             ┆                ┆                │\n",
       "│ 30682831869473 ┆ 9.7667e18   ┆ 80049817903173 ┆ BasicChecking  ┆ 68849318197618 ┆ Rejected       │\n",
       "│ 3161           ┆             ┆ 0829           ┆                ┆ 83326          ┆                │\n",
       "└────────────────┴─────────────┴────────────────┴────────────────┴────────────────┴────────────────┘"
      ]
     },
     "execution_count": 13,
     "metadata": {},
     "output_type": "execute_result"
    }
   ],
   "source": [
    "pl.read_ipc('output/hds.arrow')"
   ]
  },
  {
   "attachments": {},
   "cell_type": "markdown",
   "metadata": {
    "nbsphinx": "hidden"
   },
   "source": [
    "## Advanced: Hash fuctions\n",
    "\n",
    "By default, we use [the same hashing algorithm Polars](https://pola-rs.github.io/polars/py-polars/html/reference/expressions/api/polars.Expr.hash.html#polars.Expr.hash) uses: [xxhash](https://github.com/Cyan4973/xxHash), as implemented [here](https://github.com/pola-rs/polars/blob/3f287f370b3c388ed2f3f218b2c096382548136f/polars/polars-core/src/vector_hasher.rs#L266). xxhash is fast to compute, and you can check its performance in collision, dispersion and randomness [here](https://github.com/Cyan4973/xxHash/tree/dev/tests). \n",
    "\n",
    "xxhash accepts four distinct seeds, but by default we set the seeds to `0`. It is possible to set the `seed` argument of the `process()` function to `'random'`, which will set all four seeds to a random integer between `0` and `1000000000`. Alternatively, it is possible to supply the four seeds manually with arguments `seed`, `seed_1`, `seed_2` and `seed_3`. \n",
    "\n",
    "If the xxhash with (random) seed(s) is not deemed sufficiently secure, it is possible to use your own hashing algorithm.\n",
    "\n",
    "Note that since we're now running python code and not native Polars code anymore, this will be _significantly_ slower. Nonetheless, it is possible.\n",
    "\n",
    "Just as an example - this is how one would use sha3_256:"
   ]
  },
  {
   "cell_type": "code",
   "execution_count": 14,
   "metadata": {
    "execution": {
     "iopub.execute_input": "2024-06-30T11:37:34.290522Z",
     "iopub.status.busy": "2024-06-30T11:37:34.290196Z",
     "iopub.status.idle": "2024-06-30T11:37:34.613072Z",
     "shell.execute_reply": "2024-06-30T11:37:34.612460Z"
    },
    "nbsphinx": "hidden"
   },
   "outputs": [
    {
     "name": "stderr",
     "output_type": "stream",
     "text": [
      "sys:1: MapWithoutReturnDtypeWarning:\n",
      "\n",
      "Calling `map_elements` without specifying `return_dtype` can lead to unpredictable results. Specify `return_dtype` to silence this warning.\n",
      "\n",
      "sys:1: MapWithoutReturnDtypeWarning:\n",
      "\n",
      "Calling `map_elements` without specifying `return_dtype` can lead to unpredictable results. Specify `return_dtype` to silence this warning.\n",
      "\n",
      "sys:1: MapWithoutReturnDtypeWarning:\n",
      "\n",
      "Calling `map_elements` without specifying `return_dtype` can lead to unpredictable results. Specify `return_dtype` to silence this warning.\n",
      "\n",
      "sys:1: MapWithoutReturnDtypeWarning:\n",
      "\n",
      "Calling `map_elements` without specifying `return_dtype` can lead to unpredictable results. Specify `return_dtype` to silence this warning.\n",
      "\n"
     ]
    },
    {
     "ename": "ComputeError",
     "evalue": "AttributeError: 'int' object has no attribute 'encode'",
     "output_type": "error",
     "traceback": [
      "\u001b[0;31m---------------------------------------------------------------------------\u001b[0m",
      "\u001b[0;31mComputeError\u001b[0m                              Traceback (most recent call last)",
      "Cell \u001b[0;32mIn[14], line 3\u001b[0m\n\u001b[1;32m      1\u001b[0m \u001b[38;5;28;01mfrom\u001b[39;00m \u001b[38;5;21;01mhashlib\u001b[39;00m \u001b[38;5;28;01mimport\u001b[39;00m sha3_256\n\u001b[0;32m----> 3\u001b[0m \u001b[43manon\u001b[49m\u001b[38;5;241;43m.\u001b[39;49m\u001b[43mprocess\u001b[49m\u001b[43m(\u001b[49m\u001b[43malgorithm\u001b[49m\u001b[38;5;241;43m=\u001b[39;49m\u001b[38;5;28;43;01mlambda\u001b[39;49;00m\u001b[43m \u001b[49m\u001b[43mx\u001b[49m\u001b[43m:\u001b[49m\u001b[43m \u001b[49m\u001b[43msha3_256\u001b[49m\u001b[43m(\u001b[49m\u001b[43mx\u001b[49m\u001b[38;5;241;43m.\u001b[39;49m\u001b[43mencode\u001b[49m\u001b[43m(\u001b[49m\u001b[43m)\u001b[49m\u001b[43m)\u001b[49m\u001b[38;5;241;43m.\u001b[39;49m\u001b[43mhexdigest\u001b[49m\u001b[43m(\u001b[49m\u001b[43m)\u001b[49m\u001b[43m)\u001b[49m\n",
      "File \u001b[0;32m~/work/pega-datascientist-tools/pega-datascientist-tools/python/docs/source/articles/../../../pdstools/utils/hds_utils.py:512\u001b[0m, in \u001b[0;36mDataAnonymization.process\u001b[0;34m(self, strategy, **kwargs)\u001b[0m\n\u001b[1;32m    510\u001b[0m df \u001b[38;5;241m=\u001b[39m df\u001b[38;5;241m.\u001b[39mselect(\u001b[38;5;28mself\u001b[39m\u001b[38;5;241m.\u001b[39mcolumn_mapping\u001b[38;5;241m.\u001b[39mkeys())\u001b[38;5;241m.\u001b[39mrename(\u001b[38;5;28mself\u001b[39m\u001b[38;5;241m.\u001b[39mcolumn_mapping)\n\u001b[1;32m    511\u001b[0m \u001b[38;5;28;01mif\u001b[39;00m strategy \u001b[38;5;241m==\u001b[39m \u001b[38;5;124m\"\u001b[39m\u001b[38;5;124meager\u001b[39m\u001b[38;5;124m\"\u001b[39m:\n\u001b[0;32m--> 512\u001b[0m     \u001b[38;5;28;01mreturn\u001b[39;00m \u001b[43mdf\u001b[49m\u001b[38;5;241;43m.\u001b[39;49m\u001b[43mcollect\u001b[49m\u001b[43m(\u001b[49m\u001b[43m)\u001b[49m\n\u001b[1;32m    513\u001b[0m \u001b[38;5;28;01mreturn\u001b[39;00m df\n",
      "File \u001b[0;32m/opt/hostedtoolcache/Python/3.11.9/x64/lib/python3.11/site-packages/polars/lazyframe/frame.py:1967\u001b[0m, in \u001b[0;36mLazyFrame.collect\u001b[0;34m(self, type_coercion, predicate_pushdown, projection_pushdown, simplify_expression, slice_pushdown, comm_subplan_elim, comm_subexpr_elim, cluster_with_columns, no_optimization, streaming, background, _eager, **_kwargs)\u001b[0m\n\u001b[1;32m   1964\u001b[0m \u001b[38;5;66;03m# Only for testing purposes atm.\u001b[39;00m\n\u001b[1;32m   1965\u001b[0m callback \u001b[38;5;241m=\u001b[39m _kwargs\u001b[38;5;241m.\u001b[39mget(\u001b[38;5;124m\"\u001b[39m\u001b[38;5;124mpost_opt_callback\u001b[39m\u001b[38;5;124m\"\u001b[39m)\n\u001b[0;32m-> 1967\u001b[0m \u001b[38;5;28;01mreturn\u001b[39;00m wrap_df(\u001b[43mldf\u001b[49m\u001b[38;5;241;43m.\u001b[39;49m\u001b[43mcollect\u001b[49m\u001b[43m(\u001b[49m\u001b[43mcallback\u001b[49m\u001b[43m)\u001b[49m)\n",
      "\u001b[0;31mComputeError\u001b[0m: AttributeError: 'int' object has no attribute 'encode'"
     ]
    }
   ],
   "source": [
    "from hashlib import sha3_256\n",
    "\n",
    "anon.process(algorithm=lambda x: sha3_256(x.encode()).hexdigest())"
   ]
  }
 ],
 "metadata": {
  "kernelspec": {
   "display_name": "Python 3",
   "language": "python",
   "name": "python3"
  },
  "language_info": {
   "codemirror_mode": {
    "name": "ipython",
    "version": 3
   },
   "file_extension": ".py",
   "mimetype": "text/x-python",
   "name": "python",
   "nbconvert_exporter": "python",
   "pygments_lexer": "ipython3",
   "version": "3.11.9"
  },
  "vscode": {
   "interpreter": {
    "hash": "aee8b7b246df8f9039afb4144a1f6fd8d2ca17a180786b69acc140d282b71a49"
   }
  }
 },
 "nbformat": 4,
 "nbformat_minor": 2
}
