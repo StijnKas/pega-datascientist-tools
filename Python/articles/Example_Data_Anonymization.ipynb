{
 "cells": [
  {
   "attachments": {},
   "cell_type": "markdown",
   "metadata": {},
   "source": [
    "# Data Anonymization\n",
    "\n",
    "In Pega CDH 8.5 and up, it's now possible to record the historical data as seen by the Adaptive Models. See [this academy challenge](https://academy.pega.com/challenge/exporting-historical-data/v4) for reference. This historical data can be further used to experiment with offline models, but also to fine-tune the OOTB Gradient Boosting model. However, sharing this information with Pega can be sensitive as it contains raw predictor data. \n",
    "\n",
    "To this end, we provide a simple and transparent script to fully anonimize this dataset.\n",
    "\n",
    "The DataAnonymization script is now part of pdstools, and you can import it directly as such."
   ]
  },
  {
   "cell_type": "code",
   "execution_count": 1,
   "metadata": {
    "execution": {
     "iopub.execute_input": "2024-05-17T14:34:14.866347Z",
     "iopub.status.busy": "2024-05-17T14:34:14.866174Z",
     "iopub.status.idle": "2024-05-17T14:34:14.939061Z",
     "shell.execute_reply": "2024-05-17T14:34:14.938454Z"
    },
    "nbsphinx": "hidden"
   },
   "outputs": [],
   "source": [
    "# These lines are only for rendering in the docs, and are hidden through Jupyter tags\n",
    "# Do not run if you're running the notebook seperately\n",
    "\n",
    "import os  \n",
    "import sys\n",
    "import plotly.io as pio\n",
    "pio.renderers.default = \"notebook_connected\"\n",
    "\n",
    "sys.path.append(\"../../../\")\n",
    "sys.path.append('../../python')"
   ]
  },
  {
   "cell_type": "code",
   "execution_count": 2,
   "metadata": {
    "execution": {
     "iopub.execute_input": "2024-05-17T14:34:14.941583Z",
     "iopub.status.busy": "2024-05-17T14:34:14.941401Z",
     "iopub.status.idle": "2024-05-17T14:34:16.015367Z",
     "shell.execute_reply": "2024-05-17T14:34:16.014704Z"
    }
   },
   "outputs": [],
   "source": [
    "from pdstools import ADMDatamart\n",
    "from pdstools import Config, DataAnonymization\n",
    "import polars as pl"
   ]
  },
  {
   "attachments": {},
   "cell_type": "markdown",
   "metadata": {},
   "source": [
    "## Input data\n",
    "\n",
    "To demonstrate this process, we're going to anonymise this toy example dataframe:"
   ]
  },
  {
   "cell_type": "code",
   "execution_count": 3,
   "metadata": {
    "execution": {
     "iopub.execute_input": "2024-05-17T14:34:16.018107Z",
     "iopub.status.busy": "2024-05-17T14:34:16.017665Z",
     "iopub.status.idle": "2024-05-17T14:34:16.026567Z",
     "shell.execute_reply": "2024-05-17T14:34:16.025996Z"
    }
   },
   "outputs": [
    {
     "data": {
      "text/html": [
       "<div><style>\n",
       ".dataframe > thead > tr,\n",
       ".dataframe > tbody > tr {\n",
       "  text-align: right;\n",
       "  white-space: pre-wrap;\n",
       "}\n",
       "</style>\n",
       "<small>shape: (7, 6)</small><table border=\"1\" class=\"dataframe\"><thead><tr><th>Context_Name</th><th>Customer_MaritalStatus</th><th>Customer_CLV</th><th>Customer_City</th><th>IH_Web_Inbound_Accepted_pxLastGroupID</th><th>Decision_Outcome</th></tr><tr><td>str</td><td>str</td><td>i64</td><td>str</td><td>str</td><td>str</td></tr></thead><tbody><tr><td>&quot;FirstMortgage30yr&quot;</td><td>&quot;Married&quot;</td><td>1460</td><td>&quot;Port Raoul&quot;</td><td>&quot;Account&quot;</td><td>&quot;Rejected&quot;</td></tr><tr><td>&quot;FirstMortgage30yr&quot;</td><td>&quot;Unknown&quot;</td><td>669</td><td>&quot;Laurianneshire&quot;</td><td>&quot;AutoLoans&quot;</td><td>&quot;Accepted&quot;</td></tr><tr><td>&quot;MoneyMarketSavingsAccount&quot;</td><td>&quot;No Resp+&quot;</td><td>1174</td><td>&quot;Jacobshaven&quot;</td><td>&quot;Account&quot;</td><td>&quot;Rejected&quot;</td></tr><tr><td>&quot;BasicChecking&quot;</td><td>&quot;Unknown&quot;</td><td>1476</td><td>&quot;Lindton&quot;</td><td>&quot;Account&quot;</td><td>&quot;Rejected&quot;</td></tr><tr><td>&quot;BasicChecking&quot;</td><td>&quot;Married&quot;</td><td>1211</td><td>&quot;South Jimmieshire&quot;</td><td>&quot;DepositAccounts&quot;</td><td>&quot;Accepted&quot;</td></tr><tr><td>&quot;UPlusFinPersonal&quot;</td><td>&quot;No Resp+&quot;</td><td>533</td><td>&quot;Bergeville&quot;</td><td>null</td><td>&quot;Rejected&quot;</td></tr><tr><td>&quot;BasicChecking&quot;</td><td>&quot;No Resp+&quot;</td><td>555</td><td>&quot;Willyville&quot;</td><td>&quot;DepositAccounts&quot;</td><td>&quot;Rejected&quot;</td></tr></tbody></table></div>"
      ],
      "text/plain": [
       "shape: (7, 6)\n",
       "┌────────────────┬────────────────┬──────────────┬────────────────┬────────────────┬───────────────┐\n",
       "│ Context_Name   ┆ Customer_Marit ┆ Customer_CLV ┆ Customer_City  ┆ IH_Web_Inbound ┆ Decision_Outc │\n",
       "│ ---            ┆ alStatus       ┆ ---          ┆ ---            ┆ _Accepted_pxLa ┆ ome           │\n",
       "│ str            ┆ ---            ┆ i64          ┆ str            ┆ st…            ┆ ---           │\n",
       "│                ┆ str            ┆              ┆                ┆ ---            ┆ str           │\n",
       "│                ┆                ┆              ┆                ┆ str            ┆               │\n",
       "╞════════════════╪════════════════╪══════════════╪════════════════╪════════════════╪═══════════════╡\n",
       "│ FirstMortgage3 ┆ Married        ┆ 1460         ┆ Port Raoul     ┆ Account        ┆ Rejected      │\n",
       "│ 0yr            ┆                ┆              ┆                ┆                ┆               │\n",
       "│ FirstMortgage3 ┆ Unknown        ┆ 669          ┆ Laurianneshire ┆ AutoLoans      ┆ Accepted      │\n",
       "│ 0yr            ┆                ┆              ┆                ┆                ┆               │\n",
       "│ MoneyMarketSav ┆ No Resp+       ┆ 1174         ┆ Jacobshaven    ┆ Account        ┆ Rejected      │\n",
       "│ ingsAccount    ┆                ┆              ┆                ┆                ┆               │\n",
       "│ BasicChecking  ┆ Unknown        ┆ 1476         ┆ Lindton        ┆ Account        ┆ Rejected      │\n",
       "│ BasicChecking  ┆ Married        ┆ 1211         ┆ South          ┆ DepositAccount ┆ Accepted      │\n",
       "│                ┆                ┆              ┆ Jimmieshire    ┆ s              ┆               │\n",
       "│ UPlusFinPerson ┆ No Resp+       ┆ 533          ┆ Bergeville     ┆ null           ┆ Rejected      │\n",
       "│ al             ┆                ┆              ┆                ┆                ┆               │\n",
       "│ BasicChecking  ┆ No Resp+       ┆ 555          ┆ Willyville     ┆ DepositAccount ┆ Rejected      │\n",
       "│                ┆                ┆              ┆                ┆ s              ┆               │\n",
       "└────────────────┴────────────────┴──────────────┴────────────────┴────────────────┴───────────────┘"
      ]
     },
     "execution_count": 3,
     "metadata": {},
     "output_type": "execute_result"
    }
   ],
   "source": [
    "pl.read_ndjson('../../../../data/SampleHDS.json')"
   ]
  },
  {
   "attachments": {},
   "cell_type": "markdown",
   "metadata": {},
   "source": [
    "As you can see, this dataset consists of regular predictors, IH predictors, context keys and the outcome column. Additionally, some columns are numeric, others are strings. Let's first initialize the DataAnonymization class."
   ]
  },
  {
   "cell_type": "code",
   "execution_count": 4,
   "metadata": {
    "execution": {
     "iopub.execute_input": "2024-05-17T14:34:16.028605Z",
     "iopub.status.busy": "2024-05-17T14:34:16.028388Z",
     "iopub.status.idle": "2024-05-17T14:34:16.038235Z",
     "shell.execute_reply": "2024-05-17T14:34:16.037754Z"
    }
   },
   "outputs": [],
   "source": [
    "anon = DataAnonymization(hds_folder='../../../../data/')"
   ]
  },
  {
   "attachments": {},
   "cell_type": "markdown",
   "metadata": {},
   "source": [
    "By default, the class applies a set of anonymisation techniques:\n",
    "- Column names are remapped to a non-descriptive name\n",
    "- Categorical values are hashed with a random seed\n",
    "- Numerical values are normalized between 0 and 1\n",
    "- Outcomes are mapped to a binary outcome.\n",
    "\n",
    "To apply these techniques, simply call `.process()`:"
   ]
  },
  {
   "cell_type": "code",
   "execution_count": 5,
   "metadata": {
    "execution": {
     "iopub.execute_input": "2024-05-17T14:34:16.040568Z",
     "iopub.status.busy": "2024-05-17T14:34:16.040219Z",
     "iopub.status.idle": "2024-05-17T14:34:16.046116Z",
     "shell.execute_reply": "2024-05-17T14:34:16.045592Z"
    }
   },
   "outputs": [
    {
     "data": {
      "text/html": [
       "<div><style>\n",
       ".dataframe > thead > tr,\n",
       ".dataframe > tbody > tr {\n",
       "  text-align: right;\n",
       "  white-space: pre-wrap;\n",
       "}\n",
       "</style>\n",
       "<small>shape: (7, 7)</small><table border=\"1\" class=\"dataframe\"><thead><tr><th>filename</th><th>PREDICTOR_1</th><th>PREDICTOR_2</th><th>PREDICTOR_3</th><th>Context_Name</th><th>IH_PREDICTOR_0</th><th>Decision_Outcome</th></tr><tr><td>str</td><td>f64</td><td>str</td><td>str</td><td>str</td><td>str</td><td>bool</td></tr></thead><tbody><tr><td>&quot;../../../../data/SampleHDS.jso…</td><td>9.3879e18</td><td>&quot;4322352375578778816&quot;</td><td>&quot;17476576417299871274&quot;</td><td>&quot;16667091606759666905&quot;</td><td>&quot;9928487072251299005&quot;</td><td>false</td></tr><tr><td>&quot;../../../../data/SampleHDS.jso…</td><td>9.5130e18</td><td>&quot;4377567666271395146&quot;</td><td>&quot;4246104531867950704&quot;</td><td>&quot;16667091606759666905&quot;</td><td>&quot;9704894017741411585&quot;</td><td>true</td></tr><tr><td>&quot;../../../../data/SampleHDS.jso…</td><td>1.3543e19</td><td>&quot;7449789436079273182&quot;</td><td>&quot;16245490868189049411&quot;</td><td>&quot;9110662069881979168&quot;</td><td>&quot;9928487072251299005&quot;</td><td>false</td></tr><tr><td>&quot;../../../../data/SampleHDS.jso…</td><td>2.9338e18</td><td>&quot;4377567666271395146&quot;</td><td>&quot;14052206754333961127&quot;</td><td>&quot;3167542439088846566&quot;</td><td>&quot;9928487072251299005&quot;</td><td>false</td></tr><tr><td>&quot;../../../../data/SampleHDS.jso…</td><td>9.1170e18</td><td>&quot;4322352375578778816&quot;</td><td>&quot;15706014193656415919&quot;</td><td>&quot;3167542439088846566&quot;</td><td>&quot;4429618874616721482&quot;</td><td>true</td></tr><tr><td>&quot;../../../../data/SampleHDS.jso…</td><td>5.9423e18</td><td>&quot;7449789436079273182&quot;</td><td>&quot;18083692497973389187&quot;</td><td>&quot;15443884618242616713&quot;</td><td>null</td><td>false</td></tr><tr><td>&quot;../../../../data/SampleHDS.jso…</td><td>2.9437e17</td><td>&quot;7449789436079273182&quot;</td><td>&quot;17630561027144944859&quot;</td><td>&quot;3167542439088846566&quot;</td><td>&quot;4429618874616721482&quot;</td><td>false</td></tr></tbody></table></div>"
      ],
      "text/plain": [
       "shape: (7, 7)\n",
       "┌──────────────┬─────────────┬─────────────┬─────────────┬─────────────┬─────────────┬─────────────┐\n",
       "│ filename     ┆ PREDICTOR_1 ┆ PREDICTOR_2 ┆ PREDICTOR_3 ┆ Context_Nam ┆ IH_PREDICTO ┆ Decision_Ou │\n",
       "│ ---          ┆ ---         ┆ ---         ┆ ---         ┆ e           ┆ R_0         ┆ tcome       │\n",
       "│ str          ┆ f64         ┆ str         ┆ str         ┆ ---         ┆ ---         ┆ ---         │\n",
       "│              ┆             ┆             ┆             ┆ str         ┆ str         ┆ bool        │\n",
       "╞══════════════╪═════════════╪═════════════╪═════════════╪═════════════╪═════════════╪═════════════╡\n",
       "│ ../../../../ ┆ 9.3879e18   ┆ 43223523755 ┆ 17476576417 ┆ 16667091606 ┆ 99284870722 ┆ false       │\n",
       "│ data/SampleH ┆             ┆ 78778816    ┆ 299871274   ┆ 759666905   ┆ 51299005    ┆             │\n",
       "│ DS.jso…      ┆             ┆             ┆             ┆             ┆             ┆             │\n",
       "│ ../../../../ ┆ 9.5130e18   ┆ 43775676662 ┆ 42461045318 ┆ 16667091606 ┆ 97048940177 ┆ true        │\n",
       "│ data/SampleH ┆             ┆ 71395146    ┆ 67950704    ┆ 759666905   ┆ 41411585    ┆             │\n",
       "│ DS.jso…      ┆             ┆             ┆             ┆             ┆             ┆             │\n",
       "│ ../../../../ ┆ 1.3543e19   ┆ 74497894360 ┆ 16245490868 ┆ 91106620698 ┆ 99284870722 ┆ false       │\n",
       "│ data/SampleH ┆             ┆ 79273182    ┆ 189049411   ┆ 81979168    ┆ 51299005    ┆             │\n",
       "│ DS.jso…      ┆             ┆             ┆             ┆             ┆             ┆             │\n",
       "│ ../../../../ ┆ 2.9338e18   ┆ 43775676662 ┆ 14052206754 ┆ 31675424390 ┆ 99284870722 ┆ false       │\n",
       "│ data/SampleH ┆             ┆ 71395146    ┆ 333961127   ┆ 88846566    ┆ 51299005    ┆             │\n",
       "│ DS.jso…      ┆             ┆             ┆             ┆             ┆             ┆             │\n",
       "│ ../../../../ ┆ 9.1170e18   ┆ 43223523755 ┆ 15706014193 ┆ 31675424390 ┆ 44296188746 ┆ true        │\n",
       "│ data/SampleH ┆             ┆ 78778816    ┆ 656415919   ┆ 88846566    ┆ 16721482    ┆             │\n",
       "│ DS.jso…      ┆             ┆             ┆             ┆             ┆             ┆             │\n",
       "│ ../../../../ ┆ 5.9423e18   ┆ 74497894360 ┆ 18083692497 ┆ 15443884618 ┆ null        ┆ false       │\n",
       "│ data/SampleH ┆             ┆ 79273182    ┆ 973389187   ┆ 242616713   ┆             ┆             │\n",
       "│ DS.jso…      ┆             ┆             ┆             ┆             ┆             ┆             │\n",
       "│ ../../../../ ┆ 2.9437e17   ┆ 74497894360 ┆ 17630561027 ┆ 31675424390 ┆ 44296188746 ┆ false       │\n",
       "│ data/SampleH ┆             ┆ 79273182    ┆ 144944859   ┆ 88846566    ┆ 16721482    ┆             │\n",
       "│ DS.jso…      ┆             ┆             ┆             ┆             ┆             ┆             │\n",
       "└──────────────┴─────────────┴─────────────┴─────────────┴─────────────┴─────────────┴─────────────┘"
      ]
     },
     "execution_count": 5,
     "metadata": {},
     "output_type": "execute_result"
    }
   ],
   "source": [
    "anon.process()"
   ]
  },
  {
   "attachments": {},
   "cell_type": "markdown",
   "metadata": {},
   "source": [
    "To trace back the columns to their original names, the class also contains a mapping, which does not have to be provided."
   ]
  },
  {
   "cell_type": "code",
   "execution_count": 6,
   "metadata": {
    "execution": {
     "iopub.execute_input": "2024-05-17T14:34:16.048474Z",
     "iopub.status.busy": "2024-05-17T14:34:16.048121Z",
     "iopub.status.idle": "2024-05-17T14:34:16.051930Z",
     "shell.execute_reply": "2024-05-17T14:34:16.051423Z"
    }
   },
   "outputs": [
    {
     "data": {
      "text/plain": [
       "{'filename': 'filename',\n",
       " 'Customer_CLV': 'PREDICTOR_1',\n",
       " 'Customer_MaritalStatus': 'PREDICTOR_2',\n",
       " 'Customer_City': 'PREDICTOR_3',\n",
       " 'Context_Name': 'Context_Name',\n",
       " 'IH_Web_Inbound_Accepted_pxLastGroupID': 'IH_PREDICTOR_0',\n",
       " 'Decision_Outcome': 'Decision_Outcome'}"
      ]
     },
     "execution_count": 6,
     "metadata": {},
     "output_type": "execute_result"
    }
   ],
   "source": [
    "anon.column_mapping"
   ]
  },
  {
   "attachments": {},
   "cell_type": "markdown",
   "metadata": {},
   "source": [
    "## Configs\n",
    "\n",
    "Each capability can optionally be turned off - see below for the full list of config options, and refer to the API reference for the full description."
   ]
  },
  {
   "cell_type": "code",
   "execution_count": 7,
   "metadata": {
    "execution": {
     "iopub.execute_input": "2024-05-17T14:34:16.054019Z",
     "iopub.status.busy": "2024-05-17T14:34:16.053744Z",
     "iopub.status.idle": "2024-05-17T14:34:16.058295Z",
     "shell.execute_reply": "2024-05-17T14:34:16.057745Z"
    }
   },
   "outputs": [
    {
     "data": {
      "text/plain": [
       "{'config_file': None,\n",
       " 'hds_folder': '.',\n",
       " 'use_datamart': False,\n",
       " 'datamart_folder': 'datamart',\n",
       " 'output_format': 'ndjson',\n",
       " 'output_folder': 'output',\n",
       " 'mapping_file': 'mapping.map',\n",
       " 'mask_predictor_names': True,\n",
       " 'mask_context_key_names': False,\n",
       " 'mask_ih_names': True,\n",
       " 'mask_outcome_name': False,\n",
       " 'mask_predictor_values': True,\n",
       " 'mask_context_key_values': True,\n",
       " 'mask_ih_values': True,\n",
       " 'mask_outcome_values': True,\n",
       " 'context_key_label': 'Context_*',\n",
       " 'ih_label': 'IH_*',\n",
       " 'outcome_column': 'Decision_Outcome',\n",
       " 'positive_outcomes': ['Accepted', 'Clicked'],\n",
       " 'negative_outcomes': ['Rejected', 'Impression'],\n",
       " 'special_predictors': ['Decision_DecisionTime',\n",
       "  'Decision_OutcomeTime',\n",
       "  'Decision_Rank'],\n",
       " 'sample_percentage_schema_inferencing': 0.01}"
      ]
     },
     "execution_count": 7,
     "metadata": {},
     "output_type": "execute_result"
    }
   ],
   "source": [
    "dict(zip(Config.__init__.__code__.co_varnames[1:], Config.__init__.__defaults__))"
   ]
  },
  {
   "attachments": {},
   "cell_type": "markdown",
   "metadata": {},
   "source": [
    "It's easy to change these parameters by just passing the keyword arguments. In the following example, we\n",
    "- Keep the IH predictor names\n",
    "- Keep the outcome values\n",
    "- Keep the context key values\n",
    "- Keep the context key predictor names"
   ]
  },
  {
   "cell_type": "code",
   "execution_count": 8,
   "metadata": {
    "execution": {
     "iopub.execute_input": "2024-05-17T14:34:16.060395Z",
     "iopub.status.busy": "2024-05-17T14:34:16.060065Z",
     "iopub.status.idle": "2024-05-17T14:34:16.068450Z",
     "shell.execute_reply": "2024-05-17T14:34:16.067964Z"
    }
   },
   "outputs": [
    {
     "data": {
      "text/html": [
       "<div><style>\n",
       ".dataframe > thead > tr,\n",
       ".dataframe > tbody > tr {\n",
       "  text-align: right;\n",
       "  white-space: pre-wrap;\n",
       "}\n",
       "</style>\n",
       "<small>shape: (7, 7)</small><table border=\"1\" class=\"dataframe\"><thead><tr><th>filename</th><th>PREDICTOR_1</th><th>PREDICTOR_2</th><th>PREDICTOR_3</th><th>Context_Name</th><th>IH_Web_Inbound_Accepted_pxLastGroupID</th><th>Decision_Outcome</th></tr><tr><td>str</td><td>f64</td><td>str</td><td>str</td><td>str</td><td>str</td><td>str</td></tr></thead><tbody><tr><td>&quot;../../../../data/SampleHDS.jso…</td><td>7.5292e16</td><td>&quot;5652797536064939235&quot;</td><td>&quot;1883914281589318169&quot;</td><td>&quot;FirstMortgage30yr&quot;</td><td>&quot;7516570166790360641&quot;</td><td>&quot;Rejected&quot;</td></tr><tr><td>&quot;../../../../data/SampleHDS.jso…</td><td>1.0513e19</td><td>&quot;13504995809060850713&quot;</td><td>&quot;13130779151990347928&quot;</td><td>&quot;FirstMortgage30yr&quot;</td><td>&quot;7207095931022615371&quot;</td><td>&quot;Accepted&quot;</td></tr><tr><td>&quot;../../../../data/SampleHDS.jso…</td><td>1.2205e19</td><td>&quot;12266615714185244798&quot;</td><td>&quot;17512333760039993470&quot;</td><td>&quot;MoneyMarketSavingsAccount&quot;</td><td>&quot;7516570166790360641&quot;</td><td>&quot;Rejected&quot;</td></tr><tr><td>&quot;../../../../data/SampleHDS.jso…</td><td>1.5206e19</td><td>&quot;13504995809060850713&quot;</td><td>&quot;13070512220880338382&quot;</td><td>&quot;BasicChecking&quot;</td><td>&quot;7516570166790360641&quot;</td><td>&quot;Rejected&quot;</td></tr><tr><td>&quot;../../../../data/SampleHDS.jso…</td><td>9.2184e18</td><td>&quot;5652797536064939235&quot;</td><td>&quot;9707500569982642684&quot;</td><td>&quot;BasicChecking&quot;</td><td>&quot;15207313976030574712&quot;</td><td>&quot;Accepted&quot;</td></tr><tr><td>&quot;../../../../data/SampleHDS.jso…</td><td>1.7792e19</td><td>&quot;12266615714185244798&quot;</td><td>&quot;16463319030652753949&quot;</td><td>&quot;UPlusFinPersonal&quot;</td><td>null</td><td>&quot;Rejected&quot;</td></tr><tr><td>&quot;../../../../data/SampleHDS.jso…</td><td>8.9321e18</td><td>&quot;12266615714185244798&quot;</td><td>&quot;9489790242227414652&quot;</td><td>&quot;BasicChecking&quot;</td><td>&quot;15207313976030574712&quot;</td><td>&quot;Rejected&quot;</td></tr></tbody></table></div>"
      ],
      "text/plain": [
       "shape: (7, 7)\n",
       "┌──────────────┬─────────────┬─────────────┬─────────────┬─────────────┬─────────────┬─────────────┐\n",
       "│ filename     ┆ PREDICTOR_1 ┆ PREDICTOR_2 ┆ PREDICTOR_3 ┆ Context_Nam ┆ IH_Web_Inbo ┆ Decision_Ou │\n",
       "│ ---          ┆ ---         ┆ ---         ┆ ---         ┆ e           ┆ und_Accepte ┆ tcome       │\n",
       "│ str          ┆ f64         ┆ str         ┆ str         ┆ ---         ┆ d_pxLast…   ┆ ---         │\n",
       "│              ┆             ┆             ┆             ┆ str         ┆ ---         ┆ str         │\n",
       "│              ┆             ┆             ┆             ┆             ┆ str         ┆             │\n",
       "╞══════════════╪═════════════╪═════════════╪═════════════╪═════════════╪═════════════╪═════════════╡\n",
       "│ ../../../../ ┆ 7.5292e16   ┆ 56527975360 ┆ 18839142815 ┆ FirstMortga ┆ 75165701667 ┆ Rejected    │\n",
       "│ data/SampleH ┆             ┆ 64939235    ┆ 89318169    ┆ ge30yr      ┆ 90360641    ┆             │\n",
       "│ DS.jso…      ┆             ┆             ┆             ┆             ┆             ┆             │\n",
       "│ ../../../../ ┆ 1.0513e19   ┆ 13504995809 ┆ 13130779151 ┆ FirstMortga ┆ 72070959310 ┆ Accepted    │\n",
       "│ data/SampleH ┆             ┆ 060850713   ┆ 990347928   ┆ ge30yr      ┆ 22615371    ┆             │\n",
       "│ DS.jso…      ┆             ┆             ┆             ┆             ┆             ┆             │\n",
       "│ ../../../../ ┆ 1.2205e19   ┆ 12266615714 ┆ 17512333760 ┆ MoneyMarket ┆ 75165701667 ┆ Rejected    │\n",
       "│ data/SampleH ┆             ┆ 185244798   ┆ 039993470   ┆ SavingsAcco ┆ 90360641    ┆             │\n",
       "│ DS.jso…      ┆             ┆             ┆             ┆ unt         ┆             ┆             │\n",
       "│ ../../../../ ┆ 1.5206e19   ┆ 13504995809 ┆ 13070512220 ┆ BasicChecki ┆ 75165701667 ┆ Rejected    │\n",
       "│ data/SampleH ┆             ┆ 060850713   ┆ 880338382   ┆ ng          ┆ 90360641    ┆             │\n",
       "│ DS.jso…      ┆             ┆             ┆             ┆             ┆             ┆             │\n",
       "│ ../../../../ ┆ 9.2184e18   ┆ 56527975360 ┆ 97075005699 ┆ BasicChecki ┆ 15207313976 ┆ Accepted    │\n",
       "│ data/SampleH ┆             ┆ 64939235    ┆ 82642684    ┆ ng          ┆ 030574712   ┆             │\n",
       "│ DS.jso…      ┆             ┆             ┆             ┆             ┆             ┆             │\n",
       "│ ../../../../ ┆ 1.7792e19   ┆ 12266615714 ┆ 16463319030 ┆ UPlusFinPer ┆ null        ┆ Rejected    │\n",
       "│ data/SampleH ┆             ┆ 185244798   ┆ 652753949   ┆ sonal       ┆             ┆             │\n",
       "│ DS.jso…      ┆             ┆             ┆             ┆             ┆             ┆             │\n",
       "│ ../../../../ ┆ 8.9321e18   ┆ 12266615714 ┆ 94897902422 ┆ BasicChecki ┆ 15207313976 ┆ Rejected    │\n",
       "│ data/SampleH ┆             ┆ 185244798   ┆ 27414652    ┆ ng          ┆ 030574712   ┆             │\n",
       "│ DS.jso…      ┆             ┆             ┆             ┆             ┆             ┆             │\n",
       "└──────────────┴─────────────┴─────────────┴─────────────┴─────────────┴─────────────┴─────────────┘"
      ]
     },
     "execution_count": 8,
     "metadata": {},
     "output_type": "execute_result"
    }
   ],
   "source": [
    "anon = DataAnonymization(\n",
    "    hds_folder=\"../../../../data/\",\n",
    "    mask_ih_names=False,\n",
    "    mask_outcome_values=False,\n",
    "    mask_context_key_values=False,\n",
    "    mask_context_key_names=False,\n",
    ")\n",
    "anon.process()\n"
   ]
  },
  {
   "attachments": {},
   "cell_type": "markdown",
   "metadata": {},
   "source": [
    "The configs can also be written and read as such:"
   ]
  },
  {
   "cell_type": "code",
   "execution_count": 9,
   "metadata": {
    "execution": {
     "iopub.execute_input": "2024-05-17T14:34:16.070637Z",
     "iopub.status.busy": "2024-05-17T14:34:16.070288Z",
     "iopub.status.idle": "2024-05-17T14:34:16.073145Z",
     "shell.execute_reply": "2024-05-17T14:34:16.072670Z"
    }
   },
   "outputs": [],
   "source": [
    "anon.config.save_to_config_file('config.json')"
   ]
  },
  {
   "cell_type": "code",
   "execution_count": 10,
   "metadata": {
    "execution": {
     "iopub.execute_input": "2024-05-17T14:34:16.075222Z",
     "iopub.status.busy": "2024-05-17T14:34:16.074899Z",
     "iopub.status.idle": "2024-05-17T14:34:16.082824Z",
     "shell.execute_reply": "2024-05-17T14:34:16.082350Z"
    }
   },
   "outputs": [
    {
     "data": {
      "text/html": [
       "<div><style>\n",
       ".dataframe > thead > tr,\n",
       ".dataframe > tbody > tr {\n",
       "  text-align: right;\n",
       "  white-space: pre-wrap;\n",
       "}\n",
       "</style>\n",
       "<small>shape: (7, 7)</small><table border=\"1\" class=\"dataframe\"><thead><tr><th>filename</th><th>PREDICTOR_1</th><th>PREDICTOR_2</th><th>PREDICTOR_3</th><th>Context_Name</th><th>IH_Web_Inbound_Accepted_pxLastGroupID</th><th>Decision_Outcome</th></tr><tr><td>str</td><td>f64</td><td>str</td><td>str</td><td>str</td><td>str</td><td>str</td></tr></thead><tbody><tr><td>&quot;../../../../data/SampleHDS.jso…</td><td>1.4092e19</td><td>&quot;13050987138282047001&quot;</td><td>&quot;7273466646321961720&quot;</td><td>&quot;FirstMortgage30yr&quot;</td><td>&quot;201110393970616223&quot;</td><td>&quot;Rejected&quot;</td></tr><tr><td>&quot;../../../../data/SampleHDS.jso…</td><td>7.5421e18</td><td>&quot;4687207091070476948&quot;</td><td>&quot;12321688881564301403&quot;</td><td>&quot;FirstMortgage30yr&quot;</td><td>&quot;14469491008813909687&quot;</td><td>&quot;Accepted&quot;</td></tr><tr><td>&quot;../../../../data/SampleHDS.jso…</td><td>2.7647e18</td><td>&quot;9221479136500986521&quot;</td><td>&quot;13224801672048989748&quot;</td><td>&quot;MoneyMarketSavingsAccount&quot;</td><td>&quot;201110393970616223&quot;</td><td>&quot;Rejected&quot;</td></tr><tr><td>&quot;../../../../data/SampleHDS.jso…</td><td>1.8531e18</td><td>&quot;4687207091070476948&quot;</td><td>&quot;3005892654458747413&quot;</td><td>&quot;BasicChecking&quot;</td><td>&quot;201110393970616223&quot;</td><td>&quot;Rejected&quot;</td></tr><tr><td>&quot;../../../../data/SampleHDS.jso…</td><td>2.9153e17</td><td>&quot;13050987138282047001&quot;</td><td>&quot;11143060317304375272&quot;</td><td>&quot;BasicChecking&quot;</td><td>&quot;14949876674167102948&quot;</td><td>&quot;Accepted&quot;</td></tr><tr><td>&quot;../../../../data/SampleHDS.jso…</td><td>5.8514e18</td><td>&quot;9221479136500986521&quot;</td><td>&quot;3042835870227387670&quot;</td><td>&quot;UPlusFinPersonal&quot;</td><td>null</td><td>&quot;Rejected&quot;</td></tr><tr><td>&quot;../../../../data/SampleHDS.jso…</td><td>1.3068e19</td><td>&quot;9221479136500986521&quot;</td><td>&quot;6985670021126623909&quot;</td><td>&quot;BasicChecking&quot;</td><td>&quot;14949876674167102948&quot;</td><td>&quot;Rejected&quot;</td></tr></tbody></table></div>"
      ],
      "text/plain": [
       "shape: (7, 7)\n",
       "┌──────────────┬─────────────┬─────────────┬─────────────┬─────────────┬─────────────┬─────────────┐\n",
       "│ filename     ┆ PREDICTOR_1 ┆ PREDICTOR_2 ┆ PREDICTOR_3 ┆ Context_Nam ┆ IH_Web_Inbo ┆ Decision_Ou │\n",
       "│ ---          ┆ ---         ┆ ---         ┆ ---         ┆ e           ┆ und_Accepte ┆ tcome       │\n",
       "│ str          ┆ f64         ┆ str         ┆ str         ┆ ---         ┆ d_pxLast…   ┆ ---         │\n",
       "│              ┆             ┆             ┆             ┆ str         ┆ ---         ┆ str         │\n",
       "│              ┆             ┆             ┆             ┆             ┆ str         ┆             │\n",
       "╞══════════════╪═════════════╪═════════════╪═════════════╪═════════════╪═════════════╪═════════════╡\n",
       "│ ../../../../ ┆ 1.4092e19   ┆ 13050987138 ┆ 72734666463 ┆ FirstMortga ┆ 20111039397 ┆ Rejected    │\n",
       "│ data/SampleH ┆             ┆ 282047001   ┆ 21961720    ┆ ge30yr      ┆ 0616223     ┆             │\n",
       "│ DS.jso…      ┆             ┆             ┆             ┆             ┆             ┆             │\n",
       "│ ../../../../ ┆ 7.5421e18   ┆ 46872070910 ┆ 12321688881 ┆ FirstMortga ┆ 14469491008 ┆ Accepted    │\n",
       "│ data/SampleH ┆             ┆ 70476948    ┆ 564301403   ┆ ge30yr      ┆ 813909687   ┆             │\n",
       "│ DS.jso…      ┆             ┆             ┆             ┆             ┆             ┆             │\n",
       "│ ../../../../ ┆ 2.7647e18   ┆ 92214791365 ┆ 13224801672 ┆ MoneyMarket ┆ 20111039397 ┆ Rejected    │\n",
       "│ data/SampleH ┆             ┆ 00986521    ┆ 048989748   ┆ SavingsAcco ┆ 0616223     ┆             │\n",
       "│ DS.jso…      ┆             ┆             ┆             ┆ unt         ┆             ┆             │\n",
       "│ ../../../../ ┆ 1.8531e18   ┆ 46872070910 ┆ 30058926544 ┆ BasicChecki ┆ 20111039397 ┆ Rejected    │\n",
       "│ data/SampleH ┆             ┆ 70476948    ┆ 58747413    ┆ ng          ┆ 0616223     ┆             │\n",
       "│ DS.jso…      ┆             ┆             ┆             ┆             ┆             ┆             │\n",
       "│ ../../../../ ┆ 2.9153e17   ┆ 13050987138 ┆ 11143060317 ┆ BasicChecki ┆ 14949876674 ┆ Accepted    │\n",
       "│ data/SampleH ┆             ┆ 282047001   ┆ 304375272   ┆ ng          ┆ 167102948   ┆             │\n",
       "│ DS.jso…      ┆             ┆             ┆             ┆             ┆             ┆             │\n",
       "│ ../../../../ ┆ 5.8514e18   ┆ 92214791365 ┆ 30428358702 ┆ UPlusFinPer ┆ null        ┆ Rejected    │\n",
       "│ data/SampleH ┆             ┆ 00986521    ┆ 27387670    ┆ sonal       ┆             ┆             │\n",
       "│ DS.jso…      ┆             ┆             ┆             ┆             ┆             ┆             │\n",
       "│ ../../../../ ┆ 1.3068e19   ┆ 92214791365 ┆ 69856700211 ┆ BasicChecki ┆ 14949876674 ┆ Rejected    │\n",
       "│ data/SampleH ┆             ┆ 00986521    ┆ 26623909    ┆ ng          ┆ 167102948   ┆             │\n",
       "│ DS.jso…      ┆             ┆             ┆             ┆             ┆             ┆             │\n",
       "└──────────────┴─────────────┴─────────────┴─────────────┴─────────────┴─────────────┴─────────────┘"
      ]
     },
     "execution_count": 10,
     "metadata": {},
     "output_type": "execute_result"
    }
   ],
   "source": [
    "anon = DataAnonymization(config=Config(config_file='config.json'))\n",
    "anon.process()"
   ]
  },
  {
   "attachments": {},
   "cell_type": "markdown",
   "metadata": {},
   "source": [
    "## Exporting\n",
    "Two functions export:\n",
    "- `create_mapping_file()` writes the mapping file of the predictor names\n",
    "- `write_to_output()` writes the processed dataframe to disk\n",
    "\n",
    "Write to output accepts the following extensions: `[\"ndjson\", \"parquet\", \"arrow\", \"csv\"]`"
   ]
  },
  {
   "cell_type": "code",
   "execution_count": 11,
   "metadata": {
    "execution": {
     "iopub.execute_input": "2024-05-17T14:34:16.085029Z",
     "iopub.status.busy": "2024-05-17T14:34:16.084685Z",
     "iopub.status.idle": "2024-05-17T14:34:16.088058Z",
     "shell.execute_reply": "2024-05-17T14:34:16.087622Z"
    }
   },
   "outputs": [
    {
     "name": "stdout",
     "output_type": "stream",
     "text": [
      "filename=filename\n",
      "Customer_CLV=PREDICTOR_1\n",
      "Customer_MaritalStatus=PREDICTOR_2\n",
      "Customer_City=PREDICTOR_3\n",
      "Context_Name=Context_Name\n",
      "IH_Web_Inbound_Accepted_pxLastGroupID=IH_Web_Inbound_Accepted_pxLastGroupID\n",
      "Decision_Outcome=Decision_Outcome\n",
      "\n"
     ]
    }
   ],
   "source": [
    "anon.create_mapping_file()\n",
    "with open('mapping.map') as f:\n",
    "    print(f.read())"
   ]
  },
  {
   "cell_type": "code",
   "execution_count": 12,
   "metadata": {
    "execution": {
     "iopub.execute_input": "2024-05-17T14:34:16.090071Z",
     "iopub.status.busy": "2024-05-17T14:34:16.089748Z",
     "iopub.status.idle": "2024-05-17T14:34:16.093459Z",
     "shell.execute_reply": "2024-05-17T14:34:16.093011Z"
    }
   },
   "outputs": [],
   "source": [
    "anon.write_to_output(ext='arrow')"
   ]
  },
  {
   "cell_type": "code",
   "execution_count": 13,
   "metadata": {
    "execution": {
     "iopub.execute_input": "2024-05-17T14:34:16.095542Z",
     "iopub.status.busy": "2024-05-17T14:34:16.095211Z",
     "iopub.status.idle": "2024-05-17T14:34:16.100108Z",
     "shell.execute_reply": "2024-05-17T14:34:16.099658Z"
    }
   },
   "outputs": [
    {
     "data": {
      "text/html": [
       "<div><style>\n",
       ".dataframe > thead > tr,\n",
       ".dataframe > tbody > tr {\n",
       "  text-align: right;\n",
       "  white-space: pre-wrap;\n",
       "}\n",
       "</style>\n",
       "<small>shape: (7, 6)</small><table border=\"1\" class=\"dataframe\"><thead><tr><th>PREDICTOR_1</th><th>PREDICTOR_2</th><th>PREDICTOR_3</th><th>Context_Name</th><th>IH_Web_Inbound_Accepted_pxLastGroupID</th><th>Decision_Outcome</th></tr><tr><td>f64</td><td>str</td><td>str</td><td>str</td><td>str</td><td>str</td></tr></thead><tbody><tr><td>1.4553e18</td><td>&quot;1677290861643629533&quot;</td><td>&quot;675924639818905441&quot;</td><td>&quot;FirstMortgage30yr&quot;</td><td>&quot;7325192143980280913&quot;</td><td>&quot;Rejected&quot;</td></tr><tr><td>1.3342e19</td><td>&quot;3995997704274528624&quot;</td><td>&quot;12466662781232983786&quot;</td><td>&quot;FirstMortgage30yr&quot;</td><td>&quot;11250321987204776838&quot;</td><td>&quot;Accepted&quot;</td></tr><tr><td>6.4610e18</td><td>&quot;299236262880695810&quot;</td><td>&quot;14480333672661849787&quot;</td><td>&quot;MoneyMarketSavingsAccount&quot;</td><td>&quot;7325192143980280913&quot;</td><td>&quot;Rejected&quot;</td></tr><tr><td>9.5945e18</td><td>&quot;3995997704274528624&quot;</td><td>&quot;10510107923994113798&quot;</td><td>&quot;BasicChecking&quot;</td><td>&quot;7325192143980280913&quot;</td><td>&quot;Rejected&quot;</td></tr><tr><td>8.8990e18</td><td>&quot;1677290861643629533&quot;</td><td>&quot;11351735953431803477&quot;</td><td>&quot;BasicChecking&quot;</td><td>&quot;14140642726280753534&quot;</td><td>&quot;Accepted&quot;</td></tr><tr><td>1.8116e19</td><td>&quot;299236262880695810&quot;</td><td>&quot;6705003666536151207&quot;</td><td>&quot;UPlusFinPersonal&quot;</td><td>null</td><td>&quot;Rejected&quot;</td></tr><tr><td>3.0632e18</td><td>&quot;299236262880695810&quot;</td><td>&quot;16498174082774312399&quot;</td><td>&quot;BasicChecking&quot;</td><td>&quot;14140642726280753534&quot;</td><td>&quot;Rejected&quot;</td></tr></tbody></table></div>"
      ],
      "text/plain": [
       "shape: (7, 6)\n",
       "┌─────────────┬────────────────┬────────────────┬────────────────┬────────────────┬────────────────┐\n",
       "│ PREDICTOR_1 ┆ PREDICTOR_2    ┆ PREDICTOR_3    ┆ Context_Name   ┆ IH_Web_Inbound ┆ Decision_Outco │\n",
       "│ ---         ┆ ---            ┆ ---            ┆ ---            ┆ _Accepted_pxLa ┆ me             │\n",
       "│ f64         ┆ str            ┆ str            ┆ str            ┆ st…            ┆ ---            │\n",
       "│             ┆                ┆                ┆                ┆ ---            ┆ str            │\n",
       "│             ┆                ┆                ┆                ┆ str            ┆                │\n",
       "╞═════════════╪════════════════╪════════════════╪════════════════╪════════════════╪════════════════╡\n",
       "│ 1.4553e18   ┆ 16772908616436 ┆ 67592463981890 ┆ FirstMortgage3 ┆ 73251921439802 ┆ Rejected       │\n",
       "│             ┆ 29533          ┆ 5441           ┆ 0yr            ┆ 80913          ┆                │\n",
       "│ 1.3342e19   ┆ 39959977042745 ┆ 12466662781232 ┆ FirstMortgage3 ┆ 11250321987204 ┆ Accepted       │\n",
       "│             ┆ 28624          ┆ 983786         ┆ 0yr            ┆ 776838         ┆                │\n",
       "│ 6.4610e18   ┆ 29923626288069 ┆ 14480333672661 ┆ MoneyMarketSav ┆ 73251921439802 ┆ Rejected       │\n",
       "│             ┆ 5810           ┆ 849787         ┆ ingsAccount    ┆ 80913          ┆                │\n",
       "│ 9.5945e18   ┆ 39959977042745 ┆ 10510107923994 ┆ BasicChecking  ┆ 73251921439802 ┆ Rejected       │\n",
       "│             ┆ 28624          ┆ 113798         ┆                ┆ 80913          ┆                │\n",
       "│ 8.8990e18   ┆ 16772908616436 ┆ 11351735953431 ┆ BasicChecking  ┆ 14140642726280 ┆ Accepted       │\n",
       "│             ┆ 29533          ┆ 803477         ┆                ┆ 753534         ┆                │\n",
       "│ 1.8116e19   ┆ 29923626288069 ┆ 67050036665361 ┆ UPlusFinPerson ┆ null           ┆ Rejected       │\n",
       "│             ┆ 5810           ┆ 51207          ┆ al             ┆                ┆                │\n",
       "│ 3.0632e18   ┆ 29923626288069 ┆ 16498174082774 ┆ BasicChecking  ┆ 14140642726280 ┆ Rejected       │\n",
       "│             ┆ 5810           ┆ 312399         ┆                ┆ 753534         ┆                │\n",
       "└─────────────┴────────────────┴────────────────┴────────────────┴────────────────┴────────────────┘"
      ]
     },
     "execution_count": 13,
     "metadata": {},
     "output_type": "execute_result"
    }
   ],
   "source": [
    "pl.read_ipc('output/hds.arrow')"
   ]
  },
  {
   "attachments": {},
   "cell_type": "markdown",
   "metadata": {
    "nbsphinx": "hidden"
   },
   "source": [
    "## Advanced: Hash fuctions\n",
    "\n",
    "By default, we use [the same hashing algorithm Polars](https://pola-rs.github.io/polars/py-polars/html/reference/expressions/api/polars.Expr.hash.html#polars.Expr.hash) uses: [xxhash](https://github.com/Cyan4973/xxHash), as implemented [here](https://github.com/pola-rs/polars/blob/3f287f370b3c388ed2f3f218b2c096382548136f/polars/polars-core/src/vector_hasher.rs#L266). xxhash is fast to compute, and you can check its performance in collision, dispersion and randomness [here](https://github.com/Cyan4973/xxHash/tree/dev/tests). \n",
    "\n",
    "xxhash accepts four distinct seeds, but by default we set the seeds to `0`. It is possible to set the `seed` argument of the `process()` function to `'random'`, which will set all four seeds to a random integer between `0` and `1000000000`. Alternatively, it is possible to supply the four seeds manually with arguments `seed`, `seed_1`, `seed_2` and `seed_3`. \n",
    "\n",
    "If the xxhash with (random) seed(s) is not deemed sufficiently secure, it is possible to use your own hashing algorithm.\n",
    "\n",
    "Note that since we're now running python code and not native Polars code anymore, this will be _significantly_ slower. Nonetheless, it is possible.\n",
    "\n",
    "Just as an example - this is how one would use sha3_256:"
   ]
  },
  {
   "cell_type": "code",
   "execution_count": 14,
   "metadata": {
    "execution": {
     "iopub.execute_input": "2024-05-17T14:34:16.102163Z",
     "iopub.status.busy": "2024-05-17T14:34:16.101830Z",
     "iopub.status.idle": "2024-05-17T14:34:16.432456Z",
     "shell.execute_reply": "2024-05-17T14:34:16.431846Z"
    },
    "nbsphinx": "hidden"
   },
   "outputs": [
    {
     "name": "stderr",
     "output_type": "stream",
     "text": [
      "sys:1: MapWithoutReturnDtypeWarning:\n",
      "\n",
      "Calling `map_elements` without specifying `return_dtype` can lead to unpredictable results. Specify `return_dtype` to silence this warning.\n",
      "\n",
      "sys:1: MapWithoutReturnDtypeWarning:\n",
      "\n",
      "Calling `map_elements` without specifying `return_dtype` can lead to unpredictable results. Specify `return_dtype` to silence this warning.\n",
      "\n",
      "sys:1: MapWithoutReturnDtypeWarning:\n",
      "\n",
      "Calling `map_elements` without specifying `return_dtype` can lead to unpredictable results. Specify `return_dtype` to silence this warning.\n",
      "\n",
      "sys:1: MapWithoutReturnDtypeWarning:\n",
      "\n",
      "Calling `map_elements` without specifying `return_dtype` can lead to unpredictable results. Specify `return_dtype` to silence this warning.\n",
      "\n"
     ]
    },
    {
     "ename": "ComputeError",
     "evalue": "AttributeError: 'int' object has no attribute 'encode'",
     "output_type": "error",
     "traceback": [
      "\u001b[0;31m---------------------------------------------------------------------------\u001b[0m",
      "\u001b[0;31mComputeError\u001b[0m                              Traceback (most recent call last)",
      "Cell \u001b[0;32mIn[14], line 3\u001b[0m\n\u001b[1;32m      1\u001b[0m \u001b[38;5;28;01mfrom\u001b[39;00m \u001b[38;5;21;01mhashlib\u001b[39;00m \u001b[38;5;28;01mimport\u001b[39;00m sha3_256\n\u001b[0;32m----> 3\u001b[0m \u001b[43manon\u001b[49m\u001b[38;5;241;43m.\u001b[39;49m\u001b[43mprocess\u001b[49m\u001b[43m(\u001b[49m\u001b[43malgorithm\u001b[49m\u001b[38;5;241;43m=\u001b[39;49m\u001b[38;5;28;43;01mlambda\u001b[39;49;00m\u001b[43m \u001b[49m\u001b[43mx\u001b[49m\u001b[43m:\u001b[49m\u001b[43m \u001b[49m\u001b[43msha3_256\u001b[49m\u001b[43m(\u001b[49m\u001b[43mx\u001b[49m\u001b[38;5;241;43m.\u001b[39;49m\u001b[43mencode\u001b[49m\u001b[43m(\u001b[49m\u001b[43m)\u001b[49m\u001b[43m)\u001b[49m\u001b[38;5;241;43m.\u001b[39;49m\u001b[43mhexdigest\u001b[49m\u001b[43m(\u001b[49m\u001b[43m)\u001b[49m\u001b[43m)\u001b[49m\n",
      "File \u001b[0;32m~/work/pega-datascientist-tools/pega-datascientist-tools/python/docs/source/articles/../../../pdstools/utils/hds_utils.py:512\u001b[0m, in \u001b[0;36mDataAnonymization.process\u001b[0;34m(self, strategy, **kwargs)\u001b[0m\n\u001b[1;32m    510\u001b[0m df \u001b[38;5;241m=\u001b[39m df\u001b[38;5;241m.\u001b[39mselect(\u001b[38;5;28mself\u001b[39m\u001b[38;5;241m.\u001b[39mcolumn_mapping\u001b[38;5;241m.\u001b[39mkeys())\u001b[38;5;241m.\u001b[39mrename(\u001b[38;5;28mself\u001b[39m\u001b[38;5;241m.\u001b[39mcolumn_mapping)\n\u001b[1;32m    511\u001b[0m \u001b[38;5;28;01mif\u001b[39;00m strategy \u001b[38;5;241m==\u001b[39m \u001b[38;5;124m\"\u001b[39m\u001b[38;5;124meager\u001b[39m\u001b[38;5;124m\"\u001b[39m:\n\u001b[0;32m--> 512\u001b[0m     \u001b[38;5;28;01mreturn\u001b[39;00m \u001b[43mdf\u001b[49m\u001b[38;5;241;43m.\u001b[39;49m\u001b[43mcollect\u001b[49m\u001b[43m(\u001b[49m\u001b[43m)\u001b[49m\n\u001b[1;32m    513\u001b[0m \u001b[38;5;28;01mreturn\u001b[39;00m df\n",
      "File \u001b[0;32m/opt/hostedtoolcache/Python/3.11.9/x64/lib/python3.11/site-packages/polars/lazyframe/frame.py:1816\u001b[0m, in \u001b[0;36mLazyFrame.collect\u001b[0;34m(self, type_coercion, predicate_pushdown, projection_pushdown, simplify_expression, slice_pushdown, comm_subplan_elim, comm_subexpr_elim, no_optimization, streaming, background, _eager, **_kwargs)\u001b[0m\n\u001b[1;32m   1813\u001b[0m \u001b[38;5;66;03m# Only for testing purposes atm.\u001b[39;00m\n\u001b[1;32m   1814\u001b[0m callback \u001b[38;5;241m=\u001b[39m _kwargs\u001b[38;5;241m.\u001b[39mget(\u001b[38;5;124m\"\u001b[39m\u001b[38;5;124mpost_opt_callback\u001b[39m\u001b[38;5;124m\"\u001b[39m)\n\u001b[0;32m-> 1816\u001b[0m \u001b[38;5;28;01mreturn\u001b[39;00m wrap_df(\u001b[43mldf\u001b[49m\u001b[38;5;241;43m.\u001b[39;49m\u001b[43mcollect\u001b[49m\u001b[43m(\u001b[49m\u001b[43mcallback\u001b[49m\u001b[43m)\u001b[49m)\n",
      "\u001b[0;31mComputeError\u001b[0m: AttributeError: 'int' object has no attribute 'encode'"
     ]
    }
   ],
   "source": [
    "from hashlib import sha3_256\n",
    "\n",
    "anon.process(algorithm=lambda x: sha3_256(x.encode()).hexdigest())"
   ]
  }
 ],
 "metadata": {
  "kernelspec": {
   "display_name": "Python 3",
   "language": "python",
   "name": "python3"
  },
  "language_info": {
   "codemirror_mode": {
    "name": "ipython",
    "version": 3
   },
   "file_extension": ".py",
   "mimetype": "text/x-python",
   "name": "python",
   "nbconvert_exporter": "python",
   "pygments_lexer": "ipython3",
   "version": "3.11.9"
  },
  "vscode": {
   "interpreter": {
    "hash": "aee8b7b246df8f9039afb4144a1f6fd8d2ca17a180786b69acc140d282b71a49"
   }
  }
 },
 "nbformat": 4,
 "nbformat_minor": 2
}
