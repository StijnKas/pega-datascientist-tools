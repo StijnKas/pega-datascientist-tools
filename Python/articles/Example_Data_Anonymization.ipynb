{
 "cells": [
  {
   "attachments": {},
   "cell_type": "markdown",
   "metadata": {},
   "source": [
    "# Example data anonymization\n",
    "\n",
    "In Pega CDH 8.5 and up, it's now possible to record the historical data as seen by the Adaptive Models. See [this academy challenge](https://academy.pega.com/challenge/exporting-historical-data/v4) for reference. This historical data can be further used to experiment with offline models, but also to fine-tune the OOTB Gradient Boosting model. However, sharing this information with Pega can be sensitive as it contains raw predictor data. \n",
    "\n",
    "To this end, we provide a simple and transparent script to fully anonimize this dataset.\n",
    "\n",
    "The DataAnonymization script is now part of pdstools, and you can import it directly as such."
   ]
  },
  {
   "cell_type": "code",
   "execution_count": 1,
   "metadata": {
    "execution": {
     "iopub.execute_input": "2023-07-28T14:46:50.232244Z",
     "iopub.status.busy": "2023-07-28T14:46:50.231998Z",
     "iopub.status.idle": "2023-07-28T14:46:50.238292Z",
     "shell.execute_reply": "2023-07-28T14:46:50.237695Z"
    },
    "nbsphinx": "hidden"
   },
   "outputs": [],
   "source": [
    "# These lines are only for rendering in the docs, and are hidden through Jupyter tags\n",
    "# Do not run if you're running the notebook seperately\n",
    "\n",
    "import sys\n",
    "sys.path.append('../../../')"
   ]
  },
  {
   "cell_type": "code",
   "execution_count": 2,
   "metadata": {
    "execution": {
     "iopub.execute_input": "2023-07-28T14:46:50.241157Z",
     "iopub.status.busy": "2023-07-28T14:46:50.240753Z",
     "iopub.status.idle": "2023-07-28T14:46:51.467109Z",
     "shell.execute_reply": "2023-07-28T14:46:51.466459Z"
    }
   },
   "outputs": [],
   "source": [
    "from pdstools import ADMDatamart\n",
    "from pdstools import Config, DataAnonymization\n",
    "import polars as pl"
   ]
  },
  {
   "attachments": {},
   "cell_type": "markdown",
   "metadata": {},
   "source": [
    "## Input data\n",
    "\n",
    "To demonstrate this process, we're going to anonymise this toy example dataframe:"
   ]
  },
  {
   "cell_type": "code",
   "execution_count": 3,
   "metadata": {
    "execution": {
     "iopub.execute_input": "2023-07-28T14:46:51.470285Z",
     "iopub.status.busy": "2023-07-28T14:46:51.469798Z",
     "iopub.status.idle": "2023-07-28T14:46:51.484788Z",
     "shell.execute_reply": "2023-07-28T14:46:51.484213Z"
    }
   },
   "outputs": [
    {
     "data": {
      "text/html": [
       "<div><style>\n",
       ".dataframe > thead > tr > th,\n",
       ".dataframe > tbody > tr > td {\n",
       "  text-align: right;\n",
       "}\n",
       "</style>\n",
       "<small>shape: (7, 6)</small><table border=\"1\" class=\"dataframe\"><thead><tr><th>Context_Name</th><th>Customer_MaritalStatus</th><th>Customer_CLV</th><th>Customer_City</th><th>IH_Web_Inbound_Accepted_pxLastGroupID</th><th>Decision_Outcome</th></tr><tr><td>str</td><td>str</td><td>i64</td><td>str</td><td>str</td><td>str</td></tr></thead><tbody><tr><td>&quot;FirstMortgage3…</td><td>&quot;Married&quot;</td><td>1460</td><td>&quot;Port Raoul&quot;</td><td>&quot;Account&quot;</td><td>&quot;Rejected&quot;</td></tr><tr><td>&quot;FirstMortgage3…</td><td>&quot;Unknown&quot;</td><td>669</td><td>&quot;Laurianneshire…</td><td>&quot;AutoLoans&quot;</td><td>&quot;Accepted&quot;</td></tr><tr><td>&quot;MoneyMarketSav…</td><td>&quot;No Resp+&quot;</td><td>1174</td><td>&quot;Jacobshaven&quot;</td><td>&quot;Account&quot;</td><td>&quot;Rejected&quot;</td></tr><tr><td>&quot;BasicChecking&quot;</td><td>&quot;Unknown&quot;</td><td>1476</td><td>&quot;Lindton&quot;</td><td>&quot;Account&quot;</td><td>&quot;Rejected&quot;</td></tr><tr><td>&quot;BasicChecking&quot;</td><td>&quot;Married&quot;</td><td>1211</td><td>&quot;South Jimmiesh…</td><td>&quot;DepositAccount…</td><td>&quot;Accepted&quot;</td></tr><tr><td>&quot;UPlusFinPerson…</td><td>&quot;No Resp+&quot;</td><td>533</td><td>&quot;Bergeville&quot;</td><td>null</td><td>&quot;Rejected&quot;</td></tr><tr><td>&quot;BasicChecking&quot;</td><td>&quot;No Resp+&quot;</td><td>555</td><td>&quot;Willyville&quot;</td><td>&quot;DepositAccount…</td><td>&quot;Rejected&quot;</td></tr></tbody></table></div>"
      ],
      "text/plain": [
       "shape: (7, 6)\n",
       "┌────────────────┬────────────────┬──────────────┬────────────────┬────────────────┬───────────────┐\n",
       "│ Context_Name   ┆ Customer_Marit ┆ Customer_CLV ┆ Customer_City  ┆ IH_Web_Inbound ┆ Decision_Outc │\n",
       "│ ---            ┆ alStatus       ┆ ---          ┆ ---            ┆ _Accepted_pxLa ┆ ome           │\n",
       "│ str            ┆ ---            ┆ i64          ┆ str            ┆ stGr…          ┆ ---           │\n",
       "│                ┆ str            ┆              ┆                ┆ ---            ┆ str           │\n",
       "│                ┆                ┆              ┆                ┆ str            ┆               │\n",
       "╞════════════════╪════════════════╪══════════════╪════════════════╪════════════════╪═══════════════╡\n",
       "│ FirstMortgage3 ┆ Married        ┆ 1460         ┆ Port Raoul     ┆ Account        ┆ Rejected      │\n",
       "│ 0yr            ┆                ┆              ┆                ┆                ┆               │\n",
       "│ FirstMortgage3 ┆ Unknown        ┆ 669          ┆ Laurianneshire ┆ AutoLoans      ┆ Accepted      │\n",
       "│ 0yr            ┆                ┆              ┆                ┆                ┆               │\n",
       "│ MoneyMarketSav ┆ No Resp+       ┆ 1174         ┆ Jacobshaven    ┆ Account        ┆ Rejected      │\n",
       "│ ingsAccount    ┆                ┆              ┆                ┆                ┆               │\n",
       "│ BasicChecking  ┆ Unknown        ┆ 1476         ┆ Lindton        ┆ Account        ┆ Rejected      │\n",
       "│ BasicChecking  ┆ Married        ┆ 1211         ┆ South          ┆ DepositAccount ┆ Accepted      │\n",
       "│                ┆                ┆              ┆ Jimmieshire    ┆ s              ┆               │\n",
       "│ UPlusFinPerson ┆ No Resp+       ┆ 533          ┆ Bergeville     ┆ null           ┆ Rejected      │\n",
       "│ al             ┆                ┆              ┆                ┆                ┆               │\n",
       "│ BasicChecking  ┆ No Resp+       ┆ 555          ┆ Willyville     ┆ DepositAccount ┆ Rejected      │\n",
       "│                ┆                ┆              ┆                ┆ s              ┆               │\n",
       "└────────────────┴────────────────┴──────────────┴────────────────┴────────────────┴───────────────┘"
      ]
     },
     "execution_count": 3,
     "metadata": {},
     "output_type": "execute_result"
    }
   ],
   "source": [
    "pl.read_ndjson('../../../../data/SampleHDS.json')"
   ]
  },
  {
   "attachments": {},
   "cell_type": "markdown",
   "metadata": {},
   "source": [
    "As you can see, this dataset consists of regular predictors, IH predictors, context keys and the outcome column. Additionally, some columns are numeric, others are strings. Let's first initialize the DataAnonymization class."
   ]
  },
  {
   "cell_type": "code",
   "execution_count": 4,
   "metadata": {
    "execution": {
     "iopub.execute_input": "2023-07-28T14:46:51.487376Z",
     "iopub.status.busy": "2023-07-28T14:46:51.487038Z",
     "iopub.status.idle": "2023-07-28T14:46:51.496600Z",
     "shell.execute_reply": "2023-07-28T14:46:51.496005Z"
    }
   },
   "outputs": [],
   "source": [
    "anon = DataAnonymization(hds_folder='../../../../data/')"
   ]
  },
  {
   "attachments": {},
   "cell_type": "markdown",
   "metadata": {},
   "source": [
    "By default, the class applies a set of anonymisation techniques:\n",
    "- Column names are remapped to a non-descriptive name\n",
    "- Categorical values are hashed with a random seed\n",
    "- Numerical values are normalized between 0 and 1\n",
    "- Outcomes are mapped to a binary outcome.\n",
    "\n",
    "To apply these techniques, simply call `.process()`:"
   ]
  },
  {
   "cell_type": "code",
   "execution_count": 5,
   "metadata": {
    "execution": {
     "iopub.execute_input": "2023-07-28T14:46:51.499682Z",
     "iopub.status.busy": "2023-07-28T14:46:51.499339Z",
     "iopub.status.idle": "2023-07-28T14:46:51.507233Z",
     "shell.execute_reply": "2023-07-28T14:46:51.506616Z"
    }
   },
   "outputs": [
    {
     "data": {
      "text/html": [
       "<div><style>\n",
       ".dataframe > thead > tr > th,\n",
       ".dataframe > tbody > tr > td {\n",
       "  text-align: right;\n",
       "}\n",
       "</style>\n",
       "<small>shape: (7, 7)</small><table border=\"1\" class=\"dataframe\"><thead><tr><th>PREDICTOR_0</th><th>PREDICTOR_1</th><th>PREDICTOR_2</th><th>filename</th><th>Context_Name</th><th>IH_PREDICTOR_0</th><th>Decision_Outcome</th></tr><tr><td>str</td><td>f64</td><td>str</td><td>str</td><td>str</td><td>str</td><td>bool</td></tr></thead><tbody><tr><td>&quot;15096273807482…</td><td>1.2927e19</td><td>&quot;10415247725929…</td><td>&quot;../../../../da…</td><td>&quot;12648062268803…</td><td>&quot;99287446608352…</td><td>false</td></tr><tr><td>&quot;61257060577359…</td><td>1.4856e19</td><td>&quot;13111856708695…</td><td>&quot;../../../../da…</td><td>&quot;12648062268803…</td><td>&quot;12356567898157…</td><td>true</td></tr><tr><td>&quot;11902218263299…</td><td>5.6458e17</td><td>&quot;16517698360900…</td><td>&quot;../../../../da…</td><td>&quot;63765380661399…</td><td>&quot;99287446608352…</td><td>false</td></tr><tr><td>&quot;61257060577359…</td><td>4.0723e18</td><td>&quot;12519793148166…</td><td>&quot;../../../../da…</td><td>&quot;16611727256486…</td><td>&quot;99287446608352…</td><td>false</td></tr><tr><td>&quot;15096273807482…</td><td>1.4677e19</td><td>&quot;72518800370992…</td><td>&quot;../../../../da…</td><td>&quot;16611727256486…</td><td>&quot;15652857007510…</td><td>true</td></tr><tr><td>&quot;11902218263299…</td><td>1.6330e19</td><td>&quot;25036157208598…</td><td>&quot;../../../../da…</td><td>&quot;16501365737861…</td><td>null</td><td>false</td></tr><tr><td>&quot;11902218263299…</td><td>8.7675e18</td><td>&quot;14941435984849…</td><td>&quot;../../../../da…</td><td>&quot;16611727256486…</td><td>&quot;15652857007510…</td><td>false</td></tr></tbody></table></div>"
      ],
      "text/plain": [
       "shape: (7, 7)\n",
       "┌──────────────┬─────────────┬─────────────┬─────────────┬─────────────┬─────────────┬─────────────┐\n",
       "│ PREDICTOR_0  ┆ PREDICTOR_1 ┆ PREDICTOR_2 ┆ filename    ┆ Context_Nam ┆ IH_PREDICTO ┆ Decision_Ou │\n",
       "│ ---          ┆ ---         ┆ ---         ┆ ---         ┆ e           ┆ R_0         ┆ tcome       │\n",
       "│ str          ┆ f64         ┆ str         ┆ str         ┆ ---         ┆ ---         ┆ ---         │\n",
       "│              ┆             ┆             ┆             ┆ str         ┆ str         ┆ bool        │\n",
       "╞══════════════╪═════════════╪═════════════╪═════════════╪═════════════╪═════════════╪═════════════╡\n",
       "│ 150962738074 ┆ 1.2927e19   ┆ 10415247725 ┆ ../../../.. ┆ 12648062268 ┆ 99287446608 ┆ false       │\n",
       "│ 82853270     ┆             ┆ 929005367   ┆ /data/Sampl ┆ 803079188   ┆ 3523283     ┆             │\n",
       "│              ┆             ┆             ┆ eHDS.json   ┆             ┆             ┆             │\n",
       "│ 612570605773 ┆ 1.4856e19   ┆ 13111856708 ┆ ../../../.. ┆ 12648062268 ┆ 12356567898 ┆ true        │\n",
       "│ 5976773      ┆             ┆ 695882518   ┆ /data/Sampl ┆ 803079188   ┆ 157503034   ┆             │\n",
       "│              ┆             ┆             ┆ eHDS.json   ┆             ┆             ┆             │\n",
       "│ 119022182632 ┆ 5.6458e17   ┆ 16517698360 ┆ ../../../.. ┆ 63765380661 ┆ 99287446608 ┆ false       │\n",
       "│ 99227952     ┆             ┆ 900743562   ┆ /data/Sampl ┆ 39960694    ┆ 3523283     ┆             │\n",
       "│              ┆             ┆             ┆ eHDS.json   ┆             ┆             ┆             │\n",
       "│ 612570605773 ┆ 4.0723e18   ┆ 12519793148 ┆ ../../../.. ┆ 16611727256 ┆ 99287446608 ┆ false       │\n",
       "│ 5976773      ┆             ┆ 166199412   ┆ /data/Sampl ┆ 486528006   ┆ 3523283     ┆             │\n",
       "│              ┆             ┆             ┆ eHDS.json   ┆             ┆             ┆             │\n",
       "│ 150962738074 ┆ 1.4677e19   ┆ 72518800370 ┆ ../../../.. ┆ 16611727256 ┆ 15652857007 ┆ true        │\n",
       "│ 82853270     ┆             ┆ 99276272    ┆ /data/Sampl ┆ 486528006   ┆ 510387923   ┆             │\n",
       "│              ┆             ┆             ┆ eHDS.json   ┆             ┆             ┆             │\n",
       "│ 119022182632 ┆ 1.6330e19   ┆ 25036157208 ┆ ../../../.. ┆ 16501365737 ┆ null        ┆ false       │\n",
       "│ 99227952     ┆             ┆ 59824900    ┆ /data/Sampl ┆ 86129772    ┆             ┆             │\n",
       "│              ┆             ┆             ┆ eHDS.json   ┆             ┆             ┆             │\n",
       "│ 119022182632 ┆ 8.7675e18   ┆ 14941435984 ┆ ../../../.. ┆ 16611727256 ┆ 15652857007 ┆ false       │\n",
       "│ 99227952     ┆             ┆ 849622112   ┆ /data/Sampl ┆ 486528006   ┆ 510387923   ┆             │\n",
       "│              ┆             ┆             ┆ eHDS.json   ┆             ┆             ┆             │\n",
       "└──────────────┴─────────────┴─────────────┴─────────────┴─────────────┴─────────────┴─────────────┘"
      ]
     },
     "execution_count": 5,
     "metadata": {},
     "output_type": "execute_result"
    }
   ],
   "source": [
    "anon.process()"
   ]
  },
  {
   "attachments": {},
   "cell_type": "markdown",
   "metadata": {},
   "source": [
    "To trace back the columns to their original names, the class also contains a mapping, which does not have to be provided."
   ]
  },
  {
   "cell_type": "code",
   "execution_count": 6,
   "metadata": {
    "execution": {
     "iopub.execute_input": "2023-07-28T14:46:51.510200Z",
     "iopub.status.busy": "2023-07-28T14:46:51.509782Z",
     "iopub.status.idle": "2023-07-28T14:46:51.514160Z",
     "shell.execute_reply": "2023-07-28T14:46:51.513564Z"
    }
   },
   "outputs": [
    {
     "data": {
      "text/plain": [
       "{'Customer_MaritalStatus': 'PREDICTOR_0',\n",
       " 'Customer_CLV': 'PREDICTOR_1',\n",
       " 'Customer_City': 'PREDICTOR_2',\n",
       " 'filename': 'filename',\n",
       " 'Context_Name': 'Context_Name',\n",
       " 'IH_Web_Inbound_Accepted_pxLastGroupID': 'IH_PREDICTOR_0',\n",
       " 'Decision_Outcome': 'Decision_Outcome'}"
      ]
     },
     "execution_count": 6,
     "metadata": {},
     "output_type": "execute_result"
    }
   ],
   "source": [
    "anon.column_mapping"
   ]
  },
  {
   "attachments": {},
   "cell_type": "markdown",
   "metadata": {},
   "source": [
    "## Configs\n",
    "\n",
    "Each capability can optionally be turned off - see below for the full list of config options, and refer to the API reference for the full description."
   ]
  },
  {
   "cell_type": "code",
   "execution_count": 7,
   "metadata": {
    "execution": {
     "iopub.execute_input": "2023-07-28T14:46:51.517349Z",
     "iopub.status.busy": "2023-07-28T14:46:51.516949Z",
     "iopub.status.idle": "2023-07-28T14:46:51.521784Z",
     "shell.execute_reply": "2023-07-28T14:46:51.521197Z"
    }
   },
   "outputs": [
    {
     "data": {
      "text/plain": [
       "{'config_file': None,\n",
       " 'hds_folder': '.',\n",
       " 'use_datamart': False,\n",
       " 'datamart_folder': 'datamart',\n",
       " 'output_format': 'ndjson',\n",
       " 'output_folder': 'output',\n",
       " 'mapping_file': 'mapping.map',\n",
       " 'mask_predictor_names': True,\n",
       " 'mask_context_key_names': False,\n",
       " 'mask_ih_names': True,\n",
       " 'mask_outcome_name': False,\n",
       " 'mask_predictor_values': True,\n",
       " 'mask_context_key_values': True,\n",
       " 'mask_ih_values': True,\n",
       " 'mask_outcome_values': True,\n",
       " 'context_key_label': 'Context_*',\n",
       " 'ih_label': 'IH_*',\n",
       " 'outcome_column': 'Decision_Outcome',\n",
       " 'positive_outcomes': ['Accepted', 'Clicked'],\n",
       " 'negative_outcomes': ['Rejected', 'Impression'],\n",
       " 'special_predictors': ['Decision_DecisionTime',\n",
       "  'Decision_OutcomeTime',\n",
       "  'Decision_Rank'],\n",
       " 'sample_percentage_schema_inferencing': 0.01}"
      ]
     },
     "execution_count": 7,
     "metadata": {},
     "output_type": "execute_result"
    }
   ],
   "source": [
    "dict(zip(Config.__init__.__code__.co_varnames[1:], Config.__init__.__defaults__))"
   ]
  },
  {
   "attachments": {},
   "cell_type": "markdown",
   "metadata": {},
   "source": [
    "It's easy to change these parameters by just passing the keyword arguments. In the following example, we\n",
    "- Keep the IH predictor names\n",
    "- Keep the outcome values\n",
    "- Keep the context key values\n",
    "- Keep the context key predictor names"
   ]
  },
  {
   "cell_type": "code",
   "execution_count": 8,
   "metadata": {
    "execution": {
     "iopub.execute_input": "2023-07-28T14:46:51.524919Z",
     "iopub.status.busy": "2023-07-28T14:46:51.524675Z",
     "iopub.status.idle": "2023-07-28T14:46:51.536142Z",
     "shell.execute_reply": "2023-07-28T14:46:51.535523Z"
    }
   },
   "outputs": [
    {
     "data": {
      "text/html": [
       "<div><style>\n",
       ".dataframe > thead > tr > th,\n",
       ".dataframe > tbody > tr > td {\n",
       "  text-align: right;\n",
       "}\n",
       "</style>\n",
       "<small>shape: (7, 7)</small><table border=\"1\" class=\"dataframe\"><thead><tr><th>PREDICTOR_0</th><th>PREDICTOR_1</th><th>PREDICTOR_2</th><th>filename</th><th>Context_Name</th><th>IH_Web_Inbound_Accepted_pxLastGroupID</th><th>Decision_Outcome</th></tr><tr><td>str</td><td>f64</td><td>str</td><td>str</td><td>str</td><td>str</td><td>str</td></tr></thead><tbody><tr><td>&quot;23029588801737…</td><td>1.2927e19</td><td>&quot;12211140240965…</td><td>&quot;../../../../da…</td><td>&quot;FirstMortgage3…</td><td>&quot;68556019509914…</td><td>&quot;Rejected&quot;</td></tr><tr><td>&quot;14177360389680…</td><td>1.4856e19</td><td>&quot;10171804429325…</td><td>&quot;../../../../da…</td><td>&quot;FirstMortgage3…</td><td>&quot;26073375048139…</td><td>&quot;Accepted&quot;</td></tr><tr><td>&quot;10442335066897…</td><td>5.6458e17</td><td>&quot;15700251806466…</td><td>&quot;../../../../da…</td><td>&quot;MoneyMarketSav…</td><td>&quot;68556019509914…</td><td>&quot;Rejected&quot;</td></tr><tr><td>&quot;14177360389680…</td><td>4.0723e18</td><td>&quot;10909096629321…</td><td>&quot;../../../../da…</td><td>&quot;BasicChecking&quot;</td><td>&quot;68556019509914…</td><td>&quot;Rejected&quot;</td></tr><tr><td>&quot;23029588801737…</td><td>1.4677e19</td><td>&quot;51873974850132…</td><td>&quot;../../../../da…</td><td>&quot;BasicChecking&quot;</td><td>&quot;11290065006489…</td><td>&quot;Accepted&quot;</td></tr><tr><td>&quot;10442335066897…</td><td>1.6330e19</td><td>&quot;11148123836310…</td><td>&quot;../../../../da…</td><td>&quot;UPlusFinPerson…</td><td>null</td><td>&quot;Rejected&quot;</td></tr><tr><td>&quot;10442335066897…</td><td>8.7675e18</td><td>&quot;18367806767731…</td><td>&quot;../../../../da…</td><td>&quot;BasicChecking&quot;</td><td>&quot;11290065006489…</td><td>&quot;Rejected&quot;</td></tr></tbody></table></div>"
      ],
      "text/plain": [
       "shape: (7, 7)\n",
       "┌──────────────┬─────────────┬─────────────┬─────────────┬─────────────┬─────────────┬─────────────┐\n",
       "│ PREDICTOR_0  ┆ PREDICTOR_1 ┆ PREDICTOR_2 ┆ filename    ┆ Context_Nam ┆ IH_Web_Inbo ┆ Decision_Ou │\n",
       "│ ---          ┆ ---         ┆ ---         ┆ ---         ┆ e           ┆ und_Accepte ┆ tcome       │\n",
       "│ str          ┆ f64         ┆ str         ┆ str         ┆ ---         ┆ d_pxLastGr… ┆ ---         │\n",
       "│              ┆             ┆             ┆             ┆ str         ┆ ---         ┆ str         │\n",
       "│              ┆             ┆             ┆             ┆             ┆ str         ┆             │\n",
       "╞══════════════╪═════════════╪═════════════╪═════════════╪═════════════╪═════════════╪═════════════╡\n",
       "│ 230295888017 ┆ 1.2927e19   ┆ 12211140240 ┆ ../../../.. ┆ FirstMortga ┆ 68556019509 ┆ Rejected    │\n",
       "│ 3743986      ┆             ┆ 965874915   ┆ /data/Sampl ┆ ge30yr      ┆ 91440113    ┆             │\n",
       "│              ┆             ┆             ┆ eHDS.json   ┆             ┆             ┆             │\n",
       "│ 141773603896 ┆ 1.4856e19   ┆ 10171804429 ┆ ../../../.. ┆ FirstMortga ┆ 26073375048 ┆ Accepted    │\n",
       "│ 80319309     ┆             ┆ 325487613   ┆ /data/Sampl ┆ ge30yr      ┆ 13921498    ┆             │\n",
       "│              ┆             ┆             ┆ eHDS.json   ┆             ┆             ┆             │\n",
       "│ 104423350668 ┆ 5.6458e17   ┆ 15700251806 ┆ ../../../.. ┆ MoneyMarket ┆ 68556019509 ┆ Rejected    │\n",
       "│ 97325284     ┆             ┆ 466679835   ┆ /data/Sampl ┆ SavingsAcco ┆ 91440113    ┆             │\n",
       "│              ┆             ┆             ┆ eHDS.json   ┆ unt         ┆             ┆             │\n",
       "│ 141773603896 ┆ 4.0723e18   ┆ 10909096629 ┆ ../../../.. ┆ BasicChecki ┆ 68556019509 ┆ Rejected    │\n",
       "│ 80319309     ┆             ┆ 321703840   ┆ /data/Sampl ┆ ng          ┆ 91440113    ┆             │\n",
       "│              ┆             ┆             ┆ eHDS.json   ┆             ┆             ┆             │\n",
       "│ 230295888017 ┆ 1.4677e19   ┆ 51873974850 ┆ ../../../.. ┆ BasicChecki ┆ 11290065006 ┆ Accepted    │\n",
       "│ 3743986      ┆             ┆ 13293224    ┆ /data/Sampl ┆ ng          ┆ 489817600   ┆             │\n",
       "│              ┆             ┆             ┆ eHDS.json   ┆             ┆             ┆             │\n",
       "│ 104423350668 ┆ 1.6330e19   ┆ 11148123836 ┆ ../../../.. ┆ UPlusFinPer ┆ null        ┆ Rejected    │\n",
       "│ 97325284     ┆             ┆ 310971247   ┆ /data/Sampl ┆ sonal       ┆             ┆             │\n",
       "│              ┆             ┆             ┆ eHDS.json   ┆             ┆             ┆             │\n",
       "│ 104423350668 ┆ 8.7675e18   ┆ 18367806767 ┆ ../../../.. ┆ BasicChecki ┆ 11290065006 ┆ Rejected    │\n",
       "│ 97325284     ┆             ┆ 73141958    ┆ /data/Sampl ┆ ng          ┆ 489817600   ┆             │\n",
       "│              ┆             ┆             ┆ eHDS.json   ┆             ┆             ┆             │\n",
       "└──────────────┴─────────────┴─────────────┴─────────────┴─────────────┴─────────────┴─────────────┘"
      ]
     },
     "execution_count": 8,
     "metadata": {},
     "output_type": "execute_result"
    }
   ],
   "source": [
    "anon = DataAnonymization(\n",
    "    hds_folder='../../../../data/',\n",
    "    mask_ih_names=False,\n",
    "    mask_outcome_values=False,\n",
    "    mask_context_key_values=False,\n",
    "    mask_context_key_names=False,\n",
    ")\n",
    "anon.process()\n"
   ]
  },
  {
   "attachments": {},
   "cell_type": "markdown",
   "metadata": {},
   "source": [
    "The configs can also be written and read as such:"
   ]
  },
  {
   "cell_type": "code",
   "execution_count": 9,
   "metadata": {
    "execution": {
     "iopub.execute_input": "2023-07-28T14:46:51.538788Z",
     "iopub.status.busy": "2023-07-28T14:46:51.538563Z",
     "iopub.status.idle": "2023-07-28T14:46:51.541833Z",
     "shell.execute_reply": "2023-07-28T14:46:51.541231Z"
    }
   },
   "outputs": [],
   "source": [
    "anon.config.save_to_config_file('config.json')"
   ]
  },
  {
   "cell_type": "code",
   "execution_count": 10,
   "metadata": {
    "execution": {
     "iopub.execute_input": "2023-07-28T14:46:51.544430Z",
     "iopub.status.busy": "2023-07-28T14:46:51.544048Z",
     "iopub.status.idle": "2023-07-28T14:46:51.555438Z",
     "shell.execute_reply": "2023-07-28T14:46:51.554810Z"
    }
   },
   "outputs": [
    {
     "data": {
      "text/html": [
       "<div><style>\n",
       ".dataframe > thead > tr > th,\n",
       ".dataframe > tbody > tr > td {\n",
       "  text-align: right;\n",
       "}\n",
       "</style>\n",
       "<small>shape: (7, 7)</small><table border=\"1\" class=\"dataframe\"><thead><tr><th>PREDICTOR_0</th><th>PREDICTOR_1</th><th>PREDICTOR_2</th><th>filename</th><th>Context_Name</th><th>IH_Web_Inbound_Accepted_pxLastGroupID</th><th>Decision_Outcome</th></tr><tr><td>str</td><td>f64</td><td>str</td><td>str</td><td>str</td><td>str</td><td>str</td></tr></thead><tbody><tr><td>&quot;14566395798993…</td><td>1.2927e19</td><td>&quot;13663805578124…</td><td>&quot;../../../../da…</td><td>&quot;FirstMortgage3…</td><td>&quot;11068702459983…</td><td>&quot;Rejected&quot;</td></tr><tr><td>&quot;25716415769508…</td><td>1.4856e19</td><td>&quot;12088001521893…</td><td>&quot;../../../../da…</td><td>&quot;FirstMortgage3…</td><td>&quot;14460625516836…</td><td>&quot;Accepted&quot;</td></tr><tr><td>&quot;25229025346425…</td><td>5.6458e17</td><td>&quot;23497766869994…</td><td>&quot;../../../../da…</td><td>&quot;MoneyMarketSav…</td><td>&quot;11068702459983…</td><td>&quot;Rejected&quot;</td></tr><tr><td>&quot;25716415769508…</td><td>4.0723e18</td><td>&quot;10919314726274…</td><td>&quot;../../../../da…</td><td>&quot;BasicChecking&quot;</td><td>&quot;11068702459983…</td><td>&quot;Rejected&quot;</td></tr><tr><td>&quot;14566395798993…</td><td>1.4677e19</td><td>&quot;13950346289600…</td><td>&quot;../../../../da…</td><td>&quot;BasicChecking&quot;</td><td>&quot;11636884064162…</td><td>&quot;Accepted&quot;</td></tr><tr><td>&quot;25229025346425…</td><td>1.6330e19</td><td>&quot;10785687785651…</td><td>&quot;../../../../da…</td><td>&quot;UPlusFinPerson…</td><td>null</td><td>&quot;Rejected&quot;</td></tr><tr><td>&quot;25229025346425…</td><td>8.7675e18</td><td>&quot;14595475344767…</td><td>&quot;../../../../da…</td><td>&quot;BasicChecking&quot;</td><td>&quot;11636884064162…</td><td>&quot;Rejected&quot;</td></tr></tbody></table></div>"
      ],
      "text/plain": [
       "shape: (7, 7)\n",
       "┌──────────────┬─────────────┬─────────────┬─────────────┬─────────────┬─────────────┬─────────────┐\n",
       "│ PREDICTOR_0  ┆ PREDICTOR_1 ┆ PREDICTOR_2 ┆ filename    ┆ Context_Nam ┆ IH_Web_Inbo ┆ Decision_Ou │\n",
       "│ ---          ┆ ---         ┆ ---         ┆ ---         ┆ e           ┆ und_Accepte ┆ tcome       │\n",
       "│ str          ┆ f64         ┆ str         ┆ str         ┆ ---         ┆ d_pxLastGr… ┆ ---         │\n",
       "│              ┆             ┆             ┆             ┆ str         ┆ ---         ┆ str         │\n",
       "│              ┆             ┆             ┆             ┆             ┆ str         ┆             │\n",
       "╞══════════════╪═════════════╪═════════════╪═════════════╪═════════════╪═════════════╪═════════════╡\n",
       "│ 145663957989 ┆ 1.2927e19   ┆ 13663805578 ┆ ../../../.. ┆ FirstMortga ┆ 11068702459 ┆ Rejected    │\n",
       "│ 93575261     ┆             ┆ 124535746   ┆ /data/Sampl ┆ ge30yr      ┆ 983698906   ┆             │\n",
       "│              ┆             ┆             ┆ eHDS.json   ┆             ┆             ┆             │\n",
       "│ 257164157695 ┆ 1.4856e19   ┆ 12088001521 ┆ ../../../.. ┆ FirstMortga ┆ 14460625516 ┆ Accepted    │\n",
       "│ 0855646      ┆             ┆ 893842104   ┆ /data/Sampl ┆ ge30yr      ┆ 836498650   ┆             │\n",
       "│              ┆             ┆             ┆ eHDS.json   ┆             ┆             ┆             │\n",
       "│ 252290253464 ┆ 5.6458e17   ┆ 23497766869 ┆ ../../../.. ┆ MoneyMarket ┆ 11068702459 ┆ Rejected    │\n",
       "│ 2562204      ┆             ┆ 99451326    ┆ /data/Sampl ┆ SavingsAcco ┆ 983698906   ┆             │\n",
       "│              ┆             ┆             ┆ eHDS.json   ┆ unt         ┆             ┆             │\n",
       "│ 257164157695 ┆ 4.0723e18   ┆ 10919314726 ┆ ../../../.. ┆ BasicChecki ┆ 11068702459 ┆ Rejected    │\n",
       "│ 0855646      ┆             ┆ 274178309   ┆ /data/Sampl ┆ ng          ┆ 983698906   ┆             │\n",
       "│              ┆             ┆             ┆ eHDS.json   ┆             ┆             ┆             │\n",
       "│ 145663957989 ┆ 1.4677e19   ┆ 13950346289 ┆ ../../../.. ┆ BasicChecki ┆ 11636884064 ┆ Accepted    │\n",
       "│ 93575261     ┆             ┆ 60081994    ┆ /data/Sampl ┆ ng          ┆ 162884158   ┆             │\n",
       "│              ┆             ┆             ┆ eHDS.json   ┆             ┆             ┆             │\n",
       "│ 252290253464 ┆ 1.6330e19   ┆ 10785687785 ┆ ../../../.. ┆ UPlusFinPer ┆ null        ┆ Rejected    │\n",
       "│ 2562204      ┆             ┆ 651344861   ┆ /data/Sampl ┆ sonal       ┆             ┆             │\n",
       "│              ┆             ┆             ┆ eHDS.json   ┆             ┆             ┆             │\n",
       "│ 252290253464 ┆ 8.7675e18   ┆ 14595475344 ┆ ../../../.. ┆ BasicChecki ┆ 11636884064 ┆ Rejected    │\n",
       "│ 2562204      ┆             ┆ 767826708   ┆ /data/Sampl ┆ ng          ┆ 162884158   ┆             │\n",
       "│              ┆             ┆             ┆ eHDS.json   ┆             ┆             ┆             │\n",
       "└──────────────┴─────────────┴─────────────┴─────────────┴─────────────┴─────────────┴─────────────┘"
      ]
     },
     "execution_count": 10,
     "metadata": {},
     "output_type": "execute_result"
    }
   ],
   "source": [
    "anon = DataAnonymization(config=Config(config_file='config.json'))\n",
    "anon.process()"
   ]
  },
  {
   "attachments": {},
   "cell_type": "markdown",
   "metadata": {},
   "source": [
    "## Exporting\n",
    "Two functions export:\n",
    "- `create_mapping_file()` writes the mapping file of the predictor names\n",
    "- `write_to_output()` writes the processed dataframe to disk\n",
    "\n",
    "Write to output accepts the following extensions: `[\"ndjson\", \"parquet\", \"arrow\", \"csv\"]`"
   ]
  },
  {
   "cell_type": "code",
   "execution_count": 11,
   "metadata": {
    "execution": {
     "iopub.execute_input": "2023-07-28T14:46:51.558588Z",
     "iopub.status.busy": "2023-07-28T14:46:51.558167Z",
     "iopub.status.idle": "2023-07-28T14:46:51.561916Z",
     "shell.execute_reply": "2023-07-28T14:46:51.561460Z"
    }
   },
   "outputs": [
    {
     "name": "stdout",
     "output_type": "stream",
     "text": [
      "Customer_MaritalStatus=PREDICTOR_0\n",
      "Customer_CLV=PREDICTOR_1\n",
      "Customer_City=PREDICTOR_2\n",
      "filename=filename\n",
      "Context_Name=Context_Name\n",
      "IH_Web_Inbound_Accepted_pxLastGroupID=IH_Web_Inbound_Accepted_pxLastGroupID\n",
      "Decision_Outcome=Decision_Outcome\n",
      "\n"
     ]
    }
   ],
   "source": [
    "anon.create_mapping_file()\n",
    "with open('mapping.map') as f:\n",
    "    print(f.read())"
   ]
  },
  {
   "cell_type": "code",
   "execution_count": 12,
   "metadata": {
    "execution": {
     "iopub.execute_input": "2023-07-28T14:46:51.564256Z",
     "iopub.status.busy": "2023-07-28T14:46:51.563866Z",
     "iopub.status.idle": "2023-07-28T14:46:51.568101Z",
     "shell.execute_reply": "2023-07-28T14:46:51.567626Z"
    }
   },
   "outputs": [],
   "source": [
    "anon.write_to_output(ext='arrow')"
   ]
  },
  {
   "cell_type": "code",
   "execution_count": 13,
   "metadata": {
    "execution": {
     "iopub.execute_input": "2023-07-28T14:46:51.570554Z",
     "iopub.status.busy": "2023-07-28T14:46:51.570154Z",
     "iopub.status.idle": "2023-07-28T14:46:51.575172Z",
     "shell.execute_reply": "2023-07-28T14:46:51.574713Z"
    }
   },
   "outputs": [
    {
     "data": {
      "text/html": [
       "<div><style>\n",
       ".dataframe > thead > tr > th,\n",
       ".dataframe > tbody > tr > td {\n",
       "  text-align: right;\n",
       "}\n",
       "</style>\n",
       "<small>shape: (7, 6)</small><table border=\"1\" class=\"dataframe\"><thead><tr><th>PREDICTOR_0</th><th>PREDICTOR_1</th><th>PREDICTOR_2</th><th>Context_Name</th><th>IH_Web_Inbound_Accepted_pxLastGroupID</th><th>Decision_Outcome</th></tr><tr><td>str</td><td>f64</td><td>str</td><td>str</td><td>str</td><td>str</td></tr></thead><tbody><tr><td>&quot;42992054441753…</td><td>1.2927e19</td><td>&quot;16251739567948…</td><td>&quot;FirstMortgage3…</td><td>&quot;93030672948724…</td><td>&quot;Rejected&quot;</td></tr><tr><td>&quot;16536164128611…</td><td>1.4856e19</td><td>&quot;20524772880319…</td><td>&quot;FirstMortgage3…</td><td>&quot;42115687952374…</td><td>&quot;Accepted&quot;</td></tr><tr><td>&quot;21363071428431…</td><td>5.6458e17</td><td>&quot;10103772658414…</td><td>&quot;MoneyMarketSav…</td><td>&quot;93030672948724…</td><td>&quot;Rejected&quot;</td></tr><tr><td>&quot;16536164128611…</td><td>4.0723e18</td><td>&quot;86381634037659…</td><td>&quot;BasicChecking&quot;</td><td>&quot;93030672948724…</td><td>&quot;Rejected&quot;</td></tr><tr><td>&quot;42992054441753…</td><td>1.4677e19</td><td>&quot;68733081511576…</td><td>&quot;BasicChecking&quot;</td><td>&quot;98783608240385…</td><td>&quot;Accepted&quot;</td></tr><tr><td>&quot;21363071428431…</td><td>1.6330e19</td><td>&quot;10959888224800…</td><td>&quot;UPlusFinPerson…</td><td>null</td><td>&quot;Rejected&quot;</td></tr><tr><td>&quot;21363071428431…</td><td>8.7675e18</td><td>&quot;29026374843739…</td><td>&quot;BasicChecking&quot;</td><td>&quot;98783608240385…</td><td>&quot;Rejected&quot;</td></tr></tbody></table></div>"
      ],
      "text/plain": [
       "shape: (7, 6)\n",
       "┌────────────────┬─────────────┬────────────────┬────────────────┬────────────────┬────────────────┐\n",
       "│ PREDICTOR_0    ┆ PREDICTOR_1 ┆ PREDICTOR_2    ┆ Context_Name   ┆ IH_Web_Inbound ┆ Decision_Outco │\n",
       "│ ---            ┆ ---         ┆ ---            ┆ ---            ┆ _Accepted_pxLa ┆ me             │\n",
       "│ str            ┆ f64         ┆ str            ┆ str            ┆ stGr…          ┆ ---            │\n",
       "│                ┆             ┆                ┆                ┆ ---            ┆ str            │\n",
       "│                ┆             ┆                ┆                ┆ str            ┆                │\n",
       "╞════════════════╪═════════════╪════════════════╪════════════════╪════════════════╪════════════════╡\n",
       "│ 42992054441753 ┆ 1.2927e19   ┆ 16251739567948 ┆ FirstMortgage3 ┆ 93030672948724 ┆ Rejected       │\n",
       "│ 41691          ┆             ┆ 158764         ┆ 0yr            ┆ 23033          ┆                │\n",
       "│ 16536164128611 ┆ 1.4856e19   ┆ 20524772880319 ┆ FirstMortgage3 ┆ 42115687952374 ┆ Accepted       │\n",
       "│ 161032         ┆             ┆ 16851          ┆ 0yr            ┆ 27924          ┆                │\n",
       "│ 21363071428431 ┆ 5.6458e17   ┆ 10103772658414 ┆ MoneyMarketSav ┆ 93030672948724 ┆ Rejected       │\n",
       "│ 96395          ┆             ┆ 177653         ┆ ingsAccount    ┆ 23033          ┆                │\n",
       "│ 16536164128611 ┆ 4.0723e18   ┆ 86381634037659 ┆ BasicChecking  ┆ 93030672948724 ┆ Rejected       │\n",
       "│ 161032         ┆             ┆ 84636          ┆                ┆ 23033          ┆                │\n",
       "│ 42992054441753 ┆ 1.4677e19   ┆ 68733081511576 ┆ BasicChecking  ┆ 98783608240385 ┆ Accepted       │\n",
       "│ 41691          ┆             ┆ 01811          ┆                ┆ 4221           ┆                │\n",
       "│ 21363071428431 ┆ 1.6330e19   ┆ 10959888224800 ┆ UPlusFinPerson ┆ null           ┆ Rejected       │\n",
       "│ 96395          ┆             ┆ 938923         ┆ al             ┆                ┆                │\n",
       "│ 21363071428431 ┆ 8.7675e18   ┆ 29026374843739 ┆ BasicChecking  ┆ 98783608240385 ┆ Rejected       │\n",
       "│ 96395          ┆             ┆ 09251          ┆                ┆ 4221           ┆                │\n",
       "└────────────────┴─────────────┴────────────────┴────────────────┴────────────────┴────────────────┘"
      ]
     },
     "execution_count": 13,
     "metadata": {},
     "output_type": "execute_result"
    }
   ],
   "source": [
    "pl.read_ipc('output/hds.arrow')"
   ]
  },
  {
   "attachments": {},
   "cell_type": "markdown",
   "metadata": {},
   "source": [
    "## Advanced: Hash fuctions\n",
    "\n",
    "By default, we use [the same hashing algorithm Polars](https://pola-rs.github.io/polars/py-polars/html/reference/expressions/api/polars.Expr.hash.html#polars.Expr.hash) uses: [xxhash](https://github.com/Cyan4973/xxHash), as implemented [here](https://github.com/pola-rs/polars/blob/3f287f370b3c388ed2f3f218b2c096382548136f/polars/polars-core/src/vector_hasher.rs#L266). xxhash is fast to compute, and you can check its performance in collision, dispersion and randomness [here](https://github.com/Cyan4973/xxHash/tree/dev/tests). \n",
    "\n",
    "xxhash accepts four distinct seeds, but by default we set the seeds to `0`. It is possible to set the `seed` argument of the `process()` function to `'random'`, which will set all four seeds to a random integer between `0` and `1000000000`. Alternatively, it is possible to supply the four seeds manually with arguments `seed`, `seed_1`, `seed_2` and `seed_3`. \n",
    "\n",
    "If the xxhash with (random) seed(s) is not deemed sufficiently secure, it is possible to use your own hashing algorithm.\n",
    "\n",
    "Note that since we're now running python code and not native Polars code anymore, this will be _significantly_ slower. Nonetheless, it is possible.\n",
    "\n",
    "Just as an example - this is how one would use sha3_256:"
   ]
  },
  {
   "cell_type": "code",
   "execution_count": 14,
   "metadata": {
    "execution": {
     "iopub.execute_input": "2023-07-28T14:46:51.577560Z",
     "iopub.status.busy": "2023-07-28T14:46:51.577169Z",
     "iopub.status.idle": "2023-07-28T14:46:51.936248Z",
     "shell.execute_reply": "2023-07-28T14:46:51.935308Z"
    }
   },
   "outputs": [
    {
     "ename": "ComputeError",
     "evalue": "AttributeError: 'int' object has no attribute 'encode'",
     "output_type": "error",
     "traceback": [
      "\u001b[0;31m---------------------------------------------------------------------------\u001b[0m",
      "\u001b[0;31mComputeError\u001b[0m                              Traceback (most recent call last)",
      "Cell \u001b[0;32mIn[14], line 3\u001b[0m\n\u001b[1;32m      1\u001b[0m \u001b[38;5;28;01mfrom\u001b[39;00m \u001b[38;5;21;01mhashlib\u001b[39;00m \u001b[38;5;28;01mimport\u001b[39;00m sha3_256\n\u001b[0;32m----> 3\u001b[0m \u001b[43manon\u001b[49m\u001b[38;5;241;43m.\u001b[39;49m\u001b[43mprocess\u001b[49m\u001b[43m(\u001b[49m\u001b[43malgorithm\u001b[49m\u001b[38;5;241;43m=\u001b[39;49m\u001b[38;5;28;43;01mlambda\u001b[39;49;00m\u001b[43m \u001b[49m\u001b[43mx\u001b[49m\u001b[43m:\u001b[49m\u001b[43m \u001b[49m\u001b[43msha3_256\u001b[49m\u001b[43m(\u001b[49m\u001b[43mx\u001b[49m\u001b[38;5;241;43m.\u001b[39;49m\u001b[43mencode\u001b[49m\u001b[43m(\u001b[49m\u001b[43m)\u001b[49m\u001b[43m)\u001b[49m\u001b[38;5;241;43m.\u001b[39;49m\u001b[43mhexdigest\u001b[49m\u001b[43m(\u001b[49m\u001b[43m)\u001b[49m\u001b[43m)\u001b[49m\n",
      "File \u001b[0;32m~/work/pega-datascientist-tools/pega-datascientist-tools/python/docs/source/articles/../../../pdstools/utils/hds_utils.py:516\u001b[0m, in \u001b[0;36mDataAnonymization.process\u001b[0;34m(self, strategy, **kwargs)\u001b[0m\n\u001b[1;32m    514\u001b[0m df \u001b[38;5;241m=\u001b[39m df\u001b[38;5;241m.\u001b[39mselect(\u001b[38;5;28mself\u001b[39m\u001b[38;5;241m.\u001b[39mcolumn_mapping\u001b[38;5;241m.\u001b[39mkeys())\u001b[38;5;241m.\u001b[39mrename(\u001b[38;5;28mself\u001b[39m\u001b[38;5;241m.\u001b[39mcolumn_mapping)\n\u001b[1;32m    515\u001b[0m \u001b[38;5;28;01mif\u001b[39;00m strategy \u001b[38;5;241m==\u001b[39m \u001b[38;5;124m\"\u001b[39m\u001b[38;5;124meager\u001b[39m\u001b[38;5;124m\"\u001b[39m:\n\u001b[0;32m--> 516\u001b[0m     \u001b[38;5;28;01mreturn\u001b[39;00m \u001b[43mdf\u001b[49m\u001b[38;5;241;43m.\u001b[39;49m\u001b[43mcollect\u001b[49m\u001b[43m(\u001b[49m\u001b[43m)\u001b[49m\n\u001b[1;32m    517\u001b[0m \u001b[38;5;28;01mreturn\u001b[39;00m df\n",
      "File \u001b[0;32m/opt/hostedtoolcache/Python/3.11.4/x64/lib/python3.11/site-packages/polars/lazyframe/frame.py:1530\u001b[0m, in \u001b[0;36mLazyFrame.collect\u001b[0;34m(self, type_coercion, predicate_pushdown, projection_pushdown, simplify_expression, no_optimization, slice_pushdown, common_subplan_elimination, streaming)\u001b[0m\n\u001b[1;32m   1519\u001b[0m     common_subplan_elimination \u001b[38;5;241m=\u001b[39m \u001b[38;5;28;01mFalse\u001b[39;00m\n\u001b[1;32m   1521\u001b[0m ldf \u001b[38;5;241m=\u001b[39m \u001b[38;5;28mself\u001b[39m\u001b[38;5;241m.\u001b[39m_ldf\u001b[38;5;241m.\u001b[39moptimization_toggle(\n\u001b[1;32m   1522\u001b[0m     type_coercion,\n\u001b[1;32m   1523\u001b[0m     predicate_pushdown,\n\u001b[0;32m   (...)\u001b[0m\n\u001b[1;32m   1528\u001b[0m     streaming,\n\u001b[1;32m   1529\u001b[0m )\n\u001b[0;32m-> 1530\u001b[0m \u001b[38;5;28;01mreturn\u001b[39;00m wrap_df(ldf\u001b[38;5;241m.\u001b[39mcollect())\n",
      "\u001b[0;31mComputeError\u001b[0m: AttributeError: 'int' object has no attribute 'encode'"
     ]
    }
   ],
   "source": [
    "from hashlib import sha3_256\n",
    "\n",
    "anon.process(algorithm=lambda x: sha3_256(x.encode()).hexdigest())"
   ]
  }
 ],
 "metadata": {
  "kernelspec": {
   "display_name": "Python 3",
   "language": "python",
   "name": "python3"
  },
  "language_info": {
   "codemirror_mode": {
    "name": "ipython",
    "version": 3
   },
   "file_extension": ".py",
   "mimetype": "text/x-python",
   "name": "python",
   "nbconvert_exporter": "python",
   "pygments_lexer": "ipython3",
   "version": "3.11.4"
  },
  "vscode": {
   "interpreter": {
    "hash": "aee8b7b246df8f9039afb4144a1f6fd8d2ca17a180786b69acc140d282b71a49"
   }
  }
 },
 "nbformat": 4,
 "nbformat_minor": 2
}
