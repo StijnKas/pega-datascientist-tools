{
 "cells": [
  {
   "attachments": {},
   "cell_type": "markdown",
   "metadata": {},
   "source": [
    "# Example data anonymization\n",
    "\n",
    "In Pega CDH 8.5 and up, it's now possible to record the historical data as seen by the Adaptive Models. See [this academy challenge](https://academy.pega.com/challenge/exporting-historical-data/v4) for reference. This historical data can be further used to experiment with offline models, but also to fine-tune the OOTB Gradient Boosting model. However, sharing this information with Pega can be sensitive as it contains raw predictor data. \n",
    "\n",
    "To this end, we provide a simple and transparent script to fully anonimize this dataset.\n",
    "\n",
    "The DataAnonymization script is now part of pdstools, and you can import it directly as such."
   ]
  },
  {
   "cell_type": "code",
   "execution_count": 1,
   "metadata": {
    "execution": {
     "iopub.execute_input": "2023-11-20T09:51:52.363734Z",
     "iopub.status.busy": "2023-11-20T09:51:52.363547Z",
     "iopub.status.idle": "2023-11-20T09:51:52.433645Z",
     "shell.execute_reply": "2023-11-20T09:51:52.433127Z"
    },
    "nbsphinx": "hidden"
   },
   "outputs": [],
   "source": [
    "# These lines are only for rendering in the docs, and are hidden through Jupyter tags\n",
    "# Do not run if you're running the notebook seperately\n",
    "\n",
    "import os  \n",
    "import sys\n",
    "import plotly.io as pio\n",
    "pio.renderers.default = \"notebook_connected\"\n",
    "\n",
    "sys.path.append(\"../../../\")\n",
    "sys.path.append('../../python')"
   ]
  },
  {
   "cell_type": "code",
   "execution_count": 2,
   "metadata": {
    "execution": {
     "iopub.execute_input": "2023-11-20T09:51:52.436142Z",
     "iopub.status.busy": "2023-11-20T09:51:52.435905Z",
     "iopub.status.idle": "2023-11-20T09:51:53.533963Z",
     "shell.execute_reply": "2023-11-20T09:51:53.533436Z"
    }
   },
   "outputs": [],
   "source": [
    "from pdstools import ADMDatamart\n",
    "from pdstools import Config, DataAnonymization\n",
    "import polars as pl"
   ]
  },
  {
   "attachments": {},
   "cell_type": "markdown",
   "metadata": {},
   "source": [
    "## Input data\n",
    "\n",
    "To demonstrate this process, we're going to anonymise this toy example dataframe:"
   ]
  },
  {
   "cell_type": "code",
   "execution_count": 3,
   "metadata": {
    "execution": {
     "iopub.execute_input": "2023-11-20T09:51:53.536671Z",
     "iopub.status.busy": "2023-11-20T09:51:53.536353Z",
     "iopub.status.idle": "2023-11-20T09:51:53.546478Z",
     "shell.execute_reply": "2023-11-20T09:51:53.545880Z"
    }
   },
   "outputs": [
    {
     "data": {
      "text/html": [
       "<div><style>\n",
       ".dataframe > thead > tr > th,\n",
       ".dataframe > tbody > tr > td {\n",
       "  text-align: right;\n",
       "  white-space: pre-wrap;\n",
       "}\n",
       "</style>\n",
       "<small>shape: (7, 6)</small><table border=\"1\" class=\"dataframe\"><thead><tr><th>Context_Name</th><th>Customer_MaritalStatus</th><th>Customer_CLV</th><th>Customer_City</th><th>IH_Web_Inbound_Accepted_pxLastGroupID</th><th>Decision_Outcome</th></tr><tr><td>str</td><td>str</td><td>i64</td><td>str</td><td>str</td><td>str</td></tr></thead><tbody><tr><td>&quot;FirstMortgage3…</td><td>&quot;Married&quot;</td><td>1460</td><td>&quot;Port Raoul&quot;</td><td>&quot;Account&quot;</td><td>&quot;Rejected&quot;</td></tr><tr><td>&quot;FirstMortgage3…</td><td>&quot;Unknown&quot;</td><td>669</td><td>&quot;Laurianneshire…</td><td>&quot;AutoLoans&quot;</td><td>&quot;Accepted&quot;</td></tr><tr><td>&quot;MoneyMarketSav…</td><td>&quot;No Resp+&quot;</td><td>1174</td><td>&quot;Jacobshaven&quot;</td><td>&quot;Account&quot;</td><td>&quot;Rejected&quot;</td></tr><tr><td>&quot;BasicChecking&quot;</td><td>&quot;Unknown&quot;</td><td>1476</td><td>&quot;Lindton&quot;</td><td>&quot;Account&quot;</td><td>&quot;Rejected&quot;</td></tr><tr><td>&quot;BasicChecking&quot;</td><td>&quot;Married&quot;</td><td>1211</td><td>&quot;South Jimmiesh…</td><td>&quot;DepositAccount…</td><td>&quot;Accepted&quot;</td></tr><tr><td>&quot;UPlusFinPerson…</td><td>&quot;No Resp+&quot;</td><td>533</td><td>&quot;Bergeville&quot;</td><td>null</td><td>&quot;Rejected&quot;</td></tr><tr><td>&quot;BasicChecking&quot;</td><td>&quot;No Resp+&quot;</td><td>555</td><td>&quot;Willyville&quot;</td><td>&quot;DepositAccount…</td><td>&quot;Rejected&quot;</td></tr></tbody></table></div>"
      ],
      "text/plain": [
       "shape: (7, 6)\n",
       "┌────────────────┬────────────────┬──────────────┬────────────────┬────────────────┬───────────────┐\n",
       "│ Context_Name   ┆ Customer_Marit ┆ Customer_CLV ┆ Customer_City  ┆ IH_Web_Inbound ┆ Decision_Outc │\n",
       "│ ---            ┆ alStatus       ┆ ---          ┆ ---            ┆ _Accepted_pxLa ┆ ome           │\n",
       "│ str            ┆ ---            ┆ i64          ┆ str            ┆ stGr…          ┆ ---           │\n",
       "│                ┆ str            ┆              ┆                ┆ ---            ┆ str           │\n",
       "│                ┆                ┆              ┆                ┆ str            ┆               │\n",
       "╞════════════════╪════════════════╪══════════════╪════════════════╪════════════════╪═══════════════╡\n",
       "│ FirstMortgage3 ┆ Married        ┆ 1460         ┆ Port Raoul     ┆ Account        ┆ Rejected      │\n",
       "│ 0yr            ┆                ┆              ┆                ┆                ┆               │\n",
       "│ FirstMortgage3 ┆ Unknown        ┆ 669          ┆ Laurianneshire ┆ AutoLoans      ┆ Accepted      │\n",
       "│ 0yr            ┆                ┆              ┆                ┆                ┆               │\n",
       "│ MoneyMarketSav ┆ No Resp+       ┆ 1174         ┆ Jacobshaven    ┆ Account        ┆ Rejected      │\n",
       "│ ingsAccount    ┆                ┆              ┆                ┆                ┆               │\n",
       "│ BasicChecking  ┆ Unknown        ┆ 1476         ┆ Lindton        ┆ Account        ┆ Rejected      │\n",
       "│ BasicChecking  ┆ Married        ┆ 1211         ┆ South          ┆ DepositAccount ┆ Accepted      │\n",
       "│                ┆                ┆              ┆ Jimmieshire    ┆ s              ┆               │\n",
       "│ UPlusFinPerson ┆ No Resp+       ┆ 533          ┆ Bergeville     ┆ null           ┆ Rejected      │\n",
       "│ al             ┆                ┆              ┆                ┆                ┆               │\n",
       "│ BasicChecking  ┆ No Resp+       ┆ 555          ┆ Willyville     ┆ DepositAccount ┆ Rejected      │\n",
       "│                ┆                ┆              ┆                ┆ s              ┆               │\n",
       "└────────────────┴────────────────┴──────────────┴────────────────┴────────────────┴───────────────┘"
      ]
     },
     "execution_count": 3,
     "metadata": {},
     "output_type": "execute_result"
    }
   ],
   "source": [
    "pl.read_ndjson('../../../../data/SampleHDS.json')"
   ]
  },
  {
   "attachments": {},
   "cell_type": "markdown",
   "metadata": {},
   "source": [
    "As you can see, this dataset consists of regular predictors, IH predictors, context keys and the outcome column. Additionally, some columns are numeric, others are strings. Let's first initialize the DataAnonymization class."
   ]
  },
  {
   "cell_type": "code",
   "execution_count": 4,
   "metadata": {
    "execution": {
     "iopub.execute_input": "2023-11-20T09:51:53.548681Z",
     "iopub.status.busy": "2023-11-20T09:51:53.548375Z",
     "iopub.status.idle": "2023-11-20T09:51:53.557386Z",
     "shell.execute_reply": "2023-11-20T09:51:53.556821Z"
    }
   },
   "outputs": [],
   "source": [
    "anon = DataAnonymization(hds_folder='../../../../data/')"
   ]
  },
  {
   "attachments": {},
   "cell_type": "markdown",
   "metadata": {},
   "source": [
    "By default, the class applies a set of anonymisation techniques:\n",
    "- Column names are remapped to a non-descriptive name\n",
    "- Categorical values are hashed with a random seed\n",
    "- Numerical values are normalized between 0 and 1\n",
    "- Outcomes are mapped to a binary outcome.\n",
    "\n",
    "To apply these techniques, simply call `.process()`:"
   ]
  },
  {
   "cell_type": "code",
   "execution_count": 5,
   "metadata": {
    "execution": {
     "iopub.execute_input": "2023-11-20T09:51:53.559821Z",
     "iopub.status.busy": "2023-11-20T09:51:53.559421Z",
     "iopub.status.idle": "2023-11-20T09:51:53.565339Z",
     "shell.execute_reply": "2023-11-20T09:51:53.564805Z"
    }
   },
   "outputs": [
    {
     "data": {
      "text/html": [
       "<div><style>\n",
       ".dataframe > thead > tr > th,\n",
       ".dataframe > tbody > tr > td {\n",
       "  text-align: right;\n",
       "  white-space: pre-wrap;\n",
       "}\n",
       "</style>\n",
       "<small>shape: (7, 7)</small><table border=\"1\" class=\"dataframe\"><thead><tr><th>filename</th><th>PREDICTOR_1</th><th>PREDICTOR_2</th><th>PREDICTOR_3</th><th>Context_Name</th><th>IH_PREDICTOR_0</th><th>Decision_Outcome</th></tr><tr><td>str</td><td>str</td><td>str</td><td>f64</td><td>str</td><td>str</td><td>bool</td></tr></thead><tbody><tr><td>&quot;../../../../da…</td><td>&quot;17272907547883…</td><td>&quot;13124358176367…</td><td>1.2927e19</td><td>&quot;41056030405407…</td><td>&quot;65875911555892…</td><td>false</td></tr><tr><td>&quot;../../../../da…</td><td>&quot;11588847509576…</td><td>&quot;11079288539490…</td><td>1.4856e19</td><td>&quot;41056030405407…</td><td>&quot;10279081689292…</td><td>true</td></tr><tr><td>&quot;../../../../da…</td><td>&quot;15788433388308…</td><td>&quot;29854336548345…</td><td>5.6458e17</td><td>&quot;93830785523205…</td><td>&quot;65875911555892…</td><td>false</td></tr><tr><td>&quot;../../../../da…</td><td>&quot;13698405642463…</td><td>&quot;11079288539490…</td><td>4.0723e18</td><td>&quot;77513098621506…</td><td>&quot;65875911555892…</td><td>false</td></tr><tr><td>&quot;../../../../da…</td><td>&quot;11383182230667…</td><td>&quot;13124358176367…</td><td>1.4677e19</td><td>&quot;77513098621506…</td><td>&quot;72851523257737…</td><td>true</td></tr><tr><td>&quot;../../../../da…</td><td>&quot;46609049038663…</td><td>&quot;29854336548345…</td><td>1.6330e19</td><td>&quot;16808307637162…</td><td>null</td><td>false</td></tr><tr><td>&quot;../../../../da…</td><td>&quot;57210932764653…</td><td>&quot;29854336548345…</td><td>8.7675e18</td><td>&quot;77513098621506…</td><td>&quot;72851523257737…</td><td>false</td></tr></tbody></table></div>"
      ],
      "text/plain": [
       "shape: (7, 7)\n",
       "┌──────────────┬─────────────┬─────────────┬─────────────┬─────────────┬─────────────┬─────────────┐\n",
       "│ filename     ┆ PREDICTOR_1 ┆ PREDICTOR_2 ┆ PREDICTOR_3 ┆ Context_Nam ┆ IH_PREDICTO ┆ Decision_Ou │\n",
       "│ ---          ┆ ---         ┆ ---         ┆ ---         ┆ e           ┆ R_0         ┆ tcome       │\n",
       "│ str          ┆ str         ┆ str         ┆ f64         ┆ ---         ┆ ---         ┆ ---         │\n",
       "│              ┆             ┆             ┆             ┆ str         ┆ str         ┆ bool        │\n",
       "╞══════════════╪═════════════╪═════════════╪═════════════╪═════════════╪═════════════╪═════════════╡\n",
       "│ ../../../../ ┆ 17272907547 ┆ 13124358176 ┆ 1.2927e19   ┆ 41056030405 ┆ 65875911555 ┆ false       │\n",
       "│ data/SampleH ┆ 883978540   ┆ 36706643    ┆             ┆ 40797457    ┆ 89215097    ┆             │\n",
       "│ DS.json      ┆             ┆             ┆             ┆             ┆             ┆             │\n",
       "│ ../../../../ ┆ 11588847509 ┆ 11079288539 ┆ 1.4856e19   ┆ 41056030405 ┆ 10279081689 ┆ true        │\n",
       "│ data/SampleH ┆ 576366600   ┆ 490968373   ┆             ┆ 40797457    ┆ 292566745   ┆             │\n",
       "│ DS.json      ┆             ┆             ┆             ┆             ┆             ┆             │\n",
       "│ ../../../../ ┆ 15788433388 ┆ 29854336548 ┆ 5.6458e17   ┆ 93830785523 ┆ 65875911555 ┆ false       │\n",
       "│ data/SampleH ┆ 308602321   ┆ 34528184    ┆             ┆ 20566384    ┆ 89215097    ┆             │\n",
       "│ DS.json      ┆             ┆             ┆             ┆             ┆             ┆             │\n",
       "│ ../../../../ ┆ 13698405642 ┆ 11079288539 ┆ 4.0723e18   ┆ 77513098621 ┆ 65875911555 ┆ false       │\n",
       "│ data/SampleH ┆ 463484253   ┆ 490968373   ┆             ┆ 50674391    ┆ 89215097    ┆             │\n",
       "│ DS.json      ┆             ┆             ┆             ┆             ┆             ┆             │\n",
       "│ ../../../../ ┆ 11383182230 ┆ 13124358176 ┆ 1.4677e19   ┆ 77513098621 ┆ 72851523257 ┆ true        │\n",
       "│ data/SampleH ┆ 667794963   ┆ 36706643    ┆             ┆ 50674391    ┆ 73774647    ┆             │\n",
       "│ DS.json      ┆             ┆             ┆             ┆             ┆             ┆             │\n",
       "│ ../../../../ ┆ 46609049038 ┆ 29854336548 ┆ 1.6330e19   ┆ 16808307637 ┆ null        ┆ false       │\n",
       "│ data/SampleH ┆ 66306766    ┆ 34528184    ┆             ┆ 162399445   ┆             ┆             │\n",
       "│ DS.json      ┆             ┆             ┆             ┆             ┆             ┆             │\n",
       "│ ../../../../ ┆ 57210932764 ┆ 29854336548 ┆ 8.7675e18   ┆ 77513098621 ┆ 72851523257 ┆ false       │\n",
       "│ data/SampleH ┆ 65345839    ┆ 34528184    ┆             ┆ 50674391    ┆ 73774647    ┆             │\n",
       "│ DS.json      ┆             ┆             ┆             ┆             ┆             ┆             │\n",
       "└──────────────┴─────────────┴─────────────┴─────────────┴─────────────┴─────────────┴─────────────┘"
      ]
     },
     "execution_count": 5,
     "metadata": {},
     "output_type": "execute_result"
    }
   ],
   "source": [
    "anon.process()"
   ]
  },
  {
   "attachments": {},
   "cell_type": "markdown",
   "metadata": {},
   "source": [
    "To trace back the columns to their original names, the class also contains a mapping, which does not have to be provided."
   ]
  },
  {
   "cell_type": "code",
   "execution_count": 6,
   "metadata": {
    "execution": {
     "iopub.execute_input": "2023-11-20T09:51:53.567593Z",
     "iopub.status.busy": "2023-11-20T09:51:53.567271Z",
     "iopub.status.idle": "2023-11-20T09:51:53.571083Z",
     "shell.execute_reply": "2023-11-20T09:51:53.570595Z"
    }
   },
   "outputs": [
    {
     "data": {
      "text/plain": [
       "{'filename': 'filename',\n",
       " 'Customer_City': 'PREDICTOR_1',\n",
       " 'Customer_MaritalStatus': 'PREDICTOR_2',\n",
       " 'Customer_CLV': 'PREDICTOR_3',\n",
       " 'Context_Name': 'Context_Name',\n",
       " 'IH_Web_Inbound_Accepted_pxLastGroupID': 'IH_PREDICTOR_0',\n",
       " 'Decision_Outcome': 'Decision_Outcome'}"
      ]
     },
     "execution_count": 6,
     "metadata": {},
     "output_type": "execute_result"
    }
   ],
   "source": [
    "anon.column_mapping"
   ]
  },
  {
   "attachments": {},
   "cell_type": "markdown",
   "metadata": {},
   "source": [
    "## Configs\n",
    "\n",
    "Each capability can optionally be turned off - see below for the full list of config options, and refer to the API reference for the full description."
   ]
  },
  {
   "cell_type": "code",
   "execution_count": 7,
   "metadata": {
    "execution": {
     "iopub.execute_input": "2023-11-20T09:51:53.573129Z",
     "iopub.status.busy": "2023-11-20T09:51:53.572786Z",
     "iopub.status.idle": "2023-11-20T09:51:53.577171Z",
     "shell.execute_reply": "2023-11-20T09:51:53.576575Z"
    }
   },
   "outputs": [
    {
     "data": {
      "text/plain": [
       "{'config_file': None,\n",
       " 'hds_folder': '.',\n",
       " 'use_datamart': False,\n",
       " 'datamart_folder': 'datamart',\n",
       " 'output_format': 'ndjson',\n",
       " 'output_folder': 'output',\n",
       " 'mapping_file': 'mapping.map',\n",
       " 'mask_predictor_names': True,\n",
       " 'mask_context_key_names': False,\n",
       " 'mask_ih_names': True,\n",
       " 'mask_outcome_name': False,\n",
       " 'mask_predictor_values': True,\n",
       " 'mask_context_key_values': True,\n",
       " 'mask_ih_values': True,\n",
       " 'mask_outcome_values': True,\n",
       " 'context_key_label': 'Context_*',\n",
       " 'ih_label': 'IH_*',\n",
       " 'outcome_column': 'Decision_Outcome',\n",
       " 'positive_outcomes': ['Accepted', 'Clicked'],\n",
       " 'negative_outcomes': ['Rejected', 'Impression'],\n",
       " 'special_predictors': ['Decision_DecisionTime',\n",
       "  'Decision_OutcomeTime',\n",
       "  'Decision_Rank'],\n",
       " 'sample_percentage_schema_inferencing': 0.01}"
      ]
     },
     "execution_count": 7,
     "metadata": {},
     "output_type": "execute_result"
    }
   ],
   "source": [
    "dict(zip(Config.__init__.__code__.co_varnames[1:], Config.__init__.__defaults__))"
   ]
  },
  {
   "attachments": {},
   "cell_type": "markdown",
   "metadata": {},
   "source": [
    "It's easy to change these parameters by just passing the keyword arguments. In the following example, we\n",
    "- Keep the IH predictor names\n",
    "- Keep the outcome values\n",
    "- Keep the context key values\n",
    "- Keep the context key predictor names"
   ]
  },
  {
   "cell_type": "code",
   "execution_count": 8,
   "metadata": {
    "execution": {
     "iopub.execute_input": "2023-11-20T09:51:53.579656Z",
     "iopub.status.busy": "2023-11-20T09:51:53.579244Z",
     "iopub.status.idle": "2023-11-20T09:51:53.590132Z",
     "shell.execute_reply": "2023-11-20T09:51:53.589563Z"
    }
   },
   "outputs": [
    {
     "data": {
      "text/html": [
       "<div><style>\n",
       ".dataframe > thead > tr > th,\n",
       ".dataframe > tbody > tr > td {\n",
       "  text-align: right;\n",
       "  white-space: pre-wrap;\n",
       "}\n",
       "</style>\n",
       "<small>shape: (7, 7)</small><table border=\"1\" class=\"dataframe\"><thead><tr><th>filename</th><th>PREDICTOR_1</th><th>PREDICTOR_2</th><th>PREDICTOR_3</th><th>Context_Name</th><th>IH_Web_Inbound_Accepted_pxLastGroupID</th><th>Decision_Outcome</th></tr><tr><td>str</td><td>str</td><td>str</td><td>f64</td><td>str</td><td>str</td><td>str</td></tr></thead><tbody><tr><td>&quot;../../../../da…</td><td>&quot;16534985523491…</td><td>&quot;30830731771982…</td><td>1.2927e19</td><td>&quot;FirstMortgage3…</td><td>&quot;10197197438983…</td><td>&quot;Rejected&quot;</td></tr><tr><td>&quot;../../../../da…</td><td>&quot;82382648602374…</td><td>&quot;89381437376121…</td><td>1.4856e19</td><td>&quot;FirstMortgage3…</td><td>&quot;13680217775912…</td><td>&quot;Accepted&quot;</td></tr><tr><td>&quot;../../../../da…</td><td>&quot;17098336089873…</td><td>&quot;53660450324078…</td><td>5.6458e17</td><td>&quot;MoneyMarketSav…</td><td>&quot;10197197438983…</td><td>&quot;Rejected&quot;</td></tr><tr><td>&quot;../../../../da…</td><td>&quot;35824746780978…</td><td>&quot;89381437376121…</td><td>4.0723e18</td><td>&quot;BasicChecking&quot;</td><td>&quot;10197197438983…</td><td>&quot;Rejected&quot;</td></tr><tr><td>&quot;../../../../da…</td><td>&quot;12373839385439…</td><td>&quot;30830731771982…</td><td>1.4677e19</td><td>&quot;BasicChecking&quot;</td><td>&quot;15309056341463…</td><td>&quot;Accepted&quot;</td></tr><tr><td>&quot;../../../../da…</td><td>&quot;10121462880196…</td><td>&quot;53660450324078…</td><td>1.6330e19</td><td>&quot;UPlusFinPerson…</td><td>null</td><td>&quot;Rejected&quot;</td></tr><tr><td>&quot;../../../../da…</td><td>&quot;14835093479837…</td><td>&quot;53660450324078…</td><td>8.7675e18</td><td>&quot;BasicChecking&quot;</td><td>&quot;15309056341463…</td><td>&quot;Rejected&quot;</td></tr></tbody></table></div>"
      ],
      "text/plain": [
       "shape: (7, 7)\n",
       "┌──────────────┬─────────────┬─────────────┬─────────────┬─────────────┬─────────────┬─────────────┐\n",
       "│ filename     ┆ PREDICTOR_1 ┆ PREDICTOR_2 ┆ PREDICTOR_3 ┆ Context_Nam ┆ IH_Web_Inbo ┆ Decision_Ou │\n",
       "│ ---          ┆ ---         ┆ ---         ┆ ---         ┆ e           ┆ und_Accepte ┆ tcome       │\n",
       "│ str          ┆ str         ┆ str         ┆ f64         ┆ ---         ┆ d_pxLastGr… ┆ ---         │\n",
       "│              ┆             ┆             ┆             ┆ str         ┆ ---         ┆ str         │\n",
       "│              ┆             ┆             ┆             ┆             ┆ str         ┆             │\n",
       "╞══════════════╪═════════════╪═════════════╪═════════════╪═════════════╪═════════════╪═════════════╡\n",
       "│ ../../../../ ┆ 16534985523 ┆ 30830731771 ┆ 1.2927e19   ┆ FirstMortga ┆ 10197197438 ┆ Rejected    │\n",
       "│ data/SampleH ┆ 491205728   ┆ 98223563    ┆             ┆ ge30yr      ┆ 98374721    ┆             │\n",
       "│ DS.json      ┆             ┆             ┆             ┆             ┆             ┆             │\n",
       "│ ../../../../ ┆ 82382648602 ┆ 89381437376 ┆ 1.4856e19   ┆ FirstMortga ┆ 13680217775 ┆ Accepted    │\n",
       "│ data/SampleH ┆ 37430936    ┆ 12141412    ┆             ┆ ge30yr      ┆ 912518904   ┆             │\n",
       "│ DS.json      ┆             ┆             ┆             ┆             ┆             ┆             │\n",
       "│ ../../../../ ┆ 17098336089 ┆ 53660450324 ┆ 5.6458e17   ┆ MoneyMarket ┆ 10197197438 ┆ Rejected    │\n",
       "│ data/SampleH ┆ 873601664   ┆ 07834154    ┆             ┆ SavingsAcco ┆ 98374721    ┆             │\n",
       "│ DS.json      ┆             ┆             ┆             ┆ unt         ┆             ┆             │\n",
       "│ ../../../../ ┆ 35824746780 ┆ 89381437376 ┆ 4.0723e18   ┆ BasicChecki ┆ 10197197438 ┆ Rejected    │\n",
       "│ data/SampleH ┆ 97833945    ┆ 12141412    ┆             ┆ ng          ┆ 98374721    ┆             │\n",
       "│ DS.json      ┆             ┆             ┆             ┆             ┆             ┆             │\n",
       "│ ../../../../ ┆ 12373839385 ┆ 30830731771 ┆ 1.4677e19   ┆ BasicChecki ┆ 15309056341 ┆ Accepted    │\n",
       "│ data/SampleH ┆ 439360380   ┆ 98223563    ┆             ┆ ng          ┆ 463552557   ┆             │\n",
       "│ DS.json      ┆             ┆             ┆             ┆             ┆             ┆             │\n",
       "│ ../../../../ ┆ 10121462880 ┆ 53660450324 ┆ 1.6330e19   ┆ UPlusFinPer ┆ null        ┆ Rejected    │\n",
       "│ data/SampleH ┆ 196513416   ┆ 07834154    ┆             ┆ sonal       ┆             ┆             │\n",
       "│ DS.json      ┆             ┆             ┆             ┆             ┆             ┆             │\n",
       "│ ../../../../ ┆ 14835093479 ┆ 53660450324 ┆ 8.7675e18   ┆ BasicChecki ┆ 15309056341 ┆ Rejected    │\n",
       "│ data/SampleH ┆ 837343207   ┆ 07834154    ┆             ┆ ng          ┆ 463552557   ┆             │\n",
       "│ DS.json      ┆             ┆             ┆             ┆             ┆             ┆             │\n",
       "└──────────────┴─────────────┴─────────────┴─────────────┴─────────────┴─────────────┴─────────────┘"
      ]
     },
     "execution_count": 8,
     "metadata": {},
     "output_type": "execute_result"
    }
   ],
   "source": [
    "anon = DataAnonymization(\n",
    "    hds_folder=\"../../../../data/\",\n",
    "    mask_ih_names=False,\n",
    "    mask_outcome_values=False,\n",
    "    mask_context_key_values=False,\n",
    "    mask_context_key_names=False,\n",
    ")\n",
    "anon.process()\n"
   ]
  },
  {
   "attachments": {},
   "cell_type": "markdown",
   "metadata": {},
   "source": [
    "The configs can also be written and read as such:"
   ]
  },
  {
   "cell_type": "code",
   "execution_count": 9,
   "metadata": {
    "execution": {
     "iopub.execute_input": "2023-11-20T09:51:53.592353Z",
     "iopub.status.busy": "2023-11-20T09:51:53.592039Z",
     "iopub.status.idle": "2023-11-20T09:51:53.595109Z",
     "shell.execute_reply": "2023-11-20T09:51:53.594560Z"
    }
   },
   "outputs": [],
   "source": [
    "anon.config.save_to_config_file('config.json')"
   ]
  },
  {
   "cell_type": "code",
   "execution_count": 10,
   "metadata": {
    "execution": {
     "iopub.execute_input": "2023-11-20T09:51:53.597060Z",
     "iopub.status.busy": "2023-11-20T09:51:53.596736Z",
     "iopub.status.idle": "2023-11-20T09:51:53.607615Z",
     "shell.execute_reply": "2023-11-20T09:51:53.607043Z"
    }
   },
   "outputs": [
    {
     "data": {
      "text/html": [
       "<div><style>\n",
       ".dataframe > thead > tr > th,\n",
       ".dataframe > tbody > tr > td {\n",
       "  text-align: right;\n",
       "  white-space: pre-wrap;\n",
       "}\n",
       "</style>\n",
       "<small>shape: (7, 7)</small><table border=\"1\" class=\"dataframe\"><thead><tr><th>filename</th><th>PREDICTOR_1</th><th>PREDICTOR_2</th><th>PREDICTOR_3</th><th>Context_Name</th><th>IH_Web_Inbound_Accepted_pxLastGroupID</th><th>Decision_Outcome</th></tr><tr><td>str</td><td>str</td><td>str</td><td>f64</td><td>str</td><td>str</td><td>str</td></tr></thead><tbody><tr><td>&quot;../../../../da…</td><td>&quot;17802983640571…</td><td>&quot;51395158818831…</td><td>1.2927e19</td><td>&quot;FirstMortgage3…</td><td>&quot;89932684641520…</td><td>&quot;Rejected&quot;</td></tr><tr><td>&quot;../../../../da…</td><td>&quot;15866358061349…</td><td>&quot;12193234551646…</td><td>1.4856e19</td><td>&quot;FirstMortgage3…</td><td>&quot;12205613649409…</td><td>&quot;Accepted&quot;</td></tr><tr><td>&quot;../../../../da…</td><td>&quot;13525133427196…</td><td>&quot;17643311666777…</td><td>5.6458e17</td><td>&quot;MoneyMarketSav…</td><td>&quot;89932684641520…</td><td>&quot;Rejected&quot;</td></tr><tr><td>&quot;../../../../da…</td><td>&quot;11179373016584…</td><td>&quot;12193234551646…</td><td>4.0723e18</td><td>&quot;BasicChecking&quot;</td><td>&quot;89932684641520…</td><td>&quot;Rejected&quot;</td></tr><tr><td>&quot;../../../../da…</td><td>&quot;43311010006896…</td><td>&quot;51395158818831…</td><td>1.4677e19</td><td>&quot;BasicChecking&quot;</td><td>&quot;12701536632169…</td><td>&quot;Accepted&quot;</td></tr><tr><td>&quot;../../../../da…</td><td>&quot;69505775064715…</td><td>&quot;17643311666777…</td><td>1.6330e19</td><td>&quot;UPlusFinPerson…</td><td>null</td><td>&quot;Rejected&quot;</td></tr><tr><td>&quot;../../../../da…</td><td>&quot;29268760793648…</td><td>&quot;17643311666777…</td><td>8.7675e18</td><td>&quot;BasicChecking&quot;</td><td>&quot;12701536632169…</td><td>&quot;Rejected&quot;</td></tr></tbody></table></div>"
      ],
      "text/plain": [
       "shape: (7, 7)\n",
       "┌──────────────┬─────────────┬─────────────┬─────────────┬─────────────┬─────────────┬─────────────┐\n",
       "│ filename     ┆ PREDICTOR_1 ┆ PREDICTOR_2 ┆ PREDICTOR_3 ┆ Context_Nam ┆ IH_Web_Inbo ┆ Decision_Ou │\n",
       "│ ---          ┆ ---         ┆ ---         ┆ ---         ┆ e           ┆ und_Accepte ┆ tcome       │\n",
       "│ str          ┆ str         ┆ str         ┆ f64         ┆ ---         ┆ d_pxLastGr… ┆ ---         │\n",
       "│              ┆             ┆             ┆             ┆ str         ┆ ---         ┆ str         │\n",
       "│              ┆             ┆             ┆             ┆             ┆ str         ┆             │\n",
       "╞══════════════╪═════════════╪═════════════╪═════════════╪═════════════╪═════════════╪═════════════╡\n",
       "│ ../../../../ ┆ 17802983640 ┆ 51395158818 ┆ 1.2927e19   ┆ FirstMortga ┆ 89932684641 ┆ Rejected    │\n",
       "│ data/SampleH ┆ 571166951   ┆ 83147702    ┆             ┆ ge30yr      ┆ 52047976    ┆             │\n",
       "│ DS.json      ┆             ┆             ┆             ┆             ┆             ┆             │\n",
       "│ ../../../../ ┆ 15866358061 ┆ 12193234551 ┆ 1.4856e19   ┆ FirstMortga ┆ 12205613649 ┆ Accepted    │\n",
       "│ data/SampleH ┆ 349553136   ┆ 646498635   ┆             ┆ ge30yr      ┆ 409854061   ┆             │\n",
       "│ DS.json      ┆             ┆             ┆             ┆             ┆             ┆             │\n",
       "│ ../../../../ ┆ 13525133427 ┆ 17643311666 ┆ 5.6458e17   ┆ MoneyMarket ┆ 89932684641 ┆ Rejected    │\n",
       "│ data/SampleH ┆ 196502676   ┆ 777590444   ┆             ┆ SavingsAcco ┆ 52047976    ┆             │\n",
       "│ DS.json      ┆             ┆             ┆             ┆ unt         ┆             ┆             │\n",
       "│ ../../../../ ┆ 11179373016 ┆ 12193234551 ┆ 4.0723e18   ┆ BasicChecki ┆ 89932684641 ┆ Rejected    │\n",
       "│ data/SampleH ┆ 584256840   ┆ 646498635   ┆             ┆ ng          ┆ 52047976    ┆             │\n",
       "│ DS.json      ┆             ┆             ┆             ┆             ┆             ┆             │\n",
       "│ ../../../../ ┆ 43311010006 ┆ 51395158818 ┆ 1.4677e19   ┆ BasicChecki ┆ 12701536632 ┆ Accepted    │\n",
       "│ data/SampleH ┆ 89646671    ┆ 83147702    ┆             ┆ ng          ┆ 16909461    ┆             │\n",
       "│ DS.json      ┆             ┆             ┆             ┆             ┆             ┆             │\n",
       "│ ../../../../ ┆ 69505775064 ┆ 17643311666 ┆ 1.6330e19   ┆ UPlusFinPer ┆ null        ┆ Rejected    │\n",
       "│ data/SampleH ┆ 71593463    ┆ 777590444   ┆             ┆ sonal       ┆             ┆             │\n",
       "│ DS.json      ┆             ┆             ┆             ┆             ┆             ┆             │\n",
       "│ ../../../../ ┆ 29268760793 ┆ 17643311666 ┆ 8.7675e18   ┆ BasicChecki ┆ 12701536632 ┆ Rejected    │\n",
       "│ data/SampleH ┆ 64830484    ┆ 777590444   ┆             ┆ ng          ┆ 16909461    ┆             │\n",
       "│ DS.json      ┆             ┆             ┆             ┆             ┆             ┆             │\n",
       "└──────────────┴─────────────┴─────────────┴─────────────┴─────────────┴─────────────┴─────────────┘"
      ]
     },
     "execution_count": 10,
     "metadata": {},
     "output_type": "execute_result"
    }
   ],
   "source": [
    "anon = DataAnonymization(config=Config(config_file='config.json'))\n",
    "anon.process()"
   ]
  },
  {
   "attachments": {},
   "cell_type": "markdown",
   "metadata": {},
   "source": [
    "## Exporting\n",
    "Two functions export:\n",
    "- `create_mapping_file()` writes the mapping file of the predictor names\n",
    "- `write_to_output()` writes the processed dataframe to disk\n",
    "\n",
    "Write to output accepts the following extensions: `[\"ndjson\", \"parquet\", \"arrow\", \"csv\"]`"
   ]
  },
  {
   "cell_type": "code",
   "execution_count": 11,
   "metadata": {
    "execution": {
     "iopub.execute_input": "2023-11-20T09:51:53.609998Z",
     "iopub.status.busy": "2023-11-20T09:51:53.609639Z",
     "iopub.status.idle": "2023-11-20T09:51:53.613535Z",
     "shell.execute_reply": "2023-11-20T09:51:53.612965Z"
    }
   },
   "outputs": [
    {
     "name": "stdout",
     "output_type": "stream",
     "text": [
      "filename=filename\n",
      "Customer_City=PREDICTOR_1\n",
      "Customer_MaritalStatus=PREDICTOR_2\n",
      "Customer_CLV=PREDICTOR_3\n",
      "Context_Name=Context_Name\n",
      "IH_Web_Inbound_Accepted_pxLastGroupID=IH_Web_Inbound_Accepted_pxLastGroupID\n",
      "Decision_Outcome=Decision_Outcome\n",
      "\n"
     ]
    }
   ],
   "source": [
    "anon.create_mapping_file()\n",
    "with open('mapping.map') as f:\n",
    "    print(f.read())"
   ]
  },
  {
   "cell_type": "code",
   "execution_count": 12,
   "metadata": {
    "execution": {
     "iopub.execute_input": "2023-11-20T09:51:53.615643Z",
     "iopub.status.busy": "2023-11-20T09:51:53.615350Z",
     "iopub.status.idle": "2023-11-20T09:51:53.619349Z",
     "shell.execute_reply": "2023-11-20T09:51:53.618791Z"
    }
   },
   "outputs": [],
   "source": [
    "anon.write_to_output(ext='arrow')"
   ]
  },
  {
   "cell_type": "code",
   "execution_count": 13,
   "metadata": {
    "execution": {
     "iopub.execute_input": "2023-11-20T09:51:53.621492Z",
     "iopub.status.busy": "2023-11-20T09:51:53.621154Z",
     "iopub.status.idle": "2023-11-20T09:51:53.625838Z",
     "shell.execute_reply": "2023-11-20T09:51:53.625309Z"
    }
   },
   "outputs": [
    {
     "data": {
      "text/html": [
       "<div><style>\n",
       ".dataframe > thead > tr > th,\n",
       ".dataframe > tbody > tr > td {\n",
       "  text-align: right;\n",
       "  white-space: pre-wrap;\n",
       "}\n",
       "</style>\n",
       "<small>shape: (7, 6)</small><table border=\"1\" class=\"dataframe\"><thead><tr><th>PREDICTOR_1</th><th>PREDICTOR_2</th><th>PREDICTOR_3</th><th>Context_Name</th><th>IH_Web_Inbound_Accepted_pxLastGroupID</th><th>Decision_Outcome</th></tr><tr><td>str</td><td>str</td><td>f64</td><td>str</td><td>str</td><td>str</td></tr></thead><tbody><tr><td>&quot;61958878299559…</td><td>&quot;59408735566217…</td><td>1.2927e19</td><td>&quot;FirstMortgage3…</td><td>&quot;15152104740935…</td><td>&quot;Rejected&quot;</td></tr><tr><td>&quot;14495114431079…</td><td>&quot;14593655763514…</td><td>1.4856e19</td><td>&quot;FirstMortgage3…</td><td>&quot;15520884950214…</td><td>&quot;Accepted&quot;</td></tr><tr><td>&quot;17510740810336…</td><td>&quot;18424391332731…</td><td>5.6458e17</td><td>&quot;MoneyMarketSav…</td><td>&quot;15152104740935…</td><td>&quot;Rejected&quot;</td></tr><tr><td>&quot;14663382147339…</td><td>&quot;14593655763514…</td><td>4.0723e18</td><td>&quot;BasicChecking&quot;</td><td>&quot;15152104740935…</td><td>&quot;Rejected&quot;</td></tr><tr><td>&quot;60927148057217…</td><td>&quot;59408735566217…</td><td>1.4677e19</td><td>&quot;BasicChecking&quot;</td><td>&quot;10419260060571…</td><td>&quot;Accepted&quot;</td></tr><tr><td>&quot;54521596897132…</td><td>&quot;18424391332731…</td><td>1.6330e19</td><td>&quot;UPlusFinPerson…</td><td>null</td><td>&quot;Rejected&quot;</td></tr><tr><td>&quot;64118049130810…</td><td>&quot;18424391332731…</td><td>8.7675e18</td><td>&quot;BasicChecking&quot;</td><td>&quot;10419260060571…</td><td>&quot;Rejected&quot;</td></tr></tbody></table></div>"
      ],
      "text/plain": [
       "shape: (7, 6)\n",
       "┌────────────────┬────────────────┬─────────────┬────────────────┬────────────────┬────────────────┐\n",
       "│ PREDICTOR_1    ┆ PREDICTOR_2    ┆ PREDICTOR_3 ┆ Context_Name   ┆ IH_Web_Inbound ┆ Decision_Outco │\n",
       "│ ---            ┆ ---            ┆ ---         ┆ ---            ┆ _Accepted_pxLa ┆ me             │\n",
       "│ str            ┆ str            ┆ f64         ┆ str            ┆ stGr…          ┆ ---            │\n",
       "│                ┆                ┆             ┆                ┆ ---            ┆ str            │\n",
       "│                ┆                ┆             ┆                ┆ str            ┆                │\n",
       "╞════════════════╪════════════════╪═════════════╪════════════════╪════════════════╪════════════════╡\n",
       "│ 61958878299559 ┆ 59408735566217 ┆ 1.2927e19   ┆ FirstMortgage3 ┆ 15152104740935 ┆ Rejected       │\n",
       "│ 37711          ┆ 95131          ┆             ┆ 0yr            ┆ 707625         ┆                │\n",
       "│ 14495114431079 ┆ 14593655763514 ┆ 1.4856e19   ┆ FirstMortgage3 ┆ 15520884950214 ┆ Accepted       │\n",
       "│ 730019         ┆ 005354         ┆             ┆ 0yr            ┆ 220335         ┆                │\n",
       "│ 17510740810336 ┆ 18424391332731 ┆ 5.6458e17   ┆ MoneyMarketSav ┆ 15152104740935 ┆ Rejected       │\n",
       "│ 452558         ┆ 280848         ┆             ┆ ingsAccount    ┆ 707625         ┆                │\n",
       "│ 14663382147339 ┆ 14593655763514 ┆ 4.0723e18   ┆ BasicChecking  ┆ 15152104740935 ┆ Rejected       │\n",
       "│ 968014         ┆ 005354         ┆             ┆                ┆ 707625         ┆                │\n",
       "│ 60927148057217 ┆ 59408735566217 ┆ 1.4677e19   ┆ BasicChecking  ┆ 10419260060571 ┆ Accepted       │\n",
       "│ 25006          ┆ 95131          ┆             ┆                ┆ 079733         ┆                │\n",
       "│ 54521596897132 ┆ 18424391332731 ┆ 1.6330e19   ┆ UPlusFinPerson ┆ null           ┆ Rejected       │\n",
       "│ 48810          ┆ 280848         ┆             ┆ al             ┆                ┆                │\n",
       "│ 64118049130810 ┆ 18424391332731 ┆ 8.7675e18   ┆ BasicChecking  ┆ 10419260060571 ┆ Rejected       │\n",
       "│ 53253          ┆ 280848         ┆             ┆                ┆ 079733         ┆                │\n",
       "└────────────────┴────────────────┴─────────────┴────────────────┴────────────────┴────────────────┘"
      ]
     },
     "execution_count": 13,
     "metadata": {},
     "output_type": "execute_result"
    }
   ],
   "source": [
    "pl.read_ipc('output/hds.arrow')"
   ]
  },
  {
   "attachments": {},
   "cell_type": "markdown",
   "metadata": {
    "nbsphinx": "hidden"
   },
   "source": [
    "## Advanced: Hash fuctions\n",
    "\n",
    "By default, we use [the same hashing algorithm Polars](https://pola-rs.github.io/polars/py-polars/html/reference/expressions/api/polars.Expr.hash.html#polars.Expr.hash) uses: [xxhash](https://github.com/Cyan4973/xxHash), as implemented [here](https://github.com/pola-rs/polars/blob/3f287f370b3c388ed2f3f218b2c096382548136f/polars/polars-core/src/vector_hasher.rs#L266). xxhash is fast to compute, and you can check its performance in collision, dispersion and randomness [here](https://github.com/Cyan4973/xxHash/tree/dev/tests). \n",
    "\n",
    "xxhash accepts four distinct seeds, but by default we set the seeds to `0`. It is possible to set the `seed` argument of the `process()` function to `'random'`, which will set all four seeds to a random integer between `0` and `1000000000`. Alternatively, it is possible to supply the four seeds manually with arguments `seed`, `seed_1`, `seed_2` and `seed_3`. \n",
    "\n",
    "If the xxhash with (random) seed(s) is not deemed sufficiently secure, it is possible to use your own hashing algorithm.\n",
    "\n",
    "Note that since we're now running python code and not native Polars code anymore, this will be _significantly_ slower. Nonetheless, it is possible.\n",
    "\n",
    "Just as an example - this is how one would use sha3_256:"
   ]
  },
  {
   "cell_type": "code",
   "execution_count": 14,
   "metadata": {
    "execution": {
     "iopub.execute_input": "2023-11-20T09:51:53.628015Z",
     "iopub.status.busy": "2023-11-20T09:51:53.627709Z",
     "iopub.status.idle": "2023-11-20T09:51:53.957170Z",
     "shell.execute_reply": "2023-11-20T09:51:53.956562Z"
    },
    "nbsphinx": "hidden"
   },
   "outputs": [
    {
     "ename": "ComputeError",
     "evalue": "AttributeError: 'int' object has no attribute 'encode'",
     "output_type": "error",
     "traceback": [
      "\u001b[0;31m---------------------------------------------------------------------------\u001b[0m",
      "\u001b[0;31mComputeError\u001b[0m                              Traceback (most recent call last)",
      "Cell \u001b[0;32mIn[14], line 3\u001b[0m\n\u001b[1;32m      1\u001b[0m \u001b[38;5;28;01mfrom\u001b[39;00m \u001b[38;5;21;01mhashlib\u001b[39;00m \u001b[38;5;28;01mimport\u001b[39;00m sha3_256\n\u001b[0;32m----> 3\u001b[0m \u001b[43manon\u001b[49m\u001b[38;5;241;43m.\u001b[39;49m\u001b[43mprocess\u001b[49m\u001b[43m(\u001b[49m\u001b[43malgorithm\u001b[49m\u001b[38;5;241;43m=\u001b[39;49m\u001b[38;5;28;43;01mlambda\u001b[39;49;00m\u001b[43m \u001b[49m\u001b[43mx\u001b[49m\u001b[43m:\u001b[49m\u001b[43m \u001b[49m\u001b[43msha3_256\u001b[49m\u001b[43m(\u001b[49m\u001b[43mx\u001b[49m\u001b[38;5;241;43m.\u001b[39;49m\u001b[43mencode\u001b[49m\u001b[43m(\u001b[49m\u001b[43m)\u001b[49m\u001b[43m)\u001b[49m\u001b[38;5;241;43m.\u001b[39;49m\u001b[43mhexdigest\u001b[49m\u001b[43m(\u001b[49m\u001b[43m)\u001b[49m\u001b[43m)\u001b[49m\n",
      "File \u001b[0;32m~/work/pega-datascientist-tools/pega-datascientist-tools/python/docs/source/articles/../../../pdstools/utils/hds_utils.py:516\u001b[0m, in \u001b[0;36mDataAnonymization.process\u001b[0;34m(self, strategy, **kwargs)\u001b[0m\n\u001b[1;32m    514\u001b[0m df \u001b[38;5;241m=\u001b[39m df\u001b[38;5;241m.\u001b[39mselect(\u001b[38;5;28mself\u001b[39m\u001b[38;5;241m.\u001b[39mcolumn_mapping\u001b[38;5;241m.\u001b[39mkeys())\u001b[38;5;241m.\u001b[39mrename(\u001b[38;5;28mself\u001b[39m\u001b[38;5;241m.\u001b[39mcolumn_mapping)\n\u001b[1;32m    515\u001b[0m \u001b[38;5;28;01mif\u001b[39;00m strategy \u001b[38;5;241m==\u001b[39m \u001b[38;5;124m\"\u001b[39m\u001b[38;5;124meager\u001b[39m\u001b[38;5;124m\"\u001b[39m:\n\u001b[0;32m--> 516\u001b[0m     \u001b[38;5;28;01mreturn\u001b[39;00m \u001b[43mdf\u001b[49m\u001b[38;5;241;43m.\u001b[39;49m\u001b[43mcollect\u001b[49m\u001b[43m(\u001b[49m\u001b[43m)\u001b[49m\n\u001b[1;32m    517\u001b[0m \u001b[38;5;28;01mreturn\u001b[39;00m df\n",
      "File \u001b[0;32m/opt/hostedtoolcache/Python/3.11.6/x64/lib/python3.11/site-packages/polars/utils/deprecation.py:100\u001b[0m, in \u001b[0;36mdeprecate_renamed_parameter.<locals>.decorate.<locals>.wrapper\u001b[0;34m(*args, **kwargs)\u001b[0m\n\u001b[1;32m     95\u001b[0m \u001b[38;5;129m@wraps\u001b[39m(function)\n\u001b[1;32m     96\u001b[0m \u001b[38;5;28;01mdef\u001b[39;00m \u001b[38;5;21mwrapper\u001b[39m(\u001b[38;5;241m*\u001b[39margs: P\u001b[38;5;241m.\u001b[39margs, \u001b[38;5;241m*\u001b[39m\u001b[38;5;241m*\u001b[39mkwargs: P\u001b[38;5;241m.\u001b[39mkwargs) \u001b[38;5;241m-\u001b[39m\u001b[38;5;241m>\u001b[39m T:\n\u001b[1;32m     97\u001b[0m     _rename_keyword_argument(\n\u001b[1;32m     98\u001b[0m         old_name, new_name, kwargs, function\u001b[38;5;241m.\u001b[39m\u001b[38;5;18m__name__\u001b[39m, version\n\u001b[1;32m     99\u001b[0m     )\n\u001b[0;32m--> 100\u001b[0m     \u001b[38;5;28;01mreturn\u001b[39;00m \u001b[43mfunction\u001b[49m\u001b[43m(\u001b[49m\u001b[38;5;241;43m*\u001b[39;49m\u001b[43margs\u001b[49m\u001b[43m,\u001b[49m\u001b[43m \u001b[49m\u001b[38;5;241;43m*\u001b[39;49m\u001b[38;5;241;43m*\u001b[39;49m\u001b[43mkwargs\u001b[49m\u001b[43m)\u001b[49m\n",
      "File \u001b[0;32m/opt/hostedtoolcache/Python/3.11.6/x64/lib/python3.11/site-packages/polars/lazyframe/frame.py:1787\u001b[0m, in \u001b[0;36mLazyFrame.collect\u001b[0;34m(self, type_coercion, predicate_pushdown, projection_pushdown, simplify_expression, slice_pushdown, comm_subplan_elim, comm_subexpr_elim, no_optimization, streaming, _eager)\u001b[0m\n\u001b[1;32m   1774\u001b[0m     comm_subplan_elim \u001b[38;5;241m=\u001b[39m \u001b[38;5;28;01mFalse\u001b[39;00m\n\u001b[1;32m   1776\u001b[0m ldf \u001b[38;5;241m=\u001b[39m \u001b[38;5;28mself\u001b[39m\u001b[38;5;241m.\u001b[39m_ldf\u001b[38;5;241m.\u001b[39moptimization_toggle(\n\u001b[1;32m   1777\u001b[0m     type_coercion,\n\u001b[1;32m   1778\u001b[0m     predicate_pushdown,\n\u001b[0;32m   (...)\u001b[0m\n\u001b[1;32m   1785\u001b[0m     _eager,\n\u001b[1;32m   1786\u001b[0m )\n\u001b[0;32m-> 1787\u001b[0m \u001b[38;5;28;01mreturn\u001b[39;00m wrap_df(ldf\u001b[38;5;241m.\u001b[39mcollect())\n",
      "\u001b[0;31mComputeError\u001b[0m: AttributeError: 'int' object has no attribute 'encode'"
     ]
    }
   ],
   "source": [
    "from hashlib import sha3_256\n",
    "\n",
    "anon.process(algorithm=lambda x: sha3_256(x.encode()).hexdigest())"
   ]
  }
 ],
 "metadata": {
  "kernelspec": {
   "display_name": "Python 3",
   "language": "python",
   "name": "python3"
  },
  "language_info": {
   "codemirror_mode": {
    "name": "ipython",
    "version": 3
   },
   "file_extension": ".py",
   "mimetype": "text/x-python",
   "name": "python",
   "nbconvert_exporter": "python",
   "pygments_lexer": "ipython3",
   "version": "3.11.6"
  },
  "vscode": {
   "interpreter": {
    "hash": "aee8b7b246df8f9039afb4144a1f6fd8d2ca17a180786b69acc140d282b71a49"
   }
  }
 },
 "nbformat": 4,
 "nbformat_minor": 2
}
