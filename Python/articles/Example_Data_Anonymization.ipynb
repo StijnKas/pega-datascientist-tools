{
 "cells": [
  {
   "attachments": {},
   "cell_type": "markdown",
   "metadata": {},
   "source": [
    "# Example data anonymization\n",
    "\n",
    "In Pega CDH 8.5 and up, it's now possible to record the historical data as seen by the Adaptive Models. See [this academy challenge](https://academy.pega.com/challenge/exporting-historical-data/v4) for reference. This historical data can be further used to experiment with offline models, but also to fine-tune the OOTB Gradient Boosting model. However, sharing this information with Pega can be sensitive as it contains raw predictor data. \n",
    "\n",
    "To this end, we provide a simple and transparent script to fully anonimize this dataset.\n",
    "\n",
    "The DataAnonymization script is now part of pdstools, and you can import it directly as such."
   ]
  },
  {
   "cell_type": "code",
   "execution_count": 1,
   "metadata": {
    "execution": {
     "iopub.execute_input": "2023-10-02T08:28:20.772304Z",
     "iopub.status.busy": "2023-10-02T08:28:20.771874Z",
     "iopub.status.idle": "2023-10-02T08:28:20.855084Z",
     "shell.execute_reply": "2023-10-02T08:28:20.854428Z"
    },
    "nbsphinx": "hidden"
   },
   "outputs": [],
   "source": [
    "# These lines are only for rendering in the docs, and are hidden through Jupyter tags\n",
    "# Do not run if you're running the notebook seperately\n",
    "\n",
    "import os  \n",
    "import sys\n",
    "import plotly.io as pio\n",
    "pio.renderers.default = \"notebook_connected\"\n",
    "\n",
    "sys.path.append(\"../../../\")\n",
    "sys.path.append('../../python')"
   ]
  },
  {
   "cell_type": "code",
   "execution_count": 2,
   "metadata": {
    "execution": {
     "iopub.execute_input": "2023-10-02T08:28:20.858073Z",
     "iopub.status.busy": "2023-10-02T08:28:20.857861Z",
     "iopub.status.idle": "2023-10-02T08:28:22.095865Z",
     "shell.execute_reply": "2023-10-02T08:28:22.095203Z"
    }
   },
   "outputs": [],
   "source": [
    "from pdstools import ADMDatamart\n",
    "from pdstools import Config, DataAnonymization\n",
    "import polars as pl"
   ]
  },
  {
   "attachments": {},
   "cell_type": "markdown",
   "metadata": {},
   "source": [
    "## Input data\n",
    "\n",
    "To demonstrate this process, we're going to anonymise this toy example dataframe:"
   ]
  },
  {
   "cell_type": "code",
   "execution_count": 3,
   "metadata": {
    "execution": {
     "iopub.execute_input": "2023-10-02T08:28:22.099330Z",
     "iopub.status.busy": "2023-10-02T08:28:22.098594Z",
     "iopub.status.idle": "2023-10-02T08:28:22.109135Z",
     "shell.execute_reply": "2023-10-02T08:28:22.108550Z"
    }
   },
   "outputs": [
    {
     "data": {
      "text/html": [
       "<div><style>\n",
       ".dataframe > thead > tr > th,\n",
       ".dataframe > tbody > tr > td {\n",
       "  text-align: right;\n",
       "  white-space: pre-wrap;\n",
       "}\n",
       "</style>\n",
       "<small>shape: (7, 6)</small><table border=\"1\" class=\"dataframe\"><thead><tr><th>Context_Name</th><th>Customer_MaritalStatus</th><th>Customer_CLV</th><th>Customer_City</th><th>IH_Web_Inbound_Accepted_pxLastGroupID</th><th>Decision_Outcome</th></tr><tr><td>str</td><td>str</td><td>i64</td><td>str</td><td>str</td><td>str</td></tr></thead><tbody><tr><td>&quot;FirstMortgage3…</td><td>&quot;Married&quot;</td><td>1460</td><td>&quot;Port Raoul&quot;</td><td>&quot;Account&quot;</td><td>&quot;Rejected&quot;</td></tr><tr><td>&quot;FirstMortgage3…</td><td>&quot;Unknown&quot;</td><td>669</td><td>&quot;Laurianneshire…</td><td>&quot;AutoLoans&quot;</td><td>&quot;Accepted&quot;</td></tr><tr><td>&quot;MoneyMarketSav…</td><td>&quot;No Resp+&quot;</td><td>1174</td><td>&quot;Jacobshaven&quot;</td><td>&quot;Account&quot;</td><td>&quot;Rejected&quot;</td></tr><tr><td>&quot;BasicChecking&quot;</td><td>&quot;Unknown&quot;</td><td>1476</td><td>&quot;Lindton&quot;</td><td>&quot;Account&quot;</td><td>&quot;Rejected&quot;</td></tr><tr><td>&quot;BasicChecking&quot;</td><td>&quot;Married&quot;</td><td>1211</td><td>&quot;South Jimmiesh…</td><td>&quot;DepositAccount…</td><td>&quot;Accepted&quot;</td></tr><tr><td>&quot;UPlusFinPerson…</td><td>&quot;No Resp+&quot;</td><td>533</td><td>&quot;Bergeville&quot;</td><td>null</td><td>&quot;Rejected&quot;</td></tr><tr><td>&quot;BasicChecking&quot;</td><td>&quot;No Resp+&quot;</td><td>555</td><td>&quot;Willyville&quot;</td><td>&quot;DepositAccount…</td><td>&quot;Rejected&quot;</td></tr></tbody></table></div>"
      ],
      "text/plain": [
       "shape: (7, 6)\n",
       "┌────────────────┬────────────────┬──────────────┬────────────────┬────────────────┬───────────────┐\n",
       "│ Context_Name   ┆ Customer_Marit ┆ Customer_CLV ┆ Customer_City  ┆ IH_Web_Inbound ┆ Decision_Outc │\n",
       "│ ---            ┆ alStatus       ┆ ---          ┆ ---            ┆ _Accepted_pxLa ┆ ome           │\n",
       "│ str            ┆ ---            ┆ i64          ┆ str            ┆ stGr…          ┆ ---           │\n",
       "│                ┆ str            ┆              ┆                ┆ ---            ┆ str           │\n",
       "│                ┆                ┆              ┆                ┆ str            ┆               │\n",
       "╞════════════════╪════════════════╪══════════════╪════════════════╪════════════════╪═══════════════╡\n",
       "│ FirstMortgage3 ┆ Married        ┆ 1460         ┆ Port Raoul     ┆ Account        ┆ Rejected      │\n",
       "│ 0yr            ┆                ┆              ┆                ┆                ┆               │\n",
       "│ FirstMortgage3 ┆ Unknown        ┆ 669          ┆ Laurianneshire ┆ AutoLoans      ┆ Accepted      │\n",
       "│ 0yr            ┆                ┆              ┆                ┆                ┆               │\n",
       "│ MoneyMarketSav ┆ No Resp+       ┆ 1174         ┆ Jacobshaven    ┆ Account        ┆ Rejected      │\n",
       "│ ingsAccount    ┆                ┆              ┆                ┆                ┆               │\n",
       "│ BasicChecking  ┆ Unknown        ┆ 1476         ┆ Lindton        ┆ Account        ┆ Rejected      │\n",
       "│ BasicChecking  ┆ Married        ┆ 1211         ┆ South          ┆ DepositAccount ┆ Accepted      │\n",
       "│                ┆                ┆              ┆ Jimmieshire    ┆ s              ┆               │\n",
       "│ UPlusFinPerson ┆ No Resp+       ┆ 533          ┆ Bergeville     ┆ null           ┆ Rejected      │\n",
       "│ al             ┆                ┆              ┆                ┆                ┆               │\n",
       "│ BasicChecking  ┆ No Resp+       ┆ 555          ┆ Willyville     ┆ DepositAccount ┆ Rejected      │\n",
       "│                ┆                ┆              ┆                ┆ s              ┆               │\n",
       "└────────────────┴────────────────┴──────────────┴────────────────┴────────────────┴───────────────┘"
      ]
     },
     "execution_count": 3,
     "metadata": {},
     "output_type": "execute_result"
    }
   ],
   "source": [
    "pl.read_ndjson('../../../../data/SampleHDS.json')"
   ]
  },
  {
   "attachments": {},
   "cell_type": "markdown",
   "metadata": {},
   "source": [
    "As you can see, this dataset consists of regular predictors, IH predictors, context keys and the outcome column. Additionally, some columns are numeric, others are strings. Let's first initialize the DataAnonymization class."
   ]
  },
  {
   "cell_type": "code",
   "execution_count": 4,
   "metadata": {
    "execution": {
     "iopub.execute_input": "2023-10-02T08:28:22.111794Z",
     "iopub.status.busy": "2023-10-02T08:28:22.111225Z",
     "iopub.status.idle": "2023-10-02T08:28:22.122507Z",
     "shell.execute_reply": "2023-10-02T08:28:22.121985Z"
    }
   },
   "outputs": [],
   "source": [
    "anon = DataAnonymization(hds_folder='../../../../data/')"
   ]
  },
  {
   "attachments": {},
   "cell_type": "markdown",
   "metadata": {},
   "source": [
    "By default, the class applies a set of anonymisation techniques:\n",
    "- Column names are remapped to a non-descriptive name\n",
    "- Categorical values are hashed with a random seed\n",
    "- Numerical values are normalized between 0 and 1\n",
    "- Outcomes are mapped to a binary outcome.\n",
    "\n",
    "To apply these techniques, simply call `.process()`:"
   ]
  },
  {
   "cell_type": "code",
   "execution_count": 5,
   "metadata": {
    "execution": {
     "iopub.execute_input": "2023-10-02T08:28:22.125017Z",
     "iopub.status.busy": "2023-10-02T08:28:22.124579Z",
     "iopub.status.idle": "2023-10-02T08:28:22.131393Z",
     "shell.execute_reply": "2023-10-02T08:28:22.130802Z"
    }
   },
   "outputs": [
    {
     "data": {
      "text/html": [
       "<div><style>\n",
       ".dataframe > thead > tr > th,\n",
       ".dataframe > tbody > tr > td {\n",
       "  text-align: right;\n",
       "  white-space: pre-wrap;\n",
       "}\n",
       "</style>\n",
       "<small>shape: (7, 7)</small><table border=\"1\" class=\"dataframe\"><thead><tr><th>PREDICTOR_0</th><th>PREDICTOR_1</th><th>filename</th><th>PREDICTOR_3</th><th>Context_Name</th><th>IH_PREDICTOR_0</th><th>Decision_Outcome</th></tr><tr><td>str</td><td>f64</td><td>str</td><td>str</td><td>str</td><td>str</td><td>bool</td></tr></thead><tbody><tr><td>&quot;41153217125159…</td><td>1.2927e19</td><td>&quot;../../../../da…</td><td>&quot;12502106501824…</td><td>&quot;59143263993699…</td><td>&quot;11784169363593…</td><td>false</td></tr><tr><td>&quot;14153848094108…</td><td>1.4856e19</td><td>&quot;../../../../da…</td><td>&quot;10704760079080…</td><td>&quot;59143263993699…</td><td>&quot;93391153075024…</td><td>true</td></tr><tr><td>&quot;59085154100626…</td><td>5.6458e17</td><td>&quot;../../../../da…</td><td>&quot;17561038694648…</td><td>&quot;79331187084866…</td><td>&quot;11784169363593…</td><td>false</td></tr><tr><td>&quot;14153848094108…</td><td>4.0723e18</td><td>&quot;../../../../da…</td><td>&quot;12810933808914…</td><td>&quot;53911709760382…</td><td>&quot;11784169363593…</td><td>false</td></tr><tr><td>&quot;41153217125159…</td><td>1.4677e19</td><td>&quot;../../../../da…</td><td>&quot;17689980858241…</td><td>&quot;53911709760382…</td><td>&quot;13463090062670…</td><td>true</td></tr><tr><td>&quot;59085154100626…</td><td>1.6330e19</td><td>&quot;../../../../da…</td><td>&quot;16175642567037…</td><td>&quot;13885578678508…</td><td>null</td><td>false</td></tr><tr><td>&quot;59085154100626…</td><td>8.7675e18</td><td>&quot;../../../../da…</td><td>&quot;27510793089845…</td><td>&quot;53911709760382…</td><td>&quot;13463090062670…</td><td>false</td></tr></tbody></table></div>"
      ],
      "text/plain": [
       "shape: (7, 7)\n",
       "┌──────────────┬─────────────┬─────────────┬─────────────┬─────────────┬─────────────┬─────────────┐\n",
       "│ PREDICTOR_0  ┆ PREDICTOR_1 ┆ filename    ┆ PREDICTOR_3 ┆ Context_Nam ┆ IH_PREDICTO ┆ Decision_Ou │\n",
       "│ ---          ┆ ---         ┆ ---         ┆ ---         ┆ e           ┆ R_0         ┆ tcome       │\n",
       "│ str          ┆ f64         ┆ str         ┆ str         ┆ ---         ┆ ---         ┆ ---         │\n",
       "│              ┆             ┆             ┆             ┆ str         ┆ str         ┆ bool        │\n",
       "╞══════════════╪═════════════╪═════════════╪═════════════╪═════════════╪═════════════╪═════════════╡\n",
       "│ 411532171251 ┆ 1.2927e19   ┆ ../../../.. ┆ 12502106501 ┆ 59143263993 ┆ 11784169363 ┆ false       │\n",
       "│ 5915718      ┆             ┆ /data/Sampl ┆ 824173372   ┆ 69942111    ┆ 593636585   ┆             │\n",
       "│              ┆             ┆ eHDS.json   ┆             ┆             ┆             ┆             │\n",
       "│ 141538480941 ┆ 1.4856e19   ┆ ../../../.. ┆ 10704760079 ┆ 59143263993 ┆ 93391153075 ┆ true        │\n",
       "│ 08883851     ┆             ┆ /data/Sampl ┆ 08073192    ┆ 69942111    ┆ 02423009    ┆             │\n",
       "│              ┆             ┆ eHDS.json   ┆             ┆             ┆             ┆             │\n",
       "│ 590851541006 ┆ 5.6458e17   ┆ ../../../.. ┆ 17561038694 ┆ 79331187084 ┆ 11784169363 ┆ false       │\n",
       "│ 2667003      ┆             ┆ /data/Sampl ┆ 648145664   ┆ 86694420    ┆ 593636585   ┆             │\n",
       "│              ┆             ┆ eHDS.json   ┆             ┆             ┆             ┆             │\n",
       "│ 141538480941 ┆ 4.0723e18   ┆ ../../../.. ┆ 12810933808 ┆ 53911709760 ┆ 11784169363 ┆ false       │\n",
       "│ 08883851     ┆             ┆ /data/Sampl ┆ 914581628   ┆ 38202759    ┆ 593636585   ┆             │\n",
       "│              ┆             ┆ eHDS.json   ┆             ┆             ┆             ┆             │\n",
       "│ 411532171251 ┆ 1.4677e19   ┆ ../../../.. ┆ 17689980858 ┆ 53911709760 ┆ 13463090062 ┆ true        │\n",
       "│ 5915718      ┆             ┆ /data/Sampl ┆ 241762188   ┆ 38202759    ┆ 670461942   ┆             │\n",
       "│              ┆             ┆ eHDS.json   ┆             ┆             ┆             ┆             │\n",
       "│ 590851541006 ┆ 1.6330e19   ┆ ../../../.. ┆ 16175642567 ┆ 13885578678 ┆ null        ┆ false       │\n",
       "│ 2667003      ┆             ┆ /data/Sampl ┆ 037724012   ┆ 508580845   ┆             ┆             │\n",
       "│              ┆             ┆ eHDS.json   ┆             ┆             ┆             ┆             │\n",
       "│ 590851541006 ┆ 8.7675e18   ┆ ../../../.. ┆ 27510793089 ┆ 53911709760 ┆ 13463090062 ┆ false       │\n",
       "│ 2667003      ┆             ┆ /data/Sampl ┆ 84535280    ┆ 38202759    ┆ 670461942   ┆             │\n",
       "│              ┆             ┆ eHDS.json   ┆             ┆             ┆             ┆             │\n",
       "└──────────────┴─────────────┴─────────────┴─────────────┴─────────────┴─────────────┴─────────────┘"
      ]
     },
     "execution_count": 5,
     "metadata": {},
     "output_type": "execute_result"
    }
   ],
   "source": [
    "anon.process()"
   ]
  },
  {
   "attachments": {},
   "cell_type": "markdown",
   "metadata": {},
   "source": [
    "To trace back the columns to their original names, the class also contains a mapping, which does not have to be provided."
   ]
  },
  {
   "cell_type": "code",
   "execution_count": 6,
   "metadata": {
    "execution": {
     "iopub.execute_input": "2023-10-02T08:28:22.133998Z",
     "iopub.status.busy": "2023-10-02T08:28:22.133688Z",
     "iopub.status.idle": "2023-10-02T08:28:22.137585Z",
     "shell.execute_reply": "2023-10-02T08:28:22.137129Z"
    }
   },
   "outputs": [
    {
     "data": {
      "text/plain": [
       "{'Customer_MaritalStatus': 'PREDICTOR_0',\n",
       " 'Customer_CLV': 'PREDICTOR_1',\n",
       " 'filename': 'filename',\n",
       " 'Customer_City': 'PREDICTOR_3',\n",
       " 'Context_Name': 'Context_Name',\n",
       " 'IH_Web_Inbound_Accepted_pxLastGroupID': 'IH_PREDICTOR_0',\n",
       " 'Decision_Outcome': 'Decision_Outcome'}"
      ]
     },
     "execution_count": 6,
     "metadata": {},
     "output_type": "execute_result"
    }
   ],
   "source": [
    "anon.column_mapping"
   ]
  },
  {
   "attachments": {},
   "cell_type": "markdown",
   "metadata": {},
   "source": [
    "## Configs\n",
    "\n",
    "Each capability can optionally be turned off - see below for the full list of config options, and refer to the API reference for the full description."
   ]
  },
  {
   "cell_type": "code",
   "execution_count": 7,
   "metadata": {
    "execution": {
     "iopub.execute_input": "2023-10-02T08:28:22.139709Z",
     "iopub.status.busy": "2023-10-02T08:28:22.139363Z",
     "iopub.status.idle": "2023-10-02T08:28:22.143787Z",
     "shell.execute_reply": "2023-10-02T08:28:22.143340Z"
    }
   },
   "outputs": [
    {
     "data": {
      "text/plain": [
       "{'config_file': None,\n",
       " 'hds_folder': '.',\n",
       " 'use_datamart': False,\n",
       " 'datamart_folder': 'datamart',\n",
       " 'output_format': 'ndjson',\n",
       " 'output_folder': 'output',\n",
       " 'mapping_file': 'mapping.map',\n",
       " 'mask_predictor_names': True,\n",
       " 'mask_context_key_names': False,\n",
       " 'mask_ih_names': True,\n",
       " 'mask_outcome_name': False,\n",
       " 'mask_predictor_values': True,\n",
       " 'mask_context_key_values': True,\n",
       " 'mask_ih_values': True,\n",
       " 'mask_outcome_values': True,\n",
       " 'context_key_label': 'Context_*',\n",
       " 'ih_label': 'IH_*',\n",
       " 'outcome_column': 'Decision_Outcome',\n",
       " 'positive_outcomes': ['Accepted', 'Clicked'],\n",
       " 'negative_outcomes': ['Rejected', 'Impression'],\n",
       " 'special_predictors': ['Decision_DecisionTime',\n",
       "  'Decision_OutcomeTime',\n",
       "  'Decision_Rank'],\n",
       " 'sample_percentage_schema_inferencing': 0.01}"
      ]
     },
     "execution_count": 7,
     "metadata": {},
     "output_type": "execute_result"
    }
   ],
   "source": [
    "dict(zip(Config.__init__.__code__.co_varnames[1:], Config.__init__.__defaults__))"
   ]
  },
  {
   "attachments": {},
   "cell_type": "markdown",
   "metadata": {},
   "source": [
    "It's easy to change these parameters by just passing the keyword arguments. In the following example, we\n",
    "- Keep the IH predictor names\n",
    "- Keep the outcome values\n",
    "- Keep the context key values\n",
    "- Keep the context key predictor names"
   ]
  },
  {
   "cell_type": "code",
   "execution_count": 8,
   "metadata": {
    "execution": {
     "iopub.execute_input": "2023-10-02T08:28:22.146217Z",
     "iopub.status.busy": "2023-10-02T08:28:22.145635Z",
     "iopub.status.idle": "2023-10-02T08:28:22.156178Z",
     "shell.execute_reply": "2023-10-02T08:28:22.155715Z"
    }
   },
   "outputs": [
    {
     "data": {
      "text/html": [
       "<div><style>\n",
       ".dataframe > thead > tr > th,\n",
       ".dataframe > tbody > tr > td {\n",
       "  text-align: right;\n",
       "  white-space: pre-wrap;\n",
       "}\n",
       "</style>\n",
       "<small>shape: (7, 7)</small><table border=\"1\" class=\"dataframe\"><thead><tr><th>PREDICTOR_0</th><th>PREDICTOR_1</th><th>filename</th><th>PREDICTOR_3</th><th>Context_Name</th><th>IH_Web_Inbound_Accepted_pxLastGroupID</th><th>Decision_Outcome</th></tr><tr><td>str</td><td>f64</td><td>str</td><td>str</td><td>str</td><td>str</td><td>str</td></tr></thead><tbody><tr><td>&quot;84904685339337…</td><td>1.2927e19</td><td>&quot;../../../../da…</td><td>&quot;13972264189587…</td><td>&quot;FirstMortgage3…</td><td>&quot;83368515666794…</td><td>&quot;Rejected&quot;</td></tr><tr><td>&quot;16499793692551…</td><td>1.4856e19</td><td>&quot;../../../../da…</td><td>&quot;17122691258642…</td><td>&quot;FirstMortgage3…</td><td>&quot;86785223551687…</td><td>&quot;Accepted&quot;</td></tr><tr><td>&quot;69138594698998…</td><td>5.6458e17</td><td>&quot;../../../../da…</td><td>&quot;16373169333857…</td><td>&quot;MoneyMarketSav…</td><td>&quot;83368515666794…</td><td>&quot;Rejected&quot;</td></tr><tr><td>&quot;16499793692551…</td><td>4.0723e18</td><td>&quot;../../../../da…</td><td>&quot;55918795542696…</td><td>&quot;BasicChecking&quot;</td><td>&quot;83368515666794…</td><td>&quot;Rejected&quot;</td></tr><tr><td>&quot;84904685339337…</td><td>1.4677e19</td><td>&quot;../../../../da…</td><td>&quot;17845130597716…</td><td>&quot;BasicChecking&quot;</td><td>&quot;62972369895309…</td><td>&quot;Accepted&quot;</td></tr><tr><td>&quot;69138594698998…</td><td>1.6330e19</td><td>&quot;../../../../da…</td><td>&quot;19428634697036…</td><td>&quot;UPlusFinPerson…</td><td>null</td><td>&quot;Rejected&quot;</td></tr><tr><td>&quot;69138594698998…</td><td>8.7675e18</td><td>&quot;../../../../da…</td><td>&quot;53275219726003…</td><td>&quot;BasicChecking&quot;</td><td>&quot;62972369895309…</td><td>&quot;Rejected&quot;</td></tr></tbody></table></div>"
      ],
      "text/plain": [
       "shape: (7, 7)\n",
       "┌──────────────┬─────────────┬─────────────┬─────────────┬─────────────┬─────────────┬─────────────┐\n",
       "│ PREDICTOR_0  ┆ PREDICTOR_1 ┆ filename    ┆ PREDICTOR_3 ┆ Context_Nam ┆ IH_Web_Inbo ┆ Decision_Ou │\n",
       "│ ---          ┆ ---         ┆ ---         ┆ ---         ┆ e           ┆ und_Accepte ┆ tcome       │\n",
       "│ str          ┆ f64         ┆ str         ┆ str         ┆ ---         ┆ d_pxLastGr… ┆ ---         │\n",
       "│              ┆             ┆             ┆             ┆ str         ┆ ---         ┆ str         │\n",
       "│              ┆             ┆             ┆             ┆             ┆ str         ┆             │\n",
       "╞══════════════╪═════════════╪═════════════╪═════════════╪═════════════╪═════════════╪═════════════╡\n",
       "│ 849046853393 ┆ 1.2927e19   ┆ ../../../.. ┆ 13972264189 ┆ FirstMortga ┆ 83368515666 ┆ Rejected    │\n",
       "│ 3786720      ┆             ┆ /data/Sampl ┆ 587122528   ┆ ge30yr      ┆ 7942797     ┆             │\n",
       "│              ┆             ┆ eHDS.json   ┆             ┆             ┆             ┆             │\n",
       "│ 164997936925 ┆ 1.4856e19   ┆ ../../../.. ┆ 17122691258 ┆ FirstMortga ┆ 86785223551 ┆ Accepted    │\n",
       "│ 51550018     ┆             ┆ /data/Sampl ┆ 642802091   ┆ ge30yr      ┆ 68736709    ┆             │\n",
       "│              ┆             ┆ eHDS.json   ┆             ┆             ┆             ┆             │\n",
       "│ 691385946989 ┆ 5.6458e17   ┆ ../../../.. ┆ 16373169333 ┆ MoneyMarket ┆ 83368515666 ┆ Rejected    │\n",
       "│ 9855561      ┆             ┆ /data/Sampl ┆ 857346340   ┆ SavingsAcco ┆ 7942797     ┆             │\n",
       "│              ┆             ┆ eHDS.json   ┆             ┆ unt         ┆             ┆             │\n",
       "│ 164997936925 ┆ 4.0723e18   ┆ ../../../.. ┆ 55918795542 ┆ BasicChecki ┆ 83368515666 ┆ Rejected    │\n",
       "│ 51550018     ┆             ┆ /data/Sampl ┆ 69668039    ┆ ng          ┆ 7942797     ┆             │\n",
       "│              ┆             ┆ eHDS.json   ┆             ┆             ┆             ┆             │\n",
       "│ 849046853393 ┆ 1.4677e19   ┆ ../../../.. ┆ 17845130597 ┆ BasicChecki ┆ 62972369895 ┆ Accepted    │\n",
       "│ 3786720      ┆             ┆ /data/Sampl ┆ 716893122   ┆ ng          ┆ 30928278    ┆             │\n",
       "│              ┆             ┆ eHDS.json   ┆             ┆             ┆             ┆             │\n",
       "│ 691385946989 ┆ 1.6330e19   ┆ ../../../.. ┆ 19428634697 ┆ UPlusFinPer ┆ null        ┆ Rejected    │\n",
       "│ 9855561      ┆             ┆ /data/Sampl ┆ 03687810    ┆ sonal       ┆             ┆             │\n",
       "│              ┆             ┆ eHDS.json   ┆             ┆             ┆             ┆             │\n",
       "│ 691385946989 ┆ 8.7675e18   ┆ ../../../.. ┆ 53275219726 ┆ BasicChecki ┆ 62972369895 ┆ Rejected    │\n",
       "│ 9855561      ┆             ┆ /data/Sampl ┆ 00369586    ┆ ng          ┆ 30928278    ┆             │\n",
       "│              ┆             ┆ eHDS.json   ┆             ┆             ┆             ┆             │\n",
       "└──────────────┴─────────────┴─────────────┴─────────────┴─────────────┴─────────────┴─────────────┘"
      ]
     },
     "execution_count": 8,
     "metadata": {},
     "output_type": "execute_result"
    }
   ],
   "source": [
    "anon = DataAnonymization(\n",
    "    hds_folder=\"../../../../data/\",\n",
    "    mask_ih_names=False,\n",
    "    mask_outcome_values=False,\n",
    "    mask_context_key_values=False,\n",
    "    mask_context_key_names=False,\n",
    ")\n",
    "anon.process()\n"
   ]
  },
  {
   "attachments": {},
   "cell_type": "markdown",
   "metadata": {},
   "source": [
    "The configs can also be written and read as such:"
   ]
  },
  {
   "cell_type": "code",
   "execution_count": 9,
   "metadata": {
    "execution": {
     "iopub.execute_input": "2023-10-02T08:28:22.158411Z",
     "iopub.status.busy": "2023-10-02T08:28:22.158055Z",
     "iopub.status.idle": "2023-10-02T08:28:22.161037Z",
     "shell.execute_reply": "2023-10-02T08:28:22.160592Z"
    }
   },
   "outputs": [],
   "source": [
    "anon.config.save_to_config_file('config.json')"
   ]
  },
  {
   "cell_type": "code",
   "execution_count": 10,
   "metadata": {
    "execution": {
     "iopub.execute_input": "2023-10-02T08:28:22.163254Z",
     "iopub.status.busy": "2023-10-02T08:28:22.162912Z",
     "iopub.status.idle": "2023-10-02T08:28:22.172722Z",
     "shell.execute_reply": "2023-10-02T08:28:22.172270Z"
    }
   },
   "outputs": [
    {
     "data": {
      "text/html": [
       "<div><style>\n",
       ".dataframe > thead > tr > th,\n",
       ".dataframe > tbody > tr > td {\n",
       "  text-align: right;\n",
       "  white-space: pre-wrap;\n",
       "}\n",
       "</style>\n",
       "<small>shape: (7, 7)</small><table border=\"1\" class=\"dataframe\"><thead><tr><th>PREDICTOR_0</th><th>PREDICTOR_1</th><th>filename</th><th>PREDICTOR_3</th><th>Context_Name</th><th>IH_Web_Inbound_Accepted_pxLastGroupID</th><th>Decision_Outcome</th></tr><tr><td>str</td><td>f64</td><td>str</td><td>str</td><td>str</td><td>str</td><td>str</td></tr></thead><tbody><tr><td>&quot;65000510306530…</td><td>1.2927e19</td><td>&quot;../../../../da…</td><td>&quot;29039288141456…</td><td>&quot;FirstMortgage3…</td><td>&quot;17030080234122…</td><td>&quot;Rejected&quot;</td></tr><tr><td>&quot;14777304927280…</td><td>1.4856e19</td><td>&quot;../../../../da…</td><td>&quot;94477672113198…</td><td>&quot;FirstMortgage3…</td><td>&quot;10594674577558…</td><td>&quot;Accepted&quot;</td></tr><tr><td>&quot;13912596122383…</td><td>5.6458e17</td><td>&quot;../../../../da…</td><td>&quot;10399809546501…</td><td>&quot;MoneyMarketSav…</td><td>&quot;17030080234122…</td><td>&quot;Rejected&quot;</td></tr><tr><td>&quot;14777304927280…</td><td>4.0723e18</td><td>&quot;../../../../da…</td><td>&quot;15094525235348…</td><td>&quot;BasicChecking&quot;</td><td>&quot;17030080234122…</td><td>&quot;Rejected&quot;</td></tr><tr><td>&quot;65000510306530…</td><td>1.4677e19</td><td>&quot;../../../../da…</td><td>&quot;15488902093257…</td><td>&quot;BasicChecking&quot;</td><td>&quot;54028291771832…</td><td>&quot;Accepted&quot;</td></tr><tr><td>&quot;13912596122383…</td><td>1.6330e19</td><td>&quot;../../../../da…</td><td>&quot;59277577924375…</td><td>&quot;UPlusFinPerson…</td><td>null</td><td>&quot;Rejected&quot;</td></tr><tr><td>&quot;13912596122383…</td><td>8.7675e18</td><td>&quot;../../../../da…</td><td>&quot;12581502600321…</td><td>&quot;BasicChecking&quot;</td><td>&quot;54028291771832…</td><td>&quot;Rejected&quot;</td></tr></tbody></table></div>"
      ],
      "text/plain": [
       "shape: (7, 7)\n",
       "┌──────────────┬─────────────┬─────────────┬─────────────┬─────────────┬─────────────┬─────────────┐\n",
       "│ PREDICTOR_0  ┆ PREDICTOR_1 ┆ filename    ┆ PREDICTOR_3 ┆ Context_Nam ┆ IH_Web_Inbo ┆ Decision_Ou │\n",
       "│ ---          ┆ ---         ┆ ---         ┆ ---         ┆ e           ┆ und_Accepte ┆ tcome       │\n",
       "│ str          ┆ f64         ┆ str         ┆ str         ┆ ---         ┆ d_pxLastGr… ┆ ---         │\n",
       "│              ┆             ┆             ┆             ┆ str         ┆ ---         ┆ str         │\n",
       "│              ┆             ┆             ┆             ┆             ┆ str         ┆             │\n",
       "╞══════════════╪═════════════╪═════════════╪═════════════╪═════════════╪═════════════╪═════════════╡\n",
       "│ 650005103065 ┆ 1.2927e19   ┆ ../../../.. ┆ 29039288141 ┆ FirstMortga ┆ 17030080234 ┆ Rejected    │\n",
       "│ 3049681      ┆             ┆ /data/Sampl ┆ 45691125    ┆ ge30yr      ┆ 122322995   ┆             │\n",
       "│              ┆             ┆ eHDS.json   ┆             ┆             ┆             ┆             │\n",
       "│ 147773049272 ┆ 1.4856e19   ┆ ../../../.. ┆ 94477672113 ┆ FirstMortga ┆ 10594674577 ┆ Accepted    │\n",
       "│ 80387716     ┆             ┆ /data/Sampl ┆ 19836704    ┆ ge30yr      ┆ 558452916   ┆             │\n",
       "│              ┆             ┆ eHDS.json   ┆             ┆             ┆             ┆             │\n",
       "│ 139125961223 ┆ 5.6458e17   ┆ ../../../.. ┆ 10399809546 ┆ MoneyMarket ┆ 17030080234 ┆ Rejected    │\n",
       "│ 83573081     ┆             ┆ /data/Sampl ┆ 501391195   ┆ SavingsAcco ┆ 122322995   ┆             │\n",
       "│              ┆             ┆ eHDS.json   ┆             ┆ unt         ┆             ┆             │\n",
       "│ 147773049272 ┆ 4.0723e18   ┆ ../../../.. ┆ 15094525235 ┆ BasicChecki ┆ 17030080234 ┆ Rejected    │\n",
       "│ 80387716     ┆             ┆ /data/Sampl ┆ 348181331   ┆ ng          ┆ 122322995   ┆             │\n",
       "│              ┆             ┆ eHDS.json   ┆             ┆             ┆             ┆             │\n",
       "│ 650005103065 ┆ 1.4677e19   ┆ ../../../.. ┆ 15488902093 ┆ BasicChecki ┆ 54028291771 ┆ Accepted    │\n",
       "│ 3049681      ┆             ┆ /data/Sampl ┆ 257134702   ┆ ng          ┆ 83215026    ┆             │\n",
       "│              ┆             ┆ eHDS.json   ┆             ┆             ┆             ┆             │\n",
       "│ 139125961223 ┆ 1.6330e19   ┆ ../../../.. ┆ 59277577924 ┆ UPlusFinPer ┆ null        ┆ Rejected    │\n",
       "│ 83573081     ┆             ┆ /data/Sampl ┆ 37579584    ┆ sonal       ┆             ┆             │\n",
       "│              ┆             ┆ eHDS.json   ┆             ┆             ┆             ┆             │\n",
       "│ 139125961223 ┆ 8.7675e18   ┆ ../../../.. ┆ 12581502600 ┆ BasicChecki ┆ 54028291771 ┆ Rejected    │\n",
       "│ 83573081     ┆             ┆ /data/Sampl ┆ 321675031   ┆ ng          ┆ 83215026    ┆             │\n",
       "│              ┆             ┆ eHDS.json   ┆             ┆             ┆             ┆             │\n",
       "└──────────────┴─────────────┴─────────────┴─────────────┴─────────────┴─────────────┴─────────────┘"
      ]
     },
     "execution_count": 10,
     "metadata": {},
     "output_type": "execute_result"
    }
   ],
   "source": [
    "anon = DataAnonymization(config=Config(config_file='config.json'))\n",
    "anon.process()"
   ]
  },
  {
   "attachments": {},
   "cell_type": "markdown",
   "metadata": {},
   "source": [
    "## Exporting\n",
    "Two functions export:\n",
    "- `create_mapping_file()` writes the mapping file of the predictor names\n",
    "- `write_to_output()` writes the processed dataframe to disk\n",
    "\n",
    "Write to output accepts the following extensions: `[\"ndjson\", \"parquet\", \"arrow\", \"csv\"]`"
   ]
  },
  {
   "cell_type": "code",
   "execution_count": 11,
   "metadata": {
    "execution": {
     "iopub.execute_input": "2023-10-02T08:28:22.174938Z",
     "iopub.status.busy": "2023-10-02T08:28:22.174583Z",
     "iopub.status.idle": "2023-10-02T08:28:22.178308Z",
     "shell.execute_reply": "2023-10-02T08:28:22.177852Z"
    }
   },
   "outputs": [
    {
     "name": "stdout",
     "output_type": "stream",
     "text": [
      "Customer_MaritalStatus=PREDICTOR_0\n",
      "Customer_CLV=PREDICTOR_1\n",
      "filename=filename\n",
      "Customer_City=PREDICTOR_3\n",
      "Context_Name=Context_Name\n",
      "IH_Web_Inbound_Accepted_pxLastGroupID=IH_Web_Inbound_Accepted_pxLastGroupID\n",
      "Decision_Outcome=Decision_Outcome\n",
      "\n"
     ]
    }
   ],
   "source": [
    "anon.create_mapping_file()\n",
    "with open('mapping.map') as f:\n",
    "    print(f.read())"
   ]
  },
  {
   "cell_type": "code",
   "execution_count": 12,
   "metadata": {
    "execution": {
     "iopub.execute_input": "2023-10-02T08:28:22.180422Z",
     "iopub.status.busy": "2023-10-02T08:28:22.180073Z",
     "iopub.status.idle": "2023-10-02T08:28:22.184188Z",
     "shell.execute_reply": "2023-10-02T08:28:22.183732Z"
    }
   },
   "outputs": [],
   "source": [
    "anon.write_to_output(ext='arrow')"
   ]
  },
  {
   "cell_type": "code",
   "execution_count": 13,
   "metadata": {
    "execution": {
     "iopub.execute_input": "2023-10-02T08:28:22.186458Z",
     "iopub.status.busy": "2023-10-02T08:28:22.186108Z",
     "iopub.status.idle": "2023-10-02T08:28:22.191082Z",
     "shell.execute_reply": "2023-10-02T08:28:22.190632Z"
    }
   },
   "outputs": [
    {
     "data": {
      "text/html": [
       "<div><style>\n",
       ".dataframe > thead > tr > th,\n",
       ".dataframe > tbody > tr > td {\n",
       "  text-align: right;\n",
       "  white-space: pre-wrap;\n",
       "}\n",
       "</style>\n",
       "<small>shape: (7, 6)</small><table border=\"1\" class=\"dataframe\"><thead><tr><th>PREDICTOR_0</th><th>PREDICTOR_1</th><th>PREDICTOR_3</th><th>Context_Name</th><th>IH_Web_Inbound_Accepted_pxLastGroupID</th><th>Decision_Outcome</th></tr><tr><td>str</td><td>f64</td><td>str</td><td>str</td><td>str</td><td>str</td></tr></thead><tbody><tr><td>&quot;18065409575567…</td><td>1.2927e19</td><td>&quot;79821637431173…</td><td>&quot;FirstMortgage3…</td><td>&quot;26454516905008…</td><td>&quot;Rejected&quot;</td></tr><tr><td>&quot;11469459142161…</td><td>1.4856e19</td><td>&quot;11958567688666…</td><td>&quot;FirstMortgage3…</td><td>&quot;12948060684611…</td><td>&quot;Accepted&quot;</td></tr><tr><td>&quot;47264771252303…</td><td>5.6458e17</td><td>&quot;93985689375163…</td><td>&quot;MoneyMarketSav…</td><td>&quot;26454516905008…</td><td>&quot;Rejected&quot;</td></tr><tr><td>&quot;11469459142161…</td><td>4.0723e18</td><td>&quot;11508684557300…</td><td>&quot;BasicChecking&quot;</td><td>&quot;26454516905008…</td><td>&quot;Rejected&quot;</td></tr><tr><td>&quot;18065409575567…</td><td>1.4677e19</td><td>&quot;17654157720233…</td><td>&quot;BasicChecking&quot;</td><td>&quot;89546312858184…</td><td>&quot;Accepted&quot;</td></tr><tr><td>&quot;47264771252303…</td><td>1.6330e19</td><td>&quot;10811362982951…</td><td>&quot;UPlusFinPerson…</td><td>null</td><td>&quot;Rejected&quot;</td></tr><tr><td>&quot;47264771252303…</td><td>8.7675e18</td><td>&quot;18204595553025…</td><td>&quot;BasicChecking&quot;</td><td>&quot;89546312858184…</td><td>&quot;Rejected&quot;</td></tr></tbody></table></div>"
      ],
      "text/plain": [
       "shape: (7, 6)\n",
       "┌────────────────┬─────────────┬────────────────┬────────────────┬────────────────┬────────────────┐\n",
       "│ PREDICTOR_0    ┆ PREDICTOR_1 ┆ PREDICTOR_3    ┆ Context_Name   ┆ IH_Web_Inbound ┆ Decision_Outco │\n",
       "│ ---            ┆ ---         ┆ ---            ┆ ---            ┆ _Accepted_pxLa ┆ me             │\n",
       "│ str            ┆ f64         ┆ str            ┆ str            ┆ stGr…          ┆ ---            │\n",
       "│                ┆             ┆                ┆                ┆ ---            ┆ str            │\n",
       "│                ┆             ┆                ┆                ┆ str            ┆                │\n",
       "╞════════════════╪═════════════╪════════════════╪════════════════╪════════════════╪════════════════╡\n",
       "│ 18065409575567 ┆ 1.2927e19   ┆ 79821637431173 ┆ FirstMortgage3 ┆ 26454516905008 ┆ Rejected       │\n",
       "│ 868619         ┆             ┆ 02885          ┆ 0yr            ┆ 62902          ┆                │\n",
       "│ 11469459142161 ┆ 1.4856e19   ┆ 11958567688666 ┆ FirstMortgage3 ┆ 12948060684611 ┆ Accepted       │\n",
       "│ 573441         ┆             ┆ 249385         ┆ 0yr            ┆ 343761         ┆                │\n",
       "│ 47264771252303 ┆ 5.6458e17   ┆ 93985689375163 ┆ MoneyMarketSav ┆ 26454516905008 ┆ Rejected       │\n",
       "│ 88087          ┆             ┆ 02912          ┆ ingsAccount    ┆ 62902          ┆                │\n",
       "│ 11469459142161 ┆ 4.0723e18   ┆ 11508684557300 ┆ BasicChecking  ┆ 26454516905008 ┆ Rejected       │\n",
       "│ 573441         ┆             ┆ 178742         ┆                ┆ 62902          ┆                │\n",
       "│ 18065409575567 ┆ 1.4677e19   ┆ 17654157720233 ┆ BasicChecking  ┆ 89546312858184 ┆ Accepted       │\n",
       "│ 868619         ┆             ┆ 424731         ┆                ┆ 6848           ┆                │\n",
       "│ 47264771252303 ┆ 1.6330e19   ┆ 10811362982951 ┆ UPlusFinPerson ┆ null           ┆ Rejected       │\n",
       "│ 88087          ┆             ┆ 183454         ┆ al             ┆                ┆                │\n",
       "│ 47264771252303 ┆ 8.7675e18   ┆ 18204595553025 ┆ BasicChecking  ┆ 89546312858184 ┆ Rejected       │\n",
       "│ 88087          ┆             ┆ 95873          ┆                ┆ 6848           ┆                │\n",
       "└────────────────┴─────────────┴────────────────┴────────────────┴────────────────┴────────────────┘"
      ]
     },
     "execution_count": 13,
     "metadata": {},
     "output_type": "execute_result"
    }
   ],
   "source": [
    "pl.read_ipc('output/hds.arrow')"
   ]
  },
  {
   "attachments": {},
   "cell_type": "markdown",
   "metadata": {
    "nbsphinx": "hidden"
   },
   "source": [
    "## Advanced: Hash fuctions\n",
    "\n",
    "By default, we use [the same hashing algorithm Polars](https://pola-rs.github.io/polars/py-polars/html/reference/expressions/api/polars.Expr.hash.html#polars.Expr.hash) uses: [xxhash](https://github.com/Cyan4973/xxHash), as implemented [here](https://github.com/pola-rs/polars/blob/3f287f370b3c388ed2f3f218b2c096382548136f/polars/polars-core/src/vector_hasher.rs#L266). xxhash is fast to compute, and you can check its performance in collision, dispersion and randomness [here](https://github.com/Cyan4973/xxHash/tree/dev/tests). \n",
    "\n",
    "xxhash accepts four distinct seeds, but by default we set the seeds to `0`. It is possible to set the `seed` argument of the `process()` function to `'random'`, which will set all four seeds to a random integer between `0` and `1000000000`. Alternatively, it is possible to supply the four seeds manually with arguments `seed`, `seed_1`, `seed_2` and `seed_3`. \n",
    "\n",
    "If the xxhash with (random) seed(s) is not deemed sufficiently secure, it is possible to use your own hashing algorithm.\n",
    "\n",
    "Note that since we're now running python code and not native Polars code anymore, this will be _significantly_ slower. Nonetheless, it is possible.\n",
    "\n",
    "Just as an example - this is how one would use sha3_256:"
   ]
  },
  {
   "cell_type": "code",
   "execution_count": 14,
   "metadata": {
    "execution": {
     "iopub.execute_input": "2023-10-02T08:28:22.193247Z",
     "iopub.status.busy": "2023-10-02T08:28:22.192894Z",
     "iopub.status.idle": "2023-10-02T08:28:22.582218Z",
     "shell.execute_reply": "2023-10-02T08:28:22.581482Z"
    },
    "nbsphinx": "hidden"
   },
   "outputs": [
    {
     "ename": "ComputeError",
     "evalue": "AttributeError: 'int' object has no attribute 'encode'",
     "output_type": "error",
     "traceback": [
      "\u001b[0;31m---------------------------------------------------------------------------\u001b[0m",
      "\u001b[0;31mComputeError\u001b[0m                              Traceback (most recent call last)",
      "Cell \u001b[0;32mIn[14], line 3\u001b[0m\n\u001b[1;32m      1\u001b[0m \u001b[38;5;28;01mfrom\u001b[39;00m \u001b[38;5;21;01mhashlib\u001b[39;00m \u001b[38;5;28;01mimport\u001b[39;00m sha3_256\n\u001b[0;32m----> 3\u001b[0m \u001b[43manon\u001b[49m\u001b[38;5;241;43m.\u001b[39;49m\u001b[43mprocess\u001b[49m\u001b[43m(\u001b[49m\u001b[43malgorithm\u001b[49m\u001b[38;5;241;43m=\u001b[39;49m\u001b[38;5;28;43;01mlambda\u001b[39;49;00m\u001b[43m \u001b[49m\u001b[43mx\u001b[49m\u001b[43m:\u001b[49m\u001b[43m \u001b[49m\u001b[43msha3_256\u001b[49m\u001b[43m(\u001b[49m\u001b[43mx\u001b[49m\u001b[38;5;241;43m.\u001b[39;49m\u001b[43mencode\u001b[49m\u001b[43m(\u001b[49m\u001b[43m)\u001b[49m\u001b[43m)\u001b[49m\u001b[38;5;241;43m.\u001b[39;49m\u001b[43mhexdigest\u001b[49m\u001b[43m(\u001b[49m\u001b[43m)\u001b[49m\u001b[43m)\u001b[49m\n",
      "File \u001b[0;32m~/work/pega-datascientist-tools/pega-datascientist-tools/python/docs/source/articles/../../../pdstools/utils/hds_utils.py:516\u001b[0m, in \u001b[0;36mDataAnonymization.process\u001b[0;34m(self, strategy, **kwargs)\u001b[0m\n\u001b[1;32m    514\u001b[0m df \u001b[38;5;241m=\u001b[39m df\u001b[38;5;241m.\u001b[39mselect(\u001b[38;5;28mself\u001b[39m\u001b[38;5;241m.\u001b[39mcolumn_mapping\u001b[38;5;241m.\u001b[39mkeys())\u001b[38;5;241m.\u001b[39mrename(\u001b[38;5;28mself\u001b[39m\u001b[38;5;241m.\u001b[39mcolumn_mapping)\n\u001b[1;32m    515\u001b[0m \u001b[38;5;28;01mif\u001b[39;00m strategy \u001b[38;5;241m==\u001b[39m \u001b[38;5;124m\"\u001b[39m\u001b[38;5;124meager\u001b[39m\u001b[38;5;124m\"\u001b[39m:\n\u001b[0;32m--> 516\u001b[0m     \u001b[38;5;28;01mreturn\u001b[39;00m \u001b[43mdf\u001b[49m\u001b[38;5;241;43m.\u001b[39;49m\u001b[43mcollect\u001b[49m\u001b[43m(\u001b[49m\u001b[43m)\u001b[49m\n\u001b[1;32m    517\u001b[0m \u001b[38;5;28;01mreturn\u001b[39;00m df\n",
      "File \u001b[0;32m/opt/hostedtoolcache/Python/3.11.5/x64/lib/python3.11/site-packages/polars/utils/deprecation.py:95\u001b[0m, in \u001b[0;36mdeprecate_renamed_parameter.<locals>.decorate.<locals>.wrapper\u001b[0;34m(*args, **kwargs)\u001b[0m\n\u001b[1;32m     90\u001b[0m \u001b[38;5;129m@wraps\u001b[39m(function)\n\u001b[1;32m     91\u001b[0m \u001b[38;5;28;01mdef\u001b[39;00m \u001b[38;5;21mwrapper\u001b[39m(\u001b[38;5;241m*\u001b[39margs: P\u001b[38;5;241m.\u001b[39margs, \u001b[38;5;241m*\u001b[39m\u001b[38;5;241m*\u001b[39mkwargs: P\u001b[38;5;241m.\u001b[39mkwargs) \u001b[38;5;241m-\u001b[39m\u001b[38;5;241m>\u001b[39m T:\n\u001b[1;32m     92\u001b[0m     _rename_keyword_argument(\n\u001b[1;32m     93\u001b[0m         old_name, new_name, kwargs, function\u001b[38;5;241m.\u001b[39m\u001b[38;5;18m__name__\u001b[39m, version\n\u001b[1;32m     94\u001b[0m     )\n\u001b[0;32m---> 95\u001b[0m     \u001b[38;5;28;01mreturn\u001b[39;00m \u001b[43mfunction\u001b[49m\u001b[43m(\u001b[49m\u001b[38;5;241;43m*\u001b[39;49m\u001b[43margs\u001b[49m\u001b[43m,\u001b[49m\u001b[43m \u001b[49m\u001b[38;5;241;43m*\u001b[39;49m\u001b[38;5;241;43m*\u001b[39;49m\u001b[43mkwargs\u001b[49m\u001b[43m)\u001b[49m\n",
      "File \u001b[0;32m/opt/hostedtoolcache/Python/3.11.5/x64/lib/python3.11/site-packages/polars/lazyframe/frame.py:1711\u001b[0m, in \u001b[0;36mLazyFrame.collect\u001b[0;34m(self, type_coercion, predicate_pushdown, projection_pushdown, simplify_expression, no_optimization, slice_pushdown, comm_subplan_elim, comm_subexpr_elim, streaming, **kwargs)\u001b[0m\n\u001b[1;32m   1698\u001b[0m     comm_subplan_elim \u001b[38;5;241m=\u001b[39m \u001b[38;5;28;01mFalse\u001b[39;00m\n\u001b[1;32m   1700\u001b[0m ldf \u001b[38;5;241m=\u001b[39m \u001b[38;5;28mself\u001b[39m\u001b[38;5;241m.\u001b[39m_ldf\u001b[38;5;241m.\u001b[39moptimization_toggle(\n\u001b[1;32m   1701\u001b[0m     type_coercion,\n\u001b[1;32m   1702\u001b[0m     predicate_pushdown,\n\u001b[0;32m   (...)\u001b[0m\n\u001b[1;32m   1709\u001b[0m     eager,\n\u001b[1;32m   1710\u001b[0m )\n\u001b[0;32m-> 1711\u001b[0m \u001b[38;5;28;01mreturn\u001b[39;00m wrap_df(ldf\u001b[38;5;241m.\u001b[39mcollect())\n",
      "\u001b[0;31mComputeError\u001b[0m: AttributeError: 'int' object has no attribute 'encode'"
     ]
    }
   ],
   "source": [
    "from hashlib import sha3_256\n",
    "\n",
    "anon.process(algorithm=lambda x: sha3_256(x.encode()).hexdigest())"
   ]
  }
 ],
 "metadata": {
  "kernelspec": {
   "display_name": "Python 3",
   "language": "python",
   "name": "python3"
  },
  "language_info": {
   "codemirror_mode": {
    "name": "ipython",
    "version": 3
   },
   "file_extension": ".py",
   "mimetype": "text/x-python",
   "name": "python",
   "nbconvert_exporter": "python",
   "pygments_lexer": "ipython3",
   "version": "3.11.5"
  },
  "vscode": {
   "interpreter": {
    "hash": "aee8b7b246df8f9039afb4144a1f6fd8d2ca17a180786b69acc140d282b71a49"
   }
  }
 },
 "nbformat": 4,
 "nbformat_minor": 2
}
