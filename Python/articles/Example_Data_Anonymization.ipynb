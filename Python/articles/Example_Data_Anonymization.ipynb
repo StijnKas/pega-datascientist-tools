{
 "cells": [
  {
   "attachments": {},
   "cell_type": "markdown",
   "metadata": {},
   "source": [
    "# Data Anonymization\n",
    "\n",
    "In Pega CDH 8.5 and up, it's now possible to record the historical data as seen by the Adaptive Models. See [this academy challenge](https://academy.pega.com/challenge/exporting-historical-data/v4) for reference. This historical data can be further used to experiment with offline models, but also to fine-tune the OOTB Gradient Boosting model. However, sharing this information with Pega can be sensitive as it contains raw predictor data. \n",
    "\n",
    "To this end, we provide a simple and transparent script to fully anonimize this dataset.\n",
    "\n",
    "The DataAnonymization script is now part of pdstools, and you can import it directly as such."
   ]
  },
  {
   "cell_type": "code",
   "execution_count": 1,
   "metadata": {
    "execution": {
     "iopub.execute_input": "2024-01-12T16:32:02.096616Z",
     "iopub.status.busy": "2024-01-12T16:32:02.096442Z",
     "iopub.status.idle": "2024-01-12T16:32:02.170594Z",
     "shell.execute_reply": "2024-01-12T16:32:02.169962Z"
    },
    "nbsphinx": "hidden"
   },
   "outputs": [],
   "source": [
    "# These lines are only for rendering in the docs, and are hidden through Jupyter tags\n",
    "# Do not run if you're running the notebook seperately\n",
    "\n",
    "import os  \n",
    "import sys\n",
    "import plotly.io as pio\n",
    "pio.renderers.default = \"notebook_connected\"\n",
    "\n",
    "sys.path.append(\"../../../\")\n",
    "sys.path.append('../../python')"
   ]
  },
  {
   "cell_type": "code",
   "execution_count": 2,
   "metadata": {
    "execution": {
     "iopub.execute_input": "2024-01-12T16:32:02.173257Z",
     "iopub.status.busy": "2024-01-12T16:32:02.173054Z",
     "iopub.status.idle": "2024-01-12T16:32:03.248777Z",
     "shell.execute_reply": "2024-01-12T16:32:03.248069Z"
    }
   },
   "outputs": [],
   "source": [
    "from pdstools import ADMDatamart\n",
    "from pdstools import Config, DataAnonymization\n",
    "import polars as pl"
   ]
  },
  {
   "attachments": {},
   "cell_type": "markdown",
   "metadata": {},
   "source": [
    "## Input data\n",
    "\n",
    "To demonstrate this process, we're going to anonymise this toy example dataframe:"
   ]
  },
  {
   "cell_type": "code",
   "execution_count": 3,
   "metadata": {
    "execution": {
     "iopub.execute_input": "2024-01-12T16:32:03.251649Z",
     "iopub.status.busy": "2024-01-12T16:32:03.251305Z",
     "iopub.status.idle": "2024-01-12T16:32:03.260960Z",
     "shell.execute_reply": "2024-01-12T16:32:03.260456Z"
    }
   },
   "outputs": [
    {
     "data": {
      "text/html": [
       "<div><style>\n",
       ".dataframe > thead > tr,\n",
       ".dataframe > tbody > tr {\n",
       "  text-align: right;\n",
       "  white-space: pre-wrap;\n",
       "}\n",
       "</style>\n",
       "<small>shape: (7, 6)</small><table border=\"1\" class=\"dataframe\"><thead><tr><th>Context_Name</th><th>Customer_MaritalStatus</th><th>Customer_CLV</th><th>Customer_City</th><th>IH_Web_Inbound_Accepted_pxLastGroupID</th><th>Decision_Outcome</th></tr><tr><td>str</td><td>str</td><td>i64</td><td>str</td><td>str</td><td>str</td></tr></thead><tbody><tr><td>&quot;FirstMortgage3…</td><td>&quot;Married&quot;</td><td>1460</td><td>&quot;Port Raoul&quot;</td><td>&quot;Account&quot;</td><td>&quot;Rejected&quot;</td></tr><tr><td>&quot;FirstMortgage3…</td><td>&quot;Unknown&quot;</td><td>669</td><td>&quot;Laurianneshire…</td><td>&quot;AutoLoans&quot;</td><td>&quot;Accepted&quot;</td></tr><tr><td>&quot;MoneyMarketSav…</td><td>&quot;No Resp+&quot;</td><td>1174</td><td>&quot;Jacobshaven&quot;</td><td>&quot;Account&quot;</td><td>&quot;Rejected&quot;</td></tr><tr><td>&quot;BasicChecking&quot;</td><td>&quot;Unknown&quot;</td><td>1476</td><td>&quot;Lindton&quot;</td><td>&quot;Account&quot;</td><td>&quot;Rejected&quot;</td></tr><tr><td>&quot;BasicChecking&quot;</td><td>&quot;Married&quot;</td><td>1211</td><td>&quot;South Jimmiesh…</td><td>&quot;DepositAccount…</td><td>&quot;Accepted&quot;</td></tr><tr><td>&quot;UPlusFinPerson…</td><td>&quot;No Resp+&quot;</td><td>533</td><td>&quot;Bergeville&quot;</td><td>null</td><td>&quot;Rejected&quot;</td></tr><tr><td>&quot;BasicChecking&quot;</td><td>&quot;No Resp+&quot;</td><td>555</td><td>&quot;Willyville&quot;</td><td>&quot;DepositAccount…</td><td>&quot;Rejected&quot;</td></tr></tbody></table></div>"
      ],
      "text/plain": [
       "shape: (7, 6)\n",
       "┌────────────────┬────────────────┬──────────────┬────────────────┬────────────────┬───────────────┐\n",
       "│ Context_Name   ┆ Customer_Marit ┆ Customer_CLV ┆ Customer_City  ┆ IH_Web_Inbound ┆ Decision_Outc │\n",
       "│ ---            ┆ alStatus       ┆ ---          ┆ ---            ┆ _Accepted_pxLa ┆ ome           │\n",
       "│ str            ┆ ---            ┆ i64          ┆ str            ┆ stGr…          ┆ ---           │\n",
       "│                ┆ str            ┆              ┆                ┆ ---            ┆ str           │\n",
       "│                ┆                ┆              ┆                ┆ str            ┆               │\n",
       "╞════════════════╪════════════════╪══════════════╪════════════════╪════════════════╪═══════════════╡\n",
       "│ FirstMortgage3 ┆ Married        ┆ 1460         ┆ Port Raoul     ┆ Account        ┆ Rejected      │\n",
       "│ 0yr            ┆                ┆              ┆                ┆                ┆               │\n",
       "│ FirstMortgage3 ┆ Unknown        ┆ 669          ┆ Laurianneshire ┆ AutoLoans      ┆ Accepted      │\n",
       "│ 0yr            ┆                ┆              ┆                ┆                ┆               │\n",
       "│ MoneyMarketSav ┆ No Resp+       ┆ 1174         ┆ Jacobshaven    ┆ Account        ┆ Rejected      │\n",
       "│ ingsAccount    ┆                ┆              ┆                ┆                ┆               │\n",
       "│ BasicChecking  ┆ Unknown        ┆ 1476         ┆ Lindton        ┆ Account        ┆ Rejected      │\n",
       "│ BasicChecking  ┆ Married        ┆ 1211         ┆ South          ┆ DepositAccount ┆ Accepted      │\n",
       "│                ┆                ┆              ┆ Jimmieshire    ┆ s              ┆               │\n",
       "│ UPlusFinPerson ┆ No Resp+       ┆ 533          ┆ Bergeville     ┆ null           ┆ Rejected      │\n",
       "│ al             ┆                ┆              ┆                ┆                ┆               │\n",
       "│ BasicChecking  ┆ No Resp+       ┆ 555          ┆ Willyville     ┆ DepositAccount ┆ Rejected      │\n",
       "│                ┆                ┆              ┆                ┆ s              ┆               │\n",
       "└────────────────┴────────────────┴──────────────┴────────────────┴────────────────┴───────────────┘"
      ]
     },
     "execution_count": 3,
     "metadata": {},
     "output_type": "execute_result"
    }
   ],
   "source": [
    "pl.read_ndjson('../../../../data/SampleHDS.json')"
   ]
  },
  {
   "attachments": {},
   "cell_type": "markdown",
   "metadata": {},
   "source": [
    "As you can see, this dataset consists of regular predictors, IH predictors, context keys and the outcome column. Additionally, some columns are numeric, others are strings. Let's first initialize the DataAnonymization class."
   ]
  },
  {
   "cell_type": "code",
   "execution_count": 4,
   "metadata": {
    "execution": {
     "iopub.execute_input": "2024-01-12T16:32:03.263330Z",
     "iopub.status.busy": "2024-01-12T16:32:03.262901Z",
     "iopub.status.idle": "2024-01-12T16:32:03.269120Z",
     "shell.execute_reply": "2024-01-12T16:32:03.268689Z"
    }
   },
   "outputs": [],
   "source": [
    "anon = DataAnonymization(hds_folder='../../../../data/')"
   ]
  },
  {
   "attachments": {},
   "cell_type": "markdown",
   "metadata": {},
   "source": [
    "By default, the class applies a set of anonymisation techniques:\n",
    "- Column names are remapped to a non-descriptive name\n",
    "- Categorical values are hashed with a random seed\n",
    "- Numerical values are normalized between 0 and 1\n",
    "- Outcomes are mapped to a binary outcome.\n",
    "\n",
    "To apply these techniques, simply call `.process()`:"
   ]
  },
  {
   "cell_type": "code",
   "execution_count": 5,
   "metadata": {
    "execution": {
     "iopub.execute_input": "2024-01-12T16:32:03.271111Z",
     "iopub.status.busy": "2024-01-12T16:32:03.270932Z",
     "iopub.status.idle": "2024-01-12T16:32:03.276627Z",
     "shell.execute_reply": "2024-01-12T16:32:03.276177Z"
    }
   },
   "outputs": [
    {
     "data": {
      "text/html": [
       "<div><style>\n",
       ".dataframe > thead > tr,\n",
       ".dataframe > tbody > tr {\n",
       "  text-align: right;\n",
       "  white-space: pre-wrap;\n",
       "}\n",
       "</style>\n",
       "<small>shape: (7, 7)</small><table border=\"1\" class=\"dataframe\"><thead><tr><th>PREDICTOR_0</th><th>PREDICTOR_1</th><th>filename</th><th>PREDICTOR_3</th><th>Context_Name</th><th>IH_PREDICTOR_0</th><th>Decision_Outcome</th></tr><tr><td>f64</td><td>str</td><td>str</td><td>str</td><td>str</td><td>str</td><td>bool</td></tr></thead><tbody><tr><td>0.983033</td><td>&quot;89136599595950…</td><td>&quot;../../../../da…</td><td>&quot;12923714224410…</td><td>&quot;17909788063007…</td><td>&quot;47415707066522…</td><td>false</td></tr><tr><td>0.144221</td><td>&quot;30906879215515…</td><td>&quot;../../../../da…</td><td>&quot;16048136603049…</td><td>&quot;17909788063007…</td><td>&quot;73150102232125…</td><td>true</td></tr><tr><td>0.679745</td><td>&quot;11650352122943…</td><td>&quot;../../../../da…</td><td>&quot;12905048854608…</td><td>&quot;52370143716814…</td><td>&quot;47415707066522…</td><td>false</td></tr><tr><td>1.0</td><td>&quot;13188736097059…</td><td>&quot;../../../../da…</td><td>&quot;16048136603049…</td><td>&quot;71483858926003…</td><td>&quot;47415707066522…</td><td>false</td></tr><tr><td>0.718982</td><td>&quot;91893955491537…</td><td>&quot;../../../../da…</td><td>&quot;12923714224410…</td><td>&quot;71483858926003…</td><td>&quot;69020804433486…</td><td>true</td></tr><tr><td>0.0</td><td>&quot;82866631646958…</td><td>&quot;../../../../da…</td><td>&quot;12905048854608…</td><td>&quot;11331440354048…</td><td>null</td><td>false</td></tr><tr><td>0.02333</td><td>&quot;33890710102632…</td><td>&quot;../../../../da…</td><td>&quot;12905048854608…</td><td>&quot;71483858926003…</td><td>&quot;69020804433486…</td><td>false</td></tr></tbody></table></div>"
      ],
      "text/plain": [
       "shape: (7, 7)\n",
       "┌─────────────┬──────────────┬─────────────┬─────────────┬─────────────┬─────────────┬─────────────┐\n",
       "│ PREDICTOR_0 ┆ PREDICTOR_1  ┆ filename    ┆ PREDICTOR_3 ┆ Context_Nam ┆ IH_PREDICTO ┆ Decision_Ou │\n",
       "│ ---         ┆ ---          ┆ ---         ┆ ---         ┆ e           ┆ R_0         ┆ tcome       │\n",
       "│ f64         ┆ str          ┆ str         ┆ str         ┆ ---         ┆ ---         ┆ ---         │\n",
       "│             ┆              ┆             ┆             ┆ str         ┆ str         ┆ bool        │\n",
       "╞═════════════╪══════════════╪═════════════╪═════════════╪═════════════╪═════════════╪═════════════╡\n",
       "│ 0.983033    ┆ 891365995959 ┆ ../../../.. ┆ 12923714224 ┆ 17909788063 ┆ 47415707066 ┆ false       │\n",
       "│             ┆ 5092398      ┆ /data/Sampl ┆ 410916998   ┆ 00706076    ┆ 52220691    ┆             │\n",
       "│             ┆              ┆ eHDS.json   ┆             ┆             ┆             ┆             │\n",
       "│ 0.144221    ┆ 309068792155 ┆ ../../../.. ┆ 16048136603 ┆ 17909788063 ┆ 73150102232 ┆ true        │\n",
       "│             ┆ 1566259      ┆ /data/Sampl ┆ 04977298    ┆ 00706076    ┆ 12513829    ┆             │\n",
       "│             ┆              ┆ eHDS.json   ┆             ┆             ┆             ┆             │\n",
       "│ 0.679745    ┆ 116503521229 ┆ ../../../.. ┆ 12905048854 ┆ 52370143716 ┆ 47415707066 ┆ false       │\n",
       "│             ┆ 43639489     ┆ /data/Sampl ┆ 608192561   ┆ 81466602    ┆ 52220691    ┆             │\n",
       "│             ┆              ┆ eHDS.json   ┆             ┆             ┆             ┆             │\n",
       "│ 1.0         ┆ 131887360970 ┆ ../../../.. ┆ 16048136603 ┆ 71483858926 ┆ 47415707066 ┆ false       │\n",
       "│             ┆ 59220232     ┆ /data/Sampl ┆ 04977298    ┆ 00313762    ┆ 52220691    ┆             │\n",
       "│             ┆              ┆ eHDS.json   ┆             ┆             ┆             ┆             │\n",
       "│ 0.718982    ┆ 918939554915 ┆ ../../../.. ┆ 12923714224 ┆ 71483858926 ┆ 69020804433 ┆ true        │\n",
       "│             ┆ 3771556      ┆ /data/Sampl ┆ 410916998   ┆ 00313762    ┆ 48667896    ┆             │\n",
       "│             ┆              ┆ eHDS.json   ┆             ┆             ┆             ┆             │\n",
       "│ 0.0         ┆ 828666316469 ┆ ../../../.. ┆ 12905048854 ┆ 11331440354 ┆ null        ┆ false       │\n",
       "│             ┆ 5841066      ┆ /data/Sampl ┆ 608192561   ┆ 048131912   ┆             ┆             │\n",
       "│             ┆              ┆ eHDS.json   ┆             ┆             ┆             ┆             │\n",
       "│ 0.02333     ┆ 338907101026 ┆ ../../../.. ┆ 12905048854 ┆ 71483858926 ┆ 69020804433 ┆ false       │\n",
       "│             ┆ 3226559      ┆ /data/Sampl ┆ 608192561   ┆ 00313762    ┆ 48667896    ┆             │\n",
       "│             ┆              ┆ eHDS.json   ┆             ┆             ┆             ┆             │\n",
       "└─────────────┴──────────────┴─────────────┴─────────────┴─────────────┴─────────────┴─────────────┘"
      ]
     },
     "execution_count": 5,
     "metadata": {},
     "output_type": "execute_result"
    }
   ],
   "source": [
    "anon.process()"
   ]
  },
  {
   "attachments": {},
   "cell_type": "markdown",
   "metadata": {},
   "source": [
    "To trace back the columns to their original names, the class also contains a mapping, which does not have to be provided."
   ]
  },
  {
   "cell_type": "code",
   "execution_count": 6,
   "metadata": {
    "execution": {
     "iopub.execute_input": "2024-01-12T16:32:03.278667Z",
     "iopub.status.busy": "2024-01-12T16:32:03.278494Z",
     "iopub.status.idle": "2024-01-12T16:32:03.282363Z",
     "shell.execute_reply": "2024-01-12T16:32:03.281909Z"
    }
   },
   "outputs": [
    {
     "data": {
      "text/plain": [
       "{'Customer_CLV': 'PREDICTOR_0',\n",
       " 'Customer_City': 'PREDICTOR_1',\n",
       " 'filename': 'filename',\n",
       " 'Customer_MaritalStatus': 'PREDICTOR_3',\n",
       " 'Context_Name': 'Context_Name',\n",
       " 'IH_Web_Inbound_Accepted_pxLastGroupID': 'IH_PREDICTOR_0',\n",
       " 'Decision_Outcome': 'Decision_Outcome'}"
      ]
     },
     "execution_count": 6,
     "metadata": {},
     "output_type": "execute_result"
    }
   ],
   "source": [
    "anon.column_mapping"
   ]
  },
  {
   "attachments": {},
   "cell_type": "markdown",
   "metadata": {},
   "source": [
    "## Configs\n",
    "\n",
    "Each capability can optionally be turned off - see below for the full list of config options, and refer to the API reference for the full description."
   ]
  },
  {
   "cell_type": "code",
   "execution_count": 7,
   "metadata": {
    "execution": {
     "iopub.execute_input": "2024-01-12T16:32:03.284351Z",
     "iopub.status.busy": "2024-01-12T16:32:03.284182Z",
     "iopub.status.idle": "2024-01-12T16:32:03.288563Z",
     "shell.execute_reply": "2024-01-12T16:32:03.287999Z"
    }
   },
   "outputs": [
    {
     "data": {
      "text/plain": [
       "{'config_file': None,\n",
       " 'hds_folder': '.',\n",
       " 'use_datamart': False,\n",
       " 'datamart_folder': 'datamart',\n",
       " 'output_format': 'ndjson',\n",
       " 'output_folder': 'output',\n",
       " 'mapping_file': 'mapping.map',\n",
       " 'mask_predictor_names': True,\n",
       " 'mask_context_key_names': False,\n",
       " 'mask_ih_names': True,\n",
       " 'mask_outcome_name': False,\n",
       " 'mask_predictor_values': True,\n",
       " 'mask_context_key_values': True,\n",
       " 'mask_ih_values': True,\n",
       " 'mask_outcome_values': True,\n",
       " 'context_key_label': 'Context_*',\n",
       " 'ih_label': 'IH_*',\n",
       " 'outcome_column': 'Decision_Outcome',\n",
       " 'positive_outcomes': ['Accepted', 'Clicked'],\n",
       " 'negative_outcomes': ['Rejected', 'Impression'],\n",
       " 'special_predictors': ['Decision_DecisionTime',\n",
       "  'Decision_OutcomeTime',\n",
       "  'Decision_Rank'],\n",
       " 'sample_percentage_schema_inferencing': 0.01}"
      ]
     },
     "execution_count": 7,
     "metadata": {},
     "output_type": "execute_result"
    }
   ],
   "source": [
    "dict(zip(Config.__init__.__code__.co_varnames[1:], Config.__init__.__defaults__))"
   ]
  },
  {
   "attachments": {},
   "cell_type": "markdown",
   "metadata": {},
   "source": [
    "It's easy to change these parameters by just passing the keyword arguments. In the following example, we\n",
    "- Keep the IH predictor names\n",
    "- Keep the outcome values\n",
    "- Keep the context key values\n",
    "- Keep the context key predictor names"
   ]
  },
  {
   "cell_type": "code",
   "execution_count": 8,
   "metadata": {
    "execution": {
     "iopub.execute_input": "2024-01-12T16:32:03.290825Z",
     "iopub.status.busy": "2024-01-12T16:32:03.290349Z",
     "iopub.status.idle": "2024-01-12T16:32:03.298847Z",
     "shell.execute_reply": "2024-01-12T16:32:03.298288Z"
    }
   },
   "outputs": [
    {
     "data": {
      "text/html": [
       "<div><style>\n",
       ".dataframe > thead > tr,\n",
       ".dataframe > tbody > tr {\n",
       "  text-align: right;\n",
       "  white-space: pre-wrap;\n",
       "}\n",
       "</style>\n",
       "<small>shape: (7, 7)</small><table border=\"1\" class=\"dataframe\"><thead><tr><th>PREDICTOR_0</th><th>PREDICTOR_1</th><th>filename</th><th>PREDICTOR_3</th><th>Context_Name</th><th>IH_Web_Inbound_Accepted_pxLastGroupID</th><th>Decision_Outcome</th></tr><tr><td>f64</td><td>str</td><td>str</td><td>str</td><td>str</td><td>str</td><td>str</td></tr></thead><tbody><tr><td>0.983033</td><td>&quot;17475394125280…</td><td>&quot;../../../../da…</td><td>&quot;13913052035215…</td><td>&quot;FirstMortgage3…</td><td>&quot;84490012033151…</td><td>&quot;Rejected&quot;</td></tr><tr><td>0.144221</td><td>&quot;45353506539145…</td><td>&quot;../../../../da…</td><td>&quot;61619908880184…</td><td>&quot;FirstMortgage3…</td><td>&quot;11650511684493…</td><td>&quot;Accepted&quot;</td></tr><tr><td>0.679745</td><td>&quot;98700822277475…</td><td>&quot;../../../../da…</td><td>&quot;11929159480725…</td><td>&quot;MoneyMarketSav…</td><td>&quot;84490012033151…</td><td>&quot;Rejected&quot;</td></tr><tr><td>1.0</td><td>&quot;96215446299387…</td><td>&quot;../../../../da…</td><td>&quot;61619908880184…</td><td>&quot;BasicChecking&quot;</td><td>&quot;84490012033151…</td><td>&quot;Rejected&quot;</td></tr><tr><td>0.718982</td><td>&quot;80141571711195…</td><td>&quot;../../../../da…</td><td>&quot;13913052035215…</td><td>&quot;BasicChecking&quot;</td><td>&quot;15886928184492…</td><td>&quot;Accepted&quot;</td></tr><tr><td>0.0</td><td>&quot;11990735410242…</td><td>&quot;../../../../da…</td><td>&quot;11929159480725…</td><td>&quot;UPlusFinPerson…</td><td>null</td><td>&quot;Rejected&quot;</td></tr><tr><td>0.02333</td><td>&quot;62944206042561…</td><td>&quot;../../../../da…</td><td>&quot;11929159480725…</td><td>&quot;BasicChecking&quot;</td><td>&quot;15886928184492…</td><td>&quot;Rejected&quot;</td></tr></tbody></table></div>"
      ],
      "text/plain": [
       "shape: (7, 7)\n",
       "┌─────────────┬──────────────┬─────────────┬─────────────┬─────────────┬─────────────┬─────────────┐\n",
       "│ PREDICTOR_0 ┆ PREDICTOR_1  ┆ filename    ┆ PREDICTOR_3 ┆ Context_Nam ┆ IH_Web_Inbo ┆ Decision_Ou │\n",
       "│ ---         ┆ ---          ┆ ---         ┆ ---         ┆ e           ┆ und_Accepte ┆ tcome       │\n",
       "│ f64         ┆ str          ┆ str         ┆ str         ┆ ---         ┆ d_pxLastGr… ┆ ---         │\n",
       "│             ┆              ┆             ┆             ┆ str         ┆ ---         ┆ str         │\n",
       "│             ┆              ┆             ┆             ┆             ┆ str         ┆             │\n",
       "╞═════════════╪══════════════╪═════════════╪═════════════╪═════════════╪═════════════╪═════════════╡\n",
       "│ 0.983033    ┆ 174753941252 ┆ ../../../.. ┆ 13913052035 ┆ FirstMortga ┆ 84490012033 ┆ Rejected    │\n",
       "│             ┆ 80083550     ┆ /data/Sampl ┆ 215165371   ┆ ge30yr      ┆ 15125348    ┆             │\n",
       "│             ┆              ┆ eHDS.json   ┆             ┆             ┆             ┆             │\n",
       "│ 0.144221    ┆ 453535065391 ┆ ../../../.. ┆ 61619908880 ┆ FirstMortga ┆ 11650511684 ┆ Accepted    │\n",
       "│             ┆ 4568350      ┆ /data/Sampl ┆ 1844366     ┆ ge30yr      ┆ 493979012   ┆             │\n",
       "│             ┆              ┆ eHDS.json   ┆             ┆             ┆             ┆             │\n",
       "│ 0.679745    ┆ 987008222774 ┆ ../../../.. ┆ 11929159480 ┆ MoneyMarket ┆ 84490012033 ┆ Rejected    │\n",
       "│             ┆ 7533355      ┆ /data/Sampl ┆ 725605892   ┆ SavingsAcco ┆ 15125348    ┆             │\n",
       "│             ┆              ┆ eHDS.json   ┆             ┆ unt         ┆             ┆             │\n",
       "│ 1.0         ┆ 962154462993 ┆ ../../../.. ┆ 61619908880 ┆ BasicChecki ┆ 84490012033 ┆ Rejected    │\n",
       "│             ┆ 8739046      ┆ /data/Sampl ┆ 1844366     ┆ ng          ┆ 15125348    ┆             │\n",
       "│             ┆              ┆ eHDS.json   ┆             ┆             ┆             ┆             │\n",
       "│ 0.718982    ┆ 801415717111 ┆ ../../../.. ┆ 13913052035 ┆ BasicChecki ┆ 15886928184 ┆ Accepted    │\n",
       "│             ┆ 9503735      ┆ /data/Sampl ┆ 215165371   ┆ ng          ┆ 492614291   ┆             │\n",
       "│             ┆              ┆ eHDS.json   ┆             ┆             ┆             ┆             │\n",
       "│ 0.0         ┆ 119907354102 ┆ ../../../.. ┆ 11929159480 ┆ UPlusFinPer ┆ null        ┆ Rejected    │\n",
       "│             ┆ 4238888      ┆ /data/Sampl ┆ 725605892   ┆ sonal       ┆             ┆             │\n",
       "│             ┆              ┆ eHDS.json   ┆             ┆             ┆             ┆             │\n",
       "│ 0.02333     ┆ 629442060425 ┆ ../../../.. ┆ 11929159480 ┆ BasicChecki ┆ 15886928184 ┆ Rejected    │\n",
       "│             ┆ 6129966      ┆ /data/Sampl ┆ 725605892   ┆ ng          ┆ 492614291   ┆             │\n",
       "│             ┆              ┆ eHDS.json   ┆             ┆             ┆             ┆             │\n",
       "└─────────────┴──────────────┴─────────────┴─────────────┴─────────────┴─────────────┴─────────────┘"
      ]
     },
     "execution_count": 8,
     "metadata": {},
     "output_type": "execute_result"
    }
   ],
   "source": [
    "anon = DataAnonymization(\n",
    "    hds_folder=\"../../../../data/\",\n",
    "    mask_ih_names=False,\n",
    "    mask_outcome_values=False,\n",
    "    mask_context_key_values=False,\n",
    "    mask_context_key_names=False,\n",
    ")\n",
    "anon.process()\n"
   ]
  },
  {
   "attachments": {},
   "cell_type": "markdown",
   "metadata": {},
   "source": [
    "The configs can also be written and read as such:"
   ]
  },
  {
   "cell_type": "code",
   "execution_count": 9,
   "metadata": {
    "execution": {
     "iopub.execute_input": "2024-01-12T16:32:03.301007Z",
     "iopub.status.busy": "2024-01-12T16:32:03.300731Z",
     "iopub.status.idle": "2024-01-12T16:32:03.303603Z",
     "shell.execute_reply": "2024-01-12T16:32:03.303042Z"
    }
   },
   "outputs": [],
   "source": [
    "anon.config.save_to_config_file('config.json')"
   ]
  },
  {
   "cell_type": "code",
   "execution_count": 10,
   "metadata": {
    "execution": {
     "iopub.execute_input": "2024-01-12T16:32:03.305442Z",
     "iopub.status.busy": "2024-01-12T16:32:03.305180Z",
     "iopub.status.idle": "2024-01-12T16:32:03.313034Z",
     "shell.execute_reply": "2024-01-12T16:32:03.312544Z"
    }
   },
   "outputs": [
    {
     "data": {
      "text/html": [
       "<div><style>\n",
       ".dataframe > thead > tr,\n",
       ".dataframe > tbody > tr {\n",
       "  text-align: right;\n",
       "  white-space: pre-wrap;\n",
       "}\n",
       "</style>\n",
       "<small>shape: (7, 7)</small><table border=\"1\" class=\"dataframe\"><thead><tr><th>PREDICTOR_0</th><th>PREDICTOR_1</th><th>filename</th><th>PREDICTOR_3</th><th>Context_Name</th><th>IH_Web_Inbound_Accepted_pxLastGroupID</th><th>Decision_Outcome</th></tr><tr><td>f64</td><td>str</td><td>str</td><td>str</td><td>str</td><td>str</td><td>str</td></tr></thead><tbody><tr><td>0.983033</td><td>&quot;10021433239529…</td><td>&quot;../../../../da…</td><td>&quot;54929276683027…</td><td>&quot;FirstMortgage3…</td><td>&quot;18388118762218…</td><td>&quot;Rejected&quot;</td></tr><tr><td>0.144221</td><td>&quot;99702603973954…</td><td>&quot;../../../../da…</td><td>&quot;16463388588088…</td><td>&quot;FirstMortgage3…</td><td>&quot;16878230112897…</td><td>&quot;Accepted&quot;</td></tr><tr><td>0.679745</td><td>&quot;90581833119898…</td><td>&quot;../../../../da…</td><td>&quot;14356897693676…</td><td>&quot;MoneyMarketSav…</td><td>&quot;18388118762218…</td><td>&quot;Rejected&quot;</td></tr><tr><td>1.0</td><td>&quot;91994724665258…</td><td>&quot;../../../../da…</td><td>&quot;16463388588088…</td><td>&quot;BasicChecking&quot;</td><td>&quot;18388118762218…</td><td>&quot;Rejected&quot;</td></tr><tr><td>0.718982</td><td>&quot;54234648269704…</td><td>&quot;../../../../da…</td><td>&quot;54929276683027…</td><td>&quot;BasicChecking&quot;</td><td>&quot;17276876597909…</td><td>&quot;Accepted&quot;</td></tr><tr><td>0.0</td><td>&quot;11045751009474…</td><td>&quot;../../../../da…</td><td>&quot;14356897693676…</td><td>&quot;UPlusFinPerson…</td><td>null</td><td>&quot;Rejected&quot;</td></tr><tr><td>0.02333</td><td>&quot;45201839243428…</td><td>&quot;../../../../da…</td><td>&quot;14356897693676…</td><td>&quot;BasicChecking&quot;</td><td>&quot;17276876597909…</td><td>&quot;Rejected&quot;</td></tr></tbody></table></div>"
      ],
      "text/plain": [
       "shape: (7, 7)\n",
       "┌─────────────┬──────────────┬─────────────┬─────────────┬─────────────┬─────────────┬─────────────┐\n",
       "│ PREDICTOR_0 ┆ PREDICTOR_1  ┆ filename    ┆ PREDICTOR_3 ┆ Context_Nam ┆ IH_Web_Inbo ┆ Decision_Ou │\n",
       "│ ---         ┆ ---          ┆ ---         ┆ ---         ┆ e           ┆ und_Accepte ┆ tcome       │\n",
       "│ f64         ┆ str          ┆ str         ┆ str         ┆ ---         ┆ d_pxLastGr… ┆ ---         │\n",
       "│             ┆              ┆             ┆             ┆ str         ┆ ---         ┆ str         │\n",
       "│             ┆              ┆             ┆             ┆             ┆ str         ┆             │\n",
       "╞═════════════╪══════════════╪═════════════╪═════════════╪═════════════╪═════════════╪═════════════╡\n",
       "│ 0.983033    ┆ 100214332395 ┆ ../../../.. ┆ 54929276683 ┆ FirstMortga ┆ 18388118762 ┆ Rejected    │\n",
       "│             ┆ 29423303     ┆ /data/Sampl ┆ 0273377     ┆ ge30yr      ┆ 218325050   ┆             │\n",
       "│             ┆              ┆ eHDS.json   ┆             ┆             ┆             ┆             │\n",
       "│ 0.144221    ┆ 997026039739 ┆ ../../../.. ┆ 16463388588 ┆ FirstMortga ┆ 16878230112 ┆ Accepted    │\n",
       "│             ┆ 5492706      ┆ /data/Sampl ┆ 08883684    ┆ ge30yr      ┆ 897078728   ┆             │\n",
       "│             ┆              ┆ eHDS.json   ┆             ┆             ┆             ┆             │\n",
       "│ 0.679745    ┆ 905818331198 ┆ ../../../.. ┆ 14356897693 ┆ MoneyMarket ┆ 18388118762 ┆ Rejected    │\n",
       "│             ┆ 9815484      ┆ /data/Sampl ┆ 676072558   ┆ SavingsAcco ┆ 218325050   ┆             │\n",
       "│             ┆              ┆ eHDS.json   ┆             ┆ unt         ┆             ┆             │\n",
       "│ 1.0         ┆ 919947246652 ┆ ../../../.. ┆ 16463388588 ┆ BasicChecki ┆ 18388118762 ┆ Rejected    │\n",
       "│             ┆ 5813932      ┆ /data/Sampl ┆ 08883684    ┆ ng          ┆ 218325050   ┆             │\n",
       "│             ┆              ┆ eHDS.json   ┆             ┆             ┆             ┆             │\n",
       "│ 0.718982    ┆ 542346482697 ┆ ../../../.. ┆ 54929276683 ┆ BasicChecki ┆ 17276876597 ┆ Accepted    │\n",
       "│             ┆ 0434679      ┆ /data/Sampl ┆ 0273377     ┆ ng          ┆ 909267110   ┆             │\n",
       "│             ┆              ┆ eHDS.json   ┆             ┆             ┆             ┆             │\n",
       "│ 0.0         ┆ 110457510094 ┆ ../../../.. ┆ 14356897693 ┆ UPlusFinPer ┆ null        ┆ Rejected    │\n",
       "│             ┆ 74743867     ┆ /data/Sampl ┆ 676072558   ┆ sonal       ┆             ┆             │\n",
       "│             ┆              ┆ eHDS.json   ┆             ┆             ┆             ┆             │\n",
       "│ 0.02333     ┆ 452018392434 ┆ ../../../.. ┆ 14356897693 ┆ BasicChecki ┆ 17276876597 ┆ Rejected    │\n",
       "│             ┆ 2880763      ┆ /data/Sampl ┆ 676072558   ┆ ng          ┆ 909267110   ┆             │\n",
       "│             ┆              ┆ eHDS.json   ┆             ┆             ┆             ┆             │\n",
       "└─────────────┴──────────────┴─────────────┴─────────────┴─────────────┴─────────────┴─────────────┘"
      ]
     },
     "execution_count": 10,
     "metadata": {},
     "output_type": "execute_result"
    }
   ],
   "source": [
    "anon = DataAnonymization(config=Config(config_file='config.json'))\n",
    "anon.process()"
   ]
  },
  {
   "attachments": {},
   "cell_type": "markdown",
   "metadata": {},
   "source": [
    "## Exporting\n",
    "Two functions export:\n",
    "- `create_mapping_file()` writes the mapping file of the predictor names\n",
    "- `write_to_output()` writes the processed dataframe to disk\n",
    "\n",
    "Write to output accepts the following extensions: `[\"ndjson\", \"parquet\", \"arrow\", \"csv\"]`"
   ]
  },
  {
   "cell_type": "code",
   "execution_count": 11,
   "metadata": {
    "execution": {
     "iopub.execute_input": "2024-01-12T16:32:03.315055Z",
     "iopub.status.busy": "2024-01-12T16:32:03.314769Z",
     "iopub.status.idle": "2024-01-12T16:32:03.318326Z",
     "shell.execute_reply": "2024-01-12T16:32:03.317805Z"
    }
   },
   "outputs": [
    {
     "name": "stdout",
     "output_type": "stream",
     "text": [
      "Customer_CLV=PREDICTOR_0\n",
      "Customer_City=PREDICTOR_1\n",
      "filename=filename\n",
      "Customer_MaritalStatus=PREDICTOR_3\n",
      "Context_Name=Context_Name\n",
      "IH_Web_Inbound_Accepted_pxLastGroupID=IH_Web_Inbound_Accepted_pxLastGroupID\n",
      "Decision_Outcome=Decision_Outcome\n",
      "\n"
     ]
    }
   ],
   "source": [
    "anon.create_mapping_file()\n",
    "with open('mapping.map') as f:\n",
    "    print(f.read())"
   ]
  },
  {
   "cell_type": "code",
   "execution_count": 12,
   "metadata": {
    "execution": {
     "iopub.execute_input": "2024-01-12T16:32:03.320344Z",
     "iopub.status.busy": "2024-01-12T16:32:03.319949Z",
     "iopub.status.idle": "2024-01-12T16:32:03.323998Z",
     "shell.execute_reply": "2024-01-12T16:32:03.323455Z"
    }
   },
   "outputs": [],
   "source": [
    "anon.write_to_output(ext='arrow')"
   ]
  },
  {
   "cell_type": "code",
   "execution_count": 13,
   "metadata": {
    "execution": {
     "iopub.execute_input": "2024-01-12T16:32:03.325951Z",
     "iopub.status.busy": "2024-01-12T16:32:03.325661Z",
     "iopub.status.idle": "2024-01-12T16:32:03.330166Z",
     "shell.execute_reply": "2024-01-12T16:32:03.329692Z"
    }
   },
   "outputs": [
    {
     "data": {
      "text/html": [
       "<div><style>\n",
       ".dataframe > thead > tr,\n",
       ".dataframe > tbody > tr {\n",
       "  text-align: right;\n",
       "  white-space: pre-wrap;\n",
       "}\n",
       "</style>\n",
       "<small>shape: (7, 6)</small><table border=\"1\" class=\"dataframe\"><thead><tr><th>PREDICTOR_0</th><th>PREDICTOR_1</th><th>PREDICTOR_3</th><th>Context_Name</th><th>IH_Web_Inbound_Accepted_pxLastGroupID</th><th>Decision_Outcome</th></tr><tr><td>f64</td><td>str</td><td>str</td><td>str</td><td>str</td><td>str</td></tr></thead><tbody><tr><td>0.983033</td><td>&quot;16193942049588…</td><td>&quot;84145021299364…</td><td>&quot;FirstMortgage3…</td><td>&quot;12737848665449…</td><td>&quot;Rejected&quot;</td></tr><tr><td>0.144221</td><td>&quot;67937277558331…</td><td>&quot;76637765867661…</td><td>&quot;FirstMortgage3…</td><td>&quot;16149995427986…</td><td>&quot;Accepted&quot;</td></tr><tr><td>0.679745</td><td>&quot;16819401918360…</td><td>&quot;27074182128159…</td><td>&quot;MoneyMarketSav…</td><td>&quot;12737848665449…</td><td>&quot;Rejected&quot;</td></tr><tr><td>1.0</td><td>&quot;85112922865156…</td><td>&quot;76637765867661…</td><td>&quot;BasicChecking&quot;</td><td>&quot;12737848665449…</td><td>&quot;Rejected&quot;</td></tr><tr><td>0.718982</td><td>&quot;10776499843116…</td><td>&quot;84145021299364…</td><td>&quot;BasicChecking&quot;</td><td>&quot;78271268100138…</td><td>&quot;Accepted&quot;</td></tr><tr><td>0.0</td><td>&quot;13688361311768…</td><td>&quot;27074182128159…</td><td>&quot;UPlusFinPerson…</td><td>null</td><td>&quot;Rejected&quot;</td></tr><tr><td>0.02333</td><td>&quot;34600465979923…</td><td>&quot;27074182128159…</td><td>&quot;BasicChecking&quot;</td><td>&quot;78271268100138…</td><td>&quot;Rejected&quot;</td></tr></tbody></table></div>"
      ],
      "text/plain": [
       "shape: (7, 6)\n",
       "┌─────────────┬────────────────┬────────────────┬────────────────┬────────────────┬────────────────┐\n",
       "│ PREDICTOR_0 ┆ PREDICTOR_1    ┆ PREDICTOR_3    ┆ Context_Name   ┆ IH_Web_Inbound ┆ Decision_Outco │\n",
       "│ ---         ┆ ---            ┆ ---            ┆ ---            ┆ _Accepted_pxLa ┆ me             │\n",
       "│ f64         ┆ str            ┆ str            ┆ str            ┆ stGr…          ┆ ---            │\n",
       "│             ┆                ┆                ┆                ┆ ---            ┆ str            │\n",
       "│             ┆                ┆                ┆                ┆ str            ┆                │\n",
       "╞═════════════╪════════════════╪════════════════╪════════════════╪════════════════╪════════════════╡\n",
       "│ 0.983033    ┆ 16193942049588 ┆ 84145021299364 ┆ FirstMortgage3 ┆ 12737848665449 ┆ Rejected       │\n",
       "│             ┆ 696870         ┆ 25413          ┆ 0yr            ┆ 137649         ┆                │\n",
       "│ 0.144221    ┆ 67937277558331 ┆ 76637765867661 ┆ FirstMortgage3 ┆ 16149995427986 ┆ Accepted       │\n",
       "│             ┆ 0441           ┆ 23154          ┆ 0yr            ┆ 668488         ┆                │\n",
       "│ 0.679745    ┆ 16819401918360 ┆ 27074182128159 ┆ MoneyMarketSav ┆ 12737848665449 ┆ Rejected       │\n",
       "│             ┆ 825567         ┆ 23499          ┆ ingsAccount    ┆ 137649         ┆                │\n",
       "│ 1.0         ┆ 85112922865156 ┆ 76637765867661 ┆ BasicChecking  ┆ 12737848665449 ┆ Rejected       │\n",
       "│             ┆ 8590           ┆ 23154          ┆                ┆ 137649         ┆                │\n",
       "│ 0.718982    ┆ 10776499843116 ┆ 84145021299364 ┆ BasicChecking  ┆ 78271268100138 ┆ Accepted       │\n",
       "│             ┆ 389152         ┆ 25413          ┆                ┆ 77735          ┆                │\n",
       "│ 0.0         ┆ 13688361311768 ┆ 27074182128159 ┆ UPlusFinPerson ┆ null           ┆ Rejected       │\n",
       "│             ┆ 987515         ┆ 23499          ┆ al             ┆                ┆                │\n",
       "│ 0.02333     ┆ 34600465979923 ┆ 27074182128159 ┆ BasicChecking  ┆ 78271268100138 ┆ Rejected       │\n",
       "│             ┆ 99419          ┆ 23499          ┆                ┆ 77735          ┆                │\n",
       "└─────────────┴────────────────┴────────────────┴────────────────┴────────────────┴────────────────┘"
      ]
     },
     "execution_count": 13,
     "metadata": {},
     "output_type": "execute_result"
    }
   ],
   "source": [
    "pl.read_ipc('output/hds.arrow')"
   ]
  },
  {
   "attachments": {},
   "cell_type": "markdown",
   "metadata": {
    "nbsphinx": "hidden"
   },
   "source": [
    "## Advanced: Hash fuctions\n",
    "\n",
    "By default, we use [the same hashing algorithm Polars](https://pola-rs.github.io/polars/py-polars/html/reference/expressions/api/polars.Expr.hash.html#polars.Expr.hash) uses: [xxhash](https://github.com/Cyan4973/xxHash), as implemented [here](https://github.com/pola-rs/polars/blob/3f287f370b3c388ed2f3f218b2c096382548136f/polars/polars-core/src/vector_hasher.rs#L266). xxhash is fast to compute, and you can check its performance in collision, dispersion and randomness [here](https://github.com/Cyan4973/xxHash/tree/dev/tests). \n",
    "\n",
    "xxhash accepts four distinct seeds, but by default we set the seeds to `0`. It is possible to set the `seed` argument of the `process()` function to `'random'`, which will set all four seeds to a random integer between `0` and `1000000000`. Alternatively, it is possible to supply the four seeds manually with arguments `seed`, `seed_1`, `seed_2` and `seed_3`. \n",
    "\n",
    "If the xxhash with (random) seed(s) is not deemed sufficiently secure, it is possible to use your own hashing algorithm.\n",
    "\n",
    "Note that since we're now running python code and not native Polars code anymore, this will be _significantly_ slower. Nonetheless, it is possible.\n",
    "\n",
    "Just as an example - this is how one would use sha3_256:"
   ]
  },
  {
   "cell_type": "code",
   "execution_count": 14,
   "metadata": {
    "execution": {
     "iopub.execute_input": "2024-01-12T16:32:03.332120Z",
     "iopub.status.busy": "2024-01-12T16:32:03.331947Z",
     "iopub.status.idle": "2024-01-12T16:32:03.339881Z",
     "shell.execute_reply": "2024-01-12T16:32:03.339336Z"
    },
    "nbsphinx": "hidden"
   },
   "outputs": [
    {
     "data": {
      "text/html": [
       "<div><style>\n",
       ".dataframe > thead > tr,\n",
       ".dataframe > tbody > tr {\n",
       "  text-align: right;\n",
       "  white-space: pre-wrap;\n",
       "}\n",
       "</style>\n",
       "<small>shape: (7, 7)</small><table border=\"1\" class=\"dataframe\"><thead><tr><th>PREDICTOR_0</th><th>PREDICTOR_1</th><th>filename</th><th>PREDICTOR_3</th><th>Context_Name</th><th>IH_Web_Inbound_Accepted_pxLastGroupID</th><th>Decision_Outcome</th></tr><tr><td>f64</td><td>str</td><td>str</td><td>str</td><td>str</td><td>str</td><td>str</td></tr></thead><tbody><tr><td>0.983033</td><td>&quot;c73023dda51de1…</td><td>&quot;../../../../da…</td><td>&quot;af486bc1815c72…</td><td>&quot;FirstMortgage3…</td><td>&quot;2513d0e24d8d02…</td><td>&quot;Rejected&quot;</td></tr><tr><td>0.144221</td><td>&quot;5414b197fb87b3…</td><td>&quot;../../../../da…</td><td>&quot;3cdf7b1ae1342e…</td><td>&quot;FirstMortgage3…</td><td>&quot;8b55bf62fc2ecd…</td><td>&quot;Accepted&quot;</td></tr><tr><td>0.679745</td><td>&quot;892f5d61a9215e…</td><td>&quot;../../../../da…</td><td>&quot;806ef34eb8237f…</td><td>&quot;MoneyMarketSav…</td><td>&quot;2513d0e24d8d02…</td><td>&quot;Rejected&quot;</td></tr><tr><td>1.0</td><td>&quot;c3aa807d9e927a…</td><td>&quot;../../../../da…</td><td>&quot;3cdf7b1ae1342e…</td><td>&quot;BasicChecking&quot;</td><td>&quot;2513d0e24d8d02…</td><td>&quot;Rejected&quot;</td></tr><tr><td>0.718982</td><td>&quot;c2d492f9a05073…</td><td>&quot;../../../../da…</td><td>&quot;af486bc1815c72…</td><td>&quot;BasicChecking&quot;</td><td>&quot;1cd082ecbd5dd9…</td><td>&quot;Accepted&quot;</td></tr><tr><td>0.0</td><td>&quot;b21059221605c4…</td><td>&quot;../../../../da…</td><td>&quot;806ef34eb8237f…</td><td>&quot;UPlusFinPerson…</td><td>null</td><td>&quot;Rejected&quot;</td></tr><tr><td>0.02333</td><td>&quot;80cbe489dcecd4…</td><td>&quot;../../../../da…</td><td>&quot;806ef34eb8237f…</td><td>&quot;BasicChecking&quot;</td><td>&quot;1cd082ecbd5dd9…</td><td>&quot;Rejected&quot;</td></tr></tbody></table></div>"
      ],
      "text/plain": [
       "shape: (7, 7)\n",
       "┌─────────────┬──────────────┬─────────────┬─────────────┬─────────────┬─────────────┬─────────────┐\n",
       "│ PREDICTOR_0 ┆ PREDICTOR_1  ┆ filename    ┆ PREDICTOR_3 ┆ Context_Nam ┆ IH_Web_Inbo ┆ Decision_Ou │\n",
       "│ ---         ┆ ---          ┆ ---         ┆ ---         ┆ e           ┆ und_Accepte ┆ tcome       │\n",
       "│ f64         ┆ str          ┆ str         ┆ str         ┆ ---         ┆ d_pxLastGr… ┆ ---         │\n",
       "│             ┆              ┆             ┆             ┆ str         ┆ ---         ┆ str         │\n",
       "│             ┆              ┆             ┆             ┆             ┆ str         ┆             │\n",
       "╞═════════════╪══════════════╪═════════════╪═════════════╪═════════════╪═════════════╪═════════════╡\n",
       "│ 0.983033    ┆ c73023dda51d ┆ ../../../.. ┆ af486bc1815 ┆ FirstMortga ┆ 2513d0e24d8 ┆ Rejected    │\n",
       "│             ┆ e1b84f7af774 ┆ /data/Sampl ┆ c726c357890 ┆ ge30yr      ┆ d0214eda4fb ┆             │\n",
       "│             ┆ fd6f8c73…    ┆ eHDS.json   ┆ ac2a40ba98… ┆             ┆ 454447162b… ┆             │\n",
       "│ 0.144221    ┆ 5414b197fb87 ┆ ../../../.. ┆ 3cdf7b1ae13 ┆ FirstMortga ┆ 8b55bf62fc2 ┆ Accepted    │\n",
       "│             ┆ b3f2e350d7a7 ┆ /data/Sampl ┆ 42ef979ea2a ┆ ge30yr      ┆ ecd16af97d4 ┆             │\n",
       "│             ┆ 4a840a81…    ┆ eHDS.json   ┆ 782541ad05… ┆             ┆ 8e469362cf… ┆             │\n",
       "│ 0.679745    ┆ 892f5d61a921 ┆ ../../../.. ┆ 806ef34eb82 ┆ MoneyMarket ┆ 2513d0e24d8 ┆ Rejected    │\n",
       "│             ┆ 5ef985f3fa29 ┆ /data/Sampl ┆ 37f4db85004 ┆ SavingsAcco ┆ d0214eda4fb ┆             │\n",
       "│             ┆ 3d51c92e…    ┆ eHDS.json   ┆ e96dc471d8… ┆ unt         ┆ 454447162b… ┆             │\n",
       "│ 1.0         ┆ c3aa807d9e92 ┆ ../../../.. ┆ 3cdf7b1ae13 ┆ BasicChecki ┆ 2513d0e24d8 ┆ Rejected    │\n",
       "│             ┆ 7ae426a89e76 ┆ /data/Sampl ┆ 42ef979ea2a ┆ ng          ┆ d0214eda4fb ┆             │\n",
       "│             ┆ a12b9160…    ┆ eHDS.json   ┆ 782541ad05… ┆             ┆ 454447162b… ┆             │\n",
       "│ 0.718982    ┆ c2d492f9a050 ┆ ../../../.. ┆ af486bc1815 ┆ BasicChecki ┆ 1cd082ecbd5 ┆ Accepted    │\n",
       "│             ┆ 7327c14285e9 ┆ /data/Sampl ┆ c726c357890 ┆ ng          ┆ dd95383b104 ┆             │\n",
       "│             ┆ 4e8ee54c…    ┆ eHDS.json   ┆ ac2a40ba98… ┆             ┆ 65e395c1f7… ┆             │\n",
       "│ 0.0         ┆ b21059221605 ┆ ../../../.. ┆ 806ef34eb82 ┆ UPlusFinPer ┆ null        ┆ Rejected    │\n",
       "│             ┆ c49757cfe0fe ┆ /data/Sampl ┆ 37f4db85004 ┆ sonal       ┆             ┆             │\n",
       "│             ┆ e45640db…    ┆ eHDS.json   ┆ e96dc471d8… ┆             ┆             ┆             │\n",
       "│ 0.02333     ┆ 80cbe489dcec ┆ ../../../.. ┆ 806ef34eb82 ┆ BasicChecki ┆ 1cd082ecbd5 ┆ Rejected    │\n",
       "│             ┆ d4b9304898c9 ┆ /data/Sampl ┆ 37f4db85004 ┆ ng          ┆ dd95383b104 ┆             │\n",
       "│             ┆ 986afeeb…    ┆ eHDS.json   ┆ e96dc471d8… ┆             ┆ 65e395c1f7… ┆             │\n",
       "└─────────────┴──────────────┴─────────────┴─────────────┴─────────────┴─────────────┴─────────────┘"
      ]
     },
     "execution_count": 14,
     "metadata": {},
     "output_type": "execute_result"
    }
   ],
   "source": [
    "from hashlib import sha3_256\n",
    "\n",
    "anon.process(algorithm=lambda x: sha3_256(x.encode()).hexdigest())"
   ]
  }
 ],
 "metadata": {
  "kernelspec": {
   "display_name": "Python 3",
   "language": "python",
   "name": "python3"
  },
  "language_info": {
   "codemirror_mode": {
    "name": "ipython",
    "version": 3
   },
   "file_extension": ".py",
   "mimetype": "text/x-python",
   "name": "python",
   "nbconvert_exporter": "python",
   "pygments_lexer": "ipython3",
   "version": "3.11.7"
  },
  "vscode": {
   "interpreter": {
    "hash": "aee8b7b246df8f9039afb4144a1f6fd8d2ca17a180786b69acc140d282b71a49"
   }
  }
 },
 "nbformat": 4,
 "nbformat_minor": 2
}
