{
 "cells": [
  {
   "attachments": {},
   "cell_type": "markdown",
   "metadata": {},
   "source": [
    "# Data Anonymization\n",
    "\n",
    "In Pega CDH 8.5 and up, it's now possible to record the historical data as seen by the Adaptive Models. See [this academy challenge](https://academy.pega.com/challenge/exporting-historical-data/v4) for reference. This historical data can be further used to experiment with offline models, but also to fine-tune the OOTB Gradient Boosting model. However, sharing this information with Pega can be sensitive as it contains raw predictor data. \n",
    "\n",
    "To this end, we provide a simple and transparent script to fully anonimize this dataset.\n",
    "\n",
    "The DataAnonymization script is now part of pdstools, and you can import it directly as such."
   ]
  },
  {
   "cell_type": "code",
   "execution_count": 1,
   "metadata": {
    "execution": {
     "iopub.execute_input": "2024-01-13T13:17:41.348693Z",
     "iopub.status.busy": "2024-01-13T13:17:41.348351Z",
     "iopub.status.idle": "2024-01-13T13:17:41.418930Z",
     "shell.execute_reply": "2024-01-13T13:17:41.418326Z"
    },
    "nbsphinx": "hidden"
   },
   "outputs": [],
   "source": [
    "# These lines are only for rendering in the docs, and are hidden through Jupyter tags\n",
    "# Do not run if you're running the notebook seperately\n",
    "\n",
    "import os  \n",
    "import sys\n",
    "import plotly.io as pio\n",
    "pio.renderers.default = \"notebook_connected\"\n",
    "\n",
    "sys.path.append(\"../../../\")\n",
    "sys.path.append('../../python')"
   ]
  },
  {
   "cell_type": "code",
   "execution_count": 2,
   "metadata": {
    "execution": {
     "iopub.execute_input": "2024-01-13T13:17:41.421180Z",
     "iopub.status.busy": "2024-01-13T13:17:41.420855Z",
     "iopub.status.idle": "2024-01-13T13:17:42.389999Z",
     "shell.execute_reply": "2024-01-13T13:17:42.389399Z"
    }
   },
   "outputs": [],
   "source": [
    "from pdstools import ADMDatamart\n",
    "from pdstools import Config, DataAnonymization\n",
    "import polars as pl"
   ]
  },
  {
   "attachments": {},
   "cell_type": "markdown",
   "metadata": {},
   "source": [
    "## Input data\n",
    "\n",
    "To demonstrate this process, we're going to anonymise this toy example dataframe:"
   ]
  },
  {
   "cell_type": "code",
   "execution_count": 3,
   "metadata": {
    "execution": {
     "iopub.execute_input": "2024-01-13T13:17:42.392640Z",
     "iopub.status.busy": "2024-01-13T13:17:42.392213Z",
     "iopub.status.idle": "2024-01-13T13:17:42.400685Z",
     "shell.execute_reply": "2024-01-13T13:17:42.400227Z"
    }
   },
   "outputs": [
    {
     "data": {
      "text/html": [
       "<div><style>\n",
       ".dataframe > thead > tr,\n",
       ".dataframe > tbody > tr {\n",
       "  text-align: right;\n",
       "  white-space: pre-wrap;\n",
       "}\n",
       "</style>\n",
       "<small>shape: (7, 6)</small><table border=\"1\" class=\"dataframe\"><thead><tr><th>Context_Name</th><th>Customer_MaritalStatus</th><th>Customer_CLV</th><th>Customer_City</th><th>IH_Web_Inbound_Accepted_pxLastGroupID</th><th>Decision_Outcome</th></tr><tr><td>str</td><td>str</td><td>i64</td><td>str</td><td>str</td><td>str</td></tr></thead><tbody><tr><td>&quot;FirstMortgage3…</td><td>&quot;Married&quot;</td><td>1460</td><td>&quot;Port Raoul&quot;</td><td>&quot;Account&quot;</td><td>&quot;Rejected&quot;</td></tr><tr><td>&quot;FirstMortgage3…</td><td>&quot;Unknown&quot;</td><td>669</td><td>&quot;Laurianneshire…</td><td>&quot;AutoLoans&quot;</td><td>&quot;Accepted&quot;</td></tr><tr><td>&quot;MoneyMarketSav…</td><td>&quot;No Resp+&quot;</td><td>1174</td><td>&quot;Jacobshaven&quot;</td><td>&quot;Account&quot;</td><td>&quot;Rejected&quot;</td></tr><tr><td>&quot;BasicChecking&quot;</td><td>&quot;Unknown&quot;</td><td>1476</td><td>&quot;Lindton&quot;</td><td>&quot;Account&quot;</td><td>&quot;Rejected&quot;</td></tr><tr><td>&quot;BasicChecking&quot;</td><td>&quot;Married&quot;</td><td>1211</td><td>&quot;South Jimmiesh…</td><td>&quot;DepositAccount…</td><td>&quot;Accepted&quot;</td></tr><tr><td>&quot;UPlusFinPerson…</td><td>&quot;No Resp+&quot;</td><td>533</td><td>&quot;Bergeville&quot;</td><td>null</td><td>&quot;Rejected&quot;</td></tr><tr><td>&quot;BasicChecking&quot;</td><td>&quot;No Resp+&quot;</td><td>555</td><td>&quot;Willyville&quot;</td><td>&quot;DepositAccount…</td><td>&quot;Rejected&quot;</td></tr></tbody></table></div>"
      ],
      "text/plain": [
       "shape: (7, 6)\n",
       "┌────────────────┬────────────────┬──────────────┬────────────────┬────────────────┬───────────────┐\n",
       "│ Context_Name   ┆ Customer_Marit ┆ Customer_CLV ┆ Customer_City  ┆ IH_Web_Inbound ┆ Decision_Outc │\n",
       "│ ---            ┆ alStatus       ┆ ---          ┆ ---            ┆ _Accepted_pxLa ┆ ome           │\n",
       "│ str            ┆ ---            ┆ i64          ┆ str            ┆ stGr…          ┆ ---           │\n",
       "│                ┆ str            ┆              ┆                ┆ ---            ┆ str           │\n",
       "│                ┆                ┆              ┆                ┆ str            ┆               │\n",
       "╞════════════════╪════════════════╪══════════════╪════════════════╪════════════════╪═══════════════╡\n",
       "│ FirstMortgage3 ┆ Married        ┆ 1460         ┆ Port Raoul     ┆ Account        ┆ Rejected      │\n",
       "│ 0yr            ┆                ┆              ┆                ┆                ┆               │\n",
       "│ FirstMortgage3 ┆ Unknown        ┆ 669          ┆ Laurianneshire ┆ AutoLoans      ┆ Accepted      │\n",
       "│ 0yr            ┆                ┆              ┆                ┆                ┆               │\n",
       "│ MoneyMarketSav ┆ No Resp+       ┆ 1174         ┆ Jacobshaven    ┆ Account        ┆ Rejected      │\n",
       "│ ingsAccount    ┆                ┆              ┆                ┆                ┆               │\n",
       "│ BasicChecking  ┆ Unknown        ┆ 1476         ┆ Lindton        ┆ Account        ┆ Rejected      │\n",
       "│ BasicChecking  ┆ Married        ┆ 1211         ┆ South          ┆ DepositAccount ┆ Accepted      │\n",
       "│                ┆                ┆              ┆ Jimmieshire    ┆ s              ┆               │\n",
       "│ UPlusFinPerson ┆ No Resp+       ┆ 533          ┆ Bergeville     ┆ null           ┆ Rejected      │\n",
       "│ al             ┆                ┆              ┆                ┆                ┆               │\n",
       "│ BasicChecking  ┆ No Resp+       ┆ 555          ┆ Willyville     ┆ DepositAccount ┆ Rejected      │\n",
       "│                ┆                ┆              ┆                ┆ s              ┆               │\n",
       "└────────────────┴────────────────┴──────────────┴────────────────┴────────────────┴───────────────┘"
      ]
     },
     "execution_count": 3,
     "metadata": {},
     "output_type": "execute_result"
    }
   ],
   "source": [
    "pl.read_ndjson('../../../../data/SampleHDS.json')"
   ]
  },
  {
   "attachments": {},
   "cell_type": "markdown",
   "metadata": {},
   "source": [
    "As you can see, this dataset consists of regular predictors, IH predictors, context keys and the outcome column. Additionally, some columns are numeric, others are strings. Let's first initialize the DataAnonymization class."
   ]
  },
  {
   "cell_type": "code",
   "execution_count": 4,
   "metadata": {
    "execution": {
     "iopub.execute_input": "2024-01-13T13:17:42.402775Z",
     "iopub.status.busy": "2024-01-13T13:17:42.402426Z",
     "iopub.status.idle": "2024-01-13T13:17:42.408134Z",
     "shell.execute_reply": "2024-01-13T13:17:42.407734Z"
    }
   },
   "outputs": [],
   "source": [
    "anon = DataAnonymization(hds_folder='../../../../data/')"
   ]
  },
  {
   "attachments": {},
   "cell_type": "markdown",
   "metadata": {},
   "source": [
    "By default, the class applies a set of anonymisation techniques:\n",
    "- Column names are remapped to a non-descriptive name\n",
    "- Categorical values are hashed with a random seed\n",
    "- Numerical values are normalized between 0 and 1\n",
    "- Outcomes are mapped to a binary outcome.\n",
    "\n",
    "To apply these techniques, simply call `.process()`:"
   ]
  },
  {
   "cell_type": "code",
   "execution_count": 5,
   "metadata": {
    "execution": {
     "iopub.execute_input": "2024-01-13T13:17:42.410297Z",
     "iopub.status.busy": "2024-01-13T13:17:42.409975Z",
     "iopub.status.idle": "2024-01-13T13:17:42.415443Z",
     "shell.execute_reply": "2024-01-13T13:17:42.414896Z"
    }
   },
   "outputs": [
    {
     "data": {
      "text/html": [
       "<div><style>\n",
       ".dataframe > thead > tr,\n",
       ".dataframe > tbody > tr {\n",
       "  text-align: right;\n",
       "  white-space: pre-wrap;\n",
       "}\n",
       "</style>\n",
       "<small>shape: (7, 7)</small><table border=\"1\" class=\"dataframe\"><thead><tr><th>PREDICTOR_0</th><th>PREDICTOR_1</th><th>PREDICTOR_2</th><th>filename</th><th>Context_Name</th><th>IH_PREDICTOR_0</th><th>Decision_Outcome</th></tr><tr><td>str</td><td>f64</td><td>str</td><td>str</td><td>str</td><td>str</td><td>bool</td></tr></thead><tbody><tr><td>&quot;55797038850086…</td><td>0.983033</td><td>&quot;16948537663694…</td><td>&quot;../../../../da…</td><td>&quot;10472646288361…</td><td>&quot;64700685745251…</td><td>false</td></tr><tr><td>&quot;76180145749875…</td><td>0.144221</td><td>&quot;46744576257913…</td><td>&quot;../../../../da…</td><td>&quot;10472646288361…</td><td>&quot;67443535116509…</td><td>true</td></tr><tr><td>&quot;16707077147951…</td><td>0.679745</td><td>&quot;15494964011706…</td><td>&quot;../../../../da…</td><td>&quot;63692263730449…</td><td>&quot;64700685745251…</td><td>false</td></tr><tr><td>&quot;76180145749875…</td><td>1.0</td><td>&quot;16085867942915…</td><td>&quot;../../../../da…</td><td>&quot;12570257287852…</td><td>&quot;64700685745251…</td><td>false</td></tr><tr><td>&quot;55797038850086…</td><td>0.718982</td><td>&quot;99649367074000…</td><td>&quot;../../../../da…</td><td>&quot;12570257287852…</td><td>&quot;10918435678164…</td><td>true</td></tr><tr><td>&quot;16707077147951…</td><td>0.0</td><td>&quot;21793080343640…</td><td>&quot;../../../../da…</td><td>&quot;14672847984252…</td><td>null</td><td>false</td></tr><tr><td>&quot;16707077147951…</td><td>0.02333</td><td>&quot;10431147961915…</td><td>&quot;../../../../da…</td><td>&quot;12570257287852…</td><td>&quot;10918435678164…</td><td>false</td></tr></tbody></table></div>"
      ],
      "text/plain": [
       "shape: (7, 7)\n",
       "┌──────────────┬─────────────┬─────────────┬─────────────┬─────────────┬─────────────┬─────────────┐\n",
       "│ PREDICTOR_0  ┆ PREDICTOR_1 ┆ PREDICTOR_2 ┆ filename    ┆ Context_Nam ┆ IH_PREDICTO ┆ Decision_Ou │\n",
       "│ ---          ┆ ---         ┆ ---         ┆ ---         ┆ e           ┆ R_0         ┆ tcome       │\n",
       "│ str          ┆ f64         ┆ str         ┆ str         ┆ ---         ┆ ---         ┆ ---         │\n",
       "│              ┆             ┆             ┆             ┆ str         ┆ str         ┆ bool        │\n",
       "╞══════════════╪═════════════╪═════════════╪═════════════╪═════════════╪═════════════╪═════════════╡\n",
       "│ 557970388500 ┆ 0.983033    ┆ 16948537663 ┆ ../../../.. ┆ 10472646288 ┆ 64700685745 ┆ false       │\n",
       "│ 8653226      ┆             ┆ 694668486   ┆ /data/Sampl ┆ 361239264   ┆ 25146622    ┆             │\n",
       "│              ┆             ┆             ┆ eHDS.json   ┆             ┆             ┆             │\n",
       "│ 761801457498 ┆ 0.144221    ┆ 46744576257 ┆ ../../../.. ┆ 10472646288 ┆ 67443535116 ┆ true        │\n",
       "│ 7522592      ┆             ┆ 91336092    ┆ /data/Sampl ┆ 361239264   ┆ 5096692     ┆             │\n",
       "│              ┆             ┆             ┆ eHDS.json   ┆             ┆             ┆             │\n",
       "│ 167070771479 ┆ 0.679745    ┆ 15494964011 ┆ ../../../.. ┆ 63692263730 ┆ 64700685745 ┆ false       │\n",
       "│ 51449779     ┆             ┆ 706556382   ┆ /data/Sampl ┆ 44959245    ┆ 25146622    ┆             │\n",
       "│              ┆             ┆             ┆ eHDS.json   ┆             ┆             ┆             │\n",
       "│ 761801457498 ┆ 1.0         ┆ 16085867942 ┆ ../../../.. ┆ 12570257287 ┆ 64700685745 ┆ false       │\n",
       "│ 7522592      ┆             ┆ 915689037   ┆ /data/Sampl ┆ 852959596   ┆ 25146622    ┆             │\n",
       "│              ┆             ┆             ┆ eHDS.json   ┆             ┆             ┆             │\n",
       "│ 557970388500 ┆ 0.718982    ┆ 99649367074 ┆ ../../../.. ┆ 12570257287 ┆ 10918435678 ┆ true        │\n",
       "│ 8653226      ┆             ┆ 00099916    ┆ /data/Sampl ┆ 852959596   ┆ 164644284   ┆             │\n",
       "│              ┆             ┆             ┆ eHDS.json   ┆             ┆             ┆             │\n",
       "│ 167070771479 ┆ 0.0         ┆ 21793080343 ┆ ../../../.. ┆ 14672847984 ┆ null        ┆ false       │\n",
       "│ 51449779     ┆             ┆ 64068145    ┆ /data/Sampl ┆ 252913935   ┆             ┆             │\n",
       "│              ┆             ┆             ┆ eHDS.json   ┆             ┆             ┆             │\n",
       "│ 167070771479 ┆ 0.02333     ┆ 10431147961 ┆ ../../../.. ┆ 12570257287 ┆ 10918435678 ┆ false       │\n",
       "│ 51449779     ┆             ┆ 91589706    ┆ /data/Sampl ┆ 852959596   ┆ 164644284   ┆             │\n",
       "│              ┆             ┆             ┆ eHDS.json   ┆             ┆             ┆             │\n",
       "└──────────────┴─────────────┴─────────────┴─────────────┴─────────────┴─────────────┴─────────────┘"
      ]
     },
     "execution_count": 5,
     "metadata": {},
     "output_type": "execute_result"
    }
   ],
   "source": [
    "anon.process()"
   ]
  },
  {
   "attachments": {},
   "cell_type": "markdown",
   "metadata": {},
   "source": [
    "To trace back the columns to their original names, the class also contains a mapping, which does not have to be provided."
   ]
  },
  {
   "cell_type": "code",
   "execution_count": 6,
   "metadata": {
    "execution": {
     "iopub.execute_input": "2024-01-13T13:17:42.417407Z",
     "iopub.status.busy": "2024-01-13T13:17:42.417073Z",
     "iopub.status.idle": "2024-01-13T13:17:42.420551Z",
     "shell.execute_reply": "2024-01-13T13:17:42.420074Z"
    }
   },
   "outputs": [
    {
     "data": {
      "text/plain": [
       "{'Customer_MaritalStatus': 'PREDICTOR_0',\n",
       " 'Customer_CLV': 'PREDICTOR_1',\n",
       " 'Customer_City': 'PREDICTOR_2',\n",
       " 'filename': 'filename',\n",
       " 'Context_Name': 'Context_Name',\n",
       " 'IH_Web_Inbound_Accepted_pxLastGroupID': 'IH_PREDICTOR_0',\n",
       " 'Decision_Outcome': 'Decision_Outcome'}"
      ]
     },
     "execution_count": 6,
     "metadata": {},
     "output_type": "execute_result"
    }
   ],
   "source": [
    "anon.column_mapping"
   ]
  },
  {
   "attachments": {},
   "cell_type": "markdown",
   "metadata": {},
   "source": [
    "## Configs\n",
    "\n",
    "Each capability can optionally be turned off - see below for the full list of config options, and refer to the API reference for the full description."
   ]
  },
  {
   "cell_type": "code",
   "execution_count": 7,
   "metadata": {
    "execution": {
     "iopub.execute_input": "2024-01-13T13:17:42.422367Z",
     "iopub.status.busy": "2024-01-13T13:17:42.422203Z",
     "iopub.status.idle": "2024-01-13T13:17:42.426469Z",
     "shell.execute_reply": "2024-01-13T13:17:42.425999Z"
    }
   },
   "outputs": [
    {
     "data": {
      "text/plain": [
       "{'config_file': None,\n",
       " 'hds_folder': '.',\n",
       " 'use_datamart': False,\n",
       " 'datamart_folder': 'datamart',\n",
       " 'output_format': 'ndjson',\n",
       " 'output_folder': 'output',\n",
       " 'mapping_file': 'mapping.map',\n",
       " 'mask_predictor_names': True,\n",
       " 'mask_context_key_names': False,\n",
       " 'mask_ih_names': True,\n",
       " 'mask_outcome_name': False,\n",
       " 'mask_predictor_values': True,\n",
       " 'mask_context_key_values': True,\n",
       " 'mask_ih_values': True,\n",
       " 'mask_outcome_values': True,\n",
       " 'context_key_label': 'Context_*',\n",
       " 'ih_label': 'IH_*',\n",
       " 'outcome_column': 'Decision_Outcome',\n",
       " 'positive_outcomes': ['Accepted', 'Clicked'],\n",
       " 'negative_outcomes': ['Rejected', 'Impression'],\n",
       " 'special_predictors': ['Decision_DecisionTime',\n",
       "  'Decision_OutcomeTime',\n",
       "  'Decision_Rank'],\n",
       " 'sample_percentage_schema_inferencing': 0.01}"
      ]
     },
     "execution_count": 7,
     "metadata": {},
     "output_type": "execute_result"
    }
   ],
   "source": [
    "dict(zip(Config.__init__.__code__.co_varnames[1:], Config.__init__.__defaults__))"
   ]
  },
  {
   "attachments": {},
   "cell_type": "markdown",
   "metadata": {},
   "source": [
    "It's easy to change these parameters by just passing the keyword arguments. In the following example, we\n",
    "- Keep the IH predictor names\n",
    "- Keep the outcome values\n",
    "- Keep the context key values\n",
    "- Keep the context key predictor names"
   ]
  },
  {
   "cell_type": "code",
   "execution_count": 8,
   "metadata": {
    "execution": {
     "iopub.execute_input": "2024-01-13T13:17:42.428365Z",
     "iopub.status.busy": "2024-01-13T13:17:42.428197Z",
     "iopub.status.idle": "2024-01-13T13:17:42.435913Z",
     "shell.execute_reply": "2024-01-13T13:17:42.435481Z"
    }
   },
   "outputs": [
    {
     "data": {
      "text/html": [
       "<div><style>\n",
       ".dataframe > thead > tr,\n",
       ".dataframe > tbody > tr {\n",
       "  text-align: right;\n",
       "  white-space: pre-wrap;\n",
       "}\n",
       "</style>\n",
       "<small>shape: (7, 7)</small><table border=\"1\" class=\"dataframe\"><thead><tr><th>PREDICTOR_0</th><th>PREDICTOR_1</th><th>PREDICTOR_2</th><th>filename</th><th>Context_Name</th><th>IH_Web_Inbound_Accepted_pxLastGroupID</th><th>Decision_Outcome</th></tr><tr><td>str</td><td>f64</td><td>str</td><td>str</td><td>str</td><td>str</td><td>str</td></tr></thead><tbody><tr><td>&quot;92009474510078…</td><td>0.983033</td><td>&quot;61478662605825…</td><td>&quot;../../../../da…</td><td>&quot;FirstMortgage3…</td><td>&quot;76733479736465…</td><td>&quot;Rejected&quot;</td></tr><tr><td>&quot;17417832150163…</td><td>0.144221</td><td>&quot;83873106972024…</td><td>&quot;../../../../da…</td><td>&quot;FirstMortgage3…</td><td>&quot;30089697893777…</td><td>&quot;Accepted&quot;</td></tr><tr><td>&quot;15939123424539…</td><td>0.679745</td><td>&quot;15232212195729…</td><td>&quot;../../../../da…</td><td>&quot;MoneyMarketSav…</td><td>&quot;76733479736465…</td><td>&quot;Rejected&quot;</td></tr><tr><td>&quot;17417832150163…</td><td>1.0</td><td>&quot;53188687411172…</td><td>&quot;../../../../da…</td><td>&quot;BasicChecking&quot;</td><td>&quot;76733479736465…</td><td>&quot;Rejected&quot;</td></tr><tr><td>&quot;92009474510078…</td><td>0.718982</td><td>&quot;13608370568780…</td><td>&quot;../../../../da…</td><td>&quot;BasicChecking&quot;</td><td>&quot;56249806083362…</td><td>&quot;Accepted&quot;</td></tr><tr><td>&quot;15939123424539…</td><td>0.0</td><td>&quot;17248459100364…</td><td>&quot;../../../../da…</td><td>&quot;UPlusFinPerson…</td><td>null</td><td>&quot;Rejected&quot;</td></tr><tr><td>&quot;15939123424539…</td><td>0.02333</td><td>&quot;16906785844791…</td><td>&quot;../../../../da…</td><td>&quot;BasicChecking&quot;</td><td>&quot;56249806083362…</td><td>&quot;Rejected&quot;</td></tr></tbody></table></div>"
      ],
      "text/plain": [
       "shape: (7, 7)\n",
       "┌──────────────┬─────────────┬─────────────┬─────────────┬─────────────┬─────────────┬─────────────┐\n",
       "│ PREDICTOR_0  ┆ PREDICTOR_1 ┆ PREDICTOR_2 ┆ filename    ┆ Context_Nam ┆ IH_Web_Inbo ┆ Decision_Ou │\n",
       "│ ---          ┆ ---         ┆ ---         ┆ ---         ┆ e           ┆ und_Accepte ┆ tcome       │\n",
       "│ str          ┆ f64         ┆ str         ┆ str         ┆ ---         ┆ d_pxLastGr… ┆ ---         │\n",
       "│              ┆             ┆             ┆             ┆ str         ┆ ---         ┆ str         │\n",
       "│              ┆             ┆             ┆             ┆             ┆ str         ┆             │\n",
       "╞══════════════╪═════════════╪═════════════╪═════════════╪═════════════╪═════════════╪═════════════╡\n",
       "│ 920094745100 ┆ 0.983033    ┆ 61478662605 ┆ ../../../.. ┆ FirstMortga ┆ 76733479736 ┆ Rejected    │\n",
       "│ 7854560      ┆             ┆ 82559539    ┆ /data/Sampl ┆ ge30yr      ┆ 4650334     ┆             │\n",
       "│              ┆             ┆             ┆ eHDS.json   ┆             ┆             ┆             │\n",
       "│ 174178321501 ┆ 0.144221    ┆ 83873106972 ┆ ../../../.. ┆ FirstMortga ┆ 30089697893 ┆ Accepted    │\n",
       "│ 63428792     ┆             ┆ 02454474    ┆ /data/Sampl ┆ ge30yr      ┆ 77783695    ┆             │\n",
       "│              ┆             ┆             ┆ eHDS.json   ┆             ┆             ┆             │\n",
       "│ 159391234245 ┆ 0.679745    ┆ 15232212195 ┆ ../../../.. ┆ MoneyMarket ┆ 76733479736 ┆ Rejected    │\n",
       "│ 39618792     ┆             ┆ 729788052   ┆ /data/Sampl ┆ SavingsAcco ┆ 4650334     ┆             │\n",
       "│              ┆             ┆             ┆ eHDS.json   ┆ unt         ┆             ┆             │\n",
       "│ 174178321501 ┆ 1.0         ┆ 53188687411 ┆ ../../../.. ┆ BasicChecki ┆ 76733479736 ┆ Rejected    │\n",
       "│ 63428792     ┆             ┆ 17240161    ┆ /data/Sampl ┆ ng          ┆ 4650334     ┆             │\n",
       "│              ┆             ┆             ┆ eHDS.json   ┆             ┆             ┆             │\n",
       "│ 920094745100 ┆ 0.718982    ┆ 13608370568 ┆ ../../../.. ┆ BasicChecki ┆ 56249806083 ┆ Accepted    │\n",
       "│ 7854560      ┆             ┆ 780009739   ┆ /data/Sampl ┆ ng          ┆ 3629078     ┆             │\n",
       "│              ┆             ┆             ┆ eHDS.json   ┆             ┆             ┆             │\n",
       "│ 159391234245 ┆ 0.0         ┆ 17248459100 ┆ ../../../.. ┆ UPlusFinPer ┆ null        ┆ Rejected    │\n",
       "│ 39618792     ┆             ┆ 364127129   ┆ /data/Sampl ┆ sonal       ┆             ┆             │\n",
       "│              ┆             ┆             ┆ eHDS.json   ┆             ┆             ┆             │\n",
       "│ 159391234245 ┆ 0.02333     ┆ 16906785844 ┆ ../../../.. ┆ BasicChecki ┆ 56249806083 ┆ Rejected    │\n",
       "│ 39618792     ┆             ┆ 791990134   ┆ /data/Sampl ┆ ng          ┆ 3629078     ┆             │\n",
       "│              ┆             ┆             ┆ eHDS.json   ┆             ┆             ┆             │\n",
       "└──────────────┴─────────────┴─────────────┴─────────────┴─────────────┴─────────────┴─────────────┘"
      ]
     },
     "execution_count": 8,
     "metadata": {},
     "output_type": "execute_result"
    }
   ],
   "source": [
    "anon = DataAnonymization(\n",
    "    hds_folder=\"../../../../data/\",\n",
    "    mask_ih_names=False,\n",
    "    mask_outcome_values=False,\n",
    "    mask_context_key_values=False,\n",
    "    mask_context_key_names=False,\n",
    ")\n",
    "anon.process()\n"
   ]
  },
  {
   "attachments": {},
   "cell_type": "markdown",
   "metadata": {},
   "source": [
    "The configs can also be written and read as such:"
   ]
  },
  {
   "cell_type": "code",
   "execution_count": 9,
   "metadata": {
    "execution": {
     "iopub.execute_input": "2024-01-13T13:17:42.437858Z",
     "iopub.status.busy": "2024-01-13T13:17:42.437539Z",
     "iopub.status.idle": "2024-01-13T13:17:42.440288Z",
     "shell.execute_reply": "2024-01-13T13:17:42.439860Z"
    }
   },
   "outputs": [],
   "source": [
    "anon.config.save_to_config_file('config.json')"
   ]
  },
  {
   "cell_type": "code",
   "execution_count": 10,
   "metadata": {
    "execution": {
     "iopub.execute_input": "2024-01-13T13:17:42.442183Z",
     "iopub.status.busy": "2024-01-13T13:17:42.441871Z",
     "iopub.status.idle": "2024-01-13T13:17:42.449180Z",
     "shell.execute_reply": "2024-01-13T13:17:42.448747Z"
    }
   },
   "outputs": [
    {
     "data": {
      "text/html": [
       "<div><style>\n",
       ".dataframe > thead > tr,\n",
       ".dataframe > tbody > tr {\n",
       "  text-align: right;\n",
       "  white-space: pre-wrap;\n",
       "}\n",
       "</style>\n",
       "<small>shape: (7, 7)</small><table border=\"1\" class=\"dataframe\"><thead><tr><th>PREDICTOR_0</th><th>PREDICTOR_1</th><th>PREDICTOR_2</th><th>filename</th><th>Context_Name</th><th>IH_Web_Inbound_Accepted_pxLastGroupID</th><th>Decision_Outcome</th></tr><tr><td>str</td><td>f64</td><td>str</td><td>str</td><td>str</td><td>str</td><td>str</td></tr></thead><tbody><tr><td>&quot;16898686351729…</td><td>0.983033</td><td>&quot;12962370496612…</td><td>&quot;../../../../da…</td><td>&quot;FirstMortgage3…</td><td>&quot;10090478402610…</td><td>&quot;Rejected&quot;</td></tr><tr><td>&quot;17580231914390…</td><td>0.144221</td><td>&quot;16293076076726…</td><td>&quot;../../../../da…</td><td>&quot;FirstMortgage3…</td><td>&quot;17064631154810…</td><td>&quot;Accepted&quot;</td></tr><tr><td>&quot;75637516206865…</td><td>0.679745</td><td>&quot;22022067995138…</td><td>&quot;../../../../da…</td><td>&quot;MoneyMarketSav…</td><td>&quot;10090478402610…</td><td>&quot;Rejected&quot;</td></tr><tr><td>&quot;17580231914390…</td><td>1.0</td><td>&quot;26579696361435…</td><td>&quot;../../../../da…</td><td>&quot;BasicChecking&quot;</td><td>&quot;10090478402610…</td><td>&quot;Rejected&quot;</td></tr><tr><td>&quot;16898686351729…</td><td>0.718982</td><td>&quot;10558355415811…</td><td>&quot;../../../../da…</td><td>&quot;BasicChecking&quot;</td><td>&quot;89594328646187…</td><td>&quot;Accepted&quot;</td></tr><tr><td>&quot;75637516206865…</td><td>0.0</td><td>&quot;17592461772686…</td><td>&quot;../../../../da…</td><td>&quot;UPlusFinPerson…</td><td>null</td><td>&quot;Rejected&quot;</td></tr><tr><td>&quot;75637516206865…</td><td>0.02333</td><td>&quot;17600639351631…</td><td>&quot;../../../../da…</td><td>&quot;BasicChecking&quot;</td><td>&quot;89594328646187…</td><td>&quot;Rejected&quot;</td></tr></tbody></table></div>"
      ],
      "text/plain": [
       "shape: (7, 7)\n",
       "┌──────────────┬─────────────┬─────────────┬─────────────┬─────────────┬─────────────┬─────────────┐\n",
       "│ PREDICTOR_0  ┆ PREDICTOR_1 ┆ PREDICTOR_2 ┆ filename    ┆ Context_Nam ┆ IH_Web_Inbo ┆ Decision_Ou │\n",
       "│ ---          ┆ ---         ┆ ---         ┆ ---         ┆ e           ┆ und_Accepte ┆ tcome       │\n",
       "│ str          ┆ f64         ┆ str         ┆ str         ┆ ---         ┆ d_pxLastGr… ┆ ---         │\n",
       "│              ┆             ┆             ┆             ┆ str         ┆ ---         ┆ str         │\n",
       "│              ┆             ┆             ┆             ┆             ┆ str         ┆             │\n",
       "╞══════════════╪═════════════╪═════════════╪═════════════╪═════════════╪═════════════╪═════════════╡\n",
       "│ 168986863517 ┆ 0.983033    ┆ 12962370496 ┆ ../../../.. ┆ FirstMortga ┆ 10090478402 ┆ Rejected    │\n",
       "│ 29260344     ┆             ┆ 612392137   ┆ /data/Sampl ┆ ge30yr      ┆ 610312540   ┆             │\n",
       "│              ┆             ┆             ┆ eHDS.json   ┆             ┆             ┆             │\n",
       "│ 175802319143 ┆ 0.144221    ┆ 16293076076 ┆ ../../../.. ┆ FirstMortga ┆ 17064631154 ┆ Accepted    │\n",
       "│ 90465173     ┆             ┆ 726235197   ┆ /data/Sampl ┆ ge30yr      ┆ 810455418   ┆             │\n",
       "│              ┆             ┆             ┆ eHDS.json   ┆             ┆             ┆             │\n",
       "│ 756375162068 ┆ 0.679745    ┆ 22022067995 ┆ ../../../.. ┆ MoneyMarket ┆ 10090478402 ┆ Rejected    │\n",
       "│ 6530830      ┆             ┆ 13836595    ┆ /data/Sampl ┆ SavingsAcco ┆ 610312540   ┆             │\n",
       "│              ┆             ┆             ┆ eHDS.json   ┆ unt         ┆             ┆             │\n",
       "│ 175802319143 ┆ 1.0         ┆ 26579696361 ┆ ../../../.. ┆ BasicChecki ┆ 10090478402 ┆ Rejected    │\n",
       "│ 90465173     ┆             ┆ 43549300    ┆ /data/Sampl ┆ ng          ┆ 610312540   ┆             │\n",
       "│              ┆             ┆             ┆ eHDS.json   ┆             ┆             ┆             │\n",
       "│ 168986863517 ┆ 0.718982    ┆ 10558355415 ┆ ../../../.. ┆ BasicChecki ┆ 89594328646 ┆ Accepted    │\n",
       "│ 29260344     ┆             ┆ 811971806   ┆ /data/Sampl ┆ ng          ┆ 1879712     ┆             │\n",
       "│              ┆             ┆             ┆ eHDS.json   ┆             ┆             ┆             │\n",
       "│ 756375162068 ┆ 0.0         ┆ 17592461772 ┆ ../../../.. ┆ UPlusFinPer ┆ null        ┆ Rejected    │\n",
       "│ 6530830      ┆             ┆ 686897286   ┆ /data/Sampl ┆ sonal       ┆             ┆             │\n",
       "│              ┆             ┆             ┆ eHDS.json   ┆             ┆             ┆             │\n",
       "│ 756375162068 ┆ 0.02333     ┆ 17600639351 ┆ ../../../.. ┆ BasicChecki ┆ 89594328646 ┆ Rejected    │\n",
       "│ 6530830      ┆             ┆ 631421914   ┆ /data/Sampl ┆ ng          ┆ 1879712     ┆             │\n",
       "│              ┆             ┆             ┆ eHDS.json   ┆             ┆             ┆             │\n",
       "└──────────────┴─────────────┴─────────────┴─────────────┴─────────────┴─────────────┴─────────────┘"
      ]
     },
     "execution_count": 10,
     "metadata": {},
     "output_type": "execute_result"
    }
   ],
   "source": [
    "anon = DataAnonymization(config=Config(config_file='config.json'))\n",
    "anon.process()"
   ]
  },
  {
   "attachments": {},
   "cell_type": "markdown",
   "metadata": {},
   "source": [
    "## Exporting\n",
    "Two functions export:\n",
    "- `create_mapping_file()` writes the mapping file of the predictor names\n",
    "- `write_to_output()` writes the processed dataframe to disk\n",
    "\n",
    "Write to output accepts the following extensions: `[\"ndjson\", \"parquet\", \"arrow\", \"csv\"]`"
   ]
  },
  {
   "cell_type": "code",
   "execution_count": 11,
   "metadata": {
    "execution": {
     "iopub.execute_input": "2024-01-13T13:17:42.451105Z",
     "iopub.status.busy": "2024-01-13T13:17:42.450802Z",
     "iopub.status.idle": "2024-01-13T13:17:42.454335Z",
     "shell.execute_reply": "2024-01-13T13:17:42.453891Z"
    }
   },
   "outputs": [
    {
     "name": "stdout",
     "output_type": "stream",
     "text": [
      "Customer_MaritalStatus=PREDICTOR_0\n",
      "Customer_CLV=PREDICTOR_1\n",
      "Customer_City=PREDICTOR_2\n",
      "filename=filename\n",
      "Context_Name=Context_Name\n",
      "IH_Web_Inbound_Accepted_pxLastGroupID=IH_Web_Inbound_Accepted_pxLastGroupID\n",
      "Decision_Outcome=Decision_Outcome\n",
      "\n"
     ]
    }
   ],
   "source": [
    "anon.create_mapping_file()\n",
    "with open('mapping.map') as f:\n",
    "    print(f.read())"
   ]
  },
  {
   "cell_type": "code",
   "execution_count": 12,
   "metadata": {
    "execution": {
     "iopub.execute_input": "2024-01-13T13:17:42.456128Z",
     "iopub.status.busy": "2024-01-13T13:17:42.455967Z",
     "iopub.status.idle": "2024-01-13T13:17:42.459339Z",
     "shell.execute_reply": "2024-01-13T13:17:42.458809Z"
    }
   },
   "outputs": [],
   "source": [
    "anon.write_to_output(ext='arrow')"
   ]
  },
  {
   "cell_type": "code",
   "execution_count": 13,
   "metadata": {
    "execution": {
     "iopub.execute_input": "2024-01-13T13:17:42.461233Z",
     "iopub.status.busy": "2024-01-13T13:17:42.460956Z",
     "iopub.status.idle": "2024-01-13T13:17:42.465495Z",
     "shell.execute_reply": "2024-01-13T13:17:42.465042Z"
    }
   },
   "outputs": [
    {
     "data": {
      "text/html": [
       "<div><style>\n",
       ".dataframe > thead > tr,\n",
       ".dataframe > tbody > tr {\n",
       "  text-align: right;\n",
       "  white-space: pre-wrap;\n",
       "}\n",
       "</style>\n",
       "<small>shape: (7, 6)</small><table border=\"1\" class=\"dataframe\"><thead><tr><th>PREDICTOR_0</th><th>PREDICTOR_1</th><th>PREDICTOR_2</th><th>Context_Name</th><th>IH_Web_Inbound_Accepted_pxLastGroupID</th><th>Decision_Outcome</th></tr><tr><td>str</td><td>f64</td><td>str</td><td>str</td><td>str</td><td>str</td></tr></thead><tbody><tr><td>&quot;13537465391195…</td><td>0.983033</td><td>&quot;13754077045841…</td><td>&quot;FirstMortgage3…</td><td>&quot;11041311262481…</td><td>&quot;Rejected&quot;</td></tr><tr><td>&quot;14187909125814…</td><td>0.144221</td><td>&quot;55006337678146…</td><td>&quot;FirstMortgage3…</td><td>&quot;64827880101771…</td><td>&quot;Accepted&quot;</td></tr><tr><td>&quot;37120664654019…</td><td>0.679745</td><td>&quot;43268515447312…</td><td>&quot;MoneyMarketSav…</td><td>&quot;11041311262481…</td><td>&quot;Rejected&quot;</td></tr><tr><td>&quot;14187909125814…</td><td>1.0</td><td>&quot;11169118038290…</td><td>&quot;BasicChecking&quot;</td><td>&quot;11041311262481…</td><td>&quot;Rejected&quot;</td></tr><tr><td>&quot;13537465391195…</td><td>0.718982</td><td>&quot;18027760420142…</td><td>&quot;BasicChecking&quot;</td><td>&quot;42190129228180…</td><td>&quot;Accepted&quot;</td></tr><tr><td>&quot;37120664654019…</td><td>0.0</td><td>&quot;77087924571461…</td><td>&quot;UPlusFinPerson…</td><td>null</td><td>&quot;Rejected&quot;</td></tr><tr><td>&quot;37120664654019…</td><td>0.02333</td><td>&quot;16068892626764…</td><td>&quot;BasicChecking&quot;</td><td>&quot;42190129228180…</td><td>&quot;Rejected&quot;</td></tr></tbody></table></div>"
      ],
      "text/plain": [
       "shape: (7, 6)\n",
       "┌────────────────┬─────────────┬────────────────┬────────────────┬────────────────┬────────────────┐\n",
       "│ PREDICTOR_0    ┆ PREDICTOR_1 ┆ PREDICTOR_2    ┆ Context_Name   ┆ IH_Web_Inbound ┆ Decision_Outco │\n",
       "│ ---            ┆ ---         ┆ ---            ┆ ---            ┆ _Accepted_pxLa ┆ me             │\n",
       "│ str            ┆ f64         ┆ str            ┆ str            ┆ stGr…          ┆ ---            │\n",
       "│                ┆             ┆                ┆                ┆ ---            ┆ str            │\n",
       "│                ┆             ┆                ┆                ┆ str            ┆                │\n",
       "╞════════════════╪═════════════╪════════════════╪════════════════╪════════════════╪════════════════╡\n",
       "│ 13537465391195 ┆ 0.983033    ┆ 13754077045841 ┆ FirstMortgage3 ┆ 11041311262481 ┆ Rejected       │\n",
       "│ 791691         ┆             ┆ 368111         ┆ 0yr            ┆ 622490         ┆                │\n",
       "│ 14187909125814 ┆ 0.144221    ┆ 55006337678146 ┆ FirstMortgage3 ┆ 64827880101771 ┆ Accepted       │\n",
       "│ 551444         ┆             ┆ 87581          ┆ 0yr            ┆ 73023          ┆                │\n",
       "│ 37120664654019 ┆ 0.679745    ┆ 43268515447312 ┆ MoneyMarketSav ┆ 11041311262481 ┆ Rejected       │\n",
       "│ 65557          ┆             ┆ 59911          ┆ ingsAccount    ┆ 622490         ┆                │\n",
       "│ 14187909125814 ┆ 1.0         ┆ 11169118038290 ┆ BasicChecking  ┆ 11041311262481 ┆ Rejected       │\n",
       "│ 551444         ┆             ┆ 601202         ┆                ┆ 622490         ┆                │\n",
       "│ 13537465391195 ┆ 0.718982    ┆ 18027760420142 ┆ BasicChecking  ┆ 42190129228180 ┆ Accepted       │\n",
       "│ 791691         ┆             ┆ 443303         ┆                ┆ 0107           ┆                │\n",
       "│ 37120664654019 ┆ 0.0         ┆ 77087924571461 ┆ UPlusFinPerson ┆ null           ┆ Rejected       │\n",
       "│ 65557          ┆             ┆ 14312          ┆ al             ┆                ┆                │\n",
       "│ 37120664654019 ┆ 0.02333     ┆ 16068892626764 ┆ BasicChecking  ┆ 42190129228180 ┆ Rejected       │\n",
       "│ 65557          ┆             ┆ 590884         ┆                ┆ 0107           ┆                │\n",
       "└────────────────┴─────────────┴────────────────┴────────────────┴────────────────┴────────────────┘"
      ]
     },
     "execution_count": 13,
     "metadata": {},
     "output_type": "execute_result"
    }
   ],
   "source": [
    "pl.read_ipc('output/hds.arrow')"
   ]
  },
  {
   "attachments": {},
   "cell_type": "markdown",
   "metadata": {
    "nbsphinx": "hidden"
   },
   "source": [
    "## Advanced: Hash fuctions\n",
    "\n",
    "By default, we use [the same hashing algorithm Polars](https://pola-rs.github.io/polars/py-polars/html/reference/expressions/api/polars.Expr.hash.html#polars.Expr.hash) uses: [xxhash](https://github.com/Cyan4973/xxHash), as implemented [here](https://github.com/pola-rs/polars/blob/3f287f370b3c388ed2f3f218b2c096382548136f/polars/polars-core/src/vector_hasher.rs#L266). xxhash is fast to compute, and you can check its performance in collision, dispersion and randomness [here](https://github.com/Cyan4973/xxHash/tree/dev/tests). \n",
    "\n",
    "xxhash accepts four distinct seeds, but by default we set the seeds to `0`. It is possible to set the `seed` argument of the `process()` function to `'random'`, which will set all four seeds to a random integer between `0` and `1000000000`. Alternatively, it is possible to supply the four seeds manually with arguments `seed`, `seed_1`, `seed_2` and `seed_3`. \n",
    "\n",
    "If the xxhash with (random) seed(s) is not deemed sufficiently secure, it is possible to use your own hashing algorithm.\n",
    "\n",
    "Note that since we're now running python code and not native Polars code anymore, this will be _significantly_ slower. Nonetheless, it is possible.\n",
    "\n",
    "Just as an example - this is how one would use sha3_256:"
   ]
  },
  {
   "cell_type": "code",
   "execution_count": 14,
   "metadata": {
    "execution": {
     "iopub.execute_input": "2024-01-13T13:17:42.467486Z",
     "iopub.status.busy": "2024-01-13T13:17:42.467206Z",
     "iopub.status.idle": "2024-01-13T13:17:42.474260Z",
     "shell.execute_reply": "2024-01-13T13:17:42.473823Z"
    },
    "nbsphinx": "hidden"
   },
   "outputs": [
    {
     "data": {
      "text/html": [
       "<div><style>\n",
       ".dataframe > thead > tr,\n",
       ".dataframe > tbody > tr {\n",
       "  text-align: right;\n",
       "  white-space: pre-wrap;\n",
       "}\n",
       "</style>\n",
       "<small>shape: (7, 7)</small><table border=\"1\" class=\"dataframe\"><thead><tr><th>PREDICTOR_0</th><th>PREDICTOR_1</th><th>PREDICTOR_2</th><th>filename</th><th>Context_Name</th><th>IH_Web_Inbound_Accepted_pxLastGroupID</th><th>Decision_Outcome</th></tr><tr><td>str</td><td>f64</td><td>str</td><td>str</td><td>str</td><td>str</td><td>str</td></tr></thead><tbody><tr><td>&quot;af486bc1815c72…</td><td>0.983033</td><td>&quot;c73023dda51de1…</td><td>&quot;../../../../da…</td><td>&quot;FirstMortgage3…</td><td>&quot;2513d0e24d8d02…</td><td>&quot;Rejected&quot;</td></tr><tr><td>&quot;3cdf7b1ae1342e…</td><td>0.144221</td><td>&quot;5414b197fb87b3…</td><td>&quot;../../../../da…</td><td>&quot;FirstMortgage3…</td><td>&quot;8b55bf62fc2ecd…</td><td>&quot;Accepted&quot;</td></tr><tr><td>&quot;806ef34eb8237f…</td><td>0.679745</td><td>&quot;892f5d61a9215e…</td><td>&quot;../../../../da…</td><td>&quot;MoneyMarketSav…</td><td>&quot;2513d0e24d8d02…</td><td>&quot;Rejected&quot;</td></tr><tr><td>&quot;3cdf7b1ae1342e…</td><td>1.0</td><td>&quot;c3aa807d9e927a…</td><td>&quot;../../../../da…</td><td>&quot;BasicChecking&quot;</td><td>&quot;2513d0e24d8d02…</td><td>&quot;Rejected&quot;</td></tr><tr><td>&quot;af486bc1815c72…</td><td>0.718982</td><td>&quot;c2d492f9a05073…</td><td>&quot;../../../../da…</td><td>&quot;BasicChecking&quot;</td><td>&quot;1cd082ecbd5dd9…</td><td>&quot;Accepted&quot;</td></tr><tr><td>&quot;806ef34eb8237f…</td><td>0.0</td><td>&quot;b21059221605c4…</td><td>&quot;../../../../da…</td><td>&quot;UPlusFinPerson…</td><td>null</td><td>&quot;Rejected&quot;</td></tr><tr><td>&quot;806ef34eb8237f…</td><td>0.02333</td><td>&quot;80cbe489dcecd4…</td><td>&quot;../../../../da…</td><td>&quot;BasicChecking&quot;</td><td>&quot;1cd082ecbd5dd9…</td><td>&quot;Rejected&quot;</td></tr></tbody></table></div>"
      ],
      "text/plain": [
       "shape: (7, 7)\n",
       "┌──────────────┬─────────────┬─────────────┬─────────────┬─────────────┬─────────────┬─────────────┐\n",
       "│ PREDICTOR_0  ┆ PREDICTOR_1 ┆ PREDICTOR_2 ┆ filename    ┆ Context_Nam ┆ IH_Web_Inbo ┆ Decision_Ou │\n",
       "│ ---          ┆ ---         ┆ ---         ┆ ---         ┆ e           ┆ und_Accepte ┆ tcome       │\n",
       "│ str          ┆ f64         ┆ str         ┆ str         ┆ ---         ┆ d_pxLastGr… ┆ ---         │\n",
       "│              ┆             ┆             ┆             ┆ str         ┆ ---         ┆ str         │\n",
       "│              ┆             ┆             ┆             ┆             ┆ str         ┆             │\n",
       "╞══════════════╪═════════════╪═════════════╪═════════════╪═════════════╪═════════════╪═════════════╡\n",
       "│ af486bc1815c ┆ 0.983033    ┆ c73023dda51 ┆ ../../../.. ┆ FirstMortga ┆ 2513d0e24d8 ┆ Rejected    │\n",
       "│ 726c357890ac ┆             ┆ de1b84f7af7 ┆ /data/Sampl ┆ ge30yr      ┆ d0214eda4fb ┆             │\n",
       "│ 2a40ba98…    ┆             ┆ 74fd6f8c73… ┆ eHDS.json   ┆             ┆ 454447162b… ┆             │\n",
       "│ 3cdf7b1ae134 ┆ 0.144221    ┆ 5414b197fb8 ┆ ../../../.. ┆ FirstMortga ┆ 8b55bf62fc2 ┆ Accepted    │\n",
       "│ 2ef979ea2a78 ┆             ┆ 7b3f2e350d7 ┆ /data/Sampl ┆ ge30yr      ┆ ecd16af97d4 ┆             │\n",
       "│ 2541ad05…    ┆             ┆ a74a840a81… ┆ eHDS.json   ┆             ┆ 8e469362cf… ┆             │\n",
       "│ 806ef34eb823 ┆ 0.679745    ┆ 892f5d61a92 ┆ ../../../.. ┆ MoneyMarket ┆ 2513d0e24d8 ┆ Rejected    │\n",
       "│ 7f4db85004e9 ┆             ┆ 15ef985f3fa ┆ /data/Sampl ┆ SavingsAcco ┆ d0214eda4fb ┆             │\n",
       "│ 6dc471d8…    ┆             ┆ 293d51c92e… ┆ eHDS.json   ┆ unt         ┆ 454447162b… ┆             │\n",
       "│ 3cdf7b1ae134 ┆ 1.0         ┆ c3aa807d9e9 ┆ ../../../.. ┆ BasicChecki ┆ 2513d0e24d8 ┆ Rejected    │\n",
       "│ 2ef979ea2a78 ┆             ┆ 27ae426a89e ┆ /data/Sampl ┆ ng          ┆ d0214eda4fb ┆             │\n",
       "│ 2541ad05…    ┆             ┆ 76a12b9160… ┆ eHDS.json   ┆             ┆ 454447162b… ┆             │\n",
       "│ af486bc1815c ┆ 0.718982    ┆ c2d492f9a05 ┆ ../../../.. ┆ BasicChecki ┆ 1cd082ecbd5 ┆ Accepted    │\n",
       "│ 726c357890ac ┆             ┆ 07327c14285 ┆ /data/Sampl ┆ ng          ┆ dd95383b104 ┆             │\n",
       "│ 2a40ba98…    ┆             ┆ e94e8ee54c… ┆ eHDS.json   ┆             ┆ 65e395c1f7… ┆             │\n",
       "│ 806ef34eb823 ┆ 0.0         ┆ b2105922160 ┆ ../../../.. ┆ UPlusFinPer ┆ null        ┆ Rejected    │\n",
       "│ 7f4db85004e9 ┆             ┆ 5c49757cfe0 ┆ /data/Sampl ┆ sonal       ┆             ┆             │\n",
       "│ 6dc471d8…    ┆             ┆ fee45640db… ┆ eHDS.json   ┆             ┆             ┆             │\n",
       "│ 806ef34eb823 ┆ 0.02333     ┆ 80cbe489dce ┆ ../../../.. ┆ BasicChecki ┆ 1cd082ecbd5 ┆ Rejected    │\n",
       "│ 7f4db85004e9 ┆             ┆ cd4b9304898 ┆ /data/Sampl ┆ ng          ┆ dd95383b104 ┆             │\n",
       "│ 6dc471d8…    ┆             ┆ c9986afeeb… ┆ eHDS.json   ┆             ┆ 65e395c1f7… ┆             │\n",
       "└──────────────┴─────────────┴─────────────┴─────────────┴─────────────┴─────────────┴─────────────┘"
      ]
     },
     "execution_count": 14,
     "metadata": {},
     "output_type": "execute_result"
    }
   ],
   "source": [
    "from hashlib import sha3_256\n",
    "\n",
    "anon.process(algorithm=lambda x: sha3_256(x.encode()).hexdigest())"
   ]
  }
 ],
 "metadata": {
  "kernelspec": {
   "display_name": "Python 3",
   "language": "python",
   "name": "python3"
  },
  "language_info": {
   "codemirror_mode": {
    "name": "ipython",
    "version": 3
   },
   "file_extension": ".py",
   "mimetype": "text/x-python",
   "name": "python",
   "nbconvert_exporter": "python",
   "pygments_lexer": "ipython3",
   "version": "3.11.7"
  },
  "vscode": {
   "interpreter": {
    "hash": "aee8b7b246df8f9039afb4144a1f6fd8d2ca17a180786b69acc140d282b71a49"
   }
  }
 },
 "nbformat": 4,
 "nbformat_minor": 2
}
