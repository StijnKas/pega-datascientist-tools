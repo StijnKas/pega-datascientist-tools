{
 "cells": [
  {
   "attachments": {},
   "cell_type": "markdown",
   "metadata": {},
   "source": [
    "# Example data anonymization\n",
    "\n",
    "In Pega CDH 8.5 and up, it's now possible to record the historical data as seen by the Adaptive Models. See [this academy challenge](https://academy.pega.com/challenge/exporting-historical-data/v4) for reference. This historical data can be further used to experiment with offline models, but also to fine-tune the OOTB Gradient Boosting model. However, sharing this information with Pega can be sensitive as it contains raw predictor data. \n",
    "\n",
    "To this end, we provide a simple and transparent script to fully anonimize this dataset.\n",
    "\n",
    "The DataAnonymization script is now part of pdstools, and you can import it directly as such."
   ]
  },
  {
   "cell_type": "code",
   "execution_count": 1,
   "metadata": {
    "execution": {
     "iopub.execute_input": "2023-05-19T15:39:40.208689Z",
     "iopub.status.busy": "2023-05-19T15:39:40.208502Z",
     "iopub.status.idle": "2023-05-19T15:39:40.214114Z",
     "shell.execute_reply": "2023-05-19T15:39:40.213617Z"
    },
    "nbsphinx": "hidden"
   },
   "outputs": [],
   "source": [
    "# These lines are only for rendering in the docs, and are hidden through Jupyter tags\n",
    "# Do not run if you're running the notebook seperately\n",
    "\n",
    "import sys\n",
    "sys.path.append('../../../')"
   ]
  },
  {
   "cell_type": "code",
   "execution_count": 2,
   "metadata": {
    "execution": {
     "iopub.execute_input": "2023-05-19T15:39:40.216422Z",
     "iopub.status.busy": "2023-05-19T15:39:40.215977Z",
     "iopub.status.idle": "2023-05-19T15:39:41.227026Z",
     "shell.execute_reply": "2023-05-19T15:39:41.226464Z"
    }
   },
   "outputs": [],
   "source": [
    "from pdstools import ADMDatamart\n",
    "from pdstools import Config, DataAnonymization\n",
    "import polars as pl"
   ]
  },
  {
   "attachments": {},
   "cell_type": "markdown",
   "metadata": {},
   "source": [
    "## Input data\n",
    "\n",
    "To demonstrate this process, we're going to anonymise this toy example dataframe:"
   ]
  },
  {
   "cell_type": "code",
   "execution_count": 3,
   "metadata": {
    "execution": {
     "iopub.execute_input": "2023-05-19T15:39:41.230331Z",
     "iopub.status.busy": "2023-05-19T15:39:41.229772Z",
     "iopub.status.idle": "2023-05-19T15:39:41.240392Z",
     "shell.execute_reply": "2023-05-19T15:39:41.239899Z"
    }
   },
   "outputs": [
    {
     "data": {
      "text/html": [
       "<div><style>\n",
       ".dataframe > thead > tr > th,\n",
       ".dataframe > tbody > tr > td {\n",
       "  text-align: right;\n",
       "}\n",
       "</style>\n",
       "<small>shape: (7, 6)</small><table border=\"1\" class=\"dataframe\"><thead><tr><th>Context_Name</th><th>Customer_MaritalStatus</th><th>Customer_CLV</th><th>Customer_City</th><th>IH_Web_Inbound_Accepted_pxLastGroupID</th><th>Decision_Outcome</th></tr><tr><td>str</td><td>str</td><td>i64</td><td>str</td><td>str</td><td>str</td></tr></thead><tbody><tr><td>&quot;FirstMortgage3…</td><td>&quot;Married&quot;</td><td>1460</td><td>&quot;Port Raoul&quot;</td><td>&quot;Account&quot;</td><td>&quot;Rejected&quot;</td></tr><tr><td>&quot;FirstMortgage3…</td><td>&quot;Unknown&quot;</td><td>669</td><td>&quot;Laurianneshire…</td><td>&quot;AutoLoans&quot;</td><td>&quot;Accepted&quot;</td></tr><tr><td>&quot;MoneyMarketSav…</td><td>&quot;No Resp+&quot;</td><td>1174</td><td>&quot;Jacobshaven&quot;</td><td>&quot;Account&quot;</td><td>&quot;Rejected&quot;</td></tr><tr><td>&quot;BasicChecking&quot;</td><td>&quot;Unknown&quot;</td><td>1476</td><td>&quot;Lindton&quot;</td><td>&quot;Account&quot;</td><td>&quot;Rejected&quot;</td></tr><tr><td>&quot;BasicChecking&quot;</td><td>&quot;Married&quot;</td><td>1211</td><td>&quot;South Jimmiesh…</td><td>&quot;DepositAccount…</td><td>&quot;Accepted&quot;</td></tr><tr><td>&quot;UPlusFinPerson…</td><td>&quot;No Resp+&quot;</td><td>533</td><td>&quot;Bergeville&quot;</td><td>null</td><td>&quot;Rejected&quot;</td></tr><tr><td>&quot;BasicChecking&quot;</td><td>&quot;No Resp+&quot;</td><td>555</td><td>&quot;Willyville&quot;</td><td>&quot;DepositAccount…</td><td>&quot;Rejected&quot;</td></tr></tbody></table></div>"
      ],
      "text/plain": [
       "shape: (7, 6)\n",
       "┌────────────────┬────────────────┬──────────────┬────────────────┬────────────────┬───────────────┐\n",
       "│ Context_Name   ┆ Customer_Marit ┆ Customer_CLV ┆ Customer_City  ┆ IH_Web_Inbound ┆ Decision_Outc │\n",
       "│ ---            ┆ alStatus       ┆ ---          ┆ ---            ┆ _Accepted_pxLa ┆ ome           │\n",
       "│ str            ┆ ---            ┆ i64          ┆ str            ┆ stGr…          ┆ ---           │\n",
       "│                ┆ str            ┆              ┆                ┆ ---            ┆ str           │\n",
       "│                ┆                ┆              ┆                ┆ str            ┆               │\n",
       "╞════════════════╪════════════════╪══════════════╪════════════════╪════════════════╪═══════════════╡\n",
       "│ FirstMortgage3 ┆ Married        ┆ 1460         ┆ Port Raoul     ┆ Account        ┆ Rejected      │\n",
       "│ 0yr            ┆                ┆              ┆                ┆                ┆               │\n",
       "│ FirstMortgage3 ┆ Unknown        ┆ 669          ┆ Laurianneshire ┆ AutoLoans      ┆ Accepted      │\n",
       "│ 0yr            ┆                ┆              ┆                ┆                ┆               │\n",
       "│ MoneyMarketSav ┆ No Resp+       ┆ 1174         ┆ Jacobshaven    ┆ Account        ┆ Rejected      │\n",
       "│ ingsAccount    ┆                ┆              ┆                ┆                ┆               │\n",
       "│ BasicChecking  ┆ Unknown        ┆ 1476         ┆ Lindton        ┆ Account        ┆ Rejected      │\n",
       "│ BasicChecking  ┆ Married        ┆ 1211         ┆ South          ┆ DepositAccount ┆ Accepted      │\n",
       "│                ┆                ┆              ┆ Jimmieshire    ┆ s              ┆               │\n",
       "│ UPlusFinPerson ┆ No Resp+       ┆ 533          ┆ Bergeville     ┆ null           ┆ Rejected      │\n",
       "│ al             ┆                ┆              ┆                ┆                ┆               │\n",
       "│ BasicChecking  ┆ No Resp+       ┆ 555          ┆ Willyville     ┆ DepositAccount ┆ Rejected      │\n",
       "│                ┆                ┆              ┆                ┆ s              ┆               │\n",
       "└────────────────┴────────────────┴──────────────┴────────────────┴────────────────┴───────────────┘"
      ]
     },
     "execution_count": 3,
     "metadata": {},
     "output_type": "execute_result"
    }
   ],
   "source": [
    "pl.read_ndjson('../../../../data/SampleHDS.json')"
   ]
  },
  {
   "attachments": {},
   "cell_type": "markdown",
   "metadata": {},
   "source": [
    "As you can see, this dataset consists of regular predictors, IH predictors, context keys and the outcome column. Additionally, some columns are numeric, others are strings. Let's first initialize the DataAnonymization class."
   ]
  },
  {
   "cell_type": "code",
   "execution_count": 4,
   "metadata": {
    "execution": {
     "iopub.execute_input": "2023-05-19T15:39:41.242871Z",
     "iopub.status.busy": "2023-05-19T15:39:41.242590Z",
     "iopub.status.idle": "2023-05-19T15:39:41.250697Z",
     "shell.execute_reply": "2023-05-19T15:39:41.250266Z"
    }
   },
   "outputs": [],
   "source": [
    "anon = DataAnonymization(hds_folder='../../../../data/')"
   ]
  },
  {
   "attachments": {},
   "cell_type": "markdown",
   "metadata": {},
   "source": [
    "By default, the class applies a set of anonymisation techniques:\n",
    "- Column names are remapped to a non-descriptive name\n",
    "- Categorical values are hashed with a random seed\n",
    "- Numerical values are normalized between 0 and 1\n",
    "- Outcomes are mapped to a binary outcome.\n",
    "\n",
    "To apply these techniques, simply call `.process()`:"
   ]
  },
  {
   "cell_type": "code",
   "execution_count": 5,
   "metadata": {
    "execution": {
     "iopub.execute_input": "2023-05-19T15:39:41.254000Z",
     "iopub.status.busy": "2023-05-19T15:39:41.252942Z",
     "iopub.status.idle": "2023-05-19T15:39:41.260336Z",
     "shell.execute_reply": "2023-05-19T15:39:41.259906Z"
    }
   },
   "outputs": [
    {
     "data": {
      "text/html": [
       "<div><style>\n",
       ".dataframe > thead > tr > th,\n",
       ".dataframe > tbody > tr > td {\n",
       "  text-align: right;\n",
       "}\n",
       "</style>\n",
       "<small>shape: (7, 6)</small><table border=\"1\" class=\"dataframe\"><thead><tr><th>PREDICTOR_0</th><th>PREDICTOR_1</th><th>PREDICTOR_3</th><th>Context_Name</th><th>IH_PREDICTOR_0</th><th>Decision_Outcome</th></tr><tr><td>str</td><td>f64</td><td>str</td><td>str</td><td>str</td><td>bool</td></tr></thead><tbody><tr><td>&quot;13894699316492…</td><td>1.2927e19</td><td>&quot;37453938769877…</td><td>&quot;18817420238678…</td><td>&quot;12100188436418…</td><td>false</td></tr><tr><td>&quot;17144464470632…</td><td>1.4856e19</td><td>&quot;33262038008076…</td><td>&quot;18817420238678…</td><td>&quot;11565343324556…</td><td>true</td></tr><tr><td>&quot;74184017684416…</td><td>5.6458e17</td><td>&quot;80256897613125…</td><td>&quot;59985357038061…</td><td>&quot;12100188436418…</td><td>false</td></tr><tr><td>&quot;12254122976356…</td><td>4.0723e18</td><td>&quot;33262038008076…</td><td>&quot;20547457414723…</td><td>&quot;12100188436418…</td><td>false</td></tr><tr><td>&quot;16969155769107…</td><td>1.4677e19</td><td>&quot;37453938769877…</td><td>&quot;20547457414723…</td><td>&quot;13821591800174…</td><td>true</td></tr><tr><td>&quot;42132871333556…</td><td>1.6330e19</td><td>&quot;80256897613125…</td><td>&quot;68002043020419…</td><td>null</td><td>false</td></tr><tr><td>&quot;12810789474756…</td><td>8.7675e18</td><td>&quot;80256897613125…</td><td>&quot;20547457414723…</td><td>&quot;13821591800174…</td><td>false</td></tr></tbody></table></div>"
      ],
      "text/plain": [
       "shape: (7, 6)\n",
       "┌────────────────┬─────────────┬────────────────┬────────────────┬────────────────┬────────────────┐\n",
       "│ PREDICTOR_0    ┆ PREDICTOR_1 ┆ PREDICTOR_3    ┆ Context_Name   ┆ IH_PREDICTOR_0 ┆ Decision_Outco │\n",
       "│ ---            ┆ ---         ┆ ---            ┆ ---            ┆ ---            ┆ me             │\n",
       "│ str            ┆ f64         ┆ str            ┆ str            ┆ str            ┆ ---            │\n",
       "│                ┆             ┆                ┆                ┆                ┆ bool           │\n",
       "╞════════════════╪═════════════╪════════════════╪════════════════╪════════════════╪════════════════╡\n",
       "│ 13894699316492 ┆ 1.2927e19   ┆ 37453938769877 ┆ 18817420238678 ┆ 12100188436418 ┆ false          │\n",
       "│ 090111         ┆             ┆ 13247          ┆ 68420          ┆ 818907         ┆                │\n",
       "│ 17144464470632 ┆ 1.4856e19   ┆ 33262038008076 ┆ 18817420238678 ┆ 11565343324556 ┆ true           │\n",
       "│ 04786          ┆             ┆ 16676          ┆ 68420          ┆ 48133          ┆                │\n",
       "│ 74184017684416 ┆ 5.6458e17   ┆ 80256897613125 ┆ 59985357038061 ┆ 12100188436418 ┆ false          │\n",
       "│ 69265          ┆             ┆ 18766          ┆ 54672          ┆ 818907         ┆                │\n",
       "│ 12254122976356 ┆ 4.0723e18   ┆ 33262038008076 ┆ 20547457414723 ┆ 12100188436418 ┆ false          │\n",
       "│ 927066         ┆             ┆ 16676          ┆ 0216           ┆ 818907         ┆                │\n",
       "│ 16969155769107 ┆ 1.4677e19   ┆ 37453938769877 ┆ 20547457414723 ┆ 13821591800174 ┆ true           │\n",
       "│ 463381         ┆             ┆ 13247          ┆ 0216           ┆ 218137         ┆                │\n",
       "│ 42132871333556 ┆ 1.6330e19   ┆ 80256897613125 ┆ 68002043020419 ┆ null           ┆ false          │\n",
       "│ 61582          ┆             ┆ 18766          ┆ 84661          ┆                ┆                │\n",
       "│ 12810789474756 ┆ 8.7675e18   ┆ 80256897613125 ┆ 20547457414723 ┆ 13821591800174 ┆ false          │\n",
       "│ 006835         ┆             ┆ 18766          ┆ 0216           ┆ 218137         ┆                │\n",
       "└────────────────┴─────────────┴────────────────┴────────────────┴────────────────┴────────────────┘"
      ]
     },
     "execution_count": 5,
     "metadata": {},
     "output_type": "execute_result"
    }
   ],
   "source": [
    "anon.process()"
   ]
  },
  {
   "attachments": {},
   "cell_type": "markdown",
   "metadata": {},
   "source": [
    "To trace back the columns to their original names, the class also contains a mapping, which does not have to be provided."
   ]
  },
  {
   "cell_type": "code",
   "execution_count": 6,
   "metadata": {
    "execution": {
     "iopub.execute_input": "2023-05-19T15:39:41.262661Z",
     "iopub.status.busy": "2023-05-19T15:39:41.262463Z",
     "iopub.status.idle": "2023-05-19T15:39:41.266797Z",
     "shell.execute_reply": "2023-05-19T15:39:41.266383Z"
    }
   },
   "outputs": [
    {
     "data": {
      "text/plain": [
       "{'Customer_City': 'PREDICTOR_0',\n",
       " 'Customer_CLV': 'PREDICTOR_1',\n",
       " 'Customer_MaritalStatus': 'PREDICTOR_3',\n",
       " 'Context_Name': 'Context_Name',\n",
       " 'IH_Web_Inbound_Accepted_pxLastGroupID': 'IH_PREDICTOR_0',\n",
       " 'Decision_Outcome': 'Decision_Outcome'}"
      ]
     },
     "execution_count": 6,
     "metadata": {},
     "output_type": "execute_result"
    }
   ],
   "source": [
    "anon.column_mapping"
   ]
  },
  {
   "attachments": {},
   "cell_type": "markdown",
   "metadata": {},
   "source": [
    "## Configs\n",
    "\n",
    "Each capability can optionally be turned off - see below for the full list of config options, and refer to the API reference for the full description."
   ]
  },
  {
   "cell_type": "code",
   "execution_count": 7,
   "metadata": {
    "execution": {
     "iopub.execute_input": "2023-05-19T15:39:41.268978Z",
     "iopub.status.busy": "2023-05-19T15:39:41.268525Z",
     "iopub.status.idle": "2023-05-19T15:39:41.272498Z",
     "shell.execute_reply": "2023-05-19T15:39:41.272086Z"
    }
   },
   "outputs": [
    {
     "data": {
      "text/plain": [
       "{'config_file': None,\n",
       " 'hds_folder': '.',\n",
       " 'use_datamart': False,\n",
       " 'datamart_folder': 'datamart',\n",
       " 'output_format': 'ndjson',\n",
       " 'output_folder': 'output',\n",
       " 'mapping_file': 'mapping.map',\n",
       " 'mask_predictor_names': True,\n",
       " 'mask_context_key_names': False,\n",
       " 'mask_ih_names': True,\n",
       " 'mask_outcome_name': False,\n",
       " 'mask_predictor_values': True,\n",
       " 'mask_context_key_values': True,\n",
       " 'mask_ih_values': True,\n",
       " 'mask_outcome_values': True,\n",
       " 'context_key_label': 'Context_*',\n",
       " 'ih_label': 'IH_*',\n",
       " 'outcome_column': 'Decision_Outcome',\n",
       " 'positive_outcomes': ['Accepted', 'Clicked'],\n",
       " 'negative_outcomes': ['Rejected', 'Impression'],\n",
       " 'special_predictors': ['Decision_DecisionTime',\n",
       "  'Decision_OutcomeTime',\n",
       "  'Decision_Rank'],\n",
       " 'sample_percentage_schema_inferencing': 0.01}"
      ]
     },
     "execution_count": 7,
     "metadata": {},
     "output_type": "execute_result"
    }
   ],
   "source": [
    "dict(zip(Config.__init__.__code__.co_varnames[1:], Config.__init__.__defaults__))"
   ]
  },
  {
   "attachments": {},
   "cell_type": "markdown",
   "metadata": {},
   "source": [
    "It's easy to change these parameters by just passing the keyword arguments. In the following example, we\n",
    "- Keep the IH predictor names\n",
    "- Keep the outcome values\n",
    "- Keep the context key values\n",
    "- Keep the context key predictor names"
   ]
  },
  {
   "cell_type": "code",
   "execution_count": 8,
   "metadata": {
    "execution": {
     "iopub.execute_input": "2023-05-19T15:39:41.274660Z",
     "iopub.status.busy": "2023-05-19T15:39:41.274227Z",
     "iopub.status.idle": "2023-05-19T15:39:41.283616Z",
     "shell.execute_reply": "2023-05-19T15:39:41.283095Z"
    }
   },
   "outputs": [
    {
     "data": {
      "text/html": [
       "<div><style>\n",
       ".dataframe > thead > tr > th,\n",
       ".dataframe > tbody > tr > td {\n",
       "  text-align: right;\n",
       "}\n",
       "</style>\n",
       "<small>shape: (7, 6)</small><table border=\"1\" class=\"dataframe\"><thead><tr><th>PREDICTOR_0</th><th>PREDICTOR_1</th><th>PREDICTOR_3</th><th>Context_Name</th><th>IH_Web_Inbound_Accepted_pxLastGroupID</th><th>Decision_Outcome</th></tr><tr><td>str</td><td>f64</td><td>str</td><td>str</td><td>str</td><td>str</td></tr></thead><tbody><tr><td>&quot;16724931377091…</td><td>1.2927e19</td><td>&quot;15921023834000…</td><td>&quot;FirstMortgage3…</td><td>&quot;39110514392993…</td><td>&quot;Rejected&quot;</td></tr><tr><td>&quot;17279428651281…</td><td>1.4856e19</td><td>&quot;72954328937859…</td><td>&quot;FirstMortgage3…</td><td>&quot;17214740011557…</td><td>&quot;Accepted&quot;</td></tr><tr><td>&quot;75447581040541…</td><td>5.6458e17</td><td>&quot;12083180724848…</td><td>&quot;MoneyMarketSav…</td><td>&quot;39110514392993…</td><td>&quot;Rejected&quot;</td></tr><tr><td>&quot;12002376345907…</td><td>4.0723e18</td><td>&quot;72954328937859…</td><td>&quot;BasicChecking&quot;</td><td>&quot;39110514392993…</td><td>&quot;Rejected&quot;</td></tr><tr><td>&quot;12117806701213…</td><td>1.4677e19</td><td>&quot;15921023834000…</td><td>&quot;BasicChecking&quot;</td><td>&quot;17941900691933…</td><td>&quot;Accepted&quot;</td></tr><tr><td>&quot;13626027874413…</td><td>1.6330e19</td><td>&quot;12083180724848…</td><td>&quot;UPlusFinPerson…</td><td>null</td><td>&quot;Rejected&quot;</td></tr><tr><td>&quot;10949969830153…</td><td>8.7675e18</td><td>&quot;12083180724848…</td><td>&quot;BasicChecking&quot;</td><td>&quot;17941900691933…</td><td>&quot;Rejected&quot;</td></tr></tbody></table></div>"
      ],
      "text/plain": [
       "shape: (7, 6)\n",
       "┌────────────────┬─────────────┬────────────────┬────────────────┬────────────────┬────────────────┐\n",
       "│ PREDICTOR_0    ┆ PREDICTOR_1 ┆ PREDICTOR_3    ┆ Context_Name   ┆ IH_Web_Inbound ┆ Decision_Outco │\n",
       "│ ---            ┆ ---         ┆ ---            ┆ ---            ┆ _Accepted_pxLa ┆ me             │\n",
       "│ str            ┆ f64         ┆ str            ┆ str            ┆ stGr…          ┆ ---            │\n",
       "│                ┆             ┆                ┆                ┆ ---            ┆ str            │\n",
       "│                ┆             ┆                ┆                ┆ str            ┆                │\n",
       "╞════════════════╪═════════════╪════════════════╪════════════════╪════════════════╪════════════════╡\n",
       "│ 16724931377091 ┆ 1.2927e19   ┆ 15921023834000 ┆ FirstMortgage3 ┆ 39110514392993 ┆ Rejected       │\n",
       "│ 966323         ┆             ┆ 694560         ┆ 0yr            ┆ 59249          ┆                │\n",
       "│ 17279428651281 ┆ 1.4856e19   ┆ 72954328937859 ┆ FirstMortgage3 ┆ 17214740011557 ┆ Accepted       │\n",
       "│ 674927         ┆             ┆ 40494          ┆ 0yr            ┆ 648352         ┆                │\n",
       "│ 75447581040541 ┆ 5.6458e17   ┆ 12083180724848 ┆ MoneyMarketSav ┆ 39110514392993 ┆ Rejected       │\n",
       "│ 28608          ┆             ┆ 34675          ┆ ingsAccount    ┆ 59249          ┆                │\n",
       "│ 12002376345907 ┆ 4.0723e18   ┆ 72954328937859 ┆ BasicChecking  ┆ 39110514392993 ┆ Rejected       │\n",
       "│ 390577         ┆             ┆ 40494          ┆                ┆ 59249          ┆                │\n",
       "│ 12117806701213 ┆ 1.4677e19   ┆ 15921023834000 ┆ BasicChecking  ┆ 17941900691933 ┆ Accepted       │\n",
       "│ 863485         ┆             ┆ 694560         ┆                ┆ 764619         ┆                │\n",
       "│ 13626027874413 ┆ 1.6330e19   ┆ 12083180724848 ┆ UPlusFinPerson ┆ null           ┆ Rejected       │\n",
       "│ 783609         ┆             ┆ 34675          ┆ al             ┆                ┆                │\n",
       "│ 10949969830153 ┆ 8.7675e18   ┆ 12083180724848 ┆ BasicChecking  ┆ 17941900691933 ┆ Rejected       │\n",
       "│ 994243         ┆             ┆ 34675          ┆                ┆ 764619         ┆                │\n",
       "└────────────────┴─────────────┴────────────────┴────────────────┴────────────────┴────────────────┘"
      ]
     },
     "execution_count": 8,
     "metadata": {},
     "output_type": "execute_result"
    }
   ],
   "source": [
    "anon = DataAnonymization(\n",
    "    hds_folder='../../../../data/',\n",
    "    mask_ih_names=False,\n",
    "    mask_outcome_values=False,\n",
    "    mask_context_key_values=False,\n",
    "    mask_context_key_names=False,\n",
    ")\n",
    "anon.process()\n"
   ]
  },
  {
   "attachments": {},
   "cell_type": "markdown",
   "metadata": {},
   "source": [
    "The configs can also be written and read as such:"
   ]
  },
  {
   "cell_type": "code",
   "execution_count": 9,
   "metadata": {
    "execution": {
     "iopub.execute_input": "2023-05-19T15:39:41.285666Z",
     "iopub.status.busy": "2023-05-19T15:39:41.285484Z",
     "iopub.status.idle": "2023-05-19T15:39:41.288352Z",
     "shell.execute_reply": "2023-05-19T15:39:41.287847Z"
    }
   },
   "outputs": [],
   "source": [
    "anon.config.save_to_config_file('config.json')"
   ]
  },
  {
   "cell_type": "code",
   "execution_count": 10,
   "metadata": {
    "execution": {
     "iopub.execute_input": "2023-05-19T15:39:41.290428Z",
     "iopub.status.busy": "2023-05-19T15:39:41.290249Z",
     "iopub.status.idle": "2023-05-19T15:39:41.299309Z",
     "shell.execute_reply": "2023-05-19T15:39:41.298811Z"
    }
   },
   "outputs": [
    {
     "data": {
      "text/html": [
       "<div><style>\n",
       ".dataframe > thead > tr > th,\n",
       ".dataframe > tbody > tr > td {\n",
       "  text-align: right;\n",
       "}\n",
       "</style>\n",
       "<small>shape: (7, 6)</small><table border=\"1\" class=\"dataframe\"><thead><tr><th>PREDICTOR_0</th><th>PREDICTOR_1</th><th>PREDICTOR_3</th><th>Context_Name</th><th>IH_Web_Inbound_Accepted_pxLastGroupID</th><th>Decision_Outcome</th></tr><tr><td>str</td><td>f64</td><td>str</td><td>str</td><td>str</td><td>str</td></tr></thead><tbody><tr><td>&quot;14326717524502…</td><td>1.2927e19</td><td>&quot;30870411219235…</td><td>&quot;FirstMortgage3…</td><td>&quot;24386608198924…</td><td>&quot;Rejected&quot;</td></tr><tr><td>&quot;15396689347064…</td><td>1.4856e19</td><td>&quot;16572091665952…</td><td>&quot;FirstMortgage3…</td><td>&quot;73578887658392…</td><td>&quot;Accepted&quot;</td></tr><tr><td>&quot;65202650058116…</td><td>5.6458e17</td><td>&quot;67972185157152…</td><td>&quot;MoneyMarketSav…</td><td>&quot;24386608198924…</td><td>&quot;Rejected&quot;</td></tr><tr><td>&quot;15198241405707…</td><td>4.0723e18</td><td>&quot;16572091665952…</td><td>&quot;BasicChecking&quot;</td><td>&quot;24386608198924…</td><td>&quot;Rejected&quot;</td></tr><tr><td>&quot;10762773807282…</td><td>1.4677e19</td><td>&quot;30870411219235…</td><td>&quot;BasicChecking&quot;</td><td>&quot;97705619729629…</td><td>&quot;Accepted&quot;</td></tr><tr><td>&quot;17079306206136…</td><td>1.6330e19</td><td>&quot;67972185157152…</td><td>&quot;UPlusFinPerson…</td><td>null</td><td>&quot;Rejected&quot;</td></tr><tr><td>&quot;11356958873668…</td><td>8.7675e18</td><td>&quot;67972185157152…</td><td>&quot;BasicChecking&quot;</td><td>&quot;97705619729629…</td><td>&quot;Rejected&quot;</td></tr></tbody></table></div>"
      ],
      "text/plain": [
       "shape: (7, 6)\n",
       "┌────────────────┬─────────────┬────────────────┬────────────────┬────────────────┬────────────────┐\n",
       "│ PREDICTOR_0    ┆ PREDICTOR_1 ┆ PREDICTOR_3    ┆ Context_Name   ┆ IH_Web_Inbound ┆ Decision_Outco │\n",
       "│ ---            ┆ ---         ┆ ---            ┆ ---            ┆ _Accepted_pxLa ┆ me             │\n",
       "│ str            ┆ f64         ┆ str            ┆ str            ┆ stGr…          ┆ ---            │\n",
       "│                ┆             ┆                ┆                ┆ ---            ┆ str            │\n",
       "│                ┆             ┆                ┆                ┆ str            ┆                │\n",
       "╞════════════════╪═════════════╪════════════════╪════════════════╪════════════════╪════════════════╡\n",
       "│ 14326717524502 ┆ 1.2927e19   ┆ 30870411219235 ┆ FirstMortgage3 ┆ 24386608198924 ┆ Rejected       │\n",
       "│ 069882         ┆             ┆ 62543          ┆ 0yr            ┆ 99586          ┆                │\n",
       "│ 15396689347064 ┆ 1.4856e19   ┆ 16572091665952 ┆ FirstMortgage3 ┆ 73578887658392 ┆ Accepted       │\n",
       "│ 702512         ┆             ┆ 493469         ┆ 0yr            ┆ 38719          ┆                │\n",
       "│ 65202650058116 ┆ 5.6458e17   ┆ 67972185157152 ┆ MoneyMarketSav ┆ 24386608198924 ┆ Rejected       │\n",
       "│ 29062          ┆             ┆ 80549          ┆ ingsAccount    ┆ 99586          ┆                │\n",
       "│ 15198241405707 ┆ 4.0723e18   ┆ 16572091665952 ┆ BasicChecking  ┆ 24386608198924 ┆ Rejected       │\n",
       "│ 283112         ┆             ┆ 493469         ┆                ┆ 99586          ┆                │\n",
       "│ 10762773807282 ┆ 1.4677e19   ┆ 30870411219235 ┆ BasicChecking  ┆ 97705619729629 ┆ Accepted       │\n",
       "│ 940779         ┆             ┆ 62543          ┆                ┆ 07842          ┆                │\n",
       "│ 17079306206136 ┆ 1.6330e19   ┆ 67972185157152 ┆ UPlusFinPerson ┆ null           ┆ Rejected       │\n",
       "│ 732995         ┆             ┆ 80549          ┆ al             ┆                ┆                │\n",
       "│ 11356958873668 ┆ 8.7675e18   ┆ 67972185157152 ┆ BasicChecking  ┆ 97705619729629 ┆ Rejected       │\n",
       "│ 758289         ┆             ┆ 80549          ┆                ┆ 07842          ┆                │\n",
       "└────────────────┴─────────────┴────────────────┴────────────────┴────────────────┴────────────────┘"
      ]
     },
     "execution_count": 10,
     "metadata": {},
     "output_type": "execute_result"
    }
   ],
   "source": [
    "anon = DataAnonymization(config=Config(config_file='config.json'))\n",
    "anon.process()"
   ]
  },
  {
   "attachments": {},
   "cell_type": "markdown",
   "metadata": {},
   "source": [
    "## Exporting\n",
    "Two functions export:\n",
    "- `create_mapping_file()` writes the mapping file of the predictor names\n",
    "- `write_to_output()` writes the processed dataframe to disk\n",
    "\n",
    "Write to output accepts the following extensions: `[\"ndjson\", \"parquet\", \"arrow\", \"csv\"]`"
   ]
  },
  {
   "cell_type": "code",
   "execution_count": 11,
   "metadata": {
    "execution": {
     "iopub.execute_input": "2023-05-19T15:39:41.301370Z",
     "iopub.status.busy": "2023-05-19T15:39:41.301200Z",
     "iopub.status.idle": "2023-05-19T15:39:41.304739Z",
     "shell.execute_reply": "2023-05-19T15:39:41.304198Z"
    }
   },
   "outputs": [
    {
     "name": "stdout",
     "output_type": "stream",
     "text": [
      "Customer_City=PREDICTOR_0\n",
      "Customer_CLV=PREDICTOR_1\n",
      "Customer_MaritalStatus=PREDICTOR_3\n",
      "Context_Name=Context_Name\n",
      "IH_Web_Inbound_Accepted_pxLastGroupID=IH_Web_Inbound_Accepted_pxLastGroupID\n",
      "Decision_Outcome=Decision_Outcome\n",
      "\n"
     ]
    }
   ],
   "source": [
    "anon.create_mapping_file()\n",
    "with open('mapping.map') as f:\n",
    "    print(f.read())"
   ]
  },
  {
   "cell_type": "code",
   "execution_count": 12,
   "metadata": {
    "execution": {
     "iopub.execute_input": "2023-05-19T15:39:41.307228Z",
     "iopub.status.busy": "2023-05-19T15:39:41.307055Z",
     "iopub.status.idle": "2023-05-19T15:39:41.310385Z",
     "shell.execute_reply": "2023-05-19T15:39:41.309853Z"
    }
   },
   "outputs": [],
   "source": [
    "anon.write_to_output(ext='arrow')"
   ]
  },
  {
   "cell_type": "code",
   "execution_count": 13,
   "metadata": {
    "execution": {
     "iopub.execute_input": "2023-05-19T15:39:41.312363Z",
     "iopub.status.busy": "2023-05-19T15:39:41.312180Z",
     "iopub.status.idle": "2023-05-19T15:39:41.316630Z",
     "shell.execute_reply": "2023-05-19T15:39:41.316220Z"
    }
   },
   "outputs": [
    {
     "data": {
      "text/html": [
       "<div><style>\n",
       ".dataframe > thead > tr > th,\n",
       ".dataframe > tbody > tr > td {\n",
       "  text-align: right;\n",
       "}\n",
       "</style>\n",
       "<small>shape: (7, 6)</small><table border=\"1\" class=\"dataframe\"><thead><tr><th>PREDICTOR_0</th><th>PREDICTOR_1</th><th>PREDICTOR_3</th><th>Context_Name</th><th>IH_Web_Inbound_Accepted_pxLastGroupID</th><th>Decision_Outcome</th></tr><tr><td>str</td><td>f64</td><td>str</td><td>str</td><td>str</td><td>str</td></tr></thead><tbody><tr><td>&quot;86415255870832…</td><td>1.2927e19</td><td>&quot;12988380965880…</td><td>&quot;FirstMortgage3…</td><td>&quot;85273718181566…</td><td>&quot;Rejected&quot;</td></tr><tr><td>&quot;48125331713901…</td><td>1.4856e19</td><td>&quot;30578847031577…</td><td>&quot;FirstMortgage3…</td><td>&quot;14249846828358…</td><td>&quot;Accepted&quot;</td></tr><tr><td>&quot;12399032674736…</td><td>5.6458e17</td><td>&quot;17328476553741…</td><td>&quot;MoneyMarketSav…</td><td>&quot;85273718181566…</td><td>&quot;Rejected&quot;</td></tr><tr><td>&quot;41958169009275…</td><td>4.0723e18</td><td>&quot;30578847031577…</td><td>&quot;BasicChecking&quot;</td><td>&quot;85273718181566…</td><td>&quot;Rejected&quot;</td></tr><tr><td>&quot;23480762903618…</td><td>1.4677e19</td><td>&quot;12988380965880…</td><td>&quot;BasicChecking&quot;</td><td>&quot;94999418476335…</td><td>&quot;Accepted&quot;</td></tr><tr><td>&quot;19363678552493…</td><td>1.6330e19</td><td>&quot;17328476553741…</td><td>&quot;UPlusFinPerson…</td><td>null</td><td>&quot;Rejected&quot;</td></tr><tr><td>&quot;16267104638917…</td><td>8.7675e18</td><td>&quot;17328476553741…</td><td>&quot;BasicChecking&quot;</td><td>&quot;94999418476335…</td><td>&quot;Rejected&quot;</td></tr></tbody></table></div>"
      ],
      "text/plain": [
       "shape: (7, 6)\n",
       "┌────────────────┬─────────────┬────────────────┬────────────────┬────────────────┬────────────────┐\n",
       "│ PREDICTOR_0    ┆ PREDICTOR_1 ┆ PREDICTOR_3    ┆ Context_Name   ┆ IH_Web_Inbound ┆ Decision_Outco │\n",
       "│ ---            ┆ ---         ┆ ---            ┆ ---            ┆ _Accepted_pxLa ┆ me             │\n",
       "│ str            ┆ f64         ┆ str            ┆ str            ┆ stGr…          ┆ ---            │\n",
       "│                ┆             ┆                ┆                ┆ ---            ┆ str            │\n",
       "│                ┆             ┆                ┆                ┆ str            ┆                │\n",
       "╞════════════════╪═════════════╪════════════════╪════════════════╪════════════════╪════════════════╡\n",
       "│ 86415255870832 ┆ 1.2927e19   ┆ 12988380965880 ┆ FirstMortgage3 ┆ 85273718181566 ┆ Rejected       │\n",
       "│ 93353          ┆             ┆ 505945         ┆ 0yr            ┆ 03458          ┆                │\n",
       "│ 48125331713901 ┆ 1.4856e19   ┆ 30578847031577 ┆ FirstMortgage3 ┆ 14249846828358 ┆ Accepted       │\n",
       "│ 73667          ┆             ┆ 01727          ┆ 0yr            ┆ 329295         ┆                │\n",
       "│ 12399032674736 ┆ 5.6458e17   ┆ 17328476553741 ┆ MoneyMarketSav ┆ 85273718181566 ┆ Rejected       │\n",
       "│ 356949         ┆             ┆ 279240         ┆ ingsAccount    ┆ 03458          ┆                │\n",
       "│ 41958169009275 ┆ 4.0723e18   ┆ 30578847031577 ┆ BasicChecking  ┆ 85273718181566 ┆ Rejected       │\n",
       "│ 21690          ┆             ┆ 01727          ┆                ┆ 03458          ┆                │\n",
       "│ 23480762903618 ┆ 1.4677e19   ┆ 12988380965880 ┆ BasicChecking  ┆ 94999418476335 ┆ Accepted       │\n",
       "│ 99713          ┆             ┆ 505945         ┆                ┆ 018            ┆                │\n",
       "│ 19363678552493 ┆ 1.6330e19   ┆ 17328476553741 ┆ UPlusFinPerson ┆ null           ┆ Rejected       │\n",
       "│ 85200          ┆             ┆ 279240         ┆ al             ┆                ┆                │\n",
       "│ 16267104638917 ┆ 8.7675e18   ┆ 17328476553741 ┆ BasicChecking  ┆ 94999418476335 ┆ Rejected       │\n",
       "│ 730198         ┆             ┆ 279240         ┆                ┆ 018            ┆                │\n",
       "└────────────────┴─────────────┴────────────────┴────────────────┴────────────────┴────────────────┘"
      ]
     },
     "execution_count": 13,
     "metadata": {},
     "output_type": "execute_result"
    }
   ],
   "source": [
    "pl.read_ipc('output/hds.arrow')"
   ]
  },
  {
   "attachments": {},
   "cell_type": "markdown",
   "metadata": {},
   "source": [
    "## Advanced: Hash fuctions\n",
    "\n",
    "By default, we use [the same hashing algorithm Polars](https://pola-rs.github.io/polars/py-polars/html/reference/expressions/api/polars.Expr.hash.html#polars.Expr.hash) uses: [xxhash](https://github.com/Cyan4973/xxHash), as implemented [here](https://github.com/pola-rs/polars/blob/3f287f370b3c388ed2f3f218b2c096382548136f/polars/polars-core/src/vector_hasher.rs#L266). xxhash is fast to compute, and you can check its performance in collision, dispersion and randomness [here](https://github.com/Cyan4973/xxHash/tree/dev/tests). \n",
    "\n",
    "xxhash accepts four distinct seeds, but by default we set the seeds to `0`. It is possible to set the `seed` argument of the `process()` function to `'random'`, which will set all four seeds to a random integer between `0` and `1000000000`. Alternatively, it is possible to supply the four seeds manually with arguments `seed`, `seed_1`, `seed_2` and `seed_3`. \n",
    "\n",
    "If the xxhash with (random) seed(s) is not deemed sufficiently secure, it is possible to use your own hashing algorithm.\n",
    "\n",
    "Note that since we're now running python code and not native Polars code anymore, this will be _significantly_ slower. Nonetheless, it is possible.\n",
    "\n",
    "Just as an example - this is how one would use sha3_256:"
   ]
  },
  {
   "cell_type": "code",
   "execution_count": 14,
   "metadata": {
    "execution": {
     "iopub.execute_input": "2023-05-19T15:39:41.318776Z",
     "iopub.status.busy": "2023-05-19T15:39:41.318489Z",
     "iopub.status.idle": "2023-05-19T15:39:41.651665Z",
     "shell.execute_reply": "2023-05-19T15:39:41.651064Z"
    }
   },
   "outputs": [
    {
     "ename": "ComputeError",
     "evalue": "AttributeError: 'int' object has no attribute 'encode'",
     "output_type": "error",
     "traceback": [
      "\u001b[0;31m---------------------------------------------------------------------------\u001b[0m",
      "\u001b[0;31mComputeError\u001b[0m                              Traceback (most recent call last)",
      "Cell \u001b[0;32mIn[14], line 3\u001b[0m\n\u001b[1;32m      1\u001b[0m \u001b[38;5;28;01mfrom\u001b[39;00m \u001b[38;5;21;01mhashlib\u001b[39;00m \u001b[38;5;28;01mimport\u001b[39;00m sha3_256\n\u001b[0;32m----> 3\u001b[0m \u001b[43manon\u001b[49m\u001b[38;5;241;43m.\u001b[39;49m\u001b[43mprocess\u001b[49m\u001b[43m(\u001b[49m\u001b[43malgorithm\u001b[49m\u001b[38;5;241;43m=\u001b[39;49m\u001b[38;5;28;43;01mlambda\u001b[39;49;00m\u001b[43m \u001b[49m\u001b[43mx\u001b[49m\u001b[43m:\u001b[49m\u001b[43m \u001b[49m\u001b[43msha3_256\u001b[49m\u001b[43m(\u001b[49m\u001b[43mx\u001b[49m\u001b[38;5;241;43m.\u001b[39;49m\u001b[43mencode\u001b[49m\u001b[43m(\u001b[49m\u001b[43m)\u001b[49m\u001b[43m)\u001b[49m\u001b[38;5;241;43m.\u001b[39;49m\u001b[43mhexdigest\u001b[49m\u001b[43m(\u001b[49m\u001b[43m)\u001b[49m\u001b[43m)\u001b[49m\n",
      "File \u001b[0;32m~/work/pega-datascientist-tools/pega-datascientist-tools/python/docs/source/articles/../../../pdstools/utils/hds_utils.py:515\u001b[0m, in \u001b[0;36mDataAnonymization.process\u001b[0;34m(self, strategy, **kwargs)\u001b[0m\n\u001b[1;32m    513\u001b[0m df \u001b[38;5;241m=\u001b[39m df\u001b[38;5;241m.\u001b[39mselect(\u001b[38;5;28mself\u001b[39m\u001b[38;5;241m.\u001b[39mcolumn_mapping\u001b[38;5;241m.\u001b[39mkeys())\u001b[38;5;241m.\u001b[39mrename(\u001b[38;5;28mself\u001b[39m\u001b[38;5;241m.\u001b[39mcolumn_mapping)\n\u001b[1;32m    514\u001b[0m \u001b[38;5;28;01mif\u001b[39;00m strategy \u001b[38;5;241m==\u001b[39m \u001b[38;5;124m\"\u001b[39m\u001b[38;5;124meager\u001b[39m\u001b[38;5;124m\"\u001b[39m:\n\u001b[0;32m--> 515\u001b[0m     \u001b[38;5;28;01mreturn\u001b[39;00m \u001b[43mdf\u001b[49m\u001b[38;5;241;43m.\u001b[39;49m\u001b[43mcollect\u001b[49m\u001b[43m(\u001b[49m\u001b[43m)\u001b[49m\n\u001b[1;32m    516\u001b[0m \u001b[38;5;28;01mreturn\u001b[39;00m df\n",
      "File \u001b[0;32m/opt/hostedtoolcache/Python/3.11.3/x64/lib/python3.11/site-packages/polars/lazyframe/frame.py:1602\u001b[0m, in \u001b[0;36mLazyFrame.collect\u001b[0;34m(self, type_coercion, predicate_pushdown, projection_pushdown, simplify_expression, no_optimization, slice_pushdown, common_subplan_elimination, streaming)\u001b[0m\n\u001b[1;32m   1591\u001b[0m     common_subplan_elimination \u001b[38;5;241m=\u001b[39m \u001b[38;5;28;01mFalse\u001b[39;00m\n\u001b[1;32m   1593\u001b[0m ldf \u001b[38;5;241m=\u001b[39m \u001b[38;5;28mself\u001b[39m\u001b[38;5;241m.\u001b[39m_ldf\u001b[38;5;241m.\u001b[39moptimization_toggle(\n\u001b[1;32m   1594\u001b[0m     type_coercion,\n\u001b[1;32m   1595\u001b[0m     predicate_pushdown,\n\u001b[0;32m   (...)\u001b[0m\n\u001b[1;32m   1600\u001b[0m     streaming,\n\u001b[1;32m   1601\u001b[0m )\n\u001b[0;32m-> 1602\u001b[0m \u001b[38;5;28;01mreturn\u001b[39;00m wrap_df(ldf\u001b[38;5;241m.\u001b[39mcollect())\n",
      "\u001b[0;31mComputeError\u001b[0m: AttributeError: 'int' object has no attribute 'encode'"
     ]
    }
   ],
   "source": [
    "from hashlib import sha3_256\n",
    "\n",
    "anon.process(algorithm=lambda x: sha3_256(x.encode()).hexdigest())"
   ]
  }
 ],
 "metadata": {
  "kernelspec": {
   "display_name": "Python 3",
   "language": "python",
   "name": "python3"
  },
  "language_info": {
   "codemirror_mode": {
    "name": "ipython",
    "version": 3
   },
   "file_extension": ".py",
   "mimetype": "text/x-python",
   "name": "python",
   "nbconvert_exporter": "python",
   "pygments_lexer": "ipython3",
   "version": "3.11.3"
  },
  "vscode": {
   "interpreter": {
    "hash": "aee8b7b246df8f9039afb4144a1f6fd8d2ca17a180786b69acc140d282b71a49"
   }
  }
 },
 "nbformat": 4,
 "nbformat_minor": 2
}
