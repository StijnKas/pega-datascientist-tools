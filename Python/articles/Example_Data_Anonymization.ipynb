{
 "cells": [
  {
   "attachments": {},
   "cell_type": "markdown",
   "metadata": {},
   "source": [
    "# Example data anonymization\n",
    "\n",
    "In Pega CDH 8.5 and up, it's now possible to record the historical data as seen by the Adaptive Models. See [this academy challenge](https://academy.pega.com/challenge/exporting-historical-data/v4) for reference. This historical data can be further used to experiment with offline models, but also to fine-tune the OOTB Gradient Boosting model. However, sharing this information with Pega can be sensitive as it contains raw predictor data. \n",
    "\n",
    "To this end, we provide a simple and transparent script to fully anonimize this dataset.\n",
    "\n",
    "The DataAnonymization script is now part of pdstools, and you can import it directly as such."
   ]
  },
  {
   "cell_type": "code",
   "execution_count": 1,
   "metadata": {
    "execution": {
     "iopub.execute_input": "2023-10-02T08:24:44.839378Z",
     "iopub.status.busy": "2023-10-02T08:24:44.838777Z",
     "iopub.status.idle": "2023-10-02T08:24:44.920160Z",
     "shell.execute_reply": "2023-10-02T08:24:44.919618Z"
    },
    "nbsphinx": "hidden"
   },
   "outputs": [],
   "source": [
    "# These lines are only for rendering in the docs, and are hidden through Jupyter tags\n",
    "# Do not run if you're running the notebook seperately\n",
    "\n",
    "import os  \n",
    "import sys\n",
    "import plotly.io as pio\n",
    "pio.renderers.default = \"notebook_connected\"\n",
    "\n",
    "sys.path.append(\"../../../\")\n",
    "sys.path.append('../../python')"
   ]
  },
  {
   "cell_type": "code",
   "execution_count": 2,
   "metadata": {
    "execution": {
     "iopub.execute_input": "2023-10-02T08:24:44.923242Z",
     "iopub.status.busy": "2023-10-02T08:24:44.922804Z",
     "iopub.status.idle": "2023-10-02T08:24:46.111014Z",
     "shell.execute_reply": "2023-10-02T08:24:46.109992Z"
    }
   },
   "outputs": [],
   "source": [
    "from pdstools import ADMDatamart\n",
    "from pdstools import Config, DataAnonymization\n",
    "import polars as pl"
   ]
  },
  {
   "attachments": {},
   "cell_type": "markdown",
   "metadata": {},
   "source": [
    "## Input data\n",
    "\n",
    "To demonstrate this process, we're going to anonymise this toy example dataframe:"
   ]
  },
  {
   "cell_type": "code",
   "execution_count": 3,
   "metadata": {
    "execution": {
     "iopub.execute_input": "2023-10-02T08:24:46.115200Z",
     "iopub.status.busy": "2023-10-02T08:24:46.113903Z",
     "iopub.status.idle": "2023-10-02T08:24:46.124616Z",
     "shell.execute_reply": "2023-10-02T08:24:46.124152Z"
    }
   },
   "outputs": [
    {
     "data": {
      "text/html": [
       "<div><style>\n",
       ".dataframe > thead > tr > th,\n",
       ".dataframe > tbody > tr > td {\n",
       "  text-align: right;\n",
       "  white-space: pre-wrap;\n",
       "}\n",
       "</style>\n",
       "<small>shape: (7, 6)</small><table border=\"1\" class=\"dataframe\"><thead><tr><th>Context_Name</th><th>Customer_MaritalStatus</th><th>Customer_CLV</th><th>Customer_City</th><th>IH_Web_Inbound_Accepted_pxLastGroupID</th><th>Decision_Outcome</th></tr><tr><td>str</td><td>str</td><td>i64</td><td>str</td><td>str</td><td>str</td></tr></thead><tbody><tr><td>&quot;FirstMortgage3…</td><td>&quot;Married&quot;</td><td>1460</td><td>&quot;Port Raoul&quot;</td><td>&quot;Account&quot;</td><td>&quot;Rejected&quot;</td></tr><tr><td>&quot;FirstMortgage3…</td><td>&quot;Unknown&quot;</td><td>669</td><td>&quot;Laurianneshire…</td><td>&quot;AutoLoans&quot;</td><td>&quot;Accepted&quot;</td></tr><tr><td>&quot;MoneyMarketSav…</td><td>&quot;No Resp+&quot;</td><td>1174</td><td>&quot;Jacobshaven&quot;</td><td>&quot;Account&quot;</td><td>&quot;Rejected&quot;</td></tr><tr><td>&quot;BasicChecking&quot;</td><td>&quot;Unknown&quot;</td><td>1476</td><td>&quot;Lindton&quot;</td><td>&quot;Account&quot;</td><td>&quot;Rejected&quot;</td></tr><tr><td>&quot;BasicChecking&quot;</td><td>&quot;Married&quot;</td><td>1211</td><td>&quot;South Jimmiesh…</td><td>&quot;DepositAccount…</td><td>&quot;Accepted&quot;</td></tr><tr><td>&quot;UPlusFinPerson…</td><td>&quot;No Resp+&quot;</td><td>533</td><td>&quot;Bergeville&quot;</td><td>null</td><td>&quot;Rejected&quot;</td></tr><tr><td>&quot;BasicChecking&quot;</td><td>&quot;No Resp+&quot;</td><td>555</td><td>&quot;Willyville&quot;</td><td>&quot;DepositAccount…</td><td>&quot;Rejected&quot;</td></tr></tbody></table></div>"
      ],
      "text/plain": [
       "shape: (7, 6)\n",
       "┌────────────────┬────────────────┬──────────────┬────────────────┬────────────────┬───────────────┐\n",
       "│ Context_Name   ┆ Customer_Marit ┆ Customer_CLV ┆ Customer_City  ┆ IH_Web_Inbound ┆ Decision_Outc │\n",
       "│ ---            ┆ alStatus       ┆ ---          ┆ ---            ┆ _Accepted_pxLa ┆ ome           │\n",
       "│ str            ┆ ---            ┆ i64          ┆ str            ┆ stGr…          ┆ ---           │\n",
       "│                ┆ str            ┆              ┆                ┆ ---            ┆ str           │\n",
       "│                ┆                ┆              ┆                ┆ str            ┆               │\n",
       "╞════════════════╪════════════════╪══════════════╪════════════════╪════════════════╪═══════════════╡\n",
       "│ FirstMortgage3 ┆ Married        ┆ 1460         ┆ Port Raoul     ┆ Account        ┆ Rejected      │\n",
       "│ 0yr            ┆                ┆              ┆                ┆                ┆               │\n",
       "│ FirstMortgage3 ┆ Unknown        ┆ 669          ┆ Laurianneshire ┆ AutoLoans      ┆ Accepted      │\n",
       "│ 0yr            ┆                ┆              ┆                ┆                ┆               │\n",
       "│ MoneyMarketSav ┆ No Resp+       ┆ 1174         ┆ Jacobshaven    ┆ Account        ┆ Rejected      │\n",
       "│ ingsAccount    ┆                ┆              ┆                ┆                ┆               │\n",
       "│ BasicChecking  ┆ Unknown        ┆ 1476         ┆ Lindton        ┆ Account        ┆ Rejected      │\n",
       "│ BasicChecking  ┆ Married        ┆ 1211         ┆ South          ┆ DepositAccount ┆ Accepted      │\n",
       "│                ┆                ┆              ┆ Jimmieshire    ┆ s              ┆               │\n",
       "│ UPlusFinPerson ┆ No Resp+       ┆ 533          ┆ Bergeville     ┆ null           ┆ Rejected      │\n",
       "│ al             ┆                ┆              ┆                ┆                ┆               │\n",
       "│ BasicChecking  ┆ No Resp+       ┆ 555          ┆ Willyville     ┆ DepositAccount ┆ Rejected      │\n",
       "│                ┆                ┆              ┆                ┆ s              ┆               │\n",
       "└────────────────┴────────────────┴──────────────┴────────────────┴────────────────┴───────────────┘"
      ]
     },
     "execution_count": 3,
     "metadata": {},
     "output_type": "execute_result"
    }
   ],
   "source": [
    "pl.read_ndjson('../../../../data/SampleHDS.json')"
   ]
  },
  {
   "attachments": {},
   "cell_type": "markdown",
   "metadata": {},
   "source": [
    "As you can see, this dataset consists of regular predictors, IH predictors, context keys and the outcome column. Additionally, some columns are numeric, others are strings. Let's first initialize the DataAnonymization class."
   ]
  },
  {
   "cell_type": "code",
   "execution_count": 4,
   "metadata": {
    "execution": {
     "iopub.execute_input": "2023-10-02T08:24:46.126894Z",
     "iopub.status.busy": "2023-10-02T08:24:46.126526Z",
     "iopub.status.idle": "2023-10-02T08:24:46.135700Z",
     "shell.execute_reply": "2023-10-02T08:24:46.134629Z"
    }
   },
   "outputs": [],
   "source": [
    "anon = DataAnonymization(hds_folder='../../../../data/')"
   ]
  },
  {
   "attachments": {},
   "cell_type": "markdown",
   "metadata": {},
   "source": [
    "By default, the class applies a set of anonymisation techniques:\n",
    "- Column names are remapped to a non-descriptive name\n",
    "- Categorical values are hashed with a random seed\n",
    "- Numerical values are normalized between 0 and 1\n",
    "- Outcomes are mapped to a binary outcome.\n",
    "\n",
    "To apply these techniques, simply call `.process()`:"
   ]
  },
  {
   "cell_type": "code",
   "execution_count": 5,
   "metadata": {
    "execution": {
     "iopub.execute_input": "2023-10-02T08:24:46.138004Z",
     "iopub.status.busy": "2023-10-02T08:24:46.137636Z",
     "iopub.status.idle": "2023-10-02T08:24:46.144056Z",
     "shell.execute_reply": "2023-10-02T08:24:46.143596Z"
    }
   },
   "outputs": [
    {
     "data": {
      "text/html": [
       "<div><style>\n",
       ".dataframe > thead > tr > th,\n",
       ".dataframe > tbody > tr > td {\n",
       "  text-align: right;\n",
       "  white-space: pre-wrap;\n",
       "}\n",
       "</style>\n",
       "<small>shape: (7, 7)</small><table border=\"1\" class=\"dataframe\"><thead><tr><th>filename</th><th>PREDICTOR_1</th><th>PREDICTOR_2</th><th>PREDICTOR_3</th><th>Context_Name</th><th>IH_PREDICTOR_0</th><th>Decision_Outcome</th></tr><tr><td>str</td><td>str</td><td>f64</td><td>str</td><td>str</td><td>str</td><td>bool</td></tr></thead><tbody><tr><td>&quot;../../../../da…</td><td>&quot;33554733289795…</td><td>1.2927e19</td><td>&quot;68871599228682…</td><td>&quot;17961173238645…</td><td>&quot;99124901294654…</td><td>false</td></tr><tr><td>&quot;../../../../da…</td><td>&quot;41612928036320…</td><td>1.4856e19</td><td>&quot;16237620892896…</td><td>&quot;17961173238645…</td><td>&quot;55318887053168…</td><td>true</td></tr><tr><td>&quot;../../../../da…</td><td>&quot;16017655634561…</td><td>5.6458e17</td><td>&quot;13679798155767…</td><td>&quot;17422534483443…</td><td>&quot;99124901294654…</td><td>false</td></tr><tr><td>&quot;../../../../da…</td><td>&quot;15087258745982…</td><td>4.0723e18</td><td>&quot;16237620892896…</td><td>&quot;99934939659878…</td><td>&quot;99124901294654…</td><td>false</td></tr><tr><td>&quot;../../../../da…</td><td>&quot;12552201923913…</td><td>1.4677e19</td><td>&quot;68871599228682…</td><td>&quot;99934939659878…</td><td>&quot;96591623659206…</td><td>true</td></tr><tr><td>&quot;../../../../da…</td><td>&quot;16877496767446…</td><td>1.6330e19</td><td>&quot;13679798155767…</td><td>&quot;43336542392808…</td><td>null</td><td>false</td></tr><tr><td>&quot;../../../../da…</td><td>&quot;15432601962466…</td><td>8.7675e18</td><td>&quot;13679798155767…</td><td>&quot;99934939659878…</td><td>&quot;96591623659206…</td><td>false</td></tr></tbody></table></div>"
      ],
      "text/plain": [
       "shape: (7, 7)\n",
       "┌──────────────┬─────────────┬─────────────┬─────────────┬─────────────┬─────────────┬─────────────┐\n",
       "│ filename     ┆ PREDICTOR_1 ┆ PREDICTOR_2 ┆ PREDICTOR_3 ┆ Context_Nam ┆ IH_PREDICTO ┆ Decision_Ou │\n",
       "│ ---          ┆ ---         ┆ ---         ┆ ---         ┆ e           ┆ R_0         ┆ tcome       │\n",
       "│ str          ┆ str         ┆ f64         ┆ str         ┆ ---         ┆ ---         ┆ ---         │\n",
       "│              ┆             ┆             ┆             ┆ str         ┆ str         ┆ bool        │\n",
       "╞══════════════╪═════════════╪═════════════╪═════════════╪═════════════╪═════════════╪═════════════╡\n",
       "│ ../../../../ ┆ 33554733289 ┆ 1.2927e19   ┆ 68871599228 ┆ 17961173238 ┆ 99124901294 ┆ false       │\n",
       "│ data/SampleH ┆ 79500943    ┆             ┆ 68291171    ┆ 64516857    ┆ 65441640    ┆             │\n",
       "│ DS.json      ┆             ┆             ┆             ┆             ┆             ┆             │\n",
       "│ ../../../../ ┆ 41612928036 ┆ 1.4856e19   ┆ 16237620892 ┆ 17961173238 ┆ 55318887053 ┆ true        │\n",
       "│ data/SampleH ┆ 32068179    ┆             ┆ 896781958   ┆ 64516857    ┆ 16854566    ┆             │\n",
       "│ DS.json      ┆             ┆             ┆             ┆             ┆             ┆             │\n",
       "│ ../../../../ ┆ 16017655634 ┆ 5.6458e17   ┆ 13679798155 ┆ 17422534483 ┆ 99124901294 ┆ false       │\n",
       "│ data/SampleH ┆ 561034528   ┆             ┆ 767300058   ┆ 443393655   ┆ 65441640    ┆             │\n",
       "│ DS.json      ┆             ┆             ┆             ┆             ┆             ┆             │\n",
       "│ ../../../../ ┆ 15087258745 ┆ 4.0723e18   ┆ 16237620892 ┆ 99934939659 ┆ 99124901294 ┆ false       │\n",
       "│ data/SampleH ┆ 982152762   ┆             ┆ 896781958   ┆ 87889101    ┆ 65441640    ┆             │\n",
       "│ DS.json      ┆             ┆             ┆             ┆             ┆             ┆             │\n",
       "│ ../../../../ ┆ 12552201923 ┆ 1.4677e19   ┆ 68871599228 ┆ 99934939659 ┆ 96591623659 ┆ true        │\n",
       "│ data/SampleH ┆ 913461322   ┆             ┆ 68291171    ┆ 87889101    ┆ 20671117    ┆             │\n",
       "│ DS.json      ┆             ┆             ┆             ┆             ┆             ┆             │\n",
       "│ ../../../../ ┆ 16877496767 ┆ 1.6330e19   ┆ 13679798155 ┆ 43336542392 ┆ null        ┆ false       │\n",
       "│ data/SampleH ┆ 446681271   ┆             ┆ 767300058   ┆ 80865500    ┆             ┆             │\n",
       "│ DS.json      ┆             ┆             ┆             ┆             ┆             ┆             │\n",
       "│ ../../../../ ┆ 15432601962 ┆ 8.7675e18   ┆ 13679798155 ┆ 99934939659 ┆ 96591623659 ┆ false       │\n",
       "│ data/SampleH ┆ 466393244   ┆             ┆ 767300058   ┆ 87889101    ┆ 20671117    ┆             │\n",
       "│ DS.json      ┆             ┆             ┆             ┆             ┆             ┆             │\n",
       "└──────────────┴─────────────┴─────────────┴─────────────┴─────────────┴─────────────┴─────────────┘"
      ]
     },
     "execution_count": 5,
     "metadata": {},
     "output_type": "execute_result"
    }
   ],
   "source": [
    "anon.process()"
   ]
  },
  {
   "attachments": {},
   "cell_type": "markdown",
   "metadata": {},
   "source": [
    "To trace back the columns to their original names, the class also contains a mapping, which does not have to be provided."
   ]
  },
  {
   "cell_type": "code",
   "execution_count": 6,
   "metadata": {
    "execution": {
     "iopub.execute_input": "2023-10-02T08:24:46.146216Z",
     "iopub.status.busy": "2023-10-02T08:24:46.145862Z",
     "iopub.status.idle": "2023-10-02T08:24:46.149690Z",
     "shell.execute_reply": "2023-10-02T08:24:46.149249Z"
    }
   },
   "outputs": [
    {
     "data": {
      "text/plain": [
       "{'filename': 'filename',\n",
       " 'Customer_City': 'PREDICTOR_1',\n",
       " 'Customer_CLV': 'PREDICTOR_2',\n",
       " 'Customer_MaritalStatus': 'PREDICTOR_3',\n",
       " 'Context_Name': 'Context_Name',\n",
       " 'IH_Web_Inbound_Accepted_pxLastGroupID': 'IH_PREDICTOR_0',\n",
       " 'Decision_Outcome': 'Decision_Outcome'}"
      ]
     },
     "execution_count": 6,
     "metadata": {},
     "output_type": "execute_result"
    }
   ],
   "source": [
    "anon.column_mapping"
   ]
  },
  {
   "attachments": {},
   "cell_type": "markdown",
   "metadata": {},
   "source": [
    "## Configs\n",
    "\n",
    "Each capability can optionally be turned off - see below for the full list of config options, and refer to the API reference for the full description."
   ]
  },
  {
   "cell_type": "code",
   "execution_count": 7,
   "metadata": {
    "execution": {
     "iopub.execute_input": "2023-10-02T08:24:46.151802Z",
     "iopub.status.busy": "2023-10-02T08:24:46.151454Z",
     "iopub.status.idle": "2023-10-02T08:24:46.155675Z",
     "shell.execute_reply": "2023-10-02T08:24:46.155235Z"
    }
   },
   "outputs": [
    {
     "data": {
      "text/plain": [
       "{'config_file': None,\n",
       " 'hds_folder': '.',\n",
       " 'use_datamart': False,\n",
       " 'datamart_folder': 'datamart',\n",
       " 'output_format': 'ndjson',\n",
       " 'output_folder': 'output',\n",
       " 'mapping_file': 'mapping.map',\n",
       " 'mask_predictor_names': True,\n",
       " 'mask_context_key_names': False,\n",
       " 'mask_ih_names': True,\n",
       " 'mask_outcome_name': False,\n",
       " 'mask_predictor_values': True,\n",
       " 'mask_context_key_values': True,\n",
       " 'mask_ih_values': True,\n",
       " 'mask_outcome_values': True,\n",
       " 'context_key_label': 'Context_*',\n",
       " 'ih_label': 'IH_*',\n",
       " 'outcome_column': 'Decision_Outcome',\n",
       " 'positive_outcomes': ['Accepted', 'Clicked'],\n",
       " 'negative_outcomes': ['Rejected', 'Impression'],\n",
       " 'special_predictors': ['Decision_DecisionTime',\n",
       "  'Decision_OutcomeTime',\n",
       "  'Decision_Rank'],\n",
       " 'sample_percentage_schema_inferencing': 0.01}"
      ]
     },
     "execution_count": 7,
     "metadata": {},
     "output_type": "execute_result"
    }
   ],
   "source": [
    "dict(zip(Config.__init__.__code__.co_varnames[1:], Config.__init__.__defaults__))"
   ]
  },
  {
   "attachments": {},
   "cell_type": "markdown",
   "metadata": {},
   "source": [
    "It's easy to change these parameters by just passing the keyword arguments. In the following example, we\n",
    "- Keep the IH predictor names\n",
    "- Keep the outcome values\n",
    "- Keep the context key values\n",
    "- Keep the context key predictor names"
   ]
  },
  {
   "cell_type": "code",
   "execution_count": 8,
   "metadata": {
    "execution": {
     "iopub.execute_input": "2023-10-02T08:24:46.157970Z",
     "iopub.status.busy": "2023-10-02T08:24:46.157421Z",
     "iopub.status.idle": "2023-10-02T08:24:46.167310Z",
     "shell.execute_reply": "2023-10-02T08:24:46.166856Z"
    }
   },
   "outputs": [
    {
     "data": {
      "text/html": [
       "<div><style>\n",
       ".dataframe > thead > tr > th,\n",
       ".dataframe > tbody > tr > td {\n",
       "  text-align: right;\n",
       "  white-space: pre-wrap;\n",
       "}\n",
       "</style>\n",
       "<small>shape: (7, 7)</small><table border=\"1\" class=\"dataframe\"><thead><tr><th>filename</th><th>PREDICTOR_1</th><th>PREDICTOR_2</th><th>PREDICTOR_3</th><th>Context_Name</th><th>IH_Web_Inbound_Accepted_pxLastGroupID</th><th>Decision_Outcome</th></tr><tr><td>str</td><td>str</td><td>f64</td><td>str</td><td>str</td><td>str</td><td>str</td></tr></thead><tbody><tr><td>&quot;../../../../da…</td><td>&quot;10462430955680…</td><td>1.2927e19</td><td>&quot;18408582867386…</td><td>&quot;FirstMortgage3…</td><td>&quot;76911208803436…</td><td>&quot;Rejected&quot;</td></tr><tr><td>&quot;../../../../da…</td><td>&quot;22674975296576…</td><td>1.4856e19</td><td>&quot;15663950308881…</td><td>&quot;FirstMortgage3…</td><td>&quot;84401571626636…</td><td>&quot;Accepted&quot;</td></tr><tr><td>&quot;../../../../da…</td><td>&quot;10171906171783…</td><td>5.6458e17</td><td>&quot;11532969266158…</td><td>&quot;MoneyMarketSav…</td><td>&quot;76911208803436…</td><td>&quot;Rejected&quot;</td></tr><tr><td>&quot;../../../../da…</td><td>&quot;16591873433243…</td><td>4.0723e18</td><td>&quot;15663950308881…</td><td>&quot;BasicChecking&quot;</td><td>&quot;76911208803436…</td><td>&quot;Rejected&quot;</td></tr><tr><td>&quot;../../../../da…</td><td>&quot;15694743897750…</td><td>1.4677e19</td><td>&quot;18408582867386…</td><td>&quot;BasicChecking&quot;</td><td>&quot;17668946058322…</td><td>&quot;Accepted&quot;</td></tr><tr><td>&quot;../../../../da…</td><td>&quot;16643256392340…</td><td>1.6330e19</td><td>&quot;11532969266158…</td><td>&quot;UPlusFinPerson…</td><td>null</td><td>&quot;Rejected&quot;</td></tr><tr><td>&quot;../../../../da…</td><td>&quot;14215739341929…</td><td>8.7675e18</td><td>&quot;11532969266158…</td><td>&quot;BasicChecking&quot;</td><td>&quot;17668946058322…</td><td>&quot;Rejected&quot;</td></tr></tbody></table></div>"
      ],
      "text/plain": [
       "shape: (7, 7)\n",
       "┌──────────────┬─────────────┬─────────────┬─────────────┬─────────────┬─────────────┬─────────────┐\n",
       "│ filename     ┆ PREDICTOR_1 ┆ PREDICTOR_2 ┆ PREDICTOR_3 ┆ Context_Nam ┆ IH_Web_Inbo ┆ Decision_Ou │\n",
       "│ ---          ┆ ---         ┆ ---         ┆ ---         ┆ e           ┆ und_Accepte ┆ tcome       │\n",
       "│ str          ┆ str         ┆ f64         ┆ str         ┆ ---         ┆ d_pxLastGr… ┆ ---         │\n",
       "│              ┆             ┆             ┆             ┆ str         ┆ ---         ┆ str         │\n",
       "│              ┆             ┆             ┆             ┆             ┆ str         ┆             │\n",
       "╞══════════════╪═════════════╪═════════════╪═════════════╪═════════════╪═════════════╪═════════════╡\n",
       "│ ../../../../ ┆ 10462430955 ┆ 1.2927e19   ┆ 18408582867 ┆ FirstMortga ┆ 76911208803 ┆ Rejected    │\n",
       "│ data/SampleH ┆ 680894068   ┆             ┆ 386034229   ┆ ge30yr      ┆ 43633060    ┆             │\n",
       "│ DS.json      ┆             ┆             ┆             ┆             ┆             ┆             │\n",
       "│ ../../../../ ┆ 22674975296 ┆ 1.4856e19   ┆ 15663950308 ┆ FirstMortga ┆ 84401571626 ┆ Accepted    │\n",
       "│ data/SampleH ┆ 57600716    ┆             ┆ 88175359    ┆ ge30yr      ┆ 63690982    ┆             │\n",
       "│ DS.json      ┆             ┆             ┆             ┆             ┆             ┆             │\n",
       "│ ../../../../ ┆ 10171906171 ┆ 5.6458e17   ┆ 11532969266 ┆ MoneyMarket ┆ 76911208803 ┆ Rejected    │\n",
       "│ data/SampleH ┆ 783087731   ┆             ┆ 158119890   ┆ SavingsAcco ┆ 43633060    ┆             │\n",
       "│ DS.json      ┆             ┆             ┆             ┆ unt         ┆             ┆             │\n",
       "│ ../../../../ ┆ 16591873433 ┆ 4.0723e18   ┆ 15663950308 ┆ BasicChecki ┆ 76911208803 ┆ Rejected    │\n",
       "│ data/SampleH ┆ 24332321    ┆             ┆ 88175359    ┆ ng          ┆ 43633060    ┆             │\n",
       "│ DS.json      ┆             ┆             ┆             ┆             ┆             ┆             │\n",
       "│ ../../../../ ┆ 15694743897 ┆ 1.4677e19   ┆ 18408582867 ┆ BasicChecki ┆ 17668946058 ┆ Accepted    │\n",
       "│ data/SampleH ┆ 750001553   ┆             ┆ 386034229   ┆ ng          ┆ 322271247   ┆             │\n",
       "│ DS.json      ┆             ┆             ┆             ┆             ┆             ┆             │\n",
       "│ ../../../../ ┆ 16643256392 ┆ 1.6330e19   ┆ 11532969266 ┆ UPlusFinPer ┆ null        ┆ Rejected    │\n",
       "│ data/SampleH ┆ 340062070   ┆             ┆ 158119890   ┆ sonal       ┆             ┆             │\n",
       "│ DS.json      ┆             ┆             ┆             ┆             ┆             ┆             │\n",
       "│ ../../../../ ┆ 14215739341 ┆ 8.7675e18   ┆ 11532969266 ┆ BasicChecki ┆ 17668946058 ┆ Rejected    │\n",
       "│ data/SampleH ┆ 929652573   ┆             ┆ 158119890   ┆ ng          ┆ 322271247   ┆             │\n",
       "│ DS.json      ┆             ┆             ┆             ┆             ┆             ┆             │\n",
       "└──────────────┴─────────────┴─────────────┴─────────────┴─────────────┴─────────────┴─────────────┘"
      ]
     },
     "execution_count": 8,
     "metadata": {},
     "output_type": "execute_result"
    }
   ],
   "source": [
    "anon = DataAnonymization(\n",
    "    hds_folder=\"../../../../data/\",\n",
    "    mask_ih_names=False,\n",
    "    mask_outcome_values=False,\n",
    "    mask_context_key_values=False,\n",
    "    mask_context_key_names=False,\n",
    ")\n",
    "anon.process()\n"
   ]
  },
  {
   "attachments": {},
   "cell_type": "markdown",
   "metadata": {},
   "source": [
    "The configs can also be written and read as such:"
   ]
  },
  {
   "cell_type": "code",
   "execution_count": 9,
   "metadata": {
    "execution": {
     "iopub.execute_input": "2023-10-02T08:24:46.169396Z",
     "iopub.status.busy": "2023-10-02T08:24:46.169054Z",
     "iopub.status.idle": "2023-10-02T08:24:46.172631Z",
     "shell.execute_reply": "2023-10-02T08:24:46.171470Z"
    }
   },
   "outputs": [],
   "source": [
    "anon.config.save_to_config_file('config.json')"
   ]
  },
  {
   "cell_type": "code",
   "execution_count": 10,
   "metadata": {
    "execution": {
     "iopub.execute_input": "2023-10-02T08:24:46.174650Z",
     "iopub.status.busy": "2023-10-02T08:24:46.174308Z",
     "iopub.status.idle": "2023-10-02T08:24:46.183625Z",
     "shell.execute_reply": "2023-10-02T08:24:46.183186Z"
    }
   },
   "outputs": [
    {
     "data": {
      "text/html": [
       "<div><style>\n",
       ".dataframe > thead > tr > th,\n",
       ".dataframe > tbody > tr > td {\n",
       "  text-align: right;\n",
       "  white-space: pre-wrap;\n",
       "}\n",
       "</style>\n",
       "<small>shape: (7, 7)</small><table border=\"1\" class=\"dataframe\"><thead><tr><th>filename</th><th>PREDICTOR_1</th><th>PREDICTOR_2</th><th>PREDICTOR_3</th><th>Context_Name</th><th>IH_Web_Inbound_Accepted_pxLastGroupID</th><th>Decision_Outcome</th></tr><tr><td>str</td><td>str</td><td>f64</td><td>str</td><td>str</td><td>str</td><td>str</td></tr></thead><tbody><tr><td>&quot;../../../../da…</td><td>&quot;10459623694942…</td><td>1.2927e19</td><td>&quot;78918051986669…</td><td>&quot;FirstMortgage3…</td><td>&quot;12889841344540…</td><td>&quot;Rejected&quot;</td></tr><tr><td>&quot;../../../../da…</td><td>&quot;13799959378780…</td><td>1.4856e19</td><td>&quot;13729024578159…</td><td>&quot;FirstMortgage3…</td><td>&quot;97284147443536…</td><td>&quot;Accepted&quot;</td></tr><tr><td>&quot;../../../../da…</td><td>&quot;13034873962582…</td><td>5.6458e17</td><td>&quot;14007428750112…</td><td>&quot;MoneyMarketSav…</td><td>&quot;12889841344540…</td><td>&quot;Rejected&quot;</td></tr><tr><td>&quot;../../../../da…</td><td>&quot;10157614692407…</td><td>4.0723e18</td><td>&quot;13729024578159…</td><td>&quot;BasicChecking&quot;</td><td>&quot;12889841344540…</td><td>&quot;Rejected&quot;</td></tr><tr><td>&quot;../../../../da…</td><td>&quot;84334439827201…</td><td>1.4677e19</td><td>&quot;78918051986669…</td><td>&quot;BasicChecking&quot;</td><td>&quot;20534554823434…</td><td>&quot;Accepted&quot;</td></tr><tr><td>&quot;../../../../da…</td><td>&quot;13245149420483…</td><td>1.6330e19</td><td>&quot;14007428750112…</td><td>&quot;UPlusFinPerson…</td><td>null</td><td>&quot;Rejected&quot;</td></tr><tr><td>&quot;../../../../da…</td><td>&quot;32592130378790…</td><td>8.7675e18</td><td>&quot;14007428750112…</td><td>&quot;BasicChecking&quot;</td><td>&quot;20534554823434…</td><td>&quot;Rejected&quot;</td></tr></tbody></table></div>"
      ],
      "text/plain": [
       "shape: (7, 7)\n",
       "┌──────────────┬─────────────┬─────────────┬─────────────┬─────────────┬─────────────┬─────────────┐\n",
       "│ filename     ┆ PREDICTOR_1 ┆ PREDICTOR_2 ┆ PREDICTOR_3 ┆ Context_Nam ┆ IH_Web_Inbo ┆ Decision_Ou │\n",
       "│ ---          ┆ ---         ┆ ---         ┆ ---         ┆ e           ┆ und_Accepte ┆ tcome       │\n",
       "│ str          ┆ str         ┆ f64         ┆ str         ┆ ---         ┆ d_pxLastGr… ┆ ---         │\n",
       "│              ┆             ┆             ┆             ┆ str         ┆ ---         ┆ str         │\n",
       "│              ┆             ┆             ┆             ┆             ┆ str         ┆             │\n",
       "╞══════════════╪═════════════╪═════════════╪═════════════╪═════════════╪═════════════╪═════════════╡\n",
       "│ ../../../../ ┆ 10459623694 ┆ 1.2927e19   ┆ 78918051986 ┆ FirstMortga ┆ 12889841344 ┆ Rejected    │\n",
       "│ data/SampleH ┆ 942560531   ┆             ┆ 6695598     ┆ ge30yr      ┆ 54098148    ┆             │\n",
       "│ DS.json      ┆             ┆             ┆             ┆             ┆             ┆             │\n",
       "│ ../../../../ ┆ 13799959378 ┆ 1.4856e19   ┆ 13729024578 ┆ FirstMortga ┆ 97284147443 ┆ Accepted    │\n",
       "│ data/SampleH ┆ 78047552    ┆             ┆ 159463341   ┆ ge30yr      ┆ 53651430    ┆             │\n",
       "│ DS.json      ┆             ┆             ┆             ┆             ┆             ┆             │\n",
       "│ ../../../../ ┆ 13034873962 ┆ 5.6458e17   ┆ 14007428750 ┆ MoneyMarket ┆ 12889841344 ┆ Rejected    │\n",
       "│ data/SampleH ┆ 582649815   ┆             ┆ 112174740   ┆ SavingsAcco ┆ 54098148    ┆             │\n",
       "│ DS.json      ┆             ┆             ┆             ┆ unt         ┆             ┆             │\n",
       "│ ../../../../ ┆ 10157614692 ┆ 4.0723e18   ┆ 13729024578 ┆ BasicChecki ┆ 12889841344 ┆ Rejected    │\n",
       "│ data/SampleH ┆ 407492660   ┆             ┆ 159463341   ┆ ng          ┆ 54098148    ┆             │\n",
       "│ DS.json      ┆             ┆             ┆             ┆             ┆             ┆             │\n",
       "│ ../../../../ ┆ 84334439827 ┆ 1.4677e19   ┆ 78918051986 ┆ BasicChecki ┆ 20534554823 ┆ Accepted    │\n",
       "│ data/SampleH ┆ 20114922    ┆             ┆ 6695598     ┆ ng          ┆ 43472122    ┆             │\n",
       "│ DS.json      ┆             ┆             ┆             ┆             ┆             ┆             │\n",
       "│ ../../../../ ┆ 13245149420 ┆ 1.6330e19   ┆ 14007428750 ┆ UPlusFinPer ┆ null        ┆ Rejected    │\n",
       "│ data/SampleH ┆ 483835393   ┆             ┆ 112174740   ┆ sonal       ┆             ┆             │\n",
       "│ DS.json      ┆             ┆             ┆             ┆             ┆             ┆             │\n",
       "│ ../../../../ ┆ 32592130378 ┆ 8.7675e18   ┆ 14007428750 ┆ BasicChecki ┆ 20534554823 ┆ Rejected    │\n",
       "│ data/SampleH ┆ 79019724    ┆             ┆ 112174740   ┆ ng          ┆ 43472122    ┆             │\n",
       "│ DS.json      ┆             ┆             ┆             ┆             ┆             ┆             │\n",
       "└──────────────┴─────────────┴─────────────┴─────────────┴─────────────┴─────────────┴─────────────┘"
      ]
     },
     "execution_count": 10,
     "metadata": {},
     "output_type": "execute_result"
    }
   ],
   "source": [
    "anon = DataAnonymization(config=Config(config_file='config.json'))\n",
    "anon.process()"
   ]
  },
  {
   "attachments": {},
   "cell_type": "markdown",
   "metadata": {},
   "source": [
    "## Exporting\n",
    "Two functions export:\n",
    "- `create_mapping_file()` writes the mapping file of the predictor names\n",
    "- `write_to_output()` writes the processed dataframe to disk\n",
    "\n",
    "Write to output accepts the following extensions: `[\"ndjson\", \"parquet\", \"arrow\", \"csv\"]`"
   ]
  },
  {
   "cell_type": "code",
   "execution_count": 11,
   "metadata": {
    "execution": {
     "iopub.execute_input": "2023-10-02T08:24:46.185907Z",
     "iopub.status.busy": "2023-10-02T08:24:46.185374Z",
     "iopub.status.idle": "2023-10-02T08:24:46.189046Z",
     "shell.execute_reply": "2023-10-02T08:24:46.188607Z"
    }
   },
   "outputs": [
    {
     "name": "stdout",
     "output_type": "stream",
     "text": [
      "filename=filename\n",
      "Customer_City=PREDICTOR_1\n",
      "Customer_CLV=PREDICTOR_2\n",
      "Customer_MaritalStatus=PREDICTOR_3\n",
      "Context_Name=Context_Name\n",
      "IH_Web_Inbound_Accepted_pxLastGroupID=IH_Web_Inbound_Accepted_pxLastGroupID\n",
      "Decision_Outcome=Decision_Outcome\n",
      "\n"
     ]
    }
   ],
   "source": [
    "anon.create_mapping_file()\n",
    "with open('mapping.map') as f:\n",
    "    print(f.read())"
   ]
  },
  {
   "cell_type": "code",
   "execution_count": 12,
   "metadata": {
    "execution": {
     "iopub.execute_input": "2023-10-02T08:24:46.191085Z",
     "iopub.status.busy": "2023-10-02T08:24:46.190728Z",
     "iopub.status.idle": "2023-10-02T08:24:46.194453Z",
     "shell.execute_reply": "2023-10-02T08:24:46.194009Z"
    }
   },
   "outputs": [],
   "source": [
    "anon.write_to_output(ext='arrow')"
   ]
  },
  {
   "cell_type": "code",
   "execution_count": 13,
   "metadata": {
    "execution": {
     "iopub.execute_input": "2023-10-02T08:24:46.196556Z",
     "iopub.status.busy": "2023-10-02T08:24:46.196212Z",
     "iopub.status.idle": "2023-10-02T08:24:46.200886Z",
     "shell.execute_reply": "2023-10-02T08:24:46.200449Z"
    }
   },
   "outputs": [
    {
     "data": {
      "text/html": [
       "<div><style>\n",
       ".dataframe > thead > tr > th,\n",
       ".dataframe > tbody > tr > td {\n",
       "  text-align: right;\n",
       "  white-space: pre-wrap;\n",
       "}\n",
       "</style>\n",
       "<small>shape: (7, 6)</small><table border=\"1\" class=\"dataframe\"><thead><tr><th>PREDICTOR_1</th><th>PREDICTOR_2</th><th>PREDICTOR_3</th><th>Context_Name</th><th>IH_Web_Inbound_Accepted_pxLastGroupID</th><th>Decision_Outcome</th></tr><tr><td>str</td><td>f64</td><td>str</td><td>str</td><td>str</td><td>str</td></tr></thead><tbody><tr><td>&quot;25324143153403…</td><td>1.2927e19</td><td>&quot;17010423473892…</td><td>&quot;FirstMortgage3…</td><td>&quot;11841913134983…</td><td>&quot;Rejected&quot;</td></tr><tr><td>&quot;59140076077456…</td><td>1.4856e19</td><td>&quot;62536342548477…</td><td>&quot;FirstMortgage3…</td><td>&quot;15335398401203…</td><td>&quot;Accepted&quot;</td></tr><tr><td>&quot;14919350980205…</td><td>5.6458e17</td><td>&quot;85529933933685…</td><td>&quot;MoneyMarketSav…</td><td>&quot;11841913134983…</td><td>&quot;Rejected&quot;</td></tr><tr><td>&quot;17743825613434…</td><td>4.0723e18</td><td>&quot;62536342548477…</td><td>&quot;BasicChecking&quot;</td><td>&quot;11841913134983…</td><td>&quot;Rejected&quot;</td></tr><tr><td>&quot;13374402195380…</td><td>1.4677e19</td><td>&quot;17010423473892…</td><td>&quot;BasicChecking&quot;</td><td>&quot;33681915992815…</td><td>&quot;Accepted&quot;</td></tr><tr><td>&quot;15343704294132…</td><td>1.6330e19</td><td>&quot;85529933933685…</td><td>&quot;UPlusFinPerson…</td><td>null</td><td>&quot;Rejected&quot;</td></tr><tr><td>&quot;10811742484641…</td><td>8.7675e18</td><td>&quot;85529933933685…</td><td>&quot;BasicChecking&quot;</td><td>&quot;33681915992815…</td><td>&quot;Rejected&quot;</td></tr></tbody></table></div>"
      ],
      "text/plain": [
       "shape: (7, 6)\n",
       "┌────────────────┬─────────────┬────────────────┬────────────────┬────────────────┬────────────────┐\n",
       "│ PREDICTOR_1    ┆ PREDICTOR_2 ┆ PREDICTOR_3    ┆ Context_Name   ┆ IH_Web_Inbound ┆ Decision_Outco │\n",
       "│ ---            ┆ ---         ┆ ---            ┆ ---            ┆ _Accepted_pxLa ┆ me             │\n",
       "│ str            ┆ f64         ┆ str            ┆ str            ┆ stGr…          ┆ ---            │\n",
       "│                ┆             ┆                ┆                ┆ ---            ┆ str            │\n",
       "│                ┆             ┆                ┆                ┆ str            ┆                │\n",
       "╞════════════════╪═════════════╪════════════════╪════════════════╪════════════════╪════════════════╡\n",
       "│ 25324143153403 ┆ 1.2927e19   ┆ 17010423473892 ┆ FirstMortgage3 ┆ 11841913134983 ┆ Rejected       │\n",
       "│ 77422          ┆             ┆ 647075         ┆ 0yr            ┆ 165899         ┆                │\n",
       "│ 59140076077456 ┆ 1.4856e19   ┆ 62536342548477 ┆ FirstMortgage3 ┆ 15335398401203 ┆ Accepted       │\n",
       "│ 01564          ┆             ┆ 39297          ┆ 0yr            ┆ 219476         ┆                │\n",
       "│ 14919350980205 ┆ 5.6458e17   ┆ 85529933933685 ┆ MoneyMarketSav ┆ 11841913134983 ┆ Rejected       │\n",
       "│ 960586         ┆             ┆ 80471          ┆ ingsAccount    ┆ 165899         ┆                │\n",
       "│ 17743825613434 ┆ 4.0723e18   ┆ 62536342548477 ┆ BasicChecking  ┆ 11841913134983 ┆ Rejected       │\n",
       "│ 824820         ┆             ┆ 39297          ┆                ┆ 165899         ┆                │\n",
       "│ 13374402195380 ┆ 1.4677e19   ┆ 17010423473892 ┆ BasicChecking  ┆ 33681915992815 ┆ Accepted       │\n",
       "│ 009476         ┆             ┆ 647075         ┆                ┆ 04144          ┆                │\n",
       "│ 15343704294132 ┆ 1.6330e19   ┆ 85529933933685 ┆ UPlusFinPerson ┆ null           ┆ Rejected       │\n",
       "│ 450547         ┆             ┆ 80471          ┆ al             ┆                ┆                │\n",
       "│ 10811742484641 ┆ 8.7675e18   ┆ 85529933933685 ┆ BasicChecking  ┆ 33681915992815 ┆ Rejected       │\n",
       "│ 419021         ┆             ┆ 80471          ┆                ┆ 04144          ┆                │\n",
       "└────────────────┴─────────────┴────────────────┴────────────────┴────────────────┴────────────────┘"
      ]
     },
     "execution_count": 13,
     "metadata": {},
     "output_type": "execute_result"
    }
   ],
   "source": [
    "pl.read_ipc('output/hds.arrow')"
   ]
  },
  {
   "attachments": {},
   "cell_type": "markdown",
   "metadata": {
    "nbsphinx": "hidden"
   },
   "source": [
    "## Advanced: Hash fuctions\n",
    "\n",
    "By default, we use [the same hashing algorithm Polars](https://pola-rs.github.io/polars/py-polars/html/reference/expressions/api/polars.Expr.hash.html#polars.Expr.hash) uses: [xxhash](https://github.com/Cyan4973/xxHash), as implemented [here](https://github.com/pola-rs/polars/blob/3f287f370b3c388ed2f3f218b2c096382548136f/polars/polars-core/src/vector_hasher.rs#L266). xxhash is fast to compute, and you can check its performance in collision, dispersion and randomness [here](https://github.com/Cyan4973/xxHash/tree/dev/tests). \n",
    "\n",
    "xxhash accepts four distinct seeds, but by default we set the seeds to `0`. It is possible to set the `seed` argument of the `process()` function to `'random'`, which will set all four seeds to a random integer between `0` and `1000000000`. Alternatively, it is possible to supply the four seeds manually with arguments `seed`, `seed_1`, `seed_2` and `seed_3`. \n",
    "\n",
    "If the xxhash with (random) seed(s) is not deemed sufficiently secure, it is possible to use your own hashing algorithm.\n",
    "\n",
    "Note that since we're now running python code and not native Polars code anymore, this will be _significantly_ slower. Nonetheless, it is possible.\n",
    "\n",
    "Just as an example - this is how one would use sha3_256:"
   ]
  },
  {
   "cell_type": "code",
   "execution_count": 14,
   "metadata": {
    "execution": {
     "iopub.execute_input": "2023-10-02T08:24:46.202977Z",
     "iopub.status.busy": "2023-10-02T08:24:46.202626Z",
     "iopub.status.idle": "2023-10-02T08:24:46.588983Z",
     "shell.execute_reply": "2023-10-02T08:24:46.587826Z"
    },
    "nbsphinx": "hidden"
   },
   "outputs": [
    {
     "ename": "ComputeError",
     "evalue": "AttributeError: 'int' object has no attribute 'encode'",
     "output_type": "error",
     "traceback": [
      "\u001b[0;31m---------------------------------------------------------------------------\u001b[0m",
      "\u001b[0;31mComputeError\u001b[0m                              Traceback (most recent call last)",
      "Cell \u001b[0;32mIn[14], line 3\u001b[0m\n\u001b[1;32m      1\u001b[0m \u001b[38;5;28;01mfrom\u001b[39;00m \u001b[38;5;21;01mhashlib\u001b[39;00m \u001b[38;5;28;01mimport\u001b[39;00m sha3_256\n\u001b[0;32m----> 3\u001b[0m \u001b[43manon\u001b[49m\u001b[38;5;241;43m.\u001b[39;49m\u001b[43mprocess\u001b[49m\u001b[43m(\u001b[49m\u001b[43malgorithm\u001b[49m\u001b[38;5;241;43m=\u001b[39;49m\u001b[38;5;28;43;01mlambda\u001b[39;49;00m\u001b[43m \u001b[49m\u001b[43mx\u001b[49m\u001b[43m:\u001b[49m\u001b[43m \u001b[49m\u001b[43msha3_256\u001b[49m\u001b[43m(\u001b[49m\u001b[43mx\u001b[49m\u001b[38;5;241;43m.\u001b[39;49m\u001b[43mencode\u001b[49m\u001b[43m(\u001b[49m\u001b[43m)\u001b[49m\u001b[43m)\u001b[49m\u001b[38;5;241;43m.\u001b[39;49m\u001b[43mhexdigest\u001b[49m\u001b[43m(\u001b[49m\u001b[43m)\u001b[49m\u001b[43m)\u001b[49m\n",
      "File \u001b[0;32m~/work/pega-datascientist-tools/pega-datascientist-tools/python/docs/source/articles/../../../pdstools/utils/hds_utils.py:516\u001b[0m, in \u001b[0;36mDataAnonymization.process\u001b[0;34m(self, strategy, **kwargs)\u001b[0m\n\u001b[1;32m    514\u001b[0m df \u001b[38;5;241m=\u001b[39m df\u001b[38;5;241m.\u001b[39mselect(\u001b[38;5;28mself\u001b[39m\u001b[38;5;241m.\u001b[39mcolumn_mapping\u001b[38;5;241m.\u001b[39mkeys())\u001b[38;5;241m.\u001b[39mrename(\u001b[38;5;28mself\u001b[39m\u001b[38;5;241m.\u001b[39mcolumn_mapping)\n\u001b[1;32m    515\u001b[0m \u001b[38;5;28;01mif\u001b[39;00m strategy \u001b[38;5;241m==\u001b[39m \u001b[38;5;124m\"\u001b[39m\u001b[38;5;124meager\u001b[39m\u001b[38;5;124m\"\u001b[39m:\n\u001b[0;32m--> 516\u001b[0m     \u001b[38;5;28;01mreturn\u001b[39;00m \u001b[43mdf\u001b[49m\u001b[38;5;241;43m.\u001b[39;49m\u001b[43mcollect\u001b[49m\u001b[43m(\u001b[49m\u001b[43m)\u001b[49m\n\u001b[1;32m    517\u001b[0m \u001b[38;5;28;01mreturn\u001b[39;00m df\n",
      "File \u001b[0;32m/opt/hostedtoolcache/Python/3.11.5/x64/lib/python3.11/site-packages/polars/utils/deprecation.py:95\u001b[0m, in \u001b[0;36mdeprecate_renamed_parameter.<locals>.decorate.<locals>.wrapper\u001b[0;34m(*args, **kwargs)\u001b[0m\n\u001b[1;32m     90\u001b[0m \u001b[38;5;129m@wraps\u001b[39m(function)\n\u001b[1;32m     91\u001b[0m \u001b[38;5;28;01mdef\u001b[39;00m \u001b[38;5;21mwrapper\u001b[39m(\u001b[38;5;241m*\u001b[39margs: P\u001b[38;5;241m.\u001b[39margs, \u001b[38;5;241m*\u001b[39m\u001b[38;5;241m*\u001b[39mkwargs: P\u001b[38;5;241m.\u001b[39mkwargs) \u001b[38;5;241m-\u001b[39m\u001b[38;5;241m>\u001b[39m T:\n\u001b[1;32m     92\u001b[0m     _rename_keyword_argument(\n\u001b[1;32m     93\u001b[0m         old_name, new_name, kwargs, function\u001b[38;5;241m.\u001b[39m\u001b[38;5;18m__name__\u001b[39m, version\n\u001b[1;32m     94\u001b[0m     )\n\u001b[0;32m---> 95\u001b[0m     \u001b[38;5;28;01mreturn\u001b[39;00m \u001b[43mfunction\u001b[49m\u001b[43m(\u001b[49m\u001b[38;5;241;43m*\u001b[39;49m\u001b[43margs\u001b[49m\u001b[43m,\u001b[49m\u001b[43m \u001b[49m\u001b[38;5;241;43m*\u001b[39;49m\u001b[38;5;241;43m*\u001b[39;49m\u001b[43mkwargs\u001b[49m\u001b[43m)\u001b[49m\n",
      "File \u001b[0;32m/opt/hostedtoolcache/Python/3.11.5/x64/lib/python3.11/site-packages/polars/lazyframe/frame.py:1711\u001b[0m, in \u001b[0;36mLazyFrame.collect\u001b[0;34m(self, type_coercion, predicate_pushdown, projection_pushdown, simplify_expression, no_optimization, slice_pushdown, comm_subplan_elim, comm_subexpr_elim, streaming, **kwargs)\u001b[0m\n\u001b[1;32m   1698\u001b[0m     comm_subplan_elim \u001b[38;5;241m=\u001b[39m \u001b[38;5;28;01mFalse\u001b[39;00m\n\u001b[1;32m   1700\u001b[0m ldf \u001b[38;5;241m=\u001b[39m \u001b[38;5;28mself\u001b[39m\u001b[38;5;241m.\u001b[39m_ldf\u001b[38;5;241m.\u001b[39moptimization_toggle(\n\u001b[1;32m   1701\u001b[0m     type_coercion,\n\u001b[1;32m   1702\u001b[0m     predicate_pushdown,\n\u001b[0;32m   (...)\u001b[0m\n\u001b[1;32m   1709\u001b[0m     eager,\n\u001b[1;32m   1710\u001b[0m )\n\u001b[0;32m-> 1711\u001b[0m \u001b[38;5;28;01mreturn\u001b[39;00m wrap_df(ldf\u001b[38;5;241m.\u001b[39mcollect())\n",
      "\u001b[0;31mComputeError\u001b[0m: AttributeError: 'int' object has no attribute 'encode'"
     ]
    }
   ],
   "source": [
    "from hashlib import sha3_256\n",
    "\n",
    "anon.process(algorithm=lambda x: sha3_256(x.encode()).hexdigest())"
   ]
  }
 ],
 "metadata": {
  "kernelspec": {
   "display_name": "Python 3",
   "language": "python",
   "name": "python3"
  },
  "language_info": {
   "codemirror_mode": {
    "name": "ipython",
    "version": 3
   },
   "file_extension": ".py",
   "mimetype": "text/x-python",
   "name": "python",
   "nbconvert_exporter": "python",
   "pygments_lexer": "ipython3",
   "version": "3.11.5"
  },
  "vscode": {
   "interpreter": {
    "hash": "aee8b7b246df8f9039afb4144a1f6fd8d2ca17a180786b69acc140d282b71a49"
   }
  }
 },
 "nbformat": 4,
 "nbformat_minor": 2
}
