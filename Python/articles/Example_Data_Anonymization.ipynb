{
 "cells": [
  {
   "attachments": {},
   "cell_type": "markdown",
   "metadata": {},
   "source": [
    "# Data Anonymization\n",
    "\n",
    "In Pega CDH 8.5 and up, it's now possible to record the historical data as seen by the Adaptive Models. See [this academy challenge](https://academy.pega.com/challenge/exporting-historical-data/v4) for reference. This historical data can be further used to experiment with offline models, but also to fine-tune the OOTB Gradient Boosting model. However, sharing this information with Pega can be sensitive as it contains raw predictor data. \n",
    "\n",
    "To this end, we provide a simple and transparent script to fully anonimize this dataset.\n",
    "\n",
    "The DataAnonymization script is now part of pdstools, and you can import it directly as such."
   ]
  },
  {
   "cell_type": "code",
   "execution_count": 1,
   "metadata": {
    "execution": {
     "iopub.execute_input": "2023-12-15T16:58:18.801424Z",
     "iopub.status.busy": "2023-12-15T16:58:18.801264Z",
     "iopub.status.idle": "2023-12-15T16:58:18.870626Z",
     "shell.execute_reply": "2023-12-15T16:58:18.870137Z"
    },
    "nbsphinx": "hidden"
   },
   "outputs": [],
   "source": [
    "# These lines are only for rendering in the docs, and are hidden through Jupyter tags\n",
    "# Do not run if you're running the notebook seperately\n",
    "\n",
    "import os  \n",
    "import sys\n",
    "import plotly.io as pio\n",
    "pio.renderers.default = \"notebook_connected\"\n",
    "\n",
    "sys.path.append(\"../../../\")\n",
    "sys.path.append('../../python')"
   ]
  },
  {
   "cell_type": "code",
   "execution_count": 2,
   "metadata": {
    "execution": {
     "iopub.execute_input": "2023-12-15T16:58:18.872900Z",
     "iopub.status.busy": "2023-12-15T16:58:18.872520Z",
     "iopub.status.idle": "2023-12-15T16:58:19.849160Z",
     "shell.execute_reply": "2023-12-15T16:58:19.848657Z"
    }
   },
   "outputs": [],
   "source": [
    "from pdstools import ADMDatamart\n",
    "from pdstools import Config, DataAnonymization\n",
    "import polars as pl"
   ]
  },
  {
   "attachments": {},
   "cell_type": "markdown",
   "metadata": {},
   "source": [
    "## Input data\n",
    "\n",
    "To demonstrate this process, we're going to anonymise this toy example dataframe:"
   ]
  },
  {
   "cell_type": "code",
   "execution_count": 3,
   "metadata": {
    "execution": {
     "iopub.execute_input": "2023-12-15T16:58:19.851694Z",
     "iopub.status.busy": "2023-12-15T16:58:19.851280Z",
     "iopub.status.idle": "2023-12-15T16:58:19.859971Z",
     "shell.execute_reply": "2023-12-15T16:58:19.859419Z"
    }
   },
   "outputs": [
    {
     "data": {
      "text/html": [
       "<div><style>\n",
       ".dataframe > thead > tr > th,\n",
       ".dataframe > tbody > tr > td {\n",
       "  text-align: right;\n",
       "  white-space: pre-wrap;\n",
       "}\n",
       "</style>\n",
       "<small>shape: (7, 6)</small><table border=\"1\" class=\"dataframe\"><thead><tr><th>Context_Name</th><th>Customer_MaritalStatus</th><th>Customer_CLV</th><th>Customer_City</th><th>IH_Web_Inbound_Accepted_pxLastGroupID</th><th>Decision_Outcome</th></tr><tr><td>str</td><td>str</td><td>i64</td><td>str</td><td>str</td><td>str</td></tr></thead><tbody><tr><td>&quot;FirstMortgage3…</td><td>&quot;Married&quot;</td><td>1460</td><td>&quot;Port Raoul&quot;</td><td>&quot;Account&quot;</td><td>&quot;Rejected&quot;</td></tr><tr><td>&quot;FirstMortgage3…</td><td>&quot;Unknown&quot;</td><td>669</td><td>&quot;Laurianneshire…</td><td>&quot;AutoLoans&quot;</td><td>&quot;Accepted&quot;</td></tr><tr><td>&quot;MoneyMarketSav…</td><td>&quot;No Resp+&quot;</td><td>1174</td><td>&quot;Jacobshaven&quot;</td><td>&quot;Account&quot;</td><td>&quot;Rejected&quot;</td></tr><tr><td>&quot;BasicChecking&quot;</td><td>&quot;Unknown&quot;</td><td>1476</td><td>&quot;Lindton&quot;</td><td>&quot;Account&quot;</td><td>&quot;Rejected&quot;</td></tr><tr><td>&quot;BasicChecking&quot;</td><td>&quot;Married&quot;</td><td>1211</td><td>&quot;South Jimmiesh…</td><td>&quot;DepositAccount…</td><td>&quot;Accepted&quot;</td></tr><tr><td>&quot;UPlusFinPerson…</td><td>&quot;No Resp+&quot;</td><td>533</td><td>&quot;Bergeville&quot;</td><td>null</td><td>&quot;Rejected&quot;</td></tr><tr><td>&quot;BasicChecking&quot;</td><td>&quot;No Resp+&quot;</td><td>555</td><td>&quot;Willyville&quot;</td><td>&quot;DepositAccount…</td><td>&quot;Rejected&quot;</td></tr></tbody></table></div>"
      ],
      "text/plain": [
       "shape: (7, 6)\n",
       "┌────────────────┬────────────────┬──────────────┬────────────────┬────────────────┬───────────────┐\n",
       "│ Context_Name   ┆ Customer_Marit ┆ Customer_CLV ┆ Customer_City  ┆ IH_Web_Inbound ┆ Decision_Outc │\n",
       "│ ---            ┆ alStatus       ┆ ---          ┆ ---            ┆ _Accepted_pxLa ┆ ome           │\n",
       "│ str            ┆ ---            ┆ i64          ┆ str            ┆ stGr…          ┆ ---           │\n",
       "│                ┆ str            ┆              ┆                ┆ ---            ┆ str           │\n",
       "│                ┆                ┆              ┆                ┆ str            ┆               │\n",
       "╞════════════════╪════════════════╪══════════════╪════════════════╪════════════════╪═══════════════╡\n",
       "│ FirstMortgage3 ┆ Married        ┆ 1460         ┆ Port Raoul     ┆ Account        ┆ Rejected      │\n",
       "│ 0yr            ┆                ┆              ┆                ┆                ┆               │\n",
       "│ FirstMortgage3 ┆ Unknown        ┆ 669          ┆ Laurianneshire ┆ AutoLoans      ┆ Accepted      │\n",
       "│ 0yr            ┆                ┆              ┆                ┆                ┆               │\n",
       "│ MoneyMarketSav ┆ No Resp+       ┆ 1174         ┆ Jacobshaven    ┆ Account        ┆ Rejected      │\n",
       "│ ingsAccount    ┆                ┆              ┆                ┆                ┆               │\n",
       "│ BasicChecking  ┆ Unknown        ┆ 1476         ┆ Lindton        ┆ Account        ┆ Rejected      │\n",
       "│ BasicChecking  ┆ Married        ┆ 1211         ┆ South          ┆ DepositAccount ┆ Accepted      │\n",
       "│                ┆                ┆              ┆ Jimmieshire    ┆ s              ┆               │\n",
       "│ UPlusFinPerson ┆ No Resp+       ┆ 533          ┆ Bergeville     ┆ null           ┆ Rejected      │\n",
       "│ al             ┆                ┆              ┆                ┆                ┆               │\n",
       "│ BasicChecking  ┆ No Resp+       ┆ 555          ┆ Willyville     ┆ DepositAccount ┆ Rejected      │\n",
       "│                ┆                ┆              ┆                ┆ s              ┆               │\n",
       "└────────────────┴────────────────┴──────────────┴────────────────┴────────────────┴───────────────┘"
      ]
     },
     "execution_count": 3,
     "metadata": {},
     "output_type": "execute_result"
    }
   ],
   "source": [
    "pl.read_ndjson('../../../../data/SampleHDS.json')"
   ]
  },
  {
   "attachments": {},
   "cell_type": "markdown",
   "metadata": {},
   "source": [
    "As you can see, this dataset consists of regular predictors, IH predictors, context keys and the outcome column. Additionally, some columns are numeric, others are strings. Let's first initialize the DataAnonymization class."
   ]
  },
  {
   "cell_type": "code",
   "execution_count": 4,
   "metadata": {
    "execution": {
     "iopub.execute_input": "2023-12-15T16:58:19.862160Z",
     "iopub.status.busy": "2023-12-15T16:58:19.861783Z",
     "iopub.status.idle": "2023-12-15T16:58:19.870228Z",
     "shell.execute_reply": "2023-12-15T16:58:19.869809Z"
    }
   },
   "outputs": [],
   "source": [
    "anon = DataAnonymization(hds_folder='../../../../data/')"
   ]
  },
  {
   "attachments": {},
   "cell_type": "markdown",
   "metadata": {},
   "source": [
    "By default, the class applies a set of anonymisation techniques:\n",
    "- Column names are remapped to a non-descriptive name\n",
    "- Categorical values are hashed with a random seed\n",
    "- Numerical values are normalized between 0 and 1\n",
    "- Outcomes are mapped to a binary outcome.\n",
    "\n",
    "To apply these techniques, simply call `.process()`:"
   ]
  },
  {
   "cell_type": "code",
   "execution_count": 5,
   "metadata": {
    "execution": {
     "iopub.execute_input": "2023-12-15T16:58:19.872330Z",
     "iopub.status.busy": "2023-12-15T16:58:19.871991Z",
     "iopub.status.idle": "2023-12-15T16:58:19.878251Z",
     "shell.execute_reply": "2023-12-15T16:58:19.877797Z"
    }
   },
   "outputs": [
    {
     "data": {
      "text/html": [
       "<div><style>\n",
       ".dataframe > thead > tr > th,\n",
       ".dataframe > tbody > tr > td {\n",
       "  text-align: right;\n",
       "  white-space: pre-wrap;\n",
       "}\n",
       "</style>\n",
       "<small>shape: (7, 7)</small><table border=\"1\" class=\"dataframe\"><thead><tr><th>PREDICTOR_0</th><th>filename</th><th>PREDICTOR_2</th><th>PREDICTOR_3</th><th>Context_Name</th><th>IH_PREDICTOR_0</th><th>Decision_Outcome</th></tr><tr><td>f64</td><td>str</td><td>str</td><td>str</td><td>str</td><td>str</td><td>bool</td></tr></thead><tbody><tr><td>1.2927e19</td><td>&quot;../../../../da…</td><td>&quot;26746426152932…</td><td>&quot;54808455846087…</td><td>&quot;63558194502412…</td><td>&quot;41345124289263…</td><td>false</td></tr><tr><td>1.4856e19</td><td>&quot;../../../../da…</td><td>&quot;10047637690341…</td><td>&quot;15038581206643…</td><td>&quot;63558194502412…</td><td>&quot;71776067379681…</td><td>true</td></tr><tr><td>5.6458e17</td><td>&quot;../../../../da…</td><td>&quot;17791865068669…</td><td>&quot;27126376081844…</td><td>&quot;16852096676449…</td><td>&quot;41345124289263…</td><td>false</td></tr><tr><td>4.0723e18</td><td>&quot;../../../../da…</td><td>&quot;10047637690341…</td><td>&quot;16463744014976…</td><td>&quot;13039678450133…</td><td>&quot;41345124289263…</td><td>false</td></tr><tr><td>1.4677e19</td><td>&quot;../../../../da…</td><td>&quot;26746426152932…</td><td>&quot;17426427435181…</td><td>&quot;13039678450133…</td><td>&quot;12849998779981…</td><td>true</td></tr><tr><td>1.6330e19</td><td>&quot;../../../../da…</td><td>&quot;17791865068669…</td><td>&quot;15233036943594…</td><td>&quot;15853117393562…</td><td>null</td><td>false</td></tr><tr><td>8.7675e18</td><td>&quot;../../../../da…</td><td>&quot;17791865068669…</td><td>&quot;98683588696465…</td><td>&quot;13039678450133…</td><td>&quot;12849998779981…</td><td>false</td></tr></tbody></table></div>"
      ],
      "text/plain": [
       "shape: (7, 7)\n",
       "┌─────────────┬──────────────┬─────────────┬─────────────┬─────────────┬─────────────┬─────────────┐\n",
       "│ PREDICTOR_0 ┆ filename     ┆ PREDICTOR_2 ┆ PREDICTOR_3 ┆ Context_Nam ┆ IH_PREDICTO ┆ Decision_Ou │\n",
       "│ ---         ┆ ---          ┆ ---         ┆ ---         ┆ e           ┆ R_0         ┆ tcome       │\n",
       "│ f64         ┆ str          ┆ str         ┆ str         ┆ ---         ┆ ---         ┆ ---         │\n",
       "│             ┆              ┆             ┆             ┆ str         ┆ str         ┆ bool        │\n",
       "╞═════════════╪══════════════╪═════════════╪═════════════╪═════════════╪═════════════╪═════════════╡\n",
       "│ 1.2927e19   ┆ ../../../../ ┆ 26746426152 ┆ 54808455846 ┆ 63558194502 ┆ 41345124289 ┆ false       │\n",
       "│             ┆ data/SampleH ┆ 93250933    ┆ 08713092    ┆ 41284061    ┆ 26306354    ┆             │\n",
       "│             ┆ DS.json      ┆             ┆             ┆             ┆             ┆             │\n",
       "│ 1.4856e19   ┆ ../../../../ ┆ 10047637690 ┆ 15038581206 ┆ 63558194502 ┆ 71776067379 ┆ true        │\n",
       "│             ┆ data/SampleH ┆ 341228888   ┆ 643596396   ┆ 41284061    ┆ 68144322    ┆             │\n",
       "│             ┆ DS.json      ┆             ┆             ┆             ┆             ┆             │\n",
       "│ 5.6458e17   ┆ ../../../../ ┆ 17791865068 ┆ 27126376081 ┆ 16852096676 ┆ 41345124289 ┆ false       │\n",
       "│             ┆ data/SampleH ┆ 669558305   ┆ 84409923    ┆ 449954425   ┆ 26306354    ┆             │\n",
       "│             ┆ DS.json      ┆             ┆             ┆             ┆             ┆             │\n",
       "│ 4.0723e18   ┆ ../../../../ ┆ 10047637690 ┆ 16463744014 ┆ 13039678450 ┆ 41345124289 ┆ false       │\n",
       "│             ┆ data/SampleH ┆ 341228888   ┆ 976719844   ┆ 133247989   ┆ 26306354    ┆             │\n",
       "│             ┆ DS.json      ┆             ┆             ┆             ┆             ┆             │\n",
       "│ 1.4677e19   ┆ ../../../../ ┆ 26746426152 ┆ 17426427435 ┆ 13039678450 ┆ 12849998779 ┆ true        │\n",
       "│             ┆ data/SampleH ┆ 93250933    ┆ 181421685   ┆ 133247989   ┆ 981406699   ┆             │\n",
       "│             ┆ DS.json      ┆             ┆             ┆             ┆             ┆             │\n",
       "│ 1.6330e19   ┆ ../../../../ ┆ 17791865068 ┆ 15233036943 ┆ 15853117393 ┆ null        ┆ false       │\n",
       "│             ┆ data/SampleH ┆ 669558305   ┆ 594088486   ┆ 562022632   ┆             ┆             │\n",
       "│             ┆ DS.json      ┆             ┆             ┆             ┆             ┆             │\n",
       "│ 8.7675e18   ┆ ../../../../ ┆ 17791865068 ┆ 98683588696 ┆ 13039678450 ┆ 12849998779 ┆ false       │\n",
       "│             ┆ data/SampleH ┆ 669558305   ┆ 46560349    ┆ 133247989   ┆ 981406699   ┆             │\n",
       "│             ┆ DS.json      ┆             ┆             ┆             ┆             ┆             │\n",
       "└─────────────┴──────────────┴─────────────┴─────────────┴─────────────┴─────────────┴─────────────┘"
      ]
     },
     "execution_count": 5,
     "metadata": {},
     "output_type": "execute_result"
    }
   ],
   "source": [
    "anon.process()"
   ]
  },
  {
   "attachments": {},
   "cell_type": "markdown",
   "metadata": {},
   "source": [
    "To trace back the columns to their original names, the class also contains a mapping, which does not have to be provided."
   ]
  },
  {
   "cell_type": "code",
   "execution_count": 6,
   "metadata": {
    "execution": {
     "iopub.execute_input": "2023-12-15T16:58:19.880252Z",
     "iopub.status.busy": "2023-12-15T16:58:19.879946Z",
     "iopub.status.idle": "2023-12-15T16:58:19.883433Z",
     "shell.execute_reply": "2023-12-15T16:58:19.882975Z"
    }
   },
   "outputs": [
    {
     "data": {
      "text/plain": [
       "{'Customer_CLV': 'PREDICTOR_0',\n",
       " 'filename': 'filename',\n",
       " 'Customer_MaritalStatus': 'PREDICTOR_2',\n",
       " 'Customer_City': 'PREDICTOR_3',\n",
       " 'Context_Name': 'Context_Name',\n",
       " 'IH_Web_Inbound_Accepted_pxLastGroupID': 'IH_PREDICTOR_0',\n",
       " 'Decision_Outcome': 'Decision_Outcome'}"
      ]
     },
     "execution_count": 6,
     "metadata": {},
     "output_type": "execute_result"
    }
   ],
   "source": [
    "anon.column_mapping"
   ]
  },
  {
   "attachments": {},
   "cell_type": "markdown",
   "metadata": {},
   "source": [
    "## Configs\n",
    "\n",
    "Each capability can optionally be turned off - see below for the full list of config options, and refer to the API reference for the full description."
   ]
  },
  {
   "cell_type": "code",
   "execution_count": 7,
   "metadata": {
    "execution": {
     "iopub.execute_input": "2023-12-15T16:58:19.885479Z",
     "iopub.status.busy": "2023-12-15T16:58:19.885170Z",
     "iopub.status.idle": "2023-12-15T16:58:19.889145Z",
     "shell.execute_reply": "2023-12-15T16:58:19.888646Z"
    }
   },
   "outputs": [
    {
     "data": {
      "text/plain": [
       "{'config_file': None,\n",
       " 'hds_folder': '.',\n",
       " 'use_datamart': False,\n",
       " 'datamart_folder': 'datamart',\n",
       " 'output_format': 'ndjson',\n",
       " 'output_folder': 'output',\n",
       " 'mapping_file': 'mapping.map',\n",
       " 'mask_predictor_names': True,\n",
       " 'mask_context_key_names': False,\n",
       " 'mask_ih_names': True,\n",
       " 'mask_outcome_name': False,\n",
       " 'mask_predictor_values': True,\n",
       " 'mask_context_key_values': True,\n",
       " 'mask_ih_values': True,\n",
       " 'mask_outcome_values': True,\n",
       " 'context_key_label': 'Context_*',\n",
       " 'ih_label': 'IH_*',\n",
       " 'outcome_column': 'Decision_Outcome',\n",
       " 'positive_outcomes': ['Accepted', 'Clicked'],\n",
       " 'negative_outcomes': ['Rejected', 'Impression'],\n",
       " 'special_predictors': ['Decision_DecisionTime',\n",
       "  'Decision_OutcomeTime',\n",
       "  'Decision_Rank'],\n",
       " 'sample_percentage_schema_inferencing': 0.01}"
      ]
     },
     "execution_count": 7,
     "metadata": {},
     "output_type": "execute_result"
    }
   ],
   "source": [
    "dict(zip(Config.__init__.__code__.co_varnames[1:], Config.__init__.__defaults__))"
   ]
  },
  {
   "attachments": {},
   "cell_type": "markdown",
   "metadata": {},
   "source": [
    "It's easy to change these parameters by just passing the keyword arguments. In the following example, we\n",
    "- Keep the IH predictor names\n",
    "- Keep the outcome values\n",
    "- Keep the context key values\n",
    "- Keep the context key predictor names"
   ]
  },
  {
   "cell_type": "code",
   "execution_count": 8,
   "metadata": {
    "execution": {
     "iopub.execute_input": "2023-12-15T16:58:19.891028Z",
     "iopub.status.busy": "2023-12-15T16:58:19.890862Z",
     "iopub.status.idle": "2023-12-15T16:58:19.900445Z",
     "shell.execute_reply": "2023-12-15T16:58:19.899996Z"
    }
   },
   "outputs": [
    {
     "data": {
      "text/html": [
       "<div><style>\n",
       ".dataframe > thead > tr > th,\n",
       ".dataframe > tbody > tr > td {\n",
       "  text-align: right;\n",
       "  white-space: pre-wrap;\n",
       "}\n",
       "</style>\n",
       "<small>shape: (7, 7)</small><table border=\"1\" class=\"dataframe\"><thead><tr><th>PREDICTOR_0</th><th>filename</th><th>PREDICTOR_2</th><th>PREDICTOR_3</th><th>Context_Name</th><th>IH_Web_Inbound_Accepted_pxLastGroupID</th><th>Decision_Outcome</th></tr><tr><td>f64</td><td>str</td><td>str</td><td>str</td><td>str</td><td>str</td><td>str</td></tr></thead><tbody><tr><td>1.2927e19</td><td>&quot;../../../../da…</td><td>&quot;13177954549326…</td><td>&quot;13027137914491…</td><td>&quot;FirstMortgage3…</td><td>&quot;84883170241311…</td><td>&quot;Rejected&quot;</td></tr><tr><td>1.4856e19</td><td>&quot;../../../../da…</td><td>&quot;14950706021234…</td><td>&quot;44692450310799…</td><td>&quot;FirstMortgage3…</td><td>&quot;12935343828883…</td><td>&quot;Accepted&quot;</td></tr><tr><td>5.6458e17</td><td>&quot;../../../../da…</td><td>&quot;49955515319053…</td><td>&quot;37223898791898…</td><td>&quot;MoneyMarketSav…</td><td>&quot;84883170241311…</td><td>&quot;Rejected&quot;</td></tr><tr><td>4.0723e18</td><td>&quot;../../../../da…</td><td>&quot;14950706021234…</td><td>&quot;91205805172532…</td><td>&quot;BasicChecking&quot;</td><td>&quot;84883170241311…</td><td>&quot;Rejected&quot;</td></tr><tr><td>1.4677e19</td><td>&quot;../../../../da…</td><td>&quot;13177954549326…</td><td>&quot;40299083949176…</td><td>&quot;BasicChecking&quot;</td><td>&quot;50639479409936…</td><td>&quot;Accepted&quot;</td></tr><tr><td>1.6330e19</td><td>&quot;../../../../da…</td><td>&quot;49955515319053…</td><td>&quot;15331789333573…</td><td>&quot;UPlusFinPerson…</td><td>null</td><td>&quot;Rejected&quot;</td></tr><tr><td>8.7675e18</td><td>&quot;../../../../da…</td><td>&quot;49955515319053…</td><td>&quot;12261626134715…</td><td>&quot;BasicChecking&quot;</td><td>&quot;50639479409936…</td><td>&quot;Rejected&quot;</td></tr></tbody></table></div>"
      ],
      "text/plain": [
       "shape: (7, 7)\n",
       "┌─────────────┬──────────────┬─────────────┬─────────────┬─────────────┬─────────────┬─────────────┐\n",
       "│ PREDICTOR_0 ┆ filename     ┆ PREDICTOR_2 ┆ PREDICTOR_3 ┆ Context_Nam ┆ IH_Web_Inbo ┆ Decision_Ou │\n",
       "│ ---         ┆ ---          ┆ ---         ┆ ---         ┆ e           ┆ und_Accepte ┆ tcome       │\n",
       "│ f64         ┆ str          ┆ str         ┆ str         ┆ ---         ┆ d_pxLastGr… ┆ ---         │\n",
       "│             ┆              ┆             ┆             ┆ str         ┆ ---         ┆ str         │\n",
       "│             ┆              ┆             ┆             ┆             ┆ str         ┆             │\n",
       "╞═════════════╪══════════════╪═════════════╪═════════════╪═════════════╪═════════════╪═════════════╡\n",
       "│ 1.2927e19   ┆ ../../../../ ┆ 13177954549 ┆ 13027137914 ┆ FirstMortga ┆ 84883170241 ┆ Rejected    │\n",
       "│             ┆ data/SampleH ┆ 326249802   ┆ 491616454   ┆ ge30yr      ┆ 31192679    ┆             │\n",
       "│             ┆ DS.json      ┆             ┆             ┆             ┆             ┆             │\n",
       "│ 1.4856e19   ┆ ../../../../ ┆ 14950706021 ┆ 44692450310 ┆ FirstMortga ┆ 12935343828 ┆ Accepted    │\n",
       "│             ┆ data/SampleH ┆ 23407493    ┆ 79903620    ┆ ge30yr      ┆ 883336508   ┆             │\n",
       "│             ┆ DS.json      ┆             ┆             ┆             ┆             ┆             │\n",
       "│ 5.6458e17   ┆ ../../../../ ┆ 49955515319 ┆ 37223898791 ┆ MoneyMarket ┆ 84883170241 ┆ Rejected    │\n",
       "│             ┆ data/SampleH ┆ 05399272    ┆ 89888506    ┆ SavingsAcco ┆ 31192679    ┆             │\n",
       "│             ┆ DS.json      ┆             ┆             ┆ unt         ┆             ┆             │\n",
       "│ 4.0723e18   ┆ ../../../../ ┆ 14950706021 ┆ 91205805172 ┆ BasicChecki ┆ 84883170241 ┆ Rejected    │\n",
       "│             ┆ data/SampleH ┆ 23407493    ┆ 53283942    ┆ ng          ┆ 31192679    ┆             │\n",
       "│             ┆ DS.json      ┆             ┆             ┆             ┆             ┆             │\n",
       "│ 1.4677e19   ┆ ../../../../ ┆ 13177954549 ┆ 40299083949 ┆ BasicChecki ┆ 50639479409 ┆ Accepted    │\n",
       "│             ┆ data/SampleH ┆ 326249802   ┆ 17643901    ┆ ng          ┆ 93671777    ┆             │\n",
       "│             ┆ DS.json      ┆             ┆             ┆             ┆             ┆             │\n",
       "│ 1.6330e19   ┆ ../../../../ ┆ 49955515319 ┆ 15331789333 ┆ UPlusFinPer ┆ null        ┆ Rejected    │\n",
       "│             ┆ data/SampleH ┆ 05399272    ┆ 573925532   ┆ sonal       ┆             ┆             │\n",
       "│             ┆ DS.json      ┆             ┆             ┆             ┆             ┆             │\n",
       "│ 8.7675e18   ┆ ../../../../ ┆ 49955515319 ┆ 12261626134 ┆ BasicChecki ┆ 50639479409 ┆ Rejected    │\n",
       "│             ┆ data/SampleH ┆ 05399272    ┆ 715425706   ┆ ng          ┆ 93671777    ┆             │\n",
       "│             ┆ DS.json      ┆             ┆             ┆             ┆             ┆             │\n",
       "└─────────────┴──────────────┴─────────────┴─────────────┴─────────────┴─────────────┴─────────────┘"
      ]
     },
     "execution_count": 8,
     "metadata": {},
     "output_type": "execute_result"
    }
   ],
   "source": [
    "anon = DataAnonymization(\n",
    "    hds_folder=\"../../../../data/\",\n",
    "    mask_ih_names=False,\n",
    "    mask_outcome_values=False,\n",
    "    mask_context_key_values=False,\n",
    "    mask_context_key_names=False,\n",
    ")\n",
    "anon.process()\n"
   ]
  },
  {
   "attachments": {},
   "cell_type": "markdown",
   "metadata": {},
   "source": [
    "The configs can also be written and read as such:"
   ]
  },
  {
   "cell_type": "code",
   "execution_count": 9,
   "metadata": {
    "execution": {
     "iopub.execute_input": "2023-12-15T16:58:19.902337Z",
     "iopub.status.busy": "2023-12-15T16:58:19.902080Z",
     "iopub.status.idle": "2023-12-15T16:58:19.904784Z",
     "shell.execute_reply": "2023-12-15T16:58:19.904348Z"
    }
   },
   "outputs": [],
   "source": [
    "anon.config.save_to_config_file('config.json')"
   ]
  },
  {
   "cell_type": "code",
   "execution_count": 10,
   "metadata": {
    "execution": {
     "iopub.execute_input": "2023-12-15T16:58:19.906702Z",
     "iopub.status.busy": "2023-12-15T16:58:19.906333Z",
     "iopub.status.idle": "2023-12-15T16:58:19.915545Z",
     "shell.execute_reply": "2023-12-15T16:58:19.915113Z"
    }
   },
   "outputs": [
    {
     "data": {
      "text/html": [
       "<div><style>\n",
       ".dataframe > thead > tr > th,\n",
       ".dataframe > tbody > tr > td {\n",
       "  text-align: right;\n",
       "  white-space: pre-wrap;\n",
       "}\n",
       "</style>\n",
       "<small>shape: (7, 7)</small><table border=\"1\" class=\"dataframe\"><thead><tr><th>PREDICTOR_0</th><th>filename</th><th>PREDICTOR_2</th><th>PREDICTOR_3</th><th>Context_Name</th><th>IH_Web_Inbound_Accepted_pxLastGroupID</th><th>Decision_Outcome</th></tr><tr><td>f64</td><td>str</td><td>str</td><td>str</td><td>str</td><td>str</td><td>str</td></tr></thead><tbody><tr><td>1.2927e19</td><td>&quot;../../../../da…</td><td>&quot;88973727667710…</td><td>&quot;14227642751389…</td><td>&quot;FirstMortgage3…</td><td>&quot;10156923950410…</td><td>&quot;Rejected&quot;</td></tr><tr><td>1.4856e19</td><td>&quot;../../../../da…</td><td>&quot;14276234519374…</td><td>&quot;10725813118939…</td><td>&quot;FirstMortgage3…</td><td>&quot;22629638567759…</td><td>&quot;Accepted&quot;</td></tr><tr><td>5.6458e17</td><td>&quot;../../../../da…</td><td>&quot;88346356441639…</td><td>&quot;61762329530913…</td><td>&quot;MoneyMarketSav…</td><td>&quot;10156923950410…</td><td>&quot;Rejected&quot;</td></tr><tr><td>4.0723e18</td><td>&quot;../../../../da…</td><td>&quot;14276234519374…</td><td>&quot;15570628256164…</td><td>&quot;BasicChecking&quot;</td><td>&quot;10156923950410…</td><td>&quot;Rejected&quot;</td></tr><tr><td>1.4677e19</td><td>&quot;../../../../da…</td><td>&quot;88973727667710…</td><td>&quot;18272524013981…</td><td>&quot;BasicChecking&quot;</td><td>&quot;13647358944967…</td><td>&quot;Accepted&quot;</td></tr><tr><td>1.6330e19</td><td>&quot;../../../../da…</td><td>&quot;88346356441639…</td><td>&quot;15510860129512…</td><td>&quot;UPlusFinPerson…</td><td>null</td><td>&quot;Rejected&quot;</td></tr><tr><td>8.7675e18</td><td>&quot;../../../../da…</td><td>&quot;88346356441639…</td><td>&quot;14560138365070…</td><td>&quot;BasicChecking&quot;</td><td>&quot;13647358944967…</td><td>&quot;Rejected&quot;</td></tr></tbody></table></div>"
      ],
      "text/plain": [
       "shape: (7, 7)\n",
       "┌─────────────┬──────────────┬─────────────┬─────────────┬─────────────┬─────────────┬─────────────┐\n",
       "│ PREDICTOR_0 ┆ filename     ┆ PREDICTOR_2 ┆ PREDICTOR_3 ┆ Context_Nam ┆ IH_Web_Inbo ┆ Decision_Ou │\n",
       "│ ---         ┆ ---          ┆ ---         ┆ ---         ┆ e           ┆ und_Accepte ┆ tcome       │\n",
       "│ f64         ┆ str          ┆ str         ┆ str         ┆ ---         ┆ d_pxLastGr… ┆ ---         │\n",
       "│             ┆              ┆             ┆             ┆ str         ┆ ---         ┆ str         │\n",
       "│             ┆              ┆             ┆             ┆             ┆ str         ┆             │\n",
       "╞═════════════╪══════════════╪═════════════╪═════════════╪═════════════╪═════════════╪═════════════╡\n",
       "│ 1.2927e19   ┆ ../../../../ ┆ 88973727667 ┆ 14227642751 ┆ FirstMortga ┆ 10156923950 ┆ Rejected    │\n",
       "│             ┆ data/SampleH ┆ 7102825     ┆ 389003644   ┆ ge30yr      ┆ 410805872   ┆             │\n",
       "│             ┆ DS.json      ┆             ┆             ┆             ┆             ┆             │\n",
       "│ 1.4856e19   ┆ ../../../../ ┆ 14276234519 ┆ 10725813118 ┆ FirstMortga ┆ 22629638567 ┆ Accepted    │\n",
       "│             ┆ data/SampleH ┆ 374445147   ┆ 939040889   ┆ ge30yr      ┆ 75995445    ┆             │\n",
       "│             ┆ DS.json      ┆             ┆             ┆             ┆             ┆             │\n",
       "│ 5.6458e17   ┆ ../../../../ ┆ 88346356441 ┆ 61762329530 ┆ MoneyMarket ┆ 10156923950 ┆ Rejected    │\n",
       "│             ┆ data/SampleH ┆ 63945499    ┆ 913086      ┆ SavingsAcco ┆ 410805872   ┆             │\n",
       "│             ┆ DS.json      ┆             ┆             ┆ unt         ┆             ┆             │\n",
       "│ 4.0723e18   ┆ ../../../../ ┆ 14276234519 ┆ 15570628256 ┆ BasicChecki ┆ 10156923950 ┆ Rejected    │\n",
       "│             ┆ data/SampleH ┆ 374445147   ┆ 164922119   ┆ ng          ┆ 410805872   ┆             │\n",
       "│             ┆ DS.json      ┆             ┆             ┆             ┆             ┆             │\n",
       "│ 1.4677e19   ┆ ../../../../ ┆ 88973727667 ┆ 18272524013 ┆ BasicChecki ┆ 13647358944 ┆ Accepted    │\n",
       "│             ┆ data/SampleH ┆ 7102825     ┆ 981589489   ┆ ng          ┆ 967538379   ┆             │\n",
       "│             ┆ DS.json      ┆             ┆             ┆             ┆             ┆             │\n",
       "│ 1.6330e19   ┆ ../../../../ ┆ 88346356441 ┆ 15510860129 ┆ UPlusFinPer ┆ null        ┆ Rejected    │\n",
       "│             ┆ data/SampleH ┆ 63945499    ┆ 512147236   ┆ sonal       ┆             ┆             │\n",
       "│             ┆ DS.json      ┆             ┆             ┆             ┆             ┆             │\n",
       "│ 8.7675e18   ┆ ../../../../ ┆ 88346356441 ┆ 14560138365 ┆ BasicChecki ┆ 13647358944 ┆ Rejected    │\n",
       "│             ┆ data/SampleH ┆ 63945499    ┆ 07075141    ┆ ng          ┆ 967538379   ┆             │\n",
       "│             ┆ DS.json      ┆             ┆             ┆             ┆             ┆             │\n",
       "└─────────────┴──────────────┴─────────────┴─────────────┴─────────────┴─────────────┴─────────────┘"
      ]
     },
     "execution_count": 10,
     "metadata": {},
     "output_type": "execute_result"
    }
   ],
   "source": [
    "anon = DataAnonymization(config=Config(config_file='config.json'))\n",
    "anon.process()"
   ]
  },
  {
   "attachments": {},
   "cell_type": "markdown",
   "metadata": {},
   "source": [
    "## Exporting\n",
    "Two functions export:\n",
    "- `create_mapping_file()` writes the mapping file of the predictor names\n",
    "- `write_to_output()` writes the processed dataframe to disk\n",
    "\n",
    "Write to output accepts the following extensions: `[\"ndjson\", \"parquet\", \"arrow\", \"csv\"]`"
   ]
  },
  {
   "cell_type": "code",
   "execution_count": 11,
   "metadata": {
    "execution": {
     "iopub.execute_input": "2023-12-15T16:58:19.917505Z",
     "iopub.status.busy": "2023-12-15T16:58:19.917199Z",
     "iopub.status.idle": "2023-12-15T16:58:19.920714Z",
     "shell.execute_reply": "2023-12-15T16:58:19.920255Z"
    }
   },
   "outputs": [
    {
     "name": "stdout",
     "output_type": "stream",
     "text": [
      "Customer_CLV=PREDICTOR_0\n",
      "filename=filename\n",
      "Customer_MaritalStatus=PREDICTOR_2\n",
      "Customer_City=PREDICTOR_3\n",
      "Context_Name=Context_Name\n",
      "IH_Web_Inbound_Accepted_pxLastGroupID=IH_Web_Inbound_Accepted_pxLastGroupID\n",
      "Decision_Outcome=Decision_Outcome\n",
      "\n"
     ]
    }
   ],
   "source": [
    "anon.create_mapping_file()\n",
    "with open('mapping.map') as f:\n",
    "    print(f.read())"
   ]
  },
  {
   "cell_type": "code",
   "execution_count": 12,
   "metadata": {
    "execution": {
     "iopub.execute_input": "2023-12-15T16:58:19.922624Z",
     "iopub.status.busy": "2023-12-15T16:58:19.922347Z",
     "iopub.status.idle": "2023-12-15T16:58:19.925839Z",
     "shell.execute_reply": "2023-12-15T16:58:19.925291Z"
    }
   },
   "outputs": [],
   "source": [
    "anon.write_to_output(ext='arrow')"
   ]
  },
  {
   "cell_type": "code",
   "execution_count": 13,
   "metadata": {
    "execution": {
     "iopub.execute_input": "2023-12-15T16:58:19.927904Z",
     "iopub.status.busy": "2023-12-15T16:58:19.927528Z",
     "iopub.status.idle": "2023-12-15T16:58:19.931970Z",
     "shell.execute_reply": "2023-12-15T16:58:19.931539Z"
    }
   },
   "outputs": [
    {
     "data": {
      "text/html": [
       "<div><style>\n",
       ".dataframe > thead > tr > th,\n",
       ".dataframe > tbody > tr > td {\n",
       "  text-align: right;\n",
       "  white-space: pre-wrap;\n",
       "}\n",
       "</style>\n",
       "<small>shape: (7, 6)</small><table border=\"1\" class=\"dataframe\"><thead><tr><th>PREDICTOR_0</th><th>PREDICTOR_2</th><th>PREDICTOR_3</th><th>Context_Name</th><th>IH_Web_Inbound_Accepted_pxLastGroupID</th><th>Decision_Outcome</th></tr><tr><td>f64</td><td>str</td><td>str</td><td>str</td><td>str</td><td>str</td></tr></thead><tbody><tr><td>1.2927e19</td><td>&quot;12679606537431…</td><td>&quot;31633422295332…</td><td>&quot;FirstMortgage3…</td><td>&quot;15070299082038…</td><td>&quot;Rejected&quot;</td></tr><tr><td>1.4856e19</td><td>&quot;79885302057955…</td><td>&quot;16111234525414…</td><td>&quot;FirstMortgage3…</td><td>&quot;14922665906292…</td><td>&quot;Accepted&quot;</td></tr><tr><td>5.6458e17</td><td>&quot;77395737721699…</td><td>&quot;14359874167209…</td><td>&quot;MoneyMarketSav…</td><td>&quot;15070299082038…</td><td>&quot;Rejected&quot;</td></tr><tr><td>4.0723e18</td><td>&quot;79885302057955…</td><td>&quot;15125128049845…</td><td>&quot;BasicChecking&quot;</td><td>&quot;15070299082038…</td><td>&quot;Rejected&quot;</td></tr><tr><td>1.4677e19</td><td>&quot;12679606537431…</td><td>&quot;13850579808013…</td><td>&quot;BasicChecking&quot;</td><td>&quot;14380908482305…</td><td>&quot;Accepted&quot;</td></tr><tr><td>1.6330e19</td><td>&quot;77395737721699…</td><td>&quot;18167412464757…</td><td>&quot;UPlusFinPerson…</td><td>null</td><td>&quot;Rejected&quot;</td></tr><tr><td>8.7675e18</td><td>&quot;77395737721699…</td><td>&quot;97114270554387…</td><td>&quot;BasicChecking&quot;</td><td>&quot;14380908482305…</td><td>&quot;Rejected&quot;</td></tr></tbody></table></div>"
      ],
      "text/plain": [
       "shape: (7, 6)\n",
       "┌─────────────┬────────────────┬────────────────┬────────────────┬────────────────┬────────────────┐\n",
       "│ PREDICTOR_0 ┆ PREDICTOR_2    ┆ PREDICTOR_3    ┆ Context_Name   ┆ IH_Web_Inbound ┆ Decision_Outco │\n",
       "│ ---         ┆ ---            ┆ ---            ┆ ---            ┆ _Accepted_pxLa ┆ me             │\n",
       "│ f64         ┆ str            ┆ str            ┆ str            ┆ stGr…          ┆ ---            │\n",
       "│             ┆                ┆                ┆                ┆ ---            ┆ str            │\n",
       "│             ┆                ┆                ┆                ┆ str            ┆                │\n",
       "╞═════════════╪════════════════╪════════════════╪════════════════╪════════════════╪════════════════╡\n",
       "│ 1.2927e19   ┆ 12679606537431 ┆ 31633422295332 ┆ FirstMortgage3 ┆ 15070299082038 ┆ Rejected       │\n",
       "│             ┆ 180072         ┆ 4253           ┆ 0yr            ┆ 073884         ┆                │\n",
       "│ 1.4856e19   ┆ 79885302057955 ┆ 16111234525414 ┆ FirstMortgage3 ┆ 14922665906292 ┆ Accepted       │\n",
       "│             ┆ 56412          ┆ 007072         ┆ 0yr            ┆ 526725         ┆                │\n",
       "│ 5.6458e17   ┆ 77395737721699 ┆ 14359874167209 ┆ MoneyMarketSav ┆ 15070299082038 ┆ Rejected       │\n",
       "│             ┆ 57775          ┆ 558682         ┆ ingsAccount    ┆ 073884         ┆                │\n",
       "│ 4.0723e18   ┆ 79885302057955 ┆ 15125128049845 ┆ BasicChecking  ┆ 15070299082038 ┆ Rejected       │\n",
       "│             ┆ 56412          ┆ 681993         ┆                ┆ 073884         ┆                │\n",
       "│ 1.4677e19   ┆ 12679606537431 ┆ 13850579808013 ┆ BasicChecking  ┆ 14380908482305 ┆ Accepted       │\n",
       "│             ┆ 180072         ┆ 707450         ┆                ┆ 744868         ┆                │\n",
       "│ 1.6330e19   ┆ 77395737721699 ┆ 18167412464757 ┆ UPlusFinPerson ┆ null           ┆ Rejected       │\n",
       "│             ┆ 57775          ┆ 620272         ┆ al             ┆                ┆                │\n",
       "│ 8.7675e18   ┆ 77395737721699 ┆ 97114270554387 ┆ BasicChecking  ┆ 14380908482305 ┆ Rejected       │\n",
       "│             ┆ 57775          ┆ 7732           ┆                ┆ 744868         ┆                │\n",
       "└─────────────┴────────────────┴────────────────┴────────────────┴────────────────┴────────────────┘"
      ]
     },
     "execution_count": 13,
     "metadata": {},
     "output_type": "execute_result"
    }
   ],
   "source": [
    "pl.read_ipc('output/hds.arrow')"
   ]
  },
  {
   "attachments": {},
   "cell_type": "markdown",
   "metadata": {
    "nbsphinx": "hidden"
   },
   "source": [
    "## Advanced: Hash fuctions\n",
    "\n",
    "By default, we use [the same hashing algorithm Polars](https://pola-rs.github.io/polars/py-polars/html/reference/expressions/api/polars.Expr.hash.html#polars.Expr.hash) uses: [xxhash](https://github.com/Cyan4973/xxHash), as implemented [here](https://github.com/pola-rs/polars/blob/3f287f370b3c388ed2f3f218b2c096382548136f/polars/polars-core/src/vector_hasher.rs#L266). xxhash is fast to compute, and you can check its performance in collision, dispersion and randomness [here](https://github.com/Cyan4973/xxHash/tree/dev/tests). \n",
    "\n",
    "xxhash accepts four distinct seeds, but by default we set the seeds to `0`. It is possible to set the `seed` argument of the `process()` function to `'random'`, which will set all four seeds to a random integer between `0` and `1000000000`. Alternatively, it is possible to supply the four seeds manually with arguments `seed`, `seed_1`, `seed_2` and `seed_3`. \n",
    "\n",
    "If the xxhash with (random) seed(s) is not deemed sufficiently secure, it is possible to use your own hashing algorithm.\n",
    "\n",
    "Note that since we're now running python code and not native Polars code anymore, this will be _significantly_ slower. Nonetheless, it is possible.\n",
    "\n",
    "Just as an example - this is how one would use sha3_256:"
   ]
  },
  {
   "cell_type": "code",
   "execution_count": 14,
   "metadata": {
    "execution": {
     "iopub.execute_input": "2023-12-15T16:58:19.933914Z",
     "iopub.status.busy": "2023-12-15T16:58:19.933606Z",
     "iopub.status.idle": "2023-12-15T16:58:20.254378Z",
     "shell.execute_reply": "2023-12-15T16:58:20.253845Z"
    },
    "nbsphinx": "hidden"
   },
   "outputs": [
    {
     "ename": "ComputeError",
     "evalue": "AttributeError: 'int' object has no attribute 'encode'",
     "output_type": "error",
     "traceback": [
      "\u001b[0;31m---------------------------------------------------------------------------\u001b[0m",
      "\u001b[0;31mComputeError\u001b[0m                              Traceback (most recent call last)",
      "Cell \u001b[0;32mIn[14], line 3\u001b[0m\n\u001b[1;32m      1\u001b[0m \u001b[38;5;28;01mfrom\u001b[39;00m \u001b[38;5;21;01mhashlib\u001b[39;00m \u001b[38;5;28;01mimport\u001b[39;00m sha3_256\n\u001b[0;32m----> 3\u001b[0m \u001b[43manon\u001b[49m\u001b[38;5;241;43m.\u001b[39;49m\u001b[43mprocess\u001b[49m\u001b[43m(\u001b[49m\u001b[43malgorithm\u001b[49m\u001b[38;5;241;43m=\u001b[39;49m\u001b[38;5;28;43;01mlambda\u001b[39;49;00m\u001b[43m \u001b[49m\u001b[43mx\u001b[49m\u001b[43m:\u001b[49m\u001b[43m \u001b[49m\u001b[43msha3_256\u001b[49m\u001b[43m(\u001b[49m\u001b[43mx\u001b[49m\u001b[38;5;241;43m.\u001b[39;49m\u001b[43mencode\u001b[49m\u001b[43m(\u001b[49m\u001b[43m)\u001b[49m\u001b[43m)\u001b[49m\u001b[38;5;241;43m.\u001b[39;49m\u001b[43mhexdigest\u001b[49m\u001b[43m(\u001b[49m\u001b[43m)\u001b[49m\u001b[43m)\u001b[49m\n",
      "File \u001b[0;32m~/work/pega-datascientist-tools/pega-datascientist-tools/python/docs/source/articles/../../../pdstools/utils/hds_utils.py:516\u001b[0m, in \u001b[0;36mDataAnonymization.process\u001b[0;34m(self, strategy, **kwargs)\u001b[0m\n\u001b[1;32m    514\u001b[0m df \u001b[38;5;241m=\u001b[39m df\u001b[38;5;241m.\u001b[39mselect(\u001b[38;5;28mself\u001b[39m\u001b[38;5;241m.\u001b[39mcolumn_mapping\u001b[38;5;241m.\u001b[39mkeys())\u001b[38;5;241m.\u001b[39mrename(\u001b[38;5;28mself\u001b[39m\u001b[38;5;241m.\u001b[39mcolumn_mapping)\n\u001b[1;32m    515\u001b[0m \u001b[38;5;28;01mif\u001b[39;00m strategy \u001b[38;5;241m==\u001b[39m \u001b[38;5;124m\"\u001b[39m\u001b[38;5;124meager\u001b[39m\u001b[38;5;124m\"\u001b[39m:\n\u001b[0;32m--> 516\u001b[0m     \u001b[38;5;28;01mreturn\u001b[39;00m \u001b[43mdf\u001b[49m\u001b[38;5;241;43m.\u001b[39;49m\u001b[43mcollect\u001b[49m\u001b[43m(\u001b[49m\u001b[43m)\u001b[49m\n\u001b[1;32m    517\u001b[0m \u001b[38;5;28;01mreturn\u001b[39;00m df\n",
      "File \u001b[0;32m/opt/hostedtoolcache/Python/3.11.7/x64/lib/python3.11/site-packages/polars/utils/deprecation.py:100\u001b[0m, in \u001b[0;36mdeprecate_renamed_parameter.<locals>.decorate.<locals>.wrapper\u001b[0;34m(*args, **kwargs)\u001b[0m\n\u001b[1;32m     95\u001b[0m \u001b[38;5;129m@wraps\u001b[39m(function)\n\u001b[1;32m     96\u001b[0m \u001b[38;5;28;01mdef\u001b[39;00m \u001b[38;5;21mwrapper\u001b[39m(\u001b[38;5;241m*\u001b[39margs: P\u001b[38;5;241m.\u001b[39margs, \u001b[38;5;241m*\u001b[39m\u001b[38;5;241m*\u001b[39mkwargs: P\u001b[38;5;241m.\u001b[39mkwargs) \u001b[38;5;241m-\u001b[39m\u001b[38;5;241m>\u001b[39m T:\n\u001b[1;32m     97\u001b[0m     _rename_keyword_argument(\n\u001b[1;32m     98\u001b[0m         old_name, new_name, kwargs, function\u001b[38;5;241m.\u001b[39m\u001b[38;5;18m__name__\u001b[39m, version\n\u001b[1;32m     99\u001b[0m     )\n\u001b[0;32m--> 100\u001b[0m     \u001b[38;5;28;01mreturn\u001b[39;00m \u001b[43mfunction\u001b[49m\u001b[43m(\u001b[49m\u001b[38;5;241;43m*\u001b[39;49m\u001b[43margs\u001b[49m\u001b[43m,\u001b[49m\u001b[43m \u001b[49m\u001b[38;5;241;43m*\u001b[39;49m\u001b[38;5;241;43m*\u001b[39;49m\u001b[43mkwargs\u001b[49m\u001b[43m)\u001b[49m\n",
      "File \u001b[0;32m/opt/hostedtoolcache/Python/3.11.7/x64/lib/python3.11/site-packages/polars/lazyframe/frame.py:1787\u001b[0m, in \u001b[0;36mLazyFrame.collect\u001b[0;34m(self, type_coercion, predicate_pushdown, projection_pushdown, simplify_expression, slice_pushdown, comm_subplan_elim, comm_subexpr_elim, no_optimization, streaming, _eager)\u001b[0m\n\u001b[1;32m   1774\u001b[0m     comm_subplan_elim \u001b[38;5;241m=\u001b[39m \u001b[38;5;28;01mFalse\u001b[39;00m\n\u001b[1;32m   1776\u001b[0m ldf \u001b[38;5;241m=\u001b[39m \u001b[38;5;28mself\u001b[39m\u001b[38;5;241m.\u001b[39m_ldf\u001b[38;5;241m.\u001b[39moptimization_toggle(\n\u001b[1;32m   1777\u001b[0m     type_coercion,\n\u001b[1;32m   1778\u001b[0m     predicate_pushdown,\n\u001b[0;32m   (...)\u001b[0m\n\u001b[1;32m   1785\u001b[0m     _eager,\n\u001b[1;32m   1786\u001b[0m )\n\u001b[0;32m-> 1787\u001b[0m \u001b[38;5;28;01mreturn\u001b[39;00m wrap_df(ldf\u001b[38;5;241m.\u001b[39mcollect())\n",
      "\u001b[0;31mComputeError\u001b[0m: AttributeError: 'int' object has no attribute 'encode'"
     ]
    }
   ],
   "source": [
    "from hashlib import sha3_256\n",
    "\n",
    "anon.process(algorithm=lambda x: sha3_256(x.encode()).hexdigest())"
   ]
  }
 ],
 "metadata": {
  "kernelspec": {
   "display_name": "Python 3",
   "language": "python",
   "name": "python3"
  },
  "language_info": {
   "codemirror_mode": {
    "name": "ipython",
    "version": 3
   },
   "file_extension": ".py",
   "mimetype": "text/x-python",
   "name": "python",
   "nbconvert_exporter": "python",
   "pygments_lexer": "ipython3",
   "version": "3.11.7"
  },
  "vscode": {
   "interpreter": {
    "hash": "aee8b7b246df8f9039afb4144a1f6fd8d2ca17a180786b69acc140d282b71a49"
   }
  }
 },
 "nbformat": 4,
 "nbformat_minor": 2
}
