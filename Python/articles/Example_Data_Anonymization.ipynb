{
 "cells": [
  {
   "attachments": {},
   "cell_type": "markdown",
   "metadata": {},
   "source": [
    "# Data Anonymization\n",
    "\n",
    "In Pega CDH 8.5 and up, it's now possible to record the historical data as seen by the Adaptive Models. See [this academy challenge](https://academy.pega.com/challenge/exporting-historical-data/v4) for reference. This historical data can be further used to experiment with offline models, but also to fine-tune the OOTB Gradient Boosting model. However, sharing this information with Pega can be sensitive as it contains raw predictor data. \n",
    "\n",
    "To this end, we provide a simple and transparent script to fully anonimize this dataset.\n",
    "\n",
    "The DataAnonymization script is now part of pdstools, and you can import it directly as such."
   ]
  },
  {
   "cell_type": "code",
   "execution_count": 1,
   "metadata": {
    "execution": {
     "iopub.execute_input": "2024-06-18T11:54:44.492613Z",
     "iopub.status.busy": "2024-06-18T11:54:44.492205Z",
     "iopub.status.idle": "2024-06-18T11:54:44.564524Z",
     "shell.execute_reply": "2024-06-18T11:54:44.564039Z"
    },
    "nbsphinx": "hidden"
   },
   "outputs": [],
   "source": [
    "# These lines are only for rendering in the docs, and are hidden through Jupyter tags\n",
    "# Do not run if you're running the notebook seperately\n",
    "\n",
    "import os  \n",
    "import sys\n",
    "import plotly.io as pio\n",
    "pio.renderers.default = \"notebook_connected\"\n",
    "\n",
    "sys.path.append(\"../../../\")\n",
    "sys.path.append('../../python')"
   ]
  },
  {
   "cell_type": "code",
   "execution_count": 2,
   "metadata": {
    "execution": {
     "iopub.execute_input": "2024-06-18T11:54:44.566731Z",
     "iopub.status.busy": "2024-06-18T11:54:44.566389Z",
     "iopub.status.idle": "2024-06-18T11:54:45.643846Z",
     "shell.execute_reply": "2024-06-18T11:54:45.643350Z"
    }
   },
   "outputs": [],
   "source": [
    "from pdstools import ADMDatamart\n",
    "from pdstools import Config, DataAnonymization\n",
    "import polars as pl"
   ]
  },
  {
   "attachments": {},
   "cell_type": "markdown",
   "metadata": {},
   "source": [
    "## Input data\n",
    "\n",
    "To demonstrate this process, we're going to anonymise this toy example dataframe:"
   ]
  },
  {
   "cell_type": "code",
   "execution_count": 3,
   "metadata": {
    "execution": {
     "iopub.execute_input": "2024-06-18T11:54:45.646442Z",
     "iopub.status.busy": "2024-06-18T11:54:45.645954Z",
     "iopub.status.idle": "2024-06-18T11:54:45.653912Z",
     "shell.execute_reply": "2024-06-18T11:54:45.653433Z"
    }
   },
   "outputs": [
    {
     "data": {
      "text/html": [
       "<div><style>\n",
       ".dataframe > thead > tr,\n",
       ".dataframe > tbody > tr {\n",
       "  text-align: right;\n",
       "  white-space: pre-wrap;\n",
       "}\n",
       "</style>\n",
       "<small>shape: (7, 6)</small><table border=\"1\" class=\"dataframe\"><thead><tr><th>Context_Name</th><th>Customer_MaritalStatus</th><th>Customer_CLV</th><th>Customer_City</th><th>IH_Web_Inbound_Accepted_pxLastGroupID</th><th>Decision_Outcome</th></tr><tr><td>str</td><td>str</td><td>i64</td><td>str</td><td>str</td><td>str</td></tr></thead><tbody><tr><td>&quot;FirstMortgage30yr&quot;</td><td>&quot;Married&quot;</td><td>1460</td><td>&quot;Port Raoul&quot;</td><td>&quot;Account&quot;</td><td>&quot;Rejected&quot;</td></tr><tr><td>&quot;FirstMortgage30yr&quot;</td><td>&quot;Unknown&quot;</td><td>669</td><td>&quot;Laurianneshire&quot;</td><td>&quot;AutoLoans&quot;</td><td>&quot;Accepted&quot;</td></tr><tr><td>&quot;MoneyMarketSavingsAccount&quot;</td><td>&quot;No Resp+&quot;</td><td>1174</td><td>&quot;Jacobshaven&quot;</td><td>&quot;Account&quot;</td><td>&quot;Rejected&quot;</td></tr><tr><td>&quot;BasicChecking&quot;</td><td>&quot;Unknown&quot;</td><td>1476</td><td>&quot;Lindton&quot;</td><td>&quot;Account&quot;</td><td>&quot;Rejected&quot;</td></tr><tr><td>&quot;BasicChecking&quot;</td><td>&quot;Married&quot;</td><td>1211</td><td>&quot;South Jimmieshire&quot;</td><td>&quot;DepositAccounts&quot;</td><td>&quot;Accepted&quot;</td></tr><tr><td>&quot;UPlusFinPersonal&quot;</td><td>&quot;No Resp+&quot;</td><td>533</td><td>&quot;Bergeville&quot;</td><td>null</td><td>&quot;Rejected&quot;</td></tr><tr><td>&quot;BasicChecking&quot;</td><td>&quot;No Resp+&quot;</td><td>555</td><td>&quot;Willyville&quot;</td><td>&quot;DepositAccounts&quot;</td><td>&quot;Rejected&quot;</td></tr></tbody></table></div>"
      ],
      "text/plain": [
       "shape: (7, 6)\n",
       "┌────────────────┬────────────────┬──────────────┬────────────────┬────────────────┬───────────────┐\n",
       "│ Context_Name   ┆ Customer_Marit ┆ Customer_CLV ┆ Customer_City  ┆ IH_Web_Inbound ┆ Decision_Outc │\n",
       "│ ---            ┆ alStatus       ┆ ---          ┆ ---            ┆ _Accepted_pxLa ┆ ome           │\n",
       "│ str            ┆ ---            ┆ i64          ┆ str            ┆ st…            ┆ ---           │\n",
       "│                ┆ str            ┆              ┆                ┆ ---            ┆ str           │\n",
       "│                ┆                ┆              ┆                ┆ str            ┆               │\n",
       "╞════════════════╪════════════════╪══════════════╪════════════════╪════════════════╪═══════════════╡\n",
       "│ FirstMortgage3 ┆ Married        ┆ 1460         ┆ Port Raoul     ┆ Account        ┆ Rejected      │\n",
       "│ 0yr            ┆                ┆              ┆                ┆                ┆               │\n",
       "│ FirstMortgage3 ┆ Unknown        ┆ 669          ┆ Laurianneshire ┆ AutoLoans      ┆ Accepted      │\n",
       "│ 0yr            ┆                ┆              ┆                ┆                ┆               │\n",
       "│ MoneyMarketSav ┆ No Resp+       ┆ 1174         ┆ Jacobshaven    ┆ Account        ┆ Rejected      │\n",
       "│ ingsAccount    ┆                ┆              ┆                ┆                ┆               │\n",
       "│ BasicChecking  ┆ Unknown        ┆ 1476         ┆ Lindton        ┆ Account        ┆ Rejected      │\n",
       "│ BasicChecking  ┆ Married        ┆ 1211         ┆ South          ┆ DepositAccount ┆ Accepted      │\n",
       "│                ┆                ┆              ┆ Jimmieshire    ┆ s              ┆               │\n",
       "│ UPlusFinPerson ┆ No Resp+       ┆ 533          ┆ Bergeville     ┆ null           ┆ Rejected      │\n",
       "│ al             ┆                ┆              ┆                ┆                ┆               │\n",
       "│ BasicChecking  ┆ No Resp+       ┆ 555          ┆ Willyville     ┆ DepositAccount ┆ Rejected      │\n",
       "│                ┆                ┆              ┆                ┆ s              ┆               │\n",
       "└────────────────┴────────────────┴──────────────┴────────────────┴────────────────┴───────────────┘"
      ]
     },
     "execution_count": 3,
     "metadata": {},
     "output_type": "execute_result"
    }
   ],
   "source": [
    "pl.read_ndjson('../../../../data/SampleHDS.json')"
   ]
  },
  {
   "attachments": {},
   "cell_type": "markdown",
   "metadata": {},
   "source": [
    "As you can see, this dataset consists of regular predictors, IH predictors, context keys and the outcome column. Additionally, some columns are numeric, others are strings. Let's first initialize the DataAnonymization class."
   ]
  },
  {
   "cell_type": "code",
   "execution_count": 4,
   "metadata": {
    "execution": {
     "iopub.execute_input": "2024-06-18T11:54:45.655948Z",
     "iopub.status.busy": "2024-06-18T11:54:45.655620Z",
     "iopub.status.idle": "2024-06-18T11:54:45.665069Z",
     "shell.execute_reply": "2024-06-18T11:54:45.664650Z"
    }
   },
   "outputs": [],
   "source": [
    "anon = DataAnonymization(hds_folder='../../../../data/')"
   ]
  },
  {
   "attachments": {},
   "cell_type": "markdown",
   "metadata": {},
   "source": [
    "By default, the class applies a set of anonymisation techniques:\n",
    "- Column names are remapped to a non-descriptive name\n",
    "- Categorical values are hashed with a random seed\n",
    "- Numerical values are normalized between 0 and 1\n",
    "- Outcomes are mapped to a binary outcome.\n",
    "\n",
    "To apply these techniques, simply call `.process()`:"
   ]
  },
  {
   "cell_type": "code",
   "execution_count": 5,
   "metadata": {
    "execution": {
     "iopub.execute_input": "2024-06-18T11:54:45.667016Z",
     "iopub.status.busy": "2024-06-18T11:54:45.666839Z",
     "iopub.status.idle": "2024-06-18T11:54:45.671767Z",
     "shell.execute_reply": "2024-06-18T11:54:45.671320Z"
    }
   },
   "outputs": [
    {
     "data": {
      "text/html": [
       "<div><style>\n",
       ".dataframe > thead > tr,\n",
       ".dataframe > tbody > tr {\n",
       "  text-align: right;\n",
       "  white-space: pre-wrap;\n",
       "}\n",
       "</style>\n",
       "<small>shape: (7, 7)</small><table border=\"1\" class=\"dataframe\"><thead><tr><th>PREDICTOR_0</th><th>PREDICTOR_1</th><th>filename</th><th>PREDICTOR_3</th><th>Context_Name</th><th>IH_PREDICTOR_0</th><th>Decision_Outcome</th></tr><tr><td>str</td><td>str</td><td>str</td><td>f64</td><td>str</td><td>str</td><td>bool</td></tr></thead><tbody><tr><td>&quot;6616302572030853049&quot;</td><td>&quot;14050678190117924439&quot;</td><td>&quot;../../../../data/SampleHDS.jso…</td><td>9.9194e18</td><td>&quot;11513303761731358967&quot;</td><td>&quot;15355869157380624944&quot;</td><td>false</td></tr><tr><td>&quot;15228677399548362036&quot;</td><td>&quot;12881372064907283909&quot;</td><td>&quot;../../../../data/SampleHDS.jso…</td><td>1.6889e19</td><td>&quot;11513303761731358967&quot;</td><td>&quot;4141251573738023459&quot;</td><td>true</td></tr><tr><td>&quot;1011122717970142433&quot;</td><td>&quot;9080977037451594851&quot;</td><td>&quot;../../../../data/SampleHDS.jso…</td><td>3.5934e18</td><td>&quot;5623455175542837375&quot;</td><td>&quot;15355869157380624944&quot;</td><td>false</td></tr><tr><td>&quot;15228677399548362036&quot;</td><td>&quot;6535481971343268908&quot;</td><td>&quot;../../../../data/SampleHDS.jso…</td><td>2.0975e17</td><td>&quot;7998931294576339294&quot;</td><td>&quot;15355869157380624944&quot;</td><td>false</td></tr><tr><td>&quot;6616302572030853049&quot;</td><td>&quot;6971454181415477074&quot;</td><td>&quot;../../../../data/SampleHDS.jso…</td><td>1.8237e19</td><td>&quot;7998931294576339294&quot;</td><td>&quot;5160430314034407666&quot;</td><td>true</td></tr><tr><td>&quot;1011122717970142433&quot;</td><td>&quot;18403429534744329775&quot;</td><td>&quot;../../../../data/SampleHDS.jso…</td><td>3.4962e18</td><td>&quot;2556055343863125234&quot;</td><td>null</td><td>false</td></tr><tr><td>&quot;1011122717970142433&quot;</td><td>&quot;18073053886493952380&quot;</td><td>&quot;../../../../data/SampleHDS.jso…</td><td>3.0874e18</td><td>&quot;7998931294576339294&quot;</td><td>&quot;5160430314034407666&quot;</td><td>false</td></tr></tbody></table></div>"
      ],
      "text/plain": [
       "shape: (7, 7)\n",
       "┌──────────────┬─────────────┬─────────────┬─────────────┬─────────────┬─────────────┬─────────────┐\n",
       "│ PREDICTOR_0  ┆ PREDICTOR_1 ┆ filename    ┆ PREDICTOR_3 ┆ Context_Nam ┆ IH_PREDICTO ┆ Decision_Ou │\n",
       "│ ---          ┆ ---         ┆ ---         ┆ ---         ┆ e           ┆ R_0         ┆ tcome       │\n",
       "│ str          ┆ str         ┆ str         ┆ f64         ┆ ---         ┆ ---         ┆ ---         │\n",
       "│              ┆             ┆             ┆             ┆ str         ┆ str         ┆ bool        │\n",
       "╞══════════════╪═════════════╪═════════════╪═════════════╪═════════════╪═════════════╪═════════════╡\n",
       "│ 661630257203 ┆ 14050678190 ┆ ../../../.. ┆ 9.9194e18   ┆ 11513303761 ┆ 15355869157 ┆ false       │\n",
       "│ 0853049      ┆ 117924439   ┆ /data/Sampl ┆             ┆ 731358967   ┆ 380624944   ┆             │\n",
       "│              ┆             ┆ eHDS.jso…   ┆             ┆             ┆             ┆             │\n",
       "│ 152286773995 ┆ 12881372064 ┆ ../../../.. ┆ 1.6889e19   ┆ 11513303761 ┆ 41412515737 ┆ true        │\n",
       "│ 48362036     ┆ 907283909   ┆ /data/Sampl ┆             ┆ 731358967   ┆ 38023459    ┆             │\n",
       "│              ┆             ┆ eHDS.jso…   ┆             ┆             ┆             ┆             │\n",
       "│ 101112271797 ┆ 90809770374 ┆ ../../../.. ┆ 3.5934e18   ┆ 56234551755 ┆ 15355869157 ┆ false       │\n",
       "│ 0142433      ┆ 51594851    ┆ /data/Sampl ┆             ┆ 42837375    ┆ 380624944   ┆             │\n",
       "│              ┆             ┆ eHDS.jso…   ┆             ┆             ┆             ┆             │\n",
       "│ 152286773995 ┆ 65354819713 ┆ ../../../.. ┆ 2.0975e17   ┆ 79989312945 ┆ 15355869157 ┆ false       │\n",
       "│ 48362036     ┆ 43268908    ┆ /data/Sampl ┆             ┆ 76339294    ┆ 380624944   ┆             │\n",
       "│              ┆             ┆ eHDS.jso…   ┆             ┆             ┆             ┆             │\n",
       "│ 661630257203 ┆ 69714541814 ┆ ../../../.. ┆ 1.8237e19   ┆ 79989312945 ┆ 51604303140 ┆ true        │\n",
       "│ 0853049      ┆ 15477074    ┆ /data/Sampl ┆             ┆ 76339294    ┆ 34407666    ┆             │\n",
       "│              ┆             ┆ eHDS.jso…   ┆             ┆             ┆             ┆             │\n",
       "│ 101112271797 ┆ 18403429534 ┆ ../../../.. ┆ 3.4962e18   ┆ 25560553438 ┆ null        ┆ false       │\n",
       "│ 0142433      ┆ 744329775   ┆ /data/Sampl ┆             ┆ 63125234    ┆             ┆             │\n",
       "│              ┆             ┆ eHDS.jso…   ┆             ┆             ┆             ┆             │\n",
       "│ 101112271797 ┆ 18073053886 ┆ ../../../.. ┆ 3.0874e18   ┆ 79989312945 ┆ 51604303140 ┆ false       │\n",
       "│ 0142433      ┆ 493952380   ┆ /data/Sampl ┆             ┆ 76339294    ┆ 34407666    ┆             │\n",
       "│              ┆             ┆ eHDS.jso…   ┆             ┆             ┆             ┆             │\n",
       "└──────────────┴─────────────┴─────────────┴─────────────┴─────────────┴─────────────┴─────────────┘"
      ]
     },
     "execution_count": 5,
     "metadata": {},
     "output_type": "execute_result"
    }
   ],
   "source": [
    "anon.process()"
   ]
  },
  {
   "attachments": {},
   "cell_type": "markdown",
   "metadata": {},
   "source": [
    "To trace back the columns to their original names, the class also contains a mapping, which does not have to be provided."
   ]
  },
  {
   "cell_type": "code",
   "execution_count": 6,
   "metadata": {
    "execution": {
     "iopub.execute_input": "2024-06-18T11:54:45.673575Z",
     "iopub.status.busy": "2024-06-18T11:54:45.673411Z",
     "iopub.status.idle": "2024-06-18T11:54:45.676899Z",
     "shell.execute_reply": "2024-06-18T11:54:45.676455Z"
    }
   },
   "outputs": [
    {
     "data": {
      "text/plain": [
       "{'Customer_MaritalStatus': 'PREDICTOR_0',\n",
       " 'Customer_City': 'PREDICTOR_1',\n",
       " 'filename': 'filename',\n",
       " 'Customer_CLV': 'PREDICTOR_3',\n",
       " 'Context_Name': 'Context_Name',\n",
       " 'IH_Web_Inbound_Accepted_pxLastGroupID': 'IH_PREDICTOR_0',\n",
       " 'Decision_Outcome': 'Decision_Outcome'}"
      ]
     },
     "execution_count": 6,
     "metadata": {},
     "output_type": "execute_result"
    }
   ],
   "source": [
    "anon.column_mapping"
   ]
  },
  {
   "attachments": {},
   "cell_type": "markdown",
   "metadata": {},
   "source": [
    "## Configs\n",
    "\n",
    "Each capability can optionally be turned off - see below for the full list of config options, and refer to the API reference for the full description."
   ]
  },
  {
   "cell_type": "code",
   "execution_count": 7,
   "metadata": {
    "execution": {
     "iopub.execute_input": "2024-06-18T11:54:45.678910Z",
     "iopub.status.busy": "2024-06-18T11:54:45.678747Z",
     "iopub.status.idle": "2024-06-18T11:54:45.682896Z",
     "shell.execute_reply": "2024-06-18T11:54:45.682340Z"
    }
   },
   "outputs": [
    {
     "data": {
      "text/plain": [
       "{'config_file': None,\n",
       " 'hds_folder': '.',\n",
       " 'use_datamart': False,\n",
       " 'datamart_folder': 'datamart',\n",
       " 'output_format': 'ndjson',\n",
       " 'output_folder': 'output',\n",
       " 'mapping_file': 'mapping.map',\n",
       " 'mask_predictor_names': True,\n",
       " 'mask_context_key_names': False,\n",
       " 'mask_ih_names': True,\n",
       " 'mask_outcome_name': False,\n",
       " 'mask_predictor_values': True,\n",
       " 'mask_context_key_values': True,\n",
       " 'mask_ih_values': True,\n",
       " 'mask_outcome_values': True,\n",
       " 'context_key_label': 'Context_*',\n",
       " 'ih_label': 'IH_*',\n",
       " 'outcome_column': 'Decision_Outcome',\n",
       " 'positive_outcomes': ['Accepted', 'Clicked'],\n",
       " 'negative_outcomes': ['Rejected', 'Impression'],\n",
       " 'special_predictors': ['Decision_DecisionTime',\n",
       "  'Decision_OutcomeTime',\n",
       "  'Decision_Rank'],\n",
       " 'sample_percentage_schema_inferencing': 0.01}"
      ]
     },
     "execution_count": 7,
     "metadata": {},
     "output_type": "execute_result"
    }
   ],
   "source": [
    "dict(zip(Config.__init__.__code__.co_varnames[1:], Config.__init__.__defaults__))"
   ]
  },
  {
   "attachments": {},
   "cell_type": "markdown",
   "metadata": {},
   "source": [
    "It's easy to change these parameters by just passing the keyword arguments. In the following example, we\n",
    "- Keep the IH predictor names\n",
    "- Keep the outcome values\n",
    "- Keep the context key values\n",
    "- Keep the context key predictor names"
   ]
  },
  {
   "cell_type": "code",
   "execution_count": 8,
   "metadata": {
    "execution": {
     "iopub.execute_input": "2024-06-18T11:54:45.684905Z",
     "iopub.status.busy": "2024-06-18T11:54:45.684520Z",
     "iopub.status.idle": "2024-06-18T11:54:45.691932Z",
     "shell.execute_reply": "2024-06-18T11:54:45.691482Z"
    }
   },
   "outputs": [
    {
     "data": {
      "text/html": [
       "<div><style>\n",
       ".dataframe > thead > tr,\n",
       ".dataframe > tbody > tr {\n",
       "  text-align: right;\n",
       "  white-space: pre-wrap;\n",
       "}\n",
       "</style>\n",
       "<small>shape: (7, 7)</small><table border=\"1\" class=\"dataframe\"><thead><tr><th>PREDICTOR_0</th><th>PREDICTOR_1</th><th>filename</th><th>PREDICTOR_3</th><th>Context_Name</th><th>IH_Web_Inbound_Accepted_pxLastGroupID</th><th>Decision_Outcome</th></tr><tr><td>str</td><td>str</td><td>str</td><td>f64</td><td>str</td><td>str</td><td>str</td></tr></thead><tbody><tr><td>&quot;17324879526771560578&quot;</td><td>&quot;3392224152793663524&quot;</td><td>&quot;../../../../data/SampleHDS.jso…</td><td>1.7857e19</td><td>&quot;FirstMortgage30yr&quot;</td><td>&quot;13435076877075461193&quot;</td><td>&quot;Rejected&quot;</td></tr><tr><td>&quot;16107409146386019181&quot;</td><td>&quot;13768655868639185323&quot;</td><td>&quot;../../../../data/SampleHDS.jso…</td><td>9.8253e18</td><td>&quot;FirstMortgage30yr&quot;</td><td>&quot;16105933808583899482&quot;</td><td>&quot;Accepted&quot;</td></tr><tr><td>&quot;5353472830081425086&quot;</td><td>&quot;13677839057108814633&quot;</td><td>&quot;../../../../data/SampleHDS.jso…</td><td>5.6097e18</td><td>&quot;MoneyMarketSavingsAccount&quot;</td><td>&quot;13435076877075461193&quot;</td><td>&quot;Rejected&quot;</td></tr><tr><td>&quot;16107409146386019181&quot;</td><td>&quot;8777043500380242243&quot;</td><td>&quot;../../../../data/SampleHDS.jso…</td><td>1.0410e18</td><td>&quot;BasicChecking&quot;</td><td>&quot;13435076877075461193&quot;</td><td>&quot;Rejected&quot;</td></tr><tr><td>&quot;17324879526771560578&quot;</td><td>&quot;14634892853076604367&quot;</td><td>&quot;../../../../data/SampleHDS.jso…</td><td>3.2241e18</td><td>&quot;BasicChecking&quot;</td><td>&quot;16195302969627611179&quot;</td><td>&quot;Accepted&quot;</td></tr><tr><td>&quot;5353472830081425086&quot;</td><td>&quot;10249544514887979736&quot;</td><td>&quot;../../../../data/SampleHDS.jso…</td><td>3.5278e18</td><td>&quot;UPlusFinPersonal&quot;</td><td>null</td><td>&quot;Rejected&quot;</td></tr><tr><td>&quot;5353472830081425086&quot;</td><td>&quot;5657954607517846942&quot;</td><td>&quot;../../../../data/SampleHDS.jso…</td><td>8.6557e17</td><td>&quot;BasicChecking&quot;</td><td>&quot;16195302969627611179&quot;</td><td>&quot;Rejected&quot;</td></tr></tbody></table></div>"
      ],
      "text/plain": [
       "shape: (7, 7)\n",
       "┌──────────────┬─────────────┬─────────────┬─────────────┬─────────────┬─────────────┬─────────────┐\n",
       "│ PREDICTOR_0  ┆ PREDICTOR_1 ┆ filename    ┆ PREDICTOR_3 ┆ Context_Nam ┆ IH_Web_Inbo ┆ Decision_Ou │\n",
       "│ ---          ┆ ---         ┆ ---         ┆ ---         ┆ e           ┆ und_Accepte ┆ tcome       │\n",
       "│ str          ┆ str         ┆ str         ┆ f64         ┆ ---         ┆ d_pxLast…   ┆ ---         │\n",
       "│              ┆             ┆             ┆             ┆ str         ┆ ---         ┆ str         │\n",
       "│              ┆             ┆             ┆             ┆             ┆ str         ┆             │\n",
       "╞══════════════╪═════════════╪═════════════╪═════════════╪═════════════╪═════════════╪═════════════╡\n",
       "│ 173248795267 ┆ 33922241527 ┆ ../../../.. ┆ 1.7857e19   ┆ FirstMortga ┆ 13435076877 ┆ Rejected    │\n",
       "│ 71560578     ┆ 93663524    ┆ /data/Sampl ┆             ┆ ge30yr      ┆ 075461193   ┆             │\n",
       "│              ┆             ┆ eHDS.jso…   ┆             ┆             ┆             ┆             │\n",
       "│ 161074091463 ┆ 13768655868 ┆ ../../../.. ┆ 9.8253e18   ┆ FirstMortga ┆ 16105933808 ┆ Accepted    │\n",
       "│ 86019181     ┆ 639185323   ┆ /data/Sampl ┆             ┆ ge30yr      ┆ 583899482   ┆             │\n",
       "│              ┆             ┆ eHDS.jso…   ┆             ┆             ┆             ┆             │\n",
       "│ 535347283008 ┆ 13677839057 ┆ ../../../.. ┆ 5.6097e18   ┆ MoneyMarket ┆ 13435076877 ┆ Rejected    │\n",
       "│ 1425086      ┆ 108814633   ┆ /data/Sampl ┆             ┆ SavingsAcco ┆ 075461193   ┆             │\n",
       "│              ┆             ┆ eHDS.jso…   ┆             ┆ unt         ┆             ┆             │\n",
       "│ 161074091463 ┆ 87770435003 ┆ ../../../.. ┆ 1.0410e18   ┆ BasicChecki ┆ 13435076877 ┆ Rejected    │\n",
       "│ 86019181     ┆ 80242243    ┆ /data/Sampl ┆             ┆ ng          ┆ 075461193   ┆             │\n",
       "│              ┆             ┆ eHDS.jso…   ┆             ┆             ┆             ┆             │\n",
       "│ 173248795267 ┆ 14634892853 ┆ ../../../.. ┆ 3.2241e18   ┆ BasicChecki ┆ 16195302969 ┆ Accepted    │\n",
       "│ 71560578     ┆ 076604367   ┆ /data/Sampl ┆             ┆ ng          ┆ 627611179   ┆             │\n",
       "│              ┆             ┆ eHDS.jso…   ┆             ┆             ┆             ┆             │\n",
       "│ 535347283008 ┆ 10249544514 ┆ ../../../.. ┆ 3.5278e18   ┆ UPlusFinPer ┆ null        ┆ Rejected    │\n",
       "│ 1425086      ┆ 887979736   ┆ /data/Sampl ┆             ┆ sonal       ┆             ┆             │\n",
       "│              ┆             ┆ eHDS.jso…   ┆             ┆             ┆             ┆             │\n",
       "│ 535347283008 ┆ 56579546075 ┆ ../../../.. ┆ 8.6557e17   ┆ BasicChecki ┆ 16195302969 ┆ Rejected    │\n",
       "│ 1425086      ┆ 17846942    ┆ /data/Sampl ┆             ┆ ng          ┆ 627611179   ┆             │\n",
       "│              ┆             ┆ eHDS.jso…   ┆             ┆             ┆             ┆             │\n",
       "└──────────────┴─────────────┴─────────────┴─────────────┴─────────────┴─────────────┴─────────────┘"
      ]
     },
     "execution_count": 8,
     "metadata": {},
     "output_type": "execute_result"
    }
   ],
   "source": [
    "anon = DataAnonymization(\n",
    "    hds_folder=\"../../../../data/\",\n",
    "    mask_ih_names=False,\n",
    "    mask_outcome_values=False,\n",
    "    mask_context_key_values=False,\n",
    "    mask_context_key_names=False,\n",
    ")\n",
    "anon.process()\n"
   ]
  },
  {
   "attachments": {},
   "cell_type": "markdown",
   "metadata": {},
   "source": [
    "The configs can also be written and read as such:"
   ]
  },
  {
   "cell_type": "code",
   "execution_count": 9,
   "metadata": {
    "execution": {
     "iopub.execute_input": "2024-06-18T11:54:45.694041Z",
     "iopub.status.busy": "2024-06-18T11:54:45.693605Z",
     "iopub.status.idle": "2024-06-18T11:54:45.696359Z",
     "shell.execute_reply": "2024-06-18T11:54:45.695925Z"
    }
   },
   "outputs": [],
   "source": [
    "anon.config.save_to_config_file('config.json')"
   ]
  },
  {
   "cell_type": "code",
   "execution_count": 10,
   "metadata": {
    "execution": {
     "iopub.execute_input": "2024-06-18T11:54:45.698108Z",
     "iopub.status.busy": "2024-06-18T11:54:45.697899Z",
     "iopub.status.idle": "2024-06-18T11:54:45.704908Z",
     "shell.execute_reply": "2024-06-18T11:54:45.704486Z"
    }
   },
   "outputs": [
    {
     "data": {
      "text/html": [
       "<div><style>\n",
       ".dataframe > thead > tr,\n",
       ".dataframe > tbody > tr {\n",
       "  text-align: right;\n",
       "  white-space: pre-wrap;\n",
       "}\n",
       "</style>\n",
       "<small>shape: (7, 7)</small><table border=\"1\" class=\"dataframe\"><thead><tr><th>PREDICTOR_0</th><th>PREDICTOR_1</th><th>filename</th><th>PREDICTOR_3</th><th>Context_Name</th><th>IH_Web_Inbound_Accepted_pxLastGroupID</th><th>Decision_Outcome</th></tr><tr><td>str</td><td>str</td><td>str</td><td>f64</td><td>str</td><td>str</td><td>str</td></tr></thead><tbody><tr><td>&quot;2305797378785213244&quot;</td><td>&quot;1993073785172396593&quot;</td><td>&quot;../../../../data/SampleHDS.jso…</td><td>1.4027e19</td><td>&quot;FirstMortgage30yr&quot;</td><td>&quot;3656759753578105976&quot;</td><td>&quot;Rejected&quot;</td></tr><tr><td>&quot;10075092616109179410&quot;</td><td>&quot;10408530804773147484&quot;</td><td>&quot;../../../../data/SampleHDS.jso…</td><td>8.2103e18</td><td>&quot;FirstMortgage30yr&quot;</td><td>&quot;18021867529932497997&quot;</td><td>&quot;Accepted&quot;</td></tr><tr><td>&quot;6634124755762446894&quot;</td><td>&quot;2656201801279481466&quot;</td><td>&quot;../../../../data/SampleHDS.jso…</td><td>9.0245e18</td><td>&quot;MoneyMarketSavingsAccount&quot;</td><td>&quot;3656759753578105976&quot;</td><td>&quot;Rejected&quot;</td></tr><tr><td>&quot;10075092616109179410&quot;</td><td>&quot;1333612034728154071&quot;</td><td>&quot;../../../../data/SampleHDS.jso…</td><td>1.1344e19</td><td>&quot;BasicChecking&quot;</td><td>&quot;3656759753578105976&quot;</td><td>&quot;Rejected&quot;</td></tr><tr><td>&quot;2305797378785213244&quot;</td><td>&quot;4202043386181501160&quot;</td><td>&quot;../../../../data/SampleHDS.jso…</td><td>3.2109e18</td><td>&quot;BasicChecking&quot;</td><td>&quot;1619020405048800549&quot;</td><td>&quot;Accepted&quot;</td></tr><tr><td>&quot;6634124755762446894&quot;</td><td>&quot;9548274274426951866&quot;</td><td>&quot;../../../../data/SampleHDS.jso…</td><td>1.3062e18</td><td>&quot;UPlusFinPersonal&quot;</td><td>null</td><td>&quot;Rejected&quot;</td></tr><tr><td>&quot;6634124755762446894&quot;</td><td>&quot;11782253833193359036&quot;</td><td>&quot;../../../../data/SampleHDS.jso…</td><td>1.2956e19</td><td>&quot;BasicChecking&quot;</td><td>&quot;1619020405048800549&quot;</td><td>&quot;Rejected&quot;</td></tr></tbody></table></div>"
      ],
      "text/plain": [
       "shape: (7, 7)\n",
       "┌──────────────┬─────────────┬─────────────┬─────────────┬─────────────┬─────────────┬─────────────┐\n",
       "│ PREDICTOR_0  ┆ PREDICTOR_1 ┆ filename    ┆ PREDICTOR_3 ┆ Context_Nam ┆ IH_Web_Inbo ┆ Decision_Ou │\n",
       "│ ---          ┆ ---         ┆ ---         ┆ ---         ┆ e           ┆ und_Accepte ┆ tcome       │\n",
       "│ str          ┆ str         ┆ str         ┆ f64         ┆ ---         ┆ d_pxLast…   ┆ ---         │\n",
       "│              ┆             ┆             ┆             ┆ str         ┆ ---         ┆ str         │\n",
       "│              ┆             ┆             ┆             ┆             ┆ str         ┆             │\n",
       "╞══════════════╪═════════════╪═════════════╪═════════════╪═════════════╪═════════════╪═════════════╡\n",
       "│ 230579737878 ┆ 19930737851 ┆ ../../../.. ┆ 1.4027e19   ┆ FirstMortga ┆ 36567597535 ┆ Rejected    │\n",
       "│ 5213244      ┆ 72396593    ┆ /data/Sampl ┆             ┆ ge30yr      ┆ 78105976    ┆             │\n",
       "│              ┆             ┆ eHDS.jso…   ┆             ┆             ┆             ┆             │\n",
       "│ 100750926161 ┆ 10408530804 ┆ ../../../.. ┆ 8.2103e18   ┆ FirstMortga ┆ 18021867529 ┆ Accepted    │\n",
       "│ 09179410     ┆ 773147484   ┆ /data/Sampl ┆             ┆ ge30yr      ┆ 932497997   ┆             │\n",
       "│              ┆             ┆ eHDS.jso…   ┆             ┆             ┆             ┆             │\n",
       "│ 663412475576 ┆ 26562018012 ┆ ../../../.. ┆ 9.0245e18   ┆ MoneyMarket ┆ 36567597535 ┆ Rejected    │\n",
       "│ 2446894      ┆ 79481466    ┆ /data/Sampl ┆             ┆ SavingsAcco ┆ 78105976    ┆             │\n",
       "│              ┆             ┆ eHDS.jso…   ┆             ┆ unt         ┆             ┆             │\n",
       "│ 100750926161 ┆ 13336120347 ┆ ../../../.. ┆ 1.1344e19   ┆ BasicChecki ┆ 36567597535 ┆ Rejected    │\n",
       "│ 09179410     ┆ 28154071    ┆ /data/Sampl ┆             ┆ ng          ┆ 78105976    ┆             │\n",
       "│              ┆             ┆ eHDS.jso…   ┆             ┆             ┆             ┆             │\n",
       "│ 230579737878 ┆ 42020433861 ┆ ../../../.. ┆ 3.2109e18   ┆ BasicChecki ┆ 16190204050 ┆ Accepted    │\n",
       "│ 5213244      ┆ 81501160    ┆ /data/Sampl ┆             ┆ ng          ┆ 48800549    ┆             │\n",
       "│              ┆             ┆ eHDS.jso…   ┆             ┆             ┆             ┆             │\n",
       "│ 663412475576 ┆ 95482742744 ┆ ../../../.. ┆ 1.3062e18   ┆ UPlusFinPer ┆ null        ┆ Rejected    │\n",
       "│ 2446894      ┆ 26951866    ┆ /data/Sampl ┆             ┆ sonal       ┆             ┆             │\n",
       "│              ┆             ┆ eHDS.jso…   ┆             ┆             ┆             ┆             │\n",
       "│ 663412475576 ┆ 11782253833 ┆ ../../../.. ┆ 1.2956e19   ┆ BasicChecki ┆ 16190204050 ┆ Rejected    │\n",
       "│ 2446894      ┆ 193359036   ┆ /data/Sampl ┆             ┆ ng          ┆ 48800549    ┆             │\n",
       "│              ┆             ┆ eHDS.jso…   ┆             ┆             ┆             ┆             │\n",
       "└──────────────┴─────────────┴─────────────┴─────────────┴─────────────┴─────────────┴─────────────┘"
      ]
     },
     "execution_count": 10,
     "metadata": {},
     "output_type": "execute_result"
    }
   ],
   "source": [
    "anon = DataAnonymization(config=Config(config_file='config.json'))\n",
    "anon.process()"
   ]
  },
  {
   "attachments": {},
   "cell_type": "markdown",
   "metadata": {},
   "source": [
    "## Exporting\n",
    "Two functions export:\n",
    "- `create_mapping_file()` writes the mapping file of the predictor names\n",
    "- `write_to_output()` writes the processed dataframe to disk\n",
    "\n",
    "Write to output accepts the following extensions: `[\"ndjson\", \"parquet\", \"arrow\", \"csv\"]`"
   ]
  },
  {
   "cell_type": "code",
   "execution_count": 11,
   "metadata": {
    "execution": {
     "iopub.execute_input": "2024-06-18T11:54:45.706928Z",
     "iopub.status.busy": "2024-06-18T11:54:45.706611Z",
     "iopub.status.idle": "2024-06-18T11:54:45.709959Z",
     "shell.execute_reply": "2024-06-18T11:54:45.709442Z"
    }
   },
   "outputs": [
    {
     "name": "stdout",
     "output_type": "stream",
     "text": [
      "Customer_MaritalStatus=PREDICTOR_0\n",
      "Customer_City=PREDICTOR_1\n",
      "filename=filename\n",
      "Customer_CLV=PREDICTOR_3\n",
      "Context_Name=Context_Name\n",
      "IH_Web_Inbound_Accepted_pxLastGroupID=IH_Web_Inbound_Accepted_pxLastGroupID\n",
      "Decision_Outcome=Decision_Outcome\n",
      "\n"
     ]
    }
   ],
   "source": [
    "anon.create_mapping_file()\n",
    "with open('mapping.map') as f:\n",
    "    print(f.read())"
   ]
  },
  {
   "cell_type": "code",
   "execution_count": 12,
   "metadata": {
    "execution": {
     "iopub.execute_input": "2024-06-18T11:54:45.712023Z",
     "iopub.status.busy": "2024-06-18T11:54:45.711732Z",
     "iopub.status.idle": "2024-06-18T11:54:45.715107Z",
     "shell.execute_reply": "2024-06-18T11:54:45.714575Z"
    }
   },
   "outputs": [],
   "source": [
    "anon.write_to_output(ext='arrow')"
   ]
  },
  {
   "cell_type": "code",
   "execution_count": 13,
   "metadata": {
    "execution": {
     "iopub.execute_input": "2024-06-18T11:54:45.717041Z",
     "iopub.status.busy": "2024-06-18T11:54:45.716648Z",
     "iopub.status.idle": "2024-06-18T11:54:45.721046Z",
     "shell.execute_reply": "2024-06-18T11:54:45.720509Z"
    }
   },
   "outputs": [
    {
     "data": {
      "text/html": [
       "<div><style>\n",
       ".dataframe > thead > tr,\n",
       ".dataframe > tbody > tr {\n",
       "  text-align: right;\n",
       "  white-space: pre-wrap;\n",
       "}\n",
       "</style>\n",
       "<small>shape: (7, 6)</small><table border=\"1\" class=\"dataframe\"><thead><tr><th>PREDICTOR_0</th><th>PREDICTOR_1</th><th>PREDICTOR_3</th><th>Context_Name</th><th>IH_Web_Inbound_Accepted_pxLastGroupID</th><th>Decision_Outcome</th></tr><tr><td>str</td><td>str</td><td>f64</td><td>str</td><td>str</td><td>str</td></tr></thead><tbody><tr><td>&quot;11775837397349681876&quot;</td><td>&quot;12835739524217674517&quot;</td><td>1.4914e19</td><td>&quot;FirstMortgage30yr&quot;</td><td>&quot;14532148408731708026&quot;</td><td>&quot;Rejected&quot;</td></tr><tr><td>&quot;4827484455818938842&quot;</td><td>&quot;13769159894769691878&quot;</td><td>1.7983e19</td><td>&quot;FirstMortgage30yr&quot;</td><td>&quot;7503806566214485707&quot;</td><td>&quot;Accepted&quot;</td></tr><tr><td>&quot;9575780208302168804&quot;</td><td>&quot;17245383806712465800&quot;</td><td>7.8152e18</td><td>&quot;MoneyMarketSavingsAccount&quot;</td><td>&quot;14532148408731708026&quot;</td><td>&quot;Rejected&quot;</td></tr><tr><td>&quot;4827484455818938842&quot;</td><td>&quot;18026833732185522692&quot;</td><td>1.1669e19</td><td>&quot;BasicChecking&quot;</td><td>&quot;14532148408731708026&quot;</td><td>&quot;Rejected&quot;</td></tr><tr><td>&quot;11775837397349681876&quot;</td><td>&quot;4524813780908682509&quot;</td><td>9.5927e18</td><td>&quot;BasicChecking&quot;</td><td>&quot;1365725536712826993&quot;</td><td>&quot;Accepted&quot;</td></tr><tr><td>&quot;9575780208302168804&quot;</td><td>&quot;12347376102245873313&quot;</td><td>6.2754e18</td><td>&quot;UPlusFinPersonal&quot;</td><td>null</td><td>&quot;Rejected&quot;</td></tr><tr><td>&quot;9575780208302168804&quot;</td><td>&quot;2747428689959226259&quot;</td><td>4.1345e18</td><td>&quot;BasicChecking&quot;</td><td>&quot;1365725536712826993&quot;</td><td>&quot;Rejected&quot;</td></tr></tbody></table></div>"
      ],
      "text/plain": [
       "shape: (7, 6)\n",
       "┌────────────────┬────────────────┬─────────────┬────────────────┬────────────────┬────────────────┐\n",
       "│ PREDICTOR_0    ┆ PREDICTOR_1    ┆ PREDICTOR_3 ┆ Context_Name   ┆ IH_Web_Inbound ┆ Decision_Outco │\n",
       "│ ---            ┆ ---            ┆ ---         ┆ ---            ┆ _Accepted_pxLa ┆ me             │\n",
       "│ str            ┆ str            ┆ f64         ┆ str            ┆ st…            ┆ ---            │\n",
       "│                ┆                ┆             ┆                ┆ ---            ┆ str            │\n",
       "│                ┆                ┆             ┆                ┆ str            ┆                │\n",
       "╞════════════════╪════════════════╪═════════════╪════════════════╪════════════════╪════════════════╡\n",
       "│ 11775837397349 ┆ 12835739524217 ┆ 1.4914e19   ┆ FirstMortgage3 ┆ 14532148408731 ┆ Rejected       │\n",
       "│ 681876         ┆ 674517         ┆             ┆ 0yr            ┆ 708026         ┆                │\n",
       "│ 48274844558189 ┆ 13769159894769 ┆ 1.7983e19   ┆ FirstMortgage3 ┆ 75038065662144 ┆ Accepted       │\n",
       "│ 38842          ┆ 691878         ┆             ┆ 0yr            ┆ 85707          ┆                │\n",
       "│ 95757802083021 ┆ 17245383806712 ┆ 7.8152e18   ┆ MoneyMarketSav ┆ 14532148408731 ┆ Rejected       │\n",
       "│ 68804          ┆ 465800         ┆             ┆ ingsAccount    ┆ 708026         ┆                │\n",
       "│ 48274844558189 ┆ 18026833732185 ┆ 1.1669e19   ┆ BasicChecking  ┆ 14532148408731 ┆ Rejected       │\n",
       "│ 38842          ┆ 522692         ┆             ┆                ┆ 708026         ┆                │\n",
       "│ 11775837397349 ┆ 45248137809086 ┆ 9.5927e18   ┆ BasicChecking  ┆ 13657255367128 ┆ Accepted       │\n",
       "│ 681876         ┆ 82509          ┆             ┆                ┆ 26993          ┆                │\n",
       "│ 95757802083021 ┆ 12347376102245 ┆ 6.2754e18   ┆ UPlusFinPerson ┆ null           ┆ Rejected       │\n",
       "│ 68804          ┆ 873313         ┆             ┆ al             ┆                ┆                │\n",
       "│ 95757802083021 ┆ 27474286899592 ┆ 4.1345e18   ┆ BasicChecking  ┆ 13657255367128 ┆ Rejected       │\n",
       "│ 68804          ┆ 26259          ┆             ┆                ┆ 26993          ┆                │\n",
       "└────────────────┴────────────────┴─────────────┴────────────────┴────────────────┴────────────────┘"
      ]
     },
     "execution_count": 13,
     "metadata": {},
     "output_type": "execute_result"
    }
   ],
   "source": [
    "pl.read_ipc('output/hds.arrow')"
   ]
  },
  {
   "attachments": {},
   "cell_type": "markdown",
   "metadata": {
    "nbsphinx": "hidden"
   },
   "source": [
    "## Advanced: Hash fuctions\n",
    "\n",
    "By default, we use [the same hashing algorithm Polars](https://pola-rs.github.io/polars/py-polars/html/reference/expressions/api/polars.Expr.hash.html#polars.Expr.hash) uses: [xxhash](https://github.com/Cyan4973/xxHash), as implemented [here](https://github.com/pola-rs/polars/blob/3f287f370b3c388ed2f3f218b2c096382548136f/polars/polars-core/src/vector_hasher.rs#L266). xxhash is fast to compute, and you can check its performance in collision, dispersion and randomness [here](https://github.com/Cyan4973/xxHash/tree/dev/tests). \n",
    "\n",
    "xxhash accepts four distinct seeds, but by default we set the seeds to `0`. It is possible to set the `seed` argument of the `process()` function to `'random'`, which will set all four seeds to a random integer between `0` and `1000000000`. Alternatively, it is possible to supply the four seeds manually with arguments `seed`, `seed_1`, `seed_2` and `seed_3`. \n",
    "\n",
    "If the xxhash with (random) seed(s) is not deemed sufficiently secure, it is possible to use your own hashing algorithm.\n",
    "\n",
    "Note that since we're now running python code and not native Polars code anymore, this will be _significantly_ slower. Nonetheless, it is possible.\n",
    "\n",
    "Just as an example - this is how one would use sha3_256:"
   ]
  },
  {
   "cell_type": "code",
   "execution_count": 14,
   "metadata": {
    "execution": {
     "iopub.execute_input": "2024-06-18T11:54:45.723033Z",
     "iopub.status.busy": "2024-06-18T11:54:45.722642Z",
     "iopub.status.idle": "2024-06-18T11:54:46.041926Z",
     "shell.execute_reply": "2024-06-18T11:54:46.041443Z"
    },
    "nbsphinx": "hidden"
   },
   "outputs": [
    {
     "name": "stderr",
     "output_type": "stream",
     "text": [
      "sys:1: MapWithoutReturnDtypeWarning:\n",
      "\n",
      "Calling `map_elements` without specifying `return_dtype` can lead to unpredictable results. Specify `return_dtype` to silence this warning.\n",
      "\n",
      "sys:1: MapWithoutReturnDtypeWarning:\n",
      "\n",
      "Calling `map_elements` without specifying `return_dtype` can lead to unpredictable results. Specify `return_dtype` to silence this warning.\n",
      "\n",
      "sys:1: MapWithoutReturnDtypeWarning:\n",
      "\n",
      "Calling `map_elements` without specifying `return_dtype` can lead to unpredictable results. Specify `return_dtype` to silence this warning.\n",
      "\n",
      "sys:1: MapWithoutReturnDtypeWarning:\n",
      "\n",
      "Calling `map_elements` without specifying `return_dtype` can lead to unpredictable results. Specify `return_dtype` to silence this warning.\n",
      "\n"
     ]
    },
    {
     "ename": "ComputeError",
     "evalue": "AttributeError: 'int' object has no attribute 'encode'",
     "output_type": "error",
     "traceback": [
      "\u001b[0;31m---------------------------------------------------------------------------\u001b[0m",
      "\u001b[0;31mComputeError\u001b[0m                              Traceback (most recent call last)",
      "Cell \u001b[0;32mIn[14], line 3\u001b[0m\n\u001b[1;32m      1\u001b[0m \u001b[38;5;28;01mfrom\u001b[39;00m \u001b[38;5;21;01mhashlib\u001b[39;00m \u001b[38;5;28;01mimport\u001b[39;00m sha3_256\n\u001b[0;32m----> 3\u001b[0m \u001b[43manon\u001b[49m\u001b[38;5;241;43m.\u001b[39;49m\u001b[43mprocess\u001b[49m\u001b[43m(\u001b[49m\u001b[43malgorithm\u001b[49m\u001b[38;5;241;43m=\u001b[39;49m\u001b[38;5;28;43;01mlambda\u001b[39;49;00m\u001b[43m \u001b[49m\u001b[43mx\u001b[49m\u001b[43m:\u001b[49m\u001b[43m \u001b[49m\u001b[43msha3_256\u001b[49m\u001b[43m(\u001b[49m\u001b[43mx\u001b[49m\u001b[38;5;241;43m.\u001b[39;49m\u001b[43mencode\u001b[49m\u001b[43m(\u001b[49m\u001b[43m)\u001b[49m\u001b[43m)\u001b[49m\u001b[38;5;241;43m.\u001b[39;49m\u001b[43mhexdigest\u001b[49m\u001b[43m(\u001b[49m\u001b[43m)\u001b[49m\u001b[43m)\u001b[49m\n",
      "File \u001b[0;32m~/work/pega-datascientist-tools/pega-datascientist-tools/python/docs/source/articles/../../../pdstools/utils/hds_utils.py:512\u001b[0m, in \u001b[0;36mDataAnonymization.process\u001b[0;34m(self, strategy, **kwargs)\u001b[0m\n\u001b[1;32m    510\u001b[0m df \u001b[38;5;241m=\u001b[39m df\u001b[38;5;241m.\u001b[39mselect(\u001b[38;5;28mself\u001b[39m\u001b[38;5;241m.\u001b[39mcolumn_mapping\u001b[38;5;241m.\u001b[39mkeys())\u001b[38;5;241m.\u001b[39mrename(\u001b[38;5;28mself\u001b[39m\u001b[38;5;241m.\u001b[39mcolumn_mapping)\n\u001b[1;32m    511\u001b[0m \u001b[38;5;28;01mif\u001b[39;00m strategy \u001b[38;5;241m==\u001b[39m \u001b[38;5;124m\"\u001b[39m\u001b[38;5;124meager\u001b[39m\u001b[38;5;124m\"\u001b[39m:\n\u001b[0;32m--> 512\u001b[0m     \u001b[38;5;28;01mreturn\u001b[39;00m \u001b[43mdf\u001b[49m\u001b[38;5;241;43m.\u001b[39;49m\u001b[43mcollect\u001b[49m\u001b[43m(\u001b[49m\u001b[43m)\u001b[49m\n\u001b[1;32m    513\u001b[0m \u001b[38;5;28;01mreturn\u001b[39;00m df\n",
      "File \u001b[0;32m/opt/hostedtoolcache/Python/3.11.9/x64/lib/python3.11/site-packages/polars/lazyframe/frame.py:1967\u001b[0m, in \u001b[0;36mLazyFrame.collect\u001b[0;34m(self, type_coercion, predicate_pushdown, projection_pushdown, simplify_expression, slice_pushdown, comm_subplan_elim, comm_subexpr_elim, cluster_with_columns, no_optimization, streaming, background, _eager, **_kwargs)\u001b[0m\n\u001b[1;32m   1964\u001b[0m \u001b[38;5;66;03m# Only for testing purposes atm.\u001b[39;00m\n\u001b[1;32m   1965\u001b[0m callback \u001b[38;5;241m=\u001b[39m _kwargs\u001b[38;5;241m.\u001b[39mget(\u001b[38;5;124m\"\u001b[39m\u001b[38;5;124mpost_opt_callback\u001b[39m\u001b[38;5;124m\"\u001b[39m)\n\u001b[0;32m-> 1967\u001b[0m \u001b[38;5;28;01mreturn\u001b[39;00m wrap_df(\u001b[43mldf\u001b[49m\u001b[38;5;241;43m.\u001b[39;49m\u001b[43mcollect\u001b[49m\u001b[43m(\u001b[49m\u001b[43mcallback\u001b[49m\u001b[43m)\u001b[49m)\n",
      "\u001b[0;31mComputeError\u001b[0m: AttributeError: 'int' object has no attribute 'encode'"
     ]
    }
   ],
   "source": [
    "from hashlib import sha3_256\n",
    "\n",
    "anon.process(algorithm=lambda x: sha3_256(x.encode()).hexdigest())"
   ]
  }
 ],
 "metadata": {
  "kernelspec": {
   "display_name": "Python 3",
   "language": "python",
   "name": "python3"
  },
  "language_info": {
   "codemirror_mode": {
    "name": "ipython",
    "version": 3
   },
   "file_extension": ".py",
   "mimetype": "text/x-python",
   "name": "python",
   "nbconvert_exporter": "python",
   "pygments_lexer": "ipython3",
   "version": "3.11.9"
  },
  "vscode": {
   "interpreter": {
    "hash": "aee8b7b246df8f9039afb4144a1f6fd8d2ca17a180786b69acc140d282b71a49"
   }
  }
 },
 "nbformat": 4,
 "nbformat_minor": 2
}
