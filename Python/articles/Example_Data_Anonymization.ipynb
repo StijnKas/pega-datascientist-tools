{
 "cells": [
  {
   "attachments": {},
   "cell_type": "markdown",
   "metadata": {},
   "source": [
    "# Data Anonymization\n",
    "\n",
    "In Pega CDH 8.5 and up, it's now possible to record the historical data as seen by the Adaptive Models. See [this academy challenge](https://academy.pega.com/challenge/exporting-historical-data/v4) for reference. This historical data can be further used to experiment with offline models, but also to fine-tune the OOTB Gradient Boosting model. However, sharing this information with Pega can be sensitive as it contains raw predictor data. \n",
    "\n",
    "To this end, we provide a simple and transparent script to fully anonimize this dataset.\n",
    "\n",
    "The DataAnonymization script is now part of pdstools, and you can import it directly as such."
   ]
  },
  {
   "cell_type": "code",
   "execution_count": 1,
   "metadata": {
    "execution": {
     "iopub.execute_input": "2024-05-17T12:22:10.096595Z",
     "iopub.status.busy": "2024-05-17T12:22:10.096228Z",
     "iopub.status.idle": "2024-05-17T12:22:10.167300Z",
     "shell.execute_reply": "2024-05-17T12:22:10.166750Z"
    },
    "nbsphinx": "hidden"
   },
   "outputs": [],
   "source": [
    "# These lines are only for rendering in the docs, and are hidden through Jupyter tags\n",
    "# Do not run if you're running the notebook seperately\n",
    "\n",
    "import os  \n",
    "import sys\n",
    "import plotly.io as pio\n",
    "pio.renderers.default = \"notebook_connected\"\n",
    "\n",
    "sys.path.append(\"../../../\")\n",
    "sys.path.append('../../python')"
   ]
  },
  {
   "cell_type": "code",
   "execution_count": 2,
   "metadata": {
    "execution": {
     "iopub.execute_input": "2024-05-17T12:22:10.169341Z",
     "iopub.status.busy": "2024-05-17T12:22:10.169036Z",
     "iopub.status.idle": "2024-05-17T12:22:11.160228Z",
     "shell.execute_reply": "2024-05-17T12:22:11.159615Z"
    }
   },
   "outputs": [],
   "source": [
    "from pdstools import ADMDatamart\n",
    "from pdstools import Config, DataAnonymization\n",
    "import polars as pl"
   ]
  },
  {
   "attachments": {},
   "cell_type": "markdown",
   "metadata": {},
   "source": [
    "## Input data\n",
    "\n",
    "To demonstrate this process, we're going to anonymise this toy example dataframe:"
   ]
  },
  {
   "cell_type": "code",
   "execution_count": 3,
   "metadata": {
    "execution": {
     "iopub.execute_input": "2024-05-17T12:22:11.163022Z",
     "iopub.status.busy": "2024-05-17T12:22:11.162606Z",
     "iopub.status.idle": "2024-05-17T12:22:11.171616Z",
     "shell.execute_reply": "2024-05-17T12:22:11.171145Z"
    }
   },
   "outputs": [
    {
     "data": {
      "text/html": [
       "<div><style>\n",
       ".dataframe > thead > tr,\n",
       ".dataframe > tbody > tr {\n",
       "  text-align: right;\n",
       "  white-space: pre-wrap;\n",
       "}\n",
       "</style>\n",
       "<small>shape: (7, 6)</small><table border=\"1\" class=\"dataframe\"><thead><tr><th>Context_Name</th><th>Customer_MaritalStatus</th><th>Customer_CLV</th><th>Customer_City</th><th>IH_Web_Inbound_Accepted_pxLastGroupID</th><th>Decision_Outcome</th></tr><tr><td>str</td><td>str</td><td>i64</td><td>str</td><td>str</td><td>str</td></tr></thead><tbody><tr><td>&quot;FirstMortgage30yr&quot;</td><td>&quot;Married&quot;</td><td>1460</td><td>&quot;Port Raoul&quot;</td><td>&quot;Account&quot;</td><td>&quot;Rejected&quot;</td></tr><tr><td>&quot;FirstMortgage30yr&quot;</td><td>&quot;Unknown&quot;</td><td>669</td><td>&quot;Laurianneshire&quot;</td><td>&quot;AutoLoans&quot;</td><td>&quot;Accepted&quot;</td></tr><tr><td>&quot;MoneyMarketSavingsAccount&quot;</td><td>&quot;No Resp+&quot;</td><td>1174</td><td>&quot;Jacobshaven&quot;</td><td>&quot;Account&quot;</td><td>&quot;Rejected&quot;</td></tr><tr><td>&quot;BasicChecking&quot;</td><td>&quot;Unknown&quot;</td><td>1476</td><td>&quot;Lindton&quot;</td><td>&quot;Account&quot;</td><td>&quot;Rejected&quot;</td></tr><tr><td>&quot;BasicChecking&quot;</td><td>&quot;Married&quot;</td><td>1211</td><td>&quot;South Jimmieshire&quot;</td><td>&quot;DepositAccounts&quot;</td><td>&quot;Accepted&quot;</td></tr><tr><td>&quot;UPlusFinPersonal&quot;</td><td>&quot;No Resp+&quot;</td><td>533</td><td>&quot;Bergeville&quot;</td><td>null</td><td>&quot;Rejected&quot;</td></tr><tr><td>&quot;BasicChecking&quot;</td><td>&quot;No Resp+&quot;</td><td>555</td><td>&quot;Willyville&quot;</td><td>&quot;DepositAccounts&quot;</td><td>&quot;Rejected&quot;</td></tr></tbody></table></div>"
      ],
      "text/plain": [
       "shape: (7, 6)\n",
       "┌────────────────┬────────────────┬──────────────┬────────────────┬────────────────┬───────────────┐\n",
       "│ Context_Name   ┆ Customer_Marit ┆ Customer_CLV ┆ Customer_City  ┆ IH_Web_Inbound ┆ Decision_Outc │\n",
       "│ ---            ┆ alStatus       ┆ ---          ┆ ---            ┆ _Accepted_pxLa ┆ ome           │\n",
       "│ str            ┆ ---            ┆ i64          ┆ str            ┆ st…            ┆ ---           │\n",
       "│                ┆ str            ┆              ┆                ┆ ---            ┆ str           │\n",
       "│                ┆                ┆              ┆                ┆ str            ┆               │\n",
       "╞════════════════╪════════════════╪══════════════╪════════════════╪════════════════╪═══════════════╡\n",
       "│ FirstMortgage3 ┆ Married        ┆ 1460         ┆ Port Raoul     ┆ Account        ┆ Rejected      │\n",
       "│ 0yr            ┆                ┆              ┆                ┆                ┆               │\n",
       "│ FirstMortgage3 ┆ Unknown        ┆ 669          ┆ Laurianneshire ┆ AutoLoans      ┆ Accepted      │\n",
       "│ 0yr            ┆                ┆              ┆                ┆                ┆               │\n",
       "│ MoneyMarketSav ┆ No Resp+       ┆ 1174         ┆ Jacobshaven    ┆ Account        ┆ Rejected      │\n",
       "│ ingsAccount    ┆                ┆              ┆                ┆                ┆               │\n",
       "│ BasicChecking  ┆ Unknown        ┆ 1476         ┆ Lindton        ┆ Account        ┆ Rejected      │\n",
       "│ BasicChecking  ┆ Married        ┆ 1211         ┆ South          ┆ DepositAccount ┆ Accepted      │\n",
       "│                ┆                ┆              ┆ Jimmieshire    ┆ s              ┆               │\n",
       "│ UPlusFinPerson ┆ No Resp+       ┆ 533          ┆ Bergeville     ┆ null           ┆ Rejected      │\n",
       "│ al             ┆                ┆              ┆                ┆                ┆               │\n",
       "│ BasicChecking  ┆ No Resp+       ┆ 555          ┆ Willyville     ┆ DepositAccount ┆ Rejected      │\n",
       "│                ┆                ┆              ┆                ┆ s              ┆               │\n",
       "└────────────────┴────────────────┴──────────────┴────────────────┴────────────────┴───────────────┘"
      ]
     },
     "execution_count": 3,
     "metadata": {},
     "output_type": "execute_result"
    }
   ],
   "source": [
    "pl.read_ndjson('../../../../data/SampleHDS.json')"
   ]
  },
  {
   "attachments": {},
   "cell_type": "markdown",
   "metadata": {},
   "source": [
    "As you can see, this dataset consists of regular predictors, IH predictors, context keys and the outcome column. Additionally, some columns are numeric, others are strings. Let's first initialize the DataAnonymization class."
   ]
  },
  {
   "cell_type": "code",
   "execution_count": 4,
   "metadata": {
    "execution": {
     "iopub.execute_input": "2024-05-17T12:22:11.173839Z",
     "iopub.status.busy": "2024-05-17T12:22:11.173510Z",
     "iopub.status.idle": "2024-05-17T12:22:11.182815Z",
     "shell.execute_reply": "2024-05-17T12:22:11.182411Z"
    }
   },
   "outputs": [],
   "source": [
    "anon = DataAnonymization(hds_folder='../../../../data/')"
   ]
  },
  {
   "attachments": {},
   "cell_type": "markdown",
   "metadata": {},
   "source": [
    "By default, the class applies a set of anonymisation techniques:\n",
    "- Column names are remapped to a non-descriptive name\n",
    "- Categorical values are hashed with a random seed\n",
    "- Numerical values are normalized between 0 and 1\n",
    "- Outcomes are mapped to a binary outcome.\n",
    "\n",
    "To apply these techniques, simply call `.process()`:"
   ]
  },
  {
   "cell_type": "code",
   "execution_count": 5,
   "metadata": {
    "execution": {
     "iopub.execute_input": "2024-05-17T12:22:11.184817Z",
     "iopub.status.busy": "2024-05-17T12:22:11.184487Z",
     "iopub.status.idle": "2024-05-17T12:22:11.189859Z",
     "shell.execute_reply": "2024-05-17T12:22:11.189320Z"
    }
   },
   "outputs": [
    {
     "data": {
      "text/html": [
       "<div><style>\n",
       ".dataframe > thead > tr,\n",
       ".dataframe > tbody > tr {\n",
       "  text-align: right;\n",
       "  white-space: pre-wrap;\n",
       "}\n",
       "</style>\n",
       "<small>shape: (7, 7)</small><table border=\"1\" class=\"dataframe\"><thead><tr><th>PREDICTOR_0</th><th>PREDICTOR_1</th><th>PREDICTOR_2</th><th>filename</th><th>Context_Name</th><th>IH_PREDICTOR_0</th><th>Decision_Outcome</th></tr><tr><td>str</td><td>str</td><td>f64</td><td>str</td><td>str</td><td>str</td><td>bool</td></tr></thead><tbody><tr><td>&quot;15128386783610400428&quot;</td><td>&quot;14904047005973763827&quot;</td><td>1.0478e18</td><td>&quot;../../../../data/SampleHDS.jso…</td><td>&quot;431429164890461189&quot;</td><td>&quot;8350824916825971131&quot;</td><td>false</td></tr><tr><td>&quot;442276805140003574&quot;</td><td>&quot;2310988936302560128&quot;</td><td>1.1737e19</td><td>&quot;../../../../data/SampleHDS.jso…</td><td>&quot;431429164890461189&quot;</td><td>&quot;2393804384196280001&quot;</td><td>true</td></tr><tr><td>&quot;1798927304730299411&quot;</td><td>&quot;7460695131425925965&quot;</td><td>1.6409e19</td><td>&quot;../../../../data/SampleHDS.jso…</td><td>&quot;6927954986707063009&quot;</td><td>&quot;8350824916825971131&quot;</td><td>false</td></tr><tr><td>&quot;442276805140003574&quot;</td><td>&quot;18095773661977127584&quot;</td><td>1.3266e19</td><td>&quot;../../../../data/SampleHDS.jso…</td><td>&quot;3602085178320060768&quot;</td><td>&quot;8350824916825971131&quot;</td><td>false</td></tr><tr><td>&quot;15128386783610400428&quot;</td><td>&quot;18363049598776861194&quot;</td><td>3.3553e18</td><td>&quot;../../../../data/SampleHDS.jso…</td><td>&quot;3602085178320060768&quot;</td><td>&quot;18105090119304563582&quot;</td><td>true</td></tr><tr><td>&quot;1798927304730299411&quot;</td><td>&quot;16826739054097183027&quot;</td><td>1.2817e19</td><td>&quot;../../../../data/SampleHDS.jso…</td><td>&quot;16811186771056360201&quot;</td><td>null</td><td>false</td></tr><tr><td>&quot;1798927304730299411&quot;</td><td>&quot;1245122812748066701&quot;</td><td>1.3382e19</td><td>&quot;../../../../data/SampleHDS.jso…</td><td>&quot;3602085178320060768&quot;</td><td>&quot;18105090119304563582&quot;</td><td>false</td></tr></tbody></table></div>"
      ],
      "text/plain": [
       "shape: (7, 7)\n",
       "┌──────────────┬─────────────┬─────────────┬─────────────┬─────────────┬─────────────┬─────────────┐\n",
       "│ PREDICTOR_0  ┆ PREDICTOR_1 ┆ PREDICTOR_2 ┆ filename    ┆ Context_Nam ┆ IH_PREDICTO ┆ Decision_Ou │\n",
       "│ ---          ┆ ---         ┆ ---         ┆ ---         ┆ e           ┆ R_0         ┆ tcome       │\n",
       "│ str          ┆ str         ┆ f64         ┆ str         ┆ ---         ┆ ---         ┆ ---         │\n",
       "│              ┆             ┆             ┆             ┆ str         ┆ str         ┆ bool        │\n",
       "╞══════════════╪═════════════╪═════════════╪═════════════╪═════════════╪═════════════╪═════════════╡\n",
       "│ 151283867836 ┆ 14904047005 ┆ 1.0478e18   ┆ ../../../.. ┆ 43142916489 ┆ 83508249168 ┆ false       │\n",
       "│ 10400428     ┆ 973763827   ┆             ┆ /data/Sampl ┆ 0461189     ┆ 25971131    ┆             │\n",
       "│              ┆             ┆             ┆ eHDS.jso…   ┆             ┆             ┆             │\n",
       "│ 442276805140 ┆ 23109889363 ┆ 1.1737e19   ┆ ../../../.. ┆ 43142916489 ┆ 23938043841 ┆ true        │\n",
       "│ 003574       ┆ 02560128    ┆             ┆ /data/Sampl ┆ 0461189     ┆ 96280001    ┆             │\n",
       "│              ┆             ┆             ┆ eHDS.jso…   ┆             ┆             ┆             │\n",
       "│ 179892730473 ┆ 74606951314 ┆ 1.6409e19   ┆ ../../../.. ┆ 69279549867 ┆ 83508249168 ┆ false       │\n",
       "│ 0299411      ┆ 25925965    ┆             ┆ /data/Sampl ┆ 07063009    ┆ 25971131    ┆             │\n",
       "│              ┆             ┆             ┆ eHDS.jso…   ┆             ┆             ┆             │\n",
       "│ 442276805140 ┆ 18095773661 ┆ 1.3266e19   ┆ ../../../.. ┆ 36020851783 ┆ 83508249168 ┆ false       │\n",
       "│ 003574       ┆ 977127584   ┆             ┆ /data/Sampl ┆ 20060768    ┆ 25971131    ┆             │\n",
       "│              ┆             ┆             ┆ eHDS.jso…   ┆             ┆             ┆             │\n",
       "│ 151283867836 ┆ 18363049598 ┆ 3.3553e18   ┆ ../../../.. ┆ 36020851783 ┆ 18105090119 ┆ true        │\n",
       "│ 10400428     ┆ 776861194   ┆             ┆ /data/Sampl ┆ 20060768    ┆ 304563582   ┆             │\n",
       "│              ┆             ┆             ┆ eHDS.jso…   ┆             ┆             ┆             │\n",
       "│ 179892730473 ┆ 16826739054 ┆ 1.2817e19   ┆ ../../../.. ┆ 16811186771 ┆ null        ┆ false       │\n",
       "│ 0299411      ┆ 097183027   ┆             ┆ /data/Sampl ┆ 056360201   ┆             ┆             │\n",
       "│              ┆             ┆             ┆ eHDS.jso…   ┆             ┆             ┆             │\n",
       "│ 179892730473 ┆ 12451228127 ┆ 1.3382e19   ┆ ../../../.. ┆ 36020851783 ┆ 18105090119 ┆ false       │\n",
       "│ 0299411      ┆ 48066701    ┆             ┆ /data/Sampl ┆ 20060768    ┆ 304563582   ┆             │\n",
       "│              ┆             ┆             ┆ eHDS.jso…   ┆             ┆             ┆             │\n",
       "└──────────────┴─────────────┴─────────────┴─────────────┴─────────────┴─────────────┴─────────────┘"
      ]
     },
     "execution_count": 5,
     "metadata": {},
     "output_type": "execute_result"
    }
   ],
   "source": [
    "anon.process()"
   ]
  },
  {
   "attachments": {},
   "cell_type": "markdown",
   "metadata": {},
   "source": [
    "To trace back the columns to their original names, the class also contains a mapping, which does not have to be provided."
   ]
  },
  {
   "cell_type": "code",
   "execution_count": 6,
   "metadata": {
    "execution": {
     "iopub.execute_input": "2024-05-17T12:22:11.192037Z",
     "iopub.status.busy": "2024-05-17T12:22:11.191700Z",
     "iopub.status.idle": "2024-05-17T12:22:11.195390Z",
     "shell.execute_reply": "2024-05-17T12:22:11.194821Z"
    }
   },
   "outputs": [
    {
     "data": {
      "text/plain": [
       "{'Customer_MaritalStatus': 'PREDICTOR_0',\n",
       " 'Customer_City': 'PREDICTOR_1',\n",
       " 'Customer_CLV': 'PREDICTOR_2',\n",
       " 'filename': 'filename',\n",
       " 'Context_Name': 'Context_Name',\n",
       " 'IH_Web_Inbound_Accepted_pxLastGroupID': 'IH_PREDICTOR_0',\n",
       " 'Decision_Outcome': 'Decision_Outcome'}"
      ]
     },
     "execution_count": 6,
     "metadata": {},
     "output_type": "execute_result"
    }
   ],
   "source": [
    "anon.column_mapping"
   ]
  },
  {
   "attachments": {},
   "cell_type": "markdown",
   "metadata": {},
   "source": [
    "## Configs\n",
    "\n",
    "Each capability can optionally be turned off - see below for the full list of config options, and refer to the API reference for the full description."
   ]
  },
  {
   "cell_type": "code",
   "execution_count": 7,
   "metadata": {
    "execution": {
     "iopub.execute_input": "2024-05-17T12:22:11.197439Z",
     "iopub.status.busy": "2024-05-17T12:22:11.197024Z",
     "iopub.status.idle": "2024-05-17T12:22:11.201190Z",
     "shell.execute_reply": "2024-05-17T12:22:11.200662Z"
    }
   },
   "outputs": [
    {
     "data": {
      "text/plain": [
       "{'config_file': None,\n",
       " 'hds_folder': '.',\n",
       " 'use_datamart': False,\n",
       " 'datamart_folder': 'datamart',\n",
       " 'output_format': 'ndjson',\n",
       " 'output_folder': 'output',\n",
       " 'mapping_file': 'mapping.map',\n",
       " 'mask_predictor_names': True,\n",
       " 'mask_context_key_names': False,\n",
       " 'mask_ih_names': True,\n",
       " 'mask_outcome_name': False,\n",
       " 'mask_predictor_values': True,\n",
       " 'mask_context_key_values': True,\n",
       " 'mask_ih_values': True,\n",
       " 'mask_outcome_values': True,\n",
       " 'context_key_label': 'Context_*',\n",
       " 'ih_label': 'IH_*',\n",
       " 'outcome_column': 'Decision_Outcome',\n",
       " 'positive_outcomes': ['Accepted', 'Clicked'],\n",
       " 'negative_outcomes': ['Rejected', 'Impression'],\n",
       " 'special_predictors': ['Decision_DecisionTime',\n",
       "  'Decision_OutcomeTime',\n",
       "  'Decision_Rank'],\n",
       " 'sample_percentage_schema_inferencing': 0.01}"
      ]
     },
     "execution_count": 7,
     "metadata": {},
     "output_type": "execute_result"
    }
   ],
   "source": [
    "dict(zip(Config.__init__.__code__.co_varnames[1:], Config.__init__.__defaults__))"
   ]
  },
  {
   "attachments": {},
   "cell_type": "markdown",
   "metadata": {},
   "source": [
    "It's easy to change these parameters by just passing the keyword arguments. In the following example, we\n",
    "- Keep the IH predictor names\n",
    "- Keep the outcome values\n",
    "- Keep the context key values\n",
    "- Keep the context key predictor names"
   ]
  },
  {
   "cell_type": "code",
   "execution_count": 8,
   "metadata": {
    "execution": {
     "iopub.execute_input": "2024-05-17T12:22:11.203148Z",
     "iopub.status.busy": "2024-05-17T12:22:11.202846Z",
     "iopub.status.idle": "2024-05-17T12:22:11.210540Z",
     "shell.execute_reply": "2024-05-17T12:22:11.210035Z"
    }
   },
   "outputs": [
    {
     "data": {
      "text/html": [
       "<div><style>\n",
       ".dataframe > thead > tr,\n",
       ".dataframe > tbody > tr {\n",
       "  text-align: right;\n",
       "  white-space: pre-wrap;\n",
       "}\n",
       "</style>\n",
       "<small>shape: (7, 7)</small><table border=\"1\" class=\"dataframe\"><thead><tr><th>PREDICTOR_0</th><th>PREDICTOR_1</th><th>PREDICTOR_2</th><th>filename</th><th>Context_Name</th><th>IH_Web_Inbound_Accepted_pxLastGroupID</th><th>Decision_Outcome</th></tr><tr><td>str</td><td>str</td><td>f64</td><td>str</td><td>str</td><td>str</td><td>str</td></tr></thead><tbody><tr><td>&quot;670557626058934808&quot;</td><td>&quot;10288292485256187716&quot;</td><td>1.3116e19</td><td>&quot;../../../../data/SampleHDS.jso…</td><td>&quot;FirstMortgage30yr&quot;</td><td>&quot;866140233526014703&quot;</td><td>&quot;Rejected&quot;</td></tr><tr><td>&quot;5850558693346106391&quot;</td><td>&quot;16741978433881023045&quot;</td><td>6.3209e18</td><td>&quot;../../../../data/SampleHDS.jso…</td><td>&quot;FirstMortgage30yr&quot;</td><td>&quot;17089285705642195773&quot;</td><td>&quot;Accepted&quot;</td></tr><tr><td>&quot;2315346365847169022&quot;</td><td>&quot;4702590790846564255&quot;</td><td>3.3727e18</td><td>&quot;../../../../data/SampleHDS.jso…</td><td>&quot;MoneyMarketSavingsAccount&quot;</td><td>&quot;866140233526014703&quot;</td><td>&quot;Rejected&quot;</td></tr><tr><td>&quot;5850558693346106391&quot;</td><td>&quot;583273369182336875&quot;</td><td>1.0667e19</td><td>&quot;../../../../data/SampleHDS.jso…</td><td>&quot;BasicChecking&quot;</td><td>&quot;866140233526014703&quot;</td><td>&quot;Rejected&quot;</td></tr><tr><td>&quot;670557626058934808&quot;</td><td>&quot;9039203270551688166&quot;</td><td>1.3752e19</td><td>&quot;../../../../data/SampleHDS.jso…</td><td>&quot;BasicChecking&quot;</td><td>&quot;8406541023126081662&quot;</td><td>&quot;Accepted&quot;</td></tr><tr><td>&quot;2315346365847169022&quot;</td><td>&quot;921061475956714942&quot;</td><td>1.7741e19</td><td>&quot;../../../../data/SampleHDS.jso…</td><td>&quot;UPlusFinPersonal&quot;</td><td>null</td><td>&quot;Rejected&quot;</td></tr><tr><td>&quot;2315346365847169022&quot;</td><td>&quot;6574963661835677873&quot;</td><td>2.1310e18</td><td>&quot;../../../../data/SampleHDS.jso…</td><td>&quot;BasicChecking&quot;</td><td>&quot;8406541023126081662&quot;</td><td>&quot;Rejected&quot;</td></tr></tbody></table></div>"
      ],
      "text/plain": [
       "shape: (7, 7)\n",
       "┌──────────────┬─────────────┬─────────────┬─────────────┬─────────────┬─────────────┬─────────────┐\n",
       "│ PREDICTOR_0  ┆ PREDICTOR_1 ┆ PREDICTOR_2 ┆ filename    ┆ Context_Nam ┆ IH_Web_Inbo ┆ Decision_Ou │\n",
       "│ ---          ┆ ---         ┆ ---         ┆ ---         ┆ e           ┆ und_Accepte ┆ tcome       │\n",
       "│ str          ┆ str         ┆ f64         ┆ str         ┆ ---         ┆ d_pxLast…   ┆ ---         │\n",
       "│              ┆             ┆             ┆             ┆ str         ┆ ---         ┆ str         │\n",
       "│              ┆             ┆             ┆             ┆             ┆ str         ┆             │\n",
       "╞══════════════╪═════════════╪═════════════╪═════════════╪═════════════╪═════════════╪═════════════╡\n",
       "│ 670557626058 ┆ 10288292485 ┆ 1.3116e19   ┆ ../../../.. ┆ FirstMortga ┆ 86614023352 ┆ Rejected    │\n",
       "│ 934808       ┆ 256187716   ┆             ┆ /data/Sampl ┆ ge30yr      ┆ 6014703     ┆             │\n",
       "│              ┆             ┆             ┆ eHDS.jso…   ┆             ┆             ┆             │\n",
       "│ 585055869334 ┆ 16741978433 ┆ 6.3209e18   ┆ ../../../.. ┆ FirstMortga ┆ 17089285705 ┆ Accepted    │\n",
       "│ 6106391      ┆ 881023045   ┆             ┆ /data/Sampl ┆ ge30yr      ┆ 642195773   ┆             │\n",
       "│              ┆             ┆             ┆ eHDS.jso…   ┆             ┆             ┆             │\n",
       "│ 231534636584 ┆ 47025907908 ┆ 3.3727e18   ┆ ../../../.. ┆ MoneyMarket ┆ 86614023352 ┆ Rejected    │\n",
       "│ 7169022      ┆ 46564255    ┆             ┆ /data/Sampl ┆ SavingsAcco ┆ 6014703     ┆             │\n",
       "│              ┆             ┆             ┆ eHDS.jso…   ┆ unt         ┆             ┆             │\n",
       "│ 585055869334 ┆ 58327336918 ┆ 1.0667e19   ┆ ../../../.. ┆ BasicChecki ┆ 86614023352 ┆ Rejected    │\n",
       "│ 6106391      ┆ 2336875     ┆             ┆ /data/Sampl ┆ ng          ┆ 6014703     ┆             │\n",
       "│              ┆             ┆             ┆ eHDS.jso…   ┆             ┆             ┆             │\n",
       "│ 670557626058 ┆ 90392032705 ┆ 1.3752e19   ┆ ../../../.. ┆ BasicChecki ┆ 84065410231 ┆ Accepted    │\n",
       "│ 934808       ┆ 51688166    ┆             ┆ /data/Sampl ┆ ng          ┆ 26081662    ┆             │\n",
       "│              ┆             ┆             ┆ eHDS.jso…   ┆             ┆             ┆             │\n",
       "│ 231534636584 ┆ 92106147595 ┆ 1.7741e19   ┆ ../../../.. ┆ UPlusFinPer ┆ null        ┆ Rejected    │\n",
       "│ 7169022      ┆ 6714942     ┆             ┆ /data/Sampl ┆ sonal       ┆             ┆             │\n",
       "│              ┆             ┆             ┆ eHDS.jso…   ┆             ┆             ┆             │\n",
       "│ 231534636584 ┆ 65749636618 ┆ 2.1310e18   ┆ ../../../.. ┆ BasicChecki ┆ 84065410231 ┆ Rejected    │\n",
       "│ 7169022      ┆ 35677873    ┆             ┆ /data/Sampl ┆ ng          ┆ 26081662    ┆             │\n",
       "│              ┆             ┆             ┆ eHDS.jso…   ┆             ┆             ┆             │\n",
       "└──────────────┴─────────────┴─────────────┴─────────────┴─────────────┴─────────────┴─────────────┘"
      ]
     },
     "execution_count": 8,
     "metadata": {},
     "output_type": "execute_result"
    }
   ],
   "source": [
    "anon = DataAnonymization(\n",
    "    hds_folder=\"../../../../data/\",\n",
    "    mask_ih_names=False,\n",
    "    mask_outcome_values=False,\n",
    "    mask_context_key_values=False,\n",
    "    mask_context_key_names=False,\n",
    ")\n",
    "anon.process()\n"
   ]
  },
  {
   "attachments": {},
   "cell_type": "markdown",
   "metadata": {},
   "source": [
    "The configs can also be written and read as such:"
   ]
  },
  {
   "cell_type": "code",
   "execution_count": 9,
   "metadata": {
    "execution": {
     "iopub.execute_input": "2024-05-17T12:22:11.212621Z",
     "iopub.status.busy": "2024-05-17T12:22:11.212244Z",
     "iopub.status.idle": "2024-05-17T12:22:11.215068Z",
     "shell.execute_reply": "2024-05-17T12:22:11.214545Z"
    }
   },
   "outputs": [],
   "source": [
    "anon.config.save_to_config_file('config.json')"
   ]
  },
  {
   "cell_type": "code",
   "execution_count": 10,
   "metadata": {
    "execution": {
     "iopub.execute_input": "2024-05-17T12:22:11.217075Z",
     "iopub.status.busy": "2024-05-17T12:22:11.216690Z",
     "iopub.status.idle": "2024-05-17T12:22:11.224297Z",
     "shell.execute_reply": "2024-05-17T12:22:11.223730Z"
    }
   },
   "outputs": [
    {
     "data": {
      "text/html": [
       "<div><style>\n",
       ".dataframe > thead > tr,\n",
       ".dataframe > tbody > tr {\n",
       "  text-align: right;\n",
       "  white-space: pre-wrap;\n",
       "}\n",
       "</style>\n",
       "<small>shape: (7, 7)</small><table border=\"1\" class=\"dataframe\"><thead><tr><th>PREDICTOR_0</th><th>PREDICTOR_1</th><th>PREDICTOR_2</th><th>filename</th><th>Context_Name</th><th>IH_Web_Inbound_Accepted_pxLastGroupID</th><th>Decision_Outcome</th></tr><tr><td>str</td><td>str</td><td>f64</td><td>str</td><td>str</td><td>str</td><td>str</td></tr></thead><tbody><tr><td>&quot;5035724385132705446&quot;</td><td>&quot;14067819858754802416&quot;</td><td>6.3138e18</td><td>&quot;../../../../data/SampleHDS.jso…</td><td>&quot;FirstMortgage30yr&quot;</td><td>&quot;12216236272550620802&quot;</td><td>&quot;Rejected&quot;</td></tr><tr><td>&quot;6897197347988935628&quot;</td><td>&quot;3104638465187387018&quot;</td><td>7.0165e18</td><td>&quot;../../../../data/SampleHDS.jso…</td><td>&quot;FirstMortgage30yr&quot;</td><td>&quot;9476720508035290013&quot;</td><td>&quot;Accepted&quot;</td></tr><tr><td>&quot;13724484791412223870&quot;</td><td>&quot;9425241054616201105&quot;</td><td>1.1852e19</td><td>&quot;../../../../data/SampleHDS.jso…</td><td>&quot;MoneyMarketSavingsAccount&quot;</td><td>&quot;12216236272550620802&quot;</td><td>&quot;Rejected&quot;</td></tr><tr><td>&quot;6897197347988935628&quot;</td><td>&quot;13767019686859962108&quot;</td><td>8.5816e18</td><td>&quot;../../../../data/SampleHDS.jso…</td><td>&quot;BasicChecking&quot;</td><td>&quot;12216236272550620802&quot;</td><td>&quot;Rejected&quot;</td></tr><tr><td>&quot;5035724385132705446&quot;</td><td>&quot;17242243801687989858&quot;</td><td>1.6261e19</td><td>&quot;../../../../data/SampleHDS.jso…</td><td>&quot;BasicChecking&quot;</td><td>&quot;9499643244147099817&quot;</td><td>&quot;Accepted&quot;</td></tr><tr><td>&quot;13724484791412223870&quot;</td><td>&quot;3081796772729088134&quot;</td><td>5.5363e18</td><td>&quot;../../../../data/SampleHDS.jso…</td><td>&quot;UPlusFinPersonal&quot;</td><td>null</td><td>&quot;Rejected&quot;</td></tr><tr><td>&quot;13724484791412223870&quot;</td><td>&quot;4149622697983828247&quot;</td><td>1.0044e18</td><td>&quot;../../../../data/SampleHDS.jso…</td><td>&quot;BasicChecking&quot;</td><td>&quot;9499643244147099817&quot;</td><td>&quot;Rejected&quot;</td></tr></tbody></table></div>"
      ],
      "text/plain": [
       "shape: (7, 7)\n",
       "┌──────────────┬─────────────┬─────────────┬─────────────┬─────────────┬─────────────┬─────────────┐\n",
       "│ PREDICTOR_0  ┆ PREDICTOR_1 ┆ PREDICTOR_2 ┆ filename    ┆ Context_Nam ┆ IH_Web_Inbo ┆ Decision_Ou │\n",
       "│ ---          ┆ ---         ┆ ---         ┆ ---         ┆ e           ┆ und_Accepte ┆ tcome       │\n",
       "│ str          ┆ str         ┆ f64         ┆ str         ┆ ---         ┆ d_pxLast…   ┆ ---         │\n",
       "│              ┆             ┆             ┆             ┆ str         ┆ ---         ┆ str         │\n",
       "│              ┆             ┆             ┆             ┆             ┆ str         ┆             │\n",
       "╞══════════════╪═════════════╪═════════════╪═════════════╪═════════════╪═════════════╪═════════════╡\n",
       "│ 503572438513 ┆ 14067819858 ┆ 6.3138e18   ┆ ../../../.. ┆ FirstMortga ┆ 12216236272 ┆ Rejected    │\n",
       "│ 2705446      ┆ 754802416   ┆             ┆ /data/Sampl ┆ ge30yr      ┆ 550620802   ┆             │\n",
       "│              ┆             ┆             ┆ eHDS.jso…   ┆             ┆             ┆             │\n",
       "│ 689719734798 ┆ 31046384651 ┆ 7.0165e18   ┆ ../../../.. ┆ FirstMortga ┆ 94767205080 ┆ Accepted    │\n",
       "│ 8935628      ┆ 87387018    ┆             ┆ /data/Sampl ┆ ge30yr      ┆ 35290013    ┆             │\n",
       "│              ┆             ┆             ┆ eHDS.jso…   ┆             ┆             ┆             │\n",
       "│ 137244847914 ┆ 94252410546 ┆ 1.1852e19   ┆ ../../../.. ┆ MoneyMarket ┆ 12216236272 ┆ Rejected    │\n",
       "│ 12223870     ┆ 16201105    ┆             ┆ /data/Sampl ┆ SavingsAcco ┆ 550620802   ┆             │\n",
       "│              ┆             ┆             ┆ eHDS.jso…   ┆ unt         ┆             ┆             │\n",
       "│ 689719734798 ┆ 13767019686 ┆ 8.5816e18   ┆ ../../../.. ┆ BasicChecki ┆ 12216236272 ┆ Rejected    │\n",
       "│ 8935628      ┆ 859962108   ┆             ┆ /data/Sampl ┆ ng          ┆ 550620802   ┆             │\n",
       "│              ┆             ┆             ┆ eHDS.jso…   ┆             ┆             ┆             │\n",
       "│ 503572438513 ┆ 17242243801 ┆ 1.6261e19   ┆ ../../../.. ┆ BasicChecki ┆ 94996432441 ┆ Accepted    │\n",
       "│ 2705446      ┆ 687989858   ┆             ┆ /data/Sampl ┆ ng          ┆ 47099817    ┆             │\n",
       "│              ┆             ┆             ┆ eHDS.jso…   ┆             ┆             ┆             │\n",
       "│ 137244847914 ┆ 30817967727 ┆ 5.5363e18   ┆ ../../../.. ┆ UPlusFinPer ┆ null        ┆ Rejected    │\n",
       "│ 12223870     ┆ 29088134    ┆             ┆ /data/Sampl ┆ sonal       ┆             ┆             │\n",
       "│              ┆             ┆             ┆ eHDS.jso…   ┆             ┆             ┆             │\n",
       "│ 137244847914 ┆ 41496226979 ┆ 1.0044e18   ┆ ../../../.. ┆ BasicChecki ┆ 94996432441 ┆ Rejected    │\n",
       "│ 12223870     ┆ 83828247    ┆             ┆ /data/Sampl ┆ ng          ┆ 47099817    ┆             │\n",
       "│              ┆             ┆             ┆ eHDS.jso…   ┆             ┆             ┆             │\n",
       "└──────────────┴─────────────┴─────────────┴─────────────┴─────────────┴─────────────┴─────────────┘"
      ]
     },
     "execution_count": 10,
     "metadata": {},
     "output_type": "execute_result"
    }
   ],
   "source": [
    "anon = DataAnonymization(config=Config(config_file='config.json'))\n",
    "anon.process()"
   ]
  },
  {
   "attachments": {},
   "cell_type": "markdown",
   "metadata": {},
   "source": [
    "## Exporting\n",
    "Two functions export:\n",
    "- `create_mapping_file()` writes the mapping file of the predictor names\n",
    "- `write_to_output()` writes the processed dataframe to disk\n",
    "\n",
    "Write to output accepts the following extensions: `[\"ndjson\", \"parquet\", \"arrow\", \"csv\"]`"
   ]
  },
  {
   "cell_type": "code",
   "execution_count": 11,
   "metadata": {
    "execution": {
     "iopub.execute_input": "2024-05-17T12:22:11.226257Z",
     "iopub.status.busy": "2024-05-17T12:22:11.225946Z",
     "iopub.status.idle": "2024-05-17T12:22:11.229115Z",
     "shell.execute_reply": "2024-05-17T12:22:11.228689Z"
    }
   },
   "outputs": [
    {
     "name": "stdout",
     "output_type": "stream",
     "text": [
      "Customer_MaritalStatus=PREDICTOR_0\n",
      "Customer_City=PREDICTOR_1\n",
      "Customer_CLV=PREDICTOR_2\n",
      "filename=filename\n",
      "Context_Name=Context_Name\n",
      "IH_Web_Inbound_Accepted_pxLastGroupID=IH_Web_Inbound_Accepted_pxLastGroupID\n",
      "Decision_Outcome=Decision_Outcome\n",
      "\n"
     ]
    }
   ],
   "source": [
    "anon.create_mapping_file()\n",
    "with open('mapping.map') as f:\n",
    "    print(f.read())"
   ]
  },
  {
   "cell_type": "code",
   "execution_count": 12,
   "metadata": {
    "execution": {
     "iopub.execute_input": "2024-05-17T12:22:11.231040Z",
     "iopub.status.busy": "2024-05-17T12:22:11.230728Z",
     "iopub.status.idle": "2024-05-17T12:22:11.234032Z",
     "shell.execute_reply": "2024-05-17T12:22:11.233593Z"
    }
   },
   "outputs": [],
   "source": [
    "anon.write_to_output(ext='arrow')"
   ]
  },
  {
   "cell_type": "code",
   "execution_count": 13,
   "metadata": {
    "execution": {
     "iopub.execute_input": "2024-05-17T12:22:11.236088Z",
     "iopub.status.busy": "2024-05-17T12:22:11.235761Z",
     "iopub.status.idle": "2024-05-17T12:22:11.240023Z",
     "shell.execute_reply": "2024-05-17T12:22:11.239591Z"
    }
   },
   "outputs": [
    {
     "data": {
      "text/html": [
       "<div><style>\n",
       ".dataframe > thead > tr,\n",
       ".dataframe > tbody > tr {\n",
       "  text-align: right;\n",
       "  white-space: pre-wrap;\n",
       "}\n",
       "</style>\n",
       "<small>shape: (7, 6)</small><table border=\"1\" class=\"dataframe\"><thead><tr><th>PREDICTOR_0</th><th>PREDICTOR_1</th><th>PREDICTOR_2</th><th>Context_Name</th><th>IH_Web_Inbound_Accepted_pxLastGroupID</th><th>Decision_Outcome</th></tr><tr><td>str</td><td>str</td><td>f64</td><td>str</td><td>str</td><td>str</td></tr></thead><tbody><tr><td>&quot;12594641850879923397&quot;</td><td>&quot;4950195631896481532&quot;</td><td>1.7733e18</td><td>&quot;FirstMortgage30yr&quot;</td><td>&quot;3398926481566838359&quot;</td><td>&quot;Rejected&quot;</td></tr><tr><td>&quot;15279087386420065353&quot;</td><td>&quot;1004777359529882778&quot;</td><td>1.4916e18</td><td>&quot;FirstMortgage30yr&quot;</td><td>&quot;7524119428776917905&quot;</td><td>&quot;Accepted&quot;</td></tr><tr><td>&quot;465129257510119162&quot;</td><td>&quot;11705309608503000751&quot;</td><td>1.7530e19</td><td>&quot;MoneyMarketSavingsAccount&quot;</td><td>&quot;3398926481566838359&quot;</td><td>&quot;Rejected&quot;</td></tr><tr><td>&quot;15279087386420065353&quot;</td><td>&quot;12179228032171056613&quot;</td><td>4.7311e17</td><td>&quot;BasicChecking&quot;</td><td>&quot;3398926481566838359&quot;</td><td>&quot;Rejected&quot;</td></tr><tr><td>&quot;12594641850879923397&quot;</td><td>&quot;12978907945199555118&quot;</td><td>5.4882e18</td><td>&quot;BasicChecking&quot;</td><td>&quot;17998643697575935178&quot;</td><td>&quot;Accepted&quot;</td></tr><tr><td>&quot;465129257510119162&quot;</td><td>&quot;14070306217976391586&quot;</td><td>1.7787e18</td><td>&quot;UPlusFinPersonal&quot;</td><td>null</td><td>&quot;Rejected&quot;</td></tr><tr><td>&quot;465129257510119162&quot;</td><td>&quot;1672023217033473558&quot;</td><td>1.8042e19</td><td>&quot;BasicChecking&quot;</td><td>&quot;17998643697575935178&quot;</td><td>&quot;Rejected&quot;</td></tr></tbody></table></div>"
      ],
      "text/plain": [
       "shape: (7, 6)\n",
       "┌────────────────┬────────────────┬─────────────┬────────────────┬────────────────┬────────────────┐\n",
       "│ PREDICTOR_0    ┆ PREDICTOR_1    ┆ PREDICTOR_2 ┆ Context_Name   ┆ IH_Web_Inbound ┆ Decision_Outco │\n",
       "│ ---            ┆ ---            ┆ ---         ┆ ---            ┆ _Accepted_pxLa ┆ me             │\n",
       "│ str            ┆ str            ┆ f64         ┆ str            ┆ st…            ┆ ---            │\n",
       "│                ┆                ┆             ┆                ┆ ---            ┆ str            │\n",
       "│                ┆                ┆             ┆                ┆ str            ┆                │\n",
       "╞════════════════╪════════════════╪═════════════╪════════════════╪════════════════╪════════════════╡\n",
       "│ 12594641850879 ┆ 49501956318964 ┆ 1.7733e18   ┆ FirstMortgage3 ┆ 33989264815668 ┆ Rejected       │\n",
       "│ 923397         ┆ 81532          ┆             ┆ 0yr            ┆ 38359          ┆                │\n",
       "│ 15279087386420 ┆ 10047773595298 ┆ 1.4916e18   ┆ FirstMortgage3 ┆ 75241194287769 ┆ Accepted       │\n",
       "│ 065353         ┆ 82778          ┆             ┆ 0yr            ┆ 17905          ┆                │\n",
       "│ 46512925751011 ┆ 11705309608503 ┆ 1.7530e19   ┆ MoneyMarketSav ┆ 33989264815668 ┆ Rejected       │\n",
       "│ 9162           ┆ 000751         ┆             ┆ ingsAccount    ┆ 38359          ┆                │\n",
       "│ 15279087386420 ┆ 12179228032171 ┆ 4.7311e17   ┆ BasicChecking  ┆ 33989264815668 ┆ Rejected       │\n",
       "│ 065353         ┆ 056613         ┆             ┆                ┆ 38359          ┆                │\n",
       "│ 12594641850879 ┆ 12978907945199 ┆ 5.4882e18   ┆ BasicChecking  ┆ 17998643697575 ┆ Accepted       │\n",
       "│ 923397         ┆ 555118         ┆             ┆                ┆ 935178         ┆                │\n",
       "│ 46512925751011 ┆ 14070306217976 ┆ 1.7787e18   ┆ UPlusFinPerson ┆ null           ┆ Rejected       │\n",
       "│ 9162           ┆ 391586         ┆             ┆ al             ┆                ┆                │\n",
       "│ 46512925751011 ┆ 16720232170334 ┆ 1.8042e19   ┆ BasicChecking  ┆ 17998643697575 ┆ Rejected       │\n",
       "│ 9162           ┆ 73558          ┆             ┆                ┆ 935178         ┆                │\n",
       "└────────────────┴────────────────┴─────────────┴────────────────┴────────────────┴────────────────┘"
      ]
     },
     "execution_count": 13,
     "metadata": {},
     "output_type": "execute_result"
    }
   ],
   "source": [
    "pl.read_ipc('output/hds.arrow')"
   ]
  },
  {
   "attachments": {},
   "cell_type": "markdown",
   "metadata": {
    "nbsphinx": "hidden"
   },
   "source": [
    "## Advanced: Hash fuctions\n",
    "\n",
    "By default, we use [the same hashing algorithm Polars](https://pola-rs.github.io/polars/py-polars/html/reference/expressions/api/polars.Expr.hash.html#polars.Expr.hash) uses: [xxhash](https://github.com/Cyan4973/xxHash), as implemented [here](https://github.com/pola-rs/polars/blob/3f287f370b3c388ed2f3f218b2c096382548136f/polars/polars-core/src/vector_hasher.rs#L266). xxhash is fast to compute, and you can check its performance in collision, dispersion and randomness [here](https://github.com/Cyan4973/xxHash/tree/dev/tests). \n",
    "\n",
    "xxhash accepts four distinct seeds, but by default we set the seeds to `0`. It is possible to set the `seed` argument of the `process()` function to `'random'`, which will set all four seeds to a random integer between `0` and `1000000000`. Alternatively, it is possible to supply the four seeds manually with arguments `seed`, `seed_1`, `seed_2` and `seed_3`. \n",
    "\n",
    "If the xxhash with (random) seed(s) is not deemed sufficiently secure, it is possible to use your own hashing algorithm.\n",
    "\n",
    "Note that since we're now running python code and not native Polars code anymore, this will be _significantly_ slower. Nonetheless, it is possible.\n",
    "\n",
    "Just as an example - this is how one would use sha3_256:"
   ]
  },
  {
   "cell_type": "code",
   "execution_count": 14,
   "metadata": {
    "execution": {
     "iopub.execute_input": "2024-05-17T12:22:11.242029Z",
     "iopub.status.busy": "2024-05-17T12:22:11.241713Z",
     "iopub.status.idle": "2024-05-17T12:22:11.559895Z",
     "shell.execute_reply": "2024-05-17T12:22:11.559309Z"
    },
    "nbsphinx": "hidden"
   },
   "outputs": [
    {
     "name": "stderr",
     "output_type": "stream",
     "text": [
      "sys:1: MapWithoutReturnDtypeWarning:\n",
      "\n",
      "Calling `map_elements` without specifying `return_dtype` can lead to unpredictable results. Specify `return_dtype` to silence this warning.\n",
      "\n",
      "sys:1: MapWithoutReturnDtypeWarning:\n",
      "\n",
      "Calling `map_elements` without specifying `return_dtype` can lead to unpredictable results. Specify `return_dtype` to silence this warning.\n",
      "\n",
      "sys:1: MapWithoutReturnDtypeWarning:\n",
      "\n",
      "Calling `map_elements` without specifying `return_dtype` can lead to unpredictable results. Specify `return_dtype` to silence this warning.\n",
      "\n",
      "sys:1: MapWithoutReturnDtypeWarning:\n",
      "\n",
      "Calling `map_elements` without specifying `return_dtype` can lead to unpredictable results. Specify `return_dtype` to silence this warning.\n",
      "\n"
     ]
    },
    {
     "ename": "ComputeError",
     "evalue": "AttributeError: 'int' object has no attribute 'encode'",
     "output_type": "error",
     "traceback": [
      "\u001b[0;31m---------------------------------------------------------------------------\u001b[0m",
      "\u001b[0;31mComputeError\u001b[0m                              Traceback (most recent call last)",
      "Cell \u001b[0;32mIn[14], line 3\u001b[0m\n\u001b[1;32m      1\u001b[0m \u001b[38;5;28;01mfrom\u001b[39;00m \u001b[38;5;21;01mhashlib\u001b[39;00m \u001b[38;5;28;01mimport\u001b[39;00m sha3_256\n\u001b[0;32m----> 3\u001b[0m \u001b[43manon\u001b[49m\u001b[38;5;241;43m.\u001b[39;49m\u001b[43mprocess\u001b[49m\u001b[43m(\u001b[49m\u001b[43malgorithm\u001b[49m\u001b[38;5;241;43m=\u001b[39;49m\u001b[38;5;28;43;01mlambda\u001b[39;49;00m\u001b[43m \u001b[49m\u001b[43mx\u001b[49m\u001b[43m:\u001b[49m\u001b[43m \u001b[49m\u001b[43msha3_256\u001b[49m\u001b[43m(\u001b[49m\u001b[43mx\u001b[49m\u001b[38;5;241;43m.\u001b[39;49m\u001b[43mencode\u001b[49m\u001b[43m(\u001b[49m\u001b[43m)\u001b[49m\u001b[43m)\u001b[49m\u001b[38;5;241;43m.\u001b[39;49m\u001b[43mhexdigest\u001b[49m\u001b[43m(\u001b[49m\u001b[43m)\u001b[49m\u001b[43m)\u001b[49m\n",
      "File \u001b[0;32m~/work/pega-datascientist-tools/pega-datascientist-tools/python/docs/source/articles/../../../pdstools/utils/hds_utils.py:512\u001b[0m, in \u001b[0;36mDataAnonymization.process\u001b[0;34m(self, strategy, **kwargs)\u001b[0m\n\u001b[1;32m    510\u001b[0m df \u001b[38;5;241m=\u001b[39m df\u001b[38;5;241m.\u001b[39mselect(\u001b[38;5;28mself\u001b[39m\u001b[38;5;241m.\u001b[39mcolumn_mapping\u001b[38;5;241m.\u001b[39mkeys())\u001b[38;5;241m.\u001b[39mrename(\u001b[38;5;28mself\u001b[39m\u001b[38;5;241m.\u001b[39mcolumn_mapping)\n\u001b[1;32m    511\u001b[0m \u001b[38;5;28;01mif\u001b[39;00m strategy \u001b[38;5;241m==\u001b[39m \u001b[38;5;124m\"\u001b[39m\u001b[38;5;124meager\u001b[39m\u001b[38;5;124m\"\u001b[39m:\n\u001b[0;32m--> 512\u001b[0m     \u001b[38;5;28;01mreturn\u001b[39;00m \u001b[43mdf\u001b[49m\u001b[38;5;241;43m.\u001b[39;49m\u001b[43mcollect\u001b[49m\u001b[43m(\u001b[49m\u001b[43m)\u001b[49m\n\u001b[1;32m    513\u001b[0m \u001b[38;5;28;01mreturn\u001b[39;00m df\n",
      "File \u001b[0;32m/opt/hostedtoolcache/Python/3.11.9/x64/lib/python3.11/site-packages/polars/lazyframe/frame.py:1816\u001b[0m, in \u001b[0;36mLazyFrame.collect\u001b[0;34m(self, type_coercion, predicate_pushdown, projection_pushdown, simplify_expression, slice_pushdown, comm_subplan_elim, comm_subexpr_elim, no_optimization, streaming, background, _eager, **_kwargs)\u001b[0m\n\u001b[1;32m   1813\u001b[0m \u001b[38;5;66;03m# Only for testing purposes atm.\u001b[39;00m\n\u001b[1;32m   1814\u001b[0m callback \u001b[38;5;241m=\u001b[39m _kwargs\u001b[38;5;241m.\u001b[39mget(\u001b[38;5;124m\"\u001b[39m\u001b[38;5;124mpost_opt_callback\u001b[39m\u001b[38;5;124m\"\u001b[39m)\n\u001b[0;32m-> 1816\u001b[0m \u001b[38;5;28;01mreturn\u001b[39;00m wrap_df(\u001b[43mldf\u001b[49m\u001b[38;5;241;43m.\u001b[39;49m\u001b[43mcollect\u001b[49m\u001b[43m(\u001b[49m\u001b[43mcallback\u001b[49m\u001b[43m)\u001b[49m)\n",
      "\u001b[0;31mComputeError\u001b[0m: AttributeError: 'int' object has no attribute 'encode'"
     ]
    }
   ],
   "source": [
    "from hashlib import sha3_256\n",
    "\n",
    "anon.process(algorithm=lambda x: sha3_256(x.encode()).hexdigest())"
   ]
  }
 ],
 "metadata": {
  "kernelspec": {
   "display_name": "Python 3",
   "language": "python",
   "name": "python3"
  },
  "language_info": {
   "codemirror_mode": {
    "name": "ipython",
    "version": 3
   },
   "file_extension": ".py",
   "mimetype": "text/x-python",
   "name": "python",
   "nbconvert_exporter": "python",
   "pygments_lexer": "ipython3",
   "version": "3.11.9"
  },
  "vscode": {
   "interpreter": {
    "hash": "aee8b7b246df8f9039afb4144a1f6fd8d2ca17a180786b69acc140d282b71a49"
   }
  }
 },
 "nbformat": 4,
 "nbformat_minor": 2
}
