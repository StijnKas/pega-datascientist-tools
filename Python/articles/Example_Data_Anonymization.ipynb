{
 "cells": [
  {
   "attachments": {},
   "cell_type": "markdown",
   "metadata": {},
   "source": [
    "# Data Anonymization\n",
    "\n",
    "In Pega CDH 8.5 and up, it's now possible to record the historical data as seen by the Adaptive Models. See [this academy challenge](https://academy.pega.com/challenge/exporting-historical-data/v4) for reference. This historical data can be further used to experiment with offline models, but also to fine-tune the OOTB Gradient Boosting model. However, sharing this information with Pega can be sensitive as it contains raw predictor data. \n",
    "\n",
    "To this end, we provide a simple and transparent script to fully anonimize this dataset.\n",
    "\n",
    "The DataAnonymization script is now part of pdstools, and you can import it directly as such."
   ]
  },
  {
   "cell_type": "code",
   "execution_count": 1,
   "metadata": {
    "execution": {
     "iopub.execute_input": "2024-05-06T12:01:17.160850Z",
     "iopub.status.busy": "2024-05-06T12:01:17.160350Z",
     "iopub.status.idle": "2024-05-06T12:01:17.233336Z",
     "shell.execute_reply": "2024-05-06T12:01:17.232778Z"
    },
    "nbsphinx": "hidden"
   },
   "outputs": [],
   "source": [
    "# These lines are only for rendering in the docs, and are hidden through Jupyter tags\n",
    "# Do not run if you're running the notebook seperately\n",
    "\n",
    "import os  \n",
    "import sys\n",
    "import plotly.io as pio\n",
    "pio.renderers.default = \"notebook_connected\"\n",
    "\n",
    "sys.path.append(\"../../../\")\n",
    "sys.path.append('../../python')"
   ]
  },
  {
   "cell_type": "code",
   "execution_count": 2,
   "metadata": {
    "execution": {
     "iopub.execute_input": "2024-05-06T12:01:17.235933Z",
     "iopub.status.busy": "2024-05-06T12:01:17.235563Z",
     "iopub.status.idle": "2024-05-06T12:01:18.299409Z",
     "shell.execute_reply": "2024-05-06T12:01:18.298876Z"
    }
   },
   "outputs": [],
   "source": [
    "from pdstools import ADMDatamart\n",
    "from pdstools import Config, DataAnonymization\n",
    "import polars as pl"
   ]
  },
  {
   "attachments": {},
   "cell_type": "markdown",
   "metadata": {},
   "source": [
    "## Input data\n",
    "\n",
    "To demonstrate this process, we're going to anonymise this toy example dataframe:"
   ]
  },
  {
   "cell_type": "code",
   "execution_count": 3,
   "metadata": {
    "execution": {
     "iopub.execute_input": "2024-05-06T12:01:18.302407Z",
     "iopub.status.busy": "2024-05-06T12:01:18.301745Z",
     "iopub.status.idle": "2024-05-06T12:01:18.311220Z",
     "shell.execute_reply": "2024-05-06T12:01:18.310641Z"
    }
   },
   "outputs": [
    {
     "data": {
      "text/html": [
       "<div><style>\n",
       ".dataframe > thead > tr,\n",
       ".dataframe > tbody > tr {\n",
       "  text-align: right;\n",
       "  white-space: pre-wrap;\n",
       "}\n",
       "</style>\n",
       "<small>shape: (7, 6)</small><table border=\"1\" class=\"dataframe\"><thead><tr><th>Context_Name</th><th>Customer_MaritalStatus</th><th>Customer_CLV</th><th>Customer_City</th><th>IH_Web_Inbound_Accepted_pxLastGroupID</th><th>Decision_Outcome</th></tr><tr><td>str</td><td>str</td><td>i64</td><td>str</td><td>str</td><td>str</td></tr></thead><tbody><tr><td>&quot;FirstMortgage3…</td><td>&quot;Married&quot;</td><td>1460</td><td>&quot;Port Raoul&quot;</td><td>&quot;Account&quot;</td><td>&quot;Rejected&quot;</td></tr><tr><td>&quot;FirstMortgage3…</td><td>&quot;Unknown&quot;</td><td>669</td><td>&quot;Laurianneshire…</td><td>&quot;AutoLoans&quot;</td><td>&quot;Accepted&quot;</td></tr><tr><td>&quot;MoneyMarketSav…</td><td>&quot;No Resp+&quot;</td><td>1174</td><td>&quot;Jacobshaven&quot;</td><td>&quot;Account&quot;</td><td>&quot;Rejected&quot;</td></tr><tr><td>&quot;BasicChecking&quot;</td><td>&quot;Unknown&quot;</td><td>1476</td><td>&quot;Lindton&quot;</td><td>&quot;Account&quot;</td><td>&quot;Rejected&quot;</td></tr><tr><td>&quot;BasicChecking&quot;</td><td>&quot;Married&quot;</td><td>1211</td><td>&quot;South Jimmiesh…</td><td>&quot;DepositAccount…</td><td>&quot;Accepted&quot;</td></tr><tr><td>&quot;UPlusFinPerson…</td><td>&quot;No Resp+&quot;</td><td>533</td><td>&quot;Bergeville&quot;</td><td>null</td><td>&quot;Rejected&quot;</td></tr><tr><td>&quot;BasicChecking&quot;</td><td>&quot;No Resp+&quot;</td><td>555</td><td>&quot;Willyville&quot;</td><td>&quot;DepositAccount…</td><td>&quot;Rejected&quot;</td></tr></tbody></table></div>"
      ],
      "text/plain": [
       "shape: (7, 6)\n",
       "┌────────────────┬────────────────┬──────────────┬────────────────┬────────────────┬───────────────┐\n",
       "│ Context_Name   ┆ Customer_Marit ┆ Customer_CLV ┆ Customer_City  ┆ IH_Web_Inbound ┆ Decision_Outc │\n",
       "│ ---            ┆ alStatus       ┆ ---          ┆ ---            ┆ _Accepted_pxLa ┆ ome           │\n",
       "│ str            ┆ ---            ┆ i64          ┆ str            ┆ stGr…          ┆ ---           │\n",
       "│                ┆ str            ┆              ┆                ┆ ---            ┆ str           │\n",
       "│                ┆                ┆              ┆                ┆ str            ┆               │\n",
       "╞════════════════╪════════════════╪══════════════╪════════════════╪════════════════╪═══════════════╡\n",
       "│ FirstMortgage3 ┆ Married        ┆ 1460         ┆ Port Raoul     ┆ Account        ┆ Rejected      │\n",
       "│ 0yr            ┆                ┆              ┆                ┆                ┆               │\n",
       "│ FirstMortgage3 ┆ Unknown        ┆ 669          ┆ Laurianneshire ┆ AutoLoans      ┆ Accepted      │\n",
       "│ 0yr            ┆                ┆              ┆                ┆                ┆               │\n",
       "│ MoneyMarketSav ┆ No Resp+       ┆ 1174         ┆ Jacobshaven    ┆ Account        ┆ Rejected      │\n",
       "│ ingsAccount    ┆                ┆              ┆                ┆                ┆               │\n",
       "│ BasicChecking  ┆ Unknown        ┆ 1476         ┆ Lindton        ┆ Account        ┆ Rejected      │\n",
       "│ BasicChecking  ┆ Married        ┆ 1211         ┆ South          ┆ DepositAccount ┆ Accepted      │\n",
       "│                ┆                ┆              ┆ Jimmieshire    ┆ s              ┆               │\n",
       "│ UPlusFinPerson ┆ No Resp+       ┆ 533          ┆ Bergeville     ┆ null           ┆ Rejected      │\n",
       "│ al             ┆                ┆              ┆                ┆                ┆               │\n",
       "│ BasicChecking  ┆ No Resp+       ┆ 555          ┆ Willyville     ┆ DepositAccount ┆ Rejected      │\n",
       "│                ┆                ┆              ┆                ┆ s              ┆               │\n",
       "└────────────────┴────────────────┴──────────────┴────────────────┴────────────────┴───────────────┘"
      ]
     },
     "execution_count": 3,
     "metadata": {},
     "output_type": "execute_result"
    }
   ],
   "source": [
    "pl.read_ndjson('../../../../data/SampleHDS.json')"
   ]
  },
  {
   "attachments": {},
   "cell_type": "markdown",
   "metadata": {},
   "source": [
    "As you can see, this dataset consists of regular predictors, IH predictors, context keys and the outcome column. Additionally, some columns are numeric, others are strings. Let's first initialize the DataAnonymization class."
   ]
  },
  {
   "cell_type": "code",
   "execution_count": 4,
   "metadata": {
    "execution": {
     "iopub.execute_input": "2024-05-06T12:01:18.313418Z",
     "iopub.status.busy": "2024-05-06T12:01:18.313077Z",
     "iopub.status.idle": "2024-05-06T12:01:18.319058Z",
     "shell.execute_reply": "2024-05-06T12:01:18.318632Z"
    }
   },
   "outputs": [],
   "source": [
    "anon = DataAnonymization(hds_folder='../../../../data/')"
   ]
  },
  {
   "attachments": {},
   "cell_type": "markdown",
   "metadata": {},
   "source": [
    "By default, the class applies a set of anonymisation techniques:\n",
    "- Column names are remapped to a non-descriptive name\n",
    "- Categorical values are hashed with a random seed\n",
    "- Numerical values are normalized between 0 and 1\n",
    "- Outcomes are mapped to a binary outcome.\n",
    "\n",
    "To apply these techniques, simply call `.process()`:"
   ]
  },
  {
   "cell_type": "code",
   "execution_count": 5,
   "metadata": {
    "execution": {
     "iopub.execute_input": "2024-05-06T12:01:18.321109Z",
     "iopub.status.busy": "2024-05-06T12:01:18.320778Z",
     "iopub.status.idle": "2024-05-06T12:01:18.326800Z",
     "shell.execute_reply": "2024-05-06T12:01:18.326196Z"
    }
   },
   "outputs": [
    {
     "data": {
      "text/html": [
       "<div><style>\n",
       ".dataframe > thead > tr,\n",
       ".dataframe > tbody > tr {\n",
       "  text-align: right;\n",
       "  white-space: pre-wrap;\n",
       "}\n",
       "</style>\n",
       "<small>shape: (7, 7)</small><table border=\"1\" class=\"dataframe\"><thead><tr><th>filename</th><th>PREDICTOR_1</th><th>PREDICTOR_2</th><th>PREDICTOR_3</th><th>Context_Name</th><th>IH_PREDICTOR_0</th><th>Decision_Outcome</th></tr><tr><td>str</td><td>f64</td><td>str</td><td>str</td><td>str</td><td>str</td><td>bool</td></tr></thead><tbody><tr><td>&quot;../../../../da…</td><td>0.983033</td><td>&quot;21209358239740…</td><td>&quot;46181512000595…</td><td>&quot;28477466700164…</td><td>&quot;12724293801229…</td><td>false</td></tr><tr><td>&quot;../../../../da…</td><td>0.144221</td><td>&quot;93011921793412…</td><td>&quot;14013650743584…</td><td>&quot;28477466700164…</td><td>&quot;14704814367988…</td><td>true</td></tr><tr><td>&quot;../../../../da…</td><td>0.679745</td><td>&quot;10987397888104…</td><td>&quot;85532152597147…</td><td>&quot;17834641723577…</td><td>&quot;12724293801229…</td><td>false</td></tr><tr><td>&quot;../../../../da…</td><td>1.0</td><td>&quot;17740482247854…</td><td>&quot;14013650743584…</td><td>&quot;30755678553941…</td><td>&quot;12724293801229…</td><td>false</td></tr><tr><td>&quot;../../../../da…</td><td>0.718982</td><td>&quot;49416424254604…</td><td>&quot;46181512000595…</td><td>&quot;30755678553941…</td><td>&quot;12549311079532…</td><td>true</td></tr><tr><td>&quot;../../../../da…</td><td>0.0</td><td>&quot;11983042900609…</td><td>&quot;85532152597147…</td><td>&quot;10766864644593…</td><td>null</td><td>false</td></tr><tr><td>&quot;../../../../da…</td><td>0.02333</td><td>&quot;12501325239003…</td><td>&quot;85532152597147…</td><td>&quot;30755678553941…</td><td>&quot;12549311079532…</td><td>false</td></tr></tbody></table></div>"
      ],
      "text/plain": [
       "shape: (7, 7)\n",
       "┌──────────────┬─────────────┬─────────────┬─────────────┬─────────────┬─────────────┬─────────────┐\n",
       "│ filename     ┆ PREDICTOR_1 ┆ PREDICTOR_2 ┆ PREDICTOR_3 ┆ Context_Nam ┆ IH_PREDICTO ┆ Decision_Ou │\n",
       "│ ---          ┆ ---         ┆ ---         ┆ ---         ┆ e           ┆ R_0         ┆ tcome       │\n",
       "│ str          ┆ f64         ┆ str         ┆ str         ┆ ---         ┆ ---         ┆ ---         │\n",
       "│              ┆             ┆             ┆             ┆ str         ┆ str         ┆ bool        │\n",
       "╞══════════════╪═════════════╪═════════════╪═════════════╪═════════════╪═════════════╪═════════════╡\n",
       "│ ../../../../ ┆ 0.983033    ┆ 21209358239 ┆ 46181512000 ┆ 28477466700 ┆ 12724293801 ┆ false       │\n",
       "│ data/SampleH ┆             ┆ 740908      ┆ 59531068    ┆ 16483269    ┆ 229805973   ┆             │\n",
       "│ DS.json      ┆             ┆             ┆             ┆             ┆             ┆             │\n",
       "│ ../../../../ ┆ 0.144221    ┆ 93011921793 ┆ 14013650743 ┆ 28477466700 ┆ 14704814367 ┆ true        │\n",
       "│ data/SampleH ┆             ┆ 41228684    ┆ 584983937   ┆ 16483269    ┆ 988621394   ┆             │\n",
       "│ DS.json      ┆             ┆             ┆             ┆             ┆             ┆             │\n",
       "│ ../../../../ ┆ 0.679745    ┆ 10987397888 ┆ 85532152597 ┆ 17834641723 ┆ 12724293801 ┆ false       │\n",
       "│ data/SampleH ┆             ┆ 104612326   ┆ 14763123    ┆ 577533962   ┆ 229805973   ┆             │\n",
       "│ DS.json      ┆             ┆             ┆             ┆             ┆             ┆             │\n",
       "│ ../../../../ ┆ 1.0         ┆ 17740482247 ┆ 14013650743 ┆ 30755678553 ┆ 12724293801 ┆ false       │\n",
       "│ data/SampleH ┆             ┆ 854487231   ┆ 584983937   ┆ 9413228     ┆ 229805973   ┆             │\n",
       "│ DS.json      ┆             ┆             ┆             ┆             ┆             ┆             │\n",
       "│ ../../../../ ┆ 0.718982    ┆ 49416424254 ┆ 46181512000 ┆ 30755678553 ┆ 12549311079 ┆ true        │\n",
       "│ data/SampleH ┆             ┆ 60440091    ┆ 59531068    ┆ 9413228     ┆ 532143259   ┆             │\n",
       "│ DS.json      ┆             ┆             ┆             ┆             ┆             ┆             │\n",
       "│ ../../../../ ┆ 0.0         ┆ 11983042900 ┆ 85532152597 ┆ 10766864644 ┆ null        ┆ false       │\n",
       "│ data/SampleH ┆             ┆ 609218527   ┆ 14763123    ┆ 59303965    ┆             ┆             │\n",
       "│ DS.json      ┆             ┆             ┆             ┆             ┆             ┆             │\n",
       "│ ../../../../ ┆ 0.02333     ┆ 12501325239 ┆ 85532152597 ┆ 30755678553 ┆ 12549311079 ┆ false       │\n",
       "│ data/SampleH ┆             ┆ 003783450   ┆ 14763123    ┆ 9413228     ┆ 532143259   ┆             │\n",
       "│ DS.json      ┆             ┆             ┆             ┆             ┆             ┆             │\n",
       "└──────────────┴─────────────┴─────────────┴─────────────┴─────────────┴─────────────┴─────────────┘"
      ]
     },
     "execution_count": 5,
     "metadata": {},
     "output_type": "execute_result"
    }
   ],
   "source": [
    "anon.process()"
   ]
  },
  {
   "attachments": {},
   "cell_type": "markdown",
   "metadata": {},
   "source": [
    "To trace back the columns to their original names, the class also contains a mapping, which does not have to be provided."
   ]
  },
  {
   "cell_type": "code",
   "execution_count": 6,
   "metadata": {
    "execution": {
     "iopub.execute_input": "2024-05-06T12:01:18.328896Z",
     "iopub.status.busy": "2024-05-06T12:01:18.328561Z",
     "iopub.status.idle": "2024-05-06T12:01:18.332350Z",
     "shell.execute_reply": "2024-05-06T12:01:18.331903Z"
    }
   },
   "outputs": [
    {
     "data": {
      "text/plain": [
       "{'filename': 'filename',\n",
       " 'Customer_CLV': 'PREDICTOR_1',\n",
       " 'Customer_City': 'PREDICTOR_2',\n",
       " 'Customer_MaritalStatus': 'PREDICTOR_3',\n",
       " 'Context_Name': 'Context_Name',\n",
       " 'IH_Web_Inbound_Accepted_pxLastGroupID': 'IH_PREDICTOR_0',\n",
       " 'Decision_Outcome': 'Decision_Outcome'}"
      ]
     },
     "execution_count": 6,
     "metadata": {},
     "output_type": "execute_result"
    }
   ],
   "source": [
    "anon.column_mapping"
   ]
  },
  {
   "attachments": {},
   "cell_type": "markdown",
   "metadata": {},
   "source": [
    "## Configs\n",
    "\n",
    "Each capability can optionally be turned off - see below for the full list of config options, and refer to the API reference for the full description."
   ]
  },
  {
   "cell_type": "code",
   "execution_count": 7,
   "metadata": {
    "execution": {
     "iopub.execute_input": "2024-05-06T12:01:18.334381Z",
     "iopub.status.busy": "2024-05-06T12:01:18.334057Z",
     "iopub.status.idle": "2024-05-06T12:01:18.338361Z",
     "shell.execute_reply": "2024-05-06T12:01:18.337811Z"
    }
   },
   "outputs": [
    {
     "data": {
      "text/plain": [
       "{'config_file': None,\n",
       " 'hds_folder': '.',\n",
       " 'use_datamart': False,\n",
       " 'datamart_folder': 'datamart',\n",
       " 'output_format': 'ndjson',\n",
       " 'output_folder': 'output',\n",
       " 'mapping_file': 'mapping.map',\n",
       " 'mask_predictor_names': True,\n",
       " 'mask_context_key_names': False,\n",
       " 'mask_ih_names': True,\n",
       " 'mask_outcome_name': False,\n",
       " 'mask_predictor_values': True,\n",
       " 'mask_context_key_values': True,\n",
       " 'mask_ih_values': True,\n",
       " 'mask_outcome_values': True,\n",
       " 'context_key_label': 'Context_*',\n",
       " 'ih_label': 'IH_*',\n",
       " 'outcome_column': 'Decision_Outcome',\n",
       " 'positive_outcomes': ['Accepted', 'Clicked'],\n",
       " 'negative_outcomes': ['Rejected', 'Impression'],\n",
       " 'special_predictors': ['Decision_DecisionTime',\n",
       "  'Decision_OutcomeTime',\n",
       "  'Decision_Rank'],\n",
       " 'sample_percentage_schema_inferencing': 0.01}"
      ]
     },
     "execution_count": 7,
     "metadata": {},
     "output_type": "execute_result"
    }
   ],
   "source": [
    "dict(zip(Config.__init__.__code__.co_varnames[1:], Config.__init__.__defaults__))"
   ]
  },
  {
   "attachments": {},
   "cell_type": "markdown",
   "metadata": {},
   "source": [
    "It's easy to change these parameters by just passing the keyword arguments. In the following example, we\n",
    "- Keep the IH predictor names\n",
    "- Keep the outcome values\n",
    "- Keep the context key values\n",
    "- Keep the context key predictor names"
   ]
  },
  {
   "cell_type": "code",
   "execution_count": 8,
   "metadata": {
    "execution": {
     "iopub.execute_input": "2024-05-06T12:01:18.340204Z",
     "iopub.status.busy": "2024-05-06T12:01:18.340021Z",
     "iopub.status.idle": "2024-05-06T12:01:18.348459Z",
     "shell.execute_reply": "2024-05-06T12:01:18.347912Z"
    }
   },
   "outputs": [
    {
     "data": {
      "text/html": [
       "<div><style>\n",
       ".dataframe > thead > tr,\n",
       ".dataframe > tbody > tr {\n",
       "  text-align: right;\n",
       "  white-space: pre-wrap;\n",
       "}\n",
       "</style>\n",
       "<small>shape: (7, 7)</small><table border=\"1\" class=\"dataframe\"><thead><tr><th>filename</th><th>PREDICTOR_1</th><th>PREDICTOR_2</th><th>PREDICTOR_3</th><th>Context_Name</th><th>IH_Web_Inbound_Accepted_pxLastGroupID</th><th>Decision_Outcome</th></tr><tr><td>str</td><td>f64</td><td>str</td><td>str</td><td>str</td><td>str</td><td>str</td></tr></thead><tbody><tr><td>&quot;../../../../da…</td><td>0.983033</td><td>&quot;85763273867348…</td><td>&quot;10083466760044…</td><td>&quot;FirstMortgage3…</td><td>&quot;17105498002303…</td><td>&quot;Rejected&quot;</td></tr><tr><td>&quot;../../../../da…</td><td>0.144221</td><td>&quot;35505825081081…</td><td>&quot;11668472835631…</td><td>&quot;FirstMortgage3…</td><td>&quot;64380982608184…</td><td>&quot;Accepted&quot;</td></tr><tr><td>&quot;../../../../da…</td><td>0.679745</td><td>&quot;14584267168892…</td><td>&quot;13980525220423…</td><td>&quot;MoneyMarketSav…</td><td>&quot;17105498002303…</td><td>&quot;Rejected&quot;</td></tr><tr><td>&quot;../../../../da…</td><td>1.0</td><td>&quot;53167053567232…</td><td>&quot;11668472835631…</td><td>&quot;BasicChecking&quot;</td><td>&quot;17105498002303…</td><td>&quot;Rejected&quot;</td></tr><tr><td>&quot;../../../../da…</td><td>0.718982</td><td>&quot;12375091005067…</td><td>&quot;10083466760044…</td><td>&quot;BasicChecking&quot;</td><td>&quot;16660927597664…</td><td>&quot;Accepted&quot;</td></tr><tr><td>&quot;../../../../da…</td><td>0.0</td><td>&quot;12723453319523…</td><td>&quot;13980525220423…</td><td>&quot;UPlusFinPerson…</td><td>null</td><td>&quot;Rejected&quot;</td></tr><tr><td>&quot;../../../../da…</td><td>0.02333</td><td>&quot;18049397082125…</td><td>&quot;13980525220423…</td><td>&quot;BasicChecking&quot;</td><td>&quot;16660927597664…</td><td>&quot;Rejected&quot;</td></tr></tbody></table></div>"
      ],
      "text/plain": [
       "shape: (7, 7)\n",
       "┌──────────────┬─────────────┬─────────────┬─────────────┬─────────────┬─────────────┬─────────────┐\n",
       "│ filename     ┆ PREDICTOR_1 ┆ PREDICTOR_2 ┆ PREDICTOR_3 ┆ Context_Nam ┆ IH_Web_Inbo ┆ Decision_Ou │\n",
       "│ ---          ┆ ---         ┆ ---         ┆ ---         ┆ e           ┆ und_Accepte ┆ tcome       │\n",
       "│ str          ┆ f64         ┆ str         ┆ str         ┆ ---         ┆ d_pxLastGr… ┆ ---         │\n",
       "│              ┆             ┆             ┆             ┆ str         ┆ ---         ┆ str         │\n",
       "│              ┆             ┆             ┆             ┆             ┆ str         ┆             │\n",
       "╞══════════════╪═════════════╪═════════════╪═════════════╪═════════════╪═════════════╪═════════════╡\n",
       "│ ../../../../ ┆ 0.983033    ┆ 85763273867 ┆ 10083466760 ┆ FirstMortga ┆ 17105498002 ┆ Rejected    │\n",
       "│ data/SampleH ┆             ┆ 3485626     ┆ 04440721    ┆ ge30yr      ┆ 303934378   ┆             │\n",
       "│ DS.json      ┆             ┆             ┆             ┆             ┆             ┆             │\n",
       "│ ../../../../ ┆ 0.144221    ┆ 35505825081 ┆ 11668472835 ┆ FirstMortga ┆ 64380982608 ┆ Accepted    │\n",
       "│ data/SampleH ┆             ┆ 08148087    ┆ 631648570   ┆ ge30yr      ┆ 18434557    ┆             │\n",
       "│ DS.json      ┆             ┆             ┆             ┆             ┆             ┆             │\n",
       "│ ../../../../ ┆ 0.679745    ┆ 14584267168 ┆ 13980525220 ┆ MoneyMarket ┆ 17105498002 ┆ Rejected    │\n",
       "│ data/SampleH ┆             ┆ 892105692   ┆ 423082864   ┆ SavingsAcco ┆ 303934378   ┆             │\n",
       "│ DS.json      ┆             ┆             ┆             ┆ unt         ┆             ┆             │\n",
       "│ ../../../../ ┆ 1.0         ┆ 53167053567 ┆ 11668472835 ┆ BasicChecki ┆ 17105498002 ┆ Rejected    │\n",
       "│ data/SampleH ┆             ┆ 2320910     ┆ 631648570   ┆ ng          ┆ 303934378   ┆             │\n",
       "│ DS.json      ┆             ┆             ┆             ┆             ┆             ┆             │\n",
       "│ ../../../../ ┆ 0.718982    ┆ 12375091005 ┆ 10083466760 ┆ BasicChecki ┆ 16660927597 ┆ Accepted    │\n",
       "│ data/SampleH ┆             ┆ 06732740    ┆ 04440721    ┆ ng          ┆ 664079512   ┆             │\n",
       "│ DS.json      ┆             ┆             ┆             ┆             ┆             ┆             │\n",
       "│ ../../../../ ┆ 0.0         ┆ 12723453319 ┆ 13980525220 ┆ UPlusFinPer ┆ null        ┆ Rejected    │\n",
       "│ data/SampleH ┆             ┆ 523610639   ┆ 423082864   ┆ sonal       ┆             ┆             │\n",
       "│ DS.json      ┆             ┆             ┆             ┆             ┆             ┆             │\n",
       "│ ../../../../ ┆ 0.02333     ┆ 18049397082 ┆ 13980525220 ┆ BasicChecki ┆ 16660927597 ┆ Rejected    │\n",
       "│ data/SampleH ┆             ┆ 125456758   ┆ 423082864   ┆ ng          ┆ 664079512   ┆             │\n",
       "│ DS.json      ┆             ┆             ┆             ┆             ┆             ┆             │\n",
       "└──────────────┴─────────────┴─────────────┴─────────────┴─────────────┴─────────────┴─────────────┘"
      ]
     },
     "execution_count": 8,
     "metadata": {},
     "output_type": "execute_result"
    }
   ],
   "source": [
    "anon = DataAnonymization(\n",
    "    hds_folder=\"../../../../data/\",\n",
    "    mask_ih_names=False,\n",
    "    mask_outcome_values=False,\n",
    "    mask_context_key_values=False,\n",
    "    mask_context_key_names=False,\n",
    ")\n",
    "anon.process()\n"
   ]
  },
  {
   "attachments": {},
   "cell_type": "markdown",
   "metadata": {},
   "source": [
    "The configs can also be written and read as such:"
   ]
  },
  {
   "cell_type": "code",
   "execution_count": 9,
   "metadata": {
    "execution": {
     "iopub.execute_input": "2024-05-06T12:01:18.350377Z",
     "iopub.status.busy": "2024-05-06T12:01:18.350211Z",
     "iopub.status.idle": "2024-05-06T12:01:18.353171Z",
     "shell.execute_reply": "2024-05-06T12:01:18.352728Z"
    }
   },
   "outputs": [],
   "source": [
    "anon.config.save_to_config_file('config.json')"
   ]
  },
  {
   "cell_type": "code",
   "execution_count": 10,
   "metadata": {
    "execution": {
     "iopub.execute_input": "2024-05-06T12:01:18.355148Z",
     "iopub.status.busy": "2024-05-06T12:01:18.354853Z",
     "iopub.status.idle": "2024-05-06T12:01:18.362761Z",
     "shell.execute_reply": "2024-05-06T12:01:18.362273Z"
    }
   },
   "outputs": [
    {
     "data": {
      "text/html": [
       "<div><style>\n",
       ".dataframe > thead > tr,\n",
       ".dataframe > tbody > tr {\n",
       "  text-align: right;\n",
       "  white-space: pre-wrap;\n",
       "}\n",
       "</style>\n",
       "<small>shape: (7, 7)</small><table border=\"1\" class=\"dataframe\"><thead><tr><th>filename</th><th>PREDICTOR_1</th><th>PREDICTOR_2</th><th>PREDICTOR_3</th><th>Context_Name</th><th>IH_Web_Inbound_Accepted_pxLastGroupID</th><th>Decision_Outcome</th></tr><tr><td>str</td><td>f64</td><td>str</td><td>str</td><td>str</td><td>str</td><td>str</td></tr></thead><tbody><tr><td>&quot;../../../../da…</td><td>0.983033</td><td>&quot;16936646699392…</td><td>&quot;14630132741461…</td><td>&quot;FirstMortgage3…</td><td>&quot;57899048446866…</td><td>&quot;Rejected&quot;</td></tr><tr><td>&quot;../../../../da…</td><td>0.144221</td><td>&quot;23234019987168…</td><td>&quot;15549409961407…</td><td>&quot;FirstMortgage3…</td><td>&quot;11569888462450…</td><td>&quot;Accepted&quot;</td></tr><tr><td>&quot;../../../../da…</td><td>0.679745</td><td>&quot;11723650837036…</td><td>&quot;22364763783306…</td><td>&quot;MoneyMarketSav…</td><td>&quot;57899048446866…</td><td>&quot;Rejected&quot;</td></tr><tr><td>&quot;../../../../da…</td><td>1.0</td><td>&quot;10056137171724…</td><td>&quot;15549409961407…</td><td>&quot;BasicChecking&quot;</td><td>&quot;57899048446866…</td><td>&quot;Rejected&quot;</td></tr><tr><td>&quot;../../../../da…</td><td>0.718982</td><td>&quot;12886228061037…</td><td>&quot;14630132741461…</td><td>&quot;BasicChecking&quot;</td><td>&quot;17697903747526…</td><td>&quot;Accepted&quot;</td></tr><tr><td>&quot;../../../../da…</td><td>0.0</td><td>&quot;13172422145582…</td><td>&quot;22364763783306…</td><td>&quot;UPlusFinPerson…</td><td>null</td><td>&quot;Rejected&quot;</td></tr><tr><td>&quot;../../../../da…</td><td>0.02333</td><td>&quot;96050003098023…</td><td>&quot;22364763783306…</td><td>&quot;BasicChecking&quot;</td><td>&quot;17697903747526…</td><td>&quot;Rejected&quot;</td></tr></tbody></table></div>"
      ],
      "text/plain": [
       "shape: (7, 7)\n",
       "┌──────────────┬─────────────┬─────────────┬─────────────┬─────────────┬─────────────┬─────────────┐\n",
       "│ filename     ┆ PREDICTOR_1 ┆ PREDICTOR_2 ┆ PREDICTOR_3 ┆ Context_Nam ┆ IH_Web_Inbo ┆ Decision_Ou │\n",
       "│ ---          ┆ ---         ┆ ---         ┆ ---         ┆ e           ┆ und_Accepte ┆ tcome       │\n",
       "│ str          ┆ f64         ┆ str         ┆ str         ┆ ---         ┆ d_pxLastGr… ┆ ---         │\n",
       "│              ┆             ┆             ┆             ┆ str         ┆ ---         ┆ str         │\n",
       "│              ┆             ┆             ┆             ┆             ┆ str         ┆             │\n",
       "╞══════════════╪═════════════╪═════════════╪═════════════╪═════════════╪═════════════╪═════════════╡\n",
       "│ ../../../../ ┆ 0.983033    ┆ 16936646699 ┆ 14630132741 ┆ FirstMortga ┆ 57899048446 ┆ Rejected    │\n",
       "│ data/SampleH ┆             ┆ 392871621   ┆ 46104747    ┆ ge30yr      ┆ 86603999    ┆             │\n",
       "│ DS.json      ┆             ┆             ┆             ┆             ┆             ┆             │\n",
       "│ ../../../../ ┆ 0.144221    ┆ 23234019987 ┆ 15549409961 ┆ FirstMortga ┆ 11569888462 ┆ Accepted    │\n",
       "│ data/SampleH ┆             ┆ 16893090    ┆ 407231445   ┆ ge30yr      ┆ 450455404   ┆             │\n",
       "│ DS.json      ┆             ┆             ┆             ┆             ┆             ┆             │\n",
       "│ ../../../../ ┆ 0.679745    ┆ 11723650837 ┆ 22364763783 ┆ MoneyMarket ┆ 57899048446 ┆ Rejected    │\n",
       "│ data/SampleH ┆             ┆ 036678807   ┆ 30621998    ┆ SavingsAcco ┆ 86603999    ┆             │\n",
       "│ DS.json      ┆             ┆             ┆             ┆ unt         ┆             ┆             │\n",
       "│ ../../../../ ┆ 1.0         ┆ 10056137171 ┆ 15549409961 ┆ BasicChecki ┆ 57899048446 ┆ Rejected    │\n",
       "│ data/SampleH ┆             ┆ 724853243   ┆ 407231445   ┆ ng          ┆ 86603999    ┆             │\n",
       "│ DS.json      ┆             ┆             ┆             ┆             ┆             ┆             │\n",
       "│ ../../../../ ┆ 0.718982    ┆ 12886228061 ┆ 14630132741 ┆ BasicChecki ┆ 17697903747 ┆ Accepted    │\n",
       "│ data/SampleH ┆             ┆ 037928621   ┆ 46104747    ┆ ng          ┆ 526964595   ┆             │\n",
       "│ DS.json      ┆             ┆             ┆             ┆             ┆             ┆             │\n",
       "│ ../../../../ ┆ 0.0         ┆ 13172422145 ┆ 22364763783 ┆ UPlusFinPer ┆ null        ┆ Rejected    │\n",
       "│ data/SampleH ┆             ┆ 582936254   ┆ 30621998    ┆ sonal       ┆             ┆             │\n",
       "│ DS.json      ┆             ┆             ┆             ┆             ┆             ┆             │\n",
       "│ ../../../../ ┆ 0.02333     ┆ 96050003098 ┆ 22364763783 ┆ BasicChecki ┆ 17697903747 ┆ Rejected    │\n",
       "│ data/SampleH ┆             ┆ 02324353    ┆ 30621998    ┆ ng          ┆ 526964595   ┆             │\n",
       "│ DS.json      ┆             ┆             ┆             ┆             ┆             ┆             │\n",
       "└──────────────┴─────────────┴─────────────┴─────────────┴─────────────┴─────────────┴─────────────┘"
      ]
     },
     "execution_count": 10,
     "metadata": {},
     "output_type": "execute_result"
    }
   ],
   "source": [
    "anon = DataAnonymization(config=Config(config_file='config.json'))\n",
    "anon.process()"
   ]
  },
  {
   "attachments": {},
   "cell_type": "markdown",
   "metadata": {},
   "source": [
    "## Exporting\n",
    "Two functions export:\n",
    "- `create_mapping_file()` writes the mapping file of the predictor names\n",
    "- `write_to_output()` writes the processed dataframe to disk\n",
    "\n",
    "Write to output accepts the following extensions: `[\"ndjson\", \"parquet\", \"arrow\", \"csv\"]`"
   ]
  },
  {
   "cell_type": "code",
   "execution_count": 11,
   "metadata": {
    "execution": {
     "iopub.execute_input": "2024-05-06T12:01:18.364888Z",
     "iopub.status.busy": "2024-05-06T12:01:18.364459Z",
     "iopub.status.idle": "2024-05-06T12:01:18.367787Z",
     "shell.execute_reply": "2024-05-06T12:01:18.367361Z"
    }
   },
   "outputs": [
    {
     "name": "stdout",
     "output_type": "stream",
     "text": [
      "filename=filename\n",
      "Customer_CLV=PREDICTOR_1\n",
      "Customer_City=PREDICTOR_2\n",
      "Customer_MaritalStatus=PREDICTOR_3\n",
      "Context_Name=Context_Name\n",
      "IH_Web_Inbound_Accepted_pxLastGroupID=IH_Web_Inbound_Accepted_pxLastGroupID\n",
      "Decision_Outcome=Decision_Outcome\n",
      "\n"
     ]
    }
   ],
   "source": [
    "anon.create_mapping_file()\n",
    "with open('mapping.map') as f:\n",
    "    print(f.read())"
   ]
  },
  {
   "cell_type": "code",
   "execution_count": 12,
   "metadata": {
    "execution": {
     "iopub.execute_input": "2024-05-06T12:01:18.369803Z",
     "iopub.status.busy": "2024-05-06T12:01:18.369399Z",
     "iopub.status.idle": "2024-05-06T12:01:18.373211Z",
     "shell.execute_reply": "2024-05-06T12:01:18.372790Z"
    }
   },
   "outputs": [],
   "source": [
    "anon.write_to_output(ext='arrow')"
   ]
  },
  {
   "cell_type": "code",
   "execution_count": 13,
   "metadata": {
    "execution": {
     "iopub.execute_input": "2024-05-06T12:01:18.375151Z",
     "iopub.status.busy": "2024-05-06T12:01:18.374835Z",
     "iopub.status.idle": "2024-05-06T12:01:18.379355Z",
     "shell.execute_reply": "2024-05-06T12:01:18.378913Z"
    }
   },
   "outputs": [
    {
     "data": {
      "text/html": [
       "<div><style>\n",
       ".dataframe > thead > tr,\n",
       ".dataframe > tbody > tr {\n",
       "  text-align: right;\n",
       "  white-space: pre-wrap;\n",
       "}\n",
       "</style>\n",
       "<small>shape: (7, 6)</small><table border=\"1\" class=\"dataframe\"><thead><tr><th>PREDICTOR_1</th><th>PREDICTOR_2</th><th>PREDICTOR_3</th><th>Context_Name</th><th>IH_Web_Inbound_Accepted_pxLastGroupID</th><th>Decision_Outcome</th></tr><tr><td>f64</td><td>str</td><td>str</td><td>str</td><td>str</td><td>str</td></tr></thead><tbody><tr><td>0.983033</td><td>&quot;15825643450177…</td><td>&quot;18084898034716…</td><td>&quot;FirstMortgage3…</td><td>&quot;86384298334016…</td><td>&quot;Rejected&quot;</td></tr><tr><td>0.144221</td><td>&quot;55101795317837…</td><td>&quot;21464700689903…</td><td>&quot;FirstMortgage3…</td><td>&quot;65467184100202…</td><td>&quot;Accepted&quot;</td></tr><tr><td>0.679745</td><td>&quot;17867860379024…</td><td>&quot;55191797887425…</td><td>&quot;MoneyMarketSav…</td><td>&quot;86384298334016…</td><td>&quot;Rejected&quot;</td></tr><tr><td>1.0</td><td>&quot;42466269793261…</td><td>&quot;21464700689903…</td><td>&quot;BasicChecking&quot;</td><td>&quot;86384298334016…</td><td>&quot;Rejected&quot;</td></tr><tr><td>0.718982</td><td>&quot;16437281485374…</td><td>&quot;18084898034716…</td><td>&quot;BasicChecking&quot;</td><td>&quot;18030301493602…</td><td>&quot;Accepted&quot;</td></tr><tr><td>0.0</td><td>&quot;12099079633666…</td><td>&quot;55191797887425…</td><td>&quot;UPlusFinPerson…</td><td>null</td><td>&quot;Rejected&quot;</td></tr><tr><td>0.02333</td><td>&quot;25585533347943…</td><td>&quot;55191797887425…</td><td>&quot;BasicChecking&quot;</td><td>&quot;18030301493602…</td><td>&quot;Rejected&quot;</td></tr></tbody></table></div>"
      ],
      "text/plain": [
       "shape: (7, 6)\n",
       "┌─────────────┬────────────────┬────────────────┬────────────────┬────────────────┬────────────────┐\n",
       "│ PREDICTOR_1 ┆ PREDICTOR_2    ┆ PREDICTOR_3    ┆ Context_Name   ┆ IH_Web_Inbound ┆ Decision_Outco │\n",
       "│ ---         ┆ ---            ┆ ---            ┆ ---            ┆ _Accepted_pxLa ┆ me             │\n",
       "│ f64         ┆ str            ┆ str            ┆ str            ┆ stGr…          ┆ ---            │\n",
       "│             ┆                ┆                ┆                ┆ ---            ┆ str            │\n",
       "│             ┆                ┆                ┆                ┆ str            ┆                │\n",
       "╞═════════════╪════════════════╪════════════════╪════════════════╪════════════════╪════════════════╡\n",
       "│ 0.983033    ┆ 15825643450177 ┆ 18084898034716 ┆ FirstMortgage3 ┆ 86384298334016 ┆ Rejected       │\n",
       "│             ┆ 00602          ┆ 646088         ┆ 0yr            ┆ 31174          ┆                │\n",
       "│ 0.144221    ┆ 55101795317837 ┆ 21464700689903 ┆ FirstMortgage3 ┆ 65467184100202 ┆ Accepted       │\n",
       "│             ┆ 91195          ┆ 17465          ┆ 0yr            ┆ 75694          ┆                │\n",
       "│ 0.679745    ┆ 17867860379024 ┆ 55191797887425 ┆ MoneyMarketSav ┆ 86384298334016 ┆ Rejected       │\n",
       "│             ┆ 490205         ┆ 66837          ┆ ingsAccount    ┆ 31174          ┆                │\n",
       "│ 1.0         ┆ 42466269793261 ┆ 21464700689903 ┆ BasicChecking  ┆ 86384298334016 ┆ Rejected       │\n",
       "│             ┆ 70674          ┆ 17465          ┆                ┆ 31174          ┆                │\n",
       "│ 0.718982    ┆ 16437281485374 ┆ 18084898034716 ┆ BasicChecking  ┆ 18030301493602 ┆ Accepted       │\n",
       "│             ┆ 097415         ┆ 646088         ┆                ┆ 868079         ┆                │\n",
       "│ 0.0         ┆ 12099079633666 ┆ 55191797887425 ┆ UPlusFinPerson ┆ null           ┆ Rejected       │\n",
       "│             ┆ 581230         ┆ 66837          ┆ al             ┆                ┆                │\n",
       "│ 0.02333     ┆ 25585533347943 ┆ 55191797887425 ┆ BasicChecking  ┆ 18030301493602 ┆ Rejected       │\n",
       "│             ┆ 22336          ┆ 66837          ┆                ┆ 868079         ┆                │\n",
       "└─────────────┴────────────────┴────────────────┴────────────────┴────────────────┴────────────────┘"
      ]
     },
     "execution_count": 13,
     "metadata": {},
     "output_type": "execute_result"
    }
   ],
   "source": [
    "pl.read_ipc('output/hds.arrow')"
   ]
  },
  {
   "attachments": {},
   "cell_type": "markdown",
   "metadata": {
    "nbsphinx": "hidden"
   },
   "source": [
    "## Advanced: Hash fuctions\n",
    "\n",
    "By default, we use [the same hashing algorithm Polars](https://pola-rs.github.io/polars/py-polars/html/reference/expressions/api/polars.Expr.hash.html#polars.Expr.hash) uses: [xxhash](https://github.com/Cyan4973/xxHash), as implemented [here](https://github.com/pola-rs/polars/blob/3f287f370b3c388ed2f3f218b2c096382548136f/polars/polars-core/src/vector_hasher.rs#L266). xxhash is fast to compute, and you can check its performance in collision, dispersion and randomness [here](https://github.com/Cyan4973/xxHash/tree/dev/tests). \n",
    "\n",
    "xxhash accepts four distinct seeds, but by default we set the seeds to `0`. It is possible to set the `seed` argument of the `process()` function to `'random'`, which will set all four seeds to a random integer between `0` and `1000000000`. Alternatively, it is possible to supply the four seeds manually with arguments `seed`, `seed_1`, `seed_2` and `seed_3`. \n",
    "\n",
    "If the xxhash with (random) seed(s) is not deemed sufficiently secure, it is possible to use your own hashing algorithm.\n",
    "\n",
    "Note that since we're now running python code and not native Polars code anymore, this will be _significantly_ slower. Nonetheless, it is possible.\n",
    "\n",
    "Just as an example - this is how one would use sha3_256:"
   ]
  },
  {
   "cell_type": "code",
   "execution_count": 14,
   "metadata": {
    "execution": {
     "iopub.execute_input": "2024-05-06T12:01:18.381167Z",
     "iopub.status.busy": "2024-05-06T12:01:18.381001Z",
     "iopub.status.idle": "2024-05-06T12:01:18.388867Z",
     "shell.execute_reply": "2024-05-06T12:01:18.388327Z"
    },
    "nbsphinx": "hidden"
   },
   "outputs": [
    {
     "data": {
      "text/html": [
       "<div><style>\n",
       ".dataframe > thead > tr,\n",
       ".dataframe > tbody > tr {\n",
       "  text-align: right;\n",
       "  white-space: pre-wrap;\n",
       "}\n",
       "</style>\n",
       "<small>shape: (7, 7)</small><table border=\"1\" class=\"dataframe\"><thead><tr><th>filename</th><th>PREDICTOR_1</th><th>PREDICTOR_2</th><th>PREDICTOR_3</th><th>Context_Name</th><th>IH_Web_Inbound_Accepted_pxLastGroupID</th><th>Decision_Outcome</th></tr><tr><td>str</td><td>f64</td><td>str</td><td>str</td><td>str</td><td>str</td><td>str</td></tr></thead><tbody><tr><td>&quot;../../../../da…</td><td>0.983033</td><td>&quot;c73023dda51de1…</td><td>&quot;af486bc1815c72…</td><td>&quot;FirstMortgage3…</td><td>&quot;2513d0e24d8d02…</td><td>&quot;Rejected&quot;</td></tr><tr><td>&quot;../../../../da…</td><td>0.144221</td><td>&quot;5414b197fb87b3…</td><td>&quot;3cdf7b1ae1342e…</td><td>&quot;FirstMortgage3…</td><td>&quot;8b55bf62fc2ecd…</td><td>&quot;Accepted&quot;</td></tr><tr><td>&quot;../../../../da…</td><td>0.679745</td><td>&quot;892f5d61a9215e…</td><td>&quot;806ef34eb8237f…</td><td>&quot;MoneyMarketSav…</td><td>&quot;2513d0e24d8d02…</td><td>&quot;Rejected&quot;</td></tr><tr><td>&quot;../../../../da…</td><td>1.0</td><td>&quot;c3aa807d9e927a…</td><td>&quot;3cdf7b1ae1342e…</td><td>&quot;BasicChecking&quot;</td><td>&quot;2513d0e24d8d02…</td><td>&quot;Rejected&quot;</td></tr><tr><td>&quot;../../../../da…</td><td>0.718982</td><td>&quot;c2d492f9a05073…</td><td>&quot;af486bc1815c72…</td><td>&quot;BasicChecking&quot;</td><td>&quot;1cd082ecbd5dd9…</td><td>&quot;Accepted&quot;</td></tr><tr><td>&quot;../../../../da…</td><td>0.0</td><td>&quot;b21059221605c4…</td><td>&quot;806ef34eb8237f…</td><td>&quot;UPlusFinPerson…</td><td>null</td><td>&quot;Rejected&quot;</td></tr><tr><td>&quot;../../../../da…</td><td>0.02333</td><td>&quot;80cbe489dcecd4…</td><td>&quot;806ef34eb8237f…</td><td>&quot;BasicChecking&quot;</td><td>&quot;1cd082ecbd5dd9…</td><td>&quot;Rejected&quot;</td></tr></tbody></table></div>"
      ],
      "text/plain": [
       "shape: (7, 7)\n",
       "┌──────────────┬─────────────┬─────────────┬─────────────┬─────────────┬─────────────┬─────────────┐\n",
       "│ filename     ┆ PREDICTOR_1 ┆ PREDICTOR_2 ┆ PREDICTOR_3 ┆ Context_Nam ┆ IH_Web_Inbo ┆ Decision_Ou │\n",
       "│ ---          ┆ ---         ┆ ---         ┆ ---         ┆ e           ┆ und_Accepte ┆ tcome       │\n",
       "│ str          ┆ f64         ┆ str         ┆ str         ┆ ---         ┆ d_pxLastGr… ┆ ---         │\n",
       "│              ┆             ┆             ┆             ┆ str         ┆ ---         ┆ str         │\n",
       "│              ┆             ┆             ┆             ┆             ┆ str         ┆             │\n",
       "╞══════════════╪═════════════╪═════════════╪═════════════╪═════════════╪═════════════╪═════════════╡\n",
       "│ ../../../../ ┆ 0.983033    ┆ c73023dda51 ┆ af486bc1815 ┆ FirstMortga ┆ 2513d0e24d8 ┆ Rejected    │\n",
       "│ data/SampleH ┆             ┆ de1b84f7af7 ┆ c726c357890 ┆ ge30yr      ┆ d0214eda4fb ┆             │\n",
       "│ DS.json      ┆             ┆ 74fd6f8c73… ┆ ac2a40ba98… ┆             ┆ 454447162b… ┆             │\n",
       "│ ../../../../ ┆ 0.144221    ┆ 5414b197fb8 ┆ 3cdf7b1ae13 ┆ FirstMortga ┆ 8b55bf62fc2 ┆ Accepted    │\n",
       "│ data/SampleH ┆             ┆ 7b3f2e350d7 ┆ 42ef979ea2a ┆ ge30yr      ┆ ecd16af97d4 ┆             │\n",
       "│ DS.json      ┆             ┆ a74a840a81… ┆ 782541ad05… ┆             ┆ 8e469362cf… ┆             │\n",
       "│ ../../../../ ┆ 0.679745    ┆ 892f5d61a92 ┆ 806ef34eb82 ┆ MoneyMarket ┆ 2513d0e24d8 ┆ Rejected    │\n",
       "│ data/SampleH ┆             ┆ 15ef985f3fa ┆ 37f4db85004 ┆ SavingsAcco ┆ d0214eda4fb ┆             │\n",
       "│ DS.json      ┆             ┆ 293d51c92e… ┆ e96dc471d8… ┆ unt         ┆ 454447162b… ┆             │\n",
       "│ ../../../../ ┆ 1.0         ┆ c3aa807d9e9 ┆ 3cdf7b1ae13 ┆ BasicChecki ┆ 2513d0e24d8 ┆ Rejected    │\n",
       "│ data/SampleH ┆             ┆ 27ae426a89e ┆ 42ef979ea2a ┆ ng          ┆ d0214eda4fb ┆             │\n",
       "│ DS.json      ┆             ┆ 76a12b9160… ┆ 782541ad05… ┆             ┆ 454447162b… ┆             │\n",
       "│ ../../../../ ┆ 0.718982    ┆ c2d492f9a05 ┆ af486bc1815 ┆ BasicChecki ┆ 1cd082ecbd5 ┆ Accepted    │\n",
       "│ data/SampleH ┆             ┆ 07327c14285 ┆ c726c357890 ┆ ng          ┆ dd95383b104 ┆             │\n",
       "│ DS.json      ┆             ┆ e94e8ee54c… ┆ ac2a40ba98… ┆             ┆ 65e395c1f7… ┆             │\n",
       "│ ../../../../ ┆ 0.0         ┆ b2105922160 ┆ 806ef34eb82 ┆ UPlusFinPer ┆ null        ┆ Rejected    │\n",
       "│ data/SampleH ┆             ┆ 5c49757cfe0 ┆ 37f4db85004 ┆ sonal       ┆             ┆             │\n",
       "│ DS.json      ┆             ┆ fee45640db… ┆ e96dc471d8… ┆             ┆             ┆             │\n",
       "│ ../../../../ ┆ 0.02333     ┆ 80cbe489dce ┆ 806ef34eb82 ┆ BasicChecki ┆ 1cd082ecbd5 ┆ Rejected    │\n",
       "│ data/SampleH ┆             ┆ cd4b9304898 ┆ 37f4db85004 ┆ ng          ┆ dd95383b104 ┆             │\n",
       "│ DS.json      ┆             ┆ c9986afeeb… ┆ e96dc471d8… ┆             ┆ 65e395c1f7… ┆             │\n",
       "└──────────────┴─────────────┴─────────────┴─────────────┴─────────────┴─────────────┴─────────────┘"
      ]
     },
     "execution_count": 14,
     "metadata": {},
     "output_type": "execute_result"
    }
   ],
   "source": [
    "from hashlib import sha3_256\n",
    "\n",
    "anon.process(algorithm=lambda x: sha3_256(x.encode()).hexdigest())"
   ]
  }
 ],
 "metadata": {
  "kernelspec": {
   "display_name": "Python 3",
   "language": "python",
   "name": "python3"
  },
  "language_info": {
   "codemirror_mode": {
    "name": "ipython",
    "version": 3
   },
   "file_extension": ".py",
   "mimetype": "text/x-python",
   "name": "python",
   "nbconvert_exporter": "python",
   "pygments_lexer": "ipython3",
   "version": "3.11.9"
  },
  "vscode": {
   "interpreter": {
    "hash": "aee8b7b246df8f9039afb4144a1f6fd8d2ca17a180786b69acc140d282b71a49"
   }
  }
 },
 "nbformat": 4,
 "nbformat_minor": 2
}
