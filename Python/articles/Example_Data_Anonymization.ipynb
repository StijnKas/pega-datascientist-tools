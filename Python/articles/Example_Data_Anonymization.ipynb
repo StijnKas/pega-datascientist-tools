{
 "cells": [
  {
   "attachments": {},
   "cell_type": "markdown",
   "metadata": {},
   "source": [
    "# Data Anonymization\n",
    "\n",
    "In Pega CDH 8.5 and up, it's now possible to record the historical data as seen by the Adaptive Models. See [this academy challenge](https://academy.pega.com/challenge/exporting-historical-data/v4) for reference. This historical data can be further used to experiment with offline models, but also to fine-tune the OOTB Gradient Boosting model. However, sharing this information with Pega can be sensitive as it contains raw predictor data. \n",
    "\n",
    "To this end, we provide a simple and transparent script to fully anonimize this dataset.\n",
    "\n",
    "The DataAnonymization script is now part of pdstools, and you can import it directly as such."
   ]
  },
  {
   "cell_type": "code",
   "execution_count": 1,
   "metadata": {
    "execution": {
     "iopub.execute_input": "2024-06-13T12:19:19.489088Z",
     "iopub.status.busy": "2024-06-13T12:19:19.488587Z",
     "iopub.status.idle": "2024-06-13T12:19:19.561420Z",
     "shell.execute_reply": "2024-06-13T12:19:19.560877Z"
    },
    "nbsphinx": "hidden"
   },
   "outputs": [],
   "source": [
    "# These lines are only for rendering in the docs, and are hidden through Jupyter tags\n",
    "# Do not run if you're running the notebook seperately\n",
    "\n",
    "import os  \n",
    "import sys\n",
    "import plotly.io as pio\n",
    "pio.renderers.default = \"notebook_connected\"\n",
    "\n",
    "sys.path.append(\"../../../\")\n",
    "sys.path.append('../../python')"
   ]
  },
  {
   "cell_type": "code",
   "execution_count": 2,
   "metadata": {
    "execution": {
     "iopub.execute_input": "2024-06-13T12:19:19.563936Z",
     "iopub.status.busy": "2024-06-13T12:19:19.563568Z",
     "iopub.status.idle": "2024-06-13T12:19:20.652304Z",
     "shell.execute_reply": "2024-06-13T12:19:20.651802Z"
    }
   },
   "outputs": [],
   "source": [
    "from pdstools import ADMDatamart\n",
    "from pdstools import Config, DataAnonymization\n",
    "import polars as pl"
   ]
  },
  {
   "attachments": {},
   "cell_type": "markdown",
   "metadata": {},
   "source": [
    "## Input data\n",
    "\n",
    "To demonstrate this process, we're going to anonymise this toy example dataframe:"
   ]
  },
  {
   "cell_type": "code",
   "execution_count": 3,
   "metadata": {
    "execution": {
     "iopub.execute_input": "2024-06-13T12:19:20.654947Z",
     "iopub.status.busy": "2024-06-13T12:19:20.654487Z",
     "iopub.status.idle": "2024-06-13T12:19:20.662969Z",
     "shell.execute_reply": "2024-06-13T12:19:20.662487Z"
    }
   },
   "outputs": [
    {
     "data": {
      "text/html": [
       "<div><style>\n",
       ".dataframe > thead > tr,\n",
       ".dataframe > tbody > tr {\n",
       "  text-align: right;\n",
       "  white-space: pre-wrap;\n",
       "}\n",
       "</style>\n",
       "<small>shape: (7, 6)</small><table border=\"1\" class=\"dataframe\"><thead><tr><th>Context_Name</th><th>Customer_MaritalStatus</th><th>Customer_CLV</th><th>Customer_City</th><th>IH_Web_Inbound_Accepted_pxLastGroupID</th><th>Decision_Outcome</th></tr><tr><td>str</td><td>str</td><td>i64</td><td>str</td><td>str</td><td>str</td></tr></thead><tbody><tr><td>&quot;FirstMortgage30yr&quot;</td><td>&quot;Married&quot;</td><td>1460</td><td>&quot;Port Raoul&quot;</td><td>&quot;Account&quot;</td><td>&quot;Rejected&quot;</td></tr><tr><td>&quot;FirstMortgage30yr&quot;</td><td>&quot;Unknown&quot;</td><td>669</td><td>&quot;Laurianneshire&quot;</td><td>&quot;AutoLoans&quot;</td><td>&quot;Accepted&quot;</td></tr><tr><td>&quot;MoneyMarketSavingsAccount&quot;</td><td>&quot;No Resp+&quot;</td><td>1174</td><td>&quot;Jacobshaven&quot;</td><td>&quot;Account&quot;</td><td>&quot;Rejected&quot;</td></tr><tr><td>&quot;BasicChecking&quot;</td><td>&quot;Unknown&quot;</td><td>1476</td><td>&quot;Lindton&quot;</td><td>&quot;Account&quot;</td><td>&quot;Rejected&quot;</td></tr><tr><td>&quot;BasicChecking&quot;</td><td>&quot;Married&quot;</td><td>1211</td><td>&quot;South Jimmieshire&quot;</td><td>&quot;DepositAccounts&quot;</td><td>&quot;Accepted&quot;</td></tr><tr><td>&quot;UPlusFinPersonal&quot;</td><td>&quot;No Resp+&quot;</td><td>533</td><td>&quot;Bergeville&quot;</td><td>null</td><td>&quot;Rejected&quot;</td></tr><tr><td>&quot;BasicChecking&quot;</td><td>&quot;No Resp+&quot;</td><td>555</td><td>&quot;Willyville&quot;</td><td>&quot;DepositAccounts&quot;</td><td>&quot;Rejected&quot;</td></tr></tbody></table></div>"
      ],
      "text/plain": [
       "shape: (7, 6)\n",
       "┌────────────────┬────────────────┬──────────────┬────────────────┬────────────────┬───────────────┐\n",
       "│ Context_Name   ┆ Customer_Marit ┆ Customer_CLV ┆ Customer_City  ┆ IH_Web_Inbound ┆ Decision_Outc │\n",
       "│ ---            ┆ alStatus       ┆ ---          ┆ ---            ┆ _Accepted_pxLa ┆ ome           │\n",
       "│ str            ┆ ---            ┆ i64          ┆ str            ┆ st…            ┆ ---           │\n",
       "│                ┆ str            ┆              ┆                ┆ ---            ┆ str           │\n",
       "│                ┆                ┆              ┆                ┆ str            ┆               │\n",
       "╞════════════════╪════════════════╪══════════════╪════════════════╪════════════════╪═══════════════╡\n",
       "│ FirstMortgage3 ┆ Married        ┆ 1460         ┆ Port Raoul     ┆ Account        ┆ Rejected      │\n",
       "│ 0yr            ┆                ┆              ┆                ┆                ┆               │\n",
       "│ FirstMortgage3 ┆ Unknown        ┆ 669          ┆ Laurianneshire ┆ AutoLoans      ┆ Accepted      │\n",
       "│ 0yr            ┆                ┆              ┆                ┆                ┆               │\n",
       "│ MoneyMarketSav ┆ No Resp+       ┆ 1174         ┆ Jacobshaven    ┆ Account        ┆ Rejected      │\n",
       "│ ingsAccount    ┆                ┆              ┆                ┆                ┆               │\n",
       "│ BasicChecking  ┆ Unknown        ┆ 1476         ┆ Lindton        ┆ Account        ┆ Rejected      │\n",
       "│ BasicChecking  ┆ Married        ┆ 1211         ┆ South          ┆ DepositAccount ┆ Accepted      │\n",
       "│                ┆                ┆              ┆ Jimmieshire    ┆ s              ┆               │\n",
       "│ UPlusFinPerson ┆ No Resp+       ┆ 533          ┆ Bergeville     ┆ null           ┆ Rejected      │\n",
       "│ al             ┆                ┆              ┆                ┆                ┆               │\n",
       "│ BasicChecking  ┆ No Resp+       ┆ 555          ┆ Willyville     ┆ DepositAccount ┆ Rejected      │\n",
       "│                ┆                ┆              ┆                ┆ s              ┆               │\n",
       "└────────────────┴────────────────┴──────────────┴────────────────┴────────────────┴───────────────┘"
      ]
     },
     "execution_count": 3,
     "metadata": {},
     "output_type": "execute_result"
    }
   ],
   "source": [
    "pl.read_ndjson('../../../../data/SampleHDS.json')"
   ]
  },
  {
   "attachments": {},
   "cell_type": "markdown",
   "metadata": {},
   "source": [
    "As you can see, this dataset consists of regular predictors, IH predictors, context keys and the outcome column. Additionally, some columns are numeric, others are strings. Let's first initialize the DataAnonymization class."
   ]
  },
  {
   "cell_type": "code",
   "execution_count": 4,
   "metadata": {
    "execution": {
     "iopub.execute_input": "2024-06-13T12:19:20.665136Z",
     "iopub.status.busy": "2024-06-13T12:19:20.664796Z",
     "iopub.status.idle": "2024-06-13T12:19:20.674569Z",
     "shell.execute_reply": "2024-06-13T12:19:20.674060Z"
    }
   },
   "outputs": [],
   "source": [
    "anon = DataAnonymization(hds_folder='../../../../data/')"
   ]
  },
  {
   "attachments": {},
   "cell_type": "markdown",
   "metadata": {},
   "source": [
    "By default, the class applies a set of anonymisation techniques:\n",
    "- Column names are remapped to a non-descriptive name\n",
    "- Categorical values are hashed with a random seed\n",
    "- Numerical values are normalized between 0 and 1\n",
    "- Outcomes are mapped to a binary outcome.\n",
    "\n",
    "To apply these techniques, simply call `.process()`:"
   ]
  },
  {
   "cell_type": "code",
   "execution_count": 5,
   "metadata": {
    "execution": {
     "iopub.execute_input": "2024-06-13T12:19:20.676911Z",
     "iopub.status.busy": "2024-06-13T12:19:20.676569Z",
     "iopub.status.idle": "2024-06-13T12:19:20.681739Z",
     "shell.execute_reply": "2024-06-13T12:19:20.681296Z"
    }
   },
   "outputs": [
    {
     "data": {
      "text/html": [
       "<div><style>\n",
       ".dataframe > thead > tr,\n",
       ".dataframe > tbody > tr {\n",
       "  text-align: right;\n",
       "  white-space: pre-wrap;\n",
       "}\n",
       "</style>\n",
       "<small>shape: (7, 7)</small><table border=\"1\" class=\"dataframe\"><thead><tr><th>PREDICTOR_0</th><th>filename</th><th>PREDICTOR_2</th><th>PREDICTOR_3</th><th>Context_Name</th><th>IH_PREDICTOR_0</th><th>Decision_Outcome</th></tr><tr><td>f64</td><td>str</td><td>str</td><td>str</td><td>str</td><td>str</td><td>bool</td></tr></thead><tbody><tr><td>5.5193e18</td><td>&quot;../../../../data/SampleHDS.jso…</td><td>&quot;3258165678962932075&quot;</td><td>&quot;9184493603045775258&quot;</td><td>&quot;7665004586841417428&quot;</td><td>&quot;16521606622963095632&quot;</td><td>false</td></tr><tr><td>1.5780e19</td><td>&quot;../../../../data/SampleHDS.jso…</td><td>&quot;3380990991682986277&quot;</td><td>&quot;501112477279658905&quot;</td><td>&quot;7665004586841417428&quot;</td><td>&quot;1065193309851533591&quot;</td><td>true</td></tr><tr><td>1.3277e19</td><td>&quot;../../../../data/SampleHDS.jso…</td><td>&quot;1371915189835564343&quot;</td><td>&quot;9287635948254952966&quot;</td><td>&quot;3266902106700833942&quot;</td><td>&quot;16521606622963095632&quot;</td><td>false</td></tr><tr><td>1.3712e19</td><td>&quot;../../../../data/SampleHDS.jso…</td><td>&quot;3380990991682986277&quot;</td><td>&quot;635234052266619310&quot;</td><td>&quot;12538307450235557520&quot;</td><td>&quot;16521606622963095632&quot;</td><td>false</td></tr><tr><td>1.1502e19</td><td>&quot;../../../../data/SampleHDS.jso…</td><td>&quot;3258165678962932075&quot;</td><td>&quot;4067609721217044417&quot;</td><td>&quot;12538307450235557520&quot;</td><td>&quot;8850363451957809979&quot;</td><td>true</td></tr><tr><td>4.5287e17</td><td>&quot;../../../../data/SampleHDS.jso…</td><td>&quot;1371915189835564343&quot;</td><td>&quot;395630959096225915&quot;</td><td>&quot;9534268819796278518&quot;</td><td>null</td><td>false</td></tr><tr><td>1.1111e19</td><td>&quot;../../../../data/SampleHDS.jso…</td><td>&quot;1371915189835564343&quot;</td><td>&quot;2763231852670596127&quot;</td><td>&quot;12538307450235557520&quot;</td><td>&quot;8850363451957809979&quot;</td><td>false</td></tr></tbody></table></div>"
      ],
      "text/plain": [
       "shape: (7, 7)\n",
       "┌─────────────┬──────────────┬─────────────┬─────────────┬─────────────┬─────────────┬─────────────┐\n",
       "│ PREDICTOR_0 ┆ filename     ┆ PREDICTOR_2 ┆ PREDICTOR_3 ┆ Context_Nam ┆ IH_PREDICTO ┆ Decision_Ou │\n",
       "│ ---         ┆ ---          ┆ ---         ┆ ---         ┆ e           ┆ R_0         ┆ tcome       │\n",
       "│ f64         ┆ str          ┆ str         ┆ str         ┆ ---         ┆ ---         ┆ ---         │\n",
       "│             ┆              ┆             ┆             ┆ str         ┆ str         ┆ bool        │\n",
       "╞═════════════╪══════════════╪═════════════╪═════════════╪═════════════╪═════════════╪═════════════╡\n",
       "│ 5.5193e18   ┆ ../../../../ ┆ 32581656789 ┆ 91844936030 ┆ 76650045868 ┆ 16521606622 ┆ false       │\n",
       "│             ┆ data/SampleH ┆ 62932075    ┆ 45775258    ┆ 41417428    ┆ 963095632   ┆             │\n",
       "│             ┆ DS.jso…      ┆             ┆             ┆             ┆             ┆             │\n",
       "│ 1.5780e19   ┆ ../../../../ ┆ 33809909916 ┆ 50111247727 ┆ 76650045868 ┆ 10651933098 ┆ true        │\n",
       "│             ┆ data/SampleH ┆ 82986277    ┆ 9658905     ┆ 41417428    ┆ 51533591    ┆             │\n",
       "│             ┆ DS.jso…      ┆             ┆             ┆             ┆             ┆             │\n",
       "│ 1.3277e19   ┆ ../../../../ ┆ 13719151898 ┆ 92876359482 ┆ 32669021067 ┆ 16521606622 ┆ false       │\n",
       "│             ┆ data/SampleH ┆ 35564343    ┆ 54952966    ┆ 00833942    ┆ 963095632   ┆             │\n",
       "│             ┆ DS.jso…      ┆             ┆             ┆             ┆             ┆             │\n",
       "│ 1.3712e19   ┆ ../../../../ ┆ 33809909916 ┆ 63523405226 ┆ 12538307450 ┆ 16521606622 ┆ false       │\n",
       "│             ┆ data/SampleH ┆ 82986277    ┆ 6619310     ┆ 235557520   ┆ 963095632   ┆             │\n",
       "│             ┆ DS.jso…      ┆             ┆             ┆             ┆             ┆             │\n",
       "│ 1.1502e19   ┆ ../../../../ ┆ 32581656789 ┆ 40676097212 ┆ 12538307450 ┆ 88503634519 ┆ true        │\n",
       "│             ┆ data/SampleH ┆ 62932075    ┆ 17044417    ┆ 235557520   ┆ 57809979    ┆             │\n",
       "│             ┆ DS.jso…      ┆             ┆             ┆             ┆             ┆             │\n",
       "│ 4.5287e17   ┆ ../../../../ ┆ 13719151898 ┆ 39563095909 ┆ 95342688197 ┆ null        ┆ false       │\n",
       "│             ┆ data/SampleH ┆ 35564343    ┆ 6225915     ┆ 96278518    ┆             ┆             │\n",
       "│             ┆ DS.jso…      ┆             ┆             ┆             ┆             ┆             │\n",
       "│ 1.1111e19   ┆ ../../../../ ┆ 13719151898 ┆ 27632318526 ┆ 12538307450 ┆ 88503634519 ┆ false       │\n",
       "│             ┆ data/SampleH ┆ 35564343    ┆ 70596127    ┆ 235557520   ┆ 57809979    ┆             │\n",
       "│             ┆ DS.jso…      ┆             ┆             ┆             ┆             ┆             │\n",
       "└─────────────┴──────────────┴─────────────┴─────────────┴─────────────┴─────────────┴─────────────┘"
      ]
     },
     "execution_count": 5,
     "metadata": {},
     "output_type": "execute_result"
    }
   ],
   "source": [
    "anon.process()"
   ]
  },
  {
   "attachments": {},
   "cell_type": "markdown",
   "metadata": {},
   "source": [
    "To trace back the columns to their original names, the class also contains a mapping, which does not have to be provided."
   ]
  },
  {
   "cell_type": "code",
   "execution_count": 6,
   "metadata": {
    "execution": {
     "iopub.execute_input": "2024-06-13T12:19:20.683868Z",
     "iopub.status.busy": "2024-06-13T12:19:20.683461Z",
     "iopub.status.idle": "2024-06-13T12:19:20.688489Z",
     "shell.execute_reply": "2024-06-13T12:19:20.688037Z"
    }
   },
   "outputs": [
    {
     "data": {
      "text/plain": [
       "{'Customer_CLV': 'PREDICTOR_0',\n",
       " 'filename': 'filename',\n",
       " 'Customer_MaritalStatus': 'PREDICTOR_2',\n",
       " 'Customer_City': 'PREDICTOR_3',\n",
       " 'Context_Name': 'Context_Name',\n",
       " 'IH_Web_Inbound_Accepted_pxLastGroupID': 'IH_PREDICTOR_0',\n",
       " 'Decision_Outcome': 'Decision_Outcome'}"
      ]
     },
     "execution_count": 6,
     "metadata": {},
     "output_type": "execute_result"
    }
   ],
   "source": [
    "anon.column_mapping"
   ]
  },
  {
   "attachments": {},
   "cell_type": "markdown",
   "metadata": {},
   "source": [
    "## Configs\n",
    "\n",
    "Each capability can optionally be turned off - see below for the full list of config options, and refer to the API reference for the full description."
   ]
  },
  {
   "cell_type": "code",
   "execution_count": 7,
   "metadata": {
    "execution": {
     "iopub.execute_input": "2024-06-13T12:19:20.690495Z",
     "iopub.status.busy": "2024-06-13T12:19:20.690144Z",
     "iopub.status.idle": "2024-06-13T12:19:20.694266Z",
     "shell.execute_reply": "2024-06-13T12:19:20.693791Z"
    }
   },
   "outputs": [
    {
     "data": {
      "text/plain": [
       "{'config_file': None,\n",
       " 'hds_folder': '.',\n",
       " 'use_datamart': False,\n",
       " 'datamart_folder': 'datamart',\n",
       " 'output_format': 'ndjson',\n",
       " 'output_folder': 'output',\n",
       " 'mapping_file': 'mapping.map',\n",
       " 'mask_predictor_names': True,\n",
       " 'mask_context_key_names': False,\n",
       " 'mask_ih_names': True,\n",
       " 'mask_outcome_name': False,\n",
       " 'mask_predictor_values': True,\n",
       " 'mask_context_key_values': True,\n",
       " 'mask_ih_values': True,\n",
       " 'mask_outcome_values': True,\n",
       " 'context_key_label': 'Context_*',\n",
       " 'ih_label': 'IH_*',\n",
       " 'outcome_column': 'Decision_Outcome',\n",
       " 'positive_outcomes': ['Accepted', 'Clicked'],\n",
       " 'negative_outcomes': ['Rejected', 'Impression'],\n",
       " 'special_predictors': ['Decision_DecisionTime',\n",
       "  'Decision_OutcomeTime',\n",
       "  'Decision_Rank'],\n",
       " 'sample_percentage_schema_inferencing': 0.01}"
      ]
     },
     "execution_count": 7,
     "metadata": {},
     "output_type": "execute_result"
    }
   ],
   "source": [
    "dict(zip(Config.__init__.__code__.co_varnames[1:], Config.__init__.__defaults__))"
   ]
  },
  {
   "attachments": {},
   "cell_type": "markdown",
   "metadata": {},
   "source": [
    "It's easy to change these parameters by just passing the keyword arguments. In the following example, we\n",
    "- Keep the IH predictor names\n",
    "- Keep the outcome values\n",
    "- Keep the context key values\n",
    "- Keep the context key predictor names"
   ]
  },
  {
   "cell_type": "code",
   "execution_count": 8,
   "metadata": {
    "execution": {
     "iopub.execute_input": "2024-06-13T12:19:20.696293Z",
     "iopub.status.busy": "2024-06-13T12:19:20.695955Z",
     "iopub.status.idle": "2024-06-13T12:19:20.704228Z",
     "shell.execute_reply": "2024-06-13T12:19:20.703762Z"
    }
   },
   "outputs": [
    {
     "data": {
      "text/html": [
       "<div><style>\n",
       ".dataframe > thead > tr,\n",
       ".dataframe > tbody > tr {\n",
       "  text-align: right;\n",
       "  white-space: pre-wrap;\n",
       "}\n",
       "</style>\n",
       "<small>shape: (7, 7)</small><table border=\"1\" class=\"dataframe\"><thead><tr><th>PREDICTOR_0</th><th>filename</th><th>PREDICTOR_2</th><th>PREDICTOR_3</th><th>Context_Name</th><th>IH_Web_Inbound_Accepted_pxLastGroupID</th><th>Decision_Outcome</th></tr><tr><td>f64</td><td>str</td><td>str</td><td>str</td><td>str</td><td>str</td><td>str</td></tr></thead><tbody><tr><td>8.0678e18</td><td>&quot;../../../../data/SampleHDS.jso…</td><td>&quot;595426668990621478&quot;</td><td>&quot;4788707918917151690&quot;</td><td>&quot;FirstMortgage30yr&quot;</td><td>&quot;10632139373496480660&quot;</td><td>&quot;Rejected&quot;</td></tr><tr><td>6.1752e18</td><td>&quot;../../../../data/SampleHDS.jso…</td><td>&quot;6617398294627908307&quot;</td><td>&quot;12127642948343536515&quot;</td><td>&quot;FirstMortgage30yr&quot;</td><td>&quot;1704931731693259024&quot;</td><td>&quot;Accepted&quot;</td></tr><tr><td>2.5197e18</td><td>&quot;../../../../data/SampleHDS.jso…</td><td>&quot;745765905844617548&quot;</td><td>&quot;15327258071907462668&quot;</td><td>&quot;MoneyMarketSavingsAccount&quot;</td><td>&quot;10632139373496480660&quot;</td><td>&quot;Rejected&quot;</td></tr><tr><td>3.3325e18</td><td>&quot;../../../../data/SampleHDS.jso…</td><td>&quot;6617398294627908307&quot;</td><td>&quot;17862234441801319459&quot;</td><td>&quot;BasicChecking&quot;</td><td>&quot;10632139373496480660&quot;</td><td>&quot;Rejected&quot;</td></tr><tr><td>1.6156e19</td><td>&quot;../../../../data/SampleHDS.jso…</td><td>&quot;595426668990621478&quot;</td><td>&quot;15071501714278042604&quot;</td><td>&quot;BasicChecking&quot;</td><td>&quot;17310792191252599422&quot;</td><td>&quot;Accepted&quot;</td></tr><tr><td>6.5497e18</td><td>&quot;../../../../data/SampleHDS.jso…</td><td>&quot;745765905844617548&quot;</td><td>&quot;14038888645691559395&quot;</td><td>&quot;UPlusFinPersonal&quot;</td><td>null</td><td>&quot;Rejected&quot;</td></tr><tr><td>7.3540e18</td><td>&quot;../../../../data/SampleHDS.jso…</td><td>&quot;745765905844617548&quot;</td><td>&quot;15396348283890255518&quot;</td><td>&quot;BasicChecking&quot;</td><td>&quot;17310792191252599422&quot;</td><td>&quot;Rejected&quot;</td></tr></tbody></table></div>"
      ],
      "text/plain": [
       "shape: (7, 7)\n",
       "┌─────────────┬──────────────┬─────────────┬─────────────┬─────────────┬─────────────┬─────────────┐\n",
       "│ PREDICTOR_0 ┆ filename     ┆ PREDICTOR_2 ┆ PREDICTOR_3 ┆ Context_Nam ┆ IH_Web_Inbo ┆ Decision_Ou │\n",
       "│ ---         ┆ ---          ┆ ---         ┆ ---         ┆ e           ┆ und_Accepte ┆ tcome       │\n",
       "│ f64         ┆ str          ┆ str         ┆ str         ┆ ---         ┆ d_pxLast…   ┆ ---         │\n",
       "│             ┆              ┆             ┆             ┆ str         ┆ ---         ┆ str         │\n",
       "│             ┆              ┆             ┆             ┆             ┆ str         ┆             │\n",
       "╞═════════════╪══════════════╪═════════════╪═════════════╪═════════════╪═════════════╪═════════════╡\n",
       "│ 8.0678e18   ┆ ../../../../ ┆ 59542666899 ┆ 47887079189 ┆ FirstMortga ┆ 10632139373 ┆ Rejected    │\n",
       "│             ┆ data/SampleH ┆ 0621478     ┆ 17151690    ┆ ge30yr      ┆ 496480660   ┆             │\n",
       "│             ┆ DS.jso…      ┆             ┆             ┆             ┆             ┆             │\n",
       "│ 6.1752e18   ┆ ../../../../ ┆ 66173982946 ┆ 12127642948 ┆ FirstMortga ┆ 17049317316 ┆ Accepted    │\n",
       "│             ┆ data/SampleH ┆ 27908307    ┆ 343536515   ┆ ge30yr      ┆ 93259024    ┆             │\n",
       "│             ┆ DS.jso…      ┆             ┆             ┆             ┆             ┆             │\n",
       "│ 2.5197e18   ┆ ../../../../ ┆ 74576590584 ┆ 15327258071 ┆ MoneyMarket ┆ 10632139373 ┆ Rejected    │\n",
       "│             ┆ data/SampleH ┆ 4617548     ┆ 907462668   ┆ SavingsAcco ┆ 496480660   ┆             │\n",
       "│             ┆ DS.jso…      ┆             ┆             ┆ unt         ┆             ┆             │\n",
       "│ 3.3325e18   ┆ ../../../../ ┆ 66173982946 ┆ 17862234441 ┆ BasicChecki ┆ 10632139373 ┆ Rejected    │\n",
       "│             ┆ data/SampleH ┆ 27908307    ┆ 801319459   ┆ ng          ┆ 496480660   ┆             │\n",
       "│             ┆ DS.jso…      ┆             ┆             ┆             ┆             ┆             │\n",
       "│ 1.6156e19   ┆ ../../../../ ┆ 59542666899 ┆ 15071501714 ┆ BasicChecki ┆ 17310792191 ┆ Accepted    │\n",
       "│             ┆ data/SampleH ┆ 0621478     ┆ 278042604   ┆ ng          ┆ 252599422   ┆             │\n",
       "│             ┆ DS.jso…      ┆             ┆             ┆             ┆             ┆             │\n",
       "│ 6.5497e18   ┆ ../../../../ ┆ 74576590584 ┆ 14038888645 ┆ UPlusFinPer ┆ null        ┆ Rejected    │\n",
       "│             ┆ data/SampleH ┆ 4617548     ┆ 691559395   ┆ sonal       ┆             ┆             │\n",
       "│             ┆ DS.jso…      ┆             ┆             ┆             ┆             ┆             │\n",
       "│ 7.3540e18   ┆ ../../../../ ┆ 74576590584 ┆ 15396348283 ┆ BasicChecki ┆ 17310792191 ┆ Rejected    │\n",
       "│             ┆ data/SampleH ┆ 4617548     ┆ 890255518   ┆ ng          ┆ 252599422   ┆             │\n",
       "│             ┆ DS.jso…      ┆             ┆             ┆             ┆             ┆             │\n",
       "└─────────────┴──────────────┴─────────────┴─────────────┴─────────────┴─────────────┴─────────────┘"
      ]
     },
     "execution_count": 8,
     "metadata": {},
     "output_type": "execute_result"
    }
   ],
   "source": [
    "anon = DataAnonymization(\n",
    "    hds_folder=\"../../../../data/\",\n",
    "    mask_ih_names=False,\n",
    "    mask_outcome_values=False,\n",
    "    mask_context_key_values=False,\n",
    "    mask_context_key_names=False,\n",
    ")\n",
    "anon.process()\n"
   ]
  },
  {
   "attachments": {},
   "cell_type": "markdown",
   "metadata": {},
   "source": [
    "The configs can also be written and read as such:"
   ]
  },
  {
   "cell_type": "code",
   "execution_count": 9,
   "metadata": {
    "execution": {
     "iopub.execute_input": "2024-06-13T12:19:20.706223Z",
     "iopub.status.busy": "2024-06-13T12:19:20.705944Z",
     "iopub.status.idle": "2024-06-13T12:19:20.708993Z",
     "shell.execute_reply": "2024-06-13T12:19:20.708550Z"
    }
   },
   "outputs": [],
   "source": [
    "anon.config.save_to_config_file('config.json')"
   ]
  },
  {
   "cell_type": "code",
   "execution_count": 10,
   "metadata": {
    "execution": {
     "iopub.execute_input": "2024-06-13T12:19:20.711026Z",
     "iopub.status.busy": "2024-06-13T12:19:20.710700Z",
     "iopub.status.idle": "2024-06-13T12:19:20.718733Z",
     "shell.execute_reply": "2024-06-13T12:19:20.718156Z"
    }
   },
   "outputs": [
    {
     "data": {
      "text/html": [
       "<div><style>\n",
       ".dataframe > thead > tr,\n",
       ".dataframe > tbody > tr {\n",
       "  text-align: right;\n",
       "  white-space: pre-wrap;\n",
       "}\n",
       "</style>\n",
       "<small>shape: (7, 7)</small><table border=\"1\" class=\"dataframe\"><thead><tr><th>PREDICTOR_0</th><th>filename</th><th>PREDICTOR_2</th><th>PREDICTOR_3</th><th>Context_Name</th><th>IH_Web_Inbound_Accepted_pxLastGroupID</th><th>Decision_Outcome</th></tr><tr><td>f64</td><td>str</td><td>str</td><td>str</td><td>str</td><td>str</td><td>str</td></tr></thead><tbody><tr><td>1.3491e19</td><td>&quot;../../../../data/SampleHDS.jso…</td><td>&quot;2692055695808773939&quot;</td><td>&quot;4491411939902417221&quot;</td><td>&quot;FirstMortgage30yr&quot;</td><td>&quot;1387400346206562235&quot;</td><td>&quot;Rejected&quot;</td></tr><tr><td>1.1546e19</td><td>&quot;../../../../data/SampleHDS.jso…</td><td>&quot;13410253385430347817&quot;</td><td>&quot;8058086072564974119&quot;</td><td>&quot;FirstMortgage30yr&quot;</td><td>&quot;7150507913670653177&quot;</td><td>&quot;Accepted&quot;</td></tr><tr><td>6.0001e17</td><td>&quot;../../../../data/SampleHDS.jso…</td><td>&quot;13761351380390763994&quot;</td><td>&quot;6890007786761513213&quot;</td><td>&quot;MoneyMarketSavingsAccount&quot;</td><td>&quot;1387400346206562235&quot;</td><td>&quot;Rejected&quot;</td></tr><tr><td>9.9904e18</td><td>&quot;../../../../data/SampleHDS.jso…</td><td>&quot;13410253385430347817&quot;</td><td>&quot;12045105415383662377&quot;</td><td>&quot;BasicChecking&quot;</td><td>&quot;1387400346206562235&quot;</td><td>&quot;Rejected&quot;</td></tr><tr><td>2.7202e18</td><td>&quot;../../../../data/SampleHDS.jso…</td><td>&quot;2692055695808773939&quot;</td><td>&quot;14682893089185261092&quot;</td><td>&quot;BasicChecking&quot;</td><td>&quot;5539393932290085743&quot;</td><td>&quot;Accepted&quot;</td></tr><tr><td>1.4746e19</td><td>&quot;../../../../data/SampleHDS.jso…</td><td>&quot;13761351380390763994&quot;</td><td>&quot;629733628035878037&quot;</td><td>&quot;UPlusFinPersonal&quot;</td><td>null</td><td>&quot;Rejected&quot;</td></tr><tr><td>7.9404e18</td><td>&quot;../../../../data/SampleHDS.jso…</td><td>&quot;13761351380390763994&quot;</td><td>&quot;12141447734366352940&quot;</td><td>&quot;BasicChecking&quot;</td><td>&quot;5539393932290085743&quot;</td><td>&quot;Rejected&quot;</td></tr></tbody></table></div>"
      ],
      "text/plain": [
       "shape: (7, 7)\n",
       "┌─────────────┬──────────────┬─────────────┬─────────────┬─────────────┬─────────────┬─────────────┐\n",
       "│ PREDICTOR_0 ┆ filename     ┆ PREDICTOR_2 ┆ PREDICTOR_3 ┆ Context_Nam ┆ IH_Web_Inbo ┆ Decision_Ou │\n",
       "│ ---         ┆ ---          ┆ ---         ┆ ---         ┆ e           ┆ und_Accepte ┆ tcome       │\n",
       "│ f64         ┆ str          ┆ str         ┆ str         ┆ ---         ┆ d_pxLast…   ┆ ---         │\n",
       "│             ┆              ┆             ┆             ┆ str         ┆ ---         ┆ str         │\n",
       "│             ┆              ┆             ┆             ┆             ┆ str         ┆             │\n",
       "╞═════════════╪══════════════╪═════════════╪═════════════╪═════════════╪═════════════╪═════════════╡\n",
       "│ 1.3491e19   ┆ ../../../../ ┆ 26920556958 ┆ 44914119399 ┆ FirstMortga ┆ 13874003462 ┆ Rejected    │\n",
       "│             ┆ data/SampleH ┆ 08773939    ┆ 02417221    ┆ ge30yr      ┆ 06562235    ┆             │\n",
       "│             ┆ DS.jso…      ┆             ┆             ┆             ┆             ┆             │\n",
       "│ 1.1546e19   ┆ ../../../../ ┆ 13410253385 ┆ 80580860725 ┆ FirstMortga ┆ 71505079136 ┆ Accepted    │\n",
       "│             ┆ data/SampleH ┆ 430347817   ┆ 64974119    ┆ ge30yr      ┆ 70653177    ┆             │\n",
       "│             ┆ DS.jso…      ┆             ┆             ┆             ┆             ┆             │\n",
       "│ 6.0001e17   ┆ ../../../../ ┆ 13761351380 ┆ 68900077867 ┆ MoneyMarket ┆ 13874003462 ┆ Rejected    │\n",
       "│             ┆ data/SampleH ┆ 390763994   ┆ 61513213    ┆ SavingsAcco ┆ 06562235    ┆             │\n",
       "│             ┆ DS.jso…      ┆             ┆             ┆ unt         ┆             ┆             │\n",
       "│ 9.9904e18   ┆ ../../../../ ┆ 13410253385 ┆ 12045105415 ┆ BasicChecki ┆ 13874003462 ┆ Rejected    │\n",
       "│             ┆ data/SampleH ┆ 430347817   ┆ 383662377   ┆ ng          ┆ 06562235    ┆             │\n",
       "│             ┆ DS.jso…      ┆             ┆             ┆             ┆             ┆             │\n",
       "│ 2.7202e18   ┆ ../../../../ ┆ 26920556958 ┆ 14682893089 ┆ BasicChecki ┆ 55393939322 ┆ Accepted    │\n",
       "│             ┆ data/SampleH ┆ 08773939    ┆ 185261092   ┆ ng          ┆ 90085743    ┆             │\n",
       "│             ┆ DS.jso…      ┆             ┆             ┆             ┆             ┆             │\n",
       "│ 1.4746e19   ┆ ../../../../ ┆ 13761351380 ┆ 62973362803 ┆ UPlusFinPer ┆ null        ┆ Rejected    │\n",
       "│             ┆ data/SampleH ┆ 390763994   ┆ 5878037     ┆ sonal       ┆             ┆             │\n",
       "│             ┆ DS.jso…      ┆             ┆             ┆             ┆             ┆             │\n",
       "│ 7.9404e18   ┆ ../../../../ ┆ 13761351380 ┆ 12141447734 ┆ BasicChecki ┆ 55393939322 ┆ Rejected    │\n",
       "│             ┆ data/SampleH ┆ 390763994   ┆ 366352940   ┆ ng          ┆ 90085743    ┆             │\n",
       "│             ┆ DS.jso…      ┆             ┆             ┆             ┆             ┆             │\n",
       "└─────────────┴──────────────┴─────────────┴─────────────┴─────────────┴─────────────┴─────────────┘"
      ]
     },
     "execution_count": 10,
     "metadata": {},
     "output_type": "execute_result"
    }
   ],
   "source": [
    "anon = DataAnonymization(config=Config(config_file='config.json'))\n",
    "anon.process()"
   ]
  },
  {
   "attachments": {},
   "cell_type": "markdown",
   "metadata": {},
   "source": [
    "## Exporting\n",
    "Two functions export:\n",
    "- `create_mapping_file()` writes the mapping file of the predictor names\n",
    "- `write_to_output()` writes the processed dataframe to disk\n",
    "\n",
    "Write to output accepts the following extensions: `[\"ndjson\", \"parquet\", \"arrow\", \"csv\"]`"
   ]
  },
  {
   "cell_type": "code",
   "execution_count": 11,
   "metadata": {
    "execution": {
     "iopub.execute_input": "2024-06-13T12:19:20.720934Z",
     "iopub.status.busy": "2024-06-13T12:19:20.720602Z",
     "iopub.status.idle": "2024-06-13T12:19:20.724021Z",
     "shell.execute_reply": "2024-06-13T12:19:20.723497Z"
    }
   },
   "outputs": [
    {
     "name": "stdout",
     "output_type": "stream",
     "text": [
      "Customer_CLV=PREDICTOR_0\n",
      "filename=filename\n",
      "Customer_MaritalStatus=PREDICTOR_2\n",
      "Customer_City=PREDICTOR_3\n",
      "Context_Name=Context_Name\n",
      "IH_Web_Inbound_Accepted_pxLastGroupID=IH_Web_Inbound_Accepted_pxLastGroupID\n",
      "Decision_Outcome=Decision_Outcome\n",
      "\n"
     ]
    }
   ],
   "source": [
    "anon.create_mapping_file()\n",
    "with open('mapping.map') as f:\n",
    "    print(f.read())"
   ]
  },
  {
   "cell_type": "code",
   "execution_count": 12,
   "metadata": {
    "execution": {
     "iopub.execute_input": "2024-06-13T12:19:20.726032Z",
     "iopub.status.busy": "2024-06-13T12:19:20.725708Z",
     "iopub.status.idle": "2024-06-13T12:19:20.729211Z",
     "shell.execute_reply": "2024-06-13T12:19:20.728782Z"
    }
   },
   "outputs": [],
   "source": [
    "anon.write_to_output(ext='arrow')"
   ]
  },
  {
   "cell_type": "code",
   "execution_count": 13,
   "metadata": {
    "execution": {
     "iopub.execute_input": "2024-06-13T12:19:20.731210Z",
     "iopub.status.busy": "2024-06-13T12:19:20.730887Z",
     "iopub.status.idle": "2024-06-13T12:19:20.735162Z",
     "shell.execute_reply": "2024-06-13T12:19:20.734659Z"
    }
   },
   "outputs": [
    {
     "data": {
      "text/html": [
       "<div><style>\n",
       ".dataframe > thead > tr,\n",
       ".dataframe > tbody > tr {\n",
       "  text-align: right;\n",
       "  white-space: pre-wrap;\n",
       "}\n",
       "</style>\n",
       "<small>shape: (7, 6)</small><table border=\"1\" class=\"dataframe\"><thead><tr><th>PREDICTOR_0</th><th>PREDICTOR_2</th><th>PREDICTOR_3</th><th>Context_Name</th><th>IH_Web_Inbound_Accepted_pxLastGroupID</th><th>Decision_Outcome</th></tr><tr><td>f64</td><td>str</td><td>str</td><td>str</td><td>str</td><td>str</td></tr></thead><tbody><tr><td>1.7409e19</td><td>&quot;9482121276729955857&quot;</td><td>&quot;13769156743135976308&quot;</td><td>&quot;FirstMortgage30yr&quot;</td><td>&quot;16098889049692337928&quot;</td><td>&quot;Rejected&quot;</td></tr><tr><td>1.3571e18</td><td>&quot;7365023927319990261&quot;</td><td>&quot;1260274798180866945&quot;</td><td>&quot;FirstMortgage30yr&quot;</td><td>&quot;367488105307861947&quot;</td><td>&quot;Accepted&quot;</td></tr><tr><td>2.6840e17</td><td>&quot;6003827832131045698&quot;</td><td>&quot;5594234946323233552&quot;</td><td>&quot;MoneyMarketSavingsAccount&quot;</td><td>&quot;16098889049692337928&quot;</td><td>&quot;Rejected&quot;</td></tr><tr><td>1.3082e19</td><td>&quot;7365023927319990261&quot;</td><td>&quot;11834038957890011786&quot;</td><td>&quot;BasicChecking&quot;</td><td>&quot;16098889049692337928&quot;</td><td>&quot;Rejected&quot;</td></tr><tr><td>5.3528e18</td><td>&quot;9482121276729955857&quot;</td><td>&quot;3915947970818609058&quot;</td><td>&quot;BasicChecking&quot;</td><td>&quot;798190143383803654&quot;</td><td>&quot;Accepted&quot;</td></tr><tr><td>1.1346e18</td><td>&quot;6003827832131045698&quot;</td><td>&quot;13498309582079812856&quot;</td><td>&quot;UPlusFinPersonal&quot;</td><td>null</td><td>&quot;Rejected&quot;</td></tr><tr><td>3.0766e18</td><td>&quot;6003827832131045698&quot;</td><td>&quot;12204910137169049533&quot;</td><td>&quot;BasicChecking&quot;</td><td>&quot;798190143383803654&quot;</td><td>&quot;Rejected&quot;</td></tr></tbody></table></div>"
      ],
      "text/plain": [
       "shape: (7, 6)\n",
       "┌─────────────┬────────────────┬────────────────┬────────────────┬────────────────┬────────────────┐\n",
       "│ PREDICTOR_0 ┆ PREDICTOR_2    ┆ PREDICTOR_3    ┆ Context_Name   ┆ IH_Web_Inbound ┆ Decision_Outco │\n",
       "│ ---         ┆ ---            ┆ ---            ┆ ---            ┆ _Accepted_pxLa ┆ me             │\n",
       "│ f64         ┆ str            ┆ str            ┆ str            ┆ st…            ┆ ---            │\n",
       "│             ┆                ┆                ┆                ┆ ---            ┆ str            │\n",
       "│             ┆                ┆                ┆                ┆ str            ┆                │\n",
       "╞═════════════╪════════════════╪════════════════╪════════════════╪════════════════╪════════════════╡\n",
       "│ 1.7409e19   ┆ 94821212767299 ┆ 13769156743135 ┆ FirstMortgage3 ┆ 16098889049692 ┆ Rejected       │\n",
       "│             ┆ 55857          ┆ 976308         ┆ 0yr            ┆ 337928         ┆                │\n",
       "│ 1.3571e18   ┆ 73650239273199 ┆ 12602747981808 ┆ FirstMortgage3 ┆ 36748810530786 ┆ Accepted       │\n",
       "│             ┆ 90261          ┆ 66945          ┆ 0yr            ┆ 1947           ┆                │\n",
       "│ 2.6840e17   ┆ 60038278321310 ┆ 55942349463232 ┆ MoneyMarketSav ┆ 16098889049692 ┆ Rejected       │\n",
       "│             ┆ 45698          ┆ 33552          ┆ ingsAccount    ┆ 337928         ┆                │\n",
       "│ 1.3082e19   ┆ 73650239273199 ┆ 11834038957890 ┆ BasicChecking  ┆ 16098889049692 ┆ Rejected       │\n",
       "│             ┆ 90261          ┆ 011786         ┆                ┆ 337928         ┆                │\n",
       "│ 5.3528e18   ┆ 94821212767299 ┆ 39159479708186 ┆ BasicChecking  ┆ 79819014338380 ┆ Accepted       │\n",
       "│             ┆ 55857          ┆ 09058          ┆                ┆ 3654           ┆                │\n",
       "│ 1.1346e18   ┆ 60038278321310 ┆ 13498309582079 ┆ UPlusFinPerson ┆ null           ┆ Rejected       │\n",
       "│             ┆ 45698          ┆ 812856         ┆ al             ┆                ┆                │\n",
       "│ 3.0766e18   ┆ 60038278321310 ┆ 12204910137169 ┆ BasicChecking  ┆ 79819014338380 ┆ Rejected       │\n",
       "│             ┆ 45698          ┆ 049533         ┆                ┆ 3654           ┆                │\n",
       "└─────────────┴────────────────┴────────────────┴────────────────┴────────────────┴────────────────┘"
      ]
     },
     "execution_count": 13,
     "metadata": {},
     "output_type": "execute_result"
    }
   ],
   "source": [
    "pl.read_ipc('output/hds.arrow')"
   ]
  },
  {
   "attachments": {},
   "cell_type": "markdown",
   "metadata": {
    "nbsphinx": "hidden"
   },
   "source": [
    "## Advanced: Hash fuctions\n",
    "\n",
    "By default, we use [the same hashing algorithm Polars](https://pola-rs.github.io/polars/py-polars/html/reference/expressions/api/polars.Expr.hash.html#polars.Expr.hash) uses: [xxhash](https://github.com/Cyan4973/xxHash), as implemented [here](https://github.com/pola-rs/polars/blob/3f287f370b3c388ed2f3f218b2c096382548136f/polars/polars-core/src/vector_hasher.rs#L266). xxhash is fast to compute, and you can check its performance in collision, dispersion and randomness [here](https://github.com/Cyan4973/xxHash/tree/dev/tests). \n",
    "\n",
    "xxhash accepts four distinct seeds, but by default we set the seeds to `0`. It is possible to set the `seed` argument of the `process()` function to `'random'`, which will set all four seeds to a random integer between `0` and `1000000000`. Alternatively, it is possible to supply the four seeds manually with arguments `seed`, `seed_1`, `seed_2` and `seed_3`. \n",
    "\n",
    "If the xxhash with (random) seed(s) is not deemed sufficiently secure, it is possible to use your own hashing algorithm.\n",
    "\n",
    "Note that since we're now running python code and not native Polars code anymore, this will be _significantly_ slower. Nonetheless, it is possible.\n",
    "\n",
    "Just as an example - this is how one would use sha3_256:"
   ]
  },
  {
   "cell_type": "code",
   "execution_count": 14,
   "metadata": {
    "execution": {
     "iopub.execute_input": "2024-06-13T12:19:20.737172Z",
     "iopub.status.busy": "2024-06-13T12:19:20.736845Z",
     "iopub.status.idle": "2024-06-13T12:19:21.063602Z",
     "shell.execute_reply": "2024-06-13T12:19:21.063008Z"
    },
    "nbsphinx": "hidden"
   },
   "outputs": [
    {
     "name": "stderr",
     "output_type": "stream",
     "text": [
      "sys:1: MapWithoutReturnDtypeWarning:\n",
      "\n",
      "Calling `map_elements` without specifying `return_dtype` can lead to unpredictable results. Specify `return_dtype` to silence this warning.\n",
      "\n",
      "sys:1: MapWithoutReturnDtypeWarning:\n",
      "\n",
      "Calling `map_elements` without specifying `return_dtype` can lead to unpredictable results. Specify `return_dtype` to silence this warning.\n",
      "\n",
      "sys:1: MapWithoutReturnDtypeWarning:\n",
      "\n",
      "Calling `map_elements` without specifying `return_dtype` can lead to unpredictable results. Specify `return_dtype` to silence this warning.\n",
      "\n",
      "sys:1: MapWithoutReturnDtypeWarning:\n",
      "\n",
      "Calling `map_elements` without specifying `return_dtype` can lead to unpredictable results. Specify `return_dtype` to silence this warning.\n",
      "\n"
     ]
    },
    {
     "ename": "ComputeError",
     "evalue": "AttributeError: 'int' object has no attribute 'encode'",
     "output_type": "error",
     "traceback": [
      "\u001b[0;31m---------------------------------------------------------------------------\u001b[0m",
      "\u001b[0;31mComputeError\u001b[0m                              Traceback (most recent call last)",
      "Cell \u001b[0;32mIn[14], line 3\u001b[0m\n\u001b[1;32m      1\u001b[0m \u001b[38;5;28;01mfrom\u001b[39;00m \u001b[38;5;21;01mhashlib\u001b[39;00m \u001b[38;5;28;01mimport\u001b[39;00m sha3_256\n\u001b[0;32m----> 3\u001b[0m \u001b[43manon\u001b[49m\u001b[38;5;241;43m.\u001b[39;49m\u001b[43mprocess\u001b[49m\u001b[43m(\u001b[49m\u001b[43malgorithm\u001b[49m\u001b[38;5;241;43m=\u001b[39;49m\u001b[38;5;28;43;01mlambda\u001b[39;49;00m\u001b[43m \u001b[49m\u001b[43mx\u001b[49m\u001b[43m:\u001b[49m\u001b[43m \u001b[49m\u001b[43msha3_256\u001b[49m\u001b[43m(\u001b[49m\u001b[43mx\u001b[49m\u001b[38;5;241;43m.\u001b[39;49m\u001b[43mencode\u001b[49m\u001b[43m(\u001b[49m\u001b[43m)\u001b[49m\u001b[43m)\u001b[49m\u001b[38;5;241;43m.\u001b[39;49m\u001b[43mhexdigest\u001b[49m\u001b[43m(\u001b[49m\u001b[43m)\u001b[49m\u001b[43m)\u001b[49m\n",
      "File \u001b[0;32m~/work/pega-datascientist-tools/pega-datascientist-tools/python/docs/source/articles/../../../pdstools/utils/hds_utils.py:512\u001b[0m, in \u001b[0;36mDataAnonymization.process\u001b[0;34m(self, strategy, **kwargs)\u001b[0m\n\u001b[1;32m    510\u001b[0m df \u001b[38;5;241m=\u001b[39m df\u001b[38;5;241m.\u001b[39mselect(\u001b[38;5;28mself\u001b[39m\u001b[38;5;241m.\u001b[39mcolumn_mapping\u001b[38;5;241m.\u001b[39mkeys())\u001b[38;5;241m.\u001b[39mrename(\u001b[38;5;28mself\u001b[39m\u001b[38;5;241m.\u001b[39mcolumn_mapping)\n\u001b[1;32m    511\u001b[0m \u001b[38;5;28;01mif\u001b[39;00m strategy \u001b[38;5;241m==\u001b[39m \u001b[38;5;124m\"\u001b[39m\u001b[38;5;124meager\u001b[39m\u001b[38;5;124m\"\u001b[39m:\n\u001b[0;32m--> 512\u001b[0m     \u001b[38;5;28;01mreturn\u001b[39;00m \u001b[43mdf\u001b[49m\u001b[38;5;241;43m.\u001b[39;49m\u001b[43mcollect\u001b[49m\u001b[43m(\u001b[49m\u001b[43m)\u001b[49m\n\u001b[1;32m    513\u001b[0m \u001b[38;5;28;01mreturn\u001b[39;00m df\n",
      "File \u001b[0;32m/opt/hostedtoolcache/Python/3.11.9/x64/lib/python3.11/site-packages/polars/lazyframe/frame.py:1967\u001b[0m, in \u001b[0;36mLazyFrame.collect\u001b[0;34m(self, type_coercion, predicate_pushdown, projection_pushdown, simplify_expression, slice_pushdown, comm_subplan_elim, comm_subexpr_elim, cluster_with_columns, no_optimization, streaming, background, _eager, **_kwargs)\u001b[0m\n\u001b[1;32m   1964\u001b[0m \u001b[38;5;66;03m# Only for testing purposes atm.\u001b[39;00m\n\u001b[1;32m   1965\u001b[0m callback \u001b[38;5;241m=\u001b[39m _kwargs\u001b[38;5;241m.\u001b[39mget(\u001b[38;5;124m\"\u001b[39m\u001b[38;5;124mpost_opt_callback\u001b[39m\u001b[38;5;124m\"\u001b[39m)\n\u001b[0;32m-> 1967\u001b[0m \u001b[38;5;28;01mreturn\u001b[39;00m wrap_df(\u001b[43mldf\u001b[49m\u001b[38;5;241;43m.\u001b[39;49m\u001b[43mcollect\u001b[49m\u001b[43m(\u001b[49m\u001b[43mcallback\u001b[49m\u001b[43m)\u001b[49m)\n",
      "\u001b[0;31mComputeError\u001b[0m: AttributeError: 'int' object has no attribute 'encode'"
     ]
    }
   ],
   "source": [
    "from hashlib import sha3_256\n",
    "\n",
    "anon.process(algorithm=lambda x: sha3_256(x.encode()).hexdigest())"
   ]
  }
 ],
 "metadata": {
  "kernelspec": {
   "display_name": "Python 3",
   "language": "python",
   "name": "python3"
  },
  "language_info": {
   "codemirror_mode": {
    "name": "ipython",
    "version": 3
   },
   "file_extension": ".py",
   "mimetype": "text/x-python",
   "name": "python",
   "nbconvert_exporter": "python",
   "pygments_lexer": "ipython3",
   "version": "3.11.9"
  },
  "vscode": {
   "interpreter": {
    "hash": "aee8b7b246df8f9039afb4144a1f6fd8d2ca17a180786b69acc140d282b71a49"
   }
  }
 },
 "nbformat": 4,
 "nbformat_minor": 2
}
