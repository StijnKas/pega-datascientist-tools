{
 "cells": [
  {
   "attachments": {},
   "cell_type": "markdown",
   "metadata": {},
   "source": [
    "# Example data anonymization\n",
    "\n",
    "In Pega CDH 8.5 and up, it's now possible to record the historical data as seen by the Adaptive Models. See [this academy challenge](https://academy.pega.com/challenge/exporting-historical-data/v4) for reference. This historical data can be further used to experiment with offline models, but also to fine-tune the OOTB Gradient Boosting model. However, sharing this information with Pega can be sensitive as it contains raw predictor data. \n",
    "\n",
    "To this end, we provide a simple and transparent script to fully anonimize this dataset.\n",
    "\n",
    "The DataAnonymization script is now part of pdstools, and you can import it directly as such."
   ]
  },
  {
   "cell_type": "code",
   "execution_count": 1,
   "metadata": {
    "execution": {
     "iopub.execute_input": "2023-07-19T12:52:59.617921Z",
     "iopub.status.busy": "2023-07-19T12:52:59.617563Z",
     "iopub.status.idle": "2023-07-19T12:52:59.624001Z",
     "shell.execute_reply": "2023-07-19T12:52:59.622927Z"
    },
    "nbsphinx": "hidden"
   },
   "outputs": [],
   "source": [
    "# These lines are only for rendering in the docs, and are hidden through Jupyter tags\n",
    "# Do not run if you're running the notebook seperately\n",
    "\n",
    "import sys\n",
    "sys.path.append('../../../')"
   ]
  },
  {
   "cell_type": "code",
   "execution_count": 2,
   "metadata": {
    "execution": {
     "iopub.execute_input": "2023-07-19T12:52:59.626251Z",
     "iopub.status.busy": "2023-07-19T12:52:59.625973Z",
     "iopub.status.idle": "2023-07-19T12:53:00.675577Z",
     "shell.execute_reply": "2023-07-19T12:53:00.674439Z"
    }
   },
   "outputs": [],
   "source": [
    "from pdstools import ADMDatamart\n",
    "from pdstools import Config, DataAnonymization\n",
    "import polars as pl"
   ]
  },
  {
   "attachments": {},
   "cell_type": "markdown",
   "metadata": {},
   "source": [
    "## Input data\n",
    "\n",
    "To demonstrate this process, we're going to anonymise this toy example dataframe:"
   ]
  },
  {
   "cell_type": "code",
   "execution_count": 3,
   "metadata": {
    "execution": {
     "iopub.execute_input": "2023-07-19T12:53:00.678564Z",
     "iopub.status.busy": "2023-07-19T12:53:00.678017Z",
     "iopub.status.idle": "2023-07-19T12:53:00.687670Z",
     "shell.execute_reply": "2023-07-19T12:53:00.687251Z"
    }
   },
   "outputs": [
    {
     "data": {
      "text/html": [
       "<div><style>\n",
       ".dataframe > thead > tr > th,\n",
       ".dataframe > tbody > tr > td {\n",
       "  text-align: right;\n",
       "}\n",
       "</style>\n",
       "<small>shape: (7, 6)</small><table border=\"1\" class=\"dataframe\"><thead><tr><th>Context_Name</th><th>Customer_MaritalStatus</th><th>Customer_CLV</th><th>Customer_City</th><th>IH_Web_Inbound_Accepted_pxLastGroupID</th><th>Decision_Outcome</th></tr><tr><td>str</td><td>str</td><td>i64</td><td>str</td><td>str</td><td>str</td></tr></thead><tbody><tr><td>&quot;FirstMortgage3…</td><td>&quot;Married&quot;</td><td>1460</td><td>&quot;Port Raoul&quot;</td><td>&quot;Account&quot;</td><td>&quot;Rejected&quot;</td></tr><tr><td>&quot;FirstMortgage3…</td><td>&quot;Unknown&quot;</td><td>669</td><td>&quot;Laurianneshire…</td><td>&quot;AutoLoans&quot;</td><td>&quot;Accepted&quot;</td></tr><tr><td>&quot;MoneyMarketSav…</td><td>&quot;No Resp+&quot;</td><td>1174</td><td>&quot;Jacobshaven&quot;</td><td>&quot;Account&quot;</td><td>&quot;Rejected&quot;</td></tr><tr><td>&quot;BasicChecking&quot;</td><td>&quot;Unknown&quot;</td><td>1476</td><td>&quot;Lindton&quot;</td><td>&quot;Account&quot;</td><td>&quot;Rejected&quot;</td></tr><tr><td>&quot;BasicChecking&quot;</td><td>&quot;Married&quot;</td><td>1211</td><td>&quot;South Jimmiesh…</td><td>&quot;DepositAccount…</td><td>&quot;Accepted&quot;</td></tr><tr><td>&quot;UPlusFinPerson…</td><td>&quot;No Resp+&quot;</td><td>533</td><td>&quot;Bergeville&quot;</td><td>null</td><td>&quot;Rejected&quot;</td></tr><tr><td>&quot;BasicChecking&quot;</td><td>&quot;No Resp+&quot;</td><td>555</td><td>&quot;Willyville&quot;</td><td>&quot;DepositAccount…</td><td>&quot;Rejected&quot;</td></tr></tbody></table></div>"
      ],
      "text/plain": [
       "shape: (7, 6)\n",
       "┌────────────────┬────────────────┬──────────────┬────────────────┬────────────────┬───────────────┐\n",
       "│ Context_Name   ┆ Customer_Marit ┆ Customer_CLV ┆ Customer_City  ┆ IH_Web_Inbound ┆ Decision_Outc │\n",
       "│ ---            ┆ alStatus       ┆ ---          ┆ ---            ┆ _Accepted_pxLa ┆ ome           │\n",
       "│ str            ┆ ---            ┆ i64          ┆ str            ┆ stGr…          ┆ ---           │\n",
       "│                ┆ str            ┆              ┆                ┆ ---            ┆ str           │\n",
       "│                ┆                ┆              ┆                ┆ str            ┆               │\n",
       "╞════════════════╪════════════════╪══════════════╪════════════════╪════════════════╪═══════════════╡\n",
       "│ FirstMortgage3 ┆ Married        ┆ 1460         ┆ Port Raoul     ┆ Account        ┆ Rejected      │\n",
       "│ 0yr            ┆                ┆              ┆                ┆                ┆               │\n",
       "│ FirstMortgage3 ┆ Unknown        ┆ 669          ┆ Laurianneshire ┆ AutoLoans      ┆ Accepted      │\n",
       "│ 0yr            ┆                ┆              ┆                ┆                ┆               │\n",
       "│ MoneyMarketSav ┆ No Resp+       ┆ 1174         ┆ Jacobshaven    ┆ Account        ┆ Rejected      │\n",
       "│ ingsAccount    ┆                ┆              ┆                ┆                ┆               │\n",
       "│ BasicChecking  ┆ Unknown        ┆ 1476         ┆ Lindton        ┆ Account        ┆ Rejected      │\n",
       "│ BasicChecking  ┆ Married        ┆ 1211         ┆ South          ┆ DepositAccount ┆ Accepted      │\n",
       "│                ┆                ┆              ┆ Jimmieshire    ┆ s              ┆               │\n",
       "│ UPlusFinPerson ┆ No Resp+       ┆ 533          ┆ Bergeville     ┆ null           ┆ Rejected      │\n",
       "│ al             ┆                ┆              ┆                ┆                ┆               │\n",
       "│ BasicChecking  ┆ No Resp+       ┆ 555          ┆ Willyville     ┆ DepositAccount ┆ Rejected      │\n",
       "│                ┆                ┆              ┆                ┆ s              ┆               │\n",
       "└────────────────┴────────────────┴──────────────┴────────────────┴────────────────┴───────────────┘"
      ]
     },
     "execution_count": 3,
     "metadata": {},
     "output_type": "execute_result"
    }
   ],
   "source": [
    "pl.read_ndjson('../../../../data/SampleHDS.json')"
   ]
  },
  {
   "attachments": {},
   "cell_type": "markdown",
   "metadata": {},
   "source": [
    "As you can see, this dataset consists of regular predictors, IH predictors, context keys and the outcome column. Additionally, some columns are numeric, others are strings. Let's first initialize the DataAnonymization class."
   ]
  },
  {
   "cell_type": "code",
   "execution_count": 4,
   "metadata": {
    "execution": {
     "iopub.execute_input": "2023-07-19T12:53:00.689971Z",
     "iopub.status.busy": "2023-07-19T12:53:00.689648Z",
     "iopub.status.idle": "2023-07-19T12:53:00.697507Z",
     "shell.execute_reply": "2023-07-19T12:53:00.696762Z"
    }
   },
   "outputs": [],
   "source": [
    "anon = DataAnonymization(hds_folder='../../../../data/')"
   ]
  },
  {
   "attachments": {},
   "cell_type": "markdown",
   "metadata": {},
   "source": [
    "By default, the class applies a set of anonymisation techniques:\n",
    "- Column names are remapped to a non-descriptive name\n",
    "- Categorical values are hashed with a random seed\n",
    "- Numerical values are normalized between 0 and 1\n",
    "- Outcomes are mapped to a binary outcome.\n",
    "\n",
    "To apply these techniques, simply call `.process()`:"
   ]
  },
  {
   "cell_type": "code",
   "execution_count": 5,
   "metadata": {
    "execution": {
     "iopub.execute_input": "2023-07-19T12:53:00.699956Z",
     "iopub.status.busy": "2023-07-19T12:53:00.699655Z",
     "iopub.status.idle": "2023-07-19T12:53:00.705115Z",
     "shell.execute_reply": "2023-07-19T12:53:00.704666Z"
    }
   },
   "outputs": [
    {
     "data": {
      "text/html": [
       "<div><style>\n",
       ".dataframe > thead > tr > th,\n",
       ".dataframe > tbody > tr > td {\n",
       "  text-align: right;\n",
       "}\n",
       "</style>\n",
       "<small>shape: (7, 7)</small><table border=\"1\" class=\"dataframe\"><thead><tr><th>filename</th><th>PREDICTOR_1</th><th>PREDICTOR_2</th><th>PREDICTOR_3</th><th>Context_Name</th><th>IH_PREDICTOR_0</th><th>Decision_Outcome</th></tr><tr><td>str</td><td>str</td><td>str</td><td>f64</td><td>str</td><td>str</td><td>bool</td></tr></thead><tbody><tr><td>&quot;../../../../da…</td><td>&quot;15128295193458…</td><td>&quot;18075685161076…</td><td>1.2927e19</td><td>&quot;87019440107560…</td><td>&quot;62053424174864…</td><td>false</td></tr><tr><td>&quot;../../../../da…</td><td>&quot;12688360009748…</td><td>&quot;89811545827076…</td><td>1.4856e19</td><td>&quot;87019440107560…</td><td>&quot;15596738482762…</td><td>true</td></tr><tr><td>&quot;../../../../da…</td><td>&quot;13526192638174…</td><td>&quot;14522801263961…</td><td>5.6458e17</td><td>&quot;17564426699845…</td><td>&quot;62053424174864…</td><td>false</td></tr><tr><td>&quot;../../../../da…</td><td>&quot;12688360009748…</td><td>&quot;73310416471089…</td><td>4.0723e18</td><td>&quot;10552135275883…</td><td>&quot;62053424174864…</td><td>false</td></tr><tr><td>&quot;../../../../da…</td><td>&quot;15128295193458…</td><td>&quot;12250351662347…</td><td>1.4677e19</td><td>&quot;10552135275883…</td><td>&quot;86164908660106…</td><td>true</td></tr><tr><td>&quot;../../../../da…</td><td>&quot;13526192638174…</td><td>&quot;44764485097980…</td><td>1.6330e19</td><td>&quot;12854967357337…</td><td>null</td><td>false</td></tr><tr><td>&quot;../../../../da…</td><td>&quot;13526192638174…</td><td>&quot;13656265418673…</td><td>8.7675e18</td><td>&quot;10552135275883…</td><td>&quot;86164908660106…</td><td>false</td></tr></tbody></table></div>"
      ],
      "text/plain": [
       "shape: (7, 7)\n",
       "┌──────────────┬─────────────┬─────────────┬─────────────┬─────────────┬─────────────┬─────────────┐\n",
       "│ filename     ┆ PREDICTOR_1 ┆ PREDICTOR_2 ┆ PREDICTOR_3 ┆ Context_Nam ┆ IH_PREDICTO ┆ Decision_Ou │\n",
       "│ ---          ┆ ---         ┆ ---         ┆ ---         ┆ e           ┆ R_0         ┆ tcome       │\n",
       "│ str          ┆ str         ┆ str         ┆ f64         ┆ ---         ┆ ---         ┆ ---         │\n",
       "│              ┆             ┆             ┆             ┆ str         ┆ str         ┆ bool        │\n",
       "╞══════════════╪═════════════╪═════════════╪═════════════╪═════════════╪═════════════╪═════════════╡\n",
       "│ ../../../../ ┆ 15128295193 ┆ 18075685161 ┆ 1.2927e19   ┆ 87019440107 ┆ 62053424174 ┆ false       │\n",
       "│ data/SampleH ┆ 458940760   ┆ 076267562   ┆             ┆ 56065067    ┆ 86480654    ┆             │\n",
       "│ DS.json      ┆             ┆             ┆             ┆             ┆             ┆             │\n",
       "│ ../../../../ ┆ 12688360009 ┆ 89811545827 ┆ 1.4856e19   ┆ 87019440107 ┆ 15596738482 ┆ true        │\n",
       "│ data/SampleH ┆ 748313527   ┆ 07647300    ┆             ┆ 56065067    ┆ 762853132   ┆             │\n",
       "│ DS.json      ┆             ┆             ┆             ┆             ┆             ┆             │\n",
       "│ ../../../../ ┆ 13526192638 ┆ 14522801263 ┆ 5.6458e17   ┆ 17564426699 ┆ 62053424174 ┆ false       │\n",
       "│ data/SampleH ┆ 174480426   ┆ 961187021   ┆             ┆ 845590934   ┆ 86480654    ┆             │\n",
       "│ DS.json      ┆             ┆             ┆             ┆             ┆             ┆             │\n",
       "│ ../../../../ ┆ 12688360009 ┆ 73310416471 ┆ 4.0723e18   ┆ 10552135275 ┆ 62053424174 ┆ false       │\n",
       "│ data/SampleH ┆ 748313527   ┆ 08938016    ┆             ┆ 883759042   ┆ 86480654    ┆             │\n",
       "│ DS.json      ┆             ┆             ┆             ┆             ┆             ┆             │\n",
       "│ ../../../../ ┆ 15128295193 ┆ 12250351662 ┆ 1.4677e19   ┆ 10552135275 ┆ 86164908660 ┆ true        │\n",
       "│ data/SampleH ┆ 458940760   ┆ 347613484   ┆             ┆ 883759042   ┆ 10612172    ┆             │\n",
       "│ DS.json      ┆             ┆             ┆             ┆             ┆             ┆             │\n",
       "│ ../../../../ ┆ 13526192638 ┆ 44764485097 ┆ 1.6330e19   ┆ 12854967357 ┆ null        ┆ false       │\n",
       "│ data/SampleH ┆ 174480426   ┆ 9802586     ┆             ┆ 337693060   ┆             ┆             │\n",
       "│ DS.json      ┆             ┆             ┆             ┆             ┆             ┆             │\n",
       "│ ../../../../ ┆ 13526192638 ┆ 13656265418 ┆ 8.7675e18   ┆ 10552135275 ┆ 86164908660 ┆ false       │\n",
       "│ data/SampleH ┆ 174480426   ┆ 673796260   ┆             ┆ 883759042   ┆ 10612172    ┆             │\n",
       "│ DS.json      ┆             ┆             ┆             ┆             ┆             ┆             │\n",
       "└──────────────┴─────────────┴─────────────┴─────────────┴─────────────┴─────────────┴─────────────┘"
      ]
     },
     "execution_count": 5,
     "metadata": {},
     "output_type": "execute_result"
    }
   ],
   "source": [
    "anon.process()"
   ]
  },
  {
   "attachments": {},
   "cell_type": "markdown",
   "metadata": {},
   "source": [
    "To trace back the columns to their original names, the class also contains a mapping, which does not have to be provided."
   ]
  },
  {
   "cell_type": "code",
   "execution_count": 6,
   "metadata": {
    "execution": {
     "iopub.execute_input": "2023-07-19T12:53:00.707214Z",
     "iopub.status.busy": "2023-07-19T12:53:00.706938Z",
     "iopub.status.idle": "2023-07-19T12:53:00.710247Z",
     "shell.execute_reply": "2023-07-19T12:53:00.709838Z"
    }
   },
   "outputs": [
    {
     "data": {
      "text/plain": [
       "{'filename': 'filename',\n",
       " 'Customer_MaritalStatus': 'PREDICTOR_1',\n",
       " 'Customer_City': 'PREDICTOR_2',\n",
       " 'Customer_CLV': 'PREDICTOR_3',\n",
       " 'Context_Name': 'Context_Name',\n",
       " 'IH_Web_Inbound_Accepted_pxLastGroupID': 'IH_PREDICTOR_0',\n",
       " 'Decision_Outcome': 'Decision_Outcome'}"
      ]
     },
     "execution_count": 6,
     "metadata": {},
     "output_type": "execute_result"
    }
   ],
   "source": [
    "anon.column_mapping"
   ]
  },
  {
   "attachments": {},
   "cell_type": "markdown",
   "metadata": {},
   "source": [
    "## Configs\n",
    "\n",
    "Each capability can optionally be turned off - see below for the full list of config options, and refer to the API reference for the full description."
   ]
  },
  {
   "cell_type": "code",
   "execution_count": 7,
   "metadata": {
    "execution": {
     "iopub.execute_input": "2023-07-19T12:53:00.712333Z",
     "iopub.status.busy": "2023-07-19T12:53:00.712060Z",
     "iopub.status.idle": "2023-07-19T12:53:00.715884Z",
     "shell.execute_reply": "2023-07-19T12:53:00.715475Z"
    }
   },
   "outputs": [
    {
     "data": {
      "text/plain": [
       "{'config_file': None,\n",
       " 'hds_folder': '.',\n",
       " 'use_datamart': False,\n",
       " 'datamart_folder': 'datamart',\n",
       " 'output_format': 'ndjson',\n",
       " 'output_folder': 'output',\n",
       " 'mapping_file': 'mapping.map',\n",
       " 'mask_predictor_names': True,\n",
       " 'mask_context_key_names': False,\n",
       " 'mask_ih_names': True,\n",
       " 'mask_outcome_name': False,\n",
       " 'mask_predictor_values': True,\n",
       " 'mask_context_key_values': True,\n",
       " 'mask_ih_values': True,\n",
       " 'mask_outcome_values': True,\n",
       " 'context_key_label': 'Context_*',\n",
       " 'ih_label': 'IH_*',\n",
       " 'outcome_column': 'Decision_Outcome',\n",
       " 'positive_outcomes': ['Accepted', 'Clicked'],\n",
       " 'negative_outcomes': ['Rejected', 'Impression'],\n",
       " 'special_predictors': ['Decision_DecisionTime',\n",
       "  'Decision_OutcomeTime',\n",
       "  'Decision_Rank'],\n",
       " 'sample_percentage_schema_inferencing': 0.01}"
      ]
     },
     "execution_count": 7,
     "metadata": {},
     "output_type": "execute_result"
    }
   ],
   "source": [
    "dict(zip(Config.__init__.__code__.co_varnames[1:], Config.__init__.__defaults__))"
   ]
  },
  {
   "attachments": {},
   "cell_type": "markdown",
   "metadata": {},
   "source": [
    "It's easy to change these parameters by just passing the keyword arguments. In the following example, we\n",
    "- Keep the IH predictor names\n",
    "- Keep the outcome values\n",
    "- Keep the context key values\n",
    "- Keep the context key predictor names"
   ]
  },
  {
   "cell_type": "code",
   "execution_count": 8,
   "metadata": {
    "execution": {
     "iopub.execute_input": "2023-07-19T12:53:00.718001Z",
     "iopub.status.busy": "2023-07-19T12:53:00.717723Z",
     "iopub.status.idle": "2023-07-19T12:53:00.727151Z",
     "shell.execute_reply": "2023-07-19T12:53:00.726723Z"
    }
   },
   "outputs": [
    {
     "data": {
      "text/html": [
       "<div><style>\n",
       ".dataframe > thead > tr > th,\n",
       ".dataframe > tbody > tr > td {\n",
       "  text-align: right;\n",
       "}\n",
       "</style>\n",
       "<small>shape: (7, 7)</small><table border=\"1\" class=\"dataframe\"><thead><tr><th>filename</th><th>PREDICTOR_1</th><th>PREDICTOR_2</th><th>PREDICTOR_3</th><th>Context_Name</th><th>IH_Web_Inbound_Accepted_pxLastGroupID</th><th>Decision_Outcome</th></tr><tr><td>str</td><td>str</td><td>str</td><td>f64</td><td>str</td><td>str</td><td>str</td></tr></thead><tbody><tr><td>&quot;../../../../da…</td><td>&quot;41432027156699…</td><td>&quot;41994051336726…</td><td>1.2927e19</td><td>&quot;FirstMortgage3…</td><td>&quot;14127919374224…</td><td>&quot;Rejected&quot;</td></tr><tr><td>&quot;../../../../da…</td><td>&quot;17250474531553…</td><td>&quot;68959473343856…</td><td>1.4856e19</td><td>&quot;FirstMortgage3…</td><td>&quot;19418353369026…</td><td>&quot;Accepted&quot;</td></tr><tr><td>&quot;../../../../da…</td><td>&quot;37947571116036…</td><td>&quot;82563459953390…</td><td>5.6458e17</td><td>&quot;MoneyMarketSav…</td><td>&quot;14127919374224…</td><td>&quot;Rejected&quot;</td></tr><tr><td>&quot;../../../../da…</td><td>&quot;17250474531553…</td><td>&quot;68526844854697…</td><td>4.0723e18</td><td>&quot;BasicChecking&quot;</td><td>&quot;14127919374224…</td><td>&quot;Rejected&quot;</td></tr><tr><td>&quot;../../../../da…</td><td>&quot;41432027156699…</td><td>&quot;17082953741992…</td><td>1.4677e19</td><td>&quot;BasicChecking&quot;</td><td>&quot;91810861698787…</td><td>&quot;Accepted&quot;</td></tr><tr><td>&quot;../../../../da…</td><td>&quot;37947571116036…</td><td>&quot;91875034594371…</td><td>1.6330e19</td><td>&quot;UPlusFinPerson…</td><td>null</td><td>&quot;Rejected&quot;</td></tr><tr><td>&quot;../../../../da…</td><td>&quot;37947571116036…</td><td>&quot;11504825562370…</td><td>8.7675e18</td><td>&quot;BasicChecking&quot;</td><td>&quot;91810861698787…</td><td>&quot;Rejected&quot;</td></tr></tbody></table></div>"
      ],
      "text/plain": [
       "shape: (7, 7)\n",
       "┌──────────────┬─────────────┬─────────────┬─────────────┬─────────────┬─────────────┬─────────────┐\n",
       "│ filename     ┆ PREDICTOR_1 ┆ PREDICTOR_2 ┆ PREDICTOR_3 ┆ Context_Nam ┆ IH_Web_Inbo ┆ Decision_Ou │\n",
       "│ ---          ┆ ---         ┆ ---         ┆ ---         ┆ e           ┆ und_Accepte ┆ tcome       │\n",
       "│ str          ┆ str         ┆ str         ┆ f64         ┆ ---         ┆ d_pxLastGr… ┆ ---         │\n",
       "│              ┆             ┆             ┆             ┆ str         ┆ ---         ┆ str         │\n",
       "│              ┆             ┆             ┆             ┆             ┆ str         ┆             │\n",
       "╞══════════════╪═════════════╪═════════════╪═════════════╪═════════════╪═════════════╪═════════════╡\n",
       "│ ../../../../ ┆ 41432027156 ┆ 41994051336 ┆ 1.2927e19   ┆ FirstMortga ┆ 14127919374 ┆ Rejected    │\n",
       "│ data/SampleH ┆ 69908419    ┆ 72672090    ┆             ┆ ge30yr      ┆ 224228111   ┆             │\n",
       "│ DS.json      ┆             ┆             ┆             ┆             ┆             ┆             │\n",
       "│ ../../../../ ┆ 17250474531 ┆ 68959473343 ┆ 1.4856e19   ┆ FirstMortga ┆ 19418353369 ┆ Accepted    │\n",
       "│ data/SampleH ┆ 553870523   ┆ 85691323    ┆             ┆ ge30yr      ┆ 02649965    ┆             │\n",
       "│ DS.json      ┆             ┆             ┆             ┆             ┆             ┆             │\n",
       "│ ../../../../ ┆ 37947571116 ┆ 82563459953 ┆ 5.6458e17   ┆ MoneyMarket ┆ 14127919374 ┆ Rejected    │\n",
       "│ data/SampleH ┆ 03677264    ┆ 39079013    ┆             ┆ SavingsAcco ┆ 224228111   ┆             │\n",
       "│ DS.json      ┆             ┆             ┆             ┆ unt         ┆             ┆             │\n",
       "│ ../../../../ ┆ 17250474531 ┆ 68526844854 ┆ 4.0723e18   ┆ BasicChecki ┆ 14127919374 ┆ Rejected    │\n",
       "│ data/SampleH ┆ 553870523   ┆ 69727020    ┆             ┆ ng          ┆ 224228111   ┆             │\n",
       "│ DS.json      ┆             ┆             ┆             ┆             ┆             ┆             │\n",
       "│ ../../../../ ┆ 41432027156 ┆ 17082953741 ┆ 1.4677e19   ┆ BasicChecki ┆ 91810861698 ┆ Accepted    │\n",
       "│ data/SampleH ┆ 69908419    ┆ 99202756    ┆             ┆ ng          ┆ 78739435    ┆             │\n",
       "│ DS.json      ┆             ┆             ┆             ┆             ┆             ┆             │\n",
       "│ ../../../../ ┆ 37947571116 ┆ 91875034594 ┆ 1.6330e19   ┆ UPlusFinPer ┆ null        ┆ Rejected    │\n",
       "│ data/SampleH ┆ 03677264    ┆ 37116511    ┆             ┆ sonal       ┆             ┆             │\n",
       "│ DS.json      ┆             ┆             ┆             ┆             ┆             ┆             │\n",
       "│ ../../../../ ┆ 37947571116 ┆ 11504825562 ┆ 8.7675e18   ┆ BasicChecki ┆ 91810861698 ┆ Rejected    │\n",
       "│ data/SampleH ┆ 03677264    ┆ 370241331   ┆             ┆ ng          ┆ 78739435    ┆             │\n",
       "│ DS.json      ┆             ┆             ┆             ┆             ┆             ┆             │\n",
       "└──────────────┴─────────────┴─────────────┴─────────────┴─────────────┴─────────────┴─────────────┘"
      ]
     },
     "execution_count": 8,
     "metadata": {},
     "output_type": "execute_result"
    }
   ],
   "source": [
    "anon = DataAnonymization(\n",
    "    hds_folder='../../../../data/',\n",
    "    mask_ih_names=False,\n",
    "    mask_outcome_values=False,\n",
    "    mask_context_key_values=False,\n",
    "    mask_context_key_names=False,\n",
    ")\n",
    "anon.process()\n"
   ]
  },
  {
   "attachments": {},
   "cell_type": "markdown",
   "metadata": {},
   "source": [
    "The configs can also be written and read as such:"
   ]
  },
  {
   "cell_type": "code",
   "execution_count": 9,
   "metadata": {
    "execution": {
     "iopub.execute_input": "2023-07-19T12:53:00.729272Z",
     "iopub.status.busy": "2023-07-19T12:53:00.728995Z",
     "iopub.status.idle": "2023-07-19T12:53:00.732088Z",
     "shell.execute_reply": "2023-07-19T12:53:00.731156Z"
    }
   },
   "outputs": [],
   "source": [
    "anon.config.save_to_config_file('config.json')"
   ]
  },
  {
   "cell_type": "code",
   "execution_count": 10,
   "metadata": {
    "execution": {
     "iopub.execute_input": "2023-07-19T12:53:00.734133Z",
     "iopub.status.busy": "2023-07-19T12:53:00.733850Z",
     "iopub.status.idle": "2023-07-19T12:53:00.742790Z",
     "shell.execute_reply": "2023-07-19T12:53:00.742365Z"
    }
   },
   "outputs": [
    {
     "data": {
      "text/html": [
       "<div><style>\n",
       ".dataframe > thead > tr > th,\n",
       ".dataframe > tbody > tr > td {\n",
       "  text-align: right;\n",
       "}\n",
       "</style>\n",
       "<small>shape: (7, 7)</small><table border=\"1\" class=\"dataframe\"><thead><tr><th>filename</th><th>PREDICTOR_1</th><th>PREDICTOR_2</th><th>PREDICTOR_3</th><th>Context_Name</th><th>IH_Web_Inbound_Accepted_pxLastGroupID</th><th>Decision_Outcome</th></tr><tr><td>str</td><td>str</td><td>str</td><td>f64</td><td>str</td><td>str</td><td>str</td></tr></thead><tbody><tr><td>&quot;../../../../da…</td><td>&quot;35974069318624…</td><td>&quot;33295972791263…</td><td>1.2927e19</td><td>&quot;FirstMortgage3…</td><td>&quot;10446538041930…</td><td>&quot;Rejected&quot;</td></tr><tr><td>&quot;../../../../da…</td><td>&quot;13879516391543…</td><td>&quot;14555755142651…</td><td>1.4856e19</td><td>&quot;FirstMortgage3…</td><td>&quot;69606610471826…</td><td>&quot;Accepted&quot;</td></tr><tr><td>&quot;../../../../da…</td><td>&quot;89546389622712…</td><td>&quot;13174471740540…</td><td>5.6458e17</td><td>&quot;MoneyMarketSav…</td><td>&quot;10446538041930…</td><td>&quot;Rejected&quot;</td></tr><tr><td>&quot;../../../../da…</td><td>&quot;13879516391543…</td><td>&quot;14445050104002…</td><td>4.0723e18</td><td>&quot;BasicChecking&quot;</td><td>&quot;10446538041930…</td><td>&quot;Rejected&quot;</td></tr><tr><td>&quot;../../../../da…</td><td>&quot;35974069318624…</td><td>&quot;11879833305575…</td><td>1.4677e19</td><td>&quot;BasicChecking&quot;</td><td>&quot;15818265856756…</td><td>&quot;Accepted&quot;</td></tr><tr><td>&quot;../../../../da…</td><td>&quot;89546389622712…</td><td>&quot;99077756965490…</td><td>1.6330e19</td><td>&quot;UPlusFinPerson…</td><td>null</td><td>&quot;Rejected&quot;</td></tr><tr><td>&quot;../../../../da…</td><td>&quot;89546389622712…</td><td>&quot;11531697279614…</td><td>8.7675e18</td><td>&quot;BasicChecking&quot;</td><td>&quot;15818265856756…</td><td>&quot;Rejected&quot;</td></tr></tbody></table></div>"
      ],
      "text/plain": [
       "shape: (7, 7)\n",
       "┌──────────────┬─────────────┬─────────────┬─────────────┬─────────────┬─────────────┬─────────────┐\n",
       "│ filename     ┆ PREDICTOR_1 ┆ PREDICTOR_2 ┆ PREDICTOR_3 ┆ Context_Nam ┆ IH_Web_Inbo ┆ Decision_Ou │\n",
       "│ ---          ┆ ---         ┆ ---         ┆ ---         ┆ e           ┆ und_Accepte ┆ tcome       │\n",
       "│ str          ┆ str         ┆ str         ┆ f64         ┆ ---         ┆ d_pxLastGr… ┆ ---         │\n",
       "│              ┆             ┆             ┆             ┆ str         ┆ ---         ┆ str         │\n",
       "│              ┆             ┆             ┆             ┆             ┆ str         ┆             │\n",
       "╞══════════════╪═════════════╪═════════════╪═════════════╪═════════════╪═════════════╪═════════════╡\n",
       "│ ../../../../ ┆ 35974069318 ┆ 33295972791 ┆ 1.2927e19   ┆ FirstMortga ┆ 10446538041 ┆ Rejected    │\n",
       "│ data/SampleH ┆ 62480491    ┆ 2632782     ┆             ┆ ge30yr      ┆ 93081235    ┆             │\n",
       "│ DS.json      ┆             ┆             ┆             ┆             ┆             ┆             │\n",
       "│ ../../../../ ┆ 13879516391 ┆ 14555755142 ┆ 1.4856e19   ┆ FirstMortga ┆ 69606610471 ┆ Accepted    │\n",
       "│ data/SampleH ┆ 543785369   ┆ 651535261   ┆             ┆ ge30yr      ┆ 82660952    ┆             │\n",
       "│ DS.json      ┆             ┆             ┆             ┆             ┆             ┆             │\n",
       "│ ../../../../ ┆ 89546389622 ┆ 13174471740 ┆ 5.6458e17   ┆ MoneyMarket ┆ 10446538041 ┆ Rejected    │\n",
       "│ data/SampleH ┆ 71229512    ┆ 540603889   ┆             ┆ SavingsAcco ┆ 93081235    ┆             │\n",
       "│ DS.json      ┆             ┆             ┆             ┆ unt         ┆             ┆             │\n",
       "│ ../../../../ ┆ 13879516391 ┆ 14445050104 ┆ 4.0723e18   ┆ BasicChecki ┆ 10446538041 ┆ Rejected    │\n",
       "│ data/SampleH ┆ 543785369   ┆ 002424887   ┆             ┆ ng          ┆ 93081235    ┆             │\n",
       "│ DS.json      ┆             ┆             ┆             ┆             ┆             ┆             │\n",
       "│ ../../../../ ┆ 35974069318 ┆ 11879833305 ┆ 1.4677e19   ┆ BasicChecki ┆ 15818265856 ┆ Accepted    │\n",
       "│ data/SampleH ┆ 62480491    ┆ 575606624   ┆             ┆ ng          ┆ 756734013   ┆             │\n",
       "│ DS.json      ┆             ┆             ┆             ┆             ┆             ┆             │\n",
       "│ ../../../../ ┆ 89546389622 ┆ 99077756965 ┆ 1.6330e19   ┆ UPlusFinPer ┆ null        ┆ Rejected    │\n",
       "│ data/SampleH ┆ 71229512    ┆ 49065526    ┆             ┆ sonal       ┆             ┆             │\n",
       "│ DS.json      ┆             ┆             ┆             ┆             ┆             ┆             │\n",
       "│ ../../../../ ┆ 89546389622 ┆ 11531697279 ┆ 8.7675e18   ┆ BasicChecki ┆ 15818265856 ┆ Rejected    │\n",
       "│ data/SampleH ┆ 71229512    ┆ 614120876   ┆             ┆ ng          ┆ 756734013   ┆             │\n",
       "│ DS.json      ┆             ┆             ┆             ┆             ┆             ┆             │\n",
       "└──────────────┴─────────────┴─────────────┴─────────────┴─────────────┴─────────────┴─────────────┘"
      ]
     },
     "execution_count": 10,
     "metadata": {},
     "output_type": "execute_result"
    }
   ],
   "source": [
    "anon = DataAnonymization(config=Config(config_file='config.json'))\n",
    "anon.process()"
   ]
  },
  {
   "attachments": {},
   "cell_type": "markdown",
   "metadata": {},
   "source": [
    "## Exporting\n",
    "Two functions export:\n",
    "- `create_mapping_file()` writes the mapping file of the predictor names\n",
    "- `write_to_output()` writes the processed dataframe to disk\n",
    "\n",
    "Write to output accepts the following extensions: `[\"ndjson\", \"parquet\", \"arrow\", \"csv\"]`"
   ]
  },
  {
   "cell_type": "code",
   "execution_count": 11,
   "metadata": {
    "execution": {
     "iopub.execute_input": "2023-07-19T12:53:00.744981Z",
     "iopub.status.busy": "2023-07-19T12:53:00.744707Z",
     "iopub.status.idle": "2023-07-19T12:53:00.747871Z",
     "shell.execute_reply": "2023-07-19T12:53:00.747448Z"
    }
   },
   "outputs": [
    {
     "name": "stdout",
     "output_type": "stream",
     "text": [
      "filename=filename\n",
      "Customer_MaritalStatus=PREDICTOR_1\n",
      "Customer_City=PREDICTOR_2\n",
      "Customer_CLV=PREDICTOR_3\n",
      "Context_Name=Context_Name\n",
      "IH_Web_Inbound_Accepted_pxLastGroupID=IH_Web_Inbound_Accepted_pxLastGroupID\n",
      "Decision_Outcome=Decision_Outcome\n",
      "\n"
     ]
    }
   ],
   "source": [
    "anon.create_mapping_file()\n",
    "with open('mapping.map') as f:\n",
    "    print(f.read())"
   ]
  },
  {
   "cell_type": "code",
   "execution_count": 12,
   "metadata": {
    "execution": {
     "iopub.execute_input": "2023-07-19T12:53:00.749937Z",
     "iopub.status.busy": "2023-07-19T12:53:00.749629Z",
     "iopub.status.idle": "2023-07-19T12:53:00.753546Z",
     "shell.execute_reply": "2023-07-19T12:53:00.752627Z"
    }
   },
   "outputs": [],
   "source": [
    "anon.write_to_output(ext='arrow')"
   ]
  },
  {
   "cell_type": "code",
   "execution_count": 13,
   "metadata": {
    "execution": {
     "iopub.execute_input": "2023-07-19T12:53:00.755629Z",
     "iopub.status.busy": "2023-07-19T12:53:00.755357Z",
     "iopub.status.idle": "2023-07-19T12:53:00.759597Z",
     "shell.execute_reply": "2023-07-19T12:53:00.759183Z"
    }
   },
   "outputs": [
    {
     "data": {
      "text/html": [
       "<div><style>\n",
       ".dataframe > thead > tr > th,\n",
       ".dataframe > tbody > tr > td {\n",
       "  text-align: right;\n",
       "}\n",
       "</style>\n",
       "<small>shape: (7, 6)</small><table border=\"1\" class=\"dataframe\"><thead><tr><th>PREDICTOR_1</th><th>PREDICTOR_2</th><th>PREDICTOR_3</th><th>Context_Name</th><th>IH_Web_Inbound_Accepted_pxLastGroupID</th><th>Decision_Outcome</th></tr><tr><td>str</td><td>str</td><td>f64</td><td>str</td><td>str</td><td>str</td></tr></thead><tbody><tr><td>&quot;16400998706088…</td><td>&quot;14724385037798…</td><td>1.2927e19</td><td>&quot;FirstMortgage3…</td><td>&quot;12692281488301…</td><td>&quot;Rejected&quot;</td></tr><tr><td>&quot;79700561753203…</td><td>&quot;83791017929270…</td><td>1.4856e19</td><td>&quot;FirstMortgage3…</td><td>&quot;12633537591007…</td><td>&quot;Accepted&quot;</td></tr><tr><td>&quot;94227833133723…</td><td>&quot;78408843878613…</td><td>5.6458e17</td><td>&quot;MoneyMarketSav…</td><td>&quot;12692281488301…</td><td>&quot;Rejected&quot;</td></tr><tr><td>&quot;79700561753203…</td><td>&quot;12645839558898…</td><td>4.0723e18</td><td>&quot;BasicChecking&quot;</td><td>&quot;12692281488301…</td><td>&quot;Rejected&quot;</td></tr><tr><td>&quot;16400998706088…</td><td>&quot;28252179436226…</td><td>1.4677e19</td><td>&quot;BasicChecking&quot;</td><td>&quot;80687659683707…</td><td>&quot;Accepted&quot;</td></tr><tr><td>&quot;94227833133723…</td><td>&quot;12962052653849…</td><td>1.6330e19</td><td>&quot;UPlusFinPerson…</td><td>null</td><td>&quot;Rejected&quot;</td></tr><tr><td>&quot;94227833133723…</td><td>&quot;11763005590699…</td><td>8.7675e18</td><td>&quot;BasicChecking&quot;</td><td>&quot;80687659683707…</td><td>&quot;Rejected&quot;</td></tr></tbody></table></div>"
      ],
      "text/plain": [
       "shape: (7, 6)\n",
       "┌────────────────┬────────────────┬─────────────┬────────────────┬────────────────┬────────────────┐\n",
       "│ PREDICTOR_1    ┆ PREDICTOR_2    ┆ PREDICTOR_3 ┆ Context_Name   ┆ IH_Web_Inbound ┆ Decision_Outco │\n",
       "│ ---            ┆ ---            ┆ ---         ┆ ---            ┆ _Accepted_pxLa ┆ me             │\n",
       "│ str            ┆ str            ┆ f64         ┆ str            ┆ stGr…          ┆ ---            │\n",
       "│                ┆                ┆             ┆                ┆ ---            ┆ str            │\n",
       "│                ┆                ┆             ┆                ┆ str            ┆                │\n",
       "╞════════════════╪════════════════╪═════════════╪════════════════╪════════════════╪════════════════╡\n",
       "│ 16400998706088 ┆ 14724385037798 ┆ 1.2927e19   ┆ FirstMortgage3 ┆ 12692281488301 ┆ Rejected       │\n",
       "│ 828740         ┆ 17754          ┆             ┆ 0yr            ┆ 204007         ┆                │\n",
       "│ 79700561753203 ┆ 83791017929270 ┆ 1.4856e19   ┆ FirstMortgage3 ┆ 12633537591007 ┆ Accepted       │\n",
       "│ 84874          ┆ 5083           ┆             ┆ 0yr            ┆ 617240         ┆                │\n",
       "│ 94227833133723 ┆ 78408843878613 ┆ 5.6458e17   ┆ MoneyMarketSav ┆ 12692281488301 ┆ Rejected       │\n",
       "│ 07533          ┆ 98157          ┆             ┆ ingsAccount    ┆ 204007         ┆                │\n",
       "│ 79700561753203 ┆ 12645839558898 ┆ 4.0723e18   ┆ BasicChecking  ┆ 12692281488301 ┆ Rejected       │\n",
       "│ 84874          ┆ 162026         ┆             ┆                ┆ 204007         ┆                │\n",
       "│ 16400998706088 ┆ 28252179436226 ┆ 1.4677e19   ┆ BasicChecking  ┆ 80687659683707 ┆ Accepted       │\n",
       "│ 828740         ┆ 63112          ┆             ┆                ┆ 10528          ┆                │\n",
       "│ 94227833133723 ┆ 12962052653849 ┆ 1.6330e19   ┆ UPlusFinPerson ┆ null           ┆ Rejected       │\n",
       "│ 07533          ┆ 939563         ┆             ┆ al             ┆                ┆                │\n",
       "│ 94227833133723 ┆ 11763005590699 ┆ 8.7675e18   ┆ BasicChecking  ┆ 80687659683707 ┆ Rejected       │\n",
       "│ 07533          ┆ 362286         ┆             ┆                ┆ 10528          ┆                │\n",
       "└────────────────┴────────────────┴─────────────┴────────────────┴────────────────┴────────────────┘"
      ]
     },
     "execution_count": 13,
     "metadata": {},
     "output_type": "execute_result"
    }
   ],
   "source": [
    "pl.read_ipc('output/hds.arrow')"
   ]
  },
  {
   "attachments": {},
   "cell_type": "markdown",
   "metadata": {},
   "source": [
    "## Advanced: Hash fuctions\n",
    "\n",
    "By default, we use [the same hashing algorithm Polars](https://pola-rs.github.io/polars/py-polars/html/reference/expressions/api/polars.Expr.hash.html#polars.Expr.hash) uses: [xxhash](https://github.com/Cyan4973/xxHash), as implemented [here](https://github.com/pola-rs/polars/blob/3f287f370b3c388ed2f3f218b2c096382548136f/polars/polars-core/src/vector_hasher.rs#L266). xxhash is fast to compute, and you can check its performance in collision, dispersion and randomness [here](https://github.com/Cyan4973/xxHash/tree/dev/tests). \n",
    "\n",
    "xxhash accepts four distinct seeds, but by default we set the seeds to `0`. It is possible to set the `seed` argument of the `process()` function to `'random'`, which will set all four seeds to a random integer between `0` and `1000000000`. Alternatively, it is possible to supply the four seeds manually with arguments `seed`, `seed_1`, `seed_2` and `seed_3`. \n",
    "\n",
    "If the xxhash with (random) seed(s) is not deemed sufficiently secure, it is possible to use your own hashing algorithm.\n",
    "\n",
    "Note that since we're now running python code and not native Polars code anymore, this will be _significantly_ slower. Nonetheless, it is possible.\n",
    "\n",
    "Just as an example - this is how one would use sha3_256:"
   ]
  },
  {
   "cell_type": "code",
   "execution_count": 14,
   "metadata": {
    "execution": {
     "iopub.execute_input": "2023-07-19T12:53:00.761712Z",
     "iopub.status.busy": "2023-07-19T12:53:00.761414Z",
     "iopub.status.idle": "2023-07-19T12:53:01.096868Z",
     "shell.execute_reply": "2023-07-19T12:53:01.096244Z"
    }
   },
   "outputs": [
    {
     "ename": "ComputeError",
     "evalue": "AttributeError: 'int' object has no attribute 'encode'",
     "output_type": "error",
     "traceback": [
      "\u001b[0;31m---------------------------------------------------------------------------\u001b[0m",
      "\u001b[0;31mComputeError\u001b[0m                              Traceback (most recent call last)",
      "Cell \u001b[0;32mIn[14], line 3\u001b[0m\n\u001b[1;32m      1\u001b[0m \u001b[38;5;28;01mfrom\u001b[39;00m \u001b[38;5;21;01mhashlib\u001b[39;00m \u001b[38;5;28;01mimport\u001b[39;00m sha3_256\n\u001b[0;32m----> 3\u001b[0m \u001b[43manon\u001b[49m\u001b[38;5;241;43m.\u001b[39;49m\u001b[43mprocess\u001b[49m\u001b[43m(\u001b[49m\u001b[43malgorithm\u001b[49m\u001b[38;5;241;43m=\u001b[39;49m\u001b[38;5;28;43;01mlambda\u001b[39;49;00m\u001b[43m \u001b[49m\u001b[43mx\u001b[49m\u001b[43m:\u001b[49m\u001b[43m \u001b[49m\u001b[43msha3_256\u001b[49m\u001b[43m(\u001b[49m\u001b[43mx\u001b[49m\u001b[38;5;241;43m.\u001b[39;49m\u001b[43mencode\u001b[49m\u001b[43m(\u001b[49m\u001b[43m)\u001b[49m\u001b[43m)\u001b[49m\u001b[38;5;241;43m.\u001b[39;49m\u001b[43mhexdigest\u001b[49m\u001b[43m(\u001b[49m\u001b[43m)\u001b[49m\u001b[43m)\u001b[49m\n",
      "File \u001b[0;32m~/work/pega-datascientist-tools/pega-datascientist-tools/python/docs/source/articles/../../../pdstools/utils/hds_utils.py:516\u001b[0m, in \u001b[0;36mDataAnonymization.process\u001b[0;34m(self, strategy, **kwargs)\u001b[0m\n\u001b[1;32m    514\u001b[0m df \u001b[38;5;241m=\u001b[39m df\u001b[38;5;241m.\u001b[39mselect(\u001b[38;5;28mself\u001b[39m\u001b[38;5;241m.\u001b[39mcolumn_mapping\u001b[38;5;241m.\u001b[39mkeys())\u001b[38;5;241m.\u001b[39mrename(\u001b[38;5;28mself\u001b[39m\u001b[38;5;241m.\u001b[39mcolumn_mapping)\n\u001b[1;32m    515\u001b[0m \u001b[38;5;28;01mif\u001b[39;00m strategy \u001b[38;5;241m==\u001b[39m \u001b[38;5;124m\"\u001b[39m\u001b[38;5;124meager\u001b[39m\u001b[38;5;124m\"\u001b[39m:\n\u001b[0;32m--> 516\u001b[0m     \u001b[38;5;28;01mreturn\u001b[39;00m \u001b[43mdf\u001b[49m\u001b[38;5;241;43m.\u001b[39;49m\u001b[43mcollect\u001b[49m\u001b[43m(\u001b[49m\u001b[43m)\u001b[49m\n\u001b[1;32m    517\u001b[0m \u001b[38;5;28;01mreturn\u001b[39;00m df\n",
      "File \u001b[0;32m/opt/hostedtoolcache/Python/3.11.4/x64/lib/python3.11/site-packages/polars/lazyframe/frame.py:1531\u001b[0m, in \u001b[0;36mLazyFrame.collect\u001b[0;34m(self, type_coercion, predicate_pushdown, projection_pushdown, simplify_expression, no_optimization, slice_pushdown, common_subplan_elimination, streaming)\u001b[0m\n\u001b[1;32m   1520\u001b[0m     common_subplan_elimination \u001b[38;5;241m=\u001b[39m \u001b[38;5;28;01mFalse\u001b[39;00m\n\u001b[1;32m   1522\u001b[0m ldf \u001b[38;5;241m=\u001b[39m \u001b[38;5;28mself\u001b[39m\u001b[38;5;241m.\u001b[39m_ldf\u001b[38;5;241m.\u001b[39moptimization_toggle(\n\u001b[1;32m   1523\u001b[0m     type_coercion,\n\u001b[1;32m   1524\u001b[0m     predicate_pushdown,\n\u001b[0;32m   (...)\u001b[0m\n\u001b[1;32m   1529\u001b[0m     streaming,\n\u001b[1;32m   1530\u001b[0m )\n\u001b[0;32m-> 1531\u001b[0m \u001b[38;5;28;01mreturn\u001b[39;00m wrap_df(ldf\u001b[38;5;241m.\u001b[39mcollect())\n",
      "\u001b[0;31mComputeError\u001b[0m: AttributeError: 'int' object has no attribute 'encode'"
     ]
    }
   ],
   "source": [
    "from hashlib import sha3_256\n",
    "\n",
    "anon.process(algorithm=lambda x: sha3_256(x.encode()).hexdigest())"
   ]
  }
 ],
 "metadata": {
  "kernelspec": {
   "display_name": "Python 3",
   "language": "python",
   "name": "python3"
  },
  "language_info": {
   "codemirror_mode": {
    "name": "ipython",
    "version": 3
   },
   "file_extension": ".py",
   "mimetype": "text/x-python",
   "name": "python",
   "nbconvert_exporter": "python",
   "pygments_lexer": "ipython3",
   "version": "3.11.4"
  },
  "vscode": {
   "interpreter": {
    "hash": "aee8b7b246df8f9039afb4144a1f6fd8d2ca17a180786b69acc140d282b71a49"
   }
  }
 },
 "nbformat": 4,
 "nbformat_minor": 2
}
