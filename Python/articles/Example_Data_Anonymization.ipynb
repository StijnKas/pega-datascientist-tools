{
 "cells": [
  {
   "attachments": {},
   "cell_type": "markdown",
   "metadata": {},
   "source": [
    "# Example data anonymization\n",
    "\n",
    "In Pega CDH 8.5 and up, it's now possible to record the historical data as seen by the Adaptive Models. See [this academy challenge](https://academy.pega.com/challenge/exporting-historical-data/v4) for reference. This historical data can be further used to experiment with offline models, but also to fine-tune the OOTB Gradient Boosting model. However, sharing this information with Pega can be sensitive as it contains raw predictor data. \n",
    "\n",
    "To this end, we provide a simple and transparent script to fully anonimize this dataset.\n",
    "\n",
    "The DataAnonymization script is now part of pdstools, and you can import it directly as such."
   ]
  },
  {
   "cell_type": "code",
   "execution_count": 1,
   "metadata": {
    "execution": {
     "iopub.execute_input": "2023-10-11T11:44:30.016711Z",
     "iopub.status.busy": "2023-10-11T11:44:30.015374Z",
     "iopub.status.idle": "2023-10-11T11:44:30.097893Z",
     "shell.execute_reply": "2023-10-11T11:44:30.097256Z"
    },
    "nbsphinx": "hidden"
   },
   "outputs": [],
   "source": [
    "# These lines are only for rendering in the docs, and are hidden through Jupyter tags\n",
    "# Do not run if you're running the notebook seperately\n",
    "\n",
    "import os  \n",
    "import sys\n",
    "import plotly.io as pio\n",
    "pio.renderers.default = \"notebook_connected\"\n",
    "\n",
    "sys.path.append(\"../../../\")\n",
    "sys.path.append('../../python')"
   ]
  },
  {
   "cell_type": "code",
   "execution_count": 2,
   "metadata": {
    "execution": {
     "iopub.execute_input": "2023-10-11T11:44:30.100914Z",
     "iopub.status.busy": "2023-10-11T11:44:30.100438Z",
     "iopub.status.idle": "2023-10-11T11:44:31.260110Z",
     "shell.execute_reply": "2023-10-11T11:44:31.259438Z"
    }
   },
   "outputs": [],
   "source": [
    "from pdstools import ADMDatamart\n",
    "from pdstools import Config, DataAnonymization\n",
    "import polars as pl"
   ]
  },
  {
   "attachments": {},
   "cell_type": "markdown",
   "metadata": {},
   "source": [
    "## Input data\n",
    "\n",
    "To demonstrate this process, we're going to anonymise this toy example dataframe:"
   ]
  },
  {
   "cell_type": "code",
   "execution_count": 3,
   "metadata": {
    "execution": {
     "iopub.execute_input": "2023-10-11T11:44:31.263888Z",
     "iopub.status.busy": "2023-10-11T11:44:31.263100Z",
     "iopub.status.idle": "2023-10-11T11:44:31.274444Z",
     "shell.execute_reply": "2023-10-11T11:44:31.273919Z"
    }
   },
   "outputs": [
    {
     "data": {
      "text/html": [
       "<div><style>\n",
       ".dataframe > thead > tr > th,\n",
       ".dataframe > tbody > tr > td {\n",
       "  text-align: right;\n",
       "  white-space: pre-wrap;\n",
       "}\n",
       "</style>\n",
       "<small>shape: (7, 6)</small><table border=\"1\" class=\"dataframe\"><thead><tr><th>Context_Name</th><th>Customer_MaritalStatus</th><th>Customer_CLV</th><th>Customer_City</th><th>IH_Web_Inbound_Accepted_pxLastGroupID</th><th>Decision_Outcome</th></tr><tr><td>str</td><td>str</td><td>i64</td><td>str</td><td>str</td><td>str</td></tr></thead><tbody><tr><td>&quot;FirstMortgage3…</td><td>&quot;Married&quot;</td><td>1460</td><td>&quot;Port Raoul&quot;</td><td>&quot;Account&quot;</td><td>&quot;Rejected&quot;</td></tr><tr><td>&quot;FirstMortgage3…</td><td>&quot;Unknown&quot;</td><td>669</td><td>&quot;Laurianneshire…</td><td>&quot;AutoLoans&quot;</td><td>&quot;Accepted&quot;</td></tr><tr><td>&quot;MoneyMarketSav…</td><td>&quot;No Resp+&quot;</td><td>1174</td><td>&quot;Jacobshaven&quot;</td><td>&quot;Account&quot;</td><td>&quot;Rejected&quot;</td></tr><tr><td>&quot;BasicChecking&quot;</td><td>&quot;Unknown&quot;</td><td>1476</td><td>&quot;Lindton&quot;</td><td>&quot;Account&quot;</td><td>&quot;Rejected&quot;</td></tr><tr><td>&quot;BasicChecking&quot;</td><td>&quot;Married&quot;</td><td>1211</td><td>&quot;South Jimmiesh…</td><td>&quot;DepositAccount…</td><td>&quot;Accepted&quot;</td></tr><tr><td>&quot;UPlusFinPerson…</td><td>&quot;No Resp+&quot;</td><td>533</td><td>&quot;Bergeville&quot;</td><td>null</td><td>&quot;Rejected&quot;</td></tr><tr><td>&quot;BasicChecking&quot;</td><td>&quot;No Resp+&quot;</td><td>555</td><td>&quot;Willyville&quot;</td><td>&quot;DepositAccount…</td><td>&quot;Rejected&quot;</td></tr></tbody></table></div>"
      ],
      "text/plain": [
       "shape: (7, 6)\n",
       "┌────────────────┬────────────────┬──────────────┬────────────────┬────────────────┬───────────────┐\n",
       "│ Context_Name   ┆ Customer_Marit ┆ Customer_CLV ┆ Customer_City  ┆ IH_Web_Inbound ┆ Decision_Outc │\n",
       "│ ---            ┆ alStatus       ┆ ---          ┆ ---            ┆ _Accepted_pxLa ┆ ome           │\n",
       "│ str            ┆ ---            ┆ i64          ┆ str            ┆ stGr…          ┆ ---           │\n",
       "│                ┆ str            ┆              ┆                ┆ ---            ┆ str           │\n",
       "│                ┆                ┆              ┆                ┆ str            ┆               │\n",
       "╞════════════════╪════════════════╪══════════════╪════════════════╪════════════════╪═══════════════╡\n",
       "│ FirstMortgage3 ┆ Married        ┆ 1460         ┆ Port Raoul     ┆ Account        ┆ Rejected      │\n",
       "│ 0yr            ┆                ┆              ┆                ┆                ┆               │\n",
       "│ FirstMortgage3 ┆ Unknown        ┆ 669          ┆ Laurianneshire ┆ AutoLoans      ┆ Accepted      │\n",
       "│ 0yr            ┆                ┆              ┆                ┆                ┆               │\n",
       "│ MoneyMarketSav ┆ No Resp+       ┆ 1174         ┆ Jacobshaven    ┆ Account        ┆ Rejected      │\n",
       "│ ingsAccount    ┆                ┆              ┆                ┆                ┆               │\n",
       "│ BasicChecking  ┆ Unknown        ┆ 1476         ┆ Lindton        ┆ Account        ┆ Rejected      │\n",
       "│ BasicChecking  ┆ Married        ┆ 1211         ┆ South          ┆ DepositAccount ┆ Accepted      │\n",
       "│                ┆                ┆              ┆ Jimmieshire    ┆ s              ┆               │\n",
       "│ UPlusFinPerson ┆ No Resp+       ┆ 533          ┆ Bergeville     ┆ null           ┆ Rejected      │\n",
       "│ al             ┆                ┆              ┆                ┆                ┆               │\n",
       "│ BasicChecking  ┆ No Resp+       ┆ 555          ┆ Willyville     ┆ DepositAccount ┆ Rejected      │\n",
       "│                ┆                ┆              ┆                ┆ s              ┆               │\n",
       "└────────────────┴────────────────┴──────────────┴────────────────┴────────────────┴───────────────┘"
      ]
     },
     "execution_count": 3,
     "metadata": {},
     "output_type": "execute_result"
    }
   ],
   "source": [
    "pl.read_ndjson('../../../../data/SampleHDS.json')"
   ]
  },
  {
   "attachments": {},
   "cell_type": "markdown",
   "metadata": {},
   "source": [
    "As you can see, this dataset consists of regular predictors, IH predictors, context keys and the outcome column. Additionally, some columns are numeric, others are strings. Let's first initialize the DataAnonymization class."
   ]
  },
  {
   "cell_type": "code",
   "execution_count": 4,
   "metadata": {
    "execution": {
     "iopub.execute_input": "2023-10-11T11:44:31.277415Z",
     "iopub.status.busy": "2023-10-11T11:44:31.277212Z",
     "iopub.status.idle": "2023-10-11T11:44:31.288714Z",
     "shell.execute_reply": "2023-10-11T11:44:31.288174Z"
    }
   },
   "outputs": [],
   "source": [
    "anon = DataAnonymization(hds_folder='../../../../data/')"
   ]
  },
  {
   "attachments": {},
   "cell_type": "markdown",
   "metadata": {},
   "source": [
    "By default, the class applies a set of anonymisation techniques:\n",
    "- Column names are remapped to a non-descriptive name\n",
    "- Categorical values are hashed with a random seed\n",
    "- Numerical values are normalized between 0 and 1\n",
    "- Outcomes are mapped to a binary outcome.\n",
    "\n",
    "To apply these techniques, simply call `.process()`:"
   ]
  },
  {
   "cell_type": "code",
   "execution_count": 5,
   "metadata": {
    "execution": {
     "iopub.execute_input": "2023-10-11T11:44:31.291523Z",
     "iopub.status.busy": "2023-10-11T11:44:31.291326Z",
     "iopub.status.idle": "2023-10-11T11:44:31.298369Z",
     "shell.execute_reply": "2023-10-11T11:44:31.297912Z"
    }
   },
   "outputs": [
    {
     "data": {
      "text/html": [
       "<div><style>\n",
       ".dataframe > thead > tr > th,\n",
       ".dataframe > tbody > tr > td {\n",
       "  text-align: right;\n",
       "  white-space: pre-wrap;\n",
       "}\n",
       "</style>\n",
       "<small>shape: (7, 7)</small><table border=\"1\" class=\"dataframe\"><thead><tr><th>filename</th><th>PREDICTOR_1</th><th>PREDICTOR_2</th><th>PREDICTOR_3</th><th>Context_Name</th><th>IH_PREDICTOR_0</th><th>Decision_Outcome</th></tr><tr><td>str</td><td>f64</td><td>str</td><td>str</td><td>str</td><td>str</td><td>bool</td></tr></thead><tbody><tr><td>&quot;../../../../da…</td><td>1.2927e19</td><td>&quot;82299586105982…</td><td>&quot;16345251099661…</td><td>&quot;17320931994270…</td><td>&quot;13677497111334…</td><td>false</td></tr><tr><td>&quot;../../../../da…</td><td>1.4856e19</td><td>&quot;91445703200084…</td><td>&quot;84161993733598…</td><td>&quot;17320931994270…</td><td>&quot;11772241724612…</td><td>true</td></tr><tr><td>&quot;../../../../da…</td><td>5.6458e17</td><td>&quot;64923787667438…</td><td>&quot;17495943974455…</td><td>&quot;16221631072643…</td><td>&quot;13677497111334…</td><td>false</td></tr><tr><td>&quot;../../../../da…</td><td>4.0723e18</td><td>&quot;12009714254368…</td><td>&quot;84161993733598…</td><td>&quot;53498977082632…</td><td>&quot;13677497111334…</td><td>false</td></tr><tr><td>&quot;../../../../da…</td><td>1.4677e19</td><td>&quot;16509679606296…</td><td>&quot;16345251099661…</td><td>&quot;53498977082632…</td><td>&quot;78498363096648…</td><td>true</td></tr><tr><td>&quot;../../../../da…</td><td>1.6330e19</td><td>&quot;70677712132910…</td><td>&quot;17495943974455…</td><td>&quot;14496526988389…</td><td>null</td><td>false</td></tr><tr><td>&quot;../../../../da…</td><td>8.7675e18</td><td>&quot;12101791327672…</td><td>&quot;17495943974455…</td><td>&quot;53498977082632…</td><td>&quot;78498363096648…</td><td>false</td></tr></tbody></table></div>"
      ],
      "text/plain": [
       "shape: (7, 7)\n",
       "┌──────────────┬─────────────┬─────────────┬─────────────┬─────────────┬─────────────┬─────────────┐\n",
       "│ filename     ┆ PREDICTOR_1 ┆ PREDICTOR_2 ┆ PREDICTOR_3 ┆ Context_Nam ┆ IH_PREDICTO ┆ Decision_Ou │\n",
       "│ ---          ┆ ---         ┆ ---         ┆ ---         ┆ e           ┆ R_0         ┆ tcome       │\n",
       "│ str          ┆ f64         ┆ str         ┆ str         ┆ ---         ┆ ---         ┆ ---         │\n",
       "│              ┆             ┆             ┆             ┆ str         ┆ str         ┆ bool        │\n",
       "╞══════════════╪═════════════╪═════════════╪═════════════╪═════════════╪═════════════╪═════════════╡\n",
       "│ ../../../../ ┆ 1.2927e19   ┆ 82299586105 ┆ 16345251099 ┆ 17320931994 ┆ 13677497111 ┆ false       │\n",
       "│ data/SampleH ┆             ┆ 98221675    ┆ 661723944   ┆ 270469534   ┆ 334052310   ┆             │\n",
       "│ DS.json      ┆             ┆             ┆             ┆             ┆             ┆             │\n",
       "│ ../../../../ ┆ 1.4856e19   ┆ 91445703200 ┆ 84161993733 ┆ 17320931994 ┆ 11772241724 ┆ true        │\n",
       "│ data/SampleH ┆             ┆ 08472568    ┆ 59857073    ┆ 270469534   ┆ 61283181    ┆             │\n",
       "│ DS.json      ┆             ┆             ┆             ┆             ┆             ┆             │\n",
       "│ ../../../../ ┆ 5.6458e17   ┆ 64923787667 ┆ 17495943974 ┆ 16221631072 ┆ 13677497111 ┆ false       │\n",
       "│ data/SampleH ┆             ┆ 43889753    ┆ 455198627   ┆ 643499589   ┆ 334052310   ┆             │\n",
       "│ DS.json      ┆             ┆             ┆             ┆             ┆             ┆             │\n",
       "│ ../../../../ ┆ 4.0723e18   ┆ 12009714254 ┆ 84161993733 ┆ 53498977082 ┆ 13677497111 ┆ false       │\n",
       "│ data/SampleH ┆             ┆ 368242947   ┆ 59857073    ┆ 63293960    ┆ 334052310   ┆             │\n",
       "│ DS.json      ┆             ┆             ┆             ┆             ┆             ┆             │\n",
       "│ ../../../../ ┆ 1.4677e19   ┆ 16509679606 ┆ 16345251099 ┆ 53498977082 ┆ 78498363096 ┆ true        │\n",
       "│ data/SampleH ┆             ┆ 296943622   ┆ 661723944   ┆ 63293960    ┆ 64874123    ┆             │\n",
       "│ DS.json      ┆             ┆             ┆             ┆             ┆             ┆             │\n",
       "│ ../../../../ ┆ 1.6330e19   ┆ 70677712132 ┆ 17495943974 ┆ 14496526988 ┆ null        ┆ false       │\n",
       "│ data/SampleH ┆             ┆ 91002845    ┆ 455198627   ┆ 389069940   ┆             ┆             │\n",
       "│ DS.json      ┆             ┆             ┆             ┆             ┆             ┆             │\n",
       "│ ../../../../ ┆ 8.7675e18   ┆ 12101791327 ┆ 17495943974 ┆ 53498977082 ┆ 78498363096 ┆ false       │\n",
       "│ data/SampleH ┆             ┆ 672392085   ┆ 455198627   ┆ 63293960    ┆ 64874123    ┆             │\n",
       "│ DS.json      ┆             ┆             ┆             ┆             ┆             ┆             │\n",
       "└──────────────┴─────────────┴─────────────┴─────────────┴─────────────┴─────────────┴─────────────┘"
      ]
     },
     "execution_count": 5,
     "metadata": {},
     "output_type": "execute_result"
    }
   ],
   "source": [
    "anon.process()"
   ]
  },
  {
   "attachments": {},
   "cell_type": "markdown",
   "metadata": {},
   "source": [
    "To trace back the columns to their original names, the class also contains a mapping, which does not have to be provided."
   ]
  },
  {
   "cell_type": "code",
   "execution_count": 6,
   "metadata": {
    "execution": {
     "iopub.execute_input": "2023-10-11T11:44:31.300865Z",
     "iopub.status.busy": "2023-10-11T11:44:31.300359Z",
     "iopub.status.idle": "2023-10-11T11:44:31.304126Z",
     "shell.execute_reply": "2023-10-11T11:44:31.303673Z"
    }
   },
   "outputs": [
    {
     "data": {
      "text/plain": [
       "{'filename': 'filename',\n",
       " 'Customer_CLV': 'PREDICTOR_1',\n",
       " 'Customer_City': 'PREDICTOR_2',\n",
       " 'Customer_MaritalStatus': 'PREDICTOR_3',\n",
       " 'Context_Name': 'Context_Name',\n",
       " 'IH_Web_Inbound_Accepted_pxLastGroupID': 'IH_PREDICTOR_0',\n",
       " 'Decision_Outcome': 'Decision_Outcome'}"
      ]
     },
     "execution_count": 6,
     "metadata": {},
     "output_type": "execute_result"
    }
   ],
   "source": [
    "anon.column_mapping"
   ]
  },
  {
   "attachments": {},
   "cell_type": "markdown",
   "metadata": {},
   "source": [
    "## Configs\n",
    "\n",
    "Each capability can optionally be turned off - see below for the full list of config options, and refer to the API reference for the full description."
   ]
  },
  {
   "cell_type": "code",
   "execution_count": 7,
   "metadata": {
    "execution": {
     "iopub.execute_input": "2023-10-11T11:44:31.306426Z",
     "iopub.status.busy": "2023-10-11T11:44:31.305953Z",
     "iopub.status.idle": "2023-10-11T11:44:31.310109Z",
     "shell.execute_reply": "2023-10-11T11:44:31.309668Z"
    }
   },
   "outputs": [
    {
     "data": {
      "text/plain": [
       "{'config_file': None,\n",
       " 'hds_folder': '.',\n",
       " 'use_datamart': False,\n",
       " 'datamart_folder': 'datamart',\n",
       " 'output_format': 'ndjson',\n",
       " 'output_folder': 'output',\n",
       " 'mapping_file': 'mapping.map',\n",
       " 'mask_predictor_names': True,\n",
       " 'mask_context_key_names': False,\n",
       " 'mask_ih_names': True,\n",
       " 'mask_outcome_name': False,\n",
       " 'mask_predictor_values': True,\n",
       " 'mask_context_key_values': True,\n",
       " 'mask_ih_values': True,\n",
       " 'mask_outcome_values': True,\n",
       " 'context_key_label': 'Context_*',\n",
       " 'ih_label': 'IH_*',\n",
       " 'outcome_column': 'Decision_Outcome',\n",
       " 'positive_outcomes': ['Accepted', 'Clicked'],\n",
       " 'negative_outcomes': ['Rejected', 'Impression'],\n",
       " 'special_predictors': ['Decision_DecisionTime',\n",
       "  'Decision_OutcomeTime',\n",
       "  'Decision_Rank'],\n",
       " 'sample_percentage_schema_inferencing': 0.01}"
      ]
     },
     "execution_count": 7,
     "metadata": {},
     "output_type": "execute_result"
    }
   ],
   "source": [
    "dict(zip(Config.__init__.__code__.co_varnames[1:], Config.__init__.__defaults__))"
   ]
  },
  {
   "attachments": {},
   "cell_type": "markdown",
   "metadata": {},
   "source": [
    "It's easy to change these parameters by just passing the keyword arguments. In the following example, we\n",
    "- Keep the IH predictor names\n",
    "- Keep the outcome values\n",
    "- Keep the context key values\n",
    "- Keep the context key predictor names"
   ]
  },
  {
   "cell_type": "code",
   "execution_count": 8,
   "metadata": {
    "execution": {
     "iopub.execute_input": "2023-10-11T11:44:31.312403Z",
     "iopub.status.busy": "2023-10-11T11:44:31.311911Z",
     "iopub.status.idle": "2023-10-11T11:44:31.322079Z",
     "shell.execute_reply": "2023-10-11T11:44:31.321597Z"
    }
   },
   "outputs": [
    {
     "data": {
      "text/html": [
       "<div><style>\n",
       ".dataframe > thead > tr > th,\n",
       ".dataframe > tbody > tr > td {\n",
       "  text-align: right;\n",
       "  white-space: pre-wrap;\n",
       "}\n",
       "</style>\n",
       "<small>shape: (7, 7)</small><table border=\"1\" class=\"dataframe\"><thead><tr><th>filename</th><th>PREDICTOR_1</th><th>PREDICTOR_2</th><th>PREDICTOR_3</th><th>Context_Name</th><th>IH_Web_Inbound_Accepted_pxLastGroupID</th><th>Decision_Outcome</th></tr><tr><td>str</td><td>f64</td><td>str</td><td>str</td><td>str</td><td>str</td><td>str</td></tr></thead><tbody><tr><td>&quot;../../../../da…</td><td>1.2927e19</td><td>&quot;69821814448024…</td><td>&quot;16069124074893…</td><td>&quot;FirstMortgage3…</td><td>&quot;16590765587857…</td><td>&quot;Rejected&quot;</td></tr><tr><td>&quot;../../../../da…</td><td>1.4856e19</td><td>&quot;21150438423391…</td><td>&quot;94927289039809…</td><td>&quot;FirstMortgage3…</td><td>&quot;12152318940070…</td><td>&quot;Accepted&quot;</td></tr><tr><td>&quot;../../../../da…</td><td>5.6458e17</td><td>&quot;86954258943863…</td><td>&quot;10929142510653…</td><td>&quot;MoneyMarketSav…</td><td>&quot;16590765587857…</td><td>&quot;Rejected&quot;</td></tr><tr><td>&quot;../../../../da…</td><td>4.0723e18</td><td>&quot;56644418710798…</td><td>&quot;94927289039809…</td><td>&quot;BasicChecking&quot;</td><td>&quot;16590765587857…</td><td>&quot;Rejected&quot;</td></tr><tr><td>&quot;../../../../da…</td><td>1.4677e19</td><td>&quot;17780968865749…</td><td>&quot;16069124074893…</td><td>&quot;BasicChecking&quot;</td><td>&quot;16460894136607…</td><td>&quot;Accepted&quot;</td></tr><tr><td>&quot;../../../../da…</td><td>1.6330e19</td><td>&quot;16082519737559…</td><td>&quot;10929142510653…</td><td>&quot;UPlusFinPerson…</td><td>null</td><td>&quot;Rejected&quot;</td></tr><tr><td>&quot;../../../../da…</td><td>8.7675e18</td><td>&quot;12579112419015…</td><td>&quot;10929142510653…</td><td>&quot;BasicChecking&quot;</td><td>&quot;16460894136607…</td><td>&quot;Rejected&quot;</td></tr></tbody></table></div>"
      ],
      "text/plain": [
       "shape: (7, 7)\n",
       "┌──────────────┬─────────────┬─────────────┬─────────────┬─────────────┬─────────────┬─────────────┐\n",
       "│ filename     ┆ PREDICTOR_1 ┆ PREDICTOR_2 ┆ PREDICTOR_3 ┆ Context_Nam ┆ IH_Web_Inbo ┆ Decision_Ou │\n",
       "│ ---          ┆ ---         ┆ ---         ┆ ---         ┆ e           ┆ und_Accepte ┆ tcome       │\n",
       "│ str          ┆ f64         ┆ str         ┆ str         ┆ ---         ┆ d_pxLastGr… ┆ ---         │\n",
       "│              ┆             ┆             ┆             ┆ str         ┆ ---         ┆ str         │\n",
       "│              ┆             ┆             ┆             ┆             ┆ str         ┆             │\n",
       "╞══════════════╪═════════════╪═════════════╪═════════════╪═════════════╪═════════════╪═════════════╡\n",
       "│ ../../../../ ┆ 1.2927e19   ┆ 69821814448 ┆ 16069124074 ┆ FirstMortga ┆ 16590765587 ┆ Rejected    │\n",
       "│ data/SampleH ┆             ┆ 0240279     ┆ 893922790   ┆ ge30yr      ┆ 857436403   ┆             │\n",
       "│ DS.json      ┆             ┆             ┆             ┆             ┆             ┆             │\n",
       "│ ../../../../ ┆ 1.4856e19   ┆ 21150438423 ┆ 94927289039 ┆ FirstMortga ┆ 12152318940 ┆ Accepted    │\n",
       "│ data/SampleH ┆             ┆ 39174306    ┆ 80944242    ┆ ge30yr      ┆ 070764769   ┆             │\n",
       "│ DS.json      ┆             ┆             ┆             ┆             ┆             ┆             │\n",
       "│ ../../../../ ┆ 5.6458e17   ┆ 86954258943 ┆ 10929142510 ┆ MoneyMarket ┆ 16590765587 ┆ Rejected    │\n",
       "│ data/SampleH ┆             ┆ 86355949    ┆ 653299134   ┆ SavingsAcco ┆ 857436403   ┆             │\n",
       "│ DS.json      ┆             ┆             ┆             ┆ unt         ┆             ┆             │\n",
       "│ ../../../../ ┆ 4.0723e18   ┆ 56644418710 ┆ 94927289039 ┆ BasicChecki ┆ 16590765587 ┆ Rejected    │\n",
       "│ data/SampleH ┆             ┆ 79854582    ┆ 80944242    ┆ ng          ┆ 857436403   ┆             │\n",
       "│ DS.json      ┆             ┆             ┆             ┆             ┆             ┆             │\n",
       "│ ../../../../ ┆ 1.4677e19   ┆ 17780968865 ┆ 16069124074 ┆ BasicChecki ┆ 16460894136 ┆ Accepted    │\n",
       "│ data/SampleH ┆             ┆ 749040545   ┆ 893922790   ┆ ng          ┆ 607077635   ┆             │\n",
       "│ DS.json      ┆             ┆             ┆             ┆             ┆             ┆             │\n",
       "│ ../../../../ ┆ 1.6330e19   ┆ 16082519737 ┆ 10929142510 ┆ UPlusFinPer ┆ null        ┆ Rejected    │\n",
       "│ data/SampleH ┆             ┆ 55989641    ┆ 653299134   ┆ sonal       ┆             ┆             │\n",
       "│ DS.json      ┆             ┆             ┆             ┆             ┆             ┆             │\n",
       "│ ../../../../ ┆ 8.7675e18   ┆ 12579112419 ┆ 10929142510 ┆ BasicChecki ┆ 16460894136 ┆ Rejected    │\n",
       "│ data/SampleH ┆             ┆ 015088584   ┆ 653299134   ┆ ng          ┆ 607077635   ┆             │\n",
       "│ DS.json      ┆             ┆             ┆             ┆             ┆             ┆             │\n",
       "└──────────────┴─────────────┴─────────────┴─────────────┴─────────────┴─────────────┴─────────────┘"
      ]
     },
     "execution_count": 8,
     "metadata": {},
     "output_type": "execute_result"
    }
   ],
   "source": [
    "anon = DataAnonymization(\n",
    "    hds_folder=\"../../../../data/\",\n",
    "    mask_ih_names=False,\n",
    "    mask_outcome_values=False,\n",
    "    mask_context_key_values=False,\n",
    "    mask_context_key_names=False,\n",
    ")\n",
    "anon.process()\n"
   ]
  },
  {
   "attachments": {},
   "cell_type": "markdown",
   "metadata": {},
   "source": [
    "The configs can also be written and read as such:"
   ]
  },
  {
   "cell_type": "code",
   "execution_count": 9,
   "metadata": {
    "execution": {
     "iopub.execute_input": "2023-10-11T11:44:31.324578Z",
     "iopub.status.busy": "2023-10-11T11:44:31.324204Z",
     "iopub.status.idle": "2023-10-11T11:44:31.327163Z",
     "shell.execute_reply": "2023-10-11T11:44:31.326710Z"
    }
   },
   "outputs": [],
   "source": [
    "anon.config.save_to_config_file('config.json')"
   ]
  },
  {
   "cell_type": "code",
   "execution_count": 10,
   "metadata": {
    "execution": {
     "iopub.execute_input": "2023-10-11T11:44:31.329750Z",
     "iopub.status.busy": "2023-10-11T11:44:31.329252Z",
     "iopub.status.idle": "2023-10-11T11:44:31.339250Z",
     "shell.execute_reply": "2023-10-11T11:44:31.338786Z"
    }
   },
   "outputs": [
    {
     "data": {
      "text/html": [
       "<div><style>\n",
       ".dataframe > thead > tr > th,\n",
       ".dataframe > tbody > tr > td {\n",
       "  text-align: right;\n",
       "  white-space: pre-wrap;\n",
       "}\n",
       "</style>\n",
       "<small>shape: (7, 7)</small><table border=\"1\" class=\"dataframe\"><thead><tr><th>filename</th><th>PREDICTOR_1</th><th>PREDICTOR_2</th><th>PREDICTOR_3</th><th>Context_Name</th><th>IH_Web_Inbound_Accepted_pxLastGroupID</th><th>Decision_Outcome</th></tr><tr><td>str</td><td>f64</td><td>str</td><td>str</td><td>str</td><td>str</td><td>str</td></tr></thead><tbody><tr><td>&quot;../../../../da…</td><td>1.2927e19</td><td>&quot;11783265533226…</td><td>&quot;56022105355865…</td><td>&quot;FirstMortgage3…</td><td>&quot;97309701193113…</td><td>&quot;Rejected&quot;</td></tr><tr><td>&quot;../../../../da…</td><td>1.4856e19</td><td>&quot;13948911682568…</td><td>&quot;11164975078659…</td><td>&quot;FirstMortgage3…</td><td>&quot;14162014216966…</td><td>&quot;Accepted&quot;</td></tr><tr><td>&quot;../../../../da…</td><td>5.6458e17</td><td>&quot;90673619185066…</td><td>&quot;37186626038496…</td><td>&quot;MoneyMarketSav…</td><td>&quot;97309701193113…</td><td>&quot;Rejected&quot;</td></tr><tr><td>&quot;../../../../da…</td><td>4.0723e18</td><td>&quot;58899022123778…</td><td>&quot;11164975078659…</td><td>&quot;BasicChecking&quot;</td><td>&quot;97309701193113…</td><td>&quot;Rejected&quot;</td></tr><tr><td>&quot;../../../../da…</td><td>1.4677e19</td><td>&quot;12210370061757…</td><td>&quot;56022105355865…</td><td>&quot;BasicChecking&quot;</td><td>&quot;59153038419005…</td><td>&quot;Accepted&quot;</td></tr><tr><td>&quot;../../../../da…</td><td>1.6330e19</td><td>&quot;18677580829725…</td><td>&quot;37186626038496…</td><td>&quot;UPlusFinPerson…</td><td>null</td><td>&quot;Rejected&quot;</td></tr><tr><td>&quot;../../../../da…</td><td>8.7675e18</td><td>&quot;18119638784188…</td><td>&quot;37186626038496…</td><td>&quot;BasicChecking&quot;</td><td>&quot;59153038419005…</td><td>&quot;Rejected&quot;</td></tr></tbody></table></div>"
      ],
      "text/plain": [
       "shape: (7, 7)\n",
       "┌──────────────┬─────────────┬─────────────┬─────────────┬─────────────┬─────────────┬─────────────┐\n",
       "│ filename     ┆ PREDICTOR_1 ┆ PREDICTOR_2 ┆ PREDICTOR_3 ┆ Context_Nam ┆ IH_Web_Inbo ┆ Decision_Ou │\n",
       "│ ---          ┆ ---         ┆ ---         ┆ ---         ┆ e           ┆ und_Accepte ┆ tcome       │\n",
       "│ str          ┆ f64         ┆ str         ┆ str         ┆ ---         ┆ d_pxLastGr… ┆ ---         │\n",
       "│              ┆             ┆             ┆             ┆ str         ┆ ---         ┆ str         │\n",
       "│              ┆             ┆             ┆             ┆             ┆ str         ┆             │\n",
       "╞══════════════╪═════════════╪═════════════╪═════════════╪═════════════╪═════════════╪═════════════╡\n",
       "│ ../../../../ ┆ 1.2927e19   ┆ 11783265533 ┆ 56022105355 ┆ FirstMortga ┆ 97309701193 ┆ Rejected    │\n",
       "│ data/SampleH ┆             ┆ 226689217   ┆ 86569412    ┆ ge30yr      ┆ 1134855     ┆             │\n",
       "│ DS.json      ┆             ┆             ┆             ┆             ┆             ┆             │\n",
       "│ ../../../../ ┆ 1.4856e19   ┆ 13948911682 ┆ 11164975078 ┆ FirstMortga ┆ 14162014216 ┆ Accepted    │\n",
       "│ data/SampleH ┆             ┆ 568948462   ┆ 659107550   ┆ ge30yr      ┆ 966485155   ┆             │\n",
       "│ DS.json      ┆             ┆             ┆             ┆             ┆             ┆             │\n",
       "│ ../../../../ ┆ 5.6458e17   ┆ 90673619185 ┆ 37186626038 ┆ MoneyMarket ┆ 97309701193 ┆ Rejected    │\n",
       "│ data/SampleH ┆             ┆ 06669977    ┆ 49684466    ┆ SavingsAcco ┆ 1134855     ┆             │\n",
       "│ DS.json      ┆             ┆             ┆             ┆ unt         ┆             ┆             │\n",
       "│ ../../../../ ┆ 4.0723e18   ┆ 58899022123 ┆ 11164975078 ┆ BasicChecki ┆ 97309701193 ┆ Rejected    │\n",
       "│ data/SampleH ┆             ┆ 77837687    ┆ 659107550   ┆ ng          ┆ 1134855     ┆             │\n",
       "│ DS.json      ┆             ┆             ┆             ┆             ┆             ┆             │\n",
       "│ ../../../../ ┆ 1.4677e19   ┆ 12210370061 ┆ 56022105355 ┆ BasicChecki ┆ 59153038419 ┆ Accepted    │\n",
       "│ data/SampleH ┆             ┆ 757029928   ┆ 86569412    ┆ ng          ┆ 00577983    ┆             │\n",
       "│ DS.json      ┆             ┆             ┆             ┆             ┆             ┆             │\n",
       "│ ../../../../ ┆ 1.6330e19   ┆ 18677580829 ┆ 37186626038 ┆ UPlusFinPer ┆ null        ┆ Rejected    │\n",
       "│ data/SampleH ┆             ┆ 72581333    ┆ 49684466    ┆ sonal       ┆             ┆             │\n",
       "│ DS.json      ┆             ┆             ┆             ┆             ┆             ┆             │\n",
       "│ ../../../../ ┆ 8.7675e18   ┆ 18119638784 ┆ 37186626038 ┆ BasicChecki ┆ 59153038419 ┆ Rejected    │\n",
       "│ data/SampleH ┆             ┆ 18822718    ┆ 49684466    ┆ ng          ┆ 00577983    ┆             │\n",
       "│ DS.json      ┆             ┆             ┆             ┆             ┆             ┆             │\n",
       "└──────────────┴─────────────┴─────────────┴─────────────┴─────────────┴─────────────┴─────────────┘"
      ]
     },
     "execution_count": 10,
     "metadata": {},
     "output_type": "execute_result"
    }
   ],
   "source": [
    "anon = DataAnonymization(config=Config(config_file='config.json'))\n",
    "anon.process()"
   ]
  },
  {
   "attachments": {},
   "cell_type": "markdown",
   "metadata": {},
   "source": [
    "## Exporting\n",
    "Two functions export:\n",
    "- `create_mapping_file()` writes the mapping file of the predictor names\n",
    "- `write_to_output()` writes the processed dataframe to disk\n",
    "\n",
    "Write to output accepts the following extensions: `[\"ndjson\", \"parquet\", \"arrow\", \"csv\"]`"
   ]
  },
  {
   "cell_type": "code",
   "execution_count": 11,
   "metadata": {
    "execution": {
     "iopub.execute_input": "2023-10-11T11:44:31.341604Z",
     "iopub.status.busy": "2023-10-11T11:44:31.341235Z",
     "iopub.status.idle": "2023-10-11T11:44:31.344778Z",
     "shell.execute_reply": "2023-10-11T11:44:31.344334Z"
    }
   },
   "outputs": [
    {
     "name": "stdout",
     "output_type": "stream",
     "text": [
      "filename=filename\n",
      "Customer_CLV=PREDICTOR_1\n",
      "Customer_City=PREDICTOR_2\n",
      "Customer_MaritalStatus=PREDICTOR_3\n",
      "Context_Name=Context_Name\n",
      "IH_Web_Inbound_Accepted_pxLastGroupID=IH_Web_Inbound_Accepted_pxLastGroupID\n",
      "Decision_Outcome=Decision_Outcome\n",
      "\n"
     ]
    }
   ],
   "source": [
    "anon.create_mapping_file()\n",
    "with open('mapping.map') as f:\n",
    "    print(f.read())"
   ]
  },
  {
   "cell_type": "code",
   "execution_count": 12,
   "metadata": {
    "execution": {
     "iopub.execute_input": "2023-10-11T11:44:31.346953Z",
     "iopub.status.busy": "2023-10-11T11:44:31.346602Z",
     "iopub.status.idle": "2023-10-11T11:44:31.350563Z",
     "shell.execute_reply": "2023-10-11T11:44:31.350013Z"
    }
   },
   "outputs": [],
   "source": [
    "anon.write_to_output(ext='arrow')"
   ]
  },
  {
   "cell_type": "code",
   "execution_count": 13,
   "metadata": {
    "execution": {
     "iopub.execute_input": "2023-10-11T11:44:31.352706Z",
     "iopub.status.busy": "2023-10-11T11:44:31.352520Z",
     "iopub.status.idle": "2023-10-11T11:44:31.357331Z",
     "shell.execute_reply": "2023-10-11T11:44:31.356760Z"
    }
   },
   "outputs": [
    {
     "data": {
      "text/html": [
       "<div><style>\n",
       ".dataframe > thead > tr > th,\n",
       ".dataframe > tbody > tr > td {\n",
       "  text-align: right;\n",
       "  white-space: pre-wrap;\n",
       "}\n",
       "</style>\n",
       "<small>shape: (7, 6)</small><table border=\"1\" class=\"dataframe\"><thead><tr><th>PREDICTOR_1</th><th>PREDICTOR_2</th><th>PREDICTOR_3</th><th>Context_Name</th><th>IH_Web_Inbound_Accepted_pxLastGroupID</th><th>Decision_Outcome</th></tr><tr><td>f64</td><td>str</td><td>str</td><td>str</td><td>str</td><td>str</td></tr></thead><tbody><tr><td>1.2927e19</td><td>&quot;29997154804696…</td><td>&quot;17691665586401…</td><td>&quot;FirstMortgage3…</td><td>&quot;14805960092797…</td><td>&quot;Rejected&quot;</td></tr><tr><td>1.4856e19</td><td>&quot;15280917167353…</td><td>&quot;39750281202880…</td><td>&quot;FirstMortgage3…</td><td>&quot;10843939289582…</td><td>&quot;Accepted&quot;</td></tr><tr><td>5.6458e17</td><td>&quot;97259935465254…</td><td>&quot;14943149091940…</td><td>&quot;MoneyMarketSav…</td><td>&quot;14805960092797…</td><td>&quot;Rejected&quot;</td></tr><tr><td>4.0723e18</td><td>&quot;62056626705874…</td><td>&quot;39750281202880…</td><td>&quot;BasicChecking&quot;</td><td>&quot;14805960092797…</td><td>&quot;Rejected&quot;</td></tr><tr><td>1.4677e19</td><td>&quot;66880383314006…</td><td>&quot;17691665586401…</td><td>&quot;BasicChecking&quot;</td><td>&quot;38931764541874…</td><td>&quot;Accepted&quot;</td></tr><tr><td>1.6330e19</td><td>&quot;15402556903725…</td><td>&quot;14943149091940…</td><td>&quot;UPlusFinPerson…</td><td>null</td><td>&quot;Rejected&quot;</td></tr><tr><td>8.7675e18</td><td>&quot;61745558259341…</td><td>&quot;14943149091940…</td><td>&quot;BasicChecking&quot;</td><td>&quot;38931764541874…</td><td>&quot;Rejected&quot;</td></tr></tbody></table></div>"
      ],
      "text/plain": [
       "shape: (7, 6)\n",
       "┌─────────────┬────────────────┬────────────────┬────────────────┬────────────────┬────────────────┐\n",
       "│ PREDICTOR_1 ┆ PREDICTOR_2    ┆ PREDICTOR_3    ┆ Context_Name   ┆ IH_Web_Inbound ┆ Decision_Outco │\n",
       "│ ---         ┆ ---            ┆ ---            ┆ ---            ┆ _Accepted_pxLa ┆ me             │\n",
       "│ f64         ┆ str            ┆ str            ┆ str            ┆ stGr…          ┆ ---            │\n",
       "│             ┆                ┆                ┆                ┆ ---            ┆ str            │\n",
       "│             ┆                ┆                ┆                ┆ str            ┆                │\n",
       "╞═════════════╪════════════════╪════════════════╪════════════════╪════════════════╪════════════════╡\n",
       "│ 1.2927e19   ┆ 29997154804696 ┆ 17691665586401 ┆ FirstMortgage3 ┆ 14805960092797 ┆ Rejected       │\n",
       "│             ┆ 08809          ┆ 956141         ┆ 0yr            ┆ 053706         ┆                │\n",
       "│ 1.4856e19   ┆ 15280917167353 ┆ 39750281202880 ┆ FirstMortgage3 ┆ 10843939289582 ┆ Accepted       │\n",
       "│             ┆ 369252         ┆ 3432           ┆ 0yr            ┆ 471377         ┆                │\n",
       "│ 5.6458e17   ┆ 97259935465254 ┆ 14943149091940 ┆ MoneyMarketSav ┆ 14805960092797 ┆ Rejected       │\n",
       "│             ┆ 22756          ┆ 642848         ┆ ingsAccount    ┆ 053706         ┆                │\n",
       "│ 4.0723e18   ┆ 62056626705874 ┆ 39750281202880 ┆ BasicChecking  ┆ 14805960092797 ┆ Rejected       │\n",
       "│             ┆ 01930          ┆ 3432           ┆                ┆ 053706         ┆                │\n",
       "│ 1.4677e19   ┆ 66880383314006 ┆ 17691665586401 ┆ BasicChecking  ┆ 38931764541874 ┆ Accepted       │\n",
       "│             ┆ 72716          ┆ 956141         ┆                ┆ 3845           ┆                │\n",
       "│ 1.6330e19   ┆ 15402556903725 ┆ 14943149091940 ┆ UPlusFinPerson ┆ null           ┆ Rejected       │\n",
       "│             ┆ 457246         ┆ 642848         ┆ al             ┆                ┆                │\n",
       "│ 8.7675e18   ┆ 61745558259341 ┆ 14943149091940 ┆ BasicChecking  ┆ 38931764541874 ┆ Rejected       │\n",
       "│             ┆ 95598          ┆ 642848         ┆                ┆ 3845           ┆                │\n",
       "└─────────────┴────────────────┴────────────────┴────────────────┴────────────────┴────────────────┘"
      ]
     },
     "execution_count": 13,
     "metadata": {},
     "output_type": "execute_result"
    }
   ],
   "source": [
    "pl.read_ipc('output/hds.arrow')"
   ]
  },
  {
   "attachments": {},
   "cell_type": "markdown",
   "metadata": {
    "nbsphinx": "hidden"
   },
   "source": [
    "## Advanced: Hash fuctions\n",
    "\n",
    "By default, we use [the same hashing algorithm Polars](https://pola-rs.github.io/polars/py-polars/html/reference/expressions/api/polars.Expr.hash.html#polars.Expr.hash) uses: [xxhash](https://github.com/Cyan4973/xxHash), as implemented [here](https://github.com/pola-rs/polars/blob/3f287f370b3c388ed2f3f218b2c096382548136f/polars/polars-core/src/vector_hasher.rs#L266). xxhash is fast to compute, and you can check its performance in collision, dispersion and randomness [here](https://github.com/Cyan4973/xxHash/tree/dev/tests). \n",
    "\n",
    "xxhash accepts four distinct seeds, but by default we set the seeds to `0`. It is possible to set the `seed` argument of the `process()` function to `'random'`, which will set all four seeds to a random integer between `0` and `1000000000`. Alternatively, it is possible to supply the four seeds manually with arguments `seed`, `seed_1`, `seed_2` and `seed_3`. \n",
    "\n",
    "If the xxhash with (random) seed(s) is not deemed sufficiently secure, it is possible to use your own hashing algorithm.\n",
    "\n",
    "Note that since we're now running python code and not native Polars code anymore, this will be _significantly_ slower. Nonetheless, it is possible.\n",
    "\n",
    "Just as an example - this is how one would use sha3_256:"
   ]
  },
  {
   "cell_type": "code",
   "execution_count": 14,
   "metadata": {
    "execution": {
     "iopub.execute_input": "2023-10-11T11:44:31.360291Z",
     "iopub.status.busy": "2023-10-11T11:44:31.360006Z",
     "iopub.status.idle": "2023-10-11T11:44:31.741866Z",
     "shell.execute_reply": "2023-10-11T11:44:31.741156Z"
    },
    "nbsphinx": "hidden"
   },
   "outputs": [
    {
     "ename": "ComputeError",
     "evalue": "AttributeError: 'int' object has no attribute 'encode'",
     "output_type": "error",
     "traceback": [
      "\u001b[0;31m---------------------------------------------------------------------------\u001b[0m",
      "\u001b[0;31mComputeError\u001b[0m                              Traceback (most recent call last)",
      "Cell \u001b[0;32mIn[14], line 3\u001b[0m\n\u001b[1;32m      1\u001b[0m \u001b[38;5;28;01mfrom\u001b[39;00m \u001b[38;5;21;01mhashlib\u001b[39;00m \u001b[38;5;28;01mimport\u001b[39;00m sha3_256\n\u001b[0;32m----> 3\u001b[0m \u001b[43manon\u001b[49m\u001b[38;5;241;43m.\u001b[39;49m\u001b[43mprocess\u001b[49m\u001b[43m(\u001b[49m\u001b[43malgorithm\u001b[49m\u001b[38;5;241;43m=\u001b[39;49m\u001b[38;5;28;43;01mlambda\u001b[39;49;00m\u001b[43m \u001b[49m\u001b[43mx\u001b[49m\u001b[43m:\u001b[49m\u001b[43m \u001b[49m\u001b[43msha3_256\u001b[49m\u001b[43m(\u001b[49m\u001b[43mx\u001b[49m\u001b[38;5;241;43m.\u001b[39;49m\u001b[43mencode\u001b[49m\u001b[43m(\u001b[49m\u001b[43m)\u001b[49m\u001b[43m)\u001b[49m\u001b[38;5;241;43m.\u001b[39;49m\u001b[43mhexdigest\u001b[49m\u001b[43m(\u001b[49m\u001b[43m)\u001b[49m\u001b[43m)\u001b[49m\n",
      "File \u001b[0;32m~/work/pega-datascientist-tools/pega-datascientist-tools/python/docs/source/articles/../../../pdstools/utils/hds_utils.py:516\u001b[0m, in \u001b[0;36mDataAnonymization.process\u001b[0;34m(self, strategy, **kwargs)\u001b[0m\n\u001b[1;32m    514\u001b[0m df \u001b[38;5;241m=\u001b[39m df\u001b[38;5;241m.\u001b[39mselect(\u001b[38;5;28mself\u001b[39m\u001b[38;5;241m.\u001b[39mcolumn_mapping\u001b[38;5;241m.\u001b[39mkeys())\u001b[38;5;241m.\u001b[39mrename(\u001b[38;5;28mself\u001b[39m\u001b[38;5;241m.\u001b[39mcolumn_mapping)\n\u001b[1;32m    515\u001b[0m \u001b[38;5;28;01mif\u001b[39;00m strategy \u001b[38;5;241m==\u001b[39m \u001b[38;5;124m\"\u001b[39m\u001b[38;5;124meager\u001b[39m\u001b[38;5;124m\"\u001b[39m:\n\u001b[0;32m--> 516\u001b[0m     \u001b[38;5;28;01mreturn\u001b[39;00m \u001b[43mdf\u001b[49m\u001b[38;5;241;43m.\u001b[39;49m\u001b[43mcollect\u001b[49m\u001b[43m(\u001b[49m\u001b[43m)\u001b[49m\n\u001b[1;32m    517\u001b[0m \u001b[38;5;28;01mreturn\u001b[39;00m df\n",
      "File \u001b[0;32m/opt/hostedtoolcache/Python/3.11.5/x64/lib/python3.11/site-packages/polars/utils/deprecation.py:95\u001b[0m, in \u001b[0;36mdeprecate_renamed_parameter.<locals>.decorate.<locals>.wrapper\u001b[0;34m(*args, **kwargs)\u001b[0m\n\u001b[1;32m     90\u001b[0m \u001b[38;5;129m@wraps\u001b[39m(function)\n\u001b[1;32m     91\u001b[0m \u001b[38;5;28;01mdef\u001b[39;00m \u001b[38;5;21mwrapper\u001b[39m(\u001b[38;5;241m*\u001b[39margs: P\u001b[38;5;241m.\u001b[39margs, \u001b[38;5;241m*\u001b[39m\u001b[38;5;241m*\u001b[39mkwargs: P\u001b[38;5;241m.\u001b[39mkwargs) \u001b[38;5;241m-\u001b[39m\u001b[38;5;241m>\u001b[39m T:\n\u001b[1;32m     92\u001b[0m     _rename_keyword_argument(\n\u001b[1;32m     93\u001b[0m         old_name, new_name, kwargs, function\u001b[38;5;241m.\u001b[39m\u001b[38;5;18m__name__\u001b[39m, version\n\u001b[1;32m     94\u001b[0m     )\n\u001b[0;32m---> 95\u001b[0m     \u001b[38;5;28;01mreturn\u001b[39;00m \u001b[43mfunction\u001b[49m\u001b[43m(\u001b[49m\u001b[38;5;241;43m*\u001b[39;49m\u001b[43margs\u001b[49m\u001b[43m,\u001b[49m\u001b[43m \u001b[49m\u001b[38;5;241;43m*\u001b[39;49m\u001b[38;5;241;43m*\u001b[39;49m\u001b[43mkwargs\u001b[49m\u001b[43m)\u001b[49m\n",
      "File \u001b[0;32m/opt/hostedtoolcache/Python/3.11.5/x64/lib/python3.11/site-packages/polars/lazyframe/frame.py:1711\u001b[0m, in \u001b[0;36mLazyFrame.collect\u001b[0;34m(self, type_coercion, predicate_pushdown, projection_pushdown, simplify_expression, no_optimization, slice_pushdown, comm_subplan_elim, comm_subexpr_elim, streaming, **kwargs)\u001b[0m\n\u001b[1;32m   1698\u001b[0m     comm_subplan_elim \u001b[38;5;241m=\u001b[39m \u001b[38;5;28;01mFalse\u001b[39;00m\n\u001b[1;32m   1700\u001b[0m ldf \u001b[38;5;241m=\u001b[39m \u001b[38;5;28mself\u001b[39m\u001b[38;5;241m.\u001b[39m_ldf\u001b[38;5;241m.\u001b[39moptimization_toggle(\n\u001b[1;32m   1701\u001b[0m     type_coercion,\n\u001b[1;32m   1702\u001b[0m     predicate_pushdown,\n\u001b[0;32m   (...)\u001b[0m\n\u001b[1;32m   1709\u001b[0m     eager,\n\u001b[1;32m   1710\u001b[0m )\n\u001b[0;32m-> 1711\u001b[0m \u001b[38;5;28;01mreturn\u001b[39;00m wrap_df(ldf\u001b[38;5;241m.\u001b[39mcollect())\n",
      "\u001b[0;31mComputeError\u001b[0m: AttributeError: 'int' object has no attribute 'encode'"
     ]
    }
   ],
   "source": [
    "from hashlib import sha3_256\n",
    "\n",
    "anon.process(algorithm=lambda x: sha3_256(x.encode()).hexdigest())"
   ]
  }
 ],
 "metadata": {
  "kernelspec": {
   "display_name": "Python 3",
   "language": "python",
   "name": "python3"
  },
  "language_info": {
   "codemirror_mode": {
    "name": "ipython",
    "version": 3
   },
   "file_extension": ".py",
   "mimetype": "text/x-python",
   "name": "python",
   "nbconvert_exporter": "python",
   "pygments_lexer": "ipython3",
   "version": "3.11.5"
  },
  "vscode": {
   "interpreter": {
    "hash": "aee8b7b246df8f9039afb4144a1f6fd8d2ca17a180786b69acc140d282b71a49"
   }
  }
 },
 "nbformat": 4,
 "nbformat_minor": 2
}
