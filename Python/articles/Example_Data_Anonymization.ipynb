{
 "cells": [
  {
   "attachments": {},
   "cell_type": "markdown",
   "metadata": {},
   "source": [
    "# Data Anonymization\n",
    "\n",
    "In Pega CDH 8.5 and up, it's now possible to record the historical data as seen by the Adaptive Models. See [this academy challenge](https://academy.pega.com/challenge/exporting-historical-data/v4) for reference. This historical data can be further used to experiment with offline models, but also to fine-tune the OOTB Gradient Boosting model. However, sharing this information with Pega can be sensitive as it contains raw predictor data. \n",
    "\n",
    "To this end, we provide a simple and transparent script to fully anonimize this dataset.\n",
    "\n",
    "The DataAnonymization script is now part of pdstools, and you can import it directly as such."
   ]
  },
  {
   "cell_type": "code",
   "execution_count": 1,
   "metadata": {
    "execution": {
     "iopub.execute_input": "2024-06-14T14:08:20.011895Z",
     "iopub.status.busy": "2024-06-14T14:08:20.011459Z",
     "iopub.status.idle": "2024-06-14T14:08:20.082078Z",
     "shell.execute_reply": "2024-06-14T14:08:20.081624Z"
    },
    "nbsphinx": "hidden"
   },
   "outputs": [],
   "source": [
    "# These lines are only for rendering in the docs, and are hidden through Jupyter tags\n",
    "# Do not run if you're running the notebook seperately\n",
    "\n",
    "import os  \n",
    "import sys\n",
    "import plotly.io as pio\n",
    "pio.renderers.default = \"notebook_connected\"\n",
    "\n",
    "sys.path.append(\"../../../\")\n",
    "sys.path.append('../../python')"
   ]
  },
  {
   "cell_type": "code",
   "execution_count": 2,
   "metadata": {
    "execution": {
     "iopub.execute_input": "2024-06-14T14:08:20.084511Z",
     "iopub.status.busy": "2024-06-14T14:08:20.084176Z",
     "iopub.status.idle": "2024-06-14T14:08:21.115853Z",
     "shell.execute_reply": "2024-06-14T14:08:21.115337Z"
    }
   },
   "outputs": [],
   "source": [
    "from pdstools import ADMDatamart\n",
    "from pdstools import Config, DataAnonymization\n",
    "import polars as pl"
   ]
  },
  {
   "attachments": {},
   "cell_type": "markdown",
   "metadata": {},
   "source": [
    "## Input data\n",
    "\n",
    "To demonstrate this process, we're going to anonymise this toy example dataframe:"
   ]
  },
  {
   "cell_type": "code",
   "execution_count": 3,
   "metadata": {
    "execution": {
     "iopub.execute_input": "2024-06-14T14:08:21.118493Z",
     "iopub.status.busy": "2024-06-14T14:08:21.118043Z",
     "iopub.status.idle": "2024-06-14T14:08:21.126624Z",
     "shell.execute_reply": "2024-06-14T14:08:21.126095Z"
    }
   },
   "outputs": [
    {
     "data": {
      "text/html": [
       "<div><style>\n",
       ".dataframe > thead > tr,\n",
       ".dataframe > tbody > tr {\n",
       "  text-align: right;\n",
       "  white-space: pre-wrap;\n",
       "}\n",
       "</style>\n",
       "<small>shape: (7, 6)</small><table border=\"1\" class=\"dataframe\"><thead><tr><th>Context_Name</th><th>Customer_MaritalStatus</th><th>Customer_CLV</th><th>Customer_City</th><th>IH_Web_Inbound_Accepted_pxLastGroupID</th><th>Decision_Outcome</th></tr><tr><td>str</td><td>str</td><td>i64</td><td>str</td><td>str</td><td>str</td></tr></thead><tbody><tr><td>&quot;FirstMortgage30yr&quot;</td><td>&quot;Married&quot;</td><td>1460</td><td>&quot;Port Raoul&quot;</td><td>&quot;Account&quot;</td><td>&quot;Rejected&quot;</td></tr><tr><td>&quot;FirstMortgage30yr&quot;</td><td>&quot;Unknown&quot;</td><td>669</td><td>&quot;Laurianneshire&quot;</td><td>&quot;AutoLoans&quot;</td><td>&quot;Accepted&quot;</td></tr><tr><td>&quot;MoneyMarketSavingsAccount&quot;</td><td>&quot;No Resp+&quot;</td><td>1174</td><td>&quot;Jacobshaven&quot;</td><td>&quot;Account&quot;</td><td>&quot;Rejected&quot;</td></tr><tr><td>&quot;BasicChecking&quot;</td><td>&quot;Unknown&quot;</td><td>1476</td><td>&quot;Lindton&quot;</td><td>&quot;Account&quot;</td><td>&quot;Rejected&quot;</td></tr><tr><td>&quot;BasicChecking&quot;</td><td>&quot;Married&quot;</td><td>1211</td><td>&quot;South Jimmieshire&quot;</td><td>&quot;DepositAccounts&quot;</td><td>&quot;Accepted&quot;</td></tr><tr><td>&quot;UPlusFinPersonal&quot;</td><td>&quot;No Resp+&quot;</td><td>533</td><td>&quot;Bergeville&quot;</td><td>null</td><td>&quot;Rejected&quot;</td></tr><tr><td>&quot;BasicChecking&quot;</td><td>&quot;No Resp+&quot;</td><td>555</td><td>&quot;Willyville&quot;</td><td>&quot;DepositAccounts&quot;</td><td>&quot;Rejected&quot;</td></tr></tbody></table></div>"
      ],
      "text/plain": [
       "shape: (7, 6)\n",
       "┌────────────────┬────────────────┬──────────────┬────────────────┬────────────────┬───────────────┐\n",
       "│ Context_Name   ┆ Customer_Marit ┆ Customer_CLV ┆ Customer_City  ┆ IH_Web_Inbound ┆ Decision_Outc │\n",
       "│ ---            ┆ alStatus       ┆ ---          ┆ ---            ┆ _Accepted_pxLa ┆ ome           │\n",
       "│ str            ┆ ---            ┆ i64          ┆ str            ┆ st…            ┆ ---           │\n",
       "│                ┆ str            ┆              ┆                ┆ ---            ┆ str           │\n",
       "│                ┆                ┆              ┆                ┆ str            ┆               │\n",
       "╞════════════════╪════════════════╪══════════════╪════════════════╪════════════════╪═══════════════╡\n",
       "│ FirstMortgage3 ┆ Married        ┆ 1460         ┆ Port Raoul     ┆ Account        ┆ Rejected      │\n",
       "│ 0yr            ┆                ┆              ┆                ┆                ┆               │\n",
       "│ FirstMortgage3 ┆ Unknown        ┆ 669          ┆ Laurianneshire ┆ AutoLoans      ┆ Accepted      │\n",
       "│ 0yr            ┆                ┆              ┆                ┆                ┆               │\n",
       "│ MoneyMarketSav ┆ No Resp+       ┆ 1174         ┆ Jacobshaven    ┆ Account        ┆ Rejected      │\n",
       "│ ingsAccount    ┆                ┆              ┆                ┆                ┆               │\n",
       "│ BasicChecking  ┆ Unknown        ┆ 1476         ┆ Lindton        ┆ Account        ┆ Rejected      │\n",
       "│ BasicChecking  ┆ Married        ┆ 1211         ┆ South          ┆ DepositAccount ┆ Accepted      │\n",
       "│                ┆                ┆              ┆ Jimmieshire    ┆ s              ┆               │\n",
       "│ UPlusFinPerson ┆ No Resp+       ┆ 533          ┆ Bergeville     ┆ null           ┆ Rejected      │\n",
       "│ al             ┆                ┆              ┆                ┆                ┆               │\n",
       "│ BasicChecking  ┆ No Resp+       ┆ 555          ┆ Willyville     ┆ DepositAccount ┆ Rejected      │\n",
       "│                ┆                ┆              ┆                ┆ s              ┆               │\n",
       "└────────────────┴────────────────┴──────────────┴────────────────┴────────────────┴───────────────┘"
      ]
     },
     "execution_count": 3,
     "metadata": {},
     "output_type": "execute_result"
    }
   ],
   "source": [
    "pl.read_ndjson('../../../../data/SampleHDS.json')"
   ]
  },
  {
   "attachments": {},
   "cell_type": "markdown",
   "metadata": {},
   "source": [
    "As you can see, this dataset consists of regular predictors, IH predictors, context keys and the outcome column. Additionally, some columns are numeric, others are strings. Let's first initialize the DataAnonymization class."
   ]
  },
  {
   "cell_type": "code",
   "execution_count": 4,
   "metadata": {
    "execution": {
     "iopub.execute_input": "2024-06-14T14:08:21.128940Z",
     "iopub.status.busy": "2024-06-14T14:08:21.128607Z",
     "iopub.status.idle": "2024-06-14T14:08:21.138064Z",
     "shell.execute_reply": "2024-06-14T14:08:21.137643Z"
    }
   },
   "outputs": [],
   "source": [
    "anon = DataAnonymization(hds_folder='../../../../data/')"
   ]
  },
  {
   "attachments": {},
   "cell_type": "markdown",
   "metadata": {},
   "source": [
    "By default, the class applies a set of anonymisation techniques:\n",
    "- Column names are remapped to a non-descriptive name\n",
    "- Categorical values are hashed with a random seed\n",
    "- Numerical values are normalized between 0 and 1\n",
    "- Outcomes are mapped to a binary outcome.\n",
    "\n",
    "To apply these techniques, simply call `.process()`:"
   ]
  },
  {
   "cell_type": "code",
   "execution_count": 5,
   "metadata": {
    "execution": {
     "iopub.execute_input": "2024-06-14T14:08:21.140272Z",
     "iopub.status.busy": "2024-06-14T14:08:21.139840Z",
     "iopub.status.idle": "2024-06-14T14:08:21.145337Z",
     "shell.execute_reply": "2024-06-14T14:08:21.144804Z"
    }
   },
   "outputs": [
    {
     "data": {
      "text/html": [
       "<div><style>\n",
       ".dataframe > thead > tr,\n",
       ".dataframe > tbody > tr {\n",
       "  text-align: right;\n",
       "  white-space: pre-wrap;\n",
       "}\n",
       "</style>\n",
       "<small>shape: (7, 7)</small><table border=\"1\" class=\"dataframe\"><thead><tr><th>PREDICTOR_0</th><th>PREDICTOR_1</th><th>filename</th><th>PREDICTOR_3</th><th>Context_Name</th><th>IH_PREDICTOR_0</th><th>Decision_Outcome</th></tr><tr><td>f64</td><td>str</td><td>str</td><td>str</td><td>str</td><td>str</td><td>bool</td></tr></thead><tbody><tr><td>3.9172e17</td><td>&quot;409976367371330704&quot;</td><td>&quot;../../../../data/SampleHDS.jso…</td><td>&quot;16140487010276616868&quot;</td><td>&quot;7602958664075868333&quot;</td><td>&quot;7103865483712133782&quot;</td><td>false</td></tr><tr><td>1.2175e19</td><td>&quot;11257802366543574485&quot;</td><td>&quot;../../../../data/SampleHDS.jso…</td><td>&quot;12200476650473293865&quot;</td><td>&quot;7602958664075868333&quot;</td><td>&quot;2037530117245275542&quot;</td><td>true</td></tr><tr><td>1.6241e19</td><td>&quot;6624936581383903775&quot;</td><td>&quot;../../../../data/SampleHDS.jso…</td><td>&quot;4996001417216770133&quot;</td><td>&quot;5137906438115743641&quot;</td><td>&quot;7103865483712133782&quot;</td><td>false</td></tr><tr><td>3.3591e18</td><td>&quot;11257802366543574485&quot;</td><td>&quot;../../../../data/SampleHDS.jso…</td><td>&quot;5668877670830418731&quot;</td><td>&quot;12848241752633552706&quot;</td><td>&quot;7103865483712133782&quot;</td><td>false</td></tr><tr><td>1.4307e19</td><td>&quot;409976367371330704&quot;</td><td>&quot;../../../../data/SampleHDS.jso…</td><td>&quot;6751794937911424182&quot;</td><td>&quot;12848241752633552706&quot;</td><td>&quot;260736542130782807&quot;</td><td>true</td></tr><tr><td>2.4596e18</td><td>&quot;6624936581383903775&quot;</td><td>&quot;../../../../data/SampleHDS.jso…</td><td>&quot;1226055995641522485&quot;</td><td>&quot;4518339848689972113&quot;</td><td>null</td><td>false</td></tr><tr><td>7.7115e16</td><td>&quot;6624936581383903775&quot;</td><td>&quot;../../../../data/SampleHDS.jso…</td><td>&quot;11585398652325949317&quot;</td><td>&quot;12848241752633552706&quot;</td><td>&quot;260736542130782807&quot;</td><td>false</td></tr></tbody></table></div>"
      ],
      "text/plain": [
       "shape: (7, 7)\n",
       "┌─────────────┬──────────────┬─────────────┬─────────────┬─────────────┬─────────────┬─────────────┐\n",
       "│ PREDICTOR_0 ┆ PREDICTOR_1  ┆ filename    ┆ PREDICTOR_3 ┆ Context_Nam ┆ IH_PREDICTO ┆ Decision_Ou │\n",
       "│ ---         ┆ ---          ┆ ---         ┆ ---         ┆ e           ┆ R_0         ┆ tcome       │\n",
       "│ f64         ┆ str          ┆ str         ┆ str         ┆ ---         ┆ ---         ┆ ---         │\n",
       "│             ┆              ┆             ┆             ┆ str         ┆ str         ┆ bool        │\n",
       "╞═════════════╪══════════════╪═════════════╪═════════════╪═════════════╪═════════════╪═════════════╡\n",
       "│ 3.9172e17   ┆ 409976367371 ┆ ../../../.. ┆ 16140487010 ┆ 76029586640 ┆ 71038654837 ┆ false       │\n",
       "│             ┆ 330704       ┆ /data/Sampl ┆ 276616868   ┆ 75868333    ┆ 12133782    ┆             │\n",
       "│             ┆              ┆ eHDS.jso…   ┆             ┆             ┆             ┆             │\n",
       "│ 1.2175e19   ┆ 112578023665 ┆ ../../../.. ┆ 12200476650 ┆ 76029586640 ┆ 20375301172 ┆ true        │\n",
       "│             ┆ 43574485     ┆ /data/Sampl ┆ 473293865   ┆ 75868333    ┆ 45275542    ┆             │\n",
       "│             ┆              ┆ eHDS.jso…   ┆             ┆             ┆             ┆             │\n",
       "│ 1.6241e19   ┆ 662493658138 ┆ ../../../.. ┆ 49960014172 ┆ 51379064381 ┆ 71038654837 ┆ false       │\n",
       "│             ┆ 3903775      ┆ /data/Sampl ┆ 16770133    ┆ 15743641    ┆ 12133782    ┆             │\n",
       "│             ┆              ┆ eHDS.jso…   ┆             ┆             ┆             ┆             │\n",
       "│ 3.3591e18   ┆ 112578023665 ┆ ../../../.. ┆ 56688776708 ┆ 12848241752 ┆ 71038654837 ┆ false       │\n",
       "│             ┆ 43574485     ┆ /data/Sampl ┆ 30418731    ┆ 633552706   ┆ 12133782    ┆             │\n",
       "│             ┆              ┆ eHDS.jso…   ┆             ┆             ┆             ┆             │\n",
       "│ 1.4307e19   ┆ 409976367371 ┆ ../../../.. ┆ 67517949379 ┆ 12848241752 ┆ 26073654213 ┆ true        │\n",
       "│             ┆ 330704       ┆ /data/Sampl ┆ 11424182    ┆ 633552706   ┆ 0782807     ┆             │\n",
       "│             ┆              ┆ eHDS.jso…   ┆             ┆             ┆             ┆             │\n",
       "│ 2.4596e18   ┆ 662493658138 ┆ ../../../.. ┆ 12260559956 ┆ 45183398486 ┆ null        ┆ false       │\n",
       "│             ┆ 3903775      ┆ /data/Sampl ┆ 41522485    ┆ 89972113    ┆             ┆             │\n",
       "│             ┆              ┆ eHDS.jso…   ┆             ┆             ┆             ┆             │\n",
       "│ 7.7115e16   ┆ 662493658138 ┆ ../../../.. ┆ 11585398652 ┆ 12848241752 ┆ 26073654213 ┆ false       │\n",
       "│             ┆ 3903775      ┆ /data/Sampl ┆ 325949317   ┆ 633552706   ┆ 0782807     ┆             │\n",
       "│             ┆              ┆ eHDS.jso…   ┆             ┆             ┆             ┆             │\n",
       "└─────────────┴──────────────┴─────────────┴─────────────┴─────────────┴─────────────┴─────────────┘"
      ]
     },
     "execution_count": 5,
     "metadata": {},
     "output_type": "execute_result"
    }
   ],
   "source": [
    "anon.process()"
   ]
  },
  {
   "attachments": {},
   "cell_type": "markdown",
   "metadata": {},
   "source": [
    "To trace back the columns to their original names, the class also contains a mapping, which does not have to be provided."
   ]
  },
  {
   "cell_type": "code",
   "execution_count": 6,
   "metadata": {
    "execution": {
     "iopub.execute_input": "2024-06-14T14:08:21.147291Z",
     "iopub.status.busy": "2024-06-14T14:08:21.146993Z",
     "iopub.status.idle": "2024-06-14T14:08:21.151709Z",
     "shell.execute_reply": "2024-06-14T14:08:21.151192Z"
    }
   },
   "outputs": [
    {
     "data": {
      "text/plain": [
       "{'Customer_CLV': 'PREDICTOR_0',\n",
       " 'Customer_MaritalStatus': 'PREDICTOR_1',\n",
       " 'filename': 'filename',\n",
       " 'Customer_City': 'PREDICTOR_3',\n",
       " 'Context_Name': 'Context_Name',\n",
       " 'IH_Web_Inbound_Accepted_pxLastGroupID': 'IH_PREDICTOR_0',\n",
       " 'Decision_Outcome': 'Decision_Outcome'}"
      ]
     },
     "execution_count": 6,
     "metadata": {},
     "output_type": "execute_result"
    }
   ],
   "source": [
    "anon.column_mapping"
   ]
  },
  {
   "attachments": {},
   "cell_type": "markdown",
   "metadata": {},
   "source": [
    "## Configs\n",
    "\n",
    "Each capability can optionally be turned off - see below for the full list of config options, and refer to the API reference for the full description."
   ]
  },
  {
   "cell_type": "code",
   "execution_count": 7,
   "metadata": {
    "execution": {
     "iopub.execute_input": "2024-06-14T14:08:21.153696Z",
     "iopub.status.busy": "2024-06-14T14:08:21.153387Z",
     "iopub.status.idle": "2024-06-14T14:08:21.157658Z",
     "shell.execute_reply": "2024-06-14T14:08:21.157220Z"
    }
   },
   "outputs": [
    {
     "data": {
      "text/plain": [
       "{'config_file': None,\n",
       " 'hds_folder': '.',\n",
       " 'use_datamart': False,\n",
       " 'datamart_folder': 'datamart',\n",
       " 'output_format': 'ndjson',\n",
       " 'output_folder': 'output',\n",
       " 'mapping_file': 'mapping.map',\n",
       " 'mask_predictor_names': True,\n",
       " 'mask_context_key_names': False,\n",
       " 'mask_ih_names': True,\n",
       " 'mask_outcome_name': False,\n",
       " 'mask_predictor_values': True,\n",
       " 'mask_context_key_values': True,\n",
       " 'mask_ih_values': True,\n",
       " 'mask_outcome_values': True,\n",
       " 'context_key_label': 'Context_*',\n",
       " 'ih_label': 'IH_*',\n",
       " 'outcome_column': 'Decision_Outcome',\n",
       " 'positive_outcomes': ['Accepted', 'Clicked'],\n",
       " 'negative_outcomes': ['Rejected', 'Impression'],\n",
       " 'special_predictors': ['Decision_DecisionTime',\n",
       "  'Decision_OutcomeTime',\n",
       "  'Decision_Rank'],\n",
       " 'sample_percentage_schema_inferencing': 0.01}"
      ]
     },
     "execution_count": 7,
     "metadata": {},
     "output_type": "execute_result"
    }
   ],
   "source": [
    "dict(zip(Config.__init__.__code__.co_varnames[1:], Config.__init__.__defaults__))"
   ]
  },
  {
   "attachments": {},
   "cell_type": "markdown",
   "metadata": {},
   "source": [
    "It's easy to change these parameters by just passing the keyword arguments. In the following example, we\n",
    "- Keep the IH predictor names\n",
    "- Keep the outcome values\n",
    "- Keep the context key values\n",
    "- Keep the context key predictor names"
   ]
  },
  {
   "cell_type": "code",
   "execution_count": 8,
   "metadata": {
    "execution": {
     "iopub.execute_input": "2024-06-14T14:08:21.159637Z",
     "iopub.status.busy": "2024-06-14T14:08:21.159320Z",
     "iopub.status.idle": "2024-06-14T14:08:21.167108Z",
     "shell.execute_reply": "2024-06-14T14:08:21.166645Z"
    }
   },
   "outputs": [
    {
     "data": {
      "text/html": [
       "<div><style>\n",
       ".dataframe > thead > tr,\n",
       ".dataframe > tbody > tr {\n",
       "  text-align: right;\n",
       "  white-space: pre-wrap;\n",
       "}\n",
       "</style>\n",
       "<small>shape: (7, 7)</small><table border=\"1\" class=\"dataframe\"><thead><tr><th>PREDICTOR_0</th><th>PREDICTOR_1</th><th>filename</th><th>PREDICTOR_3</th><th>Context_Name</th><th>IH_Web_Inbound_Accepted_pxLastGroupID</th><th>Decision_Outcome</th></tr><tr><td>f64</td><td>str</td><td>str</td><td>str</td><td>str</td><td>str</td><td>str</td></tr></thead><tbody><tr><td>1.3657e18</td><td>&quot;12732749183414739901&quot;</td><td>&quot;../../../../data/SampleHDS.jso…</td><td>&quot;4752058102665284145&quot;</td><td>&quot;FirstMortgage30yr&quot;</td><td>&quot;4487901229594076709&quot;</td><td>&quot;Rejected&quot;</td></tr><tr><td>1.1891e19</td><td>&quot;8866041553733105550&quot;</td><td>&quot;../../../../data/SampleHDS.jso…</td><td>&quot;2291194945724959657&quot;</td><td>&quot;FirstMortgage30yr&quot;</td><td>&quot;17021559744653070236&quot;</td><td>&quot;Accepted&quot;</td></tr><tr><td>9.5426e17</td><td>&quot;17229910470229083885&quot;</td><td>&quot;../../../../data/SampleHDS.jso…</td><td>&quot;3811096329090661384&quot;</td><td>&quot;MoneyMarketSavingsAccount&quot;</td><td>&quot;4487901229594076709&quot;</td><td>&quot;Rejected&quot;</td></tr><tr><td>8.3649e18</td><td>&quot;8866041553733105550&quot;</td><td>&quot;../../../../data/SampleHDS.jso…</td><td>&quot;3241554837754797857&quot;</td><td>&quot;BasicChecking&quot;</td><td>&quot;4487901229594076709&quot;</td><td>&quot;Rejected&quot;</td></tr><tr><td>1.4053e19</td><td>&quot;12732749183414739901&quot;</td><td>&quot;../../../../data/SampleHDS.jso…</td><td>&quot;10650316272041535014&quot;</td><td>&quot;BasicChecking&quot;</td><td>&quot;18172795986709107798&quot;</td><td>&quot;Accepted&quot;</td></tr><tr><td>1.2769e19</td><td>&quot;17229910470229083885&quot;</td><td>&quot;../../../../data/SampleHDS.jso…</td><td>&quot;11963594887695444746&quot;</td><td>&quot;UPlusFinPersonal&quot;</td><td>null</td><td>&quot;Rejected&quot;</td></tr><tr><td>4.3752e18</td><td>&quot;17229910470229083885&quot;</td><td>&quot;../../../../data/SampleHDS.jso…</td><td>&quot;4519237799014449750&quot;</td><td>&quot;BasicChecking&quot;</td><td>&quot;18172795986709107798&quot;</td><td>&quot;Rejected&quot;</td></tr></tbody></table></div>"
      ],
      "text/plain": [
       "shape: (7, 7)\n",
       "┌─────────────┬──────────────┬─────────────┬─────────────┬─────────────┬─────────────┬─────────────┐\n",
       "│ PREDICTOR_0 ┆ PREDICTOR_1  ┆ filename    ┆ PREDICTOR_3 ┆ Context_Nam ┆ IH_Web_Inbo ┆ Decision_Ou │\n",
       "│ ---         ┆ ---          ┆ ---         ┆ ---         ┆ e           ┆ und_Accepte ┆ tcome       │\n",
       "│ f64         ┆ str          ┆ str         ┆ str         ┆ ---         ┆ d_pxLast…   ┆ ---         │\n",
       "│             ┆              ┆             ┆             ┆ str         ┆ ---         ┆ str         │\n",
       "│             ┆              ┆             ┆             ┆             ┆ str         ┆             │\n",
       "╞═════════════╪══════════════╪═════════════╪═════════════╪═════════════╪═════════════╪═════════════╡\n",
       "│ 1.3657e18   ┆ 127327491834 ┆ ../../../.. ┆ 47520581026 ┆ FirstMortga ┆ 44879012295 ┆ Rejected    │\n",
       "│             ┆ 14739901     ┆ /data/Sampl ┆ 65284145    ┆ ge30yr      ┆ 94076709    ┆             │\n",
       "│             ┆              ┆ eHDS.jso…   ┆             ┆             ┆             ┆             │\n",
       "│ 1.1891e19   ┆ 886604155373 ┆ ../../../.. ┆ 22911949457 ┆ FirstMortga ┆ 17021559744 ┆ Accepted    │\n",
       "│             ┆ 3105550      ┆ /data/Sampl ┆ 24959657    ┆ ge30yr      ┆ 653070236   ┆             │\n",
       "│             ┆              ┆ eHDS.jso…   ┆             ┆             ┆             ┆             │\n",
       "│ 9.5426e17   ┆ 172299104702 ┆ ../../../.. ┆ 38110963290 ┆ MoneyMarket ┆ 44879012295 ┆ Rejected    │\n",
       "│             ┆ 29083885     ┆ /data/Sampl ┆ 90661384    ┆ SavingsAcco ┆ 94076709    ┆             │\n",
       "│             ┆              ┆ eHDS.jso…   ┆             ┆ unt         ┆             ┆             │\n",
       "│ 8.3649e18   ┆ 886604155373 ┆ ../../../.. ┆ 32415548377 ┆ BasicChecki ┆ 44879012295 ┆ Rejected    │\n",
       "│             ┆ 3105550      ┆ /data/Sampl ┆ 54797857    ┆ ng          ┆ 94076709    ┆             │\n",
       "│             ┆              ┆ eHDS.jso…   ┆             ┆             ┆             ┆             │\n",
       "│ 1.4053e19   ┆ 127327491834 ┆ ../../../.. ┆ 10650316272 ┆ BasicChecki ┆ 18172795986 ┆ Accepted    │\n",
       "│             ┆ 14739901     ┆ /data/Sampl ┆ 041535014   ┆ ng          ┆ 709107798   ┆             │\n",
       "│             ┆              ┆ eHDS.jso…   ┆             ┆             ┆             ┆             │\n",
       "│ 1.2769e19   ┆ 172299104702 ┆ ../../../.. ┆ 11963594887 ┆ UPlusFinPer ┆ null        ┆ Rejected    │\n",
       "│             ┆ 29083885     ┆ /data/Sampl ┆ 695444746   ┆ sonal       ┆             ┆             │\n",
       "│             ┆              ┆ eHDS.jso…   ┆             ┆             ┆             ┆             │\n",
       "│ 4.3752e18   ┆ 172299104702 ┆ ../../../.. ┆ 45192377990 ┆ BasicChecki ┆ 18172795986 ┆ Rejected    │\n",
       "│             ┆ 29083885     ┆ /data/Sampl ┆ 14449750    ┆ ng          ┆ 709107798   ┆             │\n",
       "│             ┆              ┆ eHDS.jso…   ┆             ┆             ┆             ┆             │\n",
       "└─────────────┴──────────────┴─────────────┴─────────────┴─────────────┴─────────────┴─────────────┘"
      ]
     },
     "execution_count": 8,
     "metadata": {},
     "output_type": "execute_result"
    }
   ],
   "source": [
    "anon = DataAnonymization(\n",
    "    hds_folder=\"../../../../data/\",\n",
    "    mask_ih_names=False,\n",
    "    mask_outcome_values=False,\n",
    "    mask_context_key_values=False,\n",
    "    mask_context_key_names=False,\n",
    ")\n",
    "anon.process()\n"
   ]
  },
  {
   "attachments": {},
   "cell_type": "markdown",
   "metadata": {},
   "source": [
    "The configs can also be written and read as such:"
   ]
  },
  {
   "cell_type": "code",
   "execution_count": 9,
   "metadata": {
    "execution": {
     "iopub.execute_input": "2024-06-14T14:08:21.169126Z",
     "iopub.status.busy": "2024-06-14T14:08:21.168819Z",
     "iopub.status.idle": "2024-06-14T14:08:21.171684Z",
     "shell.execute_reply": "2024-06-14T14:08:21.171239Z"
    }
   },
   "outputs": [],
   "source": [
    "anon.config.save_to_config_file('config.json')"
   ]
  },
  {
   "cell_type": "code",
   "execution_count": 10,
   "metadata": {
    "execution": {
     "iopub.execute_input": "2024-06-14T14:08:21.173418Z",
     "iopub.status.busy": "2024-06-14T14:08:21.173267Z",
     "iopub.status.idle": "2024-06-14T14:08:21.180650Z",
     "shell.execute_reply": "2024-06-14T14:08:21.180177Z"
    }
   },
   "outputs": [
    {
     "data": {
      "text/html": [
       "<div><style>\n",
       ".dataframe > thead > tr,\n",
       ".dataframe > tbody > tr {\n",
       "  text-align: right;\n",
       "  white-space: pre-wrap;\n",
       "}\n",
       "</style>\n",
       "<small>shape: (7, 7)</small><table border=\"1\" class=\"dataframe\"><thead><tr><th>PREDICTOR_0</th><th>PREDICTOR_1</th><th>filename</th><th>PREDICTOR_3</th><th>Context_Name</th><th>IH_Web_Inbound_Accepted_pxLastGroupID</th><th>Decision_Outcome</th></tr><tr><td>f64</td><td>str</td><td>str</td><td>str</td><td>str</td><td>str</td><td>str</td></tr></thead><tbody><tr><td>5.6312e18</td><td>&quot;12965950700854461028&quot;</td><td>&quot;../../../../data/SampleHDS.jso…</td><td>&quot;10019368320494160317&quot;</td><td>&quot;FirstMortgage30yr&quot;</td><td>&quot;9938380867965606470&quot;</td><td>&quot;Rejected&quot;</td></tr><tr><td>1.5045e19</td><td>&quot;8805169364686869144&quot;</td><td>&quot;../../../../data/SampleHDS.jso…</td><td>&quot;8338853481069487416&quot;</td><td>&quot;FirstMortgage30yr&quot;</td><td>&quot;15787872950428691312&quot;</td><td>&quot;Accepted&quot;</td></tr><tr><td>8.4990e17</td><td>&quot;4792610448778148838&quot;</td><td>&quot;../../../../data/SampleHDS.jso…</td><td>&quot;16571252424209782510&quot;</td><td>&quot;MoneyMarketSavingsAccount&quot;</td><td>&quot;9938380867965606470&quot;</td><td>&quot;Rejected&quot;</td></tr><tr><td>1.2769e18</td><td>&quot;8805169364686869144&quot;</td><td>&quot;../../../../data/SampleHDS.jso…</td><td>&quot;6261726470952290473&quot;</td><td>&quot;BasicChecking&quot;</td><td>&quot;9938380867965606470&quot;</td><td>&quot;Rejected&quot;</td></tr><tr><td>1.6616e19</td><td>&quot;12965950700854461028&quot;</td><td>&quot;../../../../data/SampleHDS.jso…</td><td>&quot;13670519945947685645&quot;</td><td>&quot;BasicChecking&quot;</td><td>&quot;2016705285168736516&quot;</td><td>&quot;Accepted&quot;</td></tr><tr><td>8.3926e17</td><td>&quot;4792610448778148838&quot;</td><td>&quot;../../../../data/SampleHDS.jso…</td><td>&quot;17295786374092709127&quot;</td><td>&quot;UPlusFinPersonal&quot;</td><td>null</td><td>&quot;Rejected&quot;</td></tr><tr><td>1.7525e19</td><td>&quot;4792610448778148838&quot;</td><td>&quot;../../../../data/SampleHDS.jso…</td><td>&quot;14813960858206363483&quot;</td><td>&quot;BasicChecking&quot;</td><td>&quot;2016705285168736516&quot;</td><td>&quot;Rejected&quot;</td></tr></tbody></table></div>"
      ],
      "text/plain": [
       "shape: (7, 7)\n",
       "┌─────────────┬──────────────┬─────────────┬─────────────┬─────────────┬─────────────┬─────────────┐\n",
       "│ PREDICTOR_0 ┆ PREDICTOR_1  ┆ filename    ┆ PREDICTOR_3 ┆ Context_Nam ┆ IH_Web_Inbo ┆ Decision_Ou │\n",
       "│ ---         ┆ ---          ┆ ---         ┆ ---         ┆ e           ┆ und_Accepte ┆ tcome       │\n",
       "│ f64         ┆ str          ┆ str         ┆ str         ┆ ---         ┆ d_pxLast…   ┆ ---         │\n",
       "│             ┆              ┆             ┆             ┆ str         ┆ ---         ┆ str         │\n",
       "│             ┆              ┆             ┆             ┆             ┆ str         ┆             │\n",
       "╞═════════════╪══════════════╪═════════════╪═════════════╪═════════════╪═════════════╪═════════════╡\n",
       "│ 5.6312e18   ┆ 129659507008 ┆ ../../../.. ┆ 10019368320 ┆ FirstMortga ┆ 99383808679 ┆ Rejected    │\n",
       "│             ┆ 54461028     ┆ /data/Sampl ┆ 494160317   ┆ ge30yr      ┆ 65606470    ┆             │\n",
       "│             ┆              ┆ eHDS.jso…   ┆             ┆             ┆             ┆             │\n",
       "│ 1.5045e19   ┆ 880516936468 ┆ ../../../.. ┆ 83388534810 ┆ FirstMortga ┆ 15787872950 ┆ Accepted    │\n",
       "│             ┆ 6869144      ┆ /data/Sampl ┆ 69487416    ┆ ge30yr      ┆ 428691312   ┆             │\n",
       "│             ┆              ┆ eHDS.jso…   ┆             ┆             ┆             ┆             │\n",
       "│ 8.4990e17   ┆ 479261044877 ┆ ../../../.. ┆ 16571252424 ┆ MoneyMarket ┆ 99383808679 ┆ Rejected    │\n",
       "│             ┆ 8148838      ┆ /data/Sampl ┆ 209782510   ┆ SavingsAcco ┆ 65606470    ┆             │\n",
       "│             ┆              ┆ eHDS.jso…   ┆             ┆ unt         ┆             ┆             │\n",
       "│ 1.2769e18   ┆ 880516936468 ┆ ../../../.. ┆ 62617264709 ┆ BasicChecki ┆ 99383808679 ┆ Rejected    │\n",
       "│             ┆ 6869144      ┆ /data/Sampl ┆ 52290473    ┆ ng          ┆ 65606470    ┆             │\n",
       "│             ┆              ┆ eHDS.jso…   ┆             ┆             ┆             ┆             │\n",
       "│ 1.6616e19   ┆ 129659507008 ┆ ../../../.. ┆ 13670519945 ┆ BasicChecki ┆ 20167052851 ┆ Accepted    │\n",
       "│             ┆ 54461028     ┆ /data/Sampl ┆ 947685645   ┆ ng          ┆ 68736516    ┆             │\n",
       "│             ┆              ┆ eHDS.jso…   ┆             ┆             ┆             ┆             │\n",
       "│ 8.3926e17   ┆ 479261044877 ┆ ../../../.. ┆ 17295786374 ┆ UPlusFinPer ┆ null        ┆ Rejected    │\n",
       "│             ┆ 8148838      ┆ /data/Sampl ┆ 092709127   ┆ sonal       ┆             ┆             │\n",
       "│             ┆              ┆ eHDS.jso…   ┆             ┆             ┆             ┆             │\n",
       "│ 1.7525e19   ┆ 479261044877 ┆ ../../../.. ┆ 14813960858 ┆ BasicChecki ┆ 20167052851 ┆ Rejected    │\n",
       "│             ┆ 8148838      ┆ /data/Sampl ┆ 206363483   ┆ ng          ┆ 68736516    ┆             │\n",
       "│             ┆              ┆ eHDS.jso…   ┆             ┆             ┆             ┆             │\n",
       "└─────────────┴──────────────┴─────────────┴─────────────┴─────────────┴─────────────┴─────────────┘"
      ]
     },
     "execution_count": 10,
     "metadata": {},
     "output_type": "execute_result"
    }
   ],
   "source": [
    "anon = DataAnonymization(config=Config(config_file='config.json'))\n",
    "anon.process()"
   ]
  },
  {
   "attachments": {},
   "cell_type": "markdown",
   "metadata": {},
   "source": [
    "## Exporting\n",
    "Two functions export:\n",
    "- `create_mapping_file()` writes the mapping file of the predictor names\n",
    "- `write_to_output()` writes the processed dataframe to disk\n",
    "\n",
    "Write to output accepts the following extensions: `[\"ndjson\", \"parquet\", \"arrow\", \"csv\"]`"
   ]
  },
  {
   "cell_type": "code",
   "execution_count": 11,
   "metadata": {
    "execution": {
     "iopub.execute_input": "2024-06-14T14:08:21.182720Z",
     "iopub.status.busy": "2024-06-14T14:08:21.182392Z",
     "iopub.status.idle": "2024-06-14T14:08:21.185908Z",
     "shell.execute_reply": "2024-06-14T14:08:21.185457Z"
    }
   },
   "outputs": [
    {
     "name": "stdout",
     "output_type": "stream",
     "text": [
      "Customer_CLV=PREDICTOR_0\n",
      "Customer_MaritalStatus=PREDICTOR_1\n",
      "filename=filename\n",
      "Customer_City=PREDICTOR_3\n",
      "Context_Name=Context_Name\n",
      "IH_Web_Inbound_Accepted_pxLastGroupID=IH_Web_Inbound_Accepted_pxLastGroupID\n",
      "Decision_Outcome=Decision_Outcome\n",
      "\n"
     ]
    }
   ],
   "source": [
    "anon.create_mapping_file()\n",
    "with open('mapping.map') as f:\n",
    "    print(f.read())"
   ]
  },
  {
   "cell_type": "code",
   "execution_count": 12,
   "metadata": {
    "execution": {
     "iopub.execute_input": "2024-06-14T14:08:21.187921Z",
     "iopub.status.busy": "2024-06-14T14:08:21.187586Z",
     "iopub.status.idle": "2024-06-14T14:08:21.191066Z",
     "shell.execute_reply": "2024-06-14T14:08:21.190546Z"
    }
   },
   "outputs": [],
   "source": [
    "anon.write_to_output(ext='arrow')"
   ]
  },
  {
   "cell_type": "code",
   "execution_count": 13,
   "metadata": {
    "execution": {
     "iopub.execute_input": "2024-06-14T14:08:21.193008Z",
     "iopub.status.busy": "2024-06-14T14:08:21.192687Z",
     "iopub.status.idle": "2024-06-14T14:08:21.196922Z",
     "shell.execute_reply": "2024-06-14T14:08:21.196504Z"
    }
   },
   "outputs": [
    {
     "data": {
      "text/html": [
       "<div><style>\n",
       ".dataframe > thead > tr,\n",
       ".dataframe > tbody > tr {\n",
       "  text-align: right;\n",
       "  white-space: pre-wrap;\n",
       "}\n",
       "</style>\n",
       "<small>shape: (7, 6)</small><table border=\"1\" class=\"dataframe\"><thead><tr><th>PREDICTOR_0</th><th>PREDICTOR_1</th><th>PREDICTOR_3</th><th>Context_Name</th><th>IH_Web_Inbound_Accepted_pxLastGroupID</th><th>Decision_Outcome</th></tr><tr><td>f64</td><td>str</td><td>str</td><td>str</td><td>str</td><td>str</td></tr></thead><tbody><tr><td>1.4097e19</td><td>&quot;8953836104091885106&quot;</td><td>&quot;5743676217813340133&quot;</td><td>&quot;FirstMortgage30yr&quot;</td><td>&quot;888337361043737642&quot;</td><td>&quot;Rejected&quot;</td></tr><tr><td>1.2029e19</td><td>&quot;4757318365571124941&quot;</td><td>&quot;17241651010184176855&quot;</td><td>&quot;FirstMortgage30yr&quot;</td><td>&quot;16248770842375249555&quot;</td><td>&quot;Accepted&quot;</td></tr><tr><td>5.6815e18</td><td>&quot;17947652281120269666&quot;</td><td>&quot;18265537837906333739&quot;</td><td>&quot;MoneyMarketSavingsAccount&quot;</td><td>&quot;888337361043737642&quot;</td><td>&quot;Rejected&quot;</td></tr><tr><td>1.1826e19</td><td>&quot;4757318365571124941&quot;</td><td>&quot;9072649960753862101&quot;</td><td>&quot;BasicChecking&quot;</td><td>&quot;888337361043737642&quot;</td><td>&quot;Rejected&quot;</td></tr><tr><td>7.8386e18</td><td>&quot;8953836104091885106&quot;</td><td>&quot;2500679204155009638&quot;</td><td>&quot;BasicChecking&quot;</td><td>&quot;2993335377860571078&quot;</td><td>&quot;Accepted&quot;</td></tr><tr><td>9.0594e18</td><td>&quot;17947652281120269666&quot;</td><td>&quot;18081424439623771463&quot;</td><td>&quot;UPlusFinPersonal&quot;</td><td>null</td><td>&quot;Rejected&quot;</td></tr><tr><td>1.1655e19</td><td>&quot;17947652281120269666&quot;</td><td>&quot;2273871731013003625&quot;</td><td>&quot;BasicChecking&quot;</td><td>&quot;2993335377860571078&quot;</td><td>&quot;Rejected&quot;</td></tr></tbody></table></div>"
      ],
      "text/plain": [
       "shape: (7, 6)\n",
       "┌─────────────┬────────────────┬────────────────┬────────────────┬────────────────┬────────────────┐\n",
       "│ PREDICTOR_0 ┆ PREDICTOR_1    ┆ PREDICTOR_3    ┆ Context_Name   ┆ IH_Web_Inbound ┆ Decision_Outco │\n",
       "│ ---         ┆ ---            ┆ ---            ┆ ---            ┆ _Accepted_pxLa ┆ me             │\n",
       "│ f64         ┆ str            ┆ str            ┆ str            ┆ st…            ┆ ---            │\n",
       "│             ┆                ┆                ┆                ┆ ---            ┆ str            │\n",
       "│             ┆                ┆                ┆                ┆ str            ┆                │\n",
       "╞═════════════╪════════════════╪════════════════╪════════════════╪════════════════╪════════════════╡\n",
       "│ 1.4097e19   ┆ 89538361040918 ┆ 57436762178133 ┆ FirstMortgage3 ┆ 88833736104373 ┆ Rejected       │\n",
       "│             ┆ 85106          ┆ 40133          ┆ 0yr            ┆ 7642           ┆                │\n",
       "│ 1.2029e19   ┆ 47573183655711 ┆ 17241651010184 ┆ FirstMortgage3 ┆ 16248770842375 ┆ Accepted       │\n",
       "│             ┆ 24941          ┆ 176855         ┆ 0yr            ┆ 249555         ┆                │\n",
       "│ 5.6815e18   ┆ 17947652281120 ┆ 18265537837906 ┆ MoneyMarketSav ┆ 88833736104373 ┆ Rejected       │\n",
       "│             ┆ 269666         ┆ 333739         ┆ ingsAccount    ┆ 7642           ┆                │\n",
       "│ 1.1826e19   ┆ 47573183655711 ┆ 90726499607538 ┆ BasicChecking  ┆ 88833736104373 ┆ Rejected       │\n",
       "│             ┆ 24941          ┆ 62101          ┆                ┆ 7642           ┆                │\n",
       "│ 7.8386e18   ┆ 89538361040918 ┆ 25006792041550 ┆ BasicChecking  ┆ 29933353778605 ┆ Accepted       │\n",
       "│             ┆ 85106          ┆ 09638          ┆                ┆ 71078          ┆                │\n",
       "│ 9.0594e18   ┆ 17947652281120 ┆ 18081424439623 ┆ UPlusFinPerson ┆ null           ┆ Rejected       │\n",
       "│             ┆ 269666         ┆ 771463         ┆ al             ┆                ┆                │\n",
       "│ 1.1655e19   ┆ 17947652281120 ┆ 22738717310130 ┆ BasicChecking  ┆ 29933353778605 ┆ Rejected       │\n",
       "│             ┆ 269666         ┆ 03625          ┆                ┆ 71078          ┆                │\n",
       "└─────────────┴────────────────┴────────────────┴────────────────┴────────────────┴────────────────┘"
      ]
     },
     "execution_count": 13,
     "metadata": {},
     "output_type": "execute_result"
    }
   ],
   "source": [
    "pl.read_ipc('output/hds.arrow')"
   ]
  },
  {
   "attachments": {},
   "cell_type": "markdown",
   "metadata": {
    "nbsphinx": "hidden"
   },
   "source": [
    "## Advanced: Hash fuctions\n",
    "\n",
    "By default, we use [the same hashing algorithm Polars](https://pola-rs.github.io/polars/py-polars/html/reference/expressions/api/polars.Expr.hash.html#polars.Expr.hash) uses: [xxhash](https://github.com/Cyan4973/xxHash), as implemented [here](https://github.com/pola-rs/polars/blob/3f287f370b3c388ed2f3f218b2c096382548136f/polars/polars-core/src/vector_hasher.rs#L266). xxhash is fast to compute, and you can check its performance in collision, dispersion and randomness [here](https://github.com/Cyan4973/xxHash/tree/dev/tests). \n",
    "\n",
    "xxhash accepts four distinct seeds, but by default we set the seeds to `0`. It is possible to set the `seed` argument of the `process()` function to `'random'`, which will set all four seeds to a random integer between `0` and `1000000000`. Alternatively, it is possible to supply the four seeds manually with arguments `seed`, `seed_1`, `seed_2` and `seed_3`. \n",
    "\n",
    "If the xxhash with (random) seed(s) is not deemed sufficiently secure, it is possible to use your own hashing algorithm.\n",
    "\n",
    "Note that since we're now running python code and not native Polars code anymore, this will be _significantly_ slower. Nonetheless, it is possible.\n",
    "\n",
    "Just as an example - this is how one would use sha3_256:"
   ]
  },
  {
   "cell_type": "code",
   "execution_count": 14,
   "metadata": {
    "execution": {
     "iopub.execute_input": "2024-06-14T14:08:21.198992Z",
     "iopub.status.busy": "2024-06-14T14:08:21.198676Z",
     "iopub.status.idle": "2024-06-14T14:08:21.524412Z",
     "shell.execute_reply": "2024-06-14T14:08:21.523787Z"
    },
    "nbsphinx": "hidden"
   },
   "outputs": [
    {
     "name": "stderr",
     "output_type": "stream",
     "text": [
      "sys:1: MapWithoutReturnDtypeWarning:\n",
      "\n",
      "Calling `map_elements` without specifying `return_dtype` can lead to unpredictable results. Specify `return_dtype` to silence this warning.\n",
      "\n",
      "sys:1: MapWithoutReturnDtypeWarning:\n",
      "\n",
      "Calling `map_elements` without specifying `return_dtype` can lead to unpredictable results. Specify `return_dtype` to silence this warning.\n",
      "\n",
      "sys:1: MapWithoutReturnDtypeWarning:\n",
      "\n",
      "Calling `map_elements` without specifying `return_dtype` can lead to unpredictable results. Specify `return_dtype` to silence this warning.\n",
      "\n",
      "sys:1: MapWithoutReturnDtypeWarning:\n",
      "\n",
      "Calling `map_elements` without specifying `return_dtype` can lead to unpredictable results. Specify `return_dtype` to silence this warning.\n",
      "\n"
     ]
    },
    {
     "ename": "ComputeError",
     "evalue": "AttributeError: 'int' object has no attribute 'encode'",
     "output_type": "error",
     "traceback": [
      "\u001b[0;31m---------------------------------------------------------------------------\u001b[0m",
      "\u001b[0;31mComputeError\u001b[0m                              Traceback (most recent call last)",
      "Cell \u001b[0;32mIn[14], line 3\u001b[0m\n\u001b[1;32m      1\u001b[0m \u001b[38;5;28;01mfrom\u001b[39;00m \u001b[38;5;21;01mhashlib\u001b[39;00m \u001b[38;5;28;01mimport\u001b[39;00m sha3_256\n\u001b[0;32m----> 3\u001b[0m \u001b[43manon\u001b[49m\u001b[38;5;241;43m.\u001b[39;49m\u001b[43mprocess\u001b[49m\u001b[43m(\u001b[49m\u001b[43malgorithm\u001b[49m\u001b[38;5;241;43m=\u001b[39;49m\u001b[38;5;28;43;01mlambda\u001b[39;49;00m\u001b[43m \u001b[49m\u001b[43mx\u001b[49m\u001b[43m:\u001b[49m\u001b[43m \u001b[49m\u001b[43msha3_256\u001b[49m\u001b[43m(\u001b[49m\u001b[43mx\u001b[49m\u001b[38;5;241;43m.\u001b[39;49m\u001b[43mencode\u001b[49m\u001b[43m(\u001b[49m\u001b[43m)\u001b[49m\u001b[43m)\u001b[49m\u001b[38;5;241;43m.\u001b[39;49m\u001b[43mhexdigest\u001b[49m\u001b[43m(\u001b[49m\u001b[43m)\u001b[49m\u001b[43m)\u001b[49m\n",
      "File \u001b[0;32m~/work/pega-datascientist-tools/pega-datascientist-tools/python/docs/source/articles/../../../pdstools/utils/hds_utils.py:512\u001b[0m, in \u001b[0;36mDataAnonymization.process\u001b[0;34m(self, strategy, **kwargs)\u001b[0m\n\u001b[1;32m    510\u001b[0m df \u001b[38;5;241m=\u001b[39m df\u001b[38;5;241m.\u001b[39mselect(\u001b[38;5;28mself\u001b[39m\u001b[38;5;241m.\u001b[39mcolumn_mapping\u001b[38;5;241m.\u001b[39mkeys())\u001b[38;5;241m.\u001b[39mrename(\u001b[38;5;28mself\u001b[39m\u001b[38;5;241m.\u001b[39mcolumn_mapping)\n\u001b[1;32m    511\u001b[0m \u001b[38;5;28;01mif\u001b[39;00m strategy \u001b[38;5;241m==\u001b[39m \u001b[38;5;124m\"\u001b[39m\u001b[38;5;124meager\u001b[39m\u001b[38;5;124m\"\u001b[39m:\n\u001b[0;32m--> 512\u001b[0m     \u001b[38;5;28;01mreturn\u001b[39;00m \u001b[43mdf\u001b[49m\u001b[38;5;241;43m.\u001b[39;49m\u001b[43mcollect\u001b[49m\u001b[43m(\u001b[49m\u001b[43m)\u001b[49m\n\u001b[1;32m    513\u001b[0m \u001b[38;5;28;01mreturn\u001b[39;00m df\n",
      "File \u001b[0;32m/opt/hostedtoolcache/Python/3.11.9/x64/lib/python3.11/site-packages/polars/lazyframe/frame.py:1967\u001b[0m, in \u001b[0;36mLazyFrame.collect\u001b[0;34m(self, type_coercion, predicate_pushdown, projection_pushdown, simplify_expression, slice_pushdown, comm_subplan_elim, comm_subexpr_elim, cluster_with_columns, no_optimization, streaming, background, _eager, **_kwargs)\u001b[0m\n\u001b[1;32m   1964\u001b[0m \u001b[38;5;66;03m# Only for testing purposes atm.\u001b[39;00m\n\u001b[1;32m   1965\u001b[0m callback \u001b[38;5;241m=\u001b[39m _kwargs\u001b[38;5;241m.\u001b[39mget(\u001b[38;5;124m\"\u001b[39m\u001b[38;5;124mpost_opt_callback\u001b[39m\u001b[38;5;124m\"\u001b[39m)\n\u001b[0;32m-> 1967\u001b[0m \u001b[38;5;28;01mreturn\u001b[39;00m wrap_df(\u001b[43mldf\u001b[49m\u001b[38;5;241;43m.\u001b[39;49m\u001b[43mcollect\u001b[49m\u001b[43m(\u001b[49m\u001b[43mcallback\u001b[49m\u001b[43m)\u001b[49m)\n",
      "\u001b[0;31mComputeError\u001b[0m: AttributeError: 'int' object has no attribute 'encode'"
     ]
    }
   ],
   "source": [
    "from hashlib import sha3_256\n",
    "\n",
    "anon.process(algorithm=lambda x: sha3_256(x.encode()).hexdigest())"
   ]
  }
 ],
 "metadata": {
  "kernelspec": {
   "display_name": "Python 3",
   "language": "python",
   "name": "python3"
  },
  "language_info": {
   "codemirror_mode": {
    "name": "ipython",
    "version": 3
   },
   "file_extension": ".py",
   "mimetype": "text/x-python",
   "name": "python",
   "nbconvert_exporter": "python",
   "pygments_lexer": "ipython3",
   "version": "3.11.9"
  },
  "vscode": {
   "interpreter": {
    "hash": "aee8b7b246df8f9039afb4144a1f6fd8d2ca17a180786b69acc140d282b71a49"
   }
  }
 },
 "nbformat": 4,
 "nbformat_minor": 2
}
