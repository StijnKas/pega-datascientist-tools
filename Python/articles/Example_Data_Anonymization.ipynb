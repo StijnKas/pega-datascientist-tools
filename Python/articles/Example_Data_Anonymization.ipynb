{
 "cells": [
  {
   "attachments": {},
   "cell_type": "markdown",
   "metadata": {},
   "source": [
    "# Example data anonymization\n",
    "\n",
    "In Pega CDH 8.5 and up, it's now possible to record the historical data as seen by the Adaptive Models. See [this academy challenge](https://academy.pega.com/challenge/exporting-historical-data/v4) for reference. This historical data can be further used to experiment with offline models, but also to fine-tune the OOTB Gradient Boosting model. However, sharing this information with Pega can be sensitive as it contains raw predictor data. \n",
    "\n",
    "To this end, we provide a simple and transparent script to fully anonimize this dataset.\n",
    "\n",
    "The DataAnonymization script is now part of pdstools, and you can import it directly as such."
   ]
  },
  {
   "cell_type": "code",
   "execution_count": 1,
   "metadata": {
    "execution": {
     "iopub.execute_input": "2023-05-23T15:30:41.136464Z",
     "iopub.status.busy": "2023-05-23T15:30:41.136178Z",
     "iopub.status.idle": "2023-05-23T15:30:41.141810Z",
     "shell.execute_reply": "2023-05-23T15:30:41.141309Z"
    },
    "nbsphinx": "hidden"
   },
   "outputs": [],
   "source": [
    "# These lines are only for rendering in the docs, and are hidden through Jupyter tags\n",
    "# Do not run if you're running the notebook seperately\n",
    "\n",
    "import sys\n",
    "sys.path.append('../../../')"
   ]
  },
  {
   "cell_type": "code",
   "execution_count": 2,
   "metadata": {
    "execution": {
     "iopub.execute_input": "2023-05-23T15:30:41.144257Z",
     "iopub.status.busy": "2023-05-23T15:30:41.143829Z",
     "iopub.status.idle": "2023-05-23T15:30:42.199528Z",
     "shell.execute_reply": "2023-05-23T15:30:42.198954Z"
    }
   },
   "outputs": [],
   "source": [
    "from pdstools import ADMDatamart\n",
    "from pdstools import Config, DataAnonymization\n",
    "import polars as pl"
   ]
  },
  {
   "attachments": {},
   "cell_type": "markdown",
   "metadata": {},
   "source": [
    "## Input data\n",
    "\n",
    "To demonstrate this process, we're going to anonymise this toy example dataframe:"
   ]
  },
  {
   "cell_type": "code",
   "execution_count": 3,
   "metadata": {
    "execution": {
     "iopub.execute_input": "2023-05-23T15:30:42.202970Z",
     "iopub.status.busy": "2023-05-23T15:30:42.202386Z",
     "iopub.status.idle": "2023-05-23T15:30:42.215290Z",
     "shell.execute_reply": "2023-05-23T15:30:42.214845Z"
    }
   },
   "outputs": [
    {
     "name": "stderr",
     "output_type": "stream",
     "text": [
      "[/home/runner/work/polars/polars/polars/polars-io/src/ndjson/core.rs:162] &data_type = Struct(\n",
      "    [\n",
      "        Field {\n",
      "            name: \"Context_Name\",\n",
      "            data_type: LargeUtf8,\n",
      "            is_nullable: true,\n",
      "            metadata: {},\n",
      "        },\n",
      "        Field {\n",
      "            name: \"Customer_MaritalStatus\",\n",
      "            data_type: LargeUtf8,\n",
      "            is_nullable: true,\n",
      "            metadata: {},\n",
      "        },\n",
      "        Field {\n",
      "            name: \"Customer_CLV\",\n",
      "            data_type: Int64,\n",
      "            is_nullable: true,\n",
      "            metadata: {},\n",
      "        },\n",
      "        Field {\n",
      "            name: \"Customer_City\",\n",
      "            data_type: LargeUtf8,\n",
      "            is_nullable: true,\n",
      "            metadata: {},\n",
      "        },\n",
      "        Field {\n",
      "            name: \"IH_Web_Inbound_Accepted_pxLastGroupID\",\n",
      "            data_type: LargeUtf8,\n",
      "            is_nullable: true,\n",
      "            metadata: {},\n",
      "        },\n",
      "        Field {\n",
      "            name: \"Decision_Outcome\",\n",
      "            data_type: LargeUtf8,\n",
      "            is_nullable: true,\n",
      "            metadata: {},\n",
      "        },\n",
      "    ],\n",
      ")\n"
     ]
    },
    {
     "data": {
      "text/html": [
       "<div><style>\n",
       ".dataframe > thead > tr > th,\n",
       ".dataframe > tbody > tr > td {\n",
       "  text-align: right;\n",
       "}\n",
       "</style>\n",
       "<small>shape: (7, 6)</small><table border=\"1\" class=\"dataframe\"><thead><tr><th>Context_Name</th><th>Customer_MaritalStatus</th><th>Customer_CLV</th><th>Customer_City</th><th>IH_Web_Inbound_Accepted_pxLastGroupID</th><th>Decision_Outcome</th></tr><tr><td>str</td><td>str</td><td>i64</td><td>str</td><td>str</td><td>str</td></tr></thead><tbody><tr><td>&quot;FirstMortgage3…</td><td>&quot;Married&quot;</td><td>1460</td><td>&quot;Port Raoul&quot;</td><td>&quot;Account&quot;</td><td>&quot;Rejected&quot;</td></tr><tr><td>&quot;FirstMortgage3…</td><td>&quot;Unknown&quot;</td><td>669</td><td>&quot;Laurianneshire…</td><td>&quot;AutoLoans&quot;</td><td>&quot;Accepted&quot;</td></tr><tr><td>&quot;MoneyMarketSav…</td><td>&quot;No Resp+&quot;</td><td>1174</td><td>&quot;Jacobshaven&quot;</td><td>&quot;Account&quot;</td><td>&quot;Rejected&quot;</td></tr><tr><td>&quot;BasicChecking&quot;</td><td>&quot;Unknown&quot;</td><td>1476</td><td>&quot;Lindton&quot;</td><td>&quot;Account&quot;</td><td>&quot;Rejected&quot;</td></tr><tr><td>&quot;BasicChecking&quot;</td><td>&quot;Married&quot;</td><td>1211</td><td>&quot;South Jimmiesh…</td><td>&quot;DepositAccount…</td><td>&quot;Accepted&quot;</td></tr><tr><td>&quot;UPlusFinPerson…</td><td>&quot;No Resp+&quot;</td><td>533</td><td>&quot;Bergeville&quot;</td><td>null</td><td>&quot;Rejected&quot;</td></tr><tr><td>&quot;BasicChecking&quot;</td><td>&quot;No Resp+&quot;</td><td>555</td><td>&quot;Willyville&quot;</td><td>&quot;DepositAccount…</td><td>&quot;Rejected&quot;</td></tr></tbody></table></div>"
      ],
      "text/plain": [
       "shape: (7, 6)\n",
       "┌────────────────┬────────────────┬──────────────┬────────────────┬────────────────┬───────────────┐\n",
       "│ Context_Name   ┆ Customer_Marit ┆ Customer_CLV ┆ Customer_City  ┆ IH_Web_Inbound ┆ Decision_Outc │\n",
       "│ ---            ┆ alStatus       ┆ ---          ┆ ---            ┆ _Accepted_pxLa ┆ ome           │\n",
       "│ str            ┆ ---            ┆ i64          ┆ str            ┆ stGr…          ┆ ---           │\n",
       "│                ┆ str            ┆              ┆                ┆ ---            ┆ str           │\n",
       "│                ┆                ┆              ┆                ┆ str            ┆               │\n",
       "╞════════════════╪════════════════╪══════════════╪════════════════╪════════════════╪═══════════════╡\n",
       "│ FirstMortgage3 ┆ Married        ┆ 1460         ┆ Port Raoul     ┆ Account        ┆ Rejected      │\n",
       "│ 0yr            ┆                ┆              ┆                ┆                ┆               │\n",
       "│ FirstMortgage3 ┆ Unknown        ┆ 669          ┆ Laurianneshire ┆ AutoLoans      ┆ Accepted      │\n",
       "│ 0yr            ┆                ┆              ┆                ┆                ┆               │\n",
       "│ MoneyMarketSav ┆ No Resp+       ┆ 1174         ┆ Jacobshaven    ┆ Account        ┆ Rejected      │\n",
       "│ ingsAccount    ┆                ┆              ┆                ┆                ┆               │\n",
       "│ BasicChecking  ┆ Unknown        ┆ 1476         ┆ Lindton        ┆ Account        ┆ Rejected      │\n",
       "│ BasicChecking  ┆ Married        ┆ 1211         ┆ South          ┆ DepositAccount ┆ Accepted      │\n",
       "│                ┆                ┆              ┆ Jimmieshire    ┆ s              ┆               │\n",
       "│ UPlusFinPerson ┆ No Resp+       ┆ 533          ┆ Bergeville     ┆ null           ┆ Rejected      │\n",
       "│ al             ┆                ┆              ┆                ┆                ┆               │\n",
       "│ BasicChecking  ┆ No Resp+       ┆ 555          ┆ Willyville     ┆ DepositAccount ┆ Rejected      │\n",
       "│                ┆                ┆              ┆                ┆ s              ┆               │\n",
       "└────────────────┴────────────────┴──────────────┴────────────────┴────────────────┴───────────────┘"
      ]
     },
     "execution_count": 3,
     "metadata": {},
     "output_type": "execute_result"
    }
   ],
   "source": [
    "pl.read_ndjson('../../../../data/SampleHDS.json')"
   ]
  },
  {
   "attachments": {},
   "cell_type": "markdown",
   "metadata": {},
   "source": [
    "As you can see, this dataset consists of regular predictors, IH predictors, context keys and the outcome column. Additionally, some columns are numeric, others are strings. Let's first initialize the DataAnonymization class."
   ]
  },
  {
   "cell_type": "code",
   "execution_count": 4,
   "metadata": {
    "execution": {
     "iopub.execute_input": "2023-05-23T15:30:42.218968Z",
     "iopub.status.busy": "2023-05-23T15:30:42.217872Z",
     "iopub.status.idle": "2023-05-23T15:30:42.226586Z",
     "shell.execute_reply": "2023-05-23T15:30:42.226137Z"
    }
   },
   "outputs": [],
   "source": [
    "anon = DataAnonymization(hds_folder='../../../../data/')"
   ]
  },
  {
   "attachments": {},
   "cell_type": "markdown",
   "metadata": {},
   "source": [
    "By default, the class applies a set of anonymisation techniques:\n",
    "- Column names are remapped to a non-descriptive name\n",
    "- Categorical values are hashed with a random seed\n",
    "- Numerical values are normalized between 0 and 1\n",
    "- Outcomes are mapped to a binary outcome.\n",
    "\n",
    "To apply these techniques, simply call `.process()`:"
   ]
  },
  {
   "cell_type": "code",
   "execution_count": 5,
   "metadata": {
    "execution": {
     "iopub.execute_input": "2023-05-23T15:30:42.230177Z",
     "iopub.status.busy": "2023-05-23T15:30:42.229070Z",
     "iopub.status.idle": "2023-05-23T15:30:42.237086Z",
     "shell.execute_reply": "2023-05-23T15:30:42.236645Z"
    }
   },
   "outputs": [
    {
     "data": {
      "text/html": [
       "<div><style>\n",
       ".dataframe > thead > tr > th,\n",
       ".dataframe > tbody > tr > td {\n",
       "  text-align: right;\n",
       "}\n",
       "</style>\n",
       "<small>shape: (7, 7)</small><table border=\"1\" class=\"dataframe\"><thead><tr><th>PREDICTOR_0</th><th>filename</th><th>PREDICTOR_2</th><th>PREDICTOR_3</th><th>Context_Name</th><th>IH_PREDICTOR_0</th><th>Decision_Outcome</th></tr><tr><td>f64</td><td>str</td><td>str</td><td>str</td><td>str</td><td>str</td><td>bool</td></tr></thead><tbody><tr><td>1.2927e19</td><td>&quot;../../../../da…</td><td>&quot;12859885246854…</td><td>&quot;10210477675971…</td><td>&quot;10997186788732…</td><td>&quot;44106475271901…</td><td>false</td></tr><tr><td>1.4856e19</td><td>&quot;../../../../da…</td><td>&quot;88270735928205…</td><td>&quot;10401722668432…</td><td>&quot;10997186788732…</td><td>&quot;11825334017337…</td><td>true</td></tr><tr><td>5.6458e17</td><td>&quot;../../../../da…</td><td>&quot;22556041647741…</td><td>&quot;86241523502647…</td><td>&quot;23474888937542…</td><td>&quot;44106475271901…</td><td>false</td></tr><tr><td>4.0723e18</td><td>&quot;../../../../da…</td><td>&quot;88270735928205…</td><td>&quot;16581677616562…</td><td>&quot;11307913782465…</td><td>&quot;44106475271901…</td><td>false</td></tr><tr><td>1.4677e19</td><td>&quot;../../../../da…</td><td>&quot;12859885246854…</td><td>&quot;17333389543206…</td><td>&quot;11307913782465…</td><td>&quot;15100937324479…</td><td>true</td></tr><tr><td>1.6330e19</td><td>&quot;../../../../da…</td><td>&quot;22556041647741…</td><td>&quot;16283817402730…</td><td>&quot;92479318656708…</td><td>null</td><td>false</td></tr><tr><td>8.7675e18</td><td>&quot;../../../../da…</td><td>&quot;22556041647741…</td><td>&quot;23234530474294…</td><td>&quot;11307913782465…</td><td>&quot;15100937324479…</td><td>false</td></tr></tbody></table></div>"
      ],
      "text/plain": [
       "shape: (7, 7)\n",
       "┌─────────────┬───────────────┬──────────────┬──────────────┬────────────┬────────────┬────────────┐\n",
       "│ PREDICTOR_0 ┆ filename      ┆ PREDICTOR_2  ┆ PREDICTOR_3  ┆ Context_Na ┆ IH_PREDICT ┆ Decision_O │\n",
       "│ ---         ┆ ---           ┆ ---          ┆ ---          ┆ me         ┆ OR_0       ┆ utcome     │\n",
       "│ f64         ┆ str           ┆ str          ┆ str          ┆ ---        ┆ ---        ┆ ---        │\n",
       "│             ┆               ┆              ┆              ┆ str        ┆ str        ┆ bool       │\n",
       "╞═════════════╪═══════════════╪══════════════╪══════════════╪════════════╪════════════╪════════════╡\n",
       "│ 1.2927e19   ┆ ../../../../d ┆ 128598852468 ┆ 102104776759 ┆ 1099718678 ┆ 4410647527 ┆ false      │\n",
       "│             ┆ ata/SampleHDS ┆ 545602       ┆ 71832906     ┆ 8732574244 ┆ 190165625  ┆            │\n",
       "│             ┆ .json         ┆              ┆              ┆            ┆            ┆            │\n",
       "│ 1.4856e19   ┆ ../../../../d ┆ 882707359282 ┆ 104017226684 ┆ 1099718678 ┆ 1182533401 ┆ true       │\n",
       "│             ┆ ata/SampleHDS ┆ 0550055      ┆ 32020203     ┆ 8732574244 ┆ 7337584295 ┆            │\n",
       "│             ┆ .json         ┆              ┆              ┆            ┆            ┆            │\n",
       "│ 5.6458e17   ┆ ../../../../d ┆ 225560416477 ┆ 862415235026 ┆ 2347488893 ┆ 4410647527 ┆ false      │\n",
       "│             ┆ ata/SampleHDS ┆ 4153285      ┆ 4715229      ┆ 754292822  ┆ 190165625  ┆            │\n",
       "│             ┆ .json         ┆              ┆              ┆            ┆            ┆            │\n",
       "│ 4.0723e18   ┆ ../../../../d ┆ 882707359282 ┆ 165816776165 ┆ 1130791378 ┆ 4410647527 ┆ false      │\n",
       "│             ┆ ata/SampleHDS ┆ 0550055      ┆ 62023087     ┆ 2465769983 ┆ 190165625  ┆            │\n",
       "│             ┆ .json         ┆              ┆              ┆            ┆            ┆            │\n",
       "│ 1.4677e19   ┆ ../../../../d ┆ 128598852468 ┆ 173333895432 ┆ 1130791378 ┆ 1510093732 ┆ true       │\n",
       "│             ┆ ata/SampleHDS ┆ 545602       ┆ 06927494     ┆ 2465769983 ┆ 4479337024 ┆            │\n",
       "│             ┆ .json         ┆              ┆              ┆            ┆            ┆            │\n",
       "│ 1.6330e19   ┆ ../../../../d ┆ 225560416477 ┆ 162838174027 ┆ 9247931865 ┆ null       ┆ false      │\n",
       "│             ┆ ata/SampleHDS ┆ 4153285      ┆ 30899362     ┆ 6708631    ┆            ┆            │\n",
       "│             ┆ .json         ┆              ┆              ┆            ┆            ┆            │\n",
       "│ 8.7675e18   ┆ ../../../../d ┆ 225560416477 ┆ 232345304742 ┆ 1130791378 ┆ 1510093732 ┆ false      │\n",
       "│             ┆ ata/SampleHDS ┆ 4153285      ┆ 9415663      ┆ 2465769983 ┆ 4479337024 ┆            │\n",
       "│             ┆ .json         ┆              ┆              ┆            ┆            ┆            │\n",
       "└─────────────┴───────────────┴──────────────┴──────────────┴────────────┴────────────┴────────────┘"
      ]
     },
     "execution_count": 5,
     "metadata": {},
     "output_type": "execute_result"
    }
   ],
   "source": [
    "anon.process()"
   ]
  },
  {
   "attachments": {},
   "cell_type": "markdown",
   "metadata": {},
   "source": [
    "To trace back the columns to their original names, the class also contains a mapping, which does not have to be provided."
   ]
  },
  {
   "cell_type": "code",
   "execution_count": 6,
   "metadata": {
    "execution": {
     "iopub.execute_input": "2023-05-23T15:30:42.239598Z",
     "iopub.status.busy": "2023-05-23T15:30:42.239400Z",
     "iopub.status.idle": "2023-05-23T15:30:42.242841Z",
     "shell.execute_reply": "2023-05-23T15:30:42.242433Z"
    }
   },
   "outputs": [
    {
     "data": {
      "text/plain": [
       "{'Customer_CLV': 'PREDICTOR_0',\n",
       " 'filename': 'filename',\n",
       " 'Customer_MaritalStatus': 'PREDICTOR_2',\n",
       " 'Customer_City': 'PREDICTOR_3',\n",
       " 'Context_Name': 'Context_Name',\n",
       " 'IH_Web_Inbound_Accepted_pxLastGroupID': 'IH_PREDICTOR_0',\n",
       " 'Decision_Outcome': 'Decision_Outcome'}"
      ]
     },
     "execution_count": 6,
     "metadata": {},
     "output_type": "execute_result"
    }
   ],
   "source": [
    "anon.column_mapping"
   ]
  },
  {
   "attachments": {},
   "cell_type": "markdown",
   "metadata": {},
   "source": [
    "## Configs\n",
    "\n",
    "Each capability can optionally be turned off - see below for the full list of config options, and refer to the API reference for the full description."
   ]
  },
  {
   "cell_type": "code",
   "execution_count": 7,
   "metadata": {
    "execution": {
     "iopub.execute_input": "2023-05-23T15:30:42.244984Z",
     "iopub.status.busy": "2023-05-23T15:30:42.244694Z",
     "iopub.status.idle": "2023-05-23T15:30:42.248552Z",
     "shell.execute_reply": "2023-05-23T15:30:42.248146Z"
    }
   },
   "outputs": [
    {
     "data": {
      "text/plain": [
       "{'config_file': None,\n",
       " 'hds_folder': '.',\n",
       " 'use_datamart': False,\n",
       " 'datamart_folder': 'datamart',\n",
       " 'output_format': 'ndjson',\n",
       " 'output_folder': 'output',\n",
       " 'mapping_file': 'mapping.map',\n",
       " 'mask_predictor_names': True,\n",
       " 'mask_context_key_names': False,\n",
       " 'mask_ih_names': True,\n",
       " 'mask_outcome_name': False,\n",
       " 'mask_predictor_values': True,\n",
       " 'mask_context_key_values': True,\n",
       " 'mask_ih_values': True,\n",
       " 'mask_outcome_values': True,\n",
       " 'context_key_label': 'Context_*',\n",
       " 'ih_label': 'IH_*',\n",
       " 'outcome_column': 'Decision_Outcome',\n",
       " 'positive_outcomes': ['Accepted', 'Clicked'],\n",
       " 'negative_outcomes': ['Rejected', 'Impression'],\n",
       " 'special_predictors': ['Decision_DecisionTime',\n",
       "  'Decision_OutcomeTime',\n",
       "  'Decision_Rank'],\n",
       " 'sample_percentage_schema_inferencing': 0.01}"
      ]
     },
     "execution_count": 7,
     "metadata": {},
     "output_type": "execute_result"
    }
   ],
   "source": [
    "dict(zip(Config.__init__.__code__.co_varnames[1:], Config.__init__.__defaults__))"
   ]
  },
  {
   "attachments": {},
   "cell_type": "markdown",
   "metadata": {},
   "source": [
    "It's easy to change these parameters by just passing the keyword arguments. In the following example, we\n",
    "- Keep the IH predictor names\n",
    "- Keep the outcome values\n",
    "- Keep the context key values\n",
    "- Keep the context key predictor names"
   ]
  },
  {
   "cell_type": "code",
   "execution_count": 8,
   "metadata": {
    "execution": {
     "iopub.execute_input": "2023-05-23T15:30:42.250687Z",
     "iopub.status.busy": "2023-05-23T15:30:42.250410Z",
     "iopub.status.idle": "2023-05-23T15:30:42.259755Z",
     "shell.execute_reply": "2023-05-23T15:30:42.259326Z"
    }
   },
   "outputs": [
    {
     "data": {
      "text/html": [
       "<div><style>\n",
       ".dataframe > thead > tr > th,\n",
       ".dataframe > tbody > tr > td {\n",
       "  text-align: right;\n",
       "}\n",
       "</style>\n",
       "<small>shape: (7, 7)</small><table border=\"1\" class=\"dataframe\"><thead><tr><th>PREDICTOR_0</th><th>filename</th><th>PREDICTOR_2</th><th>PREDICTOR_3</th><th>Context_Name</th><th>IH_Web_Inbound_Accepted_pxLastGroupID</th><th>Decision_Outcome</th></tr><tr><td>f64</td><td>str</td><td>str</td><td>str</td><td>str</td><td>str</td><td>str</td></tr></thead><tbody><tr><td>1.2927e19</td><td>&quot;../../../../da…</td><td>&quot;18212436000661…</td><td>&quot;80618032172380…</td><td>&quot;FirstMortgage3…</td><td>&quot;75064312131227…</td><td>&quot;Rejected&quot;</td></tr><tr><td>1.4856e19</td><td>&quot;../../../../da…</td><td>&quot;10257363877240…</td><td>&quot;14614533492591…</td><td>&quot;FirstMortgage3…</td><td>&quot;14680488816989…</td><td>&quot;Accepted&quot;</td></tr><tr><td>5.6458e17</td><td>&quot;../../../../da…</td><td>&quot;96314064957557…</td><td>&quot;15522568261299…</td><td>&quot;MoneyMarketSav…</td><td>&quot;75064312131227…</td><td>&quot;Rejected&quot;</td></tr><tr><td>4.0723e18</td><td>&quot;../../../../da…</td><td>&quot;10257363877240…</td><td>&quot;18348867831145…</td><td>&quot;BasicChecking&quot;</td><td>&quot;75064312131227…</td><td>&quot;Rejected&quot;</td></tr><tr><td>1.4677e19</td><td>&quot;../../../../da…</td><td>&quot;18212436000661…</td><td>&quot;70460660956318…</td><td>&quot;BasicChecking&quot;</td><td>&quot;12224416220632…</td><td>&quot;Accepted&quot;</td></tr><tr><td>1.6330e19</td><td>&quot;../../../../da…</td><td>&quot;96314064957557…</td><td>&quot;10982914114550…</td><td>&quot;UPlusFinPerson…</td><td>null</td><td>&quot;Rejected&quot;</td></tr><tr><td>8.7675e18</td><td>&quot;../../../../da…</td><td>&quot;96314064957557…</td><td>&quot;13267456661512…</td><td>&quot;BasicChecking&quot;</td><td>&quot;12224416220632…</td><td>&quot;Rejected&quot;</td></tr></tbody></table></div>"
      ],
      "text/plain": [
       "shape: (7, 7)\n",
       "┌─────────────┬───────────────┬──────────────┬──────────────┬────────────┬────────────┬────────────┐\n",
       "│ PREDICTOR_0 ┆ filename      ┆ PREDICTOR_2  ┆ PREDICTOR_3  ┆ Context_Na ┆ IH_Web_Inb ┆ Decision_O │\n",
       "│ ---         ┆ ---           ┆ ---          ┆ ---          ┆ me         ┆ ound_Accep ┆ utcome     │\n",
       "│ f64         ┆ str           ┆ str          ┆ str          ┆ ---        ┆ ted_pxLast ┆ ---        │\n",
       "│             ┆               ┆              ┆              ┆ str        ┆ Gr…        ┆ str        │\n",
       "│             ┆               ┆              ┆              ┆            ┆ ---        ┆            │\n",
       "│             ┆               ┆              ┆              ┆            ┆ str        ┆            │\n",
       "╞═════════════╪═══════════════╪══════════════╪══════════════╪════════════╪════════════╪════════════╡\n",
       "│ 1.2927e19   ┆ ../../../../d ┆ 182124360006 ┆ 806180321723 ┆ FirstMortg ┆ 7506431213 ┆ Rejected   │\n",
       "│             ┆ ata/SampleHDS ┆ 61692024     ┆ 8075610      ┆ age30yr    ┆ 122713209  ┆            │\n",
       "│             ┆ .json         ┆              ┆              ┆            ┆            ┆            │\n",
       "│ 1.4856e19   ┆ ../../../../d ┆ 102573638772 ┆ 146145334925 ┆ FirstMortg ┆ 1468048881 ┆ Accepted   │\n",
       "│             ┆ ata/SampleHDS ┆ 40877056     ┆ 9110346      ┆ age30yr    ┆ 6989670884 ┆            │\n",
       "│             ┆ .json         ┆              ┆              ┆            ┆            ┆            │\n",
       "│ 5.6458e17   ┆ ../../../../d ┆ 963140649575 ┆ 155225682612 ┆ MoneyMarke ┆ 7506431213 ┆ Rejected   │\n",
       "│             ┆ ata/SampleHDS ┆ 5746132      ┆ 99563447     ┆ tSavingsAc ┆ 122713209  ┆            │\n",
       "│             ┆ .json         ┆              ┆              ┆ count      ┆            ┆            │\n",
       "│ 4.0723e18   ┆ ../../../../d ┆ 102573638772 ┆ 183488678311 ┆ BasicCheck ┆ 7506431213 ┆ Rejected   │\n",
       "│             ┆ ata/SampleHDS ┆ 40877056     ┆ 4582646      ┆ ing        ┆ 122713209  ┆            │\n",
       "│             ┆ .json         ┆              ┆              ┆            ┆            ┆            │\n",
       "│ 1.4677e19   ┆ ../../../../d ┆ 182124360006 ┆ 704606609563 ┆ BasicCheck ┆ 1222441622 ┆ Accepted   │\n",
       "│             ┆ ata/SampleHDS ┆ 61692024     ┆ 183521       ┆ ing        ┆ 0632683297 ┆            │\n",
       "│             ┆ .json         ┆              ┆              ┆            ┆            ┆            │\n",
       "│ 1.6330e19   ┆ ../../../../d ┆ 963140649575 ┆ 109829141145 ┆ UPlusFinPe ┆ null       ┆ Rejected   │\n",
       "│             ┆ ata/SampleHDS ┆ 5746132      ┆ 509616       ┆ rsonal     ┆            ┆            │\n",
       "│             ┆ .json         ┆              ┆              ┆            ┆            ┆            │\n",
       "│ 8.7675e18   ┆ ../../../../d ┆ 963140649575 ┆ 132674566615 ┆ BasicCheck ┆ 1222441622 ┆ Rejected   │\n",
       "│             ┆ ata/SampleHDS ┆ 5746132      ┆ 1261301      ┆ ing        ┆ 0632683297 ┆            │\n",
       "│             ┆ .json         ┆              ┆              ┆            ┆            ┆            │\n",
       "└─────────────┴───────────────┴──────────────┴──────────────┴────────────┴────────────┴────────────┘"
      ]
     },
     "execution_count": 8,
     "metadata": {},
     "output_type": "execute_result"
    }
   ],
   "source": [
    "anon = DataAnonymization(\n",
    "    hds_folder='../../../../data/',\n",
    "    mask_ih_names=False,\n",
    "    mask_outcome_values=False,\n",
    "    mask_context_key_values=False,\n",
    "    mask_context_key_names=False,\n",
    ")\n",
    "anon.process()\n"
   ]
  },
  {
   "attachments": {},
   "cell_type": "markdown",
   "metadata": {},
   "source": [
    "The configs can also be written and read as such:"
   ]
  },
  {
   "cell_type": "code",
   "execution_count": 9,
   "metadata": {
    "execution": {
     "iopub.execute_input": "2023-05-23T15:30:42.261913Z",
     "iopub.status.busy": "2023-05-23T15:30:42.261630Z",
     "iopub.status.idle": "2023-05-23T15:30:42.264211Z",
     "shell.execute_reply": "2023-05-23T15:30:42.263783Z"
    }
   },
   "outputs": [],
   "source": [
    "anon.config.save_to_config_file('config.json')"
   ]
  },
  {
   "cell_type": "code",
   "execution_count": 10,
   "metadata": {
    "execution": {
     "iopub.execute_input": "2023-05-23T15:30:42.266404Z",
     "iopub.status.busy": "2023-05-23T15:30:42.266125Z",
     "iopub.status.idle": "2023-05-23T15:30:42.275462Z",
     "shell.execute_reply": "2023-05-23T15:30:42.275025Z"
    }
   },
   "outputs": [
    {
     "data": {
      "text/html": [
       "<div><style>\n",
       ".dataframe > thead > tr > th,\n",
       ".dataframe > tbody > tr > td {\n",
       "  text-align: right;\n",
       "}\n",
       "</style>\n",
       "<small>shape: (7, 7)</small><table border=\"1\" class=\"dataframe\"><thead><tr><th>PREDICTOR_0</th><th>filename</th><th>PREDICTOR_2</th><th>PREDICTOR_3</th><th>Context_Name</th><th>IH_Web_Inbound_Accepted_pxLastGroupID</th><th>Decision_Outcome</th></tr><tr><td>f64</td><td>str</td><td>str</td><td>str</td><td>str</td><td>str</td><td>str</td></tr></thead><tbody><tr><td>1.2927e19</td><td>&quot;../../../../da…</td><td>&quot;14712511671723…</td><td>&quot;18367461422860…</td><td>&quot;FirstMortgage3…</td><td>&quot;27030892693143…</td><td>&quot;Rejected&quot;</td></tr><tr><td>1.4856e19</td><td>&quot;../../../../da…</td><td>&quot;83860175640471…</td><td>&quot;13424345106070…</td><td>&quot;FirstMortgage3…</td><td>&quot;40483393723346…</td><td>&quot;Accepted&quot;</td></tr><tr><td>5.6458e17</td><td>&quot;../../../../da…</td><td>&quot;14830231583772…</td><td>&quot;62790578226414…</td><td>&quot;MoneyMarketSav…</td><td>&quot;27030892693143…</td><td>&quot;Rejected&quot;</td></tr><tr><td>4.0723e18</td><td>&quot;../../../../da…</td><td>&quot;83860175640471…</td><td>&quot;17363297789248…</td><td>&quot;BasicChecking&quot;</td><td>&quot;27030892693143…</td><td>&quot;Rejected&quot;</td></tr><tr><td>1.4677e19</td><td>&quot;../../../../da…</td><td>&quot;14712511671723…</td><td>&quot;21635620450073…</td><td>&quot;BasicChecking&quot;</td><td>&quot;10083494647397…</td><td>&quot;Accepted&quot;</td></tr><tr><td>1.6330e19</td><td>&quot;../../../../da…</td><td>&quot;14830231583772…</td><td>&quot;14571853845538…</td><td>&quot;UPlusFinPerson…</td><td>null</td><td>&quot;Rejected&quot;</td></tr><tr><td>8.7675e18</td><td>&quot;../../../../da…</td><td>&quot;14830231583772…</td><td>&quot;86064598266790…</td><td>&quot;BasicChecking&quot;</td><td>&quot;10083494647397…</td><td>&quot;Rejected&quot;</td></tr></tbody></table></div>"
      ],
      "text/plain": [
       "shape: (7, 7)\n",
       "┌─────────────┬───────────────┬──────────────┬──────────────┬────────────┬────────────┬────────────┐\n",
       "│ PREDICTOR_0 ┆ filename      ┆ PREDICTOR_2  ┆ PREDICTOR_3  ┆ Context_Na ┆ IH_Web_Inb ┆ Decision_O │\n",
       "│ ---         ┆ ---           ┆ ---          ┆ ---          ┆ me         ┆ ound_Accep ┆ utcome     │\n",
       "│ f64         ┆ str           ┆ str          ┆ str          ┆ ---        ┆ ted_pxLast ┆ ---        │\n",
       "│             ┆               ┆              ┆              ┆ str        ┆ Gr…        ┆ str        │\n",
       "│             ┆               ┆              ┆              ┆            ┆ ---        ┆            │\n",
       "│             ┆               ┆              ┆              ┆            ┆ str        ┆            │\n",
       "╞═════════════╪═══════════════╪══════════════╪══════════════╪════════════╪════════════╪════════════╡\n",
       "│ 1.2927e19   ┆ ../../../../d ┆ 147125116717 ┆ 183674614228 ┆ FirstMortg ┆ 2703089269 ┆ Rejected   │\n",
       "│             ┆ ata/SampleHDS ┆ 23722520     ┆ 60223382     ┆ age30yr    ┆ 314398006  ┆            │\n",
       "│             ┆ .json         ┆              ┆              ┆            ┆            ┆            │\n",
       "│ 1.4856e19   ┆ ../../../../d ┆ 838601756404 ┆ 134243451060 ┆ FirstMortg ┆ 4048339372 ┆ Accepted   │\n",
       "│             ┆ ata/SampleHDS ┆ 7184477      ┆ 70761456     ┆ age30yr    ┆ 334694075  ┆            │\n",
       "│             ┆ .json         ┆              ┆              ┆            ┆            ┆            │\n",
       "│ 5.6458e17   ┆ ../../../../d ┆ 148302315837 ┆ 627905782264 ┆ MoneyMarke ┆ 2703089269 ┆ Rejected   │\n",
       "│             ┆ ata/SampleHDS ┆ 72048464     ┆ 1476080      ┆ tSavingsAc ┆ 314398006  ┆            │\n",
       "│             ┆ .json         ┆              ┆              ┆ count      ┆            ┆            │\n",
       "│ 4.0723e18   ┆ ../../../../d ┆ 838601756404 ┆ 173632977892 ┆ BasicCheck ┆ 2703089269 ┆ Rejected   │\n",
       "│             ┆ ata/SampleHDS ┆ 7184477      ┆ 48052648     ┆ ing        ┆ 314398006  ┆            │\n",
       "│             ┆ .json         ┆              ┆              ┆            ┆            ┆            │\n",
       "│ 1.4677e19   ┆ ../../../../d ┆ 147125116717 ┆ 216356204500 ┆ BasicCheck ┆ 1008349464 ┆ Accepted   │\n",
       "│             ┆ ata/SampleHDS ┆ 23722520     ┆ 7324129      ┆ ing        ┆ 7397268728 ┆            │\n",
       "│             ┆ .json         ┆              ┆              ┆            ┆            ┆            │\n",
       "│ 1.6330e19   ┆ ../../../../d ┆ 148302315837 ┆ 145718538455 ┆ UPlusFinPe ┆ null       ┆ Rejected   │\n",
       "│             ┆ ata/SampleHDS ┆ 72048464     ┆ 38045774     ┆ rsonal     ┆            ┆            │\n",
       "│             ┆ .json         ┆              ┆              ┆            ┆            ┆            │\n",
       "│ 8.7675e18   ┆ ../../../../d ┆ 148302315837 ┆ 860645982667 ┆ BasicCheck ┆ 1008349464 ┆ Rejected   │\n",
       "│             ┆ ata/SampleHDS ┆ 72048464     ┆ 9000218      ┆ ing        ┆ 7397268728 ┆            │\n",
       "│             ┆ .json         ┆              ┆              ┆            ┆            ┆            │\n",
       "└─────────────┴───────────────┴──────────────┴──────────────┴────────────┴────────────┴────────────┘"
      ]
     },
     "execution_count": 10,
     "metadata": {},
     "output_type": "execute_result"
    }
   ],
   "source": [
    "anon = DataAnonymization(config=Config(config_file='config.json'))\n",
    "anon.process()"
   ]
  },
  {
   "attachments": {},
   "cell_type": "markdown",
   "metadata": {},
   "source": [
    "## Exporting\n",
    "Two functions export:\n",
    "- `create_mapping_file()` writes the mapping file of the predictor names\n",
    "- `write_to_output()` writes the processed dataframe to disk\n",
    "\n",
    "Write to output accepts the following extensions: `[\"ndjson\", \"parquet\", \"arrow\", \"csv\"]`"
   ]
  },
  {
   "cell_type": "code",
   "execution_count": 11,
   "metadata": {
    "execution": {
     "iopub.execute_input": "2023-05-23T15:30:42.277679Z",
     "iopub.status.busy": "2023-05-23T15:30:42.277397Z",
     "iopub.status.idle": "2023-05-23T15:30:42.280467Z",
     "shell.execute_reply": "2023-05-23T15:30:42.280058Z"
    }
   },
   "outputs": [
    {
     "name": "stdout",
     "output_type": "stream",
     "text": [
      "Customer_CLV=PREDICTOR_0\n",
      "filename=filename\n",
      "Customer_MaritalStatus=PREDICTOR_2\n",
      "Customer_City=PREDICTOR_3\n",
      "Context_Name=Context_Name\n",
      "IH_Web_Inbound_Accepted_pxLastGroupID=IH_Web_Inbound_Accepted_pxLastGroupID\n",
      "Decision_Outcome=Decision_Outcome\n",
      "\n"
     ]
    }
   ],
   "source": [
    "anon.create_mapping_file()\n",
    "with open('mapping.map') as f:\n",
    "    print(f.read())"
   ]
  },
  {
   "cell_type": "code",
   "execution_count": 12,
   "metadata": {
    "execution": {
     "iopub.execute_input": "2023-05-23T15:30:42.282533Z",
     "iopub.status.busy": "2023-05-23T15:30:42.282258Z",
     "iopub.status.idle": "2023-05-23T15:30:42.285742Z",
     "shell.execute_reply": "2023-05-23T15:30:42.285304Z"
    }
   },
   "outputs": [],
   "source": [
    "anon.write_to_output(ext='arrow')"
   ]
  },
  {
   "cell_type": "code",
   "execution_count": 13,
   "metadata": {
    "execution": {
     "iopub.execute_input": "2023-05-23T15:30:42.287824Z",
     "iopub.status.busy": "2023-05-23T15:30:42.287538Z",
     "iopub.status.idle": "2023-05-23T15:30:42.291886Z",
     "shell.execute_reply": "2023-05-23T15:30:42.291463Z"
    }
   },
   "outputs": [
    {
     "data": {
      "text/html": [
       "<div><style>\n",
       ".dataframe > thead > tr > th,\n",
       ".dataframe > tbody > tr > td {\n",
       "  text-align: right;\n",
       "}\n",
       "</style>\n",
       "<small>shape: (7, 6)</small><table border=\"1\" class=\"dataframe\"><thead><tr><th>PREDICTOR_0</th><th>PREDICTOR_2</th><th>PREDICTOR_3</th><th>Context_Name</th><th>IH_Web_Inbound_Accepted_pxLastGroupID</th><th>Decision_Outcome</th></tr><tr><td>f64</td><td>str</td><td>str</td><td>str</td><td>str</td><td>str</td></tr></thead><tbody><tr><td>1.2927e19</td><td>&quot;17023051013583…</td><td>&quot;12209408601860…</td><td>&quot;FirstMortgage3…</td><td>&quot;42576723920408…</td><td>&quot;Rejected&quot;</td></tr><tr><td>1.4856e19</td><td>&quot;86828875678988…</td><td>&quot;15006652281023…</td><td>&quot;FirstMortgage3…</td><td>&quot;10985603390378…</td><td>&quot;Accepted&quot;</td></tr><tr><td>5.6458e17</td><td>&quot;26284291378445…</td><td>&quot;88275505457418…</td><td>&quot;MoneyMarketSav…</td><td>&quot;42576723920408…</td><td>&quot;Rejected&quot;</td></tr><tr><td>4.0723e18</td><td>&quot;86828875678988…</td><td>&quot;84351050764338…</td><td>&quot;BasicChecking&quot;</td><td>&quot;42576723920408…</td><td>&quot;Rejected&quot;</td></tr><tr><td>1.4677e19</td><td>&quot;17023051013583…</td><td>&quot;77917030040113…</td><td>&quot;BasicChecking&quot;</td><td>&quot;94550119013658…</td><td>&quot;Accepted&quot;</td></tr><tr><td>1.6330e19</td><td>&quot;26284291378445…</td><td>&quot;33353126680045…</td><td>&quot;UPlusFinPerson…</td><td>null</td><td>&quot;Rejected&quot;</td></tr><tr><td>8.7675e18</td><td>&quot;26284291378445…</td><td>&quot;21441155365260…</td><td>&quot;BasicChecking&quot;</td><td>&quot;94550119013658…</td><td>&quot;Rejected&quot;</td></tr></tbody></table></div>"
      ],
      "text/plain": [
       "shape: (7, 6)\n",
       "┌─────────────┬────────────────┬────────────────┬────────────────┬────────────────┬────────────────┐\n",
       "│ PREDICTOR_0 ┆ PREDICTOR_2    ┆ PREDICTOR_3    ┆ Context_Name   ┆ IH_Web_Inbound ┆ Decision_Outco │\n",
       "│ ---         ┆ ---            ┆ ---            ┆ ---            ┆ _Accepted_pxLa ┆ me             │\n",
       "│ f64         ┆ str            ┆ str            ┆ str            ┆ stGr…          ┆ ---            │\n",
       "│             ┆                ┆                ┆                ┆ ---            ┆ str            │\n",
       "│             ┆                ┆                ┆                ┆ str            ┆                │\n",
       "╞═════════════╪════════════════╪════════════════╪════════════════╪════════════════╪════════════════╡\n",
       "│ 1.2927e19   ┆ 17023051013583 ┆ 12209408601860 ┆ FirstMortgage3 ┆ 42576723920408 ┆ Rejected       │\n",
       "│             ┆ 783080         ┆ 653552         ┆ 0yr            ┆ 79975          ┆                │\n",
       "│ 1.4856e19   ┆ 86828875678988 ┆ 15006652281023 ┆ FirstMortgage3 ┆ 10985603390378 ┆ Accepted       │\n",
       "│             ┆ 79677          ┆ 621241         ┆ 0yr            ┆ 803980         ┆                │\n",
       "│ 5.6458e17   ┆ 26284291378445 ┆ 88275505457418 ┆ MoneyMarketSav ┆ 42576723920408 ┆ Rejected       │\n",
       "│             ┆ 09303          ┆ 5137           ┆ ingsAccount    ┆ 79975          ┆                │\n",
       "│ 4.0723e18   ┆ 86828875678988 ┆ 84351050764338 ┆ BasicChecking  ┆ 42576723920408 ┆ Rejected       │\n",
       "│             ┆ 79677          ┆ 80618          ┆                ┆ 79975          ┆                │\n",
       "│ 1.4677e19   ┆ 17023051013583 ┆ 77917030040113 ┆ BasicChecking  ┆ 94550119013658 ┆ Accepted       │\n",
       "│             ┆ 783080         ┆ 77453          ┆                ┆ 99415          ┆                │\n",
       "│ 1.6330e19   ┆ 26284291378445 ┆ 33353126680045 ┆ UPlusFinPerson ┆ null           ┆ Rejected       │\n",
       "│             ┆ 09303          ┆ 89304          ┆ al             ┆                ┆                │\n",
       "│ 8.7675e18   ┆ 26284291378445 ┆ 21441155365260 ┆ BasicChecking  ┆ 94550119013658 ┆ Rejected       │\n",
       "│             ┆ 09303          ┆ 73512          ┆                ┆ 99415          ┆                │\n",
       "└─────────────┴────────────────┴────────────────┴────────────────┴────────────────┴────────────────┘"
      ]
     },
     "execution_count": 13,
     "metadata": {},
     "output_type": "execute_result"
    }
   ],
   "source": [
    "pl.read_ipc('output/hds.arrow')"
   ]
  },
  {
   "attachments": {},
   "cell_type": "markdown",
   "metadata": {},
   "source": [
    "## Advanced: Hash fuctions\n",
    "\n",
    "By default, we use [the same hashing algorithm Polars](https://pola-rs.github.io/polars/py-polars/html/reference/expressions/api/polars.Expr.hash.html#polars.Expr.hash) uses: [xxhash](https://github.com/Cyan4973/xxHash), as implemented [here](https://github.com/pola-rs/polars/blob/3f287f370b3c388ed2f3f218b2c096382548136f/polars/polars-core/src/vector_hasher.rs#L266). xxhash is fast to compute, and you can check its performance in collision, dispersion and randomness [here](https://github.com/Cyan4973/xxHash/tree/dev/tests). \n",
    "\n",
    "xxhash accepts four distinct seeds, but by default we set the seeds to `0`. It is possible to set the `seed` argument of the `process()` function to `'random'`, which will set all four seeds to a random integer between `0` and `1000000000`. Alternatively, it is possible to supply the four seeds manually with arguments `seed`, `seed_1`, `seed_2` and `seed_3`. \n",
    "\n",
    "If the xxhash with (random) seed(s) is not deemed sufficiently secure, it is possible to use your own hashing algorithm.\n",
    "\n",
    "Note that since we're now running python code and not native Polars code anymore, this will be _significantly_ slower. Nonetheless, it is possible.\n",
    "\n",
    "Just as an example - this is how one would use sha3_256:"
   ]
  },
  {
   "cell_type": "code",
   "execution_count": 14,
   "metadata": {
    "execution": {
     "iopub.execute_input": "2023-05-23T15:30:42.294075Z",
     "iopub.status.busy": "2023-05-23T15:30:42.293786Z",
     "iopub.status.idle": "2023-05-23T15:30:42.631361Z",
     "shell.execute_reply": "2023-05-23T15:30:42.630734Z"
    }
   },
   "outputs": [
    {
     "ename": "ComputeError",
     "evalue": "AttributeError: 'int' object has no attribute 'encode'",
     "output_type": "error",
     "traceback": [
      "\u001b[0;31m---------------------------------------------------------------------------\u001b[0m",
      "\u001b[0;31mComputeError\u001b[0m                              Traceback (most recent call last)",
      "Cell \u001b[0;32mIn[14], line 3\u001b[0m\n\u001b[1;32m      1\u001b[0m \u001b[38;5;28;01mfrom\u001b[39;00m \u001b[38;5;21;01mhashlib\u001b[39;00m \u001b[38;5;28;01mimport\u001b[39;00m sha3_256\n\u001b[0;32m----> 3\u001b[0m \u001b[43manon\u001b[49m\u001b[38;5;241;43m.\u001b[39;49m\u001b[43mprocess\u001b[49m\u001b[43m(\u001b[49m\u001b[43malgorithm\u001b[49m\u001b[38;5;241;43m=\u001b[39;49m\u001b[38;5;28;43;01mlambda\u001b[39;49;00m\u001b[43m \u001b[49m\u001b[43mx\u001b[49m\u001b[43m:\u001b[49m\u001b[43m \u001b[49m\u001b[43msha3_256\u001b[49m\u001b[43m(\u001b[49m\u001b[43mx\u001b[49m\u001b[38;5;241;43m.\u001b[39;49m\u001b[43mencode\u001b[49m\u001b[43m(\u001b[49m\u001b[43m)\u001b[49m\u001b[43m)\u001b[49m\u001b[38;5;241;43m.\u001b[39;49m\u001b[43mhexdigest\u001b[49m\u001b[43m(\u001b[49m\u001b[43m)\u001b[49m\u001b[43m)\u001b[49m\n",
      "File \u001b[0;32m~/work/pega-datascientist-tools/pega-datascientist-tools/python/docs/source/articles/../../../pdstools/utils/hds_utils.py:516\u001b[0m, in \u001b[0;36mDataAnonymization.process\u001b[0;34m(self, strategy, **kwargs)\u001b[0m\n\u001b[1;32m    514\u001b[0m df \u001b[38;5;241m=\u001b[39m df\u001b[38;5;241m.\u001b[39mselect(\u001b[38;5;28mself\u001b[39m\u001b[38;5;241m.\u001b[39mcolumn_mapping\u001b[38;5;241m.\u001b[39mkeys())\u001b[38;5;241m.\u001b[39mrename(\u001b[38;5;28mself\u001b[39m\u001b[38;5;241m.\u001b[39mcolumn_mapping)\n\u001b[1;32m    515\u001b[0m \u001b[38;5;28;01mif\u001b[39;00m strategy \u001b[38;5;241m==\u001b[39m \u001b[38;5;124m\"\u001b[39m\u001b[38;5;124meager\u001b[39m\u001b[38;5;124m\"\u001b[39m:\n\u001b[0;32m--> 516\u001b[0m     \u001b[38;5;28;01mreturn\u001b[39;00m \u001b[43mdf\u001b[49m\u001b[38;5;241;43m.\u001b[39;49m\u001b[43mcollect\u001b[49m\u001b[43m(\u001b[49m\u001b[43m)\u001b[49m\n\u001b[1;32m    517\u001b[0m \u001b[38;5;28;01mreturn\u001b[39;00m df\n",
      "File \u001b[0;32m/opt/hostedtoolcache/Python/3.11.3/x64/lib/python3.11/site-packages/polars/lazyframe/frame.py:1603\u001b[0m, in \u001b[0;36mLazyFrame.collect\u001b[0;34m(self, type_coercion, predicate_pushdown, projection_pushdown, simplify_expression, no_optimization, slice_pushdown, common_subplan_elimination, streaming)\u001b[0m\n\u001b[1;32m   1592\u001b[0m     common_subplan_elimination \u001b[38;5;241m=\u001b[39m \u001b[38;5;28;01mFalse\u001b[39;00m\n\u001b[1;32m   1594\u001b[0m ldf \u001b[38;5;241m=\u001b[39m \u001b[38;5;28mself\u001b[39m\u001b[38;5;241m.\u001b[39m_ldf\u001b[38;5;241m.\u001b[39moptimization_toggle(\n\u001b[1;32m   1595\u001b[0m     type_coercion,\n\u001b[1;32m   1596\u001b[0m     predicate_pushdown,\n\u001b[0;32m   (...)\u001b[0m\n\u001b[1;32m   1601\u001b[0m     streaming,\n\u001b[1;32m   1602\u001b[0m )\n\u001b[0;32m-> 1603\u001b[0m \u001b[38;5;28;01mreturn\u001b[39;00m wrap_df(ldf\u001b[38;5;241m.\u001b[39mcollect())\n",
      "\u001b[0;31mComputeError\u001b[0m: AttributeError: 'int' object has no attribute 'encode'"
     ]
    }
   ],
   "source": [
    "from hashlib import sha3_256\n",
    "\n",
    "anon.process(algorithm=lambda x: sha3_256(x.encode()).hexdigest())"
   ]
  }
 ],
 "metadata": {
  "kernelspec": {
   "display_name": "Python 3",
   "language": "python",
   "name": "python3"
  },
  "language_info": {
   "codemirror_mode": {
    "name": "ipython",
    "version": 3
   },
   "file_extension": ".py",
   "mimetype": "text/x-python",
   "name": "python",
   "nbconvert_exporter": "python",
   "pygments_lexer": "ipython3",
   "version": "3.11.3"
  },
  "vscode": {
   "interpreter": {
    "hash": "aee8b7b246df8f9039afb4144a1f6fd8d2ca17a180786b69acc140d282b71a49"
   }
  }
 },
 "nbformat": 4,
 "nbformat_minor": 2
}
