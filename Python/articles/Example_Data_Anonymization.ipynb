{
 "cells": [
  {
   "attachments": {},
   "cell_type": "markdown",
   "metadata": {},
   "source": [
    "# Example data anonymization\n",
    "\n",
    "In Pega CDH 8.5 and up, it's now possible to record the historical data as seen by the Adaptive Models. See [this academy challenge](https://academy.pega.com/challenge/exporting-historical-data/v4) for reference. This historical data can be further used to experiment with offline models, but also to fine-tune the OOTB Gradient Boosting model. However, sharing this information with Pega can be sensitive as it contains raw predictor data. \n",
    "\n",
    "To this end, we provide a simple and transparent script to fully anonimize this dataset.\n",
    "\n",
    "The DataAnonymization script is now part of pdstools, and you can import it directly as such."
   ]
  },
  {
   "cell_type": "code",
   "execution_count": 1,
   "metadata": {
    "execution": {
     "iopub.execute_input": "2023-11-10T15:34:05.508610Z",
     "iopub.status.busy": "2023-11-10T15:34:05.508209Z",
     "iopub.status.idle": "2023-11-10T15:34:05.577605Z",
     "shell.execute_reply": "2023-11-10T15:34:05.577129Z"
    },
    "nbsphinx": "hidden"
   },
   "outputs": [],
   "source": [
    "# These lines are only for rendering in the docs, and are hidden through Jupyter tags\n",
    "# Do not run if you're running the notebook seperately\n",
    "\n",
    "import os  \n",
    "import sys\n",
    "import plotly.io as pio\n",
    "pio.renderers.default = \"notebook_connected\"\n",
    "\n",
    "sys.path.append(\"../../../\")\n",
    "sys.path.append('../../python')"
   ]
  },
  {
   "cell_type": "code",
   "execution_count": 2,
   "metadata": {
    "execution": {
     "iopub.execute_input": "2023-11-10T15:34:05.580042Z",
     "iopub.status.busy": "2023-11-10T15:34:05.579692Z",
     "iopub.status.idle": "2023-11-10T15:34:06.571646Z",
     "shell.execute_reply": "2023-11-10T15:34:06.571154Z"
    }
   },
   "outputs": [],
   "source": [
    "from pdstools import ADMDatamart\n",
    "from pdstools import Config, DataAnonymization\n",
    "import polars as pl"
   ]
  },
  {
   "attachments": {},
   "cell_type": "markdown",
   "metadata": {},
   "source": [
    "## Input data\n",
    "\n",
    "To demonstrate this process, we're going to anonymise this toy example dataframe:"
   ]
  },
  {
   "cell_type": "code",
   "execution_count": 3,
   "metadata": {
    "execution": {
     "iopub.execute_input": "2023-11-10T15:34:06.574300Z",
     "iopub.status.busy": "2023-11-10T15:34:06.573863Z",
     "iopub.status.idle": "2023-11-10T15:34:06.582040Z",
     "shell.execute_reply": "2023-11-10T15:34:06.581517Z"
    }
   },
   "outputs": [
    {
     "data": {
      "text/html": [
       "<div><style>\n",
       ".dataframe > thead > tr > th,\n",
       ".dataframe > tbody > tr > td {\n",
       "  text-align: right;\n",
       "  white-space: pre-wrap;\n",
       "}\n",
       "</style>\n",
       "<small>shape: (7, 6)</small><table border=\"1\" class=\"dataframe\"><thead><tr><th>Context_Name</th><th>Customer_MaritalStatus</th><th>Customer_CLV</th><th>Customer_City</th><th>IH_Web_Inbound_Accepted_pxLastGroupID</th><th>Decision_Outcome</th></tr><tr><td>str</td><td>str</td><td>i64</td><td>str</td><td>str</td><td>str</td></tr></thead><tbody><tr><td>&quot;FirstMortgage3…</td><td>&quot;Married&quot;</td><td>1460</td><td>&quot;Port Raoul&quot;</td><td>&quot;Account&quot;</td><td>&quot;Rejected&quot;</td></tr><tr><td>&quot;FirstMortgage3…</td><td>&quot;Unknown&quot;</td><td>669</td><td>&quot;Laurianneshire…</td><td>&quot;AutoLoans&quot;</td><td>&quot;Accepted&quot;</td></tr><tr><td>&quot;MoneyMarketSav…</td><td>&quot;No Resp+&quot;</td><td>1174</td><td>&quot;Jacobshaven&quot;</td><td>&quot;Account&quot;</td><td>&quot;Rejected&quot;</td></tr><tr><td>&quot;BasicChecking&quot;</td><td>&quot;Unknown&quot;</td><td>1476</td><td>&quot;Lindton&quot;</td><td>&quot;Account&quot;</td><td>&quot;Rejected&quot;</td></tr><tr><td>&quot;BasicChecking&quot;</td><td>&quot;Married&quot;</td><td>1211</td><td>&quot;South Jimmiesh…</td><td>&quot;DepositAccount…</td><td>&quot;Accepted&quot;</td></tr><tr><td>&quot;UPlusFinPerson…</td><td>&quot;No Resp+&quot;</td><td>533</td><td>&quot;Bergeville&quot;</td><td>null</td><td>&quot;Rejected&quot;</td></tr><tr><td>&quot;BasicChecking&quot;</td><td>&quot;No Resp+&quot;</td><td>555</td><td>&quot;Willyville&quot;</td><td>&quot;DepositAccount…</td><td>&quot;Rejected&quot;</td></tr></tbody></table></div>"
      ],
      "text/plain": [
       "shape: (7, 6)\n",
       "┌────────────────┬────────────────┬──────────────┬────────────────┬────────────────┬───────────────┐\n",
       "│ Context_Name   ┆ Customer_Marit ┆ Customer_CLV ┆ Customer_City  ┆ IH_Web_Inbound ┆ Decision_Outc │\n",
       "│ ---            ┆ alStatus       ┆ ---          ┆ ---            ┆ _Accepted_pxLa ┆ ome           │\n",
       "│ str            ┆ ---            ┆ i64          ┆ str            ┆ stGr…          ┆ ---           │\n",
       "│                ┆ str            ┆              ┆                ┆ ---            ┆ str           │\n",
       "│                ┆                ┆              ┆                ┆ str            ┆               │\n",
       "╞════════════════╪════════════════╪══════════════╪════════════════╪════════════════╪═══════════════╡\n",
       "│ FirstMortgage3 ┆ Married        ┆ 1460         ┆ Port Raoul     ┆ Account        ┆ Rejected      │\n",
       "│ 0yr            ┆                ┆              ┆                ┆                ┆               │\n",
       "│ FirstMortgage3 ┆ Unknown        ┆ 669          ┆ Laurianneshire ┆ AutoLoans      ┆ Accepted      │\n",
       "│ 0yr            ┆                ┆              ┆                ┆                ┆               │\n",
       "│ MoneyMarketSav ┆ No Resp+       ┆ 1174         ┆ Jacobshaven    ┆ Account        ┆ Rejected      │\n",
       "│ ingsAccount    ┆                ┆              ┆                ┆                ┆               │\n",
       "│ BasicChecking  ┆ Unknown        ┆ 1476         ┆ Lindton        ┆ Account        ┆ Rejected      │\n",
       "│ BasicChecking  ┆ Married        ┆ 1211         ┆ South          ┆ DepositAccount ┆ Accepted      │\n",
       "│                ┆                ┆              ┆ Jimmieshire    ┆ s              ┆               │\n",
       "│ UPlusFinPerson ┆ No Resp+       ┆ 533          ┆ Bergeville     ┆ null           ┆ Rejected      │\n",
       "│ al             ┆                ┆              ┆                ┆                ┆               │\n",
       "│ BasicChecking  ┆ No Resp+       ┆ 555          ┆ Willyville     ┆ DepositAccount ┆ Rejected      │\n",
       "│                ┆                ┆              ┆                ┆ s              ┆               │\n",
       "└────────────────┴────────────────┴──────────────┴────────────────┴────────────────┴───────────────┘"
      ]
     },
     "execution_count": 3,
     "metadata": {},
     "output_type": "execute_result"
    }
   ],
   "source": [
    "pl.read_ndjson('../../../../data/SampleHDS.json')"
   ]
  },
  {
   "attachments": {},
   "cell_type": "markdown",
   "metadata": {},
   "source": [
    "As you can see, this dataset consists of regular predictors, IH predictors, context keys and the outcome column. Additionally, some columns are numeric, others are strings. Let's first initialize the DataAnonymization class."
   ]
  },
  {
   "cell_type": "code",
   "execution_count": 4,
   "metadata": {
    "execution": {
     "iopub.execute_input": "2023-11-10T15:34:06.584177Z",
     "iopub.status.busy": "2023-11-10T15:34:06.583844Z",
     "iopub.status.idle": "2023-11-10T15:34:06.592464Z",
     "shell.execute_reply": "2023-11-10T15:34:06.592013Z"
    }
   },
   "outputs": [],
   "source": [
    "anon = DataAnonymization(hds_folder='../../../../data/')"
   ]
  },
  {
   "attachments": {},
   "cell_type": "markdown",
   "metadata": {},
   "source": [
    "By default, the class applies a set of anonymisation techniques:\n",
    "- Column names are remapped to a non-descriptive name\n",
    "- Categorical values are hashed with a random seed\n",
    "- Numerical values are normalized between 0 and 1\n",
    "- Outcomes are mapped to a binary outcome.\n",
    "\n",
    "To apply these techniques, simply call `.process()`:"
   ]
  },
  {
   "cell_type": "code",
   "execution_count": 5,
   "metadata": {
    "execution": {
     "iopub.execute_input": "2023-11-10T15:34:06.594522Z",
     "iopub.status.busy": "2023-11-10T15:34:06.594196Z",
     "iopub.status.idle": "2023-11-10T15:34:06.599615Z",
     "shell.execute_reply": "2023-11-10T15:34:06.599175Z"
    }
   },
   "outputs": [
    {
     "data": {
      "text/html": [
       "<div><style>\n",
       ".dataframe > thead > tr > th,\n",
       ".dataframe > tbody > tr > td {\n",
       "  text-align: right;\n",
       "  white-space: pre-wrap;\n",
       "}\n",
       "</style>\n",
       "<small>shape: (7, 7)</small><table border=\"1\" class=\"dataframe\"><thead><tr><th>filename</th><th>PREDICTOR_1</th><th>PREDICTOR_2</th><th>PREDICTOR_3</th><th>Context_Name</th><th>IH_PREDICTOR_0</th><th>Decision_Outcome</th></tr><tr><td>str</td><td>str</td><td>f64</td><td>str</td><td>str</td><td>str</td><td>bool</td></tr></thead><tbody><tr><td>&quot;../../../../da…</td><td>&quot;57925620893066…</td><td>1.2927e19</td><td>&quot;75066754262839…</td><td>&quot;10278086338889…</td><td>&quot;54818660762437…</td><td>false</td></tr><tr><td>&quot;../../../../da…</td><td>&quot;14866475360303…</td><td>1.4856e19</td><td>&quot;12144091150931…</td><td>&quot;10278086338889…</td><td>&quot;64146909092500…</td><td>true</td></tr><tr><td>&quot;../../../../da…</td><td>&quot;16646977193963…</td><td>5.6458e17</td><td>&quot;13927408312694…</td><td>&quot;13623014725081…</td><td>&quot;54818660762437…</td><td>false</td></tr><tr><td>&quot;../../../../da…</td><td>&quot;14866475360303…</td><td>4.0723e18</td><td>&quot;12129841143723…</td><td>&quot;52564918156695…</td><td>&quot;54818660762437…</td><td>false</td></tr><tr><td>&quot;../../../../da…</td><td>&quot;57925620893066…</td><td>1.4677e19</td><td>&quot;11339134990977…</td><td>&quot;52564918156695…</td><td>&quot;20369158387707…</td><td>true</td></tr><tr><td>&quot;../../../../da…</td><td>&quot;16646977193963…</td><td>1.6330e19</td><td>&quot;69373868024785…</td><td>&quot;78152354260030…</td><td>null</td><td>false</td></tr><tr><td>&quot;../../../../da…</td><td>&quot;16646977193963…</td><td>8.7675e18</td><td>&quot;68497367365803…</td><td>&quot;52564918156695…</td><td>&quot;20369158387707…</td><td>false</td></tr></tbody></table></div>"
      ],
      "text/plain": [
       "shape: (7, 7)\n",
       "┌──────────────┬─────────────┬─────────────┬─────────────┬─────────────┬─────────────┬─────────────┐\n",
       "│ filename     ┆ PREDICTOR_1 ┆ PREDICTOR_2 ┆ PREDICTOR_3 ┆ Context_Nam ┆ IH_PREDICTO ┆ Decision_Ou │\n",
       "│ ---          ┆ ---         ┆ ---         ┆ ---         ┆ e           ┆ R_0         ┆ tcome       │\n",
       "│ str          ┆ str         ┆ f64         ┆ str         ┆ ---         ┆ ---         ┆ ---         │\n",
       "│              ┆             ┆             ┆             ┆ str         ┆ str         ┆ bool        │\n",
       "╞══════════════╪═════════════╪═════════════╪═════════════╪═════════════╪═════════════╪═════════════╡\n",
       "│ ../../../../ ┆ 57925620893 ┆ 1.2927e19   ┆ 75066754262 ┆ 10278086338 ┆ 54818660762 ┆ false       │\n",
       "│ data/SampleH ┆ 06688189    ┆             ┆ 83955132    ┆ 889942697   ┆ 43748799    ┆             │\n",
       "│ DS.json      ┆             ┆             ┆             ┆             ┆             ┆             │\n",
       "│ ../../../../ ┆ 14866475360 ┆ 1.4856e19   ┆ 12144091150 ┆ 10278086338 ┆ 64146909092 ┆ true        │\n",
       "│ data/SampleH ┆ 303616928   ┆             ┆ 931744991   ┆ 889942697   ┆ 50055249    ┆             │\n",
       "│ DS.json      ┆             ┆             ┆             ┆             ┆             ┆             │\n",
       "│ ../../../../ ┆ 16646977193 ┆ 5.6458e17   ┆ 13927408312 ┆ 13623014725 ┆ 54818660762 ┆ false       │\n",
       "│ data/SampleH ┆ 96347277    ┆             ┆ 694891824   ┆ 081738778   ┆ 43748799    ┆             │\n",
       "│ DS.json      ┆             ┆             ┆             ┆             ┆             ┆             │\n",
       "│ ../../../../ ┆ 14866475360 ┆ 4.0723e18   ┆ 12129841143 ┆ 52564918156 ┆ 54818660762 ┆ false       │\n",
       "│ data/SampleH ┆ 303616928   ┆             ┆ 723493787   ┆ 69529413    ┆ 43748799    ┆             │\n",
       "│ DS.json      ┆             ┆             ┆             ┆             ┆             ┆             │\n",
       "│ ../../../../ ┆ 57925620893 ┆ 1.4677e19   ┆ 11339134990 ┆ 52564918156 ┆ 20369158387 ┆ true        │\n",
       "│ data/SampleH ┆ 06688189    ┆             ┆ 977209666   ┆ 69529413    ┆ 70766219    ┆             │\n",
       "│ DS.json      ┆             ┆             ┆             ┆             ┆             ┆             │\n",
       "│ ../../../../ ┆ 16646977193 ┆ 1.6330e19   ┆ 69373868024 ┆ 78152354260 ┆ null        ┆ false       │\n",
       "│ data/SampleH ┆ 96347277    ┆             ┆ 78532198    ┆ 03023445    ┆             ┆             │\n",
       "│ DS.json      ┆             ┆             ┆             ┆             ┆             ┆             │\n",
       "│ ../../../../ ┆ 16646977193 ┆ 8.7675e18   ┆ 68497367365 ┆ 52564918156 ┆ 20369158387 ┆ false       │\n",
       "│ data/SampleH ┆ 96347277    ┆             ┆ 80369142    ┆ 69529413    ┆ 70766219    ┆             │\n",
       "│ DS.json      ┆             ┆             ┆             ┆             ┆             ┆             │\n",
       "└──────────────┴─────────────┴─────────────┴─────────────┴─────────────┴─────────────┴─────────────┘"
      ]
     },
     "execution_count": 5,
     "metadata": {},
     "output_type": "execute_result"
    }
   ],
   "source": [
    "anon.process()"
   ]
  },
  {
   "attachments": {},
   "cell_type": "markdown",
   "metadata": {},
   "source": [
    "To trace back the columns to their original names, the class also contains a mapping, which does not have to be provided."
   ]
  },
  {
   "cell_type": "code",
   "execution_count": 6,
   "metadata": {
    "execution": {
     "iopub.execute_input": "2023-11-10T15:34:06.601678Z",
     "iopub.status.busy": "2023-11-10T15:34:06.601293Z",
     "iopub.status.idle": "2023-11-10T15:34:06.605037Z",
     "shell.execute_reply": "2023-11-10T15:34:06.604499Z"
    }
   },
   "outputs": [
    {
     "data": {
      "text/plain": [
       "{'filename': 'filename',\n",
       " 'Customer_MaritalStatus': 'PREDICTOR_1',\n",
       " 'Customer_CLV': 'PREDICTOR_2',\n",
       " 'Customer_City': 'PREDICTOR_3',\n",
       " 'Context_Name': 'Context_Name',\n",
       " 'IH_Web_Inbound_Accepted_pxLastGroupID': 'IH_PREDICTOR_0',\n",
       " 'Decision_Outcome': 'Decision_Outcome'}"
      ]
     },
     "execution_count": 6,
     "metadata": {},
     "output_type": "execute_result"
    }
   ],
   "source": [
    "anon.column_mapping"
   ]
  },
  {
   "attachments": {},
   "cell_type": "markdown",
   "metadata": {},
   "source": [
    "## Configs\n",
    "\n",
    "Each capability can optionally be turned off - see below for the full list of config options, and refer to the API reference for the full description."
   ]
  },
  {
   "cell_type": "code",
   "execution_count": 7,
   "metadata": {
    "execution": {
     "iopub.execute_input": "2023-11-10T15:34:06.607130Z",
     "iopub.status.busy": "2023-11-10T15:34:06.606701Z",
     "iopub.status.idle": "2023-11-10T15:34:06.610947Z",
     "shell.execute_reply": "2023-11-10T15:34:06.610405Z"
    }
   },
   "outputs": [
    {
     "data": {
      "text/plain": [
       "{'config_file': None,\n",
       " 'hds_folder': '.',\n",
       " 'use_datamart': False,\n",
       " 'datamart_folder': 'datamart',\n",
       " 'output_format': 'ndjson',\n",
       " 'output_folder': 'output',\n",
       " 'mapping_file': 'mapping.map',\n",
       " 'mask_predictor_names': True,\n",
       " 'mask_context_key_names': False,\n",
       " 'mask_ih_names': True,\n",
       " 'mask_outcome_name': False,\n",
       " 'mask_predictor_values': True,\n",
       " 'mask_context_key_values': True,\n",
       " 'mask_ih_values': True,\n",
       " 'mask_outcome_values': True,\n",
       " 'context_key_label': 'Context_*',\n",
       " 'ih_label': 'IH_*',\n",
       " 'outcome_column': 'Decision_Outcome',\n",
       " 'positive_outcomes': ['Accepted', 'Clicked'],\n",
       " 'negative_outcomes': ['Rejected', 'Impression'],\n",
       " 'special_predictors': ['Decision_DecisionTime',\n",
       "  'Decision_OutcomeTime',\n",
       "  'Decision_Rank'],\n",
       " 'sample_percentage_schema_inferencing': 0.01}"
      ]
     },
     "execution_count": 7,
     "metadata": {},
     "output_type": "execute_result"
    }
   ],
   "source": [
    "dict(zip(Config.__init__.__code__.co_varnames[1:], Config.__init__.__defaults__))"
   ]
  },
  {
   "attachments": {},
   "cell_type": "markdown",
   "metadata": {},
   "source": [
    "It's easy to change these parameters by just passing the keyword arguments. In the following example, we\n",
    "- Keep the IH predictor names\n",
    "- Keep the outcome values\n",
    "- Keep the context key values\n",
    "- Keep the context key predictor names"
   ]
  },
  {
   "cell_type": "code",
   "execution_count": 8,
   "metadata": {
    "execution": {
     "iopub.execute_input": "2023-11-10T15:34:06.613093Z",
     "iopub.status.busy": "2023-11-10T15:34:06.612768Z",
     "iopub.status.idle": "2023-11-10T15:34:06.624172Z",
     "shell.execute_reply": "2023-11-10T15:34:06.623725Z"
    }
   },
   "outputs": [
    {
     "data": {
      "text/html": [
       "<div><style>\n",
       ".dataframe > thead > tr > th,\n",
       ".dataframe > tbody > tr > td {\n",
       "  text-align: right;\n",
       "  white-space: pre-wrap;\n",
       "}\n",
       "</style>\n",
       "<small>shape: (7, 7)</small><table border=\"1\" class=\"dataframe\"><thead><tr><th>filename</th><th>PREDICTOR_1</th><th>PREDICTOR_2</th><th>PREDICTOR_3</th><th>Context_Name</th><th>IH_Web_Inbound_Accepted_pxLastGroupID</th><th>Decision_Outcome</th></tr><tr><td>str</td><td>str</td><td>f64</td><td>str</td><td>str</td><td>str</td><td>str</td></tr></thead><tbody><tr><td>&quot;../../../../da…</td><td>&quot;74880568720865…</td><td>1.2927e19</td><td>&quot;14563318828553…</td><td>&quot;FirstMortgage3…</td><td>&quot;11830070873775…</td><td>&quot;Rejected&quot;</td></tr><tr><td>&quot;../../../../da…</td><td>&quot;15600781327422…</td><td>1.4856e19</td><td>&quot;98968838020953…</td><td>&quot;FirstMortgage3…</td><td>&quot;17465585589540…</td><td>&quot;Accepted&quot;</td></tr><tr><td>&quot;../../../../da…</td><td>&quot;10964401843278…</td><td>5.6458e17</td><td>&quot;87026388244953…</td><td>&quot;MoneyMarketSav…</td><td>&quot;11830070873775…</td><td>&quot;Rejected&quot;</td></tr><tr><td>&quot;../../../../da…</td><td>&quot;15600781327422…</td><td>4.0723e18</td><td>&quot;12711762811804…</td><td>&quot;BasicChecking&quot;</td><td>&quot;11830070873775…</td><td>&quot;Rejected&quot;</td></tr><tr><td>&quot;../../../../da…</td><td>&quot;74880568720865…</td><td>1.4677e19</td><td>&quot;12772350149548…</td><td>&quot;BasicChecking&quot;</td><td>&quot;70840937993834…</td><td>&quot;Accepted&quot;</td></tr><tr><td>&quot;../../../../da…</td><td>&quot;10964401843278…</td><td>1.6330e19</td><td>&quot;36355058311512…</td><td>&quot;UPlusFinPerson…</td><td>null</td><td>&quot;Rejected&quot;</td></tr><tr><td>&quot;../../../../da…</td><td>&quot;10964401843278…</td><td>8.7675e18</td><td>&quot;15305879623994…</td><td>&quot;BasicChecking&quot;</td><td>&quot;70840937993834…</td><td>&quot;Rejected&quot;</td></tr></tbody></table></div>"
      ],
      "text/plain": [
       "shape: (7, 7)\n",
       "┌──────────────┬─────────────┬─────────────┬─────────────┬─────────────┬─────────────┬─────────────┐\n",
       "│ filename     ┆ PREDICTOR_1 ┆ PREDICTOR_2 ┆ PREDICTOR_3 ┆ Context_Nam ┆ IH_Web_Inbo ┆ Decision_Ou │\n",
       "│ ---          ┆ ---         ┆ ---         ┆ ---         ┆ e           ┆ und_Accepte ┆ tcome       │\n",
       "│ str          ┆ str         ┆ f64         ┆ str         ┆ ---         ┆ d_pxLastGr… ┆ ---         │\n",
       "│              ┆             ┆             ┆             ┆ str         ┆ ---         ┆ str         │\n",
       "│              ┆             ┆             ┆             ┆             ┆ str         ┆             │\n",
       "╞══════════════╪═════════════╪═════════════╪═════════════╪═════════════╪═════════════╪═════════════╡\n",
       "│ ../../../../ ┆ 74880568720 ┆ 1.2927e19   ┆ 14563318828 ┆ FirstMortga ┆ 11830070873 ┆ Rejected    │\n",
       "│ data/SampleH ┆ 86572026    ┆             ┆ 553187831   ┆ ge30yr      ┆ 775324134   ┆             │\n",
       "│ DS.json      ┆             ┆             ┆             ┆             ┆             ┆             │\n",
       "│ ../../../../ ┆ 15600781327 ┆ 1.4856e19   ┆ 98968838020 ┆ FirstMortga ┆ 17465585589 ┆ Accepted    │\n",
       "│ data/SampleH ┆ 422999927   ┆             ┆ 95371756    ┆ ge30yr      ┆ 540345492   ┆             │\n",
       "│ DS.json      ┆             ┆             ┆             ┆             ┆             ┆             │\n",
       "│ ../../../../ ┆ 10964401843 ┆ 5.6458e17   ┆ 87026388244 ┆ MoneyMarket ┆ 11830070873 ┆ Rejected    │\n",
       "│ data/SampleH ┆ 278757795   ┆             ┆ 95359313    ┆ SavingsAcco ┆ 775324134   ┆             │\n",
       "│ DS.json      ┆             ┆             ┆             ┆ unt         ┆             ┆             │\n",
       "│ ../../../../ ┆ 15600781327 ┆ 4.0723e18   ┆ 12711762811 ┆ BasicChecki ┆ 11830070873 ┆ Rejected    │\n",
       "│ data/SampleH ┆ 422999927   ┆             ┆ 80476266    ┆ ng          ┆ 775324134   ┆             │\n",
       "│ DS.json      ┆             ┆             ┆             ┆             ┆             ┆             │\n",
       "│ ../../../../ ┆ 74880568720 ┆ 1.4677e19   ┆ 12772350149 ┆ BasicChecki ┆ 70840937993 ┆ Accepted    │\n",
       "│ data/SampleH ┆ 86572026    ┆             ┆ 548579503   ┆ ng          ┆ 83469810    ┆             │\n",
       "│ DS.json      ┆             ┆             ┆             ┆             ┆             ┆             │\n",
       "│ ../../../../ ┆ 10964401843 ┆ 1.6330e19   ┆ 36355058311 ┆ UPlusFinPer ┆ null        ┆ Rejected    │\n",
       "│ data/SampleH ┆ 278757795   ┆             ┆ 51255305    ┆ sonal       ┆             ┆             │\n",
       "│ DS.json      ┆             ┆             ┆             ┆             ┆             ┆             │\n",
       "│ ../../../../ ┆ 10964401843 ┆ 8.7675e18   ┆ 15305879623 ┆ BasicChecki ┆ 70840937993 ┆ Rejected    │\n",
       "│ data/SampleH ┆ 278757795   ┆             ┆ 994427248   ┆ ng          ┆ 83469810    ┆             │\n",
       "│ DS.json      ┆             ┆             ┆             ┆             ┆             ┆             │\n",
       "└──────────────┴─────────────┴─────────────┴─────────────┴─────────────┴─────────────┴─────────────┘"
      ]
     },
     "execution_count": 8,
     "metadata": {},
     "output_type": "execute_result"
    }
   ],
   "source": [
    "anon = DataAnonymization(\n",
    "    hds_folder=\"../../../../data/\",\n",
    "    mask_ih_names=False,\n",
    "    mask_outcome_values=False,\n",
    "    mask_context_key_values=False,\n",
    "    mask_context_key_names=False,\n",
    ")\n",
    "anon.process()\n"
   ]
  },
  {
   "attachments": {},
   "cell_type": "markdown",
   "metadata": {},
   "source": [
    "The configs can also be written and read as such:"
   ]
  },
  {
   "cell_type": "code",
   "execution_count": 9,
   "metadata": {
    "execution": {
     "iopub.execute_input": "2023-11-10T15:34:06.625991Z",
     "iopub.status.busy": "2023-11-10T15:34:06.625801Z",
     "iopub.status.idle": "2023-11-10T15:34:06.628626Z",
     "shell.execute_reply": "2023-11-10T15:34:06.628172Z"
    }
   },
   "outputs": [],
   "source": [
    "anon.config.save_to_config_file('config.json')"
   ]
  },
  {
   "cell_type": "code",
   "execution_count": 10,
   "metadata": {
    "execution": {
     "iopub.execute_input": "2023-11-10T15:34:06.630360Z",
     "iopub.status.busy": "2023-11-10T15:34:06.630197Z",
     "iopub.status.idle": "2023-11-10T15:34:06.640160Z",
     "shell.execute_reply": "2023-11-10T15:34:06.639588Z"
    }
   },
   "outputs": [
    {
     "data": {
      "text/html": [
       "<div><style>\n",
       ".dataframe > thead > tr > th,\n",
       ".dataframe > tbody > tr > td {\n",
       "  text-align: right;\n",
       "  white-space: pre-wrap;\n",
       "}\n",
       "</style>\n",
       "<small>shape: (7, 7)</small><table border=\"1\" class=\"dataframe\"><thead><tr><th>filename</th><th>PREDICTOR_1</th><th>PREDICTOR_2</th><th>PREDICTOR_3</th><th>Context_Name</th><th>IH_Web_Inbound_Accepted_pxLastGroupID</th><th>Decision_Outcome</th></tr><tr><td>str</td><td>str</td><td>f64</td><td>str</td><td>str</td><td>str</td><td>str</td></tr></thead><tbody><tr><td>&quot;../../../../da…</td><td>&quot;17753895406365…</td><td>1.2927e19</td><td>&quot;16314819740186…</td><td>&quot;FirstMortgage3…</td><td>&quot;97963110247883…</td><td>&quot;Rejected&quot;</td></tr><tr><td>&quot;../../../../da…</td><td>&quot;74747434860573…</td><td>1.4856e19</td><td>&quot;16360284013953…</td><td>&quot;FirstMortgage3…</td><td>&quot;10119881501283…</td><td>&quot;Accepted&quot;</td></tr><tr><td>&quot;../../../../da…</td><td>&quot;15232088718525…</td><td>5.6458e17</td><td>&quot;81013773784367…</td><td>&quot;MoneyMarketSav…</td><td>&quot;97963110247883…</td><td>&quot;Rejected&quot;</td></tr><tr><td>&quot;../../../../da…</td><td>&quot;74747434860573…</td><td>4.0723e18</td><td>&quot;16131235052450…</td><td>&quot;BasicChecking&quot;</td><td>&quot;97963110247883…</td><td>&quot;Rejected&quot;</td></tr><tr><td>&quot;../../../../da…</td><td>&quot;17753895406365…</td><td>1.4677e19</td><td>&quot;35068274395988…</td><td>&quot;BasicChecking&quot;</td><td>&quot;18179614356063…</td><td>&quot;Accepted&quot;</td></tr><tr><td>&quot;../../../../da…</td><td>&quot;15232088718525…</td><td>1.6330e19</td><td>&quot;15340376283919…</td><td>&quot;UPlusFinPerson…</td><td>null</td><td>&quot;Rejected&quot;</td></tr><tr><td>&quot;../../../../da…</td><td>&quot;15232088718525…</td><td>8.7675e18</td><td>&quot;19769148042924…</td><td>&quot;BasicChecking&quot;</td><td>&quot;18179614356063…</td><td>&quot;Rejected&quot;</td></tr></tbody></table></div>"
      ],
      "text/plain": [
       "shape: (7, 7)\n",
       "┌──────────────┬─────────────┬─────────────┬─────────────┬─────────────┬─────────────┬─────────────┐\n",
       "│ filename     ┆ PREDICTOR_1 ┆ PREDICTOR_2 ┆ PREDICTOR_3 ┆ Context_Nam ┆ IH_Web_Inbo ┆ Decision_Ou │\n",
       "│ ---          ┆ ---         ┆ ---         ┆ ---         ┆ e           ┆ und_Accepte ┆ tcome       │\n",
       "│ str          ┆ str         ┆ f64         ┆ str         ┆ ---         ┆ d_pxLastGr… ┆ ---         │\n",
       "│              ┆             ┆             ┆             ┆ str         ┆ ---         ┆ str         │\n",
       "│              ┆             ┆             ┆             ┆             ┆ str         ┆             │\n",
       "╞══════════════╪═════════════╪═════════════╪═════════════╪═════════════╪═════════════╪═════════════╡\n",
       "│ ../../../../ ┆ 17753895406 ┆ 1.2927e19   ┆ 16314819740 ┆ FirstMortga ┆ 97963110247 ┆ Rejected    │\n",
       "│ data/SampleH ┆ 36517270    ┆             ┆ 186104676   ┆ ge30yr      ┆ 88343451    ┆             │\n",
       "│ DS.json      ┆             ┆             ┆             ┆             ┆             ┆             │\n",
       "│ ../../../../ ┆ 74747434860 ┆ 1.4856e19   ┆ 16360284013 ┆ FirstMortga ┆ 10119881501 ┆ Accepted    │\n",
       "│ data/SampleH ┆ 57376907    ┆             ┆ 953840294   ┆ ge30yr      ┆ 283369676   ┆             │\n",
       "│ DS.json      ┆             ┆             ┆             ┆             ┆             ┆             │\n",
       "│ ../../../../ ┆ 15232088718 ┆ 5.6458e17   ┆ 81013773784 ┆ MoneyMarket ┆ 97963110247 ┆ Rejected    │\n",
       "│ data/SampleH ┆ 525662418   ┆             ┆ 36756091    ┆ SavingsAcco ┆ 88343451    ┆             │\n",
       "│ DS.json      ┆             ┆             ┆             ┆ unt         ┆             ┆             │\n",
       "│ ../../../../ ┆ 74747434860 ┆ 4.0723e18   ┆ 16131235052 ┆ BasicChecki ┆ 97963110247 ┆ Rejected    │\n",
       "│ data/SampleH ┆ 57376907    ┆             ┆ 450150240   ┆ ng          ┆ 88343451    ┆             │\n",
       "│ DS.json      ┆             ┆             ┆             ┆             ┆             ┆             │\n",
       "│ ../../../../ ┆ 17753895406 ┆ 1.4677e19   ┆ 35068274395 ┆ BasicChecki ┆ 18179614356 ┆ Accepted    │\n",
       "│ data/SampleH ┆ 36517270    ┆             ┆ 98864616    ┆ ng          ┆ 06316615    ┆             │\n",
       "│ DS.json      ┆             ┆             ┆             ┆             ┆             ┆             │\n",
       "│ ../../../../ ┆ 15232088718 ┆ 1.6330e19   ┆ 15340376283 ┆ UPlusFinPer ┆ null        ┆ Rejected    │\n",
       "│ data/SampleH ┆ 525662418   ┆             ┆ 919110146   ┆ sonal       ┆             ┆             │\n",
       "│ DS.json      ┆             ┆             ┆             ┆             ┆             ┆             │\n",
       "│ ../../../../ ┆ 15232088718 ┆ 8.7675e18   ┆ 19769148042 ┆ BasicChecki ┆ 18179614356 ┆ Rejected    │\n",
       "│ data/SampleH ┆ 525662418   ┆             ┆ 92489254    ┆ ng          ┆ 06316615    ┆             │\n",
       "│ DS.json      ┆             ┆             ┆             ┆             ┆             ┆             │\n",
       "└──────────────┴─────────────┴─────────────┴─────────────┴─────────────┴─────────────┴─────────────┘"
      ]
     },
     "execution_count": 10,
     "metadata": {},
     "output_type": "execute_result"
    }
   ],
   "source": [
    "anon = DataAnonymization(config=Config(config_file='config.json'))\n",
    "anon.process()"
   ]
  },
  {
   "attachments": {},
   "cell_type": "markdown",
   "metadata": {},
   "source": [
    "## Exporting\n",
    "Two functions export:\n",
    "- `create_mapping_file()` writes the mapping file of the predictor names\n",
    "- `write_to_output()` writes the processed dataframe to disk\n",
    "\n",
    "Write to output accepts the following extensions: `[\"ndjson\", \"parquet\", \"arrow\", \"csv\"]`"
   ]
  },
  {
   "cell_type": "code",
   "execution_count": 11,
   "metadata": {
    "execution": {
     "iopub.execute_input": "2023-11-10T15:34:06.642275Z",
     "iopub.status.busy": "2023-11-10T15:34:06.641909Z",
     "iopub.status.idle": "2023-11-10T15:34:06.645215Z",
     "shell.execute_reply": "2023-11-10T15:34:06.644793Z"
    }
   },
   "outputs": [
    {
     "name": "stdout",
     "output_type": "stream",
     "text": [
      "filename=filename\n",
      "Customer_MaritalStatus=PREDICTOR_1\n",
      "Customer_CLV=PREDICTOR_2\n",
      "Customer_City=PREDICTOR_3\n",
      "Context_Name=Context_Name\n",
      "IH_Web_Inbound_Accepted_pxLastGroupID=IH_Web_Inbound_Accepted_pxLastGroupID\n",
      "Decision_Outcome=Decision_Outcome\n",
      "\n"
     ]
    }
   ],
   "source": [
    "anon.create_mapping_file()\n",
    "with open('mapping.map') as f:\n",
    "    print(f.read())"
   ]
  },
  {
   "cell_type": "code",
   "execution_count": 12,
   "metadata": {
    "execution": {
     "iopub.execute_input": "2023-11-10T15:34:06.647312Z",
     "iopub.status.busy": "2023-11-10T15:34:06.646821Z",
     "iopub.status.idle": "2023-11-10T15:34:06.650297Z",
     "shell.execute_reply": "2023-11-10T15:34:06.649885Z"
    }
   },
   "outputs": [],
   "source": [
    "anon.write_to_output(ext='arrow')"
   ]
  },
  {
   "cell_type": "code",
   "execution_count": 13,
   "metadata": {
    "execution": {
     "iopub.execute_input": "2023-11-10T15:34:06.652211Z",
     "iopub.status.busy": "2023-11-10T15:34:06.651895Z",
     "iopub.status.idle": "2023-11-10T15:34:06.656289Z",
     "shell.execute_reply": "2023-11-10T15:34:06.655837Z"
    }
   },
   "outputs": [
    {
     "data": {
      "text/html": [
       "<div><style>\n",
       ".dataframe > thead > tr > th,\n",
       ".dataframe > tbody > tr > td {\n",
       "  text-align: right;\n",
       "  white-space: pre-wrap;\n",
       "}\n",
       "</style>\n",
       "<small>shape: (7, 6)</small><table border=\"1\" class=\"dataframe\"><thead><tr><th>PREDICTOR_1</th><th>PREDICTOR_2</th><th>PREDICTOR_3</th><th>Context_Name</th><th>IH_Web_Inbound_Accepted_pxLastGroupID</th><th>Decision_Outcome</th></tr><tr><td>str</td><td>f64</td><td>str</td><td>str</td><td>str</td><td>str</td></tr></thead><tbody><tr><td>&quot;19777457967654…</td><td>1.2927e19</td><td>&quot;11689237368159…</td><td>&quot;FirstMortgage3…</td><td>&quot;15996412487856…</td><td>&quot;Rejected&quot;</td></tr><tr><td>&quot;11327911203565…</td><td>1.4856e19</td><td>&quot;26459030642273…</td><td>&quot;FirstMortgage3…</td><td>&quot;17697552901449…</td><td>&quot;Accepted&quot;</td></tr><tr><td>&quot;20576345260512…</td><td>5.6458e17</td><td>&quot;64121587656405…</td><td>&quot;MoneyMarketSav…</td><td>&quot;15996412487856…</td><td>&quot;Rejected&quot;</td></tr><tr><td>&quot;11327911203565…</td><td>4.0723e18</td><td>&quot;90318911539513…</td><td>&quot;BasicChecking&quot;</td><td>&quot;15996412487856…</td><td>&quot;Rejected&quot;</td></tr><tr><td>&quot;19777457967654…</td><td>1.4677e19</td><td>&quot;10796876758558…</td><td>&quot;BasicChecking&quot;</td><td>&quot;35571524428366…</td><td>&quot;Accepted&quot;</td></tr><tr><td>&quot;20576345260512…</td><td>1.6330e19</td><td>&quot;15192098354940…</td><td>&quot;UPlusFinPerson…</td><td>null</td><td>&quot;Rejected&quot;</td></tr><tr><td>&quot;20576345260512…</td><td>8.7675e18</td><td>&quot;11429470325564…</td><td>&quot;BasicChecking&quot;</td><td>&quot;35571524428366…</td><td>&quot;Rejected&quot;</td></tr></tbody></table></div>"
      ],
      "text/plain": [
       "shape: (7, 6)\n",
       "┌────────────────┬─────────────┬────────────────┬────────────────┬────────────────┬────────────────┐\n",
       "│ PREDICTOR_1    ┆ PREDICTOR_2 ┆ PREDICTOR_3    ┆ Context_Name   ┆ IH_Web_Inbound ┆ Decision_Outco │\n",
       "│ ---            ┆ ---         ┆ ---            ┆ ---            ┆ _Accepted_pxLa ┆ me             │\n",
       "│ str            ┆ f64         ┆ str            ┆ str            ┆ stGr…          ┆ ---            │\n",
       "│                ┆             ┆                ┆                ┆ ---            ┆ str            │\n",
       "│                ┆             ┆                ┆                ┆ str            ┆                │\n",
       "╞════════════════╪═════════════╪════════════════╪════════════════╪════════════════╪════════════════╡\n",
       "│ 19777457967654 ┆ 1.2927e19   ┆ 11689237368159 ┆ FirstMortgage3 ┆ 15996412487856 ┆ Rejected       │\n",
       "│ 49590          ┆             ┆ 482483         ┆ 0yr            ┆ 005560         ┆                │\n",
       "│ 11327911203565 ┆ 1.4856e19   ┆ 26459030642273 ┆ FirstMortgage3 ┆ 17697552901449 ┆ Accepted       │\n",
       "│ 615124         ┆             ┆ 22576          ┆ 0yr            ┆ 618905         ┆                │\n",
       "│ 20576345260512 ┆ 5.6458e17   ┆ 64121587656405 ┆ MoneyMarketSav ┆ 15996412487856 ┆ Rejected       │\n",
       "│ 93924          ┆             ┆ 64392          ┆ ingsAccount    ┆ 005560         ┆                │\n",
       "│ 11327911203565 ┆ 4.0723e18   ┆ 90318911539513 ┆ BasicChecking  ┆ 15996412487856 ┆ Rejected       │\n",
       "│ 615124         ┆             ┆ 93102          ┆                ┆ 005560         ┆                │\n",
       "│ 19777457967654 ┆ 1.4677e19   ┆ 10796876758558 ┆ BasicChecking  ┆ 35571524428366 ┆ Accepted       │\n",
       "│ 49590          ┆             ┆ 580029         ┆                ┆ 36093          ┆                │\n",
       "│ 20576345260512 ┆ 1.6330e19   ┆ 15192098354940 ┆ UPlusFinPerson ┆ null           ┆ Rejected       │\n",
       "│ 93924          ┆             ┆ 596088         ┆ al             ┆                ┆                │\n",
       "│ 20576345260512 ┆ 8.7675e18   ┆ 11429470325564 ┆ BasicChecking  ┆ 35571524428366 ┆ Rejected       │\n",
       "│ 93924          ┆             ┆ 416662         ┆                ┆ 36093          ┆                │\n",
       "└────────────────┴─────────────┴────────────────┴────────────────┴────────────────┴────────────────┘"
      ]
     },
     "execution_count": 13,
     "metadata": {},
     "output_type": "execute_result"
    }
   ],
   "source": [
    "pl.read_ipc('output/hds.arrow')"
   ]
  },
  {
   "attachments": {},
   "cell_type": "markdown",
   "metadata": {
    "nbsphinx": "hidden"
   },
   "source": [
    "## Advanced: Hash fuctions\n",
    "\n",
    "By default, we use [the same hashing algorithm Polars](https://pola-rs.github.io/polars/py-polars/html/reference/expressions/api/polars.Expr.hash.html#polars.Expr.hash) uses: [xxhash](https://github.com/Cyan4973/xxHash), as implemented [here](https://github.com/pola-rs/polars/blob/3f287f370b3c388ed2f3f218b2c096382548136f/polars/polars-core/src/vector_hasher.rs#L266). xxhash is fast to compute, and you can check its performance in collision, dispersion and randomness [here](https://github.com/Cyan4973/xxHash/tree/dev/tests). \n",
    "\n",
    "xxhash accepts four distinct seeds, but by default we set the seeds to `0`. It is possible to set the `seed` argument of the `process()` function to `'random'`, which will set all four seeds to a random integer between `0` and `1000000000`. Alternatively, it is possible to supply the four seeds manually with arguments `seed`, `seed_1`, `seed_2` and `seed_3`. \n",
    "\n",
    "If the xxhash with (random) seed(s) is not deemed sufficiently secure, it is possible to use your own hashing algorithm.\n",
    "\n",
    "Note that since we're now running python code and not native Polars code anymore, this will be _significantly_ slower. Nonetheless, it is possible.\n",
    "\n",
    "Just as an example - this is how one would use sha3_256:"
   ]
  },
  {
   "cell_type": "code",
   "execution_count": 14,
   "metadata": {
    "execution": {
     "iopub.execute_input": "2023-11-10T15:34:06.658320Z",
     "iopub.status.busy": "2023-11-10T15:34:06.657957Z",
     "iopub.status.idle": "2023-11-10T15:34:06.975996Z",
     "shell.execute_reply": "2023-11-10T15:34:06.975471Z"
    },
    "nbsphinx": "hidden"
   },
   "outputs": [
    {
     "ename": "ComputeError",
     "evalue": "AttributeError: 'int' object has no attribute 'encode'",
     "output_type": "error",
     "traceback": [
      "\u001b[0;31m---------------------------------------------------------------------------\u001b[0m",
      "\u001b[0;31mComputeError\u001b[0m                              Traceback (most recent call last)",
      "Cell \u001b[0;32mIn[14], line 3\u001b[0m\n\u001b[1;32m      1\u001b[0m \u001b[38;5;28;01mfrom\u001b[39;00m \u001b[38;5;21;01mhashlib\u001b[39;00m \u001b[38;5;28;01mimport\u001b[39;00m sha3_256\n\u001b[0;32m----> 3\u001b[0m \u001b[43manon\u001b[49m\u001b[38;5;241;43m.\u001b[39;49m\u001b[43mprocess\u001b[49m\u001b[43m(\u001b[49m\u001b[43malgorithm\u001b[49m\u001b[38;5;241;43m=\u001b[39;49m\u001b[38;5;28;43;01mlambda\u001b[39;49;00m\u001b[43m \u001b[49m\u001b[43mx\u001b[49m\u001b[43m:\u001b[49m\u001b[43m \u001b[49m\u001b[43msha3_256\u001b[49m\u001b[43m(\u001b[49m\u001b[43mx\u001b[49m\u001b[38;5;241;43m.\u001b[39;49m\u001b[43mencode\u001b[49m\u001b[43m(\u001b[49m\u001b[43m)\u001b[49m\u001b[43m)\u001b[49m\u001b[38;5;241;43m.\u001b[39;49m\u001b[43mhexdigest\u001b[49m\u001b[43m(\u001b[49m\u001b[43m)\u001b[49m\u001b[43m)\u001b[49m\n",
      "File \u001b[0;32m~/work/pega-datascientist-tools/pega-datascientist-tools/python/docs/source/articles/../../../pdstools/utils/hds_utils.py:516\u001b[0m, in \u001b[0;36mDataAnonymization.process\u001b[0;34m(self, strategy, **kwargs)\u001b[0m\n\u001b[1;32m    514\u001b[0m df \u001b[38;5;241m=\u001b[39m df\u001b[38;5;241m.\u001b[39mselect(\u001b[38;5;28mself\u001b[39m\u001b[38;5;241m.\u001b[39mcolumn_mapping\u001b[38;5;241m.\u001b[39mkeys())\u001b[38;5;241m.\u001b[39mrename(\u001b[38;5;28mself\u001b[39m\u001b[38;5;241m.\u001b[39mcolumn_mapping)\n\u001b[1;32m    515\u001b[0m \u001b[38;5;28;01mif\u001b[39;00m strategy \u001b[38;5;241m==\u001b[39m \u001b[38;5;124m\"\u001b[39m\u001b[38;5;124meager\u001b[39m\u001b[38;5;124m\"\u001b[39m:\n\u001b[0;32m--> 516\u001b[0m     \u001b[38;5;28;01mreturn\u001b[39;00m \u001b[43mdf\u001b[49m\u001b[38;5;241;43m.\u001b[39;49m\u001b[43mcollect\u001b[49m\u001b[43m(\u001b[49m\u001b[43m)\u001b[49m\n\u001b[1;32m    517\u001b[0m \u001b[38;5;28;01mreturn\u001b[39;00m df\n",
      "File \u001b[0;32m/opt/hostedtoolcache/Python/3.11.6/x64/lib/python3.11/site-packages/polars/utils/deprecation.py:100\u001b[0m, in \u001b[0;36mdeprecate_renamed_parameter.<locals>.decorate.<locals>.wrapper\u001b[0;34m(*args, **kwargs)\u001b[0m\n\u001b[1;32m     95\u001b[0m \u001b[38;5;129m@wraps\u001b[39m(function)\n\u001b[1;32m     96\u001b[0m \u001b[38;5;28;01mdef\u001b[39;00m \u001b[38;5;21mwrapper\u001b[39m(\u001b[38;5;241m*\u001b[39margs: P\u001b[38;5;241m.\u001b[39margs, \u001b[38;5;241m*\u001b[39m\u001b[38;5;241m*\u001b[39mkwargs: P\u001b[38;5;241m.\u001b[39mkwargs) \u001b[38;5;241m-\u001b[39m\u001b[38;5;241m>\u001b[39m T:\n\u001b[1;32m     97\u001b[0m     _rename_keyword_argument(\n\u001b[1;32m     98\u001b[0m         old_name, new_name, kwargs, function\u001b[38;5;241m.\u001b[39m\u001b[38;5;18m__name__\u001b[39m, version\n\u001b[1;32m     99\u001b[0m     )\n\u001b[0;32m--> 100\u001b[0m     \u001b[38;5;28;01mreturn\u001b[39;00m \u001b[43mfunction\u001b[49m\u001b[43m(\u001b[49m\u001b[38;5;241;43m*\u001b[39;49m\u001b[43margs\u001b[49m\u001b[43m,\u001b[49m\u001b[43m \u001b[49m\u001b[38;5;241;43m*\u001b[39;49m\u001b[38;5;241;43m*\u001b[39;49m\u001b[43mkwargs\u001b[49m\u001b[43m)\u001b[49m\n",
      "File \u001b[0;32m/opt/hostedtoolcache/Python/3.11.6/x64/lib/python3.11/site-packages/polars/lazyframe/frame.py:1787\u001b[0m, in \u001b[0;36mLazyFrame.collect\u001b[0;34m(self, type_coercion, predicate_pushdown, projection_pushdown, simplify_expression, slice_pushdown, comm_subplan_elim, comm_subexpr_elim, no_optimization, streaming, _eager)\u001b[0m\n\u001b[1;32m   1774\u001b[0m     comm_subplan_elim \u001b[38;5;241m=\u001b[39m \u001b[38;5;28;01mFalse\u001b[39;00m\n\u001b[1;32m   1776\u001b[0m ldf \u001b[38;5;241m=\u001b[39m \u001b[38;5;28mself\u001b[39m\u001b[38;5;241m.\u001b[39m_ldf\u001b[38;5;241m.\u001b[39moptimization_toggle(\n\u001b[1;32m   1777\u001b[0m     type_coercion,\n\u001b[1;32m   1778\u001b[0m     predicate_pushdown,\n\u001b[0;32m   (...)\u001b[0m\n\u001b[1;32m   1785\u001b[0m     _eager,\n\u001b[1;32m   1786\u001b[0m )\n\u001b[0;32m-> 1787\u001b[0m \u001b[38;5;28;01mreturn\u001b[39;00m wrap_df(ldf\u001b[38;5;241m.\u001b[39mcollect())\n",
      "\u001b[0;31mComputeError\u001b[0m: AttributeError: 'int' object has no attribute 'encode'"
     ]
    }
   ],
   "source": [
    "from hashlib import sha3_256\n",
    "\n",
    "anon.process(algorithm=lambda x: sha3_256(x.encode()).hexdigest())"
   ]
  }
 ],
 "metadata": {
  "kernelspec": {
   "display_name": "Python 3",
   "language": "python",
   "name": "python3"
  },
  "language_info": {
   "codemirror_mode": {
    "name": "ipython",
    "version": 3
   },
   "file_extension": ".py",
   "mimetype": "text/x-python",
   "name": "python",
   "nbconvert_exporter": "python",
   "pygments_lexer": "ipython3",
   "version": "3.11.6"
  },
  "vscode": {
   "interpreter": {
    "hash": "aee8b7b246df8f9039afb4144a1f6fd8d2ca17a180786b69acc140d282b71a49"
   }
  }
 },
 "nbformat": 4,
 "nbformat_minor": 2
}
