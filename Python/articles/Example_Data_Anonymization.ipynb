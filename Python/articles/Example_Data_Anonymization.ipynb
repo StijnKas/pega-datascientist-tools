{
 "cells": [
  {
   "attachments": {},
   "cell_type": "markdown",
   "metadata": {},
   "source": [
    "# Example data anonymization\n",
    "\n",
    "In Pega CDH 8.5 and up, it's now possible to record the historical data as seen by the Adaptive Models. See [this academy challenge](https://academy.pega.com/challenge/exporting-historical-data/v4) for reference. This historical data can be further used to experiment with offline models, but also to fine-tune the OOTB Gradient Boosting model. However, sharing this information with Pega can be sensitive as it contains raw predictor data. \n",
    "\n",
    "To this end, we provide a simple and transparent script to fully anonimize this dataset.\n",
    "\n",
    "The DataAnonymization script is now part of pdstools, and you can import it directly as such."
   ]
  },
  {
   "cell_type": "code",
   "execution_count": 1,
   "metadata": {
    "execution": {
     "iopub.execute_input": "2023-08-11T16:07:30.872600Z",
     "iopub.status.busy": "2023-08-11T16:07:30.872069Z",
     "iopub.status.idle": "2023-08-11T16:07:30.879668Z",
     "shell.execute_reply": "2023-08-11T16:07:30.879066Z"
    },
    "nbsphinx": "hidden"
   },
   "outputs": [],
   "source": [
    "# These lines are only for rendering in the docs, and are hidden through Jupyter tags\n",
    "# Do not run if you're running the notebook seperately\n",
    "\n",
    "import sys\n",
    "sys.path.append('../../../')"
   ]
  },
  {
   "cell_type": "code",
   "execution_count": 2,
   "metadata": {
    "execution": {
     "iopub.execute_input": "2023-08-11T16:07:30.882489Z",
     "iopub.status.busy": "2023-08-11T16:07:30.882144Z",
     "iopub.status.idle": "2023-08-11T16:07:32.288711Z",
     "shell.execute_reply": "2023-08-11T16:07:32.283997Z"
    }
   },
   "outputs": [],
   "source": [
    "from pdstools import ADMDatamart\n",
    "from pdstools import Config, DataAnonymization\n",
    "import polars as pl"
   ]
  },
  {
   "attachments": {},
   "cell_type": "markdown",
   "metadata": {},
   "source": [
    "## Input data\n",
    "\n",
    "To demonstrate this process, we're going to anonymise this toy example dataframe:"
   ]
  },
  {
   "cell_type": "code",
   "execution_count": 3,
   "metadata": {
    "execution": {
     "iopub.execute_input": "2023-08-11T16:07:32.294302Z",
     "iopub.status.busy": "2023-08-11T16:07:32.293896Z",
     "iopub.status.idle": "2023-08-11T16:07:32.309780Z",
     "shell.execute_reply": "2023-08-11T16:07:32.309139Z"
    }
   },
   "outputs": [
    {
     "data": {
      "text/html": [
       "<div><style>\n",
       ".dataframe > thead > tr > th,\n",
       ".dataframe > tbody > tr > td {\n",
       "  text-align: right;\n",
       "}\n",
       "</style>\n",
       "<small>shape: (7, 6)</small><table border=\"1\" class=\"dataframe\"><thead><tr><th>Context_Name</th><th>Customer_MaritalStatus</th><th>Customer_CLV</th><th>Customer_City</th><th>IH_Web_Inbound_Accepted_pxLastGroupID</th><th>Decision_Outcome</th></tr><tr><td>str</td><td>str</td><td>i64</td><td>str</td><td>str</td><td>str</td></tr></thead><tbody><tr><td>&quot;FirstMortgage3…</td><td>&quot;Married&quot;</td><td>1460</td><td>&quot;Port Raoul&quot;</td><td>&quot;Account&quot;</td><td>&quot;Rejected&quot;</td></tr><tr><td>&quot;FirstMortgage3…</td><td>&quot;Unknown&quot;</td><td>669</td><td>&quot;Laurianneshire…</td><td>&quot;AutoLoans&quot;</td><td>&quot;Accepted&quot;</td></tr><tr><td>&quot;MoneyMarketSav…</td><td>&quot;No Resp+&quot;</td><td>1174</td><td>&quot;Jacobshaven&quot;</td><td>&quot;Account&quot;</td><td>&quot;Rejected&quot;</td></tr><tr><td>&quot;BasicChecking&quot;</td><td>&quot;Unknown&quot;</td><td>1476</td><td>&quot;Lindton&quot;</td><td>&quot;Account&quot;</td><td>&quot;Rejected&quot;</td></tr><tr><td>&quot;BasicChecking&quot;</td><td>&quot;Married&quot;</td><td>1211</td><td>&quot;South Jimmiesh…</td><td>&quot;DepositAccount…</td><td>&quot;Accepted&quot;</td></tr><tr><td>&quot;UPlusFinPerson…</td><td>&quot;No Resp+&quot;</td><td>533</td><td>&quot;Bergeville&quot;</td><td>null</td><td>&quot;Rejected&quot;</td></tr><tr><td>&quot;BasicChecking&quot;</td><td>&quot;No Resp+&quot;</td><td>555</td><td>&quot;Willyville&quot;</td><td>&quot;DepositAccount…</td><td>&quot;Rejected&quot;</td></tr></tbody></table></div>"
      ],
      "text/plain": [
       "shape: (7, 6)\n",
       "┌────────────────┬────────────────┬──────────────┬────────────────┬────────────────┬───────────────┐\n",
       "│ Context_Name   ┆ Customer_Marit ┆ Customer_CLV ┆ Customer_City  ┆ IH_Web_Inbound ┆ Decision_Outc │\n",
       "│ ---            ┆ alStatus       ┆ ---          ┆ ---            ┆ _Accepted_pxLa ┆ ome           │\n",
       "│ str            ┆ ---            ┆ i64          ┆ str            ┆ stGr…          ┆ ---           │\n",
       "│                ┆ str            ┆              ┆                ┆ ---            ┆ str           │\n",
       "│                ┆                ┆              ┆                ┆ str            ┆               │\n",
       "╞════════════════╪════════════════╪══════════════╪════════════════╪════════════════╪═══════════════╡\n",
       "│ FirstMortgage3 ┆ Married        ┆ 1460         ┆ Port Raoul     ┆ Account        ┆ Rejected      │\n",
       "│ 0yr            ┆                ┆              ┆                ┆                ┆               │\n",
       "│ FirstMortgage3 ┆ Unknown        ┆ 669          ┆ Laurianneshire ┆ AutoLoans      ┆ Accepted      │\n",
       "│ 0yr            ┆                ┆              ┆                ┆                ┆               │\n",
       "│ MoneyMarketSav ┆ No Resp+       ┆ 1174         ┆ Jacobshaven    ┆ Account        ┆ Rejected      │\n",
       "│ ingsAccount    ┆                ┆              ┆                ┆                ┆               │\n",
       "│ BasicChecking  ┆ Unknown        ┆ 1476         ┆ Lindton        ┆ Account        ┆ Rejected      │\n",
       "│ BasicChecking  ┆ Married        ┆ 1211         ┆ South          ┆ DepositAccount ┆ Accepted      │\n",
       "│                ┆                ┆              ┆ Jimmieshire    ┆ s              ┆               │\n",
       "│ UPlusFinPerson ┆ No Resp+       ┆ 533          ┆ Bergeville     ┆ null           ┆ Rejected      │\n",
       "│ al             ┆                ┆              ┆                ┆                ┆               │\n",
       "│ BasicChecking  ┆ No Resp+       ┆ 555          ┆ Willyville     ┆ DepositAccount ┆ Rejected      │\n",
       "│                ┆                ┆              ┆                ┆ s              ┆               │\n",
       "└────────────────┴────────────────┴──────────────┴────────────────┴────────────────┴───────────────┘"
      ]
     },
     "execution_count": 3,
     "metadata": {},
     "output_type": "execute_result"
    }
   ],
   "source": [
    "pl.read_ndjson('../../../../data/SampleHDS.json')"
   ]
  },
  {
   "attachments": {},
   "cell_type": "markdown",
   "metadata": {},
   "source": [
    "As you can see, this dataset consists of regular predictors, IH predictors, context keys and the outcome column. Additionally, some columns are numeric, others are strings. Let's first initialize the DataAnonymization class."
   ]
  },
  {
   "cell_type": "code",
   "execution_count": 4,
   "metadata": {
    "execution": {
     "iopub.execute_input": "2023-08-11T16:07:32.312872Z",
     "iopub.status.busy": "2023-08-11T16:07:32.312332Z",
     "iopub.status.idle": "2023-08-11T16:07:32.321980Z",
     "shell.execute_reply": "2023-08-11T16:07:32.321385Z"
    }
   },
   "outputs": [],
   "source": [
    "anon = DataAnonymization(hds_folder='../../../../data/')"
   ]
  },
  {
   "attachments": {},
   "cell_type": "markdown",
   "metadata": {},
   "source": [
    "By default, the class applies a set of anonymisation techniques:\n",
    "- Column names are remapped to a non-descriptive name\n",
    "- Categorical values are hashed with a random seed\n",
    "- Numerical values are normalized between 0 and 1\n",
    "- Outcomes are mapped to a binary outcome.\n",
    "\n",
    "To apply these techniques, simply call `.process()`:"
   ]
  },
  {
   "cell_type": "code",
   "execution_count": 5,
   "metadata": {
    "execution": {
     "iopub.execute_input": "2023-08-11T16:07:32.325133Z",
     "iopub.status.busy": "2023-08-11T16:07:32.324563Z",
     "iopub.status.idle": "2023-08-11T16:07:32.332349Z",
     "shell.execute_reply": "2023-08-11T16:07:32.331652Z"
    }
   },
   "outputs": [
    {
     "data": {
      "text/html": [
       "<div><style>\n",
       ".dataframe > thead > tr > th,\n",
       ".dataframe > tbody > tr > td {\n",
       "  text-align: right;\n",
       "}\n",
       "</style>\n",
       "<small>shape: (7, 7)</small><table border=\"1\" class=\"dataframe\"><thead><tr><th>PREDICTOR_0</th><th>filename</th><th>PREDICTOR_2</th><th>PREDICTOR_3</th><th>Context_Name</th><th>IH_PREDICTOR_0</th><th>Decision_Outcome</th></tr><tr><td>str</td><td>str</td><td>f64</td><td>str</td><td>str</td><td>str</td><td>bool</td></tr></thead><tbody><tr><td>&quot;66768586033678…</td><td>&quot;../../../../da…</td><td>1.2927e19</td><td>&quot;10477563659166…</td><td>&quot;18236160113996…</td><td>&quot;14006490190824…</td><td>false</td></tr><tr><td>&quot;13867084211674…</td><td>&quot;../../../../da…</td><td>1.4856e19</td><td>&quot;14093914574360…</td><td>&quot;18236160113996…</td><td>&quot;13198167550845…</td><td>true</td></tr><tr><td>&quot;96938241932126…</td><td>&quot;../../../../da…</td><td>5.6458e17</td><td>&quot;67107696723636…</td><td>&quot;13005724425041…</td><td>&quot;14006490190824…</td><td>false</td></tr><tr><td>&quot;42688921967326…</td><td>&quot;../../../../da…</td><td>4.0723e18</td><td>&quot;14093914574360…</td><td>&quot;51763933940117…</td><td>&quot;14006490190824…</td><td>false</td></tr><tr><td>&quot;92792551704797…</td><td>&quot;../../../../da…</td><td>1.4677e19</td><td>&quot;10477563659166…</td><td>&quot;51763933940117…</td><td>&quot;41745130970179…</td><td>true</td></tr><tr><td>&quot;17240665024304…</td><td>&quot;../../../../da…</td><td>1.6330e19</td><td>&quot;67107696723636…</td><td>&quot;77749608786652…</td><td>null</td><td>false</td></tr><tr><td>&quot;12100804368576…</td><td>&quot;../../../../da…</td><td>8.7675e18</td><td>&quot;67107696723636…</td><td>&quot;51763933940117…</td><td>&quot;41745130970179…</td><td>false</td></tr></tbody></table></div>"
      ],
      "text/plain": [
       "shape: (7, 7)\n",
       "┌──────────────┬─────────────┬─────────────┬─────────────┬─────────────┬─────────────┬─────────────┐\n",
       "│ PREDICTOR_0  ┆ filename    ┆ PREDICTOR_2 ┆ PREDICTOR_3 ┆ Context_Nam ┆ IH_PREDICTO ┆ Decision_Ou │\n",
       "│ ---          ┆ ---         ┆ ---         ┆ ---         ┆ e           ┆ R_0         ┆ tcome       │\n",
       "│ str          ┆ str         ┆ f64         ┆ str         ┆ ---         ┆ ---         ┆ ---         │\n",
       "│              ┆             ┆             ┆             ┆ str         ┆ str         ┆ bool        │\n",
       "╞══════════════╪═════════════╪═════════════╪═════════════╪═════════════╪═════════════╪═════════════╡\n",
       "│ 667685860336 ┆ ../../../.. ┆ 1.2927e19   ┆ 10477563659 ┆ 18236160113 ┆ 14006490190 ┆ false       │\n",
       "│ 7800728      ┆ /data/Sampl ┆             ┆ 166863855   ┆ 996908966   ┆ 824816310   ┆             │\n",
       "│              ┆ eHDS.json   ┆             ┆             ┆             ┆             ┆             │\n",
       "│ 138670842116 ┆ ../../../.. ┆ 1.4856e19   ┆ 14093914574 ┆ 18236160113 ┆ 13198167550 ┆ true        │\n",
       "│ 74661342     ┆ /data/Sampl ┆             ┆ 360535551   ┆ 996908966   ┆ 845038826   ┆             │\n",
       "│              ┆ eHDS.json   ┆             ┆             ┆             ┆             ┆             │\n",
       "│ 969382419321 ┆ ../../../.. ┆ 5.6458e17   ┆ 67107696723 ┆ 13005724425 ┆ 14006490190 ┆ false       │\n",
       "│ 2608429      ┆ /data/Sampl ┆             ┆ 63693643    ┆ 041935450   ┆ 824816310   ┆             │\n",
       "│              ┆ eHDS.json   ┆             ┆             ┆             ┆             ┆             │\n",
       "│ 426889219673 ┆ ../../../.. ┆ 4.0723e18   ┆ 14093914574 ┆ 51763933940 ┆ 14006490190 ┆ false       │\n",
       "│ 2680995      ┆ /data/Sampl ┆             ┆ 360535551   ┆ 11795728    ┆ 824816310   ┆             │\n",
       "│              ┆ eHDS.json   ┆             ┆             ┆             ┆             ┆             │\n",
       "│ 927925517047 ┆ ../../../.. ┆ 1.4677e19   ┆ 10477563659 ┆ 51763933940 ┆ 41745130970 ┆ true        │\n",
       "│ 9707230      ┆ /data/Sampl ┆             ┆ 166863855   ┆ 11795728    ┆ 17935953    ┆             │\n",
       "│              ┆ eHDS.json   ┆             ┆             ┆             ┆             ┆             │\n",
       "│ 172406650243 ┆ ../../../.. ┆ 1.6330e19   ┆ 67107696723 ┆ 77749608786 ┆ null        ┆ false       │\n",
       "│ 04960357     ┆ /data/Sampl ┆             ┆ 63693643    ┆ 65259660    ┆             ┆             │\n",
       "│              ┆ eHDS.json   ┆             ┆             ┆             ┆             ┆             │\n",
       "│ 121008043685 ┆ ../../../.. ┆ 8.7675e18   ┆ 67107696723 ┆ 51763933940 ┆ 41745130970 ┆ false       │\n",
       "│ 76112695     ┆ /data/Sampl ┆             ┆ 63693643    ┆ 11795728    ┆ 17935953    ┆             │\n",
       "│              ┆ eHDS.json   ┆             ┆             ┆             ┆             ┆             │\n",
       "└──────────────┴─────────────┴─────────────┴─────────────┴─────────────┴─────────────┴─────────────┘"
      ]
     },
     "execution_count": 5,
     "metadata": {},
     "output_type": "execute_result"
    }
   ],
   "source": [
    "anon.process()"
   ]
  },
  {
   "attachments": {},
   "cell_type": "markdown",
   "metadata": {},
   "source": [
    "To trace back the columns to their original names, the class also contains a mapping, which does not have to be provided."
   ]
  },
  {
   "cell_type": "code",
   "execution_count": 6,
   "metadata": {
    "execution": {
     "iopub.execute_input": "2023-08-11T16:07:32.335192Z",
     "iopub.status.busy": "2023-08-11T16:07:32.334970Z",
     "iopub.status.idle": "2023-08-11T16:07:32.339651Z",
     "shell.execute_reply": "2023-08-11T16:07:32.339016Z"
    }
   },
   "outputs": [
    {
     "data": {
      "text/plain": [
       "{'Customer_City': 'PREDICTOR_0',\n",
       " 'filename': 'filename',\n",
       " 'Customer_CLV': 'PREDICTOR_2',\n",
       " 'Customer_MaritalStatus': 'PREDICTOR_3',\n",
       " 'Context_Name': 'Context_Name',\n",
       " 'IH_Web_Inbound_Accepted_pxLastGroupID': 'IH_PREDICTOR_0',\n",
       " 'Decision_Outcome': 'Decision_Outcome'}"
      ]
     },
     "execution_count": 6,
     "metadata": {},
     "output_type": "execute_result"
    }
   ],
   "source": [
    "anon.column_mapping"
   ]
  },
  {
   "attachments": {},
   "cell_type": "markdown",
   "metadata": {},
   "source": [
    "## Configs\n",
    "\n",
    "Each capability can optionally be turned off - see below for the full list of config options, and refer to the API reference for the full description."
   ]
  },
  {
   "cell_type": "code",
   "execution_count": 7,
   "metadata": {
    "execution": {
     "iopub.execute_input": "2023-08-11T16:07:32.343116Z",
     "iopub.status.busy": "2023-08-11T16:07:32.342897Z",
     "iopub.status.idle": "2023-08-11T16:07:32.348041Z",
     "shell.execute_reply": "2023-08-11T16:07:32.347319Z"
    }
   },
   "outputs": [
    {
     "data": {
      "text/plain": [
       "{'config_file': None,\n",
       " 'hds_folder': '.',\n",
       " 'use_datamart': False,\n",
       " 'datamart_folder': 'datamart',\n",
       " 'output_format': 'ndjson',\n",
       " 'output_folder': 'output',\n",
       " 'mapping_file': 'mapping.map',\n",
       " 'mask_predictor_names': True,\n",
       " 'mask_context_key_names': False,\n",
       " 'mask_ih_names': True,\n",
       " 'mask_outcome_name': False,\n",
       " 'mask_predictor_values': True,\n",
       " 'mask_context_key_values': True,\n",
       " 'mask_ih_values': True,\n",
       " 'mask_outcome_values': True,\n",
       " 'context_key_label': 'Context_*',\n",
       " 'ih_label': 'IH_*',\n",
       " 'outcome_column': 'Decision_Outcome',\n",
       " 'positive_outcomes': ['Accepted', 'Clicked'],\n",
       " 'negative_outcomes': ['Rejected', 'Impression'],\n",
       " 'special_predictors': ['Decision_DecisionTime',\n",
       "  'Decision_OutcomeTime',\n",
       "  'Decision_Rank'],\n",
       " 'sample_percentage_schema_inferencing': 0.01}"
      ]
     },
     "execution_count": 7,
     "metadata": {},
     "output_type": "execute_result"
    }
   ],
   "source": [
    "dict(zip(Config.__init__.__code__.co_varnames[1:], Config.__init__.__defaults__))"
   ]
  },
  {
   "attachments": {},
   "cell_type": "markdown",
   "metadata": {},
   "source": [
    "It's easy to change these parameters by just passing the keyword arguments. In the following example, we\n",
    "- Keep the IH predictor names\n",
    "- Keep the outcome values\n",
    "- Keep the context key values\n",
    "- Keep the context key predictor names"
   ]
  },
  {
   "cell_type": "code",
   "execution_count": 8,
   "metadata": {
    "execution": {
     "iopub.execute_input": "2023-08-11T16:07:32.352663Z",
     "iopub.status.busy": "2023-08-11T16:07:32.352057Z",
     "iopub.status.idle": "2023-08-11T16:07:32.365690Z",
     "shell.execute_reply": "2023-08-11T16:07:32.364969Z"
    }
   },
   "outputs": [
    {
     "data": {
      "text/html": [
       "<div><style>\n",
       ".dataframe > thead > tr > th,\n",
       ".dataframe > tbody > tr > td {\n",
       "  text-align: right;\n",
       "}\n",
       "</style>\n",
       "<small>shape: (7, 7)</small><table border=\"1\" class=\"dataframe\"><thead><tr><th>PREDICTOR_0</th><th>filename</th><th>PREDICTOR_2</th><th>PREDICTOR_3</th><th>Context_Name</th><th>IH_Web_Inbound_Accepted_pxLastGroupID</th><th>Decision_Outcome</th></tr><tr><td>str</td><td>str</td><td>f64</td><td>str</td><td>str</td><td>str</td><td>str</td></tr></thead><tbody><tr><td>&quot;16629364776236…</td><td>&quot;../../../../da…</td><td>1.2927e19</td><td>&quot;73123753938380…</td><td>&quot;FirstMortgage3…</td><td>&quot;15909574181061…</td><td>&quot;Rejected&quot;</td></tr><tr><td>&quot;13337921724360…</td><td>&quot;../../../../da…</td><td>1.4856e19</td><td>&quot;52109269766609…</td><td>&quot;FirstMortgage3…</td><td>&quot;33555343858338…</td><td>&quot;Accepted&quot;</td></tr><tr><td>&quot;90282488322476…</td><td>&quot;../../../../da…</td><td>5.6458e17</td><td>&quot;10196768547918…</td><td>&quot;MoneyMarketSav…</td><td>&quot;15909574181061…</td><td>&quot;Rejected&quot;</td></tr><tr><td>&quot;10224622791397…</td><td>&quot;../../../../da…</td><td>4.0723e18</td><td>&quot;52109269766609…</td><td>&quot;BasicChecking&quot;</td><td>&quot;15909574181061…</td><td>&quot;Rejected&quot;</td></tr><tr><td>&quot;13236942410032…</td><td>&quot;../../../../da…</td><td>1.4677e19</td><td>&quot;73123753938380…</td><td>&quot;BasicChecking&quot;</td><td>&quot;68250418393944…</td><td>&quot;Accepted&quot;</td></tr><tr><td>&quot;64084331286494…</td><td>&quot;../../../../da…</td><td>1.6330e19</td><td>&quot;10196768547918…</td><td>&quot;UPlusFinPerson…</td><td>null</td><td>&quot;Rejected&quot;</td></tr><tr><td>&quot;61934305264499…</td><td>&quot;../../../../da…</td><td>8.7675e18</td><td>&quot;10196768547918…</td><td>&quot;BasicChecking&quot;</td><td>&quot;68250418393944…</td><td>&quot;Rejected&quot;</td></tr></tbody></table></div>"
      ],
      "text/plain": [
       "shape: (7, 7)\n",
       "┌──────────────┬─────────────┬─────────────┬─────────────┬─────────────┬─────────────┬─────────────┐\n",
       "│ PREDICTOR_0  ┆ filename    ┆ PREDICTOR_2 ┆ PREDICTOR_3 ┆ Context_Nam ┆ IH_Web_Inbo ┆ Decision_Ou │\n",
       "│ ---          ┆ ---         ┆ ---         ┆ ---         ┆ e           ┆ und_Accepte ┆ tcome       │\n",
       "│ str          ┆ str         ┆ f64         ┆ str         ┆ ---         ┆ d_pxLastGr… ┆ ---         │\n",
       "│              ┆             ┆             ┆             ┆ str         ┆ ---         ┆ str         │\n",
       "│              ┆             ┆             ┆             ┆             ┆ str         ┆             │\n",
       "╞══════════════╪═════════════╪═════════════╪═════════════╪═════════════╪═════════════╪═════════════╡\n",
       "│ 166293647762 ┆ ../../../.. ┆ 1.2927e19   ┆ 73123753938 ┆ FirstMortga ┆ 15909574181 ┆ Rejected    │\n",
       "│ 36287372     ┆ /data/Sampl ┆             ┆ 38000252    ┆ ge30yr      ┆ 061983737   ┆             │\n",
       "│              ┆ eHDS.json   ┆             ┆             ┆             ┆             ┆             │\n",
       "│ 133379217243 ┆ ../../../.. ┆ 1.4856e19   ┆ 52109269766 ┆ FirstMortga ┆ 33555343858 ┆ Accepted    │\n",
       "│ 60988355     ┆ /data/Sampl ┆             ┆ 60978900    ┆ ge30yr      ┆ 33828023    ┆             │\n",
       "│              ┆ eHDS.json   ┆             ┆             ┆             ┆             ┆             │\n",
       "│ 902824883224 ┆ ../../../.. ┆ 5.6458e17   ┆ 10196768547 ┆ MoneyMarket ┆ 15909574181 ┆ Rejected    │\n",
       "│ 7688865      ┆ /data/Sampl ┆             ┆ 918286196   ┆ SavingsAcco ┆ 061983737   ┆             │\n",
       "│              ┆ eHDS.json   ┆             ┆             ┆ unt         ┆             ┆             │\n",
       "│ 102246227913 ┆ ../../../.. ┆ 4.0723e18   ┆ 52109269766 ┆ BasicChecki ┆ 15909574181 ┆ Rejected    │\n",
       "│ 97468939     ┆ /data/Sampl ┆             ┆ 60978900    ┆ ng          ┆ 061983737   ┆             │\n",
       "│              ┆ eHDS.json   ┆             ┆             ┆             ┆             ┆             │\n",
       "│ 132369424100 ┆ ../../../.. ┆ 1.4677e19   ┆ 73123753938 ┆ BasicChecki ┆ 68250418393 ┆ Accepted    │\n",
       "│ 32678479     ┆ /data/Sampl ┆             ┆ 38000252    ┆ ng          ┆ 94408579    ┆             │\n",
       "│              ┆ eHDS.json   ┆             ┆             ┆             ┆             ┆             │\n",
       "│ 640843312864 ┆ ../../../.. ┆ 1.6330e19   ┆ 10196768547 ┆ UPlusFinPer ┆ null        ┆ Rejected    │\n",
       "│ 945715       ┆ /data/Sampl ┆             ┆ 918286196   ┆ sonal       ┆             ┆             │\n",
       "│              ┆ eHDS.json   ┆             ┆             ┆             ┆             ┆             │\n",
       "│ 619343052644 ┆ ../../../.. ┆ 8.7675e18   ┆ 10196768547 ┆ BasicChecki ┆ 68250418393 ┆ Rejected    │\n",
       "│ 993620       ┆ /data/Sampl ┆             ┆ 918286196   ┆ ng          ┆ 94408579    ┆             │\n",
       "│              ┆ eHDS.json   ┆             ┆             ┆             ┆             ┆             │\n",
       "└──────────────┴─────────────┴─────────────┴─────────────┴─────────────┴─────────────┴─────────────┘"
      ]
     },
     "execution_count": 8,
     "metadata": {},
     "output_type": "execute_result"
    }
   ],
   "source": [
    "anon = DataAnonymization(\n",
    "    hds_folder='../../../../data/',\n",
    "    mask_ih_names=False,\n",
    "    mask_outcome_values=False,\n",
    "    mask_context_key_values=False,\n",
    "    mask_context_key_names=False,\n",
    ")\n",
    "anon.process()\n"
   ]
  },
  {
   "attachments": {},
   "cell_type": "markdown",
   "metadata": {},
   "source": [
    "The configs can also be written and read as such:"
   ]
  },
  {
   "cell_type": "code",
   "execution_count": 9,
   "metadata": {
    "execution": {
     "iopub.execute_input": "2023-08-11T16:07:32.369005Z",
     "iopub.status.busy": "2023-08-11T16:07:32.368540Z",
     "iopub.status.idle": "2023-08-11T16:07:32.372254Z",
     "shell.execute_reply": "2023-08-11T16:07:32.371515Z"
    }
   },
   "outputs": [],
   "source": [
    "anon.config.save_to_config_file('config.json')"
   ]
  },
  {
   "cell_type": "code",
   "execution_count": 10,
   "metadata": {
    "execution": {
     "iopub.execute_input": "2023-08-11T16:07:32.375175Z",
     "iopub.status.busy": "2023-08-11T16:07:32.374734Z",
     "iopub.status.idle": "2023-08-11T16:07:32.386829Z",
     "shell.execute_reply": "2023-08-11T16:07:32.386144Z"
    }
   },
   "outputs": [
    {
     "data": {
      "text/html": [
       "<div><style>\n",
       ".dataframe > thead > tr > th,\n",
       ".dataframe > tbody > tr > td {\n",
       "  text-align: right;\n",
       "}\n",
       "</style>\n",
       "<small>shape: (7, 7)</small><table border=\"1\" class=\"dataframe\"><thead><tr><th>PREDICTOR_0</th><th>filename</th><th>PREDICTOR_2</th><th>PREDICTOR_3</th><th>Context_Name</th><th>IH_Web_Inbound_Accepted_pxLastGroupID</th><th>Decision_Outcome</th></tr><tr><td>str</td><td>str</td><td>f64</td><td>str</td><td>str</td><td>str</td><td>str</td></tr></thead><tbody><tr><td>&quot;63912970497873…</td><td>&quot;../../../../da…</td><td>1.2927e19</td><td>&quot;22825617778921…</td><td>&quot;FirstMortgage3…</td><td>&quot;16085051858691…</td><td>&quot;Rejected&quot;</td></tr><tr><td>&quot;81797381650840…</td><td>&quot;../../../../da…</td><td>1.4856e19</td><td>&quot;34539150814914…</td><td>&quot;FirstMortgage3…</td><td>&quot;16122510051445…</td><td>&quot;Accepted&quot;</td></tr><tr><td>&quot;34309594204528…</td><td>&quot;../../../../da…</td><td>5.6458e17</td><td>&quot;73624190329748…</td><td>&quot;MoneyMarketSav…</td><td>&quot;16085051858691…</td><td>&quot;Rejected&quot;</td></tr><tr><td>&quot;24904224266797…</td><td>&quot;../../../../da…</td><td>4.0723e18</td><td>&quot;34539150814914…</td><td>&quot;BasicChecking&quot;</td><td>&quot;16085051858691…</td><td>&quot;Rejected&quot;</td></tr><tr><td>&quot;17785129113049…</td><td>&quot;../../../../da…</td><td>1.4677e19</td><td>&quot;22825617778921…</td><td>&quot;BasicChecking&quot;</td><td>&quot;48274599490548…</td><td>&quot;Accepted&quot;</td></tr><tr><td>&quot;62178883859845…</td><td>&quot;../../../../da…</td><td>1.6330e19</td><td>&quot;73624190329748…</td><td>&quot;UPlusFinPerson…</td><td>null</td><td>&quot;Rejected&quot;</td></tr><tr><td>&quot;59667973008392…</td><td>&quot;../../../../da…</td><td>8.7675e18</td><td>&quot;73624190329748…</td><td>&quot;BasicChecking&quot;</td><td>&quot;48274599490548…</td><td>&quot;Rejected&quot;</td></tr></tbody></table></div>"
      ],
      "text/plain": [
       "shape: (7, 7)\n",
       "┌──────────────┬─────────────┬─────────────┬─────────────┬─────────────┬─────────────┬─────────────┐\n",
       "│ PREDICTOR_0  ┆ filename    ┆ PREDICTOR_2 ┆ PREDICTOR_3 ┆ Context_Nam ┆ IH_Web_Inbo ┆ Decision_Ou │\n",
       "│ ---          ┆ ---         ┆ ---         ┆ ---         ┆ e           ┆ und_Accepte ┆ tcome       │\n",
       "│ str          ┆ str         ┆ f64         ┆ str         ┆ ---         ┆ d_pxLastGr… ┆ ---         │\n",
       "│              ┆             ┆             ┆             ┆ str         ┆ ---         ┆ str         │\n",
       "│              ┆             ┆             ┆             ┆             ┆ str         ┆             │\n",
       "╞══════════════╪═════════════╪═════════════╪═════════════╪═════════════╪═════════════╪═════════════╡\n",
       "│ 639129704978 ┆ ../../../.. ┆ 1.2927e19   ┆ 22825617778 ┆ FirstMortga ┆ 16085051858 ┆ Rejected    │\n",
       "│ 7303215      ┆ /data/Sampl ┆             ┆ 92101111    ┆ ge30yr      ┆ 691014737   ┆             │\n",
       "│              ┆ eHDS.json   ┆             ┆             ┆             ┆             ┆             │\n",
       "│ 817973816508 ┆ ../../../.. ┆ 1.4856e19   ┆ 34539150814 ┆ FirstMortga ┆ 16122510051 ┆ Accepted    │\n",
       "│ 4036421      ┆ /data/Sampl ┆             ┆ 91449035    ┆ ge30yr      ┆ 445214468   ┆             │\n",
       "│              ┆ eHDS.json   ┆             ┆             ┆             ┆             ┆             │\n",
       "│ 343095942045 ┆ ../../../.. ┆ 5.6458e17   ┆ 73624190329 ┆ MoneyMarket ┆ 16085051858 ┆ Rejected    │\n",
       "│ 2829814      ┆ /data/Sampl ┆             ┆ 7487059     ┆ SavingsAcco ┆ 691014737   ┆             │\n",
       "│              ┆ eHDS.json   ┆             ┆             ┆ unt         ┆             ┆             │\n",
       "│ 249042242667 ┆ ../../../.. ┆ 4.0723e18   ┆ 34539150814 ┆ BasicChecki ┆ 16085051858 ┆ Rejected    │\n",
       "│ 9753559      ┆ /data/Sampl ┆             ┆ 91449035    ┆ ng          ┆ 691014737   ┆             │\n",
       "│              ┆ eHDS.json   ┆             ┆             ┆             ┆             ┆             │\n",
       "│ 177851291130 ┆ ../../../.. ┆ 1.4677e19   ┆ 22825617778 ┆ BasicChecki ┆ 48274599490 ┆ Accepted    │\n",
       "│ 49699452     ┆ /data/Sampl ┆             ┆ 92101111    ┆ ng          ┆ 54881616    ┆             │\n",
       "│              ┆ eHDS.json   ┆             ┆             ┆             ┆             ┆             │\n",
       "│ 621788838598 ┆ ../../../.. ┆ 1.6330e19   ┆ 73624190329 ┆ UPlusFinPer ┆ null        ┆ Rejected    │\n",
       "│ 452019       ┆ /data/Sampl ┆             ┆ 7487059     ┆ sonal       ┆             ┆             │\n",
       "│              ┆ eHDS.json   ┆             ┆             ┆             ┆             ┆             │\n",
       "│ 596679730083 ┆ ../../../.. ┆ 8.7675e18   ┆ 73624190329 ┆ BasicChecki ┆ 48274599490 ┆ Rejected    │\n",
       "│ 9252157      ┆ /data/Sampl ┆             ┆ 7487059     ┆ ng          ┆ 54881616    ┆             │\n",
       "│              ┆ eHDS.json   ┆             ┆             ┆             ┆             ┆             │\n",
       "└──────────────┴─────────────┴─────────────┴─────────────┴─────────────┴─────────────┴─────────────┘"
      ]
     },
     "execution_count": 10,
     "metadata": {},
     "output_type": "execute_result"
    }
   ],
   "source": [
    "anon = DataAnonymization(config=Config(config_file='config.json'))\n",
    "anon.process()"
   ]
  },
  {
   "attachments": {},
   "cell_type": "markdown",
   "metadata": {},
   "source": [
    "## Exporting\n",
    "Two functions export:\n",
    "- `create_mapping_file()` writes the mapping file of the predictor names\n",
    "- `write_to_output()` writes the processed dataframe to disk\n",
    "\n",
    "Write to output accepts the following extensions: `[\"ndjson\", \"parquet\", \"arrow\", \"csv\"]`"
   ]
  },
  {
   "cell_type": "code",
   "execution_count": 11,
   "metadata": {
    "execution": {
     "iopub.execute_input": "2023-08-11T16:07:32.389986Z",
     "iopub.status.busy": "2023-08-11T16:07:32.389546Z",
     "iopub.status.idle": "2023-08-11T16:07:32.394036Z",
     "shell.execute_reply": "2023-08-11T16:07:32.393269Z"
    }
   },
   "outputs": [
    {
     "name": "stdout",
     "output_type": "stream",
     "text": [
      "Customer_City=PREDICTOR_0\n",
      "filename=filename\n",
      "Customer_CLV=PREDICTOR_2\n",
      "Customer_MaritalStatus=PREDICTOR_3\n",
      "Context_Name=Context_Name\n",
      "IH_Web_Inbound_Accepted_pxLastGroupID=IH_Web_Inbound_Accepted_pxLastGroupID\n",
      "Decision_Outcome=Decision_Outcome\n",
      "\n"
     ]
    }
   ],
   "source": [
    "anon.create_mapping_file()\n",
    "with open('mapping.map') as f:\n",
    "    print(f.read())"
   ]
  },
  {
   "cell_type": "code",
   "execution_count": 12,
   "metadata": {
    "execution": {
     "iopub.execute_input": "2023-08-11T16:07:32.397663Z",
     "iopub.status.busy": "2023-08-11T16:07:32.397212Z",
     "iopub.status.idle": "2023-08-11T16:07:32.401708Z",
     "shell.execute_reply": "2023-08-11T16:07:32.401056Z"
    }
   },
   "outputs": [],
   "source": [
    "anon.write_to_output(ext='arrow')"
   ]
  },
  {
   "cell_type": "code",
   "execution_count": 13,
   "metadata": {
    "execution": {
     "iopub.execute_input": "2023-08-11T16:07:32.404572Z",
     "iopub.status.busy": "2023-08-11T16:07:32.404143Z",
     "iopub.status.idle": "2023-08-11T16:07:32.410184Z",
     "shell.execute_reply": "2023-08-11T16:07:32.409530Z"
    }
   },
   "outputs": [
    {
     "data": {
      "text/html": [
       "<div><style>\n",
       ".dataframe > thead > tr > th,\n",
       ".dataframe > tbody > tr > td {\n",
       "  text-align: right;\n",
       "}\n",
       "</style>\n",
       "<small>shape: (7, 6)</small><table border=\"1\" class=\"dataframe\"><thead><tr><th>PREDICTOR_0</th><th>PREDICTOR_2</th><th>PREDICTOR_3</th><th>Context_Name</th><th>IH_Web_Inbound_Accepted_pxLastGroupID</th><th>Decision_Outcome</th></tr><tr><td>str</td><td>f64</td><td>str</td><td>str</td><td>str</td><td>str</td></tr></thead><tbody><tr><td>&quot;91079334692606…</td><td>1.2927e19</td><td>&quot;17182166433648…</td><td>&quot;FirstMortgage3…</td><td>&quot;33802603150933…</td><td>&quot;Rejected&quot;</td></tr><tr><td>&quot;61789247635848…</td><td>1.4856e19</td><td>&quot;74844550794649…</td><td>&quot;FirstMortgage3…</td><td>&quot;15887277523769…</td><td>&quot;Accepted&quot;</td></tr><tr><td>&quot;63065468735649…</td><td>5.6458e17</td><td>&quot;22065912682780…</td><td>&quot;MoneyMarketSav…</td><td>&quot;33802603150933…</td><td>&quot;Rejected&quot;</td></tr><tr><td>&quot;88808001230762…</td><td>4.0723e18</td><td>&quot;74844550794649…</td><td>&quot;BasicChecking&quot;</td><td>&quot;33802603150933…</td><td>&quot;Rejected&quot;</td></tr><tr><td>&quot;13539371777842…</td><td>1.4677e19</td><td>&quot;17182166433648…</td><td>&quot;BasicChecking&quot;</td><td>&quot;14275010561185…</td><td>&quot;Accepted&quot;</td></tr><tr><td>&quot;62946551191443…</td><td>1.6330e19</td><td>&quot;22065912682780…</td><td>&quot;UPlusFinPerson…</td><td>null</td><td>&quot;Rejected&quot;</td></tr><tr><td>&quot;65667149854768…</td><td>8.7675e18</td><td>&quot;22065912682780…</td><td>&quot;BasicChecking&quot;</td><td>&quot;14275010561185…</td><td>&quot;Rejected&quot;</td></tr></tbody></table></div>"
      ],
      "text/plain": [
       "shape: (7, 6)\n",
       "┌────────────────┬─────────────┬────────────────┬────────────────┬────────────────┬────────────────┐\n",
       "│ PREDICTOR_0    ┆ PREDICTOR_2 ┆ PREDICTOR_3    ┆ Context_Name   ┆ IH_Web_Inbound ┆ Decision_Outco │\n",
       "│ ---            ┆ ---         ┆ ---            ┆ ---            ┆ _Accepted_pxLa ┆ me             │\n",
       "│ str            ┆ f64         ┆ str            ┆ str            ┆ stGr…          ┆ ---            │\n",
       "│                ┆             ┆                ┆                ┆ ---            ┆ str            │\n",
       "│                ┆             ┆                ┆                ┆ str            ┆                │\n",
       "╞════════════════╪═════════════╪════════════════╪════════════════╪════════════════╪════════════════╡\n",
       "│ 91079334692606 ┆ 1.2927e19   ┆ 17182166433648 ┆ FirstMortgage3 ┆ 33802603150933 ┆ Rejected       │\n",
       "│ 49740          ┆             ┆ 233899         ┆ 0yr            ┆ 85371          ┆                │\n",
       "│ 61789247635848 ┆ 1.4856e19   ┆ 74844550794649 ┆ FirstMortgage3 ┆ 15887277523769 ┆ Accepted       │\n",
       "│ 3697           ┆             ┆ 22154          ┆ 0yr            ┆ 298083         ┆                │\n",
       "│ 63065468735649 ┆ 5.6458e17   ┆ 22065912682780 ┆ MoneyMarketSav ┆ 33802603150933 ┆ Rejected       │\n",
       "│ 12687          ┆             ┆ 66295          ┆ ingsAccount    ┆ 85371          ┆                │\n",
       "│ 88808001230762 ┆ 4.0723e18   ┆ 74844550794649 ┆ BasicChecking  ┆ 33802603150933 ┆ Rejected       │\n",
       "│ 82304          ┆             ┆ 22154          ┆                ┆ 85371          ┆                │\n",
       "│ 13539371777842 ┆ 1.4677e19   ┆ 17182166433648 ┆ BasicChecking  ┆ 14275010561185 ┆ Accepted       │\n",
       "│ 232396         ┆             ┆ 233899         ┆                ┆ 14229          ┆                │\n",
       "│ 62946551191443 ┆ 1.6330e19   ┆ 22065912682780 ┆ UPlusFinPerson ┆ null           ┆ Rejected       │\n",
       "│ 88417          ┆             ┆ 66295          ┆ al             ┆                ┆                │\n",
       "│ 65667149854768 ┆ 8.7675e18   ┆ 22065912682780 ┆ BasicChecking  ┆ 14275010561185 ┆ Rejected       │\n",
       "│ 1453           ┆             ┆ 66295          ┆                ┆ 14229          ┆                │\n",
       "└────────────────┴─────────────┴────────────────┴────────────────┴────────────────┴────────────────┘"
      ]
     },
     "execution_count": 13,
     "metadata": {},
     "output_type": "execute_result"
    }
   ],
   "source": [
    "pl.read_ipc('output/hds.arrow')"
   ]
  },
  {
   "attachments": {},
   "cell_type": "markdown",
   "metadata": {},
   "source": [
    "## Advanced: Hash fuctions\n",
    "\n",
    "By default, we use [the same hashing algorithm Polars](https://pola-rs.github.io/polars/py-polars/html/reference/expressions/api/polars.Expr.hash.html#polars.Expr.hash) uses: [xxhash](https://github.com/Cyan4973/xxHash), as implemented [here](https://github.com/pola-rs/polars/blob/3f287f370b3c388ed2f3f218b2c096382548136f/polars/polars-core/src/vector_hasher.rs#L266). xxhash is fast to compute, and you can check its performance in collision, dispersion and randomness [here](https://github.com/Cyan4973/xxHash/tree/dev/tests). \n",
    "\n",
    "xxhash accepts four distinct seeds, but by default we set the seeds to `0`. It is possible to set the `seed` argument of the `process()` function to `'random'`, which will set all four seeds to a random integer between `0` and `1000000000`. Alternatively, it is possible to supply the four seeds manually with arguments `seed`, `seed_1`, `seed_2` and `seed_3`. \n",
    "\n",
    "If the xxhash with (random) seed(s) is not deemed sufficiently secure, it is possible to use your own hashing algorithm.\n",
    "\n",
    "Note that since we're now running python code and not native Polars code anymore, this will be _significantly_ slower. Nonetheless, it is possible.\n",
    "\n",
    "Just as an example - this is how one would use sha3_256:"
   ]
  },
  {
   "cell_type": "code",
   "execution_count": 14,
   "metadata": {
    "execution": {
     "iopub.execute_input": "2023-08-11T16:07:32.413424Z",
     "iopub.status.busy": "2023-08-11T16:07:32.412999Z",
     "iopub.status.idle": "2023-08-11T16:07:32.829153Z",
     "shell.execute_reply": "2023-08-11T16:07:32.828366Z"
    }
   },
   "outputs": [
    {
     "ename": "ComputeError",
     "evalue": "AttributeError: 'int' object has no attribute 'encode'",
     "output_type": "error",
     "traceback": [
      "\u001b[0;31m---------------------------------------------------------------------------\u001b[0m",
      "\u001b[0;31mComputeError\u001b[0m                              Traceback (most recent call last)",
      "Cell \u001b[0;32mIn[14], line 3\u001b[0m\n\u001b[1;32m      1\u001b[0m \u001b[38;5;28;01mfrom\u001b[39;00m \u001b[38;5;21;01mhashlib\u001b[39;00m \u001b[38;5;28;01mimport\u001b[39;00m sha3_256\n\u001b[0;32m----> 3\u001b[0m \u001b[43manon\u001b[49m\u001b[38;5;241;43m.\u001b[39;49m\u001b[43mprocess\u001b[49m\u001b[43m(\u001b[49m\u001b[43malgorithm\u001b[49m\u001b[38;5;241;43m=\u001b[39;49m\u001b[38;5;28;43;01mlambda\u001b[39;49;00m\u001b[43m \u001b[49m\u001b[43mx\u001b[49m\u001b[43m:\u001b[49m\u001b[43m \u001b[49m\u001b[43msha3_256\u001b[49m\u001b[43m(\u001b[49m\u001b[43mx\u001b[49m\u001b[38;5;241;43m.\u001b[39;49m\u001b[43mencode\u001b[49m\u001b[43m(\u001b[49m\u001b[43m)\u001b[49m\u001b[43m)\u001b[49m\u001b[38;5;241;43m.\u001b[39;49m\u001b[43mhexdigest\u001b[49m\u001b[43m(\u001b[49m\u001b[43m)\u001b[49m\u001b[43m)\u001b[49m\n",
      "File \u001b[0;32m~/work/pega-datascientist-tools/pega-datascientist-tools/python/docs/source/articles/../../../pdstools/utils/hds_utils.py:516\u001b[0m, in \u001b[0;36mDataAnonymization.process\u001b[0;34m(self, strategy, **kwargs)\u001b[0m\n\u001b[1;32m    514\u001b[0m df \u001b[38;5;241m=\u001b[39m df\u001b[38;5;241m.\u001b[39mselect(\u001b[38;5;28mself\u001b[39m\u001b[38;5;241m.\u001b[39mcolumn_mapping\u001b[38;5;241m.\u001b[39mkeys())\u001b[38;5;241m.\u001b[39mrename(\u001b[38;5;28mself\u001b[39m\u001b[38;5;241m.\u001b[39mcolumn_mapping)\n\u001b[1;32m    515\u001b[0m \u001b[38;5;28;01mif\u001b[39;00m strategy \u001b[38;5;241m==\u001b[39m \u001b[38;5;124m\"\u001b[39m\u001b[38;5;124meager\u001b[39m\u001b[38;5;124m\"\u001b[39m:\n\u001b[0;32m--> 516\u001b[0m     \u001b[38;5;28;01mreturn\u001b[39;00m \u001b[43mdf\u001b[49m\u001b[38;5;241;43m.\u001b[39;49m\u001b[43mcollect\u001b[49m\u001b[43m(\u001b[49m\u001b[43m)\u001b[49m\n\u001b[1;32m    517\u001b[0m \u001b[38;5;28;01mreturn\u001b[39;00m df\n",
      "File \u001b[0;32m/opt/hostedtoolcache/Python/3.11.4/x64/lib/python3.11/site-packages/polars/lazyframe/frame.py:1530\u001b[0m, in \u001b[0;36mLazyFrame.collect\u001b[0;34m(self, type_coercion, predicate_pushdown, projection_pushdown, simplify_expression, no_optimization, slice_pushdown, common_subplan_elimination, streaming)\u001b[0m\n\u001b[1;32m   1519\u001b[0m     common_subplan_elimination \u001b[38;5;241m=\u001b[39m \u001b[38;5;28;01mFalse\u001b[39;00m\n\u001b[1;32m   1521\u001b[0m ldf \u001b[38;5;241m=\u001b[39m \u001b[38;5;28mself\u001b[39m\u001b[38;5;241m.\u001b[39m_ldf\u001b[38;5;241m.\u001b[39moptimization_toggle(\n\u001b[1;32m   1522\u001b[0m     type_coercion,\n\u001b[1;32m   1523\u001b[0m     predicate_pushdown,\n\u001b[0;32m   (...)\u001b[0m\n\u001b[1;32m   1528\u001b[0m     streaming,\n\u001b[1;32m   1529\u001b[0m )\n\u001b[0;32m-> 1530\u001b[0m \u001b[38;5;28;01mreturn\u001b[39;00m wrap_df(ldf\u001b[38;5;241m.\u001b[39mcollect())\n",
      "\u001b[0;31mComputeError\u001b[0m: AttributeError: 'int' object has no attribute 'encode'"
     ]
    }
   ],
   "source": [
    "from hashlib import sha3_256\n",
    "\n",
    "anon.process(algorithm=lambda x: sha3_256(x.encode()).hexdigest())"
   ]
  }
 ],
 "metadata": {
  "kernelspec": {
   "display_name": "Python 3",
   "language": "python",
   "name": "python3"
  },
  "language_info": {
   "codemirror_mode": {
    "name": "ipython",
    "version": 3
   },
   "file_extension": ".py",
   "mimetype": "text/x-python",
   "name": "python",
   "nbconvert_exporter": "python",
   "pygments_lexer": "ipython3",
   "version": "3.11.4"
  },
  "vscode": {
   "interpreter": {
    "hash": "aee8b7b246df8f9039afb4144a1f6fd8d2ca17a180786b69acc140d282b71a49"
   }
  }
 },
 "nbformat": 4,
 "nbformat_minor": 2
}
