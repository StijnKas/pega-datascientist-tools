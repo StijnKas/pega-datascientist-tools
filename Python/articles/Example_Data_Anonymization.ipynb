{
 "cells": [
  {
   "attachments": {},
   "cell_type": "markdown",
   "metadata": {},
   "source": [
    "# Data Anonymization\n",
    "\n",
    "In Pega CDH 8.5 and up, it's now possible to record the historical data as seen by the Adaptive Models. See [this academy challenge](https://academy.pega.com/challenge/exporting-historical-data/v4) for reference. This historical data can be further used to experiment with offline models, but also to fine-tune the OOTB Gradient Boosting model. However, sharing this information with Pega can be sensitive as it contains raw predictor data. \n",
    "\n",
    "To this end, we provide a simple and transparent script to fully anonimize this dataset.\n",
    "\n",
    "The DataAnonymization script is now part of pdstools, and you can import it directly as such."
   ]
  },
  {
   "cell_type": "code",
   "execution_count": 1,
   "metadata": {
    "execution": {
     "iopub.execute_input": "2024-06-25T14:42:25.587653Z",
     "iopub.status.busy": "2024-06-25T14:42:25.587473Z",
     "iopub.status.idle": "2024-06-25T14:42:25.660170Z",
     "shell.execute_reply": "2024-06-25T14:42:25.659615Z"
    },
    "nbsphinx": "hidden"
   },
   "outputs": [],
   "source": [
    "# These lines are only for rendering in the docs, and are hidden through Jupyter tags\n",
    "# Do not run if you're running the notebook seperately\n",
    "\n",
    "import os  \n",
    "import sys\n",
    "import plotly.io as pio\n",
    "pio.renderers.default = \"notebook_connected\"\n",
    "\n",
    "sys.path.append(\"../../../\")\n",
    "sys.path.append('../../python')"
   ]
  },
  {
   "cell_type": "code",
   "execution_count": 2,
   "metadata": {
    "execution": {
     "iopub.execute_input": "2024-06-25T14:42:25.662318Z",
     "iopub.status.busy": "2024-06-25T14:42:25.661985Z",
     "iopub.status.idle": "2024-06-25T14:42:26.776430Z",
     "shell.execute_reply": "2024-06-25T14:42:26.775820Z"
    }
   },
   "outputs": [],
   "source": [
    "from pdstools import ADMDatamart\n",
    "from pdstools import Config, DataAnonymization\n",
    "import polars as pl"
   ]
  },
  {
   "attachments": {},
   "cell_type": "markdown",
   "metadata": {},
   "source": [
    "## Input data\n",
    "\n",
    "To demonstrate this process, we're going to anonymise this toy example dataframe:"
   ]
  },
  {
   "cell_type": "code",
   "execution_count": 3,
   "metadata": {
    "execution": {
     "iopub.execute_input": "2024-06-25T14:42:26.779131Z",
     "iopub.status.busy": "2024-06-25T14:42:26.778696Z",
     "iopub.status.idle": "2024-06-25T14:42:26.786919Z",
     "shell.execute_reply": "2024-06-25T14:42:26.786351Z"
    }
   },
   "outputs": [
    {
     "data": {
      "text/html": [
       "<div><style>\n",
       ".dataframe > thead > tr,\n",
       ".dataframe > tbody > tr {\n",
       "  text-align: right;\n",
       "  white-space: pre-wrap;\n",
       "}\n",
       "</style>\n",
       "<small>shape: (7, 6)</small><table border=\"1\" class=\"dataframe\"><thead><tr><th>Context_Name</th><th>Customer_MaritalStatus</th><th>Customer_CLV</th><th>Customer_City</th><th>IH_Web_Inbound_Accepted_pxLastGroupID</th><th>Decision_Outcome</th></tr><tr><td>str</td><td>str</td><td>i64</td><td>str</td><td>str</td><td>str</td></tr></thead><tbody><tr><td>&quot;FirstMortgage30yr&quot;</td><td>&quot;Married&quot;</td><td>1460</td><td>&quot;Port Raoul&quot;</td><td>&quot;Account&quot;</td><td>&quot;Rejected&quot;</td></tr><tr><td>&quot;FirstMortgage30yr&quot;</td><td>&quot;Unknown&quot;</td><td>669</td><td>&quot;Laurianneshire&quot;</td><td>&quot;AutoLoans&quot;</td><td>&quot;Accepted&quot;</td></tr><tr><td>&quot;MoneyMarketSavingsAccount&quot;</td><td>&quot;No Resp+&quot;</td><td>1174</td><td>&quot;Jacobshaven&quot;</td><td>&quot;Account&quot;</td><td>&quot;Rejected&quot;</td></tr><tr><td>&quot;BasicChecking&quot;</td><td>&quot;Unknown&quot;</td><td>1476</td><td>&quot;Lindton&quot;</td><td>&quot;Account&quot;</td><td>&quot;Rejected&quot;</td></tr><tr><td>&quot;BasicChecking&quot;</td><td>&quot;Married&quot;</td><td>1211</td><td>&quot;South Jimmieshire&quot;</td><td>&quot;DepositAccounts&quot;</td><td>&quot;Accepted&quot;</td></tr><tr><td>&quot;UPlusFinPersonal&quot;</td><td>&quot;No Resp+&quot;</td><td>533</td><td>&quot;Bergeville&quot;</td><td>null</td><td>&quot;Rejected&quot;</td></tr><tr><td>&quot;BasicChecking&quot;</td><td>&quot;No Resp+&quot;</td><td>555</td><td>&quot;Willyville&quot;</td><td>&quot;DepositAccounts&quot;</td><td>&quot;Rejected&quot;</td></tr></tbody></table></div>"
      ],
      "text/plain": [
       "shape: (7, 6)\n",
       "┌────────────────┬────────────────┬──────────────┬────────────────┬────────────────┬───────────────┐\n",
       "│ Context_Name   ┆ Customer_Marit ┆ Customer_CLV ┆ Customer_City  ┆ IH_Web_Inbound ┆ Decision_Outc │\n",
       "│ ---            ┆ alStatus       ┆ ---          ┆ ---            ┆ _Accepted_pxLa ┆ ome           │\n",
       "│ str            ┆ ---            ┆ i64          ┆ str            ┆ st…            ┆ ---           │\n",
       "│                ┆ str            ┆              ┆                ┆ ---            ┆ str           │\n",
       "│                ┆                ┆              ┆                ┆ str            ┆               │\n",
       "╞════════════════╪════════════════╪══════════════╪════════════════╪════════════════╪═══════════════╡\n",
       "│ FirstMortgage3 ┆ Married        ┆ 1460         ┆ Port Raoul     ┆ Account        ┆ Rejected      │\n",
       "│ 0yr            ┆                ┆              ┆                ┆                ┆               │\n",
       "│ FirstMortgage3 ┆ Unknown        ┆ 669          ┆ Laurianneshire ┆ AutoLoans      ┆ Accepted      │\n",
       "│ 0yr            ┆                ┆              ┆                ┆                ┆               │\n",
       "│ MoneyMarketSav ┆ No Resp+       ┆ 1174         ┆ Jacobshaven    ┆ Account        ┆ Rejected      │\n",
       "│ ingsAccount    ┆                ┆              ┆                ┆                ┆               │\n",
       "│ BasicChecking  ┆ Unknown        ┆ 1476         ┆ Lindton        ┆ Account        ┆ Rejected      │\n",
       "│ BasicChecking  ┆ Married        ┆ 1211         ┆ South          ┆ DepositAccount ┆ Accepted      │\n",
       "│                ┆                ┆              ┆ Jimmieshire    ┆ s              ┆               │\n",
       "│ UPlusFinPerson ┆ No Resp+       ┆ 533          ┆ Bergeville     ┆ null           ┆ Rejected      │\n",
       "│ al             ┆                ┆              ┆                ┆                ┆               │\n",
       "│ BasicChecking  ┆ No Resp+       ┆ 555          ┆ Willyville     ┆ DepositAccount ┆ Rejected      │\n",
       "│                ┆                ┆              ┆                ┆ s              ┆               │\n",
       "└────────────────┴────────────────┴──────────────┴────────────────┴────────────────┴───────────────┘"
      ]
     },
     "execution_count": 3,
     "metadata": {},
     "output_type": "execute_result"
    }
   ],
   "source": [
    "pl.read_ndjson('../../../../data/SampleHDS.json')"
   ]
  },
  {
   "attachments": {},
   "cell_type": "markdown",
   "metadata": {},
   "source": [
    "As you can see, this dataset consists of regular predictors, IH predictors, context keys and the outcome column. Additionally, some columns are numeric, others are strings. Let's first initialize the DataAnonymization class."
   ]
  },
  {
   "cell_type": "code",
   "execution_count": 4,
   "metadata": {
    "execution": {
     "iopub.execute_input": "2024-06-25T14:42:26.789054Z",
     "iopub.status.busy": "2024-06-25T14:42:26.788740Z",
     "iopub.status.idle": "2024-06-25T14:42:26.798457Z",
     "shell.execute_reply": "2024-06-25T14:42:26.797926Z"
    }
   },
   "outputs": [],
   "source": [
    "anon = DataAnonymization(hds_folder='../../../../data/')"
   ]
  },
  {
   "attachments": {},
   "cell_type": "markdown",
   "metadata": {},
   "source": [
    "By default, the class applies a set of anonymisation techniques:\n",
    "- Column names are remapped to a non-descriptive name\n",
    "- Categorical values are hashed with a random seed\n",
    "- Numerical values are normalized between 0 and 1\n",
    "- Outcomes are mapped to a binary outcome.\n",
    "\n",
    "To apply these techniques, simply call `.process()`:"
   ]
  },
  {
   "cell_type": "code",
   "execution_count": 5,
   "metadata": {
    "execution": {
     "iopub.execute_input": "2024-06-25T14:42:26.800602Z",
     "iopub.status.busy": "2024-06-25T14:42:26.800304Z",
     "iopub.status.idle": "2024-06-25T14:42:26.805473Z",
     "shell.execute_reply": "2024-06-25T14:42:26.804955Z"
    }
   },
   "outputs": [
    {
     "data": {
      "text/html": [
       "<div><style>\n",
       ".dataframe > thead > tr,\n",
       ".dataframe > tbody > tr {\n",
       "  text-align: right;\n",
       "  white-space: pre-wrap;\n",
       "}\n",
       "</style>\n",
       "<small>shape: (7, 7)</small><table border=\"1\" class=\"dataframe\"><thead><tr><th>PREDICTOR_0</th><th>PREDICTOR_1</th><th>filename</th><th>PREDICTOR_3</th><th>Context_Name</th><th>IH_PREDICTOR_0</th><th>Decision_Outcome</th></tr><tr><td>str</td><td>str</td><td>str</td><td>f64</td><td>str</td><td>str</td><td>bool</td></tr></thead><tbody><tr><td>&quot;17035166218277735825&quot;</td><td>&quot;17652519963868814543&quot;</td><td>&quot;../../../../data/SampleHDS.jso…</td><td>6.7933e18</td><td>&quot;10914674418873696274&quot;</td><td>&quot;14362335631750911326&quot;</td><td>false</td></tr><tr><td>&quot;1534198504717545991&quot;</td><td>&quot;10586778608072319122&quot;</td><td>&quot;../../../../data/SampleHDS.jso…</td><td>1.4592e19</td><td>&quot;10914674418873696274&quot;</td><td>&quot;12544608678927418439&quot;</td><td>true</td></tr><tr><td>&quot;10772072136811014140&quot;</td><td>&quot;13755566295741326223&quot;</td><td>&quot;../../../../data/SampleHDS.jso…</td><td>1.2568e19</td><td>&quot;1534776865280916198&quot;</td><td>&quot;14362335631750911326&quot;</td><td>false</td></tr><tr><td>&quot;642657513337944795&quot;</td><td>&quot;10586778608072319122&quot;</td><td>&quot;../../../../data/SampleHDS.jso…</td><td>4.7727e18</td><td>&quot;12147529971680179869&quot;</td><td>&quot;14362335631750911326&quot;</td><td>false</td></tr><tr><td>&quot;12450727180648882671&quot;</td><td>&quot;17652519963868814543&quot;</td><td>&quot;../../../../data/SampleHDS.jso…</td><td>1.1862e19</td><td>&quot;12147529971680179869&quot;</td><td>&quot;10316811931780939832&quot;</td><td>true</td></tr><tr><td>&quot;17994206423774747023&quot;</td><td>&quot;13755566295741326223&quot;</td><td>&quot;../../../../data/SampleHDS.jso…</td><td>4.2967e18</td><td>&quot;7916812058305030117&quot;</td><td>null</td><td>false</td></tr><tr><td>&quot;13666796091799113689&quot;</td><td>&quot;13755566295741326223&quot;</td><td>&quot;../../../../data/SampleHDS.jso…</td><td>3.6049e18</td><td>&quot;12147529971680179869&quot;</td><td>&quot;10316811931780939832&quot;</td><td>false</td></tr></tbody></table></div>"
      ],
      "text/plain": [
       "shape: (7, 7)\n",
       "┌──────────────┬─────────────┬─────────────┬─────────────┬─────────────┬─────────────┬─────────────┐\n",
       "│ PREDICTOR_0  ┆ PREDICTOR_1 ┆ filename    ┆ PREDICTOR_3 ┆ Context_Nam ┆ IH_PREDICTO ┆ Decision_Ou │\n",
       "│ ---          ┆ ---         ┆ ---         ┆ ---         ┆ e           ┆ R_0         ┆ tcome       │\n",
       "│ str          ┆ str         ┆ str         ┆ f64         ┆ ---         ┆ ---         ┆ ---         │\n",
       "│              ┆             ┆             ┆             ┆ str         ┆ str         ┆ bool        │\n",
       "╞══════════════╪═════════════╪═════════════╪═════════════╪═════════════╪═════════════╪═════════════╡\n",
       "│ 170351662182 ┆ 17652519963 ┆ ../../../.. ┆ 6.7933e18   ┆ 10914674418 ┆ 14362335631 ┆ false       │\n",
       "│ 77735825     ┆ 868814543   ┆ /data/Sampl ┆             ┆ 873696274   ┆ 750911326   ┆             │\n",
       "│              ┆             ┆ eHDS.jso…   ┆             ┆             ┆             ┆             │\n",
       "│ 153419850471 ┆ 10586778608 ┆ ../../../.. ┆ 1.4592e19   ┆ 10914674418 ┆ 12544608678 ┆ true        │\n",
       "│ 7545991      ┆ 072319122   ┆ /data/Sampl ┆             ┆ 873696274   ┆ 927418439   ┆             │\n",
       "│              ┆             ┆ eHDS.jso…   ┆             ┆             ┆             ┆             │\n",
       "│ 107720721368 ┆ 13755566295 ┆ ../../../.. ┆ 1.2568e19   ┆ 15347768652 ┆ 14362335631 ┆ false       │\n",
       "│ 11014140     ┆ 741326223   ┆ /data/Sampl ┆             ┆ 80916198    ┆ 750911326   ┆             │\n",
       "│              ┆             ┆ eHDS.jso…   ┆             ┆             ┆             ┆             │\n",
       "│ 642657513337 ┆ 10586778608 ┆ ../../../.. ┆ 4.7727e18   ┆ 12147529971 ┆ 14362335631 ┆ false       │\n",
       "│ 944795       ┆ 072319122   ┆ /data/Sampl ┆             ┆ 680179869   ┆ 750911326   ┆             │\n",
       "│              ┆             ┆ eHDS.jso…   ┆             ┆             ┆             ┆             │\n",
       "│ 124507271806 ┆ 17652519963 ┆ ../../../.. ┆ 1.1862e19   ┆ 12147529971 ┆ 10316811931 ┆ true        │\n",
       "│ 48882671     ┆ 868814543   ┆ /data/Sampl ┆             ┆ 680179869   ┆ 780939832   ┆             │\n",
       "│              ┆             ┆ eHDS.jso…   ┆             ┆             ┆             ┆             │\n",
       "│ 179942064237 ┆ 13755566295 ┆ ../../../.. ┆ 4.2967e18   ┆ 79168120583 ┆ null        ┆ false       │\n",
       "│ 74747023     ┆ 741326223   ┆ /data/Sampl ┆             ┆ 05030117    ┆             ┆             │\n",
       "│              ┆             ┆ eHDS.jso…   ┆             ┆             ┆             ┆             │\n",
       "│ 136667960917 ┆ 13755566295 ┆ ../../../.. ┆ 3.6049e18   ┆ 12147529971 ┆ 10316811931 ┆ false       │\n",
       "│ 99113689     ┆ 741326223   ┆ /data/Sampl ┆             ┆ 680179869   ┆ 780939832   ┆             │\n",
       "│              ┆             ┆ eHDS.jso…   ┆             ┆             ┆             ┆             │\n",
       "└──────────────┴─────────────┴─────────────┴─────────────┴─────────────┴─────────────┴─────────────┘"
      ]
     },
     "execution_count": 5,
     "metadata": {},
     "output_type": "execute_result"
    }
   ],
   "source": [
    "anon.process()"
   ]
  },
  {
   "attachments": {},
   "cell_type": "markdown",
   "metadata": {},
   "source": [
    "To trace back the columns to their original names, the class also contains a mapping, which does not have to be provided."
   ]
  },
  {
   "cell_type": "code",
   "execution_count": 6,
   "metadata": {
    "execution": {
     "iopub.execute_input": "2024-06-25T14:42:26.807540Z",
     "iopub.status.busy": "2024-06-25T14:42:26.807201Z",
     "iopub.status.idle": "2024-06-25T14:42:26.810934Z",
     "shell.execute_reply": "2024-06-25T14:42:26.810450Z"
    }
   },
   "outputs": [
    {
     "data": {
      "text/plain": [
       "{'Customer_City': 'PREDICTOR_0',\n",
       " 'Customer_MaritalStatus': 'PREDICTOR_1',\n",
       " 'filename': 'filename',\n",
       " 'Customer_CLV': 'PREDICTOR_3',\n",
       " 'Context_Name': 'Context_Name',\n",
       " 'IH_Web_Inbound_Accepted_pxLastGroupID': 'IH_PREDICTOR_0',\n",
       " 'Decision_Outcome': 'Decision_Outcome'}"
      ]
     },
     "execution_count": 6,
     "metadata": {},
     "output_type": "execute_result"
    }
   ],
   "source": [
    "anon.column_mapping"
   ]
  },
  {
   "attachments": {},
   "cell_type": "markdown",
   "metadata": {},
   "source": [
    "## Configs\n",
    "\n",
    "Each capability can optionally be turned off - see below for the full list of config options, and refer to the API reference for the full description."
   ]
  },
  {
   "cell_type": "code",
   "execution_count": 7,
   "metadata": {
    "execution": {
     "iopub.execute_input": "2024-06-25T14:42:26.812709Z",
     "iopub.status.busy": "2024-06-25T14:42:26.812548Z",
     "iopub.status.idle": "2024-06-25T14:42:26.816645Z",
     "shell.execute_reply": "2024-06-25T14:42:26.816132Z"
    }
   },
   "outputs": [
    {
     "data": {
      "text/plain": [
       "{'config_file': None,\n",
       " 'hds_folder': '.',\n",
       " 'use_datamart': False,\n",
       " 'datamart_folder': 'datamart',\n",
       " 'output_format': 'ndjson',\n",
       " 'output_folder': 'output',\n",
       " 'mapping_file': 'mapping.map',\n",
       " 'mask_predictor_names': True,\n",
       " 'mask_context_key_names': False,\n",
       " 'mask_ih_names': True,\n",
       " 'mask_outcome_name': False,\n",
       " 'mask_predictor_values': True,\n",
       " 'mask_context_key_values': True,\n",
       " 'mask_ih_values': True,\n",
       " 'mask_outcome_values': True,\n",
       " 'context_key_label': 'Context_*',\n",
       " 'ih_label': 'IH_*',\n",
       " 'outcome_column': 'Decision_Outcome',\n",
       " 'positive_outcomes': ['Accepted', 'Clicked'],\n",
       " 'negative_outcomes': ['Rejected', 'Impression'],\n",
       " 'special_predictors': ['Decision_DecisionTime',\n",
       "  'Decision_OutcomeTime',\n",
       "  'Decision_Rank'],\n",
       " 'sample_percentage_schema_inferencing': 0.01}"
      ]
     },
     "execution_count": 7,
     "metadata": {},
     "output_type": "execute_result"
    }
   ],
   "source": [
    "dict(zip(Config.__init__.__code__.co_varnames[1:], Config.__init__.__defaults__))"
   ]
  },
  {
   "attachments": {},
   "cell_type": "markdown",
   "metadata": {},
   "source": [
    "It's easy to change these parameters by just passing the keyword arguments. In the following example, we\n",
    "- Keep the IH predictor names\n",
    "- Keep the outcome values\n",
    "- Keep the context key values\n",
    "- Keep the context key predictor names"
   ]
  },
  {
   "cell_type": "code",
   "execution_count": 8,
   "metadata": {
    "execution": {
     "iopub.execute_input": "2024-06-25T14:42:26.818743Z",
     "iopub.status.busy": "2024-06-25T14:42:26.818400Z",
     "iopub.status.idle": "2024-06-25T14:42:26.825880Z",
     "shell.execute_reply": "2024-06-25T14:42:26.825425Z"
    }
   },
   "outputs": [
    {
     "data": {
      "text/html": [
       "<div><style>\n",
       ".dataframe > thead > tr,\n",
       ".dataframe > tbody > tr {\n",
       "  text-align: right;\n",
       "  white-space: pre-wrap;\n",
       "}\n",
       "</style>\n",
       "<small>shape: (7, 7)</small><table border=\"1\" class=\"dataframe\"><thead><tr><th>PREDICTOR_0</th><th>PREDICTOR_1</th><th>filename</th><th>PREDICTOR_3</th><th>Context_Name</th><th>IH_Web_Inbound_Accepted_pxLastGroupID</th><th>Decision_Outcome</th></tr><tr><td>str</td><td>str</td><td>str</td><td>f64</td><td>str</td><td>str</td><td>str</td></tr></thead><tbody><tr><td>&quot;10421530456688695505&quot;</td><td>&quot;1307786959389501633&quot;</td><td>&quot;../../../../data/SampleHDS.jso…</td><td>9.1389e18</td><td>&quot;FirstMortgage30yr&quot;</td><td>&quot;1662383219869985921&quot;</td><td>&quot;Rejected&quot;</td></tr><tr><td>&quot;13057940419739951786&quot;</td><td>&quot;8970986323778493984&quot;</td><td>&quot;../../../../data/SampleHDS.jso…</td><td>1.0326e19</td><td>&quot;FirstMortgage30yr&quot;</td><td>&quot;6842710262953036803&quot;</td><td>&quot;Accepted&quot;</td></tr><tr><td>&quot;11146903298179721276&quot;</td><td>&quot;9055545976914504551&quot;</td><td>&quot;../../../../data/SampleHDS.jso…</td><td>1.7199e19</td><td>&quot;MoneyMarketSavingsAccount&quot;</td><td>&quot;1662383219869985921&quot;</td><td>&quot;Rejected&quot;</td></tr><tr><td>&quot;9826843087142990640&quot;</td><td>&quot;8970986323778493984&quot;</td><td>&quot;../../../../data/SampleHDS.jso…</td><td>4.5974e18</td><td>&quot;BasicChecking&quot;</td><td>&quot;1662383219869985921&quot;</td><td>&quot;Rejected&quot;</td></tr><tr><td>&quot;10707366210877945620&quot;</td><td>&quot;1307786959389501633&quot;</td><td>&quot;../../../../data/SampleHDS.jso…</td><td>7.7153e18</td><td>&quot;BasicChecking&quot;</td><td>&quot;14982254092979331165&quot;</td><td>&quot;Accepted&quot;</td></tr><tr><td>&quot;12128385130417276013&quot;</td><td>&quot;9055545976914504551&quot;</td><td>&quot;../../../../data/SampleHDS.jso…</td><td>1.3290e19</td><td>&quot;UPlusFinPersonal&quot;</td><td>null</td><td>&quot;Rejected&quot;</td></tr><tr><td>&quot;284740001734369655&quot;</td><td>&quot;9055545976914504551&quot;</td><td>&quot;../../../../data/SampleHDS.jso…</td><td>8.4425e18</td><td>&quot;BasicChecking&quot;</td><td>&quot;14982254092979331165&quot;</td><td>&quot;Rejected&quot;</td></tr></tbody></table></div>"
      ],
      "text/plain": [
       "shape: (7, 7)\n",
       "┌──────────────┬─────────────┬─────────────┬─────────────┬─────────────┬─────────────┬─────────────┐\n",
       "│ PREDICTOR_0  ┆ PREDICTOR_1 ┆ filename    ┆ PREDICTOR_3 ┆ Context_Nam ┆ IH_Web_Inbo ┆ Decision_Ou │\n",
       "│ ---          ┆ ---         ┆ ---         ┆ ---         ┆ e           ┆ und_Accepte ┆ tcome       │\n",
       "│ str          ┆ str         ┆ str         ┆ f64         ┆ ---         ┆ d_pxLast…   ┆ ---         │\n",
       "│              ┆             ┆             ┆             ┆ str         ┆ ---         ┆ str         │\n",
       "│              ┆             ┆             ┆             ┆             ┆ str         ┆             │\n",
       "╞══════════════╪═════════════╪═════════════╪═════════════╪═════════════╪═════════════╪═════════════╡\n",
       "│ 104215304566 ┆ 13077869593 ┆ ../../../.. ┆ 9.1389e18   ┆ FirstMortga ┆ 16623832198 ┆ Rejected    │\n",
       "│ 88695505     ┆ 89501633    ┆ /data/Sampl ┆             ┆ ge30yr      ┆ 69985921    ┆             │\n",
       "│              ┆             ┆ eHDS.jso…   ┆             ┆             ┆             ┆             │\n",
       "│ 130579404197 ┆ 89709863237 ┆ ../../../.. ┆ 1.0326e19   ┆ FirstMortga ┆ 68427102629 ┆ Accepted    │\n",
       "│ 39951786     ┆ 78493984    ┆ /data/Sampl ┆             ┆ ge30yr      ┆ 53036803    ┆             │\n",
       "│              ┆             ┆ eHDS.jso…   ┆             ┆             ┆             ┆             │\n",
       "│ 111469032981 ┆ 90555459769 ┆ ../../../.. ┆ 1.7199e19   ┆ MoneyMarket ┆ 16623832198 ┆ Rejected    │\n",
       "│ 79721276     ┆ 14504551    ┆ /data/Sampl ┆             ┆ SavingsAcco ┆ 69985921    ┆             │\n",
       "│              ┆             ┆ eHDS.jso…   ┆             ┆ unt         ┆             ┆             │\n",
       "│ 982684308714 ┆ 89709863237 ┆ ../../../.. ┆ 4.5974e18   ┆ BasicChecki ┆ 16623832198 ┆ Rejected    │\n",
       "│ 2990640      ┆ 78493984    ┆ /data/Sampl ┆             ┆ ng          ┆ 69985921    ┆             │\n",
       "│              ┆             ┆ eHDS.jso…   ┆             ┆             ┆             ┆             │\n",
       "│ 107073662108 ┆ 13077869593 ┆ ../../../.. ┆ 7.7153e18   ┆ BasicChecki ┆ 14982254092 ┆ Accepted    │\n",
       "│ 77945620     ┆ 89501633    ┆ /data/Sampl ┆             ┆ ng          ┆ 979331165   ┆             │\n",
       "│              ┆             ┆ eHDS.jso…   ┆             ┆             ┆             ┆             │\n",
       "│ 121283851304 ┆ 90555459769 ┆ ../../../.. ┆ 1.3290e19   ┆ UPlusFinPer ┆ null        ┆ Rejected    │\n",
       "│ 17276013     ┆ 14504551    ┆ /data/Sampl ┆             ┆ sonal       ┆             ┆             │\n",
       "│              ┆             ┆ eHDS.jso…   ┆             ┆             ┆             ┆             │\n",
       "│ 284740001734 ┆ 90555459769 ┆ ../../../.. ┆ 8.4425e18   ┆ BasicChecki ┆ 14982254092 ┆ Rejected    │\n",
       "│ 369655       ┆ 14504551    ┆ /data/Sampl ┆             ┆ ng          ┆ 979331165   ┆             │\n",
       "│              ┆             ┆ eHDS.jso…   ┆             ┆             ┆             ┆             │\n",
       "└──────────────┴─────────────┴─────────────┴─────────────┴─────────────┴─────────────┴─────────────┘"
      ]
     },
     "execution_count": 8,
     "metadata": {},
     "output_type": "execute_result"
    }
   ],
   "source": [
    "anon = DataAnonymization(\n",
    "    hds_folder=\"../../../../data/\",\n",
    "    mask_ih_names=False,\n",
    "    mask_outcome_values=False,\n",
    "    mask_context_key_values=False,\n",
    "    mask_context_key_names=False,\n",
    ")\n",
    "anon.process()\n"
   ]
  },
  {
   "attachments": {},
   "cell_type": "markdown",
   "metadata": {},
   "source": [
    "The configs can also be written and read as such:"
   ]
  },
  {
   "cell_type": "code",
   "execution_count": 9,
   "metadata": {
    "execution": {
     "iopub.execute_input": "2024-06-25T14:42:26.827934Z",
     "iopub.status.busy": "2024-06-25T14:42:26.827563Z",
     "iopub.status.idle": "2024-06-25T14:42:26.830445Z",
     "shell.execute_reply": "2024-06-25T14:42:26.829908Z"
    }
   },
   "outputs": [],
   "source": [
    "anon.config.save_to_config_file('config.json')"
   ]
  },
  {
   "cell_type": "code",
   "execution_count": 10,
   "metadata": {
    "execution": {
     "iopub.execute_input": "2024-06-25T14:42:26.832411Z",
     "iopub.status.busy": "2024-06-25T14:42:26.832125Z",
     "iopub.status.idle": "2024-06-25T14:42:26.839830Z",
     "shell.execute_reply": "2024-06-25T14:42:26.839372Z"
    }
   },
   "outputs": [
    {
     "data": {
      "text/html": [
       "<div><style>\n",
       ".dataframe > thead > tr,\n",
       ".dataframe > tbody > tr {\n",
       "  text-align: right;\n",
       "  white-space: pre-wrap;\n",
       "}\n",
       "</style>\n",
       "<small>shape: (7, 7)</small><table border=\"1\" class=\"dataframe\"><thead><tr><th>PREDICTOR_0</th><th>PREDICTOR_1</th><th>filename</th><th>PREDICTOR_3</th><th>Context_Name</th><th>IH_Web_Inbound_Accepted_pxLastGroupID</th><th>Decision_Outcome</th></tr><tr><td>str</td><td>str</td><td>str</td><td>f64</td><td>str</td><td>str</td><td>str</td></tr></thead><tbody><tr><td>&quot;5782417346479323568&quot;</td><td>&quot;10934061173546713242&quot;</td><td>&quot;../../../../data/SampleHDS.jso…</td><td>1.7925e19</td><td>&quot;FirstMortgage30yr&quot;</td><td>&quot;16729474100050906583&quot;</td><td>&quot;Rejected&quot;</td></tr><tr><td>&quot;11648524400818304306&quot;</td><td>&quot;8728289127192121741&quot;</td><td>&quot;../../../../data/SampleHDS.jso…</td><td>2.9861e18</td><td>&quot;FirstMortgage30yr&quot;</td><td>&quot;4430032388472282973&quot;</td><td>&quot;Accepted&quot;</td></tr><tr><td>&quot;4035700762818031092&quot;</td><td>&quot;8635080010971920438&quot;</td><td>&quot;../../../../data/SampleHDS.jso…</td><td>4.4699e18</td><td>&quot;MoneyMarketSavingsAccount&quot;</td><td>&quot;16729474100050906583&quot;</td><td>&quot;Rejected&quot;</td></tr><tr><td>&quot;12417966989149837960&quot;</td><td>&quot;8728289127192121741&quot;</td><td>&quot;../../../../data/SampleHDS.jso…</td><td>1.0495e19</td><td>&quot;BasicChecking&quot;</td><td>&quot;16729474100050906583&quot;</td><td>&quot;Rejected&quot;</td></tr><tr><td>&quot;11546184594831846259&quot;</td><td>&quot;10934061173546713242&quot;</td><td>&quot;../../../../data/SampleHDS.jso…</td><td>4.3197e18</td><td>&quot;BasicChecking&quot;</td><td>&quot;18141289579815432083&quot;</td><td>&quot;Accepted&quot;</td></tr><tr><td>&quot;1236455152202923613&quot;</td><td>&quot;8635080010971920438&quot;</td><td>&quot;../../../../data/SampleHDS.jso…</td><td>1.5144e19</td><td>&quot;UPlusFinPersonal&quot;</td><td>null</td><td>&quot;Rejected&quot;</td></tr><tr><td>&quot;17769396838642530982&quot;</td><td>&quot;8635080010971920438&quot;</td><td>&quot;../../../../data/SampleHDS.jso…</td><td>1.4045e19</td><td>&quot;BasicChecking&quot;</td><td>&quot;18141289579815432083&quot;</td><td>&quot;Rejected&quot;</td></tr></tbody></table></div>"
      ],
      "text/plain": [
       "shape: (7, 7)\n",
       "┌──────────────┬─────────────┬─────────────┬─────────────┬─────────────┬─────────────┬─────────────┐\n",
       "│ PREDICTOR_0  ┆ PREDICTOR_1 ┆ filename    ┆ PREDICTOR_3 ┆ Context_Nam ┆ IH_Web_Inbo ┆ Decision_Ou │\n",
       "│ ---          ┆ ---         ┆ ---         ┆ ---         ┆ e           ┆ und_Accepte ┆ tcome       │\n",
       "│ str          ┆ str         ┆ str         ┆ f64         ┆ ---         ┆ d_pxLast…   ┆ ---         │\n",
       "│              ┆             ┆             ┆             ┆ str         ┆ ---         ┆ str         │\n",
       "│              ┆             ┆             ┆             ┆             ┆ str         ┆             │\n",
       "╞══════════════╪═════════════╪═════════════╪═════════════╪═════════════╪═════════════╪═════════════╡\n",
       "│ 578241734647 ┆ 10934061173 ┆ ../../../.. ┆ 1.7925e19   ┆ FirstMortga ┆ 16729474100 ┆ Rejected    │\n",
       "│ 9323568      ┆ 546713242   ┆ /data/Sampl ┆             ┆ ge30yr      ┆ 050906583   ┆             │\n",
       "│              ┆             ┆ eHDS.jso…   ┆             ┆             ┆             ┆             │\n",
       "│ 116485244008 ┆ 87282891271 ┆ ../../../.. ┆ 2.9861e18   ┆ FirstMortga ┆ 44300323884 ┆ Accepted    │\n",
       "│ 18304306     ┆ 92121741    ┆ /data/Sampl ┆             ┆ ge30yr      ┆ 72282973    ┆             │\n",
       "│              ┆             ┆ eHDS.jso…   ┆             ┆             ┆             ┆             │\n",
       "│ 403570076281 ┆ 86350800109 ┆ ../../../.. ┆ 4.4699e18   ┆ MoneyMarket ┆ 16729474100 ┆ Rejected    │\n",
       "│ 8031092      ┆ 71920438    ┆ /data/Sampl ┆             ┆ SavingsAcco ┆ 050906583   ┆             │\n",
       "│              ┆             ┆ eHDS.jso…   ┆             ┆ unt         ┆             ┆             │\n",
       "│ 124179669891 ┆ 87282891271 ┆ ../../../.. ┆ 1.0495e19   ┆ BasicChecki ┆ 16729474100 ┆ Rejected    │\n",
       "│ 49837960     ┆ 92121741    ┆ /data/Sampl ┆             ┆ ng          ┆ 050906583   ┆             │\n",
       "│              ┆             ┆ eHDS.jso…   ┆             ┆             ┆             ┆             │\n",
       "│ 115461845948 ┆ 10934061173 ┆ ../../../.. ┆ 4.3197e18   ┆ BasicChecki ┆ 18141289579 ┆ Accepted    │\n",
       "│ 31846259     ┆ 546713242   ┆ /data/Sampl ┆             ┆ ng          ┆ 815432083   ┆             │\n",
       "│              ┆             ┆ eHDS.jso…   ┆             ┆             ┆             ┆             │\n",
       "│ 123645515220 ┆ 86350800109 ┆ ../../../.. ┆ 1.5144e19   ┆ UPlusFinPer ┆ null        ┆ Rejected    │\n",
       "│ 2923613      ┆ 71920438    ┆ /data/Sampl ┆             ┆ sonal       ┆             ┆             │\n",
       "│              ┆             ┆ eHDS.jso…   ┆             ┆             ┆             ┆             │\n",
       "│ 177693968386 ┆ 86350800109 ┆ ../../../.. ┆ 1.4045e19   ┆ BasicChecki ┆ 18141289579 ┆ Rejected    │\n",
       "│ 42530982     ┆ 71920438    ┆ /data/Sampl ┆             ┆ ng          ┆ 815432083   ┆             │\n",
       "│              ┆             ┆ eHDS.jso…   ┆             ┆             ┆             ┆             │\n",
       "└──────────────┴─────────────┴─────────────┴─────────────┴─────────────┴─────────────┴─────────────┘"
      ]
     },
     "execution_count": 10,
     "metadata": {},
     "output_type": "execute_result"
    }
   ],
   "source": [
    "anon = DataAnonymization(config=Config(config_file='config.json'))\n",
    "anon.process()"
   ]
  },
  {
   "attachments": {},
   "cell_type": "markdown",
   "metadata": {},
   "source": [
    "## Exporting\n",
    "Two functions export:\n",
    "- `create_mapping_file()` writes the mapping file of the predictor names\n",
    "- `write_to_output()` writes the processed dataframe to disk\n",
    "\n",
    "Write to output accepts the following extensions: `[\"ndjson\", \"parquet\", \"arrow\", \"csv\"]`"
   ]
  },
  {
   "cell_type": "code",
   "execution_count": 11,
   "metadata": {
    "execution": {
     "iopub.execute_input": "2024-06-25T14:42:26.841836Z",
     "iopub.status.busy": "2024-06-25T14:42:26.841542Z",
     "iopub.status.idle": "2024-06-25T14:42:26.844913Z",
     "shell.execute_reply": "2024-06-25T14:42:26.844470Z"
    }
   },
   "outputs": [
    {
     "name": "stdout",
     "output_type": "stream",
     "text": [
      "Customer_City=PREDICTOR_0\n",
      "Customer_MaritalStatus=PREDICTOR_1\n",
      "filename=filename\n",
      "Customer_CLV=PREDICTOR_3\n",
      "Context_Name=Context_Name\n",
      "IH_Web_Inbound_Accepted_pxLastGroupID=IH_Web_Inbound_Accepted_pxLastGroupID\n",
      "Decision_Outcome=Decision_Outcome\n",
      "\n"
     ]
    }
   ],
   "source": [
    "anon.create_mapping_file()\n",
    "with open('mapping.map') as f:\n",
    "    print(f.read())"
   ]
  },
  {
   "cell_type": "code",
   "execution_count": 12,
   "metadata": {
    "execution": {
     "iopub.execute_input": "2024-06-25T14:42:26.846898Z",
     "iopub.status.busy": "2024-06-25T14:42:26.846607Z",
     "iopub.status.idle": "2024-06-25T14:42:26.850122Z",
     "shell.execute_reply": "2024-06-25T14:42:26.849704Z"
    }
   },
   "outputs": [],
   "source": [
    "anon.write_to_output(ext='arrow')"
   ]
  },
  {
   "cell_type": "code",
   "execution_count": 13,
   "metadata": {
    "execution": {
     "iopub.execute_input": "2024-06-25T14:42:26.852065Z",
     "iopub.status.busy": "2024-06-25T14:42:26.851778Z",
     "iopub.status.idle": "2024-06-25T14:42:26.856143Z",
     "shell.execute_reply": "2024-06-25T14:42:26.855632Z"
    }
   },
   "outputs": [
    {
     "data": {
      "text/html": [
       "<div><style>\n",
       ".dataframe > thead > tr,\n",
       ".dataframe > tbody > tr {\n",
       "  text-align: right;\n",
       "  white-space: pre-wrap;\n",
       "}\n",
       "</style>\n",
       "<small>shape: (7, 6)</small><table border=\"1\" class=\"dataframe\"><thead><tr><th>PREDICTOR_0</th><th>PREDICTOR_1</th><th>PREDICTOR_3</th><th>Context_Name</th><th>IH_Web_Inbound_Accepted_pxLastGroupID</th><th>Decision_Outcome</th></tr><tr><td>str</td><td>str</td><td>f64</td><td>str</td><td>str</td><td>str</td></tr></thead><tbody><tr><td>&quot;5810044136813672070&quot;</td><td>&quot;16249872205076037054&quot;</td><td>1.4377e19</td><td>&quot;FirstMortgage30yr&quot;</td><td>&quot;13256866394841191028&quot;</td><td>&quot;Rejected&quot;</td></tr><tr><td>&quot;17193484032099304275&quot;</td><td>&quot;14047044115769636416&quot;</td><td>1.0320e18</td><td>&quot;FirstMortgage30yr&quot;</td><td>&quot;6022281016663483843&quot;</td><td>&quot;Accepted&quot;</td></tr><tr><td>&quot;7964785004449590286&quot;</td><td>&quot;540411473791759681&quot;</td><td>1.6790e19</td><td>&quot;MoneyMarketSavingsAccount&quot;</td><td>&quot;13256866394841191028&quot;</td><td>&quot;Rejected&quot;</td></tr><tr><td>&quot;10832742311765399231&quot;</td><td>&quot;14047044115769636416&quot;</td><td>1.3430e19</td><td>&quot;BasicChecking&quot;</td><td>&quot;13256866394841191028&quot;</td><td>&quot;Rejected&quot;</td></tr><tr><td>&quot;3983329073171656152&quot;</td><td>&quot;16249872205076037054&quot;</td><td>5.9512e18</td><td>&quot;BasicChecking&quot;</td><td>&quot;1585468701919790330&quot;</td><td>&quot;Accepted&quot;</td></tr><tr><td>&quot;14485207850875705700&quot;</td><td>&quot;540411473791759681&quot;</td><td>1.7725e19</td><td>&quot;UPlusFinPersonal&quot;</td><td>null</td><td>&quot;Rejected&quot;</td></tr><tr><td>&quot;17438646609208281124&quot;</td><td>&quot;540411473791759681&quot;</td><td>1.0423e19</td><td>&quot;BasicChecking&quot;</td><td>&quot;1585468701919790330&quot;</td><td>&quot;Rejected&quot;</td></tr></tbody></table></div>"
      ],
      "text/plain": [
       "shape: (7, 6)\n",
       "┌────────────────┬────────────────┬─────────────┬────────────────┬────────────────┬────────────────┐\n",
       "│ PREDICTOR_0    ┆ PREDICTOR_1    ┆ PREDICTOR_3 ┆ Context_Name   ┆ IH_Web_Inbound ┆ Decision_Outco │\n",
       "│ ---            ┆ ---            ┆ ---         ┆ ---            ┆ _Accepted_pxLa ┆ me             │\n",
       "│ str            ┆ str            ┆ f64         ┆ str            ┆ st…            ┆ ---            │\n",
       "│                ┆                ┆             ┆                ┆ ---            ┆ str            │\n",
       "│                ┆                ┆             ┆                ┆ str            ┆                │\n",
       "╞════════════════╪════════════════╪═════════════╪════════════════╪════════════════╪════════════════╡\n",
       "│ 58100441368136 ┆ 16249872205076 ┆ 1.4377e19   ┆ FirstMortgage3 ┆ 13256866394841 ┆ Rejected       │\n",
       "│ 72070          ┆ 037054         ┆             ┆ 0yr            ┆ 191028         ┆                │\n",
       "│ 17193484032099 ┆ 14047044115769 ┆ 1.0320e18   ┆ FirstMortgage3 ┆ 60222810166634 ┆ Accepted       │\n",
       "│ 304275         ┆ 636416         ┆             ┆ 0yr            ┆ 83843          ┆                │\n",
       "│ 79647850044495 ┆ 54041147379175 ┆ 1.6790e19   ┆ MoneyMarketSav ┆ 13256866394841 ┆ Rejected       │\n",
       "│ 90286          ┆ 9681           ┆             ┆ ingsAccount    ┆ 191028         ┆                │\n",
       "│ 10832742311765 ┆ 14047044115769 ┆ 1.3430e19   ┆ BasicChecking  ┆ 13256866394841 ┆ Rejected       │\n",
       "│ 399231         ┆ 636416         ┆             ┆                ┆ 191028         ┆                │\n",
       "│ 39833290731716 ┆ 16249872205076 ┆ 5.9512e18   ┆ BasicChecking  ┆ 15854687019197 ┆ Accepted       │\n",
       "│ 56152          ┆ 037054         ┆             ┆                ┆ 90330          ┆                │\n",
       "│ 14485207850875 ┆ 54041147379175 ┆ 1.7725e19   ┆ UPlusFinPerson ┆ null           ┆ Rejected       │\n",
       "│ 705700         ┆ 9681           ┆             ┆ al             ┆                ┆                │\n",
       "│ 17438646609208 ┆ 54041147379175 ┆ 1.0423e19   ┆ BasicChecking  ┆ 15854687019197 ┆ Rejected       │\n",
       "│ 281124         ┆ 9681           ┆             ┆                ┆ 90330          ┆                │\n",
       "└────────────────┴────────────────┴─────────────┴────────────────┴────────────────┴────────────────┘"
      ]
     },
     "execution_count": 13,
     "metadata": {},
     "output_type": "execute_result"
    }
   ],
   "source": [
    "pl.read_ipc('output/hds.arrow')"
   ]
  },
  {
   "attachments": {},
   "cell_type": "markdown",
   "metadata": {
    "nbsphinx": "hidden"
   },
   "source": [
    "## Advanced: Hash fuctions\n",
    "\n",
    "By default, we use [the same hashing algorithm Polars](https://pola-rs.github.io/polars/py-polars/html/reference/expressions/api/polars.Expr.hash.html#polars.Expr.hash) uses: [xxhash](https://github.com/Cyan4973/xxHash), as implemented [here](https://github.com/pola-rs/polars/blob/3f287f370b3c388ed2f3f218b2c096382548136f/polars/polars-core/src/vector_hasher.rs#L266). xxhash is fast to compute, and you can check its performance in collision, dispersion and randomness [here](https://github.com/Cyan4973/xxHash/tree/dev/tests). \n",
    "\n",
    "xxhash accepts four distinct seeds, but by default we set the seeds to `0`. It is possible to set the `seed` argument of the `process()` function to `'random'`, which will set all four seeds to a random integer between `0` and `1000000000`. Alternatively, it is possible to supply the four seeds manually with arguments `seed`, `seed_1`, `seed_2` and `seed_3`. \n",
    "\n",
    "If the xxhash with (random) seed(s) is not deemed sufficiently secure, it is possible to use your own hashing algorithm.\n",
    "\n",
    "Note that since we're now running python code and not native Polars code anymore, this will be _significantly_ slower. Nonetheless, it is possible.\n",
    "\n",
    "Just as an example - this is how one would use sha3_256:"
   ]
  },
  {
   "cell_type": "code",
   "execution_count": 14,
   "metadata": {
    "execution": {
     "iopub.execute_input": "2024-06-25T14:42:26.858098Z",
     "iopub.status.busy": "2024-06-25T14:42:26.857721Z",
     "iopub.status.idle": "2024-06-25T14:42:27.184926Z",
     "shell.execute_reply": "2024-06-25T14:42:27.184337Z"
    },
    "nbsphinx": "hidden"
   },
   "outputs": [
    {
     "name": "stderr",
     "output_type": "stream",
     "text": [
      "sys:1: MapWithoutReturnDtypeWarning:\n",
      "\n",
      "Calling `map_elements` without specifying `return_dtype` can lead to unpredictable results. Specify `return_dtype` to silence this warning.\n",
      "\n",
      "sys:1: MapWithoutReturnDtypeWarning:\n",
      "\n",
      "Calling `map_elements` without specifying `return_dtype` can lead to unpredictable results. Specify `return_dtype` to silence this warning.\n",
      "\n",
      "sys:1: MapWithoutReturnDtypeWarning:\n",
      "\n",
      "Calling `map_elements` without specifying `return_dtype` can lead to unpredictable results. Specify `return_dtype` to silence this warning.\n",
      "\n",
      "sys:1: MapWithoutReturnDtypeWarning:\n",
      "\n",
      "Calling `map_elements` without specifying `return_dtype` can lead to unpredictable results. Specify `return_dtype` to silence this warning.\n",
      "\n"
     ]
    },
    {
     "ename": "ComputeError",
     "evalue": "AttributeError: 'int' object has no attribute 'encode'",
     "output_type": "error",
     "traceback": [
      "\u001b[0;31m---------------------------------------------------------------------------\u001b[0m",
      "\u001b[0;31mComputeError\u001b[0m                              Traceback (most recent call last)",
      "Cell \u001b[0;32mIn[14], line 3\u001b[0m\n\u001b[1;32m      1\u001b[0m \u001b[38;5;28;01mfrom\u001b[39;00m \u001b[38;5;21;01mhashlib\u001b[39;00m \u001b[38;5;28;01mimport\u001b[39;00m sha3_256\n\u001b[0;32m----> 3\u001b[0m \u001b[43manon\u001b[49m\u001b[38;5;241;43m.\u001b[39;49m\u001b[43mprocess\u001b[49m\u001b[43m(\u001b[49m\u001b[43malgorithm\u001b[49m\u001b[38;5;241;43m=\u001b[39;49m\u001b[38;5;28;43;01mlambda\u001b[39;49;00m\u001b[43m \u001b[49m\u001b[43mx\u001b[49m\u001b[43m:\u001b[49m\u001b[43m \u001b[49m\u001b[43msha3_256\u001b[49m\u001b[43m(\u001b[49m\u001b[43mx\u001b[49m\u001b[38;5;241;43m.\u001b[39;49m\u001b[43mencode\u001b[49m\u001b[43m(\u001b[49m\u001b[43m)\u001b[49m\u001b[43m)\u001b[49m\u001b[38;5;241;43m.\u001b[39;49m\u001b[43mhexdigest\u001b[49m\u001b[43m(\u001b[49m\u001b[43m)\u001b[49m\u001b[43m)\u001b[49m\n",
      "File \u001b[0;32m~/work/pega-datascientist-tools/pega-datascientist-tools/python/docs/source/articles/../../../pdstools/utils/hds_utils.py:512\u001b[0m, in \u001b[0;36mDataAnonymization.process\u001b[0;34m(self, strategy, **kwargs)\u001b[0m\n\u001b[1;32m    510\u001b[0m df \u001b[38;5;241m=\u001b[39m df\u001b[38;5;241m.\u001b[39mselect(\u001b[38;5;28mself\u001b[39m\u001b[38;5;241m.\u001b[39mcolumn_mapping\u001b[38;5;241m.\u001b[39mkeys())\u001b[38;5;241m.\u001b[39mrename(\u001b[38;5;28mself\u001b[39m\u001b[38;5;241m.\u001b[39mcolumn_mapping)\n\u001b[1;32m    511\u001b[0m \u001b[38;5;28;01mif\u001b[39;00m strategy \u001b[38;5;241m==\u001b[39m \u001b[38;5;124m\"\u001b[39m\u001b[38;5;124meager\u001b[39m\u001b[38;5;124m\"\u001b[39m:\n\u001b[0;32m--> 512\u001b[0m     \u001b[38;5;28;01mreturn\u001b[39;00m \u001b[43mdf\u001b[49m\u001b[38;5;241;43m.\u001b[39;49m\u001b[43mcollect\u001b[49m\u001b[43m(\u001b[49m\u001b[43m)\u001b[49m\n\u001b[1;32m    513\u001b[0m \u001b[38;5;28;01mreturn\u001b[39;00m df\n",
      "File \u001b[0;32m/opt/hostedtoolcache/Python/3.11.9/x64/lib/python3.11/site-packages/polars/lazyframe/frame.py:1967\u001b[0m, in \u001b[0;36mLazyFrame.collect\u001b[0;34m(self, type_coercion, predicate_pushdown, projection_pushdown, simplify_expression, slice_pushdown, comm_subplan_elim, comm_subexpr_elim, cluster_with_columns, no_optimization, streaming, background, _eager, **_kwargs)\u001b[0m\n\u001b[1;32m   1964\u001b[0m \u001b[38;5;66;03m# Only for testing purposes atm.\u001b[39;00m\n\u001b[1;32m   1965\u001b[0m callback \u001b[38;5;241m=\u001b[39m _kwargs\u001b[38;5;241m.\u001b[39mget(\u001b[38;5;124m\"\u001b[39m\u001b[38;5;124mpost_opt_callback\u001b[39m\u001b[38;5;124m\"\u001b[39m)\n\u001b[0;32m-> 1967\u001b[0m \u001b[38;5;28;01mreturn\u001b[39;00m wrap_df(\u001b[43mldf\u001b[49m\u001b[38;5;241;43m.\u001b[39;49m\u001b[43mcollect\u001b[49m\u001b[43m(\u001b[49m\u001b[43mcallback\u001b[49m\u001b[43m)\u001b[49m)\n",
      "\u001b[0;31mComputeError\u001b[0m: AttributeError: 'int' object has no attribute 'encode'"
     ]
    }
   ],
   "source": [
    "from hashlib import sha3_256\n",
    "\n",
    "anon.process(algorithm=lambda x: sha3_256(x.encode()).hexdigest())"
   ]
  }
 ],
 "metadata": {
  "kernelspec": {
   "display_name": "Python 3",
   "language": "python",
   "name": "python3"
  },
  "language_info": {
   "codemirror_mode": {
    "name": "ipython",
    "version": 3
   },
   "file_extension": ".py",
   "mimetype": "text/x-python",
   "name": "python",
   "nbconvert_exporter": "python",
   "pygments_lexer": "ipython3",
   "version": "3.11.9"
  },
  "vscode": {
   "interpreter": {
    "hash": "aee8b7b246df8f9039afb4144a1f6fd8d2ca17a180786b69acc140d282b71a49"
   }
  }
 },
 "nbformat": 4,
 "nbformat_minor": 2
}
