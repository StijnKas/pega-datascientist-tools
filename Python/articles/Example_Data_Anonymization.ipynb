{
 "cells": [
  {
   "attachments": {},
   "cell_type": "markdown",
   "metadata": {},
   "source": [
    "# Example data anonymization\n",
    "\n",
    "In Pega CDH 8.5 and up, it's now possible to record the historical data as seen by the Adaptive Models. See [this academy challenge](https://academy.pega.com/challenge/exporting-historical-data/v4) for reference. This historical data can be further used to experiment with offline models, but also to fine-tune the OOTB Gradient Boosting model. However, sharing this information with Pega can be sensitive as it contains raw predictor data. \n",
    "\n",
    "To this end, we provide a simple and transparent script to fully anonimize this dataset.\n",
    "\n",
    "The DataAnonymization script is now part of pdstools, and you can import it directly as such."
   ]
  },
  {
   "cell_type": "code",
   "execution_count": 1,
   "metadata": {
    "execution": {
     "iopub.execute_input": "2023-10-25T18:43:27.818752Z",
     "iopub.status.busy": "2023-10-25T18:43:27.818550Z",
     "iopub.status.idle": "2023-10-25T18:43:27.904371Z",
     "shell.execute_reply": "2023-10-25T18:43:27.903347Z"
    },
    "nbsphinx": "hidden"
   },
   "outputs": [],
   "source": [
    "# These lines are only for rendering in the docs, and are hidden through Jupyter tags\n",
    "# Do not run if you're running the notebook seperately\n",
    "\n",
    "import os  \n",
    "import sys\n",
    "import plotly.io as pio\n",
    "pio.renderers.default = \"notebook_connected\"\n",
    "\n",
    "sys.path.append(\"../../../\")\n",
    "sys.path.append('../../python')"
   ]
  },
  {
   "cell_type": "code",
   "execution_count": 2,
   "metadata": {
    "execution": {
     "iopub.execute_input": "2023-10-25T18:43:27.907101Z",
     "iopub.status.busy": "2023-10-25T18:43:27.906564Z",
     "iopub.status.idle": "2023-10-25T18:43:29.052723Z",
     "shell.execute_reply": "2023-10-25T18:43:29.051975Z"
    }
   },
   "outputs": [],
   "source": [
    "from pdstools import ADMDatamart\n",
    "from pdstools import Config, DataAnonymization\n",
    "import polars as pl"
   ]
  },
  {
   "attachments": {},
   "cell_type": "markdown",
   "metadata": {},
   "source": [
    "## Input data\n",
    "\n",
    "To demonstrate this process, we're going to anonymise this toy example dataframe:"
   ]
  },
  {
   "cell_type": "code",
   "execution_count": 3,
   "metadata": {
    "execution": {
     "iopub.execute_input": "2023-10-25T18:43:29.056332Z",
     "iopub.status.busy": "2023-10-25T18:43:29.055611Z",
     "iopub.status.idle": "2023-10-25T18:43:29.073905Z",
     "shell.execute_reply": "2023-10-25T18:43:29.073267Z"
    }
   },
   "outputs": [
    {
     "data": {
      "text/html": [
       "<div><style>\n",
       ".dataframe > thead > tr > th,\n",
       ".dataframe > tbody > tr > td {\n",
       "  text-align: right;\n",
       "  white-space: pre-wrap;\n",
       "}\n",
       "</style>\n",
       "<small>shape: (7, 6)</small><table border=\"1\" class=\"dataframe\"><thead><tr><th>Context_Name</th><th>Customer_MaritalStatus</th><th>Customer_CLV</th><th>Customer_City</th><th>IH_Web_Inbound_Accepted_pxLastGroupID</th><th>Decision_Outcome</th></tr><tr><td>str</td><td>str</td><td>i64</td><td>str</td><td>str</td><td>str</td></tr></thead><tbody><tr><td>&quot;FirstMortgage3…</td><td>&quot;Married&quot;</td><td>1460</td><td>&quot;Port Raoul&quot;</td><td>&quot;Account&quot;</td><td>&quot;Rejected&quot;</td></tr><tr><td>&quot;FirstMortgage3…</td><td>&quot;Unknown&quot;</td><td>669</td><td>&quot;Laurianneshire…</td><td>&quot;AutoLoans&quot;</td><td>&quot;Accepted&quot;</td></tr><tr><td>&quot;MoneyMarketSav…</td><td>&quot;No Resp+&quot;</td><td>1174</td><td>&quot;Jacobshaven&quot;</td><td>&quot;Account&quot;</td><td>&quot;Rejected&quot;</td></tr><tr><td>&quot;BasicChecking&quot;</td><td>&quot;Unknown&quot;</td><td>1476</td><td>&quot;Lindton&quot;</td><td>&quot;Account&quot;</td><td>&quot;Rejected&quot;</td></tr><tr><td>&quot;BasicChecking&quot;</td><td>&quot;Married&quot;</td><td>1211</td><td>&quot;South Jimmiesh…</td><td>&quot;DepositAccount…</td><td>&quot;Accepted&quot;</td></tr><tr><td>&quot;UPlusFinPerson…</td><td>&quot;No Resp+&quot;</td><td>533</td><td>&quot;Bergeville&quot;</td><td>null</td><td>&quot;Rejected&quot;</td></tr><tr><td>&quot;BasicChecking&quot;</td><td>&quot;No Resp+&quot;</td><td>555</td><td>&quot;Willyville&quot;</td><td>&quot;DepositAccount…</td><td>&quot;Rejected&quot;</td></tr></tbody></table></div>"
      ],
      "text/plain": [
       "shape: (7, 6)\n",
       "┌────────────────┬────────────────┬──────────────┬────────────────┬────────────────┬───────────────┐\n",
       "│ Context_Name   ┆ Customer_Marit ┆ Customer_CLV ┆ Customer_City  ┆ IH_Web_Inbound ┆ Decision_Outc │\n",
       "│ ---            ┆ alStatus       ┆ ---          ┆ ---            ┆ _Accepted_pxLa ┆ ome           │\n",
       "│ str            ┆ ---            ┆ i64          ┆ str            ┆ stGr…          ┆ ---           │\n",
       "│                ┆ str            ┆              ┆                ┆ ---            ┆ str           │\n",
       "│                ┆                ┆              ┆                ┆ str            ┆               │\n",
       "╞════════════════╪════════════════╪══════════════╪════════════════╪════════════════╪═══════════════╡\n",
       "│ FirstMortgage3 ┆ Married        ┆ 1460         ┆ Port Raoul     ┆ Account        ┆ Rejected      │\n",
       "│ 0yr            ┆                ┆              ┆                ┆                ┆               │\n",
       "│ FirstMortgage3 ┆ Unknown        ┆ 669          ┆ Laurianneshire ┆ AutoLoans      ┆ Accepted      │\n",
       "│ 0yr            ┆                ┆              ┆                ┆                ┆               │\n",
       "│ MoneyMarketSav ┆ No Resp+       ┆ 1174         ┆ Jacobshaven    ┆ Account        ┆ Rejected      │\n",
       "│ ingsAccount    ┆                ┆              ┆                ┆                ┆               │\n",
       "│ BasicChecking  ┆ Unknown        ┆ 1476         ┆ Lindton        ┆ Account        ┆ Rejected      │\n",
       "│ BasicChecking  ┆ Married        ┆ 1211         ┆ South          ┆ DepositAccount ┆ Accepted      │\n",
       "│                ┆                ┆              ┆ Jimmieshire    ┆ s              ┆               │\n",
       "│ UPlusFinPerson ┆ No Resp+       ┆ 533          ┆ Bergeville     ┆ null           ┆ Rejected      │\n",
       "│ al             ┆                ┆              ┆                ┆                ┆               │\n",
       "│ BasicChecking  ┆ No Resp+       ┆ 555          ┆ Willyville     ┆ DepositAccount ┆ Rejected      │\n",
       "│                ┆                ┆              ┆                ┆ s              ┆               │\n",
       "└────────────────┴────────────────┴──────────────┴────────────────┴────────────────┴───────────────┘"
      ]
     },
     "execution_count": 3,
     "metadata": {},
     "output_type": "execute_result"
    }
   ],
   "source": [
    "pl.read_ndjson('../../../../data/SampleHDS.json')"
   ]
  },
  {
   "attachments": {},
   "cell_type": "markdown",
   "metadata": {},
   "source": [
    "As you can see, this dataset consists of regular predictors, IH predictors, context keys and the outcome column. Additionally, some columns are numeric, others are strings. Let's first initialize the DataAnonymization class."
   ]
  },
  {
   "cell_type": "code",
   "execution_count": 4,
   "metadata": {
    "execution": {
     "iopub.execute_input": "2023-10-25T18:43:29.076770Z",
     "iopub.status.busy": "2023-10-25T18:43:29.076388Z",
     "iopub.status.idle": "2023-10-25T18:43:29.090273Z",
     "shell.execute_reply": "2023-10-25T18:43:29.089289Z"
    }
   },
   "outputs": [],
   "source": [
    "anon = DataAnonymization(hds_folder='../../../../data/')"
   ]
  },
  {
   "attachments": {},
   "cell_type": "markdown",
   "metadata": {},
   "source": [
    "By default, the class applies a set of anonymisation techniques:\n",
    "- Column names are remapped to a non-descriptive name\n",
    "- Categorical values are hashed with a random seed\n",
    "- Numerical values are normalized between 0 and 1\n",
    "- Outcomes are mapped to a binary outcome.\n",
    "\n",
    "To apply these techniques, simply call `.process()`:"
   ]
  },
  {
   "cell_type": "code",
   "execution_count": 5,
   "metadata": {
    "execution": {
     "iopub.execute_input": "2023-10-25T18:43:29.093109Z",
     "iopub.status.busy": "2023-10-25T18:43:29.092707Z",
     "iopub.status.idle": "2023-10-25T18:43:29.100113Z",
     "shell.execute_reply": "2023-10-25T18:43:29.099233Z"
    }
   },
   "outputs": [
    {
     "data": {
      "text/html": [
       "<div><style>\n",
       ".dataframe > thead > tr > th,\n",
       ".dataframe > tbody > tr > td {\n",
       "  text-align: right;\n",
       "  white-space: pre-wrap;\n",
       "}\n",
       "</style>\n",
       "<small>shape: (7, 7)</small><table border=\"1\" class=\"dataframe\"><thead><tr><th>PREDICTOR_0</th><th>filename</th><th>PREDICTOR_2</th><th>PREDICTOR_3</th><th>Context_Name</th><th>IH_PREDICTOR_0</th><th>Decision_Outcome</th></tr><tr><td>str</td><td>str</td><td>f64</td><td>str</td><td>str</td><td>str</td><td>bool</td></tr></thead><tbody><tr><td>&quot;17539876647055…</td><td>&quot;../../../../da…</td><td>1.2927e19</td><td>&quot;41349085870085…</td><td>&quot;80987082883961…</td><td>&quot;95879245320162…</td><td>false</td></tr><tr><td>&quot;15348054024215…</td><td>&quot;../../../../da…</td><td>1.4856e19</td><td>&quot;18168726380772…</td><td>&quot;80987082883961…</td><td>&quot;13838880526453…</td><td>true</td></tr><tr><td>&quot;17672253662705…</td><td>&quot;../../../../da…</td><td>5.6458e17</td><td>&quot;17927906522830…</td><td>&quot;46450833782493…</td><td>&quot;95879245320162…</td><td>false</td></tr><tr><td>&quot;12321517161363…</td><td>&quot;../../../../da…</td><td>4.0723e18</td><td>&quot;18168726380772…</td><td>&quot;11573324638857…</td><td>&quot;95879245320162…</td><td>false</td></tr><tr><td>&quot;37917372765283…</td><td>&quot;../../../../da…</td><td>1.4677e19</td><td>&quot;41349085870085…</td><td>&quot;11573324638857…</td><td>&quot;91213303555248…</td><td>true</td></tr><tr><td>&quot;12480785833169…</td><td>&quot;../../../../da…</td><td>1.6330e19</td><td>&quot;17927906522830…</td><td>&quot;15274885383750…</td><td>null</td><td>false</td></tr><tr><td>&quot;32585232254503…</td><td>&quot;../../../../da…</td><td>8.7675e18</td><td>&quot;17927906522830…</td><td>&quot;11573324638857…</td><td>&quot;91213303555248…</td><td>false</td></tr></tbody></table></div>"
      ],
      "text/plain": [
       "shape: (7, 7)\n",
       "┌──────────────┬─────────────┬─────────────┬─────────────┬─────────────┬─────────────┬─────────────┐\n",
       "│ PREDICTOR_0  ┆ filename    ┆ PREDICTOR_2 ┆ PREDICTOR_3 ┆ Context_Nam ┆ IH_PREDICTO ┆ Decision_Ou │\n",
       "│ ---          ┆ ---         ┆ ---         ┆ ---         ┆ e           ┆ R_0         ┆ tcome       │\n",
       "│ str          ┆ str         ┆ f64         ┆ str         ┆ ---         ┆ ---         ┆ ---         │\n",
       "│              ┆             ┆             ┆             ┆ str         ┆ str         ┆ bool        │\n",
       "╞══════════════╪═════════════╪═════════════╪═════════════╪═════════════╪═════════════╪═════════════╡\n",
       "│ 175398766470 ┆ ../../../.. ┆ 1.2927e19   ┆ 41349085870 ┆ 80987082883 ┆ 95879245320 ┆ false       │\n",
       "│ 55581173     ┆ /data/Sampl ┆             ┆ 08537136    ┆ 96101574    ┆ 16207881    ┆             │\n",
       "│              ┆ eHDS.json   ┆             ┆             ┆             ┆             ┆             │\n",
       "│ 153480540242 ┆ ../../../.. ┆ 1.4856e19   ┆ 18168726380 ┆ 80987082883 ┆ 13838880526 ┆ true        │\n",
       "│ 15984575     ┆ /data/Sampl ┆             ┆ 772259334   ┆ 96101574    ┆ 453785355   ┆             │\n",
       "│              ┆ eHDS.json   ┆             ┆             ┆             ┆             ┆             │\n",
       "│ 176722536627 ┆ ../../../.. ┆ 5.6458e17   ┆ 17927906522 ┆ 46450833782 ┆ 95879245320 ┆ false       │\n",
       "│ 05791340     ┆ /data/Sampl ┆             ┆ 83037978    ┆ 49320973    ┆ 16207881    ┆             │\n",
       "│              ┆ eHDS.json   ┆             ┆             ┆             ┆             ┆             │\n",
       "│ 123215171613 ┆ ../../../.. ┆ 4.0723e18   ┆ 18168726380 ┆ 11573324638 ┆ 95879245320 ┆ false       │\n",
       "│ 63008278     ┆ /data/Sampl ┆             ┆ 772259334   ┆ 857408068   ┆ 16207881    ┆             │\n",
       "│              ┆ eHDS.json   ┆             ┆             ┆             ┆             ┆             │\n",
       "│ 379173727652 ┆ ../../../.. ┆ 1.4677e19   ┆ 41349085870 ┆ 11573324638 ┆ 91213303555 ┆ true        │\n",
       "│ 8343333      ┆ /data/Sampl ┆             ┆ 08537136    ┆ 857408068   ┆ 24833435    ┆             │\n",
       "│              ┆ eHDS.json   ┆             ┆             ┆             ┆             ┆             │\n",
       "│ 124807858331 ┆ ../../../.. ┆ 1.6330e19   ┆ 17927906522 ┆ 15274885383 ┆ null        ┆ false       │\n",
       "│ 69136031     ┆ /data/Sampl ┆             ┆ 83037978    ┆ 750675935   ┆             ┆             │\n",
       "│              ┆ eHDS.json   ┆             ┆             ┆             ┆             ┆             │\n",
       "│ 325852322545 ┆ ../../../.. ┆ 8.7675e18   ┆ 17927906522 ┆ 11573324638 ┆ 91213303555 ┆ false       │\n",
       "│ 0393737      ┆ /data/Sampl ┆             ┆ 83037978    ┆ 857408068   ┆ 24833435    ┆             │\n",
       "│              ┆ eHDS.json   ┆             ┆             ┆             ┆             ┆             │\n",
       "└──────────────┴─────────────┴─────────────┴─────────────┴─────────────┴─────────────┴─────────────┘"
      ]
     },
     "execution_count": 5,
     "metadata": {},
     "output_type": "execute_result"
    }
   ],
   "source": [
    "anon.process()"
   ]
  },
  {
   "attachments": {},
   "cell_type": "markdown",
   "metadata": {},
   "source": [
    "To trace back the columns to their original names, the class also contains a mapping, which does not have to be provided."
   ]
  },
  {
   "cell_type": "code",
   "execution_count": 6,
   "metadata": {
    "execution": {
     "iopub.execute_input": "2023-10-25T18:43:29.102838Z",
     "iopub.status.busy": "2023-10-25T18:43:29.102454Z",
     "iopub.status.idle": "2023-10-25T18:43:29.106633Z",
     "shell.execute_reply": "2023-10-25T18:43:29.106049Z"
    }
   },
   "outputs": [
    {
     "data": {
      "text/plain": [
       "{'Customer_City': 'PREDICTOR_0',\n",
       " 'filename': 'filename',\n",
       " 'Customer_CLV': 'PREDICTOR_2',\n",
       " 'Customer_MaritalStatus': 'PREDICTOR_3',\n",
       " 'Context_Name': 'Context_Name',\n",
       " 'IH_Web_Inbound_Accepted_pxLastGroupID': 'IH_PREDICTOR_0',\n",
       " 'Decision_Outcome': 'Decision_Outcome'}"
      ]
     },
     "execution_count": 6,
     "metadata": {},
     "output_type": "execute_result"
    }
   ],
   "source": [
    "anon.column_mapping"
   ]
  },
  {
   "attachments": {},
   "cell_type": "markdown",
   "metadata": {},
   "source": [
    "## Configs\n",
    "\n",
    "Each capability can optionally be turned off - see below for the full list of config options, and refer to the API reference for the full description."
   ]
  },
  {
   "cell_type": "code",
   "execution_count": 7,
   "metadata": {
    "execution": {
     "iopub.execute_input": "2023-10-25T18:43:29.109238Z",
     "iopub.status.busy": "2023-10-25T18:43:29.108790Z",
     "iopub.status.idle": "2023-10-25T18:43:29.113691Z",
     "shell.execute_reply": "2023-10-25T18:43:29.113091Z"
    }
   },
   "outputs": [
    {
     "data": {
      "text/plain": [
       "{'config_file': None,\n",
       " 'hds_folder': '.',\n",
       " 'use_datamart': False,\n",
       " 'datamart_folder': 'datamart',\n",
       " 'output_format': 'ndjson',\n",
       " 'output_folder': 'output',\n",
       " 'mapping_file': 'mapping.map',\n",
       " 'mask_predictor_names': True,\n",
       " 'mask_context_key_names': False,\n",
       " 'mask_ih_names': True,\n",
       " 'mask_outcome_name': False,\n",
       " 'mask_predictor_values': True,\n",
       " 'mask_context_key_values': True,\n",
       " 'mask_ih_values': True,\n",
       " 'mask_outcome_values': True,\n",
       " 'context_key_label': 'Context_*',\n",
       " 'ih_label': 'IH_*',\n",
       " 'outcome_column': 'Decision_Outcome',\n",
       " 'positive_outcomes': ['Accepted', 'Clicked'],\n",
       " 'negative_outcomes': ['Rejected', 'Impression'],\n",
       " 'special_predictors': ['Decision_DecisionTime',\n",
       "  'Decision_OutcomeTime',\n",
       "  'Decision_Rank'],\n",
       " 'sample_percentage_schema_inferencing': 0.01}"
      ]
     },
     "execution_count": 7,
     "metadata": {},
     "output_type": "execute_result"
    }
   ],
   "source": [
    "dict(zip(Config.__init__.__code__.co_varnames[1:], Config.__init__.__defaults__))"
   ]
  },
  {
   "attachments": {},
   "cell_type": "markdown",
   "metadata": {},
   "source": [
    "It's easy to change these parameters by just passing the keyword arguments. In the following example, we\n",
    "- Keep the IH predictor names\n",
    "- Keep the outcome values\n",
    "- Keep the context key values\n",
    "- Keep the context key predictor names"
   ]
  },
  {
   "cell_type": "code",
   "execution_count": 8,
   "metadata": {
    "execution": {
     "iopub.execute_input": "2023-10-25T18:43:29.117130Z",
     "iopub.status.busy": "2023-10-25T18:43:29.116715Z",
     "iopub.status.idle": "2023-10-25T18:43:29.127532Z",
     "shell.execute_reply": "2023-10-25T18:43:29.126950Z"
    }
   },
   "outputs": [
    {
     "data": {
      "text/html": [
       "<div><style>\n",
       ".dataframe > thead > tr > th,\n",
       ".dataframe > tbody > tr > td {\n",
       "  text-align: right;\n",
       "  white-space: pre-wrap;\n",
       "}\n",
       "</style>\n",
       "<small>shape: (7, 7)</small><table border=\"1\" class=\"dataframe\"><thead><tr><th>PREDICTOR_0</th><th>filename</th><th>PREDICTOR_2</th><th>PREDICTOR_3</th><th>Context_Name</th><th>IH_Web_Inbound_Accepted_pxLastGroupID</th><th>Decision_Outcome</th></tr><tr><td>str</td><td>str</td><td>f64</td><td>str</td><td>str</td><td>str</td><td>str</td></tr></thead><tbody><tr><td>&quot;14851886842564…</td><td>&quot;../../../../da…</td><td>1.2927e19</td><td>&quot;44926524940448…</td><td>&quot;FirstMortgage3…</td><td>&quot;16688242752767…</td><td>&quot;Rejected&quot;</td></tr><tr><td>&quot;14997546074769…</td><td>&quot;../../../../da…</td><td>1.4856e19</td><td>&quot;32365032243017…</td><td>&quot;FirstMortgage3…</td><td>&quot;99764767432540…</td><td>&quot;Accepted&quot;</td></tr><tr><td>&quot;12120000286308…</td><td>&quot;../../../../da…</td><td>5.6458e17</td><td>&quot;89529192846172…</td><td>&quot;MoneyMarketSav…</td><td>&quot;16688242752767…</td><td>&quot;Rejected&quot;</td></tr><tr><td>&quot;97931351986680…</td><td>&quot;../../../../da…</td><td>4.0723e18</td><td>&quot;32365032243017…</td><td>&quot;BasicChecking&quot;</td><td>&quot;16688242752767…</td><td>&quot;Rejected&quot;</td></tr><tr><td>&quot;11422333981924…</td><td>&quot;../../../../da…</td><td>1.4677e19</td><td>&quot;44926524940448…</td><td>&quot;BasicChecking&quot;</td><td>&quot;62416336811533…</td><td>&quot;Accepted&quot;</td></tr><tr><td>&quot;17239680823090…</td><td>&quot;../../../../da…</td><td>1.6330e19</td><td>&quot;89529192846172…</td><td>&quot;UPlusFinPerson…</td><td>null</td><td>&quot;Rejected&quot;</td></tr><tr><td>&quot;14193101593387…</td><td>&quot;../../../../da…</td><td>8.7675e18</td><td>&quot;89529192846172…</td><td>&quot;BasicChecking&quot;</td><td>&quot;62416336811533…</td><td>&quot;Rejected&quot;</td></tr></tbody></table></div>"
      ],
      "text/plain": [
       "shape: (7, 7)\n",
       "┌──────────────┬─────────────┬─────────────┬─────────────┬─────────────┬─────────────┬─────────────┐\n",
       "│ PREDICTOR_0  ┆ filename    ┆ PREDICTOR_2 ┆ PREDICTOR_3 ┆ Context_Nam ┆ IH_Web_Inbo ┆ Decision_Ou │\n",
       "│ ---          ┆ ---         ┆ ---         ┆ ---         ┆ e           ┆ und_Accepte ┆ tcome       │\n",
       "│ str          ┆ str         ┆ f64         ┆ str         ┆ ---         ┆ d_pxLastGr… ┆ ---         │\n",
       "│              ┆             ┆             ┆             ┆ str         ┆ ---         ┆ str         │\n",
       "│              ┆             ┆             ┆             ┆             ┆ str         ┆             │\n",
       "╞══════════════╪═════════════╪═════════════╪═════════════╪═════════════╪═════════════╪═════════════╡\n",
       "│ 148518868425 ┆ ../../../.. ┆ 1.2927e19   ┆ 44926524940 ┆ FirstMortga ┆ 16688242752 ┆ Rejected    │\n",
       "│ 64977218     ┆ /data/Sampl ┆             ┆ 44841954    ┆ ge30yr      ┆ 767410493   ┆             │\n",
       "│              ┆ eHDS.json   ┆             ┆             ┆             ┆             ┆             │\n",
       "│ 149975460747 ┆ ../../../.. ┆ 1.4856e19   ┆ 32365032243 ┆ FirstMortga ┆ 99764767432 ┆ Accepted    │\n",
       "│ 69569311     ┆ /data/Sampl ┆             ┆ 01768835    ┆ ge30yr      ┆ 54037781    ┆             │\n",
       "│              ┆ eHDS.json   ┆             ┆             ┆             ┆             ┆             │\n",
       "│ 121200002863 ┆ ../../../.. ┆ 5.6458e17   ┆ 89529192846 ┆ MoneyMarket ┆ 16688242752 ┆ Rejected    │\n",
       "│ 08664483     ┆ /data/Sampl ┆             ┆ 17277437    ┆ SavingsAcco ┆ 767410493   ┆             │\n",
       "│              ┆ eHDS.json   ┆             ┆             ┆ unt         ┆             ┆             │\n",
       "│ 979313519866 ┆ ../../../.. ┆ 4.0723e18   ┆ 32365032243 ┆ BasicChecki ┆ 16688242752 ┆ Rejected    │\n",
       "│ 8074674      ┆ /data/Sampl ┆             ┆ 01768835    ┆ ng          ┆ 767410493   ┆             │\n",
       "│              ┆ eHDS.json   ┆             ┆             ┆             ┆             ┆             │\n",
       "│ 114223339819 ┆ ../../../.. ┆ 1.4677e19   ┆ 44926524940 ┆ BasicChecki ┆ 62416336811 ┆ Accepted    │\n",
       "│ 24523003     ┆ /data/Sampl ┆             ┆ 44841954    ┆ ng          ┆ 53371581    ┆             │\n",
       "│              ┆ eHDS.json   ┆             ┆             ┆             ┆             ┆             │\n",
       "│ 172396808230 ┆ ../../../.. ┆ 1.6330e19   ┆ 89529192846 ┆ UPlusFinPer ┆ null        ┆ Rejected    │\n",
       "│ 90142292     ┆ /data/Sampl ┆             ┆ 17277437    ┆ sonal       ┆             ┆             │\n",
       "│              ┆ eHDS.json   ┆             ┆             ┆             ┆             ┆             │\n",
       "│ 141931015933 ┆ ../../../.. ┆ 8.7675e18   ┆ 89529192846 ┆ BasicChecki ┆ 62416336811 ┆ Rejected    │\n",
       "│ 87336713     ┆ /data/Sampl ┆             ┆ 17277437    ┆ ng          ┆ 53371581    ┆             │\n",
       "│              ┆ eHDS.json   ┆             ┆             ┆             ┆             ┆             │\n",
       "└──────────────┴─────────────┴─────────────┴─────────────┴─────────────┴─────────────┴─────────────┘"
      ]
     },
     "execution_count": 8,
     "metadata": {},
     "output_type": "execute_result"
    }
   ],
   "source": [
    "anon = DataAnonymization(\n",
    "    hds_folder=\"../../../../data/\",\n",
    "    mask_ih_names=False,\n",
    "    mask_outcome_values=False,\n",
    "    mask_context_key_values=False,\n",
    "    mask_context_key_names=False,\n",
    ")\n",
    "anon.process()\n"
   ]
  },
  {
   "attachments": {},
   "cell_type": "markdown",
   "metadata": {},
   "source": [
    "The configs can also be written and read as such:"
   ]
  },
  {
   "cell_type": "code",
   "execution_count": 9,
   "metadata": {
    "execution": {
     "iopub.execute_input": "2023-10-25T18:43:29.130412Z",
     "iopub.status.busy": "2023-10-25T18:43:29.129833Z",
     "iopub.status.idle": "2023-10-25T18:43:29.133215Z",
     "shell.execute_reply": "2023-10-25T18:43:29.132685Z"
    }
   },
   "outputs": [],
   "source": [
    "anon.config.save_to_config_file('config.json')"
   ]
  },
  {
   "cell_type": "code",
   "execution_count": 10,
   "metadata": {
    "execution": {
     "iopub.execute_input": "2023-10-25T18:43:29.135597Z",
     "iopub.status.busy": "2023-10-25T18:43:29.135247Z",
     "iopub.status.idle": "2023-10-25T18:43:29.145275Z",
     "shell.execute_reply": "2023-10-25T18:43:29.144642Z"
    }
   },
   "outputs": [
    {
     "data": {
      "text/html": [
       "<div><style>\n",
       ".dataframe > thead > tr > th,\n",
       ".dataframe > tbody > tr > td {\n",
       "  text-align: right;\n",
       "  white-space: pre-wrap;\n",
       "}\n",
       "</style>\n",
       "<small>shape: (7, 7)</small><table border=\"1\" class=\"dataframe\"><thead><tr><th>PREDICTOR_0</th><th>filename</th><th>PREDICTOR_2</th><th>PREDICTOR_3</th><th>Context_Name</th><th>IH_Web_Inbound_Accepted_pxLastGroupID</th><th>Decision_Outcome</th></tr><tr><td>str</td><td>str</td><td>f64</td><td>str</td><td>str</td><td>str</td><td>str</td></tr></thead><tbody><tr><td>&quot;10283353066470…</td><td>&quot;../../../../da…</td><td>1.2927e19</td><td>&quot;18084776691296…</td><td>&quot;FirstMortgage3…</td><td>&quot;17208769258503…</td><td>&quot;Rejected&quot;</td></tr><tr><td>&quot;11586048747768…</td><td>&quot;../../../../da…</td><td>1.4856e19</td><td>&quot;40587421225858…</td><td>&quot;FirstMortgage3…</td><td>&quot;37076463322729…</td><td>&quot;Accepted&quot;</td></tr><tr><td>&quot;37501303279044…</td><td>&quot;../../../../da…</td><td>5.6458e17</td><td>&quot;16069169145550…</td><td>&quot;MoneyMarketSav…</td><td>&quot;17208769258503…</td><td>&quot;Rejected&quot;</td></tr><tr><td>&quot;17635983049496…</td><td>&quot;../../../../da…</td><td>4.0723e18</td><td>&quot;40587421225858…</td><td>&quot;BasicChecking&quot;</td><td>&quot;17208769258503…</td><td>&quot;Rejected&quot;</td></tr><tr><td>&quot;61148340539992…</td><td>&quot;../../../../da…</td><td>1.4677e19</td><td>&quot;18084776691296…</td><td>&quot;BasicChecking&quot;</td><td>&quot;88152969900667…</td><td>&quot;Accepted&quot;</td></tr><tr><td>&quot;13738456347826…</td><td>&quot;../../../../da…</td><td>1.6330e19</td><td>&quot;16069169145550…</td><td>&quot;UPlusFinPerson…</td><td>null</td><td>&quot;Rejected&quot;</td></tr><tr><td>&quot;90910864332012…</td><td>&quot;../../../../da…</td><td>8.7675e18</td><td>&quot;16069169145550…</td><td>&quot;BasicChecking&quot;</td><td>&quot;88152969900667…</td><td>&quot;Rejected&quot;</td></tr></tbody></table></div>"
      ],
      "text/plain": [
       "shape: (7, 7)\n",
       "┌──────────────┬─────────────┬─────────────┬─────────────┬─────────────┬─────────────┬─────────────┐\n",
       "│ PREDICTOR_0  ┆ filename    ┆ PREDICTOR_2 ┆ PREDICTOR_3 ┆ Context_Nam ┆ IH_Web_Inbo ┆ Decision_Ou │\n",
       "│ ---          ┆ ---         ┆ ---         ┆ ---         ┆ e           ┆ und_Accepte ┆ tcome       │\n",
       "│ str          ┆ str         ┆ f64         ┆ str         ┆ ---         ┆ d_pxLastGr… ┆ ---         │\n",
       "│              ┆             ┆             ┆             ┆ str         ┆ ---         ┆ str         │\n",
       "│              ┆             ┆             ┆             ┆             ┆ str         ┆             │\n",
       "╞══════════════╪═════════════╪═════════════╪═════════════╪═════════════╪═════════════╪═════════════╡\n",
       "│ 102833530664 ┆ ../../../.. ┆ 1.2927e19   ┆ 18084776691 ┆ FirstMortga ┆ 17208769258 ┆ Rejected    │\n",
       "│ 70142839     ┆ /data/Sampl ┆             ┆ 296896681   ┆ ge30yr      ┆ 503704090   ┆             │\n",
       "│              ┆ eHDS.json   ┆             ┆             ┆             ┆             ┆             │\n",
       "│ 115860487477 ┆ ../../../.. ┆ 1.4856e19   ┆ 40587421225 ┆ FirstMortga ┆ 37076463322 ┆ Accepted    │\n",
       "│ 6833594      ┆ /data/Sampl ┆             ┆ 85829908    ┆ ge30yr      ┆ 72988313    ┆             │\n",
       "│              ┆ eHDS.json   ┆             ┆             ┆             ┆             ┆             │\n",
       "│ 375013032790 ┆ ../../../.. ┆ 5.6458e17   ┆ 16069169145 ┆ MoneyMarket ┆ 17208769258 ┆ Rejected    │\n",
       "│ 4474830      ┆ /data/Sampl ┆             ┆ 550129142   ┆ SavingsAcco ┆ 503704090   ┆             │\n",
       "│              ┆ eHDS.json   ┆             ┆             ┆ unt         ┆             ┆             │\n",
       "│ 176359830494 ┆ ../../../.. ┆ 4.0723e18   ┆ 40587421225 ┆ BasicChecki ┆ 17208769258 ┆ Rejected    │\n",
       "│ 96790676     ┆ /data/Sampl ┆             ┆ 85829908    ┆ ng          ┆ 503704090   ┆             │\n",
       "│              ┆ eHDS.json   ┆             ┆             ┆             ┆             ┆             │\n",
       "│ 611483405399 ┆ ../../../.. ┆ 1.4677e19   ┆ 18084776691 ┆ BasicChecki ┆ 88152969900 ┆ Accepted    │\n",
       "│ 9261106      ┆ /data/Sampl ┆             ┆ 296896681   ┆ ng          ┆ 66797006    ┆             │\n",
       "│              ┆ eHDS.json   ┆             ┆             ┆             ┆             ┆             │\n",
       "│ 137384563478 ┆ ../../../.. ┆ 1.6330e19   ┆ 16069169145 ┆ UPlusFinPer ┆ null        ┆ Rejected    │\n",
       "│ 26046443     ┆ /data/Sampl ┆             ┆ 550129142   ┆ sonal       ┆             ┆             │\n",
       "│              ┆ eHDS.json   ┆             ┆             ┆             ┆             ┆             │\n",
       "│ 909108643320 ┆ ../../../.. ┆ 8.7675e18   ┆ 16069169145 ┆ BasicChecki ┆ 88152969900 ┆ Rejected    │\n",
       "│ 1283362      ┆ /data/Sampl ┆             ┆ 550129142   ┆ ng          ┆ 66797006    ┆             │\n",
       "│              ┆ eHDS.json   ┆             ┆             ┆             ┆             ┆             │\n",
       "└──────────────┴─────────────┴─────────────┴─────────────┴─────────────┴─────────────┴─────────────┘"
      ]
     },
     "execution_count": 10,
     "metadata": {},
     "output_type": "execute_result"
    }
   ],
   "source": [
    "anon = DataAnonymization(config=Config(config_file='config.json'))\n",
    "anon.process()"
   ]
  },
  {
   "attachments": {},
   "cell_type": "markdown",
   "metadata": {},
   "source": [
    "## Exporting\n",
    "Two functions export:\n",
    "- `create_mapping_file()` writes the mapping file of the predictor names\n",
    "- `write_to_output()` writes the processed dataframe to disk\n",
    "\n",
    "Write to output accepts the following extensions: `[\"ndjson\", \"parquet\", \"arrow\", \"csv\"]`"
   ]
  },
  {
   "cell_type": "code",
   "execution_count": 11,
   "metadata": {
    "execution": {
     "iopub.execute_input": "2023-10-25T18:43:29.148133Z",
     "iopub.status.busy": "2023-10-25T18:43:29.147774Z",
     "iopub.status.idle": "2023-10-25T18:43:29.151413Z",
     "shell.execute_reply": "2023-10-25T18:43:29.150889Z"
    }
   },
   "outputs": [
    {
     "name": "stdout",
     "output_type": "stream",
     "text": [
      "Customer_City=PREDICTOR_0\n",
      "filename=filename\n",
      "Customer_CLV=PREDICTOR_2\n",
      "Customer_MaritalStatus=PREDICTOR_3\n",
      "Context_Name=Context_Name\n",
      "IH_Web_Inbound_Accepted_pxLastGroupID=IH_Web_Inbound_Accepted_pxLastGroupID\n",
      "Decision_Outcome=Decision_Outcome\n",
      "\n"
     ]
    }
   ],
   "source": [
    "anon.create_mapping_file()\n",
    "with open('mapping.map') as f:\n",
    "    print(f.read())"
   ]
  },
  {
   "cell_type": "code",
   "execution_count": 12,
   "metadata": {
    "execution": {
     "iopub.execute_input": "2023-10-25T18:43:29.153711Z",
     "iopub.status.busy": "2023-10-25T18:43:29.153363Z",
     "iopub.status.idle": "2023-10-25T18:43:29.157122Z",
     "shell.execute_reply": "2023-10-25T18:43:29.156589Z"
    }
   },
   "outputs": [],
   "source": [
    "anon.write_to_output(ext='arrow')"
   ]
  },
  {
   "cell_type": "code",
   "execution_count": 13,
   "metadata": {
    "execution": {
     "iopub.execute_input": "2023-10-25T18:43:29.159491Z",
     "iopub.status.busy": "2023-10-25T18:43:29.159068Z",
     "iopub.status.idle": "2023-10-25T18:43:29.164597Z",
     "shell.execute_reply": "2023-10-25T18:43:29.163949Z"
    }
   },
   "outputs": [
    {
     "data": {
      "text/html": [
       "<div><style>\n",
       ".dataframe > thead > tr > th,\n",
       ".dataframe > tbody > tr > td {\n",
       "  text-align: right;\n",
       "  white-space: pre-wrap;\n",
       "}\n",
       "</style>\n",
       "<small>shape: (7, 6)</small><table border=\"1\" class=\"dataframe\"><thead><tr><th>PREDICTOR_0</th><th>PREDICTOR_2</th><th>PREDICTOR_3</th><th>Context_Name</th><th>IH_Web_Inbound_Accepted_pxLastGroupID</th><th>Decision_Outcome</th></tr><tr><td>str</td><td>f64</td><td>str</td><td>str</td><td>str</td><td>str</td></tr></thead><tbody><tr><td>&quot;17038248624602…</td><td>1.2927e19</td><td>&quot;20694492732625…</td><td>&quot;FirstMortgage3…</td><td>&quot;15321099501317…</td><td>&quot;Rejected&quot;</td></tr><tr><td>&quot;24215741916863…</td><td>1.4856e19</td><td>&quot;84868999332691…</td><td>&quot;FirstMortgage3…</td><td>&quot;79749036396415…</td><td>&quot;Accepted&quot;</td></tr><tr><td>&quot;17200951222116…</td><td>5.6458e17</td><td>&quot;64283176547630…</td><td>&quot;MoneyMarketSav…</td><td>&quot;15321099501317…</td><td>&quot;Rejected&quot;</td></tr><tr><td>&quot;11119925957160…</td><td>4.0723e18</td><td>&quot;84868999332691…</td><td>&quot;BasicChecking&quot;</td><td>&quot;15321099501317…</td><td>&quot;Rejected&quot;</td></tr><tr><td>&quot;14269468836825…</td><td>1.4677e19</td><td>&quot;20694492732625…</td><td>&quot;BasicChecking&quot;</td><td>&quot;15223105078709…</td><td>&quot;Accepted&quot;</td></tr><tr><td>&quot;86046302705351…</td><td>1.6330e19</td><td>&quot;64283176547630…</td><td>&quot;UPlusFinPerson…</td><td>null</td><td>&quot;Rejected&quot;</td></tr><tr><td>&quot;13399525151303…</td><td>8.7675e18</td><td>&quot;64283176547630…</td><td>&quot;BasicChecking&quot;</td><td>&quot;15223105078709…</td><td>&quot;Rejected&quot;</td></tr></tbody></table></div>"
      ],
      "text/plain": [
       "shape: (7, 6)\n",
       "┌────────────────┬─────────────┬────────────────┬────────────────┬────────────────┬────────────────┐\n",
       "│ PREDICTOR_0    ┆ PREDICTOR_2 ┆ PREDICTOR_3    ┆ Context_Name   ┆ IH_Web_Inbound ┆ Decision_Outco │\n",
       "│ ---            ┆ ---         ┆ ---            ┆ ---            ┆ _Accepted_pxLa ┆ me             │\n",
       "│ str            ┆ f64         ┆ str            ┆ str            ┆ stGr…          ┆ ---            │\n",
       "│                ┆             ┆                ┆                ┆ ---            ┆ str            │\n",
       "│                ┆             ┆                ┆                ┆ str            ┆                │\n",
       "╞════════════════╪═════════════╪════════════════╪════════════════╪════════════════╪════════════════╡\n",
       "│ 17038248624602 ┆ 1.2927e19   ┆ 20694492732625 ┆ FirstMortgage3 ┆ 15321099501317 ┆ Rejected       │\n",
       "│ 329000         ┆             ┆ 13551          ┆ 0yr            ┆ 786311         ┆                │\n",
       "│ 24215741916863 ┆ 1.4856e19   ┆ 84868999332691 ┆ FirstMortgage3 ┆ 79749036396415 ┆ Accepted       │\n",
       "│ 10618          ┆             ┆ 32669          ┆ 0yr            ┆ 32892          ┆                │\n",
       "│ 17200951222116 ┆ 5.6458e17   ┆ 64283176547630 ┆ MoneyMarketSav ┆ 15321099501317 ┆ Rejected       │\n",
       "│ 590849         ┆             ┆ 13980          ┆ ingsAccount    ┆ 786311         ┆                │\n",
       "│ 11119925957160 ┆ 4.0723e18   ┆ 84868999332691 ┆ BasicChecking  ┆ 15321099501317 ┆ Rejected       │\n",
       "│ 171148         ┆             ┆ 32669          ┆                ┆ 786311         ┆                │\n",
       "│ 14269468836825 ┆ 1.4677e19   ┆ 20694492732625 ┆ BasicChecking  ┆ 15223105078709 ┆ Accepted       │\n",
       "│ 32838          ┆             ┆ 13551          ┆                ┆ 99001          ┆                │\n",
       "│ 86046302705351 ┆ 1.6330e19   ┆ 64283176547630 ┆ UPlusFinPerson ┆ null           ┆ Rejected       │\n",
       "│ 39357          ┆             ┆ 13980          ┆ al             ┆                ┆                │\n",
       "│ 13399525151303 ┆ 8.7675e18   ┆ 64283176547630 ┆ BasicChecking  ┆ 15223105078709 ┆ Rejected       │\n",
       "│ 241199         ┆             ┆ 13980          ┆                ┆ 99001          ┆                │\n",
       "└────────────────┴─────────────┴────────────────┴────────────────┴────────────────┴────────────────┘"
      ]
     },
     "execution_count": 13,
     "metadata": {},
     "output_type": "execute_result"
    }
   ],
   "source": [
    "pl.read_ipc('output/hds.arrow')"
   ]
  },
  {
   "attachments": {},
   "cell_type": "markdown",
   "metadata": {
    "nbsphinx": "hidden"
   },
   "source": [
    "## Advanced: Hash fuctions\n",
    "\n",
    "By default, we use [the same hashing algorithm Polars](https://pola-rs.github.io/polars/py-polars/html/reference/expressions/api/polars.Expr.hash.html#polars.Expr.hash) uses: [xxhash](https://github.com/Cyan4973/xxHash), as implemented [here](https://github.com/pola-rs/polars/blob/3f287f370b3c388ed2f3f218b2c096382548136f/polars/polars-core/src/vector_hasher.rs#L266). xxhash is fast to compute, and you can check its performance in collision, dispersion and randomness [here](https://github.com/Cyan4973/xxHash/tree/dev/tests). \n",
    "\n",
    "xxhash accepts four distinct seeds, but by default we set the seeds to `0`. It is possible to set the `seed` argument of the `process()` function to `'random'`, which will set all four seeds to a random integer between `0` and `1000000000`. Alternatively, it is possible to supply the four seeds manually with arguments `seed`, `seed_1`, `seed_2` and `seed_3`. \n",
    "\n",
    "If the xxhash with (random) seed(s) is not deemed sufficiently secure, it is possible to use your own hashing algorithm.\n",
    "\n",
    "Note that since we're now running python code and not native Polars code anymore, this will be _significantly_ slower. Nonetheless, it is possible.\n",
    "\n",
    "Just as an example - this is how one would use sha3_256:"
   ]
  },
  {
   "cell_type": "code",
   "execution_count": 14,
   "metadata": {
    "execution": {
     "iopub.execute_input": "2023-10-25T18:43:29.166975Z",
     "iopub.status.busy": "2023-10-25T18:43:29.166606Z",
     "iopub.status.idle": "2023-10-25T18:43:29.531769Z",
     "shell.execute_reply": "2023-10-25T18:43:29.530888Z"
    },
    "nbsphinx": "hidden"
   },
   "outputs": [
    {
     "ename": "ComputeError",
     "evalue": "AttributeError: 'int' object has no attribute 'encode'",
     "output_type": "error",
     "traceback": [
      "\u001b[0;31m---------------------------------------------------------------------------\u001b[0m",
      "\u001b[0;31mComputeError\u001b[0m                              Traceback (most recent call last)",
      "Cell \u001b[0;32mIn[14], line 3\u001b[0m\n\u001b[1;32m      1\u001b[0m \u001b[38;5;28;01mfrom\u001b[39;00m \u001b[38;5;21;01mhashlib\u001b[39;00m \u001b[38;5;28;01mimport\u001b[39;00m sha3_256\n\u001b[0;32m----> 3\u001b[0m \u001b[43manon\u001b[49m\u001b[38;5;241;43m.\u001b[39;49m\u001b[43mprocess\u001b[49m\u001b[43m(\u001b[49m\u001b[43malgorithm\u001b[49m\u001b[38;5;241;43m=\u001b[39;49m\u001b[38;5;28;43;01mlambda\u001b[39;49;00m\u001b[43m \u001b[49m\u001b[43mx\u001b[49m\u001b[43m:\u001b[49m\u001b[43m \u001b[49m\u001b[43msha3_256\u001b[49m\u001b[43m(\u001b[49m\u001b[43mx\u001b[49m\u001b[38;5;241;43m.\u001b[39;49m\u001b[43mencode\u001b[49m\u001b[43m(\u001b[49m\u001b[43m)\u001b[49m\u001b[43m)\u001b[49m\u001b[38;5;241;43m.\u001b[39;49m\u001b[43mhexdigest\u001b[49m\u001b[43m(\u001b[49m\u001b[43m)\u001b[49m\u001b[43m)\u001b[49m\n",
      "File \u001b[0;32m~/work/pega-datascientist-tools/pega-datascientist-tools/python/docs/source/articles/../../../pdstools/utils/hds_utils.py:516\u001b[0m, in \u001b[0;36mDataAnonymization.process\u001b[0;34m(self, strategy, **kwargs)\u001b[0m\n\u001b[1;32m    514\u001b[0m df \u001b[38;5;241m=\u001b[39m df\u001b[38;5;241m.\u001b[39mselect(\u001b[38;5;28mself\u001b[39m\u001b[38;5;241m.\u001b[39mcolumn_mapping\u001b[38;5;241m.\u001b[39mkeys())\u001b[38;5;241m.\u001b[39mrename(\u001b[38;5;28mself\u001b[39m\u001b[38;5;241m.\u001b[39mcolumn_mapping)\n\u001b[1;32m    515\u001b[0m \u001b[38;5;28;01mif\u001b[39;00m strategy \u001b[38;5;241m==\u001b[39m \u001b[38;5;124m\"\u001b[39m\u001b[38;5;124meager\u001b[39m\u001b[38;5;124m\"\u001b[39m:\n\u001b[0;32m--> 516\u001b[0m     \u001b[38;5;28;01mreturn\u001b[39;00m \u001b[43mdf\u001b[49m\u001b[38;5;241;43m.\u001b[39;49m\u001b[43mcollect\u001b[49m\u001b[43m(\u001b[49m\u001b[43m)\u001b[49m\n\u001b[1;32m    517\u001b[0m \u001b[38;5;28;01mreturn\u001b[39;00m df\n",
      "File \u001b[0;32m/opt/hostedtoolcache/Python/3.11.6/x64/lib/python3.11/site-packages/polars/utils/deprecation.py:95\u001b[0m, in \u001b[0;36mdeprecate_renamed_parameter.<locals>.decorate.<locals>.wrapper\u001b[0;34m(*args, **kwargs)\u001b[0m\n\u001b[1;32m     90\u001b[0m \u001b[38;5;129m@wraps\u001b[39m(function)\n\u001b[1;32m     91\u001b[0m \u001b[38;5;28;01mdef\u001b[39;00m \u001b[38;5;21mwrapper\u001b[39m(\u001b[38;5;241m*\u001b[39margs: P\u001b[38;5;241m.\u001b[39margs, \u001b[38;5;241m*\u001b[39m\u001b[38;5;241m*\u001b[39mkwargs: P\u001b[38;5;241m.\u001b[39mkwargs) \u001b[38;5;241m-\u001b[39m\u001b[38;5;241m>\u001b[39m T:\n\u001b[1;32m     92\u001b[0m     _rename_keyword_argument(\n\u001b[1;32m     93\u001b[0m         old_name, new_name, kwargs, function\u001b[38;5;241m.\u001b[39m\u001b[38;5;18m__name__\u001b[39m, version\n\u001b[1;32m     94\u001b[0m     )\n\u001b[0;32m---> 95\u001b[0m     \u001b[38;5;28;01mreturn\u001b[39;00m \u001b[43mfunction\u001b[49m\u001b[43m(\u001b[49m\u001b[38;5;241;43m*\u001b[39;49m\u001b[43margs\u001b[49m\u001b[43m,\u001b[49m\u001b[43m \u001b[49m\u001b[38;5;241;43m*\u001b[39;49m\u001b[38;5;241;43m*\u001b[39;49m\u001b[43mkwargs\u001b[49m\u001b[43m)\u001b[49m\n",
      "File \u001b[0;32m/opt/hostedtoolcache/Python/3.11.6/x64/lib/python3.11/site-packages/polars/lazyframe/frame.py:1711\u001b[0m, in \u001b[0;36mLazyFrame.collect\u001b[0;34m(self, type_coercion, predicate_pushdown, projection_pushdown, simplify_expression, no_optimization, slice_pushdown, comm_subplan_elim, comm_subexpr_elim, streaming, **kwargs)\u001b[0m\n\u001b[1;32m   1698\u001b[0m     comm_subplan_elim \u001b[38;5;241m=\u001b[39m \u001b[38;5;28;01mFalse\u001b[39;00m\n\u001b[1;32m   1700\u001b[0m ldf \u001b[38;5;241m=\u001b[39m \u001b[38;5;28mself\u001b[39m\u001b[38;5;241m.\u001b[39m_ldf\u001b[38;5;241m.\u001b[39moptimization_toggle(\n\u001b[1;32m   1701\u001b[0m     type_coercion,\n\u001b[1;32m   1702\u001b[0m     predicate_pushdown,\n\u001b[0;32m   (...)\u001b[0m\n\u001b[1;32m   1709\u001b[0m     eager,\n\u001b[1;32m   1710\u001b[0m )\n\u001b[0;32m-> 1711\u001b[0m \u001b[38;5;28;01mreturn\u001b[39;00m wrap_df(ldf\u001b[38;5;241m.\u001b[39mcollect())\n",
      "\u001b[0;31mComputeError\u001b[0m: AttributeError: 'int' object has no attribute 'encode'"
     ]
    }
   ],
   "source": [
    "from hashlib import sha3_256\n",
    "\n",
    "anon.process(algorithm=lambda x: sha3_256(x.encode()).hexdigest())"
   ]
  }
 ],
 "metadata": {
  "kernelspec": {
   "display_name": "Python 3",
   "language": "python",
   "name": "python3"
  },
  "language_info": {
   "codemirror_mode": {
    "name": "ipython",
    "version": 3
   },
   "file_extension": ".py",
   "mimetype": "text/x-python",
   "name": "python",
   "nbconvert_exporter": "python",
   "pygments_lexer": "ipython3",
   "version": "3.11.6"
  },
  "vscode": {
   "interpreter": {
    "hash": "aee8b7b246df8f9039afb4144a1f6fd8d2ca17a180786b69acc140d282b71a49"
   }
  }
 },
 "nbformat": 4,
 "nbformat_minor": 2
}
