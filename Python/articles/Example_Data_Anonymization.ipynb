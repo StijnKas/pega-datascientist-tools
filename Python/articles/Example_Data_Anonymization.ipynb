{
 "cells": [
  {
   "attachments": {},
   "cell_type": "markdown",
   "metadata": {},
   "source": [
    "# Data Anonymization\n",
    "\n",
    "In Pega CDH 8.5 and up, it's now possible to record the historical data as seen by the Adaptive Models. See [this academy challenge](https://academy.pega.com/challenge/exporting-historical-data/v4) for reference. This historical data can be further used to experiment with offline models, but also to fine-tune the OOTB Gradient Boosting model. However, sharing this information with Pega can be sensitive as it contains raw predictor data. \n",
    "\n",
    "To this end, we provide a simple and transparent script to fully anonimize this dataset.\n",
    "\n",
    "The DataAnonymization script is now part of pdstools, and you can import it directly as such."
   ]
  },
  {
   "cell_type": "code",
   "execution_count": 1,
   "metadata": {
    "execution": {
     "iopub.execute_input": "2024-06-28T08:59:22.360419Z",
     "iopub.status.busy": "2024-06-28T08:59:22.360246Z",
     "iopub.status.idle": "2024-06-28T08:59:22.432663Z",
     "shell.execute_reply": "2024-06-28T08:59:22.432104Z"
    },
    "nbsphinx": "hidden"
   },
   "outputs": [],
   "source": [
    "# These lines are only for rendering in the docs, and are hidden through Jupyter tags\n",
    "# Do not run if you're running the notebook seperately\n",
    "\n",
    "import os  \n",
    "import sys\n",
    "import plotly.io as pio\n",
    "pio.renderers.default = \"notebook_connected\"\n",
    "\n",
    "sys.path.append(\"../../../\")\n",
    "sys.path.append('../../python')"
   ]
  },
  {
   "cell_type": "code",
   "execution_count": 2,
   "metadata": {
    "execution": {
     "iopub.execute_input": "2024-06-28T08:59:22.434619Z",
     "iopub.status.busy": "2024-06-28T08:59:22.434445Z",
     "iopub.status.idle": "2024-06-28T08:59:23.498132Z",
     "shell.execute_reply": "2024-06-28T08:59:23.497633Z"
    }
   },
   "outputs": [],
   "source": [
    "from pdstools import ADMDatamart\n",
    "from pdstools import Config, DataAnonymization\n",
    "import polars as pl"
   ]
  },
  {
   "attachments": {},
   "cell_type": "markdown",
   "metadata": {},
   "source": [
    "## Input data\n",
    "\n",
    "To demonstrate this process, we're going to anonymise this toy example dataframe:"
   ]
  },
  {
   "cell_type": "code",
   "execution_count": 3,
   "metadata": {
    "execution": {
     "iopub.execute_input": "2024-06-28T08:59:23.500622Z",
     "iopub.status.busy": "2024-06-28T08:59:23.500208Z",
     "iopub.status.idle": "2024-06-28T08:59:23.508161Z",
     "shell.execute_reply": "2024-06-28T08:59:23.507627Z"
    }
   },
   "outputs": [
    {
     "data": {
      "text/html": [
       "<div><style>\n",
       ".dataframe > thead > tr,\n",
       ".dataframe > tbody > tr {\n",
       "  text-align: right;\n",
       "  white-space: pre-wrap;\n",
       "}\n",
       "</style>\n",
       "<small>shape: (7, 6)</small><table border=\"1\" class=\"dataframe\"><thead><tr><th>Context_Name</th><th>Customer_MaritalStatus</th><th>Customer_CLV</th><th>Customer_City</th><th>IH_Web_Inbound_Accepted_pxLastGroupID</th><th>Decision_Outcome</th></tr><tr><td>str</td><td>str</td><td>i64</td><td>str</td><td>str</td><td>str</td></tr></thead><tbody><tr><td>&quot;FirstMortgage30yr&quot;</td><td>&quot;Married&quot;</td><td>1460</td><td>&quot;Port Raoul&quot;</td><td>&quot;Account&quot;</td><td>&quot;Rejected&quot;</td></tr><tr><td>&quot;FirstMortgage30yr&quot;</td><td>&quot;Unknown&quot;</td><td>669</td><td>&quot;Laurianneshire&quot;</td><td>&quot;AutoLoans&quot;</td><td>&quot;Accepted&quot;</td></tr><tr><td>&quot;MoneyMarketSavingsAccount&quot;</td><td>&quot;No Resp+&quot;</td><td>1174</td><td>&quot;Jacobshaven&quot;</td><td>&quot;Account&quot;</td><td>&quot;Rejected&quot;</td></tr><tr><td>&quot;BasicChecking&quot;</td><td>&quot;Unknown&quot;</td><td>1476</td><td>&quot;Lindton&quot;</td><td>&quot;Account&quot;</td><td>&quot;Rejected&quot;</td></tr><tr><td>&quot;BasicChecking&quot;</td><td>&quot;Married&quot;</td><td>1211</td><td>&quot;South Jimmieshire&quot;</td><td>&quot;DepositAccounts&quot;</td><td>&quot;Accepted&quot;</td></tr><tr><td>&quot;UPlusFinPersonal&quot;</td><td>&quot;No Resp+&quot;</td><td>533</td><td>&quot;Bergeville&quot;</td><td>null</td><td>&quot;Rejected&quot;</td></tr><tr><td>&quot;BasicChecking&quot;</td><td>&quot;No Resp+&quot;</td><td>555</td><td>&quot;Willyville&quot;</td><td>&quot;DepositAccounts&quot;</td><td>&quot;Rejected&quot;</td></tr></tbody></table></div>"
      ],
      "text/plain": [
       "shape: (7, 6)\n",
       "┌────────────────┬────────────────┬──────────────┬────────────────┬────────────────┬───────────────┐\n",
       "│ Context_Name   ┆ Customer_Marit ┆ Customer_CLV ┆ Customer_City  ┆ IH_Web_Inbound ┆ Decision_Outc │\n",
       "│ ---            ┆ alStatus       ┆ ---          ┆ ---            ┆ _Accepted_pxLa ┆ ome           │\n",
       "│ str            ┆ ---            ┆ i64          ┆ str            ┆ st…            ┆ ---           │\n",
       "│                ┆ str            ┆              ┆                ┆ ---            ┆ str           │\n",
       "│                ┆                ┆              ┆                ┆ str            ┆               │\n",
       "╞════════════════╪════════════════╪══════════════╪════════════════╪════════════════╪═══════════════╡\n",
       "│ FirstMortgage3 ┆ Married        ┆ 1460         ┆ Port Raoul     ┆ Account        ┆ Rejected      │\n",
       "│ 0yr            ┆                ┆              ┆                ┆                ┆               │\n",
       "│ FirstMortgage3 ┆ Unknown        ┆ 669          ┆ Laurianneshire ┆ AutoLoans      ┆ Accepted      │\n",
       "│ 0yr            ┆                ┆              ┆                ┆                ┆               │\n",
       "│ MoneyMarketSav ┆ No Resp+       ┆ 1174         ┆ Jacobshaven    ┆ Account        ┆ Rejected      │\n",
       "│ ingsAccount    ┆                ┆              ┆                ┆                ┆               │\n",
       "│ BasicChecking  ┆ Unknown        ┆ 1476         ┆ Lindton        ┆ Account        ┆ Rejected      │\n",
       "│ BasicChecking  ┆ Married        ┆ 1211         ┆ South          ┆ DepositAccount ┆ Accepted      │\n",
       "│                ┆                ┆              ┆ Jimmieshire    ┆ s              ┆               │\n",
       "│ UPlusFinPerson ┆ No Resp+       ┆ 533          ┆ Bergeville     ┆ null           ┆ Rejected      │\n",
       "│ al             ┆                ┆              ┆                ┆                ┆               │\n",
       "│ BasicChecking  ┆ No Resp+       ┆ 555          ┆ Willyville     ┆ DepositAccount ┆ Rejected      │\n",
       "│                ┆                ┆              ┆                ┆ s              ┆               │\n",
       "└────────────────┴────────────────┴──────────────┴────────────────┴────────────────┴───────────────┘"
      ]
     },
     "execution_count": 3,
     "metadata": {},
     "output_type": "execute_result"
    }
   ],
   "source": [
    "pl.read_ndjson('../../../../data/SampleHDS.json')"
   ]
  },
  {
   "attachments": {},
   "cell_type": "markdown",
   "metadata": {},
   "source": [
    "As you can see, this dataset consists of regular predictors, IH predictors, context keys and the outcome column. Additionally, some columns are numeric, others are strings. Let's first initialize the DataAnonymization class."
   ]
  },
  {
   "cell_type": "code",
   "execution_count": 4,
   "metadata": {
    "execution": {
     "iopub.execute_input": "2024-06-28T08:59:23.510400Z",
     "iopub.status.busy": "2024-06-28T08:59:23.510002Z",
     "iopub.status.idle": "2024-06-28T08:59:23.519507Z",
     "shell.execute_reply": "2024-06-28T08:59:23.519086Z"
    }
   },
   "outputs": [],
   "source": [
    "anon = DataAnonymization(hds_folder='../../../../data/')"
   ]
  },
  {
   "attachments": {},
   "cell_type": "markdown",
   "metadata": {},
   "source": [
    "By default, the class applies a set of anonymisation techniques:\n",
    "- Column names are remapped to a non-descriptive name\n",
    "- Categorical values are hashed with a random seed\n",
    "- Numerical values are normalized between 0 and 1\n",
    "- Outcomes are mapped to a binary outcome.\n",
    "\n",
    "To apply these techniques, simply call `.process()`:"
   ]
  },
  {
   "cell_type": "code",
   "execution_count": 5,
   "metadata": {
    "execution": {
     "iopub.execute_input": "2024-06-28T08:59:23.521602Z",
     "iopub.status.busy": "2024-06-28T08:59:23.521265Z",
     "iopub.status.idle": "2024-06-28T08:59:23.526263Z",
     "shell.execute_reply": "2024-06-28T08:59:23.525801Z"
    }
   },
   "outputs": [
    {
     "data": {
      "text/html": [
       "<div><style>\n",
       ".dataframe > thead > tr,\n",
       ".dataframe > tbody > tr {\n",
       "  text-align: right;\n",
       "  white-space: pre-wrap;\n",
       "}\n",
       "</style>\n",
       "<small>shape: (7, 7)</small><table border=\"1\" class=\"dataframe\"><thead><tr><th>PREDICTOR_0</th><th>PREDICTOR_1</th><th>filename</th><th>PREDICTOR_3</th><th>Context_Name</th><th>IH_PREDICTOR_0</th><th>Decision_Outcome</th></tr><tr><td>str</td><td>f64</td><td>str</td><td>str</td><td>str</td><td>str</td><td>bool</td></tr></thead><tbody><tr><td>&quot;12966594121660586144&quot;</td><td>8.1394e18</td><td>&quot;../../../../data/SampleHDS.jso…</td><td>&quot;16213733806433532114&quot;</td><td>&quot;12389604203113505438&quot;</td><td>&quot;7189849604827994599&quot;</td><td>false</td></tr><tr><td>&quot;17909105717745695898&quot;</td><td>3.2558e17</td><td>&quot;../../../../data/SampleHDS.jso…</td><td>&quot;7368088096525236362&quot;</td><td>&quot;12389604203113505438&quot;</td><td>&quot;10411723875908756696&quot;</td><td>true</td></tr><tr><td>&quot;2224057289082822490&quot;</td><td>1.4181e19</td><td>&quot;../../../../data/SampleHDS.jso…</td><td>&quot;5336126776549509997&quot;</td><td>&quot;4185235921171887873&quot;</td><td>&quot;7189849604827994599&quot;</td><td>false</td></tr><tr><td>&quot;1197588711120825259&quot;</td><td>1.7915e19</td><td>&quot;../../../../data/SampleHDS.jso…</td><td>&quot;7368088096525236362&quot;</td><td>&quot;15348917492779909101&quot;</td><td>&quot;7189849604827994599&quot;</td><td>false</td></tr><tr><td>&quot;14652648524834149339&quot;</td><td>1.2550e19</td><td>&quot;../../../../data/SampleHDS.jso…</td><td>&quot;16213733806433532114&quot;</td><td>&quot;15348917492779909101&quot;</td><td>&quot;7887436098792540635&quot;</td><td>true</td></tr><tr><td>&quot;10180930787455143344&quot;</td><td>1.9392e18</td><td>&quot;../../../../data/SampleHDS.jso…</td><td>&quot;5336126776549509997&quot;</td><td>&quot;12695467595088885982&quot;</td><td>null</td><td>false</td></tr><tr><td>&quot;11614391923100326336&quot;</td><td>1.5737e19</td><td>&quot;../../../../data/SampleHDS.jso…</td><td>&quot;5336126776549509997&quot;</td><td>&quot;15348917492779909101&quot;</td><td>&quot;7887436098792540635&quot;</td><td>false</td></tr></tbody></table></div>"
      ],
      "text/plain": [
       "shape: (7, 7)\n",
       "┌──────────────┬─────────────┬─────────────┬─────────────┬─────────────┬─────────────┬─────────────┐\n",
       "│ PREDICTOR_0  ┆ PREDICTOR_1 ┆ filename    ┆ PREDICTOR_3 ┆ Context_Nam ┆ IH_PREDICTO ┆ Decision_Ou │\n",
       "│ ---          ┆ ---         ┆ ---         ┆ ---         ┆ e           ┆ R_0         ┆ tcome       │\n",
       "│ str          ┆ f64         ┆ str         ┆ str         ┆ ---         ┆ ---         ┆ ---         │\n",
       "│              ┆             ┆             ┆             ┆ str         ┆ str         ┆ bool        │\n",
       "╞══════════════╪═════════════╪═════════════╪═════════════╪═════════════╪═════════════╪═════════════╡\n",
       "│ 129665941216 ┆ 8.1394e18   ┆ ../../../.. ┆ 16213733806 ┆ 12389604203 ┆ 71898496048 ┆ false       │\n",
       "│ 60586144     ┆             ┆ /data/Sampl ┆ 433532114   ┆ 113505438   ┆ 27994599    ┆             │\n",
       "│              ┆             ┆ eHDS.jso…   ┆             ┆             ┆             ┆             │\n",
       "│ 179091057177 ┆ 3.2558e17   ┆ ../../../.. ┆ 73680880965 ┆ 12389604203 ┆ 10411723875 ┆ true        │\n",
       "│ 45695898     ┆             ┆ /data/Sampl ┆ 25236362    ┆ 113505438   ┆ 908756696   ┆             │\n",
       "│              ┆             ┆ eHDS.jso…   ┆             ┆             ┆             ┆             │\n",
       "│ 222405728908 ┆ 1.4181e19   ┆ ../../../.. ┆ 53361267765 ┆ 41852359211 ┆ 71898496048 ┆ false       │\n",
       "│ 2822490      ┆             ┆ /data/Sampl ┆ 49509997    ┆ 71887873    ┆ 27994599    ┆             │\n",
       "│              ┆             ┆ eHDS.jso…   ┆             ┆             ┆             ┆             │\n",
       "│ 119758871112 ┆ 1.7915e19   ┆ ../../../.. ┆ 73680880965 ┆ 15348917492 ┆ 71898496048 ┆ false       │\n",
       "│ 0825259      ┆             ┆ /data/Sampl ┆ 25236362    ┆ 779909101   ┆ 27994599    ┆             │\n",
       "│              ┆             ┆ eHDS.jso…   ┆             ┆             ┆             ┆             │\n",
       "│ 146526485248 ┆ 1.2550e19   ┆ ../../../.. ┆ 16213733806 ┆ 15348917492 ┆ 78874360987 ┆ true        │\n",
       "│ 34149339     ┆             ┆ /data/Sampl ┆ 433532114   ┆ 779909101   ┆ 92540635    ┆             │\n",
       "│              ┆             ┆ eHDS.jso…   ┆             ┆             ┆             ┆             │\n",
       "│ 101809307874 ┆ 1.9392e18   ┆ ../../../.. ┆ 53361267765 ┆ 12695467595 ┆ null        ┆ false       │\n",
       "│ 55143344     ┆             ┆ /data/Sampl ┆ 49509997    ┆ 088885982   ┆             ┆             │\n",
       "│              ┆             ┆ eHDS.jso…   ┆             ┆             ┆             ┆             │\n",
       "│ 116143919231 ┆ 1.5737e19   ┆ ../../../.. ┆ 53361267765 ┆ 15348917492 ┆ 78874360987 ┆ false       │\n",
       "│ 00326336     ┆             ┆ /data/Sampl ┆ 49509997    ┆ 779909101   ┆ 92540635    ┆             │\n",
       "│              ┆             ┆ eHDS.jso…   ┆             ┆             ┆             ┆             │\n",
       "└──────────────┴─────────────┴─────────────┴─────────────┴─────────────┴─────────────┴─────────────┘"
      ]
     },
     "execution_count": 5,
     "metadata": {},
     "output_type": "execute_result"
    }
   ],
   "source": [
    "anon.process()"
   ]
  },
  {
   "attachments": {},
   "cell_type": "markdown",
   "metadata": {},
   "source": [
    "To trace back the columns to their original names, the class also contains a mapping, which does not have to be provided."
   ]
  },
  {
   "cell_type": "code",
   "execution_count": 6,
   "metadata": {
    "execution": {
     "iopub.execute_input": "2024-06-28T08:59:23.528152Z",
     "iopub.status.busy": "2024-06-28T08:59:23.527983Z",
     "iopub.status.idle": "2024-06-28T08:59:23.531535Z",
     "shell.execute_reply": "2024-06-28T08:59:23.531096Z"
    }
   },
   "outputs": [
    {
     "data": {
      "text/plain": [
       "{'Customer_City': 'PREDICTOR_0',\n",
       " 'Customer_CLV': 'PREDICTOR_1',\n",
       " 'filename': 'filename',\n",
       " 'Customer_MaritalStatus': 'PREDICTOR_3',\n",
       " 'Context_Name': 'Context_Name',\n",
       " 'IH_Web_Inbound_Accepted_pxLastGroupID': 'IH_PREDICTOR_0',\n",
       " 'Decision_Outcome': 'Decision_Outcome'}"
      ]
     },
     "execution_count": 6,
     "metadata": {},
     "output_type": "execute_result"
    }
   ],
   "source": [
    "anon.column_mapping"
   ]
  },
  {
   "attachments": {},
   "cell_type": "markdown",
   "metadata": {},
   "source": [
    "## Configs\n",
    "\n",
    "Each capability can optionally be turned off - see below for the full list of config options, and refer to the API reference for the full description."
   ]
  },
  {
   "cell_type": "code",
   "execution_count": 7,
   "metadata": {
    "execution": {
     "iopub.execute_input": "2024-06-28T08:59:23.533557Z",
     "iopub.status.busy": "2024-06-28T08:59:23.533245Z",
     "iopub.status.idle": "2024-06-28T08:59:23.537386Z",
     "shell.execute_reply": "2024-06-28T08:59:23.536945Z"
    }
   },
   "outputs": [
    {
     "data": {
      "text/plain": [
       "{'config_file': None,\n",
       " 'hds_folder': '.',\n",
       " 'use_datamart': False,\n",
       " 'datamart_folder': 'datamart',\n",
       " 'output_format': 'ndjson',\n",
       " 'output_folder': 'output',\n",
       " 'mapping_file': 'mapping.map',\n",
       " 'mask_predictor_names': True,\n",
       " 'mask_context_key_names': False,\n",
       " 'mask_ih_names': True,\n",
       " 'mask_outcome_name': False,\n",
       " 'mask_predictor_values': True,\n",
       " 'mask_context_key_values': True,\n",
       " 'mask_ih_values': True,\n",
       " 'mask_outcome_values': True,\n",
       " 'context_key_label': 'Context_*',\n",
       " 'ih_label': 'IH_*',\n",
       " 'outcome_column': 'Decision_Outcome',\n",
       " 'positive_outcomes': ['Accepted', 'Clicked'],\n",
       " 'negative_outcomes': ['Rejected', 'Impression'],\n",
       " 'special_predictors': ['Decision_DecisionTime',\n",
       "  'Decision_OutcomeTime',\n",
       "  'Decision_Rank'],\n",
       " 'sample_percentage_schema_inferencing': 0.01}"
      ]
     },
     "execution_count": 7,
     "metadata": {},
     "output_type": "execute_result"
    }
   ],
   "source": [
    "dict(zip(Config.__init__.__code__.co_varnames[1:], Config.__init__.__defaults__))"
   ]
  },
  {
   "attachments": {},
   "cell_type": "markdown",
   "metadata": {},
   "source": [
    "It's easy to change these parameters by just passing the keyword arguments. In the following example, we\n",
    "- Keep the IH predictor names\n",
    "- Keep the outcome values\n",
    "- Keep the context key values\n",
    "- Keep the context key predictor names"
   ]
  },
  {
   "cell_type": "code",
   "execution_count": 8,
   "metadata": {
    "execution": {
     "iopub.execute_input": "2024-06-28T08:59:23.539346Z",
     "iopub.status.busy": "2024-06-28T08:59:23.539048Z",
     "iopub.status.idle": "2024-06-28T08:59:23.546865Z",
     "shell.execute_reply": "2024-06-28T08:59:23.546331Z"
    }
   },
   "outputs": [
    {
     "data": {
      "text/html": [
       "<div><style>\n",
       ".dataframe > thead > tr,\n",
       ".dataframe > tbody > tr {\n",
       "  text-align: right;\n",
       "  white-space: pre-wrap;\n",
       "}\n",
       "</style>\n",
       "<small>shape: (7, 7)</small><table border=\"1\" class=\"dataframe\"><thead><tr><th>PREDICTOR_0</th><th>PREDICTOR_1</th><th>filename</th><th>PREDICTOR_3</th><th>Context_Name</th><th>IH_Web_Inbound_Accepted_pxLastGroupID</th><th>Decision_Outcome</th></tr><tr><td>str</td><td>f64</td><td>str</td><td>str</td><td>str</td><td>str</td><td>str</td></tr></thead><tbody><tr><td>&quot;2693063016261329210&quot;</td><td>8.5424e18</td><td>&quot;../../../../data/SampleHDS.jso…</td><td>&quot;2176186410263664439&quot;</td><td>&quot;FirstMortgage30yr&quot;</td><td>&quot;2480916800669711861&quot;</td><td>&quot;Rejected&quot;</td></tr><tr><td>&quot;13663209729075354870&quot;</td><td>1.1573e19</td><td>&quot;../../../../data/SampleHDS.jso…</td><td>&quot;6206444605637468390&quot;</td><td>&quot;FirstMortgage30yr&quot;</td><td>&quot;6148724870095980507&quot;</td><td>&quot;Accepted&quot;</td></tr><tr><td>&quot;13752064661150663353&quot;</td><td>1.7837e19</td><td>&quot;../../../../data/SampleHDS.jso…</td><td>&quot;13742469919383404989&quot;</td><td>&quot;MoneyMarketSavingsAccount&quot;</td><td>&quot;2480916800669711861&quot;</td><td>&quot;Rejected&quot;</td></tr><tr><td>&quot;4278909319353159294&quot;</td><td>2.1048e18</td><td>&quot;../../../../data/SampleHDS.jso…</td><td>&quot;6206444605637468390&quot;</td><td>&quot;BasicChecking&quot;</td><td>&quot;2480916800669711861&quot;</td><td>&quot;Rejected&quot;</td></tr><tr><td>&quot;5289473295907448034&quot;</td><td>7.0451e18</td><td>&quot;../../../../data/SampleHDS.jso…</td><td>&quot;2176186410263664439&quot;</td><td>&quot;BasicChecking&quot;</td><td>&quot;7992382043670570244&quot;</td><td>&quot;Accepted&quot;</td></tr><tr><td>&quot;14984668176722395866&quot;</td><td>1.0940e19</td><td>&quot;../../../../data/SampleHDS.jso…</td><td>&quot;13742469919383404989&quot;</td><td>&quot;UPlusFinPersonal&quot;</td><td>null</td><td>&quot;Rejected&quot;</td></tr><tr><td>&quot;8020568563095088654&quot;</td><td>1.6966e19</td><td>&quot;../../../../data/SampleHDS.jso…</td><td>&quot;13742469919383404989&quot;</td><td>&quot;BasicChecking&quot;</td><td>&quot;7992382043670570244&quot;</td><td>&quot;Rejected&quot;</td></tr></tbody></table></div>"
      ],
      "text/plain": [
       "shape: (7, 7)\n",
       "┌──────────────┬─────────────┬─────────────┬─────────────┬─────────────┬─────────────┬─────────────┐\n",
       "│ PREDICTOR_0  ┆ PREDICTOR_1 ┆ filename    ┆ PREDICTOR_3 ┆ Context_Nam ┆ IH_Web_Inbo ┆ Decision_Ou │\n",
       "│ ---          ┆ ---         ┆ ---         ┆ ---         ┆ e           ┆ und_Accepte ┆ tcome       │\n",
       "│ str          ┆ f64         ┆ str         ┆ str         ┆ ---         ┆ d_pxLast…   ┆ ---         │\n",
       "│              ┆             ┆             ┆             ┆ str         ┆ ---         ┆ str         │\n",
       "│              ┆             ┆             ┆             ┆             ┆ str         ┆             │\n",
       "╞══════════════╪═════════════╪═════════════╪═════════════╪═════════════╪═════════════╪═════════════╡\n",
       "│ 269306301626 ┆ 8.5424e18   ┆ ../../../.. ┆ 21761864102 ┆ FirstMortga ┆ 24809168006 ┆ Rejected    │\n",
       "│ 1329210      ┆             ┆ /data/Sampl ┆ 63664439    ┆ ge30yr      ┆ 69711861    ┆             │\n",
       "│              ┆             ┆ eHDS.jso…   ┆             ┆             ┆             ┆             │\n",
       "│ 136632097290 ┆ 1.1573e19   ┆ ../../../.. ┆ 62064446056 ┆ FirstMortga ┆ 61487248700 ┆ Accepted    │\n",
       "│ 75354870     ┆             ┆ /data/Sampl ┆ 37468390    ┆ ge30yr      ┆ 95980507    ┆             │\n",
       "│              ┆             ┆ eHDS.jso…   ┆             ┆             ┆             ┆             │\n",
       "│ 137520646611 ┆ 1.7837e19   ┆ ../../../.. ┆ 13742469919 ┆ MoneyMarket ┆ 24809168006 ┆ Rejected    │\n",
       "│ 50663353     ┆             ┆ /data/Sampl ┆ 383404989   ┆ SavingsAcco ┆ 69711861    ┆             │\n",
       "│              ┆             ┆ eHDS.jso…   ┆             ┆ unt         ┆             ┆             │\n",
       "│ 427890931935 ┆ 2.1048e18   ┆ ../../../.. ┆ 62064446056 ┆ BasicChecki ┆ 24809168006 ┆ Rejected    │\n",
       "│ 3159294      ┆             ┆ /data/Sampl ┆ 37468390    ┆ ng          ┆ 69711861    ┆             │\n",
       "│              ┆             ┆ eHDS.jso…   ┆             ┆             ┆             ┆             │\n",
       "│ 528947329590 ┆ 7.0451e18   ┆ ../../../.. ┆ 21761864102 ┆ BasicChecki ┆ 79923820436 ┆ Accepted    │\n",
       "│ 7448034      ┆             ┆ /data/Sampl ┆ 63664439    ┆ ng          ┆ 70570244    ┆             │\n",
       "│              ┆             ┆ eHDS.jso…   ┆             ┆             ┆             ┆             │\n",
       "│ 149846681767 ┆ 1.0940e19   ┆ ../../../.. ┆ 13742469919 ┆ UPlusFinPer ┆ null        ┆ Rejected    │\n",
       "│ 22395866     ┆             ┆ /data/Sampl ┆ 383404989   ┆ sonal       ┆             ┆             │\n",
       "│              ┆             ┆ eHDS.jso…   ┆             ┆             ┆             ┆             │\n",
       "│ 802056856309 ┆ 1.6966e19   ┆ ../../../.. ┆ 13742469919 ┆ BasicChecki ┆ 79923820436 ┆ Rejected    │\n",
       "│ 5088654      ┆             ┆ /data/Sampl ┆ 383404989   ┆ ng          ┆ 70570244    ┆             │\n",
       "│              ┆             ┆ eHDS.jso…   ┆             ┆             ┆             ┆             │\n",
       "└──────────────┴─────────────┴─────────────┴─────────────┴─────────────┴─────────────┴─────────────┘"
      ]
     },
     "execution_count": 8,
     "metadata": {},
     "output_type": "execute_result"
    }
   ],
   "source": [
    "anon = DataAnonymization(\n",
    "    hds_folder=\"../../../../data/\",\n",
    "    mask_ih_names=False,\n",
    "    mask_outcome_values=False,\n",
    "    mask_context_key_values=False,\n",
    "    mask_context_key_names=False,\n",
    ")\n",
    "anon.process()\n"
   ]
  },
  {
   "attachments": {},
   "cell_type": "markdown",
   "metadata": {},
   "source": [
    "The configs can also be written and read as such:"
   ]
  },
  {
   "cell_type": "code",
   "execution_count": 9,
   "metadata": {
    "execution": {
     "iopub.execute_input": "2024-06-28T08:59:23.548957Z",
     "iopub.status.busy": "2024-06-28T08:59:23.548526Z",
     "iopub.status.idle": "2024-06-28T08:59:23.551459Z",
     "shell.execute_reply": "2024-06-28T08:59:23.550952Z"
    }
   },
   "outputs": [],
   "source": [
    "anon.config.save_to_config_file('config.json')"
   ]
  },
  {
   "cell_type": "code",
   "execution_count": 10,
   "metadata": {
    "execution": {
     "iopub.execute_input": "2024-06-28T08:59:23.553526Z",
     "iopub.status.busy": "2024-06-28T08:59:23.553207Z",
     "iopub.status.idle": "2024-06-28T08:59:23.560686Z",
     "shell.execute_reply": "2024-06-28T08:59:23.560143Z"
    }
   },
   "outputs": [
    {
     "data": {
      "text/html": [
       "<div><style>\n",
       ".dataframe > thead > tr,\n",
       ".dataframe > tbody > tr {\n",
       "  text-align: right;\n",
       "  white-space: pre-wrap;\n",
       "}\n",
       "</style>\n",
       "<small>shape: (7, 7)</small><table border=\"1\" class=\"dataframe\"><thead><tr><th>PREDICTOR_0</th><th>PREDICTOR_1</th><th>filename</th><th>PREDICTOR_3</th><th>Context_Name</th><th>IH_Web_Inbound_Accepted_pxLastGroupID</th><th>Decision_Outcome</th></tr><tr><td>str</td><td>f64</td><td>str</td><td>str</td><td>str</td><td>str</td><td>str</td></tr></thead><tbody><tr><td>&quot;15817344893893706607&quot;</td><td>6.4529e18</td><td>&quot;../../../../data/SampleHDS.jso…</td><td>&quot;5428569341997076199&quot;</td><td>&quot;FirstMortgage30yr&quot;</td><td>&quot;8077201405311366912&quot;</td><td>&quot;Rejected&quot;</td></tr><tr><td>&quot;9455517170590553341&quot;</td><td>7.2162e18</td><td>&quot;../../../../data/SampleHDS.jso…</td><td>&quot;16361791012203088208&quot;</td><td>&quot;FirstMortgage30yr&quot;</td><td>&quot;3563248967714237740&quot;</td><td>&quot;Accepted&quot;</td></tr><tr><td>&quot;2757873603826598519&quot;</td><td>1.7725e19</td><td>&quot;../../../../data/SampleHDS.jso…</td><td>&quot;12998887436935034178&quot;</td><td>&quot;MoneyMarketSavingsAccount&quot;</td><td>&quot;8077201405311366912&quot;</td><td>&quot;Rejected&quot;</td></tr><tr><td>&quot;2769473506539838498&quot;</td><td>4.8717e18</td><td>&quot;../../../../data/SampleHDS.jso…</td><td>&quot;16361791012203088208&quot;</td><td>&quot;BasicChecking&quot;</td><td>&quot;8077201405311366912&quot;</td><td>&quot;Rejected&quot;</td></tr><tr><td>&quot;14307498553172057419&quot;</td><td>5.5270e18</td><td>&quot;../../../../data/SampleHDS.jso…</td><td>&quot;5428569341997076199&quot;</td><td>&quot;BasicChecking&quot;</td><td>&quot;14638340152789677911&quot;</td><td>&quot;Accepted&quot;</td></tr><tr><td>&quot;12104382896446018419&quot;</td><td>1.7970e19</td><td>&quot;../../../../data/SampleHDS.jso…</td><td>&quot;12998887436935034178&quot;</td><td>&quot;UPlusFinPersonal&quot;</td><td>null</td><td>&quot;Rejected&quot;</td></tr><tr><td>&quot;7909492205048073676&quot;</td><td>1.8294e19</td><td>&quot;../../../../data/SampleHDS.jso…</td><td>&quot;12998887436935034178&quot;</td><td>&quot;BasicChecking&quot;</td><td>&quot;14638340152789677911&quot;</td><td>&quot;Rejected&quot;</td></tr></tbody></table></div>"
      ],
      "text/plain": [
       "shape: (7, 7)\n",
       "┌──────────────┬─────────────┬─────────────┬─────────────┬─────────────┬─────────────┬─────────────┐\n",
       "│ PREDICTOR_0  ┆ PREDICTOR_1 ┆ filename    ┆ PREDICTOR_3 ┆ Context_Nam ┆ IH_Web_Inbo ┆ Decision_Ou │\n",
       "│ ---          ┆ ---         ┆ ---         ┆ ---         ┆ e           ┆ und_Accepte ┆ tcome       │\n",
       "│ str          ┆ f64         ┆ str         ┆ str         ┆ ---         ┆ d_pxLast…   ┆ ---         │\n",
       "│              ┆             ┆             ┆             ┆ str         ┆ ---         ┆ str         │\n",
       "│              ┆             ┆             ┆             ┆             ┆ str         ┆             │\n",
       "╞══════════════╪═════════════╪═════════════╪═════════════╪═════════════╪═════════════╪═════════════╡\n",
       "│ 158173448938 ┆ 6.4529e18   ┆ ../../../.. ┆ 54285693419 ┆ FirstMortga ┆ 80772014053 ┆ Rejected    │\n",
       "│ 93706607     ┆             ┆ /data/Sampl ┆ 97076199    ┆ ge30yr      ┆ 11366912    ┆             │\n",
       "│              ┆             ┆ eHDS.jso…   ┆             ┆             ┆             ┆             │\n",
       "│ 945551717059 ┆ 7.2162e18   ┆ ../../../.. ┆ 16361791012 ┆ FirstMortga ┆ 35632489677 ┆ Accepted    │\n",
       "│ 0553341      ┆             ┆ /data/Sampl ┆ 203088208   ┆ ge30yr      ┆ 14237740    ┆             │\n",
       "│              ┆             ┆ eHDS.jso…   ┆             ┆             ┆             ┆             │\n",
       "│ 275787360382 ┆ 1.7725e19   ┆ ../../../.. ┆ 12998887436 ┆ MoneyMarket ┆ 80772014053 ┆ Rejected    │\n",
       "│ 6598519      ┆             ┆ /data/Sampl ┆ 935034178   ┆ SavingsAcco ┆ 11366912    ┆             │\n",
       "│              ┆             ┆ eHDS.jso…   ┆             ┆ unt         ┆             ┆             │\n",
       "│ 276947350653 ┆ 4.8717e18   ┆ ../../../.. ┆ 16361791012 ┆ BasicChecki ┆ 80772014053 ┆ Rejected    │\n",
       "│ 9838498      ┆             ┆ /data/Sampl ┆ 203088208   ┆ ng          ┆ 11366912    ┆             │\n",
       "│              ┆             ┆ eHDS.jso…   ┆             ┆             ┆             ┆             │\n",
       "│ 143074985531 ┆ 5.5270e18   ┆ ../../../.. ┆ 54285693419 ┆ BasicChecki ┆ 14638340152 ┆ Accepted    │\n",
       "│ 72057419     ┆             ┆ /data/Sampl ┆ 97076199    ┆ ng          ┆ 789677911   ┆             │\n",
       "│              ┆             ┆ eHDS.jso…   ┆             ┆             ┆             ┆             │\n",
       "│ 121043828964 ┆ 1.7970e19   ┆ ../../../.. ┆ 12998887436 ┆ UPlusFinPer ┆ null        ┆ Rejected    │\n",
       "│ 46018419     ┆             ┆ /data/Sampl ┆ 935034178   ┆ sonal       ┆             ┆             │\n",
       "│              ┆             ┆ eHDS.jso…   ┆             ┆             ┆             ┆             │\n",
       "│ 790949220504 ┆ 1.8294e19   ┆ ../../../.. ┆ 12998887436 ┆ BasicChecki ┆ 14638340152 ┆ Rejected    │\n",
       "│ 8073676      ┆             ┆ /data/Sampl ┆ 935034178   ┆ ng          ┆ 789677911   ┆             │\n",
       "│              ┆             ┆ eHDS.jso…   ┆             ┆             ┆             ┆             │\n",
       "└──────────────┴─────────────┴─────────────┴─────────────┴─────────────┴─────────────┴─────────────┘"
      ]
     },
     "execution_count": 10,
     "metadata": {},
     "output_type": "execute_result"
    }
   ],
   "source": [
    "anon = DataAnonymization(config=Config(config_file='config.json'))\n",
    "anon.process()"
   ]
  },
  {
   "attachments": {},
   "cell_type": "markdown",
   "metadata": {},
   "source": [
    "## Exporting\n",
    "Two functions export:\n",
    "- `create_mapping_file()` writes the mapping file of the predictor names\n",
    "- `write_to_output()` writes the processed dataframe to disk\n",
    "\n",
    "Write to output accepts the following extensions: `[\"ndjson\", \"parquet\", \"arrow\", \"csv\"]`"
   ]
  },
  {
   "cell_type": "code",
   "execution_count": 11,
   "metadata": {
    "execution": {
     "iopub.execute_input": "2024-06-28T08:59:23.562686Z",
     "iopub.status.busy": "2024-06-28T08:59:23.562286Z",
     "iopub.status.idle": "2024-06-28T08:59:23.565642Z",
     "shell.execute_reply": "2024-06-28T08:59:23.565136Z"
    }
   },
   "outputs": [
    {
     "name": "stdout",
     "output_type": "stream",
     "text": [
      "Customer_City=PREDICTOR_0\n",
      "Customer_CLV=PREDICTOR_1\n",
      "filename=filename\n",
      "Customer_MaritalStatus=PREDICTOR_3\n",
      "Context_Name=Context_Name\n",
      "IH_Web_Inbound_Accepted_pxLastGroupID=IH_Web_Inbound_Accepted_pxLastGroupID\n",
      "Decision_Outcome=Decision_Outcome\n",
      "\n"
     ]
    }
   ],
   "source": [
    "anon.create_mapping_file()\n",
    "with open('mapping.map') as f:\n",
    "    print(f.read())"
   ]
  },
  {
   "cell_type": "code",
   "execution_count": 12,
   "metadata": {
    "execution": {
     "iopub.execute_input": "2024-06-28T08:59:23.567484Z",
     "iopub.status.busy": "2024-06-28T08:59:23.567202Z",
     "iopub.status.idle": "2024-06-28T08:59:23.570558Z",
     "shell.execute_reply": "2024-06-28T08:59:23.570045Z"
    }
   },
   "outputs": [],
   "source": [
    "anon.write_to_output(ext='arrow')"
   ]
  },
  {
   "cell_type": "code",
   "execution_count": 13,
   "metadata": {
    "execution": {
     "iopub.execute_input": "2024-06-28T08:59:23.572678Z",
     "iopub.status.busy": "2024-06-28T08:59:23.572265Z",
     "iopub.status.idle": "2024-06-28T08:59:23.576560Z",
     "shell.execute_reply": "2024-06-28T08:59:23.576119Z"
    }
   },
   "outputs": [
    {
     "data": {
      "text/html": [
       "<div><style>\n",
       ".dataframe > thead > tr,\n",
       ".dataframe > tbody > tr {\n",
       "  text-align: right;\n",
       "  white-space: pre-wrap;\n",
       "}\n",
       "</style>\n",
       "<small>shape: (7, 6)</small><table border=\"1\" class=\"dataframe\"><thead><tr><th>PREDICTOR_0</th><th>PREDICTOR_1</th><th>PREDICTOR_3</th><th>Context_Name</th><th>IH_Web_Inbound_Accepted_pxLastGroupID</th><th>Decision_Outcome</th></tr><tr><td>str</td><td>f64</td><td>str</td><td>str</td><td>str</td><td>str</td></tr></thead><tbody><tr><td>&quot;11607069941383855728&quot;</td><td>6.0221e18</td><td>&quot;6488086644001720326&quot;</td><td>&quot;FirstMortgage30yr&quot;</td><td>&quot;3813394123237880986&quot;</td><td>&quot;Rejected&quot;</td></tr><tr><td>&quot;18278964075147118547&quot;</td><td>2.2228e18</td><td>&quot;6077337721412885530&quot;</td><td>&quot;FirstMortgage30yr&quot;</td><td>&quot;3359379319836418694&quot;</td><td>&quot;Accepted&quot;</td></tr><tr><td>&quot;14791683637853151924&quot;</td><td>6.8988e18</td><td>&quot;4239025813693951965&quot;</td><td>&quot;MoneyMarketSavingsAccount&quot;</td><td>&quot;3813394123237880986&quot;</td><td>&quot;Rejected&quot;</td></tr><tr><td>&quot;16287708547505018726&quot;</td><td>3.2804e18</td><td>&quot;6077337721412885530&quot;</td><td>&quot;BasicChecking&quot;</td><td>&quot;3813394123237880986&quot;</td><td>&quot;Rejected&quot;</td></tr><tr><td>&quot;8177611666367621678&quot;</td><td>5.4996e18</td><td>&quot;6488086644001720326&quot;</td><td>&quot;BasicChecking&quot;</td><td>&quot;18378854800664855497&quot;</td><td>&quot;Accepted&quot;</td></tr><tr><td>&quot;15369738107837082215&quot;</td><td>9.6513e18</td><td>&quot;4239025813693951965&quot;</td><td>&quot;UPlusFinPersonal&quot;</td><td>null</td><td>&quot;Rejected&quot;</td></tr><tr><td>&quot;13418639920439002120&quot;</td><td>1.3739e19</td><td>&quot;4239025813693951965&quot;</td><td>&quot;BasicChecking&quot;</td><td>&quot;18378854800664855497&quot;</td><td>&quot;Rejected&quot;</td></tr></tbody></table></div>"
      ],
      "text/plain": [
       "shape: (7, 6)\n",
       "┌────────────────┬─────────────┬────────────────┬────────────────┬────────────────┬────────────────┐\n",
       "│ PREDICTOR_0    ┆ PREDICTOR_1 ┆ PREDICTOR_3    ┆ Context_Name   ┆ IH_Web_Inbound ┆ Decision_Outco │\n",
       "│ ---            ┆ ---         ┆ ---            ┆ ---            ┆ _Accepted_pxLa ┆ me             │\n",
       "│ str            ┆ f64         ┆ str            ┆ str            ┆ st…            ┆ ---            │\n",
       "│                ┆             ┆                ┆                ┆ ---            ┆ str            │\n",
       "│                ┆             ┆                ┆                ┆ str            ┆                │\n",
       "╞════════════════╪═════════════╪════════════════╪════════════════╪════════════════╪════════════════╡\n",
       "│ 11607069941383 ┆ 6.0221e18   ┆ 64880866440017 ┆ FirstMortgage3 ┆ 38133941232378 ┆ Rejected       │\n",
       "│ 855728         ┆             ┆ 20326          ┆ 0yr            ┆ 80986          ┆                │\n",
       "│ 18278964075147 ┆ 2.2228e18   ┆ 60773377214128 ┆ FirstMortgage3 ┆ 33593793198364 ┆ Accepted       │\n",
       "│ 118547         ┆             ┆ 85530          ┆ 0yr            ┆ 18694          ┆                │\n",
       "│ 14791683637853 ┆ 6.8988e18   ┆ 42390258136939 ┆ MoneyMarketSav ┆ 38133941232378 ┆ Rejected       │\n",
       "│ 151924         ┆             ┆ 51965          ┆ ingsAccount    ┆ 80986          ┆                │\n",
       "│ 16287708547505 ┆ 3.2804e18   ┆ 60773377214128 ┆ BasicChecking  ┆ 38133941232378 ┆ Rejected       │\n",
       "│ 018726         ┆             ┆ 85530          ┆                ┆ 80986          ┆                │\n",
       "│ 81776116663676 ┆ 5.4996e18   ┆ 64880866440017 ┆ BasicChecking  ┆ 18378854800664 ┆ Accepted       │\n",
       "│ 21678          ┆             ┆ 20326          ┆                ┆ 855497         ┆                │\n",
       "│ 15369738107837 ┆ 9.6513e18   ┆ 42390258136939 ┆ UPlusFinPerson ┆ null           ┆ Rejected       │\n",
       "│ 082215         ┆             ┆ 51965          ┆ al             ┆                ┆                │\n",
       "│ 13418639920439 ┆ 1.3739e19   ┆ 42390258136939 ┆ BasicChecking  ┆ 18378854800664 ┆ Rejected       │\n",
       "│ 002120         ┆             ┆ 51965          ┆                ┆ 855497         ┆                │\n",
       "└────────────────┴─────────────┴────────────────┴────────────────┴────────────────┴────────────────┘"
      ]
     },
     "execution_count": 13,
     "metadata": {},
     "output_type": "execute_result"
    }
   ],
   "source": [
    "pl.read_ipc('output/hds.arrow')"
   ]
  },
  {
   "attachments": {},
   "cell_type": "markdown",
   "metadata": {
    "nbsphinx": "hidden"
   },
   "source": [
    "## Advanced: Hash fuctions\n",
    "\n",
    "By default, we use [the same hashing algorithm Polars](https://pola-rs.github.io/polars/py-polars/html/reference/expressions/api/polars.Expr.hash.html#polars.Expr.hash) uses: [xxhash](https://github.com/Cyan4973/xxHash), as implemented [here](https://github.com/pola-rs/polars/blob/3f287f370b3c388ed2f3f218b2c096382548136f/polars/polars-core/src/vector_hasher.rs#L266). xxhash is fast to compute, and you can check its performance in collision, dispersion and randomness [here](https://github.com/Cyan4973/xxHash/tree/dev/tests). \n",
    "\n",
    "xxhash accepts four distinct seeds, but by default we set the seeds to `0`. It is possible to set the `seed` argument of the `process()` function to `'random'`, which will set all four seeds to a random integer between `0` and `1000000000`. Alternatively, it is possible to supply the four seeds manually with arguments `seed`, `seed_1`, `seed_2` and `seed_3`. \n",
    "\n",
    "If the xxhash with (random) seed(s) is not deemed sufficiently secure, it is possible to use your own hashing algorithm.\n",
    "\n",
    "Note that since we're now running python code and not native Polars code anymore, this will be _significantly_ slower. Nonetheless, it is possible.\n",
    "\n",
    "Just as an example - this is how one would use sha3_256:"
   ]
  },
  {
   "cell_type": "code",
   "execution_count": 14,
   "metadata": {
    "execution": {
     "iopub.execute_input": "2024-06-28T08:59:23.578475Z",
     "iopub.status.busy": "2024-06-28T08:59:23.578165Z",
     "iopub.status.idle": "2024-06-28T08:59:23.898772Z",
     "shell.execute_reply": "2024-06-28T08:59:23.898165Z"
    },
    "nbsphinx": "hidden"
   },
   "outputs": [
    {
     "name": "stderr",
     "output_type": "stream",
     "text": [
      "sys:1: MapWithoutReturnDtypeWarning:\n",
      "\n",
      "Calling `map_elements` without specifying `return_dtype` can lead to unpredictable results. Specify `return_dtype` to silence this warning.\n",
      "\n",
      "sys:1: MapWithoutReturnDtypeWarning:\n",
      "\n",
      "Calling `map_elements` without specifying `return_dtype` can lead to unpredictable results. Specify `return_dtype` to silence this warning.\n",
      "\n",
      "sys:1: MapWithoutReturnDtypeWarning:\n",
      "\n",
      "Calling `map_elements` without specifying `return_dtype` can lead to unpredictable results. Specify `return_dtype` to silence this warning.\n",
      "\n",
      "sys:1: MapWithoutReturnDtypeWarning:\n",
      "\n",
      "Calling `map_elements` without specifying `return_dtype` can lead to unpredictable results. Specify `return_dtype` to silence this warning.\n",
      "\n"
     ]
    },
    {
     "ename": "ComputeError",
     "evalue": "AttributeError: 'int' object has no attribute 'encode'",
     "output_type": "error",
     "traceback": [
      "\u001b[0;31m---------------------------------------------------------------------------\u001b[0m",
      "\u001b[0;31mComputeError\u001b[0m                              Traceback (most recent call last)",
      "Cell \u001b[0;32mIn[14], line 3\u001b[0m\n\u001b[1;32m      1\u001b[0m \u001b[38;5;28;01mfrom\u001b[39;00m \u001b[38;5;21;01mhashlib\u001b[39;00m \u001b[38;5;28;01mimport\u001b[39;00m sha3_256\n\u001b[0;32m----> 3\u001b[0m \u001b[43manon\u001b[49m\u001b[38;5;241;43m.\u001b[39;49m\u001b[43mprocess\u001b[49m\u001b[43m(\u001b[49m\u001b[43malgorithm\u001b[49m\u001b[38;5;241;43m=\u001b[39;49m\u001b[38;5;28;43;01mlambda\u001b[39;49;00m\u001b[43m \u001b[49m\u001b[43mx\u001b[49m\u001b[43m:\u001b[49m\u001b[43m \u001b[49m\u001b[43msha3_256\u001b[49m\u001b[43m(\u001b[49m\u001b[43mx\u001b[49m\u001b[38;5;241;43m.\u001b[39;49m\u001b[43mencode\u001b[49m\u001b[43m(\u001b[49m\u001b[43m)\u001b[49m\u001b[43m)\u001b[49m\u001b[38;5;241;43m.\u001b[39;49m\u001b[43mhexdigest\u001b[49m\u001b[43m(\u001b[49m\u001b[43m)\u001b[49m\u001b[43m)\u001b[49m\n",
      "File \u001b[0;32m~/work/pega-datascientist-tools/pega-datascientist-tools/python/docs/source/articles/../../../pdstools/utils/hds_utils.py:512\u001b[0m, in \u001b[0;36mDataAnonymization.process\u001b[0;34m(self, strategy, **kwargs)\u001b[0m\n\u001b[1;32m    510\u001b[0m df \u001b[38;5;241m=\u001b[39m df\u001b[38;5;241m.\u001b[39mselect(\u001b[38;5;28mself\u001b[39m\u001b[38;5;241m.\u001b[39mcolumn_mapping\u001b[38;5;241m.\u001b[39mkeys())\u001b[38;5;241m.\u001b[39mrename(\u001b[38;5;28mself\u001b[39m\u001b[38;5;241m.\u001b[39mcolumn_mapping)\n\u001b[1;32m    511\u001b[0m \u001b[38;5;28;01mif\u001b[39;00m strategy \u001b[38;5;241m==\u001b[39m \u001b[38;5;124m\"\u001b[39m\u001b[38;5;124meager\u001b[39m\u001b[38;5;124m\"\u001b[39m:\n\u001b[0;32m--> 512\u001b[0m     \u001b[38;5;28;01mreturn\u001b[39;00m \u001b[43mdf\u001b[49m\u001b[38;5;241;43m.\u001b[39;49m\u001b[43mcollect\u001b[49m\u001b[43m(\u001b[49m\u001b[43m)\u001b[49m\n\u001b[1;32m    513\u001b[0m \u001b[38;5;28;01mreturn\u001b[39;00m df\n",
      "File \u001b[0;32m/opt/hostedtoolcache/Python/3.11.9/x64/lib/python3.11/site-packages/polars/lazyframe/frame.py:1967\u001b[0m, in \u001b[0;36mLazyFrame.collect\u001b[0;34m(self, type_coercion, predicate_pushdown, projection_pushdown, simplify_expression, slice_pushdown, comm_subplan_elim, comm_subexpr_elim, cluster_with_columns, no_optimization, streaming, background, _eager, **_kwargs)\u001b[0m\n\u001b[1;32m   1964\u001b[0m \u001b[38;5;66;03m# Only for testing purposes atm.\u001b[39;00m\n\u001b[1;32m   1965\u001b[0m callback \u001b[38;5;241m=\u001b[39m _kwargs\u001b[38;5;241m.\u001b[39mget(\u001b[38;5;124m\"\u001b[39m\u001b[38;5;124mpost_opt_callback\u001b[39m\u001b[38;5;124m\"\u001b[39m)\n\u001b[0;32m-> 1967\u001b[0m \u001b[38;5;28;01mreturn\u001b[39;00m wrap_df(\u001b[43mldf\u001b[49m\u001b[38;5;241;43m.\u001b[39;49m\u001b[43mcollect\u001b[49m\u001b[43m(\u001b[49m\u001b[43mcallback\u001b[49m\u001b[43m)\u001b[49m)\n",
      "\u001b[0;31mComputeError\u001b[0m: AttributeError: 'int' object has no attribute 'encode'"
     ]
    }
   ],
   "source": [
    "from hashlib import sha3_256\n",
    "\n",
    "anon.process(algorithm=lambda x: sha3_256(x.encode()).hexdigest())"
   ]
  }
 ],
 "metadata": {
  "kernelspec": {
   "display_name": "Python 3",
   "language": "python",
   "name": "python3"
  },
  "language_info": {
   "codemirror_mode": {
    "name": "ipython",
    "version": 3
   },
   "file_extension": ".py",
   "mimetype": "text/x-python",
   "name": "python",
   "nbconvert_exporter": "python",
   "pygments_lexer": "ipython3",
   "version": "3.11.9"
  },
  "vscode": {
   "interpreter": {
    "hash": "aee8b7b246df8f9039afb4144a1f6fd8d2ca17a180786b69acc140d282b71a49"
   }
  }
 },
 "nbformat": 4,
 "nbformat_minor": 2
}
