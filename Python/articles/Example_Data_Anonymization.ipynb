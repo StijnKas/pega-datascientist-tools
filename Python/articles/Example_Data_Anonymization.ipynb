{
 "cells": [
  {
   "attachments": {},
   "cell_type": "markdown",
   "metadata": {},
   "source": [
    "# Example data anonymization\n",
    "\n",
    "In Pega CDH 8.5 and up, it's now possible to record the historical data as seen by the Adaptive Models. See [this academy challenge](https://academy.pega.com/challenge/exporting-historical-data/v4) for reference. This historical data can be further used to experiment with offline models, but also to fine-tune the OOTB Gradient Boosting model. However, sharing this information with Pega can be sensitive as it contains raw predictor data. \n",
    "\n",
    "To this end, we provide a simple and transparent script to fully anonimize this dataset.\n",
    "\n",
    "The DataAnonymization script is now part of pdstools, and you can import it directly as such."
   ]
  },
  {
   "cell_type": "code",
   "execution_count": 1,
   "metadata": {
    "execution": {
     "iopub.execute_input": "2023-08-08T15:30:29.166049Z",
     "iopub.status.busy": "2023-08-08T15:30:29.165844Z",
     "iopub.status.idle": "2023-08-08T15:30:29.171793Z",
     "shell.execute_reply": "2023-08-08T15:30:29.171273Z"
    },
    "nbsphinx": "hidden"
   },
   "outputs": [],
   "source": [
    "# These lines are only for rendering in the docs, and are hidden through Jupyter tags\n",
    "# Do not run if you're running the notebook seperately\n",
    "\n",
    "import sys\n",
    "sys.path.append('../../../')"
   ]
  },
  {
   "cell_type": "code",
   "execution_count": 2,
   "metadata": {
    "execution": {
     "iopub.execute_input": "2023-08-08T15:30:29.174486Z",
     "iopub.status.busy": "2023-08-08T15:30:29.174188Z",
     "iopub.status.idle": "2023-08-08T15:30:30.383674Z",
     "shell.execute_reply": "2023-08-08T15:30:30.383029Z"
    }
   },
   "outputs": [],
   "source": [
    "from pdstools import ADMDatamart\n",
    "from pdstools import Config, DataAnonymization\n",
    "import polars as pl"
   ]
  },
  {
   "attachments": {},
   "cell_type": "markdown",
   "metadata": {},
   "source": [
    "## Input data\n",
    "\n",
    "To demonstrate this process, we're going to anonymise this toy example dataframe:"
   ]
  },
  {
   "cell_type": "code",
   "execution_count": 3,
   "metadata": {
    "execution": {
     "iopub.execute_input": "2023-08-08T15:30:30.386941Z",
     "iopub.status.busy": "2023-08-08T15:30:30.386509Z",
     "iopub.status.idle": "2023-08-08T15:30:30.396825Z",
     "shell.execute_reply": "2023-08-08T15:30:30.396249Z"
    }
   },
   "outputs": [
    {
     "data": {
      "text/html": [
       "<div><style>\n",
       ".dataframe > thead > tr > th,\n",
       ".dataframe > tbody > tr > td {\n",
       "  text-align: right;\n",
       "}\n",
       "</style>\n",
       "<small>shape: (7, 6)</small><table border=\"1\" class=\"dataframe\"><thead><tr><th>Context_Name</th><th>Customer_MaritalStatus</th><th>Customer_CLV</th><th>Customer_City</th><th>IH_Web_Inbound_Accepted_pxLastGroupID</th><th>Decision_Outcome</th></tr><tr><td>str</td><td>str</td><td>i64</td><td>str</td><td>str</td><td>str</td></tr></thead><tbody><tr><td>&quot;FirstMortgage3…</td><td>&quot;Married&quot;</td><td>1460</td><td>&quot;Port Raoul&quot;</td><td>&quot;Account&quot;</td><td>&quot;Rejected&quot;</td></tr><tr><td>&quot;FirstMortgage3…</td><td>&quot;Unknown&quot;</td><td>669</td><td>&quot;Laurianneshire…</td><td>&quot;AutoLoans&quot;</td><td>&quot;Accepted&quot;</td></tr><tr><td>&quot;MoneyMarketSav…</td><td>&quot;No Resp+&quot;</td><td>1174</td><td>&quot;Jacobshaven&quot;</td><td>&quot;Account&quot;</td><td>&quot;Rejected&quot;</td></tr><tr><td>&quot;BasicChecking&quot;</td><td>&quot;Unknown&quot;</td><td>1476</td><td>&quot;Lindton&quot;</td><td>&quot;Account&quot;</td><td>&quot;Rejected&quot;</td></tr><tr><td>&quot;BasicChecking&quot;</td><td>&quot;Married&quot;</td><td>1211</td><td>&quot;South Jimmiesh…</td><td>&quot;DepositAccount…</td><td>&quot;Accepted&quot;</td></tr><tr><td>&quot;UPlusFinPerson…</td><td>&quot;No Resp+&quot;</td><td>533</td><td>&quot;Bergeville&quot;</td><td>null</td><td>&quot;Rejected&quot;</td></tr><tr><td>&quot;BasicChecking&quot;</td><td>&quot;No Resp+&quot;</td><td>555</td><td>&quot;Willyville&quot;</td><td>&quot;DepositAccount…</td><td>&quot;Rejected&quot;</td></tr></tbody></table></div>"
      ],
      "text/plain": [
       "shape: (7, 6)\n",
       "┌────────────────┬────────────────┬──────────────┬────────────────┬────────────────┬───────────────┐\n",
       "│ Context_Name   ┆ Customer_Marit ┆ Customer_CLV ┆ Customer_City  ┆ IH_Web_Inbound ┆ Decision_Outc │\n",
       "│ ---            ┆ alStatus       ┆ ---          ┆ ---            ┆ _Accepted_pxLa ┆ ome           │\n",
       "│ str            ┆ ---            ┆ i64          ┆ str            ┆ stGr…          ┆ ---           │\n",
       "│                ┆ str            ┆              ┆                ┆ ---            ┆ str           │\n",
       "│                ┆                ┆              ┆                ┆ str            ┆               │\n",
       "╞════════════════╪════════════════╪══════════════╪════════════════╪════════════════╪═══════════════╡\n",
       "│ FirstMortgage3 ┆ Married        ┆ 1460         ┆ Port Raoul     ┆ Account        ┆ Rejected      │\n",
       "│ 0yr            ┆                ┆              ┆                ┆                ┆               │\n",
       "│ FirstMortgage3 ┆ Unknown        ┆ 669          ┆ Laurianneshire ┆ AutoLoans      ┆ Accepted      │\n",
       "│ 0yr            ┆                ┆              ┆                ┆                ┆               │\n",
       "│ MoneyMarketSav ┆ No Resp+       ┆ 1174         ┆ Jacobshaven    ┆ Account        ┆ Rejected      │\n",
       "│ ingsAccount    ┆                ┆              ┆                ┆                ┆               │\n",
       "│ BasicChecking  ┆ Unknown        ┆ 1476         ┆ Lindton        ┆ Account        ┆ Rejected      │\n",
       "│ BasicChecking  ┆ Married        ┆ 1211         ┆ South          ┆ DepositAccount ┆ Accepted      │\n",
       "│                ┆                ┆              ┆ Jimmieshire    ┆ s              ┆               │\n",
       "│ UPlusFinPerson ┆ No Resp+       ┆ 533          ┆ Bergeville     ┆ null           ┆ Rejected      │\n",
       "│ al             ┆                ┆              ┆                ┆                ┆               │\n",
       "│ BasicChecking  ┆ No Resp+       ┆ 555          ┆ Willyville     ┆ DepositAccount ┆ Rejected      │\n",
       "│                ┆                ┆              ┆                ┆ s              ┆               │\n",
       "└────────────────┴────────────────┴──────────────┴────────────────┴────────────────┴───────────────┘"
      ]
     },
     "execution_count": 3,
     "metadata": {},
     "output_type": "execute_result"
    }
   ],
   "source": [
    "pl.read_ndjson('../../../../data/SampleHDS.json')"
   ]
  },
  {
   "attachments": {},
   "cell_type": "markdown",
   "metadata": {},
   "source": [
    "As you can see, this dataset consists of regular predictors, IH predictors, context keys and the outcome column. Additionally, some columns are numeric, others are strings. Let's first initialize the DataAnonymization class."
   ]
  },
  {
   "cell_type": "code",
   "execution_count": 4,
   "metadata": {
    "execution": {
     "iopub.execute_input": "2023-08-08T15:30:30.399982Z",
     "iopub.status.busy": "2023-08-08T15:30:30.398877Z",
     "iopub.status.idle": "2023-08-08T15:30:30.408578Z",
     "shell.execute_reply": "2023-08-08T15:30:30.408047Z"
    }
   },
   "outputs": [],
   "source": [
    "anon = DataAnonymization(hds_folder='../../../../data/')"
   ]
  },
  {
   "attachments": {},
   "cell_type": "markdown",
   "metadata": {},
   "source": [
    "By default, the class applies a set of anonymisation techniques:\n",
    "- Column names are remapped to a non-descriptive name\n",
    "- Categorical values are hashed with a random seed\n",
    "- Numerical values are normalized between 0 and 1\n",
    "- Outcomes are mapped to a binary outcome.\n",
    "\n",
    "To apply these techniques, simply call `.process()`:"
   ]
  },
  {
   "cell_type": "code",
   "execution_count": 5,
   "metadata": {
    "execution": {
     "iopub.execute_input": "2023-08-08T15:30:30.411752Z",
     "iopub.status.busy": "2023-08-08T15:30:30.411540Z",
     "iopub.status.idle": "2023-08-08T15:30:30.419554Z",
     "shell.execute_reply": "2023-08-08T15:30:30.419003Z"
    }
   },
   "outputs": [
    {
     "data": {
      "text/html": [
       "<div><style>\n",
       ".dataframe > thead > tr > th,\n",
       ".dataframe > tbody > tr > td {\n",
       "  text-align: right;\n",
       "}\n",
       "</style>\n",
       "<small>shape: (7, 7)</small><table border=\"1\" class=\"dataframe\"><thead><tr><th>PREDICTOR_0</th><th>PREDICTOR_1</th><th>filename</th><th>PREDICTOR_3</th><th>Context_Name</th><th>IH_PREDICTOR_0</th><th>Decision_Outcome</th></tr><tr><td>str</td><td>f64</td><td>str</td><td>str</td><td>str</td><td>str</td><td>bool</td></tr></thead><tbody><tr><td>&quot;19694558908379…</td><td>1.2927e19</td><td>&quot;../../../../da…</td><td>&quot;18443219898024…</td><td>&quot;10000565921688…</td><td>&quot;12401373531055…</td><td>false</td></tr><tr><td>&quot;34200049162623…</td><td>1.4856e19</td><td>&quot;../../../../da…</td><td>&quot;16639811927336…</td><td>&quot;10000565921688…</td><td>&quot;54312388497045…</td><td>true</td></tr><tr><td>&quot;18192903196950…</td><td>5.6458e17</td><td>&quot;../../../../da…</td><td>&quot;16551340893371…</td><td>&quot;93848263936167…</td><td>&quot;12401373531055…</td><td>false</td></tr><tr><td>&quot;34200049162623…</td><td>4.0723e18</td><td>&quot;../../../../da…</td><td>&quot;15714897594549…</td><td>&quot;60085797319458…</td><td>&quot;12401373531055…</td><td>false</td></tr><tr><td>&quot;19694558908379…</td><td>1.4677e19</td><td>&quot;../../../../da…</td><td>&quot;15360074740241…</td><td>&quot;60085797319458…</td><td>&quot;16623789450653…</td><td>true</td></tr><tr><td>&quot;18192903196950…</td><td>1.6330e19</td><td>&quot;../../../../da…</td><td>&quot;95708445428108…</td><td>&quot;14478502077818…</td><td>null</td><td>false</td></tr><tr><td>&quot;18192903196950…</td><td>8.7675e18</td><td>&quot;../../../../da…</td><td>&quot;12313012254356…</td><td>&quot;60085797319458…</td><td>&quot;16623789450653…</td><td>false</td></tr></tbody></table></div>"
      ],
      "text/plain": [
       "shape: (7, 7)\n",
       "┌──────────────┬─────────────┬─────────────┬─────────────┬─────────────┬─────────────┬─────────────┐\n",
       "│ PREDICTOR_0  ┆ PREDICTOR_1 ┆ filename    ┆ PREDICTOR_3 ┆ Context_Nam ┆ IH_PREDICTO ┆ Decision_Ou │\n",
       "│ ---          ┆ ---         ┆ ---         ┆ ---         ┆ e           ┆ R_0         ┆ tcome       │\n",
       "│ str          ┆ f64         ┆ str         ┆ str         ┆ ---         ┆ ---         ┆ ---         │\n",
       "│              ┆             ┆             ┆             ┆ str         ┆ str         ┆ bool        │\n",
       "╞══════════════╪═════════════╪═════════════╪═════════════╪═════════════╪═════════════╪═════════════╡\n",
       "│ 196945589083 ┆ 1.2927e19   ┆ ../../../.. ┆ 18443219898 ┆ 10000565921 ┆ 12401373531 ┆ false       │\n",
       "│ 7920151      ┆             ┆ /data/Sampl ┆ 024214294   ┆ 688426348   ┆ 055455685   ┆             │\n",
       "│              ┆             ┆ eHDS.json   ┆             ┆             ┆             ┆             │\n",
       "│ 342000491626 ┆ 1.4856e19   ┆ ../../../.. ┆ 16639811927 ┆ 10000565921 ┆ 54312388497 ┆ true        │\n",
       "│ 2315606      ┆             ┆ /data/Sampl ┆ 336644514   ┆ 688426348   ┆ 04539669    ┆             │\n",
       "│              ┆             ┆ eHDS.json   ┆             ┆             ┆             ┆             │\n",
       "│ 181929031969 ┆ 5.6458e17   ┆ ../../../.. ┆ 16551340893 ┆ 93848263936 ┆ 12401373531 ┆ false       │\n",
       "│ 5077175      ┆             ┆ /data/Sampl ┆ 371285945   ┆ 16749253    ┆ 055455685   ┆             │\n",
       "│              ┆             ┆ eHDS.json   ┆             ┆             ┆             ┆             │\n",
       "│ 342000491626 ┆ 4.0723e18   ┆ ../../../.. ┆ 15714897594 ┆ 60085797319 ┆ 12401373531 ┆ false       │\n",
       "│ 2315606      ┆             ┆ /data/Sampl ┆ 549071390   ┆ 45818033    ┆ 055455685   ┆             │\n",
       "│              ┆             ┆ eHDS.json   ┆             ┆             ┆             ┆             │\n",
       "│ 196945589083 ┆ 1.4677e19   ┆ ../../../.. ┆ 15360074740 ┆ 60085797319 ┆ 16623789450 ┆ true        │\n",
       "│ 7920151      ┆             ┆ /data/Sampl ┆ 24111583    ┆ 45818033    ┆ 653139478   ┆             │\n",
       "│              ┆             ┆ eHDS.json   ┆             ┆             ┆             ┆             │\n",
       "│ 181929031969 ┆ 1.6330e19   ┆ ../../../.. ┆ 95708445428 ┆ 14478502077 ┆ null        ┆ false       │\n",
       "│ 5077175      ┆             ┆ /data/Sampl ┆ 10845838    ┆ 818132095   ┆             ┆             │\n",
       "│              ┆             ┆ eHDS.json   ┆             ┆             ┆             ┆             │\n",
       "│ 181929031969 ┆ 8.7675e18   ┆ ../../../.. ┆ 12313012254 ┆ 60085797319 ┆ 16623789450 ┆ false       │\n",
       "│ 5077175      ┆             ┆ /data/Sampl ┆ 356229478   ┆ 45818033    ┆ 653139478   ┆             │\n",
       "│              ┆             ┆ eHDS.json   ┆             ┆             ┆             ┆             │\n",
       "└──────────────┴─────────────┴─────────────┴─────────────┴─────────────┴─────────────┴─────────────┘"
      ]
     },
     "execution_count": 5,
     "metadata": {},
     "output_type": "execute_result"
    }
   ],
   "source": [
    "anon.process()"
   ]
  },
  {
   "attachments": {},
   "cell_type": "markdown",
   "metadata": {},
   "source": [
    "To trace back the columns to their original names, the class also contains a mapping, which does not have to be provided."
   ]
  },
  {
   "cell_type": "code",
   "execution_count": 6,
   "metadata": {
    "execution": {
     "iopub.execute_input": "2023-08-08T15:30:30.422190Z",
     "iopub.status.busy": "2023-08-08T15:30:30.421989Z",
     "iopub.status.idle": "2023-08-08T15:30:30.427322Z",
     "shell.execute_reply": "2023-08-08T15:30:30.426824Z"
    }
   },
   "outputs": [
    {
     "data": {
      "text/plain": [
       "{'Customer_MaritalStatus': 'PREDICTOR_0',\n",
       " 'Customer_CLV': 'PREDICTOR_1',\n",
       " 'filename': 'filename',\n",
       " 'Customer_City': 'PREDICTOR_3',\n",
       " 'Context_Name': 'Context_Name',\n",
       " 'IH_Web_Inbound_Accepted_pxLastGroupID': 'IH_PREDICTOR_0',\n",
       " 'Decision_Outcome': 'Decision_Outcome'}"
      ]
     },
     "execution_count": 6,
     "metadata": {},
     "output_type": "execute_result"
    }
   ],
   "source": [
    "anon.column_mapping"
   ]
  },
  {
   "attachments": {},
   "cell_type": "markdown",
   "metadata": {},
   "source": [
    "## Configs\n",
    "\n",
    "Each capability can optionally be turned off - see below for the full list of config options, and refer to the API reference for the full description."
   ]
  },
  {
   "cell_type": "code",
   "execution_count": 7,
   "metadata": {
    "execution": {
     "iopub.execute_input": "2023-08-08T15:30:30.429792Z",
     "iopub.status.busy": "2023-08-08T15:30:30.429596Z",
     "iopub.status.idle": "2023-08-08T15:30:30.435442Z",
     "shell.execute_reply": "2023-08-08T15:30:30.434935Z"
    }
   },
   "outputs": [
    {
     "data": {
      "text/plain": [
       "{'config_file': None,\n",
       " 'hds_folder': '.',\n",
       " 'use_datamart': False,\n",
       " 'datamart_folder': 'datamart',\n",
       " 'output_format': 'ndjson',\n",
       " 'output_folder': 'output',\n",
       " 'mapping_file': 'mapping.map',\n",
       " 'mask_predictor_names': True,\n",
       " 'mask_context_key_names': False,\n",
       " 'mask_ih_names': True,\n",
       " 'mask_outcome_name': False,\n",
       " 'mask_predictor_values': True,\n",
       " 'mask_context_key_values': True,\n",
       " 'mask_ih_values': True,\n",
       " 'mask_outcome_values': True,\n",
       " 'context_key_label': 'Context_*',\n",
       " 'ih_label': 'IH_*',\n",
       " 'outcome_column': 'Decision_Outcome',\n",
       " 'positive_outcomes': ['Accepted', 'Clicked'],\n",
       " 'negative_outcomes': ['Rejected', 'Impression'],\n",
       " 'special_predictors': ['Decision_DecisionTime',\n",
       "  'Decision_OutcomeTime',\n",
       "  'Decision_Rank'],\n",
       " 'sample_percentage_schema_inferencing': 0.01}"
      ]
     },
     "execution_count": 7,
     "metadata": {},
     "output_type": "execute_result"
    }
   ],
   "source": [
    "dict(zip(Config.__init__.__code__.co_varnames[1:], Config.__init__.__defaults__))"
   ]
  },
  {
   "attachments": {},
   "cell_type": "markdown",
   "metadata": {},
   "source": [
    "It's easy to change these parameters by just passing the keyword arguments. In the following example, we\n",
    "- Keep the IH predictor names\n",
    "- Keep the outcome values\n",
    "- Keep the context key values\n",
    "- Keep the context key predictor names"
   ]
  },
  {
   "cell_type": "code",
   "execution_count": 8,
   "metadata": {
    "execution": {
     "iopub.execute_input": "2023-08-08T15:30:30.438022Z",
     "iopub.status.busy": "2023-08-08T15:30:30.437807Z",
     "iopub.status.idle": "2023-08-08T15:30:30.451119Z",
     "shell.execute_reply": "2023-08-08T15:30:30.450562Z"
    }
   },
   "outputs": [
    {
     "data": {
      "text/html": [
       "<div><style>\n",
       ".dataframe > thead > tr > th,\n",
       ".dataframe > tbody > tr > td {\n",
       "  text-align: right;\n",
       "}\n",
       "</style>\n",
       "<small>shape: (7, 7)</small><table border=\"1\" class=\"dataframe\"><thead><tr><th>PREDICTOR_0</th><th>PREDICTOR_1</th><th>filename</th><th>PREDICTOR_3</th><th>Context_Name</th><th>IH_Web_Inbound_Accepted_pxLastGroupID</th><th>Decision_Outcome</th></tr><tr><td>str</td><td>f64</td><td>str</td><td>str</td><td>str</td><td>str</td><td>str</td></tr></thead><tbody><tr><td>&quot;10094581563828…</td><td>1.2927e19</td><td>&quot;../../../../da…</td><td>&quot;93052505995320…</td><td>&quot;FirstMortgage3…</td><td>&quot;48042678639708…</td><td>&quot;Rejected&quot;</td></tr><tr><td>&quot;40305442818521…</td><td>1.4856e19</td><td>&quot;../../../../da…</td><td>&quot;10305082677968…</td><td>&quot;FirstMortgage3…</td><td>&quot;97225936046728…</td><td>&quot;Accepted&quot;</td></tr><tr><td>&quot;10039905418250…</td><td>5.6458e17</td><td>&quot;../../../../da…</td><td>&quot;62002066751993…</td><td>&quot;MoneyMarketSav…</td><td>&quot;48042678639708…</td><td>&quot;Rejected&quot;</td></tr><tr><td>&quot;40305442818521…</td><td>4.0723e18</td><td>&quot;../../../../da…</td><td>&quot;10538800893059…</td><td>&quot;BasicChecking&quot;</td><td>&quot;48042678639708…</td><td>&quot;Rejected&quot;</td></tr><tr><td>&quot;10094581563828…</td><td>1.4677e19</td><td>&quot;../../../../da…</td><td>&quot;68156763558680…</td><td>&quot;BasicChecking&quot;</td><td>&quot;16036067014078…</td><td>&quot;Accepted&quot;</td></tr><tr><td>&quot;10039905418250…</td><td>1.6330e19</td><td>&quot;../../../../da…</td><td>&quot;17779605866883…</td><td>&quot;UPlusFinPerson…</td><td>null</td><td>&quot;Rejected&quot;</td></tr><tr><td>&quot;10039905418250…</td><td>8.7675e18</td><td>&quot;../../../../da…</td><td>&quot;13761849274662…</td><td>&quot;BasicChecking&quot;</td><td>&quot;16036067014078…</td><td>&quot;Rejected&quot;</td></tr></tbody></table></div>"
      ],
      "text/plain": [
       "shape: (7, 7)\n",
       "┌──────────────┬─────────────┬─────────────┬─────────────┬─────────────┬─────────────┬─────────────┐\n",
       "│ PREDICTOR_0  ┆ PREDICTOR_1 ┆ filename    ┆ PREDICTOR_3 ┆ Context_Nam ┆ IH_Web_Inbo ┆ Decision_Ou │\n",
       "│ ---          ┆ ---         ┆ ---         ┆ ---         ┆ e           ┆ und_Accepte ┆ tcome       │\n",
       "│ str          ┆ f64         ┆ str         ┆ str         ┆ ---         ┆ d_pxLastGr… ┆ ---         │\n",
       "│              ┆             ┆             ┆             ┆ str         ┆ ---         ┆ str         │\n",
       "│              ┆             ┆             ┆             ┆             ┆ str         ┆             │\n",
       "╞══════════════╪═════════════╪═════════════╪═════════════╪═════════════╪═════════════╪═════════════╡\n",
       "│ 100945815638 ┆ 1.2927e19   ┆ ../../../.. ┆ 93052505995 ┆ FirstMortga ┆ 48042678639 ┆ Rejected    │\n",
       "│ 28705100     ┆             ┆ /data/Sampl ┆ 32014254    ┆ ge30yr      ┆ 70840096    ┆             │\n",
       "│              ┆             ┆ eHDS.json   ┆             ┆             ┆             ┆             │\n",
       "│ 403054428185 ┆ 1.4856e19   ┆ ../../../.. ┆ 10305082677 ┆ FirstMortga ┆ 97225936046 ┆ Accepted    │\n",
       "│ 2189247      ┆             ┆ /data/Sampl ┆ 968705796   ┆ ge30yr      ┆ 72824479    ┆             │\n",
       "│              ┆             ┆ eHDS.json   ┆             ┆             ┆             ┆             │\n",
       "│ 100399054182 ┆ 5.6458e17   ┆ ../../../.. ┆ 62002066751 ┆ MoneyMarket ┆ 48042678639 ┆ Rejected    │\n",
       "│ 50353866     ┆             ┆ /data/Sampl ┆ 99385641    ┆ SavingsAcco ┆ 70840096    ┆             │\n",
       "│              ┆             ┆ eHDS.json   ┆             ┆ unt         ┆             ┆             │\n",
       "│ 403054428185 ┆ 4.0723e18   ┆ ../../../.. ┆ 10538800893 ┆ BasicChecki ┆ 48042678639 ┆ Rejected    │\n",
       "│ 2189247      ┆             ┆ /data/Sampl ┆ 059348238   ┆ ng          ┆ 70840096    ┆             │\n",
       "│              ┆             ┆ eHDS.json   ┆             ┆             ┆             ┆             │\n",
       "│ 100945815638 ┆ 1.4677e19   ┆ ../../../.. ┆ 68156763558 ┆ BasicChecki ┆ 16036067014 ┆ Accepted    │\n",
       "│ 28705100     ┆             ┆ /data/Sampl ┆ 68010042    ┆ ng          ┆ 078282915   ┆             │\n",
       "│              ┆             ┆ eHDS.json   ┆             ┆             ┆             ┆             │\n",
       "│ 100399054182 ┆ 1.6330e19   ┆ ../../../.. ┆ 17779605866 ┆ UPlusFinPer ┆ null        ┆ Rejected    │\n",
       "│ 50353866     ┆             ┆ /data/Sampl ┆ 883512134   ┆ sonal       ┆             ┆             │\n",
       "│              ┆             ┆ eHDS.json   ┆             ┆             ┆             ┆             │\n",
       "│ 100399054182 ┆ 8.7675e18   ┆ ../../../.. ┆ 13761849274 ┆ BasicChecki ┆ 16036067014 ┆ Rejected    │\n",
       "│ 50353866     ┆             ┆ /data/Sampl ┆ 66200952    ┆ ng          ┆ 078282915   ┆             │\n",
       "│              ┆             ┆ eHDS.json   ┆             ┆             ┆             ┆             │\n",
       "└──────────────┴─────────────┴─────────────┴─────────────┴─────────────┴─────────────┴─────────────┘"
      ]
     },
     "execution_count": 8,
     "metadata": {},
     "output_type": "execute_result"
    }
   ],
   "source": [
    "anon = DataAnonymization(\n",
    "    hds_folder='../../../../data/',\n",
    "    mask_ih_names=False,\n",
    "    mask_outcome_values=False,\n",
    "    mask_context_key_values=False,\n",
    "    mask_context_key_names=False,\n",
    ")\n",
    "anon.process()\n"
   ]
  },
  {
   "attachments": {},
   "cell_type": "markdown",
   "metadata": {},
   "source": [
    "The configs can also be written and read as such:"
   ]
  },
  {
   "cell_type": "code",
   "execution_count": 9,
   "metadata": {
    "execution": {
     "iopub.execute_input": "2023-08-08T15:30:30.453931Z",
     "iopub.status.busy": "2023-08-08T15:30:30.453714Z",
     "iopub.status.idle": "2023-08-08T15:30:30.457069Z",
     "shell.execute_reply": "2023-08-08T15:30:30.456618Z"
    }
   },
   "outputs": [],
   "source": [
    "anon.config.save_to_config_file('config.json')"
   ]
  },
  {
   "cell_type": "code",
   "execution_count": 10,
   "metadata": {
    "execution": {
     "iopub.execute_input": "2023-08-08T15:30:30.459258Z",
     "iopub.status.busy": "2023-08-08T15:30:30.458879Z",
     "iopub.status.idle": "2023-08-08T15:30:30.469496Z",
     "shell.execute_reply": "2023-08-08T15:30:30.469021Z"
    }
   },
   "outputs": [
    {
     "data": {
      "text/html": [
       "<div><style>\n",
       ".dataframe > thead > tr > th,\n",
       ".dataframe > tbody > tr > td {\n",
       "  text-align: right;\n",
       "}\n",
       "</style>\n",
       "<small>shape: (7, 7)</small><table border=\"1\" class=\"dataframe\"><thead><tr><th>PREDICTOR_0</th><th>PREDICTOR_1</th><th>filename</th><th>PREDICTOR_3</th><th>Context_Name</th><th>IH_Web_Inbound_Accepted_pxLastGroupID</th><th>Decision_Outcome</th></tr><tr><td>str</td><td>f64</td><td>str</td><td>str</td><td>str</td><td>str</td><td>str</td></tr></thead><tbody><tr><td>&quot;16656280198478…</td><td>1.2927e19</td><td>&quot;../../../../da…</td><td>&quot;32927789816399…</td><td>&quot;FirstMortgage3…</td><td>&quot;13254902363640…</td><td>&quot;Rejected&quot;</td></tr><tr><td>&quot;80341693435348…</td><td>1.4856e19</td><td>&quot;../../../../da…</td><td>&quot;18297710567298…</td><td>&quot;FirstMortgage3…</td><td>&quot;14739927571452…</td><td>&quot;Accepted&quot;</td></tr><tr><td>&quot;11541417582554…</td><td>5.6458e17</td><td>&quot;../../../../da…</td><td>&quot;38330429152660…</td><td>&quot;MoneyMarketSav…</td><td>&quot;13254902363640…</td><td>&quot;Rejected&quot;</td></tr><tr><td>&quot;80341693435348…</td><td>4.0723e18</td><td>&quot;../../../../da…</td><td>&quot;20243887099162…</td><td>&quot;BasicChecking&quot;</td><td>&quot;13254902363640…</td><td>&quot;Rejected&quot;</td></tr><tr><td>&quot;16656280198478…</td><td>1.4677e19</td><td>&quot;../../../../da…</td><td>&quot;12289417529554…</td><td>&quot;BasicChecking&quot;</td><td>&quot;16621756495398…</td><td>&quot;Accepted&quot;</td></tr><tr><td>&quot;11541417582554…</td><td>1.6330e19</td><td>&quot;../../../../da…</td><td>&quot;13628448142531…</td><td>&quot;UPlusFinPerson…</td><td>null</td><td>&quot;Rejected&quot;</td></tr><tr><td>&quot;11541417582554…</td><td>8.7675e18</td><td>&quot;../../../../da…</td><td>&quot;13624537387367…</td><td>&quot;BasicChecking&quot;</td><td>&quot;16621756495398…</td><td>&quot;Rejected&quot;</td></tr></tbody></table></div>"
      ],
      "text/plain": [
       "shape: (7, 7)\n",
       "┌──────────────┬─────────────┬─────────────┬─────────────┬─────────────┬─────────────┬─────────────┐\n",
       "│ PREDICTOR_0  ┆ PREDICTOR_1 ┆ filename    ┆ PREDICTOR_3 ┆ Context_Nam ┆ IH_Web_Inbo ┆ Decision_Ou │\n",
       "│ ---          ┆ ---         ┆ ---         ┆ ---         ┆ e           ┆ und_Accepte ┆ tcome       │\n",
       "│ str          ┆ f64         ┆ str         ┆ str         ┆ ---         ┆ d_pxLastGr… ┆ ---         │\n",
       "│              ┆             ┆             ┆             ┆ str         ┆ ---         ┆ str         │\n",
       "│              ┆             ┆             ┆             ┆             ┆ str         ┆             │\n",
       "╞══════════════╪═════════════╪═════════════╪═════════════╪═════════════╪═════════════╪═════════════╡\n",
       "│ 166562801984 ┆ 1.2927e19   ┆ ../../../.. ┆ 32927789816 ┆ FirstMortga ┆ 13254902363 ┆ Rejected    │\n",
       "│ 78887964     ┆             ┆ /data/Sampl ┆ 39950865    ┆ ge30yr      ┆ 640029905   ┆             │\n",
       "│              ┆             ┆ eHDS.json   ┆             ┆             ┆             ┆             │\n",
       "│ 803416934353 ┆ 1.4856e19   ┆ ../../../.. ┆ 18297710567 ┆ FirstMortga ┆ 14739927571 ┆ Accepted    │\n",
       "│ 4859628      ┆             ┆ /data/Sampl ┆ 298480011   ┆ ge30yr      ┆ 45207643    ┆             │\n",
       "│              ┆             ┆ eHDS.json   ┆             ┆             ┆             ┆             │\n",
       "│ 115414175825 ┆ 5.6458e17   ┆ ../../../.. ┆ 38330429152 ┆ MoneyMarket ┆ 13254902363 ┆ Rejected    │\n",
       "│ 5447174      ┆             ┆ /data/Sampl ┆ 66076421    ┆ SavingsAcco ┆ 640029905   ┆             │\n",
       "│              ┆             ┆ eHDS.json   ┆             ┆ unt         ┆             ┆             │\n",
       "│ 803416934353 ┆ 4.0723e18   ┆ ../../../.. ┆ 20243887099 ┆ BasicChecki ┆ 13254902363 ┆ Rejected    │\n",
       "│ 4859628      ┆             ┆ /data/Sampl ┆ 16258088    ┆ ng          ┆ 640029905   ┆             │\n",
       "│              ┆             ┆ eHDS.json   ┆             ┆             ┆             ┆             │\n",
       "│ 166562801984 ┆ 1.4677e19   ┆ ../../../.. ┆ 12289417529 ┆ BasicChecki ┆ 16621756495 ┆ Accepted    │\n",
       "│ 78887964     ┆             ┆ /data/Sampl ┆ 554724765   ┆ ng          ┆ 398627271   ┆             │\n",
       "│              ┆             ┆ eHDS.json   ┆             ┆             ┆             ┆             │\n",
       "│ 115414175825 ┆ 1.6330e19   ┆ ../../../.. ┆ 13628448142 ┆ UPlusFinPer ┆ null        ┆ Rejected    │\n",
       "│ 5447174      ┆             ┆ /data/Sampl ┆ 531079722   ┆ sonal       ┆             ┆             │\n",
       "│              ┆             ┆ eHDS.json   ┆             ┆             ┆             ┆             │\n",
       "│ 115414175825 ┆ 8.7675e18   ┆ ../../../.. ┆ 13624537387 ┆ BasicChecki ┆ 16621756495 ┆ Rejected    │\n",
       "│ 5447174      ┆             ┆ /data/Sampl ┆ 367207767   ┆ ng          ┆ 398627271   ┆             │\n",
       "│              ┆             ┆ eHDS.json   ┆             ┆             ┆             ┆             │\n",
       "└──────────────┴─────────────┴─────────────┴─────────────┴─────────────┴─────────────┴─────────────┘"
      ]
     },
     "execution_count": 10,
     "metadata": {},
     "output_type": "execute_result"
    }
   ],
   "source": [
    "anon = DataAnonymization(config=Config(config_file='config.json'))\n",
    "anon.process()"
   ]
  },
  {
   "attachments": {},
   "cell_type": "markdown",
   "metadata": {},
   "source": [
    "## Exporting\n",
    "Two functions export:\n",
    "- `create_mapping_file()` writes the mapping file of the predictor names\n",
    "- `write_to_output()` writes the processed dataframe to disk\n",
    "\n",
    "Write to output accepts the following extensions: `[\"ndjson\", \"parquet\", \"arrow\", \"csv\"]`"
   ]
  },
  {
   "cell_type": "code",
   "execution_count": 11,
   "metadata": {
    "execution": {
     "iopub.execute_input": "2023-08-08T15:30:30.471885Z",
     "iopub.status.busy": "2023-08-08T15:30:30.471477Z",
     "iopub.status.idle": "2023-08-08T15:30:30.475305Z",
     "shell.execute_reply": "2023-08-08T15:30:30.474848Z"
    }
   },
   "outputs": [
    {
     "name": "stdout",
     "output_type": "stream",
     "text": [
      "Customer_MaritalStatus=PREDICTOR_0\n",
      "Customer_CLV=PREDICTOR_1\n",
      "filename=filename\n",
      "Customer_City=PREDICTOR_3\n",
      "Context_Name=Context_Name\n",
      "IH_Web_Inbound_Accepted_pxLastGroupID=IH_Web_Inbound_Accepted_pxLastGroupID\n",
      "Decision_Outcome=Decision_Outcome\n",
      "\n"
     ]
    }
   ],
   "source": [
    "anon.create_mapping_file()\n",
    "with open('mapping.map') as f:\n",
    "    print(f.read())"
   ]
  },
  {
   "cell_type": "code",
   "execution_count": 12,
   "metadata": {
    "execution": {
     "iopub.execute_input": "2023-08-08T15:30:30.477621Z",
     "iopub.status.busy": "2023-08-08T15:30:30.477248Z",
     "iopub.status.idle": "2023-08-08T15:30:30.481354Z",
     "shell.execute_reply": "2023-08-08T15:30:30.480902Z"
    }
   },
   "outputs": [],
   "source": [
    "anon.write_to_output(ext='arrow')"
   ]
  },
  {
   "cell_type": "code",
   "execution_count": 13,
   "metadata": {
    "execution": {
     "iopub.execute_input": "2023-08-08T15:30:30.483611Z",
     "iopub.status.busy": "2023-08-08T15:30:30.483235Z",
     "iopub.status.idle": "2023-08-08T15:30:30.488205Z",
     "shell.execute_reply": "2023-08-08T15:30:30.487762Z"
    }
   },
   "outputs": [
    {
     "data": {
      "text/html": [
       "<div><style>\n",
       ".dataframe > thead > tr > th,\n",
       ".dataframe > tbody > tr > td {\n",
       "  text-align: right;\n",
       "}\n",
       "</style>\n",
       "<small>shape: (7, 6)</small><table border=\"1\" class=\"dataframe\"><thead><tr><th>PREDICTOR_0</th><th>PREDICTOR_1</th><th>PREDICTOR_3</th><th>Context_Name</th><th>IH_Web_Inbound_Accepted_pxLastGroupID</th><th>Decision_Outcome</th></tr><tr><td>str</td><td>f64</td><td>str</td><td>str</td><td>str</td><td>str</td></tr></thead><tbody><tr><td>&quot;56715673773783…</td><td>1.2927e19</td><td>&quot;19409979304041…</td><td>&quot;FirstMortgage3…</td><td>&quot;82143594820648…</td><td>&quot;Rejected&quot;</td></tr><tr><td>&quot;12047831192238…</td><td>1.4856e19</td><td>&quot;22347813483447…</td><td>&quot;FirstMortgage3…</td><td>&quot;95923165031171…</td><td>&quot;Accepted&quot;</td></tr><tr><td>&quot;60162546753240…</td><td>5.6458e17</td><td>&quot;33166164906163…</td><td>&quot;MoneyMarketSav…</td><td>&quot;82143594820648…</td><td>&quot;Rejected&quot;</td></tr><tr><td>&quot;12047831192238…</td><td>4.0723e18</td><td>&quot;17101042543073…</td><td>&quot;BasicChecking&quot;</td><td>&quot;82143594820648…</td><td>&quot;Rejected&quot;</td></tr><tr><td>&quot;56715673773783…</td><td>1.4677e19</td><td>&quot;18385024727712…</td><td>&quot;BasicChecking&quot;</td><td>&quot;15338702086004…</td><td>&quot;Accepted&quot;</td></tr><tr><td>&quot;60162546753240…</td><td>1.6330e19</td><td>&quot;97961411622136…</td><td>&quot;UPlusFinPerson…</td><td>null</td><td>&quot;Rejected&quot;</td></tr><tr><td>&quot;60162546753240…</td><td>8.7675e18</td><td>&quot;15031701167194…</td><td>&quot;BasicChecking&quot;</td><td>&quot;15338702086004…</td><td>&quot;Rejected&quot;</td></tr></tbody></table></div>"
      ],
      "text/plain": [
       "shape: (7, 6)\n",
       "┌────────────────┬─────────────┬────────────────┬────────────────┬────────────────┬────────────────┐\n",
       "│ PREDICTOR_0    ┆ PREDICTOR_1 ┆ PREDICTOR_3    ┆ Context_Name   ┆ IH_Web_Inbound ┆ Decision_Outco │\n",
       "│ ---            ┆ ---         ┆ ---            ┆ ---            ┆ _Accepted_pxLa ┆ me             │\n",
       "│ str            ┆ f64         ┆ str            ┆ str            ┆ stGr…          ┆ ---            │\n",
       "│                ┆             ┆                ┆                ┆ ---            ┆ str            │\n",
       "│                ┆             ┆                ┆                ┆ str            ┆                │\n",
       "╞════════════════╪═════════════╪════════════════╪════════════════╪════════════════╪════════════════╡\n",
       "│ 56715673773783 ┆ 1.2927e19   ┆ 19409979304041 ┆ FirstMortgage3 ┆ 82143594820648 ┆ Rejected       │\n",
       "│ 19791          ┆             ┆ 50162          ┆ 0yr            ┆ 73276          ┆                │\n",
       "│ 12047831192238 ┆ 1.4856e19   ┆ 22347813483447 ┆ FirstMortgage3 ┆ 95923165031171 ┆ Accepted       │\n",
       "│ 715928         ┆             ┆ 85954          ┆ 0yr            ┆ 92383          ┆                │\n",
       "│ 60162546753240 ┆ 5.6458e17   ┆ 33166164906163 ┆ MoneyMarketSav ┆ 82143594820648 ┆ Rejected       │\n",
       "│ 86542          ┆             ┆ 28608          ┆ ingsAccount    ┆ 73276          ┆                │\n",
       "│ 12047831192238 ┆ 4.0723e18   ┆ 17101042543073 ┆ BasicChecking  ┆ 82143594820648 ┆ Rejected       │\n",
       "│ 715928         ┆             ┆ 486615         ┆                ┆ 73276          ┆                │\n",
       "│ 56715673773783 ┆ 1.4677e19   ┆ 18385024727712 ┆ BasicChecking  ┆ 15338702086004 ┆ Accepted       │\n",
       "│ 19791          ┆             ┆ 198303         ┆                ┆ 080329         ┆                │\n",
       "│ 60162546753240 ┆ 1.6330e19   ┆ 97961411622136 ┆ UPlusFinPerson ┆ null           ┆ Rejected       │\n",
       "│ 86542          ┆             ┆ 76572          ┆ al             ┆                ┆                │\n",
       "│ 60162546753240 ┆ 8.7675e18   ┆ 15031701167194 ┆ BasicChecking  ┆ 15338702086004 ┆ Rejected       │\n",
       "│ 86542          ┆             ┆ 159434         ┆                ┆ 080329         ┆                │\n",
       "└────────────────┴─────────────┴────────────────┴────────────────┴────────────────┴────────────────┘"
      ]
     },
     "execution_count": 13,
     "metadata": {},
     "output_type": "execute_result"
    }
   ],
   "source": [
    "pl.read_ipc('output/hds.arrow')"
   ]
  },
  {
   "attachments": {},
   "cell_type": "markdown",
   "metadata": {},
   "source": [
    "## Advanced: Hash fuctions\n",
    "\n",
    "By default, we use [the same hashing algorithm Polars](https://pola-rs.github.io/polars/py-polars/html/reference/expressions/api/polars.Expr.hash.html#polars.Expr.hash) uses: [xxhash](https://github.com/Cyan4973/xxHash), as implemented [here](https://github.com/pola-rs/polars/blob/3f287f370b3c388ed2f3f218b2c096382548136f/polars/polars-core/src/vector_hasher.rs#L266). xxhash is fast to compute, and you can check its performance in collision, dispersion and randomness [here](https://github.com/Cyan4973/xxHash/tree/dev/tests). \n",
    "\n",
    "xxhash accepts four distinct seeds, but by default we set the seeds to `0`. It is possible to set the `seed` argument of the `process()` function to `'random'`, which will set all four seeds to a random integer between `0` and `1000000000`. Alternatively, it is possible to supply the four seeds manually with arguments `seed`, `seed_1`, `seed_2` and `seed_3`. \n",
    "\n",
    "If the xxhash with (random) seed(s) is not deemed sufficiently secure, it is possible to use your own hashing algorithm.\n",
    "\n",
    "Note that since we're now running python code and not native Polars code anymore, this will be _significantly_ slower. Nonetheless, it is possible.\n",
    "\n",
    "Just as an example - this is how one would use sha3_256:"
   ]
  },
  {
   "cell_type": "code",
   "execution_count": 14,
   "metadata": {
    "execution": {
     "iopub.execute_input": "2023-08-08T15:30:30.490451Z",
     "iopub.status.busy": "2023-08-08T15:30:30.490090Z",
     "iopub.status.idle": "2023-08-08T15:30:30.843690Z",
     "shell.execute_reply": "2023-08-08T15:30:30.842960Z"
    }
   },
   "outputs": [
    {
     "ename": "ComputeError",
     "evalue": "AttributeError: 'int' object has no attribute 'encode'",
     "output_type": "error",
     "traceback": [
      "\u001b[0;31m---------------------------------------------------------------------------\u001b[0m",
      "\u001b[0;31mComputeError\u001b[0m                              Traceback (most recent call last)",
      "Cell \u001b[0;32mIn[14], line 3\u001b[0m\n\u001b[1;32m      1\u001b[0m \u001b[38;5;28;01mfrom\u001b[39;00m \u001b[38;5;21;01mhashlib\u001b[39;00m \u001b[38;5;28;01mimport\u001b[39;00m sha3_256\n\u001b[0;32m----> 3\u001b[0m \u001b[43manon\u001b[49m\u001b[38;5;241;43m.\u001b[39;49m\u001b[43mprocess\u001b[49m\u001b[43m(\u001b[49m\u001b[43malgorithm\u001b[49m\u001b[38;5;241;43m=\u001b[39;49m\u001b[38;5;28;43;01mlambda\u001b[39;49;00m\u001b[43m \u001b[49m\u001b[43mx\u001b[49m\u001b[43m:\u001b[49m\u001b[43m \u001b[49m\u001b[43msha3_256\u001b[49m\u001b[43m(\u001b[49m\u001b[43mx\u001b[49m\u001b[38;5;241;43m.\u001b[39;49m\u001b[43mencode\u001b[49m\u001b[43m(\u001b[49m\u001b[43m)\u001b[49m\u001b[43m)\u001b[49m\u001b[38;5;241;43m.\u001b[39;49m\u001b[43mhexdigest\u001b[49m\u001b[43m(\u001b[49m\u001b[43m)\u001b[49m\u001b[43m)\u001b[49m\n",
      "File \u001b[0;32m~/work/pega-datascientist-tools/pega-datascientist-tools/python/docs/source/articles/../../../pdstools/utils/hds_utils.py:516\u001b[0m, in \u001b[0;36mDataAnonymization.process\u001b[0;34m(self, strategy, **kwargs)\u001b[0m\n\u001b[1;32m    514\u001b[0m df \u001b[38;5;241m=\u001b[39m df\u001b[38;5;241m.\u001b[39mselect(\u001b[38;5;28mself\u001b[39m\u001b[38;5;241m.\u001b[39mcolumn_mapping\u001b[38;5;241m.\u001b[39mkeys())\u001b[38;5;241m.\u001b[39mrename(\u001b[38;5;28mself\u001b[39m\u001b[38;5;241m.\u001b[39mcolumn_mapping)\n\u001b[1;32m    515\u001b[0m \u001b[38;5;28;01mif\u001b[39;00m strategy \u001b[38;5;241m==\u001b[39m \u001b[38;5;124m\"\u001b[39m\u001b[38;5;124meager\u001b[39m\u001b[38;5;124m\"\u001b[39m:\n\u001b[0;32m--> 516\u001b[0m     \u001b[38;5;28;01mreturn\u001b[39;00m \u001b[43mdf\u001b[49m\u001b[38;5;241;43m.\u001b[39;49m\u001b[43mcollect\u001b[49m\u001b[43m(\u001b[49m\u001b[43m)\u001b[49m\n\u001b[1;32m    517\u001b[0m \u001b[38;5;28;01mreturn\u001b[39;00m df\n",
      "File \u001b[0;32m/opt/hostedtoolcache/Python/3.11.4/x64/lib/python3.11/site-packages/polars/lazyframe/frame.py:1530\u001b[0m, in \u001b[0;36mLazyFrame.collect\u001b[0;34m(self, type_coercion, predicate_pushdown, projection_pushdown, simplify_expression, no_optimization, slice_pushdown, common_subplan_elimination, streaming)\u001b[0m\n\u001b[1;32m   1519\u001b[0m     common_subplan_elimination \u001b[38;5;241m=\u001b[39m \u001b[38;5;28;01mFalse\u001b[39;00m\n\u001b[1;32m   1521\u001b[0m ldf \u001b[38;5;241m=\u001b[39m \u001b[38;5;28mself\u001b[39m\u001b[38;5;241m.\u001b[39m_ldf\u001b[38;5;241m.\u001b[39moptimization_toggle(\n\u001b[1;32m   1522\u001b[0m     type_coercion,\n\u001b[1;32m   1523\u001b[0m     predicate_pushdown,\n\u001b[0;32m   (...)\u001b[0m\n\u001b[1;32m   1528\u001b[0m     streaming,\n\u001b[1;32m   1529\u001b[0m )\n\u001b[0;32m-> 1530\u001b[0m \u001b[38;5;28;01mreturn\u001b[39;00m wrap_df(ldf\u001b[38;5;241m.\u001b[39mcollect())\n",
      "\u001b[0;31mComputeError\u001b[0m: AttributeError: 'int' object has no attribute 'encode'"
     ]
    }
   ],
   "source": [
    "from hashlib import sha3_256\n",
    "\n",
    "anon.process(algorithm=lambda x: sha3_256(x.encode()).hexdigest())"
   ]
  }
 ],
 "metadata": {
  "kernelspec": {
   "display_name": "Python 3",
   "language": "python",
   "name": "python3"
  },
  "language_info": {
   "codemirror_mode": {
    "name": "ipython",
    "version": 3
   },
   "file_extension": ".py",
   "mimetype": "text/x-python",
   "name": "python",
   "nbconvert_exporter": "python",
   "pygments_lexer": "ipython3",
   "version": "3.11.4"
  },
  "vscode": {
   "interpreter": {
    "hash": "aee8b7b246df8f9039afb4144a1f6fd8d2ca17a180786b69acc140d282b71a49"
   }
  }
 },
 "nbformat": 4,
 "nbformat_minor": 2
}
