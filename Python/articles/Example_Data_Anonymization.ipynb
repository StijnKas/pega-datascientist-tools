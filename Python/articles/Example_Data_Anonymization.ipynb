{
 "cells": [
  {
   "attachments": {},
   "cell_type": "markdown",
   "metadata": {},
   "source": [
    "# Data Anonymization\n",
    "\n",
    "In Pega CDH 8.5 and up, it's now possible to record the historical data as seen by the Adaptive Models. See [this academy challenge](https://academy.pega.com/challenge/exporting-historical-data/v4) for reference. This historical data can be further used to experiment with offline models, but also to fine-tune the OOTB Gradient Boosting model. However, sharing this information with Pega can be sensitive as it contains raw predictor data. \n",
    "\n",
    "To this end, we provide a simple and transparent script to fully anonimize this dataset.\n",
    "\n",
    "The DataAnonymization script is now part of pdstools, and you can import it directly as such."
   ]
  },
  {
   "cell_type": "code",
   "execution_count": 1,
   "metadata": {
    "execution": {
     "iopub.execute_input": "2024-06-24T13:04:29.120562Z",
     "iopub.status.busy": "2024-06-24T13:04:29.120388Z",
     "iopub.status.idle": "2024-06-24T13:04:29.192305Z",
     "shell.execute_reply": "2024-06-24T13:04:29.191712Z"
    },
    "nbsphinx": "hidden"
   },
   "outputs": [],
   "source": [
    "# These lines are only for rendering in the docs, and are hidden through Jupyter tags\n",
    "# Do not run if you're running the notebook seperately\n",
    "\n",
    "import os  \n",
    "import sys\n",
    "import plotly.io as pio\n",
    "pio.renderers.default = \"notebook_connected\"\n",
    "\n",
    "sys.path.append(\"../../../\")\n",
    "sys.path.append('../../python')"
   ]
  },
  {
   "cell_type": "code",
   "execution_count": 2,
   "metadata": {
    "execution": {
     "iopub.execute_input": "2024-06-24T13:04:29.194746Z",
     "iopub.status.busy": "2024-06-24T13:04:29.194324Z",
     "iopub.status.idle": "2024-06-24T13:04:30.299335Z",
     "shell.execute_reply": "2024-06-24T13:04:30.298814Z"
    }
   },
   "outputs": [],
   "source": [
    "from pdstools import ADMDatamart\n",
    "from pdstools import Config, DataAnonymization\n",
    "import polars as pl"
   ]
  },
  {
   "attachments": {},
   "cell_type": "markdown",
   "metadata": {},
   "source": [
    "## Input data\n",
    "\n",
    "To demonstrate this process, we're going to anonymise this toy example dataframe:"
   ]
  },
  {
   "cell_type": "code",
   "execution_count": 3,
   "metadata": {
    "execution": {
     "iopub.execute_input": "2024-06-24T13:04:30.302029Z",
     "iopub.status.busy": "2024-06-24T13:04:30.301457Z",
     "iopub.status.idle": "2024-06-24T13:04:30.309915Z",
     "shell.execute_reply": "2024-06-24T13:04:30.309374Z"
    }
   },
   "outputs": [
    {
     "data": {
      "text/html": [
       "<div><style>\n",
       ".dataframe > thead > tr,\n",
       ".dataframe > tbody > tr {\n",
       "  text-align: right;\n",
       "  white-space: pre-wrap;\n",
       "}\n",
       "</style>\n",
       "<small>shape: (7, 6)</small><table border=\"1\" class=\"dataframe\"><thead><tr><th>Context_Name</th><th>Customer_MaritalStatus</th><th>Customer_CLV</th><th>Customer_City</th><th>IH_Web_Inbound_Accepted_pxLastGroupID</th><th>Decision_Outcome</th></tr><tr><td>str</td><td>str</td><td>i64</td><td>str</td><td>str</td><td>str</td></tr></thead><tbody><tr><td>&quot;FirstMortgage30yr&quot;</td><td>&quot;Married&quot;</td><td>1460</td><td>&quot;Port Raoul&quot;</td><td>&quot;Account&quot;</td><td>&quot;Rejected&quot;</td></tr><tr><td>&quot;FirstMortgage30yr&quot;</td><td>&quot;Unknown&quot;</td><td>669</td><td>&quot;Laurianneshire&quot;</td><td>&quot;AutoLoans&quot;</td><td>&quot;Accepted&quot;</td></tr><tr><td>&quot;MoneyMarketSavingsAccount&quot;</td><td>&quot;No Resp+&quot;</td><td>1174</td><td>&quot;Jacobshaven&quot;</td><td>&quot;Account&quot;</td><td>&quot;Rejected&quot;</td></tr><tr><td>&quot;BasicChecking&quot;</td><td>&quot;Unknown&quot;</td><td>1476</td><td>&quot;Lindton&quot;</td><td>&quot;Account&quot;</td><td>&quot;Rejected&quot;</td></tr><tr><td>&quot;BasicChecking&quot;</td><td>&quot;Married&quot;</td><td>1211</td><td>&quot;South Jimmieshire&quot;</td><td>&quot;DepositAccounts&quot;</td><td>&quot;Accepted&quot;</td></tr><tr><td>&quot;UPlusFinPersonal&quot;</td><td>&quot;No Resp+&quot;</td><td>533</td><td>&quot;Bergeville&quot;</td><td>null</td><td>&quot;Rejected&quot;</td></tr><tr><td>&quot;BasicChecking&quot;</td><td>&quot;No Resp+&quot;</td><td>555</td><td>&quot;Willyville&quot;</td><td>&quot;DepositAccounts&quot;</td><td>&quot;Rejected&quot;</td></tr></tbody></table></div>"
      ],
      "text/plain": [
       "shape: (7, 6)\n",
       "┌────────────────┬────────────────┬──────────────┬────────────────┬────────────────┬───────────────┐\n",
       "│ Context_Name   ┆ Customer_Marit ┆ Customer_CLV ┆ Customer_City  ┆ IH_Web_Inbound ┆ Decision_Outc │\n",
       "│ ---            ┆ alStatus       ┆ ---          ┆ ---            ┆ _Accepted_pxLa ┆ ome           │\n",
       "│ str            ┆ ---            ┆ i64          ┆ str            ┆ st…            ┆ ---           │\n",
       "│                ┆ str            ┆              ┆                ┆ ---            ┆ str           │\n",
       "│                ┆                ┆              ┆                ┆ str            ┆               │\n",
       "╞════════════════╪════════════════╪══════════════╪════════════════╪════════════════╪═══════════════╡\n",
       "│ FirstMortgage3 ┆ Married        ┆ 1460         ┆ Port Raoul     ┆ Account        ┆ Rejected      │\n",
       "│ 0yr            ┆                ┆              ┆                ┆                ┆               │\n",
       "│ FirstMortgage3 ┆ Unknown        ┆ 669          ┆ Laurianneshire ┆ AutoLoans      ┆ Accepted      │\n",
       "│ 0yr            ┆                ┆              ┆                ┆                ┆               │\n",
       "│ MoneyMarketSav ┆ No Resp+       ┆ 1174         ┆ Jacobshaven    ┆ Account        ┆ Rejected      │\n",
       "│ ingsAccount    ┆                ┆              ┆                ┆                ┆               │\n",
       "│ BasicChecking  ┆ Unknown        ┆ 1476         ┆ Lindton        ┆ Account        ┆ Rejected      │\n",
       "│ BasicChecking  ┆ Married        ┆ 1211         ┆ South          ┆ DepositAccount ┆ Accepted      │\n",
       "│                ┆                ┆              ┆ Jimmieshire    ┆ s              ┆               │\n",
       "│ UPlusFinPerson ┆ No Resp+       ┆ 533          ┆ Bergeville     ┆ null           ┆ Rejected      │\n",
       "│ al             ┆                ┆              ┆                ┆                ┆               │\n",
       "│ BasicChecking  ┆ No Resp+       ┆ 555          ┆ Willyville     ┆ DepositAccount ┆ Rejected      │\n",
       "│                ┆                ┆              ┆                ┆ s              ┆               │\n",
       "└────────────────┴────────────────┴──────────────┴────────────────┴────────────────┴───────────────┘"
      ]
     },
     "execution_count": 3,
     "metadata": {},
     "output_type": "execute_result"
    }
   ],
   "source": [
    "pl.read_ndjson('../../../../data/SampleHDS.json')"
   ]
  },
  {
   "attachments": {},
   "cell_type": "markdown",
   "metadata": {},
   "source": [
    "As you can see, this dataset consists of regular predictors, IH predictors, context keys and the outcome column. Additionally, some columns are numeric, others are strings. Let's first initialize the DataAnonymization class."
   ]
  },
  {
   "cell_type": "code",
   "execution_count": 4,
   "metadata": {
    "execution": {
     "iopub.execute_input": "2024-06-24T13:04:30.312273Z",
     "iopub.status.busy": "2024-06-24T13:04:30.311937Z",
     "iopub.status.idle": "2024-06-24T13:04:30.321330Z",
     "shell.execute_reply": "2024-06-24T13:04:30.320884Z"
    }
   },
   "outputs": [],
   "source": [
    "anon = DataAnonymization(hds_folder='../../../../data/')"
   ]
  },
  {
   "attachments": {},
   "cell_type": "markdown",
   "metadata": {},
   "source": [
    "By default, the class applies a set of anonymisation techniques:\n",
    "- Column names are remapped to a non-descriptive name\n",
    "- Categorical values are hashed with a random seed\n",
    "- Numerical values are normalized between 0 and 1\n",
    "- Outcomes are mapped to a binary outcome.\n",
    "\n",
    "To apply these techniques, simply call `.process()`:"
   ]
  },
  {
   "cell_type": "code",
   "execution_count": 5,
   "metadata": {
    "execution": {
     "iopub.execute_input": "2024-06-24T13:04:30.323410Z",
     "iopub.status.busy": "2024-06-24T13:04:30.323076Z",
     "iopub.status.idle": "2024-06-24T13:04:30.328021Z",
     "shell.execute_reply": "2024-06-24T13:04:30.327552Z"
    }
   },
   "outputs": [
    {
     "data": {
      "text/html": [
       "<div><style>\n",
       ".dataframe > thead > tr,\n",
       ".dataframe > tbody > tr {\n",
       "  text-align: right;\n",
       "  white-space: pre-wrap;\n",
       "}\n",
       "</style>\n",
       "<small>shape: (7, 7)</small><table border=\"1\" class=\"dataframe\"><thead><tr><th>PREDICTOR_0</th><th>filename</th><th>PREDICTOR_2</th><th>PREDICTOR_3</th><th>Context_Name</th><th>IH_PREDICTOR_0</th><th>Decision_Outcome</th></tr><tr><td>f64</td><td>str</td><td>str</td><td>str</td><td>str</td><td>str</td><td>bool</td></tr></thead><tbody><tr><td>2.0599e18</td><td>&quot;../../../../data/SampleHDS.jso…</td><td>&quot;4232270645518069064&quot;</td><td>&quot;5792800232930015063&quot;</td><td>&quot;11250248401649898808&quot;</td><td>&quot;17640332042434897908&quot;</td><td>false</td></tr><tr><td>1.6468e19</td><td>&quot;../../../../data/SampleHDS.jso…</td><td>&quot;16272240683797668166&quot;</td><td>&quot;8303227534869089985&quot;</td><td>&quot;11250248401649898808&quot;</td><td>&quot;13366465954096529673&quot;</td><td>true</td></tr><tr><td>1.5511e19</td><td>&quot;../../../../data/SampleHDS.jso…</td><td>&quot;7491389362649755568&quot;</td><td>&quot;6727341034999004767&quot;</td><td>&quot;16499033550806672045&quot;</td><td>&quot;17640332042434897908&quot;</td><td>false</td></tr><tr><td>1.8214e19</td><td>&quot;../../../../data/SampleHDS.jso…</td><td>&quot;4359734919332524166&quot;</td><td>&quot;8303227534869089985&quot;</td><td>&quot;10072823193125574191&quot;</td><td>&quot;17640332042434897908&quot;</td><td>false</td></tr><tr><td>5.6863e18</td><td>&quot;../../../../data/SampleHDS.jso…</td><td>&quot;16083163775507436635&quot;</td><td>&quot;5792800232930015063&quot;</td><td>&quot;10072823193125574191&quot;</td><td>&quot;9847606853545284503&quot;</td><td>true</td></tr><tr><td>1.6962e18</td><td>&quot;../../../../data/SampleHDS.jso…</td><td>&quot;15086565506382833972&quot;</td><td>&quot;6727341034999004767&quot;</td><td>&quot;7301344339681258079&quot;</td><td>null</td><td>false</td></tr><tr><td>1.0871e18</td><td>&quot;../../../../data/SampleHDS.jso…</td><td>&quot;12707964563275078413&quot;</td><td>&quot;6727341034999004767&quot;</td><td>&quot;10072823193125574191&quot;</td><td>&quot;9847606853545284503&quot;</td><td>false</td></tr></tbody></table></div>"
      ],
      "text/plain": [
       "shape: (7, 7)\n",
       "┌─────────────┬──────────────┬─────────────┬─────────────┬─────────────┬─────────────┬─────────────┐\n",
       "│ PREDICTOR_0 ┆ filename     ┆ PREDICTOR_2 ┆ PREDICTOR_3 ┆ Context_Nam ┆ IH_PREDICTO ┆ Decision_Ou │\n",
       "│ ---         ┆ ---          ┆ ---         ┆ ---         ┆ e           ┆ R_0         ┆ tcome       │\n",
       "│ f64         ┆ str          ┆ str         ┆ str         ┆ ---         ┆ ---         ┆ ---         │\n",
       "│             ┆              ┆             ┆             ┆ str         ┆ str         ┆ bool        │\n",
       "╞═════════════╪══════════════╪═════════════╪═════════════╪═════════════╪═════════════╪═════════════╡\n",
       "│ 2.0599e18   ┆ ../../../../ ┆ 42322706455 ┆ 57928002329 ┆ 11250248401 ┆ 17640332042 ┆ false       │\n",
       "│             ┆ data/SampleH ┆ 18069064    ┆ 30015063    ┆ 649898808   ┆ 434897908   ┆             │\n",
       "│             ┆ DS.jso…      ┆             ┆             ┆             ┆             ┆             │\n",
       "│ 1.6468e19   ┆ ../../../../ ┆ 16272240683 ┆ 83032275348 ┆ 11250248401 ┆ 13366465954 ┆ true        │\n",
       "│             ┆ data/SampleH ┆ 797668166   ┆ 69089985    ┆ 649898808   ┆ 096529673   ┆             │\n",
       "│             ┆ DS.jso…      ┆             ┆             ┆             ┆             ┆             │\n",
       "│ 1.5511e19   ┆ ../../../../ ┆ 74913893626 ┆ 67273410349 ┆ 16499033550 ┆ 17640332042 ┆ false       │\n",
       "│             ┆ data/SampleH ┆ 49755568    ┆ 99004767    ┆ 806672045   ┆ 434897908   ┆             │\n",
       "│             ┆ DS.jso…      ┆             ┆             ┆             ┆             ┆             │\n",
       "│ 1.8214e19   ┆ ../../../../ ┆ 43597349193 ┆ 83032275348 ┆ 10072823193 ┆ 17640332042 ┆ false       │\n",
       "│             ┆ data/SampleH ┆ 32524166    ┆ 69089985    ┆ 125574191   ┆ 434897908   ┆             │\n",
       "│             ┆ DS.jso…      ┆             ┆             ┆             ┆             ┆             │\n",
       "│ 5.6863e18   ┆ ../../../../ ┆ 16083163775 ┆ 57928002329 ┆ 10072823193 ┆ 98476068535 ┆ true        │\n",
       "│             ┆ data/SampleH ┆ 507436635   ┆ 30015063    ┆ 125574191   ┆ 45284503    ┆             │\n",
       "│             ┆ DS.jso…      ┆             ┆             ┆             ┆             ┆             │\n",
       "│ 1.6962e18   ┆ ../../../../ ┆ 15086565506 ┆ 67273410349 ┆ 73013443396 ┆ null        ┆ false       │\n",
       "│             ┆ data/SampleH ┆ 382833972   ┆ 99004767    ┆ 81258079    ┆             ┆             │\n",
       "│             ┆ DS.jso…      ┆             ┆             ┆             ┆             ┆             │\n",
       "│ 1.0871e18   ┆ ../../../../ ┆ 12707964563 ┆ 67273410349 ┆ 10072823193 ┆ 98476068535 ┆ false       │\n",
       "│             ┆ data/SampleH ┆ 275078413   ┆ 99004767    ┆ 125574191   ┆ 45284503    ┆             │\n",
       "│             ┆ DS.jso…      ┆             ┆             ┆             ┆             ┆             │\n",
       "└─────────────┴──────────────┴─────────────┴─────────────┴─────────────┴─────────────┴─────────────┘"
      ]
     },
     "execution_count": 5,
     "metadata": {},
     "output_type": "execute_result"
    }
   ],
   "source": [
    "anon.process()"
   ]
  },
  {
   "attachments": {},
   "cell_type": "markdown",
   "metadata": {},
   "source": [
    "To trace back the columns to their original names, the class also contains a mapping, which does not have to be provided."
   ]
  },
  {
   "cell_type": "code",
   "execution_count": 6,
   "metadata": {
    "execution": {
     "iopub.execute_input": "2024-06-24T13:04:30.330128Z",
     "iopub.status.busy": "2024-06-24T13:04:30.329804Z",
     "iopub.status.idle": "2024-06-24T13:04:30.333447Z",
     "shell.execute_reply": "2024-06-24T13:04:30.332902Z"
    }
   },
   "outputs": [
    {
     "data": {
      "text/plain": [
       "{'Customer_CLV': 'PREDICTOR_0',\n",
       " 'filename': 'filename',\n",
       " 'Customer_City': 'PREDICTOR_2',\n",
       " 'Customer_MaritalStatus': 'PREDICTOR_3',\n",
       " 'Context_Name': 'Context_Name',\n",
       " 'IH_Web_Inbound_Accepted_pxLastGroupID': 'IH_PREDICTOR_0',\n",
       " 'Decision_Outcome': 'Decision_Outcome'}"
      ]
     },
     "execution_count": 6,
     "metadata": {},
     "output_type": "execute_result"
    }
   ],
   "source": [
    "anon.column_mapping"
   ]
  },
  {
   "attachments": {},
   "cell_type": "markdown",
   "metadata": {},
   "source": [
    "## Configs\n",
    "\n",
    "Each capability can optionally be turned off - see below for the full list of config options, and refer to the API reference for the full description."
   ]
  },
  {
   "cell_type": "code",
   "execution_count": 7,
   "metadata": {
    "execution": {
     "iopub.execute_input": "2024-06-24T13:04:30.335645Z",
     "iopub.status.busy": "2024-06-24T13:04:30.335248Z",
     "iopub.status.idle": "2024-06-24T13:04:30.339389Z",
     "shell.execute_reply": "2024-06-24T13:04:30.338850Z"
    }
   },
   "outputs": [
    {
     "data": {
      "text/plain": [
       "{'config_file': None,\n",
       " 'hds_folder': '.',\n",
       " 'use_datamart': False,\n",
       " 'datamart_folder': 'datamart',\n",
       " 'output_format': 'ndjson',\n",
       " 'output_folder': 'output',\n",
       " 'mapping_file': 'mapping.map',\n",
       " 'mask_predictor_names': True,\n",
       " 'mask_context_key_names': False,\n",
       " 'mask_ih_names': True,\n",
       " 'mask_outcome_name': False,\n",
       " 'mask_predictor_values': True,\n",
       " 'mask_context_key_values': True,\n",
       " 'mask_ih_values': True,\n",
       " 'mask_outcome_values': True,\n",
       " 'context_key_label': 'Context_*',\n",
       " 'ih_label': 'IH_*',\n",
       " 'outcome_column': 'Decision_Outcome',\n",
       " 'positive_outcomes': ['Accepted', 'Clicked'],\n",
       " 'negative_outcomes': ['Rejected', 'Impression'],\n",
       " 'special_predictors': ['Decision_DecisionTime',\n",
       "  'Decision_OutcomeTime',\n",
       "  'Decision_Rank'],\n",
       " 'sample_percentage_schema_inferencing': 0.01}"
      ]
     },
     "execution_count": 7,
     "metadata": {},
     "output_type": "execute_result"
    }
   ],
   "source": [
    "dict(zip(Config.__init__.__code__.co_varnames[1:], Config.__init__.__defaults__))"
   ]
  },
  {
   "attachments": {},
   "cell_type": "markdown",
   "metadata": {},
   "source": [
    "It's easy to change these parameters by just passing the keyword arguments. In the following example, we\n",
    "- Keep the IH predictor names\n",
    "- Keep the outcome values\n",
    "- Keep the context key values\n",
    "- Keep the context key predictor names"
   ]
  },
  {
   "cell_type": "code",
   "execution_count": 8,
   "metadata": {
    "execution": {
     "iopub.execute_input": "2024-06-24T13:04:30.341358Z",
     "iopub.status.busy": "2024-06-24T13:04:30.341038Z",
     "iopub.status.idle": "2024-06-24T13:04:30.348640Z",
     "shell.execute_reply": "2024-06-24T13:04:30.348215Z"
    }
   },
   "outputs": [
    {
     "data": {
      "text/html": [
       "<div><style>\n",
       ".dataframe > thead > tr,\n",
       ".dataframe > tbody > tr {\n",
       "  text-align: right;\n",
       "  white-space: pre-wrap;\n",
       "}\n",
       "</style>\n",
       "<small>shape: (7, 7)</small><table border=\"1\" class=\"dataframe\"><thead><tr><th>PREDICTOR_0</th><th>filename</th><th>PREDICTOR_2</th><th>PREDICTOR_3</th><th>Context_Name</th><th>IH_Web_Inbound_Accepted_pxLastGroupID</th><th>Decision_Outcome</th></tr><tr><td>f64</td><td>str</td><td>str</td><td>str</td><td>str</td><td>str</td><td>str</td></tr></thead><tbody><tr><td>3.4033e18</td><td>&quot;../../../../data/SampleHDS.jso…</td><td>&quot;5845108970321347611&quot;</td><td>&quot;10798446440720164988&quot;</td><td>&quot;FirstMortgage30yr&quot;</td><td>&quot;13585951024685689590&quot;</td><td>&quot;Rejected&quot;</td></tr><tr><td>1.7200e19</td><td>&quot;../../../../data/SampleHDS.jso…</td><td>&quot;2709010866277634428&quot;</td><td>&quot;16216396857943917597&quot;</td><td>&quot;FirstMortgage30yr&quot;</td><td>&quot;15773703285617732768&quot;</td><td>&quot;Accepted&quot;</td></tr><tr><td>2.3021e18</td><td>&quot;../../../../data/SampleHDS.jso…</td><td>&quot;10097983815012181897&quot;</td><td>&quot;7447356215068475208&quot;</td><td>&quot;MoneyMarketSavingsAccount&quot;</td><td>&quot;13585951024685689590&quot;</td><td>&quot;Rejected&quot;</td></tr><tr><td>1.5218e19</td><td>&quot;../../../../data/SampleHDS.jso…</td><td>&quot;9230082704161148163&quot;</td><td>&quot;16216396857943917597&quot;</td><td>&quot;BasicChecking&quot;</td><td>&quot;13585951024685689590&quot;</td><td>&quot;Rejected&quot;</td></tr><tr><td>6.2940e18</td><td>&quot;../../../../data/SampleHDS.jso…</td><td>&quot;17520946990800869490&quot;</td><td>&quot;10798446440720164988&quot;</td><td>&quot;BasicChecking&quot;</td><td>&quot;2150278571940768666&quot;</td><td>&quot;Accepted&quot;</td></tr><tr><td>1.1980e19</td><td>&quot;../../../../data/SampleHDS.jso…</td><td>&quot;17848082742653078957&quot;</td><td>&quot;7447356215068475208&quot;</td><td>&quot;UPlusFinPersonal&quot;</td><td>null</td><td>&quot;Rejected&quot;</td></tr><tr><td>1.0936e19</td><td>&quot;../../../../data/SampleHDS.jso…</td><td>&quot;1546748631741340933&quot;</td><td>&quot;7447356215068475208&quot;</td><td>&quot;BasicChecking&quot;</td><td>&quot;2150278571940768666&quot;</td><td>&quot;Rejected&quot;</td></tr></tbody></table></div>"
      ],
      "text/plain": [
       "shape: (7, 7)\n",
       "┌─────────────┬──────────────┬─────────────┬─────────────┬─────────────┬─────────────┬─────────────┐\n",
       "│ PREDICTOR_0 ┆ filename     ┆ PREDICTOR_2 ┆ PREDICTOR_3 ┆ Context_Nam ┆ IH_Web_Inbo ┆ Decision_Ou │\n",
       "│ ---         ┆ ---          ┆ ---         ┆ ---         ┆ e           ┆ und_Accepte ┆ tcome       │\n",
       "│ f64         ┆ str          ┆ str         ┆ str         ┆ ---         ┆ d_pxLast…   ┆ ---         │\n",
       "│             ┆              ┆             ┆             ┆ str         ┆ ---         ┆ str         │\n",
       "│             ┆              ┆             ┆             ┆             ┆ str         ┆             │\n",
       "╞═════════════╪══════════════╪═════════════╪═════════════╪═════════════╪═════════════╪═════════════╡\n",
       "│ 3.4033e18   ┆ ../../../../ ┆ 58451089703 ┆ 10798446440 ┆ FirstMortga ┆ 13585951024 ┆ Rejected    │\n",
       "│             ┆ data/SampleH ┆ 21347611    ┆ 720164988   ┆ ge30yr      ┆ 685689590   ┆             │\n",
       "│             ┆ DS.jso…      ┆             ┆             ┆             ┆             ┆             │\n",
       "│ 1.7200e19   ┆ ../../../../ ┆ 27090108662 ┆ 16216396857 ┆ FirstMortga ┆ 15773703285 ┆ Accepted    │\n",
       "│             ┆ data/SampleH ┆ 77634428    ┆ 943917597   ┆ ge30yr      ┆ 617732768   ┆             │\n",
       "│             ┆ DS.jso…      ┆             ┆             ┆             ┆             ┆             │\n",
       "│ 2.3021e18   ┆ ../../../../ ┆ 10097983815 ┆ 74473562150 ┆ MoneyMarket ┆ 13585951024 ┆ Rejected    │\n",
       "│             ┆ data/SampleH ┆ 012181897   ┆ 68475208    ┆ SavingsAcco ┆ 685689590   ┆             │\n",
       "│             ┆ DS.jso…      ┆             ┆             ┆ unt         ┆             ┆             │\n",
       "│ 1.5218e19   ┆ ../../../../ ┆ 92300827041 ┆ 16216396857 ┆ BasicChecki ┆ 13585951024 ┆ Rejected    │\n",
       "│             ┆ data/SampleH ┆ 61148163    ┆ 943917597   ┆ ng          ┆ 685689590   ┆             │\n",
       "│             ┆ DS.jso…      ┆             ┆             ┆             ┆             ┆             │\n",
       "│ 6.2940e18   ┆ ../../../../ ┆ 17520946990 ┆ 10798446440 ┆ BasicChecki ┆ 21502785719 ┆ Accepted    │\n",
       "│             ┆ data/SampleH ┆ 800869490   ┆ 720164988   ┆ ng          ┆ 40768666    ┆             │\n",
       "│             ┆ DS.jso…      ┆             ┆             ┆             ┆             ┆             │\n",
       "│ 1.1980e19   ┆ ../../../../ ┆ 17848082742 ┆ 74473562150 ┆ UPlusFinPer ┆ null        ┆ Rejected    │\n",
       "│             ┆ data/SampleH ┆ 653078957   ┆ 68475208    ┆ sonal       ┆             ┆             │\n",
       "│             ┆ DS.jso…      ┆             ┆             ┆             ┆             ┆             │\n",
       "│ 1.0936e19   ┆ ../../../../ ┆ 15467486317 ┆ 74473562150 ┆ BasicChecki ┆ 21502785719 ┆ Rejected    │\n",
       "│             ┆ data/SampleH ┆ 41340933    ┆ 68475208    ┆ ng          ┆ 40768666    ┆             │\n",
       "│             ┆ DS.jso…      ┆             ┆             ┆             ┆             ┆             │\n",
       "└─────────────┴──────────────┴─────────────┴─────────────┴─────────────┴─────────────┴─────────────┘"
      ]
     },
     "execution_count": 8,
     "metadata": {},
     "output_type": "execute_result"
    }
   ],
   "source": [
    "anon = DataAnonymization(\n",
    "    hds_folder=\"../../../../data/\",\n",
    "    mask_ih_names=False,\n",
    "    mask_outcome_values=False,\n",
    "    mask_context_key_values=False,\n",
    "    mask_context_key_names=False,\n",
    ")\n",
    "anon.process()\n"
   ]
  },
  {
   "attachments": {},
   "cell_type": "markdown",
   "metadata": {},
   "source": [
    "The configs can also be written and read as such:"
   ]
  },
  {
   "cell_type": "code",
   "execution_count": 9,
   "metadata": {
    "execution": {
     "iopub.execute_input": "2024-06-24T13:04:30.350637Z",
     "iopub.status.busy": "2024-06-24T13:04:30.350296Z",
     "iopub.status.idle": "2024-06-24T13:04:30.353204Z",
     "shell.execute_reply": "2024-06-24T13:04:30.352761Z"
    }
   },
   "outputs": [],
   "source": [
    "anon.config.save_to_config_file('config.json')"
   ]
  },
  {
   "cell_type": "code",
   "execution_count": 10,
   "metadata": {
    "execution": {
     "iopub.execute_input": "2024-06-24T13:04:30.355021Z",
     "iopub.status.busy": "2024-06-24T13:04:30.354859Z",
     "iopub.status.idle": "2024-06-24T13:04:30.362007Z",
     "shell.execute_reply": "2024-06-24T13:04:30.361572Z"
    }
   },
   "outputs": [
    {
     "data": {
      "text/html": [
       "<div><style>\n",
       ".dataframe > thead > tr,\n",
       ".dataframe > tbody > tr {\n",
       "  text-align: right;\n",
       "  white-space: pre-wrap;\n",
       "}\n",
       "</style>\n",
       "<small>shape: (7, 7)</small><table border=\"1\" class=\"dataframe\"><thead><tr><th>PREDICTOR_0</th><th>filename</th><th>PREDICTOR_2</th><th>PREDICTOR_3</th><th>Context_Name</th><th>IH_Web_Inbound_Accepted_pxLastGroupID</th><th>Decision_Outcome</th></tr><tr><td>f64</td><td>str</td><td>str</td><td>str</td><td>str</td><td>str</td><td>str</td></tr></thead><tbody><tr><td>5.7984e18</td><td>&quot;../../../../data/SampleHDS.jso…</td><td>&quot;13392123857515235014&quot;</td><td>&quot;15393642800912003828&quot;</td><td>&quot;FirstMortgage30yr&quot;</td><td>&quot;1830583726692876641&quot;</td><td>&quot;Rejected&quot;</td></tr><tr><td>6.0741e18</td><td>&quot;../../../../data/SampleHDS.jso…</td><td>&quot;15608327712508599960&quot;</td><td>&quot;16572800884823360290&quot;</td><td>&quot;FirstMortgage30yr&quot;</td><td>&quot;11132467384543536292&quot;</td><td>&quot;Accepted&quot;</td></tr><tr><td>5.3186e18</td><td>&quot;../../../../data/SampleHDS.jso…</td><td>&quot;2383345567591282693&quot;</td><td>&quot;13816584892836179087&quot;</td><td>&quot;MoneyMarketSavingsAccount&quot;</td><td>&quot;1830583726692876641&quot;</td><td>&quot;Rejected&quot;</td></tr><tr><td>2.5285e16</td><td>&quot;../../../../data/SampleHDS.jso…</td><td>&quot;15738639893113182490&quot;</td><td>&quot;16572800884823360290&quot;</td><td>&quot;BasicChecking&quot;</td><td>&quot;1830583726692876641&quot;</td><td>&quot;Rejected&quot;</td></tr><tr><td>1.6077e18</td><td>&quot;../../../../data/SampleHDS.jso…</td><td>&quot;12043268774758722510&quot;</td><td>&quot;15393642800912003828&quot;</td><td>&quot;BasicChecking&quot;</td><td>&quot;7367811498457351710&quot;</td><td>&quot;Accepted&quot;</td></tr><tr><td>3.7945e18</td><td>&quot;../../../../data/SampleHDS.jso…</td><td>&quot;9495488715921065247&quot;</td><td>&quot;13816584892836179087&quot;</td><td>&quot;UPlusFinPersonal&quot;</td><td>null</td><td>&quot;Rejected&quot;</td></tr><tr><td>3.1620e18</td><td>&quot;../../../../data/SampleHDS.jso…</td><td>&quot;17853550980102570179&quot;</td><td>&quot;13816584892836179087&quot;</td><td>&quot;BasicChecking&quot;</td><td>&quot;7367811498457351710&quot;</td><td>&quot;Rejected&quot;</td></tr></tbody></table></div>"
      ],
      "text/plain": [
       "shape: (7, 7)\n",
       "┌─────────────┬──────────────┬─────────────┬─────────────┬─────────────┬─────────────┬─────────────┐\n",
       "│ PREDICTOR_0 ┆ filename     ┆ PREDICTOR_2 ┆ PREDICTOR_3 ┆ Context_Nam ┆ IH_Web_Inbo ┆ Decision_Ou │\n",
       "│ ---         ┆ ---          ┆ ---         ┆ ---         ┆ e           ┆ und_Accepte ┆ tcome       │\n",
       "│ f64         ┆ str          ┆ str         ┆ str         ┆ ---         ┆ d_pxLast…   ┆ ---         │\n",
       "│             ┆              ┆             ┆             ┆ str         ┆ ---         ┆ str         │\n",
       "│             ┆              ┆             ┆             ┆             ┆ str         ┆             │\n",
       "╞═════════════╪══════════════╪═════════════╪═════════════╪═════════════╪═════════════╪═════════════╡\n",
       "│ 5.7984e18   ┆ ../../../../ ┆ 13392123857 ┆ 15393642800 ┆ FirstMortga ┆ 18305837266 ┆ Rejected    │\n",
       "│             ┆ data/SampleH ┆ 515235014   ┆ 912003828   ┆ ge30yr      ┆ 92876641    ┆             │\n",
       "│             ┆ DS.jso…      ┆             ┆             ┆             ┆             ┆             │\n",
       "│ 6.0741e18   ┆ ../../../../ ┆ 15608327712 ┆ 16572800884 ┆ FirstMortga ┆ 11132467384 ┆ Accepted    │\n",
       "│             ┆ data/SampleH ┆ 508599960   ┆ 823360290   ┆ ge30yr      ┆ 543536292   ┆             │\n",
       "│             ┆ DS.jso…      ┆             ┆             ┆             ┆             ┆             │\n",
       "│ 5.3186e18   ┆ ../../../../ ┆ 23833455675 ┆ 13816584892 ┆ MoneyMarket ┆ 18305837266 ┆ Rejected    │\n",
       "│             ┆ data/SampleH ┆ 91282693    ┆ 836179087   ┆ SavingsAcco ┆ 92876641    ┆             │\n",
       "│             ┆ DS.jso…      ┆             ┆             ┆ unt         ┆             ┆             │\n",
       "│ 2.5285e16   ┆ ../../../../ ┆ 15738639893 ┆ 16572800884 ┆ BasicChecki ┆ 18305837266 ┆ Rejected    │\n",
       "│             ┆ data/SampleH ┆ 113182490   ┆ 823360290   ┆ ng          ┆ 92876641    ┆             │\n",
       "│             ┆ DS.jso…      ┆             ┆             ┆             ┆             ┆             │\n",
       "│ 1.6077e18   ┆ ../../../../ ┆ 12043268774 ┆ 15393642800 ┆ BasicChecki ┆ 73678114984 ┆ Accepted    │\n",
       "│             ┆ data/SampleH ┆ 758722510   ┆ 912003828   ┆ ng          ┆ 57351710    ┆             │\n",
       "│             ┆ DS.jso…      ┆             ┆             ┆             ┆             ┆             │\n",
       "│ 3.7945e18   ┆ ../../../../ ┆ 94954887159 ┆ 13816584892 ┆ UPlusFinPer ┆ null        ┆ Rejected    │\n",
       "│             ┆ data/SampleH ┆ 21065247    ┆ 836179087   ┆ sonal       ┆             ┆             │\n",
       "│             ┆ DS.jso…      ┆             ┆             ┆             ┆             ┆             │\n",
       "│ 3.1620e18   ┆ ../../../../ ┆ 17853550980 ┆ 13816584892 ┆ BasicChecki ┆ 73678114984 ┆ Rejected    │\n",
       "│             ┆ data/SampleH ┆ 102570179   ┆ 836179087   ┆ ng          ┆ 57351710    ┆             │\n",
       "│             ┆ DS.jso…      ┆             ┆             ┆             ┆             ┆             │\n",
       "└─────────────┴──────────────┴─────────────┴─────────────┴─────────────┴─────────────┴─────────────┘"
      ]
     },
     "execution_count": 10,
     "metadata": {},
     "output_type": "execute_result"
    }
   ],
   "source": [
    "anon = DataAnonymization(config=Config(config_file='config.json'))\n",
    "anon.process()"
   ]
  },
  {
   "attachments": {},
   "cell_type": "markdown",
   "metadata": {},
   "source": [
    "## Exporting\n",
    "Two functions export:\n",
    "- `create_mapping_file()` writes the mapping file of the predictor names\n",
    "- `write_to_output()` writes the processed dataframe to disk\n",
    "\n",
    "Write to output accepts the following extensions: `[\"ndjson\", \"parquet\", \"arrow\", \"csv\"]`"
   ]
  },
  {
   "cell_type": "code",
   "execution_count": 11,
   "metadata": {
    "execution": {
     "iopub.execute_input": "2024-06-24T13:04:30.364047Z",
     "iopub.status.busy": "2024-06-24T13:04:30.363724Z",
     "iopub.status.idle": "2024-06-24T13:04:30.367046Z",
     "shell.execute_reply": "2024-06-24T13:04:30.366492Z"
    }
   },
   "outputs": [
    {
     "name": "stdout",
     "output_type": "stream",
     "text": [
      "Customer_CLV=PREDICTOR_0\n",
      "filename=filename\n",
      "Customer_City=PREDICTOR_2\n",
      "Customer_MaritalStatus=PREDICTOR_3\n",
      "Context_Name=Context_Name\n",
      "IH_Web_Inbound_Accepted_pxLastGroupID=IH_Web_Inbound_Accepted_pxLastGroupID\n",
      "Decision_Outcome=Decision_Outcome\n",
      "\n"
     ]
    }
   ],
   "source": [
    "anon.create_mapping_file()\n",
    "with open('mapping.map') as f:\n",
    "    print(f.read())"
   ]
  },
  {
   "cell_type": "code",
   "execution_count": 12,
   "metadata": {
    "execution": {
     "iopub.execute_input": "2024-06-24T13:04:30.369119Z",
     "iopub.status.busy": "2024-06-24T13:04:30.368795Z",
     "iopub.status.idle": "2024-06-24T13:04:30.372117Z",
     "shell.execute_reply": "2024-06-24T13:04:30.371666Z"
    }
   },
   "outputs": [],
   "source": [
    "anon.write_to_output(ext='arrow')"
   ]
  },
  {
   "cell_type": "code",
   "execution_count": 13,
   "metadata": {
    "execution": {
     "iopub.execute_input": "2024-06-24T13:04:30.374059Z",
     "iopub.status.busy": "2024-06-24T13:04:30.373737Z",
     "iopub.status.idle": "2024-06-24T13:04:30.378135Z",
     "shell.execute_reply": "2024-06-24T13:04:30.377697Z"
    }
   },
   "outputs": [
    {
     "data": {
      "text/html": [
       "<div><style>\n",
       ".dataframe > thead > tr,\n",
       ".dataframe > tbody > tr {\n",
       "  text-align: right;\n",
       "  white-space: pre-wrap;\n",
       "}\n",
       "</style>\n",
       "<small>shape: (7, 6)</small><table border=\"1\" class=\"dataframe\"><thead><tr><th>PREDICTOR_0</th><th>PREDICTOR_2</th><th>PREDICTOR_3</th><th>Context_Name</th><th>IH_Web_Inbound_Accepted_pxLastGroupID</th><th>Decision_Outcome</th></tr><tr><td>f64</td><td>str</td><td>str</td><td>str</td><td>str</td><td>str</td></tr></thead><tbody><tr><td>9.8923e17</td><td>&quot;13702962371859555839&quot;</td><td>&quot;1979182253945390956&quot;</td><td>&quot;FirstMortgage30yr&quot;</td><td>&quot;12730983689357642336&quot;</td><td>&quot;Rejected&quot;</td></tr><tr><td>1.6179e18</td><td>&quot;8244837160827280908&quot;</td><td>&quot;9248074964152398957&quot;</td><td>&quot;FirstMortgage30yr&quot;</td><td>&quot;14907088036893333400&quot;</td><td>&quot;Accepted&quot;</td></tr><tr><td>7.3208e18</td><td>&quot;3612600793231765987&quot;</td><td>&quot;12884147541595207584&quot;</td><td>&quot;MoneyMarketSavingsAccount&quot;</td><td>&quot;12730983689357642336&quot;</td><td>&quot;Rejected&quot;</td></tr><tr><td>8.5442e17</td><td>&quot;5916219640005453391&quot;</td><td>&quot;9248074964152398957&quot;</td><td>&quot;BasicChecking&quot;</td><td>&quot;12730983689357642336&quot;</td><td>&quot;Rejected&quot;</td></tr><tr><td>1.0502e19</td><td>&quot;1224586219249808238&quot;</td><td>&quot;1979182253945390956&quot;</td><td>&quot;BasicChecking&quot;</td><td>&quot;10763309919626310878&quot;</td><td>&quot;Accepted&quot;</td></tr><tr><td>5.6877e18</td><td>&quot;16177322817218658305&quot;</td><td>&quot;12884147541595207584&quot;</td><td>&quot;UPlusFinPersonal&quot;</td><td>null</td><td>&quot;Rejected&quot;</td></tr><tr><td>1.1564e19</td><td>&quot;1748094777817679968&quot;</td><td>&quot;12884147541595207584&quot;</td><td>&quot;BasicChecking&quot;</td><td>&quot;10763309919626310878&quot;</td><td>&quot;Rejected&quot;</td></tr></tbody></table></div>"
      ],
      "text/plain": [
       "shape: (7, 6)\n",
       "┌─────────────┬────────────────┬────────────────┬────────────────┬────────────────┬────────────────┐\n",
       "│ PREDICTOR_0 ┆ PREDICTOR_2    ┆ PREDICTOR_3    ┆ Context_Name   ┆ IH_Web_Inbound ┆ Decision_Outco │\n",
       "│ ---         ┆ ---            ┆ ---            ┆ ---            ┆ _Accepted_pxLa ┆ me             │\n",
       "│ f64         ┆ str            ┆ str            ┆ str            ┆ st…            ┆ ---            │\n",
       "│             ┆                ┆                ┆                ┆ ---            ┆ str            │\n",
       "│             ┆                ┆                ┆                ┆ str            ┆                │\n",
       "╞═════════════╪════════════════╪════════════════╪════════════════╪════════════════╪════════════════╡\n",
       "│ 9.8923e17   ┆ 13702962371859 ┆ 19791822539453 ┆ FirstMortgage3 ┆ 12730983689357 ┆ Rejected       │\n",
       "│             ┆ 555839         ┆ 90956          ┆ 0yr            ┆ 642336         ┆                │\n",
       "│ 1.6179e18   ┆ 82448371608272 ┆ 92480749641523 ┆ FirstMortgage3 ┆ 14907088036893 ┆ Accepted       │\n",
       "│             ┆ 80908          ┆ 98957          ┆ 0yr            ┆ 333400         ┆                │\n",
       "│ 7.3208e18   ┆ 36126007932317 ┆ 12884147541595 ┆ MoneyMarketSav ┆ 12730983689357 ┆ Rejected       │\n",
       "│             ┆ 65987          ┆ 207584         ┆ ingsAccount    ┆ 642336         ┆                │\n",
       "│ 8.5442e17   ┆ 59162196400054 ┆ 92480749641523 ┆ BasicChecking  ┆ 12730983689357 ┆ Rejected       │\n",
       "│             ┆ 53391          ┆ 98957          ┆                ┆ 642336         ┆                │\n",
       "│ 1.0502e19   ┆ 12245862192498 ┆ 19791822539453 ┆ BasicChecking  ┆ 10763309919626 ┆ Accepted       │\n",
       "│             ┆ 08238          ┆ 90956          ┆                ┆ 310878         ┆                │\n",
       "│ 5.6877e18   ┆ 16177322817218 ┆ 12884147541595 ┆ UPlusFinPerson ┆ null           ┆ Rejected       │\n",
       "│             ┆ 658305         ┆ 207584         ┆ al             ┆                ┆                │\n",
       "│ 1.1564e19   ┆ 17480947778176 ┆ 12884147541595 ┆ BasicChecking  ┆ 10763309919626 ┆ Rejected       │\n",
       "│             ┆ 79968          ┆ 207584         ┆                ┆ 310878         ┆                │\n",
       "└─────────────┴────────────────┴────────────────┴────────────────┴────────────────┴────────────────┘"
      ]
     },
     "execution_count": 13,
     "metadata": {},
     "output_type": "execute_result"
    }
   ],
   "source": [
    "pl.read_ipc('output/hds.arrow')"
   ]
  },
  {
   "attachments": {},
   "cell_type": "markdown",
   "metadata": {
    "nbsphinx": "hidden"
   },
   "source": [
    "## Advanced: Hash fuctions\n",
    "\n",
    "By default, we use [the same hashing algorithm Polars](https://pola-rs.github.io/polars/py-polars/html/reference/expressions/api/polars.Expr.hash.html#polars.Expr.hash) uses: [xxhash](https://github.com/Cyan4973/xxHash), as implemented [here](https://github.com/pola-rs/polars/blob/3f287f370b3c388ed2f3f218b2c096382548136f/polars/polars-core/src/vector_hasher.rs#L266). xxhash is fast to compute, and you can check its performance in collision, dispersion and randomness [here](https://github.com/Cyan4973/xxHash/tree/dev/tests). \n",
    "\n",
    "xxhash accepts four distinct seeds, but by default we set the seeds to `0`. It is possible to set the `seed` argument of the `process()` function to `'random'`, which will set all four seeds to a random integer between `0` and `1000000000`. Alternatively, it is possible to supply the four seeds manually with arguments `seed`, `seed_1`, `seed_2` and `seed_3`. \n",
    "\n",
    "If the xxhash with (random) seed(s) is not deemed sufficiently secure, it is possible to use your own hashing algorithm.\n",
    "\n",
    "Note that since we're now running python code and not native Polars code anymore, this will be _significantly_ slower. Nonetheless, it is possible.\n",
    "\n",
    "Just as an example - this is how one would use sha3_256:"
   ]
  },
  {
   "cell_type": "code",
   "execution_count": 14,
   "metadata": {
    "execution": {
     "iopub.execute_input": "2024-06-24T13:04:30.380215Z",
     "iopub.status.busy": "2024-06-24T13:04:30.379891Z",
     "iopub.status.idle": "2024-06-24T13:04:30.701147Z",
     "shell.execute_reply": "2024-06-24T13:04:30.700622Z"
    },
    "nbsphinx": "hidden"
   },
   "outputs": [
    {
     "name": "stderr",
     "output_type": "stream",
     "text": [
      "sys:1: MapWithoutReturnDtypeWarning:\n",
      "\n",
      "Calling `map_elements` without specifying `return_dtype` can lead to unpredictable results. Specify `return_dtype` to silence this warning.\n",
      "\n",
      "sys:1: MapWithoutReturnDtypeWarning:\n",
      "\n",
      "Calling `map_elements` without specifying `return_dtype` can lead to unpredictable results. Specify `return_dtype` to silence this warning.\n",
      "\n",
      "sys:1: MapWithoutReturnDtypeWarning:\n",
      "\n",
      "Calling `map_elements` without specifying `return_dtype` can lead to unpredictable results. Specify `return_dtype` to silence this warning.\n",
      "\n",
      "sys:1: MapWithoutReturnDtypeWarning:\n",
      "\n",
      "Calling `map_elements` without specifying `return_dtype` can lead to unpredictable results. Specify `return_dtype` to silence this warning.\n",
      "\n"
     ]
    },
    {
     "ename": "ComputeError",
     "evalue": "AttributeError: 'int' object has no attribute 'encode'",
     "output_type": "error",
     "traceback": [
      "\u001b[0;31m---------------------------------------------------------------------------\u001b[0m",
      "\u001b[0;31mComputeError\u001b[0m                              Traceback (most recent call last)",
      "Cell \u001b[0;32mIn[14], line 3\u001b[0m\n\u001b[1;32m      1\u001b[0m \u001b[38;5;28;01mfrom\u001b[39;00m \u001b[38;5;21;01mhashlib\u001b[39;00m \u001b[38;5;28;01mimport\u001b[39;00m sha3_256\n\u001b[0;32m----> 3\u001b[0m \u001b[43manon\u001b[49m\u001b[38;5;241;43m.\u001b[39;49m\u001b[43mprocess\u001b[49m\u001b[43m(\u001b[49m\u001b[43malgorithm\u001b[49m\u001b[38;5;241;43m=\u001b[39;49m\u001b[38;5;28;43;01mlambda\u001b[39;49;00m\u001b[43m \u001b[49m\u001b[43mx\u001b[49m\u001b[43m:\u001b[49m\u001b[43m \u001b[49m\u001b[43msha3_256\u001b[49m\u001b[43m(\u001b[49m\u001b[43mx\u001b[49m\u001b[38;5;241;43m.\u001b[39;49m\u001b[43mencode\u001b[49m\u001b[43m(\u001b[49m\u001b[43m)\u001b[49m\u001b[43m)\u001b[49m\u001b[38;5;241;43m.\u001b[39;49m\u001b[43mhexdigest\u001b[49m\u001b[43m(\u001b[49m\u001b[43m)\u001b[49m\u001b[43m)\u001b[49m\n",
      "File \u001b[0;32m~/work/pega-datascientist-tools/pega-datascientist-tools/python/docs/source/articles/../../../pdstools/utils/hds_utils.py:512\u001b[0m, in \u001b[0;36mDataAnonymization.process\u001b[0;34m(self, strategy, **kwargs)\u001b[0m\n\u001b[1;32m    510\u001b[0m df \u001b[38;5;241m=\u001b[39m df\u001b[38;5;241m.\u001b[39mselect(\u001b[38;5;28mself\u001b[39m\u001b[38;5;241m.\u001b[39mcolumn_mapping\u001b[38;5;241m.\u001b[39mkeys())\u001b[38;5;241m.\u001b[39mrename(\u001b[38;5;28mself\u001b[39m\u001b[38;5;241m.\u001b[39mcolumn_mapping)\n\u001b[1;32m    511\u001b[0m \u001b[38;5;28;01mif\u001b[39;00m strategy \u001b[38;5;241m==\u001b[39m \u001b[38;5;124m\"\u001b[39m\u001b[38;5;124meager\u001b[39m\u001b[38;5;124m\"\u001b[39m:\n\u001b[0;32m--> 512\u001b[0m     \u001b[38;5;28;01mreturn\u001b[39;00m \u001b[43mdf\u001b[49m\u001b[38;5;241;43m.\u001b[39;49m\u001b[43mcollect\u001b[49m\u001b[43m(\u001b[49m\u001b[43m)\u001b[49m\n\u001b[1;32m    513\u001b[0m \u001b[38;5;28;01mreturn\u001b[39;00m df\n",
      "File \u001b[0;32m/opt/hostedtoolcache/Python/3.11.9/x64/lib/python3.11/site-packages/polars/lazyframe/frame.py:1967\u001b[0m, in \u001b[0;36mLazyFrame.collect\u001b[0;34m(self, type_coercion, predicate_pushdown, projection_pushdown, simplify_expression, slice_pushdown, comm_subplan_elim, comm_subexpr_elim, cluster_with_columns, no_optimization, streaming, background, _eager, **_kwargs)\u001b[0m\n\u001b[1;32m   1964\u001b[0m \u001b[38;5;66;03m# Only for testing purposes atm.\u001b[39;00m\n\u001b[1;32m   1965\u001b[0m callback \u001b[38;5;241m=\u001b[39m _kwargs\u001b[38;5;241m.\u001b[39mget(\u001b[38;5;124m\"\u001b[39m\u001b[38;5;124mpost_opt_callback\u001b[39m\u001b[38;5;124m\"\u001b[39m)\n\u001b[0;32m-> 1967\u001b[0m \u001b[38;5;28;01mreturn\u001b[39;00m wrap_df(\u001b[43mldf\u001b[49m\u001b[38;5;241;43m.\u001b[39;49m\u001b[43mcollect\u001b[49m\u001b[43m(\u001b[49m\u001b[43mcallback\u001b[49m\u001b[43m)\u001b[49m)\n",
      "\u001b[0;31mComputeError\u001b[0m: AttributeError: 'int' object has no attribute 'encode'"
     ]
    }
   ],
   "source": [
    "from hashlib import sha3_256\n",
    "\n",
    "anon.process(algorithm=lambda x: sha3_256(x.encode()).hexdigest())"
   ]
  }
 ],
 "metadata": {
  "kernelspec": {
   "display_name": "Python 3",
   "language": "python",
   "name": "python3"
  },
  "language_info": {
   "codemirror_mode": {
    "name": "ipython",
    "version": 3
   },
   "file_extension": ".py",
   "mimetype": "text/x-python",
   "name": "python",
   "nbconvert_exporter": "python",
   "pygments_lexer": "ipython3",
   "version": "3.11.9"
  },
  "vscode": {
   "interpreter": {
    "hash": "aee8b7b246df8f9039afb4144a1f6fd8d2ca17a180786b69acc140d282b71a49"
   }
  }
 },
 "nbformat": 4,
 "nbformat_minor": 2
}
