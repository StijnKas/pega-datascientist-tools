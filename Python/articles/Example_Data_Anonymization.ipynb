{
 "cells": [
  {
   "attachments": {},
   "cell_type": "markdown",
   "metadata": {},
   "source": [
    "# Data Anonymization\n",
    "\n",
    "In Pega CDH 8.5 and up, it's now possible to record the historical data as seen by the Adaptive Models. See [this academy challenge](https://academy.pega.com/challenge/exporting-historical-data/v4) for reference. This historical data can be further used to experiment with offline models, but also to fine-tune the OOTB Gradient Boosting model. However, sharing this information with Pega can be sensitive as it contains raw predictor data. \n",
    "\n",
    "To this end, we provide a simple and transparent script to fully anonimize this dataset.\n",
    "\n",
    "The DataAnonymization script is now part of pdstools, and you can import it directly as such."
   ]
  },
  {
   "cell_type": "code",
   "execution_count": 1,
   "metadata": {
    "execution": {
     "iopub.execute_input": "2024-06-18T15:09:36.074611Z",
     "iopub.status.busy": "2024-06-18T15:09:36.074444Z",
     "iopub.status.idle": "2024-06-18T15:09:36.148054Z",
     "shell.execute_reply": "2024-06-18T15:09:36.147445Z"
    },
    "nbsphinx": "hidden"
   },
   "outputs": [],
   "source": [
    "# These lines are only for rendering in the docs, and are hidden through Jupyter tags\n",
    "# Do not run if you're running the notebook seperately\n",
    "\n",
    "import os  \n",
    "import sys\n",
    "import plotly.io as pio\n",
    "pio.renderers.default = \"notebook_connected\"\n",
    "\n",
    "sys.path.append(\"../../../\")\n",
    "sys.path.append('../../python')"
   ]
  },
  {
   "cell_type": "code",
   "execution_count": 2,
   "metadata": {
    "execution": {
     "iopub.execute_input": "2024-06-18T15:09:36.150657Z",
     "iopub.status.busy": "2024-06-18T15:09:36.150314Z",
     "iopub.status.idle": "2024-06-18T15:09:37.261433Z",
     "shell.execute_reply": "2024-06-18T15:09:37.260756Z"
    }
   },
   "outputs": [],
   "source": [
    "from pdstools import ADMDatamart\n",
    "from pdstools import Config, DataAnonymization\n",
    "import polars as pl"
   ]
  },
  {
   "attachments": {},
   "cell_type": "markdown",
   "metadata": {},
   "source": [
    "## Input data\n",
    "\n",
    "To demonstrate this process, we're going to anonymise this toy example dataframe:"
   ]
  },
  {
   "cell_type": "code",
   "execution_count": 3,
   "metadata": {
    "execution": {
     "iopub.execute_input": "2024-06-18T15:09:37.264100Z",
     "iopub.status.busy": "2024-06-18T15:09:37.263792Z",
     "iopub.status.idle": "2024-06-18T15:09:37.272055Z",
     "shell.execute_reply": "2024-06-18T15:09:37.271485Z"
    }
   },
   "outputs": [
    {
     "data": {
      "text/html": [
       "<div><style>\n",
       ".dataframe > thead > tr,\n",
       ".dataframe > tbody > tr {\n",
       "  text-align: right;\n",
       "  white-space: pre-wrap;\n",
       "}\n",
       "</style>\n",
       "<small>shape: (7, 6)</small><table border=\"1\" class=\"dataframe\"><thead><tr><th>Context_Name</th><th>Customer_MaritalStatus</th><th>Customer_CLV</th><th>Customer_City</th><th>IH_Web_Inbound_Accepted_pxLastGroupID</th><th>Decision_Outcome</th></tr><tr><td>str</td><td>str</td><td>i64</td><td>str</td><td>str</td><td>str</td></tr></thead><tbody><tr><td>&quot;FirstMortgage30yr&quot;</td><td>&quot;Married&quot;</td><td>1460</td><td>&quot;Port Raoul&quot;</td><td>&quot;Account&quot;</td><td>&quot;Rejected&quot;</td></tr><tr><td>&quot;FirstMortgage30yr&quot;</td><td>&quot;Unknown&quot;</td><td>669</td><td>&quot;Laurianneshire&quot;</td><td>&quot;AutoLoans&quot;</td><td>&quot;Accepted&quot;</td></tr><tr><td>&quot;MoneyMarketSavingsAccount&quot;</td><td>&quot;No Resp+&quot;</td><td>1174</td><td>&quot;Jacobshaven&quot;</td><td>&quot;Account&quot;</td><td>&quot;Rejected&quot;</td></tr><tr><td>&quot;BasicChecking&quot;</td><td>&quot;Unknown&quot;</td><td>1476</td><td>&quot;Lindton&quot;</td><td>&quot;Account&quot;</td><td>&quot;Rejected&quot;</td></tr><tr><td>&quot;BasicChecking&quot;</td><td>&quot;Married&quot;</td><td>1211</td><td>&quot;South Jimmieshire&quot;</td><td>&quot;DepositAccounts&quot;</td><td>&quot;Accepted&quot;</td></tr><tr><td>&quot;UPlusFinPersonal&quot;</td><td>&quot;No Resp+&quot;</td><td>533</td><td>&quot;Bergeville&quot;</td><td>null</td><td>&quot;Rejected&quot;</td></tr><tr><td>&quot;BasicChecking&quot;</td><td>&quot;No Resp+&quot;</td><td>555</td><td>&quot;Willyville&quot;</td><td>&quot;DepositAccounts&quot;</td><td>&quot;Rejected&quot;</td></tr></tbody></table></div>"
      ],
      "text/plain": [
       "shape: (7, 6)\n",
       "┌────────────────┬────────────────┬──────────────┬────────────────┬────────────────┬───────────────┐\n",
       "│ Context_Name   ┆ Customer_Marit ┆ Customer_CLV ┆ Customer_City  ┆ IH_Web_Inbound ┆ Decision_Outc │\n",
       "│ ---            ┆ alStatus       ┆ ---          ┆ ---            ┆ _Accepted_pxLa ┆ ome           │\n",
       "│ str            ┆ ---            ┆ i64          ┆ str            ┆ st…            ┆ ---           │\n",
       "│                ┆ str            ┆              ┆                ┆ ---            ┆ str           │\n",
       "│                ┆                ┆              ┆                ┆ str            ┆               │\n",
       "╞════════════════╪════════════════╪══════════════╪════════════════╪════════════════╪═══════════════╡\n",
       "│ FirstMortgage3 ┆ Married        ┆ 1460         ┆ Port Raoul     ┆ Account        ┆ Rejected      │\n",
       "│ 0yr            ┆                ┆              ┆                ┆                ┆               │\n",
       "│ FirstMortgage3 ┆ Unknown        ┆ 669          ┆ Laurianneshire ┆ AutoLoans      ┆ Accepted      │\n",
       "│ 0yr            ┆                ┆              ┆                ┆                ┆               │\n",
       "│ MoneyMarketSav ┆ No Resp+       ┆ 1174         ┆ Jacobshaven    ┆ Account        ┆ Rejected      │\n",
       "│ ingsAccount    ┆                ┆              ┆                ┆                ┆               │\n",
       "│ BasicChecking  ┆ Unknown        ┆ 1476         ┆ Lindton        ┆ Account        ┆ Rejected      │\n",
       "│ BasicChecking  ┆ Married        ┆ 1211         ┆ South          ┆ DepositAccount ┆ Accepted      │\n",
       "│                ┆                ┆              ┆ Jimmieshire    ┆ s              ┆               │\n",
       "│ UPlusFinPerson ┆ No Resp+       ┆ 533          ┆ Bergeville     ┆ null           ┆ Rejected      │\n",
       "│ al             ┆                ┆              ┆                ┆                ┆               │\n",
       "│ BasicChecking  ┆ No Resp+       ┆ 555          ┆ Willyville     ┆ DepositAccount ┆ Rejected      │\n",
       "│                ┆                ┆              ┆                ┆ s              ┆               │\n",
       "└────────────────┴────────────────┴──────────────┴────────────────┴────────────────┴───────────────┘"
      ]
     },
     "execution_count": 3,
     "metadata": {},
     "output_type": "execute_result"
    }
   ],
   "source": [
    "pl.read_ndjson('../../../../data/SampleHDS.json')"
   ]
  },
  {
   "attachments": {},
   "cell_type": "markdown",
   "metadata": {},
   "source": [
    "As you can see, this dataset consists of regular predictors, IH predictors, context keys and the outcome column. Additionally, some columns are numeric, others are strings. Let's first initialize the DataAnonymization class."
   ]
  },
  {
   "cell_type": "code",
   "execution_count": 4,
   "metadata": {
    "execution": {
     "iopub.execute_input": "2024-06-18T15:09:37.274403Z",
     "iopub.status.busy": "2024-06-18T15:09:37.273994Z",
     "iopub.status.idle": "2024-06-18T15:09:37.284246Z",
     "shell.execute_reply": "2024-06-18T15:09:37.283717Z"
    }
   },
   "outputs": [],
   "source": [
    "anon = DataAnonymization(hds_folder='../../../../data/')"
   ]
  },
  {
   "attachments": {},
   "cell_type": "markdown",
   "metadata": {},
   "source": [
    "By default, the class applies a set of anonymisation techniques:\n",
    "- Column names are remapped to a non-descriptive name\n",
    "- Categorical values are hashed with a random seed\n",
    "- Numerical values are normalized between 0 and 1\n",
    "- Outcomes are mapped to a binary outcome.\n",
    "\n",
    "To apply these techniques, simply call `.process()`:"
   ]
  },
  {
   "cell_type": "code",
   "execution_count": 5,
   "metadata": {
    "execution": {
     "iopub.execute_input": "2024-06-18T15:09:37.286520Z",
     "iopub.status.busy": "2024-06-18T15:09:37.286175Z",
     "iopub.status.idle": "2024-06-18T15:09:37.291324Z",
     "shell.execute_reply": "2024-06-18T15:09:37.290858Z"
    }
   },
   "outputs": [
    {
     "data": {
      "text/html": [
       "<div><style>\n",
       ".dataframe > thead > tr,\n",
       ".dataframe > tbody > tr {\n",
       "  text-align: right;\n",
       "  white-space: pre-wrap;\n",
       "}\n",
       "</style>\n",
       "<small>shape: (7, 7)</small><table border=\"1\" class=\"dataframe\"><thead><tr><th>PREDICTOR_0</th><th>filename</th><th>PREDICTOR_2</th><th>PREDICTOR_3</th><th>Context_Name</th><th>IH_PREDICTOR_0</th><th>Decision_Outcome</th></tr><tr><td>str</td><td>str</td><td>str</td><td>f64</td><td>str</td><td>str</td><td>bool</td></tr></thead><tbody><tr><td>&quot;16973262119504954068&quot;</td><td>&quot;../../../../data/SampleHDS.jso…</td><td>&quot;16769757323054342538&quot;</td><td>7.9897e18</td><td>&quot;7378456768465453339&quot;</td><td>&quot;3237589221449260092&quot;</td><td>false</td></tr><tr><td>&quot;15203391337876692327&quot;</td><td>&quot;../../../../data/SampleHDS.jso…</td><td>&quot;8820581660925778813&quot;</td><td>5.0455e18</td><td>&quot;7378456768465453339&quot;</td><td>&quot;10987607310530755593&quot;</td><td>true</td></tr><tr><td>&quot;1410635593663362419&quot;</td><td>&quot;../../../../data/SampleHDS.jso…</td><td>&quot;5472759114985300282&quot;</td><td>4.6870e18</td><td>&quot;15306289255310134823&quot;</td><td>&quot;3237589221449260092&quot;</td><td>false</td></tr><tr><td>&quot;3490043960559986895&quot;</td><td>&quot;../../../../data/SampleHDS.jso…</td><td>&quot;8820581660925778813&quot;</td><td>1.1310e19</td><td>&quot;5354054396074701478&quot;</td><td>&quot;3237589221449260092&quot;</td><td>false</td></tr><tr><td>&quot;17841821664015346765&quot;</td><td>&quot;../../../../data/SampleHDS.jso…</td><td>&quot;16769757323054342538&quot;</td><td>1.6129e19</td><td>&quot;5354054396074701478&quot;</td><td>&quot;17506178964919490453&quot;</td><td>true</td></tr><tr><td>&quot;1764248824136647765&quot;</td><td>&quot;../../../../data/SampleHDS.jso…</td><td>&quot;5472759114985300282&quot;</td><td>8.7445e18</td><td>&quot;17158305345367556538&quot;</td><td>null</td><td>false</td></tr><tr><td>&quot;1055750501475932723&quot;</td><td>&quot;../../../../data/SampleHDS.jso…</td><td>&quot;5472759114985300282&quot;</td><td>1.5038e19</td><td>&quot;5354054396074701478&quot;</td><td>&quot;17506178964919490453&quot;</td><td>false</td></tr></tbody></table></div>"
      ],
      "text/plain": [
       "shape: (7, 7)\n",
       "┌──────────────┬─────────────┬─────────────┬─────────────┬─────────────┬─────────────┬─────────────┐\n",
       "│ PREDICTOR_0  ┆ filename    ┆ PREDICTOR_2 ┆ PREDICTOR_3 ┆ Context_Nam ┆ IH_PREDICTO ┆ Decision_Ou │\n",
       "│ ---          ┆ ---         ┆ ---         ┆ ---         ┆ e           ┆ R_0         ┆ tcome       │\n",
       "│ str          ┆ str         ┆ str         ┆ f64         ┆ ---         ┆ ---         ┆ ---         │\n",
       "│              ┆             ┆             ┆             ┆ str         ┆ str         ┆ bool        │\n",
       "╞══════════════╪═════════════╪═════════════╪═════════════╪═════════════╪═════════════╪═════════════╡\n",
       "│ 169732621195 ┆ ../../../.. ┆ 16769757323 ┆ 7.9897e18   ┆ 73784567684 ┆ 32375892214 ┆ false       │\n",
       "│ 04954068     ┆ /data/Sampl ┆ 054342538   ┆             ┆ 65453339    ┆ 49260092    ┆             │\n",
       "│              ┆ eHDS.jso…   ┆             ┆             ┆             ┆             ┆             │\n",
       "│ 152033913378 ┆ ../../../.. ┆ 88205816609 ┆ 5.0455e18   ┆ 73784567684 ┆ 10987607310 ┆ true        │\n",
       "│ 76692327     ┆ /data/Sampl ┆ 25778813    ┆             ┆ 65453339    ┆ 530755593   ┆             │\n",
       "│              ┆ eHDS.jso…   ┆             ┆             ┆             ┆             ┆             │\n",
       "│ 141063559366 ┆ ../../../.. ┆ 54727591149 ┆ 4.6870e18   ┆ 15306289255 ┆ 32375892214 ┆ false       │\n",
       "│ 3362419      ┆ /data/Sampl ┆ 85300282    ┆             ┆ 310134823   ┆ 49260092    ┆             │\n",
       "│              ┆ eHDS.jso…   ┆             ┆             ┆             ┆             ┆             │\n",
       "│ 349004396055 ┆ ../../../.. ┆ 88205816609 ┆ 1.1310e19   ┆ 53540543960 ┆ 32375892214 ┆ false       │\n",
       "│ 9986895      ┆ /data/Sampl ┆ 25778813    ┆             ┆ 74701478    ┆ 49260092    ┆             │\n",
       "│              ┆ eHDS.jso…   ┆             ┆             ┆             ┆             ┆             │\n",
       "│ 178418216640 ┆ ../../../.. ┆ 16769757323 ┆ 1.6129e19   ┆ 53540543960 ┆ 17506178964 ┆ true        │\n",
       "│ 15346765     ┆ /data/Sampl ┆ 054342538   ┆             ┆ 74701478    ┆ 919490453   ┆             │\n",
       "│              ┆ eHDS.jso…   ┆             ┆             ┆             ┆             ┆             │\n",
       "│ 176424882413 ┆ ../../../.. ┆ 54727591149 ┆ 8.7445e18   ┆ 17158305345 ┆ null        ┆ false       │\n",
       "│ 6647765      ┆ /data/Sampl ┆ 85300282    ┆             ┆ 367556538   ┆             ┆             │\n",
       "│              ┆ eHDS.jso…   ┆             ┆             ┆             ┆             ┆             │\n",
       "│ 105575050147 ┆ ../../../.. ┆ 54727591149 ┆ 1.5038e19   ┆ 53540543960 ┆ 17506178964 ┆ false       │\n",
       "│ 5932723      ┆ /data/Sampl ┆ 85300282    ┆             ┆ 74701478    ┆ 919490453   ┆             │\n",
       "│              ┆ eHDS.jso…   ┆             ┆             ┆             ┆             ┆             │\n",
       "└──────────────┴─────────────┴─────────────┴─────────────┴─────────────┴─────────────┴─────────────┘"
      ]
     },
     "execution_count": 5,
     "metadata": {},
     "output_type": "execute_result"
    }
   ],
   "source": [
    "anon.process()"
   ]
  },
  {
   "attachments": {},
   "cell_type": "markdown",
   "metadata": {},
   "source": [
    "To trace back the columns to their original names, the class also contains a mapping, which does not have to be provided."
   ]
  },
  {
   "cell_type": "code",
   "execution_count": 6,
   "metadata": {
    "execution": {
     "iopub.execute_input": "2024-06-18T15:09:37.293296Z",
     "iopub.status.busy": "2024-06-18T15:09:37.293121Z",
     "iopub.status.idle": "2024-06-18T15:09:37.296845Z",
     "shell.execute_reply": "2024-06-18T15:09:37.296421Z"
    }
   },
   "outputs": [
    {
     "data": {
      "text/plain": [
       "{'Customer_City': 'PREDICTOR_0',\n",
       " 'filename': 'filename',\n",
       " 'Customer_MaritalStatus': 'PREDICTOR_2',\n",
       " 'Customer_CLV': 'PREDICTOR_3',\n",
       " 'Context_Name': 'Context_Name',\n",
       " 'IH_Web_Inbound_Accepted_pxLastGroupID': 'IH_PREDICTOR_0',\n",
       " 'Decision_Outcome': 'Decision_Outcome'}"
      ]
     },
     "execution_count": 6,
     "metadata": {},
     "output_type": "execute_result"
    }
   ],
   "source": [
    "anon.column_mapping"
   ]
  },
  {
   "attachments": {},
   "cell_type": "markdown",
   "metadata": {},
   "source": [
    "## Configs\n",
    "\n",
    "Each capability can optionally be turned off - see below for the full list of config options, and refer to the API reference for the full description."
   ]
  },
  {
   "cell_type": "code",
   "execution_count": 7,
   "metadata": {
    "execution": {
     "iopub.execute_input": "2024-06-18T15:09:37.299026Z",
     "iopub.status.busy": "2024-06-18T15:09:37.298577Z",
     "iopub.status.idle": "2024-06-18T15:09:37.302666Z",
     "shell.execute_reply": "2024-06-18T15:09:37.302251Z"
    }
   },
   "outputs": [
    {
     "data": {
      "text/plain": [
       "{'config_file': None,\n",
       " 'hds_folder': '.',\n",
       " 'use_datamart': False,\n",
       " 'datamart_folder': 'datamart',\n",
       " 'output_format': 'ndjson',\n",
       " 'output_folder': 'output',\n",
       " 'mapping_file': 'mapping.map',\n",
       " 'mask_predictor_names': True,\n",
       " 'mask_context_key_names': False,\n",
       " 'mask_ih_names': True,\n",
       " 'mask_outcome_name': False,\n",
       " 'mask_predictor_values': True,\n",
       " 'mask_context_key_values': True,\n",
       " 'mask_ih_values': True,\n",
       " 'mask_outcome_values': True,\n",
       " 'context_key_label': 'Context_*',\n",
       " 'ih_label': 'IH_*',\n",
       " 'outcome_column': 'Decision_Outcome',\n",
       " 'positive_outcomes': ['Accepted', 'Clicked'],\n",
       " 'negative_outcomes': ['Rejected', 'Impression'],\n",
       " 'special_predictors': ['Decision_DecisionTime',\n",
       "  'Decision_OutcomeTime',\n",
       "  'Decision_Rank'],\n",
       " 'sample_percentage_schema_inferencing': 0.01}"
      ]
     },
     "execution_count": 7,
     "metadata": {},
     "output_type": "execute_result"
    }
   ],
   "source": [
    "dict(zip(Config.__init__.__code__.co_varnames[1:], Config.__init__.__defaults__))"
   ]
  },
  {
   "attachments": {},
   "cell_type": "markdown",
   "metadata": {},
   "source": [
    "It's easy to change these parameters by just passing the keyword arguments. In the following example, we\n",
    "- Keep the IH predictor names\n",
    "- Keep the outcome values\n",
    "- Keep the context key values\n",
    "- Keep the context key predictor names"
   ]
  },
  {
   "cell_type": "code",
   "execution_count": 8,
   "metadata": {
    "execution": {
     "iopub.execute_input": "2024-06-18T15:09:37.304683Z",
     "iopub.status.busy": "2024-06-18T15:09:37.304302Z",
     "iopub.status.idle": "2024-06-18T15:09:37.312071Z",
     "shell.execute_reply": "2024-06-18T15:09:37.311588Z"
    }
   },
   "outputs": [
    {
     "data": {
      "text/html": [
       "<div><style>\n",
       ".dataframe > thead > tr,\n",
       ".dataframe > tbody > tr {\n",
       "  text-align: right;\n",
       "  white-space: pre-wrap;\n",
       "}\n",
       "</style>\n",
       "<small>shape: (7, 7)</small><table border=\"1\" class=\"dataframe\"><thead><tr><th>PREDICTOR_0</th><th>filename</th><th>PREDICTOR_2</th><th>PREDICTOR_3</th><th>Context_Name</th><th>IH_Web_Inbound_Accepted_pxLastGroupID</th><th>Decision_Outcome</th></tr><tr><td>str</td><td>str</td><td>str</td><td>f64</td><td>str</td><td>str</td><td>str</td></tr></thead><tbody><tr><td>&quot;14139342854704801436&quot;</td><td>&quot;../../../../data/SampleHDS.jso…</td><td>&quot;2553170829423693464&quot;</td><td>5.5445e18</td><td>&quot;FirstMortgage30yr&quot;</td><td>&quot;9444523542945246950&quot;</td><td>&quot;Rejected&quot;</td></tr><tr><td>&quot;774452191720043904&quot;</td><td>&quot;../../../../data/SampleHDS.jso…</td><td>&quot;11611196088168454847&quot;</td><td>7.8694e18</td><td>&quot;FirstMortgage30yr&quot;</td><td>&quot;13706379782120304260&quot;</td><td>&quot;Accepted&quot;</td></tr><tr><td>&quot;8062875547133503190&quot;</td><td>&quot;../../../../data/SampleHDS.jso…</td><td>&quot;7902914339965925500&quot;</td><td>8.8373e17</td><td>&quot;MoneyMarketSavingsAccount&quot;</td><td>&quot;9444523542945246950&quot;</td><td>&quot;Rejected&quot;</td></tr><tr><td>&quot;9506024330188948219&quot;</td><td>&quot;../../../../data/SampleHDS.jso…</td><td>&quot;11611196088168454847&quot;</td><td>7.8056e18</td><td>&quot;BasicChecking&quot;</td><td>&quot;9444523542945246950&quot;</td><td>&quot;Rejected&quot;</td></tr><tr><td>&quot;9415711733599794357&quot;</td><td>&quot;../../../../data/SampleHDS.jso…</td><td>&quot;2553170829423693464&quot;</td><td>1.2800e19</td><td>&quot;BasicChecking&quot;</td><td>&quot;7776071456149207305&quot;</td><td>&quot;Accepted&quot;</td></tr><tr><td>&quot;4577083987942810763&quot;</td><td>&quot;../../../../data/SampleHDS.jso…</td><td>&quot;7902914339965925500&quot;</td><td>2.0074e18</td><td>&quot;UPlusFinPersonal&quot;</td><td>null</td><td>&quot;Rejected&quot;</td></tr><tr><td>&quot;548257719147493657&quot;</td><td>&quot;../../../../data/SampleHDS.jso…</td><td>&quot;7902914339965925500&quot;</td><td>9.6629e18</td><td>&quot;BasicChecking&quot;</td><td>&quot;7776071456149207305&quot;</td><td>&quot;Rejected&quot;</td></tr></tbody></table></div>"
      ],
      "text/plain": [
       "shape: (7, 7)\n",
       "┌──────────────┬─────────────┬─────────────┬─────────────┬─────────────┬─────────────┬─────────────┐\n",
       "│ PREDICTOR_0  ┆ filename    ┆ PREDICTOR_2 ┆ PREDICTOR_3 ┆ Context_Nam ┆ IH_Web_Inbo ┆ Decision_Ou │\n",
       "│ ---          ┆ ---         ┆ ---         ┆ ---         ┆ e           ┆ und_Accepte ┆ tcome       │\n",
       "│ str          ┆ str         ┆ str         ┆ f64         ┆ ---         ┆ d_pxLast…   ┆ ---         │\n",
       "│              ┆             ┆             ┆             ┆ str         ┆ ---         ┆ str         │\n",
       "│              ┆             ┆             ┆             ┆             ┆ str         ┆             │\n",
       "╞══════════════╪═════════════╪═════════════╪═════════════╪═════════════╪═════════════╪═════════════╡\n",
       "│ 141393428547 ┆ ../../../.. ┆ 25531708294 ┆ 5.5445e18   ┆ FirstMortga ┆ 94445235429 ┆ Rejected    │\n",
       "│ 04801436     ┆ /data/Sampl ┆ 23693464    ┆             ┆ ge30yr      ┆ 45246950    ┆             │\n",
       "│              ┆ eHDS.jso…   ┆             ┆             ┆             ┆             ┆             │\n",
       "│ 774452191720 ┆ ../../../.. ┆ 11611196088 ┆ 7.8694e18   ┆ FirstMortga ┆ 13706379782 ┆ Accepted    │\n",
       "│ 043904       ┆ /data/Sampl ┆ 168454847   ┆             ┆ ge30yr      ┆ 120304260   ┆             │\n",
       "│              ┆ eHDS.jso…   ┆             ┆             ┆             ┆             ┆             │\n",
       "│ 806287554713 ┆ ../../../.. ┆ 79029143399 ┆ 8.8373e17   ┆ MoneyMarket ┆ 94445235429 ┆ Rejected    │\n",
       "│ 3503190      ┆ /data/Sampl ┆ 65925500    ┆             ┆ SavingsAcco ┆ 45246950    ┆             │\n",
       "│              ┆ eHDS.jso…   ┆             ┆             ┆ unt         ┆             ┆             │\n",
       "│ 950602433018 ┆ ../../../.. ┆ 11611196088 ┆ 7.8056e18   ┆ BasicChecki ┆ 94445235429 ┆ Rejected    │\n",
       "│ 8948219      ┆ /data/Sampl ┆ 168454847   ┆             ┆ ng          ┆ 45246950    ┆             │\n",
       "│              ┆ eHDS.jso…   ┆             ┆             ┆             ┆             ┆             │\n",
       "│ 941571173359 ┆ ../../../.. ┆ 25531708294 ┆ 1.2800e19   ┆ BasicChecki ┆ 77760714561 ┆ Accepted    │\n",
       "│ 9794357      ┆ /data/Sampl ┆ 23693464    ┆             ┆ ng          ┆ 49207305    ┆             │\n",
       "│              ┆ eHDS.jso…   ┆             ┆             ┆             ┆             ┆             │\n",
       "│ 457708398794 ┆ ../../../.. ┆ 79029143399 ┆ 2.0074e18   ┆ UPlusFinPer ┆ null        ┆ Rejected    │\n",
       "│ 2810763      ┆ /data/Sampl ┆ 65925500    ┆             ┆ sonal       ┆             ┆             │\n",
       "│              ┆ eHDS.jso…   ┆             ┆             ┆             ┆             ┆             │\n",
       "│ 548257719147 ┆ ../../../.. ┆ 79029143399 ┆ 9.6629e18   ┆ BasicChecki ┆ 77760714561 ┆ Rejected    │\n",
       "│ 493657       ┆ /data/Sampl ┆ 65925500    ┆             ┆ ng          ┆ 49207305    ┆             │\n",
       "│              ┆ eHDS.jso…   ┆             ┆             ┆             ┆             ┆             │\n",
       "└──────────────┴─────────────┴─────────────┴─────────────┴─────────────┴─────────────┴─────────────┘"
      ]
     },
     "execution_count": 8,
     "metadata": {},
     "output_type": "execute_result"
    }
   ],
   "source": [
    "anon = DataAnonymization(\n",
    "    hds_folder=\"../../../../data/\",\n",
    "    mask_ih_names=False,\n",
    "    mask_outcome_values=False,\n",
    "    mask_context_key_values=False,\n",
    "    mask_context_key_names=False,\n",
    ")\n",
    "anon.process()\n"
   ]
  },
  {
   "attachments": {},
   "cell_type": "markdown",
   "metadata": {},
   "source": [
    "The configs can also be written and read as such:"
   ]
  },
  {
   "cell_type": "code",
   "execution_count": 9,
   "metadata": {
    "execution": {
     "iopub.execute_input": "2024-06-18T15:09:37.314071Z",
     "iopub.status.busy": "2024-06-18T15:09:37.313752Z",
     "iopub.status.idle": "2024-06-18T15:09:37.316467Z",
     "shell.execute_reply": "2024-06-18T15:09:37.315997Z"
    }
   },
   "outputs": [],
   "source": [
    "anon.config.save_to_config_file('config.json')"
   ]
  },
  {
   "cell_type": "code",
   "execution_count": 10,
   "metadata": {
    "execution": {
     "iopub.execute_input": "2024-06-18T15:09:37.318446Z",
     "iopub.status.busy": "2024-06-18T15:09:37.318197Z",
     "iopub.status.idle": "2024-06-18T15:09:37.325718Z",
     "shell.execute_reply": "2024-06-18T15:09:37.325210Z"
    }
   },
   "outputs": [
    {
     "data": {
      "text/html": [
       "<div><style>\n",
       ".dataframe > thead > tr,\n",
       ".dataframe > tbody > tr {\n",
       "  text-align: right;\n",
       "  white-space: pre-wrap;\n",
       "}\n",
       "</style>\n",
       "<small>shape: (7, 7)</small><table border=\"1\" class=\"dataframe\"><thead><tr><th>PREDICTOR_0</th><th>filename</th><th>PREDICTOR_2</th><th>PREDICTOR_3</th><th>Context_Name</th><th>IH_Web_Inbound_Accepted_pxLastGroupID</th><th>Decision_Outcome</th></tr><tr><td>str</td><td>str</td><td>str</td><td>f64</td><td>str</td><td>str</td><td>str</td></tr></thead><tbody><tr><td>&quot;5789410699764732053&quot;</td><td>&quot;../../../../data/SampleHDS.jso…</td><td>&quot;17774495357201775844&quot;</td><td>8.7165e17</td><td>&quot;FirstMortgage30yr&quot;</td><td>&quot;9145986927403529652&quot;</td><td>&quot;Rejected&quot;</td></tr><tr><td>&quot;260293450102005196&quot;</td><td>&quot;../../../../data/SampleHDS.jso…</td><td>&quot;2757563940162061772&quot;</td><td>7.6736e18</td><td>&quot;FirstMortgage30yr&quot;</td><td>&quot;10807676693282446406&quot;</td><td>&quot;Accepted&quot;</td></tr><tr><td>&quot;17138415298265998207&quot;</td><td>&quot;../../../../data/SampleHDS.jso…</td><td>&quot;5242581423834464452&quot;</td><td>1.0035e19</td><td>&quot;MoneyMarketSavingsAccount&quot;</td><td>&quot;9145986927403529652&quot;</td><td>&quot;Rejected&quot;</td></tr><tr><td>&quot;6840943039295403752&quot;</td><td>&quot;../../../../data/SampleHDS.jso…</td><td>&quot;2757563940162061772&quot;</td><td>1.3343e19</td><td>&quot;BasicChecking&quot;</td><td>&quot;9145986927403529652&quot;</td><td>&quot;Rejected&quot;</td></tr><tr><td>&quot;18081428790883115077&quot;</td><td>&quot;../../../../data/SampleHDS.jso…</td><td>&quot;17774495357201775844&quot;</td><td>8.9795e18</td><td>&quot;BasicChecking&quot;</td><td>&quot;612317669878353385&quot;</td><td>&quot;Accepted&quot;</td></tr><tr><td>&quot;1612215997988902543&quot;</td><td>&quot;../../../../data/SampleHDS.jso…</td><td>&quot;5242581423834464452&quot;</td><td>1.3785e19</td><td>&quot;UPlusFinPersonal&quot;</td><td>null</td><td>&quot;Rejected&quot;</td></tr><tr><td>&quot;5593519537167506013&quot;</td><td>&quot;../../../../data/SampleHDS.jso…</td><td>&quot;5242581423834464452&quot;</td><td>9.3686e17</td><td>&quot;BasicChecking&quot;</td><td>&quot;612317669878353385&quot;</td><td>&quot;Rejected&quot;</td></tr></tbody></table></div>"
      ],
      "text/plain": [
       "shape: (7, 7)\n",
       "┌──────────────┬─────────────┬─────────────┬─────────────┬─────────────┬─────────────┬─────────────┐\n",
       "│ PREDICTOR_0  ┆ filename    ┆ PREDICTOR_2 ┆ PREDICTOR_3 ┆ Context_Nam ┆ IH_Web_Inbo ┆ Decision_Ou │\n",
       "│ ---          ┆ ---         ┆ ---         ┆ ---         ┆ e           ┆ und_Accepte ┆ tcome       │\n",
       "│ str          ┆ str         ┆ str         ┆ f64         ┆ ---         ┆ d_pxLast…   ┆ ---         │\n",
       "│              ┆             ┆             ┆             ┆ str         ┆ ---         ┆ str         │\n",
       "│              ┆             ┆             ┆             ┆             ┆ str         ┆             │\n",
       "╞══════════════╪═════════════╪═════════════╪═════════════╪═════════════╪═════════════╪═════════════╡\n",
       "│ 578941069976 ┆ ../../../.. ┆ 17774495357 ┆ 8.7165e17   ┆ FirstMortga ┆ 91459869274 ┆ Rejected    │\n",
       "│ 4732053      ┆ /data/Sampl ┆ 201775844   ┆             ┆ ge30yr      ┆ 03529652    ┆             │\n",
       "│              ┆ eHDS.jso…   ┆             ┆             ┆             ┆             ┆             │\n",
       "│ 260293450102 ┆ ../../../.. ┆ 27575639401 ┆ 7.6736e18   ┆ FirstMortga ┆ 10807676693 ┆ Accepted    │\n",
       "│ 005196       ┆ /data/Sampl ┆ 62061772    ┆             ┆ ge30yr      ┆ 282446406   ┆             │\n",
       "│              ┆ eHDS.jso…   ┆             ┆             ┆             ┆             ┆             │\n",
       "│ 171384152982 ┆ ../../../.. ┆ 52425814238 ┆ 1.0035e19   ┆ MoneyMarket ┆ 91459869274 ┆ Rejected    │\n",
       "│ 65998207     ┆ /data/Sampl ┆ 34464452    ┆             ┆ SavingsAcco ┆ 03529652    ┆             │\n",
       "│              ┆ eHDS.jso…   ┆             ┆             ┆ unt         ┆             ┆             │\n",
       "│ 684094303929 ┆ ../../../.. ┆ 27575639401 ┆ 1.3343e19   ┆ BasicChecki ┆ 91459869274 ┆ Rejected    │\n",
       "│ 5403752      ┆ /data/Sampl ┆ 62061772    ┆             ┆ ng          ┆ 03529652    ┆             │\n",
       "│              ┆ eHDS.jso…   ┆             ┆             ┆             ┆             ┆             │\n",
       "│ 180814287908 ┆ ../../../.. ┆ 17774495357 ┆ 8.9795e18   ┆ BasicChecki ┆ 61231766987 ┆ Accepted    │\n",
       "│ 83115077     ┆ /data/Sampl ┆ 201775844   ┆             ┆ ng          ┆ 8353385     ┆             │\n",
       "│              ┆ eHDS.jso…   ┆             ┆             ┆             ┆             ┆             │\n",
       "│ 161221599798 ┆ ../../../.. ┆ 52425814238 ┆ 1.3785e19   ┆ UPlusFinPer ┆ null        ┆ Rejected    │\n",
       "│ 8902543      ┆ /data/Sampl ┆ 34464452    ┆             ┆ sonal       ┆             ┆             │\n",
       "│              ┆ eHDS.jso…   ┆             ┆             ┆             ┆             ┆             │\n",
       "│ 559351953716 ┆ ../../../.. ┆ 52425814238 ┆ 9.3686e17   ┆ BasicChecki ┆ 61231766987 ┆ Rejected    │\n",
       "│ 7506013      ┆ /data/Sampl ┆ 34464452    ┆             ┆ ng          ┆ 8353385     ┆             │\n",
       "│              ┆ eHDS.jso…   ┆             ┆             ┆             ┆             ┆             │\n",
       "└──────────────┴─────────────┴─────────────┴─────────────┴─────────────┴─────────────┴─────────────┘"
      ]
     },
     "execution_count": 10,
     "metadata": {},
     "output_type": "execute_result"
    }
   ],
   "source": [
    "anon = DataAnonymization(config=Config(config_file='config.json'))\n",
    "anon.process()"
   ]
  },
  {
   "attachments": {},
   "cell_type": "markdown",
   "metadata": {},
   "source": [
    "## Exporting\n",
    "Two functions export:\n",
    "- `create_mapping_file()` writes the mapping file of the predictor names\n",
    "- `write_to_output()` writes the processed dataframe to disk\n",
    "\n",
    "Write to output accepts the following extensions: `[\"ndjson\", \"parquet\", \"arrow\", \"csv\"]`"
   ]
  },
  {
   "cell_type": "code",
   "execution_count": 11,
   "metadata": {
    "execution": {
     "iopub.execute_input": "2024-06-18T15:09:37.327671Z",
     "iopub.status.busy": "2024-06-18T15:09:37.327365Z",
     "iopub.status.idle": "2024-06-18T15:09:37.330836Z",
     "shell.execute_reply": "2024-06-18T15:09:37.330293Z"
    }
   },
   "outputs": [
    {
     "name": "stdout",
     "output_type": "stream",
     "text": [
      "Customer_City=PREDICTOR_0\n",
      "filename=filename\n",
      "Customer_MaritalStatus=PREDICTOR_2\n",
      "Customer_CLV=PREDICTOR_3\n",
      "Context_Name=Context_Name\n",
      "IH_Web_Inbound_Accepted_pxLastGroupID=IH_Web_Inbound_Accepted_pxLastGroupID\n",
      "Decision_Outcome=Decision_Outcome\n",
      "\n"
     ]
    }
   ],
   "source": [
    "anon.create_mapping_file()\n",
    "with open('mapping.map') as f:\n",
    "    print(f.read())"
   ]
  },
  {
   "cell_type": "code",
   "execution_count": 12,
   "metadata": {
    "execution": {
     "iopub.execute_input": "2024-06-18T15:09:37.332951Z",
     "iopub.status.busy": "2024-06-18T15:09:37.332583Z",
     "iopub.status.idle": "2024-06-18T15:09:37.336062Z",
     "shell.execute_reply": "2024-06-18T15:09:37.335558Z"
    }
   },
   "outputs": [],
   "source": [
    "anon.write_to_output(ext='arrow')"
   ]
  },
  {
   "cell_type": "code",
   "execution_count": 13,
   "metadata": {
    "execution": {
     "iopub.execute_input": "2024-06-18T15:09:37.338045Z",
     "iopub.status.busy": "2024-06-18T15:09:37.337747Z",
     "iopub.status.idle": "2024-06-18T15:09:37.341951Z",
     "shell.execute_reply": "2024-06-18T15:09:37.341526Z"
    }
   },
   "outputs": [
    {
     "data": {
      "text/html": [
       "<div><style>\n",
       ".dataframe > thead > tr,\n",
       ".dataframe > tbody > tr {\n",
       "  text-align: right;\n",
       "  white-space: pre-wrap;\n",
       "}\n",
       "</style>\n",
       "<small>shape: (7, 6)</small><table border=\"1\" class=\"dataframe\"><thead><tr><th>PREDICTOR_0</th><th>PREDICTOR_2</th><th>PREDICTOR_3</th><th>Context_Name</th><th>IH_Web_Inbound_Accepted_pxLastGroupID</th><th>Decision_Outcome</th></tr><tr><td>str</td><td>str</td><td>f64</td><td>str</td><td>str</td><td>str</td></tr></thead><tbody><tr><td>&quot;16432589228082651687&quot;</td><td>&quot;13060153580748269977&quot;</td><td>8.4186e18</td><td>&quot;FirstMortgage30yr&quot;</td><td>&quot;8553180119775720838&quot;</td><td>&quot;Rejected&quot;</td></tr><tr><td>&quot;14943685715148380089&quot;</td><td>&quot;6122781821376309222&quot;</td><td>1.6719e19</td><td>&quot;FirstMortgage30yr&quot;</td><td>&quot;9920794390560520769&quot;</td><td>&quot;Accepted&quot;</td></tr><tr><td>&quot;14221851940079056010&quot;</td><td>&quot;11576141859736881560&quot;</td><td>1.3276e19</td><td>&quot;MoneyMarketSavingsAccount&quot;</td><td>&quot;8553180119775720838&quot;</td><td>&quot;Rejected&quot;</td></tr><tr><td>&quot;3681168313723602867&quot;</td><td>&quot;6122781821376309222&quot;</td><td>8.0982e18</td><td>&quot;BasicChecking&quot;</td><td>&quot;8553180119775720838&quot;</td><td>&quot;Rejected&quot;</td></tr><tr><td>&quot;2584503479983220052&quot;</td><td>&quot;13060153580748269977&quot;</td><td>4.0588e18</td><td>&quot;BasicChecking&quot;</td><td>&quot;7784849784146206540&quot;</td><td>&quot;Accepted&quot;</td></tr><tr><td>&quot;12405793527474579255&quot;</td><td>&quot;11576141859736881560&quot;</td><td>1.2600e19</td><td>&quot;UPlusFinPersonal&quot;</td><td>null</td><td>&quot;Rejected&quot;</td></tr><tr><td>&quot;15029403341541610783&quot;</td><td>&quot;11576141859736881560&quot;</td><td>3.4771e18</td><td>&quot;BasicChecking&quot;</td><td>&quot;7784849784146206540&quot;</td><td>&quot;Rejected&quot;</td></tr></tbody></table></div>"
      ],
      "text/plain": [
       "shape: (7, 6)\n",
       "┌────────────────┬────────────────┬─────────────┬────────────────┬────────────────┬────────────────┐\n",
       "│ PREDICTOR_0    ┆ PREDICTOR_2    ┆ PREDICTOR_3 ┆ Context_Name   ┆ IH_Web_Inbound ┆ Decision_Outco │\n",
       "│ ---            ┆ ---            ┆ ---         ┆ ---            ┆ _Accepted_pxLa ┆ me             │\n",
       "│ str            ┆ str            ┆ f64         ┆ str            ┆ st…            ┆ ---            │\n",
       "│                ┆                ┆             ┆                ┆ ---            ┆ str            │\n",
       "│                ┆                ┆             ┆                ┆ str            ┆                │\n",
       "╞════════════════╪════════════════╪═════════════╪════════════════╪════════════════╪════════════════╡\n",
       "│ 16432589228082 ┆ 13060153580748 ┆ 8.4186e18   ┆ FirstMortgage3 ┆ 85531801197757 ┆ Rejected       │\n",
       "│ 651687         ┆ 269977         ┆             ┆ 0yr            ┆ 20838          ┆                │\n",
       "│ 14943685715148 ┆ 61227818213763 ┆ 1.6719e19   ┆ FirstMortgage3 ┆ 99207943905605 ┆ Accepted       │\n",
       "│ 380089         ┆ 09222          ┆             ┆ 0yr            ┆ 20769          ┆                │\n",
       "│ 14221851940079 ┆ 11576141859736 ┆ 1.3276e19   ┆ MoneyMarketSav ┆ 85531801197757 ┆ Rejected       │\n",
       "│ 056010         ┆ 881560         ┆             ┆ ingsAccount    ┆ 20838          ┆                │\n",
       "│ 36811683137236 ┆ 61227818213763 ┆ 8.0982e18   ┆ BasicChecking  ┆ 85531801197757 ┆ Rejected       │\n",
       "│ 02867          ┆ 09222          ┆             ┆                ┆ 20838          ┆                │\n",
       "│ 25845034799832 ┆ 13060153580748 ┆ 4.0588e18   ┆ BasicChecking  ┆ 77848497841462 ┆ Accepted       │\n",
       "│ 20052          ┆ 269977         ┆             ┆                ┆ 06540          ┆                │\n",
       "│ 12405793527474 ┆ 11576141859736 ┆ 1.2600e19   ┆ UPlusFinPerson ┆ null           ┆ Rejected       │\n",
       "│ 579255         ┆ 881560         ┆             ┆ al             ┆                ┆                │\n",
       "│ 15029403341541 ┆ 11576141859736 ┆ 3.4771e18   ┆ BasicChecking  ┆ 77848497841462 ┆ Rejected       │\n",
       "│ 610783         ┆ 881560         ┆             ┆                ┆ 06540          ┆                │\n",
       "└────────────────┴────────────────┴─────────────┴────────────────┴────────────────┴────────────────┘"
      ]
     },
     "execution_count": 13,
     "metadata": {},
     "output_type": "execute_result"
    }
   ],
   "source": [
    "pl.read_ipc('output/hds.arrow')"
   ]
  },
  {
   "attachments": {},
   "cell_type": "markdown",
   "metadata": {
    "nbsphinx": "hidden"
   },
   "source": [
    "## Advanced: Hash fuctions\n",
    "\n",
    "By default, we use [the same hashing algorithm Polars](https://pola-rs.github.io/polars/py-polars/html/reference/expressions/api/polars.Expr.hash.html#polars.Expr.hash) uses: [xxhash](https://github.com/Cyan4973/xxHash), as implemented [here](https://github.com/pola-rs/polars/blob/3f287f370b3c388ed2f3f218b2c096382548136f/polars/polars-core/src/vector_hasher.rs#L266). xxhash is fast to compute, and you can check its performance in collision, dispersion and randomness [here](https://github.com/Cyan4973/xxHash/tree/dev/tests). \n",
    "\n",
    "xxhash accepts four distinct seeds, but by default we set the seeds to `0`. It is possible to set the `seed` argument of the `process()` function to `'random'`, which will set all four seeds to a random integer between `0` and `1000000000`. Alternatively, it is possible to supply the four seeds manually with arguments `seed`, `seed_1`, `seed_2` and `seed_3`. \n",
    "\n",
    "If the xxhash with (random) seed(s) is not deemed sufficiently secure, it is possible to use your own hashing algorithm.\n",
    "\n",
    "Note that since we're now running python code and not native Polars code anymore, this will be _significantly_ slower. Nonetheless, it is possible.\n",
    "\n",
    "Just as an example - this is how one would use sha3_256:"
   ]
  },
  {
   "cell_type": "code",
   "execution_count": 14,
   "metadata": {
    "execution": {
     "iopub.execute_input": "2024-06-18T15:09:37.343880Z",
     "iopub.status.busy": "2024-06-18T15:09:37.343575Z",
     "iopub.status.idle": "2024-06-18T15:09:37.672739Z",
     "shell.execute_reply": "2024-06-18T15:09:37.672199Z"
    },
    "nbsphinx": "hidden"
   },
   "outputs": [
    {
     "name": "stderr",
     "output_type": "stream",
     "text": [
      "sys:1: MapWithoutReturnDtypeWarning:\n",
      "\n",
      "Calling `map_elements` without specifying `return_dtype` can lead to unpredictable results. Specify `return_dtype` to silence this warning.\n",
      "\n",
      "sys:1: MapWithoutReturnDtypeWarning:\n",
      "\n",
      "Calling `map_elements` without specifying `return_dtype` can lead to unpredictable results. Specify `return_dtype` to silence this warning.\n",
      "\n",
      "sys:1: MapWithoutReturnDtypeWarning:\n",
      "\n",
      "Calling `map_elements` without specifying `return_dtype` can lead to unpredictable results. Specify `return_dtype` to silence this warning.\n",
      "\n",
      "sys:1: MapWithoutReturnDtypeWarning:\n",
      "\n",
      "Calling `map_elements` without specifying `return_dtype` can lead to unpredictable results. Specify `return_dtype` to silence this warning.\n",
      "\n"
     ]
    },
    {
     "ename": "ComputeError",
     "evalue": "AttributeError: 'int' object has no attribute 'encode'",
     "output_type": "error",
     "traceback": [
      "\u001b[0;31m---------------------------------------------------------------------------\u001b[0m",
      "\u001b[0;31mComputeError\u001b[0m                              Traceback (most recent call last)",
      "Cell \u001b[0;32mIn[14], line 3\u001b[0m\n\u001b[1;32m      1\u001b[0m \u001b[38;5;28;01mfrom\u001b[39;00m \u001b[38;5;21;01mhashlib\u001b[39;00m \u001b[38;5;28;01mimport\u001b[39;00m sha3_256\n\u001b[0;32m----> 3\u001b[0m \u001b[43manon\u001b[49m\u001b[38;5;241;43m.\u001b[39;49m\u001b[43mprocess\u001b[49m\u001b[43m(\u001b[49m\u001b[43malgorithm\u001b[49m\u001b[38;5;241;43m=\u001b[39;49m\u001b[38;5;28;43;01mlambda\u001b[39;49;00m\u001b[43m \u001b[49m\u001b[43mx\u001b[49m\u001b[43m:\u001b[49m\u001b[43m \u001b[49m\u001b[43msha3_256\u001b[49m\u001b[43m(\u001b[49m\u001b[43mx\u001b[49m\u001b[38;5;241;43m.\u001b[39;49m\u001b[43mencode\u001b[49m\u001b[43m(\u001b[49m\u001b[43m)\u001b[49m\u001b[43m)\u001b[49m\u001b[38;5;241;43m.\u001b[39;49m\u001b[43mhexdigest\u001b[49m\u001b[43m(\u001b[49m\u001b[43m)\u001b[49m\u001b[43m)\u001b[49m\n",
      "File \u001b[0;32m~/work/pega-datascientist-tools/pega-datascientist-tools/python/docs/source/articles/../../../pdstools/utils/hds_utils.py:512\u001b[0m, in \u001b[0;36mDataAnonymization.process\u001b[0;34m(self, strategy, **kwargs)\u001b[0m\n\u001b[1;32m    510\u001b[0m df \u001b[38;5;241m=\u001b[39m df\u001b[38;5;241m.\u001b[39mselect(\u001b[38;5;28mself\u001b[39m\u001b[38;5;241m.\u001b[39mcolumn_mapping\u001b[38;5;241m.\u001b[39mkeys())\u001b[38;5;241m.\u001b[39mrename(\u001b[38;5;28mself\u001b[39m\u001b[38;5;241m.\u001b[39mcolumn_mapping)\n\u001b[1;32m    511\u001b[0m \u001b[38;5;28;01mif\u001b[39;00m strategy \u001b[38;5;241m==\u001b[39m \u001b[38;5;124m\"\u001b[39m\u001b[38;5;124meager\u001b[39m\u001b[38;5;124m\"\u001b[39m:\n\u001b[0;32m--> 512\u001b[0m     \u001b[38;5;28;01mreturn\u001b[39;00m \u001b[43mdf\u001b[49m\u001b[38;5;241;43m.\u001b[39;49m\u001b[43mcollect\u001b[49m\u001b[43m(\u001b[49m\u001b[43m)\u001b[49m\n\u001b[1;32m    513\u001b[0m \u001b[38;5;28;01mreturn\u001b[39;00m df\n",
      "File \u001b[0;32m/opt/hostedtoolcache/Python/3.11.9/x64/lib/python3.11/site-packages/polars/lazyframe/frame.py:1967\u001b[0m, in \u001b[0;36mLazyFrame.collect\u001b[0;34m(self, type_coercion, predicate_pushdown, projection_pushdown, simplify_expression, slice_pushdown, comm_subplan_elim, comm_subexpr_elim, cluster_with_columns, no_optimization, streaming, background, _eager, **_kwargs)\u001b[0m\n\u001b[1;32m   1964\u001b[0m \u001b[38;5;66;03m# Only for testing purposes atm.\u001b[39;00m\n\u001b[1;32m   1965\u001b[0m callback \u001b[38;5;241m=\u001b[39m _kwargs\u001b[38;5;241m.\u001b[39mget(\u001b[38;5;124m\"\u001b[39m\u001b[38;5;124mpost_opt_callback\u001b[39m\u001b[38;5;124m\"\u001b[39m)\n\u001b[0;32m-> 1967\u001b[0m \u001b[38;5;28;01mreturn\u001b[39;00m wrap_df(\u001b[43mldf\u001b[49m\u001b[38;5;241;43m.\u001b[39;49m\u001b[43mcollect\u001b[49m\u001b[43m(\u001b[49m\u001b[43mcallback\u001b[49m\u001b[43m)\u001b[49m)\n",
      "\u001b[0;31mComputeError\u001b[0m: AttributeError: 'int' object has no attribute 'encode'"
     ]
    }
   ],
   "source": [
    "from hashlib import sha3_256\n",
    "\n",
    "anon.process(algorithm=lambda x: sha3_256(x.encode()).hexdigest())"
   ]
  }
 ],
 "metadata": {
  "kernelspec": {
   "display_name": "Python 3",
   "language": "python",
   "name": "python3"
  },
  "language_info": {
   "codemirror_mode": {
    "name": "ipython",
    "version": 3
   },
   "file_extension": ".py",
   "mimetype": "text/x-python",
   "name": "python",
   "nbconvert_exporter": "python",
   "pygments_lexer": "ipython3",
   "version": "3.11.9"
  },
  "vscode": {
   "interpreter": {
    "hash": "aee8b7b246df8f9039afb4144a1f6fd8d2ca17a180786b69acc140d282b71a49"
   }
  }
 },
 "nbformat": 4,
 "nbformat_minor": 2
}
