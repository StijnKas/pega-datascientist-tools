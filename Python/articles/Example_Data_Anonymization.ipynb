{
 "cells": [
  {
   "attachments": {},
   "cell_type": "markdown",
   "metadata": {},
   "source": [
    "# Example data anonymization\n",
    "\n",
    "In Pega CDH 8.5 and up, it's now possible to record the historical data as seen by the Adaptive Models. See [this academy challenge](https://academy.pega.com/challenge/exporting-historical-data/v4) for reference. This historical data can be further used to experiment with offline models, but also to fine-tune the OOTB Gradient Boosting model. However, sharing this information with Pega can be sensitive as it contains raw predictor data. \n",
    "\n",
    "To this end, we provide a simple and transparent script to fully anonimize this dataset.\n",
    "\n",
    "The DataAnonymization script is now part of pdstools, and you can import it directly as such."
   ]
  },
  {
   "cell_type": "code",
   "execution_count": 1,
   "metadata": {
    "execution": {
     "iopub.execute_input": "2023-11-07T11:50:31.834693Z",
     "iopub.status.busy": "2023-11-07T11:50:31.834244Z",
     "iopub.status.idle": "2023-11-07T11:50:31.909106Z",
     "shell.execute_reply": "2023-11-07T11:50:31.908482Z"
    },
    "nbsphinx": "hidden"
   },
   "outputs": [],
   "source": [
    "# These lines are only for rendering in the docs, and are hidden through Jupyter tags\n",
    "# Do not run if you're running the notebook seperately\n",
    "\n",
    "import os  \n",
    "import sys\n",
    "import plotly.io as pio\n",
    "pio.renderers.default = \"notebook_connected\"\n",
    "\n",
    "sys.path.append(\"../../../\")\n",
    "sys.path.append('../../python')"
   ]
  },
  {
   "cell_type": "code",
   "execution_count": 2,
   "metadata": {
    "execution": {
     "iopub.execute_input": "2023-11-07T11:50:31.911804Z",
     "iopub.status.busy": "2023-11-07T11:50:31.911451Z",
     "iopub.status.idle": "2023-11-07T11:50:32.990367Z",
     "shell.execute_reply": "2023-11-07T11:50:32.989861Z"
    }
   },
   "outputs": [],
   "source": [
    "from pdstools import ADMDatamart\n",
    "from pdstools import Config, DataAnonymization\n",
    "import polars as pl"
   ]
  },
  {
   "attachments": {},
   "cell_type": "markdown",
   "metadata": {},
   "source": [
    "## Input data\n",
    "\n",
    "To demonstrate this process, we're going to anonymise this toy example dataframe:"
   ]
  },
  {
   "cell_type": "code",
   "execution_count": 3,
   "metadata": {
    "execution": {
     "iopub.execute_input": "2023-11-07T11:50:32.992845Z",
     "iopub.status.busy": "2023-11-07T11:50:32.992571Z",
     "iopub.status.idle": "2023-11-07T11:50:33.002778Z",
     "shell.execute_reply": "2023-11-07T11:50:33.002205Z"
    }
   },
   "outputs": [
    {
     "data": {
      "text/html": [
       "<div><style>\n",
       ".dataframe > thead > tr > th,\n",
       ".dataframe > tbody > tr > td {\n",
       "  text-align: right;\n",
       "  white-space: pre-wrap;\n",
       "}\n",
       "</style>\n",
       "<small>shape: (7, 6)</small><table border=\"1\" class=\"dataframe\"><thead><tr><th>Context_Name</th><th>Customer_MaritalStatus</th><th>Customer_CLV</th><th>Customer_City</th><th>IH_Web_Inbound_Accepted_pxLastGroupID</th><th>Decision_Outcome</th></tr><tr><td>str</td><td>str</td><td>i64</td><td>str</td><td>str</td><td>str</td></tr></thead><tbody><tr><td>&quot;FirstMortgage3…</td><td>&quot;Married&quot;</td><td>1460</td><td>&quot;Port Raoul&quot;</td><td>&quot;Account&quot;</td><td>&quot;Rejected&quot;</td></tr><tr><td>&quot;FirstMortgage3…</td><td>&quot;Unknown&quot;</td><td>669</td><td>&quot;Laurianneshire…</td><td>&quot;AutoLoans&quot;</td><td>&quot;Accepted&quot;</td></tr><tr><td>&quot;MoneyMarketSav…</td><td>&quot;No Resp+&quot;</td><td>1174</td><td>&quot;Jacobshaven&quot;</td><td>&quot;Account&quot;</td><td>&quot;Rejected&quot;</td></tr><tr><td>&quot;BasicChecking&quot;</td><td>&quot;Unknown&quot;</td><td>1476</td><td>&quot;Lindton&quot;</td><td>&quot;Account&quot;</td><td>&quot;Rejected&quot;</td></tr><tr><td>&quot;BasicChecking&quot;</td><td>&quot;Married&quot;</td><td>1211</td><td>&quot;South Jimmiesh…</td><td>&quot;DepositAccount…</td><td>&quot;Accepted&quot;</td></tr><tr><td>&quot;UPlusFinPerson…</td><td>&quot;No Resp+&quot;</td><td>533</td><td>&quot;Bergeville&quot;</td><td>null</td><td>&quot;Rejected&quot;</td></tr><tr><td>&quot;BasicChecking&quot;</td><td>&quot;No Resp+&quot;</td><td>555</td><td>&quot;Willyville&quot;</td><td>&quot;DepositAccount…</td><td>&quot;Rejected&quot;</td></tr></tbody></table></div>"
      ],
      "text/plain": [
       "shape: (7, 6)\n",
       "┌────────────────┬────────────────┬──────────────┬────────────────┬────────────────┬───────────────┐\n",
       "│ Context_Name   ┆ Customer_Marit ┆ Customer_CLV ┆ Customer_City  ┆ IH_Web_Inbound ┆ Decision_Outc │\n",
       "│ ---            ┆ alStatus       ┆ ---          ┆ ---            ┆ _Accepted_pxLa ┆ ome           │\n",
       "│ str            ┆ ---            ┆ i64          ┆ str            ┆ stGr…          ┆ ---           │\n",
       "│                ┆ str            ┆              ┆                ┆ ---            ┆ str           │\n",
       "│                ┆                ┆              ┆                ┆ str            ┆               │\n",
       "╞════════════════╪════════════════╪══════════════╪════════════════╪════════════════╪═══════════════╡\n",
       "│ FirstMortgage3 ┆ Married        ┆ 1460         ┆ Port Raoul     ┆ Account        ┆ Rejected      │\n",
       "│ 0yr            ┆                ┆              ┆                ┆                ┆               │\n",
       "│ FirstMortgage3 ┆ Unknown        ┆ 669          ┆ Laurianneshire ┆ AutoLoans      ┆ Accepted      │\n",
       "│ 0yr            ┆                ┆              ┆                ┆                ┆               │\n",
       "│ MoneyMarketSav ┆ No Resp+       ┆ 1174         ┆ Jacobshaven    ┆ Account        ┆ Rejected      │\n",
       "│ ingsAccount    ┆                ┆              ┆                ┆                ┆               │\n",
       "│ BasicChecking  ┆ Unknown        ┆ 1476         ┆ Lindton        ┆ Account        ┆ Rejected      │\n",
       "│ BasicChecking  ┆ Married        ┆ 1211         ┆ South          ┆ DepositAccount ┆ Accepted      │\n",
       "│                ┆                ┆              ┆ Jimmieshire    ┆ s              ┆               │\n",
       "│ UPlusFinPerson ┆ No Resp+       ┆ 533          ┆ Bergeville     ┆ null           ┆ Rejected      │\n",
       "│ al             ┆                ┆              ┆                ┆                ┆               │\n",
       "│ BasicChecking  ┆ No Resp+       ┆ 555          ┆ Willyville     ┆ DepositAccount ┆ Rejected      │\n",
       "│                ┆                ┆              ┆                ┆ s              ┆               │\n",
       "└────────────────┴────────────────┴──────────────┴────────────────┴────────────────┴───────────────┘"
      ]
     },
     "execution_count": 3,
     "metadata": {},
     "output_type": "execute_result"
    }
   ],
   "source": [
    "pl.read_ndjson('../../../../data/SampleHDS.json')"
   ]
  },
  {
   "attachments": {},
   "cell_type": "markdown",
   "metadata": {},
   "source": [
    "As you can see, this dataset consists of regular predictors, IH predictors, context keys and the outcome column. Additionally, some columns are numeric, others are strings. Let's first initialize the DataAnonymization class."
   ]
  },
  {
   "cell_type": "code",
   "execution_count": 4,
   "metadata": {
    "execution": {
     "iopub.execute_input": "2023-11-07T11:50:33.005076Z",
     "iopub.status.busy": "2023-11-07T11:50:33.004682Z",
     "iopub.status.idle": "2023-11-07T11:50:33.013302Z",
     "shell.execute_reply": "2023-11-07T11:50:33.012816Z"
    }
   },
   "outputs": [],
   "source": [
    "anon = DataAnonymization(hds_folder='../../../../data/')"
   ]
  },
  {
   "attachments": {},
   "cell_type": "markdown",
   "metadata": {},
   "source": [
    "By default, the class applies a set of anonymisation techniques:\n",
    "- Column names are remapped to a non-descriptive name\n",
    "- Categorical values are hashed with a random seed\n",
    "- Numerical values are normalized between 0 and 1\n",
    "- Outcomes are mapped to a binary outcome.\n",
    "\n",
    "To apply these techniques, simply call `.process()`:"
   ]
  },
  {
   "cell_type": "code",
   "execution_count": 5,
   "metadata": {
    "execution": {
     "iopub.execute_input": "2023-11-07T11:50:33.015385Z",
     "iopub.status.busy": "2023-11-07T11:50:33.015070Z",
     "iopub.status.idle": "2023-11-07T11:50:33.020816Z",
     "shell.execute_reply": "2023-11-07T11:50:33.020277Z"
    }
   },
   "outputs": [
    {
     "data": {
      "text/html": [
       "<div><style>\n",
       ".dataframe > thead > tr > th,\n",
       ".dataframe > tbody > tr > td {\n",
       "  text-align: right;\n",
       "  white-space: pre-wrap;\n",
       "}\n",
       "</style>\n",
       "<small>shape: (7, 7)</small><table border=\"1\" class=\"dataframe\"><thead><tr><th>PREDICTOR_0</th><th>filename</th><th>PREDICTOR_2</th><th>PREDICTOR_3</th><th>Context_Name</th><th>IH_PREDICTOR_0</th><th>Decision_Outcome</th></tr><tr><td>str</td><td>str</td><td>str</td><td>f64</td><td>str</td><td>str</td><td>bool</td></tr></thead><tbody><tr><td>&quot;23552806617768…</td><td>&quot;../../../../da…</td><td>&quot;12478847011144…</td><td>1.2927e19</td><td>&quot;53181871686849…</td><td>&quot;73486916771591…</td><td>false</td></tr><tr><td>&quot;11203646027416…</td><td>&quot;../../../../da…</td><td>&quot;51331588507631…</td><td>1.4856e19</td><td>&quot;53181871686849…</td><td>&quot;77524152222441…</td><td>true</td></tr><tr><td>&quot;16291894748580…</td><td>&quot;../../../../da…</td><td>&quot;17598768569952…</td><td>5.6458e17</td><td>&quot;49593458876464…</td><td>&quot;73486916771591…</td><td>false</td></tr><tr><td>&quot;15020103529459…</td><td>&quot;../../../../da…</td><td>&quot;51331588507631…</td><td>4.0723e18</td><td>&quot;28126977189983…</td><td>&quot;73486916771591…</td><td>false</td></tr><tr><td>&quot;14359294575251…</td><td>&quot;../../../../da…</td><td>&quot;12478847011144…</td><td>1.4677e19</td><td>&quot;28126977189983…</td><td>&quot;88860952613008…</td><td>true</td></tr><tr><td>&quot;12338046023035…</td><td>&quot;../../../../da…</td><td>&quot;17598768569952…</td><td>1.6330e19</td><td>&quot;10909324345280…</td><td>null</td><td>false</td></tr><tr><td>&quot;13455182873306…</td><td>&quot;../../../../da…</td><td>&quot;17598768569952…</td><td>8.7675e18</td><td>&quot;28126977189983…</td><td>&quot;88860952613008…</td><td>false</td></tr></tbody></table></div>"
      ],
      "text/plain": [
       "shape: (7, 7)\n",
       "┌──────────────┬─────────────┬─────────────┬─────────────┬─────────────┬─────────────┬─────────────┐\n",
       "│ PREDICTOR_0  ┆ filename    ┆ PREDICTOR_2 ┆ PREDICTOR_3 ┆ Context_Nam ┆ IH_PREDICTO ┆ Decision_Ou │\n",
       "│ ---          ┆ ---         ┆ ---         ┆ ---         ┆ e           ┆ R_0         ┆ tcome       │\n",
       "│ str          ┆ str         ┆ str         ┆ f64         ┆ ---         ┆ ---         ┆ ---         │\n",
       "│              ┆             ┆             ┆             ┆ str         ┆ str         ┆ bool        │\n",
       "╞══════════════╪═════════════╪═════════════╪═════════════╪═════════════╪═════════════╪═════════════╡\n",
       "│ 235528066177 ┆ ../../../.. ┆ 12478847011 ┆ 1.2927e19   ┆ 53181871686 ┆ 73486916771 ┆ false       │\n",
       "│ 685954       ┆ /data/Sampl ┆ 144522185   ┆             ┆ 84906352    ┆ 59122863    ┆             │\n",
       "│              ┆ eHDS.json   ┆             ┆             ┆             ┆             ┆             │\n",
       "│ 112036460274 ┆ ../../../.. ┆ 51331588507 ┆ 1.4856e19   ┆ 53181871686 ┆ 77524152222 ┆ true        │\n",
       "│ 16156417     ┆ /data/Sampl ┆ 6319990     ┆             ┆ 84906352    ┆ 4411320     ┆             │\n",
       "│              ┆ eHDS.json   ┆             ┆             ┆             ┆             ┆             │\n",
       "│ 162918947485 ┆ ../../../.. ┆ 17598768569 ┆ 5.6458e17   ┆ 49593458876 ┆ 73486916771 ┆ false       │\n",
       "│ 80678912     ┆ /data/Sampl ┆ 952174100   ┆             ┆ 46403357    ┆ 59122863    ┆             │\n",
       "│              ┆ eHDS.json   ┆             ┆             ┆             ┆             ┆             │\n",
       "│ 150201035294 ┆ ../../../.. ┆ 51331588507 ┆ 4.0723e18   ┆ 28126977189 ┆ 73486916771 ┆ false       │\n",
       "│ 59991586     ┆ /data/Sampl ┆ 6319990     ┆             ┆ 98342874    ┆ 59122863    ┆             │\n",
       "│              ┆ eHDS.json   ┆             ┆             ┆             ┆             ┆             │\n",
       "│ 143592945752 ┆ ../../../.. ┆ 12478847011 ┆ 1.4677e19   ┆ 28126977189 ┆ 88860952613 ┆ true        │\n",
       "│ 51123571     ┆ /data/Sampl ┆ 144522185   ┆             ┆ 98342874    ┆ 00880678    ┆             │\n",
       "│              ┆ eHDS.json   ┆             ┆             ┆             ┆             ┆             │\n",
       "│ 123380460230 ┆ ../../../.. ┆ 17598768569 ┆ 1.6330e19   ┆ 10909324345 ┆ null        ┆ false       │\n",
       "│ 35418071     ┆ /data/Sampl ┆ 952174100   ┆             ┆ 280747890   ┆             ┆             │\n",
       "│              ┆ eHDS.json   ┆             ┆             ┆             ┆             ┆             │\n",
       "│ 134551828733 ┆ ../../../.. ┆ 17598768569 ┆ 8.7675e18   ┆ 28126977189 ┆ 88860952613 ┆ false       │\n",
       "│ 06935603     ┆ /data/Sampl ┆ 952174100   ┆             ┆ 98342874    ┆ 00880678    ┆             │\n",
       "│              ┆ eHDS.json   ┆             ┆             ┆             ┆             ┆             │\n",
       "└──────────────┴─────────────┴─────────────┴─────────────┴─────────────┴─────────────┴─────────────┘"
      ]
     },
     "execution_count": 5,
     "metadata": {},
     "output_type": "execute_result"
    }
   ],
   "source": [
    "anon.process()"
   ]
  },
  {
   "attachments": {},
   "cell_type": "markdown",
   "metadata": {},
   "source": [
    "To trace back the columns to their original names, the class also contains a mapping, which does not have to be provided."
   ]
  },
  {
   "cell_type": "code",
   "execution_count": 6,
   "metadata": {
    "execution": {
     "iopub.execute_input": "2023-11-07T11:50:33.022883Z",
     "iopub.status.busy": "2023-11-07T11:50:33.022594Z",
     "iopub.status.idle": "2023-11-07T11:50:33.026222Z",
     "shell.execute_reply": "2023-11-07T11:50:33.025702Z"
    }
   },
   "outputs": [
    {
     "data": {
      "text/plain": [
       "{'Customer_City': 'PREDICTOR_0',\n",
       " 'filename': 'filename',\n",
       " 'Customer_MaritalStatus': 'PREDICTOR_2',\n",
       " 'Customer_CLV': 'PREDICTOR_3',\n",
       " 'Context_Name': 'Context_Name',\n",
       " 'IH_Web_Inbound_Accepted_pxLastGroupID': 'IH_PREDICTOR_0',\n",
       " 'Decision_Outcome': 'Decision_Outcome'}"
      ]
     },
     "execution_count": 6,
     "metadata": {},
     "output_type": "execute_result"
    }
   ],
   "source": [
    "anon.column_mapping"
   ]
  },
  {
   "attachments": {},
   "cell_type": "markdown",
   "metadata": {},
   "source": [
    "## Configs\n",
    "\n",
    "Each capability can optionally be turned off - see below for the full list of config options, and refer to the API reference for the full description."
   ]
  },
  {
   "cell_type": "code",
   "execution_count": 7,
   "metadata": {
    "execution": {
     "iopub.execute_input": "2023-11-07T11:50:33.028222Z",
     "iopub.status.busy": "2023-11-07T11:50:33.027932Z",
     "iopub.status.idle": "2023-11-07T11:50:33.032043Z",
     "shell.execute_reply": "2023-11-07T11:50:33.031528Z"
    }
   },
   "outputs": [
    {
     "data": {
      "text/plain": [
       "{'config_file': None,\n",
       " 'hds_folder': '.',\n",
       " 'use_datamart': False,\n",
       " 'datamart_folder': 'datamart',\n",
       " 'output_format': 'ndjson',\n",
       " 'output_folder': 'output',\n",
       " 'mapping_file': 'mapping.map',\n",
       " 'mask_predictor_names': True,\n",
       " 'mask_context_key_names': False,\n",
       " 'mask_ih_names': True,\n",
       " 'mask_outcome_name': False,\n",
       " 'mask_predictor_values': True,\n",
       " 'mask_context_key_values': True,\n",
       " 'mask_ih_values': True,\n",
       " 'mask_outcome_values': True,\n",
       " 'context_key_label': 'Context_*',\n",
       " 'ih_label': 'IH_*',\n",
       " 'outcome_column': 'Decision_Outcome',\n",
       " 'positive_outcomes': ['Accepted', 'Clicked'],\n",
       " 'negative_outcomes': ['Rejected', 'Impression'],\n",
       " 'special_predictors': ['Decision_DecisionTime',\n",
       "  'Decision_OutcomeTime',\n",
       "  'Decision_Rank'],\n",
       " 'sample_percentage_schema_inferencing': 0.01}"
      ]
     },
     "execution_count": 7,
     "metadata": {},
     "output_type": "execute_result"
    }
   ],
   "source": [
    "dict(zip(Config.__init__.__code__.co_varnames[1:], Config.__init__.__defaults__))"
   ]
  },
  {
   "attachments": {},
   "cell_type": "markdown",
   "metadata": {},
   "source": [
    "It's easy to change these parameters by just passing the keyword arguments. In the following example, we\n",
    "- Keep the IH predictor names\n",
    "- Keep the outcome values\n",
    "- Keep the context key values\n",
    "- Keep the context key predictor names"
   ]
  },
  {
   "cell_type": "code",
   "execution_count": 8,
   "metadata": {
    "execution": {
     "iopub.execute_input": "2023-11-07T11:50:33.034134Z",
     "iopub.status.busy": "2023-11-07T11:50:33.033822Z",
     "iopub.status.idle": "2023-11-07T11:50:33.043888Z",
     "shell.execute_reply": "2023-11-07T11:50:33.043335Z"
    }
   },
   "outputs": [
    {
     "data": {
      "text/html": [
       "<div><style>\n",
       ".dataframe > thead > tr > th,\n",
       ".dataframe > tbody > tr > td {\n",
       "  text-align: right;\n",
       "  white-space: pre-wrap;\n",
       "}\n",
       "</style>\n",
       "<small>shape: (7, 7)</small><table border=\"1\" class=\"dataframe\"><thead><tr><th>PREDICTOR_0</th><th>filename</th><th>PREDICTOR_2</th><th>PREDICTOR_3</th><th>Context_Name</th><th>IH_Web_Inbound_Accepted_pxLastGroupID</th><th>Decision_Outcome</th></tr><tr><td>str</td><td>str</td><td>str</td><td>f64</td><td>str</td><td>str</td><td>str</td></tr></thead><tbody><tr><td>&quot;16856143360333…</td><td>&quot;../../../../da…</td><td>&quot;50757166423645…</td><td>1.2927e19</td><td>&quot;FirstMortgage3…</td><td>&quot;92632348364226…</td><td>&quot;Rejected&quot;</td></tr><tr><td>&quot;16266417559788…</td><td>&quot;../../../../da…</td><td>&quot;14810279307003…</td><td>1.4856e19</td><td>&quot;FirstMortgage3…</td><td>&quot;13628395378127…</td><td>&quot;Accepted&quot;</td></tr><tr><td>&quot;88730172880564…</td><td>&quot;../../../../da…</td><td>&quot;10130082242291…</td><td>5.6458e17</td><td>&quot;MoneyMarketSav…</td><td>&quot;92632348364226…</td><td>&quot;Rejected&quot;</td></tr><tr><td>&quot;55980894655343…</td><td>&quot;../../../../da…</td><td>&quot;14810279307003…</td><td>4.0723e18</td><td>&quot;BasicChecking&quot;</td><td>&quot;92632348364226…</td><td>&quot;Rejected&quot;</td></tr><tr><td>&quot;11419986483450…</td><td>&quot;../../../../da…</td><td>&quot;50757166423645…</td><td>1.4677e19</td><td>&quot;BasicChecking&quot;</td><td>&quot;17961677291928…</td><td>&quot;Accepted&quot;</td></tr><tr><td>&quot;60812387458952…</td><td>&quot;../../../../da…</td><td>&quot;10130082242291…</td><td>1.6330e19</td><td>&quot;UPlusFinPerson…</td><td>null</td><td>&quot;Rejected&quot;</td></tr><tr><td>&quot;14076172515606…</td><td>&quot;../../../../da…</td><td>&quot;10130082242291…</td><td>8.7675e18</td><td>&quot;BasicChecking&quot;</td><td>&quot;17961677291928…</td><td>&quot;Rejected&quot;</td></tr></tbody></table></div>"
      ],
      "text/plain": [
       "shape: (7, 7)\n",
       "┌──────────────┬─────────────┬─────────────┬─────────────┬─────────────┬─────────────┬─────────────┐\n",
       "│ PREDICTOR_0  ┆ filename    ┆ PREDICTOR_2 ┆ PREDICTOR_3 ┆ Context_Nam ┆ IH_Web_Inbo ┆ Decision_Ou │\n",
       "│ ---          ┆ ---         ┆ ---         ┆ ---         ┆ e           ┆ und_Accepte ┆ tcome       │\n",
       "│ str          ┆ str         ┆ str         ┆ f64         ┆ ---         ┆ d_pxLastGr… ┆ ---         │\n",
       "│              ┆             ┆             ┆             ┆ str         ┆ ---         ┆ str         │\n",
       "│              ┆             ┆             ┆             ┆             ┆ str         ┆             │\n",
       "╞══════════════╪═════════════╪═════════════╪═════════════╪═════════════╪═════════════╪═════════════╡\n",
       "│ 168561433603 ┆ ../../../.. ┆ 50757166423 ┆ 1.2927e19   ┆ FirstMortga ┆ 92632348364 ┆ Rejected    │\n",
       "│ 33736621     ┆ /data/Sampl ┆ 64519585    ┆             ┆ ge30yr      ┆ 22624851    ┆             │\n",
       "│              ┆ eHDS.json   ┆             ┆             ┆             ┆             ┆             │\n",
       "│ 162664175597 ┆ ../../../.. ┆ 14810279307 ┆ 1.4856e19   ┆ FirstMortga ┆ 13628395378 ┆ Accepted    │\n",
       "│ 88856070     ┆ /data/Sampl ┆ 003122458   ┆             ┆ ge30yr      ┆ 127544756   ┆             │\n",
       "│              ┆ eHDS.json   ┆             ┆             ┆             ┆             ┆             │\n",
       "│ 887301728805 ┆ ../../../.. ┆ 10130082242 ┆ 5.6458e17   ┆ MoneyMarket ┆ 92632348364 ┆ Rejected    │\n",
       "│ 640884       ┆ /data/Sampl ┆ 291725503   ┆             ┆ SavingsAcco ┆ 22624851    ┆             │\n",
       "│              ┆ eHDS.json   ┆             ┆             ┆ unt         ┆             ┆             │\n",
       "│ 559808946553 ┆ ../../../.. ┆ 14810279307 ┆ 4.0723e18   ┆ BasicChecki ┆ 92632348364 ┆ Rejected    │\n",
       "│ 431390       ┆ /data/Sampl ┆ 003122458   ┆             ┆ ng          ┆ 22624851    ┆             │\n",
       "│              ┆ eHDS.json   ┆             ┆             ┆             ┆             ┆             │\n",
       "│ 114199864834 ┆ ../../../.. ┆ 50757166423 ┆ 1.4677e19   ┆ BasicChecki ┆ 17961677291 ┆ Accepted    │\n",
       "│ 50083185     ┆ /data/Sampl ┆ 64519585    ┆             ┆ ng          ┆ 928433044   ┆             │\n",
       "│              ┆ eHDS.json   ┆             ┆             ┆             ┆             ┆             │\n",
       "│ 608123874589 ┆ ../../../.. ┆ 10130082242 ┆ 1.6330e19   ┆ UPlusFinPer ┆ null        ┆ Rejected    │\n",
       "│ 5208235      ┆ /data/Sampl ┆ 291725503   ┆             ┆ sonal       ┆             ┆             │\n",
       "│              ┆ eHDS.json   ┆             ┆             ┆             ┆             ┆             │\n",
       "│ 140761725156 ┆ ../../../.. ┆ 10130082242 ┆ 8.7675e18   ┆ BasicChecki ┆ 17961677291 ┆ Rejected    │\n",
       "│ 06386477     ┆ /data/Sampl ┆ 291725503   ┆             ┆ ng          ┆ 928433044   ┆             │\n",
       "│              ┆ eHDS.json   ┆             ┆             ┆             ┆             ┆             │\n",
       "└──────────────┴─────────────┴─────────────┴─────────────┴─────────────┴─────────────┴─────────────┘"
      ]
     },
     "execution_count": 8,
     "metadata": {},
     "output_type": "execute_result"
    }
   ],
   "source": [
    "anon = DataAnonymization(\n",
    "    hds_folder=\"../../../../data/\",\n",
    "    mask_ih_names=False,\n",
    "    mask_outcome_values=False,\n",
    "    mask_context_key_values=False,\n",
    "    mask_context_key_names=False,\n",
    ")\n",
    "anon.process()\n"
   ]
  },
  {
   "attachments": {},
   "cell_type": "markdown",
   "metadata": {},
   "source": [
    "The configs can also be written and read as such:"
   ]
  },
  {
   "cell_type": "code",
   "execution_count": 9,
   "metadata": {
    "execution": {
     "iopub.execute_input": "2023-11-07T11:50:33.046172Z",
     "iopub.status.busy": "2023-11-07T11:50:33.045830Z",
     "iopub.status.idle": "2023-11-07T11:50:33.048744Z",
     "shell.execute_reply": "2023-11-07T11:50:33.048303Z"
    }
   },
   "outputs": [],
   "source": [
    "anon.config.save_to_config_file('config.json')"
   ]
  },
  {
   "cell_type": "code",
   "execution_count": 10,
   "metadata": {
    "execution": {
     "iopub.execute_input": "2023-11-07T11:50:33.050756Z",
     "iopub.status.busy": "2023-11-07T11:50:33.050432Z",
     "iopub.status.idle": "2023-11-07T11:50:33.060446Z",
     "shell.execute_reply": "2023-11-07T11:50:33.059893Z"
    }
   },
   "outputs": [
    {
     "data": {
      "text/html": [
       "<div><style>\n",
       ".dataframe > thead > tr > th,\n",
       ".dataframe > tbody > tr > td {\n",
       "  text-align: right;\n",
       "  white-space: pre-wrap;\n",
       "}\n",
       "</style>\n",
       "<small>shape: (7, 7)</small><table border=\"1\" class=\"dataframe\"><thead><tr><th>PREDICTOR_0</th><th>filename</th><th>PREDICTOR_2</th><th>PREDICTOR_3</th><th>Context_Name</th><th>IH_Web_Inbound_Accepted_pxLastGroupID</th><th>Decision_Outcome</th></tr><tr><td>str</td><td>str</td><td>str</td><td>f64</td><td>str</td><td>str</td><td>str</td></tr></thead><tbody><tr><td>&quot;85936090012872…</td><td>&quot;../../../../da…</td><td>&quot;33478057394244…</td><td>1.2927e19</td><td>&quot;FirstMortgage3…</td><td>&quot;85536424774313…</td><td>&quot;Rejected&quot;</td></tr><tr><td>&quot;17533367152692…</td><td>&quot;../../../../da…</td><td>&quot;12539211838357…</td><td>1.4856e19</td><td>&quot;FirstMortgage3…</td><td>&quot;15192952310324…</td><td>&quot;Accepted&quot;</td></tr><tr><td>&quot;47711058209114…</td><td>&quot;../../../../da…</td><td>&quot;91202705446091…</td><td>5.6458e17</td><td>&quot;MoneyMarketSav…</td><td>&quot;85536424774313…</td><td>&quot;Rejected&quot;</td></tr><tr><td>&quot;16679681786618…</td><td>&quot;../../../../da…</td><td>&quot;12539211838357…</td><td>4.0723e18</td><td>&quot;BasicChecking&quot;</td><td>&quot;85536424774313…</td><td>&quot;Rejected&quot;</td></tr><tr><td>&quot;23145496808862…</td><td>&quot;../../../../da…</td><td>&quot;33478057394244…</td><td>1.4677e19</td><td>&quot;BasicChecking&quot;</td><td>&quot;37372273210997…</td><td>&quot;Accepted&quot;</td></tr><tr><td>&quot;13915605785454…</td><td>&quot;../../../../da…</td><td>&quot;91202705446091…</td><td>1.6330e19</td><td>&quot;UPlusFinPerson…</td><td>null</td><td>&quot;Rejected&quot;</td></tr><tr><td>&quot;12374486961166…</td><td>&quot;../../../../da…</td><td>&quot;91202705446091…</td><td>8.7675e18</td><td>&quot;BasicChecking&quot;</td><td>&quot;37372273210997…</td><td>&quot;Rejected&quot;</td></tr></tbody></table></div>"
      ],
      "text/plain": [
       "shape: (7, 7)\n",
       "┌──────────────┬─────────────┬─────────────┬─────────────┬─────────────┬─────────────┬─────────────┐\n",
       "│ PREDICTOR_0  ┆ filename    ┆ PREDICTOR_2 ┆ PREDICTOR_3 ┆ Context_Nam ┆ IH_Web_Inbo ┆ Decision_Ou │\n",
       "│ ---          ┆ ---         ┆ ---         ┆ ---         ┆ e           ┆ und_Accepte ┆ tcome       │\n",
       "│ str          ┆ str         ┆ str         ┆ f64         ┆ ---         ┆ d_pxLastGr… ┆ ---         │\n",
       "│              ┆             ┆             ┆             ┆ str         ┆ ---         ┆ str         │\n",
       "│              ┆             ┆             ┆             ┆             ┆ str         ┆             │\n",
       "╞══════════════╪═════════════╪═════════════╪═════════════╪═════════════╪═════════════╪═════════════╡\n",
       "│ 859360900128 ┆ ../../../.. ┆ 33478057394 ┆ 1.2927e19   ┆ FirstMortga ┆ 85536424774 ┆ Rejected    │\n",
       "│ 7225799      ┆ /data/Sampl ┆ 24414244    ┆             ┆ ge30yr      ┆ 31398932    ┆             │\n",
       "│              ┆ eHDS.json   ┆             ┆             ┆             ┆             ┆             │\n",
       "│ 175333671526 ┆ ../../../.. ┆ 12539211838 ┆ 1.4856e19   ┆ FirstMortga ┆ 15192952310 ┆ Accepted    │\n",
       "│ 92439709     ┆ /data/Sampl ┆ 357680431   ┆             ┆ ge30yr      ┆ 324015254   ┆             │\n",
       "│              ┆ eHDS.json   ┆             ┆             ┆             ┆             ┆             │\n",
       "│ 477110582091 ┆ ../../../.. ┆ 91202705446 ┆ 5.6458e17   ┆ MoneyMarket ┆ 85536424774 ┆ Rejected    │\n",
       "│ 1452304      ┆ /data/Sampl ┆ 09164079    ┆             ┆ SavingsAcco ┆ 31398932    ┆             │\n",
       "│              ┆ eHDS.json   ┆             ┆             ┆ unt         ┆             ┆             │\n",
       "│ 166796817866 ┆ ../../../.. ┆ 12539211838 ┆ 4.0723e18   ┆ BasicChecki ┆ 85536424774 ┆ Rejected    │\n",
       "│ 18718737     ┆ /data/Sampl ┆ 357680431   ┆             ┆ ng          ┆ 31398932    ┆             │\n",
       "│              ┆ eHDS.json   ┆             ┆             ┆             ┆             ┆             │\n",
       "│ 231454968088 ┆ ../../../.. ┆ 33478057394 ┆ 1.4677e19   ┆ BasicChecki ┆ 37372273210 ┆ Accepted    │\n",
       "│ 6274395      ┆ /data/Sampl ┆ 24414244    ┆             ┆ ng          ┆ 99776648    ┆             │\n",
       "│              ┆ eHDS.json   ┆             ┆             ┆             ┆             ┆             │\n",
       "│ 139156057854 ┆ ../../../.. ┆ 91202705446 ┆ 1.6330e19   ┆ UPlusFinPer ┆ null        ┆ Rejected    │\n",
       "│ 54018328     ┆ /data/Sampl ┆ 09164079    ┆             ┆ sonal       ┆             ┆             │\n",
       "│              ┆ eHDS.json   ┆             ┆             ┆             ┆             ┆             │\n",
       "│ 123744869611 ┆ ../../../.. ┆ 91202705446 ┆ 8.7675e18   ┆ BasicChecki ┆ 37372273210 ┆ Rejected    │\n",
       "│ 66620992     ┆ /data/Sampl ┆ 09164079    ┆             ┆ ng          ┆ 99776648    ┆             │\n",
       "│              ┆ eHDS.json   ┆             ┆             ┆             ┆             ┆             │\n",
       "└──────────────┴─────────────┴─────────────┴─────────────┴─────────────┴─────────────┴─────────────┘"
      ]
     },
     "execution_count": 10,
     "metadata": {},
     "output_type": "execute_result"
    }
   ],
   "source": [
    "anon = DataAnonymization(config=Config(config_file='config.json'))\n",
    "anon.process()"
   ]
  },
  {
   "attachments": {},
   "cell_type": "markdown",
   "metadata": {},
   "source": [
    "## Exporting\n",
    "Two functions export:\n",
    "- `create_mapping_file()` writes the mapping file of the predictor names\n",
    "- `write_to_output()` writes the processed dataframe to disk\n",
    "\n",
    "Write to output accepts the following extensions: `[\"ndjson\", \"parquet\", \"arrow\", \"csv\"]`"
   ]
  },
  {
   "cell_type": "code",
   "execution_count": 11,
   "metadata": {
    "execution": {
     "iopub.execute_input": "2023-11-07T11:50:33.062600Z",
     "iopub.status.busy": "2023-11-07T11:50:33.062308Z",
     "iopub.status.idle": "2023-11-07T11:50:33.065698Z",
     "shell.execute_reply": "2023-11-07T11:50:33.065234Z"
    }
   },
   "outputs": [
    {
     "name": "stdout",
     "output_type": "stream",
     "text": [
      "Customer_City=PREDICTOR_0\n",
      "filename=filename\n",
      "Customer_MaritalStatus=PREDICTOR_2\n",
      "Customer_CLV=PREDICTOR_3\n",
      "Context_Name=Context_Name\n",
      "IH_Web_Inbound_Accepted_pxLastGroupID=IH_Web_Inbound_Accepted_pxLastGroupID\n",
      "Decision_Outcome=Decision_Outcome\n",
      "\n"
     ]
    }
   ],
   "source": [
    "anon.create_mapping_file()\n",
    "with open('mapping.map') as f:\n",
    "    print(f.read())"
   ]
  },
  {
   "cell_type": "code",
   "execution_count": 12,
   "metadata": {
    "execution": {
     "iopub.execute_input": "2023-11-07T11:50:33.067620Z",
     "iopub.status.busy": "2023-11-07T11:50:33.067314Z",
     "iopub.status.idle": "2023-11-07T11:50:33.070967Z",
     "shell.execute_reply": "2023-11-07T11:50:33.070444Z"
    }
   },
   "outputs": [],
   "source": [
    "anon.write_to_output(ext='arrow')"
   ]
  },
  {
   "cell_type": "code",
   "execution_count": 13,
   "metadata": {
    "execution": {
     "iopub.execute_input": "2023-11-07T11:50:33.073004Z",
     "iopub.status.busy": "2023-11-07T11:50:33.072686Z",
     "iopub.status.idle": "2023-11-07T11:50:33.077376Z",
     "shell.execute_reply": "2023-11-07T11:50:33.076805Z"
    }
   },
   "outputs": [
    {
     "data": {
      "text/html": [
       "<div><style>\n",
       ".dataframe > thead > tr > th,\n",
       ".dataframe > tbody > tr > td {\n",
       "  text-align: right;\n",
       "  white-space: pre-wrap;\n",
       "}\n",
       "</style>\n",
       "<small>shape: (7, 6)</small><table border=\"1\" class=\"dataframe\"><thead><tr><th>PREDICTOR_0</th><th>PREDICTOR_2</th><th>PREDICTOR_3</th><th>Context_Name</th><th>IH_Web_Inbound_Accepted_pxLastGroupID</th><th>Decision_Outcome</th></tr><tr><td>str</td><td>str</td><td>f64</td><td>str</td><td>str</td><td>str</td></tr></thead><tbody><tr><td>&quot;12991609008711…</td><td>&quot;14208108123847…</td><td>1.2927e19</td><td>&quot;FirstMortgage3…</td><td>&quot;14236990174176…</td><td>&quot;Rejected&quot;</td></tr><tr><td>&quot;82372439126535…</td><td>&quot;10454036768718…</td><td>1.4856e19</td><td>&quot;FirstMortgage3…</td><td>&quot;17943252408857…</td><td>&quot;Accepted&quot;</td></tr><tr><td>&quot;40157399825647…</td><td>&quot;91565000238083…</td><td>5.6458e17</td><td>&quot;MoneyMarketSav…</td><td>&quot;14236990174176…</td><td>&quot;Rejected&quot;</td></tr><tr><td>&quot;16678734128694…</td><td>&quot;10454036768718…</td><td>4.0723e18</td><td>&quot;BasicChecking&quot;</td><td>&quot;14236990174176…</td><td>&quot;Rejected&quot;</td></tr><tr><td>&quot;15118223040954…</td><td>&quot;14208108123847…</td><td>1.4677e19</td><td>&quot;BasicChecking&quot;</td><td>&quot;76625320922325…</td><td>&quot;Accepted&quot;</td></tr><tr><td>&quot;16830035482199…</td><td>&quot;91565000238083…</td><td>1.6330e19</td><td>&quot;UPlusFinPerson…</td><td>null</td><td>&quot;Rejected&quot;</td></tr><tr><td>&quot;11111467355378…</td><td>&quot;91565000238083…</td><td>8.7675e18</td><td>&quot;BasicChecking&quot;</td><td>&quot;76625320922325…</td><td>&quot;Rejected&quot;</td></tr></tbody></table></div>"
      ],
      "text/plain": [
       "shape: (7, 6)\n",
       "┌────────────────┬────────────────┬─────────────┬────────────────┬────────────────┬────────────────┐\n",
       "│ PREDICTOR_0    ┆ PREDICTOR_2    ┆ PREDICTOR_3 ┆ Context_Name   ┆ IH_Web_Inbound ┆ Decision_Outco │\n",
       "│ ---            ┆ ---            ┆ ---         ┆ ---            ┆ _Accepted_pxLa ┆ me             │\n",
       "│ str            ┆ str            ┆ f64         ┆ str            ┆ stGr…          ┆ ---            │\n",
       "│                ┆                ┆             ┆                ┆ ---            ┆ str            │\n",
       "│                ┆                ┆             ┆                ┆ str            ┆                │\n",
       "╞════════════════╪════════════════╪═════════════╪════════════════╪════════════════╪════════════════╡\n",
       "│ 12991609008711 ┆ 14208108123847 ┆ 1.2927e19   ┆ FirstMortgage3 ┆ 14236990174176 ┆ Rejected       │\n",
       "│ 362221         ┆ 971044         ┆             ┆ 0yr            ┆ 45013          ┆                │\n",
       "│ 82372439126535 ┆ 10454036768718 ┆ 1.4856e19   ┆ FirstMortgage3 ┆ 17943252408857 ┆ Accepted       │\n",
       "│ 73710          ┆ 327172         ┆             ┆ 0yr            ┆ 827442         ┆                │\n",
       "│ 40157399825647 ┆ 91565000238083 ┆ 5.6458e17   ┆ MoneyMarketSav ┆ 14236990174176 ┆ Rejected       │\n",
       "│ 26976          ┆ 7364           ┆             ┆ ingsAccount    ┆ 45013          ┆                │\n",
       "│ 16678734128694 ┆ 10454036768718 ┆ 4.0723e18   ┆ BasicChecking  ┆ 14236990174176 ┆ Rejected       │\n",
       "│ 564062         ┆ 327172         ┆             ┆                ┆ 45013          ┆                │\n",
       "│ 15118223040954 ┆ 14208108123847 ┆ 1.4677e19   ┆ BasicChecking  ┆ 76625320922325 ┆ Accepted       │\n",
       "│ 720736         ┆ 971044         ┆             ┆                ┆ 67961          ┆                │\n",
       "│ 16830035482199 ┆ 91565000238083 ┆ 1.6330e19   ┆ UPlusFinPerson ┆ null           ┆ Rejected       │\n",
       "│ 893539         ┆ 7364           ┆             ┆ al             ┆                ┆                │\n",
       "│ 11111467355378 ┆ 91565000238083 ┆ 8.7675e18   ┆ BasicChecking  ┆ 76625320922325 ┆ Rejected       │\n",
       "│ 57838          ┆ 7364           ┆             ┆                ┆ 67961          ┆                │\n",
       "└────────────────┴────────────────┴─────────────┴────────────────┴────────────────┴────────────────┘"
      ]
     },
     "execution_count": 13,
     "metadata": {},
     "output_type": "execute_result"
    }
   ],
   "source": [
    "pl.read_ipc('output/hds.arrow')"
   ]
  },
  {
   "attachments": {},
   "cell_type": "markdown",
   "metadata": {
    "nbsphinx": "hidden"
   },
   "source": [
    "## Advanced: Hash fuctions\n",
    "\n",
    "By default, we use [the same hashing algorithm Polars](https://pola-rs.github.io/polars/py-polars/html/reference/expressions/api/polars.Expr.hash.html#polars.Expr.hash) uses: [xxhash](https://github.com/Cyan4973/xxHash), as implemented [here](https://github.com/pola-rs/polars/blob/3f287f370b3c388ed2f3f218b2c096382548136f/polars/polars-core/src/vector_hasher.rs#L266). xxhash is fast to compute, and you can check its performance in collision, dispersion and randomness [here](https://github.com/Cyan4973/xxHash/tree/dev/tests). \n",
    "\n",
    "xxhash accepts four distinct seeds, but by default we set the seeds to `0`. It is possible to set the `seed` argument of the `process()` function to `'random'`, which will set all four seeds to a random integer between `0` and `1000000000`. Alternatively, it is possible to supply the four seeds manually with arguments `seed`, `seed_1`, `seed_2` and `seed_3`. \n",
    "\n",
    "If the xxhash with (random) seed(s) is not deemed sufficiently secure, it is possible to use your own hashing algorithm.\n",
    "\n",
    "Note that since we're now running python code and not native Polars code anymore, this will be _significantly_ slower. Nonetheless, it is possible.\n",
    "\n",
    "Just as an example - this is how one would use sha3_256:"
   ]
  },
  {
   "cell_type": "code",
   "execution_count": 14,
   "metadata": {
    "execution": {
     "iopub.execute_input": "2023-11-07T11:50:33.079431Z",
     "iopub.status.busy": "2023-11-07T11:50:33.079058Z",
     "iopub.status.idle": "2023-11-07T11:50:33.404632Z",
     "shell.execute_reply": "2023-11-07T11:50:33.404035Z"
    },
    "nbsphinx": "hidden"
   },
   "outputs": [
    {
     "ename": "ComputeError",
     "evalue": "AttributeError: 'int' object has no attribute 'encode'",
     "output_type": "error",
     "traceback": [
      "\u001b[0;31m---------------------------------------------------------------------------\u001b[0m",
      "\u001b[0;31mComputeError\u001b[0m                              Traceback (most recent call last)",
      "Cell \u001b[0;32mIn[14], line 3\u001b[0m\n\u001b[1;32m      1\u001b[0m \u001b[38;5;28;01mfrom\u001b[39;00m \u001b[38;5;21;01mhashlib\u001b[39;00m \u001b[38;5;28;01mimport\u001b[39;00m sha3_256\n\u001b[0;32m----> 3\u001b[0m \u001b[43manon\u001b[49m\u001b[38;5;241;43m.\u001b[39;49m\u001b[43mprocess\u001b[49m\u001b[43m(\u001b[49m\u001b[43malgorithm\u001b[49m\u001b[38;5;241;43m=\u001b[39;49m\u001b[38;5;28;43;01mlambda\u001b[39;49;00m\u001b[43m \u001b[49m\u001b[43mx\u001b[49m\u001b[43m:\u001b[49m\u001b[43m \u001b[49m\u001b[43msha3_256\u001b[49m\u001b[43m(\u001b[49m\u001b[43mx\u001b[49m\u001b[38;5;241;43m.\u001b[39;49m\u001b[43mencode\u001b[49m\u001b[43m(\u001b[49m\u001b[43m)\u001b[49m\u001b[43m)\u001b[49m\u001b[38;5;241;43m.\u001b[39;49m\u001b[43mhexdigest\u001b[49m\u001b[43m(\u001b[49m\u001b[43m)\u001b[49m\u001b[43m)\u001b[49m\n",
      "File \u001b[0;32m~/work/pega-datascientist-tools/pega-datascientist-tools/python/docs/source/articles/../../../pdstools/utils/hds_utils.py:516\u001b[0m, in \u001b[0;36mDataAnonymization.process\u001b[0;34m(self, strategy, **kwargs)\u001b[0m\n\u001b[1;32m    514\u001b[0m df \u001b[38;5;241m=\u001b[39m df\u001b[38;5;241m.\u001b[39mselect(\u001b[38;5;28mself\u001b[39m\u001b[38;5;241m.\u001b[39mcolumn_mapping\u001b[38;5;241m.\u001b[39mkeys())\u001b[38;5;241m.\u001b[39mrename(\u001b[38;5;28mself\u001b[39m\u001b[38;5;241m.\u001b[39mcolumn_mapping)\n\u001b[1;32m    515\u001b[0m \u001b[38;5;28;01mif\u001b[39;00m strategy \u001b[38;5;241m==\u001b[39m \u001b[38;5;124m\"\u001b[39m\u001b[38;5;124meager\u001b[39m\u001b[38;5;124m\"\u001b[39m:\n\u001b[0;32m--> 516\u001b[0m     \u001b[38;5;28;01mreturn\u001b[39;00m \u001b[43mdf\u001b[49m\u001b[38;5;241;43m.\u001b[39;49m\u001b[43mcollect\u001b[49m\u001b[43m(\u001b[49m\u001b[43m)\u001b[49m\n\u001b[1;32m    517\u001b[0m \u001b[38;5;28;01mreturn\u001b[39;00m df\n",
      "File \u001b[0;32m/opt/hostedtoolcache/Python/3.11.6/x64/lib/python3.11/site-packages/polars/utils/deprecation.py:100\u001b[0m, in \u001b[0;36mdeprecate_renamed_parameter.<locals>.decorate.<locals>.wrapper\u001b[0;34m(*args, **kwargs)\u001b[0m\n\u001b[1;32m     95\u001b[0m \u001b[38;5;129m@wraps\u001b[39m(function)\n\u001b[1;32m     96\u001b[0m \u001b[38;5;28;01mdef\u001b[39;00m \u001b[38;5;21mwrapper\u001b[39m(\u001b[38;5;241m*\u001b[39margs: P\u001b[38;5;241m.\u001b[39margs, \u001b[38;5;241m*\u001b[39m\u001b[38;5;241m*\u001b[39mkwargs: P\u001b[38;5;241m.\u001b[39mkwargs) \u001b[38;5;241m-\u001b[39m\u001b[38;5;241m>\u001b[39m T:\n\u001b[1;32m     97\u001b[0m     _rename_keyword_argument(\n\u001b[1;32m     98\u001b[0m         old_name, new_name, kwargs, function\u001b[38;5;241m.\u001b[39m\u001b[38;5;18m__name__\u001b[39m, version\n\u001b[1;32m     99\u001b[0m     )\n\u001b[0;32m--> 100\u001b[0m     \u001b[38;5;28;01mreturn\u001b[39;00m \u001b[43mfunction\u001b[49m\u001b[43m(\u001b[49m\u001b[38;5;241;43m*\u001b[39;49m\u001b[43margs\u001b[49m\u001b[43m,\u001b[49m\u001b[43m \u001b[49m\u001b[38;5;241;43m*\u001b[39;49m\u001b[38;5;241;43m*\u001b[39;49m\u001b[43mkwargs\u001b[49m\u001b[43m)\u001b[49m\n",
      "File \u001b[0;32m/opt/hostedtoolcache/Python/3.11.6/x64/lib/python3.11/site-packages/polars/lazyframe/frame.py:1787\u001b[0m, in \u001b[0;36mLazyFrame.collect\u001b[0;34m(self, type_coercion, predicate_pushdown, projection_pushdown, simplify_expression, slice_pushdown, comm_subplan_elim, comm_subexpr_elim, no_optimization, streaming, _eager)\u001b[0m\n\u001b[1;32m   1774\u001b[0m     comm_subplan_elim \u001b[38;5;241m=\u001b[39m \u001b[38;5;28;01mFalse\u001b[39;00m\n\u001b[1;32m   1776\u001b[0m ldf \u001b[38;5;241m=\u001b[39m \u001b[38;5;28mself\u001b[39m\u001b[38;5;241m.\u001b[39m_ldf\u001b[38;5;241m.\u001b[39moptimization_toggle(\n\u001b[1;32m   1777\u001b[0m     type_coercion,\n\u001b[1;32m   1778\u001b[0m     predicate_pushdown,\n\u001b[0;32m   (...)\u001b[0m\n\u001b[1;32m   1785\u001b[0m     _eager,\n\u001b[1;32m   1786\u001b[0m )\n\u001b[0;32m-> 1787\u001b[0m \u001b[38;5;28;01mreturn\u001b[39;00m wrap_df(ldf\u001b[38;5;241m.\u001b[39mcollect())\n",
      "\u001b[0;31mComputeError\u001b[0m: AttributeError: 'int' object has no attribute 'encode'"
     ]
    }
   ],
   "source": [
    "from hashlib import sha3_256\n",
    "\n",
    "anon.process(algorithm=lambda x: sha3_256(x.encode()).hexdigest())"
   ]
  }
 ],
 "metadata": {
  "kernelspec": {
   "display_name": "Python 3",
   "language": "python",
   "name": "python3"
  },
  "language_info": {
   "codemirror_mode": {
    "name": "ipython",
    "version": 3
   },
   "file_extension": ".py",
   "mimetype": "text/x-python",
   "name": "python",
   "nbconvert_exporter": "python",
   "pygments_lexer": "ipython3",
   "version": "3.11.6"
  },
  "vscode": {
   "interpreter": {
    "hash": "aee8b7b246df8f9039afb4144a1f6fd8d2ca17a180786b69acc140d282b71a49"
   }
  }
 },
 "nbformat": 4,
 "nbformat_minor": 2
}
