{
 "cells": [
  {
   "attachments": {},
   "cell_type": "markdown",
   "metadata": {},
   "source": [
    "# Data Anonymization\n",
    "\n",
    "In Pega CDH 8.5 and up, it's now possible to record the historical data as seen by the Adaptive Models. See [this academy challenge](https://academy.pega.com/challenge/exporting-historical-data/v4) for reference. This historical data can be further used to experiment with offline models, but also to fine-tune the OOTB Gradient Boosting model. However, sharing this information with Pega can be sensitive as it contains raw predictor data. \n",
    "\n",
    "To this end, we provide a simple and transparent script to fully anonimize this dataset.\n",
    "\n",
    "The DataAnonymization script is now part of pdstools, and you can import it directly as such."
   ]
  },
  {
   "cell_type": "code",
   "execution_count": 1,
   "metadata": {
    "execution": {
     "iopub.execute_input": "2024-05-14T12:58:10.704366Z",
     "iopub.status.busy": "2024-05-14T12:58:10.704185Z",
     "iopub.status.idle": "2024-05-14T12:58:10.773442Z",
     "shell.execute_reply": "2024-05-14T12:58:10.772926Z"
    },
    "nbsphinx": "hidden"
   },
   "outputs": [],
   "source": [
    "# These lines are only for rendering in the docs, and are hidden through Jupyter tags\n",
    "# Do not run if you're running the notebook seperately\n",
    "\n",
    "import os  \n",
    "import sys\n",
    "import plotly.io as pio\n",
    "pio.renderers.default = \"notebook_connected\"\n",
    "\n",
    "sys.path.append(\"../../../\")\n",
    "sys.path.append('../../python')"
   ]
  },
  {
   "cell_type": "code",
   "execution_count": 2,
   "metadata": {
    "execution": {
     "iopub.execute_input": "2024-05-14T12:58:10.775584Z",
     "iopub.status.busy": "2024-05-14T12:58:10.775161Z",
     "iopub.status.idle": "2024-05-14T12:58:11.750019Z",
     "shell.execute_reply": "2024-05-14T12:58:11.749395Z"
    }
   },
   "outputs": [],
   "source": [
    "from pdstools import ADMDatamart\n",
    "from pdstools import Config, DataAnonymization\n",
    "import polars as pl"
   ]
  },
  {
   "attachments": {},
   "cell_type": "markdown",
   "metadata": {},
   "source": [
    "## Input data\n",
    "\n",
    "To demonstrate this process, we're going to anonymise this toy example dataframe:"
   ]
  },
  {
   "cell_type": "code",
   "execution_count": 3,
   "metadata": {
    "execution": {
     "iopub.execute_input": "2024-05-14T12:58:11.752567Z",
     "iopub.status.busy": "2024-05-14T12:58:11.752152Z",
     "iopub.status.idle": "2024-05-14T12:58:11.760523Z",
     "shell.execute_reply": "2024-05-14T12:58:11.760069Z"
    }
   },
   "outputs": [
    {
     "data": {
      "text/html": [
       "<div><style>\n",
       ".dataframe > thead > tr,\n",
       ".dataframe > tbody > tr {\n",
       "  text-align: right;\n",
       "  white-space: pre-wrap;\n",
       "}\n",
       "</style>\n",
       "<small>shape: (7, 6)</small><table border=\"1\" class=\"dataframe\"><thead><tr><th>Context_Name</th><th>Customer_MaritalStatus</th><th>Customer_CLV</th><th>Customer_City</th><th>IH_Web_Inbound_Accepted_pxLastGroupID</th><th>Decision_Outcome</th></tr><tr><td>str</td><td>str</td><td>i64</td><td>str</td><td>str</td><td>str</td></tr></thead><tbody><tr><td>&quot;FirstMortgage30yr&quot;</td><td>&quot;Married&quot;</td><td>1460</td><td>&quot;Port Raoul&quot;</td><td>&quot;Account&quot;</td><td>&quot;Rejected&quot;</td></tr><tr><td>&quot;FirstMortgage30yr&quot;</td><td>&quot;Unknown&quot;</td><td>669</td><td>&quot;Laurianneshire&quot;</td><td>&quot;AutoLoans&quot;</td><td>&quot;Accepted&quot;</td></tr><tr><td>&quot;MoneyMarketSavingsAccount&quot;</td><td>&quot;No Resp+&quot;</td><td>1174</td><td>&quot;Jacobshaven&quot;</td><td>&quot;Account&quot;</td><td>&quot;Rejected&quot;</td></tr><tr><td>&quot;BasicChecking&quot;</td><td>&quot;Unknown&quot;</td><td>1476</td><td>&quot;Lindton&quot;</td><td>&quot;Account&quot;</td><td>&quot;Rejected&quot;</td></tr><tr><td>&quot;BasicChecking&quot;</td><td>&quot;Married&quot;</td><td>1211</td><td>&quot;South Jimmieshire&quot;</td><td>&quot;DepositAccounts&quot;</td><td>&quot;Accepted&quot;</td></tr><tr><td>&quot;UPlusFinPersonal&quot;</td><td>&quot;No Resp+&quot;</td><td>533</td><td>&quot;Bergeville&quot;</td><td>null</td><td>&quot;Rejected&quot;</td></tr><tr><td>&quot;BasicChecking&quot;</td><td>&quot;No Resp+&quot;</td><td>555</td><td>&quot;Willyville&quot;</td><td>&quot;DepositAccounts&quot;</td><td>&quot;Rejected&quot;</td></tr></tbody></table></div>"
      ],
      "text/plain": [
       "shape: (7, 6)\n",
       "┌────────────────┬────────────────┬──────────────┬────────────────┬────────────────┬───────────────┐\n",
       "│ Context_Name   ┆ Customer_Marit ┆ Customer_CLV ┆ Customer_City  ┆ IH_Web_Inbound ┆ Decision_Outc │\n",
       "│ ---            ┆ alStatus       ┆ ---          ┆ ---            ┆ _Accepted_pxLa ┆ ome           │\n",
       "│ str            ┆ ---            ┆ i64          ┆ str            ┆ st…            ┆ ---           │\n",
       "│                ┆ str            ┆              ┆                ┆ ---            ┆ str           │\n",
       "│                ┆                ┆              ┆                ┆ str            ┆               │\n",
       "╞════════════════╪════════════════╪══════════════╪════════════════╪════════════════╪═══════════════╡\n",
       "│ FirstMortgage3 ┆ Married        ┆ 1460         ┆ Port Raoul     ┆ Account        ┆ Rejected      │\n",
       "│ 0yr            ┆                ┆              ┆                ┆                ┆               │\n",
       "│ FirstMortgage3 ┆ Unknown        ┆ 669          ┆ Laurianneshire ┆ AutoLoans      ┆ Accepted      │\n",
       "│ 0yr            ┆                ┆              ┆                ┆                ┆               │\n",
       "│ MoneyMarketSav ┆ No Resp+       ┆ 1174         ┆ Jacobshaven    ┆ Account        ┆ Rejected      │\n",
       "│ ingsAccount    ┆                ┆              ┆                ┆                ┆               │\n",
       "│ BasicChecking  ┆ Unknown        ┆ 1476         ┆ Lindton        ┆ Account        ┆ Rejected      │\n",
       "│ BasicChecking  ┆ Married        ┆ 1211         ┆ South          ┆ DepositAccount ┆ Accepted      │\n",
       "│                ┆                ┆              ┆ Jimmieshire    ┆ s              ┆               │\n",
       "│ UPlusFinPerson ┆ No Resp+       ┆ 533          ┆ Bergeville     ┆ null           ┆ Rejected      │\n",
       "│ al             ┆                ┆              ┆                ┆                ┆               │\n",
       "│ BasicChecking  ┆ No Resp+       ┆ 555          ┆ Willyville     ┆ DepositAccount ┆ Rejected      │\n",
       "│                ┆                ┆              ┆                ┆ s              ┆               │\n",
       "└────────────────┴────────────────┴──────────────┴────────────────┴────────────────┴───────────────┘"
      ]
     },
     "execution_count": 3,
     "metadata": {},
     "output_type": "execute_result"
    }
   ],
   "source": [
    "pl.read_ndjson('../../../../data/SampleHDS.json')"
   ]
  },
  {
   "attachments": {},
   "cell_type": "markdown",
   "metadata": {},
   "source": [
    "As you can see, this dataset consists of regular predictors, IH predictors, context keys and the outcome column. Additionally, some columns are numeric, others are strings. Let's first initialize the DataAnonymization class."
   ]
  },
  {
   "cell_type": "code",
   "execution_count": 4,
   "metadata": {
    "execution": {
     "iopub.execute_input": "2024-05-14T12:58:11.762588Z",
     "iopub.status.busy": "2024-05-14T12:58:11.762287Z",
     "iopub.status.idle": "2024-05-14T12:58:11.771391Z",
     "shell.execute_reply": "2024-05-14T12:58:11.770976Z"
    }
   },
   "outputs": [],
   "source": [
    "anon = DataAnonymization(hds_folder='../../../../data/')"
   ]
  },
  {
   "attachments": {},
   "cell_type": "markdown",
   "metadata": {},
   "source": [
    "By default, the class applies a set of anonymisation techniques:\n",
    "- Column names are remapped to a non-descriptive name\n",
    "- Categorical values are hashed with a random seed\n",
    "- Numerical values are normalized between 0 and 1\n",
    "- Outcomes are mapped to a binary outcome.\n",
    "\n",
    "To apply these techniques, simply call `.process()`:"
   ]
  },
  {
   "cell_type": "code",
   "execution_count": 5,
   "metadata": {
    "execution": {
     "iopub.execute_input": "2024-05-14T12:58:11.773329Z",
     "iopub.status.busy": "2024-05-14T12:58:11.773018Z",
     "iopub.status.idle": "2024-05-14T12:58:11.778162Z",
     "shell.execute_reply": "2024-05-14T12:58:11.777698Z"
    }
   },
   "outputs": [
    {
     "data": {
      "text/html": [
       "<div><style>\n",
       ".dataframe > thead > tr,\n",
       ".dataframe > tbody > tr {\n",
       "  text-align: right;\n",
       "  white-space: pre-wrap;\n",
       "}\n",
       "</style>\n",
       "<small>shape: (7, 7)</small><table border=\"1\" class=\"dataframe\"><thead><tr><th>PREDICTOR_0</th><th>PREDICTOR_1</th><th>filename</th><th>PREDICTOR_3</th><th>Context_Name</th><th>IH_PREDICTOR_0</th><th>Decision_Outcome</th></tr><tr><td>f64</td><td>str</td><td>str</td><td>str</td><td>str</td><td>str</td><td>bool</td></tr></thead><tbody><tr><td>1.5685e19</td><td>&quot;12225729162166314001&quot;</td><td>&quot;../../../../data/SampleHDS.jso…</td><td>&quot;51981535217579487&quot;</td><td>&quot;10734833795674794279&quot;</td><td>&quot;16221475036607966456&quot;</td><td>false</td></tr><tr><td>6.3949e18</td><td>&quot;10858144133816846025&quot;</td><td>&quot;../../../../data/SampleHDS.jso…</td><td>&quot;16371167012349695065&quot;</td><td>&quot;10734833795674794279&quot;</td><td>&quot;3274820548361335149&quot;</td><td>true</td></tr><tr><td>1.7483e19</td><td>&quot;8666476490711445212&quot;</td><td>&quot;../../../../data/SampleHDS.jso…</td><td>&quot;12342636491773362689&quot;</td><td>&quot;14679932339064961627&quot;</td><td>&quot;16221475036607966456&quot;</td><td>false</td></tr><tr><td>1.7024e18</td><td>&quot;7354403747816733489&quot;</td><td>&quot;../../../../data/SampleHDS.jso…</td><td>&quot;16371167012349695065&quot;</td><td>&quot;3009009646360993877&quot;</td><td>&quot;16221475036607966456&quot;</td><td>false</td></tr><tr><td>8.7174e17</td><td>&quot;12258424551632205397&quot;</td><td>&quot;../../../../data/SampleHDS.jso…</td><td>&quot;51981535217579487&quot;</td><td>&quot;3009009646360993877&quot;</td><td>&quot;4135340674029727270&quot;</td><td>true</td></tr><tr><td>2.3170e17</td><td>&quot;6396382143874511791&quot;</td><td>&quot;../../../../data/SampleHDS.jso…</td><td>&quot;12342636491773362689&quot;</td><td>&quot;14035086589861628279&quot;</td><td>null</td><td>false</td></tr><tr><td>1.8433e19</td><td>&quot;18001800542168006&quot;</td><td>&quot;../../../../data/SampleHDS.jso…</td><td>&quot;12342636491773362689&quot;</td><td>&quot;3009009646360993877&quot;</td><td>&quot;4135340674029727270&quot;</td><td>false</td></tr></tbody></table></div>"
      ],
      "text/plain": [
       "shape: (7, 7)\n",
       "┌─────────────┬──────────────┬─────────────┬─────────────┬─────────────┬─────────────┬─────────────┐\n",
       "│ PREDICTOR_0 ┆ PREDICTOR_1  ┆ filename    ┆ PREDICTOR_3 ┆ Context_Nam ┆ IH_PREDICTO ┆ Decision_Ou │\n",
       "│ ---         ┆ ---          ┆ ---         ┆ ---         ┆ e           ┆ R_0         ┆ tcome       │\n",
       "│ f64         ┆ str          ┆ str         ┆ str         ┆ ---         ┆ ---         ┆ ---         │\n",
       "│             ┆              ┆             ┆             ┆ str         ┆ str         ┆ bool        │\n",
       "╞═════════════╪══════════════╪═════════════╪═════════════╪═════════════╪═════════════╪═════════════╡\n",
       "│ 1.5685e19   ┆ 122257291621 ┆ ../../../.. ┆ 51981535217 ┆ 10734833795 ┆ 16221475036 ┆ false       │\n",
       "│             ┆ 66314001     ┆ /data/Sampl ┆ 579487      ┆ 674794279   ┆ 607966456   ┆             │\n",
       "│             ┆              ┆ eHDS.jso…   ┆             ┆             ┆             ┆             │\n",
       "│ 6.3949e18   ┆ 108581441338 ┆ ../../../.. ┆ 16371167012 ┆ 10734833795 ┆ 32748205483 ┆ true        │\n",
       "│             ┆ 16846025     ┆ /data/Sampl ┆ 349695065   ┆ 674794279   ┆ 61335149    ┆             │\n",
       "│             ┆              ┆ eHDS.jso…   ┆             ┆             ┆             ┆             │\n",
       "│ 1.7483e19   ┆ 866647649071 ┆ ../../../.. ┆ 12342636491 ┆ 14679932339 ┆ 16221475036 ┆ false       │\n",
       "│             ┆ 1445212      ┆ /data/Sampl ┆ 773362689   ┆ 064961627   ┆ 607966456   ┆             │\n",
       "│             ┆              ┆ eHDS.jso…   ┆             ┆             ┆             ┆             │\n",
       "│ 1.7024e18   ┆ 735440374781 ┆ ../../../.. ┆ 16371167012 ┆ 30090096463 ┆ 16221475036 ┆ false       │\n",
       "│             ┆ 6733489      ┆ /data/Sampl ┆ 349695065   ┆ 60993877    ┆ 607966456   ┆             │\n",
       "│             ┆              ┆ eHDS.jso…   ┆             ┆             ┆             ┆             │\n",
       "│ 8.7174e17   ┆ 122584245516 ┆ ../../../.. ┆ 51981535217 ┆ 30090096463 ┆ 41353406740 ┆ true        │\n",
       "│             ┆ 32205397     ┆ /data/Sampl ┆ 579487      ┆ 60993877    ┆ 29727270    ┆             │\n",
       "│             ┆              ┆ eHDS.jso…   ┆             ┆             ┆             ┆             │\n",
       "│ 2.3170e17   ┆ 639638214387 ┆ ../../../.. ┆ 12342636491 ┆ 14035086589 ┆ null        ┆ false       │\n",
       "│             ┆ 4511791      ┆ /data/Sampl ┆ 773362689   ┆ 861628279   ┆             ┆             │\n",
       "│             ┆              ┆ eHDS.jso…   ┆             ┆             ┆             ┆             │\n",
       "│ 1.8433e19   ┆ 180018005421 ┆ ../../../.. ┆ 12342636491 ┆ 30090096463 ┆ 41353406740 ┆ false       │\n",
       "│             ┆ 68006        ┆ /data/Sampl ┆ 773362689   ┆ 60993877    ┆ 29727270    ┆             │\n",
       "│             ┆              ┆ eHDS.jso…   ┆             ┆             ┆             ┆             │\n",
       "└─────────────┴──────────────┴─────────────┴─────────────┴─────────────┴─────────────┴─────────────┘"
      ]
     },
     "execution_count": 5,
     "metadata": {},
     "output_type": "execute_result"
    }
   ],
   "source": [
    "anon.process()"
   ]
  },
  {
   "attachments": {},
   "cell_type": "markdown",
   "metadata": {},
   "source": [
    "To trace back the columns to their original names, the class also contains a mapping, which does not have to be provided."
   ]
  },
  {
   "cell_type": "code",
   "execution_count": 6,
   "metadata": {
    "execution": {
     "iopub.execute_input": "2024-05-14T12:58:11.780060Z",
     "iopub.status.busy": "2024-05-14T12:58:11.779888Z",
     "iopub.status.idle": "2024-05-14T12:58:11.783535Z",
     "shell.execute_reply": "2024-05-14T12:58:11.783109Z"
    }
   },
   "outputs": [
    {
     "data": {
      "text/plain": [
       "{'Customer_CLV': 'PREDICTOR_0',\n",
       " 'Customer_City': 'PREDICTOR_1',\n",
       " 'filename': 'filename',\n",
       " 'Customer_MaritalStatus': 'PREDICTOR_3',\n",
       " 'Context_Name': 'Context_Name',\n",
       " 'IH_Web_Inbound_Accepted_pxLastGroupID': 'IH_PREDICTOR_0',\n",
       " 'Decision_Outcome': 'Decision_Outcome'}"
      ]
     },
     "execution_count": 6,
     "metadata": {},
     "output_type": "execute_result"
    }
   ],
   "source": [
    "anon.column_mapping"
   ]
  },
  {
   "attachments": {},
   "cell_type": "markdown",
   "metadata": {},
   "source": [
    "## Configs\n",
    "\n",
    "Each capability can optionally be turned off - see below for the full list of config options, and refer to the API reference for the full description."
   ]
  },
  {
   "cell_type": "code",
   "execution_count": 7,
   "metadata": {
    "execution": {
     "iopub.execute_input": "2024-05-14T12:58:11.785431Z",
     "iopub.status.busy": "2024-05-14T12:58:11.785234Z",
     "iopub.status.idle": "2024-05-14T12:58:11.789182Z",
     "shell.execute_reply": "2024-05-14T12:58:11.788718Z"
    }
   },
   "outputs": [
    {
     "data": {
      "text/plain": [
       "{'config_file': None,\n",
       " 'hds_folder': '.',\n",
       " 'use_datamart': False,\n",
       " 'datamart_folder': 'datamart',\n",
       " 'output_format': 'ndjson',\n",
       " 'output_folder': 'output',\n",
       " 'mapping_file': 'mapping.map',\n",
       " 'mask_predictor_names': True,\n",
       " 'mask_context_key_names': False,\n",
       " 'mask_ih_names': True,\n",
       " 'mask_outcome_name': False,\n",
       " 'mask_predictor_values': True,\n",
       " 'mask_context_key_values': True,\n",
       " 'mask_ih_values': True,\n",
       " 'mask_outcome_values': True,\n",
       " 'context_key_label': 'Context_*',\n",
       " 'ih_label': 'IH_*',\n",
       " 'outcome_column': 'Decision_Outcome',\n",
       " 'positive_outcomes': ['Accepted', 'Clicked'],\n",
       " 'negative_outcomes': ['Rejected', 'Impression'],\n",
       " 'special_predictors': ['Decision_DecisionTime',\n",
       "  'Decision_OutcomeTime',\n",
       "  'Decision_Rank'],\n",
       " 'sample_percentage_schema_inferencing': 0.01}"
      ]
     },
     "execution_count": 7,
     "metadata": {},
     "output_type": "execute_result"
    }
   ],
   "source": [
    "dict(zip(Config.__init__.__code__.co_varnames[1:], Config.__init__.__defaults__))"
   ]
  },
  {
   "attachments": {},
   "cell_type": "markdown",
   "metadata": {},
   "source": [
    "It's easy to change these parameters by just passing the keyword arguments. In the following example, we\n",
    "- Keep the IH predictor names\n",
    "- Keep the outcome values\n",
    "- Keep the context key values\n",
    "- Keep the context key predictor names"
   ]
  },
  {
   "cell_type": "code",
   "execution_count": 8,
   "metadata": {
    "execution": {
     "iopub.execute_input": "2024-05-14T12:58:11.791176Z",
     "iopub.status.busy": "2024-05-14T12:58:11.790845Z",
     "iopub.status.idle": "2024-05-14T12:58:11.798600Z",
     "shell.execute_reply": "2024-05-14T12:58:11.798093Z"
    }
   },
   "outputs": [
    {
     "data": {
      "text/html": [
       "<div><style>\n",
       ".dataframe > thead > tr,\n",
       ".dataframe > tbody > tr {\n",
       "  text-align: right;\n",
       "  white-space: pre-wrap;\n",
       "}\n",
       "</style>\n",
       "<small>shape: (7, 7)</small><table border=\"1\" class=\"dataframe\"><thead><tr><th>PREDICTOR_0</th><th>PREDICTOR_1</th><th>filename</th><th>PREDICTOR_3</th><th>Context_Name</th><th>IH_Web_Inbound_Accepted_pxLastGroupID</th><th>Decision_Outcome</th></tr><tr><td>f64</td><td>str</td><td>str</td><td>str</td><td>str</td><td>str</td><td>str</td></tr></thead><tbody><tr><td>1.4972e19</td><td>&quot;17422485123997285017&quot;</td><td>&quot;../../../../data/SampleHDS.jso…</td><td>&quot;2138003491835027148&quot;</td><td>&quot;FirstMortgage30yr&quot;</td><td>&quot;5204744201502184781&quot;</td><td>&quot;Rejected&quot;</td></tr><tr><td>4.2698e18</td><td>&quot;1573862126604267032&quot;</td><td>&quot;../../../../data/SampleHDS.jso…</td><td>&quot;7508068202029349532&quot;</td><td>&quot;FirstMortgage30yr&quot;</td><td>&quot;12316935218126645863&quot;</td><td>&quot;Accepted&quot;</td></tr><tr><td>1.4331e18</td><td>&quot;4507694027456499642&quot;</td><td>&quot;../../../../data/SampleHDS.jso…</td><td>&quot;17881602612806332164&quot;</td><td>&quot;MoneyMarketSavingsAccount&quot;</td><td>&quot;5204744201502184781&quot;</td><td>&quot;Rejected&quot;</td></tr><tr><td>6.0648e18</td><td>&quot;9385107858368052372&quot;</td><td>&quot;../../../../data/SampleHDS.jso…</td><td>&quot;7508068202029349532&quot;</td><td>&quot;BasicChecking&quot;</td><td>&quot;5204744201502184781&quot;</td><td>&quot;Rejected&quot;</td></tr><tr><td>5.8943e18</td><td>&quot;6009163988129042585&quot;</td><td>&quot;../../../../data/SampleHDS.jso…</td><td>&quot;2138003491835027148&quot;</td><td>&quot;BasicChecking&quot;</td><td>&quot;16399429538149167714&quot;</td><td>&quot;Accepted&quot;</td></tr><tr><td>3.0495e18</td><td>&quot;17400663458862046337&quot;</td><td>&quot;../../../../data/SampleHDS.jso…</td><td>&quot;17881602612806332164&quot;</td><td>&quot;UPlusFinPersonal&quot;</td><td>null</td><td>&quot;Rejected&quot;</td></tr><tr><td>1.3523e19</td><td>&quot;876426660377517334&quot;</td><td>&quot;../../../../data/SampleHDS.jso…</td><td>&quot;17881602612806332164&quot;</td><td>&quot;BasicChecking&quot;</td><td>&quot;16399429538149167714&quot;</td><td>&quot;Rejected&quot;</td></tr></tbody></table></div>"
      ],
      "text/plain": [
       "shape: (7, 7)\n",
       "┌─────────────┬──────────────┬─────────────┬─────────────┬─────────────┬─────────────┬─────────────┐\n",
       "│ PREDICTOR_0 ┆ PREDICTOR_1  ┆ filename    ┆ PREDICTOR_3 ┆ Context_Nam ┆ IH_Web_Inbo ┆ Decision_Ou │\n",
       "│ ---         ┆ ---          ┆ ---         ┆ ---         ┆ e           ┆ und_Accepte ┆ tcome       │\n",
       "│ f64         ┆ str          ┆ str         ┆ str         ┆ ---         ┆ d_pxLast…   ┆ ---         │\n",
       "│             ┆              ┆             ┆             ┆ str         ┆ ---         ┆ str         │\n",
       "│             ┆              ┆             ┆             ┆             ┆ str         ┆             │\n",
       "╞═════════════╪══════════════╪═════════════╪═════════════╪═════════════╪═════════════╪═════════════╡\n",
       "│ 1.4972e19   ┆ 174224851239 ┆ ../../../.. ┆ 21380034918 ┆ FirstMortga ┆ 52047442015 ┆ Rejected    │\n",
       "│             ┆ 97285017     ┆ /data/Sampl ┆ 35027148    ┆ ge30yr      ┆ 02184781    ┆             │\n",
       "│             ┆              ┆ eHDS.jso…   ┆             ┆             ┆             ┆             │\n",
       "│ 4.2698e18   ┆ 157386212660 ┆ ../../../.. ┆ 75080682020 ┆ FirstMortga ┆ 12316935218 ┆ Accepted    │\n",
       "│             ┆ 4267032      ┆ /data/Sampl ┆ 29349532    ┆ ge30yr      ┆ 126645863   ┆             │\n",
       "│             ┆              ┆ eHDS.jso…   ┆             ┆             ┆             ┆             │\n",
       "│ 1.4331e18   ┆ 450769402745 ┆ ../../../.. ┆ 17881602612 ┆ MoneyMarket ┆ 52047442015 ┆ Rejected    │\n",
       "│             ┆ 6499642      ┆ /data/Sampl ┆ 806332164   ┆ SavingsAcco ┆ 02184781    ┆             │\n",
       "│             ┆              ┆ eHDS.jso…   ┆             ┆ unt         ┆             ┆             │\n",
       "│ 6.0648e18   ┆ 938510785836 ┆ ../../../.. ┆ 75080682020 ┆ BasicChecki ┆ 52047442015 ┆ Rejected    │\n",
       "│             ┆ 8052372      ┆ /data/Sampl ┆ 29349532    ┆ ng          ┆ 02184781    ┆             │\n",
       "│             ┆              ┆ eHDS.jso…   ┆             ┆             ┆             ┆             │\n",
       "│ 5.8943e18   ┆ 600916398812 ┆ ../../../.. ┆ 21380034918 ┆ BasicChecki ┆ 16399429538 ┆ Accepted    │\n",
       "│             ┆ 9042585      ┆ /data/Sampl ┆ 35027148    ┆ ng          ┆ 149167714   ┆             │\n",
       "│             ┆              ┆ eHDS.jso…   ┆             ┆             ┆             ┆             │\n",
       "│ 3.0495e18   ┆ 174006634588 ┆ ../../../.. ┆ 17881602612 ┆ UPlusFinPer ┆ null        ┆ Rejected    │\n",
       "│             ┆ 62046337     ┆ /data/Sampl ┆ 806332164   ┆ sonal       ┆             ┆             │\n",
       "│             ┆              ┆ eHDS.jso…   ┆             ┆             ┆             ┆             │\n",
       "│ 1.3523e19   ┆ 876426660377 ┆ ../../../.. ┆ 17881602612 ┆ BasicChecki ┆ 16399429538 ┆ Rejected    │\n",
       "│             ┆ 517334       ┆ /data/Sampl ┆ 806332164   ┆ ng          ┆ 149167714   ┆             │\n",
       "│             ┆              ┆ eHDS.jso…   ┆             ┆             ┆             ┆             │\n",
       "└─────────────┴──────────────┴─────────────┴─────────────┴─────────────┴─────────────┴─────────────┘"
      ]
     },
     "execution_count": 8,
     "metadata": {},
     "output_type": "execute_result"
    }
   ],
   "source": [
    "anon = DataAnonymization(\n",
    "    hds_folder=\"../../../../data/\",\n",
    "    mask_ih_names=False,\n",
    "    mask_outcome_values=False,\n",
    "    mask_context_key_values=False,\n",
    "    mask_context_key_names=False,\n",
    ")\n",
    "anon.process()\n"
   ]
  },
  {
   "attachments": {},
   "cell_type": "markdown",
   "metadata": {},
   "source": [
    "The configs can also be written and read as such:"
   ]
  },
  {
   "cell_type": "code",
   "execution_count": 9,
   "metadata": {
    "execution": {
     "iopub.execute_input": "2024-05-14T12:58:11.800593Z",
     "iopub.status.busy": "2024-05-14T12:58:11.800182Z",
     "iopub.status.idle": "2024-05-14T12:58:11.803056Z",
     "shell.execute_reply": "2024-05-14T12:58:11.802541Z"
    }
   },
   "outputs": [],
   "source": [
    "anon.config.save_to_config_file('config.json')"
   ]
  },
  {
   "cell_type": "code",
   "execution_count": 10,
   "metadata": {
    "execution": {
     "iopub.execute_input": "2024-05-14T12:58:11.805088Z",
     "iopub.status.busy": "2024-05-14T12:58:11.804761Z",
     "iopub.status.idle": "2024-05-14T12:58:11.812363Z",
     "shell.execute_reply": "2024-05-14T12:58:11.811930Z"
    }
   },
   "outputs": [
    {
     "data": {
      "text/html": [
       "<div><style>\n",
       ".dataframe > thead > tr,\n",
       ".dataframe > tbody > tr {\n",
       "  text-align: right;\n",
       "  white-space: pre-wrap;\n",
       "}\n",
       "</style>\n",
       "<small>shape: (7, 7)</small><table border=\"1\" class=\"dataframe\"><thead><tr><th>PREDICTOR_0</th><th>PREDICTOR_1</th><th>filename</th><th>PREDICTOR_3</th><th>Context_Name</th><th>IH_Web_Inbound_Accepted_pxLastGroupID</th><th>Decision_Outcome</th></tr><tr><td>f64</td><td>str</td><td>str</td><td>str</td><td>str</td><td>str</td><td>str</td></tr></thead><tbody><tr><td>6.0000e18</td><td>&quot;17010288382974320290&quot;</td><td>&quot;../../../../data/SampleHDS.jso…</td><td>&quot;928003177903087711&quot;</td><td>&quot;FirstMortgage30yr&quot;</td><td>&quot;5195314161035972811&quot;</td><td>&quot;Rejected&quot;</td></tr><tr><td>5.8879e18</td><td>&quot;16627535476138994475&quot;</td><td>&quot;../../../../data/SampleHDS.jso…</td><td>&quot;8641606584800968118&quot;</td><td>&quot;FirstMortgage30yr&quot;</td><td>&quot;11484570070419202773&quot;</td><td>&quot;Accepted&quot;</td></tr><tr><td>1.3162e19</td><td>&quot;11054302521963209580&quot;</td><td>&quot;../../../../data/SampleHDS.jso…</td><td>&quot;11795014513929145453&quot;</td><td>&quot;MoneyMarketSavingsAccount&quot;</td><td>&quot;5195314161035972811&quot;</td><td>&quot;Rejected&quot;</td></tr><tr><td>6.8958e18</td><td>&quot;2690860086922430879&quot;</td><td>&quot;../../../../data/SampleHDS.jso…</td><td>&quot;8641606584800968118&quot;</td><td>&quot;BasicChecking&quot;</td><td>&quot;5195314161035972811&quot;</td><td>&quot;Rejected&quot;</td></tr><tr><td>1.5988e19</td><td>&quot;2483174824290025401&quot;</td><td>&quot;../../../../data/SampleHDS.jso…</td><td>&quot;928003177903087711&quot;</td><td>&quot;BasicChecking&quot;</td><td>&quot;5440717972691627548&quot;</td><td>&quot;Accepted&quot;</td></tr><tr><td>1.2533e19</td><td>&quot;7427967276565884596&quot;</td><td>&quot;../../../../data/SampleHDS.jso…</td><td>&quot;11795014513929145453&quot;</td><td>&quot;UPlusFinPersonal&quot;</td><td>null</td><td>&quot;Rejected&quot;</td></tr><tr><td>6.8039e18</td><td>&quot;17204486796614990752&quot;</td><td>&quot;../../../../data/SampleHDS.jso…</td><td>&quot;11795014513929145453&quot;</td><td>&quot;BasicChecking&quot;</td><td>&quot;5440717972691627548&quot;</td><td>&quot;Rejected&quot;</td></tr></tbody></table></div>"
      ],
      "text/plain": [
       "shape: (7, 7)\n",
       "┌─────────────┬──────────────┬─────────────┬─────────────┬─────────────┬─────────────┬─────────────┐\n",
       "│ PREDICTOR_0 ┆ PREDICTOR_1  ┆ filename    ┆ PREDICTOR_3 ┆ Context_Nam ┆ IH_Web_Inbo ┆ Decision_Ou │\n",
       "│ ---         ┆ ---          ┆ ---         ┆ ---         ┆ e           ┆ und_Accepte ┆ tcome       │\n",
       "│ f64         ┆ str          ┆ str         ┆ str         ┆ ---         ┆ d_pxLast…   ┆ ---         │\n",
       "│             ┆              ┆             ┆             ┆ str         ┆ ---         ┆ str         │\n",
       "│             ┆              ┆             ┆             ┆             ┆ str         ┆             │\n",
       "╞═════════════╪══════════════╪═════════════╪═════════════╪═════════════╪═════════════╪═════════════╡\n",
       "│ 6.0000e18   ┆ 170102883829 ┆ ../../../.. ┆ 92800317790 ┆ FirstMortga ┆ 51953141610 ┆ Rejected    │\n",
       "│             ┆ 74320290     ┆ /data/Sampl ┆ 3087711     ┆ ge30yr      ┆ 35972811    ┆             │\n",
       "│             ┆              ┆ eHDS.jso…   ┆             ┆             ┆             ┆             │\n",
       "│ 5.8879e18   ┆ 166275354761 ┆ ../../../.. ┆ 86416065848 ┆ FirstMortga ┆ 11484570070 ┆ Accepted    │\n",
       "│             ┆ 38994475     ┆ /data/Sampl ┆ 00968118    ┆ ge30yr      ┆ 419202773   ┆             │\n",
       "│             ┆              ┆ eHDS.jso…   ┆             ┆             ┆             ┆             │\n",
       "│ 1.3162e19   ┆ 110543025219 ┆ ../../../.. ┆ 11795014513 ┆ MoneyMarket ┆ 51953141610 ┆ Rejected    │\n",
       "│             ┆ 63209580     ┆ /data/Sampl ┆ 929145453   ┆ SavingsAcco ┆ 35972811    ┆             │\n",
       "│             ┆              ┆ eHDS.jso…   ┆             ┆ unt         ┆             ┆             │\n",
       "│ 6.8958e18   ┆ 269086008692 ┆ ../../../.. ┆ 86416065848 ┆ BasicChecki ┆ 51953141610 ┆ Rejected    │\n",
       "│             ┆ 2430879      ┆ /data/Sampl ┆ 00968118    ┆ ng          ┆ 35972811    ┆             │\n",
       "│             ┆              ┆ eHDS.jso…   ┆             ┆             ┆             ┆             │\n",
       "│ 1.5988e19   ┆ 248317482429 ┆ ../../../.. ┆ 92800317790 ┆ BasicChecki ┆ 54407179726 ┆ Accepted    │\n",
       "│             ┆ 0025401      ┆ /data/Sampl ┆ 3087711     ┆ ng          ┆ 91627548    ┆             │\n",
       "│             ┆              ┆ eHDS.jso…   ┆             ┆             ┆             ┆             │\n",
       "│ 1.2533e19   ┆ 742796727656 ┆ ../../../.. ┆ 11795014513 ┆ UPlusFinPer ┆ null        ┆ Rejected    │\n",
       "│             ┆ 5884596      ┆ /data/Sampl ┆ 929145453   ┆ sonal       ┆             ┆             │\n",
       "│             ┆              ┆ eHDS.jso…   ┆             ┆             ┆             ┆             │\n",
       "│ 6.8039e18   ┆ 172044867966 ┆ ../../../.. ┆ 11795014513 ┆ BasicChecki ┆ 54407179726 ┆ Rejected    │\n",
       "│             ┆ 14990752     ┆ /data/Sampl ┆ 929145453   ┆ ng          ┆ 91627548    ┆             │\n",
       "│             ┆              ┆ eHDS.jso…   ┆             ┆             ┆             ┆             │\n",
       "└─────────────┴──────────────┴─────────────┴─────────────┴─────────────┴─────────────┴─────────────┘"
      ]
     },
     "execution_count": 10,
     "metadata": {},
     "output_type": "execute_result"
    }
   ],
   "source": [
    "anon = DataAnonymization(config=Config(config_file='config.json'))\n",
    "anon.process()"
   ]
  },
  {
   "attachments": {},
   "cell_type": "markdown",
   "metadata": {},
   "source": [
    "## Exporting\n",
    "Two functions export:\n",
    "- `create_mapping_file()` writes the mapping file of the predictor names\n",
    "- `write_to_output()` writes the processed dataframe to disk\n",
    "\n",
    "Write to output accepts the following extensions: `[\"ndjson\", \"parquet\", \"arrow\", \"csv\"]`"
   ]
  },
  {
   "cell_type": "code",
   "execution_count": 11,
   "metadata": {
    "execution": {
     "iopub.execute_input": "2024-05-14T12:58:11.814365Z",
     "iopub.status.busy": "2024-05-14T12:58:11.814088Z",
     "iopub.status.idle": "2024-05-14T12:58:11.817223Z",
     "shell.execute_reply": "2024-05-14T12:58:11.816807Z"
    }
   },
   "outputs": [
    {
     "name": "stdout",
     "output_type": "stream",
     "text": [
      "Customer_CLV=PREDICTOR_0\n",
      "Customer_City=PREDICTOR_1\n",
      "filename=filename\n",
      "Customer_MaritalStatus=PREDICTOR_3\n",
      "Context_Name=Context_Name\n",
      "IH_Web_Inbound_Accepted_pxLastGroupID=IH_Web_Inbound_Accepted_pxLastGroupID\n",
      "Decision_Outcome=Decision_Outcome\n",
      "\n"
     ]
    }
   ],
   "source": [
    "anon.create_mapping_file()\n",
    "with open('mapping.map') as f:\n",
    "    print(f.read())"
   ]
  },
  {
   "cell_type": "code",
   "execution_count": 12,
   "metadata": {
    "execution": {
     "iopub.execute_input": "2024-05-14T12:58:11.819113Z",
     "iopub.status.busy": "2024-05-14T12:58:11.818798Z",
     "iopub.status.idle": "2024-05-14T12:58:11.822254Z",
     "shell.execute_reply": "2024-05-14T12:58:11.821826Z"
    }
   },
   "outputs": [],
   "source": [
    "anon.write_to_output(ext='arrow')"
   ]
  },
  {
   "cell_type": "code",
   "execution_count": 13,
   "metadata": {
    "execution": {
     "iopub.execute_input": "2024-05-14T12:58:11.824200Z",
     "iopub.status.busy": "2024-05-14T12:58:11.823874Z",
     "iopub.status.idle": "2024-05-14T12:58:11.828235Z",
     "shell.execute_reply": "2024-05-14T12:58:11.827775Z"
    }
   },
   "outputs": [
    {
     "data": {
      "text/html": [
       "<div><style>\n",
       ".dataframe > thead > tr,\n",
       ".dataframe > tbody > tr {\n",
       "  text-align: right;\n",
       "  white-space: pre-wrap;\n",
       "}\n",
       "</style>\n",
       "<small>shape: (7, 6)</small><table border=\"1\" class=\"dataframe\"><thead><tr><th>PREDICTOR_0</th><th>PREDICTOR_1</th><th>PREDICTOR_3</th><th>Context_Name</th><th>IH_Web_Inbound_Accepted_pxLastGroupID</th><th>Decision_Outcome</th></tr><tr><td>f64</td><td>str</td><td>str</td><td>str</td><td>str</td><td>str</td></tr></thead><tbody><tr><td>3.4990e18</td><td>&quot;12133085546794794703&quot;</td><td>&quot;16713742105317773808&quot;</td><td>&quot;FirstMortgage30yr&quot;</td><td>&quot;12915145627544144786&quot;</td><td>&quot;Rejected&quot;</td></tr><tr><td>1.8417e19</td><td>&quot;15839720641583736446&quot;</td><td>&quot;18418823717113333765&quot;</td><td>&quot;FirstMortgage30yr&quot;</td><td>&quot;14619991112982357529&quot;</td><td>&quot;Accepted&quot;</td></tr><tr><td>1.0755e18</td><td>&quot;2113161723567041340&quot;</td><td>&quot;12841435627529050742&quot;</td><td>&quot;MoneyMarketSavingsAccount&quot;</td><td>&quot;12915145627544144786&quot;</td><td>&quot;Rejected&quot;</td></tr><tr><td>7.1356e18</td><td>&quot;15914827358111653676&quot;</td><td>&quot;18418823717113333765&quot;</td><td>&quot;BasicChecking&quot;</td><td>&quot;12915145627544144786&quot;</td><td>&quot;Rejected&quot;</td></tr><tr><td>1.4449e17</td><td>&quot;13183820715536848405&quot;</td><td>&quot;16713742105317773808&quot;</td><td>&quot;BasicChecking&quot;</td><td>&quot;12193564803628093089&quot;</td><td>&quot;Accepted&quot;</td></tr><tr><td>8.9969e18</td><td>&quot;7685362011662894839&quot;</td><td>&quot;12841435627529050742&quot;</td><td>&quot;UPlusFinPersonal&quot;</td><td>null</td><td>&quot;Rejected&quot;</td></tr><tr><td>1.7611e19</td><td>&quot;10089310986746519408&quot;</td><td>&quot;12841435627529050742&quot;</td><td>&quot;BasicChecking&quot;</td><td>&quot;12193564803628093089&quot;</td><td>&quot;Rejected&quot;</td></tr></tbody></table></div>"
      ],
      "text/plain": [
       "shape: (7, 6)\n",
       "┌─────────────┬────────────────┬────────────────┬────────────────┬────────────────┬────────────────┐\n",
       "│ PREDICTOR_0 ┆ PREDICTOR_1    ┆ PREDICTOR_3    ┆ Context_Name   ┆ IH_Web_Inbound ┆ Decision_Outco │\n",
       "│ ---         ┆ ---            ┆ ---            ┆ ---            ┆ _Accepted_pxLa ┆ me             │\n",
       "│ f64         ┆ str            ┆ str            ┆ str            ┆ st…            ┆ ---            │\n",
       "│             ┆                ┆                ┆                ┆ ---            ┆ str            │\n",
       "│             ┆                ┆                ┆                ┆ str            ┆                │\n",
       "╞═════════════╪════════════════╪════════════════╪════════════════╪════════════════╪════════════════╡\n",
       "│ 3.4990e18   ┆ 12133085546794 ┆ 16713742105317 ┆ FirstMortgage3 ┆ 12915145627544 ┆ Rejected       │\n",
       "│             ┆ 794703         ┆ 773808         ┆ 0yr            ┆ 144786         ┆                │\n",
       "│ 1.8417e19   ┆ 15839720641583 ┆ 18418823717113 ┆ FirstMortgage3 ┆ 14619991112982 ┆ Accepted       │\n",
       "│             ┆ 736446         ┆ 333765         ┆ 0yr            ┆ 357529         ┆                │\n",
       "│ 1.0755e18   ┆ 21131617235670 ┆ 12841435627529 ┆ MoneyMarketSav ┆ 12915145627544 ┆ Rejected       │\n",
       "│             ┆ 41340          ┆ 050742         ┆ ingsAccount    ┆ 144786         ┆                │\n",
       "│ 7.1356e18   ┆ 15914827358111 ┆ 18418823717113 ┆ BasicChecking  ┆ 12915145627544 ┆ Rejected       │\n",
       "│             ┆ 653676         ┆ 333765         ┆                ┆ 144786         ┆                │\n",
       "│ 1.4449e17   ┆ 13183820715536 ┆ 16713742105317 ┆ BasicChecking  ┆ 12193564803628 ┆ Accepted       │\n",
       "│             ┆ 848405         ┆ 773808         ┆                ┆ 093089         ┆                │\n",
       "│ 8.9969e18   ┆ 76853620116628 ┆ 12841435627529 ┆ UPlusFinPerson ┆ null           ┆ Rejected       │\n",
       "│             ┆ 94839          ┆ 050742         ┆ al             ┆                ┆                │\n",
       "│ 1.7611e19   ┆ 10089310986746 ┆ 12841435627529 ┆ BasicChecking  ┆ 12193564803628 ┆ Rejected       │\n",
       "│             ┆ 519408         ┆ 050742         ┆                ┆ 093089         ┆                │\n",
       "└─────────────┴────────────────┴────────────────┴────────────────┴────────────────┴────────────────┘"
      ]
     },
     "execution_count": 13,
     "metadata": {},
     "output_type": "execute_result"
    }
   ],
   "source": [
    "pl.read_ipc('output/hds.arrow')"
   ]
  },
  {
   "attachments": {},
   "cell_type": "markdown",
   "metadata": {
    "nbsphinx": "hidden"
   },
   "source": [
    "## Advanced: Hash fuctions\n",
    "\n",
    "By default, we use [the same hashing algorithm Polars](https://pola-rs.github.io/polars/py-polars/html/reference/expressions/api/polars.Expr.hash.html#polars.Expr.hash) uses: [xxhash](https://github.com/Cyan4973/xxHash), as implemented [here](https://github.com/pola-rs/polars/blob/3f287f370b3c388ed2f3f218b2c096382548136f/polars/polars-core/src/vector_hasher.rs#L266). xxhash is fast to compute, and you can check its performance in collision, dispersion and randomness [here](https://github.com/Cyan4973/xxHash/tree/dev/tests). \n",
    "\n",
    "xxhash accepts four distinct seeds, but by default we set the seeds to `0`. It is possible to set the `seed` argument of the `process()` function to `'random'`, which will set all four seeds to a random integer between `0` and `1000000000`. Alternatively, it is possible to supply the four seeds manually with arguments `seed`, `seed_1`, `seed_2` and `seed_3`. \n",
    "\n",
    "If the xxhash with (random) seed(s) is not deemed sufficiently secure, it is possible to use your own hashing algorithm.\n",
    "\n",
    "Note that since we're now running python code and not native Polars code anymore, this will be _significantly_ slower. Nonetheless, it is possible.\n",
    "\n",
    "Just as an example - this is how one would use sha3_256:"
   ]
  },
  {
   "cell_type": "code",
   "execution_count": 14,
   "metadata": {
    "execution": {
     "iopub.execute_input": "2024-05-14T12:58:11.830171Z",
     "iopub.status.busy": "2024-05-14T12:58:11.829876Z",
     "iopub.status.idle": "2024-05-14T12:58:12.147176Z",
     "shell.execute_reply": "2024-05-14T12:58:12.146582Z"
    },
    "nbsphinx": "hidden"
   },
   "outputs": [
    {
     "name": "stderr",
     "output_type": "stream",
     "text": [
      "sys:1: MapWithoutReturnDtypeWarning:\n",
      "\n",
      "Calling `map_elements` without specifying `return_dtype` can lead to unpredictable results. Specify `return_dtype` to silence this warning.\n",
      "\n",
      "sys:1: MapWithoutReturnDtypeWarning:\n",
      "\n",
      "Calling `map_elements` without specifying `return_dtype` can lead to unpredictable results. Specify `return_dtype` to silence this warning.\n",
      "\n",
      "sys:1: MapWithoutReturnDtypeWarning:\n",
      "\n",
      "Calling `map_elements` without specifying `return_dtype` can lead to unpredictable results. Specify `return_dtype` to silence this warning.\n",
      "\n",
      "sys:1: MapWithoutReturnDtypeWarning:\n",
      "\n",
      "Calling `map_elements` without specifying `return_dtype` can lead to unpredictable results. Specify `return_dtype` to silence this warning.\n",
      "\n"
     ]
    },
    {
     "ename": "ComputeError",
     "evalue": "AttributeError: 'int' object has no attribute 'encode'",
     "output_type": "error",
     "traceback": [
      "\u001b[0;31m---------------------------------------------------------------------------\u001b[0m",
      "\u001b[0;31mComputeError\u001b[0m                              Traceback (most recent call last)",
      "Cell \u001b[0;32mIn[14], line 3\u001b[0m\n\u001b[1;32m      1\u001b[0m \u001b[38;5;28;01mfrom\u001b[39;00m \u001b[38;5;21;01mhashlib\u001b[39;00m \u001b[38;5;28;01mimport\u001b[39;00m sha3_256\n\u001b[0;32m----> 3\u001b[0m \u001b[43manon\u001b[49m\u001b[38;5;241;43m.\u001b[39;49m\u001b[43mprocess\u001b[49m\u001b[43m(\u001b[49m\u001b[43malgorithm\u001b[49m\u001b[38;5;241;43m=\u001b[39;49m\u001b[38;5;28;43;01mlambda\u001b[39;49;00m\u001b[43m \u001b[49m\u001b[43mx\u001b[49m\u001b[43m:\u001b[49m\u001b[43m \u001b[49m\u001b[43msha3_256\u001b[49m\u001b[43m(\u001b[49m\u001b[43mx\u001b[49m\u001b[38;5;241;43m.\u001b[39;49m\u001b[43mencode\u001b[49m\u001b[43m(\u001b[49m\u001b[43m)\u001b[49m\u001b[43m)\u001b[49m\u001b[38;5;241;43m.\u001b[39;49m\u001b[43mhexdigest\u001b[49m\u001b[43m(\u001b[49m\u001b[43m)\u001b[49m\u001b[43m)\u001b[49m\n",
      "File \u001b[0;32m~/work/pega-datascientist-tools/pega-datascientist-tools/python/docs/source/articles/../../../pdstools/utils/hds_utils.py:512\u001b[0m, in \u001b[0;36mDataAnonymization.process\u001b[0;34m(self, strategy, **kwargs)\u001b[0m\n\u001b[1;32m    510\u001b[0m df \u001b[38;5;241m=\u001b[39m df\u001b[38;5;241m.\u001b[39mselect(\u001b[38;5;28mself\u001b[39m\u001b[38;5;241m.\u001b[39mcolumn_mapping\u001b[38;5;241m.\u001b[39mkeys())\u001b[38;5;241m.\u001b[39mrename(\u001b[38;5;28mself\u001b[39m\u001b[38;5;241m.\u001b[39mcolumn_mapping)\n\u001b[1;32m    511\u001b[0m \u001b[38;5;28;01mif\u001b[39;00m strategy \u001b[38;5;241m==\u001b[39m \u001b[38;5;124m\"\u001b[39m\u001b[38;5;124meager\u001b[39m\u001b[38;5;124m\"\u001b[39m:\n\u001b[0;32m--> 512\u001b[0m     \u001b[38;5;28;01mreturn\u001b[39;00m \u001b[43mdf\u001b[49m\u001b[38;5;241;43m.\u001b[39;49m\u001b[43mcollect\u001b[49m\u001b[43m(\u001b[49m\u001b[43m)\u001b[49m\n\u001b[1;32m    513\u001b[0m \u001b[38;5;28;01mreturn\u001b[39;00m df\n",
      "File \u001b[0;32m/opt/hostedtoolcache/Python/3.11.9/x64/lib/python3.11/site-packages/polars/lazyframe/frame.py:1816\u001b[0m, in \u001b[0;36mLazyFrame.collect\u001b[0;34m(self, type_coercion, predicate_pushdown, projection_pushdown, simplify_expression, slice_pushdown, comm_subplan_elim, comm_subexpr_elim, no_optimization, streaming, background, _eager, **_kwargs)\u001b[0m\n\u001b[1;32m   1813\u001b[0m \u001b[38;5;66;03m# Only for testing purposes atm.\u001b[39;00m\n\u001b[1;32m   1814\u001b[0m callback \u001b[38;5;241m=\u001b[39m _kwargs\u001b[38;5;241m.\u001b[39mget(\u001b[38;5;124m\"\u001b[39m\u001b[38;5;124mpost_opt_callback\u001b[39m\u001b[38;5;124m\"\u001b[39m)\n\u001b[0;32m-> 1816\u001b[0m \u001b[38;5;28;01mreturn\u001b[39;00m wrap_df(\u001b[43mldf\u001b[49m\u001b[38;5;241;43m.\u001b[39;49m\u001b[43mcollect\u001b[49m\u001b[43m(\u001b[49m\u001b[43mcallback\u001b[49m\u001b[43m)\u001b[49m)\n",
      "\u001b[0;31mComputeError\u001b[0m: AttributeError: 'int' object has no attribute 'encode'"
     ]
    }
   ],
   "source": [
    "from hashlib import sha3_256\n",
    "\n",
    "anon.process(algorithm=lambda x: sha3_256(x.encode()).hexdigest())"
   ]
  }
 ],
 "metadata": {
  "kernelspec": {
   "display_name": "Python 3",
   "language": "python",
   "name": "python3"
  },
  "language_info": {
   "codemirror_mode": {
    "name": "ipython",
    "version": 3
   },
   "file_extension": ".py",
   "mimetype": "text/x-python",
   "name": "python",
   "nbconvert_exporter": "python",
   "pygments_lexer": "ipython3",
   "version": "3.11.9"
  },
  "vscode": {
   "interpreter": {
    "hash": "aee8b7b246df8f9039afb4144a1f6fd8d2ca17a180786b69acc140d282b71a49"
   }
  }
 },
 "nbformat": 4,
 "nbformat_minor": 2
}
