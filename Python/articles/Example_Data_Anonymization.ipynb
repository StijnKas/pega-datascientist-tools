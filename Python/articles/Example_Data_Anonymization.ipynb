{
 "cells": [
  {
   "attachments": {},
   "cell_type": "markdown",
   "metadata": {},
   "source": [
    "# Example data anonymization\n",
    "\n",
    "In Pega CDH 8.5 and up, it's now possible to record the historical data as seen by the Adaptive Models. See [this academy challenge](https://academy.pega.com/challenge/exporting-historical-data/v4) for reference. This historical data can be further used to experiment with offline models, but also to fine-tune the OOTB Gradient Boosting model. However, sharing this information with Pega can be sensitive as it contains raw predictor data. \n",
    "\n",
    "To this end, we provide a simple and transparent script to fully anonimize this dataset.\n",
    "\n",
    "The DataAnonymization script is now part of pdstools, and you can import it directly as such."
   ]
  },
  {
   "cell_type": "code",
   "execution_count": 1,
   "metadata": {
    "execution": {
     "iopub.execute_input": "2023-05-23T15:22:38.156885Z",
     "iopub.status.busy": "2023-05-23T15:22:38.156639Z",
     "iopub.status.idle": "2023-05-23T15:22:38.165517Z",
     "shell.execute_reply": "2023-05-23T15:22:38.164701Z"
    },
    "nbsphinx": "hidden"
   },
   "outputs": [],
   "source": [
    "# These lines are only for rendering in the docs, and are hidden through Jupyter tags\n",
    "# Do not run if you're running the notebook seperately\n",
    "\n",
    "import sys\n",
    "sys.path.append('../../../')"
   ]
  },
  {
   "cell_type": "code",
   "execution_count": 2,
   "metadata": {
    "execution": {
     "iopub.execute_input": "2023-05-23T15:22:38.168588Z",
     "iopub.status.busy": "2023-05-23T15:22:38.168356Z",
     "iopub.status.idle": "2023-05-23T15:22:39.577611Z",
     "shell.execute_reply": "2023-05-23T15:22:39.576696Z"
    }
   },
   "outputs": [],
   "source": [
    "from pdstools import ADMDatamart\n",
    "from pdstools import Config, DataAnonymization\n",
    "import polars as pl"
   ]
  },
  {
   "attachments": {},
   "cell_type": "markdown",
   "metadata": {},
   "source": [
    "## Input data\n",
    "\n",
    "To demonstrate this process, we're going to anonymise this toy example dataframe:"
   ]
  },
  {
   "cell_type": "code",
   "execution_count": 3,
   "metadata": {
    "execution": {
     "iopub.execute_input": "2023-05-23T15:22:39.581966Z",
     "iopub.status.busy": "2023-05-23T15:22:39.581378Z",
     "iopub.status.idle": "2023-05-23T15:22:39.597775Z",
     "shell.execute_reply": "2023-05-23T15:22:39.597009Z"
    }
   },
   "outputs": [
    {
     "name": "stderr",
     "output_type": "stream",
     "text": [
      "[/home/runner/work/polars/polars/polars/polars-io/src/ndjson/core.rs:162] &data_type = Struct(\n",
      "    [\n",
      "        Field {\n",
      "            name: \"Context_Name\",\n",
      "            data_type: LargeUtf8,\n",
      "            is_nullable: true,\n",
      "            metadata: {},\n",
      "        },\n",
      "        Field {\n",
      "            name: \"Customer_MaritalStatus\",\n",
      "            data_type: LargeUtf8,\n",
      "            is_nullable: true,\n",
      "            metadata: {},\n",
      "        },\n",
      "        Field {\n",
      "            name: \"Customer_CLV\",\n",
      "            data_type: Int64,\n",
      "            is_nullable: true,\n",
      "            metadata: {},\n",
      "        },\n",
      "        Field {\n",
      "            name: \"Customer_City\",\n",
      "            data_type: LargeUtf8,\n",
      "            is_nullable: true,\n",
      "            metadata: {},\n",
      "        },\n",
      "        Field {\n",
      "            name: \"IH_Web_Inbound_Accepted_pxLastGroupID\",\n",
      "            data_type: LargeUtf8,\n",
      "            is_nullable: true,\n",
      "            metadata: {},\n",
      "        },\n",
      "        Field {\n",
      "            name: \"Decision_Outcome\",\n",
      "            data_type: LargeUtf8,\n",
      "            is_nullable: true,\n",
      "            metadata: {},\n",
      "        },\n",
      "    ],\n",
      ")\n"
     ]
    },
    {
     "data": {
      "text/html": [
       "<div><style>\n",
       ".dataframe > thead > tr > th,\n",
       ".dataframe > tbody > tr > td {\n",
       "  text-align: right;\n",
       "}\n",
       "</style>\n",
       "<small>shape: (7, 6)</small><table border=\"1\" class=\"dataframe\"><thead><tr><th>Context_Name</th><th>Customer_MaritalStatus</th><th>Customer_CLV</th><th>Customer_City</th><th>IH_Web_Inbound_Accepted_pxLastGroupID</th><th>Decision_Outcome</th></tr><tr><td>str</td><td>str</td><td>i64</td><td>str</td><td>str</td><td>str</td></tr></thead><tbody><tr><td>&quot;FirstMortgage3…</td><td>&quot;Married&quot;</td><td>1460</td><td>&quot;Port Raoul&quot;</td><td>&quot;Account&quot;</td><td>&quot;Rejected&quot;</td></tr><tr><td>&quot;FirstMortgage3…</td><td>&quot;Unknown&quot;</td><td>669</td><td>&quot;Laurianneshire…</td><td>&quot;AutoLoans&quot;</td><td>&quot;Accepted&quot;</td></tr><tr><td>&quot;MoneyMarketSav…</td><td>&quot;No Resp+&quot;</td><td>1174</td><td>&quot;Jacobshaven&quot;</td><td>&quot;Account&quot;</td><td>&quot;Rejected&quot;</td></tr><tr><td>&quot;BasicChecking&quot;</td><td>&quot;Unknown&quot;</td><td>1476</td><td>&quot;Lindton&quot;</td><td>&quot;Account&quot;</td><td>&quot;Rejected&quot;</td></tr><tr><td>&quot;BasicChecking&quot;</td><td>&quot;Married&quot;</td><td>1211</td><td>&quot;South Jimmiesh…</td><td>&quot;DepositAccount…</td><td>&quot;Accepted&quot;</td></tr><tr><td>&quot;UPlusFinPerson…</td><td>&quot;No Resp+&quot;</td><td>533</td><td>&quot;Bergeville&quot;</td><td>null</td><td>&quot;Rejected&quot;</td></tr><tr><td>&quot;BasicChecking&quot;</td><td>&quot;No Resp+&quot;</td><td>555</td><td>&quot;Willyville&quot;</td><td>&quot;DepositAccount…</td><td>&quot;Rejected&quot;</td></tr></tbody></table></div>"
      ],
      "text/plain": [
       "shape: (7, 6)\n",
       "┌────────────────┬────────────────┬──────────────┬────────────────┬────────────────┬───────────────┐\n",
       "│ Context_Name   ┆ Customer_Marit ┆ Customer_CLV ┆ Customer_City  ┆ IH_Web_Inbound ┆ Decision_Outc │\n",
       "│ ---            ┆ alStatus       ┆ ---          ┆ ---            ┆ _Accepted_pxLa ┆ ome           │\n",
       "│ str            ┆ ---            ┆ i64          ┆ str            ┆ stGr…          ┆ ---           │\n",
       "│                ┆ str            ┆              ┆                ┆ ---            ┆ str           │\n",
       "│                ┆                ┆              ┆                ┆ str            ┆               │\n",
       "╞════════════════╪════════════════╪══════════════╪════════════════╪════════════════╪═══════════════╡\n",
       "│ FirstMortgage3 ┆ Married        ┆ 1460         ┆ Port Raoul     ┆ Account        ┆ Rejected      │\n",
       "│ 0yr            ┆                ┆              ┆                ┆                ┆               │\n",
       "│ FirstMortgage3 ┆ Unknown        ┆ 669          ┆ Laurianneshire ┆ AutoLoans      ┆ Accepted      │\n",
       "│ 0yr            ┆                ┆              ┆                ┆                ┆               │\n",
       "│ MoneyMarketSav ┆ No Resp+       ┆ 1174         ┆ Jacobshaven    ┆ Account        ┆ Rejected      │\n",
       "│ ingsAccount    ┆                ┆              ┆                ┆                ┆               │\n",
       "│ BasicChecking  ┆ Unknown        ┆ 1476         ┆ Lindton        ┆ Account        ┆ Rejected      │\n",
       "│ BasicChecking  ┆ Married        ┆ 1211         ┆ South          ┆ DepositAccount ┆ Accepted      │\n",
       "│                ┆                ┆              ┆ Jimmieshire    ┆ s              ┆               │\n",
       "│ UPlusFinPerson ┆ No Resp+       ┆ 533          ┆ Bergeville     ┆ null           ┆ Rejected      │\n",
       "│ al             ┆                ┆              ┆                ┆                ┆               │\n",
       "│ BasicChecking  ┆ No Resp+       ┆ 555          ┆ Willyville     ┆ DepositAccount ┆ Rejected      │\n",
       "│                ┆                ┆              ┆                ┆ s              ┆               │\n",
       "└────────────────┴────────────────┴──────────────┴────────────────┴────────────────┴───────────────┘"
      ]
     },
     "execution_count": 3,
     "metadata": {},
     "output_type": "execute_result"
    }
   ],
   "source": [
    "pl.read_ndjson('../../../../data/SampleHDS.json')"
   ]
  },
  {
   "attachments": {},
   "cell_type": "markdown",
   "metadata": {},
   "source": [
    "As you can see, this dataset consists of regular predictors, IH predictors, context keys and the outcome column. Additionally, some columns are numeric, others are strings. Let's first initialize the DataAnonymization class."
   ]
  },
  {
   "cell_type": "code",
   "execution_count": 4,
   "metadata": {
    "execution": {
     "iopub.execute_input": "2023-05-23T15:22:39.601107Z",
     "iopub.status.busy": "2023-05-23T15:22:39.600594Z",
     "iopub.status.idle": "2023-05-23T15:22:39.611465Z",
     "shell.execute_reply": "2023-05-23T15:22:39.610651Z"
    }
   },
   "outputs": [],
   "source": [
    "anon = DataAnonymization(hds_folder='../../../../data/')"
   ]
  },
  {
   "attachments": {},
   "cell_type": "markdown",
   "metadata": {},
   "source": [
    "By default, the class applies a set of anonymisation techniques:\n",
    "- Column names are remapped to a non-descriptive name\n",
    "- Categorical values are hashed with a random seed\n",
    "- Numerical values are normalized between 0 and 1\n",
    "- Outcomes are mapped to a binary outcome.\n",
    "\n",
    "To apply these techniques, simply call `.process()`:"
   ]
  },
  {
   "cell_type": "code",
   "execution_count": 5,
   "metadata": {
    "execution": {
     "iopub.execute_input": "2023-05-23T15:22:39.614917Z",
     "iopub.status.busy": "2023-05-23T15:22:39.614407Z",
     "iopub.status.idle": "2023-05-23T15:22:39.623357Z",
     "shell.execute_reply": "2023-05-23T15:22:39.622625Z"
    }
   },
   "outputs": [
    {
     "data": {
      "text/html": [
       "<div><style>\n",
       ".dataframe > thead > tr > th,\n",
       ".dataframe > tbody > tr > td {\n",
       "  text-align: right;\n",
       "}\n",
       "</style>\n",
       "<small>shape: (7, 7)</small><table border=\"1\" class=\"dataframe\"><thead><tr><th>PREDICTOR_0</th><th>PREDICTOR_1</th><th>PREDICTOR_2</th><th>filename</th><th>Context_Name</th><th>IH_PREDICTOR_0</th><th>Decision_Outcome</th></tr><tr><td>str</td><td>str</td><td>f64</td><td>str</td><td>str</td><td>str</td><td>bool</td></tr></thead><tbody><tr><td>&quot;38677085795327…</td><td>&quot;23033786037019…</td><td>1.2927e19</td><td>&quot;../../../../da…</td><td>&quot;17451102052902…</td><td>&quot;86923807729354…</td><td>false</td></tr><tr><td>&quot;88206068377716…</td><td>&quot;71335115101472…</td><td>1.4856e19</td><td>&quot;../../../../da…</td><td>&quot;17451102052902…</td><td>&quot;59108866260329…</td><td>true</td></tr><tr><td>&quot;14885304029543…</td><td>&quot;72378739567803…</td><td>5.6458e17</td><td>&quot;../../../../da…</td><td>&quot;16005042298309…</td><td>&quot;86923807729354…</td><td>false</td></tr><tr><td>&quot;88206068377716…</td><td>&quot;13964714648572…</td><td>4.0723e18</td><td>&quot;../../../../da…</td><td>&quot;12894350115284…</td><td>&quot;86923807729354…</td><td>false</td></tr><tr><td>&quot;38677085795327…</td><td>&quot;12147009897458…</td><td>1.4677e19</td><td>&quot;../../../../da…</td><td>&quot;12894350115284…</td><td>&quot;22273811472408…</td><td>true</td></tr><tr><td>&quot;14885304029543…</td><td>&quot;12819745686718…</td><td>1.6330e19</td><td>&quot;../../../../da…</td><td>&quot;14446052632398…</td><td>null</td><td>false</td></tr><tr><td>&quot;14885304029543…</td><td>&quot;19530262854811…</td><td>8.7675e18</td><td>&quot;../../../../da…</td><td>&quot;12894350115284…</td><td>&quot;22273811472408…</td><td>false</td></tr></tbody></table></div>"
      ],
      "text/plain": [
       "shape: (7, 7)\n",
       "┌───────────────┬──────────────┬─────────────┬──────────────┬────────────┬────────────┬────────────┐\n",
       "│ PREDICTOR_0   ┆ PREDICTOR_1  ┆ PREDICTOR_2 ┆ filename     ┆ Context_Na ┆ IH_PREDICT ┆ Decision_O │\n",
       "│ ---           ┆ ---          ┆ ---         ┆ ---          ┆ me         ┆ OR_0       ┆ utcome     │\n",
       "│ str           ┆ str          ┆ f64         ┆ str          ┆ ---        ┆ ---        ┆ ---        │\n",
       "│               ┆              ┆             ┆              ┆ str        ┆ str        ┆ bool       │\n",
       "╞═══════════════╪══════════════╪═════════════╪══════════════╪════════════╪════════════╪════════════╡\n",
       "│ 3867708579532 ┆ 230337860370 ┆ 1.2927e19   ┆ ../../../../ ┆ 1745110205 ┆ 8692380772 ┆ false      │\n",
       "│ 713626        ┆ 1962604      ┆             ┆ data/SampleH ┆ 2902113398 ┆ 935466031  ┆            │\n",
       "│               ┆              ┆             ┆ DS.json      ┆            ┆            ┆            │\n",
       "│ 8820606837771 ┆ 713351151014 ┆ 1.4856e19   ┆ ../../../../ ┆ 1745110205 ┆ 5910886626 ┆ true       │\n",
       "│ 661952        ┆ 7291737      ┆             ┆ data/SampleH ┆ 2902113398 ┆ 032971526  ┆            │\n",
       "│               ┆              ┆             ┆ DS.json      ┆            ┆            ┆            │\n",
       "│ 1488530402954 ┆ 723787395678 ┆ 5.6458e17   ┆ ../../../../ ┆ 1600504229 ┆ 8692380772 ┆ false      │\n",
       "│ 330550        ┆ 0351390      ┆             ┆ data/SampleH ┆ 8309783409 ┆ 935466031  ┆            │\n",
       "│               ┆              ┆             ┆ DS.json      ┆            ┆            ┆            │\n",
       "│ 8820606837771 ┆ 139647146485 ┆ 4.0723e18   ┆ ../../../../ ┆ 1289435011 ┆ 8692380772 ┆ false      │\n",
       "│ 661952        ┆ 72066350     ┆             ┆ data/SampleH ┆ 5284934405 ┆ 935466031  ┆            │\n",
       "│               ┆              ┆             ┆ DS.json      ┆            ┆            ┆            │\n",
       "│ 3867708579532 ┆ 121470098974 ┆ 1.4677e19   ┆ ../../../../ ┆ 1289435011 ┆ 2227381147 ┆ true       │\n",
       "│ 713626        ┆ 58315689     ┆             ┆ data/SampleH ┆ 5284934405 ┆ 240859246  ┆            │\n",
       "│               ┆              ┆             ┆ DS.json      ┆            ┆            ┆            │\n",
       "│ 1488530402954 ┆ 128197456867 ┆ 1.6330e19   ┆ ../../../../ ┆ 1444605263 ┆ null       ┆ false      │\n",
       "│ 330550        ┆ 18345187     ┆             ┆ data/SampleH ┆ 2398491110 ┆            ┆            │\n",
       "│               ┆              ┆             ┆ DS.json      ┆            ┆            ┆            │\n",
       "│ 1488530402954 ┆ 195302628548 ┆ 8.7675e18   ┆ ../../../../ ┆ 1289435011 ┆ 2227381147 ┆ false      │\n",
       "│ 330550        ┆ 1171239      ┆             ┆ data/SampleH ┆ 5284934405 ┆ 240859246  ┆            │\n",
       "│               ┆              ┆             ┆ DS.json      ┆            ┆            ┆            │\n",
       "└───────────────┴──────────────┴─────────────┴──────────────┴────────────┴────────────┴────────────┘"
      ]
     },
     "execution_count": 5,
     "metadata": {},
     "output_type": "execute_result"
    }
   ],
   "source": [
    "anon.process()"
   ]
  },
  {
   "attachments": {},
   "cell_type": "markdown",
   "metadata": {},
   "source": [
    "To trace back the columns to their original names, the class also contains a mapping, which does not have to be provided."
   ]
  },
  {
   "cell_type": "code",
   "execution_count": 6,
   "metadata": {
    "execution": {
     "iopub.execute_input": "2023-05-23T15:22:39.627860Z",
     "iopub.status.busy": "2023-05-23T15:22:39.627363Z",
     "iopub.status.idle": "2023-05-23T15:22:39.632454Z",
     "shell.execute_reply": "2023-05-23T15:22:39.631736Z"
    }
   },
   "outputs": [
    {
     "data": {
      "text/plain": [
       "{'Customer_MaritalStatus': 'PREDICTOR_0',\n",
       " 'Customer_City': 'PREDICTOR_1',\n",
       " 'Customer_CLV': 'PREDICTOR_2',\n",
       " 'filename': 'filename',\n",
       " 'Context_Name': 'Context_Name',\n",
       " 'IH_Web_Inbound_Accepted_pxLastGroupID': 'IH_PREDICTOR_0',\n",
       " 'Decision_Outcome': 'Decision_Outcome'}"
      ]
     },
     "execution_count": 6,
     "metadata": {},
     "output_type": "execute_result"
    }
   ],
   "source": [
    "anon.column_mapping"
   ]
  },
  {
   "attachments": {},
   "cell_type": "markdown",
   "metadata": {},
   "source": [
    "## Configs\n",
    "\n",
    "Each capability can optionally be turned off - see below for the full list of config options, and refer to the API reference for the full description."
   ]
  },
  {
   "cell_type": "code",
   "execution_count": 7,
   "metadata": {
    "execution": {
     "iopub.execute_input": "2023-05-23T15:22:39.635542Z",
     "iopub.status.busy": "2023-05-23T15:22:39.635054Z",
     "iopub.status.idle": "2023-05-23T15:22:39.640632Z",
     "shell.execute_reply": "2023-05-23T15:22:39.639890Z"
    }
   },
   "outputs": [
    {
     "data": {
      "text/plain": [
       "{'config_file': None,\n",
       " 'hds_folder': '.',\n",
       " 'use_datamart': False,\n",
       " 'datamart_folder': 'datamart',\n",
       " 'output_format': 'ndjson',\n",
       " 'output_folder': 'output',\n",
       " 'mapping_file': 'mapping.map',\n",
       " 'mask_predictor_names': True,\n",
       " 'mask_context_key_names': False,\n",
       " 'mask_ih_names': True,\n",
       " 'mask_outcome_name': False,\n",
       " 'mask_predictor_values': True,\n",
       " 'mask_context_key_values': True,\n",
       " 'mask_ih_values': True,\n",
       " 'mask_outcome_values': True,\n",
       " 'context_key_label': 'Context_*',\n",
       " 'ih_label': 'IH_*',\n",
       " 'outcome_column': 'Decision_Outcome',\n",
       " 'positive_outcomes': ['Accepted', 'Clicked'],\n",
       " 'negative_outcomes': ['Rejected', 'Impression'],\n",
       " 'special_predictors': ['Decision_DecisionTime',\n",
       "  'Decision_OutcomeTime',\n",
       "  'Decision_Rank'],\n",
       " 'sample_percentage_schema_inferencing': 0.01}"
      ]
     },
     "execution_count": 7,
     "metadata": {},
     "output_type": "execute_result"
    }
   ],
   "source": [
    "dict(zip(Config.__init__.__code__.co_varnames[1:], Config.__init__.__defaults__))"
   ]
  },
  {
   "attachments": {},
   "cell_type": "markdown",
   "metadata": {},
   "source": [
    "It's easy to change these parameters by just passing the keyword arguments. In the following example, we\n",
    "- Keep the IH predictor names\n",
    "- Keep the outcome values\n",
    "- Keep the context key values\n",
    "- Keep the context key predictor names"
   ]
  },
  {
   "cell_type": "code",
   "execution_count": 8,
   "metadata": {
    "execution": {
     "iopub.execute_input": "2023-05-23T15:22:39.643985Z",
     "iopub.status.busy": "2023-05-23T15:22:39.643409Z",
     "iopub.status.idle": "2023-05-23T15:22:39.658450Z",
     "shell.execute_reply": "2023-05-23T15:22:39.657710Z"
    }
   },
   "outputs": [
    {
     "data": {
      "text/html": [
       "<div><style>\n",
       ".dataframe > thead > tr > th,\n",
       ".dataframe > tbody > tr > td {\n",
       "  text-align: right;\n",
       "}\n",
       "</style>\n",
       "<small>shape: (7, 7)</small><table border=\"1\" class=\"dataframe\"><thead><tr><th>PREDICTOR_0</th><th>PREDICTOR_1</th><th>PREDICTOR_2</th><th>filename</th><th>Context_Name</th><th>IH_Web_Inbound_Accepted_pxLastGroupID</th><th>Decision_Outcome</th></tr><tr><td>str</td><td>str</td><td>f64</td><td>str</td><td>str</td><td>str</td><td>str</td></tr></thead><tbody><tr><td>&quot;16843874796303…</td><td>&quot;57013669955248…</td><td>1.2927e19</td><td>&quot;../../../../da…</td><td>&quot;FirstMortgage3…</td><td>&quot;45989256153484…</td><td>&quot;Rejected&quot;</td></tr><tr><td>&quot;99244963011158…</td><td>&quot;94950871603427…</td><td>1.4856e19</td><td>&quot;../../../../da…</td><td>&quot;FirstMortgage3…</td><td>&quot;14328080969519…</td><td>&quot;Accepted&quot;</td></tr><tr><td>&quot;76642960537548…</td><td>&quot;34269974858535…</td><td>5.6458e17</td><td>&quot;../../../../da…</td><td>&quot;MoneyMarketSav…</td><td>&quot;45989256153484…</td><td>&quot;Rejected&quot;</td></tr><tr><td>&quot;99244963011158…</td><td>&quot;91209517562086…</td><td>4.0723e18</td><td>&quot;../../../../da…</td><td>&quot;BasicChecking&quot;</td><td>&quot;45989256153484…</td><td>&quot;Rejected&quot;</td></tr><tr><td>&quot;16843874796303…</td><td>&quot;17699366782384…</td><td>1.4677e19</td><td>&quot;../../../../da…</td><td>&quot;BasicChecking&quot;</td><td>&quot;15552050169219…</td><td>&quot;Accepted&quot;</td></tr><tr><td>&quot;76642960537548…</td><td>&quot;11050199262933…</td><td>1.6330e19</td><td>&quot;../../../../da…</td><td>&quot;UPlusFinPerson…</td><td>null</td><td>&quot;Rejected&quot;</td></tr><tr><td>&quot;76642960537548…</td><td>&quot;63810935200107…</td><td>8.7675e18</td><td>&quot;../../../../da…</td><td>&quot;BasicChecking&quot;</td><td>&quot;15552050169219…</td><td>&quot;Rejected&quot;</td></tr></tbody></table></div>"
      ],
      "text/plain": [
       "shape: (7, 7)\n",
       "┌───────────────┬──────────────┬─────────────┬──────────────┬────────────┬────────────┬────────────┐\n",
       "│ PREDICTOR_0   ┆ PREDICTOR_1  ┆ PREDICTOR_2 ┆ filename     ┆ Context_Na ┆ IH_Web_Inb ┆ Decision_O │\n",
       "│ ---           ┆ ---          ┆ ---         ┆ ---          ┆ me         ┆ ound_Accep ┆ utcome     │\n",
       "│ str           ┆ str          ┆ f64         ┆ str          ┆ ---        ┆ ted_pxLast ┆ ---        │\n",
       "│               ┆              ┆             ┆              ┆ str        ┆ Gr…        ┆ str        │\n",
       "│               ┆              ┆             ┆              ┆            ┆ ---        ┆            │\n",
       "│               ┆              ┆             ┆              ┆            ┆ str        ┆            │\n",
       "╞═══════════════╪══════════════╪═════════════╪══════════════╪════════════╪════════════╪════════════╡\n",
       "│ 1684387479630 ┆ 570136699552 ┆ 1.2927e19   ┆ ../../../../ ┆ FirstMortg ┆ 4598925615 ┆ Rejected   │\n",
       "│ 3008828       ┆ 4821271      ┆             ┆ data/SampleH ┆ age30yr    ┆ 348440354  ┆            │\n",
       "│               ┆              ┆             ┆ DS.json      ┆            ┆            ┆            │\n",
       "│ 9924496301115 ┆ 949508716034 ┆ 1.4856e19   ┆ ../../../../ ┆ FirstMortg ┆ 1432808096 ┆ Accepted   │\n",
       "│ 879150        ┆ 2730559      ┆             ┆ data/SampleH ┆ age30yr    ┆ 9519083240 ┆            │\n",
       "│               ┆              ┆             ┆ DS.json      ┆            ┆            ┆            │\n",
       "│ 7664296053754 ┆ 342699748585 ┆ 5.6458e17   ┆ ../../../../ ┆ MoneyMarke ┆ 4598925615 ┆ Rejected   │\n",
       "│ 880292        ┆ 3554580      ┆             ┆ data/SampleH ┆ tSavingsAc ┆ 348440354  ┆            │\n",
       "│               ┆              ┆             ┆ DS.json      ┆ count      ┆            ┆            │\n",
       "│ 9924496301115 ┆ 912095175620 ┆ 4.0723e18   ┆ ../../../../ ┆ BasicCheck ┆ 4598925615 ┆ Rejected   │\n",
       "│ 879150        ┆ 8620704      ┆             ┆ data/SampleH ┆ ing        ┆ 348440354  ┆            │\n",
       "│               ┆              ┆             ┆ DS.json      ┆            ┆            ┆            │\n",
       "│ 1684387479630 ┆ 176993667823 ┆ 1.4677e19   ┆ ../../../../ ┆ BasicCheck ┆ 1555205016 ┆ Accepted   │\n",
       "│ 3008828       ┆ 84709473     ┆             ┆ data/SampleH ┆ ing        ┆ 9219367208 ┆            │\n",
       "│               ┆              ┆             ┆ DS.json      ┆            ┆            ┆            │\n",
       "│ 7664296053754 ┆ 110501992629 ┆ 1.6330e19   ┆ ../../../../ ┆ UPlusFinPe ┆ null       ┆ Rejected   │\n",
       "│ 880292        ┆ 33681303     ┆             ┆ data/SampleH ┆ rsonal     ┆            ┆            │\n",
       "│               ┆              ┆             ┆ DS.json      ┆            ┆            ┆            │\n",
       "│ 7664296053754 ┆ 638109352001 ┆ 8.7675e18   ┆ ../../../../ ┆ BasicCheck ┆ 1555205016 ┆ Rejected   │\n",
       "│ 880292        ┆ 07904        ┆             ┆ data/SampleH ┆ ing        ┆ 9219367208 ┆            │\n",
       "│               ┆              ┆             ┆ DS.json      ┆            ┆            ┆            │\n",
       "└───────────────┴──────────────┴─────────────┴──────────────┴────────────┴────────────┴────────────┘"
      ]
     },
     "execution_count": 8,
     "metadata": {},
     "output_type": "execute_result"
    }
   ],
   "source": [
    "anon = DataAnonymization(\n",
    "    hds_folder='../../../../data/',\n",
    "    mask_ih_names=False,\n",
    "    mask_outcome_values=False,\n",
    "    mask_context_key_values=False,\n",
    "    mask_context_key_names=False,\n",
    ")\n",
    "anon.process()\n"
   ]
  },
  {
   "attachments": {},
   "cell_type": "markdown",
   "metadata": {},
   "source": [
    "The configs can also be written and read as such:"
   ]
  },
  {
   "cell_type": "code",
   "execution_count": 9,
   "metadata": {
    "execution": {
     "iopub.execute_input": "2023-05-23T15:22:39.661779Z",
     "iopub.status.busy": "2023-05-23T15:22:39.661315Z",
     "iopub.status.idle": "2023-05-23T15:22:39.664977Z",
     "shell.execute_reply": "2023-05-23T15:22:39.664320Z"
    }
   },
   "outputs": [],
   "source": [
    "anon.config.save_to_config_file('config.json')"
   ]
  },
  {
   "cell_type": "code",
   "execution_count": 10,
   "metadata": {
    "execution": {
     "iopub.execute_input": "2023-05-23T15:22:39.667901Z",
     "iopub.status.busy": "2023-05-23T15:22:39.667430Z",
     "iopub.status.idle": "2023-05-23T15:22:39.680073Z",
     "shell.execute_reply": "2023-05-23T15:22:39.679322Z"
    }
   },
   "outputs": [
    {
     "data": {
      "text/html": [
       "<div><style>\n",
       ".dataframe > thead > tr > th,\n",
       ".dataframe > tbody > tr > td {\n",
       "  text-align: right;\n",
       "}\n",
       "</style>\n",
       "<small>shape: (7, 7)</small><table border=\"1\" class=\"dataframe\"><thead><tr><th>PREDICTOR_0</th><th>PREDICTOR_1</th><th>PREDICTOR_2</th><th>filename</th><th>Context_Name</th><th>IH_Web_Inbound_Accepted_pxLastGroupID</th><th>Decision_Outcome</th></tr><tr><td>str</td><td>str</td><td>f64</td><td>str</td><td>str</td><td>str</td><td>str</td></tr></thead><tbody><tr><td>&quot;27645589105883…</td><td>&quot;52949538586842…</td><td>1.2927e19</td><td>&quot;../../../../da…</td><td>&quot;FirstMortgage3…</td><td>&quot;14360577988731…</td><td>&quot;Rejected&quot;</td></tr><tr><td>&quot;35106631701732…</td><td>&quot;30692128030090…</td><td>1.4856e19</td><td>&quot;../../../../da…</td><td>&quot;FirstMortgage3…</td><td>&quot;16473428319147…</td><td>&quot;Accepted&quot;</td></tr><tr><td>&quot;13831924923277…</td><td>&quot;53611044207260…</td><td>5.6458e17</td><td>&quot;../../../../da…</td><td>&quot;MoneyMarketSav…</td><td>&quot;14360577988731…</td><td>&quot;Rejected&quot;</td></tr><tr><td>&quot;35106631701732…</td><td>&quot;13856979539501…</td><td>4.0723e18</td><td>&quot;../../../../da…</td><td>&quot;BasicChecking&quot;</td><td>&quot;14360577988731…</td><td>&quot;Rejected&quot;</td></tr><tr><td>&quot;27645589105883…</td><td>&quot;62842443236264…</td><td>1.4677e19</td><td>&quot;../../../../da…</td><td>&quot;BasicChecking&quot;</td><td>&quot;18300221114709…</td><td>&quot;Accepted&quot;</td></tr><tr><td>&quot;13831924923277…</td><td>&quot;17693360250092…</td><td>1.6330e19</td><td>&quot;../../../../da…</td><td>&quot;UPlusFinPerson…</td><td>null</td><td>&quot;Rejected&quot;</td></tr><tr><td>&quot;13831924923277…</td><td>&quot;74111267347802…</td><td>8.7675e18</td><td>&quot;../../../../da…</td><td>&quot;BasicChecking&quot;</td><td>&quot;18300221114709…</td><td>&quot;Rejected&quot;</td></tr></tbody></table></div>"
      ],
      "text/plain": [
       "shape: (7, 7)\n",
       "┌───────────────┬──────────────┬─────────────┬──────────────┬────────────┬────────────┬────────────┐\n",
       "│ PREDICTOR_0   ┆ PREDICTOR_1  ┆ PREDICTOR_2 ┆ filename     ┆ Context_Na ┆ IH_Web_Inb ┆ Decision_O │\n",
       "│ ---           ┆ ---          ┆ ---         ┆ ---          ┆ me         ┆ ound_Accep ┆ utcome     │\n",
       "│ str           ┆ str          ┆ f64         ┆ str          ┆ ---        ┆ ted_pxLast ┆ ---        │\n",
       "│               ┆              ┆             ┆              ┆ str        ┆ Gr…        ┆ str        │\n",
       "│               ┆              ┆             ┆              ┆            ┆ ---        ┆            │\n",
       "│               ┆              ┆             ┆              ┆            ┆ str        ┆            │\n",
       "╞═══════════════╪══════════════╪═════════════╪══════════════╪════════════╪════════════╪════════════╡\n",
       "│ 2764558910588 ┆ 529495385868 ┆ 1.2927e19   ┆ ../../../../ ┆ FirstMortg ┆ 1436057798 ┆ Rejected   │\n",
       "│ 332490        ┆ 4237926      ┆             ┆ data/SampleH ┆ age30yr    ┆ 873148208  ┆            │\n",
       "│               ┆              ┆             ┆ DS.json      ┆            ┆            ┆            │\n",
       "│ 3510663170173 ┆ 306921280300 ┆ 1.4856e19   ┆ ../../../../ ┆ FirstMortg ┆ 1647342831 ┆ Accepted   │\n",
       "│ 223044        ┆ 9090847      ┆             ┆ data/SampleH ┆ age30yr    ┆ 914791328  ┆            │\n",
       "│               ┆              ┆             ┆ DS.json      ┆            ┆            ┆            │\n",
       "│ 1383192492327 ┆ 536110442072 ┆ 5.6458e17   ┆ ../../../../ ┆ MoneyMarke ┆ 1436057798 ┆ Rejected   │\n",
       "│ 7420795       ┆ 6058269      ┆             ┆ data/SampleH ┆ tSavingsAc ┆ 873148208  ┆            │\n",
       "│               ┆              ┆             ┆ DS.json      ┆ count      ┆            ┆            │\n",
       "│ 3510663170173 ┆ 138569795395 ┆ 4.0723e18   ┆ ../../../../ ┆ BasicCheck ┆ 1436057798 ┆ Rejected   │\n",
       "│ 223044        ┆ 01291300     ┆             ┆ data/SampleH ┆ ing        ┆ 873148208  ┆            │\n",
       "│               ┆              ┆             ┆ DS.json      ┆            ┆            ┆            │\n",
       "│ 2764558910588 ┆ 628424432362 ┆ 1.4677e19   ┆ ../../../../ ┆ BasicCheck ┆ 1830022111 ┆ Accepted   │\n",
       "│ 332490        ┆ 6483338      ┆             ┆ data/SampleH ┆ ing        ┆ 470926381  ┆            │\n",
       "│               ┆              ┆             ┆ DS.json      ┆            ┆            ┆            │\n",
       "│ 1383192492327 ┆ 176933602500 ┆ 1.6330e19   ┆ ../../../../ ┆ UPlusFinPe ┆ null       ┆ Rejected   │\n",
       "│ 7420795       ┆ 92059249     ┆             ┆ data/SampleH ┆ rsonal     ┆            ┆            │\n",
       "│               ┆              ┆             ┆ DS.json      ┆            ┆            ┆            │\n",
       "│ 1383192492327 ┆ 741112673478 ┆ 8.7675e18   ┆ ../../../../ ┆ BasicCheck ┆ 1830022111 ┆ Rejected   │\n",
       "│ 7420795       ┆ 0295523      ┆             ┆ data/SampleH ┆ ing        ┆ 470926381  ┆            │\n",
       "│               ┆              ┆             ┆ DS.json      ┆            ┆            ┆            │\n",
       "└───────────────┴──────────────┴─────────────┴──────────────┴────────────┴────────────┴────────────┘"
      ]
     },
     "execution_count": 10,
     "metadata": {},
     "output_type": "execute_result"
    }
   ],
   "source": [
    "anon = DataAnonymization(config=Config(config_file='config.json'))\n",
    "anon.process()"
   ]
  },
  {
   "attachments": {},
   "cell_type": "markdown",
   "metadata": {},
   "source": [
    "## Exporting\n",
    "Two functions export:\n",
    "- `create_mapping_file()` writes the mapping file of the predictor names\n",
    "- `write_to_output()` writes the processed dataframe to disk\n",
    "\n",
    "Write to output accepts the following extensions: `[\"ndjson\", \"parquet\", \"arrow\", \"csv\"]`"
   ]
  },
  {
   "cell_type": "code",
   "execution_count": 11,
   "metadata": {
    "execution": {
     "iopub.execute_input": "2023-05-23T15:22:39.683155Z",
     "iopub.status.busy": "2023-05-23T15:22:39.682663Z",
     "iopub.status.idle": "2023-05-23T15:22:39.687119Z",
     "shell.execute_reply": "2023-05-23T15:22:39.686520Z"
    }
   },
   "outputs": [
    {
     "name": "stdout",
     "output_type": "stream",
     "text": [
      "Customer_MaritalStatus=PREDICTOR_0\n",
      "Customer_City=PREDICTOR_1\n",
      "Customer_CLV=PREDICTOR_2\n",
      "filename=filename\n",
      "Context_Name=Context_Name\n",
      "IH_Web_Inbound_Accepted_pxLastGroupID=IH_Web_Inbound_Accepted_pxLastGroupID\n",
      "Decision_Outcome=Decision_Outcome\n",
      "\n"
     ]
    }
   ],
   "source": [
    "anon.create_mapping_file()\n",
    "with open('mapping.map') as f:\n",
    "    print(f.read())"
   ]
  },
  {
   "cell_type": "code",
   "execution_count": 12,
   "metadata": {
    "execution": {
     "iopub.execute_input": "2023-05-23T15:22:39.690633Z",
     "iopub.status.busy": "2023-05-23T15:22:39.689736Z",
     "iopub.status.idle": "2023-05-23T15:22:39.695510Z",
     "shell.execute_reply": "2023-05-23T15:22:39.694730Z"
    }
   },
   "outputs": [],
   "source": [
    "anon.write_to_output(ext='arrow')"
   ]
  },
  {
   "cell_type": "code",
   "execution_count": 13,
   "metadata": {
    "execution": {
     "iopub.execute_input": "2023-05-23T15:22:39.698502Z",
     "iopub.status.busy": "2023-05-23T15:22:39.698096Z",
     "iopub.status.idle": "2023-05-23T15:22:39.703874Z",
     "shell.execute_reply": "2023-05-23T15:22:39.703233Z"
    }
   },
   "outputs": [
    {
     "data": {
      "text/html": [
       "<div><style>\n",
       ".dataframe > thead > tr > th,\n",
       ".dataframe > tbody > tr > td {\n",
       "  text-align: right;\n",
       "}\n",
       "</style>\n",
       "<small>shape: (7, 6)</small><table border=\"1\" class=\"dataframe\"><thead><tr><th>PREDICTOR_0</th><th>PREDICTOR_1</th><th>PREDICTOR_2</th><th>Context_Name</th><th>IH_Web_Inbound_Accepted_pxLastGroupID</th><th>Decision_Outcome</th></tr><tr><td>str</td><td>str</td><td>f64</td><td>str</td><td>str</td><td>str</td></tr></thead><tbody><tr><td>&quot;13011251434515…</td><td>&quot;15842209130249…</td><td>1.2927e19</td><td>&quot;FirstMortgage3…</td><td>&quot;11716820822545…</td><td>&quot;Rejected&quot;</td></tr><tr><td>&quot;29860307005789…</td><td>&quot;12421932902937…</td><td>1.4856e19</td><td>&quot;FirstMortgage3…</td><td>&quot;13566163087994…</td><td>&quot;Accepted&quot;</td></tr><tr><td>&quot;15554812779790…</td><td>&quot;83613086648714…</td><td>5.6458e17</td><td>&quot;MoneyMarketSav…</td><td>&quot;11716820822545…</td><td>&quot;Rejected&quot;</td></tr><tr><td>&quot;29860307005789…</td><td>&quot;14722111749551…</td><td>4.0723e18</td><td>&quot;BasicChecking&quot;</td><td>&quot;11716820822545…</td><td>&quot;Rejected&quot;</td></tr><tr><td>&quot;13011251434515…</td><td>&quot;98689819808176…</td><td>1.4677e19</td><td>&quot;BasicChecking&quot;</td><td>&quot;15943645716522…</td><td>&quot;Accepted&quot;</td></tr><tr><td>&quot;15554812779790…</td><td>&quot;15634786580786…</td><td>1.6330e19</td><td>&quot;UPlusFinPerson…</td><td>null</td><td>&quot;Rejected&quot;</td></tr><tr><td>&quot;15554812779790…</td><td>&quot;25027439512812…</td><td>8.7675e18</td><td>&quot;BasicChecking&quot;</td><td>&quot;15943645716522…</td><td>&quot;Rejected&quot;</td></tr></tbody></table></div>"
      ],
      "text/plain": [
       "shape: (7, 6)\n",
       "┌────────────────┬────────────────┬─────────────┬────────────────┬────────────────┬────────────────┐\n",
       "│ PREDICTOR_0    ┆ PREDICTOR_1    ┆ PREDICTOR_2 ┆ Context_Name   ┆ IH_Web_Inbound ┆ Decision_Outco │\n",
       "│ ---            ┆ ---            ┆ ---         ┆ ---            ┆ _Accepted_pxLa ┆ me             │\n",
       "│ str            ┆ str            ┆ f64         ┆ str            ┆ stGr…          ┆ ---            │\n",
       "│                ┆                ┆             ┆                ┆ ---            ┆ str            │\n",
       "│                ┆                ┆             ┆                ┆ str            ┆                │\n",
       "╞════════════════╪════════════════╪═════════════╪════════════════╪════════════════╪════════════════╡\n",
       "│ 13011251434515 ┆ 15842209130249 ┆ 1.2927e19   ┆ FirstMortgage3 ┆ 11716820822545 ┆ Rejected       │\n",
       "│ 447201         ┆ 407568         ┆             ┆ 0yr            ┆ 735178         ┆                │\n",
       "│ 29860307005789 ┆ 12421932902937 ┆ 1.4856e19   ┆ FirstMortgage3 ┆ 13566163087994 ┆ Accepted       │\n",
       "│ 85986          ┆ 681898         ┆             ┆ 0yr            ┆ 042214         ┆                │\n",
       "│ 15554812779790 ┆ 83613086648714 ┆ 5.6458e17   ┆ MoneyMarketSav ┆ 11716820822545 ┆ Rejected       │\n",
       "│ 628932         ┆ 06346          ┆             ┆ ingsAccount    ┆ 735178         ┆                │\n",
       "│ 29860307005789 ┆ 14722111749551 ┆ 4.0723e18   ┆ BasicChecking  ┆ 11716820822545 ┆ Rejected       │\n",
       "│ 85986          ┆ 499936         ┆             ┆                ┆ 735178         ┆                │\n",
       "│ 13011251434515 ┆ 98689819808176 ┆ 1.4677e19   ┆ BasicChecking  ┆ 15943645716522 ┆ Accepted       │\n",
       "│ 447201         ┆ 55807          ┆             ┆                ┆ 833610         ┆                │\n",
       "│ 15554812779790 ┆ 15634786580786 ┆ 1.6330e19   ┆ UPlusFinPerson ┆ null           ┆ Rejected       │\n",
       "│ 628932         ┆ 426493         ┆             ┆ al             ┆                ┆                │\n",
       "│ 15554812779790 ┆ 25027439512812 ┆ 8.7675e18   ┆ BasicChecking  ┆ 15943645716522 ┆ Rejected       │\n",
       "│ 628932         ┆ 17370          ┆             ┆                ┆ 833610         ┆                │\n",
       "└────────────────┴────────────────┴─────────────┴────────────────┴────────────────┴────────────────┘"
      ]
     },
     "execution_count": 13,
     "metadata": {},
     "output_type": "execute_result"
    }
   ],
   "source": [
    "pl.read_ipc('output/hds.arrow')"
   ]
  },
  {
   "attachments": {},
   "cell_type": "markdown",
   "metadata": {},
   "source": [
    "## Advanced: Hash fuctions\n",
    "\n",
    "By default, we use [the same hashing algorithm Polars](https://pola-rs.github.io/polars/py-polars/html/reference/expressions/api/polars.Expr.hash.html#polars.Expr.hash) uses: [xxhash](https://github.com/Cyan4973/xxHash), as implemented [here](https://github.com/pola-rs/polars/blob/3f287f370b3c388ed2f3f218b2c096382548136f/polars/polars-core/src/vector_hasher.rs#L266). xxhash is fast to compute, and you can check its performance in collision, dispersion and randomness [here](https://github.com/Cyan4973/xxHash/tree/dev/tests). \n",
    "\n",
    "xxhash accepts four distinct seeds, but by default we set the seeds to `0`. It is possible to set the `seed` argument of the `process()` function to `'random'`, which will set all four seeds to a random integer between `0` and `1000000000`. Alternatively, it is possible to supply the four seeds manually with arguments `seed`, `seed_1`, `seed_2` and `seed_3`. \n",
    "\n",
    "If the xxhash with (random) seed(s) is not deemed sufficiently secure, it is possible to use your own hashing algorithm.\n",
    "\n",
    "Note that since we're now running python code and not native Polars code anymore, this will be _significantly_ slower. Nonetheless, it is possible.\n",
    "\n",
    "Just as an example - this is how one would use sha3_256:"
   ]
  },
  {
   "cell_type": "code",
   "execution_count": 14,
   "metadata": {
    "execution": {
     "iopub.execute_input": "2023-05-23T15:22:39.707032Z",
     "iopub.status.busy": "2023-05-23T15:22:39.706623Z",
     "iopub.status.idle": "2023-05-23T15:22:40.142645Z",
     "shell.execute_reply": "2023-05-23T15:22:40.141833Z"
    }
   },
   "outputs": [
    {
     "ename": "ComputeError",
     "evalue": "AttributeError: 'int' object has no attribute 'encode'",
     "output_type": "error",
     "traceback": [
      "\u001b[0;31m---------------------------------------------------------------------------\u001b[0m",
      "\u001b[0;31mComputeError\u001b[0m                              Traceback (most recent call last)",
      "Cell \u001b[0;32mIn[14], line 3\u001b[0m\n\u001b[1;32m      1\u001b[0m \u001b[38;5;28;01mfrom\u001b[39;00m \u001b[38;5;21;01mhashlib\u001b[39;00m \u001b[38;5;28;01mimport\u001b[39;00m sha3_256\n\u001b[0;32m----> 3\u001b[0m \u001b[43manon\u001b[49m\u001b[38;5;241;43m.\u001b[39;49m\u001b[43mprocess\u001b[49m\u001b[43m(\u001b[49m\u001b[43malgorithm\u001b[49m\u001b[38;5;241;43m=\u001b[39;49m\u001b[38;5;28;43;01mlambda\u001b[39;49;00m\u001b[43m \u001b[49m\u001b[43mx\u001b[49m\u001b[43m:\u001b[49m\u001b[43m \u001b[49m\u001b[43msha3_256\u001b[49m\u001b[43m(\u001b[49m\u001b[43mx\u001b[49m\u001b[38;5;241;43m.\u001b[39;49m\u001b[43mencode\u001b[49m\u001b[43m(\u001b[49m\u001b[43m)\u001b[49m\u001b[43m)\u001b[49m\u001b[38;5;241;43m.\u001b[39;49m\u001b[43mhexdigest\u001b[49m\u001b[43m(\u001b[49m\u001b[43m)\u001b[49m\u001b[43m)\u001b[49m\n",
      "File \u001b[0;32m~/work/pega-datascientist-tools/pega-datascientist-tools/python/docs/source/articles/../../../pdstools/utils/hds_utils.py:516\u001b[0m, in \u001b[0;36mDataAnonymization.process\u001b[0;34m(self, strategy, **kwargs)\u001b[0m\n\u001b[1;32m    514\u001b[0m df \u001b[38;5;241m=\u001b[39m df\u001b[38;5;241m.\u001b[39mselect(\u001b[38;5;28mself\u001b[39m\u001b[38;5;241m.\u001b[39mcolumn_mapping\u001b[38;5;241m.\u001b[39mkeys())\u001b[38;5;241m.\u001b[39mrename(\u001b[38;5;28mself\u001b[39m\u001b[38;5;241m.\u001b[39mcolumn_mapping)\n\u001b[1;32m    515\u001b[0m \u001b[38;5;28;01mif\u001b[39;00m strategy \u001b[38;5;241m==\u001b[39m \u001b[38;5;124m\"\u001b[39m\u001b[38;5;124meager\u001b[39m\u001b[38;5;124m\"\u001b[39m:\n\u001b[0;32m--> 516\u001b[0m     \u001b[38;5;28;01mreturn\u001b[39;00m \u001b[43mdf\u001b[49m\u001b[38;5;241;43m.\u001b[39;49m\u001b[43mcollect\u001b[49m\u001b[43m(\u001b[49m\u001b[43m)\u001b[49m\n\u001b[1;32m    517\u001b[0m \u001b[38;5;28;01mreturn\u001b[39;00m df\n",
      "File \u001b[0;32m/opt/hostedtoolcache/Python/3.11.3/x64/lib/python3.11/site-packages/polars/lazyframe/frame.py:1603\u001b[0m, in \u001b[0;36mLazyFrame.collect\u001b[0;34m(self, type_coercion, predicate_pushdown, projection_pushdown, simplify_expression, no_optimization, slice_pushdown, common_subplan_elimination, streaming)\u001b[0m\n\u001b[1;32m   1592\u001b[0m     common_subplan_elimination \u001b[38;5;241m=\u001b[39m \u001b[38;5;28;01mFalse\u001b[39;00m\n\u001b[1;32m   1594\u001b[0m ldf \u001b[38;5;241m=\u001b[39m \u001b[38;5;28mself\u001b[39m\u001b[38;5;241m.\u001b[39m_ldf\u001b[38;5;241m.\u001b[39moptimization_toggle(\n\u001b[1;32m   1595\u001b[0m     type_coercion,\n\u001b[1;32m   1596\u001b[0m     predicate_pushdown,\n\u001b[0;32m   (...)\u001b[0m\n\u001b[1;32m   1601\u001b[0m     streaming,\n\u001b[1;32m   1602\u001b[0m )\n\u001b[0;32m-> 1603\u001b[0m \u001b[38;5;28;01mreturn\u001b[39;00m wrap_df(ldf\u001b[38;5;241m.\u001b[39mcollect())\n",
      "\u001b[0;31mComputeError\u001b[0m: AttributeError: 'int' object has no attribute 'encode'"
     ]
    }
   ],
   "source": [
    "from hashlib import sha3_256\n",
    "\n",
    "anon.process(algorithm=lambda x: sha3_256(x.encode()).hexdigest())"
   ]
  }
 ],
 "metadata": {
  "kernelspec": {
   "display_name": "Python 3",
   "language": "python",
   "name": "python3"
  },
  "language_info": {
   "codemirror_mode": {
    "name": "ipython",
    "version": 3
   },
   "file_extension": ".py",
   "mimetype": "text/x-python",
   "name": "python",
   "nbconvert_exporter": "python",
   "pygments_lexer": "ipython3",
   "version": "3.11.3"
  },
  "vscode": {
   "interpreter": {
    "hash": "aee8b7b246df8f9039afb4144a1f6fd8d2ca17a180786b69acc140d282b71a49"
   }
  }
 },
 "nbformat": 4,
 "nbformat_minor": 2
}
