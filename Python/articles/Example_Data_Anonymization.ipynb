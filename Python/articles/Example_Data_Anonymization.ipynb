{
 "cells": [
  {
   "attachments": {},
   "cell_type": "markdown",
   "metadata": {},
   "source": [
    "# Example data anonymization\n",
    "\n",
    "In Pega CDH 8.5 and up, it's now possible to record the historical data as seen by the Adaptive Models. See [this academy challenge](https://academy.pega.com/challenge/exporting-historical-data/v4) for reference. This historical data can be further used to experiment with offline models, but also to fine-tune the OOTB Gradient Boosting model. However, sharing this information with Pega can be sensitive as it contains raw predictor data. \n",
    "\n",
    "To this end, we provide a simple and transparent script to fully anonimize this dataset.\n",
    "\n",
    "The DataAnonymization script is now part of pdstools, and you can import it directly as such."
   ]
  },
  {
   "cell_type": "code",
   "execution_count": 1,
   "metadata": {
    "execution": {
     "iopub.execute_input": "2023-10-03T13:02:22.973554Z",
     "iopub.status.busy": "2023-10-03T13:02:22.973124Z",
     "iopub.status.idle": "2023-10-03T13:02:23.059750Z",
     "shell.execute_reply": "2023-10-03T13:02:23.058997Z"
    },
    "nbsphinx": "hidden"
   },
   "outputs": [],
   "source": [
    "# These lines are only for rendering in the docs, and are hidden through Jupyter tags\n",
    "# Do not run if you're running the notebook seperately\n",
    "\n",
    "import os  \n",
    "import sys\n",
    "import plotly.io as pio\n",
    "pio.renderers.default = \"notebook_connected\"\n",
    "\n",
    "sys.path.append(\"../../../\")\n",
    "sys.path.append('../../python')"
   ]
  },
  {
   "cell_type": "code",
   "execution_count": 2,
   "metadata": {
    "execution": {
     "iopub.execute_input": "2023-10-03T13:02:23.063107Z",
     "iopub.status.busy": "2023-10-03T13:02:23.062591Z",
     "iopub.status.idle": "2023-10-03T13:02:24.373202Z",
     "shell.execute_reply": "2023-10-03T13:02:24.372464Z"
    }
   },
   "outputs": [],
   "source": [
    "from pdstools import ADMDatamart\n",
    "from pdstools import Config, DataAnonymization\n",
    "import polars as pl"
   ]
  },
  {
   "attachments": {},
   "cell_type": "markdown",
   "metadata": {},
   "source": [
    "## Input data\n",
    "\n",
    "To demonstrate this process, we're going to anonymise this toy example dataframe:"
   ]
  },
  {
   "cell_type": "code",
   "execution_count": 3,
   "metadata": {
    "execution": {
     "iopub.execute_input": "2023-10-03T13:02:24.376855Z",
     "iopub.status.busy": "2023-10-03T13:02:24.376019Z",
     "iopub.status.idle": "2023-10-03T13:02:24.387515Z",
     "shell.execute_reply": "2023-10-03T13:02:24.386937Z"
    }
   },
   "outputs": [
    {
     "data": {
      "text/html": [
       "<div><style>\n",
       ".dataframe > thead > tr > th,\n",
       ".dataframe > tbody > tr > td {\n",
       "  text-align: right;\n",
       "  white-space: pre-wrap;\n",
       "}\n",
       "</style>\n",
       "<small>shape: (7, 6)</small><table border=\"1\" class=\"dataframe\"><thead><tr><th>Context_Name</th><th>Customer_MaritalStatus</th><th>Customer_CLV</th><th>Customer_City</th><th>IH_Web_Inbound_Accepted_pxLastGroupID</th><th>Decision_Outcome</th></tr><tr><td>str</td><td>str</td><td>i64</td><td>str</td><td>str</td><td>str</td></tr></thead><tbody><tr><td>&quot;FirstMortgage3…</td><td>&quot;Married&quot;</td><td>1460</td><td>&quot;Port Raoul&quot;</td><td>&quot;Account&quot;</td><td>&quot;Rejected&quot;</td></tr><tr><td>&quot;FirstMortgage3…</td><td>&quot;Unknown&quot;</td><td>669</td><td>&quot;Laurianneshire…</td><td>&quot;AutoLoans&quot;</td><td>&quot;Accepted&quot;</td></tr><tr><td>&quot;MoneyMarketSav…</td><td>&quot;No Resp+&quot;</td><td>1174</td><td>&quot;Jacobshaven&quot;</td><td>&quot;Account&quot;</td><td>&quot;Rejected&quot;</td></tr><tr><td>&quot;BasicChecking&quot;</td><td>&quot;Unknown&quot;</td><td>1476</td><td>&quot;Lindton&quot;</td><td>&quot;Account&quot;</td><td>&quot;Rejected&quot;</td></tr><tr><td>&quot;BasicChecking&quot;</td><td>&quot;Married&quot;</td><td>1211</td><td>&quot;South Jimmiesh…</td><td>&quot;DepositAccount…</td><td>&quot;Accepted&quot;</td></tr><tr><td>&quot;UPlusFinPerson…</td><td>&quot;No Resp+&quot;</td><td>533</td><td>&quot;Bergeville&quot;</td><td>null</td><td>&quot;Rejected&quot;</td></tr><tr><td>&quot;BasicChecking&quot;</td><td>&quot;No Resp+&quot;</td><td>555</td><td>&quot;Willyville&quot;</td><td>&quot;DepositAccount…</td><td>&quot;Rejected&quot;</td></tr></tbody></table></div>"
      ],
      "text/plain": [
       "shape: (7, 6)\n",
       "┌────────────────┬────────────────┬──────────────┬────────────────┬────────────────┬───────────────┐\n",
       "│ Context_Name   ┆ Customer_Marit ┆ Customer_CLV ┆ Customer_City  ┆ IH_Web_Inbound ┆ Decision_Outc │\n",
       "│ ---            ┆ alStatus       ┆ ---          ┆ ---            ┆ _Accepted_pxLa ┆ ome           │\n",
       "│ str            ┆ ---            ┆ i64          ┆ str            ┆ stGr…          ┆ ---           │\n",
       "│                ┆ str            ┆              ┆                ┆ ---            ┆ str           │\n",
       "│                ┆                ┆              ┆                ┆ str            ┆               │\n",
       "╞════════════════╪════════════════╪══════════════╪════════════════╪════════════════╪═══════════════╡\n",
       "│ FirstMortgage3 ┆ Married        ┆ 1460         ┆ Port Raoul     ┆ Account        ┆ Rejected      │\n",
       "│ 0yr            ┆                ┆              ┆                ┆                ┆               │\n",
       "│ FirstMortgage3 ┆ Unknown        ┆ 669          ┆ Laurianneshire ┆ AutoLoans      ┆ Accepted      │\n",
       "│ 0yr            ┆                ┆              ┆                ┆                ┆               │\n",
       "│ MoneyMarketSav ┆ No Resp+       ┆ 1174         ┆ Jacobshaven    ┆ Account        ┆ Rejected      │\n",
       "│ ingsAccount    ┆                ┆              ┆                ┆                ┆               │\n",
       "│ BasicChecking  ┆ Unknown        ┆ 1476         ┆ Lindton        ┆ Account        ┆ Rejected      │\n",
       "│ BasicChecking  ┆ Married        ┆ 1211         ┆ South          ┆ DepositAccount ┆ Accepted      │\n",
       "│                ┆                ┆              ┆ Jimmieshire    ┆ s              ┆               │\n",
       "│ UPlusFinPerson ┆ No Resp+       ┆ 533          ┆ Bergeville     ┆ null           ┆ Rejected      │\n",
       "│ al             ┆                ┆              ┆                ┆                ┆               │\n",
       "│ BasicChecking  ┆ No Resp+       ┆ 555          ┆ Willyville     ┆ DepositAccount ┆ Rejected      │\n",
       "│                ┆                ┆              ┆                ┆ s              ┆               │\n",
       "└────────────────┴────────────────┴──────────────┴────────────────┴────────────────┴───────────────┘"
      ]
     },
     "execution_count": 3,
     "metadata": {},
     "output_type": "execute_result"
    }
   ],
   "source": [
    "pl.read_ndjson('../../../../data/SampleHDS.json')"
   ]
  },
  {
   "attachments": {},
   "cell_type": "markdown",
   "metadata": {},
   "source": [
    "As you can see, this dataset consists of regular predictors, IH predictors, context keys and the outcome column. Additionally, some columns are numeric, others are strings. Let's first initialize the DataAnonymization class."
   ]
  },
  {
   "cell_type": "code",
   "execution_count": 4,
   "metadata": {
    "execution": {
     "iopub.execute_input": "2023-10-03T13:02:24.391608Z",
     "iopub.status.busy": "2023-10-03T13:02:24.390436Z",
     "iopub.status.idle": "2023-10-03T13:02:24.400860Z",
     "shell.execute_reply": "2023-10-03T13:02:24.400265Z"
    }
   },
   "outputs": [],
   "source": [
    "anon = DataAnonymization(hds_folder='../../../../data/')"
   ]
  },
  {
   "attachments": {},
   "cell_type": "markdown",
   "metadata": {},
   "source": [
    "By default, the class applies a set of anonymisation techniques:\n",
    "- Column names are remapped to a non-descriptive name\n",
    "- Categorical values are hashed with a random seed\n",
    "- Numerical values are normalized between 0 and 1\n",
    "- Outcomes are mapped to a binary outcome.\n",
    "\n",
    "To apply these techniques, simply call `.process()`:"
   ]
  },
  {
   "cell_type": "code",
   "execution_count": 5,
   "metadata": {
    "execution": {
     "iopub.execute_input": "2023-10-03T13:02:24.403756Z",
     "iopub.status.busy": "2023-10-03T13:02:24.403392Z",
     "iopub.status.idle": "2023-10-03T13:02:24.411380Z",
     "shell.execute_reply": "2023-10-03T13:02:24.410812Z"
    }
   },
   "outputs": [
    {
     "data": {
      "text/html": [
       "<div><style>\n",
       ".dataframe > thead > tr > th,\n",
       ".dataframe > tbody > tr > td {\n",
       "  text-align: right;\n",
       "  white-space: pre-wrap;\n",
       "}\n",
       "</style>\n",
       "<small>shape: (7, 7)</small><table border=\"1\" class=\"dataframe\"><thead><tr><th>PREDICTOR_0</th><th>PREDICTOR_1</th><th>PREDICTOR_2</th><th>filename</th><th>Context_Name</th><th>IH_PREDICTOR_0</th><th>Decision_Outcome</th></tr><tr><td>str</td><td>f64</td><td>str</td><td>str</td><td>str</td><td>str</td><td>bool</td></tr></thead><tbody><tr><td>&quot;13117902318007…</td><td>1.2927e19</td><td>&quot;18222093151955…</td><td>&quot;../../../../da…</td><td>&quot;17610899682975…</td><td>&quot;95635181211216…</td><td>false</td></tr><tr><td>&quot;87050172472223…</td><td>1.4856e19</td><td>&quot;63278546923972…</td><td>&quot;../../../../da…</td><td>&quot;17610899682975…</td><td>&quot;21200423566337…</td><td>true</td></tr><tr><td>&quot;26032848387461…</td><td>5.6458e17</td><td>&quot;10960768903630…</td><td>&quot;../../../../da…</td><td>&quot;14637267072216…</td><td>&quot;95635181211216…</td><td>false</td></tr><tr><td>&quot;12973445202690…</td><td>4.0723e18</td><td>&quot;63278546923972…</td><td>&quot;../../../../da…</td><td>&quot;22144418934571…</td><td>&quot;95635181211216…</td><td>false</td></tr><tr><td>&quot;16615297116411…</td><td>1.4677e19</td><td>&quot;18222093151955…</td><td>&quot;../../../../da…</td><td>&quot;22144418934571…</td><td>&quot;15395978230056…</td><td>true</td></tr><tr><td>&quot;13122921046063…</td><td>1.6330e19</td><td>&quot;10960768903630…</td><td>&quot;../../../../da…</td><td>&quot;14964891934801…</td><td>null</td><td>false</td></tr><tr><td>&quot;75772816642685…</td><td>8.7675e18</td><td>&quot;10960768903630…</td><td>&quot;../../../../da…</td><td>&quot;22144418934571…</td><td>&quot;15395978230056…</td><td>false</td></tr></tbody></table></div>"
      ],
      "text/plain": [
       "shape: (7, 7)\n",
       "┌──────────────┬─────────────┬─────────────┬─────────────┬─────────────┬─────────────┬─────────────┐\n",
       "│ PREDICTOR_0  ┆ PREDICTOR_1 ┆ PREDICTOR_2 ┆ filename    ┆ Context_Nam ┆ IH_PREDICTO ┆ Decision_Ou │\n",
       "│ ---          ┆ ---         ┆ ---         ┆ ---         ┆ e           ┆ R_0         ┆ tcome       │\n",
       "│ str          ┆ f64         ┆ str         ┆ str         ┆ ---         ┆ ---         ┆ ---         │\n",
       "│              ┆             ┆             ┆             ┆ str         ┆ str         ┆ bool        │\n",
       "╞══════════════╪═════════════╪═════════════╪═════════════╪═════════════╪═════════════╪═════════════╡\n",
       "│ 131179023180 ┆ 1.2927e19   ┆ 18222093151 ┆ ../../../.. ┆ 17610899682 ┆ 95635181211 ┆ false       │\n",
       "│ 07843978     ┆             ┆ 955952257   ┆ /data/Sampl ┆ 97517613    ┆ 21640576    ┆             │\n",
       "│              ┆             ┆             ┆ eHDS.json   ┆             ┆             ┆             │\n",
       "│ 870501724722 ┆ 1.4856e19   ┆ 63278546923 ┆ ../../../.. ┆ 17610899682 ┆ 21200423566 ┆ true        │\n",
       "│ 2322131      ┆             ┆ 97279977    ┆ /data/Sampl ┆ 97517613    ┆ 33798428    ┆             │\n",
       "│              ┆             ┆             ┆ eHDS.json   ┆             ┆             ┆             │\n",
       "│ 260328483874 ┆ 5.6458e17   ┆ 10960768903 ┆ ../../../.. ┆ 14637267072 ┆ 95635181211 ┆ false       │\n",
       "│ 6138799      ┆             ┆ 630530996   ┆ /data/Sampl ┆ 216139323   ┆ 21640576    ┆             │\n",
       "│              ┆             ┆             ┆ eHDS.json   ┆             ┆             ┆             │\n",
       "│ 129734452026 ┆ 4.0723e18   ┆ 63278546923 ┆ ../../../.. ┆ 22144418934 ┆ 95635181211 ┆ false       │\n",
       "│ 90441766     ┆             ┆ 97279977    ┆ /data/Sampl ┆ 57187937    ┆ 21640576    ┆             │\n",
       "│              ┆             ┆             ┆ eHDS.json   ┆             ┆             ┆             │\n",
       "│ 166152971164 ┆ 1.4677e19   ┆ 18222093151 ┆ ../../../.. ┆ 22144418934 ┆ 15395978230 ┆ true        │\n",
       "│ 11818043     ┆             ┆ 955952257   ┆ /data/Sampl ┆ 57187937    ┆ 056862591   ┆             │\n",
       "│              ┆             ┆             ┆ eHDS.json   ┆             ┆             ┆             │\n",
       "│ 131229210460 ┆ 1.6330e19   ┆ 10960768903 ┆ ../../../.. ┆ 14964891934 ┆ null        ┆ false       │\n",
       "│ 63320840     ┆             ┆ 630530996   ┆ /data/Sampl ┆ 801575366   ┆             ┆             │\n",
       "│              ┆             ┆             ┆ eHDS.json   ┆             ┆             ┆             │\n",
       "│ 757728166426 ┆ 8.7675e18   ┆ 10960768903 ┆ ../../../.. ┆ 22144418934 ┆ 15395978230 ┆ false       │\n",
       "│ 8517707      ┆             ┆ 630530996   ┆ /data/Sampl ┆ 57187937    ┆ 056862591   ┆             │\n",
       "│              ┆             ┆             ┆ eHDS.json   ┆             ┆             ┆             │\n",
       "└──────────────┴─────────────┴─────────────┴─────────────┴─────────────┴─────────────┴─────────────┘"
      ]
     },
     "execution_count": 5,
     "metadata": {},
     "output_type": "execute_result"
    }
   ],
   "source": [
    "anon.process()"
   ]
  },
  {
   "attachments": {},
   "cell_type": "markdown",
   "metadata": {},
   "source": [
    "To trace back the columns to their original names, the class also contains a mapping, which does not have to be provided."
   ]
  },
  {
   "cell_type": "code",
   "execution_count": 6,
   "metadata": {
    "execution": {
     "iopub.execute_input": "2023-10-03T13:02:24.414335Z",
     "iopub.status.busy": "2023-10-03T13:02:24.413700Z",
     "iopub.status.idle": "2023-10-03T13:02:24.418087Z",
     "shell.execute_reply": "2023-10-03T13:02:24.417601Z"
    }
   },
   "outputs": [
    {
     "data": {
      "text/plain": [
       "{'Customer_City': 'PREDICTOR_0',\n",
       " 'Customer_CLV': 'PREDICTOR_1',\n",
       " 'Customer_MaritalStatus': 'PREDICTOR_2',\n",
       " 'filename': 'filename',\n",
       " 'Context_Name': 'Context_Name',\n",
       " 'IH_Web_Inbound_Accepted_pxLastGroupID': 'IH_PREDICTOR_0',\n",
       " 'Decision_Outcome': 'Decision_Outcome'}"
      ]
     },
     "execution_count": 6,
     "metadata": {},
     "output_type": "execute_result"
    }
   ],
   "source": [
    "anon.column_mapping"
   ]
  },
  {
   "attachments": {},
   "cell_type": "markdown",
   "metadata": {},
   "source": [
    "## Configs\n",
    "\n",
    "Each capability can optionally be turned off - see below for the full list of config options, and refer to the API reference for the full description."
   ]
  },
  {
   "cell_type": "code",
   "execution_count": 7,
   "metadata": {
    "execution": {
     "iopub.execute_input": "2023-10-03T13:02:24.420478Z",
     "iopub.status.busy": "2023-10-03T13:02:24.420080Z",
     "iopub.status.idle": "2023-10-03T13:02:24.424845Z",
     "shell.execute_reply": "2023-10-03T13:02:24.424379Z"
    }
   },
   "outputs": [
    {
     "data": {
      "text/plain": [
       "{'config_file': None,\n",
       " 'hds_folder': '.',\n",
       " 'use_datamart': False,\n",
       " 'datamart_folder': 'datamart',\n",
       " 'output_format': 'ndjson',\n",
       " 'output_folder': 'output',\n",
       " 'mapping_file': 'mapping.map',\n",
       " 'mask_predictor_names': True,\n",
       " 'mask_context_key_names': False,\n",
       " 'mask_ih_names': True,\n",
       " 'mask_outcome_name': False,\n",
       " 'mask_predictor_values': True,\n",
       " 'mask_context_key_values': True,\n",
       " 'mask_ih_values': True,\n",
       " 'mask_outcome_values': True,\n",
       " 'context_key_label': 'Context_*',\n",
       " 'ih_label': 'IH_*',\n",
       " 'outcome_column': 'Decision_Outcome',\n",
       " 'positive_outcomes': ['Accepted', 'Clicked'],\n",
       " 'negative_outcomes': ['Rejected', 'Impression'],\n",
       " 'special_predictors': ['Decision_DecisionTime',\n",
       "  'Decision_OutcomeTime',\n",
       "  'Decision_Rank'],\n",
       " 'sample_percentage_schema_inferencing': 0.01}"
      ]
     },
     "execution_count": 7,
     "metadata": {},
     "output_type": "execute_result"
    }
   ],
   "source": [
    "dict(zip(Config.__init__.__code__.co_varnames[1:], Config.__init__.__defaults__))"
   ]
  },
  {
   "attachments": {},
   "cell_type": "markdown",
   "metadata": {},
   "source": [
    "It's easy to change these parameters by just passing the keyword arguments. In the following example, we\n",
    "- Keep the IH predictor names\n",
    "- Keep the outcome values\n",
    "- Keep the context key values\n",
    "- Keep the context key predictor names"
   ]
  },
  {
   "cell_type": "code",
   "execution_count": 8,
   "metadata": {
    "execution": {
     "iopub.execute_input": "2023-10-03T13:02:24.427424Z",
     "iopub.status.busy": "2023-10-03T13:02:24.426832Z",
     "iopub.status.idle": "2023-10-03T13:02:24.438250Z",
     "shell.execute_reply": "2023-10-03T13:02:24.437738Z"
    }
   },
   "outputs": [
    {
     "data": {
      "text/html": [
       "<div><style>\n",
       ".dataframe > thead > tr > th,\n",
       ".dataframe > tbody > tr > td {\n",
       "  text-align: right;\n",
       "  white-space: pre-wrap;\n",
       "}\n",
       "</style>\n",
       "<small>shape: (7, 7)</small><table border=\"1\" class=\"dataframe\"><thead><tr><th>PREDICTOR_0</th><th>PREDICTOR_1</th><th>PREDICTOR_2</th><th>filename</th><th>Context_Name</th><th>IH_Web_Inbound_Accepted_pxLastGroupID</th><th>Decision_Outcome</th></tr><tr><td>str</td><td>f64</td><td>str</td><td>str</td><td>str</td><td>str</td><td>str</td></tr></thead><tbody><tr><td>&quot;11093353965703…</td><td>1.2927e19</td><td>&quot;51722480423986…</td><td>&quot;../../../../da…</td><td>&quot;FirstMortgage3…</td><td>&quot;94438586201907…</td><td>&quot;Rejected&quot;</td></tr><tr><td>&quot;14461183009423…</td><td>1.4856e19</td><td>&quot;13185704252364…</td><td>&quot;../../../../da…</td><td>&quot;FirstMortgage3…</td><td>&quot;18050394246542…</td><td>&quot;Accepted&quot;</td></tr><tr><td>&quot;55883827594872…</td><td>5.6458e17</td><td>&quot;86874672239904…</td><td>&quot;../../../../da…</td><td>&quot;MoneyMarketSav…</td><td>&quot;94438586201907…</td><td>&quot;Rejected&quot;</td></tr><tr><td>&quot;18986324317992…</td><td>4.0723e18</td><td>&quot;13185704252364…</td><td>&quot;../../../../da…</td><td>&quot;BasicChecking&quot;</td><td>&quot;94438586201907…</td><td>&quot;Rejected&quot;</td></tr><tr><td>&quot;78460097197768…</td><td>1.4677e19</td><td>&quot;51722480423986…</td><td>&quot;../../../../da…</td><td>&quot;BasicChecking&quot;</td><td>&quot;16756569768293…</td><td>&quot;Accepted&quot;</td></tr><tr><td>&quot;11617208914095…</td><td>1.6330e19</td><td>&quot;86874672239904…</td><td>&quot;../../../../da…</td><td>&quot;UPlusFinPerson…</td><td>null</td><td>&quot;Rejected&quot;</td></tr><tr><td>&quot;58458120557961…</td><td>8.7675e18</td><td>&quot;86874672239904…</td><td>&quot;../../../../da…</td><td>&quot;BasicChecking&quot;</td><td>&quot;16756569768293…</td><td>&quot;Rejected&quot;</td></tr></tbody></table></div>"
      ],
      "text/plain": [
       "shape: (7, 7)\n",
       "┌──────────────┬─────────────┬─────────────┬─────────────┬─────────────┬─────────────┬─────────────┐\n",
       "│ PREDICTOR_0  ┆ PREDICTOR_1 ┆ PREDICTOR_2 ┆ filename    ┆ Context_Nam ┆ IH_Web_Inbo ┆ Decision_Ou │\n",
       "│ ---          ┆ ---         ┆ ---         ┆ ---         ┆ e           ┆ und_Accepte ┆ tcome       │\n",
       "│ str          ┆ f64         ┆ str         ┆ str         ┆ ---         ┆ d_pxLastGr… ┆ ---         │\n",
       "│              ┆             ┆             ┆             ┆ str         ┆ ---         ┆ str         │\n",
       "│              ┆             ┆             ┆             ┆             ┆ str         ┆             │\n",
       "╞══════════════╪═════════════╪═════════════╪═════════════╪═════════════╪═════════════╪═════════════╡\n",
       "│ 110933539657 ┆ 1.2927e19   ┆ 51722480423 ┆ ../../../.. ┆ FirstMortga ┆ 94438586201 ┆ Rejected    │\n",
       "│ 03824836     ┆             ┆ 98617884    ┆ /data/Sampl ┆ ge30yr      ┆ 90716686    ┆             │\n",
       "│              ┆             ┆             ┆ eHDS.json   ┆             ┆             ┆             │\n",
       "│ 144611830094 ┆ 1.4856e19   ┆ 13185704252 ┆ ../../../.. ┆ FirstMortga ┆ 18050394246 ┆ Accepted    │\n",
       "│ 23768541     ┆             ┆ 364516013   ┆ /data/Sampl ┆ ge30yr      ┆ 542253740   ┆             │\n",
       "│              ┆             ┆             ┆ eHDS.json   ┆             ┆             ┆             │\n",
       "│ 558838275948 ┆ 5.6458e17   ┆ 86874672239 ┆ ../../../.. ┆ MoneyMarket ┆ 94438586201 ┆ Rejected    │\n",
       "│ 7278044      ┆             ┆ 90461091    ┆ /data/Sampl ┆ SavingsAcco ┆ 90716686    ┆             │\n",
       "│              ┆             ┆             ┆ eHDS.json   ┆ unt         ┆             ┆             │\n",
       "│ 189863243179 ┆ 4.0723e18   ┆ 13185704252 ┆ ../../../.. ┆ BasicChecki ┆ 94438586201 ┆ Rejected    │\n",
       "│ 9246098      ┆             ┆ 364516013   ┆ /data/Sampl ┆ ng          ┆ 90716686    ┆             │\n",
       "│              ┆             ┆             ┆ eHDS.json   ┆             ┆             ┆             │\n",
       "│ 784600971977 ┆ 1.4677e19   ┆ 51722480423 ┆ ../../../.. ┆ BasicChecki ┆ 16756569768 ┆ Accepted    │\n",
       "│ 6881892      ┆             ┆ 98617884    ┆ /data/Sampl ┆ ng          ┆ 293590892   ┆             │\n",
       "│              ┆             ┆             ┆ eHDS.json   ┆             ┆             ┆             │\n",
       "│ 116172089140 ┆ 1.6330e19   ┆ 86874672239 ┆ ../../../.. ┆ UPlusFinPer ┆ null        ┆ Rejected    │\n",
       "│ 95694513     ┆             ┆ 90461091    ┆ /data/Sampl ┆ sonal       ┆             ┆             │\n",
       "│              ┆             ┆             ┆ eHDS.json   ┆             ┆             ┆             │\n",
       "│ 584581205579 ┆ 8.7675e18   ┆ 86874672239 ┆ ../../../.. ┆ BasicChecki ┆ 16756569768 ┆ Rejected    │\n",
       "│ 6156967      ┆             ┆ 90461091    ┆ /data/Sampl ┆ ng          ┆ 293590892   ┆             │\n",
       "│              ┆             ┆             ┆ eHDS.json   ┆             ┆             ┆             │\n",
       "└──────────────┴─────────────┴─────────────┴─────────────┴─────────────┴─────────────┴─────────────┘"
      ]
     },
     "execution_count": 8,
     "metadata": {},
     "output_type": "execute_result"
    }
   ],
   "source": [
    "anon = DataAnonymization(\n",
    "    hds_folder=\"../../../../data/\",\n",
    "    mask_ih_names=False,\n",
    "    mask_outcome_values=False,\n",
    "    mask_context_key_values=False,\n",
    "    mask_context_key_names=False,\n",
    ")\n",
    "anon.process()\n"
   ]
  },
  {
   "attachments": {},
   "cell_type": "markdown",
   "metadata": {},
   "source": [
    "The configs can also be written and read as such:"
   ]
  },
  {
   "cell_type": "code",
   "execution_count": 9,
   "metadata": {
    "execution": {
     "iopub.execute_input": "2023-10-03T13:02:24.440771Z",
     "iopub.status.busy": "2023-10-03T13:02:24.440358Z",
     "iopub.status.idle": "2023-10-03T13:02:24.443632Z",
     "shell.execute_reply": "2023-10-03T13:02:24.443113Z"
    }
   },
   "outputs": [],
   "source": [
    "anon.config.save_to_config_file('config.json')"
   ]
  },
  {
   "cell_type": "code",
   "execution_count": 10,
   "metadata": {
    "execution": {
     "iopub.execute_input": "2023-10-03T13:02:24.446153Z",
     "iopub.status.busy": "2023-10-03T13:02:24.445545Z",
     "iopub.status.idle": "2023-10-03T13:02:24.456558Z",
     "shell.execute_reply": "2023-10-03T13:02:24.456025Z"
    }
   },
   "outputs": [
    {
     "data": {
      "text/html": [
       "<div><style>\n",
       ".dataframe > thead > tr > th,\n",
       ".dataframe > tbody > tr > td {\n",
       "  text-align: right;\n",
       "  white-space: pre-wrap;\n",
       "}\n",
       "</style>\n",
       "<small>shape: (7, 7)</small><table border=\"1\" class=\"dataframe\"><thead><tr><th>PREDICTOR_0</th><th>PREDICTOR_1</th><th>PREDICTOR_2</th><th>filename</th><th>Context_Name</th><th>IH_Web_Inbound_Accepted_pxLastGroupID</th><th>Decision_Outcome</th></tr><tr><td>str</td><td>f64</td><td>str</td><td>str</td><td>str</td><td>str</td><td>str</td></tr></thead><tbody><tr><td>&quot;13139438789826…</td><td>1.2927e19</td><td>&quot;65988428504416…</td><td>&quot;../../../../da…</td><td>&quot;FirstMortgage3…</td><td>&quot;96284816283175…</td><td>&quot;Rejected&quot;</td></tr><tr><td>&quot;16270209014305…</td><td>1.4856e19</td><td>&quot;10924904748511…</td><td>&quot;../../../../da…</td><td>&quot;FirstMortgage3…</td><td>&quot;90112247031953…</td><td>&quot;Accepted&quot;</td></tr><tr><td>&quot;11897107182835…</td><td>5.6458e17</td><td>&quot;61762951929808…</td><td>&quot;../../../../da…</td><td>&quot;MoneyMarketSav…</td><td>&quot;96284816283175…</td><td>&quot;Rejected&quot;</td></tr><tr><td>&quot;14963982321815…</td><td>4.0723e18</td><td>&quot;10924904748511…</td><td>&quot;../../../../da…</td><td>&quot;BasicChecking&quot;</td><td>&quot;96284816283175…</td><td>&quot;Rejected&quot;</td></tr><tr><td>&quot;14044326100161…</td><td>1.4677e19</td><td>&quot;65988428504416…</td><td>&quot;../../../../da…</td><td>&quot;BasicChecking&quot;</td><td>&quot;15760330121842…</td><td>&quot;Accepted&quot;</td></tr><tr><td>&quot;15875071901847…</td><td>1.6330e19</td><td>&quot;61762951929808…</td><td>&quot;../../../../da…</td><td>&quot;UPlusFinPerson…</td><td>null</td><td>&quot;Rejected&quot;</td></tr><tr><td>&quot;13084237890649…</td><td>8.7675e18</td><td>&quot;61762951929808…</td><td>&quot;../../../../da…</td><td>&quot;BasicChecking&quot;</td><td>&quot;15760330121842…</td><td>&quot;Rejected&quot;</td></tr></tbody></table></div>"
      ],
      "text/plain": [
       "shape: (7, 7)\n",
       "┌──────────────┬─────────────┬─────────────┬─────────────┬─────────────┬─────────────┬─────────────┐\n",
       "│ PREDICTOR_0  ┆ PREDICTOR_1 ┆ PREDICTOR_2 ┆ filename    ┆ Context_Nam ┆ IH_Web_Inbo ┆ Decision_Ou │\n",
       "│ ---          ┆ ---         ┆ ---         ┆ ---         ┆ e           ┆ und_Accepte ┆ tcome       │\n",
       "│ str          ┆ f64         ┆ str         ┆ str         ┆ ---         ┆ d_pxLastGr… ┆ ---         │\n",
       "│              ┆             ┆             ┆             ┆ str         ┆ ---         ┆ str         │\n",
       "│              ┆             ┆             ┆             ┆             ┆ str         ┆             │\n",
       "╞══════════════╪═════════════╪═════════════╪═════════════╪═════════════╪═════════════╪═════════════╡\n",
       "│ 131394387898 ┆ 1.2927e19   ┆ 65988428504 ┆ ../../../.. ┆ FirstMortga ┆ 96284816283 ┆ Rejected    │\n",
       "│ 26124817     ┆             ┆ 41626425    ┆ /data/Sampl ┆ ge30yr      ┆ 17576029    ┆             │\n",
       "│              ┆             ┆             ┆ eHDS.json   ┆             ┆             ┆             │\n",
       "│ 162702090143 ┆ 1.4856e19   ┆ 10924904748 ┆ ../../../.. ┆ FirstMortga ┆ 90112247031 ┆ Accepted    │\n",
       "│ 05286300     ┆             ┆ 511546448   ┆ /data/Sampl ┆ ge30yr      ┆ 95371414    ┆             │\n",
       "│              ┆             ┆             ┆ eHDS.json   ┆             ┆             ┆             │\n",
       "│ 118971071828 ┆ 5.6458e17   ┆ 61762951929 ┆ ../../../.. ┆ MoneyMarket ┆ 96284816283 ┆ Rejected    │\n",
       "│ 35989229     ┆             ┆ 80807609    ┆ /data/Sampl ┆ SavingsAcco ┆ 17576029    ┆             │\n",
       "│              ┆             ┆             ┆ eHDS.json   ┆ unt         ┆             ┆             │\n",
       "│ 149639823218 ┆ 4.0723e18   ┆ 10924904748 ┆ ../../../.. ┆ BasicChecki ┆ 96284816283 ┆ Rejected    │\n",
       "│ 15146046     ┆             ┆ 511546448   ┆ /data/Sampl ┆ ng          ┆ 17576029    ┆             │\n",
       "│              ┆             ┆             ┆ eHDS.json   ┆             ┆             ┆             │\n",
       "│ 140443261001 ┆ 1.4677e19   ┆ 65988428504 ┆ ../../../.. ┆ BasicChecki ┆ 15760330121 ┆ Accepted    │\n",
       "│ 61281687     ┆             ┆ 41626425    ┆ /data/Sampl ┆ ng          ┆ 842956337   ┆             │\n",
       "│              ┆             ┆             ┆ eHDS.json   ┆             ┆             ┆             │\n",
       "│ 158750719018 ┆ 1.6330e19   ┆ 61762951929 ┆ ../../../.. ┆ UPlusFinPer ┆ null        ┆ Rejected    │\n",
       "│ 47250475     ┆             ┆ 80807609    ┆ /data/Sampl ┆ sonal       ┆             ┆             │\n",
       "│              ┆             ┆             ┆ eHDS.json   ┆             ┆             ┆             │\n",
       "│ 130842378906 ┆ 8.7675e18   ┆ 61762951929 ┆ ../../../.. ┆ BasicChecki ┆ 15760330121 ┆ Rejected    │\n",
       "│ 49837309     ┆             ┆ 80807609    ┆ /data/Sampl ┆ ng          ┆ 842956337   ┆             │\n",
       "│              ┆             ┆             ┆ eHDS.json   ┆             ┆             ┆             │\n",
       "└──────────────┴─────────────┴─────────────┴─────────────┴─────────────┴─────────────┴─────────────┘"
      ]
     },
     "execution_count": 10,
     "metadata": {},
     "output_type": "execute_result"
    }
   ],
   "source": [
    "anon = DataAnonymization(config=Config(config_file='config.json'))\n",
    "anon.process()"
   ]
  },
  {
   "attachments": {},
   "cell_type": "markdown",
   "metadata": {},
   "source": [
    "## Exporting\n",
    "Two functions export:\n",
    "- `create_mapping_file()` writes the mapping file of the predictor names\n",
    "- `write_to_output()` writes the processed dataframe to disk\n",
    "\n",
    "Write to output accepts the following extensions: `[\"ndjson\", \"parquet\", \"arrow\", \"csv\"]`"
   ]
  },
  {
   "cell_type": "code",
   "execution_count": 11,
   "metadata": {
    "execution": {
     "iopub.execute_input": "2023-10-03T13:02:24.459337Z",
     "iopub.status.busy": "2023-10-03T13:02:24.458698Z",
     "iopub.status.idle": "2023-10-03T13:02:24.462843Z",
     "shell.execute_reply": "2023-10-03T13:02:24.462376Z"
    }
   },
   "outputs": [
    {
     "name": "stdout",
     "output_type": "stream",
     "text": [
      "Customer_City=PREDICTOR_0\n",
      "Customer_CLV=PREDICTOR_1\n",
      "Customer_MaritalStatus=PREDICTOR_2\n",
      "filename=filename\n",
      "Context_Name=Context_Name\n",
      "IH_Web_Inbound_Accepted_pxLastGroupID=IH_Web_Inbound_Accepted_pxLastGroupID\n",
      "Decision_Outcome=Decision_Outcome\n",
      "\n"
     ]
    }
   ],
   "source": [
    "anon.create_mapping_file()\n",
    "with open('mapping.map') as f:\n",
    "    print(f.read())"
   ]
  },
  {
   "cell_type": "code",
   "execution_count": 12,
   "metadata": {
    "execution": {
     "iopub.execute_input": "2023-10-03T13:02:24.465196Z",
     "iopub.status.busy": "2023-10-03T13:02:24.464809Z",
     "iopub.status.idle": "2023-10-03T13:02:24.469265Z",
     "shell.execute_reply": "2023-10-03T13:02:24.468789Z"
    }
   },
   "outputs": [],
   "source": [
    "anon.write_to_output(ext='arrow')"
   ]
  },
  {
   "cell_type": "code",
   "execution_count": 13,
   "metadata": {
    "execution": {
     "iopub.execute_input": "2023-10-03T13:02:24.471585Z",
     "iopub.status.busy": "2023-10-03T13:02:24.471247Z",
     "iopub.status.idle": "2023-10-03T13:02:24.478405Z",
     "shell.execute_reply": "2023-10-03T13:02:24.477881Z"
    }
   },
   "outputs": [
    {
     "data": {
      "text/html": [
       "<div><style>\n",
       ".dataframe > thead > tr > th,\n",
       ".dataframe > tbody > tr > td {\n",
       "  text-align: right;\n",
       "  white-space: pre-wrap;\n",
       "}\n",
       "</style>\n",
       "<small>shape: (7, 6)</small><table border=\"1\" class=\"dataframe\"><thead><tr><th>PREDICTOR_0</th><th>PREDICTOR_1</th><th>PREDICTOR_2</th><th>Context_Name</th><th>IH_Web_Inbound_Accepted_pxLastGroupID</th><th>Decision_Outcome</th></tr><tr><td>str</td><td>f64</td><td>str</td><td>str</td><td>str</td><td>str</td></tr></thead><tbody><tr><td>&quot;22207803884381…</td><td>1.2927e19</td><td>&quot;34777341596363…</td><td>&quot;FirstMortgage3…</td><td>&quot;24340305048576…</td><td>&quot;Rejected&quot;</td></tr><tr><td>&quot;16872808884801…</td><td>1.4856e19</td><td>&quot;42735986120920…</td><td>&quot;FirstMortgage3…</td><td>&quot;44133409117356…</td><td>&quot;Accepted&quot;</td></tr><tr><td>&quot;27716015464166…</td><td>5.6458e17</td><td>&quot;15827506130720…</td><td>&quot;MoneyMarketSav…</td><td>&quot;24340305048576…</td><td>&quot;Rejected&quot;</td></tr><tr><td>&quot;21304752393614…</td><td>4.0723e18</td><td>&quot;42735986120920…</td><td>&quot;BasicChecking&quot;</td><td>&quot;24340305048576…</td><td>&quot;Rejected&quot;</td></tr><tr><td>&quot;14539182554275…</td><td>1.4677e19</td><td>&quot;34777341596363…</td><td>&quot;BasicChecking&quot;</td><td>&quot;11233976508865…</td><td>&quot;Accepted&quot;</td></tr><tr><td>&quot;12999309520606…</td><td>1.6330e19</td><td>&quot;15827506130720…</td><td>&quot;UPlusFinPerson…</td><td>null</td><td>&quot;Rejected&quot;</td></tr><tr><td>&quot;15192350919805…</td><td>8.7675e18</td><td>&quot;15827506130720…</td><td>&quot;BasicChecking&quot;</td><td>&quot;11233976508865…</td><td>&quot;Rejected&quot;</td></tr></tbody></table></div>"
      ],
      "text/plain": [
       "shape: (7, 6)\n",
       "┌────────────────┬─────────────┬────────────────┬────────────────┬────────────────┬────────────────┐\n",
       "│ PREDICTOR_0    ┆ PREDICTOR_1 ┆ PREDICTOR_2    ┆ Context_Name   ┆ IH_Web_Inbound ┆ Decision_Outco │\n",
       "│ ---            ┆ ---         ┆ ---            ┆ ---            ┆ _Accepted_pxLa ┆ me             │\n",
       "│ str            ┆ f64         ┆ str            ┆ str            ┆ stGr…          ┆ ---            │\n",
       "│                ┆             ┆                ┆                ┆ ---            ┆ str            │\n",
       "│                ┆             ┆                ┆                ┆ str            ┆                │\n",
       "╞════════════════╪═════════════╪════════════════╪════════════════╪════════════════╪════════════════╡\n",
       "│ 22207803884381 ┆ 1.2927e19   ┆ 34777341596363 ┆ FirstMortgage3 ┆ 24340305048576 ┆ Rejected       │\n",
       "│ 9861           ┆             ┆ 5198           ┆ 0yr            ┆ 80059          ┆                │\n",
       "│ 16872808884801 ┆ 1.4856e19   ┆ 42735986120920 ┆ FirstMortgage3 ┆ 44133409117356 ┆ Accepted       │\n",
       "│ 289675         ┆             ┆ 49310          ┆ 0yr            ┆ 54902          ┆                │\n",
       "│ 27716015464166 ┆ 5.6458e17   ┆ 15827506130720 ┆ MoneyMarketSav ┆ 24340305048576 ┆ Rejected       │\n",
       "│ 70752          ┆             ┆ 448555         ┆ ingsAccount    ┆ 80059          ┆                │\n",
       "│ 21304752393614 ┆ 4.0723e18   ┆ 42735986120920 ┆ BasicChecking  ┆ 24340305048576 ┆ Rejected       │\n",
       "│ 80912          ┆             ┆ 49310          ┆                ┆ 80059          ┆                │\n",
       "│ 14539182554275 ┆ 1.4677e19   ┆ 34777341596363 ┆ BasicChecking  ┆ 11233976508865 ┆ Accepted       │\n",
       "│ 161941         ┆             ┆ 5198           ┆                ┆ 561836         ┆                │\n",
       "│ 12999309520606 ┆ 1.6330e19   ┆ 15827506130720 ┆ UPlusFinPerson ┆ null           ┆ Rejected       │\n",
       "│ 258284         ┆             ┆ 448555         ┆ al             ┆                ┆                │\n",
       "│ 15192350919805 ┆ 8.7675e18   ┆ 15827506130720 ┆ BasicChecking  ┆ 11233976508865 ┆ Rejected       │\n",
       "│ 224296         ┆             ┆ 448555         ┆                ┆ 561836         ┆                │\n",
       "└────────────────┴─────────────┴────────────────┴────────────────┴────────────────┴────────────────┘"
      ]
     },
     "execution_count": 13,
     "metadata": {},
     "output_type": "execute_result"
    }
   ],
   "source": [
    "pl.read_ipc('output/hds.arrow')"
   ]
  },
  {
   "attachments": {},
   "cell_type": "markdown",
   "metadata": {
    "nbsphinx": "hidden"
   },
   "source": [
    "## Advanced: Hash fuctions\n",
    "\n",
    "By default, we use [the same hashing algorithm Polars](https://pola-rs.github.io/polars/py-polars/html/reference/expressions/api/polars.Expr.hash.html#polars.Expr.hash) uses: [xxhash](https://github.com/Cyan4973/xxHash), as implemented [here](https://github.com/pola-rs/polars/blob/3f287f370b3c388ed2f3f218b2c096382548136f/polars/polars-core/src/vector_hasher.rs#L266). xxhash is fast to compute, and you can check its performance in collision, dispersion and randomness [here](https://github.com/Cyan4973/xxHash/tree/dev/tests). \n",
    "\n",
    "xxhash accepts four distinct seeds, but by default we set the seeds to `0`. It is possible to set the `seed` argument of the `process()` function to `'random'`, which will set all four seeds to a random integer between `0` and `1000000000`. Alternatively, it is possible to supply the four seeds manually with arguments `seed`, `seed_1`, `seed_2` and `seed_3`. \n",
    "\n",
    "If the xxhash with (random) seed(s) is not deemed sufficiently secure, it is possible to use your own hashing algorithm.\n",
    "\n",
    "Note that since we're now running python code and not native Polars code anymore, this will be _significantly_ slower. Nonetheless, it is possible.\n",
    "\n",
    "Just as an example - this is how one would use sha3_256:"
   ]
  },
  {
   "cell_type": "code",
   "execution_count": 14,
   "metadata": {
    "execution": {
     "iopub.execute_input": "2023-10-03T13:02:24.481105Z",
     "iopub.status.busy": "2023-10-03T13:02:24.480544Z",
     "iopub.status.idle": "2023-10-03T13:02:24.874008Z",
     "shell.execute_reply": "2023-10-03T13:02:24.873276Z"
    },
    "nbsphinx": "hidden"
   },
   "outputs": [
    {
     "ename": "ComputeError",
     "evalue": "AttributeError: 'int' object has no attribute 'encode'",
     "output_type": "error",
     "traceback": [
      "\u001b[0;31m---------------------------------------------------------------------------\u001b[0m",
      "\u001b[0;31mComputeError\u001b[0m                              Traceback (most recent call last)",
      "Cell \u001b[0;32mIn[14], line 3\u001b[0m\n\u001b[1;32m      1\u001b[0m \u001b[38;5;28;01mfrom\u001b[39;00m \u001b[38;5;21;01mhashlib\u001b[39;00m \u001b[38;5;28;01mimport\u001b[39;00m sha3_256\n\u001b[0;32m----> 3\u001b[0m \u001b[43manon\u001b[49m\u001b[38;5;241;43m.\u001b[39;49m\u001b[43mprocess\u001b[49m\u001b[43m(\u001b[49m\u001b[43malgorithm\u001b[49m\u001b[38;5;241;43m=\u001b[39;49m\u001b[38;5;28;43;01mlambda\u001b[39;49;00m\u001b[43m \u001b[49m\u001b[43mx\u001b[49m\u001b[43m:\u001b[49m\u001b[43m \u001b[49m\u001b[43msha3_256\u001b[49m\u001b[43m(\u001b[49m\u001b[43mx\u001b[49m\u001b[38;5;241;43m.\u001b[39;49m\u001b[43mencode\u001b[49m\u001b[43m(\u001b[49m\u001b[43m)\u001b[49m\u001b[43m)\u001b[49m\u001b[38;5;241;43m.\u001b[39;49m\u001b[43mhexdigest\u001b[49m\u001b[43m(\u001b[49m\u001b[43m)\u001b[49m\u001b[43m)\u001b[49m\n",
      "File \u001b[0;32m~/work/pega-datascientist-tools/pega-datascientist-tools/python/docs/source/articles/../../../pdstools/utils/hds_utils.py:516\u001b[0m, in \u001b[0;36mDataAnonymization.process\u001b[0;34m(self, strategy, **kwargs)\u001b[0m\n\u001b[1;32m    514\u001b[0m df \u001b[38;5;241m=\u001b[39m df\u001b[38;5;241m.\u001b[39mselect(\u001b[38;5;28mself\u001b[39m\u001b[38;5;241m.\u001b[39mcolumn_mapping\u001b[38;5;241m.\u001b[39mkeys())\u001b[38;5;241m.\u001b[39mrename(\u001b[38;5;28mself\u001b[39m\u001b[38;5;241m.\u001b[39mcolumn_mapping)\n\u001b[1;32m    515\u001b[0m \u001b[38;5;28;01mif\u001b[39;00m strategy \u001b[38;5;241m==\u001b[39m \u001b[38;5;124m\"\u001b[39m\u001b[38;5;124meager\u001b[39m\u001b[38;5;124m\"\u001b[39m:\n\u001b[0;32m--> 516\u001b[0m     \u001b[38;5;28;01mreturn\u001b[39;00m \u001b[43mdf\u001b[49m\u001b[38;5;241;43m.\u001b[39;49m\u001b[43mcollect\u001b[49m\u001b[43m(\u001b[49m\u001b[43m)\u001b[49m\n\u001b[1;32m    517\u001b[0m \u001b[38;5;28;01mreturn\u001b[39;00m df\n",
      "File \u001b[0;32m/opt/hostedtoolcache/Python/3.11.5/x64/lib/python3.11/site-packages/polars/utils/deprecation.py:95\u001b[0m, in \u001b[0;36mdeprecate_renamed_parameter.<locals>.decorate.<locals>.wrapper\u001b[0;34m(*args, **kwargs)\u001b[0m\n\u001b[1;32m     90\u001b[0m \u001b[38;5;129m@wraps\u001b[39m(function)\n\u001b[1;32m     91\u001b[0m \u001b[38;5;28;01mdef\u001b[39;00m \u001b[38;5;21mwrapper\u001b[39m(\u001b[38;5;241m*\u001b[39margs: P\u001b[38;5;241m.\u001b[39margs, \u001b[38;5;241m*\u001b[39m\u001b[38;5;241m*\u001b[39mkwargs: P\u001b[38;5;241m.\u001b[39mkwargs) \u001b[38;5;241m-\u001b[39m\u001b[38;5;241m>\u001b[39m T:\n\u001b[1;32m     92\u001b[0m     _rename_keyword_argument(\n\u001b[1;32m     93\u001b[0m         old_name, new_name, kwargs, function\u001b[38;5;241m.\u001b[39m\u001b[38;5;18m__name__\u001b[39m, version\n\u001b[1;32m     94\u001b[0m     )\n\u001b[0;32m---> 95\u001b[0m     \u001b[38;5;28;01mreturn\u001b[39;00m \u001b[43mfunction\u001b[49m\u001b[43m(\u001b[49m\u001b[38;5;241;43m*\u001b[39;49m\u001b[43margs\u001b[49m\u001b[43m,\u001b[49m\u001b[43m \u001b[49m\u001b[38;5;241;43m*\u001b[39;49m\u001b[38;5;241;43m*\u001b[39;49m\u001b[43mkwargs\u001b[49m\u001b[43m)\u001b[49m\n",
      "File \u001b[0;32m/opt/hostedtoolcache/Python/3.11.5/x64/lib/python3.11/site-packages/polars/lazyframe/frame.py:1711\u001b[0m, in \u001b[0;36mLazyFrame.collect\u001b[0;34m(self, type_coercion, predicate_pushdown, projection_pushdown, simplify_expression, no_optimization, slice_pushdown, comm_subplan_elim, comm_subexpr_elim, streaming, **kwargs)\u001b[0m\n\u001b[1;32m   1698\u001b[0m     comm_subplan_elim \u001b[38;5;241m=\u001b[39m \u001b[38;5;28;01mFalse\u001b[39;00m\n\u001b[1;32m   1700\u001b[0m ldf \u001b[38;5;241m=\u001b[39m \u001b[38;5;28mself\u001b[39m\u001b[38;5;241m.\u001b[39m_ldf\u001b[38;5;241m.\u001b[39moptimization_toggle(\n\u001b[1;32m   1701\u001b[0m     type_coercion,\n\u001b[1;32m   1702\u001b[0m     predicate_pushdown,\n\u001b[0;32m   (...)\u001b[0m\n\u001b[1;32m   1709\u001b[0m     eager,\n\u001b[1;32m   1710\u001b[0m )\n\u001b[0;32m-> 1711\u001b[0m \u001b[38;5;28;01mreturn\u001b[39;00m wrap_df(ldf\u001b[38;5;241m.\u001b[39mcollect())\n",
      "\u001b[0;31mComputeError\u001b[0m: AttributeError: 'int' object has no attribute 'encode'"
     ]
    }
   ],
   "source": [
    "from hashlib import sha3_256\n",
    "\n",
    "anon.process(algorithm=lambda x: sha3_256(x.encode()).hexdigest())"
   ]
  }
 ],
 "metadata": {
  "kernelspec": {
   "display_name": "Python 3",
   "language": "python",
   "name": "python3"
  },
  "language_info": {
   "codemirror_mode": {
    "name": "ipython",
    "version": 3
   },
   "file_extension": ".py",
   "mimetype": "text/x-python",
   "name": "python",
   "nbconvert_exporter": "python",
   "pygments_lexer": "ipython3",
   "version": "3.11.5"
  },
  "vscode": {
   "interpreter": {
    "hash": "aee8b7b246df8f9039afb4144a1f6fd8d2ca17a180786b69acc140d282b71a49"
   }
  }
 },
 "nbformat": 4,
 "nbformat_minor": 2
}
