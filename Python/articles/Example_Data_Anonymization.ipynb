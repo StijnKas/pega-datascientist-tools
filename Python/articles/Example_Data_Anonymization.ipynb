{
 "cells": [
  {
   "attachments": {},
   "cell_type": "markdown",
   "metadata": {},
   "source": [
    "# Example data anonymization\n",
    "\n",
    "In Pega CDH 8.5 and up, it's now possible to record the historical data as seen by the Adaptive Models. See [this academy challenge](https://academy.pega.com/challenge/exporting-historical-data/v4) for reference. This historical data can be further used to experiment with offline models, but also to fine-tune the OOTB Gradient Boosting model. However, sharing this information with Pega can be sensitive as it contains raw predictor data. \n",
    "\n",
    "To this end, we provide a simple and transparent script to fully anonimize this dataset.\n",
    "\n",
    "The DataAnonymization script is now part of pdstools, and you can import it directly as such."
   ]
  },
  {
   "cell_type": "code",
   "execution_count": 1,
   "metadata": {
    "execution": {
     "iopub.execute_input": "2023-10-02T08:13:35.038656Z",
     "iopub.status.busy": "2023-10-02T08:13:35.038267Z",
     "iopub.status.idle": "2023-10-02T08:13:35.119764Z",
     "shell.execute_reply": "2023-10-02T08:13:35.119136Z"
    },
    "nbsphinx": "hidden"
   },
   "outputs": [],
   "source": [
    "# These lines are only for rendering in the docs, and are hidden through Jupyter tags\n",
    "# Do not run if you're running the notebook seperately\n",
    "\n",
    "import os  \n",
    "import sys\n",
    "import plotly.io as pio\n",
    "pio.renderers.default = \"notebook_connected\"\n",
    "\n",
    "sys.path.append(\"../../../\")\n",
    "sys.path.append('../../python')"
   ]
  },
  {
   "cell_type": "code",
   "execution_count": 2,
   "metadata": {
    "execution": {
     "iopub.execute_input": "2023-10-02T08:13:35.122673Z",
     "iopub.status.busy": "2023-10-02T08:13:35.122342Z",
     "iopub.status.idle": "2023-10-02T08:13:36.333605Z",
     "shell.execute_reply": "2023-10-02T08:13:36.332960Z"
    }
   },
   "outputs": [],
   "source": [
    "from pdstools import ADMDatamart\n",
    "from pdstools import Config, DataAnonymization\n",
    "import polars as pl"
   ]
  },
  {
   "attachments": {},
   "cell_type": "markdown",
   "metadata": {},
   "source": [
    "## Input data\n",
    "\n",
    "To demonstrate this process, we're going to anonymise this toy example dataframe:"
   ]
  },
  {
   "cell_type": "code",
   "execution_count": 3,
   "metadata": {
    "execution": {
     "iopub.execute_input": "2023-10-02T08:13:36.337116Z",
     "iopub.status.busy": "2023-10-02T08:13:36.336560Z",
     "iopub.status.idle": "2023-10-02T08:13:36.347625Z",
     "shell.execute_reply": "2023-10-02T08:13:36.347131Z"
    }
   },
   "outputs": [
    {
     "data": {
      "text/html": [
       "<div><style>\n",
       ".dataframe > thead > tr > th,\n",
       ".dataframe > tbody > tr > td {\n",
       "  text-align: right;\n",
       "  white-space: pre-wrap;\n",
       "}\n",
       "</style>\n",
       "<small>shape: (7, 6)</small><table border=\"1\" class=\"dataframe\"><thead><tr><th>Context_Name</th><th>Customer_MaritalStatus</th><th>Customer_CLV</th><th>Customer_City</th><th>IH_Web_Inbound_Accepted_pxLastGroupID</th><th>Decision_Outcome</th></tr><tr><td>str</td><td>str</td><td>i64</td><td>str</td><td>str</td><td>str</td></tr></thead><tbody><tr><td>&quot;FirstMortgage3…</td><td>&quot;Married&quot;</td><td>1460</td><td>&quot;Port Raoul&quot;</td><td>&quot;Account&quot;</td><td>&quot;Rejected&quot;</td></tr><tr><td>&quot;FirstMortgage3…</td><td>&quot;Unknown&quot;</td><td>669</td><td>&quot;Laurianneshire…</td><td>&quot;AutoLoans&quot;</td><td>&quot;Accepted&quot;</td></tr><tr><td>&quot;MoneyMarketSav…</td><td>&quot;No Resp+&quot;</td><td>1174</td><td>&quot;Jacobshaven&quot;</td><td>&quot;Account&quot;</td><td>&quot;Rejected&quot;</td></tr><tr><td>&quot;BasicChecking&quot;</td><td>&quot;Unknown&quot;</td><td>1476</td><td>&quot;Lindton&quot;</td><td>&quot;Account&quot;</td><td>&quot;Rejected&quot;</td></tr><tr><td>&quot;BasicChecking&quot;</td><td>&quot;Married&quot;</td><td>1211</td><td>&quot;South Jimmiesh…</td><td>&quot;DepositAccount…</td><td>&quot;Accepted&quot;</td></tr><tr><td>&quot;UPlusFinPerson…</td><td>&quot;No Resp+&quot;</td><td>533</td><td>&quot;Bergeville&quot;</td><td>null</td><td>&quot;Rejected&quot;</td></tr><tr><td>&quot;BasicChecking&quot;</td><td>&quot;No Resp+&quot;</td><td>555</td><td>&quot;Willyville&quot;</td><td>&quot;DepositAccount…</td><td>&quot;Rejected&quot;</td></tr></tbody></table></div>"
      ],
      "text/plain": [
       "shape: (7, 6)\n",
       "┌────────────────┬────────────────┬──────────────┬────────────────┬────────────────┬───────────────┐\n",
       "│ Context_Name   ┆ Customer_Marit ┆ Customer_CLV ┆ Customer_City  ┆ IH_Web_Inbound ┆ Decision_Outc │\n",
       "│ ---            ┆ alStatus       ┆ ---          ┆ ---            ┆ _Accepted_pxLa ┆ ome           │\n",
       "│ str            ┆ ---            ┆ i64          ┆ str            ┆ stGr…          ┆ ---           │\n",
       "│                ┆ str            ┆              ┆                ┆ ---            ┆ str           │\n",
       "│                ┆                ┆              ┆                ┆ str            ┆               │\n",
       "╞════════════════╪════════════════╪══════════════╪════════════════╪════════════════╪═══════════════╡\n",
       "│ FirstMortgage3 ┆ Married        ┆ 1460         ┆ Port Raoul     ┆ Account        ┆ Rejected      │\n",
       "│ 0yr            ┆                ┆              ┆                ┆                ┆               │\n",
       "│ FirstMortgage3 ┆ Unknown        ┆ 669          ┆ Laurianneshire ┆ AutoLoans      ┆ Accepted      │\n",
       "│ 0yr            ┆                ┆              ┆                ┆                ┆               │\n",
       "│ MoneyMarketSav ┆ No Resp+       ┆ 1174         ┆ Jacobshaven    ┆ Account        ┆ Rejected      │\n",
       "│ ingsAccount    ┆                ┆              ┆                ┆                ┆               │\n",
       "│ BasicChecking  ┆ Unknown        ┆ 1476         ┆ Lindton        ┆ Account        ┆ Rejected      │\n",
       "│ BasicChecking  ┆ Married        ┆ 1211         ┆ South          ┆ DepositAccount ┆ Accepted      │\n",
       "│                ┆                ┆              ┆ Jimmieshire    ┆ s              ┆               │\n",
       "│ UPlusFinPerson ┆ No Resp+       ┆ 533          ┆ Bergeville     ┆ null           ┆ Rejected      │\n",
       "│ al             ┆                ┆              ┆                ┆                ┆               │\n",
       "│ BasicChecking  ┆ No Resp+       ┆ 555          ┆ Willyville     ┆ DepositAccount ┆ Rejected      │\n",
       "│                ┆                ┆              ┆                ┆ s              ┆               │\n",
       "└────────────────┴────────────────┴──────────────┴────────────────┴────────────────┴───────────────┘"
      ]
     },
     "execution_count": 3,
     "metadata": {},
     "output_type": "execute_result"
    }
   ],
   "source": [
    "pl.read_ndjson('../../../../data/SampleHDS.json')"
   ]
  },
  {
   "attachments": {},
   "cell_type": "markdown",
   "metadata": {},
   "source": [
    "As you can see, this dataset consists of regular predictors, IH predictors, context keys and the outcome column. Additionally, some columns are numeric, others are strings. Let's first initialize the DataAnonymization class."
   ]
  },
  {
   "cell_type": "code",
   "execution_count": 4,
   "metadata": {
    "execution": {
     "iopub.execute_input": "2023-10-02T08:13:36.350063Z",
     "iopub.status.busy": "2023-10-02T08:13:36.349681Z",
     "iopub.status.idle": "2023-10-02T08:13:36.360580Z",
     "shell.execute_reply": "2023-10-02T08:13:36.360108Z"
    }
   },
   "outputs": [],
   "source": [
    "anon = DataAnonymization(hds_folder='../../../../data/')"
   ]
  },
  {
   "attachments": {},
   "cell_type": "markdown",
   "metadata": {},
   "source": [
    "By default, the class applies a set of anonymisation techniques:\n",
    "- Column names are remapped to a non-descriptive name\n",
    "- Categorical values are hashed with a random seed\n",
    "- Numerical values are normalized between 0 and 1\n",
    "- Outcomes are mapped to a binary outcome.\n",
    "\n",
    "To apply these techniques, simply call `.process()`:"
   ]
  },
  {
   "cell_type": "code",
   "execution_count": 5,
   "metadata": {
    "execution": {
     "iopub.execute_input": "2023-10-02T08:13:36.363040Z",
     "iopub.status.busy": "2023-10-02T08:13:36.362639Z",
     "iopub.status.idle": "2023-10-02T08:13:36.368997Z",
     "shell.execute_reply": "2023-10-02T08:13:36.368539Z"
    }
   },
   "outputs": [
    {
     "data": {
      "text/html": [
       "<div><style>\n",
       ".dataframe > thead > tr > th,\n",
       ".dataframe > tbody > tr > td {\n",
       "  text-align: right;\n",
       "  white-space: pre-wrap;\n",
       "}\n",
       "</style>\n",
       "<small>shape: (7, 7)</small><table border=\"1\" class=\"dataframe\"><thead><tr><th>PREDICTOR_0</th><th>PREDICTOR_1</th><th>PREDICTOR_2</th><th>filename</th><th>Context_Name</th><th>IH_PREDICTOR_0</th><th>Decision_Outcome</th></tr><tr><td>str</td><td>str</td><td>f64</td><td>str</td><td>str</td><td>str</td><td>bool</td></tr></thead><tbody><tr><td>&quot;11110714799960…</td><td>&quot;78703567416272…</td><td>1.2927e19</td><td>&quot;../../../../da…</td><td>&quot;13177135669320…</td><td>&quot;46535284377041…</td><td>false</td></tr><tr><td>&quot;46285710896293…</td><td>&quot;10673917363904…</td><td>1.4856e19</td><td>&quot;../../../../da…</td><td>&quot;13177135669320…</td><td>&quot;12617806226734…</td><td>true</td></tr><tr><td>&quot;10238156014237…</td><td>&quot;17286647120828…</td><td>5.6458e17</td><td>&quot;../../../../da…</td><td>&quot;87958195131988…</td><td>&quot;46535284377041…</td><td>false</td></tr><tr><td>&quot;64961621288206…</td><td>&quot;10673917363904…</td><td>4.0723e18</td><td>&quot;../../../../da…</td><td>&quot;14966776680150…</td><td>&quot;46535284377041…</td><td>false</td></tr><tr><td>&quot;12361440646060…</td><td>&quot;78703567416272…</td><td>1.4677e19</td><td>&quot;../../../../da…</td><td>&quot;14966776680150…</td><td>&quot;15607989695867…</td><td>true</td></tr><tr><td>&quot;55923319921574…</td><td>&quot;17286647120828…</td><td>1.6330e19</td><td>&quot;../../../../da…</td><td>&quot;10189821304687…</td><td>null</td><td>false</td></tr><tr><td>&quot;30561761931179…</td><td>&quot;17286647120828…</td><td>8.7675e18</td><td>&quot;../../../../da…</td><td>&quot;14966776680150…</td><td>&quot;15607989695867…</td><td>false</td></tr></tbody></table></div>"
      ],
      "text/plain": [
       "shape: (7, 7)\n",
       "┌──────────────┬─────────────┬─────────────┬─────────────┬─────────────┬─────────────┬─────────────┐\n",
       "│ PREDICTOR_0  ┆ PREDICTOR_1 ┆ PREDICTOR_2 ┆ filename    ┆ Context_Nam ┆ IH_PREDICTO ┆ Decision_Ou │\n",
       "│ ---          ┆ ---         ┆ ---         ┆ ---         ┆ e           ┆ R_0         ┆ tcome       │\n",
       "│ str          ┆ str         ┆ f64         ┆ str         ┆ ---         ┆ ---         ┆ ---         │\n",
       "│              ┆             ┆             ┆             ┆ str         ┆ str         ┆ bool        │\n",
       "╞══════════════╪═════════════╪═════════════╪═════════════╪═════════════╪═════════════╪═════════════╡\n",
       "│ 111107147999 ┆ 78703567416 ┆ 1.2927e19   ┆ ../../../.. ┆ 13177135669 ┆ 46535284377 ┆ false       │\n",
       "│ 60363818     ┆ 27261690    ┆             ┆ /data/Sampl ┆ 320210745   ┆ 04163731    ┆             │\n",
       "│              ┆             ┆             ┆ eHDS.json   ┆             ┆             ┆             │\n",
       "│ 462857108962 ┆ 10673917363 ┆ 1.4856e19   ┆ ../../../.. ┆ 13177135669 ┆ 12617806226 ┆ true        │\n",
       "│ 9375149      ┆ 904659639   ┆             ┆ /data/Sampl ┆ 320210745   ┆ 734430849   ┆             │\n",
       "│              ┆             ┆             ┆ eHDS.json   ┆             ┆             ┆             │\n",
       "│ 102381560142 ┆ 17286647120 ┆ 5.6458e17   ┆ ../../../.. ┆ 87958195131 ┆ 46535284377 ┆ false       │\n",
       "│ 37564336     ┆ 828431251   ┆             ┆ /data/Sampl ┆ 98897885    ┆ 04163731    ┆             │\n",
       "│              ┆             ┆             ┆ eHDS.json   ┆             ┆             ┆             │\n",
       "│ 649616212882 ┆ 10673917363 ┆ 4.0723e18   ┆ ../../../.. ┆ 14966776680 ┆ 46535284377 ┆ false       │\n",
       "│ 0665553      ┆ 904659639   ┆             ┆ /data/Sampl ┆ 150175902   ┆ 04163731    ┆             │\n",
       "│              ┆             ┆             ┆ eHDS.json   ┆             ┆             ┆             │\n",
       "│ 123614406460 ┆ 78703567416 ┆ 1.4677e19   ┆ ../../../.. ┆ 14966776680 ┆ 15607989695 ┆ true        │\n",
       "│ 60850004     ┆ 27261690    ┆             ┆ /data/Sampl ┆ 150175902   ┆ 867352340   ┆             │\n",
       "│              ┆             ┆             ┆ eHDS.json   ┆             ┆             ┆             │\n",
       "│ 559233199215 ┆ 17286647120 ┆ 1.6330e19   ┆ ../../../.. ┆ 10189821304 ┆ null        ┆ false       │\n",
       "│ 7481385      ┆ 828431251   ┆             ┆ /data/Sampl ┆ 687831225   ┆             ┆             │\n",
       "│              ┆             ┆             ┆ eHDS.json   ┆             ┆             ┆             │\n",
       "│ 305617619311 ┆ 17286647120 ┆ 8.7675e18   ┆ ../../../.. ┆ 14966776680 ┆ 15607989695 ┆ false       │\n",
       "│ 7964947      ┆ 828431251   ┆             ┆ /data/Sampl ┆ 150175902   ┆ 867352340   ┆             │\n",
       "│              ┆             ┆             ┆ eHDS.json   ┆             ┆             ┆             │\n",
       "└──────────────┴─────────────┴─────────────┴─────────────┴─────────────┴─────────────┴─────────────┘"
      ]
     },
     "execution_count": 5,
     "metadata": {},
     "output_type": "execute_result"
    }
   ],
   "source": [
    "anon.process()"
   ]
  },
  {
   "attachments": {},
   "cell_type": "markdown",
   "metadata": {},
   "source": [
    "To trace back the columns to their original names, the class also contains a mapping, which does not have to be provided."
   ]
  },
  {
   "cell_type": "code",
   "execution_count": 6,
   "metadata": {
    "execution": {
     "iopub.execute_input": "2023-10-02T08:13:36.371258Z",
     "iopub.status.busy": "2023-10-02T08:13:36.370882Z",
     "iopub.status.idle": "2023-10-02T08:13:36.374566Z",
     "shell.execute_reply": "2023-10-02T08:13:36.374132Z"
    }
   },
   "outputs": [
    {
     "data": {
      "text/plain": [
       "{'Customer_City': 'PREDICTOR_0',\n",
       " 'Customer_MaritalStatus': 'PREDICTOR_1',\n",
       " 'Customer_CLV': 'PREDICTOR_2',\n",
       " 'filename': 'filename',\n",
       " 'Context_Name': 'Context_Name',\n",
       " 'IH_Web_Inbound_Accepted_pxLastGroupID': 'IH_PREDICTOR_0',\n",
       " 'Decision_Outcome': 'Decision_Outcome'}"
      ]
     },
     "execution_count": 6,
     "metadata": {},
     "output_type": "execute_result"
    }
   ],
   "source": [
    "anon.column_mapping"
   ]
  },
  {
   "attachments": {},
   "cell_type": "markdown",
   "metadata": {},
   "source": [
    "## Configs\n",
    "\n",
    "Each capability can optionally be turned off - see below for the full list of config options, and refer to the API reference for the full description."
   ]
  },
  {
   "cell_type": "code",
   "execution_count": 7,
   "metadata": {
    "execution": {
     "iopub.execute_input": "2023-10-02T08:13:36.376774Z",
     "iopub.status.busy": "2023-10-02T08:13:36.376424Z",
     "iopub.status.idle": "2023-10-02T08:13:36.381077Z",
     "shell.execute_reply": "2023-10-02T08:13:36.380550Z"
    }
   },
   "outputs": [
    {
     "data": {
      "text/plain": [
       "{'config_file': None,\n",
       " 'hds_folder': '.',\n",
       " 'use_datamart': False,\n",
       " 'datamart_folder': 'datamart',\n",
       " 'output_format': 'ndjson',\n",
       " 'output_folder': 'output',\n",
       " 'mapping_file': 'mapping.map',\n",
       " 'mask_predictor_names': True,\n",
       " 'mask_context_key_names': False,\n",
       " 'mask_ih_names': True,\n",
       " 'mask_outcome_name': False,\n",
       " 'mask_predictor_values': True,\n",
       " 'mask_context_key_values': True,\n",
       " 'mask_ih_values': True,\n",
       " 'mask_outcome_values': True,\n",
       " 'context_key_label': 'Context_*',\n",
       " 'ih_label': 'IH_*',\n",
       " 'outcome_column': 'Decision_Outcome',\n",
       " 'positive_outcomes': ['Accepted', 'Clicked'],\n",
       " 'negative_outcomes': ['Rejected', 'Impression'],\n",
       " 'special_predictors': ['Decision_DecisionTime',\n",
       "  'Decision_OutcomeTime',\n",
       "  'Decision_Rank'],\n",
       " 'sample_percentage_schema_inferencing': 0.01}"
      ]
     },
     "execution_count": 7,
     "metadata": {},
     "output_type": "execute_result"
    }
   ],
   "source": [
    "dict(zip(Config.__init__.__code__.co_varnames[1:], Config.__init__.__defaults__))"
   ]
  },
  {
   "attachments": {},
   "cell_type": "markdown",
   "metadata": {},
   "source": [
    "It's easy to change these parameters by just passing the keyword arguments. In the following example, we\n",
    "- Keep the IH predictor names\n",
    "- Keep the outcome values\n",
    "- Keep the context key values\n",
    "- Keep the context key predictor names"
   ]
  },
  {
   "cell_type": "code",
   "execution_count": 8,
   "metadata": {
    "execution": {
     "iopub.execute_input": "2023-10-02T08:13:36.384047Z",
     "iopub.status.busy": "2023-10-02T08:13:36.383596Z",
     "iopub.status.idle": "2023-10-02T08:13:36.397145Z",
     "shell.execute_reply": "2023-10-02T08:13:36.396503Z"
    }
   },
   "outputs": [
    {
     "data": {
      "text/html": [
       "<div><style>\n",
       ".dataframe > thead > tr > th,\n",
       ".dataframe > tbody > tr > td {\n",
       "  text-align: right;\n",
       "  white-space: pre-wrap;\n",
       "}\n",
       "</style>\n",
       "<small>shape: (7, 7)</small><table border=\"1\" class=\"dataframe\"><thead><tr><th>PREDICTOR_0</th><th>PREDICTOR_1</th><th>PREDICTOR_2</th><th>filename</th><th>Context_Name</th><th>IH_Web_Inbound_Accepted_pxLastGroupID</th><th>Decision_Outcome</th></tr><tr><td>str</td><td>str</td><td>f64</td><td>str</td><td>str</td><td>str</td><td>str</td></tr></thead><tbody><tr><td>&quot;18140238646273…</td><td>&quot;91361973889697…</td><td>1.2927e19</td><td>&quot;../../../../da…</td><td>&quot;FirstMortgage3…</td><td>&quot;14883532399543…</td><td>&quot;Rejected&quot;</td></tr><tr><td>&quot;11403079067574…</td><td>&quot;64993988678012…</td><td>1.4856e19</td><td>&quot;../../../../da…</td><td>&quot;FirstMortgage3…</td><td>&quot;77697744724261…</td><td>&quot;Accepted&quot;</td></tr><tr><td>&quot;28584220316669…</td><td>&quot;41499384979288…</td><td>5.6458e17</td><td>&quot;../../../../da…</td><td>&quot;MoneyMarketSav…</td><td>&quot;14883532399543…</td><td>&quot;Rejected&quot;</td></tr><tr><td>&quot;19574431149263…</td><td>&quot;64993988678012…</td><td>4.0723e18</td><td>&quot;../../../../da…</td><td>&quot;BasicChecking&quot;</td><td>&quot;14883532399543…</td><td>&quot;Rejected&quot;</td></tr><tr><td>&quot;59797688089368…</td><td>&quot;91361973889697…</td><td>1.4677e19</td><td>&quot;../../../../da…</td><td>&quot;BasicChecking&quot;</td><td>&quot;11963434556877…</td><td>&quot;Accepted&quot;</td></tr><tr><td>&quot;51941591492812…</td><td>&quot;41499384979288…</td><td>1.6330e19</td><td>&quot;../../../../da…</td><td>&quot;UPlusFinPerson…</td><td>null</td><td>&quot;Rejected&quot;</td></tr><tr><td>&quot;24786066436871…</td><td>&quot;41499384979288…</td><td>8.7675e18</td><td>&quot;../../../../da…</td><td>&quot;BasicChecking&quot;</td><td>&quot;11963434556877…</td><td>&quot;Rejected&quot;</td></tr></tbody></table></div>"
      ],
      "text/plain": [
       "shape: (7, 7)\n",
       "┌──────────────┬─────────────┬─────────────┬─────────────┬─────────────┬─────────────┬─────────────┐\n",
       "│ PREDICTOR_0  ┆ PREDICTOR_1 ┆ PREDICTOR_2 ┆ filename    ┆ Context_Nam ┆ IH_Web_Inbo ┆ Decision_Ou │\n",
       "│ ---          ┆ ---         ┆ ---         ┆ ---         ┆ e           ┆ und_Accepte ┆ tcome       │\n",
       "│ str          ┆ str         ┆ f64         ┆ str         ┆ ---         ┆ d_pxLastGr… ┆ ---         │\n",
       "│              ┆             ┆             ┆             ┆ str         ┆ ---         ┆ str         │\n",
       "│              ┆             ┆             ┆             ┆             ┆ str         ┆             │\n",
       "╞══════════════╪═════════════╪═════════════╪═════════════╪═════════════╪═════════════╪═════════════╡\n",
       "│ 181402386462 ┆ 91361973889 ┆ 1.2927e19   ┆ ../../../.. ┆ FirstMortga ┆ 14883532399 ┆ Rejected    │\n",
       "│ 73035609     ┆ 6978561     ┆             ┆ /data/Sampl ┆ ge30yr      ┆ 543135654   ┆             │\n",
       "│              ┆             ┆             ┆ eHDS.json   ┆             ┆             ┆             │\n",
       "│ 114030790675 ┆ 64993988678 ┆ 1.4856e19   ┆ ../../../.. ┆ FirstMortga ┆ 77697744724 ┆ Accepted    │\n",
       "│ 74071541     ┆ 01283028    ┆             ┆ /data/Sampl ┆ ge30yr      ┆ 26194596    ┆             │\n",
       "│              ┆             ┆             ┆ eHDS.json   ┆             ┆             ┆             │\n",
       "│ 285842203166 ┆ 41499384979 ┆ 5.6458e17   ┆ ../../../.. ┆ MoneyMarket ┆ 14883532399 ┆ Rejected    │\n",
       "│ 6910846      ┆ 28839074    ┆             ┆ /data/Sampl ┆ SavingsAcco ┆ 543135654   ┆             │\n",
       "│              ┆             ┆             ┆ eHDS.json   ┆ unt         ┆             ┆             │\n",
       "│ 195744311492 ┆ 64993988678 ┆ 4.0723e18   ┆ ../../../.. ┆ BasicChecki ┆ 14883532399 ┆ Rejected    │\n",
       "│ 6384016      ┆ 01283028    ┆             ┆ /data/Sampl ┆ ng          ┆ 543135654   ┆             │\n",
       "│              ┆             ┆             ┆ eHDS.json   ┆             ┆             ┆             │\n",
       "│ 597976880893 ┆ 91361973889 ┆ 1.4677e19   ┆ ../../../.. ┆ BasicChecki ┆ 11963434556 ┆ Accepted    │\n",
       "│ 6809636      ┆ 6978561     ┆             ┆ /data/Sampl ┆ ng          ┆ 877874094   ┆             │\n",
       "│              ┆             ┆             ┆ eHDS.json   ┆             ┆             ┆             │\n",
       "│ 519415914928 ┆ 41499384979 ┆ 1.6330e19   ┆ ../../../.. ┆ UPlusFinPer ┆ null        ┆ Rejected    │\n",
       "│ 1208348      ┆ 28839074    ┆             ┆ /data/Sampl ┆ sonal       ┆             ┆             │\n",
       "│              ┆             ┆             ┆ eHDS.json   ┆             ┆             ┆             │\n",
       "│ 247860664368 ┆ 41499384979 ┆ 8.7675e18   ┆ ../../../.. ┆ BasicChecki ┆ 11963434556 ┆ Rejected    │\n",
       "│ 71001        ┆ 28839074    ┆             ┆ /data/Sampl ┆ ng          ┆ 877874094   ┆             │\n",
       "│              ┆             ┆             ┆ eHDS.json   ┆             ┆             ┆             │\n",
       "└──────────────┴─────────────┴─────────────┴─────────────┴─────────────┴─────────────┴─────────────┘"
      ]
     },
     "execution_count": 8,
     "metadata": {},
     "output_type": "execute_result"
    }
   ],
   "source": [
    "anon = DataAnonymization(\n",
    "    hds_folder=\"../../../../data/\",\n",
    "    mask_ih_names=False,\n",
    "    mask_outcome_values=False,\n",
    "    mask_context_key_values=False,\n",
    "    mask_context_key_names=False,\n",
    ")\n",
    "anon.process()\n"
   ]
  },
  {
   "attachments": {},
   "cell_type": "markdown",
   "metadata": {},
   "source": [
    "The configs can also be written and read as such:"
   ]
  },
  {
   "cell_type": "code",
   "execution_count": 9,
   "metadata": {
    "execution": {
     "iopub.execute_input": "2023-10-02T08:13:36.399482Z",
     "iopub.status.busy": "2023-10-02T08:13:36.399136Z",
     "iopub.status.idle": "2023-10-02T08:13:36.402077Z",
     "shell.execute_reply": "2023-10-02T08:13:36.401537Z"
    }
   },
   "outputs": [],
   "source": [
    "anon.config.save_to_config_file('config.json')"
   ]
  },
  {
   "cell_type": "code",
   "execution_count": 10,
   "metadata": {
    "execution": {
     "iopub.execute_input": "2023-10-02T08:13:36.404248Z",
     "iopub.status.busy": "2023-10-02T08:13:36.404065Z",
     "iopub.status.idle": "2023-10-02T08:13:36.417128Z",
     "shell.execute_reply": "2023-10-02T08:13:36.416502Z"
    }
   },
   "outputs": [
    {
     "data": {
      "text/html": [
       "<div><style>\n",
       ".dataframe > thead > tr > th,\n",
       ".dataframe > tbody > tr > td {\n",
       "  text-align: right;\n",
       "  white-space: pre-wrap;\n",
       "}\n",
       "</style>\n",
       "<small>shape: (7, 7)</small><table border=\"1\" class=\"dataframe\"><thead><tr><th>PREDICTOR_0</th><th>PREDICTOR_1</th><th>PREDICTOR_2</th><th>filename</th><th>Context_Name</th><th>IH_Web_Inbound_Accepted_pxLastGroupID</th><th>Decision_Outcome</th></tr><tr><td>str</td><td>str</td><td>f64</td><td>str</td><td>str</td><td>str</td><td>str</td></tr></thead><tbody><tr><td>&quot;93656831805797…</td><td>&quot;42565553759659…</td><td>1.2927e19</td><td>&quot;../../../../da…</td><td>&quot;FirstMortgage3…</td><td>&quot;16590992473387…</td><td>&quot;Rejected&quot;</td></tr><tr><td>&quot;15485751655412…</td><td>&quot;12863939215047…</td><td>1.4856e19</td><td>&quot;../../../../da…</td><td>&quot;FirstMortgage3…</td><td>&quot;14075665823223…</td><td>&quot;Accepted&quot;</td></tr><tr><td>&quot;17101859623578…</td><td>&quot;26501256339716…</td><td>5.6458e17</td><td>&quot;../../../../da…</td><td>&quot;MoneyMarketSav…</td><td>&quot;16590992473387…</td><td>&quot;Rejected&quot;</td></tr><tr><td>&quot;19599644725916…</td><td>&quot;12863939215047…</td><td>4.0723e18</td><td>&quot;../../../../da…</td><td>&quot;BasicChecking&quot;</td><td>&quot;16590992473387…</td><td>&quot;Rejected&quot;</td></tr><tr><td>&quot;37512862121521…</td><td>&quot;42565553759659…</td><td>1.4677e19</td><td>&quot;../../../../da…</td><td>&quot;BasicChecking&quot;</td><td>&quot;12420866289158…</td><td>&quot;Accepted&quot;</td></tr><tr><td>&quot;10705519031564…</td><td>&quot;26501256339716…</td><td>1.6330e19</td><td>&quot;../../../../da…</td><td>&quot;UPlusFinPerson…</td><td>null</td><td>&quot;Rejected&quot;</td></tr><tr><td>&quot;77930060778199…</td><td>&quot;26501256339716…</td><td>8.7675e18</td><td>&quot;../../../../da…</td><td>&quot;BasicChecking&quot;</td><td>&quot;12420866289158…</td><td>&quot;Rejected&quot;</td></tr></tbody></table></div>"
      ],
      "text/plain": [
       "shape: (7, 7)\n",
       "┌──────────────┬─────────────┬─────────────┬─────────────┬─────────────┬─────────────┬─────────────┐\n",
       "│ PREDICTOR_0  ┆ PREDICTOR_1 ┆ PREDICTOR_2 ┆ filename    ┆ Context_Nam ┆ IH_Web_Inbo ┆ Decision_Ou │\n",
       "│ ---          ┆ ---         ┆ ---         ┆ ---         ┆ e           ┆ und_Accepte ┆ tcome       │\n",
       "│ str          ┆ str         ┆ f64         ┆ str         ┆ ---         ┆ d_pxLastGr… ┆ ---         │\n",
       "│              ┆             ┆             ┆             ┆ str         ┆ ---         ┆ str         │\n",
       "│              ┆             ┆             ┆             ┆             ┆ str         ┆             │\n",
       "╞══════════════╪═════════════╪═════════════╪═════════════╪═════════════╪═════════════╪═════════════╡\n",
       "│ 936568318057 ┆ 42565553759 ┆ 1.2927e19   ┆ ../../../.. ┆ FirstMortga ┆ 16590992473 ┆ Rejected    │\n",
       "│ 9791464      ┆ 65964535    ┆             ┆ /data/Sampl ┆ ge30yr      ┆ 387514451   ┆             │\n",
       "│              ┆             ┆             ┆ eHDS.json   ┆             ┆             ┆             │\n",
       "│ 154857516554 ┆ 12863939215 ┆ 1.4856e19   ┆ ../../../.. ┆ FirstMortga ┆ 14075665823 ┆ Accepted    │\n",
       "│ 12194451     ┆ 047456226   ┆             ┆ /data/Sampl ┆ ge30yr      ┆ 223080376   ┆             │\n",
       "│              ┆             ┆             ┆ eHDS.json   ┆             ┆             ┆             │\n",
       "│ 171018596235 ┆ 26501256339 ┆ 5.6458e17   ┆ ../../../.. ┆ MoneyMarket ┆ 16590992473 ┆ Rejected    │\n",
       "│ 78285961     ┆ 7161488     ┆             ┆ /data/Sampl ┆ SavingsAcco ┆ 387514451   ┆             │\n",
       "│              ┆             ┆             ┆ eHDS.json   ┆ unt         ┆             ┆             │\n",
       "│ 195996447259 ┆ 12863939215 ┆ 4.0723e18   ┆ ../../../.. ┆ BasicChecki ┆ 16590992473 ┆ Rejected    │\n",
       "│ 1605610      ┆ 047456226   ┆             ┆ /data/Sampl ┆ ng          ┆ 387514451   ┆             │\n",
       "│              ┆             ┆             ┆ eHDS.json   ┆             ┆             ┆             │\n",
       "│ 375128621215 ┆ 42565553759 ┆ 1.4677e19   ┆ ../../../.. ┆ BasicChecki ┆ 12420866289 ┆ Accepted    │\n",
       "│ 2131217      ┆ 65964535    ┆             ┆ /data/Sampl ┆ ng          ┆ 158046719   ┆             │\n",
       "│              ┆             ┆             ┆ eHDS.json   ┆             ┆             ┆             │\n",
       "│ 107055190315 ┆ 26501256339 ┆ 1.6330e19   ┆ ../../../.. ┆ UPlusFinPer ┆ null        ┆ Rejected    │\n",
       "│ 64812348     ┆ 7161488     ┆             ┆ /data/Sampl ┆ sonal       ┆             ┆             │\n",
       "│              ┆             ┆             ┆ eHDS.json   ┆             ┆             ┆             │\n",
       "│ 779300607781 ┆ 26501256339 ┆ 8.7675e18   ┆ ../../../.. ┆ BasicChecki ┆ 12420866289 ┆ Rejected    │\n",
       "│ 9931624      ┆ 7161488     ┆             ┆ /data/Sampl ┆ ng          ┆ 158046719   ┆             │\n",
       "│              ┆             ┆             ┆ eHDS.json   ┆             ┆             ┆             │\n",
       "└──────────────┴─────────────┴─────────────┴─────────────┴─────────────┴─────────────┴─────────────┘"
      ]
     },
     "execution_count": 10,
     "metadata": {},
     "output_type": "execute_result"
    }
   ],
   "source": [
    "anon = DataAnonymization(config=Config(config_file='config.json'))\n",
    "anon.process()"
   ]
  },
  {
   "attachments": {},
   "cell_type": "markdown",
   "metadata": {},
   "source": [
    "## Exporting\n",
    "Two functions export:\n",
    "- `create_mapping_file()` writes the mapping file of the predictor names\n",
    "- `write_to_output()` writes the processed dataframe to disk\n",
    "\n",
    "Write to output accepts the following extensions: `[\"ndjson\", \"parquet\", \"arrow\", \"csv\"]`"
   ]
  },
  {
   "cell_type": "code",
   "execution_count": 11,
   "metadata": {
    "execution": {
     "iopub.execute_input": "2023-10-02T08:13:36.419527Z",
     "iopub.status.busy": "2023-10-02T08:13:36.419165Z",
     "iopub.status.idle": "2023-10-02T08:13:36.422633Z",
     "shell.execute_reply": "2023-10-02T08:13:36.422195Z"
    }
   },
   "outputs": [
    {
     "name": "stdout",
     "output_type": "stream",
     "text": [
      "Customer_City=PREDICTOR_0\n",
      "Customer_MaritalStatus=PREDICTOR_1\n",
      "Customer_CLV=PREDICTOR_2\n",
      "filename=filename\n",
      "Context_Name=Context_Name\n",
      "IH_Web_Inbound_Accepted_pxLastGroupID=IH_Web_Inbound_Accepted_pxLastGroupID\n",
      "Decision_Outcome=Decision_Outcome\n",
      "\n"
     ]
    }
   ],
   "source": [
    "anon.create_mapping_file()\n",
    "with open('mapping.map') as f:\n",
    "    print(f.read())"
   ]
  },
  {
   "cell_type": "code",
   "execution_count": 12,
   "metadata": {
    "execution": {
     "iopub.execute_input": "2023-10-02T08:13:36.424789Z",
     "iopub.status.busy": "2023-10-02T08:13:36.424436Z",
     "iopub.status.idle": "2023-10-02T08:13:36.428401Z",
     "shell.execute_reply": "2023-10-02T08:13:36.427727Z"
    }
   },
   "outputs": [],
   "source": [
    "anon.write_to_output(ext='arrow')"
   ]
  },
  {
   "cell_type": "code",
   "execution_count": 13,
   "metadata": {
    "execution": {
     "iopub.execute_input": "2023-10-02T08:13:36.430550Z",
     "iopub.status.busy": "2023-10-02T08:13:36.430192Z",
     "iopub.status.idle": "2023-10-02T08:13:36.435272Z",
     "shell.execute_reply": "2023-10-02T08:13:36.434349Z"
    }
   },
   "outputs": [
    {
     "data": {
      "text/html": [
       "<div><style>\n",
       ".dataframe > thead > tr > th,\n",
       ".dataframe > tbody > tr > td {\n",
       "  text-align: right;\n",
       "  white-space: pre-wrap;\n",
       "}\n",
       "</style>\n",
       "<small>shape: (7, 6)</small><table border=\"1\" class=\"dataframe\"><thead><tr><th>PREDICTOR_0</th><th>PREDICTOR_1</th><th>PREDICTOR_2</th><th>Context_Name</th><th>IH_Web_Inbound_Accepted_pxLastGroupID</th><th>Decision_Outcome</th></tr><tr><td>str</td><td>str</td><td>f64</td><td>str</td><td>str</td><td>str</td></tr></thead><tbody><tr><td>&quot;12815480771814…</td><td>&quot;16929657002910…</td><td>1.2927e19</td><td>&quot;FirstMortgage3…</td><td>&quot;35566730974851…</td><td>&quot;Rejected&quot;</td></tr><tr><td>&quot;38219679382556…</td><td>&quot;29372894108055…</td><td>1.4856e19</td><td>&quot;FirstMortgage3…</td><td>&quot;10138725860833…</td><td>&quot;Accepted&quot;</td></tr><tr><td>&quot;19518361142565…</td><td>&quot;16485125254942…</td><td>5.6458e17</td><td>&quot;MoneyMarketSav…</td><td>&quot;35566730974851…</td><td>&quot;Rejected&quot;</td></tr><tr><td>&quot;26484516887998…</td><td>&quot;29372894108055…</td><td>4.0723e18</td><td>&quot;BasicChecking&quot;</td><td>&quot;35566730974851…</td><td>&quot;Rejected&quot;</td></tr><tr><td>&quot;17657445897670…</td><td>&quot;16929657002910…</td><td>1.4677e19</td><td>&quot;BasicChecking&quot;</td><td>&quot;17344641112718…</td><td>&quot;Accepted&quot;</td></tr><tr><td>&quot;15728610012835…</td><td>&quot;16485125254942…</td><td>1.6330e19</td><td>&quot;UPlusFinPerson…</td><td>null</td><td>&quot;Rejected&quot;</td></tr><tr><td>&quot;13876890716447…</td><td>&quot;16485125254942…</td><td>8.7675e18</td><td>&quot;BasicChecking&quot;</td><td>&quot;17344641112718…</td><td>&quot;Rejected&quot;</td></tr></tbody></table></div>"
      ],
      "text/plain": [
       "shape: (7, 6)\n",
       "┌────────────────┬────────────────┬─────────────┬────────────────┬────────────────┬────────────────┐\n",
       "│ PREDICTOR_0    ┆ PREDICTOR_1    ┆ PREDICTOR_2 ┆ Context_Name   ┆ IH_Web_Inbound ┆ Decision_Outco │\n",
       "│ ---            ┆ ---            ┆ ---         ┆ ---            ┆ _Accepted_pxLa ┆ me             │\n",
       "│ str            ┆ str            ┆ f64         ┆ str            ┆ stGr…          ┆ ---            │\n",
       "│                ┆                ┆             ┆                ┆ ---            ┆ str            │\n",
       "│                ┆                ┆             ┆                ┆ str            ┆                │\n",
       "╞════════════════╪════════════════╪═════════════╪════════════════╪════════════════╪════════════════╡\n",
       "│ 12815480771814 ┆ 16929657002910 ┆ 1.2927e19   ┆ FirstMortgage3 ┆ 35566730974851 ┆ Rejected       │\n",
       "│ 331145         ┆ 355699         ┆             ┆ 0yr            ┆ 67087          ┆                │\n",
       "│ 38219679382556 ┆ 29372894108055 ┆ 1.4856e19   ┆ FirstMortgage3 ┆ 10138725860833 ┆ Accepted       │\n",
       "│ 88564          ┆ 70629          ┆             ┆ 0yr            ┆ 22770          ┆                │\n",
       "│ 19518361142565 ┆ 16485125254942 ┆ 5.6458e17   ┆ MoneyMarketSav ┆ 35566730974851 ┆ Rejected       │\n",
       "│ 98565          ┆ 537955         ┆             ┆ ingsAccount    ┆ 67087          ┆                │\n",
       "│ 26484516887998 ┆ 29372894108055 ┆ 4.0723e18   ┆ BasicChecking  ┆ 35566730974851 ┆ Rejected       │\n",
       "│ 84766          ┆ 70629          ┆             ┆                ┆ 67087          ┆                │\n",
       "│ 17657445897670 ┆ 16929657002910 ┆ 1.4677e19   ┆ BasicChecking  ┆ 17344641112718 ┆ Accepted       │\n",
       "│ 613506         ┆ 355699         ┆             ┆                ┆ 020237         ┆                │\n",
       "│ 15728610012835 ┆ 16485125254942 ┆ 1.6330e19   ┆ UPlusFinPerson ┆ null           ┆ Rejected       │\n",
       "│ 536978         ┆ 537955         ┆             ┆ al             ┆                ┆                │\n",
       "│ 13876890716447 ┆ 16485125254942 ┆ 8.7675e18   ┆ BasicChecking  ┆ 17344641112718 ┆ Rejected       │\n",
       "│ 95324          ┆ 537955         ┆             ┆                ┆ 020237         ┆                │\n",
       "└────────────────┴────────────────┴─────────────┴────────────────┴────────────────┴────────────────┘"
      ]
     },
     "execution_count": 13,
     "metadata": {},
     "output_type": "execute_result"
    }
   ],
   "source": [
    "pl.read_ipc('output/hds.arrow')"
   ]
  },
  {
   "attachments": {},
   "cell_type": "markdown",
   "metadata": {
    "nbsphinx": "hidden"
   },
   "source": [
    "## Advanced: Hash fuctions\n",
    "\n",
    "By default, we use [the same hashing algorithm Polars](https://pola-rs.github.io/polars/py-polars/html/reference/expressions/api/polars.Expr.hash.html#polars.Expr.hash) uses: [xxhash](https://github.com/Cyan4973/xxHash), as implemented [here](https://github.com/pola-rs/polars/blob/3f287f370b3c388ed2f3f218b2c096382548136f/polars/polars-core/src/vector_hasher.rs#L266). xxhash is fast to compute, and you can check its performance in collision, dispersion and randomness [here](https://github.com/Cyan4973/xxHash/tree/dev/tests). \n",
    "\n",
    "xxhash accepts four distinct seeds, but by default we set the seeds to `0`. It is possible to set the `seed` argument of the `process()` function to `'random'`, which will set all four seeds to a random integer between `0` and `1000000000`. Alternatively, it is possible to supply the four seeds manually with arguments `seed`, `seed_1`, `seed_2` and `seed_3`. \n",
    "\n",
    "If the xxhash with (random) seed(s) is not deemed sufficiently secure, it is possible to use your own hashing algorithm.\n",
    "\n",
    "Note that since we're now running python code and not native Polars code anymore, this will be _significantly_ slower. Nonetheless, it is possible.\n",
    "\n",
    "Just as an example - this is how one would use sha3_256:"
   ]
  },
  {
   "cell_type": "code",
   "execution_count": 14,
   "metadata": {
    "execution": {
     "iopub.execute_input": "2023-10-02T08:13:36.437451Z",
     "iopub.status.busy": "2023-10-02T08:13:36.437094Z",
     "iopub.status.idle": "2023-10-02T08:13:36.820538Z",
     "shell.execute_reply": "2023-10-02T08:13:36.819803Z"
    },
    "nbsphinx": "hidden"
   },
   "outputs": [
    {
     "ename": "ComputeError",
     "evalue": "AttributeError: 'int' object has no attribute 'encode'",
     "output_type": "error",
     "traceback": [
      "\u001b[0;31m---------------------------------------------------------------------------\u001b[0m",
      "\u001b[0;31mComputeError\u001b[0m                              Traceback (most recent call last)",
      "Cell \u001b[0;32mIn[14], line 3\u001b[0m\n\u001b[1;32m      1\u001b[0m \u001b[38;5;28;01mfrom\u001b[39;00m \u001b[38;5;21;01mhashlib\u001b[39;00m \u001b[38;5;28;01mimport\u001b[39;00m sha3_256\n\u001b[0;32m----> 3\u001b[0m \u001b[43manon\u001b[49m\u001b[38;5;241;43m.\u001b[39;49m\u001b[43mprocess\u001b[49m\u001b[43m(\u001b[49m\u001b[43malgorithm\u001b[49m\u001b[38;5;241;43m=\u001b[39;49m\u001b[38;5;28;43;01mlambda\u001b[39;49;00m\u001b[43m \u001b[49m\u001b[43mx\u001b[49m\u001b[43m:\u001b[49m\u001b[43m \u001b[49m\u001b[43msha3_256\u001b[49m\u001b[43m(\u001b[49m\u001b[43mx\u001b[49m\u001b[38;5;241;43m.\u001b[39;49m\u001b[43mencode\u001b[49m\u001b[43m(\u001b[49m\u001b[43m)\u001b[49m\u001b[43m)\u001b[49m\u001b[38;5;241;43m.\u001b[39;49m\u001b[43mhexdigest\u001b[49m\u001b[43m(\u001b[49m\u001b[43m)\u001b[49m\u001b[43m)\u001b[49m\n",
      "File \u001b[0;32m~/work/pega-datascientist-tools/pega-datascientist-tools/python/docs/source/articles/../../../pdstools/utils/hds_utils.py:516\u001b[0m, in \u001b[0;36mDataAnonymization.process\u001b[0;34m(self, strategy, **kwargs)\u001b[0m\n\u001b[1;32m    514\u001b[0m df \u001b[38;5;241m=\u001b[39m df\u001b[38;5;241m.\u001b[39mselect(\u001b[38;5;28mself\u001b[39m\u001b[38;5;241m.\u001b[39mcolumn_mapping\u001b[38;5;241m.\u001b[39mkeys())\u001b[38;5;241m.\u001b[39mrename(\u001b[38;5;28mself\u001b[39m\u001b[38;5;241m.\u001b[39mcolumn_mapping)\n\u001b[1;32m    515\u001b[0m \u001b[38;5;28;01mif\u001b[39;00m strategy \u001b[38;5;241m==\u001b[39m \u001b[38;5;124m\"\u001b[39m\u001b[38;5;124meager\u001b[39m\u001b[38;5;124m\"\u001b[39m:\n\u001b[0;32m--> 516\u001b[0m     \u001b[38;5;28;01mreturn\u001b[39;00m \u001b[43mdf\u001b[49m\u001b[38;5;241;43m.\u001b[39;49m\u001b[43mcollect\u001b[49m\u001b[43m(\u001b[49m\u001b[43m)\u001b[49m\n\u001b[1;32m    517\u001b[0m \u001b[38;5;28;01mreturn\u001b[39;00m df\n",
      "File \u001b[0;32m/opt/hostedtoolcache/Python/3.11.5/x64/lib/python3.11/site-packages/polars/utils/deprecation.py:95\u001b[0m, in \u001b[0;36mdeprecate_renamed_parameter.<locals>.decorate.<locals>.wrapper\u001b[0;34m(*args, **kwargs)\u001b[0m\n\u001b[1;32m     90\u001b[0m \u001b[38;5;129m@wraps\u001b[39m(function)\n\u001b[1;32m     91\u001b[0m \u001b[38;5;28;01mdef\u001b[39;00m \u001b[38;5;21mwrapper\u001b[39m(\u001b[38;5;241m*\u001b[39margs: P\u001b[38;5;241m.\u001b[39margs, \u001b[38;5;241m*\u001b[39m\u001b[38;5;241m*\u001b[39mkwargs: P\u001b[38;5;241m.\u001b[39mkwargs) \u001b[38;5;241m-\u001b[39m\u001b[38;5;241m>\u001b[39m T:\n\u001b[1;32m     92\u001b[0m     _rename_keyword_argument(\n\u001b[1;32m     93\u001b[0m         old_name, new_name, kwargs, function\u001b[38;5;241m.\u001b[39m\u001b[38;5;18m__name__\u001b[39m, version\n\u001b[1;32m     94\u001b[0m     )\n\u001b[0;32m---> 95\u001b[0m     \u001b[38;5;28;01mreturn\u001b[39;00m \u001b[43mfunction\u001b[49m\u001b[43m(\u001b[49m\u001b[38;5;241;43m*\u001b[39;49m\u001b[43margs\u001b[49m\u001b[43m,\u001b[49m\u001b[43m \u001b[49m\u001b[38;5;241;43m*\u001b[39;49m\u001b[38;5;241;43m*\u001b[39;49m\u001b[43mkwargs\u001b[49m\u001b[43m)\u001b[49m\n",
      "File \u001b[0;32m/opt/hostedtoolcache/Python/3.11.5/x64/lib/python3.11/site-packages/polars/lazyframe/frame.py:1711\u001b[0m, in \u001b[0;36mLazyFrame.collect\u001b[0;34m(self, type_coercion, predicate_pushdown, projection_pushdown, simplify_expression, no_optimization, slice_pushdown, comm_subplan_elim, comm_subexpr_elim, streaming, **kwargs)\u001b[0m\n\u001b[1;32m   1698\u001b[0m     comm_subplan_elim \u001b[38;5;241m=\u001b[39m \u001b[38;5;28;01mFalse\u001b[39;00m\n\u001b[1;32m   1700\u001b[0m ldf \u001b[38;5;241m=\u001b[39m \u001b[38;5;28mself\u001b[39m\u001b[38;5;241m.\u001b[39m_ldf\u001b[38;5;241m.\u001b[39moptimization_toggle(\n\u001b[1;32m   1701\u001b[0m     type_coercion,\n\u001b[1;32m   1702\u001b[0m     predicate_pushdown,\n\u001b[0;32m   (...)\u001b[0m\n\u001b[1;32m   1709\u001b[0m     eager,\n\u001b[1;32m   1710\u001b[0m )\n\u001b[0;32m-> 1711\u001b[0m \u001b[38;5;28;01mreturn\u001b[39;00m wrap_df(ldf\u001b[38;5;241m.\u001b[39mcollect())\n",
      "\u001b[0;31mComputeError\u001b[0m: AttributeError: 'int' object has no attribute 'encode'"
     ]
    }
   ],
   "source": [
    "from hashlib import sha3_256\n",
    "\n",
    "anon.process(algorithm=lambda x: sha3_256(x.encode()).hexdigest())"
   ]
  }
 ],
 "metadata": {
  "kernelspec": {
   "display_name": "Python 3",
   "language": "python",
   "name": "python3"
  },
  "language_info": {
   "codemirror_mode": {
    "name": "ipython",
    "version": 3
   },
   "file_extension": ".py",
   "mimetype": "text/x-python",
   "name": "python",
   "nbconvert_exporter": "python",
   "pygments_lexer": "ipython3",
   "version": "3.11.5"
  },
  "vscode": {
   "interpreter": {
    "hash": "aee8b7b246df8f9039afb4144a1f6fd8d2ca17a180786b69acc140d282b71a49"
   }
  }
 },
 "nbformat": 4,
 "nbformat_minor": 2
}
