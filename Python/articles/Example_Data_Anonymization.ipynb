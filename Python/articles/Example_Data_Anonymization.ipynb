{
 "cells": [
  {
   "attachments": {},
   "cell_type": "markdown",
   "metadata": {},
   "source": [
    "# Example data anonymization\n",
    "\n",
    "In Pega CDH 8.5 and up, it's now possible to record the historical data as seen by the Adaptive Models. See [this academy challenge](https://academy.pega.com/challenge/exporting-historical-data/v4) for reference. This historical data can be further used to experiment with offline models, but also to fine-tune the OOTB Gradient Boosting model. However, sharing this information with Pega can be sensitive as it contains raw predictor data. \n",
    "\n",
    "To this end, we provide a simple and transparent script to fully anonimize this dataset.\n",
    "\n",
    "The DataAnonymization script is now part of pdstools, and you can import it directly as such."
   ]
  },
  {
   "cell_type": "code",
   "execution_count": 1,
   "metadata": {
    "execution": {
     "iopub.execute_input": "2023-11-22T14:55:47.909322Z",
     "iopub.status.busy": "2023-11-22T14:55:47.909144Z",
     "iopub.status.idle": "2023-11-22T14:55:47.976806Z",
     "shell.execute_reply": "2023-11-22T14:55:47.976229Z"
    },
    "nbsphinx": "hidden"
   },
   "outputs": [],
   "source": [
    "# These lines are only for rendering in the docs, and are hidden through Jupyter tags\n",
    "# Do not run if you're running the notebook seperately\n",
    "\n",
    "import os  \n",
    "import sys\n",
    "import plotly.io as pio\n",
    "pio.renderers.default = \"notebook_connected\"\n",
    "\n",
    "sys.path.append(\"../../../\")\n",
    "sys.path.append('../../python')"
   ]
  },
  {
   "cell_type": "code",
   "execution_count": 2,
   "metadata": {
    "execution": {
     "iopub.execute_input": "2023-11-22T14:55:47.979113Z",
     "iopub.status.busy": "2023-11-22T14:55:47.978902Z",
     "iopub.status.idle": "2023-11-22T14:55:48.990888Z",
     "shell.execute_reply": "2023-11-22T14:55:48.990384Z"
    }
   },
   "outputs": [],
   "source": [
    "from pdstools import ADMDatamart\n",
    "from pdstools import Config, DataAnonymization\n",
    "import polars as pl"
   ]
  },
  {
   "attachments": {},
   "cell_type": "markdown",
   "metadata": {},
   "source": [
    "## Input data\n",
    "\n",
    "To demonstrate this process, we're going to anonymise this toy example dataframe:"
   ]
  },
  {
   "cell_type": "code",
   "execution_count": 3,
   "metadata": {
    "execution": {
     "iopub.execute_input": "2023-11-22T14:55:48.993523Z",
     "iopub.status.busy": "2023-11-22T14:55:48.992985Z",
     "iopub.status.idle": "2023-11-22T14:55:49.001996Z",
     "shell.execute_reply": "2023-11-22T14:55:49.001394Z"
    }
   },
   "outputs": [
    {
     "data": {
      "text/html": [
       "<div><style>\n",
       ".dataframe > thead > tr > th,\n",
       ".dataframe > tbody > tr > td {\n",
       "  text-align: right;\n",
       "  white-space: pre-wrap;\n",
       "}\n",
       "</style>\n",
       "<small>shape: (7, 6)</small><table border=\"1\" class=\"dataframe\"><thead><tr><th>Context_Name</th><th>Customer_MaritalStatus</th><th>Customer_CLV</th><th>Customer_City</th><th>IH_Web_Inbound_Accepted_pxLastGroupID</th><th>Decision_Outcome</th></tr><tr><td>str</td><td>str</td><td>i64</td><td>str</td><td>str</td><td>str</td></tr></thead><tbody><tr><td>&quot;FirstMortgage3…</td><td>&quot;Married&quot;</td><td>1460</td><td>&quot;Port Raoul&quot;</td><td>&quot;Account&quot;</td><td>&quot;Rejected&quot;</td></tr><tr><td>&quot;FirstMortgage3…</td><td>&quot;Unknown&quot;</td><td>669</td><td>&quot;Laurianneshire…</td><td>&quot;AutoLoans&quot;</td><td>&quot;Accepted&quot;</td></tr><tr><td>&quot;MoneyMarketSav…</td><td>&quot;No Resp+&quot;</td><td>1174</td><td>&quot;Jacobshaven&quot;</td><td>&quot;Account&quot;</td><td>&quot;Rejected&quot;</td></tr><tr><td>&quot;BasicChecking&quot;</td><td>&quot;Unknown&quot;</td><td>1476</td><td>&quot;Lindton&quot;</td><td>&quot;Account&quot;</td><td>&quot;Rejected&quot;</td></tr><tr><td>&quot;BasicChecking&quot;</td><td>&quot;Married&quot;</td><td>1211</td><td>&quot;South Jimmiesh…</td><td>&quot;DepositAccount…</td><td>&quot;Accepted&quot;</td></tr><tr><td>&quot;UPlusFinPerson…</td><td>&quot;No Resp+&quot;</td><td>533</td><td>&quot;Bergeville&quot;</td><td>null</td><td>&quot;Rejected&quot;</td></tr><tr><td>&quot;BasicChecking&quot;</td><td>&quot;No Resp+&quot;</td><td>555</td><td>&quot;Willyville&quot;</td><td>&quot;DepositAccount…</td><td>&quot;Rejected&quot;</td></tr></tbody></table></div>"
      ],
      "text/plain": [
       "shape: (7, 6)\n",
       "┌────────────────┬────────────────┬──────────────┬────────────────┬────────────────┬───────────────┐\n",
       "│ Context_Name   ┆ Customer_Marit ┆ Customer_CLV ┆ Customer_City  ┆ IH_Web_Inbound ┆ Decision_Outc │\n",
       "│ ---            ┆ alStatus       ┆ ---          ┆ ---            ┆ _Accepted_pxLa ┆ ome           │\n",
       "│ str            ┆ ---            ┆ i64          ┆ str            ┆ stGr…          ┆ ---           │\n",
       "│                ┆ str            ┆              ┆                ┆ ---            ┆ str           │\n",
       "│                ┆                ┆              ┆                ┆ str            ┆               │\n",
       "╞════════════════╪════════════════╪══════════════╪════════════════╪════════════════╪═══════════════╡\n",
       "│ FirstMortgage3 ┆ Married        ┆ 1460         ┆ Port Raoul     ┆ Account        ┆ Rejected      │\n",
       "│ 0yr            ┆                ┆              ┆                ┆                ┆               │\n",
       "│ FirstMortgage3 ┆ Unknown        ┆ 669          ┆ Laurianneshire ┆ AutoLoans      ┆ Accepted      │\n",
       "│ 0yr            ┆                ┆              ┆                ┆                ┆               │\n",
       "│ MoneyMarketSav ┆ No Resp+       ┆ 1174         ┆ Jacobshaven    ┆ Account        ┆ Rejected      │\n",
       "│ ingsAccount    ┆                ┆              ┆                ┆                ┆               │\n",
       "│ BasicChecking  ┆ Unknown        ┆ 1476         ┆ Lindton        ┆ Account        ┆ Rejected      │\n",
       "│ BasicChecking  ┆ Married        ┆ 1211         ┆ South          ┆ DepositAccount ┆ Accepted      │\n",
       "│                ┆                ┆              ┆ Jimmieshire    ┆ s              ┆               │\n",
       "│ UPlusFinPerson ┆ No Resp+       ┆ 533          ┆ Bergeville     ┆ null           ┆ Rejected      │\n",
       "│ al             ┆                ┆              ┆                ┆                ┆               │\n",
       "│ BasicChecking  ┆ No Resp+       ┆ 555          ┆ Willyville     ┆ DepositAccount ┆ Rejected      │\n",
       "│                ┆                ┆              ┆                ┆ s              ┆               │\n",
       "└────────────────┴────────────────┴──────────────┴────────────────┴────────────────┴───────────────┘"
      ]
     },
     "execution_count": 3,
     "metadata": {},
     "output_type": "execute_result"
    }
   ],
   "source": [
    "pl.read_ndjson('../../../../data/SampleHDS.json')"
   ]
  },
  {
   "attachments": {},
   "cell_type": "markdown",
   "metadata": {},
   "source": [
    "As you can see, this dataset consists of regular predictors, IH predictors, context keys and the outcome column. Additionally, some columns are numeric, others are strings. Let's first initialize the DataAnonymization class."
   ]
  },
  {
   "cell_type": "code",
   "execution_count": 4,
   "metadata": {
    "execution": {
     "iopub.execute_input": "2023-11-22T14:55:49.004160Z",
     "iopub.status.busy": "2023-11-22T14:55:49.003810Z",
     "iopub.status.idle": "2023-11-22T14:55:49.012932Z",
     "shell.execute_reply": "2023-11-22T14:55:49.012372Z"
    }
   },
   "outputs": [],
   "source": [
    "anon = DataAnonymization(hds_folder='../../../../data/')"
   ]
  },
  {
   "attachments": {},
   "cell_type": "markdown",
   "metadata": {},
   "source": [
    "By default, the class applies a set of anonymisation techniques:\n",
    "- Column names are remapped to a non-descriptive name\n",
    "- Categorical values are hashed with a random seed\n",
    "- Numerical values are normalized between 0 and 1\n",
    "- Outcomes are mapped to a binary outcome.\n",
    "\n",
    "To apply these techniques, simply call `.process()`:"
   ]
  },
  {
   "cell_type": "code",
   "execution_count": 5,
   "metadata": {
    "execution": {
     "iopub.execute_input": "2023-11-22T14:55:49.015534Z",
     "iopub.status.busy": "2023-11-22T14:55:49.015206Z",
     "iopub.status.idle": "2023-11-22T14:55:49.021279Z",
     "shell.execute_reply": "2023-11-22T14:55:49.020762Z"
    }
   },
   "outputs": [
    {
     "data": {
      "text/html": [
       "<div><style>\n",
       ".dataframe > thead > tr > th,\n",
       ".dataframe > tbody > tr > td {\n",
       "  text-align: right;\n",
       "  white-space: pre-wrap;\n",
       "}\n",
       "</style>\n",
       "<small>shape: (7, 7)</small><table border=\"1\" class=\"dataframe\"><thead><tr><th>PREDICTOR_0</th><th>filename</th><th>PREDICTOR_2</th><th>PREDICTOR_3</th><th>Context_Name</th><th>IH_PREDICTOR_0</th><th>Decision_Outcome</th></tr><tr><td>f64</td><td>str</td><td>str</td><td>str</td><td>str</td><td>str</td><td>bool</td></tr></thead><tbody><tr><td>1.2927e19</td><td>&quot;../../../../da…</td><td>&quot;10727426233356…</td><td>&quot;19827706664672…</td><td>&quot;70215499258474…</td><td>&quot;77158594327606…</td><td>false</td></tr><tr><td>1.4856e19</td><td>&quot;../../../../da…</td><td>&quot;16189188749321…</td><td>&quot;16477506493013…</td><td>&quot;70215499258474…</td><td>&quot;13903935423131…</td><td>true</td></tr><tr><td>5.6458e17</td><td>&quot;../../../../da…</td><td>&quot;15780810512524…</td><td>&quot;82662990409455…</td><td>&quot;18611825150735…</td><td>&quot;77158594327606…</td><td>false</td></tr><tr><td>4.0723e18</td><td>&quot;../../../../da…</td><td>&quot;16189188749321…</td><td>&quot;15395893331721…</td><td>&quot;15344984046735…</td><td>&quot;77158594327606…</td><td>false</td></tr><tr><td>1.4677e19</td><td>&quot;../../../../da…</td><td>&quot;10727426233356…</td><td>&quot;45868147790892…</td><td>&quot;15344984046735…</td><td>&quot;17910331925401…</td><td>true</td></tr><tr><td>1.6330e19</td><td>&quot;../../../../da…</td><td>&quot;15780810512524…</td><td>&quot;68428554856256…</td><td>&quot;98838480582218…</td><td>null</td><td>false</td></tr><tr><td>8.7675e18</td><td>&quot;../../../../da…</td><td>&quot;15780810512524…</td><td>&quot;73294535464203…</td><td>&quot;15344984046735…</td><td>&quot;17910331925401…</td><td>false</td></tr></tbody></table></div>"
      ],
      "text/plain": [
       "shape: (7, 7)\n",
       "┌─────────────┬──────────────┬─────────────┬─────────────┬─────────────┬─────────────┬─────────────┐\n",
       "│ PREDICTOR_0 ┆ filename     ┆ PREDICTOR_2 ┆ PREDICTOR_3 ┆ Context_Nam ┆ IH_PREDICTO ┆ Decision_Ou │\n",
       "│ ---         ┆ ---          ┆ ---         ┆ ---         ┆ e           ┆ R_0         ┆ tcome       │\n",
       "│ f64         ┆ str          ┆ str         ┆ str         ┆ ---         ┆ ---         ┆ ---         │\n",
       "│             ┆              ┆             ┆             ┆ str         ┆ str         ┆ bool        │\n",
       "╞═════════════╪══════════════╪═════════════╪═════════════╪═════════════╪═════════════╪═════════════╡\n",
       "│ 1.2927e19   ┆ ../../../../ ┆ 10727426233 ┆ 19827706664 ┆ 70215499258 ┆ 77158594327 ┆ false       │\n",
       "│             ┆ data/SampleH ┆ 356111904   ┆ 67216147    ┆ 47425468    ┆ 60657991    ┆             │\n",
       "│             ┆ DS.json      ┆             ┆             ┆             ┆             ┆             │\n",
       "│ 1.4856e19   ┆ ../../../../ ┆ 16189188749 ┆ 16477506493 ┆ 70215499258 ┆ 13903935423 ┆ true        │\n",
       "│             ┆ data/SampleH ┆ 321496138   ┆ 013549979   ┆ 47425468    ┆ 13199381    ┆             │\n",
       "│             ┆ DS.json      ┆             ┆             ┆             ┆             ┆             │\n",
       "│ 5.6458e17   ┆ ../../../../ ┆ 15780810512 ┆ 82662990409 ┆ 18611825150 ┆ 77158594327 ┆ false       │\n",
       "│             ┆ data/SampleH ┆ 524885661   ┆ 45586077    ┆ 73503157    ┆ 60657991    ┆             │\n",
       "│             ┆ DS.json      ┆             ┆             ┆             ┆             ┆             │\n",
       "│ 4.0723e18   ┆ ../../../../ ┆ 16189188749 ┆ 15395893331 ┆ 15344984046 ┆ 77158594327 ┆ false       │\n",
       "│             ┆ data/SampleH ┆ 321496138   ┆ 721311733   ┆ 735891486   ┆ 60657991    ┆             │\n",
       "│             ┆ DS.json      ┆             ┆             ┆             ┆             ┆             │\n",
       "│ 1.4677e19   ┆ ../../../../ ┆ 10727426233 ┆ 45868147790 ┆ 15344984046 ┆ 17910331925 ┆ true        │\n",
       "│             ┆ data/SampleH ┆ 356111904   ┆ 89258093    ┆ 735891486   ┆ 4016896     ┆             │\n",
       "│             ┆ DS.json      ┆             ┆             ┆             ┆             ┆             │\n",
       "│ 1.6330e19   ┆ ../../../../ ┆ 15780810512 ┆ 68428554856 ┆ 98838480582 ┆ null        ┆ false       │\n",
       "│             ┆ data/SampleH ┆ 524885661   ┆ 25606053    ┆ 2189954     ┆             ┆             │\n",
       "│             ┆ DS.json      ┆             ┆             ┆             ┆             ┆             │\n",
       "│ 8.7675e18   ┆ ../../../../ ┆ 15780810512 ┆ 73294535464 ┆ 15344984046 ┆ 17910331925 ┆ false       │\n",
       "│             ┆ data/SampleH ┆ 524885661   ┆ 20377395    ┆ 735891486   ┆ 4016896     ┆             │\n",
       "│             ┆ DS.json      ┆             ┆             ┆             ┆             ┆             │\n",
       "└─────────────┴──────────────┴─────────────┴─────────────┴─────────────┴─────────────┴─────────────┘"
      ]
     },
     "execution_count": 5,
     "metadata": {},
     "output_type": "execute_result"
    }
   ],
   "source": [
    "anon.process()"
   ]
  },
  {
   "attachments": {},
   "cell_type": "markdown",
   "metadata": {},
   "source": [
    "To trace back the columns to their original names, the class also contains a mapping, which does not have to be provided."
   ]
  },
  {
   "cell_type": "code",
   "execution_count": 6,
   "metadata": {
    "execution": {
     "iopub.execute_input": "2023-11-22T14:55:49.023506Z",
     "iopub.status.busy": "2023-11-22T14:55:49.023200Z",
     "iopub.status.idle": "2023-11-22T14:55:49.027105Z",
     "shell.execute_reply": "2023-11-22T14:55:49.026651Z"
    }
   },
   "outputs": [
    {
     "data": {
      "text/plain": [
       "{'Customer_CLV': 'PREDICTOR_0',\n",
       " 'filename': 'filename',\n",
       " 'Customer_MaritalStatus': 'PREDICTOR_2',\n",
       " 'Customer_City': 'PREDICTOR_3',\n",
       " 'Context_Name': 'Context_Name',\n",
       " 'IH_Web_Inbound_Accepted_pxLastGroupID': 'IH_PREDICTOR_0',\n",
       " 'Decision_Outcome': 'Decision_Outcome'}"
      ]
     },
     "execution_count": 6,
     "metadata": {},
     "output_type": "execute_result"
    }
   ],
   "source": [
    "anon.column_mapping"
   ]
  },
  {
   "attachments": {},
   "cell_type": "markdown",
   "metadata": {},
   "source": [
    "## Configs\n",
    "\n",
    "Each capability can optionally be turned off - see below for the full list of config options, and refer to the API reference for the full description."
   ]
  },
  {
   "cell_type": "code",
   "execution_count": 7,
   "metadata": {
    "execution": {
     "iopub.execute_input": "2023-11-22T14:55:49.029174Z",
     "iopub.status.busy": "2023-11-22T14:55:49.028849Z",
     "iopub.status.idle": "2023-11-22T14:55:49.032857Z",
     "shell.execute_reply": "2023-11-22T14:55:49.032342Z"
    }
   },
   "outputs": [
    {
     "data": {
      "text/plain": [
       "{'config_file': None,\n",
       " 'hds_folder': '.',\n",
       " 'use_datamart': False,\n",
       " 'datamart_folder': 'datamart',\n",
       " 'output_format': 'ndjson',\n",
       " 'output_folder': 'output',\n",
       " 'mapping_file': 'mapping.map',\n",
       " 'mask_predictor_names': True,\n",
       " 'mask_context_key_names': False,\n",
       " 'mask_ih_names': True,\n",
       " 'mask_outcome_name': False,\n",
       " 'mask_predictor_values': True,\n",
       " 'mask_context_key_values': True,\n",
       " 'mask_ih_values': True,\n",
       " 'mask_outcome_values': True,\n",
       " 'context_key_label': 'Context_*',\n",
       " 'ih_label': 'IH_*',\n",
       " 'outcome_column': 'Decision_Outcome',\n",
       " 'positive_outcomes': ['Accepted', 'Clicked'],\n",
       " 'negative_outcomes': ['Rejected', 'Impression'],\n",
       " 'special_predictors': ['Decision_DecisionTime',\n",
       "  'Decision_OutcomeTime',\n",
       "  'Decision_Rank'],\n",
       " 'sample_percentage_schema_inferencing': 0.01}"
      ]
     },
     "execution_count": 7,
     "metadata": {},
     "output_type": "execute_result"
    }
   ],
   "source": [
    "dict(zip(Config.__init__.__code__.co_varnames[1:], Config.__init__.__defaults__))"
   ]
  },
  {
   "attachments": {},
   "cell_type": "markdown",
   "metadata": {},
   "source": [
    "It's easy to change these parameters by just passing the keyword arguments. In the following example, we\n",
    "- Keep the IH predictor names\n",
    "- Keep the outcome values\n",
    "- Keep the context key values\n",
    "- Keep the context key predictor names"
   ]
  },
  {
   "cell_type": "code",
   "execution_count": 8,
   "metadata": {
    "execution": {
     "iopub.execute_input": "2023-11-22T14:55:49.034929Z",
     "iopub.status.busy": "2023-11-22T14:55:49.034493Z",
     "iopub.status.idle": "2023-11-22T14:55:49.045834Z",
     "shell.execute_reply": "2023-11-22T14:55:49.045343Z"
    }
   },
   "outputs": [
    {
     "data": {
      "text/html": [
       "<div><style>\n",
       ".dataframe > thead > tr > th,\n",
       ".dataframe > tbody > tr > td {\n",
       "  text-align: right;\n",
       "  white-space: pre-wrap;\n",
       "}\n",
       "</style>\n",
       "<small>shape: (7, 7)</small><table border=\"1\" class=\"dataframe\"><thead><tr><th>PREDICTOR_0</th><th>filename</th><th>PREDICTOR_2</th><th>PREDICTOR_3</th><th>Context_Name</th><th>IH_Web_Inbound_Accepted_pxLastGroupID</th><th>Decision_Outcome</th></tr><tr><td>f64</td><td>str</td><td>str</td><td>str</td><td>str</td><td>str</td><td>str</td></tr></thead><tbody><tr><td>1.2927e19</td><td>&quot;../../../../da…</td><td>&quot;36124973607757…</td><td>&quot;72711084108268…</td><td>&quot;FirstMortgage3…</td><td>&quot;14535683641559…</td><td>&quot;Rejected&quot;</td></tr><tr><td>1.4856e19</td><td>&quot;../../../../da…</td><td>&quot;58910999596412…</td><td>&quot;97325876408744…</td><td>&quot;FirstMortgage3…</td><td>&quot;20517984913660…</td><td>&quot;Accepted&quot;</td></tr><tr><td>5.6458e17</td><td>&quot;../../../../da…</td><td>&quot;17406318975975…</td><td>&quot;10404237830653…</td><td>&quot;MoneyMarketSav…</td><td>&quot;14535683641559…</td><td>&quot;Rejected&quot;</td></tr><tr><td>4.0723e18</td><td>&quot;../../../../da…</td><td>&quot;58910999596412…</td><td>&quot;17182115159055…</td><td>&quot;BasicChecking&quot;</td><td>&quot;14535683641559…</td><td>&quot;Rejected&quot;</td></tr><tr><td>1.4677e19</td><td>&quot;../../../../da…</td><td>&quot;36124973607757…</td><td>&quot;15523002767425…</td><td>&quot;BasicChecking&quot;</td><td>&quot;35252292059928…</td><td>&quot;Accepted&quot;</td></tr><tr><td>1.6330e19</td><td>&quot;../../../../da…</td><td>&quot;17406318975975…</td><td>&quot;69593937093040…</td><td>&quot;UPlusFinPerson…</td><td>null</td><td>&quot;Rejected&quot;</td></tr><tr><td>8.7675e18</td><td>&quot;../../../../da…</td><td>&quot;17406318975975…</td><td>&quot;15882842710381…</td><td>&quot;BasicChecking&quot;</td><td>&quot;35252292059928…</td><td>&quot;Rejected&quot;</td></tr></tbody></table></div>"
      ],
      "text/plain": [
       "shape: (7, 7)\n",
       "┌─────────────┬──────────────┬─────────────┬─────────────┬─────────────┬─────────────┬─────────────┐\n",
       "│ PREDICTOR_0 ┆ filename     ┆ PREDICTOR_2 ┆ PREDICTOR_3 ┆ Context_Nam ┆ IH_Web_Inbo ┆ Decision_Ou │\n",
       "│ ---         ┆ ---          ┆ ---         ┆ ---         ┆ e           ┆ und_Accepte ┆ tcome       │\n",
       "│ f64         ┆ str          ┆ str         ┆ str         ┆ ---         ┆ d_pxLastGr… ┆ ---         │\n",
       "│             ┆              ┆             ┆             ┆ str         ┆ ---         ┆ str         │\n",
       "│             ┆              ┆             ┆             ┆             ┆ str         ┆             │\n",
       "╞═════════════╪══════════════╪═════════════╪═════════════╪═════════════╪═════════════╪═════════════╡\n",
       "│ 1.2927e19   ┆ ../../../../ ┆ 36124973607 ┆ 72711084108 ┆ FirstMortga ┆ 14535683641 ┆ Rejected    │\n",
       "│             ┆ data/SampleH ┆ 75706583    ┆ 26868495    ┆ ge30yr      ┆ 559855680   ┆             │\n",
       "│             ┆ DS.json      ┆             ┆             ┆             ┆             ┆             │\n",
       "│ 1.4856e19   ┆ ../../../../ ┆ 58910999596 ┆ 97325876408 ┆ FirstMortga ┆ 20517984913 ┆ Accepted    │\n",
       "│             ┆ data/SampleH ┆ 41261509    ┆ 74485060    ┆ ge30yr      ┆ 660947      ┆             │\n",
       "│             ┆ DS.json      ┆             ┆             ┆             ┆             ┆             │\n",
       "│ 5.6458e17   ┆ ../../../../ ┆ 17406318975 ┆ 10404237830 ┆ MoneyMarket ┆ 14535683641 ┆ Rejected    │\n",
       "│             ┆ data/SampleH ┆ 975194111   ┆ 653272588   ┆ SavingsAcco ┆ 559855680   ┆             │\n",
       "│             ┆ DS.json      ┆             ┆             ┆ unt         ┆             ┆             │\n",
       "│ 4.0723e18   ┆ ../../../../ ┆ 58910999596 ┆ 17182115159 ┆ BasicChecki ┆ 14535683641 ┆ Rejected    │\n",
       "│             ┆ data/SampleH ┆ 41261509    ┆ 055142917   ┆ ng          ┆ 559855680   ┆             │\n",
       "│             ┆ DS.json      ┆             ┆             ┆             ┆             ┆             │\n",
       "│ 1.4677e19   ┆ ../../../../ ┆ 36124973607 ┆ 15523002767 ┆ BasicChecki ┆ 35252292059 ┆ Accepted    │\n",
       "│             ┆ data/SampleH ┆ 75706583    ┆ 425824135   ┆ ng          ┆ 92808336    ┆             │\n",
       "│             ┆ DS.json      ┆             ┆             ┆             ┆             ┆             │\n",
       "│ 1.6330e19   ┆ ../../../../ ┆ 17406318975 ┆ 69593937093 ┆ UPlusFinPer ┆ null        ┆ Rejected    │\n",
       "│             ┆ data/SampleH ┆ 975194111   ┆ 04074143    ┆ sonal       ┆             ┆             │\n",
       "│             ┆ DS.json      ┆             ┆             ┆             ┆             ┆             │\n",
       "│ 8.7675e18   ┆ ../../../../ ┆ 17406318975 ┆ 15882842710 ┆ BasicChecki ┆ 35252292059 ┆ Rejected    │\n",
       "│             ┆ data/SampleH ┆ 975194111   ┆ 381284316   ┆ ng          ┆ 92808336    ┆             │\n",
       "│             ┆ DS.json      ┆             ┆             ┆             ┆             ┆             │\n",
       "└─────────────┴──────────────┴─────────────┴─────────────┴─────────────┴─────────────┴─────────────┘"
      ]
     },
     "execution_count": 8,
     "metadata": {},
     "output_type": "execute_result"
    }
   ],
   "source": [
    "anon = DataAnonymization(\n",
    "    hds_folder=\"../../../../data/\",\n",
    "    mask_ih_names=False,\n",
    "    mask_outcome_values=False,\n",
    "    mask_context_key_values=False,\n",
    "    mask_context_key_names=False,\n",
    ")\n",
    "anon.process()\n"
   ]
  },
  {
   "attachments": {},
   "cell_type": "markdown",
   "metadata": {},
   "source": [
    "The configs can also be written and read as such:"
   ]
  },
  {
   "cell_type": "code",
   "execution_count": 9,
   "metadata": {
    "execution": {
     "iopub.execute_input": "2023-11-22T14:55:49.047757Z",
     "iopub.status.busy": "2023-11-22T14:55:49.047473Z",
     "iopub.status.idle": "2023-11-22T14:55:49.050179Z",
     "shell.execute_reply": "2023-11-22T14:55:49.049722Z"
    }
   },
   "outputs": [],
   "source": [
    "anon.config.save_to_config_file('config.json')"
   ]
  },
  {
   "cell_type": "code",
   "execution_count": 10,
   "metadata": {
    "execution": {
     "iopub.execute_input": "2023-11-22T14:55:49.052025Z",
     "iopub.status.busy": "2023-11-22T14:55:49.051859Z",
     "iopub.status.idle": "2023-11-22T14:55:49.063012Z",
     "shell.execute_reply": "2023-11-22T14:55:49.062545Z"
    }
   },
   "outputs": [
    {
     "data": {
      "text/html": [
       "<div><style>\n",
       ".dataframe > thead > tr > th,\n",
       ".dataframe > tbody > tr > td {\n",
       "  text-align: right;\n",
       "  white-space: pre-wrap;\n",
       "}\n",
       "</style>\n",
       "<small>shape: (7, 7)</small><table border=\"1\" class=\"dataframe\"><thead><tr><th>PREDICTOR_0</th><th>filename</th><th>PREDICTOR_2</th><th>PREDICTOR_3</th><th>Context_Name</th><th>IH_Web_Inbound_Accepted_pxLastGroupID</th><th>Decision_Outcome</th></tr><tr><td>f64</td><td>str</td><td>str</td><td>str</td><td>str</td><td>str</td><td>str</td></tr></thead><tbody><tr><td>1.2927e19</td><td>&quot;../../../../da…</td><td>&quot;17491073916777…</td><td>&quot;41896191566243…</td><td>&quot;FirstMortgage3…</td><td>&quot;14961785151035…</td><td>&quot;Rejected&quot;</td></tr><tr><td>1.4856e19</td><td>&quot;../../../../da…</td><td>&quot;13958276875042…</td><td>&quot;22390569062254…</td><td>&quot;FirstMortgage3…</td><td>&quot;11133130621742…</td><td>&quot;Accepted&quot;</td></tr><tr><td>5.6458e17</td><td>&quot;../../../../da…</td><td>&quot;11110908762850…</td><td>&quot;45198827745695…</td><td>&quot;MoneyMarketSav…</td><td>&quot;14961785151035…</td><td>&quot;Rejected&quot;</td></tr><tr><td>4.0723e18</td><td>&quot;../../../../da…</td><td>&quot;13958276875042…</td><td>&quot;76763848269141…</td><td>&quot;BasicChecking&quot;</td><td>&quot;14961785151035…</td><td>&quot;Rejected&quot;</td></tr><tr><td>1.4677e19</td><td>&quot;../../../../da…</td><td>&quot;17491073916777…</td><td>&quot;78333156419768…</td><td>&quot;BasicChecking&quot;</td><td>&quot;13887624510702…</td><td>&quot;Accepted&quot;</td></tr><tr><td>1.6330e19</td><td>&quot;../../../../da…</td><td>&quot;11110908762850…</td><td>&quot;45473675247257…</td><td>&quot;UPlusFinPerson…</td><td>null</td><td>&quot;Rejected&quot;</td></tr><tr><td>8.7675e18</td><td>&quot;../../../../da…</td><td>&quot;11110908762850…</td><td>&quot;57645686802200…</td><td>&quot;BasicChecking&quot;</td><td>&quot;13887624510702…</td><td>&quot;Rejected&quot;</td></tr></tbody></table></div>"
      ],
      "text/plain": [
       "shape: (7, 7)\n",
       "┌─────────────┬──────────────┬─────────────┬─────────────┬─────────────┬─────────────┬─────────────┐\n",
       "│ PREDICTOR_0 ┆ filename     ┆ PREDICTOR_2 ┆ PREDICTOR_3 ┆ Context_Nam ┆ IH_Web_Inbo ┆ Decision_Ou │\n",
       "│ ---         ┆ ---          ┆ ---         ┆ ---         ┆ e           ┆ und_Accepte ┆ tcome       │\n",
       "│ f64         ┆ str          ┆ str         ┆ str         ┆ ---         ┆ d_pxLastGr… ┆ ---         │\n",
       "│             ┆              ┆             ┆             ┆ str         ┆ ---         ┆ str         │\n",
       "│             ┆              ┆             ┆             ┆             ┆ str         ┆             │\n",
       "╞═════════════╪══════════════╪═════════════╪═════════════╪═════════════╪═════════════╪═════════════╡\n",
       "│ 1.2927e19   ┆ ../../../../ ┆ 17491073916 ┆ 41896191566 ┆ FirstMortga ┆ 14961785151 ┆ Rejected    │\n",
       "│             ┆ data/SampleH ┆ 777947529   ┆ 24335329    ┆ ge30yr      ┆ 0352058     ┆             │\n",
       "│             ┆ DS.json      ┆             ┆             ┆             ┆             ┆             │\n",
       "│ 1.4856e19   ┆ ../../../../ ┆ 13958276875 ┆ 22390569062 ┆ FirstMortga ┆ 11133130621 ┆ Accepted    │\n",
       "│             ┆ data/SampleH ┆ 042296878   ┆ 25468941    ┆ ge30yr      ┆ 742431565   ┆             │\n",
       "│             ┆ DS.json      ┆             ┆             ┆             ┆             ┆             │\n",
       "│ 5.6458e17   ┆ ../../../../ ┆ 11110908762 ┆ 45198827745 ┆ MoneyMarket ┆ 14961785151 ┆ Rejected    │\n",
       "│             ┆ data/SampleH ┆ 85034960    ┆ 69586979    ┆ SavingsAcco ┆ 0352058     ┆             │\n",
       "│             ┆ DS.json      ┆             ┆             ┆ unt         ┆             ┆             │\n",
       "│ 4.0723e18   ┆ ../../../../ ┆ 13958276875 ┆ 76763848269 ┆ BasicChecki ┆ 14961785151 ┆ Rejected    │\n",
       "│             ┆ data/SampleH ┆ 042296878   ┆ 14123833    ┆ ng          ┆ 0352058     ┆             │\n",
       "│             ┆ DS.json      ┆             ┆             ┆             ┆             ┆             │\n",
       "│ 1.4677e19   ┆ ../../../../ ┆ 17491073916 ┆ 78333156419 ┆ BasicChecki ┆ 13887624510 ┆ Accepted    │\n",
       "│             ┆ data/SampleH ┆ 777947529   ┆ 76883998    ┆ ng          ┆ 702925534   ┆             │\n",
       "│             ┆ DS.json      ┆             ┆             ┆             ┆             ┆             │\n",
       "│ 1.6330e19   ┆ ../../../../ ┆ 11110908762 ┆ 45473675247 ┆ UPlusFinPer ┆ null        ┆ Rejected    │\n",
       "│             ┆ data/SampleH ┆ 85034960    ┆ 25725109    ┆ sonal       ┆             ┆             │\n",
       "│             ┆ DS.json      ┆             ┆             ┆             ┆             ┆             │\n",
       "│ 8.7675e18   ┆ ../../../../ ┆ 11110908762 ┆ 57645686802 ┆ BasicChecki ┆ 13887624510 ┆ Rejected    │\n",
       "│             ┆ data/SampleH ┆ 85034960    ┆ 20035098    ┆ ng          ┆ 702925534   ┆             │\n",
       "│             ┆ DS.json      ┆             ┆             ┆             ┆             ┆             │\n",
       "└─────────────┴──────────────┴─────────────┴─────────────┴─────────────┴─────────────┴─────────────┘"
      ]
     },
     "execution_count": 10,
     "metadata": {},
     "output_type": "execute_result"
    }
   ],
   "source": [
    "anon = DataAnonymization(config=Config(config_file='config.json'))\n",
    "anon.process()"
   ]
  },
  {
   "attachments": {},
   "cell_type": "markdown",
   "metadata": {},
   "source": [
    "## Exporting\n",
    "Two functions export:\n",
    "- `create_mapping_file()` writes the mapping file of the predictor names\n",
    "- `write_to_output()` writes the processed dataframe to disk\n",
    "\n",
    "Write to output accepts the following extensions: `[\"ndjson\", \"parquet\", \"arrow\", \"csv\"]`"
   ]
  },
  {
   "cell_type": "code",
   "execution_count": 11,
   "metadata": {
    "execution": {
     "iopub.execute_input": "2023-11-22T14:55:49.064876Z",
     "iopub.status.busy": "2023-11-22T14:55:49.064713Z",
     "iopub.status.idle": "2023-11-22T14:55:49.068118Z",
     "shell.execute_reply": "2023-11-22T14:55:49.067660Z"
    }
   },
   "outputs": [
    {
     "name": "stdout",
     "output_type": "stream",
     "text": [
      "Customer_CLV=PREDICTOR_0\n",
      "filename=filename\n",
      "Customer_MaritalStatus=PREDICTOR_2\n",
      "Customer_City=PREDICTOR_3\n",
      "Context_Name=Context_Name\n",
      "IH_Web_Inbound_Accepted_pxLastGroupID=IH_Web_Inbound_Accepted_pxLastGroupID\n",
      "Decision_Outcome=Decision_Outcome\n",
      "\n"
     ]
    }
   ],
   "source": [
    "anon.create_mapping_file()\n",
    "with open('mapping.map') as f:\n",
    "    print(f.read())"
   ]
  },
  {
   "cell_type": "code",
   "execution_count": 12,
   "metadata": {
    "execution": {
     "iopub.execute_input": "2023-11-22T14:55:49.069940Z",
     "iopub.status.busy": "2023-11-22T14:55:49.069741Z",
     "iopub.status.idle": "2023-11-22T14:55:49.073430Z",
     "shell.execute_reply": "2023-11-22T14:55:49.072874Z"
    }
   },
   "outputs": [],
   "source": [
    "anon.write_to_output(ext='arrow')"
   ]
  },
  {
   "cell_type": "code",
   "execution_count": 13,
   "metadata": {
    "execution": {
     "iopub.execute_input": "2023-11-22T14:55:49.075267Z",
     "iopub.status.busy": "2023-11-22T14:55:49.074983Z",
     "iopub.status.idle": "2023-11-22T14:55:49.079472Z",
     "shell.execute_reply": "2023-11-22T14:55:49.078954Z"
    }
   },
   "outputs": [
    {
     "data": {
      "text/html": [
       "<div><style>\n",
       ".dataframe > thead > tr > th,\n",
       ".dataframe > tbody > tr > td {\n",
       "  text-align: right;\n",
       "  white-space: pre-wrap;\n",
       "}\n",
       "</style>\n",
       "<small>shape: (7, 6)</small><table border=\"1\" class=\"dataframe\"><thead><tr><th>PREDICTOR_0</th><th>PREDICTOR_2</th><th>PREDICTOR_3</th><th>Context_Name</th><th>IH_Web_Inbound_Accepted_pxLastGroupID</th><th>Decision_Outcome</th></tr><tr><td>f64</td><td>str</td><td>str</td><td>str</td><td>str</td><td>str</td></tr></thead><tbody><tr><td>1.2927e19</td><td>&quot;81701425091879…</td><td>&quot;16738698705610…</td><td>&quot;FirstMortgage3…</td><td>&quot;15787035923095…</td><td>&quot;Rejected&quot;</td></tr><tr><td>1.4856e19</td><td>&quot;17916719250824…</td><td>&quot;25888401162888…</td><td>&quot;FirstMortgage3…</td><td>&quot;47095074431422…</td><td>&quot;Accepted&quot;</td></tr><tr><td>5.6458e17</td><td>&quot;46310374144028…</td><td>&quot;64556645052171…</td><td>&quot;MoneyMarketSav…</td><td>&quot;15787035923095…</td><td>&quot;Rejected&quot;</td></tr><tr><td>4.0723e18</td><td>&quot;17916719250824…</td><td>&quot;14486510871865…</td><td>&quot;BasicChecking&quot;</td><td>&quot;15787035923095…</td><td>&quot;Rejected&quot;</td></tr><tr><td>1.4677e19</td><td>&quot;81701425091879…</td><td>&quot;14632552642576…</td><td>&quot;BasicChecking&quot;</td><td>&quot;13531362754299…</td><td>&quot;Accepted&quot;</td></tr><tr><td>1.6330e19</td><td>&quot;46310374144028…</td><td>&quot;55197846333405…</td><td>&quot;UPlusFinPerson…</td><td>null</td><td>&quot;Rejected&quot;</td></tr><tr><td>8.7675e18</td><td>&quot;46310374144028…</td><td>&quot;16018062041125…</td><td>&quot;BasicChecking&quot;</td><td>&quot;13531362754299…</td><td>&quot;Rejected&quot;</td></tr></tbody></table></div>"
      ],
      "text/plain": [
       "shape: (7, 6)\n",
       "┌─────────────┬────────────────┬────────────────┬────────────────┬────────────────┬────────────────┐\n",
       "│ PREDICTOR_0 ┆ PREDICTOR_2    ┆ PREDICTOR_3    ┆ Context_Name   ┆ IH_Web_Inbound ┆ Decision_Outco │\n",
       "│ ---         ┆ ---            ┆ ---            ┆ ---            ┆ _Accepted_pxLa ┆ me             │\n",
       "│ f64         ┆ str            ┆ str            ┆ str            ┆ stGr…          ┆ ---            │\n",
       "│             ┆                ┆                ┆                ┆ ---            ┆ str            │\n",
       "│             ┆                ┆                ┆                ┆ str            ┆                │\n",
       "╞═════════════╪════════════════╪════════════════╪════════════════╪════════════════╪════════════════╡\n",
       "│ 1.2927e19   ┆ 81701425091879 ┆ 16738698705610 ┆ FirstMortgage3 ┆ 15787035923095 ┆ Rejected       │\n",
       "│             ┆ 05885          ┆ 095542         ┆ 0yr            ┆ 005517         ┆                │\n",
       "│ 1.4856e19   ┆ 17916719250824 ┆ 25888401162888 ┆ FirstMortgage3 ┆ 47095074431422 ┆ Accepted       │\n",
       "│             ┆ 923738         ┆ 7091           ┆ 0yr            ┆ 16125          ┆                │\n",
       "│ 5.6458e17   ┆ 46310374144028 ┆ 64556645052171 ┆ MoneyMarketSav ┆ 15787035923095 ┆ Rejected       │\n",
       "│             ┆ 08736          ┆ 7983           ┆ ingsAccount    ┆ 005517         ┆                │\n",
       "│ 4.0723e18   ┆ 17916719250824 ┆ 14486510871865 ┆ BasicChecking  ┆ 15787035923095 ┆ Rejected       │\n",
       "│             ┆ 923738         ┆ 97708          ┆                ┆ 005517         ┆                │\n",
       "│ 1.4677e19   ┆ 81701425091879 ┆ 14632552642576 ┆ BasicChecking  ┆ 13531362754299 ┆ Accepted       │\n",
       "│             ┆ 05885          ┆ 442825         ┆                ┆ 7684           ┆                │\n",
       "│ 1.6330e19   ┆ 46310374144028 ┆ 55197846333405 ┆ UPlusFinPerson ┆ null           ┆ Rejected       │\n",
       "│             ┆ 08736          ┆ 32126          ┆ al             ┆                ┆                │\n",
       "│ 8.7675e18   ┆ 46310374144028 ┆ 16018062041125 ┆ BasicChecking  ┆ 13531362754299 ┆ Rejected       │\n",
       "│             ┆ 08736          ┆ 285907         ┆                ┆ 7684           ┆                │\n",
       "└─────────────┴────────────────┴────────────────┴────────────────┴────────────────┴────────────────┘"
      ]
     },
     "execution_count": 13,
     "metadata": {},
     "output_type": "execute_result"
    }
   ],
   "source": [
    "pl.read_ipc('output/hds.arrow')"
   ]
  },
  {
   "attachments": {},
   "cell_type": "markdown",
   "metadata": {
    "nbsphinx": "hidden"
   },
   "source": [
    "## Advanced: Hash fuctions\n",
    "\n",
    "By default, we use [the same hashing algorithm Polars](https://pola-rs.github.io/polars/py-polars/html/reference/expressions/api/polars.Expr.hash.html#polars.Expr.hash) uses: [xxhash](https://github.com/Cyan4973/xxHash), as implemented [here](https://github.com/pola-rs/polars/blob/3f287f370b3c388ed2f3f218b2c096382548136f/polars/polars-core/src/vector_hasher.rs#L266). xxhash is fast to compute, and you can check its performance in collision, dispersion and randomness [here](https://github.com/Cyan4973/xxHash/tree/dev/tests). \n",
    "\n",
    "xxhash accepts four distinct seeds, but by default we set the seeds to `0`. It is possible to set the `seed` argument of the `process()` function to `'random'`, which will set all four seeds to a random integer between `0` and `1000000000`. Alternatively, it is possible to supply the four seeds manually with arguments `seed`, `seed_1`, `seed_2` and `seed_3`. \n",
    "\n",
    "If the xxhash with (random) seed(s) is not deemed sufficiently secure, it is possible to use your own hashing algorithm.\n",
    "\n",
    "Note that since we're now running python code and not native Polars code anymore, this will be _significantly_ slower. Nonetheless, it is possible.\n",
    "\n",
    "Just as an example - this is how one would use sha3_256:"
   ]
  },
  {
   "cell_type": "code",
   "execution_count": 14,
   "metadata": {
    "execution": {
     "iopub.execute_input": "2023-11-22T14:55:49.081555Z",
     "iopub.status.busy": "2023-11-22T14:55:49.081108Z",
     "iopub.status.idle": "2023-11-22T14:55:49.405050Z",
     "shell.execute_reply": "2023-11-22T14:55:49.404454Z"
    },
    "nbsphinx": "hidden"
   },
   "outputs": [
    {
     "ename": "ComputeError",
     "evalue": "AttributeError: 'int' object has no attribute 'encode'",
     "output_type": "error",
     "traceback": [
      "\u001b[0;31m---------------------------------------------------------------------------\u001b[0m",
      "\u001b[0;31mComputeError\u001b[0m                              Traceback (most recent call last)",
      "Cell \u001b[0;32mIn[14], line 3\u001b[0m\n\u001b[1;32m      1\u001b[0m \u001b[38;5;28;01mfrom\u001b[39;00m \u001b[38;5;21;01mhashlib\u001b[39;00m \u001b[38;5;28;01mimport\u001b[39;00m sha3_256\n\u001b[0;32m----> 3\u001b[0m \u001b[43manon\u001b[49m\u001b[38;5;241;43m.\u001b[39;49m\u001b[43mprocess\u001b[49m\u001b[43m(\u001b[49m\u001b[43malgorithm\u001b[49m\u001b[38;5;241;43m=\u001b[39;49m\u001b[38;5;28;43;01mlambda\u001b[39;49;00m\u001b[43m \u001b[49m\u001b[43mx\u001b[49m\u001b[43m:\u001b[49m\u001b[43m \u001b[49m\u001b[43msha3_256\u001b[49m\u001b[43m(\u001b[49m\u001b[43mx\u001b[49m\u001b[38;5;241;43m.\u001b[39;49m\u001b[43mencode\u001b[49m\u001b[43m(\u001b[49m\u001b[43m)\u001b[49m\u001b[43m)\u001b[49m\u001b[38;5;241;43m.\u001b[39;49m\u001b[43mhexdigest\u001b[49m\u001b[43m(\u001b[49m\u001b[43m)\u001b[49m\u001b[43m)\u001b[49m\n",
      "File \u001b[0;32m~/work/pega-datascientist-tools/pega-datascientist-tools/python/docs/source/articles/../../../pdstools/utils/hds_utils.py:516\u001b[0m, in \u001b[0;36mDataAnonymization.process\u001b[0;34m(self, strategy, **kwargs)\u001b[0m\n\u001b[1;32m    514\u001b[0m df \u001b[38;5;241m=\u001b[39m df\u001b[38;5;241m.\u001b[39mselect(\u001b[38;5;28mself\u001b[39m\u001b[38;5;241m.\u001b[39mcolumn_mapping\u001b[38;5;241m.\u001b[39mkeys())\u001b[38;5;241m.\u001b[39mrename(\u001b[38;5;28mself\u001b[39m\u001b[38;5;241m.\u001b[39mcolumn_mapping)\n\u001b[1;32m    515\u001b[0m \u001b[38;5;28;01mif\u001b[39;00m strategy \u001b[38;5;241m==\u001b[39m \u001b[38;5;124m\"\u001b[39m\u001b[38;5;124meager\u001b[39m\u001b[38;5;124m\"\u001b[39m:\n\u001b[0;32m--> 516\u001b[0m     \u001b[38;5;28;01mreturn\u001b[39;00m \u001b[43mdf\u001b[49m\u001b[38;5;241;43m.\u001b[39;49m\u001b[43mcollect\u001b[49m\u001b[43m(\u001b[49m\u001b[43m)\u001b[49m\n\u001b[1;32m    517\u001b[0m \u001b[38;5;28;01mreturn\u001b[39;00m df\n",
      "File \u001b[0;32m/opt/hostedtoolcache/Python/3.11.6/x64/lib/python3.11/site-packages/polars/utils/deprecation.py:100\u001b[0m, in \u001b[0;36mdeprecate_renamed_parameter.<locals>.decorate.<locals>.wrapper\u001b[0;34m(*args, **kwargs)\u001b[0m\n\u001b[1;32m     95\u001b[0m \u001b[38;5;129m@wraps\u001b[39m(function)\n\u001b[1;32m     96\u001b[0m \u001b[38;5;28;01mdef\u001b[39;00m \u001b[38;5;21mwrapper\u001b[39m(\u001b[38;5;241m*\u001b[39margs: P\u001b[38;5;241m.\u001b[39margs, \u001b[38;5;241m*\u001b[39m\u001b[38;5;241m*\u001b[39mkwargs: P\u001b[38;5;241m.\u001b[39mkwargs) \u001b[38;5;241m-\u001b[39m\u001b[38;5;241m>\u001b[39m T:\n\u001b[1;32m     97\u001b[0m     _rename_keyword_argument(\n\u001b[1;32m     98\u001b[0m         old_name, new_name, kwargs, function\u001b[38;5;241m.\u001b[39m\u001b[38;5;18m__name__\u001b[39m, version\n\u001b[1;32m     99\u001b[0m     )\n\u001b[0;32m--> 100\u001b[0m     \u001b[38;5;28;01mreturn\u001b[39;00m \u001b[43mfunction\u001b[49m\u001b[43m(\u001b[49m\u001b[38;5;241;43m*\u001b[39;49m\u001b[43margs\u001b[49m\u001b[43m,\u001b[49m\u001b[43m \u001b[49m\u001b[38;5;241;43m*\u001b[39;49m\u001b[38;5;241;43m*\u001b[39;49m\u001b[43mkwargs\u001b[49m\u001b[43m)\u001b[49m\n",
      "File \u001b[0;32m/opt/hostedtoolcache/Python/3.11.6/x64/lib/python3.11/site-packages/polars/lazyframe/frame.py:1787\u001b[0m, in \u001b[0;36mLazyFrame.collect\u001b[0;34m(self, type_coercion, predicate_pushdown, projection_pushdown, simplify_expression, slice_pushdown, comm_subplan_elim, comm_subexpr_elim, no_optimization, streaming, _eager)\u001b[0m\n\u001b[1;32m   1774\u001b[0m     comm_subplan_elim \u001b[38;5;241m=\u001b[39m \u001b[38;5;28;01mFalse\u001b[39;00m\n\u001b[1;32m   1776\u001b[0m ldf \u001b[38;5;241m=\u001b[39m \u001b[38;5;28mself\u001b[39m\u001b[38;5;241m.\u001b[39m_ldf\u001b[38;5;241m.\u001b[39moptimization_toggle(\n\u001b[1;32m   1777\u001b[0m     type_coercion,\n\u001b[1;32m   1778\u001b[0m     predicate_pushdown,\n\u001b[0;32m   (...)\u001b[0m\n\u001b[1;32m   1785\u001b[0m     _eager,\n\u001b[1;32m   1786\u001b[0m )\n\u001b[0;32m-> 1787\u001b[0m \u001b[38;5;28;01mreturn\u001b[39;00m wrap_df(ldf\u001b[38;5;241m.\u001b[39mcollect())\n",
      "\u001b[0;31mComputeError\u001b[0m: AttributeError: 'int' object has no attribute 'encode'"
     ]
    }
   ],
   "source": [
    "from hashlib import sha3_256\n",
    "\n",
    "anon.process(algorithm=lambda x: sha3_256(x.encode()).hexdigest())"
   ]
  }
 ],
 "metadata": {
  "kernelspec": {
   "display_name": "Python 3",
   "language": "python",
   "name": "python3"
  },
  "language_info": {
   "codemirror_mode": {
    "name": "ipython",
    "version": 3
   },
   "file_extension": ".py",
   "mimetype": "text/x-python",
   "name": "python",
   "nbconvert_exporter": "python",
   "pygments_lexer": "ipython3",
   "version": "3.11.6"
  },
  "vscode": {
   "interpreter": {
    "hash": "aee8b7b246df8f9039afb4144a1f6fd8d2ca17a180786b69acc140d282b71a49"
   }
  }
 },
 "nbformat": 4,
 "nbformat_minor": 2
}
