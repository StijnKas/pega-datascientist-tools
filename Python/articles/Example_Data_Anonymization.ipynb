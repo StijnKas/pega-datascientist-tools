{
 "cells": [
  {
   "attachments": {},
   "cell_type": "markdown",
   "metadata": {},
   "source": [
    "# Data Anonymization\n",
    "\n",
    "In Pega CDH 8.5 and up, it's now possible to record the historical data as seen by the Adaptive Models. See [this academy challenge](https://academy.pega.com/challenge/exporting-historical-data/v4) for reference. This historical data can be further used to experiment with offline models, but also to fine-tune the OOTB Gradient Boosting model. However, sharing this information with Pega can be sensitive as it contains raw predictor data. \n",
    "\n",
    "To this end, we provide a simple and transparent script to fully anonimize this dataset.\n",
    "\n",
    "The DataAnonymization script is now part of pdstools, and you can import it directly as such."
   ]
  },
  {
   "cell_type": "code",
   "execution_count": 1,
   "metadata": {
    "execution": {
     "iopub.execute_input": "2024-06-18T14:19:56.859105Z",
     "iopub.status.busy": "2024-06-18T14:19:56.858929Z",
     "iopub.status.idle": "2024-06-18T14:19:56.932216Z",
     "shell.execute_reply": "2024-06-18T14:19:56.931625Z"
    },
    "nbsphinx": "hidden"
   },
   "outputs": [],
   "source": [
    "# These lines are only for rendering in the docs, and are hidden through Jupyter tags\n",
    "# Do not run if you're running the notebook seperately\n",
    "\n",
    "import os  \n",
    "import sys\n",
    "import plotly.io as pio\n",
    "pio.renderers.default = \"notebook_connected\"\n",
    "\n",
    "sys.path.append(\"../../../\")\n",
    "sys.path.append('../../python')"
   ]
  },
  {
   "cell_type": "code",
   "execution_count": 2,
   "metadata": {
    "execution": {
     "iopub.execute_input": "2024-06-18T14:19:56.934658Z",
     "iopub.status.busy": "2024-06-18T14:19:56.934299Z",
     "iopub.status.idle": "2024-06-18T14:19:58.055054Z",
     "shell.execute_reply": "2024-06-18T14:19:58.054403Z"
    }
   },
   "outputs": [],
   "source": [
    "from pdstools import ADMDatamart\n",
    "from pdstools import Config, DataAnonymization\n",
    "import polars as pl"
   ]
  },
  {
   "attachments": {},
   "cell_type": "markdown",
   "metadata": {},
   "source": [
    "## Input data\n",
    "\n",
    "To demonstrate this process, we're going to anonymise this toy example dataframe:"
   ]
  },
  {
   "cell_type": "code",
   "execution_count": 3,
   "metadata": {
    "execution": {
     "iopub.execute_input": "2024-06-18T14:19:58.057936Z",
     "iopub.status.busy": "2024-06-18T14:19:58.057512Z",
     "iopub.status.idle": "2024-06-18T14:19:58.066391Z",
     "shell.execute_reply": "2024-06-18T14:19:58.065784Z"
    }
   },
   "outputs": [
    {
     "data": {
      "text/html": [
       "<div><style>\n",
       ".dataframe > thead > tr,\n",
       ".dataframe > tbody > tr {\n",
       "  text-align: right;\n",
       "  white-space: pre-wrap;\n",
       "}\n",
       "</style>\n",
       "<small>shape: (7, 6)</small><table border=\"1\" class=\"dataframe\"><thead><tr><th>Context_Name</th><th>Customer_MaritalStatus</th><th>Customer_CLV</th><th>Customer_City</th><th>IH_Web_Inbound_Accepted_pxLastGroupID</th><th>Decision_Outcome</th></tr><tr><td>str</td><td>str</td><td>i64</td><td>str</td><td>str</td><td>str</td></tr></thead><tbody><tr><td>&quot;FirstMortgage30yr&quot;</td><td>&quot;Married&quot;</td><td>1460</td><td>&quot;Port Raoul&quot;</td><td>&quot;Account&quot;</td><td>&quot;Rejected&quot;</td></tr><tr><td>&quot;FirstMortgage30yr&quot;</td><td>&quot;Unknown&quot;</td><td>669</td><td>&quot;Laurianneshire&quot;</td><td>&quot;AutoLoans&quot;</td><td>&quot;Accepted&quot;</td></tr><tr><td>&quot;MoneyMarketSavingsAccount&quot;</td><td>&quot;No Resp+&quot;</td><td>1174</td><td>&quot;Jacobshaven&quot;</td><td>&quot;Account&quot;</td><td>&quot;Rejected&quot;</td></tr><tr><td>&quot;BasicChecking&quot;</td><td>&quot;Unknown&quot;</td><td>1476</td><td>&quot;Lindton&quot;</td><td>&quot;Account&quot;</td><td>&quot;Rejected&quot;</td></tr><tr><td>&quot;BasicChecking&quot;</td><td>&quot;Married&quot;</td><td>1211</td><td>&quot;South Jimmieshire&quot;</td><td>&quot;DepositAccounts&quot;</td><td>&quot;Accepted&quot;</td></tr><tr><td>&quot;UPlusFinPersonal&quot;</td><td>&quot;No Resp+&quot;</td><td>533</td><td>&quot;Bergeville&quot;</td><td>null</td><td>&quot;Rejected&quot;</td></tr><tr><td>&quot;BasicChecking&quot;</td><td>&quot;No Resp+&quot;</td><td>555</td><td>&quot;Willyville&quot;</td><td>&quot;DepositAccounts&quot;</td><td>&quot;Rejected&quot;</td></tr></tbody></table></div>"
      ],
      "text/plain": [
       "shape: (7, 6)\n",
       "┌────────────────┬────────────────┬──────────────┬────────────────┬────────────────┬───────────────┐\n",
       "│ Context_Name   ┆ Customer_Marit ┆ Customer_CLV ┆ Customer_City  ┆ IH_Web_Inbound ┆ Decision_Outc │\n",
       "│ ---            ┆ alStatus       ┆ ---          ┆ ---            ┆ _Accepted_pxLa ┆ ome           │\n",
       "│ str            ┆ ---            ┆ i64          ┆ str            ┆ st…            ┆ ---           │\n",
       "│                ┆ str            ┆              ┆                ┆ ---            ┆ str           │\n",
       "│                ┆                ┆              ┆                ┆ str            ┆               │\n",
       "╞════════════════╪════════════════╪══════════════╪════════════════╪════════════════╪═══════════════╡\n",
       "│ FirstMortgage3 ┆ Married        ┆ 1460         ┆ Port Raoul     ┆ Account        ┆ Rejected      │\n",
       "│ 0yr            ┆                ┆              ┆                ┆                ┆               │\n",
       "│ FirstMortgage3 ┆ Unknown        ┆ 669          ┆ Laurianneshire ┆ AutoLoans      ┆ Accepted      │\n",
       "│ 0yr            ┆                ┆              ┆                ┆                ┆               │\n",
       "│ MoneyMarketSav ┆ No Resp+       ┆ 1174         ┆ Jacobshaven    ┆ Account        ┆ Rejected      │\n",
       "│ ingsAccount    ┆                ┆              ┆                ┆                ┆               │\n",
       "│ BasicChecking  ┆ Unknown        ┆ 1476         ┆ Lindton        ┆ Account        ┆ Rejected      │\n",
       "│ BasicChecking  ┆ Married        ┆ 1211         ┆ South          ┆ DepositAccount ┆ Accepted      │\n",
       "│                ┆                ┆              ┆ Jimmieshire    ┆ s              ┆               │\n",
       "│ UPlusFinPerson ┆ No Resp+       ┆ 533          ┆ Bergeville     ┆ null           ┆ Rejected      │\n",
       "│ al             ┆                ┆              ┆                ┆                ┆               │\n",
       "│ BasicChecking  ┆ No Resp+       ┆ 555          ┆ Willyville     ┆ DepositAccount ┆ Rejected      │\n",
       "│                ┆                ┆              ┆                ┆ s              ┆               │\n",
       "└────────────────┴────────────────┴──────────────┴────────────────┴────────────────┴───────────────┘"
      ]
     },
     "execution_count": 3,
     "metadata": {},
     "output_type": "execute_result"
    }
   ],
   "source": [
    "pl.read_ndjson('../../../../data/SampleHDS.json')"
   ]
  },
  {
   "attachments": {},
   "cell_type": "markdown",
   "metadata": {},
   "source": [
    "As you can see, this dataset consists of regular predictors, IH predictors, context keys and the outcome column. Additionally, some columns are numeric, others are strings. Let's first initialize the DataAnonymization class."
   ]
  },
  {
   "cell_type": "code",
   "execution_count": 4,
   "metadata": {
    "execution": {
     "iopub.execute_input": "2024-06-18T14:19:58.068588Z",
     "iopub.status.busy": "2024-06-18T14:19:58.068219Z",
     "iopub.status.idle": "2024-06-18T14:19:58.078211Z",
     "shell.execute_reply": "2024-06-18T14:19:58.077737Z"
    }
   },
   "outputs": [],
   "source": [
    "anon = DataAnonymization(hds_folder='../../../../data/')"
   ]
  },
  {
   "attachments": {},
   "cell_type": "markdown",
   "metadata": {},
   "source": [
    "By default, the class applies a set of anonymisation techniques:\n",
    "- Column names are remapped to a non-descriptive name\n",
    "- Categorical values are hashed with a random seed\n",
    "- Numerical values are normalized between 0 and 1\n",
    "- Outcomes are mapped to a binary outcome.\n",
    "\n",
    "To apply these techniques, simply call `.process()`:"
   ]
  },
  {
   "cell_type": "code",
   "execution_count": 5,
   "metadata": {
    "execution": {
     "iopub.execute_input": "2024-06-18T14:19:58.080454Z",
     "iopub.status.busy": "2024-06-18T14:19:58.080078Z",
     "iopub.status.idle": "2024-06-18T14:19:58.085406Z",
     "shell.execute_reply": "2024-06-18T14:19:58.084905Z"
    }
   },
   "outputs": [
    {
     "data": {
      "text/html": [
       "<div><style>\n",
       ".dataframe > thead > tr,\n",
       ".dataframe > tbody > tr {\n",
       "  text-align: right;\n",
       "  white-space: pre-wrap;\n",
       "}\n",
       "</style>\n",
       "<small>shape: (7, 7)</small><table border=\"1\" class=\"dataframe\"><thead><tr><th>PREDICTOR_0</th><th>PREDICTOR_1</th><th>filename</th><th>PREDICTOR_3</th><th>Context_Name</th><th>IH_PREDICTOR_0</th><th>Decision_Outcome</th></tr><tr><td>f64</td><td>str</td><td>str</td><td>str</td><td>str</td><td>str</td><td>bool</td></tr></thead><tbody><tr><td>4.1686e18</td><td>&quot;14637657931422199389&quot;</td><td>&quot;../../../../data/SampleHDS.jso…</td><td>&quot;3866700847298902154&quot;</td><td>&quot;12358087534995492875&quot;</td><td>&quot;17564598795835530550&quot;</td><td>false</td></tr><tr><td>1.3031e19</td><td>&quot;3540750323845704751&quot;</td><td>&quot;../../../../data/SampleHDS.jso…</td><td>&quot;16490331504929666860&quot;</td><td>&quot;12358087534995492875&quot;</td><td>&quot;13455572550305862765&quot;</td><td>true</td></tr><tr><td>5.4573e18</td><td>&quot;12478214287973360110&quot;</td><td>&quot;../../../../data/SampleHDS.jso…</td><td>&quot;519849813049818649&quot;</td><td>&quot;13326932866139446719&quot;</td><td>&quot;17564598795835530550&quot;</td><td>false</td></tr><tr><td>1.5830e19</td><td>&quot;6153035652651966767&quot;</td><td>&quot;../../../../data/SampleHDS.jso…</td><td>&quot;16490331504929666860&quot;</td><td>&quot;7942898883585234477&quot;</td><td>&quot;17564598795835530550&quot;</td><td>false</td></tr><tr><td>2.3474e18</td><td>&quot;14180602842666418032&quot;</td><td>&quot;../../../../data/SampleHDS.jso…</td><td>&quot;3866700847298902154&quot;</td><td>&quot;7942898883585234477&quot;</td><td>&quot;254546774000816466&quot;</td><td>true</td></tr><tr><td>1.7591e19</td><td>&quot;767599322053724639&quot;</td><td>&quot;../../../../data/SampleHDS.jso…</td><td>&quot;519849813049818649&quot;</td><td>&quot;8357854104330504918&quot;</td><td>null</td><td>false</td></tr><tr><td>2.6857e18</td><td>&quot;5139431550260707837&quot;</td><td>&quot;../../../../data/SampleHDS.jso…</td><td>&quot;519849813049818649&quot;</td><td>&quot;7942898883585234477&quot;</td><td>&quot;254546774000816466&quot;</td><td>false</td></tr></tbody></table></div>"
      ],
      "text/plain": [
       "shape: (7, 7)\n",
       "┌─────────────┬──────────────┬─────────────┬─────────────┬─────────────┬─────────────┬─────────────┐\n",
       "│ PREDICTOR_0 ┆ PREDICTOR_1  ┆ filename    ┆ PREDICTOR_3 ┆ Context_Nam ┆ IH_PREDICTO ┆ Decision_Ou │\n",
       "│ ---         ┆ ---          ┆ ---         ┆ ---         ┆ e           ┆ R_0         ┆ tcome       │\n",
       "│ f64         ┆ str          ┆ str         ┆ str         ┆ ---         ┆ ---         ┆ ---         │\n",
       "│             ┆              ┆             ┆             ┆ str         ┆ str         ┆ bool        │\n",
       "╞═════════════╪══════════════╪═════════════╪═════════════╪═════════════╪═════════════╪═════════════╡\n",
       "│ 4.1686e18   ┆ 146376579314 ┆ ../../../.. ┆ 38667008472 ┆ 12358087534 ┆ 17564598795 ┆ false       │\n",
       "│             ┆ 22199389     ┆ /data/Sampl ┆ 98902154    ┆ 995492875   ┆ 835530550   ┆             │\n",
       "│             ┆              ┆ eHDS.jso…   ┆             ┆             ┆             ┆             │\n",
       "│ 1.3031e19   ┆ 354075032384 ┆ ../../../.. ┆ 16490331504 ┆ 12358087534 ┆ 13455572550 ┆ true        │\n",
       "│             ┆ 5704751      ┆ /data/Sampl ┆ 929666860   ┆ 995492875   ┆ 305862765   ┆             │\n",
       "│             ┆              ┆ eHDS.jso…   ┆             ┆             ┆             ┆             │\n",
       "│ 5.4573e18   ┆ 124782142879 ┆ ../../../.. ┆ 51984981304 ┆ 13326932866 ┆ 17564598795 ┆ false       │\n",
       "│             ┆ 73360110     ┆ /data/Sampl ┆ 9818649     ┆ 139446719   ┆ 835530550   ┆             │\n",
       "│             ┆              ┆ eHDS.jso…   ┆             ┆             ┆             ┆             │\n",
       "│ 1.5830e19   ┆ 615303565265 ┆ ../../../.. ┆ 16490331504 ┆ 79428988835 ┆ 17564598795 ┆ false       │\n",
       "│             ┆ 1966767      ┆ /data/Sampl ┆ 929666860   ┆ 85234477    ┆ 835530550   ┆             │\n",
       "│             ┆              ┆ eHDS.jso…   ┆             ┆             ┆             ┆             │\n",
       "│ 2.3474e18   ┆ 141806028426 ┆ ../../../.. ┆ 38667008472 ┆ 79428988835 ┆ 25454677400 ┆ true        │\n",
       "│             ┆ 66418032     ┆ /data/Sampl ┆ 98902154    ┆ 85234477    ┆ 0816466     ┆             │\n",
       "│             ┆              ┆ eHDS.jso…   ┆             ┆             ┆             ┆             │\n",
       "│ 1.7591e19   ┆ 767599322053 ┆ ../../../.. ┆ 51984981304 ┆ 83578541043 ┆ null        ┆ false       │\n",
       "│             ┆ 724639       ┆ /data/Sampl ┆ 9818649     ┆ 30504918    ┆             ┆             │\n",
       "│             ┆              ┆ eHDS.jso…   ┆             ┆             ┆             ┆             │\n",
       "│ 2.6857e18   ┆ 513943155026 ┆ ../../../.. ┆ 51984981304 ┆ 79428988835 ┆ 25454677400 ┆ false       │\n",
       "│             ┆ 0707837      ┆ /data/Sampl ┆ 9818649     ┆ 85234477    ┆ 0816466     ┆             │\n",
       "│             ┆              ┆ eHDS.jso…   ┆             ┆             ┆             ┆             │\n",
       "└─────────────┴──────────────┴─────────────┴─────────────┴─────────────┴─────────────┴─────────────┘"
      ]
     },
     "execution_count": 5,
     "metadata": {},
     "output_type": "execute_result"
    }
   ],
   "source": [
    "anon.process()"
   ]
  },
  {
   "attachments": {},
   "cell_type": "markdown",
   "metadata": {},
   "source": [
    "To trace back the columns to their original names, the class also contains a mapping, which does not have to be provided."
   ]
  },
  {
   "cell_type": "code",
   "execution_count": 6,
   "metadata": {
    "execution": {
     "iopub.execute_input": "2024-06-18T14:19:58.087578Z",
     "iopub.status.busy": "2024-06-18T14:19:58.087258Z",
     "iopub.status.idle": "2024-06-18T14:19:58.090878Z",
     "shell.execute_reply": "2024-06-18T14:19:58.090445Z"
    }
   },
   "outputs": [
    {
     "data": {
      "text/plain": [
       "{'Customer_CLV': 'PREDICTOR_0',\n",
       " 'Customer_City': 'PREDICTOR_1',\n",
       " 'filename': 'filename',\n",
       " 'Customer_MaritalStatus': 'PREDICTOR_3',\n",
       " 'Context_Name': 'Context_Name',\n",
       " 'IH_Web_Inbound_Accepted_pxLastGroupID': 'IH_PREDICTOR_0',\n",
       " 'Decision_Outcome': 'Decision_Outcome'}"
      ]
     },
     "execution_count": 6,
     "metadata": {},
     "output_type": "execute_result"
    }
   ],
   "source": [
    "anon.column_mapping"
   ]
  },
  {
   "attachments": {},
   "cell_type": "markdown",
   "metadata": {},
   "source": [
    "## Configs\n",
    "\n",
    "Each capability can optionally be turned off - see below for the full list of config options, and refer to the API reference for the full description."
   ]
  },
  {
   "cell_type": "code",
   "execution_count": 7,
   "metadata": {
    "execution": {
     "iopub.execute_input": "2024-06-18T14:19:58.093118Z",
     "iopub.status.busy": "2024-06-18T14:19:58.092619Z",
     "iopub.status.idle": "2024-06-18T14:19:58.097708Z",
     "shell.execute_reply": "2024-06-18T14:19:58.097184Z"
    }
   },
   "outputs": [
    {
     "data": {
      "text/plain": [
       "{'config_file': None,\n",
       " 'hds_folder': '.',\n",
       " 'use_datamart': False,\n",
       " 'datamart_folder': 'datamart',\n",
       " 'output_format': 'ndjson',\n",
       " 'output_folder': 'output',\n",
       " 'mapping_file': 'mapping.map',\n",
       " 'mask_predictor_names': True,\n",
       " 'mask_context_key_names': False,\n",
       " 'mask_ih_names': True,\n",
       " 'mask_outcome_name': False,\n",
       " 'mask_predictor_values': True,\n",
       " 'mask_context_key_values': True,\n",
       " 'mask_ih_values': True,\n",
       " 'mask_outcome_values': True,\n",
       " 'context_key_label': 'Context_*',\n",
       " 'ih_label': 'IH_*',\n",
       " 'outcome_column': 'Decision_Outcome',\n",
       " 'positive_outcomes': ['Accepted', 'Clicked'],\n",
       " 'negative_outcomes': ['Rejected', 'Impression'],\n",
       " 'special_predictors': ['Decision_DecisionTime',\n",
       "  'Decision_OutcomeTime',\n",
       "  'Decision_Rank'],\n",
       " 'sample_percentage_schema_inferencing': 0.01}"
      ]
     },
     "execution_count": 7,
     "metadata": {},
     "output_type": "execute_result"
    }
   ],
   "source": [
    "dict(zip(Config.__init__.__code__.co_varnames[1:], Config.__init__.__defaults__))"
   ]
  },
  {
   "attachments": {},
   "cell_type": "markdown",
   "metadata": {},
   "source": [
    "It's easy to change these parameters by just passing the keyword arguments. In the following example, we\n",
    "- Keep the IH predictor names\n",
    "- Keep the outcome values\n",
    "- Keep the context key values\n",
    "- Keep the context key predictor names"
   ]
  },
  {
   "cell_type": "code",
   "execution_count": 8,
   "metadata": {
    "execution": {
     "iopub.execute_input": "2024-06-18T14:19:58.099624Z",
     "iopub.status.busy": "2024-06-18T14:19:58.099445Z",
     "iopub.status.idle": "2024-06-18T14:19:58.107590Z",
     "shell.execute_reply": "2024-06-18T14:19:58.107045Z"
    }
   },
   "outputs": [
    {
     "data": {
      "text/html": [
       "<div><style>\n",
       ".dataframe > thead > tr,\n",
       ".dataframe > tbody > tr {\n",
       "  text-align: right;\n",
       "  white-space: pre-wrap;\n",
       "}\n",
       "</style>\n",
       "<small>shape: (7, 7)</small><table border=\"1\" class=\"dataframe\"><thead><tr><th>PREDICTOR_0</th><th>PREDICTOR_1</th><th>filename</th><th>PREDICTOR_3</th><th>Context_Name</th><th>IH_Web_Inbound_Accepted_pxLastGroupID</th><th>Decision_Outcome</th></tr><tr><td>f64</td><td>str</td><td>str</td><td>str</td><td>str</td><td>str</td><td>str</td></tr></thead><tbody><tr><td>2.8255e18</td><td>&quot;3253716076551053117&quot;</td><td>&quot;../../../../data/SampleHDS.jso…</td><td>&quot;1607024102700391407&quot;</td><td>&quot;FirstMortgage30yr&quot;</td><td>&quot;9891089492734519652&quot;</td><td>&quot;Rejected&quot;</td></tr><tr><td>5.9692e18</td><td>&quot;1852970730006183898&quot;</td><td>&quot;../../../../data/SampleHDS.jso…</td><td>&quot;13622254631908955277&quot;</td><td>&quot;FirstMortgage30yr&quot;</td><td>&quot;3041149141662925473&quot;</td><td>&quot;Accepted&quot;</td></tr><tr><td>4.1994e18</td><td>&quot;3817374094926815879&quot;</td><td>&quot;../../../../data/SampleHDS.jso…</td><td>&quot;13394975159169219223&quot;</td><td>&quot;MoneyMarketSavingsAccount&quot;</td><td>&quot;9891089492734519652&quot;</td><td>&quot;Rejected&quot;</td></tr><tr><td>1.0093e19</td><td>&quot;5551538965335559334&quot;</td><td>&quot;../../../../data/SampleHDS.jso…</td><td>&quot;13622254631908955277&quot;</td><td>&quot;BasicChecking&quot;</td><td>&quot;9891089492734519652&quot;</td><td>&quot;Rejected&quot;</td></tr><tr><td>1.3826e19</td><td>&quot;14586809871653012017&quot;</td><td>&quot;../../../../data/SampleHDS.jso…</td><td>&quot;1607024102700391407&quot;</td><td>&quot;BasicChecking&quot;</td><td>&quot;27620031867254223&quot;</td><td>&quot;Accepted&quot;</td></tr><tr><td>6.5678e18</td><td>&quot;18112733665592067882&quot;</td><td>&quot;../../../../data/SampleHDS.jso…</td><td>&quot;13394975159169219223&quot;</td><td>&quot;UPlusFinPersonal&quot;</td><td>null</td><td>&quot;Rejected&quot;</td></tr><tr><td>8.4156e18</td><td>&quot;6302897723061124311&quot;</td><td>&quot;../../../../data/SampleHDS.jso…</td><td>&quot;13394975159169219223&quot;</td><td>&quot;BasicChecking&quot;</td><td>&quot;27620031867254223&quot;</td><td>&quot;Rejected&quot;</td></tr></tbody></table></div>"
      ],
      "text/plain": [
       "shape: (7, 7)\n",
       "┌─────────────┬──────────────┬─────────────┬─────────────┬─────────────┬─────────────┬─────────────┐\n",
       "│ PREDICTOR_0 ┆ PREDICTOR_1  ┆ filename    ┆ PREDICTOR_3 ┆ Context_Nam ┆ IH_Web_Inbo ┆ Decision_Ou │\n",
       "│ ---         ┆ ---          ┆ ---         ┆ ---         ┆ e           ┆ und_Accepte ┆ tcome       │\n",
       "│ f64         ┆ str          ┆ str         ┆ str         ┆ ---         ┆ d_pxLast…   ┆ ---         │\n",
       "│             ┆              ┆             ┆             ┆ str         ┆ ---         ┆ str         │\n",
       "│             ┆              ┆             ┆             ┆             ┆ str         ┆             │\n",
       "╞═════════════╪══════════════╪═════════════╪═════════════╪═════════════╪═════════════╪═════════════╡\n",
       "│ 2.8255e18   ┆ 325371607655 ┆ ../../../.. ┆ 16070241027 ┆ FirstMortga ┆ 98910894927 ┆ Rejected    │\n",
       "│             ┆ 1053117      ┆ /data/Sampl ┆ 00391407    ┆ ge30yr      ┆ 34519652    ┆             │\n",
       "│             ┆              ┆ eHDS.jso…   ┆             ┆             ┆             ┆             │\n",
       "│ 5.9692e18   ┆ 185297073000 ┆ ../../../.. ┆ 13622254631 ┆ FirstMortga ┆ 30411491416 ┆ Accepted    │\n",
       "│             ┆ 6183898      ┆ /data/Sampl ┆ 908955277   ┆ ge30yr      ┆ 62925473    ┆             │\n",
       "│             ┆              ┆ eHDS.jso…   ┆             ┆             ┆             ┆             │\n",
       "│ 4.1994e18   ┆ 381737409492 ┆ ../../../.. ┆ 13394975159 ┆ MoneyMarket ┆ 98910894927 ┆ Rejected    │\n",
       "│             ┆ 6815879      ┆ /data/Sampl ┆ 169219223   ┆ SavingsAcco ┆ 34519652    ┆             │\n",
       "│             ┆              ┆ eHDS.jso…   ┆             ┆ unt         ┆             ┆             │\n",
       "│ 1.0093e19   ┆ 555153896533 ┆ ../../../.. ┆ 13622254631 ┆ BasicChecki ┆ 98910894927 ┆ Rejected    │\n",
       "│             ┆ 5559334      ┆ /data/Sampl ┆ 908955277   ┆ ng          ┆ 34519652    ┆             │\n",
       "│             ┆              ┆ eHDS.jso…   ┆             ┆             ┆             ┆             │\n",
       "│ 1.3826e19   ┆ 145868098716 ┆ ../../../.. ┆ 16070241027 ┆ BasicChecki ┆ 27620031867 ┆ Accepted    │\n",
       "│             ┆ 53012017     ┆ /data/Sampl ┆ 00391407    ┆ ng          ┆ 254223      ┆             │\n",
       "│             ┆              ┆ eHDS.jso…   ┆             ┆             ┆             ┆             │\n",
       "│ 6.5678e18   ┆ 181127336655 ┆ ../../../.. ┆ 13394975159 ┆ UPlusFinPer ┆ null        ┆ Rejected    │\n",
       "│             ┆ 92067882     ┆ /data/Sampl ┆ 169219223   ┆ sonal       ┆             ┆             │\n",
       "│             ┆              ┆ eHDS.jso…   ┆             ┆             ┆             ┆             │\n",
       "│ 8.4156e18   ┆ 630289772306 ┆ ../../../.. ┆ 13394975159 ┆ BasicChecki ┆ 27620031867 ┆ Rejected    │\n",
       "│             ┆ 1124311      ┆ /data/Sampl ┆ 169219223   ┆ ng          ┆ 254223      ┆             │\n",
       "│             ┆              ┆ eHDS.jso…   ┆             ┆             ┆             ┆             │\n",
       "└─────────────┴──────────────┴─────────────┴─────────────┴─────────────┴─────────────┴─────────────┘"
      ]
     },
     "execution_count": 8,
     "metadata": {},
     "output_type": "execute_result"
    }
   ],
   "source": [
    "anon = DataAnonymization(\n",
    "    hds_folder=\"../../../../data/\",\n",
    "    mask_ih_names=False,\n",
    "    mask_outcome_values=False,\n",
    "    mask_context_key_values=False,\n",
    "    mask_context_key_names=False,\n",
    ")\n",
    "anon.process()\n"
   ]
  },
  {
   "attachments": {},
   "cell_type": "markdown",
   "metadata": {},
   "source": [
    "The configs can also be written and read as such:"
   ]
  },
  {
   "cell_type": "code",
   "execution_count": 9,
   "metadata": {
    "execution": {
     "iopub.execute_input": "2024-06-18T14:19:58.109793Z",
     "iopub.status.busy": "2024-06-18T14:19:58.109491Z",
     "iopub.status.idle": "2024-06-18T14:19:58.112276Z",
     "shell.execute_reply": "2024-06-18T14:19:58.111795Z"
    }
   },
   "outputs": [],
   "source": [
    "anon.config.save_to_config_file('config.json')"
   ]
  },
  {
   "cell_type": "code",
   "execution_count": 10,
   "metadata": {
    "execution": {
     "iopub.execute_input": "2024-06-18T14:19:58.114152Z",
     "iopub.status.busy": "2024-06-18T14:19:58.113887Z",
     "iopub.status.idle": "2024-06-18T14:19:58.121408Z",
     "shell.execute_reply": "2024-06-18T14:19:58.120911Z"
    }
   },
   "outputs": [
    {
     "data": {
      "text/html": [
       "<div><style>\n",
       ".dataframe > thead > tr,\n",
       ".dataframe > tbody > tr {\n",
       "  text-align: right;\n",
       "  white-space: pre-wrap;\n",
       "}\n",
       "</style>\n",
       "<small>shape: (7, 7)</small><table border=\"1\" class=\"dataframe\"><thead><tr><th>PREDICTOR_0</th><th>PREDICTOR_1</th><th>filename</th><th>PREDICTOR_3</th><th>Context_Name</th><th>IH_Web_Inbound_Accepted_pxLastGroupID</th><th>Decision_Outcome</th></tr><tr><td>f64</td><td>str</td><td>str</td><td>str</td><td>str</td><td>str</td><td>str</td></tr></thead><tbody><tr><td>1.3501e19</td><td>&quot;6347825690736596091&quot;</td><td>&quot;../../../../data/SampleHDS.jso…</td><td>&quot;12102011276940863267&quot;</td><td>&quot;FirstMortgage30yr&quot;</td><td>&quot;15601228264516668495&quot;</td><td>&quot;Rejected&quot;</td></tr><tr><td>4.0944e18</td><td>&quot;9734664799150752577&quot;</td><td>&quot;../../../../data/SampleHDS.jso…</td><td>&quot;2950847690053844960&quot;</td><td>&quot;FirstMortgage30yr&quot;</td><td>&quot;7642952337112879926&quot;</td><td>&quot;Accepted&quot;</td></tr><tr><td>9.5842e17</td><td>&quot;7084410200669564064&quot;</td><td>&quot;../../../../data/SampleHDS.jso…</td><td>&quot;5240500049675399139&quot;</td><td>&quot;MoneyMarketSavingsAccount&quot;</td><td>&quot;15601228264516668495&quot;</td><td>&quot;Rejected&quot;</td></tr><tr><td>1.2500e19</td><td>&quot;11217605736643152697&quot;</td><td>&quot;../../../../data/SampleHDS.jso…</td><td>&quot;2950847690053844960&quot;</td><td>&quot;BasicChecking&quot;</td><td>&quot;15601228264516668495&quot;</td><td>&quot;Rejected&quot;</td></tr><tr><td>6.1603e18</td><td>&quot;13670618154428111670&quot;</td><td>&quot;../../../../data/SampleHDS.jso…</td><td>&quot;12102011276940863267&quot;</td><td>&quot;BasicChecking&quot;</td><td>&quot;11131091301139825299&quot;</td><td>&quot;Accepted&quot;</td></tr><tr><td>5.7730e18</td><td>&quot;5629208720009966647&quot;</td><td>&quot;../../../../data/SampleHDS.jso…</td><td>&quot;5240500049675399139&quot;</td><td>&quot;UPlusFinPersonal&quot;</td><td>null</td><td>&quot;Rejected&quot;</td></tr><tr><td>2.3751e18</td><td>&quot;17459191497894494987&quot;</td><td>&quot;../../../../data/SampleHDS.jso…</td><td>&quot;5240500049675399139&quot;</td><td>&quot;BasicChecking&quot;</td><td>&quot;11131091301139825299&quot;</td><td>&quot;Rejected&quot;</td></tr></tbody></table></div>"
      ],
      "text/plain": [
       "shape: (7, 7)\n",
       "┌─────────────┬──────────────┬─────────────┬─────────────┬─────────────┬─────────────┬─────────────┐\n",
       "│ PREDICTOR_0 ┆ PREDICTOR_1  ┆ filename    ┆ PREDICTOR_3 ┆ Context_Nam ┆ IH_Web_Inbo ┆ Decision_Ou │\n",
       "│ ---         ┆ ---          ┆ ---         ┆ ---         ┆ e           ┆ und_Accepte ┆ tcome       │\n",
       "│ f64         ┆ str          ┆ str         ┆ str         ┆ ---         ┆ d_pxLast…   ┆ ---         │\n",
       "│             ┆              ┆             ┆             ┆ str         ┆ ---         ┆ str         │\n",
       "│             ┆              ┆             ┆             ┆             ┆ str         ┆             │\n",
       "╞═════════════╪══════════════╪═════════════╪═════════════╪═════════════╪═════════════╪═════════════╡\n",
       "│ 1.3501e19   ┆ 634782569073 ┆ ../../../.. ┆ 12102011276 ┆ FirstMortga ┆ 15601228264 ┆ Rejected    │\n",
       "│             ┆ 6596091      ┆ /data/Sampl ┆ 940863267   ┆ ge30yr      ┆ 516668495   ┆             │\n",
       "│             ┆              ┆ eHDS.jso…   ┆             ┆             ┆             ┆             │\n",
       "│ 4.0944e18   ┆ 973466479915 ┆ ../../../.. ┆ 29508476900 ┆ FirstMortga ┆ 76429523371 ┆ Accepted    │\n",
       "│             ┆ 0752577      ┆ /data/Sampl ┆ 53844960    ┆ ge30yr      ┆ 12879926    ┆             │\n",
       "│             ┆              ┆ eHDS.jso…   ┆             ┆             ┆             ┆             │\n",
       "│ 9.5842e17   ┆ 708441020066 ┆ ../../../.. ┆ 52405000496 ┆ MoneyMarket ┆ 15601228264 ┆ Rejected    │\n",
       "│             ┆ 9564064      ┆ /data/Sampl ┆ 75399139    ┆ SavingsAcco ┆ 516668495   ┆             │\n",
       "│             ┆              ┆ eHDS.jso…   ┆             ┆ unt         ┆             ┆             │\n",
       "│ 1.2500e19   ┆ 112176057366 ┆ ../../../.. ┆ 29508476900 ┆ BasicChecki ┆ 15601228264 ┆ Rejected    │\n",
       "│             ┆ 43152697     ┆ /data/Sampl ┆ 53844960    ┆ ng          ┆ 516668495   ┆             │\n",
       "│             ┆              ┆ eHDS.jso…   ┆             ┆             ┆             ┆             │\n",
       "│ 6.1603e18   ┆ 136706181544 ┆ ../../../.. ┆ 12102011276 ┆ BasicChecki ┆ 11131091301 ┆ Accepted    │\n",
       "│             ┆ 28111670     ┆ /data/Sampl ┆ 940863267   ┆ ng          ┆ 139825299   ┆             │\n",
       "│             ┆              ┆ eHDS.jso…   ┆             ┆             ┆             ┆             │\n",
       "│ 5.7730e18   ┆ 562920872000 ┆ ../../../.. ┆ 52405000496 ┆ UPlusFinPer ┆ null        ┆ Rejected    │\n",
       "│             ┆ 9966647      ┆ /data/Sampl ┆ 75399139    ┆ sonal       ┆             ┆             │\n",
       "│             ┆              ┆ eHDS.jso…   ┆             ┆             ┆             ┆             │\n",
       "│ 2.3751e18   ┆ 174591914978 ┆ ../../../.. ┆ 52405000496 ┆ BasicChecki ┆ 11131091301 ┆ Rejected    │\n",
       "│             ┆ 94494987     ┆ /data/Sampl ┆ 75399139    ┆ ng          ┆ 139825299   ┆             │\n",
       "│             ┆              ┆ eHDS.jso…   ┆             ┆             ┆             ┆             │\n",
       "└─────────────┴──────────────┴─────────────┴─────────────┴─────────────┴─────────────┴─────────────┘"
      ]
     },
     "execution_count": 10,
     "metadata": {},
     "output_type": "execute_result"
    }
   ],
   "source": [
    "anon = DataAnonymization(config=Config(config_file='config.json'))\n",
    "anon.process()"
   ]
  },
  {
   "attachments": {},
   "cell_type": "markdown",
   "metadata": {},
   "source": [
    "## Exporting\n",
    "Two functions export:\n",
    "- `create_mapping_file()` writes the mapping file of the predictor names\n",
    "- `write_to_output()` writes the processed dataframe to disk\n",
    "\n",
    "Write to output accepts the following extensions: `[\"ndjson\", \"parquet\", \"arrow\", \"csv\"]`"
   ]
  },
  {
   "cell_type": "code",
   "execution_count": 11,
   "metadata": {
    "execution": {
     "iopub.execute_input": "2024-06-18T14:19:58.123672Z",
     "iopub.status.busy": "2024-06-18T14:19:58.123263Z",
     "iopub.status.idle": "2024-06-18T14:19:58.126626Z",
     "shell.execute_reply": "2024-06-18T14:19:58.126181Z"
    }
   },
   "outputs": [
    {
     "name": "stdout",
     "output_type": "stream",
     "text": [
      "Customer_CLV=PREDICTOR_0\n",
      "Customer_City=PREDICTOR_1\n",
      "filename=filename\n",
      "Customer_MaritalStatus=PREDICTOR_3\n",
      "Context_Name=Context_Name\n",
      "IH_Web_Inbound_Accepted_pxLastGroupID=IH_Web_Inbound_Accepted_pxLastGroupID\n",
      "Decision_Outcome=Decision_Outcome\n",
      "\n"
     ]
    }
   ],
   "source": [
    "anon.create_mapping_file()\n",
    "with open('mapping.map') as f:\n",
    "    print(f.read())"
   ]
  },
  {
   "cell_type": "code",
   "execution_count": 12,
   "metadata": {
    "execution": {
     "iopub.execute_input": "2024-06-18T14:19:58.128445Z",
     "iopub.status.busy": "2024-06-18T14:19:58.128243Z",
     "iopub.status.idle": "2024-06-18T14:19:58.131703Z",
     "shell.execute_reply": "2024-06-18T14:19:58.131263Z"
    }
   },
   "outputs": [],
   "source": [
    "anon.write_to_output(ext='arrow')"
   ]
  },
  {
   "cell_type": "code",
   "execution_count": 13,
   "metadata": {
    "execution": {
     "iopub.execute_input": "2024-06-18T14:19:58.133754Z",
     "iopub.status.busy": "2024-06-18T14:19:58.133449Z",
     "iopub.status.idle": "2024-06-18T14:19:58.137937Z",
     "shell.execute_reply": "2024-06-18T14:19:58.137394Z"
    }
   },
   "outputs": [
    {
     "data": {
      "text/html": [
       "<div><style>\n",
       ".dataframe > thead > tr,\n",
       ".dataframe > tbody > tr {\n",
       "  text-align: right;\n",
       "  white-space: pre-wrap;\n",
       "}\n",
       "</style>\n",
       "<small>shape: (7, 6)</small><table border=\"1\" class=\"dataframe\"><thead><tr><th>PREDICTOR_0</th><th>PREDICTOR_1</th><th>PREDICTOR_3</th><th>Context_Name</th><th>IH_Web_Inbound_Accepted_pxLastGroupID</th><th>Decision_Outcome</th></tr><tr><td>f64</td><td>str</td><td>str</td><td>str</td><td>str</td><td>str</td></tr></thead><tbody><tr><td>1.7992e18</td><td>&quot;14138276159533664991&quot;</td><td>&quot;6765603423719828582&quot;</td><td>&quot;FirstMortgage30yr&quot;</td><td>&quot;15951300822218250805&quot;</td><td>&quot;Rejected&quot;</td></tr><tr><td>1.3901e19</td><td>&quot;11332387639068343098&quot;</td><td>&quot;1928326046389916721&quot;</td><td>&quot;FirstMortgage30yr&quot;</td><td>&quot;4464183993344040734&quot;</td><td>&quot;Accepted&quot;</td></tr><tr><td>1.5921e19</td><td>&quot;15037561614734899504&quot;</td><td>&quot;4252301341901276901&quot;</td><td>&quot;MoneyMarketSavingsAccount&quot;</td><td>&quot;15951300822218250805&quot;</td><td>&quot;Rejected&quot;</td></tr><tr><td>1.1602e19</td><td>&quot;1303572114386445365&quot;</td><td>&quot;1928326046389916721&quot;</td><td>&quot;BasicChecking&quot;</td><td>&quot;15951300822218250805&quot;</td><td>&quot;Rejected&quot;</td></tr><tr><td>7.4361e18</td><td>&quot;14217832479365246719&quot;</td><td>&quot;6765603423719828582&quot;</td><td>&quot;BasicChecking&quot;</td><td>&quot;13198385440936288050&quot;</td><td>&quot;Accepted&quot;</td></tr><tr><td>1.1067e19</td><td>&quot;11748335234070004762&quot;</td><td>&quot;4252301341901276901&quot;</td><td>&quot;UPlusFinPersonal&quot;</td><td>null</td><td>&quot;Rejected&quot;</td></tr><tr><td>2.4172e18</td><td>&quot;419572297372726588&quot;</td><td>&quot;4252301341901276901&quot;</td><td>&quot;BasicChecking&quot;</td><td>&quot;13198385440936288050&quot;</td><td>&quot;Rejected&quot;</td></tr></tbody></table></div>"
      ],
      "text/plain": [
       "shape: (7, 6)\n",
       "┌─────────────┬────────────────┬────────────────┬────────────────┬────────────────┬────────────────┐\n",
       "│ PREDICTOR_0 ┆ PREDICTOR_1    ┆ PREDICTOR_3    ┆ Context_Name   ┆ IH_Web_Inbound ┆ Decision_Outco │\n",
       "│ ---         ┆ ---            ┆ ---            ┆ ---            ┆ _Accepted_pxLa ┆ me             │\n",
       "│ f64         ┆ str            ┆ str            ┆ str            ┆ st…            ┆ ---            │\n",
       "│             ┆                ┆                ┆                ┆ ---            ┆ str            │\n",
       "│             ┆                ┆                ┆                ┆ str            ┆                │\n",
       "╞═════════════╪════════════════╪════════════════╪════════════════╪════════════════╪════════════════╡\n",
       "│ 1.7992e18   ┆ 14138276159533 ┆ 67656034237198 ┆ FirstMortgage3 ┆ 15951300822218 ┆ Rejected       │\n",
       "│             ┆ 664991         ┆ 28582          ┆ 0yr            ┆ 250805         ┆                │\n",
       "│ 1.3901e19   ┆ 11332387639068 ┆ 19283260463899 ┆ FirstMortgage3 ┆ 44641839933440 ┆ Accepted       │\n",
       "│             ┆ 343098         ┆ 16721          ┆ 0yr            ┆ 40734          ┆                │\n",
       "│ 1.5921e19   ┆ 15037561614734 ┆ 42523013419012 ┆ MoneyMarketSav ┆ 15951300822218 ┆ Rejected       │\n",
       "│             ┆ 899504         ┆ 76901          ┆ ingsAccount    ┆ 250805         ┆                │\n",
       "│ 1.1602e19   ┆ 13035721143864 ┆ 19283260463899 ┆ BasicChecking  ┆ 15951300822218 ┆ Rejected       │\n",
       "│             ┆ 45365          ┆ 16721          ┆                ┆ 250805         ┆                │\n",
       "│ 7.4361e18   ┆ 14217832479365 ┆ 67656034237198 ┆ BasicChecking  ┆ 13198385440936 ┆ Accepted       │\n",
       "│             ┆ 246719         ┆ 28582          ┆                ┆ 288050         ┆                │\n",
       "│ 1.1067e19   ┆ 11748335234070 ┆ 42523013419012 ┆ UPlusFinPerson ┆ null           ┆ Rejected       │\n",
       "│             ┆ 004762         ┆ 76901          ┆ al             ┆                ┆                │\n",
       "│ 2.4172e18   ┆ 41957229737272 ┆ 42523013419012 ┆ BasicChecking  ┆ 13198385440936 ┆ Rejected       │\n",
       "│             ┆ 6588           ┆ 76901          ┆                ┆ 288050         ┆                │\n",
       "└─────────────┴────────────────┴────────────────┴────────────────┴────────────────┴────────────────┘"
      ]
     },
     "execution_count": 13,
     "metadata": {},
     "output_type": "execute_result"
    }
   ],
   "source": [
    "pl.read_ipc('output/hds.arrow')"
   ]
  },
  {
   "attachments": {},
   "cell_type": "markdown",
   "metadata": {
    "nbsphinx": "hidden"
   },
   "source": [
    "## Advanced: Hash fuctions\n",
    "\n",
    "By default, we use [the same hashing algorithm Polars](https://pola-rs.github.io/polars/py-polars/html/reference/expressions/api/polars.Expr.hash.html#polars.Expr.hash) uses: [xxhash](https://github.com/Cyan4973/xxHash), as implemented [here](https://github.com/pola-rs/polars/blob/3f287f370b3c388ed2f3f218b2c096382548136f/polars/polars-core/src/vector_hasher.rs#L266). xxhash is fast to compute, and you can check its performance in collision, dispersion and randomness [here](https://github.com/Cyan4973/xxHash/tree/dev/tests). \n",
    "\n",
    "xxhash accepts four distinct seeds, but by default we set the seeds to `0`. It is possible to set the `seed` argument of the `process()` function to `'random'`, which will set all four seeds to a random integer between `0` and `1000000000`. Alternatively, it is possible to supply the four seeds manually with arguments `seed`, `seed_1`, `seed_2` and `seed_3`. \n",
    "\n",
    "If the xxhash with (random) seed(s) is not deemed sufficiently secure, it is possible to use your own hashing algorithm.\n",
    "\n",
    "Note that since we're now running python code and not native Polars code anymore, this will be _significantly_ slower. Nonetheless, it is possible.\n",
    "\n",
    "Just as an example - this is how one would use sha3_256:"
   ]
  },
  {
   "cell_type": "code",
   "execution_count": 14,
   "metadata": {
    "execution": {
     "iopub.execute_input": "2024-06-18T14:19:58.139983Z",
     "iopub.status.busy": "2024-06-18T14:19:58.139668Z",
     "iopub.status.idle": "2024-06-18T14:19:58.477463Z",
     "shell.execute_reply": "2024-06-18T14:19:58.476944Z"
    },
    "nbsphinx": "hidden"
   },
   "outputs": [
    {
     "name": "stderr",
     "output_type": "stream",
     "text": [
      "sys:1: MapWithoutReturnDtypeWarning:\n",
      "\n",
      "Calling `map_elements` without specifying `return_dtype` can lead to unpredictable results. Specify `return_dtype` to silence this warning.\n",
      "\n",
      "sys:1: MapWithoutReturnDtypeWarning:\n",
      "\n",
      "Calling `map_elements` without specifying `return_dtype` can lead to unpredictable results. Specify `return_dtype` to silence this warning.\n",
      "\n",
      "sys:1: MapWithoutReturnDtypeWarning:\n",
      "\n",
      "Calling `map_elements` without specifying `return_dtype` can lead to unpredictable results. Specify `return_dtype` to silence this warning.\n",
      "\n",
      "sys:1: MapWithoutReturnDtypeWarning:\n",
      "\n",
      "Calling `map_elements` without specifying `return_dtype` can lead to unpredictable results. Specify `return_dtype` to silence this warning.\n",
      "\n"
     ]
    },
    {
     "ename": "ComputeError",
     "evalue": "AttributeError: 'int' object has no attribute 'encode'",
     "output_type": "error",
     "traceback": [
      "\u001b[0;31m---------------------------------------------------------------------------\u001b[0m",
      "\u001b[0;31mComputeError\u001b[0m                              Traceback (most recent call last)",
      "Cell \u001b[0;32mIn[14], line 3\u001b[0m\n\u001b[1;32m      1\u001b[0m \u001b[38;5;28;01mfrom\u001b[39;00m \u001b[38;5;21;01mhashlib\u001b[39;00m \u001b[38;5;28;01mimport\u001b[39;00m sha3_256\n\u001b[0;32m----> 3\u001b[0m \u001b[43manon\u001b[49m\u001b[38;5;241;43m.\u001b[39;49m\u001b[43mprocess\u001b[49m\u001b[43m(\u001b[49m\u001b[43malgorithm\u001b[49m\u001b[38;5;241;43m=\u001b[39;49m\u001b[38;5;28;43;01mlambda\u001b[39;49;00m\u001b[43m \u001b[49m\u001b[43mx\u001b[49m\u001b[43m:\u001b[49m\u001b[43m \u001b[49m\u001b[43msha3_256\u001b[49m\u001b[43m(\u001b[49m\u001b[43mx\u001b[49m\u001b[38;5;241;43m.\u001b[39;49m\u001b[43mencode\u001b[49m\u001b[43m(\u001b[49m\u001b[43m)\u001b[49m\u001b[43m)\u001b[49m\u001b[38;5;241;43m.\u001b[39;49m\u001b[43mhexdigest\u001b[49m\u001b[43m(\u001b[49m\u001b[43m)\u001b[49m\u001b[43m)\u001b[49m\n",
      "File \u001b[0;32m~/work/pega-datascientist-tools/pega-datascientist-tools/python/docs/source/articles/../../../pdstools/utils/hds_utils.py:512\u001b[0m, in \u001b[0;36mDataAnonymization.process\u001b[0;34m(self, strategy, **kwargs)\u001b[0m\n\u001b[1;32m    510\u001b[0m df \u001b[38;5;241m=\u001b[39m df\u001b[38;5;241m.\u001b[39mselect(\u001b[38;5;28mself\u001b[39m\u001b[38;5;241m.\u001b[39mcolumn_mapping\u001b[38;5;241m.\u001b[39mkeys())\u001b[38;5;241m.\u001b[39mrename(\u001b[38;5;28mself\u001b[39m\u001b[38;5;241m.\u001b[39mcolumn_mapping)\n\u001b[1;32m    511\u001b[0m \u001b[38;5;28;01mif\u001b[39;00m strategy \u001b[38;5;241m==\u001b[39m \u001b[38;5;124m\"\u001b[39m\u001b[38;5;124meager\u001b[39m\u001b[38;5;124m\"\u001b[39m:\n\u001b[0;32m--> 512\u001b[0m     \u001b[38;5;28;01mreturn\u001b[39;00m \u001b[43mdf\u001b[49m\u001b[38;5;241;43m.\u001b[39;49m\u001b[43mcollect\u001b[49m\u001b[43m(\u001b[49m\u001b[43m)\u001b[49m\n\u001b[1;32m    513\u001b[0m \u001b[38;5;28;01mreturn\u001b[39;00m df\n",
      "File \u001b[0;32m/opt/hostedtoolcache/Python/3.11.9/x64/lib/python3.11/site-packages/polars/lazyframe/frame.py:1967\u001b[0m, in \u001b[0;36mLazyFrame.collect\u001b[0;34m(self, type_coercion, predicate_pushdown, projection_pushdown, simplify_expression, slice_pushdown, comm_subplan_elim, comm_subexpr_elim, cluster_with_columns, no_optimization, streaming, background, _eager, **_kwargs)\u001b[0m\n\u001b[1;32m   1964\u001b[0m \u001b[38;5;66;03m# Only for testing purposes atm.\u001b[39;00m\n\u001b[1;32m   1965\u001b[0m callback \u001b[38;5;241m=\u001b[39m _kwargs\u001b[38;5;241m.\u001b[39mget(\u001b[38;5;124m\"\u001b[39m\u001b[38;5;124mpost_opt_callback\u001b[39m\u001b[38;5;124m\"\u001b[39m)\n\u001b[0;32m-> 1967\u001b[0m \u001b[38;5;28;01mreturn\u001b[39;00m wrap_df(\u001b[43mldf\u001b[49m\u001b[38;5;241;43m.\u001b[39;49m\u001b[43mcollect\u001b[49m\u001b[43m(\u001b[49m\u001b[43mcallback\u001b[49m\u001b[43m)\u001b[49m)\n",
      "\u001b[0;31mComputeError\u001b[0m: AttributeError: 'int' object has no attribute 'encode'"
     ]
    }
   ],
   "source": [
    "from hashlib import sha3_256\n",
    "\n",
    "anon.process(algorithm=lambda x: sha3_256(x.encode()).hexdigest())"
   ]
  }
 ],
 "metadata": {
  "kernelspec": {
   "display_name": "Python 3",
   "language": "python",
   "name": "python3"
  },
  "language_info": {
   "codemirror_mode": {
    "name": "ipython",
    "version": 3
   },
   "file_extension": ".py",
   "mimetype": "text/x-python",
   "name": "python",
   "nbconvert_exporter": "python",
   "pygments_lexer": "ipython3",
   "version": "3.11.9"
  },
  "vscode": {
   "interpreter": {
    "hash": "aee8b7b246df8f9039afb4144a1f6fd8d2ca17a180786b69acc140d282b71a49"
   }
  }
 },
 "nbformat": 4,
 "nbformat_minor": 2
}
