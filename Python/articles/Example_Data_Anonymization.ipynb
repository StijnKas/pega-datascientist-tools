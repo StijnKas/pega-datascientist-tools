{
 "cells": [
  {
   "attachments": {},
   "cell_type": "markdown",
   "metadata": {},
   "source": [
    "# Example data anonymization\n",
    "\n",
    "In Pega CDH 8.5 and up, it's now possible to record the historical data as seen by the Adaptive Models. See [this academy challenge](https://academy.pega.com/challenge/exporting-historical-data/v4) for reference. This historical data can be further used to experiment with offline models, but also to fine-tune the OOTB Gradient Boosting model. However, sharing this information with Pega can be sensitive as it contains raw predictor data. \n",
    "\n",
    "To this end, we provide a simple and transparent script to fully anonimize this dataset.\n",
    "\n",
    "The DataAnonymization script is now part of pdstools, and you can import it directly as such."
   ]
  },
  {
   "cell_type": "code",
   "execution_count": 1,
   "metadata": {
    "execution": {
     "iopub.execute_input": "2023-10-15T20:14:37.933479Z",
     "iopub.status.busy": "2023-10-15T20:14:37.933266Z",
     "iopub.status.idle": "2023-10-15T20:14:38.015517Z",
     "shell.execute_reply": "2023-10-15T20:14:38.014891Z"
    },
    "nbsphinx": "hidden"
   },
   "outputs": [],
   "source": [
    "# These lines are only for rendering in the docs, and are hidden through Jupyter tags\n",
    "# Do not run if you're running the notebook seperately\n",
    "\n",
    "import os  \n",
    "import sys\n",
    "import plotly.io as pio\n",
    "pio.renderers.default = \"notebook_connected\"\n",
    "\n",
    "sys.path.append(\"../../../\")\n",
    "sys.path.append('../../python')"
   ]
  },
  {
   "cell_type": "code",
   "execution_count": 2,
   "metadata": {
    "execution": {
     "iopub.execute_input": "2023-10-15T20:14:38.018581Z",
     "iopub.status.busy": "2023-10-15T20:14:38.018081Z",
     "iopub.status.idle": "2023-10-15T20:14:39.223837Z",
     "shell.execute_reply": "2023-10-15T20:14:39.223187Z"
    }
   },
   "outputs": [],
   "source": [
    "from pdstools import ADMDatamart\n",
    "from pdstools import Config, DataAnonymization\n",
    "import polars as pl"
   ]
  },
  {
   "attachments": {},
   "cell_type": "markdown",
   "metadata": {},
   "source": [
    "## Input data\n",
    "\n",
    "To demonstrate this process, we're going to anonymise this toy example dataframe:"
   ]
  },
  {
   "cell_type": "code",
   "execution_count": 3,
   "metadata": {
    "execution": {
     "iopub.execute_input": "2023-10-15T20:14:39.227457Z",
     "iopub.status.busy": "2023-10-15T20:14:39.226780Z",
     "iopub.status.idle": "2023-10-15T20:14:39.237928Z",
     "shell.execute_reply": "2023-10-15T20:14:39.237449Z"
    }
   },
   "outputs": [
    {
     "data": {
      "text/html": [
       "<div><style>\n",
       ".dataframe > thead > tr > th,\n",
       ".dataframe > tbody > tr > td {\n",
       "  text-align: right;\n",
       "  white-space: pre-wrap;\n",
       "}\n",
       "</style>\n",
       "<small>shape: (7, 6)</small><table border=\"1\" class=\"dataframe\"><thead><tr><th>Context_Name</th><th>Customer_MaritalStatus</th><th>Customer_CLV</th><th>Customer_City</th><th>IH_Web_Inbound_Accepted_pxLastGroupID</th><th>Decision_Outcome</th></tr><tr><td>str</td><td>str</td><td>i64</td><td>str</td><td>str</td><td>str</td></tr></thead><tbody><tr><td>&quot;FirstMortgage3…</td><td>&quot;Married&quot;</td><td>1460</td><td>&quot;Port Raoul&quot;</td><td>&quot;Account&quot;</td><td>&quot;Rejected&quot;</td></tr><tr><td>&quot;FirstMortgage3…</td><td>&quot;Unknown&quot;</td><td>669</td><td>&quot;Laurianneshire…</td><td>&quot;AutoLoans&quot;</td><td>&quot;Accepted&quot;</td></tr><tr><td>&quot;MoneyMarketSav…</td><td>&quot;No Resp+&quot;</td><td>1174</td><td>&quot;Jacobshaven&quot;</td><td>&quot;Account&quot;</td><td>&quot;Rejected&quot;</td></tr><tr><td>&quot;BasicChecking&quot;</td><td>&quot;Unknown&quot;</td><td>1476</td><td>&quot;Lindton&quot;</td><td>&quot;Account&quot;</td><td>&quot;Rejected&quot;</td></tr><tr><td>&quot;BasicChecking&quot;</td><td>&quot;Married&quot;</td><td>1211</td><td>&quot;South Jimmiesh…</td><td>&quot;DepositAccount…</td><td>&quot;Accepted&quot;</td></tr><tr><td>&quot;UPlusFinPerson…</td><td>&quot;No Resp+&quot;</td><td>533</td><td>&quot;Bergeville&quot;</td><td>null</td><td>&quot;Rejected&quot;</td></tr><tr><td>&quot;BasicChecking&quot;</td><td>&quot;No Resp+&quot;</td><td>555</td><td>&quot;Willyville&quot;</td><td>&quot;DepositAccount…</td><td>&quot;Rejected&quot;</td></tr></tbody></table></div>"
      ],
      "text/plain": [
       "shape: (7, 6)\n",
       "┌────────────────┬────────────────┬──────────────┬────────────────┬────────────────┬───────────────┐\n",
       "│ Context_Name   ┆ Customer_Marit ┆ Customer_CLV ┆ Customer_City  ┆ IH_Web_Inbound ┆ Decision_Outc │\n",
       "│ ---            ┆ alStatus       ┆ ---          ┆ ---            ┆ _Accepted_pxLa ┆ ome           │\n",
       "│ str            ┆ ---            ┆ i64          ┆ str            ┆ stGr…          ┆ ---           │\n",
       "│                ┆ str            ┆              ┆                ┆ ---            ┆ str           │\n",
       "│                ┆                ┆              ┆                ┆ str            ┆               │\n",
       "╞════════════════╪════════════════╪══════════════╪════════════════╪════════════════╪═══════════════╡\n",
       "│ FirstMortgage3 ┆ Married        ┆ 1460         ┆ Port Raoul     ┆ Account        ┆ Rejected      │\n",
       "│ 0yr            ┆                ┆              ┆                ┆                ┆               │\n",
       "│ FirstMortgage3 ┆ Unknown        ┆ 669          ┆ Laurianneshire ┆ AutoLoans      ┆ Accepted      │\n",
       "│ 0yr            ┆                ┆              ┆                ┆                ┆               │\n",
       "│ MoneyMarketSav ┆ No Resp+       ┆ 1174         ┆ Jacobshaven    ┆ Account        ┆ Rejected      │\n",
       "│ ingsAccount    ┆                ┆              ┆                ┆                ┆               │\n",
       "│ BasicChecking  ┆ Unknown        ┆ 1476         ┆ Lindton        ┆ Account        ┆ Rejected      │\n",
       "│ BasicChecking  ┆ Married        ┆ 1211         ┆ South          ┆ DepositAccount ┆ Accepted      │\n",
       "│                ┆                ┆              ┆ Jimmieshire    ┆ s              ┆               │\n",
       "│ UPlusFinPerson ┆ No Resp+       ┆ 533          ┆ Bergeville     ┆ null           ┆ Rejected      │\n",
       "│ al             ┆                ┆              ┆                ┆                ┆               │\n",
       "│ BasicChecking  ┆ No Resp+       ┆ 555          ┆ Willyville     ┆ DepositAccount ┆ Rejected      │\n",
       "│                ┆                ┆              ┆                ┆ s              ┆               │\n",
       "└────────────────┴────────────────┴──────────────┴────────────────┴────────────────┴───────────────┘"
      ]
     },
     "execution_count": 3,
     "metadata": {},
     "output_type": "execute_result"
    }
   ],
   "source": [
    "pl.read_ndjson('../../../../data/SampleHDS.json')"
   ]
  },
  {
   "attachments": {},
   "cell_type": "markdown",
   "metadata": {},
   "source": [
    "As you can see, this dataset consists of regular predictors, IH predictors, context keys and the outcome column. Additionally, some columns are numeric, others are strings. Let's first initialize the DataAnonymization class."
   ]
  },
  {
   "cell_type": "code",
   "execution_count": 4,
   "metadata": {
    "execution": {
     "iopub.execute_input": "2023-10-15T20:14:39.240347Z",
     "iopub.status.busy": "2023-10-15T20:14:39.239953Z",
     "iopub.status.idle": "2023-10-15T20:14:39.248840Z",
     "shell.execute_reply": "2023-10-15T20:14:39.248356Z"
    }
   },
   "outputs": [],
   "source": [
    "anon = DataAnonymization(hds_folder='../../../../data/')"
   ]
  },
  {
   "attachments": {},
   "cell_type": "markdown",
   "metadata": {},
   "source": [
    "By default, the class applies a set of anonymisation techniques:\n",
    "- Column names are remapped to a non-descriptive name\n",
    "- Categorical values are hashed with a random seed\n",
    "- Numerical values are normalized between 0 and 1\n",
    "- Outcomes are mapped to a binary outcome.\n",
    "\n",
    "To apply these techniques, simply call `.process()`:"
   ]
  },
  {
   "cell_type": "code",
   "execution_count": 5,
   "metadata": {
    "execution": {
     "iopub.execute_input": "2023-10-15T20:14:39.251527Z",
     "iopub.status.busy": "2023-10-15T20:14:39.250937Z",
     "iopub.status.idle": "2023-10-15T20:14:39.257496Z",
     "shell.execute_reply": "2023-10-15T20:14:39.257033Z"
    }
   },
   "outputs": [
    {
     "data": {
      "text/html": [
       "<div><style>\n",
       ".dataframe > thead > tr > th,\n",
       ".dataframe > tbody > tr > td {\n",
       "  text-align: right;\n",
       "  white-space: pre-wrap;\n",
       "}\n",
       "</style>\n",
       "<small>shape: (7, 7)</small><table border=\"1\" class=\"dataframe\"><thead><tr><th>PREDICTOR_0</th><th>PREDICTOR_1</th><th>filename</th><th>PREDICTOR_3</th><th>Context_Name</th><th>IH_PREDICTOR_0</th><th>Decision_Outcome</th></tr><tr><td>str</td><td>f64</td><td>str</td><td>str</td><td>str</td><td>str</td><td>bool</td></tr></thead><tbody><tr><td>&quot;83318912981537…</td><td>1.2927e19</td><td>&quot;../../../../da…</td><td>&quot;57847976270922…</td><td>&quot;18374455953048…</td><td>&quot;11227621932841…</td><td>false</td></tr><tr><td>&quot;51563309009820…</td><td>1.4856e19</td><td>&quot;../../../../da…</td><td>&quot;41278027398024…</td><td>&quot;18374455953048…</td><td>&quot;29705885306271…</td><td>true</td></tr><tr><td>&quot;14909955714014…</td><td>5.6458e17</td><td>&quot;../../../../da…</td><td>&quot;18202324371480…</td><td>&quot;10212629181471…</td><td>&quot;11227621932841…</td><td>false</td></tr><tr><td>&quot;48261205406209…</td><td>4.0723e18</td><td>&quot;../../../../da…</td><td>&quot;41278027398024…</td><td>&quot;12214910713788…</td><td>&quot;11227621932841…</td><td>false</td></tr><tr><td>&quot;37823966583355…</td><td>1.4677e19</td><td>&quot;../../../../da…</td><td>&quot;57847976270922…</td><td>&quot;12214910713788…</td><td>&quot;11254444761261…</td><td>true</td></tr><tr><td>&quot;10682335120378…</td><td>1.6330e19</td><td>&quot;../../../../da…</td><td>&quot;18202324371480…</td><td>&quot;18932814853983…</td><td>null</td><td>false</td></tr><tr><td>&quot;49269446906775…</td><td>8.7675e18</td><td>&quot;../../../../da…</td><td>&quot;18202324371480…</td><td>&quot;12214910713788…</td><td>&quot;11254444761261…</td><td>false</td></tr></tbody></table></div>"
      ],
      "text/plain": [
       "shape: (7, 7)\n",
       "┌──────────────┬─────────────┬─────────────┬─────────────┬─────────────┬─────────────┬─────────────┐\n",
       "│ PREDICTOR_0  ┆ PREDICTOR_1 ┆ filename    ┆ PREDICTOR_3 ┆ Context_Nam ┆ IH_PREDICTO ┆ Decision_Ou │\n",
       "│ ---          ┆ ---         ┆ ---         ┆ ---         ┆ e           ┆ R_0         ┆ tcome       │\n",
       "│ str          ┆ f64         ┆ str         ┆ str         ┆ ---         ┆ ---         ┆ ---         │\n",
       "│              ┆             ┆             ┆             ┆ str         ┆ str         ┆ bool        │\n",
       "╞══════════════╪═════════════╪═════════════╪═════════════╪═════════════╪═════════════╪═════════════╡\n",
       "│ 833189129815 ┆ 1.2927e19   ┆ ../../../.. ┆ 57847976270 ┆ 18374455953 ┆ 11227621932 ┆ false       │\n",
       "│ 3763684      ┆             ┆ /data/Sampl ┆ 9228658     ┆ 048584867   ┆ 841587139   ┆             │\n",
       "│              ┆             ┆ eHDS.json   ┆             ┆             ┆             ┆             │\n",
       "│ 515633090098 ┆ 1.4856e19   ┆ ../../../.. ┆ 41278027398 ┆ 18374455953 ┆ 29705885306 ┆ true        │\n",
       "│ 2024169      ┆             ┆ /data/Sampl ┆ 02430607    ┆ 048584867   ┆ 27179592    ┆             │\n",
       "│              ┆             ┆ eHDS.json   ┆             ┆             ┆             ┆             │\n",
       "│ 149099557140 ┆ 5.6458e17   ┆ ../../../.. ┆ 18202324371 ┆ 10212629181 ┆ 11227621932 ┆ false       │\n",
       "│ 14863223     ┆             ┆ /data/Sampl ┆ 48043569    ┆ 47158888    ┆ 841587139   ┆             │\n",
       "│              ┆             ┆ eHDS.json   ┆             ┆             ┆             ┆             │\n",
       "│ 482612054062 ┆ 4.0723e18   ┆ ../../../.. ┆ 41278027398 ┆ 12214910713 ┆ 11227621932 ┆ false       │\n",
       "│ 0902339      ┆             ┆ /data/Sampl ┆ 02430607    ┆ 788884482   ┆ 841587139   ┆             │\n",
       "│              ┆             ┆ eHDS.json   ┆             ┆             ┆             ┆             │\n",
       "│ 378239665833 ┆ 1.4677e19   ┆ ../../../.. ┆ 57847976270 ┆ 12214910713 ┆ 11254444761 ┆ true        │\n",
       "│ 5598004      ┆             ┆ /data/Sampl ┆ 9228658     ┆ 788884482   ┆ 261124479   ┆             │\n",
       "│              ┆             ┆ eHDS.json   ┆             ┆             ┆             ┆             │\n",
       "│ 106823351203 ┆ 1.6330e19   ┆ ../../../.. ┆ 18202324371 ┆ 18932814853 ┆ null        ┆ false       │\n",
       "│ 78244044     ┆             ┆ /data/Sampl ┆ 48043569    ┆ 98316207    ┆             ┆             │\n",
       "│              ┆             ┆ eHDS.json   ┆             ┆             ┆             ┆             │\n",
       "│ 492694469067 ┆ 8.7675e18   ┆ ../../../.. ┆ 18202324371 ┆ 12214910713 ┆ 11254444761 ┆ false       │\n",
       "│ 7523298      ┆             ┆ /data/Sampl ┆ 48043569    ┆ 788884482   ┆ 261124479   ┆             │\n",
       "│              ┆             ┆ eHDS.json   ┆             ┆             ┆             ┆             │\n",
       "└──────────────┴─────────────┴─────────────┴─────────────┴─────────────┴─────────────┴─────────────┘"
      ]
     },
     "execution_count": 5,
     "metadata": {},
     "output_type": "execute_result"
    }
   ],
   "source": [
    "anon.process()"
   ]
  },
  {
   "attachments": {},
   "cell_type": "markdown",
   "metadata": {},
   "source": [
    "To trace back the columns to their original names, the class also contains a mapping, which does not have to be provided."
   ]
  },
  {
   "cell_type": "code",
   "execution_count": 6,
   "metadata": {
    "execution": {
     "iopub.execute_input": "2023-10-15T20:14:39.259764Z",
     "iopub.status.busy": "2023-10-15T20:14:39.259404Z",
     "iopub.status.idle": "2023-10-15T20:14:39.263313Z",
     "shell.execute_reply": "2023-10-15T20:14:39.262863Z"
    }
   },
   "outputs": [
    {
     "data": {
      "text/plain": [
       "{'Customer_City': 'PREDICTOR_0',\n",
       " 'Customer_CLV': 'PREDICTOR_1',\n",
       " 'filename': 'filename',\n",
       " 'Customer_MaritalStatus': 'PREDICTOR_3',\n",
       " 'Context_Name': 'Context_Name',\n",
       " 'IH_Web_Inbound_Accepted_pxLastGroupID': 'IH_PREDICTOR_0',\n",
       " 'Decision_Outcome': 'Decision_Outcome'}"
      ]
     },
     "execution_count": 6,
     "metadata": {},
     "output_type": "execute_result"
    }
   ],
   "source": [
    "anon.column_mapping"
   ]
  },
  {
   "attachments": {},
   "cell_type": "markdown",
   "metadata": {},
   "source": [
    "## Configs\n",
    "\n",
    "Each capability can optionally be turned off - see below for the full list of config options, and refer to the API reference for the full description."
   ]
  },
  {
   "cell_type": "code",
   "execution_count": 7,
   "metadata": {
    "execution": {
     "iopub.execute_input": "2023-10-15T20:14:39.265616Z",
     "iopub.status.busy": "2023-10-15T20:14:39.265244Z",
     "iopub.status.idle": "2023-10-15T20:14:39.269531Z",
     "shell.execute_reply": "2023-10-15T20:14:39.269080Z"
    }
   },
   "outputs": [
    {
     "data": {
      "text/plain": [
       "{'config_file': None,\n",
       " 'hds_folder': '.',\n",
       " 'use_datamart': False,\n",
       " 'datamart_folder': 'datamart',\n",
       " 'output_format': 'ndjson',\n",
       " 'output_folder': 'output',\n",
       " 'mapping_file': 'mapping.map',\n",
       " 'mask_predictor_names': True,\n",
       " 'mask_context_key_names': False,\n",
       " 'mask_ih_names': True,\n",
       " 'mask_outcome_name': False,\n",
       " 'mask_predictor_values': True,\n",
       " 'mask_context_key_values': True,\n",
       " 'mask_ih_values': True,\n",
       " 'mask_outcome_values': True,\n",
       " 'context_key_label': 'Context_*',\n",
       " 'ih_label': 'IH_*',\n",
       " 'outcome_column': 'Decision_Outcome',\n",
       " 'positive_outcomes': ['Accepted', 'Clicked'],\n",
       " 'negative_outcomes': ['Rejected', 'Impression'],\n",
       " 'special_predictors': ['Decision_DecisionTime',\n",
       "  'Decision_OutcomeTime',\n",
       "  'Decision_Rank'],\n",
       " 'sample_percentage_schema_inferencing': 0.01}"
      ]
     },
     "execution_count": 7,
     "metadata": {},
     "output_type": "execute_result"
    }
   ],
   "source": [
    "dict(zip(Config.__init__.__code__.co_varnames[1:], Config.__init__.__defaults__))"
   ]
  },
  {
   "attachments": {},
   "cell_type": "markdown",
   "metadata": {},
   "source": [
    "It's easy to change these parameters by just passing the keyword arguments. In the following example, we\n",
    "- Keep the IH predictor names\n",
    "- Keep the outcome values\n",
    "- Keep the context key values\n",
    "- Keep the context key predictor names"
   ]
  },
  {
   "cell_type": "code",
   "execution_count": 8,
   "metadata": {
    "execution": {
     "iopub.execute_input": "2023-10-15T20:14:39.271786Z",
     "iopub.status.busy": "2023-10-15T20:14:39.271418Z",
     "iopub.status.idle": "2023-10-15T20:14:39.281766Z",
     "shell.execute_reply": "2023-10-15T20:14:39.281302Z"
    }
   },
   "outputs": [
    {
     "data": {
      "text/html": [
       "<div><style>\n",
       ".dataframe > thead > tr > th,\n",
       ".dataframe > tbody > tr > td {\n",
       "  text-align: right;\n",
       "  white-space: pre-wrap;\n",
       "}\n",
       "</style>\n",
       "<small>shape: (7, 7)</small><table border=\"1\" class=\"dataframe\"><thead><tr><th>PREDICTOR_0</th><th>PREDICTOR_1</th><th>filename</th><th>PREDICTOR_3</th><th>Context_Name</th><th>IH_Web_Inbound_Accepted_pxLastGroupID</th><th>Decision_Outcome</th></tr><tr><td>str</td><td>f64</td><td>str</td><td>str</td><td>str</td><td>str</td><td>str</td></tr></thead><tbody><tr><td>&quot;16535204953507…</td><td>1.2927e19</td><td>&quot;../../../../da…</td><td>&quot;62625322098091…</td><td>&quot;FirstMortgage3…</td><td>&quot;14586323338821…</td><td>&quot;Rejected&quot;</td></tr><tr><td>&quot;19970795973504…</td><td>1.4856e19</td><td>&quot;../../../../da…</td><td>&quot;20406723458659…</td><td>&quot;FirstMortgage3…</td><td>&quot;10873588879781…</td><td>&quot;Accepted&quot;</td></tr><tr><td>&quot;85337009451863…</td><td>5.6458e17</td><td>&quot;../../../../da…</td><td>&quot;49073311832626…</td><td>&quot;MoneyMarketSav…</td><td>&quot;14586323338821…</td><td>&quot;Rejected&quot;</td></tr><tr><td>&quot;11954801881438…</td><td>4.0723e18</td><td>&quot;../../../../da…</td><td>&quot;20406723458659…</td><td>&quot;BasicChecking&quot;</td><td>&quot;14586323338821…</td><td>&quot;Rejected&quot;</td></tr><tr><td>&quot;85660206873282…</td><td>1.4677e19</td><td>&quot;../../../../da…</td><td>&quot;62625322098091…</td><td>&quot;BasicChecking&quot;</td><td>&quot;13899034948743…</td><td>&quot;Accepted&quot;</td></tr><tr><td>&quot;15981054426876…</td><td>1.6330e19</td><td>&quot;../../../../da…</td><td>&quot;49073311832626…</td><td>&quot;UPlusFinPerson…</td><td>null</td><td>&quot;Rejected&quot;</td></tr><tr><td>&quot;13989231755866…</td><td>8.7675e18</td><td>&quot;../../../../da…</td><td>&quot;49073311832626…</td><td>&quot;BasicChecking&quot;</td><td>&quot;13899034948743…</td><td>&quot;Rejected&quot;</td></tr></tbody></table></div>"
      ],
      "text/plain": [
       "shape: (7, 7)\n",
       "┌──────────────┬─────────────┬─────────────┬─────────────┬─────────────┬─────────────┬─────────────┐\n",
       "│ PREDICTOR_0  ┆ PREDICTOR_1 ┆ filename    ┆ PREDICTOR_3 ┆ Context_Nam ┆ IH_Web_Inbo ┆ Decision_Ou │\n",
       "│ ---          ┆ ---         ┆ ---         ┆ ---         ┆ e           ┆ und_Accepte ┆ tcome       │\n",
       "│ str          ┆ f64         ┆ str         ┆ str         ┆ ---         ┆ d_pxLastGr… ┆ ---         │\n",
       "│              ┆             ┆             ┆             ┆ str         ┆ ---         ┆ str         │\n",
       "│              ┆             ┆             ┆             ┆             ┆ str         ┆             │\n",
       "╞══════════════╪═════════════╪═════════════╪═════════════╪═════════════╪═════════════╪═════════════╡\n",
       "│ 165352049535 ┆ 1.2927e19   ┆ ../../../.. ┆ 62625322098 ┆ FirstMortga ┆ 14586323338 ┆ Rejected    │\n",
       "│ 07617449     ┆             ┆ /data/Sampl ┆ 09127254    ┆ ge30yr      ┆ 821261586   ┆             │\n",
       "│              ┆             ┆ eHDS.json   ┆             ┆             ┆             ┆             │\n",
       "│ 199707959735 ┆ 1.4856e19   ┆ ../../../.. ┆ 20406723458 ┆ FirstMortga ┆ 10873588879 ┆ Accepted    │\n",
       "│ 0447288      ┆             ┆ /data/Sampl ┆ 65986063    ┆ ge30yr      ┆ 781385564   ┆             │\n",
       "│              ┆             ┆ eHDS.json   ┆             ┆             ┆             ┆             │\n",
       "│ 853370094518 ┆ 5.6458e17   ┆ ../../../.. ┆ 49073311832 ┆ MoneyMarket ┆ 14586323338 ┆ Rejected    │\n",
       "│ 638506       ┆             ┆ /data/Sampl ┆ 6264454     ┆ SavingsAcco ┆ 821261586   ┆             │\n",
       "│              ┆             ┆ eHDS.json   ┆             ┆ unt         ┆             ┆             │\n",
       "│ 119548018814 ┆ 4.0723e18   ┆ ../../../.. ┆ 20406723458 ┆ BasicChecki ┆ 14586323338 ┆ Rejected    │\n",
       "│ 38274225     ┆             ┆ /data/Sampl ┆ 65986063    ┆ ng          ┆ 821261586   ┆             │\n",
       "│              ┆             ┆ eHDS.json   ┆             ┆             ┆             ┆             │\n",
       "│ 856602068732 ┆ 1.4677e19   ┆ ../../../.. ┆ 62625322098 ┆ BasicChecki ┆ 13899034948 ┆ Accepted    │\n",
       "│ 8247538      ┆             ┆ /data/Sampl ┆ 09127254    ┆ ng          ┆ 743753074   ┆             │\n",
       "│              ┆             ┆ eHDS.json   ┆             ┆             ┆             ┆             │\n",
       "│ 159810544268 ┆ 1.6330e19   ┆ ../../../.. ┆ 49073311832 ┆ UPlusFinPer ┆ null        ┆ Rejected    │\n",
       "│ 76780086     ┆             ┆ /data/Sampl ┆ 6264454     ┆ sonal       ┆             ┆             │\n",
       "│              ┆             ┆ eHDS.json   ┆             ┆             ┆             ┆             │\n",
       "│ 139892317558 ┆ 8.7675e18   ┆ ../../../.. ┆ 49073311832 ┆ BasicChecki ┆ 13899034948 ┆ Rejected    │\n",
       "│ 66500433     ┆             ┆ /data/Sampl ┆ 6264454     ┆ ng          ┆ 743753074   ┆             │\n",
       "│              ┆             ┆ eHDS.json   ┆             ┆             ┆             ┆             │\n",
       "└──────────────┴─────────────┴─────────────┴─────────────┴─────────────┴─────────────┴─────────────┘"
      ]
     },
     "execution_count": 8,
     "metadata": {},
     "output_type": "execute_result"
    }
   ],
   "source": [
    "anon = DataAnonymization(\n",
    "    hds_folder=\"../../../../data/\",\n",
    "    mask_ih_names=False,\n",
    "    mask_outcome_values=False,\n",
    "    mask_context_key_values=False,\n",
    "    mask_context_key_names=False,\n",
    ")\n",
    "anon.process()\n"
   ]
  },
  {
   "attachments": {},
   "cell_type": "markdown",
   "metadata": {},
   "source": [
    "The configs can also be written and read as such:"
   ]
  },
  {
   "cell_type": "code",
   "execution_count": 9,
   "metadata": {
    "execution": {
     "iopub.execute_input": "2023-10-15T20:14:39.284117Z",
     "iopub.status.busy": "2023-10-15T20:14:39.283745Z",
     "iopub.status.idle": "2023-10-15T20:14:39.286797Z",
     "shell.execute_reply": "2023-10-15T20:14:39.286306Z"
    }
   },
   "outputs": [],
   "source": [
    "anon.config.save_to_config_file('config.json')"
   ]
  },
  {
   "cell_type": "code",
   "execution_count": 10,
   "metadata": {
    "execution": {
     "iopub.execute_input": "2023-10-15T20:14:39.289243Z",
     "iopub.status.busy": "2023-10-15T20:14:39.288646Z",
     "iopub.status.idle": "2023-10-15T20:14:39.298911Z",
     "shell.execute_reply": "2023-10-15T20:14:39.298412Z"
    }
   },
   "outputs": [
    {
     "data": {
      "text/html": [
       "<div><style>\n",
       ".dataframe > thead > tr > th,\n",
       ".dataframe > tbody > tr > td {\n",
       "  text-align: right;\n",
       "  white-space: pre-wrap;\n",
       "}\n",
       "</style>\n",
       "<small>shape: (7, 7)</small><table border=\"1\" class=\"dataframe\"><thead><tr><th>PREDICTOR_0</th><th>PREDICTOR_1</th><th>filename</th><th>PREDICTOR_3</th><th>Context_Name</th><th>IH_Web_Inbound_Accepted_pxLastGroupID</th><th>Decision_Outcome</th></tr><tr><td>str</td><td>f64</td><td>str</td><td>str</td><td>str</td><td>str</td><td>str</td></tr></thead><tbody><tr><td>&quot;12898679673879…</td><td>1.2927e19</td><td>&quot;../../../../da…</td><td>&quot;65960013387663…</td><td>&quot;FirstMortgage3…</td><td>&quot;14138846264785…</td><td>&quot;Rejected&quot;</td></tr><tr><td>&quot;20424079462173…</td><td>1.4856e19</td><td>&quot;../../../../da…</td><td>&quot;80648366430285…</td><td>&quot;FirstMortgage3…</td><td>&quot;81442128392514…</td><td>&quot;Accepted&quot;</td></tr><tr><td>&quot;13128153050427…</td><td>5.6458e17</td><td>&quot;../../../../da…</td><td>&quot;12631253139663…</td><td>&quot;MoneyMarketSav…</td><td>&quot;14138846264785…</td><td>&quot;Rejected&quot;</td></tr><tr><td>&quot;15184676962781…</td><td>4.0723e18</td><td>&quot;../../../../da…</td><td>&quot;80648366430285…</td><td>&quot;BasicChecking&quot;</td><td>&quot;14138846264785…</td><td>&quot;Rejected&quot;</td></tr><tr><td>&quot;88888859782853…</td><td>1.4677e19</td><td>&quot;../../../../da…</td><td>&quot;65960013387663…</td><td>&quot;BasicChecking&quot;</td><td>&quot;90765462335568…</td><td>&quot;Accepted&quot;</td></tr><tr><td>&quot;14337707045012…</td><td>1.6330e19</td><td>&quot;../../../../da…</td><td>&quot;12631253139663…</td><td>&quot;UPlusFinPerson…</td><td>null</td><td>&quot;Rejected&quot;</td></tr><tr><td>&quot;12748563866367…</td><td>8.7675e18</td><td>&quot;../../../../da…</td><td>&quot;12631253139663…</td><td>&quot;BasicChecking&quot;</td><td>&quot;90765462335568…</td><td>&quot;Rejected&quot;</td></tr></tbody></table></div>"
      ],
      "text/plain": [
       "shape: (7, 7)\n",
       "┌──────────────┬─────────────┬─────────────┬─────────────┬─────────────┬─────────────┬─────────────┐\n",
       "│ PREDICTOR_0  ┆ PREDICTOR_1 ┆ filename    ┆ PREDICTOR_3 ┆ Context_Nam ┆ IH_Web_Inbo ┆ Decision_Ou │\n",
       "│ ---          ┆ ---         ┆ ---         ┆ ---         ┆ e           ┆ und_Accepte ┆ tcome       │\n",
       "│ str          ┆ f64         ┆ str         ┆ str         ┆ ---         ┆ d_pxLastGr… ┆ ---         │\n",
       "│              ┆             ┆             ┆             ┆ str         ┆ ---         ┆ str         │\n",
       "│              ┆             ┆             ┆             ┆             ┆ str         ┆             │\n",
       "╞══════════════╪═════════════╪═════════════╪═════════════╪═════════════╪═════════════╪═════════════╡\n",
       "│ 128986796738 ┆ 1.2927e19   ┆ ../../../.. ┆ 65960013387 ┆ FirstMortga ┆ 14138846264 ┆ Rejected    │\n",
       "│ 79789327     ┆             ┆ /data/Sampl ┆ 66311129    ┆ ge30yr      ┆ 785858932   ┆             │\n",
       "│              ┆             ┆ eHDS.json   ┆             ┆             ┆             ┆             │\n",
       "│ 204240794621 ┆ 1.4856e19   ┆ ../../../.. ┆ 80648366430 ┆ FirstMortga ┆ 81442128392 ┆ Accepted    │\n",
       "│ 7374358      ┆             ┆ /data/Sampl ┆ 28570700    ┆ ge30yr      ┆ 51437550    ┆             │\n",
       "│              ┆             ┆ eHDS.json   ┆             ┆             ┆             ┆             │\n",
       "│ 131281530504 ┆ 5.6458e17   ┆ ../../../.. ┆ 12631253139 ┆ MoneyMarket ┆ 14138846264 ┆ Rejected    │\n",
       "│ 27705234     ┆             ┆ /data/Sampl ┆ 663655096   ┆ SavingsAcco ┆ 785858932   ┆             │\n",
       "│              ┆             ┆ eHDS.json   ┆             ┆ unt         ┆             ┆             │\n",
       "│ 151846769627 ┆ 4.0723e18   ┆ ../../../.. ┆ 80648366430 ┆ BasicChecki ┆ 14138846264 ┆ Rejected    │\n",
       "│ 81420593     ┆             ┆ /data/Sampl ┆ 28570700    ┆ ng          ┆ 785858932   ┆             │\n",
       "│              ┆             ┆ eHDS.json   ┆             ┆             ┆             ┆             │\n",
       "│ 888888597828 ┆ 1.4677e19   ┆ ../../../.. ┆ 65960013387 ┆ BasicChecki ┆ 90765462335 ┆ Accepted    │\n",
       "│ 5367204      ┆             ┆ /data/Sampl ┆ 66311129    ┆ ng          ┆ 56885212    ┆             │\n",
       "│              ┆             ┆ eHDS.json   ┆             ┆             ┆             ┆             │\n",
       "│ 143377070450 ┆ 1.6330e19   ┆ ../../../.. ┆ 12631253139 ┆ UPlusFinPer ┆ null        ┆ Rejected    │\n",
       "│ 12663699     ┆             ┆ /data/Sampl ┆ 663655096   ┆ sonal       ┆             ┆             │\n",
       "│              ┆             ┆ eHDS.json   ┆             ┆             ┆             ┆             │\n",
       "│ 127485638663 ┆ 8.7675e18   ┆ ../../../.. ┆ 12631253139 ┆ BasicChecki ┆ 90765462335 ┆ Rejected    │\n",
       "│ 67565020     ┆             ┆ /data/Sampl ┆ 663655096   ┆ ng          ┆ 56885212    ┆             │\n",
       "│              ┆             ┆ eHDS.json   ┆             ┆             ┆             ┆             │\n",
       "└──────────────┴─────────────┴─────────────┴─────────────┴─────────────┴─────────────┴─────────────┘"
      ]
     },
     "execution_count": 10,
     "metadata": {},
     "output_type": "execute_result"
    }
   ],
   "source": [
    "anon = DataAnonymization(config=Config(config_file='config.json'))\n",
    "anon.process()"
   ]
  },
  {
   "attachments": {},
   "cell_type": "markdown",
   "metadata": {},
   "source": [
    "## Exporting\n",
    "Two functions export:\n",
    "- `create_mapping_file()` writes the mapping file of the predictor names\n",
    "- `write_to_output()` writes the processed dataframe to disk\n",
    "\n",
    "Write to output accepts the following extensions: `[\"ndjson\", \"parquet\", \"arrow\", \"csv\"]`"
   ]
  },
  {
   "cell_type": "code",
   "execution_count": 11,
   "metadata": {
    "execution": {
     "iopub.execute_input": "2023-10-15T20:14:39.301249Z",
     "iopub.status.busy": "2023-10-15T20:14:39.300874Z",
     "iopub.status.idle": "2023-10-15T20:14:39.304677Z",
     "shell.execute_reply": "2023-10-15T20:14:39.304217Z"
    }
   },
   "outputs": [
    {
     "name": "stdout",
     "output_type": "stream",
     "text": [
      "Customer_City=PREDICTOR_0\n",
      "Customer_CLV=PREDICTOR_1\n",
      "filename=filename\n",
      "Customer_MaritalStatus=PREDICTOR_3\n",
      "Context_Name=Context_Name\n",
      "IH_Web_Inbound_Accepted_pxLastGroupID=IH_Web_Inbound_Accepted_pxLastGroupID\n",
      "Decision_Outcome=Decision_Outcome\n",
      "\n"
     ]
    }
   ],
   "source": [
    "anon.create_mapping_file()\n",
    "with open('mapping.map') as f:\n",
    "    print(f.read())"
   ]
  },
  {
   "cell_type": "code",
   "execution_count": 12,
   "metadata": {
    "execution": {
     "iopub.execute_input": "2023-10-15T20:14:39.306995Z",
     "iopub.status.busy": "2023-10-15T20:14:39.306623Z",
     "iopub.status.idle": "2023-10-15T20:14:39.310794Z",
     "shell.execute_reply": "2023-10-15T20:14:39.310319Z"
    }
   },
   "outputs": [],
   "source": [
    "anon.write_to_output(ext='arrow')"
   ]
  },
  {
   "cell_type": "code",
   "execution_count": 13,
   "metadata": {
    "execution": {
     "iopub.execute_input": "2023-10-15T20:14:39.312984Z",
     "iopub.status.busy": "2023-10-15T20:14:39.312632Z",
     "iopub.status.idle": "2023-10-15T20:14:39.317583Z",
     "shell.execute_reply": "2023-10-15T20:14:39.317136Z"
    }
   },
   "outputs": [
    {
     "data": {
      "text/html": [
       "<div><style>\n",
       ".dataframe > thead > tr > th,\n",
       ".dataframe > tbody > tr > td {\n",
       "  text-align: right;\n",
       "  white-space: pre-wrap;\n",
       "}\n",
       "</style>\n",
       "<small>shape: (7, 6)</small><table border=\"1\" class=\"dataframe\"><thead><tr><th>PREDICTOR_0</th><th>PREDICTOR_1</th><th>PREDICTOR_3</th><th>Context_Name</th><th>IH_Web_Inbound_Accepted_pxLastGroupID</th><th>Decision_Outcome</th></tr><tr><td>str</td><td>f64</td><td>str</td><td>str</td><td>str</td><td>str</td></tr></thead><tbody><tr><td>&quot;74697602223244…</td><td>1.2927e19</td><td>&quot;41690924331787…</td><td>&quot;FirstMortgage3…</td><td>&quot;16505806220664…</td><td>&quot;Rejected&quot;</td></tr><tr><td>&quot;41083490152149…</td><td>1.4856e19</td><td>&quot;11899230901545…</td><td>&quot;FirstMortgage3…</td><td>&quot;47282820314931…</td><td>&quot;Accepted&quot;</td></tr><tr><td>&quot;11030505185350…</td><td>5.6458e17</td><td>&quot;26113647216715…</td><td>&quot;MoneyMarketSav…</td><td>&quot;16505806220664…</td><td>&quot;Rejected&quot;</td></tr><tr><td>&quot;10671856624860…</td><td>4.0723e18</td><td>&quot;11899230901545…</td><td>&quot;BasicChecking&quot;</td><td>&quot;16505806220664…</td><td>&quot;Rejected&quot;</td></tr><tr><td>&quot;15133557129338…</td><td>1.4677e19</td><td>&quot;41690924331787…</td><td>&quot;BasicChecking&quot;</td><td>&quot;34616315658425…</td><td>&quot;Accepted&quot;</td></tr><tr><td>&quot;87852777412803…</td><td>1.6330e19</td><td>&quot;26113647216715…</td><td>&quot;UPlusFinPerson…</td><td>null</td><td>&quot;Rejected&quot;</td></tr><tr><td>&quot;10559262882973…</td><td>8.7675e18</td><td>&quot;26113647216715…</td><td>&quot;BasicChecking&quot;</td><td>&quot;34616315658425…</td><td>&quot;Rejected&quot;</td></tr></tbody></table></div>"
      ],
      "text/plain": [
       "shape: (7, 6)\n",
       "┌────────────────┬─────────────┬────────────────┬────────────────┬────────────────┬────────────────┐\n",
       "│ PREDICTOR_0    ┆ PREDICTOR_1 ┆ PREDICTOR_3    ┆ Context_Name   ┆ IH_Web_Inbound ┆ Decision_Outco │\n",
       "│ ---            ┆ ---         ┆ ---            ┆ ---            ┆ _Accepted_pxLa ┆ me             │\n",
       "│ str            ┆ f64         ┆ str            ┆ str            ┆ stGr…          ┆ ---            │\n",
       "│                ┆             ┆                ┆                ┆ ---            ┆ str            │\n",
       "│                ┆             ┆                ┆                ┆ str            ┆                │\n",
       "╞════════════════╪═════════════╪════════════════╪════════════════╪════════════════╪════════════════╡\n",
       "│ 74697602223244 ┆ 1.2927e19   ┆ 41690924331787 ┆ FirstMortgage3 ┆ 16505806220664 ┆ Rejected       │\n",
       "│ 75227          ┆             ┆ 89825          ┆ 0yr            ┆ 938738         ┆                │\n",
       "│ 41083490152149 ┆ 1.4856e19   ┆ 11899230901545 ┆ FirstMortgage3 ┆ 47282820314931 ┆ Accepted       │\n",
       "│ 18407          ┆             ┆ 238            ┆ 0yr            ┆ 60688          ┆                │\n",
       "│ 11030505185350 ┆ 5.6458e17   ┆ 26113647216715 ┆ MoneyMarketSav ┆ 16505806220664 ┆ Rejected       │\n",
       "│ 533590         ┆             ┆ 40036          ┆ ingsAccount    ┆ 938738         ┆                │\n",
       "│ 10671856624860 ┆ 4.0723e18   ┆ 11899230901545 ┆ BasicChecking  ┆ 16505806220664 ┆ Rejected       │\n",
       "│ 757300         ┆             ┆ 238            ┆                ┆ 938738         ┆                │\n",
       "│ 15133557129338 ┆ 1.4677e19   ┆ 41690924331787 ┆ BasicChecking  ┆ 34616315658425 ┆ Accepted       │\n",
       "│ 494395         ┆             ┆ 89825          ┆                ┆ 32712          ┆                │\n",
       "│ 87852777412803 ┆ 1.6330e19   ┆ 26113647216715 ┆ UPlusFinPerson ┆ null           ┆ Rejected       │\n",
       "│ 7083           ┆             ┆ 40036          ┆ al             ┆                ┆                │\n",
       "│ 10559262882973 ┆ 8.7675e18   ┆ 26113647216715 ┆ BasicChecking  ┆ 34616315658425 ┆ Rejected       │\n",
       "│ 780309         ┆             ┆ 40036          ┆                ┆ 32712          ┆                │\n",
       "└────────────────┴─────────────┴────────────────┴────────────────┴────────────────┴────────────────┘"
      ]
     },
     "execution_count": 13,
     "metadata": {},
     "output_type": "execute_result"
    }
   ],
   "source": [
    "pl.read_ipc('output/hds.arrow')"
   ]
  },
  {
   "attachments": {},
   "cell_type": "markdown",
   "metadata": {
    "nbsphinx": "hidden"
   },
   "source": [
    "## Advanced: Hash fuctions\n",
    "\n",
    "By default, we use [the same hashing algorithm Polars](https://pola-rs.github.io/polars/py-polars/html/reference/expressions/api/polars.Expr.hash.html#polars.Expr.hash) uses: [xxhash](https://github.com/Cyan4973/xxHash), as implemented [here](https://github.com/pola-rs/polars/blob/3f287f370b3c388ed2f3f218b2c096382548136f/polars/polars-core/src/vector_hasher.rs#L266). xxhash is fast to compute, and you can check its performance in collision, dispersion and randomness [here](https://github.com/Cyan4973/xxHash/tree/dev/tests). \n",
    "\n",
    "xxhash accepts four distinct seeds, but by default we set the seeds to `0`. It is possible to set the `seed` argument of the `process()` function to `'random'`, which will set all four seeds to a random integer between `0` and `1000000000`. Alternatively, it is possible to supply the four seeds manually with arguments `seed`, `seed_1`, `seed_2` and `seed_3`. \n",
    "\n",
    "If the xxhash with (random) seed(s) is not deemed sufficiently secure, it is possible to use your own hashing algorithm.\n",
    "\n",
    "Note that since we're now running python code and not native Polars code anymore, this will be _significantly_ slower. Nonetheless, it is possible.\n",
    "\n",
    "Just as an example - this is how one would use sha3_256:"
   ]
  },
  {
   "cell_type": "code",
   "execution_count": 14,
   "metadata": {
    "execution": {
     "iopub.execute_input": "2023-10-15T20:14:39.319819Z",
     "iopub.status.busy": "2023-10-15T20:14:39.319464Z",
     "iopub.status.idle": "2023-10-15T20:14:39.707904Z",
     "shell.execute_reply": "2023-10-15T20:14:39.707277Z"
    },
    "nbsphinx": "hidden"
   },
   "outputs": [
    {
     "ename": "ComputeError",
     "evalue": "AttributeError: 'int' object has no attribute 'encode'",
     "output_type": "error",
     "traceback": [
      "\u001b[0;31m---------------------------------------------------------------------------\u001b[0m",
      "\u001b[0;31mComputeError\u001b[0m                              Traceback (most recent call last)",
      "Cell \u001b[0;32mIn[14], line 3\u001b[0m\n\u001b[1;32m      1\u001b[0m \u001b[38;5;28;01mfrom\u001b[39;00m \u001b[38;5;21;01mhashlib\u001b[39;00m \u001b[38;5;28;01mimport\u001b[39;00m sha3_256\n\u001b[0;32m----> 3\u001b[0m \u001b[43manon\u001b[49m\u001b[38;5;241;43m.\u001b[39;49m\u001b[43mprocess\u001b[49m\u001b[43m(\u001b[49m\u001b[43malgorithm\u001b[49m\u001b[38;5;241;43m=\u001b[39;49m\u001b[38;5;28;43;01mlambda\u001b[39;49;00m\u001b[43m \u001b[49m\u001b[43mx\u001b[49m\u001b[43m:\u001b[49m\u001b[43m \u001b[49m\u001b[43msha3_256\u001b[49m\u001b[43m(\u001b[49m\u001b[43mx\u001b[49m\u001b[38;5;241;43m.\u001b[39;49m\u001b[43mencode\u001b[49m\u001b[43m(\u001b[49m\u001b[43m)\u001b[49m\u001b[43m)\u001b[49m\u001b[38;5;241;43m.\u001b[39;49m\u001b[43mhexdigest\u001b[49m\u001b[43m(\u001b[49m\u001b[43m)\u001b[49m\u001b[43m)\u001b[49m\n",
      "File \u001b[0;32m~/work/pega-datascientist-tools/pega-datascientist-tools/python/docs/source/articles/../../../pdstools/utils/hds_utils.py:516\u001b[0m, in \u001b[0;36mDataAnonymization.process\u001b[0;34m(self, strategy, **kwargs)\u001b[0m\n\u001b[1;32m    514\u001b[0m df \u001b[38;5;241m=\u001b[39m df\u001b[38;5;241m.\u001b[39mselect(\u001b[38;5;28mself\u001b[39m\u001b[38;5;241m.\u001b[39mcolumn_mapping\u001b[38;5;241m.\u001b[39mkeys())\u001b[38;5;241m.\u001b[39mrename(\u001b[38;5;28mself\u001b[39m\u001b[38;5;241m.\u001b[39mcolumn_mapping)\n\u001b[1;32m    515\u001b[0m \u001b[38;5;28;01mif\u001b[39;00m strategy \u001b[38;5;241m==\u001b[39m \u001b[38;5;124m\"\u001b[39m\u001b[38;5;124meager\u001b[39m\u001b[38;5;124m\"\u001b[39m:\n\u001b[0;32m--> 516\u001b[0m     \u001b[38;5;28;01mreturn\u001b[39;00m \u001b[43mdf\u001b[49m\u001b[38;5;241;43m.\u001b[39;49m\u001b[43mcollect\u001b[49m\u001b[43m(\u001b[49m\u001b[43m)\u001b[49m\n\u001b[1;32m    517\u001b[0m \u001b[38;5;28;01mreturn\u001b[39;00m df\n",
      "File \u001b[0;32m/opt/hostedtoolcache/Python/3.11.5/x64/lib/python3.11/site-packages/polars/utils/deprecation.py:95\u001b[0m, in \u001b[0;36mdeprecate_renamed_parameter.<locals>.decorate.<locals>.wrapper\u001b[0;34m(*args, **kwargs)\u001b[0m\n\u001b[1;32m     90\u001b[0m \u001b[38;5;129m@wraps\u001b[39m(function)\n\u001b[1;32m     91\u001b[0m \u001b[38;5;28;01mdef\u001b[39;00m \u001b[38;5;21mwrapper\u001b[39m(\u001b[38;5;241m*\u001b[39margs: P\u001b[38;5;241m.\u001b[39margs, \u001b[38;5;241m*\u001b[39m\u001b[38;5;241m*\u001b[39mkwargs: P\u001b[38;5;241m.\u001b[39mkwargs) \u001b[38;5;241m-\u001b[39m\u001b[38;5;241m>\u001b[39m T:\n\u001b[1;32m     92\u001b[0m     _rename_keyword_argument(\n\u001b[1;32m     93\u001b[0m         old_name, new_name, kwargs, function\u001b[38;5;241m.\u001b[39m\u001b[38;5;18m__name__\u001b[39m, version\n\u001b[1;32m     94\u001b[0m     )\n\u001b[0;32m---> 95\u001b[0m     \u001b[38;5;28;01mreturn\u001b[39;00m \u001b[43mfunction\u001b[49m\u001b[43m(\u001b[49m\u001b[38;5;241;43m*\u001b[39;49m\u001b[43margs\u001b[49m\u001b[43m,\u001b[49m\u001b[43m \u001b[49m\u001b[38;5;241;43m*\u001b[39;49m\u001b[38;5;241;43m*\u001b[39;49m\u001b[43mkwargs\u001b[49m\u001b[43m)\u001b[49m\n",
      "File \u001b[0;32m/opt/hostedtoolcache/Python/3.11.5/x64/lib/python3.11/site-packages/polars/lazyframe/frame.py:1711\u001b[0m, in \u001b[0;36mLazyFrame.collect\u001b[0;34m(self, type_coercion, predicate_pushdown, projection_pushdown, simplify_expression, no_optimization, slice_pushdown, comm_subplan_elim, comm_subexpr_elim, streaming, **kwargs)\u001b[0m\n\u001b[1;32m   1698\u001b[0m     comm_subplan_elim \u001b[38;5;241m=\u001b[39m \u001b[38;5;28;01mFalse\u001b[39;00m\n\u001b[1;32m   1700\u001b[0m ldf \u001b[38;5;241m=\u001b[39m \u001b[38;5;28mself\u001b[39m\u001b[38;5;241m.\u001b[39m_ldf\u001b[38;5;241m.\u001b[39moptimization_toggle(\n\u001b[1;32m   1701\u001b[0m     type_coercion,\n\u001b[1;32m   1702\u001b[0m     predicate_pushdown,\n\u001b[0;32m   (...)\u001b[0m\n\u001b[1;32m   1709\u001b[0m     eager,\n\u001b[1;32m   1710\u001b[0m )\n\u001b[0;32m-> 1711\u001b[0m \u001b[38;5;28;01mreturn\u001b[39;00m wrap_df(ldf\u001b[38;5;241m.\u001b[39mcollect())\n",
      "\u001b[0;31mComputeError\u001b[0m: AttributeError: 'int' object has no attribute 'encode'"
     ]
    }
   ],
   "source": [
    "from hashlib import sha3_256\n",
    "\n",
    "anon.process(algorithm=lambda x: sha3_256(x.encode()).hexdigest())"
   ]
  }
 ],
 "metadata": {
  "kernelspec": {
   "display_name": "Python 3",
   "language": "python",
   "name": "python3"
  },
  "language_info": {
   "codemirror_mode": {
    "name": "ipython",
    "version": 3
   },
   "file_extension": ".py",
   "mimetype": "text/x-python",
   "name": "python",
   "nbconvert_exporter": "python",
   "pygments_lexer": "ipython3",
   "version": "3.11.5"
  },
  "vscode": {
   "interpreter": {
    "hash": "aee8b7b246df8f9039afb4144a1f6fd8d2ca17a180786b69acc140d282b71a49"
   }
  }
 },
 "nbformat": 4,
 "nbformat_minor": 2
}
