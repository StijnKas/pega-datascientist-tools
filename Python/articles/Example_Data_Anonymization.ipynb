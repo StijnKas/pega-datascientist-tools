{
 "cells": [
  {
   "attachments": {},
   "cell_type": "markdown",
   "metadata": {},
   "source": [
    "# Data Anonymization\n",
    "\n",
    "In Pega CDH 8.5 and up, it's now possible to record the historical data as seen by the Adaptive Models. See [this academy challenge](https://academy.pega.com/challenge/exporting-historical-data/v4) for reference. This historical data can be further used to experiment with offline models, but also to fine-tune the OOTB Gradient Boosting model. However, sharing this information with Pega can be sensitive as it contains raw predictor data. \n",
    "\n",
    "To this end, we provide a simple and transparent script to fully anonimize this dataset.\n",
    "\n",
    "The DataAnonymization script is now part of pdstools, and you can import it directly as such."
   ]
  },
  {
   "cell_type": "code",
   "execution_count": 1,
   "metadata": {
    "execution": {
     "iopub.execute_input": "2023-12-08T14:17:17.561295Z",
     "iopub.status.busy": "2023-12-08T14:17:17.560947Z",
     "iopub.status.idle": "2023-12-08T14:17:17.629453Z",
     "shell.execute_reply": "2023-12-08T14:17:17.628956Z"
    },
    "nbsphinx": "hidden"
   },
   "outputs": [],
   "source": [
    "# These lines are only for rendering in the docs, and are hidden through Jupyter tags\n",
    "# Do not run if you're running the notebook seperately\n",
    "\n",
    "import os  \n",
    "import sys\n",
    "import plotly.io as pio\n",
    "pio.renderers.default = \"notebook_connected\"\n",
    "\n",
    "sys.path.append(\"../../../\")\n",
    "sys.path.append('../../python')"
   ]
  },
  {
   "cell_type": "code",
   "execution_count": 2,
   "metadata": {
    "execution": {
     "iopub.execute_input": "2023-12-08T14:17:17.631289Z",
     "iopub.status.busy": "2023-12-08T14:17:17.631134Z",
     "iopub.status.idle": "2023-12-08T14:17:18.645229Z",
     "shell.execute_reply": "2023-12-08T14:17:18.644617Z"
    }
   },
   "outputs": [],
   "source": [
    "from pdstools import ADMDatamart\n",
    "from pdstools import Config, DataAnonymization\n",
    "import polars as pl"
   ]
  },
  {
   "attachments": {},
   "cell_type": "markdown",
   "metadata": {},
   "source": [
    "## Input data\n",
    "\n",
    "To demonstrate this process, we're going to anonymise this toy example dataframe:"
   ]
  },
  {
   "cell_type": "code",
   "execution_count": 3,
   "metadata": {
    "execution": {
     "iopub.execute_input": "2023-12-08T14:17:18.648049Z",
     "iopub.status.busy": "2023-12-08T14:17:18.647560Z",
     "iopub.status.idle": "2023-12-08T14:17:18.656586Z",
     "shell.execute_reply": "2023-12-08T14:17:18.655962Z"
    }
   },
   "outputs": [
    {
     "data": {
      "text/html": [
       "<div><style>\n",
       ".dataframe > thead > tr > th,\n",
       ".dataframe > tbody > tr > td {\n",
       "  text-align: right;\n",
       "  white-space: pre-wrap;\n",
       "}\n",
       "</style>\n",
       "<small>shape: (7, 6)</small><table border=\"1\" class=\"dataframe\"><thead><tr><th>Context_Name</th><th>Customer_MaritalStatus</th><th>Customer_CLV</th><th>Customer_City</th><th>IH_Web_Inbound_Accepted_pxLastGroupID</th><th>Decision_Outcome</th></tr><tr><td>str</td><td>str</td><td>i64</td><td>str</td><td>str</td><td>str</td></tr></thead><tbody><tr><td>&quot;FirstMortgage3…</td><td>&quot;Married&quot;</td><td>1460</td><td>&quot;Port Raoul&quot;</td><td>&quot;Account&quot;</td><td>&quot;Rejected&quot;</td></tr><tr><td>&quot;FirstMortgage3…</td><td>&quot;Unknown&quot;</td><td>669</td><td>&quot;Laurianneshire…</td><td>&quot;AutoLoans&quot;</td><td>&quot;Accepted&quot;</td></tr><tr><td>&quot;MoneyMarketSav…</td><td>&quot;No Resp+&quot;</td><td>1174</td><td>&quot;Jacobshaven&quot;</td><td>&quot;Account&quot;</td><td>&quot;Rejected&quot;</td></tr><tr><td>&quot;BasicChecking&quot;</td><td>&quot;Unknown&quot;</td><td>1476</td><td>&quot;Lindton&quot;</td><td>&quot;Account&quot;</td><td>&quot;Rejected&quot;</td></tr><tr><td>&quot;BasicChecking&quot;</td><td>&quot;Married&quot;</td><td>1211</td><td>&quot;South Jimmiesh…</td><td>&quot;DepositAccount…</td><td>&quot;Accepted&quot;</td></tr><tr><td>&quot;UPlusFinPerson…</td><td>&quot;No Resp+&quot;</td><td>533</td><td>&quot;Bergeville&quot;</td><td>null</td><td>&quot;Rejected&quot;</td></tr><tr><td>&quot;BasicChecking&quot;</td><td>&quot;No Resp+&quot;</td><td>555</td><td>&quot;Willyville&quot;</td><td>&quot;DepositAccount…</td><td>&quot;Rejected&quot;</td></tr></tbody></table></div>"
      ],
      "text/plain": [
       "shape: (7, 6)\n",
       "┌────────────────┬────────────────┬──────────────┬────────────────┬────────────────┬───────────────┐\n",
       "│ Context_Name   ┆ Customer_Marit ┆ Customer_CLV ┆ Customer_City  ┆ IH_Web_Inbound ┆ Decision_Outc │\n",
       "│ ---            ┆ alStatus       ┆ ---          ┆ ---            ┆ _Accepted_pxLa ┆ ome           │\n",
       "│ str            ┆ ---            ┆ i64          ┆ str            ┆ stGr…          ┆ ---           │\n",
       "│                ┆ str            ┆              ┆                ┆ ---            ┆ str           │\n",
       "│                ┆                ┆              ┆                ┆ str            ┆               │\n",
       "╞════════════════╪════════════════╪══════════════╪════════════════╪════════════════╪═══════════════╡\n",
       "│ FirstMortgage3 ┆ Married        ┆ 1460         ┆ Port Raoul     ┆ Account        ┆ Rejected      │\n",
       "│ 0yr            ┆                ┆              ┆                ┆                ┆               │\n",
       "│ FirstMortgage3 ┆ Unknown        ┆ 669          ┆ Laurianneshire ┆ AutoLoans      ┆ Accepted      │\n",
       "│ 0yr            ┆                ┆              ┆                ┆                ┆               │\n",
       "│ MoneyMarketSav ┆ No Resp+       ┆ 1174         ┆ Jacobshaven    ┆ Account        ┆ Rejected      │\n",
       "│ ingsAccount    ┆                ┆              ┆                ┆                ┆               │\n",
       "│ BasicChecking  ┆ Unknown        ┆ 1476         ┆ Lindton        ┆ Account        ┆ Rejected      │\n",
       "│ BasicChecking  ┆ Married        ┆ 1211         ┆ South          ┆ DepositAccount ┆ Accepted      │\n",
       "│                ┆                ┆              ┆ Jimmieshire    ┆ s              ┆               │\n",
       "│ UPlusFinPerson ┆ No Resp+       ┆ 533          ┆ Bergeville     ┆ null           ┆ Rejected      │\n",
       "│ al             ┆                ┆              ┆                ┆                ┆               │\n",
       "│ BasicChecking  ┆ No Resp+       ┆ 555          ┆ Willyville     ┆ DepositAccount ┆ Rejected      │\n",
       "│                ┆                ┆              ┆                ┆ s              ┆               │\n",
       "└────────────────┴────────────────┴──────────────┴────────────────┴────────────────┴───────────────┘"
      ]
     },
     "execution_count": 3,
     "metadata": {},
     "output_type": "execute_result"
    }
   ],
   "source": [
    "pl.read_ndjson('../../../../data/SampleHDS.json')"
   ]
  },
  {
   "attachments": {},
   "cell_type": "markdown",
   "metadata": {},
   "source": [
    "As you can see, this dataset consists of regular predictors, IH predictors, context keys and the outcome column. Additionally, some columns are numeric, others are strings. Let's first initialize the DataAnonymization class."
   ]
  },
  {
   "cell_type": "code",
   "execution_count": 4,
   "metadata": {
    "execution": {
     "iopub.execute_input": "2023-12-08T14:17:18.658759Z",
     "iopub.status.busy": "2023-12-08T14:17:18.658428Z",
     "iopub.status.idle": "2023-12-08T14:17:18.666922Z",
     "shell.execute_reply": "2023-12-08T14:17:18.666394Z"
    }
   },
   "outputs": [],
   "source": [
    "anon = DataAnonymization(hds_folder='../../../../data/')"
   ]
  },
  {
   "attachments": {},
   "cell_type": "markdown",
   "metadata": {},
   "source": [
    "By default, the class applies a set of anonymisation techniques:\n",
    "- Column names are remapped to a non-descriptive name\n",
    "- Categorical values are hashed with a random seed\n",
    "- Numerical values are normalized between 0 and 1\n",
    "- Outcomes are mapped to a binary outcome.\n",
    "\n",
    "To apply these techniques, simply call `.process()`:"
   ]
  },
  {
   "cell_type": "code",
   "execution_count": 5,
   "metadata": {
    "execution": {
     "iopub.execute_input": "2023-12-08T14:17:18.669090Z",
     "iopub.status.busy": "2023-12-08T14:17:18.668788Z",
     "iopub.status.idle": "2023-12-08T14:17:18.674427Z",
     "shell.execute_reply": "2023-12-08T14:17:18.673905Z"
    }
   },
   "outputs": [
    {
     "data": {
      "text/html": [
       "<div><style>\n",
       ".dataframe > thead > tr > th,\n",
       ".dataframe > tbody > tr > td {\n",
       "  text-align: right;\n",
       "  white-space: pre-wrap;\n",
       "}\n",
       "</style>\n",
       "<small>shape: (7, 7)</small><table border=\"1\" class=\"dataframe\"><thead><tr><th>PREDICTOR_0</th><th>PREDICTOR_1</th><th>PREDICTOR_2</th><th>filename</th><th>Context_Name</th><th>IH_PREDICTOR_0</th><th>Decision_Outcome</th></tr><tr><td>str</td><td>f64</td><td>str</td><td>str</td><td>str</td><td>str</td><td>bool</td></tr></thead><tbody><tr><td>&quot;16427590586955…</td><td>1.2927e19</td><td>&quot;13748672593630…</td><td>&quot;../../../../da…</td><td>&quot;53137716125203…</td><td>&quot;17552472426760…</td><td>false</td></tr><tr><td>&quot;11067861697039…</td><td>1.4856e19</td><td>&quot;17509456300894…</td><td>&quot;../../../../da…</td><td>&quot;53137716125203…</td><td>&quot;74957852055780…</td><td>true</td></tr><tr><td>&quot;89387067670103…</td><td>5.6458e17</td><td>&quot;17901602127942…</td><td>&quot;../../../../da…</td><td>&quot;17116018937744…</td><td>&quot;17552472426760…</td><td>false</td></tr><tr><td>&quot;11067861697039…</td><td>4.0723e18</td><td>&quot;36496892364288…</td><td>&quot;../../../../da…</td><td>&quot;16242725016215…</td><td>&quot;17552472426760…</td><td>false</td></tr><tr><td>&quot;16427590586955…</td><td>1.4677e19</td><td>&quot;13827620911066…</td><td>&quot;../../../../da…</td><td>&quot;16242725016215…</td><td>&quot;91308170353926…</td><td>true</td></tr><tr><td>&quot;89387067670103…</td><td>1.6330e19</td><td>&quot;13772735269729…</td><td>&quot;../../../../da…</td><td>&quot;67235646795367…</td><td>null</td><td>false</td></tr><tr><td>&quot;89387067670103…</td><td>8.7675e18</td><td>&quot;55761170721680…</td><td>&quot;../../../../da…</td><td>&quot;16242725016215…</td><td>&quot;91308170353926…</td><td>false</td></tr></tbody></table></div>"
      ],
      "text/plain": [
       "shape: (7, 7)\n",
       "┌──────────────┬─────────────┬─────────────┬─────────────┬─────────────┬─────────────┬─────────────┐\n",
       "│ PREDICTOR_0  ┆ PREDICTOR_1 ┆ PREDICTOR_2 ┆ filename    ┆ Context_Nam ┆ IH_PREDICTO ┆ Decision_Ou │\n",
       "│ ---          ┆ ---         ┆ ---         ┆ ---         ┆ e           ┆ R_0         ┆ tcome       │\n",
       "│ str          ┆ f64         ┆ str         ┆ str         ┆ ---         ┆ ---         ┆ ---         │\n",
       "│              ┆             ┆             ┆             ┆ str         ┆ str         ┆ bool        │\n",
       "╞══════════════╪═════════════╪═════════════╪═════════════╪═════════════╪═════════════╪═════════════╡\n",
       "│ 164275905869 ┆ 1.2927e19   ┆ 13748672593 ┆ ../../../.. ┆ 53137716125 ┆ 17552472426 ┆ false       │\n",
       "│ 55569894     ┆             ┆ 630194812   ┆ /data/Sampl ┆ 20339106    ┆ 760716884   ┆             │\n",
       "│              ┆             ┆             ┆ eHDS.json   ┆             ┆             ┆             │\n",
       "│ 110678616970 ┆ 1.4856e19   ┆ 17509456300 ┆ ../../../.. ┆ 53137716125 ┆ 74957852055 ┆ true        │\n",
       "│ 39041265     ┆             ┆ 894527758   ┆ /data/Sampl ┆ 20339106    ┆ 7805139     ┆             │\n",
       "│              ┆             ┆             ┆ eHDS.json   ┆             ┆             ┆             │\n",
       "│ 893870676701 ┆ 5.6458e17   ┆ 17901602127 ┆ ../../../.. ┆ 17116018937 ┆ 17552472426 ┆ false       │\n",
       "│ 0369879      ┆             ┆ 942959277   ┆ /data/Sampl ┆ 744833355   ┆ 760716884   ┆             │\n",
       "│              ┆             ┆             ┆ eHDS.json   ┆             ┆             ┆             │\n",
       "│ 110678616970 ┆ 4.0723e18   ┆ 36496892364 ┆ ../../../.. ┆ 16242725016 ┆ 17552472426 ┆ false       │\n",
       "│ 39041265     ┆             ┆ 28828261    ┆ /data/Sampl ┆ 215788788   ┆ 760716884   ┆             │\n",
       "│              ┆             ┆             ┆ eHDS.json   ┆             ┆             ┆             │\n",
       "│ 164275905869 ┆ 1.4677e19   ┆ 13827620911 ┆ ../../../.. ┆ 16242725016 ┆ 91308170353 ┆ true        │\n",
       "│ 55569894     ┆             ┆ 066067069   ┆ /data/Sampl ┆ 215788788   ┆ 92629585    ┆             │\n",
       "│              ┆             ┆             ┆ eHDS.json   ┆             ┆             ┆             │\n",
       "│ 893870676701 ┆ 1.6330e19   ┆ 13772735269 ┆ ../../../.. ┆ 67235646795 ┆ null        ┆ false       │\n",
       "│ 0369879      ┆             ┆ 729909727   ┆ /data/Sampl ┆ 36780194    ┆             ┆             │\n",
       "│              ┆             ┆             ┆ eHDS.json   ┆             ┆             ┆             │\n",
       "│ 893870676701 ┆ 8.7675e18   ┆ 55761170721 ┆ ../../../.. ┆ 16242725016 ┆ 91308170353 ┆ false       │\n",
       "│ 0369879      ┆             ┆ 68096822    ┆ /data/Sampl ┆ 215788788   ┆ 92629585    ┆             │\n",
       "│              ┆             ┆             ┆ eHDS.json   ┆             ┆             ┆             │\n",
       "└──────────────┴─────────────┴─────────────┴─────────────┴─────────────┴─────────────┴─────────────┘"
      ]
     },
     "execution_count": 5,
     "metadata": {},
     "output_type": "execute_result"
    }
   ],
   "source": [
    "anon.process()"
   ]
  },
  {
   "attachments": {},
   "cell_type": "markdown",
   "metadata": {},
   "source": [
    "To trace back the columns to their original names, the class also contains a mapping, which does not have to be provided."
   ]
  },
  {
   "cell_type": "code",
   "execution_count": 6,
   "metadata": {
    "execution": {
     "iopub.execute_input": "2023-12-08T14:17:18.676499Z",
     "iopub.status.busy": "2023-12-08T14:17:18.676196Z",
     "iopub.status.idle": "2023-12-08T14:17:18.679727Z",
     "shell.execute_reply": "2023-12-08T14:17:18.679275Z"
    }
   },
   "outputs": [
    {
     "data": {
      "text/plain": [
       "{'Customer_MaritalStatus': 'PREDICTOR_0',\n",
       " 'Customer_CLV': 'PREDICTOR_1',\n",
       " 'Customer_City': 'PREDICTOR_2',\n",
       " 'filename': 'filename',\n",
       " 'Context_Name': 'Context_Name',\n",
       " 'IH_Web_Inbound_Accepted_pxLastGroupID': 'IH_PREDICTOR_0',\n",
       " 'Decision_Outcome': 'Decision_Outcome'}"
      ]
     },
     "execution_count": 6,
     "metadata": {},
     "output_type": "execute_result"
    }
   ],
   "source": [
    "anon.column_mapping"
   ]
  },
  {
   "attachments": {},
   "cell_type": "markdown",
   "metadata": {},
   "source": [
    "## Configs\n",
    "\n",
    "Each capability can optionally be turned off - see below for the full list of config options, and refer to the API reference for the full description."
   ]
  },
  {
   "cell_type": "code",
   "execution_count": 7,
   "metadata": {
    "execution": {
     "iopub.execute_input": "2023-12-08T14:17:18.681729Z",
     "iopub.status.busy": "2023-12-08T14:17:18.681430Z",
     "iopub.status.idle": "2023-12-08T14:17:18.685421Z",
     "shell.execute_reply": "2023-12-08T14:17:18.684992Z"
    }
   },
   "outputs": [
    {
     "data": {
      "text/plain": [
       "{'config_file': None,\n",
       " 'hds_folder': '.',\n",
       " 'use_datamart': False,\n",
       " 'datamart_folder': 'datamart',\n",
       " 'output_format': 'ndjson',\n",
       " 'output_folder': 'output',\n",
       " 'mapping_file': 'mapping.map',\n",
       " 'mask_predictor_names': True,\n",
       " 'mask_context_key_names': False,\n",
       " 'mask_ih_names': True,\n",
       " 'mask_outcome_name': False,\n",
       " 'mask_predictor_values': True,\n",
       " 'mask_context_key_values': True,\n",
       " 'mask_ih_values': True,\n",
       " 'mask_outcome_values': True,\n",
       " 'context_key_label': 'Context_*',\n",
       " 'ih_label': 'IH_*',\n",
       " 'outcome_column': 'Decision_Outcome',\n",
       " 'positive_outcomes': ['Accepted', 'Clicked'],\n",
       " 'negative_outcomes': ['Rejected', 'Impression'],\n",
       " 'special_predictors': ['Decision_DecisionTime',\n",
       "  'Decision_OutcomeTime',\n",
       "  'Decision_Rank'],\n",
       " 'sample_percentage_schema_inferencing': 0.01}"
      ]
     },
     "execution_count": 7,
     "metadata": {},
     "output_type": "execute_result"
    }
   ],
   "source": [
    "dict(zip(Config.__init__.__code__.co_varnames[1:], Config.__init__.__defaults__))"
   ]
  },
  {
   "attachments": {},
   "cell_type": "markdown",
   "metadata": {},
   "source": [
    "It's easy to change these parameters by just passing the keyword arguments. In the following example, we\n",
    "- Keep the IH predictor names\n",
    "- Keep the outcome values\n",
    "- Keep the context key values\n",
    "- Keep the context key predictor names"
   ]
  },
  {
   "cell_type": "code",
   "execution_count": 8,
   "metadata": {
    "execution": {
     "iopub.execute_input": "2023-12-08T14:17:18.687398Z",
     "iopub.status.busy": "2023-12-08T14:17:18.687084Z",
     "iopub.status.idle": "2023-12-08T14:17:18.696650Z",
     "shell.execute_reply": "2023-12-08T14:17:18.696212Z"
    }
   },
   "outputs": [
    {
     "data": {
      "text/html": [
       "<div><style>\n",
       ".dataframe > thead > tr > th,\n",
       ".dataframe > tbody > tr > td {\n",
       "  text-align: right;\n",
       "  white-space: pre-wrap;\n",
       "}\n",
       "</style>\n",
       "<small>shape: (7, 7)</small><table border=\"1\" class=\"dataframe\"><thead><tr><th>PREDICTOR_0</th><th>PREDICTOR_1</th><th>PREDICTOR_2</th><th>filename</th><th>Context_Name</th><th>IH_Web_Inbound_Accepted_pxLastGroupID</th><th>Decision_Outcome</th></tr><tr><td>str</td><td>f64</td><td>str</td><td>str</td><td>str</td><td>str</td><td>str</td></tr></thead><tbody><tr><td>&quot;49095758556706…</td><td>1.2927e19</td><td>&quot;12836895089036…</td><td>&quot;../../../../da…</td><td>&quot;FirstMortgage3…</td><td>&quot;13429522321942…</td><td>&quot;Rejected&quot;</td></tr><tr><td>&quot;14756013941003…</td><td>1.4856e19</td><td>&quot;14626237665804…</td><td>&quot;../../../../da…</td><td>&quot;FirstMortgage3…</td><td>&quot;44275034756552…</td><td>&quot;Accepted&quot;</td></tr><tr><td>&quot;15945673584333…</td><td>5.6458e17</td><td>&quot;56233818150617…</td><td>&quot;../../../../da…</td><td>&quot;MoneyMarketSav…</td><td>&quot;13429522321942…</td><td>&quot;Rejected&quot;</td></tr><tr><td>&quot;14756013941003…</td><td>4.0723e18</td><td>&quot;65307222764780…</td><td>&quot;../../../../da…</td><td>&quot;BasicChecking&quot;</td><td>&quot;13429522321942…</td><td>&quot;Rejected&quot;</td></tr><tr><td>&quot;49095758556706…</td><td>1.4677e19</td><td>&quot;14966437608300…</td><td>&quot;../../../../da…</td><td>&quot;BasicChecking&quot;</td><td>&quot;15132669479464…</td><td>&quot;Accepted&quot;</td></tr><tr><td>&quot;15945673584333…</td><td>1.6330e19</td><td>&quot;56397629972255…</td><td>&quot;../../../../da…</td><td>&quot;UPlusFinPerson…</td><td>null</td><td>&quot;Rejected&quot;</td></tr><tr><td>&quot;15945673584333…</td><td>8.7675e18</td><td>&quot;13889055274020…</td><td>&quot;../../../../da…</td><td>&quot;BasicChecking&quot;</td><td>&quot;15132669479464…</td><td>&quot;Rejected&quot;</td></tr></tbody></table></div>"
      ],
      "text/plain": [
       "shape: (7, 7)\n",
       "┌──────────────┬─────────────┬─────────────┬─────────────┬─────────────┬─────────────┬─────────────┐\n",
       "│ PREDICTOR_0  ┆ PREDICTOR_1 ┆ PREDICTOR_2 ┆ filename    ┆ Context_Nam ┆ IH_Web_Inbo ┆ Decision_Ou │\n",
       "│ ---          ┆ ---         ┆ ---         ┆ ---         ┆ e           ┆ und_Accepte ┆ tcome       │\n",
       "│ str          ┆ f64         ┆ str         ┆ str         ┆ ---         ┆ d_pxLastGr… ┆ ---         │\n",
       "│              ┆             ┆             ┆             ┆ str         ┆ ---         ┆ str         │\n",
       "│              ┆             ┆             ┆             ┆             ┆ str         ┆             │\n",
       "╞══════════════╪═════════════╪═════════════╪═════════════╪═════════════╪═════════════╪═════════════╡\n",
       "│ 490957585567 ┆ 1.2927e19   ┆ 12836895089 ┆ ../../../.. ┆ FirstMortga ┆ 13429522321 ┆ Rejected    │\n",
       "│ 0655878      ┆             ┆ 036339893   ┆ /data/Sampl ┆ ge30yr      ┆ 942564845   ┆             │\n",
       "│              ┆             ┆             ┆ eHDS.json   ┆             ┆             ┆             │\n",
       "│ 147560139410 ┆ 1.4856e19   ┆ 14626237665 ┆ ../../../.. ┆ FirstMortga ┆ 44275034756 ┆ Accepted    │\n",
       "│ 03694441     ┆             ┆ 804775469   ┆ /data/Sampl ┆ ge30yr      ┆ 55269928    ┆             │\n",
       "│              ┆             ┆             ┆ eHDS.json   ┆             ┆             ┆             │\n",
       "│ 159456735843 ┆ 5.6458e17   ┆ 56233818150 ┆ ../../../.. ┆ MoneyMarket ┆ 13429522321 ┆ Rejected    │\n",
       "│ 33455753     ┆             ┆ 61712560    ┆ /data/Sampl ┆ SavingsAcco ┆ 942564845   ┆             │\n",
       "│              ┆             ┆             ┆ eHDS.json   ┆ unt         ┆             ┆             │\n",
       "│ 147560139410 ┆ 4.0723e18   ┆ 65307222764 ┆ ../../../.. ┆ BasicChecki ┆ 13429522321 ┆ Rejected    │\n",
       "│ 03694441     ┆             ┆ 78095463    ┆ /data/Sampl ┆ ng          ┆ 942564845   ┆             │\n",
       "│              ┆             ┆             ┆ eHDS.json   ┆             ┆             ┆             │\n",
       "│ 490957585567 ┆ 1.4677e19   ┆ 14966437608 ┆ ../../../.. ┆ BasicChecki ┆ 15132669479 ┆ Accepted    │\n",
       "│ 0655878      ┆             ┆ 300759279   ┆ /data/Sampl ┆ ng          ┆ 46416594    ┆             │\n",
       "│              ┆             ┆             ┆ eHDS.json   ┆             ┆             ┆             │\n",
       "│ 159456735843 ┆ 1.6330e19   ┆ 56397629972 ┆ ../../../.. ┆ UPlusFinPer ┆ null        ┆ Rejected    │\n",
       "│ 33455753     ┆             ┆ 25516136    ┆ /data/Sampl ┆ sonal       ┆             ┆             │\n",
       "│              ┆             ┆             ┆ eHDS.json   ┆             ┆             ┆             │\n",
       "│ 159456735843 ┆ 8.7675e18   ┆ 13889055274 ┆ ../../../.. ┆ BasicChecki ┆ 15132669479 ┆ Rejected    │\n",
       "│ 33455753     ┆             ┆ 020253864   ┆ /data/Sampl ┆ ng          ┆ 46416594    ┆             │\n",
       "│              ┆             ┆             ┆ eHDS.json   ┆             ┆             ┆             │\n",
       "└──────────────┴─────────────┴─────────────┴─────────────┴─────────────┴─────────────┴─────────────┘"
      ]
     },
     "execution_count": 8,
     "metadata": {},
     "output_type": "execute_result"
    }
   ],
   "source": [
    "anon = DataAnonymization(\n",
    "    hds_folder=\"../../../../data/\",\n",
    "    mask_ih_names=False,\n",
    "    mask_outcome_values=False,\n",
    "    mask_context_key_values=False,\n",
    "    mask_context_key_names=False,\n",
    ")\n",
    "anon.process()\n"
   ]
  },
  {
   "attachments": {},
   "cell_type": "markdown",
   "metadata": {},
   "source": [
    "The configs can also be written and read as such:"
   ]
  },
  {
   "cell_type": "code",
   "execution_count": 9,
   "metadata": {
    "execution": {
     "iopub.execute_input": "2023-12-08T14:17:18.698672Z",
     "iopub.status.busy": "2023-12-08T14:17:18.698350Z",
     "iopub.status.idle": "2023-12-08T14:17:18.701132Z",
     "shell.execute_reply": "2023-12-08T14:17:18.700702Z"
    }
   },
   "outputs": [],
   "source": [
    "anon.config.save_to_config_file('config.json')"
   ]
  },
  {
   "cell_type": "code",
   "execution_count": 10,
   "metadata": {
    "execution": {
     "iopub.execute_input": "2023-12-08T14:17:18.703080Z",
     "iopub.status.busy": "2023-12-08T14:17:18.702750Z",
     "iopub.status.idle": "2023-12-08T14:17:18.711825Z",
     "shell.execute_reply": "2023-12-08T14:17:18.711361Z"
    }
   },
   "outputs": [
    {
     "data": {
      "text/html": [
       "<div><style>\n",
       ".dataframe > thead > tr > th,\n",
       ".dataframe > tbody > tr > td {\n",
       "  text-align: right;\n",
       "  white-space: pre-wrap;\n",
       "}\n",
       "</style>\n",
       "<small>shape: (7, 7)</small><table border=\"1\" class=\"dataframe\"><thead><tr><th>PREDICTOR_0</th><th>PREDICTOR_1</th><th>PREDICTOR_2</th><th>filename</th><th>Context_Name</th><th>IH_Web_Inbound_Accepted_pxLastGroupID</th><th>Decision_Outcome</th></tr><tr><td>str</td><td>f64</td><td>str</td><td>str</td><td>str</td><td>str</td><td>str</td></tr></thead><tbody><tr><td>&quot;18415348268918…</td><td>1.2927e19</td><td>&quot;93161623034413…</td><td>&quot;../../../../da…</td><td>&quot;FirstMortgage3…</td><td>&quot;90154055149000…</td><td>&quot;Rejected&quot;</td></tr><tr><td>&quot;28969736852937…</td><td>1.4856e19</td><td>&quot;15319297043435…</td><td>&quot;../../../../da…</td><td>&quot;FirstMortgage3…</td><td>&quot;34907635140506…</td><td>&quot;Accepted&quot;</td></tr><tr><td>&quot;11008767978770…</td><td>5.6458e17</td><td>&quot;13745861662570…</td><td>&quot;../../../../da…</td><td>&quot;MoneyMarketSav…</td><td>&quot;90154055149000…</td><td>&quot;Rejected&quot;</td></tr><tr><td>&quot;28969736852937…</td><td>4.0723e18</td><td>&quot;38590593725286…</td><td>&quot;../../../../da…</td><td>&quot;BasicChecking&quot;</td><td>&quot;90154055149000…</td><td>&quot;Rejected&quot;</td></tr><tr><td>&quot;18415348268918…</td><td>1.4677e19</td><td>&quot;12704976004551…</td><td>&quot;../../../../da…</td><td>&quot;BasicChecking&quot;</td><td>&quot;10903815599533…</td><td>&quot;Accepted&quot;</td></tr><tr><td>&quot;11008767978770…</td><td>1.6330e19</td><td>&quot;10119642504385…</td><td>&quot;../../../../da…</td><td>&quot;UPlusFinPerson…</td><td>null</td><td>&quot;Rejected&quot;</td></tr><tr><td>&quot;11008767978770…</td><td>8.7675e18</td><td>&quot;17725447378680…</td><td>&quot;../../../../da…</td><td>&quot;BasicChecking&quot;</td><td>&quot;10903815599533…</td><td>&quot;Rejected&quot;</td></tr></tbody></table></div>"
      ],
      "text/plain": [
       "shape: (7, 7)\n",
       "┌──────────────┬─────────────┬─────────────┬─────────────┬─────────────┬─────────────┬─────────────┐\n",
       "│ PREDICTOR_0  ┆ PREDICTOR_1 ┆ PREDICTOR_2 ┆ filename    ┆ Context_Nam ┆ IH_Web_Inbo ┆ Decision_Ou │\n",
       "│ ---          ┆ ---         ┆ ---         ┆ ---         ┆ e           ┆ und_Accepte ┆ tcome       │\n",
       "│ str          ┆ f64         ┆ str         ┆ str         ┆ ---         ┆ d_pxLastGr… ┆ ---         │\n",
       "│              ┆             ┆             ┆             ┆ str         ┆ ---         ┆ str         │\n",
       "│              ┆             ┆             ┆             ┆             ┆ str         ┆             │\n",
       "╞══════════════╪═════════════╪═════════════╪═════════════╪═════════════╪═════════════╪═════════════╡\n",
       "│ 184153482689 ┆ 1.2927e19   ┆ 93161623034 ┆ ../../../.. ┆ FirstMortga ┆ 90154055149 ┆ Rejected    │\n",
       "│ 18445268     ┆             ┆ 41362061    ┆ /data/Sampl ┆ ge30yr      ┆ 00084069    ┆             │\n",
       "│              ┆             ┆             ┆ eHDS.json   ┆             ┆             ┆             │\n",
       "│ 289697368529 ┆ 1.4856e19   ┆ 15319297043 ┆ ../../../.. ┆ FirstMortga ┆ 34907635140 ┆ Accepted    │\n",
       "│ 3788244      ┆             ┆ 43529625    ┆ /data/Sampl ┆ ge30yr      ┆ 50639863    ┆             │\n",
       "│              ┆             ┆             ┆ eHDS.json   ┆             ┆             ┆             │\n",
       "│ 110087679787 ┆ 5.6458e17   ┆ 13745861662 ┆ ../../../.. ┆ MoneyMarket ┆ 90154055149 ┆ Rejected    │\n",
       "│ 70200379     ┆             ┆ 570855350   ┆ /data/Sampl ┆ SavingsAcco ┆ 00084069    ┆             │\n",
       "│              ┆             ┆             ┆ eHDS.json   ┆ unt         ┆             ┆             │\n",
       "│ 289697368529 ┆ 4.0723e18   ┆ 38590593725 ┆ ../../../.. ┆ BasicChecki ┆ 90154055149 ┆ Rejected    │\n",
       "│ 3788244      ┆             ┆ 28653943    ┆ /data/Sampl ┆ ng          ┆ 00084069    ┆             │\n",
       "│              ┆             ┆             ┆ eHDS.json   ┆             ┆             ┆             │\n",
       "│ 184153482689 ┆ 1.4677e19   ┆ 12704976004 ┆ ../../../.. ┆ BasicChecki ┆ 10903815599 ┆ Accepted    │\n",
       "│ 18445268     ┆             ┆ 551081915   ┆ /data/Sampl ┆ ng          ┆ 533223709   ┆             │\n",
       "│              ┆             ┆             ┆ eHDS.json   ┆             ┆             ┆             │\n",
       "│ 110087679787 ┆ 1.6330e19   ┆ 10119642504 ┆ ../../../.. ┆ UPlusFinPer ┆ null        ┆ Rejected    │\n",
       "│ 70200379     ┆             ┆ 385248357   ┆ /data/Sampl ┆ sonal       ┆             ┆             │\n",
       "│              ┆             ┆             ┆ eHDS.json   ┆             ┆             ┆             │\n",
       "│ 110087679787 ┆ 8.7675e18   ┆ 17725447378 ┆ ../../../.. ┆ BasicChecki ┆ 10903815599 ┆ Rejected    │\n",
       "│ 70200379     ┆             ┆ 680435958   ┆ /data/Sampl ┆ ng          ┆ 533223709   ┆             │\n",
       "│              ┆             ┆             ┆ eHDS.json   ┆             ┆             ┆             │\n",
       "└──────────────┴─────────────┴─────────────┴─────────────┴─────────────┴─────────────┴─────────────┘"
      ]
     },
     "execution_count": 10,
     "metadata": {},
     "output_type": "execute_result"
    }
   ],
   "source": [
    "anon = DataAnonymization(config=Config(config_file='config.json'))\n",
    "anon.process()"
   ]
  },
  {
   "attachments": {},
   "cell_type": "markdown",
   "metadata": {},
   "source": [
    "## Exporting\n",
    "Two functions export:\n",
    "- `create_mapping_file()` writes the mapping file of the predictor names\n",
    "- `write_to_output()` writes the processed dataframe to disk\n",
    "\n",
    "Write to output accepts the following extensions: `[\"ndjson\", \"parquet\", \"arrow\", \"csv\"]`"
   ]
  },
  {
   "cell_type": "code",
   "execution_count": 11,
   "metadata": {
    "execution": {
     "iopub.execute_input": "2023-12-08T14:17:18.713759Z",
     "iopub.status.busy": "2023-12-08T14:17:18.713444Z",
     "iopub.status.idle": "2023-12-08T14:17:18.716607Z",
     "shell.execute_reply": "2023-12-08T14:17:18.716191Z"
    }
   },
   "outputs": [
    {
     "name": "stdout",
     "output_type": "stream",
     "text": [
      "Customer_MaritalStatus=PREDICTOR_0\n",
      "Customer_CLV=PREDICTOR_1\n",
      "Customer_City=PREDICTOR_2\n",
      "filename=filename\n",
      "Context_Name=Context_Name\n",
      "IH_Web_Inbound_Accepted_pxLastGroupID=IH_Web_Inbound_Accepted_pxLastGroupID\n",
      "Decision_Outcome=Decision_Outcome\n",
      "\n"
     ]
    }
   ],
   "source": [
    "anon.create_mapping_file()\n",
    "with open('mapping.map') as f:\n",
    "    print(f.read())"
   ]
  },
  {
   "cell_type": "code",
   "execution_count": 12,
   "metadata": {
    "execution": {
     "iopub.execute_input": "2023-12-08T14:17:18.718571Z",
     "iopub.status.busy": "2023-12-08T14:17:18.718255Z",
     "iopub.status.idle": "2023-12-08T14:17:18.721790Z",
     "shell.execute_reply": "2023-12-08T14:17:18.721256Z"
    }
   },
   "outputs": [],
   "source": [
    "anon.write_to_output(ext='arrow')"
   ]
  },
  {
   "cell_type": "code",
   "execution_count": 13,
   "metadata": {
    "execution": {
     "iopub.execute_input": "2023-12-08T14:17:18.723751Z",
     "iopub.status.busy": "2023-12-08T14:17:18.723403Z",
     "iopub.status.idle": "2023-12-08T14:17:18.727897Z",
     "shell.execute_reply": "2023-12-08T14:17:18.727425Z"
    }
   },
   "outputs": [
    {
     "data": {
      "text/html": [
       "<div><style>\n",
       ".dataframe > thead > tr > th,\n",
       ".dataframe > tbody > tr > td {\n",
       "  text-align: right;\n",
       "  white-space: pre-wrap;\n",
       "}\n",
       "</style>\n",
       "<small>shape: (7, 6)</small><table border=\"1\" class=\"dataframe\"><thead><tr><th>PREDICTOR_0</th><th>PREDICTOR_1</th><th>PREDICTOR_2</th><th>Context_Name</th><th>IH_Web_Inbound_Accepted_pxLastGroupID</th><th>Decision_Outcome</th></tr><tr><td>str</td><td>f64</td><td>str</td><td>str</td><td>str</td><td>str</td></tr></thead><tbody><tr><td>&quot;13102330982275…</td><td>1.2927e19</td><td>&quot;96251156408660…</td><td>&quot;FirstMortgage3…</td><td>&quot;92823927137138…</td><td>&quot;Rejected&quot;</td></tr><tr><td>&quot;15401710789418…</td><td>1.4856e19</td><td>&quot;13141528402037…</td><td>&quot;FirstMortgage3…</td><td>&quot;11275270726603…</td><td>&quot;Accepted&quot;</td></tr><tr><td>&quot;56129870482634…</td><td>5.6458e17</td><td>&quot;14494103835297…</td><td>&quot;MoneyMarketSav…</td><td>&quot;92823927137138…</td><td>&quot;Rejected&quot;</td></tr><tr><td>&quot;15401710789418…</td><td>4.0723e18</td><td>&quot;56352048487634…</td><td>&quot;BasicChecking&quot;</td><td>&quot;92823927137138…</td><td>&quot;Rejected&quot;</td></tr><tr><td>&quot;13102330982275…</td><td>1.4677e19</td><td>&quot;16960025976366…</td><td>&quot;BasicChecking&quot;</td><td>&quot;32447661303931…</td><td>&quot;Accepted&quot;</td></tr><tr><td>&quot;56129870482634…</td><td>1.6330e19</td><td>&quot;43340770962786…</td><td>&quot;UPlusFinPerson…</td><td>null</td><td>&quot;Rejected&quot;</td></tr><tr><td>&quot;56129870482634…</td><td>8.7675e18</td><td>&quot;17993594360527…</td><td>&quot;BasicChecking&quot;</td><td>&quot;32447661303931…</td><td>&quot;Rejected&quot;</td></tr></tbody></table></div>"
      ],
      "text/plain": [
       "shape: (7, 6)\n",
       "┌────────────────┬─────────────┬────────────────┬────────────────┬────────────────┬────────────────┐\n",
       "│ PREDICTOR_0    ┆ PREDICTOR_1 ┆ PREDICTOR_2    ┆ Context_Name   ┆ IH_Web_Inbound ┆ Decision_Outco │\n",
       "│ ---            ┆ ---         ┆ ---            ┆ ---            ┆ _Accepted_pxLa ┆ me             │\n",
       "│ str            ┆ f64         ┆ str            ┆ str            ┆ stGr…          ┆ ---            │\n",
       "│                ┆             ┆                ┆                ┆ ---            ┆ str            │\n",
       "│                ┆             ┆                ┆                ┆ str            ┆                │\n",
       "╞════════════════╪═════════════╪════════════════╪════════════════╪════════════════╪════════════════╡\n",
       "│ 13102330982275 ┆ 1.2927e19   ┆ 96251156408660 ┆ FirstMortgage3 ┆ 92823927137138 ┆ Rejected       │\n",
       "│ 638658         ┆             ┆ 8060           ┆ 0yr            ┆ 61490          ┆                │\n",
       "│ 15401710789418 ┆ 1.4856e19   ┆ 13141528402037 ┆ FirstMortgage3 ┆ 11275270726603 ┆ Accepted       │\n",
       "│ 105280         ┆             ┆ 376590         ┆ 0yr            ┆ 065903         ┆                │\n",
       "│ 56129870482634 ┆ 5.6458e17   ┆ 14494103835297 ┆ MoneyMarketSav ┆ 92823927137138 ┆ Rejected       │\n",
       "│ 4451           ┆             ┆ 426933         ┆ ingsAccount    ┆ 61490          ┆                │\n",
       "│ 15401710789418 ┆ 4.0723e18   ┆ 56352048487634 ┆ BasicChecking  ┆ 92823927137138 ┆ Rejected       │\n",
       "│ 105280         ┆             ┆ 54803          ┆                ┆ 61490          ┆                │\n",
       "│ 13102330982275 ┆ 1.4677e19   ┆ 16960025976366 ┆ BasicChecking  ┆ 32447661303931 ┆ Accepted       │\n",
       "│ 638658         ┆             ┆ 98941          ┆                ┆ 12712          ┆                │\n",
       "│ 56129870482634 ┆ 1.6330e19   ┆ 43340770962786 ┆ UPlusFinPerson ┆ null           ┆ Rejected       │\n",
       "│ 4451           ┆             ┆ 98707          ┆ al             ┆                ┆                │\n",
       "│ 56129870482634 ┆ 8.7675e18   ┆ 17993594360527 ┆ BasicChecking  ┆ 32447661303931 ┆ Rejected       │\n",
       "│ 4451           ┆             ┆ 365926         ┆                ┆ 12712          ┆                │\n",
       "└────────────────┴─────────────┴────────────────┴────────────────┴────────────────┴────────────────┘"
      ]
     },
     "execution_count": 13,
     "metadata": {},
     "output_type": "execute_result"
    }
   ],
   "source": [
    "pl.read_ipc('output/hds.arrow')"
   ]
  },
  {
   "attachments": {},
   "cell_type": "markdown",
   "metadata": {
    "nbsphinx": "hidden"
   },
   "source": [
    "## Advanced: Hash fuctions\n",
    "\n",
    "By default, we use [the same hashing algorithm Polars](https://pola-rs.github.io/polars/py-polars/html/reference/expressions/api/polars.Expr.hash.html#polars.Expr.hash) uses: [xxhash](https://github.com/Cyan4973/xxHash), as implemented [here](https://github.com/pola-rs/polars/blob/3f287f370b3c388ed2f3f218b2c096382548136f/polars/polars-core/src/vector_hasher.rs#L266). xxhash is fast to compute, and you can check its performance in collision, dispersion and randomness [here](https://github.com/Cyan4973/xxHash/tree/dev/tests). \n",
    "\n",
    "xxhash accepts four distinct seeds, but by default we set the seeds to `0`. It is possible to set the `seed` argument of the `process()` function to `'random'`, which will set all four seeds to a random integer between `0` and `1000000000`. Alternatively, it is possible to supply the four seeds manually with arguments `seed`, `seed_1`, `seed_2` and `seed_3`. \n",
    "\n",
    "If the xxhash with (random) seed(s) is not deemed sufficiently secure, it is possible to use your own hashing algorithm.\n",
    "\n",
    "Note that since we're now running python code and not native Polars code anymore, this will be _significantly_ slower. Nonetheless, it is possible.\n",
    "\n",
    "Just as an example - this is how one would use sha3_256:"
   ]
  },
  {
   "cell_type": "code",
   "execution_count": 14,
   "metadata": {
    "execution": {
     "iopub.execute_input": "2023-12-08T14:17:18.729861Z",
     "iopub.status.busy": "2023-12-08T14:17:18.729526Z",
     "iopub.status.idle": "2023-12-08T14:17:19.053689Z",
     "shell.execute_reply": "2023-12-08T14:17:19.053131Z"
    },
    "nbsphinx": "hidden"
   },
   "outputs": [
    {
     "ename": "ComputeError",
     "evalue": "AttributeError: 'int' object has no attribute 'encode'",
     "output_type": "error",
     "traceback": [
      "\u001b[0;31m---------------------------------------------------------------------------\u001b[0m",
      "\u001b[0;31mComputeError\u001b[0m                              Traceback (most recent call last)",
      "Cell \u001b[0;32mIn[14], line 3\u001b[0m\n\u001b[1;32m      1\u001b[0m \u001b[38;5;28;01mfrom\u001b[39;00m \u001b[38;5;21;01mhashlib\u001b[39;00m \u001b[38;5;28;01mimport\u001b[39;00m sha3_256\n\u001b[0;32m----> 3\u001b[0m \u001b[43manon\u001b[49m\u001b[38;5;241;43m.\u001b[39;49m\u001b[43mprocess\u001b[49m\u001b[43m(\u001b[49m\u001b[43malgorithm\u001b[49m\u001b[38;5;241;43m=\u001b[39;49m\u001b[38;5;28;43;01mlambda\u001b[39;49;00m\u001b[43m \u001b[49m\u001b[43mx\u001b[49m\u001b[43m:\u001b[49m\u001b[43m \u001b[49m\u001b[43msha3_256\u001b[49m\u001b[43m(\u001b[49m\u001b[43mx\u001b[49m\u001b[38;5;241;43m.\u001b[39;49m\u001b[43mencode\u001b[49m\u001b[43m(\u001b[49m\u001b[43m)\u001b[49m\u001b[43m)\u001b[49m\u001b[38;5;241;43m.\u001b[39;49m\u001b[43mhexdigest\u001b[49m\u001b[43m(\u001b[49m\u001b[43m)\u001b[49m\u001b[43m)\u001b[49m\n",
      "File \u001b[0;32m~/work/pega-datascientist-tools/pega-datascientist-tools/python/docs/source/articles/../../../pdstools/utils/hds_utils.py:516\u001b[0m, in \u001b[0;36mDataAnonymization.process\u001b[0;34m(self, strategy, **kwargs)\u001b[0m\n\u001b[1;32m    514\u001b[0m df \u001b[38;5;241m=\u001b[39m df\u001b[38;5;241m.\u001b[39mselect(\u001b[38;5;28mself\u001b[39m\u001b[38;5;241m.\u001b[39mcolumn_mapping\u001b[38;5;241m.\u001b[39mkeys())\u001b[38;5;241m.\u001b[39mrename(\u001b[38;5;28mself\u001b[39m\u001b[38;5;241m.\u001b[39mcolumn_mapping)\n\u001b[1;32m    515\u001b[0m \u001b[38;5;28;01mif\u001b[39;00m strategy \u001b[38;5;241m==\u001b[39m \u001b[38;5;124m\"\u001b[39m\u001b[38;5;124meager\u001b[39m\u001b[38;5;124m\"\u001b[39m:\n\u001b[0;32m--> 516\u001b[0m     \u001b[38;5;28;01mreturn\u001b[39;00m \u001b[43mdf\u001b[49m\u001b[38;5;241;43m.\u001b[39;49m\u001b[43mcollect\u001b[49m\u001b[43m(\u001b[49m\u001b[43m)\u001b[49m\n\u001b[1;32m    517\u001b[0m \u001b[38;5;28;01mreturn\u001b[39;00m df\n",
      "File \u001b[0;32m/opt/hostedtoolcache/Python/3.11.7/x64/lib/python3.11/site-packages/polars/utils/deprecation.py:100\u001b[0m, in \u001b[0;36mdeprecate_renamed_parameter.<locals>.decorate.<locals>.wrapper\u001b[0;34m(*args, **kwargs)\u001b[0m\n\u001b[1;32m     95\u001b[0m \u001b[38;5;129m@wraps\u001b[39m(function)\n\u001b[1;32m     96\u001b[0m \u001b[38;5;28;01mdef\u001b[39;00m \u001b[38;5;21mwrapper\u001b[39m(\u001b[38;5;241m*\u001b[39margs: P\u001b[38;5;241m.\u001b[39margs, \u001b[38;5;241m*\u001b[39m\u001b[38;5;241m*\u001b[39mkwargs: P\u001b[38;5;241m.\u001b[39mkwargs) \u001b[38;5;241m-\u001b[39m\u001b[38;5;241m>\u001b[39m T:\n\u001b[1;32m     97\u001b[0m     _rename_keyword_argument(\n\u001b[1;32m     98\u001b[0m         old_name, new_name, kwargs, function\u001b[38;5;241m.\u001b[39m\u001b[38;5;18m__name__\u001b[39m, version\n\u001b[1;32m     99\u001b[0m     )\n\u001b[0;32m--> 100\u001b[0m     \u001b[38;5;28;01mreturn\u001b[39;00m \u001b[43mfunction\u001b[49m\u001b[43m(\u001b[49m\u001b[38;5;241;43m*\u001b[39;49m\u001b[43margs\u001b[49m\u001b[43m,\u001b[49m\u001b[43m \u001b[49m\u001b[38;5;241;43m*\u001b[39;49m\u001b[38;5;241;43m*\u001b[39;49m\u001b[43mkwargs\u001b[49m\u001b[43m)\u001b[49m\n",
      "File \u001b[0;32m/opt/hostedtoolcache/Python/3.11.7/x64/lib/python3.11/site-packages/polars/lazyframe/frame.py:1787\u001b[0m, in \u001b[0;36mLazyFrame.collect\u001b[0;34m(self, type_coercion, predicate_pushdown, projection_pushdown, simplify_expression, slice_pushdown, comm_subplan_elim, comm_subexpr_elim, no_optimization, streaming, _eager)\u001b[0m\n\u001b[1;32m   1774\u001b[0m     comm_subplan_elim \u001b[38;5;241m=\u001b[39m \u001b[38;5;28;01mFalse\u001b[39;00m\n\u001b[1;32m   1776\u001b[0m ldf \u001b[38;5;241m=\u001b[39m \u001b[38;5;28mself\u001b[39m\u001b[38;5;241m.\u001b[39m_ldf\u001b[38;5;241m.\u001b[39moptimization_toggle(\n\u001b[1;32m   1777\u001b[0m     type_coercion,\n\u001b[1;32m   1778\u001b[0m     predicate_pushdown,\n\u001b[0;32m   (...)\u001b[0m\n\u001b[1;32m   1785\u001b[0m     _eager,\n\u001b[1;32m   1786\u001b[0m )\n\u001b[0;32m-> 1787\u001b[0m \u001b[38;5;28;01mreturn\u001b[39;00m wrap_df(ldf\u001b[38;5;241m.\u001b[39mcollect())\n",
      "\u001b[0;31mComputeError\u001b[0m: AttributeError: 'int' object has no attribute 'encode'"
     ]
    }
   ],
   "source": [
    "from hashlib import sha3_256\n",
    "\n",
    "anon.process(algorithm=lambda x: sha3_256(x.encode()).hexdigest())"
   ]
  }
 ],
 "metadata": {
  "kernelspec": {
   "display_name": "Python 3",
   "language": "python",
   "name": "python3"
  },
  "language_info": {
   "codemirror_mode": {
    "name": "ipython",
    "version": 3
   },
   "file_extension": ".py",
   "mimetype": "text/x-python",
   "name": "python",
   "nbconvert_exporter": "python",
   "pygments_lexer": "ipython3",
   "version": "3.11.7"
  },
  "vscode": {
   "interpreter": {
    "hash": "aee8b7b246df8f9039afb4144a1f6fd8d2ca17a180786b69acc140d282b71a49"
   }
  }
 },
 "nbformat": 4,
 "nbformat_minor": 2
}
