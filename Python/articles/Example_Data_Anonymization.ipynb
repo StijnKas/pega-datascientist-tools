{
 "cells": [
  {
   "attachments": {},
   "cell_type": "markdown",
   "metadata": {},
   "source": [
    "# Example data anonymization\n",
    "\n",
    "In Pega CDH 8.5 and up, it's now possible to record the historical data as seen by the Adaptive Models. See [this academy challenge](https://academy.pega.com/challenge/exporting-historical-data/v4) for reference. This historical data can be further used to experiment with offline models, but also to fine-tune the OOTB Gradient Boosting model. However, sharing this information with Pega can be sensitive as it contains raw predictor data. \n",
    "\n",
    "To this end, we provide a simple and transparent script to fully anonimize this dataset.\n",
    "\n",
    "The DataAnonymization script is now part of pdstools, and you can import it directly as such."
   ]
  },
  {
   "cell_type": "code",
   "execution_count": 1,
   "metadata": {
    "execution": {
     "iopub.execute_input": "2023-10-10T15:26:21.624995Z",
     "iopub.status.busy": "2023-10-10T15:26:21.624639Z",
     "iopub.status.idle": "2023-10-10T15:26:21.702574Z",
     "shell.execute_reply": "2023-10-10T15:26:21.702054Z"
    },
    "nbsphinx": "hidden"
   },
   "outputs": [],
   "source": [
    "# These lines are only for rendering in the docs, and are hidden through Jupyter tags\n",
    "# Do not run if you're running the notebook seperately\n",
    "\n",
    "import os  \n",
    "import sys\n",
    "import plotly.io as pio\n",
    "pio.renderers.default = \"notebook_connected\"\n",
    "\n",
    "sys.path.append(\"../../../\")\n",
    "sys.path.append('../../python')"
   ]
  },
  {
   "cell_type": "code",
   "execution_count": 2,
   "metadata": {
    "execution": {
     "iopub.execute_input": "2023-10-10T15:26:21.705098Z",
     "iopub.status.busy": "2023-10-10T15:26:21.704628Z",
     "iopub.status.idle": "2023-10-10T15:26:22.771874Z",
     "shell.execute_reply": "2023-10-10T15:26:22.770847Z"
    }
   },
   "outputs": [],
   "source": [
    "from pdstools import ADMDatamart\n",
    "from pdstools import Config, DataAnonymization\n",
    "import polars as pl"
   ]
  },
  {
   "attachments": {},
   "cell_type": "markdown",
   "metadata": {},
   "source": [
    "## Input data\n",
    "\n",
    "To demonstrate this process, we're going to anonymise this toy example dataframe:"
   ]
  },
  {
   "cell_type": "code",
   "execution_count": 3,
   "metadata": {
    "execution": {
     "iopub.execute_input": "2023-10-10T15:26:22.774729Z",
     "iopub.status.busy": "2023-10-10T15:26:22.774157Z",
     "iopub.status.idle": "2023-10-10T15:26:22.785035Z",
     "shell.execute_reply": "2023-10-10T15:26:22.784530Z"
    }
   },
   "outputs": [
    {
     "data": {
      "text/html": [
       "<div><style>\n",
       ".dataframe > thead > tr > th,\n",
       ".dataframe > tbody > tr > td {\n",
       "  text-align: right;\n",
       "  white-space: pre-wrap;\n",
       "}\n",
       "</style>\n",
       "<small>shape: (7, 6)</small><table border=\"1\" class=\"dataframe\"><thead><tr><th>Context_Name</th><th>Customer_MaritalStatus</th><th>Customer_CLV</th><th>Customer_City</th><th>IH_Web_Inbound_Accepted_pxLastGroupID</th><th>Decision_Outcome</th></tr><tr><td>str</td><td>str</td><td>i64</td><td>str</td><td>str</td><td>str</td></tr></thead><tbody><tr><td>&quot;FirstMortgage3…</td><td>&quot;Married&quot;</td><td>1460</td><td>&quot;Port Raoul&quot;</td><td>&quot;Account&quot;</td><td>&quot;Rejected&quot;</td></tr><tr><td>&quot;FirstMortgage3…</td><td>&quot;Unknown&quot;</td><td>669</td><td>&quot;Laurianneshire…</td><td>&quot;AutoLoans&quot;</td><td>&quot;Accepted&quot;</td></tr><tr><td>&quot;MoneyMarketSav…</td><td>&quot;No Resp+&quot;</td><td>1174</td><td>&quot;Jacobshaven&quot;</td><td>&quot;Account&quot;</td><td>&quot;Rejected&quot;</td></tr><tr><td>&quot;BasicChecking&quot;</td><td>&quot;Unknown&quot;</td><td>1476</td><td>&quot;Lindton&quot;</td><td>&quot;Account&quot;</td><td>&quot;Rejected&quot;</td></tr><tr><td>&quot;BasicChecking&quot;</td><td>&quot;Married&quot;</td><td>1211</td><td>&quot;South Jimmiesh…</td><td>&quot;DepositAccount…</td><td>&quot;Accepted&quot;</td></tr><tr><td>&quot;UPlusFinPerson…</td><td>&quot;No Resp+&quot;</td><td>533</td><td>&quot;Bergeville&quot;</td><td>null</td><td>&quot;Rejected&quot;</td></tr><tr><td>&quot;BasicChecking&quot;</td><td>&quot;No Resp+&quot;</td><td>555</td><td>&quot;Willyville&quot;</td><td>&quot;DepositAccount…</td><td>&quot;Rejected&quot;</td></tr></tbody></table></div>"
      ],
      "text/plain": [
       "shape: (7, 6)\n",
       "┌────────────────┬────────────────┬──────────────┬────────────────┬────────────────┬───────────────┐\n",
       "│ Context_Name   ┆ Customer_Marit ┆ Customer_CLV ┆ Customer_City  ┆ IH_Web_Inbound ┆ Decision_Outc │\n",
       "│ ---            ┆ alStatus       ┆ ---          ┆ ---            ┆ _Accepted_pxLa ┆ ome           │\n",
       "│ str            ┆ ---            ┆ i64          ┆ str            ┆ stGr…          ┆ ---           │\n",
       "│                ┆ str            ┆              ┆                ┆ ---            ┆ str           │\n",
       "│                ┆                ┆              ┆                ┆ str            ┆               │\n",
       "╞════════════════╪════════════════╪══════════════╪════════════════╪════════════════╪═══════════════╡\n",
       "│ FirstMortgage3 ┆ Married        ┆ 1460         ┆ Port Raoul     ┆ Account        ┆ Rejected      │\n",
       "│ 0yr            ┆                ┆              ┆                ┆                ┆               │\n",
       "│ FirstMortgage3 ┆ Unknown        ┆ 669          ┆ Laurianneshire ┆ AutoLoans      ┆ Accepted      │\n",
       "│ 0yr            ┆                ┆              ┆                ┆                ┆               │\n",
       "│ MoneyMarketSav ┆ No Resp+       ┆ 1174         ┆ Jacobshaven    ┆ Account        ┆ Rejected      │\n",
       "│ ingsAccount    ┆                ┆              ┆                ┆                ┆               │\n",
       "│ BasicChecking  ┆ Unknown        ┆ 1476         ┆ Lindton        ┆ Account        ┆ Rejected      │\n",
       "│ BasicChecking  ┆ Married        ┆ 1211         ┆ South          ┆ DepositAccount ┆ Accepted      │\n",
       "│                ┆                ┆              ┆ Jimmieshire    ┆ s              ┆               │\n",
       "│ UPlusFinPerson ┆ No Resp+       ┆ 533          ┆ Bergeville     ┆ null           ┆ Rejected      │\n",
       "│ al             ┆                ┆              ┆                ┆                ┆               │\n",
       "│ BasicChecking  ┆ No Resp+       ┆ 555          ┆ Willyville     ┆ DepositAccount ┆ Rejected      │\n",
       "│                ┆                ┆              ┆                ┆ s              ┆               │\n",
       "└────────────────┴────────────────┴──────────────┴────────────────┴────────────────┴───────────────┘"
      ]
     },
     "execution_count": 3,
     "metadata": {},
     "output_type": "execute_result"
    }
   ],
   "source": [
    "pl.read_ndjson('../../../../data/SampleHDS.json')"
   ]
  },
  {
   "attachments": {},
   "cell_type": "markdown",
   "metadata": {},
   "source": [
    "As you can see, this dataset consists of regular predictors, IH predictors, context keys and the outcome column. Additionally, some columns are numeric, others are strings. Let's first initialize the DataAnonymization class."
   ]
  },
  {
   "cell_type": "code",
   "execution_count": 4,
   "metadata": {
    "execution": {
     "iopub.execute_input": "2023-10-10T15:26:22.787307Z",
     "iopub.status.busy": "2023-10-10T15:26:22.786949Z",
     "iopub.status.idle": "2023-10-10T15:26:22.797554Z",
     "shell.execute_reply": "2023-10-10T15:26:22.797098Z"
    }
   },
   "outputs": [],
   "source": [
    "anon = DataAnonymization(hds_folder='../../../../data/')"
   ]
  },
  {
   "attachments": {},
   "cell_type": "markdown",
   "metadata": {},
   "source": [
    "By default, the class applies a set of anonymisation techniques:\n",
    "- Column names are remapped to a non-descriptive name\n",
    "- Categorical values are hashed with a random seed\n",
    "- Numerical values are normalized between 0 and 1\n",
    "- Outcomes are mapped to a binary outcome.\n",
    "\n",
    "To apply these techniques, simply call `.process()`:"
   ]
  },
  {
   "cell_type": "code",
   "execution_count": 5,
   "metadata": {
    "execution": {
     "iopub.execute_input": "2023-10-10T15:26:22.799879Z",
     "iopub.status.busy": "2023-10-10T15:26:22.799375Z",
     "iopub.status.idle": "2023-10-10T15:26:22.805690Z",
     "shell.execute_reply": "2023-10-10T15:26:22.805258Z"
    }
   },
   "outputs": [
    {
     "data": {
      "text/html": [
       "<div><style>\n",
       ".dataframe > thead > tr > th,\n",
       ".dataframe > tbody > tr > td {\n",
       "  text-align: right;\n",
       "  white-space: pre-wrap;\n",
       "}\n",
       "</style>\n",
       "<small>shape: (7, 7)</small><table border=\"1\" class=\"dataframe\"><thead><tr><th>PREDICTOR_0</th><th>PREDICTOR_1</th><th>filename</th><th>PREDICTOR_3</th><th>Context_Name</th><th>IH_PREDICTOR_0</th><th>Decision_Outcome</th></tr><tr><td>f64</td><td>str</td><td>str</td><td>str</td><td>str</td><td>str</td><td>bool</td></tr></thead><tbody><tr><td>1.2927e19</td><td>&quot;32786570501177…</td><td>&quot;../../../../da…</td><td>&quot;12829880483022…</td><td>&quot;56958187289267…</td><td>&quot;18321814799854…</td><td>false</td></tr><tr><td>1.4856e19</td><td>&quot;13101660140289…</td><td>&quot;../../../../da…</td><td>&quot;15277224385849…</td><td>&quot;56958187289267…</td><td>&quot;60507101563170…</td><td>true</td></tr><tr><td>5.6458e17</td><td>&quot;13901064997861…</td><td>&quot;../../../../da…</td><td>&quot;48641747611029…</td><td>&quot;80771744952085…</td><td>&quot;18321814799854…</td><td>false</td></tr><tr><td>4.0723e18</td><td>&quot;11229226834055…</td><td>&quot;../../../../da…</td><td>&quot;15277224385849…</td><td>&quot;34267731640067…</td><td>&quot;18321814799854…</td><td>false</td></tr><tr><td>1.4677e19</td><td>&quot;39959175161985…</td><td>&quot;../../../../da…</td><td>&quot;12829880483022…</td><td>&quot;34267731640067…</td><td>&quot;55401523411774…</td><td>true</td></tr><tr><td>1.6330e19</td><td>&quot;13771081575585…</td><td>&quot;../../../../da…</td><td>&quot;48641747611029…</td><td>&quot;62839710726827…</td><td>null</td><td>false</td></tr><tr><td>8.7675e18</td><td>&quot;15048728850819…</td><td>&quot;../../../../da…</td><td>&quot;48641747611029…</td><td>&quot;34267731640067…</td><td>&quot;55401523411774…</td><td>false</td></tr></tbody></table></div>"
      ],
      "text/plain": [
       "shape: (7, 7)\n",
       "┌─────────────┬──────────────┬─────────────┬─────────────┬─────────────┬─────────────┬─────────────┐\n",
       "│ PREDICTOR_0 ┆ PREDICTOR_1  ┆ filename    ┆ PREDICTOR_3 ┆ Context_Nam ┆ IH_PREDICTO ┆ Decision_Ou │\n",
       "│ ---         ┆ ---          ┆ ---         ┆ ---         ┆ e           ┆ R_0         ┆ tcome       │\n",
       "│ f64         ┆ str          ┆ str         ┆ str         ┆ ---         ┆ ---         ┆ ---         │\n",
       "│             ┆              ┆             ┆             ┆ str         ┆ str         ┆ bool        │\n",
       "╞═════════════╪══════════════╪═════════════╪═════════════╪═════════════╪═════════════╪═════════════╡\n",
       "│ 1.2927e19   ┆ 327865705011 ┆ ../../../.. ┆ 12829880483 ┆ 56958187289 ┆ 18321814799 ┆ false       │\n",
       "│             ┆ 7745159      ┆ /data/Sampl ┆ 022272060   ┆ 26790542    ┆ 854082052   ┆             │\n",
       "│             ┆              ┆ eHDS.json   ┆             ┆             ┆             ┆             │\n",
       "│ 1.4856e19   ┆ 131016601402 ┆ ../../../.. ┆ 15277224385 ┆ 56958187289 ┆ 60507101563 ┆ true        │\n",
       "│             ┆ 89065720     ┆ /data/Sampl ┆ 849490682   ┆ 26790542    ┆ 17068206    ┆             │\n",
       "│             ┆              ┆ eHDS.json   ┆             ┆             ┆             ┆             │\n",
       "│ 5.6458e17   ┆ 139010649978 ┆ ../../../.. ┆ 48641747611 ┆ 80771744952 ┆ 18321814799 ┆ false       │\n",
       "│             ┆ 61072949     ┆ /data/Sampl ┆ 02903891    ┆ 08544021    ┆ 854082052   ┆             │\n",
       "│             ┆              ┆ eHDS.json   ┆             ┆             ┆             ┆             │\n",
       "│ 4.0723e18   ┆ 112292268340 ┆ ../../../.. ┆ 15277224385 ┆ 34267731640 ┆ 18321814799 ┆ false       │\n",
       "│             ┆ 55753188     ┆ /data/Sampl ┆ 849490682   ┆ 06753507    ┆ 854082052   ┆             │\n",
       "│             ┆              ┆ eHDS.json   ┆             ┆             ┆             ┆             │\n",
       "│ 1.4677e19   ┆ 399591751619 ┆ ../../../.. ┆ 12829880483 ┆ 34267731640 ┆ 55401523411 ┆ true        │\n",
       "│             ┆ 8579240      ┆ /data/Sampl ┆ 022272060   ┆ 06753507    ┆ 77477372    ┆             │\n",
       "│             ┆              ┆ eHDS.json   ┆             ┆             ┆             ┆             │\n",
       "│ 1.6330e19   ┆ 137710815755 ┆ ../../../.. ┆ 48641747611 ┆ 62839710726 ┆ null        ┆ false       │\n",
       "│             ┆ 85470420     ┆ /data/Sampl ┆ 02903891    ┆ 82746384    ┆             ┆             │\n",
       "│             ┆              ┆ eHDS.json   ┆             ┆             ┆             ┆             │\n",
       "│ 8.7675e18   ┆ 150487288508 ┆ ../../../.. ┆ 48641747611 ┆ 34267731640 ┆ 55401523411 ┆ false       │\n",
       "│             ┆ 1994998      ┆ /data/Sampl ┆ 02903891    ┆ 06753507    ┆ 77477372    ┆             │\n",
       "│             ┆              ┆ eHDS.json   ┆             ┆             ┆             ┆             │\n",
       "└─────────────┴──────────────┴─────────────┴─────────────┴─────────────┴─────────────┴─────────────┘"
      ]
     },
     "execution_count": 5,
     "metadata": {},
     "output_type": "execute_result"
    }
   ],
   "source": [
    "anon.process()"
   ]
  },
  {
   "attachments": {},
   "cell_type": "markdown",
   "metadata": {},
   "source": [
    "To trace back the columns to their original names, the class also contains a mapping, which does not have to be provided."
   ]
  },
  {
   "cell_type": "code",
   "execution_count": 6,
   "metadata": {
    "execution": {
     "iopub.execute_input": "2023-10-10T15:26:22.808061Z",
     "iopub.status.busy": "2023-10-10T15:26:22.807513Z",
     "iopub.status.idle": "2023-10-10T15:26:22.811326Z",
     "shell.execute_reply": "2023-10-10T15:26:22.810890Z"
    }
   },
   "outputs": [
    {
     "data": {
      "text/plain": [
       "{'Customer_CLV': 'PREDICTOR_0',\n",
       " 'Customer_City': 'PREDICTOR_1',\n",
       " 'filename': 'filename',\n",
       " 'Customer_MaritalStatus': 'PREDICTOR_3',\n",
       " 'Context_Name': 'Context_Name',\n",
       " 'IH_Web_Inbound_Accepted_pxLastGroupID': 'IH_PREDICTOR_0',\n",
       " 'Decision_Outcome': 'Decision_Outcome'}"
      ]
     },
     "execution_count": 6,
     "metadata": {},
     "output_type": "execute_result"
    }
   ],
   "source": [
    "anon.column_mapping"
   ]
  },
  {
   "attachments": {},
   "cell_type": "markdown",
   "metadata": {},
   "source": [
    "## Configs\n",
    "\n",
    "Each capability can optionally be turned off - see below for the full list of config options, and refer to the API reference for the full description."
   ]
  },
  {
   "cell_type": "code",
   "execution_count": 7,
   "metadata": {
    "execution": {
     "iopub.execute_input": "2023-10-10T15:26:22.813517Z",
     "iopub.status.busy": "2023-10-10T15:26:22.813074Z",
     "iopub.status.idle": "2023-10-10T15:26:22.817311Z",
     "shell.execute_reply": "2023-10-10T15:26:22.816888Z"
    }
   },
   "outputs": [
    {
     "data": {
      "text/plain": [
       "{'config_file': None,\n",
       " 'hds_folder': '.',\n",
       " 'use_datamart': False,\n",
       " 'datamart_folder': 'datamart',\n",
       " 'output_format': 'ndjson',\n",
       " 'output_folder': 'output',\n",
       " 'mapping_file': 'mapping.map',\n",
       " 'mask_predictor_names': True,\n",
       " 'mask_context_key_names': False,\n",
       " 'mask_ih_names': True,\n",
       " 'mask_outcome_name': False,\n",
       " 'mask_predictor_values': True,\n",
       " 'mask_context_key_values': True,\n",
       " 'mask_ih_values': True,\n",
       " 'mask_outcome_values': True,\n",
       " 'context_key_label': 'Context_*',\n",
       " 'ih_label': 'IH_*',\n",
       " 'outcome_column': 'Decision_Outcome',\n",
       " 'positive_outcomes': ['Accepted', 'Clicked'],\n",
       " 'negative_outcomes': ['Rejected', 'Impression'],\n",
       " 'special_predictors': ['Decision_DecisionTime',\n",
       "  'Decision_OutcomeTime',\n",
       "  'Decision_Rank'],\n",
       " 'sample_percentage_schema_inferencing': 0.01}"
      ]
     },
     "execution_count": 7,
     "metadata": {},
     "output_type": "execute_result"
    }
   ],
   "source": [
    "dict(zip(Config.__init__.__code__.co_varnames[1:], Config.__init__.__defaults__))"
   ]
  },
  {
   "attachments": {},
   "cell_type": "markdown",
   "metadata": {},
   "source": [
    "It's easy to change these parameters by just passing the keyword arguments. In the following example, we\n",
    "- Keep the IH predictor names\n",
    "- Keep the outcome values\n",
    "- Keep the context key values\n",
    "- Keep the context key predictor names"
   ]
  },
  {
   "cell_type": "code",
   "execution_count": 8,
   "metadata": {
    "execution": {
     "iopub.execute_input": "2023-10-10T15:26:22.819633Z",
     "iopub.status.busy": "2023-10-10T15:26:22.819111Z",
     "iopub.status.idle": "2023-10-10T15:26:22.831350Z",
     "shell.execute_reply": "2023-10-10T15:26:22.830919Z"
    }
   },
   "outputs": [
    {
     "data": {
      "text/html": [
       "<div><style>\n",
       ".dataframe > thead > tr > th,\n",
       ".dataframe > tbody > tr > td {\n",
       "  text-align: right;\n",
       "  white-space: pre-wrap;\n",
       "}\n",
       "</style>\n",
       "<small>shape: (7, 7)</small><table border=\"1\" class=\"dataframe\"><thead><tr><th>PREDICTOR_0</th><th>PREDICTOR_1</th><th>filename</th><th>PREDICTOR_3</th><th>Context_Name</th><th>IH_Web_Inbound_Accepted_pxLastGroupID</th><th>Decision_Outcome</th></tr><tr><td>f64</td><td>str</td><td>str</td><td>str</td><td>str</td><td>str</td><td>str</td></tr></thead><tbody><tr><td>1.2927e19</td><td>&quot;63682568790037…</td><td>&quot;../../../../da…</td><td>&quot;12188323236081…</td><td>&quot;FirstMortgage3…</td><td>&quot;16732014201958…</td><td>&quot;Rejected&quot;</td></tr><tr><td>1.4856e19</td><td>&quot;48079468759724…</td><td>&quot;../../../../da…</td><td>&quot;12692802222252…</td><td>&quot;FirstMortgage3…</td><td>&quot;83366044826177…</td><td>&quot;Accepted&quot;</td></tr><tr><td>5.6458e17</td><td>&quot;41481549862407…</td><td>&quot;../../../../da…</td><td>&quot;29008456713512…</td><td>&quot;MoneyMarketSav…</td><td>&quot;16732014201958…</td><td>&quot;Rejected&quot;</td></tr><tr><td>4.0723e18</td><td>&quot;37933783324476…</td><td>&quot;../../../../da…</td><td>&quot;12692802222252…</td><td>&quot;BasicChecking&quot;</td><td>&quot;16732014201958…</td><td>&quot;Rejected&quot;</td></tr><tr><td>1.4677e19</td><td>&quot;17892988291251…</td><td>&quot;../../../../da…</td><td>&quot;12188323236081…</td><td>&quot;BasicChecking&quot;</td><td>&quot;12084923067678…</td><td>&quot;Accepted&quot;</td></tr><tr><td>1.6330e19</td><td>&quot;17675955587935…</td><td>&quot;../../../../da…</td><td>&quot;29008456713512…</td><td>&quot;UPlusFinPerson…</td><td>null</td><td>&quot;Rejected&quot;</td></tr><tr><td>8.7675e18</td><td>&quot;13573701743499…</td><td>&quot;../../../../da…</td><td>&quot;29008456713512…</td><td>&quot;BasicChecking&quot;</td><td>&quot;12084923067678…</td><td>&quot;Rejected&quot;</td></tr></tbody></table></div>"
      ],
      "text/plain": [
       "shape: (7, 7)\n",
       "┌─────────────┬──────────────┬─────────────┬─────────────┬─────────────┬─────────────┬─────────────┐\n",
       "│ PREDICTOR_0 ┆ PREDICTOR_1  ┆ filename    ┆ PREDICTOR_3 ┆ Context_Nam ┆ IH_Web_Inbo ┆ Decision_Ou │\n",
       "│ ---         ┆ ---          ┆ ---         ┆ ---         ┆ e           ┆ und_Accepte ┆ tcome       │\n",
       "│ f64         ┆ str          ┆ str         ┆ str         ┆ ---         ┆ d_pxLastGr… ┆ ---         │\n",
       "│             ┆              ┆             ┆             ┆ str         ┆ ---         ┆ str         │\n",
       "│             ┆              ┆             ┆             ┆             ┆ str         ┆             │\n",
       "╞═════════════╪══════════════╪═════════════╪═════════════╪═════════════╪═════════════╪═════════════╡\n",
       "│ 1.2927e19   ┆ 636825687900 ┆ ../../../.. ┆ 12188323236 ┆ FirstMortga ┆ 16732014201 ┆ Rejected    │\n",
       "│             ┆ 3732199      ┆ /data/Sampl ┆ 081418811   ┆ ge30yr      ┆ 958119959   ┆             │\n",
       "│             ┆              ┆ eHDS.json   ┆             ┆             ┆             ┆             │\n",
       "│ 1.4856e19   ┆ 480794687597 ┆ ../../../.. ┆ 12692802222 ┆ FirstMortga ┆ 83366044826 ┆ Accepted    │\n",
       "│             ┆ 2485025      ┆ /data/Sampl ┆ 25246748    ┆ ge30yr      ┆ 17751754    ┆             │\n",
       "│             ┆              ┆ eHDS.json   ┆             ┆             ┆             ┆             │\n",
       "│ 5.6458e17   ┆ 414815498624 ┆ ../../../.. ┆ 29008456713 ┆ MoneyMarket ┆ 16732014201 ┆ Rejected    │\n",
       "│             ┆ 0708028      ┆ /data/Sampl ┆ 51206308    ┆ SavingsAcco ┆ 958119959   ┆             │\n",
       "│             ┆              ┆ eHDS.json   ┆             ┆ unt         ┆             ┆             │\n",
       "│ 4.0723e18   ┆ 379337833244 ┆ ../../../.. ┆ 12692802222 ┆ BasicChecki ┆ 16732014201 ┆ Rejected    │\n",
       "│             ┆ 7666427      ┆ /data/Sampl ┆ 25246748    ┆ ng          ┆ 958119959   ┆             │\n",
       "│             ┆              ┆ eHDS.json   ┆             ┆             ┆             ┆             │\n",
       "│ 1.4677e19   ┆ 178929882912 ┆ ../../../.. ┆ 12188323236 ┆ BasicChecki ┆ 12084923067 ┆ Accepted    │\n",
       "│             ┆ 51118286     ┆ /data/Sampl ┆ 081418811   ┆ ng          ┆ 678160522   ┆             │\n",
       "│             ┆              ┆ eHDS.json   ┆             ┆             ┆             ┆             │\n",
       "│ 1.6330e19   ┆ 176759555879 ┆ ../../../.. ┆ 29008456713 ┆ UPlusFinPer ┆ null        ┆ Rejected    │\n",
       "│             ┆ 35341466     ┆ /data/Sampl ┆ 51206308    ┆ sonal       ┆             ┆             │\n",
       "│             ┆              ┆ eHDS.json   ┆             ┆             ┆             ┆             │\n",
       "│ 8.7675e18   ┆ 135737017434 ┆ ../../../.. ┆ 29008456713 ┆ BasicChecki ┆ 12084923067 ┆ Rejected    │\n",
       "│             ┆ 99189774     ┆ /data/Sampl ┆ 51206308    ┆ ng          ┆ 678160522   ┆             │\n",
       "│             ┆              ┆ eHDS.json   ┆             ┆             ┆             ┆             │\n",
       "└─────────────┴──────────────┴─────────────┴─────────────┴─────────────┴─────────────┴─────────────┘"
      ]
     },
     "execution_count": 8,
     "metadata": {},
     "output_type": "execute_result"
    }
   ],
   "source": [
    "anon = DataAnonymization(\n",
    "    hds_folder=\"../../../../data/\",\n",
    "    mask_ih_names=False,\n",
    "    mask_outcome_values=False,\n",
    "    mask_context_key_values=False,\n",
    "    mask_context_key_names=False,\n",
    ")\n",
    "anon.process()\n"
   ]
  },
  {
   "attachments": {},
   "cell_type": "markdown",
   "metadata": {},
   "source": [
    "The configs can also be written and read as such:"
   ]
  },
  {
   "cell_type": "code",
   "execution_count": 9,
   "metadata": {
    "execution": {
     "iopub.execute_input": "2023-10-10T15:26:22.833619Z",
     "iopub.status.busy": "2023-10-10T15:26:22.833125Z",
     "iopub.status.idle": "2023-10-10T15:26:22.836387Z",
     "shell.execute_reply": "2023-10-10T15:26:22.835574Z"
    }
   },
   "outputs": [],
   "source": [
    "anon.config.save_to_config_file('config.json')"
   ]
  },
  {
   "cell_type": "code",
   "execution_count": 10,
   "metadata": {
    "execution": {
     "iopub.execute_input": "2023-10-10T15:26:22.838493Z",
     "iopub.status.busy": "2023-10-10T15:26:22.838078Z",
     "iopub.status.idle": "2023-10-10T15:26:22.849833Z",
     "shell.execute_reply": "2023-10-10T15:26:22.849393Z"
    }
   },
   "outputs": [
    {
     "data": {
      "text/html": [
       "<div><style>\n",
       ".dataframe > thead > tr > th,\n",
       ".dataframe > tbody > tr > td {\n",
       "  text-align: right;\n",
       "  white-space: pre-wrap;\n",
       "}\n",
       "</style>\n",
       "<small>shape: (7, 7)</small><table border=\"1\" class=\"dataframe\"><thead><tr><th>PREDICTOR_0</th><th>PREDICTOR_1</th><th>filename</th><th>PREDICTOR_3</th><th>Context_Name</th><th>IH_Web_Inbound_Accepted_pxLastGroupID</th><th>Decision_Outcome</th></tr><tr><td>f64</td><td>str</td><td>str</td><td>str</td><td>str</td><td>str</td><td>str</td></tr></thead><tbody><tr><td>1.2927e19</td><td>&quot;18023278812157…</td><td>&quot;../../../../da…</td><td>&quot;17380619058124…</td><td>&quot;FirstMortgage3…</td><td>&quot;12985450184117…</td><td>&quot;Rejected&quot;</td></tr><tr><td>1.4856e19</td><td>&quot;63289600427320…</td><td>&quot;../../../../da…</td><td>&quot;47046459579096…</td><td>&quot;FirstMortgage3…</td><td>&quot;17312313079143…</td><td>&quot;Accepted&quot;</td></tr><tr><td>5.6458e17</td><td>&quot;12279060948156…</td><td>&quot;../../../../da…</td><td>&quot;12332953376207…</td><td>&quot;MoneyMarketSav…</td><td>&quot;12985450184117…</td><td>&quot;Rejected&quot;</td></tr><tr><td>4.0723e18</td><td>&quot;16277932634455…</td><td>&quot;../../../../da…</td><td>&quot;47046459579096…</td><td>&quot;BasicChecking&quot;</td><td>&quot;12985450184117…</td><td>&quot;Rejected&quot;</td></tr><tr><td>1.4677e19</td><td>&quot;25539835136535…</td><td>&quot;../../../../da…</td><td>&quot;17380619058124…</td><td>&quot;BasicChecking&quot;</td><td>&quot;13948854829333…</td><td>&quot;Accepted&quot;</td></tr><tr><td>1.6330e19</td><td>&quot;10697887150219…</td><td>&quot;../../../../da…</td><td>&quot;12332953376207…</td><td>&quot;UPlusFinPerson…</td><td>null</td><td>&quot;Rejected&quot;</td></tr><tr><td>8.7675e18</td><td>&quot;14718832666096…</td><td>&quot;../../../../da…</td><td>&quot;12332953376207…</td><td>&quot;BasicChecking&quot;</td><td>&quot;13948854829333…</td><td>&quot;Rejected&quot;</td></tr></tbody></table></div>"
      ],
      "text/plain": [
       "shape: (7, 7)\n",
       "┌─────────────┬──────────────┬─────────────┬─────────────┬─────────────┬─────────────┬─────────────┐\n",
       "│ PREDICTOR_0 ┆ PREDICTOR_1  ┆ filename    ┆ PREDICTOR_3 ┆ Context_Nam ┆ IH_Web_Inbo ┆ Decision_Ou │\n",
       "│ ---         ┆ ---          ┆ ---         ┆ ---         ┆ e           ┆ und_Accepte ┆ tcome       │\n",
       "│ f64         ┆ str          ┆ str         ┆ str         ┆ ---         ┆ d_pxLastGr… ┆ ---         │\n",
       "│             ┆              ┆             ┆             ┆ str         ┆ ---         ┆ str         │\n",
       "│             ┆              ┆             ┆             ┆             ┆ str         ┆             │\n",
       "╞═════════════╪══════════════╪═════════════╪═════════════╪═════════════╪═════════════╪═════════════╡\n",
       "│ 1.2927e19   ┆ 180232788121 ┆ ../../../.. ┆ 17380619058 ┆ FirstMortga ┆ 12985450184 ┆ Rejected    │\n",
       "│             ┆ 57216906     ┆ /data/Sampl ┆ 124613773   ┆ ge30yr      ┆ 11798980    ┆             │\n",
       "│             ┆              ┆ eHDS.json   ┆             ┆             ┆             ┆             │\n",
       "│ 1.4856e19   ┆ 632896004273 ┆ ../../../.. ┆ 47046459579 ┆ FirstMortga ┆ 17312313079 ┆ Accepted    │\n",
       "│             ┆ 2073478      ┆ /data/Sampl ┆ 09694859    ┆ ge30yr      ┆ 143437512   ┆             │\n",
       "│             ┆              ┆ eHDS.json   ┆             ┆             ┆             ┆             │\n",
       "│ 5.6458e17   ┆ 122790609481 ┆ ../../../.. ┆ 12332953376 ┆ MoneyMarket ┆ 12985450184 ┆ Rejected    │\n",
       "│             ┆ 56996399     ┆ /data/Sampl ┆ 207064863   ┆ SavingsAcco ┆ 11798980    ┆             │\n",
       "│             ┆              ┆ eHDS.json   ┆             ┆ unt         ┆             ┆             │\n",
       "│ 4.0723e18   ┆ 162779326344 ┆ ../../../.. ┆ 47046459579 ┆ BasicChecki ┆ 12985450184 ┆ Rejected    │\n",
       "│             ┆ 558665       ┆ /data/Sampl ┆ 09694859    ┆ ng          ┆ 11798980    ┆             │\n",
       "│             ┆              ┆ eHDS.json   ┆             ┆             ┆             ┆             │\n",
       "│ 1.4677e19   ┆ 255398351365 ┆ ../../../.. ┆ 17380619058 ┆ BasicChecki ┆ 13948854829 ┆ Accepted    │\n",
       "│             ┆ 3556172      ┆ /data/Sampl ┆ 124613773   ┆ ng          ┆ 333552275   ┆             │\n",
       "│             ┆              ┆ eHDS.json   ┆             ┆             ┆             ┆             │\n",
       "│ 1.6330e19   ┆ 106978871502 ┆ ../../../.. ┆ 12332953376 ┆ UPlusFinPer ┆ null        ┆ Rejected    │\n",
       "│             ┆ 1983365      ┆ /data/Sampl ┆ 207064863   ┆ sonal       ┆             ┆             │\n",
       "│             ┆              ┆ eHDS.json   ┆             ┆             ┆             ┆             │\n",
       "│ 8.7675e18   ┆ 147188326660 ┆ ../../../.. ┆ 12332953376 ┆ BasicChecki ┆ 13948854829 ┆ Rejected    │\n",
       "│             ┆ 96500627     ┆ /data/Sampl ┆ 207064863   ┆ ng          ┆ 333552275   ┆             │\n",
       "│             ┆              ┆ eHDS.json   ┆             ┆             ┆             ┆             │\n",
       "└─────────────┴──────────────┴─────────────┴─────────────┴─────────────┴─────────────┴─────────────┘"
      ]
     },
     "execution_count": 10,
     "metadata": {},
     "output_type": "execute_result"
    }
   ],
   "source": [
    "anon = DataAnonymization(config=Config(config_file='config.json'))\n",
    "anon.process()"
   ]
  },
  {
   "attachments": {},
   "cell_type": "markdown",
   "metadata": {},
   "source": [
    "## Exporting\n",
    "Two functions export:\n",
    "- `create_mapping_file()` writes the mapping file of the predictor names\n",
    "- `write_to_output()` writes the processed dataframe to disk\n",
    "\n",
    "Write to output accepts the following extensions: `[\"ndjson\", \"parquet\", \"arrow\", \"csv\"]`"
   ]
  },
  {
   "cell_type": "code",
   "execution_count": 11,
   "metadata": {
    "execution": {
     "iopub.execute_input": "2023-10-10T15:26:22.852031Z",
     "iopub.status.busy": "2023-10-10T15:26:22.851609Z",
     "iopub.status.idle": "2023-10-10T15:26:22.855109Z",
     "shell.execute_reply": "2023-10-10T15:26:22.854683Z"
    }
   },
   "outputs": [
    {
     "name": "stdout",
     "output_type": "stream",
     "text": [
      "Customer_CLV=PREDICTOR_0\n",
      "Customer_City=PREDICTOR_1\n",
      "filename=filename\n",
      "Customer_MaritalStatus=PREDICTOR_3\n",
      "Context_Name=Context_Name\n",
      "IH_Web_Inbound_Accepted_pxLastGroupID=IH_Web_Inbound_Accepted_pxLastGroupID\n",
      "Decision_Outcome=Decision_Outcome\n",
      "\n"
     ]
    }
   ],
   "source": [
    "anon.create_mapping_file()\n",
    "with open('mapping.map') as f:\n",
    "    print(f.read())"
   ]
  },
  {
   "cell_type": "code",
   "execution_count": 12,
   "metadata": {
    "execution": {
     "iopub.execute_input": "2023-10-10T15:26:22.857261Z",
     "iopub.status.busy": "2023-10-10T15:26:22.856812Z",
     "iopub.status.idle": "2023-10-10T15:26:22.860748Z",
     "shell.execute_reply": "2023-10-10T15:26:22.860282Z"
    }
   },
   "outputs": [],
   "source": [
    "anon.write_to_output(ext='arrow')"
   ]
  },
  {
   "cell_type": "code",
   "execution_count": 13,
   "metadata": {
    "execution": {
     "iopub.execute_input": "2023-10-10T15:26:22.863484Z",
     "iopub.status.busy": "2023-10-10T15:26:22.862436Z",
     "iopub.status.idle": "2023-10-10T15:26:22.869131Z",
     "shell.execute_reply": "2023-10-10T15:26:22.868646Z"
    }
   },
   "outputs": [
    {
     "data": {
      "text/html": [
       "<div><style>\n",
       ".dataframe > thead > tr > th,\n",
       ".dataframe > tbody > tr > td {\n",
       "  text-align: right;\n",
       "  white-space: pre-wrap;\n",
       "}\n",
       "</style>\n",
       "<small>shape: (7, 6)</small><table border=\"1\" class=\"dataframe\"><thead><tr><th>PREDICTOR_0</th><th>PREDICTOR_1</th><th>PREDICTOR_3</th><th>Context_Name</th><th>IH_Web_Inbound_Accepted_pxLastGroupID</th><th>Decision_Outcome</th></tr><tr><td>f64</td><td>str</td><td>str</td><td>str</td><td>str</td><td>str</td></tr></thead><tbody><tr><td>1.2927e19</td><td>&quot;14920413840935…</td><td>&quot;11366580567649…</td><td>&quot;FirstMortgage3…</td><td>&quot;84228212272339…</td><td>&quot;Rejected&quot;</td></tr><tr><td>1.4856e19</td><td>&quot;47568642277697…</td><td>&quot;15373581156434…</td><td>&quot;FirstMortgage3…</td><td>&quot;12794183973925…</td><td>&quot;Accepted&quot;</td></tr><tr><td>5.6458e17</td><td>&quot;97784646130875…</td><td>&quot;76032646821576…</td><td>&quot;MoneyMarketSav…</td><td>&quot;84228212272339…</td><td>&quot;Rejected&quot;</td></tr><tr><td>4.0723e18</td><td>&quot;41495063024985…</td><td>&quot;15373581156434…</td><td>&quot;BasicChecking&quot;</td><td>&quot;84228212272339…</td><td>&quot;Rejected&quot;</td></tr><tr><td>1.4677e19</td><td>&quot;10988951904857…</td><td>&quot;11366580567649…</td><td>&quot;BasicChecking&quot;</td><td>&quot;13179202747906…</td><td>&quot;Accepted&quot;</td></tr><tr><td>1.6330e19</td><td>&quot;48929528272747…</td><td>&quot;76032646821576…</td><td>&quot;UPlusFinPerson…</td><td>null</td><td>&quot;Rejected&quot;</td></tr><tr><td>8.7675e18</td><td>&quot;16208159846074…</td><td>&quot;76032646821576…</td><td>&quot;BasicChecking&quot;</td><td>&quot;13179202747906…</td><td>&quot;Rejected&quot;</td></tr></tbody></table></div>"
      ],
      "text/plain": [
       "shape: (7, 6)\n",
       "┌─────────────┬────────────────┬────────────────┬────────────────┬────────────────┬────────────────┐\n",
       "│ PREDICTOR_0 ┆ PREDICTOR_1    ┆ PREDICTOR_3    ┆ Context_Name   ┆ IH_Web_Inbound ┆ Decision_Outco │\n",
       "│ ---         ┆ ---            ┆ ---            ┆ ---            ┆ _Accepted_pxLa ┆ me             │\n",
       "│ f64         ┆ str            ┆ str            ┆ str            ┆ stGr…          ┆ ---            │\n",
       "│             ┆                ┆                ┆                ┆ ---            ┆ str            │\n",
       "│             ┆                ┆                ┆                ┆ str            ┆                │\n",
       "╞═════════════╪════════════════╪════════════════╪════════════════╪════════════════╪════════════════╡\n",
       "│ 1.2927e19   ┆ 14920413840935 ┆ 11366580567649 ┆ FirstMortgage3 ┆ 84228212272339 ┆ Rejected       │\n",
       "│             ┆ 345262         ┆ 486971         ┆ 0yr            ┆ 8438           ┆                │\n",
       "│ 1.4856e19   ┆ 47568642277697 ┆ 15373581156434 ┆ FirstMortgage3 ┆ 12794183973925 ┆ Accepted       │\n",
       "│             ┆ 87335          ┆ 933190         ┆ 0yr            ┆ 898202         ┆                │\n",
       "│ 5.6458e17   ┆ 97784646130875 ┆ 76032646821576 ┆ MoneyMarketSav ┆ 84228212272339 ┆ Rejected       │\n",
       "│             ┆ 25355          ┆ 03865          ┆ ingsAccount    ┆ 8438           ┆                │\n",
       "│ 4.0723e18   ┆ 41495063024985 ┆ 15373581156434 ┆ BasicChecking  ┆ 84228212272339 ┆ Rejected       │\n",
       "│             ┆ 94464          ┆ 933190         ┆                ┆ 8438           ┆                │\n",
       "│ 1.4677e19   ┆ 10988951904857 ┆ 11366580567649 ┆ BasicChecking  ┆ 13179202747906 ┆ Accepted       │\n",
       "│             ┆ 725577         ┆ 486971         ┆                ┆ 356533         ┆                │\n",
       "│ 1.6330e19   ┆ 48929528272747 ┆ 76032646821576 ┆ UPlusFinPerson ┆ null           ┆ Rejected       │\n",
       "│             ┆ 79381          ┆ 03865          ┆ al             ┆                ┆                │\n",
       "│ 8.7675e18   ┆ 16208159846074 ┆ 76032646821576 ┆ BasicChecking  ┆ 13179202747906 ┆ Rejected       │\n",
       "│             ┆ 098094         ┆ 03865          ┆                ┆ 356533         ┆                │\n",
       "└─────────────┴────────────────┴────────────────┴────────────────┴────────────────┴────────────────┘"
      ]
     },
     "execution_count": 13,
     "metadata": {},
     "output_type": "execute_result"
    }
   ],
   "source": [
    "pl.read_ipc('output/hds.arrow')"
   ]
  },
  {
   "attachments": {},
   "cell_type": "markdown",
   "metadata": {
    "nbsphinx": "hidden"
   },
   "source": [
    "## Advanced: Hash fuctions\n",
    "\n",
    "By default, we use [the same hashing algorithm Polars](https://pola-rs.github.io/polars/py-polars/html/reference/expressions/api/polars.Expr.hash.html#polars.Expr.hash) uses: [xxhash](https://github.com/Cyan4973/xxHash), as implemented [here](https://github.com/pola-rs/polars/blob/3f287f370b3c388ed2f3f218b2c096382548136f/polars/polars-core/src/vector_hasher.rs#L266). xxhash is fast to compute, and you can check its performance in collision, dispersion and randomness [here](https://github.com/Cyan4973/xxHash/tree/dev/tests). \n",
    "\n",
    "xxhash accepts four distinct seeds, but by default we set the seeds to `0`. It is possible to set the `seed` argument of the `process()` function to `'random'`, which will set all four seeds to a random integer between `0` and `1000000000`. Alternatively, it is possible to supply the four seeds manually with arguments `seed`, `seed_1`, `seed_2` and `seed_3`. \n",
    "\n",
    "If the xxhash with (random) seed(s) is not deemed sufficiently secure, it is possible to use your own hashing algorithm.\n",
    "\n",
    "Note that since we're now running python code and not native Polars code anymore, this will be _significantly_ slower. Nonetheless, it is possible.\n",
    "\n",
    "Just as an example - this is how one would use sha3_256:"
   ]
  },
  {
   "cell_type": "code",
   "execution_count": 14,
   "metadata": {
    "execution": {
     "iopub.execute_input": "2023-10-10T15:26:22.871384Z",
     "iopub.status.busy": "2023-10-10T15:26:22.870877Z",
     "iopub.status.idle": "2023-10-10T15:26:23.239324Z",
     "shell.execute_reply": "2023-10-10T15:26:23.238662Z"
    },
    "nbsphinx": "hidden"
   },
   "outputs": [
    {
     "ename": "ComputeError",
     "evalue": "AttributeError: 'int' object has no attribute 'encode'",
     "output_type": "error",
     "traceback": [
      "\u001b[0;31m---------------------------------------------------------------------------\u001b[0m",
      "\u001b[0;31mComputeError\u001b[0m                              Traceback (most recent call last)",
      "Cell \u001b[0;32mIn[14], line 3\u001b[0m\n\u001b[1;32m      1\u001b[0m \u001b[38;5;28;01mfrom\u001b[39;00m \u001b[38;5;21;01mhashlib\u001b[39;00m \u001b[38;5;28;01mimport\u001b[39;00m sha3_256\n\u001b[0;32m----> 3\u001b[0m \u001b[43manon\u001b[49m\u001b[38;5;241;43m.\u001b[39;49m\u001b[43mprocess\u001b[49m\u001b[43m(\u001b[49m\u001b[43malgorithm\u001b[49m\u001b[38;5;241;43m=\u001b[39;49m\u001b[38;5;28;43;01mlambda\u001b[39;49;00m\u001b[43m \u001b[49m\u001b[43mx\u001b[49m\u001b[43m:\u001b[49m\u001b[43m \u001b[49m\u001b[43msha3_256\u001b[49m\u001b[43m(\u001b[49m\u001b[43mx\u001b[49m\u001b[38;5;241;43m.\u001b[39;49m\u001b[43mencode\u001b[49m\u001b[43m(\u001b[49m\u001b[43m)\u001b[49m\u001b[43m)\u001b[49m\u001b[38;5;241;43m.\u001b[39;49m\u001b[43mhexdigest\u001b[49m\u001b[43m(\u001b[49m\u001b[43m)\u001b[49m\u001b[43m)\u001b[49m\n",
      "File \u001b[0;32m~/work/pega-datascientist-tools/pega-datascientist-tools/python/docs/source/articles/../../../pdstools/utils/hds_utils.py:516\u001b[0m, in \u001b[0;36mDataAnonymization.process\u001b[0;34m(self, strategy, **kwargs)\u001b[0m\n\u001b[1;32m    514\u001b[0m df \u001b[38;5;241m=\u001b[39m df\u001b[38;5;241m.\u001b[39mselect(\u001b[38;5;28mself\u001b[39m\u001b[38;5;241m.\u001b[39mcolumn_mapping\u001b[38;5;241m.\u001b[39mkeys())\u001b[38;5;241m.\u001b[39mrename(\u001b[38;5;28mself\u001b[39m\u001b[38;5;241m.\u001b[39mcolumn_mapping)\n\u001b[1;32m    515\u001b[0m \u001b[38;5;28;01mif\u001b[39;00m strategy \u001b[38;5;241m==\u001b[39m \u001b[38;5;124m\"\u001b[39m\u001b[38;5;124meager\u001b[39m\u001b[38;5;124m\"\u001b[39m:\n\u001b[0;32m--> 516\u001b[0m     \u001b[38;5;28;01mreturn\u001b[39;00m \u001b[43mdf\u001b[49m\u001b[38;5;241;43m.\u001b[39;49m\u001b[43mcollect\u001b[49m\u001b[43m(\u001b[49m\u001b[43m)\u001b[49m\n\u001b[1;32m    517\u001b[0m \u001b[38;5;28;01mreturn\u001b[39;00m df\n",
      "File \u001b[0;32m/opt/hostedtoolcache/Python/3.11.5/x64/lib/python3.11/site-packages/polars/utils/deprecation.py:95\u001b[0m, in \u001b[0;36mdeprecate_renamed_parameter.<locals>.decorate.<locals>.wrapper\u001b[0;34m(*args, **kwargs)\u001b[0m\n\u001b[1;32m     90\u001b[0m \u001b[38;5;129m@wraps\u001b[39m(function)\n\u001b[1;32m     91\u001b[0m \u001b[38;5;28;01mdef\u001b[39;00m \u001b[38;5;21mwrapper\u001b[39m(\u001b[38;5;241m*\u001b[39margs: P\u001b[38;5;241m.\u001b[39margs, \u001b[38;5;241m*\u001b[39m\u001b[38;5;241m*\u001b[39mkwargs: P\u001b[38;5;241m.\u001b[39mkwargs) \u001b[38;5;241m-\u001b[39m\u001b[38;5;241m>\u001b[39m T:\n\u001b[1;32m     92\u001b[0m     _rename_keyword_argument(\n\u001b[1;32m     93\u001b[0m         old_name, new_name, kwargs, function\u001b[38;5;241m.\u001b[39m\u001b[38;5;18m__name__\u001b[39m, version\n\u001b[1;32m     94\u001b[0m     )\n\u001b[0;32m---> 95\u001b[0m     \u001b[38;5;28;01mreturn\u001b[39;00m \u001b[43mfunction\u001b[49m\u001b[43m(\u001b[49m\u001b[38;5;241;43m*\u001b[39;49m\u001b[43margs\u001b[49m\u001b[43m,\u001b[49m\u001b[43m \u001b[49m\u001b[38;5;241;43m*\u001b[39;49m\u001b[38;5;241;43m*\u001b[39;49m\u001b[43mkwargs\u001b[49m\u001b[43m)\u001b[49m\n",
      "File \u001b[0;32m/opt/hostedtoolcache/Python/3.11.5/x64/lib/python3.11/site-packages/polars/lazyframe/frame.py:1711\u001b[0m, in \u001b[0;36mLazyFrame.collect\u001b[0;34m(self, type_coercion, predicate_pushdown, projection_pushdown, simplify_expression, no_optimization, slice_pushdown, comm_subplan_elim, comm_subexpr_elim, streaming, **kwargs)\u001b[0m\n\u001b[1;32m   1698\u001b[0m     comm_subplan_elim \u001b[38;5;241m=\u001b[39m \u001b[38;5;28;01mFalse\u001b[39;00m\n\u001b[1;32m   1700\u001b[0m ldf \u001b[38;5;241m=\u001b[39m \u001b[38;5;28mself\u001b[39m\u001b[38;5;241m.\u001b[39m_ldf\u001b[38;5;241m.\u001b[39moptimization_toggle(\n\u001b[1;32m   1701\u001b[0m     type_coercion,\n\u001b[1;32m   1702\u001b[0m     predicate_pushdown,\n\u001b[0;32m   (...)\u001b[0m\n\u001b[1;32m   1709\u001b[0m     eager,\n\u001b[1;32m   1710\u001b[0m )\n\u001b[0;32m-> 1711\u001b[0m \u001b[38;5;28;01mreturn\u001b[39;00m wrap_df(ldf\u001b[38;5;241m.\u001b[39mcollect())\n",
      "\u001b[0;31mComputeError\u001b[0m: AttributeError: 'int' object has no attribute 'encode'"
     ]
    }
   ],
   "source": [
    "from hashlib import sha3_256\n",
    "\n",
    "anon.process(algorithm=lambda x: sha3_256(x.encode()).hexdigest())"
   ]
  }
 ],
 "metadata": {
  "kernelspec": {
   "display_name": "Python 3",
   "language": "python",
   "name": "python3"
  },
  "language_info": {
   "codemirror_mode": {
    "name": "ipython",
    "version": 3
   },
   "file_extension": ".py",
   "mimetype": "text/x-python",
   "name": "python",
   "nbconvert_exporter": "python",
   "pygments_lexer": "ipython3",
   "version": "3.11.5"
  },
  "vscode": {
   "interpreter": {
    "hash": "aee8b7b246df8f9039afb4144a1f6fd8d2ca17a180786b69acc140d282b71a49"
   }
  }
 },
 "nbformat": 4,
 "nbformat_minor": 2
}
