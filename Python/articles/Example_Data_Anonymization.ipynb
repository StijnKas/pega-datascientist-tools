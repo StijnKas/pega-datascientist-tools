{
 "cells": [
  {
   "attachments": {},
   "cell_type": "markdown",
   "metadata": {},
   "source": [
    "# Data Anonymization\n",
    "\n",
    "In Pega CDH 8.5 and up, it's now possible to record the historical data as seen by the Adaptive Models. See [this academy challenge](https://academy.pega.com/challenge/exporting-historical-data/v4) for reference. This historical data can be further used to experiment with offline models, but also to fine-tune the OOTB Gradient Boosting model. However, sharing this information with Pega can be sensitive as it contains raw predictor data. \n",
    "\n",
    "To this end, we provide a simple and transparent script to fully anonimize this dataset.\n",
    "\n",
    "The DataAnonymization script is now part of pdstools, and you can import it directly as such."
   ]
  },
  {
   "cell_type": "code",
   "execution_count": 1,
   "metadata": {
    "execution": {
     "iopub.execute_input": "2024-06-25T08:00:07.094233Z",
     "iopub.status.busy": "2024-06-25T08:00:07.094050Z",
     "iopub.status.idle": "2024-06-25T08:00:07.170403Z",
     "shell.execute_reply": "2024-06-25T08:00:07.169803Z"
    },
    "nbsphinx": "hidden"
   },
   "outputs": [],
   "source": [
    "# These lines are only for rendering in the docs, and are hidden through Jupyter tags\n",
    "# Do not run if you're running the notebook seperately\n",
    "\n",
    "import os  \n",
    "import sys\n",
    "import plotly.io as pio\n",
    "pio.renderers.default = \"notebook_connected\"\n",
    "\n",
    "sys.path.append(\"../../../\")\n",
    "sys.path.append('../../python')"
   ]
  },
  {
   "cell_type": "code",
   "execution_count": 2,
   "metadata": {
    "execution": {
     "iopub.execute_input": "2024-06-25T08:00:07.172979Z",
     "iopub.status.busy": "2024-06-25T08:00:07.172592Z",
     "iopub.status.idle": "2024-06-25T08:00:08.398304Z",
     "shell.execute_reply": "2024-06-25T08:00:08.397628Z"
    }
   },
   "outputs": [],
   "source": [
    "from pdstools import ADMDatamart\n",
    "from pdstools import Config, DataAnonymization\n",
    "import polars as pl"
   ]
  },
  {
   "attachments": {},
   "cell_type": "markdown",
   "metadata": {},
   "source": [
    "## Input data\n",
    "\n",
    "To demonstrate this process, we're going to anonymise this toy example dataframe:"
   ]
  },
  {
   "cell_type": "code",
   "execution_count": 3,
   "metadata": {
    "execution": {
     "iopub.execute_input": "2024-06-25T08:00:08.401004Z",
     "iopub.status.busy": "2024-06-25T08:00:08.400495Z",
     "iopub.status.idle": "2024-06-25T08:00:08.409713Z",
     "shell.execute_reply": "2024-06-25T08:00:08.409135Z"
    }
   },
   "outputs": [
    {
     "data": {
      "text/html": [
       "<div><style>\n",
       ".dataframe > thead > tr,\n",
       ".dataframe > tbody > tr {\n",
       "  text-align: right;\n",
       "  white-space: pre-wrap;\n",
       "}\n",
       "</style>\n",
       "<small>shape: (7, 6)</small><table border=\"1\" class=\"dataframe\"><thead><tr><th>Context_Name</th><th>Customer_MaritalStatus</th><th>Customer_CLV</th><th>Customer_City</th><th>IH_Web_Inbound_Accepted_pxLastGroupID</th><th>Decision_Outcome</th></tr><tr><td>str</td><td>str</td><td>i64</td><td>str</td><td>str</td><td>str</td></tr></thead><tbody><tr><td>&quot;FirstMortgage30yr&quot;</td><td>&quot;Married&quot;</td><td>1460</td><td>&quot;Port Raoul&quot;</td><td>&quot;Account&quot;</td><td>&quot;Rejected&quot;</td></tr><tr><td>&quot;FirstMortgage30yr&quot;</td><td>&quot;Unknown&quot;</td><td>669</td><td>&quot;Laurianneshire&quot;</td><td>&quot;AutoLoans&quot;</td><td>&quot;Accepted&quot;</td></tr><tr><td>&quot;MoneyMarketSavingsAccount&quot;</td><td>&quot;No Resp+&quot;</td><td>1174</td><td>&quot;Jacobshaven&quot;</td><td>&quot;Account&quot;</td><td>&quot;Rejected&quot;</td></tr><tr><td>&quot;BasicChecking&quot;</td><td>&quot;Unknown&quot;</td><td>1476</td><td>&quot;Lindton&quot;</td><td>&quot;Account&quot;</td><td>&quot;Rejected&quot;</td></tr><tr><td>&quot;BasicChecking&quot;</td><td>&quot;Married&quot;</td><td>1211</td><td>&quot;South Jimmieshire&quot;</td><td>&quot;DepositAccounts&quot;</td><td>&quot;Accepted&quot;</td></tr><tr><td>&quot;UPlusFinPersonal&quot;</td><td>&quot;No Resp+&quot;</td><td>533</td><td>&quot;Bergeville&quot;</td><td>null</td><td>&quot;Rejected&quot;</td></tr><tr><td>&quot;BasicChecking&quot;</td><td>&quot;No Resp+&quot;</td><td>555</td><td>&quot;Willyville&quot;</td><td>&quot;DepositAccounts&quot;</td><td>&quot;Rejected&quot;</td></tr></tbody></table></div>"
      ],
      "text/plain": [
       "shape: (7, 6)\n",
       "┌────────────────┬────────────────┬──────────────┬────────────────┬────────────────┬───────────────┐\n",
       "│ Context_Name   ┆ Customer_Marit ┆ Customer_CLV ┆ Customer_City  ┆ IH_Web_Inbound ┆ Decision_Outc │\n",
       "│ ---            ┆ alStatus       ┆ ---          ┆ ---            ┆ _Accepted_pxLa ┆ ome           │\n",
       "│ str            ┆ ---            ┆ i64          ┆ str            ┆ st…            ┆ ---           │\n",
       "│                ┆ str            ┆              ┆                ┆ ---            ┆ str           │\n",
       "│                ┆                ┆              ┆                ┆ str            ┆               │\n",
       "╞════════════════╪════════════════╪══════════════╪════════════════╪════════════════╪═══════════════╡\n",
       "│ FirstMortgage3 ┆ Married        ┆ 1460         ┆ Port Raoul     ┆ Account        ┆ Rejected      │\n",
       "│ 0yr            ┆                ┆              ┆                ┆                ┆               │\n",
       "│ FirstMortgage3 ┆ Unknown        ┆ 669          ┆ Laurianneshire ┆ AutoLoans      ┆ Accepted      │\n",
       "│ 0yr            ┆                ┆              ┆                ┆                ┆               │\n",
       "│ MoneyMarketSav ┆ No Resp+       ┆ 1174         ┆ Jacobshaven    ┆ Account        ┆ Rejected      │\n",
       "│ ingsAccount    ┆                ┆              ┆                ┆                ┆               │\n",
       "│ BasicChecking  ┆ Unknown        ┆ 1476         ┆ Lindton        ┆ Account        ┆ Rejected      │\n",
       "│ BasicChecking  ┆ Married        ┆ 1211         ┆ South          ┆ DepositAccount ┆ Accepted      │\n",
       "│                ┆                ┆              ┆ Jimmieshire    ┆ s              ┆               │\n",
       "│ UPlusFinPerson ┆ No Resp+       ┆ 533          ┆ Bergeville     ┆ null           ┆ Rejected      │\n",
       "│ al             ┆                ┆              ┆                ┆                ┆               │\n",
       "│ BasicChecking  ┆ No Resp+       ┆ 555          ┆ Willyville     ┆ DepositAccount ┆ Rejected      │\n",
       "│                ┆                ┆              ┆                ┆ s              ┆               │\n",
       "└────────────────┴────────────────┴──────────────┴────────────────┴────────────────┴───────────────┘"
      ]
     },
     "execution_count": 3,
     "metadata": {},
     "output_type": "execute_result"
    }
   ],
   "source": [
    "pl.read_ndjson('../../../../data/SampleHDS.json')"
   ]
  },
  {
   "attachments": {},
   "cell_type": "markdown",
   "metadata": {},
   "source": [
    "As you can see, this dataset consists of regular predictors, IH predictors, context keys and the outcome column. Additionally, some columns are numeric, others are strings. Let's first initialize the DataAnonymization class."
   ]
  },
  {
   "cell_type": "code",
   "execution_count": 4,
   "metadata": {
    "execution": {
     "iopub.execute_input": "2024-06-25T08:00:08.412355Z",
     "iopub.status.busy": "2024-06-25T08:00:08.411811Z",
     "iopub.status.idle": "2024-06-25T08:00:08.422552Z",
     "shell.execute_reply": "2024-06-25T08:00:08.421978Z"
    }
   },
   "outputs": [],
   "source": [
    "anon = DataAnonymization(hds_folder='../../../../data/')"
   ]
  },
  {
   "attachments": {},
   "cell_type": "markdown",
   "metadata": {},
   "source": [
    "By default, the class applies a set of anonymisation techniques:\n",
    "- Column names are remapped to a non-descriptive name\n",
    "- Categorical values are hashed with a random seed\n",
    "- Numerical values are normalized between 0 and 1\n",
    "- Outcomes are mapped to a binary outcome.\n",
    "\n",
    "To apply these techniques, simply call `.process()`:"
   ]
  },
  {
   "cell_type": "code",
   "execution_count": 5,
   "metadata": {
    "execution": {
     "iopub.execute_input": "2024-06-25T08:00:08.425180Z",
     "iopub.status.busy": "2024-06-25T08:00:08.424801Z",
     "iopub.status.idle": "2024-06-25T08:00:08.430597Z",
     "shell.execute_reply": "2024-06-25T08:00:08.430095Z"
    }
   },
   "outputs": [
    {
     "data": {
      "text/html": [
       "<div><style>\n",
       ".dataframe > thead > tr,\n",
       ".dataframe > tbody > tr {\n",
       "  text-align: right;\n",
       "  white-space: pre-wrap;\n",
       "}\n",
       "</style>\n",
       "<small>shape: (7, 7)</small><table border=\"1\" class=\"dataframe\"><thead><tr><th>PREDICTOR_0</th><th>filename</th><th>PREDICTOR_2</th><th>PREDICTOR_3</th><th>Context_Name</th><th>IH_PREDICTOR_0</th><th>Decision_Outcome</th></tr><tr><td>f64</td><td>str</td><td>str</td><td>str</td><td>str</td><td>str</td><td>bool</td></tr></thead><tbody><tr><td>3.3155e18</td><td>&quot;../../../../data/SampleHDS.jso…</td><td>&quot;13143845387153379054&quot;</td><td>&quot;8657453503103143397&quot;</td><td>&quot;3771212276336808813&quot;</td><td>&quot;13323365386677432644&quot;</td><td>false</td></tr><tr><td>4.7281e18</td><td>&quot;../../../../data/SampleHDS.jso…</td><td>&quot;6439611834997473006&quot;</td><td>&quot;17819957631771012379&quot;</td><td>&quot;3771212276336808813&quot;</td><td>&quot;5299272281861679337&quot;</td><td>true</td></tr><tr><td>4.1146e18</td><td>&quot;../../../../data/SampleHDS.jso…</td><td>&quot;14211726112529598900&quot;</td><td>&quot;5545919246893895043&quot;</td><td>&quot;11573635128553622714&quot;</td><td>&quot;13323365386677432644&quot;</td><td>false</td></tr><tr><td>1.0327e18</td><td>&quot;../../../../data/SampleHDS.jso…</td><td>&quot;6439611834997473006&quot;</td><td>&quot;10467201729357443397&quot;</td><td>&quot;3978160960232738741&quot;</td><td>&quot;13323365386677432644&quot;</td><td>false</td></tr><tr><td>1.5340e19</td><td>&quot;../../../../data/SampleHDS.jso…</td><td>&quot;13143845387153379054&quot;</td><td>&quot;1996989423146451549&quot;</td><td>&quot;3978160960232738741&quot;</td><td>&quot;10238911112168588107&quot;</td><td>true</td></tr><tr><td>3.5712e18</td><td>&quot;../../../../data/SampleHDS.jso…</td><td>&quot;14211726112529598900&quot;</td><td>&quot;15006263327417458201&quot;</td><td>&quot;14371057234109234193&quot;</td><td>null</td><td>false</td></tr><tr><td>1.6286e19</td><td>&quot;../../../../data/SampleHDS.jso…</td><td>&quot;14211726112529598900&quot;</td><td>&quot;13180447961118051598&quot;</td><td>&quot;3978160960232738741&quot;</td><td>&quot;10238911112168588107&quot;</td><td>false</td></tr></tbody></table></div>"
      ],
      "text/plain": [
       "shape: (7, 7)\n",
       "┌─────────────┬──────────────┬─────────────┬─────────────┬─────────────┬─────────────┬─────────────┐\n",
       "│ PREDICTOR_0 ┆ filename     ┆ PREDICTOR_2 ┆ PREDICTOR_3 ┆ Context_Nam ┆ IH_PREDICTO ┆ Decision_Ou │\n",
       "│ ---         ┆ ---          ┆ ---         ┆ ---         ┆ e           ┆ R_0         ┆ tcome       │\n",
       "│ f64         ┆ str          ┆ str         ┆ str         ┆ ---         ┆ ---         ┆ ---         │\n",
       "│             ┆              ┆             ┆             ┆ str         ┆ str         ┆ bool        │\n",
       "╞═════════════╪══════════════╪═════════════╪═════════════╪═════════════╪═════════════╪═════════════╡\n",
       "│ 3.3155e18   ┆ ../../../../ ┆ 13143845387 ┆ 86574535031 ┆ 37712122763 ┆ 13323365386 ┆ false       │\n",
       "│             ┆ data/SampleH ┆ 153379054   ┆ 03143397    ┆ 36808813    ┆ 677432644   ┆             │\n",
       "│             ┆ DS.jso…      ┆             ┆             ┆             ┆             ┆             │\n",
       "│ 4.7281e18   ┆ ../../../../ ┆ 64396118349 ┆ 17819957631 ┆ 37712122763 ┆ 52992722818 ┆ true        │\n",
       "│             ┆ data/SampleH ┆ 97473006    ┆ 771012379   ┆ 36808813    ┆ 61679337    ┆             │\n",
       "│             ┆ DS.jso…      ┆             ┆             ┆             ┆             ┆             │\n",
       "│ 4.1146e18   ┆ ../../../../ ┆ 14211726112 ┆ 55459192468 ┆ 11573635128 ┆ 13323365386 ┆ false       │\n",
       "│             ┆ data/SampleH ┆ 529598900   ┆ 93895043    ┆ 553622714   ┆ 677432644   ┆             │\n",
       "│             ┆ DS.jso…      ┆             ┆             ┆             ┆             ┆             │\n",
       "│ 1.0327e18   ┆ ../../../../ ┆ 64396118349 ┆ 10467201729 ┆ 39781609602 ┆ 13323365386 ┆ false       │\n",
       "│             ┆ data/SampleH ┆ 97473006    ┆ 357443397   ┆ 32738741    ┆ 677432644   ┆             │\n",
       "│             ┆ DS.jso…      ┆             ┆             ┆             ┆             ┆             │\n",
       "│ 1.5340e19   ┆ ../../../../ ┆ 13143845387 ┆ 19969894231 ┆ 39781609602 ┆ 10238911112 ┆ true        │\n",
       "│             ┆ data/SampleH ┆ 153379054   ┆ 46451549    ┆ 32738741    ┆ 168588107   ┆             │\n",
       "│             ┆ DS.jso…      ┆             ┆             ┆             ┆             ┆             │\n",
       "│ 3.5712e18   ┆ ../../../../ ┆ 14211726112 ┆ 15006263327 ┆ 14371057234 ┆ null        ┆ false       │\n",
       "│             ┆ data/SampleH ┆ 529598900   ┆ 417458201   ┆ 109234193   ┆             ┆             │\n",
       "│             ┆ DS.jso…      ┆             ┆             ┆             ┆             ┆             │\n",
       "│ 1.6286e19   ┆ ../../../../ ┆ 14211726112 ┆ 13180447961 ┆ 39781609602 ┆ 10238911112 ┆ false       │\n",
       "│             ┆ data/SampleH ┆ 529598900   ┆ 118051598   ┆ 32738741    ┆ 168588107   ┆             │\n",
       "│             ┆ DS.jso…      ┆             ┆             ┆             ┆             ┆             │\n",
       "└─────────────┴──────────────┴─────────────┴─────────────┴─────────────┴─────────────┴─────────────┘"
      ]
     },
     "execution_count": 5,
     "metadata": {},
     "output_type": "execute_result"
    }
   ],
   "source": [
    "anon.process()"
   ]
  },
  {
   "attachments": {},
   "cell_type": "markdown",
   "metadata": {},
   "source": [
    "To trace back the columns to their original names, the class also contains a mapping, which does not have to be provided."
   ]
  },
  {
   "cell_type": "code",
   "execution_count": 6,
   "metadata": {
    "execution": {
     "iopub.execute_input": "2024-06-25T08:00:08.432825Z",
     "iopub.status.busy": "2024-06-25T08:00:08.432479Z",
     "iopub.status.idle": "2024-06-25T08:00:08.436346Z",
     "shell.execute_reply": "2024-06-25T08:00:08.435861Z"
    }
   },
   "outputs": [
    {
     "data": {
      "text/plain": [
       "{'Customer_CLV': 'PREDICTOR_0',\n",
       " 'filename': 'filename',\n",
       " 'Customer_MaritalStatus': 'PREDICTOR_2',\n",
       " 'Customer_City': 'PREDICTOR_3',\n",
       " 'Context_Name': 'Context_Name',\n",
       " 'IH_Web_Inbound_Accepted_pxLastGroupID': 'IH_PREDICTOR_0',\n",
       " 'Decision_Outcome': 'Decision_Outcome'}"
      ]
     },
     "execution_count": 6,
     "metadata": {},
     "output_type": "execute_result"
    }
   ],
   "source": [
    "anon.column_mapping"
   ]
  },
  {
   "attachments": {},
   "cell_type": "markdown",
   "metadata": {},
   "source": [
    "## Configs\n",
    "\n",
    "Each capability can optionally be turned off - see below for the full list of config options, and refer to the API reference for the full description."
   ]
  },
  {
   "cell_type": "code",
   "execution_count": 7,
   "metadata": {
    "execution": {
     "iopub.execute_input": "2024-06-25T08:00:08.438375Z",
     "iopub.status.busy": "2024-06-25T08:00:08.438160Z",
     "iopub.status.idle": "2024-06-25T08:00:08.442642Z",
     "shell.execute_reply": "2024-06-25T08:00:08.442077Z"
    }
   },
   "outputs": [
    {
     "data": {
      "text/plain": [
       "{'config_file': None,\n",
       " 'hds_folder': '.',\n",
       " 'use_datamart': False,\n",
       " 'datamart_folder': 'datamart',\n",
       " 'output_format': 'ndjson',\n",
       " 'output_folder': 'output',\n",
       " 'mapping_file': 'mapping.map',\n",
       " 'mask_predictor_names': True,\n",
       " 'mask_context_key_names': False,\n",
       " 'mask_ih_names': True,\n",
       " 'mask_outcome_name': False,\n",
       " 'mask_predictor_values': True,\n",
       " 'mask_context_key_values': True,\n",
       " 'mask_ih_values': True,\n",
       " 'mask_outcome_values': True,\n",
       " 'context_key_label': 'Context_*',\n",
       " 'ih_label': 'IH_*',\n",
       " 'outcome_column': 'Decision_Outcome',\n",
       " 'positive_outcomes': ['Accepted', 'Clicked'],\n",
       " 'negative_outcomes': ['Rejected', 'Impression'],\n",
       " 'special_predictors': ['Decision_DecisionTime',\n",
       "  'Decision_OutcomeTime',\n",
       "  'Decision_Rank'],\n",
       " 'sample_percentage_schema_inferencing': 0.01}"
      ]
     },
     "execution_count": 7,
     "metadata": {},
     "output_type": "execute_result"
    }
   ],
   "source": [
    "dict(zip(Config.__init__.__code__.co_varnames[1:], Config.__init__.__defaults__))"
   ]
  },
  {
   "attachments": {},
   "cell_type": "markdown",
   "metadata": {},
   "source": [
    "It's easy to change these parameters by just passing the keyword arguments. In the following example, we\n",
    "- Keep the IH predictor names\n",
    "- Keep the outcome values\n",
    "- Keep the context key values\n",
    "- Keep the context key predictor names"
   ]
  },
  {
   "cell_type": "code",
   "execution_count": 8,
   "metadata": {
    "execution": {
     "iopub.execute_input": "2024-06-25T08:00:08.444878Z",
     "iopub.status.busy": "2024-06-25T08:00:08.444510Z",
     "iopub.status.idle": "2024-06-25T08:00:08.453269Z",
     "shell.execute_reply": "2024-06-25T08:00:08.452666Z"
    }
   },
   "outputs": [
    {
     "data": {
      "text/html": [
       "<div><style>\n",
       ".dataframe > thead > tr,\n",
       ".dataframe > tbody > tr {\n",
       "  text-align: right;\n",
       "  white-space: pre-wrap;\n",
       "}\n",
       "</style>\n",
       "<small>shape: (7, 7)</small><table border=\"1\" class=\"dataframe\"><thead><tr><th>PREDICTOR_0</th><th>filename</th><th>PREDICTOR_2</th><th>PREDICTOR_3</th><th>Context_Name</th><th>IH_Web_Inbound_Accepted_pxLastGroupID</th><th>Decision_Outcome</th></tr><tr><td>f64</td><td>str</td><td>str</td><td>str</td><td>str</td><td>str</td><td>str</td></tr></thead><tbody><tr><td>1.4909e19</td><td>&quot;../../../../data/SampleHDS.jso…</td><td>&quot;10091358896479347850&quot;</td><td>&quot;8238280312153044439&quot;</td><td>&quot;FirstMortgage30yr&quot;</td><td>&quot;3436631775462886029&quot;</td><td>&quot;Rejected&quot;</td></tr><tr><td>1.6201e19</td><td>&quot;../../../../data/SampleHDS.jso…</td><td>&quot;9114135871143188226&quot;</td><td>&quot;9770049587156606231&quot;</td><td>&quot;FirstMortgage30yr&quot;</td><td>&quot;10347262449561983998&quot;</td><td>&quot;Accepted&quot;</td></tr><tr><td>3.3886e18</td><td>&quot;../../../../data/SampleHDS.jso…</td><td>&quot;9307404785649530197&quot;</td><td>&quot;7932560218220485051&quot;</td><td>&quot;MoneyMarketSavingsAccount&quot;</td><td>&quot;3436631775462886029&quot;</td><td>&quot;Rejected&quot;</td></tr><tr><td>3.4581e18</td><td>&quot;../../../../data/SampleHDS.jso…</td><td>&quot;9114135871143188226&quot;</td><td>&quot;5075655066139306349&quot;</td><td>&quot;BasicChecking&quot;</td><td>&quot;3436631775462886029&quot;</td><td>&quot;Rejected&quot;</td></tr><tr><td>1.2587e19</td><td>&quot;../../../../data/SampleHDS.jso…</td><td>&quot;10091358896479347850&quot;</td><td>&quot;10764461451527727079&quot;</td><td>&quot;BasicChecking&quot;</td><td>&quot;12307256735095269243&quot;</td><td>&quot;Accepted&quot;</td></tr><tr><td>9.9317e16</td><td>&quot;../../../../data/SampleHDS.jso…</td><td>&quot;9307404785649530197&quot;</td><td>&quot;14273482539750423445&quot;</td><td>&quot;UPlusFinPersonal&quot;</td><td>null</td><td>&quot;Rejected&quot;</td></tr><tr><td>1.6928e19</td><td>&quot;../../../../data/SampleHDS.jso…</td><td>&quot;9307404785649530197&quot;</td><td>&quot;1248891498331748327&quot;</td><td>&quot;BasicChecking&quot;</td><td>&quot;12307256735095269243&quot;</td><td>&quot;Rejected&quot;</td></tr></tbody></table></div>"
      ],
      "text/plain": [
       "shape: (7, 7)\n",
       "┌─────────────┬──────────────┬─────────────┬─────────────┬─────────────┬─────────────┬─────────────┐\n",
       "│ PREDICTOR_0 ┆ filename     ┆ PREDICTOR_2 ┆ PREDICTOR_3 ┆ Context_Nam ┆ IH_Web_Inbo ┆ Decision_Ou │\n",
       "│ ---         ┆ ---          ┆ ---         ┆ ---         ┆ e           ┆ und_Accepte ┆ tcome       │\n",
       "│ f64         ┆ str          ┆ str         ┆ str         ┆ ---         ┆ d_pxLast…   ┆ ---         │\n",
       "│             ┆              ┆             ┆             ┆ str         ┆ ---         ┆ str         │\n",
       "│             ┆              ┆             ┆             ┆             ┆ str         ┆             │\n",
       "╞═════════════╪══════════════╪═════════════╪═════════════╪═════════════╪═════════════╪═════════════╡\n",
       "│ 1.4909e19   ┆ ../../../../ ┆ 10091358896 ┆ 82382803121 ┆ FirstMortga ┆ 34366317754 ┆ Rejected    │\n",
       "│             ┆ data/SampleH ┆ 479347850   ┆ 53044439    ┆ ge30yr      ┆ 62886029    ┆             │\n",
       "│             ┆ DS.jso…      ┆             ┆             ┆             ┆             ┆             │\n",
       "│ 1.6201e19   ┆ ../../../../ ┆ 91141358711 ┆ 97700495871 ┆ FirstMortga ┆ 10347262449 ┆ Accepted    │\n",
       "│             ┆ data/SampleH ┆ 43188226    ┆ 56606231    ┆ ge30yr      ┆ 561983998   ┆             │\n",
       "│             ┆ DS.jso…      ┆             ┆             ┆             ┆             ┆             │\n",
       "│ 3.3886e18   ┆ ../../../../ ┆ 93074047856 ┆ 79325602182 ┆ MoneyMarket ┆ 34366317754 ┆ Rejected    │\n",
       "│             ┆ data/SampleH ┆ 49530197    ┆ 20485051    ┆ SavingsAcco ┆ 62886029    ┆             │\n",
       "│             ┆ DS.jso…      ┆             ┆             ┆ unt         ┆             ┆             │\n",
       "│ 3.4581e18   ┆ ../../../../ ┆ 91141358711 ┆ 50756550661 ┆ BasicChecki ┆ 34366317754 ┆ Rejected    │\n",
       "│             ┆ data/SampleH ┆ 43188226    ┆ 39306349    ┆ ng          ┆ 62886029    ┆             │\n",
       "│             ┆ DS.jso…      ┆             ┆             ┆             ┆             ┆             │\n",
       "│ 1.2587e19   ┆ ../../../../ ┆ 10091358896 ┆ 10764461451 ┆ BasicChecki ┆ 12307256735 ┆ Accepted    │\n",
       "│             ┆ data/SampleH ┆ 479347850   ┆ 527727079   ┆ ng          ┆ 095269243   ┆             │\n",
       "│             ┆ DS.jso…      ┆             ┆             ┆             ┆             ┆             │\n",
       "│ 9.9317e16   ┆ ../../../../ ┆ 93074047856 ┆ 14273482539 ┆ UPlusFinPer ┆ null        ┆ Rejected    │\n",
       "│             ┆ data/SampleH ┆ 49530197    ┆ 750423445   ┆ sonal       ┆             ┆             │\n",
       "│             ┆ DS.jso…      ┆             ┆             ┆             ┆             ┆             │\n",
       "│ 1.6928e19   ┆ ../../../../ ┆ 93074047856 ┆ 12488914983 ┆ BasicChecki ┆ 12307256735 ┆ Rejected    │\n",
       "│             ┆ data/SampleH ┆ 49530197    ┆ 31748327    ┆ ng          ┆ 095269243   ┆             │\n",
       "│             ┆ DS.jso…      ┆             ┆             ┆             ┆             ┆             │\n",
       "└─────────────┴──────────────┴─────────────┴─────────────┴─────────────┴─────────────┴─────────────┘"
      ]
     },
     "execution_count": 8,
     "metadata": {},
     "output_type": "execute_result"
    }
   ],
   "source": [
    "anon = DataAnonymization(\n",
    "    hds_folder=\"../../../../data/\",\n",
    "    mask_ih_names=False,\n",
    "    mask_outcome_values=False,\n",
    "    mask_context_key_values=False,\n",
    "    mask_context_key_names=False,\n",
    ")\n",
    "anon.process()\n"
   ]
  },
  {
   "attachments": {},
   "cell_type": "markdown",
   "metadata": {},
   "source": [
    "The configs can also be written and read as such:"
   ]
  },
  {
   "cell_type": "code",
   "execution_count": 9,
   "metadata": {
    "execution": {
     "iopub.execute_input": "2024-06-25T08:00:08.455698Z",
     "iopub.status.busy": "2024-06-25T08:00:08.455259Z",
     "iopub.status.idle": "2024-06-25T08:00:08.458422Z",
     "shell.execute_reply": "2024-06-25T08:00:08.457903Z"
    }
   },
   "outputs": [],
   "source": [
    "anon.config.save_to_config_file('config.json')"
   ]
  },
  {
   "cell_type": "code",
   "execution_count": 10,
   "metadata": {
    "execution": {
     "iopub.execute_input": "2024-06-25T08:00:08.460708Z",
     "iopub.status.busy": "2024-06-25T08:00:08.460305Z",
     "iopub.status.idle": "2024-06-25T08:00:08.468618Z",
     "shell.execute_reply": "2024-06-25T08:00:08.468041Z"
    }
   },
   "outputs": [
    {
     "data": {
      "text/html": [
       "<div><style>\n",
       ".dataframe > thead > tr,\n",
       ".dataframe > tbody > tr {\n",
       "  text-align: right;\n",
       "  white-space: pre-wrap;\n",
       "}\n",
       "</style>\n",
       "<small>shape: (7, 7)</small><table border=\"1\" class=\"dataframe\"><thead><tr><th>PREDICTOR_0</th><th>filename</th><th>PREDICTOR_2</th><th>PREDICTOR_3</th><th>Context_Name</th><th>IH_Web_Inbound_Accepted_pxLastGroupID</th><th>Decision_Outcome</th></tr><tr><td>f64</td><td>str</td><td>str</td><td>str</td><td>str</td><td>str</td><td>str</td></tr></thead><tbody><tr><td>1.4129e19</td><td>&quot;../../../../data/SampleHDS.jso…</td><td>&quot;294502122729887008&quot;</td><td>&quot;2477184327732879569&quot;</td><td>&quot;FirstMortgage30yr&quot;</td><td>&quot;4022772050193477096&quot;</td><td>&quot;Rejected&quot;</td></tr><tr><td>1.4005e19</td><td>&quot;../../../../data/SampleHDS.jso…</td><td>&quot;16642277062984998385&quot;</td><td>&quot;1289496531846675497&quot;</td><td>&quot;FirstMortgage30yr&quot;</td><td>&quot;1197042907710687338&quot;</td><td>&quot;Accepted&quot;</td></tr><tr><td>2.7867e18</td><td>&quot;../../../../data/SampleHDS.jso…</td><td>&quot;10656314053106298421&quot;</td><td>&quot;1702628380508896279&quot;</td><td>&quot;MoneyMarketSavingsAccount&quot;</td><td>&quot;4022772050193477096&quot;</td><td>&quot;Rejected&quot;</td></tr><tr><td>1.8860e18</td><td>&quot;../../../../data/SampleHDS.jso…</td><td>&quot;16642277062984998385&quot;</td><td>&quot;4437993195886865598&quot;</td><td>&quot;BasicChecking&quot;</td><td>&quot;4022772050193477096&quot;</td><td>&quot;Rejected&quot;</td></tr><tr><td>3.1989e18</td><td>&quot;../../../../data/SampleHDS.jso…</td><td>&quot;294502122729887008&quot;</td><td>&quot;6872958256664246808&quot;</td><td>&quot;BasicChecking&quot;</td><td>&quot;15977752003510543581&quot;</td><td>&quot;Accepted&quot;</td></tr><tr><td>1.5125e19</td><td>&quot;../../../../data/SampleHDS.jso…</td><td>&quot;10656314053106298421&quot;</td><td>&quot;5614390113198976815&quot;</td><td>&quot;UPlusFinPersonal&quot;</td><td>null</td><td>&quot;Rejected&quot;</td></tr><tr><td>7.8790e18</td><td>&quot;../../../../data/SampleHDS.jso…</td><td>&quot;10656314053106298421&quot;</td><td>&quot;9064359960389778042&quot;</td><td>&quot;BasicChecking&quot;</td><td>&quot;15977752003510543581&quot;</td><td>&quot;Rejected&quot;</td></tr></tbody></table></div>"
      ],
      "text/plain": [
       "shape: (7, 7)\n",
       "┌─────────────┬──────────────┬─────────────┬─────────────┬─────────────┬─────────────┬─────────────┐\n",
       "│ PREDICTOR_0 ┆ filename     ┆ PREDICTOR_2 ┆ PREDICTOR_3 ┆ Context_Nam ┆ IH_Web_Inbo ┆ Decision_Ou │\n",
       "│ ---         ┆ ---          ┆ ---         ┆ ---         ┆ e           ┆ und_Accepte ┆ tcome       │\n",
       "│ f64         ┆ str          ┆ str         ┆ str         ┆ ---         ┆ d_pxLast…   ┆ ---         │\n",
       "│             ┆              ┆             ┆             ┆ str         ┆ ---         ┆ str         │\n",
       "│             ┆              ┆             ┆             ┆             ┆ str         ┆             │\n",
       "╞═════════════╪══════════════╪═════════════╪═════════════╪═════════════╪═════════════╪═════════════╡\n",
       "│ 1.4129e19   ┆ ../../../../ ┆ 29450212272 ┆ 24771843277 ┆ FirstMortga ┆ 40227720501 ┆ Rejected    │\n",
       "│             ┆ data/SampleH ┆ 9887008     ┆ 32879569    ┆ ge30yr      ┆ 93477096    ┆             │\n",
       "│             ┆ DS.jso…      ┆             ┆             ┆             ┆             ┆             │\n",
       "│ 1.4005e19   ┆ ../../../../ ┆ 16642277062 ┆ 12894965318 ┆ FirstMortga ┆ 11970429077 ┆ Accepted    │\n",
       "│             ┆ data/SampleH ┆ 984998385   ┆ 46675497    ┆ ge30yr      ┆ 10687338    ┆             │\n",
       "│             ┆ DS.jso…      ┆             ┆             ┆             ┆             ┆             │\n",
       "│ 2.7867e18   ┆ ../../../../ ┆ 10656314053 ┆ 17026283805 ┆ MoneyMarket ┆ 40227720501 ┆ Rejected    │\n",
       "│             ┆ data/SampleH ┆ 106298421   ┆ 08896279    ┆ SavingsAcco ┆ 93477096    ┆             │\n",
       "│             ┆ DS.jso…      ┆             ┆             ┆ unt         ┆             ┆             │\n",
       "│ 1.8860e18   ┆ ../../../../ ┆ 16642277062 ┆ 44379931958 ┆ BasicChecki ┆ 40227720501 ┆ Rejected    │\n",
       "│             ┆ data/SampleH ┆ 984998385   ┆ 86865598    ┆ ng          ┆ 93477096    ┆             │\n",
       "│             ┆ DS.jso…      ┆             ┆             ┆             ┆             ┆             │\n",
       "│ 3.1989e18   ┆ ../../../../ ┆ 29450212272 ┆ 68729582566 ┆ BasicChecki ┆ 15977752003 ┆ Accepted    │\n",
       "│             ┆ data/SampleH ┆ 9887008     ┆ 64246808    ┆ ng          ┆ 510543581   ┆             │\n",
       "│             ┆ DS.jso…      ┆             ┆             ┆             ┆             ┆             │\n",
       "│ 1.5125e19   ┆ ../../../../ ┆ 10656314053 ┆ 56143901131 ┆ UPlusFinPer ┆ null        ┆ Rejected    │\n",
       "│             ┆ data/SampleH ┆ 106298421   ┆ 98976815    ┆ sonal       ┆             ┆             │\n",
       "│             ┆ DS.jso…      ┆             ┆             ┆             ┆             ┆             │\n",
       "│ 7.8790e18   ┆ ../../../../ ┆ 10656314053 ┆ 90643599603 ┆ BasicChecki ┆ 15977752003 ┆ Rejected    │\n",
       "│             ┆ data/SampleH ┆ 106298421   ┆ 89778042    ┆ ng          ┆ 510543581   ┆             │\n",
       "│             ┆ DS.jso…      ┆             ┆             ┆             ┆             ┆             │\n",
       "└─────────────┴──────────────┴─────────────┴─────────────┴─────────────┴─────────────┴─────────────┘"
      ]
     },
     "execution_count": 10,
     "metadata": {},
     "output_type": "execute_result"
    }
   ],
   "source": [
    "anon = DataAnonymization(config=Config(config_file='config.json'))\n",
    "anon.process()"
   ]
  },
  {
   "attachments": {},
   "cell_type": "markdown",
   "metadata": {},
   "source": [
    "## Exporting\n",
    "Two functions export:\n",
    "- `create_mapping_file()` writes the mapping file of the predictor names\n",
    "- `write_to_output()` writes the processed dataframe to disk\n",
    "\n",
    "Write to output accepts the following extensions: `[\"ndjson\", \"parquet\", \"arrow\", \"csv\"]`"
   ]
  },
  {
   "cell_type": "code",
   "execution_count": 11,
   "metadata": {
    "execution": {
     "iopub.execute_input": "2024-06-25T08:00:08.470950Z",
     "iopub.status.busy": "2024-06-25T08:00:08.470573Z",
     "iopub.status.idle": "2024-06-25T08:00:08.474087Z",
     "shell.execute_reply": "2024-06-25T08:00:08.473614Z"
    }
   },
   "outputs": [
    {
     "name": "stdout",
     "output_type": "stream",
     "text": [
      "Customer_CLV=PREDICTOR_0\n",
      "filename=filename\n",
      "Customer_MaritalStatus=PREDICTOR_2\n",
      "Customer_City=PREDICTOR_3\n",
      "Context_Name=Context_Name\n",
      "IH_Web_Inbound_Accepted_pxLastGroupID=IH_Web_Inbound_Accepted_pxLastGroupID\n",
      "Decision_Outcome=Decision_Outcome\n",
      "\n"
     ]
    }
   ],
   "source": [
    "anon.create_mapping_file()\n",
    "with open('mapping.map') as f:\n",
    "    print(f.read())"
   ]
  },
  {
   "cell_type": "code",
   "execution_count": 12,
   "metadata": {
    "execution": {
     "iopub.execute_input": "2024-06-25T08:00:08.476141Z",
     "iopub.status.busy": "2024-06-25T08:00:08.475960Z",
     "iopub.status.idle": "2024-06-25T08:00:08.479861Z",
     "shell.execute_reply": "2024-06-25T08:00:08.479294Z"
    }
   },
   "outputs": [],
   "source": [
    "anon.write_to_output(ext='arrow')"
   ]
  },
  {
   "cell_type": "code",
   "execution_count": 13,
   "metadata": {
    "execution": {
     "iopub.execute_input": "2024-06-25T08:00:08.482125Z",
     "iopub.status.busy": "2024-06-25T08:00:08.481762Z",
     "iopub.status.idle": "2024-06-25T08:00:08.486561Z",
     "shell.execute_reply": "2024-06-25T08:00:08.486032Z"
    }
   },
   "outputs": [
    {
     "data": {
      "text/html": [
       "<div><style>\n",
       ".dataframe > thead > tr,\n",
       ".dataframe > tbody > tr {\n",
       "  text-align: right;\n",
       "  white-space: pre-wrap;\n",
       "}\n",
       "</style>\n",
       "<small>shape: (7, 6)</small><table border=\"1\" class=\"dataframe\"><thead><tr><th>PREDICTOR_0</th><th>PREDICTOR_2</th><th>PREDICTOR_3</th><th>Context_Name</th><th>IH_Web_Inbound_Accepted_pxLastGroupID</th><th>Decision_Outcome</th></tr><tr><td>f64</td><td>str</td><td>str</td><td>str</td><td>str</td><td>str</td></tr></thead><tbody><tr><td>1.3665e19</td><td>&quot;4019899605903276689&quot;</td><td>&quot;7276589196639585288&quot;</td><td>&quot;FirstMortgage30yr&quot;</td><td>&quot;691374055765711211&quot;</td><td>&quot;Rejected&quot;</td></tr><tr><td>3.3645e18</td><td>&quot;16541640453425203985&quot;</td><td>&quot;9255861037472946395&quot;</td><td>&quot;FirstMortgage30yr&quot;</td><td>&quot;12164639235766369226&quot;</td><td>&quot;Accepted&quot;</td></tr><tr><td>9.7685e18</td><td>&quot;5161233150239918876&quot;</td><td>&quot;14765304836763894909&quot;</td><td>&quot;MoneyMarketSavingsAccount&quot;</td><td>&quot;691374055765711211&quot;</td><td>&quot;Rejected&quot;</td></tr><tr><td>8.3691e18</td><td>&quot;16541640453425203985&quot;</td><td>&quot;2339627990839361510&quot;</td><td>&quot;BasicChecking&quot;</td><td>&quot;691374055765711211&quot;</td><td>&quot;Rejected&quot;</td></tr><tr><td>6.1651e18</td><td>&quot;4019899605903276689&quot;</td><td>&quot;13954393820199026525&quot;</td><td>&quot;BasicChecking&quot;</td><td>&quot;10554987349560122333&quot;</td><td>&quot;Accepted&quot;</td></tr><tr><td>1.6985e18</td><td>&quot;5161233150239918876&quot;</td><td>&quot;5990686133092312711&quot;</td><td>&quot;UPlusFinPersonal&quot;</td><td>null</td><td>&quot;Rejected&quot;</td></tr><tr><td>5.4952e18</td><td>&quot;5161233150239918876&quot;</td><td>&quot;1009232282633260677&quot;</td><td>&quot;BasicChecking&quot;</td><td>&quot;10554987349560122333&quot;</td><td>&quot;Rejected&quot;</td></tr></tbody></table></div>"
      ],
      "text/plain": [
       "shape: (7, 6)\n",
       "┌─────────────┬────────────────┬────────────────┬────────────────┬────────────────┬────────────────┐\n",
       "│ PREDICTOR_0 ┆ PREDICTOR_2    ┆ PREDICTOR_3    ┆ Context_Name   ┆ IH_Web_Inbound ┆ Decision_Outco │\n",
       "│ ---         ┆ ---            ┆ ---            ┆ ---            ┆ _Accepted_pxLa ┆ me             │\n",
       "│ f64         ┆ str            ┆ str            ┆ str            ┆ st…            ┆ ---            │\n",
       "│             ┆                ┆                ┆                ┆ ---            ┆ str            │\n",
       "│             ┆                ┆                ┆                ┆ str            ┆                │\n",
       "╞═════════════╪════════════════╪════════════════╪════════════════╪════════════════╪════════════════╡\n",
       "│ 1.3665e19   ┆ 40198996059032 ┆ 72765891966395 ┆ FirstMortgage3 ┆ 69137405576571 ┆ Rejected       │\n",
       "│             ┆ 76689          ┆ 85288          ┆ 0yr            ┆ 1211           ┆                │\n",
       "│ 3.3645e18   ┆ 16541640453425 ┆ 92558610374729 ┆ FirstMortgage3 ┆ 12164639235766 ┆ Accepted       │\n",
       "│             ┆ 203985         ┆ 46395          ┆ 0yr            ┆ 369226         ┆                │\n",
       "│ 9.7685e18   ┆ 51612331502399 ┆ 14765304836763 ┆ MoneyMarketSav ┆ 69137405576571 ┆ Rejected       │\n",
       "│             ┆ 18876          ┆ 894909         ┆ ingsAccount    ┆ 1211           ┆                │\n",
       "│ 8.3691e18   ┆ 16541640453425 ┆ 23396279908393 ┆ BasicChecking  ┆ 69137405576571 ┆ Rejected       │\n",
       "│             ┆ 203985         ┆ 61510          ┆                ┆ 1211           ┆                │\n",
       "│ 6.1651e18   ┆ 40198996059032 ┆ 13954393820199 ┆ BasicChecking  ┆ 10554987349560 ┆ Accepted       │\n",
       "│             ┆ 76689          ┆ 026525         ┆                ┆ 122333         ┆                │\n",
       "│ 1.6985e18   ┆ 51612331502399 ┆ 59906861330923 ┆ UPlusFinPerson ┆ null           ┆ Rejected       │\n",
       "│             ┆ 18876          ┆ 12711          ┆ al             ┆                ┆                │\n",
       "│ 5.4952e18   ┆ 51612331502399 ┆ 10092322826332 ┆ BasicChecking  ┆ 10554987349560 ┆ Rejected       │\n",
       "│             ┆ 18876          ┆ 60677          ┆                ┆ 122333         ┆                │\n",
       "└─────────────┴────────────────┴────────────────┴────────────────┴────────────────┴────────────────┘"
      ]
     },
     "execution_count": 13,
     "metadata": {},
     "output_type": "execute_result"
    }
   ],
   "source": [
    "pl.read_ipc('output/hds.arrow')"
   ]
  },
  {
   "attachments": {},
   "cell_type": "markdown",
   "metadata": {
    "nbsphinx": "hidden"
   },
   "source": [
    "## Advanced: Hash fuctions\n",
    "\n",
    "By default, we use [the same hashing algorithm Polars](https://pola-rs.github.io/polars/py-polars/html/reference/expressions/api/polars.Expr.hash.html#polars.Expr.hash) uses: [xxhash](https://github.com/Cyan4973/xxHash), as implemented [here](https://github.com/pola-rs/polars/blob/3f287f370b3c388ed2f3f218b2c096382548136f/polars/polars-core/src/vector_hasher.rs#L266). xxhash is fast to compute, and you can check its performance in collision, dispersion and randomness [here](https://github.com/Cyan4973/xxHash/tree/dev/tests). \n",
    "\n",
    "xxhash accepts four distinct seeds, but by default we set the seeds to `0`. It is possible to set the `seed` argument of the `process()` function to `'random'`, which will set all four seeds to a random integer between `0` and `1000000000`. Alternatively, it is possible to supply the four seeds manually with arguments `seed`, `seed_1`, `seed_2` and `seed_3`. \n",
    "\n",
    "If the xxhash with (random) seed(s) is not deemed sufficiently secure, it is possible to use your own hashing algorithm.\n",
    "\n",
    "Note that since we're now running python code and not native Polars code anymore, this will be _significantly_ slower. Nonetheless, it is possible.\n",
    "\n",
    "Just as an example - this is how one would use sha3_256:"
   ]
  },
  {
   "cell_type": "code",
   "execution_count": 14,
   "metadata": {
    "execution": {
     "iopub.execute_input": "2024-06-25T08:00:08.488869Z",
     "iopub.status.busy": "2024-06-25T08:00:08.488504Z",
     "iopub.status.idle": "2024-06-25T08:00:08.828178Z",
     "shell.execute_reply": "2024-06-25T08:00:08.827660Z"
    },
    "nbsphinx": "hidden"
   },
   "outputs": [
    {
     "name": "stderr",
     "output_type": "stream",
     "text": [
      "sys:1: MapWithoutReturnDtypeWarning:\n",
      "\n",
      "Calling `map_elements` without specifying `return_dtype` can lead to unpredictable results. Specify `return_dtype` to silence this warning.\n",
      "\n",
      "sys:1: MapWithoutReturnDtypeWarning:\n",
      "\n",
      "Calling `map_elements` without specifying `return_dtype` can lead to unpredictable results. Specify `return_dtype` to silence this warning.\n",
      "\n",
      "sys:1: MapWithoutReturnDtypeWarning:\n",
      "\n",
      "Calling `map_elements` without specifying `return_dtype` can lead to unpredictable results. Specify `return_dtype` to silence this warning.\n",
      "\n",
      "sys:1: MapWithoutReturnDtypeWarning:\n",
      "\n",
      "Calling `map_elements` without specifying `return_dtype` can lead to unpredictable results. Specify `return_dtype` to silence this warning.\n",
      "\n"
     ]
    },
    {
     "ename": "ComputeError",
     "evalue": "AttributeError: 'int' object has no attribute 'encode'",
     "output_type": "error",
     "traceback": [
      "\u001b[0;31m---------------------------------------------------------------------------\u001b[0m",
      "\u001b[0;31mComputeError\u001b[0m                              Traceback (most recent call last)",
      "Cell \u001b[0;32mIn[14], line 3\u001b[0m\n\u001b[1;32m      1\u001b[0m \u001b[38;5;28;01mfrom\u001b[39;00m \u001b[38;5;21;01mhashlib\u001b[39;00m \u001b[38;5;28;01mimport\u001b[39;00m sha3_256\n\u001b[0;32m----> 3\u001b[0m \u001b[43manon\u001b[49m\u001b[38;5;241;43m.\u001b[39;49m\u001b[43mprocess\u001b[49m\u001b[43m(\u001b[49m\u001b[43malgorithm\u001b[49m\u001b[38;5;241;43m=\u001b[39;49m\u001b[38;5;28;43;01mlambda\u001b[39;49;00m\u001b[43m \u001b[49m\u001b[43mx\u001b[49m\u001b[43m:\u001b[49m\u001b[43m \u001b[49m\u001b[43msha3_256\u001b[49m\u001b[43m(\u001b[49m\u001b[43mx\u001b[49m\u001b[38;5;241;43m.\u001b[39;49m\u001b[43mencode\u001b[49m\u001b[43m(\u001b[49m\u001b[43m)\u001b[49m\u001b[43m)\u001b[49m\u001b[38;5;241;43m.\u001b[39;49m\u001b[43mhexdigest\u001b[49m\u001b[43m(\u001b[49m\u001b[43m)\u001b[49m\u001b[43m)\u001b[49m\n",
      "File \u001b[0;32m~/work/pega-datascientist-tools/pega-datascientist-tools/python/docs/source/articles/../../../pdstools/utils/hds_utils.py:512\u001b[0m, in \u001b[0;36mDataAnonymization.process\u001b[0;34m(self, strategy, **kwargs)\u001b[0m\n\u001b[1;32m    510\u001b[0m df \u001b[38;5;241m=\u001b[39m df\u001b[38;5;241m.\u001b[39mselect(\u001b[38;5;28mself\u001b[39m\u001b[38;5;241m.\u001b[39mcolumn_mapping\u001b[38;5;241m.\u001b[39mkeys())\u001b[38;5;241m.\u001b[39mrename(\u001b[38;5;28mself\u001b[39m\u001b[38;5;241m.\u001b[39mcolumn_mapping)\n\u001b[1;32m    511\u001b[0m \u001b[38;5;28;01mif\u001b[39;00m strategy \u001b[38;5;241m==\u001b[39m \u001b[38;5;124m\"\u001b[39m\u001b[38;5;124meager\u001b[39m\u001b[38;5;124m\"\u001b[39m:\n\u001b[0;32m--> 512\u001b[0m     \u001b[38;5;28;01mreturn\u001b[39;00m \u001b[43mdf\u001b[49m\u001b[38;5;241;43m.\u001b[39;49m\u001b[43mcollect\u001b[49m\u001b[43m(\u001b[49m\u001b[43m)\u001b[49m\n\u001b[1;32m    513\u001b[0m \u001b[38;5;28;01mreturn\u001b[39;00m df\n",
      "File \u001b[0;32m/opt/hostedtoolcache/Python/3.11.9/x64/lib/python3.11/site-packages/polars/lazyframe/frame.py:1967\u001b[0m, in \u001b[0;36mLazyFrame.collect\u001b[0;34m(self, type_coercion, predicate_pushdown, projection_pushdown, simplify_expression, slice_pushdown, comm_subplan_elim, comm_subexpr_elim, cluster_with_columns, no_optimization, streaming, background, _eager, **_kwargs)\u001b[0m\n\u001b[1;32m   1964\u001b[0m \u001b[38;5;66;03m# Only for testing purposes atm.\u001b[39;00m\n\u001b[1;32m   1965\u001b[0m callback \u001b[38;5;241m=\u001b[39m _kwargs\u001b[38;5;241m.\u001b[39mget(\u001b[38;5;124m\"\u001b[39m\u001b[38;5;124mpost_opt_callback\u001b[39m\u001b[38;5;124m\"\u001b[39m)\n\u001b[0;32m-> 1967\u001b[0m \u001b[38;5;28;01mreturn\u001b[39;00m wrap_df(\u001b[43mldf\u001b[49m\u001b[38;5;241;43m.\u001b[39;49m\u001b[43mcollect\u001b[49m\u001b[43m(\u001b[49m\u001b[43mcallback\u001b[49m\u001b[43m)\u001b[49m)\n",
      "\u001b[0;31mComputeError\u001b[0m: AttributeError: 'int' object has no attribute 'encode'"
     ]
    }
   ],
   "source": [
    "from hashlib import sha3_256\n",
    "\n",
    "anon.process(algorithm=lambda x: sha3_256(x.encode()).hexdigest())"
   ]
  }
 ],
 "metadata": {
  "kernelspec": {
   "display_name": "Python 3",
   "language": "python",
   "name": "python3"
  },
  "language_info": {
   "codemirror_mode": {
    "name": "ipython",
    "version": 3
   },
   "file_extension": ".py",
   "mimetype": "text/x-python",
   "name": "python",
   "nbconvert_exporter": "python",
   "pygments_lexer": "ipython3",
   "version": "3.11.9"
  },
  "vscode": {
   "interpreter": {
    "hash": "aee8b7b246df8f9039afb4144a1f6fd8d2ca17a180786b69acc140d282b71a49"
   }
  }
 },
 "nbformat": 4,
 "nbformat_minor": 2
}
