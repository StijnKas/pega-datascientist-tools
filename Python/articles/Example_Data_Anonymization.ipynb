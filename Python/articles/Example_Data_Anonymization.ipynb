{
 "cells": [
  {
   "attachments": {},
   "cell_type": "markdown",
   "metadata": {},
   "source": [
    "# Example data anonymization\n",
    "\n",
    "In Pega CDH 8.5 and up, it's now possible to record the historical data as seen by the Adaptive Models. See [this academy challenge](https://academy.pega.com/challenge/exporting-historical-data/v4) for reference. This historical data can be further used to experiment with offline models, but also to fine-tune the OOTB Gradient Boosting model. However, sharing this information with Pega can be sensitive as it contains raw predictor data. \n",
    "\n",
    "To this end, we provide a simple and transparent script to fully anonimize this dataset.\n",
    "\n",
    "The DataAnonymization script is now part of pdstools, and you can import it directly as such."
   ]
  },
  {
   "cell_type": "code",
   "execution_count": 1,
   "metadata": {
    "execution": {
     "iopub.execute_input": "2023-10-20T11:04:23.163623Z",
     "iopub.status.busy": "2023-10-20T11:04:23.163153Z",
     "iopub.status.idle": "2023-10-20T11:04:23.243943Z",
     "shell.execute_reply": "2023-10-20T11:04:23.243382Z"
    },
    "nbsphinx": "hidden"
   },
   "outputs": [],
   "source": [
    "# These lines are only for rendering in the docs, and are hidden through Jupyter tags\n",
    "# Do not run if you're running the notebook seperately\n",
    "\n",
    "import os  \n",
    "import sys\n",
    "import plotly.io as pio\n",
    "pio.renderers.default = \"notebook_connected\"\n",
    "\n",
    "sys.path.append(\"../../../\")\n",
    "sys.path.append('../../python')"
   ]
  },
  {
   "cell_type": "code",
   "execution_count": 2,
   "metadata": {
    "execution": {
     "iopub.execute_input": "2023-10-20T11:04:23.246702Z",
     "iopub.status.busy": "2023-10-20T11:04:23.246223Z",
     "iopub.status.idle": "2023-10-20T11:04:24.345749Z",
     "shell.execute_reply": "2023-10-20T11:04:24.345156Z"
    }
   },
   "outputs": [],
   "source": [
    "from pdstools import ADMDatamart\n",
    "from pdstools import Config, DataAnonymization\n",
    "import polars as pl"
   ]
  },
  {
   "attachments": {},
   "cell_type": "markdown",
   "metadata": {},
   "source": [
    "## Input data\n",
    "\n",
    "To demonstrate this process, we're going to anonymise this toy example dataframe:"
   ]
  },
  {
   "cell_type": "code",
   "execution_count": 3,
   "metadata": {
    "execution": {
     "iopub.execute_input": "2023-10-20T11:04:24.348732Z",
     "iopub.status.busy": "2023-10-20T11:04:24.348077Z",
     "iopub.status.idle": "2023-10-20T11:04:24.358165Z",
     "shell.execute_reply": "2023-10-20T11:04:24.357700Z"
    }
   },
   "outputs": [
    {
     "data": {
      "text/html": [
       "<div><style>\n",
       ".dataframe > thead > tr > th,\n",
       ".dataframe > tbody > tr > td {\n",
       "  text-align: right;\n",
       "  white-space: pre-wrap;\n",
       "}\n",
       "</style>\n",
       "<small>shape: (7, 6)</small><table border=\"1\" class=\"dataframe\"><thead><tr><th>Context_Name</th><th>Customer_MaritalStatus</th><th>Customer_CLV</th><th>Customer_City</th><th>IH_Web_Inbound_Accepted_pxLastGroupID</th><th>Decision_Outcome</th></tr><tr><td>str</td><td>str</td><td>i64</td><td>str</td><td>str</td><td>str</td></tr></thead><tbody><tr><td>&quot;FirstMortgage3…</td><td>&quot;Married&quot;</td><td>1460</td><td>&quot;Port Raoul&quot;</td><td>&quot;Account&quot;</td><td>&quot;Rejected&quot;</td></tr><tr><td>&quot;FirstMortgage3…</td><td>&quot;Unknown&quot;</td><td>669</td><td>&quot;Laurianneshire…</td><td>&quot;AutoLoans&quot;</td><td>&quot;Accepted&quot;</td></tr><tr><td>&quot;MoneyMarketSav…</td><td>&quot;No Resp+&quot;</td><td>1174</td><td>&quot;Jacobshaven&quot;</td><td>&quot;Account&quot;</td><td>&quot;Rejected&quot;</td></tr><tr><td>&quot;BasicChecking&quot;</td><td>&quot;Unknown&quot;</td><td>1476</td><td>&quot;Lindton&quot;</td><td>&quot;Account&quot;</td><td>&quot;Rejected&quot;</td></tr><tr><td>&quot;BasicChecking&quot;</td><td>&quot;Married&quot;</td><td>1211</td><td>&quot;South Jimmiesh…</td><td>&quot;DepositAccount…</td><td>&quot;Accepted&quot;</td></tr><tr><td>&quot;UPlusFinPerson…</td><td>&quot;No Resp+&quot;</td><td>533</td><td>&quot;Bergeville&quot;</td><td>null</td><td>&quot;Rejected&quot;</td></tr><tr><td>&quot;BasicChecking&quot;</td><td>&quot;No Resp+&quot;</td><td>555</td><td>&quot;Willyville&quot;</td><td>&quot;DepositAccount…</td><td>&quot;Rejected&quot;</td></tr></tbody></table></div>"
      ],
      "text/plain": [
       "shape: (7, 6)\n",
       "┌────────────────┬────────────────┬──────────────┬────────────────┬────────────────┬───────────────┐\n",
       "│ Context_Name   ┆ Customer_Marit ┆ Customer_CLV ┆ Customer_City  ┆ IH_Web_Inbound ┆ Decision_Outc │\n",
       "│ ---            ┆ alStatus       ┆ ---          ┆ ---            ┆ _Accepted_pxLa ┆ ome           │\n",
       "│ str            ┆ ---            ┆ i64          ┆ str            ┆ stGr…          ┆ ---           │\n",
       "│                ┆ str            ┆              ┆                ┆ ---            ┆ str           │\n",
       "│                ┆                ┆              ┆                ┆ str            ┆               │\n",
       "╞════════════════╪════════════════╪══════════════╪════════════════╪════════════════╪═══════════════╡\n",
       "│ FirstMortgage3 ┆ Married        ┆ 1460         ┆ Port Raoul     ┆ Account        ┆ Rejected      │\n",
       "│ 0yr            ┆                ┆              ┆                ┆                ┆               │\n",
       "│ FirstMortgage3 ┆ Unknown        ┆ 669          ┆ Laurianneshire ┆ AutoLoans      ┆ Accepted      │\n",
       "│ 0yr            ┆                ┆              ┆                ┆                ┆               │\n",
       "│ MoneyMarketSav ┆ No Resp+       ┆ 1174         ┆ Jacobshaven    ┆ Account        ┆ Rejected      │\n",
       "│ ingsAccount    ┆                ┆              ┆                ┆                ┆               │\n",
       "│ BasicChecking  ┆ Unknown        ┆ 1476         ┆ Lindton        ┆ Account        ┆ Rejected      │\n",
       "│ BasicChecking  ┆ Married        ┆ 1211         ┆ South          ┆ DepositAccount ┆ Accepted      │\n",
       "│                ┆                ┆              ┆ Jimmieshire    ┆ s              ┆               │\n",
       "│ UPlusFinPerson ┆ No Resp+       ┆ 533          ┆ Bergeville     ┆ null           ┆ Rejected      │\n",
       "│ al             ┆                ┆              ┆                ┆                ┆               │\n",
       "│ BasicChecking  ┆ No Resp+       ┆ 555          ┆ Willyville     ┆ DepositAccount ┆ Rejected      │\n",
       "│                ┆                ┆              ┆                ┆ s              ┆               │\n",
       "└────────────────┴────────────────┴──────────────┴────────────────┴────────────────┴───────────────┘"
      ]
     },
     "execution_count": 3,
     "metadata": {},
     "output_type": "execute_result"
    }
   ],
   "source": [
    "pl.read_ndjson('../../../../data/SampleHDS.json')"
   ]
  },
  {
   "attachments": {},
   "cell_type": "markdown",
   "metadata": {},
   "source": [
    "As you can see, this dataset consists of regular predictors, IH predictors, context keys and the outcome column. Additionally, some columns are numeric, others are strings. Let's first initialize the DataAnonymization class."
   ]
  },
  {
   "cell_type": "code",
   "execution_count": 4,
   "metadata": {
    "execution": {
     "iopub.execute_input": "2023-10-20T11:04:24.360637Z",
     "iopub.status.busy": "2023-10-20T11:04:24.360056Z",
     "iopub.status.idle": "2023-10-20T11:04:24.368593Z",
     "shell.execute_reply": "2023-10-20T11:04:24.368117Z"
    }
   },
   "outputs": [],
   "source": [
    "anon = DataAnonymization(hds_folder='../../../../data/')"
   ]
  },
  {
   "attachments": {},
   "cell_type": "markdown",
   "metadata": {},
   "source": [
    "By default, the class applies a set of anonymisation techniques:\n",
    "- Column names are remapped to a non-descriptive name\n",
    "- Categorical values are hashed with a random seed\n",
    "- Numerical values are normalized between 0 and 1\n",
    "- Outcomes are mapped to a binary outcome.\n",
    "\n",
    "To apply these techniques, simply call `.process()`:"
   ]
  },
  {
   "cell_type": "code",
   "execution_count": 5,
   "metadata": {
    "execution": {
     "iopub.execute_input": "2023-10-20T11:04:24.371091Z",
     "iopub.status.busy": "2023-10-20T11:04:24.370523Z",
     "iopub.status.idle": "2023-10-20T11:04:24.376856Z",
     "shell.execute_reply": "2023-10-20T11:04:24.376404Z"
    }
   },
   "outputs": [
    {
     "data": {
      "text/html": [
       "<div><style>\n",
       ".dataframe > thead > tr > th,\n",
       ".dataframe > tbody > tr > td {\n",
       "  text-align: right;\n",
       "  white-space: pre-wrap;\n",
       "}\n",
       "</style>\n",
       "<small>shape: (7, 7)</small><table border=\"1\" class=\"dataframe\"><thead><tr><th>PREDICTOR_0</th><th>filename</th><th>PREDICTOR_2</th><th>PREDICTOR_3</th><th>Context_Name</th><th>IH_PREDICTOR_0</th><th>Decision_Outcome</th></tr><tr><td>f64</td><td>str</td><td>str</td><td>str</td><td>str</td><td>str</td><td>bool</td></tr></thead><tbody><tr><td>1.2927e19</td><td>&quot;../../../../da…</td><td>&quot;85718707470147…</td><td>&quot;12764607372907…</td><td>&quot;72112962572639…</td><td>&quot;10514560938306…</td><td>false</td></tr><tr><td>1.4856e19</td><td>&quot;../../../../da…</td><td>&quot;17601414529271…</td><td>&quot;62428767203896…</td><td>&quot;72112962572639…</td><td>&quot;11246796266603…</td><td>true</td></tr><tr><td>5.6458e17</td><td>&quot;../../../../da…</td><td>&quot;16013717200460…</td><td>&quot;44404023788434…</td><td>&quot;27532421132494…</td><td>&quot;10514560938306…</td><td>false</td></tr><tr><td>4.0723e18</td><td>&quot;../../../../da…</td><td>&quot;17601414529271…</td><td>&quot;11124557490562…</td><td>&quot;15891534478324…</td><td>&quot;10514560938306…</td><td>false</td></tr><tr><td>1.4677e19</td><td>&quot;../../../../da…</td><td>&quot;85718707470147…</td><td>&quot;12966902413190…</td><td>&quot;15891534478324…</td><td>&quot;17481626875008…</td><td>true</td></tr><tr><td>1.6330e19</td><td>&quot;../../../../da…</td><td>&quot;16013717200460…</td><td>&quot;19304061731233…</td><td>&quot;11063985906349…</td><td>null</td><td>false</td></tr><tr><td>8.7675e18</td><td>&quot;../../../../da…</td><td>&quot;16013717200460…</td><td>&quot;15051308293584…</td><td>&quot;15891534478324…</td><td>&quot;17481626875008…</td><td>false</td></tr></tbody></table></div>"
      ],
      "text/plain": [
       "shape: (7, 7)\n",
       "┌─────────────┬──────────────┬─────────────┬─────────────┬─────────────┬─────────────┬─────────────┐\n",
       "│ PREDICTOR_0 ┆ filename     ┆ PREDICTOR_2 ┆ PREDICTOR_3 ┆ Context_Nam ┆ IH_PREDICTO ┆ Decision_Ou │\n",
       "│ ---         ┆ ---          ┆ ---         ┆ ---         ┆ e           ┆ R_0         ┆ tcome       │\n",
       "│ f64         ┆ str          ┆ str         ┆ str         ┆ ---         ┆ ---         ┆ ---         │\n",
       "│             ┆              ┆             ┆             ┆ str         ┆ str         ┆ bool        │\n",
       "╞═════════════╪══════════════╪═════════════╪═════════════╪═════════════╪═════════════╪═════════════╡\n",
       "│ 1.2927e19   ┆ ../../../../ ┆ 85718707470 ┆ 12764607372 ┆ 72112962572 ┆ 10514560938 ┆ false       │\n",
       "│             ┆ data/SampleH ┆ 14741031    ┆ 907023172   ┆ 63937578    ┆ 306796820   ┆             │\n",
       "│             ┆ DS.json      ┆             ┆             ┆             ┆             ┆             │\n",
       "│ 1.4856e19   ┆ ../../../../ ┆ 17601414529 ┆ 62428767203 ┆ 72112962572 ┆ 11246796266 ┆ true        │\n",
       "│             ┆ data/SampleH ┆ 271571343   ┆ 89626877    ┆ 63937578    ┆ 603350224   ┆             │\n",
       "│             ┆ DS.json      ┆             ┆             ┆             ┆             ┆             │\n",
       "│ 5.6458e17   ┆ ../../../../ ┆ 16013717200 ┆ 44404023788 ┆ 27532421132 ┆ 10514560938 ┆ false       │\n",
       "│             ┆ data/SampleH ┆ 460396562   ┆ 43416937    ┆ 4947526     ┆ 306796820   ┆             │\n",
       "│             ┆ DS.json      ┆             ┆             ┆             ┆             ┆             │\n",
       "│ 4.0723e18   ┆ ../../../../ ┆ 17601414529 ┆ 11124557490 ┆ 15891534478 ┆ 10514560938 ┆ false       │\n",
       "│             ┆ data/SampleH ┆ 271571343   ┆ 562844150   ┆ 324017915   ┆ 306796820   ┆             │\n",
       "│             ┆ DS.json      ┆             ┆             ┆             ┆             ┆             │\n",
       "│ 1.4677e19   ┆ ../../../../ ┆ 85718707470 ┆ 12966902413 ┆ 15891534478 ┆ 17481626875 ┆ true        │\n",
       "│             ┆ data/SampleH ┆ 14741031    ┆ 190633917   ┆ 324017915   ┆ 008982466   ┆             │\n",
       "│             ┆ DS.json      ┆             ┆             ┆             ┆             ┆             │\n",
       "│ 1.6330e19   ┆ ../../../../ ┆ 16013717200 ┆ 19304061731 ┆ 11063985906 ┆ null        ┆ false       │\n",
       "│             ┆ data/SampleH ┆ 460396562   ┆ 23347004    ┆ 349742992   ┆             ┆             │\n",
       "│             ┆ DS.json      ┆             ┆             ┆             ┆             ┆             │\n",
       "│ 8.7675e18   ┆ ../../../../ ┆ 16013717200 ┆ 15051308293 ┆ 15891534478 ┆ 17481626875 ┆ false       │\n",
       "│             ┆ data/SampleH ┆ 460396562   ┆ 584574271   ┆ 324017915   ┆ 008982466   ┆             │\n",
       "│             ┆ DS.json      ┆             ┆             ┆             ┆             ┆             │\n",
       "└─────────────┴──────────────┴─────────────┴─────────────┴─────────────┴─────────────┴─────────────┘"
      ]
     },
     "execution_count": 5,
     "metadata": {},
     "output_type": "execute_result"
    }
   ],
   "source": [
    "anon.process()"
   ]
  },
  {
   "attachments": {},
   "cell_type": "markdown",
   "metadata": {},
   "source": [
    "To trace back the columns to their original names, the class also contains a mapping, which does not have to be provided."
   ]
  },
  {
   "cell_type": "code",
   "execution_count": 6,
   "metadata": {
    "execution": {
     "iopub.execute_input": "2023-10-20T11:04:24.379162Z",
     "iopub.status.busy": "2023-10-20T11:04:24.378631Z",
     "iopub.status.idle": "2023-10-20T11:04:24.382479Z",
     "shell.execute_reply": "2023-10-20T11:04:24.382040Z"
    }
   },
   "outputs": [
    {
     "data": {
      "text/plain": [
       "{'Customer_CLV': 'PREDICTOR_0',\n",
       " 'filename': 'filename',\n",
       " 'Customer_MaritalStatus': 'PREDICTOR_2',\n",
       " 'Customer_City': 'PREDICTOR_3',\n",
       " 'Context_Name': 'Context_Name',\n",
       " 'IH_Web_Inbound_Accepted_pxLastGroupID': 'IH_PREDICTOR_0',\n",
       " 'Decision_Outcome': 'Decision_Outcome'}"
      ]
     },
     "execution_count": 6,
     "metadata": {},
     "output_type": "execute_result"
    }
   ],
   "source": [
    "anon.column_mapping"
   ]
  },
  {
   "attachments": {},
   "cell_type": "markdown",
   "metadata": {},
   "source": [
    "## Configs\n",
    "\n",
    "Each capability can optionally be turned off - see below for the full list of config options, and refer to the API reference for the full description."
   ]
  },
  {
   "cell_type": "code",
   "execution_count": 7,
   "metadata": {
    "execution": {
     "iopub.execute_input": "2023-10-20T11:04:24.384764Z",
     "iopub.status.busy": "2023-10-20T11:04:24.384225Z",
     "iopub.status.idle": "2023-10-20T11:04:24.388570Z",
     "shell.execute_reply": "2023-10-20T11:04:24.388127Z"
    }
   },
   "outputs": [
    {
     "data": {
      "text/plain": [
       "{'config_file': None,\n",
       " 'hds_folder': '.',\n",
       " 'use_datamart': False,\n",
       " 'datamart_folder': 'datamart',\n",
       " 'output_format': 'ndjson',\n",
       " 'output_folder': 'output',\n",
       " 'mapping_file': 'mapping.map',\n",
       " 'mask_predictor_names': True,\n",
       " 'mask_context_key_names': False,\n",
       " 'mask_ih_names': True,\n",
       " 'mask_outcome_name': False,\n",
       " 'mask_predictor_values': True,\n",
       " 'mask_context_key_values': True,\n",
       " 'mask_ih_values': True,\n",
       " 'mask_outcome_values': True,\n",
       " 'context_key_label': 'Context_*',\n",
       " 'ih_label': 'IH_*',\n",
       " 'outcome_column': 'Decision_Outcome',\n",
       " 'positive_outcomes': ['Accepted', 'Clicked'],\n",
       " 'negative_outcomes': ['Rejected', 'Impression'],\n",
       " 'special_predictors': ['Decision_DecisionTime',\n",
       "  'Decision_OutcomeTime',\n",
       "  'Decision_Rank'],\n",
       " 'sample_percentage_schema_inferencing': 0.01}"
      ]
     },
     "execution_count": 7,
     "metadata": {},
     "output_type": "execute_result"
    }
   ],
   "source": [
    "dict(zip(Config.__init__.__code__.co_varnames[1:], Config.__init__.__defaults__))"
   ]
  },
  {
   "attachments": {},
   "cell_type": "markdown",
   "metadata": {},
   "source": [
    "It's easy to change these parameters by just passing the keyword arguments. In the following example, we\n",
    "- Keep the IH predictor names\n",
    "- Keep the outcome values\n",
    "- Keep the context key values\n",
    "- Keep the context key predictor names"
   ]
  },
  {
   "cell_type": "code",
   "execution_count": 8,
   "metadata": {
    "execution": {
     "iopub.execute_input": "2023-10-20T11:04:24.390854Z",
     "iopub.status.busy": "2023-10-20T11:04:24.390309Z",
     "iopub.status.idle": "2023-10-20T11:04:24.400190Z",
     "shell.execute_reply": "2023-10-20T11:04:24.399738Z"
    }
   },
   "outputs": [
    {
     "data": {
      "text/html": [
       "<div><style>\n",
       ".dataframe > thead > tr > th,\n",
       ".dataframe > tbody > tr > td {\n",
       "  text-align: right;\n",
       "  white-space: pre-wrap;\n",
       "}\n",
       "</style>\n",
       "<small>shape: (7, 7)</small><table border=\"1\" class=\"dataframe\"><thead><tr><th>PREDICTOR_0</th><th>filename</th><th>PREDICTOR_2</th><th>PREDICTOR_3</th><th>Context_Name</th><th>IH_Web_Inbound_Accepted_pxLastGroupID</th><th>Decision_Outcome</th></tr><tr><td>f64</td><td>str</td><td>str</td><td>str</td><td>str</td><td>str</td><td>str</td></tr></thead><tbody><tr><td>1.2927e19</td><td>&quot;../../../../da…</td><td>&quot;69206635230181…</td><td>&quot;10017018194486…</td><td>&quot;FirstMortgage3…</td><td>&quot;63866655683130…</td><td>&quot;Rejected&quot;</td></tr><tr><td>1.4856e19</td><td>&quot;../../../../da…</td><td>&quot;36220410944895…</td><td>&quot;80025879901856…</td><td>&quot;FirstMortgage3…</td><td>&quot;18110283715611…</td><td>&quot;Accepted&quot;</td></tr><tr><td>5.6458e17</td><td>&quot;../../../../da…</td><td>&quot;10405910202590…</td><td>&quot;75127429617217…</td><td>&quot;MoneyMarketSav…</td><td>&quot;63866655683130…</td><td>&quot;Rejected&quot;</td></tr><tr><td>4.0723e18</td><td>&quot;../../../../da…</td><td>&quot;36220410944895…</td><td>&quot;13638697579153…</td><td>&quot;BasicChecking&quot;</td><td>&quot;63866655683130…</td><td>&quot;Rejected&quot;</td></tr><tr><td>1.4677e19</td><td>&quot;../../../../da…</td><td>&quot;69206635230181…</td><td>&quot;17183704959941…</td><td>&quot;BasicChecking&quot;</td><td>&quot;32834202625849…</td><td>&quot;Accepted&quot;</td></tr><tr><td>1.6330e19</td><td>&quot;../../../../da…</td><td>&quot;10405910202590…</td><td>&quot;17065831578745…</td><td>&quot;UPlusFinPerson…</td><td>null</td><td>&quot;Rejected&quot;</td></tr><tr><td>8.7675e18</td><td>&quot;../../../../da…</td><td>&quot;10405910202590…</td><td>&quot;15200713256823…</td><td>&quot;BasicChecking&quot;</td><td>&quot;32834202625849…</td><td>&quot;Rejected&quot;</td></tr></tbody></table></div>"
      ],
      "text/plain": [
       "shape: (7, 7)\n",
       "┌─────────────┬──────────────┬─────────────┬─────────────┬─────────────┬─────────────┬─────────────┐\n",
       "│ PREDICTOR_0 ┆ filename     ┆ PREDICTOR_2 ┆ PREDICTOR_3 ┆ Context_Nam ┆ IH_Web_Inbo ┆ Decision_Ou │\n",
       "│ ---         ┆ ---          ┆ ---         ┆ ---         ┆ e           ┆ und_Accepte ┆ tcome       │\n",
       "│ f64         ┆ str          ┆ str         ┆ str         ┆ ---         ┆ d_pxLastGr… ┆ ---         │\n",
       "│             ┆              ┆             ┆             ┆ str         ┆ ---         ┆ str         │\n",
       "│             ┆              ┆             ┆             ┆             ┆ str         ┆             │\n",
       "╞═════════════╪══════════════╪═════════════╪═════════════╪═════════════╪═════════════╪═════════════╡\n",
       "│ 1.2927e19   ┆ ../../../../ ┆ 69206635230 ┆ 10017018194 ┆ FirstMortga ┆ 63866655683 ┆ Rejected    │\n",
       "│             ┆ data/SampleH ┆ 18155205    ┆ 486159958   ┆ ge30yr      ┆ 13084350    ┆             │\n",
       "│             ┆ DS.json      ┆             ┆             ┆             ┆             ┆             │\n",
       "│ 1.4856e19   ┆ ../../../../ ┆ 36220410944 ┆ 80025879901 ┆ FirstMortga ┆ 18110283715 ┆ Accepted    │\n",
       "│             ┆ data/SampleH ┆ 89571107    ┆ 85688557    ┆ ge30yr      ┆ 61120421    ┆             │\n",
       "│             ┆ DS.json      ┆             ┆             ┆             ┆             ┆             │\n",
       "│ 5.6458e17   ┆ ../../../../ ┆ 10405910202 ┆ 75127429617 ┆ MoneyMarket ┆ 63866655683 ┆ Rejected    │\n",
       "│             ┆ data/SampleH ┆ 590198547   ┆ 21753823    ┆ SavingsAcco ┆ 13084350    ┆             │\n",
       "│             ┆ DS.json      ┆             ┆             ┆ unt         ┆             ┆             │\n",
       "│ 4.0723e18   ┆ ../../../../ ┆ 36220410944 ┆ 13638697579 ┆ BasicChecki ┆ 63866655683 ┆ Rejected    │\n",
       "│             ┆ data/SampleH ┆ 89571107    ┆ 153901978   ┆ ng          ┆ 13084350    ┆             │\n",
       "│             ┆ DS.json      ┆             ┆             ┆             ┆             ┆             │\n",
       "│ 1.4677e19   ┆ ../../../../ ┆ 69206635230 ┆ 17183704959 ┆ BasicChecki ┆ 32834202625 ┆ Accepted    │\n",
       "│             ┆ data/SampleH ┆ 18155205    ┆ 941300084   ┆ ng          ┆ 84927312    ┆             │\n",
       "│             ┆ DS.json      ┆             ┆             ┆             ┆             ┆             │\n",
       "│ 1.6330e19   ┆ ../../../../ ┆ 10405910202 ┆ 17065831578 ┆ UPlusFinPer ┆ null        ┆ Rejected    │\n",
       "│             ┆ data/SampleH ┆ 590198547   ┆ 745005446   ┆ sonal       ┆             ┆             │\n",
       "│             ┆ DS.json      ┆             ┆             ┆             ┆             ┆             │\n",
       "│ 8.7675e18   ┆ ../../../../ ┆ 10405910202 ┆ 15200713256 ┆ BasicChecki ┆ 32834202625 ┆ Rejected    │\n",
       "│             ┆ data/SampleH ┆ 590198547   ┆ 823869290   ┆ ng          ┆ 84927312    ┆             │\n",
       "│             ┆ DS.json      ┆             ┆             ┆             ┆             ┆             │\n",
       "└─────────────┴──────────────┴─────────────┴─────────────┴─────────────┴─────────────┴─────────────┘"
      ]
     },
     "execution_count": 8,
     "metadata": {},
     "output_type": "execute_result"
    }
   ],
   "source": [
    "anon = DataAnonymization(\n",
    "    hds_folder=\"../../../../data/\",\n",
    "    mask_ih_names=False,\n",
    "    mask_outcome_values=False,\n",
    "    mask_context_key_values=False,\n",
    "    mask_context_key_names=False,\n",
    ")\n",
    "anon.process()\n"
   ]
  },
  {
   "attachments": {},
   "cell_type": "markdown",
   "metadata": {},
   "source": [
    "The configs can also be written and read as such:"
   ]
  },
  {
   "cell_type": "code",
   "execution_count": 9,
   "metadata": {
    "execution": {
     "iopub.execute_input": "2023-10-20T11:04:24.402443Z",
     "iopub.status.busy": "2023-10-20T11:04:24.402004Z",
     "iopub.status.idle": "2023-10-20T11:04:24.404933Z",
     "shell.execute_reply": "2023-10-20T11:04:24.404490Z"
    }
   },
   "outputs": [],
   "source": [
    "anon.config.save_to_config_file('config.json')"
   ]
  },
  {
   "cell_type": "code",
   "execution_count": 10,
   "metadata": {
    "execution": {
     "iopub.execute_input": "2023-10-20T11:04:24.407158Z",
     "iopub.status.busy": "2023-10-20T11:04:24.406622Z",
     "iopub.status.idle": "2023-10-20T11:04:24.416084Z",
     "shell.execute_reply": "2023-10-20T11:04:24.415651Z"
    }
   },
   "outputs": [
    {
     "data": {
      "text/html": [
       "<div><style>\n",
       ".dataframe > thead > tr > th,\n",
       ".dataframe > tbody > tr > td {\n",
       "  text-align: right;\n",
       "  white-space: pre-wrap;\n",
       "}\n",
       "</style>\n",
       "<small>shape: (7, 7)</small><table border=\"1\" class=\"dataframe\"><thead><tr><th>PREDICTOR_0</th><th>filename</th><th>PREDICTOR_2</th><th>PREDICTOR_3</th><th>Context_Name</th><th>IH_Web_Inbound_Accepted_pxLastGroupID</th><th>Decision_Outcome</th></tr><tr><td>f64</td><td>str</td><td>str</td><td>str</td><td>str</td><td>str</td><td>str</td></tr></thead><tbody><tr><td>1.2927e19</td><td>&quot;../../../../da…</td><td>&quot;64573110247900…</td><td>&quot;20937320066113…</td><td>&quot;FirstMortgage3…</td><td>&quot;12918815535565…</td><td>&quot;Rejected&quot;</td></tr><tr><td>1.4856e19</td><td>&quot;../../../../da…</td><td>&quot;16803625029755…</td><td>&quot;17021730478843…</td><td>&quot;FirstMortgage3…</td><td>&quot;32864106961521…</td><td>&quot;Accepted&quot;</td></tr><tr><td>5.6458e17</td><td>&quot;../../../../da…</td><td>&quot;64124000949991…</td><td>&quot;23592044092568…</td><td>&quot;MoneyMarketSav…</td><td>&quot;12918815535565…</td><td>&quot;Rejected&quot;</td></tr><tr><td>4.0723e18</td><td>&quot;../../../../da…</td><td>&quot;16803625029755…</td><td>&quot;99009371606238…</td><td>&quot;BasicChecking&quot;</td><td>&quot;12918815535565…</td><td>&quot;Rejected&quot;</td></tr><tr><td>1.4677e19</td><td>&quot;../../../../da…</td><td>&quot;64573110247900…</td><td>&quot;13628643474959…</td><td>&quot;BasicChecking&quot;</td><td>&quot;12717679282554…</td><td>&quot;Accepted&quot;</td></tr><tr><td>1.6330e19</td><td>&quot;../../../../da…</td><td>&quot;64124000949991…</td><td>&quot;71896724214566…</td><td>&quot;UPlusFinPerson…</td><td>null</td><td>&quot;Rejected&quot;</td></tr><tr><td>8.7675e18</td><td>&quot;../../../../da…</td><td>&quot;64124000949991…</td><td>&quot;41088891103039…</td><td>&quot;BasicChecking&quot;</td><td>&quot;12717679282554…</td><td>&quot;Rejected&quot;</td></tr></tbody></table></div>"
      ],
      "text/plain": [
       "shape: (7, 7)\n",
       "┌─────────────┬──────────────┬─────────────┬─────────────┬─────────────┬─────────────┬─────────────┐\n",
       "│ PREDICTOR_0 ┆ filename     ┆ PREDICTOR_2 ┆ PREDICTOR_3 ┆ Context_Nam ┆ IH_Web_Inbo ┆ Decision_Ou │\n",
       "│ ---         ┆ ---          ┆ ---         ┆ ---         ┆ e           ┆ und_Accepte ┆ tcome       │\n",
       "│ f64         ┆ str          ┆ str         ┆ str         ┆ ---         ┆ d_pxLastGr… ┆ ---         │\n",
       "│             ┆              ┆             ┆             ┆ str         ┆ ---         ┆ str         │\n",
       "│             ┆              ┆             ┆             ┆             ┆ str         ┆             │\n",
       "╞═════════════╪══════════════╪═════════════╪═════════════╪═════════════╪═════════════╪═════════════╡\n",
       "│ 1.2927e19   ┆ ../../../../ ┆ 64573110247 ┆ 20937320066 ┆ FirstMortga ┆ 12918815535 ┆ Rejected    │\n",
       "│             ┆ data/SampleH ┆ 90041253    ┆ 11363680    ┆ ge30yr      ┆ 565887965   ┆             │\n",
       "│             ┆ DS.json      ┆             ┆             ┆             ┆             ┆             │\n",
       "│ 1.4856e19   ┆ ../../../../ ┆ 16803625029 ┆ 17021730478 ┆ FirstMortga ┆ 32864106961 ┆ Accepted    │\n",
       "│             ┆ data/SampleH ┆ 755835887   ┆ 843231769   ┆ ge30yr      ┆ 52157257    ┆             │\n",
       "│             ┆ DS.json      ┆             ┆             ┆             ┆             ┆             │\n",
       "│ 5.6458e17   ┆ ../../../../ ┆ 64124000949 ┆ 23592044092 ┆ MoneyMarket ┆ 12918815535 ┆ Rejected    │\n",
       "│             ┆ data/SampleH ┆ 99141350    ┆ 56891726    ┆ SavingsAcco ┆ 565887965   ┆             │\n",
       "│             ┆ DS.json      ┆             ┆             ┆ unt         ┆             ┆             │\n",
       "│ 4.0723e18   ┆ ../../../../ ┆ 16803625029 ┆ 99009371606 ┆ BasicChecki ┆ 12918815535 ┆ Rejected    │\n",
       "│             ┆ data/SampleH ┆ 755835887   ┆ 2388270     ┆ ng          ┆ 565887965   ┆             │\n",
       "│             ┆ DS.json      ┆             ┆             ┆             ┆             ┆             │\n",
       "│ 1.4677e19   ┆ ../../../../ ┆ 64573110247 ┆ 13628643474 ┆ BasicChecki ┆ 12717679282 ┆ Accepted    │\n",
       "│             ┆ data/SampleH ┆ 90041253    ┆ 959518069   ┆ ng          ┆ 554491481   ┆             │\n",
       "│             ┆ DS.json      ┆             ┆             ┆             ┆             ┆             │\n",
       "│ 1.6330e19   ┆ ../../../../ ┆ 64124000949 ┆ 71896724214 ┆ UPlusFinPer ┆ null        ┆ Rejected    │\n",
       "│             ┆ data/SampleH ┆ 99141350    ┆ 56665523    ┆ sonal       ┆             ┆             │\n",
       "│             ┆ DS.json      ┆             ┆             ┆             ┆             ┆             │\n",
       "│ 8.7675e18   ┆ ../../../../ ┆ 64124000949 ┆ 41088891103 ┆ BasicChecki ┆ 12717679282 ┆ Rejected    │\n",
       "│             ┆ data/SampleH ┆ 99141350    ┆ 03981310    ┆ ng          ┆ 554491481   ┆             │\n",
       "│             ┆ DS.json      ┆             ┆             ┆             ┆             ┆             │\n",
       "└─────────────┴──────────────┴─────────────┴─────────────┴─────────────┴─────────────┴─────────────┘"
      ]
     },
     "execution_count": 10,
     "metadata": {},
     "output_type": "execute_result"
    }
   ],
   "source": [
    "anon = DataAnonymization(config=Config(config_file='config.json'))\n",
    "anon.process()"
   ]
  },
  {
   "attachments": {},
   "cell_type": "markdown",
   "metadata": {},
   "source": [
    "## Exporting\n",
    "Two functions export:\n",
    "- `create_mapping_file()` writes the mapping file of the predictor names\n",
    "- `write_to_output()` writes the processed dataframe to disk\n",
    "\n",
    "Write to output accepts the following extensions: `[\"ndjson\", \"parquet\", \"arrow\", \"csv\"]`"
   ]
  },
  {
   "cell_type": "code",
   "execution_count": 11,
   "metadata": {
    "execution": {
     "iopub.execute_input": "2023-10-20T11:04:24.418916Z",
     "iopub.status.busy": "2023-10-20T11:04:24.417890Z",
     "iopub.status.idle": "2023-10-20T11:04:24.421979Z",
     "shell.execute_reply": "2023-10-20T11:04:24.421551Z"
    }
   },
   "outputs": [
    {
     "name": "stdout",
     "output_type": "stream",
     "text": [
      "Customer_CLV=PREDICTOR_0\n",
      "filename=filename\n",
      "Customer_MaritalStatus=PREDICTOR_2\n",
      "Customer_City=PREDICTOR_3\n",
      "Context_Name=Context_Name\n",
      "IH_Web_Inbound_Accepted_pxLastGroupID=IH_Web_Inbound_Accepted_pxLastGroupID\n",
      "Decision_Outcome=Decision_Outcome\n",
      "\n"
     ]
    }
   ],
   "source": [
    "anon.create_mapping_file()\n",
    "with open('mapping.map') as f:\n",
    "    print(f.read())"
   ]
  },
  {
   "cell_type": "code",
   "execution_count": 12,
   "metadata": {
    "execution": {
     "iopub.execute_input": "2023-10-20T11:04:24.424068Z",
     "iopub.status.busy": "2023-10-20T11:04:24.423787Z",
     "iopub.status.idle": "2023-10-20T11:04:24.427381Z",
     "shell.execute_reply": "2023-10-20T11:04:24.426941Z"
    }
   },
   "outputs": [],
   "source": [
    "anon.write_to_output(ext='arrow')"
   ]
  },
  {
   "cell_type": "code",
   "execution_count": 13,
   "metadata": {
    "execution": {
     "iopub.execute_input": "2023-10-20T11:04:24.429490Z",
     "iopub.status.busy": "2023-10-20T11:04:24.429198Z",
     "iopub.status.idle": "2023-10-20T11:04:24.433585Z",
     "shell.execute_reply": "2023-10-20T11:04:24.433157Z"
    }
   },
   "outputs": [
    {
     "data": {
      "text/html": [
       "<div><style>\n",
       ".dataframe > thead > tr > th,\n",
       ".dataframe > tbody > tr > td {\n",
       "  text-align: right;\n",
       "  white-space: pre-wrap;\n",
       "}\n",
       "</style>\n",
       "<small>shape: (7, 6)</small><table border=\"1\" class=\"dataframe\"><thead><tr><th>PREDICTOR_0</th><th>PREDICTOR_2</th><th>PREDICTOR_3</th><th>Context_Name</th><th>IH_Web_Inbound_Accepted_pxLastGroupID</th><th>Decision_Outcome</th></tr><tr><td>f64</td><td>str</td><td>str</td><td>str</td><td>str</td><td>str</td></tr></thead><tbody><tr><td>1.2927e19</td><td>&quot;75106352823161…</td><td>&quot;83040424045152…</td><td>&quot;FirstMortgage3…</td><td>&quot;16774048511011…</td><td>&quot;Rejected&quot;</td></tr><tr><td>1.4856e19</td><td>&quot;15576358485587…</td><td>&quot;13441275267544…</td><td>&quot;FirstMortgage3…</td><td>&quot;14363962662255…</td><td>&quot;Accepted&quot;</td></tr><tr><td>5.6458e17</td><td>&quot;10832219001648…</td><td>&quot;11163186182698…</td><td>&quot;MoneyMarketSav…</td><td>&quot;16774048511011…</td><td>&quot;Rejected&quot;</td></tr><tr><td>4.0723e18</td><td>&quot;15576358485587…</td><td>&quot;24888832006426…</td><td>&quot;BasicChecking&quot;</td><td>&quot;16774048511011…</td><td>&quot;Rejected&quot;</td></tr><tr><td>1.4677e19</td><td>&quot;75106352823161…</td><td>&quot;98644381200370…</td><td>&quot;BasicChecking&quot;</td><td>&quot;76783412233037…</td><td>&quot;Accepted&quot;</td></tr><tr><td>1.6330e19</td><td>&quot;10832219001648…</td><td>&quot;79252673612278…</td><td>&quot;UPlusFinPerson…</td><td>null</td><td>&quot;Rejected&quot;</td></tr><tr><td>8.7675e18</td><td>&quot;10832219001648…</td><td>&quot;81186594446816…</td><td>&quot;BasicChecking&quot;</td><td>&quot;76783412233037…</td><td>&quot;Rejected&quot;</td></tr></tbody></table></div>"
      ],
      "text/plain": [
       "shape: (7, 6)\n",
       "┌─────────────┬────────────────┬────────────────┬────────────────┬────────────────┬────────────────┐\n",
       "│ PREDICTOR_0 ┆ PREDICTOR_2    ┆ PREDICTOR_3    ┆ Context_Name   ┆ IH_Web_Inbound ┆ Decision_Outco │\n",
       "│ ---         ┆ ---            ┆ ---            ┆ ---            ┆ _Accepted_pxLa ┆ me             │\n",
       "│ f64         ┆ str            ┆ str            ┆ str            ┆ stGr…          ┆ ---            │\n",
       "│             ┆                ┆                ┆                ┆ ---            ┆ str            │\n",
       "│             ┆                ┆                ┆                ┆ str            ┆                │\n",
       "╞═════════════╪════════════════╪════════════════╪════════════════╪════════════════╪════════════════╡\n",
       "│ 1.2927e19   ┆ 75106352823161 ┆ 83040424045152 ┆ FirstMortgage3 ┆ 16774048511011 ┆ Rejected       │\n",
       "│             ┆ 73552          ┆ 67349          ┆ 0yr            ┆ 932279         ┆                │\n",
       "│ 1.4856e19   ┆ 15576358485587 ┆ 13441275267544 ┆ FirstMortgage3 ┆ 14363962662255 ┆ Accepted       │\n",
       "│             ┆ 630810         ┆ 391521         ┆ 0yr            ┆ 214409         ┆                │\n",
       "│ 5.6458e17   ┆ 10832219001648 ┆ 11163186182698 ┆ MoneyMarketSav ┆ 16774048511011 ┆ Rejected       │\n",
       "│             ┆ 532111         ┆ 916055         ┆ ingsAccount    ┆ 932279         ┆                │\n",
       "│ 4.0723e18   ┆ 15576358485587 ┆ 24888832006426 ┆ BasicChecking  ┆ 16774048511011 ┆ Rejected       │\n",
       "│             ┆ 630810         ┆ 41704          ┆                ┆ 932279         ┆                │\n",
       "│ 1.4677e19   ┆ 75106352823161 ┆ 98644381200370 ┆ BasicChecking  ┆ 76783412233037 ┆ Accepted       │\n",
       "│             ┆ 73552          ┆ 5917           ┆                ┆ 60007          ┆                │\n",
       "│ 1.6330e19   ┆ 10832219001648 ┆ 79252673612278 ┆ UPlusFinPerson ┆ null           ┆ Rejected       │\n",
       "│             ┆ 532111         ┆ 95751          ┆ al             ┆                ┆                │\n",
       "│ 8.7675e18   ┆ 10832219001648 ┆ 81186594446816 ┆ BasicChecking  ┆ 76783412233037 ┆ Rejected       │\n",
       "│             ┆ 532111         ┆ 03049          ┆                ┆ 60007          ┆                │\n",
       "└─────────────┴────────────────┴────────────────┴────────────────┴────────────────┴────────────────┘"
      ]
     },
     "execution_count": 13,
     "metadata": {},
     "output_type": "execute_result"
    }
   ],
   "source": [
    "pl.read_ipc('output/hds.arrow')"
   ]
  },
  {
   "attachments": {},
   "cell_type": "markdown",
   "metadata": {
    "nbsphinx": "hidden"
   },
   "source": [
    "## Advanced: Hash fuctions\n",
    "\n",
    "By default, we use [the same hashing algorithm Polars](https://pola-rs.github.io/polars/py-polars/html/reference/expressions/api/polars.Expr.hash.html#polars.Expr.hash) uses: [xxhash](https://github.com/Cyan4973/xxHash), as implemented [here](https://github.com/pola-rs/polars/blob/3f287f370b3c388ed2f3f218b2c096382548136f/polars/polars-core/src/vector_hasher.rs#L266). xxhash is fast to compute, and you can check its performance in collision, dispersion and randomness [here](https://github.com/Cyan4973/xxHash/tree/dev/tests). \n",
    "\n",
    "xxhash accepts four distinct seeds, but by default we set the seeds to `0`. It is possible to set the `seed` argument of the `process()` function to `'random'`, which will set all four seeds to a random integer between `0` and `1000000000`. Alternatively, it is possible to supply the four seeds manually with arguments `seed`, `seed_1`, `seed_2` and `seed_3`. \n",
    "\n",
    "If the xxhash with (random) seed(s) is not deemed sufficiently secure, it is possible to use your own hashing algorithm.\n",
    "\n",
    "Note that since we're now running python code and not native Polars code anymore, this will be _significantly_ slower. Nonetheless, it is possible.\n",
    "\n",
    "Just as an example - this is how one would use sha3_256:"
   ]
  },
  {
   "cell_type": "code",
   "execution_count": 14,
   "metadata": {
    "execution": {
     "iopub.execute_input": "2023-10-20T11:04:24.435701Z",
     "iopub.status.busy": "2023-10-20T11:04:24.435406Z",
     "iopub.status.idle": "2023-10-20T11:04:24.808098Z",
     "shell.execute_reply": "2023-10-20T11:04:24.807437Z"
    },
    "nbsphinx": "hidden"
   },
   "outputs": [
    {
     "ename": "ComputeError",
     "evalue": "AttributeError: 'int' object has no attribute 'encode'",
     "output_type": "error",
     "traceback": [
      "\u001b[0;31m---------------------------------------------------------------------------\u001b[0m",
      "\u001b[0;31mComputeError\u001b[0m                              Traceback (most recent call last)",
      "Cell \u001b[0;32mIn[14], line 3\u001b[0m\n\u001b[1;32m      1\u001b[0m \u001b[38;5;28;01mfrom\u001b[39;00m \u001b[38;5;21;01mhashlib\u001b[39;00m \u001b[38;5;28;01mimport\u001b[39;00m sha3_256\n\u001b[0;32m----> 3\u001b[0m \u001b[43manon\u001b[49m\u001b[38;5;241;43m.\u001b[39;49m\u001b[43mprocess\u001b[49m\u001b[43m(\u001b[49m\u001b[43malgorithm\u001b[49m\u001b[38;5;241;43m=\u001b[39;49m\u001b[38;5;28;43;01mlambda\u001b[39;49;00m\u001b[43m \u001b[49m\u001b[43mx\u001b[49m\u001b[43m:\u001b[49m\u001b[43m \u001b[49m\u001b[43msha3_256\u001b[49m\u001b[43m(\u001b[49m\u001b[43mx\u001b[49m\u001b[38;5;241;43m.\u001b[39;49m\u001b[43mencode\u001b[49m\u001b[43m(\u001b[49m\u001b[43m)\u001b[49m\u001b[43m)\u001b[49m\u001b[38;5;241;43m.\u001b[39;49m\u001b[43mhexdigest\u001b[49m\u001b[43m(\u001b[49m\u001b[43m)\u001b[49m\u001b[43m)\u001b[49m\n",
      "File \u001b[0;32m~/work/pega-datascientist-tools/pega-datascientist-tools/python/docs/source/articles/../../../pdstools/utils/hds_utils.py:516\u001b[0m, in \u001b[0;36mDataAnonymization.process\u001b[0;34m(self, strategy, **kwargs)\u001b[0m\n\u001b[1;32m    514\u001b[0m df \u001b[38;5;241m=\u001b[39m df\u001b[38;5;241m.\u001b[39mselect(\u001b[38;5;28mself\u001b[39m\u001b[38;5;241m.\u001b[39mcolumn_mapping\u001b[38;5;241m.\u001b[39mkeys())\u001b[38;5;241m.\u001b[39mrename(\u001b[38;5;28mself\u001b[39m\u001b[38;5;241m.\u001b[39mcolumn_mapping)\n\u001b[1;32m    515\u001b[0m \u001b[38;5;28;01mif\u001b[39;00m strategy \u001b[38;5;241m==\u001b[39m \u001b[38;5;124m\"\u001b[39m\u001b[38;5;124meager\u001b[39m\u001b[38;5;124m\"\u001b[39m:\n\u001b[0;32m--> 516\u001b[0m     \u001b[38;5;28;01mreturn\u001b[39;00m \u001b[43mdf\u001b[49m\u001b[38;5;241;43m.\u001b[39;49m\u001b[43mcollect\u001b[49m\u001b[43m(\u001b[49m\u001b[43m)\u001b[49m\n\u001b[1;32m    517\u001b[0m \u001b[38;5;28;01mreturn\u001b[39;00m df\n",
      "File \u001b[0;32m/opt/hostedtoolcache/Python/3.11.6/x64/lib/python3.11/site-packages/polars/utils/deprecation.py:95\u001b[0m, in \u001b[0;36mdeprecate_renamed_parameter.<locals>.decorate.<locals>.wrapper\u001b[0;34m(*args, **kwargs)\u001b[0m\n\u001b[1;32m     90\u001b[0m \u001b[38;5;129m@wraps\u001b[39m(function)\n\u001b[1;32m     91\u001b[0m \u001b[38;5;28;01mdef\u001b[39;00m \u001b[38;5;21mwrapper\u001b[39m(\u001b[38;5;241m*\u001b[39margs: P\u001b[38;5;241m.\u001b[39margs, \u001b[38;5;241m*\u001b[39m\u001b[38;5;241m*\u001b[39mkwargs: P\u001b[38;5;241m.\u001b[39mkwargs) \u001b[38;5;241m-\u001b[39m\u001b[38;5;241m>\u001b[39m T:\n\u001b[1;32m     92\u001b[0m     _rename_keyword_argument(\n\u001b[1;32m     93\u001b[0m         old_name, new_name, kwargs, function\u001b[38;5;241m.\u001b[39m\u001b[38;5;18m__name__\u001b[39m, version\n\u001b[1;32m     94\u001b[0m     )\n\u001b[0;32m---> 95\u001b[0m     \u001b[38;5;28;01mreturn\u001b[39;00m \u001b[43mfunction\u001b[49m\u001b[43m(\u001b[49m\u001b[38;5;241;43m*\u001b[39;49m\u001b[43margs\u001b[49m\u001b[43m,\u001b[49m\u001b[43m \u001b[49m\u001b[38;5;241;43m*\u001b[39;49m\u001b[38;5;241;43m*\u001b[39;49m\u001b[43mkwargs\u001b[49m\u001b[43m)\u001b[49m\n",
      "File \u001b[0;32m/opt/hostedtoolcache/Python/3.11.6/x64/lib/python3.11/site-packages/polars/lazyframe/frame.py:1711\u001b[0m, in \u001b[0;36mLazyFrame.collect\u001b[0;34m(self, type_coercion, predicate_pushdown, projection_pushdown, simplify_expression, no_optimization, slice_pushdown, comm_subplan_elim, comm_subexpr_elim, streaming, **kwargs)\u001b[0m\n\u001b[1;32m   1698\u001b[0m     comm_subplan_elim \u001b[38;5;241m=\u001b[39m \u001b[38;5;28;01mFalse\u001b[39;00m\n\u001b[1;32m   1700\u001b[0m ldf \u001b[38;5;241m=\u001b[39m \u001b[38;5;28mself\u001b[39m\u001b[38;5;241m.\u001b[39m_ldf\u001b[38;5;241m.\u001b[39moptimization_toggle(\n\u001b[1;32m   1701\u001b[0m     type_coercion,\n\u001b[1;32m   1702\u001b[0m     predicate_pushdown,\n\u001b[0;32m   (...)\u001b[0m\n\u001b[1;32m   1709\u001b[0m     eager,\n\u001b[1;32m   1710\u001b[0m )\n\u001b[0;32m-> 1711\u001b[0m \u001b[38;5;28;01mreturn\u001b[39;00m wrap_df(ldf\u001b[38;5;241m.\u001b[39mcollect())\n",
      "\u001b[0;31mComputeError\u001b[0m: AttributeError: 'int' object has no attribute 'encode'"
     ]
    }
   ],
   "source": [
    "from hashlib import sha3_256\n",
    "\n",
    "anon.process(algorithm=lambda x: sha3_256(x.encode()).hexdigest())"
   ]
  }
 ],
 "metadata": {
  "kernelspec": {
   "display_name": "Python 3",
   "language": "python",
   "name": "python3"
  },
  "language_info": {
   "codemirror_mode": {
    "name": "ipython",
    "version": 3
   },
   "file_extension": ".py",
   "mimetype": "text/x-python",
   "name": "python",
   "nbconvert_exporter": "python",
   "pygments_lexer": "ipython3",
   "version": "3.11.6"
  },
  "vscode": {
   "interpreter": {
    "hash": "aee8b7b246df8f9039afb4144a1f6fd8d2ca17a180786b69acc140d282b71a49"
   }
  }
 },
 "nbformat": 4,
 "nbformat_minor": 2
}
