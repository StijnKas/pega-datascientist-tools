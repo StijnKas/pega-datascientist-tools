{
 "cells": [
  {
   "attachments": {},
   "cell_type": "markdown",
   "metadata": {},
   "source": [
    "# Data Anonymization\n",
    "\n",
    "In Pega CDH 8.5 and up, it's now possible to record the historical data as seen by the Adaptive Models. See [this academy challenge](https://academy.pega.com/challenge/exporting-historical-data/v4) for reference. This historical data can be further used to experiment with offline models, but also to fine-tune the OOTB Gradient Boosting model. However, sharing this information with Pega can be sensitive as it contains raw predictor data. \n",
    "\n",
    "To this end, we provide a simple and transparent script to fully anonimize this dataset.\n",
    "\n",
    "The DataAnonymization script is now part of pdstools, and you can import it directly as such."
   ]
  },
  {
   "cell_type": "code",
   "execution_count": 1,
   "metadata": {
    "execution": {
     "iopub.execute_input": "2024-07-08T13:47:54.098787Z",
     "iopub.status.busy": "2024-07-08T13:47:54.098621Z",
     "iopub.status.idle": "2024-07-08T13:47:54.170046Z",
     "shell.execute_reply": "2024-07-08T13:47:54.169558Z"
    },
    "nbsphinx": "hidden"
   },
   "outputs": [],
   "source": [
    "# These lines are only for rendering in the docs, and are hidden through Jupyter tags\n",
    "# Do not run if you're running the notebook seperately\n",
    "\n",
    "import os  \n",
    "import sys\n",
    "import plotly.io as pio\n",
    "pio.renderers.default = \"notebook_connected\"\n",
    "\n",
    "sys.path.append(\"../../../\")\n",
    "sys.path.append('../../python')"
   ]
  },
  {
   "cell_type": "code",
   "execution_count": 2,
   "metadata": {
    "execution": {
     "iopub.execute_input": "2024-07-08T13:47:54.172141Z",
     "iopub.status.busy": "2024-07-08T13:47:54.171794Z",
     "iopub.status.idle": "2024-07-08T13:47:55.249214Z",
     "shell.execute_reply": "2024-07-08T13:47:55.248717Z"
    }
   },
   "outputs": [],
   "source": [
    "from pdstools import ADMDatamart\n",
    "from pdstools import Config, DataAnonymization\n",
    "import polars as pl"
   ]
  },
  {
   "attachments": {},
   "cell_type": "markdown",
   "metadata": {},
   "source": [
    "## Input data\n",
    "\n",
    "To demonstrate this process, we're going to anonymise this toy example dataframe:"
   ]
  },
  {
   "cell_type": "code",
   "execution_count": 3,
   "metadata": {
    "execution": {
     "iopub.execute_input": "2024-07-08T13:47:55.251685Z",
     "iopub.status.busy": "2024-07-08T13:47:55.251242Z",
     "iopub.status.idle": "2024-07-08T13:47:55.259783Z",
     "shell.execute_reply": "2024-07-08T13:47:55.259185Z"
    }
   },
   "outputs": [
    {
     "data": {
      "text/html": [
       "<div><style>\n",
       ".dataframe > thead > tr,\n",
       ".dataframe > tbody > tr {\n",
       "  text-align: right;\n",
       "  white-space: pre-wrap;\n",
       "}\n",
       "</style>\n",
       "<small>shape: (7, 6)</small><table border=\"1\" class=\"dataframe\"><thead><tr><th>Context_Name</th><th>Customer_MaritalStatus</th><th>Customer_CLV</th><th>Customer_City</th><th>IH_Web_Inbound_Accepted_pxLastGroupID</th><th>Decision_Outcome</th></tr><tr><td>str</td><td>str</td><td>i64</td><td>str</td><td>str</td><td>str</td></tr></thead><tbody><tr><td>&quot;FirstMortgage30yr&quot;</td><td>&quot;Married&quot;</td><td>1460</td><td>&quot;Port Raoul&quot;</td><td>&quot;Account&quot;</td><td>&quot;Rejected&quot;</td></tr><tr><td>&quot;FirstMortgage30yr&quot;</td><td>&quot;Unknown&quot;</td><td>669</td><td>&quot;Laurianneshire&quot;</td><td>&quot;AutoLoans&quot;</td><td>&quot;Accepted&quot;</td></tr><tr><td>&quot;MoneyMarketSavingsAccount&quot;</td><td>&quot;No Resp+&quot;</td><td>1174</td><td>&quot;Jacobshaven&quot;</td><td>&quot;Account&quot;</td><td>&quot;Rejected&quot;</td></tr><tr><td>&quot;BasicChecking&quot;</td><td>&quot;Unknown&quot;</td><td>1476</td><td>&quot;Lindton&quot;</td><td>&quot;Account&quot;</td><td>&quot;Rejected&quot;</td></tr><tr><td>&quot;BasicChecking&quot;</td><td>&quot;Married&quot;</td><td>1211</td><td>&quot;South Jimmieshire&quot;</td><td>&quot;DepositAccounts&quot;</td><td>&quot;Accepted&quot;</td></tr><tr><td>&quot;UPlusFinPersonal&quot;</td><td>&quot;No Resp+&quot;</td><td>533</td><td>&quot;Bergeville&quot;</td><td>null</td><td>&quot;Rejected&quot;</td></tr><tr><td>&quot;BasicChecking&quot;</td><td>&quot;No Resp+&quot;</td><td>555</td><td>&quot;Willyville&quot;</td><td>&quot;DepositAccounts&quot;</td><td>&quot;Rejected&quot;</td></tr></tbody></table></div>"
      ],
      "text/plain": [
       "shape: (7, 6)\n",
       "┌────────────────┬────────────────┬──────────────┬────────────────┬────────────────┬───────────────┐\n",
       "│ Context_Name   ┆ Customer_Marit ┆ Customer_CLV ┆ Customer_City  ┆ IH_Web_Inbound ┆ Decision_Outc │\n",
       "│ ---            ┆ alStatus       ┆ ---          ┆ ---            ┆ _Accepted_pxLa ┆ ome           │\n",
       "│ str            ┆ ---            ┆ i64          ┆ str            ┆ st…            ┆ ---           │\n",
       "│                ┆ str            ┆              ┆                ┆ ---            ┆ str           │\n",
       "│                ┆                ┆              ┆                ┆ str            ┆               │\n",
       "╞════════════════╪════════════════╪══════════════╪════════════════╪════════════════╪═══════════════╡\n",
       "│ FirstMortgage3 ┆ Married        ┆ 1460         ┆ Port Raoul     ┆ Account        ┆ Rejected      │\n",
       "│ 0yr            ┆                ┆              ┆                ┆                ┆               │\n",
       "│ FirstMortgage3 ┆ Unknown        ┆ 669          ┆ Laurianneshire ┆ AutoLoans      ┆ Accepted      │\n",
       "│ 0yr            ┆                ┆              ┆                ┆                ┆               │\n",
       "│ MoneyMarketSav ┆ No Resp+       ┆ 1174         ┆ Jacobshaven    ┆ Account        ┆ Rejected      │\n",
       "│ ingsAccount    ┆                ┆              ┆                ┆                ┆               │\n",
       "│ BasicChecking  ┆ Unknown        ┆ 1476         ┆ Lindton        ┆ Account        ┆ Rejected      │\n",
       "│ BasicChecking  ┆ Married        ┆ 1211         ┆ South          ┆ DepositAccount ┆ Accepted      │\n",
       "│                ┆                ┆              ┆ Jimmieshire    ┆ s              ┆               │\n",
       "│ UPlusFinPerson ┆ No Resp+       ┆ 533          ┆ Bergeville     ┆ null           ┆ Rejected      │\n",
       "│ al             ┆                ┆              ┆                ┆                ┆               │\n",
       "│ BasicChecking  ┆ No Resp+       ┆ 555          ┆ Willyville     ┆ DepositAccount ┆ Rejected      │\n",
       "│                ┆                ┆              ┆                ┆ s              ┆               │\n",
       "└────────────────┴────────────────┴──────────────┴────────────────┴────────────────┴───────────────┘"
      ]
     },
     "execution_count": 3,
     "metadata": {},
     "output_type": "execute_result"
    }
   ],
   "source": [
    "pl.read_ndjson('../../../../data/SampleHDS.json')"
   ]
  },
  {
   "attachments": {},
   "cell_type": "markdown",
   "metadata": {},
   "source": [
    "As you can see, this dataset consists of regular predictors, IH predictors, context keys and the outcome column. Additionally, some columns are numeric, others are strings. Let's first initialize the DataAnonymization class."
   ]
  },
  {
   "cell_type": "code",
   "execution_count": 4,
   "metadata": {
    "execution": {
     "iopub.execute_input": "2024-07-08T13:47:55.261997Z",
     "iopub.status.busy": "2024-07-08T13:47:55.261554Z",
     "iopub.status.idle": "2024-07-08T13:47:55.271028Z",
     "shell.execute_reply": "2024-07-08T13:47:55.270613Z"
    }
   },
   "outputs": [],
   "source": [
    "anon = DataAnonymization(hds_folder='../../../../data/')"
   ]
  },
  {
   "attachments": {},
   "cell_type": "markdown",
   "metadata": {},
   "source": [
    "By default, the class applies a set of anonymisation techniques:\n",
    "- Column names are remapped to a non-descriptive name\n",
    "- Categorical values are hashed with a random seed\n",
    "- Numerical values are normalized between 0 and 1\n",
    "- Outcomes are mapped to a binary outcome.\n",
    "\n",
    "To apply these techniques, simply call `.process()`:"
   ]
  },
  {
   "cell_type": "code",
   "execution_count": 5,
   "metadata": {
    "execution": {
     "iopub.execute_input": "2024-07-08T13:47:55.273041Z",
     "iopub.status.busy": "2024-07-08T13:47:55.272745Z",
     "iopub.status.idle": "2024-07-08T13:47:55.277842Z",
     "shell.execute_reply": "2024-07-08T13:47:55.277319Z"
    }
   },
   "outputs": [
    {
     "data": {
      "text/html": [
       "<div><style>\n",
       ".dataframe > thead > tr,\n",
       ".dataframe > tbody > tr {\n",
       "  text-align: right;\n",
       "  white-space: pre-wrap;\n",
       "}\n",
       "</style>\n",
       "<small>shape: (7, 7)</small><table border=\"1\" class=\"dataframe\"><thead><tr><th>PREDICTOR_0</th><th>PREDICTOR_1</th><th>filename</th><th>PREDICTOR_3</th><th>Context_Name</th><th>IH_PREDICTOR_0</th><th>Decision_Outcome</th></tr><tr><td>f64</td><td>str</td><td>str</td><td>str</td><td>str</td><td>str</td><td>bool</td></tr></thead><tbody><tr><td>1.4660e18</td><td>&quot;2855644311015502179&quot;</td><td>&quot;../../../../data/SampleHDS.jso…</td><td>&quot;15988102914565198687&quot;</td><td>&quot;14569942462415761804&quot;</td><td>&quot;17702028769948025610&quot;</td><td>false</td></tr><tr><td>6.6351e18</td><td>&quot;6653280497393247691&quot;</td><td>&quot;../../../../data/SampleHDS.jso…</td><td>&quot;2150718323852079883&quot;</td><td>&quot;14569942462415761804&quot;</td><td>&quot;2402782469975081286&quot;</td><td>true</td></tr><tr><td>5.6655e18</td><td>&quot;7304843016400893670&quot;</td><td>&quot;../../../../data/SampleHDS.jso…</td><td>&quot;1924447732341923694&quot;</td><td>&quot;9013652043069145205&quot;</td><td>&quot;17702028769948025610&quot;</td><td>false</td></tr><tr><td>1.8116e19</td><td>&quot;6653280497393247691&quot;</td><td>&quot;../../../../data/SampleHDS.jso…</td><td>&quot;1137598219016281252&quot;</td><td>&quot;12199825978631944732&quot;</td><td>&quot;17702028769948025610&quot;</td><td>false</td></tr><tr><td>2.8683e18</td><td>&quot;2855644311015502179&quot;</td><td>&quot;../../../../data/SampleHDS.jso…</td><td>&quot;2647444276220279202&quot;</td><td>&quot;12199825978631944732&quot;</td><td>&quot;17117036990582136667&quot;</td><td>true</td></tr><tr><td>1.0913e19</td><td>&quot;7304843016400893670&quot;</td><td>&quot;../../../../data/SampleHDS.jso…</td><td>&quot;17631971037695221257&quot;</td><td>&quot;17551784763537844255&quot;</td><td>null</td><td>false</td></tr><tr><td>1.7788e19</td><td>&quot;7304843016400893670&quot;</td><td>&quot;../../../../data/SampleHDS.jso…</td><td>&quot;9781661880198203214&quot;</td><td>&quot;12199825978631944732&quot;</td><td>&quot;17117036990582136667&quot;</td><td>false</td></tr></tbody></table></div>"
      ],
      "text/plain": [
       "shape: (7, 7)\n",
       "┌─────────────┬──────────────┬─────────────┬─────────────┬─────────────┬─────────────┬─────────────┐\n",
       "│ PREDICTOR_0 ┆ PREDICTOR_1  ┆ filename    ┆ PREDICTOR_3 ┆ Context_Nam ┆ IH_PREDICTO ┆ Decision_Ou │\n",
       "│ ---         ┆ ---          ┆ ---         ┆ ---         ┆ e           ┆ R_0         ┆ tcome       │\n",
       "│ f64         ┆ str          ┆ str         ┆ str         ┆ ---         ┆ ---         ┆ ---         │\n",
       "│             ┆              ┆             ┆             ┆ str         ┆ str         ┆ bool        │\n",
       "╞═════════════╪══════════════╪═════════════╪═════════════╪═════════════╪═════════════╪═════════════╡\n",
       "│ 1.4660e18   ┆ 285564431101 ┆ ../../../.. ┆ 15988102914 ┆ 14569942462 ┆ 17702028769 ┆ false       │\n",
       "│             ┆ 5502179      ┆ /data/Sampl ┆ 565198687   ┆ 415761804   ┆ 948025610   ┆             │\n",
       "│             ┆              ┆ eHDS.jso…   ┆             ┆             ┆             ┆             │\n",
       "│ 6.6351e18   ┆ 665328049739 ┆ ../../../.. ┆ 21507183238 ┆ 14569942462 ┆ 24027824699 ┆ true        │\n",
       "│             ┆ 3247691      ┆ /data/Sampl ┆ 52079883    ┆ 415761804   ┆ 75081286    ┆             │\n",
       "│             ┆              ┆ eHDS.jso…   ┆             ┆             ┆             ┆             │\n",
       "│ 5.6655e18   ┆ 730484301640 ┆ ../../../.. ┆ 19244477323 ┆ 90136520430 ┆ 17702028769 ┆ false       │\n",
       "│             ┆ 0893670      ┆ /data/Sampl ┆ 41923694    ┆ 69145205    ┆ 948025610   ┆             │\n",
       "│             ┆              ┆ eHDS.jso…   ┆             ┆             ┆             ┆             │\n",
       "│ 1.8116e19   ┆ 665328049739 ┆ ../../../.. ┆ 11375982190 ┆ 12199825978 ┆ 17702028769 ┆ false       │\n",
       "│             ┆ 3247691      ┆ /data/Sampl ┆ 16281252    ┆ 631944732   ┆ 948025610   ┆             │\n",
       "│             ┆              ┆ eHDS.jso…   ┆             ┆             ┆             ┆             │\n",
       "│ 2.8683e18   ┆ 285564431101 ┆ ../../../.. ┆ 26474442762 ┆ 12199825978 ┆ 17117036990 ┆ true        │\n",
       "│             ┆ 5502179      ┆ /data/Sampl ┆ 20279202    ┆ 631944732   ┆ 582136667   ┆             │\n",
       "│             ┆              ┆ eHDS.jso…   ┆             ┆             ┆             ┆             │\n",
       "│ 1.0913e19   ┆ 730484301640 ┆ ../../../.. ┆ 17631971037 ┆ 17551784763 ┆ null        ┆ false       │\n",
       "│             ┆ 0893670      ┆ /data/Sampl ┆ 695221257   ┆ 537844255   ┆             ┆             │\n",
       "│             ┆              ┆ eHDS.jso…   ┆             ┆             ┆             ┆             │\n",
       "│ 1.7788e19   ┆ 730484301640 ┆ ../../../.. ┆ 97816618801 ┆ 12199825978 ┆ 17117036990 ┆ false       │\n",
       "│             ┆ 0893670      ┆ /data/Sampl ┆ 98203214    ┆ 631944732   ┆ 582136667   ┆             │\n",
       "│             ┆              ┆ eHDS.jso…   ┆             ┆             ┆             ┆             │\n",
       "└─────────────┴──────────────┴─────────────┴─────────────┴─────────────┴─────────────┴─────────────┘"
      ]
     },
     "execution_count": 5,
     "metadata": {},
     "output_type": "execute_result"
    }
   ],
   "source": [
    "anon.process()"
   ]
  },
  {
   "attachments": {},
   "cell_type": "markdown",
   "metadata": {},
   "source": [
    "To trace back the columns to their original names, the class also contains a mapping, which does not have to be provided."
   ]
  },
  {
   "cell_type": "code",
   "execution_count": 6,
   "metadata": {
    "execution": {
     "iopub.execute_input": "2024-07-08T13:47:55.280012Z",
     "iopub.status.busy": "2024-07-08T13:47:55.279704Z",
     "iopub.status.idle": "2024-07-08T13:47:55.283510Z",
     "shell.execute_reply": "2024-07-08T13:47:55.283052Z"
    }
   },
   "outputs": [
    {
     "data": {
      "text/plain": [
       "{'Customer_CLV': 'PREDICTOR_0',\n",
       " 'Customer_MaritalStatus': 'PREDICTOR_1',\n",
       " 'filename': 'filename',\n",
       " 'Customer_City': 'PREDICTOR_3',\n",
       " 'Context_Name': 'Context_Name',\n",
       " 'IH_Web_Inbound_Accepted_pxLastGroupID': 'IH_PREDICTOR_0',\n",
       " 'Decision_Outcome': 'Decision_Outcome'}"
      ]
     },
     "execution_count": 6,
     "metadata": {},
     "output_type": "execute_result"
    }
   ],
   "source": [
    "anon.column_mapping"
   ]
  },
  {
   "attachments": {},
   "cell_type": "markdown",
   "metadata": {},
   "source": [
    "## Configs\n",
    "\n",
    "Each capability can optionally be turned off - see below for the full list of config options, and refer to the API reference for the full description."
   ]
  },
  {
   "cell_type": "code",
   "execution_count": 7,
   "metadata": {
    "execution": {
     "iopub.execute_input": "2024-07-08T13:47:55.285382Z",
     "iopub.status.busy": "2024-07-08T13:47:55.285217Z",
     "iopub.status.idle": "2024-07-08T13:47:55.289311Z",
     "shell.execute_reply": "2024-07-08T13:47:55.288780Z"
    }
   },
   "outputs": [
    {
     "data": {
      "text/plain": [
       "{'config_file': None,\n",
       " 'hds_folder': '.',\n",
       " 'use_datamart': False,\n",
       " 'datamart_folder': 'datamart',\n",
       " 'output_format': 'ndjson',\n",
       " 'output_folder': 'output',\n",
       " 'mapping_file': 'mapping.map',\n",
       " 'mask_predictor_names': True,\n",
       " 'mask_context_key_names': False,\n",
       " 'mask_ih_names': True,\n",
       " 'mask_outcome_name': False,\n",
       " 'mask_predictor_values': True,\n",
       " 'mask_context_key_values': True,\n",
       " 'mask_ih_values': True,\n",
       " 'mask_outcome_values': True,\n",
       " 'context_key_label': 'Context_*',\n",
       " 'ih_label': 'IH_*',\n",
       " 'outcome_column': 'Decision_Outcome',\n",
       " 'positive_outcomes': ['Accepted', 'Clicked'],\n",
       " 'negative_outcomes': ['Rejected', 'Impression'],\n",
       " 'special_predictors': ['Decision_DecisionTime',\n",
       "  'Decision_OutcomeTime',\n",
       "  'Decision_Rank'],\n",
       " 'sample_percentage_schema_inferencing': 0.01}"
      ]
     },
     "execution_count": 7,
     "metadata": {},
     "output_type": "execute_result"
    }
   ],
   "source": [
    "dict(zip(Config.__init__.__code__.co_varnames[1:], Config.__init__.__defaults__))"
   ]
  },
  {
   "attachments": {},
   "cell_type": "markdown",
   "metadata": {},
   "source": [
    "It's easy to change these parameters by just passing the keyword arguments. In the following example, we\n",
    "- Keep the IH predictor names\n",
    "- Keep the outcome values\n",
    "- Keep the context key values\n",
    "- Keep the context key predictor names"
   ]
  },
  {
   "cell_type": "code",
   "execution_count": 8,
   "metadata": {
    "execution": {
     "iopub.execute_input": "2024-07-08T13:47:55.291423Z",
     "iopub.status.busy": "2024-07-08T13:47:55.291003Z",
     "iopub.status.idle": "2024-07-08T13:47:55.298385Z",
     "shell.execute_reply": "2024-07-08T13:47:55.297968Z"
    }
   },
   "outputs": [
    {
     "data": {
      "text/html": [
       "<div><style>\n",
       ".dataframe > thead > tr,\n",
       ".dataframe > tbody > tr {\n",
       "  text-align: right;\n",
       "  white-space: pre-wrap;\n",
       "}\n",
       "</style>\n",
       "<small>shape: (7, 7)</small><table border=\"1\" class=\"dataframe\"><thead><tr><th>PREDICTOR_0</th><th>PREDICTOR_1</th><th>filename</th><th>PREDICTOR_3</th><th>Context_Name</th><th>IH_Web_Inbound_Accepted_pxLastGroupID</th><th>Decision_Outcome</th></tr><tr><td>f64</td><td>str</td><td>str</td><td>str</td><td>str</td><td>str</td><td>str</td></tr></thead><tbody><tr><td>9.2544e18</td><td>&quot;5406922016267987652&quot;</td><td>&quot;../../../../data/SampleHDS.jso…</td><td>&quot;8695335668899058889&quot;</td><td>&quot;FirstMortgage30yr&quot;</td><td>&quot;13667322956089985814&quot;</td><td>&quot;Rejected&quot;</td></tr><tr><td>1.4412e19</td><td>&quot;4005774257469024620&quot;</td><td>&quot;../../../../data/SampleHDS.jso…</td><td>&quot;11483706693137431102&quot;</td><td>&quot;FirstMortgage30yr&quot;</td><td>&quot;2434710285271227197&quot;</td><td>&quot;Accepted&quot;</td></tr><tr><td>1.7351e19</td><td>&quot;8830529868695860712&quot;</td><td>&quot;../../../../data/SampleHDS.jso…</td><td>&quot;3382231693169699832&quot;</td><td>&quot;MoneyMarketSavingsAccount&quot;</td><td>&quot;13667322956089985814&quot;</td><td>&quot;Rejected&quot;</td></tr><tr><td>1.0227e19</td><td>&quot;4005774257469024620&quot;</td><td>&quot;../../../../data/SampleHDS.jso…</td><td>&quot;2005149676010244653&quot;</td><td>&quot;BasicChecking&quot;</td><td>&quot;13667322956089985814&quot;</td><td>&quot;Rejected&quot;</td></tr><tr><td>1.1649e19</td><td>&quot;5406922016267987652&quot;</td><td>&quot;../../../../data/SampleHDS.jso…</td><td>&quot;17807763110027154495&quot;</td><td>&quot;BasicChecking&quot;</td><td>&quot;9780426273716701914&quot;</td><td>&quot;Accepted&quot;</td></tr><tr><td>6.3281e18</td><td>&quot;8830529868695860712&quot;</td><td>&quot;../../../../data/SampleHDS.jso…</td><td>&quot;1929638633887271205&quot;</td><td>&quot;UPlusFinPersonal&quot;</td><td>null</td><td>&quot;Rejected&quot;</td></tr><tr><td>1.1181e19</td><td>&quot;8830529868695860712&quot;</td><td>&quot;../../../../data/SampleHDS.jso…</td><td>&quot;559603903041144561&quot;</td><td>&quot;BasicChecking&quot;</td><td>&quot;9780426273716701914&quot;</td><td>&quot;Rejected&quot;</td></tr></tbody></table></div>"
      ],
      "text/plain": [
       "shape: (7, 7)\n",
       "┌─────────────┬──────────────┬─────────────┬─────────────┬─────────────┬─────────────┬─────────────┐\n",
       "│ PREDICTOR_0 ┆ PREDICTOR_1  ┆ filename    ┆ PREDICTOR_3 ┆ Context_Nam ┆ IH_Web_Inbo ┆ Decision_Ou │\n",
       "│ ---         ┆ ---          ┆ ---         ┆ ---         ┆ e           ┆ und_Accepte ┆ tcome       │\n",
       "│ f64         ┆ str          ┆ str         ┆ str         ┆ ---         ┆ d_pxLast…   ┆ ---         │\n",
       "│             ┆              ┆             ┆             ┆ str         ┆ ---         ┆ str         │\n",
       "│             ┆              ┆             ┆             ┆             ┆ str         ┆             │\n",
       "╞═════════════╪══════════════╪═════════════╪═════════════╪═════════════╪═════════════╪═════════════╡\n",
       "│ 9.2544e18   ┆ 540692201626 ┆ ../../../.. ┆ 86953356688 ┆ FirstMortga ┆ 13667322956 ┆ Rejected    │\n",
       "│             ┆ 7987652      ┆ /data/Sampl ┆ 99058889    ┆ ge30yr      ┆ 089985814   ┆             │\n",
       "│             ┆              ┆ eHDS.jso…   ┆             ┆             ┆             ┆             │\n",
       "│ 1.4412e19   ┆ 400577425746 ┆ ../../../.. ┆ 11483706693 ┆ FirstMortga ┆ 24347102852 ┆ Accepted    │\n",
       "│             ┆ 9024620      ┆ /data/Sampl ┆ 137431102   ┆ ge30yr      ┆ 71227197    ┆             │\n",
       "│             ┆              ┆ eHDS.jso…   ┆             ┆             ┆             ┆             │\n",
       "│ 1.7351e19   ┆ 883052986869 ┆ ../../../.. ┆ 33822316931 ┆ MoneyMarket ┆ 13667322956 ┆ Rejected    │\n",
       "│             ┆ 5860712      ┆ /data/Sampl ┆ 69699832    ┆ SavingsAcco ┆ 089985814   ┆             │\n",
       "│             ┆              ┆ eHDS.jso…   ┆             ┆ unt         ┆             ┆             │\n",
       "│ 1.0227e19   ┆ 400577425746 ┆ ../../../.. ┆ 20051496760 ┆ BasicChecki ┆ 13667322956 ┆ Rejected    │\n",
       "│             ┆ 9024620      ┆ /data/Sampl ┆ 10244653    ┆ ng          ┆ 089985814   ┆             │\n",
       "│             ┆              ┆ eHDS.jso…   ┆             ┆             ┆             ┆             │\n",
       "│ 1.1649e19   ┆ 540692201626 ┆ ../../../.. ┆ 17807763110 ┆ BasicChecki ┆ 97804262737 ┆ Accepted    │\n",
       "│             ┆ 7987652      ┆ /data/Sampl ┆ 027154495   ┆ ng          ┆ 16701914    ┆             │\n",
       "│             ┆              ┆ eHDS.jso…   ┆             ┆             ┆             ┆             │\n",
       "│ 6.3281e18   ┆ 883052986869 ┆ ../../../.. ┆ 19296386338 ┆ UPlusFinPer ┆ null        ┆ Rejected    │\n",
       "│             ┆ 5860712      ┆ /data/Sampl ┆ 87271205    ┆ sonal       ┆             ┆             │\n",
       "│             ┆              ┆ eHDS.jso…   ┆             ┆             ┆             ┆             │\n",
       "│ 1.1181e19   ┆ 883052986869 ┆ ../../../.. ┆ 55960390304 ┆ BasicChecki ┆ 97804262737 ┆ Rejected    │\n",
       "│             ┆ 5860712      ┆ /data/Sampl ┆ 1144561     ┆ ng          ┆ 16701914    ┆             │\n",
       "│             ┆              ┆ eHDS.jso…   ┆             ┆             ┆             ┆             │\n",
       "└─────────────┴──────────────┴─────────────┴─────────────┴─────────────┴─────────────┴─────────────┘"
      ]
     },
     "execution_count": 8,
     "metadata": {},
     "output_type": "execute_result"
    }
   ],
   "source": [
    "anon = DataAnonymization(\n",
    "    hds_folder=\"../../../../data/\",\n",
    "    mask_ih_names=False,\n",
    "    mask_outcome_values=False,\n",
    "    mask_context_key_values=False,\n",
    "    mask_context_key_names=False,\n",
    ")\n",
    "anon.process()\n"
   ]
  },
  {
   "attachments": {},
   "cell_type": "markdown",
   "metadata": {},
   "source": [
    "The configs can also be written and read as such:"
   ]
  },
  {
   "cell_type": "code",
   "execution_count": 9,
   "metadata": {
    "execution": {
     "iopub.execute_input": "2024-07-08T13:47:55.300441Z",
     "iopub.status.busy": "2024-07-08T13:47:55.300056Z",
     "iopub.status.idle": "2024-07-08T13:47:55.302804Z",
     "shell.execute_reply": "2024-07-08T13:47:55.302376Z"
    }
   },
   "outputs": [],
   "source": [
    "anon.config.save_to_config_file('config.json')"
   ]
  },
  {
   "cell_type": "code",
   "execution_count": 10,
   "metadata": {
    "execution": {
     "iopub.execute_input": "2024-07-08T13:47:55.304778Z",
     "iopub.status.busy": "2024-07-08T13:47:55.304481Z",
     "iopub.status.idle": "2024-07-08T13:47:55.311967Z",
     "shell.execute_reply": "2024-07-08T13:47:55.311435Z"
    }
   },
   "outputs": [
    {
     "data": {
      "text/html": [
       "<div><style>\n",
       ".dataframe > thead > tr,\n",
       ".dataframe > tbody > tr {\n",
       "  text-align: right;\n",
       "  white-space: pre-wrap;\n",
       "}\n",
       "</style>\n",
       "<small>shape: (7, 7)</small><table border=\"1\" class=\"dataframe\"><thead><tr><th>PREDICTOR_0</th><th>PREDICTOR_1</th><th>filename</th><th>PREDICTOR_3</th><th>Context_Name</th><th>IH_Web_Inbound_Accepted_pxLastGroupID</th><th>Decision_Outcome</th></tr><tr><td>f64</td><td>str</td><td>str</td><td>str</td><td>str</td><td>str</td><td>str</td></tr></thead><tbody><tr><td>8.2149e18</td><td>&quot;3305768747399591814&quot;</td><td>&quot;../../../../data/SampleHDS.jso…</td><td>&quot;17048238929157490858&quot;</td><td>&quot;FirstMortgage30yr&quot;</td><td>&quot;1632972459100486698&quot;</td><td>&quot;Rejected&quot;</td></tr><tr><td>8.2271e18</td><td>&quot;7163918921050708176&quot;</td><td>&quot;../../../../data/SampleHDS.jso…</td><td>&quot;457546386946707668&quot;</td><td>&quot;FirstMortgage30yr&quot;</td><td>&quot;11038258803662050144&quot;</td><td>&quot;Accepted&quot;</td></tr><tr><td>8.4128e17</td><td>&quot;1475552155946704095&quot;</td><td>&quot;../../../../data/SampleHDS.jso…</td><td>&quot;4893318028480005097&quot;</td><td>&quot;MoneyMarketSavingsAccount&quot;</td><td>&quot;1632972459100486698&quot;</td><td>&quot;Rejected&quot;</td></tr><tr><td>1.6675e19</td><td>&quot;7163918921050708176&quot;</td><td>&quot;../../../../data/SampleHDS.jso…</td><td>&quot;667546878277192162&quot;</td><td>&quot;BasicChecking&quot;</td><td>&quot;1632972459100486698&quot;</td><td>&quot;Rejected&quot;</td></tr><tr><td>1.5882e19</td><td>&quot;3305768747399591814&quot;</td><td>&quot;../../../../data/SampleHDS.jso…</td><td>&quot;18309624764761896219&quot;</td><td>&quot;BasicChecking&quot;</td><td>&quot;1607738534331524194&quot;</td><td>&quot;Accepted&quot;</td></tr><tr><td>1.6991e19</td><td>&quot;1475552155946704095&quot;</td><td>&quot;../../../../data/SampleHDS.jso…</td><td>&quot;9923310107525205779&quot;</td><td>&quot;UPlusFinPersonal&quot;</td><td>null</td><td>&quot;Rejected&quot;</td></tr><tr><td>1.3015e19</td><td>&quot;1475552155946704095&quot;</td><td>&quot;../../../../data/SampleHDS.jso…</td><td>&quot;6102050236977356705&quot;</td><td>&quot;BasicChecking&quot;</td><td>&quot;1607738534331524194&quot;</td><td>&quot;Rejected&quot;</td></tr></tbody></table></div>"
      ],
      "text/plain": [
       "shape: (7, 7)\n",
       "┌─────────────┬──────────────┬─────────────┬─────────────┬─────────────┬─────────────┬─────────────┐\n",
       "│ PREDICTOR_0 ┆ PREDICTOR_1  ┆ filename    ┆ PREDICTOR_3 ┆ Context_Nam ┆ IH_Web_Inbo ┆ Decision_Ou │\n",
       "│ ---         ┆ ---          ┆ ---         ┆ ---         ┆ e           ┆ und_Accepte ┆ tcome       │\n",
       "│ f64         ┆ str          ┆ str         ┆ str         ┆ ---         ┆ d_pxLast…   ┆ ---         │\n",
       "│             ┆              ┆             ┆             ┆ str         ┆ ---         ┆ str         │\n",
       "│             ┆              ┆             ┆             ┆             ┆ str         ┆             │\n",
       "╞═════════════╪══════════════╪═════════════╪═════════════╪═════════════╪═════════════╪═════════════╡\n",
       "│ 8.2149e18   ┆ 330576874739 ┆ ../../../.. ┆ 17048238929 ┆ FirstMortga ┆ 16329724591 ┆ Rejected    │\n",
       "│             ┆ 9591814      ┆ /data/Sampl ┆ 157490858   ┆ ge30yr      ┆ 00486698    ┆             │\n",
       "│             ┆              ┆ eHDS.jso…   ┆             ┆             ┆             ┆             │\n",
       "│ 8.2271e18   ┆ 716391892105 ┆ ../../../.. ┆ 45754638694 ┆ FirstMortga ┆ 11038258803 ┆ Accepted    │\n",
       "│             ┆ 0708176      ┆ /data/Sampl ┆ 6707668     ┆ ge30yr      ┆ 662050144   ┆             │\n",
       "│             ┆              ┆ eHDS.jso…   ┆             ┆             ┆             ┆             │\n",
       "│ 8.4128e17   ┆ 147555215594 ┆ ../../../.. ┆ 48933180284 ┆ MoneyMarket ┆ 16329724591 ┆ Rejected    │\n",
       "│             ┆ 6704095      ┆ /data/Sampl ┆ 80005097    ┆ SavingsAcco ┆ 00486698    ┆             │\n",
       "│             ┆              ┆ eHDS.jso…   ┆             ┆ unt         ┆             ┆             │\n",
       "│ 1.6675e19   ┆ 716391892105 ┆ ../../../.. ┆ 66754687827 ┆ BasicChecki ┆ 16329724591 ┆ Rejected    │\n",
       "│             ┆ 0708176      ┆ /data/Sampl ┆ 7192162     ┆ ng          ┆ 00486698    ┆             │\n",
       "│             ┆              ┆ eHDS.jso…   ┆             ┆             ┆             ┆             │\n",
       "│ 1.5882e19   ┆ 330576874739 ┆ ../../../.. ┆ 18309624764 ┆ BasicChecki ┆ 16077385343 ┆ Accepted    │\n",
       "│             ┆ 9591814      ┆ /data/Sampl ┆ 761896219   ┆ ng          ┆ 31524194    ┆             │\n",
       "│             ┆              ┆ eHDS.jso…   ┆             ┆             ┆             ┆             │\n",
       "│ 1.6991e19   ┆ 147555215594 ┆ ../../../.. ┆ 99233101075 ┆ UPlusFinPer ┆ null        ┆ Rejected    │\n",
       "│             ┆ 6704095      ┆ /data/Sampl ┆ 25205779    ┆ sonal       ┆             ┆             │\n",
       "│             ┆              ┆ eHDS.jso…   ┆             ┆             ┆             ┆             │\n",
       "│ 1.3015e19   ┆ 147555215594 ┆ ../../../.. ┆ 61020502369 ┆ BasicChecki ┆ 16077385343 ┆ Rejected    │\n",
       "│             ┆ 6704095      ┆ /data/Sampl ┆ 77356705    ┆ ng          ┆ 31524194    ┆             │\n",
       "│             ┆              ┆ eHDS.jso…   ┆             ┆             ┆             ┆             │\n",
       "└─────────────┴──────────────┴─────────────┴─────────────┴─────────────┴─────────────┴─────────────┘"
      ]
     },
     "execution_count": 10,
     "metadata": {},
     "output_type": "execute_result"
    }
   ],
   "source": [
    "anon = DataAnonymization(config=Config(config_file='config.json'))\n",
    "anon.process()"
   ]
  },
  {
   "attachments": {},
   "cell_type": "markdown",
   "metadata": {},
   "source": [
    "## Exporting\n",
    "Two functions export:\n",
    "- `create_mapping_file()` writes the mapping file of the predictor names\n",
    "- `write_to_output()` writes the processed dataframe to disk\n",
    "\n",
    "Write to output accepts the following extensions: `[\"ndjson\", \"parquet\", \"arrow\", \"csv\"]`"
   ]
  },
  {
   "cell_type": "code",
   "execution_count": 11,
   "metadata": {
    "execution": {
     "iopub.execute_input": "2024-07-08T13:47:55.314050Z",
     "iopub.status.busy": "2024-07-08T13:47:55.313632Z",
     "iopub.status.idle": "2024-07-08T13:47:55.316870Z",
     "shell.execute_reply": "2024-07-08T13:47:55.316438Z"
    }
   },
   "outputs": [
    {
     "name": "stdout",
     "output_type": "stream",
     "text": [
      "Customer_CLV=PREDICTOR_0\n",
      "Customer_MaritalStatus=PREDICTOR_1\n",
      "filename=filename\n",
      "Customer_City=PREDICTOR_3\n",
      "Context_Name=Context_Name\n",
      "IH_Web_Inbound_Accepted_pxLastGroupID=IH_Web_Inbound_Accepted_pxLastGroupID\n",
      "Decision_Outcome=Decision_Outcome\n",
      "\n"
     ]
    }
   ],
   "source": [
    "anon.create_mapping_file()\n",
    "with open('mapping.map') as f:\n",
    "    print(f.read())"
   ]
  },
  {
   "cell_type": "code",
   "execution_count": 12,
   "metadata": {
    "execution": {
     "iopub.execute_input": "2024-07-08T13:47:55.318839Z",
     "iopub.status.busy": "2024-07-08T13:47:55.318418Z",
     "iopub.status.idle": "2024-07-08T13:47:55.321697Z",
     "shell.execute_reply": "2024-07-08T13:47:55.321280Z"
    }
   },
   "outputs": [],
   "source": [
    "anon.write_to_output(ext='arrow')"
   ]
  },
  {
   "cell_type": "code",
   "execution_count": 13,
   "metadata": {
    "execution": {
     "iopub.execute_input": "2024-07-08T13:47:55.323507Z",
     "iopub.status.busy": "2024-07-08T13:47:55.323227Z",
     "iopub.status.idle": "2024-07-08T13:47:55.327522Z",
     "shell.execute_reply": "2024-07-08T13:47:55.327008Z"
    }
   },
   "outputs": [
    {
     "data": {
      "text/html": [
       "<div><style>\n",
       ".dataframe > thead > tr,\n",
       ".dataframe > tbody > tr {\n",
       "  text-align: right;\n",
       "  white-space: pre-wrap;\n",
       "}\n",
       "</style>\n",
       "<small>shape: (7, 6)</small><table border=\"1\" class=\"dataframe\"><thead><tr><th>PREDICTOR_0</th><th>PREDICTOR_1</th><th>PREDICTOR_3</th><th>Context_Name</th><th>IH_Web_Inbound_Accepted_pxLastGroupID</th><th>Decision_Outcome</th></tr><tr><td>f64</td><td>str</td><td>str</td><td>str</td><td>str</td><td>str</td></tr></thead><tbody><tr><td>1.2374e19</td><td>&quot;8143261962905105602&quot;</td><td>&quot;9334090387956600128&quot;</td><td>&quot;FirstMortgage30yr&quot;</td><td>&quot;17559360017661004494&quot;</td><td>&quot;Rejected&quot;</td></tr><tr><td>3.3676e17</td><td>&quot;17712886497653253379&quot;</td><td>&quot;545985962002756100&quot;</td><td>&quot;FirstMortgage30yr&quot;</td><td>&quot;15540437949117486736&quot;</td><td>&quot;Accepted&quot;</td></tr><tr><td>8.5590e17</td><td>&quot;16358691121446902796&quot;</td><td>&quot;13362896636285626020&quot;</td><td>&quot;MoneyMarketSavingsAccount&quot;</td><td>&quot;17559360017661004494&quot;</td><td>&quot;Rejected&quot;</td></tr><tr><td>1.6751e18</td><td>&quot;17712886497653253379&quot;</td><td>&quot;16069116419132877782&quot;</td><td>&quot;BasicChecking&quot;</td><td>&quot;17559360017661004494&quot;</td><td>&quot;Rejected&quot;</td></tr><tr><td>2.4591e18</td><td>&quot;8143261962905105602&quot;</td><td>&quot;12207439731929228649&quot;</td><td>&quot;BasicChecking&quot;</td><td>&quot;10514018318995413814&quot;</td><td>&quot;Accepted&quot;</td></tr><tr><td>1.3862e19</td><td>&quot;16358691121446902796&quot;</td><td>&quot;2891111801820457223&quot;</td><td>&quot;UPlusFinPersonal&quot;</td><td>null</td><td>&quot;Rejected&quot;</td></tr><tr><td>1.5625e19</td><td>&quot;16358691121446902796&quot;</td><td>&quot;14807234862678069604&quot;</td><td>&quot;BasicChecking&quot;</td><td>&quot;10514018318995413814&quot;</td><td>&quot;Rejected&quot;</td></tr></tbody></table></div>"
      ],
      "text/plain": [
       "shape: (7, 6)\n",
       "┌─────────────┬────────────────┬────────────────┬────────────────┬────────────────┬────────────────┐\n",
       "│ PREDICTOR_0 ┆ PREDICTOR_1    ┆ PREDICTOR_3    ┆ Context_Name   ┆ IH_Web_Inbound ┆ Decision_Outco │\n",
       "│ ---         ┆ ---            ┆ ---            ┆ ---            ┆ _Accepted_pxLa ┆ me             │\n",
       "│ f64         ┆ str            ┆ str            ┆ str            ┆ st…            ┆ ---            │\n",
       "│             ┆                ┆                ┆                ┆ ---            ┆ str            │\n",
       "│             ┆                ┆                ┆                ┆ str            ┆                │\n",
       "╞═════════════╪════════════════╪════════════════╪════════════════╪════════════════╪════════════════╡\n",
       "│ 1.2374e19   ┆ 81432619629051 ┆ 93340903879566 ┆ FirstMortgage3 ┆ 17559360017661 ┆ Rejected       │\n",
       "│             ┆ 05602          ┆ 00128          ┆ 0yr            ┆ 004494         ┆                │\n",
       "│ 3.3676e17   ┆ 17712886497653 ┆ 54598596200275 ┆ FirstMortgage3 ┆ 15540437949117 ┆ Accepted       │\n",
       "│             ┆ 253379         ┆ 6100           ┆ 0yr            ┆ 486736         ┆                │\n",
       "│ 8.5590e17   ┆ 16358691121446 ┆ 13362896636285 ┆ MoneyMarketSav ┆ 17559360017661 ┆ Rejected       │\n",
       "│             ┆ 902796         ┆ 626020         ┆ ingsAccount    ┆ 004494         ┆                │\n",
       "│ 1.6751e18   ┆ 17712886497653 ┆ 16069116419132 ┆ BasicChecking  ┆ 17559360017661 ┆ Rejected       │\n",
       "│             ┆ 253379         ┆ 877782         ┆                ┆ 004494         ┆                │\n",
       "│ 2.4591e18   ┆ 81432619629051 ┆ 12207439731929 ┆ BasicChecking  ┆ 10514018318995 ┆ Accepted       │\n",
       "│             ┆ 05602          ┆ 228649         ┆                ┆ 413814         ┆                │\n",
       "│ 1.3862e19   ┆ 16358691121446 ┆ 28911118018204 ┆ UPlusFinPerson ┆ null           ┆ Rejected       │\n",
       "│             ┆ 902796         ┆ 57223          ┆ al             ┆                ┆                │\n",
       "│ 1.5625e19   ┆ 16358691121446 ┆ 14807234862678 ┆ BasicChecking  ┆ 10514018318995 ┆ Rejected       │\n",
       "│             ┆ 902796         ┆ 069604         ┆                ┆ 413814         ┆                │\n",
       "└─────────────┴────────────────┴────────────────┴────────────────┴────────────────┴────────────────┘"
      ]
     },
     "execution_count": 13,
     "metadata": {},
     "output_type": "execute_result"
    }
   ],
   "source": [
    "pl.read_ipc('output/hds.arrow')"
   ]
  },
  {
   "attachments": {},
   "cell_type": "markdown",
   "metadata": {
    "nbsphinx": "hidden"
   },
   "source": [
    "## Advanced: Hash fuctions\n",
    "\n",
    "By default, we use [the same hashing algorithm Polars](https://pola-rs.github.io/polars/py-polars/html/reference/expressions/api/polars.Expr.hash.html#polars.Expr.hash) uses: [xxhash](https://github.com/Cyan4973/xxHash), as implemented [here](https://github.com/pola-rs/polars/blob/3f287f370b3c388ed2f3f218b2c096382548136f/polars/polars-core/src/vector_hasher.rs#L266). xxhash is fast to compute, and you can check its performance in collision, dispersion and randomness [here](https://github.com/Cyan4973/xxHash/tree/dev/tests). \n",
    "\n",
    "xxhash accepts four distinct seeds, but by default we set the seeds to `0`. It is possible to set the `seed` argument of the `process()` function to `'random'`, which will set all four seeds to a random integer between `0` and `1000000000`. Alternatively, it is possible to supply the four seeds manually with arguments `seed`, `seed_1`, `seed_2` and `seed_3`. \n",
    "\n",
    "If the xxhash with (random) seed(s) is not deemed sufficiently secure, it is possible to use your own hashing algorithm.\n",
    "\n",
    "Note that since we're now running python code and not native Polars code anymore, this will be _significantly_ slower. Nonetheless, it is possible.\n",
    "\n",
    "Just as an example - this is how one would use sha3_256:"
   ]
  },
  {
   "cell_type": "code",
   "execution_count": 14,
   "metadata": {
    "execution": {
     "iopub.execute_input": "2024-07-08T13:47:55.329428Z",
     "iopub.status.busy": "2024-07-08T13:47:55.329145Z",
     "iopub.status.idle": "2024-07-08T13:47:55.655185Z",
     "shell.execute_reply": "2024-07-08T13:47:55.654605Z"
    },
    "nbsphinx": "hidden"
   },
   "outputs": [
    {
     "name": "stderr",
     "output_type": "stream",
     "text": [
      "sys:1: MapWithoutReturnDtypeWarning:\n",
      "\n",
      "Calling `map_elements` without specifying `return_dtype` can lead to unpredictable results. Specify `return_dtype` to silence this warning.\n",
      "\n",
      "sys:1: MapWithoutReturnDtypeWarning:\n",
      "\n",
      "Calling `map_elements` without specifying `return_dtype` can lead to unpredictable results. Specify `return_dtype` to silence this warning.\n",
      "\n",
      "sys:1: MapWithoutReturnDtypeWarning:\n",
      "\n",
      "Calling `map_elements` without specifying `return_dtype` can lead to unpredictable results. Specify `return_dtype` to silence this warning.\n",
      "\n",
      "sys:1: MapWithoutReturnDtypeWarning:\n",
      "\n",
      "Calling `map_elements` without specifying `return_dtype` can lead to unpredictable results. Specify `return_dtype` to silence this warning.\n",
      "\n"
     ]
    },
    {
     "ename": "ComputeError",
     "evalue": "AttributeError: 'int' object has no attribute 'encode'",
     "output_type": "error",
     "traceback": [
      "\u001b[0;31m---------------------------------------------------------------------------\u001b[0m",
      "\u001b[0;31mComputeError\u001b[0m                              Traceback (most recent call last)",
      "Cell \u001b[0;32mIn[14], line 3\u001b[0m\n\u001b[1;32m      1\u001b[0m \u001b[38;5;28;01mfrom\u001b[39;00m \u001b[38;5;21;01mhashlib\u001b[39;00m \u001b[38;5;28;01mimport\u001b[39;00m sha3_256\n\u001b[0;32m----> 3\u001b[0m \u001b[43manon\u001b[49m\u001b[38;5;241;43m.\u001b[39;49m\u001b[43mprocess\u001b[49m\u001b[43m(\u001b[49m\u001b[43malgorithm\u001b[49m\u001b[38;5;241;43m=\u001b[39;49m\u001b[38;5;28;43;01mlambda\u001b[39;49;00m\u001b[43m \u001b[49m\u001b[43mx\u001b[49m\u001b[43m:\u001b[49m\u001b[43m \u001b[49m\u001b[43msha3_256\u001b[49m\u001b[43m(\u001b[49m\u001b[43mx\u001b[49m\u001b[38;5;241;43m.\u001b[39;49m\u001b[43mencode\u001b[49m\u001b[43m(\u001b[49m\u001b[43m)\u001b[49m\u001b[43m)\u001b[49m\u001b[38;5;241;43m.\u001b[39;49m\u001b[43mhexdigest\u001b[49m\u001b[43m(\u001b[49m\u001b[43m)\u001b[49m\u001b[43m)\u001b[49m\n",
      "File \u001b[0;32m~/work/pega-datascientist-tools/pega-datascientist-tools/python/docs/source/articles/../../../pdstools/utils/hds_utils.py:512\u001b[0m, in \u001b[0;36mDataAnonymization.process\u001b[0;34m(self, strategy, **kwargs)\u001b[0m\n\u001b[1;32m    510\u001b[0m df \u001b[38;5;241m=\u001b[39m df\u001b[38;5;241m.\u001b[39mselect(\u001b[38;5;28mself\u001b[39m\u001b[38;5;241m.\u001b[39mcolumn_mapping\u001b[38;5;241m.\u001b[39mkeys())\u001b[38;5;241m.\u001b[39mrename(\u001b[38;5;28mself\u001b[39m\u001b[38;5;241m.\u001b[39mcolumn_mapping)\n\u001b[1;32m    511\u001b[0m \u001b[38;5;28;01mif\u001b[39;00m strategy \u001b[38;5;241m==\u001b[39m \u001b[38;5;124m\"\u001b[39m\u001b[38;5;124meager\u001b[39m\u001b[38;5;124m\"\u001b[39m:\n\u001b[0;32m--> 512\u001b[0m     \u001b[38;5;28;01mreturn\u001b[39;00m \u001b[43mdf\u001b[49m\u001b[38;5;241;43m.\u001b[39;49m\u001b[43mcollect\u001b[49m\u001b[43m(\u001b[49m\u001b[43m)\u001b[49m\n\u001b[1;32m    513\u001b[0m \u001b[38;5;28;01mreturn\u001b[39;00m df\n",
      "File \u001b[0;32m/opt/hostedtoolcache/Python/3.11.9/x64/lib/python3.11/site-packages/polars/lazyframe/frame.py:1967\u001b[0m, in \u001b[0;36mLazyFrame.collect\u001b[0;34m(self, type_coercion, predicate_pushdown, projection_pushdown, simplify_expression, slice_pushdown, comm_subplan_elim, comm_subexpr_elim, cluster_with_columns, no_optimization, streaming, background, _eager, **_kwargs)\u001b[0m\n\u001b[1;32m   1964\u001b[0m \u001b[38;5;66;03m# Only for testing purposes atm.\u001b[39;00m\n\u001b[1;32m   1965\u001b[0m callback \u001b[38;5;241m=\u001b[39m _kwargs\u001b[38;5;241m.\u001b[39mget(\u001b[38;5;124m\"\u001b[39m\u001b[38;5;124mpost_opt_callback\u001b[39m\u001b[38;5;124m\"\u001b[39m)\n\u001b[0;32m-> 1967\u001b[0m \u001b[38;5;28;01mreturn\u001b[39;00m wrap_df(\u001b[43mldf\u001b[49m\u001b[38;5;241;43m.\u001b[39;49m\u001b[43mcollect\u001b[49m\u001b[43m(\u001b[49m\u001b[43mcallback\u001b[49m\u001b[43m)\u001b[49m)\n",
      "\u001b[0;31mComputeError\u001b[0m: AttributeError: 'int' object has no attribute 'encode'"
     ]
    }
   ],
   "source": [
    "from hashlib import sha3_256\n",
    "\n",
    "anon.process(algorithm=lambda x: sha3_256(x.encode()).hexdigest())"
   ]
  }
 ],
 "metadata": {
  "kernelspec": {
   "display_name": "Python 3",
   "language": "python",
   "name": "python3"
  },
  "language_info": {
   "codemirror_mode": {
    "name": "ipython",
    "version": 3
   },
   "file_extension": ".py",
   "mimetype": "text/x-python",
   "name": "python",
   "nbconvert_exporter": "python",
   "pygments_lexer": "ipython3",
   "version": "3.11.9"
  },
  "vscode": {
   "interpreter": {
    "hash": "aee8b7b246df8f9039afb4144a1f6fd8d2ca17a180786b69acc140d282b71a49"
   }
  }
 },
 "nbformat": 4,
 "nbformat_minor": 2
}
