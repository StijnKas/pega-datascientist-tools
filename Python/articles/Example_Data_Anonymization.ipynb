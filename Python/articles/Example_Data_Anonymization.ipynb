{
 "cells": [
  {
   "attachments": {},
   "cell_type": "markdown",
   "metadata": {},
   "source": [
    "# Example data anonymization\n",
    "\n",
    "In Pega CDH 8.5 and up, it's now possible to record the historical data as seen by the Adaptive Models. See [this academy challenge](https://academy.pega.com/challenge/exporting-historical-data/v4) for reference. This historical data can be further used to experiment with offline models, but also to fine-tune the OOTB Gradient Boosting model. However, sharing this information with Pega can be sensitive as it contains raw predictor data. \n",
    "\n",
    "To this end, we provide a simple and transparent script to fully anonimize this dataset.\n",
    "\n",
    "The DataAnonymization script is now part of pdstools, and you can import it directly as such."
   ]
  },
  {
   "cell_type": "code",
   "execution_count": 1,
   "metadata": {
    "execution": {
     "iopub.execute_input": "2023-12-08T09:58:12.699105Z",
     "iopub.status.busy": "2023-12-08T09:58:12.698686Z",
     "iopub.status.idle": "2023-12-08T09:58:12.769899Z",
     "shell.execute_reply": "2023-12-08T09:58:12.769282Z"
    },
    "nbsphinx": "hidden"
   },
   "outputs": [],
   "source": [
    "# These lines are only for rendering in the docs, and are hidden through Jupyter tags\n",
    "# Do not run if you're running the notebook seperately\n",
    "\n",
    "import os  \n",
    "import sys\n",
    "import plotly.io as pio\n",
    "pio.renderers.default = \"notebook_connected\"\n",
    "\n",
    "sys.path.append(\"../../../\")\n",
    "sys.path.append('../../python')"
   ]
  },
  {
   "cell_type": "code",
   "execution_count": 2,
   "metadata": {
    "execution": {
     "iopub.execute_input": "2023-12-08T09:58:12.772721Z",
     "iopub.status.busy": "2023-12-08T09:58:12.772286Z",
     "iopub.status.idle": "2023-12-08T09:58:13.852920Z",
     "shell.execute_reply": "2023-12-08T09:58:13.852358Z"
    }
   },
   "outputs": [],
   "source": [
    "from pdstools import ADMDatamart\n",
    "from pdstools import Config, DataAnonymization\n",
    "import polars as pl"
   ]
  },
  {
   "attachments": {},
   "cell_type": "markdown",
   "metadata": {},
   "source": [
    "## Input data\n",
    "\n",
    "To demonstrate this process, we're going to anonymise this toy example dataframe:"
   ]
  },
  {
   "cell_type": "code",
   "execution_count": 3,
   "metadata": {
    "execution": {
     "iopub.execute_input": "2023-12-08T09:58:13.855551Z",
     "iopub.status.busy": "2023-12-08T09:58:13.855243Z",
     "iopub.status.idle": "2023-12-08T09:58:13.865522Z",
     "shell.execute_reply": "2023-12-08T09:58:13.864953Z"
    }
   },
   "outputs": [
    {
     "data": {
      "text/html": [
       "<div><style>\n",
       ".dataframe > thead > tr > th,\n",
       ".dataframe > tbody > tr > td {\n",
       "  text-align: right;\n",
       "  white-space: pre-wrap;\n",
       "}\n",
       "</style>\n",
       "<small>shape: (7, 6)</small><table border=\"1\" class=\"dataframe\"><thead><tr><th>Context_Name</th><th>Customer_MaritalStatus</th><th>Customer_CLV</th><th>Customer_City</th><th>IH_Web_Inbound_Accepted_pxLastGroupID</th><th>Decision_Outcome</th></tr><tr><td>str</td><td>str</td><td>i64</td><td>str</td><td>str</td><td>str</td></tr></thead><tbody><tr><td>&quot;FirstMortgage3…</td><td>&quot;Married&quot;</td><td>1460</td><td>&quot;Port Raoul&quot;</td><td>&quot;Account&quot;</td><td>&quot;Rejected&quot;</td></tr><tr><td>&quot;FirstMortgage3…</td><td>&quot;Unknown&quot;</td><td>669</td><td>&quot;Laurianneshire…</td><td>&quot;AutoLoans&quot;</td><td>&quot;Accepted&quot;</td></tr><tr><td>&quot;MoneyMarketSav…</td><td>&quot;No Resp+&quot;</td><td>1174</td><td>&quot;Jacobshaven&quot;</td><td>&quot;Account&quot;</td><td>&quot;Rejected&quot;</td></tr><tr><td>&quot;BasicChecking&quot;</td><td>&quot;Unknown&quot;</td><td>1476</td><td>&quot;Lindton&quot;</td><td>&quot;Account&quot;</td><td>&quot;Rejected&quot;</td></tr><tr><td>&quot;BasicChecking&quot;</td><td>&quot;Married&quot;</td><td>1211</td><td>&quot;South Jimmiesh…</td><td>&quot;DepositAccount…</td><td>&quot;Accepted&quot;</td></tr><tr><td>&quot;UPlusFinPerson…</td><td>&quot;No Resp+&quot;</td><td>533</td><td>&quot;Bergeville&quot;</td><td>null</td><td>&quot;Rejected&quot;</td></tr><tr><td>&quot;BasicChecking&quot;</td><td>&quot;No Resp+&quot;</td><td>555</td><td>&quot;Willyville&quot;</td><td>&quot;DepositAccount…</td><td>&quot;Rejected&quot;</td></tr></tbody></table></div>"
      ],
      "text/plain": [
       "shape: (7, 6)\n",
       "┌────────────────┬────────────────┬──────────────┬────────────────┬────────────────┬───────────────┐\n",
       "│ Context_Name   ┆ Customer_Marit ┆ Customer_CLV ┆ Customer_City  ┆ IH_Web_Inbound ┆ Decision_Outc │\n",
       "│ ---            ┆ alStatus       ┆ ---          ┆ ---            ┆ _Accepted_pxLa ┆ ome           │\n",
       "│ str            ┆ ---            ┆ i64          ┆ str            ┆ stGr…          ┆ ---           │\n",
       "│                ┆ str            ┆              ┆                ┆ ---            ┆ str           │\n",
       "│                ┆                ┆              ┆                ┆ str            ┆               │\n",
       "╞════════════════╪════════════════╪══════════════╪════════════════╪════════════════╪═══════════════╡\n",
       "│ FirstMortgage3 ┆ Married        ┆ 1460         ┆ Port Raoul     ┆ Account        ┆ Rejected      │\n",
       "│ 0yr            ┆                ┆              ┆                ┆                ┆               │\n",
       "│ FirstMortgage3 ┆ Unknown        ┆ 669          ┆ Laurianneshire ┆ AutoLoans      ┆ Accepted      │\n",
       "│ 0yr            ┆                ┆              ┆                ┆                ┆               │\n",
       "│ MoneyMarketSav ┆ No Resp+       ┆ 1174         ┆ Jacobshaven    ┆ Account        ┆ Rejected      │\n",
       "│ ingsAccount    ┆                ┆              ┆                ┆                ┆               │\n",
       "│ BasicChecking  ┆ Unknown        ┆ 1476         ┆ Lindton        ┆ Account        ┆ Rejected      │\n",
       "│ BasicChecking  ┆ Married        ┆ 1211         ┆ South          ┆ DepositAccount ┆ Accepted      │\n",
       "│                ┆                ┆              ┆ Jimmieshire    ┆ s              ┆               │\n",
       "│ UPlusFinPerson ┆ No Resp+       ┆ 533          ┆ Bergeville     ┆ null           ┆ Rejected      │\n",
       "│ al             ┆                ┆              ┆                ┆                ┆               │\n",
       "│ BasicChecking  ┆ No Resp+       ┆ 555          ┆ Willyville     ┆ DepositAccount ┆ Rejected      │\n",
       "│                ┆                ┆              ┆                ┆ s              ┆               │\n",
       "└────────────────┴────────────────┴──────────────┴────────────────┴────────────────┴───────────────┘"
      ]
     },
     "execution_count": 3,
     "metadata": {},
     "output_type": "execute_result"
    }
   ],
   "source": [
    "pl.read_ndjson('../../../../data/SampleHDS.json')"
   ]
  },
  {
   "attachments": {},
   "cell_type": "markdown",
   "metadata": {},
   "source": [
    "As you can see, this dataset consists of regular predictors, IH predictors, context keys and the outcome column. Additionally, some columns are numeric, others are strings. Let's first initialize the DataAnonymization class."
   ]
  },
  {
   "cell_type": "code",
   "execution_count": 4,
   "metadata": {
    "execution": {
     "iopub.execute_input": "2023-12-08T09:58:13.867756Z",
     "iopub.status.busy": "2023-12-08T09:58:13.867451Z",
     "iopub.status.idle": "2023-12-08T09:58:13.875835Z",
     "shell.execute_reply": "2023-12-08T09:58:13.875377Z"
    }
   },
   "outputs": [],
   "source": [
    "anon = DataAnonymization(hds_folder='../../../../data/')"
   ]
  },
  {
   "attachments": {},
   "cell_type": "markdown",
   "metadata": {},
   "source": [
    "By default, the class applies a set of anonymisation techniques:\n",
    "- Column names are remapped to a non-descriptive name\n",
    "- Categorical values are hashed with a random seed\n",
    "- Numerical values are normalized between 0 and 1\n",
    "- Outcomes are mapped to a binary outcome.\n",
    "\n",
    "To apply these techniques, simply call `.process()`:"
   ]
  },
  {
   "cell_type": "code",
   "execution_count": 5,
   "metadata": {
    "execution": {
     "iopub.execute_input": "2023-12-08T09:58:13.878048Z",
     "iopub.status.busy": "2023-12-08T09:58:13.877871Z",
     "iopub.status.idle": "2023-12-08T09:58:13.883438Z",
     "shell.execute_reply": "2023-12-08T09:58:13.882925Z"
    }
   },
   "outputs": [
    {
     "data": {
      "text/html": [
       "<div><style>\n",
       ".dataframe > thead > tr > th,\n",
       ".dataframe > tbody > tr > td {\n",
       "  text-align: right;\n",
       "  white-space: pre-wrap;\n",
       "}\n",
       "</style>\n",
       "<small>shape: (7, 7)</small><table border=\"1\" class=\"dataframe\"><thead><tr><th>PREDICTOR_0</th><th>filename</th><th>PREDICTOR_2</th><th>PREDICTOR_3</th><th>Context_Name</th><th>IH_PREDICTOR_0</th><th>Decision_Outcome</th></tr><tr><td>str</td><td>str</td><td>f64</td><td>str</td><td>str</td><td>str</td><td>bool</td></tr></thead><tbody><tr><td>&quot;90662975502645…</td><td>&quot;../../../../da…</td><td>1.2927e19</td><td>&quot;68922330118212…</td><td>&quot;42035974207938…</td><td>&quot;77142876705043…</td><td>false</td></tr><tr><td>&quot;88714284616982…</td><td>&quot;../../../../da…</td><td>1.4856e19</td><td>&quot;16839796336423…</td><td>&quot;42035974207938…</td><td>&quot;46697476534896…</td><td>true</td></tr><tr><td>&quot;14989571197262…</td><td>&quot;../../../../da…</td><td>5.6458e17</td><td>&quot;62123343844410…</td><td>&quot;27197560208407…</td><td>&quot;77142876705043…</td><td>false</td></tr><tr><td>&quot;88714284616982…</td><td>&quot;../../../../da…</td><td>4.0723e18</td><td>&quot;12624610222499…</td><td>&quot;11404335997488…</td><td>&quot;77142876705043…</td><td>false</td></tr><tr><td>&quot;90662975502645…</td><td>&quot;../../../../da…</td><td>1.4677e19</td><td>&quot;17650018332365…</td><td>&quot;11404335997488…</td><td>&quot;67365946319646…</td><td>true</td></tr><tr><td>&quot;14989571197262…</td><td>&quot;../../../../da…</td><td>1.6330e19</td><td>&quot;17048788304521…</td><td>&quot;17228172260360…</td><td>null</td><td>false</td></tr><tr><td>&quot;14989571197262…</td><td>&quot;../../../../da…</td><td>8.7675e18</td><td>&quot;60360028546475…</td><td>&quot;11404335997488…</td><td>&quot;67365946319646…</td><td>false</td></tr></tbody></table></div>"
      ],
      "text/plain": [
       "shape: (7, 7)\n",
       "┌──────────────┬─────────────┬─────────────┬─────────────┬─────────────┬─────────────┬─────────────┐\n",
       "│ PREDICTOR_0  ┆ filename    ┆ PREDICTOR_2 ┆ PREDICTOR_3 ┆ Context_Nam ┆ IH_PREDICTO ┆ Decision_Ou │\n",
       "│ ---          ┆ ---         ┆ ---         ┆ ---         ┆ e           ┆ R_0         ┆ tcome       │\n",
       "│ str          ┆ str         ┆ f64         ┆ str         ┆ ---         ┆ ---         ┆ ---         │\n",
       "│              ┆             ┆             ┆             ┆ str         ┆ str         ┆ bool        │\n",
       "╞══════════════╪═════════════╪═════════════╪═════════════╪═════════════╪═════════════╪═════════════╡\n",
       "│ 906629755026 ┆ ../../../.. ┆ 1.2927e19   ┆ 68922330118 ┆ 42035974207 ┆ 77142876705 ┆ false       │\n",
       "│ 4559237      ┆ /data/Sampl ┆             ┆ 21277011    ┆ 93882574    ┆ 04352993    ┆             │\n",
       "│              ┆ eHDS.json   ┆             ┆             ┆             ┆             ┆             │\n",
       "│ 887142846169 ┆ ../../../.. ┆ 1.4856e19   ┆ 16839796336 ┆ 42035974207 ┆ 46697476534 ┆ true        │\n",
       "│ 8272847      ┆ /data/Sampl ┆             ┆ 423503328   ┆ 93882574    ┆ 89606094    ┆             │\n",
       "│              ┆ eHDS.json   ┆             ┆             ┆             ┆             ┆             │\n",
       "│ 149895711972 ┆ ../../../.. ┆ 5.6458e17   ┆ 62123343844 ┆ 27197560208 ┆ 77142876705 ┆ false       │\n",
       "│ 62573487     ┆ /data/Sampl ┆             ┆ 41016780    ┆ 40710687    ┆ 04352993    ┆             │\n",
       "│              ┆ eHDS.json   ┆             ┆             ┆             ┆             ┆             │\n",
       "│ 887142846169 ┆ ../../../.. ┆ 4.0723e18   ┆ 12624610222 ┆ 11404335997 ┆ 77142876705 ┆ false       │\n",
       "│ 8272847      ┆ /data/Sampl ┆             ┆ 499646865   ┆ 488845827   ┆ 04352993    ┆             │\n",
       "│              ┆ eHDS.json   ┆             ┆             ┆             ┆             ┆             │\n",
       "│ 906629755026 ┆ ../../../.. ┆ 1.4677e19   ┆ 17650018332 ┆ 11404335997 ┆ 67365946319 ┆ true        │\n",
       "│ 4559237      ┆ /data/Sampl ┆             ┆ 365335040   ┆ 488845827   ┆ 64680175    ┆             │\n",
       "│              ┆ eHDS.json   ┆             ┆             ┆             ┆             ┆             │\n",
       "│ 149895711972 ┆ ../../../.. ┆ 1.6330e19   ┆ 17048788304 ┆ 17228172260 ┆ null        ┆ false       │\n",
       "│ 62573487     ┆ /data/Sampl ┆             ┆ 521610176   ┆ 360409895   ┆             ┆             │\n",
       "│              ┆ eHDS.json   ┆             ┆             ┆             ┆             ┆             │\n",
       "│ 149895711972 ┆ ../../../.. ┆ 8.7675e18   ┆ 60360028546 ┆ 11404335997 ┆ 67365946319 ┆ false       │\n",
       "│ 62573487     ┆ /data/Sampl ┆             ┆ 47528620    ┆ 488845827   ┆ 64680175    ┆             │\n",
       "│              ┆ eHDS.json   ┆             ┆             ┆             ┆             ┆             │\n",
       "└──────────────┴─────────────┴─────────────┴─────────────┴─────────────┴─────────────┴─────────────┘"
      ]
     },
     "execution_count": 5,
     "metadata": {},
     "output_type": "execute_result"
    }
   ],
   "source": [
    "anon.process()"
   ]
  },
  {
   "attachments": {},
   "cell_type": "markdown",
   "metadata": {},
   "source": [
    "To trace back the columns to their original names, the class also contains a mapping, which does not have to be provided."
   ]
  },
  {
   "cell_type": "code",
   "execution_count": 6,
   "metadata": {
    "execution": {
     "iopub.execute_input": "2023-12-08T09:58:13.885588Z",
     "iopub.status.busy": "2023-12-08T09:58:13.885180Z",
     "iopub.status.idle": "2023-12-08T09:58:13.889017Z",
     "shell.execute_reply": "2023-12-08T09:58:13.888484Z"
    }
   },
   "outputs": [
    {
     "data": {
      "text/plain": [
       "{'Customer_MaritalStatus': 'PREDICTOR_0',\n",
       " 'filename': 'filename',\n",
       " 'Customer_CLV': 'PREDICTOR_2',\n",
       " 'Customer_City': 'PREDICTOR_3',\n",
       " 'Context_Name': 'Context_Name',\n",
       " 'IH_Web_Inbound_Accepted_pxLastGroupID': 'IH_PREDICTOR_0',\n",
       " 'Decision_Outcome': 'Decision_Outcome'}"
      ]
     },
     "execution_count": 6,
     "metadata": {},
     "output_type": "execute_result"
    }
   ],
   "source": [
    "anon.column_mapping"
   ]
  },
  {
   "attachments": {},
   "cell_type": "markdown",
   "metadata": {},
   "source": [
    "## Configs\n",
    "\n",
    "Each capability can optionally be turned off - see below for the full list of config options, and refer to the API reference for the full description."
   ]
  },
  {
   "cell_type": "code",
   "execution_count": 7,
   "metadata": {
    "execution": {
     "iopub.execute_input": "2023-12-08T09:58:13.891026Z",
     "iopub.status.busy": "2023-12-08T09:58:13.890693Z",
     "iopub.status.idle": "2023-12-08T09:58:13.894936Z",
     "shell.execute_reply": "2023-12-08T09:58:13.894462Z"
    }
   },
   "outputs": [
    {
     "data": {
      "text/plain": [
       "{'config_file': None,\n",
       " 'hds_folder': '.',\n",
       " 'use_datamart': False,\n",
       " 'datamart_folder': 'datamart',\n",
       " 'output_format': 'ndjson',\n",
       " 'output_folder': 'output',\n",
       " 'mapping_file': 'mapping.map',\n",
       " 'mask_predictor_names': True,\n",
       " 'mask_context_key_names': False,\n",
       " 'mask_ih_names': True,\n",
       " 'mask_outcome_name': False,\n",
       " 'mask_predictor_values': True,\n",
       " 'mask_context_key_values': True,\n",
       " 'mask_ih_values': True,\n",
       " 'mask_outcome_values': True,\n",
       " 'context_key_label': 'Context_*',\n",
       " 'ih_label': 'IH_*',\n",
       " 'outcome_column': 'Decision_Outcome',\n",
       " 'positive_outcomes': ['Accepted', 'Clicked'],\n",
       " 'negative_outcomes': ['Rejected', 'Impression'],\n",
       " 'special_predictors': ['Decision_DecisionTime',\n",
       "  'Decision_OutcomeTime',\n",
       "  'Decision_Rank'],\n",
       " 'sample_percentage_schema_inferencing': 0.01}"
      ]
     },
     "execution_count": 7,
     "metadata": {},
     "output_type": "execute_result"
    }
   ],
   "source": [
    "dict(zip(Config.__init__.__code__.co_varnames[1:], Config.__init__.__defaults__))"
   ]
  },
  {
   "attachments": {},
   "cell_type": "markdown",
   "metadata": {},
   "source": [
    "It's easy to change these parameters by just passing the keyword arguments. In the following example, we\n",
    "- Keep the IH predictor names\n",
    "- Keep the outcome values\n",
    "- Keep the context key values\n",
    "- Keep the context key predictor names"
   ]
  },
  {
   "cell_type": "code",
   "execution_count": 8,
   "metadata": {
    "execution": {
     "iopub.execute_input": "2023-12-08T09:58:13.896993Z",
     "iopub.status.busy": "2023-12-08T09:58:13.896669Z",
     "iopub.status.idle": "2023-12-08T09:58:13.908008Z",
     "shell.execute_reply": "2023-12-08T09:58:13.907436Z"
    }
   },
   "outputs": [
    {
     "data": {
      "text/html": [
       "<div><style>\n",
       ".dataframe > thead > tr > th,\n",
       ".dataframe > tbody > tr > td {\n",
       "  text-align: right;\n",
       "  white-space: pre-wrap;\n",
       "}\n",
       "</style>\n",
       "<small>shape: (7, 7)</small><table border=\"1\" class=\"dataframe\"><thead><tr><th>PREDICTOR_0</th><th>filename</th><th>PREDICTOR_2</th><th>PREDICTOR_3</th><th>Context_Name</th><th>IH_Web_Inbound_Accepted_pxLastGroupID</th><th>Decision_Outcome</th></tr><tr><td>str</td><td>str</td><td>f64</td><td>str</td><td>str</td><td>str</td><td>str</td></tr></thead><tbody><tr><td>&quot;15166890535638…</td><td>&quot;../../../../da…</td><td>1.2927e19</td><td>&quot;12858583170183…</td><td>&quot;FirstMortgage3…</td><td>&quot;26105874475925…</td><td>&quot;Rejected&quot;</td></tr><tr><td>&quot;46125259199856…</td><td>&quot;../../../../da…</td><td>1.4856e19</td><td>&quot;80145724037176…</td><td>&quot;FirstMortgage3…</td><td>&quot;17783703160881…</td><td>&quot;Accepted&quot;</td></tr><tr><td>&quot;16927451993755…</td><td>&quot;../../../../da…</td><td>5.6458e17</td><td>&quot;14806101941641…</td><td>&quot;MoneyMarketSav…</td><td>&quot;26105874475925…</td><td>&quot;Rejected&quot;</td></tr><tr><td>&quot;46125259199856…</td><td>&quot;../../../../da…</td><td>4.0723e18</td><td>&quot;88681499390852…</td><td>&quot;BasicChecking&quot;</td><td>&quot;26105874475925…</td><td>&quot;Rejected&quot;</td></tr><tr><td>&quot;15166890535638…</td><td>&quot;../../../../da…</td><td>1.4677e19</td><td>&quot;65406216395130…</td><td>&quot;BasicChecking&quot;</td><td>&quot;22531416359228…</td><td>&quot;Accepted&quot;</td></tr><tr><td>&quot;16927451993755…</td><td>&quot;../../../../da…</td><td>1.6330e19</td><td>&quot;81723767722721…</td><td>&quot;UPlusFinPerson…</td><td>null</td><td>&quot;Rejected&quot;</td></tr><tr><td>&quot;16927451993755…</td><td>&quot;../../../../da…</td><td>8.7675e18</td><td>&quot;78502722213188…</td><td>&quot;BasicChecking&quot;</td><td>&quot;22531416359228…</td><td>&quot;Rejected&quot;</td></tr></tbody></table></div>"
      ],
      "text/plain": [
       "shape: (7, 7)\n",
       "┌──────────────┬─────────────┬─────────────┬─────────────┬─────────────┬─────────────┬─────────────┐\n",
       "│ PREDICTOR_0  ┆ filename    ┆ PREDICTOR_2 ┆ PREDICTOR_3 ┆ Context_Nam ┆ IH_Web_Inbo ┆ Decision_Ou │\n",
       "│ ---          ┆ ---         ┆ ---         ┆ ---         ┆ e           ┆ und_Accepte ┆ tcome       │\n",
       "│ str          ┆ str         ┆ f64         ┆ str         ┆ ---         ┆ d_pxLastGr… ┆ ---         │\n",
       "│              ┆             ┆             ┆             ┆ str         ┆ ---         ┆ str         │\n",
       "│              ┆             ┆             ┆             ┆             ┆ str         ┆             │\n",
       "╞══════════════╪═════════════╪═════════════╪═════════════╪═════════════╪═════════════╪═════════════╡\n",
       "│ 151668905356 ┆ ../../../.. ┆ 1.2927e19   ┆ 12858583170 ┆ FirstMortga ┆ 26105874475 ┆ Rejected    │\n",
       "│ 38951238     ┆ /data/Sampl ┆             ┆ 183193740   ┆ ge30yr      ┆ 92533329    ┆             │\n",
       "│              ┆ eHDS.json   ┆             ┆             ┆             ┆             ┆             │\n",
       "│ 461252591998 ┆ ../../../.. ┆ 1.4856e19   ┆ 80145724037 ┆ FirstMortga ┆ 17783703160 ┆ Accepted    │\n",
       "│ 5646445      ┆ /data/Sampl ┆             ┆ 17672987    ┆ ge30yr      ┆ 881848904   ┆             │\n",
       "│              ┆ eHDS.json   ┆             ┆             ┆             ┆             ┆             │\n",
       "│ 169274519937 ┆ ../../../.. ┆ 5.6458e17   ┆ 14806101941 ┆ MoneyMarket ┆ 26105874475 ┆ Rejected    │\n",
       "│ 55016283     ┆ /data/Sampl ┆             ┆ 641373706   ┆ SavingsAcco ┆ 92533329    ┆             │\n",
       "│              ┆ eHDS.json   ┆             ┆             ┆ unt         ┆             ┆             │\n",
       "│ 461252591998 ┆ ../../../.. ┆ 4.0723e18   ┆ 88681499390 ┆ BasicChecki ┆ 26105874475 ┆ Rejected    │\n",
       "│ 5646445      ┆ /data/Sampl ┆             ┆ 8525754     ┆ ng          ┆ 92533329    ┆             │\n",
       "│              ┆ eHDS.json   ┆             ┆             ┆             ┆             ┆             │\n",
       "│ 151668905356 ┆ ../../../.. ┆ 1.4677e19   ┆ 65406216395 ┆ BasicChecki ┆ 22531416359 ┆ Accepted    │\n",
       "│ 38951238     ┆ /data/Sampl ┆             ┆ 13016282    ┆ ng          ┆ 22849510    ┆             │\n",
       "│              ┆ eHDS.json   ┆             ┆             ┆             ┆             ┆             │\n",
       "│ 169274519937 ┆ ../../../.. ┆ 1.6330e19   ┆ 81723767722 ┆ UPlusFinPer ┆ null        ┆ Rejected    │\n",
       "│ 55016283     ┆ /data/Sampl ┆             ┆ 72126145    ┆ sonal       ┆             ┆             │\n",
       "│              ┆ eHDS.json   ┆             ┆             ┆             ┆             ┆             │\n",
       "│ 169274519937 ┆ ../../../.. ┆ 8.7675e18   ┆ 78502722213 ┆ BasicChecki ┆ 22531416359 ┆ Rejected    │\n",
       "│ 55016283     ┆ /data/Sampl ┆             ┆ 18821304    ┆ ng          ┆ 22849510    ┆             │\n",
       "│              ┆ eHDS.json   ┆             ┆             ┆             ┆             ┆             │\n",
       "└──────────────┴─────────────┴─────────────┴─────────────┴─────────────┴─────────────┴─────────────┘"
      ]
     },
     "execution_count": 8,
     "metadata": {},
     "output_type": "execute_result"
    }
   ],
   "source": [
    "anon = DataAnonymization(\n",
    "    hds_folder=\"../../../../data/\",\n",
    "    mask_ih_names=False,\n",
    "    mask_outcome_values=False,\n",
    "    mask_context_key_values=False,\n",
    "    mask_context_key_names=False,\n",
    ")\n",
    "anon.process()\n"
   ]
  },
  {
   "attachments": {},
   "cell_type": "markdown",
   "metadata": {},
   "source": [
    "The configs can also be written and read as such:"
   ]
  },
  {
   "cell_type": "code",
   "execution_count": 9,
   "metadata": {
    "execution": {
     "iopub.execute_input": "2023-12-08T09:58:13.910190Z",
     "iopub.status.busy": "2023-12-08T09:58:13.909888Z",
     "iopub.status.idle": "2023-12-08T09:58:13.912819Z",
     "shell.execute_reply": "2023-12-08T09:58:13.912266Z"
    }
   },
   "outputs": [],
   "source": [
    "anon.config.save_to_config_file('config.json')"
   ]
  },
  {
   "cell_type": "code",
   "execution_count": 10,
   "metadata": {
    "execution": {
     "iopub.execute_input": "2023-12-08T09:58:13.914885Z",
     "iopub.status.busy": "2023-12-08T09:58:13.914573Z",
     "iopub.status.idle": "2023-12-08T09:58:13.924449Z",
     "shell.execute_reply": "2023-12-08T09:58:13.923947Z"
    }
   },
   "outputs": [
    {
     "data": {
      "text/html": [
       "<div><style>\n",
       ".dataframe > thead > tr > th,\n",
       ".dataframe > tbody > tr > td {\n",
       "  text-align: right;\n",
       "  white-space: pre-wrap;\n",
       "}\n",
       "</style>\n",
       "<small>shape: (7, 7)</small><table border=\"1\" class=\"dataframe\"><thead><tr><th>PREDICTOR_0</th><th>filename</th><th>PREDICTOR_2</th><th>PREDICTOR_3</th><th>Context_Name</th><th>IH_Web_Inbound_Accepted_pxLastGroupID</th><th>Decision_Outcome</th></tr><tr><td>str</td><td>str</td><td>f64</td><td>str</td><td>str</td><td>str</td><td>str</td></tr></thead><tbody><tr><td>&quot;32251826293461…</td><td>&quot;../../../../da…</td><td>1.2927e19</td><td>&quot;87045720945112…</td><td>&quot;FirstMortgage3…</td><td>&quot;67042635411503…</td><td>&quot;Rejected&quot;</td></tr><tr><td>&quot;16921644860374…</td><td>&quot;../../../../da…</td><td>1.4856e19</td><td>&quot;13550977591507…</td><td>&quot;FirstMortgage3…</td><td>&quot;78363746852696…</td><td>&quot;Accepted&quot;</td></tr><tr><td>&quot;30711753081195…</td><td>&quot;../../../../da…</td><td>5.6458e17</td><td>&quot;38615770780038…</td><td>&quot;MoneyMarketSav…</td><td>&quot;67042635411503…</td><td>&quot;Rejected&quot;</td></tr><tr><td>&quot;16921644860374…</td><td>&quot;../../../../da…</td><td>4.0723e18</td><td>&quot;87553699015145…</td><td>&quot;BasicChecking&quot;</td><td>&quot;67042635411503…</td><td>&quot;Rejected&quot;</td></tr><tr><td>&quot;32251826293461…</td><td>&quot;../../../../da…</td><td>1.4677e19</td><td>&quot;15903405584072…</td><td>&quot;BasicChecking&quot;</td><td>&quot;13110854386258…</td><td>&quot;Accepted&quot;</td></tr><tr><td>&quot;30711753081195…</td><td>&quot;../../../../da…</td><td>1.6330e19</td><td>&quot;10467618717531…</td><td>&quot;UPlusFinPerson…</td><td>null</td><td>&quot;Rejected&quot;</td></tr><tr><td>&quot;30711753081195…</td><td>&quot;../../../../da…</td><td>8.7675e18</td><td>&quot;56240849352105…</td><td>&quot;BasicChecking&quot;</td><td>&quot;13110854386258…</td><td>&quot;Rejected&quot;</td></tr></tbody></table></div>"
      ],
      "text/plain": [
       "shape: (7, 7)\n",
       "┌──────────────┬─────────────┬─────────────┬─────────────┬─────────────┬─────────────┬─────────────┐\n",
       "│ PREDICTOR_0  ┆ filename    ┆ PREDICTOR_2 ┆ PREDICTOR_3 ┆ Context_Nam ┆ IH_Web_Inbo ┆ Decision_Ou │\n",
       "│ ---          ┆ ---         ┆ ---         ┆ ---         ┆ e           ┆ und_Accepte ┆ tcome       │\n",
       "│ str          ┆ str         ┆ f64         ┆ str         ┆ ---         ┆ d_pxLastGr… ┆ ---         │\n",
       "│              ┆             ┆             ┆             ┆ str         ┆ ---         ┆ str         │\n",
       "│              ┆             ┆             ┆             ┆             ┆ str         ┆             │\n",
       "╞══════════════╪═════════════╪═════════════╪═════════════╪═════════════╪═════════════╪═════════════╡\n",
       "│ 322518262934 ┆ ../../../.. ┆ 1.2927e19   ┆ 87045720945 ┆ FirstMortga ┆ 67042635411 ┆ Rejected    │\n",
       "│ 6117687      ┆ /data/Sampl ┆             ┆ 112837      ┆ ge30yr      ┆ 50379121    ┆             │\n",
       "│              ┆ eHDS.json   ┆             ┆             ┆             ┆             ┆             │\n",
       "│ 169216448603 ┆ ../../../.. ┆ 1.4856e19   ┆ 13550977591 ┆ FirstMortga ┆ 78363746852 ┆ Accepted    │\n",
       "│ 74304891     ┆ /data/Sampl ┆             ┆ 507502139   ┆ ge30yr      ┆ 69623213    ┆             │\n",
       "│              ┆ eHDS.json   ┆             ┆             ┆             ┆             ┆             │\n",
       "│ 307117530811 ┆ ../../../.. ┆ 5.6458e17   ┆ 38615770780 ┆ MoneyMarket ┆ 67042635411 ┆ Rejected    │\n",
       "│ 9556064      ┆ /data/Sampl ┆             ┆ 03889960    ┆ SavingsAcco ┆ 50379121    ┆             │\n",
       "│              ┆ eHDS.json   ┆             ┆             ┆ unt         ┆             ┆             │\n",
       "│ 169216448603 ┆ ../../../.. ┆ 4.0723e18   ┆ 87553699015 ┆ BasicChecki ┆ 67042635411 ┆ Rejected    │\n",
       "│ 74304891     ┆ /data/Sampl ┆             ┆ 14574338    ┆ ng          ┆ 50379121    ┆             │\n",
       "│              ┆ eHDS.json   ┆             ┆             ┆             ┆             ┆             │\n",
       "│ 322518262934 ┆ ../../../.. ┆ 1.4677e19   ┆ 15903405584 ┆ BasicChecki ┆ 13110854386 ┆ Accepted    │\n",
       "│ 6117687      ┆ /data/Sampl ┆             ┆ 0725650     ┆ ng          ┆ 258716919   ┆             │\n",
       "│              ┆ eHDS.json   ┆             ┆             ┆             ┆             ┆             │\n",
       "│ 307117530811 ┆ ../../../.. ┆ 1.6330e19   ┆ 10467618717 ┆ UPlusFinPer ┆ null        ┆ Rejected    │\n",
       "│ 9556064      ┆ /data/Sampl ┆             ┆ 531859460   ┆ sonal       ┆             ┆             │\n",
       "│              ┆ eHDS.json   ┆             ┆             ┆             ┆             ┆             │\n",
       "│ 307117530811 ┆ ../../../.. ┆ 8.7675e18   ┆ 56240849352 ┆ BasicChecki ┆ 13110854386 ┆ Rejected    │\n",
       "│ 9556064      ┆ /data/Sampl ┆             ┆ 10565350    ┆ ng          ┆ 258716919   ┆             │\n",
       "│              ┆ eHDS.json   ┆             ┆             ┆             ┆             ┆             │\n",
       "└──────────────┴─────────────┴─────────────┴─────────────┴─────────────┴─────────────┴─────────────┘"
      ]
     },
     "execution_count": 10,
     "metadata": {},
     "output_type": "execute_result"
    }
   ],
   "source": [
    "anon = DataAnonymization(config=Config(config_file='config.json'))\n",
    "anon.process()"
   ]
  },
  {
   "attachments": {},
   "cell_type": "markdown",
   "metadata": {},
   "source": [
    "## Exporting\n",
    "Two functions export:\n",
    "- `create_mapping_file()` writes the mapping file of the predictor names\n",
    "- `write_to_output()` writes the processed dataframe to disk\n",
    "\n",
    "Write to output accepts the following extensions: `[\"ndjson\", \"parquet\", \"arrow\", \"csv\"]`"
   ]
  },
  {
   "cell_type": "code",
   "execution_count": 11,
   "metadata": {
    "execution": {
     "iopub.execute_input": "2023-12-08T09:58:13.926527Z",
     "iopub.status.busy": "2023-12-08T09:58:13.926205Z",
     "iopub.status.idle": "2023-12-08T09:58:13.929767Z",
     "shell.execute_reply": "2023-12-08T09:58:13.929204Z"
    }
   },
   "outputs": [
    {
     "name": "stdout",
     "output_type": "stream",
     "text": [
      "Customer_MaritalStatus=PREDICTOR_0\n",
      "filename=filename\n",
      "Customer_CLV=PREDICTOR_2\n",
      "Customer_City=PREDICTOR_3\n",
      "Context_Name=Context_Name\n",
      "IH_Web_Inbound_Accepted_pxLastGroupID=IH_Web_Inbound_Accepted_pxLastGroupID\n",
      "Decision_Outcome=Decision_Outcome\n",
      "\n"
     ]
    }
   ],
   "source": [
    "anon.create_mapping_file()\n",
    "with open('mapping.map') as f:\n",
    "    print(f.read())"
   ]
  },
  {
   "cell_type": "code",
   "execution_count": 12,
   "metadata": {
    "execution": {
     "iopub.execute_input": "2023-12-08T09:58:13.931836Z",
     "iopub.status.busy": "2023-12-08T09:58:13.931524Z",
     "iopub.status.idle": "2023-12-08T09:58:13.935232Z",
     "shell.execute_reply": "2023-12-08T09:58:13.934801Z"
    }
   },
   "outputs": [],
   "source": [
    "anon.write_to_output(ext='arrow')"
   ]
  },
  {
   "cell_type": "code",
   "execution_count": 13,
   "metadata": {
    "execution": {
     "iopub.execute_input": "2023-12-08T09:58:13.937214Z",
     "iopub.status.busy": "2023-12-08T09:58:13.936898Z",
     "iopub.status.idle": "2023-12-08T09:58:13.941529Z",
     "shell.execute_reply": "2023-12-08T09:58:13.941061Z"
    }
   },
   "outputs": [
    {
     "data": {
      "text/html": [
       "<div><style>\n",
       ".dataframe > thead > tr > th,\n",
       ".dataframe > tbody > tr > td {\n",
       "  text-align: right;\n",
       "  white-space: pre-wrap;\n",
       "}\n",
       "</style>\n",
       "<small>shape: (7, 6)</small><table border=\"1\" class=\"dataframe\"><thead><tr><th>PREDICTOR_0</th><th>PREDICTOR_2</th><th>PREDICTOR_3</th><th>Context_Name</th><th>IH_Web_Inbound_Accepted_pxLastGroupID</th><th>Decision_Outcome</th></tr><tr><td>str</td><td>f64</td><td>str</td><td>str</td><td>str</td><td>str</td></tr></thead><tbody><tr><td>&quot;15808667346596…</td><td>1.2927e19</td><td>&quot;10048211846455…</td><td>&quot;FirstMortgage3…</td><td>&quot;15112113216194…</td><td>&quot;Rejected&quot;</td></tr><tr><td>&quot;11445548575797…</td><td>1.4856e19</td><td>&quot;16319758061109…</td><td>&quot;FirstMortgage3…</td><td>&quot;11493094734607…</td><td>&quot;Accepted&quot;</td></tr><tr><td>&quot;16129426977748…</td><td>5.6458e17</td><td>&quot;16869824499706…</td><td>&quot;MoneyMarketSav…</td><td>&quot;15112113216194…</td><td>&quot;Rejected&quot;</td></tr><tr><td>&quot;11445548575797…</td><td>4.0723e18</td><td>&quot;89934743558438…</td><td>&quot;BasicChecking&quot;</td><td>&quot;15112113216194…</td><td>&quot;Rejected&quot;</td></tr><tr><td>&quot;15808667346596…</td><td>1.4677e19</td><td>&quot;60124634173560…</td><td>&quot;BasicChecking&quot;</td><td>&quot;72206613027252…</td><td>&quot;Accepted&quot;</td></tr><tr><td>&quot;16129426977748…</td><td>1.6330e19</td><td>&quot;12915484467153…</td><td>&quot;UPlusFinPerson…</td><td>null</td><td>&quot;Rejected&quot;</td></tr><tr><td>&quot;16129426977748…</td><td>8.7675e18</td><td>&quot;40512336542703…</td><td>&quot;BasicChecking&quot;</td><td>&quot;72206613027252…</td><td>&quot;Rejected&quot;</td></tr></tbody></table></div>"
      ],
      "text/plain": [
       "shape: (7, 6)\n",
       "┌────────────────┬─────────────┬────────────────┬────────────────┬────────────────┬────────────────┐\n",
       "│ PREDICTOR_0    ┆ PREDICTOR_2 ┆ PREDICTOR_3    ┆ Context_Name   ┆ IH_Web_Inbound ┆ Decision_Outco │\n",
       "│ ---            ┆ ---         ┆ ---            ┆ ---            ┆ _Accepted_pxLa ┆ me             │\n",
       "│ str            ┆ f64         ┆ str            ┆ str            ┆ stGr…          ┆ ---            │\n",
       "│                ┆             ┆                ┆                ┆ ---            ┆ str            │\n",
       "│                ┆             ┆                ┆                ┆ str            ┆                │\n",
       "╞════════════════╪═════════════╪════════════════╪════════════════╪════════════════╪════════════════╡\n",
       "│ 15808667346596 ┆ 1.2927e19   ┆ 10048211846455 ┆ FirstMortgage3 ┆ 15112113216194 ┆ Rejected       │\n",
       "│ 283915         ┆             ┆ 903344         ┆ 0yr            ┆ 93154          ┆                │\n",
       "│ 11445548575797 ┆ 1.4856e19   ┆ 16319758061109 ┆ FirstMortgage3 ┆ 11493094734607 ┆ Accepted       │\n",
       "│ 737666         ┆             ┆ 446640         ┆ 0yr            ┆ 273556         ┆                │\n",
       "│ 16129426977748 ┆ 5.6458e17   ┆ 16869824499706 ┆ MoneyMarketSav ┆ 15112113216194 ┆ Rejected       │\n",
       "│ 463723         ┆             ┆ 873653         ┆ ingsAccount    ┆ 93154          ┆                │\n",
       "│ 11445548575797 ┆ 4.0723e18   ┆ 89934743558438 ┆ BasicChecking  ┆ 15112113216194 ┆ Rejected       │\n",
       "│ 737666         ┆             ┆ 85307          ┆                ┆ 93154          ┆                │\n",
       "│ 15808667346596 ┆ 1.4677e19   ┆ 60124634173560 ┆ BasicChecking  ┆ 72206613027252 ┆ Accepted       │\n",
       "│ 283915         ┆             ┆ 29702          ┆                ┆ 10113          ┆                │\n",
       "│ 16129426977748 ┆ 1.6330e19   ┆ 12915484467153 ┆ UPlusFinPerson ┆ null           ┆ Rejected       │\n",
       "│ 463723         ┆             ┆ 441241         ┆ al             ┆                ┆                │\n",
       "│ 16129426977748 ┆ 8.7675e18   ┆ 40512336542703 ┆ BasicChecking  ┆ 72206613027252 ┆ Rejected       │\n",
       "│ 463723         ┆             ┆ 18679          ┆                ┆ 10113          ┆                │\n",
       "└────────────────┴─────────────┴────────────────┴────────────────┴────────────────┴────────────────┘"
      ]
     },
     "execution_count": 13,
     "metadata": {},
     "output_type": "execute_result"
    }
   ],
   "source": [
    "pl.read_ipc('output/hds.arrow')"
   ]
  },
  {
   "attachments": {},
   "cell_type": "markdown",
   "metadata": {
    "nbsphinx": "hidden"
   },
   "source": [
    "## Advanced: Hash fuctions\n",
    "\n",
    "By default, we use [the same hashing algorithm Polars](https://pola-rs.github.io/polars/py-polars/html/reference/expressions/api/polars.Expr.hash.html#polars.Expr.hash) uses: [xxhash](https://github.com/Cyan4973/xxHash), as implemented [here](https://github.com/pola-rs/polars/blob/3f287f370b3c388ed2f3f218b2c096382548136f/polars/polars-core/src/vector_hasher.rs#L266). xxhash is fast to compute, and you can check its performance in collision, dispersion and randomness [here](https://github.com/Cyan4973/xxHash/tree/dev/tests). \n",
    "\n",
    "xxhash accepts four distinct seeds, but by default we set the seeds to `0`. It is possible to set the `seed` argument of the `process()` function to `'random'`, which will set all four seeds to a random integer between `0` and `1000000000`. Alternatively, it is possible to supply the four seeds manually with arguments `seed`, `seed_1`, `seed_2` and `seed_3`. \n",
    "\n",
    "If the xxhash with (random) seed(s) is not deemed sufficiently secure, it is possible to use your own hashing algorithm.\n",
    "\n",
    "Note that since we're now running python code and not native Polars code anymore, this will be _significantly_ slower. Nonetheless, it is possible.\n",
    "\n",
    "Just as an example - this is how one would use sha3_256:"
   ]
  },
  {
   "cell_type": "code",
   "execution_count": 14,
   "metadata": {
    "execution": {
     "iopub.execute_input": "2023-12-08T09:58:13.943477Z",
     "iopub.status.busy": "2023-12-08T09:58:13.943158Z",
     "iopub.status.idle": "2023-12-08T09:58:14.277411Z",
     "shell.execute_reply": "2023-12-08T09:58:14.276853Z"
    },
    "nbsphinx": "hidden"
   },
   "outputs": [
    {
     "ename": "ComputeError",
     "evalue": "AttributeError: 'int' object has no attribute 'encode'",
     "output_type": "error",
     "traceback": [
      "\u001b[0;31m---------------------------------------------------------------------------\u001b[0m",
      "\u001b[0;31mComputeError\u001b[0m                              Traceback (most recent call last)",
      "Cell \u001b[0;32mIn[14], line 3\u001b[0m\n\u001b[1;32m      1\u001b[0m \u001b[38;5;28;01mfrom\u001b[39;00m \u001b[38;5;21;01mhashlib\u001b[39;00m \u001b[38;5;28;01mimport\u001b[39;00m sha3_256\n\u001b[0;32m----> 3\u001b[0m \u001b[43manon\u001b[49m\u001b[38;5;241;43m.\u001b[39;49m\u001b[43mprocess\u001b[49m\u001b[43m(\u001b[49m\u001b[43malgorithm\u001b[49m\u001b[38;5;241;43m=\u001b[39;49m\u001b[38;5;28;43;01mlambda\u001b[39;49;00m\u001b[43m \u001b[49m\u001b[43mx\u001b[49m\u001b[43m:\u001b[49m\u001b[43m \u001b[49m\u001b[43msha3_256\u001b[49m\u001b[43m(\u001b[49m\u001b[43mx\u001b[49m\u001b[38;5;241;43m.\u001b[39;49m\u001b[43mencode\u001b[49m\u001b[43m(\u001b[49m\u001b[43m)\u001b[49m\u001b[43m)\u001b[49m\u001b[38;5;241;43m.\u001b[39;49m\u001b[43mhexdigest\u001b[49m\u001b[43m(\u001b[49m\u001b[43m)\u001b[49m\u001b[43m)\u001b[49m\n",
      "File \u001b[0;32m~/work/pega-datascientist-tools/pega-datascientist-tools/python/docs/source/articles/../../../pdstools/utils/hds_utils.py:516\u001b[0m, in \u001b[0;36mDataAnonymization.process\u001b[0;34m(self, strategy, **kwargs)\u001b[0m\n\u001b[1;32m    514\u001b[0m df \u001b[38;5;241m=\u001b[39m df\u001b[38;5;241m.\u001b[39mselect(\u001b[38;5;28mself\u001b[39m\u001b[38;5;241m.\u001b[39mcolumn_mapping\u001b[38;5;241m.\u001b[39mkeys())\u001b[38;5;241m.\u001b[39mrename(\u001b[38;5;28mself\u001b[39m\u001b[38;5;241m.\u001b[39mcolumn_mapping)\n\u001b[1;32m    515\u001b[0m \u001b[38;5;28;01mif\u001b[39;00m strategy \u001b[38;5;241m==\u001b[39m \u001b[38;5;124m\"\u001b[39m\u001b[38;5;124meager\u001b[39m\u001b[38;5;124m\"\u001b[39m:\n\u001b[0;32m--> 516\u001b[0m     \u001b[38;5;28;01mreturn\u001b[39;00m \u001b[43mdf\u001b[49m\u001b[38;5;241;43m.\u001b[39;49m\u001b[43mcollect\u001b[49m\u001b[43m(\u001b[49m\u001b[43m)\u001b[49m\n\u001b[1;32m    517\u001b[0m \u001b[38;5;28;01mreturn\u001b[39;00m df\n",
      "File \u001b[0;32m/opt/hostedtoolcache/Python/3.11.6/x64/lib/python3.11/site-packages/polars/utils/deprecation.py:100\u001b[0m, in \u001b[0;36mdeprecate_renamed_parameter.<locals>.decorate.<locals>.wrapper\u001b[0;34m(*args, **kwargs)\u001b[0m\n\u001b[1;32m     95\u001b[0m \u001b[38;5;129m@wraps\u001b[39m(function)\n\u001b[1;32m     96\u001b[0m \u001b[38;5;28;01mdef\u001b[39;00m \u001b[38;5;21mwrapper\u001b[39m(\u001b[38;5;241m*\u001b[39margs: P\u001b[38;5;241m.\u001b[39margs, \u001b[38;5;241m*\u001b[39m\u001b[38;5;241m*\u001b[39mkwargs: P\u001b[38;5;241m.\u001b[39mkwargs) \u001b[38;5;241m-\u001b[39m\u001b[38;5;241m>\u001b[39m T:\n\u001b[1;32m     97\u001b[0m     _rename_keyword_argument(\n\u001b[1;32m     98\u001b[0m         old_name, new_name, kwargs, function\u001b[38;5;241m.\u001b[39m\u001b[38;5;18m__name__\u001b[39m, version\n\u001b[1;32m     99\u001b[0m     )\n\u001b[0;32m--> 100\u001b[0m     \u001b[38;5;28;01mreturn\u001b[39;00m \u001b[43mfunction\u001b[49m\u001b[43m(\u001b[49m\u001b[38;5;241;43m*\u001b[39;49m\u001b[43margs\u001b[49m\u001b[43m,\u001b[49m\u001b[43m \u001b[49m\u001b[38;5;241;43m*\u001b[39;49m\u001b[38;5;241;43m*\u001b[39;49m\u001b[43mkwargs\u001b[49m\u001b[43m)\u001b[49m\n",
      "File \u001b[0;32m/opt/hostedtoolcache/Python/3.11.6/x64/lib/python3.11/site-packages/polars/lazyframe/frame.py:1787\u001b[0m, in \u001b[0;36mLazyFrame.collect\u001b[0;34m(self, type_coercion, predicate_pushdown, projection_pushdown, simplify_expression, slice_pushdown, comm_subplan_elim, comm_subexpr_elim, no_optimization, streaming, _eager)\u001b[0m\n\u001b[1;32m   1774\u001b[0m     comm_subplan_elim \u001b[38;5;241m=\u001b[39m \u001b[38;5;28;01mFalse\u001b[39;00m\n\u001b[1;32m   1776\u001b[0m ldf \u001b[38;5;241m=\u001b[39m \u001b[38;5;28mself\u001b[39m\u001b[38;5;241m.\u001b[39m_ldf\u001b[38;5;241m.\u001b[39moptimization_toggle(\n\u001b[1;32m   1777\u001b[0m     type_coercion,\n\u001b[1;32m   1778\u001b[0m     predicate_pushdown,\n\u001b[0;32m   (...)\u001b[0m\n\u001b[1;32m   1785\u001b[0m     _eager,\n\u001b[1;32m   1786\u001b[0m )\n\u001b[0;32m-> 1787\u001b[0m \u001b[38;5;28;01mreturn\u001b[39;00m wrap_df(ldf\u001b[38;5;241m.\u001b[39mcollect())\n",
      "\u001b[0;31mComputeError\u001b[0m: AttributeError: 'int' object has no attribute 'encode'"
     ]
    }
   ],
   "source": [
    "from hashlib import sha3_256\n",
    "\n",
    "anon.process(algorithm=lambda x: sha3_256(x.encode()).hexdigest())"
   ]
  }
 ],
 "metadata": {
  "kernelspec": {
   "display_name": "Python 3",
   "language": "python",
   "name": "python3"
  },
  "language_info": {
   "codemirror_mode": {
    "name": "ipython",
    "version": 3
   },
   "file_extension": ".py",
   "mimetype": "text/x-python",
   "name": "python",
   "nbconvert_exporter": "python",
   "pygments_lexer": "ipython3",
   "version": "3.11.6"
  },
  "vscode": {
   "interpreter": {
    "hash": "aee8b7b246df8f9039afb4144a1f6fd8d2ca17a180786b69acc140d282b71a49"
   }
  }
 },
 "nbformat": 4,
 "nbformat_minor": 2
}
