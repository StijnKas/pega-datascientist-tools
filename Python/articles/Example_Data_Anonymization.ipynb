{
 "cells": [
  {
   "attachments": {},
   "cell_type": "markdown",
   "metadata": {},
   "source": [
    "# Data Anonymization\n",
    "\n",
    "In Pega CDH 8.5 and up, it's now possible to record the historical data as seen by the Adaptive Models. See [this academy challenge](https://academy.pega.com/challenge/exporting-historical-data/v4) for reference. This historical data can be further used to experiment with offline models, but also to fine-tune the OOTB Gradient Boosting model. However, sharing this information with Pega can be sensitive as it contains raw predictor data. \n",
    "\n",
    "To this end, we provide a simple and transparent script to fully anonimize this dataset.\n",
    "\n",
    "The DataAnonymization script is now part of pdstools, and you can import it directly as such."
   ]
  },
  {
   "cell_type": "code",
   "execution_count": 1,
   "metadata": {
    "execution": {
     "iopub.execute_input": "2024-05-10T08:37:48.704514Z",
     "iopub.status.busy": "2024-05-10T08:37:48.704139Z",
     "iopub.status.idle": "2024-05-10T08:37:48.770289Z",
     "shell.execute_reply": "2024-05-10T08:37:48.769830Z"
    },
    "nbsphinx": "hidden"
   },
   "outputs": [],
   "source": [
    "# These lines are only for rendering in the docs, and are hidden through Jupyter tags\n",
    "# Do not run if you're running the notebook seperately\n",
    "\n",
    "import os  \n",
    "import sys\n",
    "import plotly.io as pio\n",
    "pio.renderers.default = \"notebook_connected\"\n",
    "\n",
    "sys.path.append(\"../../../\")\n",
    "sys.path.append('../../python')"
   ]
  },
  {
   "cell_type": "code",
   "execution_count": 2,
   "metadata": {
    "execution": {
     "iopub.execute_input": "2024-05-10T08:37:48.772282Z",
     "iopub.status.busy": "2024-05-10T08:37:48.771965Z",
     "iopub.status.idle": "2024-05-10T08:37:49.703894Z",
     "shell.execute_reply": "2024-05-10T08:37:49.703447Z"
    }
   },
   "outputs": [],
   "source": [
    "from pdstools import ADMDatamart\n",
    "from pdstools import Config, DataAnonymization\n",
    "import polars as pl"
   ]
  },
  {
   "attachments": {},
   "cell_type": "markdown",
   "metadata": {},
   "source": [
    "## Input data\n",
    "\n",
    "To demonstrate this process, we're going to anonymise this toy example dataframe:"
   ]
  },
  {
   "cell_type": "code",
   "execution_count": 3,
   "metadata": {
    "execution": {
     "iopub.execute_input": "2024-05-10T08:37:49.706372Z",
     "iopub.status.busy": "2024-05-10T08:37:49.705958Z",
     "iopub.status.idle": "2024-05-10T08:37:49.713414Z",
     "shell.execute_reply": "2024-05-10T08:37:49.712960Z"
    }
   },
   "outputs": [
    {
     "data": {
      "text/html": [
       "<div><style>\n",
       ".dataframe > thead > tr,\n",
       ".dataframe > tbody > tr {\n",
       "  text-align: right;\n",
       "  white-space: pre-wrap;\n",
       "}\n",
       "</style>\n",
       "<small>shape: (7, 6)</small><table border=\"1\" class=\"dataframe\"><thead><tr><th>Context_Name</th><th>Customer_MaritalStatus</th><th>Customer_CLV</th><th>Customer_City</th><th>IH_Web_Inbound_Accepted_pxLastGroupID</th><th>Decision_Outcome</th></tr><tr><td>str</td><td>str</td><td>i64</td><td>str</td><td>str</td><td>str</td></tr></thead><tbody><tr><td>&quot;FirstMortgage30yr&quot;</td><td>&quot;Married&quot;</td><td>1460</td><td>&quot;Port Raoul&quot;</td><td>&quot;Account&quot;</td><td>&quot;Rejected&quot;</td></tr><tr><td>&quot;FirstMortgage30yr&quot;</td><td>&quot;Unknown&quot;</td><td>669</td><td>&quot;Laurianneshire&quot;</td><td>&quot;AutoLoans&quot;</td><td>&quot;Accepted&quot;</td></tr><tr><td>&quot;MoneyMarketSavingsAccount&quot;</td><td>&quot;No Resp+&quot;</td><td>1174</td><td>&quot;Jacobshaven&quot;</td><td>&quot;Account&quot;</td><td>&quot;Rejected&quot;</td></tr><tr><td>&quot;BasicChecking&quot;</td><td>&quot;Unknown&quot;</td><td>1476</td><td>&quot;Lindton&quot;</td><td>&quot;Account&quot;</td><td>&quot;Rejected&quot;</td></tr><tr><td>&quot;BasicChecking&quot;</td><td>&quot;Married&quot;</td><td>1211</td><td>&quot;South Jimmieshire&quot;</td><td>&quot;DepositAccounts&quot;</td><td>&quot;Accepted&quot;</td></tr><tr><td>&quot;UPlusFinPersonal&quot;</td><td>&quot;No Resp+&quot;</td><td>533</td><td>&quot;Bergeville&quot;</td><td>null</td><td>&quot;Rejected&quot;</td></tr><tr><td>&quot;BasicChecking&quot;</td><td>&quot;No Resp+&quot;</td><td>555</td><td>&quot;Willyville&quot;</td><td>&quot;DepositAccounts&quot;</td><td>&quot;Rejected&quot;</td></tr></tbody></table></div>"
      ],
      "text/plain": [
       "shape: (7, 6)\n",
       "┌────────────────┬────────────────┬──────────────┬────────────────┬────────────────┬───────────────┐\n",
       "│ Context_Name   ┆ Customer_Marit ┆ Customer_CLV ┆ Customer_City  ┆ IH_Web_Inbound ┆ Decision_Outc │\n",
       "│ ---            ┆ alStatus       ┆ ---          ┆ ---            ┆ _Accepted_pxLa ┆ ome           │\n",
       "│ str            ┆ ---            ┆ i64          ┆ str            ┆ st…            ┆ ---           │\n",
       "│                ┆ str            ┆              ┆                ┆ ---            ┆ str           │\n",
       "│                ┆                ┆              ┆                ┆ str            ┆               │\n",
       "╞════════════════╪════════════════╪══════════════╪════════════════╪════════════════╪═══════════════╡\n",
       "│ FirstMortgage3 ┆ Married        ┆ 1460         ┆ Port Raoul     ┆ Account        ┆ Rejected      │\n",
       "│ 0yr            ┆                ┆              ┆                ┆                ┆               │\n",
       "│ FirstMortgage3 ┆ Unknown        ┆ 669          ┆ Laurianneshire ┆ AutoLoans      ┆ Accepted      │\n",
       "│ 0yr            ┆                ┆              ┆                ┆                ┆               │\n",
       "│ MoneyMarketSav ┆ No Resp+       ┆ 1174         ┆ Jacobshaven    ┆ Account        ┆ Rejected      │\n",
       "│ ingsAccount    ┆                ┆              ┆                ┆                ┆               │\n",
       "│ BasicChecking  ┆ Unknown        ┆ 1476         ┆ Lindton        ┆ Account        ┆ Rejected      │\n",
       "│ BasicChecking  ┆ Married        ┆ 1211         ┆ South          ┆ DepositAccount ┆ Accepted      │\n",
       "│                ┆                ┆              ┆ Jimmieshire    ┆ s              ┆               │\n",
       "│ UPlusFinPerson ┆ No Resp+       ┆ 533          ┆ Bergeville     ┆ null           ┆ Rejected      │\n",
       "│ al             ┆                ┆              ┆                ┆                ┆               │\n",
       "│ BasicChecking  ┆ No Resp+       ┆ 555          ┆ Willyville     ┆ DepositAccount ┆ Rejected      │\n",
       "│                ┆                ┆              ┆                ┆ s              ┆               │\n",
       "└────────────────┴────────────────┴──────────────┴────────────────┴────────────────┴───────────────┘"
      ]
     },
     "execution_count": 3,
     "metadata": {},
     "output_type": "execute_result"
    }
   ],
   "source": [
    "pl.read_ndjson('../../../../data/SampleHDS.json')"
   ]
  },
  {
   "attachments": {},
   "cell_type": "markdown",
   "metadata": {},
   "source": [
    "As you can see, this dataset consists of regular predictors, IH predictors, context keys and the outcome column. Additionally, some columns are numeric, others are strings. Let's first initialize the DataAnonymization class."
   ]
  },
  {
   "cell_type": "code",
   "execution_count": 4,
   "metadata": {
    "execution": {
     "iopub.execute_input": "2024-05-10T08:37:49.715458Z",
     "iopub.status.busy": "2024-05-10T08:37:49.715157Z",
     "iopub.status.idle": "2024-05-10T08:37:49.723496Z",
     "shell.execute_reply": "2024-05-10T08:37:49.723114Z"
    }
   },
   "outputs": [],
   "source": [
    "anon = DataAnonymization(hds_folder='../../../../data/')"
   ]
  },
  {
   "attachments": {},
   "cell_type": "markdown",
   "metadata": {},
   "source": [
    "By default, the class applies a set of anonymisation techniques:\n",
    "- Column names are remapped to a non-descriptive name\n",
    "- Categorical values are hashed with a random seed\n",
    "- Numerical values are normalized between 0 and 1\n",
    "- Outcomes are mapped to a binary outcome.\n",
    "\n",
    "To apply these techniques, simply call `.process()`:"
   ]
  },
  {
   "cell_type": "code",
   "execution_count": 5,
   "metadata": {
    "execution": {
     "iopub.execute_input": "2024-05-10T08:37:49.725397Z",
     "iopub.status.busy": "2024-05-10T08:37:49.725075Z",
     "iopub.status.idle": "2024-05-10T08:37:49.730431Z",
     "shell.execute_reply": "2024-05-10T08:37:49.729876Z"
    }
   },
   "outputs": [
    {
     "data": {
      "text/html": [
       "<div><style>\n",
       ".dataframe > thead > tr,\n",
       ".dataframe > tbody > tr {\n",
       "  text-align: right;\n",
       "  white-space: pre-wrap;\n",
       "}\n",
       "</style>\n",
       "<small>shape: (7, 7)</small><table border=\"1\" class=\"dataframe\"><thead><tr><th>PREDICTOR_0</th><th>PREDICTOR_1</th><th>PREDICTOR_2</th><th>filename</th><th>Context_Name</th><th>IH_PREDICTOR_0</th><th>Decision_Outcome</th></tr><tr><td>str</td><td>f64</td><td>str</td><td>str</td><td>str</td><td>str</td><td>bool</td></tr></thead><tbody><tr><td>&quot;5565018800276297245&quot;</td><td>1.3185e19</td><td>&quot;5856826697151246967&quot;</td><td>&quot;../../../../data/SampleHDS.jso…</td><td>&quot;3165828713594416045&quot;</td><td>&quot;5763778890622320731&quot;</td><td>false</td></tr><tr><td>&quot;4220923862891400722&quot;</td><td>1.8017e19</td><td>&quot;3465216081957903020&quot;</td><td>&quot;../../../../data/SampleHDS.jso…</td><td>&quot;3165828713594416045&quot;</td><td>&quot;17854784191108743952&quot;</td><td>true</td></tr><tr><td>&quot;12205350029517737996&quot;</td><td>3.4794e18</td><td>&quot;11023970938746469468&quot;</td><td>&quot;../../../../data/SampleHDS.jso…</td><td>&quot;17360784779795211625&quot;</td><td>&quot;5763778890622320731&quot;</td><td>false</td></tr><tr><td>&quot;14060860551100596309&quot;</td><td>1.9906e18</td><td>&quot;3465216081957903020&quot;</td><td>&quot;../../../../data/SampleHDS.jso…</td><td>&quot;2502890027456889916&quot;</td><td>&quot;5763778890622320731&quot;</td><td>false</td></tr><tr><td>&quot;6824095567266657391&quot;</td><td>8.1381e18</td><td>&quot;5856826697151246967&quot;</td><td>&quot;../../../../data/SampleHDS.jso…</td><td>&quot;2502890027456889916&quot;</td><td>&quot;17587893398981663078&quot;</td><td>true</td></tr><tr><td>&quot;2355359715695589929&quot;</td><td>1.4398e19</td><td>&quot;11023970938746469468&quot;</td><td>&quot;../../../../data/SampleHDS.jso…</td><td>&quot;17949994353248198069&quot;</td><td>null</td><td>false</td></tr><tr><td>&quot;9743415053111744659&quot;</td><td>1.5062e19</td><td>&quot;11023970938746469468&quot;</td><td>&quot;../../../../data/SampleHDS.jso…</td><td>&quot;2502890027456889916&quot;</td><td>&quot;17587893398981663078&quot;</td><td>false</td></tr></tbody></table></div>"
      ],
      "text/plain": [
       "shape: (7, 7)\n",
       "┌──────────────┬─────────────┬─────────────┬─────────────┬─────────────┬─────────────┬─────────────┐\n",
       "│ PREDICTOR_0  ┆ PREDICTOR_1 ┆ PREDICTOR_2 ┆ filename    ┆ Context_Nam ┆ IH_PREDICTO ┆ Decision_Ou │\n",
       "│ ---          ┆ ---         ┆ ---         ┆ ---         ┆ e           ┆ R_0         ┆ tcome       │\n",
       "│ str          ┆ f64         ┆ str         ┆ str         ┆ ---         ┆ ---         ┆ ---         │\n",
       "│              ┆             ┆             ┆             ┆ str         ┆ str         ┆ bool        │\n",
       "╞══════════════╪═════════════╪═════════════╪═════════════╪═════════════╪═════════════╪═════════════╡\n",
       "│ 556501880027 ┆ 1.3185e19   ┆ 58568266971 ┆ ../../../.. ┆ 31658287135 ┆ 57637788906 ┆ false       │\n",
       "│ 6297245      ┆             ┆ 51246967    ┆ /data/Sampl ┆ 94416045    ┆ 22320731    ┆             │\n",
       "│              ┆             ┆             ┆ eHDS.jso…   ┆             ┆             ┆             │\n",
       "│ 422092386289 ┆ 1.8017e19   ┆ 34652160819 ┆ ../../../.. ┆ 31658287135 ┆ 17854784191 ┆ true        │\n",
       "│ 1400722      ┆             ┆ 57903020    ┆ /data/Sampl ┆ 94416045    ┆ 108743952   ┆             │\n",
       "│              ┆             ┆             ┆ eHDS.jso…   ┆             ┆             ┆             │\n",
       "│ 122053500295 ┆ 3.4794e18   ┆ 11023970938 ┆ ../../../.. ┆ 17360784779 ┆ 57637788906 ┆ false       │\n",
       "│ 17737996     ┆             ┆ 746469468   ┆ /data/Sampl ┆ 795211625   ┆ 22320731    ┆             │\n",
       "│              ┆             ┆             ┆ eHDS.jso…   ┆             ┆             ┆             │\n",
       "│ 140608605511 ┆ 1.9906e18   ┆ 34652160819 ┆ ../../../.. ┆ 25028900274 ┆ 57637788906 ┆ false       │\n",
       "│ 00596309     ┆             ┆ 57903020    ┆ /data/Sampl ┆ 56889916    ┆ 22320731    ┆             │\n",
       "│              ┆             ┆             ┆ eHDS.jso…   ┆             ┆             ┆             │\n",
       "│ 682409556726 ┆ 8.1381e18   ┆ 58568266971 ┆ ../../../.. ┆ 25028900274 ┆ 17587893398 ┆ true        │\n",
       "│ 6657391      ┆             ┆ 51246967    ┆ /data/Sampl ┆ 56889916    ┆ 981663078   ┆             │\n",
       "│              ┆             ┆             ┆ eHDS.jso…   ┆             ┆             ┆             │\n",
       "│ 235535971569 ┆ 1.4398e19   ┆ 11023970938 ┆ ../../../.. ┆ 17949994353 ┆ null        ┆ false       │\n",
       "│ 5589929      ┆             ┆ 746469468   ┆ /data/Sampl ┆ 248198069   ┆             ┆             │\n",
       "│              ┆             ┆             ┆ eHDS.jso…   ┆             ┆             ┆             │\n",
       "│ 974341505311 ┆ 1.5062e19   ┆ 11023970938 ┆ ../../../.. ┆ 25028900274 ┆ 17587893398 ┆ false       │\n",
       "│ 1744659      ┆             ┆ 746469468   ┆ /data/Sampl ┆ 56889916    ┆ 981663078   ┆             │\n",
       "│              ┆             ┆             ┆ eHDS.jso…   ┆             ┆             ┆             │\n",
       "└──────────────┴─────────────┴─────────────┴─────────────┴─────────────┴─────────────┴─────────────┘"
      ]
     },
     "execution_count": 5,
     "metadata": {},
     "output_type": "execute_result"
    }
   ],
   "source": [
    "anon.process()"
   ]
  },
  {
   "attachments": {},
   "cell_type": "markdown",
   "metadata": {},
   "source": [
    "To trace back the columns to their original names, the class also contains a mapping, which does not have to be provided."
   ]
  },
  {
   "cell_type": "code",
   "execution_count": 6,
   "metadata": {
    "execution": {
     "iopub.execute_input": "2024-05-10T08:37:49.732434Z",
     "iopub.status.busy": "2024-05-10T08:37:49.732124Z",
     "iopub.status.idle": "2024-05-10T08:37:49.735639Z",
     "shell.execute_reply": "2024-05-10T08:37:49.735197Z"
    }
   },
   "outputs": [
    {
     "data": {
      "text/plain": [
       "{'Customer_City': 'PREDICTOR_0',\n",
       " 'Customer_CLV': 'PREDICTOR_1',\n",
       " 'Customer_MaritalStatus': 'PREDICTOR_2',\n",
       " 'filename': 'filename',\n",
       " 'Context_Name': 'Context_Name',\n",
       " 'IH_Web_Inbound_Accepted_pxLastGroupID': 'IH_PREDICTOR_0',\n",
       " 'Decision_Outcome': 'Decision_Outcome'}"
      ]
     },
     "execution_count": 6,
     "metadata": {},
     "output_type": "execute_result"
    }
   ],
   "source": [
    "anon.column_mapping"
   ]
  },
  {
   "attachments": {},
   "cell_type": "markdown",
   "metadata": {},
   "source": [
    "## Configs\n",
    "\n",
    "Each capability can optionally be turned off - see below for the full list of config options, and refer to the API reference for the full description."
   ]
  },
  {
   "cell_type": "code",
   "execution_count": 7,
   "metadata": {
    "execution": {
     "iopub.execute_input": "2024-05-10T08:37:49.737383Z",
     "iopub.status.busy": "2024-05-10T08:37:49.737124Z",
     "iopub.status.idle": "2024-05-10T08:37:49.740980Z",
     "shell.execute_reply": "2024-05-10T08:37:49.740513Z"
    }
   },
   "outputs": [
    {
     "data": {
      "text/plain": [
       "{'config_file': None,\n",
       " 'hds_folder': '.',\n",
       " 'use_datamart': False,\n",
       " 'datamart_folder': 'datamart',\n",
       " 'output_format': 'ndjson',\n",
       " 'output_folder': 'output',\n",
       " 'mapping_file': 'mapping.map',\n",
       " 'mask_predictor_names': True,\n",
       " 'mask_context_key_names': False,\n",
       " 'mask_ih_names': True,\n",
       " 'mask_outcome_name': False,\n",
       " 'mask_predictor_values': True,\n",
       " 'mask_context_key_values': True,\n",
       " 'mask_ih_values': True,\n",
       " 'mask_outcome_values': True,\n",
       " 'context_key_label': 'Context_*',\n",
       " 'ih_label': 'IH_*',\n",
       " 'outcome_column': 'Decision_Outcome',\n",
       " 'positive_outcomes': ['Accepted', 'Clicked'],\n",
       " 'negative_outcomes': ['Rejected', 'Impression'],\n",
       " 'special_predictors': ['Decision_DecisionTime',\n",
       "  'Decision_OutcomeTime',\n",
       "  'Decision_Rank'],\n",
       " 'sample_percentage_schema_inferencing': 0.01}"
      ]
     },
     "execution_count": 7,
     "metadata": {},
     "output_type": "execute_result"
    }
   ],
   "source": [
    "dict(zip(Config.__init__.__code__.co_varnames[1:], Config.__init__.__defaults__))"
   ]
  },
  {
   "attachments": {},
   "cell_type": "markdown",
   "metadata": {},
   "source": [
    "It's easy to change these parameters by just passing the keyword arguments. In the following example, we\n",
    "- Keep the IH predictor names\n",
    "- Keep the outcome values\n",
    "- Keep the context key values\n",
    "- Keep the context key predictor names"
   ]
  },
  {
   "cell_type": "code",
   "execution_count": 8,
   "metadata": {
    "execution": {
     "iopub.execute_input": "2024-05-10T08:37:49.742864Z",
     "iopub.status.busy": "2024-05-10T08:37:49.742568Z",
     "iopub.status.idle": "2024-05-10T08:37:49.749578Z",
     "shell.execute_reply": "2024-05-10T08:37:49.749190Z"
    }
   },
   "outputs": [
    {
     "data": {
      "text/html": [
       "<div><style>\n",
       ".dataframe > thead > tr,\n",
       ".dataframe > tbody > tr {\n",
       "  text-align: right;\n",
       "  white-space: pre-wrap;\n",
       "}\n",
       "</style>\n",
       "<small>shape: (7, 7)</small><table border=\"1\" class=\"dataframe\"><thead><tr><th>PREDICTOR_0</th><th>PREDICTOR_1</th><th>PREDICTOR_2</th><th>filename</th><th>Context_Name</th><th>IH_Web_Inbound_Accepted_pxLastGroupID</th><th>Decision_Outcome</th></tr><tr><td>str</td><td>f64</td><td>str</td><td>str</td><td>str</td><td>str</td><td>str</td></tr></thead><tbody><tr><td>&quot;4004549653168640002&quot;</td><td>1.5818e19</td><td>&quot;15029343331266295276&quot;</td><td>&quot;../../../../data/SampleHDS.jso…</td><td>&quot;FirstMortgage30yr&quot;</td><td>&quot;12775381765945713764&quot;</td><td>&quot;Rejected&quot;</td></tr><tr><td>&quot;1833447162809356376&quot;</td><td>1.6596e19</td><td>&quot;6353536280384581992&quot;</td><td>&quot;../../../../data/SampleHDS.jso…</td><td>&quot;FirstMortgage30yr&quot;</td><td>&quot;9453409868886306982&quot;</td><td>&quot;Accepted&quot;</td></tr><tr><td>&quot;6044845130636484325&quot;</td><td>6.6227e18</td><td>&quot;4984329304133979504&quot;</td><td>&quot;../../../../data/SampleHDS.jso…</td><td>&quot;MoneyMarketSavingsAccount&quot;</td><td>&quot;12775381765945713764&quot;</td><td>&quot;Rejected&quot;</td></tr><tr><td>&quot;2318318381508552261&quot;</td><td>1.3091e18</td><td>&quot;6353536280384581992&quot;</td><td>&quot;../../../../data/SampleHDS.jso…</td><td>&quot;BasicChecking&quot;</td><td>&quot;12775381765945713764&quot;</td><td>&quot;Rejected&quot;</td></tr><tr><td>&quot;10414374308868003429&quot;</td><td>5.6559e18</td><td>&quot;15029343331266295276&quot;</td><td>&quot;../../../../data/SampleHDS.jso…</td><td>&quot;BasicChecking&quot;</td><td>&quot;4862555200493705739&quot;</td><td>&quot;Accepted&quot;</td></tr><tr><td>&quot;1765112207319902096&quot;</td><td>1.5368e19</td><td>&quot;4984329304133979504&quot;</td><td>&quot;../../../../data/SampleHDS.jso…</td><td>&quot;UPlusFinPersonal&quot;</td><td>null</td><td>&quot;Rejected&quot;</td></tr><tr><td>&quot;3029520815025042844&quot;</td><td>2.0143e18</td><td>&quot;4984329304133979504&quot;</td><td>&quot;../../../../data/SampleHDS.jso…</td><td>&quot;BasicChecking&quot;</td><td>&quot;4862555200493705739&quot;</td><td>&quot;Rejected&quot;</td></tr></tbody></table></div>"
      ],
      "text/plain": [
       "shape: (7, 7)\n",
       "┌──────────────┬─────────────┬─────────────┬─────────────┬─────────────┬─────────────┬─────────────┐\n",
       "│ PREDICTOR_0  ┆ PREDICTOR_1 ┆ PREDICTOR_2 ┆ filename    ┆ Context_Nam ┆ IH_Web_Inbo ┆ Decision_Ou │\n",
       "│ ---          ┆ ---         ┆ ---         ┆ ---         ┆ e           ┆ und_Accepte ┆ tcome       │\n",
       "│ str          ┆ f64         ┆ str         ┆ str         ┆ ---         ┆ d_pxLast…   ┆ ---         │\n",
       "│              ┆             ┆             ┆             ┆ str         ┆ ---         ┆ str         │\n",
       "│              ┆             ┆             ┆             ┆             ┆ str         ┆             │\n",
       "╞══════════════╪═════════════╪═════════════╪═════════════╪═════════════╪═════════════╪═════════════╡\n",
       "│ 400454965316 ┆ 1.5818e19   ┆ 15029343331 ┆ ../../../.. ┆ FirstMortga ┆ 12775381765 ┆ Rejected    │\n",
       "│ 8640002      ┆             ┆ 266295276   ┆ /data/Sampl ┆ ge30yr      ┆ 945713764   ┆             │\n",
       "│              ┆             ┆             ┆ eHDS.jso…   ┆             ┆             ┆             │\n",
       "│ 183344716280 ┆ 1.6596e19   ┆ 63535362803 ┆ ../../../.. ┆ FirstMortga ┆ 94534098688 ┆ Accepted    │\n",
       "│ 9356376      ┆             ┆ 84581992    ┆ /data/Sampl ┆ ge30yr      ┆ 86306982    ┆             │\n",
       "│              ┆             ┆             ┆ eHDS.jso…   ┆             ┆             ┆             │\n",
       "│ 604484513063 ┆ 6.6227e18   ┆ 49843293041 ┆ ../../../.. ┆ MoneyMarket ┆ 12775381765 ┆ Rejected    │\n",
       "│ 6484325      ┆             ┆ 33979504    ┆ /data/Sampl ┆ SavingsAcco ┆ 945713764   ┆             │\n",
       "│              ┆             ┆             ┆ eHDS.jso…   ┆ unt         ┆             ┆             │\n",
       "│ 231831838150 ┆ 1.3091e18   ┆ 63535362803 ┆ ../../../.. ┆ BasicChecki ┆ 12775381765 ┆ Rejected    │\n",
       "│ 8552261      ┆             ┆ 84581992    ┆ /data/Sampl ┆ ng          ┆ 945713764   ┆             │\n",
       "│              ┆             ┆             ┆ eHDS.jso…   ┆             ┆             ┆             │\n",
       "│ 104143743088 ┆ 5.6559e18   ┆ 15029343331 ┆ ../../../.. ┆ BasicChecki ┆ 48625552004 ┆ Accepted    │\n",
       "│ 68003429     ┆             ┆ 266295276   ┆ /data/Sampl ┆ ng          ┆ 93705739    ┆             │\n",
       "│              ┆             ┆             ┆ eHDS.jso…   ┆             ┆             ┆             │\n",
       "│ 176511220731 ┆ 1.5368e19   ┆ 49843293041 ┆ ../../../.. ┆ UPlusFinPer ┆ null        ┆ Rejected    │\n",
       "│ 9902096      ┆             ┆ 33979504    ┆ /data/Sampl ┆ sonal       ┆             ┆             │\n",
       "│              ┆             ┆             ┆ eHDS.jso…   ┆             ┆             ┆             │\n",
       "│ 302952081502 ┆ 2.0143e18   ┆ 49843293041 ┆ ../../../.. ┆ BasicChecki ┆ 48625552004 ┆ Rejected    │\n",
       "│ 5042844      ┆             ┆ 33979504    ┆ /data/Sampl ┆ ng          ┆ 93705739    ┆             │\n",
       "│              ┆             ┆             ┆ eHDS.jso…   ┆             ┆             ┆             │\n",
       "└──────────────┴─────────────┴─────────────┴─────────────┴─────────────┴─────────────┴─────────────┘"
      ]
     },
     "execution_count": 8,
     "metadata": {},
     "output_type": "execute_result"
    }
   ],
   "source": [
    "anon = DataAnonymization(\n",
    "    hds_folder=\"../../../../data/\",\n",
    "    mask_ih_names=False,\n",
    "    mask_outcome_values=False,\n",
    "    mask_context_key_values=False,\n",
    "    mask_context_key_names=False,\n",
    ")\n",
    "anon.process()\n"
   ]
  },
  {
   "attachments": {},
   "cell_type": "markdown",
   "metadata": {},
   "source": [
    "The configs can also be written and read as such:"
   ]
  },
  {
   "cell_type": "code",
   "execution_count": 9,
   "metadata": {
    "execution": {
     "iopub.execute_input": "2024-05-10T08:37:49.751361Z",
     "iopub.status.busy": "2024-05-10T08:37:49.751068Z",
     "iopub.status.idle": "2024-05-10T08:37:49.753550Z",
     "shell.execute_reply": "2024-05-10T08:37:49.753167Z"
    }
   },
   "outputs": [],
   "source": [
    "anon.config.save_to_config_file('config.json')"
   ]
  },
  {
   "cell_type": "code",
   "execution_count": 10,
   "metadata": {
    "execution": {
     "iopub.execute_input": "2024-05-10T08:37:49.755486Z",
     "iopub.status.busy": "2024-05-10T08:37:49.755170Z",
     "iopub.status.idle": "2024-05-10T08:37:49.762205Z",
     "shell.execute_reply": "2024-05-10T08:37:49.761734Z"
    }
   },
   "outputs": [
    {
     "data": {
      "text/html": [
       "<div><style>\n",
       ".dataframe > thead > tr,\n",
       ".dataframe > tbody > tr {\n",
       "  text-align: right;\n",
       "  white-space: pre-wrap;\n",
       "}\n",
       "</style>\n",
       "<small>shape: (7, 7)</small><table border=\"1\" class=\"dataframe\"><thead><tr><th>PREDICTOR_0</th><th>PREDICTOR_1</th><th>PREDICTOR_2</th><th>filename</th><th>Context_Name</th><th>IH_Web_Inbound_Accepted_pxLastGroupID</th><th>Decision_Outcome</th></tr><tr><td>str</td><td>f64</td><td>str</td><td>str</td><td>str</td><td>str</td><td>str</td></tr></thead><tbody><tr><td>&quot;7645377549233683863&quot;</td><td>3.8498e18</td><td>&quot;1777096350238255819&quot;</td><td>&quot;../../../../data/SampleHDS.jso…</td><td>&quot;FirstMortgage30yr&quot;</td><td>&quot;2785132465348534201&quot;</td><td>&quot;Rejected&quot;</td></tr><tr><td>&quot;7474026283469500281&quot;</td><td>1.4536e19</td><td>&quot;3798541720252534146&quot;</td><td>&quot;../../../../data/SampleHDS.jso…</td><td>&quot;FirstMortgage30yr&quot;</td><td>&quot;9197922674177966128&quot;</td><td>&quot;Accepted&quot;</td></tr><tr><td>&quot;13227929241415219705&quot;</td><td>1.0046e19</td><td>&quot;9934115004748427206&quot;</td><td>&quot;../../../../data/SampleHDS.jso…</td><td>&quot;MoneyMarketSavingsAccount&quot;</td><td>&quot;2785132465348534201&quot;</td><td>&quot;Rejected&quot;</td></tr><tr><td>&quot;18037667313826183204&quot;</td><td>1.2297e19</td><td>&quot;3798541720252534146&quot;</td><td>&quot;../../../../data/SampleHDS.jso…</td><td>&quot;BasicChecking&quot;</td><td>&quot;2785132465348534201&quot;</td><td>&quot;Rejected&quot;</td></tr><tr><td>&quot;12692780900903441771&quot;</td><td>8.9171e18</td><td>&quot;1777096350238255819&quot;</td><td>&quot;../../../../data/SampleHDS.jso…</td><td>&quot;BasicChecking&quot;</td><td>&quot;3805229203175271739&quot;</td><td>&quot;Accepted&quot;</td></tr><tr><td>&quot;4389908551137424160&quot;</td><td>1.7892e19</td><td>&quot;9934115004748427206&quot;</td><td>&quot;../../../../data/SampleHDS.jso…</td><td>&quot;UPlusFinPersonal&quot;</td><td>null</td><td>&quot;Rejected&quot;</td></tr><tr><td>&quot;4023864974873284358&quot;</td><td>2.4227e18</td><td>&quot;9934115004748427206&quot;</td><td>&quot;../../../../data/SampleHDS.jso…</td><td>&quot;BasicChecking&quot;</td><td>&quot;3805229203175271739&quot;</td><td>&quot;Rejected&quot;</td></tr></tbody></table></div>"
      ],
      "text/plain": [
       "shape: (7, 7)\n",
       "┌──────────────┬─────────────┬─────────────┬─────────────┬─────────────┬─────────────┬─────────────┐\n",
       "│ PREDICTOR_0  ┆ PREDICTOR_1 ┆ PREDICTOR_2 ┆ filename    ┆ Context_Nam ┆ IH_Web_Inbo ┆ Decision_Ou │\n",
       "│ ---          ┆ ---         ┆ ---         ┆ ---         ┆ e           ┆ und_Accepte ┆ tcome       │\n",
       "│ str          ┆ f64         ┆ str         ┆ str         ┆ ---         ┆ d_pxLast…   ┆ ---         │\n",
       "│              ┆             ┆             ┆             ┆ str         ┆ ---         ┆ str         │\n",
       "│              ┆             ┆             ┆             ┆             ┆ str         ┆             │\n",
       "╞══════════════╪═════════════╪═════════════╪═════════════╪═════════════╪═════════════╪═════════════╡\n",
       "│ 764537754923 ┆ 3.8498e18   ┆ 17770963502 ┆ ../../../.. ┆ FirstMortga ┆ 27851324653 ┆ Rejected    │\n",
       "│ 3683863      ┆             ┆ 38255819    ┆ /data/Sampl ┆ ge30yr      ┆ 48534201    ┆             │\n",
       "│              ┆             ┆             ┆ eHDS.jso…   ┆             ┆             ┆             │\n",
       "│ 747402628346 ┆ 1.4536e19   ┆ 37985417202 ┆ ../../../.. ┆ FirstMortga ┆ 91979226741 ┆ Accepted    │\n",
       "│ 9500281      ┆             ┆ 52534146    ┆ /data/Sampl ┆ ge30yr      ┆ 77966128    ┆             │\n",
       "│              ┆             ┆             ┆ eHDS.jso…   ┆             ┆             ┆             │\n",
       "│ 132279292414 ┆ 1.0046e19   ┆ 99341150047 ┆ ../../../.. ┆ MoneyMarket ┆ 27851324653 ┆ Rejected    │\n",
       "│ 15219705     ┆             ┆ 48427206    ┆ /data/Sampl ┆ SavingsAcco ┆ 48534201    ┆             │\n",
       "│              ┆             ┆             ┆ eHDS.jso…   ┆ unt         ┆             ┆             │\n",
       "│ 180376673138 ┆ 1.2297e19   ┆ 37985417202 ┆ ../../../.. ┆ BasicChecki ┆ 27851324653 ┆ Rejected    │\n",
       "│ 26183204     ┆             ┆ 52534146    ┆ /data/Sampl ┆ ng          ┆ 48534201    ┆             │\n",
       "│              ┆             ┆             ┆ eHDS.jso…   ┆             ┆             ┆             │\n",
       "│ 126927809009 ┆ 8.9171e18   ┆ 17770963502 ┆ ../../../.. ┆ BasicChecki ┆ 38052292031 ┆ Accepted    │\n",
       "│ 03441771     ┆             ┆ 38255819    ┆ /data/Sampl ┆ ng          ┆ 75271739    ┆             │\n",
       "│              ┆             ┆             ┆ eHDS.jso…   ┆             ┆             ┆             │\n",
       "│ 438990855113 ┆ 1.7892e19   ┆ 99341150047 ┆ ../../../.. ┆ UPlusFinPer ┆ null        ┆ Rejected    │\n",
       "│ 7424160      ┆             ┆ 48427206    ┆ /data/Sampl ┆ sonal       ┆             ┆             │\n",
       "│              ┆             ┆             ┆ eHDS.jso…   ┆             ┆             ┆             │\n",
       "│ 402386497487 ┆ 2.4227e18   ┆ 99341150047 ┆ ../../../.. ┆ BasicChecki ┆ 38052292031 ┆ Rejected    │\n",
       "│ 3284358      ┆             ┆ 48427206    ┆ /data/Sampl ┆ ng          ┆ 75271739    ┆             │\n",
       "│              ┆             ┆             ┆ eHDS.jso…   ┆             ┆             ┆             │\n",
       "└──────────────┴─────────────┴─────────────┴─────────────┴─────────────┴─────────────┴─────────────┘"
      ]
     },
     "execution_count": 10,
     "metadata": {},
     "output_type": "execute_result"
    }
   ],
   "source": [
    "anon = DataAnonymization(config=Config(config_file='config.json'))\n",
    "anon.process()"
   ]
  },
  {
   "attachments": {},
   "cell_type": "markdown",
   "metadata": {},
   "source": [
    "## Exporting\n",
    "Two functions export:\n",
    "- `create_mapping_file()` writes the mapping file of the predictor names\n",
    "- `write_to_output()` writes the processed dataframe to disk\n",
    "\n",
    "Write to output accepts the following extensions: `[\"ndjson\", \"parquet\", \"arrow\", \"csv\"]`"
   ]
  },
  {
   "cell_type": "code",
   "execution_count": 11,
   "metadata": {
    "execution": {
     "iopub.execute_input": "2024-05-10T08:37:49.764066Z",
     "iopub.status.busy": "2024-05-10T08:37:49.763806Z",
     "iopub.status.idle": "2024-05-10T08:37:49.766933Z",
     "shell.execute_reply": "2024-05-10T08:37:49.766548Z"
    }
   },
   "outputs": [
    {
     "name": "stdout",
     "output_type": "stream",
     "text": [
      "Customer_City=PREDICTOR_0\n",
      "Customer_CLV=PREDICTOR_1\n",
      "Customer_MaritalStatus=PREDICTOR_2\n",
      "filename=filename\n",
      "Context_Name=Context_Name\n",
      "IH_Web_Inbound_Accepted_pxLastGroupID=IH_Web_Inbound_Accepted_pxLastGroupID\n",
      "Decision_Outcome=Decision_Outcome\n",
      "\n"
     ]
    }
   ],
   "source": [
    "anon.create_mapping_file()\n",
    "with open('mapping.map') as f:\n",
    "    print(f.read())"
   ]
  },
  {
   "cell_type": "code",
   "execution_count": 12,
   "metadata": {
    "execution": {
     "iopub.execute_input": "2024-05-10T08:37:49.768615Z",
     "iopub.status.busy": "2024-05-10T08:37:49.768355Z",
     "iopub.status.idle": "2024-05-10T08:37:49.771639Z",
     "shell.execute_reply": "2024-05-10T08:37:49.771164Z"
    }
   },
   "outputs": [],
   "source": [
    "anon.write_to_output(ext='arrow')"
   ]
  },
  {
   "cell_type": "code",
   "execution_count": 13,
   "metadata": {
    "execution": {
     "iopub.execute_input": "2024-05-10T08:37:49.773459Z",
     "iopub.status.busy": "2024-05-10T08:37:49.773206Z",
     "iopub.status.idle": "2024-05-10T08:37:49.777654Z",
     "shell.execute_reply": "2024-05-10T08:37:49.777259Z"
    }
   },
   "outputs": [
    {
     "data": {
      "text/html": [
       "<div><style>\n",
       ".dataframe > thead > tr,\n",
       ".dataframe > tbody > tr {\n",
       "  text-align: right;\n",
       "  white-space: pre-wrap;\n",
       "}\n",
       "</style>\n",
       "<small>shape: (7, 6)</small><table border=\"1\" class=\"dataframe\"><thead><tr><th>PREDICTOR_0</th><th>PREDICTOR_1</th><th>PREDICTOR_2</th><th>Context_Name</th><th>IH_Web_Inbound_Accepted_pxLastGroupID</th><th>Decision_Outcome</th></tr><tr><td>str</td><td>f64</td><td>str</td><td>str</td><td>str</td><td>str</td></tr></thead><tbody><tr><td>&quot;1796799448019375302&quot;</td><td>4.1316e18</td><td>&quot;16182508356800230504&quot;</td><td>&quot;FirstMortgage30yr&quot;</td><td>&quot;7119676613440967820&quot;</td><td>&quot;Rejected&quot;</td></tr><tr><td>&quot;520310407117878958&quot;</td><td>5.1759e18</td><td>&quot;4003943536054469557&quot;</td><td>&quot;FirstMortgage30yr&quot;</td><td>&quot;15485573365642416268&quot;</td><td>&quot;Accepted&quot;</td></tr><tr><td>&quot;13939711651552270405&quot;</td><td>8.0650e18</td><td>&quot;15908238847607988474&quot;</td><td>&quot;MoneyMarketSavingsAccount&quot;</td><td>&quot;7119676613440967820&quot;</td><td>&quot;Rejected&quot;</td></tr><tr><td>&quot;4918292960533066692&quot;</td><td>2.1056e18</td><td>&quot;4003943536054469557&quot;</td><td>&quot;BasicChecking&quot;</td><td>&quot;7119676613440967820&quot;</td><td>&quot;Rejected&quot;</td></tr><tr><td>&quot;15698310252231812593&quot;</td><td>7.1883e18</td><td>&quot;16182508356800230504&quot;</td><td>&quot;BasicChecking&quot;</td><td>&quot;11035385418683566402&quot;</td><td>&quot;Accepted&quot;</td></tr><tr><td>&quot;16925197139920173102&quot;</td><td>4.1871e18</td><td>&quot;15908238847607988474&quot;</td><td>&quot;UPlusFinPersonal&quot;</td><td>null</td><td>&quot;Rejected&quot;</td></tr><tr><td>&quot;8858378051492226294&quot;</td><td>7.1199e18</td><td>&quot;15908238847607988474&quot;</td><td>&quot;BasicChecking&quot;</td><td>&quot;11035385418683566402&quot;</td><td>&quot;Rejected&quot;</td></tr></tbody></table></div>"
      ],
      "text/plain": [
       "shape: (7, 6)\n",
       "┌────────────────┬─────────────┬────────────────┬────────────────┬────────────────┬────────────────┐\n",
       "│ PREDICTOR_0    ┆ PREDICTOR_1 ┆ PREDICTOR_2    ┆ Context_Name   ┆ IH_Web_Inbound ┆ Decision_Outco │\n",
       "│ ---            ┆ ---         ┆ ---            ┆ ---            ┆ _Accepted_pxLa ┆ me             │\n",
       "│ str            ┆ f64         ┆ str            ┆ str            ┆ st…            ┆ ---            │\n",
       "│                ┆             ┆                ┆                ┆ ---            ┆ str            │\n",
       "│                ┆             ┆                ┆                ┆ str            ┆                │\n",
       "╞════════════════╪═════════════╪════════════════╪════════════════╪════════════════╪════════════════╡\n",
       "│ 17967994480193 ┆ 4.1316e18   ┆ 16182508356800 ┆ FirstMortgage3 ┆ 71196766134409 ┆ Rejected       │\n",
       "│ 75302          ┆             ┆ 230504         ┆ 0yr            ┆ 67820          ┆                │\n",
       "│ 52031040711787 ┆ 5.1759e18   ┆ 40039435360544 ┆ FirstMortgage3 ┆ 15485573365642 ┆ Accepted       │\n",
       "│ 8958           ┆             ┆ 69557          ┆ 0yr            ┆ 416268         ┆                │\n",
       "│ 13939711651552 ┆ 8.0650e18   ┆ 15908238847607 ┆ MoneyMarketSav ┆ 71196766134409 ┆ Rejected       │\n",
       "│ 270405         ┆             ┆ 988474         ┆ ingsAccount    ┆ 67820          ┆                │\n",
       "│ 49182929605330 ┆ 2.1056e18   ┆ 40039435360544 ┆ BasicChecking  ┆ 71196766134409 ┆ Rejected       │\n",
       "│ 66692          ┆             ┆ 69557          ┆                ┆ 67820          ┆                │\n",
       "│ 15698310252231 ┆ 7.1883e18   ┆ 16182508356800 ┆ BasicChecking  ┆ 11035385418683 ┆ Accepted       │\n",
       "│ 812593         ┆             ┆ 230504         ┆                ┆ 566402         ┆                │\n",
       "│ 16925197139920 ┆ 4.1871e18   ┆ 15908238847607 ┆ UPlusFinPerson ┆ null           ┆ Rejected       │\n",
       "│ 173102         ┆             ┆ 988474         ┆ al             ┆                ┆                │\n",
       "│ 88583780514922 ┆ 7.1199e18   ┆ 15908238847607 ┆ BasicChecking  ┆ 11035385418683 ┆ Rejected       │\n",
       "│ 26294          ┆             ┆ 988474         ┆                ┆ 566402         ┆                │\n",
       "└────────────────┴─────────────┴────────────────┴────────────────┴────────────────┴────────────────┘"
      ]
     },
     "execution_count": 13,
     "metadata": {},
     "output_type": "execute_result"
    }
   ],
   "source": [
    "pl.read_ipc('output/hds.arrow')"
   ]
  },
  {
   "attachments": {},
   "cell_type": "markdown",
   "metadata": {
    "nbsphinx": "hidden"
   },
   "source": [
    "## Advanced: Hash fuctions\n",
    "\n",
    "By default, we use [the same hashing algorithm Polars](https://pola-rs.github.io/polars/py-polars/html/reference/expressions/api/polars.Expr.hash.html#polars.Expr.hash) uses: [xxhash](https://github.com/Cyan4973/xxHash), as implemented [here](https://github.com/pola-rs/polars/blob/3f287f370b3c388ed2f3f218b2c096382548136f/polars/polars-core/src/vector_hasher.rs#L266). xxhash is fast to compute, and you can check its performance in collision, dispersion and randomness [here](https://github.com/Cyan4973/xxHash/tree/dev/tests). \n",
    "\n",
    "xxhash accepts four distinct seeds, but by default we set the seeds to `0`. It is possible to set the `seed` argument of the `process()` function to `'random'`, which will set all four seeds to a random integer between `0` and `1000000000`. Alternatively, it is possible to supply the four seeds manually with arguments `seed`, `seed_1`, `seed_2` and `seed_3`. \n",
    "\n",
    "If the xxhash with (random) seed(s) is not deemed sufficiently secure, it is possible to use your own hashing algorithm.\n",
    "\n",
    "Note that since we're now running python code and not native Polars code anymore, this will be _significantly_ slower. Nonetheless, it is possible.\n",
    "\n",
    "Just as an example - this is how one would use sha3_256:"
   ]
  },
  {
   "cell_type": "code",
   "execution_count": 14,
   "metadata": {
    "execution": {
     "iopub.execute_input": "2024-05-10T08:37:49.779685Z",
     "iopub.status.busy": "2024-05-10T08:37:49.779387Z",
     "iopub.status.idle": "2024-05-10T08:37:50.080679Z",
     "shell.execute_reply": "2024-05-10T08:37:50.080219Z"
    },
    "nbsphinx": "hidden"
   },
   "outputs": [
    {
     "name": "stderr",
     "output_type": "stream",
     "text": [
      "sys:1: MapWithoutReturnDtypeWarning:\n",
      "\n",
      "Calling `map_elements` without specifying `return_dtype` can lead to unpredictable results. Specify `return_dtype` to silence this warning.\n",
      "\n",
      "sys:1: MapWithoutReturnDtypeWarning:\n",
      "\n",
      "Calling `map_elements` without specifying `return_dtype` can lead to unpredictable results. Specify `return_dtype` to silence this warning.\n",
      "\n",
      "sys:1: MapWithoutReturnDtypeWarning:\n",
      "\n",
      "Calling `map_elements` without specifying `return_dtype` can lead to unpredictable results. Specify `return_dtype` to silence this warning.\n",
      "\n",
      "sys:1: MapWithoutReturnDtypeWarning:\n",
      "\n",
      "Calling `map_elements` without specifying `return_dtype` can lead to unpredictable results. Specify `return_dtype` to silence this warning.\n",
      "\n"
     ]
    },
    {
     "ename": "ComputeError",
     "evalue": "AttributeError: 'int' object has no attribute 'encode'",
     "output_type": "error",
     "traceback": [
      "\u001b[0;31m---------------------------------------------------------------------------\u001b[0m",
      "\u001b[0;31mComputeError\u001b[0m                              Traceback (most recent call last)",
      "Cell \u001b[0;32mIn[14], line 3\u001b[0m\n\u001b[1;32m      1\u001b[0m \u001b[38;5;28;01mfrom\u001b[39;00m \u001b[38;5;21;01mhashlib\u001b[39;00m \u001b[38;5;28;01mimport\u001b[39;00m sha3_256\n\u001b[0;32m----> 3\u001b[0m \u001b[43manon\u001b[49m\u001b[38;5;241;43m.\u001b[39;49m\u001b[43mprocess\u001b[49m\u001b[43m(\u001b[49m\u001b[43malgorithm\u001b[49m\u001b[38;5;241;43m=\u001b[39;49m\u001b[38;5;28;43;01mlambda\u001b[39;49;00m\u001b[43m \u001b[49m\u001b[43mx\u001b[49m\u001b[43m:\u001b[49m\u001b[43m \u001b[49m\u001b[43msha3_256\u001b[49m\u001b[43m(\u001b[49m\u001b[43mx\u001b[49m\u001b[38;5;241;43m.\u001b[39;49m\u001b[43mencode\u001b[49m\u001b[43m(\u001b[49m\u001b[43m)\u001b[49m\u001b[43m)\u001b[49m\u001b[38;5;241;43m.\u001b[39;49m\u001b[43mhexdigest\u001b[49m\u001b[43m(\u001b[49m\u001b[43m)\u001b[49m\u001b[43m)\u001b[49m\n",
      "File \u001b[0;32m~/work/pega-datascientist-tools/pega-datascientist-tools/python/docs/source/articles/../../../pdstools/utils/hds_utils.py:512\u001b[0m, in \u001b[0;36mDataAnonymization.process\u001b[0;34m(self, strategy, **kwargs)\u001b[0m\n\u001b[1;32m    510\u001b[0m df \u001b[38;5;241m=\u001b[39m df\u001b[38;5;241m.\u001b[39mselect(\u001b[38;5;28mself\u001b[39m\u001b[38;5;241m.\u001b[39mcolumn_mapping\u001b[38;5;241m.\u001b[39mkeys())\u001b[38;5;241m.\u001b[39mrename(\u001b[38;5;28mself\u001b[39m\u001b[38;5;241m.\u001b[39mcolumn_mapping)\n\u001b[1;32m    511\u001b[0m \u001b[38;5;28;01mif\u001b[39;00m strategy \u001b[38;5;241m==\u001b[39m \u001b[38;5;124m\"\u001b[39m\u001b[38;5;124meager\u001b[39m\u001b[38;5;124m\"\u001b[39m:\n\u001b[0;32m--> 512\u001b[0m     \u001b[38;5;28;01mreturn\u001b[39;00m \u001b[43mdf\u001b[49m\u001b[38;5;241;43m.\u001b[39;49m\u001b[43mcollect\u001b[49m\u001b[43m(\u001b[49m\u001b[43m)\u001b[49m\n\u001b[1;32m    513\u001b[0m \u001b[38;5;28;01mreturn\u001b[39;00m df\n",
      "File \u001b[0;32m/opt/hostedtoolcache/Python/3.11.9/x64/lib/python3.11/site-packages/polars/lazyframe/frame.py:1816\u001b[0m, in \u001b[0;36mLazyFrame.collect\u001b[0;34m(self, type_coercion, predicate_pushdown, projection_pushdown, simplify_expression, slice_pushdown, comm_subplan_elim, comm_subexpr_elim, no_optimization, streaming, background, _eager, **_kwargs)\u001b[0m\n\u001b[1;32m   1813\u001b[0m \u001b[38;5;66;03m# Only for testing purposes atm.\u001b[39;00m\n\u001b[1;32m   1814\u001b[0m callback \u001b[38;5;241m=\u001b[39m _kwargs\u001b[38;5;241m.\u001b[39mget(\u001b[38;5;124m\"\u001b[39m\u001b[38;5;124mpost_opt_callback\u001b[39m\u001b[38;5;124m\"\u001b[39m)\n\u001b[0;32m-> 1816\u001b[0m \u001b[38;5;28;01mreturn\u001b[39;00m wrap_df(\u001b[43mldf\u001b[49m\u001b[38;5;241;43m.\u001b[39;49m\u001b[43mcollect\u001b[49m\u001b[43m(\u001b[49m\u001b[43mcallback\u001b[49m\u001b[43m)\u001b[49m)\n",
      "\u001b[0;31mComputeError\u001b[0m: AttributeError: 'int' object has no attribute 'encode'"
     ]
    }
   ],
   "source": [
    "from hashlib import sha3_256\n",
    "\n",
    "anon.process(algorithm=lambda x: sha3_256(x.encode()).hexdigest())"
   ]
  }
 ],
 "metadata": {
  "kernelspec": {
   "display_name": "Python 3",
   "language": "python",
   "name": "python3"
  },
  "language_info": {
   "codemirror_mode": {
    "name": "ipython",
    "version": 3
   },
   "file_extension": ".py",
   "mimetype": "text/x-python",
   "name": "python",
   "nbconvert_exporter": "python",
   "pygments_lexer": "ipython3",
   "version": "3.11.9"
  },
  "vscode": {
   "interpreter": {
    "hash": "aee8b7b246df8f9039afb4144a1f6fd8d2ca17a180786b69acc140d282b71a49"
   }
  }
 },
 "nbformat": 4,
 "nbformat_minor": 2
}
