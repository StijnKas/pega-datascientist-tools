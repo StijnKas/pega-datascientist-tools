{
 "cells": [
  {
   "attachments": {},
   "cell_type": "markdown",
   "metadata": {},
   "source": [
    "# Example data anonymization\n",
    "\n",
    "In Pega CDH 8.5 and up, it's now possible to record the historical data as seen by the Adaptive Models. See [this academy challenge](https://academy.pega.com/challenge/exporting-historical-data/v4) for reference. This historical data can be further used to experiment with offline models, but also to fine-tune the OOTB Gradient Boosting model. However, sharing this information with Pega can be sensitive as it contains raw predictor data. \n",
    "\n",
    "To this end, we provide a simple and transparent script to fully anonimize this dataset.\n",
    "\n",
    "The DataAnonymization script is now part of pdstools, and you can import it directly as such."
   ]
  },
  {
   "cell_type": "code",
   "execution_count": 1,
   "metadata": {
    "execution": {
     "iopub.execute_input": "2023-06-22T14:04:25.465096Z",
     "iopub.status.busy": "2023-06-22T14:04:25.464810Z",
     "iopub.status.idle": "2023-06-22T14:04:25.470534Z",
     "shell.execute_reply": "2023-06-22T14:04:25.470017Z"
    },
    "nbsphinx": "hidden"
   },
   "outputs": [],
   "source": [
    "# These lines are only for rendering in the docs, and are hidden through Jupyter tags\n",
    "# Do not run if you're running the notebook seperately\n",
    "\n",
    "import sys\n",
    "sys.path.append('../../../')"
   ]
  },
  {
   "cell_type": "code",
   "execution_count": 2,
   "metadata": {
    "execution": {
     "iopub.execute_input": "2023-06-22T14:04:25.472912Z",
     "iopub.status.busy": "2023-06-22T14:04:25.472391Z",
     "iopub.status.idle": "2023-06-22T14:04:26.512815Z",
     "shell.execute_reply": "2023-06-22T14:04:26.512252Z"
    }
   },
   "outputs": [],
   "source": [
    "from pdstools import ADMDatamart\n",
    "from pdstools import Config, DataAnonymization\n",
    "import polars as pl"
   ]
  },
  {
   "attachments": {},
   "cell_type": "markdown",
   "metadata": {},
   "source": [
    "## Input data\n",
    "\n",
    "To demonstrate this process, we're going to anonymise this toy example dataframe:"
   ]
  },
  {
   "cell_type": "code",
   "execution_count": 3,
   "metadata": {
    "execution": {
     "iopub.execute_input": "2023-06-22T14:04:26.516141Z",
     "iopub.status.busy": "2023-06-22T14:04:26.515740Z",
     "iopub.status.idle": "2023-06-22T14:04:26.526491Z",
     "shell.execute_reply": "2023-06-22T14:04:26.525980Z"
    }
   },
   "outputs": [
    {
     "data": {
      "text/html": [
       "<div><style>\n",
       ".dataframe > thead > tr > th,\n",
       ".dataframe > tbody > tr > td {\n",
       "  text-align: right;\n",
       "}\n",
       "</style>\n",
       "<small>shape: (7, 6)</small><table border=\"1\" class=\"dataframe\"><thead><tr><th>Context_Name</th><th>Customer_MaritalStatus</th><th>Customer_CLV</th><th>Customer_City</th><th>IH_Web_Inbound_Accepted_pxLastGroupID</th><th>Decision_Outcome</th></tr><tr><td>str</td><td>str</td><td>i64</td><td>str</td><td>str</td><td>str</td></tr></thead><tbody><tr><td>&quot;FirstMortgage3…</td><td>&quot;Married&quot;</td><td>1460</td><td>&quot;Port Raoul&quot;</td><td>&quot;Account&quot;</td><td>&quot;Rejected&quot;</td></tr><tr><td>&quot;FirstMortgage3…</td><td>&quot;Unknown&quot;</td><td>669</td><td>&quot;Laurianneshire…</td><td>&quot;AutoLoans&quot;</td><td>&quot;Accepted&quot;</td></tr><tr><td>&quot;MoneyMarketSav…</td><td>&quot;No Resp+&quot;</td><td>1174</td><td>&quot;Jacobshaven&quot;</td><td>&quot;Account&quot;</td><td>&quot;Rejected&quot;</td></tr><tr><td>&quot;BasicChecking&quot;</td><td>&quot;Unknown&quot;</td><td>1476</td><td>&quot;Lindton&quot;</td><td>&quot;Account&quot;</td><td>&quot;Rejected&quot;</td></tr><tr><td>&quot;BasicChecking&quot;</td><td>&quot;Married&quot;</td><td>1211</td><td>&quot;South Jimmiesh…</td><td>&quot;DepositAccount…</td><td>&quot;Accepted&quot;</td></tr><tr><td>&quot;UPlusFinPerson…</td><td>&quot;No Resp+&quot;</td><td>533</td><td>&quot;Bergeville&quot;</td><td>null</td><td>&quot;Rejected&quot;</td></tr><tr><td>&quot;BasicChecking&quot;</td><td>&quot;No Resp+&quot;</td><td>555</td><td>&quot;Willyville&quot;</td><td>&quot;DepositAccount…</td><td>&quot;Rejected&quot;</td></tr></tbody></table></div>"
      ],
      "text/plain": [
       "shape: (7, 6)\n",
       "┌────────────────┬────────────────┬──────────────┬────────────────┬────────────────┬───────────────┐\n",
       "│ Context_Name   ┆ Customer_Marit ┆ Customer_CLV ┆ Customer_City  ┆ IH_Web_Inbound ┆ Decision_Outc │\n",
       "│ ---            ┆ alStatus       ┆ ---          ┆ ---            ┆ _Accepted_pxLa ┆ ome           │\n",
       "│ str            ┆ ---            ┆ i64          ┆ str            ┆ stGr…          ┆ ---           │\n",
       "│                ┆ str            ┆              ┆                ┆ ---            ┆ str           │\n",
       "│                ┆                ┆              ┆                ┆ str            ┆               │\n",
       "╞════════════════╪════════════════╪══════════════╪════════════════╪════════════════╪═══════════════╡\n",
       "│ FirstMortgage3 ┆ Married        ┆ 1460         ┆ Port Raoul     ┆ Account        ┆ Rejected      │\n",
       "│ 0yr            ┆                ┆              ┆                ┆                ┆               │\n",
       "│ FirstMortgage3 ┆ Unknown        ┆ 669          ┆ Laurianneshire ┆ AutoLoans      ┆ Accepted      │\n",
       "│ 0yr            ┆                ┆              ┆                ┆                ┆               │\n",
       "│ MoneyMarketSav ┆ No Resp+       ┆ 1174         ┆ Jacobshaven    ┆ Account        ┆ Rejected      │\n",
       "│ ingsAccount    ┆                ┆              ┆                ┆                ┆               │\n",
       "│ BasicChecking  ┆ Unknown        ┆ 1476         ┆ Lindton        ┆ Account        ┆ Rejected      │\n",
       "│ BasicChecking  ┆ Married        ┆ 1211         ┆ South          ┆ DepositAccount ┆ Accepted      │\n",
       "│                ┆                ┆              ┆ Jimmieshire    ┆ s              ┆               │\n",
       "│ UPlusFinPerson ┆ No Resp+       ┆ 533          ┆ Bergeville     ┆ null           ┆ Rejected      │\n",
       "│ al             ┆                ┆              ┆                ┆                ┆               │\n",
       "│ BasicChecking  ┆ No Resp+       ┆ 555          ┆ Willyville     ┆ DepositAccount ┆ Rejected      │\n",
       "│                ┆                ┆              ┆                ┆ s              ┆               │\n",
       "└────────────────┴────────────────┴──────────────┴────────────────┴────────────────┴───────────────┘"
      ]
     },
     "execution_count": 3,
     "metadata": {},
     "output_type": "execute_result"
    }
   ],
   "source": [
    "pl.read_ndjson('../../../../data/SampleHDS.json')"
   ]
  },
  {
   "attachments": {},
   "cell_type": "markdown",
   "metadata": {},
   "source": [
    "As you can see, this dataset consists of regular predictors, IH predictors, context keys and the outcome column. Additionally, some columns are numeric, others are strings. Let's first initialize the DataAnonymization class."
   ]
  },
  {
   "cell_type": "code",
   "execution_count": 4,
   "metadata": {
    "execution": {
     "iopub.execute_input": "2023-06-22T14:04:26.528920Z",
     "iopub.status.busy": "2023-06-22T14:04:26.528453Z",
     "iopub.status.idle": "2023-06-22T14:04:26.537398Z",
     "shell.execute_reply": "2023-06-22T14:04:26.536940Z"
    }
   },
   "outputs": [],
   "source": [
    "anon = DataAnonymization(hds_folder='../../../../data/')"
   ]
  },
  {
   "attachments": {},
   "cell_type": "markdown",
   "metadata": {},
   "source": [
    "By default, the class applies a set of anonymisation techniques:\n",
    "- Column names are remapped to a non-descriptive name\n",
    "- Categorical values are hashed with a random seed\n",
    "- Numerical values are normalized between 0 and 1\n",
    "- Outcomes are mapped to a binary outcome.\n",
    "\n",
    "To apply these techniques, simply call `.process()`:"
   ]
  },
  {
   "cell_type": "code",
   "execution_count": 5,
   "metadata": {
    "execution": {
     "iopub.execute_input": "2023-06-22T14:04:26.539970Z",
     "iopub.status.busy": "2023-06-22T14:04:26.539363Z",
     "iopub.status.idle": "2023-06-22T14:04:26.545329Z",
     "shell.execute_reply": "2023-06-22T14:04:26.544890Z"
    }
   },
   "outputs": [
    {
     "data": {
      "text/html": [
       "<div><style>\n",
       ".dataframe > thead > tr > th,\n",
       ".dataframe > tbody > tr > td {\n",
       "  text-align: right;\n",
       "}\n",
       "</style>\n",
       "<small>shape: (7, 7)</small><table border=\"1\" class=\"dataframe\"><thead><tr><th>filename</th><th>PREDICTOR_1</th><th>PREDICTOR_2</th><th>PREDICTOR_3</th><th>Context_Name</th><th>IH_PREDICTOR_0</th><th>Decision_Outcome</th></tr><tr><td>str</td><td>str</td><td>f64</td><td>str</td><td>str</td><td>str</td><td>bool</td></tr></thead><tbody><tr><td>&quot;../../../../da…</td><td>&quot;10718750946070…</td><td>1.2927e19</td><td>&quot;94697505469765…</td><td>&quot;74380109928052…</td><td>&quot;16923848102310…</td><td>false</td></tr><tr><td>&quot;../../../../da…</td><td>&quot;65280004865854…</td><td>1.4856e19</td><td>&quot;41809198419622…</td><td>&quot;74380109928052…</td><td>&quot;39168150070413…</td><td>true</td></tr><tr><td>&quot;../../../../da…</td><td>&quot;13207102415811…</td><td>5.6458e17</td><td>&quot;87518970726774…</td><td>&quot;12911659601947…</td><td>&quot;16923848102310…</td><td>false</td></tr><tr><td>&quot;../../../../da…</td><td>&quot;65280004865854…</td><td>4.0723e18</td><td>&quot;65188162850855…</td><td>&quot;11146528333082…</td><td>&quot;16923848102310…</td><td>false</td></tr><tr><td>&quot;../../../../da…</td><td>&quot;10718750946070…</td><td>1.4677e19</td><td>&quot;17448516922160…</td><td>&quot;11146528333082…</td><td>&quot;16719304484719…</td><td>true</td></tr><tr><td>&quot;../../../../da…</td><td>&quot;13207102415811…</td><td>1.6330e19</td><td>&quot;55014544439398…</td><td>&quot;14033878408871…</td><td>null</td><td>false</td></tr><tr><td>&quot;../../../../da…</td><td>&quot;13207102415811…</td><td>8.7675e18</td><td>&quot;85868064371213…</td><td>&quot;11146528333082…</td><td>&quot;16719304484719…</td><td>false</td></tr></tbody></table></div>"
      ],
      "text/plain": [
       "shape: (7, 7)\n",
       "┌───────────────┬──────────────┬─────────────┬──────────────┬────────────┬────────────┬────────────┐\n",
       "│ filename      ┆ PREDICTOR_1  ┆ PREDICTOR_2 ┆ PREDICTOR_3  ┆ Context_Na ┆ IH_PREDICT ┆ Decision_O │\n",
       "│ ---           ┆ ---          ┆ ---         ┆ ---          ┆ me         ┆ OR_0       ┆ utcome     │\n",
       "│ str           ┆ str          ┆ f64         ┆ str          ┆ ---        ┆ ---        ┆ ---        │\n",
       "│               ┆              ┆             ┆              ┆ str        ┆ str        ┆ bool       │\n",
       "╞═══════════════╪══════════════╪═════════════╪══════════════╪════════════╪════════════╪════════════╡\n",
       "│ ../../../../d ┆ 107187509460 ┆ 1.2927e19   ┆ 946975054697 ┆ 7438010992 ┆ 1692384810 ┆ false      │\n",
       "│ ata/SampleHDS ┆ 70624868     ┆             ┆ 656540       ┆ 805204959  ┆ 2310823603 ┆            │\n",
       "│ .json         ┆              ┆             ┆              ┆            ┆            ┆            │\n",
       "│ ../../../../d ┆ 652800048658 ┆ 1.4856e19   ┆ 418091984196 ┆ 7438010992 ┆ 3916815007 ┆ true       │\n",
       "│ ata/SampleHDS ┆ 5433247      ┆             ┆ 2295617      ┆ 805204959  ┆ 041385279  ┆            │\n",
       "│ .json         ┆              ┆             ┆              ┆            ┆            ┆            │\n",
       "│ ../../../../d ┆ 132071024158 ┆ 5.6458e17   ┆ 875189707267 ┆ 1291165960 ┆ 1692384810 ┆ false      │\n",
       "│ ata/SampleHDS ┆ 11326677     ┆             ┆ 7472396      ┆ 1947885534 ┆ 2310823603 ┆            │\n",
       "│ .json         ┆              ┆             ┆              ┆            ┆            ┆            │\n",
       "│ ../../../../d ┆ 652800048658 ┆ 4.0723e18   ┆ 651881628508 ┆ 1114652833 ┆ 1692384810 ┆ false      │\n",
       "│ ata/SampleHDS ┆ 5433247      ┆             ┆ 5509981      ┆ 3082450133 ┆ 2310823603 ┆            │\n",
       "│ .json         ┆              ┆             ┆              ┆            ┆            ┆            │\n",
       "│ ../../../../d ┆ 107187509460 ┆ 1.4677e19   ┆ 174485169221 ┆ 1114652833 ┆ 1671930448 ┆ true       │\n",
       "│ ata/SampleHDS ┆ 70624868     ┆             ┆ 60497035     ┆ 3082450133 ┆ 471933494  ┆            │\n",
       "│ .json         ┆              ┆             ┆              ┆            ┆            ┆            │\n",
       "│ ../../../../d ┆ 132071024158 ┆ 1.6330e19   ┆ 550145444393 ┆ 1403387840 ┆ null       ┆ false      │\n",
       "│ ata/SampleHDS ┆ 11326677     ┆             ┆ 9860141      ┆ 8871183287 ┆            ┆            │\n",
       "│ .json         ┆              ┆             ┆              ┆            ┆            ┆            │\n",
       "│ ../../../../d ┆ 132071024158 ┆ 8.7675e18   ┆ 858680643712 ┆ 1114652833 ┆ 1671930448 ┆ false      │\n",
       "│ ata/SampleHDS ┆ 11326677     ┆             ┆ 1376910      ┆ 3082450133 ┆ 471933494  ┆            │\n",
       "│ .json         ┆              ┆             ┆              ┆            ┆            ┆            │\n",
       "└───────────────┴──────────────┴─────────────┴──────────────┴────────────┴────────────┴────────────┘"
      ]
     },
     "execution_count": 5,
     "metadata": {},
     "output_type": "execute_result"
    }
   ],
   "source": [
    "anon.process()"
   ]
  },
  {
   "attachments": {},
   "cell_type": "markdown",
   "metadata": {},
   "source": [
    "To trace back the columns to their original names, the class also contains a mapping, which does not have to be provided."
   ]
  },
  {
   "cell_type": "code",
   "execution_count": 6,
   "metadata": {
    "execution": {
     "iopub.execute_input": "2023-06-22T14:04:26.547634Z",
     "iopub.status.busy": "2023-06-22T14:04:26.547111Z",
     "iopub.status.idle": "2023-06-22T14:04:26.550805Z",
     "shell.execute_reply": "2023-06-22T14:04:26.550385Z"
    }
   },
   "outputs": [
    {
     "data": {
      "text/plain": [
       "{'filename': 'filename',\n",
       " 'Customer_MaritalStatus': 'PREDICTOR_1',\n",
       " 'Customer_CLV': 'PREDICTOR_2',\n",
       " 'Customer_City': 'PREDICTOR_3',\n",
       " 'Context_Name': 'Context_Name',\n",
       " 'IH_Web_Inbound_Accepted_pxLastGroupID': 'IH_PREDICTOR_0',\n",
       " 'Decision_Outcome': 'Decision_Outcome'}"
      ]
     },
     "execution_count": 6,
     "metadata": {},
     "output_type": "execute_result"
    }
   ],
   "source": [
    "anon.column_mapping"
   ]
  },
  {
   "attachments": {},
   "cell_type": "markdown",
   "metadata": {},
   "source": [
    "## Configs\n",
    "\n",
    "Each capability can optionally be turned off - see below for the full list of config options, and refer to the API reference for the full description."
   ]
  },
  {
   "cell_type": "code",
   "execution_count": 7,
   "metadata": {
    "execution": {
     "iopub.execute_input": "2023-06-22T14:04:26.553022Z",
     "iopub.status.busy": "2023-06-22T14:04:26.552514Z",
     "iopub.status.idle": "2023-06-22T14:04:26.556758Z",
     "shell.execute_reply": "2023-06-22T14:04:26.556340Z"
    }
   },
   "outputs": [
    {
     "data": {
      "text/plain": [
       "{'config_file': None,\n",
       " 'hds_folder': '.',\n",
       " 'use_datamart': False,\n",
       " 'datamart_folder': 'datamart',\n",
       " 'output_format': 'ndjson',\n",
       " 'output_folder': 'output',\n",
       " 'mapping_file': 'mapping.map',\n",
       " 'mask_predictor_names': True,\n",
       " 'mask_context_key_names': False,\n",
       " 'mask_ih_names': True,\n",
       " 'mask_outcome_name': False,\n",
       " 'mask_predictor_values': True,\n",
       " 'mask_context_key_values': True,\n",
       " 'mask_ih_values': True,\n",
       " 'mask_outcome_values': True,\n",
       " 'context_key_label': 'Context_*',\n",
       " 'ih_label': 'IH_*',\n",
       " 'outcome_column': 'Decision_Outcome',\n",
       " 'positive_outcomes': ['Accepted', 'Clicked'],\n",
       " 'negative_outcomes': ['Rejected', 'Impression'],\n",
       " 'special_predictors': ['Decision_DecisionTime',\n",
       "  'Decision_OutcomeTime',\n",
       "  'Decision_Rank'],\n",
       " 'sample_percentage_schema_inferencing': 0.01}"
      ]
     },
     "execution_count": 7,
     "metadata": {},
     "output_type": "execute_result"
    }
   ],
   "source": [
    "dict(zip(Config.__init__.__code__.co_varnames[1:], Config.__init__.__defaults__))"
   ]
  },
  {
   "attachments": {},
   "cell_type": "markdown",
   "metadata": {},
   "source": [
    "It's easy to change these parameters by just passing the keyword arguments. In the following example, we\n",
    "- Keep the IH predictor names\n",
    "- Keep the outcome values\n",
    "- Keep the context key values\n",
    "- Keep the context key predictor names"
   ]
  },
  {
   "cell_type": "code",
   "execution_count": 8,
   "metadata": {
    "execution": {
     "iopub.execute_input": "2023-06-22T14:04:26.559013Z",
     "iopub.status.busy": "2023-06-22T14:04:26.558473Z",
     "iopub.status.idle": "2023-06-22T14:04:26.567753Z",
     "shell.execute_reply": "2023-06-22T14:04:26.567318Z"
    }
   },
   "outputs": [
    {
     "data": {
      "text/html": [
       "<div><style>\n",
       ".dataframe > thead > tr > th,\n",
       ".dataframe > tbody > tr > td {\n",
       "  text-align: right;\n",
       "}\n",
       "</style>\n",
       "<small>shape: (7, 7)</small><table border=\"1\" class=\"dataframe\"><thead><tr><th>filename</th><th>PREDICTOR_1</th><th>PREDICTOR_2</th><th>PREDICTOR_3</th><th>Context_Name</th><th>IH_Web_Inbound_Accepted_pxLastGroupID</th><th>Decision_Outcome</th></tr><tr><td>str</td><td>str</td><td>f64</td><td>str</td><td>str</td><td>str</td><td>str</td></tr></thead><tbody><tr><td>&quot;../../../../da…</td><td>&quot;10741749796594…</td><td>1.2927e19</td><td>&quot;66116287026678…</td><td>&quot;FirstMortgage3…</td><td>&quot;13578844711837…</td><td>&quot;Rejected&quot;</td></tr><tr><td>&quot;../../../../da…</td><td>&quot;47552813521801…</td><td>1.4856e19</td><td>&quot;13532252447934…</td><td>&quot;FirstMortgage3…</td><td>&quot;16178372471158…</td><td>&quot;Accepted&quot;</td></tr><tr><td>&quot;../../../../da…</td><td>&quot;85502469574282…</td><td>5.6458e17</td><td>&quot;80406127316873…</td><td>&quot;MoneyMarketSav…</td><td>&quot;13578844711837…</td><td>&quot;Rejected&quot;</td></tr><tr><td>&quot;../../../../da…</td><td>&quot;47552813521801…</td><td>4.0723e18</td><td>&quot;34649052124215…</td><td>&quot;BasicChecking&quot;</td><td>&quot;13578844711837…</td><td>&quot;Rejected&quot;</td></tr><tr><td>&quot;../../../../da…</td><td>&quot;10741749796594…</td><td>1.4677e19</td><td>&quot;11381590245212…</td><td>&quot;BasicChecking&quot;</td><td>&quot;27933990805361…</td><td>&quot;Accepted&quot;</td></tr><tr><td>&quot;../../../../da…</td><td>&quot;85502469574282…</td><td>1.6330e19</td><td>&quot;99423387406972…</td><td>&quot;UPlusFinPerson…</td><td>null</td><td>&quot;Rejected&quot;</td></tr><tr><td>&quot;../../../../da…</td><td>&quot;85502469574282…</td><td>8.7675e18</td><td>&quot;95967152498326…</td><td>&quot;BasicChecking&quot;</td><td>&quot;27933990805361…</td><td>&quot;Rejected&quot;</td></tr></tbody></table></div>"
      ],
      "text/plain": [
       "shape: (7, 7)\n",
       "┌───────────────┬──────────────┬─────────────┬──────────────┬────────────┬────────────┬────────────┐\n",
       "│ filename      ┆ PREDICTOR_1  ┆ PREDICTOR_2 ┆ PREDICTOR_3  ┆ Context_Na ┆ IH_Web_Inb ┆ Decision_O │\n",
       "│ ---           ┆ ---          ┆ ---         ┆ ---          ┆ me         ┆ ound_Accep ┆ utcome     │\n",
       "│ str           ┆ str          ┆ f64         ┆ str          ┆ ---        ┆ ted_pxLast ┆ ---        │\n",
       "│               ┆              ┆             ┆              ┆ str        ┆ Gr…        ┆ str        │\n",
       "│               ┆              ┆             ┆              ┆            ┆ ---        ┆            │\n",
       "│               ┆              ┆             ┆              ┆            ┆ str        ┆            │\n",
       "╞═══════════════╪══════════════╪═════════════╪══════════════╪════════════╪════════════╪════════════╡\n",
       "│ ../../../../d ┆ 107417497965 ┆ 1.2927e19   ┆ 661162870266 ┆ FirstMortg ┆ 1357884471 ┆ Rejected   │\n",
       "│ ata/SampleHDS ┆ 94729631     ┆             ┆ 7821347      ┆ age30yr    ┆ 1837342941 ┆            │\n",
       "│ .json         ┆              ┆             ┆              ┆            ┆            ┆            │\n",
       "│ ../../../../d ┆ 475528135218 ┆ 1.4856e19   ┆ 135322524479 ┆ FirstMortg ┆ 1617837247 ┆ Accepted   │\n",
       "│ ata/SampleHDS ┆ 0192654      ┆             ┆ 34137313     ┆ age30yr    ┆ 1158487535 ┆            │\n",
       "│ .json         ┆              ┆             ┆              ┆            ┆            ┆            │\n",
       "│ ../../../../d ┆ 855024695742 ┆ 5.6458e17   ┆ 804061273168 ┆ MoneyMarke ┆ 1357884471 ┆ Rejected   │\n",
       "│ ata/SampleHDS ┆ 8298735      ┆             ┆ 7390193      ┆ tSavingsAc ┆ 1837342941 ┆            │\n",
       "│ .json         ┆              ┆             ┆              ┆ count      ┆            ┆            │\n",
       "│ ../../../../d ┆ 475528135218 ┆ 4.0723e18   ┆ 346490521242 ┆ BasicCheck ┆ 1357884471 ┆ Rejected   │\n",
       "│ ata/SampleHDS ┆ 0192654      ┆             ┆ 1557900      ┆ ing        ┆ 1837342941 ┆            │\n",
       "│ .json         ┆              ┆             ┆              ┆            ┆            ┆            │\n",
       "│ ../../../../d ┆ 107417497965 ┆ 1.4677e19   ┆ 113815902452 ┆ BasicCheck ┆ 2793399080 ┆ Accepted   │\n",
       "│ ata/SampleHDS ┆ 94729631     ┆             ┆ 12774449     ┆ ing        ┆ 536192981  ┆            │\n",
       "│ .json         ┆              ┆             ┆              ┆            ┆            ┆            │\n",
       "│ ../../../../d ┆ 855024695742 ┆ 1.6330e19   ┆ 994233874069 ┆ UPlusFinPe ┆ null       ┆ Rejected   │\n",
       "│ ata/SampleHDS ┆ 8298735      ┆             ┆ 7283948      ┆ rsonal     ┆            ┆            │\n",
       "│ .json         ┆              ┆             ┆              ┆            ┆            ┆            │\n",
       "│ ../../../../d ┆ 855024695742 ┆ 8.7675e18   ┆ 959671524983 ┆ BasicCheck ┆ 2793399080 ┆ Rejected   │\n",
       "│ ata/SampleHDS ┆ 8298735      ┆             ┆ 26423        ┆ ing        ┆ 536192981  ┆            │\n",
       "│ .json         ┆              ┆             ┆              ┆            ┆            ┆            │\n",
       "└───────────────┴──────────────┴─────────────┴──────────────┴────────────┴────────────┴────────────┘"
      ]
     },
     "execution_count": 8,
     "metadata": {},
     "output_type": "execute_result"
    }
   ],
   "source": [
    "anon = DataAnonymization(\n",
    "    hds_folder='../../../../data/',\n",
    "    mask_ih_names=False,\n",
    "    mask_outcome_values=False,\n",
    "    mask_context_key_values=False,\n",
    "    mask_context_key_names=False,\n",
    ")\n",
    "anon.process()\n"
   ]
  },
  {
   "attachments": {},
   "cell_type": "markdown",
   "metadata": {},
   "source": [
    "The configs can also be written and read as such:"
   ]
  },
  {
   "cell_type": "code",
   "execution_count": 9,
   "metadata": {
    "execution": {
     "iopub.execute_input": "2023-06-22T14:04:26.570053Z",
     "iopub.status.busy": "2023-06-22T14:04:26.569533Z",
     "iopub.status.idle": "2023-06-22T14:04:26.572402Z",
     "shell.execute_reply": "2023-06-22T14:04:26.571976Z"
    }
   },
   "outputs": [],
   "source": [
    "anon.config.save_to_config_file('config.json')"
   ]
  },
  {
   "cell_type": "code",
   "execution_count": 10,
   "metadata": {
    "execution": {
     "iopub.execute_input": "2023-06-22T14:04:26.574667Z",
     "iopub.status.busy": "2023-06-22T14:04:26.574115Z",
     "iopub.status.idle": "2023-06-22T14:04:26.582793Z",
     "shell.execute_reply": "2023-06-22T14:04:26.582376Z"
    }
   },
   "outputs": [
    {
     "data": {
      "text/html": [
       "<div><style>\n",
       ".dataframe > thead > tr > th,\n",
       ".dataframe > tbody > tr > td {\n",
       "  text-align: right;\n",
       "}\n",
       "</style>\n",
       "<small>shape: (7, 7)</small><table border=\"1\" class=\"dataframe\"><thead><tr><th>filename</th><th>PREDICTOR_1</th><th>PREDICTOR_2</th><th>PREDICTOR_3</th><th>Context_Name</th><th>IH_Web_Inbound_Accepted_pxLastGroupID</th><th>Decision_Outcome</th></tr><tr><td>str</td><td>str</td><td>f64</td><td>str</td><td>str</td><td>str</td><td>str</td></tr></thead><tbody><tr><td>&quot;../../../../da…</td><td>&quot;18244738254682…</td><td>1.2927e19</td><td>&quot;25395181669605…</td><td>&quot;FirstMortgage3…</td><td>&quot;38835902423253…</td><td>&quot;Rejected&quot;</td></tr><tr><td>&quot;../../../../da…</td><td>&quot;41388947394791…</td><td>1.4856e19</td><td>&quot;12089617175462…</td><td>&quot;FirstMortgage3…</td><td>&quot;83121342572697…</td><td>&quot;Accepted&quot;</td></tr><tr><td>&quot;../../../../da…</td><td>&quot;15723207924199…</td><td>5.6458e17</td><td>&quot;67793278007536…</td><td>&quot;MoneyMarketSav…</td><td>&quot;38835902423253…</td><td>&quot;Rejected&quot;</td></tr><tr><td>&quot;../../../../da…</td><td>&quot;41388947394791…</td><td>4.0723e18</td><td>&quot;47646165980697…</td><td>&quot;BasicChecking&quot;</td><td>&quot;38835902423253…</td><td>&quot;Rejected&quot;</td></tr><tr><td>&quot;../../../../da…</td><td>&quot;18244738254682…</td><td>1.4677e19</td><td>&quot;10670960375960…</td><td>&quot;BasicChecking&quot;</td><td>&quot;65645554489736…</td><td>&quot;Accepted&quot;</td></tr><tr><td>&quot;../../../../da…</td><td>&quot;15723207924199…</td><td>1.6330e19</td><td>&quot;17682316635075…</td><td>&quot;UPlusFinPerson…</td><td>null</td><td>&quot;Rejected&quot;</td></tr><tr><td>&quot;../../../../da…</td><td>&quot;15723207924199…</td><td>8.7675e18</td><td>&quot;63613092107560…</td><td>&quot;BasicChecking&quot;</td><td>&quot;65645554489736…</td><td>&quot;Rejected&quot;</td></tr></tbody></table></div>"
      ],
      "text/plain": [
       "shape: (7, 7)\n",
       "┌───────────────┬──────────────┬─────────────┬──────────────┬────────────┬────────────┬────────────┐\n",
       "│ filename      ┆ PREDICTOR_1  ┆ PREDICTOR_2 ┆ PREDICTOR_3  ┆ Context_Na ┆ IH_Web_Inb ┆ Decision_O │\n",
       "│ ---           ┆ ---          ┆ ---         ┆ ---          ┆ me         ┆ ound_Accep ┆ utcome     │\n",
       "│ str           ┆ str          ┆ f64         ┆ str          ┆ ---        ┆ ted_pxLast ┆ ---        │\n",
       "│               ┆              ┆             ┆              ┆ str        ┆ Gr…        ┆ str        │\n",
       "│               ┆              ┆             ┆              ┆            ┆ ---        ┆            │\n",
       "│               ┆              ┆             ┆              ┆            ┆ str        ┆            │\n",
       "╞═══════════════╪══════════════╪═════════════╪══════════════╪════════════╪════════════╪════════════╡\n",
       "│ ../../../../d ┆ 182447382546 ┆ 1.2927e19   ┆ 253951816696 ┆ FirstMortg ┆ 3883590242 ┆ Rejected   │\n",
       "│ ata/SampleHDS ┆ 82932890     ┆             ┆ 0506231      ┆ age30yr    ┆ 325358764  ┆            │\n",
       "│ .json         ┆              ┆             ┆              ┆            ┆            ┆            │\n",
       "│ ../../../../d ┆ 413889473947 ┆ 1.4856e19   ┆ 120896171754 ┆ FirstMortg ┆ 8312134257 ┆ Accepted   │\n",
       "│ ata/SampleHDS ┆ 9197149      ┆             ┆ 62463863     ┆ age30yr    ┆ 269768400  ┆            │\n",
       "│ .json         ┆              ┆             ┆              ┆            ┆            ┆            │\n",
       "│ ../../../../d ┆ 157232079241 ┆ 5.6458e17   ┆ 677932780075 ┆ MoneyMarke ┆ 3883590242 ┆ Rejected   │\n",
       "│ ata/SampleHDS ┆ 99419043     ┆             ┆ 3604012      ┆ tSavingsAc ┆ 325358764  ┆            │\n",
       "│ .json         ┆              ┆             ┆              ┆ count      ┆            ┆            │\n",
       "│ ../../../../d ┆ 413889473947 ┆ 4.0723e18   ┆ 476461659806 ┆ BasicCheck ┆ 3883590242 ┆ Rejected   │\n",
       "│ ata/SampleHDS ┆ 9197149      ┆             ┆ 9701047      ┆ ing        ┆ 325358764  ┆            │\n",
       "│ .json         ┆              ┆             ┆              ┆            ┆            ┆            │\n",
       "│ ../../../../d ┆ 182447382546 ┆ 1.4677e19   ┆ 106709603759 ┆ BasicCheck ┆ 6564555448 ┆ Accepted   │\n",
       "│ ata/SampleHDS ┆ 82932890     ┆             ┆ 60066065     ┆ ing        ┆ 973692153  ┆            │\n",
       "│ .json         ┆              ┆             ┆              ┆            ┆            ┆            │\n",
       "│ ../../../../d ┆ 157232079241 ┆ 1.6330e19   ┆ 176823166350 ┆ UPlusFinPe ┆ null       ┆ Rejected   │\n",
       "│ ata/SampleHDS ┆ 99419043     ┆             ┆ 75585577     ┆ rsonal     ┆            ┆            │\n",
       "│ .json         ┆              ┆             ┆              ┆            ┆            ┆            │\n",
       "│ ../../../../d ┆ 157232079241 ┆ 8.7675e18   ┆ 636130921075 ┆ BasicCheck ┆ 6564555448 ┆ Rejected   │\n",
       "│ ata/SampleHDS ┆ 99419043     ┆             ┆ 6046702      ┆ ing        ┆ 973692153  ┆            │\n",
       "│ .json         ┆              ┆             ┆              ┆            ┆            ┆            │\n",
       "└───────────────┴──────────────┴─────────────┴──────────────┴────────────┴────────────┴────────────┘"
      ]
     },
     "execution_count": 10,
     "metadata": {},
     "output_type": "execute_result"
    }
   ],
   "source": [
    "anon = DataAnonymization(config=Config(config_file='config.json'))\n",
    "anon.process()"
   ]
  },
  {
   "attachments": {},
   "cell_type": "markdown",
   "metadata": {},
   "source": [
    "## Exporting\n",
    "Two functions export:\n",
    "- `create_mapping_file()` writes the mapping file of the predictor names\n",
    "- `write_to_output()` writes the processed dataframe to disk\n",
    "\n",
    "Write to output accepts the following extensions: `[\"ndjson\", \"parquet\", \"arrow\", \"csv\"]`"
   ]
  },
  {
   "cell_type": "code",
   "execution_count": 11,
   "metadata": {
    "execution": {
     "iopub.execute_input": "2023-06-22T14:04:26.585058Z",
     "iopub.status.busy": "2023-06-22T14:04:26.584549Z",
     "iopub.status.idle": "2023-06-22T14:04:26.588066Z",
     "shell.execute_reply": "2023-06-22T14:04:26.587648Z"
    }
   },
   "outputs": [
    {
     "name": "stdout",
     "output_type": "stream",
     "text": [
      "filename=filename\n",
      "Customer_MaritalStatus=PREDICTOR_1\n",
      "Customer_CLV=PREDICTOR_2\n",
      "Customer_City=PREDICTOR_3\n",
      "Context_Name=Context_Name\n",
      "IH_Web_Inbound_Accepted_pxLastGroupID=IH_Web_Inbound_Accepted_pxLastGroupID\n",
      "Decision_Outcome=Decision_Outcome\n",
      "\n"
     ]
    }
   ],
   "source": [
    "anon.create_mapping_file()\n",
    "with open('mapping.map') as f:\n",
    "    print(f.read())"
   ]
  },
  {
   "cell_type": "code",
   "execution_count": 12,
   "metadata": {
    "execution": {
     "iopub.execute_input": "2023-06-22T14:04:26.590267Z",
     "iopub.status.busy": "2023-06-22T14:04:26.589738Z",
     "iopub.status.idle": "2023-06-22T14:04:26.593285Z",
     "shell.execute_reply": "2023-06-22T14:04:26.592859Z"
    }
   },
   "outputs": [],
   "source": [
    "anon.write_to_output(ext='arrow')"
   ]
  },
  {
   "cell_type": "code",
   "execution_count": 13,
   "metadata": {
    "execution": {
     "iopub.execute_input": "2023-06-22T14:04:26.595496Z",
     "iopub.status.busy": "2023-06-22T14:04:26.594985Z",
     "iopub.status.idle": "2023-06-22T14:04:26.599515Z",
     "shell.execute_reply": "2023-06-22T14:04:26.599097Z"
    }
   },
   "outputs": [
    {
     "data": {
      "text/html": [
       "<div><style>\n",
       ".dataframe > thead > tr > th,\n",
       ".dataframe > tbody > tr > td {\n",
       "  text-align: right;\n",
       "}\n",
       "</style>\n",
       "<small>shape: (7, 6)</small><table border=\"1\" class=\"dataframe\"><thead><tr><th>PREDICTOR_1</th><th>PREDICTOR_2</th><th>PREDICTOR_3</th><th>Context_Name</th><th>IH_Web_Inbound_Accepted_pxLastGroupID</th><th>Decision_Outcome</th></tr><tr><td>str</td><td>f64</td><td>str</td><td>str</td><td>str</td><td>str</td></tr></thead><tbody><tr><td>&quot;11678886745887…</td><td>1.2927e19</td><td>&quot;12764835835456…</td><td>&quot;FirstMortgage3…</td><td>&quot;43417772782832…</td><td>&quot;Rejected&quot;</td></tr><tr><td>&quot;49784409043961…</td><td>1.4856e19</td><td>&quot;26392466716667…</td><td>&quot;FirstMortgage3…</td><td>&quot;86891274243646…</td><td>&quot;Accepted&quot;</td></tr><tr><td>&quot;90016740327842…</td><td>5.6458e17</td><td>&quot;29274778688186…</td><td>&quot;MoneyMarketSav…</td><td>&quot;43417772782832…</td><td>&quot;Rejected&quot;</td></tr><tr><td>&quot;49784409043961…</td><td>4.0723e18</td><td>&quot;46041789384268…</td><td>&quot;BasicChecking&quot;</td><td>&quot;43417772782832…</td><td>&quot;Rejected&quot;</td></tr><tr><td>&quot;11678886745887…</td><td>1.4677e19</td><td>&quot;96675387296566…</td><td>&quot;BasicChecking&quot;</td><td>&quot;64155491140682…</td><td>&quot;Accepted&quot;</td></tr><tr><td>&quot;90016740327842…</td><td>1.6330e19</td><td>&quot;48734140923004…</td><td>&quot;UPlusFinPerson…</td><td>null</td><td>&quot;Rejected&quot;</td></tr><tr><td>&quot;90016740327842…</td><td>8.7675e18</td><td>&quot;16504441058506…</td><td>&quot;BasicChecking&quot;</td><td>&quot;64155491140682…</td><td>&quot;Rejected&quot;</td></tr></tbody></table></div>"
      ],
      "text/plain": [
       "shape: (7, 6)\n",
       "┌────────────────┬─────────────┬────────────────┬────────────────┬────────────────┬────────────────┐\n",
       "│ PREDICTOR_1    ┆ PREDICTOR_2 ┆ PREDICTOR_3    ┆ Context_Name   ┆ IH_Web_Inbound ┆ Decision_Outco │\n",
       "│ ---            ┆ ---         ┆ ---            ┆ ---            ┆ _Accepted_pxLa ┆ me             │\n",
       "│ str            ┆ f64         ┆ str            ┆ str            ┆ stGr…          ┆ ---            │\n",
       "│                ┆             ┆                ┆                ┆ ---            ┆ str            │\n",
       "│                ┆             ┆                ┆                ┆ str            ┆                │\n",
       "╞════════════════╪═════════════╪════════════════╪════════════════╪════════════════╪════════════════╡\n",
       "│ 11678886745887 ┆ 1.2927e19   ┆ 12764835835456 ┆ FirstMortgage3 ┆ 43417772782832 ┆ Rejected       │\n",
       "│ 113986         ┆             ┆ 097846         ┆ 0yr            ┆ 53793          ┆                │\n",
       "│ 49784409043961 ┆ 1.4856e19   ┆ 26392466716667 ┆ FirstMortgage3 ┆ 86891274243646 ┆ Accepted       │\n",
       "│ 30160          ┆             ┆ 5939           ┆ 0yr            ┆ 19149          ┆                │\n",
       "│ 90016740327842 ┆ 5.6458e17   ┆ 29274778688186 ┆ MoneyMarketSav ┆ 43417772782832 ┆ Rejected       │\n",
       "│ 17382          ┆             ┆ 7158           ┆ ingsAccount    ┆ 53793          ┆                │\n",
       "│ 49784409043961 ┆ 4.0723e18   ┆ 46041789384268 ┆ BasicChecking  ┆ 43417772782832 ┆ Rejected       │\n",
       "│ 30160          ┆             ┆ 37142          ┆                ┆ 53793          ┆                │\n",
       "│ 11678886745887 ┆ 1.4677e19   ┆ 96675387296566 ┆ BasicChecking  ┆ 64155491140682 ┆ Accepted       │\n",
       "│ 113986         ┆             ┆ 70036          ┆                ┆ 64219          ┆                │\n",
       "│ 90016740327842 ┆ 1.6330e19   ┆ 48734140923004 ┆ UPlusFinPerson ┆ null           ┆ Rejected       │\n",
       "│ 17382          ┆             ┆ 58381          ┆ al             ┆                ┆                │\n",
       "│ 90016740327842 ┆ 8.7675e18   ┆ 16504441058506 ┆ BasicChecking  ┆ 64155491140682 ┆ Rejected       │\n",
       "│ 17382          ┆             ┆ 783295         ┆                ┆ 64219          ┆                │\n",
       "└────────────────┴─────────────┴────────────────┴────────────────┴────────────────┴────────────────┘"
      ]
     },
     "execution_count": 13,
     "metadata": {},
     "output_type": "execute_result"
    }
   ],
   "source": [
    "pl.read_ipc('output/hds.arrow')"
   ]
  },
  {
   "attachments": {},
   "cell_type": "markdown",
   "metadata": {},
   "source": [
    "## Advanced: Hash fuctions\n",
    "\n",
    "By default, we use [the same hashing algorithm Polars](https://pola-rs.github.io/polars/py-polars/html/reference/expressions/api/polars.Expr.hash.html#polars.Expr.hash) uses: [xxhash](https://github.com/Cyan4973/xxHash), as implemented [here](https://github.com/pola-rs/polars/blob/3f287f370b3c388ed2f3f218b2c096382548136f/polars/polars-core/src/vector_hasher.rs#L266). xxhash is fast to compute, and you can check its performance in collision, dispersion and randomness [here](https://github.com/Cyan4973/xxHash/tree/dev/tests). \n",
    "\n",
    "xxhash accepts four distinct seeds, but by default we set the seeds to `0`. It is possible to set the `seed` argument of the `process()` function to `'random'`, which will set all four seeds to a random integer between `0` and `1000000000`. Alternatively, it is possible to supply the four seeds manually with arguments `seed`, `seed_1`, `seed_2` and `seed_3`. \n",
    "\n",
    "If the xxhash with (random) seed(s) is not deemed sufficiently secure, it is possible to use your own hashing algorithm.\n",
    "\n",
    "Note that since we're now running python code and not native Polars code anymore, this will be _significantly_ slower. Nonetheless, it is possible.\n",
    "\n",
    "Just as an example - this is how one would use sha3_256:"
   ]
  },
  {
   "cell_type": "code",
   "execution_count": 14,
   "metadata": {
    "execution": {
     "iopub.execute_input": "2023-06-22T14:04:26.601720Z",
     "iopub.status.busy": "2023-06-22T14:04:26.601210Z",
     "iopub.status.idle": "2023-06-22T14:04:26.934174Z",
     "shell.execute_reply": "2023-06-22T14:04:26.933546Z"
    }
   },
   "outputs": [
    {
     "ename": "ComputeError",
     "evalue": "AttributeError: 'int' object has no attribute 'encode'",
     "output_type": "error",
     "traceback": [
      "\u001b[0;31m---------------------------------------------------------------------------\u001b[0m",
      "\u001b[0;31mComputeError\u001b[0m                              Traceback (most recent call last)",
      "Cell \u001b[0;32mIn[14], line 3\u001b[0m\n\u001b[1;32m      1\u001b[0m \u001b[38;5;28;01mfrom\u001b[39;00m \u001b[38;5;21;01mhashlib\u001b[39;00m \u001b[38;5;28;01mimport\u001b[39;00m sha3_256\n\u001b[0;32m----> 3\u001b[0m \u001b[43manon\u001b[49m\u001b[38;5;241;43m.\u001b[39;49m\u001b[43mprocess\u001b[49m\u001b[43m(\u001b[49m\u001b[43malgorithm\u001b[49m\u001b[38;5;241;43m=\u001b[39;49m\u001b[38;5;28;43;01mlambda\u001b[39;49;00m\u001b[43m \u001b[49m\u001b[43mx\u001b[49m\u001b[43m:\u001b[49m\u001b[43m \u001b[49m\u001b[43msha3_256\u001b[49m\u001b[43m(\u001b[49m\u001b[43mx\u001b[49m\u001b[38;5;241;43m.\u001b[39;49m\u001b[43mencode\u001b[49m\u001b[43m(\u001b[49m\u001b[43m)\u001b[49m\u001b[43m)\u001b[49m\u001b[38;5;241;43m.\u001b[39;49m\u001b[43mhexdigest\u001b[49m\u001b[43m(\u001b[49m\u001b[43m)\u001b[49m\u001b[43m)\u001b[49m\n",
      "File \u001b[0;32m~/work/pega-datascientist-tools/pega-datascientist-tools/python/docs/source/articles/../../../pdstools/utils/hds_utils.py:516\u001b[0m, in \u001b[0;36mDataAnonymization.process\u001b[0;34m(self, strategy, **kwargs)\u001b[0m\n\u001b[1;32m    514\u001b[0m df \u001b[38;5;241m=\u001b[39m df\u001b[38;5;241m.\u001b[39mselect(\u001b[38;5;28mself\u001b[39m\u001b[38;5;241m.\u001b[39mcolumn_mapping\u001b[38;5;241m.\u001b[39mkeys())\u001b[38;5;241m.\u001b[39mrename(\u001b[38;5;28mself\u001b[39m\u001b[38;5;241m.\u001b[39mcolumn_mapping)\n\u001b[1;32m    515\u001b[0m \u001b[38;5;28;01mif\u001b[39;00m strategy \u001b[38;5;241m==\u001b[39m \u001b[38;5;124m\"\u001b[39m\u001b[38;5;124meager\u001b[39m\u001b[38;5;124m\"\u001b[39m:\n\u001b[0;32m--> 516\u001b[0m     \u001b[38;5;28;01mreturn\u001b[39;00m \u001b[43mdf\u001b[49m\u001b[38;5;241;43m.\u001b[39;49m\u001b[43mcollect\u001b[49m\u001b[43m(\u001b[49m\u001b[43m)\u001b[49m\n\u001b[1;32m    517\u001b[0m \u001b[38;5;28;01mreturn\u001b[39;00m df\n",
      "File \u001b[0;32m/opt/hostedtoolcache/Python/3.11.4/x64/lib/python3.11/site-packages/polars/lazyframe/frame.py:1504\u001b[0m, in \u001b[0;36mLazyFrame.collect\u001b[0;34m(self, type_coercion, predicate_pushdown, projection_pushdown, simplify_expression, no_optimization, slice_pushdown, common_subplan_elimination, streaming)\u001b[0m\n\u001b[1;32m   1493\u001b[0m     common_subplan_elimination \u001b[38;5;241m=\u001b[39m \u001b[38;5;28;01mFalse\u001b[39;00m\n\u001b[1;32m   1495\u001b[0m ldf \u001b[38;5;241m=\u001b[39m \u001b[38;5;28mself\u001b[39m\u001b[38;5;241m.\u001b[39m_ldf\u001b[38;5;241m.\u001b[39moptimization_toggle(\n\u001b[1;32m   1496\u001b[0m     type_coercion,\n\u001b[1;32m   1497\u001b[0m     predicate_pushdown,\n\u001b[0;32m   (...)\u001b[0m\n\u001b[1;32m   1502\u001b[0m     streaming,\n\u001b[1;32m   1503\u001b[0m )\n\u001b[0;32m-> 1504\u001b[0m \u001b[38;5;28;01mreturn\u001b[39;00m wrap_df(ldf\u001b[38;5;241m.\u001b[39mcollect())\n",
      "\u001b[0;31mComputeError\u001b[0m: AttributeError: 'int' object has no attribute 'encode'"
     ]
    }
   ],
   "source": [
    "from hashlib import sha3_256\n",
    "\n",
    "anon.process(algorithm=lambda x: sha3_256(x.encode()).hexdigest())"
   ]
  }
 ],
 "metadata": {
  "kernelspec": {
   "display_name": "Python 3",
   "language": "python",
   "name": "python3"
  },
  "language_info": {
   "codemirror_mode": {
    "name": "ipython",
    "version": 3
   },
   "file_extension": ".py",
   "mimetype": "text/x-python",
   "name": "python",
   "nbconvert_exporter": "python",
   "pygments_lexer": "ipython3",
   "version": "3.11.4"
  },
  "vscode": {
   "interpreter": {
    "hash": "aee8b7b246df8f9039afb4144a1f6fd8d2ca17a180786b69acc140d282b71a49"
   }
  }
 },
 "nbformat": 4,
 "nbformat_minor": 2
}
