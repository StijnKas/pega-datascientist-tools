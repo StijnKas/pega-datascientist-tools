{
 "cells": [
  {
   "attachments": {},
   "cell_type": "markdown",
   "metadata": {},
   "source": [
    "# Example data anonymization\n",
    "\n",
    "In Pega CDH 8.5 and up, it's now possible to record the historical data as seen by the Adaptive Models. See [this academy challenge](https://academy.pega.com/challenge/exporting-historical-data/v4) for reference. This historical data can be further used to experiment with offline models, but also to fine-tune the OOTB Gradient Boosting model. However, sharing this information with Pega can be sensitive as it contains raw predictor data. \n",
    "\n",
    "To this end, we provide a simple and transparent script to fully anonimize this dataset.\n",
    "\n",
    "The DataAnonymization script is now part of pdstools, and you can import it directly as such."
   ]
  },
  {
   "cell_type": "code",
   "execution_count": 1,
   "metadata": {
    "execution": {
     "iopub.execute_input": "2023-10-13T16:41:13.263142Z",
     "iopub.status.busy": "2023-10-13T16:41:13.262654Z",
     "iopub.status.idle": "2023-10-13T16:41:13.343266Z",
     "shell.execute_reply": "2023-10-13T16:41:13.342708Z"
    },
    "nbsphinx": "hidden"
   },
   "outputs": [],
   "source": [
    "# These lines are only for rendering in the docs, and are hidden through Jupyter tags\n",
    "# Do not run if you're running the notebook seperately\n",
    "\n",
    "import os  \n",
    "import sys\n",
    "import plotly.io as pio\n",
    "pio.renderers.default = \"notebook_connected\"\n",
    "\n",
    "sys.path.append(\"../../../\")\n",
    "sys.path.append('../../python')"
   ]
  },
  {
   "cell_type": "code",
   "execution_count": 2,
   "metadata": {
    "execution": {
     "iopub.execute_input": "2023-10-13T16:41:13.346159Z",
     "iopub.status.busy": "2023-10-13T16:41:13.345745Z",
     "iopub.status.idle": "2023-10-13T16:41:14.550753Z",
     "shell.execute_reply": "2023-10-13T16:41:14.550121Z"
    }
   },
   "outputs": [],
   "source": [
    "from pdstools import ADMDatamart\n",
    "from pdstools import Config, DataAnonymization\n",
    "import polars as pl"
   ]
  },
  {
   "attachments": {},
   "cell_type": "markdown",
   "metadata": {},
   "source": [
    "## Input data\n",
    "\n",
    "To demonstrate this process, we're going to anonymise this toy example dataframe:"
   ]
  },
  {
   "cell_type": "code",
   "execution_count": 3,
   "metadata": {
    "execution": {
     "iopub.execute_input": "2023-10-13T16:41:14.554677Z",
     "iopub.status.busy": "2023-10-13T16:41:14.553339Z",
     "iopub.status.idle": "2023-10-13T16:41:14.566000Z",
     "shell.execute_reply": "2023-10-13T16:41:14.565461Z"
    }
   },
   "outputs": [
    {
     "data": {
      "text/html": [
       "<div><style>\n",
       ".dataframe > thead > tr > th,\n",
       ".dataframe > tbody > tr > td {\n",
       "  text-align: right;\n",
       "  white-space: pre-wrap;\n",
       "}\n",
       "</style>\n",
       "<small>shape: (7, 6)</small><table border=\"1\" class=\"dataframe\"><thead><tr><th>Context_Name</th><th>Customer_MaritalStatus</th><th>Customer_CLV</th><th>Customer_City</th><th>IH_Web_Inbound_Accepted_pxLastGroupID</th><th>Decision_Outcome</th></tr><tr><td>str</td><td>str</td><td>i64</td><td>str</td><td>str</td><td>str</td></tr></thead><tbody><tr><td>&quot;FirstMortgage3…</td><td>&quot;Married&quot;</td><td>1460</td><td>&quot;Port Raoul&quot;</td><td>&quot;Account&quot;</td><td>&quot;Rejected&quot;</td></tr><tr><td>&quot;FirstMortgage3…</td><td>&quot;Unknown&quot;</td><td>669</td><td>&quot;Laurianneshire…</td><td>&quot;AutoLoans&quot;</td><td>&quot;Accepted&quot;</td></tr><tr><td>&quot;MoneyMarketSav…</td><td>&quot;No Resp+&quot;</td><td>1174</td><td>&quot;Jacobshaven&quot;</td><td>&quot;Account&quot;</td><td>&quot;Rejected&quot;</td></tr><tr><td>&quot;BasicChecking&quot;</td><td>&quot;Unknown&quot;</td><td>1476</td><td>&quot;Lindton&quot;</td><td>&quot;Account&quot;</td><td>&quot;Rejected&quot;</td></tr><tr><td>&quot;BasicChecking&quot;</td><td>&quot;Married&quot;</td><td>1211</td><td>&quot;South Jimmiesh…</td><td>&quot;DepositAccount…</td><td>&quot;Accepted&quot;</td></tr><tr><td>&quot;UPlusFinPerson…</td><td>&quot;No Resp+&quot;</td><td>533</td><td>&quot;Bergeville&quot;</td><td>null</td><td>&quot;Rejected&quot;</td></tr><tr><td>&quot;BasicChecking&quot;</td><td>&quot;No Resp+&quot;</td><td>555</td><td>&quot;Willyville&quot;</td><td>&quot;DepositAccount…</td><td>&quot;Rejected&quot;</td></tr></tbody></table></div>"
      ],
      "text/plain": [
       "shape: (7, 6)\n",
       "┌────────────────┬────────────────┬──────────────┬────────────────┬────────────────┬───────────────┐\n",
       "│ Context_Name   ┆ Customer_Marit ┆ Customer_CLV ┆ Customer_City  ┆ IH_Web_Inbound ┆ Decision_Outc │\n",
       "│ ---            ┆ alStatus       ┆ ---          ┆ ---            ┆ _Accepted_pxLa ┆ ome           │\n",
       "│ str            ┆ ---            ┆ i64          ┆ str            ┆ stGr…          ┆ ---           │\n",
       "│                ┆ str            ┆              ┆                ┆ ---            ┆ str           │\n",
       "│                ┆                ┆              ┆                ┆ str            ┆               │\n",
       "╞════════════════╪════════════════╪══════════════╪════════════════╪════════════════╪═══════════════╡\n",
       "│ FirstMortgage3 ┆ Married        ┆ 1460         ┆ Port Raoul     ┆ Account        ┆ Rejected      │\n",
       "│ 0yr            ┆                ┆              ┆                ┆                ┆               │\n",
       "│ FirstMortgage3 ┆ Unknown        ┆ 669          ┆ Laurianneshire ┆ AutoLoans      ┆ Accepted      │\n",
       "│ 0yr            ┆                ┆              ┆                ┆                ┆               │\n",
       "│ MoneyMarketSav ┆ No Resp+       ┆ 1174         ┆ Jacobshaven    ┆ Account        ┆ Rejected      │\n",
       "│ ingsAccount    ┆                ┆              ┆                ┆                ┆               │\n",
       "│ BasicChecking  ┆ Unknown        ┆ 1476         ┆ Lindton        ┆ Account        ┆ Rejected      │\n",
       "│ BasicChecking  ┆ Married        ┆ 1211         ┆ South          ┆ DepositAccount ┆ Accepted      │\n",
       "│                ┆                ┆              ┆ Jimmieshire    ┆ s              ┆               │\n",
       "│ UPlusFinPerson ┆ No Resp+       ┆ 533          ┆ Bergeville     ┆ null           ┆ Rejected      │\n",
       "│ al             ┆                ┆              ┆                ┆                ┆               │\n",
       "│ BasicChecking  ┆ No Resp+       ┆ 555          ┆ Willyville     ┆ DepositAccount ┆ Rejected      │\n",
       "│                ┆                ┆              ┆                ┆ s              ┆               │\n",
       "└────────────────┴────────────────┴──────────────┴────────────────┴────────────────┴───────────────┘"
      ]
     },
     "execution_count": 3,
     "metadata": {},
     "output_type": "execute_result"
    }
   ],
   "source": [
    "pl.read_ndjson('../../../../data/SampleHDS.json')"
   ]
  },
  {
   "attachments": {},
   "cell_type": "markdown",
   "metadata": {},
   "source": [
    "As you can see, this dataset consists of regular predictors, IH predictors, context keys and the outcome column. Additionally, some columns are numeric, others are strings. Let's first initialize the DataAnonymization class."
   ]
  },
  {
   "cell_type": "code",
   "execution_count": 4,
   "metadata": {
    "execution": {
     "iopub.execute_input": "2023-10-13T16:41:14.568552Z",
     "iopub.status.busy": "2023-10-13T16:41:14.568183Z",
     "iopub.status.idle": "2023-10-13T16:41:14.577109Z",
     "shell.execute_reply": "2023-10-13T16:41:14.576621Z"
    }
   },
   "outputs": [],
   "source": [
    "anon = DataAnonymization(hds_folder='../../../../data/')"
   ]
  },
  {
   "attachments": {},
   "cell_type": "markdown",
   "metadata": {},
   "source": [
    "By default, the class applies a set of anonymisation techniques:\n",
    "- Column names are remapped to a non-descriptive name\n",
    "- Categorical values are hashed with a random seed\n",
    "- Numerical values are normalized between 0 and 1\n",
    "- Outcomes are mapped to a binary outcome.\n",
    "\n",
    "To apply these techniques, simply call `.process()`:"
   ]
  },
  {
   "cell_type": "code",
   "execution_count": 5,
   "metadata": {
    "execution": {
     "iopub.execute_input": "2023-10-13T16:41:14.579500Z",
     "iopub.status.busy": "2023-10-13T16:41:14.579133Z",
     "iopub.status.idle": "2023-10-13T16:41:14.585514Z",
     "shell.execute_reply": "2023-10-13T16:41:14.585044Z"
    }
   },
   "outputs": [
    {
     "data": {
      "text/html": [
       "<div><style>\n",
       ".dataframe > thead > tr > th,\n",
       ".dataframe > tbody > tr > td {\n",
       "  text-align: right;\n",
       "  white-space: pre-wrap;\n",
       "}\n",
       "</style>\n",
       "<small>shape: (7, 7)</small><table border=\"1\" class=\"dataframe\"><thead><tr><th>filename</th><th>PREDICTOR_1</th><th>PREDICTOR_2</th><th>PREDICTOR_3</th><th>Context_Name</th><th>IH_PREDICTOR_0</th><th>Decision_Outcome</th></tr><tr><td>str</td><td>f64</td><td>str</td><td>str</td><td>str</td><td>str</td><td>bool</td></tr></thead><tbody><tr><td>&quot;../../../../da…</td><td>1.2927e19</td><td>&quot;14761865346205…</td><td>&quot;44644480779312…</td><td>&quot;42565122118598…</td><td>&quot;16551535422183…</td><td>false</td></tr><tr><td>&quot;../../../../da…</td><td>1.4856e19</td><td>&quot;11474506585940…</td><td>&quot;16714597191815…</td><td>&quot;42565122118598…</td><td>&quot;17838386492551…</td><td>true</td></tr><tr><td>&quot;../../../../da…</td><td>5.6458e17</td><td>&quot;42931008174647…</td><td>&quot;16216736684397…</td><td>&quot;70454028089830…</td><td>&quot;16551535422183…</td><td>false</td></tr><tr><td>&quot;../../../../da…</td><td>4.0723e18</td><td>&quot;59856057347924…</td><td>&quot;16714597191815…</td><td>&quot;51458391971763…</td><td>&quot;16551535422183…</td><td>false</td></tr><tr><td>&quot;../../../../da…</td><td>1.4677e19</td><td>&quot;10033658666610…</td><td>&quot;44644480779312…</td><td>&quot;51458391971763…</td><td>&quot;19532477115288…</td><td>true</td></tr><tr><td>&quot;../../../../da…</td><td>1.6330e19</td><td>&quot;16705706651687…</td><td>&quot;16216736684397…</td><td>&quot;56351428157596…</td><td>null</td><td>false</td></tr><tr><td>&quot;../../../../da…</td><td>8.7675e18</td><td>&quot;16583415920148…</td><td>&quot;16216736684397…</td><td>&quot;51458391971763…</td><td>&quot;19532477115288…</td><td>false</td></tr></tbody></table></div>"
      ],
      "text/plain": [
       "shape: (7, 7)\n",
       "┌──────────────┬─────────────┬─────────────┬─────────────┬─────────────┬─────────────┬─────────────┐\n",
       "│ filename     ┆ PREDICTOR_1 ┆ PREDICTOR_2 ┆ PREDICTOR_3 ┆ Context_Nam ┆ IH_PREDICTO ┆ Decision_Ou │\n",
       "│ ---          ┆ ---         ┆ ---         ┆ ---         ┆ e           ┆ R_0         ┆ tcome       │\n",
       "│ str          ┆ f64         ┆ str         ┆ str         ┆ ---         ┆ ---         ┆ ---         │\n",
       "│              ┆             ┆             ┆             ┆ str         ┆ str         ┆ bool        │\n",
       "╞══════════════╪═════════════╪═════════════╪═════════════╪═════════════╪═════════════╪═════════════╡\n",
       "│ ../../../../ ┆ 1.2927e19   ┆ 14761865346 ┆ 44644480779 ┆ 42565122118 ┆ 16551535422 ┆ false       │\n",
       "│ data/SampleH ┆             ┆ 205223409   ┆ 31291950    ┆ 59842894    ┆ 183311391   ┆             │\n",
       "│ DS.json      ┆             ┆             ┆             ┆             ┆             ┆             │\n",
       "│ ../../../../ ┆ 1.4856e19   ┆ 11474506585 ┆ 16714597191 ┆ 42565122118 ┆ 17838386492 ┆ true        │\n",
       "│ data/SampleH ┆             ┆ 940824538   ┆ 815497235   ┆ 59842894    ┆ 55133776    ┆             │\n",
       "│ DS.json      ┆             ┆             ┆             ┆             ┆             ┆             │\n",
       "│ ../../../../ ┆ 5.6458e17   ┆ 42931008174 ┆ 16216736684 ┆ 70454028089 ┆ 16551535422 ┆ false       │\n",
       "│ data/SampleH ┆             ┆ 64799763    ┆ 397652691   ┆ 83024863    ┆ 183311391   ┆             │\n",
       "│ DS.json      ┆             ┆             ┆             ┆             ┆             ┆             │\n",
       "│ ../../../../ ┆ 4.0723e18   ┆ 59856057347 ┆ 16714597191 ┆ 51458391971 ┆ 16551535422 ┆ false       │\n",
       "│ data/SampleH ┆             ┆ 92402446    ┆ 815497235   ┆ 76397673    ┆ 183311391   ┆             │\n",
       "│ DS.json      ┆             ┆             ┆             ┆             ┆             ┆             │\n",
       "│ ../../../../ ┆ 1.4677e19   ┆ 10033658666 ┆ 44644480779 ┆ 51458391971 ┆ 19532477115 ┆ true        │\n",
       "│ data/SampleH ┆             ┆ 610438884   ┆ 31291950    ┆ 76397673    ┆ 28811243    ┆             │\n",
       "│ DS.json      ┆             ┆             ┆             ┆             ┆             ┆             │\n",
       "│ ../../../../ ┆ 1.6330e19   ┆ 16705706651 ┆ 16216736684 ┆ 56351428157 ┆ null        ┆ false       │\n",
       "│ data/SampleH ┆             ┆ 687160737   ┆ 397652691   ┆ 59665390    ┆             ┆             │\n",
       "│ DS.json      ┆             ┆             ┆             ┆             ┆             ┆             │\n",
       "│ ../../../../ ┆ 8.7675e18   ┆ 16583415920 ┆ 16216736684 ┆ 51458391971 ┆ 19532477115 ┆ false       │\n",
       "│ data/SampleH ┆             ┆ 148703653   ┆ 397652691   ┆ 76397673    ┆ 28811243    ┆             │\n",
       "│ DS.json      ┆             ┆             ┆             ┆             ┆             ┆             │\n",
       "└──────────────┴─────────────┴─────────────┴─────────────┴─────────────┴─────────────┴─────────────┘"
      ]
     },
     "execution_count": 5,
     "metadata": {},
     "output_type": "execute_result"
    }
   ],
   "source": [
    "anon.process()"
   ]
  },
  {
   "attachments": {},
   "cell_type": "markdown",
   "metadata": {},
   "source": [
    "To trace back the columns to their original names, the class also contains a mapping, which does not have to be provided."
   ]
  },
  {
   "cell_type": "code",
   "execution_count": 6,
   "metadata": {
    "execution": {
     "iopub.execute_input": "2023-10-13T16:41:14.587695Z",
     "iopub.status.busy": "2023-10-13T16:41:14.587350Z",
     "iopub.status.idle": "2023-10-13T16:41:14.591169Z",
     "shell.execute_reply": "2023-10-13T16:41:14.590733Z"
    }
   },
   "outputs": [
    {
     "data": {
      "text/plain": [
       "{'filename': 'filename',\n",
       " 'Customer_CLV': 'PREDICTOR_1',\n",
       " 'Customer_City': 'PREDICTOR_2',\n",
       " 'Customer_MaritalStatus': 'PREDICTOR_3',\n",
       " 'Context_Name': 'Context_Name',\n",
       " 'IH_Web_Inbound_Accepted_pxLastGroupID': 'IH_PREDICTOR_0',\n",
       " 'Decision_Outcome': 'Decision_Outcome'}"
      ]
     },
     "execution_count": 6,
     "metadata": {},
     "output_type": "execute_result"
    }
   ],
   "source": [
    "anon.column_mapping"
   ]
  },
  {
   "attachments": {},
   "cell_type": "markdown",
   "metadata": {},
   "source": [
    "## Configs\n",
    "\n",
    "Each capability can optionally be turned off - see below for the full list of config options, and refer to the API reference for the full description."
   ]
  },
  {
   "cell_type": "code",
   "execution_count": 7,
   "metadata": {
    "execution": {
     "iopub.execute_input": "2023-10-13T16:41:14.593278Z",
     "iopub.status.busy": "2023-10-13T16:41:14.592938Z",
     "iopub.status.idle": "2023-10-13T16:41:14.597286Z",
     "shell.execute_reply": "2023-10-13T16:41:14.596850Z"
    }
   },
   "outputs": [
    {
     "data": {
      "text/plain": [
       "{'config_file': None,\n",
       " 'hds_folder': '.',\n",
       " 'use_datamart': False,\n",
       " 'datamart_folder': 'datamart',\n",
       " 'output_format': 'ndjson',\n",
       " 'output_folder': 'output',\n",
       " 'mapping_file': 'mapping.map',\n",
       " 'mask_predictor_names': True,\n",
       " 'mask_context_key_names': False,\n",
       " 'mask_ih_names': True,\n",
       " 'mask_outcome_name': False,\n",
       " 'mask_predictor_values': True,\n",
       " 'mask_context_key_values': True,\n",
       " 'mask_ih_values': True,\n",
       " 'mask_outcome_values': True,\n",
       " 'context_key_label': 'Context_*',\n",
       " 'ih_label': 'IH_*',\n",
       " 'outcome_column': 'Decision_Outcome',\n",
       " 'positive_outcomes': ['Accepted', 'Clicked'],\n",
       " 'negative_outcomes': ['Rejected', 'Impression'],\n",
       " 'special_predictors': ['Decision_DecisionTime',\n",
       "  'Decision_OutcomeTime',\n",
       "  'Decision_Rank'],\n",
       " 'sample_percentage_schema_inferencing': 0.01}"
      ]
     },
     "execution_count": 7,
     "metadata": {},
     "output_type": "execute_result"
    }
   ],
   "source": [
    "dict(zip(Config.__init__.__code__.co_varnames[1:], Config.__init__.__defaults__))"
   ]
  },
  {
   "attachments": {},
   "cell_type": "markdown",
   "metadata": {},
   "source": [
    "It's easy to change these parameters by just passing the keyword arguments. In the following example, we\n",
    "- Keep the IH predictor names\n",
    "- Keep the outcome values\n",
    "- Keep the context key values\n",
    "- Keep the context key predictor names"
   ]
  },
  {
   "cell_type": "code",
   "execution_count": 8,
   "metadata": {
    "execution": {
     "iopub.execute_input": "2023-10-13T16:41:14.599609Z",
     "iopub.status.busy": "2023-10-13T16:41:14.599067Z",
     "iopub.status.idle": "2023-10-13T16:41:14.609161Z",
     "shell.execute_reply": "2023-10-13T16:41:14.608706Z"
    }
   },
   "outputs": [
    {
     "data": {
      "text/html": [
       "<div><style>\n",
       ".dataframe > thead > tr > th,\n",
       ".dataframe > tbody > tr > td {\n",
       "  text-align: right;\n",
       "  white-space: pre-wrap;\n",
       "}\n",
       "</style>\n",
       "<small>shape: (7, 7)</small><table border=\"1\" class=\"dataframe\"><thead><tr><th>filename</th><th>PREDICTOR_1</th><th>PREDICTOR_2</th><th>PREDICTOR_3</th><th>Context_Name</th><th>IH_Web_Inbound_Accepted_pxLastGroupID</th><th>Decision_Outcome</th></tr><tr><td>str</td><td>f64</td><td>str</td><td>str</td><td>str</td><td>str</td><td>str</td></tr></thead><tbody><tr><td>&quot;../../../../da…</td><td>1.2927e19</td><td>&quot;13807840314256…</td><td>&quot;14316440499328…</td><td>&quot;FirstMortgage3…</td><td>&quot;13600518374397…</td><td>&quot;Rejected&quot;</td></tr><tr><td>&quot;../../../../da…</td><td>1.4856e19</td><td>&quot;94262804492878…</td><td>&quot;15142274605305…</td><td>&quot;FirstMortgage3…</td><td>&quot;15715847772414…</td><td>&quot;Accepted&quot;</td></tr><tr><td>&quot;../../../../da…</td><td>5.6458e17</td><td>&quot;97309345743469…</td><td>&quot;11441130538755…</td><td>&quot;MoneyMarketSav…</td><td>&quot;13600518374397…</td><td>&quot;Rejected&quot;</td></tr><tr><td>&quot;../../../../da…</td><td>4.0723e18</td><td>&quot;32855577610593…</td><td>&quot;15142274605305…</td><td>&quot;BasicChecking&quot;</td><td>&quot;13600518374397…</td><td>&quot;Rejected&quot;</td></tr><tr><td>&quot;../../../../da…</td><td>1.4677e19</td><td>&quot;16533062774953…</td><td>&quot;14316440499328…</td><td>&quot;BasicChecking&quot;</td><td>&quot;14027598886423…</td><td>&quot;Accepted&quot;</td></tr><tr><td>&quot;../../../../da…</td><td>1.6330e19</td><td>&quot;62199264250059…</td><td>&quot;11441130538755…</td><td>&quot;UPlusFinPerson…</td><td>null</td><td>&quot;Rejected&quot;</td></tr><tr><td>&quot;../../../../da…</td><td>8.7675e18</td><td>&quot;82474056094591…</td><td>&quot;11441130538755…</td><td>&quot;BasicChecking&quot;</td><td>&quot;14027598886423…</td><td>&quot;Rejected&quot;</td></tr></tbody></table></div>"
      ],
      "text/plain": [
       "shape: (7, 7)\n",
       "┌──────────────┬─────────────┬─────────────┬─────────────┬─────────────┬─────────────┬─────────────┐\n",
       "│ filename     ┆ PREDICTOR_1 ┆ PREDICTOR_2 ┆ PREDICTOR_3 ┆ Context_Nam ┆ IH_Web_Inbo ┆ Decision_Ou │\n",
       "│ ---          ┆ ---         ┆ ---         ┆ ---         ┆ e           ┆ und_Accepte ┆ tcome       │\n",
       "│ str          ┆ f64         ┆ str         ┆ str         ┆ ---         ┆ d_pxLastGr… ┆ ---         │\n",
       "│              ┆             ┆             ┆             ┆ str         ┆ ---         ┆ str         │\n",
       "│              ┆             ┆             ┆             ┆             ┆ str         ┆             │\n",
       "╞══════════════╪═════════════╪═════════════╪═════════════╪═════════════╪═════════════╪═════════════╡\n",
       "│ ../../../../ ┆ 1.2927e19   ┆ 13807840314 ┆ 14316440499 ┆ FirstMortga ┆ 13600518374 ┆ Rejected    │\n",
       "│ data/SampleH ┆             ┆ 256651032   ┆ 328635648   ┆ ge30yr      ┆ 39768060    ┆             │\n",
       "│ DS.json      ┆             ┆             ┆             ┆             ┆             ┆             │\n",
       "│ ../../../../ ┆ 1.4856e19   ┆ 94262804492 ┆ 15142274605 ┆ FirstMortga ┆ 15715847772 ┆ Accepted    │\n",
       "│ data/SampleH ┆             ┆ 87829958    ┆ 305735999   ┆ ge30yr      ┆ 414665443   ┆             │\n",
       "│ DS.json      ┆             ┆             ┆             ┆             ┆             ┆             │\n",
       "│ ../../../../ ┆ 5.6458e17   ┆ 97309345743 ┆ 11441130538 ┆ MoneyMarket ┆ 13600518374 ┆ Rejected    │\n",
       "│ data/SampleH ┆             ┆ 46956140    ┆ 75555197    ┆ SavingsAcco ┆ 39768060    ┆             │\n",
       "│ DS.json      ┆             ┆             ┆             ┆ unt         ┆             ┆             │\n",
       "│ ../../../../ ┆ 4.0723e18   ┆ 32855577610 ┆ 15142274605 ┆ BasicChecki ┆ 13600518374 ┆ Rejected    │\n",
       "│ data/SampleH ┆             ┆ 59396096    ┆ 305735999   ┆ ng          ┆ 39768060    ┆             │\n",
       "│ DS.json      ┆             ┆             ┆             ┆             ┆             ┆             │\n",
       "│ ../../../../ ┆ 1.4677e19   ┆ 16533062774 ┆ 14316440499 ┆ BasicChecki ┆ 14027598886 ┆ Accepted    │\n",
       "│ data/SampleH ┆             ┆ 95379924    ┆ 328635648   ┆ ng          ┆ 423483557   ┆             │\n",
       "│ DS.json      ┆             ┆             ┆             ┆             ┆             ┆             │\n",
       "│ ../../../../ ┆ 1.6330e19   ┆ 62199264250 ┆ 11441130538 ┆ UPlusFinPer ┆ null        ┆ Rejected    │\n",
       "│ data/SampleH ┆             ┆ 05949194    ┆ 75555197    ┆ sonal       ┆             ┆             │\n",
       "│ DS.json      ┆             ┆             ┆             ┆             ┆             ┆             │\n",
       "│ ../../../../ ┆ 8.7675e18   ┆ 82474056094 ┆ 11441130538 ┆ BasicChecki ┆ 14027598886 ┆ Rejected    │\n",
       "│ data/SampleH ┆             ┆ 59181057    ┆ 75555197    ┆ ng          ┆ 423483557   ┆             │\n",
       "│ DS.json      ┆             ┆             ┆             ┆             ┆             ┆             │\n",
       "└──────────────┴─────────────┴─────────────┴─────────────┴─────────────┴─────────────┴─────────────┘"
      ]
     },
     "execution_count": 8,
     "metadata": {},
     "output_type": "execute_result"
    }
   ],
   "source": [
    "anon = DataAnonymization(\n",
    "    hds_folder=\"../../../../data/\",\n",
    "    mask_ih_names=False,\n",
    "    mask_outcome_values=False,\n",
    "    mask_context_key_values=False,\n",
    "    mask_context_key_names=False,\n",
    ")\n",
    "anon.process()\n"
   ]
  },
  {
   "attachments": {},
   "cell_type": "markdown",
   "metadata": {},
   "source": [
    "The configs can also be written and read as such:"
   ]
  },
  {
   "cell_type": "code",
   "execution_count": 9,
   "metadata": {
    "execution": {
     "iopub.execute_input": "2023-10-13T16:41:14.611516Z",
     "iopub.status.busy": "2023-10-13T16:41:14.610974Z",
     "iopub.status.idle": "2023-10-13T16:41:14.614006Z",
     "shell.execute_reply": "2023-10-13T16:41:14.613557Z"
    }
   },
   "outputs": [],
   "source": [
    "anon.config.save_to_config_file('config.json')"
   ]
  },
  {
   "cell_type": "code",
   "execution_count": 10,
   "metadata": {
    "execution": {
     "iopub.execute_input": "2023-10-13T16:41:14.616254Z",
     "iopub.status.busy": "2023-10-13T16:41:14.615911Z",
     "iopub.status.idle": "2023-10-13T16:41:14.625531Z",
     "shell.execute_reply": "2023-10-13T16:41:14.625085Z"
    }
   },
   "outputs": [
    {
     "data": {
      "text/html": [
       "<div><style>\n",
       ".dataframe > thead > tr > th,\n",
       ".dataframe > tbody > tr > td {\n",
       "  text-align: right;\n",
       "  white-space: pre-wrap;\n",
       "}\n",
       "</style>\n",
       "<small>shape: (7, 7)</small><table border=\"1\" class=\"dataframe\"><thead><tr><th>filename</th><th>PREDICTOR_1</th><th>PREDICTOR_2</th><th>PREDICTOR_3</th><th>Context_Name</th><th>IH_Web_Inbound_Accepted_pxLastGroupID</th><th>Decision_Outcome</th></tr><tr><td>str</td><td>f64</td><td>str</td><td>str</td><td>str</td><td>str</td><td>str</td></tr></thead><tbody><tr><td>&quot;../../../../da…</td><td>1.2927e19</td><td>&quot;94988291133390…</td><td>&quot;12344443250811…</td><td>&quot;FirstMortgage3…</td><td>&quot;14055038287091…</td><td>&quot;Rejected&quot;</td></tr><tr><td>&quot;../../../../da…</td><td>1.4856e19</td><td>&quot;68210401654937…</td><td>&quot;32371339914498…</td><td>&quot;FirstMortgage3…</td><td>&quot;15966770308002…</td><td>&quot;Accepted&quot;</td></tr><tr><td>&quot;../../../../da…</td><td>5.6458e17</td><td>&quot;11129333874111…</td><td>&quot;13955861147852…</td><td>&quot;MoneyMarketSav…</td><td>&quot;14055038287091…</td><td>&quot;Rejected&quot;</td></tr><tr><td>&quot;../../../../da…</td><td>4.0723e18</td><td>&quot;33784093093495…</td><td>&quot;32371339914498…</td><td>&quot;BasicChecking&quot;</td><td>&quot;14055038287091…</td><td>&quot;Rejected&quot;</td></tr><tr><td>&quot;../../../../da…</td><td>1.4677e19</td><td>&quot;16852754830734…</td><td>&quot;12344443250811…</td><td>&quot;BasicChecking&quot;</td><td>&quot;98192715406247…</td><td>&quot;Accepted&quot;</td></tr><tr><td>&quot;../../../../da…</td><td>1.6330e19</td><td>&quot;11485887560248…</td><td>&quot;13955861147852…</td><td>&quot;UPlusFinPerson…</td><td>null</td><td>&quot;Rejected&quot;</td></tr><tr><td>&quot;../../../../da…</td><td>8.7675e18</td><td>&quot;10835323308251…</td><td>&quot;13955861147852…</td><td>&quot;BasicChecking&quot;</td><td>&quot;98192715406247…</td><td>&quot;Rejected&quot;</td></tr></tbody></table></div>"
      ],
      "text/plain": [
       "shape: (7, 7)\n",
       "┌──────────────┬─────────────┬─────────────┬─────────────┬─────────────┬─────────────┬─────────────┐\n",
       "│ filename     ┆ PREDICTOR_1 ┆ PREDICTOR_2 ┆ PREDICTOR_3 ┆ Context_Nam ┆ IH_Web_Inbo ┆ Decision_Ou │\n",
       "│ ---          ┆ ---         ┆ ---         ┆ ---         ┆ e           ┆ und_Accepte ┆ tcome       │\n",
       "│ str          ┆ f64         ┆ str         ┆ str         ┆ ---         ┆ d_pxLastGr… ┆ ---         │\n",
       "│              ┆             ┆             ┆             ┆ str         ┆ ---         ┆ str         │\n",
       "│              ┆             ┆             ┆             ┆             ┆ str         ┆             │\n",
       "╞══════════════╪═════════════╪═════════════╪═════════════╪═════════════╪═════════════╪═════════════╡\n",
       "│ ../../../../ ┆ 1.2927e19   ┆ 94988291133 ┆ 12344443250 ┆ FirstMortga ┆ 14055038287 ┆ Rejected    │\n",
       "│ data/SampleH ┆             ┆ 3902954     ┆ 811665449   ┆ ge30yr      ┆ 091033997   ┆             │\n",
       "│ DS.json      ┆             ┆             ┆             ┆             ┆             ┆             │\n",
       "│ ../../../../ ┆ 1.4856e19   ┆ 68210401654 ┆ 32371339914 ┆ FirstMortga ┆ 15966770308 ┆ Accepted    │\n",
       "│ data/SampleH ┆             ┆ 93760189    ┆ 49869851    ┆ ge30yr      ┆ 002572029   ┆             │\n",
       "│ DS.json      ┆             ┆             ┆             ┆             ┆             ┆             │\n",
       "│ ../../../../ ┆ 5.6458e17   ┆ 11129333874 ┆ 13955861147 ┆ MoneyMarket ┆ 14055038287 ┆ Rejected    │\n",
       "│ data/SampleH ┆             ┆ 111111657   ┆ 852832562   ┆ SavingsAcco ┆ 091033997   ┆             │\n",
       "│ DS.json      ┆             ┆             ┆             ┆ unt         ┆             ┆             │\n",
       "│ ../../../../ ┆ 4.0723e18   ┆ 33784093093 ┆ 32371339914 ┆ BasicChecki ┆ 14055038287 ┆ Rejected    │\n",
       "│ data/SampleH ┆             ┆ 49574277    ┆ 49869851    ┆ ng          ┆ 091033997   ┆             │\n",
       "│ DS.json      ┆             ┆             ┆             ┆             ┆             ┆             │\n",
       "│ ../../../../ ┆ 1.4677e19   ┆ 16852754830 ┆ 12344443250 ┆ BasicChecki ┆ 98192715406 ┆ Accepted    │\n",
       "│ data/SampleH ┆             ┆ 734934937   ┆ 811665449   ┆ ng          ┆ 24724882    ┆             │\n",
       "│ DS.json      ┆             ┆             ┆             ┆             ┆             ┆             │\n",
       "│ ../../../../ ┆ 1.6330e19   ┆ 11485887560 ┆ 13955861147 ┆ UPlusFinPer ┆ null        ┆ Rejected    │\n",
       "│ data/SampleH ┆             ┆ 248345347   ┆ 852832562   ┆ sonal       ┆             ┆             │\n",
       "│ DS.json      ┆             ┆             ┆             ┆             ┆             ┆             │\n",
       "│ ../../../../ ┆ 8.7675e18   ┆ 10835323308 ┆ 13955861147 ┆ BasicChecki ┆ 98192715406 ┆ Rejected    │\n",
       "│ data/SampleH ┆             ┆ 251707399   ┆ 852832562   ┆ ng          ┆ 24724882    ┆             │\n",
       "│ DS.json      ┆             ┆             ┆             ┆             ┆             ┆             │\n",
       "└──────────────┴─────────────┴─────────────┴─────────────┴─────────────┴─────────────┴─────────────┘"
      ]
     },
     "execution_count": 10,
     "metadata": {},
     "output_type": "execute_result"
    }
   ],
   "source": [
    "anon = DataAnonymization(config=Config(config_file='config.json'))\n",
    "anon.process()"
   ]
  },
  {
   "attachments": {},
   "cell_type": "markdown",
   "metadata": {},
   "source": [
    "## Exporting\n",
    "Two functions export:\n",
    "- `create_mapping_file()` writes the mapping file of the predictor names\n",
    "- `write_to_output()` writes the processed dataframe to disk\n",
    "\n",
    "Write to output accepts the following extensions: `[\"ndjson\", \"parquet\", \"arrow\", \"csv\"]`"
   ]
  },
  {
   "cell_type": "code",
   "execution_count": 11,
   "metadata": {
    "execution": {
     "iopub.execute_input": "2023-10-13T16:41:14.627857Z",
     "iopub.status.busy": "2023-10-13T16:41:14.627328Z",
     "iopub.status.idle": "2023-10-13T16:41:14.631025Z",
     "shell.execute_reply": "2023-10-13T16:41:14.630588Z"
    }
   },
   "outputs": [
    {
     "name": "stdout",
     "output_type": "stream",
     "text": [
      "filename=filename\n",
      "Customer_CLV=PREDICTOR_1\n",
      "Customer_City=PREDICTOR_2\n",
      "Customer_MaritalStatus=PREDICTOR_3\n",
      "Context_Name=Context_Name\n",
      "IH_Web_Inbound_Accepted_pxLastGroupID=IH_Web_Inbound_Accepted_pxLastGroupID\n",
      "Decision_Outcome=Decision_Outcome\n",
      "\n"
     ]
    }
   ],
   "source": [
    "anon.create_mapping_file()\n",
    "with open('mapping.map') as f:\n",
    "    print(f.read())"
   ]
  },
  {
   "cell_type": "code",
   "execution_count": 12,
   "metadata": {
    "execution": {
     "iopub.execute_input": "2023-10-13T16:41:14.633278Z",
     "iopub.status.busy": "2023-10-13T16:41:14.632757Z",
     "iopub.status.idle": "2023-10-13T16:41:14.636714Z",
     "shell.execute_reply": "2023-10-13T16:41:14.636252Z"
    }
   },
   "outputs": [],
   "source": [
    "anon.write_to_output(ext='arrow')"
   ]
  },
  {
   "cell_type": "code",
   "execution_count": 13,
   "metadata": {
    "execution": {
     "iopub.execute_input": "2023-10-13T16:41:14.638848Z",
     "iopub.status.busy": "2023-10-13T16:41:14.638512Z",
     "iopub.status.idle": "2023-10-13T16:41:14.643257Z",
     "shell.execute_reply": "2023-10-13T16:41:14.642818Z"
    }
   },
   "outputs": [
    {
     "data": {
      "text/html": [
       "<div><style>\n",
       ".dataframe > thead > tr > th,\n",
       ".dataframe > tbody > tr > td {\n",
       "  text-align: right;\n",
       "  white-space: pre-wrap;\n",
       "}\n",
       "</style>\n",
       "<small>shape: (7, 6)</small><table border=\"1\" class=\"dataframe\"><thead><tr><th>PREDICTOR_1</th><th>PREDICTOR_2</th><th>PREDICTOR_3</th><th>Context_Name</th><th>IH_Web_Inbound_Accepted_pxLastGroupID</th><th>Decision_Outcome</th></tr><tr><td>f64</td><td>str</td><td>str</td><td>str</td><td>str</td><td>str</td></tr></thead><tbody><tr><td>1.2927e19</td><td>&quot;55934621335143…</td><td>&quot;11359163125596…</td><td>&quot;FirstMortgage3…</td><td>&quot;10289950067850…</td><td>&quot;Rejected&quot;</td></tr><tr><td>1.4856e19</td><td>&quot;18442691359271…</td><td>&quot;15817078084933…</td><td>&quot;FirstMortgage3…</td><td>&quot;18284500442881…</td><td>&quot;Accepted&quot;</td></tr><tr><td>5.6458e17</td><td>&quot;20656988461476…</td><td>&quot;48571028529811…</td><td>&quot;MoneyMarketSav…</td><td>&quot;10289950067850…</td><td>&quot;Rejected&quot;</td></tr><tr><td>4.0723e18</td><td>&quot;16482439670147…</td><td>&quot;15817078084933…</td><td>&quot;BasicChecking&quot;</td><td>&quot;10289950067850…</td><td>&quot;Rejected&quot;</td></tr><tr><td>1.4677e19</td><td>&quot;21218091764752…</td><td>&quot;11359163125596…</td><td>&quot;BasicChecking&quot;</td><td>&quot;13524872600918…</td><td>&quot;Accepted&quot;</td></tr><tr><td>1.6330e19</td><td>&quot;55723634800082…</td><td>&quot;48571028529811…</td><td>&quot;UPlusFinPerson…</td><td>null</td><td>&quot;Rejected&quot;</td></tr><tr><td>8.7675e18</td><td>&quot;34638044070098…</td><td>&quot;48571028529811…</td><td>&quot;BasicChecking&quot;</td><td>&quot;13524872600918…</td><td>&quot;Rejected&quot;</td></tr></tbody></table></div>"
      ],
      "text/plain": [
       "shape: (7, 6)\n",
       "┌─────────────┬────────────────┬────────────────┬────────────────┬────────────────┬────────────────┐\n",
       "│ PREDICTOR_1 ┆ PREDICTOR_2    ┆ PREDICTOR_3    ┆ Context_Name   ┆ IH_Web_Inbound ┆ Decision_Outco │\n",
       "│ ---         ┆ ---            ┆ ---            ┆ ---            ┆ _Accepted_pxLa ┆ me             │\n",
       "│ f64         ┆ str            ┆ str            ┆ str            ┆ stGr…          ┆ ---            │\n",
       "│             ┆                ┆                ┆                ┆ ---            ┆ str            │\n",
       "│             ┆                ┆                ┆                ┆ str            ┆                │\n",
       "╞═════════════╪════════════════╪════════════════╪════════════════╪════════════════╪════════════════╡\n",
       "│ 1.2927e19   ┆ 55934621335143 ┆ 11359163125596 ┆ FirstMortgage3 ┆ 10289950067850 ┆ Rejected       │\n",
       "│             ┆ 23222          ┆ 664464         ┆ 0yr            ┆ 195692         ┆                │\n",
       "│ 1.4856e19   ┆ 18442691359271 ┆ 15817078084933 ┆ FirstMortgage3 ┆ 18284500442881 ┆ Accepted       │\n",
       "│             ┆ 605182         ┆ 049646         ┆ 0yr            ┆ 648763         ┆                │\n",
       "│ 5.6458e17   ┆ 20656988461476 ┆ 48571028529811 ┆ MoneyMarketSav ┆ 10289950067850 ┆ Rejected       │\n",
       "│             ┆ 55780          ┆ 4124           ┆ ingsAccount    ┆ 195692         ┆                │\n",
       "│ 4.0723e18   ┆ 16482439670147 ┆ 15817078084933 ┆ BasicChecking  ┆ 10289950067850 ┆ Rejected       │\n",
       "│             ┆ 672815         ┆ 049646         ┆                ┆ 195692         ┆                │\n",
       "│ 1.4677e19   ┆ 21218091764752 ┆ 11359163125596 ┆ BasicChecking  ┆ 13524872600918 ┆ Accepted       │\n",
       "│             ┆ 58704          ┆ 664464         ┆                ┆ 548834         ┆                │\n",
       "│ 1.6330e19   ┆ 55723634800082 ┆ 48571028529811 ┆ UPlusFinPerson ┆ null           ┆ Rejected       │\n",
       "│             ┆ 71774          ┆ 4124           ┆ al             ┆                ┆                │\n",
       "│ 8.7675e18   ┆ 34638044070098 ┆ 48571028529811 ┆ BasicChecking  ┆ 13524872600918 ┆ Rejected       │\n",
       "│             ┆ 73230          ┆ 4124           ┆                ┆ 548834         ┆                │\n",
       "└─────────────┴────────────────┴────────────────┴────────────────┴────────────────┴────────────────┘"
      ]
     },
     "execution_count": 13,
     "metadata": {},
     "output_type": "execute_result"
    }
   ],
   "source": [
    "pl.read_ipc('output/hds.arrow')"
   ]
  },
  {
   "attachments": {},
   "cell_type": "markdown",
   "metadata": {
    "nbsphinx": "hidden"
   },
   "source": [
    "## Advanced: Hash fuctions\n",
    "\n",
    "By default, we use [the same hashing algorithm Polars](https://pola-rs.github.io/polars/py-polars/html/reference/expressions/api/polars.Expr.hash.html#polars.Expr.hash) uses: [xxhash](https://github.com/Cyan4973/xxHash), as implemented [here](https://github.com/pola-rs/polars/blob/3f287f370b3c388ed2f3f218b2c096382548136f/polars/polars-core/src/vector_hasher.rs#L266). xxhash is fast to compute, and you can check its performance in collision, dispersion and randomness [here](https://github.com/Cyan4973/xxHash/tree/dev/tests). \n",
    "\n",
    "xxhash accepts four distinct seeds, but by default we set the seeds to `0`. It is possible to set the `seed` argument of the `process()` function to `'random'`, which will set all four seeds to a random integer between `0` and `1000000000`. Alternatively, it is possible to supply the four seeds manually with arguments `seed`, `seed_1`, `seed_2` and `seed_3`. \n",
    "\n",
    "If the xxhash with (random) seed(s) is not deemed sufficiently secure, it is possible to use your own hashing algorithm.\n",
    "\n",
    "Note that since we're now running python code and not native Polars code anymore, this will be _significantly_ slower. Nonetheless, it is possible.\n",
    "\n",
    "Just as an example - this is how one would use sha3_256:"
   ]
  },
  {
   "cell_type": "code",
   "execution_count": 14,
   "metadata": {
    "execution": {
     "iopub.execute_input": "2023-10-13T16:41:14.645361Z",
     "iopub.status.busy": "2023-10-13T16:41:14.645026Z",
     "iopub.status.idle": "2023-10-13T16:41:15.031704Z",
     "shell.execute_reply": "2023-10-13T16:41:15.030981Z"
    },
    "nbsphinx": "hidden"
   },
   "outputs": [
    {
     "ename": "ComputeError",
     "evalue": "AttributeError: 'int' object has no attribute 'encode'",
     "output_type": "error",
     "traceback": [
      "\u001b[0;31m---------------------------------------------------------------------------\u001b[0m",
      "\u001b[0;31mComputeError\u001b[0m                              Traceback (most recent call last)",
      "Cell \u001b[0;32mIn[14], line 3\u001b[0m\n\u001b[1;32m      1\u001b[0m \u001b[38;5;28;01mfrom\u001b[39;00m \u001b[38;5;21;01mhashlib\u001b[39;00m \u001b[38;5;28;01mimport\u001b[39;00m sha3_256\n\u001b[0;32m----> 3\u001b[0m \u001b[43manon\u001b[49m\u001b[38;5;241;43m.\u001b[39;49m\u001b[43mprocess\u001b[49m\u001b[43m(\u001b[49m\u001b[43malgorithm\u001b[49m\u001b[38;5;241;43m=\u001b[39;49m\u001b[38;5;28;43;01mlambda\u001b[39;49;00m\u001b[43m \u001b[49m\u001b[43mx\u001b[49m\u001b[43m:\u001b[49m\u001b[43m \u001b[49m\u001b[43msha3_256\u001b[49m\u001b[43m(\u001b[49m\u001b[43mx\u001b[49m\u001b[38;5;241;43m.\u001b[39;49m\u001b[43mencode\u001b[49m\u001b[43m(\u001b[49m\u001b[43m)\u001b[49m\u001b[43m)\u001b[49m\u001b[38;5;241;43m.\u001b[39;49m\u001b[43mhexdigest\u001b[49m\u001b[43m(\u001b[49m\u001b[43m)\u001b[49m\u001b[43m)\u001b[49m\n",
      "File \u001b[0;32m~/work/pega-datascientist-tools/pega-datascientist-tools/python/docs/source/articles/../../../pdstools/utils/hds_utils.py:516\u001b[0m, in \u001b[0;36mDataAnonymization.process\u001b[0;34m(self, strategy, **kwargs)\u001b[0m\n\u001b[1;32m    514\u001b[0m df \u001b[38;5;241m=\u001b[39m df\u001b[38;5;241m.\u001b[39mselect(\u001b[38;5;28mself\u001b[39m\u001b[38;5;241m.\u001b[39mcolumn_mapping\u001b[38;5;241m.\u001b[39mkeys())\u001b[38;5;241m.\u001b[39mrename(\u001b[38;5;28mself\u001b[39m\u001b[38;5;241m.\u001b[39mcolumn_mapping)\n\u001b[1;32m    515\u001b[0m \u001b[38;5;28;01mif\u001b[39;00m strategy \u001b[38;5;241m==\u001b[39m \u001b[38;5;124m\"\u001b[39m\u001b[38;5;124meager\u001b[39m\u001b[38;5;124m\"\u001b[39m:\n\u001b[0;32m--> 516\u001b[0m     \u001b[38;5;28;01mreturn\u001b[39;00m \u001b[43mdf\u001b[49m\u001b[38;5;241;43m.\u001b[39;49m\u001b[43mcollect\u001b[49m\u001b[43m(\u001b[49m\u001b[43m)\u001b[49m\n\u001b[1;32m    517\u001b[0m \u001b[38;5;28;01mreturn\u001b[39;00m df\n",
      "File \u001b[0;32m/opt/hostedtoolcache/Python/3.11.5/x64/lib/python3.11/site-packages/polars/utils/deprecation.py:95\u001b[0m, in \u001b[0;36mdeprecate_renamed_parameter.<locals>.decorate.<locals>.wrapper\u001b[0;34m(*args, **kwargs)\u001b[0m\n\u001b[1;32m     90\u001b[0m \u001b[38;5;129m@wraps\u001b[39m(function)\n\u001b[1;32m     91\u001b[0m \u001b[38;5;28;01mdef\u001b[39;00m \u001b[38;5;21mwrapper\u001b[39m(\u001b[38;5;241m*\u001b[39margs: P\u001b[38;5;241m.\u001b[39margs, \u001b[38;5;241m*\u001b[39m\u001b[38;5;241m*\u001b[39mkwargs: P\u001b[38;5;241m.\u001b[39mkwargs) \u001b[38;5;241m-\u001b[39m\u001b[38;5;241m>\u001b[39m T:\n\u001b[1;32m     92\u001b[0m     _rename_keyword_argument(\n\u001b[1;32m     93\u001b[0m         old_name, new_name, kwargs, function\u001b[38;5;241m.\u001b[39m\u001b[38;5;18m__name__\u001b[39m, version\n\u001b[1;32m     94\u001b[0m     )\n\u001b[0;32m---> 95\u001b[0m     \u001b[38;5;28;01mreturn\u001b[39;00m \u001b[43mfunction\u001b[49m\u001b[43m(\u001b[49m\u001b[38;5;241;43m*\u001b[39;49m\u001b[43margs\u001b[49m\u001b[43m,\u001b[49m\u001b[43m \u001b[49m\u001b[38;5;241;43m*\u001b[39;49m\u001b[38;5;241;43m*\u001b[39;49m\u001b[43mkwargs\u001b[49m\u001b[43m)\u001b[49m\n",
      "File \u001b[0;32m/opt/hostedtoolcache/Python/3.11.5/x64/lib/python3.11/site-packages/polars/lazyframe/frame.py:1711\u001b[0m, in \u001b[0;36mLazyFrame.collect\u001b[0;34m(self, type_coercion, predicate_pushdown, projection_pushdown, simplify_expression, no_optimization, slice_pushdown, comm_subplan_elim, comm_subexpr_elim, streaming, **kwargs)\u001b[0m\n\u001b[1;32m   1698\u001b[0m     comm_subplan_elim \u001b[38;5;241m=\u001b[39m \u001b[38;5;28;01mFalse\u001b[39;00m\n\u001b[1;32m   1700\u001b[0m ldf \u001b[38;5;241m=\u001b[39m \u001b[38;5;28mself\u001b[39m\u001b[38;5;241m.\u001b[39m_ldf\u001b[38;5;241m.\u001b[39moptimization_toggle(\n\u001b[1;32m   1701\u001b[0m     type_coercion,\n\u001b[1;32m   1702\u001b[0m     predicate_pushdown,\n\u001b[0;32m   (...)\u001b[0m\n\u001b[1;32m   1709\u001b[0m     eager,\n\u001b[1;32m   1710\u001b[0m )\n\u001b[0;32m-> 1711\u001b[0m \u001b[38;5;28;01mreturn\u001b[39;00m wrap_df(ldf\u001b[38;5;241m.\u001b[39mcollect())\n",
      "\u001b[0;31mComputeError\u001b[0m: AttributeError: 'int' object has no attribute 'encode'"
     ]
    }
   ],
   "source": [
    "from hashlib import sha3_256\n",
    "\n",
    "anon.process(algorithm=lambda x: sha3_256(x.encode()).hexdigest())"
   ]
  }
 ],
 "metadata": {
  "kernelspec": {
   "display_name": "Python 3",
   "language": "python",
   "name": "python3"
  },
  "language_info": {
   "codemirror_mode": {
    "name": "ipython",
    "version": 3
   },
   "file_extension": ".py",
   "mimetype": "text/x-python",
   "name": "python",
   "nbconvert_exporter": "python",
   "pygments_lexer": "ipython3",
   "version": "3.11.5"
  },
  "vscode": {
   "interpreter": {
    "hash": "aee8b7b246df8f9039afb4144a1f6fd8d2ca17a180786b69acc140d282b71a49"
   }
  }
 },
 "nbformat": 4,
 "nbformat_minor": 2
}
