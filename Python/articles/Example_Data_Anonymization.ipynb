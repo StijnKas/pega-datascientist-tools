{
 "cells": [
  {
   "attachments": {},
   "cell_type": "markdown",
   "metadata": {},
   "source": [
    "# Data Anonymization\n",
    "\n",
    "In Pega CDH 8.5 and up, it's now possible to record the historical data as seen by the Adaptive Models. See [this academy challenge](https://academy.pega.com/challenge/exporting-historical-data/v4) for reference. This historical data can be further used to experiment with offline models, but also to fine-tune the OOTB Gradient Boosting model. However, sharing this information with Pega can be sensitive as it contains raw predictor data. \n",
    "\n",
    "To this end, we provide a simple and transparent script to fully anonimize this dataset.\n",
    "\n",
    "The DataAnonymization script is now part of pdstools, and you can import it directly as such."
   ]
  },
  {
   "cell_type": "code",
   "execution_count": 1,
   "metadata": {
    "execution": {
     "iopub.execute_input": "2024-03-06T12:14:58.362043Z",
     "iopub.status.busy": "2024-03-06T12:14:58.361868Z",
     "iopub.status.idle": "2024-03-06T12:14:58.433619Z",
     "shell.execute_reply": "2024-03-06T12:14:58.433140Z"
    },
    "nbsphinx": "hidden"
   },
   "outputs": [],
   "source": [
    "# These lines are only for rendering in the docs, and are hidden through Jupyter tags\n",
    "# Do not run if you're running the notebook seperately\n",
    "\n",
    "import os  \n",
    "import sys\n",
    "import plotly.io as pio\n",
    "pio.renderers.default = \"notebook_connected\"\n",
    "\n",
    "sys.path.append(\"../../../\")\n",
    "sys.path.append('../../python')"
   ]
  },
  {
   "cell_type": "code",
   "execution_count": 2,
   "metadata": {
    "execution": {
     "iopub.execute_input": "2024-03-06T12:14:58.435549Z",
     "iopub.status.busy": "2024-03-06T12:14:58.435337Z",
     "iopub.status.idle": "2024-03-06T12:14:59.436288Z",
     "shell.execute_reply": "2024-03-06T12:14:59.435808Z"
    }
   },
   "outputs": [],
   "source": [
    "from pdstools import ADMDatamart\n",
    "from pdstools import Config, DataAnonymization\n",
    "import polars as pl"
   ]
  },
  {
   "attachments": {},
   "cell_type": "markdown",
   "metadata": {},
   "source": [
    "## Input data\n",
    "\n",
    "To demonstrate this process, we're going to anonymise this toy example dataframe:"
   ]
  },
  {
   "cell_type": "code",
   "execution_count": 3,
   "metadata": {
    "execution": {
     "iopub.execute_input": "2024-03-06T12:14:59.438817Z",
     "iopub.status.busy": "2024-03-06T12:14:59.438385Z",
     "iopub.status.idle": "2024-03-06T12:14:59.446840Z",
     "shell.execute_reply": "2024-03-06T12:14:59.446353Z"
    }
   },
   "outputs": [
    {
     "data": {
      "text/html": [
       "<div><style>\n",
       ".dataframe > thead > tr,\n",
       ".dataframe > tbody > tr {\n",
       "  text-align: right;\n",
       "  white-space: pre-wrap;\n",
       "}\n",
       "</style>\n",
       "<small>shape: (7, 6)</small><table border=\"1\" class=\"dataframe\"><thead><tr><th>Context_Name</th><th>Customer_MaritalStatus</th><th>Customer_CLV</th><th>Customer_City</th><th>IH_Web_Inbound_Accepted_pxLastGroupID</th><th>Decision_Outcome</th></tr><tr><td>str</td><td>str</td><td>i64</td><td>str</td><td>str</td><td>str</td></tr></thead><tbody><tr><td>&quot;FirstMortgage3…</td><td>&quot;Married&quot;</td><td>1460</td><td>&quot;Port Raoul&quot;</td><td>&quot;Account&quot;</td><td>&quot;Rejected&quot;</td></tr><tr><td>&quot;FirstMortgage3…</td><td>&quot;Unknown&quot;</td><td>669</td><td>&quot;Laurianneshire…</td><td>&quot;AutoLoans&quot;</td><td>&quot;Accepted&quot;</td></tr><tr><td>&quot;MoneyMarketSav…</td><td>&quot;No Resp+&quot;</td><td>1174</td><td>&quot;Jacobshaven&quot;</td><td>&quot;Account&quot;</td><td>&quot;Rejected&quot;</td></tr><tr><td>&quot;BasicChecking&quot;</td><td>&quot;Unknown&quot;</td><td>1476</td><td>&quot;Lindton&quot;</td><td>&quot;Account&quot;</td><td>&quot;Rejected&quot;</td></tr><tr><td>&quot;BasicChecking&quot;</td><td>&quot;Married&quot;</td><td>1211</td><td>&quot;South Jimmiesh…</td><td>&quot;DepositAccount…</td><td>&quot;Accepted&quot;</td></tr><tr><td>&quot;UPlusFinPerson…</td><td>&quot;No Resp+&quot;</td><td>533</td><td>&quot;Bergeville&quot;</td><td>null</td><td>&quot;Rejected&quot;</td></tr><tr><td>&quot;BasicChecking&quot;</td><td>&quot;No Resp+&quot;</td><td>555</td><td>&quot;Willyville&quot;</td><td>&quot;DepositAccount…</td><td>&quot;Rejected&quot;</td></tr></tbody></table></div>"
      ],
      "text/plain": [
       "shape: (7, 6)\n",
       "┌────────────────┬────────────────┬──────────────┬────────────────┬────────────────┬───────────────┐\n",
       "│ Context_Name   ┆ Customer_Marit ┆ Customer_CLV ┆ Customer_City  ┆ IH_Web_Inbound ┆ Decision_Outc │\n",
       "│ ---            ┆ alStatus       ┆ ---          ┆ ---            ┆ _Accepted_pxLa ┆ ome           │\n",
       "│ str            ┆ ---            ┆ i64          ┆ str            ┆ stGr…          ┆ ---           │\n",
       "│                ┆ str            ┆              ┆                ┆ ---            ┆ str           │\n",
       "│                ┆                ┆              ┆                ┆ str            ┆               │\n",
       "╞════════════════╪════════════════╪══════════════╪════════════════╪════════════════╪═══════════════╡\n",
       "│ FirstMortgage3 ┆ Married        ┆ 1460         ┆ Port Raoul     ┆ Account        ┆ Rejected      │\n",
       "│ 0yr            ┆                ┆              ┆                ┆                ┆               │\n",
       "│ FirstMortgage3 ┆ Unknown        ┆ 669          ┆ Laurianneshire ┆ AutoLoans      ┆ Accepted      │\n",
       "│ 0yr            ┆                ┆              ┆                ┆                ┆               │\n",
       "│ MoneyMarketSav ┆ No Resp+       ┆ 1174         ┆ Jacobshaven    ┆ Account        ┆ Rejected      │\n",
       "│ ingsAccount    ┆                ┆              ┆                ┆                ┆               │\n",
       "│ BasicChecking  ┆ Unknown        ┆ 1476         ┆ Lindton        ┆ Account        ┆ Rejected      │\n",
       "│ BasicChecking  ┆ Married        ┆ 1211         ┆ South          ┆ DepositAccount ┆ Accepted      │\n",
       "│                ┆                ┆              ┆ Jimmieshire    ┆ s              ┆               │\n",
       "│ UPlusFinPerson ┆ No Resp+       ┆ 533          ┆ Bergeville     ┆ null           ┆ Rejected      │\n",
       "│ al             ┆                ┆              ┆                ┆                ┆               │\n",
       "│ BasicChecking  ┆ No Resp+       ┆ 555          ┆ Willyville     ┆ DepositAccount ┆ Rejected      │\n",
       "│                ┆                ┆              ┆                ┆ s              ┆               │\n",
       "└────────────────┴────────────────┴──────────────┴────────────────┴────────────────┴───────────────┘"
      ]
     },
     "execution_count": 3,
     "metadata": {},
     "output_type": "execute_result"
    }
   ],
   "source": [
    "pl.read_ndjson('../../../../data/SampleHDS.json')"
   ]
  },
  {
   "attachments": {},
   "cell_type": "markdown",
   "metadata": {},
   "source": [
    "As you can see, this dataset consists of regular predictors, IH predictors, context keys and the outcome column. Additionally, some columns are numeric, others are strings. Let's first initialize the DataAnonymization class."
   ]
  },
  {
   "cell_type": "code",
   "execution_count": 4,
   "metadata": {
    "execution": {
     "iopub.execute_input": "2024-03-06T12:14:59.448981Z",
     "iopub.status.busy": "2024-03-06T12:14:59.448646Z",
     "iopub.status.idle": "2024-03-06T12:14:59.454810Z",
     "shell.execute_reply": "2024-03-06T12:14:59.454304Z"
    }
   },
   "outputs": [],
   "source": [
    "anon = DataAnonymization(hds_folder='../../../../data/')"
   ]
  },
  {
   "attachments": {},
   "cell_type": "markdown",
   "metadata": {},
   "source": [
    "By default, the class applies a set of anonymisation techniques:\n",
    "- Column names are remapped to a non-descriptive name\n",
    "- Categorical values are hashed with a random seed\n",
    "- Numerical values are normalized between 0 and 1\n",
    "- Outcomes are mapped to a binary outcome.\n",
    "\n",
    "To apply these techniques, simply call `.process()`:"
   ]
  },
  {
   "cell_type": "code",
   "execution_count": 5,
   "metadata": {
    "execution": {
     "iopub.execute_input": "2024-03-06T12:14:59.457001Z",
     "iopub.status.busy": "2024-03-06T12:14:59.456714Z",
     "iopub.status.idle": "2024-03-06T12:14:59.462174Z",
     "shell.execute_reply": "2024-03-06T12:14:59.461676Z"
    }
   },
   "outputs": [
    {
     "data": {
      "text/html": [
       "<div><style>\n",
       ".dataframe > thead > tr,\n",
       ".dataframe > tbody > tr {\n",
       "  text-align: right;\n",
       "  white-space: pre-wrap;\n",
       "}\n",
       "</style>\n",
       "<small>shape: (7, 7)</small><table border=\"1\" class=\"dataframe\"><thead><tr><th>PREDICTOR_0</th><th>PREDICTOR_1</th><th>filename</th><th>PREDICTOR_3</th><th>Context_Name</th><th>IH_PREDICTOR_0</th><th>Decision_Outcome</th></tr><tr><td>f64</td><td>str</td><td>str</td><td>str</td><td>str</td><td>str</td><td>bool</td></tr></thead><tbody><tr><td>0.983033</td><td>&quot;51585933369835…</td><td>&quot;../../../../da…</td><td>&quot;99509772028913…</td><td>&quot;22232448962725…</td><td>&quot;18139168212793…</td><td>false</td></tr><tr><td>0.144221</td><td>&quot;85533994285117…</td><td>&quot;../../../../da…</td><td>&quot;15921616923949…</td><td>&quot;22232448962725…</td><td>&quot;76495011391599…</td><td>true</td></tr><tr><td>0.679745</td><td>&quot;51557984541960…</td><td>&quot;../../../../da…</td><td>&quot;18083604929271…</td><td>&quot;10934990938420…</td><td>&quot;18139168212793…</td><td>false</td></tr><tr><td>1.0</td><td>&quot;12347774217532…</td><td>&quot;../../../../da…</td><td>&quot;15921616923949…</td><td>&quot;15873639328987…</td><td>&quot;18139168212793…</td><td>false</td></tr><tr><td>0.718982</td><td>&quot;83309963489477…</td><td>&quot;../../../../da…</td><td>&quot;99509772028913…</td><td>&quot;15873639328987…</td><td>&quot;17941186340793…</td><td>true</td></tr><tr><td>0.0</td><td>&quot;38643648639170…</td><td>&quot;../../../../da…</td><td>&quot;18083604929271…</td><td>&quot;10612788061450…</td><td>null</td><td>false</td></tr><tr><td>0.02333</td><td>&quot;16140517136908…</td><td>&quot;../../../../da…</td><td>&quot;18083604929271…</td><td>&quot;15873639328987…</td><td>&quot;17941186340793…</td><td>false</td></tr></tbody></table></div>"
      ],
      "text/plain": [
       "shape: (7, 7)\n",
       "┌─────────────┬──────────────┬─────────────┬─────────────┬─────────────┬─────────────┬─────────────┐\n",
       "│ PREDICTOR_0 ┆ PREDICTOR_1  ┆ filename    ┆ PREDICTOR_3 ┆ Context_Nam ┆ IH_PREDICTO ┆ Decision_Ou │\n",
       "│ ---         ┆ ---          ┆ ---         ┆ ---         ┆ e           ┆ R_0         ┆ tcome       │\n",
       "│ f64         ┆ str          ┆ str         ┆ str         ┆ ---         ┆ ---         ┆ ---         │\n",
       "│             ┆              ┆             ┆             ┆ str         ┆ str         ┆ bool        │\n",
       "╞═════════════╪══════════════╪═════════════╪═════════════╪═════════════╪═════════════╪═════════════╡\n",
       "│ 0.983033    ┆ 515859333698 ┆ ../../../.. ┆ 99509772028 ┆ 22232448962 ┆ 18139168212 ┆ false       │\n",
       "│             ┆ 3554912      ┆ /data/Sampl ┆ 91343802    ┆ 72512460    ┆ 793483361   ┆             │\n",
       "│             ┆              ┆ eHDS.json   ┆             ┆             ┆             ┆             │\n",
       "│ 0.144221    ┆ 855339942851 ┆ ../../../.. ┆ 15921616923 ┆ 22232448962 ┆ 76495011391 ┆ true        │\n",
       "│             ┆ 1762090      ┆ /data/Sampl ┆ 949447525   ┆ 72512460    ┆ 59969387    ┆             │\n",
       "│             ┆              ┆ eHDS.json   ┆             ┆             ┆             ┆             │\n",
       "│ 0.679745    ┆ 515579845419 ┆ ../../../.. ┆ 18083604929 ┆ 10934990938 ┆ 18139168212 ┆ false       │\n",
       "│             ┆ 6003637      ┆ /data/Sampl ┆ 27168629    ┆ 420309674   ┆ 793483361   ┆             │\n",
       "│             ┆              ┆ eHDS.json   ┆             ┆             ┆             ┆             │\n",
       "│ 1.0         ┆ 123477742175 ┆ ../../../.. ┆ 15921616923 ┆ 15873639328 ┆ 18139168212 ┆ false       │\n",
       "│             ┆ 32750362     ┆ /data/Sampl ┆ 949447525   ┆ 98705998    ┆ 793483361   ┆             │\n",
       "│             ┆              ┆ eHDS.json   ┆             ┆             ┆             ┆             │\n",
       "│ 0.718982    ┆ 833099634894 ┆ ../../../.. ┆ 99509772028 ┆ 15873639328 ┆ 17941186340 ┆ true        │\n",
       "│             ┆ 7704068      ┆ /data/Sampl ┆ 91343802    ┆ 98705998    ┆ 793139668   ┆             │\n",
       "│             ┆              ┆ eHDS.json   ┆             ┆             ┆             ┆             │\n",
       "│ 0.0         ┆ 386436486391 ┆ ../../../.. ┆ 18083604929 ┆ 10612788061 ┆ null        ┆ false       │\n",
       "│             ┆ 7056738      ┆ /data/Sampl ┆ 27168629    ┆ 450136864   ┆             ┆             │\n",
       "│             ┆              ┆ eHDS.json   ┆             ┆             ┆             ┆             │\n",
       "│ 0.02333     ┆ 161405171369 ┆ ../../../.. ┆ 18083604929 ┆ 15873639328 ┆ 17941186340 ┆ false       │\n",
       "│             ┆ 08241957     ┆ /data/Sampl ┆ 27168629    ┆ 98705998    ┆ 793139668   ┆             │\n",
       "│             ┆              ┆ eHDS.json   ┆             ┆             ┆             ┆             │\n",
       "└─────────────┴──────────────┴─────────────┴─────────────┴─────────────┴─────────────┴─────────────┘"
      ]
     },
     "execution_count": 5,
     "metadata": {},
     "output_type": "execute_result"
    }
   ],
   "source": [
    "anon.process()"
   ]
  },
  {
   "attachments": {},
   "cell_type": "markdown",
   "metadata": {},
   "source": [
    "To trace back the columns to their original names, the class also contains a mapping, which does not have to be provided."
   ]
  },
  {
   "cell_type": "code",
   "execution_count": 6,
   "metadata": {
    "execution": {
     "iopub.execute_input": "2024-03-06T12:14:59.464264Z",
     "iopub.status.busy": "2024-03-06T12:14:59.463935Z",
     "iopub.status.idle": "2024-03-06T12:14:59.467567Z",
     "shell.execute_reply": "2024-03-06T12:14:59.467101Z"
    }
   },
   "outputs": [
    {
     "data": {
      "text/plain": [
       "{'Customer_CLV': 'PREDICTOR_0',\n",
       " 'Customer_City': 'PREDICTOR_1',\n",
       " 'filename': 'filename',\n",
       " 'Customer_MaritalStatus': 'PREDICTOR_3',\n",
       " 'Context_Name': 'Context_Name',\n",
       " 'IH_Web_Inbound_Accepted_pxLastGroupID': 'IH_PREDICTOR_0',\n",
       " 'Decision_Outcome': 'Decision_Outcome'}"
      ]
     },
     "execution_count": 6,
     "metadata": {},
     "output_type": "execute_result"
    }
   ],
   "source": [
    "anon.column_mapping"
   ]
  },
  {
   "attachments": {},
   "cell_type": "markdown",
   "metadata": {},
   "source": [
    "## Configs\n",
    "\n",
    "Each capability can optionally be turned off - see below for the full list of config options, and refer to the API reference for the full description."
   ]
  },
  {
   "cell_type": "code",
   "execution_count": 7,
   "metadata": {
    "execution": {
     "iopub.execute_input": "2024-03-06T12:14:59.469557Z",
     "iopub.status.busy": "2024-03-06T12:14:59.469243Z",
     "iopub.status.idle": "2024-03-06T12:14:59.473180Z",
     "shell.execute_reply": "2024-03-06T12:14:59.472765Z"
    }
   },
   "outputs": [
    {
     "data": {
      "text/plain": [
       "{'config_file': None,\n",
       " 'hds_folder': '.',\n",
       " 'use_datamart': False,\n",
       " 'datamart_folder': 'datamart',\n",
       " 'output_format': 'ndjson',\n",
       " 'output_folder': 'output',\n",
       " 'mapping_file': 'mapping.map',\n",
       " 'mask_predictor_names': True,\n",
       " 'mask_context_key_names': False,\n",
       " 'mask_ih_names': True,\n",
       " 'mask_outcome_name': False,\n",
       " 'mask_predictor_values': True,\n",
       " 'mask_context_key_values': True,\n",
       " 'mask_ih_values': True,\n",
       " 'mask_outcome_values': True,\n",
       " 'context_key_label': 'Context_*',\n",
       " 'ih_label': 'IH_*',\n",
       " 'outcome_column': 'Decision_Outcome',\n",
       " 'positive_outcomes': ['Accepted', 'Clicked'],\n",
       " 'negative_outcomes': ['Rejected', 'Impression'],\n",
       " 'special_predictors': ['Decision_DecisionTime',\n",
       "  'Decision_OutcomeTime',\n",
       "  'Decision_Rank'],\n",
       " 'sample_percentage_schema_inferencing': 0.01}"
      ]
     },
     "execution_count": 7,
     "metadata": {},
     "output_type": "execute_result"
    }
   ],
   "source": [
    "dict(zip(Config.__init__.__code__.co_varnames[1:], Config.__init__.__defaults__))"
   ]
  },
  {
   "attachments": {},
   "cell_type": "markdown",
   "metadata": {},
   "source": [
    "It's easy to change these parameters by just passing the keyword arguments. In the following example, we\n",
    "- Keep the IH predictor names\n",
    "- Keep the outcome values\n",
    "- Keep the context key values\n",
    "- Keep the context key predictor names"
   ]
  },
  {
   "cell_type": "code",
   "execution_count": 8,
   "metadata": {
    "execution": {
     "iopub.execute_input": "2024-03-06T12:14:59.475153Z",
     "iopub.status.busy": "2024-03-06T12:14:59.474762Z",
     "iopub.status.idle": "2024-03-06T12:14:59.482827Z",
     "shell.execute_reply": "2024-03-06T12:14:59.482378Z"
    }
   },
   "outputs": [
    {
     "data": {
      "text/html": [
       "<div><style>\n",
       ".dataframe > thead > tr,\n",
       ".dataframe > tbody > tr {\n",
       "  text-align: right;\n",
       "  white-space: pre-wrap;\n",
       "}\n",
       "</style>\n",
       "<small>shape: (7, 7)</small><table border=\"1\" class=\"dataframe\"><thead><tr><th>PREDICTOR_0</th><th>PREDICTOR_1</th><th>filename</th><th>PREDICTOR_3</th><th>Context_Name</th><th>IH_Web_Inbound_Accepted_pxLastGroupID</th><th>Decision_Outcome</th></tr><tr><td>f64</td><td>str</td><td>str</td><td>str</td><td>str</td><td>str</td><td>str</td></tr></thead><tbody><tr><td>0.983033</td><td>&quot;95295048530337…</td><td>&quot;../../../../da…</td><td>&quot;83685757736966…</td><td>&quot;FirstMortgage3…</td><td>&quot;85047497110486…</td><td>&quot;Rejected&quot;</td></tr><tr><td>0.144221</td><td>&quot;13413080477887…</td><td>&quot;../../../../da…</td><td>&quot;11012914501520…</td><td>&quot;FirstMortgage3…</td><td>&quot;15644992478553…</td><td>&quot;Accepted&quot;</td></tr><tr><td>0.679745</td><td>&quot;30662688562368…</td><td>&quot;../../../../da…</td><td>&quot;12010942535853…</td><td>&quot;MoneyMarketSav…</td><td>&quot;85047497110486…</td><td>&quot;Rejected&quot;</td></tr><tr><td>1.0</td><td>&quot;50547049352902…</td><td>&quot;../../../../da…</td><td>&quot;11012914501520…</td><td>&quot;BasicChecking&quot;</td><td>&quot;85047497110486…</td><td>&quot;Rejected&quot;</td></tr><tr><td>0.718982</td><td>&quot;11170158208896…</td><td>&quot;../../../../da…</td><td>&quot;83685757736966…</td><td>&quot;BasicChecking&quot;</td><td>&quot;13810286948283…</td><td>&quot;Accepted&quot;</td></tr><tr><td>0.0</td><td>&quot;96135144667790…</td><td>&quot;../../../../da…</td><td>&quot;12010942535853…</td><td>&quot;UPlusFinPerson…</td><td>null</td><td>&quot;Rejected&quot;</td></tr><tr><td>0.02333</td><td>&quot;17095056824866…</td><td>&quot;../../../../da…</td><td>&quot;12010942535853…</td><td>&quot;BasicChecking&quot;</td><td>&quot;13810286948283…</td><td>&quot;Rejected&quot;</td></tr></tbody></table></div>"
      ],
      "text/plain": [
       "shape: (7, 7)\n",
       "┌─────────────┬──────────────┬─────────────┬─────────────┬─────────────┬─────────────┬─────────────┐\n",
       "│ PREDICTOR_0 ┆ PREDICTOR_1  ┆ filename    ┆ PREDICTOR_3 ┆ Context_Nam ┆ IH_Web_Inbo ┆ Decision_Ou │\n",
       "│ ---         ┆ ---          ┆ ---         ┆ ---         ┆ e           ┆ und_Accepte ┆ tcome       │\n",
       "│ f64         ┆ str          ┆ str         ┆ str         ┆ ---         ┆ d_pxLastGr… ┆ ---         │\n",
       "│             ┆              ┆             ┆             ┆ str         ┆ ---         ┆ str         │\n",
       "│             ┆              ┆             ┆             ┆             ┆ str         ┆             │\n",
       "╞═════════════╪══════════════╪═════════════╪═════════════╪═════════════╪═════════════╪═════════════╡\n",
       "│ 0.983033    ┆ 952950485303 ┆ ../../../.. ┆ 83685757736 ┆ FirstMortga ┆ 85047497110 ┆ Rejected    │\n",
       "│             ┆ 3777300      ┆ /data/Sampl ┆ 96647732    ┆ ge30yr      ┆ 48621878    ┆             │\n",
       "│             ┆              ┆ eHDS.json   ┆             ┆             ┆             ┆             │\n",
       "│ 0.144221    ┆ 134130804778 ┆ ../../../.. ┆ 11012914501 ┆ FirstMortga ┆ 15644992478 ┆ Accepted    │\n",
       "│             ┆ 87282754     ┆ /data/Sampl ┆ 520564697   ┆ ge30yr      ┆ 553198002   ┆             │\n",
       "│             ┆              ┆ eHDS.json   ┆             ┆             ┆             ┆             │\n",
       "│ 0.679745    ┆ 306626885623 ┆ ../../../.. ┆ 12010942535 ┆ MoneyMarket ┆ 85047497110 ┆ Rejected    │\n",
       "│             ┆ 680099       ┆ /data/Sampl ┆ 853156833   ┆ SavingsAcco ┆ 48621878    ┆             │\n",
       "│             ┆              ┆ eHDS.json   ┆             ┆ unt         ┆             ┆             │\n",
       "│ 1.0         ┆ 505470493529 ┆ ../../../.. ┆ 11012914501 ┆ BasicChecki ┆ 85047497110 ┆ Rejected    │\n",
       "│             ┆ 0247134      ┆ /data/Sampl ┆ 520564697   ┆ ng          ┆ 48621878    ┆             │\n",
       "│             ┆              ┆ eHDS.json   ┆             ┆             ┆             ┆             │\n",
       "│ 0.718982    ┆ 111701582088 ┆ ../../../.. ┆ 83685757736 ┆ BasicChecki ┆ 13810286948 ┆ Accepted    │\n",
       "│             ┆ 96131561     ┆ /data/Sampl ┆ 96647732    ┆ ng          ┆ 283627456   ┆             │\n",
       "│             ┆              ┆ eHDS.json   ┆             ┆             ┆             ┆             │\n",
       "│ 0.0         ┆ 961351446677 ┆ ../../../.. ┆ 12010942535 ┆ UPlusFinPer ┆ null        ┆ Rejected    │\n",
       "│             ┆ 9063234      ┆ /data/Sampl ┆ 853156833   ┆ sonal       ┆             ┆             │\n",
       "│             ┆              ┆ eHDS.json   ┆             ┆             ┆             ┆             │\n",
       "│ 0.02333     ┆ 170950568248 ┆ ../../../.. ┆ 12010942535 ┆ BasicChecki ┆ 13810286948 ┆ Rejected    │\n",
       "│             ┆ 66579549     ┆ /data/Sampl ┆ 853156833   ┆ ng          ┆ 283627456   ┆             │\n",
       "│             ┆              ┆ eHDS.json   ┆             ┆             ┆             ┆             │\n",
       "└─────────────┴──────────────┴─────────────┴─────────────┴─────────────┴─────────────┴─────────────┘"
      ]
     },
     "execution_count": 8,
     "metadata": {},
     "output_type": "execute_result"
    }
   ],
   "source": [
    "anon = DataAnonymization(\n",
    "    hds_folder=\"../../../../data/\",\n",
    "    mask_ih_names=False,\n",
    "    mask_outcome_values=False,\n",
    "    mask_context_key_values=False,\n",
    "    mask_context_key_names=False,\n",
    ")\n",
    "anon.process()\n"
   ]
  },
  {
   "attachments": {},
   "cell_type": "markdown",
   "metadata": {},
   "source": [
    "The configs can also be written and read as such:"
   ]
  },
  {
   "cell_type": "code",
   "execution_count": 9,
   "metadata": {
    "execution": {
     "iopub.execute_input": "2024-03-06T12:14:59.484823Z",
     "iopub.status.busy": "2024-03-06T12:14:59.484490Z",
     "iopub.status.idle": "2024-03-06T12:14:59.487195Z",
     "shell.execute_reply": "2024-03-06T12:14:59.486776Z"
    }
   },
   "outputs": [],
   "source": [
    "anon.config.save_to_config_file('config.json')"
   ]
  },
  {
   "cell_type": "code",
   "execution_count": 10,
   "metadata": {
    "execution": {
     "iopub.execute_input": "2024-03-06T12:14:59.489152Z",
     "iopub.status.busy": "2024-03-06T12:14:59.488835Z",
     "iopub.status.idle": "2024-03-06T12:14:59.496309Z",
     "shell.execute_reply": "2024-03-06T12:14:59.495776Z"
    }
   },
   "outputs": [
    {
     "data": {
      "text/html": [
       "<div><style>\n",
       ".dataframe > thead > tr,\n",
       ".dataframe > tbody > tr {\n",
       "  text-align: right;\n",
       "  white-space: pre-wrap;\n",
       "}\n",
       "</style>\n",
       "<small>shape: (7, 7)</small><table border=\"1\" class=\"dataframe\"><thead><tr><th>PREDICTOR_0</th><th>PREDICTOR_1</th><th>filename</th><th>PREDICTOR_3</th><th>Context_Name</th><th>IH_Web_Inbound_Accepted_pxLastGroupID</th><th>Decision_Outcome</th></tr><tr><td>f64</td><td>str</td><td>str</td><td>str</td><td>str</td><td>str</td><td>str</td></tr></thead><tbody><tr><td>0.983033</td><td>&quot;38775720436695…</td><td>&quot;../../../../da…</td><td>&quot;60185834613339…</td><td>&quot;FirstMortgage3…</td><td>&quot;39855038393624…</td><td>&quot;Rejected&quot;</td></tr><tr><td>0.144221</td><td>&quot;11399984264696…</td><td>&quot;../../../../da…</td><td>&quot;12442337792475…</td><td>&quot;FirstMortgage3…</td><td>&quot;64572842490800…</td><td>&quot;Accepted&quot;</td></tr><tr><td>0.679745</td><td>&quot;11264913165012…</td><td>&quot;../../../../da…</td><td>&quot;10802019064565…</td><td>&quot;MoneyMarketSav…</td><td>&quot;39855038393624…</td><td>&quot;Rejected&quot;</td></tr><tr><td>1.0</td><td>&quot;15982583584031…</td><td>&quot;../../../../da…</td><td>&quot;12442337792475…</td><td>&quot;BasicChecking&quot;</td><td>&quot;39855038393624…</td><td>&quot;Rejected&quot;</td></tr><tr><td>0.718982</td><td>&quot;78655470183522…</td><td>&quot;../../../../da…</td><td>&quot;60185834613339…</td><td>&quot;BasicChecking&quot;</td><td>&quot;18005021064119…</td><td>&quot;Accepted&quot;</td></tr><tr><td>0.0</td><td>&quot;41006505983552…</td><td>&quot;../../../../da…</td><td>&quot;10802019064565…</td><td>&quot;UPlusFinPerson…</td><td>null</td><td>&quot;Rejected&quot;</td></tr><tr><td>0.02333</td><td>&quot;16846325101069…</td><td>&quot;../../../../da…</td><td>&quot;10802019064565…</td><td>&quot;BasicChecking&quot;</td><td>&quot;18005021064119…</td><td>&quot;Rejected&quot;</td></tr></tbody></table></div>"
      ],
      "text/plain": [
       "shape: (7, 7)\n",
       "┌─────────────┬──────────────┬─────────────┬─────────────┬─────────────┬─────────────┬─────────────┐\n",
       "│ PREDICTOR_0 ┆ PREDICTOR_1  ┆ filename    ┆ PREDICTOR_3 ┆ Context_Nam ┆ IH_Web_Inbo ┆ Decision_Ou │\n",
       "│ ---         ┆ ---          ┆ ---         ┆ ---         ┆ e           ┆ und_Accepte ┆ tcome       │\n",
       "│ f64         ┆ str          ┆ str         ┆ str         ┆ ---         ┆ d_pxLastGr… ┆ ---         │\n",
       "│             ┆              ┆             ┆             ┆ str         ┆ ---         ┆ str         │\n",
       "│             ┆              ┆             ┆             ┆             ┆ str         ┆             │\n",
       "╞═════════════╪══════════════╪═════════════╪═════════════╪═════════════╪═════════════╪═════════════╡\n",
       "│ 0.983033    ┆ 387757204366 ┆ ../../../.. ┆ 60185834613 ┆ FirstMortga ┆ 39855038393 ┆ Rejected    │\n",
       "│             ┆ 9563488      ┆ /data/Sampl ┆ 33977737    ┆ ge30yr      ┆ 62402739    ┆             │\n",
       "│             ┆              ┆ eHDS.json   ┆             ┆             ┆             ┆             │\n",
       "│ 0.144221    ┆ 113999842646 ┆ ../../../.. ┆ 12442337792 ┆ FirstMortga ┆ 64572842490 ┆ Accepted    │\n",
       "│             ┆ 96888566     ┆ /data/Sampl ┆ 475370158   ┆ ge30yr      ┆ 80077092    ┆             │\n",
       "│             ┆              ┆ eHDS.json   ┆             ┆             ┆             ┆             │\n",
       "│ 0.679745    ┆ 112649131650 ┆ ../../../.. ┆ 10802019064 ┆ MoneyMarket ┆ 39855038393 ┆ Rejected    │\n",
       "│             ┆ 12824126     ┆ /data/Sampl ┆ 565039172   ┆ SavingsAcco ┆ 62402739    ┆             │\n",
       "│             ┆              ┆ eHDS.json   ┆             ┆ unt         ┆             ┆             │\n",
       "│ 1.0         ┆ 159825835840 ┆ ../../../.. ┆ 12442337792 ┆ BasicChecki ┆ 39855038393 ┆ Rejected    │\n",
       "│             ┆ 31668561     ┆ /data/Sampl ┆ 475370158   ┆ ng          ┆ 62402739    ┆             │\n",
       "│             ┆              ┆ eHDS.json   ┆             ┆             ┆             ┆             │\n",
       "│ 0.718982    ┆ 786554701835 ┆ ../../../.. ┆ 60185834613 ┆ BasicChecki ┆ 18005021064 ┆ Accepted    │\n",
       "│             ┆ 2236852      ┆ /data/Sampl ┆ 33977737    ┆ ng          ┆ 119319243   ┆             │\n",
       "│             ┆              ┆ eHDS.json   ┆             ┆             ┆             ┆             │\n",
       "│ 0.0         ┆ 410065059835 ┆ ../../../.. ┆ 10802019064 ┆ UPlusFinPer ┆ null        ┆ Rejected    │\n",
       "│             ┆ 5261467      ┆ /data/Sampl ┆ 565039172   ┆ sonal       ┆             ┆             │\n",
       "│             ┆              ┆ eHDS.json   ┆             ┆             ┆             ┆             │\n",
       "│ 0.02333     ┆ 168463251010 ┆ ../../../.. ┆ 10802019064 ┆ BasicChecki ┆ 18005021064 ┆ Rejected    │\n",
       "│             ┆ 69801710     ┆ /data/Sampl ┆ 565039172   ┆ ng          ┆ 119319243   ┆             │\n",
       "│             ┆              ┆ eHDS.json   ┆             ┆             ┆             ┆             │\n",
       "└─────────────┴──────────────┴─────────────┴─────────────┴─────────────┴─────────────┴─────────────┘"
      ]
     },
     "execution_count": 10,
     "metadata": {},
     "output_type": "execute_result"
    }
   ],
   "source": [
    "anon = DataAnonymization(config=Config(config_file='config.json'))\n",
    "anon.process()"
   ]
  },
  {
   "attachments": {},
   "cell_type": "markdown",
   "metadata": {},
   "source": [
    "## Exporting\n",
    "Two functions export:\n",
    "- `create_mapping_file()` writes the mapping file of the predictor names\n",
    "- `write_to_output()` writes the processed dataframe to disk\n",
    "\n",
    "Write to output accepts the following extensions: `[\"ndjson\", \"parquet\", \"arrow\", \"csv\"]`"
   ]
  },
  {
   "cell_type": "code",
   "execution_count": 11,
   "metadata": {
    "execution": {
     "iopub.execute_input": "2024-03-06T12:14:59.498264Z",
     "iopub.status.busy": "2024-03-06T12:14:59.498008Z",
     "iopub.status.idle": "2024-03-06T12:14:59.501571Z",
     "shell.execute_reply": "2024-03-06T12:14:59.501130Z"
    }
   },
   "outputs": [
    {
     "name": "stdout",
     "output_type": "stream",
     "text": [
      "Customer_CLV=PREDICTOR_0\n",
      "Customer_City=PREDICTOR_1\n",
      "filename=filename\n",
      "Customer_MaritalStatus=PREDICTOR_3\n",
      "Context_Name=Context_Name\n",
      "IH_Web_Inbound_Accepted_pxLastGroupID=IH_Web_Inbound_Accepted_pxLastGroupID\n",
      "Decision_Outcome=Decision_Outcome\n",
      "\n"
     ]
    }
   ],
   "source": [
    "anon.create_mapping_file()\n",
    "with open('mapping.map') as f:\n",
    "    print(f.read())"
   ]
  },
  {
   "cell_type": "code",
   "execution_count": 12,
   "metadata": {
    "execution": {
     "iopub.execute_input": "2024-03-06T12:14:59.503501Z",
     "iopub.status.busy": "2024-03-06T12:14:59.503163Z",
     "iopub.status.idle": "2024-03-06T12:14:59.506555Z",
     "shell.execute_reply": "2024-03-06T12:14:59.506133Z"
    }
   },
   "outputs": [],
   "source": [
    "anon.write_to_output(ext='arrow')"
   ]
  },
  {
   "cell_type": "code",
   "execution_count": 13,
   "metadata": {
    "execution": {
     "iopub.execute_input": "2024-03-06T12:14:59.508516Z",
     "iopub.status.busy": "2024-03-06T12:14:59.508198Z",
     "iopub.status.idle": "2024-03-06T12:14:59.512427Z",
     "shell.execute_reply": "2024-03-06T12:14:59.511930Z"
    }
   },
   "outputs": [
    {
     "data": {
      "text/html": [
       "<div><style>\n",
       ".dataframe > thead > tr,\n",
       ".dataframe > tbody > tr {\n",
       "  text-align: right;\n",
       "  white-space: pre-wrap;\n",
       "}\n",
       "</style>\n",
       "<small>shape: (7, 6)</small><table border=\"1\" class=\"dataframe\"><thead><tr><th>PREDICTOR_0</th><th>PREDICTOR_1</th><th>PREDICTOR_3</th><th>Context_Name</th><th>IH_Web_Inbound_Accepted_pxLastGroupID</th><th>Decision_Outcome</th></tr><tr><td>f64</td><td>str</td><td>str</td><td>str</td><td>str</td><td>str</td></tr></thead><tbody><tr><td>0.983033</td><td>&quot;62093788862504…</td><td>&quot;18015818055917…</td><td>&quot;FirstMortgage3…</td><td>&quot;31764776618380…</td><td>&quot;Rejected&quot;</td></tr><tr><td>0.144221</td><td>&quot;10838713893797…</td><td>&quot;10559713617607…</td><td>&quot;FirstMortgage3…</td><td>&quot;24918016672267…</td><td>&quot;Accepted&quot;</td></tr><tr><td>0.679745</td><td>&quot;28078905196156…</td><td>&quot;18694154122873…</td><td>&quot;MoneyMarketSav…</td><td>&quot;31764776618380…</td><td>&quot;Rejected&quot;</td></tr><tr><td>1.0</td><td>&quot;73021557420742…</td><td>&quot;10559713617607…</td><td>&quot;BasicChecking&quot;</td><td>&quot;31764776618380…</td><td>&quot;Rejected&quot;</td></tr><tr><td>0.718982</td><td>&quot;13498441168172…</td><td>&quot;18015818055917…</td><td>&quot;BasicChecking&quot;</td><td>&quot;10494708626470…</td><td>&quot;Accepted&quot;</td></tr><tr><td>0.0</td><td>&quot;91656915348690…</td><td>&quot;18694154122873…</td><td>&quot;UPlusFinPerson…</td><td>null</td><td>&quot;Rejected&quot;</td></tr><tr><td>0.02333</td><td>&quot;93403787066057…</td><td>&quot;18694154122873…</td><td>&quot;BasicChecking&quot;</td><td>&quot;10494708626470…</td><td>&quot;Rejected&quot;</td></tr></tbody></table></div>"
      ],
      "text/plain": [
       "shape: (7, 6)\n",
       "┌─────────────┬────────────────┬────────────────┬────────────────┬────────────────┬────────────────┐\n",
       "│ PREDICTOR_0 ┆ PREDICTOR_1    ┆ PREDICTOR_3    ┆ Context_Name   ┆ IH_Web_Inbound ┆ Decision_Outco │\n",
       "│ ---         ┆ ---            ┆ ---            ┆ ---            ┆ _Accepted_pxLa ┆ me             │\n",
       "│ f64         ┆ str            ┆ str            ┆ str            ┆ stGr…          ┆ ---            │\n",
       "│             ┆                ┆                ┆                ┆ ---            ┆ str            │\n",
       "│             ┆                ┆                ┆                ┆ str            ┆                │\n",
       "╞═════════════╪════════════════╪════════════════╪════════════════╪════════════════╪════════════════╡\n",
       "│ 0.983033    ┆ 62093788862504 ┆ 18015818055917 ┆ FirstMortgage3 ┆ 31764776618380 ┆ Rejected       │\n",
       "│             ┆ 8311           ┆ 28370          ┆ 0yr            ┆ 67029          ┆                │\n",
       "│ 0.144221    ┆ 10838713893797 ┆ 10559713617607 ┆ FirstMortgage3 ┆ 24918016672267 ┆ Accepted       │\n",
       "│             ┆ 459293         ┆ 219445         ┆ 0yr            ┆ 5094           ┆                │\n",
       "│ 0.679745    ┆ 28078905196156 ┆ 18694154122873 ┆ MoneyMarketSav ┆ 31764776618380 ┆ Rejected       │\n",
       "│             ┆ 00309          ┆ 54523          ┆ ingsAccount    ┆ 67029          ┆                │\n",
       "│ 1.0         ┆ 73021557420742 ┆ 10559713617607 ┆ BasicChecking  ┆ 31764776618380 ┆ Rejected       │\n",
       "│             ┆ 91514          ┆ 219445         ┆                ┆ 67029          ┆                │\n",
       "│ 0.718982    ┆ 13498441168172 ┆ 18015818055917 ┆ BasicChecking  ┆ 10494708626470 ┆ Accepted       │\n",
       "│             ┆ 943579         ┆ 28370          ┆                ┆ 802783         ┆                │\n",
       "│ 0.0         ┆ 91656915348690 ┆ 18694154122873 ┆ UPlusFinPerson ┆ null           ┆ Rejected       │\n",
       "│             ┆ 82554          ┆ 54523          ┆ al             ┆                ┆                │\n",
       "│ 0.02333     ┆ 93403787066057 ┆ 18694154122873 ┆ BasicChecking  ┆ 10494708626470 ┆ Rejected       │\n",
       "│             ┆ 40898          ┆ 54523          ┆                ┆ 802783         ┆                │\n",
       "└─────────────┴────────────────┴────────────────┴────────────────┴────────────────┴────────────────┘"
      ]
     },
     "execution_count": 13,
     "metadata": {},
     "output_type": "execute_result"
    }
   ],
   "source": [
    "pl.read_ipc('output/hds.arrow')"
   ]
  },
  {
   "attachments": {},
   "cell_type": "markdown",
   "metadata": {
    "nbsphinx": "hidden"
   },
   "source": [
    "## Advanced: Hash fuctions\n",
    "\n",
    "By default, we use [the same hashing algorithm Polars](https://pola-rs.github.io/polars/py-polars/html/reference/expressions/api/polars.Expr.hash.html#polars.Expr.hash) uses: [xxhash](https://github.com/Cyan4973/xxHash), as implemented [here](https://github.com/pola-rs/polars/blob/3f287f370b3c388ed2f3f218b2c096382548136f/polars/polars-core/src/vector_hasher.rs#L266). xxhash is fast to compute, and you can check its performance in collision, dispersion and randomness [here](https://github.com/Cyan4973/xxHash/tree/dev/tests). \n",
    "\n",
    "xxhash accepts four distinct seeds, but by default we set the seeds to `0`. It is possible to set the `seed` argument of the `process()` function to `'random'`, which will set all four seeds to a random integer between `0` and `1000000000`. Alternatively, it is possible to supply the four seeds manually with arguments `seed`, `seed_1`, `seed_2` and `seed_3`. \n",
    "\n",
    "If the xxhash with (random) seed(s) is not deemed sufficiently secure, it is possible to use your own hashing algorithm.\n",
    "\n",
    "Note that since we're now running python code and not native Polars code anymore, this will be _significantly_ slower. Nonetheless, it is possible.\n",
    "\n",
    "Just as an example - this is how one would use sha3_256:"
   ]
  },
  {
   "cell_type": "code",
   "execution_count": 14,
   "metadata": {
    "execution": {
     "iopub.execute_input": "2024-03-06T12:14:59.514390Z",
     "iopub.status.busy": "2024-03-06T12:14:59.514081Z",
     "iopub.status.idle": "2024-03-06T12:14:59.521120Z",
     "shell.execute_reply": "2024-03-06T12:14:59.520616Z"
    },
    "nbsphinx": "hidden"
   },
   "outputs": [
    {
     "data": {
      "text/html": [
       "<div><style>\n",
       ".dataframe > thead > tr,\n",
       ".dataframe > tbody > tr {\n",
       "  text-align: right;\n",
       "  white-space: pre-wrap;\n",
       "}\n",
       "</style>\n",
       "<small>shape: (7, 7)</small><table border=\"1\" class=\"dataframe\"><thead><tr><th>PREDICTOR_0</th><th>PREDICTOR_1</th><th>filename</th><th>PREDICTOR_3</th><th>Context_Name</th><th>IH_Web_Inbound_Accepted_pxLastGroupID</th><th>Decision_Outcome</th></tr><tr><td>f64</td><td>str</td><td>str</td><td>str</td><td>str</td><td>str</td><td>str</td></tr></thead><tbody><tr><td>0.983033</td><td>&quot;c73023dda51de1…</td><td>&quot;../../../../da…</td><td>&quot;af486bc1815c72…</td><td>&quot;FirstMortgage3…</td><td>&quot;2513d0e24d8d02…</td><td>&quot;Rejected&quot;</td></tr><tr><td>0.144221</td><td>&quot;5414b197fb87b3…</td><td>&quot;../../../../da…</td><td>&quot;3cdf7b1ae1342e…</td><td>&quot;FirstMortgage3…</td><td>&quot;8b55bf62fc2ecd…</td><td>&quot;Accepted&quot;</td></tr><tr><td>0.679745</td><td>&quot;892f5d61a9215e…</td><td>&quot;../../../../da…</td><td>&quot;806ef34eb8237f…</td><td>&quot;MoneyMarketSav…</td><td>&quot;2513d0e24d8d02…</td><td>&quot;Rejected&quot;</td></tr><tr><td>1.0</td><td>&quot;c3aa807d9e927a…</td><td>&quot;../../../../da…</td><td>&quot;3cdf7b1ae1342e…</td><td>&quot;BasicChecking&quot;</td><td>&quot;2513d0e24d8d02…</td><td>&quot;Rejected&quot;</td></tr><tr><td>0.718982</td><td>&quot;c2d492f9a05073…</td><td>&quot;../../../../da…</td><td>&quot;af486bc1815c72…</td><td>&quot;BasicChecking&quot;</td><td>&quot;1cd082ecbd5dd9…</td><td>&quot;Accepted&quot;</td></tr><tr><td>0.0</td><td>&quot;b21059221605c4…</td><td>&quot;../../../../da…</td><td>&quot;806ef34eb8237f…</td><td>&quot;UPlusFinPerson…</td><td>null</td><td>&quot;Rejected&quot;</td></tr><tr><td>0.02333</td><td>&quot;80cbe489dcecd4…</td><td>&quot;../../../../da…</td><td>&quot;806ef34eb8237f…</td><td>&quot;BasicChecking&quot;</td><td>&quot;1cd082ecbd5dd9…</td><td>&quot;Rejected&quot;</td></tr></tbody></table></div>"
      ],
      "text/plain": [
       "shape: (7, 7)\n",
       "┌─────────────┬──────────────┬─────────────┬─────────────┬─────────────┬─────────────┬─────────────┐\n",
       "│ PREDICTOR_0 ┆ PREDICTOR_1  ┆ filename    ┆ PREDICTOR_3 ┆ Context_Nam ┆ IH_Web_Inbo ┆ Decision_Ou │\n",
       "│ ---         ┆ ---          ┆ ---         ┆ ---         ┆ e           ┆ und_Accepte ┆ tcome       │\n",
       "│ f64         ┆ str          ┆ str         ┆ str         ┆ ---         ┆ d_pxLastGr… ┆ ---         │\n",
       "│             ┆              ┆             ┆             ┆ str         ┆ ---         ┆ str         │\n",
       "│             ┆              ┆             ┆             ┆             ┆ str         ┆             │\n",
       "╞═════════════╪══════════════╪═════════════╪═════════════╪═════════════╪═════════════╪═════════════╡\n",
       "│ 0.983033    ┆ c73023dda51d ┆ ../../../.. ┆ af486bc1815 ┆ FirstMortga ┆ 2513d0e24d8 ┆ Rejected    │\n",
       "│             ┆ e1b84f7af774 ┆ /data/Sampl ┆ c726c357890 ┆ ge30yr      ┆ d0214eda4fb ┆             │\n",
       "│             ┆ fd6f8c73…    ┆ eHDS.json   ┆ ac2a40ba98… ┆             ┆ 454447162b… ┆             │\n",
       "│ 0.144221    ┆ 5414b197fb87 ┆ ../../../.. ┆ 3cdf7b1ae13 ┆ FirstMortga ┆ 8b55bf62fc2 ┆ Accepted    │\n",
       "│             ┆ b3f2e350d7a7 ┆ /data/Sampl ┆ 42ef979ea2a ┆ ge30yr      ┆ ecd16af97d4 ┆             │\n",
       "│             ┆ 4a840a81…    ┆ eHDS.json   ┆ 782541ad05… ┆             ┆ 8e469362cf… ┆             │\n",
       "│ 0.679745    ┆ 892f5d61a921 ┆ ../../../.. ┆ 806ef34eb82 ┆ MoneyMarket ┆ 2513d0e24d8 ┆ Rejected    │\n",
       "│             ┆ 5ef985f3fa29 ┆ /data/Sampl ┆ 37f4db85004 ┆ SavingsAcco ┆ d0214eda4fb ┆             │\n",
       "│             ┆ 3d51c92e…    ┆ eHDS.json   ┆ e96dc471d8… ┆ unt         ┆ 454447162b… ┆             │\n",
       "│ 1.0         ┆ c3aa807d9e92 ┆ ../../../.. ┆ 3cdf7b1ae13 ┆ BasicChecki ┆ 2513d0e24d8 ┆ Rejected    │\n",
       "│             ┆ 7ae426a89e76 ┆ /data/Sampl ┆ 42ef979ea2a ┆ ng          ┆ d0214eda4fb ┆             │\n",
       "│             ┆ a12b9160…    ┆ eHDS.json   ┆ 782541ad05… ┆             ┆ 454447162b… ┆             │\n",
       "│ 0.718982    ┆ c2d492f9a050 ┆ ../../../.. ┆ af486bc1815 ┆ BasicChecki ┆ 1cd082ecbd5 ┆ Accepted    │\n",
       "│             ┆ 7327c14285e9 ┆ /data/Sampl ┆ c726c357890 ┆ ng          ┆ dd95383b104 ┆             │\n",
       "│             ┆ 4e8ee54c…    ┆ eHDS.json   ┆ ac2a40ba98… ┆             ┆ 65e395c1f7… ┆             │\n",
       "│ 0.0         ┆ b21059221605 ┆ ../../../.. ┆ 806ef34eb82 ┆ UPlusFinPer ┆ null        ┆ Rejected    │\n",
       "│             ┆ c49757cfe0fe ┆ /data/Sampl ┆ 37f4db85004 ┆ sonal       ┆             ┆             │\n",
       "│             ┆ e45640db…    ┆ eHDS.json   ┆ e96dc471d8… ┆             ┆             ┆             │\n",
       "│ 0.02333     ┆ 80cbe489dcec ┆ ../../../.. ┆ 806ef34eb82 ┆ BasicChecki ┆ 1cd082ecbd5 ┆ Rejected    │\n",
       "│             ┆ d4b9304898c9 ┆ /data/Sampl ┆ 37f4db85004 ┆ ng          ┆ dd95383b104 ┆             │\n",
       "│             ┆ 986afeeb…    ┆ eHDS.json   ┆ e96dc471d8… ┆             ┆ 65e395c1f7… ┆             │\n",
       "└─────────────┴──────────────┴─────────────┴─────────────┴─────────────┴─────────────┴─────────────┘"
      ]
     },
     "execution_count": 14,
     "metadata": {},
     "output_type": "execute_result"
    }
   ],
   "source": [
    "from hashlib import sha3_256\n",
    "\n",
    "anon.process(algorithm=lambda x: sha3_256(x.encode()).hexdigest())"
   ]
  }
 ],
 "metadata": {
  "kernelspec": {
   "display_name": "Python 3",
   "language": "python",
   "name": "python3"
  },
  "language_info": {
   "codemirror_mode": {
    "name": "ipython",
    "version": 3
   },
   "file_extension": ".py",
   "mimetype": "text/x-python",
   "name": "python",
   "nbconvert_exporter": "python",
   "pygments_lexer": "ipython3",
   "version": "3.11.8"
  },
  "vscode": {
   "interpreter": {
    "hash": "aee8b7b246df8f9039afb4144a1f6fd8d2ca17a180786b69acc140d282b71a49"
   }
  }
 },
 "nbformat": 4,
 "nbformat_minor": 2
}
