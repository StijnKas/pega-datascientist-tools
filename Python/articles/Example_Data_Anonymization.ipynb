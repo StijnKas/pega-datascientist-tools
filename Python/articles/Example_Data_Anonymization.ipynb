{
 "cells": [
  {
   "attachments": {},
   "cell_type": "markdown",
   "metadata": {},
   "source": [
    "# Example data anonymization\n",
    "\n",
    "In Pega CDH 8.5 and up, it's now possible to record the historical data as seen by the Adaptive Models. See [this academy challenge](https://academy.pega.com/challenge/exporting-historical-data/v4) for reference. This historical data can be further used to experiment with offline models, but also to fine-tune the OOTB Gradient Boosting model. However, sharing this information with Pega can be sensitive as it contains raw predictor data. \n",
    "\n",
    "To this end, we provide a simple and transparent script to fully anonimize this dataset.\n",
    "\n",
    "The DataAnonymization script is now part of pdstools, and you can import it directly as such."
   ]
  },
  {
   "cell_type": "code",
   "execution_count": 1,
   "metadata": {
    "execution": {
     "iopub.execute_input": "2023-05-22T09:48:12.794573Z",
     "iopub.status.busy": "2023-05-22T09:48:12.794327Z",
     "iopub.status.idle": "2023-05-22T09:48:12.801279Z",
     "shell.execute_reply": "2023-05-22T09:48:12.800422Z"
    },
    "nbsphinx": "hidden"
   },
   "outputs": [],
   "source": [
    "# These lines are only for rendering in the docs, and are hidden through Jupyter tags\n",
    "# Do not run if you're running the notebook seperately\n",
    "\n",
    "import sys\n",
    "sys.path.append('../../../')"
   ]
  },
  {
   "cell_type": "code",
   "execution_count": 2,
   "metadata": {
    "execution": {
     "iopub.execute_input": "2023-05-22T09:48:12.804712Z",
     "iopub.status.busy": "2023-05-22T09:48:12.804158Z",
     "iopub.status.idle": "2023-05-22T09:48:14.198488Z",
     "shell.execute_reply": "2023-05-22T09:48:14.197668Z"
    }
   },
   "outputs": [],
   "source": [
    "from pdstools import ADMDatamart\n",
    "from pdstools import Config, DataAnonymization\n",
    "import polars as pl"
   ]
  },
  {
   "attachments": {},
   "cell_type": "markdown",
   "metadata": {},
   "source": [
    "## Input data\n",
    "\n",
    "To demonstrate this process, we're going to anonymise this toy example dataframe:"
   ]
  },
  {
   "cell_type": "code",
   "execution_count": 3,
   "metadata": {
    "execution": {
     "iopub.execute_input": "2023-05-22T09:48:14.202754Z",
     "iopub.status.busy": "2023-05-22T09:48:14.201644Z",
     "iopub.status.idle": "2023-05-22T09:48:14.216978Z",
     "shell.execute_reply": "2023-05-22T09:48:14.215561Z"
    }
   },
   "outputs": [
    {
     "data": {
      "text/html": [
       "<div><style>\n",
       ".dataframe > thead > tr > th,\n",
       ".dataframe > tbody > tr > td {\n",
       "  text-align: right;\n",
       "}\n",
       "</style>\n",
       "<small>shape: (7, 6)</small><table border=\"1\" class=\"dataframe\"><thead><tr><th>Context_Name</th><th>Customer_MaritalStatus</th><th>Customer_CLV</th><th>Customer_City</th><th>IH_Web_Inbound_Accepted_pxLastGroupID</th><th>Decision_Outcome</th></tr><tr><td>str</td><td>str</td><td>i64</td><td>str</td><td>str</td><td>str</td></tr></thead><tbody><tr><td>&quot;FirstMortgage3…</td><td>&quot;Married&quot;</td><td>1460</td><td>&quot;Port Raoul&quot;</td><td>&quot;Account&quot;</td><td>&quot;Rejected&quot;</td></tr><tr><td>&quot;FirstMortgage3…</td><td>&quot;Unknown&quot;</td><td>669</td><td>&quot;Laurianneshire…</td><td>&quot;AutoLoans&quot;</td><td>&quot;Accepted&quot;</td></tr><tr><td>&quot;MoneyMarketSav…</td><td>&quot;No Resp+&quot;</td><td>1174</td><td>&quot;Jacobshaven&quot;</td><td>&quot;Account&quot;</td><td>&quot;Rejected&quot;</td></tr><tr><td>&quot;BasicChecking&quot;</td><td>&quot;Unknown&quot;</td><td>1476</td><td>&quot;Lindton&quot;</td><td>&quot;Account&quot;</td><td>&quot;Rejected&quot;</td></tr><tr><td>&quot;BasicChecking&quot;</td><td>&quot;Married&quot;</td><td>1211</td><td>&quot;South Jimmiesh…</td><td>&quot;DepositAccount…</td><td>&quot;Accepted&quot;</td></tr><tr><td>&quot;UPlusFinPerson…</td><td>&quot;No Resp+&quot;</td><td>533</td><td>&quot;Bergeville&quot;</td><td>null</td><td>&quot;Rejected&quot;</td></tr><tr><td>&quot;BasicChecking&quot;</td><td>&quot;No Resp+&quot;</td><td>555</td><td>&quot;Willyville&quot;</td><td>&quot;DepositAccount…</td><td>&quot;Rejected&quot;</td></tr></tbody></table></div>"
      ],
      "text/plain": [
       "shape: (7, 6)\n",
       "┌────────────────┬────────────────┬──────────────┬────────────────┬────────────────┬───────────────┐\n",
       "│ Context_Name   ┆ Customer_Marit ┆ Customer_CLV ┆ Customer_City  ┆ IH_Web_Inbound ┆ Decision_Outc │\n",
       "│ ---            ┆ alStatus       ┆ ---          ┆ ---            ┆ _Accepted_pxLa ┆ ome           │\n",
       "│ str            ┆ ---            ┆ i64          ┆ str            ┆ stGr…          ┆ ---           │\n",
       "│                ┆ str            ┆              ┆                ┆ ---            ┆ str           │\n",
       "│                ┆                ┆              ┆                ┆ str            ┆               │\n",
       "╞════════════════╪════════════════╪══════════════╪════════════════╪════════════════╪═══════════════╡\n",
       "│ FirstMortgage3 ┆ Married        ┆ 1460         ┆ Port Raoul     ┆ Account        ┆ Rejected      │\n",
       "│ 0yr            ┆                ┆              ┆                ┆                ┆               │\n",
       "│ FirstMortgage3 ┆ Unknown        ┆ 669          ┆ Laurianneshire ┆ AutoLoans      ┆ Accepted      │\n",
       "│ 0yr            ┆                ┆              ┆                ┆                ┆               │\n",
       "│ MoneyMarketSav ┆ No Resp+       ┆ 1174         ┆ Jacobshaven    ┆ Account        ┆ Rejected      │\n",
       "│ ingsAccount    ┆                ┆              ┆                ┆                ┆               │\n",
       "│ BasicChecking  ┆ Unknown        ┆ 1476         ┆ Lindton        ┆ Account        ┆ Rejected      │\n",
       "│ BasicChecking  ┆ Married        ┆ 1211         ┆ South          ┆ DepositAccount ┆ Accepted      │\n",
       "│                ┆                ┆              ┆ Jimmieshire    ┆ s              ┆               │\n",
       "│ UPlusFinPerson ┆ No Resp+       ┆ 533          ┆ Bergeville     ┆ null           ┆ Rejected      │\n",
       "│ al             ┆                ┆              ┆                ┆                ┆               │\n",
       "│ BasicChecking  ┆ No Resp+       ┆ 555          ┆ Willyville     ┆ DepositAccount ┆ Rejected      │\n",
       "│                ┆                ┆              ┆                ┆ s              ┆               │\n",
       "└────────────────┴────────────────┴──────────────┴────────────────┴────────────────┴───────────────┘"
      ]
     },
     "execution_count": 3,
     "metadata": {},
     "output_type": "execute_result"
    }
   ],
   "source": [
    "pl.read_ndjson('../../../../data/SampleHDS.json')"
   ]
  },
  {
   "attachments": {},
   "cell_type": "markdown",
   "metadata": {},
   "source": [
    "As you can see, this dataset consists of regular predictors, IH predictors, context keys and the outcome column. Additionally, some columns are numeric, others are strings. Let's first initialize the DataAnonymization class."
   ]
  },
  {
   "cell_type": "code",
   "execution_count": 4,
   "metadata": {
    "execution": {
     "iopub.execute_input": "2023-05-22T09:48:14.220322Z",
     "iopub.status.busy": "2023-05-22T09:48:14.219944Z",
     "iopub.status.idle": "2023-05-22T09:48:14.232590Z",
     "shell.execute_reply": "2023-05-22T09:48:14.231751Z"
    }
   },
   "outputs": [],
   "source": [
    "anon = DataAnonymization(hds_folder='../../../../data/')"
   ]
  },
  {
   "attachments": {},
   "cell_type": "markdown",
   "metadata": {},
   "source": [
    "By default, the class applies a set of anonymisation techniques:\n",
    "- Column names are remapped to a non-descriptive name\n",
    "- Categorical values are hashed with a random seed\n",
    "- Numerical values are normalized between 0 and 1\n",
    "- Outcomes are mapped to a binary outcome.\n",
    "\n",
    "To apply these techniques, simply call `.process()`:"
   ]
  },
  {
   "cell_type": "code",
   "execution_count": 5,
   "metadata": {
    "execution": {
     "iopub.execute_input": "2023-05-22T09:48:14.235919Z",
     "iopub.status.busy": "2023-05-22T09:48:14.235453Z",
     "iopub.status.idle": "2023-05-22T09:48:14.246703Z",
     "shell.execute_reply": "2023-05-22T09:48:14.245953Z"
    }
   },
   "outputs": [
    {
     "data": {
      "text/html": [
       "<div><style>\n",
       ".dataframe > thead > tr > th,\n",
       ".dataframe > tbody > tr > td {\n",
       "  text-align: right;\n",
       "}\n",
       "</style>\n",
       "<small>shape: (7, 7)</small><table border=\"1\" class=\"dataframe\"><thead><tr><th>filename</th><th>PREDICTOR_1</th><th>PREDICTOR_2</th><th>PREDICTOR_3</th><th>Context_Name</th><th>IH_PREDICTOR_0</th><th>Decision_Outcome</th></tr><tr><td>str</td><td>f64</td><td>str</td><td>str</td><td>str</td><td>str</td><td>bool</td></tr></thead><tbody><tr><td>&quot;../../../../da…</td><td>1.2927e19</td><td>&quot;11292114716373…</td><td>&quot;39121133890794…</td><td>&quot;13492681333287…</td><td>&quot;13648859005376…</td><td>false</td></tr><tr><td>&quot;../../../../da…</td><td>1.4856e19</td><td>&quot;15054756153208…</td><td>&quot;13830163462448…</td><td>&quot;13492681333287…</td><td>&quot;13376492898286…</td><td>true</td></tr><tr><td>&quot;../../../../da…</td><td>5.6458e17</td><td>&quot;33765806707850…</td><td>&quot;11215082349319…</td><td>&quot;42899175900407…</td><td>&quot;13648859005376…</td><td>false</td></tr><tr><td>&quot;../../../../da…</td><td>4.0723e18</td><td>&quot;15054756153208…</td><td>&quot;16512195691295…</td><td>&quot;12209313621436…</td><td>&quot;13648859005376…</td><td>false</td></tr><tr><td>&quot;../../../../da…</td><td>1.4677e19</td><td>&quot;11292114716373…</td><td>&quot;12792474658618…</td><td>&quot;12209313621436…</td><td>&quot;68033560487742…</td><td>true</td></tr><tr><td>&quot;../../../../da…</td><td>1.6330e19</td><td>&quot;33765806707850…</td><td>&quot;37780813264186…</td><td>&quot;12560426202345…</td><td>null</td><td>false</td></tr><tr><td>&quot;../../../../da…</td><td>8.7675e18</td><td>&quot;33765806707850…</td><td>&quot;18139792687841…</td><td>&quot;12209313621436…</td><td>&quot;68033560487742…</td><td>false</td></tr></tbody></table></div>"
      ],
      "text/plain": [
       "shape: (7, 7)\n",
       "┌───────────────┬─────────────┬──────────────┬──────────────┬────────────┬────────────┬────────────┐\n",
       "│ filename      ┆ PREDICTOR_1 ┆ PREDICTOR_2  ┆ PREDICTOR_3  ┆ Context_Na ┆ IH_PREDICT ┆ Decision_O │\n",
       "│ ---           ┆ ---         ┆ ---          ┆ ---          ┆ me         ┆ OR_0       ┆ utcome     │\n",
       "│ str           ┆ f64         ┆ str          ┆ str          ┆ ---        ┆ ---        ┆ ---        │\n",
       "│               ┆             ┆              ┆              ┆ str        ┆ str        ┆ bool       │\n",
       "╞═══════════════╪═════════════╪══════════════╪══════════════╪════════════╪════════════╪════════════╡\n",
       "│ ../../../../d ┆ 1.2927e19   ┆ 112921147163 ┆ 391211338907 ┆ 1349268133 ┆ 1364885900 ┆ false      │\n",
       "│ ata/SampleHDS ┆             ┆ 73005346     ┆ 947155       ┆ 3287360470 ┆ 537694315  ┆            │\n",
       "│ .json         ┆             ┆              ┆              ┆            ┆            ┆            │\n",
       "│ ../../../../d ┆ 1.4856e19   ┆ 150547561532 ┆ 138301634624 ┆ 1349268133 ┆ 1337649289 ┆ true       │\n",
       "│ ata/SampleHDS ┆             ┆ 08163800     ┆ 48072318     ┆ 3287360470 ┆ 8286251446 ┆            │\n",
       "│ .json         ┆             ┆              ┆              ┆            ┆            ┆            │\n",
       "│ ../../../../d ┆ 5.6458e17   ┆ 337658067078 ┆ 112150823493 ┆ 4289917590 ┆ 1364885900 ┆ false      │\n",
       "│ ata/SampleHDS ┆             ┆ 5087721      ┆ 19635708     ┆ 040751157  ┆ 537694315  ┆            │\n",
       "│ .json         ┆             ┆              ┆              ┆            ┆            ┆            │\n",
       "│ ../../../../d ┆ 4.0723e18   ┆ 150547561532 ┆ 165121956912 ┆ 1220931362 ┆ 1364885900 ┆ false      │\n",
       "│ ata/SampleHDS ┆             ┆ 08163800     ┆ 9537664      ┆ 1436442612 ┆ 537694315  ┆            │\n",
       "│ .json         ┆             ┆              ┆              ┆            ┆            ┆            │\n",
       "│ ../../../../d ┆ 1.4677e19   ┆ 112921147163 ┆ 127924746586 ┆ 1220931362 ┆ 6803356048 ┆ true       │\n",
       "│ ata/SampleHDS ┆             ┆ 73005346     ┆ 1825269      ┆ 1436442612 ┆ 774200062  ┆            │\n",
       "│ .json         ┆             ┆              ┆              ┆            ┆            ┆            │\n",
       "│ ../../../../d ┆ 1.6330e19   ┆ 337658067078 ┆ 377808132641 ┆ 1256042620 ┆ null       ┆ false      │\n",
       "│ ata/SampleHDS ┆             ┆ 5087721      ┆ 8693071      ┆ 2345948975 ┆            ┆            │\n",
       "│ .json         ┆             ┆              ┆              ┆            ┆            ┆            │\n",
       "│ ../../../../d ┆ 8.7675e18   ┆ 337658067078 ┆ 181397926878 ┆ 1220931362 ┆ 6803356048 ┆ false      │\n",
       "│ ata/SampleHDS ┆             ┆ 5087721      ┆ 41550080     ┆ 1436442612 ┆ 774200062  ┆            │\n",
       "│ .json         ┆             ┆              ┆              ┆            ┆            ┆            │\n",
       "└───────────────┴─────────────┴──────────────┴──────────────┴────────────┴────────────┴────────────┘"
      ]
     },
     "execution_count": 5,
     "metadata": {},
     "output_type": "execute_result"
    }
   ],
   "source": [
    "anon.process()"
   ]
  },
  {
   "attachments": {},
   "cell_type": "markdown",
   "metadata": {},
   "source": [
    "To trace back the columns to their original names, the class also contains a mapping, which does not have to be provided."
   ]
  },
  {
   "cell_type": "code",
   "execution_count": 6,
   "metadata": {
    "execution": {
     "iopub.execute_input": "2023-05-22T09:48:14.249763Z",
     "iopub.status.busy": "2023-05-22T09:48:14.249478Z",
     "iopub.status.idle": "2023-05-22T09:48:14.254087Z",
     "shell.execute_reply": "2023-05-22T09:48:14.253403Z"
    }
   },
   "outputs": [
    {
     "data": {
      "text/plain": [
       "{'filename': 'filename',\n",
       " 'Customer_CLV': 'PREDICTOR_1',\n",
       " 'Customer_MaritalStatus': 'PREDICTOR_2',\n",
       " 'Customer_City': 'PREDICTOR_3',\n",
       " 'Context_Name': 'Context_Name',\n",
       " 'IH_Web_Inbound_Accepted_pxLastGroupID': 'IH_PREDICTOR_0',\n",
       " 'Decision_Outcome': 'Decision_Outcome'}"
      ]
     },
     "execution_count": 6,
     "metadata": {},
     "output_type": "execute_result"
    }
   ],
   "source": [
    "anon.column_mapping"
   ]
  },
  {
   "attachments": {},
   "cell_type": "markdown",
   "metadata": {},
   "source": [
    "## Configs\n",
    "\n",
    "Each capability can optionally be turned off - see below for the full list of config options, and refer to the API reference for the full description."
   ]
  },
  {
   "cell_type": "code",
   "execution_count": 7,
   "metadata": {
    "execution": {
     "iopub.execute_input": "2023-05-22T09:48:14.257368Z",
     "iopub.status.busy": "2023-05-22T09:48:14.257135Z",
     "iopub.status.idle": "2023-05-22T09:48:14.262133Z",
     "shell.execute_reply": "2023-05-22T09:48:14.261474Z"
    }
   },
   "outputs": [
    {
     "data": {
      "text/plain": [
       "{'config_file': None,\n",
       " 'hds_folder': '.',\n",
       " 'use_datamart': False,\n",
       " 'datamart_folder': 'datamart',\n",
       " 'output_format': 'ndjson',\n",
       " 'output_folder': 'output',\n",
       " 'mapping_file': 'mapping.map',\n",
       " 'mask_predictor_names': True,\n",
       " 'mask_context_key_names': False,\n",
       " 'mask_ih_names': True,\n",
       " 'mask_outcome_name': False,\n",
       " 'mask_predictor_values': True,\n",
       " 'mask_context_key_values': True,\n",
       " 'mask_ih_values': True,\n",
       " 'mask_outcome_values': True,\n",
       " 'context_key_label': 'Context_*',\n",
       " 'ih_label': 'IH_*',\n",
       " 'outcome_column': 'Decision_Outcome',\n",
       " 'positive_outcomes': ['Accepted', 'Clicked'],\n",
       " 'negative_outcomes': ['Rejected', 'Impression'],\n",
       " 'special_predictors': ['Decision_DecisionTime',\n",
       "  'Decision_OutcomeTime',\n",
       "  'Decision_Rank'],\n",
       " 'sample_percentage_schema_inferencing': 0.01}"
      ]
     },
     "execution_count": 7,
     "metadata": {},
     "output_type": "execute_result"
    }
   ],
   "source": [
    "dict(zip(Config.__init__.__code__.co_varnames[1:], Config.__init__.__defaults__))"
   ]
  },
  {
   "attachments": {},
   "cell_type": "markdown",
   "metadata": {},
   "source": [
    "It's easy to change these parameters by just passing the keyword arguments. In the following example, we\n",
    "- Keep the IH predictor names\n",
    "- Keep the outcome values\n",
    "- Keep the context key values\n",
    "- Keep the context key predictor names"
   ]
  },
  {
   "cell_type": "code",
   "execution_count": 8,
   "metadata": {
    "execution": {
     "iopub.execute_input": "2023-05-22T09:48:14.265439Z",
     "iopub.status.busy": "2023-05-22T09:48:14.265208Z",
     "iopub.status.idle": "2023-05-22T09:48:14.277253Z",
     "shell.execute_reply": "2023-05-22T09:48:14.276444Z"
    }
   },
   "outputs": [
    {
     "data": {
      "text/html": [
       "<div><style>\n",
       ".dataframe > thead > tr > th,\n",
       ".dataframe > tbody > tr > td {\n",
       "  text-align: right;\n",
       "}\n",
       "</style>\n",
       "<small>shape: (7, 7)</small><table border=\"1\" class=\"dataframe\"><thead><tr><th>filename</th><th>PREDICTOR_1</th><th>PREDICTOR_2</th><th>PREDICTOR_3</th><th>Context_Name</th><th>IH_Web_Inbound_Accepted_pxLastGroupID</th><th>Decision_Outcome</th></tr><tr><td>str</td><td>f64</td><td>str</td><td>str</td><td>str</td><td>str</td><td>str</td></tr></thead><tbody><tr><td>&quot;../../../../da…</td><td>1.2927e19</td><td>&quot;93023095781015…</td><td>&quot;10013485834538…</td><td>&quot;FirstMortgage3…</td><td>&quot;16198910283260…</td><td>&quot;Rejected&quot;</td></tr><tr><td>&quot;../../../../da…</td><td>1.4856e19</td><td>&quot;55615962561207…</td><td>&quot;13123310335605…</td><td>&quot;FirstMortgage3…</td><td>&quot;67639035027812…</td><td>&quot;Accepted&quot;</td></tr><tr><td>&quot;../../../../da…</td><td>5.6458e17</td><td>&quot;52255643963220…</td><td>&quot;93629665198464…</td><td>&quot;MoneyMarketSav…</td><td>&quot;16198910283260…</td><td>&quot;Rejected&quot;</td></tr><tr><td>&quot;../../../../da…</td><td>4.0723e18</td><td>&quot;55615962561207…</td><td>&quot;35868260360191…</td><td>&quot;BasicChecking&quot;</td><td>&quot;16198910283260…</td><td>&quot;Rejected&quot;</td></tr><tr><td>&quot;../../../../da…</td><td>1.4677e19</td><td>&quot;93023095781015…</td><td>&quot;43878896041005…</td><td>&quot;BasicChecking&quot;</td><td>&quot;86022673087502…</td><td>&quot;Accepted&quot;</td></tr><tr><td>&quot;../../../../da…</td><td>1.6330e19</td><td>&quot;52255643963220…</td><td>&quot;13958247305670…</td><td>&quot;UPlusFinPerson…</td><td>null</td><td>&quot;Rejected&quot;</td></tr><tr><td>&quot;../../../../da…</td><td>8.7675e18</td><td>&quot;52255643963220…</td><td>&quot;13948653575850…</td><td>&quot;BasicChecking&quot;</td><td>&quot;86022673087502…</td><td>&quot;Rejected&quot;</td></tr></tbody></table></div>"
      ],
      "text/plain": [
       "shape: (7, 7)\n",
       "┌───────────────┬─────────────┬──────────────┬──────────────┬────────────┬────────────┬────────────┐\n",
       "│ filename      ┆ PREDICTOR_1 ┆ PREDICTOR_2  ┆ PREDICTOR_3  ┆ Context_Na ┆ IH_Web_Inb ┆ Decision_O │\n",
       "│ ---           ┆ ---         ┆ ---          ┆ ---          ┆ me         ┆ ound_Accep ┆ utcome     │\n",
       "│ str           ┆ f64         ┆ str          ┆ str          ┆ ---        ┆ ted_pxLast ┆ ---        │\n",
       "│               ┆             ┆              ┆              ┆ str        ┆ Gr…        ┆ str        │\n",
       "│               ┆             ┆              ┆              ┆            ┆ ---        ┆            │\n",
       "│               ┆             ┆              ┆              ┆            ┆ str        ┆            │\n",
       "╞═══════════════╪═════════════╪══════════════╪══════════════╪════════════╪════════════╪════════════╡\n",
       "│ ../../../../d ┆ 1.2927e19   ┆ 930230957810 ┆ 100134858345 ┆ FirstMortg ┆ 1619891028 ┆ Rejected   │\n",
       "│ ata/SampleHDS ┆             ┆ 1574668      ┆ 38434772     ┆ age30yr    ┆ 3260855174 ┆            │\n",
       "│ .json         ┆             ┆              ┆              ┆            ┆            ┆            │\n",
       "│ ../../../../d ┆ 1.4856e19   ┆ 556159625612 ┆ 131233103356 ┆ FirstMortg ┆ 6763903502 ┆ Accepted   │\n",
       "│ ata/SampleHDS ┆             ┆ 076230       ┆ 05150317     ┆ age30yr    ┆ 78126355   ┆            │\n",
       "│ .json         ┆             ┆              ┆              ┆            ┆            ┆            │\n",
       "│ ../../../../d ┆ 5.6458e17   ┆ 522556439632 ┆ 936296651984 ┆ MoneyMarke ┆ 1619891028 ┆ Rejected   │\n",
       "│ ata/SampleHDS ┆             ┆ 2062700      ┆ 6463716      ┆ tSavingsAc ┆ 3260855174 ┆            │\n",
       "│ .json         ┆             ┆              ┆              ┆ count      ┆            ┆            │\n",
       "│ ../../../../d ┆ 4.0723e18   ┆ 556159625612 ┆ 358682603601 ┆ BasicCheck ┆ 1619891028 ┆ Rejected   │\n",
       "│ ata/SampleHDS ┆             ┆ 076230       ┆ 9172992      ┆ ing        ┆ 3260855174 ┆            │\n",
       "│ .json         ┆             ┆              ┆              ┆            ┆            ┆            │\n",
       "│ ../../../../d ┆ 1.4677e19   ┆ 930230957810 ┆ 438788960410 ┆ BasicCheck ┆ 8602267308 ┆ Accepted   │\n",
       "│ ata/SampleHDS ┆             ┆ 1574668      ┆ 0536789      ┆ ing        ┆ 750236817  ┆            │\n",
       "│ .json         ┆             ┆              ┆              ┆            ┆            ┆            │\n",
       "│ ../../../../d ┆ 1.6330e19   ┆ 522556439632 ┆ 139582473056 ┆ UPlusFinPe ┆ null       ┆ Rejected   │\n",
       "│ ata/SampleHDS ┆             ┆ 2062700      ┆ 7044356      ┆ rsonal     ┆            ┆            │\n",
       "│ .json         ┆             ┆              ┆              ┆            ┆            ┆            │\n",
       "│ ../../../../d ┆ 8.7675e18   ┆ 522556439632 ┆ 139486535758 ┆ BasicCheck ┆ 8602267308 ┆ Rejected   │\n",
       "│ ata/SampleHDS ┆             ┆ 2062700      ┆ 5007120      ┆ ing        ┆ 750236817  ┆            │\n",
       "│ .json         ┆             ┆              ┆              ┆            ┆            ┆            │\n",
       "└───────────────┴─────────────┴──────────────┴──────────────┴────────────┴────────────┴────────────┘"
      ]
     },
     "execution_count": 8,
     "metadata": {},
     "output_type": "execute_result"
    }
   ],
   "source": [
    "anon = DataAnonymization(\n",
    "    hds_folder='../../../../data/',\n",
    "    mask_ih_names=False,\n",
    "    mask_outcome_values=False,\n",
    "    mask_context_key_values=False,\n",
    "    mask_context_key_names=False,\n",
    ")\n",
    "anon.process()\n"
   ]
  },
  {
   "attachments": {},
   "cell_type": "markdown",
   "metadata": {},
   "source": [
    "The configs can also be written and read as such:"
   ]
  },
  {
   "cell_type": "code",
   "execution_count": 9,
   "metadata": {
    "execution": {
     "iopub.execute_input": "2023-05-22T09:48:14.280203Z",
     "iopub.status.busy": "2023-05-22T09:48:14.279976Z",
     "iopub.status.idle": "2023-05-22T09:48:14.283481Z",
     "shell.execute_reply": "2023-05-22T09:48:14.282587Z"
    }
   },
   "outputs": [],
   "source": [
    "anon.config.save_to_config_file('config.json')"
   ]
  },
  {
   "cell_type": "code",
   "execution_count": 10,
   "metadata": {
    "execution": {
     "iopub.execute_input": "2023-05-22T09:48:14.286295Z",
     "iopub.status.busy": "2023-05-22T09:48:14.286034Z",
     "iopub.status.idle": "2023-05-22T09:48:14.299341Z",
     "shell.execute_reply": "2023-05-22T09:48:14.298628Z"
    }
   },
   "outputs": [
    {
     "data": {
      "text/html": [
       "<div><style>\n",
       ".dataframe > thead > tr > th,\n",
       ".dataframe > tbody > tr > td {\n",
       "  text-align: right;\n",
       "}\n",
       "</style>\n",
       "<small>shape: (7, 7)</small><table border=\"1\" class=\"dataframe\"><thead><tr><th>filename</th><th>PREDICTOR_1</th><th>PREDICTOR_2</th><th>PREDICTOR_3</th><th>Context_Name</th><th>IH_Web_Inbound_Accepted_pxLastGroupID</th><th>Decision_Outcome</th></tr><tr><td>str</td><td>f64</td><td>str</td><td>str</td><td>str</td><td>str</td><td>str</td></tr></thead><tbody><tr><td>&quot;../../../../da…</td><td>1.2927e19</td><td>&quot;43151310349182…</td><td>&quot;16241684309098…</td><td>&quot;FirstMortgage3…</td><td>&quot;12797389521481…</td><td>&quot;Rejected&quot;</td></tr><tr><td>&quot;../../../../da…</td><td>1.4856e19</td><td>&quot;18214375713886…</td><td>&quot;10105434193087…</td><td>&quot;FirstMortgage3…</td><td>&quot;25831590239982…</td><td>&quot;Accepted&quot;</td></tr><tr><td>&quot;../../../../da…</td><td>5.6458e17</td><td>&quot;15865323408049…</td><td>&quot;10327970121345…</td><td>&quot;MoneyMarketSav…</td><td>&quot;12797389521481…</td><td>&quot;Rejected&quot;</td></tr><tr><td>&quot;../../../../da…</td><td>4.0723e18</td><td>&quot;18214375713886…</td><td>&quot;12289751281915…</td><td>&quot;BasicChecking&quot;</td><td>&quot;12797389521481…</td><td>&quot;Rejected&quot;</td></tr><tr><td>&quot;../../../../da…</td><td>1.4677e19</td><td>&quot;43151310349182…</td><td>&quot;45249083228664…</td><td>&quot;BasicChecking&quot;</td><td>&quot;11768952153163…</td><td>&quot;Accepted&quot;</td></tr><tr><td>&quot;../../../../da…</td><td>1.6330e19</td><td>&quot;15865323408049…</td><td>&quot;14514196844575…</td><td>&quot;UPlusFinPerson…</td><td>null</td><td>&quot;Rejected&quot;</td></tr><tr><td>&quot;../../../../da…</td><td>8.7675e18</td><td>&quot;15865323408049…</td><td>&quot;14884089919778…</td><td>&quot;BasicChecking&quot;</td><td>&quot;11768952153163…</td><td>&quot;Rejected&quot;</td></tr></tbody></table></div>"
      ],
      "text/plain": [
       "shape: (7, 7)\n",
       "┌───────────────┬─────────────┬──────────────┬──────────────┬────────────┬────────────┬────────────┐\n",
       "│ filename      ┆ PREDICTOR_1 ┆ PREDICTOR_2  ┆ PREDICTOR_3  ┆ Context_Na ┆ IH_Web_Inb ┆ Decision_O │\n",
       "│ ---           ┆ ---         ┆ ---          ┆ ---          ┆ me         ┆ ound_Accep ┆ utcome     │\n",
       "│ str           ┆ f64         ┆ str          ┆ str          ┆ ---        ┆ ted_pxLast ┆ ---        │\n",
       "│               ┆             ┆              ┆              ┆ str        ┆ Gr…        ┆ str        │\n",
       "│               ┆             ┆              ┆              ┆            ┆ ---        ┆            │\n",
       "│               ┆             ┆              ┆              ┆            ┆ str        ┆            │\n",
       "╞═══════════════╪═════════════╪══════════════╪══════════════╪════════════╪════════════╪════════════╡\n",
       "│ ../../../../d ┆ 1.2927e19   ┆ 431513103491 ┆ 162416843090 ┆ FirstMortg ┆ 1279738952 ┆ Rejected   │\n",
       "│ ata/SampleHDS ┆             ┆ 8266201      ┆ 98954373     ┆ age30yr    ┆ 1481253300 ┆            │\n",
       "│ .json         ┆             ┆              ┆              ┆            ┆            ┆            │\n",
       "│ ../../../../d ┆ 1.4856e19   ┆ 182143757138 ┆ 101054341930 ┆ FirstMortg ┆ 2583159023 ┆ Accepted   │\n",
       "│ ata/SampleHDS ┆             ┆ 86923484     ┆ 87900906     ┆ age30yr    ┆ 998213183  ┆            │\n",
       "│ .json         ┆             ┆              ┆              ┆            ┆            ┆            │\n",
       "│ ../../../../d ┆ 5.6458e17   ┆ 158653234080 ┆ 103279701213 ┆ MoneyMarke ┆ 1279738952 ┆ Rejected   │\n",
       "│ ata/SampleHDS ┆             ┆ 49517046     ┆ 45977213     ┆ tSavingsAc ┆ 1481253300 ┆            │\n",
       "│ .json         ┆             ┆              ┆              ┆ count      ┆            ┆            │\n",
       "│ ../../../../d ┆ 4.0723e18   ┆ 182143757138 ┆ 122897512819 ┆ BasicCheck ┆ 1279738952 ┆ Rejected   │\n",
       "│ ata/SampleHDS ┆             ┆ 86923484     ┆ 15721556     ┆ ing        ┆ 1481253300 ┆            │\n",
       "│ .json         ┆             ┆              ┆              ┆            ┆            ┆            │\n",
       "│ ../../../../d ┆ 1.4677e19   ┆ 431513103491 ┆ 452490832286 ┆ BasicCheck ┆ 1176895215 ┆ Accepted   │\n",
       "│ ata/SampleHDS ┆             ┆ 8266201      ┆ 6475953      ┆ ing        ┆ 3163245384 ┆            │\n",
       "│ .json         ┆             ┆              ┆              ┆            ┆            ┆            │\n",
       "│ ../../../../d ┆ 1.6330e19   ┆ 158653234080 ┆ 145141968445 ┆ UPlusFinPe ┆ null       ┆ Rejected   │\n",
       "│ ata/SampleHDS ┆             ┆ 49517046     ┆ 75806601     ┆ rsonal     ┆            ┆            │\n",
       "│ .json         ┆             ┆              ┆              ┆            ┆            ┆            │\n",
       "│ ../../../../d ┆ 8.7675e18   ┆ 158653234080 ┆ 148840899197 ┆ BasicCheck ┆ 1176895215 ┆ Rejected   │\n",
       "│ ata/SampleHDS ┆             ┆ 49517046     ┆ 78383768     ┆ ing        ┆ 3163245384 ┆            │\n",
       "│ .json         ┆             ┆              ┆              ┆            ┆            ┆            │\n",
       "└───────────────┴─────────────┴──────────────┴──────────────┴────────────┴────────────┴────────────┘"
      ]
     },
     "execution_count": 10,
     "metadata": {},
     "output_type": "execute_result"
    }
   ],
   "source": [
    "anon = DataAnonymization(config=Config(config_file='config.json'))\n",
    "anon.process()"
   ]
  },
  {
   "attachments": {},
   "cell_type": "markdown",
   "metadata": {},
   "source": [
    "## Exporting\n",
    "Two functions export:\n",
    "- `create_mapping_file()` writes the mapping file of the predictor names\n",
    "- `write_to_output()` writes the processed dataframe to disk\n",
    "\n",
    "Write to output accepts the following extensions: `[\"ndjson\", \"parquet\", \"arrow\", \"csv\"]`"
   ]
  },
  {
   "cell_type": "code",
   "execution_count": 11,
   "metadata": {
    "execution": {
     "iopub.execute_input": "2023-05-22T09:48:14.302313Z",
     "iopub.status.busy": "2023-05-22T09:48:14.302073Z",
     "iopub.status.idle": "2023-05-22T09:48:14.308666Z",
     "shell.execute_reply": "2023-05-22T09:48:14.306697Z"
    }
   },
   "outputs": [
    {
     "name": "stdout",
     "output_type": "stream",
     "text": [
      "filename=filename\n",
      "Customer_CLV=PREDICTOR_1\n",
      "Customer_MaritalStatus=PREDICTOR_2\n",
      "Customer_City=PREDICTOR_3\n",
      "Context_Name=Context_Name\n",
      "IH_Web_Inbound_Accepted_pxLastGroupID=IH_Web_Inbound_Accepted_pxLastGroupID\n",
      "Decision_Outcome=Decision_Outcome\n",
      "\n"
     ]
    }
   ],
   "source": [
    "anon.create_mapping_file()\n",
    "with open('mapping.map') as f:\n",
    "    print(f.read())"
   ]
  },
  {
   "cell_type": "code",
   "execution_count": 12,
   "metadata": {
    "execution": {
     "iopub.execute_input": "2023-05-22T09:48:14.315461Z",
     "iopub.status.busy": "2023-05-22T09:48:14.315215Z",
     "iopub.status.idle": "2023-05-22T09:48:14.319630Z",
     "shell.execute_reply": "2023-05-22T09:48:14.318952Z"
    }
   },
   "outputs": [],
   "source": [
    "anon.write_to_output(ext='arrow')"
   ]
  },
  {
   "cell_type": "code",
   "execution_count": 13,
   "metadata": {
    "execution": {
     "iopub.execute_input": "2023-05-22T09:48:14.322530Z",
     "iopub.status.busy": "2023-05-22T09:48:14.322300Z",
     "iopub.status.idle": "2023-05-22T09:48:14.329329Z",
     "shell.execute_reply": "2023-05-22T09:48:14.328618Z"
    }
   },
   "outputs": [
    {
     "data": {
      "text/html": [
       "<div><style>\n",
       ".dataframe > thead > tr > th,\n",
       ".dataframe > tbody > tr > td {\n",
       "  text-align: right;\n",
       "}\n",
       "</style>\n",
       "<small>shape: (7, 6)</small><table border=\"1\" class=\"dataframe\"><thead><tr><th>PREDICTOR_1</th><th>PREDICTOR_2</th><th>PREDICTOR_3</th><th>Context_Name</th><th>IH_Web_Inbound_Accepted_pxLastGroupID</th><th>Decision_Outcome</th></tr><tr><td>f64</td><td>str</td><td>str</td><td>str</td><td>str</td><td>str</td></tr></thead><tbody><tr><td>1.2927e19</td><td>&quot;45955967786323…</td><td>&quot;13812742772318…</td><td>&quot;FirstMortgage3…</td><td>&quot;96912579052972…</td><td>&quot;Rejected&quot;</td></tr><tr><td>1.4856e19</td><td>&quot;12143753131271…</td><td>&quot;16060862110708…</td><td>&quot;FirstMortgage3…</td><td>&quot;55716571430974…</td><td>&quot;Accepted&quot;</td></tr><tr><td>5.6458e17</td><td>&quot;89774501893212…</td><td>&quot;95909556392328…</td><td>&quot;MoneyMarketSav…</td><td>&quot;96912579052972…</td><td>&quot;Rejected&quot;</td></tr><tr><td>4.0723e18</td><td>&quot;12143753131271…</td><td>&quot;18304725589062…</td><td>&quot;BasicChecking&quot;</td><td>&quot;96912579052972…</td><td>&quot;Rejected&quot;</td></tr><tr><td>1.4677e19</td><td>&quot;45955967786323…</td><td>&quot;11601334599236…</td><td>&quot;BasicChecking&quot;</td><td>&quot;64531704184900…</td><td>&quot;Accepted&quot;</td></tr><tr><td>1.6330e19</td><td>&quot;89774501893212…</td><td>&quot;12873803761246…</td><td>&quot;UPlusFinPerson…</td><td>null</td><td>&quot;Rejected&quot;</td></tr><tr><td>8.7675e18</td><td>&quot;89774501893212…</td><td>&quot;68361126634328…</td><td>&quot;BasicChecking&quot;</td><td>&quot;64531704184900…</td><td>&quot;Rejected&quot;</td></tr></tbody></table></div>"
      ],
      "text/plain": [
       "shape: (7, 6)\n",
       "┌─────────────┬────────────────┬────────────────┬────────────────┬────────────────┬────────────────┐\n",
       "│ PREDICTOR_1 ┆ PREDICTOR_2    ┆ PREDICTOR_3    ┆ Context_Name   ┆ IH_Web_Inbound ┆ Decision_Outco │\n",
       "│ ---         ┆ ---            ┆ ---            ┆ ---            ┆ _Accepted_pxLa ┆ me             │\n",
       "│ f64         ┆ str            ┆ str            ┆ str            ┆ stGr…          ┆ ---            │\n",
       "│             ┆                ┆                ┆                ┆ ---            ┆ str            │\n",
       "│             ┆                ┆                ┆                ┆ str            ┆                │\n",
       "╞═════════════╪════════════════╪════════════════╪════════════════╪════════════════╪════════════════╡\n",
       "│ 1.2927e19   ┆ 45955967786323 ┆ 13812742772318 ┆ FirstMortgage3 ┆ 96912579052972 ┆ Rejected       │\n",
       "│             ┆ 47304          ┆ 69415          ┆ 0yr            ┆ 44820          ┆                │\n",
       "│ 1.4856e19   ┆ 12143753131271 ┆ 16060862110708 ┆ FirstMortgage3 ┆ 55716571430974 ┆ Accepted       │\n",
       "│             ┆ 202692         ┆ 875855         ┆ 0yr            ┆ 13884          ┆                │\n",
       "│ 5.6458e17   ┆ 89774501893212 ┆ 95909556392328 ┆ MoneyMarketSav ┆ 96912579052972 ┆ Rejected       │\n",
       "│             ┆ 58363          ┆ 72360          ┆ ingsAccount    ┆ 44820          ┆                │\n",
       "│ 4.0723e18   ┆ 12143753131271 ┆ 18304725589062 ┆ BasicChecking  ┆ 96912579052972 ┆ Rejected       │\n",
       "│             ┆ 202692         ┆ 8772           ┆                ┆ 44820          ┆                │\n",
       "│ 1.4677e19   ┆ 45955967786323 ┆ 11601334599236 ┆ BasicChecking  ┆ 64531704184900 ┆ Accepted       │\n",
       "│             ┆ 47304          ┆ 098860         ┆                ┆ 17601          ┆                │\n",
       "│ 1.6330e19   ┆ 89774501893212 ┆ 12873803761246 ┆ UPlusFinPerson ┆ null           ┆ Rejected       │\n",
       "│             ┆ 58363          ┆ 241665         ┆ al             ┆                ┆                │\n",
       "│ 8.7675e18   ┆ 89774501893212 ┆ 68361126634328 ┆ BasicChecking  ┆ 64531704184900 ┆ Rejected       │\n",
       "│             ┆ 58363          ┆ 4996           ┆                ┆ 17601          ┆                │\n",
       "└─────────────┴────────────────┴────────────────┴────────────────┴────────────────┴────────────────┘"
      ]
     },
     "execution_count": 13,
     "metadata": {},
     "output_type": "execute_result"
    }
   ],
   "source": [
    "pl.read_ipc('output/hds.arrow')"
   ]
  },
  {
   "attachments": {},
   "cell_type": "markdown",
   "metadata": {},
   "source": [
    "## Advanced: Hash fuctions\n",
    "\n",
    "By default, we use [the same hashing algorithm Polars](https://pola-rs.github.io/polars/py-polars/html/reference/expressions/api/polars.Expr.hash.html#polars.Expr.hash) uses: [xxhash](https://github.com/Cyan4973/xxHash), as implemented [here](https://github.com/pola-rs/polars/blob/3f287f370b3c388ed2f3f218b2c096382548136f/polars/polars-core/src/vector_hasher.rs#L266). xxhash is fast to compute, and you can check its performance in collision, dispersion and randomness [here](https://github.com/Cyan4973/xxHash/tree/dev/tests). \n",
    "\n",
    "xxhash accepts four distinct seeds, but by default we set the seeds to `0`. It is possible to set the `seed` argument of the `process()` function to `'random'`, which will set all four seeds to a random integer between `0` and `1000000000`. Alternatively, it is possible to supply the four seeds manually with arguments `seed`, `seed_1`, `seed_2` and `seed_3`. \n",
    "\n",
    "If the xxhash with (random) seed(s) is not deemed sufficiently secure, it is possible to use your own hashing algorithm.\n",
    "\n",
    "Note that since we're now running python code and not native Polars code anymore, this will be _significantly_ slower. Nonetheless, it is possible.\n",
    "\n",
    "Just as an example - this is how one would use sha3_256:"
   ]
  },
  {
   "cell_type": "code",
   "execution_count": 14,
   "metadata": {
    "execution": {
     "iopub.execute_input": "2023-05-22T09:48:14.332856Z",
     "iopub.status.busy": "2023-05-22T09:48:14.332616Z",
     "iopub.status.idle": "2023-05-22T09:48:14.757079Z",
     "shell.execute_reply": "2023-05-22T09:48:14.756380Z"
    }
   },
   "outputs": [
    {
     "ename": "ComputeError",
     "evalue": "AttributeError: 'int' object has no attribute 'encode'",
     "output_type": "error",
     "traceback": [
      "\u001b[0;31m---------------------------------------------------------------------------\u001b[0m",
      "\u001b[0;31mComputeError\u001b[0m                              Traceback (most recent call last)",
      "Cell \u001b[0;32mIn[14], line 3\u001b[0m\n\u001b[1;32m      1\u001b[0m \u001b[38;5;28;01mfrom\u001b[39;00m \u001b[38;5;21;01mhashlib\u001b[39;00m \u001b[38;5;28;01mimport\u001b[39;00m sha3_256\n\u001b[0;32m----> 3\u001b[0m \u001b[43manon\u001b[49m\u001b[38;5;241;43m.\u001b[39;49m\u001b[43mprocess\u001b[49m\u001b[43m(\u001b[49m\u001b[43malgorithm\u001b[49m\u001b[38;5;241;43m=\u001b[39;49m\u001b[38;5;28;43;01mlambda\u001b[39;49;00m\u001b[43m \u001b[49m\u001b[43mx\u001b[49m\u001b[43m:\u001b[49m\u001b[43m \u001b[49m\u001b[43msha3_256\u001b[49m\u001b[43m(\u001b[49m\u001b[43mx\u001b[49m\u001b[38;5;241;43m.\u001b[39;49m\u001b[43mencode\u001b[49m\u001b[43m(\u001b[49m\u001b[43m)\u001b[49m\u001b[43m)\u001b[49m\u001b[38;5;241;43m.\u001b[39;49m\u001b[43mhexdigest\u001b[49m\u001b[43m(\u001b[49m\u001b[43m)\u001b[49m\u001b[43m)\u001b[49m\n",
      "File \u001b[0;32m~/work/pega-datascientist-tools/pega-datascientist-tools/python/docs/source/articles/../../../pdstools/utils/hds_utils.py:516\u001b[0m, in \u001b[0;36mDataAnonymization.process\u001b[0;34m(self, strategy, **kwargs)\u001b[0m\n\u001b[1;32m    514\u001b[0m df \u001b[38;5;241m=\u001b[39m df\u001b[38;5;241m.\u001b[39mselect(\u001b[38;5;28mself\u001b[39m\u001b[38;5;241m.\u001b[39mcolumn_mapping\u001b[38;5;241m.\u001b[39mkeys())\u001b[38;5;241m.\u001b[39mrename(\u001b[38;5;28mself\u001b[39m\u001b[38;5;241m.\u001b[39mcolumn_mapping)\n\u001b[1;32m    515\u001b[0m \u001b[38;5;28;01mif\u001b[39;00m strategy \u001b[38;5;241m==\u001b[39m \u001b[38;5;124m\"\u001b[39m\u001b[38;5;124meager\u001b[39m\u001b[38;5;124m\"\u001b[39m:\n\u001b[0;32m--> 516\u001b[0m     \u001b[38;5;28;01mreturn\u001b[39;00m \u001b[43mdf\u001b[49m\u001b[38;5;241;43m.\u001b[39;49m\u001b[43mcollect\u001b[49m\u001b[43m(\u001b[49m\u001b[43m)\u001b[49m\n\u001b[1;32m    517\u001b[0m \u001b[38;5;28;01mreturn\u001b[39;00m df\n",
      "File \u001b[0;32m/opt/hostedtoolcache/Python/3.11.3/x64/lib/python3.11/site-packages/polars/lazyframe/frame.py:1602\u001b[0m, in \u001b[0;36mLazyFrame.collect\u001b[0;34m(self, type_coercion, predicate_pushdown, projection_pushdown, simplify_expression, no_optimization, slice_pushdown, common_subplan_elimination, streaming)\u001b[0m\n\u001b[1;32m   1591\u001b[0m     common_subplan_elimination \u001b[38;5;241m=\u001b[39m \u001b[38;5;28;01mFalse\u001b[39;00m\n\u001b[1;32m   1593\u001b[0m ldf \u001b[38;5;241m=\u001b[39m \u001b[38;5;28mself\u001b[39m\u001b[38;5;241m.\u001b[39m_ldf\u001b[38;5;241m.\u001b[39moptimization_toggle(\n\u001b[1;32m   1594\u001b[0m     type_coercion,\n\u001b[1;32m   1595\u001b[0m     predicate_pushdown,\n\u001b[0;32m   (...)\u001b[0m\n\u001b[1;32m   1600\u001b[0m     streaming,\n\u001b[1;32m   1601\u001b[0m )\n\u001b[0;32m-> 1602\u001b[0m \u001b[38;5;28;01mreturn\u001b[39;00m wrap_df(ldf\u001b[38;5;241m.\u001b[39mcollect())\n",
      "\u001b[0;31mComputeError\u001b[0m: AttributeError: 'int' object has no attribute 'encode'"
     ]
    }
   ],
   "source": [
    "from hashlib import sha3_256\n",
    "\n",
    "anon.process(algorithm=lambda x: sha3_256(x.encode()).hexdigest())"
   ]
  }
 ],
 "metadata": {
  "kernelspec": {
   "display_name": "Python 3",
   "language": "python",
   "name": "python3"
  },
  "language_info": {
   "codemirror_mode": {
    "name": "ipython",
    "version": 3
   },
   "file_extension": ".py",
   "mimetype": "text/x-python",
   "name": "python",
   "nbconvert_exporter": "python",
   "pygments_lexer": "ipython3",
   "version": "3.11.3"
  },
  "vscode": {
   "interpreter": {
    "hash": "aee8b7b246df8f9039afb4144a1f6fd8d2ca17a180786b69acc140d282b71a49"
   }
  }
 },
 "nbformat": 4,
 "nbformat_minor": 2
}
