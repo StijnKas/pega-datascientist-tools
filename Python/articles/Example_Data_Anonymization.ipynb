{
 "cells": [
  {
   "attachments": {},
   "cell_type": "markdown",
   "metadata": {},
   "source": [
    "# Example data anonymization\n",
    "\n",
    "In Pega CDH 8.5 and up, it's now possible to record the historical data as seen by the Adaptive Models. See [this academy challenge](https://academy.pega.com/challenge/exporting-historical-data/v4) for reference. This historical data can be further used to experiment with offline models, but also to fine-tune the OOTB Gradient Boosting model. However, sharing this information with Pega can be sensitive as it contains raw predictor data. \n",
    "\n",
    "To this end, we provide a simple and transparent script to fully anonimize this dataset.\n",
    "\n",
    "The DataAnonymization script is now part of pdstools, and you can import it directly as such."
   ]
  },
  {
   "cell_type": "code",
   "execution_count": 1,
   "metadata": {
    "execution": {
     "iopub.execute_input": "2023-06-01T08:28:56.982567Z",
     "iopub.status.busy": "2023-06-01T08:28:56.982197Z",
     "iopub.status.idle": "2023-06-01T08:28:56.988040Z",
     "shell.execute_reply": "2023-06-01T08:28:56.987557Z"
    },
    "nbsphinx": "hidden"
   },
   "outputs": [],
   "source": [
    "# These lines are only for rendering in the docs, and are hidden through Jupyter tags\n",
    "# Do not run if you're running the notebook seperately\n",
    "\n",
    "import sys\n",
    "sys.path.append('../../../')"
   ]
  },
  {
   "cell_type": "code",
   "execution_count": 2,
   "metadata": {
    "execution": {
     "iopub.execute_input": "2023-06-01T08:28:56.990327Z",
     "iopub.status.busy": "2023-06-01T08:28:56.989978Z",
     "iopub.status.idle": "2023-06-01T08:28:58.125578Z",
     "shell.execute_reply": "2023-06-01T08:28:58.124952Z"
    }
   },
   "outputs": [],
   "source": [
    "from pdstools import ADMDatamart\n",
    "from pdstools import Config, DataAnonymization\n",
    "import polars as pl"
   ]
  },
  {
   "attachments": {},
   "cell_type": "markdown",
   "metadata": {},
   "source": [
    "## Input data\n",
    "\n",
    "To demonstrate this process, we're going to anonymise this toy example dataframe:"
   ]
  },
  {
   "cell_type": "code",
   "execution_count": 3,
   "metadata": {
    "execution": {
     "iopub.execute_input": "2023-06-01T08:28:58.129021Z",
     "iopub.status.busy": "2023-06-01T08:28:58.128474Z",
     "iopub.status.idle": "2023-06-01T08:28:58.140969Z",
     "shell.execute_reply": "2023-06-01T08:28:58.140517Z"
    }
   },
   "outputs": [
    {
     "name": "stderr",
     "output_type": "stream",
     "text": [
      "[/home/runner/work/polars/polars/polars/polars-io/src/ndjson/core.rs:162] &data_type = Struct(\n",
      "    [\n",
      "        Field {\n",
      "            name: \"Context_Name\",\n",
      "            data_type: LargeUtf8,\n",
      "            is_nullable: true,\n",
      "            metadata: {},\n",
      "        },\n",
      "        Field {\n",
      "            name: \"Customer_MaritalStatus\",\n",
      "            data_type: LargeUtf8,\n",
      "            is_nullable: true,\n",
      "            metadata: {},\n",
      "        },\n",
      "        Field {\n",
      "            name: \"Customer_CLV\",\n",
      "            data_type: Int64,\n",
      "            is_nullable: true,\n",
      "            metadata: {},\n",
      "        },\n",
      "        Field {\n",
      "            name: \"Customer_City\",\n",
      "            data_type: LargeUtf8,\n",
      "            is_nullable: true,\n",
      "            metadata: {},\n",
      "        },\n",
      "        Field {\n",
      "            name: \"IH_Web_Inbound_Accepted_pxLastGroupID\",\n",
      "            data_type: LargeUtf8,\n",
      "            is_nullable: true,\n",
      "            metadata: {},\n",
      "        },\n",
      "        Field {\n",
      "            name: \"Decision_Outcome\",\n",
      "            data_type: LargeUtf8,\n",
      "            is_nullable: true,\n",
      "            metadata: {},\n",
      "        },\n",
      "    ],\n",
      ")\n"
     ]
    },
    {
     "data": {
      "text/html": [
       "<div><style>\n",
       ".dataframe > thead > tr > th,\n",
       ".dataframe > tbody > tr > td {\n",
       "  text-align: right;\n",
       "}\n",
       "</style>\n",
       "<small>shape: (7, 6)</small><table border=\"1\" class=\"dataframe\"><thead><tr><th>Context_Name</th><th>Customer_MaritalStatus</th><th>Customer_CLV</th><th>Customer_City</th><th>IH_Web_Inbound_Accepted_pxLastGroupID</th><th>Decision_Outcome</th></tr><tr><td>str</td><td>str</td><td>i64</td><td>str</td><td>str</td><td>str</td></tr></thead><tbody><tr><td>&quot;FirstMortgage3…</td><td>&quot;Married&quot;</td><td>1460</td><td>&quot;Port Raoul&quot;</td><td>&quot;Account&quot;</td><td>&quot;Rejected&quot;</td></tr><tr><td>&quot;FirstMortgage3…</td><td>&quot;Unknown&quot;</td><td>669</td><td>&quot;Laurianneshire…</td><td>&quot;AutoLoans&quot;</td><td>&quot;Accepted&quot;</td></tr><tr><td>&quot;MoneyMarketSav…</td><td>&quot;No Resp+&quot;</td><td>1174</td><td>&quot;Jacobshaven&quot;</td><td>&quot;Account&quot;</td><td>&quot;Rejected&quot;</td></tr><tr><td>&quot;BasicChecking&quot;</td><td>&quot;Unknown&quot;</td><td>1476</td><td>&quot;Lindton&quot;</td><td>&quot;Account&quot;</td><td>&quot;Rejected&quot;</td></tr><tr><td>&quot;BasicChecking&quot;</td><td>&quot;Married&quot;</td><td>1211</td><td>&quot;South Jimmiesh…</td><td>&quot;DepositAccount…</td><td>&quot;Accepted&quot;</td></tr><tr><td>&quot;UPlusFinPerson…</td><td>&quot;No Resp+&quot;</td><td>533</td><td>&quot;Bergeville&quot;</td><td>null</td><td>&quot;Rejected&quot;</td></tr><tr><td>&quot;BasicChecking&quot;</td><td>&quot;No Resp+&quot;</td><td>555</td><td>&quot;Willyville&quot;</td><td>&quot;DepositAccount…</td><td>&quot;Rejected&quot;</td></tr></tbody></table></div>"
      ],
      "text/plain": [
       "shape: (7, 6)\n",
       "┌────────────────┬────────────────┬──────────────┬────────────────┬────────────────┬───────────────┐\n",
       "│ Context_Name   ┆ Customer_Marit ┆ Customer_CLV ┆ Customer_City  ┆ IH_Web_Inbound ┆ Decision_Outc │\n",
       "│ ---            ┆ alStatus       ┆ ---          ┆ ---            ┆ _Accepted_pxLa ┆ ome           │\n",
       "│ str            ┆ ---            ┆ i64          ┆ str            ┆ stGr…          ┆ ---           │\n",
       "│                ┆ str            ┆              ┆                ┆ ---            ┆ str           │\n",
       "│                ┆                ┆              ┆                ┆ str            ┆               │\n",
       "╞════════════════╪════════════════╪══════════════╪════════════════╪════════════════╪═══════════════╡\n",
       "│ FirstMortgage3 ┆ Married        ┆ 1460         ┆ Port Raoul     ┆ Account        ┆ Rejected      │\n",
       "│ 0yr            ┆                ┆              ┆                ┆                ┆               │\n",
       "│ FirstMortgage3 ┆ Unknown        ┆ 669          ┆ Laurianneshire ┆ AutoLoans      ┆ Accepted      │\n",
       "│ 0yr            ┆                ┆              ┆                ┆                ┆               │\n",
       "│ MoneyMarketSav ┆ No Resp+       ┆ 1174         ┆ Jacobshaven    ┆ Account        ┆ Rejected      │\n",
       "│ ingsAccount    ┆                ┆              ┆                ┆                ┆               │\n",
       "│ BasicChecking  ┆ Unknown        ┆ 1476         ┆ Lindton        ┆ Account        ┆ Rejected      │\n",
       "│ BasicChecking  ┆ Married        ┆ 1211         ┆ South          ┆ DepositAccount ┆ Accepted      │\n",
       "│                ┆                ┆              ┆ Jimmieshire    ┆ s              ┆               │\n",
       "│ UPlusFinPerson ┆ No Resp+       ┆ 533          ┆ Bergeville     ┆ null           ┆ Rejected      │\n",
       "│ al             ┆                ┆              ┆                ┆                ┆               │\n",
       "│ BasicChecking  ┆ No Resp+       ┆ 555          ┆ Willyville     ┆ DepositAccount ┆ Rejected      │\n",
       "│                ┆                ┆              ┆                ┆ s              ┆               │\n",
       "└────────────────┴────────────────┴──────────────┴────────────────┴────────────────┴───────────────┘"
      ]
     },
     "execution_count": 3,
     "metadata": {},
     "output_type": "execute_result"
    }
   ],
   "source": [
    "pl.read_ndjson('../../../../data/SampleHDS.json')"
   ]
  },
  {
   "attachments": {},
   "cell_type": "markdown",
   "metadata": {},
   "source": [
    "As you can see, this dataset consists of regular predictors, IH predictors, context keys and the outcome column. Additionally, some columns are numeric, others are strings. Let's first initialize the DataAnonymization class."
   ]
  },
  {
   "cell_type": "code",
   "execution_count": 4,
   "metadata": {
    "execution": {
     "iopub.execute_input": "2023-06-01T08:28:58.143391Z",
     "iopub.status.busy": "2023-06-01T08:28:58.143016Z",
     "iopub.status.idle": "2023-06-01T08:28:58.150884Z",
     "shell.execute_reply": "2023-06-01T08:28:58.150437Z"
    }
   },
   "outputs": [],
   "source": [
    "anon = DataAnonymization(hds_folder='../../../../data/')"
   ]
  },
  {
   "attachments": {},
   "cell_type": "markdown",
   "metadata": {},
   "source": [
    "By default, the class applies a set of anonymisation techniques:\n",
    "- Column names are remapped to a non-descriptive name\n",
    "- Categorical values are hashed with a random seed\n",
    "- Numerical values are normalized between 0 and 1\n",
    "- Outcomes are mapped to a binary outcome.\n",
    "\n",
    "To apply these techniques, simply call `.process()`:"
   ]
  },
  {
   "cell_type": "code",
   "execution_count": 5,
   "metadata": {
    "execution": {
     "iopub.execute_input": "2023-06-01T08:28:58.153385Z",
     "iopub.status.busy": "2023-06-01T08:28:58.152822Z",
     "iopub.status.idle": "2023-06-01T08:28:58.158689Z",
     "shell.execute_reply": "2023-06-01T08:28:58.158225Z"
    }
   },
   "outputs": [
    {
     "data": {
      "text/html": [
       "<div><style>\n",
       ".dataframe > thead > tr > th,\n",
       ".dataframe > tbody > tr > td {\n",
       "  text-align: right;\n",
       "}\n",
       "</style>\n",
       "<small>shape: (7, 7)</small><table border=\"1\" class=\"dataframe\"><thead><tr><th>filename</th><th>PREDICTOR_1</th><th>PREDICTOR_2</th><th>PREDICTOR_3</th><th>Context_Name</th><th>IH_PREDICTOR_0</th><th>Decision_Outcome</th></tr><tr><td>str</td><td>str</td><td>str</td><td>f64</td><td>str</td><td>str</td><td>bool</td></tr></thead><tbody><tr><td>&quot;../../../../da…</td><td>&quot;12961163496308…</td><td>&quot;18296978850252…</td><td>1.2927e19</td><td>&quot;11924169303111…</td><td>&quot;85960340173729…</td><td>false</td></tr><tr><td>&quot;../../../../da…</td><td>&quot;10310119206703…</td><td>&quot;15547051511679…</td><td>1.4856e19</td><td>&quot;11924169303111…</td><td>&quot;17707790312303…</td><td>true</td></tr><tr><td>&quot;../../../../da…</td><td>&quot;13085005177517…</td><td>&quot;15302861055043…</td><td>5.6458e17</td><td>&quot;65492076973343…</td><td>&quot;85960340173729…</td><td>false</td></tr><tr><td>&quot;../../../../da…</td><td>&quot;12344384365749…</td><td>&quot;15547051511679…</td><td>4.0723e18</td><td>&quot;31640018552485…</td><td>&quot;85960340173729…</td><td>false</td></tr><tr><td>&quot;../../../../da…</td><td>&quot;45900351175919…</td><td>&quot;18296978850252…</td><td>1.4677e19</td><td>&quot;31640018552485…</td><td>&quot;21184686688498…</td><td>true</td></tr><tr><td>&quot;../../../../da…</td><td>&quot;11933134639967…</td><td>&quot;15302861055043…</td><td>1.6330e19</td><td>&quot;70065544577565…</td><td>null</td><td>false</td></tr><tr><td>&quot;../../../../da…</td><td>&quot;28293723319653…</td><td>&quot;15302861055043…</td><td>8.7675e18</td><td>&quot;31640018552485…</td><td>&quot;21184686688498…</td><td>false</td></tr></tbody></table></div>"
      ],
      "text/plain": [
       "shape: (7, 7)\n",
       "┌───────────────┬──────────────┬──────────────┬─────────────┬────────────┬────────────┬────────────┐\n",
       "│ filename      ┆ PREDICTOR_1  ┆ PREDICTOR_2  ┆ PREDICTOR_3 ┆ Context_Na ┆ IH_PREDICT ┆ Decision_O │\n",
       "│ ---           ┆ ---          ┆ ---          ┆ ---         ┆ me         ┆ OR_0       ┆ utcome     │\n",
       "│ str           ┆ str          ┆ str          ┆ f64         ┆ ---        ┆ ---        ┆ ---        │\n",
       "│               ┆              ┆              ┆             ┆ str        ┆ str        ┆ bool       │\n",
       "╞═══════════════╪══════════════╪══════════════╪═════════════╪════════════╪════════════╪════════════╡\n",
       "│ ../../../../d ┆ 129611634963 ┆ 182969788502 ┆ 1.2927e19   ┆ 1192416930 ┆ 8596034017 ┆ false      │\n",
       "│ ata/SampleHDS ┆ 08855906     ┆ 52330554     ┆             ┆ 3111355734 ┆ 372996270  ┆            │\n",
       "│ .json         ┆              ┆              ┆             ┆            ┆            ┆            │\n",
       "│ ../../../../d ┆ 103101192067 ┆ 155470515116 ┆ 1.4856e19   ┆ 1192416930 ┆ 1770779031 ┆ true       │\n",
       "│ ata/SampleHDS ┆ 03324773     ┆ 79339913     ┆             ┆ 3111355734 ┆ 2303913621 ┆            │\n",
       "│ .json         ┆              ┆              ┆             ┆            ┆            ┆            │\n",
       "│ ../../../../d ┆ 130850051775 ┆ 153028610550 ┆ 5.6458e17   ┆ 6549207697 ┆ 8596034017 ┆ false      │\n",
       "│ ata/SampleHDS ┆ 17881322     ┆ 43892134     ┆             ┆ 334329346  ┆ 372996270  ┆            │\n",
       "│ .json         ┆              ┆              ┆             ┆            ┆            ┆            │\n",
       "│ ../../../../d ┆ 123443843657 ┆ 155470515116 ┆ 4.0723e18   ┆ 3164001855 ┆ 8596034017 ┆ false      │\n",
       "│ ata/SampleHDS ┆ 49799310     ┆ 79339913     ┆             ┆ 248539046  ┆ 372996270  ┆            │\n",
       "│ .json         ┆              ┆              ┆             ┆            ┆            ┆            │\n",
       "│ ../../../../d ┆ 459003511759 ┆ 182969788502 ┆ 1.4677e19   ┆ 3164001855 ┆ 2118468668 ┆ true       │\n",
       "│ ata/SampleHDS ┆ 1995811      ┆ 52330554     ┆             ┆ 248539046  ┆ 8498186    ┆            │\n",
       "│ .json         ┆              ┆              ┆             ┆            ┆            ┆            │\n",
       "│ ../../../../d ┆ 119331346399 ┆ 153028610550 ┆ 1.6330e19   ┆ 7006554457 ┆ null       ┆ false      │\n",
       "│ ata/SampleHDS ┆ 6739469      ┆ 43892134     ┆             ┆ 756599669  ┆            ┆            │\n",
       "│ .json         ┆              ┆              ┆             ┆            ┆            ┆            │\n",
       "│ ../../../../d ┆ 282937233196 ┆ 153028610550 ┆ 8.7675e18   ┆ 3164001855 ┆ 2118468668 ┆ false      │\n",
       "│ ata/SampleHDS ┆ 5349475      ┆ 43892134     ┆             ┆ 248539046  ┆ 8498186    ┆            │\n",
       "│ .json         ┆              ┆              ┆             ┆            ┆            ┆            │\n",
       "└───────────────┴──────────────┴──────────────┴─────────────┴────────────┴────────────┴────────────┘"
      ]
     },
     "execution_count": 5,
     "metadata": {},
     "output_type": "execute_result"
    }
   ],
   "source": [
    "anon.process()"
   ]
  },
  {
   "attachments": {},
   "cell_type": "markdown",
   "metadata": {},
   "source": [
    "To trace back the columns to their original names, the class also contains a mapping, which does not have to be provided."
   ]
  },
  {
   "cell_type": "code",
   "execution_count": 6,
   "metadata": {
    "execution": {
     "iopub.execute_input": "2023-06-01T08:28:58.161019Z",
     "iopub.status.busy": "2023-06-01T08:28:58.160496Z",
     "iopub.status.idle": "2023-06-01T08:28:58.164450Z",
     "shell.execute_reply": "2023-06-01T08:28:58.163892Z"
    }
   },
   "outputs": [
    {
     "data": {
      "text/plain": [
       "{'filename': 'filename',\n",
       " 'Customer_City': 'PREDICTOR_1',\n",
       " 'Customer_MaritalStatus': 'PREDICTOR_2',\n",
       " 'Customer_CLV': 'PREDICTOR_3',\n",
       " 'Context_Name': 'Context_Name',\n",
       " 'IH_Web_Inbound_Accepted_pxLastGroupID': 'IH_PREDICTOR_0',\n",
       " 'Decision_Outcome': 'Decision_Outcome'}"
      ]
     },
     "execution_count": 6,
     "metadata": {},
     "output_type": "execute_result"
    }
   ],
   "source": [
    "anon.column_mapping"
   ]
  },
  {
   "attachments": {},
   "cell_type": "markdown",
   "metadata": {},
   "source": [
    "## Configs\n",
    "\n",
    "Each capability can optionally be turned off - see below for the full list of config options, and refer to the API reference for the full description."
   ]
  },
  {
   "cell_type": "code",
   "execution_count": 7,
   "metadata": {
    "execution": {
     "iopub.execute_input": "2023-06-01T08:28:58.166893Z",
     "iopub.status.busy": "2023-06-01T08:28:58.166711Z",
     "iopub.status.idle": "2023-06-01T08:28:58.170965Z",
     "shell.execute_reply": "2023-06-01T08:28:58.170430Z"
    }
   },
   "outputs": [
    {
     "data": {
      "text/plain": [
       "{'config_file': None,\n",
       " 'hds_folder': '.',\n",
       " 'use_datamart': False,\n",
       " 'datamart_folder': 'datamart',\n",
       " 'output_format': 'ndjson',\n",
       " 'output_folder': 'output',\n",
       " 'mapping_file': 'mapping.map',\n",
       " 'mask_predictor_names': True,\n",
       " 'mask_context_key_names': False,\n",
       " 'mask_ih_names': True,\n",
       " 'mask_outcome_name': False,\n",
       " 'mask_predictor_values': True,\n",
       " 'mask_context_key_values': True,\n",
       " 'mask_ih_values': True,\n",
       " 'mask_outcome_values': True,\n",
       " 'context_key_label': 'Context_*',\n",
       " 'ih_label': 'IH_*',\n",
       " 'outcome_column': 'Decision_Outcome',\n",
       " 'positive_outcomes': ['Accepted', 'Clicked'],\n",
       " 'negative_outcomes': ['Rejected', 'Impression'],\n",
       " 'special_predictors': ['Decision_DecisionTime',\n",
       "  'Decision_OutcomeTime',\n",
       "  'Decision_Rank'],\n",
       " 'sample_percentage_schema_inferencing': 0.01}"
      ]
     },
     "execution_count": 7,
     "metadata": {},
     "output_type": "execute_result"
    }
   ],
   "source": [
    "dict(zip(Config.__init__.__code__.co_varnames[1:], Config.__init__.__defaults__))"
   ]
  },
  {
   "attachments": {},
   "cell_type": "markdown",
   "metadata": {},
   "source": [
    "It's easy to change these parameters by just passing the keyword arguments. In the following example, we\n",
    "- Keep the IH predictor names\n",
    "- Keep the outcome values\n",
    "- Keep the context key values\n",
    "- Keep the context key predictor names"
   ]
  },
  {
   "cell_type": "code",
   "execution_count": 8,
   "metadata": {
    "execution": {
     "iopub.execute_input": "2023-06-01T08:28:58.173628Z",
     "iopub.status.busy": "2023-06-01T08:28:58.173346Z",
     "iopub.status.idle": "2023-06-01T08:28:58.183882Z",
     "shell.execute_reply": "2023-06-01T08:28:58.183308Z"
    }
   },
   "outputs": [
    {
     "data": {
      "text/html": [
       "<div><style>\n",
       ".dataframe > thead > tr > th,\n",
       ".dataframe > tbody > tr > td {\n",
       "  text-align: right;\n",
       "}\n",
       "</style>\n",
       "<small>shape: (7, 7)</small><table border=\"1\" class=\"dataframe\"><thead><tr><th>filename</th><th>PREDICTOR_1</th><th>PREDICTOR_2</th><th>PREDICTOR_3</th><th>Context_Name</th><th>IH_Web_Inbound_Accepted_pxLastGroupID</th><th>Decision_Outcome</th></tr><tr><td>str</td><td>str</td><td>str</td><td>f64</td><td>str</td><td>str</td><td>str</td></tr></thead><tbody><tr><td>&quot;../../../../da…</td><td>&quot;17650321825511…</td><td>&quot;15397355079522…</td><td>1.2927e19</td><td>&quot;FirstMortgage3…</td><td>&quot;68271718721183…</td><td>&quot;Rejected&quot;</td></tr><tr><td>&quot;../../../../da…</td><td>&quot;17431023896186…</td><td>&quot;69997289744987…</td><td>1.4856e19</td><td>&quot;FirstMortgage3…</td><td>&quot;15680603114415…</td><td>&quot;Accepted&quot;</td></tr><tr><td>&quot;../../../../da…</td><td>&quot;72435132115739…</td><td>&quot;14003634068616…</td><td>5.6458e17</td><td>&quot;MoneyMarketSav…</td><td>&quot;68271718721183…</td><td>&quot;Rejected&quot;</td></tr><tr><td>&quot;../../../../da…</td><td>&quot;42860641083701…</td><td>&quot;69997289744987…</td><td>4.0723e18</td><td>&quot;BasicChecking&quot;</td><td>&quot;68271718721183…</td><td>&quot;Rejected&quot;</td></tr><tr><td>&quot;../../../../da…</td><td>&quot;17191915060762…</td><td>&quot;15397355079522…</td><td>1.4677e19</td><td>&quot;BasicChecking&quot;</td><td>&quot;13630333960240…</td><td>&quot;Accepted&quot;</td></tr><tr><td>&quot;../../../../da…</td><td>&quot;62375251320348…</td><td>&quot;14003634068616…</td><td>1.6330e19</td><td>&quot;UPlusFinPerson…</td><td>null</td><td>&quot;Rejected&quot;</td></tr><tr><td>&quot;../../../../da…</td><td>&quot;13519217610183…</td><td>&quot;14003634068616…</td><td>8.7675e18</td><td>&quot;BasicChecking&quot;</td><td>&quot;13630333960240…</td><td>&quot;Rejected&quot;</td></tr></tbody></table></div>"
      ],
      "text/plain": [
       "shape: (7, 7)\n",
       "┌───────────────┬──────────────┬──────────────┬─────────────┬────────────┬────────────┬────────────┐\n",
       "│ filename      ┆ PREDICTOR_1  ┆ PREDICTOR_2  ┆ PREDICTOR_3 ┆ Context_Na ┆ IH_Web_Inb ┆ Decision_O │\n",
       "│ ---           ┆ ---          ┆ ---          ┆ ---         ┆ me         ┆ ound_Accep ┆ utcome     │\n",
       "│ str           ┆ str          ┆ str          ┆ f64         ┆ ---        ┆ ted_pxLast ┆ ---        │\n",
       "│               ┆              ┆              ┆             ┆ str        ┆ Gr…        ┆ str        │\n",
       "│               ┆              ┆              ┆             ┆            ┆ ---        ┆            │\n",
       "│               ┆              ┆              ┆             ┆            ┆ str        ┆            │\n",
       "╞═══════════════╪══════════════╪══════════════╪═════════════╪════════════╪════════════╪════════════╡\n",
       "│ ../../../../d ┆ 176503218255 ┆ 153973550795 ┆ 1.2927e19   ┆ FirstMortg ┆ 6827171872 ┆ Rejected   │\n",
       "│ ata/SampleHDS ┆ 11417358     ┆ 22735160     ┆             ┆ age30yr    ┆ 118366638  ┆            │\n",
       "│ .json         ┆              ┆              ┆             ┆            ┆            ┆            │\n",
       "│ ../../../../d ┆ 174310238961 ┆ 699972897449 ┆ 1.4856e19   ┆ FirstMortg ┆ 1568060311 ┆ Accepted   │\n",
       "│ ata/SampleHDS ┆ 86346168     ┆ 8768284      ┆             ┆ age30yr    ┆ 4415807130 ┆            │\n",
       "│ .json         ┆              ┆              ┆             ┆            ┆            ┆            │\n",
       "│ ../../../../d ┆ 724351321157 ┆ 140036340686 ┆ 5.6458e17   ┆ MoneyMarke ┆ 6827171872 ┆ Rejected   │\n",
       "│ ata/SampleHDS ┆ 3970454      ┆ 1653237      ┆             ┆ tSavingsAc ┆ 118366638  ┆            │\n",
       "│ .json         ┆              ┆              ┆             ┆ count      ┆            ┆            │\n",
       "│ ../../../../d ┆ 428606410837 ┆ 699972897449 ┆ 4.0723e18   ┆ BasicCheck ┆ 6827171872 ┆ Rejected   │\n",
       "│ ata/SampleHDS ┆ 0189015      ┆ 8768284      ┆             ┆ ing        ┆ 118366638  ┆            │\n",
       "│ .json         ┆              ┆              ┆             ┆            ┆            ┆            │\n",
       "│ ../../../../d ┆ 171919150607 ┆ 153973550795 ┆ 1.4677e19   ┆ BasicCheck ┆ 1363033396 ┆ Accepted   │\n",
       "│ ata/SampleHDS ┆ 62489306     ┆ 22735160     ┆             ┆ ing        ┆ 024047192  ┆            │\n",
       "│ .json         ┆              ┆              ┆             ┆            ┆            ┆            │\n",
       "│ ../../../../d ┆ 623752513203 ┆ 140036340686 ┆ 1.6330e19   ┆ UPlusFinPe ┆ null       ┆ Rejected   │\n",
       "│ ata/SampleHDS ┆ 4869162      ┆ 1653237      ┆             ┆ rsonal     ┆            ┆            │\n",
       "│ .json         ┆              ┆              ┆             ┆            ┆            ┆            │\n",
       "│ ../../../../d ┆ 135192176101 ┆ 140036340686 ┆ 8.7675e18   ┆ BasicCheck ┆ 1363033396 ┆ Rejected   │\n",
       "│ ata/SampleHDS ┆ 83915482     ┆ 1653237      ┆             ┆ ing        ┆ 024047192  ┆            │\n",
       "│ .json         ┆              ┆              ┆             ┆            ┆            ┆            │\n",
       "└───────────────┴──────────────┴──────────────┴─────────────┴────────────┴────────────┴────────────┘"
      ]
     },
     "execution_count": 8,
     "metadata": {},
     "output_type": "execute_result"
    }
   ],
   "source": [
    "anon = DataAnonymization(\n",
    "    hds_folder='../../../../data/',\n",
    "    mask_ih_names=False,\n",
    "    mask_outcome_values=False,\n",
    "    mask_context_key_values=False,\n",
    "    mask_context_key_names=False,\n",
    ")\n",
    "anon.process()\n"
   ]
  },
  {
   "attachments": {},
   "cell_type": "markdown",
   "metadata": {},
   "source": [
    "The configs can also be written and read as such:"
   ]
  },
  {
   "cell_type": "code",
   "execution_count": 9,
   "metadata": {
    "execution": {
     "iopub.execute_input": "2023-06-01T08:28:58.186509Z",
     "iopub.status.busy": "2023-06-01T08:28:58.186138Z",
     "iopub.status.idle": "2023-06-01T08:28:58.189241Z",
     "shell.execute_reply": "2023-06-01T08:28:58.188714Z"
    }
   },
   "outputs": [],
   "source": [
    "anon.config.save_to_config_file('config.json')"
   ]
  },
  {
   "cell_type": "code",
   "execution_count": 10,
   "metadata": {
    "execution": {
     "iopub.execute_input": "2023-06-01T08:28:58.191614Z",
     "iopub.status.busy": "2023-06-01T08:28:58.191264Z",
     "iopub.status.idle": "2023-06-01T08:28:58.201589Z",
     "shell.execute_reply": "2023-06-01T08:28:58.201034Z"
    }
   },
   "outputs": [
    {
     "data": {
      "text/html": [
       "<div><style>\n",
       ".dataframe > thead > tr > th,\n",
       ".dataframe > tbody > tr > td {\n",
       "  text-align: right;\n",
       "}\n",
       "</style>\n",
       "<small>shape: (7, 7)</small><table border=\"1\" class=\"dataframe\"><thead><tr><th>filename</th><th>PREDICTOR_1</th><th>PREDICTOR_2</th><th>PREDICTOR_3</th><th>Context_Name</th><th>IH_Web_Inbound_Accepted_pxLastGroupID</th><th>Decision_Outcome</th></tr><tr><td>str</td><td>str</td><td>str</td><td>f64</td><td>str</td><td>str</td><td>str</td></tr></thead><tbody><tr><td>&quot;../../../../da…</td><td>&quot;81860888557738…</td><td>&quot;28049261400585…</td><td>1.2927e19</td><td>&quot;FirstMortgage3…</td><td>&quot;20815822436116…</td><td>&quot;Rejected&quot;</td></tr><tr><td>&quot;../../../../da…</td><td>&quot;15661533355166…</td><td>&quot;14999204767419…</td><td>1.4856e19</td><td>&quot;FirstMortgage3…</td><td>&quot;12431552337379…</td><td>&quot;Accepted&quot;</td></tr><tr><td>&quot;../../../../da…</td><td>&quot;81603355992145…</td><td>&quot;11523366984605…</td><td>5.6458e17</td><td>&quot;MoneyMarketSav…</td><td>&quot;20815822436116…</td><td>&quot;Rejected&quot;</td></tr><tr><td>&quot;../../../../da…</td><td>&quot;13590962396648…</td><td>&quot;14999204767419…</td><td>4.0723e18</td><td>&quot;BasicChecking&quot;</td><td>&quot;20815822436116…</td><td>&quot;Rejected&quot;</td></tr><tr><td>&quot;../../../../da…</td><td>&quot;82287982756045…</td><td>&quot;28049261400585…</td><td>1.4677e19</td><td>&quot;BasicChecking&quot;</td><td>&quot;11391482837705…</td><td>&quot;Accepted&quot;</td></tr><tr><td>&quot;../../../../da…</td><td>&quot;54861120345324…</td><td>&quot;11523366984605…</td><td>1.6330e19</td><td>&quot;UPlusFinPerson…</td><td>null</td><td>&quot;Rejected&quot;</td></tr><tr><td>&quot;../../../../da…</td><td>&quot;84296278852023…</td><td>&quot;11523366984605…</td><td>8.7675e18</td><td>&quot;BasicChecking&quot;</td><td>&quot;11391482837705…</td><td>&quot;Rejected&quot;</td></tr></tbody></table></div>"
      ],
      "text/plain": [
       "shape: (7, 7)\n",
       "┌───────────────┬──────────────┬──────────────┬─────────────┬────────────┬────────────┬────────────┐\n",
       "│ filename      ┆ PREDICTOR_1  ┆ PREDICTOR_2  ┆ PREDICTOR_3 ┆ Context_Na ┆ IH_Web_Inb ┆ Decision_O │\n",
       "│ ---           ┆ ---          ┆ ---          ┆ ---         ┆ me         ┆ ound_Accep ┆ utcome     │\n",
       "│ str           ┆ str          ┆ str          ┆ f64         ┆ ---        ┆ ted_pxLast ┆ ---        │\n",
       "│               ┆              ┆              ┆             ┆ str        ┆ Gr…        ┆ str        │\n",
       "│               ┆              ┆              ┆             ┆            ┆ ---        ┆            │\n",
       "│               ┆              ┆              ┆             ┆            ┆ str        ┆            │\n",
       "╞═══════════════╪══════════════╪══════════════╪═════════════╪════════════╪════════════╪════════════╡\n",
       "│ ../../../../d ┆ 818608885577 ┆ 280492614005 ┆ 1.2927e19   ┆ FirstMortg ┆ 2081582243 ┆ Rejected   │\n",
       "│ ata/SampleHDS ┆ 385123       ┆ 8513078      ┆             ┆ age30yr    ┆ 611659796  ┆            │\n",
       "│ .json         ┆              ┆              ┆             ┆            ┆            ┆            │\n",
       "│ ../../../../d ┆ 156615333551 ┆ 149992047674 ┆ 1.4856e19   ┆ FirstMortg ┆ 1243155233 ┆ Accepted   │\n",
       "│ ata/SampleHDS ┆ 66900708     ┆ 19671916     ┆             ┆ age30yr    ┆ 7379776326 ┆            │\n",
       "│ .json         ┆              ┆              ┆             ┆            ┆            ┆            │\n",
       "│ ../../../../d ┆ 816033559921 ┆ 115233669846 ┆ 5.6458e17   ┆ MoneyMarke ┆ 2081582243 ┆ Rejected   │\n",
       "│ ata/SampleHDS ┆ 4501556      ┆ 05701639     ┆             ┆ tSavingsAc ┆ 611659796  ┆            │\n",
       "│ .json         ┆              ┆              ┆             ┆ count      ┆            ┆            │\n",
       "│ ../../../../d ┆ 135909623966 ┆ 149992047674 ┆ 4.0723e18   ┆ BasicCheck ┆ 2081582243 ┆ Rejected   │\n",
       "│ ata/SampleHDS ┆ 48314677     ┆ 19671916     ┆             ┆ ing        ┆ 611659796  ┆            │\n",
       "│ .json         ┆              ┆              ┆             ┆            ┆            ┆            │\n",
       "│ ../../../../d ┆ 822879827560 ┆ 280492614005 ┆ 1.4677e19   ┆ BasicCheck ┆ 1139148283 ┆ Accepted   │\n",
       "│ ata/SampleHDS ┆ 4531527      ┆ 8513078      ┆             ┆ ing        ┆ 7705059590 ┆            │\n",
       "│ .json         ┆              ┆              ┆             ┆            ┆            ┆            │\n",
       "│ ../../../../d ┆ 548611203453 ┆ 115233669846 ┆ 1.6330e19   ┆ UPlusFinPe ┆ null       ┆ Rejected   │\n",
       "│ ata/SampleHDS ┆ 2416402      ┆ 05701639     ┆             ┆ rsonal     ┆            ┆            │\n",
       "│ .json         ┆              ┆              ┆             ┆            ┆            ┆            │\n",
       "│ ../../../../d ┆ 842962788520 ┆ 115233669846 ┆ 8.7675e18   ┆ BasicCheck ┆ 1139148283 ┆ Rejected   │\n",
       "│ ata/SampleHDS ┆ 2394097      ┆ 05701639     ┆             ┆ ing        ┆ 7705059590 ┆            │\n",
       "│ .json         ┆              ┆              ┆             ┆            ┆            ┆            │\n",
       "└───────────────┴──────────────┴──────────────┴─────────────┴────────────┴────────────┴────────────┘"
      ]
     },
     "execution_count": 10,
     "metadata": {},
     "output_type": "execute_result"
    }
   ],
   "source": [
    "anon = DataAnonymization(config=Config(config_file='config.json'))\n",
    "anon.process()"
   ]
  },
  {
   "attachments": {},
   "cell_type": "markdown",
   "metadata": {},
   "source": [
    "## Exporting\n",
    "Two functions export:\n",
    "- `create_mapping_file()` writes the mapping file of the predictor names\n",
    "- `write_to_output()` writes the processed dataframe to disk\n",
    "\n",
    "Write to output accepts the following extensions: `[\"ndjson\", \"parquet\", \"arrow\", \"csv\"]`"
   ]
  },
  {
   "cell_type": "code",
   "execution_count": 11,
   "metadata": {
    "execution": {
     "iopub.execute_input": "2023-06-01T08:28:58.204100Z",
     "iopub.status.busy": "2023-06-01T08:28:58.203735Z",
     "iopub.status.idle": "2023-06-01T08:28:58.207083Z",
     "shell.execute_reply": "2023-06-01T08:28:58.206652Z"
    }
   },
   "outputs": [
    {
     "name": "stdout",
     "output_type": "stream",
     "text": [
      "filename=filename\n",
      "Customer_City=PREDICTOR_1\n",
      "Customer_MaritalStatus=PREDICTOR_2\n",
      "Customer_CLV=PREDICTOR_3\n",
      "Context_Name=Context_Name\n",
      "IH_Web_Inbound_Accepted_pxLastGroupID=IH_Web_Inbound_Accepted_pxLastGroupID\n",
      "Decision_Outcome=Decision_Outcome\n",
      "\n"
     ]
    }
   ],
   "source": [
    "anon.create_mapping_file()\n",
    "with open('mapping.map') as f:\n",
    "    print(f.read())"
   ]
  },
  {
   "cell_type": "code",
   "execution_count": 12,
   "metadata": {
    "execution": {
     "iopub.execute_input": "2023-06-01T08:28:58.209219Z",
     "iopub.status.busy": "2023-06-01T08:28:58.208860Z",
     "iopub.status.idle": "2023-06-01T08:28:58.212663Z",
     "shell.execute_reply": "2023-06-01T08:28:58.212231Z"
    }
   },
   "outputs": [],
   "source": [
    "anon.write_to_output(ext='arrow')"
   ]
  },
  {
   "cell_type": "code",
   "execution_count": 13,
   "metadata": {
    "execution": {
     "iopub.execute_input": "2023-06-01T08:28:58.214891Z",
     "iopub.status.busy": "2023-06-01T08:28:58.214532Z",
     "iopub.status.idle": "2023-06-01T08:28:58.219117Z",
     "shell.execute_reply": "2023-06-01T08:28:58.218688Z"
    }
   },
   "outputs": [
    {
     "data": {
      "text/html": [
       "<div><style>\n",
       ".dataframe > thead > tr > th,\n",
       ".dataframe > tbody > tr > td {\n",
       "  text-align: right;\n",
       "}\n",
       "</style>\n",
       "<small>shape: (7, 6)</small><table border=\"1\" class=\"dataframe\"><thead><tr><th>PREDICTOR_1</th><th>PREDICTOR_2</th><th>PREDICTOR_3</th><th>Context_Name</th><th>IH_Web_Inbound_Accepted_pxLastGroupID</th><th>Decision_Outcome</th></tr><tr><td>str</td><td>str</td><td>f64</td><td>str</td><td>str</td><td>str</td></tr></thead><tbody><tr><td>&quot;17544083608354…</td><td>&quot;11916434688085…</td><td>1.2927e19</td><td>&quot;FirstMortgage3…</td><td>&quot;11344921472931…</td><td>&quot;Rejected&quot;</td></tr><tr><td>&quot;95955741621750…</td><td>&quot;12138857531143…</td><td>1.4856e19</td><td>&quot;FirstMortgage3…</td><td>&quot;27948114276081…</td><td>&quot;Accepted&quot;</td></tr><tr><td>&quot;40418386206986…</td><td>&quot;43162512322770…</td><td>5.6458e17</td><td>&quot;MoneyMarketSav…</td><td>&quot;11344921472931…</td><td>&quot;Rejected&quot;</td></tr><tr><td>&quot;96094466320148…</td><td>&quot;12138857531143…</td><td>4.0723e18</td><td>&quot;BasicChecking&quot;</td><td>&quot;11344921472931…</td><td>&quot;Rejected&quot;</td></tr><tr><td>&quot;32794588652343…</td><td>&quot;11916434688085…</td><td>1.4677e19</td><td>&quot;BasicChecking&quot;</td><td>&quot;49572518824216…</td><td>&quot;Accepted&quot;</td></tr><tr><td>&quot;16234227883469…</td><td>&quot;43162512322770…</td><td>1.6330e19</td><td>&quot;UPlusFinPerson…</td><td>null</td><td>&quot;Rejected&quot;</td></tr><tr><td>&quot;76007837241871…</td><td>&quot;43162512322770…</td><td>8.7675e18</td><td>&quot;BasicChecking&quot;</td><td>&quot;49572518824216…</td><td>&quot;Rejected&quot;</td></tr></tbody></table></div>"
      ],
      "text/plain": [
       "shape: (7, 6)\n",
       "┌────────────────┬────────────────┬─────────────┬────────────────┬────────────────┬────────────────┐\n",
       "│ PREDICTOR_1    ┆ PREDICTOR_2    ┆ PREDICTOR_3 ┆ Context_Name   ┆ IH_Web_Inbound ┆ Decision_Outco │\n",
       "│ ---            ┆ ---            ┆ ---         ┆ ---            ┆ _Accepted_pxLa ┆ me             │\n",
       "│ str            ┆ str            ┆ f64         ┆ str            ┆ stGr…          ┆ ---            │\n",
       "│                ┆                ┆             ┆                ┆ ---            ┆ str            │\n",
       "│                ┆                ┆             ┆                ┆ str            ┆                │\n",
       "╞════════════════╪════════════════╪═════════════╪════════════════╪════════════════╪════════════════╡\n",
       "│ 17544083608354 ┆ 11916434688085 ┆ 1.2927e19   ┆ FirstMortgage3 ┆ 11344921472931 ┆ Rejected       │\n",
       "│ 083311         ┆ 001533         ┆             ┆ 0yr            ┆ 789377         ┆                │\n",
       "│ 95955741621750 ┆ 12138857531143 ┆ 1.4856e19   ┆ FirstMortgage3 ┆ 27948114276081 ┆ Accepted       │\n",
       "│ 15476          ┆ 133613         ┆             ┆ 0yr            ┆ 09454          ┆                │\n",
       "│ 40418386206986 ┆ 43162512322770 ┆ 5.6458e17   ┆ MoneyMarketSav ┆ 11344921472931 ┆ Rejected       │\n",
       "│ 589            ┆ 91271          ┆             ┆ ingsAccount    ┆ 789377         ┆                │\n",
       "│ 96094466320148 ┆ 12138857531143 ┆ 4.0723e18   ┆ BasicChecking  ┆ 11344921472931 ┆ Rejected       │\n",
       "│ 60082          ┆ 133613         ┆             ┆                ┆ 789377         ┆                │\n",
       "│ 32794588652343 ┆ 11916434688085 ┆ 1.4677e19   ┆ BasicChecking  ┆ 49572518824216 ┆ Accepted       │\n",
       "│ 43078          ┆ 001533         ┆             ┆                ┆ 36467          ┆                │\n",
       "│ 16234227883469 ┆ 43162512322770 ┆ 1.6330e19   ┆ UPlusFinPerson ┆ null           ┆ Rejected       │\n",
       "│ 935576         ┆ 91271          ┆             ┆ al             ┆                ┆                │\n",
       "│ 76007837241871 ┆ 43162512322770 ┆ 8.7675e18   ┆ BasicChecking  ┆ 49572518824216 ┆ Rejected       │\n",
       "│ 6388           ┆ 91271          ┆             ┆                ┆ 36467          ┆                │\n",
       "└────────────────┴────────────────┴─────────────┴────────────────┴────────────────┴────────────────┘"
      ]
     },
     "execution_count": 13,
     "metadata": {},
     "output_type": "execute_result"
    }
   ],
   "source": [
    "pl.read_ipc('output/hds.arrow')"
   ]
  },
  {
   "attachments": {},
   "cell_type": "markdown",
   "metadata": {},
   "source": [
    "## Advanced: Hash fuctions\n",
    "\n",
    "By default, we use [the same hashing algorithm Polars](https://pola-rs.github.io/polars/py-polars/html/reference/expressions/api/polars.Expr.hash.html#polars.Expr.hash) uses: [xxhash](https://github.com/Cyan4973/xxHash), as implemented [here](https://github.com/pola-rs/polars/blob/3f287f370b3c388ed2f3f218b2c096382548136f/polars/polars-core/src/vector_hasher.rs#L266). xxhash is fast to compute, and you can check its performance in collision, dispersion and randomness [here](https://github.com/Cyan4973/xxHash/tree/dev/tests). \n",
    "\n",
    "xxhash accepts four distinct seeds, but by default we set the seeds to `0`. It is possible to set the `seed` argument of the `process()` function to `'random'`, which will set all four seeds to a random integer between `0` and `1000000000`. Alternatively, it is possible to supply the four seeds manually with arguments `seed`, `seed_1`, `seed_2` and `seed_3`. \n",
    "\n",
    "If the xxhash with (random) seed(s) is not deemed sufficiently secure, it is possible to use your own hashing algorithm.\n",
    "\n",
    "Note that since we're now running python code and not native Polars code anymore, this will be _significantly_ slower. Nonetheless, it is possible.\n",
    "\n",
    "Just as an example - this is how one would use sha3_256:"
   ]
  },
  {
   "cell_type": "code",
   "execution_count": 14,
   "metadata": {
    "execution": {
     "iopub.execute_input": "2023-06-01T08:28:58.221395Z",
     "iopub.status.busy": "2023-06-01T08:28:58.220905Z",
     "iopub.status.idle": "2023-06-01T08:28:58.555660Z",
     "shell.execute_reply": "2023-06-01T08:28:58.554998Z"
    }
   },
   "outputs": [
    {
     "ename": "ComputeError",
     "evalue": "AttributeError: 'int' object has no attribute 'encode'",
     "output_type": "error",
     "traceback": [
      "\u001b[0;31m---------------------------------------------------------------------------\u001b[0m",
      "\u001b[0;31mComputeError\u001b[0m                              Traceback (most recent call last)",
      "Cell \u001b[0;32mIn[14], line 3\u001b[0m\n\u001b[1;32m      1\u001b[0m \u001b[38;5;28;01mfrom\u001b[39;00m \u001b[38;5;21;01mhashlib\u001b[39;00m \u001b[38;5;28;01mimport\u001b[39;00m sha3_256\n\u001b[0;32m----> 3\u001b[0m \u001b[43manon\u001b[49m\u001b[38;5;241;43m.\u001b[39;49m\u001b[43mprocess\u001b[49m\u001b[43m(\u001b[49m\u001b[43malgorithm\u001b[49m\u001b[38;5;241;43m=\u001b[39;49m\u001b[38;5;28;43;01mlambda\u001b[39;49;00m\u001b[43m \u001b[49m\u001b[43mx\u001b[49m\u001b[43m:\u001b[49m\u001b[43m \u001b[49m\u001b[43msha3_256\u001b[49m\u001b[43m(\u001b[49m\u001b[43mx\u001b[49m\u001b[38;5;241;43m.\u001b[39;49m\u001b[43mencode\u001b[49m\u001b[43m(\u001b[49m\u001b[43m)\u001b[49m\u001b[43m)\u001b[49m\u001b[38;5;241;43m.\u001b[39;49m\u001b[43mhexdigest\u001b[49m\u001b[43m(\u001b[49m\u001b[43m)\u001b[49m\u001b[43m)\u001b[49m\n",
      "File \u001b[0;32m~/work/pega-datascientist-tools/pega-datascientist-tools/python/docs/source/articles/../../../pdstools/utils/hds_utils.py:516\u001b[0m, in \u001b[0;36mDataAnonymization.process\u001b[0;34m(self, strategy, **kwargs)\u001b[0m\n\u001b[1;32m    514\u001b[0m df \u001b[38;5;241m=\u001b[39m df\u001b[38;5;241m.\u001b[39mselect(\u001b[38;5;28mself\u001b[39m\u001b[38;5;241m.\u001b[39mcolumn_mapping\u001b[38;5;241m.\u001b[39mkeys())\u001b[38;5;241m.\u001b[39mrename(\u001b[38;5;28mself\u001b[39m\u001b[38;5;241m.\u001b[39mcolumn_mapping)\n\u001b[1;32m    515\u001b[0m \u001b[38;5;28;01mif\u001b[39;00m strategy \u001b[38;5;241m==\u001b[39m \u001b[38;5;124m\"\u001b[39m\u001b[38;5;124meager\u001b[39m\u001b[38;5;124m\"\u001b[39m:\n\u001b[0;32m--> 516\u001b[0m     \u001b[38;5;28;01mreturn\u001b[39;00m \u001b[43mdf\u001b[49m\u001b[38;5;241;43m.\u001b[39;49m\u001b[43mcollect\u001b[49m\u001b[43m(\u001b[49m\u001b[43m)\u001b[49m\n\u001b[1;32m    517\u001b[0m \u001b[38;5;28;01mreturn\u001b[39;00m df\n",
      "File \u001b[0;32m/opt/hostedtoolcache/Python/3.11.3/x64/lib/python3.11/site-packages/polars/lazyframe/frame.py:1501\u001b[0m, in \u001b[0;36mLazyFrame.collect\u001b[0;34m(self, type_coercion, predicate_pushdown, projection_pushdown, simplify_expression, no_optimization, slice_pushdown, common_subplan_elimination, streaming)\u001b[0m\n\u001b[1;32m   1490\u001b[0m     common_subplan_elimination \u001b[38;5;241m=\u001b[39m \u001b[38;5;28;01mFalse\u001b[39;00m\n\u001b[1;32m   1492\u001b[0m ldf \u001b[38;5;241m=\u001b[39m \u001b[38;5;28mself\u001b[39m\u001b[38;5;241m.\u001b[39m_ldf\u001b[38;5;241m.\u001b[39moptimization_toggle(\n\u001b[1;32m   1493\u001b[0m     type_coercion,\n\u001b[1;32m   1494\u001b[0m     predicate_pushdown,\n\u001b[0;32m   (...)\u001b[0m\n\u001b[1;32m   1499\u001b[0m     streaming,\n\u001b[1;32m   1500\u001b[0m )\n\u001b[0;32m-> 1501\u001b[0m \u001b[38;5;28;01mreturn\u001b[39;00m wrap_df(ldf\u001b[38;5;241m.\u001b[39mcollect())\n",
      "\u001b[0;31mComputeError\u001b[0m: AttributeError: 'int' object has no attribute 'encode'"
     ]
    }
   ],
   "source": [
    "from hashlib import sha3_256\n",
    "\n",
    "anon.process(algorithm=lambda x: sha3_256(x.encode()).hexdigest())"
   ]
  }
 ],
 "metadata": {
  "kernelspec": {
   "display_name": "Python 3",
   "language": "python",
   "name": "python3"
  },
  "language_info": {
   "codemirror_mode": {
    "name": "ipython",
    "version": 3
   },
   "file_extension": ".py",
   "mimetype": "text/x-python",
   "name": "python",
   "nbconvert_exporter": "python",
   "pygments_lexer": "ipython3",
   "version": "3.11.3"
  },
  "vscode": {
   "interpreter": {
    "hash": "aee8b7b246df8f9039afb4144a1f6fd8d2ca17a180786b69acc140d282b71a49"
   }
  }
 },
 "nbformat": 4,
 "nbformat_minor": 2
}
