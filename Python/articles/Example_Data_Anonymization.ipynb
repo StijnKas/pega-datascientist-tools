{
 "cells": [
  {
   "attachments": {},
   "cell_type": "markdown",
   "metadata": {},
   "source": [
    "# Example data anonymization\n",
    "\n",
    "In Pega CDH 8.5 and up, it's now possible to record the historical data as seen by the Adaptive Models. See [this academy challenge](https://academy.pega.com/challenge/exporting-historical-data/v4) for reference. This historical data can be further used to experiment with offline models, but also to fine-tune the OOTB Gradient Boosting model. However, sharing this information with Pega can be sensitive as it contains raw predictor data. \n",
    "\n",
    "To this end, we provide a simple and transparent script to fully anonimize this dataset.\n",
    "\n",
    "The DataAnonymization script is now part of pdstools, and you can import it directly as such."
   ]
  },
  {
   "cell_type": "code",
   "execution_count": 1,
   "metadata": {
    "execution": {
     "iopub.execute_input": "2023-10-04T10:59:41.373701Z",
     "iopub.status.busy": "2023-10-04T10:59:41.373290Z",
     "iopub.status.idle": "2023-10-04T10:59:41.453934Z",
     "shell.execute_reply": "2023-10-04T10:59:41.453331Z"
    },
    "nbsphinx": "hidden"
   },
   "outputs": [],
   "source": [
    "# These lines are only for rendering in the docs, and are hidden through Jupyter tags\n",
    "# Do not run if you're running the notebook seperately\n",
    "\n",
    "import os  \n",
    "import sys\n",
    "import plotly.io as pio\n",
    "pio.renderers.default = \"notebook_connected\"\n",
    "\n",
    "sys.path.append(\"../../../\")\n",
    "sys.path.append('../../python')"
   ]
  },
  {
   "cell_type": "code",
   "execution_count": 2,
   "metadata": {
    "execution": {
     "iopub.execute_input": "2023-10-04T10:59:41.456787Z",
     "iopub.status.busy": "2023-10-04T10:59:41.456476Z",
     "iopub.status.idle": "2023-10-04T10:59:42.631132Z",
     "shell.execute_reply": "2023-10-04T10:59:42.630501Z"
    }
   },
   "outputs": [],
   "source": [
    "from pdstools import ADMDatamart\n",
    "from pdstools import Config, DataAnonymization\n",
    "import polars as pl"
   ]
  },
  {
   "attachments": {},
   "cell_type": "markdown",
   "metadata": {},
   "source": [
    "## Input data\n",
    "\n",
    "To demonstrate this process, we're going to anonymise this toy example dataframe:"
   ]
  },
  {
   "cell_type": "code",
   "execution_count": 3,
   "metadata": {
    "execution": {
     "iopub.execute_input": "2023-10-04T10:59:42.634402Z",
     "iopub.status.busy": "2023-10-04T10:59:42.633938Z",
     "iopub.status.idle": "2023-10-04T10:59:42.646201Z",
     "shell.execute_reply": "2023-10-04T10:59:42.645668Z"
    }
   },
   "outputs": [
    {
     "data": {
      "text/html": [
       "<div><style>\n",
       ".dataframe > thead > tr > th,\n",
       ".dataframe > tbody > tr > td {\n",
       "  text-align: right;\n",
       "  white-space: pre-wrap;\n",
       "}\n",
       "</style>\n",
       "<small>shape: (7, 6)</small><table border=\"1\" class=\"dataframe\"><thead><tr><th>Context_Name</th><th>Customer_MaritalStatus</th><th>Customer_CLV</th><th>Customer_City</th><th>IH_Web_Inbound_Accepted_pxLastGroupID</th><th>Decision_Outcome</th></tr><tr><td>str</td><td>str</td><td>i64</td><td>str</td><td>str</td><td>str</td></tr></thead><tbody><tr><td>&quot;FirstMortgage3…</td><td>&quot;Married&quot;</td><td>1460</td><td>&quot;Port Raoul&quot;</td><td>&quot;Account&quot;</td><td>&quot;Rejected&quot;</td></tr><tr><td>&quot;FirstMortgage3…</td><td>&quot;Unknown&quot;</td><td>669</td><td>&quot;Laurianneshire…</td><td>&quot;AutoLoans&quot;</td><td>&quot;Accepted&quot;</td></tr><tr><td>&quot;MoneyMarketSav…</td><td>&quot;No Resp+&quot;</td><td>1174</td><td>&quot;Jacobshaven&quot;</td><td>&quot;Account&quot;</td><td>&quot;Rejected&quot;</td></tr><tr><td>&quot;BasicChecking&quot;</td><td>&quot;Unknown&quot;</td><td>1476</td><td>&quot;Lindton&quot;</td><td>&quot;Account&quot;</td><td>&quot;Rejected&quot;</td></tr><tr><td>&quot;BasicChecking&quot;</td><td>&quot;Married&quot;</td><td>1211</td><td>&quot;South Jimmiesh…</td><td>&quot;DepositAccount…</td><td>&quot;Accepted&quot;</td></tr><tr><td>&quot;UPlusFinPerson…</td><td>&quot;No Resp+&quot;</td><td>533</td><td>&quot;Bergeville&quot;</td><td>null</td><td>&quot;Rejected&quot;</td></tr><tr><td>&quot;BasicChecking&quot;</td><td>&quot;No Resp+&quot;</td><td>555</td><td>&quot;Willyville&quot;</td><td>&quot;DepositAccount…</td><td>&quot;Rejected&quot;</td></tr></tbody></table></div>"
      ],
      "text/plain": [
       "shape: (7, 6)\n",
       "┌────────────────┬────────────────┬──────────────┬────────────────┬────────────────┬───────────────┐\n",
       "│ Context_Name   ┆ Customer_Marit ┆ Customer_CLV ┆ Customer_City  ┆ IH_Web_Inbound ┆ Decision_Outc │\n",
       "│ ---            ┆ alStatus       ┆ ---          ┆ ---            ┆ _Accepted_pxLa ┆ ome           │\n",
       "│ str            ┆ ---            ┆ i64          ┆ str            ┆ stGr…          ┆ ---           │\n",
       "│                ┆ str            ┆              ┆                ┆ ---            ┆ str           │\n",
       "│                ┆                ┆              ┆                ┆ str            ┆               │\n",
       "╞════════════════╪════════════════╪══════════════╪════════════════╪════════════════╪═══════════════╡\n",
       "│ FirstMortgage3 ┆ Married        ┆ 1460         ┆ Port Raoul     ┆ Account        ┆ Rejected      │\n",
       "│ 0yr            ┆                ┆              ┆                ┆                ┆               │\n",
       "│ FirstMortgage3 ┆ Unknown        ┆ 669          ┆ Laurianneshire ┆ AutoLoans      ┆ Accepted      │\n",
       "│ 0yr            ┆                ┆              ┆                ┆                ┆               │\n",
       "│ MoneyMarketSav ┆ No Resp+       ┆ 1174         ┆ Jacobshaven    ┆ Account        ┆ Rejected      │\n",
       "│ ingsAccount    ┆                ┆              ┆                ┆                ┆               │\n",
       "│ BasicChecking  ┆ Unknown        ┆ 1476         ┆ Lindton        ┆ Account        ┆ Rejected      │\n",
       "│ BasicChecking  ┆ Married        ┆ 1211         ┆ South          ┆ DepositAccount ┆ Accepted      │\n",
       "│                ┆                ┆              ┆ Jimmieshire    ┆ s              ┆               │\n",
       "│ UPlusFinPerson ┆ No Resp+       ┆ 533          ┆ Bergeville     ┆ null           ┆ Rejected      │\n",
       "│ al             ┆                ┆              ┆                ┆                ┆               │\n",
       "│ BasicChecking  ┆ No Resp+       ┆ 555          ┆ Willyville     ┆ DepositAccount ┆ Rejected      │\n",
       "│                ┆                ┆              ┆                ┆ s              ┆               │\n",
       "└────────────────┴────────────────┴──────────────┴────────────────┴────────────────┴───────────────┘"
      ]
     },
     "execution_count": 3,
     "metadata": {},
     "output_type": "execute_result"
    }
   ],
   "source": [
    "pl.read_ndjson('../../../../data/SampleHDS.json')"
   ]
  },
  {
   "attachments": {},
   "cell_type": "markdown",
   "metadata": {},
   "source": [
    "As you can see, this dataset consists of regular predictors, IH predictors, context keys and the outcome column. Additionally, some columns are numeric, others are strings. Let's first initialize the DataAnonymization class."
   ]
  },
  {
   "cell_type": "code",
   "execution_count": 4,
   "metadata": {
    "execution": {
     "iopub.execute_input": "2023-10-04T10:59:42.648534Z",
     "iopub.status.busy": "2023-10-04T10:59:42.648334Z",
     "iopub.status.idle": "2023-10-04T10:59:42.658502Z",
     "shell.execute_reply": "2023-10-04T10:59:42.657998Z"
    }
   },
   "outputs": [],
   "source": [
    "anon = DataAnonymization(hds_folder='../../../../data/')"
   ]
  },
  {
   "attachments": {},
   "cell_type": "markdown",
   "metadata": {},
   "source": [
    "By default, the class applies a set of anonymisation techniques:\n",
    "- Column names are remapped to a non-descriptive name\n",
    "- Categorical values are hashed with a random seed\n",
    "- Numerical values are normalized between 0 and 1\n",
    "- Outcomes are mapped to a binary outcome.\n",
    "\n",
    "To apply these techniques, simply call `.process()`:"
   ]
  },
  {
   "cell_type": "code",
   "execution_count": 5,
   "metadata": {
    "execution": {
     "iopub.execute_input": "2023-10-04T10:59:42.660967Z",
     "iopub.status.busy": "2023-10-04T10:59:42.660652Z",
     "iopub.status.idle": "2023-10-04T10:59:42.667112Z",
     "shell.execute_reply": "2023-10-04T10:59:42.666646Z"
    }
   },
   "outputs": [
    {
     "data": {
      "text/html": [
       "<div><style>\n",
       ".dataframe > thead > tr > th,\n",
       ".dataframe > tbody > tr > td {\n",
       "  text-align: right;\n",
       "  white-space: pre-wrap;\n",
       "}\n",
       "</style>\n",
       "<small>shape: (7, 7)</small><table border=\"1\" class=\"dataframe\"><thead><tr><th>PREDICTOR_0</th><th>PREDICTOR_1</th><th>filename</th><th>PREDICTOR_3</th><th>Context_Name</th><th>IH_PREDICTOR_0</th><th>Decision_Outcome</th></tr><tr><td>str</td><td>str</td><td>str</td><td>f64</td><td>str</td><td>str</td><td>bool</td></tr></thead><tbody><tr><td>&quot;31462474281028…</td><td>&quot;13770120213171…</td><td>&quot;../../../../da…</td><td>1.2927e19</td><td>&quot;65287343313807…</td><td>&quot;13871792732777…</td><td>false</td></tr><tr><td>&quot;53239797866065…</td><td>&quot;13697966901779…</td><td>&quot;../../../../da…</td><td>1.4856e19</td><td>&quot;65287343313807…</td><td>&quot;34216544204907…</td><td>true</td></tr><tr><td>&quot;36897406992273…</td><td>&quot;84117707542633…</td><td>&quot;../../../../da…</td><td>5.6458e17</td><td>&quot;16537993835248…</td><td>&quot;13871792732777…</td><td>false</td></tr><tr><td>&quot;53239797866065…</td><td>&quot;17075732572912…</td><td>&quot;../../../../da…</td><td>4.0723e18</td><td>&quot;14559841333218…</td><td>&quot;13871792732777…</td><td>false</td></tr><tr><td>&quot;31462474281028…</td><td>&quot;17538153634940…</td><td>&quot;../../../../da…</td><td>1.4677e19</td><td>&quot;14559841333218…</td><td>&quot;55511853250136…</td><td>true</td></tr><tr><td>&quot;36897406992273…</td><td>&quot;17924056036335…</td><td>&quot;../../../../da…</td><td>1.6330e19</td><td>&quot;40362579710948…</td><td>null</td><td>false</td></tr><tr><td>&quot;36897406992273…</td><td>&quot;13959188296919…</td><td>&quot;../../../../da…</td><td>8.7675e18</td><td>&quot;14559841333218…</td><td>&quot;55511853250136…</td><td>false</td></tr></tbody></table></div>"
      ],
      "text/plain": [
       "shape: (7, 7)\n",
       "┌──────────────┬─────────────┬─────────────┬─────────────┬─────────────┬─────────────┬─────────────┐\n",
       "│ PREDICTOR_0  ┆ PREDICTOR_1 ┆ filename    ┆ PREDICTOR_3 ┆ Context_Nam ┆ IH_PREDICTO ┆ Decision_Ou │\n",
       "│ ---          ┆ ---         ┆ ---         ┆ ---         ┆ e           ┆ R_0         ┆ tcome       │\n",
       "│ str          ┆ str         ┆ str         ┆ f64         ┆ ---         ┆ ---         ┆ ---         │\n",
       "│              ┆             ┆             ┆             ┆ str         ┆ str         ┆ bool        │\n",
       "╞══════════════╪═════════════╪═════════════╪═════════════╪═════════════╪═════════════╪═════════════╡\n",
       "│ 314624742810 ┆ 13770120213 ┆ ../../../.. ┆ 1.2927e19   ┆ 65287343313 ┆ 13871792732 ┆ false       │\n",
       "│ 2807168      ┆ 171824622   ┆ /data/Sampl ┆             ┆ 80702107    ┆ 777332085   ┆             │\n",
       "│              ┆             ┆ eHDS.json   ┆             ┆             ┆             ┆             │\n",
       "│ 532397978660 ┆ 13697966901 ┆ ../../../.. ┆ 1.4856e19   ┆ 65287343313 ┆ 34216544204 ┆ true        │\n",
       "│ 6573608      ┆ 779835061   ┆ /data/Sampl ┆             ┆ 80702107    ┆ 90702959    ┆             │\n",
       "│              ┆             ┆ eHDS.json   ┆             ┆             ┆             ┆             │\n",
       "│ 368974069922 ┆ 84117707542 ┆ ../../../.. ┆ 5.6458e17   ┆ 16537993835 ┆ 13871792732 ┆ false       │\n",
       "│ 7330970      ┆ 63316121    ┆ /data/Sampl ┆             ┆ 248597800   ┆ 777332085   ┆             │\n",
       "│              ┆             ┆ eHDS.json   ┆             ┆             ┆             ┆             │\n",
       "│ 532397978660 ┆ 17075732572 ┆ ../../../.. ┆ 4.0723e18   ┆ 14559841333 ┆ 13871792732 ┆ false       │\n",
       "│ 6573608      ┆ 912232180   ┆ /data/Sampl ┆             ┆ 218951041   ┆ 777332085   ┆             │\n",
       "│              ┆             ┆ eHDS.json   ┆             ┆             ┆             ┆             │\n",
       "│ 314624742810 ┆ 17538153634 ┆ ../../../.. ┆ 1.4677e19   ┆ 14559841333 ┆ 55511853250 ┆ true        │\n",
       "│ 2807168      ┆ 940814061   ┆ /data/Sampl ┆             ┆ 218951041   ┆ 13645387    ┆             │\n",
       "│              ┆             ┆ eHDS.json   ┆             ┆             ┆             ┆             │\n",
       "│ 368974069922 ┆ 17924056036 ┆ ../../../.. ┆ 1.6330e19   ┆ 40362579710 ┆ null        ┆ false       │\n",
       "│ 7330970      ┆ 335015690   ┆ /data/Sampl ┆             ┆ 94819893    ┆             ┆             │\n",
       "│              ┆             ┆ eHDS.json   ┆             ┆             ┆             ┆             │\n",
       "│ 368974069922 ┆ 13959188296 ┆ ../../../.. ┆ 8.7675e18   ┆ 14559841333 ┆ 55511853250 ┆ false       │\n",
       "│ 7330970      ┆ 919446267   ┆ /data/Sampl ┆             ┆ 218951041   ┆ 13645387    ┆             │\n",
       "│              ┆             ┆ eHDS.json   ┆             ┆             ┆             ┆             │\n",
       "└──────────────┴─────────────┴─────────────┴─────────────┴─────────────┴─────────────┴─────────────┘"
      ]
     },
     "execution_count": 5,
     "metadata": {},
     "output_type": "execute_result"
    }
   ],
   "source": [
    "anon.process()"
   ]
  },
  {
   "attachments": {},
   "cell_type": "markdown",
   "metadata": {},
   "source": [
    "To trace back the columns to their original names, the class also contains a mapping, which does not have to be provided."
   ]
  },
  {
   "cell_type": "code",
   "execution_count": 6,
   "metadata": {
    "execution": {
     "iopub.execute_input": "2023-10-04T10:59:42.669419Z",
     "iopub.status.busy": "2023-10-04T10:59:42.669114Z",
     "iopub.status.idle": "2023-10-04T10:59:42.672677Z",
     "shell.execute_reply": "2023-10-04T10:59:42.672240Z"
    }
   },
   "outputs": [
    {
     "data": {
      "text/plain": [
       "{'Customer_MaritalStatus': 'PREDICTOR_0',\n",
       " 'Customer_City': 'PREDICTOR_1',\n",
       " 'filename': 'filename',\n",
       " 'Customer_CLV': 'PREDICTOR_3',\n",
       " 'Context_Name': 'Context_Name',\n",
       " 'IH_Web_Inbound_Accepted_pxLastGroupID': 'IH_PREDICTOR_0',\n",
       " 'Decision_Outcome': 'Decision_Outcome'}"
      ]
     },
     "execution_count": 6,
     "metadata": {},
     "output_type": "execute_result"
    }
   ],
   "source": [
    "anon.column_mapping"
   ]
  },
  {
   "attachments": {},
   "cell_type": "markdown",
   "metadata": {},
   "source": [
    "## Configs\n",
    "\n",
    "Each capability can optionally be turned off - see below for the full list of config options, and refer to the API reference for the full description."
   ]
  },
  {
   "cell_type": "code",
   "execution_count": 7,
   "metadata": {
    "execution": {
     "iopub.execute_input": "2023-10-04T10:59:42.674872Z",
     "iopub.status.busy": "2023-10-04T10:59:42.674565Z",
     "iopub.status.idle": "2023-10-04T10:59:42.678580Z",
     "shell.execute_reply": "2023-10-04T10:59:42.678143Z"
    }
   },
   "outputs": [
    {
     "data": {
      "text/plain": [
       "{'config_file': None,\n",
       " 'hds_folder': '.',\n",
       " 'use_datamart': False,\n",
       " 'datamart_folder': 'datamart',\n",
       " 'output_format': 'ndjson',\n",
       " 'output_folder': 'output',\n",
       " 'mapping_file': 'mapping.map',\n",
       " 'mask_predictor_names': True,\n",
       " 'mask_context_key_names': False,\n",
       " 'mask_ih_names': True,\n",
       " 'mask_outcome_name': False,\n",
       " 'mask_predictor_values': True,\n",
       " 'mask_context_key_values': True,\n",
       " 'mask_ih_values': True,\n",
       " 'mask_outcome_values': True,\n",
       " 'context_key_label': 'Context_*',\n",
       " 'ih_label': 'IH_*',\n",
       " 'outcome_column': 'Decision_Outcome',\n",
       " 'positive_outcomes': ['Accepted', 'Clicked'],\n",
       " 'negative_outcomes': ['Rejected', 'Impression'],\n",
       " 'special_predictors': ['Decision_DecisionTime',\n",
       "  'Decision_OutcomeTime',\n",
       "  'Decision_Rank'],\n",
       " 'sample_percentage_schema_inferencing': 0.01}"
      ]
     },
     "execution_count": 7,
     "metadata": {},
     "output_type": "execute_result"
    }
   ],
   "source": [
    "dict(zip(Config.__init__.__code__.co_varnames[1:], Config.__init__.__defaults__))"
   ]
  },
  {
   "attachments": {},
   "cell_type": "markdown",
   "metadata": {},
   "source": [
    "It's easy to change these parameters by just passing the keyword arguments. In the following example, we\n",
    "- Keep the IH predictor names\n",
    "- Keep the outcome values\n",
    "- Keep the context key values\n",
    "- Keep the context key predictor names"
   ]
  },
  {
   "cell_type": "code",
   "execution_count": 8,
   "metadata": {
    "execution": {
     "iopub.execute_input": "2023-10-04T10:59:42.680841Z",
     "iopub.status.busy": "2023-10-04T10:59:42.680540Z",
     "iopub.status.idle": "2023-10-04T10:59:42.690371Z",
     "shell.execute_reply": "2023-10-04T10:59:42.689926Z"
    }
   },
   "outputs": [
    {
     "data": {
      "text/html": [
       "<div><style>\n",
       ".dataframe > thead > tr > th,\n",
       ".dataframe > tbody > tr > td {\n",
       "  text-align: right;\n",
       "  white-space: pre-wrap;\n",
       "}\n",
       "</style>\n",
       "<small>shape: (7, 7)</small><table border=\"1\" class=\"dataframe\"><thead><tr><th>PREDICTOR_0</th><th>PREDICTOR_1</th><th>filename</th><th>PREDICTOR_3</th><th>Context_Name</th><th>IH_Web_Inbound_Accepted_pxLastGroupID</th><th>Decision_Outcome</th></tr><tr><td>str</td><td>str</td><td>str</td><td>f64</td><td>str</td><td>str</td><td>str</td></tr></thead><tbody><tr><td>&quot;17642868909740…</td><td>&quot;17532382345781…</td><td>&quot;../../../../da…</td><td>1.2927e19</td><td>&quot;FirstMortgage3…</td><td>&quot;62036753254679…</td><td>&quot;Rejected&quot;</td></tr><tr><td>&quot;17555750693462…</td><td>&quot;13508434696110…</td><td>&quot;../../../../da…</td><td>1.4856e19</td><td>&quot;FirstMortgage3…</td><td>&quot;14350687268024…</td><td>&quot;Accepted&quot;</td></tr><tr><td>&quot;13971003329687…</td><td>&quot;29328270740493…</td><td>&quot;../../../../da…</td><td>5.6458e17</td><td>&quot;MoneyMarketSav…</td><td>&quot;62036753254679…</td><td>&quot;Rejected&quot;</td></tr><tr><td>&quot;17555750693462…</td><td>&quot;11320307242879…</td><td>&quot;../../../../da…</td><td>4.0723e18</td><td>&quot;BasicChecking&quot;</td><td>&quot;62036753254679…</td><td>&quot;Rejected&quot;</td></tr><tr><td>&quot;17642868909740…</td><td>&quot;16320942495057…</td><td>&quot;../../../../da…</td><td>1.4677e19</td><td>&quot;BasicChecking&quot;</td><td>&quot;25105167096797…</td><td>&quot;Accepted&quot;</td></tr><tr><td>&quot;13971003329687…</td><td>&quot;12590255965401…</td><td>&quot;../../../../da…</td><td>1.6330e19</td><td>&quot;UPlusFinPerson…</td><td>null</td><td>&quot;Rejected&quot;</td></tr><tr><td>&quot;13971003329687…</td><td>&quot;12945147571147…</td><td>&quot;../../../../da…</td><td>8.7675e18</td><td>&quot;BasicChecking&quot;</td><td>&quot;25105167096797…</td><td>&quot;Rejected&quot;</td></tr></tbody></table></div>"
      ],
      "text/plain": [
       "shape: (7, 7)\n",
       "┌──────────────┬─────────────┬─────────────┬─────────────┬─────────────┬─────────────┬─────────────┐\n",
       "│ PREDICTOR_0  ┆ PREDICTOR_1 ┆ filename    ┆ PREDICTOR_3 ┆ Context_Nam ┆ IH_Web_Inbo ┆ Decision_Ou │\n",
       "│ ---          ┆ ---         ┆ ---         ┆ ---         ┆ e           ┆ und_Accepte ┆ tcome       │\n",
       "│ str          ┆ str         ┆ str         ┆ f64         ┆ ---         ┆ d_pxLastGr… ┆ ---         │\n",
       "│              ┆             ┆             ┆             ┆ str         ┆ ---         ┆ str         │\n",
       "│              ┆             ┆             ┆             ┆             ┆ str         ┆             │\n",
       "╞══════════════╪═════════════╪═════════════╪═════════════╪═════════════╪═════════════╪═════════════╡\n",
       "│ 176428689097 ┆ 17532382345 ┆ ../../../.. ┆ 1.2927e19   ┆ FirstMortga ┆ 62036753254 ┆ Rejected    │\n",
       "│ 40665594     ┆ 781976328   ┆ /data/Sampl ┆             ┆ ge30yr      ┆ 67972514    ┆             │\n",
       "│              ┆             ┆ eHDS.json   ┆             ┆             ┆             ┆             │\n",
       "│ 175557506934 ┆ 13508434696 ┆ ../../../.. ┆ 1.4856e19   ┆ FirstMortga ┆ 14350687268 ┆ Accepted    │\n",
       "│ 62357967     ┆ 110136287   ┆ /data/Sampl ┆             ┆ ge30yr      ┆ 024499476   ┆             │\n",
       "│              ┆             ┆ eHDS.json   ┆             ┆             ┆             ┆             │\n",
       "│ 139710033296 ┆ 29328270740 ┆ ../../../.. ┆ 5.6458e17   ┆ MoneyMarket ┆ 62036753254 ┆ Rejected    │\n",
       "│ 872570       ┆ 49323813    ┆ /data/Sampl ┆             ┆ SavingsAcco ┆ 67972514    ┆             │\n",
       "│              ┆             ┆ eHDS.json   ┆             ┆ unt         ┆             ┆             │\n",
       "│ 175557506934 ┆ 11320307242 ┆ ../../../.. ┆ 4.0723e18   ┆ BasicChecki ┆ 62036753254 ┆ Rejected    │\n",
       "│ 62357967     ┆ 879861501   ┆ /data/Sampl ┆             ┆ ng          ┆ 67972514    ┆             │\n",
       "│              ┆             ┆ eHDS.json   ┆             ┆             ┆             ┆             │\n",
       "│ 176428689097 ┆ 16320942495 ┆ ../../../.. ┆ 1.4677e19   ┆ BasicChecki ┆ 25105167096 ┆ Accepted    │\n",
       "│ 40665594     ┆ 057439474   ┆ /data/Sampl ┆             ┆ ng          ┆ 79739996    ┆             │\n",
       "│              ┆             ┆ eHDS.json   ┆             ┆             ┆             ┆             │\n",
       "│ 139710033296 ┆ 12590255965 ┆ ../../../.. ┆ 1.6330e19   ┆ UPlusFinPer ┆ null        ┆ Rejected    │\n",
       "│ 872570       ┆ 401090912   ┆ /data/Sampl ┆             ┆ sonal       ┆             ┆             │\n",
       "│              ┆             ┆ eHDS.json   ┆             ┆             ┆             ┆             │\n",
       "│ 139710033296 ┆ 12945147571 ┆ ../../../.. ┆ 8.7675e18   ┆ BasicChecki ┆ 25105167096 ┆ Rejected    │\n",
       "│ 872570       ┆ 147639651   ┆ /data/Sampl ┆             ┆ ng          ┆ 79739996    ┆             │\n",
       "│              ┆             ┆ eHDS.json   ┆             ┆             ┆             ┆             │\n",
       "└──────────────┴─────────────┴─────────────┴─────────────┴─────────────┴─────────────┴─────────────┘"
      ]
     },
     "execution_count": 8,
     "metadata": {},
     "output_type": "execute_result"
    }
   ],
   "source": [
    "anon = DataAnonymization(\n",
    "    hds_folder=\"../../../../data/\",\n",
    "    mask_ih_names=False,\n",
    "    mask_outcome_values=False,\n",
    "    mask_context_key_values=False,\n",
    "    mask_context_key_names=False,\n",
    ")\n",
    "anon.process()\n"
   ]
  },
  {
   "attachments": {},
   "cell_type": "markdown",
   "metadata": {},
   "source": [
    "The configs can also be written and read as such:"
   ]
  },
  {
   "cell_type": "code",
   "execution_count": 9,
   "metadata": {
    "execution": {
     "iopub.execute_input": "2023-10-04T10:59:42.692622Z",
     "iopub.status.busy": "2023-10-04T10:59:42.692321Z",
     "iopub.status.idle": "2023-10-04T10:59:42.694982Z",
     "shell.execute_reply": "2023-10-04T10:59:42.694543Z"
    }
   },
   "outputs": [],
   "source": [
    "anon.config.save_to_config_file('config.json')"
   ]
  },
  {
   "cell_type": "code",
   "execution_count": 10,
   "metadata": {
    "execution": {
     "iopub.execute_input": "2023-10-04T10:59:42.697148Z",
     "iopub.status.busy": "2023-10-04T10:59:42.696840Z",
     "iopub.status.idle": "2023-10-04T10:59:42.706146Z",
     "shell.execute_reply": "2023-10-04T10:59:42.705710Z"
    }
   },
   "outputs": [
    {
     "data": {
      "text/html": [
       "<div><style>\n",
       ".dataframe > thead > tr > th,\n",
       ".dataframe > tbody > tr > td {\n",
       "  text-align: right;\n",
       "  white-space: pre-wrap;\n",
       "}\n",
       "</style>\n",
       "<small>shape: (7, 7)</small><table border=\"1\" class=\"dataframe\"><thead><tr><th>PREDICTOR_0</th><th>PREDICTOR_1</th><th>filename</th><th>PREDICTOR_3</th><th>Context_Name</th><th>IH_Web_Inbound_Accepted_pxLastGroupID</th><th>Decision_Outcome</th></tr><tr><td>str</td><td>str</td><td>str</td><td>f64</td><td>str</td><td>str</td><td>str</td></tr></thead><tbody><tr><td>&quot;73956017921264…</td><td>&quot;22273356178601…</td><td>&quot;../../../../da…</td><td>1.2927e19</td><td>&quot;FirstMortgage3…</td><td>&quot;15201400732449…</td><td>&quot;Rejected&quot;</td></tr><tr><td>&quot;35650349235897…</td><td>&quot;40879582779695…</td><td>&quot;../../../../da…</td><td>1.4856e19</td><td>&quot;FirstMortgage3…</td><td>&quot;15472712937097…</td><td>&quot;Accepted&quot;</td></tr><tr><td>&quot;11662947903304…</td><td>&quot;16369213593397…</td><td>&quot;../../../../da…</td><td>5.6458e17</td><td>&quot;MoneyMarketSav…</td><td>&quot;15201400732449…</td><td>&quot;Rejected&quot;</td></tr><tr><td>&quot;35650349235897…</td><td>&quot;89358688420007…</td><td>&quot;../../../../da…</td><td>4.0723e18</td><td>&quot;BasicChecking&quot;</td><td>&quot;15201400732449…</td><td>&quot;Rejected&quot;</td></tr><tr><td>&quot;73956017921264…</td><td>&quot;63545614052895…</td><td>&quot;../../../../da…</td><td>1.4677e19</td><td>&quot;BasicChecking&quot;</td><td>&quot;93470014423172…</td><td>&quot;Accepted&quot;</td></tr><tr><td>&quot;11662947903304…</td><td>&quot;59508258350071…</td><td>&quot;../../../../da…</td><td>1.6330e19</td><td>&quot;UPlusFinPerson…</td><td>null</td><td>&quot;Rejected&quot;</td></tr><tr><td>&quot;11662947903304…</td><td>&quot;10802362063188…</td><td>&quot;../../../../da…</td><td>8.7675e18</td><td>&quot;BasicChecking&quot;</td><td>&quot;93470014423172…</td><td>&quot;Rejected&quot;</td></tr></tbody></table></div>"
      ],
      "text/plain": [
       "shape: (7, 7)\n",
       "┌──────────────┬─────────────┬─────────────┬─────────────┬─────────────┬─────────────┬─────────────┐\n",
       "│ PREDICTOR_0  ┆ PREDICTOR_1 ┆ filename    ┆ PREDICTOR_3 ┆ Context_Nam ┆ IH_Web_Inbo ┆ Decision_Ou │\n",
       "│ ---          ┆ ---         ┆ ---         ┆ ---         ┆ e           ┆ und_Accepte ┆ tcome       │\n",
       "│ str          ┆ str         ┆ str         ┆ f64         ┆ ---         ┆ d_pxLastGr… ┆ ---         │\n",
       "│              ┆             ┆             ┆             ┆ str         ┆ ---         ┆ str         │\n",
       "│              ┆             ┆             ┆             ┆             ┆ str         ┆             │\n",
       "╞══════════════╪═════════════╪═════════════╪═════════════╪═════════════╪═════════════╪═════════════╡\n",
       "│ 739560179212 ┆ 22273356178 ┆ ../../../.. ┆ 1.2927e19   ┆ FirstMortga ┆ 15201400732 ┆ Rejected    │\n",
       "│ 6405604      ┆ 60146892    ┆ /data/Sampl ┆             ┆ ge30yr      ┆ 449720223   ┆             │\n",
       "│              ┆             ┆ eHDS.json   ┆             ┆             ┆             ┆             │\n",
       "│ 356503492358 ┆ 40879582779 ┆ ../../../.. ┆ 1.4856e19   ┆ FirstMortga ┆ 15472712937 ┆ Accepted    │\n",
       "│ 9790648      ┆ 69527245    ┆ /data/Sampl ┆             ┆ ge30yr      ┆ 097984185   ┆             │\n",
       "│              ┆             ┆ eHDS.json   ┆             ┆             ┆             ┆             │\n",
       "│ 116629479033 ┆ 16369213593 ┆ ../../../.. ┆ 5.6458e17   ┆ MoneyMarket ┆ 15201400732 ┆ Rejected    │\n",
       "│ 04866456     ┆ 397792523   ┆ /data/Sampl ┆             ┆ SavingsAcco ┆ 449720223   ┆             │\n",
       "│              ┆             ┆ eHDS.json   ┆             ┆ unt         ┆             ┆             │\n",
       "│ 356503492358 ┆ 89358688420 ┆ ../../../.. ┆ 4.0723e18   ┆ BasicChecki ┆ 15201400732 ┆ Rejected    │\n",
       "│ 9790648      ┆ 00746766    ┆ /data/Sampl ┆             ┆ ng          ┆ 449720223   ┆             │\n",
       "│              ┆             ┆ eHDS.json   ┆             ┆             ┆             ┆             │\n",
       "│ 739560179212 ┆ 63545614052 ┆ ../../../.. ┆ 1.4677e19   ┆ BasicChecki ┆ 93470014423 ┆ Accepted    │\n",
       "│ 6405604      ┆ 89522440    ┆ /data/Sampl ┆             ┆ ng          ┆ 17255762    ┆             │\n",
       "│              ┆             ┆ eHDS.json   ┆             ┆             ┆             ┆             │\n",
       "│ 116629479033 ┆ 59508258350 ┆ ../../../.. ┆ 1.6330e19   ┆ UPlusFinPer ┆ null        ┆ Rejected    │\n",
       "│ 04866456     ┆ 07106200    ┆ /data/Sampl ┆             ┆ sonal       ┆             ┆             │\n",
       "│              ┆             ┆ eHDS.json   ┆             ┆             ┆             ┆             │\n",
       "│ 116629479033 ┆ 10802362063 ┆ ../../../.. ┆ 8.7675e18   ┆ BasicChecki ┆ 93470014423 ┆ Rejected    │\n",
       "│ 04866456     ┆ 188159221   ┆ /data/Sampl ┆             ┆ ng          ┆ 17255762    ┆             │\n",
       "│              ┆             ┆ eHDS.json   ┆             ┆             ┆             ┆             │\n",
       "└──────────────┴─────────────┴─────────────┴─────────────┴─────────────┴─────────────┴─────────────┘"
      ]
     },
     "execution_count": 10,
     "metadata": {},
     "output_type": "execute_result"
    }
   ],
   "source": [
    "anon = DataAnonymization(config=Config(config_file='config.json'))\n",
    "anon.process()"
   ]
  },
  {
   "attachments": {},
   "cell_type": "markdown",
   "metadata": {},
   "source": [
    "## Exporting\n",
    "Two functions export:\n",
    "- `create_mapping_file()` writes the mapping file of the predictor names\n",
    "- `write_to_output()` writes the processed dataframe to disk\n",
    "\n",
    "Write to output accepts the following extensions: `[\"ndjson\", \"parquet\", \"arrow\", \"csv\"]`"
   ]
  },
  {
   "cell_type": "code",
   "execution_count": 11,
   "metadata": {
    "execution": {
     "iopub.execute_input": "2023-10-04T10:59:42.708355Z",
     "iopub.status.busy": "2023-10-04T10:59:42.708058Z",
     "iopub.status.idle": "2023-10-04T10:59:42.711415Z",
     "shell.execute_reply": "2023-10-04T10:59:42.710938Z"
    }
   },
   "outputs": [
    {
     "name": "stdout",
     "output_type": "stream",
     "text": [
      "Customer_MaritalStatus=PREDICTOR_0\n",
      "Customer_City=PREDICTOR_1\n",
      "filename=filename\n",
      "Customer_CLV=PREDICTOR_3\n",
      "Context_Name=Context_Name\n",
      "IH_Web_Inbound_Accepted_pxLastGroupID=IH_Web_Inbound_Accepted_pxLastGroupID\n",
      "Decision_Outcome=Decision_Outcome\n",
      "\n"
     ]
    }
   ],
   "source": [
    "anon.create_mapping_file()\n",
    "with open('mapping.map') as f:\n",
    "    print(f.read())"
   ]
  },
  {
   "cell_type": "code",
   "execution_count": 12,
   "metadata": {
    "execution": {
     "iopub.execute_input": "2023-10-04T10:59:42.713594Z",
     "iopub.status.busy": "2023-10-04T10:59:42.713289Z",
     "iopub.status.idle": "2023-10-04T10:59:42.717155Z",
     "shell.execute_reply": "2023-10-04T10:59:42.716704Z"
    }
   },
   "outputs": [],
   "source": [
    "anon.write_to_output(ext='arrow')"
   ]
  },
  {
   "cell_type": "code",
   "execution_count": 13,
   "metadata": {
    "execution": {
     "iopub.execute_input": "2023-10-04T10:59:42.719403Z",
     "iopub.status.busy": "2023-10-04T10:59:42.719088Z",
     "iopub.status.idle": "2023-10-04T10:59:42.723596Z",
     "shell.execute_reply": "2023-10-04T10:59:42.723137Z"
    }
   },
   "outputs": [
    {
     "data": {
      "text/html": [
       "<div><style>\n",
       ".dataframe > thead > tr > th,\n",
       ".dataframe > tbody > tr > td {\n",
       "  text-align: right;\n",
       "  white-space: pre-wrap;\n",
       "}\n",
       "</style>\n",
       "<small>shape: (7, 6)</small><table border=\"1\" class=\"dataframe\"><thead><tr><th>PREDICTOR_0</th><th>PREDICTOR_1</th><th>PREDICTOR_3</th><th>Context_Name</th><th>IH_Web_Inbound_Accepted_pxLastGroupID</th><th>Decision_Outcome</th></tr><tr><td>str</td><td>str</td><td>f64</td><td>str</td><td>str</td><td>str</td></tr></thead><tbody><tr><td>&quot;57544635171770…</td><td>&quot;18303821820633…</td><td>1.2927e19</td><td>&quot;FirstMortgage3…</td><td>&quot;10397386206268…</td><td>&quot;Rejected&quot;</td></tr><tr><td>&quot;81870452912648…</td><td>&quot;11806006577433…</td><td>1.4856e19</td><td>&quot;FirstMortgage3…</td><td>&quot;38488793734782…</td><td>&quot;Accepted&quot;</td></tr><tr><td>&quot;71254569613952…</td><td>&quot;52624926087246…</td><td>5.6458e17</td><td>&quot;MoneyMarketSav…</td><td>&quot;10397386206268…</td><td>&quot;Rejected&quot;</td></tr><tr><td>&quot;81870452912648…</td><td>&quot;84760915695788…</td><td>4.0723e18</td><td>&quot;BasicChecking&quot;</td><td>&quot;10397386206268…</td><td>&quot;Rejected&quot;</td></tr><tr><td>&quot;57544635171770…</td><td>&quot;15781502199285…</td><td>1.4677e19</td><td>&quot;BasicChecking&quot;</td><td>&quot;10663716791257…</td><td>&quot;Accepted&quot;</td></tr><tr><td>&quot;71254569613952…</td><td>&quot;81045973308296…</td><td>1.6330e19</td><td>&quot;UPlusFinPerson…</td><td>null</td><td>&quot;Rejected&quot;</td></tr><tr><td>&quot;71254569613952…</td><td>&quot;45107008452873…</td><td>8.7675e18</td><td>&quot;BasicChecking&quot;</td><td>&quot;10663716791257…</td><td>&quot;Rejected&quot;</td></tr></tbody></table></div>"
      ],
      "text/plain": [
       "shape: (7, 6)\n",
       "┌────────────────┬────────────────┬─────────────┬────────────────┬────────────────┬────────────────┐\n",
       "│ PREDICTOR_0    ┆ PREDICTOR_1    ┆ PREDICTOR_3 ┆ Context_Name   ┆ IH_Web_Inbound ┆ Decision_Outco │\n",
       "│ ---            ┆ ---            ┆ ---         ┆ ---            ┆ _Accepted_pxLa ┆ me             │\n",
       "│ str            ┆ str            ┆ f64         ┆ str            ┆ stGr…          ┆ ---            │\n",
       "│                ┆                ┆             ┆                ┆ ---            ┆ str            │\n",
       "│                ┆                ┆             ┆                ┆ str            ┆                │\n",
       "╞════════════════╪════════════════╪═════════════╪════════════════╪════════════════╪════════════════╡\n",
       "│ 57544635171770 ┆ 18303821820633 ┆ 1.2927e19   ┆ FirstMortgage3 ┆ 10397386206268 ┆ Rejected       │\n",
       "│ 21490          ┆ 682314         ┆             ┆ 0yr            ┆ 933753         ┆                │\n",
       "│ 81870452912648 ┆ 11806006577433 ┆ 1.4856e19   ┆ FirstMortgage3 ┆ 38488793734782 ┆ Accepted       │\n",
       "│ 2885           ┆ 410691         ┆             ┆ 0yr            ┆ 76812          ┆                │\n",
       "│ 71254569613952 ┆ 52624926087246 ┆ 5.6458e17   ┆ MoneyMarketSav ┆ 10397386206268 ┆ Rejected       │\n",
       "│ 80196          ┆ 10915          ┆             ┆ ingsAccount    ┆ 933753         ┆                │\n",
       "│ 81870452912648 ┆ 84760915695788 ┆ 4.0723e18   ┆ BasicChecking  ┆ 10397386206268 ┆ Rejected       │\n",
       "│ 2885           ┆ 29206          ┆             ┆                ┆ 933753         ┆                │\n",
       "│ 57544635171770 ┆ 15781502199285 ┆ 1.4677e19   ┆ BasicChecking  ┆ 10663716791257 ┆ Accepted       │\n",
       "│ 21490          ┆ 730854         ┆             ┆                ┆ 727179         ┆                │\n",
       "│ 71254569613952 ┆ 81045973308296 ┆ 1.6330e19   ┆ UPlusFinPerson ┆ null           ┆ Rejected       │\n",
       "│ 80196          ┆ 78230          ┆             ┆ al             ┆                ┆                │\n",
       "│ 71254569613952 ┆ 45107008452873 ┆ 8.7675e18   ┆ BasicChecking  ┆ 10663716791257 ┆ Rejected       │\n",
       "│ 80196          ┆ 60315          ┆             ┆                ┆ 727179         ┆                │\n",
       "└────────────────┴────────────────┴─────────────┴────────────────┴────────────────┴────────────────┘"
      ]
     },
     "execution_count": 13,
     "metadata": {},
     "output_type": "execute_result"
    }
   ],
   "source": [
    "pl.read_ipc('output/hds.arrow')"
   ]
  },
  {
   "attachments": {},
   "cell_type": "markdown",
   "metadata": {
    "nbsphinx": "hidden"
   },
   "source": [
    "## Advanced: Hash fuctions\n",
    "\n",
    "By default, we use [the same hashing algorithm Polars](https://pola-rs.github.io/polars/py-polars/html/reference/expressions/api/polars.Expr.hash.html#polars.Expr.hash) uses: [xxhash](https://github.com/Cyan4973/xxHash), as implemented [here](https://github.com/pola-rs/polars/blob/3f287f370b3c388ed2f3f218b2c096382548136f/polars/polars-core/src/vector_hasher.rs#L266). xxhash is fast to compute, and you can check its performance in collision, dispersion and randomness [here](https://github.com/Cyan4973/xxHash/tree/dev/tests). \n",
    "\n",
    "xxhash accepts four distinct seeds, but by default we set the seeds to `0`. It is possible to set the `seed` argument of the `process()` function to `'random'`, which will set all four seeds to a random integer between `0` and `1000000000`. Alternatively, it is possible to supply the four seeds manually with arguments `seed`, `seed_1`, `seed_2` and `seed_3`. \n",
    "\n",
    "If the xxhash with (random) seed(s) is not deemed sufficiently secure, it is possible to use your own hashing algorithm.\n",
    "\n",
    "Note that since we're now running python code and not native Polars code anymore, this will be _significantly_ slower. Nonetheless, it is possible.\n",
    "\n",
    "Just as an example - this is how one would use sha3_256:"
   ]
  },
  {
   "cell_type": "code",
   "execution_count": 14,
   "metadata": {
    "execution": {
     "iopub.execute_input": "2023-10-04T10:59:42.725771Z",
     "iopub.status.busy": "2023-10-04T10:59:42.725476Z",
     "iopub.status.idle": "2023-10-04T10:59:43.107379Z",
     "shell.execute_reply": "2023-10-04T10:59:43.106649Z"
    },
    "nbsphinx": "hidden"
   },
   "outputs": [
    {
     "ename": "ComputeError",
     "evalue": "AttributeError: 'int' object has no attribute 'encode'",
     "output_type": "error",
     "traceback": [
      "\u001b[0;31m---------------------------------------------------------------------------\u001b[0m",
      "\u001b[0;31mComputeError\u001b[0m                              Traceback (most recent call last)",
      "Cell \u001b[0;32mIn[14], line 3\u001b[0m\n\u001b[1;32m      1\u001b[0m \u001b[38;5;28;01mfrom\u001b[39;00m \u001b[38;5;21;01mhashlib\u001b[39;00m \u001b[38;5;28;01mimport\u001b[39;00m sha3_256\n\u001b[0;32m----> 3\u001b[0m \u001b[43manon\u001b[49m\u001b[38;5;241;43m.\u001b[39;49m\u001b[43mprocess\u001b[49m\u001b[43m(\u001b[49m\u001b[43malgorithm\u001b[49m\u001b[38;5;241;43m=\u001b[39;49m\u001b[38;5;28;43;01mlambda\u001b[39;49;00m\u001b[43m \u001b[49m\u001b[43mx\u001b[49m\u001b[43m:\u001b[49m\u001b[43m \u001b[49m\u001b[43msha3_256\u001b[49m\u001b[43m(\u001b[49m\u001b[43mx\u001b[49m\u001b[38;5;241;43m.\u001b[39;49m\u001b[43mencode\u001b[49m\u001b[43m(\u001b[49m\u001b[43m)\u001b[49m\u001b[43m)\u001b[49m\u001b[38;5;241;43m.\u001b[39;49m\u001b[43mhexdigest\u001b[49m\u001b[43m(\u001b[49m\u001b[43m)\u001b[49m\u001b[43m)\u001b[49m\n",
      "File \u001b[0;32m~/work/pega-datascientist-tools/pega-datascientist-tools/python/docs/source/articles/../../../pdstools/utils/hds_utils.py:516\u001b[0m, in \u001b[0;36mDataAnonymization.process\u001b[0;34m(self, strategy, **kwargs)\u001b[0m\n\u001b[1;32m    514\u001b[0m df \u001b[38;5;241m=\u001b[39m df\u001b[38;5;241m.\u001b[39mselect(\u001b[38;5;28mself\u001b[39m\u001b[38;5;241m.\u001b[39mcolumn_mapping\u001b[38;5;241m.\u001b[39mkeys())\u001b[38;5;241m.\u001b[39mrename(\u001b[38;5;28mself\u001b[39m\u001b[38;5;241m.\u001b[39mcolumn_mapping)\n\u001b[1;32m    515\u001b[0m \u001b[38;5;28;01mif\u001b[39;00m strategy \u001b[38;5;241m==\u001b[39m \u001b[38;5;124m\"\u001b[39m\u001b[38;5;124meager\u001b[39m\u001b[38;5;124m\"\u001b[39m:\n\u001b[0;32m--> 516\u001b[0m     \u001b[38;5;28;01mreturn\u001b[39;00m \u001b[43mdf\u001b[49m\u001b[38;5;241;43m.\u001b[39;49m\u001b[43mcollect\u001b[49m\u001b[43m(\u001b[49m\u001b[43m)\u001b[49m\n\u001b[1;32m    517\u001b[0m \u001b[38;5;28;01mreturn\u001b[39;00m df\n",
      "File \u001b[0;32m/opt/hostedtoolcache/Python/3.11.5/x64/lib/python3.11/site-packages/polars/utils/deprecation.py:95\u001b[0m, in \u001b[0;36mdeprecate_renamed_parameter.<locals>.decorate.<locals>.wrapper\u001b[0;34m(*args, **kwargs)\u001b[0m\n\u001b[1;32m     90\u001b[0m \u001b[38;5;129m@wraps\u001b[39m(function)\n\u001b[1;32m     91\u001b[0m \u001b[38;5;28;01mdef\u001b[39;00m \u001b[38;5;21mwrapper\u001b[39m(\u001b[38;5;241m*\u001b[39margs: P\u001b[38;5;241m.\u001b[39margs, \u001b[38;5;241m*\u001b[39m\u001b[38;5;241m*\u001b[39mkwargs: P\u001b[38;5;241m.\u001b[39mkwargs) \u001b[38;5;241m-\u001b[39m\u001b[38;5;241m>\u001b[39m T:\n\u001b[1;32m     92\u001b[0m     _rename_keyword_argument(\n\u001b[1;32m     93\u001b[0m         old_name, new_name, kwargs, function\u001b[38;5;241m.\u001b[39m\u001b[38;5;18m__name__\u001b[39m, version\n\u001b[1;32m     94\u001b[0m     )\n\u001b[0;32m---> 95\u001b[0m     \u001b[38;5;28;01mreturn\u001b[39;00m \u001b[43mfunction\u001b[49m\u001b[43m(\u001b[49m\u001b[38;5;241;43m*\u001b[39;49m\u001b[43margs\u001b[49m\u001b[43m,\u001b[49m\u001b[43m \u001b[49m\u001b[38;5;241;43m*\u001b[39;49m\u001b[38;5;241;43m*\u001b[39;49m\u001b[43mkwargs\u001b[49m\u001b[43m)\u001b[49m\n",
      "File \u001b[0;32m/opt/hostedtoolcache/Python/3.11.5/x64/lib/python3.11/site-packages/polars/lazyframe/frame.py:1711\u001b[0m, in \u001b[0;36mLazyFrame.collect\u001b[0;34m(self, type_coercion, predicate_pushdown, projection_pushdown, simplify_expression, no_optimization, slice_pushdown, comm_subplan_elim, comm_subexpr_elim, streaming, **kwargs)\u001b[0m\n\u001b[1;32m   1698\u001b[0m     comm_subplan_elim \u001b[38;5;241m=\u001b[39m \u001b[38;5;28;01mFalse\u001b[39;00m\n\u001b[1;32m   1700\u001b[0m ldf \u001b[38;5;241m=\u001b[39m \u001b[38;5;28mself\u001b[39m\u001b[38;5;241m.\u001b[39m_ldf\u001b[38;5;241m.\u001b[39moptimization_toggle(\n\u001b[1;32m   1701\u001b[0m     type_coercion,\n\u001b[1;32m   1702\u001b[0m     predicate_pushdown,\n\u001b[0;32m   (...)\u001b[0m\n\u001b[1;32m   1709\u001b[0m     eager,\n\u001b[1;32m   1710\u001b[0m )\n\u001b[0;32m-> 1711\u001b[0m \u001b[38;5;28;01mreturn\u001b[39;00m wrap_df(ldf\u001b[38;5;241m.\u001b[39mcollect())\n",
      "\u001b[0;31mComputeError\u001b[0m: AttributeError: 'int' object has no attribute 'encode'"
     ]
    }
   ],
   "source": [
    "from hashlib import sha3_256\n",
    "\n",
    "anon.process(algorithm=lambda x: sha3_256(x.encode()).hexdigest())"
   ]
  }
 ],
 "metadata": {
  "kernelspec": {
   "display_name": "Python 3",
   "language": "python",
   "name": "python3"
  },
  "language_info": {
   "codemirror_mode": {
    "name": "ipython",
    "version": 3
   },
   "file_extension": ".py",
   "mimetype": "text/x-python",
   "name": "python",
   "nbconvert_exporter": "python",
   "pygments_lexer": "ipython3",
   "version": "3.11.5"
  },
  "vscode": {
   "interpreter": {
    "hash": "aee8b7b246df8f9039afb4144a1f6fd8d2ca17a180786b69acc140d282b71a49"
   }
  }
 },
 "nbformat": 4,
 "nbformat_minor": 2
}
