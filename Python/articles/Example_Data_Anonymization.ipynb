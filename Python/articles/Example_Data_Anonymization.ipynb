{
 "cells": [
  {
   "attachments": {},
   "cell_type": "markdown",
   "metadata": {},
   "source": [
    "# Example data anonymization\n",
    "\n",
    "In Pega CDH 8.5 and up, it's now possible to record the historical data as seen by the Adaptive Models. See [this academy challenge](https://academy.pega.com/challenge/exporting-historical-data/v4) for reference. This historical data can be further used to experiment with offline models, but also to fine-tune the OOTB Gradient Boosting model. However, sharing this information with Pega can be sensitive as it contains raw predictor data. \n",
    "\n",
    "To this end, we provide a simple and transparent script to fully anonimize this dataset.\n",
    "\n",
    "The DataAnonymization script is now part of pdstools, and you can import it directly as such."
   ]
  },
  {
   "cell_type": "code",
   "execution_count": 1,
   "metadata": {
    "execution": {
     "iopub.execute_input": "2023-09-26T08:47:21.860107Z",
     "iopub.status.busy": "2023-09-26T08:47:21.859811Z",
     "iopub.status.idle": "2023-09-26T08:47:21.939173Z",
     "shell.execute_reply": "2023-09-26T08:47:21.938592Z"
    },
    "nbsphinx": "hidden"
   },
   "outputs": [],
   "source": [
    "# These lines are only for rendering in the docs, and are hidden through Jupyter tags\n",
    "# Do not run if you're running the notebook seperately\n",
    "\n",
    "import os  \n",
    "import sys\n",
    "import plotly.io as pio\n",
    "pio.renderers.default = \"notebook_connected\"\n",
    "\n",
    "sys.path.append(\"../../../\")\n",
    "sys.path.append('../../python')"
   ]
  },
  {
   "cell_type": "code",
   "execution_count": 2,
   "metadata": {
    "execution": {
     "iopub.execute_input": "2023-09-26T08:47:21.941868Z",
     "iopub.status.busy": "2023-09-26T08:47:21.941493Z",
     "iopub.status.idle": "2023-09-26T08:47:23.024016Z",
     "shell.execute_reply": "2023-09-26T08:47:23.023435Z"
    }
   },
   "outputs": [],
   "source": [
    "from pdstools import ADMDatamart\n",
    "from pdstools import Config, DataAnonymization\n",
    "import polars as pl"
   ]
  },
  {
   "attachments": {},
   "cell_type": "markdown",
   "metadata": {},
   "source": [
    "## Input data\n",
    "\n",
    "To demonstrate this process, we're going to anonymise this toy example dataframe:"
   ]
  },
  {
   "cell_type": "code",
   "execution_count": 3,
   "metadata": {
    "execution": {
     "iopub.execute_input": "2023-09-26T08:47:23.027043Z",
     "iopub.status.busy": "2023-09-26T08:47:23.026632Z",
     "iopub.status.idle": "2023-09-26T08:47:23.037434Z",
     "shell.execute_reply": "2023-09-26T08:47:23.036904Z"
    }
   },
   "outputs": [
    {
     "data": {
      "text/html": [
       "<div><style>\n",
       ".dataframe > thead > tr > th,\n",
       ".dataframe > tbody > tr > td {\n",
       "  text-align: right;\n",
       "}\n",
       "</style>\n",
       "<small>shape: (7, 6)</small><table border=\"1\" class=\"dataframe\"><thead><tr><th>Context_Name</th><th>Customer_MaritalStatus</th><th>Customer_CLV</th><th>Customer_City</th><th>IH_Web_Inbound_Accepted_pxLastGroupID</th><th>Decision_Outcome</th></tr><tr><td>str</td><td>str</td><td>i64</td><td>str</td><td>str</td><td>str</td></tr></thead><tbody><tr><td>&quot;FirstMortgage3…</td><td>&quot;Married&quot;</td><td>1460</td><td>&quot;Port Raoul&quot;</td><td>&quot;Account&quot;</td><td>&quot;Rejected&quot;</td></tr><tr><td>&quot;FirstMortgage3…</td><td>&quot;Unknown&quot;</td><td>669</td><td>&quot;Laurianneshire…</td><td>&quot;AutoLoans&quot;</td><td>&quot;Accepted&quot;</td></tr><tr><td>&quot;MoneyMarketSav…</td><td>&quot;No Resp+&quot;</td><td>1174</td><td>&quot;Jacobshaven&quot;</td><td>&quot;Account&quot;</td><td>&quot;Rejected&quot;</td></tr><tr><td>&quot;BasicChecking&quot;</td><td>&quot;Unknown&quot;</td><td>1476</td><td>&quot;Lindton&quot;</td><td>&quot;Account&quot;</td><td>&quot;Rejected&quot;</td></tr><tr><td>&quot;BasicChecking&quot;</td><td>&quot;Married&quot;</td><td>1211</td><td>&quot;South Jimmiesh…</td><td>&quot;DepositAccount…</td><td>&quot;Accepted&quot;</td></tr><tr><td>&quot;UPlusFinPerson…</td><td>&quot;No Resp+&quot;</td><td>533</td><td>&quot;Bergeville&quot;</td><td>null</td><td>&quot;Rejected&quot;</td></tr><tr><td>&quot;BasicChecking&quot;</td><td>&quot;No Resp+&quot;</td><td>555</td><td>&quot;Willyville&quot;</td><td>&quot;DepositAccount…</td><td>&quot;Rejected&quot;</td></tr></tbody></table></div>"
      ],
      "text/plain": [
       "shape: (7, 6)\n",
       "┌────────────────┬────────────────┬──────────────┬────────────────┬────────────────┬───────────────┐\n",
       "│ Context_Name   ┆ Customer_Marit ┆ Customer_CLV ┆ Customer_City  ┆ IH_Web_Inbound ┆ Decision_Outc │\n",
       "│ ---            ┆ alStatus       ┆ ---          ┆ ---            ┆ _Accepted_pxLa ┆ ome           │\n",
       "│ str            ┆ ---            ┆ i64          ┆ str            ┆ stGr…          ┆ ---           │\n",
       "│                ┆ str            ┆              ┆                ┆ ---            ┆ str           │\n",
       "│                ┆                ┆              ┆                ┆ str            ┆               │\n",
       "╞════════════════╪════════════════╪══════════════╪════════════════╪════════════════╪═══════════════╡\n",
       "│ FirstMortgage3 ┆ Married        ┆ 1460         ┆ Port Raoul     ┆ Account        ┆ Rejected      │\n",
       "│ 0yr            ┆                ┆              ┆                ┆                ┆               │\n",
       "│ FirstMortgage3 ┆ Unknown        ┆ 669          ┆ Laurianneshire ┆ AutoLoans      ┆ Accepted      │\n",
       "│ 0yr            ┆                ┆              ┆                ┆                ┆               │\n",
       "│ MoneyMarketSav ┆ No Resp+       ┆ 1174         ┆ Jacobshaven    ┆ Account        ┆ Rejected      │\n",
       "│ ingsAccount    ┆                ┆              ┆                ┆                ┆               │\n",
       "│ BasicChecking  ┆ Unknown        ┆ 1476         ┆ Lindton        ┆ Account        ┆ Rejected      │\n",
       "│ BasicChecking  ┆ Married        ┆ 1211         ┆ South          ┆ DepositAccount ┆ Accepted      │\n",
       "│                ┆                ┆              ┆ Jimmieshire    ┆ s              ┆               │\n",
       "│ UPlusFinPerson ┆ No Resp+       ┆ 533          ┆ Bergeville     ┆ null           ┆ Rejected      │\n",
       "│ al             ┆                ┆              ┆                ┆                ┆               │\n",
       "│ BasicChecking  ┆ No Resp+       ┆ 555          ┆ Willyville     ┆ DepositAccount ┆ Rejected      │\n",
       "│                ┆                ┆              ┆                ┆ s              ┆               │\n",
       "└────────────────┴────────────────┴──────────────┴────────────────┴────────────────┴───────────────┘"
      ]
     },
     "execution_count": 3,
     "metadata": {},
     "output_type": "execute_result"
    }
   ],
   "source": [
    "pl.read_ndjson('../../../../data/SampleHDS.json')"
   ]
  },
  {
   "attachments": {},
   "cell_type": "markdown",
   "metadata": {},
   "source": [
    "As you can see, this dataset consists of regular predictors, IH predictors, context keys and the outcome column. Additionally, some columns are numeric, others are strings. Let's first initialize the DataAnonymization class."
   ]
  },
  {
   "cell_type": "code",
   "execution_count": 4,
   "metadata": {
    "execution": {
     "iopub.execute_input": "2023-09-26T08:47:23.039929Z",
     "iopub.status.busy": "2023-09-26T08:47:23.039631Z",
     "iopub.status.idle": "2023-09-26T08:47:23.047842Z",
     "shell.execute_reply": "2023-09-26T08:47:23.047324Z"
    }
   },
   "outputs": [],
   "source": [
    "anon = DataAnonymization(hds_folder='../../../../data/')"
   ]
  },
  {
   "attachments": {},
   "cell_type": "markdown",
   "metadata": {},
   "source": [
    "By default, the class applies a set of anonymisation techniques:\n",
    "- Column names are remapped to a non-descriptive name\n",
    "- Categorical values are hashed with a random seed\n",
    "- Numerical values are normalized between 0 and 1\n",
    "- Outcomes are mapped to a binary outcome.\n",
    "\n",
    "To apply these techniques, simply call `.process()`:"
   ]
  },
  {
   "cell_type": "code",
   "execution_count": 5,
   "metadata": {
    "execution": {
     "iopub.execute_input": "2023-09-26T08:47:23.050495Z",
     "iopub.status.busy": "2023-09-26T08:47:23.050067Z",
     "iopub.status.idle": "2023-09-26T08:47:23.056879Z",
     "shell.execute_reply": "2023-09-26T08:47:23.056323Z"
    }
   },
   "outputs": [
    {
     "data": {
      "text/html": [
       "<div><style>\n",
       ".dataframe > thead > tr > th,\n",
       ".dataframe > tbody > tr > td {\n",
       "  text-align: right;\n",
       "}\n",
       "</style>\n",
       "<small>shape: (7, 7)</small><table border=\"1\" class=\"dataframe\"><thead><tr><th>PREDICTOR_0</th><th>filename</th><th>PREDICTOR_2</th><th>PREDICTOR_3</th><th>Context_Name</th><th>IH_PREDICTOR_0</th><th>Decision_Outcome</th></tr><tr><td>str</td><td>str</td><td>f64</td><td>str</td><td>str</td><td>str</td><td>bool</td></tr></thead><tbody><tr><td>&quot;13476656239701…</td><td>&quot;../../../../da…</td><td>1.2927e19</td><td>&quot;12538380005042…</td><td>&quot;33648489998734…</td><td>&quot;52630271983515…</td><td>false</td></tr><tr><td>&quot;10792657776366…</td><td>&quot;../../../../da…</td><td>1.4856e19</td><td>&quot;14916771205124…</td><td>&quot;33648489998734…</td><td>&quot;77512257862036…</td><td>true</td></tr><tr><td>&quot;71295815416460…</td><td>&quot;../../../../da…</td><td>5.6458e17</td><td>&quot;12441810073475…</td><td>&quot;43941368949369…</td><td>&quot;52630271983515…</td><td>false</td></tr><tr><td>&quot;10792657776366…</td><td>&quot;../../../../da…</td><td>4.0723e18</td><td>&quot;84066560632821…</td><td>&quot;13916261869455…</td><td>&quot;52630271983515…</td><td>false</td></tr><tr><td>&quot;13476656239701…</td><td>&quot;../../../../da…</td><td>1.4677e19</td><td>&quot;13303634849647…</td><td>&quot;13916261869455…</td><td>&quot;12363397231192…</td><td>true</td></tr><tr><td>&quot;71295815416460…</td><td>&quot;../../../../da…</td><td>1.6330e19</td><td>&quot;93348540410820…</td><td>&quot;89792886881393…</td><td>null</td><td>false</td></tr><tr><td>&quot;71295815416460…</td><td>&quot;../../../../da…</td><td>8.7675e18</td><td>&quot;17641084931522…</td><td>&quot;13916261869455…</td><td>&quot;12363397231192…</td><td>false</td></tr></tbody></table></div>"
      ],
      "text/plain": [
       "shape: (7, 7)\n",
       "┌──────────────┬─────────────┬─────────────┬─────────────┬─────────────┬─────────────┬─────────────┐\n",
       "│ PREDICTOR_0  ┆ filename    ┆ PREDICTOR_2 ┆ PREDICTOR_3 ┆ Context_Nam ┆ IH_PREDICTO ┆ Decision_Ou │\n",
       "│ ---          ┆ ---         ┆ ---         ┆ ---         ┆ e           ┆ R_0         ┆ tcome       │\n",
       "│ str          ┆ str         ┆ f64         ┆ str         ┆ ---         ┆ ---         ┆ ---         │\n",
       "│              ┆             ┆             ┆             ┆ str         ┆ str         ┆ bool        │\n",
       "╞══════════════╪═════════════╪═════════════╪═════════════╪═════════════╪═════════════╪═════════════╡\n",
       "│ 134766562397 ┆ ../../../.. ┆ 1.2927e19   ┆ 12538380005 ┆ 33648489998 ┆ 52630271983 ┆ false       │\n",
       "│ 01969839     ┆ /data/Sampl ┆             ┆ 042147171   ┆ 73403708    ┆ 51521334    ┆             │\n",
       "│              ┆ eHDS.json   ┆             ┆             ┆             ┆             ┆             │\n",
       "│ 107926577763 ┆ ../../../.. ┆ 1.4856e19   ┆ 14916771205 ┆ 33648489998 ┆ 77512257862 ┆ true        │\n",
       "│ 66674983     ┆ /data/Sampl ┆             ┆ 12489112    ┆ 73403708    ┆ 03679014    ┆             │\n",
       "│              ┆ eHDS.json   ┆             ┆             ┆             ┆             ┆             │\n",
       "│ 712958154164 ┆ ../../../.. ┆ 5.6458e17   ┆ 12441810073 ┆ 43941368949 ┆ 52630271983 ┆ false       │\n",
       "│ 607924       ┆ /data/Sampl ┆             ┆ 47586794    ┆ 3694617     ┆ 51521334    ┆             │\n",
       "│              ┆ eHDS.json   ┆             ┆             ┆             ┆             ┆             │\n",
       "│ 107926577763 ┆ ../../../.. ┆ 4.0723e18   ┆ 84066560632 ┆ 13916261869 ┆ 52630271983 ┆ false       │\n",
       "│ 66674983     ┆ /data/Sampl ┆             ┆ 82180575    ┆ 455462129   ┆ 51521334    ┆             │\n",
       "│              ┆ eHDS.json   ┆             ┆             ┆             ┆             ┆             │\n",
       "│ 134766562397 ┆ ../../../.. ┆ 1.4677e19   ┆ 13303634849 ┆ 13916261869 ┆ 12363397231 ┆ true        │\n",
       "│ 01969839     ┆ /data/Sampl ┆             ┆ 647969528   ┆ 455462129   ┆ 192457648   ┆             │\n",
       "│              ┆ eHDS.json   ┆             ┆             ┆             ┆             ┆             │\n",
       "│ 712958154164 ┆ ../../../.. ┆ 1.6330e19   ┆ 93348540410 ┆ 89792886881 ┆ null        ┆ false       │\n",
       "│ 607924       ┆ /data/Sampl ┆             ┆ 82059887    ┆ 39366103    ┆             ┆             │\n",
       "│              ┆ eHDS.json   ┆             ┆             ┆             ┆             ┆             │\n",
       "│ 712958154164 ┆ ../../../.. ┆ 8.7675e18   ┆ 17641084931 ┆ 13916261869 ┆ 12363397231 ┆ false       │\n",
       "│ 607924       ┆ /data/Sampl ┆             ┆ 522183008   ┆ 455462129   ┆ 192457648   ┆             │\n",
       "│              ┆ eHDS.json   ┆             ┆             ┆             ┆             ┆             │\n",
       "└──────────────┴─────────────┴─────────────┴─────────────┴─────────────┴─────────────┴─────────────┘"
      ]
     },
     "execution_count": 5,
     "metadata": {},
     "output_type": "execute_result"
    }
   ],
   "source": [
    "anon.process()"
   ]
  },
  {
   "attachments": {},
   "cell_type": "markdown",
   "metadata": {},
   "source": [
    "To trace back the columns to their original names, the class also contains a mapping, which does not have to be provided."
   ]
  },
  {
   "cell_type": "code",
   "execution_count": 6,
   "metadata": {
    "execution": {
     "iopub.execute_input": "2023-09-26T08:47:23.059203Z",
     "iopub.status.busy": "2023-09-26T08:47:23.059025Z",
     "iopub.status.idle": "2023-09-26T08:47:23.062801Z",
     "shell.execute_reply": "2023-09-26T08:47:23.062278Z"
    }
   },
   "outputs": [
    {
     "data": {
      "text/plain": [
       "{'Customer_MaritalStatus': 'PREDICTOR_0',\n",
       " 'filename': 'filename',\n",
       " 'Customer_CLV': 'PREDICTOR_2',\n",
       " 'Customer_City': 'PREDICTOR_3',\n",
       " 'Context_Name': 'Context_Name',\n",
       " 'IH_Web_Inbound_Accepted_pxLastGroupID': 'IH_PREDICTOR_0',\n",
       " 'Decision_Outcome': 'Decision_Outcome'}"
      ]
     },
     "execution_count": 6,
     "metadata": {},
     "output_type": "execute_result"
    }
   ],
   "source": [
    "anon.column_mapping"
   ]
  },
  {
   "attachments": {},
   "cell_type": "markdown",
   "metadata": {},
   "source": [
    "## Configs\n",
    "\n",
    "Each capability can optionally be turned off - see below for the full list of config options, and refer to the API reference for the full description."
   ]
  },
  {
   "cell_type": "code",
   "execution_count": 7,
   "metadata": {
    "execution": {
     "iopub.execute_input": "2023-09-26T08:47:23.065437Z",
     "iopub.status.busy": "2023-09-26T08:47:23.065260Z",
     "iopub.status.idle": "2023-09-26T08:47:23.069539Z",
     "shell.execute_reply": "2023-09-26T08:47:23.069011Z"
    }
   },
   "outputs": [
    {
     "data": {
      "text/plain": [
       "{'config_file': None,\n",
       " 'hds_folder': '.',\n",
       " 'use_datamart': False,\n",
       " 'datamart_folder': 'datamart',\n",
       " 'output_format': 'ndjson',\n",
       " 'output_folder': 'output',\n",
       " 'mapping_file': 'mapping.map',\n",
       " 'mask_predictor_names': True,\n",
       " 'mask_context_key_names': False,\n",
       " 'mask_ih_names': True,\n",
       " 'mask_outcome_name': False,\n",
       " 'mask_predictor_values': True,\n",
       " 'mask_context_key_values': True,\n",
       " 'mask_ih_values': True,\n",
       " 'mask_outcome_values': True,\n",
       " 'context_key_label': 'Context_*',\n",
       " 'ih_label': 'IH_*',\n",
       " 'outcome_column': 'Decision_Outcome',\n",
       " 'positive_outcomes': ['Accepted', 'Clicked'],\n",
       " 'negative_outcomes': ['Rejected', 'Impression'],\n",
       " 'special_predictors': ['Decision_DecisionTime',\n",
       "  'Decision_OutcomeTime',\n",
       "  'Decision_Rank'],\n",
       " 'sample_percentage_schema_inferencing': 0.01}"
      ]
     },
     "execution_count": 7,
     "metadata": {},
     "output_type": "execute_result"
    }
   ],
   "source": [
    "dict(zip(Config.__init__.__code__.co_varnames[1:], Config.__init__.__defaults__))"
   ]
  },
  {
   "attachments": {},
   "cell_type": "markdown",
   "metadata": {},
   "source": [
    "It's easy to change these parameters by just passing the keyword arguments. In the following example, we\n",
    "- Keep the IH predictor names\n",
    "- Keep the outcome values\n",
    "- Keep the context key values\n",
    "- Keep the context key predictor names"
   ]
  },
  {
   "cell_type": "code",
   "execution_count": 8,
   "metadata": {
    "execution": {
     "iopub.execute_input": "2023-09-26T08:47:23.072510Z",
     "iopub.status.busy": "2023-09-26T08:47:23.072070Z",
     "iopub.status.idle": "2023-09-26T08:47:23.083494Z",
     "shell.execute_reply": "2023-09-26T08:47:23.082960Z"
    }
   },
   "outputs": [
    {
     "data": {
      "text/html": [
       "<div><style>\n",
       ".dataframe > thead > tr > th,\n",
       ".dataframe > tbody > tr > td {\n",
       "  text-align: right;\n",
       "}\n",
       "</style>\n",
       "<small>shape: (7, 7)</small><table border=\"1\" class=\"dataframe\"><thead><tr><th>PREDICTOR_0</th><th>filename</th><th>PREDICTOR_2</th><th>PREDICTOR_3</th><th>Context_Name</th><th>IH_Web_Inbound_Accepted_pxLastGroupID</th><th>Decision_Outcome</th></tr><tr><td>str</td><td>str</td><td>f64</td><td>str</td><td>str</td><td>str</td><td>str</td></tr></thead><tbody><tr><td>&quot;54242851485606…</td><td>&quot;../../../../da…</td><td>1.2927e19</td><td>&quot;29621522272665…</td><td>&quot;FirstMortgage3…</td><td>&quot;18295908447571…</td><td>&quot;Rejected&quot;</td></tr><tr><td>&quot;58641097503622…</td><td>&quot;../../../../da…</td><td>1.4856e19</td><td>&quot;89639836649034…</td><td>&quot;FirstMortgage3…</td><td>&quot;52575576049275…</td><td>&quot;Accepted&quot;</td></tr><tr><td>&quot;53974797471703…</td><td>&quot;../../../../da…</td><td>5.6458e17</td><td>&quot;12434975729778…</td><td>&quot;MoneyMarketSav…</td><td>&quot;18295908447571…</td><td>&quot;Rejected&quot;</td></tr><tr><td>&quot;58641097503622…</td><td>&quot;../../../../da…</td><td>4.0723e18</td><td>&quot;10444502966139…</td><td>&quot;BasicChecking&quot;</td><td>&quot;18295908447571…</td><td>&quot;Rejected&quot;</td></tr><tr><td>&quot;54242851485606…</td><td>&quot;../../../../da…</td><td>1.4677e19</td><td>&quot;12061867634182…</td><td>&quot;BasicChecking&quot;</td><td>&quot;11824930071555…</td><td>&quot;Accepted&quot;</td></tr><tr><td>&quot;53974797471703…</td><td>&quot;../../../../da…</td><td>1.6330e19</td><td>&quot;11502444894827…</td><td>&quot;UPlusFinPerson…</td><td>null</td><td>&quot;Rejected&quot;</td></tr><tr><td>&quot;53974797471703…</td><td>&quot;../../../../da…</td><td>8.7675e18</td><td>&quot;14545833851165…</td><td>&quot;BasicChecking&quot;</td><td>&quot;11824930071555…</td><td>&quot;Rejected&quot;</td></tr></tbody></table></div>"
      ],
      "text/plain": [
       "shape: (7, 7)\n",
       "┌──────────────┬─────────────┬─────────────┬─────────────┬─────────────┬─────────────┬─────────────┐\n",
       "│ PREDICTOR_0  ┆ filename    ┆ PREDICTOR_2 ┆ PREDICTOR_3 ┆ Context_Nam ┆ IH_Web_Inbo ┆ Decision_Ou │\n",
       "│ ---          ┆ ---         ┆ ---         ┆ ---         ┆ e           ┆ und_Accepte ┆ tcome       │\n",
       "│ str          ┆ str         ┆ f64         ┆ str         ┆ ---         ┆ d_pxLastGr… ┆ ---         │\n",
       "│              ┆             ┆             ┆             ┆ str         ┆ ---         ┆ str         │\n",
       "│              ┆             ┆             ┆             ┆             ┆ str         ┆             │\n",
       "╞══════════════╪═════════════╪═════════════╪═════════════╪═════════════╪═════════════╪═════════════╡\n",
       "│ 542428514856 ┆ ../../../.. ┆ 1.2927e19   ┆ 29621522272 ┆ FirstMortga ┆ 18295908447 ┆ Rejected    │\n",
       "│ 0698498      ┆ /data/Sampl ┆             ┆ 66540484    ┆ ge30yr      ┆ 571336033   ┆             │\n",
       "│              ┆ eHDS.json   ┆             ┆             ┆             ┆             ┆             │\n",
       "│ 586410975036 ┆ ../../../.. ┆ 1.4856e19   ┆ 89639836649 ┆ FirstMortga ┆ 52575576049 ┆ Accepted    │\n",
       "│ 2213417      ┆ /data/Sampl ┆             ┆ 03473060    ┆ ge30yr      ┆ 27526426    ┆             │\n",
       "│              ┆ eHDS.json   ┆             ┆             ┆             ┆             ┆             │\n",
       "│ 539747974717 ┆ ../../../.. ┆ 5.6458e17   ┆ 12434975729 ┆ MoneyMarket ┆ 18295908447 ┆ Rejected    │\n",
       "│ 0325954      ┆ /data/Sampl ┆             ┆ 778992903   ┆ SavingsAcco ┆ 571336033   ┆             │\n",
       "│              ┆ eHDS.json   ┆             ┆             ┆ unt         ┆             ┆             │\n",
       "│ 586410975036 ┆ ../../../.. ┆ 4.0723e18   ┆ 10444502966 ┆ BasicChecki ┆ 18295908447 ┆ Rejected    │\n",
       "│ 2213417      ┆ /data/Sampl ┆             ┆ 139310516   ┆ ng          ┆ 571336033   ┆             │\n",
       "│              ┆ eHDS.json   ┆             ┆             ┆             ┆             ┆             │\n",
       "│ 542428514856 ┆ ../../../.. ┆ 1.4677e19   ┆ 12061867634 ┆ BasicChecki ┆ 11824930071 ┆ Accepted    │\n",
       "│ 0698498      ┆ /data/Sampl ┆             ┆ 182791389   ┆ ng          ┆ 55564221    ┆             │\n",
       "│              ┆ eHDS.json   ┆             ┆             ┆             ┆             ┆             │\n",
       "│ 539747974717 ┆ ../../../.. ┆ 1.6330e19   ┆ 11502444894 ┆ UPlusFinPer ┆ null        ┆ Rejected    │\n",
       "│ 0325954      ┆ /data/Sampl ┆             ┆ 82752954    ┆ sonal       ┆             ┆             │\n",
       "│              ┆ eHDS.json   ┆             ┆             ┆             ┆             ┆             │\n",
       "│ 539747974717 ┆ ../../../.. ┆ 8.7675e18   ┆ 14545833851 ┆ BasicChecki ┆ 11824930071 ┆ Rejected    │\n",
       "│ 0325954      ┆ /data/Sampl ┆             ┆ 165207249   ┆ ng          ┆ 55564221    ┆             │\n",
       "│              ┆ eHDS.json   ┆             ┆             ┆             ┆             ┆             │\n",
       "└──────────────┴─────────────┴─────────────┴─────────────┴─────────────┴─────────────┴─────────────┘"
      ]
     },
     "execution_count": 8,
     "metadata": {},
     "output_type": "execute_result"
    }
   ],
   "source": [
    "anon = DataAnonymization(\n",
    "    hds_folder=\"../../../../data/\",\n",
    "    mask_ih_names=False,\n",
    "    mask_outcome_values=False,\n",
    "    mask_context_key_values=False,\n",
    "    mask_context_key_names=False,\n",
    ")\n",
    "anon.process()\n"
   ]
  },
  {
   "attachments": {},
   "cell_type": "markdown",
   "metadata": {},
   "source": [
    "The configs can also be written and read as such:"
   ]
  },
  {
   "cell_type": "code",
   "execution_count": 9,
   "metadata": {
    "execution": {
     "iopub.execute_input": "2023-09-26T08:47:23.085771Z",
     "iopub.status.busy": "2023-09-26T08:47:23.085589Z",
     "iopub.status.idle": "2023-09-26T08:47:23.088533Z",
     "shell.execute_reply": "2023-09-26T08:47:23.087996Z"
    }
   },
   "outputs": [],
   "source": [
    "anon.config.save_to_config_file('config.json')"
   ]
  },
  {
   "cell_type": "code",
   "execution_count": 10,
   "metadata": {
    "execution": {
     "iopub.execute_input": "2023-09-26T08:47:23.090664Z",
     "iopub.status.busy": "2023-09-26T08:47:23.090385Z",
     "iopub.status.idle": "2023-09-26T08:47:23.101022Z",
     "shell.execute_reply": "2023-09-26T08:47:23.100478Z"
    }
   },
   "outputs": [
    {
     "data": {
      "text/html": [
       "<div><style>\n",
       ".dataframe > thead > tr > th,\n",
       ".dataframe > tbody > tr > td {\n",
       "  text-align: right;\n",
       "}\n",
       "</style>\n",
       "<small>shape: (7, 7)</small><table border=\"1\" class=\"dataframe\"><thead><tr><th>PREDICTOR_0</th><th>filename</th><th>PREDICTOR_2</th><th>PREDICTOR_3</th><th>Context_Name</th><th>IH_Web_Inbound_Accepted_pxLastGroupID</th><th>Decision_Outcome</th></tr><tr><td>str</td><td>str</td><td>f64</td><td>str</td><td>str</td><td>str</td><td>str</td></tr></thead><tbody><tr><td>&quot;14932978267476…</td><td>&quot;../../../../da…</td><td>1.2927e19</td><td>&quot;79507862771527…</td><td>&quot;FirstMortgage3…</td><td>&quot;43646439696892…</td><td>&quot;Rejected&quot;</td></tr><tr><td>&quot;44993181758757…</td><td>&quot;../../../../da…</td><td>1.4856e19</td><td>&quot;17610786256902…</td><td>&quot;FirstMortgage3…</td><td>&quot;41530065113076…</td><td>&quot;Accepted&quot;</td></tr><tr><td>&quot;10539633254969…</td><td>&quot;../../../../da…</td><td>5.6458e17</td><td>&quot;81040433880247…</td><td>&quot;MoneyMarketSav…</td><td>&quot;43646439696892…</td><td>&quot;Rejected&quot;</td></tr><tr><td>&quot;44993181758757…</td><td>&quot;../../../../da…</td><td>4.0723e18</td><td>&quot;22535526330172…</td><td>&quot;BasicChecking&quot;</td><td>&quot;43646439696892…</td><td>&quot;Rejected&quot;</td></tr><tr><td>&quot;14932978267476…</td><td>&quot;../../../../da…</td><td>1.4677e19</td><td>&quot;12014241513155…</td><td>&quot;BasicChecking&quot;</td><td>&quot;17494366915880…</td><td>&quot;Accepted&quot;</td></tr><tr><td>&quot;10539633254969…</td><td>&quot;../../../../da…</td><td>1.6330e19</td><td>&quot;11336402145754…</td><td>&quot;UPlusFinPerson…</td><td>null</td><td>&quot;Rejected&quot;</td></tr><tr><td>&quot;10539633254969…</td><td>&quot;../../../../da…</td><td>8.7675e18</td><td>&quot;16593629428046…</td><td>&quot;BasicChecking&quot;</td><td>&quot;17494366915880…</td><td>&quot;Rejected&quot;</td></tr></tbody></table></div>"
      ],
      "text/plain": [
       "shape: (7, 7)\n",
       "┌──────────────┬─────────────┬─────────────┬─────────────┬─────────────┬─────────────┬─────────────┐\n",
       "│ PREDICTOR_0  ┆ filename    ┆ PREDICTOR_2 ┆ PREDICTOR_3 ┆ Context_Nam ┆ IH_Web_Inbo ┆ Decision_Ou │\n",
       "│ ---          ┆ ---         ┆ ---         ┆ ---         ┆ e           ┆ und_Accepte ┆ tcome       │\n",
       "│ str          ┆ str         ┆ f64         ┆ str         ┆ ---         ┆ d_pxLastGr… ┆ ---         │\n",
       "│              ┆             ┆             ┆             ┆ str         ┆ ---         ┆ str         │\n",
       "│              ┆             ┆             ┆             ┆             ┆ str         ┆             │\n",
       "╞══════════════╪═════════════╪═════════════╪═════════════╪═════════════╪═════════════╪═════════════╡\n",
       "│ 149329782674 ┆ ../../../.. ┆ 1.2927e19   ┆ 79507862771 ┆ FirstMortga ┆ 43646439696 ┆ Rejected    │\n",
       "│ 76982271     ┆ /data/Sampl ┆             ┆ 52777973    ┆ ge30yr      ┆ 89213048    ┆             │\n",
       "│              ┆ eHDS.json   ┆             ┆             ┆             ┆             ┆             │\n",
       "│ 449931817587 ┆ ../../../.. ┆ 1.4856e19   ┆ 17610786256 ┆ FirstMortga ┆ 41530065113 ┆ Accepted    │\n",
       "│ 5745946      ┆ /data/Sampl ┆             ┆ 902421356   ┆ ge30yr      ┆ 0764627     ┆             │\n",
       "│              ┆ eHDS.json   ┆             ┆             ┆             ┆             ┆             │\n",
       "│ 105396332549 ┆ ../../../.. ┆ 5.6458e17   ┆ 81040433880 ┆ MoneyMarket ┆ 43646439696 ┆ Rejected    │\n",
       "│ 69824462     ┆ /data/Sampl ┆             ┆ 24745324    ┆ SavingsAcco ┆ 89213048    ┆             │\n",
       "│              ┆ eHDS.json   ┆             ┆             ┆ unt         ┆             ┆             │\n",
       "│ 449931817587 ┆ ../../../.. ┆ 4.0723e18   ┆ 22535526330 ┆ BasicChecki ┆ 43646439696 ┆ Rejected    │\n",
       "│ 5745946      ┆ /data/Sampl ┆             ┆ 17273775    ┆ ng          ┆ 89213048    ┆             │\n",
       "│              ┆ eHDS.json   ┆             ┆             ┆             ┆             ┆             │\n",
       "│ 149329782674 ┆ ../../../.. ┆ 1.4677e19   ┆ 12014241513 ┆ BasicChecki ┆ 17494366915 ┆ Accepted    │\n",
       "│ 76982271     ┆ /data/Sampl ┆             ┆ 155245244   ┆ ng          ┆ 880506791   ┆             │\n",
       "│              ┆ eHDS.json   ┆             ┆             ┆             ┆             ┆             │\n",
       "│ 105396332549 ┆ ../../../.. ┆ 1.6330e19   ┆ 11336402145 ┆ UPlusFinPer ┆ null        ┆ Rejected    │\n",
       "│ 69824462     ┆ /data/Sampl ┆             ┆ 754907273   ┆ sonal       ┆             ┆             │\n",
       "│              ┆ eHDS.json   ┆             ┆             ┆             ┆             ┆             │\n",
       "│ 105396332549 ┆ ../../../.. ┆ 8.7675e18   ┆ 16593629428 ┆ BasicChecki ┆ 17494366915 ┆ Rejected    │\n",
       "│ 69824462     ┆ /data/Sampl ┆             ┆ 046879235   ┆ ng          ┆ 880506791   ┆             │\n",
       "│              ┆ eHDS.json   ┆             ┆             ┆             ┆             ┆             │\n",
       "└──────────────┴─────────────┴─────────────┴─────────────┴─────────────┴─────────────┴─────────────┘"
      ]
     },
     "execution_count": 10,
     "metadata": {},
     "output_type": "execute_result"
    }
   ],
   "source": [
    "anon = DataAnonymization(config=Config(config_file='config.json'))\n",
    "anon.process()"
   ]
  },
  {
   "attachments": {},
   "cell_type": "markdown",
   "metadata": {},
   "source": [
    "## Exporting\n",
    "Two functions export:\n",
    "- `create_mapping_file()` writes the mapping file of the predictor names\n",
    "- `write_to_output()` writes the processed dataframe to disk\n",
    "\n",
    "Write to output accepts the following extensions: `[\"ndjson\", \"parquet\", \"arrow\", \"csv\"]`"
   ]
  },
  {
   "cell_type": "code",
   "execution_count": 11,
   "metadata": {
    "execution": {
     "iopub.execute_input": "2023-09-26T08:47:23.103415Z",
     "iopub.status.busy": "2023-09-26T08:47:23.102992Z",
     "iopub.status.idle": "2023-09-26T08:47:23.106640Z",
     "shell.execute_reply": "2023-09-26T08:47:23.106092Z"
    }
   },
   "outputs": [
    {
     "name": "stdout",
     "output_type": "stream",
     "text": [
      "Customer_MaritalStatus=PREDICTOR_0\n",
      "filename=filename\n",
      "Customer_CLV=PREDICTOR_2\n",
      "Customer_City=PREDICTOR_3\n",
      "Context_Name=Context_Name\n",
      "IH_Web_Inbound_Accepted_pxLastGroupID=IH_Web_Inbound_Accepted_pxLastGroupID\n",
      "Decision_Outcome=Decision_Outcome\n",
      "\n"
     ]
    }
   ],
   "source": [
    "anon.create_mapping_file()\n",
    "with open('mapping.map') as f:\n",
    "    print(f.read())"
   ]
  },
  {
   "cell_type": "code",
   "execution_count": 12,
   "metadata": {
    "execution": {
     "iopub.execute_input": "2023-09-26T08:47:23.108810Z",
     "iopub.status.busy": "2023-09-26T08:47:23.108539Z",
     "iopub.status.idle": "2023-09-26T08:47:23.112301Z",
     "shell.execute_reply": "2023-09-26T08:47:23.111781Z"
    }
   },
   "outputs": [],
   "source": [
    "anon.write_to_output(ext='arrow')"
   ]
  },
  {
   "cell_type": "code",
   "execution_count": 13,
   "metadata": {
    "execution": {
     "iopub.execute_input": "2023-09-26T08:47:23.114427Z",
     "iopub.status.busy": "2023-09-26T08:47:23.114246Z",
     "iopub.status.idle": "2023-09-26T08:47:23.119068Z",
     "shell.execute_reply": "2023-09-26T08:47:23.118556Z"
    }
   },
   "outputs": [
    {
     "data": {
      "text/html": [
       "<div><style>\n",
       ".dataframe > thead > tr > th,\n",
       ".dataframe > tbody > tr > td {\n",
       "  text-align: right;\n",
       "}\n",
       "</style>\n",
       "<small>shape: (7, 6)</small><table border=\"1\" class=\"dataframe\"><thead><tr><th>PREDICTOR_0</th><th>PREDICTOR_2</th><th>PREDICTOR_3</th><th>Context_Name</th><th>IH_Web_Inbound_Accepted_pxLastGroupID</th><th>Decision_Outcome</th></tr><tr><td>str</td><td>f64</td><td>str</td><td>str</td><td>str</td><td>str</td></tr></thead><tbody><tr><td>&quot;11379594814117…</td><td>1.2927e19</td><td>&quot;71762860685995…</td><td>&quot;FirstMortgage3…</td><td>&quot;80897385266521…</td><td>&quot;Rejected&quot;</td></tr><tr><td>&quot;16356173096443…</td><td>1.4856e19</td><td>&quot;19416531959246…</td><td>&quot;FirstMortgage3…</td><td>&quot;16118478482451…</td><td>&quot;Accepted&quot;</td></tr><tr><td>&quot;14138535191887…</td><td>5.6458e17</td><td>&quot;13513194107384…</td><td>&quot;MoneyMarketSav…</td><td>&quot;80897385266521…</td><td>&quot;Rejected&quot;</td></tr><tr><td>&quot;16356173096443…</td><td>4.0723e18</td><td>&quot;68901853300369…</td><td>&quot;BasicChecking&quot;</td><td>&quot;80897385266521…</td><td>&quot;Rejected&quot;</td></tr><tr><td>&quot;11379594814117…</td><td>1.4677e19</td><td>&quot;11120586690947…</td><td>&quot;BasicChecking&quot;</td><td>&quot;44000359464363…</td><td>&quot;Accepted&quot;</td></tr><tr><td>&quot;14138535191887…</td><td>1.6330e19</td><td>&quot;17111426065684…</td><td>&quot;UPlusFinPerson…</td><td>null</td><td>&quot;Rejected&quot;</td></tr><tr><td>&quot;14138535191887…</td><td>8.7675e18</td><td>&quot;96491586248627…</td><td>&quot;BasicChecking&quot;</td><td>&quot;44000359464363…</td><td>&quot;Rejected&quot;</td></tr></tbody></table></div>"
      ],
      "text/plain": [
       "shape: (7, 6)\n",
       "┌────────────────┬─────────────┬────────────────┬────────────────┬────────────────┬────────────────┐\n",
       "│ PREDICTOR_0    ┆ PREDICTOR_2 ┆ PREDICTOR_3    ┆ Context_Name   ┆ IH_Web_Inbound ┆ Decision_Outco │\n",
       "│ ---            ┆ ---         ┆ ---            ┆ ---            ┆ _Accepted_pxLa ┆ me             │\n",
       "│ str            ┆ f64         ┆ str            ┆ str            ┆ stGr…          ┆ ---            │\n",
       "│                ┆             ┆                ┆                ┆ ---            ┆ str            │\n",
       "│                ┆             ┆                ┆                ┆ str            ┆                │\n",
       "╞════════════════╪═════════════╪════════════════╪════════════════╪════════════════╪════════════════╡\n",
       "│ 11379594814117 ┆ 1.2927e19   ┆ 71762860685995 ┆ FirstMortgage3 ┆ 80897385266521 ┆ Rejected       │\n",
       "│ 721708         ┆             ┆ 56578          ┆ 0yr            ┆ 33220          ┆                │\n",
       "│ 16356173096443 ┆ 1.4856e19   ┆ 19416531959246 ┆ FirstMortgage3 ┆ 16118478482451 ┆ Accepted       │\n",
       "│ 329443         ┆             ┆ 57378          ┆ 0yr            ┆ 404284         ┆                │\n",
       "│ 14138535191887 ┆ 5.6458e17   ┆ 13513194107384 ┆ MoneyMarketSav ┆ 80897385266521 ┆ Rejected       │\n",
       "│ 785874         ┆             ┆ 457345         ┆ ingsAccount    ┆ 33220          ┆                │\n",
       "│ 16356173096443 ┆ 4.0723e18   ┆ 68901853300369 ┆ BasicChecking  ┆ 80897385266521 ┆ Rejected       │\n",
       "│ 329443         ┆             ┆ 05042          ┆                ┆ 33220          ┆                │\n",
       "│ 11379594814117 ┆ 1.4677e19   ┆ 11120586690947 ┆ BasicChecking  ┆ 44000359464363 ┆ Accepted       │\n",
       "│ 721708         ┆             ┆ 897270         ┆                ┆ 18635          ┆                │\n",
       "│ 14138535191887 ┆ 1.6330e19   ┆ 17111426065684 ┆ UPlusFinPerson ┆ null           ┆ Rejected       │\n",
       "│ 785874         ┆             ┆ 325235         ┆ al             ┆                ┆                │\n",
       "│ 14138535191887 ┆ 8.7675e18   ┆ 96491586248627 ┆ BasicChecking  ┆ 44000359464363 ┆ Rejected       │\n",
       "│ 785874         ┆             ┆ 21711          ┆                ┆ 18635          ┆                │\n",
       "└────────────────┴─────────────┴────────────────┴────────────────┴────────────────┴────────────────┘"
      ]
     },
     "execution_count": 13,
     "metadata": {},
     "output_type": "execute_result"
    }
   ],
   "source": [
    "pl.read_ipc('output/hds.arrow')"
   ]
  },
  {
   "attachments": {},
   "cell_type": "markdown",
   "metadata": {
    "nbsphinx": "hidden"
   },
   "source": [
    "## Advanced: Hash fuctions\n",
    "\n",
    "By default, we use [the same hashing algorithm Polars](https://pola-rs.github.io/polars/py-polars/html/reference/expressions/api/polars.Expr.hash.html#polars.Expr.hash) uses: [xxhash](https://github.com/Cyan4973/xxHash), as implemented [here](https://github.com/pola-rs/polars/blob/3f287f370b3c388ed2f3f218b2c096382548136f/polars/polars-core/src/vector_hasher.rs#L266). xxhash is fast to compute, and you can check its performance in collision, dispersion and randomness [here](https://github.com/Cyan4973/xxHash/tree/dev/tests). \n",
    "\n",
    "xxhash accepts four distinct seeds, but by default we set the seeds to `0`. It is possible to set the `seed` argument of the `process()` function to `'random'`, which will set all four seeds to a random integer between `0` and `1000000000`. Alternatively, it is possible to supply the four seeds manually with arguments `seed`, `seed_1`, `seed_2` and `seed_3`. \n",
    "\n",
    "If the xxhash with (random) seed(s) is not deemed sufficiently secure, it is possible to use your own hashing algorithm.\n",
    "\n",
    "Note that since we're now running python code and not native Polars code anymore, this will be _significantly_ slower. Nonetheless, it is possible.\n",
    "\n",
    "Just as an example - this is how one would use sha3_256:"
   ]
  },
  {
   "cell_type": "code",
   "execution_count": 14,
   "metadata": {
    "execution": {
     "iopub.execute_input": "2023-09-26T08:47:23.121885Z",
     "iopub.status.busy": "2023-09-26T08:47:23.121708Z",
     "iopub.status.idle": "2023-09-26T08:47:23.462962Z",
     "shell.execute_reply": "2023-09-26T08:47:23.462330Z"
    },
    "nbsphinx": "hidden"
   },
   "outputs": [
    {
     "ename": "ComputeError",
     "evalue": "AttributeError: 'int' object has no attribute 'encode'",
     "output_type": "error",
     "traceback": [
      "\u001b[0;31m---------------------------------------------------------------------------\u001b[0m",
      "\u001b[0;31mComputeError\u001b[0m                              Traceback (most recent call last)",
      "Cell \u001b[0;32mIn[14], line 3\u001b[0m\n\u001b[1;32m      1\u001b[0m \u001b[38;5;28;01mfrom\u001b[39;00m \u001b[38;5;21;01mhashlib\u001b[39;00m \u001b[38;5;28;01mimport\u001b[39;00m sha3_256\n\u001b[0;32m----> 3\u001b[0m \u001b[43manon\u001b[49m\u001b[38;5;241;43m.\u001b[39;49m\u001b[43mprocess\u001b[49m\u001b[43m(\u001b[49m\u001b[43malgorithm\u001b[49m\u001b[38;5;241;43m=\u001b[39;49m\u001b[38;5;28;43;01mlambda\u001b[39;49;00m\u001b[43m \u001b[49m\u001b[43mx\u001b[49m\u001b[43m:\u001b[49m\u001b[43m \u001b[49m\u001b[43msha3_256\u001b[49m\u001b[43m(\u001b[49m\u001b[43mx\u001b[49m\u001b[38;5;241;43m.\u001b[39;49m\u001b[43mencode\u001b[49m\u001b[43m(\u001b[49m\u001b[43m)\u001b[49m\u001b[43m)\u001b[49m\u001b[38;5;241;43m.\u001b[39;49m\u001b[43mhexdigest\u001b[49m\u001b[43m(\u001b[49m\u001b[43m)\u001b[49m\u001b[43m)\u001b[49m\n",
      "File \u001b[0;32m~/work/pega-datascientist-tools/pega-datascientist-tools/python/docs/source/articles/../../../pdstools/utils/hds_utils.py:516\u001b[0m, in \u001b[0;36mDataAnonymization.process\u001b[0;34m(self, strategy, **kwargs)\u001b[0m\n\u001b[1;32m    514\u001b[0m df \u001b[38;5;241m=\u001b[39m df\u001b[38;5;241m.\u001b[39mselect(\u001b[38;5;28mself\u001b[39m\u001b[38;5;241m.\u001b[39mcolumn_mapping\u001b[38;5;241m.\u001b[39mkeys())\u001b[38;5;241m.\u001b[39mrename(\u001b[38;5;28mself\u001b[39m\u001b[38;5;241m.\u001b[39mcolumn_mapping)\n\u001b[1;32m    515\u001b[0m \u001b[38;5;28;01mif\u001b[39;00m strategy \u001b[38;5;241m==\u001b[39m \u001b[38;5;124m\"\u001b[39m\u001b[38;5;124meager\u001b[39m\u001b[38;5;124m\"\u001b[39m:\n\u001b[0;32m--> 516\u001b[0m     \u001b[38;5;28;01mreturn\u001b[39;00m \u001b[43mdf\u001b[49m\u001b[38;5;241;43m.\u001b[39;49m\u001b[43mcollect\u001b[49m\u001b[43m(\u001b[49m\u001b[43m)\u001b[49m\n\u001b[1;32m    517\u001b[0m \u001b[38;5;28;01mreturn\u001b[39;00m df\n",
      "File \u001b[0;32m/opt/hostedtoolcache/Python/3.11.5/x64/lib/python3.11/site-packages/polars/lazyframe/frame.py:1530\u001b[0m, in \u001b[0;36mLazyFrame.collect\u001b[0;34m(self, type_coercion, predicate_pushdown, projection_pushdown, simplify_expression, no_optimization, slice_pushdown, common_subplan_elimination, streaming)\u001b[0m\n\u001b[1;32m   1519\u001b[0m     common_subplan_elimination \u001b[38;5;241m=\u001b[39m \u001b[38;5;28;01mFalse\u001b[39;00m\n\u001b[1;32m   1521\u001b[0m ldf \u001b[38;5;241m=\u001b[39m \u001b[38;5;28mself\u001b[39m\u001b[38;5;241m.\u001b[39m_ldf\u001b[38;5;241m.\u001b[39moptimization_toggle(\n\u001b[1;32m   1522\u001b[0m     type_coercion,\n\u001b[1;32m   1523\u001b[0m     predicate_pushdown,\n\u001b[0;32m   (...)\u001b[0m\n\u001b[1;32m   1528\u001b[0m     streaming,\n\u001b[1;32m   1529\u001b[0m )\n\u001b[0;32m-> 1530\u001b[0m \u001b[38;5;28;01mreturn\u001b[39;00m wrap_df(ldf\u001b[38;5;241m.\u001b[39mcollect())\n",
      "\u001b[0;31mComputeError\u001b[0m: AttributeError: 'int' object has no attribute 'encode'"
     ]
    }
   ],
   "source": [
    "from hashlib import sha3_256\n",
    "\n",
    "anon.process(algorithm=lambda x: sha3_256(x.encode()).hexdigest())"
   ]
  }
 ],
 "metadata": {
  "kernelspec": {
   "display_name": "Python 3",
   "language": "python",
   "name": "python3"
  },
  "language_info": {
   "codemirror_mode": {
    "name": "ipython",
    "version": 3
   },
   "file_extension": ".py",
   "mimetype": "text/x-python",
   "name": "python",
   "nbconvert_exporter": "python",
   "pygments_lexer": "ipython3",
   "version": "3.11.5"
  },
  "vscode": {
   "interpreter": {
    "hash": "aee8b7b246df8f9039afb4144a1f6fd8d2ca17a180786b69acc140d282b71a49"
   }
  }
 },
 "nbformat": 4,
 "nbformat_minor": 2
}
