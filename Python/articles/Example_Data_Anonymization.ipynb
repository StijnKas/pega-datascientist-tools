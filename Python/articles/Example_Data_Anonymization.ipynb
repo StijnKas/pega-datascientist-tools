{
 "cells": [
  {
   "attachments": {},
   "cell_type": "markdown",
   "metadata": {},
   "source": [
    "# Data Anonymization\n",
    "\n",
    "In Pega CDH 8.5 and up, it's now possible to record the historical data as seen by the Adaptive Models. See [this academy challenge](https://academy.pega.com/challenge/exporting-historical-data/v4) for reference. This historical data can be further used to experiment with offline models, but also to fine-tune the OOTB Gradient Boosting model. However, sharing this information with Pega can be sensitive as it contains raw predictor data. \n",
    "\n",
    "To this end, we provide a simple and transparent script to fully anonimize this dataset.\n",
    "\n",
    "The DataAnonymization script is now part of pdstools, and you can import it directly as such."
   ]
  },
  {
   "cell_type": "code",
   "execution_count": 1,
   "metadata": {
    "execution": {
     "iopub.execute_input": "2024-01-23T11:31:07.090807Z",
     "iopub.status.busy": "2024-01-23T11:31:07.090394Z",
     "iopub.status.idle": "2024-01-23T11:31:07.163265Z",
     "shell.execute_reply": "2024-01-23T11:31:07.162732Z"
    },
    "nbsphinx": "hidden"
   },
   "outputs": [],
   "source": [
    "# These lines are only for rendering in the docs, and are hidden through Jupyter tags\n",
    "# Do not run if you're running the notebook seperately\n",
    "\n",
    "import os  \n",
    "import sys\n",
    "import plotly.io as pio\n",
    "pio.renderers.default = \"notebook_connected\"\n",
    "\n",
    "sys.path.append(\"../../../\")\n",
    "sys.path.append('../../python')"
   ]
  },
  {
   "cell_type": "code",
   "execution_count": 2,
   "metadata": {
    "execution": {
     "iopub.execute_input": "2024-01-23T11:31:07.165745Z",
     "iopub.status.busy": "2024-01-23T11:31:07.165409Z",
     "iopub.status.idle": "2024-01-23T11:31:08.210956Z",
     "shell.execute_reply": "2024-01-23T11:31:08.210328Z"
    }
   },
   "outputs": [],
   "source": [
    "from pdstools import ADMDatamart\n",
    "from pdstools import Config, DataAnonymization\n",
    "import polars as pl"
   ]
  },
  {
   "attachments": {},
   "cell_type": "markdown",
   "metadata": {},
   "source": [
    "## Input data\n",
    "\n",
    "To demonstrate this process, we're going to anonymise this toy example dataframe:"
   ]
  },
  {
   "cell_type": "code",
   "execution_count": 3,
   "metadata": {
    "execution": {
     "iopub.execute_input": "2024-01-23T11:31:08.213738Z",
     "iopub.status.busy": "2024-01-23T11:31:08.213259Z",
     "iopub.status.idle": "2024-01-23T11:31:08.222586Z",
     "shell.execute_reply": "2024-01-23T11:31:08.222110Z"
    }
   },
   "outputs": [
    {
     "data": {
      "text/html": [
       "<div><style>\n",
       ".dataframe > thead > tr,\n",
       ".dataframe > tbody > tr {\n",
       "  text-align: right;\n",
       "  white-space: pre-wrap;\n",
       "}\n",
       "</style>\n",
       "<small>shape: (7, 6)</small><table border=\"1\" class=\"dataframe\"><thead><tr><th>Context_Name</th><th>Customer_MaritalStatus</th><th>Customer_CLV</th><th>Customer_City</th><th>IH_Web_Inbound_Accepted_pxLastGroupID</th><th>Decision_Outcome</th></tr><tr><td>str</td><td>str</td><td>i64</td><td>str</td><td>str</td><td>str</td></tr></thead><tbody><tr><td>&quot;FirstMortgage3…</td><td>&quot;Married&quot;</td><td>1460</td><td>&quot;Port Raoul&quot;</td><td>&quot;Account&quot;</td><td>&quot;Rejected&quot;</td></tr><tr><td>&quot;FirstMortgage3…</td><td>&quot;Unknown&quot;</td><td>669</td><td>&quot;Laurianneshire…</td><td>&quot;AutoLoans&quot;</td><td>&quot;Accepted&quot;</td></tr><tr><td>&quot;MoneyMarketSav…</td><td>&quot;No Resp+&quot;</td><td>1174</td><td>&quot;Jacobshaven&quot;</td><td>&quot;Account&quot;</td><td>&quot;Rejected&quot;</td></tr><tr><td>&quot;BasicChecking&quot;</td><td>&quot;Unknown&quot;</td><td>1476</td><td>&quot;Lindton&quot;</td><td>&quot;Account&quot;</td><td>&quot;Rejected&quot;</td></tr><tr><td>&quot;BasicChecking&quot;</td><td>&quot;Married&quot;</td><td>1211</td><td>&quot;South Jimmiesh…</td><td>&quot;DepositAccount…</td><td>&quot;Accepted&quot;</td></tr><tr><td>&quot;UPlusFinPerson…</td><td>&quot;No Resp+&quot;</td><td>533</td><td>&quot;Bergeville&quot;</td><td>null</td><td>&quot;Rejected&quot;</td></tr><tr><td>&quot;BasicChecking&quot;</td><td>&quot;No Resp+&quot;</td><td>555</td><td>&quot;Willyville&quot;</td><td>&quot;DepositAccount…</td><td>&quot;Rejected&quot;</td></tr></tbody></table></div>"
      ],
      "text/plain": [
       "shape: (7, 6)\n",
       "┌────────────────┬────────────────┬──────────────┬────────────────┬────────────────┬───────────────┐\n",
       "│ Context_Name   ┆ Customer_Marit ┆ Customer_CLV ┆ Customer_City  ┆ IH_Web_Inbound ┆ Decision_Outc │\n",
       "│ ---            ┆ alStatus       ┆ ---          ┆ ---            ┆ _Accepted_pxLa ┆ ome           │\n",
       "│ str            ┆ ---            ┆ i64          ┆ str            ┆ stGr…          ┆ ---           │\n",
       "│                ┆ str            ┆              ┆                ┆ ---            ┆ str           │\n",
       "│                ┆                ┆              ┆                ┆ str            ┆               │\n",
       "╞════════════════╪════════════════╪══════════════╪════════════════╪════════════════╪═══════════════╡\n",
       "│ FirstMortgage3 ┆ Married        ┆ 1460         ┆ Port Raoul     ┆ Account        ┆ Rejected      │\n",
       "│ 0yr            ┆                ┆              ┆                ┆                ┆               │\n",
       "│ FirstMortgage3 ┆ Unknown        ┆ 669          ┆ Laurianneshire ┆ AutoLoans      ┆ Accepted      │\n",
       "│ 0yr            ┆                ┆              ┆                ┆                ┆               │\n",
       "│ MoneyMarketSav ┆ No Resp+       ┆ 1174         ┆ Jacobshaven    ┆ Account        ┆ Rejected      │\n",
       "│ ingsAccount    ┆                ┆              ┆                ┆                ┆               │\n",
       "│ BasicChecking  ┆ Unknown        ┆ 1476         ┆ Lindton        ┆ Account        ┆ Rejected      │\n",
       "│ BasicChecking  ┆ Married        ┆ 1211         ┆ South          ┆ DepositAccount ┆ Accepted      │\n",
       "│                ┆                ┆              ┆ Jimmieshire    ┆ s              ┆               │\n",
       "│ UPlusFinPerson ┆ No Resp+       ┆ 533          ┆ Bergeville     ┆ null           ┆ Rejected      │\n",
       "│ al             ┆                ┆              ┆                ┆                ┆               │\n",
       "│ BasicChecking  ┆ No Resp+       ┆ 555          ┆ Willyville     ┆ DepositAccount ┆ Rejected      │\n",
       "│                ┆                ┆              ┆                ┆ s              ┆               │\n",
       "└────────────────┴────────────────┴──────────────┴────────────────┴────────────────┴───────────────┘"
      ]
     },
     "execution_count": 3,
     "metadata": {},
     "output_type": "execute_result"
    }
   ],
   "source": [
    "pl.read_ndjson('../../../../data/SampleHDS.json')"
   ]
  },
  {
   "attachments": {},
   "cell_type": "markdown",
   "metadata": {},
   "source": [
    "As you can see, this dataset consists of regular predictors, IH predictors, context keys and the outcome column. Additionally, some columns are numeric, others are strings. Let's first initialize the DataAnonymization class."
   ]
  },
  {
   "cell_type": "code",
   "execution_count": 4,
   "metadata": {
    "execution": {
     "iopub.execute_input": "2024-01-23T11:31:08.224777Z",
     "iopub.status.busy": "2024-01-23T11:31:08.224448Z",
     "iopub.status.idle": "2024-01-23T11:31:08.231135Z",
     "shell.execute_reply": "2024-01-23T11:31:08.230724Z"
    }
   },
   "outputs": [],
   "source": [
    "anon = DataAnonymization(hds_folder='../../../../data/')"
   ]
  },
  {
   "attachments": {},
   "cell_type": "markdown",
   "metadata": {},
   "source": [
    "By default, the class applies a set of anonymisation techniques:\n",
    "- Column names are remapped to a non-descriptive name\n",
    "- Categorical values are hashed with a random seed\n",
    "- Numerical values are normalized between 0 and 1\n",
    "- Outcomes are mapped to a binary outcome.\n",
    "\n",
    "To apply these techniques, simply call `.process()`:"
   ]
  },
  {
   "cell_type": "code",
   "execution_count": 5,
   "metadata": {
    "execution": {
     "iopub.execute_input": "2024-01-23T11:31:08.233126Z",
     "iopub.status.busy": "2024-01-23T11:31:08.232808Z",
     "iopub.status.idle": "2024-01-23T11:31:08.238421Z",
     "shell.execute_reply": "2024-01-23T11:31:08.237895Z"
    }
   },
   "outputs": [
    {
     "data": {
      "text/html": [
       "<div><style>\n",
       ".dataframe > thead > tr,\n",
       ".dataframe > tbody > tr {\n",
       "  text-align: right;\n",
       "  white-space: pre-wrap;\n",
       "}\n",
       "</style>\n",
       "<small>shape: (7, 7)</small><table border=\"1\" class=\"dataframe\"><thead><tr><th>filename</th><th>PREDICTOR_1</th><th>PREDICTOR_2</th><th>PREDICTOR_3</th><th>Context_Name</th><th>IH_PREDICTOR_0</th><th>Decision_Outcome</th></tr><tr><td>str</td><td>f64</td><td>str</td><td>str</td><td>str</td><td>str</td><td>bool</td></tr></thead><tbody><tr><td>&quot;../../../../da…</td><td>0.983033</td><td>&quot;70613040291097…</td><td>&quot;17764205360031…</td><td>&quot;76894181451265…</td><td>&quot;57259111112350…</td><td>false</td></tr><tr><td>&quot;../../../../da…</td><td>0.144221</td><td>&quot;10871582160635…</td><td>&quot;69866542472747…</td><td>&quot;76894181451265…</td><td>&quot;12773805194982…</td><td>true</td></tr><tr><td>&quot;../../../../da…</td><td>0.679745</td><td>&quot;15135818140438…</td><td>&quot;17566446151292…</td><td>&quot;84521398603404…</td><td>&quot;57259111112350…</td><td>false</td></tr><tr><td>&quot;../../../../da…</td><td>1.0</td><td>&quot;10871582160635…</td><td>&quot;28787180166074…</td><td>&quot;16909321233368…</td><td>&quot;57259111112350…</td><td>false</td></tr><tr><td>&quot;../../../../da…</td><td>0.718982</td><td>&quot;70613040291097…</td><td>&quot;15886823982667…</td><td>&quot;16909321233368…</td><td>&quot;81934287109748…</td><td>true</td></tr><tr><td>&quot;../../../../da…</td><td>0.0</td><td>&quot;15135818140438…</td><td>&quot;12193170505460…</td><td>&quot;15938621216937…</td><td>null</td><td>false</td></tr><tr><td>&quot;../../../../da…</td><td>0.02333</td><td>&quot;15135818140438…</td><td>&quot;28510155298775…</td><td>&quot;16909321233368…</td><td>&quot;81934287109748…</td><td>false</td></tr></tbody></table></div>"
      ],
      "text/plain": [
       "shape: (7, 7)\n",
       "┌──────────────┬─────────────┬─────────────┬─────────────┬─────────────┬─────────────┬─────────────┐\n",
       "│ filename     ┆ PREDICTOR_1 ┆ PREDICTOR_2 ┆ PREDICTOR_3 ┆ Context_Nam ┆ IH_PREDICTO ┆ Decision_Ou │\n",
       "│ ---          ┆ ---         ┆ ---         ┆ ---         ┆ e           ┆ R_0         ┆ tcome       │\n",
       "│ str          ┆ f64         ┆ str         ┆ str         ┆ ---         ┆ ---         ┆ ---         │\n",
       "│              ┆             ┆             ┆             ┆ str         ┆ str         ┆ bool        │\n",
       "╞══════════════╪═════════════╪═════════════╪═════════════╪═════════════╪═════════════╪═════════════╡\n",
       "│ ../../../../ ┆ 0.983033    ┆ 70613040291 ┆ 17764205360 ┆ 76894181451 ┆ 57259111112 ┆ false       │\n",
       "│ data/SampleH ┆             ┆ 09719754    ┆ 031363333   ┆ 26532703    ┆ 35012757    ┆             │\n",
       "│ DS.json      ┆             ┆             ┆             ┆             ┆             ┆             │\n",
       "│ ../../../../ ┆ 0.144221    ┆ 10871582160 ┆ 69866542472 ┆ 76894181451 ┆ 12773805194 ┆ true        │\n",
       "│ data/SampleH ┆             ┆ 635067189   ┆ 74741619    ┆ 26532703    ┆ 982063146   ┆             │\n",
       "│ DS.json      ┆             ┆             ┆             ┆             ┆             ┆             │\n",
       "│ ../../../../ ┆ 0.679745    ┆ 15135818140 ┆ 17566446151 ┆ 84521398603 ┆ 57259111112 ┆ false       │\n",
       "│ data/SampleH ┆             ┆ 438694723   ┆ 292658649   ┆ 40407447    ┆ 35012757    ┆             │\n",
       "│ DS.json      ┆             ┆             ┆             ┆             ┆             ┆             │\n",
       "│ ../../../../ ┆ 1.0         ┆ 10871582160 ┆ 28787180166 ┆ 16909321233 ┆ 57259111112 ┆ false       │\n",
       "│ data/SampleH ┆             ┆ 635067189   ┆ 07490533    ┆ 368041244   ┆ 35012757    ┆             │\n",
       "│ DS.json      ┆             ┆             ┆             ┆             ┆             ┆             │\n",
       "│ ../../../../ ┆ 0.718982    ┆ 70613040291 ┆ 15886823982 ┆ 16909321233 ┆ 81934287109 ┆ true        │\n",
       "│ data/SampleH ┆             ┆ 09719754    ┆ 667604754   ┆ 368041244   ┆ 74889779    ┆             │\n",
       "│ DS.json      ┆             ┆             ┆             ┆             ┆             ┆             │\n",
       "│ ../../../../ ┆ 0.0         ┆ 15135818140 ┆ 12193170505 ┆ 15938621216 ┆ null        ┆ false       │\n",
       "│ data/SampleH ┆             ┆ 438694723   ┆ 46009162    ┆ 937257568   ┆             ┆             │\n",
       "│ DS.json      ┆             ┆             ┆             ┆             ┆             ┆             │\n",
       "│ ../../../../ ┆ 0.02333     ┆ 15135818140 ┆ 28510155298 ┆ 16909321233 ┆ 81934287109 ┆ false       │\n",
       "│ data/SampleH ┆             ┆ 438694723   ┆ 77597039    ┆ 368041244   ┆ 74889779    ┆             │\n",
       "│ DS.json      ┆             ┆             ┆             ┆             ┆             ┆             │\n",
       "└──────────────┴─────────────┴─────────────┴─────────────┴─────────────┴─────────────┴─────────────┘"
      ]
     },
     "execution_count": 5,
     "metadata": {},
     "output_type": "execute_result"
    }
   ],
   "source": [
    "anon.process()"
   ]
  },
  {
   "attachments": {},
   "cell_type": "markdown",
   "metadata": {},
   "source": [
    "To trace back the columns to their original names, the class also contains a mapping, which does not have to be provided."
   ]
  },
  {
   "cell_type": "code",
   "execution_count": 6,
   "metadata": {
    "execution": {
     "iopub.execute_input": "2024-01-23T11:31:08.240525Z",
     "iopub.status.busy": "2024-01-23T11:31:08.240190Z",
     "iopub.status.idle": "2024-01-23T11:31:08.243716Z",
     "shell.execute_reply": "2024-01-23T11:31:08.243255Z"
    }
   },
   "outputs": [
    {
     "data": {
      "text/plain": [
       "{'filename': 'filename',\n",
       " 'Customer_CLV': 'PREDICTOR_1',\n",
       " 'Customer_MaritalStatus': 'PREDICTOR_2',\n",
       " 'Customer_City': 'PREDICTOR_3',\n",
       " 'Context_Name': 'Context_Name',\n",
       " 'IH_Web_Inbound_Accepted_pxLastGroupID': 'IH_PREDICTOR_0',\n",
       " 'Decision_Outcome': 'Decision_Outcome'}"
      ]
     },
     "execution_count": 6,
     "metadata": {},
     "output_type": "execute_result"
    }
   ],
   "source": [
    "anon.column_mapping"
   ]
  },
  {
   "attachments": {},
   "cell_type": "markdown",
   "metadata": {},
   "source": [
    "## Configs\n",
    "\n",
    "Each capability can optionally be turned off - see below for the full list of config options, and refer to the API reference for the full description."
   ]
  },
  {
   "cell_type": "code",
   "execution_count": 7,
   "metadata": {
    "execution": {
     "iopub.execute_input": "2024-01-23T11:31:08.245710Z",
     "iopub.status.busy": "2024-01-23T11:31:08.245379Z",
     "iopub.status.idle": "2024-01-23T11:31:08.249457Z",
     "shell.execute_reply": "2024-01-23T11:31:08.248882Z"
    }
   },
   "outputs": [
    {
     "data": {
      "text/plain": [
       "{'config_file': None,\n",
       " 'hds_folder': '.',\n",
       " 'use_datamart': False,\n",
       " 'datamart_folder': 'datamart',\n",
       " 'output_format': 'ndjson',\n",
       " 'output_folder': 'output',\n",
       " 'mapping_file': 'mapping.map',\n",
       " 'mask_predictor_names': True,\n",
       " 'mask_context_key_names': False,\n",
       " 'mask_ih_names': True,\n",
       " 'mask_outcome_name': False,\n",
       " 'mask_predictor_values': True,\n",
       " 'mask_context_key_values': True,\n",
       " 'mask_ih_values': True,\n",
       " 'mask_outcome_values': True,\n",
       " 'context_key_label': 'Context_*',\n",
       " 'ih_label': 'IH_*',\n",
       " 'outcome_column': 'Decision_Outcome',\n",
       " 'positive_outcomes': ['Accepted', 'Clicked'],\n",
       " 'negative_outcomes': ['Rejected', 'Impression'],\n",
       " 'special_predictors': ['Decision_DecisionTime',\n",
       "  'Decision_OutcomeTime',\n",
       "  'Decision_Rank'],\n",
       " 'sample_percentage_schema_inferencing': 0.01}"
      ]
     },
     "execution_count": 7,
     "metadata": {},
     "output_type": "execute_result"
    }
   ],
   "source": [
    "dict(zip(Config.__init__.__code__.co_varnames[1:], Config.__init__.__defaults__))"
   ]
  },
  {
   "attachments": {},
   "cell_type": "markdown",
   "metadata": {},
   "source": [
    "It's easy to change these parameters by just passing the keyword arguments. In the following example, we\n",
    "- Keep the IH predictor names\n",
    "- Keep the outcome values\n",
    "- Keep the context key values\n",
    "- Keep the context key predictor names"
   ]
  },
  {
   "cell_type": "code",
   "execution_count": 8,
   "metadata": {
    "execution": {
     "iopub.execute_input": "2024-01-23T11:31:08.251367Z",
     "iopub.status.busy": "2024-01-23T11:31:08.251048Z",
     "iopub.status.idle": "2024-01-23T11:31:08.258814Z",
     "shell.execute_reply": "2024-01-23T11:31:08.258384Z"
    }
   },
   "outputs": [
    {
     "data": {
      "text/html": [
       "<div><style>\n",
       ".dataframe > thead > tr,\n",
       ".dataframe > tbody > tr {\n",
       "  text-align: right;\n",
       "  white-space: pre-wrap;\n",
       "}\n",
       "</style>\n",
       "<small>shape: (7, 7)</small><table border=\"1\" class=\"dataframe\"><thead><tr><th>filename</th><th>PREDICTOR_1</th><th>PREDICTOR_2</th><th>PREDICTOR_3</th><th>Context_Name</th><th>IH_Web_Inbound_Accepted_pxLastGroupID</th><th>Decision_Outcome</th></tr><tr><td>str</td><td>f64</td><td>str</td><td>str</td><td>str</td><td>str</td><td>str</td></tr></thead><tbody><tr><td>&quot;../../../../da…</td><td>0.983033</td><td>&quot;14669269555748…</td><td>&quot;11623732065967…</td><td>&quot;FirstMortgage3…</td><td>&quot;28032078375093…</td><td>&quot;Rejected&quot;</td></tr><tr><td>&quot;../../../../da…</td><td>0.144221</td><td>&quot;86011162749770…</td><td>&quot;17615050037199…</td><td>&quot;FirstMortgage3…</td><td>&quot;18249450417857…</td><td>&quot;Accepted&quot;</td></tr><tr><td>&quot;../../../../da…</td><td>0.679745</td><td>&quot;84951761111892…</td><td>&quot;16081641238579…</td><td>&quot;MoneyMarketSav…</td><td>&quot;28032078375093…</td><td>&quot;Rejected&quot;</td></tr><tr><td>&quot;../../../../da…</td><td>1.0</td><td>&quot;86011162749770…</td><td>&quot;10389476434226…</td><td>&quot;BasicChecking&quot;</td><td>&quot;28032078375093…</td><td>&quot;Rejected&quot;</td></tr><tr><td>&quot;../../../../da…</td><td>0.718982</td><td>&quot;14669269555748…</td><td>&quot;52929173903009…</td><td>&quot;BasicChecking&quot;</td><td>&quot;74077324274081…</td><td>&quot;Accepted&quot;</td></tr><tr><td>&quot;../../../../da…</td><td>0.0</td><td>&quot;84951761111892…</td><td>&quot;15825763093432…</td><td>&quot;UPlusFinPerson…</td><td>null</td><td>&quot;Rejected&quot;</td></tr><tr><td>&quot;../../../../da…</td><td>0.02333</td><td>&quot;84951761111892…</td><td>&quot;51037418554198…</td><td>&quot;BasicChecking&quot;</td><td>&quot;74077324274081…</td><td>&quot;Rejected&quot;</td></tr></tbody></table></div>"
      ],
      "text/plain": [
       "shape: (7, 7)\n",
       "┌──────────────┬─────────────┬─────────────┬─────────────┬─────────────┬─────────────┬─────────────┐\n",
       "│ filename     ┆ PREDICTOR_1 ┆ PREDICTOR_2 ┆ PREDICTOR_3 ┆ Context_Nam ┆ IH_Web_Inbo ┆ Decision_Ou │\n",
       "│ ---          ┆ ---         ┆ ---         ┆ ---         ┆ e           ┆ und_Accepte ┆ tcome       │\n",
       "│ str          ┆ f64         ┆ str         ┆ str         ┆ ---         ┆ d_pxLastGr… ┆ ---         │\n",
       "│              ┆             ┆             ┆             ┆ str         ┆ ---         ┆ str         │\n",
       "│              ┆             ┆             ┆             ┆             ┆ str         ┆             │\n",
       "╞══════════════╪═════════════╪═════════════╪═════════════╪═════════════╪═════════════╪═════════════╡\n",
       "│ ../../../../ ┆ 0.983033    ┆ 14669269555 ┆ 11623732065 ┆ FirstMortga ┆ 28032078375 ┆ Rejected    │\n",
       "│ data/SampleH ┆             ┆ 748322303   ┆ 967523629   ┆ ge30yr      ┆ 09315303    ┆             │\n",
       "│ DS.json      ┆             ┆             ┆             ┆             ┆             ┆             │\n",
       "│ ../../../../ ┆ 0.144221    ┆ 86011162749 ┆ 17615050037 ┆ FirstMortga ┆ 18249450417 ┆ Accepted    │\n",
       "│ data/SampleH ┆             ┆ 77080879    ┆ 199709663   ┆ ge30yr      ┆ 857323967   ┆             │\n",
       "│ DS.json      ┆             ┆             ┆             ┆             ┆             ┆             │\n",
       "│ ../../../../ ┆ 0.679745    ┆ 84951761111 ┆ 16081641238 ┆ MoneyMarket ┆ 28032078375 ┆ Rejected    │\n",
       "│ data/SampleH ┆             ┆ 89223423    ┆ 579653209   ┆ SavingsAcco ┆ 09315303    ┆             │\n",
       "│ DS.json      ┆             ┆             ┆             ┆ unt         ┆             ┆             │\n",
       "│ ../../../../ ┆ 1.0         ┆ 86011162749 ┆ 10389476434 ┆ BasicChecki ┆ 28032078375 ┆ Rejected    │\n",
       "│ data/SampleH ┆             ┆ 77080879    ┆ 226986155   ┆ ng          ┆ 09315303    ┆             │\n",
       "│ DS.json      ┆             ┆             ┆             ┆             ┆             ┆             │\n",
       "│ ../../../../ ┆ 0.718982    ┆ 14669269555 ┆ 52929173903 ┆ BasicChecki ┆ 74077324274 ┆ Accepted    │\n",
       "│ data/SampleH ┆             ┆ 748322303   ┆ 0096351     ┆ ng          ┆ 08199666    ┆             │\n",
       "│ DS.json      ┆             ┆             ┆             ┆             ┆             ┆             │\n",
       "│ ../../../../ ┆ 0.0         ┆ 84951761111 ┆ 15825763093 ┆ UPlusFinPer ┆ null        ┆ Rejected    │\n",
       "│ data/SampleH ┆             ┆ 89223423    ┆ 432063039   ┆ sonal       ┆             ┆             │\n",
       "│ DS.json      ┆             ┆             ┆             ┆             ┆             ┆             │\n",
       "│ ../../../../ ┆ 0.02333     ┆ 84951761111 ┆ 51037418554 ┆ BasicChecki ┆ 74077324274 ┆ Rejected    │\n",
       "│ data/SampleH ┆             ┆ 89223423    ┆ 19886440    ┆ ng          ┆ 08199666    ┆             │\n",
       "│ DS.json      ┆             ┆             ┆             ┆             ┆             ┆             │\n",
       "└──────────────┴─────────────┴─────────────┴─────────────┴─────────────┴─────────────┴─────────────┘"
      ]
     },
     "execution_count": 8,
     "metadata": {},
     "output_type": "execute_result"
    }
   ],
   "source": [
    "anon = DataAnonymization(\n",
    "    hds_folder=\"../../../../data/\",\n",
    "    mask_ih_names=False,\n",
    "    mask_outcome_values=False,\n",
    "    mask_context_key_values=False,\n",
    "    mask_context_key_names=False,\n",
    ")\n",
    "anon.process()\n"
   ]
  },
  {
   "attachments": {},
   "cell_type": "markdown",
   "metadata": {},
   "source": [
    "The configs can also be written and read as such:"
   ]
  },
  {
   "cell_type": "code",
   "execution_count": 9,
   "metadata": {
    "execution": {
     "iopub.execute_input": "2024-01-23T11:31:08.260869Z",
     "iopub.status.busy": "2024-01-23T11:31:08.260545Z",
     "iopub.status.idle": "2024-01-23T11:31:08.263397Z",
     "shell.execute_reply": "2024-01-23T11:31:08.262955Z"
    }
   },
   "outputs": [],
   "source": [
    "anon.config.save_to_config_file('config.json')"
   ]
  },
  {
   "cell_type": "code",
   "execution_count": 10,
   "metadata": {
    "execution": {
     "iopub.execute_input": "2024-01-23T11:31:08.265432Z",
     "iopub.status.busy": "2024-01-23T11:31:08.265073Z",
     "iopub.status.idle": "2024-01-23T11:31:08.272568Z",
     "shell.execute_reply": "2024-01-23T11:31:08.272143Z"
    }
   },
   "outputs": [
    {
     "data": {
      "text/html": [
       "<div><style>\n",
       ".dataframe > thead > tr,\n",
       ".dataframe > tbody > tr {\n",
       "  text-align: right;\n",
       "  white-space: pre-wrap;\n",
       "}\n",
       "</style>\n",
       "<small>shape: (7, 7)</small><table border=\"1\" class=\"dataframe\"><thead><tr><th>filename</th><th>PREDICTOR_1</th><th>PREDICTOR_2</th><th>PREDICTOR_3</th><th>Context_Name</th><th>IH_Web_Inbound_Accepted_pxLastGroupID</th><th>Decision_Outcome</th></tr><tr><td>str</td><td>f64</td><td>str</td><td>str</td><td>str</td><td>str</td><td>str</td></tr></thead><tbody><tr><td>&quot;../../../../da…</td><td>0.983033</td><td>&quot;10304217769522…</td><td>&quot;85211314924927…</td><td>&quot;FirstMortgage3…</td><td>&quot;78957297688465…</td><td>&quot;Rejected&quot;</td></tr><tr><td>&quot;../../../../da…</td><td>0.144221</td><td>&quot;58533520575748…</td><td>&quot;63361957542607…</td><td>&quot;FirstMortgage3…</td><td>&quot;14173659752308…</td><td>&quot;Accepted&quot;</td></tr><tr><td>&quot;../../../../da…</td><td>0.679745</td><td>&quot;11740737952177…</td><td>&quot;77207928149651…</td><td>&quot;MoneyMarketSav…</td><td>&quot;78957297688465…</td><td>&quot;Rejected&quot;</td></tr><tr><td>&quot;../../../../da…</td><td>1.0</td><td>&quot;58533520575748…</td><td>&quot;10112549923227…</td><td>&quot;BasicChecking&quot;</td><td>&quot;78957297688465…</td><td>&quot;Rejected&quot;</td></tr><tr><td>&quot;../../../../da…</td><td>0.718982</td><td>&quot;10304217769522…</td><td>&quot;13059314046509…</td><td>&quot;BasicChecking&quot;</td><td>&quot;31021983595028…</td><td>&quot;Accepted&quot;</td></tr><tr><td>&quot;../../../../da…</td><td>0.0</td><td>&quot;11740737952177…</td><td>&quot;41840683575385…</td><td>&quot;UPlusFinPerson…</td><td>null</td><td>&quot;Rejected&quot;</td></tr><tr><td>&quot;../../../../da…</td><td>0.02333</td><td>&quot;11740737952177…</td><td>&quot;11477044743456…</td><td>&quot;BasicChecking&quot;</td><td>&quot;31021983595028…</td><td>&quot;Rejected&quot;</td></tr></tbody></table></div>"
      ],
      "text/plain": [
       "shape: (7, 7)\n",
       "┌──────────────┬─────────────┬─────────────┬─────────────┬─────────────┬─────────────┬─────────────┐\n",
       "│ filename     ┆ PREDICTOR_1 ┆ PREDICTOR_2 ┆ PREDICTOR_3 ┆ Context_Nam ┆ IH_Web_Inbo ┆ Decision_Ou │\n",
       "│ ---          ┆ ---         ┆ ---         ┆ ---         ┆ e           ┆ und_Accepte ┆ tcome       │\n",
       "│ str          ┆ f64         ┆ str         ┆ str         ┆ ---         ┆ d_pxLastGr… ┆ ---         │\n",
       "│              ┆             ┆             ┆             ┆ str         ┆ ---         ┆ str         │\n",
       "│              ┆             ┆             ┆             ┆             ┆ str         ┆             │\n",
       "╞══════════════╪═════════════╪═════════════╪═════════════╪═════════════╪═════════════╪═════════════╡\n",
       "│ ../../../../ ┆ 0.983033    ┆ 10304217769 ┆ 85211314924 ┆ FirstMortga ┆ 78957297688 ┆ Rejected    │\n",
       "│ data/SampleH ┆             ┆ 522289981   ┆ 92744132    ┆ ge30yr      ┆ 46550214    ┆             │\n",
       "│ DS.json      ┆             ┆             ┆             ┆             ┆             ┆             │\n",
       "│ ../../../../ ┆ 0.144221    ┆ 58533520575 ┆ 63361957542 ┆ FirstMortga ┆ 14173659752 ┆ Accepted    │\n",
       "│ data/SampleH ┆             ┆ 74860383    ┆ 60767801    ┆ ge30yr      ┆ 308319136   ┆             │\n",
       "│ DS.json      ┆             ┆             ┆             ┆             ┆             ┆             │\n",
       "│ ../../../../ ┆ 0.679745    ┆ 11740737952 ┆ 77207928149 ┆ MoneyMarket ┆ 78957297688 ┆ Rejected    │\n",
       "│ data/SampleH ┆             ┆ 177207322   ┆ 65113466    ┆ SavingsAcco ┆ 46550214    ┆             │\n",
       "│ DS.json      ┆             ┆             ┆             ┆ unt         ┆             ┆             │\n",
       "│ ../../../../ ┆ 1.0         ┆ 58533520575 ┆ 10112549923 ┆ BasicChecki ┆ 78957297688 ┆ Rejected    │\n",
       "│ data/SampleH ┆             ┆ 74860383    ┆ 2275845     ┆ ng          ┆ 46550214    ┆             │\n",
       "│ DS.json      ┆             ┆             ┆             ┆             ┆             ┆             │\n",
       "│ ../../../../ ┆ 0.718982    ┆ 10304217769 ┆ 13059314046 ┆ BasicChecki ┆ 31021983595 ┆ Accepted    │\n",
       "│ data/SampleH ┆             ┆ 522289981   ┆ 509405509   ┆ ng          ┆ 02826399    ┆             │\n",
       "│ DS.json      ┆             ┆             ┆             ┆             ┆             ┆             │\n",
       "│ ../../../../ ┆ 0.0         ┆ 11740737952 ┆ 41840683575 ┆ UPlusFinPer ┆ null        ┆ Rejected    │\n",
       "│ data/SampleH ┆             ┆ 177207322   ┆ 38582003    ┆ sonal       ┆             ┆             │\n",
       "│ DS.json      ┆             ┆             ┆             ┆             ┆             ┆             │\n",
       "│ ../../../../ ┆ 0.02333     ┆ 11740737952 ┆ 11477044743 ┆ BasicChecki ┆ 31021983595 ┆ Rejected    │\n",
       "│ data/SampleH ┆             ┆ 177207322   ┆ 456878035   ┆ ng          ┆ 02826399    ┆             │\n",
       "│ DS.json      ┆             ┆             ┆             ┆             ┆             ┆             │\n",
       "└──────────────┴─────────────┴─────────────┴─────────────┴─────────────┴─────────────┴─────────────┘"
      ]
     },
     "execution_count": 10,
     "metadata": {},
     "output_type": "execute_result"
    }
   ],
   "source": [
    "anon = DataAnonymization(config=Config(config_file='config.json'))\n",
    "anon.process()"
   ]
  },
  {
   "attachments": {},
   "cell_type": "markdown",
   "metadata": {},
   "source": [
    "## Exporting\n",
    "Two functions export:\n",
    "- `create_mapping_file()` writes the mapping file of the predictor names\n",
    "- `write_to_output()` writes the processed dataframe to disk\n",
    "\n",
    "Write to output accepts the following extensions: `[\"ndjson\", \"parquet\", \"arrow\", \"csv\"]`"
   ]
  },
  {
   "cell_type": "code",
   "execution_count": 11,
   "metadata": {
    "execution": {
     "iopub.execute_input": "2024-01-23T11:31:08.274507Z",
     "iopub.status.busy": "2024-01-23T11:31:08.274229Z",
     "iopub.status.idle": "2024-01-23T11:31:08.277632Z",
     "shell.execute_reply": "2024-01-23T11:31:08.277102Z"
    }
   },
   "outputs": [
    {
     "name": "stdout",
     "output_type": "stream",
     "text": [
      "filename=filename\n",
      "Customer_CLV=PREDICTOR_1\n",
      "Customer_MaritalStatus=PREDICTOR_2\n",
      "Customer_City=PREDICTOR_3\n",
      "Context_Name=Context_Name\n",
      "IH_Web_Inbound_Accepted_pxLastGroupID=IH_Web_Inbound_Accepted_pxLastGroupID\n",
      "Decision_Outcome=Decision_Outcome\n",
      "\n"
     ]
    }
   ],
   "source": [
    "anon.create_mapping_file()\n",
    "with open('mapping.map') as f:\n",
    "    print(f.read())"
   ]
  },
  {
   "cell_type": "code",
   "execution_count": 12,
   "metadata": {
    "execution": {
     "iopub.execute_input": "2024-01-23T11:31:08.279522Z",
     "iopub.status.busy": "2024-01-23T11:31:08.279233Z",
     "iopub.status.idle": "2024-01-23T11:31:08.282675Z",
     "shell.execute_reply": "2024-01-23T11:31:08.282261Z"
    }
   },
   "outputs": [],
   "source": [
    "anon.write_to_output(ext='arrow')"
   ]
  },
  {
   "cell_type": "code",
   "execution_count": 13,
   "metadata": {
    "execution": {
     "iopub.execute_input": "2024-01-23T11:31:08.284515Z",
     "iopub.status.busy": "2024-01-23T11:31:08.284204Z",
     "iopub.status.idle": "2024-01-23T11:31:08.288459Z",
     "shell.execute_reply": "2024-01-23T11:31:08.287981Z"
    }
   },
   "outputs": [
    {
     "data": {
      "text/html": [
       "<div><style>\n",
       ".dataframe > thead > tr,\n",
       ".dataframe > tbody > tr {\n",
       "  text-align: right;\n",
       "  white-space: pre-wrap;\n",
       "}\n",
       "</style>\n",
       "<small>shape: (7, 6)</small><table border=\"1\" class=\"dataframe\"><thead><tr><th>PREDICTOR_1</th><th>PREDICTOR_2</th><th>PREDICTOR_3</th><th>Context_Name</th><th>IH_Web_Inbound_Accepted_pxLastGroupID</th><th>Decision_Outcome</th></tr><tr><td>f64</td><td>str</td><td>str</td><td>str</td><td>str</td><td>str</td></tr></thead><tbody><tr><td>0.983033</td><td>&quot;11532308868026…</td><td>&quot;71426625644339…</td><td>&quot;FirstMortgage3…</td><td>&quot;35449011049284…</td><td>&quot;Rejected&quot;</td></tr><tr><td>0.144221</td><td>&quot;17933968902373…</td><td>&quot;35199761012935…</td><td>&quot;FirstMortgage3…</td><td>&quot;28857090607440…</td><td>&quot;Accepted&quot;</td></tr><tr><td>0.679745</td><td>&quot;14688746752923…</td><td>&quot;16067020109720…</td><td>&quot;MoneyMarketSav…</td><td>&quot;35449011049284…</td><td>&quot;Rejected&quot;</td></tr><tr><td>1.0</td><td>&quot;17933968902373…</td><td>&quot;27245813197839…</td><td>&quot;BasicChecking&quot;</td><td>&quot;35449011049284…</td><td>&quot;Rejected&quot;</td></tr><tr><td>0.718982</td><td>&quot;11532308868026…</td><td>&quot;23005184797502…</td><td>&quot;BasicChecking&quot;</td><td>&quot;14302743365920…</td><td>&quot;Accepted&quot;</td></tr><tr><td>0.0</td><td>&quot;14688746752923…</td><td>&quot;25487645952321…</td><td>&quot;UPlusFinPerson…</td><td>null</td><td>&quot;Rejected&quot;</td></tr><tr><td>0.02333</td><td>&quot;14688746752923…</td><td>&quot;35679983067852…</td><td>&quot;BasicChecking&quot;</td><td>&quot;14302743365920…</td><td>&quot;Rejected&quot;</td></tr></tbody></table></div>"
      ],
      "text/plain": [
       "shape: (7, 6)\n",
       "┌─────────────┬────────────────┬────────────────┬────────────────┬────────────────┬────────────────┐\n",
       "│ PREDICTOR_1 ┆ PREDICTOR_2    ┆ PREDICTOR_3    ┆ Context_Name   ┆ IH_Web_Inbound ┆ Decision_Outco │\n",
       "│ ---         ┆ ---            ┆ ---            ┆ ---            ┆ _Accepted_pxLa ┆ me             │\n",
       "│ f64         ┆ str            ┆ str            ┆ str            ┆ stGr…          ┆ ---            │\n",
       "│             ┆                ┆                ┆                ┆ ---            ┆ str            │\n",
       "│             ┆                ┆                ┆                ┆ str            ┆                │\n",
       "╞═════════════╪════════════════╪════════════════╪════════════════╪════════════════╪════════════════╡\n",
       "│ 0.983033    ┆ 11532308868026 ┆ 71426625644339 ┆ FirstMortgage3 ┆ 35449011049284 ┆ Rejected       │\n",
       "│             ┆ 414598         ┆ 47342          ┆ 0yr            ┆ 11992          ┆                │\n",
       "│ 0.144221    ┆ 17933968902373 ┆ 35199761012935 ┆ FirstMortgage3 ┆ 28857090607440 ┆ Accepted       │\n",
       "│             ┆ 061019         ┆ 93204          ┆ 0yr            ┆ 32269          ┆                │\n",
       "│ 0.679745    ┆ 14688746752923 ┆ 16067020109720 ┆ MoneyMarketSav ┆ 35449011049284 ┆ Rejected       │\n",
       "│             ┆ 022270         ┆ 575830         ┆ ingsAccount    ┆ 11992          ┆                │\n",
       "│ 1.0         ┆ 17933968902373 ┆ 27245813197839 ┆ BasicChecking  ┆ 35449011049284 ┆ Rejected       │\n",
       "│             ┆ 061019         ┆ 17687          ┆                ┆ 11992          ┆                │\n",
       "│ 0.718982    ┆ 11532308868026 ┆ 23005184797502 ┆ BasicChecking  ┆ 14302743365920 ┆ Accepted       │\n",
       "│             ┆ 414598         ┆ 38028          ┆                ┆ 808685         ┆                │\n",
       "│ 0.0         ┆ 14688746752923 ┆ 25487645952321 ┆ UPlusFinPerson ┆ null           ┆ Rejected       │\n",
       "│             ┆ 022270         ┆ 57951          ┆ al             ┆                ┆                │\n",
       "│ 0.02333     ┆ 14688746752923 ┆ 35679983067852 ┆ BasicChecking  ┆ 14302743365920 ┆ Rejected       │\n",
       "│             ┆ 022270         ┆ 74698          ┆                ┆ 808685         ┆                │\n",
       "└─────────────┴────────────────┴────────────────┴────────────────┴────────────────┴────────────────┘"
      ]
     },
     "execution_count": 13,
     "metadata": {},
     "output_type": "execute_result"
    }
   ],
   "source": [
    "pl.read_ipc('output/hds.arrow')"
   ]
  },
  {
   "attachments": {},
   "cell_type": "markdown",
   "metadata": {
    "nbsphinx": "hidden"
   },
   "source": [
    "## Advanced: Hash fuctions\n",
    "\n",
    "By default, we use [the same hashing algorithm Polars](https://pola-rs.github.io/polars/py-polars/html/reference/expressions/api/polars.Expr.hash.html#polars.Expr.hash) uses: [xxhash](https://github.com/Cyan4973/xxHash), as implemented [here](https://github.com/pola-rs/polars/blob/3f287f370b3c388ed2f3f218b2c096382548136f/polars/polars-core/src/vector_hasher.rs#L266). xxhash is fast to compute, and you can check its performance in collision, dispersion and randomness [here](https://github.com/Cyan4973/xxHash/tree/dev/tests). \n",
    "\n",
    "xxhash accepts four distinct seeds, but by default we set the seeds to `0`. It is possible to set the `seed` argument of the `process()` function to `'random'`, which will set all four seeds to a random integer between `0` and `1000000000`. Alternatively, it is possible to supply the four seeds manually with arguments `seed`, `seed_1`, `seed_2` and `seed_3`. \n",
    "\n",
    "If the xxhash with (random) seed(s) is not deemed sufficiently secure, it is possible to use your own hashing algorithm.\n",
    "\n",
    "Note that since we're now running python code and not native Polars code anymore, this will be _significantly_ slower. Nonetheless, it is possible.\n",
    "\n",
    "Just as an example - this is how one would use sha3_256:"
   ]
  },
  {
   "cell_type": "code",
   "execution_count": 14,
   "metadata": {
    "execution": {
     "iopub.execute_input": "2024-01-23T11:31:08.290496Z",
     "iopub.status.busy": "2024-01-23T11:31:08.290189Z",
     "iopub.status.idle": "2024-01-23T11:31:08.297378Z",
     "shell.execute_reply": "2024-01-23T11:31:08.296920Z"
    },
    "nbsphinx": "hidden"
   },
   "outputs": [
    {
     "data": {
      "text/html": [
       "<div><style>\n",
       ".dataframe > thead > tr,\n",
       ".dataframe > tbody > tr {\n",
       "  text-align: right;\n",
       "  white-space: pre-wrap;\n",
       "}\n",
       "</style>\n",
       "<small>shape: (7, 7)</small><table border=\"1\" class=\"dataframe\"><thead><tr><th>filename</th><th>PREDICTOR_1</th><th>PREDICTOR_2</th><th>PREDICTOR_3</th><th>Context_Name</th><th>IH_Web_Inbound_Accepted_pxLastGroupID</th><th>Decision_Outcome</th></tr><tr><td>str</td><td>f64</td><td>str</td><td>str</td><td>str</td><td>str</td><td>str</td></tr></thead><tbody><tr><td>&quot;../../../../da…</td><td>0.983033</td><td>&quot;af486bc1815c72…</td><td>&quot;c73023dda51de1…</td><td>&quot;FirstMortgage3…</td><td>&quot;2513d0e24d8d02…</td><td>&quot;Rejected&quot;</td></tr><tr><td>&quot;../../../../da…</td><td>0.144221</td><td>&quot;3cdf7b1ae1342e…</td><td>&quot;5414b197fb87b3…</td><td>&quot;FirstMortgage3…</td><td>&quot;8b55bf62fc2ecd…</td><td>&quot;Accepted&quot;</td></tr><tr><td>&quot;../../../../da…</td><td>0.679745</td><td>&quot;806ef34eb8237f…</td><td>&quot;892f5d61a9215e…</td><td>&quot;MoneyMarketSav…</td><td>&quot;2513d0e24d8d02…</td><td>&quot;Rejected&quot;</td></tr><tr><td>&quot;../../../../da…</td><td>1.0</td><td>&quot;3cdf7b1ae1342e…</td><td>&quot;c3aa807d9e927a…</td><td>&quot;BasicChecking&quot;</td><td>&quot;2513d0e24d8d02…</td><td>&quot;Rejected&quot;</td></tr><tr><td>&quot;../../../../da…</td><td>0.718982</td><td>&quot;af486bc1815c72…</td><td>&quot;c2d492f9a05073…</td><td>&quot;BasicChecking&quot;</td><td>&quot;1cd082ecbd5dd9…</td><td>&quot;Accepted&quot;</td></tr><tr><td>&quot;../../../../da…</td><td>0.0</td><td>&quot;806ef34eb8237f…</td><td>&quot;b21059221605c4…</td><td>&quot;UPlusFinPerson…</td><td>null</td><td>&quot;Rejected&quot;</td></tr><tr><td>&quot;../../../../da…</td><td>0.02333</td><td>&quot;806ef34eb8237f…</td><td>&quot;80cbe489dcecd4…</td><td>&quot;BasicChecking&quot;</td><td>&quot;1cd082ecbd5dd9…</td><td>&quot;Rejected&quot;</td></tr></tbody></table></div>"
      ],
      "text/plain": [
       "shape: (7, 7)\n",
       "┌──────────────┬─────────────┬─────────────┬─────────────┬─────────────┬─────────────┬─────────────┐\n",
       "│ filename     ┆ PREDICTOR_1 ┆ PREDICTOR_2 ┆ PREDICTOR_3 ┆ Context_Nam ┆ IH_Web_Inbo ┆ Decision_Ou │\n",
       "│ ---          ┆ ---         ┆ ---         ┆ ---         ┆ e           ┆ und_Accepte ┆ tcome       │\n",
       "│ str          ┆ f64         ┆ str         ┆ str         ┆ ---         ┆ d_pxLastGr… ┆ ---         │\n",
       "│              ┆             ┆             ┆             ┆ str         ┆ ---         ┆ str         │\n",
       "│              ┆             ┆             ┆             ┆             ┆ str         ┆             │\n",
       "╞══════════════╪═════════════╪═════════════╪═════════════╪═════════════╪═════════════╪═════════════╡\n",
       "│ ../../../../ ┆ 0.983033    ┆ af486bc1815 ┆ c73023dda51 ┆ FirstMortga ┆ 2513d0e24d8 ┆ Rejected    │\n",
       "│ data/SampleH ┆             ┆ c726c357890 ┆ de1b84f7af7 ┆ ge30yr      ┆ d0214eda4fb ┆             │\n",
       "│ DS.json      ┆             ┆ ac2a40ba98… ┆ 74fd6f8c73… ┆             ┆ 454447162b… ┆             │\n",
       "│ ../../../../ ┆ 0.144221    ┆ 3cdf7b1ae13 ┆ 5414b197fb8 ┆ FirstMortga ┆ 8b55bf62fc2 ┆ Accepted    │\n",
       "│ data/SampleH ┆             ┆ 42ef979ea2a ┆ 7b3f2e350d7 ┆ ge30yr      ┆ ecd16af97d4 ┆             │\n",
       "│ DS.json      ┆             ┆ 782541ad05… ┆ a74a840a81… ┆             ┆ 8e469362cf… ┆             │\n",
       "│ ../../../../ ┆ 0.679745    ┆ 806ef34eb82 ┆ 892f5d61a92 ┆ MoneyMarket ┆ 2513d0e24d8 ┆ Rejected    │\n",
       "│ data/SampleH ┆             ┆ 37f4db85004 ┆ 15ef985f3fa ┆ SavingsAcco ┆ d0214eda4fb ┆             │\n",
       "│ DS.json      ┆             ┆ e96dc471d8… ┆ 293d51c92e… ┆ unt         ┆ 454447162b… ┆             │\n",
       "│ ../../../../ ┆ 1.0         ┆ 3cdf7b1ae13 ┆ c3aa807d9e9 ┆ BasicChecki ┆ 2513d0e24d8 ┆ Rejected    │\n",
       "│ data/SampleH ┆             ┆ 42ef979ea2a ┆ 27ae426a89e ┆ ng          ┆ d0214eda4fb ┆             │\n",
       "│ DS.json      ┆             ┆ 782541ad05… ┆ 76a12b9160… ┆             ┆ 454447162b… ┆             │\n",
       "│ ../../../../ ┆ 0.718982    ┆ af486bc1815 ┆ c2d492f9a05 ┆ BasicChecki ┆ 1cd082ecbd5 ┆ Accepted    │\n",
       "│ data/SampleH ┆             ┆ c726c357890 ┆ 07327c14285 ┆ ng          ┆ dd95383b104 ┆             │\n",
       "│ DS.json      ┆             ┆ ac2a40ba98… ┆ e94e8ee54c… ┆             ┆ 65e395c1f7… ┆             │\n",
       "│ ../../../../ ┆ 0.0         ┆ 806ef34eb82 ┆ b2105922160 ┆ UPlusFinPer ┆ null        ┆ Rejected    │\n",
       "│ data/SampleH ┆             ┆ 37f4db85004 ┆ 5c49757cfe0 ┆ sonal       ┆             ┆             │\n",
       "│ DS.json      ┆             ┆ e96dc471d8… ┆ fee45640db… ┆             ┆             ┆             │\n",
       "│ ../../../../ ┆ 0.02333     ┆ 806ef34eb82 ┆ 80cbe489dce ┆ BasicChecki ┆ 1cd082ecbd5 ┆ Rejected    │\n",
       "│ data/SampleH ┆             ┆ 37f4db85004 ┆ cd4b9304898 ┆ ng          ┆ dd95383b104 ┆             │\n",
       "│ DS.json      ┆             ┆ e96dc471d8… ┆ c9986afeeb… ┆             ┆ 65e395c1f7… ┆             │\n",
       "└──────────────┴─────────────┴─────────────┴─────────────┴─────────────┴─────────────┴─────────────┘"
      ]
     },
     "execution_count": 14,
     "metadata": {},
     "output_type": "execute_result"
    }
   ],
   "source": [
    "from hashlib import sha3_256\n",
    "\n",
    "anon.process(algorithm=lambda x: sha3_256(x.encode()).hexdigest())"
   ]
  }
 ],
 "metadata": {
  "kernelspec": {
   "display_name": "Python 3",
   "language": "python",
   "name": "python3"
  },
  "language_info": {
   "codemirror_mode": {
    "name": "ipython",
    "version": 3
   },
   "file_extension": ".py",
   "mimetype": "text/x-python",
   "name": "python",
   "nbconvert_exporter": "python",
   "pygments_lexer": "ipython3",
   "version": "3.11.7"
  },
  "vscode": {
   "interpreter": {
    "hash": "aee8b7b246df8f9039afb4144a1f6fd8d2ca17a180786b69acc140d282b71a49"
   }
  }
 },
 "nbformat": 4,
 "nbformat_minor": 2
}
