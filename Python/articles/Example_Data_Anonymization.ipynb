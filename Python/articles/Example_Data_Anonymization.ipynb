{
 "cells": [
  {
   "attachments": {},
   "cell_type": "markdown",
   "metadata": {},
   "source": [
    "# Example data anonymization\n",
    "\n",
    "In Pega CDH 8.5 and up, it's now possible to record the historical data as seen by the Adaptive Models. See [this academy challenge](https://academy.pega.com/challenge/exporting-historical-data/v4) for reference. This historical data can be further used to experiment with offline models, but also to fine-tune the OOTB Gradient Boosting model. However, sharing this information with Pega can be sensitive as it contains raw predictor data. \n",
    "\n",
    "To this end, we provide a simple and transparent script to fully anonimize this dataset.\n",
    "\n",
    "The DataAnonymization script is now part of pdstools, and you can import it directly as such."
   ]
  },
  {
   "cell_type": "code",
   "execution_count": 1,
   "metadata": {
    "execution": {
     "iopub.execute_input": "2023-06-01T08:35:05.129999Z",
     "iopub.status.busy": "2023-06-01T08:35:05.129669Z",
     "iopub.status.idle": "2023-06-01T08:35:05.136368Z",
     "shell.execute_reply": "2023-06-01T08:35:05.134935Z"
    },
    "nbsphinx": "hidden"
   },
   "outputs": [],
   "source": [
    "# These lines are only for rendering in the docs, and are hidden through Jupyter tags\n",
    "# Do not run if you're running the notebook seperately\n",
    "\n",
    "import sys\n",
    "sys.path.append('../../../')"
   ]
  },
  {
   "cell_type": "code",
   "execution_count": 2,
   "metadata": {
    "execution": {
     "iopub.execute_input": "2023-06-01T08:35:05.138641Z",
     "iopub.status.busy": "2023-06-01T08:35:05.138205Z",
     "iopub.status.idle": "2023-06-01T08:35:06.149878Z",
     "shell.execute_reply": "2023-06-01T08:35:06.149311Z"
    }
   },
   "outputs": [],
   "source": [
    "from pdstools import ADMDatamart\n",
    "from pdstools import Config, DataAnonymization\n",
    "import polars as pl"
   ]
  },
  {
   "attachments": {},
   "cell_type": "markdown",
   "metadata": {},
   "source": [
    "## Input data\n",
    "\n",
    "To demonstrate this process, we're going to anonymise this toy example dataframe:"
   ]
  },
  {
   "cell_type": "code",
   "execution_count": 3,
   "metadata": {
    "execution": {
     "iopub.execute_input": "2023-06-01T08:35:06.152975Z",
     "iopub.status.busy": "2023-06-01T08:35:06.152401Z",
     "iopub.status.idle": "2023-06-01T08:35:06.164438Z",
     "shell.execute_reply": "2023-06-01T08:35:06.163988Z"
    }
   },
   "outputs": [
    {
     "name": "stderr",
     "output_type": "stream",
     "text": [
      "[/home/runner/work/polars/polars/polars/polars-io/src/ndjson/core.rs:162] &data_type = Struct(\n",
      "    [\n",
      "        Field {\n",
      "            name: \"Context_Name\",\n",
      "            data_type: LargeUtf8,\n",
      "            is_nullable: true,\n",
      "            metadata: {},\n",
      "        },\n",
      "        Field {\n",
      "            name: \"Customer_MaritalStatus\",\n",
      "            data_type: LargeUtf8,\n",
      "            is_nullable: true,\n",
      "            metadata: {},\n",
      "        },\n",
      "        Field {\n",
      "            name: \"Customer_CLV\",\n",
      "            data_type: Int64,\n",
      "            is_nullable: true,\n",
      "            metadata: {},\n",
      "        },\n",
      "        Field {\n",
      "            name: \"Customer_City\",\n",
      "            data_type: LargeUtf8,\n",
      "            is_nullable: true,\n",
      "            metadata: {},\n",
      "        },\n",
      "        Field {\n",
      "            name: \"IH_Web_Inbound_Accepted_pxLastGroupID\",\n",
      "            data_type: LargeUtf8,\n",
      "            is_nullable: true,\n",
      "            metadata: {},\n",
      "        },\n",
      "        Field {\n",
      "            name: \"Decision_Outcome\",\n",
      "            data_type: LargeUtf8,\n",
      "            is_nullable: true,\n",
      "            metadata: {},\n",
      "        },\n",
      "    ],\n",
      ")\n"
     ]
    },
    {
     "data": {
      "text/html": [
       "<div><style>\n",
       ".dataframe > thead > tr > th,\n",
       ".dataframe > tbody > tr > td {\n",
       "  text-align: right;\n",
       "}\n",
       "</style>\n",
       "<small>shape: (7, 6)</small><table border=\"1\" class=\"dataframe\"><thead><tr><th>Context_Name</th><th>Customer_MaritalStatus</th><th>Customer_CLV</th><th>Customer_City</th><th>IH_Web_Inbound_Accepted_pxLastGroupID</th><th>Decision_Outcome</th></tr><tr><td>str</td><td>str</td><td>i64</td><td>str</td><td>str</td><td>str</td></tr></thead><tbody><tr><td>&quot;FirstMortgage3…</td><td>&quot;Married&quot;</td><td>1460</td><td>&quot;Port Raoul&quot;</td><td>&quot;Account&quot;</td><td>&quot;Rejected&quot;</td></tr><tr><td>&quot;FirstMortgage3…</td><td>&quot;Unknown&quot;</td><td>669</td><td>&quot;Laurianneshire…</td><td>&quot;AutoLoans&quot;</td><td>&quot;Accepted&quot;</td></tr><tr><td>&quot;MoneyMarketSav…</td><td>&quot;No Resp+&quot;</td><td>1174</td><td>&quot;Jacobshaven&quot;</td><td>&quot;Account&quot;</td><td>&quot;Rejected&quot;</td></tr><tr><td>&quot;BasicChecking&quot;</td><td>&quot;Unknown&quot;</td><td>1476</td><td>&quot;Lindton&quot;</td><td>&quot;Account&quot;</td><td>&quot;Rejected&quot;</td></tr><tr><td>&quot;BasicChecking&quot;</td><td>&quot;Married&quot;</td><td>1211</td><td>&quot;South Jimmiesh…</td><td>&quot;DepositAccount…</td><td>&quot;Accepted&quot;</td></tr><tr><td>&quot;UPlusFinPerson…</td><td>&quot;No Resp+&quot;</td><td>533</td><td>&quot;Bergeville&quot;</td><td>null</td><td>&quot;Rejected&quot;</td></tr><tr><td>&quot;BasicChecking&quot;</td><td>&quot;No Resp+&quot;</td><td>555</td><td>&quot;Willyville&quot;</td><td>&quot;DepositAccount…</td><td>&quot;Rejected&quot;</td></tr></tbody></table></div>"
      ],
      "text/plain": [
       "shape: (7, 6)\n",
       "┌────────────────┬────────────────┬──────────────┬────────────────┬────────────────┬───────────────┐\n",
       "│ Context_Name   ┆ Customer_Marit ┆ Customer_CLV ┆ Customer_City  ┆ IH_Web_Inbound ┆ Decision_Outc │\n",
       "│ ---            ┆ alStatus       ┆ ---          ┆ ---            ┆ _Accepted_pxLa ┆ ome           │\n",
       "│ str            ┆ ---            ┆ i64          ┆ str            ┆ stGr…          ┆ ---           │\n",
       "│                ┆ str            ┆              ┆                ┆ ---            ┆ str           │\n",
       "│                ┆                ┆              ┆                ┆ str            ┆               │\n",
       "╞════════════════╪════════════════╪══════════════╪════════════════╪════════════════╪═══════════════╡\n",
       "│ FirstMortgage3 ┆ Married        ┆ 1460         ┆ Port Raoul     ┆ Account        ┆ Rejected      │\n",
       "│ 0yr            ┆                ┆              ┆                ┆                ┆               │\n",
       "│ FirstMortgage3 ┆ Unknown        ┆ 669          ┆ Laurianneshire ┆ AutoLoans      ┆ Accepted      │\n",
       "│ 0yr            ┆                ┆              ┆                ┆                ┆               │\n",
       "│ MoneyMarketSav ┆ No Resp+       ┆ 1174         ┆ Jacobshaven    ┆ Account        ┆ Rejected      │\n",
       "│ ingsAccount    ┆                ┆              ┆                ┆                ┆               │\n",
       "│ BasicChecking  ┆ Unknown        ┆ 1476         ┆ Lindton        ┆ Account        ┆ Rejected      │\n",
       "│ BasicChecking  ┆ Married        ┆ 1211         ┆ South          ┆ DepositAccount ┆ Accepted      │\n",
       "│                ┆                ┆              ┆ Jimmieshire    ┆ s              ┆               │\n",
       "│ UPlusFinPerson ┆ No Resp+       ┆ 533          ┆ Bergeville     ┆ null           ┆ Rejected      │\n",
       "│ al             ┆                ┆              ┆                ┆                ┆               │\n",
       "│ BasicChecking  ┆ No Resp+       ┆ 555          ┆ Willyville     ┆ DepositAccount ┆ Rejected      │\n",
       "│                ┆                ┆              ┆                ┆ s              ┆               │\n",
       "└────────────────┴────────────────┴──────────────┴────────────────┴────────────────┴───────────────┘"
      ]
     },
     "execution_count": 3,
     "metadata": {},
     "output_type": "execute_result"
    }
   ],
   "source": [
    "pl.read_ndjson('../../../../data/SampleHDS.json')"
   ]
  },
  {
   "attachments": {},
   "cell_type": "markdown",
   "metadata": {},
   "source": [
    "As you can see, this dataset consists of regular predictors, IH predictors, context keys and the outcome column. Additionally, some columns are numeric, others are strings. Let's first initialize the DataAnonymization class."
   ]
  },
  {
   "cell_type": "code",
   "execution_count": 4,
   "metadata": {
    "execution": {
     "iopub.execute_input": "2023-06-01T08:35:06.166814Z",
     "iopub.status.busy": "2023-06-01T08:35:06.166325Z",
     "iopub.status.idle": "2023-06-01T08:35:06.174034Z",
     "shell.execute_reply": "2023-06-01T08:35:06.173578Z"
    }
   },
   "outputs": [],
   "source": [
    "anon = DataAnonymization(hds_folder='../../../../data/')"
   ]
  },
  {
   "attachments": {},
   "cell_type": "markdown",
   "metadata": {},
   "source": [
    "By default, the class applies a set of anonymisation techniques:\n",
    "- Column names are remapped to a non-descriptive name\n",
    "- Categorical values are hashed with a random seed\n",
    "- Numerical values are normalized between 0 and 1\n",
    "- Outcomes are mapped to a binary outcome.\n",
    "\n",
    "To apply these techniques, simply call `.process()`:"
   ]
  },
  {
   "cell_type": "code",
   "execution_count": 5,
   "metadata": {
    "execution": {
     "iopub.execute_input": "2023-06-01T08:35:06.176413Z",
     "iopub.status.busy": "2023-06-01T08:35:06.175873Z",
     "iopub.status.idle": "2023-06-01T08:35:06.181702Z",
     "shell.execute_reply": "2023-06-01T08:35:06.181179Z"
    }
   },
   "outputs": [
    {
     "data": {
      "text/html": [
       "<div><style>\n",
       ".dataframe > thead > tr > th,\n",
       ".dataframe > tbody > tr > td {\n",
       "  text-align: right;\n",
       "}\n",
       "</style>\n",
       "<small>shape: (7, 7)</small><table border=\"1\" class=\"dataframe\"><thead><tr><th>PREDICTOR_0</th><th>PREDICTOR_1</th><th>PREDICTOR_2</th><th>filename</th><th>Context_Name</th><th>IH_PREDICTOR_0</th><th>Decision_Outcome</th></tr><tr><td>f64</td><td>str</td><td>str</td><td>str</td><td>str</td><td>str</td><td>bool</td></tr></thead><tbody><tr><td>1.2927e19</td><td>&quot;13372277619132…</td><td>&quot;13480592338450…</td><td>&quot;../../../../da…</td><td>&quot;11006612486334…</td><td>&quot;17371322552599…</td><td>false</td></tr><tr><td>1.4856e19</td><td>&quot;14442386314343…</td><td>&quot;13969702551932…</td><td>&quot;../../../../da…</td><td>&quot;11006612486334…</td><td>&quot;11529808336214…</td><td>true</td></tr><tr><td>5.6458e17</td><td>&quot;98460143562839…</td><td>&quot;30837844648434…</td><td>&quot;../../../../da…</td><td>&quot;10847508099734…</td><td>&quot;17371322552599…</td><td>false</td></tr><tr><td>4.0723e18</td><td>&quot;14442386314343…</td><td>&quot;16794047536031…</td><td>&quot;../../../../da…</td><td>&quot;18659433195204…</td><td>&quot;17371322552599…</td><td>false</td></tr><tr><td>1.4677e19</td><td>&quot;13372277619132…</td><td>&quot;97207170456956…</td><td>&quot;../../../../da…</td><td>&quot;18659433195204…</td><td>&quot;90664166043686…</td><td>true</td></tr><tr><td>1.6330e19</td><td>&quot;98460143562839…</td><td>&quot;17992368717773…</td><td>&quot;../../../../da…</td><td>&quot;12059885617319…</td><td>null</td><td>false</td></tr><tr><td>8.7675e18</td><td>&quot;98460143562839…</td><td>&quot;37256754379562…</td><td>&quot;../../../../da…</td><td>&quot;18659433195204…</td><td>&quot;90664166043686…</td><td>false</td></tr></tbody></table></div>"
      ],
      "text/plain": [
       "shape: (7, 7)\n",
       "┌─────────────┬───────────────┬──────────────┬──────────────┬────────────┬────────────┬────────────┐\n",
       "│ PREDICTOR_0 ┆ PREDICTOR_1   ┆ PREDICTOR_2  ┆ filename     ┆ Context_Na ┆ IH_PREDICT ┆ Decision_O │\n",
       "│ ---         ┆ ---           ┆ ---          ┆ ---          ┆ me         ┆ OR_0       ┆ utcome     │\n",
       "│ f64         ┆ str           ┆ str          ┆ str          ┆ ---        ┆ ---        ┆ ---        │\n",
       "│             ┆               ┆              ┆              ┆ str        ┆ str        ┆ bool       │\n",
       "╞═════════════╪═══════════════╪══════════════╪══════════════╪════════════╪════════════╪════════════╡\n",
       "│ 1.2927e19   ┆ 1337227761913 ┆ 134805923384 ┆ ../../../../ ┆ 1100661248 ┆ 1737132255 ┆ false      │\n",
       "│             ┆ 2588321       ┆ 50218327     ┆ data/SampleH ┆ 6334625579 ┆ 2599422665 ┆            │\n",
       "│             ┆               ┆              ┆ DS.json      ┆            ┆            ┆            │\n",
       "│ 1.4856e19   ┆ 1444238631434 ┆ 139697025519 ┆ ../../../../ ┆ 1100661248 ┆ 1152980833 ┆ true       │\n",
       "│             ┆ 3845699       ┆ 32081006     ┆ data/SampleH ┆ 6334625579 ┆ 6214622871 ┆            │\n",
       "│             ┆               ┆              ┆ DS.json      ┆            ┆            ┆            │\n",
       "│ 5.6458e17   ┆ 9846014356283 ┆ 308378446484 ┆ ../../../../ ┆ 1084750809 ┆ 1737132255 ┆ false      │\n",
       "│             ┆ 918305        ┆ 3451336      ┆ data/SampleH ┆ 9734760033 ┆ 2599422665 ┆            │\n",
       "│             ┆               ┆              ┆ DS.json      ┆            ┆            ┆            │\n",
       "│ 4.0723e18   ┆ 1444238631434 ┆ 167940475360 ┆ ../../../../ ┆ 1865943319 ┆ 1737132255 ┆ false      │\n",
       "│             ┆ 3845699       ┆ 31804863     ┆ data/SampleH ┆ 520484087  ┆ 2599422665 ┆            │\n",
       "│             ┆               ┆              ┆ DS.json      ┆            ┆            ┆            │\n",
       "│ 1.4677e19   ┆ 1337227761913 ┆ 972071704569 ┆ ../../../../ ┆ 1865943319 ┆ 9066416604 ┆ true       │\n",
       "│             ┆ 2588321       ┆ 5655324      ┆ data/SampleH ┆ 520484087  ┆ 36867117   ┆            │\n",
       "│             ┆               ┆              ┆ DS.json      ┆            ┆            ┆            │\n",
       "│ 1.6330e19   ┆ 9846014356283 ┆ 179923687177 ┆ ../../../../ ┆ 1205988561 ┆ null       ┆ false      │\n",
       "│             ┆ 918305        ┆ 73274987     ┆ data/SampleH ┆ 7319807041 ┆            ┆            │\n",
       "│             ┆               ┆              ┆ DS.json      ┆            ┆            ┆            │\n",
       "│ 8.7675e18   ┆ 9846014356283 ┆ 372567543795 ┆ ../../../../ ┆ 1865943319 ┆ 9066416604 ┆ false      │\n",
       "│             ┆ 918305        ┆ 6234477      ┆ data/SampleH ┆ 520484087  ┆ 36867117   ┆            │\n",
       "│             ┆               ┆              ┆ DS.json      ┆            ┆            ┆            │\n",
       "└─────────────┴───────────────┴──────────────┴──────────────┴────────────┴────────────┴────────────┘"
      ]
     },
     "execution_count": 5,
     "metadata": {},
     "output_type": "execute_result"
    }
   ],
   "source": [
    "anon.process()"
   ]
  },
  {
   "attachments": {},
   "cell_type": "markdown",
   "metadata": {},
   "source": [
    "To trace back the columns to their original names, the class also contains a mapping, which does not have to be provided."
   ]
  },
  {
   "cell_type": "code",
   "execution_count": 6,
   "metadata": {
    "execution": {
     "iopub.execute_input": "2023-06-01T08:35:06.183940Z",
     "iopub.status.busy": "2023-06-01T08:35:06.183759Z",
     "iopub.status.idle": "2023-06-01T08:35:06.187470Z",
     "shell.execute_reply": "2023-06-01T08:35:06.186945Z"
    }
   },
   "outputs": [
    {
     "data": {
      "text/plain": [
       "{'Customer_CLV': 'PREDICTOR_0',\n",
       " 'Customer_MaritalStatus': 'PREDICTOR_1',\n",
       " 'Customer_City': 'PREDICTOR_2',\n",
       " 'filename': 'filename',\n",
       " 'Context_Name': 'Context_Name',\n",
       " 'IH_Web_Inbound_Accepted_pxLastGroupID': 'IH_PREDICTOR_0',\n",
       " 'Decision_Outcome': 'Decision_Outcome'}"
      ]
     },
     "execution_count": 6,
     "metadata": {},
     "output_type": "execute_result"
    }
   ],
   "source": [
    "anon.column_mapping"
   ]
  },
  {
   "attachments": {},
   "cell_type": "markdown",
   "metadata": {},
   "source": [
    "## Configs\n",
    "\n",
    "Each capability can optionally be turned off - see below for the full list of config options, and refer to the API reference for the full description."
   ]
  },
  {
   "cell_type": "code",
   "execution_count": 7,
   "metadata": {
    "execution": {
     "iopub.execute_input": "2023-06-01T08:35:06.190130Z",
     "iopub.status.busy": "2023-06-01T08:35:06.189953Z",
     "iopub.status.idle": "2023-06-01T08:35:06.194229Z",
     "shell.execute_reply": "2023-06-01T08:35:06.193725Z"
    }
   },
   "outputs": [
    {
     "data": {
      "text/plain": [
       "{'config_file': None,\n",
       " 'hds_folder': '.',\n",
       " 'use_datamart': False,\n",
       " 'datamart_folder': 'datamart',\n",
       " 'output_format': 'ndjson',\n",
       " 'output_folder': 'output',\n",
       " 'mapping_file': 'mapping.map',\n",
       " 'mask_predictor_names': True,\n",
       " 'mask_context_key_names': False,\n",
       " 'mask_ih_names': True,\n",
       " 'mask_outcome_name': False,\n",
       " 'mask_predictor_values': True,\n",
       " 'mask_context_key_values': True,\n",
       " 'mask_ih_values': True,\n",
       " 'mask_outcome_values': True,\n",
       " 'context_key_label': 'Context_*',\n",
       " 'ih_label': 'IH_*',\n",
       " 'outcome_column': 'Decision_Outcome',\n",
       " 'positive_outcomes': ['Accepted', 'Clicked'],\n",
       " 'negative_outcomes': ['Rejected', 'Impression'],\n",
       " 'special_predictors': ['Decision_DecisionTime',\n",
       "  'Decision_OutcomeTime',\n",
       "  'Decision_Rank'],\n",
       " 'sample_percentage_schema_inferencing': 0.01}"
      ]
     },
     "execution_count": 7,
     "metadata": {},
     "output_type": "execute_result"
    }
   ],
   "source": [
    "dict(zip(Config.__init__.__code__.co_varnames[1:], Config.__init__.__defaults__))"
   ]
  },
  {
   "attachments": {},
   "cell_type": "markdown",
   "metadata": {},
   "source": [
    "It's easy to change these parameters by just passing the keyword arguments. In the following example, we\n",
    "- Keep the IH predictor names\n",
    "- Keep the outcome values\n",
    "- Keep the context key values\n",
    "- Keep the context key predictor names"
   ]
  },
  {
   "cell_type": "code",
   "execution_count": 8,
   "metadata": {
    "execution": {
     "iopub.execute_input": "2023-06-01T08:35:06.196789Z",
     "iopub.status.busy": "2023-06-01T08:35:06.196598Z",
     "iopub.status.idle": "2023-06-01T08:35:06.206455Z",
     "shell.execute_reply": "2023-06-01T08:35:06.205932Z"
    }
   },
   "outputs": [
    {
     "data": {
      "text/html": [
       "<div><style>\n",
       ".dataframe > thead > tr > th,\n",
       ".dataframe > tbody > tr > td {\n",
       "  text-align: right;\n",
       "}\n",
       "</style>\n",
       "<small>shape: (7, 7)</small><table border=\"1\" class=\"dataframe\"><thead><tr><th>PREDICTOR_0</th><th>PREDICTOR_1</th><th>PREDICTOR_2</th><th>filename</th><th>Context_Name</th><th>IH_Web_Inbound_Accepted_pxLastGroupID</th><th>Decision_Outcome</th></tr><tr><td>f64</td><td>str</td><td>str</td><td>str</td><td>str</td><td>str</td><td>str</td></tr></thead><tbody><tr><td>1.2927e19</td><td>&quot;80149877189070…</td><td>&quot;15819234198934…</td><td>&quot;../../../../da…</td><td>&quot;FirstMortgage3…</td><td>&quot;48412137457800…</td><td>&quot;Rejected&quot;</td></tr><tr><td>1.4856e19</td><td>&quot;19895396643908…</td><td>&quot;55179013459237…</td><td>&quot;../../../../da…</td><td>&quot;FirstMortgage3…</td><td>&quot;35896866178768…</td><td>&quot;Accepted&quot;</td></tr><tr><td>5.6458e17</td><td>&quot;89745261379020…</td><td>&quot;55462425639170…</td><td>&quot;../../../../da…</td><td>&quot;MoneyMarketSav…</td><td>&quot;48412137457800…</td><td>&quot;Rejected&quot;</td></tr><tr><td>4.0723e18</td><td>&quot;19895396643908…</td><td>&quot;13097535491769…</td><td>&quot;../../../../da…</td><td>&quot;BasicChecking&quot;</td><td>&quot;48412137457800…</td><td>&quot;Rejected&quot;</td></tr><tr><td>1.4677e19</td><td>&quot;80149877189070…</td><td>&quot;23352578619734…</td><td>&quot;../../../../da…</td><td>&quot;BasicChecking&quot;</td><td>&quot;74130635079476…</td><td>&quot;Accepted&quot;</td></tr><tr><td>1.6330e19</td><td>&quot;89745261379020…</td><td>&quot;55145852824475…</td><td>&quot;../../../../da…</td><td>&quot;UPlusFinPerson…</td><td>null</td><td>&quot;Rejected&quot;</td></tr><tr><td>8.7675e18</td><td>&quot;89745261379020…</td><td>&quot;65907869885463…</td><td>&quot;../../../../da…</td><td>&quot;BasicChecking&quot;</td><td>&quot;74130635079476…</td><td>&quot;Rejected&quot;</td></tr></tbody></table></div>"
      ],
      "text/plain": [
       "shape: (7, 7)\n",
       "┌─────────────┬───────────────┬──────────────┬──────────────┬────────────┬────────────┬────────────┐\n",
       "│ PREDICTOR_0 ┆ PREDICTOR_1   ┆ PREDICTOR_2  ┆ filename     ┆ Context_Na ┆ IH_Web_Inb ┆ Decision_O │\n",
       "│ ---         ┆ ---           ┆ ---          ┆ ---          ┆ me         ┆ ound_Accep ┆ utcome     │\n",
       "│ f64         ┆ str           ┆ str          ┆ str          ┆ ---        ┆ ted_pxLast ┆ ---        │\n",
       "│             ┆               ┆              ┆              ┆ str        ┆ Gr…        ┆ str        │\n",
       "│             ┆               ┆              ┆              ┆            ┆ ---        ┆            │\n",
       "│             ┆               ┆              ┆              ┆            ┆ str        ┆            │\n",
       "╞═════════════╪═══════════════╪══════════════╪══════════════╪════════════╪════════════╪════════════╡\n",
       "│ 1.2927e19   ┆ 8014987718907 ┆ 158192341989 ┆ ../../../../ ┆ FirstMortg ┆ 4841213745 ┆ Rejected   │\n",
       "│             ┆ 066947        ┆ 34977844     ┆ data/SampleH ┆ age30yr    ┆ 780034231  ┆            │\n",
       "│             ┆               ┆              ┆ DS.json      ┆            ┆            ┆            │\n",
       "│ 1.4856e19   ┆ 1989539664390 ┆ 551790134592 ┆ ../../../../ ┆ FirstMortg ┆ 3589686617 ┆ Accepted   │\n",
       "│             ┆ 857053        ┆ 373571       ┆ data/SampleH ┆ age30yr    ┆ 8768190    ┆            │\n",
       "│             ┆               ┆              ┆ DS.json      ┆            ┆            ┆            │\n",
       "│ 5.6458e17   ┆ 8974526137902 ┆ 554624256391 ┆ ../../../../ ┆ MoneyMarke ┆ 4841213745 ┆ Rejected   │\n",
       "│             ┆ 010380        ┆ 7002314      ┆ data/SampleH ┆ tSavingsAc ┆ 780034231  ┆            │\n",
       "│             ┆               ┆              ┆ DS.json      ┆ count      ┆            ┆            │\n",
       "│ 4.0723e18   ┆ 1989539664390 ┆ 130975354917 ┆ ../../../../ ┆ BasicCheck ┆ 4841213745 ┆ Rejected   │\n",
       "│             ┆ 857053        ┆ 69584552     ┆ data/SampleH ┆ ing        ┆ 780034231  ┆            │\n",
       "│             ┆               ┆              ┆ DS.json      ┆            ┆            ┆            │\n",
       "│ 1.4677e19   ┆ 8014987718907 ┆ 233525786197 ┆ ../../../../ ┆ BasicCheck ┆ 7413063507 ┆ Accepted   │\n",
       "│             ┆ 066947        ┆ 3409793      ┆ data/SampleH ┆ ing        ┆ 947686608  ┆            │\n",
       "│             ┆               ┆              ┆ DS.json      ┆            ┆            ┆            │\n",
       "│ 1.6330e19   ┆ 8974526137902 ┆ 551458528244 ┆ ../../../../ ┆ UPlusFinPe ┆ null       ┆ Rejected   │\n",
       "│             ┆ 010380        ┆ 7507922      ┆ data/SampleH ┆ rsonal     ┆            ┆            │\n",
       "│             ┆               ┆              ┆ DS.json      ┆            ┆            ┆            │\n",
       "│ 8.7675e18   ┆ 8974526137902 ┆ 659078698854 ┆ ../../../../ ┆ BasicCheck ┆ 7413063507 ┆ Rejected   │\n",
       "│             ┆ 010380        ┆ 6359662      ┆ data/SampleH ┆ ing        ┆ 947686608  ┆            │\n",
       "│             ┆               ┆              ┆ DS.json      ┆            ┆            ┆            │\n",
       "└─────────────┴───────────────┴──────────────┴──────────────┴────────────┴────────────┴────────────┘"
      ]
     },
     "execution_count": 8,
     "metadata": {},
     "output_type": "execute_result"
    }
   ],
   "source": [
    "anon = DataAnonymization(\n",
    "    hds_folder='../../../../data/',\n",
    "    mask_ih_names=False,\n",
    "    mask_outcome_values=False,\n",
    "    mask_context_key_values=False,\n",
    "    mask_context_key_names=False,\n",
    ")\n",
    "anon.process()\n"
   ]
  },
  {
   "attachments": {},
   "cell_type": "markdown",
   "metadata": {},
   "source": [
    "The configs can also be written and read as such:"
   ]
  },
  {
   "cell_type": "code",
   "execution_count": 9,
   "metadata": {
    "execution": {
     "iopub.execute_input": "2023-06-01T08:35:06.208664Z",
     "iopub.status.busy": "2023-06-01T08:35:06.208488Z",
     "iopub.status.idle": "2023-06-01T08:35:06.211378Z",
     "shell.execute_reply": "2023-06-01T08:35:06.210842Z"
    }
   },
   "outputs": [],
   "source": [
    "anon.config.save_to_config_file('config.json')"
   ]
  },
  {
   "cell_type": "code",
   "execution_count": 10,
   "metadata": {
    "execution": {
     "iopub.execute_input": "2023-06-01T08:35:06.213504Z",
     "iopub.status.busy": "2023-06-01T08:35:06.213329Z",
     "iopub.status.idle": "2023-06-01T08:35:06.222784Z",
     "shell.execute_reply": "2023-06-01T08:35:06.222260Z"
    }
   },
   "outputs": [
    {
     "data": {
      "text/html": [
       "<div><style>\n",
       ".dataframe > thead > tr > th,\n",
       ".dataframe > tbody > tr > td {\n",
       "  text-align: right;\n",
       "}\n",
       "</style>\n",
       "<small>shape: (7, 7)</small><table border=\"1\" class=\"dataframe\"><thead><tr><th>PREDICTOR_0</th><th>PREDICTOR_1</th><th>PREDICTOR_2</th><th>filename</th><th>Context_Name</th><th>IH_Web_Inbound_Accepted_pxLastGroupID</th><th>Decision_Outcome</th></tr><tr><td>f64</td><td>str</td><td>str</td><td>str</td><td>str</td><td>str</td><td>str</td></tr></thead><tbody><tr><td>1.2927e19</td><td>&quot;10616253502707…</td><td>&quot;12560534325630…</td><td>&quot;../../../../da…</td><td>&quot;FirstMortgage3…</td><td>&quot;16478972986995…</td><td>&quot;Rejected&quot;</td></tr><tr><td>1.4856e19</td><td>&quot;16603058561930…</td><td>&quot;90424658812332…</td><td>&quot;../../../../da…</td><td>&quot;FirstMortgage3…</td><td>&quot;17587635188839…</td><td>&quot;Accepted&quot;</td></tr><tr><td>5.6458e17</td><td>&quot;15126523643973…</td><td>&quot;12355531478360…</td><td>&quot;../../../../da…</td><td>&quot;MoneyMarketSav…</td><td>&quot;16478972986995…</td><td>&quot;Rejected&quot;</td></tr><tr><td>4.0723e18</td><td>&quot;16603058561930…</td><td>&quot;28591695072006…</td><td>&quot;../../../../da…</td><td>&quot;BasicChecking&quot;</td><td>&quot;16478972986995…</td><td>&quot;Rejected&quot;</td></tr><tr><td>1.4677e19</td><td>&quot;10616253502707…</td><td>&quot;72787429971898…</td><td>&quot;../../../../da…</td><td>&quot;BasicChecking&quot;</td><td>&quot;37539994483400…</td><td>&quot;Accepted&quot;</td></tr><tr><td>1.6330e19</td><td>&quot;15126523643973…</td><td>&quot;97313846303824…</td><td>&quot;../../../../da…</td><td>&quot;UPlusFinPerson…</td><td>null</td><td>&quot;Rejected&quot;</td></tr><tr><td>8.7675e18</td><td>&quot;15126523643973…</td><td>&quot;17288324940672…</td><td>&quot;../../../../da…</td><td>&quot;BasicChecking&quot;</td><td>&quot;37539994483400…</td><td>&quot;Rejected&quot;</td></tr></tbody></table></div>"
      ],
      "text/plain": [
       "shape: (7, 7)\n",
       "┌─────────────┬───────────────┬──────────────┬──────────────┬────────────┬────────────┬────────────┐\n",
       "│ PREDICTOR_0 ┆ PREDICTOR_1   ┆ PREDICTOR_2  ┆ filename     ┆ Context_Na ┆ IH_Web_Inb ┆ Decision_O │\n",
       "│ ---         ┆ ---           ┆ ---          ┆ ---          ┆ me         ┆ ound_Accep ┆ utcome     │\n",
       "│ f64         ┆ str           ┆ str          ┆ str          ┆ ---        ┆ ted_pxLast ┆ ---        │\n",
       "│             ┆               ┆              ┆              ┆ str        ┆ Gr…        ┆ str        │\n",
       "│             ┆               ┆              ┆              ┆            ┆ ---        ┆            │\n",
       "│             ┆               ┆              ┆              ┆            ┆ str        ┆            │\n",
       "╞═════════════╪═══════════════╪══════════════╪══════════════╪════════════╪════════════╪════════════╡\n",
       "│ 1.2927e19   ┆ 1061625350270 ┆ 125605343256 ┆ ../../../../ ┆ FirstMortg ┆ 1647897298 ┆ Rejected   │\n",
       "│             ┆ 7507098       ┆ 3012037      ┆ data/SampleH ┆ age30yr    ┆ 6995137245 ┆            │\n",
       "│             ┆               ┆              ┆ DS.json      ┆            ┆            ┆            │\n",
       "│ 1.4856e19   ┆ 1660305856193 ┆ 904246588123 ┆ ../../../../ ┆ FirstMortg ┆ 1758763518 ┆ Accepted   │\n",
       "│             ┆ 0085283       ┆ 3231908      ┆ data/SampleH ┆ age30yr    ┆ 8839208594 ┆            │\n",
       "│             ┆               ┆              ┆ DS.json      ┆            ┆            ┆            │\n",
       "│ 5.6458e17   ┆ 1512652364397 ┆ 123555314783 ┆ ../../../../ ┆ MoneyMarke ┆ 1647897298 ┆ Rejected   │\n",
       "│             ┆ 3169594       ┆ 60590086     ┆ data/SampleH ┆ tSavingsAc ┆ 6995137245 ┆            │\n",
       "│             ┆               ┆              ┆ DS.json      ┆ count      ┆            ┆            │\n",
       "│ 4.0723e18   ┆ 1660305856193 ┆ 285916950720 ┆ ../../../../ ┆ BasicCheck ┆ 1647897298 ┆ Rejected   │\n",
       "│             ┆ 0085283       ┆ 0601197      ┆ data/SampleH ┆ ing        ┆ 6995137245 ┆            │\n",
       "│             ┆               ┆              ┆ DS.json      ┆            ┆            ┆            │\n",
       "│ 1.4677e19   ┆ 1061625350270 ┆ 727874299718 ┆ ../../../../ ┆ BasicCheck ┆ 3753999448 ┆ Accepted   │\n",
       "│             ┆ 7507098       ┆ 9855299      ┆ data/SampleH ┆ ing        ┆ 340005600  ┆            │\n",
       "│             ┆               ┆              ┆ DS.json      ┆            ┆            ┆            │\n",
       "│ 1.6330e19   ┆ 1512652364397 ┆ 973138463038 ┆ ../../../../ ┆ UPlusFinPe ┆ null       ┆ Rejected   │\n",
       "│             ┆ 3169594       ┆ 2466930      ┆ data/SampleH ┆ rsonal     ┆            ┆            │\n",
       "│             ┆               ┆              ┆ DS.json      ┆            ┆            ┆            │\n",
       "│ 8.7675e18   ┆ 1512652364397 ┆ 172883249406 ┆ ../../../../ ┆ BasicCheck ┆ 3753999448 ┆ Rejected   │\n",
       "│             ┆ 3169594       ┆ 7201074      ┆ data/SampleH ┆ ing        ┆ 340005600  ┆            │\n",
       "│             ┆               ┆              ┆ DS.json      ┆            ┆            ┆            │\n",
       "└─────────────┴───────────────┴──────────────┴──────────────┴────────────┴────────────┴────────────┘"
      ]
     },
     "execution_count": 10,
     "metadata": {},
     "output_type": "execute_result"
    }
   ],
   "source": [
    "anon = DataAnonymization(config=Config(config_file='config.json'))\n",
    "anon.process()"
   ]
  },
  {
   "attachments": {},
   "cell_type": "markdown",
   "metadata": {},
   "source": [
    "## Exporting\n",
    "Two functions export:\n",
    "- `create_mapping_file()` writes the mapping file of the predictor names\n",
    "- `write_to_output()` writes the processed dataframe to disk\n",
    "\n",
    "Write to output accepts the following extensions: `[\"ndjson\", \"parquet\", \"arrow\", \"csv\"]`"
   ]
  },
  {
   "cell_type": "code",
   "execution_count": 11,
   "metadata": {
    "execution": {
     "iopub.execute_input": "2023-06-01T08:35:06.224886Z",
     "iopub.status.busy": "2023-06-01T08:35:06.224709Z",
     "iopub.status.idle": "2023-06-01T08:35:06.228145Z",
     "shell.execute_reply": "2023-06-01T08:35:06.227582Z"
    }
   },
   "outputs": [
    {
     "name": "stdout",
     "output_type": "stream",
     "text": [
      "Customer_CLV=PREDICTOR_0\n",
      "Customer_MaritalStatus=PREDICTOR_1\n",
      "Customer_City=PREDICTOR_2\n",
      "filename=filename\n",
      "Context_Name=Context_Name\n",
      "IH_Web_Inbound_Accepted_pxLastGroupID=IH_Web_Inbound_Accepted_pxLastGroupID\n",
      "Decision_Outcome=Decision_Outcome\n",
      "\n"
     ]
    }
   ],
   "source": [
    "anon.create_mapping_file()\n",
    "with open('mapping.map') as f:\n",
    "    print(f.read())"
   ]
  },
  {
   "cell_type": "code",
   "execution_count": 12,
   "metadata": {
    "execution": {
     "iopub.execute_input": "2023-06-01T08:35:06.230638Z",
     "iopub.status.busy": "2023-06-01T08:35:06.230463Z",
     "iopub.status.idle": "2023-06-01T08:35:06.233906Z",
     "shell.execute_reply": "2023-06-01T08:35:06.233397Z"
    }
   },
   "outputs": [],
   "source": [
    "anon.write_to_output(ext='arrow')"
   ]
  },
  {
   "cell_type": "code",
   "execution_count": 13,
   "metadata": {
    "execution": {
     "iopub.execute_input": "2023-06-01T08:35:06.235978Z",
     "iopub.status.busy": "2023-06-01T08:35:06.235796Z",
     "iopub.status.idle": "2023-06-01T08:35:06.240385Z",
     "shell.execute_reply": "2023-06-01T08:35:06.239861Z"
    }
   },
   "outputs": [
    {
     "data": {
      "text/html": [
       "<div><style>\n",
       ".dataframe > thead > tr > th,\n",
       ".dataframe > tbody > tr > td {\n",
       "  text-align: right;\n",
       "}\n",
       "</style>\n",
       "<small>shape: (7, 6)</small><table border=\"1\" class=\"dataframe\"><thead><tr><th>PREDICTOR_0</th><th>PREDICTOR_1</th><th>PREDICTOR_2</th><th>Context_Name</th><th>IH_Web_Inbound_Accepted_pxLastGroupID</th><th>Decision_Outcome</th></tr><tr><td>f64</td><td>str</td><td>str</td><td>str</td><td>str</td><td>str</td></tr></thead><tbody><tr><td>1.2927e19</td><td>&quot;35684822860386…</td><td>&quot;11900658675437…</td><td>&quot;FirstMortgage3…</td><td>&quot;68559642213414…</td><td>&quot;Rejected&quot;</td></tr><tr><td>1.4856e19</td><td>&quot;13568264908847…</td><td>&quot;10418325828271…</td><td>&quot;FirstMortgage3…</td><td>&quot;14511322311814…</td><td>&quot;Accepted&quot;</td></tr><tr><td>5.6458e17</td><td>&quot;16966948683395…</td><td>&quot;45306581714152…</td><td>&quot;MoneyMarketSav…</td><td>&quot;68559642213414…</td><td>&quot;Rejected&quot;</td></tr><tr><td>4.0723e18</td><td>&quot;13568264908847…</td><td>&quot;54986377711692…</td><td>&quot;BasicChecking&quot;</td><td>&quot;68559642213414…</td><td>&quot;Rejected&quot;</td></tr><tr><td>1.4677e19</td><td>&quot;35684822860386…</td><td>&quot;20810909656589…</td><td>&quot;BasicChecking&quot;</td><td>&quot;34437462330473…</td><td>&quot;Accepted&quot;</td></tr><tr><td>1.6330e19</td><td>&quot;16966948683395…</td><td>&quot;17506934700650…</td><td>&quot;UPlusFinPerson…</td><td>null</td><td>&quot;Rejected&quot;</td></tr><tr><td>8.7675e18</td><td>&quot;16966948683395…</td><td>&quot;58187956711885…</td><td>&quot;BasicChecking&quot;</td><td>&quot;34437462330473…</td><td>&quot;Rejected&quot;</td></tr></tbody></table></div>"
      ],
      "text/plain": [
       "shape: (7, 6)\n",
       "┌─────────────┬────────────────┬────────────────┬────────────────┬────────────────┬────────────────┐\n",
       "│ PREDICTOR_0 ┆ PREDICTOR_1    ┆ PREDICTOR_2    ┆ Context_Name   ┆ IH_Web_Inbound ┆ Decision_Outco │\n",
       "│ ---         ┆ ---            ┆ ---            ┆ ---            ┆ _Accepted_pxLa ┆ me             │\n",
       "│ f64         ┆ str            ┆ str            ┆ str            ┆ stGr…          ┆ ---            │\n",
       "│             ┆                ┆                ┆                ┆ ---            ┆ str            │\n",
       "│             ┆                ┆                ┆                ┆ str            ┆                │\n",
       "╞═════════════╪════════════════╪════════════════╪════════════════╪════════════════╪════════════════╡\n",
       "│ 1.2927e19   ┆ 35684822860386 ┆ 11900658675437 ┆ FirstMortgage3 ┆ 68559642213414 ┆ Rejected       │\n",
       "│             ┆ 12299          ┆ 485770         ┆ 0yr            ┆ 40148          ┆                │\n",
       "│ 1.4856e19   ┆ 13568264908847 ┆ 10418325828271 ┆ FirstMortgage3 ┆ 14511322311814 ┆ Accepted       │\n",
       "│             ┆ 977691         ┆ 801379         ┆ 0yr            ┆ 240370         ┆                │\n",
       "│ 5.6458e17   ┆ 16966948683395 ┆ 45306581714152 ┆ MoneyMarketSav ┆ 68559642213414 ┆ Rejected       │\n",
       "│             ┆ 804860         ┆ 67524          ┆ ingsAccount    ┆ 40148          ┆                │\n",
       "│ 4.0723e18   ┆ 13568264908847 ┆ 54986377711692 ┆ BasicChecking  ┆ 68559642213414 ┆ Rejected       │\n",
       "│             ┆ 977691         ┆ 93297          ┆                ┆ 40148          ┆                │\n",
       "│ 1.4677e19   ┆ 35684822860386 ┆ 20810909656589 ┆ BasicChecking  ┆ 34437462330473 ┆ Accepted       │\n",
       "│             ┆ 12299          ┆ 96960          ┆                ┆ 39396          ┆                │\n",
       "│ 1.6330e19   ┆ 16966948683395 ┆ 17506934700650 ┆ UPlusFinPerson ┆ null           ┆ Rejected       │\n",
       "│             ┆ 804860         ┆ 764130         ┆ al             ┆                ┆                │\n",
       "│ 8.7675e18   ┆ 16966948683395 ┆ 58187956711885 ┆ BasicChecking  ┆ 34437462330473 ┆ Rejected       │\n",
       "│             ┆ 804860         ┆ 09742          ┆                ┆ 39396          ┆                │\n",
       "└─────────────┴────────────────┴────────────────┴────────────────┴────────────────┴────────────────┘"
      ]
     },
     "execution_count": 13,
     "metadata": {},
     "output_type": "execute_result"
    }
   ],
   "source": [
    "pl.read_ipc('output/hds.arrow')"
   ]
  },
  {
   "attachments": {},
   "cell_type": "markdown",
   "metadata": {},
   "source": [
    "## Advanced: Hash fuctions\n",
    "\n",
    "By default, we use [the same hashing algorithm Polars](https://pola-rs.github.io/polars/py-polars/html/reference/expressions/api/polars.Expr.hash.html#polars.Expr.hash) uses: [xxhash](https://github.com/Cyan4973/xxHash), as implemented [here](https://github.com/pola-rs/polars/blob/3f287f370b3c388ed2f3f218b2c096382548136f/polars/polars-core/src/vector_hasher.rs#L266). xxhash is fast to compute, and you can check its performance in collision, dispersion and randomness [here](https://github.com/Cyan4973/xxHash/tree/dev/tests). \n",
    "\n",
    "xxhash accepts four distinct seeds, but by default we set the seeds to `0`. It is possible to set the `seed` argument of the `process()` function to `'random'`, which will set all four seeds to a random integer between `0` and `1000000000`. Alternatively, it is possible to supply the four seeds manually with arguments `seed`, `seed_1`, `seed_2` and `seed_3`. \n",
    "\n",
    "If the xxhash with (random) seed(s) is not deemed sufficiently secure, it is possible to use your own hashing algorithm.\n",
    "\n",
    "Note that since we're now running python code and not native Polars code anymore, this will be _significantly_ slower. Nonetheless, it is possible.\n",
    "\n",
    "Just as an example - this is how one would use sha3_256:"
   ]
  },
  {
   "cell_type": "code",
   "execution_count": 14,
   "metadata": {
    "execution": {
     "iopub.execute_input": "2023-06-01T08:35:06.242884Z",
     "iopub.status.busy": "2023-06-01T08:35:06.242711Z",
     "iopub.status.idle": "2023-06-01T08:35:06.572739Z",
     "shell.execute_reply": "2023-06-01T08:35:06.572125Z"
    }
   },
   "outputs": [
    {
     "ename": "ComputeError",
     "evalue": "AttributeError: 'int' object has no attribute 'encode'",
     "output_type": "error",
     "traceback": [
      "\u001b[0;31m---------------------------------------------------------------------------\u001b[0m",
      "\u001b[0;31mComputeError\u001b[0m                              Traceback (most recent call last)",
      "Cell \u001b[0;32mIn[14], line 3\u001b[0m\n\u001b[1;32m      1\u001b[0m \u001b[38;5;28;01mfrom\u001b[39;00m \u001b[38;5;21;01mhashlib\u001b[39;00m \u001b[38;5;28;01mimport\u001b[39;00m sha3_256\n\u001b[0;32m----> 3\u001b[0m \u001b[43manon\u001b[49m\u001b[38;5;241;43m.\u001b[39;49m\u001b[43mprocess\u001b[49m\u001b[43m(\u001b[49m\u001b[43malgorithm\u001b[49m\u001b[38;5;241;43m=\u001b[39;49m\u001b[38;5;28;43;01mlambda\u001b[39;49;00m\u001b[43m \u001b[49m\u001b[43mx\u001b[49m\u001b[43m:\u001b[49m\u001b[43m \u001b[49m\u001b[43msha3_256\u001b[49m\u001b[43m(\u001b[49m\u001b[43mx\u001b[49m\u001b[38;5;241;43m.\u001b[39;49m\u001b[43mencode\u001b[49m\u001b[43m(\u001b[49m\u001b[43m)\u001b[49m\u001b[43m)\u001b[49m\u001b[38;5;241;43m.\u001b[39;49m\u001b[43mhexdigest\u001b[49m\u001b[43m(\u001b[49m\u001b[43m)\u001b[49m\u001b[43m)\u001b[49m\n",
      "File \u001b[0;32m~/work/pega-datascientist-tools/pega-datascientist-tools/python/docs/source/articles/../../../pdstools/utils/hds_utils.py:516\u001b[0m, in \u001b[0;36mDataAnonymization.process\u001b[0;34m(self, strategy, **kwargs)\u001b[0m\n\u001b[1;32m    514\u001b[0m df \u001b[38;5;241m=\u001b[39m df\u001b[38;5;241m.\u001b[39mselect(\u001b[38;5;28mself\u001b[39m\u001b[38;5;241m.\u001b[39mcolumn_mapping\u001b[38;5;241m.\u001b[39mkeys())\u001b[38;5;241m.\u001b[39mrename(\u001b[38;5;28mself\u001b[39m\u001b[38;5;241m.\u001b[39mcolumn_mapping)\n\u001b[1;32m    515\u001b[0m \u001b[38;5;28;01mif\u001b[39;00m strategy \u001b[38;5;241m==\u001b[39m \u001b[38;5;124m\"\u001b[39m\u001b[38;5;124meager\u001b[39m\u001b[38;5;124m\"\u001b[39m:\n\u001b[0;32m--> 516\u001b[0m     \u001b[38;5;28;01mreturn\u001b[39;00m \u001b[43mdf\u001b[49m\u001b[38;5;241;43m.\u001b[39;49m\u001b[43mcollect\u001b[49m\u001b[43m(\u001b[49m\u001b[43m)\u001b[49m\n\u001b[1;32m    517\u001b[0m \u001b[38;5;28;01mreturn\u001b[39;00m df\n",
      "File \u001b[0;32m/opt/hostedtoolcache/Python/3.11.3/x64/lib/python3.11/site-packages/polars/lazyframe/frame.py:1501\u001b[0m, in \u001b[0;36mLazyFrame.collect\u001b[0;34m(self, type_coercion, predicate_pushdown, projection_pushdown, simplify_expression, no_optimization, slice_pushdown, common_subplan_elimination, streaming)\u001b[0m\n\u001b[1;32m   1490\u001b[0m     common_subplan_elimination \u001b[38;5;241m=\u001b[39m \u001b[38;5;28;01mFalse\u001b[39;00m\n\u001b[1;32m   1492\u001b[0m ldf \u001b[38;5;241m=\u001b[39m \u001b[38;5;28mself\u001b[39m\u001b[38;5;241m.\u001b[39m_ldf\u001b[38;5;241m.\u001b[39moptimization_toggle(\n\u001b[1;32m   1493\u001b[0m     type_coercion,\n\u001b[1;32m   1494\u001b[0m     predicate_pushdown,\n\u001b[0;32m   (...)\u001b[0m\n\u001b[1;32m   1499\u001b[0m     streaming,\n\u001b[1;32m   1500\u001b[0m )\n\u001b[0;32m-> 1501\u001b[0m \u001b[38;5;28;01mreturn\u001b[39;00m wrap_df(ldf\u001b[38;5;241m.\u001b[39mcollect())\n",
      "\u001b[0;31mComputeError\u001b[0m: AttributeError: 'int' object has no attribute 'encode'"
     ]
    }
   ],
   "source": [
    "from hashlib import sha3_256\n",
    "\n",
    "anon.process(algorithm=lambda x: sha3_256(x.encode()).hexdigest())"
   ]
  }
 ],
 "metadata": {
  "kernelspec": {
   "display_name": "Python 3",
   "language": "python",
   "name": "python3"
  },
  "language_info": {
   "codemirror_mode": {
    "name": "ipython",
    "version": 3
   },
   "file_extension": ".py",
   "mimetype": "text/x-python",
   "name": "python",
   "nbconvert_exporter": "python",
   "pygments_lexer": "ipython3",
   "version": "3.11.3"
  },
  "vscode": {
   "interpreter": {
    "hash": "aee8b7b246df8f9039afb4144a1f6fd8d2ca17a180786b69acc140d282b71a49"
   }
  }
 },
 "nbformat": 4,
 "nbformat_minor": 2
}
