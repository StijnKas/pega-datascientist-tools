{
 "cells": [
  {
   "attachments": {},
   "cell_type": "markdown",
   "metadata": {},
   "source": [
    "# Data Anonymization\n",
    "\n",
    "In Pega CDH 8.5 and up, it's now possible to record the historical data as seen by the Adaptive Models. See [this academy challenge](https://academy.pega.com/challenge/exporting-historical-data/v4) for reference. This historical data can be further used to experiment with offline models, but also to fine-tune the OOTB Gradient Boosting model. However, sharing this information with Pega can be sensitive as it contains raw predictor data. \n",
    "\n",
    "To this end, we provide a simple and transparent script to fully anonimize this dataset.\n",
    "\n",
    "The DataAnonymization script is now part of pdstools, and you can import it directly as such."
   ]
  },
  {
   "cell_type": "code",
   "execution_count": 1,
   "metadata": {
    "execution": {
     "iopub.execute_input": "2024-07-17T08:12:25.428521Z",
     "iopub.status.busy": "2024-07-17T08:12:25.428352Z",
     "iopub.status.idle": "2024-07-17T08:12:25.501078Z",
     "shell.execute_reply": "2024-07-17T08:12:25.500607Z"
    },
    "nbsphinx": "hidden"
   },
   "outputs": [],
   "source": [
    "# These lines are only for rendering in the docs, and are hidden through Jupyter tags\n",
    "# Do not run if you're running the notebook seperately\n",
    "\n",
    "import os  \n",
    "import sys\n",
    "import plotly.io as pio\n",
    "pio.renderers.default = \"notebook_connected\"\n",
    "\n",
    "sys.path.append(\"../../../\")\n",
    "sys.path.append('../../python')"
   ]
  },
  {
   "cell_type": "code",
   "execution_count": 2,
   "metadata": {
    "execution": {
     "iopub.execute_input": "2024-07-17T08:12:25.503467Z",
     "iopub.status.busy": "2024-07-17T08:12:25.503104Z",
     "iopub.status.idle": "2024-07-17T08:12:26.591544Z",
     "shell.execute_reply": "2024-07-17T08:12:26.591036Z"
    }
   },
   "outputs": [],
   "source": [
    "from pdstools import ADMDatamart\n",
    "from pdstools import Config, DataAnonymization\n",
    "import polars as pl"
   ]
  },
  {
   "attachments": {},
   "cell_type": "markdown",
   "metadata": {},
   "source": [
    "## Input data\n",
    "\n",
    "To demonstrate this process, we're going to anonymise this toy example dataframe:"
   ]
  },
  {
   "cell_type": "code",
   "execution_count": 3,
   "metadata": {
    "execution": {
     "iopub.execute_input": "2024-07-17T08:12:26.594176Z",
     "iopub.status.busy": "2024-07-17T08:12:26.593699Z",
     "iopub.status.idle": "2024-07-17T08:12:26.602303Z",
     "shell.execute_reply": "2024-07-17T08:12:26.601708Z"
    }
   },
   "outputs": [
    {
     "data": {
      "text/html": [
       "<div><style>\n",
       ".dataframe > thead > tr,\n",
       ".dataframe > tbody > tr {\n",
       "  text-align: right;\n",
       "  white-space: pre-wrap;\n",
       "}\n",
       "</style>\n",
       "<small>shape: (7, 6)</small><table border=\"1\" class=\"dataframe\"><thead><tr><th>Context_Name</th><th>Customer_MaritalStatus</th><th>Customer_CLV</th><th>Customer_City</th><th>IH_Web_Inbound_Accepted_pxLastGroupID</th><th>Decision_Outcome</th></tr><tr><td>str</td><td>str</td><td>i64</td><td>str</td><td>str</td><td>str</td></tr></thead><tbody><tr><td>&quot;FirstMortgage30yr&quot;</td><td>&quot;Married&quot;</td><td>1460</td><td>&quot;Port Raoul&quot;</td><td>&quot;Account&quot;</td><td>&quot;Rejected&quot;</td></tr><tr><td>&quot;FirstMortgage30yr&quot;</td><td>&quot;Unknown&quot;</td><td>669</td><td>&quot;Laurianneshire&quot;</td><td>&quot;AutoLoans&quot;</td><td>&quot;Accepted&quot;</td></tr><tr><td>&quot;MoneyMarketSavingsAccount&quot;</td><td>&quot;No Resp+&quot;</td><td>1174</td><td>&quot;Jacobshaven&quot;</td><td>&quot;Account&quot;</td><td>&quot;Rejected&quot;</td></tr><tr><td>&quot;BasicChecking&quot;</td><td>&quot;Unknown&quot;</td><td>1476</td><td>&quot;Lindton&quot;</td><td>&quot;Account&quot;</td><td>&quot;Rejected&quot;</td></tr><tr><td>&quot;BasicChecking&quot;</td><td>&quot;Married&quot;</td><td>1211</td><td>&quot;South Jimmieshire&quot;</td><td>&quot;DepositAccounts&quot;</td><td>&quot;Accepted&quot;</td></tr><tr><td>&quot;UPlusFinPersonal&quot;</td><td>&quot;No Resp+&quot;</td><td>533</td><td>&quot;Bergeville&quot;</td><td>null</td><td>&quot;Rejected&quot;</td></tr><tr><td>&quot;BasicChecking&quot;</td><td>&quot;No Resp+&quot;</td><td>555</td><td>&quot;Willyville&quot;</td><td>&quot;DepositAccounts&quot;</td><td>&quot;Rejected&quot;</td></tr></tbody></table></div>"
      ],
      "text/plain": [
       "shape: (7, 6)\n",
       "┌────────────────┬────────────────┬──────────────┬────────────────┬────────────────┬───────────────┐\n",
       "│ Context_Name   ┆ Customer_Marit ┆ Customer_CLV ┆ Customer_City  ┆ IH_Web_Inbound ┆ Decision_Outc │\n",
       "│ ---            ┆ alStatus       ┆ ---          ┆ ---            ┆ _Accepted_pxLa ┆ ome           │\n",
       "│ str            ┆ ---            ┆ i64          ┆ str            ┆ st…            ┆ ---           │\n",
       "│                ┆ str            ┆              ┆                ┆ ---            ┆ str           │\n",
       "│                ┆                ┆              ┆                ┆ str            ┆               │\n",
       "╞════════════════╪════════════════╪══════════════╪════════════════╪════════════════╪═══════════════╡\n",
       "│ FirstMortgage3 ┆ Married        ┆ 1460         ┆ Port Raoul     ┆ Account        ┆ Rejected      │\n",
       "│ 0yr            ┆                ┆              ┆                ┆                ┆               │\n",
       "│ FirstMortgage3 ┆ Unknown        ┆ 669          ┆ Laurianneshire ┆ AutoLoans      ┆ Accepted      │\n",
       "│ 0yr            ┆                ┆              ┆                ┆                ┆               │\n",
       "│ MoneyMarketSav ┆ No Resp+       ┆ 1174         ┆ Jacobshaven    ┆ Account        ┆ Rejected      │\n",
       "│ ingsAccount    ┆                ┆              ┆                ┆                ┆               │\n",
       "│ BasicChecking  ┆ Unknown        ┆ 1476         ┆ Lindton        ┆ Account        ┆ Rejected      │\n",
       "│ BasicChecking  ┆ Married        ┆ 1211         ┆ South          ┆ DepositAccount ┆ Accepted      │\n",
       "│                ┆                ┆              ┆ Jimmieshire    ┆ s              ┆               │\n",
       "│ UPlusFinPerson ┆ No Resp+       ┆ 533          ┆ Bergeville     ┆ null           ┆ Rejected      │\n",
       "│ al             ┆                ┆              ┆                ┆                ┆               │\n",
       "│ BasicChecking  ┆ No Resp+       ┆ 555          ┆ Willyville     ┆ DepositAccount ┆ Rejected      │\n",
       "│                ┆                ┆              ┆                ┆ s              ┆               │\n",
       "└────────────────┴────────────────┴──────────────┴────────────────┴────────────────┴───────────────┘"
      ]
     },
     "execution_count": 3,
     "metadata": {},
     "output_type": "execute_result"
    }
   ],
   "source": [
    "pl.read_ndjson('../../../../data/SampleHDS.json')"
   ]
  },
  {
   "attachments": {},
   "cell_type": "markdown",
   "metadata": {},
   "source": [
    "As you can see, this dataset consists of regular predictors, IH predictors, context keys and the outcome column. Additionally, some columns are numeric, others are strings. Let's first initialize the DataAnonymization class."
   ]
  },
  {
   "cell_type": "code",
   "execution_count": 4,
   "metadata": {
    "execution": {
     "iopub.execute_input": "2024-07-17T08:12:26.604534Z",
     "iopub.status.busy": "2024-07-17T08:12:26.604188Z",
     "iopub.status.idle": "2024-07-17T08:12:26.613987Z",
     "shell.execute_reply": "2024-07-17T08:12:26.613423Z"
    }
   },
   "outputs": [],
   "source": [
    "anon = DataAnonymization(hds_folder='../../../../data/')"
   ]
  },
  {
   "attachments": {},
   "cell_type": "markdown",
   "metadata": {},
   "source": [
    "By default, the class applies a set of anonymisation techniques:\n",
    "- Column names are remapped to a non-descriptive name\n",
    "- Categorical values are hashed with a random seed\n",
    "- Numerical values are normalized between 0 and 1\n",
    "- Outcomes are mapped to a binary outcome.\n",
    "\n",
    "To apply these techniques, simply call `.process()`:"
   ]
  },
  {
   "cell_type": "code",
   "execution_count": 5,
   "metadata": {
    "execution": {
     "iopub.execute_input": "2024-07-17T08:12:26.616360Z",
     "iopub.status.busy": "2024-07-17T08:12:26.615904Z",
     "iopub.status.idle": "2024-07-17T08:12:26.620950Z",
     "shell.execute_reply": "2024-07-17T08:12:26.620513Z"
    }
   },
   "outputs": [
    {
     "data": {
      "text/html": [
       "<div><style>\n",
       ".dataframe > thead > tr,\n",
       ".dataframe > tbody > tr {\n",
       "  text-align: right;\n",
       "  white-space: pre-wrap;\n",
       "}\n",
       "</style>\n",
       "<small>shape: (7, 7)</small><table border=\"1\" class=\"dataframe\"><thead><tr><th>filename</th><th>PREDICTOR_1</th><th>PREDICTOR_2</th><th>PREDICTOR_3</th><th>Context_Name</th><th>IH_PREDICTOR_0</th><th>Decision_Outcome</th></tr><tr><td>str</td><td>str</td><td>f64</td><td>str</td><td>str</td><td>str</td><td>bool</td></tr></thead><tbody><tr><td>&quot;../../../../data/SampleHDS.jso…</td><td>&quot;15280140525699483197&quot;</td><td>1.1679e19</td><td>&quot;4447927952478201279&quot;</td><td>&quot;722350965927575737&quot;</td><td>&quot;18399007478818039979&quot;</td><td>false</td></tr><tr><td>&quot;../../../../data/SampleHDS.jso…</td><td>&quot;7923828690523560420&quot;</td><td>1.3042e19</td><td>&quot;1574730857401546490&quot;</td><td>&quot;722350965927575737&quot;</td><td>&quot;8768595764755654316&quot;</td><td>true</td></tr><tr><td>&quot;../../../../data/SampleHDS.jso…</td><td>&quot;9584351597083144920&quot;</td><td>8.6076e18</td><td>&quot;15430728959867320320&quot;</td><td>&quot;7974998078145320706&quot;</td><td>&quot;18399007478818039979&quot;</td><td>false</td></tr><tr><td>&quot;../../../../data/SampleHDS.jso…</td><td>&quot;5777702472433487312&quot;</td><td>5.5894e18</td><td>&quot;1574730857401546490&quot;</td><td>&quot;4501274940539784547&quot;</td><td>&quot;18399007478818039979&quot;</td><td>false</td></tr><tr><td>&quot;../../../../data/SampleHDS.jso…</td><td>&quot;17670951671253792085&quot;</td><td>6.4289e18</td><td>&quot;4447927952478201279&quot;</td><td>&quot;4501274940539784547&quot;</td><td>&quot;9532974405906098897&quot;</td><td>true</td></tr><tr><td>&quot;../../../../data/SampleHDS.jso…</td><td>&quot;7037966979085038478&quot;</td><td>1.0894e19</td><td>&quot;15430728959867320320&quot;</td><td>&quot;11525710105334284320&quot;</td><td>null</td><td>false</td></tr><tr><td>&quot;../../../../data/SampleHDS.jso…</td><td>&quot;5160512085252316610&quot;</td><td>1.2269e19</td><td>&quot;15430728959867320320&quot;</td><td>&quot;4501274940539784547&quot;</td><td>&quot;9532974405906098897&quot;</td><td>false</td></tr></tbody></table></div>"
      ],
      "text/plain": [
       "shape: (7, 7)\n",
       "┌──────────────┬─────────────┬─────────────┬─────────────┬─────────────┬─────────────┬─────────────┐\n",
       "│ filename     ┆ PREDICTOR_1 ┆ PREDICTOR_2 ┆ PREDICTOR_3 ┆ Context_Nam ┆ IH_PREDICTO ┆ Decision_Ou │\n",
       "│ ---          ┆ ---         ┆ ---         ┆ ---         ┆ e           ┆ R_0         ┆ tcome       │\n",
       "│ str          ┆ str         ┆ f64         ┆ str         ┆ ---         ┆ ---         ┆ ---         │\n",
       "│              ┆             ┆             ┆             ┆ str         ┆ str         ┆ bool        │\n",
       "╞══════════════╪═════════════╪═════════════╪═════════════╪═════════════╪═════════════╪═════════════╡\n",
       "│ ../../../../ ┆ 15280140525 ┆ 1.1679e19   ┆ 44479279524 ┆ 72235096592 ┆ 18399007478 ┆ false       │\n",
       "│ data/SampleH ┆ 699483197   ┆             ┆ 78201279    ┆ 7575737     ┆ 818039979   ┆             │\n",
       "│ DS.jso…      ┆             ┆             ┆             ┆             ┆             ┆             │\n",
       "│ ../../../../ ┆ 79238286905 ┆ 1.3042e19   ┆ 15747308574 ┆ 72235096592 ┆ 87685957647 ┆ true        │\n",
       "│ data/SampleH ┆ 23560420    ┆             ┆ 01546490    ┆ 7575737     ┆ 55654316    ┆             │\n",
       "│ DS.jso…      ┆             ┆             ┆             ┆             ┆             ┆             │\n",
       "│ ../../../../ ┆ 95843515970 ┆ 8.6076e18   ┆ 15430728959 ┆ 79749980781 ┆ 18399007478 ┆ false       │\n",
       "│ data/SampleH ┆ 83144920    ┆             ┆ 867320320   ┆ 45320706    ┆ 818039979   ┆             │\n",
       "│ DS.jso…      ┆             ┆             ┆             ┆             ┆             ┆             │\n",
       "│ ../../../../ ┆ 57777024724 ┆ 5.5894e18   ┆ 15747308574 ┆ 45012749405 ┆ 18399007478 ┆ false       │\n",
       "│ data/SampleH ┆ 33487312    ┆             ┆ 01546490    ┆ 39784547    ┆ 818039979   ┆             │\n",
       "│ DS.jso…      ┆             ┆             ┆             ┆             ┆             ┆             │\n",
       "│ ../../../../ ┆ 17670951671 ┆ 6.4289e18   ┆ 44479279524 ┆ 45012749405 ┆ 95329744059 ┆ true        │\n",
       "│ data/SampleH ┆ 253792085   ┆             ┆ 78201279    ┆ 39784547    ┆ 06098897    ┆             │\n",
       "│ DS.jso…      ┆             ┆             ┆             ┆             ┆             ┆             │\n",
       "│ ../../../../ ┆ 70379669790 ┆ 1.0894e19   ┆ 15430728959 ┆ 11525710105 ┆ null        ┆ false       │\n",
       "│ data/SampleH ┆ 85038478    ┆             ┆ 867320320   ┆ 334284320   ┆             ┆             │\n",
       "│ DS.jso…      ┆             ┆             ┆             ┆             ┆             ┆             │\n",
       "│ ../../../../ ┆ 51605120852 ┆ 1.2269e19   ┆ 15430728959 ┆ 45012749405 ┆ 95329744059 ┆ false       │\n",
       "│ data/SampleH ┆ 52316610    ┆             ┆ 867320320   ┆ 39784547    ┆ 06098897    ┆             │\n",
       "│ DS.jso…      ┆             ┆             ┆             ┆             ┆             ┆             │\n",
       "└──────────────┴─────────────┴─────────────┴─────────────┴─────────────┴─────────────┴─────────────┘"
      ]
     },
     "execution_count": 5,
     "metadata": {},
     "output_type": "execute_result"
    }
   ],
   "source": [
    "anon.process()"
   ]
  },
  {
   "attachments": {},
   "cell_type": "markdown",
   "metadata": {},
   "source": [
    "To trace back the columns to their original names, the class also contains a mapping, which does not have to be provided."
   ]
  },
  {
   "cell_type": "code",
   "execution_count": 6,
   "metadata": {
    "execution": {
     "iopub.execute_input": "2024-07-17T08:12:26.623173Z",
     "iopub.status.busy": "2024-07-17T08:12:26.622770Z",
     "iopub.status.idle": "2024-07-17T08:12:26.626381Z",
     "shell.execute_reply": "2024-07-17T08:12:26.625897Z"
    }
   },
   "outputs": [
    {
     "data": {
      "text/plain": [
       "{'filename': 'filename',\n",
       " 'Customer_City': 'PREDICTOR_1',\n",
       " 'Customer_CLV': 'PREDICTOR_2',\n",
       " 'Customer_MaritalStatus': 'PREDICTOR_3',\n",
       " 'Context_Name': 'Context_Name',\n",
       " 'IH_Web_Inbound_Accepted_pxLastGroupID': 'IH_PREDICTOR_0',\n",
       " 'Decision_Outcome': 'Decision_Outcome'}"
      ]
     },
     "execution_count": 6,
     "metadata": {},
     "output_type": "execute_result"
    }
   ],
   "source": [
    "anon.column_mapping"
   ]
  },
  {
   "attachments": {},
   "cell_type": "markdown",
   "metadata": {},
   "source": [
    "## Configs\n",
    "\n",
    "Each capability can optionally be turned off - see below for the full list of config options, and refer to the API reference for the full description."
   ]
  },
  {
   "cell_type": "code",
   "execution_count": 7,
   "metadata": {
    "execution": {
     "iopub.execute_input": "2024-07-17T08:12:26.628390Z",
     "iopub.status.busy": "2024-07-17T08:12:26.628062Z",
     "iopub.status.idle": "2024-07-17T08:12:26.632266Z",
     "shell.execute_reply": "2024-07-17T08:12:26.631813Z"
    }
   },
   "outputs": [
    {
     "data": {
      "text/plain": [
       "{'config_file': None,\n",
       " 'hds_folder': '.',\n",
       " 'use_datamart': False,\n",
       " 'datamart_folder': 'datamart',\n",
       " 'output_format': 'ndjson',\n",
       " 'output_folder': 'output',\n",
       " 'mapping_file': 'mapping.map',\n",
       " 'mask_predictor_names': True,\n",
       " 'mask_context_key_names': False,\n",
       " 'mask_ih_names': True,\n",
       " 'mask_outcome_name': False,\n",
       " 'mask_predictor_values': True,\n",
       " 'mask_context_key_values': True,\n",
       " 'mask_ih_values': True,\n",
       " 'mask_outcome_values': True,\n",
       " 'context_key_label': 'Context_*',\n",
       " 'ih_label': 'IH_*',\n",
       " 'outcome_column': 'Decision_Outcome',\n",
       " 'positive_outcomes': ['Accepted', 'Clicked'],\n",
       " 'negative_outcomes': ['Rejected', 'Impression'],\n",
       " 'special_predictors': ['Decision_DecisionTime',\n",
       "  'Decision_OutcomeTime',\n",
       "  'Decision_Rank'],\n",
       " 'sample_percentage_schema_inferencing': 0.01}"
      ]
     },
     "execution_count": 7,
     "metadata": {},
     "output_type": "execute_result"
    }
   ],
   "source": [
    "dict(zip(Config.__init__.__code__.co_varnames[1:], Config.__init__.__defaults__))"
   ]
  },
  {
   "attachments": {},
   "cell_type": "markdown",
   "metadata": {},
   "source": [
    "It's easy to change these parameters by just passing the keyword arguments. In the following example, we\n",
    "- Keep the IH predictor names\n",
    "- Keep the outcome values\n",
    "- Keep the context key values\n",
    "- Keep the context key predictor names"
   ]
  },
  {
   "cell_type": "code",
   "execution_count": 8,
   "metadata": {
    "execution": {
     "iopub.execute_input": "2024-07-17T08:12:26.634321Z",
     "iopub.status.busy": "2024-07-17T08:12:26.633965Z",
     "iopub.status.idle": "2024-07-17T08:12:26.641370Z",
     "shell.execute_reply": "2024-07-17T08:12:26.640926Z"
    }
   },
   "outputs": [
    {
     "data": {
      "text/html": [
       "<div><style>\n",
       ".dataframe > thead > tr,\n",
       ".dataframe > tbody > tr {\n",
       "  text-align: right;\n",
       "  white-space: pre-wrap;\n",
       "}\n",
       "</style>\n",
       "<small>shape: (7, 7)</small><table border=\"1\" class=\"dataframe\"><thead><tr><th>filename</th><th>PREDICTOR_1</th><th>PREDICTOR_2</th><th>PREDICTOR_3</th><th>Context_Name</th><th>IH_Web_Inbound_Accepted_pxLastGroupID</th><th>Decision_Outcome</th></tr><tr><td>str</td><td>str</td><td>f64</td><td>str</td><td>str</td><td>str</td><td>str</td></tr></thead><tbody><tr><td>&quot;../../../../data/SampleHDS.jso…</td><td>&quot;14426643651707395722&quot;</td><td>6.9703e18</td><td>&quot;4305299936953042933&quot;</td><td>&quot;FirstMortgage30yr&quot;</td><td>&quot;5228241715583691007&quot;</td><td>&quot;Rejected&quot;</td></tr><tr><td>&quot;../../../../data/SampleHDS.jso…</td><td>&quot;17792490247183375123&quot;</td><td>1.4791e19</td><td>&quot;4940222697893725609&quot;</td><td>&quot;FirstMortgage30yr&quot;</td><td>&quot;16635235941615004799&quot;</td><td>&quot;Accepted&quot;</td></tr><tr><td>&quot;../../../../data/SampleHDS.jso…</td><td>&quot;16727995605934336514&quot;</td><td>1.6734e19</td><td>&quot;3294867186942065027&quot;</td><td>&quot;MoneyMarketSavingsAccount&quot;</td><td>&quot;5228241715583691007&quot;</td><td>&quot;Rejected&quot;</td></tr><tr><td>&quot;../../../../data/SampleHDS.jso…</td><td>&quot;8882356290101160266&quot;</td><td>1.8173e19</td><td>&quot;4940222697893725609&quot;</td><td>&quot;BasicChecking&quot;</td><td>&quot;5228241715583691007&quot;</td><td>&quot;Rejected&quot;</td></tr><tr><td>&quot;../../../../data/SampleHDS.jso…</td><td>&quot;15769118079577196520&quot;</td><td>8.4167e18</td><td>&quot;4305299936953042933&quot;</td><td>&quot;BasicChecking&quot;</td><td>&quot;1010759931695078522&quot;</td><td>&quot;Accepted&quot;</td></tr><tr><td>&quot;../../../../data/SampleHDS.jso…</td><td>&quot;12003963665933592555&quot;</td><td>7.5866e17</td><td>&quot;3294867186942065027&quot;</td><td>&quot;UPlusFinPersonal&quot;</td><td>null</td><td>&quot;Rejected&quot;</td></tr><tr><td>&quot;../../../../data/SampleHDS.jso…</td><td>&quot;12970203666497021624&quot;</td><td>1.6983e19</td><td>&quot;3294867186942065027&quot;</td><td>&quot;BasicChecking&quot;</td><td>&quot;1010759931695078522&quot;</td><td>&quot;Rejected&quot;</td></tr></tbody></table></div>"
      ],
      "text/plain": [
       "shape: (7, 7)\n",
       "┌──────────────┬─────────────┬─────────────┬─────────────┬─────────────┬─────────────┬─────────────┐\n",
       "│ filename     ┆ PREDICTOR_1 ┆ PREDICTOR_2 ┆ PREDICTOR_3 ┆ Context_Nam ┆ IH_Web_Inbo ┆ Decision_Ou │\n",
       "│ ---          ┆ ---         ┆ ---         ┆ ---         ┆ e           ┆ und_Accepte ┆ tcome       │\n",
       "│ str          ┆ str         ┆ f64         ┆ str         ┆ ---         ┆ d_pxLast…   ┆ ---         │\n",
       "│              ┆             ┆             ┆             ┆ str         ┆ ---         ┆ str         │\n",
       "│              ┆             ┆             ┆             ┆             ┆ str         ┆             │\n",
       "╞══════════════╪═════════════╪═════════════╪═════════════╪═════════════╪═════════════╪═════════════╡\n",
       "│ ../../../../ ┆ 14426643651 ┆ 6.9703e18   ┆ 43052999369 ┆ FirstMortga ┆ 52282417155 ┆ Rejected    │\n",
       "│ data/SampleH ┆ 707395722   ┆             ┆ 53042933    ┆ ge30yr      ┆ 83691007    ┆             │\n",
       "│ DS.jso…      ┆             ┆             ┆             ┆             ┆             ┆             │\n",
       "│ ../../../../ ┆ 17792490247 ┆ 1.4791e19   ┆ 49402226978 ┆ FirstMortga ┆ 16635235941 ┆ Accepted    │\n",
       "│ data/SampleH ┆ 183375123   ┆             ┆ 93725609    ┆ ge30yr      ┆ 615004799   ┆             │\n",
       "│ DS.jso…      ┆             ┆             ┆             ┆             ┆             ┆             │\n",
       "│ ../../../../ ┆ 16727995605 ┆ 1.6734e19   ┆ 32948671869 ┆ MoneyMarket ┆ 52282417155 ┆ Rejected    │\n",
       "│ data/SampleH ┆ 934336514   ┆             ┆ 42065027    ┆ SavingsAcco ┆ 83691007    ┆             │\n",
       "│ DS.jso…      ┆             ┆             ┆             ┆ unt         ┆             ┆             │\n",
       "│ ../../../../ ┆ 88823562901 ┆ 1.8173e19   ┆ 49402226978 ┆ BasicChecki ┆ 52282417155 ┆ Rejected    │\n",
       "│ data/SampleH ┆ 01160266    ┆             ┆ 93725609    ┆ ng          ┆ 83691007    ┆             │\n",
       "│ DS.jso…      ┆             ┆             ┆             ┆             ┆             ┆             │\n",
       "│ ../../../../ ┆ 15769118079 ┆ 8.4167e18   ┆ 43052999369 ┆ BasicChecki ┆ 10107599316 ┆ Accepted    │\n",
       "│ data/SampleH ┆ 577196520   ┆             ┆ 53042933    ┆ ng          ┆ 95078522    ┆             │\n",
       "│ DS.jso…      ┆             ┆             ┆             ┆             ┆             ┆             │\n",
       "│ ../../../../ ┆ 12003963665 ┆ 7.5866e17   ┆ 32948671869 ┆ UPlusFinPer ┆ null        ┆ Rejected    │\n",
       "│ data/SampleH ┆ 933592555   ┆             ┆ 42065027    ┆ sonal       ┆             ┆             │\n",
       "│ DS.jso…      ┆             ┆             ┆             ┆             ┆             ┆             │\n",
       "│ ../../../../ ┆ 12970203666 ┆ 1.6983e19   ┆ 32948671869 ┆ BasicChecki ┆ 10107599316 ┆ Rejected    │\n",
       "│ data/SampleH ┆ 497021624   ┆             ┆ 42065027    ┆ ng          ┆ 95078522    ┆             │\n",
       "│ DS.jso…      ┆             ┆             ┆             ┆             ┆             ┆             │\n",
       "└──────────────┴─────────────┴─────────────┴─────────────┴─────────────┴─────────────┴─────────────┘"
      ]
     },
     "execution_count": 8,
     "metadata": {},
     "output_type": "execute_result"
    }
   ],
   "source": [
    "anon = DataAnonymization(\n",
    "    hds_folder=\"../../../../data/\",\n",
    "    mask_ih_names=False,\n",
    "    mask_outcome_values=False,\n",
    "    mask_context_key_values=False,\n",
    "    mask_context_key_names=False,\n",
    ")\n",
    "anon.process()\n"
   ]
  },
  {
   "attachments": {},
   "cell_type": "markdown",
   "metadata": {},
   "source": [
    "The configs can also be written and read as such:"
   ]
  },
  {
   "cell_type": "code",
   "execution_count": 9,
   "metadata": {
    "execution": {
     "iopub.execute_input": "2024-07-17T08:12:26.643356Z",
     "iopub.status.busy": "2024-07-17T08:12:26.643036Z",
     "iopub.status.idle": "2024-07-17T08:12:26.645835Z",
     "shell.execute_reply": "2024-07-17T08:12:26.645393Z"
    }
   },
   "outputs": [],
   "source": [
    "anon.config.save_to_config_file('config.json')"
   ]
  },
  {
   "cell_type": "code",
   "execution_count": 10,
   "metadata": {
    "execution": {
     "iopub.execute_input": "2024-07-17T08:12:26.647713Z",
     "iopub.status.busy": "2024-07-17T08:12:26.647428Z",
     "iopub.status.idle": "2024-07-17T08:12:26.654905Z",
     "shell.execute_reply": "2024-07-17T08:12:26.654434Z"
    }
   },
   "outputs": [
    {
     "data": {
      "text/html": [
       "<div><style>\n",
       ".dataframe > thead > tr,\n",
       ".dataframe > tbody > tr {\n",
       "  text-align: right;\n",
       "  white-space: pre-wrap;\n",
       "}\n",
       "</style>\n",
       "<small>shape: (7, 7)</small><table border=\"1\" class=\"dataframe\"><thead><tr><th>filename</th><th>PREDICTOR_1</th><th>PREDICTOR_2</th><th>PREDICTOR_3</th><th>Context_Name</th><th>IH_Web_Inbound_Accepted_pxLastGroupID</th><th>Decision_Outcome</th></tr><tr><td>str</td><td>str</td><td>f64</td><td>str</td><td>str</td><td>str</td><td>str</td></tr></thead><tbody><tr><td>&quot;../../../../data/SampleHDS.jso…</td><td>&quot;14741867173223555278&quot;</td><td>1.8367e19</td><td>&quot;4102406981420599499&quot;</td><td>&quot;FirstMortgage30yr&quot;</td><td>&quot;5536417524520881704&quot;</td><td>&quot;Rejected&quot;</td></tr><tr><td>&quot;../../../../data/SampleHDS.jso…</td><td>&quot;11988065933842333079&quot;</td><td>1.6944e19</td><td>&quot;13890548553066681752&quot;</td><td>&quot;FirstMortgage30yr&quot;</td><td>&quot;5120512997531117083&quot;</td><td>&quot;Accepted&quot;</td></tr><tr><td>&quot;../../../../data/SampleHDS.jso…</td><td>&quot;1234975428816348605&quot;</td><td>1.6770e19</td><td>&quot;9018326325993387784&quot;</td><td>&quot;MoneyMarketSavingsAccount&quot;</td><td>&quot;5536417524520881704&quot;</td><td>&quot;Rejected&quot;</td></tr><tr><td>&quot;../../../../data/SampleHDS.jso…</td><td>&quot;3021166077484673924&quot;</td><td>1.4037e19</td><td>&quot;13890548553066681752&quot;</td><td>&quot;BasicChecking&quot;</td><td>&quot;5536417524520881704&quot;</td><td>&quot;Rejected&quot;</td></tr><tr><td>&quot;../../../../data/SampleHDS.jso…</td><td>&quot;10586804509575342053&quot;</td><td>3.3235e17</td><td>&quot;4102406981420599499&quot;</td><td>&quot;BasicChecking&quot;</td><td>&quot;10662157700059279739&quot;</td><td>&quot;Accepted&quot;</td></tr><tr><td>&quot;../../../../data/SampleHDS.jso…</td><td>&quot;1895428620075581790&quot;</td><td>7.0462e18</td><td>&quot;9018326325993387784&quot;</td><td>&quot;UPlusFinPersonal&quot;</td><td>null</td><td>&quot;Rejected&quot;</td></tr><tr><td>&quot;../../../../data/SampleHDS.jso…</td><td>&quot;1191601673004097561&quot;</td><td>1.7025e19</td><td>&quot;9018326325993387784&quot;</td><td>&quot;BasicChecking&quot;</td><td>&quot;10662157700059279739&quot;</td><td>&quot;Rejected&quot;</td></tr></tbody></table></div>"
      ],
      "text/plain": [
       "shape: (7, 7)\n",
       "┌──────────────┬─────────────┬─────────────┬─────────────┬─────────────┬─────────────┬─────────────┐\n",
       "│ filename     ┆ PREDICTOR_1 ┆ PREDICTOR_2 ┆ PREDICTOR_3 ┆ Context_Nam ┆ IH_Web_Inbo ┆ Decision_Ou │\n",
       "│ ---          ┆ ---         ┆ ---         ┆ ---         ┆ e           ┆ und_Accepte ┆ tcome       │\n",
       "│ str          ┆ str         ┆ f64         ┆ str         ┆ ---         ┆ d_pxLast…   ┆ ---         │\n",
       "│              ┆             ┆             ┆             ┆ str         ┆ ---         ┆ str         │\n",
       "│              ┆             ┆             ┆             ┆             ┆ str         ┆             │\n",
       "╞══════════════╪═════════════╪═════════════╪═════════════╪═════════════╪═════════════╪═════════════╡\n",
       "│ ../../../../ ┆ 14741867173 ┆ 1.8367e19   ┆ 41024069814 ┆ FirstMortga ┆ 55364175245 ┆ Rejected    │\n",
       "│ data/SampleH ┆ 223555278   ┆             ┆ 20599499    ┆ ge30yr      ┆ 20881704    ┆             │\n",
       "│ DS.jso…      ┆             ┆             ┆             ┆             ┆             ┆             │\n",
       "│ ../../../../ ┆ 11988065933 ┆ 1.6944e19   ┆ 13890548553 ┆ FirstMortga ┆ 51205129975 ┆ Accepted    │\n",
       "│ data/SampleH ┆ 842333079   ┆             ┆ 066681752   ┆ ge30yr      ┆ 31117083    ┆             │\n",
       "│ DS.jso…      ┆             ┆             ┆             ┆             ┆             ┆             │\n",
       "│ ../../../../ ┆ 12349754288 ┆ 1.6770e19   ┆ 90183263259 ┆ MoneyMarket ┆ 55364175245 ┆ Rejected    │\n",
       "│ data/SampleH ┆ 16348605    ┆             ┆ 93387784    ┆ SavingsAcco ┆ 20881704    ┆             │\n",
       "│ DS.jso…      ┆             ┆             ┆             ┆ unt         ┆             ┆             │\n",
       "│ ../../../../ ┆ 30211660774 ┆ 1.4037e19   ┆ 13890548553 ┆ BasicChecki ┆ 55364175245 ┆ Rejected    │\n",
       "│ data/SampleH ┆ 84673924    ┆             ┆ 066681752   ┆ ng          ┆ 20881704    ┆             │\n",
       "│ DS.jso…      ┆             ┆             ┆             ┆             ┆             ┆             │\n",
       "│ ../../../../ ┆ 10586804509 ┆ 3.3235e17   ┆ 41024069814 ┆ BasicChecki ┆ 10662157700 ┆ Accepted    │\n",
       "│ data/SampleH ┆ 575342053   ┆             ┆ 20599499    ┆ ng          ┆ 059279739   ┆             │\n",
       "│ DS.jso…      ┆             ┆             ┆             ┆             ┆             ┆             │\n",
       "│ ../../../../ ┆ 18954286200 ┆ 7.0462e18   ┆ 90183263259 ┆ UPlusFinPer ┆ null        ┆ Rejected    │\n",
       "│ data/SampleH ┆ 75581790    ┆             ┆ 93387784    ┆ sonal       ┆             ┆             │\n",
       "│ DS.jso…      ┆             ┆             ┆             ┆             ┆             ┆             │\n",
       "│ ../../../../ ┆ 11916016730 ┆ 1.7025e19   ┆ 90183263259 ┆ BasicChecki ┆ 10662157700 ┆ Rejected    │\n",
       "│ data/SampleH ┆ 04097561    ┆             ┆ 93387784    ┆ ng          ┆ 059279739   ┆             │\n",
       "│ DS.jso…      ┆             ┆             ┆             ┆             ┆             ┆             │\n",
       "└──────────────┴─────────────┴─────────────┴─────────────┴─────────────┴─────────────┴─────────────┘"
      ]
     },
     "execution_count": 10,
     "metadata": {},
     "output_type": "execute_result"
    }
   ],
   "source": [
    "anon = DataAnonymization(config=Config(config_file='config.json'))\n",
    "anon.process()"
   ]
  },
  {
   "attachments": {},
   "cell_type": "markdown",
   "metadata": {},
   "source": [
    "## Exporting\n",
    "Two functions export:\n",
    "- `create_mapping_file()` writes the mapping file of the predictor names\n",
    "- `write_to_output()` writes the processed dataframe to disk\n",
    "\n",
    "Write to output accepts the following extensions: `[\"ndjson\", \"parquet\", \"arrow\", \"csv\"]`"
   ]
  },
  {
   "cell_type": "code",
   "execution_count": 11,
   "metadata": {
    "execution": {
     "iopub.execute_input": "2024-07-17T08:12:26.656925Z",
     "iopub.status.busy": "2024-07-17T08:12:26.656607Z",
     "iopub.status.idle": "2024-07-17T08:12:26.660070Z",
     "shell.execute_reply": "2024-07-17T08:12:26.659626Z"
    }
   },
   "outputs": [
    {
     "name": "stdout",
     "output_type": "stream",
     "text": [
      "filename=filename\n",
      "Customer_City=PREDICTOR_1\n",
      "Customer_CLV=PREDICTOR_2\n",
      "Customer_MaritalStatus=PREDICTOR_3\n",
      "Context_Name=Context_Name\n",
      "IH_Web_Inbound_Accepted_pxLastGroupID=IH_Web_Inbound_Accepted_pxLastGroupID\n",
      "Decision_Outcome=Decision_Outcome\n",
      "\n"
     ]
    }
   ],
   "source": [
    "anon.create_mapping_file()\n",
    "with open('mapping.map') as f:\n",
    "    print(f.read())"
   ]
  },
  {
   "cell_type": "code",
   "execution_count": 12,
   "metadata": {
    "execution": {
     "iopub.execute_input": "2024-07-17T08:12:26.662003Z",
     "iopub.status.busy": "2024-07-17T08:12:26.661685Z",
     "iopub.status.idle": "2024-07-17T08:12:26.665186Z",
     "shell.execute_reply": "2024-07-17T08:12:26.664647Z"
    }
   },
   "outputs": [],
   "source": [
    "anon.write_to_output(ext='arrow')"
   ]
  },
  {
   "cell_type": "code",
   "execution_count": 13,
   "metadata": {
    "execution": {
     "iopub.execute_input": "2024-07-17T08:12:26.667398Z",
     "iopub.status.busy": "2024-07-17T08:12:26.666959Z",
     "iopub.status.idle": "2024-07-17T08:12:26.671598Z",
     "shell.execute_reply": "2024-07-17T08:12:26.671060Z"
    }
   },
   "outputs": [
    {
     "data": {
      "text/html": [
       "<div><style>\n",
       ".dataframe > thead > tr,\n",
       ".dataframe > tbody > tr {\n",
       "  text-align: right;\n",
       "  white-space: pre-wrap;\n",
       "}\n",
       "</style>\n",
       "<small>shape: (7, 6)</small><table border=\"1\" class=\"dataframe\"><thead><tr><th>PREDICTOR_1</th><th>PREDICTOR_2</th><th>PREDICTOR_3</th><th>Context_Name</th><th>IH_Web_Inbound_Accepted_pxLastGroupID</th><th>Decision_Outcome</th></tr><tr><td>str</td><td>f64</td><td>str</td><td>str</td><td>str</td><td>str</td></tr></thead><tbody><tr><td>&quot;14787281134004715964&quot;</td><td>1.0424e18</td><td>&quot;8056798468792061053&quot;</td><td>&quot;FirstMortgage30yr&quot;</td><td>&quot;738857298724152447&quot;</td><td>&quot;Rejected&quot;</td></tr><tr><td>&quot;9833684049645099581&quot;</td><td>3.7149e18</td><td>&quot;7488543892175255101&quot;</td><td>&quot;FirstMortgage30yr&quot;</td><td>&quot;6923149415607301891&quot;</td><td>&quot;Accepted&quot;</td></tr><tr><td>&quot;16672864538958714371&quot;</td><td>4.5817e18</td><td>&quot;13389814456435929199&quot;</td><td>&quot;MoneyMarketSavingsAccount&quot;</td><td>&quot;738857298724152447&quot;</td><td>&quot;Rejected&quot;</td></tr><tr><td>&quot;9414383597374112501&quot;</td><td>7.6064e18</td><td>&quot;7488543892175255101&quot;</td><td>&quot;BasicChecking&quot;</td><td>&quot;738857298724152447&quot;</td><td>&quot;Rejected&quot;</td></tr><tr><td>&quot;16173500020146359275&quot;</td><td>1.2998e19</td><td>&quot;8056798468792061053&quot;</td><td>&quot;BasicChecking&quot;</td><td>&quot;73703120556712166&quot;</td><td>&quot;Accepted&quot;</td></tr><tr><td>&quot;16875030809259747413&quot;</td><td>3.6625e18</td><td>&quot;13389814456435929199&quot;</td><td>&quot;UPlusFinPersonal&quot;</td><td>null</td><td>&quot;Rejected&quot;</td></tr><tr><td>&quot;7852092479464521087&quot;</td><td>1.4138e19</td><td>&quot;13389814456435929199&quot;</td><td>&quot;BasicChecking&quot;</td><td>&quot;73703120556712166&quot;</td><td>&quot;Rejected&quot;</td></tr></tbody></table></div>"
      ],
      "text/plain": [
       "shape: (7, 6)\n",
       "┌────────────────┬─────────────┬────────────────┬────────────────┬────────────────┬────────────────┐\n",
       "│ PREDICTOR_1    ┆ PREDICTOR_2 ┆ PREDICTOR_3    ┆ Context_Name   ┆ IH_Web_Inbound ┆ Decision_Outco │\n",
       "│ ---            ┆ ---         ┆ ---            ┆ ---            ┆ _Accepted_pxLa ┆ me             │\n",
       "│ str            ┆ f64         ┆ str            ┆ str            ┆ st…            ┆ ---            │\n",
       "│                ┆             ┆                ┆                ┆ ---            ┆ str            │\n",
       "│                ┆             ┆                ┆                ┆ str            ┆                │\n",
       "╞════════════════╪═════════════╪════════════════╪════════════════╪════════════════╪════════════════╡\n",
       "│ 14787281134004 ┆ 1.0424e18   ┆ 80567984687920 ┆ FirstMortgage3 ┆ 73885729872415 ┆ Rejected       │\n",
       "│ 715964         ┆             ┆ 61053          ┆ 0yr            ┆ 2447           ┆                │\n",
       "│ 98336840496450 ┆ 3.7149e18   ┆ 74885438921752 ┆ FirstMortgage3 ┆ 69231494156073 ┆ Accepted       │\n",
       "│ 99581          ┆             ┆ 55101          ┆ 0yr            ┆ 01891          ┆                │\n",
       "│ 16672864538958 ┆ 4.5817e18   ┆ 13389814456435 ┆ MoneyMarketSav ┆ 73885729872415 ┆ Rejected       │\n",
       "│ 714371         ┆             ┆ 929199         ┆ ingsAccount    ┆ 2447           ┆                │\n",
       "│ 94143835973741 ┆ 7.6064e18   ┆ 74885438921752 ┆ BasicChecking  ┆ 73885729872415 ┆ Rejected       │\n",
       "│ 12501          ┆             ┆ 55101          ┆                ┆ 2447           ┆                │\n",
       "│ 16173500020146 ┆ 1.2998e19   ┆ 80567984687920 ┆ BasicChecking  ┆ 73703120556712 ┆ Accepted       │\n",
       "│ 359275         ┆             ┆ 61053          ┆                ┆ 166            ┆                │\n",
       "│ 16875030809259 ┆ 3.6625e18   ┆ 13389814456435 ┆ UPlusFinPerson ┆ null           ┆ Rejected       │\n",
       "│ 747413         ┆             ┆ 929199         ┆ al             ┆                ┆                │\n",
       "│ 78520924794645 ┆ 1.4138e19   ┆ 13389814456435 ┆ BasicChecking  ┆ 73703120556712 ┆ Rejected       │\n",
       "│ 21087          ┆             ┆ 929199         ┆                ┆ 166            ┆                │\n",
       "└────────────────┴─────────────┴────────────────┴────────────────┴────────────────┴────────────────┘"
      ]
     },
     "execution_count": 13,
     "metadata": {},
     "output_type": "execute_result"
    }
   ],
   "source": [
    "pl.read_ipc('output/hds.arrow')"
   ]
  },
  {
   "attachments": {},
   "cell_type": "markdown",
   "metadata": {
    "nbsphinx": "hidden"
   },
   "source": [
    "## Advanced: Hash fuctions\n",
    "\n",
    "By default, we use [the same hashing algorithm Polars](https://pola-rs.github.io/polars/py-polars/html/reference/expressions/api/polars.Expr.hash.html#polars.Expr.hash) uses: [xxhash](https://github.com/Cyan4973/xxHash), as implemented [here](https://github.com/pola-rs/polars/blob/3f287f370b3c388ed2f3f218b2c096382548136f/polars/polars-core/src/vector_hasher.rs#L266). xxhash is fast to compute, and you can check its performance in collision, dispersion and randomness [here](https://github.com/Cyan4973/xxHash/tree/dev/tests). \n",
    "\n",
    "xxhash accepts four distinct seeds, but by default we set the seeds to `0`. It is possible to set the `seed` argument of the `process()` function to `'random'`, which will set all four seeds to a random integer between `0` and `1000000000`. Alternatively, it is possible to supply the four seeds manually with arguments `seed`, `seed_1`, `seed_2` and `seed_3`. \n",
    "\n",
    "If the xxhash with (random) seed(s) is not deemed sufficiently secure, it is possible to use your own hashing algorithm.\n",
    "\n",
    "Note that since we're now running python code and not native Polars code anymore, this will be _significantly_ slower. Nonetheless, it is possible.\n",
    "\n",
    "Just as an example - this is how one would use sha3_256:"
   ]
  },
  {
   "cell_type": "code",
   "execution_count": 14,
   "metadata": {
    "execution": {
     "iopub.execute_input": "2024-07-17T08:12:26.673600Z",
     "iopub.status.busy": "2024-07-17T08:12:26.673277Z",
     "iopub.status.idle": "2024-07-17T08:12:26.999860Z",
     "shell.execute_reply": "2024-07-17T08:12:26.999365Z"
    },
    "nbsphinx": "hidden"
   },
   "outputs": [
    {
     "name": "stderr",
     "output_type": "stream",
     "text": [
      "sys:1: MapWithoutReturnDtypeWarning:\n",
      "\n",
      "Calling `map_elements` without specifying `return_dtype` can lead to unpredictable results. Specify `return_dtype` to silence this warning.\n",
      "\n",
      "sys:1: MapWithoutReturnDtypeWarning:\n",
      "\n",
      "Calling `map_elements` without specifying `return_dtype` can lead to unpredictable results. Specify `return_dtype` to silence this warning.\n",
      "\n",
      "sys:1: MapWithoutReturnDtypeWarning:\n",
      "\n",
      "Calling `map_elements` without specifying `return_dtype` can lead to unpredictable results. Specify `return_dtype` to silence this warning.\n",
      "\n",
      "sys:1: MapWithoutReturnDtypeWarning:\n",
      "\n",
      "Calling `map_elements` without specifying `return_dtype` can lead to unpredictable results. Specify `return_dtype` to silence this warning.\n",
      "\n"
     ]
    },
    {
     "ename": "ComputeError",
     "evalue": "AttributeError: 'int' object has no attribute 'encode'",
     "output_type": "error",
     "traceback": [
      "\u001b[0;31m---------------------------------------------------------------------------\u001b[0m",
      "\u001b[0;31mComputeError\u001b[0m                              Traceback (most recent call last)",
      "Cell \u001b[0;32mIn[14], line 3\u001b[0m\n\u001b[1;32m      1\u001b[0m \u001b[38;5;28;01mfrom\u001b[39;00m \u001b[38;5;21;01mhashlib\u001b[39;00m \u001b[38;5;28;01mimport\u001b[39;00m sha3_256\n\u001b[0;32m----> 3\u001b[0m \u001b[43manon\u001b[49m\u001b[38;5;241;43m.\u001b[39;49m\u001b[43mprocess\u001b[49m\u001b[43m(\u001b[49m\u001b[43malgorithm\u001b[49m\u001b[38;5;241;43m=\u001b[39;49m\u001b[38;5;28;43;01mlambda\u001b[39;49;00m\u001b[43m \u001b[49m\u001b[43mx\u001b[49m\u001b[43m:\u001b[49m\u001b[43m \u001b[49m\u001b[43msha3_256\u001b[49m\u001b[43m(\u001b[49m\u001b[43mx\u001b[49m\u001b[38;5;241;43m.\u001b[39;49m\u001b[43mencode\u001b[49m\u001b[43m(\u001b[49m\u001b[43m)\u001b[49m\u001b[43m)\u001b[49m\u001b[38;5;241;43m.\u001b[39;49m\u001b[43mhexdigest\u001b[49m\u001b[43m(\u001b[49m\u001b[43m)\u001b[49m\u001b[43m)\u001b[49m\n",
      "File \u001b[0;32m~/work/pega-datascientist-tools/pega-datascientist-tools/python/docs/source/articles/../../../pdstools/utils/hds_utils.py:512\u001b[0m, in \u001b[0;36mDataAnonymization.process\u001b[0;34m(self, strategy, **kwargs)\u001b[0m\n\u001b[1;32m    510\u001b[0m df \u001b[38;5;241m=\u001b[39m df\u001b[38;5;241m.\u001b[39mselect(\u001b[38;5;28mself\u001b[39m\u001b[38;5;241m.\u001b[39mcolumn_mapping\u001b[38;5;241m.\u001b[39mkeys())\u001b[38;5;241m.\u001b[39mrename(\u001b[38;5;28mself\u001b[39m\u001b[38;5;241m.\u001b[39mcolumn_mapping)\n\u001b[1;32m    511\u001b[0m \u001b[38;5;28;01mif\u001b[39;00m strategy \u001b[38;5;241m==\u001b[39m \u001b[38;5;124m\"\u001b[39m\u001b[38;5;124meager\u001b[39m\u001b[38;5;124m\"\u001b[39m:\n\u001b[0;32m--> 512\u001b[0m     \u001b[38;5;28;01mreturn\u001b[39;00m \u001b[43mdf\u001b[49m\u001b[38;5;241;43m.\u001b[39;49m\u001b[43mcollect\u001b[49m\u001b[43m(\u001b[49m\u001b[43m)\u001b[49m\n\u001b[1;32m    513\u001b[0m \u001b[38;5;28;01mreturn\u001b[39;00m df\n",
      "File \u001b[0;32m/opt/hostedtoolcache/Python/3.11.9/x64/lib/python3.11/site-packages/polars/lazyframe/frame.py:1967\u001b[0m, in \u001b[0;36mLazyFrame.collect\u001b[0;34m(self, type_coercion, predicate_pushdown, projection_pushdown, simplify_expression, slice_pushdown, comm_subplan_elim, comm_subexpr_elim, cluster_with_columns, no_optimization, streaming, background, _eager, **_kwargs)\u001b[0m\n\u001b[1;32m   1964\u001b[0m \u001b[38;5;66;03m# Only for testing purposes atm.\u001b[39;00m\n\u001b[1;32m   1965\u001b[0m callback \u001b[38;5;241m=\u001b[39m _kwargs\u001b[38;5;241m.\u001b[39mget(\u001b[38;5;124m\"\u001b[39m\u001b[38;5;124mpost_opt_callback\u001b[39m\u001b[38;5;124m\"\u001b[39m)\n\u001b[0;32m-> 1967\u001b[0m \u001b[38;5;28;01mreturn\u001b[39;00m wrap_df(\u001b[43mldf\u001b[49m\u001b[38;5;241;43m.\u001b[39;49m\u001b[43mcollect\u001b[49m\u001b[43m(\u001b[49m\u001b[43mcallback\u001b[49m\u001b[43m)\u001b[49m)\n",
      "\u001b[0;31mComputeError\u001b[0m: AttributeError: 'int' object has no attribute 'encode'"
     ]
    }
   ],
   "source": [
    "from hashlib import sha3_256\n",
    "\n",
    "anon.process(algorithm=lambda x: sha3_256(x.encode()).hexdigest())"
   ]
  }
 ],
 "metadata": {
  "kernelspec": {
   "display_name": "Python 3",
   "language": "python",
   "name": "python3"
  },
  "language_info": {
   "codemirror_mode": {
    "name": "ipython",
    "version": 3
   },
   "file_extension": ".py",
   "mimetype": "text/x-python",
   "name": "python",
   "nbconvert_exporter": "python",
   "pygments_lexer": "ipython3",
   "version": "3.11.9"
  },
  "vscode": {
   "interpreter": {
    "hash": "aee8b7b246df8f9039afb4144a1f6fd8d2ca17a180786b69acc140d282b71a49"
   }
  }
 },
 "nbformat": 4,
 "nbformat_minor": 2
}
