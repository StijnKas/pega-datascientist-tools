{
 "cells": [
  {
   "attachments": {},
   "cell_type": "markdown",
   "metadata": {},
   "source": [
    "# Data Anonymization\n",
    "\n",
    "In Pega CDH 8.5 and up, it's now possible to record the historical data as seen by the Adaptive Models. See [this academy challenge](https://academy.pega.com/challenge/exporting-historical-data/v4) for reference. This historical data can be further used to experiment with offline models, but also to fine-tune the OOTB Gradient Boosting model. However, sharing this information with Pega can be sensitive as it contains raw predictor data. \n",
    "\n",
    "To this end, we provide a simple and transparent script to fully anonimize this dataset.\n",
    "\n",
    "The DataAnonymization script is now part of pdstools, and you can import it directly as such."
   ]
  },
  {
   "cell_type": "code",
   "execution_count": 1,
   "metadata": {
    "execution": {
     "iopub.execute_input": "2024-03-06T15:32:32.339445Z",
     "iopub.status.busy": "2024-03-06T15:32:32.339272Z",
     "iopub.status.idle": "2024-03-06T15:32:32.410552Z",
     "shell.execute_reply": "2024-03-06T15:32:32.410002Z"
    },
    "nbsphinx": "hidden"
   },
   "outputs": [],
   "source": [
    "# These lines are only for rendering in the docs, and are hidden through Jupyter tags\n",
    "# Do not run if you're running the notebook seperately\n",
    "\n",
    "import os  \n",
    "import sys\n",
    "import plotly.io as pio\n",
    "pio.renderers.default = \"notebook_connected\"\n",
    "\n",
    "sys.path.append(\"../../../\")\n",
    "sys.path.append('../../python')"
   ]
  },
  {
   "cell_type": "code",
   "execution_count": 2,
   "metadata": {
    "execution": {
     "iopub.execute_input": "2024-03-06T15:32:32.412724Z",
     "iopub.status.busy": "2024-03-06T15:32:32.412499Z",
     "iopub.status.idle": "2024-03-06T15:32:33.411436Z",
     "shell.execute_reply": "2024-03-06T15:32:33.410963Z"
    }
   },
   "outputs": [],
   "source": [
    "from pdstools import ADMDatamart\n",
    "from pdstools import Config, DataAnonymization\n",
    "import polars as pl"
   ]
  },
  {
   "attachments": {},
   "cell_type": "markdown",
   "metadata": {},
   "source": [
    "## Input data\n",
    "\n",
    "To demonstrate this process, we're going to anonymise this toy example dataframe:"
   ]
  },
  {
   "cell_type": "code",
   "execution_count": 3,
   "metadata": {
    "execution": {
     "iopub.execute_input": "2024-03-06T15:32:33.413850Z",
     "iopub.status.busy": "2024-03-06T15:32:33.413595Z",
     "iopub.status.idle": "2024-03-06T15:32:33.421917Z",
     "shell.execute_reply": "2024-03-06T15:32:33.421476Z"
    }
   },
   "outputs": [
    {
     "data": {
      "text/html": [
       "<div><style>\n",
       ".dataframe > thead > tr,\n",
       ".dataframe > tbody > tr {\n",
       "  text-align: right;\n",
       "  white-space: pre-wrap;\n",
       "}\n",
       "</style>\n",
       "<small>shape: (7, 6)</small><table border=\"1\" class=\"dataframe\"><thead><tr><th>Context_Name</th><th>Customer_MaritalStatus</th><th>Customer_CLV</th><th>Customer_City</th><th>IH_Web_Inbound_Accepted_pxLastGroupID</th><th>Decision_Outcome</th></tr><tr><td>str</td><td>str</td><td>i64</td><td>str</td><td>str</td><td>str</td></tr></thead><tbody><tr><td>&quot;FirstMortgage3…</td><td>&quot;Married&quot;</td><td>1460</td><td>&quot;Port Raoul&quot;</td><td>&quot;Account&quot;</td><td>&quot;Rejected&quot;</td></tr><tr><td>&quot;FirstMortgage3…</td><td>&quot;Unknown&quot;</td><td>669</td><td>&quot;Laurianneshire…</td><td>&quot;AutoLoans&quot;</td><td>&quot;Accepted&quot;</td></tr><tr><td>&quot;MoneyMarketSav…</td><td>&quot;No Resp+&quot;</td><td>1174</td><td>&quot;Jacobshaven&quot;</td><td>&quot;Account&quot;</td><td>&quot;Rejected&quot;</td></tr><tr><td>&quot;BasicChecking&quot;</td><td>&quot;Unknown&quot;</td><td>1476</td><td>&quot;Lindton&quot;</td><td>&quot;Account&quot;</td><td>&quot;Rejected&quot;</td></tr><tr><td>&quot;BasicChecking&quot;</td><td>&quot;Married&quot;</td><td>1211</td><td>&quot;South Jimmiesh…</td><td>&quot;DepositAccount…</td><td>&quot;Accepted&quot;</td></tr><tr><td>&quot;UPlusFinPerson…</td><td>&quot;No Resp+&quot;</td><td>533</td><td>&quot;Bergeville&quot;</td><td>null</td><td>&quot;Rejected&quot;</td></tr><tr><td>&quot;BasicChecking&quot;</td><td>&quot;No Resp+&quot;</td><td>555</td><td>&quot;Willyville&quot;</td><td>&quot;DepositAccount…</td><td>&quot;Rejected&quot;</td></tr></tbody></table></div>"
      ],
      "text/plain": [
       "shape: (7, 6)\n",
       "┌────────────────┬────────────────┬──────────────┬────────────────┬────────────────┬───────────────┐\n",
       "│ Context_Name   ┆ Customer_Marit ┆ Customer_CLV ┆ Customer_City  ┆ IH_Web_Inbound ┆ Decision_Outc │\n",
       "│ ---            ┆ alStatus       ┆ ---          ┆ ---            ┆ _Accepted_pxLa ┆ ome           │\n",
       "│ str            ┆ ---            ┆ i64          ┆ str            ┆ stGr…          ┆ ---           │\n",
       "│                ┆ str            ┆              ┆                ┆ ---            ┆ str           │\n",
       "│                ┆                ┆              ┆                ┆ str            ┆               │\n",
       "╞════════════════╪════════════════╪══════════════╪════════════════╪════════════════╪═══════════════╡\n",
       "│ FirstMortgage3 ┆ Married        ┆ 1460         ┆ Port Raoul     ┆ Account        ┆ Rejected      │\n",
       "│ 0yr            ┆                ┆              ┆                ┆                ┆               │\n",
       "│ FirstMortgage3 ┆ Unknown        ┆ 669          ┆ Laurianneshire ┆ AutoLoans      ┆ Accepted      │\n",
       "│ 0yr            ┆                ┆              ┆                ┆                ┆               │\n",
       "│ MoneyMarketSav ┆ No Resp+       ┆ 1174         ┆ Jacobshaven    ┆ Account        ┆ Rejected      │\n",
       "│ ingsAccount    ┆                ┆              ┆                ┆                ┆               │\n",
       "│ BasicChecking  ┆ Unknown        ┆ 1476         ┆ Lindton        ┆ Account        ┆ Rejected      │\n",
       "│ BasicChecking  ┆ Married        ┆ 1211         ┆ South          ┆ DepositAccount ┆ Accepted      │\n",
       "│                ┆                ┆              ┆ Jimmieshire    ┆ s              ┆               │\n",
       "│ UPlusFinPerson ┆ No Resp+       ┆ 533          ┆ Bergeville     ┆ null           ┆ Rejected      │\n",
       "│ al             ┆                ┆              ┆                ┆                ┆               │\n",
       "│ BasicChecking  ┆ No Resp+       ┆ 555          ┆ Willyville     ┆ DepositAccount ┆ Rejected      │\n",
       "│                ┆                ┆              ┆                ┆ s              ┆               │\n",
       "└────────────────┴────────────────┴──────────────┴────────────────┴────────────────┴───────────────┘"
      ]
     },
     "execution_count": 3,
     "metadata": {},
     "output_type": "execute_result"
    }
   ],
   "source": [
    "pl.read_ndjson('../../../../data/SampleHDS.json')"
   ]
  },
  {
   "attachments": {},
   "cell_type": "markdown",
   "metadata": {},
   "source": [
    "As you can see, this dataset consists of regular predictors, IH predictors, context keys and the outcome column. Additionally, some columns are numeric, others are strings. Let's first initialize the DataAnonymization class."
   ]
  },
  {
   "cell_type": "code",
   "execution_count": 4,
   "metadata": {
    "execution": {
     "iopub.execute_input": "2024-03-06T15:32:33.424019Z",
     "iopub.status.busy": "2024-03-06T15:32:33.423709Z",
     "iopub.status.idle": "2024-03-06T15:32:33.429858Z",
     "shell.execute_reply": "2024-03-06T15:32:33.429454Z"
    }
   },
   "outputs": [],
   "source": [
    "anon = DataAnonymization(hds_folder='../../../../data/')"
   ]
  },
  {
   "attachments": {},
   "cell_type": "markdown",
   "metadata": {},
   "source": [
    "By default, the class applies a set of anonymisation techniques:\n",
    "- Column names are remapped to a non-descriptive name\n",
    "- Categorical values are hashed with a random seed\n",
    "- Numerical values are normalized between 0 and 1\n",
    "- Outcomes are mapped to a binary outcome.\n",
    "\n",
    "To apply these techniques, simply call `.process()`:"
   ]
  },
  {
   "cell_type": "code",
   "execution_count": 5,
   "metadata": {
    "execution": {
     "iopub.execute_input": "2024-03-06T15:32:33.431769Z",
     "iopub.status.busy": "2024-03-06T15:32:33.431454Z",
     "iopub.status.idle": "2024-03-06T15:32:33.436856Z",
     "shell.execute_reply": "2024-03-06T15:32:33.436357Z"
    }
   },
   "outputs": [
    {
     "data": {
      "text/html": [
       "<div><style>\n",
       ".dataframe > thead > tr,\n",
       ".dataframe > tbody > tr {\n",
       "  text-align: right;\n",
       "  white-space: pre-wrap;\n",
       "}\n",
       "</style>\n",
       "<small>shape: (7, 7)</small><table border=\"1\" class=\"dataframe\"><thead><tr><th>PREDICTOR_0</th><th>PREDICTOR_1</th><th>filename</th><th>PREDICTOR_3</th><th>Context_Name</th><th>IH_PREDICTOR_0</th><th>Decision_Outcome</th></tr><tr><td>f64</td><td>str</td><td>str</td><td>str</td><td>str</td><td>str</td><td>bool</td></tr></thead><tbody><tr><td>0.983033</td><td>&quot;51689762846807…</td><td>&quot;../../../../da…</td><td>&quot;46914510581565…</td><td>&quot;12431689806671…</td><td>&quot;10652901717770…</td><td>false</td></tr><tr><td>0.144221</td><td>&quot;16461133420582…</td><td>&quot;../../../../da…</td><td>&quot;11799983601655…</td><td>&quot;12431689806671…</td><td>&quot;15963704228679…</td><td>true</td></tr><tr><td>0.679745</td><td>&quot;16552322722747…</td><td>&quot;../../../../da…</td><td>&quot;19269595648710…</td><td>&quot;29464956565927…</td><td>&quot;10652901717770…</td><td>false</td></tr><tr><td>1.0</td><td>&quot;38351223768400…</td><td>&quot;../../../../da…</td><td>&quot;11799983601655…</td><td>&quot;95499880837905…</td><td>&quot;10652901717770…</td><td>false</td></tr><tr><td>0.718982</td><td>&quot;10130355283249…</td><td>&quot;../../../../da…</td><td>&quot;46914510581565…</td><td>&quot;95499880837905…</td><td>&quot;76236776619674…</td><td>true</td></tr><tr><td>0.0</td><td>&quot;12559652277712…</td><td>&quot;../../../../da…</td><td>&quot;19269595648710…</td><td>&quot;51482922100770…</td><td>null</td><td>false</td></tr><tr><td>0.02333</td><td>&quot;10015021219472…</td><td>&quot;../../../../da…</td><td>&quot;19269595648710…</td><td>&quot;95499880837905…</td><td>&quot;76236776619674…</td><td>false</td></tr></tbody></table></div>"
      ],
      "text/plain": [
       "shape: (7, 7)\n",
       "┌─────────────┬──────────────┬─────────────┬─────────────┬─────────────┬─────────────┬─────────────┐\n",
       "│ PREDICTOR_0 ┆ PREDICTOR_1  ┆ filename    ┆ PREDICTOR_3 ┆ Context_Nam ┆ IH_PREDICTO ┆ Decision_Ou │\n",
       "│ ---         ┆ ---          ┆ ---         ┆ ---         ┆ e           ┆ R_0         ┆ tcome       │\n",
       "│ f64         ┆ str          ┆ str         ┆ str         ┆ ---         ┆ ---         ┆ ---         │\n",
       "│             ┆              ┆             ┆             ┆ str         ┆ str         ┆ bool        │\n",
       "╞═════════════╪══════════════╪═════════════╪═════════════╪═════════════╪═════════════╪═════════════╡\n",
       "│ 0.983033    ┆ 516897628468 ┆ ../../../.. ┆ 46914510581 ┆ 12431689806 ┆ 10652901717 ┆ false       │\n",
       "│             ┆ 0723730      ┆ /data/Sampl ┆ 56558419    ┆ 67168324    ┆ 770881376   ┆             │\n",
       "│             ┆              ┆ eHDS.json   ┆             ┆             ┆             ┆             │\n",
       "│ 0.144221    ┆ 164611334205 ┆ ../../../.. ┆ 11799983601 ┆ 12431689806 ┆ 15963704228 ┆ true        │\n",
       "│             ┆ 8216053      ┆ /data/Sampl ┆ 655303365   ┆ 67168324    ┆ 679491803   ┆             │\n",
       "│             ┆              ┆ eHDS.json   ┆             ┆             ┆             ┆             │\n",
       "│ 0.679745    ┆ 165523227227 ┆ ../../../.. ┆ 19269595648 ┆ 29464956565 ┆ 10652901717 ┆ false       │\n",
       "│             ┆ 47078485     ┆ /data/Sampl ┆ 71041474    ┆ 92707565    ┆ 770881376   ┆             │\n",
       "│             ┆              ┆ eHDS.json   ┆             ┆             ┆             ┆             │\n",
       "│ 1.0         ┆ 383512237684 ┆ ../../../.. ┆ 11799983601 ┆ 95499880837 ┆ 10652901717 ┆ false       │\n",
       "│             ┆ 0076731      ┆ /data/Sampl ┆ 655303365   ┆ 90542327    ┆ 770881376   ┆             │\n",
       "│             ┆              ┆ eHDS.json   ┆             ┆             ┆             ┆             │\n",
       "│ 0.718982    ┆ 101303552832 ┆ ../../../.. ┆ 46914510581 ┆ 95499880837 ┆ 76236776619 ┆ true        │\n",
       "│             ┆ 49895363     ┆ /data/Sampl ┆ 56558419    ┆ 90542327    ┆ 6748341     ┆             │\n",
       "│             ┆              ┆ eHDS.json   ┆             ┆             ┆             ┆             │\n",
       "│ 0.0         ┆ 125596522777 ┆ ../../../.. ┆ 19269595648 ┆ 51482922100 ┆ null        ┆ false       │\n",
       "│             ┆ 1233957      ┆ /data/Sampl ┆ 71041474    ┆ 77092694    ┆             ┆             │\n",
       "│             ┆              ┆ eHDS.json   ┆             ┆             ┆             ┆             │\n",
       "│ 0.02333     ┆ 100150212194 ┆ ../../../.. ┆ 19269595648 ┆ 95499880837 ┆ 76236776619 ┆ false       │\n",
       "│             ┆ 72417879     ┆ /data/Sampl ┆ 71041474    ┆ 90542327    ┆ 6748341     ┆             │\n",
       "│             ┆              ┆ eHDS.json   ┆             ┆             ┆             ┆             │\n",
       "└─────────────┴──────────────┴─────────────┴─────────────┴─────────────┴─────────────┴─────────────┘"
      ]
     },
     "execution_count": 5,
     "metadata": {},
     "output_type": "execute_result"
    }
   ],
   "source": [
    "anon.process()"
   ]
  },
  {
   "attachments": {},
   "cell_type": "markdown",
   "metadata": {},
   "source": [
    "To trace back the columns to their original names, the class also contains a mapping, which does not have to be provided."
   ]
  },
  {
   "cell_type": "code",
   "execution_count": 6,
   "metadata": {
    "execution": {
     "iopub.execute_input": "2024-03-06T15:32:33.438649Z",
     "iopub.status.busy": "2024-03-06T15:32:33.438483Z",
     "iopub.status.idle": "2024-03-06T15:32:33.442190Z",
     "shell.execute_reply": "2024-03-06T15:32:33.441642Z"
    }
   },
   "outputs": [
    {
     "data": {
      "text/plain": [
       "{'Customer_CLV': 'PREDICTOR_0',\n",
       " 'Customer_City': 'PREDICTOR_1',\n",
       " 'filename': 'filename',\n",
       " 'Customer_MaritalStatus': 'PREDICTOR_3',\n",
       " 'Context_Name': 'Context_Name',\n",
       " 'IH_Web_Inbound_Accepted_pxLastGroupID': 'IH_PREDICTOR_0',\n",
       " 'Decision_Outcome': 'Decision_Outcome'}"
      ]
     },
     "execution_count": 6,
     "metadata": {},
     "output_type": "execute_result"
    }
   ],
   "source": [
    "anon.column_mapping"
   ]
  },
  {
   "attachments": {},
   "cell_type": "markdown",
   "metadata": {},
   "source": [
    "## Configs\n",
    "\n",
    "Each capability can optionally be turned off - see below for the full list of config options, and refer to the API reference for the full description."
   ]
  },
  {
   "cell_type": "code",
   "execution_count": 7,
   "metadata": {
    "execution": {
     "iopub.execute_input": "2024-03-06T15:32:33.444164Z",
     "iopub.status.busy": "2024-03-06T15:32:33.443803Z",
     "iopub.status.idle": "2024-03-06T15:32:33.447964Z",
     "shell.execute_reply": "2024-03-06T15:32:33.447426Z"
    }
   },
   "outputs": [
    {
     "data": {
      "text/plain": [
       "{'config_file': None,\n",
       " 'hds_folder': '.',\n",
       " 'use_datamart': False,\n",
       " 'datamart_folder': 'datamart',\n",
       " 'output_format': 'ndjson',\n",
       " 'output_folder': 'output',\n",
       " 'mapping_file': 'mapping.map',\n",
       " 'mask_predictor_names': True,\n",
       " 'mask_context_key_names': False,\n",
       " 'mask_ih_names': True,\n",
       " 'mask_outcome_name': False,\n",
       " 'mask_predictor_values': True,\n",
       " 'mask_context_key_values': True,\n",
       " 'mask_ih_values': True,\n",
       " 'mask_outcome_values': True,\n",
       " 'context_key_label': 'Context_*',\n",
       " 'ih_label': 'IH_*',\n",
       " 'outcome_column': 'Decision_Outcome',\n",
       " 'positive_outcomes': ['Accepted', 'Clicked'],\n",
       " 'negative_outcomes': ['Rejected', 'Impression'],\n",
       " 'special_predictors': ['Decision_DecisionTime',\n",
       "  'Decision_OutcomeTime',\n",
       "  'Decision_Rank'],\n",
       " 'sample_percentage_schema_inferencing': 0.01}"
      ]
     },
     "execution_count": 7,
     "metadata": {},
     "output_type": "execute_result"
    }
   ],
   "source": [
    "dict(zip(Config.__init__.__code__.co_varnames[1:], Config.__init__.__defaults__))"
   ]
  },
  {
   "attachments": {},
   "cell_type": "markdown",
   "metadata": {},
   "source": [
    "It's easy to change these parameters by just passing the keyword arguments. In the following example, we\n",
    "- Keep the IH predictor names\n",
    "- Keep the outcome values\n",
    "- Keep the context key values\n",
    "- Keep the context key predictor names"
   ]
  },
  {
   "cell_type": "code",
   "execution_count": 8,
   "metadata": {
    "execution": {
     "iopub.execute_input": "2024-03-06T15:32:33.449988Z",
     "iopub.status.busy": "2024-03-06T15:32:33.449609Z",
     "iopub.status.idle": "2024-03-06T15:32:33.457203Z",
     "shell.execute_reply": "2024-03-06T15:32:33.456733Z"
    }
   },
   "outputs": [
    {
     "data": {
      "text/html": [
       "<div><style>\n",
       ".dataframe > thead > tr,\n",
       ".dataframe > tbody > tr {\n",
       "  text-align: right;\n",
       "  white-space: pre-wrap;\n",
       "}\n",
       "</style>\n",
       "<small>shape: (7, 7)</small><table border=\"1\" class=\"dataframe\"><thead><tr><th>PREDICTOR_0</th><th>PREDICTOR_1</th><th>filename</th><th>PREDICTOR_3</th><th>Context_Name</th><th>IH_Web_Inbound_Accepted_pxLastGroupID</th><th>Decision_Outcome</th></tr><tr><td>f64</td><td>str</td><td>str</td><td>str</td><td>str</td><td>str</td><td>str</td></tr></thead><tbody><tr><td>0.983033</td><td>&quot;47804597050427…</td><td>&quot;../../../../da…</td><td>&quot;43383010512446…</td><td>&quot;FirstMortgage3…</td><td>&quot;30235165729645…</td><td>&quot;Rejected&quot;</td></tr><tr><td>0.144221</td><td>&quot;25511619055644…</td><td>&quot;../../../../da…</td><td>&quot;18111356444332…</td><td>&quot;FirstMortgage3…</td><td>&quot;58252810053289…</td><td>&quot;Accepted&quot;</td></tr><tr><td>0.679745</td><td>&quot;72491287899039…</td><td>&quot;../../../../da…</td><td>&quot;69703925040601…</td><td>&quot;MoneyMarketSav…</td><td>&quot;30235165729645…</td><td>&quot;Rejected&quot;</td></tr><tr><td>1.0</td><td>&quot;11115734777272…</td><td>&quot;../../../../da…</td><td>&quot;18111356444332…</td><td>&quot;BasicChecking&quot;</td><td>&quot;30235165729645…</td><td>&quot;Rejected&quot;</td></tr><tr><td>0.718982</td><td>&quot;10656945577576…</td><td>&quot;../../../../da…</td><td>&quot;43383010512446…</td><td>&quot;BasicChecking&quot;</td><td>&quot;16398051003644…</td><td>&quot;Accepted&quot;</td></tr><tr><td>0.0</td><td>&quot;68345507509995…</td><td>&quot;../../../../da…</td><td>&quot;69703925040601…</td><td>&quot;UPlusFinPerson…</td><td>null</td><td>&quot;Rejected&quot;</td></tr><tr><td>0.02333</td><td>&quot;17736169361314…</td><td>&quot;../../../../da…</td><td>&quot;69703925040601…</td><td>&quot;BasicChecking&quot;</td><td>&quot;16398051003644…</td><td>&quot;Rejected&quot;</td></tr></tbody></table></div>"
      ],
      "text/plain": [
       "shape: (7, 7)\n",
       "┌─────────────┬──────────────┬─────────────┬─────────────┬─────────────┬─────────────┬─────────────┐\n",
       "│ PREDICTOR_0 ┆ PREDICTOR_1  ┆ filename    ┆ PREDICTOR_3 ┆ Context_Nam ┆ IH_Web_Inbo ┆ Decision_Ou │\n",
       "│ ---         ┆ ---          ┆ ---         ┆ ---         ┆ e           ┆ und_Accepte ┆ tcome       │\n",
       "│ f64         ┆ str          ┆ str         ┆ str         ┆ ---         ┆ d_pxLastGr… ┆ ---         │\n",
       "│             ┆              ┆             ┆             ┆ str         ┆ ---         ┆ str         │\n",
       "│             ┆              ┆             ┆             ┆             ┆ str         ┆             │\n",
       "╞═════════════╪══════════════╪═════════════╪═════════════╪═════════════╪═════════════╪═════════════╡\n",
       "│ 0.983033    ┆ 478045970504 ┆ ../../../.. ┆ 43383010512 ┆ FirstMortga ┆ 30235165729 ┆ Rejected    │\n",
       "│             ┆ 2775642      ┆ /data/Sampl ┆ 44687500    ┆ ge30yr      ┆ 64576472    ┆             │\n",
       "│             ┆              ┆ eHDS.json   ┆             ┆             ┆             ┆             │\n",
       "│ 0.144221    ┆ 255116190556 ┆ ../../../.. ┆ 18111356444 ┆ FirstMortga ┆ 58252810053 ┆ Accepted    │\n",
       "│             ┆ 4439774      ┆ /data/Sampl ┆ 332056666   ┆ ge30yr      ┆ 28930817    ┆             │\n",
       "│             ┆              ┆ eHDS.json   ┆             ┆             ┆             ┆             │\n",
       "│ 0.679745    ┆ 724912878990 ┆ ../../../.. ┆ 69703925040 ┆ MoneyMarket ┆ 30235165729 ┆ Rejected    │\n",
       "│             ┆ 3910615      ┆ /data/Sampl ┆ 60131760    ┆ SavingsAcco ┆ 64576472    ┆             │\n",
       "│             ┆              ┆ eHDS.json   ┆             ┆ unt         ┆             ┆             │\n",
       "│ 1.0         ┆ 111157347772 ┆ ../../../.. ┆ 18111356444 ┆ BasicChecki ┆ 30235165729 ┆ Rejected    │\n",
       "│             ┆ 72821791     ┆ /data/Sampl ┆ 332056666   ┆ ng          ┆ 64576472    ┆             │\n",
       "│             ┆              ┆ eHDS.json   ┆             ┆             ┆             ┆             │\n",
       "│ 0.718982    ┆ 106569455775 ┆ ../../../.. ┆ 43383010512 ┆ BasicChecki ┆ 16398051003 ┆ Accepted    │\n",
       "│             ┆ 7652273      ┆ /data/Sampl ┆ 44687500    ┆ ng          ┆ 644652953   ┆             │\n",
       "│             ┆              ┆ eHDS.json   ┆             ┆             ┆             ┆             │\n",
       "│ 0.0         ┆ 683455075099 ┆ ../../../.. ┆ 69703925040 ┆ UPlusFinPer ┆ null        ┆ Rejected    │\n",
       "│             ┆ 9585369      ┆ /data/Sampl ┆ 60131760    ┆ sonal       ┆             ┆             │\n",
       "│             ┆              ┆ eHDS.json   ┆             ┆             ┆             ┆             │\n",
       "│ 0.02333     ┆ 177361693613 ┆ ../../../.. ┆ 69703925040 ┆ BasicChecki ┆ 16398051003 ┆ Rejected    │\n",
       "│             ┆ 14246640     ┆ /data/Sampl ┆ 60131760    ┆ ng          ┆ 644652953   ┆             │\n",
       "│             ┆              ┆ eHDS.json   ┆             ┆             ┆             ┆             │\n",
       "└─────────────┴──────────────┴─────────────┴─────────────┴─────────────┴─────────────┴─────────────┘"
      ]
     },
     "execution_count": 8,
     "metadata": {},
     "output_type": "execute_result"
    }
   ],
   "source": [
    "anon = DataAnonymization(\n",
    "    hds_folder=\"../../../../data/\",\n",
    "    mask_ih_names=False,\n",
    "    mask_outcome_values=False,\n",
    "    mask_context_key_values=False,\n",
    "    mask_context_key_names=False,\n",
    ")\n",
    "anon.process()\n"
   ]
  },
  {
   "attachments": {},
   "cell_type": "markdown",
   "metadata": {},
   "source": [
    "The configs can also be written and read as such:"
   ]
  },
  {
   "cell_type": "code",
   "execution_count": 9,
   "metadata": {
    "execution": {
     "iopub.execute_input": "2024-03-06T15:32:33.459257Z",
     "iopub.status.busy": "2024-03-06T15:32:33.458872Z",
     "iopub.status.idle": "2024-03-06T15:32:33.461685Z",
     "shell.execute_reply": "2024-03-06T15:32:33.461152Z"
    }
   },
   "outputs": [],
   "source": [
    "anon.config.save_to_config_file('config.json')"
   ]
  },
  {
   "cell_type": "code",
   "execution_count": 10,
   "metadata": {
    "execution": {
     "iopub.execute_input": "2024-03-06T15:32:33.463907Z",
     "iopub.status.busy": "2024-03-06T15:32:33.463471Z",
     "iopub.status.idle": "2024-03-06T15:32:33.470928Z",
     "shell.execute_reply": "2024-03-06T15:32:33.470513Z"
    }
   },
   "outputs": [
    {
     "data": {
      "text/html": [
       "<div><style>\n",
       ".dataframe > thead > tr,\n",
       ".dataframe > tbody > tr {\n",
       "  text-align: right;\n",
       "  white-space: pre-wrap;\n",
       "}\n",
       "</style>\n",
       "<small>shape: (7, 7)</small><table border=\"1\" class=\"dataframe\"><thead><tr><th>PREDICTOR_0</th><th>PREDICTOR_1</th><th>filename</th><th>PREDICTOR_3</th><th>Context_Name</th><th>IH_Web_Inbound_Accepted_pxLastGroupID</th><th>Decision_Outcome</th></tr><tr><td>f64</td><td>str</td><td>str</td><td>str</td><td>str</td><td>str</td><td>str</td></tr></thead><tbody><tr><td>0.983033</td><td>&quot;55275336157785…</td><td>&quot;../../../../da…</td><td>&quot;27438793365700…</td><td>&quot;FirstMortgage3…</td><td>&quot;11233431760178…</td><td>&quot;Rejected&quot;</td></tr><tr><td>0.144221</td><td>&quot;18068626945197…</td><td>&quot;../../../../da…</td><td>&quot;12490735866104…</td><td>&quot;FirstMortgage3…</td><td>&quot;17569376679061…</td><td>&quot;Accepted&quot;</td></tr><tr><td>0.679745</td><td>&quot;55679736956947…</td><td>&quot;../../../../da…</td><td>&quot;20505000020823…</td><td>&quot;MoneyMarketSav…</td><td>&quot;11233431760178…</td><td>&quot;Rejected&quot;</td></tr><tr><td>1.0</td><td>&quot;16753445405249…</td><td>&quot;../../../../da…</td><td>&quot;12490735866104…</td><td>&quot;BasicChecking&quot;</td><td>&quot;11233431760178…</td><td>&quot;Rejected&quot;</td></tr><tr><td>0.718982</td><td>&quot;99878691141373…</td><td>&quot;../../../../da…</td><td>&quot;27438793365700…</td><td>&quot;BasicChecking&quot;</td><td>&quot;75678176368550…</td><td>&quot;Accepted&quot;</td></tr><tr><td>0.0</td><td>&quot;67100959078903…</td><td>&quot;../../../../da…</td><td>&quot;20505000020823…</td><td>&quot;UPlusFinPerson…</td><td>null</td><td>&quot;Rejected&quot;</td></tr><tr><td>0.02333</td><td>&quot;15822011144874…</td><td>&quot;../../../../da…</td><td>&quot;20505000020823…</td><td>&quot;BasicChecking&quot;</td><td>&quot;75678176368550…</td><td>&quot;Rejected&quot;</td></tr></tbody></table></div>"
      ],
      "text/plain": [
       "shape: (7, 7)\n",
       "┌─────────────┬──────────────┬─────────────┬─────────────┬─────────────┬─────────────┬─────────────┐\n",
       "│ PREDICTOR_0 ┆ PREDICTOR_1  ┆ filename    ┆ PREDICTOR_3 ┆ Context_Nam ┆ IH_Web_Inbo ┆ Decision_Ou │\n",
       "│ ---         ┆ ---          ┆ ---         ┆ ---         ┆ e           ┆ und_Accepte ┆ tcome       │\n",
       "│ f64         ┆ str          ┆ str         ┆ str         ┆ ---         ┆ d_pxLastGr… ┆ ---         │\n",
       "│             ┆              ┆             ┆             ┆ str         ┆ ---         ┆ str         │\n",
       "│             ┆              ┆             ┆             ┆             ┆ str         ┆             │\n",
       "╞═════════════╪══════════════╪═════════════╪═════════════╪═════════════╪═════════════╪═════════════╡\n",
       "│ 0.983033    ┆ 552753361577 ┆ ../../../.. ┆ 27438793365 ┆ FirstMortga ┆ 11233431760 ┆ Rejected    │\n",
       "│             ┆ 8547335      ┆ /data/Sampl ┆ 70028252    ┆ ge30yr      ┆ 178933328   ┆             │\n",
       "│             ┆              ┆ eHDS.json   ┆             ┆             ┆             ┆             │\n",
       "│ 0.144221    ┆ 180686269451 ┆ ../../../.. ┆ 12490735866 ┆ FirstMortga ┆ 17569376679 ┆ Accepted    │\n",
       "│             ┆ 97076653     ┆ /data/Sampl ┆ 104066287   ┆ ge30yr      ┆ 061244829   ┆             │\n",
       "│             ┆              ┆ eHDS.json   ┆             ┆             ┆             ┆             │\n",
       "│ 0.679745    ┆ 556797369569 ┆ ../../../.. ┆ 20505000020 ┆ MoneyMarket ┆ 11233431760 ┆ Rejected    │\n",
       "│             ┆ 4723427      ┆ /data/Sampl ┆ 82350890    ┆ SavingsAcco ┆ 178933328   ┆             │\n",
       "│             ┆              ┆ eHDS.json   ┆             ┆ unt         ┆             ┆             │\n",
       "│ 1.0         ┆ 167534454052 ┆ ../../../.. ┆ 12490735866 ┆ BasicChecki ┆ 11233431760 ┆ Rejected    │\n",
       "│             ┆ 49378627     ┆ /data/Sampl ┆ 104066287   ┆ ng          ┆ 178933328   ┆             │\n",
       "│             ┆              ┆ eHDS.json   ┆             ┆             ┆             ┆             │\n",
       "│ 0.718982    ┆ 998786911413 ┆ ../../../.. ┆ 27438793365 ┆ BasicChecki ┆ 75678176368 ┆ Accepted    │\n",
       "│             ┆ 7357484      ┆ /data/Sampl ┆ 70028252    ┆ ng          ┆ 5501410     ┆             │\n",
       "│             ┆              ┆ eHDS.json   ┆             ┆             ┆             ┆             │\n",
       "│ 0.0         ┆ 671009590789 ┆ ../../../.. ┆ 20505000020 ┆ UPlusFinPer ┆ null        ┆ Rejected    │\n",
       "│             ┆ 0364572      ┆ /data/Sampl ┆ 82350890    ┆ sonal       ┆             ┆             │\n",
       "│             ┆              ┆ eHDS.json   ┆             ┆             ┆             ┆             │\n",
       "│ 0.02333     ┆ 158220111448 ┆ ../../../.. ┆ 20505000020 ┆ BasicChecki ┆ 75678176368 ┆ Rejected    │\n",
       "│             ┆ 74014046     ┆ /data/Sampl ┆ 82350890    ┆ ng          ┆ 5501410     ┆             │\n",
       "│             ┆              ┆ eHDS.json   ┆             ┆             ┆             ┆             │\n",
       "└─────────────┴──────────────┴─────────────┴─────────────┴─────────────┴─────────────┴─────────────┘"
      ]
     },
     "execution_count": 10,
     "metadata": {},
     "output_type": "execute_result"
    }
   ],
   "source": [
    "anon = DataAnonymization(config=Config(config_file='config.json'))\n",
    "anon.process()"
   ]
  },
  {
   "attachments": {},
   "cell_type": "markdown",
   "metadata": {},
   "source": [
    "## Exporting\n",
    "Two functions export:\n",
    "- `create_mapping_file()` writes the mapping file of the predictor names\n",
    "- `write_to_output()` writes the processed dataframe to disk\n",
    "\n",
    "Write to output accepts the following extensions: `[\"ndjson\", \"parquet\", \"arrow\", \"csv\"]`"
   ]
  },
  {
   "cell_type": "code",
   "execution_count": 11,
   "metadata": {
    "execution": {
     "iopub.execute_input": "2024-03-06T15:32:33.472888Z",
     "iopub.status.busy": "2024-03-06T15:32:33.472564Z",
     "iopub.status.idle": "2024-03-06T15:32:33.475848Z",
     "shell.execute_reply": "2024-03-06T15:32:33.475418Z"
    }
   },
   "outputs": [
    {
     "name": "stdout",
     "output_type": "stream",
     "text": [
      "Customer_CLV=PREDICTOR_0\n",
      "Customer_City=PREDICTOR_1\n",
      "filename=filename\n",
      "Customer_MaritalStatus=PREDICTOR_3\n",
      "Context_Name=Context_Name\n",
      "IH_Web_Inbound_Accepted_pxLastGroupID=IH_Web_Inbound_Accepted_pxLastGroupID\n",
      "Decision_Outcome=Decision_Outcome\n",
      "\n"
     ]
    }
   ],
   "source": [
    "anon.create_mapping_file()\n",
    "with open('mapping.map') as f:\n",
    "    print(f.read())"
   ]
  },
  {
   "cell_type": "code",
   "execution_count": 12,
   "metadata": {
    "execution": {
     "iopub.execute_input": "2024-03-06T15:32:33.477692Z",
     "iopub.status.busy": "2024-03-06T15:32:33.477529Z",
     "iopub.status.idle": "2024-03-06T15:32:33.480825Z",
     "shell.execute_reply": "2024-03-06T15:32:33.480354Z"
    }
   },
   "outputs": [],
   "source": [
    "anon.write_to_output(ext='arrow')"
   ]
  },
  {
   "cell_type": "code",
   "execution_count": 13,
   "metadata": {
    "execution": {
     "iopub.execute_input": "2024-03-06T15:32:33.482700Z",
     "iopub.status.busy": "2024-03-06T15:32:33.482382Z",
     "iopub.status.idle": "2024-03-06T15:32:33.486687Z",
     "shell.execute_reply": "2024-03-06T15:32:33.486261Z"
    }
   },
   "outputs": [
    {
     "data": {
      "text/html": [
       "<div><style>\n",
       ".dataframe > thead > tr,\n",
       ".dataframe > tbody > tr {\n",
       "  text-align: right;\n",
       "  white-space: pre-wrap;\n",
       "}\n",
       "</style>\n",
       "<small>shape: (7, 6)</small><table border=\"1\" class=\"dataframe\"><thead><tr><th>PREDICTOR_0</th><th>PREDICTOR_1</th><th>PREDICTOR_3</th><th>Context_Name</th><th>IH_Web_Inbound_Accepted_pxLastGroupID</th><th>Decision_Outcome</th></tr><tr><td>f64</td><td>str</td><td>str</td><td>str</td><td>str</td><td>str</td></tr></thead><tbody><tr><td>0.983033</td><td>&quot;77756542000237…</td><td>&quot;36963874105424…</td><td>&quot;FirstMortgage3…</td><td>&quot;14759446273646…</td><td>&quot;Rejected&quot;</td></tr><tr><td>0.144221</td><td>&quot;14904694988890…</td><td>&quot;10425066542624…</td><td>&quot;FirstMortgage3…</td><td>&quot;44974785123927…</td><td>&quot;Accepted&quot;</td></tr><tr><td>0.679745</td><td>&quot;17488650101433…</td><td>&quot;98609686112332…</td><td>&quot;MoneyMarketSav…</td><td>&quot;14759446273646…</td><td>&quot;Rejected&quot;</td></tr><tr><td>1.0</td><td>&quot;88606182586366…</td><td>&quot;10425066542624…</td><td>&quot;BasicChecking&quot;</td><td>&quot;14759446273646…</td><td>&quot;Rejected&quot;</td></tr><tr><td>0.718982</td><td>&quot;11551178982123…</td><td>&quot;36963874105424…</td><td>&quot;BasicChecking&quot;</td><td>&quot;16419610527577…</td><td>&quot;Accepted&quot;</td></tr><tr><td>0.0</td><td>&quot;60739378476500…</td><td>&quot;98609686112332…</td><td>&quot;UPlusFinPerson…</td><td>null</td><td>&quot;Rejected&quot;</td></tr><tr><td>0.02333</td><td>&quot;60484834357487…</td><td>&quot;98609686112332…</td><td>&quot;BasicChecking&quot;</td><td>&quot;16419610527577…</td><td>&quot;Rejected&quot;</td></tr></tbody></table></div>"
      ],
      "text/plain": [
       "shape: (7, 6)\n",
       "┌─────────────┬────────────────┬────────────────┬────────────────┬────────────────┬────────────────┐\n",
       "│ PREDICTOR_0 ┆ PREDICTOR_1    ┆ PREDICTOR_3    ┆ Context_Name   ┆ IH_Web_Inbound ┆ Decision_Outco │\n",
       "│ ---         ┆ ---            ┆ ---            ┆ ---            ┆ _Accepted_pxLa ┆ me             │\n",
       "│ f64         ┆ str            ┆ str            ┆ str            ┆ stGr…          ┆ ---            │\n",
       "│             ┆                ┆                ┆                ┆ ---            ┆ str            │\n",
       "│             ┆                ┆                ┆                ┆ str            ┆                │\n",
       "╞═════════════╪════════════════╪════════════════╪════════════════╪════════════════╪════════════════╡\n",
       "│ 0.983033    ┆ 77756542000237 ┆ 36963874105424 ┆ FirstMortgage3 ┆ 14759446273646 ┆ Rejected       │\n",
       "│             ┆ 50112          ┆ 91045          ┆ 0yr            ┆ 980168         ┆                │\n",
       "│ 0.144221    ┆ 14904694988890 ┆ 10425066542624 ┆ FirstMortgage3 ┆ 44974785123927 ┆ Accepted       │\n",
       "│             ┆ 033799         ┆ 192094         ┆ 0yr            ┆ 25211          ┆                │\n",
       "│ 0.679745    ┆ 17488650101433 ┆ 98609686112332 ┆ MoneyMarketSav ┆ 14759446273646 ┆ Rejected       │\n",
       "│             ┆ 655776         ┆ 21607          ┆ ingsAccount    ┆ 980168         ┆                │\n",
       "│ 1.0         ┆ 88606182586366 ┆ 10425066542624 ┆ BasicChecking  ┆ 14759446273646 ┆ Rejected       │\n",
       "│             ┆ 58630          ┆ 192094         ┆                ┆ 980168         ┆                │\n",
       "│ 0.718982    ┆ 11551178982123 ┆ 36963874105424 ┆ BasicChecking  ┆ 16419610527577 ┆ Accepted       │\n",
       "│             ┆ 534879         ┆ 91045          ┆                ┆ 798841         ┆                │\n",
       "│ 0.0         ┆ 60739378476500 ┆ 98609686112332 ┆ UPlusFinPerson ┆ null           ┆ Rejected       │\n",
       "│             ┆ 99987          ┆ 21607          ┆ al             ┆                ┆                │\n",
       "│ 0.02333     ┆ 60484834357487 ┆ 98609686112332 ┆ BasicChecking  ┆ 16419610527577 ┆ Rejected       │\n",
       "│             ┆ 12476          ┆ 21607          ┆                ┆ 798841         ┆                │\n",
       "└─────────────┴────────────────┴────────────────┴────────────────┴────────────────┴────────────────┘"
      ]
     },
     "execution_count": 13,
     "metadata": {},
     "output_type": "execute_result"
    }
   ],
   "source": [
    "pl.read_ipc('output/hds.arrow')"
   ]
  },
  {
   "attachments": {},
   "cell_type": "markdown",
   "metadata": {
    "nbsphinx": "hidden"
   },
   "source": [
    "## Advanced: Hash fuctions\n",
    "\n",
    "By default, we use [the same hashing algorithm Polars](https://pola-rs.github.io/polars/py-polars/html/reference/expressions/api/polars.Expr.hash.html#polars.Expr.hash) uses: [xxhash](https://github.com/Cyan4973/xxHash), as implemented [here](https://github.com/pola-rs/polars/blob/3f287f370b3c388ed2f3f218b2c096382548136f/polars/polars-core/src/vector_hasher.rs#L266). xxhash is fast to compute, and you can check its performance in collision, dispersion and randomness [here](https://github.com/Cyan4973/xxHash/tree/dev/tests). \n",
    "\n",
    "xxhash accepts four distinct seeds, but by default we set the seeds to `0`. It is possible to set the `seed` argument of the `process()` function to `'random'`, which will set all four seeds to a random integer between `0` and `1000000000`. Alternatively, it is possible to supply the four seeds manually with arguments `seed`, `seed_1`, `seed_2` and `seed_3`. \n",
    "\n",
    "If the xxhash with (random) seed(s) is not deemed sufficiently secure, it is possible to use your own hashing algorithm.\n",
    "\n",
    "Note that since we're now running python code and not native Polars code anymore, this will be _significantly_ slower. Nonetheless, it is possible.\n",
    "\n",
    "Just as an example - this is how one would use sha3_256:"
   ]
  },
  {
   "cell_type": "code",
   "execution_count": 14,
   "metadata": {
    "execution": {
     "iopub.execute_input": "2024-03-06T15:32:33.488685Z",
     "iopub.status.busy": "2024-03-06T15:32:33.488253Z",
     "iopub.status.idle": "2024-03-06T15:32:33.495146Z",
     "shell.execute_reply": "2024-03-06T15:32:33.494733Z"
    },
    "nbsphinx": "hidden"
   },
   "outputs": [
    {
     "data": {
      "text/html": [
       "<div><style>\n",
       ".dataframe > thead > tr,\n",
       ".dataframe > tbody > tr {\n",
       "  text-align: right;\n",
       "  white-space: pre-wrap;\n",
       "}\n",
       "</style>\n",
       "<small>shape: (7, 7)</small><table border=\"1\" class=\"dataframe\"><thead><tr><th>PREDICTOR_0</th><th>PREDICTOR_1</th><th>filename</th><th>PREDICTOR_3</th><th>Context_Name</th><th>IH_Web_Inbound_Accepted_pxLastGroupID</th><th>Decision_Outcome</th></tr><tr><td>f64</td><td>str</td><td>str</td><td>str</td><td>str</td><td>str</td><td>str</td></tr></thead><tbody><tr><td>0.983033</td><td>&quot;c73023dda51de1…</td><td>&quot;../../../../da…</td><td>&quot;af486bc1815c72…</td><td>&quot;FirstMortgage3…</td><td>&quot;2513d0e24d8d02…</td><td>&quot;Rejected&quot;</td></tr><tr><td>0.144221</td><td>&quot;5414b197fb87b3…</td><td>&quot;../../../../da…</td><td>&quot;3cdf7b1ae1342e…</td><td>&quot;FirstMortgage3…</td><td>&quot;8b55bf62fc2ecd…</td><td>&quot;Accepted&quot;</td></tr><tr><td>0.679745</td><td>&quot;892f5d61a9215e…</td><td>&quot;../../../../da…</td><td>&quot;806ef34eb8237f…</td><td>&quot;MoneyMarketSav…</td><td>&quot;2513d0e24d8d02…</td><td>&quot;Rejected&quot;</td></tr><tr><td>1.0</td><td>&quot;c3aa807d9e927a…</td><td>&quot;../../../../da…</td><td>&quot;3cdf7b1ae1342e…</td><td>&quot;BasicChecking&quot;</td><td>&quot;2513d0e24d8d02…</td><td>&quot;Rejected&quot;</td></tr><tr><td>0.718982</td><td>&quot;c2d492f9a05073…</td><td>&quot;../../../../da…</td><td>&quot;af486bc1815c72…</td><td>&quot;BasicChecking&quot;</td><td>&quot;1cd082ecbd5dd9…</td><td>&quot;Accepted&quot;</td></tr><tr><td>0.0</td><td>&quot;b21059221605c4…</td><td>&quot;../../../../da…</td><td>&quot;806ef34eb8237f…</td><td>&quot;UPlusFinPerson…</td><td>null</td><td>&quot;Rejected&quot;</td></tr><tr><td>0.02333</td><td>&quot;80cbe489dcecd4…</td><td>&quot;../../../../da…</td><td>&quot;806ef34eb8237f…</td><td>&quot;BasicChecking&quot;</td><td>&quot;1cd082ecbd5dd9…</td><td>&quot;Rejected&quot;</td></tr></tbody></table></div>"
      ],
      "text/plain": [
       "shape: (7, 7)\n",
       "┌─────────────┬──────────────┬─────────────┬─────────────┬─────────────┬─────────────┬─────────────┐\n",
       "│ PREDICTOR_0 ┆ PREDICTOR_1  ┆ filename    ┆ PREDICTOR_3 ┆ Context_Nam ┆ IH_Web_Inbo ┆ Decision_Ou │\n",
       "│ ---         ┆ ---          ┆ ---         ┆ ---         ┆ e           ┆ und_Accepte ┆ tcome       │\n",
       "│ f64         ┆ str          ┆ str         ┆ str         ┆ ---         ┆ d_pxLastGr… ┆ ---         │\n",
       "│             ┆              ┆             ┆             ┆ str         ┆ ---         ┆ str         │\n",
       "│             ┆              ┆             ┆             ┆             ┆ str         ┆             │\n",
       "╞═════════════╪══════════════╪═════════════╪═════════════╪═════════════╪═════════════╪═════════════╡\n",
       "│ 0.983033    ┆ c73023dda51d ┆ ../../../.. ┆ af486bc1815 ┆ FirstMortga ┆ 2513d0e24d8 ┆ Rejected    │\n",
       "│             ┆ e1b84f7af774 ┆ /data/Sampl ┆ c726c357890 ┆ ge30yr      ┆ d0214eda4fb ┆             │\n",
       "│             ┆ fd6f8c73…    ┆ eHDS.json   ┆ ac2a40ba98… ┆             ┆ 454447162b… ┆             │\n",
       "│ 0.144221    ┆ 5414b197fb87 ┆ ../../../.. ┆ 3cdf7b1ae13 ┆ FirstMortga ┆ 8b55bf62fc2 ┆ Accepted    │\n",
       "│             ┆ b3f2e350d7a7 ┆ /data/Sampl ┆ 42ef979ea2a ┆ ge30yr      ┆ ecd16af97d4 ┆             │\n",
       "│             ┆ 4a840a81…    ┆ eHDS.json   ┆ 782541ad05… ┆             ┆ 8e469362cf… ┆             │\n",
       "│ 0.679745    ┆ 892f5d61a921 ┆ ../../../.. ┆ 806ef34eb82 ┆ MoneyMarket ┆ 2513d0e24d8 ┆ Rejected    │\n",
       "│             ┆ 5ef985f3fa29 ┆ /data/Sampl ┆ 37f4db85004 ┆ SavingsAcco ┆ d0214eda4fb ┆             │\n",
       "│             ┆ 3d51c92e…    ┆ eHDS.json   ┆ e96dc471d8… ┆ unt         ┆ 454447162b… ┆             │\n",
       "│ 1.0         ┆ c3aa807d9e92 ┆ ../../../.. ┆ 3cdf7b1ae13 ┆ BasicChecki ┆ 2513d0e24d8 ┆ Rejected    │\n",
       "│             ┆ 7ae426a89e76 ┆ /data/Sampl ┆ 42ef979ea2a ┆ ng          ┆ d0214eda4fb ┆             │\n",
       "│             ┆ a12b9160…    ┆ eHDS.json   ┆ 782541ad05… ┆             ┆ 454447162b… ┆             │\n",
       "│ 0.718982    ┆ c2d492f9a050 ┆ ../../../.. ┆ af486bc1815 ┆ BasicChecki ┆ 1cd082ecbd5 ┆ Accepted    │\n",
       "│             ┆ 7327c14285e9 ┆ /data/Sampl ┆ c726c357890 ┆ ng          ┆ dd95383b104 ┆             │\n",
       "│             ┆ 4e8ee54c…    ┆ eHDS.json   ┆ ac2a40ba98… ┆             ┆ 65e395c1f7… ┆             │\n",
       "│ 0.0         ┆ b21059221605 ┆ ../../../.. ┆ 806ef34eb82 ┆ UPlusFinPer ┆ null        ┆ Rejected    │\n",
       "│             ┆ c49757cfe0fe ┆ /data/Sampl ┆ 37f4db85004 ┆ sonal       ┆             ┆             │\n",
       "│             ┆ e45640db…    ┆ eHDS.json   ┆ e96dc471d8… ┆             ┆             ┆             │\n",
       "│ 0.02333     ┆ 80cbe489dcec ┆ ../../../.. ┆ 806ef34eb82 ┆ BasicChecki ┆ 1cd082ecbd5 ┆ Rejected    │\n",
       "│             ┆ d4b9304898c9 ┆ /data/Sampl ┆ 37f4db85004 ┆ ng          ┆ dd95383b104 ┆             │\n",
       "│             ┆ 986afeeb…    ┆ eHDS.json   ┆ e96dc471d8… ┆             ┆ 65e395c1f7… ┆             │\n",
       "└─────────────┴──────────────┴─────────────┴─────────────┴─────────────┴─────────────┴─────────────┘"
      ]
     },
     "execution_count": 14,
     "metadata": {},
     "output_type": "execute_result"
    }
   ],
   "source": [
    "from hashlib import sha3_256\n",
    "\n",
    "anon.process(algorithm=lambda x: sha3_256(x.encode()).hexdigest())"
   ]
  }
 ],
 "metadata": {
  "kernelspec": {
   "display_name": "Python 3",
   "language": "python",
   "name": "python3"
  },
  "language_info": {
   "codemirror_mode": {
    "name": "ipython",
    "version": 3
   },
   "file_extension": ".py",
   "mimetype": "text/x-python",
   "name": "python",
   "nbconvert_exporter": "python",
   "pygments_lexer": "ipython3",
   "version": "3.11.8"
  },
  "vscode": {
   "interpreter": {
    "hash": "aee8b7b246df8f9039afb4144a1f6fd8d2ca17a180786b69acc140d282b71a49"
   }
  }
 },
 "nbformat": 4,
 "nbformat_minor": 2
}
