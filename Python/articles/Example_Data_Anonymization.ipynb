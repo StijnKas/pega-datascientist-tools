{
 "cells": [
  {
   "attachments": {},
   "cell_type": "markdown",
   "metadata": {},
   "source": [
    "# Example data anonymization\n",
    "\n",
    "In Pega CDH 8.5 and up, it's now possible to record the historical data as seen by the Adaptive Models. See [this academy challenge](https://academy.pega.com/challenge/exporting-historical-data/v4) for reference. This historical data can be further used to experiment with offline models, but also to fine-tune the OOTB Gradient Boosting model. However, sharing this information with Pega can be sensitive as it contains raw predictor data. \n",
    "\n",
    "To this end, we provide a simple and transparent script to fully anonimize this dataset.\n",
    "\n",
    "The DataAnonymization script is now part of pdstools, and you can import it directly as such."
   ]
  },
  {
   "cell_type": "code",
   "execution_count": 1,
   "metadata": {
    "execution": {
     "iopub.execute_input": "2023-11-07T10:44:01.337032Z",
     "iopub.status.busy": "2023-11-07T10:44:01.336669Z",
     "iopub.status.idle": "2023-11-07T10:44:01.437066Z",
     "shell.execute_reply": "2023-11-07T10:44:01.436215Z"
    },
    "nbsphinx": "hidden"
   },
   "outputs": [],
   "source": [
    "# These lines are only for rendering in the docs, and are hidden through Jupyter tags\n",
    "# Do not run if you're running the notebook seperately\n",
    "\n",
    "import os  \n",
    "import sys\n",
    "import plotly.io as pio\n",
    "pio.renderers.default = \"notebook_connected\"\n",
    "\n",
    "sys.path.append(\"../../../\")\n",
    "sys.path.append('../../python')"
   ]
  },
  {
   "cell_type": "code",
   "execution_count": 2,
   "metadata": {
    "execution": {
     "iopub.execute_input": "2023-11-07T10:44:01.440335Z",
     "iopub.status.busy": "2023-11-07T10:44:01.440066Z",
     "iopub.status.idle": "2023-11-07T10:44:02.781134Z",
     "shell.execute_reply": "2023-11-07T10:44:02.780378Z"
    }
   },
   "outputs": [],
   "source": [
    "from pdstools import ADMDatamart\n",
    "from pdstools import Config, DataAnonymization\n",
    "import polars as pl"
   ]
  },
  {
   "attachments": {},
   "cell_type": "markdown",
   "metadata": {},
   "source": [
    "## Input data\n",
    "\n",
    "To demonstrate this process, we're going to anonymise this toy example dataframe:"
   ]
  },
  {
   "cell_type": "code",
   "execution_count": 3,
   "metadata": {
    "execution": {
     "iopub.execute_input": "2023-11-07T10:44:02.784747Z",
     "iopub.status.busy": "2023-11-07T10:44:02.784165Z",
     "iopub.status.idle": "2023-11-07T10:44:02.797961Z",
     "shell.execute_reply": "2023-11-07T10:44:02.797081Z"
    }
   },
   "outputs": [
    {
     "data": {
      "text/html": [
       "<div><style>\n",
       ".dataframe > thead > tr > th,\n",
       ".dataframe > tbody > tr > td {\n",
       "  text-align: right;\n",
       "  white-space: pre-wrap;\n",
       "}\n",
       "</style>\n",
       "<small>shape: (7, 6)</small><table border=\"1\" class=\"dataframe\"><thead><tr><th>Context_Name</th><th>Customer_MaritalStatus</th><th>Customer_CLV</th><th>Customer_City</th><th>IH_Web_Inbound_Accepted_pxLastGroupID</th><th>Decision_Outcome</th></tr><tr><td>str</td><td>str</td><td>i64</td><td>str</td><td>str</td><td>str</td></tr></thead><tbody><tr><td>&quot;FirstMortgage3…</td><td>&quot;Married&quot;</td><td>1460</td><td>&quot;Port Raoul&quot;</td><td>&quot;Account&quot;</td><td>&quot;Rejected&quot;</td></tr><tr><td>&quot;FirstMortgage3…</td><td>&quot;Unknown&quot;</td><td>669</td><td>&quot;Laurianneshire…</td><td>&quot;AutoLoans&quot;</td><td>&quot;Accepted&quot;</td></tr><tr><td>&quot;MoneyMarketSav…</td><td>&quot;No Resp+&quot;</td><td>1174</td><td>&quot;Jacobshaven&quot;</td><td>&quot;Account&quot;</td><td>&quot;Rejected&quot;</td></tr><tr><td>&quot;BasicChecking&quot;</td><td>&quot;Unknown&quot;</td><td>1476</td><td>&quot;Lindton&quot;</td><td>&quot;Account&quot;</td><td>&quot;Rejected&quot;</td></tr><tr><td>&quot;BasicChecking&quot;</td><td>&quot;Married&quot;</td><td>1211</td><td>&quot;South Jimmiesh…</td><td>&quot;DepositAccount…</td><td>&quot;Accepted&quot;</td></tr><tr><td>&quot;UPlusFinPerson…</td><td>&quot;No Resp+&quot;</td><td>533</td><td>&quot;Bergeville&quot;</td><td>null</td><td>&quot;Rejected&quot;</td></tr><tr><td>&quot;BasicChecking&quot;</td><td>&quot;No Resp+&quot;</td><td>555</td><td>&quot;Willyville&quot;</td><td>&quot;DepositAccount…</td><td>&quot;Rejected&quot;</td></tr></tbody></table></div>"
      ],
      "text/plain": [
       "shape: (7, 6)\n",
       "┌────────────────┬────────────────┬──────────────┬────────────────┬────────────────┬───────────────┐\n",
       "│ Context_Name   ┆ Customer_Marit ┆ Customer_CLV ┆ Customer_City  ┆ IH_Web_Inbound ┆ Decision_Outc │\n",
       "│ ---            ┆ alStatus       ┆ ---          ┆ ---            ┆ _Accepted_pxLa ┆ ome           │\n",
       "│ str            ┆ ---            ┆ i64          ┆ str            ┆ stGr…          ┆ ---           │\n",
       "│                ┆ str            ┆              ┆                ┆ ---            ┆ str           │\n",
       "│                ┆                ┆              ┆                ┆ str            ┆               │\n",
       "╞════════════════╪════════════════╪══════════════╪════════════════╪════════════════╪═══════════════╡\n",
       "│ FirstMortgage3 ┆ Married        ┆ 1460         ┆ Port Raoul     ┆ Account        ┆ Rejected      │\n",
       "│ 0yr            ┆                ┆              ┆                ┆                ┆               │\n",
       "│ FirstMortgage3 ┆ Unknown        ┆ 669          ┆ Laurianneshire ┆ AutoLoans      ┆ Accepted      │\n",
       "│ 0yr            ┆                ┆              ┆                ┆                ┆               │\n",
       "│ MoneyMarketSav ┆ No Resp+       ┆ 1174         ┆ Jacobshaven    ┆ Account        ┆ Rejected      │\n",
       "│ ingsAccount    ┆                ┆              ┆                ┆                ┆               │\n",
       "│ BasicChecking  ┆ Unknown        ┆ 1476         ┆ Lindton        ┆ Account        ┆ Rejected      │\n",
       "│ BasicChecking  ┆ Married        ┆ 1211         ┆ South          ┆ DepositAccount ┆ Accepted      │\n",
       "│                ┆                ┆              ┆ Jimmieshire    ┆ s              ┆               │\n",
       "│ UPlusFinPerson ┆ No Resp+       ┆ 533          ┆ Bergeville     ┆ null           ┆ Rejected      │\n",
       "│ al             ┆                ┆              ┆                ┆                ┆               │\n",
       "│ BasicChecking  ┆ No Resp+       ┆ 555          ┆ Willyville     ┆ DepositAccount ┆ Rejected      │\n",
       "│                ┆                ┆              ┆                ┆ s              ┆               │\n",
       "└────────────────┴────────────────┴──────────────┴────────────────┴────────────────┴───────────────┘"
      ]
     },
     "execution_count": 3,
     "metadata": {},
     "output_type": "execute_result"
    }
   ],
   "source": [
    "pl.read_ndjson('../../../../data/SampleHDS.json')"
   ]
  },
  {
   "attachments": {},
   "cell_type": "markdown",
   "metadata": {},
   "source": [
    "As you can see, this dataset consists of regular predictors, IH predictors, context keys and the outcome column. Additionally, some columns are numeric, others are strings. Let's first initialize the DataAnonymization class."
   ]
  },
  {
   "cell_type": "code",
   "execution_count": 4,
   "metadata": {
    "execution": {
     "iopub.execute_input": "2023-11-07T10:44:02.800944Z",
     "iopub.status.busy": "2023-11-07T10:44:02.800730Z",
     "iopub.status.idle": "2023-11-07T10:44:02.812142Z",
     "shell.execute_reply": "2023-11-07T10:44:02.811340Z"
    }
   },
   "outputs": [],
   "source": [
    "anon = DataAnonymization(hds_folder='../../../../data/')"
   ]
  },
  {
   "attachments": {},
   "cell_type": "markdown",
   "metadata": {},
   "source": [
    "By default, the class applies a set of anonymisation techniques:\n",
    "- Column names are remapped to a non-descriptive name\n",
    "- Categorical values are hashed with a random seed\n",
    "- Numerical values are normalized between 0 and 1\n",
    "- Outcomes are mapped to a binary outcome.\n",
    "\n",
    "To apply these techniques, simply call `.process()`:"
   ]
  },
  {
   "cell_type": "code",
   "execution_count": 5,
   "metadata": {
    "execution": {
     "iopub.execute_input": "2023-11-07T10:44:02.814978Z",
     "iopub.status.busy": "2023-11-07T10:44:02.814540Z",
     "iopub.status.idle": "2023-11-07T10:44:02.822246Z",
     "shell.execute_reply": "2023-11-07T10:44:02.821527Z"
    }
   },
   "outputs": [
    {
     "data": {
      "text/html": [
       "<div><style>\n",
       ".dataframe > thead > tr > th,\n",
       ".dataframe > tbody > tr > td {\n",
       "  text-align: right;\n",
       "  white-space: pre-wrap;\n",
       "}\n",
       "</style>\n",
       "<small>shape: (7, 7)</small><table border=\"1\" class=\"dataframe\"><thead><tr><th>PREDICTOR_0</th><th>PREDICTOR_1</th><th>filename</th><th>PREDICTOR_3</th><th>Context_Name</th><th>IH_PREDICTOR_0</th><th>Decision_Outcome</th></tr><tr><td>f64</td><td>str</td><td>str</td><td>str</td><td>str</td><td>str</td><td>bool</td></tr></thead><tbody><tr><td>1.2927e19</td><td>&quot;95664868418987…</td><td>&quot;../../../../da…</td><td>&quot;16810035833821…</td><td>&quot;12446548656908…</td><td>&quot;51151684381171…</td><td>false</td></tr><tr><td>1.4856e19</td><td>&quot;42846611578213…</td><td>&quot;../../../../da…</td><td>&quot;13507891845460…</td><td>&quot;12446548656908…</td><td>&quot;34984620034964…</td><td>true</td></tr><tr><td>5.6458e17</td><td>&quot;14375934626920…</td><td>&quot;../../../../da…</td><td>&quot;22414563704219…</td><td>&quot;21118694778242…</td><td>&quot;51151684381171…</td><td>false</td></tr><tr><td>4.0723e18</td><td>&quot;18207674598245…</td><td>&quot;../../../../da…</td><td>&quot;13507891845460…</td><td>&quot;82572398185963…</td><td>&quot;51151684381171…</td><td>false</td></tr><tr><td>1.4677e19</td><td>&quot;14087510065873…</td><td>&quot;../../../../da…</td><td>&quot;16810035833821…</td><td>&quot;82572398185963…</td><td>&quot;13081763910748…</td><td>true</td></tr><tr><td>1.6330e19</td><td>&quot;17924553522236…</td><td>&quot;../../../../da…</td><td>&quot;22414563704219…</td><td>&quot;77497629893259…</td><td>null</td><td>false</td></tr><tr><td>8.7675e18</td><td>&quot;87008684947055…</td><td>&quot;../../../../da…</td><td>&quot;22414563704219…</td><td>&quot;82572398185963…</td><td>&quot;13081763910748…</td><td>false</td></tr></tbody></table></div>"
      ],
      "text/plain": [
       "shape: (7, 7)\n",
       "┌─────────────┬──────────────┬─────────────┬─────────────┬─────────────┬─────────────┬─────────────┐\n",
       "│ PREDICTOR_0 ┆ PREDICTOR_1  ┆ filename    ┆ PREDICTOR_3 ┆ Context_Nam ┆ IH_PREDICTO ┆ Decision_Ou │\n",
       "│ ---         ┆ ---          ┆ ---         ┆ ---         ┆ e           ┆ R_0         ┆ tcome       │\n",
       "│ f64         ┆ str          ┆ str         ┆ str         ┆ ---         ┆ ---         ┆ ---         │\n",
       "│             ┆              ┆             ┆             ┆ str         ┆ str         ┆ bool        │\n",
       "╞═════════════╪══════════════╪═════════════╪═════════════╪═════════════╪═════════════╪═════════════╡\n",
       "│ 1.2927e19   ┆ 956648684189 ┆ ../../../.. ┆ 16810035833 ┆ 12446548656 ┆ 51151684381 ┆ false       │\n",
       "│             ┆ 8778288      ┆ /data/Sampl ┆ 821317286   ┆ 908629950   ┆ 17190190    ┆             │\n",
       "│             ┆              ┆ eHDS.json   ┆             ┆             ┆             ┆             │\n",
       "│ 1.4856e19   ┆ 428466115782 ┆ ../../../.. ┆ 13507891845 ┆ 12446548656 ┆ 34984620034 ┆ true        │\n",
       "│             ┆ 1363615      ┆ /data/Sampl ┆ 460806454   ┆ 908629950   ┆ 9645462     ┆             │\n",
       "│             ┆              ┆ eHDS.json   ┆             ┆             ┆             ┆             │\n",
       "│ 5.6458e17   ┆ 143759346269 ┆ ../../../.. ┆ 22414563704 ┆ 21118694778 ┆ 51151684381 ┆ false       │\n",
       "│             ┆ 20995833     ┆ /data/Sampl ┆ 2190281     ┆ 24230609    ┆ 17190190    ┆             │\n",
       "│             ┆              ┆ eHDS.json   ┆             ┆             ┆             ┆             │\n",
       "│ 4.0723e18   ┆ 182076745982 ┆ ../../../.. ┆ 13507891845 ┆ 82572398185 ┆ 51151684381 ┆ false       │\n",
       "│             ┆ 45878138     ┆ /data/Sampl ┆ 460806454   ┆ 96354139    ┆ 17190190    ┆             │\n",
       "│             ┆              ┆ eHDS.json   ┆             ┆             ┆             ┆             │\n",
       "│ 1.4677e19   ┆ 140875100658 ┆ ../../../.. ┆ 16810035833 ┆ 82572398185 ┆ 13081763910 ┆ true        │\n",
       "│             ┆ 73274839     ┆ /data/Sampl ┆ 821317286   ┆ 96354139    ┆ 748268533   ┆             │\n",
       "│             ┆              ┆ eHDS.json   ┆             ┆             ┆             ┆             │\n",
       "│ 1.6330e19   ┆ 179245535222 ┆ ../../../.. ┆ 22414563704 ┆ 77497629893 ┆ null        ┆ false       │\n",
       "│             ┆ 36473440     ┆ /data/Sampl ┆ 2190281     ┆ 25934188    ┆             ┆             │\n",
       "│             ┆              ┆ eHDS.json   ┆             ┆             ┆             ┆             │\n",
       "│ 8.7675e18   ┆ 870086849470 ┆ ../../../.. ┆ 22414563704 ┆ 82572398185 ┆ 13081763910 ┆ false       │\n",
       "│             ┆ 5527615      ┆ /data/Sampl ┆ 2190281     ┆ 96354139    ┆ 748268533   ┆             │\n",
       "│             ┆              ┆ eHDS.json   ┆             ┆             ┆             ┆             │\n",
       "└─────────────┴──────────────┴─────────────┴─────────────┴─────────────┴─────────────┴─────────────┘"
      ]
     },
     "execution_count": 5,
     "metadata": {},
     "output_type": "execute_result"
    }
   ],
   "source": [
    "anon.process()"
   ]
  },
  {
   "attachments": {},
   "cell_type": "markdown",
   "metadata": {},
   "source": [
    "To trace back the columns to their original names, the class also contains a mapping, which does not have to be provided."
   ]
  },
  {
   "cell_type": "code",
   "execution_count": 6,
   "metadata": {
    "execution": {
     "iopub.execute_input": "2023-11-07T10:44:02.826255Z",
     "iopub.status.busy": "2023-11-07T10:44:02.825808Z",
     "iopub.status.idle": "2023-11-07T10:44:02.830788Z",
     "shell.execute_reply": "2023-11-07T10:44:02.830160Z"
    }
   },
   "outputs": [
    {
     "data": {
      "text/plain": [
       "{'Customer_CLV': 'PREDICTOR_0',\n",
       " 'Customer_City': 'PREDICTOR_1',\n",
       " 'filename': 'filename',\n",
       " 'Customer_MaritalStatus': 'PREDICTOR_3',\n",
       " 'Context_Name': 'Context_Name',\n",
       " 'IH_Web_Inbound_Accepted_pxLastGroupID': 'IH_PREDICTOR_0',\n",
       " 'Decision_Outcome': 'Decision_Outcome'}"
      ]
     },
     "execution_count": 6,
     "metadata": {},
     "output_type": "execute_result"
    }
   ],
   "source": [
    "anon.column_mapping"
   ]
  },
  {
   "attachments": {},
   "cell_type": "markdown",
   "metadata": {},
   "source": [
    "## Configs\n",
    "\n",
    "Each capability can optionally be turned off - see below for the full list of config options, and refer to the API reference for the full description."
   ]
  },
  {
   "cell_type": "code",
   "execution_count": 7,
   "metadata": {
    "execution": {
     "iopub.execute_input": "2023-11-07T10:44:02.833625Z",
     "iopub.status.busy": "2023-11-07T10:44:02.833210Z",
     "iopub.status.idle": "2023-11-07T10:44:02.838050Z",
     "shell.execute_reply": "2023-11-07T10:44:02.837455Z"
    }
   },
   "outputs": [
    {
     "data": {
      "text/plain": [
       "{'config_file': None,\n",
       " 'hds_folder': '.',\n",
       " 'use_datamart': False,\n",
       " 'datamart_folder': 'datamart',\n",
       " 'output_format': 'ndjson',\n",
       " 'output_folder': 'output',\n",
       " 'mapping_file': 'mapping.map',\n",
       " 'mask_predictor_names': True,\n",
       " 'mask_context_key_names': False,\n",
       " 'mask_ih_names': True,\n",
       " 'mask_outcome_name': False,\n",
       " 'mask_predictor_values': True,\n",
       " 'mask_context_key_values': True,\n",
       " 'mask_ih_values': True,\n",
       " 'mask_outcome_values': True,\n",
       " 'context_key_label': 'Context_*',\n",
       " 'ih_label': 'IH_*',\n",
       " 'outcome_column': 'Decision_Outcome',\n",
       " 'positive_outcomes': ['Accepted', 'Clicked'],\n",
       " 'negative_outcomes': ['Rejected', 'Impression'],\n",
       " 'special_predictors': ['Decision_DecisionTime',\n",
       "  'Decision_OutcomeTime',\n",
       "  'Decision_Rank'],\n",
       " 'sample_percentage_schema_inferencing': 0.01}"
      ]
     },
     "execution_count": 7,
     "metadata": {},
     "output_type": "execute_result"
    }
   ],
   "source": [
    "dict(zip(Config.__init__.__code__.co_varnames[1:], Config.__init__.__defaults__))"
   ]
  },
  {
   "attachments": {},
   "cell_type": "markdown",
   "metadata": {},
   "source": [
    "It's easy to change these parameters by just passing the keyword arguments. In the following example, we\n",
    "- Keep the IH predictor names\n",
    "- Keep the outcome values\n",
    "- Keep the context key values\n",
    "- Keep the context key predictor names"
   ]
  },
  {
   "cell_type": "code",
   "execution_count": 8,
   "metadata": {
    "execution": {
     "iopub.execute_input": "2023-11-07T10:44:02.840931Z",
     "iopub.status.busy": "2023-11-07T10:44:02.840482Z",
     "iopub.status.idle": "2023-11-07T10:44:02.855341Z",
     "shell.execute_reply": "2023-11-07T10:44:02.854713Z"
    }
   },
   "outputs": [
    {
     "data": {
      "text/html": [
       "<div><style>\n",
       ".dataframe > thead > tr > th,\n",
       ".dataframe > tbody > tr > td {\n",
       "  text-align: right;\n",
       "  white-space: pre-wrap;\n",
       "}\n",
       "</style>\n",
       "<small>shape: (7, 7)</small><table border=\"1\" class=\"dataframe\"><thead><tr><th>PREDICTOR_0</th><th>PREDICTOR_1</th><th>filename</th><th>PREDICTOR_3</th><th>Context_Name</th><th>IH_Web_Inbound_Accepted_pxLastGroupID</th><th>Decision_Outcome</th></tr><tr><td>f64</td><td>str</td><td>str</td><td>str</td><td>str</td><td>str</td><td>str</td></tr></thead><tbody><tr><td>1.2927e19</td><td>&quot;15480055679303…</td><td>&quot;../../../../da…</td><td>&quot;10475988817873…</td><td>&quot;FirstMortgage3…</td><td>&quot;11704243006012…</td><td>&quot;Rejected&quot;</td></tr><tr><td>1.4856e19</td><td>&quot;29475396689749…</td><td>&quot;../../../../da…</td><td>&quot;83799795389615…</td><td>&quot;FirstMortgage3…</td><td>&quot;11139200081286…</td><td>&quot;Accepted&quot;</td></tr><tr><td>5.6458e17</td><td>&quot;16504344259859…</td><td>&quot;../../../../da…</td><td>&quot;98408608354375…</td><td>&quot;MoneyMarketSav…</td><td>&quot;11704243006012…</td><td>&quot;Rejected&quot;</td></tr><tr><td>4.0723e18</td><td>&quot;11765703275942…</td><td>&quot;../../../../da…</td><td>&quot;83799795389615…</td><td>&quot;BasicChecking&quot;</td><td>&quot;11704243006012…</td><td>&quot;Rejected&quot;</td></tr><tr><td>1.4677e19</td><td>&quot;96622061446553…</td><td>&quot;../../../../da…</td><td>&quot;10475988817873…</td><td>&quot;BasicChecking&quot;</td><td>&quot;18076921337153…</td><td>&quot;Accepted&quot;</td></tr><tr><td>1.6330e19</td><td>&quot;18225949998662…</td><td>&quot;../../../../da…</td><td>&quot;98408608354375…</td><td>&quot;UPlusFinPerson…</td><td>null</td><td>&quot;Rejected&quot;</td></tr><tr><td>8.7675e18</td><td>&quot;30573086692820…</td><td>&quot;../../../../da…</td><td>&quot;98408608354375…</td><td>&quot;BasicChecking&quot;</td><td>&quot;18076921337153…</td><td>&quot;Rejected&quot;</td></tr></tbody></table></div>"
      ],
      "text/plain": [
       "shape: (7, 7)\n",
       "┌─────────────┬──────────────┬─────────────┬─────────────┬─────────────┬─────────────┬─────────────┐\n",
       "│ PREDICTOR_0 ┆ PREDICTOR_1  ┆ filename    ┆ PREDICTOR_3 ┆ Context_Nam ┆ IH_Web_Inbo ┆ Decision_Ou │\n",
       "│ ---         ┆ ---          ┆ ---         ┆ ---         ┆ e           ┆ und_Accepte ┆ tcome       │\n",
       "│ f64         ┆ str          ┆ str         ┆ str         ┆ ---         ┆ d_pxLastGr… ┆ ---         │\n",
       "│             ┆              ┆             ┆             ┆ str         ┆ ---         ┆ str         │\n",
       "│             ┆              ┆             ┆             ┆             ┆ str         ┆             │\n",
       "╞═════════════╪══════════════╪═════════════╪═════════════╪═════════════╪═════════════╪═════════════╡\n",
       "│ 1.2927e19   ┆ 154800556793 ┆ ../../../.. ┆ 10475988817 ┆ FirstMortga ┆ 11704243006 ┆ Rejected    │\n",
       "│             ┆ 03481278     ┆ /data/Sampl ┆ 87356544    ┆ ge30yr      ┆ 012330428   ┆             │\n",
       "│             ┆              ┆ eHDS.json   ┆             ┆             ┆             ┆             │\n",
       "│ 1.4856e19   ┆ 294753966897 ┆ ../../../.. ┆ 83799795389 ┆ FirstMortga ┆ 11139200081 ┆ Accepted    │\n",
       "│             ┆ 4992913      ┆ /data/Sampl ┆ 61583782    ┆ ge30yr      ┆ 286719779   ┆             │\n",
       "│             ┆              ┆ eHDS.json   ┆             ┆             ┆             ┆             │\n",
       "│ 5.6458e17   ┆ 165043442598 ┆ ../../../.. ┆ 98408608354 ┆ MoneyMarket ┆ 11704243006 ┆ Rejected    │\n",
       "│             ┆ 59001928     ┆ /data/Sampl ┆ 37504343    ┆ SavingsAcco ┆ 012330428   ┆             │\n",
       "│             ┆              ┆ eHDS.json   ┆             ┆ unt         ┆             ┆             │\n",
       "│ 4.0723e18   ┆ 117657032759 ┆ ../../../.. ┆ 83799795389 ┆ BasicChecki ┆ 11704243006 ┆ Rejected    │\n",
       "│             ┆ 42609410     ┆ /data/Sampl ┆ 61583782    ┆ ng          ┆ 012330428   ┆             │\n",
       "│             ┆              ┆ eHDS.json   ┆             ┆             ┆             ┆             │\n",
       "│ 1.4677e19   ┆ 966220614465 ┆ ../../../.. ┆ 10475988817 ┆ BasicChecki ┆ 18076921337 ┆ Accepted    │\n",
       "│             ┆ 5301306      ┆ /data/Sampl ┆ 87356544    ┆ ng          ┆ 153490397   ┆             │\n",
       "│             ┆              ┆ eHDS.json   ┆             ┆             ┆             ┆             │\n",
       "│ 1.6330e19   ┆ 182259499986 ┆ ../../../.. ┆ 98408608354 ┆ UPlusFinPer ┆ null        ┆ Rejected    │\n",
       "│             ┆ 62035924     ┆ /data/Sampl ┆ 37504343    ┆ sonal       ┆             ┆             │\n",
       "│             ┆              ┆ eHDS.json   ┆             ┆             ┆             ┆             │\n",
       "│ 8.7675e18   ┆ 305730866928 ┆ ../../../.. ┆ 98408608354 ┆ BasicChecki ┆ 18076921337 ┆ Rejected    │\n",
       "│             ┆ 2028487      ┆ /data/Sampl ┆ 37504343    ┆ ng          ┆ 153490397   ┆             │\n",
       "│             ┆              ┆ eHDS.json   ┆             ┆             ┆             ┆             │\n",
       "└─────────────┴──────────────┴─────────────┴─────────────┴─────────────┴─────────────┴─────────────┘"
      ]
     },
     "execution_count": 8,
     "metadata": {},
     "output_type": "execute_result"
    }
   ],
   "source": [
    "anon = DataAnonymization(\n",
    "    hds_folder=\"../../../../data/\",\n",
    "    mask_ih_names=False,\n",
    "    mask_outcome_values=False,\n",
    "    mask_context_key_values=False,\n",
    "    mask_context_key_names=False,\n",
    ")\n",
    "anon.process()\n"
   ]
  },
  {
   "attachments": {},
   "cell_type": "markdown",
   "metadata": {},
   "source": [
    "The configs can also be written and read as such:"
   ]
  },
  {
   "cell_type": "code",
   "execution_count": 9,
   "metadata": {
    "execution": {
     "iopub.execute_input": "2023-11-07T10:44:02.858077Z",
     "iopub.status.busy": "2023-11-07T10:44:02.857693Z",
     "iopub.status.idle": "2023-11-07T10:44:02.861148Z",
     "shell.execute_reply": "2023-11-07T10:44:02.860449Z"
    }
   },
   "outputs": [],
   "source": [
    "anon.config.save_to_config_file('config.json')"
   ]
  },
  {
   "cell_type": "code",
   "execution_count": 10,
   "metadata": {
    "execution": {
     "iopub.execute_input": "2023-11-07T10:44:02.864384Z",
     "iopub.status.busy": "2023-11-07T10:44:02.863861Z",
     "iopub.status.idle": "2023-11-07T10:44:02.884802Z",
     "shell.execute_reply": "2023-11-07T10:44:02.884088Z"
    }
   },
   "outputs": [
    {
     "data": {
      "text/html": [
       "<div><style>\n",
       ".dataframe > thead > tr > th,\n",
       ".dataframe > tbody > tr > td {\n",
       "  text-align: right;\n",
       "  white-space: pre-wrap;\n",
       "}\n",
       "</style>\n",
       "<small>shape: (7, 7)</small><table border=\"1\" class=\"dataframe\"><thead><tr><th>PREDICTOR_0</th><th>PREDICTOR_1</th><th>filename</th><th>PREDICTOR_3</th><th>Context_Name</th><th>IH_Web_Inbound_Accepted_pxLastGroupID</th><th>Decision_Outcome</th></tr><tr><td>f64</td><td>str</td><td>str</td><td>str</td><td>str</td><td>str</td><td>str</td></tr></thead><tbody><tr><td>1.2927e19</td><td>&quot;38099827673232…</td><td>&quot;../../../../da…</td><td>&quot;18131849143145…</td><td>&quot;FirstMortgage3…</td><td>&quot;13096052415859…</td><td>&quot;Rejected&quot;</td></tr><tr><td>1.4856e19</td><td>&quot;23315474006885…</td><td>&quot;../../../../da…</td><td>&quot;16512261728919…</td><td>&quot;FirstMortgage3…</td><td>&quot;64292618663064…</td><td>&quot;Accepted&quot;</td></tr><tr><td>5.6458e17</td><td>&quot;16952509338591…</td><td>&quot;../../../../da…</td><td>&quot;15561156286936…</td><td>&quot;MoneyMarketSav…</td><td>&quot;13096052415859…</td><td>&quot;Rejected&quot;</td></tr><tr><td>4.0723e18</td><td>&quot;85026221220649…</td><td>&quot;../../../../da…</td><td>&quot;16512261728919…</td><td>&quot;BasicChecking&quot;</td><td>&quot;13096052415859…</td><td>&quot;Rejected&quot;</td></tr><tr><td>1.4677e19</td><td>&quot;17362031109453…</td><td>&quot;../../../../da…</td><td>&quot;18131849143145…</td><td>&quot;BasicChecking&quot;</td><td>&quot;30210065845726…</td><td>&quot;Accepted&quot;</td></tr><tr><td>1.6330e19</td><td>&quot;10865127794639…</td><td>&quot;../../../../da…</td><td>&quot;15561156286936…</td><td>&quot;UPlusFinPerson…</td><td>null</td><td>&quot;Rejected&quot;</td></tr><tr><td>8.7675e18</td><td>&quot;12864237923813…</td><td>&quot;../../../../da…</td><td>&quot;15561156286936…</td><td>&quot;BasicChecking&quot;</td><td>&quot;30210065845726…</td><td>&quot;Rejected&quot;</td></tr></tbody></table></div>"
      ],
      "text/plain": [
       "shape: (7, 7)\n",
       "┌─────────────┬──────────────┬─────────────┬─────────────┬─────────────┬─────────────┬─────────────┐\n",
       "│ PREDICTOR_0 ┆ PREDICTOR_1  ┆ filename    ┆ PREDICTOR_3 ┆ Context_Nam ┆ IH_Web_Inbo ┆ Decision_Ou │\n",
       "│ ---         ┆ ---          ┆ ---         ┆ ---         ┆ e           ┆ und_Accepte ┆ tcome       │\n",
       "│ f64         ┆ str          ┆ str         ┆ str         ┆ ---         ┆ d_pxLastGr… ┆ ---         │\n",
       "│             ┆              ┆             ┆             ┆ str         ┆ ---         ┆ str         │\n",
       "│             ┆              ┆             ┆             ┆             ┆ str         ┆             │\n",
       "╞═════════════╪══════════════╪═════════════╪═════════════╪═════════════╪═════════════╪═════════════╡\n",
       "│ 1.2927e19   ┆ 380998276732 ┆ ../../../.. ┆ 18131849143 ┆ FirstMortga ┆ 13096052415 ┆ Rejected    │\n",
       "│             ┆ 3259559      ┆ /data/Sampl ┆ 145034483   ┆ ge30yr      ┆ 859220008   ┆             │\n",
       "│             ┆              ┆ eHDS.json   ┆             ┆             ┆             ┆             │\n",
       "│ 1.4856e19   ┆ 233154740068 ┆ ../../../.. ┆ 16512261728 ┆ FirstMortga ┆ 64292618663 ┆ Accepted    │\n",
       "│             ┆ 859785       ┆ /data/Sampl ┆ 919564382   ┆ ge30yr      ┆ 06426606    ┆             │\n",
       "│             ┆              ┆ eHDS.json   ┆             ┆             ┆             ┆             │\n",
       "│ 5.6458e17   ┆ 169525093385 ┆ ../../../.. ┆ 15561156286 ┆ MoneyMarket ┆ 13096052415 ┆ Rejected    │\n",
       "│             ┆ 91060710     ┆ /data/Sampl ┆ 936730082   ┆ SavingsAcco ┆ 859220008   ┆             │\n",
       "│             ┆              ┆ eHDS.json   ┆             ┆ unt         ┆             ┆             │\n",
       "│ 4.0723e18   ┆ 850262212206 ┆ ../../../.. ┆ 16512261728 ┆ BasicChecki ┆ 13096052415 ┆ Rejected    │\n",
       "│             ┆ 4913133      ┆ /data/Sampl ┆ 919564382   ┆ ng          ┆ 859220008   ┆             │\n",
       "│             ┆              ┆ eHDS.json   ┆             ┆             ┆             ┆             │\n",
       "│ 1.4677e19   ┆ 173620311094 ┆ ../../../.. ┆ 18131849143 ┆ BasicChecki ┆ 30210065845 ┆ Accepted    │\n",
       "│             ┆ 53893825     ┆ /data/Sampl ┆ 145034483   ┆ ng          ┆ 7261555     ┆             │\n",
       "│             ┆              ┆ eHDS.json   ┆             ┆             ┆             ┆             │\n",
       "│ 1.6330e19   ┆ 108651277946 ┆ ../../../.. ┆ 15561156286 ┆ UPlusFinPer ┆ null        ┆ Rejected    │\n",
       "│             ┆ 39484825     ┆ /data/Sampl ┆ 936730082   ┆ sonal       ┆             ┆             │\n",
       "│             ┆              ┆ eHDS.json   ┆             ┆             ┆             ┆             │\n",
       "│ 8.7675e18   ┆ 128642379238 ┆ ../../../.. ┆ 15561156286 ┆ BasicChecki ┆ 30210065845 ┆ Rejected    │\n",
       "│             ┆ 13670011     ┆ /data/Sampl ┆ 936730082   ┆ ng          ┆ 7261555     ┆             │\n",
       "│             ┆              ┆ eHDS.json   ┆             ┆             ┆             ┆             │\n",
       "└─────────────┴──────────────┴─────────────┴─────────────┴─────────────┴─────────────┴─────────────┘"
      ]
     },
     "execution_count": 10,
     "metadata": {},
     "output_type": "execute_result"
    }
   ],
   "source": [
    "anon = DataAnonymization(config=Config(config_file='config.json'))\n",
    "anon.process()"
   ]
  },
  {
   "attachments": {},
   "cell_type": "markdown",
   "metadata": {},
   "source": [
    "## Exporting\n",
    "Two functions export:\n",
    "- `create_mapping_file()` writes the mapping file of the predictor names\n",
    "- `write_to_output()` writes the processed dataframe to disk\n",
    "\n",
    "Write to output accepts the following extensions: `[\"ndjson\", \"parquet\", \"arrow\", \"csv\"]`"
   ]
  },
  {
   "cell_type": "code",
   "execution_count": 11,
   "metadata": {
    "execution": {
     "iopub.execute_input": "2023-11-07T10:44:02.887532Z",
     "iopub.status.busy": "2023-11-07T10:44:02.887293Z",
     "iopub.status.idle": "2023-11-07T10:44:02.892167Z",
     "shell.execute_reply": "2023-11-07T10:44:02.891394Z"
    }
   },
   "outputs": [
    {
     "name": "stdout",
     "output_type": "stream",
     "text": [
      "Customer_CLV=PREDICTOR_0\n",
      "Customer_City=PREDICTOR_1\n",
      "filename=filename\n",
      "Customer_MaritalStatus=PREDICTOR_3\n",
      "Context_Name=Context_Name\n",
      "IH_Web_Inbound_Accepted_pxLastGroupID=IH_Web_Inbound_Accepted_pxLastGroupID\n",
      "Decision_Outcome=Decision_Outcome\n",
      "\n"
     ]
    }
   ],
   "source": [
    "anon.create_mapping_file()\n",
    "with open('mapping.map') as f:\n",
    "    print(f.read())"
   ]
  },
  {
   "cell_type": "code",
   "execution_count": 12,
   "metadata": {
    "execution": {
     "iopub.execute_input": "2023-11-07T10:44:02.895613Z",
     "iopub.status.busy": "2023-11-07T10:44:02.895339Z",
     "iopub.status.idle": "2023-11-07T10:44:02.899869Z",
     "shell.execute_reply": "2023-11-07T10:44:02.899191Z"
    }
   },
   "outputs": [],
   "source": [
    "anon.write_to_output(ext='arrow')"
   ]
  },
  {
   "cell_type": "code",
   "execution_count": 13,
   "metadata": {
    "execution": {
     "iopub.execute_input": "2023-11-07T10:44:02.902561Z",
     "iopub.status.busy": "2023-11-07T10:44:02.902312Z",
     "iopub.status.idle": "2023-11-07T10:44:02.908265Z",
     "shell.execute_reply": "2023-11-07T10:44:02.907508Z"
    }
   },
   "outputs": [
    {
     "data": {
      "text/html": [
       "<div><style>\n",
       ".dataframe > thead > tr > th,\n",
       ".dataframe > tbody > tr > td {\n",
       "  text-align: right;\n",
       "  white-space: pre-wrap;\n",
       "}\n",
       "</style>\n",
       "<small>shape: (7, 6)</small><table border=\"1\" class=\"dataframe\"><thead><tr><th>PREDICTOR_0</th><th>PREDICTOR_1</th><th>PREDICTOR_3</th><th>Context_Name</th><th>IH_Web_Inbound_Accepted_pxLastGroupID</th><th>Decision_Outcome</th></tr><tr><td>f64</td><td>str</td><td>str</td><td>str</td><td>str</td><td>str</td></tr></thead><tbody><tr><td>1.2927e19</td><td>&quot;15492042922251…</td><td>&quot;99794221907735…</td><td>&quot;FirstMortgage3…</td><td>&quot;20636068995476…</td><td>&quot;Rejected&quot;</td></tr><tr><td>1.4856e19</td><td>&quot;16163880660987…</td><td>&quot;11942232129600…</td><td>&quot;FirstMortgage3…</td><td>&quot;45898614196414…</td><td>&quot;Accepted&quot;</td></tr><tr><td>5.6458e17</td><td>&quot;20683674885326…</td><td>&quot;87931369370566…</td><td>&quot;MoneyMarketSav…</td><td>&quot;20636068995476…</td><td>&quot;Rejected&quot;</td></tr><tr><td>4.0723e18</td><td>&quot;15594424768756…</td><td>&quot;11942232129600…</td><td>&quot;BasicChecking&quot;</td><td>&quot;20636068995476…</td><td>&quot;Rejected&quot;</td></tr><tr><td>1.4677e19</td><td>&quot;82864856813992…</td><td>&quot;99794221907735…</td><td>&quot;BasicChecking&quot;</td><td>&quot;96322235702122…</td><td>&quot;Accepted&quot;</td></tr><tr><td>1.6330e19</td><td>&quot;23682975333684…</td><td>&quot;87931369370566…</td><td>&quot;UPlusFinPerson…</td><td>null</td><td>&quot;Rejected&quot;</td></tr><tr><td>8.7675e18</td><td>&quot;46630383904111…</td><td>&quot;87931369370566…</td><td>&quot;BasicChecking&quot;</td><td>&quot;96322235702122…</td><td>&quot;Rejected&quot;</td></tr></tbody></table></div>"
      ],
      "text/plain": [
       "shape: (7, 6)\n",
       "┌─────────────┬────────────────┬────────────────┬────────────────┬────────────────┬────────────────┐\n",
       "│ PREDICTOR_0 ┆ PREDICTOR_1    ┆ PREDICTOR_3    ┆ Context_Name   ┆ IH_Web_Inbound ┆ Decision_Outco │\n",
       "│ ---         ┆ ---            ┆ ---            ┆ ---            ┆ _Accepted_pxLa ┆ me             │\n",
       "│ f64         ┆ str            ┆ str            ┆ str            ┆ stGr…          ┆ ---            │\n",
       "│             ┆                ┆                ┆                ┆ ---            ┆ str            │\n",
       "│             ┆                ┆                ┆                ┆ str            ┆                │\n",
       "╞═════════════╪════════════════╪════════════════╪════════════════╪════════════════╪════════════════╡\n",
       "│ 1.2927e19   ┆ 15492042922251 ┆ 99794221907735 ┆ FirstMortgage3 ┆ 20636068995476 ┆ Rejected       │\n",
       "│             ┆ 997861         ┆ 27624          ┆ 0yr            ┆ 41340          ┆                │\n",
       "│ 1.4856e19   ┆ 16163880660987 ┆ 11942232129600 ┆ FirstMortgage3 ┆ 45898614196414 ┆ Accepted       │\n",
       "│             ┆ 551087         ┆ 539435         ┆ 0yr            ┆ 76022          ┆                │\n",
       "│ 5.6458e17   ┆ 20683674885326 ┆ 87931369370566 ┆ MoneyMarketSav ┆ 20636068995476 ┆ Rejected       │\n",
       "│             ┆ 81353          ┆ 1490           ┆ ingsAccount    ┆ 41340          ┆                │\n",
       "│ 4.0723e18   ┆ 15594424768756 ┆ 11942232129600 ┆ BasicChecking  ┆ 20636068995476 ┆ Rejected       │\n",
       "│             ┆ 539091         ┆ 539435         ┆                ┆ 41340          ┆                │\n",
       "│ 1.4677e19   ┆ 82864856813992 ┆ 99794221907735 ┆ BasicChecking  ┆ 96322235702122 ┆ Accepted       │\n",
       "│             ┆ 07181          ┆ 27624          ┆                ┆ 3177           ┆                │\n",
       "│ 1.6330e19   ┆ 23682975333684 ┆ 87931369370566 ┆ UPlusFinPerson ┆ null           ┆ Rejected       │\n",
       "│             ┆ 95730          ┆ 1490           ┆ al             ┆                ┆                │\n",
       "│ 8.7675e18   ┆ 46630383904111 ┆ 87931369370566 ┆ BasicChecking  ┆ 96322235702122 ┆ Rejected       │\n",
       "│             ┆ 13384          ┆ 1490           ┆                ┆ 3177           ┆                │\n",
       "└─────────────┴────────────────┴────────────────┴────────────────┴────────────────┴────────────────┘"
      ]
     },
     "execution_count": 13,
     "metadata": {},
     "output_type": "execute_result"
    }
   ],
   "source": [
    "pl.read_ipc('output/hds.arrow')"
   ]
  },
  {
   "attachments": {},
   "cell_type": "markdown",
   "metadata": {
    "nbsphinx": "hidden"
   },
   "source": [
    "## Advanced: Hash fuctions\n",
    "\n",
    "By default, we use [the same hashing algorithm Polars](https://pola-rs.github.io/polars/py-polars/html/reference/expressions/api/polars.Expr.hash.html#polars.Expr.hash) uses: [xxhash](https://github.com/Cyan4973/xxHash), as implemented [here](https://github.com/pola-rs/polars/blob/3f287f370b3c388ed2f3f218b2c096382548136f/polars/polars-core/src/vector_hasher.rs#L266). xxhash is fast to compute, and you can check its performance in collision, dispersion and randomness [here](https://github.com/Cyan4973/xxHash/tree/dev/tests). \n",
    "\n",
    "xxhash accepts four distinct seeds, but by default we set the seeds to `0`. It is possible to set the `seed` argument of the `process()` function to `'random'`, which will set all four seeds to a random integer between `0` and `1000000000`. Alternatively, it is possible to supply the four seeds manually with arguments `seed`, `seed_1`, `seed_2` and `seed_3`. \n",
    "\n",
    "If the xxhash with (random) seed(s) is not deemed sufficiently secure, it is possible to use your own hashing algorithm.\n",
    "\n",
    "Note that since we're now running python code and not native Polars code anymore, this will be _significantly_ slower. Nonetheless, it is possible.\n",
    "\n",
    "Just as an example - this is how one would use sha3_256:"
   ]
  },
  {
   "cell_type": "code",
   "execution_count": 14,
   "metadata": {
    "execution": {
     "iopub.execute_input": "2023-11-07T10:44:02.911787Z",
     "iopub.status.busy": "2023-11-07T10:44:02.911554Z",
     "iopub.status.idle": "2023-11-07T10:44:03.340203Z",
     "shell.execute_reply": "2023-11-07T10:44:03.339420Z"
    },
    "nbsphinx": "hidden"
   },
   "outputs": [
    {
     "ename": "ComputeError",
     "evalue": "AttributeError: 'int' object has no attribute 'encode'",
     "output_type": "error",
     "traceback": [
      "\u001b[0;31m---------------------------------------------------------------------------\u001b[0m",
      "\u001b[0;31mComputeError\u001b[0m                              Traceback (most recent call last)",
      "Cell \u001b[0;32mIn[14], line 3\u001b[0m\n\u001b[1;32m      1\u001b[0m \u001b[38;5;28;01mfrom\u001b[39;00m \u001b[38;5;21;01mhashlib\u001b[39;00m \u001b[38;5;28;01mimport\u001b[39;00m sha3_256\n\u001b[0;32m----> 3\u001b[0m \u001b[43manon\u001b[49m\u001b[38;5;241;43m.\u001b[39;49m\u001b[43mprocess\u001b[49m\u001b[43m(\u001b[49m\u001b[43malgorithm\u001b[49m\u001b[38;5;241;43m=\u001b[39;49m\u001b[38;5;28;43;01mlambda\u001b[39;49;00m\u001b[43m \u001b[49m\u001b[43mx\u001b[49m\u001b[43m:\u001b[49m\u001b[43m \u001b[49m\u001b[43msha3_256\u001b[49m\u001b[43m(\u001b[49m\u001b[43mx\u001b[49m\u001b[38;5;241;43m.\u001b[39;49m\u001b[43mencode\u001b[49m\u001b[43m(\u001b[49m\u001b[43m)\u001b[49m\u001b[43m)\u001b[49m\u001b[38;5;241;43m.\u001b[39;49m\u001b[43mhexdigest\u001b[49m\u001b[43m(\u001b[49m\u001b[43m)\u001b[49m\u001b[43m)\u001b[49m\n",
      "File \u001b[0;32m~/work/pega-datascientist-tools/pega-datascientist-tools/python/docs/source/articles/../../../pdstools/utils/hds_utils.py:516\u001b[0m, in \u001b[0;36mDataAnonymization.process\u001b[0;34m(self, strategy, **kwargs)\u001b[0m\n\u001b[1;32m    514\u001b[0m df \u001b[38;5;241m=\u001b[39m df\u001b[38;5;241m.\u001b[39mselect(\u001b[38;5;28mself\u001b[39m\u001b[38;5;241m.\u001b[39mcolumn_mapping\u001b[38;5;241m.\u001b[39mkeys())\u001b[38;5;241m.\u001b[39mrename(\u001b[38;5;28mself\u001b[39m\u001b[38;5;241m.\u001b[39mcolumn_mapping)\n\u001b[1;32m    515\u001b[0m \u001b[38;5;28;01mif\u001b[39;00m strategy \u001b[38;5;241m==\u001b[39m \u001b[38;5;124m\"\u001b[39m\u001b[38;5;124meager\u001b[39m\u001b[38;5;124m\"\u001b[39m:\n\u001b[0;32m--> 516\u001b[0m     \u001b[38;5;28;01mreturn\u001b[39;00m \u001b[43mdf\u001b[49m\u001b[38;5;241;43m.\u001b[39;49m\u001b[43mcollect\u001b[49m\u001b[43m(\u001b[49m\u001b[43m)\u001b[49m\n\u001b[1;32m    517\u001b[0m \u001b[38;5;28;01mreturn\u001b[39;00m df\n",
      "File \u001b[0;32m/opt/hostedtoolcache/Python/3.11.6/x64/lib/python3.11/site-packages/polars/utils/deprecation.py:95\u001b[0m, in \u001b[0;36mdeprecate_renamed_parameter.<locals>.decorate.<locals>.wrapper\u001b[0;34m(*args, **kwargs)\u001b[0m\n\u001b[1;32m     90\u001b[0m \u001b[38;5;129m@wraps\u001b[39m(function)\n\u001b[1;32m     91\u001b[0m \u001b[38;5;28;01mdef\u001b[39;00m \u001b[38;5;21mwrapper\u001b[39m(\u001b[38;5;241m*\u001b[39margs: P\u001b[38;5;241m.\u001b[39margs, \u001b[38;5;241m*\u001b[39m\u001b[38;5;241m*\u001b[39mkwargs: P\u001b[38;5;241m.\u001b[39mkwargs) \u001b[38;5;241m-\u001b[39m\u001b[38;5;241m>\u001b[39m T:\n\u001b[1;32m     92\u001b[0m     _rename_keyword_argument(\n\u001b[1;32m     93\u001b[0m         old_name, new_name, kwargs, function\u001b[38;5;241m.\u001b[39m\u001b[38;5;18m__name__\u001b[39m, version\n\u001b[1;32m     94\u001b[0m     )\n\u001b[0;32m---> 95\u001b[0m     \u001b[38;5;28;01mreturn\u001b[39;00m \u001b[43mfunction\u001b[49m\u001b[43m(\u001b[49m\u001b[38;5;241;43m*\u001b[39;49m\u001b[43margs\u001b[49m\u001b[43m,\u001b[49m\u001b[43m \u001b[49m\u001b[38;5;241;43m*\u001b[39;49m\u001b[38;5;241;43m*\u001b[39;49m\u001b[43mkwargs\u001b[49m\u001b[43m)\u001b[49m\n",
      "File \u001b[0;32m/opt/hostedtoolcache/Python/3.11.6/x64/lib/python3.11/site-packages/polars/lazyframe/frame.py:1711\u001b[0m, in \u001b[0;36mLazyFrame.collect\u001b[0;34m(self, type_coercion, predicate_pushdown, projection_pushdown, simplify_expression, no_optimization, slice_pushdown, comm_subplan_elim, comm_subexpr_elim, streaming, **kwargs)\u001b[0m\n\u001b[1;32m   1698\u001b[0m     comm_subplan_elim \u001b[38;5;241m=\u001b[39m \u001b[38;5;28;01mFalse\u001b[39;00m\n\u001b[1;32m   1700\u001b[0m ldf \u001b[38;5;241m=\u001b[39m \u001b[38;5;28mself\u001b[39m\u001b[38;5;241m.\u001b[39m_ldf\u001b[38;5;241m.\u001b[39moptimization_toggle(\n\u001b[1;32m   1701\u001b[0m     type_coercion,\n\u001b[1;32m   1702\u001b[0m     predicate_pushdown,\n\u001b[0;32m   (...)\u001b[0m\n\u001b[1;32m   1709\u001b[0m     eager,\n\u001b[1;32m   1710\u001b[0m )\n\u001b[0;32m-> 1711\u001b[0m \u001b[38;5;28;01mreturn\u001b[39;00m wrap_df(ldf\u001b[38;5;241m.\u001b[39mcollect())\n",
      "\u001b[0;31mComputeError\u001b[0m: AttributeError: 'int' object has no attribute 'encode'"
     ]
    }
   ],
   "source": [
    "from hashlib import sha3_256\n",
    "\n",
    "anon.process(algorithm=lambda x: sha3_256(x.encode()).hexdigest())"
   ]
  }
 ],
 "metadata": {
  "kernelspec": {
   "display_name": "Python 3",
   "language": "python",
   "name": "python3"
  },
  "language_info": {
   "codemirror_mode": {
    "name": "ipython",
    "version": 3
   },
   "file_extension": ".py",
   "mimetype": "text/x-python",
   "name": "python",
   "nbconvert_exporter": "python",
   "pygments_lexer": "ipython3",
   "version": "3.11.6"
  },
  "vscode": {
   "interpreter": {
    "hash": "aee8b7b246df8f9039afb4144a1f6fd8d2ca17a180786b69acc140d282b71a49"
   }
  }
 },
 "nbformat": 4,
 "nbformat_minor": 2
}
