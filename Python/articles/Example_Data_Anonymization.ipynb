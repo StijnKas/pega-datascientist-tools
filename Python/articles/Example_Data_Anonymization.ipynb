{
 "cells": [
  {
   "attachments": {},
   "cell_type": "markdown",
   "metadata": {},
   "source": [
    "# Data Anonymization\n",
    "\n",
    "In Pega CDH 8.5 and up, it's now possible to record the historical data as seen by the Adaptive Models. See [this academy challenge](https://academy.pega.com/challenge/exporting-historical-data/v4) for reference. This historical data can be further used to experiment with offline models, but also to fine-tune the OOTB Gradient Boosting model. However, sharing this information with Pega can be sensitive as it contains raw predictor data. \n",
    "\n",
    "To this end, we provide a simple and transparent script to fully anonimize this dataset.\n",
    "\n",
    "The DataAnonymization script is now part of pdstools, and you can import it directly as such."
   ]
  },
  {
   "cell_type": "code",
   "execution_count": 1,
   "metadata": {
    "execution": {
     "iopub.execute_input": "2024-05-14T12:53:54.536638Z",
     "iopub.status.busy": "2024-05-14T12:53:54.536469Z",
     "iopub.status.idle": "2024-05-14T12:53:54.605748Z",
     "shell.execute_reply": "2024-05-14T12:53:54.605233Z"
    },
    "nbsphinx": "hidden"
   },
   "outputs": [],
   "source": [
    "# These lines are only for rendering in the docs, and are hidden through Jupyter tags\n",
    "# Do not run if you're running the notebook seperately\n",
    "\n",
    "import os  \n",
    "import sys\n",
    "import plotly.io as pio\n",
    "pio.renderers.default = \"notebook_connected\"\n",
    "\n",
    "sys.path.append(\"../../../\")\n",
    "sys.path.append('../../python')"
   ]
  },
  {
   "cell_type": "code",
   "execution_count": 2,
   "metadata": {
    "execution": {
     "iopub.execute_input": "2024-05-14T12:53:54.607750Z",
     "iopub.status.busy": "2024-05-14T12:53:54.607580Z",
     "iopub.status.idle": "2024-05-14T12:53:55.593796Z",
     "shell.execute_reply": "2024-05-14T12:53:55.593264Z"
    }
   },
   "outputs": [],
   "source": [
    "from pdstools import ADMDatamart\n",
    "from pdstools import Config, DataAnonymization\n",
    "import polars as pl"
   ]
  },
  {
   "attachments": {},
   "cell_type": "markdown",
   "metadata": {},
   "source": [
    "## Input data\n",
    "\n",
    "To demonstrate this process, we're going to anonymise this toy example dataframe:"
   ]
  },
  {
   "cell_type": "code",
   "execution_count": 3,
   "metadata": {
    "execution": {
     "iopub.execute_input": "2024-05-14T12:53:55.596338Z",
     "iopub.status.busy": "2024-05-14T12:53:55.595918Z",
     "iopub.status.idle": "2024-05-14T12:53:55.604222Z",
     "shell.execute_reply": "2024-05-14T12:53:55.603766Z"
    }
   },
   "outputs": [
    {
     "data": {
      "text/html": [
       "<div><style>\n",
       ".dataframe > thead > tr,\n",
       ".dataframe > tbody > tr {\n",
       "  text-align: right;\n",
       "  white-space: pre-wrap;\n",
       "}\n",
       "</style>\n",
       "<small>shape: (7, 6)</small><table border=\"1\" class=\"dataframe\"><thead><tr><th>Context_Name</th><th>Customer_MaritalStatus</th><th>Customer_CLV</th><th>Customer_City</th><th>IH_Web_Inbound_Accepted_pxLastGroupID</th><th>Decision_Outcome</th></tr><tr><td>str</td><td>str</td><td>i64</td><td>str</td><td>str</td><td>str</td></tr></thead><tbody><tr><td>&quot;FirstMortgage30yr&quot;</td><td>&quot;Married&quot;</td><td>1460</td><td>&quot;Port Raoul&quot;</td><td>&quot;Account&quot;</td><td>&quot;Rejected&quot;</td></tr><tr><td>&quot;FirstMortgage30yr&quot;</td><td>&quot;Unknown&quot;</td><td>669</td><td>&quot;Laurianneshire&quot;</td><td>&quot;AutoLoans&quot;</td><td>&quot;Accepted&quot;</td></tr><tr><td>&quot;MoneyMarketSavingsAccount&quot;</td><td>&quot;No Resp+&quot;</td><td>1174</td><td>&quot;Jacobshaven&quot;</td><td>&quot;Account&quot;</td><td>&quot;Rejected&quot;</td></tr><tr><td>&quot;BasicChecking&quot;</td><td>&quot;Unknown&quot;</td><td>1476</td><td>&quot;Lindton&quot;</td><td>&quot;Account&quot;</td><td>&quot;Rejected&quot;</td></tr><tr><td>&quot;BasicChecking&quot;</td><td>&quot;Married&quot;</td><td>1211</td><td>&quot;South Jimmieshire&quot;</td><td>&quot;DepositAccounts&quot;</td><td>&quot;Accepted&quot;</td></tr><tr><td>&quot;UPlusFinPersonal&quot;</td><td>&quot;No Resp+&quot;</td><td>533</td><td>&quot;Bergeville&quot;</td><td>null</td><td>&quot;Rejected&quot;</td></tr><tr><td>&quot;BasicChecking&quot;</td><td>&quot;No Resp+&quot;</td><td>555</td><td>&quot;Willyville&quot;</td><td>&quot;DepositAccounts&quot;</td><td>&quot;Rejected&quot;</td></tr></tbody></table></div>"
      ],
      "text/plain": [
       "shape: (7, 6)\n",
       "┌────────────────┬────────────────┬──────────────┬────────────────┬────────────────┬───────────────┐\n",
       "│ Context_Name   ┆ Customer_Marit ┆ Customer_CLV ┆ Customer_City  ┆ IH_Web_Inbound ┆ Decision_Outc │\n",
       "│ ---            ┆ alStatus       ┆ ---          ┆ ---            ┆ _Accepted_pxLa ┆ ome           │\n",
       "│ str            ┆ ---            ┆ i64          ┆ str            ┆ st…            ┆ ---           │\n",
       "│                ┆ str            ┆              ┆                ┆ ---            ┆ str           │\n",
       "│                ┆                ┆              ┆                ┆ str            ┆               │\n",
       "╞════════════════╪════════════════╪══════════════╪════════════════╪════════════════╪═══════════════╡\n",
       "│ FirstMortgage3 ┆ Married        ┆ 1460         ┆ Port Raoul     ┆ Account        ┆ Rejected      │\n",
       "│ 0yr            ┆                ┆              ┆                ┆                ┆               │\n",
       "│ FirstMortgage3 ┆ Unknown        ┆ 669          ┆ Laurianneshire ┆ AutoLoans      ┆ Accepted      │\n",
       "│ 0yr            ┆                ┆              ┆                ┆                ┆               │\n",
       "│ MoneyMarketSav ┆ No Resp+       ┆ 1174         ┆ Jacobshaven    ┆ Account        ┆ Rejected      │\n",
       "│ ingsAccount    ┆                ┆              ┆                ┆                ┆               │\n",
       "│ BasicChecking  ┆ Unknown        ┆ 1476         ┆ Lindton        ┆ Account        ┆ Rejected      │\n",
       "│ BasicChecking  ┆ Married        ┆ 1211         ┆ South          ┆ DepositAccount ┆ Accepted      │\n",
       "│                ┆                ┆              ┆ Jimmieshire    ┆ s              ┆               │\n",
       "│ UPlusFinPerson ┆ No Resp+       ┆ 533          ┆ Bergeville     ┆ null           ┆ Rejected      │\n",
       "│ al             ┆                ┆              ┆                ┆                ┆               │\n",
       "│ BasicChecking  ┆ No Resp+       ┆ 555          ┆ Willyville     ┆ DepositAccount ┆ Rejected      │\n",
       "│                ┆                ┆              ┆                ┆ s              ┆               │\n",
       "└────────────────┴────────────────┴──────────────┴────────────────┴────────────────┴───────────────┘"
      ]
     },
     "execution_count": 3,
     "metadata": {},
     "output_type": "execute_result"
    }
   ],
   "source": [
    "pl.read_ndjson('../../../../data/SampleHDS.json')"
   ]
  },
  {
   "attachments": {},
   "cell_type": "markdown",
   "metadata": {},
   "source": [
    "As you can see, this dataset consists of regular predictors, IH predictors, context keys and the outcome column. Additionally, some columns are numeric, others are strings. Let's first initialize the DataAnonymization class."
   ]
  },
  {
   "cell_type": "code",
   "execution_count": 4,
   "metadata": {
    "execution": {
     "iopub.execute_input": "2024-05-14T12:53:55.606282Z",
     "iopub.status.busy": "2024-05-14T12:53:55.605957Z",
     "iopub.status.idle": "2024-05-14T12:53:55.615277Z",
     "shell.execute_reply": "2024-05-14T12:53:55.614873Z"
    }
   },
   "outputs": [],
   "source": [
    "anon = DataAnonymization(hds_folder='../../../../data/')"
   ]
  },
  {
   "attachments": {},
   "cell_type": "markdown",
   "metadata": {},
   "source": [
    "By default, the class applies a set of anonymisation techniques:\n",
    "- Column names are remapped to a non-descriptive name\n",
    "- Categorical values are hashed with a random seed\n",
    "- Numerical values are normalized between 0 and 1\n",
    "- Outcomes are mapped to a binary outcome.\n",
    "\n",
    "To apply these techniques, simply call `.process()`:"
   ]
  },
  {
   "cell_type": "code",
   "execution_count": 5,
   "metadata": {
    "execution": {
     "iopub.execute_input": "2024-05-14T12:53:55.617211Z",
     "iopub.status.busy": "2024-05-14T12:53:55.616919Z",
     "iopub.status.idle": "2024-05-14T12:53:55.622405Z",
     "shell.execute_reply": "2024-05-14T12:53:55.621889Z"
    }
   },
   "outputs": [
    {
     "data": {
      "text/html": [
       "<div><style>\n",
       ".dataframe > thead > tr,\n",
       ".dataframe > tbody > tr {\n",
       "  text-align: right;\n",
       "  white-space: pre-wrap;\n",
       "}\n",
       "</style>\n",
       "<small>shape: (7, 7)</small><table border=\"1\" class=\"dataframe\"><thead><tr><th>filename</th><th>PREDICTOR_1</th><th>PREDICTOR_2</th><th>PREDICTOR_3</th><th>Context_Name</th><th>IH_PREDICTOR_0</th><th>Decision_Outcome</th></tr><tr><td>str</td><td>f64</td><td>str</td><td>str</td><td>str</td><td>str</td><td>bool</td></tr></thead><tbody><tr><td>&quot;../../../../data/SampleHDS.jso…</td><td>1.8193e19</td><td>&quot;8734997962293760244&quot;</td><td>&quot;5053529787726237372&quot;</td><td>&quot;3565094847481399216&quot;</td><td>&quot;14926335563951212260&quot;</td><td>false</td></tr><tr><td>&quot;../../../../data/SampleHDS.jso…</td><td>1.2841e19</td><td>&quot;9165622199217652805&quot;</td><td>&quot;11676944598815932332&quot;</td><td>&quot;3565094847481399216&quot;</td><td>&quot;10692743611995956266&quot;</td><td>true</td></tr><tr><td>&quot;../../../../data/SampleHDS.jso…</td><td>9.0346e18</td><td>&quot;5470981165119945971&quot;</td><td>&quot;18346501983323618001&quot;</td><td>&quot;488021697381017042&quot;</td><td>&quot;14926335563951212260&quot;</td><td>false</td></tr><tr><td>&quot;../../../../data/SampleHDS.jso…</td><td>3.4840e18</td><td>&quot;9165622199217652805&quot;</td><td>&quot;8833922649591212132&quot;</td><td>&quot;13078763322118606591&quot;</td><td>&quot;14926335563951212260&quot;</td><td>false</td></tr><tr><td>&quot;../../../../data/SampleHDS.jso…</td><td>1.2816e19</td><td>&quot;8734997962293760244&quot;</td><td>&quot;17250062085705149590&quot;</td><td>&quot;13078763322118606591&quot;</td><td>&quot;9719888628032625823&quot;</td><td>true</td></tr><tr><td>&quot;../../../../data/SampleHDS.jso…</td><td>1.6556e19</td><td>&quot;5470981165119945971&quot;</td><td>&quot;7350018321995118263&quot;</td><td>&quot;16462107798657238381&quot;</td><td>null</td><td>false</td></tr><tr><td>&quot;../../../../data/SampleHDS.jso…</td><td>4.2111e18</td><td>&quot;5470981165119945971&quot;</td><td>&quot;18163767353946447002&quot;</td><td>&quot;13078763322118606591&quot;</td><td>&quot;9719888628032625823&quot;</td><td>false</td></tr></tbody></table></div>"
      ],
      "text/plain": [
       "shape: (7, 7)\n",
       "┌──────────────┬─────────────┬─────────────┬─────────────┬─────────────┬─────────────┬─────────────┐\n",
       "│ filename     ┆ PREDICTOR_1 ┆ PREDICTOR_2 ┆ PREDICTOR_3 ┆ Context_Nam ┆ IH_PREDICTO ┆ Decision_Ou │\n",
       "│ ---          ┆ ---         ┆ ---         ┆ ---         ┆ e           ┆ R_0         ┆ tcome       │\n",
       "│ str          ┆ f64         ┆ str         ┆ str         ┆ ---         ┆ ---         ┆ ---         │\n",
       "│              ┆             ┆             ┆             ┆ str         ┆ str         ┆ bool        │\n",
       "╞══════════════╪═════════════╪═════════════╪═════════════╪═════════════╪═════════════╪═════════════╡\n",
       "│ ../../../../ ┆ 1.8193e19   ┆ 87349979622 ┆ 50535297877 ┆ 35650948474 ┆ 14926335563 ┆ false       │\n",
       "│ data/SampleH ┆             ┆ 93760244    ┆ 26237372    ┆ 81399216    ┆ 951212260   ┆             │\n",
       "│ DS.jso…      ┆             ┆             ┆             ┆             ┆             ┆             │\n",
       "│ ../../../../ ┆ 1.2841e19   ┆ 91656221992 ┆ 11676944598 ┆ 35650948474 ┆ 10692743611 ┆ true        │\n",
       "│ data/SampleH ┆             ┆ 17652805    ┆ 815932332   ┆ 81399216    ┆ 995956266   ┆             │\n",
       "│ DS.jso…      ┆             ┆             ┆             ┆             ┆             ┆             │\n",
       "│ ../../../../ ┆ 9.0346e18   ┆ 54709811651 ┆ 18346501983 ┆ 48802169738 ┆ 14926335563 ┆ false       │\n",
       "│ data/SampleH ┆             ┆ 19945971    ┆ 323618001   ┆ 1017042     ┆ 951212260   ┆             │\n",
       "│ DS.jso…      ┆             ┆             ┆             ┆             ┆             ┆             │\n",
       "│ ../../../../ ┆ 3.4840e18   ┆ 91656221992 ┆ 88339226495 ┆ 13078763322 ┆ 14926335563 ┆ false       │\n",
       "│ data/SampleH ┆             ┆ 17652805    ┆ 91212132    ┆ 118606591   ┆ 951212260   ┆             │\n",
       "│ DS.jso…      ┆             ┆             ┆             ┆             ┆             ┆             │\n",
       "│ ../../../../ ┆ 1.2816e19   ┆ 87349979622 ┆ 17250062085 ┆ 13078763322 ┆ 97198886280 ┆ true        │\n",
       "│ data/SampleH ┆             ┆ 93760244    ┆ 705149590   ┆ 118606591   ┆ 32625823    ┆             │\n",
       "│ DS.jso…      ┆             ┆             ┆             ┆             ┆             ┆             │\n",
       "│ ../../../../ ┆ 1.6556e19   ┆ 54709811651 ┆ 73500183219 ┆ 16462107798 ┆ null        ┆ false       │\n",
       "│ data/SampleH ┆             ┆ 19945971    ┆ 95118263    ┆ 657238381   ┆             ┆             │\n",
       "│ DS.jso…      ┆             ┆             ┆             ┆             ┆             ┆             │\n",
       "│ ../../../../ ┆ 4.2111e18   ┆ 54709811651 ┆ 18163767353 ┆ 13078763322 ┆ 97198886280 ┆ false       │\n",
       "│ data/SampleH ┆             ┆ 19945971    ┆ 946447002   ┆ 118606591   ┆ 32625823    ┆             │\n",
       "│ DS.jso…      ┆             ┆             ┆             ┆             ┆             ┆             │\n",
       "└──────────────┴─────────────┴─────────────┴─────────────┴─────────────┴─────────────┴─────────────┘"
      ]
     },
     "execution_count": 5,
     "metadata": {},
     "output_type": "execute_result"
    }
   ],
   "source": [
    "anon.process()"
   ]
  },
  {
   "attachments": {},
   "cell_type": "markdown",
   "metadata": {},
   "source": [
    "To trace back the columns to their original names, the class also contains a mapping, which does not have to be provided."
   ]
  },
  {
   "cell_type": "code",
   "execution_count": 6,
   "metadata": {
    "execution": {
     "iopub.execute_input": "2024-05-14T12:53:55.624307Z",
     "iopub.status.busy": "2024-05-14T12:53:55.624013Z",
     "iopub.status.idle": "2024-05-14T12:53:55.627664Z",
     "shell.execute_reply": "2024-05-14T12:53:55.627140Z"
    }
   },
   "outputs": [
    {
     "data": {
      "text/plain": [
       "{'filename': 'filename',\n",
       " 'Customer_CLV': 'PREDICTOR_1',\n",
       " 'Customer_MaritalStatus': 'PREDICTOR_2',\n",
       " 'Customer_City': 'PREDICTOR_3',\n",
       " 'Context_Name': 'Context_Name',\n",
       " 'IH_Web_Inbound_Accepted_pxLastGroupID': 'IH_PREDICTOR_0',\n",
       " 'Decision_Outcome': 'Decision_Outcome'}"
      ]
     },
     "execution_count": 6,
     "metadata": {},
     "output_type": "execute_result"
    }
   ],
   "source": [
    "anon.column_mapping"
   ]
  },
  {
   "attachments": {},
   "cell_type": "markdown",
   "metadata": {},
   "source": [
    "## Configs\n",
    "\n",
    "Each capability can optionally be turned off - see below for the full list of config options, and refer to the API reference for the full description."
   ]
  },
  {
   "cell_type": "code",
   "execution_count": 7,
   "metadata": {
    "execution": {
     "iopub.execute_input": "2024-05-14T12:53:55.629721Z",
     "iopub.status.busy": "2024-05-14T12:53:55.629385Z",
     "iopub.status.idle": "2024-05-14T12:53:55.633694Z",
     "shell.execute_reply": "2024-05-14T12:53:55.633225Z"
    }
   },
   "outputs": [
    {
     "data": {
      "text/plain": [
       "{'config_file': None,\n",
       " 'hds_folder': '.',\n",
       " 'use_datamart': False,\n",
       " 'datamart_folder': 'datamart',\n",
       " 'output_format': 'ndjson',\n",
       " 'output_folder': 'output',\n",
       " 'mapping_file': 'mapping.map',\n",
       " 'mask_predictor_names': True,\n",
       " 'mask_context_key_names': False,\n",
       " 'mask_ih_names': True,\n",
       " 'mask_outcome_name': False,\n",
       " 'mask_predictor_values': True,\n",
       " 'mask_context_key_values': True,\n",
       " 'mask_ih_values': True,\n",
       " 'mask_outcome_values': True,\n",
       " 'context_key_label': 'Context_*',\n",
       " 'ih_label': 'IH_*',\n",
       " 'outcome_column': 'Decision_Outcome',\n",
       " 'positive_outcomes': ['Accepted', 'Clicked'],\n",
       " 'negative_outcomes': ['Rejected', 'Impression'],\n",
       " 'special_predictors': ['Decision_DecisionTime',\n",
       "  'Decision_OutcomeTime',\n",
       "  'Decision_Rank'],\n",
       " 'sample_percentage_schema_inferencing': 0.01}"
      ]
     },
     "execution_count": 7,
     "metadata": {},
     "output_type": "execute_result"
    }
   ],
   "source": [
    "dict(zip(Config.__init__.__code__.co_varnames[1:], Config.__init__.__defaults__))"
   ]
  },
  {
   "attachments": {},
   "cell_type": "markdown",
   "metadata": {},
   "source": [
    "It's easy to change these parameters by just passing the keyword arguments. In the following example, we\n",
    "- Keep the IH predictor names\n",
    "- Keep the outcome values\n",
    "- Keep the context key values\n",
    "- Keep the context key predictor names"
   ]
  },
  {
   "cell_type": "code",
   "execution_count": 8,
   "metadata": {
    "execution": {
     "iopub.execute_input": "2024-05-14T12:53:55.635589Z",
     "iopub.status.busy": "2024-05-14T12:53:55.635281Z",
     "iopub.status.idle": "2024-05-14T12:53:55.643034Z",
     "shell.execute_reply": "2024-05-14T12:53:55.642586Z"
    }
   },
   "outputs": [
    {
     "data": {
      "text/html": [
       "<div><style>\n",
       ".dataframe > thead > tr,\n",
       ".dataframe > tbody > tr {\n",
       "  text-align: right;\n",
       "  white-space: pre-wrap;\n",
       "}\n",
       "</style>\n",
       "<small>shape: (7, 7)</small><table border=\"1\" class=\"dataframe\"><thead><tr><th>filename</th><th>PREDICTOR_1</th><th>PREDICTOR_2</th><th>PREDICTOR_3</th><th>Context_Name</th><th>IH_Web_Inbound_Accepted_pxLastGroupID</th><th>Decision_Outcome</th></tr><tr><td>str</td><td>f64</td><td>str</td><td>str</td><td>str</td><td>str</td><td>str</td></tr></thead><tbody><tr><td>&quot;../../../../data/SampleHDS.jso…</td><td>1.8367e19</td><td>&quot;10014215516237642637&quot;</td><td>&quot;3545409135666671446&quot;</td><td>&quot;FirstMortgage30yr&quot;</td><td>&quot;8307260166483955823&quot;</td><td>&quot;Rejected&quot;</td></tr><tr><td>&quot;../../../../data/SampleHDS.jso…</td><td>7.8588e18</td><td>&quot;3101982415141958751&quot;</td><td>&quot;16704935892369544798&quot;</td><td>&quot;FirstMortgage30yr&quot;</td><td>&quot;12255394379751775767&quot;</td><td>&quot;Accepted&quot;</td></tr><tr><td>&quot;../../../../data/SampleHDS.jso…</td><td>6.4746e17</td><td>&quot;4998695217353721849&quot;</td><td>&quot;2554918563875994690&quot;</td><td>&quot;MoneyMarketSavingsAccount&quot;</td><td>&quot;8307260166483955823&quot;</td><td>&quot;Rejected&quot;</td></tr><tr><td>&quot;../../../../data/SampleHDS.jso…</td><td>1.8739e18</td><td>&quot;3101982415141958751&quot;</td><td>&quot;18117355864429940457&quot;</td><td>&quot;BasicChecking&quot;</td><td>&quot;8307260166483955823&quot;</td><td>&quot;Rejected&quot;</td></tr><tr><td>&quot;../../../../data/SampleHDS.jso…</td><td>1.0661e18</td><td>&quot;10014215516237642637&quot;</td><td>&quot;15416208327096336538&quot;</td><td>&quot;BasicChecking&quot;</td><td>&quot;14383912147680247276&quot;</td><td>&quot;Accepted&quot;</td></tr><tr><td>&quot;../../../../data/SampleHDS.jso…</td><td>1.5476e19</td><td>&quot;4998695217353721849&quot;</td><td>&quot;5736487611059122044&quot;</td><td>&quot;UPlusFinPersonal&quot;</td><td>null</td><td>&quot;Rejected&quot;</td></tr><tr><td>&quot;../../../../data/SampleHDS.jso…</td><td>6.7072e18</td><td>&quot;4998695217353721849&quot;</td><td>&quot;16176191152568588281&quot;</td><td>&quot;BasicChecking&quot;</td><td>&quot;14383912147680247276&quot;</td><td>&quot;Rejected&quot;</td></tr></tbody></table></div>"
      ],
      "text/plain": [
       "shape: (7, 7)\n",
       "┌──────────────┬─────────────┬─────────────┬─────────────┬─────────────┬─────────────┬─────────────┐\n",
       "│ filename     ┆ PREDICTOR_1 ┆ PREDICTOR_2 ┆ PREDICTOR_3 ┆ Context_Nam ┆ IH_Web_Inbo ┆ Decision_Ou │\n",
       "│ ---          ┆ ---         ┆ ---         ┆ ---         ┆ e           ┆ und_Accepte ┆ tcome       │\n",
       "│ str          ┆ f64         ┆ str         ┆ str         ┆ ---         ┆ d_pxLast…   ┆ ---         │\n",
       "│              ┆             ┆             ┆             ┆ str         ┆ ---         ┆ str         │\n",
       "│              ┆             ┆             ┆             ┆             ┆ str         ┆             │\n",
       "╞══════════════╪═════════════╪═════════════╪═════════════╪═════════════╪═════════════╪═════════════╡\n",
       "│ ../../../../ ┆ 1.8367e19   ┆ 10014215516 ┆ 35454091356 ┆ FirstMortga ┆ 83072601664 ┆ Rejected    │\n",
       "│ data/SampleH ┆             ┆ 237642637   ┆ 66671446    ┆ ge30yr      ┆ 83955823    ┆             │\n",
       "│ DS.jso…      ┆             ┆             ┆             ┆             ┆             ┆             │\n",
       "│ ../../../../ ┆ 7.8588e18   ┆ 31019824151 ┆ 16704935892 ┆ FirstMortga ┆ 12255394379 ┆ Accepted    │\n",
       "│ data/SampleH ┆             ┆ 41958751    ┆ 369544798   ┆ ge30yr      ┆ 751775767   ┆             │\n",
       "│ DS.jso…      ┆             ┆             ┆             ┆             ┆             ┆             │\n",
       "│ ../../../../ ┆ 6.4746e17   ┆ 49986952173 ┆ 25549185638 ┆ MoneyMarket ┆ 83072601664 ┆ Rejected    │\n",
       "│ data/SampleH ┆             ┆ 53721849    ┆ 75994690    ┆ SavingsAcco ┆ 83955823    ┆             │\n",
       "│ DS.jso…      ┆             ┆             ┆             ┆ unt         ┆             ┆             │\n",
       "│ ../../../../ ┆ 1.8739e18   ┆ 31019824151 ┆ 18117355864 ┆ BasicChecki ┆ 83072601664 ┆ Rejected    │\n",
       "│ data/SampleH ┆             ┆ 41958751    ┆ 429940457   ┆ ng          ┆ 83955823    ┆             │\n",
       "│ DS.jso…      ┆             ┆             ┆             ┆             ┆             ┆             │\n",
       "│ ../../../../ ┆ 1.0661e18   ┆ 10014215516 ┆ 15416208327 ┆ BasicChecki ┆ 14383912147 ┆ Accepted    │\n",
       "│ data/SampleH ┆             ┆ 237642637   ┆ 096336538   ┆ ng          ┆ 680247276   ┆             │\n",
       "│ DS.jso…      ┆             ┆             ┆             ┆             ┆             ┆             │\n",
       "│ ../../../../ ┆ 1.5476e19   ┆ 49986952173 ┆ 57364876110 ┆ UPlusFinPer ┆ null        ┆ Rejected    │\n",
       "│ data/SampleH ┆             ┆ 53721849    ┆ 59122044    ┆ sonal       ┆             ┆             │\n",
       "│ DS.jso…      ┆             ┆             ┆             ┆             ┆             ┆             │\n",
       "│ ../../../../ ┆ 6.7072e18   ┆ 49986952173 ┆ 16176191152 ┆ BasicChecki ┆ 14383912147 ┆ Rejected    │\n",
       "│ data/SampleH ┆             ┆ 53721849    ┆ 568588281   ┆ ng          ┆ 680247276   ┆             │\n",
       "│ DS.jso…      ┆             ┆             ┆             ┆             ┆             ┆             │\n",
       "└──────────────┴─────────────┴─────────────┴─────────────┴─────────────┴─────────────┴─────────────┘"
      ]
     },
     "execution_count": 8,
     "metadata": {},
     "output_type": "execute_result"
    }
   ],
   "source": [
    "anon = DataAnonymization(\n",
    "    hds_folder=\"../../../../data/\",\n",
    "    mask_ih_names=False,\n",
    "    mask_outcome_values=False,\n",
    "    mask_context_key_values=False,\n",
    "    mask_context_key_names=False,\n",
    ")\n",
    "anon.process()\n"
   ]
  },
  {
   "attachments": {},
   "cell_type": "markdown",
   "metadata": {},
   "source": [
    "The configs can also be written and read as such:"
   ]
  },
  {
   "cell_type": "code",
   "execution_count": 9,
   "metadata": {
    "execution": {
     "iopub.execute_input": "2024-05-14T12:53:55.644883Z",
     "iopub.status.busy": "2024-05-14T12:53:55.644717Z",
     "iopub.status.idle": "2024-05-14T12:53:55.647464Z",
     "shell.execute_reply": "2024-05-14T12:53:55.647046Z"
    }
   },
   "outputs": [],
   "source": [
    "anon.config.save_to_config_file('config.json')"
   ]
  },
  {
   "cell_type": "code",
   "execution_count": 10,
   "metadata": {
    "execution": {
     "iopub.execute_input": "2024-05-14T12:53:55.649426Z",
     "iopub.status.busy": "2024-05-14T12:53:55.649110Z",
     "iopub.status.idle": "2024-05-14T12:53:55.656701Z",
     "shell.execute_reply": "2024-05-14T12:53:55.656146Z"
    }
   },
   "outputs": [
    {
     "data": {
      "text/html": [
       "<div><style>\n",
       ".dataframe > thead > tr,\n",
       ".dataframe > tbody > tr {\n",
       "  text-align: right;\n",
       "  white-space: pre-wrap;\n",
       "}\n",
       "</style>\n",
       "<small>shape: (7, 7)</small><table border=\"1\" class=\"dataframe\"><thead><tr><th>filename</th><th>PREDICTOR_1</th><th>PREDICTOR_2</th><th>PREDICTOR_3</th><th>Context_Name</th><th>IH_Web_Inbound_Accepted_pxLastGroupID</th><th>Decision_Outcome</th></tr><tr><td>str</td><td>f64</td><td>str</td><td>str</td><td>str</td><td>str</td><td>str</td></tr></thead><tbody><tr><td>&quot;../../../../data/SampleHDS.jso…</td><td>1.0712e19</td><td>&quot;8031211062353165529&quot;</td><td>&quot;8811824235266848814&quot;</td><td>&quot;FirstMortgage30yr&quot;</td><td>&quot;12140100940265661492&quot;</td><td>&quot;Rejected&quot;</td></tr><tr><td>&quot;../../../../data/SampleHDS.jso…</td><td>1.5625e19</td><td>&quot;210841704404280211&quot;</td><td>&quot;2214160391327182345&quot;</td><td>&quot;FirstMortgage30yr&quot;</td><td>&quot;11332604317151177476&quot;</td><td>&quot;Accepted&quot;</td></tr><tr><td>&quot;../../../../data/SampleHDS.jso…</td><td>1.6160e19</td><td>&quot;14698368787774945681&quot;</td><td>&quot;7785060098416983163&quot;</td><td>&quot;MoneyMarketSavingsAccount&quot;</td><td>&quot;12140100940265661492&quot;</td><td>&quot;Rejected&quot;</td></tr><tr><td>&quot;../../../../data/SampleHDS.jso…</td><td>1.5378e19</td><td>&quot;210841704404280211&quot;</td><td>&quot;11766921491014743946&quot;</td><td>&quot;BasicChecking&quot;</td><td>&quot;12140100940265661492&quot;</td><td>&quot;Rejected&quot;</td></tr><tr><td>&quot;../../../../data/SampleHDS.jso…</td><td>3.0819e18</td><td>&quot;8031211062353165529&quot;</td><td>&quot;9686015612093897294&quot;</td><td>&quot;BasicChecking&quot;</td><td>&quot;8755663088505372483&quot;</td><td>&quot;Accepted&quot;</td></tr><tr><td>&quot;../../../../data/SampleHDS.jso…</td><td>6.1597e18</td><td>&quot;14698368787774945681&quot;</td><td>&quot;6620634759934612375&quot;</td><td>&quot;UPlusFinPersonal&quot;</td><td>null</td><td>&quot;Rejected&quot;</td></tr><tr><td>&quot;../../../../data/SampleHDS.jso…</td><td>1.0319e19</td><td>&quot;14698368787774945681&quot;</td><td>&quot;15401600220661770765&quot;</td><td>&quot;BasicChecking&quot;</td><td>&quot;8755663088505372483&quot;</td><td>&quot;Rejected&quot;</td></tr></tbody></table></div>"
      ],
      "text/plain": [
       "shape: (7, 7)\n",
       "┌──────────────┬─────────────┬─────────────┬─────────────┬─────────────┬─────────────┬─────────────┐\n",
       "│ filename     ┆ PREDICTOR_1 ┆ PREDICTOR_2 ┆ PREDICTOR_3 ┆ Context_Nam ┆ IH_Web_Inbo ┆ Decision_Ou │\n",
       "│ ---          ┆ ---         ┆ ---         ┆ ---         ┆ e           ┆ und_Accepte ┆ tcome       │\n",
       "│ str          ┆ f64         ┆ str         ┆ str         ┆ ---         ┆ d_pxLast…   ┆ ---         │\n",
       "│              ┆             ┆             ┆             ┆ str         ┆ ---         ┆ str         │\n",
       "│              ┆             ┆             ┆             ┆             ┆ str         ┆             │\n",
       "╞══════════════╪═════════════╪═════════════╪═════════════╪═════════════╪═════════════╪═════════════╡\n",
       "│ ../../../../ ┆ 1.0712e19   ┆ 80312110623 ┆ 88118242352 ┆ FirstMortga ┆ 12140100940 ┆ Rejected    │\n",
       "│ data/SampleH ┆             ┆ 53165529    ┆ 66848814    ┆ ge30yr      ┆ 265661492   ┆             │\n",
       "│ DS.jso…      ┆             ┆             ┆             ┆             ┆             ┆             │\n",
       "│ ../../../../ ┆ 1.5625e19   ┆ 21084170440 ┆ 22141603913 ┆ FirstMortga ┆ 11332604317 ┆ Accepted    │\n",
       "│ data/SampleH ┆             ┆ 4280211     ┆ 27182345    ┆ ge30yr      ┆ 151177476   ┆             │\n",
       "│ DS.jso…      ┆             ┆             ┆             ┆             ┆             ┆             │\n",
       "│ ../../../../ ┆ 1.6160e19   ┆ 14698368787 ┆ 77850600984 ┆ MoneyMarket ┆ 12140100940 ┆ Rejected    │\n",
       "│ data/SampleH ┆             ┆ 774945681   ┆ 16983163    ┆ SavingsAcco ┆ 265661492   ┆             │\n",
       "│ DS.jso…      ┆             ┆             ┆             ┆ unt         ┆             ┆             │\n",
       "│ ../../../../ ┆ 1.5378e19   ┆ 21084170440 ┆ 11766921491 ┆ BasicChecki ┆ 12140100940 ┆ Rejected    │\n",
       "│ data/SampleH ┆             ┆ 4280211     ┆ 014743946   ┆ ng          ┆ 265661492   ┆             │\n",
       "│ DS.jso…      ┆             ┆             ┆             ┆             ┆             ┆             │\n",
       "│ ../../../../ ┆ 3.0819e18   ┆ 80312110623 ┆ 96860156120 ┆ BasicChecki ┆ 87556630885 ┆ Accepted    │\n",
       "│ data/SampleH ┆             ┆ 53165529    ┆ 93897294    ┆ ng          ┆ 05372483    ┆             │\n",
       "│ DS.jso…      ┆             ┆             ┆             ┆             ┆             ┆             │\n",
       "│ ../../../../ ┆ 6.1597e18   ┆ 14698368787 ┆ 66206347599 ┆ UPlusFinPer ┆ null        ┆ Rejected    │\n",
       "│ data/SampleH ┆             ┆ 774945681   ┆ 34612375    ┆ sonal       ┆             ┆             │\n",
       "│ DS.jso…      ┆             ┆             ┆             ┆             ┆             ┆             │\n",
       "│ ../../../../ ┆ 1.0319e19   ┆ 14698368787 ┆ 15401600220 ┆ BasicChecki ┆ 87556630885 ┆ Rejected    │\n",
       "│ data/SampleH ┆             ┆ 774945681   ┆ 661770765   ┆ ng          ┆ 05372483    ┆             │\n",
       "│ DS.jso…      ┆             ┆             ┆             ┆             ┆             ┆             │\n",
       "└──────────────┴─────────────┴─────────────┴─────────────┴─────────────┴─────────────┴─────────────┘"
      ]
     },
     "execution_count": 10,
     "metadata": {},
     "output_type": "execute_result"
    }
   ],
   "source": [
    "anon = DataAnonymization(config=Config(config_file='config.json'))\n",
    "anon.process()"
   ]
  },
  {
   "attachments": {},
   "cell_type": "markdown",
   "metadata": {},
   "source": [
    "## Exporting\n",
    "Two functions export:\n",
    "- `create_mapping_file()` writes the mapping file of the predictor names\n",
    "- `write_to_output()` writes the processed dataframe to disk\n",
    "\n",
    "Write to output accepts the following extensions: `[\"ndjson\", \"parquet\", \"arrow\", \"csv\"]`"
   ]
  },
  {
   "cell_type": "code",
   "execution_count": 11,
   "metadata": {
    "execution": {
     "iopub.execute_input": "2024-05-14T12:53:55.658797Z",
     "iopub.status.busy": "2024-05-14T12:53:55.658515Z",
     "iopub.status.idle": "2024-05-14T12:53:55.661727Z",
     "shell.execute_reply": "2024-05-14T12:53:55.661259Z"
    }
   },
   "outputs": [
    {
     "name": "stdout",
     "output_type": "stream",
     "text": [
      "filename=filename\n",
      "Customer_CLV=PREDICTOR_1\n",
      "Customer_MaritalStatus=PREDICTOR_2\n",
      "Customer_City=PREDICTOR_3\n",
      "Context_Name=Context_Name\n",
      "IH_Web_Inbound_Accepted_pxLastGroupID=IH_Web_Inbound_Accepted_pxLastGroupID\n",
      "Decision_Outcome=Decision_Outcome\n",
      "\n"
     ]
    }
   ],
   "source": [
    "anon.create_mapping_file()\n",
    "with open('mapping.map') as f:\n",
    "    print(f.read())"
   ]
  },
  {
   "cell_type": "code",
   "execution_count": 12,
   "metadata": {
    "execution": {
     "iopub.execute_input": "2024-05-14T12:53:55.663752Z",
     "iopub.status.busy": "2024-05-14T12:53:55.663362Z",
     "iopub.status.idle": "2024-05-14T12:53:55.666990Z",
     "shell.execute_reply": "2024-05-14T12:53:55.666471Z"
    }
   },
   "outputs": [],
   "source": [
    "anon.write_to_output(ext='arrow')"
   ]
  },
  {
   "cell_type": "code",
   "execution_count": 13,
   "metadata": {
    "execution": {
     "iopub.execute_input": "2024-05-14T12:53:55.668944Z",
     "iopub.status.busy": "2024-05-14T12:53:55.668535Z",
     "iopub.status.idle": "2024-05-14T12:53:55.673020Z",
     "shell.execute_reply": "2024-05-14T12:53:55.672513Z"
    }
   },
   "outputs": [
    {
     "data": {
      "text/html": [
       "<div><style>\n",
       ".dataframe > thead > tr,\n",
       ".dataframe > tbody > tr {\n",
       "  text-align: right;\n",
       "  white-space: pre-wrap;\n",
       "}\n",
       "</style>\n",
       "<small>shape: (7, 6)</small><table border=\"1\" class=\"dataframe\"><thead><tr><th>PREDICTOR_1</th><th>PREDICTOR_2</th><th>PREDICTOR_3</th><th>Context_Name</th><th>IH_Web_Inbound_Accepted_pxLastGroupID</th><th>Decision_Outcome</th></tr><tr><td>f64</td><td>str</td><td>str</td><td>str</td><td>str</td><td>str</td></tr></thead><tbody><tr><td>3.9301e18</td><td>&quot;9193919666310739798&quot;</td><td>&quot;2415626730374262795&quot;</td><td>&quot;FirstMortgage30yr&quot;</td><td>&quot;16984521334003788096&quot;</td><td>&quot;Rejected&quot;</td></tr><tr><td>1.3039e19</td><td>&quot;16937815534728044849&quot;</td><td>&quot;4995419402162828313&quot;</td><td>&quot;FirstMortgage30yr&quot;</td><td>&quot;9590627531974522891&quot;</td><td>&quot;Accepted&quot;</td></tr><tr><td>1.3724e19</td><td>&quot;12806974844925541&quot;</td><td>&quot;6011465764692857178&quot;</td><td>&quot;MoneyMarketSavingsAccount&quot;</td><td>&quot;16984521334003788096&quot;</td><td>&quot;Rejected&quot;</td></tr><tr><td>1.2369e19</td><td>&quot;16937815534728044849&quot;</td><td>&quot;5246301241847455799&quot;</td><td>&quot;BasicChecking&quot;</td><td>&quot;16984521334003788096&quot;</td><td>&quot;Rejected&quot;</td></tr><tr><td>1.8141e18</td><td>&quot;9193919666310739798&quot;</td><td>&quot;16325690720798853039&quot;</td><td>&quot;BasicChecking&quot;</td><td>&quot;11606300632664520659&quot;</td><td>&quot;Accepted&quot;</td></tr><tr><td>1.8004e19</td><td>&quot;12806974844925541&quot;</td><td>&quot;15430680152427342239&quot;</td><td>&quot;UPlusFinPersonal&quot;</td><td>null</td><td>&quot;Rejected&quot;</td></tr><tr><td>6.3356e18</td><td>&quot;12806974844925541&quot;</td><td>&quot;3633733981053265685&quot;</td><td>&quot;BasicChecking&quot;</td><td>&quot;11606300632664520659&quot;</td><td>&quot;Rejected&quot;</td></tr></tbody></table></div>"
      ],
      "text/plain": [
       "shape: (7, 6)\n",
       "┌─────────────┬────────────────┬────────────────┬────────────────┬────────────────┬────────────────┐\n",
       "│ PREDICTOR_1 ┆ PREDICTOR_2    ┆ PREDICTOR_3    ┆ Context_Name   ┆ IH_Web_Inbound ┆ Decision_Outco │\n",
       "│ ---         ┆ ---            ┆ ---            ┆ ---            ┆ _Accepted_pxLa ┆ me             │\n",
       "│ f64         ┆ str            ┆ str            ┆ str            ┆ st…            ┆ ---            │\n",
       "│             ┆                ┆                ┆                ┆ ---            ┆ str            │\n",
       "│             ┆                ┆                ┆                ┆ str            ┆                │\n",
       "╞═════════════╪════════════════╪════════════════╪════════════════╪════════════════╪════════════════╡\n",
       "│ 3.9301e18   ┆ 91939196663107 ┆ 24156267303742 ┆ FirstMortgage3 ┆ 16984521334003 ┆ Rejected       │\n",
       "│             ┆ 39798          ┆ 62795          ┆ 0yr            ┆ 788096         ┆                │\n",
       "│ 1.3039e19   ┆ 16937815534728 ┆ 49954194021628 ┆ FirstMortgage3 ┆ 95906275319745 ┆ Accepted       │\n",
       "│             ┆ 044849         ┆ 28313          ┆ 0yr            ┆ 22891          ┆                │\n",
       "│ 1.3724e19   ┆ 12806974844925 ┆ 60114657646928 ┆ MoneyMarketSav ┆ 16984521334003 ┆ Rejected       │\n",
       "│             ┆ 541            ┆ 57178          ┆ ingsAccount    ┆ 788096         ┆                │\n",
       "│ 1.2369e19   ┆ 16937815534728 ┆ 52463012418474 ┆ BasicChecking  ┆ 16984521334003 ┆ Rejected       │\n",
       "│             ┆ 044849         ┆ 55799          ┆                ┆ 788096         ┆                │\n",
       "│ 1.8141e18   ┆ 91939196663107 ┆ 16325690720798 ┆ BasicChecking  ┆ 11606300632664 ┆ Accepted       │\n",
       "│             ┆ 39798          ┆ 853039         ┆                ┆ 520659         ┆                │\n",
       "│ 1.8004e19   ┆ 12806974844925 ┆ 15430680152427 ┆ UPlusFinPerson ┆ null           ┆ Rejected       │\n",
       "│             ┆ 541            ┆ 342239         ┆ al             ┆                ┆                │\n",
       "│ 6.3356e18   ┆ 12806974844925 ┆ 36337339810532 ┆ BasicChecking  ┆ 11606300632664 ┆ Rejected       │\n",
       "│             ┆ 541            ┆ 65685          ┆                ┆ 520659         ┆                │\n",
       "└─────────────┴────────────────┴────────────────┴────────────────┴────────────────┴────────────────┘"
      ]
     },
     "execution_count": 13,
     "metadata": {},
     "output_type": "execute_result"
    }
   ],
   "source": [
    "pl.read_ipc('output/hds.arrow')"
   ]
  },
  {
   "attachments": {},
   "cell_type": "markdown",
   "metadata": {
    "nbsphinx": "hidden"
   },
   "source": [
    "## Advanced: Hash fuctions\n",
    "\n",
    "By default, we use [the same hashing algorithm Polars](https://pola-rs.github.io/polars/py-polars/html/reference/expressions/api/polars.Expr.hash.html#polars.Expr.hash) uses: [xxhash](https://github.com/Cyan4973/xxHash), as implemented [here](https://github.com/pola-rs/polars/blob/3f287f370b3c388ed2f3f218b2c096382548136f/polars/polars-core/src/vector_hasher.rs#L266). xxhash is fast to compute, and you can check its performance in collision, dispersion and randomness [here](https://github.com/Cyan4973/xxHash/tree/dev/tests). \n",
    "\n",
    "xxhash accepts four distinct seeds, but by default we set the seeds to `0`. It is possible to set the `seed` argument of the `process()` function to `'random'`, which will set all four seeds to a random integer between `0` and `1000000000`. Alternatively, it is possible to supply the four seeds manually with arguments `seed`, `seed_1`, `seed_2` and `seed_3`. \n",
    "\n",
    "If the xxhash with (random) seed(s) is not deemed sufficiently secure, it is possible to use your own hashing algorithm.\n",
    "\n",
    "Note that since we're now running python code and not native Polars code anymore, this will be _significantly_ slower. Nonetheless, it is possible.\n",
    "\n",
    "Just as an example - this is how one would use sha3_256:"
   ]
  },
  {
   "cell_type": "code",
   "execution_count": 14,
   "metadata": {
    "execution": {
     "iopub.execute_input": "2024-05-14T12:53:55.675213Z",
     "iopub.status.busy": "2024-05-14T12:53:55.674801Z",
     "iopub.status.idle": "2024-05-14T12:53:55.992278Z",
     "shell.execute_reply": "2024-05-14T12:53:55.991689Z"
    },
    "nbsphinx": "hidden"
   },
   "outputs": [
    {
     "name": "stderr",
     "output_type": "stream",
     "text": [
      "sys:1: MapWithoutReturnDtypeWarning:\n",
      "\n",
      "Calling `map_elements` without specifying `return_dtype` can lead to unpredictable results. Specify `return_dtype` to silence this warning.\n",
      "\n",
      "sys:1: MapWithoutReturnDtypeWarning:\n",
      "\n",
      "Calling `map_elements` without specifying `return_dtype` can lead to unpredictable results. Specify `return_dtype` to silence this warning.\n",
      "\n",
      "sys:1: MapWithoutReturnDtypeWarning:\n",
      "\n",
      "Calling `map_elements` without specifying `return_dtype` can lead to unpredictable results. Specify `return_dtype` to silence this warning.\n",
      "\n",
      "sys:1: MapWithoutReturnDtypeWarning:\n",
      "\n",
      "Calling `map_elements` without specifying `return_dtype` can lead to unpredictable results. Specify `return_dtype` to silence this warning.\n",
      "\n"
     ]
    },
    {
     "ename": "ComputeError",
     "evalue": "AttributeError: 'int' object has no attribute 'encode'",
     "output_type": "error",
     "traceback": [
      "\u001b[0;31m---------------------------------------------------------------------------\u001b[0m",
      "\u001b[0;31mComputeError\u001b[0m                              Traceback (most recent call last)",
      "Cell \u001b[0;32mIn[14], line 3\u001b[0m\n\u001b[1;32m      1\u001b[0m \u001b[38;5;28;01mfrom\u001b[39;00m \u001b[38;5;21;01mhashlib\u001b[39;00m \u001b[38;5;28;01mimport\u001b[39;00m sha3_256\n\u001b[0;32m----> 3\u001b[0m \u001b[43manon\u001b[49m\u001b[38;5;241;43m.\u001b[39;49m\u001b[43mprocess\u001b[49m\u001b[43m(\u001b[49m\u001b[43malgorithm\u001b[49m\u001b[38;5;241;43m=\u001b[39;49m\u001b[38;5;28;43;01mlambda\u001b[39;49;00m\u001b[43m \u001b[49m\u001b[43mx\u001b[49m\u001b[43m:\u001b[49m\u001b[43m \u001b[49m\u001b[43msha3_256\u001b[49m\u001b[43m(\u001b[49m\u001b[43mx\u001b[49m\u001b[38;5;241;43m.\u001b[39;49m\u001b[43mencode\u001b[49m\u001b[43m(\u001b[49m\u001b[43m)\u001b[49m\u001b[43m)\u001b[49m\u001b[38;5;241;43m.\u001b[39;49m\u001b[43mhexdigest\u001b[49m\u001b[43m(\u001b[49m\u001b[43m)\u001b[49m\u001b[43m)\u001b[49m\n",
      "File \u001b[0;32m~/work/pega-datascientist-tools/pega-datascientist-tools/python/docs/source/articles/../../../pdstools/utils/hds_utils.py:512\u001b[0m, in \u001b[0;36mDataAnonymization.process\u001b[0;34m(self, strategy, **kwargs)\u001b[0m\n\u001b[1;32m    510\u001b[0m df \u001b[38;5;241m=\u001b[39m df\u001b[38;5;241m.\u001b[39mselect(\u001b[38;5;28mself\u001b[39m\u001b[38;5;241m.\u001b[39mcolumn_mapping\u001b[38;5;241m.\u001b[39mkeys())\u001b[38;5;241m.\u001b[39mrename(\u001b[38;5;28mself\u001b[39m\u001b[38;5;241m.\u001b[39mcolumn_mapping)\n\u001b[1;32m    511\u001b[0m \u001b[38;5;28;01mif\u001b[39;00m strategy \u001b[38;5;241m==\u001b[39m \u001b[38;5;124m\"\u001b[39m\u001b[38;5;124meager\u001b[39m\u001b[38;5;124m\"\u001b[39m:\n\u001b[0;32m--> 512\u001b[0m     \u001b[38;5;28;01mreturn\u001b[39;00m \u001b[43mdf\u001b[49m\u001b[38;5;241;43m.\u001b[39;49m\u001b[43mcollect\u001b[49m\u001b[43m(\u001b[49m\u001b[43m)\u001b[49m\n\u001b[1;32m    513\u001b[0m \u001b[38;5;28;01mreturn\u001b[39;00m df\n",
      "File \u001b[0;32m/opt/hostedtoolcache/Python/3.11.9/x64/lib/python3.11/site-packages/polars/lazyframe/frame.py:1816\u001b[0m, in \u001b[0;36mLazyFrame.collect\u001b[0;34m(self, type_coercion, predicate_pushdown, projection_pushdown, simplify_expression, slice_pushdown, comm_subplan_elim, comm_subexpr_elim, no_optimization, streaming, background, _eager, **_kwargs)\u001b[0m\n\u001b[1;32m   1813\u001b[0m \u001b[38;5;66;03m# Only for testing purposes atm.\u001b[39;00m\n\u001b[1;32m   1814\u001b[0m callback \u001b[38;5;241m=\u001b[39m _kwargs\u001b[38;5;241m.\u001b[39mget(\u001b[38;5;124m\"\u001b[39m\u001b[38;5;124mpost_opt_callback\u001b[39m\u001b[38;5;124m\"\u001b[39m)\n\u001b[0;32m-> 1816\u001b[0m \u001b[38;5;28;01mreturn\u001b[39;00m wrap_df(\u001b[43mldf\u001b[49m\u001b[38;5;241;43m.\u001b[39;49m\u001b[43mcollect\u001b[49m\u001b[43m(\u001b[49m\u001b[43mcallback\u001b[49m\u001b[43m)\u001b[49m)\n",
      "\u001b[0;31mComputeError\u001b[0m: AttributeError: 'int' object has no attribute 'encode'"
     ]
    }
   ],
   "source": [
    "from hashlib import sha3_256\n",
    "\n",
    "anon.process(algorithm=lambda x: sha3_256(x.encode()).hexdigest())"
   ]
  }
 ],
 "metadata": {
  "kernelspec": {
   "display_name": "Python 3",
   "language": "python",
   "name": "python3"
  },
  "language_info": {
   "codemirror_mode": {
    "name": "ipython",
    "version": 3
   },
   "file_extension": ".py",
   "mimetype": "text/x-python",
   "name": "python",
   "nbconvert_exporter": "python",
   "pygments_lexer": "ipython3",
   "version": "3.11.9"
  },
  "vscode": {
   "interpreter": {
    "hash": "aee8b7b246df8f9039afb4144a1f6fd8d2ca17a180786b69acc140d282b71a49"
   }
  }
 },
 "nbformat": 4,
 "nbformat_minor": 2
}
