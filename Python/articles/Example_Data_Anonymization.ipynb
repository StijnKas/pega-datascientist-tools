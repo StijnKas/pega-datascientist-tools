{
 "cells": [
  {
   "attachments": {},
   "cell_type": "markdown",
   "metadata": {},
   "source": [
    "# Example data anonymization\n",
    "\n",
    "In Pega CDH 8.5 and up, it's now possible to record the historical data as seen by the Adaptive Models. See [this academy challenge](https://academy.pega.com/challenge/exporting-historical-data/v4) for reference. This historical data can be further used to experiment with offline models, but also to fine-tune the OOTB Gradient Boosting model. However, sharing this information with Pega can be sensitive as it contains raw predictor data. \n",
    "\n",
    "To this end, we provide a simple and transparent script to fully anonimize this dataset.\n",
    "\n",
    "The DataAnonymization script is now part of pdstools, and you can import it directly as such."
   ]
  },
  {
   "cell_type": "code",
   "execution_count": 1,
   "metadata": {
    "execution": {
     "iopub.execute_input": "2023-12-08T10:05:57.064465Z",
     "iopub.status.busy": "2023-12-08T10:05:57.064047Z",
     "iopub.status.idle": "2023-12-08T10:05:57.133673Z",
     "shell.execute_reply": "2023-12-08T10:05:57.133169Z"
    },
    "nbsphinx": "hidden"
   },
   "outputs": [],
   "source": [
    "# These lines are only for rendering in the docs, and are hidden through Jupyter tags\n",
    "# Do not run if you're running the notebook seperately\n",
    "\n",
    "import os  \n",
    "import sys\n",
    "import plotly.io as pio\n",
    "pio.renderers.default = \"notebook_connected\"\n",
    "\n",
    "sys.path.append(\"../../../\")\n",
    "sys.path.append('../../python')"
   ]
  },
  {
   "cell_type": "code",
   "execution_count": 2,
   "metadata": {
    "execution": {
     "iopub.execute_input": "2023-12-08T10:05:57.136075Z",
     "iopub.status.busy": "2023-12-08T10:05:57.135738Z",
     "iopub.status.idle": "2023-12-08T10:05:58.136051Z",
     "shell.execute_reply": "2023-12-08T10:05:58.135443Z"
    }
   },
   "outputs": [],
   "source": [
    "from pdstools import ADMDatamart\n",
    "from pdstools import Config, DataAnonymization\n",
    "import polars as pl"
   ]
  },
  {
   "attachments": {},
   "cell_type": "markdown",
   "metadata": {},
   "source": [
    "## Input data\n",
    "\n",
    "To demonstrate this process, we're going to anonymise this toy example dataframe:"
   ]
  },
  {
   "cell_type": "code",
   "execution_count": 3,
   "metadata": {
    "execution": {
     "iopub.execute_input": "2023-12-08T10:05:58.138833Z",
     "iopub.status.busy": "2023-12-08T10:05:58.138374Z",
     "iopub.status.idle": "2023-12-08T10:05:58.147792Z",
     "shell.execute_reply": "2023-12-08T10:05:58.147306Z"
    }
   },
   "outputs": [
    {
     "data": {
      "text/html": [
       "<div><style>\n",
       ".dataframe > thead > tr > th,\n",
       ".dataframe > tbody > tr > td {\n",
       "  text-align: right;\n",
       "  white-space: pre-wrap;\n",
       "}\n",
       "</style>\n",
       "<small>shape: (7, 6)</small><table border=\"1\" class=\"dataframe\"><thead><tr><th>Context_Name</th><th>Customer_MaritalStatus</th><th>Customer_CLV</th><th>Customer_City</th><th>IH_Web_Inbound_Accepted_pxLastGroupID</th><th>Decision_Outcome</th></tr><tr><td>str</td><td>str</td><td>i64</td><td>str</td><td>str</td><td>str</td></tr></thead><tbody><tr><td>&quot;FirstMortgage3…</td><td>&quot;Married&quot;</td><td>1460</td><td>&quot;Port Raoul&quot;</td><td>&quot;Account&quot;</td><td>&quot;Rejected&quot;</td></tr><tr><td>&quot;FirstMortgage3…</td><td>&quot;Unknown&quot;</td><td>669</td><td>&quot;Laurianneshire…</td><td>&quot;AutoLoans&quot;</td><td>&quot;Accepted&quot;</td></tr><tr><td>&quot;MoneyMarketSav…</td><td>&quot;No Resp+&quot;</td><td>1174</td><td>&quot;Jacobshaven&quot;</td><td>&quot;Account&quot;</td><td>&quot;Rejected&quot;</td></tr><tr><td>&quot;BasicChecking&quot;</td><td>&quot;Unknown&quot;</td><td>1476</td><td>&quot;Lindton&quot;</td><td>&quot;Account&quot;</td><td>&quot;Rejected&quot;</td></tr><tr><td>&quot;BasicChecking&quot;</td><td>&quot;Married&quot;</td><td>1211</td><td>&quot;South Jimmiesh…</td><td>&quot;DepositAccount…</td><td>&quot;Accepted&quot;</td></tr><tr><td>&quot;UPlusFinPerson…</td><td>&quot;No Resp+&quot;</td><td>533</td><td>&quot;Bergeville&quot;</td><td>null</td><td>&quot;Rejected&quot;</td></tr><tr><td>&quot;BasicChecking&quot;</td><td>&quot;No Resp+&quot;</td><td>555</td><td>&quot;Willyville&quot;</td><td>&quot;DepositAccount…</td><td>&quot;Rejected&quot;</td></tr></tbody></table></div>"
      ],
      "text/plain": [
       "shape: (7, 6)\n",
       "┌────────────────┬────────────────┬──────────────┬────────────────┬────────────────┬───────────────┐\n",
       "│ Context_Name   ┆ Customer_Marit ┆ Customer_CLV ┆ Customer_City  ┆ IH_Web_Inbound ┆ Decision_Outc │\n",
       "│ ---            ┆ alStatus       ┆ ---          ┆ ---            ┆ _Accepted_pxLa ┆ ome           │\n",
       "│ str            ┆ ---            ┆ i64          ┆ str            ┆ stGr…          ┆ ---           │\n",
       "│                ┆ str            ┆              ┆                ┆ ---            ┆ str           │\n",
       "│                ┆                ┆              ┆                ┆ str            ┆               │\n",
       "╞════════════════╪════════════════╪══════════════╪════════════════╪════════════════╪═══════════════╡\n",
       "│ FirstMortgage3 ┆ Married        ┆ 1460         ┆ Port Raoul     ┆ Account        ┆ Rejected      │\n",
       "│ 0yr            ┆                ┆              ┆                ┆                ┆               │\n",
       "│ FirstMortgage3 ┆ Unknown        ┆ 669          ┆ Laurianneshire ┆ AutoLoans      ┆ Accepted      │\n",
       "│ 0yr            ┆                ┆              ┆                ┆                ┆               │\n",
       "│ MoneyMarketSav ┆ No Resp+       ┆ 1174         ┆ Jacobshaven    ┆ Account        ┆ Rejected      │\n",
       "│ ingsAccount    ┆                ┆              ┆                ┆                ┆               │\n",
       "│ BasicChecking  ┆ Unknown        ┆ 1476         ┆ Lindton        ┆ Account        ┆ Rejected      │\n",
       "│ BasicChecking  ┆ Married        ┆ 1211         ┆ South          ┆ DepositAccount ┆ Accepted      │\n",
       "│                ┆                ┆              ┆ Jimmieshire    ┆ s              ┆               │\n",
       "│ UPlusFinPerson ┆ No Resp+       ┆ 533          ┆ Bergeville     ┆ null           ┆ Rejected      │\n",
       "│ al             ┆                ┆              ┆                ┆                ┆               │\n",
       "│ BasicChecking  ┆ No Resp+       ┆ 555          ┆ Willyville     ┆ DepositAccount ┆ Rejected      │\n",
       "│                ┆                ┆              ┆                ┆ s              ┆               │\n",
       "└────────────────┴────────────────┴──────────────┴────────────────┴────────────────┴───────────────┘"
      ]
     },
     "execution_count": 3,
     "metadata": {},
     "output_type": "execute_result"
    }
   ],
   "source": [
    "pl.read_ndjson('../../../../data/SampleHDS.json')"
   ]
  },
  {
   "attachments": {},
   "cell_type": "markdown",
   "metadata": {},
   "source": [
    "As you can see, this dataset consists of regular predictors, IH predictors, context keys and the outcome column. Additionally, some columns are numeric, others are strings. Let's first initialize the DataAnonymization class."
   ]
  },
  {
   "cell_type": "code",
   "execution_count": 4,
   "metadata": {
    "execution": {
     "iopub.execute_input": "2023-12-08T10:05:58.149865Z",
     "iopub.status.busy": "2023-12-08T10:05:58.149594Z",
     "iopub.status.idle": "2023-12-08T10:05:58.158099Z",
     "shell.execute_reply": "2023-12-08T10:05:58.157689Z"
    }
   },
   "outputs": [],
   "source": [
    "anon = DataAnonymization(hds_folder='../../../../data/')"
   ]
  },
  {
   "attachments": {},
   "cell_type": "markdown",
   "metadata": {},
   "source": [
    "By default, the class applies a set of anonymisation techniques:\n",
    "- Column names are remapped to a non-descriptive name\n",
    "- Categorical values are hashed with a random seed\n",
    "- Numerical values are normalized between 0 and 1\n",
    "- Outcomes are mapped to a binary outcome.\n",
    "\n",
    "To apply these techniques, simply call `.process()`:"
   ]
  },
  {
   "cell_type": "code",
   "execution_count": 5,
   "metadata": {
    "execution": {
     "iopub.execute_input": "2023-12-08T10:05:58.160028Z",
     "iopub.status.busy": "2023-12-08T10:05:58.159855Z",
     "iopub.status.idle": "2023-12-08T10:05:58.165116Z",
     "shell.execute_reply": "2023-12-08T10:05:58.164678Z"
    }
   },
   "outputs": [
    {
     "data": {
      "text/html": [
       "<div><style>\n",
       ".dataframe > thead > tr > th,\n",
       ".dataframe > tbody > tr > td {\n",
       "  text-align: right;\n",
       "  white-space: pre-wrap;\n",
       "}\n",
       "</style>\n",
       "<small>shape: (7, 7)</small><table border=\"1\" class=\"dataframe\"><thead><tr><th>PREDICTOR_0</th><th>PREDICTOR_1</th><th>PREDICTOR_2</th><th>filename</th><th>Context_Name</th><th>IH_PREDICTOR_0</th><th>Decision_Outcome</th></tr><tr><td>f64</td><td>str</td><td>str</td><td>str</td><td>str</td><td>str</td><td>bool</td></tr></thead><tbody><tr><td>1.2927e19</td><td>&quot;82788226952000…</td><td>&quot;14404453783465…</td><td>&quot;../../../../da…</td><td>&quot;14598137818554…</td><td>&quot;91781133765226…</td><td>false</td></tr><tr><td>1.4856e19</td><td>&quot;14787566814202…</td><td>&quot;92228001274259…</td><td>&quot;../../../../da…</td><td>&quot;14598137818554…</td><td>&quot;57991994733241…</td><td>true</td></tr><tr><td>5.6458e17</td><td>&quot;12474199030582…</td><td>&quot;64715022596660…</td><td>&quot;../../../../da…</td><td>&quot;17147609693198…</td><td>&quot;91781133765226…</td><td>false</td></tr><tr><td>4.0723e18</td><td>&quot;14787566814202…</td><td>&quot;74403298913235…</td><td>&quot;../../../../da…</td><td>&quot;12655594822103…</td><td>&quot;91781133765226…</td><td>false</td></tr><tr><td>1.4677e19</td><td>&quot;82788226952000…</td><td>&quot;13921662552763…</td><td>&quot;../../../../da…</td><td>&quot;12655594822103…</td><td>&quot;93561984507846…</td><td>true</td></tr><tr><td>1.6330e19</td><td>&quot;12474199030582…</td><td>&quot;10284470011504…</td><td>&quot;../../../../da…</td><td>&quot;11854492028158…</td><td>null</td><td>false</td></tr><tr><td>8.7675e18</td><td>&quot;12474199030582…</td><td>&quot;14272679294982…</td><td>&quot;../../../../da…</td><td>&quot;12655594822103…</td><td>&quot;93561984507846…</td><td>false</td></tr></tbody></table></div>"
      ],
      "text/plain": [
       "shape: (7, 7)\n",
       "┌─────────────┬──────────────┬─────────────┬─────────────┬─────────────┬─────────────┬─────────────┐\n",
       "│ PREDICTOR_0 ┆ PREDICTOR_1  ┆ PREDICTOR_2 ┆ filename    ┆ Context_Nam ┆ IH_PREDICTO ┆ Decision_Ou │\n",
       "│ ---         ┆ ---          ┆ ---         ┆ ---         ┆ e           ┆ R_0         ┆ tcome       │\n",
       "│ f64         ┆ str          ┆ str         ┆ str         ┆ ---         ┆ ---         ┆ ---         │\n",
       "│             ┆              ┆             ┆             ┆ str         ┆ str         ┆ bool        │\n",
       "╞═════════════╪══════════════╪═════════════╪═════════════╪═════════════╪═════════════╪═════════════╡\n",
       "│ 1.2927e19   ┆ 827882269520 ┆ 14404453783 ┆ ../../../.. ┆ 14598137818 ┆ 91781133765 ┆ false       │\n",
       "│             ┆ 0097317      ┆ 465706508   ┆ /data/Sampl ┆ 554214486   ┆ 22654433    ┆             │\n",
       "│             ┆              ┆             ┆ eHDS.json   ┆             ┆             ┆             │\n",
       "│ 1.4856e19   ┆ 147875668142 ┆ 92228001274 ┆ ../../../.. ┆ 14598137818 ┆ 57991994733 ┆ true        │\n",
       "│             ┆ 02008492     ┆ 25916978    ┆ /data/Sampl ┆ 554214486   ┆ 24122213    ┆             │\n",
       "│             ┆              ┆             ┆ eHDS.json   ┆             ┆             ┆             │\n",
       "│ 5.6458e17   ┆ 124741990305 ┆ 64715022596 ┆ ../../../.. ┆ 17147609693 ┆ 91781133765 ┆ false       │\n",
       "│             ┆ 82414844     ┆ 66005587    ┆ /data/Sampl ┆ 198143548   ┆ 22654433    ┆             │\n",
       "│             ┆              ┆             ┆ eHDS.json   ┆             ┆             ┆             │\n",
       "│ 4.0723e18   ┆ 147875668142 ┆ 74403298913 ┆ ../../../.. ┆ 12655594822 ┆ 91781133765 ┆ false       │\n",
       "│             ┆ 02008492     ┆ 23532119    ┆ /data/Sampl ┆ 103979923   ┆ 22654433    ┆             │\n",
       "│             ┆              ┆             ┆ eHDS.json   ┆             ┆             ┆             │\n",
       "│ 1.4677e19   ┆ 827882269520 ┆ 13921662552 ┆ ../../../.. ┆ 12655594822 ┆ 93561984507 ┆ true        │\n",
       "│             ┆ 0097317      ┆ 763927554   ┆ /data/Sampl ┆ 103979923   ┆ 84622337    ┆             │\n",
       "│             ┆              ┆             ┆ eHDS.json   ┆             ┆             ┆             │\n",
       "│ 1.6330e19   ┆ 124741990305 ┆ 10284470011 ┆ ../../../.. ┆ 11854492028 ┆ null        ┆ false       │\n",
       "│             ┆ 82414844     ┆ 504220765   ┆ /data/Sampl ┆ 158657407   ┆             ┆             │\n",
       "│             ┆              ┆             ┆ eHDS.json   ┆             ┆             ┆             │\n",
       "│ 8.7675e18   ┆ 124741990305 ┆ 14272679294 ┆ ../../../.. ┆ 12655594822 ┆ 93561984507 ┆ false       │\n",
       "│             ┆ 82414844     ┆ 982290815   ┆ /data/Sampl ┆ 103979923   ┆ 84622337    ┆             │\n",
       "│             ┆              ┆             ┆ eHDS.json   ┆             ┆             ┆             │\n",
       "└─────────────┴──────────────┴─────────────┴─────────────┴─────────────┴─────────────┴─────────────┘"
      ]
     },
     "execution_count": 5,
     "metadata": {},
     "output_type": "execute_result"
    }
   ],
   "source": [
    "anon.process()"
   ]
  },
  {
   "attachments": {},
   "cell_type": "markdown",
   "metadata": {},
   "source": [
    "To trace back the columns to their original names, the class also contains a mapping, which does not have to be provided."
   ]
  },
  {
   "cell_type": "code",
   "execution_count": 6,
   "metadata": {
    "execution": {
     "iopub.execute_input": "2023-12-08T10:05:58.167121Z",
     "iopub.status.busy": "2023-12-08T10:05:58.166943Z",
     "iopub.status.idle": "2023-12-08T10:05:58.170459Z",
     "shell.execute_reply": "2023-12-08T10:05:58.169972Z"
    }
   },
   "outputs": [
    {
     "data": {
      "text/plain": [
       "{'Customer_CLV': 'PREDICTOR_0',\n",
       " 'Customer_MaritalStatus': 'PREDICTOR_1',\n",
       " 'Customer_City': 'PREDICTOR_2',\n",
       " 'filename': 'filename',\n",
       " 'Context_Name': 'Context_Name',\n",
       " 'IH_Web_Inbound_Accepted_pxLastGroupID': 'IH_PREDICTOR_0',\n",
       " 'Decision_Outcome': 'Decision_Outcome'}"
      ]
     },
     "execution_count": 6,
     "metadata": {},
     "output_type": "execute_result"
    }
   ],
   "source": [
    "anon.column_mapping"
   ]
  },
  {
   "attachments": {},
   "cell_type": "markdown",
   "metadata": {},
   "source": [
    "## Configs\n",
    "\n",
    "Each capability can optionally be turned off - see below for the full list of config options, and refer to the API reference for the full description."
   ]
  },
  {
   "cell_type": "code",
   "execution_count": 7,
   "metadata": {
    "execution": {
     "iopub.execute_input": "2023-12-08T10:05:58.172428Z",
     "iopub.status.busy": "2023-12-08T10:05:58.172104Z",
     "iopub.status.idle": "2023-12-08T10:05:58.176234Z",
     "shell.execute_reply": "2023-12-08T10:05:58.175699Z"
    }
   },
   "outputs": [
    {
     "data": {
      "text/plain": [
       "{'config_file': None,\n",
       " 'hds_folder': '.',\n",
       " 'use_datamart': False,\n",
       " 'datamart_folder': 'datamart',\n",
       " 'output_format': 'ndjson',\n",
       " 'output_folder': 'output',\n",
       " 'mapping_file': 'mapping.map',\n",
       " 'mask_predictor_names': True,\n",
       " 'mask_context_key_names': False,\n",
       " 'mask_ih_names': True,\n",
       " 'mask_outcome_name': False,\n",
       " 'mask_predictor_values': True,\n",
       " 'mask_context_key_values': True,\n",
       " 'mask_ih_values': True,\n",
       " 'mask_outcome_values': True,\n",
       " 'context_key_label': 'Context_*',\n",
       " 'ih_label': 'IH_*',\n",
       " 'outcome_column': 'Decision_Outcome',\n",
       " 'positive_outcomes': ['Accepted', 'Clicked'],\n",
       " 'negative_outcomes': ['Rejected', 'Impression'],\n",
       " 'special_predictors': ['Decision_DecisionTime',\n",
       "  'Decision_OutcomeTime',\n",
       "  'Decision_Rank'],\n",
       " 'sample_percentage_schema_inferencing': 0.01}"
      ]
     },
     "execution_count": 7,
     "metadata": {},
     "output_type": "execute_result"
    }
   ],
   "source": [
    "dict(zip(Config.__init__.__code__.co_varnames[1:], Config.__init__.__defaults__))"
   ]
  },
  {
   "attachments": {},
   "cell_type": "markdown",
   "metadata": {},
   "source": [
    "It's easy to change these parameters by just passing the keyword arguments. In the following example, we\n",
    "- Keep the IH predictor names\n",
    "- Keep the outcome values\n",
    "- Keep the context key values\n",
    "- Keep the context key predictor names"
   ]
  },
  {
   "cell_type": "code",
   "execution_count": 8,
   "metadata": {
    "execution": {
     "iopub.execute_input": "2023-12-08T10:05:58.178240Z",
     "iopub.status.busy": "2023-12-08T10:05:58.177911Z",
     "iopub.status.idle": "2023-12-08T10:05:58.188865Z",
     "shell.execute_reply": "2023-12-08T10:05:58.188356Z"
    }
   },
   "outputs": [
    {
     "data": {
      "text/html": [
       "<div><style>\n",
       ".dataframe > thead > tr > th,\n",
       ".dataframe > tbody > tr > td {\n",
       "  text-align: right;\n",
       "  white-space: pre-wrap;\n",
       "}\n",
       "</style>\n",
       "<small>shape: (7, 7)</small><table border=\"1\" class=\"dataframe\"><thead><tr><th>PREDICTOR_0</th><th>PREDICTOR_1</th><th>PREDICTOR_2</th><th>filename</th><th>Context_Name</th><th>IH_Web_Inbound_Accepted_pxLastGroupID</th><th>Decision_Outcome</th></tr><tr><td>f64</td><td>str</td><td>str</td><td>str</td><td>str</td><td>str</td><td>str</td></tr></thead><tbody><tr><td>1.2927e19</td><td>&quot;15437881945743…</td><td>&quot;12580457169219…</td><td>&quot;../../../../da…</td><td>&quot;FirstMortgage3…</td><td>&quot;17035321243206…</td><td>&quot;Rejected&quot;</td></tr><tr><td>1.4856e19</td><td>&quot;12357540970178…</td><td>&quot;46654266495786…</td><td>&quot;../../../../da…</td><td>&quot;FirstMortgage3…</td><td>&quot;16416612856217…</td><td>&quot;Accepted&quot;</td></tr><tr><td>5.6458e17</td><td>&quot;36654279770324…</td><td>&quot;15867674402710…</td><td>&quot;../../../../da…</td><td>&quot;MoneyMarketSav…</td><td>&quot;17035321243206…</td><td>&quot;Rejected&quot;</td></tr><tr><td>4.0723e18</td><td>&quot;12357540970178…</td><td>&quot;20030455846574…</td><td>&quot;../../../../da…</td><td>&quot;BasicChecking&quot;</td><td>&quot;17035321243206…</td><td>&quot;Rejected&quot;</td></tr><tr><td>1.4677e19</td><td>&quot;15437881945743…</td><td>&quot;14084368269330…</td><td>&quot;../../../../da…</td><td>&quot;BasicChecking&quot;</td><td>&quot;11572403226022…</td><td>&quot;Accepted&quot;</td></tr><tr><td>1.6330e19</td><td>&quot;36654279770324…</td><td>&quot;54633815000530…</td><td>&quot;../../../../da…</td><td>&quot;UPlusFinPerson…</td><td>null</td><td>&quot;Rejected&quot;</td></tr><tr><td>8.7675e18</td><td>&quot;36654279770324…</td><td>&quot;14651249195483…</td><td>&quot;../../../../da…</td><td>&quot;BasicChecking&quot;</td><td>&quot;11572403226022…</td><td>&quot;Rejected&quot;</td></tr></tbody></table></div>"
      ],
      "text/plain": [
       "shape: (7, 7)\n",
       "┌─────────────┬──────────────┬─────────────┬─────────────┬─────────────┬─────────────┬─────────────┐\n",
       "│ PREDICTOR_0 ┆ PREDICTOR_1  ┆ PREDICTOR_2 ┆ filename    ┆ Context_Nam ┆ IH_Web_Inbo ┆ Decision_Ou │\n",
       "│ ---         ┆ ---          ┆ ---         ┆ ---         ┆ e           ┆ und_Accepte ┆ tcome       │\n",
       "│ f64         ┆ str          ┆ str         ┆ str         ┆ ---         ┆ d_pxLastGr… ┆ ---         │\n",
       "│             ┆              ┆             ┆             ┆ str         ┆ ---         ┆ str         │\n",
       "│             ┆              ┆             ┆             ┆             ┆ str         ┆             │\n",
       "╞═════════════╪══════════════╪═════════════╪═════════════╪═════════════╪═════════════╪═════════════╡\n",
       "│ 1.2927e19   ┆ 154378819457 ┆ 12580457169 ┆ ../../../.. ┆ FirstMortga ┆ 17035321243 ┆ Rejected    │\n",
       "│             ┆ 43462383     ┆ 219988443   ┆ /data/Sampl ┆ ge30yr      ┆ 206221779   ┆             │\n",
       "│             ┆              ┆             ┆ eHDS.json   ┆             ┆             ┆             │\n",
       "│ 1.4856e19   ┆ 123575409701 ┆ 46654266495 ┆ ../../../.. ┆ FirstMortga ┆ 16416612856 ┆ Accepted    │\n",
       "│             ┆ 78823478     ┆ 78617238    ┆ /data/Sampl ┆ ge30yr      ┆ 217027853   ┆             │\n",
       "│             ┆              ┆             ┆ eHDS.json   ┆             ┆             ┆             │\n",
       "│ 5.6458e17   ┆ 366542797703 ┆ 15867674402 ┆ ../../../.. ┆ MoneyMarket ┆ 17035321243 ┆ Rejected    │\n",
       "│             ┆ 2423150      ┆ 710907771   ┆ /data/Sampl ┆ SavingsAcco ┆ 206221779   ┆             │\n",
       "│             ┆              ┆             ┆ eHDS.json   ┆ unt         ┆             ┆             │\n",
       "│ 4.0723e18   ┆ 123575409701 ┆ 20030455846 ┆ ../../../.. ┆ BasicChecki ┆ 17035321243 ┆ Rejected    │\n",
       "│             ┆ 78823478     ┆ 57400786    ┆ /data/Sampl ┆ ng          ┆ 206221779   ┆             │\n",
       "│             ┆              ┆             ┆ eHDS.json   ┆             ┆             ┆             │\n",
       "│ 1.4677e19   ┆ 154378819457 ┆ 14084368269 ┆ ../../../.. ┆ BasicChecki ┆ 11572403226 ┆ Accepted    │\n",
       "│             ┆ 43462383     ┆ 330062831   ┆ /data/Sampl ┆ ng          ┆ 022181280   ┆             │\n",
       "│             ┆              ┆             ┆ eHDS.json   ┆             ┆             ┆             │\n",
       "│ 1.6330e19   ┆ 366542797703 ┆ 54633815000 ┆ ../../../.. ┆ UPlusFinPer ┆ null        ┆ Rejected    │\n",
       "│             ┆ 2423150      ┆ 53060322    ┆ /data/Sampl ┆ sonal       ┆             ┆             │\n",
       "│             ┆              ┆             ┆ eHDS.json   ┆             ┆             ┆             │\n",
       "│ 8.7675e18   ┆ 366542797703 ┆ 14651249195 ┆ ../../../.. ┆ BasicChecki ┆ 11572403226 ┆ Rejected    │\n",
       "│             ┆ 2423150      ┆ 483059488   ┆ /data/Sampl ┆ ng          ┆ 022181280   ┆             │\n",
       "│             ┆              ┆             ┆ eHDS.json   ┆             ┆             ┆             │\n",
       "└─────────────┴──────────────┴─────────────┴─────────────┴─────────────┴─────────────┴─────────────┘"
      ]
     },
     "execution_count": 8,
     "metadata": {},
     "output_type": "execute_result"
    }
   ],
   "source": [
    "anon = DataAnonymization(\n",
    "    hds_folder=\"../../../../data/\",\n",
    "    mask_ih_names=False,\n",
    "    mask_outcome_values=False,\n",
    "    mask_context_key_values=False,\n",
    "    mask_context_key_names=False,\n",
    ")\n",
    "anon.process()\n"
   ]
  },
  {
   "attachments": {},
   "cell_type": "markdown",
   "metadata": {},
   "source": [
    "The configs can also be written and read as such:"
   ]
  },
  {
   "cell_type": "code",
   "execution_count": 9,
   "metadata": {
    "execution": {
     "iopub.execute_input": "2023-12-08T10:05:58.190897Z",
     "iopub.status.busy": "2023-12-08T10:05:58.190554Z",
     "iopub.status.idle": "2023-12-08T10:05:58.193337Z",
     "shell.execute_reply": "2023-12-08T10:05:58.192800Z"
    }
   },
   "outputs": [],
   "source": [
    "anon.config.save_to_config_file('config.json')"
   ]
  },
  {
   "cell_type": "code",
   "execution_count": 10,
   "metadata": {
    "execution": {
     "iopub.execute_input": "2023-12-08T10:05:58.195310Z",
     "iopub.status.busy": "2023-12-08T10:05:58.194995Z",
     "iopub.status.idle": "2023-12-08T10:05:58.205893Z",
     "shell.execute_reply": "2023-12-08T10:05:58.205425Z"
    }
   },
   "outputs": [
    {
     "data": {
      "text/html": [
       "<div><style>\n",
       ".dataframe > thead > tr > th,\n",
       ".dataframe > tbody > tr > td {\n",
       "  text-align: right;\n",
       "  white-space: pre-wrap;\n",
       "}\n",
       "</style>\n",
       "<small>shape: (7, 7)</small><table border=\"1\" class=\"dataframe\"><thead><tr><th>PREDICTOR_0</th><th>PREDICTOR_1</th><th>PREDICTOR_2</th><th>filename</th><th>Context_Name</th><th>IH_Web_Inbound_Accepted_pxLastGroupID</th><th>Decision_Outcome</th></tr><tr><td>f64</td><td>str</td><td>str</td><td>str</td><td>str</td><td>str</td><td>str</td></tr></thead><tbody><tr><td>1.2927e19</td><td>&quot;31991989774893…</td><td>&quot;10078383889993…</td><td>&quot;../../../../da…</td><td>&quot;FirstMortgage3…</td><td>&quot;16486022770495…</td><td>&quot;Rejected&quot;</td></tr><tr><td>1.4856e19</td><td>&quot;10268298185647…</td><td>&quot;10391394201979…</td><td>&quot;../../../../da…</td><td>&quot;FirstMortgage3…</td><td>&quot;30606002633453…</td><td>&quot;Accepted&quot;</td></tr><tr><td>5.6458e17</td><td>&quot;15244227784035…</td><td>&quot;91005488773254…</td><td>&quot;../../../../da…</td><td>&quot;MoneyMarketSav…</td><td>&quot;16486022770495…</td><td>&quot;Rejected&quot;</td></tr><tr><td>4.0723e18</td><td>&quot;10268298185647…</td><td>&quot;37893269658769…</td><td>&quot;../../../../da…</td><td>&quot;BasicChecking&quot;</td><td>&quot;16486022770495…</td><td>&quot;Rejected&quot;</td></tr><tr><td>1.4677e19</td><td>&quot;31991989774893…</td><td>&quot;16016399456350…</td><td>&quot;../../../../da…</td><td>&quot;BasicChecking&quot;</td><td>&quot;15581595688072…</td><td>&quot;Accepted&quot;</td></tr><tr><td>1.6330e19</td><td>&quot;15244227784035…</td><td>&quot;11549072889594…</td><td>&quot;../../../../da…</td><td>&quot;UPlusFinPerson…</td><td>null</td><td>&quot;Rejected&quot;</td></tr><tr><td>8.7675e18</td><td>&quot;15244227784035…</td><td>&quot;71438206744894…</td><td>&quot;../../../../da…</td><td>&quot;BasicChecking&quot;</td><td>&quot;15581595688072…</td><td>&quot;Rejected&quot;</td></tr></tbody></table></div>"
      ],
      "text/plain": [
       "shape: (7, 7)\n",
       "┌─────────────┬──────────────┬─────────────┬─────────────┬─────────────┬─────────────┬─────────────┐\n",
       "│ PREDICTOR_0 ┆ PREDICTOR_1  ┆ PREDICTOR_2 ┆ filename    ┆ Context_Nam ┆ IH_Web_Inbo ┆ Decision_Ou │\n",
       "│ ---         ┆ ---          ┆ ---         ┆ ---         ┆ e           ┆ und_Accepte ┆ tcome       │\n",
       "│ f64         ┆ str          ┆ str         ┆ str         ┆ ---         ┆ d_pxLastGr… ┆ ---         │\n",
       "│             ┆              ┆             ┆             ┆ str         ┆ ---         ┆ str         │\n",
       "│             ┆              ┆             ┆             ┆             ┆ str         ┆             │\n",
       "╞═════════════╪══════════════╪═════════════╪═════════════╪═════════════╪═════════════╪═════════════╡\n",
       "│ 1.2927e19   ┆ 319919897748 ┆ 10078383889 ┆ ../../../.. ┆ FirstMortga ┆ 16486022770 ┆ Rejected    │\n",
       "│             ┆ 9362380      ┆ 993427877   ┆ /data/Sampl ┆ ge30yr      ┆ 49565684    ┆             │\n",
       "│             ┆              ┆             ┆ eHDS.json   ┆             ┆             ┆             │\n",
       "│ 1.4856e19   ┆ 102682981856 ┆ 10391394201 ┆ ../../../.. ┆ FirstMortga ┆ 30606002633 ┆ Accepted    │\n",
       "│             ┆ 47374185     ┆ 979716183   ┆ /data/Sampl ┆ ge30yr      ┆ 45360227    ┆             │\n",
       "│             ┆              ┆             ┆ eHDS.json   ┆             ┆             ┆             │\n",
       "│ 5.6458e17   ┆ 152442277840 ┆ 91005488773 ┆ ../../../.. ┆ MoneyMarket ┆ 16486022770 ┆ Rejected    │\n",
       "│             ┆ 35617746     ┆ 25442336    ┆ /data/Sampl ┆ SavingsAcco ┆ 49565684    ┆             │\n",
       "│             ┆              ┆             ┆ eHDS.json   ┆ unt         ┆             ┆             │\n",
       "│ 4.0723e18   ┆ 102682981856 ┆ 37893269658 ┆ ../../../.. ┆ BasicChecki ┆ 16486022770 ┆ Rejected    │\n",
       "│             ┆ 47374185     ┆ 76960635    ┆ /data/Sampl ┆ ng          ┆ 49565684    ┆             │\n",
       "│             ┆              ┆             ┆ eHDS.json   ┆             ┆             ┆             │\n",
       "│ 1.4677e19   ┆ 319919897748 ┆ 16016399456 ┆ ../../../.. ┆ BasicChecki ┆ 15581595688 ┆ Accepted    │\n",
       "│             ┆ 9362380      ┆ 350095314   ┆ /data/Sampl ┆ ng          ┆ 07273057    ┆             │\n",
       "│             ┆              ┆             ┆ eHDS.json   ┆             ┆             ┆             │\n",
       "│ 1.6330e19   ┆ 152442277840 ┆ 11549072889 ┆ ../../../.. ┆ UPlusFinPer ┆ null        ┆ Rejected    │\n",
       "│             ┆ 35617746     ┆ 594959153   ┆ /data/Sampl ┆ sonal       ┆             ┆             │\n",
       "│             ┆              ┆             ┆ eHDS.json   ┆             ┆             ┆             │\n",
       "│ 8.7675e18   ┆ 152442277840 ┆ 71438206744 ┆ ../../../.. ┆ BasicChecki ┆ 15581595688 ┆ Rejected    │\n",
       "│             ┆ 35617746     ┆ 89458606    ┆ /data/Sampl ┆ ng          ┆ 07273057    ┆             │\n",
       "│             ┆              ┆             ┆ eHDS.json   ┆             ┆             ┆             │\n",
       "└─────────────┴──────────────┴─────────────┴─────────────┴─────────────┴─────────────┴─────────────┘"
      ]
     },
     "execution_count": 10,
     "metadata": {},
     "output_type": "execute_result"
    }
   ],
   "source": [
    "anon = DataAnonymization(config=Config(config_file='config.json'))\n",
    "anon.process()"
   ]
  },
  {
   "attachments": {},
   "cell_type": "markdown",
   "metadata": {},
   "source": [
    "## Exporting\n",
    "Two functions export:\n",
    "- `create_mapping_file()` writes the mapping file of the predictor names\n",
    "- `write_to_output()` writes the processed dataframe to disk\n",
    "\n",
    "Write to output accepts the following extensions: `[\"ndjson\", \"parquet\", \"arrow\", \"csv\"]`"
   ]
  },
  {
   "cell_type": "code",
   "execution_count": 11,
   "metadata": {
    "execution": {
     "iopub.execute_input": "2023-12-08T10:05:58.207994Z",
     "iopub.status.busy": "2023-12-08T10:05:58.207673Z",
     "iopub.status.idle": "2023-12-08T10:05:58.210962Z",
     "shell.execute_reply": "2023-12-08T10:05:58.210509Z"
    }
   },
   "outputs": [
    {
     "name": "stdout",
     "output_type": "stream",
     "text": [
      "Customer_CLV=PREDICTOR_0\n",
      "Customer_MaritalStatus=PREDICTOR_1\n",
      "Customer_City=PREDICTOR_2\n",
      "filename=filename\n",
      "Context_Name=Context_Name\n",
      "IH_Web_Inbound_Accepted_pxLastGroupID=IH_Web_Inbound_Accepted_pxLastGroupID\n",
      "Decision_Outcome=Decision_Outcome\n",
      "\n"
     ]
    }
   ],
   "source": [
    "anon.create_mapping_file()\n",
    "with open('mapping.map') as f:\n",
    "    print(f.read())"
   ]
  },
  {
   "cell_type": "code",
   "execution_count": 12,
   "metadata": {
    "execution": {
     "iopub.execute_input": "2023-12-08T10:05:58.212932Z",
     "iopub.status.busy": "2023-12-08T10:05:58.212607Z",
     "iopub.status.idle": "2023-12-08T10:05:58.216013Z",
     "shell.execute_reply": "2023-12-08T10:05:58.215602Z"
    }
   },
   "outputs": [],
   "source": [
    "anon.write_to_output(ext='arrow')"
   ]
  },
  {
   "cell_type": "code",
   "execution_count": 13,
   "metadata": {
    "execution": {
     "iopub.execute_input": "2023-12-08T10:05:58.218014Z",
     "iopub.status.busy": "2023-12-08T10:05:58.217687Z",
     "iopub.status.idle": "2023-12-08T10:05:58.222233Z",
     "shell.execute_reply": "2023-12-08T10:05:58.221694Z"
    }
   },
   "outputs": [
    {
     "data": {
      "text/html": [
       "<div><style>\n",
       ".dataframe > thead > tr > th,\n",
       ".dataframe > tbody > tr > td {\n",
       "  text-align: right;\n",
       "  white-space: pre-wrap;\n",
       "}\n",
       "</style>\n",
       "<small>shape: (7, 6)</small><table border=\"1\" class=\"dataframe\"><thead><tr><th>PREDICTOR_0</th><th>PREDICTOR_1</th><th>PREDICTOR_2</th><th>Context_Name</th><th>IH_Web_Inbound_Accepted_pxLastGroupID</th><th>Decision_Outcome</th></tr><tr><td>f64</td><td>str</td><td>str</td><td>str</td><td>str</td><td>str</td></tr></thead><tbody><tr><td>1.2927e19</td><td>&quot;15265702868687…</td><td>&quot;84144520360952…</td><td>&quot;FirstMortgage3…</td><td>&quot;16128778087624…</td><td>&quot;Rejected&quot;</td></tr><tr><td>1.4856e19</td><td>&quot;14301223080907…</td><td>&quot;34458363148480…</td><td>&quot;FirstMortgage3…</td><td>&quot;78458246873203…</td><td>&quot;Accepted&quot;</td></tr><tr><td>5.6458e17</td><td>&quot;65996278119921…</td><td>&quot;27154055810724…</td><td>&quot;MoneyMarketSav…</td><td>&quot;16128778087624…</td><td>&quot;Rejected&quot;</td></tr><tr><td>4.0723e18</td><td>&quot;14301223080907…</td><td>&quot;14550705710554…</td><td>&quot;BasicChecking&quot;</td><td>&quot;16128778087624…</td><td>&quot;Rejected&quot;</td></tr><tr><td>1.4677e19</td><td>&quot;15265702868687…</td><td>&quot;17927858130314…</td><td>&quot;BasicChecking&quot;</td><td>&quot;12570385444763…</td><td>&quot;Accepted&quot;</td></tr><tr><td>1.6330e19</td><td>&quot;65996278119921…</td><td>&quot;43196528413729…</td><td>&quot;UPlusFinPerson…</td><td>null</td><td>&quot;Rejected&quot;</td></tr><tr><td>8.7675e18</td><td>&quot;65996278119921…</td><td>&quot;26652838409653…</td><td>&quot;BasicChecking&quot;</td><td>&quot;12570385444763…</td><td>&quot;Rejected&quot;</td></tr></tbody></table></div>"
      ],
      "text/plain": [
       "shape: (7, 6)\n",
       "┌─────────────┬────────────────┬────────────────┬────────────────┬────────────────┬────────────────┐\n",
       "│ PREDICTOR_0 ┆ PREDICTOR_1    ┆ PREDICTOR_2    ┆ Context_Name   ┆ IH_Web_Inbound ┆ Decision_Outco │\n",
       "│ ---         ┆ ---            ┆ ---            ┆ ---            ┆ _Accepted_pxLa ┆ me             │\n",
       "│ f64         ┆ str            ┆ str            ┆ str            ┆ stGr…          ┆ ---            │\n",
       "│             ┆                ┆                ┆                ┆ ---            ┆ str            │\n",
       "│             ┆                ┆                ┆                ┆ str            ┆                │\n",
       "╞═════════════╪════════════════╪════════════════╪════════════════╪════════════════╪════════════════╡\n",
       "│ 1.2927e19   ┆ 15265702868687 ┆ 84144520360952 ┆ FirstMortgage3 ┆ 16128778087624 ┆ Rejected       │\n",
       "│             ┆ 139262         ┆ 33922          ┆ 0yr            ┆ 698700         ┆                │\n",
       "│ 1.4856e19   ┆ 14301223080907 ┆ 34458363148480 ┆ FirstMortgage3 ┆ 78458246873203 ┆ Accepted       │\n",
       "│             ┆ 877178         ┆ 30595          ┆ 0yr            ┆ 74794          ┆                │\n",
       "│ 5.6458e17   ┆ 65996278119921 ┆ 27154055810724 ┆ MoneyMarketSav ┆ 16128778087624 ┆ Rejected       │\n",
       "│             ┆ 48346          ┆ 19516          ┆ ingsAccount    ┆ 698700         ┆                │\n",
       "│ 4.0723e18   ┆ 14301223080907 ┆ 14550705710554 ┆ BasicChecking  ┆ 16128778087624 ┆ Rejected       │\n",
       "│             ┆ 877178         ┆ 61996          ┆                ┆ 698700         ┆                │\n",
       "│ 1.4677e19   ┆ 15265702868687 ┆ 17927858130314 ┆ BasicChecking  ┆ 12570385444763 ┆ Accepted       │\n",
       "│             ┆ 139262         ┆ 822408         ┆                ┆ 946744         ┆                │\n",
       "│ 1.6330e19   ┆ 65996278119921 ┆ 43196528413729 ┆ UPlusFinPerson ┆ null           ┆ Rejected       │\n",
       "│             ┆ 48346          ┆ 36418          ┆ al             ┆                ┆                │\n",
       "│ 8.7675e18   ┆ 65996278119921 ┆ 26652838409653 ┆ BasicChecking  ┆ 12570385444763 ┆ Rejected       │\n",
       "│             ┆ 48346          ┆ 05499          ┆                ┆ 946744         ┆                │\n",
       "└─────────────┴────────────────┴────────────────┴────────────────┴────────────────┴────────────────┘"
      ]
     },
     "execution_count": 13,
     "metadata": {},
     "output_type": "execute_result"
    }
   ],
   "source": [
    "pl.read_ipc('output/hds.arrow')"
   ]
  },
  {
   "attachments": {},
   "cell_type": "markdown",
   "metadata": {
    "nbsphinx": "hidden"
   },
   "source": [
    "## Advanced: Hash fuctions\n",
    "\n",
    "By default, we use [the same hashing algorithm Polars](https://pola-rs.github.io/polars/py-polars/html/reference/expressions/api/polars.Expr.hash.html#polars.Expr.hash) uses: [xxhash](https://github.com/Cyan4973/xxHash), as implemented [here](https://github.com/pola-rs/polars/blob/3f287f370b3c388ed2f3f218b2c096382548136f/polars/polars-core/src/vector_hasher.rs#L266). xxhash is fast to compute, and you can check its performance in collision, dispersion and randomness [here](https://github.com/Cyan4973/xxHash/tree/dev/tests). \n",
    "\n",
    "xxhash accepts four distinct seeds, but by default we set the seeds to `0`. It is possible to set the `seed` argument of the `process()` function to `'random'`, which will set all four seeds to a random integer between `0` and `1000000000`. Alternatively, it is possible to supply the four seeds manually with arguments `seed`, `seed_1`, `seed_2` and `seed_3`. \n",
    "\n",
    "If the xxhash with (random) seed(s) is not deemed sufficiently secure, it is possible to use your own hashing algorithm.\n",
    "\n",
    "Note that since we're now running python code and not native Polars code anymore, this will be _significantly_ slower. Nonetheless, it is possible.\n",
    "\n",
    "Just as an example - this is how one would use sha3_256:"
   ]
  },
  {
   "cell_type": "code",
   "execution_count": 14,
   "metadata": {
    "execution": {
     "iopub.execute_input": "2023-12-08T10:05:58.224358Z",
     "iopub.status.busy": "2023-12-08T10:05:58.223998Z",
     "iopub.status.idle": "2023-12-08T10:05:58.546893Z",
     "shell.execute_reply": "2023-12-08T10:05:58.546303Z"
    },
    "nbsphinx": "hidden"
   },
   "outputs": [
    {
     "ename": "ComputeError",
     "evalue": "AttributeError: 'int' object has no attribute 'encode'",
     "output_type": "error",
     "traceback": [
      "\u001b[0;31m---------------------------------------------------------------------------\u001b[0m",
      "\u001b[0;31mComputeError\u001b[0m                              Traceback (most recent call last)",
      "Cell \u001b[0;32mIn[14], line 3\u001b[0m\n\u001b[1;32m      1\u001b[0m \u001b[38;5;28;01mfrom\u001b[39;00m \u001b[38;5;21;01mhashlib\u001b[39;00m \u001b[38;5;28;01mimport\u001b[39;00m sha3_256\n\u001b[0;32m----> 3\u001b[0m \u001b[43manon\u001b[49m\u001b[38;5;241;43m.\u001b[39;49m\u001b[43mprocess\u001b[49m\u001b[43m(\u001b[49m\u001b[43malgorithm\u001b[49m\u001b[38;5;241;43m=\u001b[39;49m\u001b[38;5;28;43;01mlambda\u001b[39;49;00m\u001b[43m \u001b[49m\u001b[43mx\u001b[49m\u001b[43m:\u001b[49m\u001b[43m \u001b[49m\u001b[43msha3_256\u001b[49m\u001b[43m(\u001b[49m\u001b[43mx\u001b[49m\u001b[38;5;241;43m.\u001b[39;49m\u001b[43mencode\u001b[49m\u001b[43m(\u001b[49m\u001b[43m)\u001b[49m\u001b[43m)\u001b[49m\u001b[38;5;241;43m.\u001b[39;49m\u001b[43mhexdigest\u001b[49m\u001b[43m(\u001b[49m\u001b[43m)\u001b[49m\u001b[43m)\u001b[49m\n",
      "File \u001b[0;32m~/work/pega-datascientist-tools/pega-datascientist-tools/python/docs/source/articles/../../../pdstools/utils/hds_utils.py:516\u001b[0m, in \u001b[0;36mDataAnonymization.process\u001b[0;34m(self, strategy, **kwargs)\u001b[0m\n\u001b[1;32m    514\u001b[0m df \u001b[38;5;241m=\u001b[39m df\u001b[38;5;241m.\u001b[39mselect(\u001b[38;5;28mself\u001b[39m\u001b[38;5;241m.\u001b[39mcolumn_mapping\u001b[38;5;241m.\u001b[39mkeys())\u001b[38;5;241m.\u001b[39mrename(\u001b[38;5;28mself\u001b[39m\u001b[38;5;241m.\u001b[39mcolumn_mapping)\n\u001b[1;32m    515\u001b[0m \u001b[38;5;28;01mif\u001b[39;00m strategy \u001b[38;5;241m==\u001b[39m \u001b[38;5;124m\"\u001b[39m\u001b[38;5;124meager\u001b[39m\u001b[38;5;124m\"\u001b[39m:\n\u001b[0;32m--> 516\u001b[0m     \u001b[38;5;28;01mreturn\u001b[39;00m \u001b[43mdf\u001b[49m\u001b[38;5;241;43m.\u001b[39;49m\u001b[43mcollect\u001b[49m\u001b[43m(\u001b[49m\u001b[43m)\u001b[49m\n\u001b[1;32m    517\u001b[0m \u001b[38;5;28;01mreturn\u001b[39;00m df\n",
      "File \u001b[0;32m/opt/hostedtoolcache/Python/3.11.6/x64/lib/python3.11/site-packages/polars/utils/deprecation.py:100\u001b[0m, in \u001b[0;36mdeprecate_renamed_parameter.<locals>.decorate.<locals>.wrapper\u001b[0;34m(*args, **kwargs)\u001b[0m\n\u001b[1;32m     95\u001b[0m \u001b[38;5;129m@wraps\u001b[39m(function)\n\u001b[1;32m     96\u001b[0m \u001b[38;5;28;01mdef\u001b[39;00m \u001b[38;5;21mwrapper\u001b[39m(\u001b[38;5;241m*\u001b[39margs: P\u001b[38;5;241m.\u001b[39margs, \u001b[38;5;241m*\u001b[39m\u001b[38;5;241m*\u001b[39mkwargs: P\u001b[38;5;241m.\u001b[39mkwargs) \u001b[38;5;241m-\u001b[39m\u001b[38;5;241m>\u001b[39m T:\n\u001b[1;32m     97\u001b[0m     _rename_keyword_argument(\n\u001b[1;32m     98\u001b[0m         old_name, new_name, kwargs, function\u001b[38;5;241m.\u001b[39m\u001b[38;5;18m__name__\u001b[39m, version\n\u001b[1;32m     99\u001b[0m     )\n\u001b[0;32m--> 100\u001b[0m     \u001b[38;5;28;01mreturn\u001b[39;00m \u001b[43mfunction\u001b[49m\u001b[43m(\u001b[49m\u001b[38;5;241;43m*\u001b[39;49m\u001b[43margs\u001b[49m\u001b[43m,\u001b[49m\u001b[43m \u001b[49m\u001b[38;5;241;43m*\u001b[39;49m\u001b[38;5;241;43m*\u001b[39;49m\u001b[43mkwargs\u001b[49m\u001b[43m)\u001b[49m\n",
      "File \u001b[0;32m/opt/hostedtoolcache/Python/3.11.6/x64/lib/python3.11/site-packages/polars/lazyframe/frame.py:1787\u001b[0m, in \u001b[0;36mLazyFrame.collect\u001b[0;34m(self, type_coercion, predicate_pushdown, projection_pushdown, simplify_expression, slice_pushdown, comm_subplan_elim, comm_subexpr_elim, no_optimization, streaming, _eager)\u001b[0m\n\u001b[1;32m   1774\u001b[0m     comm_subplan_elim \u001b[38;5;241m=\u001b[39m \u001b[38;5;28;01mFalse\u001b[39;00m\n\u001b[1;32m   1776\u001b[0m ldf \u001b[38;5;241m=\u001b[39m \u001b[38;5;28mself\u001b[39m\u001b[38;5;241m.\u001b[39m_ldf\u001b[38;5;241m.\u001b[39moptimization_toggle(\n\u001b[1;32m   1777\u001b[0m     type_coercion,\n\u001b[1;32m   1778\u001b[0m     predicate_pushdown,\n\u001b[0;32m   (...)\u001b[0m\n\u001b[1;32m   1785\u001b[0m     _eager,\n\u001b[1;32m   1786\u001b[0m )\n\u001b[0;32m-> 1787\u001b[0m \u001b[38;5;28;01mreturn\u001b[39;00m wrap_df(ldf\u001b[38;5;241m.\u001b[39mcollect())\n",
      "\u001b[0;31mComputeError\u001b[0m: AttributeError: 'int' object has no attribute 'encode'"
     ]
    }
   ],
   "source": [
    "from hashlib import sha3_256\n",
    "\n",
    "anon.process(algorithm=lambda x: sha3_256(x.encode()).hexdigest())"
   ]
  }
 ],
 "metadata": {
  "kernelspec": {
   "display_name": "Python 3",
   "language": "python",
   "name": "python3"
  },
  "language_info": {
   "codemirror_mode": {
    "name": "ipython",
    "version": 3
   },
   "file_extension": ".py",
   "mimetype": "text/x-python",
   "name": "python",
   "nbconvert_exporter": "python",
   "pygments_lexer": "ipython3",
   "version": "3.11.6"
  },
  "vscode": {
   "interpreter": {
    "hash": "aee8b7b246df8f9039afb4144a1f6fd8d2ca17a180786b69acc140d282b71a49"
   }
  }
 },
 "nbformat": 4,
 "nbformat_minor": 2
}
