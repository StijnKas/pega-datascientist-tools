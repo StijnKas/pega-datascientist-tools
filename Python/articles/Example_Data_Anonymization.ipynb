{
 "cells": [
  {
   "attachments": {},
   "cell_type": "markdown",
   "metadata": {},
   "source": [
    "# Data Anonymization\n",
    "\n",
    "In Pega CDH 8.5 and up, it's now possible to record the historical data as seen by the Adaptive Models. See [this academy challenge](https://academy.pega.com/challenge/exporting-historical-data/v4) for reference. This historical data can be further used to experiment with offline models, but also to fine-tune the OOTB Gradient Boosting model. However, sharing this information with Pega can be sensitive as it contains raw predictor data. \n",
    "\n",
    "To this end, we provide a simple and transparent script to fully anonimize this dataset.\n",
    "\n",
    "The DataAnonymization script is now part of pdstools, and you can import it directly as such."
   ]
  },
  {
   "cell_type": "code",
   "execution_count": 1,
   "metadata": {
    "execution": {
     "iopub.execute_input": "2024-01-10T16:20:19.107177Z",
     "iopub.status.busy": "2024-01-10T16:20:19.107012Z",
     "iopub.status.idle": "2024-01-10T16:20:19.177528Z",
     "shell.execute_reply": "2024-01-10T16:20:19.176956Z"
    },
    "nbsphinx": "hidden"
   },
   "outputs": [],
   "source": [
    "# These lines are only for rendering in the docs, and are hidden through Jupyter tags\n",
    "# Do not run if you're running the notebook seperately\n",
    "\n",
    "import os  \n",
    "import sys\n",
    "import plotly.io as pio\n",
    "pio.renderers.default = \"notebook_connected\"\n",
    "\n",
    "sys.path.append(\"../../../\")\n",
    "sys.path.append('../../python')"
   ]
  },
  {
   "cell_type": "code",
   "execution_count": 2,
   "metadata": {
    "execution": {
     "iopub.execute_input": "2024-01-10T16:20:19.179790Z",
     "iopub.status.busy": "2024-01-10T16:20:19.179618Z",
     "iopub.status.idle": "2024-01-10T16:20:20.148434Z",
     "shell.execute_reply": "2024-01-10T16:20:20.147796Z"
    }
   },
   "outputs": [],
   "source": [
    "from pdstools import ADMDatamart\n",
    "from pdstools import Config, DataAnonymization\n",
    "import polars as pl"
   ]
  },
  {
   "attachments": {},
   "cell_type": "markdown",
   "metadata": {},
   "source": [
    "## Input data\n",
    "\n",
    "To demonstrate this process, we're going to anonymise this toy example dataframe:"
   ]
  },
  {
   "cell_type": "code",
   "execution_count": 3,
   "metadata": {
    "execution": {
     "iopub.execute_input": "2024-01-10T16:20:20.151065Z",
     "iopub.status.busy": "2024-01-10T16:20:20.150640Z",
     "iopub.status.idle": "2024-01-10T16:20:20.159021Z",
     "shell.execute_reply": "2024-01-10T16:20:20.158475Z"
    }
   },
   "outputs": [
    {
     "data": {
      "text/html": [
       "<div><style>\n",
       ".dataframe > thead > tr,\n",
       ".dataframe > tbody > tr {\n",
       "  text-align: right;\n",
       "  white-space: pre-wrap;\n",
       "}\n",
       "</style>\n",
       "<small>shape: (7, 6)</small><table border=\"1\" class=\"dataframe\"><thead><tr><th>Context_Name</th><th>Customer_MaritalStatus</th><th>Customer_CLV</th><th>Customer_City</th><th>IH_Web_Inbound_Accepted_pxLastGroupID</th><th>Decision_Outcome</th></tr><tr><td>str</td><td>str</td><td>i64</td><td>str</td><td>str</td><td>str</td></tr></thead><tbody><tr><td>&quot;FirstMortgage3…</td><td>&quot;Married&quot;</td><td>1460</td><td>&quot;Port Raoul&quot;</td><td>&quot;Account&quot;</td><td>&quot;Rejected&quot;</td></tr><tr><td>&quot;FirstMortgage3…</td><td>&quot;Unknown&quot;</td><td>669</td><td>&quot;Laurianneshire…</td><td>&quot;AutoLoans&quot;</td><td>&quot;Accepted&quot;</td></tr><tr><td>&quot;MoneyMarketSav…</td><td>&quot;No Resp+&quot;</td><td>1174</td><td>&quot;Jacobshaven&quot;</td><td>&quot;Account&quot;</td><td>&quot;Rejected&quot;</td></tr><tr><td>&quot;BasicChecking&quot;</td><td>&quot;Unknown&quot;</td><td>1476</td><td>&quot;Lindton&quot;</td><td>&quot;Account&quot;</td><td>&quot;Rejected&quot;</td></tr><tr><td>&quot;BasicChecking&quot;</td><td>&quot;Married&quot;</td><td>1211</td><td>&quot;South Jimmiesh…</td><td>&quot;DepositAccount…</td><td>&quot;Accepted&quot;</td></tr><tr><td>&quot;UPlusFinPerson…</td><td>&quot;No Resp+&quot;</td><td>533</td><td>&quot;Bergeville&quot;</td><td>null</td><td>&quot;Rejected&quot;</td></tr><tr><td>&quot;BasicChecking&quot;</td><td>&quot;No Resp+&quot;</td><td>555</td><td>&quot;Willyville&quot;</td><td>&quot;DepositAccount…</td><td>&quot;Rejected&quot;</td></tr></tbody></table></div>"
      ],
      "text/plain": [
       "shape: (7, 6)\n",
       "┌────────────────┬────────────────┬──────────────┬────────────────┬────────────────┬───────────────┐\n",
       "│ Context_Name   ┆ Customer_Marit ┆ Customer_CLV ┆ Customer_City  ┆ IH_Web_Inbound ┆ Decision_Outc │\n",
       "│ ---            ┆ alStatus       ┆ ---          ┆ ---            ┆ _Accepted_pxLa ┆ ome           │\n",
       "│ str            ┆ ---            ┆ i64          ┆ str            ┆ stGr…          ┆ ---           │\n",
       "│                ┆ str            ┆              ┆                ┆ ---            ┆ str           │\n",
       "│                ┆                ┆              ┆                ┆ str            ┆               │\n",
       "╞════════════════╪════════════════╪══════════════╪════════════════╪════════════════╪═══════════════╡\n",
       "│ FirstMortgage3 ┆ Married        ┆ 1460         ┆ Port Raoul     ┆ Account        ┆ Rejected      │\n",
       "│ 0yr            ┆                ┆              ┆                ┆                ┆               │\n",
       "│ FirstMortgage3 ┆ Unknown        ┆ 669          ┆ Laurianneshire ┆ AutoLoans      ┆ Accepted      │\n",
       "│ 0yr            ┆                ┆              ┆                ┆                ┆               │\n",
       "│ MoneyMarketSav ┆ No Resp+       ┆ 1174         ┆ Jacobshaven    ┆ Account        ┆ Rejected      │\n",
       "│ ingsAccount    ┆                ┆              ┆                ┆                ┆               │\n",
       "│ BasicChecking  ┆ Unknown        ┆ 1476         ┆ Lindton        ┆ Account        ┆ Rejected      │\n",
       "│ BasicChecking  ┆ Married        ┆ 1211         ┆ South          ┆ DepositAccount ┆ Accepted      │\n",
       "│                ┆                ┆              ┆ Jimmieshire    ┆ s              ┆               │\n",
       "│ UPlusFinPerson ┆ No Resp+       ┆ 533          ┆ Bergeville     ┆ null           ┆ Rejected      │\n",
       "│ al             ┆                ┆              ┆                ┆                ┆               │\n",
       "│ BasicChecking  ┆ No Resp+       ┆ 555          ┆ Willyville     ┆ DepositAccount ┆ Rejected      │\n",
       "│                ┆                ┆              ┆                ┆ s              ┆               │\n",
       "└────────────────┴────────────────┴──────────────┴────────────────┴────────────────┴───────────────┘"
      ]
     },
     "execution_count": 3,
     "metadata": {},
     "output_type": "execute_result"
    }
   ],
   "source": [
    "pl.read_ndjson('../../../../data/SampleHDS.json')"
   ]
  },
  {
   "attachments": {},
   "cell_type": "markdown",
   "metadata": {},
   "source": [
    "As you can see, this dataset consists of regular predictors, IH predictors, context keys and the outcome column. Additionally, some columns are numeric, others are strings. Let's first initialize the DataAnonymization class."
   ]
  },
  {
   "cell_type": "code",
   "execution_count": 4,
   "metadata": {
    "execution": {
     "iopub.execute_input": "2024-01-10T16:20:20.161103Z",
     "iopub.status.busy": "2024-01-10T16:20:20.160783Z",
     "iopub.status.idle": "2024-01-10T16:20:20.167057Z",
     "shell.execute_reply": "2024-01-10T16:20:20.166658Z"
    }
   },
   "outputs": [],
   "source": [
    "anon = DataAnonymization(hds_folder='../../../../data/')"
   ]
  },
  {
   "attachments": {},
   "cell_type": "markdown",
   "metadata": {},
   "source": [
    "By default, the class applies a set of anonymisation techniques:\n",
    "- Column names are remapped to a non-descriptive name\n",
    "- Categorical values are hashed with a random seed\n",
    "- Numerical values are normalized between 0 and 1\n",
    "- Outcomes are mapped to a binary outcome.\n",
    "\n",
    "To apply these techniques, simply call `.process()`:"
   ]
  },
  {
   "cell_type": "code",
   "execution_count": 5,
   "metadata": {
    "execution": {
     "iopub.execute_input": "2024-01-10T16:20:20.169172Z",
     "iopub.status.busy": "2024-01-10T16:20:20.168863Z",
     "iopub.status.idle": "2024-01-10T16:20:20.173954Z",
     "shell.execute_reply": "2024-01-10T16:20:20.173531Z"
    }
   },
   "outputs": [
    {
     "data": {
      "text/html": [
       "<div><style>\n",
       ".dataframe > thead > tr,\n",
       ".dataframe > tbody > tr {\n",
       "  text-align: right;\n",
       "  white-space: pre-wrap;\n",
       "}\n",
       "</style>\n",
       "<small>shape: (7, 7)</small><table border=\"1\" class=\"dataframe\"><thead><tr><th>PREDICTOR_0</th><th>PREDICTOR_1</th><th>filename</th><th>PREDICTOR_3</th><th>Context_Name</th><th>IH_PREDICTOR_0</th><th>Decision_Outcome</th></tr><tr><td>str</td><td>str</td><td>str</td><td>f64</td><td>str</td><td>str</td><td>bool</td></tr></thead><tbody><tr><td>&quot;30822320189374…</td><td>&quot;87703364802919…</td><td>&quot;../../../../da…</td><td>0.983033</td><td>&quot;48781323166019…</td><td>&quot;51011248327500…</td><td>false</td></tr><tr><td>&quot;40418447798079…</td><td>&quot;65679420397042…</td><td>&quot;../../../../da…</td><td>0.144221</td><td>&quot;48781323166019…</td><td>&quot;17946105668399…</td><td>true</td></tr><tr><td>&quot;48298920449231…</td><td>&quot;97457444554673…</td><td>&quot;../../../../da…</td><td>0.679745</td><td>&quot;85129578503858…</td><td>&quot;51011248327500…</td><td>false</td></tr><tr><td>&quot;40418447798079…</td><td>&quot;84177304240648…</td><td>&quot;../../../../da…</td><td>1.0</td><td>&quot;10117297975099…</td><td>&quot;51011248327500…</td><td>false</td></tr><tr><td>&quot;30822320189374…</td><td>&quot;47264280020855…</td><td>&quot;../../../../da…</td><td>0.718982</td><td>&quot;10117297975099…</td><td>&quot;24691162197763…</td><td>true</td></tr><tr><td>&quot;48298920449231…</td><td>&quot;83933306511350…</td><td>&quot;../../../../da…</td><td>0.0</td><td>&quot;45457631020186…</td><td>null</td><td>false</td></tr><tr><td>&quot;48298920449231…</td><td>&quot;90869651330505…</td><td>&quot;../../../../da…</td><td>0.02333</td><td>&quot;10117297975099…</td><td>&quot;24691162197763…</td><td>false</td></tr></tbody></table></div>"
      ],
      "text/plain": [
       "shape: (7, 7)\n",
       "┌──────────────┬─────────────┬─────────────┬─────────────┬─────────────┬─────────────┬─────────────┐\n",
       "│ PREDICTOR_0  ┆ PREDICTOR_1 ┆ filename    ┆ PREDICTOR_3 ┆ Context_Nam ┆ IH_PREDICTO ┆ Decision_Ou │\n",
       "│ ---          ┆ ---         ┆ ---         ┆ ---         ┆ e           ┆ R_0         ┆ tcome       │\n",
       "│ str          ┆ str         ┆ str         ┆ f64         ┆ ---         ┆ ---         ┆ ---         │\n",
       "│              ┆             ┆             ┆             ┆ str         ┆ str         ┆ bool        │\n",
       "╞══════════════╪═════════════╪═════════════╪═════════════╪═════════════╪═════════════╪═════════════╡\n",
       "│ 308223201893 ┆ 87703364802 ┆ ../../../.. ┆ 0.983033    ┆ 48781323166 ┆ 51011248327 ┆ false       │\n",
       "│ 7486373      ┆ 91938560    ┆ /data/Sampl ┆             ┆ 01907647    ┆ 50075754    ┆             │\n",
       "│              ┆             ┆ eHDS.json   ┆             ┆             ┆             ┆             │\n",
       "│ 404184477980 ┆ 65679420397 ┆ ../../../.. ┆ 0.144221    ┆ 48781323166 ┆ 17946105668 ┆ true        │\n",
       "│ 7920532      ┆ 04286611    ┆ /data/Sampl ┆             ┆ 01907647    ┆ 399206149   ┆             │\n",
       "│              ┆             ┆ eHDS.json   ┆             ┆             ┆             ┆             │\n",
       "│ 482989204492 ┆ 97457444554 ┆ ../../../.. ┆ 0.679745    ┆ 85129578503 ┆ 51011248327 ┆ false       │\n",
       "│ 3149036      ┆ 67336451    ┆ /data/Sampl ┆             ┆ 85815387    ┆ 50075754    ┆             │\n",
       "│              ┆             ┆ eHDS.json   ┆             ┆             ┆             ┆             │\n",
       "│ 404184477980 ┆ 84177304240 ┆ ../../../.. ┆ 1.0         ┆ 10117297975 ┆ 51011248327 ┆ false       │\n",
       "│ 7920532      ┆ 64854225    ┆ /data/Sampl ┆             ┆ 099110349   ┆ 50075754    ┆             │\n",
       "│              ┆             ┆ eHDS.json   ┆             ┆             ┆             ┆             │\n",
       "│ 308223201893 ┆ 47264280020 ┆ ../../../.. ┆ 0.718982    ┆ 10117297975 ┆ 24691162197 ┆ true        │\n",
       "│ 7486373      ┆ 85508179    ┆ /data/Sampl ┆             ┆ 099110349   ┆ 76322328    ┆             │\n",
       "│              ┆             ┆ eHDS.json   ┆             ┆             ┆             ┆             │\n",
       "│ 482989204492 ┆ 83933306511 ┆ ../../../.. ┆ 0.0         ┆ 45457631020 ┆ null        ┆ false       │\n",
       "│ 3149036      ┆ 35019712    ┆ /data/Sampl ┆             ┆ 18668703    ┆             ┆             │\n",
       "│              ┆             ┆ eHDS.json   ┆             ┆             ┆             ┆             │\n",
       "│ 482989204492 ┆ 90869651330 ┆ ../../../.. ┆ 0.02333     ┆ 10117297975 ┆ 24691162197 ┆ false       │\n",
       "│ 3149036      ┆ 50588036    ┆ /data/Sampl ┆             ┆ 099110349   ┆ 76322328    ┆             │\n",
       "│              ┆             ┆ eHDS.json   ┆             ┆             ┆             ┆             │\n",
       "└──────────────┴─────────────┴─────────────┴─────────────┴─────────────┴─────────────┴─────────────┘"
      ]
     },
     "execution_count": 5,
     "metadata": {},
     "output_type": "execute_result"
    }
   ],
   "source": [
    "anon.process()"
   ]
  },
  {
   "attachments": {},
   "cell_type": "markdown",
   "metadata": {},
   "source": [
    "To trace back the columns to their original names, the class also contains a mapping, which does not have to be provided."
   ]
  },
  {
   "cell_type": "code",
   "execution_count": 6,
   "metadata": {
    "execution": {
     "iopub.execute_input": "2024-01-10T16:20:20.175921Z",
     "iopub.status.busy": "2024-01-10T16:20:20.175524Z",
     "iopub.status.idle": "2024-01-10T16:20:20.178992Z",
     "shell.execute_reply": "2024-01-10T16:20:20.178560Z"
    }
   },
   "outputs": [
    {
     "data": {
      "text/plain": [
       "{'Customer_MaritalStatus': 'PREDICTOR_0',\n",
       " 'Customer_City': 'PREDICTOR_1',\n",
       " 'filename': 'filename',\n",
       " 'Customer_CLV': 'PREDICTOR_3',\n",
       " 'Context_Name': 'Context_Name',\n",
       " 'IH_Web_Inbound_Accepted_pxLastGroupID': 'IH_PREDICTOR_0',\n",
       " 'Decision_Outcome': 'Decision_Outcome'}"
      ]
     },
     "execution_count": 6,
     "metadata": {},
     "output_type": "execute_result"
    }
   ],
   "source": [
    "anon.column_mapping"
   ]
  },
  {
   "attachments": {},
   "cell_type": "markdown",
   "metadata": {},
   "source": [
    "## Configs\n",
    "\n",
    "Each capability can optionally be turned off - see below for the full list of config options, and refer to the API reference for the full description."
   ]
  },
  {
   "cell_type": "code",
   "execution_count": 7,
   "metadata": {
    "execution": {
     "iopub.execute_input": "2024-01-10T16:20:20.181096Z",
     "iopub.status.busy": "2024-01-10T16:20:20.180630Z",
     "iopub.status.idle": "2024-01-10T16:20:20.185141Z",
     "shell.execute_reply": "2024-01-10T16:20:20.184590Z"
    }
   },
   "outputs": [
    {
     "data": {
      "text/plain": [
       "{'config_file': None,\n",
       " 'hds_folder': '.',\n",
       " 'use_datamart': False,\n",
       " 'datamart_folder': 'datamart',\n",
       " 'output_format': 'ndjson',\n",
       " 'output_folder': 'output',\n",
       " 'mapping_file': 'mapping.map',\n",
       " 'mask_predictor_names': True,\n",
       " 'mask_context_key_names': False,\n",
       " 'mask_ih_names': True,\n",
       " 'mask_outcome_name': False,\n",
       " 'mask_predictor_values': True,\n",
       " 'mask_context_key_values': True,\n",
       " 'mask_ih_values': True,\n",
       " 'mask_outcome_values': True,\n",
       " 'context_key_label': 'Context_*',\n",
       " 'ih_label': 'IH_*',\n",
       " 'outcome_column': 'Decision_Outcome',\n",
       " 'positive_outcomes': ['Accepted', 'Clicked'],\n",
       " 'negative_outcomes': ['Rejected', 'Impression'],\n",
       " 'special_predictors': ['Decision_DecisionTime',\n",
       "  'Decision_OutcomeTime',\n",
       "  'Decision_Rank'],\n",
       " 'sample_percentage_schema_inferencing': 0.01}"
      ]
     },
     "execution_count": 7,
     "metadata": {},
     "output_type": "execute_result"
    }
   ],
   "source": [
    "dict(zip(Config.__init__.__code__.co_varnames[1:], Config.__init__.__defaults__))"
   ]
  },
  {
   "attachments": {},
   "cell_type": "markdown",
   "metadata": {},
   "source": [
    "It's easy to change these parameters by just passing the keyword arguments. In the following example, we\n",
    "- Keep the IH predictor names\n",
    "- Keep the outcome values\n",
    "- Keep the context key values\n",
    "- Keep the context key predictor names"
   ]
  },
  {
   "cell_type": "code",
   "execution_count": 8,
   "metadata": {
    "execution": {
     "iopub.execute_input": "2024-01-10T16:20:20.187278Z",
     "iopub.status.busy": "2024-01-10T16:20:20.186863Z",
     "iopub.status.idle": "2024-01-10T16:20:20.194393Z",
     "shell.execute_reply": "2024-01-10T16:20:20.193941Z"
    }
   },
   "outputs": [
    {
     "data": {
      "text/html": [
       "<div><style>\n",
       ".dataframe > thead > tr,\n",
       ".dataframe > tbody > tr {\n",
       "  text-align: right;\n",
       "  white-space: pre-wrap;\n",
       "}\n",
       "</style>\n",
       "<small>shape: (7, 7)</small><table border=\"1\" class=\"dataframe\"><thead><tr><th>PREDICTOR_0</th><th>PREDICTOR_1</th><th>filename</th><th>PREDICTOR_3</th><th>Context_Name</th><th>IH_Web_Inbound_Accepted_pxLastGroupID</th><th>Decision_Outcome</th></tr><tr><td>str</td><td>str</td><td>str</td><td>f64</td><td>str</td><td>str</td><td>str</td></tr></thead><tbody><tr><td>&quot;32007213576534…</td><td>&quot;43962117163167…</td><td>&quot;../../../../da…</td><td>0.983033</td><td>&quot;FirstMortgage3…</td><td>&quot;32145962838458…</td><td>&quot;Rejected&quot;</td></tr><tr><td>&quot;17633045152570…</td><td>&quot;82848587524843…</td><td>&quot;../../../../da…</td><td>0.144221</td><td>&quot;FirstMortgage3…</td><td>&quot;14336159632136…</td><td>&quot;Accepted&quot;</td></tr><tr><td>&quot;12276676574179…</td><td>&quot;13872867592253…</td><td>&quot;../../../../da…</td><td>0.679745</td><td>&quot;MoneyMarketSav…</td><td>&quot;32145962838458…</td><td>&quot;Rejected&quot;</td></tr><tr><td>&quot;17633045152570…</td><td>&quot;42788729166775…</td><td>&quot;../../../../da…</td><td>1.0</td><td>&quot;BasicChecking&quot;</td><td>&quot;32145962838458…</td><td>&quot;Rejected&quot;</td></tr><tr><td>&quot;32007213576534…</td><td>&quot;16958947526539…</td><td>&quot;../../../../da…</td><td>0.718982</td><td>&quot;BasicChecking&quot;</td><td>&quot;12614314789239…</td><td>&quot;Accepted&quot;</td></tr><tr><td>&quot;12276676574179…</td><td>&quot;36441061672860…</td><td>&quot;../../../../da…</td><td>0.0</td><td>&quot;UPlusFinPerson…</td><td>null</td><td>&quot;Rejected&quot;</td></tr><tr><td>&quot;12276676574179…</td><td>&quot;16818932341553…</td><td>&quot;../../../../da…</td><td>0.02333</td><td>&quot;BasicChecking&quot;</td><td>&quot;12614314789239…</td><td>&quot;Rejected&quot;</td></tr></tbody></table></div>"
      ],
      "text/plain": [
       "shape: (7, 7)\n",
       "┌──────────────┬─────────────┬─────────────┬─────────────┬─────────────┬─────────────┬─────────────┐\n",
       "│ PREDICTOR_0  ┆ PREDICTOR_1 ┆ filename    ┆ PREDICTOR_3 ┆ Context_Nam ┆ IH_Web_Inbo ┆ Decision_Ou │\n",
       "│ ---          ┆ ---         ┆ ---         ┆ ---         ┆ e           ┆ und_Accepte ┆ tcome       │\n",
       "│ str          ┆ str         ┆ str         ┆ f64         ┆ ---         ┆ d_pxLastGr… ┆ ---         │\n",
       "│              ┆             ┆             ┆             ┆ str         ┆ ---         ┆ str         │\n",
       "│              ┆             ┆             ┆             ┆             ┆ str         ┆             │\n",
       "╞══════════════╪═════════════╪═════════════╪═════════════╪═════════════╪═════════════╪═════════════╡\n",
       "│ 320072135765 ┆ 43962117163 ┆ ../../../.. ┆ 0.983033    ┆ FirstMortga ┆ 32145962838 ┆ Rejected    │\n",
       "│ 3466973      ┆ 1675837     ┆ /data/Sampl ┆             ┆ ge30yr      ┆ 458588      ┆             │\n",
       "│              ┆             ┆ eHDS.json   ┆             ┆             ┆             ┆             │\n",
       "│ 176330451525 ┆ 82848587524 ┆ ../../../.. ┆ 0.144221    ┆ FirstMortga ┆ 14336159632 ┆ Accepted    │\n",
       "│ 70535317     ┆ 84370694    ┆ /data/Sampl ┆             ┆ ge30yr      ┆ 136768500   ┆             │\n",
       "│              ┆             ┆ eHDS.json   ┆             ┆             ┆             ┆             │\n",
       "│ 122766765741 ┆ 13872867592 ┆ ../../../.. ┆ 0.679745    ┆ MoneyMarket ┆ 32145962838 ┆ Rejected    │\n",
       "│ 79320640     ┆ 253900513   ┆ /data/Sampl ┆             ┆ SavingsAcco ┆ 458588      ┆             │\n",
       "│              ┆             ┆ eHDS.json   ┆             ┆ unt         ┆             ┆             │\n",
       "│ 176330451525 ┆ 42788729166 ┆ ../../../.. ┆ 1.0         ┆ BasicChecki ┆ 32145962838 ┆ Rejected    │\n",
       "│ 70535317     ┆ 77570550    ┆ /data/Sampl ┆             ┆ ng          ┆ 458588      ┆             │\n",
       "│              ┆             ┆ eHDS.json   ┆             ┆             ┆             ┆             │\n",
       "│ 320072135765 ┆ 16958947526 ┆ ../../../.. ┆ 0.718982    ┆ BasicChecki ┆ 12614314789 ┆ Accepted    │\n",
       "│ 3466973      ┆ 539557498   ┆ /data/Sampl ┆             ┆ ng          ┆ 239618310   ┆             │\n",
       "│              ┆             ┆ eHDS.json   ┆             ┆             ┆             ┆             │\n",
       "│ 122766765741 ┆ 36441061672 ┆ ../../../.. ┆ 0.0         ┆ UPlusFinPer ┆ null        ┆ Rejected    │\n",
       "│ 79320640     ┆ 8602730     ┆ /data/Sampl ┆             ┆ sonal       ┆             ┆             │\n",
       "│              ┆             ┆ eHDS.json   ┆             ┆             ┆             ┆             │\n",
       "│ 122766765741 ┆ 16818932341 ┆ ../../../.. ┆ 0.02333     ┆ BasicChecki ┆ 12614314789 ┆ Rejected    │\n",
       "│ 79320640     ┆ 553618941   ┆ /data/Sampl ┆             ┆ ng          ┆ 239618310   ┆             │\n",
       "│              ┆             ┆ eHDS.json   ┆             ┆             ┆             ┆             │\n",
       "└──────────────┴─────────────┴─────────────┴─────────────┴─────────────┴─────────────┴─────────────┘"
      ]
     },
     "execution_count": 8,
     "metadata": {},
     "output_type": "execute_result"
    }
   ],
   "source": [
    "anon = DataAnonymization(\n",
    "    hds_folder=\"../../../../data/\",\n",
    "    mask_ih_names=False,\n",
    "    mask_outcome_values=False,\n",
    "    mask_context_key_values=False,\n",
    "    mask_context_key_names=False,\n",
    ")\n",
    "anon.process()\n"
   ]
  },
  {
   "attachments": {},
   "cell_type": "markdown",
   "metadata": {},
   "source": [
    "The configs can also be written and read as such:"
   ]
  },
  {
   "cell_type": "code",
   "execution_count": 9,
   "metadata": {
    "execution": {
     "iopub.execute_input": "2024-01-10T16:20:20.196162Z",
     "iopub.status.busy": "2024-01-10T16:20:20.196001Z",
     "iopub.status.idle": "2024-01-10T16:20:20.198759Z",
     "shell.execute_reply": "2024-01-10T16:20:20.198319Z"
    }
   },
   "outputs": [],
   "source": [
    "anon.config.save_to_config_file('config.json')"
   ]
  },
  {
   "cell_type": "code",
   "execution_count": 10,
   "metadata": {
    "execution": {
     "iopub.execute_input": "2024-01-10T16:20:20.200514Z",
     "iopub.status.busy": "2024-01-10T16:20:20.200359Z",
     "iopub.status.idle": "2024-01-10T16:20:20.207672Z",
     "shell.execute_reply": "2024-01-10T16:20:20.207246Z"
    }
   },
   "outputs": [
    {
     "data": {
      "text/html": [
       "<div><style>\n",
       ".dataframe > thead > tr,\n",
       ".dataframe > tbody > tr {\n",
       "  text-align: right;\n",
       "  white-space: pre-wrap;\n",
       "}\n",
       "</style>\n",
       "<small>shape: (7, 7)</small><table border=\"1\" class=\"dataframe\"><thead><tr><th>PREDICTOR_0</th><th>PREDICTOR_1</th><th>filename</th><th>PREDICTOR_3</th><th>Context_Name</th><th>IH_Web_Inbound_Accepted_pxLastGroupID</th><th>Decision_Outcome</th></tr><tr><td>str</td><td>str</td><td>str</td><td>f64</td><td>str</td><td>str</td><td>str</td></tr></thead><tbody><tr><td>&quot;12239954207948…</td><td>&quot;87252206029681…</td><td>&quot;../../../../da…</td><td>0.983033</td><td>&quot;FirstMortgage3…</td><td>&quot;61033389184269…</td><td>&quot;Rejected&quot;</td></tr><tr><td>&quot;18266513357514…</td><td>&quot;14482461766117…</td><td>&quot;../../../../da…</td><td>0.144221</td><td>&quot;FirstMortgage3…</td><td>&quot;76535242828531…</td><td>&quot;Accepted&quot;</td></tr><tr><td>&quot;17997121913132…</td><td>&quot;54658723223942…</td><td>&quot;../../../../da…</td><td>0.679745</td><td>&quot;MoneyMarketSav…</td><td>&quot;61033389184269…</td><td>&quot;Rejected&quot;</td></tr><tr><td>&quot;18266513357514…</td><td>&quot;18246302694057…</td><td>&quot;../../../../da…</td><td>1.0</td><td>&quot;BasicChecking&quot;</td><td>&quot;61033389184269…</td><td>&quot;Rejected&quot;</td></tr><tr><td>&quot;12239954207948…</td><td>&quot;55972712658957…</td><td>&quot;../../../../da…</td><td>0.718982</td><td>&quot;BasicChecking&quot;</td><td>&quot;33826803675116…</td><td>&quot;Accepted&quot;</td></tr><tr><td>&quot;17997121913132…</td><td>&quot;10648258141473…</td><td>&quot;../../../../da…</td><td>0.0</td><td>&quot;UPlusFinPerson…</td><td>null</td><td>&quot;Rejected&quot;</td></tr><tr><td>&quot;17997121913132…</td><td>&quot;69107899863506…</td><td>&quot;../../../../da…</td><td>0.02333</td><td>&quot;BasicChecking&quot;</td><td>&quot;33826803675116…</td><td>&quot;Rejected&quot;</td></tr></tbody></table></div>"
      ],
      "text/plain": [
       "shape: (7, 7)\n",
       "┌──────────────┬─────────────┬─────────────┬─────────────┬─────────────┬─────────────┬─────────────┐\n",
       "│ PREDICTOR_0  ┆ PREDICTOR_1 ┆ filename    ┆ PREDICTOR_3 ┆ Context_Nam ┆ IH_Web_Inbo ┆ Decision_Ou │\n",
       "│ ---          ┆ ---         ┆ ---         ┆ ---         ┆ e           ┆ und_Accepte ┆ tcome       │\n",
       "│ str          ┆ str         ┆ str         ┆ f64         ┆ ---         ┆ d_pxLastGr… ┆ ---         │\n",
       "│              ┆             ┆             ┆             ┆ str         ┆ ---         ┆ str         │\n",
       "│              ┆             ┆             ┆             ┆             ┆ str         ┆             │\n",
       "╞══════════════╪═════════════╪═════════════╪═════════════╪═════════════╪═════════════╪═════════════╡\n",
       "│ 122399542079 ┆ 87252206029 ┆ ../../../.. ┆ 0.983033    ┆ FirstMortga ┆ 61033389184 ┆ Rejected    │\n",
       "│ 48730910     ┆ 68197687    ┆ /data/Sampl ┆             ┆ ge30yr      ┆ 2692423     ┆             │\n",
       "│              ┆             ┆ eHDS.json   ┆             ┆             ┆             ┆             │\n",
       "│ 182665133575 ┆ 14482461766 ┆ ../../../.. ┆ 0.144221    ┆ FirstMortga ┆ 76535242828 ┆ Accepted    │\n",
       "│ 14748026     ┆ 117633101   ┆ /data/Sampl ┆             ┆ ge30yr      ┆ 53177650    ┆             │\n",
       "│              ┆             ┆ eHDS.json   ┆             ┆             ┆             ┆             │\n",
       "│ 179971219131 ┆ 54658723223 ┆ ../../../.. ┆ 0.679745    ┆ MoneyMarket ┆ 61033389184 ┆ Rejected    │\n",
       "│ 32300847     ┆ 94231277    ┆ /data/Sampl ┆             ┆ SavingsAcco ┆ 2692423     ┆             │\n",
       "│              ┆             ┆ eHDS.json   ┆             ┆ unt         ┆             ┆             │\n",
       "│ 182665133575 ┆ 18246302694 ┆ ../../../.. ┆ 1.0         ┆ BasicChecki ┆ 61033389184 ┆ Rejected    │\n",
       "│ 14748026     ┆ 057326001   ┆ /data/Sampl ┆             ┆ ng          ┆ 2692423     ┆             │\n",
       "│              ┆             ┆ eHDS.json   ┆             ┆             ┆             ┆             │\n",
       "│ 122399542079 ┆ 55972712658 ┆ ../../../.. ┆ 0.718982    ┆ BasicChecki ┆ 33826803675 ┆ Accepted    │\n",
       "│ 48730910     ┆ 95758991    ┆ /data/Sampl ┆             ┆ ng          ┆ 11668666    ┆             │\n",
       "│              ┆             ┆ eHDS.json   ┆             ┆             ┆             ┆             │\n",
       "│ 179971219131 ┆ 10648258141 ┆ ../../../.. ┆ 0.0         ┆ UPlusFinPer ┆ null        ┆ Rejected    │\n",
       "│ 32300847     ┆ 473774166   ┆ /data/Sampl ┆             ┆ sonal       ┆             ┆             │\n",
       "│              ┆             ┆ eHDS.json   ┆             ┆             ┆             ┆             │\n",
       "│ 179971219131 ┆ 69107899863 ┆ ../../../.. ┆ 0.02333     ┆ BasicChecki ┆ 33826803675 ┆ Rejected    │\n",
       "│ 32300847     ┆ 50630076    ┆ /data/Sampl ┆             ┆ ng          ┆ 11668666    ┆             │\n",
       "│              ┆             ┆ eHDS.json   ┆             ┆             ┆             ┆             │\n",
       "└──────────────┴─────────────┴─────────────┴─────────────┴─────────────┴─────────────┴─────────────┘"
      ]
     },
     "execution_count": 10,
     "metadata": {},
     "output_type": "execute_result"
    }
   ],
   "source": [
    "anon = DataAnonymization(config=Config(config_file='config.json'))\n",
    "anon.process()"
   ]
  },
  {
   "attachments": {},
   "cell_type": "markdown",
   "metadata": {},
   "source": [
    "## Exporting\n",
    "Two functions export:\n",
    "- `create_mapping_file()` writes the mapping file of the predictor names\n",
    "- `write_to_output()` writes the processed dataframe to disk\n",
    "\n",
    "Write to output accepts the following extensions: `[\"ndjson\", \"parquet\", \"arrow\", \"csv\"]`"
   ]
  },
  {
   "cell_type": "code",
   "execution_count": 11,
   "metadata": {
    "execution": {
     "iopub.execute_input": "2024-01-10T16:20:20.209711Z",
     "iopub.status.busy": "2024-01-10T16:20:20.209397Z",
     "iopub.status.idle": "2024-01-10T16:20:20.212709Z",
     "shell.execute_reply": "2024-01-10T16:20:20.212196Z"
    }
   },
   "outputs": [
    {
     "name": "stdout",
     "output_type": "stream",
     "text": [
      "Customer_MaritalStatus=PREDICTOR_0\n",
      "Customer_City=PREDICTOR_1\n",
      "filename=filename\n",
      "Customer_CLV=PREDICTOR_3\n",
      "Context_Name=Context_Name\n",
      "IH_Web_Inbound_Accepted_pxLastGroupID=IH_Web_Inbound_Accepted_pxLastGroupID\n",
      "Decision_Outcome=Decision_Outcome\n",
      "\n"
     ]
    }
   ],
   "source": [
    "anon.create_mapping_file()\n",
    "with open('mapping.map') as f:\n",
    "    print(f.read())"
   ]
  },
  {
   "cell_type": "code",
   "execution_count": 12,
   "metadata": {
    "execution": {
     "iopub.execute_input": "2024-01-10T16:20:20.214574Z",
     "iopub.status.busy": "2024-01-10T16:20:20.214297Z",
     "iopub.status.idle": "2024-01-10T16:20:20.217636Z",
     "shell.execute_reply": "2024-01-10T16:20:20.217121Z"
    }
   },
   "outputs": [],
   "source": [
    "anon.write_to_output(ext='arrow')"
   ]
  },
  {
   "cell_type": "code",
   "execution_count": 13,
   "metadata": {
    "execution": {
     "iopub.execute_input": "2024-01-10T16:20:20.219573Z",
     "iopub.status.busy": "2024-01-10T16:20:20.219411Z",
     "iopub.status.idle": "2024-01-10T16:20:20.223686Z",
     "shell.execute_reply": "2024-01-10T16:20:20.223201Z"
    }
   },
   "outputs": [
    {
     "data": {
      "text/html": [
       "<div><style>\n",
       ".dataframe > thead > tr,\n",
       ".dataframe > tbody > tr {\n",
       "  text-align: right;\n",
       "  white-space: pre-wrap;\n",
       "}\n",
       "</style>\n",
       "<small>shape: (7, 6)</small><table border=\"1\" class=\"dataframe\"><thead><tr><th>PREDICTOR_0</th><th>PREDICTOR_1</th><th>PREDICTOR_3</th><th>Context_Name</th><th>IH_Web_Inbound_Accepted_pxLastGroupID</th><th>Decision_Outcome</th></tr><tr><td>str</td><td>str</td><td>f64</td><td>str</td><td>str</td><td>str</td></tr></thead><tbody><tr><td>&quot;79084140549082…</td><td>&quot;53886862569516…</td><td>0.983033</td><td>&quot;FirstMortgage3…</td><td>&quot;20171149883914…</td><td>&quot;Rejected&quot;</td></tr><tr><td>&quot;12620251111267…</td><td>&quot;13127443162985…</td><td>0.144221</td><td>&quot;FirstMortgage3…</td><td>&quot;30916122936757…</td><td>&quot;Accepted&quot;</td></tr><tr><td>&quot;15449059382387…</td><td>&quot;48710983491231…</td><td>0.679745</td><td>&quot;MoneyMarketSav…</td><td>&quot;20171149883914…</td><td>&quot;Rejected&quot;</td></tr><tr><td>&quot;12620251111267…</td><td>&quot;99180667342530…</td><td>1.0</td><td>&quot;BasicChecking&quot;</td><td>&quot;20171149883914…</td><td>&quot;Rejected&quot;</td></tr><tr><td>&quot;79084140549082…</td><td>&quot;31732814355852…</td><td>0.718982</td><td>&quot;BasicChecking&quot;</td><td>&quot;99172806354410…</td><td>&quot;Accepted&quot;</td></tr><tr><td>&quot;15449059382387…</td><td>&quot;18303492972203…</td><td>0.0</td><td>&quot;UPlusFinPerson…</td><td>null</td><td>&quot;Rejected&quot;</td></tr><tr><td>&quot;15449059382387…</td><td>&quot;30730729342891…</td><td>0.02333</td><td>&quot;BasicChecking&quot;</td><td>&quot;99172806354410…</td><td>&quot;Rejected&quot;</td></tr></tbody></table></div>"
      ],
      "text/plain": [
       "shape: (7, 6)\n",
       "┌────────────────┬────────────────┬─────────────┬────────────────┬────────────────┬────────────────┐\n",
       "│ PREDICTOR_0    ┆ PREDICTOR_1    ┆ PREDICTOR_3 ┆ Context_Name   ┆ IH_Web_Inbound ┆ Decision_Outco │\n",
       "│ ---            ┆ ---            ┆ ---         ┆ ---            ┆ _Accepted_pxLa ┆ me             │\n",
       "│ str            ┆ str            ┆ f64         ┆ str            ┆ stGr…          ┆ ---            │\n",
       "│                ┆                ┆             ┆                ┆ ---            ┆ str            │\n",
       "│                ┆                ┆             ┆                ┆ str            ┆                │\n",
       "╞════════════════╪════════════════╪═════════════╪════════════════╪════════════════╪════════════════╡\n",
       "│ 79084140549082 ┆ 53886862569516 ┆ 0.983033    ┆ FirstMortgage3 ┆ 20171149883914 ┆ Rejected       │\n",
       "│ 73570          ┆ 28013          ┆             ┆ 0yr            ┆ 7287           ┆                │\n",
       "│ 12620251111267 ┆ 13127443162985 ┆ 0.144221    ┆ FirstMortgage3 ┆ 30916122936757 ┆ Accepted       │\n",
       "│ 322810         ┆ 160715         ┆             ┆ 0yr            ┆ 89315          ┆                │\n",
       "│ 15449059382387 ┆ 48710983491231 ┆ 0.679745    ┆ MoneyMarketSav ┆ 20171149883914 ┆ Rejected       │\n",
       "│ 525308         ┆ 74410          ┆             ┆ ingsAccount    ┆ 7287           ┆                │\n",
       "│ 12620251111267 ┆ 99180667342530 ┆ 1.0         ┆ BasicChecking  ┆ 20171149883914 ┆ Rejected       │\n",
       "│ 322810         ┆ 64902          ┆             ┆                ┆ 7287           ┆                │\n",
       "│ 79084140549082 ┆ 31732814355852 ┆ 0.718982    ┆ BasicChecking  ┆ 99172806354410 ┆ Accepted       │\n",
       "│ 73570          ┆ 89800          ┆             ┆                ┆ 48037          ┆                │\n",
       "│ 15449059382387 ┆ 18303492972203 ┆ 0.0         ┆ UPlusFinPerson ┆ null           ┆ Rejected       │\n",
       "│ 525308         ┆ 776718         ┆             ┆ al             ┆                ┆                │\n",
       "│ 15449059382387 ┆ 30730729342891 ┆ 0.02333     ┆ BasicChecking  ┆ 99172806354410 ┆ Rejected       │\n",
       "│ 525308         ┆ 71989          ┆             ┆                ┆ 48037          ┆                │\n",
       "└────────────────┴────────────────┴─────────────┴────────────────┴────────────────┴────────────────┘"
      ]
     },
     "execution_count": 13,
     "metadata": {},
     "output_type": "execute_result"
    }
   ],
   "source": [
    "pl.read_ipc('output/hds.arrow')"
   ]
  },
  {
   "attachments": {},
   "cell_type": "markdown",
   "metadata": {
    "nbsphinx": "hidden"
   },
   "source": [
    "## Advanced: Hash fuctions\n",
    "\n",
    "By default, we use [the same hashing algorithm Polars](https://pola-rs.github.io/polars/py-polars/html/reference/expressions/api/polars.Expr.hash.html#polars.Expr.hash) uses: [xxhash](https://github.com/Cyan4973/xxHash), as implemented [here](https://github.com/pola-rs/polars/blob/3f287f370b3c388ed2f3f218b2c096382548136f/polars/polars-core/src/vector_hasher.rs#L266). xxhash is fast to compute, and you can check its performance in collision, dispersion and randomness [here](https://github.com/Cyan4973/xxHash/tree/dev/tests). \n",
    "\n",
    "xxhash accepts four distinct seeds, but by default we set the seeds to `0`. It is possible to set the `seed` argument of the `process()` function to `'random'`, which will set all four seeds to a random integer between `0` and `1000000000`. Alternatively, it is possible to supply the four seeds manually with arguments `seed`, `seed_1`, `seed_2` and `seed_3`. \n",
    "\n",
    "If the xxhash with (random) seed(s) is not deemed sufficiently secure, it is possible to use your own hashing algorithm.\n",
    "\n",
    "Note that since we're now running python code and not native Polars code anymore, this will be _significantly_ slower. Nonetheless, it is possible.\n",
    "\n",
    "Just as an example - this is how one would use sha3_256:"
   ]
  },
  {
   "cell_type": "code",
   "execution_count": 14,
   "metadata": {
    "execution": {
     "iopub.execute_input": "2024-01-10T16:20:20.225503Z",
     "iopub.status.busy": "2024-01-10T16:20:20.225342Z",
     "iopub.status.idle": "2024-01-10T16:20:20.232389Z",
     "shell.execute_reply": "2024-01-10T16:20:20.231840Z"
    },
    "nbsphinx": "hidden"
   },
   "outputs": [
    {
     "data": {
      "text/html": [
       "<div><style>\n",
       ".dataframe > thead > tr,\n",
       ".dataframe > tbody > tr {\n",
       "  text-align: right;\n",
       "  white-space: pre-wrap;\n",
       "}\n",
       "</style>\n",
       "<small>shape: (7, 7)</small><table border=\"1\" class=\"dataframe\"><thead><tr><th>PREDICTOR_0</th><th>PREDICTOR_1</th><th>filename</th><th>PREDICTOR_3</th><th>Context_Name</th><th>IH_Web_Inbound_Accepted_pxLastGroupID</th><th>Decision_Outcome</th></tr><tr><td>str</td><td>str</td><td>str</td><td>f64</td><td>str</td><td>str</td><td>str</td></tr></thead><tbody><tr><td>&quot;af486bc1815c72…</td><td>&quot;c73023dda51de1…</td><td>&quot;../../../../da…</td><td>0.983033</td><td>&quot;FirstMortgage3…</td><td>&quot;2513d0e24d8d02…</td><td>&quot;Rejected&quot;</td></tr><tr><td>&quot;3cdf7b1ae1342e…</td><td>&quot;5414b197fb87b3…</td><td>&quot;../../../../da…</td><td>0.144221</td><td>&quot;FirstMortgage3…</td><td>&quot;8b55bf62fc2ecd…</td><td>&quot;Accepted&quot;</td></tr><tr><td>&quot;806ef34eb8237f…</td><td>&quot;892f5d61a9215e…</td><td>&quot;../../../../da…</td><td>0.679745</td><td>&quot;MoneyMarketSav…</td><td>&quot;2513d0e24d8d02…</td><td>&quot;Rejected&quot;</td></tr><tr><td>&quot;3cdf7b1ae1342e…</td><td>&quot;c3aa807d9e927a…</td><td>&quot;../../../../da…</td><td>1.0</td><td>&quot;BasicChecking&quot;</td><td>&quot;2513d0e24d8d02…</td><td>&quot;Rejected&quot;</td></tr><tr><td>&quot;af486bc1815c72…</td><td>&quot;c2d492f9a05073…</td><td>&quot;../../../../da…</td><td>0.718982</td><td>&quot;BasicChecking&quot;</td><td>&quot;1cd082ecbd5dd9…</td><td>&quot;Accepted&quot;</td></tr><tr><td>&quot;806ef34eb8237f…</td><td>&quot;b21059221605c4…</td><td>&quot;../../../../da…</td><td>0.0</td><td>&quot;UPlusFinPerson…</td><td>null</td><td>&quot;Rejected&quot;</td></tr><tr><td>&quot;806ef34eb8237f…</td><td>&quot;80cbe489dcecd4…</td><td>&quot;../../../../da…</td><td>0.02333</td><td>&quot;BasicChecking&quot;</td><td>&quot;1cd082ecbd5dd9…</td><td>&quot;Rejected&quot;</td></tr></tbody></table></div>"
      ],
      "text/plain": [
       "shape: (7, 7)\n",
       "┌──────────────┬─────────────┬─────────────┬─────────────┬─────────────┬─────────────┬─────────────┐\n",
       "│ PREDICTOR_0  ┆ PREDICTOR_1 ┆ filename    ┆ PREDICTOR_3 ┆ Context_Nam ┆ IH_Web_Inbo ┆ Decision_Ou │\n",
       "│ ---          ┆ ---         ┆ ---         ┆ ---         ┆ e           ┆ und_Accepte ┆ tcome       │\n",
       "│ str          ┆ str         ┆ str         ┆ f64         ┆ ---         ┆ d_pxLastGr… ┆ ---         │\n",
       "│              ┆             ┆             ┆             ┆ str         ┆ ---         ┆ str         │\n",
       "│              ┆             ┆             ┆             ┆             ┆ str         ┆             │\n",
       "╞══════════════╪═════════════╪═════════════╪═════════════╪═════════════╪═════════════╪═════════════╡\n",
       "│ af486bc1815c ┆ c73023dda51 ┆ ../../../.. ┆ 0.983033    ┆ FirstMortga ┆ 2513d0e24d8 ┆ Rejected    │\n",
       "│ 726c357890ac ┆ de1b84f7af7 ┆ /data/Sampl ┆             ┆ ge30yr      ┆ d0214eda4fb ┆             │\n",
       "│ 2a40ba98…    ┆ 74fd6f8c73… ┆ eHDS.json   ┆             ┆             ┆ 454447162b… ┆             │\n",
       "│ 3cdf7b1ae134 ┆ 5414b197fb8 ┆ ../../../.. ┆ 0.144221    ┆ FirstMortga ┆ 8b55bf62fc2 ┆ Accepted    │\n",
       "│ 2ef979ea2a78 ┆ 7b3f2e350d7 ┆ /data/Sampl ┆             ┆ ge30yr      ┆ ecd16af97d4 ┆             │\n",
       "│ 2541ad05…    ┆ a74a840a81… ┆ eHDS.json   ┆             ┆             ┆ 8e469362cf… ┆             │\n",
       "│ 806ef34eb823 ┆ 892f5d61a92 ┆ ../../../.. ┆ 0.679745    ┆ MoneyMarket ┆ 2513d0e24d8 ┆ Rejected    │\n",
       "│ 7f4db85004e9 ┆ 15ef985f3fa ┆ /data/Sampl ┆             ┆ SavingsAcco ┆ d0214eda4fb ┆             │\n",
       "│ 6dc471d8…    ┆ 293d51c92e… ┆ eHDS.json   ┆             ┆ unt         ┆ 454447162b… ┆             │\n",
       "│ 3cdf7b1ae134 ┆ c3aa807d9e9 ┆ ../../../.. ┆ 1.0         ┆ BasicChecki ┆ 2513d0e24d8 ┆ Rejected    │\n",
       "│ 2ef979ea2a78 ┆ 27ae426a89e ┆ /data/Sampl ┆             ┆ ng          ┆ d0214eda4fb ┆             │\n",
       "│ 2541ad05…    ┆ 76a12b9160… ┆ eHDS.json   ┆             ┆             ┆ 454447162b… ┆             │\n",
       "│ af486bc1815c ┆ c2d492f9a05 ┆ ../../../.. ┆ 0.718982    ┆ BasicChecki ┆ 1cd082ecbd5 ┆ Accepted    │\n",
       "│ 726c357890ac ┆ 07327c14285 ┆ /data/Sampl ┆             ┆ ng          ┆ dd95383b104 ┆             │\n",
       "│ 2a40ba98…    ┆ e94e8ee54c… ┆ eHDS.json   ┆             ┆             ┆ 65e395c1f7… ┆             │\n",
       "│ 806ef34eb823 ┆ b2105922160 ┆ ../../../.. ┆ 0.0         ┆ UPlusFinPer ┆ null        ┆ Rejected    │\n",
       "│ 7f4db85004e9 ┆ 5c49757cfe0 ┆ /data/Sampl ┆             ┆ sonal       ┆             ┆             │\n",
       "│ 6dc471d8…    ┆ fee45640db… ┆ eHDS.json   ┆             ┆             ┆             ┆             │\n",
       "│ 806ef34eb823 ┆ 80cbe489dce ┆ ../../../.. ┆ 0.02333     ┆ BasicChecki ┆ 1cd082ecbd5 ┆ Rejected    │\n",
       "│ 7f4db85004e9 ┆ cd4b9304898 ┆ /data/Sampl ┆             ┆ ng          ┆ dd95383b104 ┆             │\n",
       "│ 6dc471d8…    ┆ c9986afeeb… ┆ eHDS.json   ┆             ┆             ┆ 65e395c1f7… ┆             │\n",
       "└──────────────┴─────────────┴─────────────┴─────────────┴─────────────┴─────────────┴─────────────┘"
      ]
     },
     "execution_count": 14,
     "metadata": {},
     "output_type": "execute_result"
    }
   ],
   "source": [
    "from hashlib import sha3_256\n",
    "\n",
    "anon.process(algorithm=lambda x: sha3_256(x.encode()).hexdigest())"
   ]
  }
 ],
 "metadata": {
  "kernelspec": {
   "display_name": "Python 3",
   "language": "python",
   "name": "python3"
  },
  "language_info": {
   "codemirror_mode": {
    "name": "ipython",
    "version": 3
   },
   "file_extension": ".py",
   "mimetype": "text/x-python",
   "name": "python",
   "nbconvert_exporter": "python",
   "pygments_lexer": "ipython3",
   "version": "3.11.7"
  },
  "vscode": {
   "interpreter": {
    "hash": "aee8b7b246df8f9039afb4144a1f6fd8d2ca17a180786b69acc140d282b71a49"
   }
  }
 },
 "nbformat": 4,
 "nbformat_minor": 2
}
