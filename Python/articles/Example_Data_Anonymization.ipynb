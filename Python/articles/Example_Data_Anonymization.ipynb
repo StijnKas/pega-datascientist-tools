{
 "cells": [
  {
   "attachments": {},
   "cell_type": "markdown",
   "metadata": {},
   "source": [
    "# Data Anonymization\n",
    "\n",
    "In Pega CDH 8.5 and up, it's now possible to record the historical data as seen by the Adaptive Models. See [this academy challenge](https://academy.pega.com/challenge/exporting-historical-data/v4) for reference. This historical data can be further used to experiment with offline models, but also to fine-tune the OOTB Gradient Boosting model. However, sharing this information with Pega can be sensitive as it contains raw predictor data. \n",
    "\n",
    "To this end, we provide a simple and transparent script to fully anonimize this dataset.\n",
    "\n",
    "The DataAnonymization script is now part of pdstools, and you can import it directly as such."
   ]
  },
  {
   "cell_type": "code",
   "execution_count": 1,
   "metadata": {
    "execution": {
     "iopub.execute_input": "2023-12-20T14:51:25.363889Z",
     "iopub.status.busy": "2023-12-20T14:51:25.363390Z",
     "iopub.status.idle": "2023-12-20T14:51:25.433963Z",
     "shell.execute_reply": "2023-12-20T14:51:25.433390Z"
    },
    "nbsphinx": "hidden"
   },
   "outputs": [],
   "source": [
    "# These lines are only for rendering in the docs, and are hidden through Jupyter tags\n",
    "# Do not run if you're running the notebook seperately\n",
    "\n",
    "import os  \n",
    "import sys\n",
    "import plotly.io as pio\n",
    "pio.renderers.default = \"notebook_connected\"\n",
    "\n",
    "sys.path.append(\"../../../\")\n",
    "sys.path.append('../../python')"
   ]
  },
  {
   "cell_type": "code",
   "execution_count": 2,
   "metadata": {
    "execution": {
     "iopub.execute_input": "2023-12-20T14:51:25.436756Z",
     "iopub.status.busy": "2023-12-20T14:51:25.436309Z",
     "iopub.status.idle": "2023-12-20T14:51:26.445044Z",
     "shell.execute_reply": "2023-12-20T14:51:26.444412Z"
    }
   },
   "outputs": [],
   "source": [
    "from pdstools import ADMDatamart\n",
    "from pdstools import Config, DataAnonymization\n",
    "import polars as pl"
   ]
  },
  {
   "attachments": {},
   "cell_type": "markdown",
   "metadata": {},
   "source": [
    "## Input data\n",
    "\n",
    "To demonstrate this process, we're going to anonymise this toy example dataframe:"
   ]
  },
  {
   "cell_type": "code",
   "execution_count": 3,
   "metadata": {
    "execution": {
     "iopub.execute_input": "2023-12-20T14:51:26.447817Z",
     "iopub.status.busy": "2023-12-20T14:51:26.447345Z",
     "iopub.status.idle": "2023-12-20T14:51:26.456645Z",
     "shell.execute_reply": "2023-12-20T14:51:26.456087Z"
    }
   },
   "outputs": [
    {
     "data": {
      "text/html": [
       "<div><style>\n",
       ".dataframe > thead > tr,\n",
       ".dataframe > tbody > tr {\n",
       "  text-align: right;\n",
       "  white-space: pre-wrap;\n",
       "}\n",
       "</style>\n",
       "<small>shape: (7, 6)</small><table border=\"1\" class=\"dataframe\"><thead><tr><th>Context_Name</th><th>Customer_MaritalStatus</th><th>Customer_CLV</th><th>Customer_City</th><th>IH_Web_Inbound_Accepted_pxLastGroupID</th><th>Decision_Outcome</th></tr><tr><td>str</td><td>str</td><td>i64</td><td>str</td><td>str</td><td>str</td></tr></thead><tbody><tr><td>&quot;FirstMortgage3…</td><td>&quot;Married&quot;</td><td>1460</td><td>&quot;Port Raoul&quot;</td><td>&quot;Account&quot;</td><td>&quot;Rejected&quot;</td></tr><tr><td>&quot;FirstMortgage3…</td><td>&quot;Unknown&quot;</td><td>669</td><td>&quot;Laurianneshire…</td><td>&quot;AutoLoans&quot;</td><td>&quot;Accepted&quot;</td></tr><tr><td>&quot;MoneyMarketSav…</td><td>&quot;No Resp+&quot;</td><td>1174</td><td>&quot;Jacobshaven&quot;</td><td>&quot;Account&quot;</td><td>&quot;Rejected&quot;</td></tr><tr><td>&quot;BasicChecking&quot;</td><td>&quot;Unknown&quot;</td><td>1476</td><td>&quot;Lindton&quot;</td><td>&quot;Account&quot;</td><td>&quot;Rejected&quot;</td></tr><tr><td>&quot;BasicChecking&quot;</td><td>&quot;Married&quot;</td><td>1211</td><td>&quot;South Jimmiesh…</td><td>&quot;DepositAccount…</td><td>&quot;Accepted&quot;</td></tr><tr><td>&quot;UPlusFinPerson…</td><td>&quot;No Resp+&quot;</td><td>533</td><td>&quot;Bergeville&quot;</td><td>null</td><td>&quot;Rejected&quot;</td></tr><tr><td>&quot;BasicChecking&quot;</td><td>&quot;No Resp+&quot;</td><td>555</td><td>&quot;Willyville&quot;</td><td>&quot;DepositAccount…</td><td>&quot;Rejected&quot;</td></tr></tbody></table></div>"
      ],
      "text/plain": [
       "shape: (7, 6)\n",
       "┌────────────────┬────────────────┬──────────────┬────────────────┬────────────────┬───────────────┐\n",
       "│ Context_Name   ┆ Customer_Marit ┆ Customer_CLV ┆ Customer_City  ┆ IH_Web_Inbound ┆ Decision_Outc │\n",
       "│ ---            ┆ alStatus       ┆ ---          ┆ ---            ┆ _Accepted_pxLa ┆ ome           │\n",
       "│ str            ┆ ---            ┆ i64          ┆ str            ┆ stGr…          ┆ ---           │\n",
       "│                ┆ str            ┆              ┆                ┆ ---            ┆ str           │\n",
       "│                ┆                ┆              ┆                ┆ str            ┆               │\n",
       "╞════════════════╪════════════════╪══════════════╪════════════════╪════════════════╪═══════════════╡\n",
       "│ FirstMortgage3 ┆ Married        ┆ 1460         ┆ Port Raoul     ┆ Account        ┆ Rejected      │\n",
       "│ 0yr            ┆                ┆              ┆                ┆                ┆               │\n",
       "│ FirstMortgage3 ┆ Unknown        ┆ 669          ┆ Laurianneshire ┆ AutoLoans      ┆ Accepted      │\n",
       "│ 0yr            ┆                ┆              ┆                ┆                ┆               │\n",
       "│ MoneyMarketSav ┆ No Resp+       ┆ 1174         ┆ Jacobshaven    ┆ Account        ┆ Rejected      │\n",
       "│ ingsAccount    ┆                ┆              ┆                ┆                ┆               │\n",
       "│ BasicChecking  ┆ Unknown        ┆ 1476         ┆ Lindton        ┆ Account        ┆ Rejected      │\n",
       "│ BasicChecking  ┆ Married        ┆ 1211         ┆ South          ┆ DepositAccount ┆ Accepted      │\n",
       "│                ┆                ┆              ┆ Jimmieshire    ┆ s              ┆               │\n",
       "│ UPlusFinPerson ┆ No Resp+       ┆ 533          ┆ Bergeville     ┆ null           ┆ Rejected      │\n",
       "│ al             ┆                ┆              ┆                ┆                ┆               │\n",
       "│ BasicChecking  ┆ No Resp+       ┆ 555          ┆ Willyville     ┆ DepositAccount ┆ Rejected      │\n",
       "│                ┆                ┆              ┆                ┆ s              ┆               │\n",
       "└────────────────┴────────────────┴──────────────┴────────────────┴────────────────┴───────────────┘"
      ]
     },
     "execution_count": 3,
     "metadata": {},
     "output_type": "execute_result"
    }
   ],
   "source": [
    "pl.read_ndjson('../../../../data/SampleHDS.json')"
   ]
  },
  {
   "attachments": {},
   "cell_type": "markdown",
   "metadata": {},
   "source": [
    "As you can see, this dataset consists of regular predictors, IH predictors, context keys and the outcome column. Additionally, some columns are numeric, others are strings. Let's first initialize the DataAnonymization class."
   ]
  },
  {
   "cell_type": "code",
   "execution_count": 4,
   "metadata": {
    "execution": {
     "iopub.execute_input": "2023-12-20T14:51:26.458843Z",
     "iopub.status.busy": "2023-12-20T14:51:26.458507Z",
     "iopub.status.idle": "2023-12-20T14:51:26.465017Z",
     "shell.execute_reply": "2023-12-20T14:51:26.464470Z"
    }
   },
   "outputs": [],
   "source": [
    "anon = DataAnonymization(hds_folder='../../../../data/')"
   ]
  },
  {
   "attachments": {},
   "cell_type": "markdown",
   "metadata": {},
   "source": [
    "By default, the class applies a set of anonymisation techniques:\n",
    "- Column names are remapped to a non-descriptive name\n",
    "- Categorical values are hashed with a random seed\n",
    "- Numerical values are normalized between 0 and 1\n",
    "- Outcomes are mapped to a binary outcome.\n",
    "\n",
    "To apply these techniques, simply call `.process()`:"
   ]
  },
  {
   "cell_type": "code",
   "execution_count": 5,
   "metadata": {
    "execution": {
     "iopub.execute_input": "2023-12-20T14:51:26.467309Z",
     "iopub.status.busy": "2023-12-20T14:51:26.466985Z",
     "iopub.status.idle": "2023-12-20T14:51:26.472577Z",
     "shell.execute_reply": "2023-12-20T14:51:26.472099Z"
    }
   },
   "outputs": [
    {
     "data": {
      "text/html": [
       "<div><style>\n",
       ".dataframe > thead > tr,\n",
       ".dataframe > tbody > tr {\n",
       "  text-align: right;\n",
       "  white-space: pre-wrap;\n",
       "}\n",
       "</style>\n",
       "<small>shape: (7, 7)</small><table border=\"1\" class=\"dataframe\"><thead><tr><th>PREDICTOR_0</th><th>PREDICTOR_1</th><th>PREDICTOR_2</th><th>filename</th><th>Context_Name</th><th>IH_PREDICTOR_0</th><th>Decision_Outcome</th></tr><tr><td>str</td><td>f64</td><td>str</td><td>str</td><td>str</td><td>str</td><td>bool</td></tr></thead><tbody><tr><td>&quot;29048907735311…</td><td>0.983033</td><td>&quot;54483249738894…</td><td>&quot;../../../../da…</td><td>&quot;15669078359249…</td><td>&quot;17581358970283…</td><td>false</td></tr><tr><td>&quot;83460005032982…</td><td>0.144221</td><td>&quot;50545605972774…</td><td>&quot;../../../../da…</td><td>&quot;15669078359249…</td><td>&quot;14115905153398…</td><td>true</td></tr><tr><td>&quot;11452810122581…</td><td>0.679745</td><td>&quot;15224054770295…</td><td>&quot;../../../../da…</td><td>&quot;44747497572460…</td><td>&quot;17581358970283…</td><td>false</td></tr><tr><td>&quot;12955024126106…</td><td>1.0</td><td>&quot;50545605972774…</td><td>&quot;../../../../da…</td><td>&quot;85714140161174…</td><td>&quot;17581358970283…</td><td>false</td></tr><tr><td>&quot;31323781582163…</td><td>0.718982</td><td>&quot;54483249738894…</td><td>&quot;../../../../da…</td><td>&quot;85714140161174…</td><td>&quot;22721777130126…</td><td>true</td></tr><tr><td>&quot;24097590705297…</td><td>0.0</td><td>&quot;15224054770295…</td><td>&quot;../../../../da…</td><td>&quot;10973906962754…</td><td>null</td><td>false</td></tr><tr><td>&quot;44516173293295…</td><td>0.02333</td><td>&quot;15224054770295…</td><td>&quot;../../../../da…</td><td>&quot;85714140161174…</td><td>&quot;22721777130126…</td><td>false</td></tr></tbody></table></div>"
      ],
      "text/plain": [
       "shape: (7, 7)\n",
       "┌──────────────┬─────────────┬─────────────┬─────────────┬─────────────┬─────────────┬─────────────┐\n",
       "│ PREDICTOR_0  ┆ PREDICTOR_1 ┆ PREDICTOR_2 ┆ filename    ┆ Context_Nam ┆ IH_PREDICTO ┆ Decision_Ou │\n",
       "│ ---          ┆ ---         ┆ ---         ┆ ---         ┆ e           ┆ R_0         ┆ tcome       │\n",
       "│ str          ┆ f64         ┆ str         ┆ str         ┆ ---         ┆ ---         ┆ ---         │\n",
       "│              ┆             ┆             ┆             ┆ str         ┆ str         ┆ bool        │\n",
       "╞══════════════╪═════════════╪═════════════╪═════════════╪═════════════╪═════════════╪═════════════╡\n",
       "│ 290489077353 ┆ 0.983033    ┆ 54483249738 ┆ ../../../.. ┆ 15669078359 ┆ 17581358970 ┆ false       │\n",
       "│ 1125525      ┆             ┆ 89459860    ┆ /data/Sampl ┆ 249383529   ┆ 283870467   ┆             │\n",
       "│              ┆             ┆             ┆ eHDS.json   ┆             ┆             ┆             │\n",
       "│ 834600050329 ┆ 0.144221    ┆ 50545605972 ┆ ../../../.. ┆ 15669078359 ┆ 14115905153 ┆ true        │\n",
       "│ 8269584      ┆             ┆ 77475206    ┆ /data/Sampl ┆ 249383529   ┆ 398505123   ┆             │\n",
       "│              ┆             ┆             ┆ eHDS.json   ┆             ┆             ┆             │\n",
       "│ 114528101225 ┆ 0.679745    ┆ 15224054770 ┆ ../../../.. ┆ 44747497572 ┆ 17581358970 ┆ false       │\n",
       "│ 8139284      ┆             ┆ 295076449   ┆ /data/Sampl ┆ 46044374    ┆ 283870467   ┆             │\n",
       "│              ┆             ┆             ┆ eHDS.json   ┆             ┆             ┆             │\n",
       "│ 129550241261 ┆ 1.0         ┆ 50545605972 ┆ ../../../.. ┆ 85714140161 ┆ 17581358970 ┆ false       │\n",
       "│ 06811817     ┆             ┆ 77475206    ┆ /data/Sampl ┆ 17454275    ┆ 283870467   ┆             │\n",
       "│              ┆             ┆             ┆ eHDS.json   ┆             ┆             ┆             │\n",
       "│ 313237815821 ┆ 0.718982    ┆ 54483249738 ┆ ../../../.. ┆ 85714140161 ┆ 22721777130 ┆ true        │\n",
       "│ 6324693      ┆             ┆ 89459860    ┆ /data/Sampl ┆ 17454275    ┆ 12699012    ┆             │\n",
       "│              ┆             ┆             ┆ eHDS.json   ┆             ┆             ┆             │\n",
       "│ 240975907052 ┆ 0.0         ┆ 15224054770 ┆ ../../../.. ┆ 10973906962 ┆ null        ┆ false       │\n",
       "│ 9787727      ┆             ┆ 295076449   ┆ /data/Sampl ┆ 754991979   ┆             ┆             │\n",
       "│              ┆             ┆             ┆ eHDS.json   ┆             ┆             ┆             │\n",
       "│ 445161732932 ┆ 0.02333     ┆ 15224054770 ┆ ../../../.. ┆ 85714140161 ┆ 22721777130 ┆ false       │\n",
       "│ 9584988      ┆             ┆ 295076449   ┆ /data/Sampl ┆ 17454275    ┆ 12699012    ┆             │\n",
       "│              ┆             ┆             ┆ eHDS.json   ┆             ┆             ┆             │\n",
       "└──────────────┴─────────────┴─────────────┴─────────────┴─────────────┴─────────────┴─────────────┘"
      ]
     },
     "execution_count": 5,
     "metadata": {},
     "output_type": "execute_result"
    }
   ],
   "source": [
    "anon.process()"
   ]
  },
  {
   "attachments": {},
   "cell_type": "markdown",
   "metadata": {},
   "source": [
    "To trace back the columns to their original names, the class also contains a mapping, which does not have to be provided."
   ]
  },
  {
   "cell_type": "code",
   "execution_count": 6,
   "metadata": {
    "execution": {
     "iopub.execute_input": "2023-12-20T14:51:26.474822Z",
     "iopub.status.busy": "2023-12-20T14:51:26.474399Z",
     "iopub.status.idle": "2023-12-20T14:51:26.478309Z",
     "shell.execute_reply": "2023-12-20T14:51:26.477864Z"
    }
   },
   "outputs": [
    {
     "data": {
      "text/plain": [
       "{'Customer_City': 'PREDICTOR_0',\n",
       " 'Customer_CLV': 'PREDICTOR_1',\n",
       " 'Customer_MaritalStatus': 'PREDICTOR_2',\n",
       " 'filename': 'filename',\n",
       " 'Context_Name': 'Context_Name',\n",
       " 'IH_Web_Inbound_Accepted_pxLastGroupID': 'IH_PREDICTOR_0',\n",
       " 'Decision_Outcome': 'Decision_Outcome'}"
      ]
     },
     "execution_count": 6,
     "metadata": {},
     "output_type": "execute_result"
    }
   ],
   "source": [
    "anon.column_mapping"
   ]
  },
  {
   "attachments": {},
   "cell_type": "markdown",
   "metadata": {},
   "source": [
    "## Configs\n",
    "\n",
    "Each capability can optionally be turned off - see below for the full list of config options, and refer to the API reference for the full description."
   ]
  },
  {
   "cell_type": "code",
   "execution_count": 7,
   "metadata": {
    "execution": {
     "iopub.execute_input": "2023-12-20T14:51:26.480292Z",
     "iopub.status.busy": "2023-12-20T14:51:26.479982Z",
     "iopub.status.idle": "2023-12-20T14:51:26.484120Z",
     "shell.execute_reply": "2023-12-20T14:51:26.483560Z"
    }
   },
   "outputs": [
    {
     "data": {
      "text/plain": [
       "{'config_file': None,\n",
       " 'hds_folder': '.',\n",
       " 'use_datamart': False,\n",
       " 'datamart_folder': 'datamart',\n",
       " 'output_format': 'ndjson',\n",
       " 'output_folder': 'output',\n",
       " 'mapping_file': 'mapping.map',\n",
       " 'mask_predictor_names': True,\n",
       " 'mask_context_key_names': False,\n",
       " 'mask_ih_names': True,\n",
       " 'mask_outcome_name': False,\n",
       " 'mask_predictor_values': True,\n",
       " 'mask_context_key_values': True,\n",
       " 'mask_ih_values': True,\n",
       " 'mask_outcome_values': True,\n",
       " 'context_key_label': 'Context_*',\n",
       " 'ih_label': 'IH_*',\n",
       " 'outcome_column': 'Decision_Outcome',\n",
       " 'positive_outcomes': ['Accepted', 'Clicked'],\n",
       " 'negative_outcomes': ['Rejected', 'Impression'],\n",
       " 'special_predictors': ['Decision_DecisionTime',\n",
       "  'Decision_OutcomeTime',\n",
       "  'Decision_Rank'],\n",
       " 'sample_percentage_schema_inferencing': 0.01}"
      ]
     },
     "execution_count": 7,
     "metadata": {},
     "output_type": "execute_result"
    }
   ],
   "source": [
    "dict(zip(Config.__init__.__code__.co_varnames[1:], Config.__init__.__defaults__))"
   ]
  },
  {
   "attachments": {},
   "cell_type": "markdown",
   "metadata": {},
   "source": [
    "It's easy to change these parameters by just passing the keyword arguments. In the following example, we\n",
    "- Keep the IH predictor names\n",
    "- Keep the outcome values\n",
    "- Keep the context key values\n",
    "- Keep the context key predictor names"
   ]
  },
  {
   "cell_type": "code",
   "execution_count": 8,
   "metadata": {
    "execution": {
     "iopub.execute_input": "2023-12-20T14:51:26.486183Z",
     "iopub.status.busy": "2023-12-20T14:51:26.485884Z",
     "iopub.status.idle": "2023-12-20T14:51:26.494324Z",
     "shell.execute_reply": "2023-12-20T14:51:26.493754Z"
    }
   },
   "outputs": [
    {
     "data": {
      "text/html": [
       "<div><style>\n",
       ".dataframe > thead > tr,\n",
       ".dataframe > tbody > tr {\n",
       "  text-align: right;\n",
       "  white-space: pre-wrap;\n",
       "}\n",
       "</style>\n",
       "<small>shape: (7, 7)</small><table border=\"1\" class=\"dataframe\"><thead><tr><th>PREDICTOR_0</th><th>PREDICTOR_1</th><th>PREDICTOR_2</th><th>filename</th><th>Context_Name</th><th>IH_Web_Inbound_Accepted_pxLastGroupID</th><th>Decision_Outcome</th></tr><tr><td>str</td><td>f64</td><td>str</td><td>str</td><td>str</td><td>str</td><td>str</td></tr></thead><tbody><tr><td>&quot;12490220141580…</td><td>0.983033</td><td>&quot;54025951998415…</td><td>&quot;../../../../da…</td><td>&quot;FirstMortgage3…</td><td>&quot;18634849193355…</td><td>&quot;Rejected&quot;</td></tr><tr><td>&quot;35536386632060…</td><td>0.144221</td><td>&quot;15473654718879…</td><td>&quot;../../../../da…</td><td>&quot;FirstMortgage3…</td><td>&quot;70506948752475…</td><td>&quot;Accepted&quot;</td></tr><tr><td>&quot;14929908591203…</td><td>0.679745</td><td>&quot;77810561528376…</td><td>&quot;../../../../da…</td><td>&quot;MoneyMarketSav…</td><td>&quot;18634849193355…</td><td>&quot;Rejected&quot;</td></tr><tr><td>&quot;15538361550420…</td><td>1.0</td><td>&quot;15473654718879…</td><td>&quot;../../../../da…</td><td>&quot;BasicChecking&quot;</td><td>&quot;18634849193355…</td><td>&quot;Rejected&quot;</td></tr><tr><td>&quot;12432495103513…</td><td>0.718982</td><td>&quot;54025951998415…</td><td>&quot;../../../../da…</td><td>&quot;BasicChecking&quot;</td><td>&quot;16956541974060…</td><td>&quot;Accepted&quot;</td></tr><tr><td>&quot;45491861437494…</td><td>0.0</td><td>&quot;77810561528376…</td><td>&quot;../../../../da…</td><td>&quot;UPlusFinPerson…</td><td>null</td><td>&quot;Rejected&quot;</td></tr><tr><td>&quot;12161809400743…</td><td>0.02333</td><td>&quot;77810561528376…</td><td>&quot;../../../../da…</td><td>&quot;BasicChecking&quot;</td><td>&quot;16956541974060…</td><td>&quot;Rejected&quot;</td></tr></tbody></table></div>"
      ],
      "text/plain": [
       "shape: (7, 7)\n",
       "┌──────────────┬─────────────┬─────────────┬─────────────┬─────────────┬─────────────┬─────────────┐\n",
       "│ PREDICTOR_0  ┆ PREDICTOR_1 ┆ PREDICTOR_2 ┆ filename    ┆ Context_Nam ┆ IH_Web_Inbo ┆ Decision_Ou │\n",
       "│ ---          ┆ ---         ┆ ---         ┆ ---         ┆ e           ┆ und_Accepte ┆ tcome       │\n",
       "│ str          ┆ f64         ┆ str         ┆ str         ┆ ---         ┆ d_pxLastGr… ┆ ---         │\n",
       "│              ┆             ┆             ┆             ┆ str         ┆ ---         ┆ str         │\n",
       "│              ┆             ┆             ┆             ┆             ┆ str         ┆             │\n",
       "╞══════════════╪═════════════╪═════════════╪═════════════╪═════════════╪═════════════╪═════════════╡\n",
       "│ 124902201415 ┆ 0.983033    ┆ 54025951998 ┆ ../../../.. ┆ FirstMortga ┆ 18634849193 ┆ Rejected    │\n",
       "│ 80285758     ┆             ┆ 41545987    ┆ /data/Sampl ┆ ge30yr      ┆ 35578348    ┆             │\n",
       "│              ┆             ┆             ┆ eHDS.json   ┆             ┆             ┆             │\n",
       "│ 355363866320 ┆ 0.144221    ┆ 15473654718 ┆ ../../../.. ┆ FirstMortga ┆ 70506948752 ┆ Accepted    │\n",
       "│ 6096713      ┆             ┆ 879097112   ┆ /data/Sampl ┆ ge30yr      ┆ 47587118    ┆             │\n",
       "│              ┆             ┆             ┆ eHDS.json   ┆             ┆             ┆             │\n",
       "│ 149299085912 ┆ 0.679745    ┆ 77810561528 ┆ ../../../.. ┆ MoneyMarket ┆ 18634849193 ┆ Rejected    │\n",
       "│ 03140530     ┆             ┆ 37684237    ┆ /data/Sampl ┆ SavingsAcco ┆ 35578348    ┆             │\n",
       "│              ┆             ┆             ┆ eHDS.json   ┆ unt         ┆             ┆             │\n",
       "│ 155383615504 ┆ 1.0         ┆ 15473654718 ┆ ../../../.. ┆ BasicChecki ┆ 18634849193 ┆ Rejected    │\n",
       "│ 20024427     ┆             ┆ 879097112   ┆ /data/Sampl ┆ ng          ┆ 35578348    ┆             │\n",
       "│              ┆             ┆             ┆ eHDS.json   ┆             ┆             ┆             │\n",
       "│ 124324951035 ┆ 0.718982    ┆ 54025951998 ┆ ../../../.. ┆ BasicChecki ┆ 16956541974 ┆ Accepted    │\n",
       "│ 13034842     ┆             ┆ 41545987    ┆ /data/Sampl ┆ ng          ┆ 060580819   ┆             │\n",
       "│              ┆             ┆             ┆ eHDS.json   ┆             ┆             ┆             │\n",
       "│ 454918614374 ┆ 0.0         ┆ 77810561528 ┆ ../../../.. ┆ UPlusFinPer ┆ null        ┆ Rejected    │\n",
       "│ 9498705      ┆             ┆ 37684237    ┆ /data/Sampl ┆ sonal       ┆             ┆             │\n",
       "│              ┆             ┆             ┆ eHDS.json   ┆             ┆             ┆             │\n",
       "│ 121618094007 ┆ 0.02333     ┆ 77810561528 ┆ ../../../.. ┆ BasicChecki ┆ 16956541974 ┆ Rejected    │\n",
       "│ 43436556     ┆             ┆ 37684237    ┆ /data/Sampl ┆ ng          ┆ 060580819   ┆             │\n",
       "│              ┆             ┆             ┆ eHDS.json   ┆             ┆             ┆             │\n",
       "└──────────────┴─────────────┴─────────────┴─────────────┴─────────────┴─────────────┴─────────────┘"
      ]
     },
     "execution_count": 8,
     "metadata": {},
     "output_type": "execute_result"
    }
   ],
   "source": [
    "anon = DataAnonymization(\n",
    "    hds_folder=\"../../../../data/\",\n",
    "    mask_ih_names=False,\n",
    "    mask_outcome_values=False,\n",
    "    mask_context_key_values=False,\n",
    "    mask_context_key_names=False,\n",
    ")\n",
    "anon.process()\n"
   ]
  },
  {
   "attachments": {},
   "cell_type": "markdown",
   "metadata": {},
   "source": [
    "The configs can also be written and read as such:"
   ]
  },
  {
   "cell_type": "code",
   "execution_count": 9,
   "metadata": {
    "execution": {
     "iopub.execute_input": "2023-12-20T14:51:26.496618Z",
     "iopub.status.busy": "2023-12-20T14:51:26.496223Z",
     "iopub.status.idle": "2023-12-20T14:51:26.499178Z",
     "shell.execute_reply": "2023-12-20T14:51:26.498651Z"
    }
   },
   "outputs": [],
   "source": [
    "anon.config.save_to_config_file('config.json')"
   ]
  },
  {
   "cell_type": "code",
   "execution_count": 10,
   "metadata": {
    "execution": {
     "iopub.execute_input": "2023-12-20T14:51:26.501211Z",
     "iopub.status.busy": "2023-12-20T14:51:26.500926Z",
     "iopub.status.idle": "2023-12-20T14:51:26.508712Z",
     "shell.execute_reply": "2023-12-20T14:51:26.508272Z"
    }
   },
   "outputs": [
    {
     "data": {
      "text/html": [
       "<div><style>\n",
       ".dataframe > thead > tr,\n",
       ".dataframe > tbody > tr {\n",
       "  text-align: right;\n",
       "  white-space: pre-wrap;\n",
       "}\n",
       "</style>\n",
       "<small>shape: (7, 7)</small><table border=\"1\" class=\"dataframe\"><thead><tr><th>PREDICTOR_0</th><th>PREDICTOR_1</th><th>PREDICTOR_2</th><th>filename</th><th>Context_Name</th><th>IH_Web_Inbound_Accepted_pxLastGroupID</th><th>Decision_Outcome</th></tr><tr><td>str</td><td>f64</td><td>str</td><td>str</td><td>str</td><td>str</td><td>str</td></tr></thead><tbody><tr><td>&quot;13547960260036…</td><td>0.983033</td><td>&quot;16110956871131…</td><td>&quot;../../../../da…</td><td>&quot;FirstMortgage3…</td><td>&quot;66479317482720…</td><td>&quot;Rejected&quot;</td></tr><tr><td>&quot;33922280322596…</td><td>0.144221</td><td>&quot;76274880633914…</td><td>&quot;../../../../da…</td><td>&quot;FirstMortgage3…</td><td>&quot;75521597294098…</td><td>&quot;Accepted&quot;</td></tr><tr><td>&quot;18041874230454…</td><td>0.679745</td><td>&quot;18297190530664…</td><td>&quot;../../../../da…</td><td>&quot;MoneyMarketSav…</td><td>&quot;66479317482720…</td><td>&quot;Rejected&quot;</td></tr><tr><td>&quot;17503810548762…</td><td>1.0</td><td>&quot;76274880633914…</td><td>&quot;../../../../da…</td><td>&quot;BasicChecking&quot;</td><td>&quot;66479317482720…</td><td>&quot;Rejected&quot;</td></tr><tr><td>&quot;17774278417951…</td><td>0.718982</td><td>&quot;16110956871131…</td><td>&quot;../../../../da…</td><td>&quot;BasicChecking&quot;</td><td>&quot;10632131165560…</td><td>&quot;Accepted&quot;</td></tr><tr><td>&quot;16531610994644…</td><td>0.0</td><td>&quot;18297190530664…</td><td>&quot;../../../../da…</td><td>&quot;UPlusFinPerson…</td><td>null</td><td>&quot;Rejected&quot;</td></tr><tr><td>&quot;18031813853145…</td><td>0.02333</td><td>&quot;18297190530664…</td><td>&quot;../../../../da…</td><td>&quot;BasicChecking&quot;</td><td>&quot;10632131165560…</td><td>&quot;Rejected&quot;</td></tr></tbody></table></div>"
      ],
      "text/plain": [
       "shape: (7, 7)\n",
       "┌──────────────┬─────────────┬─────────────┬─────────────┬─────────────┬─────────────┬─────────────┐\n",
       "│ PREDICTOR_0  ┆ PREDICTOR_1 ┆ PREDICTOR_2 ┆ filename    ┆ Context_Nam ┆ IH_Web_Inbo ┆ Decision_Ou │\n",
       "│ ---          ┆ ---         ┆ ---         ┆ ---         ┆ e           ┆ und_Accepte ┆ tcome       │\n",
       "│ str          ┆ f64         ┆ str         ┆ str         ┆ ---         ┆ d_pxLastGr… ┆ ---         │\n",
       "│              ┆             ┆             ┆             ┆ str         ┆ ---         ┆ str         │\n",
       "│              ┆             ┆             ┆             ┆             ┆ str         ┆             │\n",
       "╞══════════════╪═════════════╪═════════════╪═════════════╪═════════════╪═════════════╪═════════════╡\n",
       "│ 135479602600 ┆ 0.983033    ┆ 16110956871 ┆ ../../../.. ┆ FirstMortga ┆ 66479317482 ┆ Rejected    │\n",
       "│ 36247347     ┆             ┆ 131245910   ┆ /data/Sampl ┆ ge30yr      ┆ 72057132    ┆             │\n",
       "│              ┆             ┆             ┆ eHDS.json   ┆             ┆             ┆             │\n",
       "│ 339222803225 ┆ 0.144221    ┆ 76274880633 ┆ ../../../.. ┆ FirstMortga ┆ 75521597294 ┆ Accepted    │\n",
       "│ 9630395      ┆             ┆ 91476564    ┆ /data/Sampl ┆ ge30yr      ┆ 09889347    ┆             │\n",
       "│              ┆             ┆             ┆ eHDS.json   ┆             ┆             ┆             │\n",
       "│ 180418742304 ┆ 0.679745    ┆ 18297190530 ┆ ../../../.. ┆ MoneyMarket ┆ 66479317482 ┆ Rejected    │\n",
       "│ 54168506     ┆             ┆ 664969107   ┆ /data/Sampl ┆ SavingsAcco ┆ 72057132    ┆             │\n",
       "│              ┆             ┆             ┆ eHDS.json   ┆ unt         ┆             ┆             │\n",
       "│ 175038105487 ┆ 1.0         ┆ 76274880633 ┆ ../../../.. ┆ BasicChecki ┆ 66479317482 ┆ Rejected    │\n",
       "│ 62200266     ┆             ┆ 91476564    ┆ /data/Sampl ┆ ng          ┆ 72057132    ┆             │\n",
       "│              ┆             ┆             ┆ eHDS.json   ┆             ┆             ┆             │\n",
       "│ 177742784179 ┆ 0.718982    ┆ 16110956871 ┆ ../../../.. ┆ BasicChecki ┆ 10632131165 ┆ Accepted    │\n",
       "│ 51674406     ┆             ┆ 131245910   ┆ /data/Sampl ┆ ng          ┆ 560149450   ┆             │\n",
       "│              ┆             ┆             ┆ eHDS.json   ┆             ┆             ┆             │\n",
       "│ 165316109946 ┆ 0.0         ┆ 18297190530 ┆ ../../../.. ┆ UPlusFinPer ┆ null        ┆ Rejected    │\n",
       "│ 44712370     ┆             ┆ 664969107   ┆ /data/Sampl ┆ sonal       ┆             ┆             │\n",
       "│              ┆             ┆             ┆ eHDS.json   ┆             ┆             ┆             │\n",
       "│ 180318138531 ┆ 0.02333     ┆ 18297190530 ┆ ../../../.. ┆ BasicChecki ┆ 10632131165 ┆ Rejected    │\n",
       "│ 45079152     ┆             ┆ 664969107   ┆ /data/Sampl ┆ ng          ┆ 560149450   ┆             │\n",
       "│              ┆             ┆             ┆ eHDS.json   ┆             ┆             ┆             │\n",
       "└──────────────┴─────────────┴─────────────┴─────────────┴─────────────┴─────────────┴─────────────┘"
      ]
     },
     "execution_count": 10,
     "metadata": {},
     "output_type": "execute_result"
    }
   ],
   "source": [
    "anon = DataAnonymization(config=Config(config_file='config.json'))\n",
    "anon.process()"
   ]
  },
  {
   "attachments": {},
   "cell_type": "markdown",
   "metadata": {},
   "source": [
    "## Exporting\n",
    "Two functions export:\n",
    "- `create_mapping_file()` writes the mapping file of the predictor names\n",
    "- `write_to_output()` writes the processed dataframe to disk\n",
    "\n",
    "Write to output accepts the following extensions: `[\"ndjson\", \"parquet\", \"arrow\", \"csv\"]`"
   ]
  },
  {
   "cell_type": "code",
   "execution_count": 11,
   "metadata": {
    "execution": {
     "iopub.execute_input": "2023-12-20T14:51:26.510692Z",
     "iopub.status.busy": "2023-12-20T14:51:26.510367Z",
     "iopub.status.idle": "2023-12-20T14:51:26.513924Z",
     "shell.execute_reply": "2023-12-20T14:51:26.513484Z"
    }
   },
   "outputs": [
    {
     "name": "stdout",
     "output_type": "stream",
     "text": [
      "Customer_City=PREDICTOR_0\n",
      "Customer_CLV=PREDICTOR_1\n",
      "Customer_MaritalStatus=PREDICTOR_2\n",
      "filename=filename\n",
      "Context_Name=Context_Name\n",
      "IH_Web_Inbound_Accepted_pxLastGroupID=IH_Web_Inbound_Accepted_pxLastGroupID\n",
      "Decision_Outcome=Decision_Outcome\n",
      "\n"
     ]
    }
   ],
   "source": [
    "anon.create_mapping_file()\n",
    "with open('mapping.map') as f:\n",
    "    print(f.read())"
   ]
  },
  {
   "cell_type": "code",
   "execution_count": 12,
   "metadata": {
    "execution": {
     "iopub.execute_input": "2023-12-20T14:51:26.515935Z",
     "iopub.status.busy": "2023-12-20T14:51:26.515590Z",
     "iopub.status.idle": "2023-12-20T14:51:26.519049Z",
     "shell.execute_reply": "2023-12-20T14:51:26.518654Z"
    }
   },
   "outputs": [],
   "source": [
    "anon.write_to_output(ext='arrow')"
   ]
  },
  {
   "cell_type": "code",
   "execution_count": 13,
   "metadata": {
    "execution": {
     "iopub.execute_input": "2023-12-20T14:51:26.521028Z",
     "iopub.status.busy": "2023-12-20T14:51:26.520727Z",
     "iopub.status.idle": "2023-12-20T14:51:26.525077Z",
     "shell.execute_reply": "2023-12-20T14:51:26.524563Z"
    }
   },
   "outputs": [
    {
     "data": {
      "text/html": [
       "<div><style>\n",
       ".dataframe > thead > tr,\n",
       ".dataframe > tbody > tr {\n",
       "  text-align: right;\n",
       "  white-space: pre-wrap;\n",
       "}\n",
       "</style>\n",
       "<small>shape: (7, 6)</small><table border=\"1\" class=\"dataframe\"><thead><tr><th>PREDICTOR_0</th><th>PREDICTOR_1</th><th>PREDICTOR_2</th><th>Context_Name</th><th>IH_Web_Inbound_Accepted_pxLastGroupID</th><th>Decision_Outcome</th></tr><tr><td>str</td><td>f64</td><td>str</td><td>str</td><td>str</td><td>str</td></tr></thead><tbody><tr><td>&quot;95733885169115…</td><td>0.983033</td><td>&quot;18688575405202…</td><td>&quot;FirstMortgage3…</td><td>&quot;63344371128538…</td><td>&quot;Rejected&quot;</td></tr><tr><td>&quot;12037824036577…</td><td>0.144221</td><td>&quot;54121086759123…</td><td>&quot;FirstMortgage3…</td><td>&quot;42559481219188…</td><td>&quot;Accepted&quot;</td></tr><tr><td>&quot;14672260612412…</td><td>0.679745</td><td>&quot;17415295875348…</td><td>&quot;MoneyMarketSav…</td><td>&quot;63344371128538…</td><td>&quot;Rejected&quot;</td></tr><tr><td>&quot;11630534286393…</td><td>1.0</td><td>&quot;54121086759123…</td><td>&quot;BasicChecking&quot;</td><td>&quot;63344371128538…</td><td>&quot;Rejected&quot;</td></tr><tr><td>&quot;56463324866619…</td><td>0.718982</td><td>&quot;18688575405202…</td><td>&quot;BasicChecking&quot;</td><td>&quot;11863447055019…</td><td>&quot;Accepted&quot;</td></tr><tr><td>&quot;10790370548483…</td><td>0.0</td><td>&quot;17415295875348…</td><td>&quot;UPlusFinPerson…</td><td>null</td><td>&quot;Rejected&quot;</td></tr><tr><td>&quot;12677543502026…</td><td>0.02333</td><td>&quot;17415295875348…</td><td>&quot;BasicChecking&quot;</td><td>&quot;11863447055019…</td><td>&quot;Rejected&quot;</td></tr></tbody></table></div>"
      ],
      "text/plain": [
       "shape: (7, 6)\n",
       "┌────────────────┬─────────────┬────────────────┬────────────────┬────────────────┬────────────────┐\n",
       "│ PREDICTOR_0    ┆ PREDICTOR_1 ┆ PREDICTOR_2    ┆ Context_Name   ┆ IH_Web_Inbound ┆ Decision_Outco │\n",
       "│ ---            ┆ ---         ┆ ---            ┆ ---            ┆ _Accepted_pxLa ┆ me             │\n",
       "│ str            ┆ f64         ┆ str            ┆ str            ┆ stGr…          ┆ ---            │\n",
       "│                ┆             ┆                ┆                ┆ ---            ┆ str            │\n",
       "│                ┆             ┆                ┆                ┆ str            ┆                │\n",
       "╞════════════════╪═════════════╪════════════════╪════════════════╪════════════════╪════════════════╡\n",
       "│ 95733885169115 ┆ 0.983033    ┆ 18688575405202 ┆ FirstMortgage3 ┆ 63344371128538 ┆ Rejected       │\n",
       "│ 62542          ┆             ┆ 84103          ┆ 0yr            ┆ 47338          ┆                │\n",
       "│ 12037824036577 ┆ 0.144221    ┆ 54121086759123 ┆ FirstMortgage3 ┆ 42559481219188 ┆ Accepted       │\n",
       "│ 805061         ┆             ┆ 13570          ┆ 0yr            ┆ 42613          ┆                │\n",
       "│ 14672260612412 ┆ 0.679745    ┆ 17415295875348 ┆ MoneyMarketSav ┆ 63344371128538 ┆ Rejected       │\n",
       "│ 750082         ┆             ┆ 923637         ┆ ingsAccount    ┆ 47338          ┆                │\n",
       "│ 11630534286393 ┆ 1.0         ┆ 54121086759123 ┆ BasicChecking  ┆ 63344371128538 ┆ Rejected       │\n",
       "│ 839311         ┆             ┆ 13570          ┆                ┆ 47338          ┆                │\n",
       "│ 56463324866619 ┆ 0.718982    ┆ 18688575405202 ┆ BasicChecking  ┆ 11863447055019 ┆ Accepted       │\n",
       "│ 77191          ┆             ┆ 84103          ┆                ┆ 711206         ┆                │\n",
       "│ 10790370548483 ┆ 0.0         ┆ 17415295875348 ┆ UPlusFinPerson ┆ null           ┆ Rejected       │\n",
       "│ 469925         ┆             ┆ 923637         ┆ al             ┆                ┆                │\n",
       "│ 12677543502026 ┆ 0.02333     ┆ 17415295875348 ┆ BasicChecking  ┆ 11863447055019 ┆ Rejected       │\n",
       "│ 29561          ┆             ┆ 923637         ┆                ┆ 711206         ┆                │\n",
       "└────────────────┴─────────────┴────────────────┴────────────────┴────────────────┴────────────────┘"
      ]
     },
     "execution_count": 13,
     "metadata": {},
     "output_type": "execute_result"
    }
   ],
   "source": [
    "pl.read_ipc('output/hds.arrow')"
   ]
  },
  {
   "attachments": {},
   "cell_type": "markdown",
   "metadata": {
    "nbsphinx": "hidden"
   },
   "source": [
    "## Advanced: Hash fuctions\n",
    "\n",
    "By default, we use [the same hashing algorithm Polars](https://pola-rs.github.io/polars/py-polars/html/reference/expressions/api/polars.Expr.hash.html#polars.Expr.hash) uses: [xxhash](https://github.com/Cyan4973/xxHash), as implemented [here](https://github.com/pola-rs/polars/blob/3f287f370b3c388ed2f3f218b2c096382548136f/polars/polars-core/src/vector_hasher.rs#L266). xxhash is fast to compute, and you can check its performance in collision, dispersion and randomness [here](https://github.com/Cyan4973/xxHash/tree/dev/tests). \n",
    "\n",
    "xxhash accepts four distinct seeds, but by default we set the seeds to `0`. It is possible to set the `seed` argument of the `process()` function to `'random'`, which will set all four seeds to a random integer between `0` and `1000000000`. Alternatively, it is possible to supply the four seeds manually with arguments `seed`, `seed_1`, `seed_2` and `seed_3`. \n",
    "\n",
    "If the xxhash with (random) seed(s) is not deemed sufficiently secure, it is possible to use your own hashing algorithm.\n",
    "\n",
    "Note that since we're now running python code and not native Polars code anymore, this will be _significantly_ slower. Nonetheless, it is possible.\n",
    "\n",
    "Just as an example - this is how one would use sha3_256:"
   ]
  },
  {
   "cell_type": "code",
   "execution_count": 14,
   "metadata": {
    "execution": {
     "iopub.execute_input": "2023-12-20T14:51:26.527029Z",
     "iopub.status.busy": "2023-12-20T14:51:26.526671Z",
     "iopub.status.idle": "2023-12-20T14:51:26.534047Z",
     "shell.execute_reply": "2023-12-20T14:51:26.533526Z"
    },
    "nbsphinx": "hidden"
   },
   "outputs": [
    {
     "data": {
      "text/html": [
       "<div><style>\n",
       ".dataframe > thead > tr,\n",
       ".dataframe > tbody > tr {\n",
       "  text-align: right;\n",
       "  white-space: pre-wrap;\n",
       "}\n",
       "</style>\n",
       "<small>shape: (7, 7)</small><table border=\"1\" class=\"dataframe\"><thead><tr><th>PREDICTOR_0</th><th>PREDICTOR_1</th><th>PREDICTOR_2</th><th>filename</th><th>Context_Name</th><th>IH_Web_Inbound_Accepted_pxLastGroupID</th><th>Decision_Outcome</th></tr><tr><td>str</td><td>f64</td><td>str</td><td>str</td><td>str</td><td>str</td><td>str</td></tr></thead><tbody><tr><td>&quot;c73023dda51de1…</td><td>0.983033</td><td>&quot;af486bc1815c72…</td><td>&quot;../../../../da…</td><td>&quot;FirstMortgage3…</td><td>&quot;2513d0e24d8d02…</td><td>&quot;Rejected&quot;</td></tr><tr><td>&quot;5414b197fb87b3…</td><td>0.144221</td><td>&quot;3cdf7b1ae1342e…</td><td>&quot;../../../../da…</td><td>&quot;FirstMortgage3…</td><td>&quot;8b55bf62fc2ecd…</td><td>&quot;Accepted&quot;</td></tr><tr><td>&quot;892f5d61a9215e…</td><td>0.679745</td><td>&quot;806ef34eb8237f…</td><td>&quot;../../../../da…</td><td>&quot;MoneyMarketSav…</td><td>&quot;2513d0e24d8d02…</td><td>&quot;Rejected&quot;</td></tr><tr><td>&quot;c3aa807d9e927a…</td><td>1.0</td><td>&quot;3cdf7b1ae1342e…</td><td>&quot;../../../../da…</td><td>&quot;BasicChecking&quot;</td><td>&quot;2513d0e24d8d02…</td><td>&quot;Rejected&quot;</td></tr><tr><td>&quot;c2d492f9a05073…</td><td>0.718982</td><td>&quot;af486bc1815c72…</td><td>&quot;../../../../da…</td><td>&quot;BasicChecking&quot;</td><td>&quot;1cd082ecbd5dd9…</td><td>&quot;Accepted&quot;</td></tr><tr><td>&quot;b21059221605c4…</td><td>0.0</td><td>&quot;806ef34eb8237f…</td><td>&quot;../../../../da…</td><td>&quot;UPlusFinPerson…</td><td>null</td><td>&quot;Rejected&quot;</td></tr><tr><td>&quot;80cbe489dcecd4…</td><td>0.02333</td><td>&quot;806ef34eb8237f…</td><td>&quot;../../../../da…</td><td>&quot;BasicChecking&quot;</td><td>&quot;1cd082ecbd5dd9…</td><td>&quot;Rejected&quot;</td></tr></tbody></table></div>"
      ],
      "text/plain": [
       "shape: (7, 7)\n",
       "┌──────────────┬─────────────┬─────────────┬─────────────┬─────────────┬─────────────┬─────────────┐\n",
       "│ PREDICTOR_0  ┆ PREDICTOR_1 ┆ PREDICTOR_2 ┆ filename    ┆ Context_Nam ┆ IH_Web_Inbo ┆ Decision_Ou │\n",
       "│ ---          ┆ ---         ┆ ---         ┆ ---         ┆ e           ┆ und_Accepte ┆ tcome       │\n",
       "│ str          ┆ f64         ┆ str         ┆ str         ┆ ---         ┆ d_pxLastGr… ┆ ---         │\n",
       "│              ┆             ┆             ┆             ┆ str         ┆ ---         ┆ str         │\n",
       "│              ┆             ┆             ┆             ┆             ┆ str         ┆             │\n",
       "╞══════════════╪═════════════╪═════════════╪═════════════╪═════════════╪═════════════╪═════════════╡\n",
       "│ c73023dda51d ┆ 0.983033    ┆ af486bc1815 ┆ ../../../.. ┆ FirstMortga ┆ 2513d0e24d8 ┆ Rejected    │\n",
       "│ e1b84f7af774 ┆             ┆ c726c357890 ┆ /data/Sampl ┆ ge30yr      ┆ d0214eda4fb ┆             │\n",
       "│ fd6f8c73…    ┆             ┆ ac2a40ba98… ┆ eHDS.json   ┆             ┆ 454447162b… ┆             │\n",
       "│ 5414b197fb87 ┆ 0.144221    ┆ 3cdf7b1ae13 ┆ ../../../.. ┆ FirstMortga ┆ 8b55bf62fc2 ┆ Accepted    │\n",
       "│ b3f2e350d7a7 ┆             ┆ 42ef979ea2a ┆ /data/Sampl ┆ ge30yr      ┆ ecd16af97d4 ┆             │\n",
       "│ 4a840a81…    ┆             ┆ 782541ad05… ┆ eHDS.json   ┆             ┆ 8e469362cf… ┆             │\n",
       "│ 892f5d61a921 ┆ 0.679745    ┆ 806ef34eb82 ┆ ../../../.. ┆ MoneyMarket ┆ 2513d0e24d8 ┆ Rejected    │\n",
       "│ 5ef985f3fa29 ┆             ┆ 37f4db85004 ┆ /data/Sampl ┆ SavingsAcco ┆ d0214eda4fb ┆             │\n",
       "│ 3d51c92e…    ┆             ┆ e96dc471d8… ┆ eHDS.json   ┆ unt         ┆ 454447162b… ┆             │\n",
       "│ c3aa807d9e92 ┆ 1.0         ┆ 3cdf7b1ae13 ┆ ../../../.. ┆ BasicChecki ┆ 2513d0e24d8 ┆ Rejected    │\n",
       "│ 7ae426a89e76 ┆             ┆ 42ef979ea2a ┆ /data/Sampl ┆ ng          ┆ d0214eda4fb ┆             │\n",
       "│ a12b9160…    ┆             ┆ 782541ad05… ┆ eHDS.json   ┆             ┆ 454447162b… ┆             │\n",
       "│ c2d492f9a050 ┆ 0.718982    ┆ af486bc1815 ┆ ../../../.. ┆ BasicChecki ┆ 1cd082ecbd5 ┆ Accepted    │\n",
       "│ 7327c14285e9 ┆             ┆ c726c357890 ┆ /data/Sampl ┆ ng          ┆ dd95383b104 ┆             │\n",
       "│ 4e8ee54c…    ┆             ┆ ac2a40ba98… ┆ eHDS.json   ┆             ┆ 65e395c1f7… ┆             │\n",
       "│ b21059221605 ┆ 0.0         ┆ 806ef34eb82 ┆ ../../../.. ┆ UPlusFinPer ┆ null        ┆ Rejected    │\n",
       "│ c49757cfe0fe ┆             ┆ 37f4db85004 ┆ /data/Sampl ┆ sonal       ┆             ┆             │\n",
       "│ e45640db…    ┆             ┆ e96dc471d8… ┆ eHDS.json   ┆             ┆             ┆             │\n",
       "│ 80cbe489dcec ┆ 0.02333     ┆ 806ef34eb82 ┆ ../../../.. ┆ BasicChecki ┆ 1cd082ecbd5 ┆ Rejected    │\n",
       "│ d4b9304898c9 ┆             ┆ 37f4db85004 ┆ /data/Sampl ┆ ng          ┆ dd95383b104 ┆             │\n",
       "│ 986afeeb…    ┆             ┆ e96dc471d8… ┆ eHDS.json   ┆             ┆ 65e395c1f7… ┆             │\n",
       "└──────────────┴─────────────┴─────────────┴─────────────┴─────────────┴─────────────┴─────────────┘"
      ]
     },
     "execution_count": 14,
     "metadata": {},
     "output_type": "execute_result"
    }
   ],
   "source": [
    "from hashlib import sha3_256\n",
    "\n",
    "anon.process(algorithm=lambda x: sha3_256(x.encode()).hexdigest())"
   ]
  }
 ],
 "metadata": {
  "kernelspec": {
   "display_name": "Python 3",
   "language": "python",
   "name": "python3"
  },
  "language_info": {
   "codemirror_mode": {
    "name": "ipython",
    "version": 3
   },
   "file_extension": ".py",
   "mimetype": "text/x-python",
   "name": "python",
   "nbconvert_exporter": "python",
   "pygments_lexer": "ipython3",
   "version": "3.11.7"
  },
  "vscode": {
   "interpreter": {
    "hash": "aee8b7b246df8f9039afb4144a1f6fd8d2ca17a180786b69acc140d282b71a49"
   }
  }
 },
 "nbformat": 4,
 "nbformat_minor": 2
}
