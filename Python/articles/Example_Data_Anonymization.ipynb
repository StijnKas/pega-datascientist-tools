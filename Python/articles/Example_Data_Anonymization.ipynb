{
 "cells": [
  {
   "attachments": {},
   "cell_type": "markdown",
   "metadata": {},
   "source": [
    "# Data Anonymization\n",
    "\n",
    "In Pega CDH 8.5 and up, it's now possible to record the historical data as seen by the Adaptive Models. See [this academy challenge](https://academy.pega.com/challenge/exporting-historical-data/v4) for reference. This historical data can be further used to experiment with offline models, but also to fine-tune the OOTB Gradient Boosting model. However, sharing this information with Pega can be sensitive as it contains raw predictor data. \n",
    "\n",
    "To this end, we provide a simple and transparent script to fully anonimize this dataset.\n",
    "\n",
    "The DataAnonymization script is now part of pdstools, and you can import it directly as such."
   ]
  },
  {
   "cell_type": "code",
   "execution_count": 1,
   "metadata": {
    "execution": {
     "iopub.execute_input": "2024-05-17T12:43:15.287937Z",
     "iopub.status.busy": "2024-05-17T12:43:15.287527Z",
     "iopub.status.idle": "2024-05-17T12:43:15.360169Z",
     "shell.execute_reply": "2024-05-17T12:43:15.359540Z"
    },
    "nbsphinx": "hidden"
   },
   "outputs": [],
   "source": [
    "# These lines are only for rendering in the docs, and are hidden through Jupyter tags\n",
    "# Do not run if you're running the notebook seperately\n",
    "\n",
    "import os  \n",
    "import sys\n",
    "import plotly.io as pio\n",
    "pio.renderers.default = \"notebook_connected\"\n",
    "\n",
    "sys.path.append(\"../../../\")\n",
    "sys.path.append('../../python')"
   ]
  },
  {
   "cell_type": "code",
   "execution_count": 2,
   "metadata": {
    "execution": {
     "iopub.execute_input": "2024-05-17T12:43:15.362590Z",
     "iopub.status.busy": "2024-05-17T12:43:15.362402Z",
     "iopub.status.idle": "2024-05-17T12:43:16.386378Z",
     "shell.execute_reply": "2024-05-17T12:43:16.385846Z"
    }
   },
   "outputs": [],
   "source": [
    "from pdstools import ADMDatamart\n",
    "from pdstools import Config, DataAnonymization\n",
    "import polars as pl"
   ]
  },
  {
   "attachments": {},
   "cell_type": "markdown",
   "metadata": {},
   "source": [
    "## Input data\n",
    "\n",
    "To demonstrate this process, we're going to anonymise this toy example dataframe:"
   ]
  },
  {
   "cell_type": "code",
   "execution_count": 3,
   "metadata": {
    "execution": {
     "iopub.execute_input": "2024-05-17T12:43:16.388966Z",
     "iopub.status.busy": "2024-05-17T12:43:16.388537Z",
     "iopub.status.idle": "2024-05-17T12:43:16.397186Z",
     "shell.execute_reply": "2024-05-17T12:43:16.396716Z"
    }
   },
   "outputs": [
    {
     "data": {
      "text/html": [
       "<div><style>\n",
       ".dataframe > thead > tr,\n",
       ".dataframe > tbody > tr {\n",
       "  text-align: right;\n",
       "  white-space: pre-wrap;\n",
       "}\n",
       "</style>\n",
       "<small>shape: (7, 6)</small><table border=\"1\" class=\"dataframe\"><thead><tr><th>Context_Name</th><th>Customer_MaritalStatus</th><th>Customer_CLV</th><th>Customer_City</th><th>IH_Web_Inbound_Accepted_pxLastGroupID</th><th>Decision_Outcome</th></tr><tr><td>str</td><td>str</td><td>i64</td><td>str</td><td>str</td><td>str</td></tr></thead><tbody><tr><td>&quot;FirstMortgage30yr&quot;</td><td>&quot;Married&quot;</td><td>1460</td><td>&quot;Port Raoul&quot;</td><td>&quot;Account&quot;</td><td>&quot;Rejected&quot;</td></tr><tr><td>&quot;FirstMortgage30yr&quot;</td><td>&quot;Unknown&quot;</td><td>669</td><td>&quot;Laurianneshire&quot;</td><td>&quot;AutoLoans&quot;</td><td>&quot;Accepted&quot;</td></tr><tr><td>&quot;MoneyMarketSavingsAccount&quot;</td><td>&quot;No Resp+&quot;</td><td>1174</td><td>&quot;Jacobshaven&quot;</td><td>&quot;Account&quot;</td><td>&quot;Rejected&quot;</td></tr><tr><td>&quot;BasicChecking&quot;</td><td>&quot;Unknown&quot;</td><td>1476</td><td>&quot;Lindton&quot;</td><td>&quot;Account&quot;</td><td>&quot;Rejected&quot;</td></tr><tr><td>&quot;BasicChecking&quot;</td><td>&quot;Married&quot;</td><td>1211</td><td>&quot;South Jimmieshire&quot;</td><td>&quot;DepositAccounts&quot;</td><td>&quot;Accepted&quot;</td></tr><tr><td>&quot;UPlusFinPersonal&quot;</td><td>&quot;No Resp+&quot;</td><td>533</td><td>&quot;Bergeville&quot;</td><td>null</td><td>&quot;Rejected&quot;</td></tr><tr><td>&quot;BasicChecking&quot;</td><td>&quot;No Resp+&quot;</td><td>555</td><td>&quot;Willyville&quot;</td><td>&quot;DepositAccounts&quot;</td><td>&quot;Rejected&quot;</td></tr></tbody></table></div>"
      ],
      "text/plain": [
       "shape: (7, 6)\n",
       "┌────────────────┬────────────────┬──────────────┬────────────────┬────────────────┬───────────────┐\n",
       "│ Context_Name   ┆ Customer_Marit ┆ Customer_CLV ┆ Customer_City  ┆ IH_Web_Inbound ┆ Decision_Outc │\n",
       "│ ---            ┆ alStatus       ┆ ---          ┆ ---            ┆ _Accepted_pxLa ┆ ome           │\n",
       "│ str            ┆ ---            ┆ i64          ┆ str            ┆ st…            ┆ ---           │\n",
       "│                ┆ str            ┆              ┆                ┆ ---            ┆ str           │\n",
       "│                ┆                ┆              ┆                ┆ str            ┆               │\n",
       "╞════════════════╪════════════════╪══════════════╪════════════════╪════════════════╪═══════════════╡\n",
       "│ FirstMortgage3 ┆ Married        ┆ 1460         ┆ Port Raoul     ┆ Account        ┆ Rejected      │\n",
       "│ 0yr            ┆                ┆              ┆                ┆                ┆               │\n",
       "│ FirstMortgage3 ┆ Unknown        ┆ 669          ┆ Laurianneshire ┆ AutoLoans      ┆ Accepted      │\n",
       "│ 0yr            ┆                ┆              ┆                ┆                ┆               │\n",
       "│ MoneyMarketSav ┆ No Resp+       ┆ 1174         ┆ Jacobshaven    ┆ Account        ┆ Rejected      │\n",
       "│ ingsAccount    ┆                ┆              ┆                ┆                ┆               │\n",
       "│ BasicChecking  ┆ Unknown        ┆ 1476         ┆ Lindton        ┆ Account        ┆ Rejected      │\n",
       "│ BasicChecking  ┆ Married        ┆ 1211         ┆ South          ┆ DepositAccount ┆ Accepted      │\n",
       "│                ┆                ┆              ┆ Jimmieshire    ┆ s              ┆               │\n",
       "│ UPlusFinPerson ┆ No Resp+       ┆ 533          ┆ Bergeville     ┆ null           ┆ Rejected      │\n",
       "│ al             ┆                ┆              ┆                ┆                ┆               │\n",
       "│ BasicChecking  ┆ No Resp+       ┆ 555          ┆ Willyville     ┆ DepositAccount ┆ Rejected      │\n",
       "│                ┆                ┆              ┆                ┆ s              ┆               │\n",
       "└────────────────┴────────────────┴──────────────┴────────────────┴────────────────┴───────────────┘"
      ]
     },
     "execution_count": 3,
     "metadata": {},
     "output_type": "execute_result"
    }
   ],
   "source": [
    "pl.read_ndjson('../../../../data/SampleHDS.json')"
   ]
  },
  {
   "attachments": {},
   "cell_type": "markdown",
   "metadata": {},
   "source": [
    "As you can see, this dataset consists of regular predictors, IH predictors, context keys and the outcome column. Additionally, some columns are numeric, others are strings. Let's first initialize the DataAnonymization class."
   ]
  },
  {
   "cell_type": "code",
   "execution_count": 4,
   "metadata": {
    "execution": {
     "iopub.execute_input": "2024-05-17T12:43:16.399284Z",
     "iopub.status.busy": "2024-05-17T12:43:16.398980Z",
     "iopub.status.idle": "2024-05-17T12:43:16.408322Z",
     "shell.execute_reply": "2024-05-17T12:43:16.407907Z"
    }
   },
   "outputs": [],
   "source": [
    "anon = DataAnonymization(hds_folder='../../../../data/')"
   ]
  },
  {
   "attachments": {},
   "cell_type": "markdown",
   "metadata": {},
   "source": [
    "By default, the class applies a set of anonymisation techniques:\n",
    "- Column names are remapped to a non-descriptive name\n",
    "- Categorical values are hashed with a random seed\n",
    "- Numerical values are normalized between 0 and 1\n",
    "- Outcomes are mapped to a binary outcome.\n",
    "\n",
    "To apply these techniques, simply call `.process()`:"
   ]
  },
  {
   "cell_type": "code",
   "execution_count": 5,
   "metadata": {
    "execution": {
     "iopub.execute_input": "2024-05-17T12:43:16.410325Z",
     "iopub.status.busy": "2024-05-17T12:43:16.409998Z",
     "iopub.status.idle": "2024-05-17T12:43:16.415178Z",
     "shell.execute_reply": "2024-05-17T12:43:16.414737Z"
    }
   },
   "outputs": [
    {
     "data": {
      "text/html": [
       "<div><style>\n",
       ".dataframe > thead > tr,\n",
       ".dataframe > tbody > tr {\n",
       "  text-align: right;\n",
       "  white-space: pre-wrap;\n",
       "}\n",
       "</style>\n",
       "<small>shape: (7, 7)</small><table border=\"1\" class=\"dataframe\"><thead><tr><th>PREDICTOR_0</th><th>PREDICTOR_1</th><th>PREDICTOR_2</th><th>filename</th><th>Context_Name</th><th>IH_PREDICTOR_0</th><th>Decision_Outcome</th></tr><tr><td>str</td><td>str</td><td>f64</td><td>str</td><td>str</td><td>str</td><td>bool</td></tr></thead><tbody><tr><td>&quot;8721744748880341658&quot;</td><td>&quot;17780134115081472705&quot;</td><td>1.1297e19</td><td>&quot;../../../../data/SampleHDS.jso…</td><td>&quot;17727080977590953557&quot;</td><td>&quot;4720659435396410217&quot;</td><td>false</td></tr><tr><td>&quot;17657506305816802489&quot;</td><td>&quot;12602925573573530865&quot;</td><td>4.9467e18</td><td>&quot;../../../../data/SampleHDS.jso…</td><td>&quot;17727080977590953557&quot;</td><td>&quot;16354395086082494650&quot;</td><td>true</td></tr><tr><td>&quot;8495700091119640092&quot;</td><td>&quot;570737860946070418&quot;</td><td>1.7771e19</td><td>&quot;../../../../data/SampleHDS.jso…</td><td>&quot;1493575742660549041&quot;</td><td>&quot;4720659435396410217&quot;</td><td>false</td></tr><tr><td>&quot;2935824442795030428&quot;</td><td>&quot;12602925573573530865&quot;</td><td>1.4654e18</td><td>&quot;../../../../data/SampleHDS.jso…</td><td>&quot;1871987113938817970&quot;</td><td>&quot;4720659435396410217&quot;</td><td>false</td></tr><tr><td>&quot;672269816166370467&quot;</td><td>&quot;17780134115081472705&quot;</td><td>1.5969e19</td><td>&quot;../../../../data/SampleHDS.jso…</td><td>&quot;1871987113938817970&quot;</td><td>&quot;1124735200720621161&quot;</td><td>true</td></tr><tr><td>&quot;6370506178349658990&quot;</td><td>&quot;570737860946070418&quot;</td><td>4.8177e18</td><td>&quot;../../../../data/SampleHDS.jso…</td><td>&quot;9776856669484683721&quot;</td><td>null</td><td>false</td></tr><tr><td>&quot;4655843819874918207&quot;</td><td>&quot;570737860946070418&quot;</td><td>1.1208e19</td><td>&quot;../../../../data/SampleHDS.jso…</td><td>&quot;1871987113938817970&quot;</td><td>&quot;1124735200720621161&quot;</td><td>false</td></tr></tbody></table></div>"
      ],
      "text/plain": [
       "shape: (7, 7)\n",
       "┌──────────────┬─────────────┬─────────────┬─────────────┬─────────────┬─────────────┬─────────────┐\n",
       "│ PREDICTOR_0  ┆ PREDICTOR_1 ┆ PREDICTOR_2 ┆ filename    ┆ Context_Nam ┆ IH_PREDICTO ┆ Decision_Ou │\n",
       "│ ---          ┆ ---         ┆ ---         ┆ ---         ┆ e           ┆ R_0         ┆ tcome       │\n",
       "│ str          ┆ str         ┆ f64         ┆ str         ┆ ---         ┆ ---         ┆ ---         │\n",
       "│              ┆             ┆             ┆             ┆ str         ┆ str         ┆ bool        │\n",
       "╞══════════════╪═════════════╪═════════════╪═════════════╪═════════════╪═════════════╪═════════════╡\n",
       "│ 872174474888 ┆ 17780134115 ┆ 1.1297e19   ┆ ../../../.. ┆ 17727080977 ┆ 47206594353 ┆ false       │\n",
       "│ 0341658      ┆ 081472705   ┆             ┆ /data/Sampl ┆ 590953557   ┆ 96410217    ┆             │\n",
       "│              ┆             ┆             ┆ eHDS.jso…   ┆             ┆             ┆             │\n",
       "│ 176575063058 ┆ 12602925573 ┆ 4.9467e18   ┆ ../../../.. ┆ 17727080977 ┆ 16354395086 ┆ true        │\n",
       "│ 16802489     ┆ 573530865   ┆             ┆ /data/Sampl ┆ 590953557   ┆ 082494650   ┆             │\n",
       "│              ┆             ┆             ┆ eHDS.jso…   ┆             ┆             ┆             │\n",
       "│ 849570009111 ┆ 57073786094 ┆ 1.7771e19   ┆ ../../../.. ┆ 14935757426 ┆ 47206594353 ┆ false       │\n",
       "│ 9640092      ┆ 6070418     ┆             ┆ /data/Sampl ┆ 60549041    ┆ 96410217    ┆             │\n",
       "│              ┆             ┆             ┆ eHDS.jso…   ┆             ┆             ┆             │\n",
       "│ 293582444279 ┆ 12602925573 ┆ 1.4654e18   ┆ ../../../.. ┆ 18719871139 ┆ 47206594353 ┆ false       │\n",
       "│ 5030428      ┆ 573530865   ┆             ┆ /data/Sampl ┆ 38817970    ┆ 96410217    ┆             │\n",
       "│              ┆             ┆             ┆ eHDS.jso…   ┆             ┆             ┆             │\n",
       "│ 672269816166 ┆ 17780134115 ┆ 1.5969e19   ┆ ../../../.. ┆ 18719871139 ┆ 11247352007 ┆ true        │\n",
       "│ 370467       ┆ 081472705   ┆             ┆ /data/Sampl ┆ 38817970    ┆ 20621161    ┆             │\n",
       "│              ┆             ┆             ┆ eHDS.jso…   ┆             ┆             ┆             │\n",
       "│ 637050617834 ┆ 57073786094 ┆ 4.8177e18   ┆ ../../../.. ┆ 97768566694 ┆ null        ┆ false       │\n",
       "│ 9658990      ┆ 6070418     ┆             ┆ /data/Sampl ┆ 84683721    ┆             ┆             │\n",
       "│              ┆             ┆             ┆ eHDS.jso…   ┆             ┆             ┆             │\n",
       "│ 465584381987 ┆ 57073786094 ┆ 1.1208e19   ┆ ../../../.. ┆ 18719871139 ┆ 11247352007 ┆ false       │\n",
       "│ 4918207      ┆ 6070418     ┆             ┆ /data/Sampl ┆ 38817970    ┆ 20621161    ┆             │\n",
       "│              ┆             ┆             ┆ eHDS.jso…   ┆             ┆             ┆             │\n",
       "└──────────────┴─────────────┴─────────────┴─────────────┴─────────────┴─────────────┴─────────────┘"
      ]
     },
     "execution_count": 5,
     "metadata": {},
     "output_type": "execute_result"
    }
   ],
   "source": [
    "anon.process()"
   ]
  },
  {
   "attachments": {},
   "cell_type": "markdown",
   "metadata": {},
   "source": [
    "To trace back the columns to their original names, the class also contains a mapping, which does not have to be provided."
   ]
  },
  {
   "cell_type": "code",
   "execution_count": 6,
   "metadata": {
    "execution": {
     "iopub.execute_input": "2024-05-17T12:43:16.417182Z",
     "iopub.status.busy": "2024-05-17T12:43:16.416800Z",
     "iopub.status.idle": "2024-05-17T12:43:16.420608Z",
     "shell.execute_reply": "2024-05-17T12:43:16.420051Z"
    }
   },
   "outputs": [
    {
     "data": {
      "text/plain": [
       "{'Customer_City': 'PREDICTOR_0',\n",
       " 'Customer_MaritalStatus': 'PREDICTOR_1',\n",
       " 'Customer_CLV': 'PREDICTOR_2',\n",
       " 'filename': 'filename',\n",
       " 'Context_Name': 'Context_Name',\n",
       " 'IH_Web_Inbound_Accepted_pxLastGroupID': 'IH_PREDICTOR_0',\n",
       " 'Decision_Outcome': 'Decision_Outcome'}"
      ]
     },
     "execution_count": 6,
     "metadata": {},
     "output_type": "execute_result"
    }
   ],
   "source": [
    "anon.column_mapping"
   ]
  },
  {
   "attachments": {},
   "cell_type": "markdown",
   "metadata": {},
   "source": [
    "## Configs\n",
    "\n",
    "Each capability can optionally be turned off - see below for the full list of config options, and refer to the API reference for the full description."
   ]
  },
  {
   "cell_type": "code",
   "execution_count": 7,
   "metadata": {
    "execution": {
     "iopub.execute_input": "2024-05-17T12:43:16.422725Z",
     "iopub.status.busy": "2024-05-17T12:43:16.422407Z",
     "iopub.status.idle": "2024-05-17T12:43:16.426581Z",
     "shell.execute_reply": "2024-05-17T12:43:16.426049Z"
    }
   },
   "outputs": [
    {
     "data": {
      "text/plain": [
       "{'config_file': None,\n",
       " 'hds_folder': '.',\n",
       " 'use_datamart': False,\n",
       " 'datamart_folder': 'datamart',\n",
       " 'output_format': 'ndjson',\n",
       " 'output_folder': 'output',\n",
       " 'mapping_file': 'mapping.map',\n",
       " 'mask_predictor_names': True,\n",
       " 'mask_context_key_names': False,\n",
       " 'mask_ih_names': True,\n",
       " 'mask_outcome_name': False,\n",
       " 'mask_predictor_values': True,\n",
       " 'mask_context_key_values': True,\n",
       " 'mask_ih_values': True,\n",
       " 'mask_outcome_values': True,\n",
       " 'context_key_label': 'Context_*',\n",
       " 'ih_label': 'IH_*',\n",
       " 'outcome_column': 'Decision_Outcome',\n",
       " 'positive_outcomes': ['Accepted', 'Clicked'],\n",
       " 'negative_outcomes': ['Rejected', 'Impression'],\n",
       " 'special_predictors': ['Decision_DecisionTime',\n",
       "  'Decision_OutcomeTime',\n",
       "  'Decision_Rank'],\n",
       " 'sample_percentage_schema_inferencing': 0.01}"
      ]
     },
     "execution_count": 7,
     "metadata": {},
     "output_type": "execute_result"
    }
   ],
   "source": [
    "dict(zip(Config.__init__.__code__.co_varnames[1:], Config.__init__.__defaults__))"
   ]
  },
  {
   "attachments": {},
   "cell_type": "markdown",
   "metadata": {},
   "source": [
    "It's easy to change these parameters by just passing the keyword arguments. In the following example, we\n",
    "- Keep the IH predictor names\n",
    "- Keep the outcome values\n",
    "- Keep the context key values\n",
    "- Keep the context key predictor names"
   ]
  },
  {
   "cell_type": "code",
   "execution_count": 8,
   "metadata": {
    "execution": {
     "iopub.execute_input": "2024-05-17T12:43:16.428773Z",
     "iopub.status.busy": "2024-05-17T12:43:16.428364Z",
     "iopub.status.idle": "2024-05-17T12:43:16.435955Z",
     "shell.execute_reply": "2024-05-17T12:43:16.435508Z"
    }
   },
   "outputs": [
    {
     "data": {
      "text/html": [
       "<div><style>\n",
       ".dataframe > thead > tr,\n",
       ".dataframe > tbody > tr {\n",
       "  text-align: right;\n",
       "  white-space: pre-wrap;\n",
       "}\n",
       "</style>\n",
       "<small>shape: (7, 7)</small><table border=\"1\" class=\"dataframe\"><thead><tr><th>PREDICTOR_0</th><th>PREDICTOR_1</th><th>PREDICTOR_2</th><th>filename</th><th>Context_Name</th><th>IH_Web_Inbound_Accepted_pxLastGroupID</th><th>Decision_Outcome</th></tr><tr><td>str</td><td>str</td><td>f64</td><td>str</td><td>str</td><td>str</td><td>str</td></tr></thead><tbody><tr><td>&quot;1989194689959674902&quot;</td><td>&quot;12748091462306506616&quot;</td><td>1.5307e19</td><td>&quot;../../../../data/SampleHDS.jso…</td><td>&quot;FirstMortgage30yr&quot;</td><td>&quot;10416962998088695094&quot;</td><td>&quot;Rejected&quot;</td></tr><tr><td>&quot;2255014448522950249&quot;</td><td>&quot;6967934381435303917&quot;</td><td>1.5121e19</td><td>&quot;../../../../data/SampleHDS.jso…</td><td>&quot;FirstMortgage30yr&quot;</td><td>&quot;16612638657365535332&quot;</td><td>&quot;Accepted&quot;</td></tr><tr><td>&quot;6513904903080125239&quot;</td><td>&quot;3033157655102799613&quot;</td><td>1.8219e19</td><td>&quot;../../../../data/SampleHDS.jso…</td><td>&quot;MoneyMarketSavingsAccount&quot;</td><td>&quot;10416962998088695094&quot;</td><td>&quot;Rejected&quot;</td></tr><tr><td>&quot;2750496242488270454&quot;</td><td>&quot;6967934381435303917&quot;</td><td>1.5180e18</td><td>&quot;../../../../data/SampleHDS.jso…</td><td>&quot;BasicChecking&quot;</td><td>&quot;10416962998088695094&quot;</td><td>&quot;Rejected&quot;</td></tr><tr><td>&quot;1429658872754480146&quot;</td><td>&quot;12748091462306506616&quot;</td><td>3.4904e18</td><td>&quot;../../../../data/SampleHDS.jso…</td><td>&quot;BasicChecking&quot;</td><td>&quot;622070092991234640&quot;</td><td>&quot;Accepted&quot;</td></tr><tr><td>&quot;167952866498927685&quot;</td><td>&quot;3033157655102799613&quot;</td><td>7.4948e18</td><td>&quot;../../../../data/SampleHDS.jso…</td><td>&quot;UPlusFinPersonal&quot;</td><td>null</td><td>&quot;Rejected&quot;</td></tr><tr><td>&quot;18091338816821033542&quot;</td><td>&quot;3033157655102799613&quot;</td><td>1.8780e18</td><td>&quot;../../../../data/SampleHDS.jso…</td><td>&quot;BasicChecking&quot;</td><td>&quot;622070092991234640&quot;</td><td>&quot;Rejected&quot;</td></tr></tbody></table></div>"
      ],
      "text/plain": [
       "shape: (7, 7)\n",
       "┌──────────────┬─────────────┬─────────────┬─────────────┬─────────────┬─────────────┬─────────────┐\n",
       "│ PREDICTOR_0  ┆ PREDICTOR_1 ┆ PREDICTOR_2 ┆ filename    ┆ Context_Nam ┆ IH_Web_Inbo ┆ Decision_Ou │\n",
       "│ ---          ┆ ---         ┆ ---         ┆ ---         ┆ e           ┆ und_Accepte ┆ tcome       │\n",
       "│ str          ┆ str         ┆ f64         ┆ str         ┆ ---         ┆ d_pxLast…   ┆ ---         │\n",
       "│              ┆             ┆             ┆             ┆ str         ┆ ---         ┆ str         │\n",
       "│              ┆             ┆             ┆             ┆             ┆ str         ┆             │\n",
       "╞══════════════╪═════════════╪═════════════╪═════════════╪═════════════╪═════════════╪═════════════╡\n",
       "│ 198919468995 ┆ 12748091462 ┆ 1.5307e19   ┆ ../../../.. ┆ FirstMortga ┆ 10416962998 ┆ Rejected    │\n",
       "│ 9674902      ┆ 306506616   ┆             ┆ /data/Sampl ┆ ge30yr      ┆ 088695094   ┆             │\n",
       "│              ┆             ┆             ┆ eHDS.jso…   ┆             ┆             ┆             │\n",
       "│ 225501444852 ┆ 69679343814 ┆ 1.5121e19   ┆ ../../../.. ┆ FirstMortga ┆ 16612638657 ┆ Accepted    │\n",
       "│ 2950249      ┆ 35303917    ┆             ┆ /data/Sampl ┆ ge30yr      ┆ 365535332   ┆             │\n",
       "│              ┆             ┆             ┆ eHDS.jso…   ┆             ┆             ┆             │\n",
       "│ 651390490308 ┆ 30331576551 ┆ 1.8219e19   ┆ ../../../.. ┆ MoneyMarket ┆ 10416962998 ┆ Rejected    │\n",
       "│ 0125239      ┆ 02799613    ┆             ┆ /data/Sampl ┆ SavingsAcco ┆ 088695094   ┆             │\n",
       "│              ┆             ┆             ┆ eHDS.jso…   ┆ unt         ┆             ┆             │\n",
       "│ 275049624248 ┆ 69679343814 ┆ 1.5180e18   ┆ ../../../.. ┆ BasicChecki ┆ 10416962998 ┆ Rejected    │\n",
       "│ 8270454      ┆ 35303917    ┆             ┆ /data/Sampl ┆ ng          ┆ 088695094   ┆             │\n",
       "│              ┆             ┆             ┆ eHDS.jso…   ┆             ┆             ┆             │\n",
       "│ 142965887275 ┆ 12748091462 ┆ 3.4904e18   ┆ ../../../.. ┆ BasicChecki ┆ 62207009299 ┆ Accepted    │\n",
       "│ 4480146      ┆ 306506616   ┆             ┆ /data/Sampl ┆ ng          ┆ 1234640     ┆             │\n",
       "│              ┆             ┆             ┆ eHDS.jso…   ┆             ┆             ┆             │\n",
       "│ 167952866498 ┆ 30331576551 ┆ 7.4948e18   ┆ ../../../.. ┆ UPlusFinPer ┆ null        ┆ Rejected    │\n",
       "│ 927685       ┆ 02799613    ┆             ┆ /data/Sampl ┆ sonal       ┆             ┆             │\n",
       "│              ┆             ┆             ┆ eHDS.jso…   ┆             ┆             ┆             │\n",
       "│ 180913388168 ┆ 30331576551 ┆ 1.8780e18   ┆ ../../../.. ┆ BasicChecki ┆ 62207009299 ┆ Rejected    │\n",
       "│ 21033542     ┆ 02799613    ┆             ┆ /data/Sampl ┆ ng          ┆ 1234640     ┆             │\n",
       "│              ┆             ┆             ┆ eHDS.jso…   ┆             ┆             ┆             │\n",
       "└──────────────┴─────────────┴─────────────┴─────────────┴─────────────┴─────────────┴─────────────┘"
      ]
     },
     "execution_count": 8,
     "metadata": {},
     "output_type": "execute_result"
    }
   ],
   "source": [
    "anon = DataAnonymization(\n",
    "    hds_folder=\"../../../../data/\",\n",
    "    mask_ih_names=False,\n",
    "    mask_outcome_values=False,\n",
    "    mask_context_key_values=False,\n",
    "    mask_context_key_names=False,\n",
    ")\n",
    "anon.process()\n"
   ]
  },
  {
   "attachments": {},
   "cell_type": "markdown",
   "metadata": {},
   "source": [
    "The configs can also be written and read as such:"
   ]
  },
  {
   "cell_type": "code",
   "execution_count": 9,
   "metadata": {
    "execution": {
     "iopub.execute_input": "2024-05-17T12:43:16.437926Z",
     "iopub.status.busy": "2024-05-17T12:43:16.437598Z",
     "iopub.status.idle": "2024-05-17T12:43:16.440378Z",
     "shell.execute_reply": "2024-05-17T12:43:16.439941Z"
    }
   },
   "outputs": [],
   "source": [
    "anon.config.save_to_config_file('config.json')"
   ]
  },
  {
   "cell_type": "code",
   "execution_count": 10,
   "metadata": {
    "execution": {
     "iopub.execute_input": "2024-05-17T12:43:16.442370Z",
     "iopub.status.busy": "2024-05-17T12:43:16.442065Z",
     "iopub.status.idle": "2024-05-17T12:43:16.449824Z",
     "shell.execute_reply": "2024-05-17T12:43:16.449288Z"
    }
   },
   "outputs": [
    {
     "data": {
      "text/html": [
       "<div><style>\n",
       ".dataframe > thead > tr,\n",
       ".dataframe > tbody > tr {\n",
       "  text-align: right;\n",
       "  white-space: pre-wrap;\n",
       "}\n",
       "</style>\n",
       "<small>shape: (7, 7)</small><table border=\"1\" class=\"dataframe\"><thead><tr><th>PREDICTOR_0</th><th>PREDICTOR_1</th><th>PREDICTOR_2</th><th>filename</th><th>Context_Name</th><th>IH_Web_Inbound_Accepted_pxLastGroupID</th><th>Decision_Outcome</th></tr><tr><td>str</td><td>str</td><td>f64</td><td>str</td><td>str</td><td>str</td><td>str</td></tr></thead><tbody><tr><td>&quot;16929868650087711875&quot;</td><td>&quot;4859399229005635569&quot;</td><td>1.6319e19</td><td>&quot;../../../../data/SampleHDS.jso…</td><td>&quot;FirstMortgage30yr&quot;</td><td>&quot;2534513497512586427&quot;</td><td>&quot;Rejected&quot;</td></tr><tr><td>&quot;14247178193315051957&quot;</td><td>&quot;12681019335483465754&quot;</td><td>1.5122e19</td><td>&quot;../../../../data/SampleHDS.jso…</td><td>&quot;FirstMortgage30yr&quot;</td><td>&quot;14117068583901799656&quot;</td><td>&quot;Accepted&quot;</td></tr><tr><td>&quot;5609459030902291423&quot;</td><td>&quot;12638301940606791516&quot;</td><td>4.8193e18</td><td>&quot;../../../../data/SampleHDS.jso…</td><td>&quot;MoneyMarketSavingsAccount&quot;</td><td>&quot;2534513497512586427&quot;</td><td>&quot;Rejected&quot;</td></tr><tr><td>&quot;10801425033456365729&quot;</td><td>&quot;12681019335483465754&quot;</td><td>1.6879e19</td><td>&quot;../../../../data/SampleHDS.jso…</td><td>&quot;BasicChecking&quot;</td><td>&quot;2534513497512586427&quot;</td><td>&quot;Rejected&quot;</td></tr><tr><td>&quot;11248097320504005415&quot;</td><td>&quot;4859399229005635569&quot;</td><td>1.5298e18</td><td>&quot;../../../../data/SampleHDS.jso…</td><td>&quot;BasicChecking&quot;</td><td>&quot;5180137805114566263&quot;</td><td>&quot;Accepted&quot;</td></tr><tr><td>&quot;3171898946285664141&quot;</td><td>&quot;12638301940606791516&quot;</td><td>1.3198e19</td><td>&quot;../../../../data/SampleHDS.jso…</td><td>&quot;UPlusFinPersonal&quot;</td><td>null</td><td>&quot;Rejected&quot;</td></tr><tr><td>&quot;1117822464583473178&quot;</td><td>&quot;12638301940606791516&quot;</td><td>3.5878e18</td><td>&quot;../../../../data/SampleHDS.jso…</td><td>&quot;BasicChecking&quot;</td><td>&quot;5180137805114566263&quot;</td><td>&quot;Rejected&quot;</td></tr></tbody></table></div>"
      ],
      "text/plain": [
       "shape: (7, 7)\n",
       "┌──────────────┬─────────────┬─────────────┬─────────────┬─────────────┬─────────────┬─────────────┐\n",
       "│ PREDICTOR_0  ┆ PREDICTOR_1 ┆ PREDICTOR_2 ┆ filename    ┆ Context_Nam ┆ IH_Web_Inbo ┆ Decision_Ou │\n",
       "│ ---          ┆ ---         ┆ ---         ┆ ---         ┆ e           ┆ und_Accepte ┆ tcome       │\n",
       "│ str          ┆ str         ┆ f64         ┆ str         ┆ ---         ┆ d_pxLast…   ┆ ---         │\n",
       "│              ┆             ┆             ┆             ┆ str         ┆ ---         ┆ str         │\n",
       "│              ┆             ┆             ┆             ┆             ┆ str         ┆             │\n",
       "╞══════════════╪═════════════╪═════════════╪═════════════╪═════════════╪═════════════╪═════════════╡\n",
       "│ 169298686500 ┆ 48593992290 ┆ 1.6319e19   ┆ ../../../.. ┆ FirstMortga ┆ 25345134975 ┆ Rejected    │\n",
       "│ 87711875     ┆ 05635569    ┆             ┆ /data/Sampl ┆ ge30yr      ┆ 12586427    ┆             │\n",
       "│              ┆             ┆             ┆ eHDS.jso…   ┆             ┆             ┆             │\n",
       "│ 142471781933 ┆ 12681019335 ┆ 1.5122e19   ┆ ../../../.. ┆ FirstMortga ┆ 14117068583 ┆ Accepted    │\n",
       "│ 15051957     ┆ 483465754   ┆             ┆ /data/Sampl ┆ ge30yr      ┆ 901799656   ┆             │\n",
       "│              ┆             ┆             ┆ eHDS.jso…   ┆             ┆             ┆             │\n",
       "│ 560945903090 ┆ 12638301940 ┆ 4.8193e18   ┆ ../../../.. ┆ MoneyMarket ┆ 25345134975 ┆ Rejected    │\n",
       "│ 2291423      ┆ 606791516   ┆             ┆ /data/Sampl ┆ SavingsAcco ┆ 12586427    ┆             │\n",
       "│              ┆             ┆             ┆ eHDS.jso…   ┆ unt         ┆             ┆             │\n",
       "│ 108014250334 ┆ 12681019335 ┆ 1.6879e19   ┆ ../../../.. ┆ BasicChecki ┆ 25345134975 ┆ Rejected    │\n",
       "│ 56365729     ┆ 483465754   ┆             ┆ /data/Sampl ┆ ng          ┆ 12586427    ┆             │\n",
       "│              ┆             ┆             ┆ eHDS.jso…   ┆             ┆             ┆             │\n",
       "│ 112480973205 ┆ 48593992290 ┆ 1.5298e18   ┆ ../../../.. ┆ BasicChecki ┆ 51801378051 ┆ Accepted    │\n",
       "│ 04005415     ┆ 05635569    ┆             ┆ /data/Sampl ┆ ng          ┆ 14566263    ┆             │\n",
       "│              ┆             ┆             ┆ eHDS.jso…   ┆             ┆             ┆             │\n",
       "│ 317189894628 ┆ 12638301940 ┆ 1.3198e19   ┆ ../../../.. ┆ UPlusFinPer ┆ null        ┆ Rejected    │\n",
       "│ 5664141      ┆ 606791516   ┆             ┆ /data/Sampl ┆ sonal       ┆             ┆             │\n",
       "│              ┆             ┆             ┆ eHDS.jso…   ┆             ┆             ┆             │\n",
       "│ 111782246458 ┆ 12638301940 ┆ 3.5878e18   ┆ ../../../.. ┆ BasicChecki ┆ 51801378051 ┆ Rejected    │\n",
       "│ 3473178      ┆ 606791516   ┆             ┆ /data/Sampl ┆ ng          ┆ 14566263    ┆             │\n",
       "│              ┆             ┆             ┆ eHDS.jso…   ┆             ┆             ┆             │\n",
       "└──────────────┴─────────────┴─────────────┴─────────────┴─────────────┴─────────────┴─────────────┘"
      ]
     },
     "execution_count": 10,
     "metadata": {},
     "output_type": "execute_result"
    }
   ],
   "source": [
    "anon = DataAnonymization(config=Config(config_file='config.json'))\n",
    "anon.process()"
   ]
  },
  {
   "attachments": {},
   "cell_type": "markdown",
   "metadata": {},
   "source": [
    "## Exporting\n",
    "Two functions export:\n",
    "- `create_mapping_file()` writes the mapping file of the predictor names\n",
    "- `write_to_output()` writes the processed dataframe to disk\n",
    "\n",
    "Write to output accepts the following extensions: `[\"ndjson\", \"parquet\", \"arrow\", \"csv\"]`"
   ]
  },
  {
   "cell_type": "code",
   "execution_count": 11,
   "metadata": {
    "execution": {
     "iopub.execute_input": "2024-05-17T12:43:16.451836Z",
     "iopub.status.busy": "2024-05-17T12:43:16.451586Z",
     "iopub.status.idle": "2024-05-17T12:43:16.455193Z",
     "shell.execute_reply": "2024-05-17T12:43:16.454735Z"
    }
   },
   "outputs": [
    {
     "name": "stdout",
     "output_type": "stream",
     "text": [
      "Customer_City=PREDICTOR_0\n",
      "Customer_MaritalStatus=PREDICTOR_1\n",
      "Customer_CLV=PREDICTOR_2\n",
      "filename=filename\n",
      "Context_Name=Context_Name\n",
      "IH_Web_Inbound_Accepted_pxLastGroupID=IH_Web_Inbound_Accepted_pxLastGroupID\n",
      "Decision_Outcome=Decision_Outcome\n",
      "\n"
     ]
    }
   ],
   "source": [
    "anon.create_mapping_file()\n",
    "with open('mapping.map') as f:\n",
    "    print(f.read())"
   ]
  },
  {
   "cell_type": "code",
   "execution_count": 12,
   "metadata": {
    "execution": {
     "iopub.execute_input": "2024-05-17T12:43:16.457178Z",
     "iopub.status.busy": "2024-05-17T12:43:16.456866Z",
     "iopub.status.idle": "2024-05-17T12:43:16.460223Z",
     "shell.execute_reply": "2024-05-17T12:43:16.459798Z"
    }
   },
   "outputs": [],
   "source": [
    "anon.write_to_output(ext='arrow')"
   ]
  },
  {
   "cell_type": "code",
   "execution_count": 13,
   "metadata": {
    "execution": {
     "iopub.execute_input": "2024-05-17T12:43:16.462150Z",
     "iopub.status.busy": "2024-05-17T12:43:16.461986Z",
     "iopub.status.idle": "2024-05-17T12:43:16.466625Z",
     "shell.execute_reply": "2024-05-17T12:43:16.466173Z"
    }
   },
   "outputs": [
    {
     "data": {
      "text/html": [
       "<div><style>\n",
       ".dataframe > thead > tr,\n",
       ".dataframe > tbody > tr {\n",
       "  text-align: right;\n",
       "  white-space: pre-wrap;\n",
       "}\n",
       "</style>\n",
       "<small>shape: (7, 6)</small><table border=\"1\" class=\"dataframe\"><thead><tr><th>PREDICTOR_0</th><th>PREDICTOR_1</th><th>PREDICTOR_2</th><th>Context_Name</th><th>IH_Web_Inbound_Accepted_pxLastGroupID</th><th>Decision_Outcome</th></tr><tr><td>str</td><td>str</td><td>f64</td><td>str</td><td>str</td><td>str</td></tr></thead><tbody><tr><td>&quot;17370129273884146750&quot;</td><td>&quot;8364273036859430566&quot;</td><td>1.0389e19</td><td>&quot;FirstMortgage30yr&quot;</td><td>&quot;13316372397012808074&quot;</td><td>&quot;Rejected&quot;</td></tr><tr><td>&quot;17175413995010399158&quot;</td><td>&quot;4128535783622229334&quot;</td><td>7.4165e18</td><td>&quot;FirstMortgage30yr&quot;</td><td>&quot;15147807493915068473&quot;</td><td>&quot;Accepted&quot;</td></tr><tr><td>&quot;7747391926491757433&quot;</td><td>&quot;3482510297199845548&quot;</td><td>4.1077e18</td><td>&quot;MoneyMarketSavingsAccount&quot;</td><td>&quot;13316372397012808074&quot;</td><td>&quot;Rejected&quot;</td></tr><tr><td>&quot;3974640675738568972&quot;</td><td>&quot;4128535783622229334&quot;</td><td>5.7397e18</td><td>&quot;BasicChecking&quot;</td><td>&quot;13316372397012808074&quot;</td><td>&quot;Rejected&quot;</td></tr><tr><td>&quot;15560386373563484816&quot;</td><td>&quot;8364273036859430566&quot;</td><td>1.1162e19</td><td>&quot;BasicChecking&quot;</td><td>&quot;11244957752214382544&quot;</td><td>&quot;Accepted&quot;</td></tr><tr><td>&quot;5671329845244880936&quot;</td><td>&quot;3482510297199845548&quot;</td><td>2.4774e18</td><td>&quot;UPlusFinPersonal&quot;</td><td>null</td><td>&quot;Rejected&quot;</td></tr><tr><td>&quot;10994670432275401250&quot;</td><td>&quot;3482510297199845548&quot;</td><td>1.6249e19</td><td>&quot;BasicChecking&quot;</td><td>&quot;11244957752214382544&quot;</td><td>&quot;Rejected&quot;</td></tr></tbody></table></div>"
      ],
      "text/plain": [
       "shape: (7, 6)\n",
       "┌────────────────┬────────────────┬─────────────┬────────────────┬────────────────┬────────────────┐\n",
       "│ PREDICTOR_0    ┆ PREDICTOR_1    ┆ PREDICTOR_2 ┆ Context_Name   ┆ IH_Web_Inbound ┆ Decision_Outco │\n",
       "│ ---            ┆ ---            ┆ ---         ┆ ---            ┆ _Accepted_pxLa ┆ me             │\n",
       "│ str            ┆ str            ┆ f64         ┆ str            ┆ st…            ┆ ---            │\n",
       "│                ┆                ┆             ┆                ┆ ---            ┆ str            │\n",
       "│                ┆                ┆             ┆                ┆ str            ┆                │\n",
       "╞════════════════╪════════════════╪═════════════╪════════════════╪════════════════╪════════════════╡\n",
       "│ 17370129273884 ┆ 83642730368594 ┆ 1.0389e19   ┆ FirstMortgage3 ┆ 13316372397012 ┆ Rejected       │\n",
       "│ 146750         ┆ 30566          ┆             ┆ 0yr            ┆ 808074         ┆                │\n",
       "│ 17175413995010 ┆ 41285357836222 ┆ 7.4165e18   ┆ FirstMortgage3 ┆ 15147807493915 ┆ Accepted       │\n",
       "│ 399158         ┆ 29334          ┆             ┆ 0yr            ┆ 068473         ┆                │\n",
       "│ 77473919264917 ┆ 34825102971998 ┆ 4.1077e18   ┆ MoneyMarketSav ┆ 13316372397012 ┆ Rejected       │\n",
       "│ 57433          ┆ 45548          ┆             ┆ ingsAccount    ┆ 808074         ┆                │\n",
       "│ 39746406757385 ┆ 41285357836222 ┆ 5.7397e18   ┆ BasicChecking  ┆ 13316372397012 ┆ Rejected       │\n",
       "│ 68972          ┆ 29334          ┆             ┆                ┆ 808074         ┆                │\n",
       "│ 15560386373563 ┆ 83642730368594 ┆ 1.1162e19   ┆ BasicChecking  ┆ 11244957752214 ┆ Accepted       │\n",
       "│ 484816         ┆ 30566          ┆             ┆                ┆ 382544         ┆                │\n",
       "│ 56713298452448 ┆ 34825102971998 ┆ 2.4774e18   ┆ UPlusFinPerson ┆ null           ┆ Rejected       │\n",
       "│ 80936          ┆ 45548          ┆             ┆ al             ┆                ┆                │\n",
       "│ 10994670432275 ┆ 34825102971998 ┆ 1.6249e19   ┆ BasicChecking  ┆ 11244957752214 ┆ Rejected       │\n",
       "│ 401250         ┆ 45548          ┆             ┆                ┆ 382544         ┆                │\n",
       "└────────────────┴────────────────┴─────────────┴────────────────┴────────────────┴────────────────┘"
      ]
     },
     "execution_count": 13,
     "metadata": {},
     "output_type": "execute_result"
    }
   ],
   "source": [
    "pl.read_ipc('output/hds.arrow')"
   ]
  },
  {
   "attachments": {},
   "cell_type": "markdown",
   "metadata": {
    "nbsphinx": "hidden"
   },
   "source": [
    "## Advanced: Hash fuctions\n",
    "\n",
    "By default, we use [the same hashing algorithm Polars](https://pola-rs.github.io/polars/py-polars/html/reference/expressions/api/polars.Expr.hash.html#polars.Expr.hash) uses: [xxhash](https://github.com/Cyan4973/xxHash), as implemented [here](https://github.com/pola-rs/polars/blob/3f287f370b3c388ed2f3f218b2c096382548136f/polars/polars-core/src/vector_hasher.rs#L266). xxhash is fast to compute, and you can check its performance in collision, dispersion and randomness [here](https://github.com/Cyan4973/xxHash/tree/dev/tests). \n",
    "\n",
    "xxhash accepts four distinct seeds, but by default we set the seeds to `0`. It is possible to set the `seed` argument of the `process()` function to `'random'`, which will set all four seeds to a random integer between `0` and `1000000000`. Alternatively, it is possible to supply the four seeds manually with arguments `seed`, `seed_1`, `seed_2` and `seed_3`. \n",
    "\n",
    "If the xxhash with (random) seed(s) is not deemed sufficiently secure, it is possible to use your own hashing algorithm.\n",
    "\n",
    "Note that since we're now running python code and not native Polars code anymore, this will be _significantly_ slower. Nonetheless, it is possible.\n",
    "\n",
    "Just as an example - this is how one would use sha3_256:"
   ]
  },
  {
   "cell_type": "code",
   "execution_count": 14,
   "metadata": {
    "execution": {
     "iopub.execute_input": "2024-05-17T12:43:16.468607Z",
     "iopub.status.busy": "2024-05-17T12:43:16.468230Z",
     "iopub.status.idle": "2024-05-17T12:43:16.785001Z",
     "shell.execute_reply": "2024-05-17T12:43:16.784479Z"
    },
    "nbsphinx": "hidden"
   },
   "outputs": [
    {
     "name": "stderr",
     "output_type": "stream",
     "text": [
      "sys:1: MapWithoutReturnDtypeWarning:\n",
      "\n",
      "Calling `map_elements` without specifying `return_dtype` can lead to unpredictable results. Specify `return_dtype` to silence this warning.\n",
      "\n",
      "sys:1: MapWithoutReturnDtypeWarning:\n",
      "\n",
      "Calling `map_elements` without specifying `return_dtype` can lead to unpredictable results. Specify `return_dtype` to silence this warning.\n",
      "\n",
      "sys:1: MapWithoutReturnDtypeWarning:\n",
      "\n",
      "Calling `map_elements` without specifying `return_dtype` can lead to unpredictable results. Specify `return_dtype` to silence this warning.\n",
      "\n",
      "sys:1: MapWithoutReturnDtypeWarning:\n",
      "\n",
      "Calling `map_elements` without specifying `return_dtype` can lead to unpredictable results. Specify `return_dtype` to silence this warning.\n",
      "\n"
     ]
    },
    {
     "ename": "ComputeError",
     "evalue": "AttributeError: 'int' object has no attribute 'encode'",
     "output_type": "error",
     "traceback": [
      "\u001b[0;31m---------------------------------------------------------------------------\u001b[0m",
      "\u001b[0;31mComputeError\u001b[0m                              Traceback (most recent call last)",
      "Cell \u001b[0;32mIn[14], line 3\u001b[0m\n\u001b[1;32m      1\u001b[0m \u001b[38;5;28;01mfrom\u001b[39;00m \u001b[38;5;21;01mhashlib\u001b[39;00m \u001b[38;5;28;01mimport\u001b[39;00m sha3_256\n\u001b[0;32m----> 3\u001b[0m \u001b[43manon\u001b[49m\u001b[38;5;241;43m.\u001b[39;49m\u001b[43mprocess\u001b[49m\u001b[43m(\u001b[49m\u001b[43malgorithm\u001b[49m\u001b[38;5;241;43m=\u001b[39;49m\u001b[38;5;28;43;01mlambda\u001b[39;49;00m\u001b[43m \u001b[49m\u001b[43mx\u001b[49m\u001b[43m:\u001b[49m\u001b[43m \u001b[49m\u001b[43msha3_256\u001b[49m\u001b[43m(\u001b[49m\u001b[43mx\u001b[49m\u001b[38;5;241;43m.\u001b[39;49m\u001b[43mencode\u001b[49m\u001b[43m(\u001b[49m\u001b[43m)\u001b[49m\u001b[43m)\u001b[49m\u001b[38;5;241;43m.\u001b[39;49m\u001b[43mhexdigest\u001b[49m\u001b[43m(\u001b[49m\u001b[43m)\u001b[49m\u001b[43m)\u001b[49m\n",
      "File \u001b[0;32m~/work/pega-datascientist-tools/pega-datascientist-tools/python/docs/source/articles/../../../pdstools/utils/hds_utils.py:512\u001b[0m, in \u001b[0;36mDataAnonymization.process\u001b[0;34m(self, strategy, **kwargs)\u001b[0m\n\u001b[1;32m    510\u001b[0m df \u001b[38;5;241m=\u001b[39m df\u001b[38;5;241m.\u001b[39mselect(\u001b[38;5;28mself\u001b[39m\u001b[38;5;241m.\u001b[39mcolumn_mapping\u001b[38;5;241m.\u001b[39mkeys())\u001b[38;5;241m.\u001b[39mrename(\u001b[38;5;28mself\u001b[39m\u001b[38;5;241m.\u001b[39mcolumn_mapping)\n\u001b[1;32m    511\u001b[0m \u001b[38;5;28;01mif\u001b[39;00m strategy \u001b[38;5;241m==\u001b[39m \u001b[38;5;124m\"\u001b[39m\u001b[38;5;124meager\u001b[39m\u001b[38;5;124m\"\u001b[39m:\n\u001b[0;32m--> 512\u001b[0m     \u001b[38;5;28;01mreturn\u001b[39;00m \u001b[43mdf\u001b[49m\u001b[38;5;241;43m.\u001b[39;49m\u001b[43mcollect\u001b[49m\u001b[43m(\u001b[49m\u001b[43m)\u001b[49m\n\u001b[1;32m    513\u001b[0m \u001b[38;5;28;01mreturn\u001b[39;00m df\n",
      "File \u001b[0;32m/opt/hostedtoolcache/Python/3.11.9/x64/lib/python3.11/site-packages/polars/lazyframe/frame.py:1816\u001b[0m, in \u001b[0;36mLazyFrame.collect\u001b[0;34m(self, type_coercion, predicate_pushdown, projection_pushdown, simplify_expression, slice_pushdown, comm_subplan_elim, comm_subexpr_elim, no_optimization, streaming, background, _eager, **_kwargs)\u001b[0m\n\u001b[1;32m   1813\u001b[0m \u001b[38;5;66;03m# Only for testing purposes atm.\u001b[39;00m\n\u001b[1;32m   1814\u001b[0m callback \u001b[38;5;241m=\u001b[39m _kwargs\u001b[38;5;241m.\u001b[39mget(\u001b[38;5;124m\"\u001b[39m\u001b[38;5;124mpost_opt_callback\u001b[39m\u001b[38;5;124m\"\u001b[39m)\n\u001b[0;32m-> 1816\u001b[0m \u001b[38;5;28;01mreturn\u001b[39;00m wrap_df(\u001b[43mldf\u001b[49m\u001b[38;5;241;43m.\u001b[39;49m\u001b[43mcollect\u001b[49m\u001b[43m(\u001b[49m\u001b[43mcallback\u001b[49m\u001b[43m)\u001b[49m)\n",
      "\u001b[0;31mComputeError\u001b[0m: AttributeError: 'int' object has no attribute 'encode'"
     ]
    }
   ],
   "source": [
    "from hashlib import sha3_256\n",
    "\n",
    "anon.process(algorithm=lambda x: sha3_256(x.encode()).hexdigest())"
   ]
  }
 ],
 "metadata": {
  "kernelspec": {
   "display_name": "Python 3",
   "language": "python",
   "name": "python3"
  },
  "language_info": {
   "codemirror_mode": {
    "name": "ipython",
    "version": 3
   },
   "file_extension": ".py",
   "mimetype": "text/x-python",
   "name": "python",
   "nbconvert_exporter": "python",
   "pygments_lexer": "ipython3",
   "version": "3.11.9"
  },
  "vscode": {
   "interpreter": {
    "hash": "aee8b7b246df8f9039afb4144a1f6fd8d2ca17a180786b69acc140d282b71a49"
   }
  }
 },
 "nbformat": 4,
 "nbformat_minor": 2
}
