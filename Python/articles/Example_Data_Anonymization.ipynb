{
 "cells": [
  {
   "attachments": {},
   "cell_type": "markdown",
   "metadata": {},
   "source": [
    "# Example data anonymization\n",
    "\n",
    "In Pega CDH 8.5 and up, it's now possible to record the historical data as seen by the Adaptive Models. See [this academy challenge](https://academy.pega.com/challenge/exporting-historical-data/v4) for reference. This historical data can be further used to experiment with offline models, but also to fine-tune the OOTB Gradient Boosting model. However, sharing this information with Pega can be sensitive as it contains raw predictor data. \n",
    "\n",
    "To this end, we provide a simple and transparent script to fully anonimize this dataset.\n",
    "\n",
    "The DataAnonymization script is now part of pdstools, and you can import it directly as such."
   ]
  },
  {
   "cell_type": "code",
   "execution_count": 1,
   "metadata": {
    "execution": {
     "iopub.execute_input": "2023-09-28T11:07:56.701813Z",
     "iopub.status.busy": "2023-09-28T11:07:56.701196Z",
     "iopub.status.idle": "2023-09-28T11:07:56.783127Z",
     "shell.execute_reply": "2023-09-28T11:07:56.782523Z"
    },
    "nbsphinx": "hidden"
   },
   "outputs": [],
   "source": [
    "# These lines are only for rendering in the docs, and are hidden through Jupyter tags\n",
    "# Do not run if you're running the notebook seperately\n",
    "\n",
    "import os  \n",
    "import sys\n",
    "import plotly.io as pio\n",
    "pio.renderers.default = \"notebook_connected\"\n",
    "\n",
    "sys.path.append(\"../../../\")\n",
    "sys.path.append('../../python')"
   ]
  },
  {
   "cell_type": "code",
   "execution_count": 2,
   "metadata": {
    "execution": {
     "iopub.execute_input": "2023-09-28T11:07:56.786191Z",
     "iopub.status.busy": "2023-09-28T11:07:56.785675Z",
     "iopub.status.idle": "2023-09-28T11:07:57.968080Z",
     "shell.execute_reply": "2023-09-28T11:07:57.967446Z"
    }
   },
   "outputs": [],
   "source": [
    "from pdstools import ADMDatamart\n",
    "from pdstools import Config, DataAnonymization\n",
    "import polars as pl"
   ]
  },
  {
   "attachments": {},
   "cell_type": "markdown",
   "metadata": {},
   "source": [
    "## Input data\n",
    "\n",
    "To demonstrate this process, we're going to anonymise this toy example dataframe:"
   ]
  },
  {
   "cell_type": "code",
   "execution_count": 3,
   "metadata": {
    "execution": {
     "iopub.execute_input": "2023-09-28T11:07:57.972074Z",
     "iopub.status.busy": "2023-09-28T11:07:57.970703Z",
     "iopub.status.idle": "2023-09-28T11:07:57.983745Z",
     "shell.execute_reply": "2023-09-28T11:07:57.983227Z"
    }
   },
   "outputs": [
    {
     "data": {
      "text/html": [
       "<div><style>\n",
       ".dataframe > thead > tr > th,\n",
       ".dataframe > tbody > tr > td {\n",
       "  text-align: right;\n",
       "  white-space: pre-wrap;\n",
       "}\n",
       "</style>\n",
       "<small>shape: (7, 6)</small><table border=\"1\" class=\"dataframe\"><thead><tr><th>Context_Name</th><th>Customer_MaritalStatus</th><th>Customer_CLV</th><th>Customer_City</th><th>IH_Web_Inbound_Accepted_pxLastGroupID</th><th>Decision_Outcome</th></tr><tr><td>str</td><td>str</td><td>i64</td><td>str</td><td>str</td><td>str</td></tr></thead><tbody><tr><td>&quot;FirstMortgage3…</td><td>&quot;Married&quot;</td><td>1460</td><td>&quot;Port Raoul&quot;</td><td>&quot;Account&quot;</td><td>&quot;Rejected&quot;</td></tr><tr><td>&quot;FirstMortgage3…</td><td>&quot;Unknown&quot;</td><td>669</td><td>&quot;Laurianneshire…</td><td>&quot;AutoLoans&quot;</td><td>&quot;Accepted&quot;</td></tr><tr><td>&quot;MoneyMarketSav…</td><td>&quot;No Resp+&quot;</td><td>1174</td><td>&quot;Jacobshaven&quot;</td><td>&quot;Account&quot;</td><td>&quot;Rejected&quot;</td></tr><tr><td>&quot;BasicChecking&quot;</td><td>&quot;Unknown&quot;</td><td>1476</td><td>&quot;Lindton&quot;</td><td>&quot;Account&quot;</td><td>&quot;Rejected&quot;</td></tr><tr><td>&quot;BasicChecking&quot;</td><td>&quot;Married&quot;</td><td>1211</td><td>&quot;South Jimmiesh…</td><td>&quot;DepositAccount…</td><td>&quot;Accepted&quot;</td></tr><tr><td>&quot;UPlusFinPerson…</td><td>&quot;No Resp+&quot;</td><td>533</td><td>&quot;Bergeville&quot;</td><td>null</td><td>&quot;Rejected&quot;</td></tr><tr><td>&quot;BasicChecking&quot;</td><td>&quot;No Resp+&quot;</td><td>555</td><td>&quot;Willyville&quot;</td><td>&quot;DepositAccount…</td><td>&quot;Rejected&quot;</td></tr></tbody></table></div>"
      ],
      "text/plain": [
       "shape: (7, 6)\n",
       "┌────────────────┬────────────────┬──────────────┬────────────────┬────────────────┬───────────────┐\n",
       "│ Context_Name   ┆ Customer_Marit ┆ Customer_CLV ┆ Customer_City  ┆ IH_Web_Inbound ┆ Decision_Outc │\n",
       "│ ---            ┆ alStatus       ┆ ---          ┆ ---            ┆ _Accepted_pxLa ┆ ome           │\n",
       "│ str            ┆ ---            ┆ i64          ┆ str            ┆ stGr…          ┆ ---           │\n",
       "│                ┆ str            ┆              ┆                ┆ ---            ┆ str           │\n",
       "│                ┆                ┆              ┆                ┆ str            ┆               │\n",
       "╞════════════════╪════════════════╪══════════════╪════════════════╪════════════════╪═══════════════╡\n",
       "│ FirstMortgage3 ┆ Married        ┆ 1460         ┆ Port Raoul     ┆ Account        ┆ Rejected      │\n",
       "│ 0yr            ┆                ┆              ┆                ┆                ┆               │\n",
       "│ FirstMortgage3 ┆ Unknown        ┆ 669          ┆ Laurianneshire ┆ AutoLoans      ┆ Accepted      │\n",
       "│ 0yr            ┆                ┆              ┆                ┆                ┆               │\n",
       "│ MoneyMarketSav ┆ No Resp+       ┆ 1174         ┆ Jacobshaven    ┆ Account        ┆ Rejected      │\n",
       "│ ingsAccount    ┆                ┆              ┆                ┆                ┆               │\n",
       "│ BasicChecking  ┆ Unknown        ┆ 1476         ┆ Lindton        ┆ Account        ┆ Rejected      │\n",
       "│ BasicChecking  ┆ Married        ┆ 1211         ┆ South          ┆ DepositAccount ┆ Accepted      │\n",
       "│                ┆                ┆              ┆ Jimmieshire    ┆ s              ┆               │\n",
       "│ UPlusFinPerson ┆ No Resp+       ┆ 533          ┆ Bergeville     ┆ null           ┆ Rejected      │\n",
       "│ al             ┆                ┆              ┆                ┆                ┆               │\n",
       "│ BasicChecking  ┆ No Resp+       ┆ 555          ┆ Willyville     ┆ DepositAccount ┆ Rejected      │\n",
       "│                ┆                ┆              ┆                ┆ s              ┆               │\n",
       "└────────────────┴────────────────┴──────────────┴────────────────┴────────────────┴───────────────┘"
      ]
     },
     "execution_count": 3,
     "metadata": {},
     "output_type": "execute_result"
    }
   ],
   "source": [
    "pl.read_ndjson('../../../../data/SampleHDS.json')"
   ]
  },
  {
   "attachments": {},
   "cell_type": "markdown",
   "metadata": {},
   "source": [
    "As you can see, this dataset consists of regular predictors, IH predictors, context keys and the outcome column. Additionally, some columns are numeric, others are strings. Let's first initialize the DataAnonymization class."
   ]
  },
  {
   "cell_type": "code",
   "execution_count": 4,
   "metadata": {
    "execution": {
     "iopub.execute_input": "2023-09-28T11:07:57.986356Z",
     "iopub.status.busy": "2023-09-28T11:07:57.985789Z",
     "iopub.status.idle": "2023-09-28T11:07:57.994590Z",
     "shell.execute_reply": "2023-09-28T11:07:57.994128Z"
    }
   },
   "outputs": [],
   "source": [
    "anon = DataAnonymization(hds_folder='../../../../data/')"
   ]
  },
  {
   "attachments": {},
   "cell_type": "markdown",
   "metadata": {},
   "source": [
    "By default, the class applies a set of anonymisation techniques:\n",
    "- Column names are remapped to a non-descriptive name\n",
    "- Categorical values are hashed with a random seed\n",
    "- Numerical values are normalized between 0 and 1\n",
    "- Outcomes are mapped to a binary outcome.\n",
    "\n",
    "To apply these techniques, simply call `.process()`:"
   ]
  },
  {
   "cell_type": "code",
   "execution_count": 5,
   "metadata": {
    "execution": {
     "iopub.execute_input": "2023-09-28T11:07:57.996914Z",
     "iopub.status.busy": "2023-09-28T11:07:57.996531Z",
     "iopub.status.idle": "2023-09-28T11:07:58.002981Z",
     "shell.execute_reply": "2023-09-28T11:07:58.002543Z"
    }
   },
   "outputs": [
    {
     "data": {
      "text/html": [
       "<div><style>\n",
       ".dataframe > thead > tr > th,\n",
       ".dataframe > tbody > tr > td {\n",
       "  text-align: right;\n",
       "  white-space: pre-wrap;\n",
       "}\n",
       "</style>\n",
       "<small>shape: (7, 7)</small><table border=\"1\" class=\"dataframe\"><thead><tr><th>PREDICTOR_0</th><th>filename</th><th>PREDICTOR_2</th><th>PREDICTOR_3</th><th>Context_Name</th><th>IH_PREDICTOR_0</th><th>Decision_Outcome</th></tr><tr><td>str</td><td>str</td><td>str</td><td>f64</td><td>str</td><td>str</td><td>bool</td></tr></thead><tbody><tr><td>&quot;12546697676072…</td><td>&quot;../../../../da…</td><td>&quot;49327754302568…</td><td>1.2927e19</td><td>&quot;92761114986569…</td><td>&quot;13499704072840…</td><td>false</td></tr><tr><td>&quot;12557076424142…</td><td>&quot;../../../../da…</td><td>&quot;16966613573861…</td><td>1.4856e19</td><td>&quot;92761114986569…</td><td>&quot;33028291098357…</td><td>true</td></tr><tr><td>&quot;17308229486063…</td><td>&quot;../../../../da…</td><td>&quot;26026464277683…</td><td>5.6458e17</td><td>&quot;16540348350994…</td><td>&quot;13499704072840…</td><td>false</td></tr><tr><td>&quot;11456026641588…</td><td>&quot;../../../../da…</td><td>&quot;16966613573861…</td><td>4.0723e18</td><td>&quot;34562348621401…</td><td>&quot;13499704072840…</td><td>false</td></tr><tr><td>&quot;16613282866682…</td><td>&quot;../../../../da…</td><td>&quot;49327754302568…</td><td>1.4677e19</td><td>&quot;34562348621401…</td><td>&quot;63587430813675…</td><td>true</td></tr><tr><td>&quot;29558610592258…</td><td>&quot;../../../../da…</td><td>&quot;26026464277683…</td><td>1.6330e19</td><td>&quot;13745037089934…</td><td>null</td><td>false</td></tr><tr><td>&quot;13064988413373…</td><td>&quot;../../../../da…</td><td>&quot;26026464277683…</td><td>8.7675e18</td><td>&quot;34562348621401…</td><td>&quot;63587430813675…</td><td>false</td></tr></tbody></table></div>"
      ],
      "text/plain": [
       "shape: (7, 7)\n",
       "┌──────────────┬─────────────┬─────────────┬─────────────┬─────────────┬─────────────┬─────────────┐\n",
       "│ PREDICTOR_0  ┆ filename    ┆ PREDICTOR_2 ┆ PREDICTOR_3 ┆ Context_Nam ┆ IH_PREDICTO ┆ Decision_Ou │\n",
       "│ ---          ┆ ---         ┆ ---         ┆ ---         ┆ e           ┆ R_0         ┆ tcome       │\n",
       "│ str          ┆ str         ┆ str         ┆ f64         ┆ ---         ┆ ---         ┆ ---         │\n",
       "│              ┆             ┆             ┆             ┆ str         ┆ str         ┆ bool        │\n",
       "╞══════════════╪═════════════╪═════════════╪═════════════╪═════════════╪═════════════╪═════════════╡\n",
       "│ 125466976760 ┆ ../../../.. ┆ 49327754302 ┆ 1.2927e19   ┆ 92761114986 ┆ 13499704072 ┆ false       │\n",
       "│ 72751434     ┆ /data/Sampl ┆ 56899939    ┆             ┆ 56976896    ┆ 840370448   ┆             │\n",
       "│              ┆ eHDS.json   ┆             ┆             ┆             ┆             ┆             │\n",
       "│ 125570764241 ┆ ../../../.. ┆ 16966613573 ┆ 1.4856e19   ┆ 92761114986 ┆ 33028291098 ┆ true        │\n",
       "│ 42027293     ┆ /data/Sampl ┆ 861143365   ┆             ┆ 56976896    ┆ 35708108    ┆             │\n",
       "│              ┆ eHDS.json   ┆             ┆             ┆             ┆             ┆             │\n",
       "│ 173082294860 ┆ ../../../.. ┆ 26026464277 ┆ 5.6458e17   ┆ 16540348350 ┆ 13499704072 ┆ false       │\n",
       "│ 63103646     ┆ /data/Sampl ┆ 68328436    ┆             ┆ 994211572   ┆ 840370448   ┆             │\n",
       "│              ┆ eHDS.json   ┆             ┆             ┆             ┆             ┆             │\n",
       "│ 114560266415 ┆ ../../../.. ┆ 16966613573 ┆ 4.0723e18   ┆ 34562348621 ┆ 13499704072 ┆ false       │\n",
       "│ 88549114     ┆ /data/Sampl ┆ 861143365   ┆             ┆ 40154182    ┆ 840370448   ┆             │\n",
       "│              ┆ eHDS.json   ┆             ┆             ┆             ┆             ┆             │\n",
       "│ 166132828666 ┆ ../../../.. ┆ 49327754302 ┆ 1.4677e19   ┆ 34562348621 ┆ 63587430813 ┆ true        │\n",
       "│ 82600731     ┆ /data/Sampl ┆ 56899939    ┆             ┆ 40154182    ┆ 67532426    ┆             │\n",
       "│              ┆ eHDS.json   ┆             ┆             ┆             ┆             ┆             │\n",
       "│ 295586105922 ┆ ../../../.. ┆ 26026464277 ┆ 1.6330e19   ┆ 13745037089 ┆ null        ┆ false       │\n",
       "│ 5824470      ┆ /data/Sampl ┆ 68328436    ┆             ┆ 934011986   ┆             ┆             │\n",
       "│              ┆ eHDS.json   ┆             ┆             ┆             ┆             ┆             │\n",
       "│ 130649884133 ┆ ../../../.. ┆ 26026464277 ┆ 8.7675e18   ┆ 34562348621 ┆ 63587430813 ┆ false       │\n",
       "│ 73031951     ┆ /data/Sampl ┆ 68328436    ┆             ┆ 40154182    ┆ 67532426    ┆             │\n",
       "│              ┆ eHDS.json   ┆             ┆             ┆             ┆             ┆             │\n",
       "└──────────────┴─────────────┴─────────────┴─────────────┴─────────────┴─────────────┴─────────────┘"
      ]
     },
     "execution_count": 5,
     "metadata": {},
     "output_type": "execute_result"
    }
   ],
   "source": [
    "anon.process()"
   ]
  },
  {
   "attachments": {},
   "cell_type": "markdown",
   "metadata": {},
   "source": [
    "To trace back the columns to their original names, the class also contains a mapping, which does not have to be provided."
   ]
  },
  {
   "cell_type": "code",
   "execution_count": 6,
   "metadata": {
    "execution": {
     "iopub.execute_input": "2023-09-28T11:07:58.005443Z",
     "iopub.status.busy": "2023-09-28T11:07:58.004873Z",
     "iopub.status.idle": "2023-09-28T11:07:58.008847Z",
     "shell.execute_reply": "2023-09-28T11:07:58.008377Z"
    }
   },
   "outputs": [
    {
     "data": {
      "text/plain": [
       "{'Customer_City': 'PREDICTOR_0',\n",
       " 'filename': 'filename',\n",
       " 'Customer_MaritalStatus': 'PREDICTOR_2',\n",
       " 'Customer_CLV': 'PREDICTOR_3',\n",
       " 'Context_Name': 'Context_Name',\n",
       " 'IH_Web_Inbound_Accepted_pxLastGroupID': 'IH_PREDICTOR_0',\n",
       " 'Decision_Outcome': 'Decision_Outcome'}"
      ]
     },
     "execution_count": 6,
     "metadata": {},
     "output_type": "execute_result"
    }
   ],
   "source": [
    "anon.column_mapping"
   ]
  },
  {
   "attachments": {},
   "cell_type": "markdown",
   "metadata": {},
   "source": [
    "## Configs\n",
    "\n",
    "Each capability can optionally be turned off - see below for the full list of config options, and refer to the API reference for the full description."
   ]
  },
  {
   "cell_type": "code",
   "execution_count": 7,
   "metadata": {
    "execution": {
     "iopub.execute_input": "2023-09-28T11:07:58.011204Z",
     "iopub.status.busy": "2023-09-28T11:07:58.010663Z",
     "iopub.status.idle": "2023-09-28T11:07:58.015080Z",
     "shell.execute_reply": "2023-09-28T11:07:58.014642Z"
    }
   },
   "outputs": [
    {
     "data": {
      "text/plain": [
       "{'config_file': None,\n",
       " 'hds_folder': '.',\n",
       " 'use_datamart': False,\n",
       " 'datamart_folder': 'datamart',\n",
       " 'output_format': 'ndjson',\n",
       " 'output_folder': 'output',\n",
       " 'mapping_file': 'mapping.map',\n",
       " 'mask_predictor_names': True,\n",
       " 'mask_context_key_names': False,\n",
       " 'mask_ih_names': True,\n",
       " 'mask_outcome_name': False,\n",
       " 'mask_predictor_values': True,\n",
       " 'mask_context_key_values': True,\n",
       " 'mask_ih_values': True,\n",
       " 'mask_outcome_values': True,\n",
       " 'context_key_label': 'Context_*',\n",
       " 'ih_label': 'IH_*',\n",
       " 'outcome_column': 'Decision_Outcome',\n",
       " 'positive_outcomes': ['Accepted', 'Clicked'],\n",
       " 'negative_outcomes': ['Rejected', 'Impression'],\n",
       " 'special_predictors': ['Decision_DecisionTime',\n",
       "  'Decision_OutcomeTime',\n",
       "  'Decision_Rank'],\n",
       " 'sample_percentage_schema_inferencing': 0.01}"
      ]
     },
     "execution_count": 7,
     "metadata": {},
     "output_type": "execute_result"
    }
   ],
   "source": [
    "dict(zip(Config.__init__.__code__.co_varnames[1:], Config.__init__.__defaults__))"
   ]
  },
  {
   "attachments": {},
   "cell_type": "markdown",
   "metadata": {},
   "source": [
    "It's easy to change these parameters by just passing the keyword arguments. In the following example, we\n",
    "- Keep the IH predictor names\n",
    "- Keep the outcome values\n",
    "- Keep the context key values\n",
    "- Keep the context key predictor names"
   ]
  },
  {
   "cell_type": "code",
   "execution_count": 8,
   "metadata": {
    "execution": {
     "iopub.execute_input": "2023-09-28T11:07:58.017458Z",
     "iopub.status.busy": "2023-09-28T11:07:58.016919Z",
     "iopub.status.idle": "2023-09-28T11:07:58.027416Z",
     "shell.execute_reply": "2023-09-28T11:07:58.026961Z"
    }
   },
   "outputs": [
    {
     "data": {
      "text/html": [
       "<div><style>\n",
       ".dataframe > thead > tr > th,\n",
       ".dataframe > tbody > tr > td {\n",
       "  text-align: right;\n",
       "  white-space: pre-wrap;\n",
       "}\n",
       "</style>\n",
       "<small>shape: (7, 7)</small><table border=\"1\" class=\"dataframe\"><thead><tr><th>PREDICTOR_0</th><th>filename</th><th>PREDICTOR_2</th><th>PREDICTOR_3</th><th>Context_Name</th><th>IH_Web_Inbound_Accepted_pxLastGroupID</th><th>Decision_Outcome</th></tr><tr><td>str</td><td>str</td><td>str</td><td>f64</td><td>str</td><td>str</td><td>str</td></tr></thead><tbody><tr><td>&quot;15925381954398…</td><td>&quot;../../../../da…</td><td>&quot;11532328746764…</td><td>1.2927e19</td><td>&quot;FirstMortgage3…</td><td>&quot;43851471843673…</td><td>&quot;Rejected&quot;</td></tr><tr><td>&quot;83659440274125…</td><td>&quot;../../../../da…</td><td>&quot;47955807275153…</td><td>1.4856e19</td><td>&quot;FirstMortgage3…</td><td>&quot;11873314817625…</td><td>&quot;Accepted&quot;</td></tr><tr><td>&quot;13517148648945…</td><td>&quot;../../../../da…</td><td>&quot;61110645109259…</td><td>5.6458e17</td><td>&quot;MoneyMarketSav…</td><td>&quot;43851471843673…</td><td>&quot;Rejected&quot;</td></tr><tr><td>&quot;19297978356866…</td><td>&quot;../../../../da…</td><td>&quot;47955807275153…</td><td>4.0723e18</td><td>&quot;BasicChecking&quot;</td><td>&quot;43851471843673…</td><td>&quot;Rejected&quot;</td></tr><tr><td>&quot;10147136748832…</td><td>&quot;../../../../da…</td><td>&quot;11532328746764…</td><td>1.4677e19</td><td>&quot;BasicChecking&quot;</td><td>&quot;58432039416933…</td><td>&quot;Accepted&quot;</td></tr><tr><td>&quot;13142403649294…</td><td>&quot;../../../../da…</td><td>&quot;61110645109259…</td><td>1.6330e19</td><td>&quot;UPlusFinPerson…</td><td>null</td><td>&quot;Rejected&quot;</td></tr><tr><td>&quot;51419392069898…</td><td>&quot;../../../../da…</td><td>&quot;61110645109259…</td><td>8.7675e18</td><td>&quot;BasicChecking&quot;</td><td>&quot;58432039416933…</td><td>&quot;Rejected&quot;</td></tr></tbody></table></div>"
      ],
      "text/plain": [
       "shape: (7, 7)\n",
       "┌──────────────┬─────────────┬─────────────┬─────────────┬─────────────┬─────────────┬─────────────┐\n",
       "│ PREDICTOR_0  ┆ filename    ┆ PREDICTOR_2 ┆ PREDICTOR_3 ┆ Context_Nam ┆ IH_Web_Inbo ┆ Decision_Ou │\n",
       "│ ---          ┆ ---         ┆ ---         ┆ ---         ┆ e           ┆ und_Accepte ┆ tcome       │\n",
       "│ str          ┆ str         ┆ str         ┆ f64         ┆ ---         ┆ d_pxLastGr… ┆ ---         │\n",
       "│              ┆             ┆             ┆             ┆ str         ┆ ---         ┆ str         │\n",
       "│              ┆             ┆             ┆             ┆             ┆ str         ┆             │\n",
       "╞══════════════╪═════════════╪═════════════╪═════════════╪═════════════╪═════════════╪═════════════╡\n",
       "│ 159253819543 ┆ ../../../.. ┆ 11532328746 ┆ 1.2927e19   ┆ FirstMortga ┆ 43851471843 ┆ Rejected    │\n",
       "│ 98610430     ┆ /data/Sampl ┆ 76427078    ┆             ┆ ge30yr      ┆ 67337197    ┆             │\n",
       "│              ┆ eHDS.json   ┆             ┆             ┆             ┆             ┆             │\n",
       "│ 836594402741 ┆ ../../../.. ┆ 47955807275 ┆ 1.4856e19   ┆ FirstMortga ┆ 11873314817 ┆ Accepted    │\n",
       "│ 2581020      ┆ /data/Sampl ┆ 15317078    ┆             ┆ ge30yr      ┆ 625294308   ┆             │\n",
       "│              ┆ eHDS.json   ┆             ┆             ┆             ┆             ┆             │\n",
       "│ 135171486489 ┆ ../../../.. ┆ 61110645109 ┆ 5.6458e17   ┆ MoneyMarket ┆ 43851471843 ┆ Rejected    │\n",
       "│ 4592080      ┆ /data/Sampl ┆ 25900040    ┆             ┆ SavingsAcco ┆ 67337197    ┆             │\n",
       "│              ┆ eHDS.json   ┆             ┆             ┆ unt         ┆             ┆             │\n",
       "│ 192979783568 ┆ ../../../.. ┆ 47955807275 ┆ 4.0723e18   ┆ BasicChecki ┆ 43851471843 ┆ Rejected    │\n",
       "│ 6629980      ┆ /data/Sampl ┆ 15317078    ┆             ┆ ng          ┆ 67337197    ┆             │\n",
       "│              ┆ eHDS.json   ┆             ┆             ┆             ┆             ┆             │\n",
       "│ 101471367488 ┆ ../../../.. ┆ 11532328746 ┆ 1.4677e19   ┆ BasicChecki ┆ 58432039416 ┆ Accepted    │\n",
       "│ 32776792     ┆ /data/Sampl ┆ 76427078    ┆             ┆ ng          ┆ 9334685     ┆             │\n",
       "│              ┆ eHDS.json   ┆             ┆             ┆             ┆             ┆             │\n",
       "│ 131424036492 ┆ ../../../.. ┆ 61110645109 ┆ 1.6330e19   ┆ UPlusFinPer ┆ null        ┆ Rejected    │\n",
       "│ 94039045     ┆ /data/Sampl ┆ 25900040    ┆             ┆ sonal       ┆             ┆             │\n",
       "│              ┆ eHDS.json   ┆             ┆             ┆             ┆             ┆             │\n",
       "│ 514193920698 ┆ ../../../.. ┆ 61110645109 ┆ 8.7675e18   ┆ BasicChecki ┆ 58432039416 ┆ Rejected    │\n",
       "│ 9820735      ┆ /data/Sampl ┆ 25900040    ┆             ┆ ng          ┆ 9334685     ┆             │\n",
       "│              ┆ eHDS.json   ┆             ┆             ┆             ┆             ┆             │\n",
       "└──────────────┴─────────────┴─────────────┴─────────────┴─────────────┴─────────────┴─────────────┘"
      ]
     },
     "execution_count": 8,
     "metadata": {},
     "output_type": "execute_result"
    }
   ],
   "source": [
    "anon = DataAnonymization(\n",
    "    hds_folder=\"../../../../data/\",\n",
    "    mask_ih_names=False,\n",
    "    mask_outcome_values=False,\n",
    "    mask_context_key_values=False,\n",
    "    mask_context_key_names=False,\n",
    ")\n",
    "anon.process()\n"
   ]
  },
  {
   "attachments": {},
   "cell_type": "markdown",
   "metadata": {},
   "source": [
    "The configs can also be written and read as such:"
   ]
  },
  {
   "cell_type": "code",
   "execution_count": 9,
   "metadata": {
    "execution": {
     "iopub.execute_input": "2023-09-28T11:07:58.029672Z",
     "iopub.status.busy": "2023-09-28T11:07:58.029310Z",
     "iopub.status.idle": "2023-09-28T11:07:58.032260Z",
     "shell.execute_reply": "2023-09-28T11:07:58.031818Z"
    }
   },
   "outputs": [],
   "source": [
    "anon.config.save_to_config_file('config.json')"
   ]
  },
  {
   "cell_type": "code",
   "execution_count": 10,
   "metadata": {
    "execution": {
     "iopub.execute_input": "2023-09-28T11:07:58.034572Z",
     "iopub.status.busy": "2023-09-28T11:07:58.034024Z",
     "iopub.status.idle": "2023-09-28T11:07:58.044195Z",
     "shell.execute_reply": "2023-09-28T11:07:58.043744Z"
    }
   },
   "outputs": [
    {
     "data": {
      "text/html": [
       "<div><style>\n",
       ".dataframe > thead > tr > th,\n",
       ".dataframe > tbody > tr > td {\n",
       "  text-align: right;\n",
       "  white-space: pre-wrap;\n",
       "}\n",
       "</style>\n",
       "<small>shape: (7, 7)</small><table border=\"1\" class=\"dataframe\"><thead><tr><th>PREDICTOR_0</th><th>filename</th><th>PREDICTOR_2</th><th>PREDICTOR_3</th><th>Context_Name</th><th>IH_Web_Inbound_Accepted_pxLastGroupID</th><th>Decision_Outcome</th></tr><tr><td>str</td><td>str</td><td>str</td><td>f64</td><td>str</td><td>str</td><td>str</td></tr></thead><tbody><tr><td>&quot;13096620945094…</td><td>&quot;../../../../da…</td><td>&quot;13938191726898…</td><td>1.2927e19</td><td>&quot;FirstMortgage3…</td><td>&quot;17610573532191…</td><td>&quot;Rejected&quot;</td></tr><tr><td>&quot;93000384018447…</td><td>&quot;../../../../da…</td><td>&quot;33484828577925…</td><td>1.4856e19</td><td>&quot;FirstMortgage3…</td><td>&quot;12388552480612…</td><td>&quot;Accepted&quot;</td></tr><tr><td>&quot;10609713293052…</td><td>&quot;../../../../da…</td><td>&quot;16021220543328…</td><td>5.6458e17</td><td>&quot;MoneyMarketSav…</td><td>&quot;17610573532191…</td><td>&quot;Rejected&quot;</td></tr><tr><td>&quot;13047099654961…</td><td>&quot;../../../../da…</td><td>&quot;33484828577925…</td><td>4.0723e18</td><td>&quot;BasicChecking&quot;</td><td>&quot;17610573532191…</td><td>&quot;Rejected&quot;</td></tr><tr><td>&quot;50582148829362…</td><td>&quot;../../../../da…</td><td>&quot;13938191726898…</td><td>1.4677e19</td><td>&quot;BasicChecking&quot;</td><td>&quot;41651629113916…</td><td>&quot;Accepted&quot;</td></tr><tr><td>&quot;17862096217517…</td><td>&quot;../../../../da…</td><td>&quot;16021220543328…</td><td>1.6330e19</td><td>&quot;UPlusFinPerson…</td><td>null</td><td>&quot;Rejected&quot;</td></tr><tr><td>&quot;53661338192978…</td><td>&quot;../../../../da…</td><td>&quot;16021220543328…</td><td>8.7675e18</td><td>&quot;BasicChecking&quot;</td><td>&quot;41651629113916…</td><td>&quot;Rejected&quot;</td></tr></tbody></table></div>"
      ],
      "text/plain": [
       "shape: (7, 7)\n",
       "┌──────────────┬─────────────┬─────────────┬─────────────┬─────────────┬─────────────┬─────────────┐\n",
       "│ PREDICTOR_0  ┆ filename    ┆ PREDICTOR_2 ┆ PREDICTOR_3 ┆ Context_Nam ┆ IH_Web_Inbo ┆ Decision_Ou │\n",
       "│ ---          ┆ ---         ┆ ---         ┆ ---         ┆ e           ┆ und_Accepte ┆ tcome       │\n",
       "│ str          ┆ str         ┆ str         ┆ f64         ┆ ---         ┆ d_pxLastGr… ┆ ---         │\n",
       "│              ┆             ┆             ┆             ┆ str         ┆ ---         ┆ str         │\n",
       "│              ┆             ┆             ┆             ┆             ┆ str         ┆             │\n",
       "╞══════════════╪═════════════╪═════════════╪═════════════╪═════════════╪═════════════╪═════════════╡\n",
       "│ 130966209450 ┆ ../../../.. ┆ 13938191726 ┆ 1.2927e19   ┆ FirstMortga ┆ 17610573532 ┆ Rejected    │\n",
       "│ 94993844     ┆ /data/Sampl ┆ 898068754   ┆             ┆ ge30yr      ┆ 191354581   ┆             │\n",
       "│              ┆ eHDS.json   ┆             ┆             ┆             ┆             ┆             │\n",
       "│ 930003840184 ┆ ../../../.. ┆ 33484828577 ┆ 1.4856e19   ┆ FirstMortga ┆ 12388552480 ┆ Accepted    │\n",
       "│ 4745669      ┆ /data/Sampl ┆ 92596338    ┆             ┆ ge30yr      ┆ 612267948   ┆             │\n",
       "│              ┆ eHDS.json   ┆             ┆             ┆             ┆             ┆             │\n",
       "│ 106097132930 ┆ ../../../.. ┆ 16021220543 ┆ 5.6458e17   ┆ MoneyMarket ┆ 17610573532 ┆ Rejected    │\n",
       "│ 52622203     ┆ /data/Sampl ┆ 32871320    ┆             ┆ SavingsAcco ┆ 191354581   ┆             │\n",
       "│              ┆ eHDS.json   ┆             ┆             ┆ unt         ┆             ┆             │\n",
       "│ 130470996549 ┆ ../../../.. ┆ 33484828577 ┆ 4.0723e18   ┆ BasicChecki ┆ 17610573532 ┆ Rejected    │\n",
       "│ 61049329     ┆ /data/Sampl ┆ 92596338    ┆             ┆ ng          ┆ 191354581   ┆             │\n",
       "│              ┆ eHDS.json   ┆             ┆             ┆             ┆             ┆             │\n",
       "│ 505821488293 ┆ ../../../.. ┆ 13938191726 ┆ 1.4677e19   ┆ BasicChecki ┆ 41651629113 ┆ Accepted    │\n",
       "│ 6231010      ┆ /data/Sampl ┆ 898068754   ┆             ┆ ng          ┆ 9167937     ┆             │\n",
       "│              ┆ eHDS.json   ┆             ┆             ┆             ┆             ┆             │\n",
       "│ 178620962175 ┆ ../../../.. ┆ 16021220543 ┆ 1.6330e19   ┆ UPlusFinPer ┆ null        ┆ Rejected    │\n",
       "│ 17060075     ┆ /data/Sampl ┆ 32871320    ┆             ┆ sonal       ┆             ┆             │\n",
       "│              ┆ eHDS.json   ┆             ┆             ┆             ┆             ┆             │\n",
       "│ 536613381929 ┆ ../../../.. ┆ 16021220543 ┆ 8.7675e18   ┆ BasicChecki ┆ 41651629113 ┆ Rejected    │\n",
       "│ 7840460      ┆ /data/Sampl ┆ 32871320    ┆             ┆ ng          ┆ 9167937     ┆             │\n",
       "│              ┆ eHDS.json   ┆             ┆             ┆             ┆             ┆             │\n",
       "└──────────────┴─────────────┴─────────────┴─────────────┴─────────────┴─────────────┴─────────────┘"
      ]
     },
     "execution_count": 10,
     "metadata": {},
     "output_type": "execute_result"
    }
   ],
   "source": [
    "anon = DataAnonymization(config=Config(config_file='config.json'))\n",
    "anon.process()"
   ]
  },
  {
   "attachments": {},
   "cell_type": "markdown",
   "metadata": {},
   "source": [
    "## Exporting\n",
    "Two functions export:\n",
    "- `create_mapping_file()` writes the mapping file of the predictor names\n",
    "- `write_to_output()` writes the processed dataframe to disk\n",
    "\n",
    "Write to output accepts the following extensions: `[\"ndjson\", \"parquet\", \"arrow\", \"csv\"]`"
   ]
  },
  {
   "cell_type": "code",
   "execution_count": 11,
   "metadata": {
    "execution": {
     "iopub.execute_input": "2023-09-28T11:07:58.046457Z",
     "iopub.status.busy": "2023-09-28T11:07:58.046096Z",
     "iopub.status.idle": "2023-09-28T11:07:58.050014Z",
     "shell.execute_reply": "2023-09-28T11:07:58.049571Z"
    }
   },
   "outputs": [
    {
     "name": "stdout",
     "output_type": "stream",
     "text": [
      "Customer_City=PREDICTOR_0\n",
      "filename=filename\n",
      "Customer_MaritalStatus=PREDICTOR_2\n",
      "Customer_CLV=PREDICTOR_3\n",
      "Context_Name=Context_Name\n",
      "IH_Web_Inbound_Accepted_pxLastGroupID=IH_Web_Inbound_Accepted_pxLastGroupID\n",
      "Decision_Outcome=Decision_Outcome\n",
      "\n"
     ]
    }
   ],
   "source": [
    "anon.create_mapping_file()\n",
    "with open('mapping.map') as f:\n",
    "    print(f.read())"
   ]
  },
  {
   "cell_type": "code",
   "execution_count": 12,
   "metadata": {
    "execution": {
     "iopub.execute_input": "2023-09-28T11:07:58.052122Z",
     "iopub.status.busy": "2023-09-28T11:07:58.051773Z",
     "iopub.status.idle": "2023-09-28T11:07:58.055803Z",
     "shell.execute_reply": "2023-09-28T11:07:58.055356Z"
    }
   },
   "outputs": [],
   "source": [
    "anon.write_to_output(ext='arrow')"
   ]
  },
  {
   "cell_type": "code",
   "execution_count": 13,
   "metadata": {
    "execution": {
     "iopub.execute_input": "2023-09-28T11:07:58.058024Z",
     "iopub.status.busy": "2023-09-28T11:07:58.057668Z",
     "iopub.status.idle": "2023-09-28T11:07:58.062614Z",
     "shell.execute_reply": "2023-09-28T11:07:58.062168Z"
    }
   },
   "outputs": [
    {
     "data": {
      "text/html": [
       "<div><style>\n",
       ".dataframe > thead > tr > th,\n",
       ".dataframe > tbody > tr > td {\n",
       "  text-align: right;\n",
       "  white-space: pre-wrap;\n",
       "}\n",
       "</style>\n",
       "<small>shape: (7, 6)</small><table border=\"1\" class=\"dataframe\"><thead><tr><th>PREDICTOR_0</th><th>PREDICTOR_2</th><th>PREDICTOR_3</th><th>Context_Name</th><th>IH_Web_Inbound_Accepted_pxLastGroupID</th><th>Decision_Outcome</th></tr><tr><td>str</td><td>str</td><td>f64</td><td>str</td><td>str</td><td>str</td></tr></thead><tbody><tr><td>&quot;87760511467100…</td><td>&quot;82138307069491…</td><td>1.2927e19</td><td>&quot;FirstMortgage3…</td><td>&quot;94021825356432…</td><td>&quot;Rejected&quot;</td></tr><tr><td>&quot;10402501295592…</td><td>&quot;96689285444426…</td><td>1.4856e19</td><td>&quot;FirstMortgage3…</td><td>&quot;19684556888713…</td><td>&quot;Accepted&quot;</td></tr><tr><td>&quot;14378711884404…</td><td>&quot;66688036769354…</td><td>5.6458e17</td><td>&quot;MoneyMarketSav…</td><td>&quot;94021825356432…</td><td>&quot;Rejected&quot;</td></tr><tr><td>&quot;43891404852843…</td><td>&quot;96689285444426…</td><td>4.0723e18</td><td>&quot;BasicChecking&quot;</td><td>&quot;94021825356432…</td><td>&quot;Rejected&quot;</td></tr><tr><td>&quot;49471672254077…</td><td>&quot;82138307069491…</td><td>1.4677e19</td><td>&quot;BasicChecking&quot;</td><td>&quot;36513111754913…</td><td>&quot;Accepted&quot;</td></tr><tr><td>&quot;82710483972204…</td><td>&quot;66688036769354…</td><td>1.6330e19</td><td>&quot;UPlusFinPerson…</td><td>null</td><td>&quot;Rejected&quot;</td></tr><tr><td>&quot;81627746272986…</td><td>&quot;66688036769354…</td><td>8.7675e18</td><td>&quot;BasicChecking&quot;</td><td>&quot;36513111754913…</td><td>&quot;Rejected&quot;</td></tr></tbody></table></div>"
      ],
      "text/plain": [
       "shape: (7, 6)\n",
       "┌────────────────┬────────────────┬─────────────┬────────────────┬────────────────┬────────────────┐\n",
       "│ PREDICTOR_0    ┆ PREDICTOR_2    ┆ PREDICTOR_3 ┆ Context_Name   ┆ IH_Web_Inbound ┆ Decision_Outco │\n",
       "│ ---            ┆ ---            ┆ ---         ┆ ---            ┆ _Accepted_pxLa ┆ me             │\n",
       "│ str            ┆ str            ┆ f64         ┆ str            ┆ stGr…          ┆ ---            │\n",
       "│                ┆                ┆             ┆                ┆ ---            ┆ str            │\n",
       "│                ┆                ┆             ┆                ┆ str            ┆                │\n",
       "╞════════════════╪════════════════╪═════════════╪════════════════╪════════════════╪════════════════╡\n",
       "│ 87760511467100 ┆ 82138307069491 ┆ 1.2927e19   ┆ FirstMortgage3 ┆ 94021825356432 ┆ Rejected       │\n",
       "│ 59788          ┆ 86887          ┆             ┆ 0yr            ┆ 64764          ┆                │\n",
       "│ 10402501295592 ┆ 96689285444426 ┆ 1.4856e19   ┆ FirstMortgage3 ┆ 19684556888713 ┆ Accepted       │\n",
       "│ 803075         ┆ 43062          ┆             ┆ 0yr            ┆ 73737          ┆                │\n",
       "│ 14378711884404 ┆ 66688036769354 ┆ 5.6458e17   ┆ MoneyMarketSav ┆ 94021825356432 ┆ Rejected       │\n",
       "│ 421074         ┆ 05607          ┆             ┆ ingsAccount    ┆ 64764          ┆                │\n",
       "│ 43891404852843 ┆ 96689285444426 ┆ 4.0723e18   ┆ BasicChecking  ┆ 94021825356432 ┆ Rejected       │\n",
       "│ 25567          ┆ 43062          ┆             ┆                ┆ 64764          ┆                │\n",
       "│ 49471672254077 ┆ 82138307069491 ┆ 1.4677e19   ┆ BasicChecking  ┆ 36513111754913 ┆ Accepted       │\n",
       "│ 61342          ┆ 86887          ┆             ┆                ┆ 51829          ┆                │\n",
       "│ 82710483972204 ┆ 66688036769354 ┆ 1.6330e19   ┆ UPlusFinPerson ┆ null           ┆ Rejected       │\n",
       "│ 86839          ┆ 05607          ┆             ┆ al             ┆                ┆                │\n",
       "│ 81627746272986 ┆ 66688036769354 ┆ 8.7675e18   ┆ BasicChecking  ┆ 36513111754913 ┆ Rejected       │\n",
       "│ 74129          ┆ 05607          ┆             ┆                ┆ 51829          ┆                │\n",
       "└────────────────┴────────────────┴─────────────┴────────────────┴────────────────┴────────────────┘"
      ]
     },
     "execution_count": 13,
     "metadata": {},
     "output_type": "execute_result"
    }
   ],
   "source": [
    "pl.read_ipc('output/hds.arrow')"
   ]
  },
  {
   "attachments": {},
   "cell_type": "markdown",
   "metadata": {
    "nbsphinx": "hidden"
   },
   "source": [
    "## Advanced: Hash fuctions\n",
    "\n",
    "By default, we use [the same hashing algorithm Polars](https://pola-rs.github.io/polars/py-polars/html/reference/expressions/api/polars.Expr.hash.html#polars.Expr.hash) uses: [xxhash](https://github.com/Cyan4973/xxHash), as implemented [here](https://github.com/pola-rs/polars/blob/3f287f370b3c388ed2f3f218b2c096382548136f/polars/polars-core/src/vector_hasher.rs#L266). xxhash is fast to compute, and you can check its performance in collision, dispersion and randomness [here](https://github.com/Cyan4973/xxHash/tree/dev/tests). \n",
    "\n",
    "xxhash accepts four distinct seeds, but by default we set the seeds to `0`. It is possible to set the `seed` argument of the `process()` function to `'random'`, which will set all four seeds to a random integer between `0` and `1000000000`. Alternatively, it is possible to supply the four seeds manually with arguments `seed`, `seed_1`, `seed_2` and `seed_3`. \n",
    "\n",
    "If the xxhash with (random) seed(s) is not deemed sufficiently secure, it is possible to use your own hashing algorithm.\n",
    "\n",
    "Note that since we're now running python code and not native Polars code anymore, this will be _significantly_ slower. Nonetheless, it is possible.\n",
    "\n",
    "Just as an example - this is how one would use sha3_256:"
   ]
  },
  {
   "cell_type": "code",
   "execution_count": 14,
   "metadata": {
    "execution": {
     "iopub.execute_input": "2023-09-28T11:07:58.064898Z",
     "iopub.status.busy": "2023-09-28T11:07:58.064502Z",
     "iopub.status.idle": "2023-09-28T11:07:58.451662Z",
     "shell.execute_reply": "2023-09-28T11:07:58.451035Z"
    },
    "nbsphinx": "hidden"
   },
   "outputs": [
    {
     "ename": "ComputeError",
     "evalue": "AttributeError: 'int' object has no attribute 'encode'",
     "output_type": "error",
     "traceback": [
      "\u001b[0;31m---------------------------------------------------------------------------\u001b[0m",
      "\u001b[0;31mComputeError\u001b[0m                              Traceback (most recent call last)",
      "Cell \u001b[0;32mIn[14], line 3\u001b[0m\n\u001b[1;32m      1\u001b[0m \u001b[38;5;28;01mfrom\u001b[39;00m \u001b[38;5;21;01mhashlib\u001b[39;00m \u001b[38;5;28;01mimport\u001b[39;00m sha3_256\n\u001b[0;32m----> 3\u001b[0m \u001b[43manon\u001b[49m\u001b[38;5;241;43m.\u001b[39;49m\u001b[43mprocess\u001b[49m\u001b[43m(\u001b[49m\u001b[43malgorithm\u001b[49m\u001b[38;5;241;43m=\u001b[39;49m\u001b[38;5;28;43;01mlambda\u001b[39;49;00m\u001b[43m \u001b[49m\u001b[43mx\u001b[49m\u001b[43m:\u001b[49m\u001b[43m \u001b[49m\u001b[43msha3_256\u001b[49m\u001b[43m(\u001b[49m\u001b[43mx\u001b[49m\u001b[38;5;241;43m.\u001b[39;49m\u001b[43mencode\u001b[49m\u001b[43m(\u001b[49m\u001b[43m)\u001b[49m\u001b[43m)\u001b[49m\u001b[38;5;241;43m.\u001b[39;49m\u001b[43mhexdigest\u001b[49m\u001b[43m(\u001b[49m\u001b[43m)\u001b[49m\u001b[43m)\u001b[49m\n",
      "File \u001b[0;32m~/work/pega-datascientist-tools/pega-datascientist-tools/python/docs/source/articles/../../../pdstools/utils/hds_utils.py:516\u001b[0m, in \u001b[0;36mDataAnonymization.process\u001b[0;34m(self, strategy, **kwargs)\u001b[0m\n\u001b[1;32m    514\u001b[0m df \u001b[38;5;241m=\u001b[39m df\u001b[38;5;241m.\u001b[39mselect(\u001b[38;5;28mself\u001b[39m\u001b[38;5;241m.\u001b[39mcolumn_mapping\u001b[38;5;241m.\u001b[39mkeys())\u001b[38;5;241m.\u001b[39mrename(\u001b[38;5;28mself\u001b[39m\u001b[38;5;241m.\u001b[39mcolumn_mapping)\n\u001b[1;32m    515\u001b[0m \u001b[38;5;28;01mif\u001b[39;00m strategy \u001b[38;5;241m==\u001b[39m \u001b[38;5;124m\"\u001b[39m\u001b[38;5;124meager\u001b[39m\u001b[38;5;124m\"\u001b[39m:\n\u001b[0;32m--> 516\u001b[0m     \u001b[38;5;28;01mreturn\u001b[39;00m \u001b[43mdf\u001b[49m\u001b[38;5;241;43m.\u001b[39;49m\u001b[43mcollect\u001b[49m\u001b[43m(\u001b[49m\u001b[43m)\u001b[49m\n\u001b[1;32m    517\u001b[0m \u001b[38;5;28;01mreturn\u001b[39;00m df\n",
      "File \u001b[0;32m/opt/hostedtoolcache/Python/3.11.5/x64/lib/python3.11/site-packages/polars/utils/deprecation.py:95\u001b[0m, in \u001b[0;36mdeprecate_renamed_parameter.<locals>.decorate.<locals>.wrapper\u001b[0;34m(*args, **kwargs)\u001b[0m\n\u001b[1;32m     90\u001b[0m \u001b[38;5;129m@wraps\u001b[39m(function)\n\u001b[1;32m     91\u001b[0m \u001b[38;5;28;01mdef\u001b[39;00m \u001b[38;5;21mwrapper\u001b[39m(\u001b[38;5;241m*\u001b[39margs: P\u001b[38;5;241m.\u001b[39margs, \u001b[38;5;241m*\u001b[39m\u001b[38;5;241m*\u001b[39mkwargs: P\u001b[38;5;241m.\u001b[39mkwargs) \u001b[38;5;241m-\u001b[39m\u001b[38;5;241m>\u001b[39m T:\n\u001b[1;32m     92\u001b[0m     _rename_keyword_argument(\n\u001b[1;32m     93\u001b[0m         old_name, new_name, kwargs, function\u001b[38;5;241m.\u001b[39m\u001b[38;5;18m__name__\u001b[39m, version\n\u001b[1;32m     94\u001b[0m     )\n\u001b[0;32m---> 95\u001b[0m     \u001b[38;5;28;01mreturn\u001b[39;00m \u001b[43mfunction\u001b[49m\u001b[43m(\u001b[49m\u001b[38;5;241;43m*\u001b[39;49m\u001b[43margs\u001b[49m\u001b[43m,\u001b[49m\u001b[43m \u001b[49m\u001b[38;5;241;43m*\u001b[39;49m\u001b[38;5;241;43m*\u001b[39;49m\u001b[43mkwargs\u001b[49m\u001b[43m)\u001b[49m\n",
      "File \u001b[0;32m/opt/hostedtoolcache/Python/3.11.5/x64/lib/python3.11/site-packages/polars/lazyframe/frame.py:1711\u001b[0m, in \u001b[0;36mLazyFrame.collect\u001b[0;34m(self, type_coercion, predicate_pushdown, projection_pushdown, simplify_expression, no_optimization, slice_pushdown, comm_subplan_elim, comm_subexpr_elim, streaming, **kwargs)\u001b[0m\n\u001b[1;32m   1698\u001b[0m     comm_subplan_elim \u001b[38;5;241m=\u001b[39m \u001b[38;5;28;01mFalse\u001b[39;00m\n\u001b[1;32m   1700\u001b[0m ldf \u001b[38;5;241m=\u001b[39m \u001b[38;5;28mself\u001b[39m\u001b[38;5;241m.\u001b[39m_ldf\u001b[38;5;241m.\u001b[39moptimization_toggle(\n\u001b[1;32m   1701\u001b[0m     type_coercion,\n\u001b[1;32m   1702\u001b[0m     predicate_pushdown,\n\u001b[0;32m   (...)\u001b[0m\n\u001b[1;32m   1709\u001b[0m     eager,\n\u001b[1;32m   1710\u001b[0m )\n\u001b[0;32m-> 1711\u001b[0m \u001b[38;5;28;01mreturn\u001b[39;00m wrap_df(ldf\u001b[38;5;241m.\u001b[39mcollect())\n",
      "\u001b[0;31mComputeError\u001b[0m: AttributeError: 'int' object has no attribute 'encode'"
     ]
    }
   ],
   "source": [
    "from hashlib import sha3_256\n",
    "\n",
    "anon.process(algorithm=lambda x: sha3_256(x.encode()).hexdigest())"
   ]
  }
 ],
 "metadata": {
  "kernelspec": {
   "display_name": "Python 3",
   "language": "python",
   "name": "python3"
  },
  "language_info": {
   "codemirror_mode": {
    "name": "ipython",
    "version": 3
   },
   "file_extension": ".py",
   "mimetype": "text/x-python",
   "name": "python",
   "nbconvert_exporter": "python",
   "pygments_lexer": "ipython3",
   "version": "3.11.5"
  },
  "vscode": {
   "interpreter": {
    "hash": "aee8b7b246df8f9039afb4144a1f6fd8d2ca17a180786b69acc140d282b71a49"
   }
  }
 },
 "nbformat": 4,
 "nbformat_minor": 2
}
