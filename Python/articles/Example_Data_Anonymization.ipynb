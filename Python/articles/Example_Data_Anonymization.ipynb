{
 "cells": [
  {
   "attachments": {},
   "cell_type": "markdown",
   "metadata": {},
   "source": [
    "# Example data anonymization\n",
    "\n",
    "In Pega CDH 8.5 and up, it's now possible to record the historical data as seen by the Adaptive Models. See [this academy challenge](https://academy.pega.com/challenge/exporting-historical-data/v4) for reference. This historical data can be further used to experiment with offline models, but also to fine-tune the OOTB Gradient Boosting model. However, sharing this information with Pega can be sensitive as it contains raw predictor data. \n",
    "\n",
    "To this end, we provide a simple and transparent script to fully anonimize this dataset.\n",
    "\n",
    "The DataAnonymization script is now part of pdstools, and you can import it directly as such."
   ]
  },
  {
   "cell_type": "code",
   "execution_count": 1,
   "metadata": {
    "execution": {
     "iopub.execute_input": "2023-10-02T08:09:24.047538Z",
     "iopub.status.busy": "2023-10-02T08:09:24.047114Z",
     "iopub.status.idle": "2023-10-02T08:09:24.129264Z",
     "shell.execute_reply": "2023-10-02T08:09:24.128626Z"
    },
    "nbsphinx": "hidden"
   },
   "outputs": [],
   "source": [
    "# These lines are only for rendering in the docs, and are hidden through Jupyter tags\n",
    "# Do not run if you're running the notebook seperately\n",
    "\n",
    "import os  \n",
    "import sys\n",
    "import plotly.io as pio\n",
    "pio.renderers.default = \"notebook_connected\"\n",
    "\n",
    "sys.path.append(\"../../../\")\n",
    "sys.path.append('../../python')"
   ]
  },
  {
   "cell_type": "code",
   "execution_count": 2,
   "metadata": {
    "execution": {
     "iopub.execute_input": "2023-10-02T08:09:24.132198Z",
     "iopub.status.busy": "2023-10-02T08:09:24.131838Z",
     "iopub.status.idle": "2023-10-02T08:09:25.328977Z",
     "shell.execute_reply": "2023-10-02T08:09:25.328330Z"
    }
   },
   "outputs": [],
   "source": [
    "from pdstools import ADMDatamart\n",
    "from pdstools import Config, DataAnonymization\n",
    "import polars as pl"
   ]
  },
  {
   "attachments": {},
   "cell_type": "markdown",
   "metadata": {},
   "source": [
    "## Input data\n",
    "\n",
    "To demonstrate this process, we're going to anonymise this toy example dataframe:"
   ]
  },
  {
   "cell_type": "code",
   "execution_count": 3,
   "metadata": {
    "execution": {
     "iopub.execute_input": "2023-10-02T08:09:25.332159Z",
     "iopub.status.busy": "2023-10-02T08:09:25.331619Z",
     "iopub.status.idle": "2023-10-02T08:09:25.343855Z",
     "shell.execute_reply": "2023-10-02T08:09:25.343300Z"
    }
   },
   "outputs": [
    {
     "data": {
      "text/html": [
       "<div><style>\n",
       ".dataframe > thead > tr > th,\n",
       ".dataframe > tbody > tr > td {\n",
       "  text-align: right;\n",
       "  white-space: pre-wrap;\n",
       "}\n",
       "</style>\n",
       "<small>shape: (7, 6)</small><table border=\"1\" class=\"dataframe\"><thead><tr><th>Context_Name</th><th>Customer_MaritalStatus</th><th>Customer_CLV</th><th>Customer_City</th><th>IH_Web_Inbound_Accepted_pxLastGroupID</th><th>Decision_Outcome</th></tr><tr><td>str</td><td>str</td><td>i64</td><td>str</td><td>str</td><td>str</td></tr></thead><tbody><tr><td>&quot;FirstMortgage3…</td><td>&quot;Married&quot;</td><td>1460</td><td>&quot;Port Raoul&quot;</td><td>&quot;Account&quot;</td><td>&quot;Rejected&quot;</td></tr><tr><td>&quot;FirstMortgage3…</td><td>&quot;Unknown&quot;</td><td>669</td><td>&quot;Laurianneshire…</td><td>&quot;AutoLoans&quot;</td><td>&quot;Accepted&quot;</td></tr><tr><td>&quot;MoneyMarketSav…</td><td>&quot;No Resp+&quot;</td><td>1174</td><td>&quot;Jacobshaven&quot;</td><td>&quot;Account&quot;</td><td>&quot;Rejected&quot;</td></tr><tr><td>&quot;BasicChecking&quot;</td><td>&quot;Unknown&quot;</td><td>1476</td><td>&quot;Lindton&quot;</td><td>&quot;Account&quot;</td><td>&quot;Rejected&quot;</td></tr><tr><td>&quot;BasicChecking&quot;</td><td>&quot;Married&quot;</td><td>1211</td><td>&quot;South Jimmiesh…</td><td>&quot;DepositAccount…</td><td>&quot;Accepted&quot;</td></tr><tr><td>&quot;UPlusFinPerson…</td><td>&quot;No Resp+&quot;</td><td>533</td><td>&quot;Bergeville&quot;</td><td>null</td><td>&quot;Rejected&quot;</td></tr><tr><td>&quot;BasicChecking&quot;</td><td>&quot;No Resp+&quot;</td><td>555</td><td>&quot;Willyville&quot;</td><td>&quot;DepositAccount…</td><td>&quot;Rejected&quot;</td></tr></tbody></table></div>"
      ],
      "text/plain": [
       "shape: (7, 6)\n",
       "┌────────────────┬────────────────┬──────────────┬────────────────┬────────────────┬───────────────┐\n",
       "│ Context_Name   ┆ Customer_Marit ┆ Customer_CLV ┆ Customer_City  ┆ IH_Web_Inbound ┆ Decision_Outc │\n",
       "│ ---            ┆ alStatus       ┆ ---          ┆ ---            ┆ _Accepted_pxLa ┆ ome           │\n",
       "│ str            ┆ ---            ┆ i64          ┆ str            ┆ stGr…          ┆ ---           │\n",
       "│                ┆ str            ┆              ┆                ┆ ---            ┆ str           │\n",
       "│                ┆                ┆              ┆                ┆ str            ┆               │\n",
       "╞════════════════╪════════════════╪══════════════╪════════════════╪════════════════╪═══════════════╡\n",
       "│ FirstMortgage3 ┆ Married        ┆ 1460         ┆ Port Raoul     ┆ Account        ┆ Rejected      │\n",
       "│ 0yr            ┆                ┆              ┆                ┆                ┆               │\n",
       "│ FirstMortgage3 ┆ Unknown        ┆ 669          ┆ Laurianneshire ┆ AutoLoans      ┆ Accepted      │\n",
       "│ 0yr            ┆                ┆              ┆                ┆                ┆               │\n",
       "│ MoneyMarketSav ┆ No Resp+       ┆ 1174         ┆ Jacobshaven    ┆ Account        ┆ Rejected      │\n",
       "│ ingsAccount    ┆                ┆              ┆                ┆                ┆               │\n",
       "│ BasicChecking  ┆ Unknown        ┆ 1476         ┆ Lindton        ┆ Account        ┆ Rejected      │\n",
       "│ BasicChecking  ┆ Married        ┆ 1211         ┆ South          ┆ DepositAccount ┆ Accepted      │\n",
       "│                ┆                ┆              ┆ Jimmieshire    ┆ s              ┆               │\n",
       "│ UPlusFinPerson ┆ No Resp+       ┆ 533          ┆ Bergeville     ┆ null           ┆ Rejected      │\n",
       "│ al             ┆                ┆              ┆                ┆                ┆               │\n",
       "│ BasicChecking  ┆ No Resp+       ┆ 555          ┆ Willyville     ┆ DepositAccount ┆ Rejected      │\n",
       "│                ┆                ┆              ┆                ┆ s              ┆               │\n",
       "└────────────────┴────────────────┴──────────────┴────────────────┴────────────────┴───────────────┘"
      ]
     },
     "execution_count": 3,
     "metadata": {},
     "output_type": "execute_result"
    }
   ],
   "source": [
    "pl.read_ndjson('../../../../data/SampleHDS.json')"
   ]
  },
  {
   "attachments": {},
   "cell_type": "markdown",
   "metadata": {},
   "source": [
    "As you can see, this dataset consists of regular predictors, IH predictors, context keys and the outcome column. Additionally, some columns are numeric, others are strings. Let's first initialize the DataAnonymization class."
   ]
  },
  {
   "cell_type": "code",
   "execution_count": 4,
   "metadata": {
    "execution": {
     "iopub.execute_input": "2023-10-02T08:09:25.346581Z",
     "iopub.status.busy": "2023-10-02T08:09:25.346186Z",
     "iopub.status.idle": "2023-10-02T08:09:25.356336Z",
     "shell.execute_reply": "2023-10-02T08:09:25.355725Z"
    }
   },
   "outputs": [],
   "source": [
    "anon = DataAnonymization(hds_folder='../../../../data/')"
   ]
  },
  {
   "attachments": {},
   "cell_type": "markdown",
   "metadata": {},
   "source": [
    "By default, the class applies a set of anonymisation techniques:\n",
    "- Column names are remapped to a non-descriptive name\n",
    "- Categorical values are hashed with a random seed\n",
    "- Numerical values are normalized between 0 and 1\n",
    "- Outcomes are mapped to a binary outcome.\n",
    "\n",
    "To apply these techniques, simply call `.process()`:"
   ]
  },
  {
   "cell_type": "code",
   "execution_count": 5,
   "metadata": {
    "execution": {
     "iopub.execute_input": "2023-10-02T08:09:25.359246Z",
     "iopub.status.busy": "2023-10-02T08:09:25.358847Z",
     "iopub.status.idle": "2023-10-02T08:09:25.365615Z",
     "shell.execute_reply": "2023-10-02T08:09:25.365149Z"
    }
   },
   "outputs": [
    {
     "data": {
      "text/html": [
       "<div><style>\n",
       ".dataframe > thead > tr > th,\n",
       ".dataframe > tbody > tr > td {\n",
       "  text-align: right;\n",
       "  white-space: pre-wrap;\n",
       "}\n",
       "</style>\n",
       "<small>shape: (7, 7)</small><table border=\"1\" class=\"dataframe\"><thead><tr><th>PREDICTOR_0</th><th>PREDICTOR_1</th><th>PREDICTOR_2</th><th>filename</th><th>Context_Name</th><th>IH_PREDICTOR_0</th><th>Decision_Outcome</th></tr><tr><td>str</td><td>f64</td><td>str</td><td>str</td><td>str</td><td>str</td><td>bool</td></tr></thead><tbody><tr><td>&quot;13305658572674…</td><td>1.2927e19</td><td>&quot;74487505121589…</td><td>&quot;../../../../da…</td><td>&quot;17933777686893…</td><td>&quot;17280186511082…</td><td>false</td></tr><tr><td>&quot;24939986540390…</td><td>1.4856e19</td><td>&quot;12299729890163…</td><td>&quot;../../../../da…</td><td>&quot;17933777686893…</td><td>&quot;15056621451650…</td><td>true</td></tr><tr><td>&quot;32378938536206…</td><td>5.6458e17</td><td>&quot;82468457090785…</td><td>&quot;../../../../da…</td><td>&quot;11247036601166…</td><td>&quot;17280186511082…</td><td>false</td></tr><tr><td>&quot;24939986540390…</td><td>4.0723e18</td><td>&quot;12351804747676…</td><td>&quot;../../../../da…</td><td>&quot;45405172147582…</td><td>&quot;17280186511082…</td><td>false</td></tr><tr><td>&quot;13305658572674…</td><td>1.4677e19</td><td>&quot;62618498706752…</td><td>&quot;../../../../da…</td><td>&quot;45405172147582…</td><td>&quot;65048035612336…</td><td>true</td></tr><tr><td>&quot;32378938536206…</td><td>1.6330e19</td><td>&quot;13078477532236…</td><td>&quot;../../../../da…</td><td>&quot;51583370832143…</td><td>null</td><td>false</td></tr><tr><td>&quot;32378938536206…</td><td>8.7675e18</td><td>&quot;87197509014624…</td><td>&quot;../../../../da…</td><td>&quot;45405172147582…</td><td>&quot;65048035612336…</td><td>false</td></tr></tbody></table></div>"
      ],
      "text/plain": [
       "shape: (7, 7)\n",
       "┌──────────────┬─────────────┬─────────────┬─────────────┬─────────────┬─────────────┬─────────────┐\n",
       "│ PREDICTOR_0  ┆ PREDICTOR_1 ┆ PREDICTOR_2 ┆ filename    ┆ Context_Nam ┆ IH_PREDICTO ┆ Decision_Ou │\n",
       "│ ---          ┆ ---         ┆ ---         ┆ ---         ┆ e           ┆ R_0         ┆ tcome       │\n",
       "│ str          ┆ f64         ┆ str         ┆ str         ┆ ---         ┆ ---         ┆ ---         │\n",
       "│              ┆             ┆             ┆             ┆ str         ┆ str         ┆ bool        │\n",
       "╞══════════════╪═════════════╪═════════════╪═════════════╪═════════════╪═════════════╪═════════════╡\n",
       "│ 133056585726 ┆ 1.2927e19   ┆ 74487505121 ┆ ../../../.. ┆ 17933777686 ┆ 17280186511 ┆ false       │\n",
       "│ 7404313      ┆             ┆ 58971482    ┆ /data/Sampl ┆ 893153822   ┆ 082762369   ┆             │\n",
       "│              ┆             ┆             ┆ eHDS.json   ┆             ┆             ┆             │\n",
       "│ 249399865403 ┆ 1.4856e19   ┆ 12299729890 ┆ ../../../.. ┆ 17933777686 ┆ 15056621451 ┆ true        │\n",
       "│ 9055263      ┆             ┆ 163598212   ┆ /data/Sampl ┆ 893153822   ┆ 650850585   ┆             │\n",
       "│              ┆             ┆             ┆ eHDS.json   ┆             ┆             ┆             │\n",
       "│ 323789385362 ┆ 5.6458e17   ┆ 82468457090 ┆ ../../../.. ┆ 11247036601 ┆ 17280186511 ┆ false       │\n",
       "│ 0683085      ┆             ┆ 78509925    ┆ /data/Sampl ┆ 166302250   ┆ 082762369   ┆             │\n",
       "│              ┆             ┆             ┆ eHDS.json   ┆             ┆             ┆             │\n",
       "│ 249399865403 ┆ 4.0723e18   ┆ 12351804747 ┆ ../../../.. ┆ 45405172147 ┆ 17280186511 ┆ false       │\n",
       "│ 9055263      ┆             ┆ 67684428    ┆ /data/Sampl ┆ 58276274    ┆ 082762369   ┆             │\n",
       "│              ┆             ┆             ┆ eHDS.json   ┆             ┆             ┆             │\n",
       "│ 133056585726 ┆ 1.4677e19   ┆ 62618498706 ┆ ../../../.. ┆ 45405172147 ┆ 65048035612 ┆ true        │\n",
       "│ 7404313      ┆             ┆ 75225116    ┆ /data/Sampl ┆ 58276274    ┆ 33646553    ┆             │\n",
       "│              ┆             ┆             ┆ eHDS.json   ┆             ┆             ┆             │\n",
       "│ 323789385362 ┆ 1.6330e19   ┆ 13078477532 ┆ ../../../.. ┆ 51583370832 ┆ null        ┆ false       │\n",
       "│ 0683085      ┆             ┆ 236237270   ┆ /data/Sampl ┆ 14396995    ┆             ┆             │\n",
       "│              ┆             ┆             ┆ eHDS.json   ┆             ┆             ┆             │\n",
       "│ 323789385362 ┆ 8.7675e18   ┆ 87197509014 ┆ ../../../.. ┆ 45405172147 ┆ 65048035612 ┆ false       │\n",
       "│ 0683085      ┆             ┆ 62463553    ┆ /data/Sampl ┆ 58276274    ┆ 33646553    ┆             │\n",
       "│              ┆             ┆             ┆ eHDS.json   ┆             ┆             ┆             │\n",
       "└──────────────┴─────────────┴─────────────┴─────────────┴─────────────┴─────────────┴─────────────┘"
      ]
     },
     "execution_count": 5,
     "metadata": {},
     "output_type": "execute_result"
    }
   ],
   "source": [
    "anon.process()"
   ]
  },
  {
   "attachments": {},
   "cell_type": "markdown",
   "metadata": {},
   "source": [
    "To trace back the columns to their original names, the class also contains a mapping, which does not have to be provided."
   ]
  },
  {
   "cell_type": "code",
   "execution_count": 6,
   "metadata": {
    "execution": {
     "iopub.execute_input": "2023-10-02T08:09:25.368102Z",
     "iopub.status.busy": "2023-10-02T08:09:25.367687Z",
     "iopub.status.idle": "2023-10-02T08:09:25.371593Z",
     "shell.execute_reply": "2023-10-02T08:09:25.371126Z"
    }
   },
   "outputs": [
    {
     "data": {
      "text/plain": [
       "{'Customer_MaritalStatus': 'PREDICTOR_0',\n",
       " 'Customer_CLV': 'PREDICTOR_1',\n",
       " 'Customer_City': 'PREDICTOR_2',\n",
       " 'filename': 'filename',\n",
       " 'Context_Name': 'Context_Name',\n",
       " 'IH_Web_Inbound_Accepted_pxLastGroupID': 'IH_PREDICTOR_0',\n",
       " 'Decision_Outcome': 'Decision_Outcome'}"
      ]
     },
     "execution_count": 6,
     "metadata": {},
     "output_type": "execute_result"
    }
   ],
   "source": [
    "anon.column_mapping"
   ]
  },
  {
   "attachments": {},
   "cell_type": "markdown",
   "metadata": {},
   "source": [
    "## Configs\n",
    "\n",
    "Each capability can optionally be turned off - see below for the full list of config options, and refer to the API reference for the full description."
   ]
  },
  {
   "cell_type": "code",
   "execution_count": 7,
   "metadata": {
    "execution": {
     "iopub.execute_input": "2023-10-02T08:09:25.373939Z",
     "iopub.status.busy": "2023-10-02T08:09:25.373555Z",
     "iopub.status.idle": "2023-10-02T08:09:25.377889Z",
     "shell.execute_reply": "2023-10-02T08:09:25.377440Z"
    }
   },
   "outputs": [
    {
     "data": {
      "text/plain": [
       "{'config_file': None,\n",
       " 'hds_folder': '.',\n",
       " 'use_datamart': False,\n",
       " 'datamart_folder': 'datamart',\n",
       " 'output_format': 'ndjson',\n",
       " 'output_folder': 'output',\n",
       " 'mapping_file': 'mapping.map',\n",
       " 'mask_predictor_names': True,\n",
       " 'mask_context_key_names': False,\n",
       " 'mask_ih_names': True,\n",
       " 'mask_outcome_name': False,\n",
       " 'mask_predictor_values': True,\n",
       " 'mask_context_key_values': True,\n",
       " 'mask_ih_values': True,\n",
       " 'mask_outcome_values': True,\n",
       " 'context_key_label': 'Context_*',\n",
       " 'ih_label': 'IH_*',\n",
       " 'outcome_column': 'Decision_Outcome',\n",
       " 'positive_outcomes': ['Accepted', 'Clicked'],\n",
       " 'negative_outcomes': ['Rejected', 'Impression'],\n",
       " 'special_predictors': ['Decision_DecisionTime',\n",
       "  'Decision_OutcomeTime',\n",
       "  'Decision_Rank'],\n",
       " 'sample_percentage_schema_inferencing': 0.01}"
      ]
     },
     "execution_count": 7,
     "metadata": {},
     "output_type": "execute_result"
    }
   ],
   "source": [
    "dict(zip(Config.__init__.__code__.co_varnames[1:], Config.__init__.__defaults__))"
   ]
  },
  {
   "attachments": {},
   "cell_type": "markdown",
   "metadata": {},
   "source": [
    "It's easy to change these parameters by just passing the keyword arguments. In the following example, we\n",
    "- Keep the IH predictor names\n",
    "- Keep the outcome values\n",
    "- Keep the context key values\n",
    "- Keep the context key predictor names"
   ]
  },
  {
   "cell_type": "code",
   "execution_count": 8,
   "metadata": {
    "execution": {
     "iopub.execute_input": "2023-10-02T08:09:25.380210Z",
     "iopub.status.busy": "2023-10-02T08:09:25.379802Z",
     "iopub.status.idle": "2023-10-02T08:09:25.392655Z",
     "shell.execute_reply": "2023-10-02T08:09:25.392180Z"
    }
   },
   "outputs": [
    {
     "data": {
      "text/html": [
       "<div><style>\n",
       ".dataframe > thead > tr > th,\n",
       ".dataframe > tbody > tr > td {\n",
       "  text-align: right;\n",
       "  white-space: pre-wrap;\n",
       "}\n",
       "</style>\n",
       "<small>shape: (7, 7)</small><table border=\"1\" class=\"dataframe\"><thead><tr><th>PREDICTOR_0</th><th>PREDICTOR_1</th><th>PREDICTOR_2</th><th>filename</th><th>Context_Name</th><th>IH_Web_Inbound_Accepted_pxLastGroupID</th><th>Decision_Outcome</th></tr><tr><td>str</td><td>f64</td><td>str</td><td>str</td><td>str</td><td>str</td><td>str</td></tr></thead><tbody><tr><td>&quot;94850452336757…</td><td>1.2927e19</td><td>&quot;12467562131674…</td><td>&quot;../../../../da…</td><td>&quot;FirstMortgage3…</td><td>&quot;14735036189694…</td><td>&quot;Rejected&quot;</td></tr><tr><td>&quot;45066403561289…</td><td>1.4856e19</td><td>&quot;97733339689763…</td><td>&quot;../../../../da…</td><td>&quot;FirstMortgage3…</td><td>&quot;88534907958160…</td><td>&quot;Accepted&quot;</td></tr><tr><td>&quot;27049294717333…</td><td>5.6458e17</td><td>&quot;14277476629351…</td><td>&quot;../../../../da…</td><td>&quot;MoneyMarketSav…</td><td>&quot;14735036189694…</td><td>&quot;Rejected&quot;</td></tr><tr><td>&quot;45066403561289…</td><td>4.0723e18</td><td>&quot;51260424090835…</td><td>&quot;../../../../da…</td><td>&quot;BasicChecking&quot;</td><td>&quot;14735036189694…</td><td>&quot;Rejected&quot;</td></tr><tr><td>&quot;94850452336757…</td><td>1.4677e19</td><td>&quot;15502134555710…</td><td>&quot;../../../../da…</td><td>&quot;BasicChecking&quot;</td><td>&quot;88504989034470…</td><td>&quot;Accepted&quot;</td></tr><tr><td>&quot;27049294717333…</td><td>1.6330e19</td><td>&quot;48652275226140…</td><td>&quot;../../../../da…</td><td>&quot;UPlusFinPerson…</td><td>null</td><td>&quot;Rejected&quot;</td></tr><tr><td>&quot;27049294717333…</td><td>8.7675e18</td><td>&quot;12930675531379…</td><td>&quot;../../../../da…</td><td>&quot;BasicChecking&quot;</td><td>&quot;88504989034470…</td><td>&quot;Rejected&quot;</td></tr></tbody></table></div>"
      ],
      "text/plain": [
       "shape: (7, 7)\n",
       "┌──────────────┬─────────────┬─────────────┬─────────────┬─────────────┬─────────────┬─────────────┐\n",
       "│ PREDICTOR_0  ┆ PREDICTOR_1 ┆ PREDICTOR_2 ┆ filename    ┆ Context_Nam ┆ IH_Web_Inbo ┆ Decision_Ou │\n",
       "│ ---          ┆ ---         ┆ ---         ┆ ---         ┆ e           ┆ und_Accepte ┆ tcome       │\n",
       "│ str          ┆ f64         ┆ str         ┆ str         ┆ ---         ┆ d_pxLastGr… ┆ ---         │\n",
       "│              ┆             ┆             ┆             ┆ str         ┆ ---         ┆ str         │\n",
       "│              ┆             ┆             ┆             ┆             ┆ str         ┆             │\n",
       "╞══════════════╪═════════════╪═════════════╪═════════════╪═════════════╪═════════════╪═════════════╡\n",
       "│ 948504523367 ┆ 1.2927e19   ┆ 12467562131 ┆ ../../../.. ┆ FirstMortga ┆ 14735036189 ┆ Rejected    │\n",
       "│ 5753087      ┆             ┆ 674774587   ┆ /data/Sampl ┆ ge30yr      ┆ 694374317   ┆             │\n",
       "│              ┆             ┆             ┆ eHDS.json   ┆             ┆             ┆             │\n",
       "│ 450664035612 ┆ 1.4856e19   ┆ 97733339689 ┆ ../../../.. ┆ FirstMortga ┆ 88534907958 ┆ Accepted    │\n",
       "│ 8922761      ┆             ┆ 76363220    ┆ /data/Sampl ┆ ge30yr      ┆ 16001532    ┆             │\n",
       "│              ┆             ┆             ┆ eHDS.json   ┆             ┆             ┆             │\n",
       "│ 270492947173 ┆ 5.6458e17   ┆ 14277476629 ┆ ../../../.. ┆ MoneyMarket ┆ 14735036189 ┆ Rejected    │\n",
       "│ 3325181      ┆             ┆ 351083333   ┆ /data/Sampl ┆ SavingsAcco ┆ 694374317   ┆             │\n",
       "│              ┆             ┆             ┆ eHDS.json   ┆ unt         ┆             ┆             │\n",
       "│ 450664035612 ┆ 4.0723e18   ┆ 51260424090 ┆ ../../../.. ┆ BasicChecki ┆ 14735036189 ┆ Rejected    │\n",
       "│ 8922761      ┆             ┆ 83560872    ┆ /data/Sampl ┆ ng          ┆ 694374317   ┆             │\n",
       "│              ┆             ┆             ┆ eHDS.json   ┆             ┆             ┆             │\n",
       "│ 948504523367 ┆ 1.4677e19   ┆ 15502134555 ┆ ../../../.. ┆ BasicChecki ┆ 88504989034 ┆ Accepted    │\n",
       "│ 5753087      ┆             ┆ 710436346   ┆ /data/Sampl ┆ ng          ┆ 47047717    ┆             │\n",
       "│              ┆             ┆             ┆ eHDS.json   ┆             ┆             ┆             │\n",
       "│ 270492947173 ┆ 1.6330e19   ┆ 48652275226 ┆ ../../../.. ┆ UPlusFinPer ┆ null        ┆ Rejected    │\n",
       "│ 3325181      ┆             ┆ 14042122    ┆ /data/Sampl ┆ sonal       ┆             ┆             │\n",
       "│              ┆             ┆             ┆ eHDS.json   ┆             ┆             ┆             │\n",
       "│ 270492947173 ┆ 8.7675e18   ┆ 12930675531 ┆ ../../../.. ┆ BasicChecki ┆ 88504989034 ┆ Rejected    │\n",
       "│ 3325181      ┆             ┆ 379912620   ┆ /data/Sampl ┆ ng          ┆ 47047717    ┆             │\n",
       "│              ┆             ┆             ┆ eHDS.json   ┆             ┆             ┆             │\n",
       "└──────────────┴─────────────┴─────────────┴─────────────┴─────────────┴─────────────┴─────────────┘"
      ]
     },
     "execution_count": 8,
     "metadata": {},
     "output_type": "execute_result"
    }
   ],
   "source": [
    "anon = DataAnonymization(\n",
    "    hds_folder=\"../../../../data/\",\n",
    "    mask_ih_names=False,\n",
    "    mask_outcome_values=False,\n",
    "    mask_context_key_values=False,\n",
    "    mask_context_key_names=False,\n",
    ")\n",
    "anon.process()\n"
   ]
  },
  {
   "attachments": {},
   "cell_type": "markdown",
   "metadata": {},
   "source": [
    "The configs can also be written and read as such:"
   ]
  },
  {
   "cell_type": "code",
   "execution_count": 9,
   "metadata": {
    "execution": {
     "iopub.execute_input": "2023-10-02T08:09:25.394998Z",
     "iopub.status.busy": "2023-10-02T08:09:25.394620Z",
     "iopub.status.idle": "2023-10-02T08:09:25.397504Z",
     "shell.execute_reply": "2023-10-02T08:09:25.397043Z"
    }
   },
   "outputs": [],
   "source": [
    "anon.config.save_to_config_file('config.json')"
   ]
  },
  {
   "cell_type": "code",
   "execution_count": 10,
   "metadata": {
    "execution": {
     "iopub.execute_input": "2023-10-02T08:09:25.399692Z",
     "iopub.status.busy": "2023-10-02T08:09:25.399307Z",
     "iopub.status.idle": "2023-10-02T08:09:25.411478Z",
     "shell.execute_reply": "2023-10-02T08:09:25.411011Z"
    }
   },
   "outputs": [
    {
     "data": {
      "text/html": [
       "<div><style>\n",
       ".dataframe > thead > tr > th,\n",
       ".dataframe > tbody > tr > td {\n",
       "  text-align: right;\n",
       "  white-space: pre-wrap;\n",
       "}\n",
       "</style>\n",
       "<small>shape: (7, 7)</small><table border=\"1\" class=\"dataframe\"><thead><tr><th>PREDICTOR_0</th><th>PREDICTOR_1</th><th>PREDICTOR_2</th><th>filename</th><th>Context_Name</th><th>IH_Web_Inbound_Accepted_pxLastGroupID</th><th>Decision_Outcome</th></tr><tr><td>str</td><td>f64</td><td>str</td><td>str</td><td>str</td><td>str</td><td>str</td></tr></thead><tbody><tr><td>&quot;87358036244929…</td><td>1.2927e19</td><td>&quot;14482735904084…</td><td>&quot;../../../../da…</td><td>&quot;FirstMortgage3…</td><td>&quot;14315117921970…</td><td>&quot;Rejected&quot;</td></tr><tr><td>&quot;10277394125967…</td><td>1.4856e19</td><td>&quot;88019671542917…</td><td>&quot;../../../../da…</td><td>&quot;FirstMortgage3…</td><td>&quot;66627677358512…</td><td>&quot;Accepted&quot;</td></tr><tr><td>&quot;29559824582675…</td><td>5.6458e17</td><td>&quot;30534763861238…</td><td>&quot;../../../../da…</td><td>&quot;MoneyMarketSav…</td><td>&quot;14315117921970…</td><td>&quot;Rejected&quot;</td></tr><tr><td>&quot;10277394125967…</td><td>4.0723e18</td><td>&quot;13677079602633…</td><td>&quot;../../../../da…</td><td>&quot;BasicChecking&quot;</td><td>&quot;14315117921970…</td><td>&quot;Rejected&quot;</td></tr><tr><td>&quot;87358036244929…</td><td>1.4677e19</td><td>&quot;13115225261914…</td><td>&quot;../../../../da…</td><td>&quot;BasicChecking&quot;</td><td>&quot;89202007915427…</td><td>&quot;Accepted&quot;</td></tr><tr><td>&quot;29559824582675…</td><td>1.6330e19</td><td>&quot;17184955915242…</td><td>&quot;../../../../da…</td><td>&quot;UPlusFinPerson…</td><td>null</td><td>&quot;Rejected&quot;</td></tr><tr><td>&quot;29559824582675…</td><td>8.7675e18</td><td>&quot;42708070715967…</td><td>&quot;../../../../da…</td><td>&quot;BasicChecking&quot;</td><td>&quot;89202007915427…</td><td>&quot;Rejected&quot;</td></tr></tbody></table></div>"
      ],
      "text/plain": [
       "shape: (7, 7)\n",
       "┌──────────────┬─────────────┬─────────────┬─────────────┬─────────────┬─────────────┬─────────────┐\n",
       "│ PREDICTOR_0  ┆ PREDICTOR_1 ┆ PREDICTOR_2 ┆ filename    ┆ Context_Nam ┆ IH_Web_Inbo ┆ Decision_Ou │\n",
       "│ ---          ┆ ---         ┆ ---         ┆ ---         ┆ e           ┆ und_Accepte ┆ tcome       │\n",
       "│ str          ┆ f64         ┆ str         ┆ str         ┆ ---         ┆ d_pxLastGr… ┆ ---         │\n",
       "│              ┆             ┆             ┆             ┆ str         ┆ ---         ┆ str         │\n",
       "│              ┆             ┆             ┆             ┆             ┆ str         ┆             │\n",
       "╞══════════════╪═════════════╪═════════════╪═════════════╪═════════════╪═════════════╪═════════════╡\n",
       "│ 873580362449 ┆ 1.2927e19   ┆ 14482735904 ┆ ../../../.. ┆ FirstMortga ┆ 14315117921 ┆ Rejected    │\n",
       "│ 299124       ┆             ┆ 084434857   ┆ /data/Sampl ┆ ge30yr      ┆ 970582756   ┆             │\n",
       "│              ┆             ┆             ┆ eHDS.json   ┆             ┆             ┆             │\n",
       "│ 102773941259 ┆ 1.4856e19   ┆ 88019671542 ┆ ../../../.. ┆ FirstMortga ┆ 66627677358 ┆ Accepted    │\n",
       "│ 67814850     ┆             ┆ 9176931     ┆ /data/Sampl ┆ ge30yr      ┆ 51224064    ┆             │\n",
       "│              ┆             ┆             ┆ eHDS.json   ┆             ┆             ┆             │\n",
       "│ 295598245826 ┆ 5.6458e17   ┆ 30534763861 ┆ ../../../.. ┆ MoneyMarket ┆ 14315117921 ┆ Rejected    │\n",
       "│ 7528446      ┆             ┆ 2382599     ┆ /data/Sampl ┆ SavingsAcco ┆ 970582756   ┆             │\n",
       "│              ┆             ┆             ┆ eHDS.json   ┆ unt         ┆             ┆             │\n",
       "│ 102773941259 ┆ 4.0723e18   ┆ 13677079602 ┆ ../../../.. ┆ BasicChecki ┆ 14315117921 ┆ Rejected    │\n",
       "│ 67814850     ┆             ┆ 633703021   ┆ /data/Sampl ┆ ng          ┆ 970582756   ┆             │\n",
       "│              ┆             ┆             ┆ eHDS.json   ┆             ┆             ┆             │\n",
       "│ 873580362449 ┆ 1.4677e19   ┆ 13115225261 ┆ ../../../.. ┆ BasicChecki ┆ 89202007915 ┆ Accepted    │\n",
       "│ 299124       ┆             ┆ 914469148   ┆ /data/Sampl ┆ ng          ┆ 42704579    ┆             │\n",
       "│              ┆             ┆             ┆ eHDS.json   ┆             ┆             ┆             │\n",
       "│ 295598245826 ┆ 1.6330e19   ┆ 17184955915 ┆ ../../../.. ┆ UPlusFinPer ┆ null        ┆ Rejected    │\n",
       "│ 7528446      ┆             ┆ 242448757   ┆ /data/Sampl ┆ sonal       ┆             ┆             │\n",
       "│              ┆             ┆             ┆ eHDS.json   ┆             ┆             ┆             │\n",
       "│ 295598245826 ┆ 8.7675e18   ┆ 42708070715 ┆ ../../../.. ┆ BasicChecki ┆ 89202007915 ┆ Rejected    │\n",
       "│ 7528446      ┆             ┆ 96770607    ┆ /data/Sampl ┆ ng          ┆ 42704579    ┆             │\n",
       "│              ┆             ┆             ┆ eHDS.json   ┆             ┆             ┆             │\n",
       "└──────────────┴─────────────┴─────────────┴─────────────┴─────────────┴─────────────┴─────────────┘"
      ]
     },
     "execution_count": 10,
     "metadata": {},
     "output_type": "execute_result"
    }
   ],
   "source": [
    "anon = DataAnonymization(config=Config(config_file='config.json'))\n",
    "anon.process()"
   ]
  },
  {
   "attachments": {},
   "cell_type": "markdown",
   "metadata": {},
   "source": [
    "## Exporting\n",
    "Two functions export:\n",
    "- `create_mapping_file()` writes the mapping file of the predictor names\n",
    "- `write_to_output()` writes the processed dataframe to disk\n",
    "\n",
    "Write to output accepts the following extensions: `[\"ndjson\", \"parquet\", \"arrow\", \"csv\"]`"
   ]
  },
  {
   "cell_type": "code",
   "execution_count": 11,
   "metadata": {
    "execution": {
     "iopub.execute_input": "2023-10-02T08:09:25.413853Z",
     "iopub.status.busy": "2023-10-02T08:09:25.413467Z",
     "iopub.status.idle": "2023-10-02T08:09:25.417104Z",
     "shell.execute_reply": "2023-10-02T08:09:25.416654Z"
    }
   },
   "outputs": [
    {
     "name": "stdout",
     "output_type": "stream",
     "text": [
      "Customer_MaritalStatus=PREDICTOR_0\n",
      "Customer_CLV=PREDICTOR_1\n",
      "Customer_City=PREDICTOR_2\n",
      "filename=filename\n",
      "Context_Name=Context_Name\n",
      "IH_Web_Inbound_Accepted_pxLastGroupID=IH_Web_Inbound_Accepted_pxLastGroupID\n",
      "Decision_Outcome=Decision_Outcome\n",
      "\n"
     ]
    }
   ],
   "source": [
    "anon.create_mapping_file()\n",
    "with open('mapping.map') as f:\n",
    "    print(f.read())"
   ]
  },
  {
   "cell_type": "code",
   "execution_count": 12,
   "metadata": {
    "execution": {
     "iopub.execute_input": "2023-10-02T08:09:25.419330Z",
     "iopub.status.busy": "2023-10-02T08:09:25.418950Z",
     "iopub.status.idle": "2023-10-02T08:09:25.422991Z",
     "shell.execute_reply": "2023-10-02T08:09:25.422541Z"
    }
   },
   "outputs": [],
   "source": [
    "anon.write_to_output(ext='arrow')"
   ]
  },
  {
   "cell_type": "code",
   "execution_count": 13,
   "metadata": {
    "execution": {
     "iopub.execute_input": "2023-10-02T08:09:25.425258Z",
     "iopub.status.busy": "2023-10-02T08:09:25.424886Z",
     "iopub.status.idle": "2023-10-02T08:09:25.429647Z",
     "shell.execute_reply": "2023-10-02T08:09:25.429202Z"
    }
   },
   "outputs": [
    {
     "data": {
      "text/html": [
       "<div><style>\n",
       ".dataframe > thead > tr > th,\n",
       ".dataframe > tbody > tr > td {\n",
       "  text-align: right;\n",
       "  white-space: pre-wrap;\n",
       "}\n",
       "</style>\n",
       "<small>shape: (7, 6)</small><table border=\"1\" class=\"dataframe\"><thead><tr><th>PREDICTOR_0</th><th>PREDICTOR_1</th><th>PREDICTOR_2</th><th>Context_Name</th><th>IH_Web_Inbound_Accepted_pxLastGroupID</th><th>Decision_Outcome</th></tr><tr><td>str</td><td>f64</td><td>str</td><td>str</td><td>str</td><td>str</td></tr></thead><tbody><tr><td>&quot;14214587975526…</td><td>1.2927e19</td><td>&quot;38743929781348…</td><td>&quot;FirstMortgage3…</td><td>&quot;55583091195571…</td><td>&quot;Rejected&quot;</td></tr><tr><td>&quot;17706709479832…</td><td>1.4856e19</td><td>&quot;98433647867469…</td><td>&quot;FirstMortgage3…</td><td>&quot;51829006413901…</td><td>&quot;Accepted&quot;</td></tr><tr><td>&quot;19621844161154…</td><td>5.6458e17</td><td>&quot;16418573901342…</td><td>&quot;MoneyMarketSav…</td><td>&quot;55583091195571…</td><td>&quot;Rejected&quot;</td></tr><tr><td>&quot;17706709479832…</td><td>4.0723e18</td><td>&quot;15526209862534…</td><td>&quot;BasicChecking&quot;</td><td>&quot;55583091195571…</td><td>&quot;Rejected&quot;</td></tr><tr><td>&quot;14214587975526…</td><td>1.4677e19</td><td>&quot;14447707326953…</td><td>&quot;BasicChecking&quot;</td><td>&quot;28089138431206…</td><td>&quot;Accepted&quot;</td></tr><tr><td>&quot;19621844161154…</td><td>1.6330e19</td><td>&quot;84764540540044…</td><td>&quot;UPlusFinPerson…</td><td>null</td><td>&quot;Rejected&quot;</td></tr><tr><td>&quot;19621844161154…</td><td>8.7675e18</td><td>&quot;18034619824325…</td><td>&quot;BasicChecking&quot;</td><td>&quot;28089138431206…</td><td>&quot;Rejected&quot;</td></tr></tbody></table></div>"
      ],
      "text/plain": [
       "shape: (7, 6)\n",
       "┌────────────────┬─────────────┬────────────────┬────────────────┬────────────────┬────────────────┐\n",
       "│ PREDICTOR_0    ┆ PREDICTOR_1 ┆ PREDICTOR_2    ┆ Context_Name   ┆ IH_Web_Inbound ┆ Decision_Outco │\n",
       "│ ---            ┆ ---         ┆ ---            ┆ ---            ┆ _Accepted_pxLa ┆ me             │\n",
       "│ str            ┆ f64         ┆ str            ┆ str            ┆ stGr…          ┆ ---            │\n",
       "│                ┆             ┆                ┆                ┆ ---            ┆ str            │\n",
       "│                ┆             ┆                ┆                ┆ str            ┆                │\n",
       "╞════════════════╪═════════════╪════════════════╪════════════════╪════════════════╪════════════════╡\n",
       "│ 14214587975526 ┆ 1.2927e19   ┆ 38743929781348 ┆ FirstMortgage3 ┆ 55583091195571 ┆ Rejected       │\n",
       "│ 883100         ┆             ┆ 54664          ┆ 0yr            ┆ 37619          ┆                │\n",
       "│ 17706709479832 ┆ 1.4856e19   ┆ 98433647867469 ┆ FirstMortgage3 ┆ 51829006413901 ┆ Accepted       │\n",
       "│ 486606         ┆             ┆ 65255          ┆ 0yr            ┆ 48718          ┆                │\n",
       "│ 19621844161154 ┆ 5.6458e17   ┆ 16418573901342 ┆ MoneyMarketSav ┆ 55583091195571 ┆ Rejected       │\n",
       "│ 19957          ┆             ┆ 273492         ┆ ingsAccount    ┆ 37619          ┆                │\n",
       "│ 17706709479832 ┆ 4.0723e18   ┆ 15526209862534 ┆ BasicChecking  ┆ 55583091195571 ┆ Rejected       │\n",
       "│ 486606         ┆             ┆ 056169         ┆                ┆ 37619          ┆                │\n",
       "│ 14214587975526 ┆ 1.4677e19   ┆ 14447707326953 ┆ BasicChecking  ┆ 28089138431206 ┆ Accepted       │\n",
       "│ 883100         ┆             ┆ 265644         ┆                ┆ 08858          ┆                │\n",
       "│ 19621844161154 ┆ 1.6330e19   ┆ 84764540540044 ┆ UPlusFinPerson ┆ null           ┆ Rejected       │\n",
       "│ 19957          ┆             ┆ 9499           ┆ al             ┆                ┆                │\n",
       "│ 19621844161154 ┆ 8.7675e18   ┆ 18034619824325 ┆ BasicChecking  ┆ 28089138431206 ┆ Rejected       │\n",
       "│ 19957          ┆             ┆ 356303         ┆                ┆ 08858          ┆                │\n",
       "└────────────────┴─────────────┴────────────────┴────────────────┴────────────────┴────────────────┘"
      ]
     },
     "execution_count": 13,
     "metadata": {},
     "output_type": "execute_result"
    }
   ],
   "source": [
    "pl.read_ipc('output/hds.arrow')"
   ]
  },
  {
   "attachments": {},
   "cell_type": "markdown",
   "metadata": {
    "nbsphinx": "hidden"
   },
   "source": [
    "## Advanced: Hash fuctions\n",
    "\n",
    "By default, we use [the same hashing algorithm Polars](https://pola-rs.github.io/polars/py-polars/html/reference/expressions/api/polars.Expr.hash.html#polars.Expr.hash) uses: [xxhash](https://github.com/Cyan4973/xxHash), as implemented [here](https://github.com/pola-rs/polars/blob/3f287f370b3c388ed2f3f218b2c096382548136f/polars/polars-core/src/vector_hasher.rs#L266). xxhash is fast to compute, and you can check its performance in collision, dispersion and randomness [here](https://github.com/Cyan4973/xxHash/tree/dev/tests). \n",
    "\n",
    "xxhash accepts four distinct seeds, but by default we set the seeds to `0`. It is possible to set the `seed` argument of the `process()` function to `'random'`, which will set all four seeds to a random integer between `0` and `1000000000`. Alternatively, it is possible to supply the four seeds manually with arguments `seed`, `seed_1`, `seed_2` and `seed_3`. \n",
    "\n",
    "If the xxhash with (random) seed(s) is not deemed sufficiently secure, it is possible to use your own hashing algorithm.\n",
    "\n",
    "Note that since we're now running python code and not native Polars code anymore, this will be _significantly_ slower. Nonetheless, it is possible.\n",
    "\n",
    "Just as an example - this is how one would use sha3_256:"
   ]
  },
  {
   "cell_type": "code",
   "execution_count": 14,
   "metadata": {
    "execution": {
     "iopub.execute_input": "2023-10-02T08:09:25.431881Z",
     "iopub.status.busy": "2023-10-02T08:09:25.431511Z",
     "iopub.status.idle": "2023-10-02T08:09:25.819979Z",
     "shell.execute_reply": "2023-10-02T08:09:25.819327Z"
    },
    "nbsphinx": "hidden"
   },
   "outputs": [
    {
     "ename": "ComputeError",
     "evalue": "AttributeError: 'int' object has no attribute 'encode'",
     "output_type": "error",
     "traceback": [
      "\u001b[0;31m---------------------------------------------------------------------------\u001b[0m",
      "\u001b[0;31mComputeError\u001b[0m                              Traceback (most recent call last)",
      "Cell \u001b[0;32mIn[14], line 3\u001b[0m\n\u001b[1;32m      1\u001b[0m \u001b[38;5;28;01mfrom\u001b[39;00m \u001b[38;5;21;01mhashlib\u001b[39;00m \u001b[38;5;28;01mimport\u001b[39;00m sha3_256\n\u001b[0;32m----> 3\u001b[0m \u001b[43manon\u001b[49m\u001b[38;5;241;43m.\u001b[39;49m\u001b[43mprocess\u001b[49m\u001b[43m(\u001b[49m\u001b[43malgorithm\u001b[49m\u001b[38;5;241;43m=\u001b[39;49m\u001b[38;5;28;43;01mlambda\u001b[39;49;00m\u001b[43m \u001b[49m\u001b[43mx\u001b[49m\u001b[43m:\u001b[49m\u001b[43m \u001b[49m\u001b[43msha3_256\u001b[49m\u001b[43m(\u001b[49m\u001b[43mx\u001b[49m\u001b[38;5;241;43m.\u001b[39;49m\u001b[43mencode\u001b[49m\u001b[43m(\u001b[49m\u001b[43m)\u001b[49m\u001b[43m)\u001b[49m\u001b[38;5;241;43m.\u001b[39;49m\u001b[43mhexdigest\u001b[49m\u001b[43m(\u001b[49m\u001b[43m)\u001b[49m\u001b[43m)\u001b[49m\n",
      "File \u001b[0;32m~/work/pega-datascientist-tools/pega-datascientist-tools/python/docs/source/articles/../../../pdstools/utils/hds_utils.py:516\u001b[0m, in \u001b[0;36mDataAnonymization.process\u001b[0;34m(self, strategy, **kwargs)\u001b[0m\n\u001b[1;32m    514\u001b[0m df \u001b[38;5;241m=\u001b[39m df\u001b[38;5;241m.\u001b[39mselect(\u001b[38;5;28mself\u001b[39m\u001b[38;5;241m.\u001b[39mcolumn_mapping\u001b[38;5;241m.\u001b[39mkeys())\u001b[38;5;241m.\u001b[39mrename(\u001b[38;5;28mself\u001b[39m\u001b[38;5;241m.\u001b[39mcolumn_mapping)\n\u001b[1;32m    515\u001b[0m \u001b[38;5;28;01mif\u001b[39;00m strategy \u001b[38;5;241m==\u001b[39m \u001b[38;5;124m\"\u001b[39m\u001b[38;5;124meager\u001b[39m\u001b[38;5;124m\"\u001b[39m:\n\u001b[0;32m--> 516\u001b[0m     \u001b[38;5;28;01mreturn\u001b[39;00m \u001b[43mdf\u001b[49m\u001b[38;5;241;43m.\u001b[39;49m\u001b[43mcollect\u001b[49m\u001b[43m(\u001b[49m\u001b[43m)\u001b[49m\n\u001b[1;32m    517\u001b[0m \u001b[38;5;28;01mreturn\u001b[39;00m df\n",
      "File \u001b[0;32m/opt/hostedtoolcache/Python/3.11.5/x64/lib/python3.11/site-packages/polars/utils/deprecation.py:95\u001b[0m, in \u001b[0;36mdeprecate_renamed_parameter.<locals>.decorate.<locals>.wrapper\u001b[0;34m(*args, **kwargs)\u001b[0m\n\u001b[1;32m     90\u001b[0m \u001b[38;5;129m@wraps\u001b[39m(function)\n\u001b[1;32m     91\u001b[0m \u001b[38;5;28;01mdef\u001b[39;00m \u001b[38;5;21mwrapper\u001b[39m(\u001b[38;5;241m*\u001b[39margs: P\u001b[38;5;241m.\u001b[39margs, \u001b[38;5;241m*\u001b[39m\u001b[38;5;241m*\u001b[39mkwargs: P\u001b[38;5;241m.\u001b[39mkwargs) \u001b[38;5;241m-\u001b[39m\u001b[38;5;241m>\u001b[39m T:\n\u001b[1;32m     92\u001b[0m     _rename_keyword_argument(\n\u001b[1;32m     93\u001b[0m         old_name, new_name, kwargs, function\u001b[38;5;241m.\u001b[39m\u001b[38;5;18m__name__\u001b[39m, version\n\u001b[1;32m     94\u001b[0m     )\n\u001b[0;32m---> 95\u001b[0m     \u001b[38;5;28;01mreturn\u001b[39;00m \u001b[43mfunction\u001b[49m\u001b[43m(\u001b[49m\u001b[38;5;241;43m*\u001b[39;49m\u001b[43margs\u001b[49m\u001b[43m,\u001b[49m\u001b[43m \u001b[49m\u001b[38;5;241;43m*\u001b[39;49m\u001b[38;5;241;43m*\u001b[39;49m\u001b[43mkwargs\u001b[49m\u001b[43m)\u001b[49m\n",
      "File \u001b[0;32m/opt/hostedtoolcache/Python/3.11.5/x64/lib/python3.11/site-packages/polars/lazyframe/frame.py:1711\u001b[0m, in \u001b[0;36mLazyFrame.collect\u001b[0;34m(self, type_coercion, predicate_pushdown, projection_pushdown, simplify_expression, no_optimization, slice_pushdown, comm_subplan_elim, comm_subexpr_elim, streaming, **kwargs)\u001b[0m\n\u001b[1;32m   1698\u001b[0m     comm_subplan_elim \u001b[38;5;241m=\u001b[39m \u001b[38;5;28;01mFalse\u001b[39;00m\n\u001b[1;32m   1700\u001b[0m ldf \u001b[38;5;241m=\u001b[39m \u001b[38;5;28mself\u001b[39m\u001b[38;5;241m.\u001b[39m_ldf\u001b[38;5;241m.\u001b[39moptimization_toggle(\n\u001b[1;32m   1701\u001b[0m     type_coercion,\n\u001b[1;32m   1702\u001b[0m     predicate_pushdown,\n\u001b[0;32m   (...)\u001b[0m\n\u001b[1;32m   1709\u001b[0m     eager,\n\u001b[1;32m   1710\u001b[0m )\n\u001b[0;32m-> 1711\u001b[0m \u001b[38;5;28;01mreturn\u001b[39;00m wrap_df(ldf\u001b[38;5;241m.\u001b[39mcollect())\n",
      "\u001b[0;31mComputeError\u001b[0m: AttributeError: 'int' object has no attribute 'encode'"
     ]
    }
   ],
   "source": [
    "from hashlib import sha3_256\n",
    "\n",
    "anon.process(algorithm=lambda x: sha3_256(x.encode()).hexdigest())"
   ]
  }
 ],
 "metadata": {
  "kernelspec": {
   "display_name": "Python 3",
   "language": "python",
   "name": "python3"
  },
  "language_info": {
   "codemirror_mode": {
    "name": "ipython",
    "version": 3
   },
   "file_extension": ".py",
   "mimetype": "text/x-python",
   "name": "python",
   "nbconvert_exporter": "python",
   "pygments_lexer": "ipython3",
   "version": "3.11.5"
  },
  "vscode": {
   "interpreter": {
    "hash": "aee8b7b246df8f9039afb4144a1f6fd8d2ca17a180786b69acc140d282b71a49"
   }
  }
 },
 "nbformat": 4,
 "nbformat_minor": 2
}
