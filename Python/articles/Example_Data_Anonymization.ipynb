{
 "cells": [
  {
   "attachments": {},
   "cell_type": "markdown",
   "metadata": {},
   "source": [
    "# Example data anonymization\n",
    "\n",
    "In Pega CDH 8.5 and up, it's now possible to record the historical data as seen by the Adaptive Models. See [this academy challenge](https://academy.pega.com/challenge/exporting-historical-data/v4) for reference. This historical data can be further used to experiment with offline models, but also to fine-tune the OOTB Gradient Boosting model. However, sharing this information with Pega can be sensitive as it contains raw predictor data. \n",
    "\n",
    "To this end, we provide a simple and transparent script to fully anonimize this dataset.\n",
    "\n",
    "The DataAnonymization script is now part of pdstools, and you can import it directly as such."
   ]
  },
  {
   "cell_type": "code",
   "execution_count": 1,
   "metadata": {
    "execution": {
     "iopub.execute_input": "2023-10-20T10:06:30.482509Z",
     "iopub.status.busy": "2023-10-20T10:06:30.482056Z",
     "iopub.status.idle": "2023-10-20T10:06:30.585607Z",
     "shell.execute_reply": "2023-10-20T10:06:30.584872Z"
    },
    "nbsphinx": "hidden"
   },
   "outputs": [],
   "source": [
    "# These lines are only for rendering in the docs, and are hidden through Jupyter tags\n",
    "# Do not run if you're running the notebook seperately\n",
    "\n",
    "import os  \n",
    "import sys\n",
    "import plotly.io as pio\n",
    "pio.renderers.default = \"notebook_connected\"\n",
    "\n",
    "sys.path.append(\"../../../\")\n",
    "sys.path.append('../../python')"
   ]
  },
  {
   "cell_type": "code",
   "execution_count": 2,
   "metadata": {
    "execution": {
     "iopub.execute_input": "2023-10-20T10:06:30.588693Z",
     "iopub.status.busy": "2023-10-20T10:06:30.588453Z",
     "iopub.status.idle": "2023-10-20T10:06:32.017373Z",
     "shell.execute_reply": "2023-10-20T10:06:32.016669Z"
    }
   },
   "outputs": [],
   "source": [
    "from pdstools import ADMDatamart\n",
    "from pdstools import Config, DataAnonymization\n",
    "import polars as pl"
   ]
  },
  {
   "attachments": {},
   "cell_type": "markdown",
   "metadata": {},
   "source": [
    "## Input data\n",
    "\n",
    "To demonstrate this process, we're going to anonymise this toy example dataframe:"
   ]
  },
  {
   "cell_type": "code",
   "execution_count": 3,
   "metadata": {
    "execution": {
     "iopub.execute_input": "2023-10-20T10:06:32.020900Z",
     "iopub.status.busy": "2023-10-20T10:06:32.020234Z",
     "iopub.status.idle": "2023-10-20T10:06:32.033211Z",
     "shell.execute_reply": "2023-10-20T10:06:32.032634Z"
    }
   },
   "outputs": [
    {
     "data": {
      "text/html": [
       "<div><style>\n",
       ".dataframe > thead > tr > th,\n",
       ".dataframe > tbody > tr > td {\n",
       "  text-align: right;\n",
       "  white-space: pre-wrap;\n",
       "}\n",
       "</style>\n",
       "<small>shape: (7, 6)</small><table border=\"1\" class=\"dataframe\"><thead><tr><th>Context_Name</th><th>Customer_MaritalStatus</th><th>Customer_CLV</th><th>Customer_City</th><th>IH_Web_Inbound_Accepted_pxLastGroupID</th><th>Decision_Outcome</th></tr><tr><td>str</td><td>str</td><td>i64</td><td>str</td><td>str</td><td>str</td></tr></thead><tbody><tr><td>&quot;FirstMortgage3…</td><td>&quot;Married&quot;</td><td>1460</td><td>&quot;Port Raoul&quot;</td><td>&quot;Account&quot;</td><td>&quot;Rejected&quot;</td></tr><tr><td>&quot;FirstMortgage3…</td><td>&quot;Unknown&quot;</td><td>669</td><td>&quot;Laurianneshire…</td><td>&quot;AutoLoans&quot;</td><td>&quot;Accepted&quot;</td></tr><tr><td>&quot;MoneyMarketSav…</td><td>&quot;No Resp+&quot;</td><td>1174</td><td>&quot;Jacobshaven&quot;</td><td>&quot;Account&quot;</td><td>&quot;Rejected&quot;</td></tr><tr><td>&quot;BasicChecking&quot;</td><td>&quot;Unknown&quot;</td><td>1476</td><td>&quot;Lindton&quot;</td><td>&quot;Account&quot;</td><td>&quot;Rejected&quot;</td></tr><tr><td>&quot;BasicChecking&quot;</td><td>&quot;Married&quot;</td><td>1211</td><td>&quot;South Jimmiesh…</td><td>&quot;DepositAccount…</td><td>&quot;Accepted&quot;</td></tr><tr><td>&quot;UPlusFinPerson…</td><td>&quot;No Resp+&quot;</td><td>533</td><td>&quot;Bergeville&quot;</td><td>null</td><td>&quot;Rejected&quot;</td></tr><tr><td>&quot;BasicChecking&quot;</td><td>&quot;No Resp+&quot;</td><td>555</td><td>&quot;Willyville&quot;</td><td>&quot;DepositAccount…</td><td>&quot;Rejected&quot;</td></tr></tbody></table></div>"
      ],
      "text/plain": [
       "shape: (7, 6)\n",
       "┌────────────────┬────────────────┬──────────────┬────────────────┬────────────────┬───────────────┐\n",
       "│ Context_Name   ┆ Customer_Marit ┆ Customer_CLV ┆ Customer_City  ┆ IH_Web_Inbound ┆ Decision_Outc │\n",
       "│ ---            ┆ alStatus       ┆ ---          ┆ ---            ┆ _Accepted_pxLa ┆ ome           │\n",
       "│ str            ┆ ---            ┆ i64          ┆ str            ┆ stGr…          ┆ ---           │\n",
       "│                ┆ str            ┆              ┆                ┆ ---            ┆ str           │\n",
       "│                ┆                ┆              ┆                ┆ str            ┆               │\n",
       "╞════════════════╪════════════════╪══════════════╪════════════════╪════════════════╪═══════════════╡\n",
       "│ FirstMortgage3 ┆ Married        ┆ 1460         ┆ Port Raoul     ┆ Account        ┆ Rejected      │\n",
       "│ 0yr            ┆                ┆              ┆                ┆                ┆               │\n",
       "│ FirstMortgage3 ┆ Unknown        ┆ 669          ┆ Laurianneshire ┆ AutoLoans      ┆ Accepted      │\n",
       "│ 0yr            ┆                ┆              ┆                ┆                ┆               │\n",
       "│ MoneyMarketSav ┆ No Resp+       ┆ 1174         ┆ Jacobshaven    ┆ Account        ┆ Rejected      │\n",
       "│ ingsAccount    ┆                ┆              ┆                ┆                ┆               │\n",
       "│ BasicChecking  ┆ Unknown        ┆ 1476         ┆ Lindton        ┆ Account        ┆ Rejected      │\n",
       "│ BasicChecking  ┆ Married        ┆ 1211         ┆ South          ┆ DepositAccount ┆ Accepted      │\n",
       "│                ┆                ┆              ┆ Jimmieshire    ┆ s              ┆               │\n",
       "│ UPlusFinPerson ┆ No Resp+       ┆ 533          ┆ Bergeville     ┆ null           ┆ Rejected      │\n",
       "│ al             ┆                ┆              ┆                ┆                ┆               │\n",
       "│ BasicChecking  ┆ No Resp+       ┆ 555          ┆ Willyville     ┆ DepositAccount ┆ Rejected      │\n",
       "│                ┆                ┆              ┆                ┆ s              ┆               │\n",
       "└────────────────┴────────────────┴──────────────┴────────────────┴────────────────┴───────────────┘"
      ]
     },
     "execution_count": 3,
     "metadata": {},
     "output_type": "execute_result"
    }
   ],
   "source": [
    "pl.read_ndjson('../../../../data/SampleHDS.json')"
   ]
  },
  {
   "attachments": {},
   "cell_type": "markdown",
   "metadata": {},
   "source": [
    "As you can see, this dataset consists of regular predictors, IH predictors, context keys and the outcome column. Additionally, some columns are numeric, others are strings. Let's first initialize the DataAnonymization class."
   ]
  },
  {
   "cell_type": "code",
   "execution_count": 4,
   "metadata": {
    "execution": {
     "iopub.execute_input": "2023-10-20T10:06:32.036097Z",
     "iopub.status.busy": "2023-10-20T10:06:32.035637Z",
     "iopub.status.idle": "2023-10-20T10:06:32.051242Z",
     "shell.execute_reply": "2023-10-20T10:06:32.050518Z"
    }
   },
   "outputs": [],
   "source": [
    "anon = DataAnonymization(hds_folder='../../../../data/')"
   ]
  },
  {
   "attachments": {},
   "cell_type": "markdown",
   "metadata": {},
   "source": [
    "By default, the class applies a set of anonymisation techniques:\n",
    "- Column names are remapped to a non-descriptive name\n",
    "- Categorical values are hashed with a random seed\n",
    "- Numerical values are normalized between 0 and 1\n",
    "- Outcomes are mapped to a binary outcome.\n",
    "\n",
    "To apply these techniques, simply call `.process()`:"
   ]
  },
  {
   "cell_type": "code",
   "execution_count": 5,
   "metadata": {
    "execution": {
     "iopub.execute_input": "2023-10-20T10:06:32.058496Z",
     "iopub.status.busy": "2023-10-20T10:06:32.057829Z",
     "iopub.status.idle": "2023-10-20T10:06:32.066244Z",
     "shell.execute_reply": "2023-10-20T10:06:32.065461Z"
    }
   },
   "outputs": [
    {
     "data": {
      "text/html": [
       "<div><style>\n",
       ".dataframe > thead > tr > th,\n",
       ".dataframe > tbody > tr > td {\n",
       "  text-align: right;\n",
       "  white-space: pre-wrap;\n",
       "}\n",
       "</style>\n",
       "<small>shape: (7, 7)</small><table border=\"1\" class=\"dataframe\"><thead><tr><th>PREDICTOR_0</th><th>PREDICTOR_1</th><th>filename</th><th>PREDICTOR_3</th><th>Context_Name</th><th>IH_PREDICTOR_0</th><th>Decision_Outcome</th></tr><tr><td>str</td><td>str</td><td>str</td><td>f64</td><td>str</td><td>str</td><td>bool</td></tr></thead><tbody><tr><td>&quot;35297511452520…</td><td>&quot;12205781809177…</td><td>&quot;../../../../da…</td><td>1.2927e19</td><td>&quot;20116113536822…</td><td>&quot;68523519205794…</td><td>false</td></tr><tr><td>&quot;27383415449903…</td><td>&quot;12581066555718…</td><td>&quot;../../../../da…</td><td>1.4856e19</td><td>&quot;20116113536822…</td><td>&quot;38162534434918…</td><td>true</td></tr><tr><td>&quot;92246616804290…</td><td>&quot;16775272001526…</td><td>&quot;../../../../da…</td><td>5.6458e17</td><td>&quot;50266615208252…</td><td>&quot;68523519205794…</td><td>false</td></tr><tr><td>&quot;27383415449903…</td><td>&quot;93711548657859…</td><td>&quot;../../../../da…</td><td>4.0723e18</td><td>&quot;18371951818206…</td><td>&quot;68523519205794…</td><td>false</td></tr><tr><td>&quot;35297511452520…</td><td>&quot;17511552217308…</td><td>&quot;../../../../da…</td><td>1.4677e19</td><td>&quot;18371951818206…</td><td>&quot;89135751406178…</td><td>true</td></tr><tr><td>&quot;92246616804290…</td><td>&quot;77153316259025…</td><td>&quot;../../../../da…</td><td>1.6330e19</td><td>&quot;95911349736429…</td><td>null</td><td>false</td></tr><tr><td>&quot;92246616804290…</td><td>&quot;32651549020455…</td><td>&quot;../../../../da…</td><td>8.7675e18</td><td>&quot;18371951818206…</td><td>&quot;89135751406178…</td><td>false</td></tr></tbody></table></div>"
      ],
      "text/plain": [
       "shape: (7, 7)\n",
       "┌──────────────┬─────────────┬─────────────┬─────────────┬─────────────┬─────────────┬─────────────┐\n",
       "│ PREDICTOR_0  ┆ PREDICTOR_1 ┆ filename    ┆ PREDICTOR_3 ┆ Context_Nam ┆ IH_PREDICTO ┆ Decision_Ou │\n",
       "│ ---          ┆ ---         ┆ ---         ┆ ---         ┆ e           ┆ R_0         ┆ tcome       │\n",
       "│ str          ┆ str         ┆ str         ┆ f64         ┆ ---         ┆ ---         ┆ ---         │\n",
       "│              ┆             ┆             ┆             ┆ str         ┆ str         ┆ bool        │\n",
       "╞══════════════╪═════════════╪═════════════╪═════════════╪═════════════╪═════════════╪═════════════╡\n",
       "│ 352975114525 ┆ 12205781809 ┆ ../../../.. ┆ 1.2927e19   ┆ 20116113536 ┆ 68523519205 ┆ false       │\n",
       "│ 2014950      ┆ 177054793   ┆ /data/Sampl ┆             ┆ 82267369    ┆ 79473705    ┆             │\n",
       "│              ┆             ┆ eHDS.json   ┆             ┆             ┆             ┆             │\n",
       "│ 273834154499 ┆ 12581066555 ┆ ../../../.. ┆ 1.4856e19   ┆ 20116113536 ┆ 38162534434 ┆ true        │\n",
       "│ 0373012      ┆ 718106080   ┆ /data/Sampl ┆             ┆ 82267369    ┆ 91897646    ┆             │\n",
       "│              ┆             ┆ eHDS.json   ┆             ┆             ┆             ┆             │\n",
       "│ 922466168042 ┆ 16775272001 ┆ ../../../.. ┆ 5.6458e17   ┆ 50266615208 ┆ 68523519205 ┆ false       │\n",
       "│ 9083979      ┆ 526972114   ┆ /data/Sampl ┆             ┆ 25223762    ┆ 79473705    ┆             │\n",
       "│              ┆             ┆ eHDS.json   ┆             ┆             ┆             ┆             │\n",
       "│ 273834154499 ┆ 93711548657 ┆ ../../../.. ┆ 4.0723e18   ┆ 18371951818 ┆ 68523519205 ┆ false       │\n",
       "│ 0373012      ┆ 8592886     ┆ /data/Sampl ┆             ┆ 206788208   ┆ 79473705    ┆             │\n",
       "│              ┆             ┆ eHDS.json   ┆             ┆             ┆             ┆             │\n",
       "│ 352975114525 ┆ 17511552217 ┆ ../../../.. ┆ 1.4677e19   ┆ 18371951818 ┆ 89135751406 ┆ true        │\n",
       "│ 2014950      ┆ 30865607    ┆ /data/Sampl ┆             ┆ 206788208   ┆ 17848942    ┆             │\n",
       "│              ┆             ┆ eHDS.json   ┆             ┆             ┆             ┆             │\n",
       "│ 922466168042 ┆ 77153316259 ┆ ../../../.. ┆ 1.6330e19   ┆ 95911349736 ┆ null        ┆ false       │\n",
       "│ 9083979      ┆ 02598946    ┆ /data/Sampl ┆             ┆ 42980600    ┆             ┆             │\n",
       "│              ┆             ┆ eHDS.json   ┆             ┆             ┆             ┆             │\n",
       "│ 922466168042 ┆ 32651549020 ┆ ../../../.. ┆ 8.7675e18   ┆ 18371951818 ┆ 89135751406 ┆ false       │\n",
       "│ 9083979      ┆ 45521269    ┆ /data/Sampl ┆             ┆ 206788208   ┆ 17848942    ┆             │\n",
       "│              ┆             ┆ eHDS.json   ┆             ┆             ┆             ┆             │\n",
       "└──────────────┴─────────────┴─────────────┴─────────────┴─────────────┴─────────────┴─────────────┘"
      ]
     },
     "execution_count": 5,
     "metadata": {},
     "output_type": "execute_result"
    }
   ],
   "source": [
    "anon.process()"
   ]
  },
  {
   "attachments": {},
   "cell_type": "markdown",
   "metadata": {},
   "source": [
    "To trace back the columns to their original names, the class also contains a mapping, which does not have to be provided."
   ]
  },
  {
   "cell_type": "code",
   "execution_count": 6,
   "metadata": {
    "execution": {
     "iopub.execute_input": "2023-10-20T10:06:32.069300Z",
     "iopub.status.busy": "2023-10-20T10:06:32.068850Z",
     "iopub.status.idle": "2023-10-20T10:06:32.074477Z",
     "shell.execute_reply": "2023-10-20T10:06:32.073786Z"
    }
   },
   "outputs": [
    {
     "data": {
      "text/plain": [
       "{'Customer_MaritalStatus': 'PREDICTOR_0',\n",
       " 'Customer_City': 'PREDICTOR_1',\n",
       " 'filename': 'filename',\n",
       " 'Customer_CLV': 'PREDICTOR_3',\n",
       " 'Context_Name': 'Context_Name',\n",
       " 'IH_Web_Inbound_Accepted_pxLastGroupID': 'IH_PREDICTOR_0',\n",
       " 'Decision_Outcome': 'Decision_Outcome'}"
      ]
     },
     "execution_count": 6,
     "metadata": {},
     "output_type": "execute_result"
    }
   ],
   "source": [
    "anon.column_mapping"
   ]
  },
  {
   "attachments": {},
   "cell_type": "markdown",
   "metadata": {},
   "source": [
    "## Configs\n",
    "\n",
    "Each capability can optionally be turned off - see below for the full list of config options, and refer to the API reference for the full description."
   ]
  },
  {
   "cell_type": "code",
   "execution_count": 7,
   "metadata": {
    "execution": {
     "iopub.execute_input": "2023-10-20T10:06:32.078407Z",
     "iopub.status.busy": "2023-10-20T10:06:32.077915Z",
     "iopub.status.idle": "2023-10-20T10:06:32.083610Z",
     "shell.execute_reply": "2023-10-20T10:06:32.082929Z"
    }
   },
   "outputs": [
    {
     "data": {
      "text/plain": [
       "{'config_file': None,\n",
       " 'hds_folder': '.',\n",
       " 'use_datamart': False,\n",
       " 'datamart_folder': 'datamart',\n",
       " 'output_format': 'ndjson',\n",
       " 'output_folder': 'output',\n",
       " 'mapping_file': 'mapping.map',\n",
       " 'mask_predictor_names': True,\n",
       " 'mask_context_key_names': False,\n",
       " 'mask_ih_names': True,\n",
       " 'mask_outcome_name': False,\n",
       " 'mask_predictor_values': True,\n",
       " 'mask_context_key_values': True,\n",
       " 'mask_ih_values': True,\n",
       " 'mask_outcome_values': True,\n",
       " 'context_key_label': 'Context_*',\n",
       " 'ih_label': 'IH_*',\n",
       " 'outcome_column': 'Decision_Outcome',\n",
       " 'positive_outcomes': ['Accepted', 'Clicked'],\n",
       " 'negative_outcomes': ['Rejected', 'Impression'],\n",
       " 'special_predictors': ['Decision_DecisionTime',\n",
       "  'Decision_OutcomeTime',\n",
       "  'Decision_Rank'],\n",
       " 'sample_percentage_schema_inferencing': 0.01}"
      ]
     },
     "execution_count": 7,
     "metadata": {},
     "output_type": "execute_result"
    }
   ],
   "source": [
    "dict(zip(Config.__init__.__code__.co_varnames[1:], Config.__init__.__defaults__))"
   ]
  },
  {
   "attachments": {},
   "cell_type": "markdown",
   "metadata": {},
   "source": [
    "It's easy to change these parameters by just passing the keyword arguments. In the following example, we\n",
    "- Keep the IH predictor names\n",
    "- Keep the outcome values\n",
    "- Keep the context key values\n",
    "- Keep the context key predictor names"
   ]
  },
  {
   "cell_type": "code",
   "execution_count": 8,
   "metadata": {
    "execution": {
     "iopub.execute_input": "2023-10-20T10:06:32.092516Z",
     "iopub.status.busy": "2023-10-20T10:06:32.092262Z",
     "iopub.status.idle": "2023-10-20T10:06:32.114209Z",
     "shell.execute_reply": "2023-10-20T10:06:32.112659Z"
    }
   },
   "outputs": [
    {
     "data": {
      "text/html": [
       "<div><style>\n",
       ".dataframe > thead > tr > th,\n",
       ".dataframe > tbody > tr > td {\n",
       "  text-align: right;\n",
       "  white-space: pre-wrap;\n",
       "}\n",
       "</style>\n",
       "<small>shape: (7, 7)</small><table border=\"1\" class=\"dataframe\"><thead><tr><th>PREDICTOR_0</th><th>PREDICTOR_1</th><th>filename</th><th>PREDICTOR_3</th><th>Context_Name</th><th>IH_Web_Inbound_Accepted_pxLastGroupID</th><th>Decision_Outcome</th></tr><tr><td>str</td><td>str</td><td>str</td><td>f64</td><td>str</td><td>str</td><td>str</td></tr></thead><tbody><tr><td>&quot;97014741931407…</td><td>&quot;64596308438422…</td><td>&quot;../../../../da…</td><td>1.2927e19</td><td>&quot;FirstMortgage3…</td><td>&quot;46662202472630…</td><td>&quot;Rejected&quot;</td></tr><tr><td>&quot;53996553572748…</td><td>&quot;29147304715751…</td><td>&quot;../../../../da…</td><td>1.4856e19</td><td>&quot;FirstMortgage3…</td><td>&quot;13903824627253…</td><td>&quot;Accepted&quot;</td></tr><tr><td>&quot;24732360888066…</td><td>&quot;89491962926805…</td><td>&quot;../../../../da…</td><td>5.6458e17</td><td>&quot;MoneyMarketSav…</td><td>&quot;46662202472630…</td><td>&quot;Rejected&quot;</td></tr><tr><td>&quot;53996553572748…</td><td>&quot;57840243202668…</td><td>&quot;../../../../da…</td><td>4.0723e18</td><td>&quot;BasicChecking&quot;</td><td>&quot;46662202472630…</td><td>&quot;Rejected&quot;</td></tr><tr><td>&quot;97014741931407…</td><td>&quot;47066384931957…</td><td>&quot;../../../../da…</td><td>1.4677e19</td><td>&quot;BasicChecking&quot;</td><td>&quot;14932246462691…</td><td>&quot;Accepted&quot;</td></tr><tr><td>&quot;24732360888066…</td><td>&quot;11935585300249…</td><td>&quot;../../../../da…</td><td>1.6330e19</td><td>&quot;UPlusFinPerson…</td><td>null</td><td>&quot;Rejected&quot;</td></tr><tr><td>&quot;24732360888066…</td><td>&quot;16229816639402…</td><td>&quot;../../../../da…</td><td>8.7675e18</td><td>&quot;BasicChecking&quot;</td><td>&quot;14932246462691…</td><td>&quot;Rejected&quot;</td></tr></tbody></table></div>"
      ],
      "text/plain": [
       "shape: (7, 7)\n",
       "┌──────────────┬─────────────┬─────────────┬─────────────┬─────────────┬─────────────┬─────────────┐\n",
       "│ PREDICTOR_0  ┆ PREDICTOR_1 ┆ filename    ┆ PREDICTOR_3 ┆ Context_Nam ┆ IH_Web_Inbo ┆ Decision_Ou │\n",
       "│ ---          ┆ ---         ┆ ---         ┆ ---         ┆ e           ┆ und_Accepte ┆ tcome       │\n",
       "│ str          ┆ str         ┆ str         ┆ f64         ┆ ---         ┆ d_pxLastGr… ┆ ---         │\n",
       "│              ┆             ┆             ┆             ┆ str         ┆ ---         ┆ str         │\n",
       "│              ┆             ┆             ┆             ┆             ┆ str         ┆             │\n",
       "╞══════════════╪═════════════╪═════════════╪═════════════╪═════════════╪═════════════╪═════════════╡\n",
       "│ 970147419314 ┆ 64596308438 ┆ ../../../.. ┆ 1.2927e19   ┆ FirstMortga ┆ 46662202472 ┆ Rejected    │\n",
       "│ 0769971      ┆ 42241874    ┆ /data/Sampl ┆             ┆ ge30yr      ┆ 63056314    ┆             │\n",
       "│              ┆             ┆ eHDS.json   ┆             ┆             ┆             ┆             │\n",
       "│ 539965535727 ┆ 29147304715 ┆ ../../../.. ┆ 1.4856e19   ┆ FirstMortga ┆ 13903824627 ┆ Accepted    │\n",
       "│ 4825901      ┆ 75199303    ┆ /data/Sampl ┆             ┆ ge30yr      ┆ 253381007   ┆             │\n",
       "│              ┆             ┆ eHDS.json   ┆             ┆             ┆             ┆             │\n",
       "│ 247323608880 ┆ 89491962926 ┆ ../../../.. ┆ 5.6458e17   ┆ MoneyMarket ┆ 46662202472 ┆ Rejected    │\n",
       "│ 6631987      ┆ 80526684    ┆ /data/Sampl ┆             ┆ SavingsAcco ┆ 63056314    ┆             │\n",
       "│              ┆             ┆ eHDS.json   ┆             ┆ unt         ┆             ┆             │\n",
       "│ 539965535727 ┆ 57840243202 ┆ ../../../.. ┆ 4.0723e18   ┆ BasicChecki ┆ 46662202472 ┆ Rejected    │\n",
       "│ 4825901      ┆ 66875999    ┆ /data/Sampl ┆             ┆ ng          ┆ 63056314    ┆             │\n",
       "│              ┆             ┆ eHDS.json   ┆             ┆             ┆             ┆             │\n",
       "│ 970147419314 ┆ 47066384931 ┆ ../../../.. ┆ 1.4677e19   ┆ BasicChecki ┆ 14932246462 ┆ Accepted    │\n",
       "│ 0769971      ┆ 9575843     ┆ /data/Sampl ┆             ┆ ng          ┆ 691629695   ┆             │\n",
       "│              ┆             ┆ eHDS.json   ┆             ┆             ┆             ┆             │\n",
       "│ 247323608880 ┆ 11935585300 ┆ ../../../.. ┆ 1.6330e19   ┆ UPlusFinPer ┆ null        ┆ Rejected    │\n",
       "│ 6631987      ┆ 249568553   ┆ /data/Sampl ┆             ┆ sonal       ┆             ┆             │\n",
       "│              ┆             ┆ eHDS.json   ┆             ┆             ┆             ┆             │\n",
       "│ 247323608880 ┆ 16229816639 ┆ ../../../.. ┆ 8.7675e18   ┆ BasicChecki ┆ 14932246462 ┆ Rejected    │\n",
       "│ 6631987      ┆ 402763041   ┆ /data/Sampl ┆             ┆ ng          ┆ 691629695   ┆             │\n",
       "│              ┆             ┆ eHDS.json   ┆             ┆             ┆             ┆             │\n",
       "└──────────────┴─────────────┴─────────────┴─────────────┴─────────────┴─────────────┴─────────────┘"
      ]
     },
     "execution_count": 8,
     "metadata": {},
     "output_type": "execute_result"
    }
   ],
   "source": [
    "anon = DataAnonymization(\n",
    "    hds_folder=\"../../../../data/\",\n",
    "    mask_ih_names=False,\n",
    "    mask_outcome_values=False,\n",
    "    mask_context_key_values=False,\n",
    "    mask_context_key_names=False,\n",
    ")\n",
    "anon.process()\n"
   ]
  },
  {
   "attachments": {},
   "cell_type": "markdown",
   "metadata": {},
   "source": [
    "The configs can also be written and read as such:"
   ]
  },
  {
   "cell_type": "code",
   "execution_count": 9,
   "metadata": {
    "execution": {
     "iopub.execute_input": "2023-10-20T10:06:32.118168Z",
     "iopub.status.busy": "2023-10-20T10:06:32.117676Z",
     "iopub.status.idle": "2023-10-20T10:06:32.122515Z",
     "shell.execute_reply": "2023-10-20T10:06:32.121264Z"
    }
   },
   "outputs": [],
   "source": [
    "anon.config.save_to_config_file('config.json')"
   ]
  },
  {
   "cell_type": "code",
   "execution_count": 10,
   "metadata": {
    "execution": {
     "iopub.execute_input": "2023-10-20T10:06:32.126030Z",
     "iopub.status.busy": "2023-10-20T10:06:32.125648Z",
     "iopub.status.idle": "2023-10-20T10:06:32.143968Z",
     "shell.execute_reply": "2023-10-20T10:06:32.143109Z"
    }
   },
   "outputs": [
    {
     "data": {
      "text/html": [
       "<div><style>\n",
       ".dataframe > thead > tr > th,\n",
       ".dataframe > tbody > tr > td {\n",
       "  text-align: right;\n",
       "  white-space: pre-wrap;\n",
       "}\n",
       "</style>\n",
       "<small>shape: (7, 7)</small><table border=\"1\" class=\"dataframe\"><thead><tr><th>PREDICTOR_0</th><th>PREDICTOR_1</th><th>filename</th><th>PREDICTOR_3</th><th>Context_Name</th><th>IH_Web_Inbound_Accepted_pxLastGroupID</th><th>Decision_Outcome</th></tr><tr><td>str</td><td>str</td><td>str</td><td>f64</td><td>str</td><td>str</td><td>str</td></tr></thead><tbody><tr><td>&quot;39573636346289…</td><td>&quot;14225466524881…</td><td>&quot;../../../../da…</td><td>1.2927e19</td><td>&quot;FirstMortgage3…</td><td>&quot;14791668680699…</td><td>&quot;Rejected&quot;</td></tr><tr><td>&quot;25388463409502…</td><td>&quot;78483675807540…</td><td>&quot;../../../../da…</td><td>1.4856e19</td><td>&quot;FirstMortgage3…</td><td>&quot;88475247097963…</td><td>&quot;Accepted&quot;</td></tr><tr><td>&quot;21621112629872…</td><td>&quot;17509722037825…</td><td>&quot;../../../../da…</td><td>5.6458e17</td><td>&quot;MoneyMarketSav…</td><td>&quot;14791668680699…</td><td>&quot;Rejected&quot;</td></tr><tr><td>&quot;25388463409502…</td><td>&quot;13509202595818…</td><td>&quot;../../../../da…</td><td>4.0723e18</td><td>&quot;BasicChecking&quot;</td><td>&quot;14791668680699…</td><td>&quot;Rejected&quot;</td></tr><tr><td>&quot;39573636346289…</td><td>&quot;66932023545827…</td><td>&quot;../../../../da…</td><td>1.4677e19</td><td>&quot;BasicChecking&quot;</td><td>&quot;16560061994683…</td><td>&quot;Accepted&quot;</td></tr><tr><td>&quot;21621112629872…</td><td>&quot;11676612605639…</td><td>&quot;../../../../da…</td><td>1.6330e19</td><td>&quot;UPlusFinPerson…</td><td>null</td><td>&quot;Rejected&quot;</td></tr><tr><td>&quot;21621112629872…</td><td>&quot;49067862927153…</td><td>&quot;../../../../da…</td><td>8.7675e18</td><td>&quot;BasicChecking&quot;</td><td>&quot;16560061994683…</td><td>&quot;Rejected&quot;</td></tr></tbody></table></div>"
      ],
      "text/plain": [
       "shape: (7, 7)\n",
       "┌──────────────┬─────────────┬─────────────┬─────────────┬─────────────┬─────────────┬─────────────┐\n",
       "│ PREDICTOR_0  ┆ PREDICTOR_1 ┆ filename    ┆ PREDICTOR_3 ┆ Context_Nam ┆ IH_Web_Inbo ┆ Decision_Ou │\n",
       "│ ---          ┆ ---         ┆ ---         ┆ ---         ┆ e           ┆ und_Accepte ┆ tcome       │\n",
       "│ str          ┆ str         ┆ str         ┆ f64         ┆ ---         ┆ d_pxLastGr… ┆ ---         │\n",
       "│              ┆             ┆             ┆             ┆ str         ┆ ---         ┆ str         │\n",
       "│              ┆             ┆             ┆             ┆             ┆ str         ┆             │\n",
       "╞══════════════╪═════════════╪═════════════╪═════════════╪═════════════╪═════════════╪═════════════╡\n",
       "│ 395736363462 ┆ 14225466524 ┆ ../../../.. ┆ 1.2927e19   ┆ FirstMortga ┆ 14791668680 ┆ Rejected    │\n",
       "│ 8986588      ┆ 881125927   ┆ /data/Sampl ┆             ┆ ge30yr      ┆ 699337276   ┆             │\n",
       "│              ┆             ┆ eHDS.json   ┆             ┆             ┆             ┆             │\n",
       "│ 253884634095 ┆ 78483675807 ┆ ../../../.. ┆ 1.4856e19   ┆ FirstMortga ┆ 88475247097 ┆ Accepted    │\n",
       "│ 0262623      ┆ 5408426     ┆ /data/Sampl ┆             ┆ ge30yr      ┆ 96391635    ┆             │\n",
       "│              ┆             ┆ eHDS.json   ┆             ┆             ┆             ┆             │\n",
       "│ 216211126298 ┆ 17509722037 ┆ ../../../.. ┆ 5.6458e17   ┆ MoneyMarket ┆ 14791668680 ┆ Rejected    │\n",
       "│ 7292724      ┆ 825038197   ┆ /data/Sampl ┆             ┆ SavingsAcco ┆ 699337276   ┆             │\n",
       "│              ┆             ┆ eHDS.json   ┆             ┆ unt         ┆             ┆             │\n",
       "│ 253884634095 ┆ 13509202595 ┆ ../../../.. ┆ 4.0723e18   ┆ BasicChecki ┆ 14791668680 ┆ Rejected    │\n",
       "│ 0262623      ┆ 81808829    ┆ /data/Sampl ┆             ┆ ng          ┆ 699337276   ┆             │\n",
       "│              ┆             ┆ eHDS.json   ┆             ┆             ┆             ┆             │\n",
       "│ 395736363462 ┆ 66932023545 ┆ ../../../.. ┆ 1.4677e19   ┆ BasicChecki ┆ 16560061994 ┆ Accepted    │\n",
       "│ 8986588      ┆ 82752680    ┆ /data/Sampl ┆             ┆ ng          ┆ 683401926   ┆             │\n",
       "│              ┆             ┆ eHDS.json   ┆             ┆             ┆             ┆             │\n",
       "│ 216211126298 ┆ 11676612605 ┆ ../../../.. ┆ 1.6330e19   ┆ UPlusFinPer ┆ null        ┆ Rejected    │\n",
       "│ 7292724      ┆ 639118748   ┆ /data/Sampl ┆             ┆ sonal       ┆             ┆             │\n",
       "│              ┆             ┆ eHDS.json   ┆             ┆             ┆             ┆             │\n",
       "│ 216211126298 ┆ 49067862927 ┆ ../../../.. ┆ 8.7675e18   ┆ BasicChecki ┆ 16560061994 ┆ Rejected    │\n",
       "│ 7292724      ┆ 15317368    ┆ /data/Sampl ┆             ┆ ng          ┆ 683401926   ┆             │\n",
       "│              ┆             ┆ eHDS.json   ┆             ┆             ┆             ┆             │\n",
       "└──────────────┴─────────────┴─────────────┴─────────────┴─────────────┴─────────────┴─────────────┘"
      ]
     },
     "execution_count": 10,
     "metadata": {},
     "output_type": "execute_result"
    }
   ],
   "source": [
    "anon = DataAnonymization(config=Config(config_file='config.json'))\n",
    "anon.process()"
   ]
  },
  {
   "attachments": {},
   "cell_type": "markdown",
   "metadata": {},
   "source": [
    "## Exporting\n",
    "Two functions export:\n",
    "- `create_mapping_file()` writes the mapping file of the predictor names\n",
    "- `write_to_output()` writes the processed dataframe to disk\n",
    "\n",
    "Write to output accepts the following extensions: `[\"ndjson\", \"parquet\", \"arrow\", \"csv\"]`"
   ]
  },
  {
   "cell_type": "code",
   "execution_count": 11,
   "metadata": {
    "execution": {
     "iopub.execute_input": "2023-10-20T10:06:32.147661Z",
     "iopub.status.busy": "2023-10-20T10:06:32.147124Z",
     "iopub.status.idle": "2023-10-20T10:06:32.153308Z",
     "shell.execute_reply": "2023-10-20T10:06:32.152504Z"
    }
   },
   "outputs": [
    {
     "name": "stdout",
     "output_type": "stream",
     "text": [
      "Customer_MaritalStatus=PREDICTOR_0\n",
      "Customer_City=PREDICTOR_1\n",
      "filename=filename\n",
      "Customer_CLV=PREDICTOR_3\n",
      "Context_Name=Context_Name\n",
      "IH_Web_Inbound_Accepted_pxLastGroupID=IH_Web_Inbound_Accepted_pxLastGroupID\n",
      "Decision_Outcome=Decision_Outcome\n",
      "\n"
     ]
    }
   ],
   "source": [
    "anon.create_mapping_file()\n",
    "with open('mapping.map') as f:\n",
    "    print(f.read())"
   ]
  },
  {
   "cell_type": "code",
   "execution_count": 12,
   "metadata": {
    "execution": {
     "iopub.execute_input": "2023-10-20T10:06:32.156247Z",
     "iopub.status.busy": "2023-10-20T10:06:32.155685Z",
     "iopub.status.idle": "2023-10-20T10:06:32.161053Z",
     "shell.execute_reply": "2023-10-20T10:06:32.160458Z"
    }
   },
   "outputs": [],
   "source": [
    "anon.write_to_output(ext='arrow')"
   ]
  },
  {
   "cell_type": "code",
   "execution_count": 13,
   "metadata": {
    "execution": {
     "iopub.execute_input": "2023-10-20T10:06:32.165166Z",
     "iopub.status.busy": "2023-10-20T10:06:32.164461Z",
     "iopub.status.idle": "2023-10-20T10:06:32.171590Z",
     "shell.execute_reply": "2023-10-20T10:06:32.171010Z"
    }
   },
   "outputs": [
    {
     "data": {
      "text/html": [
       "<div><style>\n",
       ".dataframe > thead > tr > th,\n",
       ".dataframe > tbody > tr > td {\n",
       "  text-align: right;\n",
       "  white-space: pre-wrap;\n",
       "}\n",
       "</style>\n",
       "<small>shape: (7, 6)</small><table border=\"1\" class=\"dataframe\"><thead><tr><th>PREDICTOR_0</th><th>PREDICTOR_1</th><th>PREDICTOR_3</th><th>Context_Name</th><th>IH_Web_Inbound_Accepted_pxLastGroupID</th><th>Decision_Outcome</th></tr><tr><td>str</td><td>str</td><td>f64</td><td>str</td><td>str</td><td>str</td></tr></thead><tbody><tr><td>&quot;13184945797884…</td><td>&quot;10276695931926…</td><td>1.2927e19</td><td>&quot;FirstMortgage3…</td><td>&quot;72024473751142…</td><td>&quot;Rejected&quot;</td></tr><tr><td>&quot;12270694360721…</td><td>&quot;11224900536016…</td><td>1.4856e19</td><td>&quot;FirstMortgage3…</td><td>&quot;16213860258702…</td><td>&quot;Accepted&quot;</td></tr><tr><td>&quot;17766310523710…</td><td>&quot;38793150815761…</td><td>5.6458e17</td><td>&quot;MoneyMarketSav…</td><td>&quot;72024473751142…</td><td>&quot;Rejected&quot;</td></tr><tr><td>&quot;12270694360721…</td><td>&quot;53319834308163…</td><td>4.0723e18</td><td>&quot;BasicChecking&quot;</td><td>&quot;72024473751142…</td><td>&quot;Rejected&quot;</td></tr><tr><td>&quot;13184945797884…</td><td>&quot;13183674236199…</td><td>1.4677e19</td><td>&quot;BasicChecking&quot;</td><td>&quot;16977989988649…</td><td>&quot;Accepted&quot;</td></tr><tr><td>&quot;17766310523710…</td><td>&quot;14429860035201…</td><td>1.6330e19</td><td>&quot;UPlusFinPerson…</td><td>null</td><td>&quot;Rejected&quot;</td></tr><tr><td>&quot;17766310523710…</td><td>&quot;13208929485355…</td><td>8.7675e18</td><td>&quot;BasicChecking&quot;</td><td>&quot;16977989988649…</td><td>&quot;Rejected&quot;</td></tr></tbody></table></div>"
      ],
      "text/plain": [
       "shape: (7, 6)\n",
       "┌────────────────┬────────────────┬─────────────┬────────────────┬────────────────┬────────────────┐\n",
       "│ PREDICTOR_0    ┆ PREDICTOR_1    ┆ PREDICTOR_3 ┆ Context_Name   ┆ IH_Web_Inbound ┆ Decision_Outco │\n",
       "│ ---            ┆ ---            ┆ ---         ┆ ---            ┆ _Accepted_pxLa ┆ me             │\n",
       "│ str            ┆ str            ┆ f64         ┆ str            ┆ stGr…          ┆ ---            │\n",
       "│                ┆                ┆             ┆                ┆ ---            ┆ str            │\n",
       "│                ┆                ┆             ┆                ┆ str            ┆                │\n",
       "╞════════════════╪════════════════╪═════════════╪════════════════╪════════════════╪════════════════╡\n",
       "│ 13184945797884 ┆ 10276695931926 ┆ 1.2927e19   ┆ FirstMortgage3 ┆ 72024473751142 ┆ Rejected       │\n",
       "│ 471180         ┆ 113827         ┆             ┆ 0yr            ┆ 87742          ┆                │\n",
       "│ 12270694360721 ┆ 11224900536016 ┆ 1.4856e19   ┆ FirstMortgage3 ┆ 16213860258702 ┆ Accepted       │\n",
       "│ 518759         ┆ 686837         ┆             ┆ 0yr            ┆ 867354         ┆                │\n",
       "│ 17766310523710 ┆ 38793150815761 ┆ 5.6458e17   ┆ MoneyMarketSav ┆ 72024473751142 ┆ Rejected       │\n",
       "│ 994050         ┆ 67907          ┆             ┆ ingsAccount    ┆ 87742          ┆                │\n",
       "│ 12270694360721 ┆ 53319834308163 ┆ 4.0723e18   ┆ BasicChecking  ┆ 72024473751142 ┆ Rejected       │\n",
       "│ 518759         ┆ 49438          ┆             ┆                ┆ 87742          ┆                │\n",
       "│ 13184945797884 ┆ 13183674236199 ┆ 1.4677e19   ┆ BasicChecking  ┆ 16977989988649 ┆ Accepted       │\n",
       "│ 471180         ┆ 155200         ┆             ┆                ┆ 423131         ┆                │\n",
       "│ 17766310523710 ┆ 14429860035201 ┆ 1.6330e19   ┆ UPlusFinPerson ┆ null           ┆ Rejected       │\n",
       "│ 994050         ┆ 230428         ┆             ┆ al             ┆                ┆                │\n",
       "│ 17766310523710 ┆ 13208929485355 ┆ 8.7675e18   ┆ BasicChecking  ┆ 16977989988649 ┆ Rejected       │\n",
       "│ 994050         ┆ 710361         ┆             ┆                ┆ 423131         ┆                │\n",
       "└────────────────┴────────────────┴─────────────┴────────────────┴────────────────┴────────────────┘"
      ]
     },
     "execution_count": 13,
     "metadata": {},
     "output_type": "execute_result"
    }
   ],
   "source": [
    "pl.read_ipc('output/hds.arrow')"
   ]
  },
  {
   "attachments": {},
   "cell_type": "markdown",
   "metadata": {
    "nbsphinx": "hidden"
   },
   "source": [
    "## Advanced: Hash fuctions\n",
    "\n",
    "By default, we use [the same hashing algorithm Polars](https://pola-rs.github.io/polars/py-polars/html/reference/expressions/api/polars.Expr.hash.html#polars.Expr.hash) uses: [xxhash](https://github.com/Cyan4973/xxHash), as implemented [here](https://github.com/pola-rs/polars/blob/3f287f370b3c388ed2f3f218b2c096382548136f/polars/polars-core/src/vector_hasher.rs#L266). xxhash is fast to compute, and you can check its performance in collision, dispersion and randomness [here](https://github.com/Cyan4973/xxHash/tree/dev/tests). \n",
    "\n",
    "xxhash accepts four distinct seeds, but by default we set the seeds to `0`. It is possible to set the `seed` argument of the `process()` function to `'random'`, which will set all four seeds to a random integer between `0` and `1000000000`. Alternatively, it is possible to supply the four seeds manually with arguments `seed`, `seed_1`, `seed_2` and `seed_3`. \n",
    "\n",
    "If the xxhash with (random) seed(s) is not deemed sufficiently secure, it is possible to use your own hashing algorithm.\n",
    "\n",
    "Note that since we're now running python code and not native Polars code anymore, this will be _significantly_ slower. Nonetheless, it is possible.\n",
    "\n",
    "Just as an example - this is how one would use sha3_256:"
   ]
  },
  {
   "cell_type": "code",
   "execution_count": 14,
   "metadata": {
    "execution": {
     "iopub.execute_input": "2023-10-20T10:06:32.174745Z",
     "iopub.status.busy": "2023-10-20T10:06:32.174134Z",
     "iopub.status.idle": "2023-10-20T10:06:32.639783Z",
     "shell.execute_reply": "2023-10-20T10:06:32.638737Z"
    },
    "nbsphinx": "hidden"
   },
   "outputs": [
    {
     "ename": "ComputeError",
     "evalue": "AttributeError: 'int' object has no attribute 'encode'",
     "output_type": "error",
     "traceback": [
      "\u001b[0;31m---------------------------------------------------------------------------\u001b[0m",
      "\u001b[0;31mComputeError\u001b[0m                              Traceback (most recent call last)",
      "Cell \u001b[0;32mIn[14], line 3\u001b[0m\n\u001b[1;32m      1\u001b[0m \u001b[38;5;28;01mfrom\u001b[39;00m \u001b[38;5;21;01mhashlib\u001b[39;00m \u001b[38;5;28;01mimport\u001b[39;00m sha3_256\n\u001b[0;32m----> 3\u001b[0m \u001b[43manon\u001b[49m\u001b[38;5;241;43m.\u001b[39;49m\u001b[43mprocess\u001b[49m\u001b[43m(\u001b[49m\u001b[43malgorithm\u001b[49m\u001b[38;5;241;43m=\u001b[39;49m\u001b[38;5;28;43;01mlambda\u001b[39;49;00m\u001b[43m \u001b[49m\u001b[43mx\u001b[49m\u001b[43m:\u001b[49m\u001b[43m \u001b[49m\u001b[43msha3_256\u001b[49m\u001b[43m(\u001b[49m\u001b[43mx\u001b[49m\u001b[38;5;241;43m.\u001b[39;49m\u001b[43mencode\u001b[49m\u001b[43m(\u001b[49m\u001b[43m)\u001b[49m\u001b[43m)\u001b[49m\u001b[38;5;241;43m.\u001b[39;49m\u001b[43mhexdigest\u001b[49m\u001b[43m(\u001b[49m\u001b[43m)\u001b[49m\u001b[43m)\u001b[49m\n",
      "File \u001b[0;32m~/work/pega-datascientist-tools/pega-datascientist-tools/python/docs/source/articles/../../../pdstools/utils/hds_utils.py:516\u001b[0m, in \u001b[0;36mDataAnonymization.process\u001b[0;34m(self, strategy, **kwargs)\u001b[0m\n\u001b[1;32m    514\u001b[0m df \u001b[38;5;241m=\u001b[39m df\u001b[38;5;241m.\u001b[39mselect(\u001b[38;5;28mself\u001b[39m\u001b[38;5;241m.\u001b[39mcolumn_mapping\u001b[38;5;241m.\u001b[39mkeys())\u001b[38;5;241m.\u001b[39mrename(\u001b[38;5;28mself\u001b[39m\u001b[38;5;241m.\u001b[39mcolumn_mapping)\n\u001b[1;32m    515\u001b[0m \u001b[38;5;28;01mif\u001b[39;00m strategy \u001b[38;5;241m==\u001b[39m \u001b[38;5;124m\"\u001b[39m\u001b[38;5;124meager\u001b[39m\u001b[38;5;124m\"\u001b[39m:\n\u001b[0;32m--> 516\u001b[0m     \u001b[38;5;28;01mreturn\u001b[39;00m \u001b[43mdf\u001b[49m\u001b[38;5;241;43m.\u001b[39;49m\u001b[43mcollect\u001b[49m\u001b[43m(\u001b[49m\u001b[43m)\u001b[49m\n\u001b[1;32m    517\u001b[0m \u001b[38;5;28;01mreturn\u001b[39;00m df\n",
      "File \u001b[0;32m/opt/hostedtoolcache/Python/3.11.6/x64/lib/python3.11/site-packages/polars/utils/deprecation.py:95\u001b[0m, in \u001b[0;36mdeprecate_renamed_parameter.<locals>.decorate.<locals>.wrapper\u001b[0;34m(*args, **kwargs)\u001b[0m\n\u001b[1;32m     90\u001b[0m \u001b[38;5;129m@wraps\u001b[39m(function)\n\u001b[1;32m     91\u001b[0m \u001b[38;5;28;01mdef\u001b[39;00m \u001b[38;5;21mwrapper\u001b[39m(\u001b[38;5;241m*\u001b[39margs: P\u001b[38;5;241m.\u001b[39margs, \u001b[38;5;241m*\u001b[39m\u001b[38;5;241m*\u001b[39mkwargs: P\u001b[38;5;241m.\u001b[39mkwargs) \u001b[38;5;241m-\u001b[39m\u001b[38;5;241m>\u001b[39m T:\n\u001b[1;32m     92\u001b[0m     _rename_keyword_argument(\n\u001b[1;32m     93\u001b[0m         old_name, new_name, kwargs, function\u001b[38;5;241m.\u001b[39m\u001b[38;5;18m__name__\u001b[39m, version\n\u001b[1;32m     94\u001b[0m     )\n\u001b[0;32m---> 95\u001b[0m     \u001b[38;5;28;01mreturn\u001b[39;00m \u001b[43mfunction\u001b[49m\u001b[43m(\u001b[49m\u001b[38;5;241;43m*\u001b[39;49m\u001b[43margs\u001b[49m\u001b[43m,\u001b[49m\u001b[43m \u001b[49m\u001b[38;5;241;43m*\u001b[39;49m\u001b[38;5;241;43m*\u001b[39;49m\u001b[43mkwargs\u001b[49m\u001b[43m)\u001b[49m\n",
      "File \u001b[0;32m/opt/hostedtoolcache/Python/3.11.6/x64/lib/python3.11/site-packages/polars/lazyframe/frame.py:1711\u001b[0m, in \u001b[0;36mLazyFrame.collect\u001b[0;34m(self, type_coercion, predicate_pushdown, projection_pushdown, simplify_expression, no_optimization, slice_pushdown, comm_subplan_elim, comm_subexpr_elim, streaming, **kwargs)\u001b[0m\n\u001b[1;32m   1698\u001b[0m     comm_subplan_elim \u001b[38;5;241m=\u001b[39m \u001b[38;5;28;01mFalse\u001b[39;00m\n\u001b[1;32m   1700\u001b[0m ldf \u001b[38;5;241m=\u001b[39m \u001b[38;5;28mself\u001b[39m\u001b[38;5;241m.\u001b[39m_ldf\u001b[38;5;241m.\u001b[39moptimization_toggle(\n\u001b[1;32m   1701\u001b[0m     type_coercion,\n\u001b[1;32m   1702\u001b[0m     predicate_pushdown,\n\u001b[0;32m   (...)\u001b[0m\n\u001b[1;32m   1709\u001b[0m     eager,\n\u001b[1;32m   1710\u001b[0m )\n\u001b[0;32m-> 1711\u001b[0m \u001b[38;5;28;01mreturn\u001b[39;00m wrap_df(ldf\u001b[38;5;241m.\u001b[39mcollect())\n",
      "\u001b[0;31mComputeError\u001b[0m: AttributeError: 'int' object has no attribute 'encode'"
     ]
    }
   ],
   "source": [
    "from hashlib import sha3_256\n",
    "\n",
    "anon.process(algorithm=lambda x: sha3_256(x.encode()).hexdigest())"
   ]
  }
 ],
 "metadata": {
  "kernelspec": {
   "display_name": "Python 3",
   "language": "python",
   "name": "python3"
  },
  "language_info": {
   "codemirror_mode": {
    "name": "ipython",
    "version": 3
   },
   "file_extension": ".py",
   "mimetype": "text/x-python",
   "name": "python",
   "nbconvert_exporter": "python",
   "pygments_lexer": "ipython3",
   "version": "3.11.6"
  },
  "vscode": {
   "interpreter": {
    "hash": "aee8b7b246df8f9039afb4144a1f6fd8d2ca17a180786b69acc140d282b71a49"
   }
  }
 },
 "nbformat": 4,
 "nbformat_minor": 2
}
