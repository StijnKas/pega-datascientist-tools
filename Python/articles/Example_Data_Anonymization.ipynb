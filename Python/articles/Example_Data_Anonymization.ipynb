{
 "cells": [
  {
   "attachments": {},
   "cell_type": "markdown",
   "metadata": {},
   "source": [
    "# Example data anonymization\n",
    "\n",
    "In Pega CDH 8.5 and up, it's now possible to record the historical data as seen by the Adaptive Models. See [this academy challenge](https://academy.pega.com/challenge/exporting-historical-data/v4) for reference. This historical data can be further used to experiment with offline models, but also to fine-tune the OOTB Gradient Boosting model. However, sharing this information with Pega can be sensitive as it contains raw predictor data. \n",
    "\n",
    "To this end, we provide a simple and transparent script to fully anonimize this dataset.\n",
    "\n",
    "The DataAnonymization script is now part of pdstools, and you can import it directly as such."
   ]
  },
  {
   "cell_type": "code",
   "execution_count": 1,
   "metadata": {
    "execution": {
     "iopub.execute_input": "2023-09-22T14:43:17.764649Z",
     "iopub.status.busy": "2023-09-22T14:43:17.764433Z",
     "iopub.status.idle": "2023-09-22T14:43:17.867016Z",
     "shell.execute_reply": "2023-09-22T14:43:17.866076Z"
    },
    "nbsphinx": "hidden"
   },
   "outputs": [],
   "source": [
    "# These lines are only for rendering in the docs, and are hidden through Jupyter tags\n",
    "# Do not run if you're running the notebook seperately\n",
    "\n",
    "import os  \n",
    "import sys\n",
    "import plotly.io as pio\n",
    "pio.renderers.default = \"notebook_connected\"\n",
    "\n",
    "sys.path.append(\"../../../\")\n",
    "sys.path.append('../../python')"
   ]
  },
  {
   "cell_type": "code",
   "execution_count": 2,
   "metadata": {
    "execution": {
     "iopub.execute_input": "2023-09-22T14:43:17.871714Z",
     "iopub.status.busy": "2023-09-22T14:43:17.871434Z",
     "iopub.status.idle": "2023-09-22T14:43:19.352849Z",
     "shell.execute_reply": "2023-09-22T14:43:19.352050Z"
    }
   },
   "outputs": [],
   "source": [
    "from pdstools import ADMDatamart\n",
    "from pdstools import Config, DataAnonymization\n",
    "import polars as pl"
   ]
  },
  {
   "attachments": {},
   "cell_type": "markdown",
   "metadata": {},
   "source": [
    "## Input data\n",
    "\n",
    "To demonstrate this process, we're going to anonymise this toy example dataframe:"
   ]
  },
  {
   "cell_type": "code",
   "execution_count": 3,
   "metadata": {
    "execution": {
     "iopub.execute_input": "2023-09-22T14:43:19.357062Z",
     "iopub.status.busy": "2023-09-22T14:43:19.355879Z",
     "iopub.status.idle": "2023-09-22T14:43:19.372220Z",
     "shell.execute_reply": "2023-09-22T14:43:19.371504Z"
    }
   },
   "outputs": [
    {
     "data": {
      "text/html": [
       "<div><style>\n",
       ".dataframe > thead > tr > th,\n",
       ".dataframe > tbody > tr > td {\n",
       "  text-align: right;\n",
       "}\n",
       "</style>\n",
       "<small>shape: (7, 6)</small><table border=\"1\" class=\"dataframe\"><thead><tr><th>Context_Name</th><th>Customer_MaritalStatus</th><th>Customer_CLV</th><th>Customer_City</th><th>IH_Web_Inbound_Accepted_pxLastGroupID</th><th>Decision_Outcome</th></tr><tr><td>str</td><td>str</td><td>i64</td><td>str</td><td>str</td><td>str</td></tr></thead><tbody><tr><td>&quot;FirstMortgage3…</td><td>&quot;Married&quot;</td><td>1460</td><td>&quot;Port Raoul&quot;</td><td>&quot;Account&quot;</td><td>&quot;Rejected&quot;</td></tr><tr><td>&quot;FirstMortgage3…</td><td>&quot;Unknown&quot;</td><td>669</td><td>&quot;Laurianneshire…</td><td>&quot;AutoLoans&quot;</td><td>&quot;Accepted&quot;</td></tr><tr><td>&quot;MoneyMarketSav…</td><td>&quot;No Resp+&quot;</td><td>1174</td><td>&quot;Jacobshaven&quot;</td><td>&quot;Account&quot;</td><td>&quot;Rejected&quot;</td></tr><tr><td>&quot;BasicChecking&quot;</td><td>&quot;Unknown&quot;</td><td>1476</td><td>&quot;Lindton&quot;</td><td>&quot;Account&quot;</td><td>&quot;Rejected&quot;</td></tr><tr><td>&quot;BasicChecking&quot;</td><td>&quot;Married&quot;</td><td>1211</td><td>&quot;South Jimmiesh…</td><td>&quot;DepositAccount…</td><td>&quot;Accepted&quot;</td></tr><tr><td>&quot;UPlusFinPerson…</td><td>&quot;No Resp+&quot;</td><td>533</td><td>&quot;Bergeville&quot;</td><td>null</td><td>&quot;Rejected&quot;</td></tr><tr><td>&quot;BasicChecking&quot;</td><td>&quot;No Resp+&quot;</td><td>555</td><td>&quot;Willyville&quot;</td><td>&quot;DepositAccount…</td><td>&quot;Rejected&quot;</td></tr></tbody></table></div>"
      ],
      "text/plain": [
       "shape: (7, 6)\n",
       "┌────────────────┬────────────────┬──────────────┬────────────────┬────────────────┬───────────────┐\n",
       "│ Context_Name   ┆ Customer_Marit ┆ Customer_CLV ┆ Customer_City  ┆ IH_Web_Inbound ┆ Decision_Outc │\n",
       "│ ---            ┆ alStatus       ┆ ---          ┆ ---            ┆ _Accepted_pxLa ┆ ome           │\n",
       "│ str            ┆ ---            ┆ i64          ┆ str            ┆ stGr…          ┆ ---           │\n",
       "│                ┆ str            ┆              ┆                ┆ ---            ┆ str           │\n",
       "│                ┆                ┆              ┆                ┆ str            ┆               │\n",
       "╞════════════════╪════════════════╪══════════════╪════════════════╪════════════════╪═══════════════╡\n",
       "│ FirstMortgage3 ┆ Married        ┆ 1460         ┆ Port Raoul     ┆ Account        ┆ Rejected      │\n",
       "│ 0yr            ┆                ┆              ┆                ┆                ┆               │\n",
       "│ FirstMortgage3 ┆ Unknown        ┆ 669          ┆ Laurianneshire ┆ AutoLoans      ┆ Accepted      │\n",
       "│ 0yr            ┆                ┆              ┆                ┆                ┆               │\n",
       "│ MoneyMarketSav ┆ No Resp+       ┆ 1174         ┆ Jacobshaven    ┆ Account        ┆ Rejected      │\n",
       "│ ingsAccount    ┆                ┆              ┆                ┆                ┆               │\n",
       "│ BasicChecking  ┆ Unknown        ┆ 1476         ┆ Lindton        ┆ Account        ┆ Rejected      │\n",
       "│ BasicChecking  ┆ Married        ┆ 1211         ┆ South          ┆ DepositAccount ┆ Accepted      │\n",
       "│                ┆                ┆              ┆ Jimmieshire    ┆ s              ┆               │\n",
       "│ UPlusFinPerson ┆ No Resp+       ┆ 533          ┆ Bergeville     ┆ null           ┆ Rejected      │\n",
       "│ al             ┆                ┆              ┆                ┆                ┆               │\n",
       "│ BasicChecking  ┆ No Resp+       ┆ 555          ┆ Willyville     ┆ DepositAccount ┆ Rejected      │\n",
       "│                ┆                ┆              ┆                ┆ s              ┆               │\n",
       "└────────────────┴────────────────┴──────────────┴────────────────┴────────────────┴───────────────┘"
      ]
     },
     "execution_count": 3,
     "metadata": {},
     "output_type": "execute_result"
    }
   ],
   "source": [
    "pl.read_ndjson('../../../../data/SampleHDS.json')"
   ]
  },
  {
   "attachments": {},
   "cell_type": "markdown",
   "metadata": {},
   "source": [
    "As you can see, this dataset consists of regular predictors, IH predictors, context keys and the outcome column. Additionally, some columns are numeric, others are strings. Let's first initialize the DataAnonymization class."
   ]
  },
  {
   "cell_type": "code",
   "execution_count": 4,
   "metadata": {
    "execution": {
     "iopub.execute_input": "2023-09-22T14:43:19.376935Z",
     "iopub.status.busy": "2023-09-22T14:43:19.375405Z",
     "iopub.status.idle": "2023-09-22T14:43:19.388680Z",
     "shell.execute_reply": "2023-09-22T14:43:19.387675Z"
    }
   },
   "outputs": [],
   "source": [
    "anon = DataAnonymization(hds_folder='../../../../data/')"
   ]
  },
  {
   "attachments": {},
   "cell_type": "markdown",
   "metadata": {},
   "source": [
    "By default, the class applies a set of anonymisation techniques:\n",
    "- Column names are remapped to a non-descriptive name\n",
    "- Categorical values are hashed with a random seed\n",
    "- Numerical values are normalized between 0 and 1\n",
    "- Outcomes are mapped to a binary outcome.\n",
    "\n",
    "To apply these techniques, simply call `.process()`:"
   ]
  },
  {
   "cell_type": "code",
   "execution_count": 5,
   "metadata": {
    "execution": {
     "iopub.execute_input": "2023-09-22T14:43:19.392067Z",
     "iopub.status.busy": "2023-09-22T14:43:19.391816Z",
     "iopub.status.idle": "2023-09-22T14:43:19.402629Z",
     "shell.execute_reply": "2023-09-22T14:43:19.401846Z"
    }
   },
   "outputs": [
    {
     "data": {
      "text/html": [
       "<div><style>\n",
       ".dataframe > thead > tr > th,\n",
       ".dataframe > tbody > tr > td {\n",
       "  text-align: right;\n",
       "}\n",
       "</style>\n",
       "<small>shape: (7, 7)</small><table border=\"1\" class=\"dataframe\"><thead><tr><th>PREDICTOR_0</th><th>filename</th><th>PREDICTOR_2</th><th>PREDICTOR_3</th><th>Context_Name</th><th>IH_PREDICTOR_0</th><th>Decision_Outcome</th></tr><tr><td>str</td><td>str</td><td>f64</td><td>str</td><td>str</td><td>str</td><td>bool</td></tr></thead><tbody><tr><td>&quot;75637911699970…</td><td>&quot;../../../../da…</td><td>1.2927e19</td><td>&quot;13669925026803…</td><td>&quot;47721421563518…</td><td>&quot;17677253543433…</td><td>false</td></tr><tr><td>&quot;10706846025621…</td><td>&quot;../../../../da…</td><td>1.4856e19</td><td>&quot;96868711387890…</td><td>&quot;47721421563518…</td><td>&quot;14629200209930…</td><td>true</td></tr><tr><td>&quot;17013778720464…</td><td>&quot;../../../../da…</td><td>5.6458e17</td><td>&quot;10478570846839…</td><td>&quot;10876764037856…</td><td>&quot;17677253543433…</td><td>false</td></tr><tr><td>&quot;32495227445521…</td><td>&quot;../../../../da…</td><td>4.0723e18</td><td>&quot;96868711387890…</td><td>&quot;86065680383664…</td><td>&quot;17677253543433…</td><td>false</td></tr><tr><td>&quot;55513510678997…</td><td>&quot;../../../../da…</td><td>1.4677e19</td><td>&quot;13669925026803…</td><td>&quot;86065680383664…</td><td>&quot;64341157878450…</td><td>true</td></tr><tr><td>&quot;13787012272845…</td><td>&quot;../../../../da…</td><td>1.6330e19</td><td>&quot;10478570846839…</td><td>&quot;69897137468458…</td><td>null</td><td>false</td></tr><tr><td>&quot;79849999649325…</td><td>&quot;../../../../da…</td><td>8.7675e18</td><td>&quot;10478570846839…</td><td>&quot;86065680383664…</td><td>&quot;64341157878450…</td><td>false</td></tr></tbody></table></div>"
      ],
      "text/plain": [
       "shape: (7, 7)\n",
       "┌──────────────┬─────────────┬─────────────┬─────────────┬─────────────┬─────────────┬─────────────┐\n",
       "│ PREDICTOR_0  ┆ filename    ┆ PREDICTOR_2 ┆ PREDICTOR_3 ┆ Context_Nam ┆ IH_PREDICTO ┆ Decision_Ou │\n",
       "│ ---          ┆ ---         ┆ ---         ┆ ---         ┆ e           ┆ R_0         ┆ tcome       │\n",
       "│ str          ┆ str         ┆ f64         ┆ str         ┆ ---         ┆ ---         ┆ ---         │\n",
       "│              ┆             ┆             ┆             ┆ str         ┆ str         ┆ bool        │\n",
       "╞══════════════╪═════════════╪═════════════╪═════════════╪═════════════╪═════════════╪═════════════╡\n",
       "│ 756379116999 ┆ ../../../.. ┆ 1.2927e19   ┆ 13669925026 ┆ 47721421563 ┆ 17677253543 ┆ false       │\n",
       "│ 7088334      ┆ /data/Sampl ┆             ┆ 803285013   ┆ 51803168    ┆ 433802183   ┆             │\n",
       "│              ┆ eHDS.json   ┆             ┆             ┆             ┆             ┆             │\n",
       "│ 107068460256 ┆ ../../../.. ┆ 1.4856e19   ┆ 96868711387 ┆ 47721421563 ┆ 14629200209 ┆ true        │\n",
       "│ 21205982     ┆ /data/Sampl ┆             ┆ 89062667    ┆ 51803168    ┆ 930879084   ┆             │\n",
       "│              ┆ eHDS.json   ┆             ┆             ┆             ┆             ┆             │\n",
       "│ 170137787204 ┆ ../../../.. ┆ 5.6458e17   ┆ 10478570846 ┆ 10876764037 ┆ 17677253543 ┆ false       │\n",
       "│ 64188377     ┆ /data/Sampl ┆             ┆ 839781652   ┆ 856172887   ┆ 433802183   ┆             │\n",
       "│              ┆ eHDS.json   ┆             ┆             ┆             ┆             ┆             │\n",
       "│ 324952274455 ┆ ../../../.. ┆ 4.0723e18   ┆ 96868711387 ┆ 86065680383 ┆ 17677253543 ┆ false       │\n",
       "│ 2136907      ┆ /data/Sampl ┆             ┆ 89062667    ┆ 66465669    ┆ 433802183   ┆             │\n",
       "│              ┆ eHDS.json   ┆             ┆             ┆             ┆             ┆             │\n",
       "│ 555135106789 ┆ ../../../.. ┆ 1.4677e19   ┆ 13669925026 ┆ 86065680383 ┆ 64341157878 ┆ true        │\n",
       "│ 9786429      ┆ /data/Sampl ┆             ┆ 803285013   ┆ 66465669    ┆ 45077874    ┆             │\n",
       "│              ┆ eHDS.json   ┆             ┆             ┆             ┆             ┆             │\n",
       "│ 137870122728 ┆ ../../../.. ┆ 1.6330e19   ┆ 10478570846 ┆ 69897137468 ┆ null        ┆ false       │\n",
       "│ 4547780      ┆ /data/Sampl ┆             ┆ 839781652   ┆ 45806155    ┆             ┆             │\n",
       "│              ┆ eHDS.json   ┆             ┆             ┆             ┆             ┆             │\n",
       "│ 798499996493 ┆ ../../../.. ┆ 8.7675e18   ┆ 10478570846 ┆ 86065680383 ┆ 64341157878 ┆ false       │\n",
       "│ 2544515      ┆ /data/Sampl ┆             ┆ 839781652   ┆ 66465669    ┆ 45077874    ┆             │\n",
       "│              ┆ eHDS.json   ┆             ┆             ┆             ┆             ┆             │\n",
       "└──────────────┴─────────────┴─────────────┴─────────────┴─────────────┴─────────────┴─────────────┘"
      ]
     },
     "execution_count": 5,
     "metadata": {},
     "output_type": "execute_result"
    }
   ],
   "source": [
    "anon.process()"
   ]
  },
  {
   "attachments": {},
   "cell_type": "markdown",
   "metadata": {},
   "source": [
    "To trace back the columns to their original names, the class also contains a mapping, which does not have to be provided."
   ]
  },
  {
   "cell_type": "code",
   "execution_count": 6,
   "metadata": {
    "execution": {
     "iopub.execute_input": "2023-09-22T14:43:19.406097Z",
     "iopub.status.busy": "2023-09-22T14:43:19.405698Z",
     "iopub.status.idle": "2023-09-22T14:43:19.410270Z",
     "shell.execute_reply": "2023-09-22T14:43:19.409576Z"
    }
   },
   "outputs": [
    {
     "data": {
      "text/plain": [
       "{'Customer_City': 'PREDICTOR_0',\n",
       " 'filename': 'filename',\n",
       " 'Customer_CLV': 'PREDICTOR_2',\n",
       " 'Customer_MaritalStatus': 'PREDICTOR_3',\n",
       " 'Context_Name': 'Context_Name',\n",
       " 'IH_Web_Inbound_Accepted_pxLastGroupID': 'IH_PREDICTOR_0',\n",
       " 'Decision_Outcome': 'Decision_Outcome'}"
      ]
     },
     "execution_count": 6,
     "metadata": {},
     "output_type": "execute_result"
    }
   ],
   "source": [
    "anon.column_mapping"
   ]
  },
  {
   "attachments": {},
   "cell_type": "markdown",
   "metadata": {},
   "source": [
    "## Configs\n",
    "\n",
    "Each capability can optionally be turned off - see below for the full list of config options, and refer to the API reference for the full description."
   ]
  },
  {
   "cell_type": "code",
   "execution_count": 7,
   "metadata": {
    "execution": {
     "iopub.execute_input": "2023-09-22T14:43:19.414483Z",
     "iopub.status.busy": "2023-09-22T14:43:19.414096Z",
     "iopub.status.idle": "2023-09-22T14:43:19.420143Z",
     "shell.execute_reply": "2023-09-22T14:43:19.419468Z"
    }
   },
   "outputs": [
    {
     "data": {
      "text/plain": [
       "{'config_file': None,\n",
       " 'hds_folder': '.',\n",
       " 'use_datamart': False,\n",
       " 'datamart_folder': 'datamart',\n",
       " 'output_format': 'ndjson',\n",
       " 'output_folder': 'output',\n",
       " 'mapping_file': 'mapping.map',\n",
       " 'mask_predictor_names': True,\n",
       " 'mask_context_key_names': False,\n",
       " 'mask_ih_names': True,\n",
       " 'mask_outcome_name': False,\n",
       " 'mask_predictor_values': True,\n",
       " 'mask_context_key_values': True,\n",
       " 'mask_ih_values': True,\n",
       " 'mask_outcome_values': True,\n",
       " 'context_key_label': 'Context_*',\n",
       " 'ih_label': 'IH_*',\n",
       " 'outcome_column': 'Decision_Outcome',\n",
       " 'positive_outcomes': ['Accepted', 'Clicked'],\n",
       " 'negative_outcomes': ['Rejected', 'Impression'],\n",
       " 'special_predictors': ['Decision_DecisionTime',\n",
       "  'Decision_OutcomeTime',\n",
       "  'Decision_Rank'],\n",
       " 'sample_percentage_schema_inferencing': 0.01}"
      ]
     },
     "execution_count": 7,
     "metadata": {},
     "output_type": "execute_result"
    }
   ],
   "source": [
    "dict(zip(Config.__init__.__code__.co_varnames[1:], Config.__init__.__defaults__))"
   ]
  },
  {
   "attachments": {},
   "cell_type": "markdown",
   "metadata": {},
   "source": [
    "It's easy to change these parameters by just passing the keyword arguments. In the following example, we\n",
    "- Keep the IH predictor names\n",
    "- Keep the outcome values\n",
    "- Keep the context key values\n",
    "- Keep the context key predictor names"
   ]
  },
  {
   "cell_type": "code",
   "execution_count": 8,
   "metadata": {
    "execution": {
     "iopub.execute_input": "2023-09-22T14:43:19.422979Z",
     "iopub.status.busy": "2023-09-22T14:43:19.422615Z",
     "iopub.status.idle": "2023-09-22T14:43:19.437860Z",
     "shell.execute_reply": "2023-09-22T14:43:19.437250Z"
    }
   },
   "outputs": [
    {
     "data": {
      "text/html": [
       "<div><style>\n",
       ".dataframe > thead > tr > th,\n",
       ".dataframe > tbody > tr > td {\n",
       "  text-align: right;\n",
       "}\n",
       "</style>\n",
       "<small>shape: (7, 7)</small><table border=\"1\" class=\"dataframe\"><thead><tr><th>PREDICTOR_0</th><th>filename</th><th>PREDICTOR_2</th><th>PREDICTOR_3</th><th>Context_Name</th><th>IH_Web_Inbound_Accepted_pxLastGroupID</th><th>Decision_Outcome</th></tr><tr><td>str</td><td>str</td><td>f64</td><td>str</td><td>str</td><td>str</td><td>str</td></tr></thead><tbody><tr><td>&quot;14465027989772…</td><td>&quot;../../../../da…</td><td>1.2927e19</td><td>&quot;12837118204749…</td><td>&quot;FirstMortgage3…</td><td>&quot;42742600268414…</td><td>&quot;Rejected&quot;</td></tr><tr><td>&quot;15864797487647…</td><td>&quot;../../../../da…</td><td>1.4856e19</td><td>&quot;13038335467387…</td><td>&quot;FirstMortgage3…</td><td>&quot;16968007675717…</td><td>&quot;Accepted&quot;</td></tr><tr><td>&quot;11312459237682…</td><td>&quot;../../../../da…</td><td>5.6458e17</td><td>&quot;12899434046411…</td><td>&quot;MoneyMarketSav…</td><td>&quot;42742600268414…</td><td>&quot;Rejected&quot;</td></tr><tr><td>&quot;11254416262543…</td><td>&quot;../../../../da…</td><td>4.0723e18</td><td>&quot;13038335467387…</td><td>&quot;BasicChecking&quot;</td><td>&quot;42742600268414…</td><td>&quot;Rejected&quot;</td></tr><tr><td>&quot;68822884280512…</td><td>&quot;../../../../da…</td><td>1.4677e19</td><td>&quot;12837118204749…</td><td>&quot;BasicChecking&quot;</td><td>&quot;82751290886829…</td><td>&quot;Accepted&quot;</td></tr><tr><td>&quot;13532627541031…</td><td>&quot;../../../../da…</td><td>1.6330e19</td><td>&quot;12899434046411…</td><td>&quot;UPlusFinPerson…</td><td>null</td><td>&quot;Rejected&quot;</td></tr><tr><td>&quot;47735001256021…</td><td>&quot;../../../../da…</td><td>8.7675e18</td><td>&quot;12899434046411…</td><td>&quot;BasicChecking&quot;</td><td>&quot;82751290886829…</td><td>&quot;Rejected&quot;</td></tr></tbody></table></div>"
      ],
      "text/plain": [
       "shape: (7, 7)\n",
       "┌──────────────┬─────────────┬─────────────┬─────────────┬─────────────┬─────────────┬─────────────┐\n",
       "│ PREDICTOR_0  ┆ filename    ┆ PREDICTOR_2 ┆ PREDICTOR_3 ┆ Context_Nam ┆ IH_Web_Inbo ┆ Decision_Ou │\n",
       "│ ---          ┆ ---         ┆ ---         ┆ ---         ┆ e           ┆ und_Accepte ┆ tcome       │\n",
       "│ str          ┆ str         ┆ f64         ┆ str         ┆ ---         ┆ d_pxLastGr… ┆ ---         │\n",
       "│              ┆             ┆             ┆             ┆ str         ┆ ---         ┆ str         │\n",
       "│              ┆             ┆             ┆             ┆             ┆ str         ┆             │\n",
       "╞══════════════╪═════════════╪═════════════╪═════════════╪═════════════╪═════════════╪═════════════╡\n",
       "│ 144650279897 ┆ ../../../.. ┆ 1.2927e19   ┆ 12837118204 ┆ FirstMortga ┆ 42742600268 ┆ Rejected    │\n",
       "│ 72012989     ┆ /data/Sampl ┆             ┆ 749063150   ┆ ge30yr      ┆ 41470589    ┆             │\n",
       "│              ┆ eHDS.json   ┆             ┆             ┆             ┆             ┆             │\n",
       "│ 158647974876 ┆ ../../../.. ┆ 1.4856e19   ┆ 13038335467 ┆ FirstMortga ┆ 16968007675 ┆ Accepted    │\n",
       "│ 47353896     ┆ /data/Sampl ┆             ┆ 387770492   ┆ ge30yr      ┆ 717291485   ┆             │\n",
       "│              ┆ eHDS.json   ┆             ┆             ┆             ┆             ┆             │\n",
       "│ 113124592376 ┆ ../../../.. ┆ 5.6458e17   ┆ 12899434046 ┆ MoneyMarket ┆ 42742600268 ┆ Rejected    │\n",
       "│ 82971891     ┆ /data/Sampl ┆             ┆ 411832182   ┆ SavingsAcco ┆ 41470589    ┆             │\n",
       "│              ┆ eHDS.json   ┆             ┆             ┆ unt         ┆             ┆             │\n",
       "│ 112544162625 ┆ ../../../.. ┆ 4.0723e18   ┆ 13038335467 ┆ BasicChecki ┆ 42742600268 ┆ Rejected    │\n",
       "│ 43251963     ┆ /data/Sampl ┆             ┆ 387770492   ┆ ng          ┆ 41470589    ┆             │\n",
       "│              ┆ eHDS.json   ┆             ┆             ┆             ┆             ┆             │\n",
       "│ 688228842805 ┆ ../../../.. ┆ 1.4677e19   ┆ 12837118204 ┆ BasicChecki ┆ 82751290886 ┆ Accepted    │\n",
       "│ 1228046      ┆ /data/Sampl ┆             ┆ 749063150   ┆ ng          ┆ 82943184    ┆             │\n",
       "│              ┆ eHDS.json   ┆             ┆             ┆             ┆             ┆             │\n",
       "│ 135326275410 ┆ ../../../.. ┆ 1.6330e19   ┆ 12899434046 ┆ UPlusFinPer ┆ null        ┆ Rejected    │\n",
       "│ 31459738     ┆ /data/Sampl ┆             ┆ 411832182   ┆ sonal       ┆             ┆             │\n",
       "│              ┆ eHDS.json   ┆             ┆             ┆             ┆             ┆             │\n",
       "│ 477350012560 ┆ ../../../.. ┆ 8.7675e18   ┆ 12899434046 ┆ BasicChecki ┆ 82751290886 ┆ Rejected    │\n",
       "│ 2105885      ┆ /data/Sampl ┆             ┆ 411832182   ┆ ng          ┆ 82943184    ┆             │\n",
       "│              ┆ eHDS.json   ┆             ┆             ┆             ┆             ┆             │\n",
       "└──────────────┴─────────────┴─────────────┴─────────────┴─────────────┴─────────────┴─────────────┘"
      ]
     },
     "execution_count": 8,
     "metadata": {},
     "output_type": "execute_result"
    }
   ],
   "source": [
    "anon = DataAnonymization(\n",
    "    hds_folder=\"../../../../data/\",\n",
    "    mask_ih_names=False,\n",
    "    mask_outcome_values=False,\n",
    "    mask_context_key_values=False,\n",
    "    mask_context_key_names=False,\n",
    ")\n",
    "anon.process()\n"
   ]
  },
  {
   "attachments": {},
   "cell_type": "markdown",
   "metadata": {},
   "source": [
    "The configs can also be written and read as such:"
   ]
  },
  {
   "cell_type": "code",
   "execution_count": 9,
   "metadata": {
    "execution": {
     "iopub.execute_input": "2023-09-22T14:43:19.440959Z",
     "iopub.status.busy": "2023-09-22T14:43:19.440478Z",
     "iopub.status.idle": "2023-09-22T14:43:19.444035Z",
     "shell.execute_reply": "2023-09-22T14:43:19.443353Z"
    }
   },
   "outputs": [],
   "source": [
    "anon.config.save_to_config_file('config.json')"
   ]
  },
  {
   "cell_type": "code",
   "execution_count": 10,
   "metadata": {
    "execution": {
     "iopub.execute_input": "2023-09-22T14:43:19.447981Z",
     "iopub.status.busy": "2023-09-22T14:43:19.447238Z",
     "iopub.status.idle": "2023-09-22T14:43:19.465515Z",
     "shell.execute_reply": "2023-09-22T14:43:19.464578Z"
    }
   },
   "outputs": [
    {
     "data": {
      "text/html": [
       "<div><style>\n",
       ".dataframe > thead > tr > th,\n",
       ".dataframe > tbody > tr > td {\n",
       "  text-align: right;\n",
       "}\n",
       "</style>\n",
       "<small>shape: (7, 7)</small><table border=\"1\" class=\"dataframe\"><thead><tr><th>PREDICTOR_0</th><th>filename</th><th>PREDICTOR_2</th><th>PREDICTOR_3</th><th>Context_Name</th><th>IH_Web_Inbound_Accepted_pxLastGroupID</th><th>Decision_Outcome</th></tr><tr><td>str</td><td>str</td><td>f64</td><td>str</td><td>str</td><td>str</td><td>str</td></tr></thead><tbody><tr><td>&quot;10956173841986…</td><td>&quot;../../../../da…</td><td>1.2927e19</td><td>&quot;14220657486805…</td><td>&quot;FirstMortgage3…</td><td>&quot;17952503333097…</td><td>&quot;Rejected&quot;</td></tr><tr><td>&quot;16574171319331…</td><td>&quot;../../../../da…</td><td>1.4856e19</td><td>&quot;16160299586719…</td><td>&quot;FirstMortgage3…</td><td>&quot;13771885637361…</td><td>&quot;Accepted&quot;</td></tr><tr><td>&quot;36510205268633…</td><td>&quot;../../../../da…</td><td>5.6458e17</td><td>&quot;13702922554313…</td><td>&quot;MoneyMarketSav…</td><td>&quot;17952503333097…</td><td>&quot;Rejected&quot;</td></tr><tr><td>&quot;70546946133517…</td><td>&quot;../../../../da…</td><td>4.0723e18</td><td>&quot;16160299586719…</td><td>&quot;BasicChecking&quot;</td><td>&quot;17952503333097…</td><td>&quot;Rejected&quot;</td></tr><tr><td>&quot;17708367332691…</td><td>&quot;../../../../da…</td><td>1.4677e19</td><td>&quot;14220657486805…</td><td>&quot;BasicChecking&quot;</td><td>&quot;35787173284252…</td><td>&quot;Accepted&quot;</td></tr><tr><td>&quot;36514085505050…</td><td>&quot;../../../../da…</td><td>1.6330e19</td><td>&quot;13702922554313…</td><td>&quot;UPlusFinPerson…</td><td>null</td><td>&quot;Rejected&quot;</td></tr><tr><td>&quot;16175581296741…</td><td>&quot;../../../../da…</td><td>8.7675e18</td><td>&quot;13702922554313…</td><td>&quot;BasicChecking&quot;</td><td>&quot;35787173284252…</td><td>&quot;Rejected&quot;</td></tr></tbody></table></div>"
      ],
      "text/plain": [
       "shape: (7, 7)\n",
       "┌──────────────┬─────────────┬─────────────┬─────────────┬─────────────┬─────────────┬─────────────┐\n",
       "│ PREDICTOR_0  ┆ filename    ┆ PREDICTOR_2 ┆ PREDICTOR_3 ┆ Context_Nam ┆ IH_Web_Inbo ┆ Decision_Ou │\n",
       "│ ---          ┆ ---         ┆ ---         ┆ ---         ┆ e           ┆ und_Accepte ┆ tcome       │\n",
       "│ str          ┆ str         ┆ f64         ┆ str         ┆ ---         ┆ d_pxLastGr… ┆ ---         │\n",
       "│              ┆             ┆             ┆             ┆ str         ┆ ---         ┆ str         │\n",
       "│              ┆             ┆             ┆             ┆             ┆ str         ┆             │\n",
       "╞══════════════╪═════════════╪═════════════╪═════════════╪═════════════╪═════════════╪═════════════╡\n",
       "│ 109561738419 ┆ ../../../.. ┆ 1.2927e19   ┆ 14220657486 ┆ FirstMortga ┆ 17952503333 ┆ Rejected    │\n",
       "│ 8624706      ┆ /data/Sampl ┆             ┆ 80530314    ┆ ge30yr      ┆ 097798149   ┆             │\n",
       "│              ┆ eHDS.json   ┆             ┆             ┆             ┆             ┆             │\n",
       "│ 165741713193 ┆ ../../../.. ┆ 1.4856e19   ┆ 16160299586 ┆ FirstMortga ┆ 13771885637 ┆ Accepted    │\n",
       "│ 31621022     ┆ /data/Sampl ┆             ┆ 71940881    ┆ ge30yr      ┆ 361480123   ┆             │\n",
       "│              ┆ eHDS.json   ┆             ┆             ┆             ┆             ┆             │\n",
       "│ 365102052686 ┆ ../../../.. ┆ 5.6458e17   ┆ 13702922554 ┆ MoneyMarket ┆ 17952503333 ┆ Rejected    │\n",
       "│ 3303420      ┆ /data/Sampl ┆             ┆ 313184571   ┆ SavingsAcco ┆ 097798149   ┆             │\n",
       "│              ┆ eHDS.json   ┆             ┆             ┆ unt         ┆             ┆             │\n",
       "│ 705469461335 ┆ ../../../.. ┆ 4.0723e18   ┆ 16160299586 ┆ BasicChecki ┆ 17952503333 ┆ Rejected    │\n",
       "│ 1785828      ┆ /data/Sampl ┆             ┆ 71940881    ┆ ng          ┆ 097798149   ┆             │\n",
       "│              ┆ eHDS.json   ┆             ┆             ┆             ┆             ┆             │\n",
       "│ 177083673326 ┆ ../../../.. ┆ 1.4677e19   ┆ 14220657486 ┆ BasicChecki ┆ 35787173284 ┆ Accepted    │\n",
       "│ 91071712     ┆ /data/Sampl ┆             ┆ 80530314    ┆ ng          ┆ 25244846    ┆             │\n",
       "│              ┆ eHDS.json   ┆             ┆             ┆             ┆             ┆             │\n",
       "│ 365140855050 ┆ ../../../.. ┆ 1.6330e19   ┆ 13702922554 ┆ UPlusFinPer ┆ null        ┆ Rejected    │\n",
       "│ 5055944      ┆ /data/Sampl ┆             ┆ 313184571   ┆ sonal       ┆             ┆             │\n",
       "│              ┆ eHDS.json   ┆             ┆             ┆             ┆             ┆             │\n",
       "│ 161755812967 ┆ ../../../.. ┆ 8.7675e18   ┆ 13702922554 ┆ BasicChecki ┆ 35787173284 ┆ Rejected    │\n",
       "│ 41639919     ┆ /data/Sampl ┆             ┆ 313184571   ┆ ng          ┆ 25244846    ┆             │\n",
       "│              ┆ eHDS.json   ┆             ┆             ┆             ┆             ┆             │\n",
       "└──────────────┴─────────────┴─────────────┴─────────────┴─────────────┴─────────────┴─────────────┘"
      ]
     },
     "execution_count": 10,
     "metadata": {},
     "output_type": "execute_result"
    }
   ],
   "source": [
    "anon = DataAnonymization(config=Config(config_file='config.json'))\n",
    "anon.process()"
   ]
  },
  {
   "attachments": {},
   "cell_type": "markdown",
   "metadata": {},
   "source": [
    "## Exporting\n",
    "Two functions export:\n",
    "- `create_mapping_file()` writes the mapping file of the predictor names\n",
    "- `write_to_output()` writes the processed dataframe to disk\n",
    "\n",
    "Write to output accepts the following extensions: `[\"ndjson\", \"parquet\", \"arrow\", \"csv\"]`"
   ]
  },
  {
   "cell_type": "code",
   "execution_count": 11,
   "metadata": {
    "execution": {
     "iopub.execute_input": "2023-09-22T14:43:19.468301Z",
     "iopub.status.busy": "2023-09-22T14:43:19.468096Z",
     "iopub.status.idle": "2023-09-22T14:43:19.474300Z",
     "shell.execute_reply": "2023-09-22T14:43:19.473510Z"
    }
   },
   "outputs": [
    {
     "name": "stdout",
     "output_type": "stream",
     "text": [
      "Customer_City=PREDICTOR_0\n",
      "filename=filename\n",
      "Customer_CLV=PREDICTOR_2\n",
      "Customer_MaritalStatus=PREDICTOR_3\n",
      "Context_Name=Context_Name\n",
      "IH_Web_Inbound_Accepted_pxLastGroupID=IH_Web_Inbound_Accepted_pxLastGroupID\n",
      "Decision_Outcome=Decision_Outcome\n",
      "\n"
     ]
    }
   ],
   "source": [
    "anon.create_mapping_file()\n",
    "with open('mapping.map') as f:\n",
    "    print(f.read())"
   ]
  },
  {
   "cell_type": "code",
   "execution_count": 12,
   "metadata": {
    "execution": {
     "iopub.execute_input": "2023-09-22T14:43:19.477608Z",
     "iopub.status.busy": "2023-09-22T14:43:19.477173Z",
     "iopub.status.idle": "2023-09-22T14:43:19.483185Z",
     "shell.execute_reply": "2023-09-22T14:43:19.482331Z"
    }
   },
   "outputs": [],
   "source": [
    "anon.write_to_output(ext='arrow')"
   ]
  },
  {
   "cell_type": "code",
   "execution_count": 13,
   "metadata": {
    "execution": {
     "iopub.execute_input": "2023-09-22T14:43:19.486462Z",
     "iopub.status.busy": "2023-09-22T14:43:19.485956Z",
     "iopub.status.idle": "2023-09-22T14:43:19.498654Z",
     "shell.execute_reply": "2023-09-22T14:43:19.497904Z"
    }
   },
   "outputs": [
    {
     "data": {
      "text/html": [
       "<div><style>\n",
       ".dataframe > thead > tr > th,\n",
       ".dataframe > tbody > tr > td {\n",
       "  text-align: right;\n",
       "}\n",
       "</style>\n",
       "<small>shape: (7, 6)</small><table border=\"1\" class=\"dataframe\"><thead><tr><th>PREDICTOR_0</th><th>PREDICTOR_2</th><th>PREDICTOR_3</th><th>Context_Name</th><th>IH_Web_Inbound_Accepted_pxLastGroupID</th><th>Decision_Outcome</th></tr><tr><td>str</td><td>f64</td><td>str</td><td>str</td><td>str</td><td>str</td></tr></thead><tbody><tr><td>&quot;18189975885507…</td><td>1.2927e19</td><td>&quot;16843731726272…</td><td>&quot;FirstMortgage3…</td><td>&quot;10900894234423…</td><td>&quot;Rejected&quot;</td></tr><tr><td>&quot;14040108070101…</td><td>1.4856e19</td><td>&quot;11140134536949…</td><td>&quot;FirstMortgage3…</td><td>&quot;17919745516940…</td><td>&quot;Accepted&quot;</td></tr><tr><td>&quot;13976561677151…</td><td>5.6458e17</td><td>&quot;13780435374893…</td><td>&quot;MoneyMarketSav…</td><td>&quot;10900894234423…</td><td>&quot;Rejected&quot;</td></tr><tr><td>&quot;49567413994904…</td><td>4.0723e18</td><td>&quot;11140134536949…</td><td>&quot;BasicChecking&quot;</td><td>&quot;10900894234423…</td><td>&quot;Rejected&quot;</td></tr><tr><td>&quot;42269147014725…</td><td>1.4677e19</td><td>&quot;16843731726272…</td><td>&quot;BasicChecking&quot;</td><td>&quot;59533486519071…</td><td>&quot;Accepted&quot;</td></tr><tr><td>&quot;15588292508397…</td><td>1.6330e19</td><td>&quot;13780435374893…</td><td>&quot;UPlusFinPerson…</td><td>null</td><td>&quot;Rejected&quot;</td></tr><tr><td>&quot;63811838581705…</td><td>8.7675e18</td><td>&quot;13780435374893…</td><td>&quot;BasicChecking&quot;</td><td>&quot;59533486519071…</td><td>&quot;Rejected&quot;</td></tr></tbody></table></div>"
      ],
      "text/plain": [
       "shape: (7, 6)\n",
       "┌────────────────┬─────────────┬────────────────┬────────────────┬────────────────┬────────────────┐\n",
       "│ PREDICTOR_0    ┆ PREDICTOR_2 ┆ PREDICTOR_3    ┆ Context_Name   ┆ IH_Web_Inbound ┆ Decision_Outco │\n",
       "│ ---            ┆ ---         ┆ ---            ┆ ---            ┆ _Accepted_pxLa ┆ me             │\n",
       "│ str            ┆ f64         ┆ str            ┆ str            ┆ stGr…          ┆ ---            │\n",
       "│                ┆             ┆                ┆                ┆ ---            ┆ str            │\n",
       "│                ┆             ┆                ┆                ┆ str            ┆                │\n",
       "╞════════════════╪═════════════╪════════════════╪════════════════╪════════════════╪════════════════╡\n",
       "│ 18189975885507 ┆ 1.2927e19   ┆ 16843731726272 ┆ FirstMortgage3 ┆ 10900894234423 ┆ Rejected       │\n",
       "│ 505429         ┆             ┆ 048056         ┆ 0yr            ┆ 01348          ┆                │\n",
       "│ 14040108070101 ┆ 1.4856e19   ┆ 11140134536949 ┆ FirstMortgage3 ┆ 17919745516940 ┆ Accepted       │\n",
       "│ 771203         ┆             ┆ 001626         ┆ 0yr            ┆ 45639          ┆                │\n",
       "│ 13976561677151 ┆ 5.6458e17   ┆ 13780435374893 ┆ MoneyMarketSav ┆ 10900894234423 ┆ Rejected       │\n",
       "│ 522996         ┆             ┆ 825672         ┆ ingsAccount    ┆ 01348          ┆                │\n",
       "│ 49567413994904 ┆ 4.0723e18   ┆ 11140134536949 ┆ BasicChecking  ┆ 10900894234423 ┆ Rejected       │\n",
       "│ 21893          ┆             ┆ 001626         ┆                ┆ 01348          ┆                │\n",
       "│ 42269147014725 ┆ 1.4677e19   ┆ 16843731726272 ┆ BasicChecking  ┆ 59533486519071 ┆ Accepted       │\n",
       "│ 99126          ┆             ┆ 048056         ┆                ┆ 21715          ┆                │\n",
       "│ 15588292508397 ┆ 1.6330e19   ┆ 13780435374893 ┆ UPlusFinPerson ┆ null           ┆ Rejected       │\n",
       "│ 505019         ┆             ┆ 825672         ┆ al             ┆                ┆                │\n",
       "│ 63811838581705 ┆ 8.7675e18   ┆ 13780435374893 ┆ BasicChecking  ┆ 59533486519071 ┆ Rejected       │\n",
       "│ 44015          ┆             ┆ 825672         ┆                ┆ 21715          ┆                │\n",
       "└────────────────┴─────────────┴────────────────┴────────────────┴────────────────┴────────────────┘"
      ]
     },
     "execution_count": 13,
     "metadata": {},
     "output_type": "execute_result"
    }
   ],
   "source": [
    "pl.read_ipc('output/hds.arrow')"
   ]
  },
  {
   "attachments": {},
   "cell_type": "markdown",
   "metadata": {
    "nbsphinx": "hidden"
   },
   "source": [
    "## Advanced: Hash fuctions\n",
    "\n",
    "By default, we use [the same hashing algorithm Polars](https://pola-rs.github.io/polars/py-polars/html/reference/expressions/api/polars.Expr.hash.html#polars.Expr.hash) uses: [xxhash](https://github.com/Cyan4973/xxHash), as implemented [here](https://github.com/pola-rs/polars/blob/3f287f370b3c388ed2f3f218b2c096382548136f/polars/polars-core/src/vector_hasher.rs#L266). xxhash is fast to compute, and you can check its performance in collision, dispersion and randomness [here](https://github.com/Cyan4973/xxHash/tree/dev/tests). \n",
    "\n",
    "xxhash accepts four distinct seeds, but by default we set the seeds to `0`. It is possible to set the `seed` argument of the `process()` function to `'random'`, which will set all four seeds to a random integer between `0` and `1000000000`. Alternatively, it is possible to supply the four seeds manually with arguments `seed`, `seed_1`, `seed_2` and `seed_3`. \n",
    "\n",
    "If the xxhash with (random) seed(s) is not deemed sufficiently secure, it is possible to use your own hashing algorithm.\n",
    "\n",
    "Note that since we're now running python code and not native Polars code anymore, this will be _significantly_ slower. Nonetheless, it is possible.\n",
    "\n",
    "Just as an example - this is how one would use sha3_256:"
   ]
  },
  {
   "cell_type": "code",
   "execution_count": 14,
   "metadata": {
    "execution": {
     "iopub.execute_input": "2023-09-22T14:43:19.502053Z",
     "iopub.status.busy": "2023-09-22T14:43:19.501732Z",
     "iopub.status.idle": "2023-09-22T14:43:19.926236Z",
     "shell.execute_reply": "2023-09-22T14:43:19.925431Z"
    },
    "nbsphinx": "hidden"
   },
   "outputs": [
    {
     "ename": "ComputeError",
     "evalue": "AttributeError: 'int' object has no attribute 'encode'",
     "output_type": "error",
     "traceback": [
      "\u001b[0;31m---------------------------------------------------------------------------\u001b[0m",
      "\u001b[0;31mComputeError\u001b[0m                              Traceback (most recent call last)",
      "Cell \u001b[0;32mIn[14], line 3\u001b[0m\n\u001b[1;32m      1\u001b[0m \u001b[38;5;28;01mfrom\u001b[39;00m \u001b[38;5;21;01mhashlib\u001b[39;00m \u001b[38;5;28;01mimport\u001b[39;00m sha3_256\n\u001b[0;32m----> 3\u001b[0m \u001b[43manon\u001b[49m\u001b[38;5;241;43m.\u001b[39;49m\u001b[43mprocess\u001b[49m\u001b[43m(\u001b[49m\u001b[43malgorithm\u001b[49m\u001b[38;5;241;43m=\u001b[39;49m\u001b[38;5;28;43;01mlambda\u001b[39;49;00m\u001b[43m \u001b[49m\u001b[43mx\u001b[49m\u001b[43m:\u001b[49m\u001b[43m \u001b[49m\u001b[43msha3_256\u001b[49m\u001b[43m(\u001b[49m\u001b[43mx\u001b[49m\u001b[38;5;241;43m.\u001b[39;49m\u001b[43mencode\u001b[49m\u001b[43m(\u001b[49m\u001b[43m)\u001b[49m\u001b[43m)\u001b[49m\u001b[38;5;241;43m.\u001b[39;49m\u001b[43mhexdigest\u001b[49m\u001b[43m(\u001b[49m\u001b[43m)\u001b[49m\u001b[43m)\u001b[49m\n",
      "File \u001b[0;32m~/work/pega-datascientist-tools/pega-datascientist-tools/python/docs/source/articles/../../../pdstools/utils/hds_utils.py:516\u001b[0m, in \u001b[0;36mDataAnonymization.process\u001b[0;34m(self, strategy, **kwargs)\u001b[0m\n\u001b[1;32m    514\u001b[0m df \u001b[38;5;241m=\u001b[39m df\u001b[38;5;241m.\u001b[39mselect(\u001b[38;5;28mself\u001b[39m\u001b[38;5;241m.\u001b[39mcolumn_mapping\u001b[38;5;241m.\u001b[39mkeys())\u001b[38;5;241m.\u001b[39mrename(\u001b[38;5;28mself\u001b[39m\u001b[38;5;241m.\u001b[39mcolumn_mapping)\n\u001b[1;32m    515\u001b[0m \u001b[38;5;28;01mif\u001b[39;00m strategy \u001b[38;5;241m==\u001b[39m \u001b[38;5;124m\"\u001b[39m\u001b[38;5;124meager\u001b[39m\u001b[38;5;124m\"\u001b[39m:\n\u001b[0;32m--> 516\u001b[0m     \u001b[38;5;28;01mreturn\u001b[39;00m \u001b[43mdf\u001b[49m\u001b[38;5;241;43m.\u001b[39;49m\u001b[43mcollect\u001b[49m\u001b[43m(\u001b[49m\u001b[43m)\u001b[49m\n\u001b[1;32m    517\u001b[0m \u001b[38;5;28;01mreturn\u001b[39;00m df\n",
      "File \u001b[0;32m/opt/hostedtoolcache/Python/3.11.5/x64/lib/python3.11/site-packages/polars/lazyframe/frame.py:1530\u001b[0m, in \u001b[0;36mLazyFrame.collect\u001b[0;34m(self, type_coercion, predicate_pushdown, projection_pushdown, simplify_expression, no_optimization, slice_pushdown, common_subplan_elimination, streaming)\u001b[0m\n\u001b[1;32m   1519\u001b[0m     common_subplan_elimination \u001b[38;5;241m=\u001b[39m \u001b[38;5;28;01mFalse\u001b[39;00m\n\u001b[1;32m   1521\u001b[0m ldf \u001b[38;5;241m=\u001b[39m \u001b[38;5;28mself\u001b[39m\u001b[38;5;241m.\u001b[39m_ldf\u001b[38;5;241m.\u001b[39moptimization_toggle(\n\u001b[1;32m   1522\u001b[0m     type_coercion,\n\u001b[1;32m   1523\u001b[0m     predicate_pushdown,\n\u001b[0;32m   (...)\u001b[0m\n\u001b[1;32m   1528\u001b[0m     streaming,\n\u001b[1;32m   1529\u001b[0m )\n\u001b[0;32m-> 1530\u001b[0m \u001b[38;5;28;01mreturn\u001b[39;00m wrap_df(ldf\u001b[38;5;241m.\u001b[39mcollect())\n",
      "\u001b[0;31mComputeError\u001b[0m: AttributeError: 'int' object has no attribute 'encode'"
     ]
    }
   ],
   "source": [
    "from hashlib import sha3_256\n",
    "\n",
    "anon.process(algorithm=lambda x: sha3_256(x.encode()).hexdigest())"
   ]
  }
 ],
 "metadata": {
  "kernelspec": {
   "display_name": "Python 3",
   "language": "python",
   "name": "python3"
  },
  "language_info": {
   "codemirror_mode": {
    "name": "ipython",
    "version": 3
   },
   "file_extension": ".py",
   "mimetype": "text/x-python",
   "name": "python",
   "nbconvert_exporter": "python",
   "pygments_lexer": "ipython3",
   "version": "3.11.5"
  },
  "vscode": {
   "interpreter": {
    "hash": "aee8b7b246df8f9039afb4144a1f6fd8d2ca17a180786b69acc140d282b71a49"
   }
  }
 },
 "nbformat": 4,
 "nbformat_minor": 2
}
