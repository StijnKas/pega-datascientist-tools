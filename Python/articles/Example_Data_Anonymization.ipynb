{
 "cells": [
  {
   "attachments": {},
   "cell_type": "markdown",
   "metadata": {},
   "source": [
    "# Data Anonymization\n",
    "\n",
    "In Pega CDH 8.5 and up, it's now possible to record the historical data as seen by the Adaptive Models. See [this academy challenge](https://academy.pega.com/challenge/exporting-historical-data/v4) for reference. This historical data can be further used to experiment with offline models, but also to fine-tune the OOTB Gradient Boosting model. However, sharing this information with Pega can be sensitive as it contains raw predictor data. \n",
    "\n",
    "To this end, we provide a simple and transparent script to fully anonimize this dataset.\n",
    "\n",
    "The DataAnonymization script is now part of pdstools, and you can import it directly as such."
   ]
  },
  {
   "cell_type": "code",
   "execution_count": 1,
   "metadata": {
    "execution": {
     "iopub.execute_input": "2024-06-14T13:29:33.082013Z",
     "iopub.status.busy": "2024-06-14T13:29:33.081522Z",
     "iopub.status.idle": "2024-06-14T13:29:33.152637Z",
     "shell.execute_reply": "2024-06-14T13:29:33.152132Z"
    },
    "nbsphinx": "hidden"
   },
   "outputs": [],
   "source": [
    "# These lines are only for rendering in the docs, and are hidden through Jupyter tags\n",
    "# Do not run if you're running the notebook seperately\n",
    "\n",
    "import os  \n",
    "import sys\n",
    "import plotly.io as pio\n",
    "pio.renderers.default = \"notebook_connected\"\n",
    "\n",
    "sys.path.append(\"../../../\")\n",
    "sys.path.append('../../python')"
   ]
  },
  {
   "cell_type": "code",
   "execution_count": 2,
   "metadata": {
    "execution": {
     "iopub.execute_input": "2024-06-14T13:29:33.154740Z",
     "iopub.status.busy": "2024-06-14T13:29:33.154467Z",
     "iopub.status.idle": "2024-06-14T13:29:34.212500Z",
     "shell.execute_reply": "2024-06-14T13:29:34.211975Z"
    }
   },
   "outputs": [],
   "source": [
    "from pdstools import ADMDatamart\n",
    "from pdstools import Config, DataAnonymization\n",
    "import polars as pl"
   ]
  },
  {
   "attachments": {},
   "cell_type": "markdown",
   "metadata": {},
   "source": [
    "## Input data\n",
    "\n",
    "To demonstrate this process, we're going to anonymise this toy example dataframe:"
   ]
  },
  {
   "cell_type": "code",
   "execution_count": 3,
   "metadata": {
    "execution": {
     "iopub.execute_input": "2024-06-14T13:29:34.215072Z",
     "iopub.status.busy": "2024-06-14T13:29:34.214651Z",
     "iopub.status.idle": "2024-06-14T13:29:34.222812Z",
     "shell.execute_reply": "2024-06-14T13:29:34.222349Z"
    }
   },
   "outputs": [
    {
     "data": {
      "text/html": [
       "<div><style>\n",
       ".dataframe > thead > tr,\n",
       ".dataframe > tbody > tr {\n",
       "  text-align: right;\n",
       "  white-space: pre-wrap;\n",
       "}\n",
       "</style>\n",
       "<small>shape: (7, 6)</small><table border=\"1\" class=\"dataframe\"><thead><tr><th>Context_Name</th><th>Customer_MaritalStatus</th><th>Customer_CLV</th><th>Customer_City</th><th>IH_Web_Inbound_Accepted_pxLastGroupID</th><th>Decision_Outcome</th></tr><tr><td>str</td><td>str</td><td>i64</td><td>str</td><td>str</td><td>str</td></tr></thead><tbody><tr><td>&quot;FirstMortgage30yr&quot;</td><td>&quot;Married&quot;</td><td>1460</td><td>&quot;Port Raoul&quot;</td><td>&quot;Account&quot;</td><td>&quot;Rejected&quot;</td></tr><tr><td>&quot;FirstMortgage30yr&quot;</td><td>&quot;Unknown&quot;</td><td>669</td><td>&quot;Laurianneshire&quot;</td><td>&quot;AutoLoans&quot;</td><td>&quot;Accepted&quot;</td></tr><tr><td>&quot;MoneyMarketSavingsAccount&quot;</td><td>&quot;No Resp+&quot;</td><td>1174</td><td>&quot;Jacobshaven&quot;</td><td>&quot;Account&quot;</td><td>&quot;Rejected&quot;</td></tr><tr><td>&quot;BasicChecking&quot;</td><td>&quot;Unknown&quot;</td><td>1476</td><td>&quot;Lindton&quot;</td><td>&quot;Account&quot;</td><td>&quot;Rejected&quot;</td></tr><tr><td>&quot;BasicChecking&quot;</td><td>&quot;Married&quot;</td><td>1211</td><td>&quot;South Jimmieshire&quot;</td><td>&quot;DepositAccounts&quot;</td><td>&quot;Accepted&quot;</td></tr><tr><td>&quot;UPlusFinPersonal&quot;</td><td>&quot;No Resp+&quot;</td><td>533</td><td>&quot;Bergeville&quot;</td><td>null</td><td>&quot;Rejected&quot;</td></tr><tr><td>&quot;BasicChecking&quot;</td><td>&quot;No Resp+&quot;</td><td>555</td><td>&quot;Willyville&quot;</td><td>&quot;DepositAccounts&quot;</td><td>&quot;Rejected&quot;</td></tr></tbody></table></div>"
      ],
      "text/plain": [
       "shape: (7, 6)\n",
       "┌────────────────┬────────────────┬──────────────┬────────────────┬────────────────┬───────────────┐\n",
       "│ Context_Name   ┆ Customer_Marit ┆ Customer_CLV ┆ Customer_City  ┆ IH_Web_Inbound ┆ Decision_Outc │\n",
       "│ ---            ┆ alStatus       ┆ ---          ┆ ---            ┆ _Accepted_pxLa ┆ ome           │\n",
       "│ str            ┆ ---            ┆ i64          ┆ str            ┆ st…            ┆ ---           │\n",
       "│                ┆ str            ┆              ┆                ┆ ---            ┆ str           │\n",
       "│                ┆                ┆              ┆                ┆ str            ┆               │\n",
       "╞════════════════╪════════════════╪══════════════╪════════════════╪════════════════╪═══════════════╡\n",
       "│ FirstMortgage3 ┆ Married        ┆ 1460         ┆ Port Raoul     ┆ Account        ┆ Rejected      │\n",
       "│ 0yr            ┆                ┆              ┆                ┆                ┆               │\n",
       "│ FirstMortgage3 ┆ Unknown        ┆ 669          ┆ Laurianneshire ┆ AutoLoans      ┆ Accepted      │\n",
       "│ 0yr            ┆                ┆              ┆                ┆                ┆               │\n",
       "│ MoneyMarketSav ┆ No Resp+       ┆ 1174         ┆ Jacobshaven    ┆ Account        ┆ Rejected      │\n",
       "│ ingsAccount    ┆                ┆              ┆                ┆                ┆               │\n",
       "│ BasicChecking  ┆ Unknown        ┆ 1476         ┆ Lindton        ┆ Account        ┆ Rejected      │\n",
       "│ BasicChecking  ┆ Married        ┆ 1211         ┆ South          ┆ DepositAccount ┆ Accepted      │\n",
       "│                ┆                ┆              ┆ Jimmieshire    ┆ s              ┆               │\n",
       "│ UPlusFinPerson ┆ No Resp+       ┆ 533          ┆ Bergeville     ┆ null           ┆ Rejected      │\n",
       "│ al             ┆                ┆              ┆                ┆                ┆               │\n",
       "│ BasicChecking  ┆ No Resp+       ┆ 555          ┆ Willyville     ┆ DepositAccount ┆ Rejected      │\n",
       "│                ┆                ┆              ┆                ┆ s              ┆               │\n",
       "└────────────────┴────────────────┴──────────────┴────────────────┴────────────────┴───────────────┘"
      ]
     },
     "execution_count": 3,
     "metadata": {},
     "output_type": "execute_result"
    }
   ],
   "source": [
    "pl.read_ndjson('../../../../data/SampleHDS.json')"
   ]
  },
  {
   "attachments": {},
   "cell_type": "markdown",
   "metadata": {},
   "source": [
    "As you can see, this dataset consists of regular predictors, IH predictors, context keys and the outcome column. Additionally, some columns are numeric, others are strings. Let's first initialize the DataAnonymization class."
   ]
  },
  {
   "cell_type": "code",
   "execution_count": 4,
   "metadata": {
    "execution": {
     "iopub.execute_input": "2024-06-14T13:29:34.225088Z",
     "iopub.status.busy": "2024-06-14T13:29:34.224686Z",
     "iopub.status.idle": "2024-06-14T13:29:34.234230Z",
     "shell.execute_reply": "2024-06-14T13:29:34.233691Z"
    }
   },
   "outputs": [],
   "source": [
    "anon = DataAnonymization(hds_folder='../../../../data/')"
   ]
  },
  {
   "attachments": {},
   "cell_type": "markdown",
   "metadata": {},
   "source": [
    "By default, the class applies a set of anonymisation techniques:\n",
    "- Column names are remapped to a non-descriptive name\n",
    "- Categorical values are hashed with a random seed\n",
    "- Numerical values are normalized between 0 and 1\n",
    "- Outcomes are mapped to a binary outcome.\n",
    "\n",
    "To apply these techniques, simply call `.process()`:"
   ]
  },
  {
   "cell_type": "code",
   "execution_count": 5,
   "metadata": {
    "execution": {
     "iopub.execute_input": "2024-06-14T13:29:34.236321Z",
     "iopub.status.busy": "2024-06-14T13:29:34.235976Z",
     "iopub.status.idle": "2024-06-14T13:29:34.240954Z",
     "shell.execute_reply": "2024-06-14T13:29:34.240484Z"
    }
   },
   "outputs": [
    {
     "data": {
      "text/html": [
       "<div><style>\n",
       ".dataframe > thead > tr,\n",
       ".dataframe > tbody > tr {\n",
       "  text-align: right;\n",
       "  white-space: pre-wrap;\n",
       "}\n",
       "</style>\n",
       "<small>shape: (7, 7)</small><table border=\"1\" class=\"dataframe\"><thead><tr><th>PREDICTOR_0</th><th>PREDICTOR_1</th><th>filename</th><th>PREDICTOR_3</th><th>Context_Name</th><th>IH_PREDICTOR_0</th><th>Decision_Outcome</th></tr><tr><td>str</td><td>f64</td><td>str</td><td>str</td><td>str</td><td>str</td><td>bool</td></tr></thead><tbody><tr><td>&quot;7366076767064011405&quot;</td><td>3.7408e18</td><td>&quot;../../../../data/SampleHDS.jso…</td><td>&quot;11445862371370455124&quot;</td><td>&quot;996186440912158919&quot;</td><td>&quot;5355853042024550197&quot;</td><td>false</td></tr><tr><td>&quot;13885531647443271493&quot;</td><td>1.7482e19</td><td>&quot;../../../../data/SampleHDS.jso…</td><td>&quot;4656569416167498050&quot;</td><td>&quot;996186440912158919&quot;</td><td>&quot;7580775243754422822&quot;</td><td>true</td></tr><tr><td>&quot;7067119178935877299&quot;</td><td>8.8094e18</td><td>&quot;../../../../data/SampleHDS.jso…</td><td>&quot;14347826003968334750&quot;</td><td>&quot;17121075345685997428&quot;</td><td>&quot;5355853042024550197&quot;</td><td>false</td></tr><tr><td>&quot;13885531647443271493&quot;</td><td>8.2588e18</td><td>&quot;../../../../data/SampleHDS.jso…</td><td>&quot;4078697061539732141&quot;</td><td>&quot;8830867801777472262&quot;</td><td>&quot;5355853042024550197&quot;</td><td>false</td></tr><tr><td>&quot;7366076767064011405&quot;</td><td>3.8918e18</td><td>&quot;../../../../data/SampleHDS.jso…</td><td>&quot;13288364406532973451&quot;</td><td>&quot;8830867801777472262&quot;</td><td>&quot;11508028355282886263&quot;</td><td>true</td></tr><tr><td>&quot;7067119178935877299&quot;</td><td>3.5203e18</td><td>&quot;../../../../data/SampleHDS.jso…</td><td>&quot;338682199015692088&quot;</td><td>&quot;17955181812743147096&quot;</td><td>null</td><td>false</td></tr><tr><td>&quot;7067119178935877299&quot;</td><td>1.2742e19</td><td>&quot;../../../../data/SampleHDS.jso…</td><td>&quot;3778157295174976606&quot;</td><td>&quot;8830867801777472262&quot;</td><td>&quot;11508028355282886263&quot;</td><td>false</td></tr></tbody></table></div>"
      ],
      "text/plain": [
       "shape: (7, 7)\n",
       "┌──────────────┬─────────────┬─────────────┬─────────────┬─────────────┬─────────────┬─────────────┐\n",
       "│ PREDICTOR_0  ┆ PREDICTOR_1 ┆ filename    ┆ PREDICTOR_3 ┆ Context_Nam ┆ IH_PREDICTO ┆ Decision_Ou │\n",
       "│ ---          ┆ ---         ┆ ---         ┆ ---         ┆ e           ┆ R_0         ┆ tcome       │\n",
       "│ str          ┆ f64         ┆ str         ┆ str         ┆ ---         ┆ ---         ┆ ---         │\n",
       "│              ┆             ┆             ┆             ┆ str         ┆ str         ┆ bool        │\n",
       "╞══════════════╪═════════════╪═════════════╪═════════════╪═════════════╪═════════════╪═════════════╡\n",
       "│ 736607676706 ┆ 3.7408e18   ┆ ../../../.. ┆ 11445862371 ┆ 99618644091 ┆ 53558530420 ┆ false       │\n",
       "│ 4011405      ┆             ┆ /data/Sampl ┆ 370455124   ┆ 2158919     ┆ 24550197    ┆             │\n",
       "│              ┆             ┆ eHDS.jso…   ┆             ┆             ┆             ┆             │\n",
       "│ 138855316474 ┆ 1.7482e19   ┆ ../../../.. ┆ 46565694161 ┆ 99618644091 ┆ 75807752437 ┆ true        │\n",
       "│ 43271493     ┆             ┆ /data/Sampl ┆ 67498050    ┆ 2158919     ┆ 54422822    ┆             │\n",
       "│              ┆             ┆ eHDS.jso…   ┆             ┆             ┆             ┆             │\n",
       "│ 706711917893 ┆ 8.8094e18   ┆ ../../../.. ┆ 14347826003 ┆ 17121075345 ┆ 53558530420 ┆ false       │\n",
       "│ 5877299      ┆             ┆ /data/Sampl ┆ 968334750   ┆ 685997428   ┆ 24550197    ┆             │\n",
       "│              ┆             ┆ eHDS.jso…   ┆             ┆             ┆             ┆             │\n",
       "│ 138855316474 ┆ 8.2588e18   ┆ ../../../.. ┆ 40786970615 ┆ 88308678017 ┆ 53558530420 ┆ false       │\n",
       "│ 43271493     ┆             ┆ /data/Sampl ┆ 39732141    ┆ 77472262    ┆ 24550197    ┆             │\n",
       "│              ┆             ┆ eHDS.jso…   ┆             ┆             ┆             ┆             │\n",
       "│ 736607676706 ┆ 3.8918e18   ┆ ../../../.. ┆ 13288364406 ┆ 88308678017 ┆ 11508028355 ┆ true        │\n",
       "│ 4011405      ┆             ┆ /data/Sampl ┆ 532973451   ┆ 77472262    ┆ 282886263   ┆             │\n",
       "│              ┆             ┆ eHDS.jso…   ┆             ┆             ┆             ┆             │\n",
       "│ 706711917893 ┆ 3.5203e18   ┆ ../../../.. ┆ 33868219901 ┆ 17955181812 ┆ null        ┆ false       │\n",
       "│ 5877299      ┆             ┆ /data/Sampl ┆ 5692088     ┆ 743147096   ┆             ┆             │\n",
       "│              ┆             ┆ eHDS.jso…   ┆             ┆             ┆             ┆             │\n",
       "│ 706711917893 ┆ 1.2742e19   ┆ ../../../.. ┆ 37781572951 ┆ 88308678017 ┆ 11508028355 ┆ false       │\n",
       "│ 5877299      ┆             ┆ /data/Sampl ┆ 74976606    ┆ 77472262    ┆ 282886263   ┆             │\n",
       "│              ┆             ┆ eHDS.jso…   ┆             ┆             ┆             ┆             │\n",
       "└──────────────┴─────────────┴─────────────┴─────────────┴─────────────┴─────────────┴─────────────┘"
      ]
     },
     "execution_count": 5,
     "metadata": {},
     "output_type": "execute_result"
    }
   ],
   "source": [
    "anon.process()"
   ]
  },
  {
   "attachments": {},
   "cell_type": "markdown",
   "metadata": {},
   "source": [
    "To trace back the columns to their original names, the class also contains a mapping, which does not have to be provided."
   ]
  },
  {
   "cell_type": "code",
   "execution_count": 6,
   "metadata": {
    "execution": {
     "iopub.execute_input": "2024-06-14T13:29:34.242956Z",
     "iopub.status.busy": "2024-06-14T13:29:34.242639Z",
     "iopub.status.idle": "2024-06-14T13:29:34.247364Z",
     "shell.execute_reply": "2024-06-14T13:29:34.246900Z"
    }
   },
   "outputs": [
    {
     "data": {
      "text/plain": [
       "{'Customer_MaritalStatus': 'PREDICTOR_0',\n",
       " 'Customer_CLV': 'PREDICTOR_1',\n",
       " 'filename': 'filename',\n",
       " 'Customer_City': 'PREDICTOR_3',\n",
       " 'Context_Name': 'Context_Name',\n",
       " 'IH_Web_Inbound_Accepted_pxLastGroupID': 'IH_PREDICTOR_0',\n",
       " 'Decision_Outcome': 'Decision_Outcome'}"
      ]
     },
     "execution_count": 6,
     "metadata": {},
     "output_type": "execute_result"
    }
   ],
   "source": [
    "anon.column_mapping"
   ]
  },
  {
   "attachments": {},
   "cell_type": "markdown",
   "metadata": {},
   "source": [
    "## Configs\n",
    "\n",
    "Each capability can optionally be turned off - see below for the full list of config options, and refer to the API reference for the full description."
   ]
  },
  {
   "cell_type": "code",
   "execution_count": 7,
   "metadata": {
    "execution": {
     "iopub.execute_input": "2024-06-14T13:29:34.249358Z",
     "iopub.status.busy": "2024-06-14T13:29:34.249029Z",
     "iopub.status.idle": "2024-06-14T13:29:34.253234Z",
     "shell.execute_reply": "2024-06-14T13:29:34.252696Z"
    }
   },
   "outputs": [
    {
     "data": {
      "text/plain": [
       "{'config_file': None,\n",
       " 'hds_folder': '.',\n",
       " 'use_datamart': False,\n",
       " 'datamart_folder': 'datamart',\n",
       " 'output_format': 'ndjson',\n",
       " 'output_folder': 'output',\n",
       " 'mapping_file': 'mapping.map',\n",
       " 'mask_predictor_names': True,\n",
       " 'mask_context_key_names': False,\n",
       " 'mask_ih_names': True,\n",
       " 'mask_outcome_name': False,\n",
       " 'mask_predictor_values': True,\n",
       " 'mask_context_key_values': True,\n",
       " 'mask_ih_values': True,\n",
       " 'mask_outcome_values': True,\n",
       " 'context_key_label': 'Context_*',\n",
       " 'ih_label': 'IH_*',\n",
       " 'outcome_column': 'Decision_Outcome',\n",
       " 'positive_outcomes': ['Accepted', 'Clicked'],\n",
       " 'negative_outcomes': ['Rejected', 'Impression'],\n",
       " 'special_predictors': ['Decision_DecisionTime',\n",
       "  'Decision_OutcomeTime',\n",
       "  'Decision_Rank'],\n",
       " 'sample_percentage_schema_inferencing': 0.01}"
      ]
     },
     "execution_count": 7,
     "metadata": {},
     "output_type": "execute_result"
    }
   ],
   "source": [
    "dict(zip(Config.__init__.__code__.co_varnames[1:], Config.__init__.__defaults__))"
   ]
  },
  {
   "attachments": {},
   "cell_type": "markdown",
   "metadata": {},
   "source": [
    "It's easy to change these parameters by just passing the keyword arguments. In the following example, we\n",
    "- Keep the IH predictor names\n",
    "- Keep the outcome values\n",
    "- Keep the context key values\n",
    "- Keep the context key predictor names"
   ]
  },
  {
   "cell_type": "code",
   "execution_count": 8,
   "metadata": {
    "execution": {
     "iopub.execute_input": "2024-06-14T13:29:34.255181Z",
     "iopub.status.busy": "2024-06-14T13:29:34.254876Z",
     "iopub.status.idle": "2024-06-14T13:29:34.262192Z",
     "shell.execute_reply": "2024-06-14T13:29:34.261671Z"
    }
   },
   "outputs": [
    {
     "data": {
      "text/html": [
       "<div><style>\n",
       ".dataframe > thead > tr,\n",
       ".dataframe > tbody > tr {\n",
       "  text-align: right;\n",
       "  white-space: pre-wrap;\n",
       "}\n",
       "</style>\n",
       "<small>shape: (7, 7)</small><table border=\"1\" class=\"dataframe\"><thead><tr><th>PREDICTOR_0</th><th>PREDICTOR_1</th><th>filename</th><th>PREDICTOR_3</th><th>Context_Name</th><th>IH_Web_Inbound_Accepted_pxLastGroupID</th><th>Decision_Outcome</th></tr><tr><td>str</td><td>f64</td><td>str</td><td>str</td><td>str</td><td>str</td><td>str</td></tr></thead><tbody><tr><td>&quot;5025318156029100158&quot;</td><td>6.5138e18</td><td>&quot;../../../../data/SampleHDS.jso…</td><td>&quot;8855968667078076054&quot;</td><td>&quot;FirstMortgage30yr&quot;</td><td>&quot;10299141435995342729&quot;</td><td>&quot;Rejected&quot;</td></tr><tr><td>&quot;3870675745504902947&quot;</td><td>1.2726e19</td><td>&quot;../../../../data/SampleHDS.jso…</td><td>&quot;15270368382607087193&quot;</td><td>&quot;FirstMortgage30yr&quot;</td><td>&quot;3131593840207048690&quot;</td><td>&quot;Accepted&quot;</td></tr><tr><td>&quot;12362868346653527697&quot;</td><td>6.4425e18</td><td>&quot;../../../../data/SampleHDS.jso…</td><td>&quot;5026172220578793301&quot;</td><td>&quot;MoneyMarketSavingsAccount&quot;</td><td>&quot;10299141435995342729&quot;</td><td>&quot;Rejected&quot;</td></tr><tr><td>&quot;3870675745504902947&quot;</td><td>3.3595e18</td><td>&quot;../../../../data/SampleHDS.jso…</td><td>&quot;761022111288795900&quot;</td><td>&quot;BasicChecking&quot;</td><td>&quot;10299141435995342729&quot;</td><td>&quot;Rejected&quot;</td></tr><tr><td>&quot;5025318156029100158&quot;</td><td>1.3084e19</td><td>&quot;../../../../data/SampleHDS.jso…</td><td>&quot;6853274655965317797&quot;</td><td>&quot;BasicChecking&quot;</td><td>&quot;13546059814940573562&quot;</td><td>&quot;Accepted&quot;</td></tr><tr><td>&quot;12362868346653527697&quot;</td><td>2.8984e18</td><td>&quot;../../../../data/SampleHDS.jso…</td><td>&quot;6481845371923793215&quot;</td><td>&quot;UPlusFinPersonal&quot;</td><td>null</td><td>&quot;Rejected&quot;</td></tr><tr><td>&quot;12362868346653527697&quot;</td><td>5.8330e18</td><td>&quot;../../../../data/SampleHDS.jso…</td><td>&quot;4888913171151449595&quot;</td><td>&quot;BasicChecking&quot;</td><td>&quot;13546059814940573562&quot;</td><td>&quot;Rejected&quot;</td></tr></tbody></table></div>"
      ],
      "text/plain": [
       "shape: (7, 7)\n",
       "┌──────────────┬─────────────┬─────────────┬─────────────┬─────────────┬─────────────┬─────────────┐\n",
       "│ PREDICTOR_0  ┆ PREDICTOR_1 ┆ filename    ┆ PREDICTOR_3 ┆ Context_Nam ┆ IH_Web_Inbo ┆ Decision_Ou │\n",
       "│ ---          ┆ ---         ┆ ---         ┆ ---         ┆ e           ┆ und_Accepte ┆ tcome       │\n",
       "│ str          ┆ f64         ┆ str         ┆ str         ┆ ---         ┆ d_pxLast…   ┆ ---         │\n",
       "│              ┆             ┆             ┆             ┆ str         ┆ ---         ┆ str         │\n",
       "│              ┆             ┆             ┆             ┆             ┆ str         ┆             │\n",
       "╞══════════════╪═════════════╪═════════════╪═════════════╪═════════════╪═════════════╪═════════════╡\n",
       "│ 502531815602 ┆ 6.5138e18   ┆ ../../../.. ┆ 88559686670 ┆ FirstMortga ┆ 10299141435 ┆ Rejected    │\n",
       "│ 9100158      ┆             ┆ /data/Sampl ┆ 78076054    ┆ ge30yr      ┆ 995342729   ┆             │\n",
       "│              ┆             ┆ eHDS.jso…   ┆             ┆             ┆             ┆             │\n",
       "│ 387067574550 ┆ 1.2726e19   ┆ ../../../.. ┆ 15270368382 ┆ FirstMortga ┆ 31315938402 ┆ Accepted    │\n",
       "│ 4902947      ┆             ┆ /data/Sampl ┆ 607087193   ┆ ge30yr      ┆ 07048690    ┆             │\n",
       "│              ┆             ┆ eHDS.jso…   ┆             ┆             ┆             ┆             │\n",
       "│ 123628683466 ┆ 6.4425e18   ┆ ../../../.. ┆ 50261722205 ┆ MoneyMarket ┆ 10299141435 ┆ Rejected    │\n",
       "│ 53527697     ┆             ┆ /data/Sampl ┆ 78793301    ┆ SavingsAcco ┆ 995342729   ┆             │\n",
       "│              ┆             ┆ eHDS.jso…   ┆             ┆ unt         ┆             ┆             │\n",
       "│ 387067574550 ┆ 3.3595e18   ┆ ../../../.. ┆ 76102211128 ┆ BasicChecki ┆ 10299141435 ┆ Rejected    │\n",
       "│ 4902947      ┆             ┆ /data/Sampl ┆ 8795900     ┆ ng          ┆ 995342729   ┆             │\n",
       "│              ┆             ┆ eHDS.jso…   ┆             ┆             ┆             ┆             │\n",
       "│ 502531815602 ┆ 1.3084e19   ┆ ../../../.. ┆ 68532746559 ┆ BasicChecki ┆ 13546059814 ┆ Accepted    │\n",
       "│ 9100158      ┆             ┆ /data/Sampl ┆ 65317797    ┆ ng          ┆ 940573562   ┆             │\n",
       "│              ┆             ┆ eHDS.jso…   ┆             ┆             ┆             ┆             │\n",
       "│ 123628683466 ┆ 2.8984e18   ┆ ../../../.. ┆ 64818453719 ┆ UPlusFinPer ┆ null        ┆ Rejected    │\n",
       "│ 53527697     ┆             ┆ /data/Sampl ┆ 23793215    ┆ sonal       ┆             ┆             │\n",
       "│              ┆             ┆ eHDS.jso…   ┆             ┆             ┆             ┆             │\n",
       "│ 123628683466 ┆ 5.8330e18   ┆ ../../../.. ┆ 48889131711 ┆ BasicChecki ┆ 13546059814 ┆ Rejected    │\n",
       "│ 53527697     ┆             ┆ /data/Sampl ┆ 51449595    ┆ ng          ┆ 940573562   ┆             │\n",
       "│              ┆             ┆ eHDS.jso…   ┆             ┆             ┆             ┆             │\n",
       "└──────────────┴─────────────┴─────────────┴─────────────┴─────────────┴─────────────┴─────────────┘"
      ]
     },
     "execution_count": 8,
     "metadata": {},
     "output_type": "execute_result"
    }
   ],
   "source": [
    "anon = DataAnonymization(\n",
    "    hds_folder=\"../../../../data/\",\n",
    "    mask_ih_names=False,\n",
    "    mask_outcome_values=False,\n",
    "    mask_context_key_values=False,\n",
    "    mask_context_key_names=False,\n",
    ")\n",
    "anon.process()\n"
   ]
  },
  {
   "attachments": {},
   "cell_type": "markdown",
   "metadata": {},
   "source": [
    "The configs can also be written and read as such:"
   ]
  },
  {
   "cell_type": "code",
   "execution_count": 9,
   "metadata": {
    "execution": {
     "iopub.execute_input": "2024-06-14T13:29:34.264263Z",
     "iopub.status.busy": "2024-06-14T13:29:34.263838Z",
     "iopub.status.idle": "2024-06-14T13:29:34.266677Z",
     "shell.execute_reply": "2024-06-14T13:29:34.266161Z"
    }
   },
   "outputs": [],
   "source": [
    "anon.config.save_to_config_file('config.json')"
   ]
  },
  {
   "cell_type": "code",
   "execution_count": 10,
   "metadata": {
    "execution": {
     "iopub.execute_input": "2024-06-14T13:29:34.268832Z",
     "iopub.status.busy": "2024-06-14T13:29:34.268548Z",
     "iopub.status.idle": "2024-06-14T13:29:34.275811Z",
     "shell.execute_reply": "2024-06-14T13:29:34.275365Z"
    }
   },
   "outputs": [
    {
     "data": {
      "text/html": [
       "<div><style>\n",
       ".dataframe > thead > tr,\n",
       ".dataframe > tbody > tr {\n",
       "  text-align: right;\n",
       "  white-space: pre-wrap;\n",
       "}\n",
       "</style>\n",
       "<small>shape: (7, 7)</small><table border=\"1\" class=\"dataframe\"><thead><tr><th>PREDICTOR_0</th><th>PREDICTOR_1</th><th>filename</th><th>PREDICTOR_3</th><th>Context_Name</th><th>IH_Web_Inbound_Accepted_pxLastGroupID</th><th>Decision_Outcome</th></tr><tr><td>str</td><td>f64</td><td>str</td><td>str</td><td>str</td><td>str</td><td>str</td></tr></thead><tbody><tr><td>&quot;17137216660075055480&quot;</td><td>1.5534e19</td><td>&quot;../../../../data/SampleHDS.jso…</td><td>&quot;15256477228950604321&quot;</td><td>&quot;FirstMortgage30yr&quot;</td><td>&quot;5365765740189946508&quot;</td><td>&quot;Rejected&quot;</td></tr><tr><td>&quot;9239508125333686845&quot;</td><td>1.5585e19</td><td>&quot;../../../../data/SampleHDS.jso…</td><td>&quot;5748329447039337521&quot;</td><td>&quot;FirstMortgage30yr&quot;</td><td>&quot;13945789067113756315&quot;</td><td>&quot;Accepted&quot;</td></tr><tr><td>&quot;1195875609871060452&quot;</td><td>3.6761e18</td><td>&quot;../../../../data/SampleHDS.jso…</td><td>&quot;7722774600078556983&quot;</td><td>&quot;MoneyMarketSavingsAccount&quot;</td><td>&quot;5365765740189946508&quot;</td><td>&quot;Rejected&quot;</td></tr><tr><td>&quot;9239508125333686845&quot;</td><td>1.2428e19</td><td>&quot;../../../../data/SampleHDS.jso…</td><td>&quot;16787501570511074124&quot;</td><td>&quot;BasicChecking&quot;</td><td>&quot;5365765740189946508&quot;</td><td>&quot;Rejected&quot;</td></tr><tr><td>&quot;17137216660075055480&quot;</td><td>1.3841e19</td><td>&quot;../../../../data/SampleHDS.jso…</td><td>&quot;7869921592204567871&quot;</td><td>&quot;BasicChecking&quot;</td><td>&quot;4458569829142509689&quot;</td><td>&quot;Accepted&quot;</td></tr><tr><td>&quot;1195875609871060452&quot;</td><td>8.4453e18</td><td>&quot;../../../../data/SampleHDS.jso…</td><td>&quot;17365505558168836504&quot;</td><td>&quot;UPlusFinPersonal&quot;</td><td>null</td><td>&quot;Rejected&quot;</td></tr><tr><td>&quot;1195875609871060452&quot;</td><td>2.5789e18</td><td>&quot;../../../../data/SampleHDS.jso…</td><td>&quot;4983691918605320341&quot;</td><td>&quot;BasicChecking&quot;</td><td>&quot;4458569829142509689&quot;</td><td>&quot;Rejected&quot;</td></tr></tbody></table></div>"
      ],
      "text/plain": [
       "shape: (7, 7)\n",
       "┌──────────────┬─────────────┬─────────────┬─────────────┬─────────────┬─────────────┬─────────────┐\n",
       "│ PREDICTOR_0  ┆ PREDICTOR_1 ┆ filename    ┆ PREDICTOR_3 ┆ Context_Nam ┆ IH_Web_Inbo ┆ Decision_Ou │\n",
       "│ ---          ┆ ---         ┆ ---         ┆ ---         ┆ e           ┆ und_Accepte ┆ tcome       │\n",
       "│ str          ┆ f64         ┆ str         ┆ str         ┆ ---         ┆ d_pxLast…   ┆ ---         │\n",
       "│              ┆             ┆             ┆             ┆ str         ┆ ---         ┆ str         │\n",
       "│              ┆             ┆             ┆             ┆             ┆ str         ┆             │\n",
       "╞══════════════╪═════════════╪═════════════╪═════════════╪═════════════╪═════════════╪═════════════╡\n",
       "│ 171372166600 ┆ 1.5534e19   ┆ ../../../.. ┆ 15256477228 ┆ FirstMortga ┆ 53657657401 ┆ Rejected    │\n",
       "│ 75055480     ┆             ┆ /data/Sampl ┆ 950604321   ┆ ge30yr      ┆ 89946508    ┆             │\n",
       "│              ┆             ┆ eHDS.jso…   ┆             ┆             ┆             ┆             │\n",
       "│ 923950812533 ┆ 1.5585e19   ┆ ../../../.. ┆ 57483294470 ┆ FirstMortga ┆ 13945789067 ┆ Accepted    │\n",
       "│ 3686845      ┆             ┆ /data/Sampl ┆ 39337521    ┆ ge30yr      ┆ 113756315   ┆             │\n",
       "│              ┆             ┆ eHDS.jso…   ┆             ┆             ┆             ┆             │\n",
       "│ 119587560987 ┆ 3.6761e18   ┆ ../../../.. ┆ 77227746000 ┆ MoneyMarket ┆ 53657657401 ┆ Rejected    │\n",
       "│ 1060452      ┆             ┆ /data/Sampl ┆ 78556983    ┆ SavingsAcco ┆ 89946508    ┆             │\n",
       "│              ┆             ┆ eHDS.jso…   ┆             ┆ unt         ┆             ┆             │\n",
       "│ 923950812533 ┆ 1.2428e19   ┆ ../../../.. ┆ 16787501570 ┆ BasicChecki ┆ 53657657401 ┆ Rejected    │\n",
       "│ 3686845      ┆             ┆ /data/Sampl ┆ 511074124   ┆ ng          ┆ 89946508    ┆             │\n",
       "│              ┆             ┆ eHDS.jso…   ┆             ┆             ┆             ┆             │\n",
       "│ 171372166600 ┆ 1.3841e19   ┆ ../../../.. ┆ 78699215922 ┆ BasicChecki ┆ 44585698291 ┆ Accepted    │\n",
       "│ 75055480     ┆             ┆ /data/Sampl ┆ 04567871    ┆ ng          ┆ 42509689    ┆             │\n",
       "│              ┆             ┆ eHDS.jso…   ┆             ┆             ┆             ┆             │\n",
       "│ 119587560987 ┆ 8.4453e18   ┆ ../../../.. ┆ 17365505558 ┆ UPlusFinPer ┆ null        ┆ Rejected    │\n",
       "│ 1060452      ┆             ┆ /data/Sampl ┆ 168836504   ┆ sonal       ┆             ┆             │\n",
       "│              ┆             ┆ eHDS.jso…   ┆             ┆             ┆             ┆             │\n",
       "│ 119587560987 ┆ 2.5789e18   ┆ ../../../.. ┆ 49836919186 ┆ BasicChecki ┆ 44585698291 ┆ Rejected    │\n",
       "│ 1060452      ┆             ┆ /data/Sampl ┆ 05320341    ┆ ng          ┆ 42509689    ┆             │\n",
       "│              ┆             ┆ eHDS.jso…   ┆             ┆             ┆             ┆             │\n",
       "└──────────────┴─────────────┴─────────────┴─────────────┴─────────────┴─────────────┴─────────────┘"
      ]
     },
     "execution_count": 10,
     "metadata": {},
     "output_type": "execute_result"
    }
   ],
   "source": [
    "anon = DataAnonymization(config=Config(config_file='config.json'))\n",
    "anon.process()"
   ]
  },
  {
   "attachments": {},
   "cell_type": "markdown",
   "metadata": {},
   "source": [
    "## Exporting\n",
    "Two functions export:\n",
    "- `create_mapping_file()` writes the mapping file of the predictor names\n",
    "- `write_to_output()` writes the processed dataframe to disk\n",
    "\n",
    "Write to output accepts the following extensions: `[\"ndjson\", \"parquet\", \"arrow\", \"csv\"]`"
   ]
  },
  {
   "cell_type": "code",
   "execution_count": 11,
   "metadata": {
    "execution": {
     "iopub.execute_input": "2024-06-14T13:29:34.277791Z",
     "iopub.status.busy": "2024-06-14T13:29:34.277465Z",
     "iopub.status.idle": "2024-06-14T13:29:34.280779Z",
     "shell.execute_reply": "2024-06-14T13:29:34.280256Z"
    }
   },
   "outputs": [
    {
     "name": "stdout",
     "output_type": "stream",
     "text": [
      "Customer_MaritalStatus=PREDICTOR_0\n",
      "Customer_CLV=PREDICTOR_1\n",
      "filename=filename\n",
      "Customer_City=PREDICTOR_3\n",
      "Context_Name=Context_Name\n",
      "IH_Web_Inbound_Accepted_pxLastGroupID=IH_Web_Inbound_Accepted_pxLastGroupID\n",
      "Decision_Outcome=Decision_Outcome\n",
      "\n"
     ]
    }
   ],
   "source": [
    "anon.create_mapping_file()\n",
    "with open('mapping.map') as f:\n",
    "    print(f.read())"
   ]
  },
  {
   "cell_type": "code",
   "execution_count": 12,
   "metadata": {
    "execution": {
     "iopub.execute_input": "2024-06-14T13:29:34.282737Z",
     "iopub.status.busy": "2024-06-14T13:29:34.282437Z",
     "iopub.status.idle": "2024-06-14T13:29:34.285833Z",
     "shell.execute_reply": "2024-06-14T13:29:34.285423Z"
    }
   },
   "outputs": [],
   "source": [
    "anon.write_to_output(ext='arrow')"
   ]
  },
  {
   "cell_type": "code",
   "execution_count": 13,
   "metadata": {
    "execution": {
     "iopub.execute_input": "2024-06-14T13:29:34.287827Z",
     "iopub.status.busy": "2024-06-14T13:29:34.287498Z",
     "iopub.status.idle": "2024-06-14T13:29:34.292050Z",
     "shell.execute_reply": "2024-06-14T13:29:34.291535Z"
    }
   },
   "outputs": [
    {
     "data": {
      "text/html": [
       "<div><style>\n",
       ".dataframe > thead > tr,\n",
       ".dataframe > tbody > tr {\n",
       "  text-align: right;\n",
       "  white-space: pre-wrap;\n",
       "}\n",
       "</style>\n",
       "<small>shape: (7, 6)</small><table border=\"1\" class=\"dataframe\"><thead><tr><th>PREDICTOR_0</th><th>PREDICTOR_1</th><th>PREDICTOR_3</th><th>Context_Name</th><th>IH_Web_Inbound_Accepted_pxLastGroupID</th><th>Decision_Outcome</th></tr><tr><td>str</td><td>f64</td><td>str</td><td>str</td><td>str</td><td>str</td></tr></thead><tbody><tr><td>&quot;15650802729957068662&quot;</td><td>7.5595e18</td><td>&quot;6465019140683639660&quot;</td><td>&quot;FirstMortgage30yr&quot;</td><td>&quot;1336767213852904941&quot;</td><td>&quot;Rejected&quot;</td></tr><tr><td>&quot;7597142121382374978&quot;</td><td>1.6323e19</td><td>&quot;11330766791358935844&quot;</td><td>&quot;FirstMortgage30yr&quot;</td><td>&quot;11107915217502457470&quot;</td><td>&quot;Accepted&quot;</td></tr><tr><td>&quot;4826529943883689700&quot;</td><td>1.1296e19</td><td>&quot;10160209909570538756&quot;</td><td>&quot;MoneyMarketSavingsAccount&quot;</td><td>&quot;1336767213852904941&quot;</td><td>&quot;Rejected&quot;</td></tr><tr><td>&quot;7597142121382374978&quot;</td><td>1.5711e18</td><td>&quot;10137487717787294801&quot;</td><td>&quot;BasicChecking&quot;</td><td>&quot;1336767213852904941&quot;</td><td>&quot;Rejected&quot;</td></tr><tr><td>&quot;15650802729957068662&quot;</td><td>1.2622e19</td><td>&quot;2147067015790250544&quot;</td><td>&quot;BasicChecking&quot;</td><td>&quot;5168795359902163199&quot;</td><td>&quot;Accepted&quot;</td></tr><tr><td>&quot;4826529943883689700&quot;</td><td>1.7312e18</td><td>&quot;2849707428096218412&quot;</td><td>&quot;UPlusFinPersonal&quot;</td><td>null</td><td>&quot;Rejected&quot;</td></tr><tr><td>&quot;4826529943883689700&quot;</td><td>1.7401e19</td><td>&quot;10047033351636202882&quot;</td><td>&quot;BasicChecking&quot;</td><td>&quot;5168795359902163199&quot;</td><td>&quot;Rejected&quot;</td></tr></tbody></table></div>"
      ],
      "text/plain": [
       "shape: (7, 6)\n",
       "┌────────────────┬─────────────┬────────────────┬────────────────┬────────────────┬────────────────┐\n",
       "│ PREDICTOR_0    ┆ PREDICTOR_1 ┆ PREDICTOR_3    ┆ Context_Name   ┆ IH_Web_Inbound ┆ Decision_Outco │\n",
       "│ ---            ┆ ---         ┆ ---            ┆ ---            ┆ _Accepted_pxLa ┆ me             │\n",
       "│ str            ┆ f64         ┆ str            ┆ str            ┆ st…            ┆ ---            │\n",
       "│                ┆             ┆                ┆                ┆ ---            ┆ str            │\n",
       "│                ┆             ┆                ┆                ┆ str            ┆                │\n",
       "╞════════════════╪═════════════╪════════════════╪════════════════╪════════════════╪════════════════╡\n",
       "│ 15650802729957 ┆ 7.5595e18   ┆ 64650191406836 ┆ FirstMortgage3 ┆ 13367672138529 ┆ Rejected       │\n",
       "│ 068662         ┆             ┆ 39660          ┆ 0yr            ┆ 04941          ┆                │\n",
       "│ 75971421213823 ┆ 1.6323e19   ┆ 11330766791358 ┆ FirstMortgage3 ┆ 11107915217502 ┆ Accepted       │\n",
       "│ 74978          ┆             ┆ 935844         ┆ 0yr            ┆ 457470         ┆                │\n",
       "│ 48265299438836 ┆ 1.1296e19   ┆ 10160209909570 ┆ MoneyMarketSav ┆ 13367672138529 ┆ Rejected       │\n",
       "│ 89700          ┆             ┆ 538756         ┆ ingsAccount    ┆ 04941          ┆                │\n",
       "│ 75971421213823 ┆ 1.5711e18   ┆ 10137487717787 ┆ BasicChecking  ┆ 13367672138529 ┆ Rejected       │\n",
       "│ 74978          ┆             ┆ 294801         ┆                ┆ 04941          ┆                │\n",
       "│ 15650802729957 ┆ 1.2622e19   ┆ 21470670157902 ┆ BasicChecking  ┆ 51687953599021 ┆ Accepted       │\n",
       "│ 068662         ┆             ┆ 50544          ┆                ┆ 63199          ┆                │\n",
       "│ 48265299438836 ┆ 1.7312e18   ┆ 28497074280962 ┆ UPlusFinPerson ┆ null           ┆ Rejected       │\n",
       "│ 89700          ┆             ┆ 18412          ┆ al             ┆                ┆                │\n",
       "│ 48265299438836 ┆ 1.7401e19   ┆ 10047033351636 ┆ BasicChecking  ┆ 51687953599021 ┆ Rejected       │\n",
       "│ 89700          ┆             ┆ 202882         ┆                ┆ 63199          ┆                │\n",
       "└────────────────┴─────────────┴────────────────┴────────────────┴────────────────┴────────────────┘"
      ]
     },
     "execution_count": 13,
     "metadata": {},
     "output_type": "execute_result"
    }
   ],
   "source": [
    "pl.read_ipc('output/hds.arrow')"
   ]
  },
  {
   "attachments": {},
   "cell_type": "markdown",
   "metadata": {
    "nbsphinx": "hidden"
   },
   "source": [
    "## Advanced: Hash fuctions\n",
    "\n",
    "By default, we use [the same hashing algorithm Polars](https://pola-rs.github.io/polars/py-polars/html/reference/expressions/api/polars.Expr.hash.html#polars.Expr.hash) uses: [xxhash](https://github.com/Cyan4973/xxHash), as implemented [here](https://github.com/pola-rs/polars/blob/3f287f370b3c388ed2f3f218b2c096382548136f/polars/polars-core/src/vector_hasher.rs#L266). xxhash is fast to compute, and you can check its performance in collision, dispersion and randomness [here](https://github.com/Cyan4973/xxHash/tree/dev/tests). \n",
    "\n",
    "xxhash accepts four distinct seeds, but by default we set the seeds to `0`. It is possible to set the `seed` argument of the `process()` function to `'random'`, which will set all four seeds to a random integer between `0` and `1000000000`. Alternatively, it is possible to supply the four seeds manually with arguments `seed`, `seed_1`, `seed_2` and `seed_3`. \n",
    "\n",
    "If the xxhash with (random) seed(s) is not deemed sufficiently secure, it is possible to use your own hashing algorithm.\n",
    "\n",
    "Note that since we're now running python code and not native Polars code anymore, this will be _significantly_ slower. Nonetheless, it is possible.\n",
    "\n",
    "Just as an example - this is how one would use sha3_256:"
   ]
  },
  {
   "cell_type": "code",
   "execution_count": 14,
   "metadata": {
    "execution": {
     "iopub.execute_input": "2024-06-14T13:29:34.294097Z",
     "iopub.status.busy": "2024-06-14T13:29:34.293780Z",
     "iopub.status.idle": "2024-06-14T13:29:34.614051Z",
     "shell.execute_reply": "2024-06-14T13:29:34.613542Z"
    },
    "nbsphinx": "hidden"
   },
   "outputs": [
    {
     "name": "stderr",
     "output_type": "stream",
     "text": [
      "sys:1: MapWithoutReturnDtypeWarning:\n",
      "\n",
      "Calling `map_elements` without specifying `return_dtype` can lead to unpredictable results. Specify `return_dtype` to silence this warning.\n",
      "\n",
      "sys:1: MapWithoutReturnDtypeWarning:\n",
      "\n",
      "Calling `map_elements` without specifying `return_dtype` can lead to unpredictable results. Specify `return_dtype` to silence this warning.\n",
      "\n",
      "sys:1: MapWithoutReturnDtypeWarning:\n",
      "\n",
      "Calling `map_elements` without specifying `return_dtype` can lead to unpredictable results. Specify `return_dtype` to silence this warning.\n",
      "\n",
      "sys:1: MapWithoutReturnDtypeWarning:\n",
      "\n",
      "Calling `map_elements` without specifying `return_dtype` can lead to unpredictable results. Specify `return_dtype` to silence this warning.\n",
      "\n"
     ]
    },
    {
     "ename": "ComputeError",
     "evalue": "AttributeError: 'int' object has no attribute 'encode'",
     "output_type": "error",
     "traceback": [
      "\u001b[0;31m---------------------------------------------------------------------------\u001b[0m",
      "\u001b[0;31mComputeError\u001b[0m                              Traceback (most recent call last)",
      "Cell \u001b[0;32mIn[14], line 3\u001b[0m\n\u001b[1;32m      1\u001b[0m \u001b[38;5;28;01mfrom\u001b[39;00m \u001b[38;5;21;01mhashlib\u001b[39;00m \u001b[38;5;28;01mimport\u001b[39;00m sha3_256\n\u001b[0;32m----> 3\u001b[0m \u001b[43manon\u001b[49m\u001b[38;5;241;43m.\u001b[39;49m\u001b[43mprocess\u001b[49m\u001b[43m(\u001b[49m\u001b[43malgorithm\u001b[49m\u001b[38;5;241;43m=\u001b[39;49m\u001b[38;5;28;43;01mlambda\u001b[39;49;00m\u001b[43m \u001b[49m\u001b[43mx\u001b[49m\u001b[43m:\u001b[49m\u001b[43m \u001b[49m\u001b[43msha3_256\u001b[49m\u001b[43m(\u001b[49m\u001b[43mx\u001b[49m\u001b[38;5;241;43m.\u001b[39;49m\u001b[43mencode\u001b[49m\u001b[43m(\u001b[49m\u001b[43m)\u001b[49m\u001b[43m)\u001b[49m\u001b[38;5;241;43m.\u001b[39;49m\u001b[43mhexdigest\u001b[49m\u001b[43m(\u001b[49m\u001b[43m)\u001b[49m\u001b[43m)\u001b[49m\n",
      "File \u001b[0;32m~/work/pega-datascientist-tools/pega-datascientist-tools/python/docs/source/articles/../../../pdstools/utils/hds_utils.py:512\u001b[0m, in \u001b[0;36mDataAnonymization.process\u001b[0;34m(self, strategy, **kwargs)\u001b[0m\n\u001b[1;32m    510\u001b[0m df \u001b[38;5;241m=\u001b[39m df\u001b[38;5;241m.\u001b[39mselect(\u001b[38;5;28mself\u001b[39m\u001b[38;5;241m.\u001b[39mcolumn_mapping\u001b[38;5;241m.\u001b[39mkeys())\u001b[38;5;241m.\u001b[39mrename(\u001b[38;5;28mself\u001b[39m\u001b[38;5;241m.\u001b[39mcolumn_mapping)\n\u001b[1;32m    511\u001b[0m \u001b[38;5;28;01mif\u001b[39;00m strategy \u001b[38;5;241m==\u001b[39m \u001b[38;5;124m\"\u001b[39m\u001b[38;5;124meager\u001b[39m\u001b[38;5;124m\"\u001b[39m:\n\u001b[0;32m--> 512\u001b[0m     \u001b[38;5;28;01mreturn\u001b[39;00m \u001b[43mdf\u001b[49m\u001b[38;5;241;43m.\u001b[39;49m\u001b[43mcollect\u001b[49m\u001b[43m(\u001b[49m\u001b[43m)\u001b[49m\n\u001b[1;32m    513\u001b[0m \u001b[38;5;28;01mreturn\u001b[39;00m df\n",
      "File \u001b[0;32m/opt/hostedtoolcache/Python/3.11.9/x64/lib/python3.11/site-packages/polars/lazyframe/frame.py:1967\u001b[0m, in \u001b[0;36mLazyFrame.collect\u001b[0;34m(self, type_coercion, predicate_pushdown, projection_pushdown, simplify_expression, slice_pushdown, comm_subplan_elim, comm_subexpr_elim, cluster_with_columns, no_optimization, streaming, background, _eager, **_kwargs)\u001b[0m\n\u001b[1;32m   1964\u001b[0m \u001b[38;5;66;03m# Only for testing purposes atm.\u001b[39;00m\n\u001b[1;32m   1965\u001b[0m callback \u001b[38;5;241m=\u001b[39m _kwargs\u001b[38;5;241m.\u001b[39mget(\u001b[38;5;124m\"\u001b[39m\u001b[38;5;124mpost_opt_callback\u001b[39m\u001b[38;5;124m\"\u001b[39m)\n\u001b[0;32m-> 1967\u001b[0m \u001b[38;5;28;01mreturn\u001b[39;00m wrap_df(\u001b[43mldf\u001b[49m\u001b[38;5;241;43m.\u001b[39;49m\u001b[43mcollect\u001b[49m\u001b[43m(\u001b[49m\u001b[43mcallback\u001b[49m\u001b[43m)\u001b[49m)\n",
      "\u001b[0;31mComputeError\u001b[0m: AttributeError: 'int' object has no attribute 'encode'"
     ]
    }
   ],
   "source": [
    "from hashlib import sha3_256\n",
    "\n",
    "anon.process(algorithm=lambda x: sha3_256(x.encode()).hexdigest())"
   ]
  }
 ],
 "metadata": {
  "kernelspec": {
   "display_name": "Python 3",
   "language": "python",
   "name": "python3"
  },
  "language_info": {
   "codemirror_mode": {
    "name": "ipython",
    "version": 3
   },
   "file_extension": ".py",
   "mimetype": "text/x-python",
   "name": "python",
   "nbconvert_exporter": "python",
   "pygments_lexer": "ipython3",
   "version": "3.11.9"
  },
  "vscode": {
   "interpreter": {
    "hash": "aee8b7b246df8f9039afb4144a1f6fd8d2ca17a180786b69acc140d282b71a49"
   }
  }
 },
 "nbformat": 4,
 "nbformat_minor": 2
}
