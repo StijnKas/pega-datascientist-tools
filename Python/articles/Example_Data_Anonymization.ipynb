{
 "cells": [
  {
   "attachments": {},
   "cell_type": "markdown",
   "metadata": {},
   "source": [
    "# Data Anonymization\n",
    "\n",
    "In Pega CDH 8.5 and up, it's now possible to record the historical data as seen by the Adaptive Models. See [this academy challenge](https://academy.pega.com/challenge/exporting-historical-data/v4) for reference. This historical data can be further used to experiment with offline models, but also to fine-tune the OOTB Gradient Boosting model. However, sharing this information with Pega can be sensitive as it contains raw predictor data. \n",
    "\n",
    "To this end, we provide a simple and transparent script to fully anonimize this dataset.\n",
    "\n",
    "The DataAnonymization script is now part of pdstools, and you can import it directly as such."
   ]
  },
  {
   "cell_type": "code",
   "execution_count": 1,
   "metadata": {
    "execution": {
     "iopub.execute_input": "2024-04-08T08:11:21.804992Z",
     "iopub.status.busy": "2024-04-08T08:11:21.804582Z",
     "iopub.status.idle": "2024-04-08T08:11:21.874711Z",
     "shell.execute_reply": "2024-04-08T08:11:21.874134Z"
    },
    "nbsphinx": "hidden"
   },
   "outputs": [],
   "source": [
    "# These lines are only for rendering in the docs, and are hidden through Jupyter tags\n",
    "# Do not run if you're running the notebook seperately\n",
    "\n",
    "import os  \n",
    "import sys\n",
    "import plotly.io as pio\n",
    "pio.renderers.default = \"notebook_connected\"\n",
    "\n",
    "sys.path.append(\"../../../\")\n",
    "sys.path.append('../../python')"
   ]
  },
  {
   "cell_type": "code",
   "execution_count": 2,
   "metadata": {
    "execution": {
     "iopub.execute_input": "2024-04-08T08:11:21.877121Z",
     "iopub.status.busy": "2024-04-08T08:11:21.876882Z",
     "iopub.status.idle": "2024-04-08T08:11:22.902556Z",
     "shell.execute_reply": "2024-04-08T08:11:22.902066Z"
    }
   },
   "outputs": [],
   "source": [
    "from pdstools import ADMDatamart\n",
    "from pdstools import Config, DataAnonymization\n",
    "import polars as pl"
   ]
  },
  {
   "attachments": {},
   "cell_type": "markdown",
   "metadata": {},
   "source": [
    "## Input data\n",
    "\n",
    "To demonstrate this process, we're going to anonymise this toy example dataframe:"
   ]
  },
  {
   "cell_type": "code",
   "execution_count": 3,
   "metadata": {
    "execution": {
     "iopub.execute_input": "2024-04-08T08:11:22.905148Z",
     "iopub.status.busy": "2024-04-08T08:11:22.904663Z",
     "iopub.status.idle": "2024-04-08T08:11:22.913287Z",
     "shell.execute_reply": "2024-04-08T08:11:22.912722Z"
    }
   },
   "outputs": [
    {
     "data": {
      "text/html": [
       "<div><style>\n",
       ".dataframe > thead > tr,\n",
       ".dataframe > tbody > tr {\n",
       "  text-align: right;\n",
       "  white-space: pre-wrap;\n",
       "}\n",
       "</style>\n",
       "<small>shape: (7, 6)</small><table border=\"1\" class=\"dataframe\"><thead><tr><th>Context_Name</th><th>Customer_MaritalStatus</th><th>Customer_CLV</th><th>Customer_City</th><th>IH_Web_Inbound_Accepted_pxLastGroupID</th><th>Decision_Outcome</th></tr><tr><td>str</td><td>str</td><td>i64</td><td>str</td><td>str</td><td>str</td></tr></thead><tbody><tr><td>&quot;FirstMortgage3…</td><td>&quot;Married&quot;</td><td>1460</td><td>&quot;Port Raoul&quot;</td><td>&quot;Account&quot;</td><td>&quot;Rejected&quot;</td></tr><tr><td>&quot;FirstMortgage3…</td><td>&quot;Unknown&quot;</td><td>669</td><td>&quot;Laurianneshire…</td><td>&quot;AutoLoans&quot;</td><td>&quot;Accepted&quot;</td></tr><tr><td>&quot;MoneyMarketSav…</td><td>&quot;No Resp+&quot;</td><td>1174</td><td>&quot;Jacobshaven&quot;</td><td>&quot;Account&quot;</td><td>&quot;Rejected&quot;</td></tr><tr><td>&quot;BasicChecking&quot;</td><td>&quot;Unknown&quot;</td><td>1476</td><td>&quot;Lindton&quot;</td><td>&quot;Account&quot;</td><td>&quot;Rejected&quot;</td></tr><tr><td>&quot;BasicChecking&quot;</td><td>&quot;Married&quot;</td><td>1211</td><td>&quot;South Jimmiesh…</td><td>&quot;DepositAccount…</td><td>&quot;Accepted&quot;</td></tr><tr><td>&quot;UPlusFinPerson…</td><td>&quot;No Resp+&quot;</td><td>533</td><td>&quot;Bergeville&quot;</td><td>null</td><td>&quot;Rejected&quot;</td></tr><tr><td>&quot;BasicChecking&quot;</td><td>&quot;No Resp+&quot;</td><td>555</td><td>&quot;Willyville&quot;</td><td>&quot;DepositAccount…</td><td>&quot;Rejected&quot;</td></tr></tbody></table></div>"
      ],
      "text/plain": [
       "shape: (7, 6)\n",
       "┌────────────────┬────────────────┬──────────────┬────────────────┬────────────────┬───────────────┐\n",
       "│ Context_Name   ┆ Customer_Marit ┆ Customer_CLV ┆ Customer_City  ┆ IH_Web_Inbound ┆ Decision_Outc │\n",
       "│ ---            ┆ alStatus       ┆ ---          ┆ ---            ┆ _Accepted_pxLa ┆ ome           │\n",
       "│ str            ┆ ---            ┆ i64          ┆ str            ┆ stGr…          ┆ ---           │\n",
       "│                ┆ str            ┆              ┆                ┆ ---            ┆ str           │\n",
       "│                ┆                ┆              ┆                ┆ str            ┆               │\n",
       "╞════════════════╪════════════════╪══════════════╪════════════════╪════════════════╪═══════════════╡\n",
       "│ FirstMortgage3 ┆ Married        ┆ 1460         ┆ Port Raoul     ┆ Account        ┆ Rejected      │\n",
       "│ 0yr            ┆                ┆              ┆                ┆                ┆               │\n",
       "│ FirstMortgage3 ┆ Unknown        ┆ 669          ┆ Laurianneshire ┆ AutoLoans      ┆ Accepted      │\n",
       "│ 0yr            ┆                ┆              ┆                ┆                ┆               │\n",
       "│ MoneyMarketSav ┆ No Resp+       ┆ 1174         ┆ Jacobshaven    ┆ Account        ┆ Rejected      │\n",
       "│ ingsAccount    ┆                ┆              ┆                ┆                ┆               │\n",
       "│ BasicChecking  ┆ Unknown        ┆ 1476         ┆ Lindton        ┆ Account        ┆ Rejected      │\n",
       "│ BasicChecking  ┆ Married        ┆ 1211         ┆ South          ┆ DepositAccount ┆ Accepted      │\n",
       "│                ┆                ┆              ┆ Jimmieshire    ┆ s              ┆               │\n",
       "│ UPlusFinPerson ┆ No Resp+       ┆ 533          ┆ Bergeville     ┆ null           ┆ Rejected      │\n",
       "│ al             ┆                ┆              ┆                ┆                ┆               │\n",
       "│ BasicChecking  ┆ No Resp+       ┆ 555          ┆ Willyville     ┆ DepositAccount ┆ Rejected      │\n",
       "│                ┆                ┆              ┆                ┆ s              ┆               │\n",
       "└────────────────┴────────────────┴──────────────┴────────────────┴────────────────┴───────────────┘"
      ]
     },
     "execution_count": 3,
     "metadata": {},
     "output_type": "execute_result"
    }
   ],
   "source": [
    "pl.read_ndjson('../../../../data/SampleHDS.json')"
   ]
  },
  {
   "attachments": {},
   "cell_type": "markdown",
   "metadata": {},
   "source": [
    "As you can see, this dataset consists of regular predictors, IH predictors, context keys and the outcome column. Additionally, some columns are numeric, others are strings. Let's first initialize the DataAnonymization class."
   ]
  },
  {
   "cell_type": "code",
   "execution_count": 4,
   "metadata": {
    "execution": {
     "iopub.execute_input": "2024-04-08T08:11:22.915489Z",
     "iopub.status.busy": "2024-04-08T08:11:22.915154Z",
     "iopub.status.idle": "2024-04-08T08:11:22.921364Z",
     "shell.execute_reply": "2024-04-08T08:11:22.920904Z"
    }
   },
   "outputs": [],
   "source": [
    "anon = DataAnonymization(hds_folder='../../../../data/')"
   ]
  },
  {
   "attachments": {},
   "cell_type": "markdown",
   "metadata": {},
   "source": [
    "By default, the class applies a set of anonymisation techniques:\n",
    "- Column names are remapped to a non-descriptive name\n",
    "- Categorical values are hashed with a random seed\n",
    "- Numerical values are normalized between 0 and 1\n",
    "- Outcomes are mapped to a binary outcome.\n",
    "\n",
    "To apply these techniques, simply call `.process()`:"
   ]
  },
  {
   "cell_type": "code",
   "execution_count": 5,
   "metadata": {
    "execution": {
     "iopub.execute_input": "2024-04-08T08:11:22.923396Z",
     "iopub.status.busy": "2024-04-08T08:11:22.923096Z",
     "iopub.status.idle": "2024-04-08T08:11:22.928846Z",
     "shell.execute_reply": "2024-04-08T08:11:22.928336Z"
    }
   },
   "outputs": [
    {
     "data": {
      "text/html": [
       "<div><style>\n",
       ".dataframe > thead > tr,\n",
       ".dataframe > tbody > tr {\n",
       "  text-align: right;\n",
       "  white-space: pre-wrap;\n",
       "}\n",
       "</style>\n",
       "<small>shape: (7, 7)</small><table border=\"1\" class=\"dataframe\"><thead><tr><th>PREDICTOR_0</th><th>filename</th><th>PREDICTOR_2</th><th>PREDICTOR_3</th><th>Context_Name</th><th>IH_PREDICTOR_0</th><th>Decision_Outcome</th></tr><tr><td>f64</td><td>str</td><td>str</td><td>str</td><td>str</td><td>str</td><td>bool</td></tr></thead><tbody><tr><td>0.983033</td><td>&quot;../../../../da…</td><td>&quot;10386504065553…</td><td>&quot;45556574429697…</td><td>&quot;91673295115593…</td><td>&quot;82863919463908…</td><td>false</td></tr><tr><td>0.144221</td><td>&quot;../../../../da…</td><td>&quot;18103698737468…</td><td>&quot;93536303536295…</td><td>&quot;91673295115593…</td><td>&quot;67801323595146…</td><td>true</td></tr><tr><td>0.679745</td><td>&quot;../../../../da…</td><td>&quot;47207077480550…</td><td>&quot;98305620589709…</td><td>&quot;92351492812254…</td><td>&quot;82863919463908…</td><td>false</td></tr><tr><td>1.0</td><td>&quot;../../../../da…</td><td>&quot;18103698737468…</td><td>&quot;11696692170783…</td><td>&quot;49269247177980…</td><td>&quot;82863919463908…</td><td>false</td></tr><tr><td>0.718982</td><td>&quot;../../../../da…</td><td>&quot;10386504065553…</td><td>&quot;68178795453719…</td><td>&quot;49269247177980…</td><td>&quot;57256787195125…</td><td>true</td></tr><tr><td>0.0</td><td>&quot;../../../../da…</td><td>&quot;47207077480550…</td><td>&quot;78140301458595…</td><td>&quot;17236527737740…</td><td>null</td><td>false</td></tr><tr><td>0.02333</td><td>&quot;../../../../da…</td><td>&quot;47207077480550…</td><td>&quot;26856028361251…</td><td>&quot;49269247177980…</td><td>&quot;57256787195125…</td><td>false</td></tr></tbody></table></div>"
      ],
      "text/plain": [
       "shape: (7, 7)\n",
       "┌─────────────┬──────────────┬─────────────┬─────────────┬─────────────┬─────────────┬─────────────┐\n",
       "│ PREDICTOR_0 ┆ filename     ┆ PREDICTOR_2 ┆ PREDICTOR_3 ┆ Context_Nam ┆ IH_PREDICTO ┆ Decision_Ou │\n",
       "│ ---         ┆ ---          ┆ ---         ┆ ---         ┆ e           ┆ R_0         ┆ tcome       │\n",
       "│ f64         ┆ str          ┆ str         ┆ str         ┆ ---         ┆ ---         ┆ ---         │\n",
       "│             ┆              ┆             ┆             ┆ str         ┆ str         ┆ bool        │\n",
       "╞═════════════╪══════════════╪═════════════╪═════════════╪═════════════╪═════════════╪═════════════╡\n",
       "│ 0.983033    ┆ ../../../../ ┆ 10386504065 ┆ 45556574429 ┆ 91673295115 ┆ 82863919463 ┆ false       │\n",
       "│             ┆ data/SampleH ┆ 553093942   ┆ 69742222    ┆ 59394620    ┆ 90830985    ┆             │\n",
       "│             ┆ DS.json      ┆             ┆             ┆             ┆             ┆             │\n",
       "│ 0.144221    ┆ ../../../../ ┆ 18103698737 ┆ 93536303536 ┆ 91673295115 ┆ 67801323595 ┆ true        │\n",
       "│             ┆ data/SampleH ┆ 468989144   ┆ 29576714    ┆ 59394620    ┆ 14626746    ┆             │\n",
       "│             ┆ DS.json      ┆             ┆             ┆             ┆             ┆             │\n",
       "│ 0.679745    ┆ ../../../../ ┆ 47207077480 ┆ 98305620589 ┆ 92351492812 ┆ 82863919463 ┆ false       │\n",
       "│             ┆ data/SampleH ┆ 55080932    ┆ 70930248    ┆ 25403300    ┆ 90830985    ┆             │\n",
       "│             ┆ DS.json      ┆             ┆             ┆             ┆             ┆             │\n",
       "│ 1.0         ┆ ../../../../ ┆ 18103698737 ┆ 11696692170 ┆ 49269247177 ┆ 82863919463 ┆ false       │\n",
       "│             ┆ data/SampleH ┆ 468989144   ┆ 783444478   ┆ 98045500    ┆ 90830985    ┆             │\n",
       "│             ┆ DS.json      ┆             ┆             ┆             ┆             ┆             │\n",
       "│ 0.718982    ┆ ../../../../ ┆ 10386504065 ┆ 68178795453 ┆ 49269247177 ┆ 57256787195 ┆ true        │\n",
       "│             ┆ data/SampleH ┆ 553093942   ┆ 7199792     ┆ 98045500    ┆ 12543298    ┆             │\n",
       "│             ┆ DS.json      ┆             ┆             ┆             ┆             ┆             │\n",
       "│ 0.0         ┆ ../../../../ ┆ 47207077480 ┆ 78140301458 ┆ 17236527737 ┆ null        ┆ false       │\n",
       "│             ┆ data/SampleH ┆ 55080932    ┆ 59504180    ┆ 740488860   ┆             ┆             │\n",
       "│             ┆ DS.json      ┆             ┆             ┆             ┆             ┆             │\n",
       "│ 0.02333     ┆ ../../../../ ┆ 47207077480 ┆ 26856028361 ┆ 49269247177 ┆ 57256787195 ┆ false       │\n",
       "│             ┆ data/SampleH ┆ 55080932    ┆ 25195312    ┆ 98045500    ┆ 12543298    ┆             │\n",
       "│             ┆ DS.json      ┆             ┆             ┆             ┆             ┆             │\n",
       "└─────────────┴──────────────┴─────────────┴─────────────┴─────────────┴─────────────┴─────────────┘"
      ]
     },
     "execution_count": 5,
     "metadata": {},
     "output_type": "execute_result"
    }
   ],
   "source": [
    "anon.process()"
   ]
  },
  {
   "attachments": {},
   "cell_type": "markdown",
   "metadata": {},
   "source": [
    "To trace back the columns to their original names, the class also contains a mapping, which does not have to be provided."
   ]
  },
  {
   "cell_type": "code",
   "execution_count": 6,
   "metadata": {
    "execution": {
     "iopub.execute_input": "2024-04-08T08:11:22.930968Z",
     "iopub.status.busy": "2024-04-08T08:11:22.930663Z",
     "iopub.status.idle": "2024-04-08T08:11:22.934354Z",
     "shell.execute_reply": "2024-04-08T08:11:22.933840Z"
    }
   },
   "outputs": [
    {
     "data": {
      "text/plain": [
       "{'Customer_CLV': 'PREDICTOR_0',\n",
       " 'filename': 'filename',\n",
       " 'Customer_MaritalStatus': 'PREDICTOR_2',\n",
       " 'Customer_City': 'PREDICTOR_3',\n",
       " 'Context_Name': 'Context_Name',\n",
       " 'IH_Web_Inbound_Accepted_pxLastGroupID': 'IH_PREDICTOR_0',\n",
       " 'Decision_Outcome': 'Decision_Outcome'}"
      ]
     },
     "execution_count": 6,
     "metadata": {},
     "output_type": "execute_result"
    }
   ],
   "source": [
    "anon.column_mapping"
   ]
  },
  {
   "attachments": {},
   "cell_type": "markdown",
   "metadata": {},
   "source": [
    "## Configs\n",
    "\n",
    "Each capability can optionally be turned off - see below for the full list of config options, and refer to the API reference for the full description."
   ]
  },
  {
   "cell_type": "code",
   "execution_count": 7,
   "metadata": {
    "execution": {
     "iopub.execute_input": "2024-04-08T08:11:22.936553Z",
     "iopub.status.busy": "2024-04-08T08:11:22.936233Z",
     "iopub.status.idle": "2024-04-08T08:11:22.940274Z",
     "shell.execute_reply": "2024-04-08T08:11:22.939747Z"
    }
   },
   "outputs": [
    {
     "data": {
      "text/plain": [
       "{'config_file': None,\n",
       " 'hds_folder': '.',\n",
       " 'use_datamart': False,\n",
       " 'datamart_folder': 'datamart',\n",
       " 'output_format': 'ndjson',\n",
       " 'output_folder': 'output',\n",
       " 'mapping_file': 'mapping.map',\n",
       " 'mask_predictor_names': True,\n",
       " 'mask_context_key_names': False,\n",
       " 'mask_ih_names': True,\n",
       " 'mask_outcome_name': False,\n",
       " 'mask_predictor_values': True,\n",
       " 'mask_context_key_values': True,\n",
       " 'mask_ih_values': True,\n",
       " 'mask_outcome_values': True,\n",
       " 'context_key_label': 'Context_*',\n",
       " 'ih_label': 'IH_*',\n",
       " 'outcome_column': 'Decision_Outcome',\n",
       " 'positive_outcomes': ['Accepted', 'Clicked'],\n",
       " 'negative_outcomes': ['Rejected', 'Impression'],\n",
       " 'special_predictors': ['Decision_DecisionTime',\n",
       "  'Decision_OutcomeTime',\n",
       "  'Decision_Rank'],\n",
       " 'sample_percentage_schema_inferencing': 0.01}"
      ]
     },
     "execution_count": 7,
     "metadata": {},
     "output_type": "execute_result"
    }
   ],
   "source": [
    "dict(zip(Config.__init__.__code__.co_varnames[1:], Config.__init__.__defaults__))"
   ]
  },
  {
   "attachments": {},
   "cell_type": "markdown",
   "metadata": {},
   "source": [
    "It's easy to change these parameters by just passing the keyword arguments. In the following example, we\n",
    "- Keep the IH predictor names\n",
    "- Keep the outcome values\n",
    "- Keep the context key values\n",
    "- Keep the context key predictor names"
   ]
  },
  {
   "cell_type": "code",
   "execution_count": 8,
   "metadata": {
    "execution": {
     "iopub.execute_input": "2024-04-08T08:11:22.942568Z",
     "iopub.status.busy": "2024-04-08T08:11:22.942137Z",
     "iopub.status.idle": "2024-04-08T08:11:22.950305Z",
     "shell.execute_reply": "2024-04-08T08:11:22.949788Z"
    }
   },
   "outputs": [
    {
     "data": {
      "text/html": [
       "<div><style>\n",
       ".dataframe > thead > tr,\n",
       ".dataframe > tbody > tr {\n",
       "  text-align: right;\n",
       "  white-space: pre-wrap;\n",
       "}\n",
       "</style>\n",
       "<small>shape: (7, 7)</small><table border=\"1\" class=\"dataframe\"><thead><tr><th>PREDICTOR_0</th><th>filename</th><th>PREDICTOR_2</th><th>PREDICTOR_3</th><th>Context_Name</th><th>IH_Web_Inbound_Accepted_pxLastGroupID</th><th>Decision_Outcome</th></tr><tr><td>f64</td><td>str</td><td>str</td><td>str</td><td>str</td><td>str</td><td>str</td></tr></thead><tbody><tr><td>0.983033</td><td>&quot;../../../../da…</td><td>&quot;13254321859253…</td><td>&quot;86248128975499…</td><td>&quot;FirstMortgage3…</td><td>&quot;10939889055628…</td><td>&quot;Rejected&quot;</td></tr><tr><td>0.144221</td><td>&quot;../../../../da…</td><td>&quot;14290004915159…</td><td>&quot;14558839855255…</td><td>&quot;FirstMortgage3…</td><td>&quot;86755573523153…</td><td>&quot;Accepted&quot;</td></tr><tr><td>0.679745</td><td>&quot;../../../../da…</td><td>&quot;12252843794681…</td><td>&quot;12347876370704…</td><td>&quot;MoneyMarketSav…</td><td>&quot;10939889055628…</td><td>&quot;Rejected&quot;</td></tr><tr><td>1.0</td><td>&quot;../../../../da…</td><td>&quot;14290004915159…</td><td>&quot;10755970700993…</td><td>&quot;BasicChecking&quot;</td><td>&quot;10939889055628…</td><td>&quot;Rejected&quot;</td></tr><tr><td>0.718982</td><td>&quot;../../../../da…</td><td>&quot;13254321859253…</td><td>&quot;71257221193243…</td><td>&quot;BasicChecking&quot;</td><td>&quot;12643283534084…</td><td>&quot;Accepted&quot;</td></tr><tr><td>0.0</td><td>&quot;../../../../da…</td><td>&quot;12252843794681…</td><td>&quot;17327829922905…</td><td>&quot;UPlusFinPerson…</td><td>null</td><td>&quot;Rejected&quot;</td></tr><tr><td>0.02333</td><td>&quot;../../../../da…</td><td>&quot;12252843794681…</td><td>&quot;48694413625888…</td><td>&quot;BasicChecking&quot;</td><td>&quot;12643283534084…</td><td>&quot;Rejected&quot;</td></tr></tbody></table></div>"
      ],
      "text/plain": [
       "shape: (7, 7)\n",
       "┌─────────────┬──────────────┬─────────────┬─────────────┬─────────────┬─────────────┬─────────────┐\n",
       "│ PREDICTOR_0 ┆ filename     ┆ PREDICTOR_2 ┆ PREDICTOR_3 ┆ Context_Nam ┆ IH_Web_Inbo ┆ Decision_Ou │\n",
       "│ ---         ┆ ---          ┆ ---         ┆ ---         ┆ e           ┆ und_Accepte ┆ tcome       │\n",
       "│ f64         ┆ str          ┆ str         ┆ str         ┆ ---         ┆ d_pxLastGr… ┆ ---         │\n",
       "│             ┆              ┆             ┆             ┆ str         ┆ ---         ┆ str         │\n",
       "│             ┆              ┆             ┆             ┆             ┆ str         ┆             │\n",
       "╞═════════════╪══════════════╪═════════════╪═════════════╪═════════════╪═════════════╪═════════════╡\n",
       "│ 0.983033    ┆ ../../../../ ┆ 13254321859 ┆ 86248128975 ┆ FirstMortga ┆ 10939889055 ┆ Rejected    │\n",
       "│             ┆ data/SampleH ┆ 253976320   ┆ 4994251     ┆ ge30yr      ┆ 628158727   ┆             │\n",
       "│             ┆ DS.json      ┆             ┆             ┆             ┆             ┆             │\n",
       "│ 0.144221    ┆ ../../../../ ┆ 14290004915 ┆ 14558839855 ┆ FirstMortga ┆ 86755573523 ┆ Accepted    │\n",
       "│             ┆ data/SampleH ┆ 159407334   ┆ 255138688   ┆ ge30yr      ┆ 15395096    ┆             │\n",
       "│             ┆ DS.json      ┆             ┆             ┆             ┆             ┆             │\n",
       "│ 0.679745    ┆ ../../../../ ┆ 12252843794 ┆ 12347876370 ┆ MoneyMarket ┆ 10939889055 ┆ Rejected    │\n",
       "│             ┆ data/SampleH ┆ 681589480   ┆ 704768402   ┆ SavingsAcco ┆ 628158727   ┆             │\n",
       "│             ┆ DS.json      ┆             ┆             ┆ unt         ┆             ┆             │\n",
       "│ 1.0         ┆ ../../../../ ┆ 14290004915 ┆ 10755970700 ┆ BasicChecki ┆ 10939889055 ┆ Rejected    │\n",
       "│             ┆ data/SampleH ┆ 159407334   ┆ 993230096   ┆ ng          ┆ 628158727   ┆             │\n",
       "│             ┆ DS.json      ┆             ┆             ┆             ┆             ┆             │\n",
       "│ 0.718982    ┆ ../../../../ ┆ 13254321859 ┆ 71257221193 ┆ BasicChecki ┆ 12643283534 ┆ Accepted    │\n",
       "│             ┆ data/SampleH ┆ 253976320   ┆ 2435449     ┆ ng          ┆ 084234781   ┆             │\n",
       "│             ┆ DS.json      ┆             ┆             ┆             ┆             ┆             │\n",
       "│ 0.0         ┆ ../../../../ ┆ 12252843794 ┆ 17327829922 ┆ UPlusFinPer ┆ null        ┆ Rejected    │\n",
       "│             ┆ data/SampleH ┆ 681589480   ┆ 905364488   ┆ sonal       ┆             ┆             │\n",
       "│             ┆ DS.json      ┆             ┆             ┆             ┆             ┆             │\n",
       "│ 0.02333     ┆ ../../../../ ┆ 12252843794 ┆ 48694413625 ┆ BasicChecki ┆ 12643283534 ┆ Rejected    │\n",
       "│             ┆ data/SampleH ┆ 681589480   ┆ 88849087    ┆ ng          ┆ 084234781   ┆             │\n",
       "│             ┆ DS.json      ┆             ┆             ┆             ┆             ┆             │\n",
       "└─────────────┴──────────────┴─────────────┴─────────────┴─────────────┴─────────────┴─────────────┘"
      ]
     },
     "execution_count": 8,
     "metadata": {},
     "output_type": "execute_result"
    }
   ],
   "source": [
    "anon = DataAnonymization(\n",
    "    hds_folder=\"../../../../data/\",\n",
    "    mask_ih_names=False,\n",
    "    mask_outcome_values=False,\n",
    "    mask_context_key_values=False,\n",
    "    mask_context_key_names=False,\n",
    ")\n",
    "anon.process()\n"
   ]
  },
  {
   "attachments": {},
   "cell_type": "markdown",
   "metadata": {},
   "source": [
    "The configs can also be written and read as such:"
   ]
  },
  {
   "cell_type": "code",
   "execution_count": 9,
   "metadata": {
    "execution": {
     "iopub.execute_input": "2024-04-08T08:11:22.952684Z",
     "iopub.status.busy": "2024-04-08T08:11:22.952280Z",
     "iopub.status.idle": "2024-04-08T08:11:22.955196Z",
     "shell.execute_reply": "2024-04-08T08:11:22.954659Z"
    }
   },
   "outputs": [],
   "source": [
    "anon.config.save_to_config_file('config.json')"
   ]
  },
  {
   "cell_type": "code",
   "execution_count": 10,
   "metadata": {
    "execution": {
     "iopub.execute_input": "2024-04-08T08:11:22.957462Z",
     "iopub.status.busy": "2024-04-08T08:11:22.957004Z",
     "iopub.status.idle": "2024-04-08T08:11:22.965254Z",
     "shell.execute_reply": "2024-04-08T08:11:22.964781Z"
    }
   },
   "outputs": [
    {
     "data": {
      "text/html": [
       "<div><style>\n",
       ".dataframe > thead > tr,\n",
       ".dataframe > tbody > tr {\n",
       "  text-align: right;\n",
       "  white-space: pre-wrap;\n",
       "}\n",
       "</style>\n",
       "<small>shape: (7, 7)</small><table border=\"1\" class=\"dataframe\"><thead><tr><th>PREDICTOR_0</th><th>filename</th><th>PREDICTOR_2</th><th>PREDICTOR_3</th><th>Context_Name</th><th>IH_Web_Inbound_Accepted_pxLastGroupID</th><th>Decision_Outcome</th></tr><tr><td>f64</td><td>str</td><td>str</td><td>str</td><td>str</td><td>str</td><td>str</td></tr></thead><tbody><tr><td>0.983033</td><td>&quot;../../../../da…</td><td>&quot;47823911561577…</td><td>&quot;10499803149702…</td><td>&quot;FirstMortgage3…</td><td>&quot;53580158518459…</td><td>&quot;Rejected&quot;</td></tr><tr><td>0.144221</td><td>&quot;../../../../da…</td><td>&quot;16589547381062…</td><td>&quot;83272390170995…</td><td>&quot;FirstMortgage3…</td><td>&quot;10659659703194…</td><td>&quot;Accepted&quot;</td></tr><tr><td>0.679745</td><td>&quot;../../../../da…</td><td>&quot;15240187775004…</td><td>&quot;16664791967259…</td><td>&quot;MoneyMarketSav…</td><td>&quot;53580158518459…</td><td>&quot;Rejected&quot;</td></tr><tr><td>1.0</td><td>&quot;../../../../da…</td><td>&quot;16589547381062…</td><td>&quot;10381525991620…</td><td>&quot;BasicChecking&quot;</td><td>&quot;53580158518459…</td><td>&quot;Rejected&quot;</td></tr><tr><td>0.718982</td><td>&quot;../../../../da…</td><td>&quot;47823911561577…</td><td>&quot;18088594381669…</td><td>&quot;BasicChecking&quot;</td><td>&quot;11295227562667…</td><td>&quot;Accepted&quot;</td></tr><tr><td>0.0</td><td>&quot;../../../../da…</td><td>&quot;15240187775004…</td><td>&quot;58399334545425…</td><td>&quot;UPlusFinPerson…</td><td>null</td><td>&quot;Rejected&quot;</td></tr><tr><td>0.02333</td><td>&quot;../../../../da…</td><td>&quot;15240187775004…</td><td>&quot;33595262457764…</td><td>&quot;BasicChecking&quot;</td><td>&quot;11295227562667…</td><td>&quot;Rejected&quot;</td></tr></tbody></table></div>"
      ],
      "text/plain": [
       "shape: (7, 7)\n",
       "┌─────────────┬──────────────┬─────────────┬─────────────┬─────────────┬─────────────┬─────────────┐\n",
       "│ PREDICTOR_0 ┆ filename     ┆ PREDICTOR_2 ┆ PREDICTOR_3 ┆ Context_Nam ┆ IH_Web_Inbo ┆ Decision_Ou │\n",
       "│ ---         ┆ ---          ┆ ---         ┆ ---         ┆ e           ┆ und_Accepte ┆ tcome       │\n",
       "│ f64         ┆ str          ┆ str         ┆ str         ┆ ---         ┆ d_pxLastGr… ┆ ---         │\n",
       "│             ┆              ┆             ┆             ┆ str         ┆ ---         ┆ str         │\n",
       "│             ┆              ┆             ┆             ┆             ┆ str         ┆             │\n",
       "╞═════════════╪══════════════╪═════════════╪═════════════╪═════════════╪═════════════╪═════════════╡\n",
       "│ 0.983033    ┆ ../../../../ ┆ 47823911561 ┆ 10499803149 ┆ FirstMortga ┆ 53580158518 ┆ Rejected    │\n",
       "│             ┆ data/SampleH ┆ 57777531    ┆ 702789720   ┆ ge30yr      ┆ 45943362    ┆             │\n",
       "│             ┆ DS.json      ┆             ┆             ┆             ┆             ┆             │\n",
       "│ 0.144221    ┆ ../../../../ ┆ 16589547381 ┆ 83272390170 ┆ FirstMortga ┆ 10659659703 ┆ Accepted    │\n",
       "│             ┆ data/SampleH ┆ 062169091   ┆ 99520283    ┆ ge30yr      ┆ 194610466   ┆             │\n",
       "│             ┆ DS.json      ┆             ┆             ┆             ┆             ┆             │\n",
       "│ 0.679745    ┆ ../../../../ ┆ 15240187775 ┆ 16664791967 ┆ MoneyMarket ┆ 53580158518 ┆ Rejected    │\n",
       "│             ┆ data/SampleH ┆ 004788864   ┆ 25944444    ┆ SavingsAcco ┆ 45943362    ┆             │\n",
       "│             ┆ DS.json      ┆             ┆             ┆ unt         ┆             ┆             │\n",
       "│ 1.0         ┆ ../../../../ ┆ 16589547381 ┆ 10381525991 ┆ BasicChecki ┆ 53580158518 ┆ Rejected    │\n",
       "│             ┆ data/SampleH ┆ 062169091   ┆ 62065666    ┆ ng          ┆ 45943362    ┆             │\n",
       "│             ┆ DS.json      ┆             ┆             ┆             ┆             ┆             │\n",
       "│ 0.718982    ┆ ../../../../ ┆ 47823911561 ┆ 18088594381 ┆ BasicChecki ┆ 11295227562 ┆ Accepted    │\n",
       "│             ┆ data/SampleH ┆ 57777531    ┆ 669152828   ┆ ng          ┆ 667332537   ┆             │\n",
       "│             ┆ DS.json      ┆             ┆             ┆             ┆             ┆             │\n",
       "│ 0.0         ┆ ../../../../ ┆ 15240187775 ┆ 58399334545 ┆ UPlusFinPer ┆ null        ┆ Rejected    │\n",
       "│             ┆ data/SampleH ┆ 004788864   ┆ 42579423    ┆ sonal       ┆             ┆             │\n",
       "│             ┆ DS.json      ┆             ┆             ┆             ┆             ┆             │\n",
       "│ 0.02333     ┆ ../../../../ ┆ 15240187775 ┆ 33595262457 ┆ BasicChecki ┆ 11295227562 ┆ Rejected    │\n",
       "│             ┆ data/SampleH ┆ 004788864   ┆ 76437582    ┆ ng          ┆ 667332537   ┆             │\n",
       "│             ┆ DS.json      ┆             ┆             ┆             ┆             ┆             │\n",
       "└─────────────┴──────────────┴─────────────┴─────────────┴─────────────┴─────────────┴─────────────┘"
      ]
     },
     "execution_count": 10,
     "metadata": {},
     "output_type": "execute_result"
    }
   ],
   "source": [
    "anon = DataAnonymization(config=Config(config_file='config.json'))\n",
    "anon.process()"
   ]
  },
  {
   "attachments": {},
   "cell_type": "markdown",
   "metadata": {},
   "source": [
    "## Exporting\n",
    "Two functions export:\n",
    "- `create_mapping_file()` writes the mapping file of the predictor names\n",
    "- `write_to_output()` writes the processed dataframe to disk\n",
    "\n",
    "Write to output accepts the following extensions: `[\"ndjson\", \"parquet\", \"arrow\", \"csv\"]`"
   ]
  },
  {
   "cell_type": "code",
   "execution_count": 11,
   "metadata": {
    "execution": {
     "iopub.execute_input": "2024-04-08T08:11:22.967177Z",
     "iopub.status.busy": "2024-04-08T08:11:22.966868Z",
     "iopub.status.idle": "2024-04-08T08:11:22.970055Z",
     "shell.execute_reply": "2024-04-08T08:11:22.969646Z"
    }
   },
   "outputs": [
    {
     "name": "stdout",
     "output_type": "stream",
     "text": [
      "Customer_CLV=PREDICTOR_0\n",
      "filename=filename\n",
      "Customer_MaritalStatus=PREDICTOR_2\n",
      "Customer_City=PREDICTOR_3\n",
      "Context_Name=Context_Name\n",
      "IH_Web_Inbound_Accepted_pxLastGroupID=IH_Web_Inbound_Accepted_pxLastGroupID\n",
      "Decision_Outcome=Decision_Outcome\n",
      "\n"
     ]
    }
   ],
   "source": [
    "anon.create_mapping_file()\n",
    "with open('mapping.map') as f:\n",
    "    print(f.read())"
   ]
  },
  {
   "cell_type": "code",
   "execution_count": 12,
   "metadata": {
    "execution": {
     "iopub.execute_input": "2024-04-08T08:11:22.972057Z",
     "iopub.status.busy": "2024-04-08T08:11:22.971719Z",
     "iopub.status.idle": "2024-04-08T08:11:22.975193Z",
     "shell.execute_reply": "2024-04-08T08:11:22.974791Z"
    }
   },
   "outputs": [],
   "source": [
    "anon.write_to_output(ext='arrow')"
   ]
  },
  {
   "cell_type": "code",
   "execution_count": 13,
   "metadata": {
    "execution": {
     "iopub.execute_input": "2024-04-08T08:11:22.977198Z",
     "iopub.status.busy": "2024-04-08T08:11:22.976876Z",
     "iopub.status.idle": "2024-04-08T08:11:22.981675Z",
     "shell.execute_reply": "2024-04-08T08:11:22.981209Z"
    }
   },
   "outputs": [
    {
     "data": {
      "text/html": [
       "<div><style>\n",
       ".dataframe > thead > tr,\n",
       ".dataframe > tbody > tr {\n",
       "  text-align: right;\n",
       "  white-space: pre-wrap;\n",
       "}\n",
       "</style>\n",
       "<small>shape: (7, 6)</small><table border=\"1\" class=\"dataframe\"><thead><tr><th>PREDICTOR_0</th><th>PREDICTOR_2</th><th>PREDICTOR_3</th><th>Context_Name</th><th>IH_Web_Inbound_Accepted_pxLastGroupID</th><th>Decision_Outcome</th></tr><tr><td>f64</td><td>str</td><td>str</td><td>str</td><td>str</td><td>str</td></tr></thead><tbody><tr><td>0.983033</td><td>&quot;61409537733567…</td><td>&quot;15282943970750…</td><td>&quot;FirstMortgage3…</td><td>&quot;24993776127042…</td><td>&quot;Rejected&quot;</td></tr><tr><td>0.144221</td><td>&quot;48554201400595…</td><td>&quot;13354518302474…</td><td>&quot;FirstMortgage3…</td><td>&quot;54433669544653…</td><td>&quot;Accepted&quot;</td></tr><tr><td>0.679745</td><td>&quot;78635440690677…</td><td>&quot;30747723891035…</td><td>&quot;MoneyMarketSav…</td><td>&quot;24993776127042…</td><td>&quot;Rejected&quot;</td></tr><tr><td>1.0</td><td>&quot;48554201400595…</td><td>&quot;18260726682000…</td><td>&quot;BasicChecking&quot;</td><td>&quot;24993776127042…</td><td>&quot;Rejected&quot;</td></tr><tr><td>0.718982</td><td>&quot;61409537733567…</td><td>&quot;10169110029396…</td><td>&quot;BasicChecking&quot;</td><td>&quot;14883527157327…</td><td>&quot;Accepted&quot;</td></tr><tr><td>0.0</td><td>&quot;78635440690677…</td><td>&quot;87812384869034…</td><td>&quot;UPlusFinPerson…</td><td>null</td><td>&quot;Rejected&quot;</td></tr><tr><td>0.02333</td><td>&quot;78635440690677…</td><td>&quot;61203847159881…</td><td>&quot;BasicChecking&quot;</td><td>&quot;14883527157327…</td><td>&quot;Rejected&quot;</td></tr></tbody></table></div>"
      ],
      "text/plain": [
       "shape: (7, 6)\n",
       "┌─────────────┬────────────────┬────────────────┬────────────────┬────────────────┬────────────────┐\n",
       "│ PREDICTOR_0 ┆ PREDICTOR_2    ┆ PREDICTOR_3    ┆ Context_Name   ┆ IH_Web_Inbound ┆ Decision_Outco │\n",
       "│ ---         ┆ ---            ┆ ---            ┆ ---            ┆ _Accepted_pxLa ┆ me             │\n",
       "│ f64         ┆ str            ┆ str            ┆ str            ┆ stGr…          ┆ ---            │\n",
       "│             ┆                ┆                ┆                ┆ ---            ┆ str            │\n",
       "│             ┆                ┆                ┆                ┆ str            ┆                │\n",
       "╞═════════════╪════════════════╪════════════════╪════════════════╪════════════════╪════════════════╡\n",
       "│ 0.983033    ┆ 61409537733567 ┆ 15282943970750 ┆ FirstMortgage3 ┆ 24993776127042 ┆ Rejected       │\n",
       "│             ┆ 63549          ┆ 738430         ┆ 0yr            ┆ 30698          ┆                │\n",
       "│ 0.144221    ┆ 48554201400595 ┆ 13354518302474 ┆ FirstMortgage3 ┆ 54433669544653 ┆ Accepted       │\n",
       "│             ┆ 15266          ┆ 914352         ┆ 0yr            ┆ 77853          ┆                │\n",
       "│ 0.679745    ┆ 78635440690677 ┆ 30747723891035 ┆ MoneyMarketSav ┆ 24993776127042 ┆ Rejected       │\n",
       "│             ┆ 08462          ┆ 56997          ┆ ingsAccount    ┆ 30698          ┆                │\n",
       "│ 1.0         ┆ 48554201400595 ┆ 18260726682000 ┆ BasicChecking  ┆ 24993776127042 ┆ Rejected       │\n",
       "│             ┆ 15266          ┆ 619346         ┆                ┆ 30698          ┆                │\n",
       "│ 0.718982    ┆ 61409537733567 ┆ 10169110029396 ┆ BasicChecking  ┆ 14883527157327 ┆ Accepted       │\n",
       "│             ┆ 63549          ┆ 388848         ┆                ┆ 720127         ┆                │\n",
       "│ 0.0         ┆ 78635440690677 ┆ 87812384869034 ┆ UPlusFinPerson ┆ null           ┆ Rejected       │\n",
       "│             ┆ 08462          ┆ 77133          ┆ al             ┆                ┆                │\n",
       "│ 0.02333     ┆ 78635440690677 ┆ 61203847159881 ┆ BasicChecking  ┆ 14883527157327 ┆ Rejected       │\n",
       "│             ┆ 08462          ┆ 39833          ┆                ┆ 720127         ┆                │\n",
       "└─────────────┴────────────────┴────────────────┴────────────────┴────────────────┴────────────────┘"
      ]
     },
     "execution_count": 13,
     "metadata": {},
     "output_type": "execute_result"
    }
   ],
   "source": [
    "pl.read_ipc('output/hds.arrow')"
   ]
  },
  {
   "attachments": {},
   "cell_type": "markdown",
   "metadata": {
    "nbsphinx": "hidden"
   },
   "source": [
    "## Advanced: Hash fuctions\n",
    "\n",
    "By default, we use [the same hashing algorithm Polars](https://pola-rs.github.io/polars/py-polars/html/reference/expressions/api/polars.Expr.hash.html#polars.Expr.hash) uses: [xxhash](https://github.com/Cyan4973/xxHash), as implemented [here](https://github.com/pola-rs/polars/blob/3f287f370b3c388ed2f3f218b2c096382548136f/polars/polars-core/src/vector_hasher.rs#L266). xxhash is fast to compute, and you can check its performance in collision, dispersion and randomness [here](https://github.com/Cyan4973/xxHash/tree/dev/tests). \n",
    "\n",
    "xxhash accepts four distinct seeds, but by default we set the seeds to `0`. It is possible to set the `seed` argument of the `process()` function to `'random'`, which will set all four seeds to a random integer between `0` and `1000000000`. Alternatively, it is possible to supply the four seeds manually with arguments `seed`, `seed_1`, `seed_2` and `seed_3`. \n",
    "\n",
    "If the xxhash with (random) seed(s) is not deemed sufficiently secure, it is possible to use your own hashing algorithm.\n",
    "\n",
    "Note that since we're now running python code and not native Polars code anymore, this will be _significantly_ slower. Nonetheless, it is possible.\n",
    "\n",
    "Just as an example - this is how one would use sha3_256:"
   ]
  },
  {
   "cell_type": "code",
   "execution_count": 14,
   "metadata": {
    "execution": {
     "iopub.execute_input": "2024-04-08T08:11:22.983627Z",
     "iopub.status.busy": "2024-04-08T08:11:22.983314Z",
     "iopub.status.idle": "2024-04-08T08:11:22.990687Z",
     "shell.execute_reply": "2024-04-08T08:11:22.990259Z"
    },
    "nbsphinx": "hidden"
   },
   "outputs": [
    {
     "data": {
      "text/html": [
       "<div><style>\n",
       ".dataframe > thead > tr,\n",
       ".dataframe > tbody > tr {\n",
       "  text-align: right;\n",
       "  white-space: pre-wrap;\n",
       "}\n",
       "</style>\n",
       "<small>shape: (7, 7)</small><table border=\"1\" class=\"dataframe\"><thead><tr><th>PREDICTOR_0</th><th>filename</th><th>PREDICTOR_2</th><th>PREDICTOR_3</th><th>Context_Name</th><th>IH_Web_Inbound_Accepted_pxLastGroupID</th><th>Decision_Outcome</th></tr><tr><td>f64</td><td>str</td><td>str</td><td>str</td><td>str</td><td>str</td><td>str</td></tr></thead><tbody><tr><td>0.983033</td><td>&quot;../../../../da…</td><td>&quot;af486bc1815c72…</td><td>&quot;c73023dda51de1…</td><td>&quot;FirstMortgage3…</td><td>&quot;2513d0e24d8d02…</td><td>&quot;Rejected&quot;</td></tr><tr><td>0.144221</td><td>&quot;../../../../da…</td><td>&quot;3cdf7b1ae1342e…</td><td>&quot;5414b197fb87b3…</td><td>&quot;FirstMortgage3…</td><td>&quot;8b55bf62fc2ecd…</td><td>&quot;Accepted&quot;</td></tr><tr><td>0.679745</td><td>&quot;../../../../da…</td><td>&quot;806ef34eb8237f…</td><td>&quot;892f5d61a9215e…</td><td>&quot;MoneyMarketSav…</td><td>&quot;2513d0e24d8d02…</td><td>&quot;Rejected&quot;</td></tr><tr><td>1.0</td><td>&quot;../../../../da…</td><td>&quot;3cdf7b1ae1342e…</td><td>&quot;c3aa807d9e927a…</td><td>&quot;BasicChecking&quot;</td><td>&quot;2513d0e24d8d02…</td><td>&quot;Rejected&quot;</td></tr><tr><td>0.718982</td><td>&quot;../../../../da…</td><td>&quot;af486bc1815c72…</td><td>&quot;c2d492f9a05073…</td><td>&quot;BasicChecking&quot;</td><td>&quot;1cd082ecbd5dd9…</td><td>&quot;Accepted&quot;</td></tr><tr><td>0.0</td><td>&quot;../../../../da…</td><td>&quot;806ef34eb8237f…</td><td>&quot;b21059221605c4…</td><td>&quot;UPlusFinPerson…</td><td>null</td><td>&quot;Rejected&quot;</td></tr><tr><td>0.02333</td><td>&quot;../../../../da…</td><td>&quot;806ef34eb8237f…</td><td>&quot;80cbe489dcecd4…</td><td>&quot;BasicChecking&quot;</td><td>&quot;1cd082ecbd5dd9…</td><td>&quot;Rejected&quot;</td></tr></tbody></table></div>"
      ],
      "text/plain": [
       "shape: (7, 7)\n",
       "┌─────────────┬──────────────┬─────────────┬─────────────┬─────────────┬─────────────┬─────────────┐\n",
       "│ PREDICTOR_0 ┆ filename     ┆ PREDICTOR_2 ┆ PREDICTOR_3 ┆ Context_Nam ┆ IH_Web_Inbo ┆ Decision_Ou │\n",
       "│ ---         ┆ ---          ┆ ---         ┆ ---         ┆ e           ┆ und_Accepte ┆ tcome       │\n",
       "│ f64         ┆ str          ┆ str         ┆ str         ┆ ---         ┆ d_pxLastGr… ┆ ---         │\n",
       "│             ┆              ┆             ┆             ┆ str         ┆ ---         ┆ str         │\n",
       "│             ┆              ┆             ┆             ┆             ┆ str         ┆             │\n",
       "╞═════════════╪══════════════╪═════════════╪═════════════╪═════════════╪═════════════╪═════════════╡\n",
       "│ 0.983033    ┆ ../../../../ ┆ af486bc1815 ┆ c73023dda51 ┆ FirstMortga ┆ 2513d0e24d8 ┆ Rejected    │\n",
       "│             ┆ data/SampleH ┆ c726c357890 ┆ de1b84f7af7 ┆ ge30yr      ┆ d0214eda4fb ┆             │\n",
       "│             ┆ DS.json      ┆ ac2a40ba98… ┆ 74fd6f8c73… ┆             ┆ 454447162b… ┆             │\n",
       "│ 0.144221    ┆ ../../../../ ┆ 3cdf7b1ae13 ┆ 5414b197fb8 ┆ FirstMortga ┆ 8b55bf62fc2 ┆ Accepted    │\n",
       "│             ┆ data/SampleH ┆ 42ef979ea2a ┆ 7b3f2e350d7 ┆ ge30yr      ┆ ecd16af97d4 ┆             │\n",
       "│             ┆ DS.json      ┆ 782541ad05… ┆ a74a840a81… ┆             ┆ 8e469362cf… ┆             │\n",
       "│ 0.679745    ┆ ../../../../ ┆ 806ef34eb82 ┆ 892f5d61a92 ┆ MoneyMarket ┆ 2513d0e24d8 ┆ Rejected    │\n",
       "│             ┆ data/SampleH ┆ 37f4db85004 ┆ 15ef985f3fa ┆ SavingsAcco ┆ d0214eda4fb ┆             │\n",
       "│             ┆ DS.json      ┆ e96dc471d8… ┆ 293d51c92e… ┆ unt         ┆ 454447162b… ┆             │\n",
       "│ 1.0         ┆ ../../../../ ┆ 3cdf7b1ae13 ┆ c3aa807d9e9 ┆ BasicChecki ┆ 2513d0e24d8 ┆ Rejected    │\n",
       "│             ┆ data/SampleH ┆ 42ef979ea2a ┆ 27ae426a89e ┆ ng          ┆ d0214eda4fb ┆             │\n",
       "│             ┆ DS.json      ┆ 782541ad05… ┆ 76a12b9160… ┆             ┆ 454447162b… ┆             │\n",
       "│ 0.718982    ┆ ../../../../ ┆ af486bc1815 ┆ c2d492f9a05 ┆ BasicChecki ┆ 1cd082ecbd5 ┆ Accepted    │\n",
       "│             ┆ data/SampleH ┆ c726c357890 ┆ 07327c14285 ┆ ng          ┆ dd95383b104 ┆             │\n",
       "│             ┆ DS.json      ┆ ac2a40ba98… ┆ e94e8ee54c… ┆             ┆ 65e395c1f7… ┆             │\n",
       "│ 0.0         ┆ ../../../../ ┆ 806ef34eb82 ┆ b2105922160 ┆ UPlusFinPer ┆ null        ┆ Rejected    │\n",
       "│             ┆ data/SampleH ┆ 37f4db85004 ┆ 5c49757cfe0 ┆ sonal       ┆             ┆             │\n",
       "│             ┆ DS.json      ┆ e96dc471d8… ┆ fee45640db… ┆             ┆             ┆             │\n",
       "│ 0.02333     ┆ ../../../../ ┆ 806ef34eb82 ┆ 80cbe489dce ┆ BasicChecki ┆ 1cd082ecbd5 ┆ Rejected    │\n",
       "│             ┆ data/SampleH ┆ 37f4db85004 ┆ cd4b9304898 ┆ ng          ┆ dd95383b104 ┆             │\n",
       "│             ┆ DS.json      ┆ e96dc471d8… ┆ c9986afeeb… ┆             ┆ 65e395c1f7… ┆             │\n",
       "└─────────────┴──────────────┴─────────────┴─────────────┴─────────────┴─────────────┴─────────────┘"
      ]
     },
     "execution_count": 14,
     "metadata": {},
     "output_type": "execute_result"
    }
   ],
   "source": [
    "from hashlib import sha3_256\n",
    "\n",
    "anon.process(algorithm=lambda x: sha3_256(x.encode()).hexdigest())"
   ]
  }
 ],
 "metadata": {
  "kernelspec": {
   "display_name": "Python 3",
   "language": "python",
   "name": "python3"
  },
  "language_info": {
   "codemirror_mode": {
    "name": "ipython",
    "version": 3
   },
   "file_extension": ".py",
   "mimetype": "text/x-python",
   "name": "python",
   "nbconvert_exporter": "python",
   "pygments_lexer": "ipython3",
   "version": "3.11.8"
  },
  "vscode": {
   "interpreter": {
    "hash": "aee8b7b246df8f9039afb4144a1f6fd8d2ca17a180786b69acc140d282b71a49"
   }
  }
 },
 "nbformat": 4,
 "nbformat_minor": 2
}
