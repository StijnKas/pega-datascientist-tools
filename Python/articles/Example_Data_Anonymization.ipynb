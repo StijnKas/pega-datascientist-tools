{
 "cells": [
  {
   "attachments": {},
   "cell_type": "markdown",
   "metadata": {},
   "source": [
    "# Example data anonymization\n",
    "\n",
    "In Pega CDH 8.5 and up, it's now possible to record the historical data as seen by the Adaptive Models. See [this academy challenge](https://academy.pega.com/challenge/exporting-historical-data/v4) for reference. This historical data can be further used to experiment with offline models, but also to fine-tune the OOTB Gradient Boosting model. However, sharing this information with Pega can be sensitive as it contains raw predictor data. \n",
    "\n",
    "To this end, we provide a simple and transparent script to fully anonimize this dataset.\n",
    "\n",
    "The DataAnonymization script is now part of pdstools, and you can import it directly as such."
   ]
  },
  {
   "cell_type": "code",
   "execution_count": 1,
   "metadata": {
    "execution": {
     "iopub.execute_input": "2023-05-23T15:16:51.317116Z",
     "iopub.status.busy": "2023-05-23T15:16:51.316667Z",
     "iopub.status.idle": "2023-05-23T15:16:51.323090Z",
     "shell.execute_reply": "2023-05-23T15:16:51.322563Z"
    },
    "nbsphinx": "hidden"
   },
   "outputs": [],
   "source": [
    "# These lines are only for rendering in the docs, and are hidden through Jupyter tags\n",
    "# Do not run if you're running the notebook seperately\n",
    "\n",
    "import sys\n",
    "sys.path.append('../../../')"
   ]
  },
  {
   "cell_type": "code",
   "execution_count": 2,
   "metadata": {
    "execution": {
     "iopub.execute_input": "2023-05-23T15:16:51.325596Z",
     "iopub.status.busy": "2023-05-23T15:16:51.325232Z",
     "iopub.status.idle": "2023-05-23T15:16:52.397927Z",
     "shell.execute_reply": "2023-05-23T15:16:52.397309Z"
    }
   },
   "outputs": [],
   "source": [
    "from pdstools import ADMDatamart\n",
    "from pdstools import Config, DataAnonymization\n",
    "import polars as pl"
   ]
  },
  {
   "attachments": {},
   "cell_type": "markdown",
   "metadata": {},
   "source": [
    "## Input data\n",
    "\n",
    "To demonstrate this process, we're going to anonymise this toy example dataframe:"
   ]
  },
  {
   "cell_type": "code",
   "execution_count": 3,
   "metadata": {
    "execution": {
     "iopub.execute_input": "2023-05-23T15:16:52.401077Z",
     "iopub.status.busy": "2023-05-23T15:16:52.400488Z",
     "iopub.status.idle": "2023-05-23T15:16:52.414298Z",
     "shell.execute_reply": "2023-05-23T15:16:52.413185Z"
    }
   },
   "outputs": [
    {
     "name": "stderr",
     "output_type": "stream",
     "text": [
      "[/home/runner/work/polars/polars/polars/polars-io/src/ndjson/core.rs:162] &data_type = Struct(\n",
      "    [\n",
      "        Field {\n",
      "            name: \"Context_Name\",\n",
      "            data_type: LargeUtf8,\n",
      "            is_nullable: true,\n",
      "            metadata: {},\n",
      "        },\n",
      "        Field {\n",
      "            name: \"Customer_MaritalStatus\",\n",
      "            data_type: LargeUtf8,\n",
      "            is_nullable: true,\n",
      "            metadata: {},\n",
      "        },\n",
      "        Field {\n",
      "            name: \"Customer_CLV\",\n",
      "            data_type: Int64,\n",
      "            is_nullable: true,\n",
      "            metadata: {},\n",
      "        },\n",
      "        Field {\n",
      "            name: \"Customer_City\",\n",
      "            data_type: LargeUtf8,\n",
      "            is_nullable: true,\n",
      "            metadata: {},\n",
      "        },\n",
      "        Field {\n",
      "            name: \"IH_Web_Inbound_Accepted_pxLastGroupID\",\n",
      "            data_type: LargeUtf8,\n",
      "            is_nullable: true,\n",
      "            metadata: {},\n",
      "        },\n",
      "        Field {\n",
      "            name: \"Decision_Outcome\",\n",
      "            data_type: LargeUtf8,\n",
      "            is_nullable: true,\n",
      "            metadata: {},\n",
      "        },\n",
      "    ],\n",
      ")\n"
     ]
    },
    {
     "data": {
      "text/html": [
       "<div><style>\n",
       ".dataframe > thead > tr > th,\n",
       ".dataframe > tbody > tr > td {\n",
       "  text-align: right;\n",
       "}\n",
       "</style>\n",
       "<small>shape: (7, 6)</small><table border=\"1\" class=\"dataframe\"><thead><tr><th>Context_Name</th><th>Customer_MaritalStatus</th><th>Customer_CLV</th><th>Customer_City</th><th>IH_Web_Inbound_Accepted_pxLastGroupID</th><th>Decision_Outcome</th></tr><tr><td>str</td><td>str</td><td>i64</td><td>str</td><td>str</td><td>str</td></tr></thead><tbody><tr><td>&quot;FirstMortgage3…</td><td>&quot;Married&quot;</td><td>1460</td><td>&quot;Port Raoul&quot;</td><td>&quot;Account&quot;</td><td>&quot;Rejected&quot;</td></tr><tr><td>&quot;FirstMortgage3…</td><td>&quot;Unknown&quot;</td><td>669</td><td>&quot;Laurianneshire…</td><td>&quot;AutoLoans&quot;</td><td>&quot;Accepted&quot;</td></tr><tr><td>&quot;MoneyMarketSav…</td><td>&quot;No Resp+&quot;</td><td>1174</td><td>&quot;Jacobshaven&quot;</td><td>&quot;Account&quot;</td><td>&quot;Rejected&quot;</td></tr><tr><td>&quot;BasicChecking&quot;</td><td>&quot;Unknown&quot;</td><td>1476</td><td>&quot;Lindton&quot;</td><td>&quot;Account&quot;</td><td>&quot;Rejected&quot;</td></tr><tr><td>&quot;BasicChecking&quot;</td><td>&quot;Married&quot;</td><td>1211</td><td>&quot;South Jimmiesh…</td><td>&quot;DepositAccount…</td><td>&quot;Accepted&quot;</td></tr><tr><td>&quot;UPlusFinPerson…</td><td>&quot;No Resp+&quot;</td><td>533</td><td>&quot;Bergeville&quot;</td><td>null</td><td>&quot;Rejected&quot;</td></tr><tr><td>&quot;BasicChecking&quot;</td><td>&quot;No Resp+&quot;</td><td>555</td><td>&quot;Willyville&quot;</td><td>&quot;DepositAccount…</td><td>&quot;Rejected&quot;</td></tr></tbody></table></div>"
      ],
      "text/plain": [
       "shape: (7, 6)\n",
       "┌────────────────┬────────────────┬──────────────┬────────────────┬────────────────┬───────────────┐\n",
       "│ Context_Name   ┆ Customer_Marit ┆ Customer_CLV ┆ Customer_City  ┆ IH_Web_Inbound ┆ Decision_Outc │\n",
       "│ ---            ┆ alStatus       ┆ ---          ┆ ---            ┆ _Accepted_pxLa ┆ ome           │\n",
       "│ str            ┆ ---            ┆ i64          ┆ str            ┆ stGr…          ┆ ---           │\n",
       "│                ┆ str            ┆              ┆                ┆ ---            ┆ str           │\n",
       "│                ┆                ┆              ┆                ┆ str            ┆               │\n",
       "╞════════════════╪════════════════╪══════════════╪════════════════╪════════════════╪═══════════════╡\n",
       "│ FirstMortgage3 ┆ Married        ┆ 1460         ┆ Port Raoul     ┆ Account        ┆ Rejected      │\n",
       "│ 0yr            ┆                ┆              ┆                ┆                ┆               │\n",
       "│ FirstMortgage3 ┆ Unknown        ┆ 669          ┆ Laurianneshire ┆ AutoLoans      ┆ Accepted      │\n",
       "│ 0yr            ┆                ┆              ┆                ┆                ┆               │\n",
       "│ MoneyMarketSav ┆ No Resp+       ┆ 1174         ┆ Jacobshaven    ┆ Account        ┆ Rejected      │\n",
       "│ ingsAccount    ┆                ┆              ┆                ┆                ┆               │\n",
       "│ BasicChecking  ┆ Unknown        ┆ 1476         ┆ Lindton        ┆ Account        ┆ Rejected      │\n",
       "│ BasicChecking  ┆ Married        ┆ 1211         ┆ South          ┆ DepositAccount ┆ Accepted      │\n",
       "│                ┆                ┆              ┆ Jimmieshire    ┆ s              ┆               │\n",
       "│ UPlusFinPerson ┆ No Resp+       ┆ 533          ┆ Bergeville     ┆ null           ┆ Rejected      │\n",
       "│ al             ┆                ┆              ┆                ┆                ┆               │\n",
       "│ BasicChecking  ┆ No Resp+       ┆ 555          ┆ Willyville     ┆ DepositAccount ┆ Rejected      │\n",
       "│                ┆                ┆              ┆                ┆ s              ┆               │\n",
       "└────────────────┴────────────────┴──────────────┴────────────────┴────────────────┴───────────────┘"
      ]
     },
     "execution_count": 3,
     "metadata": {},
     "output_type": "execute_result"
    }
   ],
   "source": [
    "pl.read_ndjson('../../../../data/SampleHDS.json')"
   ]
  },
  {
   "attachments": {},
   "cell_type": "markdown",
   "metadata": {},
   "source": [
    "As you can see, this dataset consists of regular predictors, IH predictors, context keys and the outcome column. Additionally, some columns are numeric, others are strings. Let's first initialize the DataAnonymization class."
   ]
  },
  {
   "cell_type": "code",
   "execution_count": 4,
   "metadata": {
    "execution": {
     "iopub.execute_input": "2023-05-23T15:16:52.416742Z",
     "iopub.status.busy": "2023-05-23T15:16:52.416283Z",
     "iopub.status.idle": "2023-05-23T15:16:52.425381Z",
     "shell.execute_reply": "2023-05-23T15:16:52.424624Z"
    }
   },
   "outputs": [],
   "source": [
    "anon = DataAnonymization(hds_folder='../../../../data/')"
   ]
  },
  {
   "attachments": {},
   "cell_type": "markdown",
   "metadata": {},
   "source": [
    "By default, the class applies a set of anonymisation techniques:\n",
    "- Column names are remapped to a non-descriptive name\n",
    "- Categorical values are hashed with a random seed\n",
    "- Numerical values are normalized between 0 and 1\n",
    "- Outcomes are mapped to a binary outcome.\n",
    "\n",
    "To apply these techniques, simply call `.process()`:"
   ]
  },
  {
   "cell_type": "code",
   "execution_count": 5,
   "metadata": {
    "execution": {
     "iopub.execute_input": "2023-05-23T15:16:52.427871Z",
     "iopub.status.busy": "2023-05-23T15:16:52.427523Z",
     "iopub.status.idle": "2023-05-23T15:16:52.435230Z",
     "shell.execute_reply": "2023-05-23T15:16:52.434729Z"
    }
   },
   "outputs": [
    {
     "data": {
      "text/html": [
       "<div><style>\n",
       ".dataframe > thead > tr > th,\n",
       ".dataframe > tbody > tr > td {\n",
       "  text-align: right;\n",
       "}\n",
       "</style>\n",
       "<small>shape: (7, 7)</small><table border=\"1\" class=\"dataframe\"><thead><tr><th>PREDICTOR_0</th><th>PREDICTOR_1</th><th>filename</th><th>PREDICTOR_3</th><th>Context_Name</th><th>IH_PREDICTOR_0</th><th>Decision_Outcome</th></tr><tr><td>f64</td><td>str</td><td>str</td><td>str</td><td>str</td><td>str</td><td>bool</td></tr></thead><tbody><tr><td>1.2927e19</td><td>&quot;46206085420593…</td><td>&quot;../../../../da…</td><td>&quot;83246850668378…</td><td>&quot;80165505440841…</td><td>&quot;11704961701643…</td><td>false</td></tr><tr><td>1.4856e19</td><td>&quot;16427630891846…</td><td>&quot;../../../../da…</td><td>&quot;42219822631184…</td><td>&quot;80165505440841…</td><td>&quot;14106914793142…</td><td>true</td></tr><tr><td>5.6458e17</td><td>&quot;72047525066269…</td><td>&quot;../../../../da…</td><td>&quot;18163512100511…</td><td>&quot;32501601091527…</td><td>&quot;11704961701643…</td><td>false</td></tr><tr><td>4.0723e18</td><td>&quot;14161315516668…</td><td>&quot;../../../../da…</td><td>&quot;42219822631184…</td><td>&quot;83862443376292…</td><td>&quot;11704961701643…</td><td>false</td></tr><tr><td>1.4677e19</td><td>&quot;17747620851370…</td><td>&quot;../../../../da…</td><td>&quot;83246850668378…</td><td>&quot;83862443376292…</td><td>&quot;14054257564665…</td><td>true</td></tr><tr><td>1.6330e19</td><td>&quot;95709609765117…</td><td>&quot;../../../../da…</td><td>&quot;18163512100511…</td><td>&quot;54609335890377…</td><td>null</td><td>false</td></tr><tr><td>8.7675e18</td><td>&quot;11182138909439…</td><td>&quot;../../../../da…</td><td>&quot;18163512100511…</td><td>&quot;83862443376292…</td><td>&quot;14054257564665…</td><td>false</td></tr></tbody></table></div>"
      ],
      "text/plain": [
       "shape: (7, 7)\n",
       "┌─────────────┬───────────────┬──────────────┬──────────────┬────────────┬────────────┬────────────┐\n",
       "│ PREDICTOR_0 ┆ PREDICTOR_1   ┆ filename     ┆ PREDICTOR_3  ┆ Context_Na ┆ IH_PREDICT ┆ Decision_O │\n",
       "│ ---         ┆ ---           ┆ ---          ┆ ---          ┆ me         ┆ OR_0       ┆ utcome     │\n",
       "│ f64         ┆ str           ┆ str          ┆ str          ┆ ---        ┆ ---        ┆ ---        │\n",
       "│             ┆               ┆              ┆              ┆ str        ┆ str        ┆ bool       │\n",
       "╞═════════════╪═══════════════╪══════════════╪══════════════╪════════════╪════════════╪════════════╡\n",
       "│ 1.2927e19   ┆ 4620608542059 ┆ ../../../../ ┆ 832468506683 ┆ 8016550544 ┆ 1170496170 ┆ false      │\n",
       "│             ┆ 379868        ┆ data/SampleH ┆ 7889761      ┆ 08418082   ┆ 164312251  ┆            │\n",
       "│             ┆               ┆ DS.json      ┆              ┆            ┆            ┆            │\n",
       "│ 1.4856e19   ┆ 1642763089184 ┆ ../../../../ ┆ 422198226311 ┆ 8016550544 ┆ 1410691479 ┆ true       │\n",
       "│             ┆ 6530575       ┆ data/SampleH ┆ 8479666      ┆ 08418082   ┆ 3142620225 ┆            │\n",
       "│             ┆               ┆ DS.json      ┆              ┆            ┆            ┆            │\n",
       "│ 5.6458e17   ┆ 7204752506626 ┆ ../../../../ ┆ 181635121005 ┆ 3250160109 ┆ 1170496170 ┆ false      │\n",
       "│             ┆ 987717        ┆ data/SampleH ┆ 11852465     ┆ 152766308  ┆ 164312251  ┆            │\n",
       "│             ┆               ┆ DS.json      ┆              ┆            ┆            ┆            │\n",
       "│ 4.0723e18   ┆ 1416131551666 ┆ ../../../../ ┆ 422198226311 ┆ 8386244337 ┆ 1170496170 ┆ false      │\n",
       "│             ┆ 8069432       ┆ data/SampleH ┆ 8479666      ┆ 629214563  ┆ 164312251  ┆            │\n",
       "│             ┆               ┆ DS.json      ┆              ┆            ┆            ┆            │\n",
       "│ 1.4677e19   ┆ 1774762085137 ┆ ../../../../ ┆ 832468506683 ┆ 8386244337 ┆ 1405425756 ┆ true       │\n",
       "│             ┆ 0475824       ┆ data/SampleH ┆ 7889761      ┆ 629214563  ┆ 4665610649 ┆            │\n",
       "│             ┆               ┆ DS.json      ┆              ┆            ┆            ┆            │\n",
       "│ 1.6330e19   ┆ 9570960976511 ┆ ../../../../ ┆ 181635121005 ┆ 5460933589 ┆ null       ┆ false      │\n",
       "│             ┆ 71205         ┆ data/SampleH ┆ 11852465     ┆ 037778686  ┆            ┆            │\n",
       "│             ┆               ┆ DS.json      ┆              ┆            ┆            ┆            │\n",
       "│ 8.7675e18   ┆ 1118213890943 ┆ ../../../../ ┆ 181635121005 ┆ 8386244337 ┆ 1405425756 ┆ false      │\n",
       "│             ┆ 9961758       ┆ data/SampleH ┆ 11852465     ┆ 629214563  ┆ 4665610649 ┆            │\n",
       "│             ┆               ┆ DS.json      ┆              ┆            ┆            ┆            │\n",
       "└─────────────┴───────────────┴──────────────┴──────────────┴────────────┴────────────┴────────────┘"
      ]
     },
     "execution_count": 5,
     "metadata": {},
     "output_type": "execute_result"
    }
   ],
   "source": [
    "anon.process()"
   ]
  },
  {
   "attachments": {},
   "cell_type": "markdown",
   "metadata": {},
   "source": [
    "To trace back the columns to their original names, the class also contains a mapping, which does not have to be provided."
   ]
  },
  {
   "cell_type": "code",
   "execution_count": 6,
   "metadata": {
    "execution": {
     "iopub.execute_input": "2023-05-23T15:16:52.437526Z",
     "iopub.status.busy": "2023-05-23T15:16:52.437148Z",
     "iopub.status.idle": "2023-05-23T15:16:52.441184Z",
     "shell.execute_reply": "2023-05-23T15:16:52.440415Z"
    }
   },
   "outputs": [
    {
     "data": {
      "text/plain": [
       "{'Customer_CLV': 'PREDICTOR_0',\n",
       " 'Customer_City': 'PREDICTOR_1',\n",
       " 'filename': 'filename',\n",
       " 'Customer_MaritalStatus': 'PREDICTOR_3',\n",
       " 'Context_Name': 'Context_Name',\n",
       " 'IH_Web_Inbound_Accepted_pxLastGroupID': 'IH_PREDICTOR_0',\n",
       " 'Decision_Outcome': 'Decision_Outcome'}"
      ]
     },
     "execution_count": 6,
     "metadata": {},
     "output_type": "execute_result"
    }
   ],
   "source": [
    "anon.column_mapping"
   ]
  },
  {
   "attachments": {},
   "cell_type": "markdown",
   "metadata": {},
   "source": [
    "## Configs\n",
    "\n",
    "Each capability can optionally be turned off - see below for the full list of config options, and refer to the API reference for the full description."
   ]
  },
  {
   "cell_type": "code",
   "execution_count": 7,
   "metadata": {
    "execution": {
     "iopub.execute_input": "2023-05-23T15:16:52.443347Z",
     "iopub.status.busy": "2023-05-23T15:16:52.442996Z",
     "iopub.status.idle": "2023-05-23T15:16:52.446979Z",
     "shell.execute_reply": "2023-05-23T15:16:52.446564Z"
    }
   },
   "outputs": [
    {
     "data": {
      "text/plain": [
       "{'config_file': None,\n",
       " 'hds_folder': '.',\n",
       " 'use_datamart': False,\n",
       " 'datamart_folder': 'datamart',\n",
       " 'output_format': 'ndjson',\n",
       " 'output_folder': 'output',\n",
       " 'mapping_file': 'mapping.map',\n",
       " 'mask_predictor_names': True,\n",
       " 'mask_context_key_names': False,\n",
       " 'mask_ih_names': True,\n",
       " 'mask_outcome_name': False,\n",
       " 'mask_predictor_values': True,\n",
       " 'mask_context_key_values': True,\n",
       " 'mask_ih_values': True,\n",
       " 'mask_outcome_values': True,\n",
       " 'context_key_label': 'Context_*',\n",
       " 'ih_label': 'IH_*',\n",
       " 'outcome_column': 'Decision_Outcome',\n",
       " 'positive_outcomes': ['Accepted', 'Clicked'],\n",
       " 'negative_outcomes': ['Rejected', 'Impression'],\n",
       " 'special_predictors': ['Decision_DecisionTime',\n",
       "  'Decision_OutcomeTime',\n",
       "  'Decision_Rank'],\n",
       " 'sample_percentage_schema_inferencing': 0.01}"
      ]
     },
     "execution_count": 7,
     "metadata": {},
     "output_type": "execute_result"
    }
   ],
   "source": [
    "dict(zip(Config.__init__.__code__.co_varnames[1:], Config.__init__.__defaults__))"
   ]
  },
  {
   "attachments": {},
   "cell_type": "markdown",
   "metadata": {},
   "source": [
    "It's easy to change these parameters by just passing the keyword arguments. In the following example, we\n",
    "- Keep the IH predictor names\n",
    "- Keep the outcome values\n",
    "- Keep the context key values\n",
    "- Keep the context key predictor names"
   ]
  },
  {
   "cell_type": "code",
   "execution_count": 8,
   "metadata": {
    "execution": {
     "iopub.execute_input": "2023-05-23T15:16:52.449062Z",
     "iopub.status.busy": "2023-05-23T15:16:52.448708Z",
     "iopub.status.idle": "2023-05-23T15:16:52.458179Z",
     "shell.execute_reply": "2023-05-23T15:16:52.457749Z"
    }
   },
   "outputs": [
    {
     "data": {
      "text/html": [
       "<div><style>\n",
       ".dataframe > thead > tr > th,\n",
       ".dataframe > tbody > tr > td {\n",
       "  text-align: right;\n",
       "}\n",
       "</style>\n",
       "<small>shape: (7, 7)</small><table border=\"1\" class=\"dataframe\"><thead><tr><th>PREDICTOR_0</th><th>PREDICTOR_1</th><th>filename</th><th>PREDICTOR_3</th><th>Context_Name</th><th>IH_Web_Inbound_Accepted_pxLastGroupID</th><th>Decision_Outcome</th></tr><tr><td>f64</td><td>str</td><td>str</td><td>str</td><td>str</td><td>str</td><td>str</td></tr></thead><tbody><tr><td>1.2927e19</td><td>&quot;84790836205166…</td><td>&quot;../../../../da…</td><td>&quot;15778270697403…</td><td>&quot;FirstMortgage3…</td><td>&quot;34580056492919…</td><td>&quot;Rejected&quot;</td></tr><tr><td>1.4856e19</td><td>&quot;15839270322715…</td><td>&quot;../../../../da…</td><td>&quot;58968768912145…</td><td>&quot;FirstMortgage3…</td><td>&quot;18388685828810…</td><td>&quot;Accepted&quot;</td></tr><tr><td>5.6458e17</td><td>&quot;17470896009045…</td><td>&quot;../../../../da…</td><td>&quot;49311643565112…</td><td>&quot;MoneyMarketSav…</td><td>&quot;34580056492919…</td><td>&quot;Rejected&quot;</td></tr><tr><td>4.0723e18</td><td>&quot;12279990710405…</td><td>&quot;../../../../da…</td><td>&quot;58968768912145…</td><td>&quot;BasicChecking&quot;</td><td>&quot;34580056492919…</td><td>&quot;Rejected&quot;</td></tr><tr><td>1.4677e19</td><td>&quot;45230955963394…</td><td>&quot;../../../../da…</td><td>&quot;15778270697403…</td><td>&quot;BasicChecking&quot;</td><td>&quot;59884713285636…</td><td>&quot;Accepted&quot;</td></tr><tr><td>1.6330e19</td><td>&quot;16862601823104…</td><td>&quot;../../../../da…</td><td>&quot;49311643565112…</td><td>&quot;UPlusFinPerson…</td><td>null</td><td>&quot;Rejected&quot;</td></tr><tr><td>8.7675e18</td><td>&quot;17633472480430…</td><td>&quot;../../../../da…</td><td>&quot;49311643565112…</td><td>&quot;BasicChecking&quot;</td><td>&quot;59884713285636…</td><td>&quot;Rejected&quot;</td></tr></tbody></table></div>"
      ],
      "text/plain": [
       "shape: (7, 7)\n",
       "┌─────────────┬───────────────┬──────────────┬──────────────┬────────────┬────────────┬────────────┐\n",
       "│ PREDICTOR_0 ┆ PREDICTOR_1   ┆ filename     ┆ PREDICTOR_3  ┆ Context_Na ┆ IH_Web_Inb ┆ Decision_O │\n",
       "│ ---         ┆ ---           ┆ ---          ┆ ---          ┆ me         ┆ ound_Accep ┆ utcome     │\n",
       "│ f64         ┆ str           ┆ str          ┆ str          ┆ ---        ┆ ted_pxLast ┆ ---        │\n",
       "│             ┆               ┆              ┆              ┆ str        ┆ Gr…        ┆ str        │\n",
       "│             ┆               ┆              ┆              ┆            ┆ ---        ┆            │\n",
       "│             ┆               ┆              ┆              ┆            ┆ str        ┆            │\n",
       "╞═════════════╪═══════════════╪══════════════╪══════════════╪════════════╪════════════╪════════════╡\n",
       "│ 1.2927e19   ┆ 8479083620516 ┆ ../../../../ ┆ 157782706974 ┆ FirstMortg ┆ 3458005649 ┆ Rejected   │\n",
       "│             ┆ 676760        ┆ data/SampleH ┆ 03165072     ┆ age30yr    ┆ 291931104  ┆            │\n",
       "│             ┆               ┆ DS.json      ┆              ┆            ┆            ┆            │\n",
       "│ 1.4856e19   ┆ 1583927032271 ┆ ../../../../ ┆ 589687689121 ┆ FirstMortg ┆ 1838868582 ┆ Accepted   │\n",
       "│             ┆ 528390        ┆ data/SampleH ┆ 4579517      ┆ age30yr    ┆ 8810411859 ┆            │\n",
       "│             ┆               ┆ DS.json      ┆              ┆            ┆            ┆            │\n",
       "│ 5.6458e17   ┆ 1747089600904 ┆ ../../../../ ┆ 493116435651 ┆ MoneyMarke ┆ 3458005649 ┆ Rejected   │\n",
       "│             ┆ 5897846       ┆ data/SampleH ┆ 1275230      ┆ tSavingsAc ┆ 291931104  ┆            │\n",
       "│             ┆               ┆ DS.json      ┆              ┆ count      ┆            ┆            │\n",
       "│ 4.0723e18   ┆ 1227999071040 ┆ ../../../../ ┆ 589687689121 ┆ BasicCheck ┆ 3458005649 ┆ Rejected   │\n",
       "│             ┆ 5120588       ┆ data/SampleH ┆ 4579517      ┆ ing        ┆ 291931104  ┆            │\n",
       "│             ┆               ┆ DS.json      ┆              ┆            ┆            ┆            │\n",
       "│ 1.4677e19   ┆ 4523095596339 ┆ ../../../../ ┆ 157782706974 ┆ BasicCheck ┆ 5988471328 ┆ Accepted   │\n",
       "│             ┆ 461724        ┆ data/SampleH ┆ 03165072     ┆ ing        ┆ 563696468  ┆            │\n",
       "│             ┆               ┆ DS.json      ┆              ┆            ┆            ┆            │\n",
       "│ 1.6330e19   ┆ 1686260182310 ┆ ../../../../ ┆ 493116435651 ┆ UPlusFinPe ┆ null       ┆ Rejected   │\n",
       "│             ┆ 4243393       ┆ data/SampleH ┆ 1275230      ┆ rsonal     ┆            ┆            │\n",
       "│             ┆               ┆ DS.json      ┆              ┆            ┆            ┆            │\n",
       "│ 8.7675e18   ┆ 1763347248043 ┆ ../../../../ ┆ 493116435651 ┆ BasicCheck ┆ 5988471328 ┆ Rejected   │\n",
       "│             ┆ 0087685       ┆ data/SampleH ┆ 1275230      ┆ ing        ┆ 563696468  ┆            │\n",
       "│             ┆               ┆ DS.json      ┆              ┆            ┆            ┆            │\n",
       "└─────────────┴───────────────┴──────────────┴──────────────┴────────────┴────────────┴────────────┘"
      ]
     },
     "execution_count": 8,
     "metadata": {},
     "output_type": "execute_result"
    }
   ],
   "source": [
    "anon = DataAnonymization(\n",
    "    hds_folder='../../../../data/',\n",
    "    mask_ih_names=False,\n",
    "    mask_outcome_values=False,\n",
    "    mask_context_key_values=False,\n",
    "    mask_context_key_names=False,\n",
    ")\n",
    "anon.process()\n"
   ]
  },
  {
   "attachments": {},
   "cell_type": "markdown",
   "metadata": {},
   "source": [
    "The configs can also be written and read as such:"
   ]
  },
  {
   "cell_type": "code",
   "execution_count": 9,
   "metadata": {
    "execution": {
     "iopub.execute_input": "2023-05-23T15:16:52.460509Z",
     "iopub.status.busy": "2023-05-23T15:16:52.460017Z",
     "iopub.status.idle": "2023-05-23T15:16:52.462766Z",
     "shell.execute_reply": "2023-05-23T15:16:52.462342Z"
    }
   },
   "outputs": [],
   "source": [
    "anon.config.save_to_config_file('config.json')"
   ]
  },
  {
   "cell_type": "code",
   "execution_count": 10,
   "metadata": {
    "execution": {
     "iopub.execute_input": "2023-05-23T15:16:52.464802Z",
     "iopub.status.busy": "2023-05-23T15:16:52.464453Z",
     "iopub.status.idle": "2023-05-23T15:16:52.473649Z",
     "shell.execute_reply": "2023-05-23T15:16:52.473229Z"
    }
   },
   "outputs": [
    {
     "data": {
      "text/html": [
       "<div><style>\n",
       ".dataframe > thead > tr > th,\n",
       ".dataframe > tbody > tr > td {\n",
       "  text-align: right;\n",
       "}\n",
       "</style>\n",
       "<small>shape: (7, 7)</small><table border=\"1\" class=\"dataframe\"><thead><tr><th>PREDICTOR_0</th><th>PREDICTOR_1</th><th>filename</th><th>PREDICTOR_3</th><th>Context_Name</th><th>IH_Web_Inbound_Accepted_pxLastGroupID</th><th>Decision_Outcome</th></tr><tr><td>f64</td><td>str</td><td>str</td><td>str</td><td>str</td><td>str</td><td>str</td></tr></thead><tbody><tr><td>1.2927e19</td><td>&quot;51585139116642…</td><td>&quot;../../../../da…</td><td>&quot;10567941482173…</td><td>&quot;FirstMortgage3…</td><td>&quot;14276371814744…</td><td>&quot;Rejected&quot;</td></tr><tr><td>1.4856e19</td><td>&quot;89077430554625…</td><td>&quot;../../../../da…</td><td>&quot;14390542144113…</td><td>&quot;FirstMortgage3…</td><td>&quot;18537491943467…</td><td>&quot;Accepted&quot;</td></tr><tr><td>5.6458e17</td><td>&quot;67753411876396…</td><td>&quot;../../../../da…</td><td>&quot;17333566460845…</td><td>&quot;MoneyMarketSav…</td><td>&quot;14276371814744…</td><td>&quot;Rejected&quot;</td></tr><tr><td>4.0723e18</td><td>&quot;15786683514798…</td><td>&quot;../../../../da…</td><td>&quot;14390542144113…</td><td>&quot;BasicChecking&quot;</td><td>&quot;14276371814744…</td><td>&quot;Rejected&quot;</td></tr><tr><td>1.4677e19</td><td>&quot;86746780287612…</td><td>&quot;../../../../da…</td><td>&quot;10567941482173…</td><td>&quot;BasicChecking&quot;</td><td>&quot;14331668129927…</td><td>&quot;Accepted&quot;</td></tr><tr><td>1.6330e19</td><td>&quot;12953503836572…</td><td>&quot;../../../../da…</td><td>&quot;17333566460845…</td><td>&quot;UPlusFinPerson…</td><td>null</td><td>&quot;Rejected&quot;</td></tr><tr><td>8.7675e18</td><td>&quot;13637196850384…</td><td>&quot;../../../../da…</td><td>&quot;17333566460845…</td><td>&quot;BasicChecking&quot;</td><td>&quot;14331668129927…</td><td>&quot;Rejected&quot;</td></tr></tbody></table></div>"
      ],
      "text/plain": [
       "shape: (7, 7)\n",
       "┌─────────────┬───────────────┬──────────────┬──────────────┬────────────┬────────────┬────────────┐\n",
       "│ PREDICTOR_0 ┆ PREDICTOR_1   ┆ filename     ┆ PREDICTOR_3  ┆ Context_Na ┆ IH_Web_Inb ┆ Decision_O │\n",
       "│ ---         ┆ ---           ┆ ---          ┆ ---          ┆ me         ┆ ound_Accep ┆ utcome     │\n",
       "│ f64         ┆ str           ┆ str          ┆ str          ┆ ---        ┆ ted_pxLast ┆ ---        │\n",
       "│             ┆               ┆              ┆              ┆ str        ┆ Gr…        ┆ str        │\n",
       "│             ┆               ┆              ┆              ┆            ┆ ---        ┆            │\n",
       "│             ┆               ┆              ┆              ┆            ┆ str        ┆            │\n",
       "╞═════════════╪═══════════════╪══════════════╪══════════════╪════════════╪════════════╪════════════╡\n",
       "│ 1.2927e19   ┆ 5158513911664 ┆ ../../../../ ┆ 105679414821 ┆ FirstMortg ┆ 1427637181 ┆ Rejected   │\n",
       "│             ┆ 243655        ┆ data/SampleH ┆ 73040292     ┆ age30yr    ┆ 4744639993 ┆            │\n",
       "│             ┆               ┆ DS.json      ┆              ┆            ┆            ┆            │\n",
       "│ 1.4856e19   ┆ 8907743055462 ┆ ../../../../ ┆ 143905421441 ┆ FirstMortg ┆ 1853749194 ┆ Accepted   │\n",
       "│             ┆ 560014        ┆ data/SampleH ┆ 13728369     ┆ age30yr    ┆ 346747806  ┆            │\n",
       "│             ┆               ┆ DS.json      ┆              ┆            ┆            ┆            │\n",
       "│ 5.6458e17   ┆ 6775341187639 ┆ ../../../../ ┆ 173335664608 ┆ MoneyMarke ┆ 1427637181 ┆ Rejected   │\n",
       "│             ┆ 628156        ┆ data/SampleH ┆ 4502782      ┆ tSavingsAc ┆ 4744639993 ┆            │\n",
       "│             ┆               ┆ DS.json      ┆              ┆ count      ┆            ┆            │\n",
       "│ 4.0723e18   ┆ 1578668351479 ┆ ../../../../ ┆ 143905421441 ┆ BasicCheck ┆ 1427637181 ┆ Rejected   │\n",
       "│             ┆ 8455837       ┆ data/SampleH ┆ 13728369     ┆ ing        ┆ 4744639993 ┆            │\n",
       "│             ┆               ┆ DS.json      ┆              ┆            ┆            ┆            │\n",
       "│ 1.4677e19   ┆ 8674678028761 ┆ ../../../../ ┆ 105679414821 ┆ BasicCheck ┆ 1433166812 ┆ Accepted   │\n",
       "│             ┆ 276090        ┆ data/SampleH ┆ 73040292     ┆ ing        ┆ 9927098797 ┆            │\n",
       "│             ┆               ┆ DS.json      ┆              ┆            ┆            ┆            │\n",
       "│ 1.6330e19   ┆ 1295350383657 ┆ ../../../../ ┆ 173335664608 ┆ UPlusFinPe ┆ null       ┆ Rejected   │\n",
       "│             ┆ 2500218       ┆ data/SampleH ┆ 4502782      ┆ rsonal     ┆            ┆            │\n",
       "│             ┆               ┆ DS.json      ┆              ┆            ┆            ┆            │\n",
       "│ 8.7675e18   ┆ 1363719685038 ┆ ../../../../ ┆ 173335664608 ┆ BasicCheck ┆ 1433166812 ┆ Rejected   │\n",
       "│             ┆ 4213249       ┆ data/SampleH ┆ 4502782      ┆ ing        ┆ 9927098797 ┆            │\n",
       "│             ┆               ┆ DS.json      ┆              ┆            ┆            ┆            │\n",
       "└─────────────┴───────────────┴──────────────┴──────────────┴────────────┴────────────┴────────────┘"
      ]
     },
     "execution_count": 10,
     "metadata": {},
     "output_type": "execute_result"
    }
   ],
   "source": [
    "anon = DataAnonymization(config=Config(config_file='config.json'))\n",
    "anon.process()"
   ]
  },
  {
   "attachments": {},
   "cell_type": "markdown",
   "metadata": {},
   "source": [
    "## Exporting\n",
    "Two functions export:\n",
    "- `create_mapping_file()` writes the mapping file of the predictor names\n",
    "- `write_to_output()` writes the processed dataframe to disk\n",
    "\n",
    "Write to output accepts the following extensions: `[\"ndjson\", \"parquet\", \"arrow\", \"csv\"]`"
   ]
  },
  {
   "cell_type": "code",
   "execution_count": 11,
   "metadata": {
    "execution": {
     "iopub.execute_input": "2023-05-23T15:16:52.475735Z",
     "iopub.status.busy": "2023-05-23T15:16:52.475388Z",
     "iopub.status.idle": "2023-05-23T15:16:52.478606Z",
     "shell.execute_reply": "2023-05-23T15:16:52.478191Z"
    }
   },
   "outputs": [
    {
     "name": "stdout",
     "output_type": "stream",
     "text": [
      "Customer_CLV=PREDICTOR_0\n",
      "Customer_City=PREDICTOR_1\n",
      "filename=filename\n",
      "Customer_MaritalStatus=PREDICTOR_3\n",
      "Context_Name=Context_Name\n",
      "IH_Web_Inbound_Accepted_pxLastGroupID=IH_Web_Inbound_Accepted_pxLastGroupID\n",
      "Decision_Outcome=Decision_Outcome\n",
      "\n"
     ]
    }
   ],
   "source": [
    "anon.create_mapping_file()\n",
    "with open('mapping.map') as f:\n",
    "    print(f.read())"
   ]
  },
  {
   "cell_type": "code",
   "execution_count": 12,
   "metadata": {
    "execution": {
     "iopub.execute_input": "2023-05-23T15:16:52.480643Z",
     "iopub.status.busy": "2023-05-23T15:16:52.480293Z",
     "iopub.status.idle": "2023-05-23T15:16:52.483839Z",
     "shell.execute_reply": "2023-05-23T15:16:52.483321Z"
    }
   },
   "outputs": [],
   "source": [
    "anon.write_to_output(ext='arrow')"
   ]
  },
  {
   "cell_type": "code",
   "execution_count": 13,
   "metadata": {
    "execution": {
     "iopub.execute_input": "2023-05-23T15:16:52.486032Z",
     "iopub.status.busy": "2023-05-23T15:16:52.485851Z",
     "iopub.status.idle": "2023-05-23T15:16:52.491776Z",
     "shell.execute_reply": "2023-05-23T15:16:52.491273Z"
    }
   },
   "outputs": [
    {
     "data": {
      "text/html": [
       "<div><style>\n",
       ".dataframe > thead > tr > th,\n",
       ".dataframe > tbody > tr > td {\n",
       "  text-align: right;\n",
       "}\n",
       "</style>\n",
       "<small>shape: (7, 6)</small><table border=\"1\" class=\"dataframe\"><thead><tr><th>PREDICTOR_0</th><th>PREDICTOR_1</th><th>PREDICTOR_3</th><th>Context_Name</th><th>IH_Web_Inbound_Accepted_pxLastGroupID</th><th>Decision_Outcome</th></tr><tr><td>f64</td><td>str</td><td>str</td><td>str</td><td>str</td><td>str</td></tr></thead><tbody><tr><td>1.2927e19</td><td>&quot;16540965353018…</td><td>&quot;54548307341303…</td><td>&quot;FirstMortgage3…</td><td>&quot;14897328882073…</td><td>&quot;Rejected&quot;</td></tr><tr><td>1.4856e19</td><td>&quot;39017025197016…</td><td>&quot;14591791407318…</td><td>&quot;FirstMortgage3…</td><td>&quot;15180704685296…</td><td>&quot;Accepted&quot;</td></tr><tr><td>5.6458e17</td><td>&quot;16293977266018…</td><td>&quot;98265869572779…</td><td>&quot;MoneyMarketSav…</td><td>&quot;14897328882073…</td><td>&quot;Rejected&quot;</td></tr><tr><td>4.0723e18</td><td>&quot;12804477109685…</td><td>&quot;14591791407318…</td><td>&quot;BasicChecking&quot;</td><td>&quot;14897328882073…</td><td>&quot;Rejected&quot;</td></tr><tr><td>1.4677e19</td><td>&quot;30420655484401…</td><td>&quot;54548307341303…</td><td>&quot;BasicChecking&quot;</td><td>&quot;13745343325158…</td><td>&quot;Accepted&quot;</td></tr><tr><td>1.6330e19</td><td>&quot;65722634504567…</td><td>&quot;98265869572779…</td><td>&quot;UPlusFinPerson…</td><td>null</td><td>&quot;Rejected&quot;</td></tr><tr><td>8.7675e18</td><td>&quot;11224569503691…</td><td>&quot;98265869572779…</td><td>&quot;BasicChecking&quot;</td><td>&quot;13745343325158…</td><td>&quot;Rejected&quot;</td></tr></tbody></table></div>"
      ],
      "text/plain": [
       "shape: (7, 6)\n",
       "┌─────────────┬────────────────┬────────────────┬────────────────┬────────────────┬────────────────┐\n",
       "│ PREDICTOR_0 ┆ PREDICTOR_1    ┆ PREDICTOR_3    ┆ Context_Name   ┆ IH_Web_Inbound ┆ Decision_Outco │\n",
       "│ ---         ┆ ---            ┆ ---            ┆ ---            ┆ _Accepted_pxLa ┆ me             │\n",
       "│ f64         ┆ str            ┆ str            ┆ str            ┆ stGr…          ┆ ---            │\n",
       "│             ┆                ┆                ┆                ┆ ---            ┆ str            │\n",
       "│             ┆                ┆                ┆                ┆ str            ┆                │\n",
       "╞═════════════╪════════════════╪════════════════╪════════════════╪════════════════╪════════════════╡\n",
       "│ 1.2927e19   ┆ 16540965353018 ┆ 54548307341303 ┆ FirstMortgage3 ┆ 14897328882073 ┆ Rejected       │\n",
       "│             ┆ 870473         ┆ 89073          ┆ 0yr            ┆ 99987          ┆                │\n",
       "│ 1.4856e19   ┆ 39017025197016 ┆ 14591791407318 ┆ FirstMortgage3 ┆ 15180704685296 ┆ Accepted       │\n",
       "│             ┆ 69957          ┆ 667479         ┆ 0yr            ┆ 524104         ┆                │\n",
       "│ 5.6458e17   ┆ 16293977266018 ┆ 98265869572779 ┆ MoneyMarketSav ┆ 14897328882073 ┆ Rejected       │\n",
       "│             ┆ 4469           ┆ 22492          ┆ ingsAccount    ┆ 99987          ┆                │\n",
       "│ 4.0723e18   ┆ 12804477109685 ┆ 14591791407318 ┆ BasicChecking  ┆ 14897328882073 ┆ Rejected       │\n",
       "│             ┆ 781110         ┆ 667479         ┆                ┆ 99987          ┆                │\n",
       "│ 1.4677e19   ┆ 30420655484401 ┆ 54548307341303 ┆ BasicChecking  ┆ 13745343325158 ┆ Accepted       │\n",
       "│             ┆ 84894          ┆ 89073          ┆                ┆ 381312         ┆                │\n",
       "│ 1.6330e19   ┆ 65722634504567 ┆ 98265869572779 ┆ UPlusFinPerson ┆ null           ┆ Rejected       │\n",
       "│             ┆ 31464          ┆ 22492          ┆ al             ┆                ┆                │\n",
       "│ 8.7675e18   ┆ 11224569503691 ┆ 98265869572779 ┆ BasicChecking  ┆ 13745343325158 ┆ Rejected       │\n",
       "│             ┆ 993514         ┆ 22492          ┆                ┆ 381312         ┆                │\n",
       "└─────────────┴────────────────┴────────────────┴────────────────┴────────────────┴────────────────┘"
      ]
     },
     "execution_count": 13,
     "metadata": {},
     "output_type": "execute_result"
    }
   ],
   "source": [
    "pl.read_ipc('output/hds.arrow')"
   ]
  },
  {
   "attachments": {},
   "cell_type": "markdown",
   "metadata": {},
   "source": [
    "## Advanced: Hash fuctions\n",
    "\n",
    "By default, we use [the same hashing algorithm Polars](https://pola-rs.github.io/polars/py-polars/html/reference/expressions/api/polars.Expr.hash.html#polars.Expr.hash) uses: [xxhash](https://github.com/Cyan4973/xxHash), as implemented [here](https://github.com/pola-rs/polars/blob/3f287f370b3c388ed2f3f218b2c096382548136f/polars/polars-core/src/vector_hasher.rs#L266). xxhash is fast to compute, and you can check its performance in collision, dispersion and randomness [here](https://github.com/Cyan4973/xxHash/tree/dev/tests). \n",
    "\n",
    "xxhash accepts four distinct seeds, but by default we set the seeds to `0`. It is possible to set the `seed` argument of the `process()` function to `'random'`, which will set all four seeds to a random integer between `0` and `1000000000`. Alternatively, it is possible to supply the four seeds manually with arguments `seed`, `seed_1`, `seed_2` and `seed_3`. \n",
    "\n",
    "If the xxhash with (random) seed(s) is not deemed sufficiently secure, it is possible to use your own hashing algorithm.\n",
    "\n",
    "Note that since we're now running python code and not native Polars code anymore, this will be _significantly_ slower. Nonetheless, it is possible.\n",
    "\n",
    "Just as an example - this is how one would use sha3_256:"
   ]
  },
  {
   "cell_type": "code",
   "execution_count": 14,
   "metadata": {
    "execution": {
     "iopub.execute_input": "2023-05-23T15:16:52.494266Z",
     "iopub.status.busy": "2023-05-23T15:16:52.493875Z",
     "iopub.status.idle": "2023-05-23T15:16:52.828016Z",
     "shell.execute_reply": "2023-05-23T15:16:52.827405Z"
    }
   },
   "outputs": [
    {
     "ename": "ComputeError",
     "evalue": "AttributeError: 'int' object has no attribute 'encode'",
     "output_type": "error",
     "traceback": [
      "\u001b[0;31m---------------------------------------------------------------------------\u001b[0m",
      "\u001b[0;31mComputeError\u001b[0m                              Traceback (most recent call last)",
      "Cell \u001b[0;32mIn[14], line 3\u001b[0m\n\u001b[1;32m      1\u001b[0m \u001b[38;5;28;01mfrom\u001b[39;00m \u001b[38;5;21;01mhashlib\u001b[39;00m \u001b[38;5;28;01mimport\u001b[39;00m sha3_256\n\u001b[0;32m----> 3\u001b[0m \u001b[43manon\u001b[49m\u001b[38;5;241;43m.\u001b[39;49m\u001b[43mprocess\u001b[49m\u001b[43m(\u001b[49m\u001b[43malgorithm\u001b[49m\u001b[38;5;241;43m=\u001b[39;49m\u001b[38;5;28;43;01mlambda\u001b[39;49;00m\u001b[43m \u001b[49m\u001b[43mx\u001b[49m\u001b[43m:\u001b[49m\u001b[43m \u001b[49m\u001b[43msha3_256\u001b[49m\u001b[43m(\u001b[49m\u001b[43mx\u001b[49m\u001b[38;5;241;43m.\u001b[39;49m\u001b[43mencode\u001b[49m\u001b[43m(\u001b[49m\u001b[43m)\u001b[49m\u001b[43m)\u001b[49m\u001b[38;5;241;43m.\u001b[39;49m\u001b[43mhexdigest\u001b[49m\u001b[43m(\u001b[49m\u001b[43m)\u001b[49m\u001b[43m)\u001b[49m\n",
      "File \u001b[0;32m~/work/pega-datascientist-tools/pega-datascientist-tools/python/docs/source/articles/../../../pdstools/utils/hds_utils.py:516\u001b[0m, in \u001b[0;36mDataAnonymization.process\u001b[0;34m(self, strategy, **kwargs)\u001b[0m\n\u001b[1;32m    514\u001b[0m df \u001b[38;5;241m=\u001b[39m df\u001b[38;5;241m.\u001b[39mselect(\u001b[38;5;28mself\u001b[39m\u001b[38;5;241m.\u001b[39mcolumn_mapping\u001b[38;5;241m.\u001b[39mkeys())\u001b[38;5;241m.\u001b[39mrename(\u001b[38;5;28mself\u001b[39m\u001b[38;5;241m.\u001b[39mcolumn_mapping)\n\u001b[1;32m    515\u001b[0m \u001b[38;5;28;01mif\u001b[39;00m strategy \u001b[38;5;241m==\u001b[39m \u001b[38;5;124m\"\u001b[39m\u001b[38;5;124meager\u001b[39m\u001b[38;5;124m\"\u001b[39m:\n\u001b[0;32m--> 516\u001b[0m     \u001b[38;5;28;01mreturn\u001b[39;00m \u001b[43mdf\u001b[49m\u001b[38;5;241;43m.\u001b[39;49m\u001b[43mcollect\u001b[49m\u001b[43m(\u001b[49m\u001b[43m)\u001b[49m\n\u001b[1;32m    517\u001b[0m \u001b[38;5;28;01mreturn\u001b[39;00m df\n",
      "File \u001b[0;32m/opt/hostedtoolcache/Python/3.11.3/x64/lib/python3.11/site-packages/polars/lazyframe/frame.py:1603\u001b[0m, in \u001b[0;36mLazyFrame.collect\u001b[0;34m(self, type_coercion, predicate_pushdown, projection_pushdown, simplify_expression, no_optimization, slice_pushdown, common_subplan_elimination, streaming)\u001b[0m\n\u001b[1;32m   1592\u001b[0m     common_subplan_elimination \u001b[38;5;241m=\u001b[39m \u001b[38;5;28;01mFalse\u001b[39;00m\n\u001b[1;32m   1594\u001b[0m ldf \u001b[38;5;241m=\u001b[39m \u001b[38;5;28mself\u001b[39m\u001b[38;5;241m.\u001b[39m_ldf\u001b[38;5;241m.\u001b[39moptimization_toggle(\n\u001b[1;32m   1595\u001b[0m     type_coercion,\n\u001b[1;32m   1596\u001b[0m     predicate_pushdown,\n\u001b[0;32m   (...)\u001b[0m\n\u001b[1;32m   1601\u001b[0m     streaming,\n\u001b[1;32m   1602\u001b[0m )\n\u001b[0;32m-> 1603\u001b[0m \u001b[38;5;28;01mreturn\u001b[39;00m wrap_df(ldf\u001b[38;5;241m.\u001b[39mcollect())\n",
      "\u001b[0;31mComputeError\u001b[0m: AttributeError: 'int' object has no attribute 'encode'"
     ]
    }
   ],
   "source": [
    "from hashlib import sha3_256\n",
    "\n",
    "anon.process(algorithm=lambda x: sha3_256(x.encode()).hexdigest())"
   ]
  }
 ],
 "metadata": {
  "kernelspec": {
   "display_name": "Python 3",
   "language": "python",
   "name": "python3"
  },
  "language_info": {
   "codemirror_mode": {
    "name": "ipython",
    "version": 3
   },
   "file_extension": ".py",
   "mimetype": "text/x-python",
   "name": "python",
   "nbconvert_exporter": "python",
   "pygments_lexer": "ipython3",
   "version": "3.11.3"
  },
  "vscode": {
   "interpreter": {
    "hash": "aee8b7b246df8f9039afb4144a1f6fd8d2ca17a180786b69acc140d282b71a49"
   }
  }
 },
 "nbformat": 4,
 "nbformat_minor": 2
}
