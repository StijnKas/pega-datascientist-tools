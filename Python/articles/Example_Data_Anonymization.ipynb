{
 "cells": [
  {
   "attachments": {},
   "cell_type": "markdown",
   "metadata": {},
   "source": [
    "# Data Anonymization\n",
    "\n",
    "In Pega CDH 8.5 and up, it's now possible to record the historical data as seen by the Adaptive Models. See [this academy challenge](https://academy.pega.com/challenge/exporting-historical-data/v4) for reference. This historical data can be further used to experiment with offline models, but also to fine-tune the OOTB Gradient Boosting model. However, sharing this information with Pega can be sensitive as it contains raw predictor data. \n",
    "\n",
    "To this end, we provide a simple and transparent script to fully anonimize this dataset.\n",
    "\n",
    "The DataAnonymization script is now part of pdstools, and you can import it directly as such."
   ]
  },
  {
   "cell_type": "code",
   "execution_count": 1,
   "metadata": {
    "execution": {
     "iopub.execute_input": "2024-01-03T16:45:19.614859Z",
     "iopub.status.busy": "2024-01-03T16:45:19.614447Z",
     "iopub.status.idle": "2024-01-03T16:45:19.686678Z",
     "shell.execute_reply": "2024-01-03T16:45:19.686102Z"
    },
    "nbsphinx": "hidden"
   },
   "outputs": [],
   "source": [
    "# These lines are only for rendering in the docs, and are hidden through Jupyter tags\n",
    "# Do not run if you're running the notebook seperately\n",
    "\n",
    "import os  \n",
    "import sys\n",
    "import plotly.io as pio\n",
    "pio.renderers.default = \"notebook_connected\"\n",
    "\n",
    "sys.path.append(\"../../../\")\n",
    "sys.path.append('../../python')"
   ]
  },
  {
   "cell_type": "code",
   "execution_count": 2,
   "metadata": {
    "execution": {
     "iopub.execute_input": "2024-01-03T16:45:19.689113Z",
     "iopub.status.busy": "2024-01-03T16:45:19.688943Z",
     "iopub.status.idle": "2024-01-03T16:45:20.692820Z",
     "shell.execute_reply": "2024-01-03T16:45:20.692314Z"
    }
   },
   "outputs": [],
   "source": [
    "from pdstools import ADMDatamart\n",
    "from pdstools import Config, DataAnonymization\n",
    "import polars as pl"
   ]
  },
  {
   "attachments": {},
   "cell_type": "markdown",
   "metadata": {},
   "source": [
    "## Input data\n",
    "\n",
    "To demonstrate this process, we're going to anonymise this toy example dataframe:"
   ]
  },
  {
   "cell_type": "code",
   "execution_count": 3,
   "metadata": {
    "execution": {
     "iopub.execute_input": "2024-01-03T16:45:20.695183Z",
     "iopub.status.busy": "2024-01-03T16:45:20.694896Z",
     "iopub.status.idle": "2024-01-03T16:45:20.703655Z",
     "shell.execute_reply": "2024-01-03T16:45:20.703084Z"
    }
   },
   "outputs": [
    {
     "data": {
      "text/html": [
       "<div><style>\n",
       ".dataframe > thead > tr,\n",
       ".dataframe > tbody > tr {\n",
       "  text-align: right;\n",
       "  white-space: pre-wrap;\n",
       "}\n",
       "</style>\n",
       "<small>shape: (7, 6)</small><table border=\"1\" class=\"dataframe\"><thead><tr><th>Context_Name</th><th>Customer_MaritalStatus</th><th>Customer_CLV</th><th>Customer_City</th><th>IH_Web_Inbound_Accepted_pxLastGroupID</th><th>Decision_Outcome</th></tr><tr><td>str</td><td>str</td><td>i64</td><td>str</td><td>str</td><td>str</td></tr></thead><tbody><tr><td>&quot;FirstMortgage3…</td><td>&quot;Married&quot;</td><td>1460</td><td>&quot;Port Raoul&quot;</td><td>&quot;Account&quot;</td><td>&quot;Rejected&quot;</td></tr><tr><td>&quot;FirstMortgage3…</td><td>&quot;Unknown&quot;</td><td>669</td><td>&quot;Laurianneshire…</td><td>&quot;AutoLoans&quot;</td><td>&quot;Accepted&quot;</td></tr><tr><td>&quot;MoneyMarketSav…</td><td>&quot;No Resp+&quot;</td><td>1174</td><td>&quot;Jacobshaven&quot;</td><td>&quot;Account&quot;</td><td>&quot;Rejected&quot;</td></tr><tr><td>&quot;BasicChecking&quot;</td><td>&quot;Unknown&quot;</td><td>1476</td><td>&quot;Lindton&quot;</td><td>&quot;Account&quot;</td><td>&quot;Rejected&quot;</td></tr><tr><td>&quot;BasicChecking&quot;</td><td>&quot;Married&quot;</td><td>1211</td><td>&quot;South Jimmiesh…</td><td>&quot;DepositAccount…</td><td>&quot;Accepted&quot;</td></tr><tr><td>&quot;UPlusFinPerson…</td><td>&quot;No Resp+&quot;</td><td>533</td><td>&quot;Bergeville&quot;</td><td>null</td><td>&quot;Rejected&quot;</td></tr><tr><td>&quot;BasicChecking&quot;</td><td>&quot;No Resp+&quot;</td><td>555</td><td>&quot;Willyville&quot;</td><td>&quot;DepositAccount…</td><td>&quot;Rejected&quot;</td></tr></tbody></table></div>"
      ],
      "text/plain": [
       "shape: (7, 6)\n",
       "┌────────────────┬────────────────┬──────────────┬────────────────┬────────────────┬───────────────┐\n",
       "│ Context_Name   ┆ Customer_Marit ┆ Customer_CLV ┆ Customer_City  ┆ IH_Web_Inbound ┆ Decision_Outc │\n",
       "│ ---            ┆ alStatus       ┆ ---          ┆ ---            ┆ _Accepted_pxLa ┆ ome           │\n",
       "│ str            ┆ ---            ┆ i64          ┆ str            ┆ stGr…          ┆ ---           │\n",
       "│                ┆ str            ┆              ┆                ┆ ---            ┆ str           │\n",
       "│                ┆                ┆              ┆                ┆ str            ┆               │\n",
       "╞════════════════╪════════════════╪══════════════╪════════════════╪════════════════╪═══════════════╡\n",
       "│ FirstMortgage3 ┆ Married        ┆ 1460         ┆ Port Raoul     ┆ Account        ┆ Rejected      │\n",
       "│ 0yr            ┆                ┆              ┆                ┆                ┆               │\n",
       "│ FirstMortgage3 ┆ Unknown        ┆ 669          ┆ Laurianneshire ┆ AutoLoans      ┆ Accepted      │\n",
       "│ 0yr            ┆                ┆              ┆                ┆                ┆               │\n",
       "│ MoneyMarketSav ┆ No Resp+       ┆ 1174         ┆ Jacobshaven    ┆ Account        ┆ Rejected      │\n",
       "│ ingsAccount    ┆                ┆              ┆                ┆                ┆               │\n",
       "│ BasicChecking  ┆ Unknown        ┆ 1476         ┆ Lindton        ┆ Account        ┆ Rejected      │\n",
       "│ BasicChecking  ┆ Married        ┆ 1211         ┆ South          ┆ DepositAccount ┆ Accepted      │\n",
       "│                ┆                ┆              ┆ Jimmieshire    ┆ s              ┆               │\n",
       "│ UPlusFinPerson ┆ No Resp+       ┆ 533          ┆ Bergeville     ┆ null           ┆ Rejected      │\n",
       "│ al             ┆                ┆              ┆                ┆                ┆               │\n",
       "│ BasicChecking  ┆ No Resp+       ┆ 555          ┆ Willyville     ┆ DepositAccount ┆ Rejected      │\n",
       "│                ┆                ┆              ┆                ┆ s              ┆               │\n",
       "└────────────────┴────────────────┴──────────────┴────────────────┴────────────────┴───────────────┘"
      ]
     },
     "execution_count": 3,
     "metadata": {},
     "output_type": "execute_result"
    }
   ],
   "source": [
    "pl.read_ndjson('../../../../data/SampleHDS.json')"
   ]
  },
  {
   "attachments": {},
   "cell_type": "markdown",
   "metadata": {},
   "source": [
    "As you can see, this dataset consists of regular predictors, IH predictors, context keys and the outcome column. Additionally, some columns are numeric, others are strings. Let's first initialize the DataAnonymization class."
   ]
  },
  {
   "cell_type": "code",
   "execution_count": 4,
   "metadata": {
    "execution": {
     "iopub.execute_input": "2024-01-03T16:45:20.705746Z",
     "iopub.status.busy": "2024-01-03T16:45:20.705448Z",
     "iopub.status.idle": "2024-01-03T16:45:20.711369Z",
     "shell.execute_reply": "2024-01-03T16:45:20.710951Z"
    }
   },
   "outputs": [],
   "source": [
    "anon = DataAnonymization(hds_folder='../../../../data/')"
   ]
  },
  {
   "attachments": {},
   "cell_type": "markdown",
   "metadata": {},
   "source": [
    "By default, the class applies a set of anonymisation techniques:\n",
    "- Column names are remapped to a non-descriptive name\n",
    "- Categorical values are hashed with a random seed\n",
    "- Numerical values are normalized between 0 and 1\n",
    "- Outcomes are mapped to a binary outcome.\n",
    "\n",
    "To apply these techniques, simply call `.process()`:"
   ]
  },
  {
   "cell_type": "code",
   "execution_count": 5,
   "metadata": {
    "execution": {
     "iopub.execute_input": "2024-01-03T16:45:20.713379Z",
     "iopub.status.busy": "2024-01-03T16:45:20.713084Z",
     "iopub.status.idle": "2024-01-03T16:45:20.718793Z",
     "shell.execute_reply": "2024-01-03T16:45:20.718267Z"
    }
   },
   "outputs": [
    {
     "data": {
      "text/html": [
       "<div><style>\n",
       ".dataframe > thead > tr,\n",
       ".dataframe > tbody > tr {\n",
       "  text-align: right;\n",
       "  white-space: pre-wrap;\n",
       "}\n",
       "</style>\n",
       "<small>shape: (7, 7)</small><table border=\"1\" class=\"dataframe\"><thead><tr><th>PREDICTOR_0</th><th>PREDICTOR_1</th><th>PREDICTOR_2</th><th>filename</th><th>Context_Name</th><th>IH_PREDICTOR_0</th><th>Decision_Outcome</th></tr><tr><td>str</td><td>str</td><td>f64</td><td>str</td><td>str</td><td>str</td><td>bool</td></tr></thead><tbody><tr><td>&quot;46820263303565…</td><td>&quot;14793358711245…</td><td>0.983033</td><td>&quot;../../../../da…</td><td>&quot;14423688036239…</td><td>&quot;15324874048267…</td><td>false</td></tr><tr><td>&quot;16079506315417…</td><td>&quot;48373123992438…</td><td>0.144221</td><td>&quot;../../../../da…</td><td>&quot;14423688036239…</td><td>&quot;12977833963613…</td><td>true</td></tr><tr><td>&quot;48406495510174…</td><td>&quot;91140688606301…</td><td>0.679745</td><td>&quot;../../../../da…</td><td>&quot;69098328932503…</td><td>&quot;15324874048267…</td><td>false</td></tr><tr><td>&quot;58879467949839…</td><td>&quot;48373123992438…</td><td>1.0</td><td>&quot;../../../../da…</td><td>&quot;10874538684935…</td><td>&quot;15324874048267…</td><td>false</td></tr><tr><td>&quot;10864831893759…</td><td>&quot;14793358711245…</td><td>0.718982</td><td>&quot;../../../../da…</td><td>&quot;10874538684935…</td><td>&quot;15395462102631…</td><td>true</td></tr><tr><td>&quot;28709374095211…</td><td>&quot;91140688606301…</td><td>0.0</td><td>&quot;../../../../da…</td><td>&quot;23155999871907…</td><td>null</td><td>false</td></tr><tr><td>&quot;97294508886369…</td><td>&quot;91140688606301…</td><td>0.02333</td><td>&quot;../../../../da…</td><td>&quot;10874538684935…</td><td>&quot;15395462102631…</td><td>false</td></tr></tbody></table></div>"
      ],
      "text/plain": [
       "shape: (7, 7)\n",
       "┌──────────────┬─────────────┬─────────────┬─────────────┬─────────────┬─────────────┬─────────────┐\n",
       "│ PREDICTOR_0  ┆ PREDICTOR_1 ┆ PREDICTOR_2 ┆ filename    ┆ Context_Nam ┆ IH_PREDICTO ┆ Decision_Ou │\n",
       "│ ---          ┆ ---         ┆ ---         ┆ ---         ┆ e           ┆ R_0         ┆ tcome       │\n",
       "│ str          ┆ str         ┆ f64         ┆ str         ┆ ---         ┆ ---         ┆ ---         │\n",
       "│              ┆             ┆             ┆             ┆ str         ┆ str         ┆ bool        │\n",
       "╞══════════════╪═════════════╪═════════════╪═════════════╪═════════════╪═════════════╪═════════════╡\n",
       "│ 468202633035 ┆ 14793358711 ┆ 0.983033    ┆ ../../../.. ┆ 14423688036 ┆ 15324874048 ┆ false       │\n",
       "│ 657138       ┆ 245260125   ┆             ┆ /data/Sampl ┆ 23983513    ┆ 267970384   ┆             │\n",
       "│              ┆             ┆             ┆ eHDS.json   ┆             ┆             ┆             │\n",
       "│ 160795063154 ┆ 48373123992 ┆ 0.144221    ┆ ../../../.. ┆ 14423688036 ┆ 12977833963 ┆ true        │\n",
       "│ 17629489     ┆ 43832299    ┆             ┆ /data/Sampl ┆ 23983513    ┆ 61392473    ┆             │\n",
       "│              ┆             ┆             ┆ eHDS.json   ┆             ┆             ┆             │\n",
       "│ 484064955101 ┆ 91140688606 ┆ 0.679745    ┆ ../../../.. ┆ 69098328932 ┆ 15324874048 ┆ false       │\n",
       "│ 7468834      ┆ 30167853    ┆             ┆ /data/Sampl ┆ 50355024    ┆ 267970384   ┆             │\n",
       "│              ┆             ┆             ┆ eHDS.json   ┆             ┆             ┆             │\n",
       "│ 588794679498 ┆ 48373123992 ┆ 1.0         ┆ ../../../.. ┆ 10874538684 ┆ 15324874048 ┆ false       │\n",
       "│ 3925791      ┆ 43832299    ┆             ┆ /data/Sampl ┆ 935590191   ┆ 267970384   ┆             │\n",
       "│              ┆             ┆             ┆ eHDS.json   ┆             ┆             ┆             │\n",
       "│ 108648318937 ┆ 14793358711 ┆ 0.718982    ┆ ../../../.. ┆ 10874538684 ┆ 15395462102 ┆ true        │\n",
       "│ 59466073     ┆ 245260125   ┆             ┆ /data/Sampl ┆ 935590191   ┆ 631666868   ┆             │\n",
       "│              ┆             ┆             ┆ eHDS.json   ┆             ┆             ┆             │\n",
       "│ 287093740952 ┆ 91140688606 ┆ 0.0         ┆ ../../../.. ┆ 23155999871 ┆ null        ┆ false       │\n",
       "│ 1183580      ┆ 30167853    ┆             ┆ /data/Sampl ┆ 90715860    ┆             ┆             │\n",
       "│              ┆             ┆             ┆ eHDS.json   ┆             ┆             ┆             │\n",
       "│ 972945088863 ┆ 91140688606 ┆ 0.02333     ┆ ../../../.. ┆ 10874538684 ┆ 15395462102 ┆ false       │\n",
       "│ 6930584      ┆ 30167853    ┆             ┆ /data/Sampl ┆ 935590191   ┆ 631666868   ┆             │\n",
       "│              ┆             ┆             ┆ eHDS.json   ┆             ┆             ┆             │\n",
       "└──────────────┴─────────────┴─────────────┴─────────────┴─────────────┴─────────────┴─────────────┘"
      ]
     },
     "execution_count": 5,
     "metadata": {},
     "output_type": "execute_result"
    }
   ],
   "source": [
    "anon.process()"
   ]
  },
  {
   "attachments": {},
   "cell_type": "markdown",
   "metadata": {},
   "source": [
    "To trace back the columns to their original names, the class also contains a mapping, which does not have to be provided."
   ]
  },
  {
   "cell_type": "code",
   "execution_count": 6,
   "metadata": {
    "execution": {
     "iopub.execute_input": "2024-01-03T16:45:20.720839Z",
     "iopub.status.busy": "2024-01-03T16:45:20.720517Z",
     "iopub.status.idle": "2024-01-03T16:45:20.723999Z",
     "shell.execute_reply": "2024-01-03T16:45:20.723468Z"
    }
   },
   "outputs": [
    {
     "data": {
      "text/plain": [
       "{'Customer_City': 'PREDICTOR_0',\n",
       " 'Customer_MaritalStatus': 'PREDICTOR_1',\n",
       " 'Customer_CLV': 'PREDICTOR_2',\n",
       " 'filename': 'filename',\n",
       " 'Context_Name': 'Context_Name',\n",
       " 'IH_Web_Inbound_Accepted_pxLastGroupID': 'IH_PREDICTOR_0',\n",
       " 'Decision_Outcome': 'Decision_Outcome'}"
      ]
     },
     "execution_count": 6,
     "metadata": {},
     "output_type": "execute_result"
    }
   ],
   "source": [
    "anon.column_mapping"
   ]
  },
  {
   "attachments": {},
   "cell_type": "markdown",
   "metadata": {},
   "source": [
    "## Configs\n",
    "\n",
    "Each capability can optionally be turned off - see below for the full list of config options, and refer to the API reference for the full description."
   ]
  },
  {
   "cell_type": "code",
   "execution_count": 7,
   "metadata": {
    "execution": {
     "iopub.execute_input": "2024-01-03T16:45:20.725908Z",
     "iopub.status.busy": "2024-01-03T16:45:20.725586Z",
     "iopub.status.idle": "2024-01-03T16:45:20.729567Z",
     "shell.execute_reply": "2024-01-03T16:45:20.729123Z"
    }
   },
   "outputs": [
    {
     "data": {
      "text/plain": [
       "{'config_file': None,\n",
       " 'hds_folder': '.',\n",
       " 'use_datamart': False,\n",
       " 'datamart_folder': 'datamart',\n",
       " 'output_format': 'ndjson',\n",
       " 'output_folder': 'output',\n",
       " 'mapping_file': 'mapping.map',\n",
       " 'mask_predictor_names': True,\n",
       " 'mask_context_key_names': False,\n",
       " 'mask_ih_names': True,\n",
       " 'mask_outcome_name': False,\n",
       " 'mask_predictor_values': True,\n",
       " 'mask_context_key_values': True,\n",
       " 'mask_ih_values': True,\n",
       " 'mask_outcome_values': True,\n",
       " 'context_key_label': 'Context_*',\n",
       " 'ih_label': 'IH_*',\n",
       " 'outcome_column': 'Decision_Outcome',\n",
       " 'positive_outcomes': ['Accepted', 'Clicked'],\n",
       " 'negative_outcomes': ['Rejected', 'Impression'],\n",
       " 'special_predictors': ['Decision_DecisionTime',\n",
       "  'Decision_OutcomeTime',\n",
       "  'Decision_Rank'],\n",
       " 'sample_percentage_schema_inferencing': 0.01}"
      ]
     },
     "execution_count": 7,
     "metadata": {},
     "output_type": "execute_result"
    }
   ],
   "source": [
    "dict(zip(Config.__init__.__code__.co_varnames[1:], Config.__init__.__defaults__))"
   ]
  },
  {
   "attachments": {},
   "cell_type": "markdown",
   "metadata": {},
   "source": [
    "It's easy to change these parameters by just passing the keyword arguments. In the following example, we\n",
    "- Keep the IH predictor names\n",
    "- Keep the outcome values\n",
    "- Keep the context key values\n",
    "- Keep the context key predictor names"
   ]
  },
  {
   "cell_type": "code",
   "execution_count": 8,
   "metadata": {
    "execution": {
     "iopub.execute_input": "2024-01-03T16:45:20.731622Z",
     "iopub.status.busy": "2024-01-03T16:45:20.731207Z",
     "iopub.status.idle": "2024-01-03T16:45:20.739034Z",
     "shell.execute_reply": "2024-01-03T16:45:20.738514Z"
    }
   },
   "outputs": [
    {
     "data": {
      "text/html": [
       "<div><style>\n",
       ".dataframe > thead > tr,\n",
       ".dataframe > tbody > tr {\n",
       "  text-align: right;\n",
       "  white-space: pre-wrap;\n",
       "}\n",
       "</style>\n",
       "<small>shape: (7, 7)</small><table border=\"1\" class=\"dataframe\"><thead><tr><th>PREDICTOR_0</th><th>PREDICTOR_1</th><th>PREDICTOR_2</th><th>filename</th><th>Context_Name</th><th>IH_Web_Inbound_Accepted_pxLastGroupID</th><th>Decision_Outcome</th></tr><tr><td>str</td><td>str</td><td>f64</td><td>str</td><td>str</td><td>str</td><td>str</td></tr></thead><tbody><tr><td>&quot;49053071553918…</td><td>&quot;12097577214065…</td><td>0.983033</td><td>&quot;../../../../da…</td><td>&quot;FirstMortgage3…</td><td>&quot;10270059578834…</td><td>&quot;Rejected&quot;</td></tr><tr><td>&quot;12929095131974…</td><td>&quot;13386491526386…</td><td>0.144221</td><td>&quot;../../../../da…</td><td>&quot;FirstMortgage3…</td><td>&quot;13888923032263…</td><td>&quot;Accepted&quot;</td></tr><tr><td>&quot;10717973299891…</td><td>&quot;31449590772078…</td><td>0.679745</td><td>&quot;../../../../da…</td><td>&quot;MoneyMarketSav…</td><td>&quot;10270059578834…</td><td>&quot;Rejected&quot;</td></tr><tr><td>&quot;10858476238497…</td><td>&quot;13386491526386…</td><td>1.0</td><td>&quot;../../../../da…</td><td>&quot;BasicChecking&quot;</td><td>&quot;10270059578834…</td><td>&quot;Rejected&quot;</td></tr><tr><td>&quot;46847294607233…</td><td>&quot;12097577214065…</td><td>0.718982</td><td>&quot;../../../../da…</td><td>&quot;BasicChecking&quot;</td><td>&quot;13528014153782…</td><td>&quot;Accepted&quot;</td></tr><tr><td>&quot;45096229599530…</td><td>&quot;31449590772078…</td><td>0.0</td><td>&quot;../../../../da…</td><td>&quot;UPlusFinPerson…</td><td>null</td><td>&quot;Rejected&quot;</td></tr><tr><td>&quot;18035794881484…</td><td>&quot;31449590772078…</td><td>0.02333</td><td>&quot;../../../../da…</td><td>&quot;BasicChecking&quot;</td><td>&quot;13528014153782…</td><td>&quot;Rejected&quot;</td></tr></tbody></table></div>"
      ],
      "text/plain": [
       "shape: (7, 7)\n",
       "┌──────────────┬─────────────┬─────────────┬─────────────┬─────────────┬─────────────┬─────────────┐\n",
       "│ PREDICTOR_0  ┆ PREDICTOR_1 ┆ PREDICTOR_2 ┆ filename    ┆ Context_Nam ┆ IH_Web_Inbo ┆ Decision_Ou │\n",
       "│ ---          ┆ ---         ┆ ---         ┆ ---         ┆ e           ┆ und_Accepte ┆ tcome       │\n",
       "│ str          ┆ str         ┆ f64         ┆ str         ┆ ---         ┆ d_pxLastGr… ┆ ---         │\n",
       "│              ┆             ┆             ┆             ┆ str         ┆ ---         ┆ str         │\n",
       "│              ┆             ┆             ┆             ┆             ┆ str         ┆             │\n",
       "╞══════════════╪═════════════╪═════════════╪═════════════╪═════════════╪═════════════╪═════════════╡\n",
       "│ 490530715539 ┆ 12097577214 ┆ 0.983033    ┆ ../../../.. ┆ FirstMortga ┆ 10270059578 ┆ Rejected    │\n",
       "│ 1870528      ┆ 065802968   ┆             ┆ /data/Sampl ┆ ge30yr      ┆ 834662348   ┆             │\n",
       "│              ┆             ┆             ┆ eHDS.json   ┆             ┆             ┆             │\n",
       "│ 129290951319 ┆ 13386491526 ┆ 0.144221    ┆ ../../../.. ┆ FirstMortga ┆ 13888923032 ┆ Accepted    │\n",
       "│ 74292067     ┆ 38652263    ┆             ┆ /data/Sampl ┆ ge30yr      ┆ 263170762   ┆             │\n",
       "│              ┆             ┆             ┆ eHDS.json   ┆             ┆             ┆             │\n",
       "│ 107179732998 ┆ 31449590772 ┆ 0.679745    ┆ ../../../.. ┆ MoneyMarket ┆ 10270059578 ┆ Rejected    │\n",
       "│ 91774838     ┆ 078906      ┆             ┆ /data/Sampl ┆ SavingsAcco ┆ 834662348   ┆             │\n",
       "│              ┆             ┆             ┆ eHDS.json   ┆ unt         ┆             ┆             │\n",
       "│ 108584762384 ┆ 13386491526 ┆ 1.0         ┆ ../../../.. ┆ BasicChecki ┆ 10270059578 ┆ Rejected    │\n",
       "│ 97563691     ┆ 38652263    ┆             ┆ /data/Sampl ┆ ng          ┆ 834662348   ┆             │\n",
       "│              ┆             ┆             ┆ eHDS.json   ┆             ┆             ┆             │\n",
       "│ 468472946072 ┆ 12097577214 ┆ 0.718982    ┆ ../../../.. ┆ BasicChecki ┆ 13528014153 ┆ Accepted    │\n",
       "│ 3358573      ┆ 065802968   ┆             ┆ /data/Sampl ┆ ng          ┆ 782603975   ┆             │\n",
       "│              ┆             ┆             ┆ eHDS.json   ┆             ┆             ┆             │\n",
       "│ 450962295995 ┆ 31449590772 ┆ 0.0         ┆ ../../../.. ┆ UPlusFinPer ┆ null        ┆ Rejected    │\n",
       "│ 3014600      ┆ 078906      ┆             ┆ /data/Sampl ┆ sonal       ┆             ┆             │\n",
       "│              ┆             ┆             ┆ eHDS.json   ┆             ┆             ┆             │\n",
       "│ 180357948814 ┆ 31449590772 ┆ 0.02333     ┆ ../../../.. ┆ BasicChecki ┆ 13528014153 ┆ Rejected    │\n",
       "│ 84756887     ┆ 078906      ┆             ┆ /data/Sampl ┆ ng          ┆ 782603975   ┆             │\n",
       "│              ┆             ┆             ┆ eHDS.json   ┆             ┆             ┆             │\n",
       "└──────────────┴─────────────┴─────────────┴─────────────┴─────────────┴─────────────┴─────────────┘"
      ]
     },
     "execution_count": 8,
     "metadata": {},
     "output_type": "execute_result"
    }
   ],
   "source": [
    "anon = DataAnonymization(\n",
    "    hds_folder=\"../../../../data/\",\n",
    "    mask_ih_names=False,\n",
    "    mask_outcome_values=False,\n",
    "    mask_context_key_values=False,\n",
    "    mask_context_key_names=False,\n",
    ")\n",
    "anon.process()\n"
   ]
  },
  {
   "attachments": {},
   "cell_type": "markdown",
   "metadata": {},
   "source": [
    "The configs can also be written and read as such:"
   ]
  },
  {
   "cell_type": "code",
   "execution_count": 9,
   "metadata": {
    "execution": {
     "iopub.execute_input": "2024-01-03T16:45:20.741118Z",
     "iopub.status.busy": "2024-01-03T16:45:20.740728Z",
     "iopub.status.idle": "2024-01-03T16:45:20.743512Z",
     "shell.execute_reply": "2024-01-03T16:45:20.742994Z"
    }
   },
   "outputs": [],
   "source": [
    "anon.config.save_to_config_file('config.json')"
   ]
  },
  {
   "cell_type": "code",
   "execution_count": 10,
   "metadata": {
    "execution": {
     "iopub.execute_input": "2024-01-03T16:45:20.745501Z",
     "iopub.status.busy": "2024-01-03T16:45:20.745112Z",
     "iopub.status.idle": "2024-01-03T16:45:20.752818Z",
     "shell.execute_reply": "2024-01-03T16:45:20.752276Z"
    }
   },
   "outputs": [
    {
     "data": {
      "text/html": [
       "<div><style>\n",
       ".dataframe > thead > tr,\n",
       ".dataframe > tbody > tr {\n",
       "  text-align: right;\n",
       "  white-space: pre-wrap;\n",
       "}\n",
       "</style>\n",
       "<small>shape: (7, 7)</small><table border=\"1\" class=\"dataframe\"><thead><tr><th>PREDICTOR_0</th><th>PREDICTOR_1</th><th>PREDICTOR_2</th><th>filename</th><th>Context_Name</th><th>IH_Web_Inbound_Accepted_pxLastGroupID</th><th>Decision_Outcome</th></tr><tr><td>str</td><td>str</td><td>f64</td><td>str</td><td>str</td><td>str</td><td>str</td></tr></thead><tbody><tr><td>&quot;11745479923218…</td><td>&quot;20115727133063…</td><td>0.983033</td><td>&quot;../../../../da…</td><td>&quot;FirstMortgage3…</td><td>&quot;23076038884631…</td><td>&quot;Rejected&quot;</td></tr><tr><td>&quot;17814764730687…</td><td>&quot;15814157026300…</td><td>0.144221</td><td>&quot;../../../../da…</td><td>&quot;FirstMortgage3…</td><td>&quot;15101169405916…</td><td>&quot;Accepted&quot;</td></tr><tr><td>&quot;13583995834724…</td><td>&quot;16813529643600…</td><td>0.679745</td><td>&quot;../../../../da…</td><td>&quot;MoneyMarketSav…</td><td>&quot;23076038884631…</td><td>&quot;Rejected&quot;</td></tr><tr><td>&quot;31515949640466…</td><td>&quot;15814157026300…</td><td>1.0</td><td>&quot;../../../../da…</td><td>&quot;BasicChecking&quot;</td><td>&quot;23076038884631…</td><td>&quot;Rejected&quot;</td></tr><tr><td>&quot;43496606469611…</td><td>&quot;20115727133063…</td><td>0.718982</td><td>&quot;../../../../da…</td><td>&quot;BasicChecking&quot;</td><td>&quot;16478723273042…</td><td>&quot;Accepted&quot;</td></tr><tr><td>&quot;93794450413122…</td><td>&quot;16813529643600…</td><td>0.0</td><td>&quot;../../../../da…</td><td>&quot;UPlusFinPerson…</td><td>null</td><td>&quot;Rejected&quot;</td></tr><tr><td>&quot;15883584298745…</td><td>&quot;16813529643600…</td><td>0.02333</td><td>&quot;../../../../da…</td><td>&quot;BasicChecking&quot;</td><td>&quot;16478723273042…</td><td>&quot;Rejected&quot;</td></tr></tbody></table></div>"
      ],
      "text/plain": [
       "shape: (7, 7)\n",
       "┌──────────────┬─────────────┬─────────────┬─────────────┬─────────────┬─────────────┬─────────────┐\n",
       "│ PREDICTOR_0  ┆ PREDICTOR_1 ┆ PREDICTOR_2 ┆ filename    ┆ Context_Nam ┆ IH_Web_Inbo ┆ Decision_Ou │\n",
       "│ ---          ┆ ---         ┆ ---         ┆ ---         ┆ e           ┆ und_Accepte ┆ tcome       │\n",
       "│ str          ┆ str         ┆ f64         ┆ str         ┆ ---         ┆ d_pxLastGr… ┆ ---         │\n",
       "│              ┆             ┆             ┆             ┆ str         ┆ ---         ┆ str         │\n",
       "│              ┆             ┆             ┆             ┆             ┆ str         ┆             │\n",
       "╞══════════════╪═════════════╪═════════════╪═════════════╪═════════════╪═════════════╪═════════════╡\n",
       "│ 117454799232 ┆ 20115727133 ┆ 0.983033    ┆ ../../../.. ┆ FirstMortga ┆ 23076038884 ┆ Rejected    │\n",
       "│ 18171251     ┆ 06364924    ┆             ┆ /data/Sampl ┆ ge30yr      ┆ 63120152    ┆             │\n",
       "│              ┆             ┆             ┆ eHDS.json   ┆             ┆             ┆             │\n",
       "│ 178147647306 ┆ 15814157026 ┆ 0.144221    ┆ ../../../.. ┆ FirstMortga ┆ 15101169405 ┆ Accepted    │\n",
       "│ 87672186     ┆ 300964135   ┆             ┆ /data/Sampl ┆ ge30yr      ┆ 916364657   ┆             │\n",
       "│              ┆             ┆             ┆ eHDS.json   ┆             ┆             ┆             │\n",
       "│ 135839958347 ┆ 16813529643 ┆ 0.679745    ┆ ../../../.. ┆ MoneyMarket ┆ 23076038884 ┆ Rejected    │\n",
       "│ 24874519     ┆ 60022870    ┆             ┆ /data/Sampl ┆ SavingsAcco ┆ 63120152    ┆             │\n",
       "│              ┆             ┆             ┆ eHDS.json   ┆ unt         ┆             ┆             │\n",
       "│ 315159496404 ┆ 15814157026 ┆ 1.0         ┆ ../../../.. ┆ BasicChecki ┆ 23076038884 ┆ Rejected    │\n",
       "│ 6674869      ┆ 300964135   ┆             ┆ /data/Sampl ┆ ng          ┆ 63120152    ┆             │\n",
       "│              ┆             ┆             ┆ eHDS.json   ┆             ┆             ┆             │\n",
       "│ 434966064696 ┆ 20115727133 ┆ 0.718982    ┆ ../../../.. ┆ BasicChecki ┆ 16478723273 ┆ Accepted    │\n",
       "│ 1107097      ┆ 06364924    ┆             ┆ /data/Sampl ┆ ng          ┆ 042084007   ┆             │\n",
       "│              ┆             ┆             ┆ eHDS.json   ┆             ┆             ┆             │\n",
       "│ 937944504131 ┆ 16813529643 ┆ 0.0         ┆ ../../../.. ┆ UPlusFinPer ┆ null        ┆ Rejected    │\n",
       "│ 2247024      ┆ 60022870    ┆             ┆ /data/Sampl ┆ sonal       ┆             ┆             │\n",
       "│              ┆             ┆             ┆ eHDS.json   ┆             ┆             ┆             │\n",
       "│ 158835842987 ┆ 16813529643 ┆ 0.02333     ┆ ../../../.. ┆ BasicChecki ┆ 16478723273 ┆ Rejected    │\n",
       "│ 45292464     ┆ 60022870    ┆             ┆ /data/Sampl ┆ ng          ┆ 042084007   ┆             │\n",
       "│              ┆             ┆             ┆ eHDS.json   ┆             ┆             ┆             │\n",
       "└──────────────┴─────────────┴─────────────┴─────────────┴─────────────┴─────────────┴─────────────┘"
      ]
     },
     "execution_count": 10,
     "metadata": {},
     "output_type": "execute_result"
    }
   ],
   "source": [
    "anon = DataAnonymization(config=Config(config_file='config.json'))\n",
    "anon.process()"
   ]
  },
  {
   "attachments": {},
   "cell_type": "markdown",
   "metadata": {},
   "source": [
    "## Exporting\n",
    "Two functions export:\n",
    "- `create_mapping_file()` writes the mapping file of the predictor names\n",
    "- `write_to_output()` writes the processed dataframe to disk\n",
    "\n",
    "Write to output accepts the following extensions: `[\"ndjson\", \"parquet\", \"arrow\", \"csv\"]`"
   ]
  },
  {
   "cell_type": "code",
   "execution_count": 11,
   "metadata": {
    "execution": {
     "iopub.execute_input": "2024-01-03T16:45:20.754804Z",
     "iopub.status.busy": "2024-01-03T16:45:20.754498Z",
     "iopub.status.idle": "2024-01-03T16:45:20.757747Z",
     "shell.execute_reply": "2024-01-03T16:45:20.757322Z"
    }
   },
   "outputs": [
    {
     "name": "stdout",
     "output_type": "stream",
     "text": [
      "Customer_City=PREDICTOR_0\n",
      "Customer_MaritalStatus=PREDICTOR_1\n",
      "Customer_CLV=PREDICTOR_2\n",
      "filename=filename\n",
      "Context_Name=Context_Name\n",
      "IH_Web_Inbound_Accepted_pxLastGroupID=IH_Web_Inbound_Accepted_pxLastGroupID\n",
      "Decision_Outcome=Decision_Outcome\n",
      "\n"
     ]
    }
   ],
   "source": [
    "anon.create_mapping_file()\n",
    "with open('mapping.map') as f:\n",
    "    print(f.read())"
   ]
  },
  {
   "cell_type": "code",
   "execution_count": 12,
   "metadata": {
    "execution": {
     "iopub.execute_input": "2024-01-03T16:45:20.759755Z",
     "iopub.status.busy": "2024-01-03T16:45:20.759403Z",
     "iopub.status.idle": "2024-01-03T16:45:20.762841Z",
     "shell.execute_reply": "2024-01-03T16:45:20.762416Z"
    }
   },
   "outputs": [],
   "source": [
    "anon.write_to_output(ext='arrow')"
   ]
  },
  {
   "cell_type": "code",
   "execution_count": 13,
   "metadata": {
    "execution": {
     "iopub.execute_input": "2024-01-03T16:45:20.764948Z",
     "iopub.status.busy": "2024-01-03T16:45:20.764605Z",
     "iopub.status.idle": "2024-01-03T16:45:20.769587Z",
     "shell.execute_reply": "2024-01-03T16:45:20.769136Z"
    }
   },
   "outputs": [
    {
     "data": {
      "text/html": [
       "<div><style>\n",
       ".dataframe > thead > tr,\n",
       ".dataframe > tbody > tr {\n",
       "  text-align: right;\n",
       "  white-space: pre-wrap;\n",
       "}\n",
       "</style>\n",
       "<small>shape: (7, 6)</small><table border=\"1\" class=\"dataframe\"><thead><tr><th>PREDICTOR_0</th><th>PREDICTOR_1</th><th>PREDICTOR_2</th><th>Context_Name</th><th>IH_Web_Inbound_Accepted_pxLastGroupID</th><th>Decision_Outcome</th></tr><tr><td>str</td><td>str</td><td>f64</td><td>str</td><td>str</td><td>str</td></tr></thead><tbody><tr><td>&quot;39126357278224…</td><td>&quot;10675461083327…</td><td>0.983033</td><td>&quot;FirstMortgage3…</td><td>&quot;10114424373428…</td><td>&quot;Rejected&quot;</td></tr><tr><td>&quot;85872867211773…</td><td>&quot;14616429661009…</td><td>0.144221</td><td>&quot;FirstMortgage3…</td><td>&quot;37728140463120…</td><td>&quot;Accepted&quot;</td></tr><tr><td>&quot;15830464451021…</td><td>&quot;59755418400055…</td><td>0.679745</td><td>&quot;MoneyMarketSav…</td><td>&quot;10114424373428…</td><td>&quot;Rejected&quot;</td></tr><tr><td>&quot;33263865501282…</td><td>&quot;14616429661009…</td><td>1.0</td><td>&quot;BasicChecking&quot;</td><td>&quot;10114424373428…</td><td>&quot;Rejected&quot;</td></tr><tr><td>&quot;14731414605509…</td><td>&quot;10675461083327…</td><td>0.718982</td><td>&quot;BasicChecking&quot;</td><td>&quot;29427875881009…</td><td>&quot;Accepted&quot;</td></tr><tr><td>&quot;31557137688127…</td><td>&quot;59755418400055…</td><td>0.0</td><td>&quot;UPlusFinPerson…</td><td>null</td><td>&quot;Rejected&quot;</td></tr><tr><td>&quot;27494294583766…</td><td>&quot;59755418400055…</td><td>0.02333</td><td>&quot;BasicChecking&quot;</td><td>&quot;29427875881009…</td><td>&quot;Rejected&quot;</td></tr></tbody></table></div>"
      ],
      "text/plain": [
       "shape: (7, 6)\n",
       "┌────────────────┬────────────────┬─────────────┬────────────────┬────────────────┬────────────────┐\n",
       "│ PREDICTOR_0    ┆ PREDICTOR_1    ┆ PREDICTOR_2 ┆ Context_Name   ┆ IH_Web_Inbound ┆ Decision_Outco │\n",
       "│ ---            ┆ ---            ┆ ---         ┆ ---            ┆ _Accepted_pxLa ┆ me             │\n",
       "│ str            ┆ str            ┆ f64         ┆ str            ┆ stGr…          ┆ ---            │\n",
       "│                ┆                ┆             ┆                ┆ ---            ┆ str            │\n",
       "│                ┆                ┆             ┆                ┆ str            ┆                │\n",
       "╞════════════════╪════════════════╪═════════════╪════════════════╪════════════════╪════════════════╡\n",
       "│ 39126357278224 ┆ 10675461083327 ┆ 0.983033    ┆ FirstMortgage3 ┆ 10114424373428 ┆ Rejected       │\n",
       "│ 33211          ┆ 676341         ┆             ┆ 0yr            ┆ 744445         ┆                │\n",
       "│ 85872867211773 ┆ 14616429661009 ┆ 0.144221    ┆ FirstMortgage3 ┆ 37728140463120 ┆ Accepted       │\n",
       "│ 38862          ┆ 860446         ┆             ┆ 0yr            ┆ 93167          ┆                │\n",
       "│ 15830464451021 ┆ 59755418400055 ┆ 0.679745    ┆ MoneyMarketSav ┆ 10114424373428 ┆ Rejected       │\n",
       "│ 824556         ┆ 06948          ┆             ┆ ingsAccount    ┆ 744445         ┆                │\n",
       "│ 33263865501282 ┆ 14616429661009 ┆ 1.0         ┆ BasicChecking  ┆ 10114424373428 ┆ Rejected       │\n",
       "│ 68369          ┆ 860446         ┆             ┆                ┆ 744445         ┆                │\n",
       "│ 14731414605509 ┆ 10675461083327 ┆ 0.718982    ┆ BasicChecking  ┆ 29427875881009 ┆ Accepted       │\n",
       "│ 599387         ┆ 676341         ┆             ┆                ┆ 41281          ┆                │\n",
       "│ 31557137688127 ┆ 59755418400055 ┆ 0.0         ┆ UPlusFinPerson ┆ null           ┆ Rejected       │\n",
       "│ 42655          ┆ 06948          ┆             ┆ al             ┆                ┆                │\n",
       "│ 27494294583766 ┆ 59755418400055 ┆ 0.02333     ┆ BasicChecking  ┆ 29427875881009 ┆ Rejected       │\n",
       "│ 92406          ┆ 06948          ┆             ┆                ┆ 41281          ┆                │\n",
       "└────────────────┴────────────────┴─────────────┴────────────────┴────────────────┴────────────────┘"
      ]
     },
     "execution_count": 13,
     "metadata": {},
     "output_type": "execute_result"
    }
   ],
   "source": [
    "pl.read_ipc('output/hds.arrow')"
   ]
  },
  {
   "attachments": {},
   "cell_type": "markdown",
   "metadata": {
    "nbsphinx": "hidden"
   },
   "source": [
    "## Advanced: Hash fuctions\n",
    "\n",
    "By default, we use [the same hashing algorithm Polars](https://pola-rs.github.io/polars/py-polars/html/reference/expressions/api/polars.Expr.hash.html#polars.Expr.hash) uses: [xxhash](https://github.com/Cyan4973/xxHash), as implemented [here](https://github.com/pola-rs/polars/blob/3f287f370b3c388ed2f3f218b2c096382548136f/polars/polars-core/src/vector_hasher.rs#L266). xxhash is fast to compute, and you can check its performance in collision, dispersion and randomness [here](https://github.com/Cyan4973/xxHash/tree/dev/tests). \n",
    "\n",
    "xxhash accepts four distinct seeds, but by default we set the seeds to `0`. It is possible to set the `seed` argument of the `process()` function to `'random'`, which will set all four seeds to a random integer between `0` and `1000000000`. Alternatively, it is possible to supply the four seeds manually with arguments `seed`, `seed_1`, `seed_2` and `seed_3`. \n",
    "\n",
    "If the xxhash with (random) seed(s) is not deemed sufficiently secure, it is possible to use your own hashing algorithm.\n",
    "\n",
    "Note that since we're now running python code and not native Polars code anymore, this will be _significantly_ slower. Nonetheless, it is possible.\n",
    "\n",
    "Just as an example - this is how one would use sha3_256:"
   ]
  },
  {
   "cell_type": "code",
   "execution_count": 14,
   "metadata": {
    "execution": {
     "iopub.execute_input": "2024-01-03T16:45:20.771516Z",
     "iopub.status.busy": "2024-01-03T16:45:20.771201Z",
     "iopub.status.idle": "2024-01-03T16:45:20.778701Z",
     "shell.execute_reply": "2024-01-03T16:45:20.778278Z"
    },
    "nbsphinx": "hidden"
   },
   "outputs": [
    {
     "data": {
      "text/html": [
       "<div><style>\n",
       ".dataframe > thead > tr,\n",
       ".dataframe > tbody > tr {\n",
       "  text-align: right;\n",
       "  white-space: pre-wrap;\n",
       "}\n",
       "</style>\n",
       "<small>shape: (7, 7)</small><table border=\"1\" class=\"dataframe\"><thead><tr><th>PREDICTOR_0</th><th>PREDICTOR_1</th><th>PREDICTOR_2</th><th>filename</th><th>Context_Name</th><th>IH_Web_Inbound_Accepted_pxLastGroupID</th><th>Decision_Outcome</th></tr><tr><td>str</td><td>str</td><td>f64</td><td>str</td><td>str</td><td>str</td><td>str</td></tr></thead><tbody><tr><td>&quot;c73023dda51de1…</td><td>&quot;af486bc1815c72…</td><td>0.983033</td><td>&quot;../../../../da…</td><td>&quot;FirstMortgage3…</td><td>&quot;2513d0e24d8d02…</td><td>&quot;Rejected&quot;</td></tr><tr><td>&quot;5414b197fb87b3…</td><td>&quot;3cdf7b1ae1342e…</td><td>0.144221</td><td>&quot;../../../../da…</td><td>&quot;FirstMortgage3…</td><td>&quot;8b55bf62fc2ecd…</td><td>&quot;Accepted&quot;</td></tr><tr><td>&quot;892f5d61a9215e…</td><td>&quot;806ef34eb8237f…</td><td>0.679745</td><td>&quot;../../../../da…</td><td>&quot;MoneyMarketSav…</td><td>&quot;2513d0e24d8d02…</td><td>&quot;Rejected&quot;</td></tr><tr><td>&quot;c3aa807d9e927a…</td><td>&quot;3cdf7b1ae1342e…</td><td>1.0</td><td>&quot;../../../../da…</td><td>&quot;BasicChecking&quot;</td><td>&quot;2513d0e24d8d02…</td><td>&quot;Rejected&quot;</td></tr><tr><td>&quot;c2d492f9a05073…</td><td>&quot;af486bc1815c72…</td><td>0.718982</td><td>&quot;../../../../da…</td><td>&quot;BasicChecking&quot;</td><td>&quot;1cd082ecbd5dd9…</td><td>&quot;Accepted&quot;</td></tr><tr><td>&quot;b21059221605c4…</td><td>&quot;806ef34eb8237f…</td><td>0.0</td><td>&quot;../../../../da…</td><td>&quot;UPlusFinPerson…</td><td>null</td><td>&quot;Rejected&quot;</td></tr><tr><td>&quot;80cbe489dcecd4…</td><td>&quot;806ef34eb8237f…</td><td>0.02333</td><td>&quot;../../../../da…</td><td>&quot;BasicChecking&quot;</td><td>&quot;1cd082ecbd5dd9…</td><td>&quot;Rejected&quot;</td></tr></tbody></table></div>"
      ],
      "text/plain": [
       "shape: (7, 7)\n",
       "┌──────────────┬─────────────┬─────────────┬─────────────┬─────────────┬─────────────┬─────────────┐\n",
       "│ PREDICTOR_0  ┆ PREDICTOR_1 ┆ PREDICTOR_2 ┆ filename    ┆ Context_Nam ┆ IH_Web_Inbo ┆ Decision_Ou │\n",
       "│ ---          ┆ ---         ┆ ---         ┆ ---         ┆ e           ┆ und_Accepte ┆ tcome       │\n",
       "│ str          ┆ str         ┆ f64         ┆ str         ┆ ---         ┆ d_pxLastGr… ┆ ---         │\n",
       "│              ┆             ┆             ┆             ┆ str         ┆ ---         ┆ str         │\n",
       "│              ┆             ┆             ┆             ┆             ┆ str         ┆             │\n",
       "╞══════════════╪═════════════╪═════════════╪═════════════╪═════════════╪═════════════╪═════════════╡\n",
       "│ c73023dda51d ┆ af486bc1815 ┆ 0.983033    ┆ ../../../.. ┆ FirstMortga ┆ 2513d0e24d8 ┆ Rejected    │\n",
       "│ e1b84f7af774 ┆ c726c357890 ┆             ┆ /data/Sampl ┆ ge30yr      ┆ d0214eda4fb ┆             │\n",
       "│ fd6f8c73…    ┆ ac2a40ba98… ┆             ┆ eHDS.json   ┆             ┆ 454447162b… ┆             │\n",
       "│ 5414b197fb87 ┆ 3cdf7b1ae13 ┆ 0.144221    ┆ ../../../.. ┆ FirstMortga ┆ 8b55bf62fc2 ┆ Accepted    │\n",
       "│ b3f2e350d7a7 ┆ 42ef979ea2a ┆             ┆ /data/Sampl ┆ ge30yr      ┆ ecd16af97d4 ┆             │\n",
       "│ 4a840a81…    ┆ 782541ad05… ┆             ┆ eHDS.json   ┆             ┆ 8e469362cf… ┆             │\n",
       "│ 892f5d61a921 ┆ 806ef34eb82 ┆ 0.679745    ┆ ../../../.. ┆ MoneyMarket ┆ 2513d0e24d8 ┆ Rejected    │\n",
       "│ 5ef985f3fa29 ┆ 37f4db85004 ┆             ┆ /data/Sampl ┆ SavingsAcco ┆ d0214eda4fb ┆             │\n",
       "│ 3d51c92e…    ┆ e96dc471d8… ┆             ┆ eHDS.json   ┆ unt         ┆ 454447162b… ┆             │\n",
       "│ c3aa807d9e92 ┆ 3cdf7b1ae13 ┆ 1.0         ┆ ../../../.. ┆ BasicChecki ┆ 2513d0e24d8 ┆ Rejected    │\n",
       "│ 7ae426a89e76 ┆ 42ef979ea2a ┆             ┆ /data/Sampl ┆ ng          ┆ d0214eda4fb ┆             │\n",
       "│ a12b9160…    ┆ 782541ad05… ┆             ┆ eHDS.json   ┆             ┆ 454447162b… ┆             │\n",
       "│ c2d492f9a050 ┆ af486bc1815 ┆ 0.718982    ┆ ../../../.. ┆ BasicChecki ┆ 1cd082ecbd5 ┆ Accepted    │\n",
       "│ 7327c14285e9 ┆ c726c357890 ┆             ┆ /data/Sampl ┆ ng          ┆ dd95383b104 ┆             │\n",
       "│ 4e8ee54c…    ┆ ac2a40ba98… ┆             ┆ eHDS.json   ┆             ┆ 65e395c1f7… ┆             │\n",
       "│ b21059221605 ┆ 806ef34eb82 ┆ 0.0         ┆ ../../../.. ┆ UPlusFinPer ┆ null        ┆ Rejected    │\n",
       "│ c49757cfe0fe ┆ 37f4db85004 ┆             ┆ /data/Sampl ┆ sonal       ┆             ┆             │\n",
       "│ e45640db…    ┆ e96dc471d8… ┆             ┆ eHDS.json   ┆             ┆             ┆             │\n",
       "│ 80cbe489dcec ┆ 806ef34eb82 ┆ 0.02333     ┆ ../../../.. ┆ BasicChecki ┆ 1cd082ecbd5 ┆ Rejected    │\n",
       "│ d4b9304898c9 ┆ 37f4db85004 ┆             ┆ /data/Sampl ┆ ng          ┆ dd95383b104 ┆             │\n",
       "│ 986afeeb…    ┆ e96dc471d8… ┆             ┆ eHDS.json   ┆             ┆ 65e395c1f7… ┆             │\n",
       "└──────────────┴─────────────┴─────────────┴─────────────┴─────────────┴─────────────┴─────────────┘"
      ]
     },
     "execution_count": 14,
     "metadata": {},
     "output_type": "execute_result"
    }
   ],
   "source": [
    "from hashlib import sha3_256\n",
    "\n",
    "anon.process(algorithm=lambda x: sha3_256(x.encode()).hexdigest())"
   ]
  }
 ],
 "metadata": {
  "kernelspec": {
   "display_name": "Python 3",
   "language": "python",
   "name": "python3"
  },
  "language_info": {
   "codemirror_mode": {
    "name": "ipython",
    "version": 3
   },
   "file_extension": ".py",
   "mimetype": "text/x-python",
   "name": "python",
   "nbconvert_exporter": "python",
   "pygments_lexer": "ipython3",
   "version": "3.11.7"
  },
  "vscode": {
   "interpreter": {
    "hash": "aee8b7b246df8f9039afb4144a1f6fd8d2ca17a180786b69acc140d282b71a49"
   }
  }
 },
 "nbformat": 4,
 "nbformat_minor": 2
}
