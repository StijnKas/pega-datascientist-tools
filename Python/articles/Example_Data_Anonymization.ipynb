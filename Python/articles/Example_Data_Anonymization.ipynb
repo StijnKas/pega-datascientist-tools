{
 "cells": [
  {
   "attachments": {},
   "cell_type": "markdown",
   "metadata": {},
   "source": [
    "# Data Anonymization\n",
    "\n",
    "In Pega CDH 8.5 and up, it's now possible to record the historical data as seen by the Adaptive Models. See [this academy challenge](https://academy.pega.com/challenge/exporting-historical-data/v4) for reference. This historical data can be further used to experiment with offline models, but also to fine-tune the OOTB Gradient Boosting model. However, sharing this information with Pega can be sensitive as it contains raw predictor data. \n",
    "\n",
    "To this end, we provide a simple and transparent script to fully anonimize this dataset.\n",
    "\n",
    "The DataAnonymization script is now part of pdstools, and you can import it directly as such."
   ]
  },
  {
   "cell_type": "code",
   "execution_count": 1,
   "metadata": {
    "execution": {
     "iopub.execute_input": "2024-06-14T08:23:47.937080Z",
     "iopub.status.busy": "2024-06-14T08:23:47.936912Z",
     "iopub.status.idle": "2024-06-14T08:23:48.010416Z",
     "shell.execute_reply": "2024-06-14T08:23:48.009787Z"
    },
    "nbsphinx": "hidden"
   },
   "outputs": [],
   "source": [
    "# These lines are only for rendering in the docs, and are hidden through Jupyter tags\n",
    "# Do not run if you're running the notebook seperately\n",
    "\n",
    "import os  \n",
    "import sys\n",
    "import plotly.io as pio\n",
    "pio.renderers.default = \"notebook_connected\"\n",
    "\n",
    "sys.path.append(\"../../../\")\n",
    "sys.path.append('../../python')"
   ]
  },
  {
   "cell_type": "code",
   "execution_count": 2,
   "metadata": {
    "execution": {
     "iopub.execute_input": "2024-06-14T08:23:48.013070Z",
     "iopub.status.busy": "2024-06-14T08:23:48.012715Z",
     "iopub.status.idle": "2024-06-14T08:23:49.048310Z",
     "shell.execute_reply": "2024-06-14T08:23:49.047813Z"
    }
   },
   "outputs": [],
   "source": [
    "from pdstools import ADMDatamart\n",
    "from pdstools import Config, DataAnonymization\n",
    "import polars as pl"
   ]
  },
  {
   "attachments": {},
   "cell_type": "markdown",
   "metadata": {},
   "source": [
    "## Input data\n",
    "\n",
    "To demonstrate this process, we're going to anonymise this toy example dataframe:"
   ]
  },
  {
   "cell_type": "code",
   "execution_count": 3,
   "metadata": {
    "execution": {
     "iopub.execute_input": "2024-06-14T08:23:49.050896Z",
     "iopub.status.busy": "2024-06-14T08:23:49.050438Z",
     "iopub.status.idle": "2024-06-14T08:23:49.058953Z",
     "shell.execute_reply": "2024-06-14T08:23:49.058393Z"
    }
   },
   "outputs": [
    {
     "data": {
      "text/html": [
       "<div><style>\n",
       ".dataframe > thead > tr,\n",
       ".dataframe > tbody > tr {\n",
       "  text-align: right;\n",
       "  white-space: pre-wrap;\n",
       "}\n",
       "</style>\n",
       "<small>shape: (7, 6)</small><table border=\"1\" class=\"dataframe\"><thead><tr><th>Context_Name</th><th>Customer_MaritalStatus</th><th>Customer_CLV</th><th>Customer_City</th><th>IH_Web_Inbound_Accepted_pxLastGroupID</th><th>Decision_Outcome</th></tr><tr><td>str</td><td>str</td><td>i64</td><td>str</td><td>str</td><td>str</td></tr></thead><tbody><tr><td>&quot;FirstMortgage30yr&quot;</td><td>&quot;Married&quot;</td><td>1460</td><td>&quot;Port Raoul&quot;</td><td>&quot;Account&quot;</td><td>&quot;Rejected&quot;</td></tr><tr><td>&quot;FirstMortgage30yr&quot;</td><td>&quot;Unknown&quot;</td><td>669</td><td>&quot;Laurianneshire&quot;</td><td>&quot;AutoLoans&quot;</td><td>&quot;Accepted&quot;</td></tr><tr><td>&quot;MoneyMarketSavingsAccount&quot;</td><td>&quot;No Resp+&quot;</td><td>1174</td><td>&quot;Jacobshaven&quot;</td><td>&quot;Account&quot;</td><td>&quot;Rejected&quot;</td></tr><tr><td>&quot;BasicChecking&quot;</td><td>&quot;Unknown&quot;</td><td>1476</td><td>&quot;Lindton&quot;</td><td>&quot;Account&quot;</td><td>&quot;Rejected&quot;</td></tr><tr><td>&quot;BasicChecking&quot;</td><td>&quot;Married&quot;</td><td>1211</td><td>&quot;South Jimmieshire&quot;</td><td>&quot;DepositAccounts&quot;</td><td>&quot;Accepted&quot;</td></tr><tr><td>&quot;UPlusFinPersonal&quot;</td><td>&quot;No Resp+&quot;</td><td>533</td><td>&quot;Bergeville&quot;</td><td>null</td><td>&quot;Rejected&quot;</td></tr><tr><td>&quot;BasicChecking&quot;</td><td>&quot;No Resp+&quot;</td><td>555</td><td>&quot;Willyville&quot;</td><td>&quot;DepositAccounts&quot;</td><td>&quot;Rejected&quot;</td></tr></tbody></table></div>"
      ],
      "text/plain": [
       "shape: (7, 6)\n",
       "┌────────────────┬────────────────┬──────────────┬────────────────┬────────────────┬───────────────┐\n",
       "│ Context_Name   ┆ Customer_Marit ┆ Customer_CLV ┆ Customer_City  ┆ IH_Web_Inbound ┆ Decision_Outc │\n",
       "│ ---            ┆ alStatus       ┆ ---          ┆ ---            ┆ _Accepted_pxLa ┆ ome           │\n",
       "│ str            ┆ ---            ┆ i64          ┆ str            ┆ st…            ┆ ---           │\n",
       "│                ┆ str            ┆              ┆                ┆ ---            ┆ str           │\n",
       "│                ┆                ┆              ┆                ┆ str            ┆               │\n",
       "╞════════════════╪════════════════╪══════════════╪════════════════╪════════════════╪═══════════════╡\n",
       "│ FirstMortgage3 ┆ Married        ┆ 1460         ┆ Port Raoul     ┆ Account        ┆ Rejected      │\n",
       "│ 0yr            ┆                ┆              ┆                ┆                ┆               │\n",
       "│ FirstMortgage3 ┆ Unknown        ┆ 669          ┆ Laurianneshire ┆ AutoLoans      ┆ Accepted      │\n",
       "│ 0yr            ┆                ┆              ┆                ┆                ┆               │\n",
       "│ MoneyMarketSav ┆ No Resp+       ┆ 1174         ┆ Jacobshaven    ┆ Account        ┆ Rejected      │\n",
       "│ ingsAccount    ┆                ┆              ┆                ┆                ┆               │\n",
       "│ BasicChecking  ┆ Unknown        ┆ 1476         ┆ Lindton        ┆ Account        ┆ Rejected      │\n",
       "│ BasicChecking  ┆ Married        ┆ 1211         ┆ South          ┆ DepositAccount ┆ Accepted      │\n",
       "│                ┆                ┆              ┆ Jimmieshire    ┆ s              ┆               │\n",
       "│ UPlusFinPerson ┆ No Resp+       ┆ 533          ┆ Bergeville     ┆ null           ┆ Rejected      │\n",
       "│ al             ┆                ┆              ┆                ┆                ┆               │\n",
       "│ BasicChecking  ┆ No Resp+       ┆ 555          ┆ Willyville     ┆ DepositAccount ┆ Rejected      │\n",
       "│                ┆                ┆              ┆                ┆ s              ┆               │\n",
       "└────────────────┴────────────────┴──────────────┴────────────────┴────────────────┴───────────────┘"
      ]
     },
     "execution_count": 3,
     "metadata": {},
     "output_type": "execute_result"
    }
   ],
   "source": [
    "pl.read_ndjson('../../../../data/SampleHDS.json')"
   ]
  },
  {
   "attachments": {},
   "cell_type": "markdown",
   "metadata": {},
   "source": [
    "As you can see, this dataset consists of regular predictors, IH predictors, context keys and the outcome column. Additionally, some columns are numeric, others are strings. Let's first initialize the DataAnonymization class."
   ]
  },
  {
   "cell_type": "code",
   "execution_count": 4,
   "metadata": {
    "execution": {
     "iopub.execute_input": "2024-06-14T08:23:49.061156Z",
     "iopub.status.busy": "2024-06-14T08:23:49.060799Z",
     "iopub.status.idle": "2024-06-14T08:23:49.070840Z",
     "shell.execute_reply": "2024-06-14T08:23:49.070340Z"
    }
   },
   "outputs": [],
   "source": [
    "anon = DataAnonymization(hds_folder='../../../../data/')"
   ]
  },
  {
   "attachments": {},
   "cell_type": "markdown",
   "metadata": {},
   "source": [
    "By default, the class applies a set of anonymisation techniques:\n",
    "- Column names are remapped to a non-descriptive name\n",
    "- Categorical values are hashed with a random seed\n",
    "- Numerical values are normalized between 0 and 1\n",
    "- Outcomes are mapped to a binary outcome.\n",
    "\n",
    "To apply these techniques, simply call `.process()`:"
   ]
  },
  {
   "cell_type": "code",
   "execution_count": 5,
   "metadata": {
    "execution": {
     "iopub.execute_input": "2024-06-14T08:23:49.073469Z",
     "iopub.status.busy": "2024-06-14T08:23:49.073095Z",
     "iopub.status.idle": "2024-06-14T08:23:49.078906Z",
     "shell.execute_reply": "2024-06-14T08:23:49.078407Z"
    }
   },
   "outputs": [
    {
     "data": {
      "text/html": [
       "<div><style>\n",
       ".dataframe > thead > tr,\n",
       ".dataframe > tbody > tr {\n",
       "  text-align: right;\n",
       "  white-space: pre-wrap;\n",
       "}\n",
       "</style>\n",
       "<small>shape: (7, 7)</small><table border=\"1\" class=\"dataframe\"><thead><tr><th>filename</th><th>PREDICTOR_1</th><th>PREDICTOR_2</th><th>PREDICTOR_3</th><th>Context_Name</th><th>IH_PREDICTOR_0</th><th>Decision_Outcome</th></tr><tr><td>str</td><td>str</td><td>str</td><td>f64</td><td>str</td><td>str</td><td>bool</td></tr></thead><tbody><tr><td>&quot;../../../../data/SampleHDS.jso…</td><td>&quot;590231070516660344&quot;</td><td>&quot;3293357381555058939&quot;</td><td>1.5213e19</td><td>&quot;6336778257352062411&quot;</td><td>&quot;3251801070682022300&quot;</td><td>false</td></tr><tr><td>&quot;../../../../data/SampleHDS.jso…</td><td>&quot;5127350357374060186&quot;</td><td>&quot;15929051533558420296&quot;</td><td>3.0576e17</td><td>&quot;6336778257352062411&quot;</td><td>&quot;9119099936621606514&quot;</td><td>true</td></tr><tr><td>&quot;../../../../data/SampleHDS.jso…</td><td>&quot;5154843661631139420&quot;</td><td>&quot;1414253950885129334&quot;</td><td>1.6995e19</td><td>&quot;4870554803191293706&quot;</td><td>&quot;3251801070682022300&quot;</td><td>false</td></tr><tr><td>&quot;../../../../data/SampleHDS.jso…</td><td>&quot;5127350357374060186&quot;</td><td>&quot;926602016833024994&quot;</td><td>4.2534e18</td><td>&quot;14653275675456387468&quot;</td><td>&quot;3251801070682022300&quot;</td><td>false</td></tr><tr><td>&quot;../../../../data/SampleHDS.jso…</td><td>&quot;590231070516660344&quot;</td><td>&quot;4257243693303679486&quot;</td><td>1.5413e19</td><td>&quot;14653275675456387468&quot;</td><td>&quot;8482189321100963290&quot;</td><td>true</td></tr><tr><td>&quot;../../../../data/SampleHDS.jso…</td><td>&quot;5154843661631139420&quot;</td><td>&quot;13427652130560423901&quot;</td><td>1.4572e19</td><td>&quot;1753511158716866305&quot;</td><td>null</td><td>false</td></tr><tr><td>&quot;../../../../data/SampleHDS.jso…</td><td>&quot;5154843661631139420&quot;</td><td>&quot;3023981248133468654&quot;</td><td>1.3508e19</td><td>&quot;14653275675456387468&quot;</td><td>&quot;8482189321100963290&quot;</td><td>false</td></tr></tbody></table></div>"
      ],
      "text/plain": [
       "shape: (7, 7)\n",
       "┌──────────────┬─────────────┬─────────────┬─────────────┬─────────────┬─────────────┬─────────────┐\n",
       "│ filename     ┆ PREDICTOR_1 ┆ PREDICTOR_2 ┆ PREDICTOR_3 ┆ Context_Nam ┆ IH_PREDICTO ┆ Decision_Ou │\n",
       "│ ---          ┆ ---         ┆ ---         ┆ ---         ┆ e           ┆ R_0         ┆ tcome       │\n",
       "│ str          ┆ str         ┆ str         ┆ f64         ┆ ---         ┆ ---         ┆ ---         │\n",
       "│              ┆             ┆             ┆             ┆ str         ┆ str         ┆ bool        │\n",
       "╞══════════════╪═════════════╪═════════════╪═════════════╪═════════════╪═════════════╪═════════════╡\n",
       "│ ../../../../ ┆ 59023107051 ┆ 32933573815 ┆ 1.5213e19   ┆ 63367782573 ┆ 32518010706 ┆ false       │\n",
       "│ data/SampleH ┆ 6660344     ┆ 55058939    ┆             ┆ 52062411    ┆ 82022300    ┆             │\n",
       "│ DS.jso…      ┆             ┆             ┆             ┆             ┆             ┆             │\n",
       "│ ../../../../ ┆ 51273503573 ┆ 15929051533 ┆ 3.0576e17   ┆ 63367782573 ┆ 91190999366 ┆ true        │\n",
       "│ data/SampleH ┆ 74060186    ┆ 558420296   ┆             ┆ 52062411    ┆ 21606514    ┆             │\n",
       "│ DS.jso…      ┆             ┆             ┆             ┆             ┆             ┆             │\n",
       "│ ../../../../ ┆ 51548436616 ┆ 14142539508 ┆ 1.6995e19   ┆ 48705548031 ┆ 32518010706 ┆ false       │\n",
       "│ data/SampleH ┆ 31139420    ┆ 85129334    ┆             ┆ 91293706    ┆ 82022300    ┆             │\n",
       "│ DS.jso…      ┆             ┆             ┆             ┆             ┆             ┆             │\n",
       "│ ../../../../ ┆ 51273503573 ┆ 92660201683 ┆ 4.2534e18   ┆ 14653275675 ┆ 32518010706 ┆ false       │\n",
       "│ data/SampleH ┆ 74060186    ┆ 3024994     ┆             ┆ 456387468   ┆ 82022300    ┆             │\n",
       "│ DS.jso…      ┆             ┆             ┆             ┆             ┆             ┆             │\n",
       "│ ../../../../ ┆ 59023107051 ┆ 42572436933 ┆ 1.5413e19   ┆ 14653275675 ┆ 84821893211 ┆ true        │\n",
       "│ data/SampleH ┆ 6660344     ┆ 03679486    ┆             ┆ 456387468   ┆ 00963290    ┆             │\n",
       "│ DS.jso…      ┆             ┆             ┆             ┆             ┆             ┆             │\n",
       "│ ../../../../ ┆ 51548436616 ┆ 13427652130 ┆ 1.4572e19   ┆ 17535111587 ┆ null        ┆ false       │\n",
       "│ data/SampleH ┆ 31139420    ┆ 560423901   ┆             ┆ 16866305    ┆             ┆             │\n",
       "│ DS.jso…      ┆             ┆             ┆             ┆             ┆             ┆             │\n",
       "│ ../../../../ ┆ 51548436616 ┆ 30239812481 ┆ 1.3508e19   ┆ 14653275675 ┆ 84821893211 ┆ false       │\n",
       "│ data/SampleH ┆ 31139420    ┆ 33468654    ┆             ┆ 456387468   ┆ 00963290    ┆             │\n",
       "│ DS.jso…      ┆             ┆             ┆             ┆             ┆             ┆             │\n",
       "└──────────────┴─────────────┴─────────────┴─────────────┴─────────────┴─────────────┴─────────────┘"
      ]
     },
     "execution_count": 5,
     "metadata": {},
     "output_type": "execute_result"
    }
   ],
   "source": [
    "anon.process()"
   ]
  },
  {
   "attachments": {},
   "cell_type": "markdown",
   "metadata": {},
   "source": [
    "To trace back the columns to their original names, the class also contains a mapping, which does not have to be provided."
   ]
  },
  {
   "cell_type": "code",
   "execution_count": 6,
   "metadata": {
    "execution": {
     "iopub.execute_input": "2024-06-14T08:23:49.081126Z",
     "iopub.status.busy": "2024-06-14T08:23:49.080762Z",
     "iopub.status.idle": "2024-06-14T08:23:49.085959Z",
     "shell.execute_reply": "2024-06-14T08:23:49.085399Z"
    }
   },
   "outputs": [
    {
     "data": {
      "text/plain": [
       "{'filename': 'filename',\n",
       " 'Customer_MaritalStatus': 'PREDICTOR_1',\n",
       " 'Customer_City': 'PREDICTOR_2',\n",
       " 'Customer_CLV': 'PREDICTOR_3',\n",
       " 'Context_Name': 'Context_Name',\n",
       " 'IH_Web_Inbound_Accepted_pxLastGroupID': 'IH_PREDICTOR_0',\n",
       " 'Decision_Outcome': 'Decision_Outcome'}"
      ]
     },
     "execution_count": 6,
     "metadata": {},
     "output_type": "execute_result"
    }
   ],
   "source": [
    "anon.column_mapping"
   ]
  },
  {
   "attachments": {},
   "cell_type": "markdown",
   "metadata": {},
   "source": [
    "## Configs\n",
    "\n",
    "Each capability can optionally be turned off - see below for the full list of config options, and refer to the API reference for the full description."
   ]
  },
  {
   "cell_type": "code",
   "execution_count": 7,
   "metadata": {
    "execution": {
     "iopub.execute_input": "2024-06-14T08:23:49.088167Z",
     "iopub.status.busy": "2024-06-14T08:23:49.087850Z",
     "iopub.status.idle": "2024-06-14T08:23:49.092271Z",
     "shell.execute_reply": "2024-06-14T08:23:49.091704Z"
    }
   },
   "outputs": [
    {
     "data": {
      "text/plain": [
       "{'config_file': None,\n",
       " 'hds_folder': '.',\n",
       " 'use_datamart': False,\n",
       " 'datamart_folder': 'datamart',\n",
       " 'output_format': 'ndjson',\n",
       " 'output_folder': 'output',\n",
       " 'mapping_file': 'mapping.map',\n",
       " 'mask_predictor_names': True,\n",
       " 'mask_context_key_names': False,\n",
       " 'mask_ih_names': True,\n",
       " 'mask_outcome_name': False,\n",
       " 'mask_predictor_values': True,\n",
       " 'mask_context_key_values': True,\n",
       " 'mask_ih_values': True,\n",
       " 'mask_outcome_values': True,\n",
       " 'context_key_label': 'Context_*',\n",
       " 'ih_label': 'IH_*',\n",
       " 'outcome_column': 'Decision_Outcome',\n",
       " 'positive_outcomes': ['Accepted', 'Clicked'],\n",
       " 'negative_outcomes': ['Rejected', 'Impression'],\n",
       " 'special_predictors': ['Decision_DecisionTime',\n",
       "  'Decision_OutcomeTime',\n",
       "  'Decision_Rank'],\n",
       " 'sample_percentage_schema_inferencing': 0.01}"
      ]
     },
     "execution_count": 7,
     "metadata": {},
     "output_type": "execute_result"
    }
   ],
   "source": [
    "dict(zip(Config.__init__.__code__.co_varnames[1:], Config.__init__.__defaults__))"
   ]
  },
  {
   "attachments": {},
   "cell_type": "markdown",
   "metadata": {},
   "source": [
    "It's easy to change these parameters by just passing the keyword arguments. In the following example, we\n",
    "- Keep the IH predictor names\n",
    "- Keep the outcome values\n",
    "- Keep the context key values\n",
    "- Keep the context key predictor names"
   ]
  },
  {
   "cell_type": "code",
   "execution_count": 8,
   "metadata": {
    "execution": {
     "iopub.execute_input": "2024-06-14T08:23:49.094437Z",
     "iopub.status.busy": "2024-06-14T08:23:49.094066Z",
     "iopub.status.idle": "2024-06-14T08:23:49.102190Z",
     "shell.execute_reply": "2024-06-14T08:23:49.101730Z"
    }
   },
   "outputs": [
    {
     "data": {
      "text/html": [
       "<div><style>\n",
       ".dataframe > thead > tr,\n",
       ".dataframe > tbody > tr {\n",
       "  text-align: right;\n",
       "  white-space: pre-wrap;\n",
       "}\n",
       "</style>\n",
       "<small>shape: (7, 7)</small><table border=\"1\" class=\"dataframe\"><thead><tr><th>filename</th><th>PREDICTOR_1</th><th>PREDICTOR_2</th><th>PREDICTOR_3</th><th>Context_Name</th><th>IH_Web_Inbound_Accepted_pxLastGroupID</th><th>Decision_Outcome</th></tr><tr><td>str</td><td>str</td><td>str</td><td>f64</td><td>str</td><td>str</td><td>str</td></tr></thead><tbody><tr><td>&quot;../../../../data/SampleHDS.jso…</td><td>&quot;2390761017977285498&quot;</td><td>&quot;12671043976799792194&quot;</td><td>6.2783e18</td><td>&quot;FirstMortgage30yr&quot;</td><td>&quot;2131059863899129525&quot;</td><td>&quot;Rejected&quot;</td></tr><tr><td>&quot;../../../../data/SampleHDS.jso…</td><td>&quot;360863519498995981&quot;</td><td>&quot;7066326088787140983&quot;</td><td>1.0977e19</td><td>&quot;FirstMortgage30yr&quot;</td><td>&quot;9395361297554111368&quot;</td><td>&quot;Accepted&quot;</td></tr><tr><td>&quot;../../../../data/SampleHDS.jso…</td><td>&quot;18185124376052095408&quot;</td><td>&quot;17989415143786243410&quot;</td><td>1.5585e19</td><td>&quot;MoneyMarketSavingsAccount&quot;</td><td>&quot;2131059863899129525&quot;</td><td>&quot;Rejected&quot;</td></tr><tr><td>&quot;../../../../data/SampleHDS.jso…</td><td>&quot;360863519498995981&quot;</td><td>&quot;10096314902821668497&quot;</td><td>1.2032e19</td><td>&quot;BasicChecking&quot;</td><td>&quot;2131059863899129525&quot;</td><td>&quot;Rejected&quot;</td></tr><tr><td>&quot;../../../../data/SampleHDS.jso…</td><td>&quot;2390761017977285498&quot;</td><td>&quot;11292823218360934173&quot;</td><td>1.5302e18</td><td>&quot;BasicChecking&quot;</td><td>&quot;5917848879292837966&quot;</td><td>&quot;Accepted&quot;</td></tr><tr><td>&quot;../../../../data/SampleHDS.jso…</td><td>&quot;18185124376052095408&quot;</td><td>&quot;17319318291509002386&quot;</td><td>6.0435e18</td><td>&quot;UPlusFinPersonal&quot;</td><td>null</td><td>&quot;Rejected&quot;</td></tr><tr><td>&quot;../../../../data/SampleHDS.jso…</td><td>&quot;18185124376052095408&quot;</td><td>&quot;14283561487272133848&quot;</td><td>1.5471e19</td><td>&quot;BasicChecking&quot;</td><td>&quot;5917848879292837966&quot;</td><td>&quot;Rejected&quot;</td></tr></tbody></table></div>"
      ],
      "text/plain": [
       "shape: (7, 7)\n",
       "┌──────────────┬─────────────┬─────────────┬─────────────┬─────────────┬─────────────┬─────────────┐\n",
       "│ filename     ┆ PREDICTOR_1 ┆ PREDICTOR_2 ┆ PREDICTOR_3 ┆ Context_Nam ┆ IH_Web_Inbo ┆ Decision_Ou │\n",
       "│ ---          ┆ ---         ┆ ---         ┆ ---         ┆ e           ┆ und_Accepte ┆ tcome       │\n",
       "│ str          ┆ str         ┆ str         ┆ f64         ┆ ---         ┆ d_pxLast…   ┆ ---         │\n",
       "│              ┆             ┆             ┆             ┆ str         ┆ ---         ┆ str         │\n",
       "│              ┆             ┆             ┆             ┆             ┆ str         ┆             │\n",
       "╞══════════════╪═════════════╪═════════════╪═════════════╪═════════════╪═════════════╪═════════════╡\n",
       "│ ../../../../ ┆ 23907610179 ┆ 12671043976 ┆ 6.2783e18   ┆ FirstMortga ┆ 21310598638 ┆ Rejected    │\n",
       "│ data/SampleH ┆ 77285498    ┆ 799792194   ┆             ┆ ge30yr      ┆ 99129525    ┆             │\n",
       "│ DS.jso…      ┆             ┆             ┆             ┆             ┆             ┆             │\n",
       "│ ../../../../ ┆ 36086351949 ┆ 70663260887 ┆ 1.0977e19   ┆ FirstMortga ┆ 93953612975 ┆ Accepted    │\n",
       "│ data/SampleH ┆ 8995981     ┆ 87140983    ┆             ┆ ge30yr      ┆ 54111368    ┆             │\n",
       "│ DS.jso…      ┆             ┆             ┆             ┆             ┆             ┆             │\n",
       "│ ../../../../ ┆ 18185124376 ┆ 17989415143 ┆ 1.5585e19   ┆ MoneyMarket ┆ 21310598638 ┆ Rejected    │\n",
       "│ data/SampleH ┆ 052095408   ┆ 786243410   ┆             ┆ SavingsAcco ┆ 99129525    ┆             │\n",
       "│ DS.jso…      ┆             ┆             ┆             ┆ unt         ┆             ┆             │\n",
       "│ ../../../../ ┆ 36086351949 ┆ 10096314902 ┆ 1.2032e19   ┆ BasicChecki ┆ 21310598638 ┆ Rejected    │\n",
       "│ data/SampleH ┆ 8995981     ┆ 821668497   ┆             ┆ ng          ┆ 99129525    ┆             │\n",
       "│ DS.jso…      ┆             ┆             ┆             ┆             ┆             ┆             │\n",
       "│ ../../../../ ┆ 23907610179 ┆ 11292823218 ┆ 1.5302e18   ┆ BasicChecki ┆ 59178488792 ┆ Accepted    │\n",
       "│ data/SampleH ┆ 77285498    ┆ 360934173   ┆             ┆ ng          ┆ 92837966    ┆             │\n",
       "│ DS.jso…      ┆             ┆             ┆             ┆             ┆             ┆             │\n",
       "│ ../../../../ ┆ 18185124376 ┆ 17319318291 ┆ 6.0435e18   ┆ UPlusFinPer ┆ null        ┆ Rejected    │\n",
       "│ data/SampleH ┆ 052095408   ┆ 509002386   ┆             ┆ sonal       ┆             ┆             │\n",
       "│ DS.jso…      ┆             ┆             ┆             ┆             ┆             ┆             │\n",
       "│ ../../../../ ┆ 18185124376 ┆ 14283561487 ┆ 1.5471e19   ┆ BasicChecki ┆ 59178488792 ┆ Rejected    │\n",
       "│ data/SampleH ┆ 052095408   ┆ 272133848   ┆             ┆ ng          ┆ 92837966    ┆             │\n",
       "│ DS.jso…      ┆             ┆             ┆             ┆             ┆             ┆             │\n",
       "└──────────────┴─────────────┴─────────────┴─────────────┴─────────────┴─────────────┴─────────────┘"
      ]
     },
     "execution_count": 8,
     "metadata": {},
     "output_type": "execute_result"
    }
   ],
   "source": [
    "anon = DataAnonymization(\n",
    "    hds_folder=\"../../../../data/\",\n",
    "    mask_ih_names=False,\n",
    "    mask_outcome_values=False,\n",
    "    mask_context_key_values=False,\n",
    "    mask_context_key_names=False,\n",
    ")\n",
    "anon.process()\n"
   ]
  },
  {
   "attachments": {},
   "cell_type": "markdown",
   "metadata": {},
   "source": [
    "The configs can also be written and read as such:"
   ]
  },
  {
   "cell_type": "code",
   "execution_count": 9,
   "metadata": {
    "execution": {
     "iopub.execute_input": "2024-06-14T08:23:49.104342Z",
     "iopub.status.busy": "2024-06-14T08:23:49.104001Z",
     "iopub.status.idle": "2024-06-14T08:23:49.106943Z",
     "shell.execute_reply": "2024-06-14T08:23:49.106491Z"
    }
   },
   "outputs": [],
   "source": [
    "anon.config.save_to_config_file('config.json')"
   ]
  },
  {
   "cell_type": "code",
   "execution_count": 10,
   "metadata": {
    "execution": {
     "iopub.execute_input": "2024-06-14T08:23:49.108956Z",
     "iopub.status.busy": "2024-06-14T08:23:49.108627Z",
     "iopub.status.idle": "2024-06-14T08:23:49.116560Z",
     "shell.execute_reply": "2024-06-14T08:23:49.116097Z"
    }
   },
   "outputs": [
    {
     "data": {
      "text/html": [
       "<div><style>\n",
       ".dataframe > thead > tr,\n",
       ".dataframe > tbody > tr {\n",
       "  text-align: right;\n",
       "  white-space: pre-wrap;\n",
       "}\n",
       "</style>\n",
       "<small>shape: (7, 7)</small><table border=\"1\" class=\"dataframe\"><thead><tr><th>filename</th><th>PREDICTOR_1</th><th>PREDICTOR_2</th><th>PREDICTOR_3</th><th>Context_Name</th><th>IH_Web_Inbound_Accepted_pxLastGroupID</th><th>Decision_Outcome</th></tr><tr><td>str</td><td>str</td><td>str</td><td>f64</td><td>str</td><td>str</td><td>str</td></tr></thead><tbody><tr><td>&quot;../../../../data/SampleHDS.jso…</td><td>&quot;15891830084921918344&quot;</td><td>&quot;13373159406313285242&quot;</td><td>9.4908e18</td><td>&quot;FirstMortgage30yr&quot;</td><td>&quot;5460846189216633036&quot;</td><td>&quot;Rejected&quot;</td></tr><tr><td>&quot;../../../../data/SampleHDS.jso…</td><td>&quot;10992494047791807585&quot;</td><td>&quot;4161002353993653886&quot;</td><td>1.7085e18</td><td>&quot;FirstMortgage30yr&quot;</td><td>&quot;11221789231709514754&quot;</td><td>&quot;Accepted&quot;</td></tr><tr><td>&quot;../../../../data/SampleHDS.jso…</td><td>&quot;13486074458484535033&quot;</td><td>&quot;7322782813504558805&quot;</td><td>1.5401e19</td><td>&quot;MoneyMarketSavingsAccount&quot;</td><td>&quot;5460846189216633036&quot;</td><td>&quot;Rejected&quot;</td></tr><tr><td>&quot;../../../../data/SampleHDS.jso…</td><td>&quot;10992494047791807585&quot;</td><td>&quot;13384471648278146955&quot;</td><td>4.8247e18</td><td>&quot;BasicChecking&quot;</td><td>&quot;5460846189216633036&quot;</td><td>&quot;Rejected&quot;</td></tr><tr><td>&quot;../../../../data/SampleHDS.jso…</td><td>&quot;15891830084921918344&quot;</td><td>&quot;9734606889455588114&quot;</td><td>1.8017e19</td><td>&quot;BasicChecking&quot;</td><td>&quot;627229482128077536&quot;</td><td>&quot;Accepted&quot;</td></tr><tr><td>&quot;../../../../data/SampleHDS.jso…</td><td>&quot;13486074458484535033&quot;</td><td>&quot;5093165538273966743&quot;</td><td>1.8802e18</td><td>&quot;UPlusFinPersonal&quot;</td><td>null</td><td>&quot;Rejected&quot;</td></tr><tr><td>&quot;../../../../data/SampleHDS.jso…</td><td>&quot;13486074458484535033&quot;</td><td>&quot;14726805934744583803&quot;</td><td>1.1034e19</td><td>&quot;BasicChecking&quot;</td><td>&quot;627229482128077536&quot;</td><td>&quot;Rejected&quot;</td></tr></tbody></table></div>"
      ],
      "text/plain": [
       "shape: (7, 7)\n",
       "┌──────────────┬─────────────┬─────────────┬─────────────┬─────────────┬─────────────┬─────────────┐\n",
       "│ filename     ┆ PREDICTOR_1 ┆ PREDICTOR_2 ┆ PREDICTOR_3 ┆ Context_Nam ┆ IH_Web_Inbo ┆ Decision_Ou │\n",
       "│ ---          ┆ ---         ┆ ---         ┆ ---         ┆ e           ┆ und_Accepte ┆ tcome       │\n",
       "│ str          ┆ str         ┆ str         ┆ f64         ┆ ---         ┆ d_pxLast…   ┆ ---         │\n",
       "│              ┆             ┆             ┆             ┆ str         ┆ ---         ┆ str         │\n",
       "│              ┆             ┆             ┆             ┆             ┆ str         ┆             │\n",
       "╞══════════════╪═════════════╪═════════════╪═════════════╪═════════════╪═════════════╪═════════════╡\n",
       "│ ../../../../ ┆ 15891830084 ┆ 13373159406 ┆ 9.4908e18   ┆ FirstMortga ┆ 54608461892 ┆ Rejected    │\n",
       "│ data/SampleH ┆ 921918344   ┆ 313285242   ┆             ┆ ge30yr      ┆ 16633036    ┆             │\n",
       "│ DS.jso…      ┆             ┆             ┆             ┆             ┆             ┆             │\n",
       "│ ../../../../ ┆ 10992494047 ┆ 41610023539 ┆ 1.7085e18   ┆ FirstMortga ┆ 11221789231 ┆ Accepted    │\n",
       "│ data/SampleH ┆ 791807585   ┆ 93653886    ┆             ┆ ge30yr      ┆ 709514754   ┆             │\n",
       "│ DS.jso…      ┆             ┆             ┆             ┆             ┆             ┆             │\n",
       "│ ../../../../ ┆ 13486074458 ┆ 73227828135 ┆ 1.5401e19   ┆ MoneyMarket ┆ 54608461892 ┆ Rejected    │\n",
       "│ data/SampleH ┆ 484535033   ┆ 04558805    ┆             ┆ SavingsAcco ┆ 16633036    ┆             │\n",
       "│ DS.jso…      ┆             ┆             ┆             ┆ unt         ┆             ┆             │\n",
       "│ ../../../../ ┆ 10992494047 ┆ 13384471648 ┆ 4.8247e18   ┆ BasicChecki ┆ 54608461892 ┆ Rejected    │\n",
       "│ data/SampleH ┆ 791807585   ┆ 278146955   ┆             ┆ ng          ┆ 16633036    ┆             │\n",
       "│ DS.jso…      ┆             ┆             ┆             ┆             ┆             ┆             │\n",
       "│ ../../../../ ┆ 15891830084 ┆ 97346068894 ┆ 1.8017e19   ┆ BasicChecki ┆ 62722948212 ┆ Accepted    │\n",
       "│ data/SampleH ┆ 921918344   ┆ 55588114    ┆             ┆ ng          ┆ 8077536     ┆             │\n",
       "│ DS.jso…      ┆             ┆             ┆             ┆             ┆             ┆             │\n",
       "│ ../../../../ ┆ 13486074458 ┆ 50931655382 ┆ 1.8802e18   ┆ UPlusFinPer ┆ null        ┆ Rejected    │\n",
       "│ data/SampleH ┆ 484535033   ┆ 73966743    ┆             ┆ sonal       ┆             ┆             │\n",
       "│ DS.jso…      ┆             ┆             ┆             ┆             ┆             ┆             │\n",
       "│ ../../../../ ┆ 13486074458 ┆ 14726805934 ┆ 1.1034e19   ┆ BasicChecki ┆ 62722948212 ┆ Rejected    │\n",
       "│ data/SampleH ┆ 484535033   ┆ 744583803   ┆             ┆ ng          ┆ 8077536     ┆             │\n",
       "│ DS.jso…      ┆             ┆             ┆             ┆             ┆             ┆             │\n",
       "└──────────────┴─────────────┴─────────────┴─────────────┴─────────────┴─────────────┴─────────────┘"
      ]
     },
     "execution_count": 10,
     "metadata": {},
     "output_type": "execute_result"
    }
   ],
   "source": [
    "anon = DataAnonymization(config=Config(config_file='config.json'))\n",
    "anon.process()"
   ]
  },
  {
   "attachments": {},
   "cell_type": "markdown",
   "metadata": {},
   "source": [
    "## Exporting\n",
    "Two functions export:\n",
    "- `create_mapping_file()` writes the mapping file of the predictor names\n",
    "- `write_to_output()` writes the processed dataframe to disk\n",
    "\n",
    "Write to output accepts the following extensions: `[\"ndjson\", \"parquet\", \"arrow\", \"csv\"]`"
   ]
  },
  {
   "cell_type": "code",
   "execution_count": 11,
   "metadata": {
    "execution": {
     "iopub.execute_input": "2024-06-14T08:23:49.118691Z",
     "iopub.status.busy": "2024-06-14T08:23:49.118349Z",
     "iopub.status.idle": "2024-06-14T08:23:49.121595Z",
     "shell.execute_reply": "2024-06-14T08:23:49.121157Z"
    }
   },
   "outputs": [
    {
     "name": "stdout",
     "output_type": "stream",
     "text": [
      "filename=filename\n",
      "Customer_MaritalStatus=PREDICTOR_1\n",
      "Customer_City=PREDICTOR_2\n",
      "Customer_CLV=PREDICTOR_3\n",
      "Context_Name=Context_Name\n",
      "IH_Web_Inbound_Accepted_pxLastGroupID=IH_Web_Inbound_Accepted_pxLastGroupID\n",
      "Decision_Outcome=Decision_Outcome\n",
      "\n"
     ]
    }
   ],
   "source": [
    "anon.create_mapping_file()\n",
    "with open('mapping.map') as f:\n",
    "    print(f.read())"
   ]
  },
  {
   "cell_type": "code",
   "execution_count": 12,
   "metadata": {
    "execution": {
     "iopub.execute_input": "2024-06-14T08:23:49.123587Z",
     "iopub.status.busy": "2024-06-14T08:23:49.123226Z",
     "iopub.status.idle": "2024-06-14T08:23:49.126794Z",
     "shell.execute_reply": "2024-06-14T08:23:49.126216Z"
    }
   },
   "outputs": [],
   "source": [
    "anon.write_to_output(ext='arrow')"
   ]
  },
  {
   "cell_type": "code",
   "execution_count": 13,
   "metadata": {
    "execution": {
     "iopub.execute_input": "2024-06-14T08:23:49.128968Z",
     "iopub.status.busy": "2024-06-14T08:23:49.128638Z",
     "iopub.status.idle": "2024-06-14T08:23:49.133006Z",
     "shell.execute_reply": "2024-06-14T08:23:49.132484Z"
    }
   },
   "outputs": [
    {
     "data": {
      "text/html": [
       "<div><style>\n",
       ".dataframe > thead > tr,\n",
       ".dataframe > tbody > tr {\n",
       "  text-align: right;\n",
       "  white-space: pre-wrap;\n",
       "}\n",
       "</style>\n",
       "<small>shape: (7, 6)</small><table border=\"1\" class=\"dataframe\"><thead><tr><th>PREDICTOR_1</th><th>PREDICTOR_2</th><th>PREDICTOR_3</th><th>Context_Name</th><th>IH_Web_Inbound_Accepted_pxLastGroupID</th><th>Decision_Outcome</th></tr><tr><td>str</td><td>str</td><td>f64</td><td>str</td><td>str</td><td>str</td></tr></thead><tbody><tr><td>&quot;1159077501598933186&quot;</td><td>&quot;13280788742385094854&quot;</td><td>6.5083e18</td><td>&quot;FirstMortgage30yr&quot;</td><td>&quot;8257679839722446659&quot;</td><td>&quot;Rejected&quot;</td></tr><tr><td>&quot;2904334512040206395&quot;</td><td>&quot;8627362139859070894&quot;</td><td>1.0040e19</td><td>&quot;FirstMortgage30yr&quot;</td><td>&quot;7142188521486966819&quot;</td><td>&quot;Accepted&quot;</td></tr><tr><td>&quot;8477430475517396483&quot;</td><td>&quot;16509662661545424465&quot;</td><td>4.3419e18</td><td>&quot;MoneyMarketSavingsAccount&quot;</td><td>&quot;8257679839722446659&quot;</td><td>&quot;Rejected&quot;</td></tr><tr><td>&quot;2904334512040206395&quot;</td><td>&quot;10038783944970368367&quot;</td><td>1.6495e19</td><td>&quot;BasicChecking&quot;</td><td>&quot;8257679839722446659&quot;</td><td>&quot;Rejected&quot;</td></tr><tr><td>&quot;1159077501598933186&quot;</td><td>&quot;12179737289967487959&quot;</td><td>5.1416e17</td><td>&quot;BasicChecking&quot;</td><td>&quot;2023470075883199825&quot;</td><td>&quot;Accepted&quot;</td></tr><tr><td>&quot;8477430475517396483&quot;</td><td>&quot;13454641072525935958&quot;</td><td>5.8420e18</td><td>&quot;UPlusFinPersonal&quot;</td><td>null</td><td>&quot;Rejected&quot;</td></tr><tr><td>&quot;8477430475517396483&quot;</td><td>&quot;7515253338893789882&quot;</td><td>2.5231e18</td><td>&quot;BasicChecking&quot;</td><td>&quot;2023470075883199825&quot;</td><td>&quot;Rejected&quot;</td></tr></tbody></table></div>"
      ],
      "text/plain": [
       "shape: (7, 6)\n",
       "┌────────────────┬────────────────┬─────────────┬────────────────┬────────────────┬────────────────┐\n",
       "│ PREDICTOR_1    ┆ PREDICTOR_2    ┆ PREDICTOR_3 ┆ Context_Name   ┆ IH_Web_Inbound ┆ Decision_Outco │\n",
       "│ ---            ┆ ---            ┆ ---         ┆ ---            ┆ _Accepted_pxLa ┆ me             │\n",
       "│ str            ┆ str            ┆ f64         ┆ str            ┆ st…            ┆ ---            │\n",
       "│                ┆                ┆             ┆                ┆ ---            ┆ str            │\n",
       "│                ┆                ┆             ┆                ┆ str            ┆                │\n",
       "╞════════════════╪════════════════╪═════════════╪════════════════╪════════════════╪════════════════╡\n",
       "│ 11590775015989 ┆ 13280788742385 ┆ 6.5083e18   ┆ FirstMortgage3 ┆ 82576798397224 ┆ Rejected       │\n",
       "│ 33186          ┆ 094854         ┆             ┆ 0yr            ┆ 46659          ┆                │\n",
       "│ 29043345120402 ┆ 86273621398590 ┆ 1.0040e19   ┆ FirstMortgage3 ┆ 71421885214869 ┆ Accepted       │\n",
       "│ 06395          ┆ 70894          ┆             ┆ 0yr            ┆ 66819          ┆                │\n",
       "│ 84774304755173 ┆ 16509662661545 ┆ 4.3419e18   ┆ MoneyMarketSav ┆ 82576798397224 ┆ Rejected       │\n",
       "│ 96483          ┆ 424465         ┆             ┆ ingsAccount    ┆ 46659          ┆                │\n",
       "│ 29043345120402 ┆ 10038783944970 ┆ 1.6495e19   ┆ BasicChecking  ┆ 82576798397224 ┆ Rejected       │\n",
       "│ 06395          ┆ 368367         ┆             ┆                ┆ 46659          ┆                │\n",
       "│ 11590775015989 ┆ 12179737289967 ┆ 5.1416e17   ┆ BasicChecking  ┆ 20234700758831 ┆ Accepted       │\n",
       "│ 33186          ┆ 487959         ┆             ┆                ┆ 99825          ┆                │\n",
       "│ 84774304755173 ┆ 13454641072525 ┆ 5.8420e18   ┆ UPlusFinPerson ┆ null           ┆ Rejected       │\n",
       "│ 96483          ┆ 935958         ┆             ┆ al             ┆                ┆                │\n",
       "│ 84774304755173 ┆ 75152533388937 ┆ 2.5231e18   ┆ BasicChecking  ┆ 20234700758831 ┆ Rejected       │\n",
       "│ 96483          ┆ 89882          ┆             ┆                ┆ 99825          ┆                │\n",
       "└────────────────┴────────────────┴─────────────┴────────────────┴────────────────┴────────────────┘"
      ]
     },
     "execution_count": 13,
     "metadata": {},
     "output_type": "execute_result"
    }
   ],
   "source": [
    "pl.read_ipc('output/hds.arrow')"
   ]
  },
  {
   "attachments": {},
   "cell_type": "markdown",
   "metadata": {
    "nbsphinx": "hidden"
   },
   "source": [
    "## Advanced: Hash fuctions\n",
    "\n",
    "By default, we use [the same hashing algorithm Polars](https://pola-rs.github.io/polars/py-polars/html/reference/expressions/api/polars.Expr.hash.html#polars.Expr.hash) uses: [xxhash](https://github.com/Cyan4973/xxHash), as implemented [here](https://github.com/pola-rs/polars/blob/3f287f370b3c388ed2f3f218b2c096382548136f/polars/polars-core/src/vector_hasher.rs#L266). xxhash is fast to compute, and you can check its performance in collision, dispersion and randomness [here](https://github.com/Cyan4973/xxHash/tree/dev/tests). \n",
    "\n",
    "xxhash accepts four distinct seeds, but by default we set the seeds to `0`. It is possible to set the `seed` argument of the `process()` function to `'random'`, which will set all four seeds to a random integer between `0` and `1000000000`. Alternatively, it is possible to supply the four seeds manually with arguments `seed`, `seed_1`, `seed_2` and `seed_3`. \n",
    "\n",
    "If the xxhash with (random) seed(s) is not deemed sufficiently secure, it is possible to use your own hashing algorithm.\n",
    "\n",
    "Note that since we're now running python code and not native Polars code anymore, this will be _significantly_ slower. Nonetheless, it is possible.\n",
    "\n",
    "Just as an example - this is how one would use sha3_256:"
   ]
  },
  {
   "cell_type": "code",
   "execution_count": 14,
   "metadata": {
    "execution": {
     "iopub.execute_input": "2024-06-14T08:23:49.135082Z",
     "iopub.status.busy": "2024-06-14T08:23:49.134768Z",
     "iopub.status.idle": "2024-06-14T08:23:49.460757Z",
     "shell.execute_reply": "2024-06-14T08:23:49.460263Z"
    },
    "nbsphinx": "hidden"
   },
   "outputs": [
    {
     "name": "stderr",
     "output_type": "stream",
     "text": [
      "sys:1: MapWithoutReturnDtypeWarning:\n",
      "\n",
      "Calling `map_elements` without specifying `return_dtype` can lead to unpredictable results. Specify `return_dtype` to silence this warning.\n",
      "\n",
      "sys:1: MapWithoutReturnDtypeWarning:\n",
      "\n",
      "Calling `map_elements` without specifying `return_dtype` can lead to unpredictable results. Specify `return_dtype` to silence this warning.\n",
      "\n",
      "sys:1: MapWithoutReturnDtypeWarning:\n",
      "\n",
      "Calling `map_elements` without specifying `return_dtype` can lead to unpredictable results. Specify `return_dtype` to silence this warning.\n",
      "\n",
      "sys:1: MapWithoutReturnDtypeWarning:\n",
      "\n",
      "Calling `map_elements` without specifying `return_dtype` can lead to unpredictable results. Specify `return_dtype` to silence this warning.\n",
      "\n"
     ]
    },
    {
     "ename": "ComputeError",
     "evalue": "AttributeError: 'int' object has no attribute 'encode'",
     "output_type": "error",
     "traceback": [
      "\u001b[0;31m---------------------------------------------------------------------------\u001b[0m",
      "\u001b[0;31mComputeError\u001b[0m                              Traceback (most recent call last)",
      "Cell \u001b[0;32mIn[14], line 3\u001b[0m\n\u001b[1;32m      1\u001b[0m \u001b[38;5;28;01mfrom\u001b[39;00m \u001b[38;5;21;01mhashlib\u001b[39;00m \u001b[38;5;28;01mimport\u001b[39;00m sha3_256\n\u001b[0;32m----> 3\u001b[0m \u001b[43manon\u001b[49m\u001b[38;5;241;43m.\u001b[39;49m\u001b[43mprocess\u001b[49m\u001b[43m(\u001b[49m\u001b[43malgorithm\u001b[49m\u001b[38;5;241;43m=\u001b[39;49m\u001b[38;5;28;43;01mlambda\u001b[39;49;00m\u001b[43m \u001b[49m\u001b[43mx\u001b[49m\u001b[43m:\u001b[49m\u001b[43m \u001b[49m\u001b[43msha3_256\u001b[49m\u001b[43m(\u001b[49m\u001b[43mx\u001b[49m\u001b[38;5;241;43m.\u001b[39;49m\u001b[43mencode\u001b[49m\u001b[43m(\u001b[49m\u001b[43m)\u001b[49m\u001b[43m)\u001b[49m\u001b[38;5;241;43m.\u001b[39;49m\u001b[43mhexdigest\u001b[49m\u001b[43m(\u001b[49m\u001b[43m)\u001b[49m\u001b[43m)\u001b[49m\n",
      "File \u001b[0;32m~/work/pega-datascientist-tools/pega-datascientist-tools/python/docs/source/articles/../../../pdstools/utils/hds_utils.py:512\u001b[0m, in \u001b[0;36mDataAnonymization.process\u001b[0;34m(self, strategy, **kwargs)\u001b[0m\n\u001b[1;32m    510\u001b[0m df \u001b[38;5;241m=\u001b[39m df\u001b[38;5;241m.\u001b[39mselect(\u001b[38;5;28mself\u001b[39m\u001b[38;5;241m.\u001b[39mcolumn_mapping\u001b[38;5;241m.\u001b[39mkeys())\u001b[38;5;241m.\u001b[39mrename(\u001b[38;5;28mself\u001b[39m\u001b[38;5;241m.\u001b[39mcolumn_mapping)\n\u001b[1;32m    511\u001b[0m \u001b[38;5;28;01mif\u001b[39;00m strategy \u001b[38;5;241m==\u001b[39m \u001b[38;5;124m\"\u001b[39m\u001b[38;5;124meager\u001b[39m\u001b[38;5;124m\"\u001b[39m:\n\u001b[0;32m--> 512\u001b[0m     \u001b[38;5;28;01mreturn\u001b[39;00m \u001b[43mdf\u001b[49m\u001b[38;5;241;43m.\u001b[39;49m\u001b[43mcollect\u001b[49m\u001b[43m(\u001b[49m\u001b[43m)\u001b[49m\n\u001b[1;32m    513\u001b[0m \u001b[38;5;28;01mreturn\u001b[39;00m df\n",
      "File \u001b[0;32m/opt/hostedtoolcache/Python/3.11.9/x64/lib/python3.11/site-packages/polars/lazyframe/frame.py:1967\u001b[0m, in \u001b[0;36mLazyFrame.collect\u001b[0;34m(self, type_coercion, predicate_pushdown, projection_pushdown, simplify_expression, slice_pushdown, comm_subplan_elim, comm_subexpr_elim, cluster_with_columns, no_optimization, streaming, background, _eager, **_kwargs)\u001b[0m\n\u001b[1;32m   1964\u001b[0m \u001b[38;5;66;03m# Only for testing purposes atm.\u001b[39;00m\n\u001b[1;32m   1965\u001b[0m callback \u001b[38;5;241m=\u001b[39m _kwargs\u001b[38;5;241m.\u001b[39mget(\u001b[38;5;124m\"\u001b[39m\u001b[38;5;124mpost_opt_callback\u001b[39m\u001b[38;5;124m\"\u001b[39m)\n\u001b[0;32m-> 1967\u001b[0m \u001b[38;5;28;01mreturn\u001b[39;00m wrap_df(\u001b[43mldf\u001b[49m\u001b[38;5;241;43m.\u001b[39;49m\u001b[43mcollect\u001b[49m\u001b[43m(\u001b[49m\u001b[43mcallback\u001b[49m\u001b[43m)\u001b[49m)\n",
      "\u001b[0;31mComputeError\u001b[0m: AttributeError: 'int' object has no attribute 'encode'"
     ]
    }
   ],
   "source": [
    "from hashlib import sha3_256\n",
    "\n",
    "anon.process(algorithm=lambda x: sha3_256(x.encode()).hexdigest())"
   ]
  }
 ],
 "metadata": {
  "kernelspec": {
   "display_name": "Python 3",
   "language": "python",
   "name": "python3"
  },
  "language_info": {
   "codemirror_mode": {
    "name": "ipython",
    "version": 3
   },
   "file_extension": ".py",
   "mimetype": "text/x-python",
   "name": "python",
   "nbconvert_exporter": "python",
   "pygments_lexer": "ipython3",
   "version": "3.11.9"
  },
  "vscode": {
   "interpreter": {
    "hash": "aee8b7b246df8f9039afb4144a1f6fd8d2ca17a180786b69acc140d282b71a49"
   }
  }
 },
 "nbformat": 4,
 "nbformat_minor": 2
}
