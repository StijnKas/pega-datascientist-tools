{
 "cells": [
  {
   "attachments": {},
   "cell_type": "markdown",
   "metadata": {},
   "source": [
    "# Example data anonymization\n",
    "\n",
    "In Pega CDH 8.5 and up, it's now possible to record the historical data as seen by the Adaptive Models. See [this academy challenge](https://academy.pega.com/challenge/exporting-historical-data/v4) for reference. This historical data can be further used to experiment with offline models, but also to fine-tune the OOTB Gradient Boosting model. However, sharing this information with Pega can be sensitive as it contains raw predictor data. \n",
    "\n",
    "To this end, we provide a simple and transparent script to fully anonimize this dataset.\n",
    "\n",
    "The DataAnonymization script is now part of pdstools, and you can import it directly as such."
   ]
  },
  {
   "cell_type": "code",
   "execution_count": 1,
   "metadata": {
    "execution": {
     "iopub.execute_input": "2023-07-25T14:43:11.815173Z",
     "iopub.status.busy": "2023-07-25T14:43:11.814765Z",
     "iopub.status.idle": "2023-07-25T14:43:11.827317Z",
     "shell.execute_reply": "2023-07-25T14:43:11.826516Z"
    },
    "nbsphinx": "hidden"
   },
   "outputs": [],
   "source": [
    "# These lines are only for rendering in the docs, and are hidden through Jupyter tags\n",
    "# Do not run if you're running the notebook seperately\n",
    "\n",
    "import sys\n",
    "sys.path.append('../../../')"
   ]
  },
  {
   "cell_type": "code",
   "execution_count": 2,
   "metadata": {
    "execution": {
     "iopub.execute_input": "2023-07-25T14:43:11.830339Z",
     "iopub.status.busy": "2023-07-25T14:43:11.829913Z",
     "iopub.status.idle": "2023-07-25T14:43:13.193348Z",
     "shell.execute_reply": "2023-07-25T14:43:13.192446Z"
    }
   },
   "outputs": [],
   "source": [
    "from pdstools import ADMDatamart\n",
    "from pdstools import Config, DataAnonymization\n",
    "import polars as pl"
   ]
  },
  {
   "attachments": {},
   "cell_type": "markdown",
   "metadata": {},
   "source": [
    "## Input data\n",
    "\n",
    "To demonstrate this process, we're going to anonymise this toy example dataframe:"
   ]
  },
  {
   "cell_type": "code",
   "execution_count": 3,
   "metadata": {
    "execution": {
     "iopub.execute_input": "2023-07-25T14:43:13.197372Z",
     "iopub.status.busy": "2023-07-25T14:43:13.196953Z",
     "iopub.status.idle": "2023-07-25T14:43:13.213419Z",
     "shell.execute_reply": "2023-07-25T14:43:13.212779Z"
    }
   },
   "outputs": [
    {
     "data": {
      "text/html": [
       "<div><style>\n",
       ".dataframe > thead > tr > th,\n",
       ".dataframe > tbody > tr > td {\n",
       "  text-align: right;\n",
       "}\n",
       "</style>\n",
       "<small>shape: (7, 6)</small><table border=\"1\" class=\"dataframe\"><thead><tr><th>Context_Name</th><th>Customer_MaritalStatus</th><th>Customer_CLV</th><th>Customer_City</th><th>IH_Web_Inbound_Accepted_pxLastGroupID</th><th>Decision_Outcome</th></tr><tr><td>str</td><td>str</td><td>i64</td><td>str</td><td>str</td><td>str</td></tr></thead><tbody><tr><td>&quot;FirstMortgage3…</td><td>&quot;Married&quot;</td><td>1460</td><td>&quot;Port Raoul&quot;</td><td>&quot;Account&quot;</td><td>&quot;Rejected&quot;</td></tr><tr><td>&quot;FirstMortgage3…</td><td>&quot;Unknown&quot;</td><td>669</td><td>&quot;Laurianneshire…</td><td>&quot;AutoLoans&quot;</td><td>&quot;Accepted&quot;</td></tr><tr><td>&quot;MoneyMarketSav…</td><td>&quot;No Resp+&quot;</td><td>1174</td><td>&quot;Jacobshaven&quot;</td><td>&quot;Account&quot;</td><td>&quot;Rejected&quot;</td></tr><tr><td>&quot;BasicChecking&quot;</td><td>&quot;Unknown&quot;</td><td>1476</td><td>&quot;Lindton&quot;</td><td>&quot;Account&quot;</td><td>&quot;Rejected&quot;</td></tr><tr><td>&quot;BasicChecking&quot;</td><td>&quot;Married&quot;</td><td>1211</td><td>&quot;South Jimmiesh…</td><td>&quot;DepositAccount…</td><td>&quot;Accepted&quot;</td></tr><tr><td>&quot;UPlusFinPerson…</td><td>&quot;No Resp+&quot;</td><td>533</td><td>&quot;Bergeville&quot;</td><td>null</td><td>&quot;Rejected&quot;</td></tr><tr><td>&quot;BasicChecking&quot;</td><td>&quot;No Resp+&quot;</td><td>555</td><td>&quot;Willyville&quot;</td><td>&quot;DepositAccount…</td><td>&quot;Rejected&quot;</td></tr></tbody></table></div>"
      ],
      "text/plain": [
       "shape: (7, 6)\n",
       "┌────────────────┬────────────────┬──────────────┬────────────────┬────────────────┬───────────────┐\n",
       "│ Context_Name   ┆ Customer_Marit ┆ Customer_CLV ┆ Customer_City  ┆ IH_Web_Inbound ┆ Decision_Outc │\n",
       "│ ---            ┆ alStatus       ┆ ---          ┆ ---            ┆ _Accepted_pxLa ┆ ome           │\n",
       "│ str            ┆ ---            ┆ i64          ┆ str            ┆ stGr…          ┆ ---           │\n",
       "│                ┆ str            ┆              ┆                ┆ ---            ┆ str           │\n",
       "│                ┆                ┆              ┆                ┆ str            ┆               │\n",
       "╞════════════════╪════════════════╪══════════════╪════════════════╪════════════════╪═══════════════╡\n",
       "│ FirstMortgage3 ┆ Married        ┆ 1460         ┆ Port Raoul     ┆ Account        ┆ Rejected      │\n",
       "│ 0yr            ┆                ┆              ┆                ┆                ┆               │\n",
       "│ FirstMortgage3 ┆ Unknown        ┆ 669          ┆ Laurianneshire ┆ AutoLoans      ┆ Accepted      │\n",
       "│ 0yr            ┆                ┆              ┆                ┆                ┆               │\n",
       "│ MoneyMarketSav ┆ No Resp+       ┆ 1174         ┆ Jacobshaven    ┆ Account        ┆ Rejected      │\n",
       "│ ingsAccount    ┆                ┆              ┆                ┆                ┆               │\n",
       "│ BasicChecking  ┆ Unknown        ┆ 1476         ┆ Lindton        ┆ Account        ┆ Rejected      │\n",
       "│ BasicChecking  ┆ Married        ┆ 1211         ┆ South          ┆ DepositAccount ┆ Accepted      │\n",
       "│                ┆                ┆              ┆ Jimmieshire    ┆ s              ┆               │\n",
       "│ UPlusFinPerson ┆ No Resp+       ┆ 533          ┆ Bergeville     ┆ null           ┆ Rejected      │\n",
       "│ al             ┆                ┆              ┆                ┆                ┆               │\n",
       "│ BasicChecking  ┆ No Resp+       ┆ 555          ┆ Willyville     ┆ DepositAccount ┆ Rejected      │\n",
       "│                ┆                ┆              ┆                ┆ s              ┆               │\n",
       "└────────────────┴────────────────┴──────────────┴────────────────┴────────────────┴───────────────┘"
      ]
     },
     "execution_count": 3,
     "metadata": {},
     "output_type": "execute_result"
    }
   ],
   "source": [
    "pl.read_ndjson('../../../../data/SampleHDS.json')"
   ]
  },
  {
   "attachments": {},
   "cell_type": "markdown",
   "metadata": {},
   "source": [
    "As you can see, this dataset consists of regular predictors, IH predictors, context keys and the outcome column. Additionally, some columns are numeric, others are strings. Let's first initialize the DataAnonymization class."
   ]
  },
  {
   "cell_type": "code",
   "execution_count": 4,
   "metadata": {
    "execution": {
     "iopub.execute_input": "2023-07-25T14:43:13.216197Z",
     "iopub.status.busy": "2023-07-25T14:43:13.215952Z",
     "iopub.status.idle": "2023-07-25T14:43:13.226704Z",
     "shell.execute_reply": "2023-07-25T14:43:13.226063Z"
    }
   },
   "outputs": [],
   "source": [
    "anon = DataAnonymization(hds_folder='../../../../data/')"
   ]
  },
  {
   "attachments": {},
   "cell_type": "markdown",
   "metadata": {},
   "source": [
    "By default, the class applies a set of anonymisation techniques:\n",
    "- Column names are remapped to a non-descriptive name\n",
    "- Categorical values are hashed with a random seed\n",
    "- Numerical values are normalized between 0 and 1\n",
    "- Outcomes are mapped to a binary outcome.\n",
    "\n",
    "To apply these techniques, simply call `.process()`:"
   ]
  },
  {
   "cell_type": "code",
   "execution_count": 5,
   "metadata": {
    "execution": {
     "iopub.execute_input": "2023-07-25T14:43:13.229823Z",
     "iopub.status.busy": "2023-07-25T14:43:13.229589Z",
     "iopub.status.idle": "2023-07-25T14:43:13.238593Z",
     "shell.execute_reply": "2023-07-25T14:43:13.237057Z"
    }
   },
   "outputs": [
    {
     "data": {
      "text/html": [
       "<div><style>\n",
       ".dataframe > thead > tr > th,\n",
       ".dataframe > tbody > tr > td {\n",
       "  text-align: right;\n",
       "}\n",
       "</style>\n",
       "<small>shape: (7, 7)</small><table border=\"1\" class=\"dataframe\"><thead><tr><th>PREDICTOR_0</th><th>PREDICTOR_1</th><th>filename</th><th>PREDICTOR_3</th><th>Context_Name</th><th>IH_PREDICTOR_0</th><th>Decision_Outcome</th></tr><tr><td>f64</td><td>str</td><td>str</td><td>str</td><td>str</td><td>str</td><td>bool</td></tr></thead><tbody><tr><td>1.2927e19</td><td>&quot;16326606554602…</td><td>&quot;../../../../da…</td><td>&quot;69808131098037…</td><td>&quot;16148878945884…</td><td>&quot;13747558808755…</td><td>false</td></tr><tr><td>1.4856e19</td><td>&quot;10894232297879…</td><td>&quot;../../../../da…</td><td>&quot;54167904556947…</td><td>&quot;16148878945884…</td><td>&quot;81020533646508…</td><td>true</td></tr><tr><td>5.6458e17</td><td>&quot;65535505530279…</td><td>&quot;../../../../da…</td><td>&quot;10380689543412…</td><td>&quot;14685618251085…</td><td>&quot;13747558808755…</td><td>false</td></tr><tr><td>4.0723e18</td><td>&quot;75048678520548…</td><td>&quot;../../../../da…</td><td>&quot;54167904556947…</td><td>&quot;10893807971399…</td><td>&quot;13747558808755…</td><td>false</td></tr><tr><td>1.4677e19</td><td>&quot;10815269458870…</td><td>&quot;../../../../da…</td><td>&quot;69808131098037…</td><td>&quot;10893807971399…</td><td>&quot;11848394332720…</td><td>true</td></tr><tr><td>1.6330e19</td><td>&quot;13213212117438…</td><td>&quot;../../../../da…</td><td>&quot;10380689543412…</td><td>&quot;13556167894771…</td><td>null</td><td>false</td></tr><tr><td>8.7675e18</td><td>&quot;17930162555958…</td><td>&quot;../../../../da…</td><td>&quot;10380689543412…</td><td>&quot;10893807971399…</td><td>&quot;11848394332720…</td><td>false</td></tr></tbody></table></div>"
      ],
      "text/plain": [
       "shape: (7, 7)\n",
       "┌─────────────┬──────────────┬─────────────┬─────────────┬─────────────┬─────────────┬─────────────┐\n",
       "│ PREDICTOR_0 ┆ PREDICTOR_1  ┆ filename    ┆ PREDICTOR_3 ┆ Context_Nam ┆ IH_PREDICTO ┆ Decision_Ou │\n",
       "│ ---         ┆ ---          ┆ ---         ┆ ---         ┆ e           ┆ R_0         ┆ tcome       │\n",
       "│ f64         ┆ str          ┆ str         ┆ str         ┆ ---         ┆ ---         ┆ ---         │\n",
       "│             ┆              ┆             ┆             ┆ str         ┆ str         ┆ bool        │\n",
       "╞═════════════╪══════════════╪═════════════╪═════════════╪═════════════╪═════════════╪═════════════╡\n",
       "│ 1.2927e19   ┆ 163266065546 ┆ ../../../.. ┆ 69808131098 ┆ 16148878945 ┆ 13747558808 ┆ false       │\n",
       "│             ┆ 02720797     ┆ /data/Sampl ┆ 0375283     ┆ 884395110   ┆ 75519159    ┆             │\n",
       "│             ┆              ┆ eHDS.json   ┆             ┆             ┆             ┆             │\n",
       "│ 1.4856e19   ┆ 108942322978 ┆ ../../../.. ┆ 54167904556 ┆ 16148878945 ┆ 81020533646 ┆ true        │\n",
       "│             ┆ 79168125     ┆ /data/Sampl ┆ 94733825    ┆ 884395110   ┆ 50851809    ┆             │\n",
       "│             ┆              ┆ eHDS.json   ┆             ┆             ┆             ┆             │\n",
       "│ 5.6458e17   ┆ 655355055302 ┆ ../../../.. ┆ 10380689543 ┆ 14685618251 ┆ 13747558808 ┆ false       │\n",
       "│             ┆ 7900221      ┆ /data/Sampl ┆ 41288455    ┆ 085593136   ┆ 75519159    ┆             │\n",
       "│             ┆              ┆ eHDS.json   ┆             ┆             ┆             ┆             │\n",
       "│ 4.0723e18   ┆ 750486785205 ┆ ../../../.. ┆ 54167904556 ┆ 10893807971 ┆ 13747558808 ┆ false       │\n",
       "│             ┆ 4878489      ┆ /data/Sampl ┆ 94733825    ┆ 399509232   ┆ 75519159    ┆             │\n",
       "│             ┆              ┆ eHDS.json   ┆             ┆             ┆             ┆             │\n",
       "│ 1.4677e19   ┆ 108152694588 ┆ ../../../.. ┆ 69808131098 ┆ 10893807971 ┆ 11848394332 ┆ true        │\n",
       "│             ┆ 7033900      ┆ /data/Sampl ┆ 0375283     ┆ 399509232   ┆ 720737140   ┆             │\n",
       "│             ┆              ┆ eHDS.json   ┆             ┆             ┆             ┆             │\n",
       "│ 1.6330e19   ┆ 132132121174 ┆ ../../../.. ┆ 10380689543 ┆ 13556167894 ┆ null        ┆ false       │\n",
       "│             ┆ 38666669     ┆ /data/Sampl ┆ 41288455    ┆ 771892853   ┆             ┆             │\n",
       "│             ┆              ┆ eHDS.json   ┆             ┆             ┆             ┆             │\n",
       "│ 8.7675e18   ┆ 179301625559 ┆ ../../../.. ┆ 10380689543 ┆ 10893807971 ┆ 11848394332 ┆ false       │\n",
       "│             ┆ 58137892     ┆ /data/Sampl ┆ 41288455    ┆ 399509232   ┆ 720737140   ┆             │\n",
       "│             ┆              ┆ eHDS.json   ┆             ┆             ┆             ┆             │\n",
       "└─────────────┴──────────────┴─────────────┴─────────────┴─────────────┴─────────────┴─────────────┘"
      ]
     },
     "execution_count": 5,
     "metadata": {},
     "output_type": "execute_result"
    }
   ],
   "source": [
    "anon.process()"
   ]
  },
  {
   "attachments": {},
   "cell_type": "markdown",
   "metadata": {},
   "source": [
    "To trace back the columns to their original names, the class also contains a mapping, which does not have to be provided."
   ]
  },
  {
   "cell_type": "code",
   "execution_count": 6,
   "metadata": {
    "execution": {
     "iopub.execute_input": "2023-07-25T14:43:13.241453Z",
     "iopub.status.busy": "2023-07-25T14:43:13.241221Z",
     "iopub.status.idle": "2023-07-25T14:43:13.245853Z",
     "shell.execute_reply": "2023-07-25T14:43:13.245206Z"
    }
   },
   "outputs": [
    {
     "data": {
      "text/plain": [
       "{'Customer_CLV': 'PREDICTOR_0',\n",
       " 'Customer_City': 'PREDICTOR_1',\n",
       " 'filename': 'filename',\n",
       " 'Customer_MaritalStatus': 'PREDICTOR_3',\n",
       " 'Context_Name': 'Context_Name',\n",
       " 'IH_Web_Inbound_Accepted_pxLastGroupID': 'IH_PREDICTOR_0',\n",
       " 'Decision_Outcome': 'Decision_Outcome'}"
      ]
     },
     "execution_count": 6,
     "metadata": {},
     "output_type": "execute_result"
    }
   ],
   "source": [
    "anon.column_mapping"
   ]
  },
  {
   "attachments": {},
   "cell_type": "markdown",
   "metadata": {},
   "source": [
    "## Configs\n",
    "\n",
    "Each capability can optionally be turned off - see below for the full list of config options, and refer to the API reference for the full description."
   ]
  },
  {
   "cell_type": "code",
   "execution_count": 7,
   "metadata": {
    "execution": {
     "iopub.execute_input": "2023-07-25T14:43:13.249294Z",
     "iopub.status.busy": "2023-07-25T14:43:13.249075Z",
     "iopub.status.idle": "2023-07-25T14:43:13.254164Z",
     "shell.execute_reply": "2023-07-25T14:43:13.253509Z"
    }
   },
   "outputs": [
    {
     "data": {
      "text/plain": [
       "{'config_file': None,\n",
       " 'hds_folder': '.',\n",
       " 'use_datamart': False,\n",
       " 'datamart_folder': 'datamart',\n",
       " 'output_format': 'ndjson',\n",
       " 'output_folder': 'output',\n",
       " 'mapping_file': 'mapping.map',\n",
       " 'mask_predictor_names': True,\n",
       " 'mask_context_key_names': False,\n",
       " 'mask_ih_names': True,\n",
       " 'mask_outcome_name': False,\n",
       " 'mask_predictor_values': True,\n",
       " 'mask_context_key_values': True,\n",
       " 'mask_ih_values': True,\n",
       " 'mask_outcome_values': True,\n",
       " 'context_key_label': 'Context_*',\n",
       " 'ih_label': 'IH_*',\n",
       " 'outcome_column': 'Decision_Outcome',\n",
       " 'positive_outcomes': ['Accepted', 'Clicked'],\n",
       " 'negative_outcomes': ['Rejected', 'Impression'],\n",
       " 'special_predictors': ['Decision_DecisionTime',\n",
       "  'Decision_OutcomeTime',\n",
       "  'Decision_Rank'],\n",
       " 'sample_percentage_schema_inferencing': 0.01}"
      ]
     },
     "execution_count": 7,
     "metadata": {},
     "output_type": "execute_result"
    }
   ],
   "source": [
    "dict(zip(Config.__init__.__code__.co_varnames[1:], Config.__init__.__defaults__))"
   ]
  },
  {
   "attachments": {},
   "cell_type": "markdown",
   "metadata": {},
   "source": [
    "It's easy to change these parameters by just passing the keyword arguments. In the following example, we\n",
    "- Keep the IH predictor names\n",
    "- Keep the outcome values\n",
    "- Keep the context key values\n",
    "- Keep the context key predictor names"
   ]
  },
  {
   "cell_type": "code",
   "execution_count": 8,
   "metadata": {
    "execution": {
     "iopub.execute_input": "2023-07-25T14:43:13.258640Z",
     "iopub.status.busy": "2023-07-25T14:43:13.258414Z",
     "iopub.status.idle": "2023-07-25T14:43:13.271357Z",
     "shell.execute_reply": "2023-07-25T14:43:13.270699Z"
    }
   },
   "outputs": [
    {
     "data": {
      "text/html": [
       "<div><style>\n",
       ".dataframe > thead > tr > th,\n",
       ".dataframe > tbody > tr > td {\n",
       "  text-align: right;\n",
       "}\n",
       "</style>\n",
       "<small>shape: (7, 7)</small><table border=\"1\" class=\"dataframe\"><thead><tr><th>PREDICTOR_0</th><th>PREDICTOR_1</th><th>filename</th><th>PREDICTOR_3</th><th>Context_Name</th><th>IH_Web_Inbound_Accepted_pxLastGroupID</th><th>Decision_Outcome</th></tr><tr><td>f64</td><td>str</td><td>str</td><td>str</td><td>str</td><td>str</td><td>str</td></tr></thead><tbody><tr><td>1.2927e19</td><td>&quot;12674127417790…</td><td>&quot;../../../../da…</td><td>&quot;10525479500256…</td><td>&quot;FirstMortgage3…</td><td>&quot;60148436066776…</td><td>&quot;Rejected&quot;</td></tr><tr><td>1.4856e19</td><td>&quot;47281164881054…</td><td>&quot;../../../../da…</td><td>&quot;18174008791240…</td><td>&quot;FirstMortgage3…</td><td>&quot;82013432002092…</td><td>&quot;Accepted&quot;</td></tr><tr><td>5.6458e17</td><td>&quot;11164993895411…</td><td>&quot;../../../../da…</td><td>&quot;13912078629636…</td><td>&quot;MoneyMarketSav…</td><td>&quot;60148436066776…</td><td>&quot;Rejected&quot;</td></tr><tr><td>4.0723e18</td><td>&quot;10536464129096…</td><td>&quot;../../../../da…</td><td>&quot;18174008791240…</td><td>&quot;BasicChecking&quot;</td><td>&quot;60148436066776…</td><td>&quot;Rejected&quot;</td></tr><tr><td>1.4677e19</td><td>&quot;30166919412541…</td><td>&quot;../../../../da…</td><td>&quot;10525479500256…</td><td>&quot;BasicChecking&quot;</td><td>&quot;43517659467149…</td><td>&quot;Accepted&quot;</td></tr><tr><td>1.6330e19</td><td>&quot;17811250415843…</td><td>&quot;../../../../da…</td><td>&quot;13912078629636…</td><td>&quot;UPlusFinPerson…</td><td>null</td><td>&quot;Rejected&quot;</td></tr><tr><td>8.7675e18</td><td>&quot;80566578146808…</td><td>&quot;../../../../da…</td><td>&quot;13912078629636…</td><td>&quot;BasicChecking&quot;</td><td>&quot;43517659467149…</td><td>&quot;Rejected&quot;</td></tr></tbody></table></div>"
      ],
      "text/plain": [
       "shape: (7, 7)\n",
       "┌─────────────┬──────────────┬─────────────┬─────────────┬─────────────┬─────────────┬─────────────┐\n",
       "│ PREDICTOR_0 ┆ PREDICTOR_1  ┆ filename    ┆ PREDICTOR_3 ┆ Context_Nam ┆ IH_Web_Inbo ┆ Decision_Ou │\n",
       "│ ---         ┆ ---          ┆ ---         ┆ ---         ┆ e           ┆ und_Accepte ┆ tcome       │\n",
       "│ f64         ┆ str          ┆ str         ┆ str         ┆ ---         ┆ d_pxLastGr… ┆ ---         │\n",
       "│             ┆              ┆             ┆             ┆ str         ┆ ---         ┆ str         │\n",
       "│             ┆              ┆             ┆             ┆             ┆ str         ┆             │\n",
       "╞═════════════╪══════════════╪═════════════╪═════════════╪═════════════╪═════════════╪═════════════╡\n",
       "│ 1.2927e19   ┆ 126741274177 ┆ ../../../.. ┆ 10525479500 ┆ FirstMortga ┆ 60148436066 ┆ Rejected    │\n",
       "│             ┆ 90151449     ┆ /data/Sampl ┆ 256227330   ┆ ge30yr      ┆ 77604890    ┆             │\n",
       "│             ┆              ┆ eHDS.json   ┆             ┆             ┆             ┆             │\n",
       "│ 1.4856e19   ┆ 472811648810 ┆ ../../../.. ┆ 18174008791 ┆ FirstMortga ┆ 82013432002 ┆ Accepted    │\n",
       "│             ┆ 5487896      ┆ /data/Sampl ┆ 240668179   ┆ ge30yr      ┆ 09283595    ┆             │\n",
       "│             ┆              ┆ eHDS.json   ┆             ┆             ┆             ┆             │\n",
       "│ 5.6458e17   ┆ 111649938954 ┆ ../../../.. ┆ 13912078629 ┆ MoneyMarket ┆ 60148436066 ┆ Rejected    │\n",
       "│             ┆ 11468911     ┆ /data/Sampl ┆ 63601834    ┆ SavingsAcco ┆ 77604890    ┆             │\n",
       "│             ┆              ┆ eHDS.json   ┆             ┆ unt         ┆             ┆             │\n",
       "│ 4.0723e18   ┆ 105364641290 ┆ ../../../.. ┆ 18174008791 ┆ BasicChecki ┆ 60148436066 ┆ Rejected    │\n",
       "│             ┆ 96528031     ┆ /data/Sampl ┆ 240668179   ┆ ng          ┆ 77604890    ┆             │\n",
       "│             ┆              ┆ eHDS.json   ┆             ┆             ┆             ┆             │\n",
       "│ 1.4677e19   ┆ 301669194125 ┆ ../../../.. ┆ 10525479500 ┆ BasicChecki ┆ 43517659467 ┆ Accepted    │\n",
       "│             ┆ 4135324      ┆ /data/Sampl ┆ 256227330   ┆ ng          ┆ 14980093    ┆             │\n",
       "│             ┆              ┆ eHDS.json   ┆             ┆             ┆             ┆             │\n",
       "│ 1.6330e19   ┆ 178112504158 ┆ ../../../.. ┆ 13912078629 ┆ UPlusFinPer ┆ null        ┆ Rejected    │\n",
       "│             ┆ 43182258     ┆ /data/Sampl ┆ 63601834    ┆ sonal       ┆             ┆             │\n",
       "│             ┆              ┆ eHDS.json   ┆             ┆             ┆             ┆             │\n",
       "│ 8.7675e18   ┆ 805665781468 ┆ ../../../.. ┆ 13912078629 ┆ BasicChecki ┆ 43517659467 ┆ Rejected    │\n",
       "│             ┆ 086695       ┆ /data/Sampl ┆ 63601834    ┆ ng          ┆ 14980093    ┆             │\n",
       "│             ┆              ┆ eHDS.json   ┆             ┆             ┆             ┆             │\n",
       "└─────────────┴──────────────┴─────────────┴─────────────┴─────────────┴─────────────┴─────────────┘"
      ]
     },
     "execution_count": 8,
     "metadata": {},
     "output_type": "execute_result"
    }
   ],
   "source": [
    "anon = DataAnonymization(\n",
    "    hds_folder='../../../../data/',\n",
    "    mask_ih_names=False,\n",
    "    mask_outcome_values=False,\n",
    "    mask_context_key_values=False,\n",
    "    mask_context_key_names=False,\n",
    ")\n",
    "anon.process()\n"
   ]
  },
  {
   "attachments": {},
   "cell_type": "markdown",
   "metadata": {},
   "source": [
    "The configs can also be written and read as such:"
   ]
  },
  {
   "cell_type": "code",
   "execution_count": 9,
   "metadata": {
    "execution": {
     "iopub.execute_input": "2023-07-25T14:43:13.275314Z",
     "iopub.status.busy": "2023-07-25T14:43:13.275084Z",
     "iopub.status.idle": "2023-07-25T14:43:13.278317Z",
     "shell.execute_reply": "2023-07-25T14:43:13.277781Z"
    }
   },
   "outputs": [],
   "source": [
    "anon.config.save_to_config_file('config.json')"
   ]
  },
  {
   "cell_type": "code",
   "execution_count": 10,
   "metadata": {
    "execution": {
     "iopub.execute_input": "2023-07-25T14:43:13.280938Z",
     "iopub.status.busy": "2023-07-25T14:43:13.280571Z",
     "iopub.status.idle": "2023-07-25T14:43:13.292281Z",
     "shell.execute_reply": "2023-07-25T14:43:13.291772Z"
    }
   },
   "outputs": [
    {
     "data": {
      "text/html": [
       "<div><style>\n",
       ".dataframe > thead > tr > th,\n",
       ".dataframe > tbody > tr > td {\n",
       "  text-align: right;\n",
       "}\n",
       "</style>\n",
       "<small>shape: (7, 7)</small><table border=\"1\" class=\"dataframe\"><thead><tr><th>PREDICTOR_0</th><th>PREDICTOR_1</th><th>filename</th><th>PREDICTOR_3</th><th>Context_Name</th><th>IH_Web_Inbound_Accepted_pxLastGroupID</th><th>Decision_Outcome</th></tr><tr><td>f64</td><td>str</td><td>str</td><td>str</td><td>str</td><td>str</td><td>str</td></tr></thead><tbody><tr><td>1.2927e19</td><td>&quot;51022053017991…</td><td>&quot;../../../../da…</td><td>&quot;22908421515463…</td><td>&quot;FirstMortgage3…</td><td>&quot;11070735192924…</td><td>&quot;Rejected&quot;</td></tr><tr><td>1.4856e19</td><td>&quot;22509607729529…</td><td>&quot;../../../../da…</td><td>&quot;14913285745009…</td><td>&quot;FirstMortgage3…</td><td>&quot;87953045676512…</td><td>&quot;Accepted&quot;</td></tr><tr><td>5.6458e17</td><td>&quot;12741394156958…</td><td>&quot;../../../../da…</td><td>&quot;12791549990079…</td><td>&quot;MoneyMarketSav…</td><td>&quot;11070735192924…</td><td>&quot;Rejected&quot;</td></tr><tr><td>4.0723e18</td><td>&quot;19999555687832…</td><td>&quot;../../../../da…</td><td>&quot;14913285745009…</td><td>&quot;BasicChecking&quot;</td><td>&quot;11070735192924…</td><td>&quot;Rejected&quot;</td></tr><tr><td>1.4677e19</td><td>&quot;99378810782500…</td><td>&quot;../../../../da…</td><td>&quot;22908421515463…</td><td>&quot;BasicChecking&quot;</td><td>&quot;17413216099457…</td><td>&quot;Accepted&quot;</td></tr><tr><td>1.6330e19</td><td>&quot;18352496983341…</td><td>&quot;../../../../da…</td><td>&quot;12791549990079…</td><td>&quot;UPlusFinPerson…</td><td>null</td><td>&quot;Rejected&quot;</td></tr><tr><td>8.7675e18</td><td>&quot;16104359481884…</td><td>&quot;../../../../da…</td><td>&quot;12791549990079…</td><td>&quot;BasicChecking&quot;</td><td>&quot;17413216099457…</td><td>&quot;Rejected&quot;</td></tr></tbody></table></div>"
      ],
      "text/plain": [
       "shape: (7, 7)\n",
       "┌─────────────┬──────────────┬─────────────┬─────────────┬─────────────┬─────────────┬─────────────┐\n",
       "│ PREDICTOR_0 ┆ PREDICTOR_1  ┆ filename    ┆ PREDICTOR_3 ┆ Context_Nam ┆ IH_Web_Inbo ┆ Decision_Ou │\n",
       "│ ---         ┆ ---          ┆ ---         ┆ ---         ┆ e           ┆ und_Accepte ┆ tcome       │\n",
       "│ f64         ┆ str          ┆ str         ┆ str         ┆ ---         ┆ d_pxLastGr… ┆ ---         │\n",
       "│             ┆              ┆             ┆             ┆ str         ┆ ---         ┆ str         │\n",
       "│             ┆              ┆             ┆             ┆             ┆ str         ┆             │\n",
       "╞═════════════╪══════════════╪═════════════╪═════════════╪═════════════╪═════════════╪═════════════╡\n",
       "│ 1.2927e19   ┆ 510220530179 ┆ ../../../.. ┆ 22908421515 ┆ FirstMortga ┆ 11070735192 ┆ Rejected    │\n",
       "│             ┆ 912288       ┆ /data/Sampl ┆ 46339039    ┆ ge30yr      ┆ 924429147   ┆             │\n",
       "│             ┆              ┆ eHDS.json   ┆             ┆             ┆             ┆             │\n",
       "│ 1.4856e19   ┆ 225096077295 ┆ ../../../.. ┆ 14913285745 ┆ FirstMortga ┆ 87953045676 ┆ Accepted    │\n",
       "│             ┆ 2909150      ┆ /data/Sampl ┆ 009323413   ┆ ge30yr      ┆ 51227518    ┆             │\n",
       "│             ┆              ┆ eHDS.json   ┆             ┆             ┆             ┆             │\n",
       "│ 5.6458e17   ┆ 127413941569 ┆ ../../../.. ┆ 12791549990 ┆ MoneyMarket ┆ 11070735192 ┆ Rejected    │\n",
       "│             ┆ 58794099     ┆ /data/Sampl ┆ 079705753   ┆ SavingsAcco ┆ 924429147   ┆             │\n",
       "│             ┆              ┆ eHDS.json   ┆             ┆ unt         ┆             ┆             │\n",
       "│ 4.0723e18   ┆ 199995556878 ┆ ../../../.. ┆ 14913285745 ┆ BasicChecki ┆ 11070735192 ┆ Rejected    │\n",
       "│             ┆ 3215621      ┆ /data/Sampl ┆ 009323413   ┆ ng          ┆ 924429147   ┆             │\n",
       "│             ┆              ┆ eHDS.json   ┆             ┆             ┆             ┆             │\n",
       "│ 1.4677e19   ┆ 993788107825 ┆ ../../../.. ┆ 22908421515 ┆ BasicChecki ┆ 17413216099 ┆ Accepted    │\n",
       "│             ┆ 0000119      ┆ /data/Sampl ┆ 46339039    ┆ ng          ┆ 457417332   ┆             │\n",
       "│             ┆              ┆ eHDS.json   ┆             ┆             ┆             ┆             │\n",
       "│ 1.6330e19   ┆ 183524969833 ┆ ../../../.. ┆ 12791549990 ┆ UPlusFinPer ┆ null        ┆ Rejected    │\n",
       "│             ┆ 41793663     ┆ /data/Sampl ┆ 079705753   ┆ sonal       ┆             ┆             │\n",
       "│             ┆              ┆ eHDS.json   ┆             ┆             ┆             ┆             │\n",
       "│ 8.7675e18   ┆ 161043594818 ┆ ../../../.. ┆ 12791549990 ┆ BasicChecki ┆ 17413216099 ┆ Rejected    │\n",
       "│             ┆ 84893518     ┆ /data/Sampl ┆ 079705753   ┆ ng          ┆ 457417332   ┆             │\n",
       "│             ┆              ┆ eHDS.json   ┆             ┆             ┆             ┆             │\n",
       "└─────────────┴──────────────┴─────────────┴─────────────┴─────────────┴─────────────┴─────────────┘"
      ]
     },
     "execution_count": 10,
     "metadata": {},
     "output_type": "execute_result"
    }
   ],
   "source": [
    "anon = DataAnonymization(config=Config(config_file='config.json'))\n",
    "anon.process()"
   ]
  },
  {
   "attachments": {},
   "cell_type": "markdown",
   "metadata": {},
   "source": [
    "## Exporting\n",
    "Two functions export:\n",
    "- `create_mapping_file()` writes the mapping file of the predictor names\n",
    "- `write_to_output()` writes the processed dataframe to disk\n",
    "\n",
    "Write to output accepts the following extensions: `[\"ndjson\", \"parquet\", \"arrow\", \"csv\"]`"
   ]
  },
  {
   "cell_type": "code",
   "execution_count": 11,
   "metadata": {
    "execution": {
     "iopub.execute_input": "2023-07-25T14:43:13.294916Z",
     "iopub.status.busy": "2023-07-25T14:43:13.294589Z",
     "iopub.status.idle": "2023-07-25T14:43:13.298288Z",
     "shell.execute_reply": "2023-07-25T14:43:13.297817Z"
    }
   },
   "outputs": [
    {
     "name": "stdout",
     "output_type": "stream",
     "text": [
      "Customer_CLV=PREDICTOR_0\n",
      "Customer_City=PREDICTOR_1\n",
      "filename=filename\n",
      "Customer_MaritalStatus=PREDICTOR_3\n",
      "Context_Name=Context_Name\n",
      "IH_Web_Inbound_Accepted_pxLastGroupID=IH_Web_Inbound_Accepted_pxLastGroupID\n",
      "Decision_Outcome=Decision_Outcome\n",
      "\n"
     ]
    }
   ],
   "source": [
    "anon.create_mapping_file()\n",
    "with open('mapping.map') as f:\n",
    "    print(f.read())"
   ]
  },
  {
   "cell_type": "code",
   "execution_count": 12,
   "metadata": {
    "execution": {
     "iopub.execute_input": "2023-07-25T14:43:13.300682Z",
     "iopub.status.busy": "2023-07-25T14:43:13.300341Z",
     "iopub.status.idle": "2023-07-25T14:43:13.304948Z",
     "shell.execute_reply": "2023-07-25T14:43:13.304427Z"
    }
   },
   "outputs": [],
   "source": [
    "anon.write_to_output(ext='arrow')"
   ]
  },
  {
   "cell_type": "code",
   "execution_count": 13,
   "metadata": {
    "execution": {
     "iopub.execute_input": "2023-07-25T14:43:13.307530Z",
     "iopub.status.busy": "2023-07-25T14:43:13.307186Z",
     "iopub.status.idle": "2023-07-25T14:43:13.312363Z",
     "shell.execute_reply": "2023-07-25T14:43:13.311861Z"
    }
   },
   "outputs": [
    {
     "data": {
      "text/html": [
       "<div><style>\n",
       ".dataframe > thead > tr > th,\n",
       ".dataframe > tbody > tr > td {\n",
       "  text-align: right;\n",
       "}\n",
       "</style>\n",
       "<small>shape: (7, 6)</small><table border=\"1\" class=\"dataframe\"><thead><tr><th>PREDICTOR_0</th><th>PREDICTOR_1</th><th>PREDICTOR_3</th><th>Context_Name</th><th>IH_Web_Inbound_Accepted_pxLastGroupID</th><th>Decision_Outcome</th></tr><tr><td>f64</td><td>str</td><td>str</td><td>str</td><td>str</td><td>str</td></tr></thead><tbody><tr><td>1.2927e19</td><td>&quot;15500537363418…</td><td>&quot;61553610260354…</td><td>&quot;FirstMortgage3…</td><td>&quot;14608685220174…</td><td>&quot;Rejected&quot;</td></tr><tr><td>1.4856e19</td><td>&quot;16760113396886…</td><td>&quot;18275864373165…</td><td>&quot;FirstMortgage3…</td><td>&quot;28880109595722…</td><td>&quot;Accepted&quot;</td></tr><tr><td>5.6458e17</td><td>&quot;83743029975003…</td><td>&quot;34085234642677…</td><td>&quot;MoneyMarketSav…</td><td>&quot;14608685220174…</td><td>&quot;Rejected&quot;</td></tr><tr><td>4.0723e18</td><td>&quot;94639722361197…</td><td>&quot;18275864373165…</td><td>&quot;BasicChecking&quot;</td><td>&quot;14608685220174…</td><td>&quot;Rejected&quot;</td></tr><tr><td>1.4677e19</td><td>&quot;18041475748479…</td><td>&quot;61553610260354…</td><td>&quot;BasicChecking&quot;</td><td>&quot;17516838261600…</td><td>&quot;Accepted&quot;</td></tr><tr><td>1.6330e19</td><td>&quot;20877775560059…</td><td>&quot;34085234642677…</td><td>&quot;UPlusFinPerson…</td><td>null</td><td>&quot;Rejected&quot;</td></tr><tr><td>8.7675e18</td><td>&quot;17211437483383…</td><td>&quot;34085234642677…</td><td>&quot;BasicChecking&quot;</td><td>&quot;17516838261600…</td><td>&quot;Rejected&quot;</td></tr></tbody></table></div>"
      ],
      "text/plain": [
       "shape: (7, 6)\n",
       "┌─────────────┬────────────────┬────────────────┬────────────────┬────────────────┬────────────────┐\n",
       "│ PREDICTOR_0 ┆ PREDICTOR_1    ┆ PREDICTOR_3    ┆ Context_Name   ┆ IH_Web_Inbound ┆ Decision_Outco │\n",
       "│ ---         ┆ ---            ┆ ---            ┆ ---            ┆ _Accepted_pxLa ┆ me             │\n",
       "│ f64         ┆ str            ┆ str            ┆ str            ┆ stGr…          ┆ ---            │\n",
       "│             ┆                ┆                ┆                ┆ ---            ┆ str            │\n",
       "│             ┆                ┆                ┆                ┆ str            ┆                │\n",
       "╞═════════════╪════════════════╪════════════════╪════════════════╪════════════════╪════════════════╡\n",
       "│ 1.2927e19   ┆ 15500537363418 ┆ 61553610260354 ┆ FirstMortgage3 ┆ 14608685220174 ┆ Rejected       │\n",
       "│             ┆ 067387         ┆ 51296          ┆ 0yr            ┆ 978055         ┆                │\n",
       "│ 1.4856e19   ┆ 16760113396886 ┆ 18275864373165 ┆ FirstMortgage3 ┆ 28880109595722 ┆ Accepted       │\n",
       "│             ┆ 456605         ┆ 902883         ┆ 0yr            ┆ 00344          ┆                │\n",
       "│ 5.6458e17   ┆ 83743029975003 ┆ 34085234642677 ┆ MoneyMarketSav ┆ 14608685220174 ┆ Rejected       │\n",
       "│             ┆ 3612           ┆ 74754          ┆ ingsAccount    ┆ 978055         ┆                │\n",
       "│ 4.0723e18   ┆ 94639722361197 ┆ 18275864373165 ┆ BasicChecking  ┆ 14608685220174 ┆ Rejected       │\n",
       "│             ┆ 5029           ┆ 902883         ┆                ┆ 978055         ┆                │\n",
       "│ 1.4677e19   ┆ 18041475748479 ┆ 61553610260354 ┆ BasicChecking  ┆ 17516838261600 ┆ Accepted       │\n",
       "│             ┆ 46347          ┆ 51296          ┆                ┆ 686630         ┆                │\n",
       "│ 1.6330e19   ┆ 20877775560059 ┆ 34085234642677 ┆ UPlusFinPerson ┆ null           ┆ Rejected       │\n",
       "│             ┆ 01960          ┆ 74754          ┆ al             ┆                ┆                │\n",
       "│ 8.7675e18   ┆ 17211437483383 ┆ 34085234642677 ┆ BasicChecking  ┆ 17516838261600 ┆ Rejected       │\n",
       "│             ┆ 263529         ┆ 74754          ┆                ┆ 686630         ┆                │\n",
       "└─────────────┴────────────────┴────────────────┴────────────────┴────────────────┴────────────────┘"
      ]
     },
     "execution_count": 13,
     "metadata": {},
     "output_type": "execute_result"
    }
   ],
   "source": [
    "pl.read_ipc('output/hds.arrow')"
   ]
  },
  {
   "attachments": {},
   "cell_type": "markdown",
   "metadata": {},
   "source": [
    "## Advanced: Hash fuctions\n",
    "\n",
    "By default, we use [the same hashing algorithm Polars](https://pola-rs.github.io/polars/py-polars/html/reference/expressions/api/polars.Expr.hash.html#polars.Expr.hash) uses: [xxhash](https://github.com/Cyan4973/xxHash), as implemented [here](https://github.com/pola-rs/polars/blob/3f287f370b3c388ed2f3f218b2c096382548136f/polars/polars-core/src/vector_hasher.rs#L266). xxhash is fast to compute, and you can check its performance in collision, dispersion and randomness [here](https://github.com/Cyan4973/xxHash/tree/dev/tests). \n",
    "\n",
    "xxhash accepts four distinct seeds, but by default we set the seeds to `0`. It is possible to set the `seed` argument of the `process()` function to `'random'`, which will set all four seeds to a random integer between `0` and `1000000000`. Alternatively, it is possible to supply the four seeds manually with arguments `seed`, `seed_1`, `seed_2` and `seed_3`. \n",
    "\n",
    "If the xxhash with (random) seed(s) is not deemed sufficiently secure, it is possible to use your own hashing algorithm.\n",
    "\n",
    "Note that since we're now running python code and not native Polars code anymore, this will be _significantly_ slower. Nonetheless, it is possible.\n",
    "\n",
    "Just as an example - this is how one would use sha3_256:"
   ]
  },
  {
   "cell_type": "code",
   "execution_count": 14,
   "metadata": {
    "execution": {
     "iopub.execute_input": "2023-07-25T14:43:13.314963Z",
     "iopub.status.busy": "2023-07-25T14:43:13.314622Z",
     "iopub.status.idle": "2023-07-25T14:43:13.727637Z",
     "shell.execute_reply": "2023-07-25T14:43:13.726864Z"
    }
   },
   "outputs": [
    {
     "ename": "ComputeError",
     "evalue": "AttributeError: 'int' object has no attribute 'encode'",
     "output_type": "error",
     "traceback": [
      "\u001b[0;31m---------------------------------------------------------------------------\u001b[0m",
      "\u001b[0;31mComputeError\u001b[0m                              Traceback (most recent call last)",
      "Cell \u001b[0;32mIn[14], line 3\u001b[0m\n\u001b[1;32m      1\u001b[0m \u001b[38;5;28;01mfrom\u001b[39;00m \u001b[38;5;21;01mhashlib\u001b[39;00m \u001b[38;5;28;01mimport\u001b[39;00m sha3_256\n\u001b[0;32m----> 3\u001b[0m \u001b[43manon\u001b[49m\u001b[38;5;241;43m.\u001b[39;49m\u001b[43mprocess\u001b[49m\u001b[43m(\u001b[49m\u001b[43malgorithm\u001b[49m\u001b[38;5;241;43m=\u001b[39;49m\u001b[38;5;28;43;01mlambda\u001b[39;49;00m\u001b[43m \u001b[49m\u001b[43mx\u001b[49m\u001b[43m:\u001b[49m\u001b[43m \u001b[49m\u001b[43msha3_256\u001b[49m\u001b[43m(\u001b[49m\u001b[43mx\u001b[49m\u001b[38;5;241;43m.\u001b[39;49m\u001b[43mencode\u001b[49m\u001b[43m(\u001b[49m\u001b[43m)\u001b[49m\u001b[43m)\u001b[49m\u001b[38;5;241;43m.\u001b[39;49m\u001b[43mhexdigest\u001b[49m\u001b[43m(\u001b[49m\u001b[43m)\u001b[49m\u001b[43m)\u001b[49m\n",
      "File \u001b[0;32m~/work/pega-datascientist-tools/pega-datascientist-tools/python/docs/source/articles/../../../pdstools/utils/hds_utils.py:516\u001b[0m, in \u001b[0;36mDataAnonymization.process\u001b[0;34m(self, strategy, **kwargs)\u001b[0m\n\u001b[1;32m    514\u001b[0m df \u001b[38;5;241m=\u001b[39m df\u001b[38;5;241m.\u001b[39mselect(\u001b[38;5;28mself\u001b[39m\u001b[38;5;241m.\u001b[39mcolumn_mapping\u001b[38;5;241m.\u001b[39mkeys())\u001b[38;5;241m.\u001b[39mrename(\u001b[38;5;28mself\u001b[39m\u001b[38;5;241m.\u001b[39mcolumn_mapping)\n\u001b[1;32m    515\u001b[0m \u001b[38;5;28;01mif\u001b[39;00m strategy \u001b[38;5;241m==\u001b[39m \u001b[38;5;124m\"\u001b[39m\u001b[38;5;124meager\u001b[39m\u001b[38;5;124m\"\u001b[39m:\n\u001b[0;32m--> 516\u001b[0m     \u001b[38;5;28;01mreturn\u001b[39;00m \u001b[43mdf\u001b[49m\u001b[38;5;241;43m.\u001b[39;49m\u001b[43mcollect\u001b[49m\u001b[43m(\u001b[49m\u001b[43m)\u001b[49m\n\u001b[1;32m    517\u001b[0m \u001b[38;5;28;01mreturn\u001b[39;00m df\n",
      "File \u001b[0;32m/opt/hostedtoolcache/Python/3.11.4/x64/lib/python3.11/site-packages/polars/lazyframe/frame.py:1530\u001b[0m, in \u001b[0;36mLazyFrame.collect\u001b[0;34m(self, type_coercion, predicate_pushdown, projection_pushdown, simplify_expression, no_optimization, slice_pushdown, common_subplan_elimination, streaming)\u001b[0m\n\u001b[1;32m   1519\u001b[0m     common_subplan_elimination \u001b[38;5;241m=\u001b[39m \u001b[38;5;28;01mFalse\u001b[39;00m\n\u001b[1;32m   1521\u001b[0m ldf \u001b[38;5;241m=\u001b[39m \u001b[38;5;28mself\u001b[39m\u001b[38;5;241m.\u001b[39m_ldf\u001b[38;5;241m.\u001b[39moptimization_toggle(\n\u001b[1;32m   1522\u001b[0m     type_coercion,\n\u001b[1;32m   1523\u001b[0m     predicate_pushdown,\n\u001b[0;32m   (...)\u001b[0m\n\u001b[1;32m   1528\u001b[0m     streaming,\n\u001b[1;32m   1529\u001b[0m )\n\u001b[0;32m-> 1530\u001b[0m \u001b[38;5;28;01mreturn\u001b[39;00m wrap_df(ldf\u001b[38;5;241m.\u001b[39mcollect())\n",
      "\u001b[0;31mComputeError\u001b[0m: AttributeError: 'int' object has no attribute 'encode'"
     ]
    }
   ],
   "source": [
    "from hashlib import sha3_256\n",
    "\n",
    "anon.process(algorithm=lambda x: sha3_256(x.encode()).hexdigest())"
   ]
  }
 ],
 "metadata": {
  "kernelspec": {
   "display_name": "Python 3",
   "language": "python",
   "name": "python3"
  },
  "language_info": {
   "codemirror_mode": {
    "name": "ipython",
    "version": 3
   },
   "file_extension": ".py",
   "mimetype": "text/x-python",
   "name": "python",
   "nbconvert_exporter": "python",
   "pygments_lexer": "ipython3",
   "version": "3.11.4"
  },
  "vscode": {
   "interpreter": {
    "hash": "aee8b7b246df8f9039afb4144a1f6fd8d2ca17a180786b69acc140d282b71a49"
   }
  }
 },
 "nbformat": 4,
 "nbformat_minor": 2
}
