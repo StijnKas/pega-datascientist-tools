{
 "cells": [
  {
   "attachments": {},
   "cell_type": "markdown",
   "metadata": {},
   "source": [
    "# Data Anonymization\n",
    "\n",
    "In Pega CDH 8.5 and up, it's now possible to record the historical data as seen by the Adaptive Models. See [this academy challenge](https://academy.pega.com/challenge/exporting-historical-data/v4) for reference. This historical data can be further used to experiment with offline models, but also to fine-tune the OOTB Gradient Boosting model. However, sharing this information with Pega can be sensitive as it contains raw predictor data. \n",
    "\n",
    "To this end, we provide a simple and transparent script to fully anonimize this dataset.\n",
    "\n",
    "The DataAnonymization script is now part of pdstools, and you can import it directly as such."
   ]
  },
  {
   "cell_type": "code",
   "execution_count": 1,
   "metadata": {
    "execution": {
     "iopub.execute_input": "2024-06-27T08:57:56.255622Z",
     "iopub.status.busy": "2024-06-27T08:57:56.255459Z",
     "iopub.status.idle": "2024-06-27T08:57:56.326947Z",
     "shell.execute_reply": "2024-06-27T08:57:56.326423Z"
    },
    "nbsphinx": "hidden"
   },
   "outputs": [],
   "source": [
    "# These lines are only for rendering in the docs, and are hidden through Jupyter tags\n",
    "# Do not run if you're running the notebook seperately\n",
    "\n",
    "import os  \n",
    "import sys\n",
    "import plotly.io as pio\n",
    "pio.renderers.default = \"notebook_connected\"\n",
    "\n",
    "sys.path.append(\"../../../\")\n",
    "sys.path.append('../../python')"
   ]
  },
  {
   "cell_type": "code",
   "execution_count": 2,
   "metadata": {
    "execution": {
     "iopub.execute_input": "2024-06-27T08:57:56.329246Z",
     "iopub.status.busy": "2024-06-27T08:57:56.328780Z",
     "iopub.status.idle": "2024-06-27T08:57:57.405300Z",
     "shell.execute_reply": "2024-06-27T08:57:57.404795Z"
    }
   },
   "outputs": [],
   "source": [
    "from pdstools import ADMDatamart\n",
    "from pdstools import Config, DataAnonymization\n",
    "import polars as pl"
   ]
  },
  {
   "attachments": {},
   "cell_type": "markdown",
   "metadata": {},
   "source": [
    "## Input data\n",
    "\n",
    "To demonstrate this process, we're going to anonymise this toy example dataframe:"
   ]
  },
  {
   "cell_type": "code",
   "execution_count": 3,
   "metadata": {
    "execution": {
     "iopub.execute_input": "2024-06-27T08:57:57.407943Z",
     "iopub.status.busy": "2024-06-27T08:57:57.407495Z",
     "iopub.status.idle": "2024-06-27T08:57:57.415984Z",
     "shell.execute_reply": "2024-06-27T08:57:57.415429Z"
    }
   },
   "outputs": [
    {
     "data": {
      "text/html": [
       "<div><style>\n",
       ".dataframe > thead > tr,\n",
       ".dataframe > tbody > tr {\n",
       "  text-align: right;\n",
       "  white-space: pre-wrap;\n",
       "}\n",
       "</style>\n",
       "<small>shape: (7, 6)</small><table border=\"1\" class=\"dataframe\"><thead><tr><th>Context_Name</th><th>Customer_MaritalStatus</th><th>Customer_CLV</th><th>Customer_City</th><th>IH_Web_Inbound_Accepted_pxLastGroupID</th><th>Decision_Outcome</th></tr><tr><td>str</td><td>str</td><td>i64</td><td>str</td><td>str</td><td>str</td></tr></thead><tbody><tr><td>&quot;FirstMortgage30yr&quot;</td><td>&quot;Married&quot;</td><td>1460</td><td>&quot;Port Raoul&quot;</td><td>&quot;Account&quot;</td><td>&quot;Rejected&quot;</td></tr><tr><td>&quot;FirstMortgage30yr&quot;</td><td>&quot;Unknown&quot;</td><td>669</td><td>&quot;Laurianneshire&quot;</td><td>&quot;AutoLoans&quot;</td><td>&quot;Accepted&quot;</td></tr><tr><td>&quot;MoneyMarketSavingsAccount&quot;</td><td>&quot;No Resp+&quot;</td><td>1174</td><td>&quot;Jacobshaven&quot;</td><td>&quot;Account&quot;</td><td>&quot;Rejected&quot;</td></tr><tr><td>&quot;BasicChecking&quot;</td><td>&quot;Unknown&quot;</td><td>1476</td><td>&quot;Lindton&quot;</td><td>&quot;Account&quot;</td><td>&quot;Rejected&quot;</td></tr><tr><td>&quot;BasicChecking&quot;</td><td>&quot;Married&quot;</td><td>1211</td><td>&quot;South Jimmieshire&quot;</td><td>&quot;DepositAccounts&quot;</td><td>&quot;Accepted&quot;</td></tr><tr><td>&quot;UPlusFinPersonal&quot;</td><td>&quot;No Resp+&quot;</td><td>533</td><td>&quot;Bergeville&quot;</td><td>null</td><td>&quot;Rejected&quot;</td></tr><tr><td>&quot;BasicChecking&quot;</td><td>&quot;No Resp+&quot;</td><td>555</td><td>&quot;Willyville&quot;</td><td>&quot;DepositAccounts&quot;</td><td>&quot;Rejected&quot;</td></tr></tbody></table></div>"
      ],
      "text/plain": [
       "shape: (7, 6)\n",
       "┌────────────────┬────────────────┬──────────────┬────────────────┬────────────────┬───────────────┐\n",
       "│ Context_Name   ┆ Customer_Marit ┆ Customer_CLV ┆ Customer_City  ┆ IH_Web_Inbound ┆ Decision_Outc │\n",
       "│ ---            ┆ alStatus       ┆ ---          ┆ ---            ┆ _Accepted_pxLa ┆ ome           │\n",
       "│ str            ┆ ---            ┆ i64          ┆ str            ┆ st…            ┆ ---           │\n",
       "│                ┆ str            ┆              ┆                ┆ ---            ┆ str           │\n",
       "│                ┆                ┆              ┆                ┆ str            ┆               │\n",
       "╞════════════════╪════════════════╪══════════════╪════════════════╪════════════════╪═══════════════╡\n",
       "│ FirstMortgage3 ┆ Married        ┆ 1460         ┆ Port Raoul     ┆ Account        ┆ Rejected      │\n",
       "│ 0yr            ┆                ┆              ┆                ┆                ┆               │\n",
       "│ FirstMortgage3 ┆ Unknown        ┆ 669          ┆ Laurianneshire ┆ AutoLoans      ┆ Accepted      │\n",
       "│ 0yr            ┆                ┆              ┆                ┆                ┆               │\n",
       "│ MoneyMarketSav ┆ No Resp+       ┆ 1174         ┆ Jacobshaven    ┆ Account        ┆ Rejected      │\n",
       "│ ingsAccount    ┆                ┆              ┆                ┆                ┆               │\n",
       "│ BasicChecking  ┆ Unknown        ┆ 1476         ┆ Lindton        ┆ Account        ┆ Rejected      │\n",
       "│ BasicChecking  ┆ Married        ┆ 1211         ┆ South          ┆ DepositAccount ┆ Accepted      │\n",
       "│                ┆                ┆              ┆ Jimmieshire    ┆ s              ┆               │\n",
       "│ UPlusFinPerson ┆ No Resp+       ┆ 533          ┆ Bergeville     ┆ null           ┆ Rejected      │\n",
       "│ al             ┆                ┆              ┆                ┆                ┆               │\n",
       "│ BasicChecking  ┆ No Resp+       ┆ 555          ┆ Willyville     ┆ DepositAccount ┆ Rejected      │\n",
       "│                ┆                ┆              ┆                ┆ s              ┆               │\n",
       "└────────────────┴────────────────┴──────────────┴────────────────┴────────────────┴───────────────┘"
      ]
     },
     "execution_count": 3,
     "metadata": {},
     "output_type": "execute_result"
    }
   ],
   "source": [
    "pl.read_ndjson('../../../../data/SampleHDS.json')"
   ]
  },
  {
   "attachments": {},
   "cell_type": "markdown",
   "metadata": {},
   "source": [
    "As you can see, this dataset consists of regular predictors, IH predictors, context keys and the outcome column. Additionally, some columns are numeric, others are strings. Let's first initialize the DataAnonymization class."
   ]
  },
  {
   "cell_type": "code",
   "execution_count": 4,
   "metadata": {
    "execution": {
     "iopub.execute_input": "2024-06-27T08:57:57.418149Z",
     "iopub.status.busy": "2024-06-27T08:57:57.417848Z",
     "iopub.status.idle": "2024-06-27T08:57:57.427436Z",
     "shell.execute_reply": "2024-06-27T08:57:57.426888Z"
    }
   },
   "outputs": [],
   "source": [
    "anon = DataAnonymization(hds_folder='../../../../data/')"
   ]
  },
  {
   "attachments": {},
   "cell_type": "markdown",
   "metadata": {},
   "source": [
    "By default, the class applies a set of anonymisation techniques:\n",
    "- Column names are remapped to a non-descriptive name\n",
    "- Categorical values are hashed with a random seed\n",
    "- Numerical values are normalized between 0 and 1\n",
    "- Outcomes are mapped to a binary outcome.\n",
    "\n",
    "To apply these techniques, simply call `.process()`:"
   ]
  },
  {
   "cell_type": "code",
   "execution_count": 5,
   "metadata": {
    "execution": {
     "iopub.execute_input": "2024-06-27T08:57:57.429680Z",
     "iopub.status.busy": "2024-06-27T08:57:57.429352Z",
     "iopub.status.idle": "2024-06-27T08:57:57.434588Z",
     "shell.execute_reply": "2024-06-27T08:57:57.434120Z"
    }
   },
   "outputs": [
    {
     "data": {
      "text/html": [
       "<div><style>\n",
       ".dataframe > thead > tr,\n",
       ".dataframe > tbody > tr {\n",
       "  text-align: right;\n",
       "  white-space: pre-wrap;\n",
       "}\n",
       "</style>\n",
       "<small>shape: (7, 7)</small><table border=\"1\" class=\"dataframe\"><thead><tr><th>PREDICTOR_0</th><th>filename</th><th>PREDICTOR_2</th><th>PREDICTOR_3</th><th>Context_Name</th><th>IH_PREDICTOR_0</th><th>Decision_Outcome</th></tr><tr><td>f64</td><td>str</td><td>str</td><td>str</td><td>str</td><td>str</td><td>bool</td></tr></thead><tbody><tr><td>1.2167e18</td><td>&quot;../../../../data/SampleHDS.jso…</td><td>&quot;6147846389658722553&quot;</td><td>&quot;2288875718529266449&quot;</td><td>&quot;4249663721192810638&quot;</td><td>&quot;10229436525961356759&quot;</td><td>false</td></tr><tr><td>8.4508e18</td><td>&quot;../../../../data/SampleHDS.jso…</td><td>&quot;9546562836500446922&quot;</td><td>&quot;1384965645898912072&quot;</td><td>&quot;4249663721192810638&quot;</td><td>&quot;17317120373498427018&quot;</td><td>true</td></tr><tr><td>1.7675e19</td><td>&quot;../../../../data/SampleHDS.jso…</td><td>&quot;1421966280809475974&quot;</td><td>&quot;17904252642100228159&quot;</td><td>&quot;2440746720503869809&quot;</td><td>&quot;10229436525961356759&quot;</td><td>false</td></tr><tr><td>9.0321e18</td><td>&quot;../../../../data/SampleHDS.jso…</td><td>&quot;9546562836500446922&quot;</td><td>&quot;13125856642762912113&quot;</td><td>&quot;14674378938643070016&quot;</td><td>&quot;10229436525961356759&quot;</td><td>false</td></tr><tr><td>2.3087e18</td><td>&quot;../../../../data/SampleHDS.jso…</td><td>&quot;6147846389658722553&quot;</td><td>&quot;4452067448264920949&quot;</td><td>&quot;14674378938643070016&quot;</td><td>&quot;15987834086564834453&quot;</td><td>true</td></tr><tr><td>1.4344e19</td><td>&quot;../../../../data/SampleHDS.jso…</td><td>&quot;1421966280809475974&quot;</td><td>&quot;11369660024816883368&quot;</td><td>&quot;15823670710176640254&quot;</td><td>null</td><td>false</td></tr><tr><td>1.6626e19</td><td>&quot;../../../../data/SampleHDS.jso…</td><td>&quot;1421966280809475974&quot;</td><td>&quot;16332345803428636889&quot;</td><td>&quot;14674378938643070016&quot;</td><td>&quot;15987834086564834453&quot;</td><td>false</td></tr></tbody></table></div>"
      ],
      "text/plain": [
       "shape: (7, 7)\n",
       "┌─────────────┬──────────────┬─────────────┬─────────────┬─────────────┬─────────────┬─────────────┐\n",
       "│ PREDICTOR_0 ┆ filename     ┆ PREDICTOR_2 ┆ PREDICTOR_3 ┆ Context_Nam ┆ IH_PREDICTO ┆ Decision_Ou │\n",
       "│ ---         ┆ ---          ┆ ---         ┆ ---         ┆ e           ┆ R_0         ┆ tcome       │\n",
       "│ f64         ┆ str          ┆ str         ┆ str         ┆ ---         ┆ ---         ┆ ---         │\n",
       "│             ┆              ┆             ┆             ┆ str         ┆ str         ┆ bool        │\n",
       "╞═════════════╪══════════════╪═════════════╪═════════════╪═════════════╪═════════════╪═════════════╡\n",
       "│ 1.2167e18   ┆ ../../../../ ┆ 61478463896 ┆ 22888757185 ┆ 42496637211 ┆ 10229436525 ┆ false       │\n",
       "│             ┆ data/SampleH ┆ 58722553    ┆ 29266449    ┆ 92810638    ┆ 961356759   ┆             │\n",
       "│             ┆ DS.jso…      ┆             ┆             ┆             ┆             ┆             │\n",
       "│ 8.4508e18   ┆ ../../../../ ┆ 95465628365 ┆ 13849656458 ┆ 42496637211 ┆ 17317120373 ┆ true        │\n",
       "│             ┆ data/SampleH ┆ 00446922    ┆ 98912072    ┆ 92810638    ┆ 498427018   ┆             │\n",
       "│             ┆ DS.jso…      ┆             ┆             ┆             ┆             ┆             │\n",
       "│ 1.7675e19   ┆ ../../../../ ┆ 14219662808 ┆ 17904252642 ┆ 24407467205 ┆ 10229436525 ┆ false       │\n",
       "│             ┆ data/SampleH ┆ 09475974    ┆ 100228159   ┆ 03869809    ┆ 961356759   ┆             │\n",
       "│             ┆ DS.jso…      ┆             ┆             ┆             ┆             ┆             │\n",
       "│ 9.0321e18   ┆ ../../../../ ┆ 95465628365 ┆ 13125856642 ┆ 14674378938 ┆ 10229436525 ┆ false       │\n",
       "│             ┆ data/SampleH ┆ 00446922    ┆ 762912113   ┆ 643070016   ┆ 961356759   ┆             │\n",
       "│             ┆ DS.jso…      ┆             ┆             ┆             ┆             ┆             │\n",
       "│ 2.3087e18   ┆ ../../../../ ┆ 61478463896 ┆ 44520674482 ┆ 14674378938 ┆ 15987834086 ┆ true        │\n",
       "│             ┆ data/SampleH ┆ 58722553    ┆ 64920949    ┆ 643070016   ┆ 564834453   ┆             │\n",
       "│             ┆ DS.jso…      ┆             ┆             ┆             ┆             ┆             │\n",
       "│ 1.4344e19   ┆ ../../../../ ┆ 14219662808 ┆ 11369660024 ┆ 15823670710 ┆ null        ┆ false       │\n",
       "│             ┆ data/SampleH ┆ 09475974    ┆ 816883368   ┆ 176640254   ┆             ┆             │\n",
       "│             ┆ DS.jso…      ┆             ┆             ┆             ┆             ┆             │\n",
       "│ 1.6626e19   ┆ ../../../../ ┆ 14219662808 ┆ 16332345803 ┆ 14674378938 ┆ 15987834086 ┆ false       │\n",
       "│             ┆ data/SampleH ┆ 09475974    ┆ 428636889   ┆ 643070016   ┆ 564834453   ┆             │\n",
       "│             ┆ DS.jso…      ┆             ┆             ┆             ┆             ┆             │\n",
       "└─────────────┴──────────────┴─────────────┴─────────────┴─────────────┴─────────────┴─────────────┘"
      ]
     },
     "execution_count": 5,
     "metadata": {},
     "output_type": "execute_result"
    }
   ],
   "source": [
    "anon.process()"
   ]
  },
  {
   "attachments": {},
   "cell_type": "markdown",
   "metadata": {},
   "source": [
    "To trace back the columns to their original names, the class also contains a mapping, which does not have to be provided."
   ]
  },
  {
   "cell_type": "code",
   "execution_count": 6,
   "metadata": {
    "execution": {
     "iopub.execute_input": "2024-06-27T08:57:57.436615Z",
     "iopub.status.busy": "2024-06-27T08:57:57.436282Z",
     "iopub.status.idle": "2024-06-27T08:57:57.440008Z",
     "shell.execute_reply": "2024-06-27T08:57:57.439554Z"
    }
   },
   "outputs": [
    {
     "data": {
      "text/plain": [
       "{'Customer_CLV': 'PREDICTOR_0',\n",
       " 'filename': 'filename',\n",
       " 'Customer_MaritalStatus': 'PREDICTOR_2',\n",
       " 'Customer_City': 'PREDICTOR_3',\n",
       " 'Context_Name': 'Context_Name',\n",
       " 'IH_Web_Inbound_Accepted_pxLastGroupID': 'IH_PREDICTOR_0',\n",
       " 'Decision_Outcome': 'Decision_Outcome'}"
      ]
     },
     "execution_count": 6,
     "metadata": {},
     "output_type": "execute_result"
    }
   ],
   "source": [
    "anon.column_mapping"
   ]
  },
  {
   "attachments": {},
   "cell_type": "markdown",
   "metadata": {},
   "source": [
    "## Configs\n",
    "\n",
    "Each capability can optionally be turned off - see below for the full list of config options, and refer to the API reference for the full description."
   ]
  },
  {
   "cell_type": "code",
   "execution_count": 7,
   "metadata": {
    "execution": {
     "iopub.execute_input": "2024-06-27T08:57:57.441903Z",
     "iopub.status.busy": "2024-06-27T08:57:57.441587Z",
     "iopub.status.idle": "2024-06-27T08:57:57.445697Z",
     "shell.execute_reply": "2024-06-27T08:57:57.445270Z"
    }
   },
   "outputs": [
    {
     "data": {
      "text/plain": [
       "{'config_file': None,\n",
       " 'hds_folder': '.',\n",
       " 'use_datamart': False,\n",
       " 'datamart_folder': 'datamart',\n",
       " 'output_format': 'ndjson',\n",
       " 'output_folder': 'output',\n",
       " 'mapping_file': 'mapping.map',\n",
       " 'mask_predictor_names': True,\n",
       " 'mask_context_key_names': False,\n",
       " 'mask_ih_names': True,\n",
       " 'mask_outcome_name': False,\n",
       " 'mask_predictor_values': True,\n",
       " 'mask_context_key_values': True,\n",
       " 'mask_ih_values': True,\n",
       " 'mask_outcome_values': True,\n",
       " 'context_key_label': 'Context_*',\n",
       " 'ih_label': 'IH_*',\n",
       " 'outcome_column': 'Decision_Outcome',\n",
       " 'positive_outcomes': ['Accepted', 'Clicked'],\n",
       " 'negative_outcomes': ['Rejected', 'Impression'],\n",
       " 'special_predictors': ['Decision_DecisionTime',\n",
       "  'Decision_OutcomeTime',\n",
       "  'Decision_Rank'],\n",
       " 'sample_percentage_schema_inferencing': 0.01}"
      ]
     },
     "execution_count": 7,
     "metadata": {},
     "output_type": "execute_result"
    }
   ],
   "source": [
    "dict(zip(Config.__init__.__code__.co_varnames[1:], Config.__init__.__defaults__))"
   ]
  },
  {
   "attachments": {},
   "cell_type": "markdown",
   "metadata": {},
   "source": [
    "It's easy to change these parameters by just passing the keyword arguments. In the following example, we\n",
    "- Keep the IH predictor names\n",
    "- Keep the outcome values\n",
    "- Keep the context key values\n",
    "- Keep the context key predictor names"
   ]
  },
  {
   "cell_type": "code",
   "execution_count": 8,
   "metadata": {
    "execution": {
     "iopub.execute_input": "2024-06-27T08:57:57.447730Z",
     "iopub.status.busy": "2024-06-27T08:57:57.447357Z",
     "iopub.status.idle": "2024-06-27T08:57:57.455149Z",
     "shell.execute_reply": "2024-06-27T08:57:57.454703Z"
    }
   },
   "outputs": [
    {
     "data": {
      "text/html": [
       "<div><style>\n",
       ".dataframe > thead > tr,\n",
       ".dataframe > tbody > tr {\n",
       "  text-align: right;\n",
       "  white-space: pre-wrap;\n",
       "}\n",
       "</style>\n",
       "<small>shape: (7, 7)</small><table border=\"1\" class=\"dataframe\"><thead><tr><th>PREDICTOR_0</th><th>filename</th><th>PREDICTOR_2</th><th>PREDICTOR_3</th><th>Context_Name</th><th>IH_Web_Inbound_Accepted_pxLastGroupID</th><th>Decision_Outcome</th></tr><tr><td>f64</td><td>str</td><td>str</td><td>str</td><td>str</td><td>str</td><td>str</td></tr></thead><tbody><tr><td>3.7144e18</td><td>&quot;../../../../data/SampleHDS.jso…</td><td>&quot;5116113255984028597&quot;</td><td>&quot;9718179972840610916&quot;</td><td>&quot;FirstMortgage30yr&quot;</td><td>&quot;3904756066300791155&quot;</td><td>&quot;Rejected&quot;</td></tr><tr><td>1.7416e19</td><td>&quot;../../../../data/SampleHDS.jso…</td><td>&quot;11206299812145901282&quot;</td><td>&quot;2606546173167921635&quot;</td><td>&quot;FirstMortgage30yr&quot;</td><td>&quot;2073517796186034520&quot;</td><td>&quot;Accepted&quot;</td></tr><tr><td>7.3266e18</td><td>&quot;../../../../data/SampleHDS.jso…</td><td>&quot;18231480856777751062&quot;</td><td>&quot;15698682252462766581&quot;</td><td>&quot;MoneyMarketSavingsAccount&quot;</td><td>&quot;3904756066300791155&quot;</td><td>&quot;Rejected&quot;</td></tr><tr><td>4.8024e18</td><td>&quot;../../../../data/SampleHDS.jso…</td><td>&quot;11206299812145901282&quot;</td><td>&quot;16203385141368777126&quot;</td><td>&quot;BasicChecking&quot;</td><td>&quot;3904756066300791155&quot;</td><td>&quot;Rejected&quot;</td></tr><tr><td>9.8712e18</td><td>&quot;../../../../data/SampleHDS.jso…</td><td>&quot;5116113255984028597&quot;</td><td>&quot;6952337591127786287&quot;</td><td>&quot;BasicChecking&quot;</td><td>&quot;10099839356039493843&quot;</td><td>&quot;Accepted&quot;</td></tr><tr><td>3.7920e18</td><td>&quot;../../../../data/SampleHDS.jso…</td><td>&quot;18231480856777751062&quot;</td><td>&quot;16041653561048533847&quot;</td><td>&quot;UPlusFinPersonal&quot;</td><td>null</td><td>&quot;Rejected&quot;</td></tr><tr><td>1.3435e19</td><td>&quot;../../../../data/SampleHDS.jso…</td><td>&quot;18231480856777751062&quot;</td><td>&quot;7277846800018900085&quot;</td><td>&quot;BasicChecking&quot;</td><td>&quot;10099839356039493843&quot;</td><td>&quot;Rejected&quot;</td></tr></tbody></table></div>"
      ],
      "text/plain": [
       "shape: (7, 7)\n",
       "┌─────────────┬──────────────┬─────────────┬─────────────┬─────────────┬─────────────┬─────────────┐\n",
       "│ PREDICTOR_0 ┆ filename     ┆ PREDICTOR_2 ┆ PREDICTOR_3 ┆ Context_Nam ┆ IH_Web_Inbo ┆ Decision_Ou │\n",
       "│ ---         ┆ ---          ┆ ---         ┆ ---         ┆ e           ┆ und_Accepte ┆ tcome       │\n",
       "│ f64         ┆ str          ┆ str         ┆ str         ┆ ---         ┆ d_pxLast…   ┆ ---         │\n",
       "│             ┆              ┆             ┆             ┆ str         ┆ ---         ┆ str         │\n",
       "│             ┆              ┆             ┆             ┆             ┆ str         ┆             │\n",
       "╞═════════════╪══════════════╪═════════════╪═════════════╪═════════════╪═════════════╪═════════════╡\n",
       "│ 3.7144e18   ┆ ../../../../ ┆ 51161132559 ┆ 97181799728 ┆ FirstMortga ┆ 39047560663 ┆ Rejected    │\n",
       "│             ┆ data/SampleH ┆ 84028597    ┆ 40610916    ┆ ge30yr      ┆ 00791155    ┆             │\n",
       "│             ┆ DS.jso…      ┆             ┆             ┆             ┆             ┆             │\n",
       "│ 1.7416e19   ┆ ../../../../ ┆ 11206299812 ┆ 26065461731 ┆ FirstMortga ┆ 20735177961 ┆ Accepted    │\n",
       "│             ┆ data/SampleH ┆ 145901282   ┆ 67921635    ┆ ge30yr      ┆ 86034520    ┆             │\n",
       "│             ┆ DS.jso…      ┆             ┆             ┆             ┆             ┆             │\n",
       "│ 7.3266e18   ┆ ../../../../ ┆ 18231480856 ┆ 15698682252 ┆ MoneyMarket ┆ 39047560663 ┆ Rejected    │\n",
       "│             ┆ data/SampleH ┆ 777751062   ┆ 462766581   ┆ SavingsAcco ┆ 00791155    ┆             │\n",
       "│             ┆ DS.jso…      ┆             ┆             ┆ unt         ┆             ┆             │\n",
       "│ 4.8024e18   ┆ ../../../../ ┆ 11206299812 ┆ 16203385141 ┆ BasicChecki ┆ 39047560663 ┆ Rejected    │\n",
       "│             ┆ data/SampleH ┆ 145901282   ┆ 368777126   ┆ ng          ┆ 00791155    ┆             │\n",
       "│             ┆ DS.jso…      ┆             ┆             ┆             ┆             ┆             │\n",
       "│ 9.8712e18   ┆ ../../../../ ┆ 51161132559 ┆ 69523375911 ┆ BasicChecki ┆ 10099839356 ┆ Accepted    │\n",
       "│             ┆ data/SampleH ┆ 84028597    ┆ 27786287    ┆ ng          ┆ 039493843   ┆             │\n",
       "│             ┆ DS.jso…      ┆             ┆             ┆             ┆             ┆             │\n",
       "│ 3.7920e18   ┆ ../../../../ ┆ 18231480856 ┆ 16041653561 ┆ UPlusFinPer ┆ null        ┆ Rejected    │\n",
       "│             ┆ data/SampleH ┆ 777751062   ┆ 048533847   ┆ sonal       ┆             ┆             │\n",
       "│             ┆ DS.jso…      ┆             ┆             ┆             ┆             ┆             │\n",
       "│ 1.3435e19   ┆ ../../../../ ┆ 18231480856 ┆ 72778468000 ┆ BasicChecki ┆ 10099839356 ┆ Rejected    │\n",
       "│             ┆ data/SampleH ┆ 777751062   ┆ 18900085    ┆ ng          ┆ 039493843   ┆             │\n",
       "│             ┆ DS.jso…      ┆             ┆             ┆             ┆             ┆             │\n",
       "└─────────────┴──────────────┴─────────────┴─────────────┴─────────────┴─────────────┴─────────────┘"
      ]
     },
     "execution_count": 8,
     "metadata": {},
     "output_type": "execute_result"
    }
   ],
   "source": [
    "anon = DataAnonymization(\n",
    "    hds_folder=\"../../../../data/\",\n",
    "    mask_ih_names=False,\n",
    "    mask_outcome_values=False,\n",
    "    mask_context_key_values=False,\n",
    "    mask_context_key_names=False,\n",
    ")\n",
    "anon.process()\n"
   ]
  },
  {
   "attachments": {},
   "cell_type": "markdown",
   "metadata": {},
   "source": [
    "The configs can also be written and read as such:"
   ]
  },
  {
   "cell_type": "code",
   "execution_count": 9,
   "metadata": {
    "execution": {
     "iopub.execute_input": "2024-06-27T08:57:57.457000Z",
     "iopub.status.busy": "2024-06-27T08:57:57.456719Z",
     "iopub.status.idle": "2024-06-27T08:57:57.459471Z",
     "shell.execute_reply": "2024-06-27T08:57:57.459048Z"
    }
   },
   "outputs": [],
   "source": [
    "anon.config.save_to_config_file('config.json')"
   ]
  },
  {
   "cell_type": "code",
   "execution_count": 10,
   "metadata": {
    "execution": {
     "iopub.execute_input": "2024-06-27T08:57:57.461447Z",
     "iopub.status.busy": "2024-06-27T08:57:57.461143Z",
     "iopub.status.idle": "2024-06-27T08:57:57.468684Z",
     "shell.execute_reply": "2024-06-27T08:57:57.468266Z"
    }
   },
   "outputs": [
    {
     "data": {
      "text/html": [
       "<div><style>\n",
       ".dataframe > thead > tr,\n",
       ".dataframe > tbody > tr {\n",
       "  text-align: right;\n",
       "  white-space: pre-wrap;\n",
       "}\n",
       "</style>\n",
       "<small>shape: (7, 7)</small><table border=\"1\" class=\"dataframe\"><thead><tr><th>PREDICTOR_0</th><th>filename</th><th>PREDICTOR_2</th><th>PREDICTOR_3</th><th>Context_Name</th><th>IH_Web_Inbound_Accepted_pxLastGroupID</th><th>Decision_Outcome</th></tr><tr><td>f64</td><td>str</td><td>str</td><td>str</td><td>str</td><td>str</td><td>str</td></tr></thead><tbody><tr><td>1.2499e19</td><td>&quot;../../../../data/SampleHDS.jso…</td><td>&quot;18293990344771377923&quot;</td><td>&quot;10401712909067898287&quot;</td><td>&quot;FirstMortgage30yr&quot;</td><td>&quot;7470891602762162258&quot;</td><td>&quot;Rejected&quot;</td></tr><tr><td>4.4825e18</td><td>&quot;../../../../data/SampleHDS.jso…</td><td>&quot;6519604743693388226&quot;</td><td>&quot;17427030756996613094&quot;</td><td>&quot;FirstMortgage30yr&quot;</td><td>&quot;17303967803918605159&quot;</td><td>&quot;Accepted&quot;</td></tr><tr><td>1.7559e19</td><td>&quot;../../../../data/SampleHDS.jso…</td><td>&quot;12013569918084110708&quot;</td><td>&quot;2116059138085243262&quot;</td><td>&quot;MoneyMarketSavingsAccount&quot;</td><td>&quot;7470891602762162258&quot;</td><td>&quot;Rejected&quot;</td></tr><tr><td>1.8016e18</td><td>&quot;../../../../data/SampleHDS.jso…</td><td>&quot;6519604743693388226&quot;</td><td>&quot;16761861177852596977&quot;</td><td>&quot;BasicChecking&quot;</td><td>&quot;7470891602762162258&quot;</td><td>&quot;Rejected&quot;</td></tr><tr><td>1.6517e19</td><td>&quot;../../../../data/SampleHDS.jso…</td><td>&quot;18293990344771377923&quot;</td><td>&quot;12818238716068238964&quot;</td><td>&quot;BasicChecking&quot;</td><td>&quot;4600961781277298053&quot;</td><td>&quot;Accepted&quot;</td></tr><tr><td>1.3564e19</td><td>&quot;../../../../data/SampleHDS.jso…</td><td>&quot;12013569918084110708&quot;</td><td>&quot;3822978993054429388&quot;</td><td>&quot;UPlusFinPersonal&quot;</td><td>null</td><td>&quot;Rejected&quot;</td></tr><tr><td>6.3226e17</td><td>&quot;../../../../data/SampleHDS.jso…</td><td>&quot;12013569918084110708&quot;</td><td>&quot;12414514550878942568&quot;</td><td>&quot;BasicChecking&quot;</td><td>&quot;4600961781277298053&quot;</td><td>&quot;Rejected&quot;</td></tr></tbody></table></div>"
      ],
      "text/plain": [
       "shape: (7, 7)\n",
       "┌─────────────┬──────────────┬─────────────┬─────────────┬─────────────┬─────────────┬─────────────┐\n",
       "│ PREDICTOR_0 ┆ filename     ┆ PREDICTOR_2 ┆ PREDICTOR_3 ┆ Context_Nam ┆ IH_Web_Inbo ┆ Decision_Ou │\n",
       "│ ---         ┆ ---          ┆ ---         ┆ ---         ┆ e           ┆ und_Accepte ┆ tcome       │\n",
       "│ f64         ┆ str          ┆ str         ┆ str         ┆ ---         ┆ d_pxLast…   ┆ ---         │\n",
       "│             ┆              ┆             ┆             ┆ str         ┆ ---         ┆ str         │\n",
       "│             ┆              ┆             ┆             ┆             ┆ str         ┆             │\n",
       "╞═════════════╪══════════════╪═════════════╪═════════════╪═════════════╪═════════════╪═════════════╡\n",
       "│ 1.2499e19   ┆ ../../../../ ┆ 18293990344 ┆ 10401712909 ┆ FirstMortga ┆ 74708916027 ┆ Rejected    │\n",
       "│             ┆ data/SampleH ┆ 771377923   ┆ 067898287   ┆ ge30yr      ┆ 62162258    ┆             │\n",
       "│             ┆ DS.jso…      ┆             ┆             ┆             ┆             ┆             │\n",
       "│ 4.4825e18   ┆ ../../../../ ┆ 65196047436 ┆ 17427030756 ┆ FirstMortga ┆ 17303967803 ┆ Accepted    │\n",
       "│             ┆ data/SampleH ┆ 93388226    ┆ 996613094   ┆ ge30yr      ┆ 918605159   ┆             │\n",
       "│             ┆ DS.jso…      ┆             ┆             ┆             ┆             ┆             │\n",
       "│ 1.7559e19   ┆ ../../../../ ┆ 12013569918 ┆ 21160591380 ┆ MoneyMarket ┆ 74708916027 ┆ Rejected    │\n",
       "│             ┆ data/SampleH ┆ 084110708   ┆ 85243262    ┆ SavingsAcco ┆ 62162258    ┆             │\n",
       "│             ┆ DS.jso…      ┆             ┆             ┆ unt         ┆             ┆             │\n",
       "│ 1.8016e18   ┆ ../../../../ ┆ 65196047436 ┆ 16761861177 ┆ BasicChecki ┆ 74708916027 ┆ Rejected    │\n",
       "│             ┆ data/SampleH ┆ 93388226    ┆ 852596977   ┆ ng          ┆ 62162258    ┆             │\n",
       "│             ┆ DS.jso…      ┆             ┆             ┆             ┆             ┆             │\n",
       "│ 1.6517e19   ┆ ../../../../ ┆ 18293990344 ┆ 12818238716 ┆ BasicChecki ┆ 46009617812 ┆ Accepted    │\n",
       "│             ┆ data/SampleH ┆ 771377923   ┆ 068238964   ┆ ng          ┆ 77298053    ┆             │\n",
       "│             ┆ DS.jso…      ┆             ┆             ┆             ┆             ┆             │\n",
       "│ 1.3564e19   ┆ ../../../../ ┆ 12013569918 ┆ 38229789930 ┆ UPlusFinPer ┆ null        ┆ Rejected    │\n",
       "│             ┆ data/SampleH ┆ 084110708   ┆ 54429388    ┆ sonal       ┆             ┆             │\n",
       "│             ┆ DS.jso…      ┆             ┆             ┆             ┆             ┆             │\n",
       "│ 6.3226e17   ┆ ../../../../ ┆ 12013569918 ┆ 12414514550 ┆ BasicChecki ┆ 46009617812 ┆ Rejected    │\n",
       "│             ┆ data/SampleH ┆ 084110708   ┆ 878942568   ┆ ng          ┆ 77298053    ┆             │\n",
       "│             ┆ DS.jso…      ┆             ┆             ┆             ┆             ┆             │\n",
       "└─────────────┴──────────────┴─────────────┴─────────────┴─────────────┴─────────────┴─────────────┘"
      ]
     },
     "execution_count": 10,
     "metadata": {},
     "output_type": "execute_result"
    }
   ],
   "source": [
    "anon = DataAnonymization(config=Config(config_file='config.json'))\n",
    "anon.process()"
   ]
  },
  {
   "attachments": {},
   "cell_type": "markdown",
   "metadata": {},
   "source": [
    "## Exporting\n",
    "Two functions export:\n",
    "- `create_mapping_file()` writes the mapping file of the predictor names\n",
    "- `write_to_output()` writes the processed dataframe to disk\n",
    "\n",
    "Write to output accepts the following extensions: `[\"ndjson\", \"parquet\", \"arrow\", \"csv\"]`"
   ]
  },
  {
   "cell_type": "code",
   "execution_count": 11,
   "metadata": {
    "execution": {
     "iopub.execute_input": "2024-06-27T08:57:57.470722Z",
     "iopub.status.busy": "2024-06-27T08:57:57.470415Z",
     "iopub.status.idle": "2024-06-27T08:57:57.473539Z",
     "shell.execute_reply": "2024-06-27T08:57:57.473130Z"
    }
   },
   "outputs": [
    {
     "name": "stdout",
     "output_type": "stream",
     "text": [
      "Customer_CLV=PREDICTOR_0\n",
      "filename=filename\n",
      "Customer_MaritalStatus=PREDICTOR_2\n",
      "Customer_City=PREDICTOR_3\n",
      "Context_Name=Context_Name\n",
      "IH_Web_Inbound_Accepted_pxLastGroupID=IH_Web_Inbound_Accepted_pxLastGroupID\n",
      "Decision_Outcome=Decision_Outcome\n",
      "\n"
     ]
    }
   ],
   "source": [
    "anon.create_mapping_file()\n",
    "with open('mapping.map') as f:\n",
    "    print(f.read())"
   ]
  },
  {
   "cell_type": "code",
   "execution_count": 12,
   "metadata": {
    "execution": {
     "iopub.execute_input": "2024-06-27T08:57:57.475579Z",
     "iopub.status.busy": "2024-06-27T08:57:57.475259Z",
     "iopub.status.idle": "2024-06-27T08:57:57.478578Z",
     "shell.execute_reply": "2024-06-27T08:57:57.478114Z"
    }
   },
   "outputs": [],
   "source": [
    "anon.write_to_output(ext='arrow')"
   ]
  },
  {
   "cell_type": "code",
   "execution_count": 13,
   "metadata": {
    "execution": {
     "iopub.execute_input": "2024-06-27T08:57:57.480529Z",
     "iopub.status.busy": "2024-06-27T08:57:57.480222Z",
     "iopub.status.idle": "2024-06-27T08:57:57.484944Z",
     "shell.execute_reply": "2024-06-27T08:57:57.484404Z"
    }
   },
   "outputs": [
    {
     "data": {
      "text/html": [
       "<div><style>\n",
       ".dataframe > thead > tr,\n",
       ".dataframe > tbody > tr {\n",
       "  text-align: right;\n",
       "  white-space: pre-wrap;\n",
       "}\n",
       "</style>\n",
       "<small>shape: (7, 6)</small><table border=\"1\" class=\"dataframe\"><thead><tr><th>PREDICTOR_0</th><th>PREDICTOR_2</th><th>PREDICTOR_3</th><th>Context_Name</th><th>IH_Web_Inbound_Accepted_pxLastGroupID</th><th>Decision_Outcome</th></tr><tr><td>f64</td><td>str</td><td>str</td><td>str</td><td>str</td><td>str</td></tr></thead><tbody><tr><td>7.0882e17</td><td>&quot;16422462981718732615&quot;</td><td>&quot;7626264414049753285&quot;</td><td>&quot;FirstMortgage30yr&quot;</td><td>&quot;9571052652269174784&quot;</td><td>&quot;Rejected&quot;</td></tr><tr><td>1.6083e19</td><td>&quot;974077714294797116&quot;</td><td>&quot;11390115286477205611&quot;</td><td>&quot;FirstMortgage30yr&quot;</td><td>&quot;15926504249917894361&quot;</td><td>&quot;Accepted&quot;</td></tr><tr><td>7.7979e18</td><td>&quot;576385218094076406&quot;</td><td>&quot;18364511084597139830&quot;</td><td>&quot;MoneyMarketSavingsAccount&quot;</td><td>&quot;9571052652269174784&quot;</td><td>&quot;Rejected&quot;</td></tr><tr><td>1.6801e19</td><td>&quot;974077714294797116&quot;</td><td>&quot;13544611003525504311&quot;</td><td>&quot;BasicChecking&quot;</td><td>&quot;9571052652269174784&quot;</td><td>&quot;Rejected&quot;</td></tr><tr><td>4.6573e17</td><td>&quot;16422462981718732615&quot;</td><td>&quot;2847659491701829113&quot;</td><td>&quot;BasicChecking&quot;</td><td>&quot;4292160008144934078&quot;</td><td>&quot;Accepted&quot;</td></tr><tr><td>1.7649e19</td><td>&quot;576385218094076406&quot;</td><td>&quot;6698486850386849814&quot;</td><td>&quot;UPlusFinPersonal&quot;</td><td>null</td><td>&quot;Rejected&quot;</td></tr><tr><td>1.2700e19</td><td>&quot;576385218094076406&quot;</td><td>&quot;12350877057713676354&quot;</td><td>&quot;BasicChecking&quot;</td><td>&quot;4292160008144934078&quot;</td><td>&quot;Rejected&quot;</td></tr></tbody></table></div>"
      ],
      "text/plain": [
       "shape: (7, 6)\n",
       "┌─────────────┬────────────────┬────────────────┬────────────────┬────────────────┬────────────────┐\n",
       "│ PREDICTOR_0 ┆ PREDICTOR_2    ┆ PREDICTOR_3    ┆ Context_Name   ┆ IH_Web_Inbound ┆ Decision_Outco │\n",
       "│ ---         ┆ ---            ┆ ---            ┆ ---            ┆ _Accepted_pxLa ┆ me             │\n",
       "│ f64         ┆ str            ┆ str            ┆ str            ┆ st…            ┆ ---            │\n",
       "│             ┆                ┆                ┆                ┆ ---            ┆ str            │\n",
       "│             ┆                ┆                ┆                ┆ str            ┆                │\n",
       "╞═════════════╪════════════════╪════════════════╪════════════════╪════════════════╪════════════════╡\n",
       "│ 7.0882e17   ┆ 16422462981718 ┆ 76262644140497 ┆ FirstMortgage3 ┆ 95710526522691 ┆ Rejected       │\n",
       "│             ┆ 732615         ┆ 53285          ┆ 0yr            ┆ 74784          ┆                │\n",
       "│ 1.6083e19   ┆ 97407771429479 ┆ 11390115286477 ┆ FirstMortgage3 ┆ 15926504249917 ┆ Accepted       │\n",
       "│             ┆ 7116           ┆ 205611         ┆ 0yr            ┆ 894361         ┆                │\n",
       "│ 7.7979e18   ┆ 57638521809407 ┆ 18364511084597 ┆ MoneyMarketSav ┆ 95710526522691 ┆ Rejected       │\n",
       "│             ┆ 6406           ┆ 139830         ┆ ingsAccount    ┆ 74784          ┆                │\n",
       "│ 1.6801e19   ┆ 97407771429479 ┆ 13544611003525 ┆ BasicChecking  ┆ 95710526522691 ┆ Rejected       │\n",
       "│             ┆ 7116           ┆ 504311         ┆                ┆ 74784          ┆                │\n",
       "│ 4.6573e17   ┆ 16422462981718 ┆ 28476594917018 ┆ BasicChecking  ┆ 42921600081449 ┆ Accepted       │\n",
       "│             ┆ 732615         ┆ 29113          ┆                ┆ 34078          ┆                │\n",
       "│ 1.7649e19   ┆ 57638521809407 ┆ 66984868503868 ┆ UPlusFinPerson ┆ null           ┆ Rejected       │\n",
       "│             ┆ 6406           ┆ 49814          ┆ al             ┆                ┆                │\n",
       "│ 1.2700e19   ┆ 57638521809407 ┆ 12350877057713 ┆ BasicChecking  ┆ 42921600081449 ┆ Rejected       │\n",
       "│             ┆ 6406           ┆ 676354         ┆                ┆ 34078          ┆                │\n",
       "└─────────────┴────────────────┴────────────────┴────────────────┴────────────────┴────────────────┘"
      ]
     },
     "execution_count": 13,
     "metadata": {},
     "output_type": "execute_result"
    }
   ],
   "source": [
    "pl.read_ipc('output/hds.arrow')"
   ]
  },
  {
   "attachments": {},
   "cell_type": "markdown",
   "metadata": {
    "nbsphinx": "hidden"
   },
   "source": [
    "## Advanced: Hash fuctions\n",
    "\n",
    "By default, we use [the same hashing algorithm Polars](https://pola-rs.github.io/polars/py-polars/html/reference/expressions/api/polars.Expr.hash.html#polars.Expr.hash) uses: [xxhash](https://github.com/Cyan4973/xxHash), as implemented [here](https://github.com/pola-rs/polars/blob/3f287f370b3c388ed2f3f218b2c096382548136f/polars/polars-core/src/vector_hasher.rs#L266). xxhash is fast to compute, and you can check its performance in collision, dispersion and randomness [here](https://github.com/Cyan4973/xxHash/tree/dev/tests). \n",
    "\n",
    "xxhash accepts four distinct seeds, but by default we set the seeds to `0`. It is possible to set the `seed` argument of the `process()` function to `'random'`, which will set all four seeds to a random integer between `0` and `1000000000`. Alternatively, it is possible to supply the four seeds manually with arguments `seed`, `seed_1`, `seed_2` and `seed_3`. \n",
    "\n",
    "If the xxhash with (random) seed(s) is not deemed sufficiently secure, it is possible to use your own hashing algorithm.\n",
    "\n",
    "Note that since we're now running python code and not native Polars code anymore, this will be _significantly_ slower. Nonetheless, it is possible.\n",
    "\n",
    "Just as an example - this is how one would use sha3_256:"
   ]
  },
  {
   "cell_type": "code",
   "execution_count": 14,
   "metadata": {
    "execution": {
     "iopub.execute_input": "2024-06-27T08:57:57.486844Z",
     "iopub.status.busy": "2024-06-27T08:57:57.486548Z",
     "iopub.status.idle": "2024-06-27T08:57:57.806335Z",
     "shell.execute_reply": "2024-06-27T08:57:57.805733Z"
    },
    "nbsphinx": "hidden"
   },
   "outputs": [
    {
     "name": "stderr",
     "output_type": "stream",
     "text": [
      "sys:1: MapWithoutReturnDtypeWarning:\n",
      "\n",
      "Calling `map_elements` without specifying `return_dtype` can lead to unpredictable results. Specify `return_dtype` to silence this warning.\n",
      "\n",
      "sys:1: MapWithoutReturnDtypeWarning:\n",
      "\n",
      "Calling `map_elements` without specifying `return_dtype` can lead to unpredictable results. Specify `return_dtype` to silence this warning.\n",
      "\n",
      "sys:1: MapWithoutReturnDtypeWarning:\n",
      "\n",
      "Calling `map_elements` without specifying `return_dtype` can lead to unpredictable results. Specify `return_dtype` to silence this warning.\n",
      "\n",
      "sys:1: MapWithoutReturnDtypeWarning:\n",
      "\n",
      "Calling `map_elements` without specifying `return_dtype` can lead to unpredictable results. Specify `return_dtype` to silence this warning.\n",
      "\n"
     ]
    },
    {
     "ename": "ComputeError",
     "evalue": "AttributeError: 'int' object has no attribute 'encode'",
     "output_type": "error",
     "traceback": [
      "\u001b[0;31m---------------------------------------------------------------------------\u001b[0m",
      "\u001b[0;31mComputeError\u001b[0m                              Traceback (most recent call last)",
      "Cell \u001b[0;32mIn[14], line 3\u001b[0m\n\u001b[1;32m      1\u001b[0m \u001b[38;5;28;01mfrom\u001b[39;00m \u001b[38;5;21;01mhashlib\u001b[39;00m \u001b[38;5;28;01mimport\u001b[39;00m sha3_256\n\u001b[0;32m----> 3\u001b[0m \u001b[43manon\u001b[49m\u001b[38;5;241;43m.\u001b[39;49m\u001b[43mprocess\u001b[49m\u001b[43m(\u001b[49m\u001b[43malgorithm\u001b[49m\u001b[38;5;241;43m=\u001b[39;49m\u001b[38;5;28;43;01mlambda\u001b[39;49;00m\u001b[43m \u001b[49m\u001b[43mx\u001b[49m\u001b[43m:\u001b[49m\u001b[43m \u001b[49m\u001b[43msha3_256\u001b[49m\u001b[43m(\u001b[49m\u001b[43mx\u001b[49m\u001b[38;5;241;43m.\u001b[39;49m\u001b[43mencode\u001b[49m\u001b[43m(\u001b[49m\u001b[43m)\u001b[49m\u001b[43m)\u001b[49m\u001b[38;5;241;43m.\u001b[39;49m\u001b[43mhexdigest\u001b[49m\u001b[43m(\u001b[49m\u001b[43m)\u001b[49m\u001b[43m)\u001b[49m\n",
      "File \u001b[0;32m~/work/pega-datascientist-tools/pega-datascientist-tools/python/docs/source/articles/../../../pdstools/utils/hds_utils.py:512\u001b[0m, in \u001b[0;36mDataAnonymization.process\u001b[0;34m(self, strategy, **kwargs)\u001b[0m\n\u001b[1;32m    510\u001b[0m df \u001b[38;5;241m=\u001b[39m df\u001b[38;5;241m.\u001b[39mselect(\u001b[38;5;28mself\u001b[39m\u001b[38;5;241m.\u001b[39mcolumn_mapping\u001b[38;5;241m.\u001b[39mkeys())\u001b[38;5;241m.\u001b[39mrename(\u001b[38;5;28mself\u001b[39m\u001b[38;5;241m.\u001b[39mcolumn_mapping)\n\u001b[1;32m    511\u001b[0m \u001b[38;5;28;01mif\u001b[39;00m strategy \u001b[38;5;241m==\u001b[39m \u001b[38;5;124m\"\u001b[39m\u001b[38;5;124meager\u001b[39m\u001b[38;5;124m\"\u001b[39m:\n\u001b[0;32m--> 512\u001b[0m     \u001b[38;5;28;01mreturn\u001b[39;00m \u001b[43mdf\u001b[49m\u001b[38;5;241;43m.\u001b[39;49m\u001b[43mcollect\u001b[49m\u001b[43m(\u001b[49m\u001b[43m)\u001b[49m\n\u001b[1;32m    513\u001b[0m \u001b[38;5;28;01mreturn\u001b[39;00m df\n",
      "File \u001b[0;32m/opt/hostedtoolcache/Python/3.11.9/x64/lib/python3.11/site-packages/polars/lazyframe/frame.py:1967\u001b[0m, in \u001b[0;36mLazyFrame.collect\u001b[0;34m(self, type_coercion, predicate_pushdown, projection_pushdown, simplify_expression, slice_pushdown, comm_subplan_elim, comm_subexpr_elim, cluster_with_columns, no_optimization, streaming, background, _eager, **_kwargs)\u001b[0m\n\u001b[1;32m   1964\u001b[0m \u001b[38;5;66;03m# Only for testing purposes atm.\u001b[39;00m\n\u001b[1;32m   1965\u001b[0m callback \u001b[38;5;241m=\u001b[39m _kwargs\u001b[38;5;241m.\u001b[39mget(\u001b[38;5;124m\"\u001b[39m\u001b[38;5;124mpost_opt_callback\u001b[39m\u001b[38;5;124m\"\u001b[39m)\n\u001b[0;32m-> 1967\u001b[0m \u001b[38;5;28;01mreturn\u001b[39;00m wrap_df(\u001b[43mldf\u001b[49m\u001b[38;5;241;43m.\u001b[39;49m\u001b[43mcollect\u001b[49m\u001b[43m(\u001b[49m\u001b[43mcallback\u001b[49m\u001b[43m)\u001b[49m)\n",
      "\u001b[0;31mComputeError\u001b[0m: AttributeError: 'int' object has no attribute 'encode'"
     ]
    }
   ],
   "source": [
    "from hashlib import sha3_256\n",
    "\n",
    "anon.process(algorithm=lambda x: sha3_256(x.encode()).hexdigest())"
   ]
  }
 ],
 "metadata": {
  "kernelspec": {
   "display_name": "Python 3",
   "language": "python",
   "name": "python3"
  },
  "language_info": {
   "codemirror_mode": {
    "name": "ipython",
    "version": 3
   },
   "file_extension": ".py",
   "mimetype": "text/x-python",
   "name": "python",
   "nbconvert_exporter": "python",
   "pygments_lexer": "ipython3",
   "version": "3.11.9"
  },
  "vscode": {
   "interpreter": {
    "hash": "aee8b7b246df8f9039afb4144a1f6fd8d2ca17a180786b69acc140d282b71a49"
   }
  }
 },
 "nbformat": 4,
 "nbformat_minor": 2
}
