{
 "cells": [
  {
   "attachments": {},
   "cell_type": "markdown",
   "metadata": {},
   "source": [
    "# Example data anonymization\n",
    "\n",
    "In Pega CDH 8.5 and up, it's now possible to record the historical data as seen by the Adaptive Models. See [this academy challenge](https://academy.pega.com/challenge/exporting-historical-data/v4) for reference. This historical data can be further used to experiment with offline models, but also to fine-tune the OOTB Gradient Boosting model. However, sharing this information with Pega can be sensitive as it contains raw predictor data. \n",
    "\n",
    "To this end, we provide a simple and transparent script to fully anonimize this dataset.\n",
    "\n",
    "The DataAnonymization script is now part of pdstools, and you can import it directly as such."
   ]
  },
  {
   "cell_type": "code",
   "execution_count": 1,
   "metadata": {
    "execution": {
     "iopub.execute_input": "2023-09-11T15:31:32.275343Z",
     "iopub.status.busy": "2023-09-11T15:31:32.275086Z",
     "iopub.status.idle": "2023-09-11T15:31:32.283664Z",
     "shell.execute_reply": "2023-09-11T15:31:32.282654Z"
    },
    "nbsphinx": "hidden"
   },
   "outputs": [],
   "source": [
    "# These lines are only for rendering in the docs, and are hidden through Jupyter tags\n",
    "# Do not run if you're running the notebook seperately\n",
    "\n",
    "import sys\n",
    "sys.path.append('../../../')"
   ]
  },
  {
   "cell_type": "code",
   "execution_count": 2,
   "metadata": {
    "execution": {
     "iopub.execute_input": "2023-09-11T15:31:32.286934Z",
     "iopub.status.busy": "2023-09-11T15:31:32.286698Z",
     "iopub.status.idle": "2023-09-11T15:31:33.810485Z",
     "shell.execute_reply": "2023-09-11T15:31:33.809520Z"
    }
   },
   "outputs": [],
   "source": [
    "from pdstools import ADMDatamart\n",
    "from pdstools import Config, DataAnonymization\n",
    "import polars as pl"
   ]
  },
  {
   "attachments": {},
   "cell_type": "markdown",
   "metadata": {},
   "source": [
    "## Input data\n",
    "\n",
    "To demonstrate this process, we're going to anonymise this toy example dataframe:"
   ]
  },
  {
   "cell_type": "code",
   "execution_count": 3,
   "metadata": {
    "execution": {
     "iopub.execute_input": "2023-09-11T15:31:33.814497Z",
     "iopub.status.busy": "2023-09-11T15:31:33.814109Z",
     "iopub.status.idle": "2023-09-11T15:31:33.832306Z",
     "shell.execute_reply": "2023-09-11T15:31:33.831319Z"
    }
   },
   "outputs": [
    {
     "data": {
      "text/html": [
       "<div><style>\n",
       ".dataframe > thead > tr > th,\n",
       ".dataframe > tbody > tr > td {\n",
       "  text-align: right;\n",
       "}\n",
       "</style>\n",
       "<small>shape: (7, 6)</small><table border=\"1\" class=\"dataframe\"><thead><tr><th>Context_Name</th><th>Customer_MaritalStatus</th><th>Customer_CLV</th><th>Customer_City</th><th>IH_Web_Inbound_Accepted_pxLastGroupID</th><th>Decision_Outcome</th></tr><tr><td>str</td><td>str</td><td>i64</td><td>str</td><td>str</td><td>str</td></tr></thead><tbody><tr><td>&quot;FirstMortgage3…</td><td>&quot;Married&quot;</td><td>1460</td><td>&quot;Port Raoul&quot;</td><td>&quot;Account&quot;</td><td>&quot;Rejected&quot;</td></tr><tr><td>&quot;FirstMortgage3…</td><td>&quot;Unknown&quot;</td><td>669</td><td>&quot;Laurianneshire…</td><td>&quot;AutoLoans&quot;</td><td>&quot;Accepted&quot;</td></tr><tr><td>&quot;MoneyMarketSav…</td><td>&quot;No Resp+&quot;</td><td>1174</td><td>&quot;Jacobshaven&quot;</td><td>&quot;Account&quot;</td><td>&quot;Rejected&quot;</td></tr><tr><td>&quot;BasicChecking&quot;</td><td>&quot;Unknown&quot;</td><td>1476</td><td>&quot;Lindton&quot;</td><td>&quot;Account&quot;</td><td>&quot;Rejected&quot;</td></tr><tr><td>&quot;BasicChecking&quot;</td><td>&quot;Married&quot;</td><td>1211</td><td>&quot;South Jimmiesh…</td><td>&quot;DepositAccount…</td><td>&quot;Accepted&quot;</td></tr><tr><td>&quot;UPlusFinPerson…</td><td>&quot;No Resp+&quot;</td><td>533</td><td>&quot;Bergeville&quot;</td><td>null</td><td>&quot;Rejected&quot;</td></tr><tr><td>&quot;BasicChecking&quot;</td><td>&quot;No Resp+&quot;</td><td>555</td><td>&quot;Willyville&quot;</td><td>&quot;DepositAccount…</td><td>&quot;Rejected&quot;</td></tr></tbody></table></div>"
      ],
      "text/plain": [
       "shape: (7, 6)\n",
       "┌────────────────┬────────────────┬──────────────┬────────────────┬────────────────┬───────────────┐\n",
       "│ Context_Name   ┆ Customer_Marit ┆ Customer_CLV ┆ Customer_City  ┆ IH_Web_Inbound ┆ Decision_Outc │\n",
       "│ ---            ┆ alStatus       ┆ ---          ┆ ---            ┆ _Accepted_pxLa ┆ ome           │\n",
       "│ str            ┆ ---            ┆ i64          ┆ str            ┆ stGr…          ┆ ---           │\n",
       "│                ┆ str            ┆              ┆                ┆ ---            ┆ str           │\n",
       "│                ┆                ┆              ┆                ┆ str            ┆               │\n",
       "╞════════════════╪════════════════╪══════════════╪════════════════╪════════════════╪═══════════════╡\n",
       "│ FirstMortgage3 ┆ Married        ┆ 1460         ┆ Port Raoul     ┆ Account        ┆ Rejected      │\n",
       "│ 0yr            ┆                ┆              ┆                ┆                ┆               │\n",
       "│ FirstMortgage3 ┆ Unknown        ┆ 669          ┆ Laurianneshire ┆ AutoLoans      ┆ Accepted      │\n",
       "│ 0yr            ┆                ┆              ┆                ┆                ┆               │\n",
       "│ MoneyMarketSav ┆ No Resp+       ┆ 1174         ┆ Jacobshaven    ┆ Account        ┆ Rejected      │\n",
       "│ ingsAccount    ┆                ┆              ┆                ┆                ┆               │\n",
       "│ BasicChecking  ┆ Unknown        ┆ 1476         ┆ Lindton        ┆ Account        ┆ Rejected      │\n",
       "│ BasicChecking  ┆ Married        ┆ 1211         ┆ South          ┆ DepositAccount ┆ Accepted      │\n",
       "│                ┆                ┆              ┆ Jimmieshire    ┆ s              ┆               │\n",
       "│ UPlusFinPerson ┆ No Resp+       ┆ 533          ┆ Bergeville     ┆ null           ┆ Rejected      │\n",
       "│ al             ┆                ┆              ┆                ┆                ┆               │\n",
       "│ BasicChecking  ┆ No Resp+       ┆ 555          ┆ Willyville     ┆ DepositAccount ┆ Rejected      │\n",
       "│                ┆                ┆              ┆                ┆ s              ┆               │\n",
       "└────────────────┴────────────────┴──────────────┴────────────────┴────────────────┴───────────────┘"
      ]
     },
     "execution_count": 3,
     "metadata": {},
     "output_type": "execute_result"
    }
   ],
   "source": [
    "pl.read_ndjson('../../../../data/SampleHDS.json')"
   ]
  },
  {
   "attachments": {},
   "cell_type": "markdown",
   "metadata": {},
   "source": [
    "As you can see, this dataset consists of regular predictors, IH predictors, context keys and the outcome column. Additionally, some columns are numeric, others are strings. Let's first initialize the DataAnonymization class."
   ]
  },
  {
   "cell_type": "code",
   "execution_count": 4,
   "metadata": {
    "execution": {
     "iopub.execute_input": "2023-09-11T15:31:33.836430Z",
     "iopub.status.busy": "2023-09-11T15:31:33.835872Z",
     "iopub.status.idle": "2023-09-11T15:31:33.849968Z",
     "shell.execute_reply": "2023-09-11T15:31:33.849235Z"
    }
   },
   "outputs": [],
   "source": [
    "anon = DataAnonymization(hds_folder='../../../../data/')"
   ]
  },
  {
   "attachments": {},
   "cell_type": "markdown",
   "metadata": {},
   "source": [
    "By default, the class applies a set of anonymisation techniques:\n",
    "- Column names are remapped to a non-descriptive name\n",
    "- Categorical values are hashed with a random seed\n",
    "- Numerical values are normalized between 0 and 1\n",
    "- Outcomes are mapped to a binary outcome.\n",
    "\n",
    "To apply these techniques, simply call `.process()`:"
   ]
  },
  {
   "cell_type": "code",
   "execution_count": 5,
   "metadata": {
    "execution": {
     "iopub.execute_input": "2023-09-11T15:31:33.853696Z",
     "iopub.status.busy": "2023-09-11T15:31:33.853160Z",
     "iopub.status.idle": "2023-09-11T15:31:33.861390Z",
     "shell.execute_reply": "2023-09-11T15:31:33.860735Z"
    }
   },
   "outputs": [
    {
     "data": {
      "text/html": [
       "<div><style>\n",
       ".dataframe > thead > tr > th,\n",
       ".dataframe > tbody > tr > td {\n",
       "  text-align: right;\n",
       "}\n",
       "</style>\n",
       "<small>shape: (7, 7)</small><table border=\"1\" class=\"dataframe\"><thead><tr><th>PREDICTOR_0</th><th>PREDICTOR_1</th><th>PREDICTOR_2</th><th>filename</th><th>Context_Name</th><th>IH_PREDICTOR_0</th><th>Decision_Outcome</th></tr><tr><td>f64</td><td>str</td><td>str</td><td>str</td><td>str</td><td>str</td><td>bool</td></tr></thead><tbody><tr><td>1.2927e19</td><td>&quot;11465922221560…</td><td>&quot;12836691598823…</td><td>&quot;../../../../da…</td><td>&quot;13319416758030…</td><td>&quot;59427797627023…</td><td>false</td></tr><tr><td>1.4856e19</td><td>&quot;12674646606013…</td><td>&quot;10939424358753…</td><td>&quot;../../../../da…</td><td>&quot;13319416758030…</td><td>&quot;12499658257858…</td><td>true</td></tr><tr><td>5.6458e17</td><td>&quot;91012588057315…</td><td>&quot;36421672761923…</td><td>&quot;../../../../da…</td><td>&quot;35664037547327…</td><td>&quot;59427797627023…</td><td>false</td></tr><tr><td>4.0723e18</td><td>&quot;12674646606013…</td><td>&quot;10829150240662…</td><td>&quot;../../../../da…</td><td>&quot;62196553675314…</td><td>&quot;59427797627023…</td><td>false</td></tr><tr><td>1.4677e19</td><td>&quot;11465922221560…</td><td>&quot;84257753280170…</td><td>&quot;../../../../da…</td><td>&quot;62196553675314…</td><td>&quot;47684181719641…</td><td>true</td></tr><tr><td>1.6330e19</td><td>&quot;91012588057315…</td><td>&quot;45360284748457…</td><td>&quot;../../../../da…</td><td>&quot;17245759937656…</td><td>null</td><td>false</td></tr><tr><td>8.7675e18</td><td>&quot;91012588057315…</td><td>&quot;35489803983272…</td><td>&quot;../../../../da…</td><td>&quot;62196553675314…</td><td>&quot;47684181719641…</td><td>false</td></tr></tbody></table></div>"
      ],
      "text/plain": [
       "shape: (7, 7)\n",
       "┌─────────────┬──────────────┬─────────────┬─────────────┬─────────────┬─────────────┬─────────────┐\n",
       "│ PREDICTOR_0 ┆ PREDICTOR_1  ┆ PREDICTOR_2 ┆ filename    ┆ Context_Nam ┆ IH_PREDICTO ┆ Decision_Ou │\n",
       "│ ---         ┆ ---          ┆ ---         ┆ ---         ┆ e           ┆ R_0         ┆ tcome       │\n",
       "│ f64         ┆ str          ┆ str         ┆ str         ┆ ---         ┆ ---         ┆ ---         │\n",
       "│             ┆              ┆             ┆             ┆ str         ┆ str         ┆ bool        │\n",
       "╞═════════════╪══════════════╪═════════════╪═════════════╪═════════════╪═════════════╪═════════════╡\n",
       "│ 1.2927e19   ┆ 114659222215 ┆ 12836691598 ┆ ../../../.. ┆ 13319416758 ┆ 59427797627 ┆ false       │\n",
       "│             ┆ 60221610     ┆ 82339908    ┆ /data/Sampl ┆ 030730666   ┆ 02321648    ┆             │\n",
       "│             ┆              ┆             ┆ eHDS.json   ┆             ┆             ┆             │\n",
       "│ 1.4856e19   ┆ 126746466060 ┆ 10939424358 ┆ ../../../.. ┆ 13319416758 ┆ 12499658257 ┆ true        │\n",
       "│             ┆ 13633256     ┆ 753180926   ┆ /data/Sampl ┆ 030730666   ┆ 858732345   ┆             │\n",
       "│             ┆              ┆             ┆ eHDS.json   ┆             ┆             ┆             │\n",
       "│ 5.6458e17   ┆ 910125880573 ┆ 36421672761 ┆ ../../../.. ┆ 35664037547 ┆ 59427797627 ┆ false       │\n",
       "│             ┆ 1523061      ┆ 92349583    ┆ /data/Sampl ┆ 32775472    ┆ 02321648    ┆             │\n",
       "│             ┆              ┆             ┆ eHDS.json   ┆             ┆             ┆             │\n",
       "│ 4.0723e18   ┆ 126746466060 ┆ 10829150240 ┆ ../../../.. ┆ 62196553675 ┆ 59427797627 ┆ false       │\n",
       "│             ┆ 13633256     ┆ 662083738   ┆ /data/Sampl ┆ 31439006    ┆ 02321648    ┆             │\n",
       "│             ┆              ┆             ┆ eHDS.json   ┆             ┆             ┆             │\n",
       "│ 1.4677e19   ┆ 114659222215 ┆ 84257753280 ┆ ../../../.. ┆ 62196553675 ┆ 47684181719 ┆ true        │\n",
       "│             ┆ 60221610     ┆ 17036012    ┆ /data/Sampl ┆ 31439006    ┆ 6413435     ┆             │\n",
       "│             ┆              ┆             ┆ eHDS.json   ┆             ┆             ┆             │\n",
       "│ 1.6330e19   ┆ 910125880573 ┆ 45360284748 ┆ ../../../.. ┆ 17245759937 ┆ null        ┆ false       │\n",
       "│             ┆ 1523061      ┆ 457718      ┆ /data/Sampl ┆ 656540628   ┆             ┆             │\n",
       "│             ┆              ┆             ┆ eHDS.json   ┆             ┆             ┆             │\n",
       "│ 8.7675e18   ┆ 910125880573 ┆ 35489803983 ┆ ../../../.. ┆ 62196553675 ┆ 47684181719 ┆ false       │\n",
       "│             ┆ 1523061      ┆ 27206012    ┆ /data/Sampl ┆ 31439006    ┆ 6413435     ┆             │\n",
       "│             ┆              ┆             ┆ eHDS.json   ┆             ┆             ┆             │\n",
       "└─────────────┴──────────────┴─────────────┴─────────────┴─────────────┴─────────────┴─────────────┘"
      ]
     },
     "execution_count": 5,
     "metadata": {},
     "output_type": "execute_result"
    }
   ],
   "source": [
    "anon.process()"
   ]
  },
  {
   "attachments": {},
   "cell_type": "markdown",
   "metadata": {},
   "source": [
    "To trace back the columns to their original names, the class also contains a mapping, which does not have to be provided."
   ]
  },
  {
   "cell_type": "code",
   "execution_count": 6,
   "metadata": {
    "execution": {
     "iopub.execute_input": "2023-09-11T15:31:33.864728Z",
     "iopub.status.busy": "2023-09-11T15:31:33.864233Z",
     "iopub.status.idle": "2023-09-11T15:31:33.869145Z",
     "shell.execute_reply": "2023-09-11T15:31:33.868487Z"
    }
   },
   "outputs": [
    {
     "data": {
      "text/plain": [
       "{'Customer_CLV': 'PREDICTOR_0',\n",
       " 'Customer_MaritalStatus': 'PREDICTOR_1',\n",
       " 'Customer_City': 'PREDICTOR_2',\n",
       " 'filename': 'filename',\n",
       " 'Context_Name': 'Context_Name',\n",
       " 'IH_Web_Inbound_Accepted_pxLastGroupID': 'IH_PREDICTOR_0',\n",
       " 'Decision_Outcome': 'Decision_Outcome'}"
      ]
     },
     "execution_count": 6,
     "metadata": {},
     "output_type": "execute_result"
    }
   ],
   "source": [
    "anon.column_mapping"
   ]
  },
  {
   "attachments": {},
   "cell_type": "markdown",
   "metadata": {},
   "source": [
    "## Configs\n",
    "\n",
    "Each capability can optionally be turned off - see below for the full list of config options, and refer to the API reference for the full description."
   ]
  },
  {
   "cell_type": "code",
   "execution_count": 7,
   "metadata": {
    "execution": {
     "iopub.execute_input": "2023-09-11T15:31:33.873142Z",
     "iopub.status.busy": "2023-09-11T15:31:33.872485Z",
     "iopub.status.idle": "2023-09-11T15:31:33.878976Z",
     "shell.execute_reply": "2023-09-11T15:31:33.877967Z"
    }
   },
   "outputs": [
    {
     "data": {
      "text/plain": [
       "{'config_file': None,\n",
       " 'hds_folder': '.',\n",
       " 'use_datamart': False,\n",
       " 'datamart_folder': 'datamart',\n",
       " 'output_format': 'ndjson',\n",
       " 'output_folder': 'output',\n",
       " 'mapping_file': 'mapping.map',\n",
       " 'mask_predictor_names': True,\n",
       " 'mask_context_key_names': False,\n",
       " 'mask_ih_names': True,\n",
       " 'mask_outcome_name': False,\n",
       " 'mask_predictor_values': True,\n",
       " 'mask_context_key_values': True,\n",
       " 'mask_ih_values': True,\n",
       " 'mask_outcome_values': True,\n",
       " 'context_key_label': 'Context_*',\n",
       " 'ih_label': 'IH_*',\n",
       " 'outcome_column': 'Decision_Outcome',\n",
       " 'positive_outcomes': ['Accepted', 'Clicked'],\n",
       " 'negative_outcomes': ['Rejected', 'Impression'],\n",
       " 'special_predictors': ['Decision_DecisionTime',\n",
       "  'Decision_OutcomeTime',\n",
       "  'Decision_Rank'],\n",
       " 'sample_percentage_schema_inferencing': 0.01}"
      ]
     },
     "execution_count": 7,
     "metadata": {},
     "output_type": "execute_result"
    }
   ],
   "source": [
    "dict(zip(Config.__init__.__code__.co_varnames[1:], Config.__init__.__defaults__))"
   ]
  },
  {
   "attachments": {},
   "cell_type": "markdown",
   "metadata": {},
   "source": [
    "It's easy to change these parameters by just passing the keyword arguments. In the following example, we\n",
    "- Keep the IH predictor names\n",
    "- Keep the outcome values\n",
    "- Keep the context key values\n",
    "- Keep the context key predictor names"
   ]
  },
  {
   "cell_type": "code",
   "execution_count": 8,
   "metadata": {
    "execution": {
     "iopub.execute_input": "2023-09-11T15:31:33.882207Z",
     "iopub.status.busy": "2023-09-11T15:31:33.881701Z",
     "iopub.status.idle": "2023-09-11T15:31:33.899688Z",
     "shell.execute_reply": "2023-09-11T15:31:33.899017Z"
    }
   },
   "outputs": [
    {
     "data": {
      "text/html": [
       "<div><style>\n",
       ".dataframe > thead > tr > th,\n",
       ".dataframe > tbody > tr > td {\n",
       "  text-align: right;\n",
       "}\n",
       "</style>\n",
       "<small>shape: (7, 7)</small><table border=\"1\" class=\"dataframe\"><thead><tr><th>PREDICTOR_0</th><th>PREDICTOR_1</th><th>PREDICTOR_2</th><th>filename</th><th>Context_Name</th><th>IH_Web_Inbound_Accepted_pxLastGroupID</th><th>Decision_Outcome</th></tr><tr><td>f64</td><td>str</td><td>str</td><td>str</td><td>str</td><td>str</td><td>str</td></tr></thead><tbody><tr><td>1.2927e19</td><td>&quot;62598315273423…</td><td>&quot;13434883589077…</td><td>&quot;../../../../da…</td><td>&quot;FirstMortgage3…</td><td>&quot;60953112443905…</td><td>&quot;Rejected&quot;</td></tr><tr><td>1.4856e19</td><td>&quot;59453543710598…</td><td>&quot;97012576451818…</td><td>&quot;../../../../da…</td><td>&quot;FirstMortgage3…</td><td>&quot;13346135536676…</td><td>&quot;Accepted&quot;</td></tr><tr><td>5.6458e17</td><td>&quot;17170012924505…</td><td>&quot;65604523068591…</td><td>&quot;../../../../da…</td><td>&quot;MoneyMarketSav…</td><td>&quot;60953112443905…</td><td>&quot;Rejected&quot;</td></tr><tr><td>4.0723e18</td><td>&quot;59453543710598…</td><td>&quot;14855878572080…</td><td>&quot;../../../../da…</td><td>&quot;BasicChecking&quot;</td><td>&quot;60953112443905…</td><td>&quot;Rejected&quot;</td></tr><tr><td>1.4677e19</td><td>&quot;62598315273423…</td><td>&quot;22378531333229…</td><td>&quot;../../../../da…</td><td>&quot;BasicChecking&quot;</td><td>&quot;12393908373202…</td><td>&quot;Accepted&quot;</td></tr><tr><td>1.6330e19</td><td>&quot;17170012924505…</td><td>&quot;11276078748849…</td><td>&quot;../../../../da…</td><td>&quot;UPlusFinPerson…</td><td>null</td><td>&quot;Rejected&quot;</td></tr><tr><td>8.7675e18</td><td>&quot;17170012924505…</td><td>&quot;15570640177302…</td><td>&quot;../../../../da…</td><td>&quot;BasicChecking&quot;</td><td>&quot;12393908373202…</td><td>&quot;Rejected&quot;</td></tr></tbody></table></div>"
      ],
      "text/plain": [
       "shape: (7, 7)\n",
       "┌─────────────┬──────────────┬─────────────┬─────────────┬─────────────┬─────────────┬─────────────┐\n",
       "│ PREDICTOR_0 ┆ PREDICTOR_1  ┆ PREDICTOR_2 ┆ filename    ┆ Context_Nam ┆ IH_Web_Inbo ┆ Decision_Ou │\n",
       "│ ---         ┆ ---          ┆ ---         ┆ ---         ┆ e           ┆ und_Accepte ┆ tcome       │\n",
       "│ f64         ┆ str          ┆ str         ┆ str         ┆ ---         ┆ d_pxLastGr… ┆ ---         │\n",
       "│             ┆              ┆             ┆             ┆ str         ┆ ---         ┆ str         │\n",
       "│             ┆              ┆             ┆             ┆             ┆ str         ┆             │\n",
       "╞═════════════╪══════════════╪═════════════╪═════════════╪═════════════╪═════════════╪═════════════╡\n",
       "│ 1.2927e19   ┆ 625983152734 ┆ 13434883589 ┆ ../../../.. ┆ FirstMortga ┆ 60953112443 ┆ Rejected    │\n",
       "│             ┆ 2364209      ┆ 077064710   ┆ /data/Sampl ┆ ge30yr      ┆ 9052341     ┆             │\n",
       "│             ┆              ┆             ┆ eHDS.json   ┆             ┆             ┆             │\n",
       "│ 1.4856e19   ┆ 594535437105 ┆ 97012576451 ┆ ../../../.. ┆ FirstMortga ┆ 13346135536 ┆ Accepted    │\n",
       "│             ┆ 9806665      ┆ 81816465    ┆ /data/Sampl ┆ ge30yr      ┆ 676517732   ┆             │\n",
       "│             ┆              ┆             ┆ eHDS.json   ┆             ┆             ┆             │\n",
       "│ 5.6458e17   ┆ 171700129245 ┆ 65604523068 ┆ ../../../.. ┆ MoneyMarket ┆ 60953112443 ┆ Rejected    │\n",
       "│             ┆ 05215672     ┆ 59140970    ┆ /data/Sampl ┆ SavingsAcco ┆ 9052341     ┆             │\n",
       "│             ┆              ┆             ┆ eHDS.json   ┆ unt         ┆             ┆             │\n",
       "│ 4.0723e18   ┆ 594535437105 ┆ 14855878572 ┆ ../../../.. ┆ BasicChecki ┆ 60953112443 ┆ Rejected    │\n",
       "│             ┆ 9806665      ┆ 080022556   ┆ /data/Sampl ┆ ng          ┆ 9052341     ┆             │\n",
       "│             ┆              ┆             ┆ eHDS.json   ┆             ┆             ┆             │\n",
       "│ 1.4677e19   ┆ 625983152734 ┆ 22378531333 ┆ ../../../.. ┆ BasicChecki ┆ 12393908373 ┆ Accepted    │\n",
       "│             ┆ 2364209      ┆ 22954820    ┆ /data/Sampl ┆ ng          ┆ 202867505   ┆             │\n",
       "│             ┆              ┆             ┆ eHDS.json   ┆             ┆             ┆             │\n",
       "│ 1.6330e19   ┆ 171700129245 ┆ 11276078748 ┆ ../../../.. ┆ UPlusFinPer ┆ null        ┆ Rejected    │\n",
       "│             ┆ 05215672     ┆ 849228198   ┆ /data/Sampl ┆ sonal       ┆             ┆             │\n",
       "│             ┆              ┆             ┆ eHDS.json   ┆             ┆             ┆             │\n",
       "│ 8.7675e18   ┆ 171700129245 ┆ 15570640177 ┆ ../../../.. ┆ BasicChecki ┆ 12393908373 ┆ Rejected    │\n",
       "│             ┆ 05215672     ┆ 302210842   ┆ /data/Sampl ┆ ng          ┆ 202867505   ┆             │\n",
       "│             ┆              ┆             ┆ eHDS.json   ┆             ┆             ┆             │\n",
       "└─────────────┴──────────────┴─────────────┴─────────────┴─────────────┴─────────────┴─────────────┘"
      ]
     },
     "execution_count": 8,
     "metadata": {},
     "output_type": "execute_result"
    }
   ],
   "source": [
    "anon = DataAnonymization(\n",
    "    hds_folder='../../../../data/',\n",
    "    mask_ih_names=False,\n",
    "    mask_outcome_values=False,\n",
    "    mask_context_key_values=False,\n",
    "    mask_context_key_names=False,\n",
    ")\n",
    "anon.process()\n"
   ]
  },
  {
   "attachments": {},
   "cell_type": "markdown",
   "metadata": {},
   "source": [
    "The configs can also be written and read as such:"
   ]
  },
  {
   "cell_type": "code",
   "execution_count": 9,
   "metadata": {
    "execution": {
     "iopub.execute_input": "2023-09-11T15:31:33.903108Z",
     "iopub.status.busy": "2023-09-11T15:31:33.902518Z",
     "iopub.status.idle": "2023-09-11T15:31:33.906854Z",
     "shell.execute_reply": "2023-09-11T15:31:33.905896Z"
    }
   },
   "outputs": [],
   "source": [
    "anon.config.save_to_config_file('config.json')"
   ]
  },
  {
   "cell_type": "code",
   "execution_count": 10,
   "metadata": {
    "execution": {
     "iopub.execute_input": "2023-09-11T15:31:33.910030Z",
     "iopub.status.busy": "2023-09-11T15:31:33.909538Z",
     "iopub.status.idle": "2023-09-11T15:31:33.923952Z",
     "shell.execute_reply": "2023-09-11T15:31:33.923296Z"
    }
   },
   "outputs": [
    {
     "data": {
      "text/html": [
       "<div><style>\n",
       ".dataframe > thead > tr > th,\n",
       ".dataframe > tbody > tr > td {\n",
       "  text-align: right;\n",
       "}\n",
       "</style>\n",
       "<small>shape: (7, 7)</small><table border=\"1\" class=\"dataframe\"><thead><tr><th>PREDICTOR_0</th><th>PREDICTOR_1</th><th>PREDICTOR_2</th><th>filename</th><th>Context_Name</th><th>IH_Web_Inbound_Accepted_pxLastGroupID</th><th>Decision_Outcome</th></tr><tr><td>f64</td><td>str</td><td>str</td><td>str</td><td>str</td><td>str</td><td>str</td></tr></thead><tbody><tr><td>1.2927e19</td><td>&quot;12294778322510…</td><td>&quot;67144226894333…</td><td>&quot;../../../../da…</td><td>&quot;FirstMortgage3…</td><td>&quot;14004924338447…</td><td>&quot;Rejected&quot;</td></tr><tr><td>1.4856e19</td><td>&quot;14335060440940…</td><td>&quot;40173693784510…</td><td>&quot;../../../../da…</td><td>&quot;FirstMortgage3…</td><td>&quot;18437221179624…</td><td>&quot;Accepted&quot;</td></tr><tr><td>5.6458e17</td><td>&quot;14811546033495…</td><td>&quot;91627448763593…</td><td>&quot;../../../../da…</td><td>&quot;MoneyMarketSav…</td><td>&quot;14004924338447…</td><td>&quot;Rejected&quot;</td></tr><tr><td>4.0723e18</td><td>&quot;14335060440940…</td><td>&quot;63250386186805…</td><td>&quot;../../../../da…</td><td>&quot;BasicChecking&quot;</td><td>&quot;14004924338447…</td><td>&quot;Rejected&quot;</td></tr><tr><td>1.4677e19</td><td>&quot;12294778322510…</td><td>&quot;10812012060135…</td><td>&quot;../../../../da…</td><td>&quot;BasicChecking&quot;</td><td>&quot;74835811446968…</td><td>&quot;Accepted&quot;</td></tr><tr><td>1.6330e19</td><td>&quot;14811546033495…</td><td>&quot;98362711541310…</td><td>&quot;../../../../da…</td><td>&quot;UPlusFinPerson…</td><td>null</td><td>&quot;Rejected&quot;</td></tr><tr><td>8.7675e18</td><td>&quot;14811546033495…</td><td>&quot;20817223718154…</td><td>&quot;../../../../da…</td><td>&quot;BasicChecking&quot;</td><td>&quot;74835811446968…</td><td>&quot;Rejected&quot;</td></tr></tbody></table></div>"
      ],
      "text/plain": [
       "shape: (7, 7)\n",
       "┌─────────────┬──────────────┬─────────────┬─────────────┬─────────────┬─────────────┬─────────────┐\n",
       "│ PREDICTOR_0 ┆ PREDICTOR_1  ┆ PREDICTOR_2 ┆ filename    ┆ Context_Nam ┆ IH_Web_Inbo ┆ Decision_Ou │\n",
       "│ ---         ┆ ---          ┆ ---         ┆ ---         ┆ e           ┆ und_Accepte ┆ tcome       │\n",
       "│ f64         ┆ str          ┆ str         ┆ str         ┆ ---         ┆ d_pxLastGr… ┆ ---         │\n",
       "│             ┆              ┆             ┆             ┆ str         ┆ ---         ┆ str         │\n",
       "│             ┆              ┆             ┆             ┆             ┆ str         ┆             │\n",
       "╞═════════════╪══════════════╪═════════════╪═════════════╪═════════════╪═════════════╪═════════════╡\n",
       "│ 1.2927e19   ┆ 122947783225 ┆ 67144226894 ┆ ../../../.. ┆ FirstMortga ┆ 14004924338 ┆ Rejected    │\n",
       "│             ┆ 10606753     ┆ 33309795    ┆ /data/Sampl ┆ ge30yr      ┆ 447965477   ┆             │\n",
       "│             ┆              ┆             ┆ eHDS.json   ┆             ┆             ┆             │\n",
       "│ 1.4856e19   ┆ 143350604409 ┆ 40173693784 ┆ ../../../.. ┆ FirstMortga ┆ 18437221179 ┆ Accepted    │\n",
       "│             ┆ 4012735      ┆ 51041528    ┆ /data/Sampl ┆ ge30yr      ┆ 624279381   ┆             │\n",
       "│             ┆              ┆             ┆ eHDS.json   ┆             ┆             ┆             │\n",
       "│ 5.6458e17   ┆ 148115460334 ┆ 91627448763 ┆ ../../../.. ┆ MoneyMarket ┆ 14004924338 ┆ Rejected    │\n",
       "│             ┆ 95670646     ┆ 5936526     ┆ /data/Sampl ┆ SavingsAcco ┆ 447965477   ┆             │\n",
       "│             ┆              ┆             ┆ eHDS.json   ┆ unt         ┆             ┆             │\n",
       "│ 4.0723e18   ┆ 143350604409 ┆ 63250386186 ┆ ../../../.. ┆ BasicChecki ┆ 14004924338 ┆ Rejected    │\n",
       "│             ┆ 4012735      ┆ 80573691    ┆ /data/Sampl ┆ ng          ┆ 447965477   ┆             │\n",
       "│             ┆              ┆             ┆ eHDS.json   ┆             ┆             ┆             │\n",
       "│ 1.4677e19   ┆ 122947783225 ┆ 10812012060 ┆ ../../../.. ┆ BasicChecki ┆ 74835811446 ┆ Accepted    │\n",
       "│             ┆ 10606753     ┆ 135229425   ┆ /data/Sampl ┆ ng          ┆ 96893193    ┆             │\n",
       "│             ┆              ┆             ┆ eHDS.json   ┆             ┆             ┆             │\n",
       "│ 1.6330e19   ┆ 148115460334 ┆ 98362711541 ┆ ../../../.. ┆ UPlusFinPer ┆ null        ┆ Rejected    │\n",
       "│             ┆ 95670646     ┆ 31001572    ┆ /data/Sampl ┆ sonal       ┆             ┆             │\n",
       "│             ┆              ┆             ┆ eHDS.json   ┆             ┆             ┆             │\n",
       "│ 8.7675e18   ┆ 148115460334 ┆ 20817223718 ┆ ../../../.. ┆ BasicChecki ┆ 74835811446 ┆ Rejected    │\n",
       "│             ┆ 95670646     ┆ 15439230    ┆ /data/Sampl ┆ ng          ┆ 96893193    ┆             │\n",
       "│             ┆              ┆             ┆ eHDS.json   ┆             ┆             ┆             │\n",
       "└─────────────┴──────────────┴─────────────┴─────────────┴─────────────┴─────────────┴─────────────┘"
      ]
     },
     "execution_count": 10,
     "metadata": {},
     "output_type": "execute_result"
    }
   ],
   "source": [
    "anon = DataAnonymization(config=Config(config_file='config.json'))\n",
    "anon.process()"
   ]
  },
  {
   "attachments": {},
   "cell_type": "markdown",
   "metadata": {},
   "source": [
    "## Exporting\n",
    "Two functions export:\n",
    "- `create_mapping_file()` writes the mapping file of the predictor names\n",
    "- `write_to_output()` writes the processed dataframe to disk\n",
    "\n",
    "Write to output accepts the following extensions: `[\"ndjson\", \"parquet\", \"arrow\", \"csv\"]`"
   ]
  },
  {
   "cell_type": "code",
   "execution_count": 11,
   "metadata": {
    "execution": {
     "iopub.execute_input": "2023-09-11T15:31:33.927125Z",
     "iopub.status.busy": "2023-09-11T15:31:33.926630Z",
     "iopub.status.idle": "2023-09-11T15:31:33.931653Z",
     "shell.execute_reply": "2023-09-11T15:31:33.931006Z"
    }
   },
   "outputs": [
    {
     "name": "stdout",
     "output_type": "stream",
     "text": [
      "Customer_CLV=PREDICTOR_0\n",
      "Customer_MaritalStatus=PREDICTOR_1\n",
      "Customer_City=PREDICTOR_2\n",
      "filename=filename\n",
      "Context_Name=Context_Name\n",
      "IH_Web_Inbound_Accepted_pxLastGroupID=IH_Web_Inbound_Accepted_pxLastGroupID\n",
      "Decision_Outcome=Decision_Outcome\n",
      "\n"
     ]
    }
   ],
   "source": [
    "anon.create_mapping_file()\n",
    "with open('mapping.map') as f:\n",
    "    print(f.read())"
   ]
  },
  {
   "cell_type": "code",
   "execution_count": 12,
   "metadata": {
    "execution": {
     "iopub.execute_input": "2023-09-11T15:31:33.934955Z",
     "iopub.status.busy": "2023-09-11T15:31:33.934451Z",
     "iopub.status.idle": "2023-09-11T15:31:33.939400Z",
     "shell.execute_reply": "2023-09-11T15:31:33.938739Z"
    }
   },
   "outputs": [],
   "source": [
    "anon.write_to_output(ext='arrow')"
   ]
  },
  {
   "cell_type": "code",
   "execution_count": 13,
   "metadata": {
    "execution": {
     "iopub.execute_input": "2023-09-11T15:31:33.942440Z",
     "iopub.status.busy": "2023-09-11T15:31:33.941974Z",
     "iopub.status.idle": "2023-09-11T15:31:33.948202Z",
     "shell.execute_reply": "2023-09-11T15:31:33.947582Z"
    }
   },
   "outputs": [
    {
     "data": {
      "text/html": [
       "<div><style>\n",
       ".dataframe > thead > tr > th,\n",
       ".dataframe > tbody > tr > td {\n",
       "  text-align: right;\n",
       "}\n",
       "</style>\n",
       "<small>shape: (7, 6)</small><table border=\"1\" class=\"dataframe\"><thead><tr><th>PREDICTOR_0</th><th>PREDICTOR_1</th><th>PREDICTOR_2</th><th>Context_Name</th><th>IH_Web_Inbound_Accepted_pxLastGroupID</th><th>Decision_Outcome</th></tr><tr><td>f64</td><td>str</td><td>str</td><td>str</td><td>str</td><td>str</td></tr></thead><tbody><tr><td>1.2927e19</td><td>&quot;62897578553942…</td><td>&quot;89029263118809…</td><td>&quot;FirstMortgage3…</td><td>&quot;15795905244509…</td><td>&quot;Rejected&quot;</td></tr><tr><td>1.4856e19</td><td>&quot;43469133889789…</td><td>&quot;11795728684309…</td><td>&quot;FirstMortgage3…</td><td>&quot;11776669556239…</td><td>&quot;Accepted&quot;</td></tr><tr><td>5.6458e17</td><td>&quot;85956955466478…</td><td>&quot;23237555322748…</td><td>&quot;MoneyMarketSav…</td><td>&quot;15795905244509…</td><td>&quot;Rejected&quot;</td></tr><tr><td>4.0723e18</td><td>&quot;43469133889789…</td><td>&quot;50953509685299…</td><td>&quot;BasicChecking&quot;</td><td>&quot;15795905244509…</td><td>&quot;Rejected&quot;</td></tr><tr><td>1.4677e19</td><td>&quot;62897578553942…</td><td>&quot;85712974737455…</td><td>&quot;BasicChecking&quot;</td><td>&quot;15521045855409…</td><td>&quot;Accepted&quot;</td></tr><tr><td>1.6330e19</td><td>&quot;85956955466478…</td><td>&quot;17839303481697…</td><td>&quot;UPlusFinPerson…</td><td>null</td><td>&quot;Rejected&quot;</td></tr><tr><td>8.7675e18</td><td>&quot;85956955466478…</td><td>&quot;15333885845852…</td><td>&quot;BasicChecking&quot;</td><td>&quot;15521045855409…</td><td>&quot;Rejected&quot;</td></tr></tbody></table></div>"
      ],
      "text/plain": [
       "shape: (7, 6)\n",
       "┌─────────────┬────────────────┬────────────────┬────────────────┬────────────────┬────────────────┐\n",
       "│ PREDICTOR_0 ┆ PREDICTOR_1    ┆ PREDICTOR_2    ┆ Context_Name   ┆ IH_Web_Inbound ┆ Decision_Outco │\n",
       "│ ---         ┆ ---            ┆ ---            ┆ ---            ┆ _Accepted_pxLa ┆ me             │\n",
       "│ f64         ┆ str            ┆ str            ┆ str            ┆ stGr…          ┆ ---            │\n",
       "│             ┆                ┆                ┆                ┆ ---            ┆ str            │\n",
       "│             ┆                ┆                ┆                ┆ str            ┆                │\n",
       "╞═════════════╪════════════════╪════════════════╪════════════════╪════════════════╪════════════════╡\n",
       "│ 1.2927e19   ┆ 62897578553942 ┆ 89029263118809 ┆ FirstMortgage3 ┆ 15795905244509 ┆ Rejected       │\n",
       "│             ┆ 83711          ┆ 32062          ┆ 0yr            ┆ 814136         ┆                │\n",
       "│ 1.4856e19   ┆ 43469133889789 ┆ 11795728684309 ┆ FirstMortgage3 ┆ 11776669556239 ┆ Accepted       │\n",
       "│             ┆ 95114          ┆ 084218         ┆ 0yr            ┆ 485424         ┆                │\n",
       "│ 5.6458e17   ┆ 85956955466478 ┆ 23237555322748 ┆ MoneyMarketSav ┆ 15795905244509 ┆ Rejected       │\n",
       "│             ┆ 78139          ┆ 05749          ┆ ingsAccount    ┆ 814136         ┆                │\n",
       "│ 4.0723e18   ┆ 43469133889789 ┆ 50953509685299 ┆ BasicChecking  ┆ 15795905244509 ┆ Rejected       │\n",
       "│             ┆ 95114          ┆ 93081          ┆                ┆ 814136         ┆                │\n",
       "│ 1.4677e19   ┆ 62897578553942 ┆ 85712974737455 ┆ BasicChecking  ┆ 15521045855409 ┆ Accepted       │\n",
       "│             ┆ 83711          ┆ 6741           ┆                ┆ 196946         ┆                │\n",
       "│ 1.6330e19   ┆ 85956955466478 ┆ 17839303481697 ┆ UPlusFinPerson ┆ null           ┆ Rejected       │\n",
       "│             ┆ 78139          ┆ 872750         ┆ al             ┆                ┆                │\n",
       "│ 8.7675e18   ┆ 85956955466478 ┆ 15333885845852 ┆ BasicChecking  ┆ 15521045855409 ┆ Rejected       │\n",
       "│             ┆ 78139          ┆ 838840         ┆                ┆ 196946         ┆                │\n",
       "└─────────────┴────────────────┴────────────────┴────────────────┴────────────────┴────────────────┘"
      ]
     },
     "execution_count": 13,
     "metadata": {},
     "output_type": "execute_result"
    }
   ],
   "source": [
    "pl.read_ipc('output/hds.arrow')"
   ]
  },
  {
   "attachments": {},
   "cell_type": "markdown",
   "metadata": {},
   "source": [
    "## Advanced: Hash fuctions\n",
    "\n",
    "By default, we use [the same hashing algorithm Polars](https://pola-rs.github.io/polars/py-polars/html/reference/expressions/api/polars.Expr.hash.html#polars.Expr.hash) uses: [xxhash](https://github.com/Cyan4973/xxHash), as implemented [here](https://github.com/pola-rs/polars/blob/3f287f370b3c388ed2f3f218b2c096382548136f/polars/polars-core/src/vector_hasher.rs#L266). xxhash is fast to compute, and you can check its performance in collision, dispersion and randomness [here](https://github.com/Cyan4973/xxHash/tree/dev/tests). \n",
    "\n",
    "xxhash accepts four distinct seeds, but by default we set the seeds to `0`. It is possible to set the `seed` argument of the `process()` function to `'random'`, which will set all four seeds to a random integer between `0` and `1000000000`. Alternatively, it is possible to supply the four seeds manually with arguments `seed`, `seed_1`, `seed_2` and `seed_3`. \n",
    "\n",
    "If the xxhash with (random) seed(s) is not deemed sufficiently secure, it is possible to use your own hashing algorithm.\n",
    "\n",
    "Note that since we're now running python code and not native Polars code anymore, this will be _significantly_ slower. Nonetheless, it is possible.\n",
    "\n",
    "Just as an example - this is how one would use sha3_256:"
   ]
  },
  {
   "cell_type": "code",
   "execution_count": 14,
   "metadata": {
    "execution": {
     "iopub.execute_input": "2023-09-11T15:31:33.952121Z",
     "iopub.status.busy": "2023-09-11T15:31:33.951611Z",
     "iopub.status.idle": "2023-09-11T15:31:34.544155Z",
     "shell.execute_reply": "2023-09-11T15:31:34.543331Z"
    }
   },
   "outputs": [
    {
     "ename": "ComputeError",
     "evalue": "AttributeError: 'int' object has no attribute 'encode'",
     "output_type": "error",
     "traceback": [
      "\u001b[0;31m---------------------------------------------------------------------------\u001b[0m",
      "\u001b[0;31mComputeError\u001b[0m                              Traceback (most recent call last)",
      "Cell \u001b[0;32mIn[14], line 3\u001b[0m\n\u001b[1;32m      1\u001b[0m \u001b[38;5;28;01mfrom\u001b[39;00m \u001b[38;5;21;01mhashlib\u001b[39;00m \u001b[38;5;28;01mimport\u001b[39;00m sha3_256\n\u001b[0;32m----> 3\u001b[0m \u001b[43manon\u001b[49m\u001b[38;5;241;43m.\u001b[39;49m\u001b[43mprocess\u001b[49m\u001b[43m(\u001b[49m\u001b[43malgorithm\u001b[49m\u001b[38;5;241;43m=\u001b[39;49m\u001b[38;5;28;43;01mlambda\u001b[39;49;00m\u001b[43m \u001b[49m\u001b[43mx\u001b[49m\u001b[43m:\u001b[49m\u001b[43m \u001b[49m\u001b[43msha3_256\u001b[49m\u001b[43m(\u001b[49m\u001b[43mx\u001b[49m\u001b[38;5;241;43m.\u001b[39;49m\u001b[43mencode\u001b[49m\u001b[43m(\u001b[49m\u001b[43m)\u001b[49m\u001b[43m)\u001b[49m\u001b[38;5;241;43m.\u001b[39;49m\u001b[43mhexdigest\u001b[49m\u001b[43m(\u001b[49m\u001b[43m)\u001b[49m\u001b[43m)\u001b[49m\n",
      "File \u001b[0;32m~/work/pega-datascientist-tools/pega-datascientist-tools/python/docs/source/articles/../../../pdstools/utils/hds_utils.py:516\u001b[0m, in \u001b[0;36mDataAnonymization.process\u001b[0;34m(self, strategy, **kwargs)\u001b[0m\n\u001b[1;32m    514\u001b[0m df \u001b[38;5;241m=\u001b[39m df\u001b[38;5;241m.\u001b[39mselect(\u001b[38;5;28mself\u001b[39m\u001b[38;5;241m.\u001b[39mcolumn_mapping\u001b[38;5;241m.\u001b[39mkeys())\u001b[38;5;241m.\u001b[39mrename(\u001b[38;5;28mself\u001b[39m\u001b[38;5;241m.\u001b[39mcolumn_mapping)\n\u001b[1;32m    515\u001b[0m \u001b[38;5;28;01mif\u001b[39;00m strategy \u001b[38;5;241m==\u001b[39m \u001b[38;5;124m\"\u001b[39m\u001b[38;5;124meager\u001b[39m\u001b[38;5;124m\"\u001b[39m:\n\u001b[0;32m--> 516\u001b[0m     \u001b[38;5;28;01mreturn\u001b[39;00m \u001b[43mdf\u001b[49m\u001b[38;5;241;43m.\u001b[39;49m\u001b[43mcollect\u001b[49m\u001b[43m(\u001b[49m\u001b[43m)\u001b[49m\n\u001b[1;32m    517\u001b[0m \u001b[38;5;28;01mreturn\u001b[39;00m df\n",
      "File \u001b[0;32m/opt/hostedtoolcache/Python/3.11.5/x64/lib/python3.11/site-packages/polars/lazyframe/frame.py:1530\u001b[0m, in \u001b[0;36mLazyFrame.collect\u001b[0;34m(self, type_coercion, predicate_pushdown, projection_pushdown, simplify_expression, no_optimization, slice_pushdown, common_subplan_elimination, streaming)\u001b[0m\n\u001b[1;32m   1519\u001b[0m     common_subplan_elimination \u001b[38;5;241m=\u001b[39m \u001b[38;5;28;01mFalse\u001b[39;00m\n\u001b[1;32m   1521\u001b[0m ldf \u001b[38;5;241m=\u001b[39m \u001b[38;5;28mself\u001b[39m\u001b[38;5;241m.\u001b[39m_ldf\u001b[38;5;241m.\u001b[39moptimization_toggle(\n\u001b[1;32m   1522\u001b[0m     type_coercion,\n\u001b[1;32m   1523\u001b[0m     predicate_pushdown,\n\u001b[0;32m   (...)\u001b[0m\n\u001b[1;32m   1528\u001b[0m     streaming,\n\u001b[1;32m   1529\u001b[0m )\n\u001b[0;32m-> 1530\u001b[0m \u001b[38;5;28;01mreturn\u001b[39;00m wrap_df(ldf\u001b[38;5;241m.\u001b[39mcollect())\n",
      "\u001b[0;31mComputeError\u001b[0m: AttributeError: 'int' object has no attribute 'encode'"
     ]
    }
   ],
   "source": [
    "from hashlib import sha3_256\n",
    "\n",
    "anon.process(algorithm=lambda x: sha3_256(x.encode()).hexdigest())"
   ]
  }
 ],
 "metadata": {
  "kernelspec": {
   "display_name": "Python 3",
   "language": "python",
   "name": "python3"
  },
  "language_info": {
   "codemirror_mode": {
    "name": "ipython",
    "version": 3
   },
   "file_extension": ".py",
   "mimetype": "text/x-python",
   "name": "python",
   "nbconvert_exporter": "python",
   "pygments_lexer": "ipython3",
   "version": "3.11.5"
  },
  "vscode": {
   "interpreter": {
    "hash": "aee8b7b246df8f9039afb4144a1f6fd8d2ca17a180786b69acc140d282b71a49"
   }
  }
 },
 "nbformat": 4,
 "nbformat_minor": 2
}
