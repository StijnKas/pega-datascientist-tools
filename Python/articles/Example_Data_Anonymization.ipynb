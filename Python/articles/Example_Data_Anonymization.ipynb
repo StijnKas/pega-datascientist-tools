{
 "cells": [
  {
   "attachments": {},
   "cell_type": "markdown",
   "metadata": {},
   "source": [
    "# Example data anonymization\n",
    "\n",
    "In Pega CDH 8.5 and up, it's now possible to record the historical data as seen by the Adaptive Models. See [this academy challenge](https://academy.pega.com/challenge/exporting-historical-data/v4) for reference. This historical data can be further used to experiment with offline models, but also to fine-tune the OOTB Gradient Boosting model. However, sharing this information with Pega can be sensitive as it contains raw predictor data. \n",
    "\n",
    "To this end, we provide a simple and transparent script to fully anonimize this dataset.\n",
    "\n",
    "The DataAnonymization script is now part of pdstools, and you can import it directly as such."
   ]
  },
  {
   "cell_type": "code",
   "execution_count": 1,
   "metadata": {
    "execution": {
     "iopub.execute_input": "2023-10-24T15:37:54.244779Z",
     "iopub.status.busy": "2023-10-24T15:37:54.244578Z",
     "iopub.status.idle": "2023-10-24T15:37:54.324364Z",
     "shell.execute_reply": "2023-10-24T15:37:54.323786Z"
    },
    "nbsphinx": "hidden"
   },
   "outputs": [],
   "source": [
    "# These lines are only for rendering in the docs, and are hidden through Jupyter tags\n",
    "# Do not run if you're running the notebook seperately\n",
    "\n",
    "import os  \n",
    "import sys\n",
    "import plotly.io as pio\n",
    "pio.renderers.default = \"notebook_connected\"\n",
    "\n",
    "sys.path.append(\"../../../\")\n",
    "sys.path.append('../../python')"
   ]
  },
  {
   "cell_type": "code",
   "execution_count": 2,
   "metadata": {
    "execution": {
     "iopub.execute_input": "2023-10-24T15:37:54.327027Z",
     "iopub.status.busy": "2023-10-24T15:37:54.326622Z",
     "iopub.status.idle": "2023-10-24T15:37:55.439113Z",
     "shell.execute_reply": "2023-10-24T15:37:55.438519Z"
    }
   },
   "outputs": [],
   "source": [
    "from pdstools import ADMDatamart\n",
    "from pdstools import Config, DataAnonymization\n",
    "import polars as pl"
   ]
  },
  {
   "attachments": {},
   "cell_type": "markdown",
   "metadata": {},
   "source": [
    "## Input data\n",
    "\n",
    "To demonstrate this process, we're going to anonymise this toy example dataframe:"
   ]
  },
  {
   "cell_type": "code",
   "execution_count": 3,
   "metadata": {
    "execution": {
     "iopub.execute_input": "2023-10-24T15:37:55.442096Z",
     "iopub.status.busy": "2023-10-24T15:37:55.441485Z",
     "iopub.status.idle": "2023-10-24T15:37:55.453273Z",
     "shell.execute_reply": "2023-10-24T15:37:55.452746Z"
    }
   },
   "outputs": [
    {
     "data": {
      "text/html": [
       "<div><style>\n",
       ".dataframe > thead > tr > th,\n",
       ".dataframe > tbody > tr > td {\n",
       "  text-align: right;\n",
       "  white-space: pre-wrap;\n",
       "}\n",
       "</style>\n",
       "<small>shape: (7, 6)</small><table border=\"1\" class=\"dataframe\"><thead><tr><th>Context_Name</th><th>Customer_MaritalStatus</th><th>Customer_CLV</th><th>Customer_City</th><th>IH_Web_Inbound_Accepted_pxLastGroupID</th><th>Decision_Outcome</th></tr><tr><td>str</td><td>str</td><td>i64</td><td>str</td><td>str</td><td>str</td></tr></thead><tbody><tr><td>&quot;FirstMortgage3…</td><td>&quot;Married&quot;</td><td>1460</td><td>&quot;Port Raoul&quot;</td><td>&quot;Account&quot;</td><td>&quot;Rejected&quot;</td></tr><tr><td>&quot;FirstMortgage3…</td><td>&quot;Unknown&quot;</td><td>669</td><td>&quot;Laurianneshire…</td><td>&quot;AutoLoans&quot;</td><td>&quot;Accepted&quot;</td></tr><tr><td>&quot;MoneyMarketSav…</td><td>&quot;No Resp+&quot;</td><td>1174</td><td>&quot;Jacobshaven&quot;</td><td>&quot;Account&quot;</td><td>&quot;Rejected&quot;</td></tr><tr><td>&quot;BasicChecking&quot;</td><td>&quot;Unknown&quot;</td><td>1476</td><td>&quot;Lindton&quot;</td><td>&quot;Account&quot;</td><td>&quot;Rejected&quot;</td></tr><tr><td>&quot;BasicChecking&quot;</td><td>&quot;Married&quot;</td><td>1211</td><td>&quot;South Jimmiesh…</td><td>&quot;DepositAccount…</td><td>&quot;Accepted&quot;</td></tr><tr><td>&quot;UPlusFinPerson…</td><td>&quot;No Resp+&quot;</td><td>533</td><td>&quot;Bergeville&quot;</td><td>null</td><td>&quot;Rejected&quot;</td></tr><tr><td>&quot;BasicChecking&quot;</td><td>&quot;No Resp+&quot;</td><td>555</td><td>&quot;Willyville&quot;</td><td>&quot;DepositAccount…</td><td>&quot;Rejected&quot;</td></tr></tbody></table></div>"
      ],
      "text/plain": [
       "shape: (7, 6)\n",
       "┌────────────────┬────────────────┬──────────────┬────────────────┬────────────────┬───────────────┐\n",
       "│ Context_Name   ┆ Customer_Marit ┆ Customer_CLV ┆ Customer_City  ┆ IH_Web_Inbound ┆ Decision_Outc │\n",
       "│ ---            ┆ alStatus       ┆ ---          ┆ ---            ┆ _Accepted_pxLa ┆ ome           │\n",
       "│ str            ┆ ---            ┆ i64          ┆ str            ┆ stGr…          ┆ ---           │\n",
       "│                ┆ str            ┆              ┆                ┆ ---            ┆ str           │\n",
       "│                ┆                ┆              ┆                ┆ str            ┆               │\n",
       "╞════════════════╪════════════════╪══════════════╪════════════════╪════════════════╪═══════════════╡\n",
       "│ FirstMortgage3 ┆ Married        ┆ 1460         ┆ Port Raoul     ┆ Account        ┆ Rejected      │\n",
       "│ 0yr            ┆                ┆              ┆                ┆                ┆               │\n",
       "│ FirstMortgage3 ┆ Unknown        ┆ 669          ┆ Laurianneshire ┆ AutoLoans      ┆ Accepted      │\n",
       "│ 0yr            ┆                ┆              ┆                ┆                ┆               │\n",
       "│ MoneyMarketSav ┆ No Resp+       ┆ 1174         ┆ Jacobshaven    ┆ Account        ┆ Rejected      │\n",
       "│ ingsAccount    ┆                ┆              ┆                ┆                ┆               │\n",
       "│ BasicChecking  ┆ Unknown        ┆ 1476         ┆ Lindton        ┆ Account        ┆ Rejected      │\n",
       "│ BasicChecking  ┆ Married        ┆ 1211         ┆ South          ┆ DepositAccount ┆ Accepted      │\n",
       "│                ┆                ┆              ┆ Jimmieshire    ┆ s              ┆               │\n",
       "│ UPlusFinPerson ┆ No Resp+       ┆ 533          ┆ Bergeville     ┆ null           ┆ Rejected      │\n",
       "│ al             ┆                ┆              ┆                ┆                ┆               │\n",
       "│ BasicChecking  ┆ No Resp+       ┆ 555          ┆ Willyville     ┆ DepositAccount ┆ Rejected      │\n",
       "│                ┆                ┆              ┆                ┆ s              ┆               │\n",
       "└────────────────┴────────────────┴──────────────┴────────────────┴────────────────┴───────────────┘"
      ]
     },
     "execution_count": 3,
     "metadata": {},
     "output_type": "execute_result"
    }
   ],
   "source": [
    "pl.read_ndjson('../../../../data/SampleHDS.json')"
   ]
  },
  {
   "attachments": {},
   "cell_type": "markdown",
   "metadata": {},
   "source": [
    "As you can see, this dataset consists of regular predictors, IH predictors, context keys and the outcome column. Additionally, some columns are numeric, others are strings. Let's first initialize the DataAnonymization class."
   ]
  },
  {
   "cell_type": "code",
   "execution_count": 4,
   "metadata": {
    "execution": {
     "iopub.execute_input": "2023-10-24T15:37:55.455933Z",
     "iopub.status.busy": "2023-10-24T15:37:55.455453Z",
     "iopub.status.idle": "2023-10-24T15:37:55.464787Z",
     "shell.execute_reply": "2023-10-24T15:37:55.464281Z"
    }
   },
   "outputs": [],
   "source": [
    "anon = DataAnonymization(hds_folder='../../../../data/')"
   ]
  },
  {
   "attachments": {},
   "cell_type": "markdown",
   "metadata": {},
   "source": [
    "By default, the class applies a set of anonymisation techniques:\n",
    "- Column names are remapped to a non-descriptive name\n",
    "- Categorical values are hashed with a random seed\n",
    "- Numerical values are normalized between 0 and 1\n",
    "- Outcomes are mapped to a binary outcome.\n",
    "\n",
    "To apply these techniques, simply call `.process()`:"
   ]
  },
  {
   "cell_type": "code",
   "execution_count": 5,
   "metadata": {
    "execution": {
     "iopub.execute_input": "2023-10-24T15:37:55.467563Z",
     "iopub.status.busy": "2023-10-24T15:37:55.467029Z",
     "iopub.status.idle": "2023-10-24T15:37:55.473382Z",
     "shell.execute_reply": "2023-10-24T15:37:55.472943Z"
    }
   },
   "outputs": [
    {
     "data": {
      "text/html": [
       "<div><style>\n",
       ".dataframe > thead > tr > th,\n",
       ".dataframe > tbody > tr > td {\n",
       "  text-align: right;\n",
       "  white-space: pre-wrap;\n",
       "}\n",
       "</style>\n",
       "<small>shape: (7, 7)</small><table border=\"1\" class=\"dataframe\"><thead><tr><th>filename</th><th>PREDICTOR_1</th><th>PREDICTOR_2</th><th>PREDICTOR_3</th><th>Context_Name</th><th>IH_PREDICTOR_0</th><th>Decision_Outcome</th></tr><tr><td>str</td><td>f64</td><td>str</td><td>str</td><td>str</td><td>str</td><td>bool</td></tr></thead><tbody><tr><td>&quot;../../../../da…</td><td>1.2927e19</td><td>&quot;46971637432845…</td><td>&quot;16888322315446…</td><td>&quot;37924632088848…</td><td>&quot;15354588695045…</td><td>false</td></tr><tr><td>&quot;../../../../da…</td><td>1.4856e19</td><td>&quot;14555886672330…</td><td>&quot;40180142320920…</td><td>&quot;37924632088848…</td><td>&quot;89150830274155…</td><td>true</td></tr><tr><td>&quot;../../../../da…</td><td>5.6458e17</td><td>&quot;78409236264581…</td><td>&quot;68325478307105…</td><td>&quot;16965474907264…</td><td>&quot;15354588695045…</td><td>false</td></tr><tr><td>&quot;../../../../da…</td><td>4.0723e18</td><td>&quot;14569309381229…</td><td>&quot;40180142320920…</td><td>&quot;14282389331627…</td><td>&quot;15354588695045…</td><td>false</td></tr><tr><td>&quot;../../../../da…</td><td>1.4677e19</td><td>&quot;14326380777262…</td><td>&quot;16888322315446…</td><td>&quot;14282389331627…</td><td>&quot;34975986482753…</td><td>true</td></tr><tr><td>&quot;../../../../da…</td><td>1.6330e19</td><td>&quot;12583238945688…</td><td>&quot;68325478307105…</td><td>&quot;87074634284742…</td><td>null</td><td>false</td></tr><tr><td>&quot;../../../../da…</td><td>8.7675e18</td><td>&quot;43891709434498…</td><td>&quot;68325478307105…</td><td>&quot;14282389331627…</td><td>&quot;34975986482753…</td><td>false</td></tr></tbody></table></div>"
      ],
      "text/plain": [
       "shape: (7, 7)\n",
       "┌──────────────┬─────────────┬─────────────┬─────────────┬─────────────┬─────────────┬─────────────┐\n",
       "│ filename     ┆ PREDICTOR_1 ┆ PREDICTOR_2 ┆ PREDICTOR_3 ┆ Context_Nam ┆ IH_PREDICTO ┆ Decision_Ou │\n",
       "│ ---          ┆ ---         ┆ ---         ┆ ---         ┆ e           ┆ R_0         ┆ tcome       │\n",
       "│ str          ┆ f64         ┆ str         ┆ str         ┆ ---         ┆ ---         ┆ ---         │\n",
       "│              ┆             ┆             ┆             ┆ str         ┆ str         ┆ bool        │\n",
       "╞══════════════╪═════════════╪═════════════╪═════════════╪═════════════╪═════════════╪═════════════╡\n",
       "│ ../../../../ ┆ 1.2927e19   ┆ 46971637432 ┆ 16888322315 ┆ 37924632088 ┆ 15354588695 ┆ false       │\n",
       "│ data/SampleH ┆             ┆ 84578483    ┆ 446268054   ┆ 8480119     ┆ 045048540   ┆             │\n",
       "│ DS.json      ┆             ┆             ┆             ┆             ┆             ┆             │\n",
       "│ ../../../../ ┆ 1.4856e19   ┆ 14555886672 ┆ 40180142320 ┆ 37924632088 ┆ 89150830274 ┆ true        │\n",
       "│ data/SampleH ┆             ┆ 330803242   ┆ 92029887    ┆ 8480119     ┆ 15546189    ┆             │\n",
       "│ DS.json      ┆             ┆             ┆             ┆             ┆             ┆             │\n",
       "│ ../../../../ ┆ 5.6458e17   ┆ 78409236264 ┆ 68325478307 ┆ 16965474907 ┆ 15354588695 ┆ false       │\n",
       "│ data/SampleH ┆             ┆ 58109004    ┆ 10500063    ┆ 2641518     ┆ 045048540   ┆             │\n",
       "│ DS.json      ┆             ┆             ┆             ┆             ┆             ┆             │\n",
       "│ ../../../../ ┆ 4.0723e18   ┆ 14569309381 ┆ 40180142320 ┆ 14282389331 ┆ 15354588695 ┆ false       │\n",
       "│ data/SampleH ┆             ┆ 22931126    ┆ 92029887    ┆ 6279566     ┆ 045048540   ┆             │\n",
       "│ DS.json      ┆             ┆             ┆             ┆             ┆             ┆             │\n",
       "│ ../../../../ ┆ 1.4677e19   ┆ 14326380777 ┆ 16888322315 ┆ 14282389331 ┆ 34975986482 ┆ true        │\n",
       "│ data/SampleH ┆             ┆ 262640978   ┆ 446268054   ┆ 6279566     ┆ 75303461    ┆             │\n",
       "│ DS.json      ┆             ┆             ┆             ┆             ┆             ┆             │\n",
       "│ ../../../../ ┆ 1.6330e19   ┆ 12583238945 ┆ 68325478307 ┆ 87074634284 ┆ null        ┆ false       │\n",
       "│ data/SampleH ┆             ┆ 688448997   ┆ 10500063    ┆ 7425361     ┆             ┆             │\n",
       "│ DS.json      ┆             ┆             ┆             ┆             ┆             ┆             │\n",
       "│ ../../../../ ┆ 8.7675e18   ┆ 43891709434 ┆ 68325478307 ┆ 14282389331 ┆ 34975986482 ┆ false       │\n",
       "│ data/SampleH ┆             ┆ 49813448    ┆ 10500063    ┆ 6279566     ┆ 75303461    ┆             │\n",
       "│ DS.json      ┆             ┆             ┆             ┆             ┆             ┆             │\n",
       "└──────────────┴─────────────┴─────────────┴─────────────┴─────────────┴─────────────┴─────────────┘"
      ]
     },
     "execution_count": 5,
     "metadata": {},
     "output_type": "execute_result"
    }
   ],
   "source": [
    "anon.process()"
   ]
  },
  {
   "attachments": {},
   "cell_type": "markdown",
   "metadata": {},
   "source": [
    "To trace back the columns to their original names, the class also contains a mapping, which does not have to be provided."
   ]
  },
  {
   "cell_type": "code",
   "execution_count": 6,
   "metadata": {
    "execution": {
     "iopub.execute_input": "2023-10-24T15:37:55.475753Z",
     "iopub.status.busy": "2023-10-24T15:37:55.475230Z",
     "iopub.status.idle": "2023-10-24T15:37:55.479016Z",
     "shell.execute_reply": "2023-10-24T15:37:55.478578Z"
    }
   },
   "outputs": [
    {
     "data": {
      "text/plain": [
       "{'filename': 'filename',\n",
       " 'Customer_CLV': 'PREDICTOR_1',\n",
       " 'Customer_City': 'PREDICTOR_2',\n",
       " 'Customer_MaritalStatus': 'PREDICTOR_3',\n",
       " 'Context_Name': 'Context_Name',\n",
       " 'IH_Web_Inbound_Accepted_pxLastGroupID': 'IH_PREDICTOR_0',\n",
       " 'Decision_Outcome': 'Decision_Outcome'}"
      ]
     },
     "execution_count": 6,
     "metadata": {},
     "output_type": "execute_result"
    }
   ],
   "source": [
    "anon.column_mapping"
   ]
  },
  {
   "attachments": {},
   "cell_type": "markdown",
   "metadata": {},
   "source": [
    "## Configs\n",
    "\n",
    "Each capability can optionally be turned off - see below for the full list of config options, and refer to the API reference for the full description."
   ]
  },
  {
   "cell_type": "code",
   "execution_count": 7,
   "metadata": {
    "execution": {
     "iopub.execute_input": "2023-10-24T15:37:55.481346Z",
     "iopub.status.busy": "2023-10-24T15:37:55.480819Z",
     "iopub.status.idle": "2023-10-24T15:37:55.485103Z",
     "shell.execute_reply": "2023-10-24T15:37:55.484685Z"
    }
   },
   "outputs": [
    {
     "data": {
      "text/plain": [
       "{'config_file': None,\n",
       " 'hds_folder': '.',\n",
       " 'use_datamart': False,\n",
       " 'datamart_folder': 'datamart',\n",
       " 'output_format': 'ndjson',\n",
       " 'output_folder': 'output',\n",
       " 'mapping_file': 'mapping.map',\n",
       " 'mask_predictor_names': True,\n",
       " 'mask_context_key_names': False,\n",
       " 'mask_ih_names': True,\n",
       " 'mask_outcome_name': False,\n",
       " 'mask_predictor_values': True,\n",
       " 'mask_context_key_values': True,\n",
       " 'mask_ih_values': True,\n",
       " 'mask_outcome_values': True,\n",
       " 'context_key_label': 'Context_*',\n",
       " 'ih_label': 'IH_*',\n",
       " 'outcome_column': 'Decision_Outcome',\n",
       " 'positive_outcomes': ['Accepted', 'Clicked'],\n",
       " 'negative_outcomes': ['Rejected', 'Impression'],\n",
       " 'special_predictors': ['Decision_DecisionTime',\n",
       "  'Decision_OutcomeTime',\n",
       "  'Decision_Rank'],\n",
       " 'sample_percentage_schema_inferencing': 0.01}"
      ]
     },
     "execution_count": 7,
     "metadata": {},
     "output_type": "execute_result"
    }
   ],
   "source": [
    "dict(zip(Config.__init__.__code__.co_varnames[1:], Config.__init__.__defaults__))"
   ]
  },
  {
   "attachments": {},
   "cell_type": "markdown",
   "metadata": {},
   "source": [
    "It's easy to change these parameters by just passing the keyword arguments. In the following example, we\n",
    "- Keep the IH predictor names\n",
    "- Keep the outcome values\n",
    "- Keep the context key values\n",
    "- Keep the context key predictor names"
   ]
  },
  {
   "cell_type": "code",
   "execution_count": 8,
   "metadata": {
    "execution": {
     "iopub.execute_input": "2023-10-24T15:37:55.487381Z",
     "iopub.status.busy": "2023-10-24T15:37:55.486855Z",
     "iopub.status.idle": "2023-10-24T15:37:55.499361Z",
     "shell.execute_reply": "2023-10-24T15:37:55.498898Z"
    }
   },
   "outputs": [
    {
     "data": {
      "text/html": [
       "<div><style>\n",
       ".dataframe > thead > tr > th,\n",
       ".dataframe > tbody > tr > td {\n",
       "  text-align: right;\n",
       "  white-space: pre-wrap;\n",
       "}\n",
       "</style>\n",
       "<small>shape: (7, 7)</small><table border=\"1\" class=\"dataframe\"><thead><tr><th>filename</th><th>PREDICTOR_1</th><th>PREDICTOR_2</th><th>PREDICTOR_3</th><th>Context_Name</th><th>IH_Web_Inbound_Accepted_pxLastGroupID</th><th>Decision_Outcome</th></tr><tr><td>str</td><td>f64</td><td>str</td><td>str</td><td>str</td><td>str</td><td>str</td></tr></thead><tbody><tr><td>&quot;../../../../da…</td><td>1.2927e19</td><td>&quot;11400612359225…</td><td>&quot;12392714035977…</td><td>&quot;FirstMortgage3…</td><td>&quot;10778087096414…</td><td>&quot;Rejected&quot;</td></tr><tr><td>&quot;../../../../da…</td><td>1.4856e19</td><td>&quot;12699108869484…</td><td>&quot;15748889153029…</td><td>&quot;FirstMortgage3…</td><td>&quot;87500607221693…</td><td>&quot;Accepted&quot;</td></tr><tr><td>&quot;../../../../da…</td><td>5.6458e17</td><td>&quot;17086336478195…</td><td>&quot;17569316177553…</td><td>&quot;MoneyMarketSav…</td><td>&quot;10778087096414…</td><td>&quot;Rejected&quot;</td></tr><tr><td>&quot;../../../../da…</td><td>4.0723e18</td><td>&quot;73243533751391…</td><td>&quot;15748889153029…</td><td>&quot;BasicChecking&quot;</td><td>&quot;10778087096414…</td><td>&quot;Rejected&quot;</td></tr><tr><td>&quot;../../../../da…</td><td>1.4677e19</td><td>&quot;49007282794701…</td><td>&quot;12392714035977…</td><td>&quot;BasicChecking&quot;</td><td>&quot;11876706352593…</td><td>&quot;Accepted&quot;</td></tr><tr><td>&quot;../../../../da…</td><td>1.6330e19</td><td>&quot;20261598732256…</td><td>&quot;17569316177553…</td><td>&quot;UPlusFinPerson…</td><td>null</td><td>&quot;Rejected&quot;</td></tr><tr><td>&quot;../../../../da…</td><td>8.7675e18</td><td>&quot;48144956063632…</td><td>&quot;17569316177553…</td><td>&quot;BasicChecking&quot;</td><td>&quot;11876706352593…</td><td>&quot;Rejected&quot;</td></tr></tbody></table></div>"
      ],
      "text/plain": [
       "shape: (7, 7)\n",
       "┌──────────────┬─────────────┬─────────────┬─────────────┬─────────────┬─────────────┬─────────────┐\n",
       "│ filename     ┆ PREDICTOR_1 ┆ PREDICTOR_2 ┆ PREDICTOR_3 ┆ Context_Nam ┆ IH_Web_Inbo ┆ Decision_Ou │\n",
       "│ ---          ┆ ---         ┆ ---         ┆ ---         ┆ e           ┆ und_Accepte ┆ tcome       │\n",
       "│ str          ┆ f64         ┆ str         ┆ str         ┆ ---         ┆ d_pxLastGr… ┆ ---         │\n",
       "│              ┆             ┆             ┆             ┆ str         ┆ ---         ┆ str         │\n",
       "│              ┆             ┆             ┆             ┆             ┆ str         ┆             │\n",
       "╞══════════════╪═════════════╪═════════════╪═════════════╪═════════════╪═════════════╪═════════════╡\n",
       "│ ../../../../ ┆ 1.2927e19   ┆ 11400612359 ┆ 12392714035 ┆ FirstMortga ┆ 10778087096 ┆ Rejected    │\n",
       "│ data/SampleH ┆             ┆ 225526720   ┆ 977570165   ┆ ge30yr      ┆ 414793057   ┆             │\n",
       "│ DS.json      ┆             ┆             ┆             ┆             ┆             ┆             │\n",
       "│ ../../../../ ┆ 1.4856e19   ┆ 12699108869 ┆ 15748889153 ┆ FirstMortga ┆ 87500607221 ┆ Accepted    │\n",
       "│ data/SampleH ┆             ┆ 484839870   ┆ 029352596   ┆ ge30yr      ┆ 69356641    ┆             │\n",
       "│ DS.json      ┆             ┆             ┆             ┆             ┆             ┆             │\n",
       "│ ../../../../ ┆ 5.6458e17   ┆ 17086336478 ┆ 17569316177 ┆ MoneyMarket ┆ 10778087096 ┆ Rejected    │\n",
       "│ data/SampleH ┆             ┆ 195101074   ┆ 553160630   ┆ SavingsAcco ┆ 414793057   ┆             │\n",
       "│ DS.json      ┆             ┆             ┆             ┆ unt         ┆             ┆             │\n",
       "│ ../../../../ ┆ 4.0723e18   ┆ 73243533751 ┆ 15748889153 ┆ BasicChecki ┆ 10778087096 ┆ Rejected    │\n",
       "│ data/SampleH ┆             ┆ 39183717    ┆ 029352596   ┆ ng          ┆ 414793057   ┆             │\n",
       "│ DS.json      ┆             ┆             ┆             ┆             ┆             ┆             │\n",
       "│ ../../../../ ┆ 1.4677e19   ┆ 49007282794 ┆ 12392714035 ┆ BasicChecki ┆ 11876706352 ┆ Accepted    │\n",
       "│ data/SampleH ┆             ┆ 70184320    ┆ 977570165   ┆ ng          ┆ 593635630   ┆             │\n",
       "│ DS.json      ┆             ┆             ┆             ┆             ┆             ┆             │\n",
       "│ ../../../../ ┆ 1.6330e19   ┆ 20261598732 ┆ 17569316177 ┆ UPlusFinPer ┆ null        ┆ Rejected    │\n",
       "│ data/SampleH ┆             ┆ 25616868    ┆ 553160630   ┆ sonal       ┆             ┆             │\n",
       "│ DS.json      ┆             ┆             ┆             ┆             ┆             ┆             │\n",
       "│ ../../../../ ┆ 8.7675e18   ┆ 48144956063 ┆ 17569316177 ┆ BasicChecki ┆ 11876706352 ┆ Rejected    │\n",
       "│ data/SampleH ┆             ┆ 63211361    ┆ 553160630   ┆ ng          ┆ 593635630   ┆             │\n",
       "│ DS.json      ┆             ┆             ┆             ┆             ┆             ┆             │\n",
       "└──────────────┴─────────────┴─────────────┴─────────────┴─────────────┴─────────────┴─────────────┘"
      ]
     },
     "execution_count": 8,
     "metadata": {},
     "output_type": "execute_result"
    }
   ],
   "source": [
    "anon = DataAnonymization(\n",
    "    hds_folder=\"../../../../data/\",\n",
    "    mask_ih_names=False,\n",
    "    mask_outcome_values=False,\n",
    "    mask_context_key_values=False,\n",
    "    mask_context_key_names=False,\n",
    ")\n",
    "anon.process()\n"
   ]
  },
  {
   "attachments": {},
   "cell_type": "markdown",
   "metadata": {},
   "source": [
    "The configs can also be written and read as such:"
   ]
  },
  {
   "cell_type": "code",
   "execution_count": 9,
   "metadata": {
    "execution": {
     "iopub.execute_input": "2023-10-24T15:37:55.501659Z",
     "iopub.status.busy": "2023-10-24T15:37:55.501150Z",
     "iopub.status.idle": "2023-10-24T15:37:55.504024Z",
     "shell.execute_reply": "2023-10-24T15:37:55.503582Z"
    }
   },
   "outputs": [],
   "source": [
    "anon.config.save_to_config_file('config.json')"
   ]
  },
  {
   "cell_type": "code",
   "execution_count": 10,
   "metadata": {
    "execution": {
     "iopub.execute_input": "2023-10-24T15:37:55.506224Z",
     "iopub.status.busy": "2023-10-24T15:37:55.505720Z",
     "iopub.status.idle": "2023-10-24T15:37:55.517492Z",
     "shell.execute_reply": "2023-10-24T15:37:55.517055Z"
    }
   },
   "outputs": [
    {
     "data": {
      "text/html": [
       "<div><style>\n",
       ".dataframe > thead > tr > th,\n",
       ".dataframe > tbody > tr > td {\n",
       "  text-align: right;\n",
       "  white-space: pre-wrap;\n",
       "}\n",
       "</style>\n",
       "<small>shape: (7, 7)</small><table border=\"1\" class=\"dataframe\"><thead><tr><th>filename</th><th>PREDICTOR_1</th><th>PREDICTOR_2</th><th>PREDICTOR_3</th><th>Context_Name</th><th>IH_Web_Inbound_Accepted_pxLastGroupID</th><th>Decision_Outcome</th></tr><tr><td>str</td><td>f64</td><td>str</td><td>str</td><td>str</td><td>str</td><td>str</td></tr></thead><tbody><tr><td>&quot;../../../../da…</td><td>1.2927e19</td><td>&quot;24708403261672…</td><td>&quot;78175068550376…</td><td>&quot;FirstMortgage3…</td><td>&quot;99168365849227…</td><td>&quot;Rejected&quot;</td></tr><tr><td>&quot;../../../../da…</td><td>1.4856e19</td><td>&quot;15064692448144…</td><td>&quot;15251191982753…</td><td>&quot;FirstMortgage3…</td><td>&quot;13956853654505…</td><td>&quot;Accepted&quot;</td></tr><tr><td>&quot;../../../../da…</td><td>5.6458e17</td><td>&quot;27740867997747…</td><td>&quot;35380738041033…</td><td>&quot;MoneyMarketSav…</td><td>&quot;99168365849227…</td><td>&quot;Rejected&quot;</td></tr><tr><td>&quot;../../../../da…</td><td>4.0723e18</td><td>&quot;34707287654778…</td><td>&quot;15251191982753…</td><td>&quot;BasicChecking&quot;</td><td>&quot;99168365849227…</td><td>&quot;Rejected&quot;</td></tr><tr><td>&quot;../../../../da…</td><td>1.4677e19</td><td>&quot;70468517845857…</td><td>&quot;78175068550376…</td><td>&quot;BasicChecking&quot;</td><td>&quot;11957517038196…</td><td>&quot;Accepted&quot;</td></tr><tr><td>&quot;../../../../da…</td><td>1.6330e19</td><td>&quot;14502682673269…</td><td>&quot;35380738041033…</td><td>&quot;UPlusFinPerson…</td><td>null</td><td>&quot;Rejected&quot;</td></tr><tr><td>&quot;../../../../da…</td><td>8.7675e18</td><td>&quot;50942906431046…</td><td>&quot;35380738041033…</td><td>&quot;BasicChecking&quot;</td><td>&quot;11957517038196…</td><td>&quot;Rejected&quot;</td></tr></tbody></table></div>"
      ],
      "text/plain": [
       "shape: (7, 7)\n",
       "┌──────────────┬─────────────┬─────────────┬─────────────┬─────────────┬─────────────┬─────────────┐\n",
       "│ filename     ┆ PREDICTOR_1 ┆ PREDICTOR_2 ┆ PREDICTOR_3 ┆ Context_Nam ┆ IH_Web_Inbo ┆ Decision_Ou │\n",
       "│ ---          ┆ ---         ┆ ---         ┆ ---         ┆ e           ┆ und_Accepte ┆ tcome       │\n",
       "│ str          ┆ f64         ┆ str         ┆ str         ┆ ---         ┆ d_pxLastGr… ┆ ---         │\n",
       "│              ┆             ┆             ┆             ┆ str         ┆ ---         ┆ str         │\n",
       "│              ┆             ┆             ┆             ┆             ┆ str         ┆             │\n",
       "╞══════════════╪═════════════╪═════════════╪═════════════╪═════════════╪═════════════╪═════════════╡\n",
       "│ ../../../../ ┆ 1.2927e19   ┆ 24708403261 ┆ 78175068550 ┆ FirstMortga ┆ 99168365849 ┆ Rejected    │\n",
       "│ data/SampleH ┆             ┆ 67244551    ┆ 37626366    ┆ ge30yr      ┆ 22703353    ┆             │\n",
       "│ DS.json      ┆             ┆             ┆             ┆             ┆             ┆             │\n",
       "│ ../../../../ ┆ 1.4856e19   ┆ 15064692448 ┆ 15251191982 ┆ FirstMortga ┆ 13956853654 ┆ Accepted    │\n",
       "│ data/SampleH ┆             ┆ 144812298   ┆ 753686789   ┆ ge30yr      ┆ 505037015   ┆             │\n",
       "│ DS.json      ┆             ┆             ┆             ┆             ┆             ┆             │\n",
       "│ ../../../../ ┆ 5.6458e17   ┆ 27740867997 ┆ 35380738041 ┆ MoneyMarket ┆ 99168365849 ┆ Rejected    │\n",
       "│ data/SampleH ┆             ┆ 7473164     ┆ 03362305    ┆ SavingsAcco ┆ 22703353    ┆             │\n",
       "│ DS.json      ┆             ┆             ┆             ┆ unt         ┆             ┆             │\n",
       "│ ../../../../ ┆ 4.0723e18   ┆ 34707287654 ┆ 15251191982 ┆ BasicChecki ┆ 99168365849 ┆ Rejected    │\n",
       "│ data/SampleH ┆             ┆ 77832840    ┆ 753686789   ┆ ng          ┆ 22703353    ┆             │\n",
       "│ DS.json      ┆             ┆             ┆             ┆             ┆             ┆             │\n",
       "│ ../../../../ ┆ 1.4677e19   ┆ 70468517845 ┆ 78175068550 ┆ BasicChecki ┆ 11957517038 ┆ Accepted    │\n",
       "│ data/SampleH ┆             ┆ 8578438     ┆ 37626366    ┆ ng          ┆ 196130743   ┆             │\n",
       "│ DS.json      ┆             ┆             ┆             ┆             ┆             ┆             │\n",
       "│ ../../../../ ┆ 1.6330e19   ┆ 14502682673 ┆ 35380738041 ┆ UPlusFinPer ┆ null        ┆ Rejected    │\n",
       "│ data/SampleH ┆             ┆ 269079287   ┆ 03362305    ┆ sonal       ┆             ┆             │\n",
       "│ DS.json      ┆             ┆             ┆             ┆             ┆             ┆             │\n",
       "│ ../../../../ ┆ 8.7675e18   ┆ 50942906431 ┆ 35380738041 ┆ BasicChecki ┆ 11957517038 ┆ Rejected    │\n",
       "│ data/SampleH ┆             ┆ 04611192    ┆ 03362305    ┆ ng          ┆ 196130743   ┆             │\n",
       "│ DS.json      ┆             ┆             ┆             ┆             ┆             ┆             │\n",
       "└──────────────┴─────────────┴─────────────┴─────────────┴─────────────┴─────────────┴─────────────┘"
      ]
     },
     "execution_count": 10,
     "metadata": {},
     "output_type": "execute_result"
    }
   ],
   "source": [
    "anon = DataAnonymization(config=Config(config_file='config.json'))\n",
    "anon.process()"
   ]
  },
  {
   "attachments": {},
   "cell_type": "markdown",
   "metadata": {},
   "source": [
    "## Exporting\n",
    "Two functions export:\n",
    "- `create_mapping_file()` writes the mapping file of the predictor names\n",
    "- `write_to_output()` writes the processed dataframe to disk\n",
    "\n",
    "Write to output accepts the following extensions: `[\"ndjson\", \"parquet\", \"arrow\", \"csv\"]`"
   ]
  },
  {
   "cell_type": "code",
   "execution_count": 11,
   "metadata": {
    "execution": {
     "iopub.execute_input": "2023-10-24T15:37:55.519774Z",
     "iopub.status.busy": "2023-10-24T15:37:55.519259Z",
     "iopub.status.idle": "2023-10-24T15:37:55.522814Z",
     "shell.execute_reply": "2023-10-24T15:37:55.522388Z"
    }
   },
   "outputs": [
    {
     "name": "stdout",
     "output_type": "stream",
     "text": [
      "filename=filename\n",
      "Customer_CLV=PREDICTOR_1\n",
      "Customer_City=PREDICTOR_2\n",
      "Customer_MaritalStatus=PREDICTOR_3\n",
      "Context_Name=Context_Name\n",
      "IH_Web_Inbound_Accepted_pxLastGroupID=IH_Web_Inbound_Accepted_pxLastGroupID\n",
      "Decision_Outcome=Decision_Outcome\n",
      "\n"
     ]
    }
   ],
   "source": [
    "anon.create_mapping_file()\n",
    "with open('mapping.map') as f:\n",
    "    print(f.read())"
   ]
  },
  {
   "cell_type": "code",
   "execution_count": 12,
   "metadata": {
    "execution": {
     "iopub.execute_input": "2023-10-24T15:37:55.525069Z",
     "iopub.status.busy": "2023-10-24T15:37:55.524552Z",
     "iopub.status.idle": "2023-10-24T15:37:55.528439Z",
     "shell.execute_reply": "2023-10-24T15:37:55.528002Z"
    }
   },
   "outputs": [],
   "source": [
    "anon.write_to_output(ext='arrow')"
   ]
  },
  {
   "cell_type": "code",
   "execution_count": 13,
   "metadata": {
    "execution": {
     "iopub.execute_input": "2023-10-24T15:37:55.530663Z",
     "iopub.status.busy": "2023-10-24T15:37:55.530151Z",
     "iopub.status.idle": "2023-10-24T15:37:55.534827Z",
     "shell.execute_reply": "2023-10-24T15:37:55.534400Z"
    }
   },
   "outputs": [
    {
     "data": {
      "text/html": [
       "<div><style>\n",
       ".dataframe > thead > tr > th,\n",
       ".dataframe > tbody > tr > td {\n",
       "  text-align: right;\n",
       "  white-space: pre-wrap;\n",
       "}\n",
       "</style>\n",
       "<small>shape: (7, 6)</small><table border=\"1\" class=\"dataframe\"><thead><tr><th>PREDICTOR_1</th><th>PREDICTOR_2</th><th>PREDICTOR_3</th><th>Context_Name</th><th>IH_Web_Inbound_Accepted_pxLastGroupID</th><th>Decision_Outcome</th></tr><tr><td>f64</td><td>str</td><td>str</td><td>str</td><td>str</td><td>str</td></tr></thead><tbody><tr><td>1.2927e19</td><td>&quot;15110077145803…</td><td>&quot;22035514598062…</td><td>&quot;FirstMortgage3…</td><td>&quot;47133183136966…</td><td>&quot;Rejected&quot;</td></tr><tr><td>1.4856e19</td><td>&quot;11064185723412…</td><td>&quot;82986061577057…</td><td>&quot;FirstMortgage3…</td><td>&quot;14270883116198…</td><td>&quot;Accepted&quot;</td></tr><tr><td>5.6458e17</td><td>&quot;95885306934836…</td><td>&quot;12920806241225…</td><td>&quot;MoneyMarketSav…</td><td>&quot;47133183136966…</td><td>&quot;Rejected&quot;</td></tr><tr><td>4.0723e18</td><td>&quot;10494116006665…</td><td>&quot;82986061577057…</td><td>&quot;BasicChecking&quot;</td><td>&quot;47133183136966…</td><td>&quot;Rejected&quot;</td></tr><tr><td>1.4677e19</td><td>&quot;98429651136559…</td><td>&quot;22035514598062…</td><td>&quot;BasicChecking&quot;</td><td>&quot;86065966176871…</td><td>&quot;Accepted&quot;</td></tr><tr><td>1.6330e19</td><td>&quot;13515604414902…</td><td>&quot;12920806241225…</td><td>&quot;UPlusFinPerson…</td><td>null</td><td>&quot;Rejected&quot;</td></tr><tr><td>8.7675e18</td><td>&quot;52564286106298…</td><td>&quot;12920806241225…</td><td>&quot;BasicChecking&quot;</td><td>&quot;86065966176871…</td><td>&quot;Rejected&quot;</td></tr></tbody></table></div>"
      ],
      "text/plain": [
       "shape: (7, 6)\n",
       "┌─────────────┬────────────────┬────────────────┬────────────────┬────────────────┬────────────────┐\n",
       "│ PREDICTOR_1 ┆ PREDICTOR_2    ┆ PREDICTOR_3    ┆ Context_Name   ┆ IH_Web_Inbound ┆ Decision_Outco │\n",
       "│ ---         ┆ ---            ┆ ---            ┆ ---            ┆ _Accepted_pxLa ┆ me             │\n",
       "│ f64         ┆ str            ┆ str            ┆ str            ┆ stGr…          ┆ ---            │\n",
       "│             ┆                ┆                ┆                ┆ ---            ┆ str            │\n",
       "│             ┆                ┆                ┆                ┆ str            ┆                │\n",
       "╞═════════════╪════════════════╪════════════════╪════════════════╪════════════════╪════════════════╡\n",
       "│ 1.2927e19   ┆ 15110077145803 ┆ 22035514598062 ┆ FirstMortgage3 ┆ 47133183136966 ┆ Rejected       │\n",
       "│             ┆ 624330         ┆ 98890          ┆ 0yr            ┆ 64316          ┆                │\n",
       "│ 1.4856e19   ┆ 11064185723412 ┆ 82986061577057 ┆ FirstMortgage3 ┆ 14270883116198 ┆ Accepted       │\n",
       "│             ┆ 827908         ┆ 3960           ┆ 0yr            ┆ 16499          ┆                │\n",
       "│ 5.6458e17   ┆ 95885306934836 ┆ 12920806241225 ┆ MoneyMarketSav ┆ 47133183136966 ┆ Rejected       │\n",
       "│             ┆ 94693          ┆ 754804         ┆ ingsAccount    ┆ 64316          ┆                │\n",
       "│ 4.0723e18   ┆ 10494116006665 ┆ 82986061577057 ┆ BasicChecking  ┆ 47133183136966 ┆ Rejected       │\n",
       "│             ┆ 365230         ┆ 3960           ┆                ┆ 64316          ┆                │\n",
       "│ 1.4677e19   ┆ 98429651136559 ┆ 22035514598062 ┆ BasicChecking  ┆ 86065966176871 ┆ Accepted       │\n",
       "│             ┆ 66166          ┆ 98890          ┆                ┆ 16273          ┆                │\n",
       "│ 1.6330e19   ┆ 13515604414902 ┆ 12920806241225 ┆ UPlusFinPerson ┆ null           ┆ Rejected       │\n",
       "│             ┆ 001245         ┆ 754804         ┆ al             ┆                ┆                │\n",
       "│ 8.7675e18   ┆ 52564286106298 ┆ 12920806241225 ┆ BasicChecking  ┆ 86065966176871 ┆ Rejected       │\n",
       "│             ┆ 62288          ┆ 754804         ┆                ┆ 16273          ┆                │\n",
       "└─────────────┴────────────────┴────────────────┴────────────────┴────────────────┴────────────────┘"
      ]
     },
     "execution_count": 13,
     "metadata": {},
     "output_type": "execute_result"
    }
   ],
   "source": [
    "pl.read_ipc('output/hds.arrow')"
   ]
  },
  {
   "attachments": {},
   "cell_type": "markdown",
   "metadata": {
    "nbsphinx": "hidden"
   },
   "source": [
    "## Advanced: Hash fuctions\n",
    "\n",
    "By default, we use [the same hashing algorithm Polars](https://pola-rs.github.io/polars/py-polars/html/reference/expressions/api/polars.Expr.hash.html#polars.Expr.hash) uses: [xxhash](https://github.com/Cyan4973/xxHash), as implemented [here](https://github.com/pola-rs/polars/blob/3f287f370b3c388ed2f3f218b2c096382548136f/polars/polars-core/src/vector_hasher.rs#L266). xxhash is fast to compute, and you can check its performance in collision, dispersion and randomness [here](https://github.com/Cyan4973/xxHash/tree/dev/tests). \n",
    "\n",
    "xxhash accepts four distinct seeds, but by default we set the seeds to `0`. It is possible to set the `seed` argument of the `process()` function to `'random'`, which will set all four seeds to a random integer between `0` and `1000000000`. Alternatively, it is possible to supply the four seeds manually with arguments `seed`, `seed_1`, `seed_2` and `seed_3`. \n",
    "\n",
    "If the xxhash with (random) seed(s) is not deemed sufficiently secure, it is possible to use your own hashing algorithm.\n",
    "\n",
    "Note that since we're now running python code and not native Polars code anymore, this will be _significantly_ slower. Nonetheless, it is possible.\n",
    "\n",
    "Just as an example - this is how one would use sha3_256:"
   ]
  },
  {
   "cell_type": "code",
   "execution_count": 14,
   "metadata": {
    "execution": {
     "iopub.execute_input": "2023-10-24T15:37:55.537069Z",
     "iopub.status.busy": "2023-10-24T15:37:55.536559Z",
     "iopub.status.idle": "2023-10-24T15:37:55.908257Z",
     "shell.execute_reply": "2023-10-24T15:37:55.907587Z"
    },
    "nbsphinx": "hidden"
   },
   "outputs": [
    {
     "ename": "ComputeError",
     "evalue": "AttributeError: 'int' object has no attribute 'encode'",
     "output_type": "error",
     "traceback": [
      "\u001b[0;31m---------------------------------------------------------------------------\u001b[0m",
      "\u001b[0;31mComputeError\u001b[0m                              Traceback (most recent call last)",
      "Cell \u001b[0;32mIn[14], line 3\u001b[0m\n\u001b[1;32m      1\u001b[0m \u001b[38;5;28;01mfrom\u001b[39;00m \u001b[38;5;21;01mhashlib\u001b[39;00m \u001b[38;5;28;01mimport\u001b[39;00m sha3_256\n\u001b[0;32m----> 3\u001b[0m \u001b[43manon\u001b[49m\u001b[38;5;241;43m.\u001b[39;49m\u001b[43mprocess\u001b[49m\u001b[43m(\u001b[49m\u001b[43malgorithm\u001b[49m\u001b[38;5;241;43m=\u001b[39;49m\u001b[38;5;28;43;01mlambda\u001b[39;49;00m\u001b[43m \u001b[49m\u001b[43mx\u001b[49m\u001b[43m:\u001b[49m\u001b[43m \u001b[49m\u001b[43msha3_256\u001b[49m\u001b[43m(\u001b[49m\u001b[43mx\u001b[49m\u001b[38;5;241;43m.\u001b[39;49m\u001b[43mencode\u001b[49m\u001b[43m(\u001b[49m\u001b[43m)\u001b[49m\u001b[43m)\u001b[49m\u001b[38;5;241;43m.\u001b[39;49m\u001b[43mhexdigest\u001b[49m\u001b[43m(\u001b[49m\u001b[43m)\u001b[49m\u001b[43m)\u001b[49m\n",
      "File \u001b[0;32m~/work/pega-datascientist-tools/pega-datascientist-tools/python/docs/source/articles/../../../pdstools/utils/hds_utils.py:516\u001b[0m, in \u001b[0;36mDataAnonymization.process\u001b[0;34m(self, strategy, **kwargs)\u001b[0m\n\u001b[1;32m    514\u001b[0m df \u001b[38;5;241m=\u001b[39m df\u001b[38;5;241m.\u001b[39mselect(\u001b[38;5;28mself\u001b[39m\u001b[38;5;241m.\u001b[39mcolumn_mapping\u001b[38;5;241m.\u001b[39mkeys())\u001b[38;5;241m.\u001b[39mrename(\u001b[38;5;28mself\u001b[39m\u001b[38;5;241m.\u001b[39mcolumn_mapping)\n\u001b[1;32m    515\u001b[0m \u001b[38;5;28;01mif\u001b[39;00m strategy \u001b[38;5;241m==\u001b[39m \u001b[38;5;124m\"\u001b[39m\u001b[38;5;124meager\u001b[39m\u001b[38;5;124m\"\u001b[39m:\n\u001b[0;32m--> 516\u001b[0m     \u001b[38;5;28;01mreturn\u001b[39;00m \u001b[43mdf\u001b[49m\u001b[38;5;241;43m.\u001b[39;49m\u001b[43mcollect\u001b[49m\u001b[43m(\u001b[49m\u001b[43m)\u001b[49m\n\u001b[1;32m    517\u001b[0m \u001b[38;5;28;01mreturn\u001b[39;00m df\n",
      "File \u001b[0;32m/opt/hostedtoolcache/Python/3.11.6/x64/lib/python3.11/site-packages/polars/utils/deprecation.py:95\u001b[0m, in \u001b[0;36mdeprecate_renamed_parameter.<locals>.decorate.<locals>.wrapper\u001b[0;34m(*args, **kwargs)\u001b[0m\n\u001b[1;32m     90\u001b[0m \u001b[38;5;129m@wraps\u001b[39m(function)\n\u001b[1;32m     91\u001b[0m \u001b[38;5;28;01mdef\u001b[39;00m \u001b[38;5;21mwrapper\u001b[39m(\u001b[38;5;241m*\u001b[39margs: P\u001b[38;5;241m.\u001b[39margs, \u001b[38;5;241m*\u001b[39m\u001b[38;5;241m*\u001b[39mkwargs: P\u001b[38;5;241m.\u001b[39mkwargs) \u001b[38;5;241m-\u001b[39m\u001b[38;5;241m>\u001b[39m T:\n\u001b[1;32m     92\u001b[0m     _rename_keyword_argument(\n\u001b[1;32m     93\u001b[0m         old_name, new_name, kwargs, function\u001b[38;5;241m.\u001b[39m\u001b[38;5;18m__name__\u001b[39m, version\n\u001b[1;32m     94\u001b[0m     )\n\u001b[0;32m---> 95\u001b[0m     \u001b[38;5;28;01mreturn\u001b[39;00m \u001b[43mfunction\u001b[49m\u001b[43m(\u001b[49m\u001b[38;5;241;43m*\u001b[39;49m\u001b[43margs\u001b[49m\u001b[43m,\u001b[49m\u001b[43m \u001b[49m\u001b[38;5;241;43m*\u001b[39;49m\u001b[38;5;241;43m*\u001b[39;49m\u001b[43mkwargs\u001b[49m\u001b[43m)\u001b[49m\n",
      "File \u001b[0;32m/opt/hostedtoolcache/Python/3.11.6/x64/lib/python3.11/site-packages/polars/lazyframe/frame.py:1711\u001b[0m, in \u001b[0;36mLazyFrame.collect\u001b[0;34m(self, type_coercion, predicate_pushdown, projection_pushdown, simplify_expression, no_optimization, slice_pushdown, comm_subplan_elim, comm_subexpr_elim, streaming, **kwargs)\u001b[0m\n\u001b[1;32m   1698\u001b[0m     comm_subplan_elim \u001b[38;5;241m=\u001b[39m \u001b[38;5;28;01mFalse\u001b[39;00m\n\u001b[1;32m   1700\u001b[0m ldf \u001b[38;5;241m=\u001b[39m \u001b[38;5;28mself\u001b[39m\u001b[38;5;241m.\u001b[39m_ldf\u001b[38;5;241m.\u001b[39moptimization_toggle(\n\u001b[1;32m   1701\u001b[0m     type_coercion,\n\u001b[1;32m   1702\u001b[0m     predicate_pushdown,\n\u001b[0;32m   (...)\u001b[0m\n\u001b[1;32m   1709\u001b[0m     eager,\n\u001b[1;32m   1710\u001b[0m )\n\u001b[0;32m-> 1711\u001b[0m \u001b[38;5;28;01mreturn\u001b[39;00m wrap_df(ldf\u001b[38;5;241m.\u001b[39mcollect())\n",
      "\u001b[0;31mComputeError\u001b[0m: AttributeError: 'int' object has no attribute 'encode'"
     ]
    }
   ],
   "source": [
    "from hashlib import sha3_256\n",
    "\n",
    "anon.process(algorithm=lambda x: sha3_256(x.encode()).hexdigest())"
   ]
  }
 ],
 "metadata": {
  "kernelspec": {
   "display_name": "Python 3",
   "language": "python",
   "name": "python3"
  },
  "language_info": {
   "codemirror_mode": {
    "name": "ipython",
    "version": 3
   },
   "file_extension": ".py",
   "mimetype": "text/x-python",
   "name": "python",
   "nbconvert_exporter": "python",
   "pygments_lexer": "ipython3",
   "version": "3.11.6"
  },
  "vscode": {
   "interpreter": {
    "hash": "aee8b7b246df8f9039afb4144a1f6fd8d2ca17a180786b69acc140d282b71a49"
   }
  }
 },
 "nbformat": 4,
 "nbformat_minor": 2
}
