{
 "cells": [
  {
   "attachments": {},
   "cell_type": "markdown",
   "metadata": {},
   "source": [
    "# Example data anonymization\n",
    "\n",
    "In Pega CDH 8.5 and up, it's now possible to record the historical data as seen by the Adaptive Models. See [this academy challenge](https://academy.pega.com/challenge/exporting-historical-data/v4) for reference. This historical data can be further used to experiment with offline models, but also to fine-tune the OOTB Gradient Boosting model. However, sharing this information with Pega can be sensitive as it contains raw predictor data. \n",
    "\n",
    "To this end, we provide a simple and transparent script to fully anonimize this dataset.\n",
    "\n",
    "The DataAnonymization script is now part of pdstools, and you can import it directly as such."
   ]
  },
  {
   "cell_type": "code",
   "execution_count": 1,
   "metadata": {
    "execution": {
     "iopub.execute_input": "2023-09-16T08:12:25.434414Z",
     "iopub.status.busy": "2023-09-16T08:12:25.434044Z",
     "iopub.status.idle": "2023-09-16T08:12:25.440918Z",
     "shell.execute_reply": "2023-09-16T08:12:25.440408Z"
    },
    "nbsphinx": "hidden"
   },
   "outputs": [],
   "source": [
    "# These lines are only for rendering in the docs, and are hidden through Jupyter tags\n",
    "# Do not run if you're running the notebook seperately\n",
    "\n",
    "import sys\n",
    "sys.path.append('../../../')"
   ]
  },
  {
   "cell_type": "code",
   "execution_count": 2,
   "metadata": {
    "execution": {
     "iopub.execute_input": "2023-09-16T08:12:25.443622Z",
     "iopub.status.busy": "2023-09-16T08:12:25.443172Z",
     "iopub.status.idle": "2023-09-16T08:12:26.583536Z",
     "shell.execute_reply": "2023-09-16T08:12:26.582897Z"
    }
   },
   "outputs": [],
   "source": [
    "from pdstools import ADMDatamart\n",
    "from pdstools import Config, DataAnonymization\n",
    "import polars as pl"
   ]
  },
  {
   "attachments": {},
   "cell_type": "markdown",
   "metadata": {},
   "source": [
    "## Input data\n",
    "\n",
    "To demonstrate this process, we're going to anonymise this toy example dataframe:"
   ]
  },
  {
   "cell_type": "code",
   "execution_count": 3,
   "metadata": {
    "execution": {
     "iopub.execute_input": "2023-09-16T08:12:26.586618Z",
     "iopub.status.busy": "2023-09-16T08:12:26.586174Z",
     "iopub.status.idle": "2023-09-16T08:12:26.596670Z",
     "shell.execute_reply": "2023-09-16T08:12:26.596198Z"
    }
   },
   "outputs": [
    {
     "data": {
      "text/html": [
       "<div><style>\n",
       ".dataframe > thead > tr > th,\n",
       ".dataframe > tbody > tr > td {\n",
       "  text-align: right;\n",
       "}\n",
       "</style>\n",
       "<small>shape: (7, 6)</small><table border=\"1\" class=\"dataframe\"><thead><tr><th>Context_Name</th><th>Customer_MaritalStatus</th><th>Customer_CLV</th><th>Customer_City</th><th>IH_Web_Inbound_Accepted_pxLastGroupID</th><th>Decision_Outcome</th></tr><tr><td>str</td><td>str</td><td>i64</td><td>str</td><td>str</td><td>str</td></tr></thead><tbody><tr><td>&quot;FirstMortgage3…</td><td>&quot;Married&quot;</td><td>1460</td><td>&quot;Port Raoul&quot;</td><td>&quot;Account&quot;</td><td>&quot;Rejected&quot;</td></tr><tr><td>&quot;FirstMortgage3…</td><td>&quot;Unknown&quot;</td><td>669</td><td>&quot;Laurianneshire…</td><td>&quot;AutoLoans&quot;</td><td>&quot;Accepted&quot;</td></tr><tr><td>&quot;MoneyMarketSav…</td><td>&quot;No Resp+&quot;</td><td>1174</td><td>&quot;Jacobshaven&quot;</td><td>&quot;Account&quot;</td><td>&quot;Rejected&quot;</td></tr><tr><td>&quot;BasicChecking&quot;</td><td>&quot;Unknown&quot;</td><td>1476</td><td>&quot;Lindton&quot;</td><td>&quot;Account&quot;</td><td>&quot;Rejected&quot;</td></tr><tr><td>&quot;BasicChecking&quot;</td><td>&quot;Married&quot;</td><td>1211</td><td>&quot;South Jimmiesh…</td><td>&quot;DepositAccount…</td><td>&quot;Accepted&quot;</td></tr><tr><td>&quot;UPlusFinPerson…</td><td>&quot;No Resp+&quot;</td><td>533</td><td>&quot;Bergeville&quot;</td><td>null</td><td>&quot;Rejected&quot;</td></tr><tr><td>&quot;BasicChecking&quot;</td><td>&quot;No Resp+&quot;</td><td>555</td><td>&quot;Willyville&quot;</td><td>&quot;DepositAccount…</td><td>&quot;Rejected&quot;</td></tr></tbody></table></div>"
      ],
      "text/plain": [
       "shape: (7, 6)\n",
       "┌────────────────┬────────────────┬──────────────┬────────────────┬────────────────┬───────────────┐\n",
       "│ Context_Name   ┆ Customer_Marit ┆ Customer_CLV ┆ Customer_City  ┆ IH_Web_Inbound ┆ Decision_Outc │\n",
       "│ ---            ┆ alStatus       ┆ ---          ┆ ---            ┆ _Accepted_pxLa ┆ ome           │\n",
       "│ str            ┆ ---            ┆ i64          ┆ str            ┆ stGr…          ┆ ---           │\n",
       "│                ┆ str            ┆              ┆                ┆ ---            ┆ str           │\n",
       "│                ┆                ┆              ┆                ┆ str            ┆               │\n",
       "╞════════════════╪════════════════╪══════════════╪════════════════╪════════════════╪═══════════════╡\n",
       "│ FirstMortgage3 ┆ Married        ┆ 1460         ┆ Port Raoul     ┆ Account        ┆ Rejected      │\n",
       "│ 0yr            ┆                ┆              ┆                ┆                ┆               │\n",
       "│ FirstMortgage3 ┆ Unknown        ┆ 669          ┆ Laurianneshire ┆ AutoLoans      ┆ Accepted      │\n",
       "│ 0yr            ┆                ┆              ┆                ┆                ┆               │\n",
       "│ MoneyMarketSav ┆ No Resp+       ┆ 1174         ┆ Jacobshaven    ┆ Account        ┆ Rejected      │\n",
       "│ ingsAccount    ┆                ┆              ┆                ┆                ┆               │\n",
       "│ BasicChecking  ┆ Unknown        ┆ 1476         ┆ Lindton        ┆ Account        ┆ Rejected      │\n",
       "│ BasicChecking  ┆ Married        ┆ 1211         ┆ South          ┆ DepositAccount ┆ Accepted      │\n",
       "│                ┆                ┆              ┆ Jimmieshire    ┆ s              ┆               │\n",
       "│ UPlusFinPerson ┆ No Resp+       ┆ 533          ┆ Bergeville     ┆ null           ┆ Rejected      │\n",
       "│ al             ┆                ┆              ┆                ┆                ┆               │\n",
       "│ BasicChecking  ┆ No Resp+       ┆ 555          ┆ Willyville     ┆ DepositAccount ┆ Rejected      │\n",
       "│                ┆                ┆              ┆                ┆ s              ┆               │\n",
       "└────────────────┴────────────────┴──────────────┴────────────────┴────────────────┴───────────────┘"
      ]
     },
     "execution_count": 3,
     "metadata": {},
     "output_type": "execute_result"
    }
   ],
   "source": [
    "pl.read_ndjson('../../../../data/SampleHDS.json')"
   ]
  },
  {
   "attachments": {},
   "cell_type": "markdown",
   "metadata": {},
   "source": [
    "As you can see, this dataset consists of regular predictors, IH predictors, context keys and the outcome column. Additionally, some columns are numeric, others are strings. Let's first initialize the DataAnonymization class."
   ]
  },
  {
   "cell_type": "code",
   "execution_count": 4,
   "metadata": {
    "execution": {
     "iopub.execute_input": "2023-09-16T08:12:26.599063Z",
     "iopub.status.busy": "2023-09-16T08:12:26.598656Z",
     "iopub.status.idle": "2023-09-16T08:12:26.607227Z",
     "shell.execute_reply": "2023-09-16T08:12:26.606752Z"
    }
   },
   "outputs": [],
   "source": [
    "anon = DataAnonymization(hds_folder='../../../../data/')"
   ]
  },
  {
   "attachments": {},
   "cell_type": "markdown",
   "metadata": {},
   "source": [
    "By default, the class applies a set of anonymisation techniques:\n",
    "- Column names are remapped to a non-descriptive name\n",
    "- Categorical values are hashed with a random seed\n",
    "- Numerical values are normalized between 0 and 1\n",
    "- Outcomes are mapped to a binary outcome.\n",
    "\n",
    "To apply these techniques, simply call `.process()`:"
   ]
  },
  {
   "cell_type": "code",
   "execution_count": 5,
   "metadata": {
    "execution": {
     "iopub.execute_input": "2023-09-16T08:12:26.609649Z",
     "iopub.status.busy": "2023-09-16T08:12:26.609259Z",
     "iopub.status.idle": "2023-09-16T08:12:26.615329Z",
     "shell.execute_reply": "2023-09-16T08:12:26.614860Z"
    }
   },
   "outputs": [
    {
     "data": {
      "text/html": [
       "<div><style>\n",
       ".dataframe > thead > tr > th,\n",
       ".dataframe > tbody > tr > td {\n",
       "  text-align: right;\n",
       "}\n",
       "</style>\n",
       "<small>shape: (7, 7)</small><table border=\"1\" class=\"dataframe\"><thead><tr><th>PREDICTOR_0</th><th>PREDICTOR_1</th><th>filename</th><th>PREDICTOR_3</th><th>Context_Name</th><th>IH_PREDICTOR_0</th><th>Decision_Outcome</th></tr><tr><td>str</td><td>str</td><td>str</td><td>f64</td><td>str</td><td>str</td><td>bool</td></tr></thead><tbody><tr><td>&quot;51894236568960…</td><td>&quot;98427644489785…</td><td>&quot;../../../../da…</td><td>1.2927e19</td><td>&quot;82262668474577…</td><td>&quot;14867079524372…</td><td>false</td></tr><tr><td>&quot;20680148698483…</td><td>&quot;11975588057014…</td><td>&quot;../../../../da…</td><td>1.4856e19</td><td>&quot;82262668474577…</td><td>&quot;10735442992703…</td><td>true</td></tr><tr><td>&quot;17117144018249…</td><td>&quot;11189099206042…</td><td>&quot;../../../../da…</td><td>5.6458e17</td><td>&quot;14757374244527…</td><td>&quot;14867079524372…</td><td>false</td></tr><tr><td>&quot;18352568352446…</td><td>&quot;11975588057014…</td><td>&quot;../../../../da…</td><td>4.0723e18</td><td>&quot;10408944396801…</td><td>&quot;14867079524372…</td><td>false</td></tr><tr><td>&quot;18046805756289…</td><td>&quot;98427644489785…</td><td>&quot;../../../../da…</td><td>1.4677e19</td><td>&quot;10408944396801…</td><td>&quot;10824123920527…</td><td>true</td></tr><tr><td>&quot;99675425455367…</td><td>&quot;11189099206042…</td><td>&quot;../../../../da…</td><td>1.6330e19</td><td>&quot;40320779319596…</td><td>null</td><td>false</td></tr><tr><td>&quot;79831856948765…</td><td>&quot;11189099206042…</td><td>&quot;../../../../da…</td><td>8.7675e18</td><td>&quot;10408944396801…</td><td>&quot;10824123920527…</td><td>false</td></tr></tbody></table></div>"
      ],
      "text/plain": [
       "shape: (7, 7)\n",
       "┌──────────────┬─────────────┬─────────────┬─────────────┬─────────────┬─────────────┬─────────────┐\n",
       "│ PREDICTOR_0  ┆ PREDICTOR_1 ┆ filename    ┆ PREDICTOR_3 ┆ Context_Nam ┆ IH_PREDICTO ┆ Decision_Ou │\n",
       "│ ---          ┆ ---         ┆ ---         ┆ ---         ┆ e           ┆ R_0         ┆ tcome       │\n",
       "│ str          ┆ str         ┆ str         ┆ f64         ┆ ---         ┆ ---         ┆ ---         │\n",
       "│              ┆             ┆             ┆             ┆ str         ┆ str         ┆ bool        │\n",
       "╞══════════════╪═════════════╪═════════════╪═════════════╪═════════════╪═════════════╪═════════════╡\n",
       "│ 518942365689 ┆ 98427644489 ┆ ../../../.. ┆ 1.2927e19   ┆ 82262668474 ┆ 14867079524 ┆ false       │\n",
       "│ 6005294      ┆ 78560229    ┆ /data/Sampl ┆             ┆ 57716173    ┆ 372492026   ┆             │\n",
       "│              ┆             ┆ eHDS.json   ┆             ┆             ┆             ┆             │\n",
       "│ 206801486984 ┆ 11975588057 ┆ ../../../.. ┆ 1.4856e19   ┆ 82262668474 ┆ 10735442992 ┆ true        │\n",
       "│ 8318941      ┆ 014083092   ┆ /data/Sampl ┆             ┆ 57716173    ┆ 70388371    ┆             │\n",
       "│              ┆             ┆ eHDS.json   ┆             ┆             ┆             ┆             │\n",
       "│ 171171440182 ┆ 11189099206 ┆ ../../../.. ┆ 5.6458e17   ┆ 14757374244 ┆ 14867079524 ┆ false       │\n",
       "│ 49736112     ┆ 042111959   ┆ /data/Sampl ┆             ┆ 527875407   ┆ 372492026   ┆             │\n",
       "│              ┆             ┆ eHDS.json   ┆             ┆             ┆             ┆             │\n",
       "│ 183525683524 ┆ 11975588057 ┆ ../../../.. ┆ 4.0723e18   ┆ 10408944396 ┆ 14867079524 ┆ false       │\n",
       "│ 46054659     ┆ 014083092   ┆ /data/Sampl ┆             ┆ 801109128   ┆ 372492026   ┆             │\n",
       "│              ┆             ┆ eHDS.json   ┆             ┆             ┆             ┆             │\n",
       "│ 180468057562 ┆ 98427644489 ┆ ../../../.. ┆ 1.4677e19   ┆ 10408944396 ┆ 10824123920 ┆ true        │\n",
       "│ 89612807     ┆ 78560229    ┆ /data/Sampl ┆             ┆ 801109128   ┆ 527973922   ┆             │\n",
       "│              ┆             ┆ eHDS.json   ┆             ┆             ┆             ┆             │\n",
       "│ 996754254553 ┆ 11189099206 ┆ ../../../.. ┆ 1.6330e19   ┆ 40320779319 ┆ null        ┆ false       │\n",
       "│ 6737885      ┆ 042111959   ┆ /data/Sampl ┆             ┆ 59663430    ┆             ┆             │\n",
       "│              ┆             ┆ eHDS.json   ┆             ┆             ┆             ┆             │\n",
       "│ 798318569487 ┆ 11189099206 ┆ ../../../.. ┆ 8.7675e18   ┆ 10408944396 ┆ 10824123920 ┆ false       │\n",
       "│ 6500847      ┆ 042111959   ┆ /data/Sampl ┆             ┆ 801109128   ┆ 527973922   ┆             │\n",
       "│              ┆             ┆ eHDS.json   ┆             ┆             ┆             ┆             │\n",
       "└──────────────┴─────────────┴─────────────┴─────────────┴─────────────┴─────────────┴─────────────┘"
      ]
     },
     "execution_count": 5,
     "metadata": {},
     "output_type": "execute_result"
    }
   ],
   "source": [
    "anon.process()"
   ]
  },
  {
   "attachments": {},
   "cell_type": "markdown",
   "metadata": {},
   "source": [
    "To trace back the columns to their original names, the class also contains a mapping, which does not have to be provided."
   ]
  },
  {
   "cell_type": "code",
   "execution_count": 6,
   "metadata": {
    "execution": {
     "iopub.execute_input": "2023-09-16T08:12:26.617618Z",
     "iopub.status.busy": "2023-09-16T08:12:26.617242Z",
     "iopub.status.idle": "2023-09-16T08:12:26.621089Z",
     "shell.execute_reply": "2023-09-16T08:12:26.620650Z"
    }
   },
   "outputs": [
    {
     "data": {
      "text/plain": [
       "{'Customer_City': 'PREDICTOR_0',\n",
       " 'Customer_MaritalStatus': 'PREDICTOR_1',\n",
       " 'filename': 'filename',\n",
       " 'Customer_CLV': 'PREDICTOR_3',\n",
       " 'Context_Name': 'Context_Name',\n",
       " 'IH_Web_Inbound_Accepted_pxLastGroupID': 'IH_PREDICTOR_0',\n",
       " 'Decision_Outcome': 'Decision_Outcome'}"
      ]
     },
     "execution_count": 6,
     "metadata": {},
     "output_type": "execute_result"
    }
   ],
   "source": [
    "anon.column_mapping"
   ]
  },
  {
   "attachments": {},
   "cell_type": "markdown",
   "metadata": {},
   "source": [
    "## Configs\n",
    "\n",
    "Each capability can optionally be turned off - see below for the full list of config options, and refer to the API reference for the full description."
   ]
  },
  {
   "cell_type": "code",
   "execution_count": 7,
   "metadata": {
    "execution": {
     "iopub.execute_input": "2023-09-16T08:12:26.623435Z",
     "iopub.status.busy": "2023-09-16T08:12:26.622960Z",
     "iopub.status.idle": "2023-09-16T08:12:26.628793Z",
     "shell.execute_reply": "2023-09-16T08:12:26.628304Z"
    }
   },
   "outputs": [
    {
     "data": {
      "text/plain": [
       "{'config_file': None,\n",
       " 'hds_folder': '.',\n",
       " 'use_datamart': False,\n",
       " 'datamart_folder': 'datamart',\n",
       " 'output_format': 'ndjson',\n",
       " 'output_folder': 'output',\n",
       " 'mapping_file': 'mapping.map',\n",
       " 'mask_predictor_names': True,\n",
       " 'mask_context_key_names': False,\n",
       " 'mask_ih_names': True,\n",
       " 'mask_outcome_name': False,\n",
       " 'mask_predictor_values': True,\n",
       " 'mask_context_key_values': True,\n",
       " 'mask_ih_values': True,\n",
       " 'mask_outcome_values': True,\n",
       " 'context_key_label': 'Context_*',\n",
       " 'ih_label': 'IH_*',\n",
       " 'outcome_column': 'Decision_Outcome',\n",
       " 'positive_outcomes': ['Accepted', 'Clicked'],\n",
       " 'negative_outcomes': ['Rejected', 'Impression'],\n",
       " 'special_predictors': ['Decision_DecisionTime',\n",
       "  'Decision_OutcomeTime',\n",
       "  'Decision_Rank'],\n",
       " 'sample_percentage_schema_inferencing': 0.01}"
      ]
     },
     "execution_count": 7,
     "metadata": {},
     "output_type": "execute_result"
    }
   ],
   "source": [
    "dict(zip(Config.__init__.__code__.co_varnames[1:], Config.__init__.__defaults__))"
   ]
  },
  {
   "attachments": {},
   "cell_type": "markdown",
   "metadata": {},
   "source": [
    "It's easy to change these parameters by just passing the keyword arguments. In the following example, we\n",
    "- Keep the IH predictor names\n",
    "- Keep the outcome values\n",
    "- Keep the context key values\n",
    "- Keep the context key predictor names"
   ]
  },
  {
   "cell_type": "code",
   "execution_count": 8,
   "metadata": {
    "execution": {
     "iopub.execute_input": "2023-09-16T08:12:26.631238Z",
     "iopub.status.busy": "2023-09-16T08:12:26.630869Z",
     "iopub.status.idle": "2023-09-16T08:12:26.641452Z",
     "shell.execute_reply": "2023-09-16T08:12:26.641014Z"
    }
   },
   "outputs": [
    {
     "data": {
      "text/html": [
       "<div><style>\n",
       ".dataframe > thead > tr > th,\n",
       ".dataframe > tbody > tr > td {\n",
       "  text-align: right;\n",
       "}\n",
       "</style>\n",
       "<small>shape: (7, 7)</small><table border=\"1\" class=\"dataframe\"><thead><tr><th>PREDICTOR_0</th><th>PREDICTOR_1</th><th>filename</th><th>PREDICTOR_3</th><th>Context_Name</th><th>IH_Web_Inbound_Accepted_pxLastGroupID</th><th>Decision_Outcome</th></tr><tr><td>str</td><td>str</td><td>str</td><td>f64</td><td>str</td><td>str</td><td>str</td></tr></thead><tbody><tr><td>&quot;17299887335396…</td><td>&quot;75521449870366…</td><td>&quot;../../../../da…</td><td>1.2927e19</td><td>&quot;FirstMortgage3…</td><td>&quot;69389534340864…</td><td>&quot;Rejected&quot;</td></tr><tr><td>&quot;69112671626716…</td><td>&quot;72285008122185…</td><td>&quot;../../../../da…</td><td>1.4856e19</td><td>&quot;FirstMortgage3…</td><td>&quot;71285543637959…</td><td>&quot;Accepted&quot;</td></tr><tr><td>&quot;14716351045235…</td><td>&quot;22167413899500…</td><td>&quot;../../../../da…</td><td>5.6458e17</td><td>&quot;MoneyMarketSav…</td><td>&quot;69389534340864…</td><td>&quot;Rejected&quot;</td></tr><tr><td>&quot;49825445942367…</td><td>&quot;72285008122185…</td><td>&quot;../../../../da…</td><td>4.0723e18</td><td>&quot;BasicChecking&quot;</td><td>&quot;69389534340864…</td><td>&quot;Rejected&quot;</td></tr><tr><td>&quot;16996701699243…</td><td>&quot;75521449870366…</td><td>&quot;../../../../da…</td><td>1.4677e19</td><td>&quot;BasicChecking&quot;</td><td>&quot;10391867347027…</td><td>&quot;Accepted&quot;</td></tr><tr><td>&quot;25216596181039…</td><td>&quot;22167413899500…</td><td>&quot;../../../../da…</td><td>1.6330e19</td><td>&quot;UPlusFinPerson…</td><td>null</td><td>&quot;Rejected&quot;</td></tr><tr><td>&quot;10944962595598…</td><td>&quot;22167413899500…</td><td>&quot;../../../../da…</td><td>8.7675e18</td><td>&quot;BasicChecking&quot;</td><td>&quot;10391867347027…</td><td>&quot;Rejected&quot;</td></tr></tbody></table></div>"
      ],
      "text/plain": [
       "shape: (7, 7)\n",
       "┌──────────────┬─────────────┬─────────────┬─────────────┬─────────────┬─────────────┬─────────────┐\n",
       "│ PREDICTOR_0  ┆ PREDICTOR_1 ┆ filename    ┆ PREDICTOR_3 ┆ Context_Nam ┆ IH_Web_Inbo ┆ Decision_Ou │\n",
       "│ ---          ┆ ---         ┆ ---         ┆ ---         ┆ e           ┆ und_Accepte ┆ tcome       │\n",
       "│ str          ┆ str         ┆ str         ┆ f64         ┆ ---         ┆ d_pxLastGr… ┆ ---         │\n",
       "│              ┆             ┆             ┆             ┆ str         ┆ ---         ┆ str         │\n",
       "│              ┆             ┆             ┆             ┆             ┆ str         ┆             │\n",
       "╞══════════════╪═════════════╪═════════════╪═════════════╪═════════════╪═════════════╪═════════════╡\n",
       "│ 172998873353 ┆ 75521449870 ┆ ../../../.. ┆ 1.2927e19   ┆ FirstMortga ┆ 69389534340 ┆ Rejected    │\n",
       "│ 96438505     ┆ 36662731    ┆ /data/Sampl ┆             ┆ ge30yr      ┆ 86481067    ┆             │\n",
       "│              ┆             ┆ eHDS.json   ┆             ┆             ┆             ┆             │\n",
       "│ 691126716267 ┆ 72285008122 ┆ ../../../.. ┆ 1.4856e19   ┆ FirstMortga ┆ 71285543637 ┆ Accepted    │\n",
       "│ 1606991      ┆ 18586659    ┆ /data/Sampl ┆             ┆ ge30yr      ┆ 95927783    ┆             │\n",
       "│              ┆             ┆ eHDS.json   ┆             ┆             ┆             ┆             │\n",
       "│ 147163510452 ┆ 22167413899 ┆ ../../../.. ┆ 5.6458e17   ┆ MoneyMarket ┆ 69389534340 ┆ Rejected    │\n",
       "│ 359924       ┆ 50023517    ┆ /data/Sampl ┆             ┆ SavingsAcco ┆ 86481067    ┆             │\n",
       "│              ┆             ┆ eHDS.json   ┆             ┆ unt         ┆             ┆             │\n",
       "│ 498254459423 ┆ 72285008122 ┆ ../../../.. ┆ 4.0723e18   ┆ BasicChecki ┆ 69389534340 ┆ Rejected    │\n",
       "│ 6771341      ┆ 18586659    ┆ /data/Sampl ┆             ┆ ng          ┆ 86481067    ┆             │\n",
       "│              ┆             ┆ eHDS.json   ┆             ┆             ┆             ┆             │\n",
       "│ 169967016992 ┆ 75521449870 ┆ ../../../.. ┆ 1.4677e19   ┆ BasicChecki ┆ 10391867347 ┆ Accepted    │\n",
       "│ 43283265     ┆ 36662731    ┆ /data/Sampl ┆             ┆ ng          ┆ 027956111   ┆             │\n",
       "│              ┆             ┆ eHDS.json   ┆             ┆             ┆             ┆             │\n",
       "│ 252165961810 ┆ 22167413899 ┆ ../../../.. ┆ 1.6330e19   ┆ UPlusFinPer ┆ null        ┆ Rejected    │\n",
       "│ 3932772      ┆ 50023517    ┆ /data/Sampl ┆             ┆ sonal       ┆             ┆             │\n",
       "│              ┆             ┆ eHDS.json   ┆             ┆             ┆             ┆             │\n",
       "│ 109449625955 ┆ 22167413899 ┆ ../../../.. ┆ 8.7675e18   ┆ BasicChecki ┆ 10391867347 ┆ Rejected    │\n",
       "│ 98163742     ┆ 50023517    ┆ /data/Sampl ┆             ┆ ng          ┆ 027956111   ┆             │\n",
       "│              ┆             ┆ eHDS.json   ┆             ┆             ┆             ┆             │\n",
       "└──────────────┴─────────────┴─────────────┴─────────────┴─────────────┴─────────────┴─────────────┘"
      ]
     },
     "execution_count": 8,
     "metadata": {},
     "output_type": "execute_result"
    }
   ],
   "source": [
    "anon = DataAnonymization(\n",
    "    hds_folder='../../../../data/',\n",
    "    mask_ih_names=False,\n",
    "    mask_outcome_values=False,\n",
    "    mask_context_key_values=False,\n",
    "    mask_context_key_names=False,\n",
    ")\n",
    "anon.process()\n"
   ]
  },
  {
   "attachments": {},
   "cell_type": "markdown",
   "metadata": {},
   "source": [
    "The configs can also be written and read as such:"
   ]
  },
  {
   "cell_type": "code",
   "execution_count": 9,
   "metadata": {
    "execution": {
     "iopub.execute_input": "2023-09-16T08:12:26.643719Z",
     "iopub.status.busy": "2023-09-16T08:12:26.643355Z",
     "iopub.status.idle": "2023-09-16T08:12:26.646192Z",
     "shell.execute_reply": "2023-09-16T08:12:26.645757Z"
    }
   },
   "outputs": [],
   "source": [
    "anon.config.save_to_config_file('config.json')"
   ]
  },
  {
   "cell_type": "code",
   "execution_count": 10,
   "metadata": {
    "execution": {
     "iopub.execute_input": "2023-09-16T08:12:26.648343Z",
     "iopub.status.busy": "2023-09-16T08:12:26.647992Z",
     "iopub.status.idle": "2023-09-16T08:12:26.658013Z",
     "shell.execute_reply": "2023-09-16T08:12:26.657574Z"
    }
   },
   "outputs": [
    {
     "data": {
      "text/html": [
       "<div><style>\n",
       ".dataframe > thead > tr > th,\n",
       ".dataframe > tbody > tr > td {\n",
       "  text-align: right;\n",
       "}\n",
       "</style>\n",
       "<small>shape: (7, 7)</small><table border=\"1\" class=\"dataframe\"><thead><tr><th>PREDICTOR_0</th><th>PREDICTOR_1</th><th>filename</th><th>PREDICTOR_3</th><th>Context_Name</th><th>IH_Web_Inbound_Accepted_pxLastGroupID</th><th>Decision_Outcome</th></tr><tr><td>str</td><td>str</td><td>str</td><td>f64</td><td>str</td><td>str</td><td>str</td></tr></thead><tbody><tr><td>&quot;17887565829762…</td><td>&quot;10130630109355…</td><td>&quot;../../../../da…</td><td>1.2927e19</td><td>&quot;FirstMortgage3…</td><td>&quot;69860417970637…</td><td>&quot;Rejected&quot;</td></tr><tr><td>&quot;36318524386159…</td><td>&quot;14290718729531…</td><td>&quot;../../../../da…</td><td>1.4856e19</td><td>&quot;FirstMortgage3…</td><td>&quot;68087330168891…</td><td>&quot;Accepted&quot;</td></tr><tr><td>&quot;42196364061216…</td><td>&quot;21645374379999…</td><td>&quot;../../../../da…</td><td>5.6458e17</td><td>&quot;MoneyMarketSav…</td><td>&quot;69860417970637…</td><td>&quot;Rejected&quot;</td></tr><tr><td>&quot;16848784509073…</td><td>&quot;14290718729531…</td><td>&quot;../../../../da…</td><td>4.0723e18</td><td>&quot;BasicChecking&quot;</td><td>&quot;69860417970637…</td><td>&quot;Rejected&quot;</td></tr><tr><td>&quot;30633769643037…</td><td>&quot;10130630109355…</td><td>&quot;../../../../da…</td><td>1.4677e19</td><td>&quot;BasicChecking&quot;</td><td>&quot;15478118638809…</td><td>&quot;Accepted&quot;</td></tr><tr><td>&quot;10054881755639…</td><td>&quot;21645374379999…</td><td>&quot;../../../../da…</td><td>1.6330e19</td><td>&quot;UPlusFinPerson…</td><td>null</td><td>&quot;Rejected&quot;</td></tr><tr><td>&quot;18352334106724…</td><td>&quot;21645374379999…</td><td>&quot;../../../../da…</td><td>8.7675e18</td><td>&quot;BasicChecking&quot;</td><td>&quot;15478118638809…</td><td>&quot;Rejected&quot;</td></tr></tbody></table></div>"
      ],
      "text/plain": [
       "shape: (7, 7)\n",
       "┌──────────────┬─────────────┬─────────────┬─────────────┬─────────────┬─────────────┬─────────────┐\n",
       "│ PREDICTOR_0  ┆ PREDICTOR_1 ┆ filename    ┆ PREDICTOR_3 ┆ Context_Nam ┆ IH_Web_Inbo ┆ Decision_Ou │\n",
       "│ ---          ┆ ---         ┆ ---         ┆ ---         ┆ e           ┆ und_Accepte ┆ tcome       │\n",
       "│ str          ┆ str         ┆ str         ┆ f64         ┆ ---         ┆ d_pxLastGr… ┆ ---         │\n",
       "│              ┆             ┆             ┆             ┆ str         ┆ ---         ┆ str         │\n",
       "│              ┆             ┆             ┆             ┆             ┆ str         ┆             │\n",
       "╞══════════════╪═════════════╪═════════════╪═════════════╪═════════════╪═════════════╪═════════════╡\n",
       "│ 178875658297 ┆ 10130630109 ┆ ../../../.. ┆ 1.2927e19   ┆ FirstMortga ┆ 69860417970 ┆ Rejected    │\n",
       "│ 62678030     ┆ 35553672    ┆ /data/Sampl ┆             ┆ ge30yr      ┆ 63702436    ┆             │\n",
       "│              ┆             ┆ eHDS.json   ┆             ┆             ┆             ┆             │\n",
       "│ 363185243861 ┆ 14290718729 ┆ ../../../.. ┆ 1.4856e19   ┆ FirstMortga ┆ 68087330168 ┆ Accepted    │\n",
       "│ 5943856      ┆ 531993683   ┆ /data/Sampl ┆             ┆ ge30yr      ┆ 89145768    ┆             │\n",
       "│              ┆             ┆ eHDS.json   ┆             ┆             ┆             ┆             │\n",
       "│ 421963640612 ┆ 21645374379 ┆ ../../../.. ┆ 5.6458e17   ┆ MoneyMarket ┆ 69860417970 ┆ Rejected    │\n",
       "│ 1668309      ┆ 99955559    ┆ /data/Sampl ┆             ┆ SavingsAcco ┆ 63702436    ┆             │\n",
       "│              ┆             ┆ eHDS.json   ┆             ┆ unt         ┆             ┆             │\n",
       "│ 168487845090 ┆ 14290718729 ┆ ../../../.. ┆ 4.0723e18   ┆ BasicChecki ┆ 69860417970 ┆ Rejected    │\n",
       "│ 7314124      ┆ 531993683   ┆ /data/Sampl ┆             ┆ ng          ┆ 63702436    ┆             │\n",
       "│              ┆             ┆ eHDS.json   ┆             ┆             ┆             ┆             │\n",
       "│ 306337696430 ┆ 10130630109 ┆ ../../../.. ┆ 1.4677e19   ┆ BasicChecki ┆ 15478118638 ┆ Accepted    │\n",
       "│ 377350       ┆ 35553672    ┆ /data/Sampl ┆             ┆ ng          ┆ 809666011   ┆             │\n",
       "│              ┆             ┆ eHDS.json   ┆             ┆             ┆             ┆             │\n",
       "│ 100548817556 ┆ 21645374379 ┆ ../../../.. ┆ 1.6330e19   ┆ UPlusFinPer ┆ null        ┆ Rejected    │\n",
       "│ 39068459     ┆ 99955559    ┆ /data/Sampl ┆             ┆ sonal       ┆             ┆             │\n",
       "│              ┆             ┆ eHDS.json   ┆             ┆             ┆             ┆             │\n",
       "│ 183523341067 ┆ 21645374379 ┆ ../../../.. ┆ 8.7675e18   ┆ BasicChecki ┆ 15478118638 ┆ Rejected    │\n",
       "│ 24145921     ┆ 99955559    ┆ /data/Sampl ┆             ┆ ng          ┆ 809666011   ┆             │\n",
       "│              ┆             ┆ eHDS.json   ┆             ┆             ┆             ┆             │\n",
       "└──────────────┴─────────────┴─────────────┴─────────────┴─────────────┴─────────────┴─────────────┘"
      ]
     },
     "execution_count": 10,
     "metadata": {},
     "output_type": "execute_result"
    }
   ],
   "source": [
    "anon = DataAnonymization(config=Config(config_file='config.json'))\n",
    "anon.process()"
   ]
  },
  {
   "attachments": {},
   "cell_type": "markdown",
   "metadata": {},
   "source": [
    "## Exporting\n",
    "Two functions export:\n",
    "- `create_mapping_file()` writes the mapping file of the predictor names\n",
    "- `write_to_output()` writes the processed dataframe to disk\n",
    "\n",
    "Write to output accepts the following extensions: `[\"ndjson\", \"parquet\", \"arrow\", \"csv\"]`"
   ]
  },
  {
   "cell_type": "code",
   "execution_count": 11,
   "metadata": {
    "execution": {
     "iopub.execute_input": "2023-09-16T08:12:26.660288Z",
     "iopub.status.busy": "2023-09-16T08:12:26.659912Z",
     "iopub.status.idle": "2023-09-16T08:12:26.663499Z",
     "shell.execute_reply": "2023-09-16T08:12:26.662944Z"
    }
   },
   "outputs": [
    {
     "name": "stdout",
     "output_type": "stream",
     "text": [
      "Customer_City=PREDICTOR_0\n",
      "Customer_MaritalStatus=PREDICTOR_1\n",
      "filename=filename\n",
      "Customer_CLV=PREDICTOR_3\n",
      "Context_Name=Context_Name\n",
      "IH_Web_Inbound_Accepted_pxLastGroupID=IH_Web_Inbound_Accepted_pxLastGroupID\n",
      "Decision_Outcome=Decision_Outcome\n",
      "\n"
     ]
    }
   ],
   "source": [
    "anon.create_mapping_file()\n",
    "with open('mapping.map') as f:\n",
    "    print(f.read())"
   ]
  },
  {
   "cell_type": "code",
   "execution_count": 12,
   "metadata": {
    "execution": {
     "iopub.execute_input": "2023-09-16T08:12:26.665641Z",
     "iopub.status.busy": "2023-09-16T08:12:26.665454Z",
     "iopub.status.idle": "2023-09-16T08:12:26.669162Z",
     "shell.execute_reply": "2023-09-16T08:12:26.668622Z"
    }
   },
   "outputs": [],
   "source": [
    "anon.write_to_output(ext='arrow')"
   ]
  },
  {
   "cell_type": "code",
   "execution_count": 13,
   "metadata": {
    "execution": {
     "iopub.execute_input": "2023-09-16T08:12:26.671324Z",
     "iopub.status.busy": "2023-09-16T08:12:26.671138Z",
     "iopub.status.idle": "2023-09-16T08:12:26.675760Z",
     "shell.execute_reply": "2023-09-16T08:12:26.675327Z"
    }
   },
   "outputs": [
    {
     "data": {
      "text/html": [
       "<div><style>\n",
       ".dataframe > thead > tr > th,\n",
       ".dataframe > tbody > tr > td {\n",
       "  text-align: right;\n",
       "}\n",
       "</style>\n",
       "<small>shape: (7, 6)</small><table border=\"1\" class=\"dataframe\"><thead><tr><th>PREDICTOR_0</th><th>PREDICTOR_1</th><th>PREDICTOR_3</th><th>Context_Name</th><th>IH_Web_Inbound_Accepted_pxLastGroupID</th><th>Decision_Outcome</th></tr><tr><td>str</td><td>str</td><td>f64</td><td>str</td><td>str</td><td>str</td></tr></thead><tbody><tr><td>&quot;64165933240565…</td><td>&quot;99306264960770…</td><td>1.2927e19</td><td>&quot;FirstMortgage3…</td><td>&quot;12934236827363…</td><td>&quot;Rejected&quot;</td></tr><tr><td>&quot;13640251217209…</td><td>&quot;13634966494414…</td><td>1.4856e19</td><td>&quot;FirstMortgage3…</td><td>&quot;55095479816232…</td><td>&quot;Accepted&quot;</td></tr><tr><td>&quot;16233658846242…</td><td>&quot;10980383377503…</td><td>5.6458e17</td><td>&quot;MoneyMarketSav…</td><td>&quot;12934236827363…</td><td>&quot;Rejected&quot;</td></tr><tr><td>&quot;58257792363496…</td><td>&quot;13634966494414…</td><td>4.0723e18</td><td>&quot;BasicChecking&quot;</td><td>&quot;12934236827363…</td><td>&quot;Rejected&quot;</td></tr><tr><td>&quot;15011924323951…</td><td>&quot;99306264960770…</td><td>1.4677e19</td><td>&quot;BasicChecking&quot;</td><td>&quot;38729817222382…</td><td>&quot;Accepted&quot;</td></tr><tr><td>&quot;17963535164890…</td><td>&quot;10980383377503…</td><td>1.6330e19</td><td>&quot;UPlusFinPerson…</td><td>null</td><td>&quot;Rejected&quot;</td></tr><tr><td>&quot;74206512501279…</td><td>&quot;10980383377503…</td><td>8.7675e18</td><td>&quot;BasicChecking&quot;</td><td>&quot;38729817222382…</td><td>&quot;Rejected&quot;</td></tr></tbody></table></div>"
      ],
      "text/plain": [
       "shape: (7, 6)\n",
       "┌────────────────┬────────────────┬─────────────┬────────────────┬────────────────┬────────────────┐\n",
       "│ PREDICTOR_0    ┆ PREDICTOR_1    ┆ PREDICTOR_3 ┆ Context_Name   ┆ IH_Web_Inbound ┆ Decision_Outco │\n",
       "│ ---            ┆ ---            ┆ ---         ┆ ---            ┆ _Accepted_pxLa ┆ me             │\n",
       "│ str            ┆ str            ┆ f64         ┆ str            ┆ stGr…          ┆ ---            │\n",
       "│                ┆                ┆             ┆                ┆ ---            ┆ str            │\n",
       "│                ┆                ┆             ┆                ┆ str            ┆                │\n",
       "╞════════════════╪════════════════╪═════════════╪════════════════╪════════════════╪════════════════╡\n",
       "│ 64165933240565 ┆ 99306264960770 ┆ 1.2927e19   ┆ FirstMortgage3 ┆ 12934236827363 ┆ Rejected       │\n",
       "│ 46988          ┆ 32314          ┆             ┆ 0yr            ┆ 879084         ┆                │\n",
       "│ 13640251217209 ┆ 13634966494414 ┆ 1.4856e19   ┆ FirstMortgage3 ┆ 55095479816232 ┆ Accepted       │\n",
       "│ 572575         ┆ 320467         ┆             ┆ 0yr            ┆ 79695          ┆                │\n",
       "│ 16233658846242 ┆ 10980383377503 ┆ 5.6458e17   ┆ MoneyMarketSav ┆ 12934236827363 ┆ Rejected       │\n",
       "│ 997392         ┆ 370746         ┆             ┆ ingsAccount    ┆ 879084         ┆                │\n",
       "│ 58257792363496 ┆ 13634966494414 ┆ 4.0723e18   ┆ BasicChecking  ┆ 12934236827363 ┆ Rejected       │\n",
       "│ 35915          ┆ 320467         ┆             ┆                ┆ 879084         ┆                │\n",
       "│ 15011924323951 ┆ 99306264960770 ┆ 1.4677e19   ┆ BasicChecking  ┆ 38729817222382 ┆ Accepted       │\n",
       "│ 836960         ┆ 32314          ┆             ┆                ┆ 57878          ┆                │\n",
       "│ 17963535164890 ┆ 10980383377503 ┆ 1.6330e19   ┆ UPlusFinPerson ┆ null           ┆ Rejected       │\n",
       "│ 518223         ┆ 370746         ┆             ┆ al             ┆                ┆                │\n",
       "│ 74206512501279 ┆ 10980383377503 ┆ 8.7675e18   ┆ BasicChecking  ┆ 38729817222382 ┆ Rejected       │\n",
       "│ 05892          ┆ 370746         ┆             ┆                ┆ 57878          ┆                │\n",
       "└────────────────┴────────────────┴─────────────┴────────────────┴────────────────┴────────────────┘"
      ]
     },
     "execution_count": 13,
     "metadata": {},
     "output_type": "execute_result"
    }
   ],
   "source": [
    "pl.read_ipc('output/hds.arrow')"
   ]
  },
  {
   "attachments": {},
   "cell_type": "markdown",
   "metadata": {},
   "source": [
    "## Advanced: Hash fuctions\n",
    "\n",
    "By default, we use [the same hashing algorithm Polars](https://pola-rs.github.io/polars/py-polars/html/reference/expressions/api/polars.Expr.hash.html#polars.Expr.hash) uses: [xxhash](https://github.com/Cyan4973/xxHash), as implemented [here](https://github.com/pola-rs/polars/blob/3f287f370b3c388ed2f3f218b2c096382548136f/polars/polars-core/src/vector_hasher.rs#L266). xxhash is fast to compute, and you can check its performance in collision, dispersion and randomness [here](https://github.com/Cyan4973/xxHash/tree/dev/tests). \n",
    "\n",
    "xxhash accepts four distinct seeds, but by default we set the seeds to `0`. It is possible to set the `seed` argument of the `process()` function to `'random'`, which will set all four seeds to a random integer between `0` and `1000000000`. Alternatively, it is possible to supply the four seeds manually with arguments `seed`, `seed_1`, `seed_2` and `seed_3`. \n",
    "\n",
    "If the xxhash with (random) seed(s) is not deemed sufficiently secure, it is possible to use your own hashing algorithm.\n",
    "\n",
    "Note that since we're now running python code and not native Polars code anymore, this will be _significantly_ slower. Nonetheless, it is possible.\n",
    "\n",
    "Just as an example - this is how one would use sha3_256:"
   ]
  },
  {
   "cell_type": "code",
   "execution_count": 14,
   "metadata": {
    "execution": {
     "iopub.execute_input": "2023-09-16T08:12:26.677959Z",
     "iopub.status.busy": "2023-09-16T08:12:26.677605Z",
     "iopub.status.idle": "2023-09-16T08:12:27.103814Z",
     "shell.execute_reply": "2023-09-16T08:12:27.103089Z"
    }
   },
   "outputs": [
    {
     "ename": "ComputeError",
     "evalue": "AttributeError: 'int' object has no attribute 'encode'",
     "output_type": "error",
     "traceback": [
      "\u001b[0;31m---------------------------------------------------------------------------\u001b[0m",
      "\u001b[0;31mComputeError\u001b[0m                              Traceback (most recent call last)",
      "Cell \u001b[0;32mIn[14], line 3\u001b[0m\n\u001b[1;32m      1\u001b[0m \u001b[38;5;28;01mfrom\u001b[39;00m \u001b[38;5;21;01mhashlib\u001b[39;00m \u001b[38;5;28;01mimport\u001b[39;00m sha3_256\n\u001b[0;32m----> 3\u001b[0m \u001b[43manon\u001b[49m\u001b[38;5;241;43m.\u001b[39;49m\u001b[43mprocess\u001b[49m\u001b[43m(\u001b[49m\u001b[43malgorithm\u001b[49m\u001b[38;5;241;43m=\u001b[39;49m\u001b[38;5;28;43;01mlambda\u001b[39;49;00m\u001b[43m \u001b[49m\u001b[43mx\u001b[49m\u001b[43m:\u001b[49m\u001b[43m \u001b[49m\u001b[43msha3_256\u001b[49m\u001b[43m(\u001b[49m\u001b[43mx\u001b[49m\u001b[38;5;241;43m.\u001b[39;49m\u001b[43mencode\u001b[49m\u001b[43m(\u001b[49m\u001b[43m)\u001b[49m\u001b[43m)\u001b[49m\u001b[38;5;241;43m.\u001b[39;49m\u001b[43mhexdigest\u001b[49m\u001b[43m(\u001b[49m\u001b[43m)\u001b[49m\u001b[43m)\u001b[49m\n",
      "File \u001b[0;32m~/work/pega-datascientist-tools/pega-datascientist-tools/python/docs/source/articles/../../../pdstools/utils/hds_utils.py:516\u001b[0m, in \u001b[0;36mDataAnonymization.process\u001b[0;34m(self, strategy, **kwargs)\u001b[0m\n\u001b[1;32m    514\u001b[0m df \u001b[38;5;241m=\u001b[39m df\u001b[38;5;241m.\u001b[39mselect(\u001b[38;5;28mself\u001b[39m\u001b[38;5;241m.\u001b[39mcolumn_mapping\u001b[38;5;241m.\u001b[39mkeys())\u001b[38;5;241m.\u001b[39mrename(\u001b[38;5;28mself\u001b[39m\u001b[38;5;241m.\u001b[39mcolumn_mapping)\n\u001b[1;32m    515\u001b[0m \u001b[38;5;28;01mif\u001b[39;00m strategy \u001b[38;5;241m==\u001b[39m \u001b[38;5;124m\"\u001b[39m\u001b[38;5;124meager\u001b[39m\u001b[38;5;124m\"\u001b[39m:\n\u001b[0;32m--> 516\u001b[0m     \u001b[38;5;28;01mreturn\u001b[39;00m \u001b[43mdf\u001b[49m\u001b[38;5;241;43m.\u001b[39;49m\u001b[43mcollect\u001b[49m\u001b[43m(\u001b[49m\u001b[43m)\u001b[49m\n\u001b[1;32m    517\u001b[0m \u001b[38;5;28;01mreturn\u001b[39;00m df\n",
      "File \u001b[0;32m/opt/hostedtoolcache/Python/3.11.5/x64/lib/python3.11/site-packages/polars/lazyframe/frame.py:1530\u001b[0m, in \u001b[0;36mLazyFrame.collect\u001b[0;34m(self, type_coercion, predicate_pushdown, projection_pushdown, simplify_expression, no_optimization, slice_pushdown, common_subplan_elimination, streaming)\u001b[0m\n\u001b[1;32m   1519\u001b[0m     common_subplan_elimination \u001b[38;5;241m=\u001b[39m \u001b[38;5;28;01mFalse\u001b[39;00m\n\u001b[1;32m   1521\u001b[0m ldf \u001b[38;5;241m=\u001b[39m \u001b[38;5;28mself\u001b[39m\u001b[38;5;241m.\u001b[39m_ldf\u001b[38;5;241m.\u001b[39moptimization_toggle(\n\u001b[1;32m   1522\u001b[0m     type_coercion,\n\u001b[1;32m   1523\u001b[0m     predicate_pushdown,\n\u001b[0;32m   (...)\u001b[0m\n\u001b[1;32m   1528\u001b[0m     streaming,\n\u001b[1;32m   1529\u001b[0m )\n\u001b[0;32m-> 1530\u001b[0m \u001b[38;5;28;01mreturn\u001b[39;00m wrap_df(ldf\u001b[38;5;241m.\u001b[39mcollect())\n",
      "\u001b[0;31mComputeError\u001b[0m: AttributeError: 'int' object has no attribute 'encode'"
     ]
    }
   ],
   "source": [
    "from hashlib import sha3_256\n",
    "\n",
    "anon.process(algorithm=lambda x: sha3_256(x.encode()).hexdigest())"
   ]
  }
 ],
 "metadata": {
  "kernelspec": {
   "display_name": "Python 3",
   "language": "python",
   "name": "python3"
  },
  "language_info": {
   "codemirror_mode": {
    "name": "ipython",
    "version": 3
   },
   "file_extension": ".py",
   "mimetype": "text/x-python",
   "name": "python",
   "nbconvert_exporter": "python",
   "pygments_lexer": "ipython3",
   "version": "3.11.5"
  },
  "vscode": {
   "interpreter": {
    "hash": "aee8b7b246df8f9039afb4144a1f6fd8d2ca17a180786b69acc140d282b71a49"
   }
  }
 },
 "nbformat": 4,
 "nbformat_minor": 2
}
