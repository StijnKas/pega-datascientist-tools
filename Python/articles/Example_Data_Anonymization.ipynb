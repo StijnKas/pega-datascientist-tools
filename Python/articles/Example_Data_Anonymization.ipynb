{
 "cells": [
  {
   "attachments": {},
   "cell_type": "markdown",
   "metadata": {},
   "source": [
    "# Data Anonymization\n",
    "\n",
    "In Pega CDH 8.5 and up, it's now possible to record the historical data as seen by the Adaptive Models. See [this academy challenge](https://academy.pega.com/challenge/exporting-historical-data/v4) for reference. This historical data can be further used to experiment with offline models, but also to fine-tune the OOTB Gradient Boosting model. However, sharing this information with Pega can be sensitive as it contains raw predictor data. \n",
    "\n",
    "To this end, we provide a simple and transparent script to fully anonimize this dataset.\n",
    "\n",
    "The DataAnonymization script is now part of pdstools, and you can import it directly as such."
   ]
  },
  {
   "cell_type": "code",
   "execution_count": 1,
   "metadata": {
    "execution": {
     "iopub.execute_input": "2024-01-03T13:12:11.540696Z",
     "iopub.status.busy": "2024-01-03T13:12:11.540219Z",
     "iopub.status.idle": "2024-01-03T13:12:11.611298Z",
     "shell.execute_reply": "2024-01-03T13:12:11.610770Z"
    },
    "nbsphinx": "hidden"
   },
   "outputs": [],
   "source": [
    "# These lines are only for rendering in the docs, and are hidden through Jupyter tags\n",
    "# Do not run if you're running the notebook seperately\n",
    "\n",
    "import os  \n",
    "import sys\n",
    "import plotly.io as pio\n",
    "pio.renderers.default = \"notebook_connected\"\n",
    "\n",
    "sys.path.append(\"../../../\")\n",
    "sys.path.append('../../python')"
   ]
  },
  {
   "cell_type": "code",
   "execution_count": 2,
   "metadata": {
    "execution": {
     "iopub.execute_input": "2024-01-03T13:12:11.613717Z",
     "iopub.status.busy": "2024-01-03T13:12:11.613378Z",
     "iopub.status.idle": "2024-01-03T13:12:12.622531Z",
     "shell.execute_reply": "2024-01-03T13:12:12.622033Z"
    }
   },
   "outputs": [],
   "source": [
    "from pdstools import ADMDatamart\n",
    "from pdstools import Config, DataAnonymization\n",
    "import polars as pl"
   ]
  },
  {
   "attachments": {},
   "cell_type": "markdown",
   "metadata": {},
   "source": [
    "## Input data\n",
    "\n",
    "To demonstrate this process, we're going to anonymise this toy example dataframe:"
   ]
  },
  {
   "cell_type": "code",
   "execution_count": 3,
   "metadata": {
    "execution": {
     "iopub.execute_input": "2024-01-03T13:12:12.625032Z",
     "iopub.status.busy": "2024-01-03T13:12:12.624591Z",
     "iopub.status.idle": "2024-01-03T13:12:12.633647Z",
     "shell.execute_reply": "2024-01-03T13:12:12.633045Z"
    }
   },
   "outputs": [
    {
     "data": {
      "text/html": [
       "<div><style>\n",
       ".dataframe > thead > tr,\n",
       ".dataframe > tbody > tr {\n",
       "  text-align: right;\n",
       "  white-space: pre-wrap;\n",
       "}\n",
       "</style>\n",
       "<small>shape: (7, 6)</small><table border=\"1\" class=\"dataframe\"><thead><tr><th>Context_Name</th><th>Customer_MaritalStatus</th><th>Customer_CLV</th><th>Customer_City</th><th>IH_Web_Inbound_Accepted_pxLastGroupID</th><th>Decision_Outcome</th></tr><tr><td>str</td><td>str</td><td>i64</td><td>str</td><td>str</td><td>str</td></tr></thead><tbody><tr><td>&quot;FirstMortgage3…</td><td>&quot;Married&quot;</td><td>1460</td><td>&quot;Port Raoul&quot;</td><td>&quot;Account&quot;</td><td>&quot;Rejected&quot;</td></tr><tr><td>&quot;FirstMortgage3…</td><td>&quot;Unknown&quot;</td><td>669</td><td>&quot;Laurianneshire…</td><td>&quot;AutoLoans&quot;</td><td>&quot;Accepted&quot;</td></tr><tr><td>&quot;MoneyMarketSav…</td><td>&quot;No Resp+&quot;</td><td>1174</td><td>&quot;Jacobshaven&quot;</td><td>&quot;Account&quot;</td><td>&quot;Rejected&quot;</td></tr><tr><td>&quot;BasicChecking&quot;</td><td>&quot;Unknown&quot;</td><td>1476</td><td>&quot;Lindton&quot;</td><td>&quot;Account&quot;</td><td>&quot;Rejected&quot;</td></tr><tr><td>&quot;BasicChecking&quot;</td><td>&quot;Married&quot;</td><td>1211</td><td>&quot;South Jimmiesh…</td><td>&quot;DepositAccount…</td><td>&quot;Accepted&quot;</td></tr><tr><td>&quot;UPlusFinPerson…</td><td>&quot;No Resp+&quot;</td><td>533</td><td>&quot;Bergeville&quot;</td><td>null</td><td>&quot;Rejected&quot;</td></tr><tr><td>&quot;BasicChecking&quot;</td><td>&quot;No Resp+&quot;</td><td>555</td><td>&quot;Willyville&quot;</td><td>&quot;DepositAccount…</td><td>&quot;Rejected&quot;</td></tr></tbody></table></div>"
      ],
      "text/plain": [
       "shape: (7, 6)\n",
       "┌────────────────┬────────────────┬──────────────┬────────────────┬────────────────┬───────────────┐\n",
       "│ Context_Name   ┆ Customer_Marit ┆ Customer_CLV ┆ Customer_City  ┆ IH_Web_Inbound ┆ Decision_Outc │\n",
       "│ ---            ┆ alStatus       ┆ ---          ┆ ---            ┆ _Accepted_pxLa ┆ ome           │\n",
       "│ str            ┆ ---            ┆ i64          ┆ str            ┆ stGr…          ┆ ---           │\n",
       "│                ┆ str            ┆              ┆                ┆ ---            ┆ str           │\n",
       "│                ┆                ┆              ┆                ┆ str            ┆               │\n",
       "╞════════════════╪════════════════╪══════════════╪════════════════╪════════════════╪═══════════════╡\n",
       "│ FirstMortgage3 ┆ Married        ┆ 1460         ┆ Port Raoul     ┆ Account        ┆ Rejected      │\n",
       "│ 0yr            ┆                ┆              ┆                ┆                ┆               │\n",
       "│ FirstMortgage3 ┆ Unknown        ┆ 669          ┆ Laurianneshire ┆ AutoLoans      ┆ Accepted      │\n",
       "│ 0yr            ┆                ┆              ┆                ┆                ┆               │\n",
       "│ MoneyMarketSav ┆ No Resp+       ┆ 1174         ┆ Jacobshaven    ┆ Account        ┆ Rejected      │\n",
       "│ ingsAccount    ┆                ┆              ┆                ┆                ┆               │\n",
       "│ BasicChecking  ┆ Unknown        ┆ 1476         ┆ Lindton        ┆ Account        ┆ Rejected      │\n",
       "│ BasicChecking  ┆ Married        ┆ 1211         ┆ South          ┆ DepositAccount ┆ Accepted      │\n",
       "│                ┆                ┆              ┆ Jimmieshire    ┆ s              ┆               │\n",
       "│ UPlusFinPerson ┆ No Resp+       ┆ 533          ┆ Bergeville     ┆ null           ┆ Rejected      │\n",
       "│ al             ┆                ┆              ┆                ┆                ┆               │\n",
       "│ BasicChecking  ┆ No Resp+       ┆ 555          ┆ Willyville     ┆ DepositAccount ┆ Rejected      │\n",
       "│                ┆                ┆              ┆                ┆ s              ┆               │\n",
       "└────────────────┴────────────────┴──────────────┴────────────────┴────────────────┴───────────────┘"
      ]
     },
     "execution_count": 3,
     "metadata": {},
     "output_type": "execute_result"
    }
   ],
   "source": [
    "pl.read_ndjson('../../../../data/SampleHDS.json')"
   ]
  },
  {
   "attachments": {},
   "cell_type": "markdown",
   "metadata": {},
   "source": [
    "As you can see, this dataset consists of regular predictors, IH predictors, context keys and the outcome column. Additionally, some columns are numeric, others are strings. Let's first initialize the DataAnonymization class."
   ]
  },
  {
   "cell_type": "code",
   "execution_count": 4,
   "metadata": {
    "execution": {
     "iopub.execute_input": "2024-01-03T13:12:12.635746Z",
     "iopub.status.busy": "2024-01-03T13:12:12.635416Z",
     "iopub.status.idle": "2024-01-03T13:12:12.641413Z",
     "shell.execute_reply": "2024-01-03T13:12:12.641013Z"
    }
   },
   "outputs": [],
   "source": [
    "anon = DataAnonymization(hds_folder='../../../../data/')"
   ]
  },
  {
   "attachments": {},
   "cell_type": "markdown",
   "metadata": {},
   "source": [
    "By default, the class applies a set of anonymisation techniques:\n",
    "- Column names are remapped to a non-descriptive name\n",
    "- Categorical values are hashed with a random seed\n",
    "- Numerical values are normalized between 0 and 1\n",
    "- Outcomes are mapped to a binary outcome.\n",
    "\n",
    "To apply these techniques, simply call `.process()`:"
   ]
  },
  {
   "cell_type": "code",
   "execution_count": 5,
   "metadata": {
    "execution": {
     "iopub.execute_input": "2024-01-03T13:12:12.643400Z",
     "iopub.status.busy": "2024-01-03T13:12:12.643080Z",
     "iopub.status.idle": "2024-01-03T13:12:12.648572Z",
     "shell.execute_reply": "2024-01-03T13:12:12.648119Z"
    }
   },
   "outputs": [
    {
     "data": {
      "text/html": [
       "<div><style>\n",
       ".dataframe > thead > tr,\n",
       ".dataframe > tbody > tr {\n",
       "  text-align: right;\n",
       "  white-space: pre-wrap;\n",
       "}\n",
       "</style>\n",
       "<small>shape: (7, 7)</small><table border=\"1\" class=\"dataframe\"><thead><tr><th>PREDICTOR_0</th><th>PREDICTOR_1</th><th>PREDICTOR_2</th><th>filename</th><th>Context_Name</th><th>IH_PREDICTOR_0</th><th>Decision_Outcome</th></tr><tr><td>f64</td><td>str</td><td>str</td><td>str</td><td>str</td><td>str</td><td>bool</td></tr></thead><tbody><tr><td>0.983033</td><td>&quot;70127697861485…</td><td>&quot;11875290780184…</td><td>&quot;../../../../da…</td><td>&quot;15814376529087…</td><td>&quot;15089540292191…</td><td>false</td></tr><tr><td>0.144221</td><td>&quot;32051145628309…</td><td>&quot;10079463819776…</td><td>&quot;../../../../da…</td><td>&quot;15814376529087…</td><td>&quot;16003829073198…</td><td>true</td></tr><tr><td>0.679745</td><td>&quot;84873740928728…</td><td>&quot;58489759412240…</td><td>&quot;../../../../da…</td><td>&quot;46706785537079…</td><td>&quot;15089540292191…</td><td>false</td></tr><tr><td>1.0</td><td>&quot;18107740119210…</td><td>&quot;10079463819776…</td><td>&quot;../../../../da…</td><td>&quot;64221670025601…</td><td>&quot;15089540292191…</td><td>false</td></tr><tr><td>0.718982</td><td>&quot;17097451940834…</td><td>&quot;11875290780184…</td><td>&quot;../../../../da…</td><td>&quot;64221670025601…</td><td>&quot;90706395051551…</td><td>true</td></tr><tr><td>0.0</td><td>&quot;60017070315459…</td><td>&quot;58489759412240…</td><td>&quot;../../../../da…</td><td>&quot;17249587739591…</td><td>null</td><td>false</td></tr><tr><td>0.02333</td><td>&quot;41187175719563…</td><td>&quot;58489759412240…</td><td>&quot;../../../../da…</td><td>&quot;64221670025601…</td><td>&quot;90706395051551…</td><td>false</td></tr></tbody></table></div>"
      ],
      "text/plain": [
       "shape: (7, 7)\n",
       "┌─────────────┬──────────────┬─────────────┬─────────────┬─────────────┬─────────────┬─────────────┐\n",
       "│ PREDICTOR_0 ┆ PREDICTOR_1  ┆ PREDICTOR_2 ┆ filename    ┆ Context_Nam ┆ IH_PREDICTO ┆ Decision_Ou │\n",
       "│ ---         ┆ ---          ┆ ---         ┆ ---         ┆ e           ┆ R_0         ┆ tcome       │\n",
       "│ f64         ┆ str          ┆ str         ┆ str         ┆ ---         ┆ ---         ┆ ---         │\n",
       "│             ┆              ┆             ┆             ┆ str         ┆ str         ┆ bool        │\n",
       "╞═════════════╪══════════════╪═════════════╪═════════════╪═════════════╪═════════════╪═════════════╡\n",
       "│ 0.983033    ┆ 701276978614 ┆ 11875290780 ┆ ../../../.. ┆ 15814376529 ┆ 15089540292 ┆ false       │\n",
       "│             ┆ 8505238      ┆ 184580407   ┆ /data/Sampl ┆ 087073715   ┆ 191371000   ┆             │\n",
       "│             ┆              ┆             ┆ eHDS.json   ┆             ┆             ┆             │\n",
       "│ 0.144221    ┆ 320511456283 ┆ 10079463819 ┆ ../../../.. ┆ 15814376529 ┆ 16003829073 ┆ true        │\n",
       "│             ┆ 0943671      ┆ 776365157   ┆ /data/Sampl ┆ 087073715   ┆ 198751623   ┆             │\n",
       "│             ┆              ┆             ┆ eHDS.json   ┆             ┆             ┆             │\n",
       "│ 0.679745    ┆ 848737409287 ┆ 58489759412 ┆ ../../../.. ┆ 46706785537 ┆ 15089540292 ┆ false       │\n",
       "│             ┆ 2824603      ┆ 24061968    ┆ /data/Sampl ┆ 07922794    ┆ 191371000   ┆             │\n",
       "│             ┆              ┆             ┆ eHDS.json   ┆             ┆             ┆             │\n",
       "│ 1.0         ┆ 181077401192 ┆ 10079463819 ┆ ../../../.. ┆ 64221670025 ┆ 15089540292 ┆ false       │\n",
       "│             ┆ 10225834     ┆ 776365157   ┆ /data/Sampl ┆ 60195121    ┆ 191371000   ┆             │\n",
       "│             ┆              ┆             ┆ eHDS.json   ┆             ┆             ┆             │\n",
       "│ 0.718982    ┆ 170974519408 ┆ 11875290780 ┆ ../../../.. ┆ 64221670025 ┆ 90706395051 ┆ true        │\n",
       "│             ┆ 3468620      ┆ 184580407   ┆ /data/Sampl ┆ 60195121    ┆ 55183599    ┆             │\n",
       "│             ┆              ┆             ┆ eHDS.json   ┆             ┆             ┆             │\n",
       "│ 0.0         ┆ 600170703154 ┆ 58489759412 ┆ ../../../.. ┆ 17249587739 ┆ null        ┆ false       │\n",
       "│             ┆ 5976289      ┆ 24061968    ┆ /data/Sampl ┆ 591687892   ┆             ┆             │\n",
       "│             ┆              ┆             ┆ eHDS.json   ┆             ┆             ┆             │\n",
       "│ 0.02333     ┆ 411871757195 ┆ 58489759412 ┆ ../../../.. ┆ 64221670025 ┆ 90706395051 ┆ false       │\n",
       "│             ┆ 6374305      ┆ 24061968    ┆ /data/Sampl ┆ 60195121    ┆ 55183599    ┆             │\n",
       "│             ┆              ┆             ┆ eHDS.json   ┆             ┆             ┆             │\n",
       "└─────────────┴──────────────┴─────────────┴─────────────┴─────────────┴─────────────┴─────────────┘"
      ]
     },
     "execution_count": 5,
     "metadata": {},
     "output_type": "execute_result"
    }
   ],
   "source": [
    "anon.process()"
   ]
  },
  {
   "attachments": {},
   "cell_type": "markdown",
   "metadata": {},
   "source": [
    "To trace back the columns to their original names, the class also contains a mapping, which does not have to be provided."
   ]
  },
  {
   "cell_type": "code",
   "execution_count": 6,
   "metadata": {
    "execution": {
     "iopub.execute_input": "2024-01-03T13:12:12.650614Z",
     "iopub.status.busy": "2024-01-03T13:12:12.650295Z",
     "iopub.status.idle": "2024-01-03T13:12:12.653723Z",
     "shell.execute_reply": "2024-01-03T13:12:12.653267Z"
    }
   },
   "outputs": [
    {
     "data": {
      "text/plain": [
       "{'Customer_CLV': 'PREDICTOR_0',\n",
       " 'Customer_City': 'PREDICTOR_1',\n",
       " 'Customer_MaritalStatus': 'PREDICTOR_2',\n",
       " 'filename': 'filename',\n",
       " 'Context_Name': 'Context_Name',\n",
       " 'IH_Web_Inbound_Accepted_pxLastGroupID': 'IH_PREDICTOR_0',\n",
       " 'Decision_Outcome': 'Decision_Outcome'}"
      ]
     },
     "execution_count": 6,
     "metadata": {},
     "output_type": "execute_result"
    }
   ],
   "source": [
    "anon.column_mapping"
   ]
  },
  {
   "attachments": {},
   "cell_type": "markdown",
   "metadata": {},
   "source": [
    "## Configs\n",
    "\n",
    "Each capability can optionally be turned off - see below for the full list of config options, and refer to the API reference for the full description."
   ]
  },
  {
   "cell_type": "code",
   "execution_count": 7,
   "metadata": {
    "execution": {
     "iopub.execute_input": "2024-01-03T13:12:12.655675Z",
     "iopub.status.busy": "2024-01-03T13:12:12.655356Z",
     "iopub.status.idle": "2024-01-03T13:12:12.659292Z",
     "shell.execute_reply": "2024-01-03T13:12:12.658886Z"
    }
   },
   "outputs": [
    {
     "data": {
      "text/plain": [
       "{'config_file': None,\n",
       " 'hds_folder': '.',\n",
       " 'use_datamart': False,\n",
       " 'datamart_folder': 'datamart',\n",
       " 'output_format': 'ndjson',\n",
       " 'output_folder': 'output',\n",
       " 'mapping_file': 'mapping.map',\n",
       " 'mask_predictor_names': True,\n",
       " 'mask_context_key_names': False,\n",
       " 'mask_ih_names': True,\n",
       " 'mask_outcome_name': False,\n",
       " 'mask_predictor_values': True,\n",
       " 'mask_context_key_values': True,\n",
       " 'mask_ih_values': True,\n",
       " 'mask_outcome_values': True,\n",
       " 'context_key_label': 'Context_*',\n",
       " 'ih_label': 'IH_*',\n",
       " 'outcome_column': 'Decision_Outcome',\n",
       " 'positive_outcomes': ['Accepted', 'Clicked'],\n",
       " 'negative_outcomes': ['Rejected', 'Impression'],\n",
       " 'special_predictors': ['Decision_DecisionTime',\n",
       "  'Decision_OutcomeTime',\n",
       "  'Decision_Rank'],\n",
       " 'sample_percentage_schema_inferencing': 0.01}"
      ]
     },
     "execution_count": 7,
     "metadata": {},
     "output_type": "execute_result"
    }
   ],
   "source": [
    "dict(zip(Config.__init__.__code__.co_varnames[1:], Config.__init__.__defaults__))"
   ]
  },
  {
   "attachments": {},
   "cell_type": "markdown",
   "metadata": {},
   "source": [
    "It's easy to change these parameters by just passing the keyword arguments. In the following example, we\n",
    "- Keep the IH predictor names\n",
    "- Keep the outcome values\n",
    "- Keep the context key values\n",
    "- Keep the context key predictor names"
   ]
  },
  {
   "cell_type": "code",
   "execution_count": 8,
   "metadata": {
    "execution": {
     "iopub.execute_input": "2024-01-03T13:12:12.661317Z",
     "iopub.status.busy": "2024-01-03T13:12:12.661006Z",
     "iopub.status.idle": "2024-01-03T13:12:12.668550Z",
     "shell.execute_reply": "2024-01-03T13:12:12.668037Z"
    }
   },
   "outputs": [
    {
     "data": {
      "text/html": [
       "<div><style>\n",
       ".dataframe > thead > tr,\n",
       ".dataframe > tbody > tr {\n",
       "  text-align: right;\n",
       "  white-space: pre-wrap;\n",
       "}\n",
       "</style>\n",
       "<small>shape: (7, 7)</small><table border=\"1\" class=\"dataframe\"><thead><tr><th>PREDICTOR_0</th><th>PREDICTOR_1</th><th>PREDICTOR_2</th><th>filename</th><th>Context_Name</th><th>IH_Web_Inbound_Accepted_pxLastGroupID</th><th>Decision_Outcome</th></tr><tr><td>f64</td><td>str</td><td>str</td><td>str</td><td>str</td><td>str</td><td>str</td></tr></thead><tbody><tr><td>0.983033</td><td>&quot;11720912151873…</td><td>&quot;11387096834964…</td><td>&quot;../../../../da…</td><td>&quot;FirstMortgage3…</td><td>&quot;15783680313283…</td><td>&quot;Rejected&quot;</td></tr><tr><td>0.144221</td><td>&quot;23312617431889…</td><td>&quot;15212857817096…</td><td>&quot;../../../../da…</td><td>&quot;FirstMortgage3…</td><td>&quot;57325847939000…</td><td>&quot;Accepted&quot;</td></tr><tr><td>0.679745</td><td>&quot;18736534409423…</td><td>&quot;11056236983149…</td><td>&quot;../../../../da…</td><td>&quot;MoneyMarketSav…</td><td>&quot;15783680313283…</td><td>&quot;Rejected&quot;</td></tr><tr><td>1.0</td><td>&quot;13971770371639…</td><td>&quot;15212857817096…</td><td>&quot;../../../../da…</td><td>&quot;BasicChecking&quot;</td><td>&quot;15783680313283…</td><td>&quot;Rejected&quot;</td></tr><tr><td>0.718982</td><td>&quot;96971198403684…</td><td>&quot;11387096834964…</td><td>&quot;../../../../da…</td><td>&quot;BasicChecking&quot;</td><td>&quot;15752138599477…</td><td>&quot;Accepted&quot;</td></tr><tr><td>0.0</td><td>&quot;44467369621138…</td><td>&quot;11056236983149…</td><td>&quot;../../../../da…</td><td>&quot;UPlusFinPerson…</td><td>null</td><td>&quot;Rejected&quot;</td></tr><tr><td>0.02333</td><td>&quot;90805897397771…</td><td>&quot;11056236983149…</td><td>&quot;../../../../da…</td><td>&quot;BasicChecking&quot;</td><td>&quot;15752138599477…</td><td>&quot;Rejected&quot;</td></tr></tbody></table></div>"
      ],
      "text/plain": [
       "shape: (7, 7)\n",
       "┌─────────────┬──────────────┬─────────────┬─────────────┬─────────────┬─────────────┬─────────────┐\n",
       "│ PREDICTOR_0 ┆ PREDICTOR_1  ┆ PREDICTOR_2 ┆ filename    ┆ Context_Nam ┆ IH_Web_Inbo ┆ Decision_Ou │\n",
       "│ ---         ┆ ---          ┆ ---         ┆ ---         ┆ e           ┆ und_Accepte ┆ tcome       │\n",
       "│ f64         ┆ str          ┆ str         ┆ str         ┆ ---         ┆ d_pxLastGr… ┆ ---         │\n",
       "│             ┆              ┆             ┆             ┆ str         ┆ ---         ┆ str         │\n",
       "│             ┆              ┆             ┆             ┆             ┆ str         ┆             │\n",
       "╞═════════════╪══════════════╪═════════════╪═════════════╪═════════════╪═════════════╪═════════════╡\n",
       "│ 0.983033    ┆ 117209121518 ┆ 11387096834 ┆ ../../../.. ┆ FirstMortga ┆ 15783680313 ┆ Rejected    │\n",
       "│             ┆ 73390561     ┆ 964836984   ┆ /data/Sampl ┆ ge30yr      ┆ 283394840   ┆             │\n",
       "│             ┆              ┆             ┆ eHDS.json   ┆             ┆             ┆             │\n",
       "│ 0.144221    ┆ 233126174318 ┆ 15212857817 ┆ ../../../.. ┆ FirstMortga ┆ 57325847939 ┆ Accepted    │\n",
       "│             ┆ 8954754      ┆ 096375262   ┆ /data/Sampl ┆ ge30yr      ┆ 00096212    ┆             │\n",
       "│             ┆              ┆             ┆ eHDS.json   ┆             ┆             ┆             │\n",
       "│ 0.679745    ┆ 187365344094 ┆ 11056236983 ┆ ../../../.. ┆ MoneyMarket ┆ 15783680313 ┆ Rejected    │\n",
       "│             ┆ 2355753      ┆ 149468794   ┆ /data/Sampl ┆ SavingsAcco ┆ 283394840   ┆             │\n",
       "│             ┆              ┆             ┆ eHDS.json   ┆ unt         ┆             ┆             │\n",
       "│ 1.0         ┆ 139717703716 ┆ 15212857817 ┆ ../../../.. ┆ BasicChecki ┆ 15783680313 ┆ Rejected    │\n",
       "│             ┆ 3903510      ┆ 096375262   ┆ /data/Sampl ┆ ng          ┆ 283394840   ┆             │\n",
       "│             ┆              ┆             ┆ eHDS.json   ┆             ┆             ┆             │\n",
       "│ 0.718982    ┆ 969711984036 ┆ 11387096834 ┆ ../../../.. ┆ BasicChecki ┆ 15752138599 ┆ Accepted    │\n",
       "│             ┆ 8440035      ┆ 964836984   ┆ /data/Sampl ┆ ng          ┆ 477485137   ┆             │\n",
       "│             ┆              ┆             ┆ eHDS.json   ┆             ┆             ┆             │\n",
       "│ 0.0         ┆ 444673696211 ┆ 11056236983 ┆ ../../../.. ┆ UPlusFinPer ┆ null        ┆ Rejected    │\n",
       "│             ┆ 3876453      ┆ 149468794   ┆ /data/Sampl ┆ sonal       ┆             ┆             │\n",
       "│             ┆              ┆             ┆ eHDS.json   ┆             ┆             ┆             │\n",
       "│ 0.02333     ┆ 908058973977 ┆ 11056236983 ┆ ../../../.. ┆ BasicChecki ┆ 15752138599 ┆ Rejected    │\n",
       "│             ┆ 7182978      ┆ 149468794   ┆ /data/Sampl ┆ ng          ┆ 477485137   ┆             │\n",
       "│             ┆              ┆             ┆ eHDS.json   ┆             ┆             ┆             │\n",
       "└─────────────┴──────────────┴─────────────┴─────────────┴─────────────┴─────────────┴─────────────┘"
      ]
     },
     "execution_count": 8,
     "metadata": {},
     "output_type": "execute_result"
    }
   ],
   "source": [
    "anon = DataAnonymization(\n",
    "    hds_folder=\"../../../../data/\",\n",
    "    mask_ih_names=False,\n",
    "    mask_outcome_values=False,\n",
    "    mask_context_key_values=False,\n",
    "    mask_context_key_names=False,\n",
    ")\n",
    "anon.process()\n"
   ]
  },
  {
   "attachments": {},
   "cell_type": "markdown",
   "metadata": {},
   "source": [
    "The configs can also be written and read as such:"
   ]
  },
  {
   "cell_type": "code",
   "execution_count": 9,
   "metadata": {
    "execution": {
     "iopub.execute_input": "2024-01-03T13:12:12.670785Z",
     "iopub.status.busy": "2024-01-03T13:12:12.670469Z",
     "iopub.status.idle": "2024-01-03T13:12:12.673240Z",
     "shell.execute_reply": "2024-01-03T13:12:12.672789Z"
    }
   },
   "outputs": [],
   "source": [
    "anon.config.save_to_config_file('config.json')"
   ]
  },
  {
   "cell_type": "code",
   "execution_count": 10,
   "metadata": {
    "execution": {
     "iopub.execute_input": "2024-01-03T13:12:12.675007Z",
     "iopub.status.busy": "2024-01-03T13:12:12.674841Z",
     "iopub.status.idle": "2024-01-03T13:12:12.682068Z",
     "shell.execute_reply": "2024-01-03T13:12:12.681652Z"
    }
   },
   "outputs": [
    {
     "data": {
      "text/html": [
       "<div><style>\n",
       ".dataframe > thead > tr,\n",
       ".dataframe > tbody > tr {\n",
       "  text-align: right;\n",
       "  white-space: pre-wrap;\n",
       "}\n",
       "</style>\n",
       "<small>shape: (7, 7)</small><table border=\"1\" class=\"dataframe\"><thead><tr><th>PREDICTOR_0</th><th>PREDICTOR_1</th><th>PREDICTOR_2</th><th>filename</th><th>Context_Name</th><th>IH_Web_Inbound_Accepted_pxLastGroupID</th><th>Decision_Outcome</th></tr><tr><td>f64</td><td>str</td><td>str</td><td>str</td><td>str</td><td>str</td><td>str</td></tr></thead><tbody><tr><td>0.983033</td><td>&quot;10004759209059…</td><td>&quot;80999040033044…</td><td>&quot;../../../../da…</td><td>&quot;FirstMortgage3…</td><td>&quot;25180006961239…</td><td>&quot;Rejected&quot;</td></tr><tr><td>0.144221</td><td>&quot;33991059680294…</td><td>&quot;11942209409214…</td><td>&quot;../../../../da…</td><td>&quot;FirstMortgage3…</td><td>&quot;17355899435316…</td><td>&quot;Accepted&quot;</td></tr><tr><td>0.679745</td><td>&quot;16800283572800…</td><td>&quot;10103006062107…</td><td>&quot;../../../../da…</td><td>&quot;MoneyMarketSav…</td><td>&quot;25180006961239…</td><td>&quot;Rejected&quot;</td></tr><tr><td>1.0</td><td>&quot;12870768821964…</td><td>&quot;11942209409214…</td><td>&quot;../../../../da…</td><td>&quot;BasicChecking&quot;</td><td>&quot;25180006961239…</td><td>&quot;Rejected&quot;</td></tr><tr><td>0.718982</td><td>&quot;75056836512247…</td><td>&quot;80999040033044…</td><td>&quot;../../../../da…</td><td>&quot;BasicChecking&quot;</td><td>&quot;17010021060988…</td><td>&quot;Accepted&quot;</td></tr><tr><td>0.0</td><td>&quot;46032167478123…</td><td>&quot;10103006062107…</td><td>&quot;../../../../da…</td><td>&quot;UPlusFinPerson…</td><td>null</td><td>&quot;Rejected&quot;</td></tr><tr><td>0.02333</td><td>&quot;15814017989778…</td><td>&quot;10103006062107…</td><td>&quot;../../../../da…</td><td>&quot;BasicChecking&quot;</td><td>&quot;17010021060988…</td><td>&quot;Rejected&quot;</td></tr></tbody></table></div>"
      ],
      "text/plain": [
       "shape: (7, 7)\n",
       "┌─────────────┬──────────────┬─────────────┬─────────────┬─────────────┬─────────────┬─────────────┐\n",
       "│ PREDICTOR_0 ┆ PREDICTOR_1  ┆ PREDICTOR_2 ┆ filename    ┆ Context_Nam ┆ IH_Web_Inbo ┆ Decision_Ou │\n",
       "│ ---         ┆ ---          ┆ ---         ┆ ---         ┆ e           ┆ und_Accepte ┆ tcome       │\n",
       "│ f64         ┆ str          ┆ str         ┆ str         ┆ ---         ┆ d_pxLastGr… ┆ ---         │\n",
       "│             ┆              ┆             ┆             ┆ str         ┆ ---         ┆ str         │\n",
       "│             ┆              ┆             ┆             ┆             ┆ str         ┆             │\n",
       "╞═════════════╪══════════════╪═════════════╪═════════════╪═════════════╪═════════════╪═════════════╡\n",
       "│ 0.983033    ┆ 100047592090 ┆ 80999040033 ┆ ../../../.. ┆ FirstMortga ┆ 25180006961 ┆ Rejected    │\n",
       "│             ┆ 59234020     ┆ 044278      ┆ /data/Sampl ┆ ge30yr      ┆ 23953963    ┆             │\n",
       "│             ┆              ┆             ┆ eHDS.json   ┆             ┆             ┆             │\n",
       "│ 0.144221    ┆ 339910596802 ┆ 11942209409 ┆ ../../../.. ┆ FirstMortga ┆ 17355899435 ┆ Accepted    │\n",
       "│             ┆ 9482639      ┆ 214578823   ┆ /data/Sampl ┆ ge30yr      ┆ 316455851   ┆             │\n",
       "│             ┆              ┆             ┆ eHDS.json   ┆             ┆             ┆             │\n",
       "│ 0.679745    ┆ 168002835728 ┆ 10103006062 ┆ ../../../.. ┆ MoneyMarket ┆ 25180006961 ┆ Rejected    │\n",
       "│             ┆ 00681651     ┆ 107975857   ┆ /data/Sampl ┆ SavingsAcco ┆ 23953963    ┆             │\n",
       "│             ┆              ┆             ┆ eHDS.json   ┆ unt         ┆             ┆             │\n",
       "│ 1.0         ┆ 128707688219 ┆ 11942209409 ┆ ../../../.. ┆ BasicChecki ┆ 25180006961 ┆ Rejected    │\n",
       "│             ┆ 64027575     ┆ 214578823   ┆ /data/Sampl ┆ ng          ┆ 23953963    ┆             │\n",
       "│             ┆              ┆             ┆ eHDS.json   ┆             ┆             ┆             │\n",
       "│ 0.718982    ┆ 750568365122 ┆ 80999040033 ┆ ../../../.. ┆ BasicChecki ┆ 17010021060 ┆ Accepted    │\n",
       "│             ┆ 4720161      ┆ 044278      ┆ /data/Sampl ┆ ng          ┆ 988713691   ┆             │\n",
       "│             ┆              ┆             ┆ eHDS.json   ┆             ┆             ┆             │\n",
       "│ 0.0         ┆ 460321674781 ┆ 10103006062 ┆ ../../../.. ┆ UPlusFinPer ┆ null        ┆ Rejected    │\n",
       "│             ┆ 2388115      ┆ 107975857   ┆ /data/Sampl ┆ sonal       ┆             ┆             │\n",
       "│             ┆              ┆             ┆ eHDS.json   ┆             ┆             ┆             │\n",
       "│ 0.02333     ┆ 158140179897 ┆ 10103006062 ┆ ../../../.. ┆ BasicChecki ┆ 17010021060 ┆ Rejected    │\n",
       "│             ┆ 78570264     ┆ 107975857   ┆ /data/Sampl ┆ ng          ┆ 988713691   ┆             │\n",
       "│             ┆              ┆             ┆ eHDS.json   ┆             ┆             ┆             │\n",
       "└─────────────┴──────────────┴─────────────┴─────────────┴─────────────┴─────────────┴─────────────┘"
      ]
     },
     "execution_count": 10,
     "metadata": {},
     "output_type": "execute_result"
    }
   ],
   "source": [
    "anon = DataAnonymization(config=Config(config_file='config.json'))\n",
    "anon.process()"
   ]
  },
  {
   "attachments": {},
   "cell_type": "markdown",
   "metadata": {},
   "source": [
    "## Exporting\n",
    "Two functions export:\n",
    "- `create_mapping_file()` writes the mapping file of the predictor names\n",
    "- `write_to_output()` writes the processed dataframe to disk\n",
    "\n",
    "Write to output accepts the following extensions: `[\"ndjson\", \"parquet\", \"arrow\", \"csv\"]`"
   ]
  },
  {
   "cell_type": "code",
   "execution_count": 11,
   "metadata": {
    "execution": {
     "iopub.execute_input": "2024-01-03T13:12:12.684071Z",
     "iopub.status.busy": "2024-01-03T13:12:12.683743Z",
     "iopub.status.idle": "2024-01-03T13:12:12.687162Z",
     "shell.execute_reply": "2024-01-03T13:12:12.686644Z"
    }
   },
   "outputs": [
    {
     "name": "stdout",
     "output_type": "stream",
     "text": [
      "Customer_CLV=PREDICTOR_0\n",
      "Customer_City=PREDICTOR_1\n",
      "Customer_MaritalStatus=PREDICTOR_2\n",
      "filename=filename\n",
      "Context_Name=Context_Name\n",
      "IH_Web_Inbound_Accepted_pxLastGroupID=IH_Web_Inbound_Accepted_pxLastGroupID\n",
      "Decision_Outcome=Decision_Outcome\n",
      "\n"
     ]
    }
   ],
   "source": [
    "anon.create_mapping_file()\n",
    "with open('mapping.map') as f:\n",
    "    print(f.read())"
   ]
  },
  {
   "cell_type": "code",
   "execution_count": 12,
   "metadata": {
    "execution": {
     "iopub.execute_input": "2024-01-03T13:12:12.689126Z",
     "iopub.status.busy": "2024-01-03T13:12:12.688963Z",
     "iopub.status.idle": "2024-01-03T13:12:12.692478Z",
     "shell.execute_reply": "2024-01-03T13:12:12.692013Z"
    }
   },
   "outputs": [],
   "source": [
    "anon.write_to_output(ext='arrow')"
   ]
  },
  {
   "cell_type": "code",
   "execution_count": 13,
   "metadata": {
    "execution": {
     "iopub.execute_input": "2024-01-03T13:12:12.694329Z",
     "iopub.status.busy": "2024-01-03T13:12:12.694044Z",
     "iopub.status.idle": "2024-01-03T13:12:12.698461Z",
     "shell.execute_reply": "2024-01-03T13:12:12.697957Z"
    }
   },
   "outputs": [
    {
     "data": {
      "text/html": [
       "<div><style>\n",
       ".dataframe > thead > tr,\n",
       ".dataframe > tbody > tr {\n",
       "  text-align: right;\n",
       "  white-space: pre-wrap;\n",
       "}\n",
       "</style>\n",
       "<small>shape: (7, 6)</small><table border=\"1\" class=\"dataframe\"><thead><tr><th>PREDICTOR_0</th><th>PREDICTOR_1</th><th>PREDICTOR_2</th><th>Context_Name</th><th>IH_Web_Inbound_Accepted_pxLastGroupID</th><th>Decision_Outcome</th></tr><tr><td>f64</td><td>str</td><td>str</td><td>str</td><td>str</td><td>str</td></tr></thead><tbody><tr><td>0.983033</td><td>&quot;41231511715996…</td><td>&quot;56637952753377…</td><td>&quot;FirstMortgage3…</td><td>&quot;10025102307010…</td><td>&quot;Rejected&quot;</td></tr><tr><td>0.144221</td><td>&quot;38795571429605…</td><td>&quot;56303790491041…</td><td>&quot;FirstMortgage3…</td><td>&quot;41015403264709…</td><td>&quot;Accepted&quot;</td></tr><tr><td>0.679745</td><td>&quot;12778572064331…</td><td>&quot;12065110859377…</td><td>&quot;MoneyMarketSav…</td><td>&quot;10025102307010…</td><td>&quot;Rejected&quot;</td></tr><tr><td>1.0</td><td>&quot;74232927240192…</td><td>&quot;56303790491041…</td><td>&quot;BasicChecking&quot;</td><td>&quot;10025102307010…</td><td>&quot;Rejected&quot;</td></tr><tr><td>0.718982</td><td>&quot;34736019899038…</td><td>&quot;56637952753377…</td><td>&quot;BasicChecking&quot;</td><td>&quot;76046502193108…</td><td>&quot;Accepted&quot;</td></tr><tr><td>0.0</td><td>&quot;14230525213142…</td><td>&quot;12065110859377…</td><td>&quot;UPlusFinPerson…</td><td>null</td><td>&quot;Rejected&quot;</td></tr><tr><td>0.02333</td><td>&quot;14325284538948…</td><td>&quot;12065110859377…</td><td>&quot;BasicChecking&quot;</td><td>&quot;76046502193108…</td><td>&quot;Rejected&quot;</td></tr></tbody></table></div>"
      ],
      "text/plain": [
       "shape: (7, 6)\n",
       "┌─────────────┬────────────────┬────────────────┬────────────────┬────────────────┬────────────────┐\n",
       "│ PREDICTOR_0 ┆ PREDICTOR_1    ┆ PREDICTOR_2    ┆ Context_Name   ┆ IH_Web_Inbound ┆ Decision_Outco │\n",
       "│ ---         ┆ ---            ┆ ---            ┆ ---            ┆ _Accepted_pxLa ┆ me             │\n",
       "│ f64         ┆ str            ┆ str            ┆ str            ┆ stGr…          ┆ ---            │\n",
       "│             ┆                ┆                ┆                ┆ ---            ┆ str            │\n",
       "│             ┆                ┆                ┆                ┆ str            ┆                │\n",
       "╞═════════════╪════════════════╪════════════════╪════════════════╪════════════════╪════════════════╡\n",
       "│ 0.983033    ┆ 41231511715996 ┆ 56637952753377 ┆ FirstMortgage3 ┆ 10025102307010 ┆ Rejected       │\n",
       "│             ┆ 49424          ┆ 60950          ┆ 0yr            ┆ 059902         ┆                │\n",
       "│ 0.144221    ┆ 38795571429605 ┆ 56303790491041 ┆ FirstMortgage3 ┆ 41015403264709 ┆ Accepted       │\n",
       "│             ┆ 20529          ┆ 23201          ┆ 0yr            ┆ 32360          ┆                │\n",
       "│ 0.679745    ┆ 12778572064331 ┆ 12065110859377 ┆ MoneyMarketSav ┆ 10025102307010 ┆ Rejected       │\n",
       "│             ┆ 423790         ┆ 19888          ┆ ingsAccount    ┆ 059902         ┆                │\n",
       "│ 1.0         ┆ 74232927240192 ┆ 56303790491041 ┆ BasicChecking  ┆ 10025102307010 ┆ Rejected       │\n",
       "│             ┆ 17758          ┆ 23201          ┆                ┆ 059902         ┆                │\n",
       "│ 0.718982    ┆ 34736019899038 ┆ 56637952753377 ┆ BasicChecking  ┆ 76046502193108 ┆ Accepted       │\n",
       "│             ┆ 82668          ┆ 60950          ┆                ┆ 48008          ┆                │\n",
       "│ 0.0         ┆ 14230525213142 ┆ 12065110859377 ┆ UPlusFinPerson ┆ null           ┆ Rejected       │\n",
       "│             ┆ 641610         ┆ 19888          ┆ al             ┆                ┆                │\n",
       "│ 0.02333     ┆ 14325284538948 ┆ 12065110859377 ┆ BasicChecking  ┆ 76046502193108 ┆ Rejected       │\n",
       "│             ┆ 624672         ┆ 19888          ┆                ┆ 48008          ┆                │\n",
       "└─────────────┴────────────────┴────────────────┴────────────────┴────────────────┴────────────────┘"
      ]
     },
     "execution_count": 13,
     "metadata": {},
     "output_type": "execute_result"
    }
   ],
   "source": [
    "pl.read_ipc('output/hds.arrow')"
   ]
  },
  {
   "attachments": {},
   "cell_type": "markdown",
   "metadata": {
    "nbsphinx": "hidden"
   },
   "source": [
    "## Advanced: Hash fuctions\n",
    "\n",
    "By default, we use [the same hashing algorithm Polars](https://pola-rs.github.io/polars/py-polars/html/reference/expressions/api/polars.Expr.hash.html#polars.Expr.hash) uses: [xxhash](https://github.com/Cyan4973/xxHash), as implemented [here](https://github.com/pola-rs/polars/blob/3f287f370b3c388ed2f3f218b2c096382548136f/polars/polars-core/src/vector_hasher.rs#L266). xxhash is fast to compute, and you can check its performance in collision, dispersion and randomness [here](https://github.com/Cyan4973/xxHash/tree/dev/tests). \n",
    "\n",
    "xxhash accepts four distinct seeds, but by default we set the seeds to `0`. It is possible to set the `seed` argument of the `process()` function to `'random'`, which will set all four seeds to a random integer between `0` and `1000000000`. Alternatively, it is possible to supply the four seeds manually with arguments `seed`, `seed_1`, `seed_2` and `seed_3`. \n",
    "\n",
    "If the xxhash with (random) seed(s) is not deemed sufficiently secure, it is possible to use your own hashing algorithm.\n",
    "\n",
    "Note that since we're now running python code and not native Polars code anymore, this will be _significantly_ slower. Nonetheless, it is possible.\n",
    "\n",
    "Just as an example - this is how one would use sha3_256:"
   ]
  },
  {
   "cell_type": "code",
   "execution_count": 14,
   "metadata": {
    "execution": {
     "iopub.execute_input": "2024-01-03T13:12:12.700345Z",
     "iopub.status.busy": "2024-01-03T13:12:12.700058Z",
     "iopub.status.idle": "2024-01-03T13:12:12.707385Z",
     "shell.execute_reply": "2024-01-03T13:12:12.706867Z"
    },
    "nbsphinx": "hidden"
   },
   "outputs": [
    {
     "data": {
      "text/html": [
       "<div><style>\n",
       ".dataframe > thead > tr,\n",
       ".dataframe > tbody > tr {\n",
       "  text-align: right;\n",
       "  white-space: pre-wrap;\n",
       "}\n",
       "</style>\n",
       "<small>shape: (7, 7)</small><table border=\"1\" class=\"dataframe\"><thead><tr><th>PREDICTOR_0</th><th>PREDICTOR_1</th><th>PREDICTOR_2</th><th>filename</th><th>Context_Name</th><th>IH_Web_Inbound_Accepted_pxLastGroupID</th><th>Decision_Outcome</th></tr><tr><td>f64</td><td>str</td><td>str</td><td>str</td><td>str</td><td>str</td><td>str</td></tr></thead><tbody><tr><td>0.983033</td><td>&quot;c73023dda51de1…</td><td>&quot;af486bc1815c72…</td><td>&quot;../../../../da…</td><td>&quot;FirstMortgage3…</td><td>&quot;2513d0e24d8d02…</td><td>&quot;Rejected&quot;</td></tr><tr><td>0.144221</td><td>&quot;5414b197fb87b3…</td><td>&quot;3cdf7b1ae1342e…</td><td>&quot;../../../../da…</td><td>&quot;FirstMortgage3…</td><td>&quot;8b55bf62fc2ecd…</td><td>&quot;Accepted&quot;</td></tr><tr><td>0.679745</td><td>&quot;892f5d61a9215e…</td><td>&quot;806ef34eb8237f…</td><td>&quot;../../../../da…</td><td>&quot;MoneyMarketSav…</td><td>&quot;2513d0e24d8d02…</td><td>&quot;Rejected&quot;</td></tr><tr><td>1.0</td><td>&quot;c3aa807d9e927a…</td><td>&quot;3cdf7b1ae1342e…</td><td>&quot;../../../../da…</td><td>&quot;BasicChecking&quot;</td><td>&quot;2513d0e24d8d02…</td><td>&quot;Rejected&quot;</td></tr><tr><td>0.718982</td><td>&quot;c2d492f9a05073…</td><td>&quot;af486bc1815c72…</td><td>&quot;../../../../da…</td><td>&quot;BasicChecking&quot;</td><td>&quot;1cd082ecbd5dd9…</td><td>&quot;Accepted&quot;</td></tr><tr><td>0.0</td><td>&quot;b21059221605c4…</td><td>&quot;806ef34eb8237f…</td><td>&quot;../../../../da…</td><td>&quot;UPlusFinPerson…</td><td>null</td><td>&quot;Rejected&quot;</td></tr><tr><td>0.02333</td><td>&quot;80cbe489dcecd4…</td><td>&quot;806ef34eb8237f…</td><td>&quot;../../../../da…</td><td>&quot;BasicChecking&quot;</td><td>&quot;1cd082ecbd5dd9…</td><td>&quot;Rejected&quot;</td></tr></tbody></table></div>"
      ],
      "text/plain": [
       "shape: (7, 7)\n",
       "┌─────────────┬──────────────┬─────────────┬─────────────┬─────────────┬─────────────┬─────────────┐\n",
       "│ PREDICTOR_0 ┆ PREDICTOR_1  ┆ PREDICTOR_2 ┆ filename    ┆ Context_Nam ┆ IH_Web_Inbo ┆ Decision_Ou │\n",
       "│ ---         ┆ ---          ┆ ---         ┆ ---         ┆ e           ┆ und_Accepte ┆ tcome       │\n",
       "│ f64         ┆ str          ┆ str         ┆ str         ┆ ---         ┆ d_pxLastGr… ┆ ---         │\n",
       "│             ┆              ┆             ┆             ┆ str         ┆ ---         ┆ str         │\n",
       "│             ┆              ┆             ┆             ┆             ┆ str         ┆             │\n",
       "╞═════════════╪══════════════╪═════════════╪═════════════╪═════════════╪═════════════╪═════════════╡\n",
       "│ 0.983033    ┆ c73023dda51d ┆ af486bc1815 ┆ ../../../.. ┆ FirstMortga ┆ 2513d0e24d8 ┆ Rejected    │\n",
       "│             ┆ e1b84f7af774 ┆ c726c357890 ┆ /data/Sampl ┆ ge30yr      ┆ d0214eda4fb ┆             │\n",
       "│             ┆ fd6f8c73…    ┆ ac2a40ba98… ┆ eHDS.json   ┆             ┆ 454447162b… ┆             │\n",
       "│ 0.144221    ┆ 5414b197fb87 ┆ 3cdf7b1ae13 ┆ ../../../.. ┆ FirstMortga ┆ 8b55bf62fc2 ┆ Accepted    │\n",
       "│             ┆ b3f2e350d7a7 ┆ 42ef979ea2a ┆ /data/Sampl ┆ ge30yr      ┆ ecd16af97d4 ┆             │\n",
       "│             ┆ 4a840a81…    ┆ 782541ad05… ┆ eHDS.json   ┆             ┆ 8e469362cf… ┆             │\n",
       "│ 0.679745    ┆ 892f5d61a921 ┆ 806ef34eb82 ┆ ../../../.. ┆ MoneyMarket ┆ 2513d0e24d8 ┆ Rejected    │\n",
       "│             ┆ 5ef985f3fa29 ┆ 37f4db85004 ┆ /data/Sampl ┆ SavingsAcco ┆ d0214eda4fb ┆             │\n",
       "│             ┆ 3d51c92e…    ┆ e96dc471d8… ┆ eHDS.json   ┆ unt         ┆ 454447162b… ┆             │\n",
       "│ 1.0         ┆ c3aa807d9e92 ┆ 3cdf7b1ae13 ┆ ../../../.. ┆ BasicChecki ┆ 2513d0e24d8 ┆ Rejected    │\n",
       "│             ┆ 7ae426a89e76 ┆ 42ef979ea2a ┆ /data/Sampl ┆ ng          ┆ d0214eda4fb ┆             │\n",
       "│             ┆ a12b9160…    ┆ 782541ad05… ┆ eHDS.json   ┆             ┆ 454447162b… ┆             │\n",
       "│ 0.718982    ┆ c2d492f9a050 ┆ af486bc1815 ┆ ../../../.. ┆ BasicChecki ┆ 1cd082ecbd5 ┆ Accepted    │\n",
       "│             ┆ 7327c14285e9 ┆ c726c357890 ┆ /data/Sampl ┆ ng          ┆ dd95383b104 ┆             │\n",
       "│             ┆ 4e8ee54c…    ┆ ac2a40ba98… ┆ eHDS.json   ┆             ┆ 65e395c1f7… ┆             │\n",
       "│ 0.0         ┆ b21059221605 ┆ 806ef34eb82 ┆ ../../../.. ┆ UPlusFinPer ┆ null        ┆ Rejected    │\n",
       "│             ┆ c49757cfe0fe ┆ 37f4db85004 ┆ /data/Sampl ┆ sonal       ┆             ┆             │\n",
       "│             ┆ e45640db…    ┆ e96dc471d8… ┆ eHDS.json   ┆             ┆             ┆             │\n",
       "│ 0.02333     ┆ 80cbe489dcec ┆ 806ef34eb82 ┆ ../../../.. ┆ BasicChecki ┆ 1cd082ecbd5 ┆ Rejected    │\n",
       "│             ┆ d4b9304898c9 ┆ 37f4db85004 ┆ /data/Sampl ┆ ng          ┆ dd95383b104 ┆             │\n",
       "│             ┆ 986afeeb…    ┆ e96dc471d8… ┆ eHDS.json   ┆             ┆ 65e395c1f7… ┆             │\n",
       "└─────────────┴──────────────┴─────────────┴─────────────┴─────────────┴─────────────┴─────────────┘"
      ]
     },
     "execution_count": 14,
     "metadata": {},
     "output_type": "execute_result"
    }
   ],
   "source": [
    "from hashlib import sha3_256\n",
    "\n",
    "anon.process(algorithm=lambda x: sha3_256(x.encode()).hexdigest())"
   ]
  }
 ],
 "metadata": {
  "kernelspec": {
   "display_name": "Python 3",
   "language": "python",
   "name": "python3"
  },
  "language_info": {
   "codemirror_mode": {
    "name": "ipython",
    "version": 3
   },
   "file_extension": ".py",
   "mimetype": "text/x-python",
   "name": "python",
   "nbconvert_exporter": "python",
   "pygments_lexer": "ipython3",
   "version": "3.11.7"
  },
  "vscode": {
   "interpreter": {
    "hash": "aee8b7b246df8f9039afb4144a1f6fd8d2ca17a180786b69acc140d282b71a49"
   }
  }
 },
 "nbformat": 4,
 "nbformat_minor": 2
}
