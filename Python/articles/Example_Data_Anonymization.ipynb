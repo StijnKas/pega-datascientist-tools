{
 "cells": [
  {
   "attachments": {},
   "cell_type": "markdown",
   "metadata": {},
   "source": [
    "# Example data anonymization\n",
    "\n",
    "In Pega CDH 8.5 and up, it's now possible to record the historical data as seen by the Adaptive Models. See [this academy challenge](https://academy.pega.com/challenge/exporting-historical-data/v4) for reference. This historical data can be further used to experiment with offline models, but also to fine-tune the OOTB Gradient Boosting model. However, sharing this information with Pega can be sensitive as it contains raw predictor data. \n",
    "\n",
    "To this end, we provide a simple and transparent script to fully anonimize this dataset.\n",
    "\n",
    "The DataAnonymization script is now part of pdstools, and you can import it directly as such."
   ]
  },
  {
   "cell_type": "code",
   "execution_count": 1,
   "metadata": {
    "execution": {
     "iopub.execute_input": "2023-07-28T14:40:21.900411Z",
     "iopub.status.busy": "2023-07-28T14:40:21.900224Z",
     "iopub.status.idle": "2023-07-28T14:40:21.905967Z",
     "shell.execute_reply": "2023-07-28T14:40:21.905460Z"
    },
    "nbsphinx": "hidden"
   },
   "outputs": [],
   "source": [
    "# These lines are only for rendering in the docs, and are hidden through Jupyter tags\n",
    "# Do not run if you're running the notebook seperately\n",
    "\n",
    "import sys\n",
    "sys.path.append('../../../')"
   ]
  },
  {
   "cell_type": "code",
   "execution_count": 2,
   "metadata": {
    "execution": {
     "iopub.execute_input": "2023-07-28T14:40:21.908295Z",
     "iopub.status.busy": "2023-07-28T14:40:21.908013Z",
     "iopub.status.idle": "2023-07-28T14:40:22.998273Z",
     "shell.execute_reply": "2023-07-28T14:40:22.997697Z"
    }
   },
   "outputs": [],
   "source": [
    "from pdstools import ADMDatamart\n",
    "from pdstools import Config, DataAnonymization\n",
    "import polars as pl"
   ]
  },
  {
   "attachments": {},
   "cell_type": "markdown",
   "metadata": {},
   "source": [
    "## Input data\n",
    "\n",
    "To demonstrate this process, we're going to anonymise this toy example dataframe:"
   ]
  },
  {
   "cell_type": "code",
   "execution_count": 3,
   "metadata": {
    "execution": {
     "iopub.execute_input": "2023-07-28T14:40:23.001608Z",
     "iopub.status.busy": "2023-07-28T14:40:23.001180Z",
     "iopub.status.idle": "2023-07-28T14:40:23.013844Z",
     "shell.execute_reply": "2023-07-28T14:40:23.013322Z"
    }
   },
   "outputs": [
    {
     "data": {
      "text/html": [
       "<div><style>\n",
       ".dataframe > thead > tr > th,\n",
       ".dataframe > tbody > tr > td {\n",
       "  text-align: right;\n",
       "}\n",
       "</style>\n",
       "<small>shape: (7, 6)</small><table border=\"1\" class=\"dataframe\"><thead><tr><th>Context_Name</th><th>Customer_MaritalStatus</th><th>Customer_CLV</th><th>Customer_City</th><th>IH_Web_Inbound_Accepted_pxLastGroupID</th><th>Decision_Outcome</th></tr><tr><td>str</td><td>str</td><td>i64</td><td>str</td><td>str</td><td>str</td></tr></thead><tbody><tr><td>&quot;FirstMortgage3…</td><td>&quot;Married&quot;</td><td>1460</td><td>&quot;Port Raoul&quot;</td><td>&quot;Account&quot;</td><td>&quot;Rejected&quot;</td></tr><tr><td>&quot;FirstMortgage3…</td><td>&quot;Unknown&quot;</td><td>669</td><td>&quot;Laurianneshire…</td><td>&quot;AutoLoans&quot;</td><td>&quot;Accepted&quot;</td></tr><tr><td>&quot;MoneyMarketSav…</td><td>&quot;No Resp+&quot;</td><td>1174</td><td>&quot;Jacobshaven&quot;</td><td>&quot;Account&quot;</td><td>&quot;Rejected&quot;</td></tr><tr><td>&quot;BasicChecking&quot;</td><td>&quot;Unknown&quot;</td><td>1476</td><td>&quot;Lindton&quot;</td><td>&quot;Account&quot;</td><td>&quot;Rejected&quot;</td></tr><tr><td>&quot;BasicChecking&quot;</td><td>&quot;Married&quot;</td><td>1211</td><td>&quot;South Jimmiesh…</td><td>&quot;DepositAccount…</td><td>&quot;Accepted&quot;</td></tr><tr><td>&quot;UPlusFinPerson…</td><td>&quot;No Resp+&quot;</td><td>533</td><td>&quot;Bergeville&quot;</td><td>null</td><td>&quot;Rejected&quot;</td></tr><tr><td>&quot;BasicChecking&quot;</td><td>&quot;No Resp+&quot;</td><td>555</td><td>&quot;Willyville&quot;</td><td>&quot;DepositAccount…</td><td>&quot;Rejected&quot;</td></tr></tbody></table></div>"
      ],
      "text/plain": [
       "shape: (7, 6)\n",
       "┌────────────────┬────────────────┬──────────────┬────────────────┬────────────────┬───────────────┐\n",
       "│ Context_Name   ┆ Customer_Marit ┆ Customer_CLV ┆ Customer_City  ┆ IH_Web_Inbound ┆ Decision_Outc │\n",
       "│ ---            ┆ alStatus       ┆ ---          ┆ ---            ┆ _Accepted_pxLa ┆ ome           │\n",
       "│ str            ┆ ---            ┆ i64          ┆ str            ┆ stGr…          ┆ ---           │\n",
       "│                ┆ str            ┆              ┆                ┆ ---            ┆ str           │\n",
       "│                ┆                ┆              ┆                ┆ str            ┆               │\n",
       "╞════════════════╪════════════════╪══════════════╪════════════════╪════════════════╪═══════════════╡\n",
       "│ FirstMortgage3 ┆ Married        ┆ 1460         ┆ Port Raoul     ┆ Account        ┆ Rejected      │\n",
       "│ 0yr            ┆                ┆              ┆                ┆                ┆               │\n",
       "│ FirstMortgage3 ┆ Unknown        ┆ 669          ┆ Laurianneshire ┆ AutoLoans      ┆ Accepted      │\n",
       "│ 0yr            ┆                ┆              ┆                ┆                ┆               │\n",
       "│ MoneyMarketSav ┆ No Resp+       ┆ 1174         ┆ Jacobshaven    ┆ Account        ┆ Rejected      │\n",
       "│ ingsAccount    ┆                ┆              ┆                ┆                ┆               │\n",
       "│ BasicChecking  ┆ Unknown        ┆ 1476         ┆ Lindton        ┆ Account        ┆ Rejected      │\n",
       "│ BasicChecking  ┆ Married        ┆ 1211         ┆ South          ┆ DepositAccount ┆ Accepted      │\n",
       "│                ┆                ┆              ┆ Jimmieshire    ┆ s              ┆               │\n",
       "│ UPlusFinPerson ┆ No Resp+       ┆ 533          ┆ Bergeville     ┆ null           ┆ Rejected      │\n",
       "│ al             ┆                ┆              ┆                ┆                ┆               │\n",
       "│ BasicChecking  ┆ No Resp+       ┆ 555          ┆ Willyville     ┆ DepositAccount ┆ Rejected      │\n",
       "│                ┆                ┆              ┆                ┆ s              ┆               │\n",
       "└────────────────┴────────────────┴──────────────┴────────────────┴────────────────┴───────────────┘"
      ]
     },
     "execution_count": 3,
     "metadata": {},
     "output_type": "execute_result"
    }
   ],
   "source": [
    "pl.read_ndjson('../../../../data/SampleHDS.json')"
   ]
  },
  {
   "attachments": {},
   "cell_type": "markdown",
   "metadata": {},
   "source": [
    "As you can see, this dataset consists of regular predictors, IH predictors, context keys and the outcome column. Additionally, some columns are numeric, others are strings. Let's first initialize the DataAnonymization class."
   ]
  },
  {
   "cell_type": "code",
   "execution_count": 4,
   "metadata": {
    "execution": {
     "iopub.execute_input": "2023-07-28T14:40:23.017408Z",
     "iopub.status.busy": "2023-07-28T14:40:23.016340Z",
     "iopub.status.idle": "2023-07-28T14:40:23.025559Z",
     "shell.execute_reply": "2023-07-28T14:40:23.025088Z"
    }
   },
   "outputs": [],
   "source": [
    "anon = DataAnonymization(hds_folder='../../../../data/')"
   ]
  },
  {
   "attachments": {},
   "cell_type": "markdown",
   "metadata": {},
   "source": [
    "By default, the class applies a set of anonymisation techniques:\n",
    "- Column names are remapped to a non-descriptive name\n",
    "- Categorical values are hashed with a random seed\n",
    "- Numerical values are normalized between 0 and 1\n",
    "- Outcomes are mapped to a binary outcome.\n",
    "\n",
    "To apply these techniques, simply call `.process()`:"
   ]
  },
  {
   "cell_type": "code",
   "execution_count": 5,
   "metadata": {
    "execution": {
     "iopub.execute_input": "2023-07-28T14:40:23.029141Z",
     "iopub.status.busy": "2023-07-28T14:40:23.028062Z",
     "iopub.status.idle": "2023-07-28T14:40:23.036351Z",
     "shell.execute_reply": "2023-07-28T14:40:23.035892Z"
    }
   },
   "outputs": [
    {
     "data": {
      "text/html": [
       "<div><style>\n",
       ".dataframe > thead > tr > th,\n",
       ".dataframe > tbody > tr > td {\n",
       "  text-align: right;\n",
       "}\n",
       "</style>\n",
       "<small>shape: (7, 7)</small><table border=\"1\" class=\"dataframe\"><thead><tr><th>PREDICTOR_0</th><th>filename</th><th>PREDICTOR_2</th><th>PREDICTOR_3</th><th>Context_Name</th><th>IH_PREDICTOR_0</th><th>Decision_Outcome</th></tr><tr><td>str</td><td>str</td><td>f64</td><td>str</td><td>str</td><td>str</td><td>bool</td></tr></thead><tbody><tr><td>&quot;10255992066257…</td><td>&quot;../../../../da…</td><td>1.2927e19</td><td>&quot;18149396829508…</td><td>&quot;25447748485530…</td><td>&quot;13368933447654…</td><td>false</td></tr><tr><td>&quot;17822827430666…</td><td>&quot;../../../../da…</td><td>1.4856e19</td><td>&quot;15034330399795…</td><td>&quot;25447748485530…</td><td>&quot;14695890309907…</td><td>true</td></tr><tr><td>&quot;80118482402500…</td><td>&quot;../../../../da…</td><td>5.6458e17</td><td>&quot;29262085340787…</td><td>&quot;10964673545922…</td><td>&quot;13368933447654…</td><td>false</td></tr><tr><td>&quot;12036490311964…</td><td>&quot;../../../../da…</td><td>4.0723e18</td><td>&quot;15034330399795…</td><td>&quot;13071617517410…</td><td>&quot;13368933447654…</td><td>false</td></tr><tr><td>&quot;99543144202564…</td><td>&quot;../../../../da…</td><td>1.4677e19</td><td>&quot;18149396829508…</td><td>&quot;13071617517410…</td><td>&quot;31037589330001…</td><td>true</td></tr><tr><td>&quot;23994000556072…</td><td>&quot;../../../../da…</td><td>1.6330e19</td><td>&quot;29262085340787…</td><td>&quot;18508972557156…</td><td>null</td><td>false</td></tr><tr><td>&quot;84605566293245…</td><td>&quot;../../../../da…</td><td>8.7675e18</td><td>&quot;29262085340787…</td><td>&quot;13071617517410…</td><td>&quot;31037589330001…</td><td>false</td></tr></tbody></table></div>"
      ],
      "text/plain": [
       "shape: (7, 7)\n",
       "┌──────────────┬─────────────┬─────────────┬─────────────┬─────────────┬─────────────┬─────────────┐\n",
       "│ PREDICTOR_0  ┆ filename    ┆ PREDICTOR_2 ┆ PREDICTOR_3 ┆ Context_Nam ┆ IH_PREDICTO ┆ Decision_Ou │\n",
       "│ ---          ┆ ---         ┆ ---         ┆ ---         ┆ e           ┆ R_0         ┆ tcome       │\n",
       "│ str          ┆ str         ┆ f64         ┆ str         ┆ ---         ┆ ---         ┆ ---         │\n",
       "│              ┆             ┆             ┆             ┆ str         ┆ str         ┆ bool        │\n",
       "╞══════════════╪═════════════╪═════════════╪═════════════╪═════════════╪═════════════╪═════════════╡\n",
       "│ 102559920662 ┆ ../../../.. ┆ 1.2927e19   ┆ 18149396829 ┆ 25447748485 ┆ 13368933447 ┆ false       │\n",
       "│ 57119711     ┆ /data/Sampl ┆             ┆ 508837359   ┆ 53019344    ┆ 654738676   ┆             │\n",
       "│              ┆ eHDS.json   ┆             ┆             ┆             ┆             ┆             │\n",
       "│ 178228274306 ┆ ../../../.. ┆ 1.4856e19   ┆ 15034330399 ┆ 25447748485 ┆ 14695890309 ┆ true        │\n",
       "│ 66454926     ┆ /data/Sampl ┆             ┆ 795166747   ┆ 53019344    ┆ 907454282   ┆             │\n",
       "│              ┆ eHDS.json   ┆             ┆             ┆             ┆             ┆             │\n",
       "│ 801184824025 ┆ ../../../.. ┆ 5.6458e17   ┆ 29262085340 ┆ 10964673545 ┆ 13368933447 ┆ false       │\n",
       "│ 0069852      ┆ /data/Sampl ┆             ┆ 78771347    ┆ 922226958   ┆ 654738676   ┆             │\n",
       "│              ┆ eHDS.json   ┆             ┆             ┆             ┆             ┆             │\n",
       "│ 120364903119 ┆ ../../../.. ┆ 4.0723e18   ┆ 15034330399 ┆ 13071617517 ┆ 13368933447 ┆ false       │\n",
       "│ 6483011      ┆ /data/Sampl ┆             ┆ 795166747   ┆ 41059499    ┆ 654738676   ┆             │\n",
       "│              ┆ eHDS.json   ┆             ┆             ┆             ┆             ┆             │\n",
       "│ 995431442025 ┆ ../../../.. ┆ 1.4677e19   ┆ 18149396829 ┆ 13071617517 ┆ 31037589330 ┆ true        │\n",
       "│ 6466695      ┆ /data/Sampl ┆             ┆ 508837359   ┆ 41059499    ┆ 0015895     ┆             │\n",
       "│              ┆ eHDS.json   ┆             ┆             ┆             ┆             ┆             │\n",
       "│ 239940005560 ┆ ../../../.. ┆ 1.6330e19   ┆ 29262085340 ┆ 18508972557 ┆ null        ┆ false       │\n",
       "│ 7266732      ┆ /data/Sampl ┆             ┆ 78771347    ┆ 15697839    ┆             ┆             │\n",
       "│              ┆ eHDS.json   ┆             ┆             ┆             ┆             ┆             │\n",
       "│ 846055662932 ┆ ../../../.. ┆ 8.7675e18   ┆ 29262085340 ┆ 13071617517 ┆ 31037589330 ┆ false       │\n",
       "│ 4580881      ┆ /data/Sampl ┆             ┆ 78771347    ┆ 41059499    ┆ 0015895     ┆             │\n",
       "│              ┆ eHDS.json   ┆             ┆             ┆             ┆             ┆             │\n",
       "└──────────────┴─────────────┴─────────────┴─────────────┴─────────────┴─────────────┴─────────────┘"
      ]
     },
     "execution_count": 5,
     "metadata": {},
     "output_type": "execute_result"
    }
   ],
   "source": [
    "anon.process()"
   ]
  },
  {
   "attachments": {},
   "cell_type": "markdown",
   "metadata": {},
   "source": [
    "To trace back the columns to their original names, the class also contains a mapping, which does not have to be provided."
   ]
  },
  {
   "cell_type": "code",
   "execution_count": 6,
   "metadata": {
    "execution": {
     "iopub.execute_input": "2023-07-28T14:40:23.038892Z",
     "iopub.status.busy": "2023-07-28T14:40:23.038686Z",
     "iopub.status.idle": "2023-07-28T14:40:23.044222Z",
     "shell.execute_reply": "2023-07-28T14:40:23.043696Z"
    }
   },
   "outputs": [
    {
     "data": {
      "text/plain": [
       "{'Customer_City': 'PREDICTOR_0',\n",
       " 'filename': 'filename',\n",
       " 'Customer_CLV': 'PREDICTOR_2',\n",
       " 'Customer_MaritalStatus': 'PREDICTOR_3',\n",
       " 'Context_Name': 'Context_Name',\n",
       " 'IH_Web_Inbound_Accepted_pxLastGroupID': 'IH_PREDICTOR_0',\n",
       " 'Decision_Outcome': 'Decision_Outcome'}"
      ]
     },
     "execution_count": 6,
     "metadata": {},
     "output_type": "execute_result"
    }
   ],
   "source": [
    "anon.column_mapping"
   ]
  },
  {
   "attachments": {},
   "cell_type": "markdown",
   "metadata": {},
   "source": [
    "## Configs\n",
    "\n",
    "Each capability can optionally be turned off - see below for the full list of config options, and refer to the API reference for the full description."
   ]
  },
  {
   "cell_type": "code",
   "execution_count": 7,
   "metadata": {
    "execution": {
     "iopub.execute_input": "2023-07-28T14:40:23.046608Z",
     "iopub.status.busy": "2023-07-28T14:40:23.046169Z",
     "iopub.status.idle": "2023-07-28T14:40:23.050629Z",
     "shell.execute_reply": "2023-07-28T14:40:23.050087Z"
    }
   },
   "outputs": [
    {
     "data": {
      "text/plain": [
       "{'config_file': None,\n",
       " 'hds_folder': '.',\n",
       " 'use_datamart': False,\n",
       " 'datamart_folder': 'datamart',\n",
       " 'output_format': 'ndjson',\n",
       " 'output_folder': 'output',\n",
       " 'mapping_file': 'mapping.map',\n",
       " 'mask_predictor_names': True,\n",
       " 'mask_context_key_names': False,\n",
       " 'mask_ih_names': True,\n",
       " 'mask_outcome_name': False,\n",
       " 'mask_predictor_values': True,\n",
       " 'mask_context_key_values': True,\n",
       " 'mask_ih_values': True,\n",
       " 'mask_outcome_values': True,\n",
       " 'context_key_label': 'Context_*',\n",
       " 'ih_label': 'IH_*',\n",
       " 'outcome_column': 'Decision_Outcome',\n",
       " 'positive_outcomes': ['Accepted', 'Clicked'],\n",
       " 'negative_outcomes': ['Rejected', 'Impression'],\n",
       " 'special_predictors': ['Decision_DecisionTime',\n",
       "  'Decision_OutcomeTime',\n",
       "  'Decision_Rank'],\n",
       " 'sample_percentage_schema_inferencing': 0.01}"
      ]
     },
     "execution_count": 7,
     "metadata": {},
     "output_type": "execute_result"
    }
   ],
   "source": [
    "dict(zip(Config.__init__.__code__.co_varnames[1:], Config.__init__.__defaults__))"
   ]
  },
  {
   "attachments": {},
   "cell_type": "markdown",
   "metadata": {},
   "source": [
    "It's easy to change these parameters by just passing the keyword arguments. In the following example, we\n",
    "- Keep the IH predictor names\n",
    "- Keep the outcome values\n",
    "- Keep the context key values\n",
    "- Keep the context key predictor names"
   ]
  },
  {
   "cell_type": "code",
   "execution_count": 8,
   "metadata": {
    "execution": {
     "iopub.execute_input": "2023-07-28T14:40:23.053288Z",
     "iopub.status.busy": "2023-07-28T14:40:23.052993Z",
     "iopub.status.idle": "2023-07-28T14:40:23.063784Z",
     "shell.execute_reply": "2023-07-28T14:40:23.063226Z"
    }
   },
   "outputs": [
    {
     "data": {
      "text/html": [
       "<div><style>\n",
       ".dataframe > thead > tr > th,\n",
       ".dataframe > tbody > tr > td {\n",
       "  text-align: right;\n",
       "}\n",
       "</style>\n",
       "<small>shape: (7, 7)</small><table border=\"1\" class=\"dataframe\"><thead><tr><th>PREDICTOR_0</th><th>filename</th><th>PREDICTOR_2</th><th>PREDICTOR_3</th><th>Context_Name</th><th>IH_Web_Inbound_Accepted_pxLastGroupID</th><th>Decision_Outcome</th></tr><tr><td>str</td><td>str</td><td>f64</td><td>str</td><td>str</td><td>str</td><td>str</td></tr></thead><tbody><tr><td>&quot;51420165152722…</td><td>&quot;../../../../da…</td><td>1.2927e19</td><td>&quot;10259920001521…</td><td>&quot;FirstMortgage3…</td><td>&quot;70667114780112…</td><td>&quot;Rejected&quot;</td></tr><tr><td>&quot;29177906800717…</td><td>&quot;../../../../da…</td><td>1.4856e19</td><td>&quot;46934326755251…</td><td>&quot;FirstMortgage3…</td><td>&quot;48385522572800…</td><td>&quot;Accepted&quot;</td></tr><tr><td>&quot;37662601491278…</td><td>&quot;../../../../da…</td><td>5.6458e17</td><td>&quot;56912431745851…</td><td>&quot;MoneyMarketSav…</td><td>&quot;70667114780112…</td><td>&quot;Rejected&quot;</td></tr><tr><td>&quot;13541701355232…</td><td>&quot;../../../../da…</td><td>4.0723e18</td><td>&quot;46934326755251…</td><td>&quot;BasicChecking&quot;</td><td>&quot;70667114780112…</td><td>&quot;Rejected&quot;</td></tr><tr><td>&quot;53963741711483…</td><td>&quot;../../../../da…</td><td>1.4677e19</td><td>&quot;10259920001521…</td><td>&quot;BasicChecking&quot;</td><td>&quot;16918667492333…</td><td>&quot;Accepted&quot;</td></tr><tr><td>&quot;11787532357693…</td><td>&quot;../../../../da…</td><td>1.6330e19</td><td>&quot;56912431745851…</td><td>&quot;UPlusFinPerson…</td><td>null</td><td>&quot;Rejected&quot;</td></tr><tr><td>&quot;10344301213964…</td><td>&quot;../../../../da…</td><td>8.7675e18</td><td>&quot;56912431745851…</td><td>&quot;BasicChecking&quot;</td><td>&quot;16918667492333…</td><td>&quot;Rejected&quot;</td></tr></tbody></table></div>"
      ],
      "text/plain": [
       "shape: (7, 7)\n",
       "┌──────────────┬─────────────┬─────────────┬─────────────┬─────────────┬─────────────┬─────────────┐\n",
       "│ PREDICTOR_0  ┆ filename    ┆ PREDICTOR_2 ┆ PREDICTOR_3 ┆ Context_Nam ┆ IH_Web_Inbo ┆ Decision_Ou │\n",
       "│ ---          ┆ ---         ┆ ---         ┆ ---         ┆ e           ┆ und_Accepte ┆ tcome       │\n",
       "│ str          ┆ str         ┆ f64         ┆ str         ┆ ---         ┆ d_pxLastGr… ┆ ---         │\n",
       "│              ┆             ┆             ┆             ┆ str         ┆ ---         ┆ str         │\n",
       "│              ┆             ┆             ┆             ┆             ┆ str         ┆             │\n",
       "╞══════════════╪═════════════╪═════════════╪═════════════╪═════════════╪═════════════╪═════════════╡\n",
       "│ 514201651527 ┆ ../../../.. ┆ 1.2927e19   ┆ 10259920001 ┆ FirstMortga ┆ 70667114780 ┆ Rejected    │\n",
       "│ 2290626      ┆ /data/Sampl ┆             ┆ 521512281   ┆ ge30yr      ┆ 11205712    ┆             │\n",
       "│              ┆ eHDS.json   ┆             ┆             ┆             ┆             ┆             │\n",
       "│ 291779068007 ┆ ../../../.. ┆ 1.4856e19   ┆ 46934326755 ┆ FirstMortga ┆ 48385522572 ┆ Accepted    │\n",
       "│ 1788297      ┆ /data/Sampl ┆             ┆ 25169722    ┆ ge30yr      ┆ 8007534     ┆             │\n",
       "│              ┆ eHDS.json   ┆             ┆             ┆             ┆             ┆             │\n",
       "│ 376626014912 ┆ ../../../.. ┆ 5.6458e17   ┆ 56912431745 ┆ MoneyMarket ┆ 70667114780 ┆ Rejected    │\n",
       "│ 7846620      ┆ /data/Sampl ┆             ┆ 85130585    ┆ SavingsAcco ┆ 11205712    ┆             │\n",
       "│              ┆ eHDS.json   ┆             ┆             ┆ unt         ┆             ┆             │\n",
       "│ 135417013552 ┆ ../../../.. ┆ 4.0723e18   ┆ 46934326755 ┆ BasicChecki ┆ 70667114780 ┆ Rejected    │\n",
       "│ 32177283     ┆ /data/Sampl ┆             ┆ 25169722    ┆ ng          ┆ 11205712    ┆             │\n",
       "│              ┆ eHDS.json   ┆             ┆             ┆             ┆             ┆             │\n",
       "│ 539637417114 ┆ ../../../.. ┆ 1.4677e19   ┆ 10259920001 ┆ BasicChecki ┆ 16918667492 ┆ Accepted    │\n",
       "│ 8329673      ┆ /data/Sampl ┆             ┆ 521512281   ┆ ng          ┆ 333296068   ┆             │\n",
       "│              ┆ eHDS.json   ┆             ┆             ┆             ┆             ┆             │\n",
       "│ 117875323576 ┆ ../../../.. ┆ 1.6330e19   ┆ 56912431745 ┆ UPlusFinPer ┆ null        ┆ Rejected    │\n",
       "│ 93963126     ┆ /data/Sampl ┆             ┆ 85130585    ┆ sonal       ┆             ┆             │\n",
       "│              ┆ eHDS.json   ┆             ┆             ┆             ┆             ┆             │\n",
       "│ 103443012139 ┆ ../../../.. ┆ 8.7675e18   ┆ 56912431745 ┆ BasicChecki ┆ 16918667492 ┆ Rejected    │\n",
       "│ 64165706     ┆ /data/Sampl ┆             ┆ 85130585    ┆ ng          ┆ 333296068   ┆             │\n",
       "│              ┆ eHDS.json   ┆             ┆             ┆             ┆             ┆             │\n",
       "└──────────────┴─────────────┴─────────────┴─────────────┴─────────────┴─────────────┴─────────────┘"
      ]
     },
     "execution_count": 8,
     "metadata": {},
     "output_type": "execute_result"
    }
   ],
   "source": [
    "anon = DataAnonymization(\n",
    "    hds_folder='../../../../data/',\n",
    "    mask_ih_names=False,\n",
    "    mask_outcome_values=False,\n",
    "    mask_context_key_values=False,\n",
    "    mask_context_key_names=False,\n",
    ")\n",
    "anon.process()\n"
   ]
  },
  {
   "attachments": {},
   "cell_type": "markdown",
   "metadata": {},
   "source": [
    "The configs can also be written and read as such:"
   ]
  },
  {
   "cell_type": "code",
   "execution_count": 9,
   "metadata": {
    "execution": {
     "iopub.execute_input": "2023-07-28T14:40:23.066372Z",
     "iopub.status.busy": "2023-07-28T14:40:23.065922Z",
     "iopub.status.idle": "2023-07-28T14:40:23.069028Z",
     "shell.execute_reply": "2023-07-28T14:40:23.068505Z"
    }
   },
   "outputs": [],
   "source": [
    "anon.config.save_to_config_file('config.json')"
   ]
  },
  {
   "cell_type": "code",
   "execution_count": 10,
   "metadata": {
    "execution": {
     "iopub.execute_input": "2023-07-28T14:40:23.071375Z",
     "iopub.status.busy": "2023-07-28T14:40:23.070922Z",
     "iopub.status.idle": "2023-07-28T14:40:23.081049Z",
     "shell.execute_reply": "2023-07-28T14:40:23.080506Z"
    }
   },
   "outputs": [
    {
     "data": {
      "text/html": [
       "<div><style>\n",
       ".dataframe > thead > tr > th,\n",
       ".dataframe > tbody > tr > td {\n",
       "  text-align: right;\n",
       "}\n",
       "</style>\n",
       "<small>shape: (7, 7)</small><table border=\"1\" class=\"dataframe\"><thead><tr><th>PREDICTOR_0</th><th>filename</th><th>PREDICTOR_2</th><th>PREDICTOR_3</th><th>Context_Name</th><th>IH_Web_Inbound_Accepted_pxLastGroupID</th><th>Decision_Outcome</th></tr><tr><td>str</td><td>str</td><td>f64</td><td>str</td><td>str</td><td>str</td><td>str</td></tr></thead><tbody><tr><td>&quot;13081059718895…</td><td>&quot;../../../../da…</td><td>1.2927e19</td><td>&quot;44315442865458…</td><td>&quot;FirstMortgage3…</td><td>&quot;15025601430452…</td><td>&quot;Rejected&quot;</td></tr><tr><td>&quot;56695872566065…</td><td>&quot;../../../../da…</td><td>1.4856e19</td><td>&quot;14566897779027…</td><td>&quot;FirstMortgage3…</td><td>&quot;13099663902044…</td><td>&quot;Accepted&quot;</td></tr><tr><td>&quot;12163178936318…</td><td>&quot;../../../../da…</td><td>5.6458e17</td><td>&quot;15708259153591…</td><td>&quot;MoneyMarketSav…</td><td>&quot;15025601430452…</td><td>&quot;Rejected&quot;</td></tr><tr><td>&quot;78664263131470…</td><td>&quot;../../../../da…</td><td>4.0723e18</td><td>&quot;14566897779027…</td><td>&quot;BasicChecking&quot;</td><td>&quot;15025601430452…</td><td>&quot;Rejected&quot;</td></tr><tr><td>&quot;12429973171477…</td><td>&quot;../../../../da…</td><td>1.4677e19</td><td>&quot;44315442865458…</td><td>&quot;BasicChecking&quot;</td><td>&quot;18280718543777…</td><td>&quot;Accepted&quot;</td></tr><tr><td>&quot;58504372396916…</td><td>&quot;../../../../da…</td><td>1.6330e19</td><td>&quot;15708259153591…</td><td>&quot;UPlusFinPerson…</td><td>null</td><td>&quot;Rejected&quot;</td></tr><tr><td>&quot;30799645267338…</td><td>&quot;../../../../da…</td><td>8.7675e18</td><td>&quot;15708259153591…</td><td>&quot;BasicChecking&quot;</td><td>&quot;18280718543777…</td><td>&quot;Rejected&quot;</td></tr></tbody></table></div>"
      ],
      "text/plain": [
       "shape: (7, 7)\n",
       "┌──────────────┬─────────────┬─────────────┬─────────────┬─────────────┬─────────────┬─────────────┐\n",
       "│ PREDICTOR_0  ┆ filename    ┆ PREDICTOR_2 ┆ PREDICTOR_3 ┆ Context_Nam ┆ IH_Web_Inbo ┆ Decision_Ou │\n",
       "│ ---          ┆ ---         ┆ ---         ┆ ---         ┆ e           ┆ und_Accepte ┆ tcome       │\n",
       "│ str          ┆ str         ┆ f64         ┆ str         ┆ ---         ┆ d_pxLastGr… ┆ ---         │\n",
       "│              ┆             ┆             ┆             ┆ str         ┆ ---         ┆ str         │\n",
       "│              ┆             ┆             ┆             ┆             ┆ str         ┆             │\n",
       "╞══════════════╪═════════════╪═════════════╪═════════════╪═════════════╪═════════════╪═════════════╡\n",
       "│ 130810597188 ┆ ../../../.. ┆ 1.2927e19   ┆ 44315442865 ┆ FirstMortga ┆ 15025601430 ┆ Rejected    │\n",
       "│ 95750871     ┆ /data/Sampl ┆             ┆ 45807272    ┆ ge30yr      ┆ 452833646   ┆             │\n",
       "│              ┆ eHDS.json   ┆             ┆             ┆             ┆             ┆             │\n",
       "│ 566958725660 ┆ ../../../.. ┆ 1.4856e19   ┆ 14566897779 ┆ FirstMortga ┆ 13099663902 ┆ Accepted    │\n",
       "│ 6556099      ┆ /data/Sampl ┆             ┆ 027874443   ┆ ge30yr      ┆ 044659790   ┆             │\n",
       "│              ┆ eHDS.json   ┆             ┆             ┆             ┆             ┆             │\n",
       "│ 121631789363 ┆ ../../../.. ┆ 5.6458e17   ┆ 15708259153 ┆ MoneyMarket ┆ 15025601430 ┆ Rejected    │\n",
       "│ 18586233     ┆ /data/Sampl ┆             ┆ 59135410    ┆ SavingsAcco ┆ 452833646   ┆             │\n",
       "│              ┆ eHDS.json   ┆             ┆             ┆ unt         ┆             ┆             │\n",
       "│ 786642631314 ┆ ../../../.. ┆ 4.0723e18   ┆ 14566897779 ┆ BasicChecki ┆ 15025601430 ┆ Rejected    │\n",
       "│ 7091024      ┆ /data/Sampl ┆             ┆ 027874443   ┆ ng          ┆ 452833646   ┆             │\n",
       "│              ┆ eHDS.json   ┆             ┆             ┆             ┆             ┆             │\n",
       "│ 124299731714 ┆ ../../../.. ┆ 1.4677e19   ┆ 44315442865 ┆ BasicChecki ┆ 18280718543 ┆ Accepted    │\n",
       "│ 77615026     ┆ /data/Sampl ┆             ┆ 45807272    ┆ ng          ┆ 777117661   ┆             │\n",
       "│              ┆ eHDS.json   ┆             ┆             ┆             ┆             ┆             │\n",
       "│ 585043723969 ┆ ../../../.. ┆ 1.6330e19   ┆ 15708259153 ┆ UPlusFinPer ┆ null        ┆ Rejected    │\n",
       "│ 1606533      ┆ /data/Sampl ┆             ┆ 59135410    ┆ sonal       ┆             ┆             │\n",
       "│              ┆ eHDS.json   ┆             ┆             ┆             ┆             ┆             │\n",
       "│ 307996452673 ┆ ../../../.. ┆ 8.7675e18   ┆ 15708259153 ┆ BasicChecki ┆ 18280718543 ┆ Rejected    │\n",
       "│ 3803718      ┆ /data/Sampl ┆             ┆ 59135410    ┆ ng          ┆ 777117661   ┆             │\n",
       "│              ┆ eHDS.json   ┆             ┆             ┆             ┆             ┆             │\n",
       "└──────────────┴─────────────┴─────────────┴─────────────┴─────────────┴─────────────┴─────────────┘"
      ]
     },
     "execution_count": 10,
     "metadata": {},
     "output_type": "execute_result"
    }
   ],
   "source": [
    "anon = DataAnonymization(config=Config(config_file='config.json'))\n",
    "anon.process()"
   ]
  },
  {
   "attachments": {},
   "cell_type": "markdown",
   "metadata": {},
   "source": [
    "## Exporting\n",
    "Two functions export:\n",
    "- `create_mapping_file()` writes the mapping file of the predictor names\n",
    "- `write_to_output()` writes the processed dataframe to disk\n",
    "\n",
    "Write to output accepts the following extensions: `[\"ndjson\", \"parquet\", \"arrow\", \"csv\"]`"
   ]
  },
  {
   "cell_type": "code",
   "execution_count": 11,
   "metadata": {
    "execution": {
     "iopub.execute_input": "2023-07-28T14:40:23.083286Z",
     "iopub.status.busy": "2023-07-28T14:40:23.082978Z",
     "iopub.status.idle": "2023-07-28T14:40:23.086699Z",
     "shell.execute_reply": "2023-07-28T14:40:23.086145Z"
    }
   },
   "outputs": [
    {
     "name": "stdout",
     "output_type": "stream",
     "text": [
      "Customer_City=PREDICTOR_0\n",
      "filename=filename\n",
      "Customer_CLV=PREDICTOR_2\n",
      "Customer_MaritalStatus=PREDICTOR_3\n",
      "Context_Name=Context_Name\n",
      "IH_Web_Inbound_Accepted_pxLastGroupID=IH_Web_Inbound_Accepted_pxLastGroupID\n",
      "Decision_Outcome=Decision_Outcome\n",
      "\n"
     ]
    }
   ],
   "source": [
    "anon.create_mapping_file()\n",
    "with open('mapping.map') as f:\n",
    "    print(f.read())"
   ]
  },
  {
   "cell_type": "code",
   "execution_count": 12,
   "metadata": {
    "execution": {
     "iopub.execute_input": "2023-07-28T14:40:23.089306Z",
     "iopub.status.busy": "2023-07-28T14:40:23.088861Z",
     "iopub.status.idle": "2023-07-28T14:40:23.092853Z",
     "shell.execute_reply": "2023-07-28T14:40:23.092324Z"
    }
   },
   "outputs": [],
   "source": [
    "anon.write_to_output(ext='arrow')"
   ]
  },
  {
   "cell_type": "code",
   "execution_count": 13,
   "metadata": {
    "execution": {
     "iopub.execute_input": "2023-07-28T14:40:23.094964Z",
     "iopub.status.busy": "2023-07-28T14:40:23.094676Z",
     "iopub.status.idle": "2023-07-28T14:40:23.099679Z",
     "shell.execute_reply": "2023-07-28T14:40:23.099153Z"
    }
   },
   "outputs": [
    {
     "data": {
      "text/html": [
       "<div><style>\n",
       ".dataframe > thead > tr > th,\n",
       ".dataframe > tbody > tr > td {\n",
       "  text-align: right;\n",
       "}\n",
       "</style>\n",
       "<small>shape: (7, 6)</small><table border=\"1\" class=\"dataframe\"><thead><tr><th>PREDICTOR_0</th><th>PREDICTOR_2</th><th>PREDICTOR_3</th><th>Context_Name</th><th>IH_Web_Inbound_Accepted_pxLastGroupID</th><th>Decision_Outcome</th></tr><tr><td>str</td><td>f64</td><td>str</td><td>str</td><td>str</td><td>str</td></tr></thead><tbody><tr><td>&quot;84660857878838…</td><td>1.2927e19</td><td>&quot;58721779634590…</td><td>&quot;FirstMortgage3…</td><td>&quot;68952327352675…</td><td>&quot;Rejected&quot;</td></tr><tr><td>&quot;75533217204818…</td><td>1.4856e19</td><td>&quot;30286131906966…</td><td>&quot;FirstMortgage3…</td><td>&quot;13263267342955…</td><td>&quot;Accepted&quot;</td></tr><tr><td>&quot;78261840093345…</td><td>5.6458e17</td><td>&quot;10723420329908…</td><td>&quot;MoneyMarketSav…</td><td>&quot;68952327352675…</td><td>&quot;Rejected&quot;</td></tr><tr><td>&quot;14336751604000…</td><td>4.0723e18</td><td>&quot;30286131906966…</td><td>&quot;BasicChecking&quot;</td><td>&quot;68952327352675…</td><td>&quot;Rejected&quot;</td></tr><tr><td>&quot;12639261463604…</td><td>1.4677e19</td><td>&quot;58721779634590…</td><td>&quot;BasicChecking&quot;</td><td>&quot;23823519081721…</td><td>&quot;Accepted&quot;</td></tr><tr><td>&quot;87496035595429…</td><td>1.6330e19</td><td>&quot;10723420329908…</td><td>&quot;UPlusFinPerson…</td><td>null</td><td>&quot;Rejected&quot;</td></tr><tr><td>&quot;16686230276668…</td><td>8.7675e18</td><td>&quot;10723420329908…</td><td>&quot;BasicChecking&quot;</td><td>&quot;23823519081721…</td><td>&quot;Rejected&quot;</td></tr></tbody></table></div>"
      ],
      "text/plain": [
       "shape: (7, 6)\n",
       "┌────────────────┬─────────────┬────────────────┬────────────────┬────────────────┬────────────────┐\n",
       "│ PREDICTOR_0    ┆ PREDICTOR_2 ┆ PREDICTOR_3    ┆ Context_Name   ┆ IH_Web_Inbound ┆ Decision_Outco │\n",
       "│ ---            ┆ ---         ┆ ---            ┆ ---            ┆ _Accepted_pxLa ┆ me             │\n",
       "│ str            ┆ f64         ┆ str            ┆ str            ┆ stGr…          ┆ ---            │\n",
       "│                ┆             ┆                ┆                ┆ ---            ┆ str            │\n",
       "│                ┆             ┆                ┆                ┆ str            ┆                │\n",
       "╞════════════════╪═════════════╪════════════════╪════════════════╪════════════════╪════════════════╡\n",
       "│ 84660857878838 ┆ 1.2927e19   ┆ 58721779634590 ┆ FirstMortgage3 ┆ 68952327352675 ┆ Rejected       │\n",
       "│ 33050          ┆             ┆ 41433          ┆ 0yr            ┆ 49366          ┆                │\n",
       "│ 75533217204818 ┆ 1.4856e19   ┆ 30286131906966 ┆ FirstMortgage3 ┆ 13263267342955 ┆ Accepted       │\n",
       "│ 10637          ┆             ┆ 1330           ┆ 0yr            ┆ 389992         ┆                │\n",
       "│ 78261840093345 ┆ 5.6458e17   ┆ 10723420329908 ┆ MoneyMarketSav ┆ 68952327352675 ┆ Rejected       │\n",
       "│ 65133          ┆             ┆ 575729         ┆ ingsAccount    ┆ 49366          ┆                │\n",
       "│ 14336751604000 ┆ 4.0723e18   ┆ 30286131906966 ┆ BasicChecking  ┆ 68952327352675 ┆ Rejected       │\n",
       "│ 046647         ┆             ┆ 1330           ┆                ┆ 49366          ┆                │\n",
       "│ 12639261463604 ┆ 1.4677e19   ┆ 58721779634590 ┆ BasicChecking  ┆ 23823519081721 ┆ Accepted       │\n",
       "│ 580131         ┆             ┆ 41433          ┆                ┆ 30077          ┆                │\n",
       "│ 87496035595429 ┆ 1.6330e19   ┆ 10723420329908 ┆ UPlusFinPerson ┆ null           ┆ Rejected       │\n",
       "│ 38023          ┆             ┆ 575729         ┆ al             ┆                ┆                │\n",
       "│ 16686230276668 ┆ 8.7675e18   ┆ 10723420329908 ┆ BasicChecking  ┆ 23823519081721 ┆ Rejected       │\n",
       "│ 413801         ┆             ┆ 575729         ┆                ┆ 30077          ┆                │\n",
       "└────────────────┴─────────────┴────────────────┴────────────────┴────────────────┴────────────────┘"
      ]
     },
     "execution_count": 13,
     "metadata": {},
     "output_type": "execute_result"
    }
   ],
   "source": [
    "pl.read_ipc('output/hds.arrow')"
   ]
  },
  {
   "attachments": {},
   "cell_type": "markdown",
   "metadata": {},
   "source": [
    "## Advanced: Hash fuctions\n",
    "\n",
    "By default, we use [the same hashing algorithm Polars](https://pola-rs.github.io/polars/py-polars/html/reference/expressions/api/polars.Expr.hash.html#polars.Expr.hash) uses: [xxhash](https://github.com/Cyan4973/xxHash), as implemented [here](https://github.com/pola-rs/polars/blob/3f287f370b3c388ed2f3f218b2c096382548136f/polars/polars-core/src/vector_hasher.rs#L266). xxhash is fast to compute, and you can check its performance in collision, dispersion and randomness [here](https://github.com/Cyan4973/xxHash/tree/dev/tests). \n",
    "\n",
    "xxhash accepts four distinct seeds, but by default we set the seeds to `0`. It is possible to set the `seed` argument of the `process()` function to `'random'`, which will set all four seeds to a random integer between `0` and `1000000000`. Alternatively, it is possible to supply the four seeds manually with arguments `seed`, `seed_1`, `seed_2` and `seed_3`. \n",
    "\n",
    "If the xxhash with (random) seed(s) is not deemed sufficiently secure, it is possible to use your own hashing algorithm.\n",
    "\n",
    "Note that since we're now running python code and not native Polars code anymore, this will be _significantly_ slower. Nonetheless, it is possible.\n",
    "\n",
    "Just as an example - this is how one would use sha3_256:"
   ]
  },
  {
   "cell_type": "code",
   "execution_count": 14,
   "metadata": {
    "execution": {
     "iopub.execute_input": "2023-07-28T14:40:23.102377Z",
     "iopub.status.busy": "2023-07-28T14:40:23.102095Z",
     "iopub.status.idle": "2023-07-28T14:40:23.444545Z",
     "shell.execute_reply": "2023-07-28T14:40:23.443886Z"
    }
   },
   "outputs": [
    {
     "ename": "ComputeError",
     "evalue": "AttributeError: 'int' object has no attribute 'encode'",
     "output_type": "error",
     "traceback": [
      "\u001b[0;31m---------------------------------------------------------------------------\u001b[0m",
      "\u001b[0;31mComputeError\u001b[0m                              Traceback (most recent call last)",
      "Cell \u001b[0;32mIn[14], line 3\u001b[0m\n\u001b[1;32m      1\u001b[0m \u001b[38;5;28;01mfrom\u001b[39;00m \u001b[38;5;21;01mhashlib\u001b[39;00m \u001b[38;5;28;01mimport\u001b[39;00m sha3_256\n\u001b[0;32m----> 3\u001b[0m \u001b[43manon\u001b[49m\u001b[38;5;241;43m.\u001b[39;49m\u001b[43mprocess\u001b[49m\u001b[43m(\u001b[49m\u001b[43malgorithm\u001b[49m\u001b[38;5;241;43m=\u001b[39;49m\u001b[38;5;28;43;01mlambda\u001b[39;49;00m\u001b[43m \u001b[49m\u001b[43mx\u001b[49m\u001b[43m:\u001b[49m\u001b[43m \u001b[49m\u001b[43msha3_256\u001b[49m\u001b[43m(\u001b[49m\u001b[43mx\u001b[49m\u001b[38;5;241;43m.\u001b[39;49m\u001b[43mencode\u001b[49m\u001b[43m(\u001b[49m\u001b[43m)\u001b[49m\u001b[43m)\u001b[49m\u001b[38;5;241;43m.\u001b[39;49m\u001b[43mhexdigest\u001b[49m\u001b[43m(\u001b[49m\u001b[43m)\u001b[49m\u001b[43m)\u001b[49m\n",
      "File \u001b[0;32m~/work/pega-datascientist-tools/pega-datascientist-tools/python/docs/source/articles/../../../pdstools/utils/hds_utils.py:516\u001b[0m, in \u001b[0;36mDataAnonymization.process\u001b[0;34m(self, strategy, **kwargs)\u001b[0m\n\u001b[1;32m    514\u001b[0m df \u001b[38;5;241m=\u001b[39m df\u001b[38;5;241m.\u001b[39mselect(\u001b[38;5;28mself\u001b[39m\u001b[38;5;241m.\u001b[39mcolumn_mapping\u001b[38;5;241m.\u001b[39mkeys())\u001b[38;5;241m.\u001b[39mrename(\u001b[38;5;28mself\u001b[39m\u001b[38;5;241m.\u001b[39mcolumn_mapping)\n\u001b[1;32m    515\u001b[0m \u001b[38;5;28;01mif\u001b[39;00m strategy \u001b[38;5;241m==\u001b[39m \u001b[38;5;124m\"\u001b[39m\u001b[38;5;124meager\u001b[39m\u001b[38;5;124m\"\u001b[39m:\n\u001b[0;32m--> 516\u001b[0m     \u001b[38;5;28;01mreturn\u001b[39;00m \u001b[43mdf\u001b[49m\u001b[38;5;241;43m.\u001b[39;49m\u001b[43mcollect\u001b[49m\u001b[43m(\u001b[49m\u001b[43m)\u001b[49m\n\u001b[1;32m    517\u001b[0m \u001b[38;5;28;01mreturn\u001b[39;00m df\n",
      "File \u001b[0;32m/opt/hostedtoolcache/Python/3.11.4/x64/lib/python3.11/site-packages/polars/lazyframe/frame.py:1530\u001b[0m, in \u001b[0;36mLazyFrame.collect\u001b[0;34m(self, type_coercion, predicate_pushdown, projection_pushdown, simplify_expression, no_optimization, slice_pushdown, common_subplan_elimination, streaming)\u001b[0m\n\u001b[1;32m   1519\u001b[0m     common_subplan_elimination \u001b[38;5;241m=\u001b[39m \u001b[38;5;28;01mFalse\u001b[39;00m\n\u001b[1;32m   1521\u001b[0m ldf \u001b[38;5;241m=\u001b[39m \u001b[38;5;28mself\u001b[39m\u001b[38;5;241m.\u001b[39m_ldf\u001b[38;5;241m.\u001b[39moptimization_toggle(\n\u001b[1;32m   1522\u001b[0m     type_coercion,\n\u001b[1;32m   1523\u001b[0m     predicate_pushdown,\n\u001b[0;32m   (...)\u001b[0m\n\u001b[1;32m   1528\u001b[0m     streaming,\n\u001b[1;32m   1529\u001b[0m )\n\u001b[0;32m-> 1530\u001b[0m \u001b[38;5;28;01mreturn\u001b[39;00m wrap_df(ldf\u001b[38;5;241m.\u001b[39mcollect())\n",
      "\u001b[0;31mComputeError\u001b[0m: AttributeError: 'int' object has no attribute 'encode'"
     ]
    }
   ],
   "source": [
    "from hashlib import sha3_256\n",
    "\n",
    "anon.process(algorithm=lambda x: sha3_256(x.encode()).hexdigest())"
   ]
  }
 ],
 "metadata": {
  "kernelspec": {
   "display_name": "Python 3",
   "language": "python",
   "name": "python3"
  },
  "language_info": {
   "codemirror_mode": {
    "name": "ipython",
    "version": 3
   },
   "file_extension": ".py",
   "mimetype": "text/x-python",
   "name": "python",
   "nbconvert_exporter": "python",
   "pygments_lexer": "ipython3",
   "version": "3.11.4"
  },
  "vscode": {
   "interpreter": {
    "hash": "aee8b7b246df8f9039afb4144a1f6fd8d2ca17a180786b69acc140d282b71a49"
   }
  }
 },
 "nbformat": 4,
 "nbformat_minor": 2
}
