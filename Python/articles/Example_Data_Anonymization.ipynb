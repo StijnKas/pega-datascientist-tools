{
 "cells": [
  {
   "attachments": {},
   "cell_type": "markdown",
   "metadata": {},
   "source": [
    "# Data Anonymization\n",
    "\n",
    "In Pega CDH 8.5 and up, it's now possible to record the historical data as seen by the Adaptive Models. See [this academy challenge](https://academy.pega.com/challenge/exporting-historical-data/v4) for reference. This historical data can be further used to experiment with offline models, but also to fine-tune the OOTB Gradient Boosting model. However, sharing this information with Pega can be sensitive as it contains raw predictor data. \n",
    "\n",
    "To this end, we provide a simple and transparent script to fully anonimize this dataset.\n",
    "\n",
    "The DataAnonymization script is now part of pdstools, and you can import it directly as such."
   ]
  },
  {
   "cell_type": "code",
   "execution_count": 1,
   "metadata": {
    "execution": {
     "iopub.execute_input": "2024-03-15T12:09:18.765645Z",
     "iopub.status.busy": "2024-03-15T12:09:18.765468Z",
     "iopub.status.idle": "2024-03-15T12:09:18.835405Z",
     "shell.execute_reply": "2024-03-15T12:09:18.834853Z"
    },
    "nbsphinx": "hidden"
   },
   "outputs": [],
   "source": [
    "# These lines are only for rendering in the docs, and are hidden through Jupyter tags\n",
    "# Do not run if you're running the notebook seperately\n",
    "\n",
    "import os  \n",
    "import sys\n",
    "import plotly.io as pio\n",
    "pio.renderers.default = \"notebook_connected\"\n",
    "\n",
    "sys.path.append(\"../../../\")\n",
    "sys.path.append('../../python')"
   ]
  },
  {
   "cell_type": "code",
   "execution_count": 2,
   "metadata": {
    "execution": {
     "iopub.execute_input": "2024-03-15T12:09:18.837539Z",
     "iopub.status.busy": "2024-03-15T12:09:18.837361Z",
     "iopub.status.idle": "2024-03-15T12:09:19.844446Z",
     "shell.execute_reply": "2024-03-15T12:09:19.843959Z"
    }
   },
   "outputs": [],
   "source": [
    "from pdstools import ADMDatamart\n",
    "from pdstools import Config, DataAnonymization\n",
    "import polars as pl"
   ]
  },
  {
   "attachments": {},
   "cell_type": "markdown",
   "metadata": {},
   "source": [
    "## Input data\n",
    "\n",
    "To demonstrate this process, we're going to anonymise this toy example dataframe:"
   ]
  },
  {
   "cell_type": "code",
   "execution_count": 3,
   "metadata": {
    "execution": {
     "iopub.execute_input": "2024-03-15T12:09:19.847020Z",
     "iopub.status.busy": "2024-03-15T12:09:19.846507Z",
     "iopub.status.idle": "2024-03-15T12:09:19.855178Z",
     "shell.execute_reply": "2024-03-15T12:09:19.854630Z"
    }
   },
   "outputs": [
    {
     "data": {
      "text/html": [
       "<div><style>\n",
       ".dataframe > thead > tr,\n",
       ".dataframe > tbody > tr {\n",
       "  text-align: right;\n",
       "  white-space: pre-wrap;\n",
       "}\n",
       "</style>\n",
       "<small>shape: (7, 6)</small><table border=\"1\" class=\"dataframe\"><thead><tr><th>Context_Name</th><th>Customer_MaritalStatus</th><th>Customer_CLV</th><th>Customer_City</th><th>IH_Web_Inbound_Accepted_pxLastGroupID</th><th>Decision_Outcome</th></tr><tr><td>str</td><td>str</td><td>i64</td><td>str</td><td>str</td><td>str</td></tr></thead><tbody><tr><td>&quot;FirstMortgage3…</td><td>&quot;Married&quot;</td><td>1460</td><td>&quot;Port Raoul&quot;</td><td>&quot;Account&quot;</td><td>&quot;Rejected&quot;</td></tr><tr><td>&quot;FirstMortgage3…</td><td>&quot;Unknown&quot;</td><td>669</td><td>&quot;Laurianneshire…</td><td>&quot;AutoLoans&quot;</td><td>&quot;Accepted&quot;</td></tr><tr><td>&quot;MoneyMarketSav…</td><td>&quot;No Resp+&quot;</td><td>1174</td><td>&quot;Jacobshaven&quot;</td><td>&quot;Account&quot;</td><td>&quot;Rejected&quot;</td></tr><tr><td>&quot;BasicChecking&quot;</td><td>&quot;Unknown&quot;</td><td>1476</td><td>&quot;Lindton&quot;</td><td>&quot;Account&quot;</td><td>&quot;Rejected&quot;</td></tr><tr><td>&quot;BasicChecking&quot;</td><td>&quot;Married&quot;</td><td>1211</td><td>&quot;South Jimmiesh…</td><td>&quot;DepositAccount…</td><td>&quot;Accepted&quot;</td></tr><tr><td>&quot;UPlusFinPerson…</td><td>&quot;No Resp+&quot;</td><td>533</td><td>&quot;Bergeville&quot;</td><td>null</td><td>&quot;Rejected&quot;</td></tr><tr><td>&quot;BasicChecking&quot;</td><td>&quot;No Resp+&quot;</td><td>555</td><td>&quot;Willyville&quot;</td><td>&quot;DepositAccount…</td><td>&quot;Rejected&quot;</td></tr></tbody></table></div>"
      ],
      "text/plain": [
       "shape: (7, 6)\n",
       "┌────────────────┬────────────────┬──────────────┬────────────────┬────────────────┬───────────────┐\n",
       "│ Context_Name   ┆ Customer_Marit ┆ Customer_CLV ┆ Customer_City  ┆ IH_Web_Inbound ┆ Decision_Outc │\n",
       "│ ---            ┆ alStatus       ┆ ---          ┆ ---            ┆ _Accepted_pxLa ┆ ome           │\n",
       "│ str            ┆ ---            ┆ i64          ┆ str            ┆ stGr…          ┆ ---           │\n",
       "│                ┆ str            ┆              ┆                ┆ ---            ┆ str           │\n",
       "│                ┆                ┆              ┆                ┆ str            ┆               │\n",
       "╞════════════════╪════════════════╪══════════════╪════════════════╪════════════════╪═══════════════╡\n",
       "│ FirstMortgage3 ┆ Married        ┆ 1460         ┆ Port Raoul     ┆ Account        ┆ Rejected      │\n",
       "│ 0yr            ┆                ┆              ┆                ┆                ┆               │\n",
       "│ FirstMortgage3 ┆ Unknown        ┆ 669          ┆ Laurianneshire ┆ AutoLoans      ┆ Accepted      │\n",
       "│ 0yr            ┆                ┆              ┆                ┆                ┆               │\n",
       "│ MoneyMarketSav ┆ No Resp+       ┆ 1174         ┆ Jacobshaven    ┆ Account        ┆ Rejected      │\n",
       "│ ingsAccount    ┆                ┆              ┆                ┆                ┆               │\n",
       "│ BasicChecking  ┆ Unknown        ┆ 1476         ┆ Lindton        ┆ Account        ┆ Rejected      │\n",
       "│ BasicChecking  ┆ Married        ┆ 1211         ┆ South          ┆ DepositAccount ┆ Accepted      │\n",
       "│                ┆                ┆              ┆ Jimmieshire    ┆ s              ┆               │\n",
       "│ UPlusFinPerson ┆ No Resp+       ┆ 533          ┆ Bergeville     ┆ null           ┆ Rejected      │\n",
       "│ al             ┆                ┆              ┆                ┆                ┆               │\n",
       "│ BasicChecking  ┆ No Resp+       ┆ 555          ┆ Willyville     ┆ DepositAccount ┆ Rejected      │\n",
       "│                ┆                ┆              ┆                ┆ s              ┆               │\n",
       "└────────────────┴────────────────┴──────────────┴────────────────┴────────────────┴───────────────┘"
      ]
     },
     "execution_count": 3,
     "metadata": {},
     "output_type": "execute_result"
    }
   ],
   "source": [
    "pl.read_ndjson('../../../../data/SampleHDS.json')"
   ]
  },
  {
   "attachments": {},
   "cell_type": "markdown",
   "metadata": {},
   "source": [
    "As you can see, this dataset consists of regular predictors, IH predictors, context keys and the outcome column. Additionally, some columns are numeric, others are strings. Let's first initialize the DataAnonymization class."
   ]
  },
  {
   "cell_type": "code",
   "execution_count": 4,
   "metadata": {
    "execution": {
     "iopub.execute_input": "2024-03-15T12:09:19.857409Z",
     "iopub.status.busy": "2024-03-15T12:09:19.857029Z",
     "iopub.status.idle": "2024-03-15T12:09:19.862891Z",
     "shell.execute_reply": "2024-03-15T12:09:19.862474Z"
    }
   },
   "outputs": [],
   "source": [
    "anon = DataAnonymization(hds_folder='../../../../data/')"
   ]
  },
  {
   "attachments": {},
   "cell_type": "markdown",
   "metadata": {},
   "source": [
    "By default, the class applies a set of anonymisation techniques:\n",
    "- Column names are remapped to a non-descriptive name\n",
    "- Categorical values are hashed with a random seed\n",
    "- Numerical values are normalized between 0 and 1\n",
    "- Outcomes are mapped to a binary outcome.\n",
    "\n",
    "To apply these techniques, simply call `.process()`:"
   ]
  },
  {
   "cell_type": "code",
   "execution_count": 5,
   "metadata": {
    "execution": {
     "iopub.execute_input": "2024-03-15T12:09:19.864830Z",
     "iopub.status.busy": "2024-03-15T12:09:19.864508Z",
     "iopub.status.idle": "2024-03-15T12:09:19.870171Z",
     "shell.execute_reply": "2024-03-15T12:09:19.869635Z"
    }
   },
   "outputs": [
    {
     "data": {
      "text/html": [
       "<div><style>\n",
       ".dataframe > thead > tr,\n",
       ".dataframe > tbody > tr {\n",
       "  text-align: right;\n",
       "  white-space: pre-wrap;\n",
       "}\n",
       "</style>\n",
       "<small>shape: (7, 7)</small><table border=\"1\" class=\"dataframe\"><thead><tr><th>PREDICTOR_0</th><th>filename</th><th>PREDICTOR_2</th><th>PREDICTOR_3</th><th>Context_Name</th><th>IH_PREDICTOR_0</th><th>Decision_Outcome</th></tr><tr><td>f64</td><td>str</td><td>str</td><td>str</td><td>str</td><td>str</td><td>bool</td></tr></thead><tbody><tr><td>0.983033</td><td>&quot;../../../../da…</td><td>&quot;85594961534902…</td><td>&quot;18323522582184…</td><td>&quot;86846533700389…</td><td>&quot;15668292432150…</td><td>false</td></tr><tr><td>0.144221</td><td>&quot;../../../../da…</td><td>&quot;12624296323931…</td><td>&quot;66315349568174…</td><td>&quot;86846533700389…</td><td>&quot;91442423526433…</td><td>true</td></tr><tr><td>0.679745</td><td>&quot;../../../../da…</td><td>&quot;16431957863963…</td><td>&quot;13686659336515…</td><td>&quot;12040116149288…</td><td>&quot;15668292432150…</td><td>false</td></tr><tr><td>1.0</td><td>&quot;../../../../da…</td><td>&quot;16767332871603…</td><td>&quot;66315349568174…</td><td>&quot;76760055005680…</td><td>&quot;15668292432150…</td><td>false</td></tr><tr><td>0.718982</td><td>&quot;../../../../da…</td><td>&quot;26780029998299…</td><td>&quot;18323522582184…</td><td>&quot;76760055005680…</td><td>&quot;90697193477353…</td><td>true</td></tr><tr><td>0.0</td><td>&quot;../../../../da…</td><td>&quot;17402826753179…</td><td>&quot;13686659336515…</td><td>&quot;16206424041098…</td><td>null</td><td>false</td></tr><tr><td>0.02333</td><td>&quot;../../../../da…</td><td>&quot;35259907668556…</td><td>&quot;13686659336515…</td><td>&quot;76760055005680…</td><td>&quot;90697193477353…</td><td>false</td></tr></tbody></table></div>"
      ],
      "text/plain": [
       "shape: (7, 7)\n",
       "┌─────────────┬──────────────┬─────────────┬─────────────┬─────────────┬─────────────┬─────────────┐\n",
       "│ PREDICTOR_0 ┆ filename     ┆ PREDICTOR_2 ┆ PREDICTOR_3 ┆ Context_Nam ┆ IH_PREDICTO ┆ Decision_Ou │\n",
       "│ ---         ┆ ---          ┆ ---         ┆ ---         ┆ e           ┆ R_0         ┆ tcome       │\n",
       "│ f64         ┆ str          ┆ str         ┆ str         ┆ ---         ┆ ---         ┆ ---         │\n",
       "│             ┆              ┆             ┆             ┆ str         ┆ str         ┆ bool        │\n",
       "╞═════════════╪══════════════╪═════════════╪═════════════╪═════════════╪═════════════╪═════════════╡\n",
       "│ 0.983033    ┆ ../../../../ ┆ 85594961534 ┆ 18323522582 ┆ 86846533700 ┆ 15668292432 ┆ false       │\n",
       "│             ┆ data/SampleH ┆ 90264150    ┆ 184963653   ┆ 38935282    ┆ 150849599   ┆             │\n",
       "│             ┆ DS.json      ┆             ┆             ┆             ┆             ┆             │\n",
       "│ 0.144221    ┆ ../../../../ ┆ 12624296323 ┆ 66315349568 ┆ 86846533700 ┆ 91442423526 ┆ true        │\n",
       "│             ┆ data/SampleH ┆ 931837690   ┆ 17434162    ┆ 38935282    ┆ 43382787    ┆             │\n",
       "│             ┆ DS.json      ┆             ┆             ┆             ┆             ┆             │\n",
       "│ 0.679745    ┆ ../../../../ ┆ 16431957863 ┆ 13686659336 ┆ 12040116149 ┆ 15668292432 ┆ false       │\n",
       "│             ┆ data/SampleH ┆ 963343205   ┆ 515747861   ┆ 288484639   ┆ 150849599   ┆             │\n",
       "│             ┆ DS.json      ┆             ┆             ┆             ┆             ┆             │\n",
       "│ 1.0         ┆ ../../../../ ┆ 16767332871 ┆ 66315349568 ┆ 76760055005 ┆ 15668292432 ┆ false       │\n",
       "│             ┆ data/SampleH ┆ 60331498    ┆ 17434162    ┆ 68025822    ┆ 150849599   ┆             │\n",
       "│             ┆ DS.json      ┆             ┆             ┆             ┆             ┆             │\n",
       "│ 0.718982    ┆ ../../../../ ┆ 26780029998 ┆ 18323522582 ┆ 76760055005 ┆ 90697193477 ┆ true        │\n",
       "│             ┆ data/SampleH ┆ 29902338    ┆ 184963653   ┆ 68025822    ┆ 35316399    ┆             │\n",
       "│             ┆ DS.json      ┆             ┆             ┆             ┆             ┆             │\n",
       "│ 0.0         ┆ ../../../../ ┆ 17402826753 ┆ 13686659336 ┆ 16206424041 ┆ null        ┆ false       │\n",
       "│             ┆ data/SampleH ┆ 17980138    ┆ 515747861   ┆ 098703674   ┆             ┆             │\n",
       "│             ┆ DS.json      ┆             ┆             ┆             ┆             ┆             │\n",
       "│ 0.02333     ┆ ../../../../ ┆ 35259907668 ┆ 13686659336 ┆ 76760055005 ┆ 90697193477 ┆ false       │\n",
       "│             ┆ data/SampleH ┆ 55645823    ┆ 515747861   ┆ 68025822    ┆ 35316399    ┆             │\n",
       "│             ┆ DS.json      ┆             ┆             ┆             ┆             ┆             │\n",
       "└─────────────┴──────────────┴─────────────┴─────────────┴─────────────┴─────────────┴─────────────┘"
      ]
     },
     "execution_count": 5,
     "metadata": {},
     "output_type": "execute_result"
    }
   ],
   "source": [
    "anon.process()"
   ]
  },
  {
   "attachments": {},
   "cell_type": "markdown",
   "metadata": {},
   "source": [
    "To trace back the columns to their original names, the class also contains a mapping, which does not have to be provided."
   ]
  },
  {
   "cell_type": "code",
   "execution_count": 6,
   "metadata": {
    "execution": {
     "iopub.execute_input": "2024-03-15T12:09:19.872278Z",
     "iopub.status.busy": "2024-03-15T12:09:19.871940Z",
     "iopub.status.idle": "2024-03-15T12:09:19.875549Z",
     "shell.execute_reply": "2024-03-15T12:09:19.875106Z"
    }
   },
   "outputs": [
    {
     "data": {
      "text/plain": [
       "{'Customer_CLV': 'PREDICTOR_0',\n",
       " 'filename': 'filename',\n",
       " 'Customer_City': 'PREDICTOR_2',\n",
       " 'Customer_MaritalStatus': 'PREDICTOR_3',\n",
       " 'Context_Name': 'Context_Name',\n",
       " 'IH_Web_Inbound_Accepted_pxLastGroupID': 'IH_PREDICTOR_0',\n",
       " 'Decision_Outcome': 'Decision_Outcome'}"
      ]
     },
     "execution_count": 6,
     "metadata": {},
     "output_type": "execute_result"
    }
   ],
   "source": [
    "anon.column_mapping"
   ]
  },
  {
   "attachments": {},
   "cell_type": "markdown",
   "metadata": {},
   "source": [
    "## Configs\n",
    "\n",
    "Each capability can optionally be turned off - see below for the full list of config options, and refer to the API reference for the full description."
   ]
  },
  {
   "cell_type": "code",
   "execution_count": 7,
   "metadata": {
    "execution": {
     "iopub.execute_input": "2024-03-15T12:09:19.877523Z",
     "iopub.status.busy": "2024-03-15T12:09:19.877127Z",
     "iopub.status.idle": "2024-03-15T12:09:19.881216Z",
     "shell.execute_reply": "2024-03-15T12:09:19.880715Z"
    }
   },
   "outputs": [
    {
     "data": {
      "text/plain": [
       "{'config_file': None,\n",
       " 'hds_folder': '.',\n",
       " 'use_datamart': False,\n",
       " 'datamart_folder': 'datamart',\n",
       " 'output_format': 'ndjson',\n",
       " 'output_folder': 'output',\n",
       " 'mapping_file': 'mapping.map',\n",
       " 'mask_predictor_names': True,\n",
       " 'mask_context_key_names': False,\n",
       " 'mask_ih_names': True,\n",
       " 'mask_outcome_name': False,\n",
       " 'mask_predictor_values': True,\n",
       " 'mask_context_key_values': True,\n",
       " 'mask_ih_values': True,\n",
       " 'mask_outcome_values': True,\n",
       " 'context_key_label': 'Context_*',\n",
       " 'ih_label': 'IH_*',\n",
       " 'outcome_column': 'Decision_Outcome',\n",
       " 'positive_outcomes': ['Accepted', 'Clicked'],\n",
       " 'negative_outcomes': ['Rejected', 'Impression'],\n",
       " 'special_predictors': ['Decision_DecisionTime',\n",
       "  'Decision_OutcomeTime',\n",
       "  'Decision_Rank'],\n",
       " 'sample_percentage_schema_inferencing': 0.01}"
      ]
     },
     "execution_count": 7,
     "metadata": {},
     "output_type": "execute_result"
    }
   ],
   "source": [
    "dict(zip(Config.__init__.__code__.co_varnames[1:], Config.__init__.__defaults__))"
   ]
  },
  {
   "attachments": {},
   "cell_type": "markdown",
   "metadata": {},
   "source": [
    "It's easy to change these parameters by just passing the keyword arguments. In the following example, we\n",
    "- Keep the IH predictor names\n",
    "- Keep the outcome values\n",
    "- Keep the context key values\n",
    "- Keep the context key predictor names"
   ]
  },
  {
   "cell_type": "code",
   "execution_count": 8,
   "metadata": {
    "execution": {
     "iopub.execute_input": "2024-03-15T12:09:19.883207Z",
     "iopub.status.busy": "2024-03-15T12:09:19.882884Z",
     "iopub.status.idle": "2024-03-15T12:09:19.890395Z",
     "shell.execute_reply": "2024-03-15T12:09:19.889879Z"
    }
   },
   "outputs": [
    {
     "data": {
      "text/html": [
       "<div><style>\n",
       ".dataframe > thead > tr,\n",
       ".dataframe > tbody > tr {\n",
       "  text-align: right;\n",
       "  white-space: pre-wrap;\n",
       "}\n",
       "</style>\n",
       "<small>shape: (7, 7)</small><table border=\"1\" class=\"dataframe\"><thead><tr><th>PREDICTOR_0</th><th>filename</th><th>PREDICTOR_2</th><th>PREDICTOR_3</th><th>Context_Name</th><th>IH_Web_Inbound_Accepted_pxLastGroupID</th><th>Decision_Outcome</th></tr><tr><td>f64</td><td>str</td><td>str</td><td>str</td><td>str</td><td>str</td><td>str</td></tr></thead><tbody><tr><td>0.983033</td><td>&quot;../../../../da…</td><td>&quot;19726485554307…</td><td>&quot;16104456657398…</td><td>&quot;FirstMortgage3…</td><td>&quot;11306012466565…</td><td>&quot;Rejected&quot;</td></tr><tr><td>0.144221</td><td>&quot;../../../../da…</td><td>&quot;17780646389477…</td><td>&quot;22246819493166…</td><td>&quot;FirstMortgage3…</td><td>&quot;16491447125913…</td><td>&quot;Accepted&quot;</td></tr><tr><td>0.679745</td><td>&quot;../../../../da…</td><td>&quot;15467486378810…</td><td>&quot;33406842796841…</td><td>&quot;MoneyMarketSav…</td><td>&quot;11306012466565…</td><td>&quot;Rejected&quot;</td></tr><tr><td>1.0</td><td>&quot;../../../../da…</td><td>&quot;76569027573293…</td><td>&quot;22246819493166…</td><td>&quot;BasicChecking&quot;</td><td>&quot;11306012466565…</td><td>&quot;Rejected&quot;</td></tr><tr><td>0.718982</td><td>&quot;../../../../da…</td><td>&quot;16601973314454…</td><td>&quot;16104456657398…</td><td>&quot;BasicChecking&quot;</td><td>&quot;13828887545856…</td><td>&quot;Accepted&quot;</td></tr><tr><td>0.0</td><td>&quot;../../../../da…</td><td>&quot;54756955626866…</td><td>&quot;33406842796841…</td><td>&quot;UPlusFinPerson…</td><td>null</td><td>&quot;Rejected&quot;</td></tr><tr><td>0.02333</td><td>&quot;../../../../da…</td><td>&quot;25584316140901…</td><td>&quot;33406842796841…</td><td>&quot;BasicChecking&quot;</td><td>&quot;13828887545856…</td><td>&quot;Rejected&quot;</td></tr></tbody></table></div>"
      ],
      "text/plain": [
       "shape: (7, 7)\n",
       "┌─────────────┬──────────────┬─────────────┬─────────────┬─────────────┬─────────────┬─────────────┐\n",
       "│ PREDICTOR_0 ┆ filename     ┆ PREDICTOR_2 ┆ PREDICTOR_3 ┆ Context_Nam ┆ IH_Web_Inbo ┆ Decision_Ou │\n",
       "│ ---         ┆ ---          ┆ ---         ┆ ---         ┆ e           ┆ und_Accepte ┆ tcome       │\n",
       "│ f64         ┆ str          ┆ str         ┆ str         ┆ ---         ┆ d_pxLastGr… ┆ ---         │\n",
       "│             ┆              ┆             ┆             ┆ str         ┆ ---         ┆ str         │\n",
       "│             ┆              ┆             ┆             ┆             ┆ str         ┆             │\n",
       "╞═════════════╪══════════════╪═════════════╪═════════════╪═════════════╪═════════════╪═════════════╡\n",
       "│ 0.983033    ┆ ../../../../ ┆ 19726485554 ┆ 16104456657 ┆ FirstMortga ┆ 11306012466 ┆ Rejected    │\n",
       "│             ┆ data/SampleH ┆ 30702455    ┆ 39877824    ┆ ge30yr      ┆ 565845668   ┆             │\n",
       "│             ┆ DS.json      ┆             ┆             ┆             ┆             ┆             │\n",
       "│ 0.144221    ┆ ../../../../ ┆ 17780646389 ┆ 22246819493 ┆ FirstMortga ┆ 16491447125 ┆ Accepted    │\n",
       "│             ┆ data/SampleH ┆ 477116658   ┆ 16652841    ┆ ge30yr      ┆ 91384129    ┆             │\n",
       "│             ┆ DS.json      ┆             ┆             ┆             ┆             ┆             │\n",
       "│ 0.679745    ┆ ../../../../ ┆ 15467486378 ┆ 33406842796 ┆ MoneyMarket ┆ 11306012466 ┆ Rejected    │\n",
       "│             ┆ data/SampleH ┆ 810519184   ┆ 8410291     ┆ SavingsAcco ┆ 565845668   ┆             │\n",
       "│             ┆ DS.json      ┆             ┆             ┆ unt         ┆             ┆             │\n",
       "│ 1.0         ┆ ../../../../ ┆ 76569027573 ┆ 22246819493 ┆ BasicChecki ┆ 11306012466 ┆ Rejected    │\n",
       "│             ┆ data/SampleH ┆ 29396042    ┆ 16652841    ┆ ng          ┆ 565845668   ┆             │\n",
       "│             ┆ DS.json      ┆             ┆             ┆             ┆             ┆             │\n",
       "│ 0.718982    ┆ ../../../../ ┆ 16601973314 ┆ 16104456657 ┆ BasicChecki ┆ 13828887545 ┆ Accepted    │\n",
       "│             ┆ data/SampleH ┆ 454329594   ┆ 39877824    ┆ ng          ┆ 856060161   ┆             │\n",
       "│             ┆ DS.json      ┆             ┆             ┆             ┆             ┆             │\n",
       "│ 0.0         ┆ ../../../../ ┆ 54756955626 ┆ 33406842796 ┆ UPlusFinPer ┆ null        ┆ Rejected    │\n",
       "│             ┆ data/SampleH ┆ 86649024    ┆ 8410291     ┆ sonal       ┆             ┆             │\n",
       "│             ┆ DS.json      ┆             ┆             ┆             ┆             ┆             │\n",
       "│ 0.02333     ┆ ../../../../ ┆ 25584316140 ┆ 33406842796 ┆ BasicChecki ┆ 13828887545 ┆ Rejected    │\n",
       "│             ┆ data/SampleH ┆ 90194832    ┆ 8410291     ┆ ng          ┆ 856060161   ┆             │\n",
       "│             ┆ DS.json      ┆             ┆             ┆             ┆             ┆             │\n",
       "└─────────────┴──────────────┴─────────────┴─────────────┴─────────────┴─────────────┴─────────────┘"
      ]
     },
     "execution_count": 8,
     "metadata": {},
     "output_type": "execute_result"
    }
   ],
   "source": [
    "anon = DataAnonymization(\n",
    "    hds_folder=\"../../../../data/\",\n",
    "    mask_ih_names=False,\n",
    "    mask_outcome_values=False,\n",
    "    mask_context_key_values=False,\n",
    "    mask_context_key_names=False,\n",
    ")\n",
    "anon.process()\n"
   ]
  },
  {
   "attachments": {},
   "cell_type": "markdown",
   "metadata": {},
   "source": [
    "The configs can also be written and read as such:"
   ]
  },
  {
   "cell_type": "code",
   "execution_count": 9,
   "metadata": {
    "execution": {
     "iopub.execute_input": "2024-03-15T12:09:19.892531Z",
     "iopub.status.busy": "2024-03-15T12:09:19.892114Z",
     "iopub.status.idle": "2024-03-15T12:09:19.895071Z",
     "shell.execute_reply": "2024-03-15T12:09:19.894646Z"
    }
   },
   "outputs": [],
   "source": [
    "anon.config.save_to_config_file('config.json')"
   ]
  },
  {
   "cell_type": "code",
   "execution_count": 10,
   "metadata": {
    "execution": {
     "iopub.execute_input": "2024-03-15T12:09:19.896866Z",
     "iopub.status.busy": "2024-03-15T12:09:19.896577Z",
     "iopub.status.idle": "2024-03-15T12:09:19.903935Z",
     "shell.execute_reply": "2024-03-15T12:09:19.903420Z"
    }
   },
   "outputs": [
    {
     "data": {
      "text/html": [
       "<div><style>\n",
       ".dataframe > thead > tr,\n",
       ".dataframe > tbody > tr {\n",
       "  text-align: right;\n",
       "  white-space: pre-wrap;\n",
       "}\n",
       "</style>\n",
       "<small>shape: (7, 7)</small><table border=\"1\" class=\"dataframe\"><thead><tr><th>PREDICTOR_0</th><th>filename</th><th>PREDICTOR_2</th><th>PREDICTOR_3</th><th>Context_Name</th><th>IH_Web_Inbound_Accepted_pxLastGroupID</th><th>Decision_Outcome</th></tr><tr><td>f64</td><td>str</td><td>str</td><td>str</td><td>str</td><td>str</td><td>str</td></tr></thead><tbody><tr><td>0.983033</td><td>&quot;../../../../da…</td><td>&quot;28277384595965…</td><td>&quot;83592950140863…</td><td>&quot;FirstMortgage3…</td><td>&quot;68081203810344…</td><td>&quot;Rejected&quot;</td></tr><tr><td>0.144221</td><td>&quot;../../../../da…</td><td>&quot;18281823686087…</td><td>&quot;46963977360902…</td><td>&quot;FirstMortgage3…</td><td>&quot;81648226377195…</td><td>&quot;Accepted&quot;</td></tr><tr><td>0.679745</td><td>&quot;../../../../da…</td><td>&quot;89184681186097…</td><td>&quot;87007121117079…</td><td>&quot;MoneyMarketSav…</td><td>&quot;68081203810344…</td><td>&quot;Rejected&quot;</td></tr><tr><td>1.0</td><td>&quot;../../../../da…</td><td>&quot;16864037113791…</td><td>&quot;46963977360902…</td><td>&quot;BasicChecking&quot;</td><td>&quot;68081203810344…</td><td>&quot;Rejected&quot;</td></tr><tr><td>0.718982</td><td>&quot;../../../../da…</td><td>&quot;50800161952568…</td><td>&quot;83592950140863…</td><td>&quot;BasicChecking&quot;</td><td>&quot;83847621744375…</td><td>&quot;Accepted&quot;</td></tr><tr><td>0.0</td><td>&quot;../../../../da…</td><td>&quot;31437464649561…</td><td>&quot;87007121117079…</td><td>&quot;UPlusFinPerson…</td><td>null</td><td>&quot;Rejected&quot;</td></tr><tr><td>0.02333</td><td>&quot;../../../../da…</td><td>&quot;91439936447412…</td><td>&quot;87007121117079…</td><td>&quot;BasicChecking&quot;</td><td>&quot;83847621744375…</td><td>&quot;Rejected&quot;</td></tr></tbody></table></div>"
      ],
      "text/plain": [
       "shape: (7, 7)\n",
       "┌─────────────┬──────────────┬─────────────┬─────────────┬─────────────┬─────────────┬─────────────┐\n",
       "│ PREDICTOR_0 ┆ filename     ┆ PREDICTOR_2 ┆ PREDICTOR_3 ┆ Context_Nam ┆ IH_Web_Inbo ┆ Decision_Ou │\n",
       "│ ---         ┆ ---          ┆ ---         ┆ ---         ┆ e           ┆ und_Accepte ┆ tcome       │\n",
       "│ f64         ┆ str          ┆ str         ┆ str         ┆ ---         ┆ d_pxLastGr… ┆ ---         │\n",
       "│             ┆              ┆             ┆             ┆ str         ┆ ---         ┆ str         │\n",
       "│             ┆              ┆             ┆             ┆             ┆ str         ┆             │\n",
       "╞═════════════╪══════════════╪═════════════╪═════════════╪═════════════╪═════════════╪═════════════╡\n",
       "│ 0.983033    ┆ ../../../../ ┆ 28277384595 ┆ 83592950140 ┆ FirstMortga ┆ 68081203810 ┆ Rejected    │\n",
       "│             ┆ data/SampleH ┆ 96545789    ┆ 86342769    ┆ ge30yr      ┆ 34486031    ┆             │\n",
       "│             ┆ DS.json      ┆             ┆             ┆             ┆             ┆             │\n",
       "│ 0.144221    ┆ ../../../../ ┆ 18281823686 ┆ 46963977360 ┆ FirstMortga ┆ 81648226377 ┆ Accepted    │\n",
       "│             ┆ data/SampleH ┆ 087621300   ┆ 90252769    ┆ ge30yr      ┆ 19597849    ┆             │\n",
       "│             ┆ DS.json      ┆             ┆             ┆             ┆             ┆             │\n",
       "│ 0.679745    ┆ ../../../../ ┆ 89184681186 ┆ 87007121117 ┆ MoneyMarket ┆ 68081203810 ┆ Rejected    │\n",
       "│             ┆ data/SampleH ┆ 09756094    ┆ 07924071    ┆ SavingsAcco ┆ 34486031    ┆             │\n",
       "│             ┆ DS.json      ┆             ┆             ┆ unt         ┆             ┆             │\n",
       "│ 1.0         ┆ ../../../../ ┆ 16864037113 ┆ 46963977360 ┆ BasicChecki ┆ 68081203810 ┆ Rejected    │\n",
       "│             ┆ data/SampleH ┆ 791134798   ┆ 90252769    ┆ ng          ┆ 34486031    ┆             │\n",
       "│             ┆ DS.json      ┆             ┆             ┆             ┆             ┆             │\n",
       "│ 0.718982    ┆ ../../../../ ┆ 50800161952 ┆ 83592950140 ┆ BasicChecki ┆ 83847621744 ┆ Accepted    │\n",
       "│             ┆ data/SampleH ┆ 56850341    ┆ 86342769    ┆ ng          ┆ 3759644     ┆             │\n",
       "│             ┆ DS.json      ┆             ┆             ┆             ┆             ┆             │\n",
       "│ 0.0         ┆ ../../../../ ┆ 31437464649 ┆ 87007121117 ┆ UPlusFinPer ┆ null        ┆ Rejected    │\n",
       "│             ┆ data/SampleH ┆ 56187877    ┆ 07924071    ┆ sonal       ┆             ┆             │\n",
       "│             ┆ DS.json      ┆             ┆             ┆             ┆             ┆             │\n",
       "│ 0.02333     ┆ ../../../../ ┆ 91439936447 ┆ 87007121117 ┆ BasicChecki ┆ 83847621744 ┆ Rejected    │\n",
       "│             ┆ data/SampleH ┆ 41264900    ┆ 07924071    ┆ ng          ┆ 3759644     ┆             │\n",
       "│             ┆ DS.json      ┆             ┆             ┆             ┆             ┆             │\n",
       "└─────────────┴──────────────┴─────────────┴─────────────┴─────────────┴─────────────┴─────────────┘"
      ]
     },
     "execution_count": 10,
     "metadata": {},
     "output_type": "execute_result"
    }
   ],
   "source": [
    "anon = DataAnonymization(config=Config(config_file='config.json'))\n",
    "anon.process()"
   ]
  },
  {
   "attachments": {},
   "cell_type": "markdown",
   "metadata": {},
   "source": [
    "## Exporting\n",
    "Two functions export:\n",
    "- `create_mapping_file()` writes the mapping file of the predictor names\n",
    "- `write_to_output()` writes the processed dataframe to disk\n",
    "\n",
    "Write to output accepts the following extensions: `[\"ndjson\", \"parquet\", \"arrow\", \"csv\"]`"
   ]
  },
  {
   "cell_type": "code",
   "execution_count": 11,
   "metadata": {
    "execution": {
     "iopub.execute_input": "2024-03-15T12:09:19.905836Z",
     "iopub.status.busy": "2024-03-15T12:09:19.905543Z",
     "iopub.status.idle": "2024-03-15T12:09:19.908774Z",
     "shell.execute_reply": "2024-03-15T12:09:19.908333Z"
    }
   },
   "outputs": [
    {
     "name": "stdout",
     "output_type": "stream",
     "text": [
      "Customer_CLV=PREDICTOR_0\n",
      "filename=filename\n",
      "Customer_City=PREDICTOR_2\n",
      "Customer_MaritalStatus=PREDICTOR_3\n",
      "Context_Name=Context_Name\n",
      "IH_Web_Inbound_Accepted_pxLastGroupID=IH_Web_Inbound_Accepted_pxLastGroupID\n",
      "Decision_Outcome=Decision_Outcome\n",
      "\n"
     ]
    }
   ],
   "source": [
    "anon.create_mapping_file()\n",
    "with open('mapping.map') as f:\n",
    "    print(f.read())"
   ]
  },
  {
   "cell_type": "code",
   "execution_count": 12,
   "metadata": {
    "execution": {
     "iopub.execute_input": "2024-03-15T12:09:19.910710Z",
     "iopub.status.busy": "2024-03-15T12:09:19.910392Z",
     "iopub.status.idle": "2024-03-15T12:09:19.913713Z",
     "shell.execute_reply": "2024-03-15T12:09:19.913282Z"
    }
   },
   "outputs": [],
   "source": [
    "anon.write_to_output(ext='arrow')"
   ]
  },
  {
   "cell_type": "code",
   "execution_count": 13,
   "metadata": {
    "execution": {
     "iopub.execute_input": "2024-03-15T12:09:19.915628Z",
     "iopub.status.busy": "2024-03-15T12:09:19.915310Z",
     "iopub.status.idle": "2024-03-15T12:09:19.919666Z",
     "shell.execute_reply": "2024-03-15T12:09:19.919140Z"
    }
   },
   "outputs": [
    {
     "data": {
      "text/html": [
       "<div><style>\n",
       ".dataframe > thead > tr,\n",
       ".dataframe > tbody > tr {\n",
       "  text-align: right;\n",
       "  white-space: pre-wrap;\n",
       "}\n",
       "</style>\n",
       "<small>shape: (7, 6)</small><table border=\"1\" class=\"dataframe\"><thead><tr><th>PREDICTOR_0</th><th>PREDICTOR_2</th><th>PREDICTOR_3</th><th>Context_Name</th><th>IH_Web_Inbound_Accepted_pxLastGroupID</th><th>Decision_Outcome</th></tr><tr><td>f64</td><td>str</td><td>str</td><td>str</td><td>str</td><td>str</td></tr></thead><tbody><tr><td>0.983033</td><td>&quot;88957420193206…</td><td>&quot;38289415091067…</td><td>&quot;FirstMortgage3…</td><td>&quot;98218900732000…</td><td>&quot;Rejected&quot;</td></tr><tr><td>0.144221</td><td>&quot;13592310186498…</td><td>&quot;28593530522922…</td><td>&quot;FirstMortgage3…</td><td>&quot;79243344172668…</td><td>&quot;Accepted&quot;</td></tr><tr><td>0.679745</td><td>&quot;14437603302483…</td><td>&quot;13461935601660…</td><td>&quot;MoneyMarketSav…</td><td>&quot;98218900732000…</td><td>&quot;Rejected&quot;</td></tr><tr><td>1.0</td><td>&quot;87960810568000…</td><td>&quot;28593530522922…</td><td>&quot;BasicChecking&quot;</td><td>&quot;98218900732000…</td><td>&quot;Rejected&quot;</td></tr><tr><td>0.718982</td><td>&quot;17257213292282…</td><td>&quot;38289415091067…</td><td>&quot;BasicChecking&quot;</td><td>&quot;37389656068531…</td><td>&quot;Accepted&quot;</td></tr><tr><td>0.0</td><td>&quot;66765770887846…</td><td>&quot;13461935601660…</td><td>&quot;UPlusFinPerson…</td><td>null</td><td>&quot;Rejected&quot;</td></tr><tr><td>0.02333</td><td>&quot;16453947472027…</td><td>&quot;13461935601660…</td><td>&quot;BasicChecking&quot;</td><td>&quot;37389656068531…</td><td>&quot;Rejected&quot;</td></tr></tbody></table></div>"
      ],
      "text/plain": [
       "shape: (7, 6)\n",
       "┌─────────────┬────────────────┬────────────────┬────────────────┬────────────────┬────────────────┐\n",
       "│ PREDICTOR_0 ┆ PREDICTOR_2    ┆ PREDICTOR_3    ┆ Context_Name   ┆ IH_Web_Inbound ┆ Decision_Outco │\n",
       "│ ---         ┆ ---            ┆ ---            ┆ ---            ┆ _Accepted_pxLa ┆ me             │\n",
       "│ f64         ┆ str            ┆ str            ┆ str            ┆ stGr…          ┆ ---            │\n",
       "│             ┆                ┆                ┆                ┆ ---            ┆ str            │\n",
       "│             ┆                ┆                ┆                ┆ str            ┆                │\n",
       "╞═════════════╪════════════════╪════════════════╪════════════════╪════════════════╪════════════════╡\n",
       "│ 0.983033    ┆ 88957420193206 ┆ 38289415091067 ┆ FirstMortgage3 ┆ 98218900732000 ┆ Rejected       │\n",
       "│             ┆ 02552          ┆ 66100          ┆ 0yr            ┆ 49             ┆                │\n",
       "│ 0.144221    ┆ 13592310186498 ┆ 28593530522922 ┆ FirstMortgage3 ┆ 79243344172668 ┆ Accepted       │\n",
       "│             ┆ 215326         ┆ 02560          ┆ 0yr            ┆ 48927          ┆                │\n",
       "│ 0.679745    ┆ 14437603302483 ┆ 13461935601660 ┆ MoneyMarketSav ┆ 98218900732000 ┆ Rejected       │\n",
       "│             ┆ 984601         ┆ 746837         ┆ ingsAccount    ┆ 49             ┆                │\n",
       "│ 1.0         ┆ 87960810568000 ┆ 28593530522922 ┆ BasicChecking  ┆ 98218900732000 ┆ Rejected       │\n",
       "│             ┆ 35110          ┆ 02560          ┆                ┆ 49             ┆                │\n",
       "│ 0.718982    ┆ 17257213292282 ┆ 38289415091067 ┆ BasicChecking  ┆ 37389656068531 ┆ Accepted       │\n",
       "│             ┆ 401692         ┆ 66100          ┆                ┆ 92945          ┆                │\n",
       "│ 0.0         ┆ 66765770887846 ┆ 13461935601660 ┆ UPlusFinPerson ┆ null           ┆ Rejected       │\n",
       "│             ┆ 6675           ┆ 746837         ┆ al             ┆                ┆                │\n",
       "│ 0.02333     ┆ 16453947472027 ┆ 13461935601660 ┆ BasicChecking  ┆ 37389656068531 ┆ Rejected       │\n",
       "│             ┆ 002774         ┆ 746837         ┆                ┆ 92945          ┆                │\n",
       "└─────────────┴────────────────┴────────────────┴────────────────┴────────────────┴────────────────┘"
      ]
     },
     "execution_count": 13,
     "metadata": {},
     "output_type": "execute_result"
    }
   ],
   "source": [
    "pl.read_ipc('output/hds.arrow')"
   ]
  },
  {
   "attachments": {},
   "cell_type": "markdown",
   "metadata": {
    "nbsphinx": "hidden"
   },
   "source": [
    "## Advanced: Hash fuctions\n",
    "\n",
    "By default, we use [the same hashing algorithm Polars](https://pola-rs.github.io/polars/py-polars/html/reference/expressions/api/polars.Expr.hash.html#polars.Expr.hash) uses: [xxhash](https://github.com/Cyan4973/xxHash), as implemented [here](https://github.com/pola-rs/polars/blob/3f287f370b3c388ed2f3f218b2c096382548136f/polars/polars-core/src/vector_hasher.rs#L266). xxhash is fast to compute, and you can check its performance in collision, dispersion and randomness [here](https://github.com/Cyan4973/xxHash/tree/dev/tests). \n",
    "\n",
    "xxhash accepts four distinct seeds, but by default we set the seeds to `0`. It is possible to set the `seed` argument of the `process()` function to `'random'`, which will set all four seeds to a random integer between `0` and `1000000000`. Alternatively, it is possible to supply the four seeds manually with arguments `seed`, `seed_1`, `seed_2` and `seed_3`. \n",
    "\n",
    "If the xxhash with (random) seed(s) is not deemed sufficiently secure, it is possible to use your own hashing algorithm.\n",
    "\n",
    "Note that since we're now running python code and not native Polars code anymore, this will be _significantly_ slower. Nonetheless, it is possible.\n",
    "\n",
    "Just as an example - this is how one would use sha3_256:"
   ]
  },
  {
   "cell_type": "code",
   "execution_count": 14,
   "metadata": {
    "execution": {
     "iopub.execute_input": "2024-03-15T12:09:19.921596Z",
     "iopub.status.busy": "2024-03-15T12:09:19.921337Z",
     "iopub.status.idle": "2024-03-15T12:09:19.928488Z",
     "shell.execute_reply": "2024-03-15T12:09:19.928060Z"
    },
    "nbsphinx": "hidden"
   },
   "outputs": [
    {
     "data": {
      "text/html": [
       "<div><style>\n",
       ".dataframe > thead > tr,\n",
       ".dataframe > tbody > tr {\n",
       "  text-align: right;\n",
       "  white-space: pre-wrap;\n",
       "}\n",
       "</style>\n",
       "<small>shape: (7, 7)</small><table border=\"1\" class=\"dataframe\"><thead><tr><th>PREDICTOR_0</th><th>filename</th><th>PREDICTOR_2</th><th>PREDICTOR_3</th><th>Context_Name</th><th>IH_Web_Inbound_Accepted_pxLastGroupID</th><th>Decision_Outcome</th></tr><tr><td>f64</td><td>str</td><td>str</td><td>str</td><td>str</td><td>str</td><td>str</td></tr></thead><tbody><tr><td>0.983033</td><td>&quot;../../../../da…</td><td>&quot;c73023dda51de1…</td><td>&quot;af486bc1815c72…</td><td>&quot;FirstMortgage3…</td><td>&quot;2513d0e24d8d02…</td><td>&quot;Rejected&quot;</td></tr><tr><td>0.144221</td><td>&quot;../../../../da…</td><td>&quot;5414b197fb87b3…</td><td>&quot;3cdf7b1ae1342e…</td><td>&quot;FirstMortgage3…</td><td>&quot;8b55bf62fc2ecd…</td><td>&quot;Accepted&quot;</td></tr><tr><td>0.679745</td><td>&quot;../../../../da…</td><td>&quot;892f5d61a9215e…</td><td>&quot;806ef34eb8237f…</td><td>&quot;MoneyMarketSav…</td><td>&quot;2513d0e24d8d02…</td><td>&quot;Rejected&quot;</td></tr><tr><td>1.0</td><td>&quot;../../../../da…</td><td>&quot;c3aa807d9e927a…</td><td>&quot;3cdf7b1ae1342e…</td><td>&quot;BasicChecking&quot;</td><td>&quot;2513d0e24d8d02…</td><td>&quot;Rejected&quot;</td></tr><tr><td>0.718982</td><td>&quot;../../../../da…</td><td>&quot;c2d492f9a05073…</td><td>&quot;af486bc1815c72…</td><td>&quot;BasicChecking&quot;</td><td>&quot;1cd082ecbd5dd9…</td><td>&quot;Accepted&quot;</td></tr><tr><td>0.0</td><td>&quot;../../../../da…</td><td>&quot;b21059221605c4…</td><td>&quot;806ef34eb8237f…</td><td>&quot;UPlusFinPerson…</td><td>null</td><td>&quot;Rejected&quot;</td></tr><tr><td>0.02333</td><td>&quot;../../../../da…</td><td>&quot;80cbe489dcecd4…</td><td>&quot;806ef34eb8237f…</td><td>&quot;BasicChecking&quot;</td><td>&quot;1cd082ecbd5dd9…</td><td>&quot;Rejected&quot;</td></tr></tbody></table></div>"
      ],
      "text/plain": [
       "shape: (7, 7)\n",
       "┌─────────────┬──────────────┬─────────────┬─────────────┬─────────────┬─────────────┬─────────────┐\n",
       "│ PREDICTOR_0 ┆ filename     ┆ PREDICTOR_2 ┆ PREDICTOR_3 ┆ Context_Nam ┆ IH_Web_Inbo ┆ Decision_Ou │\n",
       "│ ---         ┆ ---          ┆ ---         ┆ ---         ┆ e           ┆ und_Accepte ┆ tcome       │\n",
       "│ f64         ┆ str          ┆ str         ┆ str         ┆ ---         ┆ d_pxLastGr… ┆ ---         │\n",
       "│             ┆              ┆             ┆             ┆ str         ┆ ---         ┆ str         │\n",
       "│             ┆              ┆             ┆             ┆             ┆ str         ┆             │\n",
       "╞═════════════╪══════════════╪═════════════╪═════════════╪═════════════╪═════════════╪═════════════╡\n",
       "│ 0.983033    ┆ ../../../../ ┆ c73023dda51 ┆ af486bc1815 ┆ FirstMortga ┆ 2513d0e24d8 ┆ Rejected    │\n",
       "│             ┆ data/SampleH ┆ de1b84f7af7 ┆ c726c357890 ┆ ge30yr      ┆ d0214eda4fb ┆             │\n",
       "│             ┆ DS.json      ┆ 74fd6f8c73… ┆ ac2a40ba98… ┆             ┆ 454447162b… ┆             │\n",
       "│ 0.144221    ┆ ../../../../ ┆ 5414b197fb8 ┆ 3cdf7b1ae13 ┆ FirstMortga ┆ 8b55bf62fc2 ┆ Accepted    │\n",
       "│             ┆ data/SampleH ┆ 7b3f2e350d7 ┆ 42ef979ea2a ┆ ge30yr      ┆ ecd16af97d4 ┆             │\n",
       "│             ┆ DS.json      ┆ a74a840a81… ┆ 782541ad05… ┆             ┆ 8e469362cf… ┆             │\n",
       "│ 0.679745    ┆ ../../../../ ┆ 892f5d61a92 ┆ 806ef34eb82 ┆ MoneyMarket ┆ 2513d0e24d8 ┆ Rejected    │\n",
       "│             ┆ data/SampleH ┆ 15ef985f3fa ┆ 37f4db85004 ┆ SavingsAcco ┆ d0214eda4fb ┆             │\n",
       "│             ┆ DS.json      ┆ 293d51c92e… ┆ e96dc471d8… ┆ unt         ┆ 454447162b… ┆             │\n",
       "│ 1.0         ┆ ../../../../ ┆ c3aa807d9e9 ┆ 3cdf7b1ae13 ┆ BasicChecki ┆ 2513d0e24d8 ┆ Rejected    │\n",
       "│             ┆ data/SampleH ┆ 27ae426a89e ┆ 42ef979ea2a ┆ ng          ┆ d0214eda4fb ┆             │\n",
       "│             ┆ DS.json      ┆ 76a12b9160… ┆ 782541ad05… ┆             ┆ 454447162b… ┆             │\n",
       "│ 0.718982    ┆ ../../../../ ┆ c2d492f9a05 ┆ af486bc1815 ┆ BasicChecki ┆ 1cd082ecbd5 ┆ Accepted    │\n",
       "│             ┆ data/SampleH ┆ 07327c14285 ┆ c726c357890 ┆ ng          ┆ dd95383b104 ┆             │\n",
       "│             ┆ DS.json      ┆ e94e8ee54c… ┆ ac2a40ba98… ┆             ┆ 65e395c1f7… ┆             │\n",
       "│ 0.0         ┆ ../../../../ ┆ b2105922160 ┆ 806ef34eb82 ┆ UPlusFinPer ┆ null        ┆ Rejected    │\n",
       "│             ┆ data/SampleH ┆ 5c49757cfe0 ┆ 37f4db85004 ┆ sonal       ┆             ┆             │\n",
       "│             ┆ DS.json      ┆ fee45640db… ┆ e96dc471d8… ┆             ┆             ┆             │\n",
       "│ 0.02333     ┆ ../../../../ ┆ 80cbe489dce ┆ 806ef34eb82 ┆ BasicChecki ┆ 1cd082ecbd5 ┆ Rejected    │\n",
       "│             ┆ data/SampleH ┆ cd4b9304898 ┆ 37f4db85004 ┆ ng          ┆ dd95383b104 ┆             │\n",
       "│             ┆ DS.json      ┆ c9986afeeb… ┆ e96dc471d8… ┆             ┆ 65e395c1f7… ┆             │\n",
       "└─────────────┴──────────────┴─────────────┴─────────────┴─────────────┴─────────────┴─────────────┘"
      ]
     },
     "execution_count": 14,
     "metadata": {},
     "output_type": "execute_result"
    }
   ],
   "source": [
    "from hashlib import sha3_256\n",
    "\n",
    "anon.process(algorithm=lambda x: sha3_256(x.encode()).hexdigest())"
   ]
  }
 ],
 "metadata": {
  "kernelspec": {
   "display_name": "Python 3",
   "language": "python",
   "name": "python3"
  },
  "language_info": {
   "codemirror_mode": {
    "name": "ipython",
    "version": 3
   },
   "file_extension": ".py",
   "mimetype": "text/x-python",
   "name": "python",
   "nbconvert_exporter": "python",
   "pygments_lexer": "ipython3",
   "version": "3.11.8"
  },
  "vscode": {
   "interpreter": {
    "hash": "aee8b7b246df8f9039afb4144a1f6fd8d2ca17a180786b69acc140d282b71a49"
   }
  }
 },
 "nbformat": 4,
 "nbformat_minor": 2
}
