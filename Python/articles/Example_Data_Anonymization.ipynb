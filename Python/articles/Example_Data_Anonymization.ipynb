{
 "cells": [
  {
   "attachments": {},
   "cell_type": "markdown",
   "metadata": {},
   "source": [
    "# Data Anonymization\n",
    "\n",
    "In Pega CDH 8.5 and up, it's now possible to record the historical data as seen by the Adaptive Models. See [this academy challenge](https://academy.pega.com/challenge/exporting-historical-data/v4) for reference. This historical data can be further used to experiment with offline models, but also to fine-tune the OOTB Gradient Boosting model. However, sharing this information with Pega can be sensitive as it contains raw predictor data. \n",
    "\n",
    "To this end, we provide a simple and transparent script to fully anonimize this dataset.\n",
    "\n",
    "The DataAnonymization script is now part of pdstools, and you can import it directly as such."
   ]
  },
  {
   "cell_type": "code",
   "execution_count": 1,
   "metadata": {
    "execution": {
     "iopub.execute_input": "2023-12-20T14:17:45.163148Z",
     "iopub.status.busy": "2023-12-20T14:17:45.162621Z",
     "iopub.status.idle": "2023-12-20T14:17:45.231857Z",
     "shell.execute_reply": "2023-12-20T14:17:45.231333Z"
    },
    "nbsphinx": "hidden"
   },
   "outputs": [],
   "source": [
    "# These lines are only for rendering in the docs, and are hidden through Jupyter tags\n",
    "# Do not run if you're running the notebook seperately\n",
    "\n",
    "import os  \n",
    "import sys\n",
    "import plotly.io as pio\n",
    "pio.renderers.default = \"notebook_connected\"\n",
    "\n",
    "sys.path.append(\"../../../\")\n",
    "sys.path.append('../../python')"
   ]
  },
  {
   "cell_type": "code",
   "execution_count": 2,
   "metadata": {
    "execution": {
     "iopub.execute_input": "2023-12-20T14:17:45.234374Z",
     "iopub.status.busy": "2023-12-20T14:17:45.234016Z",
     "iopub.status.idle": "2023-12-20T14:17:46.227936Z",
     "shell.execute_reply": "2023-12-20T14:17:46.227459Z"
    }
   },
   "outputs": [],
   "source": [
    "from pdstools import ADMDatamart\n",
    "from pdstools import Config, DataAnonymization\n",
    "import polars as pl"
   ]
  },
  {
   "attachments": {},
   "cell_type": "markdown",
   "metadata": {},
   "source": [
    "## Input data\n",
    "\n",
    "To demonstrate this process, we're going to anonymise this toy example dataframe:"
   ]
  },
  {
   "cell_type": "code",
   "execution_count": 3,
   "metadata": {
    "execution": {
     "iopub.execute_input": "2023-12-20T14:17:46.230427Z",
     "iopub.status.busy": "2023-12-20T14:17:46.230143Z",
     "iopub.status.idle": "2023-12-20T14:17:46.239281Z",
     "shell.execute_reply": "2023-12-20T14:17:46.238782Z"
    }
   },
   "outputs": [
    {
     "data": {
      "text/html": [
       "<div><style>\n",
       ".dataframe > thead > tr,\n",
       ".dataframe > tbody > tr {\n",
       "  text-align: right;\n",
       "  white-space: pre-wrap;\n",
       "}\n",
       "</style>\n",
       "<small>shape: (7, 6)</small><table border=\"1\" class=\"dataframe\"><thead><tr><th>Context_Name</th><th>Customer_MaritalStatus</th><th>Customer_CLV</th><th>Customer_City</th><th>IH_Web_Inbound_Accepted_pxLastGroupID</th><th>Decision_Outcome</th></tr><tr><td>str</td><td>str</td><td>i64</td><td>str</td><td>str</td><td>str</td></tr></thead><tbody><tr><td>&quot;FirstMortgage3…</td><td>&quot;Married&quot;</td><td>1460</td><td>&quot;Port Raoul&quot;</td><td>&quot;Account&quot;</td><td>&quot;Rejected&quot;</td></tr><tr><td>&quot;FirstMortgage3…</td><td>&quot;Unknown&quot;</td><td>669</td><td>&quot;Laurianneshire…</td><td>&quot;AutoLoans&quot;</td><td>&quot;Accepted&quot;</td></tr><tr><td>&quot;MoneyMarketSav…</td><td>&quot;No Resp+&quot;</td><td>1174</td><td>&quot;Jacobshaven&quot;</td><td>&quot;Account&quot;</td><td>&quot;Rejected&quot;</td></tr><tr><td>&quot;BasicChecking&quot;</td><td>&quot;Unknown&quot;</td><td>1476</td><td>&quot;Lindton&quot;</td><td>&quot;Account&quot;</td><td>&quot;Rejected&quot;</td></tr><tr><td>&quot;BasicChecking&quot;</td><td>&quot;Married&quot;</td><td>1211</td><td>&quot;South Jimmiesh…</td><td>&quot;DepositAccount…</td><td>&quot;Accepted&quot;</td></tr><tr><td>&quot;UPlusFinPerson…</td><td>&quot;No Resp+&quot;</td><td>533</td><td>&quot;Bergeville&quot;</td><td>null</td><td>&quot;Rejected&quot;</td></tr><tr><td>&quot;BasicChecking&quot;</td><td>&quot;No Resp+&quot;</td><td>555</td><td>&quot;Willyville&quot;</td><td>&quot;DepositAccount…</td><td>&quot;Rejected&quot;</td></tr></tbody></table></div>"
      ],
      "text/plain": [
       "shape: (7, 6)\n",
       "┌────────────────┬────────────────┬──────────────┬────────────────┬────────────────┬───────────────┐\n",
       "│ Context_Name   ┆ Customer_Marit ┆ Customer_CLV ┆ Customer_City  ┆ IH_Web_Inbound ┆ Decision_Outc │\n",
       "│ ---            ┆ alStatus       ┆ ---          ┆ ---            ┆ _Accepted_pxLa ┆ ome           │\n",
       "│ str            ┆ ---            ┆ i64          ┆ str            ┆ stGr…          ┆ ---           │\n",
       "│                ┆ str            ┆              ┆                ┆ ---            ┆ str           │\n",
       "│                ┆                ┆              ┆                ┆ str            ┆               │\n",
       "╞════════════════╪════════════════╪══════════════╪════════════════╪════════════════╪═══════════════╡\n",
       "│ FirstMortgage3 ┆ Married        ┆ 1460         ┆ Port Raoul     ┆ Account        ┆ Rejected      │\n",
       "│ 0yr            ┆                ┆              ┆                ┆                ┆               │\n",
       "│ FirstMortgage3 ┆ Unknown        ┆ 669          ┆ Laurianneshire ┆ AutoLoans      ┆ Accepted      │\n",
       "│ 0yr            ┆                ┆              ┆                ┆                ┆               │\n",
       "│ MoneyMarketSav ┆ No Resp+       ┆ 1174         ┆ Jacobshaven    ┆ Account        ┆ Rejected      │\n",
       "│ ingsAccount    ┆                ┆              ┆                ┆                ┆               │\n",
       "│ BasicChecking  ┆ Unknown        ┆ 1476         ┆ Lindton        ┆ Account        ┆ Rejected      │\n",
       "│ BasicChecking  ┆ Married        ┆ 1211         ┆ South          ┆ DepositAccount ┆ Accepted      │\n",
       "│                ┆                ┆              ┆ Jimmieshire    ┆ s              ┆               │\n",
       "│ UPlusFinPerson ┆ No Resp+       ┆ 533          ┆ Bergeville     ┆ null           ┆ Rejected      │\n",
       "│ al             ┆                ┆              ┆                ┆                ┆               │\n",
       "│ BasicChecking  ┆ No Resp+       ┆ 555          ┆ Willyville     ┆ DepositAccount ┆ Rejected      │\n",
       "│                ┆                ┆              ┆                ┆ s              ┆               │\n",
       "└────────────────┴────────────────┴──────────────┴────────────────┴────────────────┴───────────────┘"
      ]
     },
     "execution_count": 3,
     "metadata": {},
     "output_type": "execute_result"
    }
   ],
   "source": [
    "pl.read_ndjson('../../../../data/SampleHDS.json')"
   ]
  },
  {
   "attachments": {},
   "cell_type": "markdown",
   "metadata": {},
   "source": [
    "As you can see, this dataset consists of regular predictors, IH predictors, context keys and the outcome column. Additionally, some columns are numeric, others are strings. Let's first initialize the DataAnonymization class."
   ]
  },
  {
   "cell_type": "code",
   "execution_count": 4,
   "metadata": {
    "execution": {
     "iopub.execute_input": "2023-12-20T14:17:46.241371Z",
     "iopub.status.busy": "2023-12-20T14:17:46.241046Z",
     "iopub.status.idle": "2023-12-20T14:17:46.247511Z",
     "shell.execute_reply": "2023-12-20T14:17:46.247114Z"
    }
   },
   "outputs": [],
   "source": [
    "anon = DataAnonymization(hds_folder='../../../../data/')"
   ]
  },
  {
   "attachments": {},
   "cell_type": "markdown",
   "metadata": {},
   "source": [
    "By default, the class applies a set of anonymisation techniques:\n",
    "- Column names are remapped to a non-descriptive name\n",
    "- Categorical values are hashed with a random seed\n",
    "- Numerical values are normalized between 0 and 1\n",
    "- Outcomes are mapped to a binary outcome.\n",
    "\n",
    "To apply these techniques, simply call `.process()`:"
   ]
  },
  {
   "cell_type": "code",
   "execution_count": 5,
   "metadata": {
    "execution": {
     "iopub.execute_input": "2023-12-20T14:17:46.249521Z",
     "iopub.status.busy": "2023-12-20T14:17:46.249196Z",
     "iopub.status.idle": "2023-12-20T14:17:46.254973Z",
     "shell.execute_reply": "2023-12-20T14:17:46.254530Z"
    }
   },
   "outputs": [
    {
     "data": {
      "text/html": [
       "<div><style>\n",
       ".dataframe > thead > tr,\n",
       ".dataframe > tbody > tr {\n",
       "  text-align: right;\n",
       "  white-space: pre-wrap;\n",
       "}\n",
       "</style>\n",
       "<small>shape: (7, 7)</small><table border=\"1\" class=\"dataframe\"><thead><tr><th>PREDICTOR_0</th><th>filename</th><th>PREDICTOR_2</th><th>PREDICTOR_3</th><th>Context_Name</th><th>IH_PREDICTOR_0</th><th>Decision_Outcome</th></tr><tr><td>str</td><td>str</td><td>f64</td><td>str</td><td>str</td><td>str</td><td>bool</td></tr></thead><tbody><tr><td>&quot;18230401277205…</td><td>&quot;../../../../da…</td><td>0.983033</td><td>&quot;15045121443104…</td><td>&quot;13241794685013…</td><td>&quot;94222233410073…</td><td>false</td></tr><tr><td>&quot;16033935980634…</td><td>&quot;../../../../da…</td><td>0.144221</td><td>&quot;85284515543563…</td><td>&quot;13241794685013…</td><td>&quot;46731001084018…</td><td>true</td></tr><tr><td>&quot;74647538086818…</td><td>&quot;../../../../da…</td><td>0.679745</td><td>&quot;45427490618953…</td><td>&quot;52492652953686…</td><td>&quot;94222233410073…</td><td>false</td></tr><tr><td>&quot;14538694201987…</td><td>&quot;../../../../da…</td><td>1.0</td><td>&quot;85284515543563…</td><td>&quot;26103756510234…</td><td>&quot;94222233410073…</td><td>false</td></tr><tr><td>&quot;14991480644097…</td><td>&quot;../../../../da…</td><td>0.718982</td><td>&quot;15045121443104…</td><td>&quot;26103756510234…</td><td>&quot;55632385340511…</td><td>true</td></tr><tr><td>&quot;13796615250506…</td><td>&quot;../../../../da…</td><td>0.0</td><td>&quot;45427490618953…</td><td>&quot;41766019574853…</td><td>null</td><td>false</td></tr><tr><td>&quot;15394687642812…</td><td>&quot;../../../../da…</td><td>0.02333</td><td>&quot;45427490618953…</td><td>&quot;26103756510234…</td><td>&quot;55632385340511…</td><td>false</td></tr></tbody></table></div>"
      ],
      "text/plain": [
       "shape: (7, 7)\n",
       "┌──────────────┬─────────────┬─────────────┬─────────────┬─────────────┬─────────────┬─────────────┐\n",
       "│ PREDICTOR_0  ┆ filename    ┆ PREDICTOR_2 ┆ PREDICTOR_3 ┆ Context_Nam ┆ IH_PREDICTO ┆ Decision_Ou │\n",
       "│ ---          ┆ ---         ┆ ---         ┆ ---         ┆ e           ┆ R_0         ┆ tcome       │\n",
       "│ str          ┆ str         ┆ f64         ┆ str         ┆ ---         ┆ ---         ┆ ---         │\n",
       "│              ┆             ┆             ┆             ┆ str         ┆ str         ┆ bool        │\n",
       "╞══════════════╪═════════════╪═════════════╪═════════════╪═════════════╪═════════════╪═════════════╡\n",
       "│ 182304012772 ┆ ../../../.. ┆ 0.983033    ┆ 15045121443 ┆ 13241794685 ┆ 94222233410 ┆ false       │\n",
       "│ 05799174     ┆ /data/Sampl ┆             ┆ 104432846   ┆ 013932255   ┆ 07351733    ┆             │\n",
       "│              ┆ eHDS.json   ┆             ┆             ┆             ┆             ┆             │\n",
       "│ 160339359806 ┆ ../../../.. ┆ 0.144221    ┆ 85284515543 ┆ 13241794685 ┆ 46731001084 ┆ true        │\n",
       "│ 34280858     ┆ /data/Sampl ┆             ┆ 56328881    ┆ 013932255   ┆ 0185677     ┆             │\n",
       "│              ┆ eHDS.json   ┆             ┆             ┆             ┆             ┆             │\n",
       "│ 746475380868 ┆ ../../../.. ┆ 0.679745    ┆ 45427490618 ┆ 52492652953 ┆ 94222233410 ┆ false       │\n",
       "│ 188107       ┆ /data/Sampl ┆             ┆ 9539889     ┆ 68621882    ┆ 07351733    ┆             │\n",
       "│              ┆ eHDS.json   ┆             ┆             ┆             ┆             ┆             │\n",
       "│ 145386942019 ┆ ../../../.. ┆ 1.0         ┆ 85284515543 ┆ 26103756510 ┆ 94222233410 ┆ false       │\n",
       "│ 87156931     ┆ /data/Sampl ┆             ┆ 56328881    ┆ 23481339    ┆ 07351733    ┆             │\n",
       "│              ┆ eHDS.json   ┆             ┆             ┆             ┆             ┆             │\n",
       "│ 149914806440 ┆ ../../../.. ┆ 0.718982    ┆ 15045121443 ┆ 26103756510 ┆ 55632385340 ┆ true        │\n",
       "│ 97474333     ┆ /data/Sampl ┆             ┆ 104432846   ┆ 23481339    ┆ 51134136    ┆             │\n",
       "│              ┆ eHDS.json   ┆             ┆             ┆             ┆             ┆             │\n",
       "│ 137966152505 ┆ ../../../.. ┆ 0.0         ┆ 45427490618 ┆ 41766019574 ┆ null        ┆ false       │\n",
       "│ 06193006     ┆ /data/Sampl ┆             ┆ 9539889     ┆ 85391779    ┆             ┆             │\n",
       "│              ┆ eHDS.json   ┆             ┆             ┆             ┆             ┆             │\n",
       "│ 153946876428 ┆ ../../../.. ┆ 0.02333     ┆ 45427490618 ┆ 26103756510 ┆ 55632385340 ┆ false       │\n",
       "│ 12667535     ┆ /data/Sampl ┆             ┆ 9539889     ┆ 23481339    ┆ 51134136    ┆             │\n",
       "│              ┆ eHDS.json   ┆             ┆             ┆             ┆             ┆             │\n",
       "└──────────────┴─────────────┴─────────────┴─────────────┴─────────────┴─────────────┴─────────────┘"
      ]
     },
     "execution_count": 5,
     "metadata": {},
     "output_type": "execute_result"
    }
   ],
   "source": [
    "anon.process()"
   ]
  },
  {
   "attachments": {},
   "cell_type": "markdown",
   "metadata": {},
   "source": [
    "To trace back the columns to their original names, the class also contains a mapping, which does not have to be provided."
   ]
  },
  {
   "cell_type": "code",
   "execution_count": 6,
   "metadata": {
    "execution": {
     "iopub.execute_input": "2023-12-20T14:17:46.256907Z",
     "iopub.status.busy": "2023-12-20T14:17:46.256588Z",
     "iopub.status.idle": "2023-12-20T14:17:46.260191Z",
     "shell.execute_reply": "2023-12-20T14:17:46.259642Z"
    }
   },
   "outputs": [
    {
     "data": {
      "text/plain": [
       "{'Customer_City': 'PREDICTOR_0',\n",
       " 'filename': 'filename',\n",
       " 'Customer_CLV': 'PREDICTOR_2',\n",
       " 'Customer_MaritalStatus': 'PREDICTOR_3',\n",
       " 'Context_Name': 'Context_Name',\n",
       " 'IH_Web_Inbound_Accepted_pxLastGroupID': 'IH_PREDICTOR_0',\n",
       " 'Decision_Outcome': 'Decision_Outcome'}"
      ]
     },
     "execution_count": 6,
     "metadata": {},
     "output_type": "execute_result"
    }
   ],
   "source": [
    "anon.column_mapping"
   ]
  },
  {
   "attachments": {},
   "cell_type": "markdown",
   "metadata": {},
   "source": [
    "## Configs\n",
    "\n",
    "Each capability can optionally be turned off - see below for the full list of config options, and refer to the API reference for the full description."
   ]
  },
  {
   "cell_type": "code",
   "execution_count": 7,
   "metadata": {
    "execution": {
     "iopub.execute_input": "2023-12-20T14:17:46.262160Z",
     "iopub.status.busy": "2023-12-20T14:17:46.261830Z",
     "iopub.status.idle": "2023-12-20T14:17:46.265792Z",
     "shell.execute_reply": "2023-12-20T14:17:46.265279Z"
    }
   },
   "outputs": [
    {
     "data": {
      "text/plain": [
       "{'config_file': None,\n",
       " 'hds_folder': '.',\n",
       " 'use_datamart': False,\n",
       " 'datamart_folder': 'datamart',\n",
       " 'output_format': 'ndjson',\n",
       " 'output_folder': 'output',\n",
       " 'mapping_file': 'mapping.map',\n",
       " 'mask_predictor_names': True,\n",
       " 'mask_context_key_names': False,\n",
       " 'mask_ih_names': True,\n",
       " 'mask_outcome_name': False,\n",
       " 'mask_predictor_values': True,\n",
       " 'mask_context_key_values': True,\n",
       " 'mask_ih_values': True,\n",
       " 'mask_outcome_values': True,\n",
       " 'context_key_label': 'Context_*',\n",
       " 'ih_label': 'IH_*',\n",
       " 'outcome_column': 'Decision_Outcome',\n",
       " 'positive_outcomes': ['Accepted', 'Clicked'],\n",
       " 'negative_outcomes': ['Rejected', 'Impression'],\n",
       " 'special_predictors': ['Decision_DecisionTime',\n",
       "  'Decision_OutcomeTime',\n",
       "  'Decision_Rank'],\n",
       " 'sample_percentage_schema_inferencing': 0.01}"
      ]
     },
     "execution_count": 7,
     "metadata": {},
     "output_type": "execute_result"
    }
   ],
   "source": [
    "dict(zip(Config.__init__.__code__.co_varnames[1:], Config.__init__.__defaults__))"
   ]
  },
  {
   "attachments": {},
   "cell_type": "markdown",
   "metadata": {},
   "source": [
    "It's easy to change these parameters by just passing the keyword arguments. In the following example, we\n",
    "- Keep the IH predictor names\n",
    "- Keep the outcome values\n",
    "- Keep the context key values\n",
    "- Keep the context key predictor names"
   ]
  },
  {
   "cell_type": "code",
   "execution_count": 8,
   "metadata": {
    "execution": {
     "iopub.execute_input": "2023-12-20T14:17:46.267876Z",
     "iopub.status.busy": "2023-12-20T14:17:46.267453Z",
     "iopub.status.idle": "2023-12-20T14:17:46.275058Z",
     "shell.execute_reply": "2023-12-20T14:17:46.274494Z"
    }
   },
   "outputs": [
    {
     "data": {
      "text/html": [
       "<div><style>\n",
       ".dataframe > thead > tr,\n",
       ".dataframe > tbody > tr {\n",
       "  text-align: right;\n",
       "  white-space: pre-wrap;\n",
       "}\n",
       "</style>\n",
       "<small>shape: (7, 7)</small><table border=\"1\" class=\"dataframe\"><thead><tr><th>PREDICTOR_0</th><th>filename</th><th>PREDICTOR_2</th><th>PREDICTOR_3</th><th>Context_Name</th><th>IH_Web_Inbound_Accepted_pxLastGroupID</th><th>Decision_Outcome</th></tr><tr><td>str</td><td>str</td><td>f64</td><td>str</td><td>str</td><td>str</td><td>str</td></tr></thead><tbody><tr><td>&quot;17461025767877…</td><td>&quot;../../../../da…</td><td>0.983033</td><td>&quot;84596884097457…</td><td>&quot;FirstMortgage3…</td><td>&quot;12669120635100…</td><td>&quot;Rejected&quot;</td></tr><tr><td>&quot;95858584796897…</td><td>&quot;../../../../da…</td><td>0.144221</td><td>&quot;92697825883121…</td><td>&quot;FirstMortgage3…</td><td>&quot;15038615897645…</td><td>&quot;Accepted&quot;</td></tr><tr><td>&quot;26603185664675…</td><td>&quot;../../../../da…</td><td>0.679745</td><td>&quot;35036618451052…</td><td>&quot;MoneyMarketSav…</td><td>&quot;12669120635100…</td><td>&quot;Rejected&quot;</td></tr><tr><td>&quot;57477757960930…</td><td>&quot;../../../../da…</td><td>1.0</td><td>&quot;92697825883121…</td><td>&quot;BasicChecking&quot;</td><td>&quot;12669120635100…</td><td>&quot;Rejected&quot;</td></tr><tr><td>&quot;47211480484296…</td><td>&quot;../../../../da…</td><td>0.718982</td><td>&quot;84596884097457…</td><td>&quot;BasicChecking&quot;</td><td>&quot;48533781320001…</td><td>&quot;Accepted&quot;</td></tr><tr><td>&quot;82328645391127…</td><td>&quot;../../../../da…</td><td>0.0</td><td>&quot;35036618451052…</td><td>&quot;UPlusFinPerson…</td><td>null</td><td>&quot;Rejected&quot;</td></tr><tr><td>&quot;70928557545467…</td><td>&quot;../../../../da…</td><td>0.02333</td><td>&quot;35036618451052…</td><td>&quot;BasicChecking&quot;</td><td>&quot;48533781320001…</td><td>&quot;Rejected&quot;</td></tr></tbody></table></div>"
      ],
      "text/plain": [
       "shape: (7, 7)\n",
       "┌──────────────┬─────────────┬─────────────┬─────────────┬─────────────┬─────────────┬─────────────┐\n",
       "│ PREDICTOR_0  ┆ filename    ┆ PREDICTOR_2 ┆ PREDICTOR_3 ┆ Context_Nam ┆ IH_Web_Inbo ┆ Decision_Ou │\n",
       "│ ---          ┆ ---         ┆ ---         ┆ ---         ┆ e           ┆ und_Accepte ┆ tcome       │\n",
       "│ str          ┆ str         ┆ f64         ┆ str         ┆ ---         ┆ d_pxLastGr… ┆ ---         │\n",
       "│              ┆             ┆             ┆             ┆ str         ┆ ---         ┆ str         │\n",
       "│              ┆             ┆             ┆             ┆             ┆ str         ┆             │\n",
       "╞══════════════╪═════════════╪═════════════╪═════════════╪═════════════╪═════════════╪═════════════╡\n",
       "│ 174610257678 ┆ ../../../.. ┆ 0.983033    ┆ 84596884097 ┆ FirstMortga ┆ 12669120635 ┆ Rejected    │\n",
       "│ 77701183     ┆ /data/Sampl ┆             ┆ 45709155    ┆ ge30yr      ┆ 100340698   ┆             │\n",
       "│              ┆ eHDS.json   ┆             ┆             ┆             ┆             ┆             │\n",
       "│ 958585847968 ┆ ../../../.. ┆ 0.144221    ┆ 92697825883 ┆ FirstMortga ┆ 15038615897 ┆ Accepted    │\n",
       "│ 9740550      ┆ /data/Sampl ┆             ┆ 12137392    ┆ ge30yr      ┆ 645122826   ┆             │\n",
       "│              ┆ eHDS.json   ┆             ┆             ┆             ┆             ┆             │\n",
       "│ 266031856646 ┆ ../../../.. ┆ 0.679745    ┆ 35036618451 ┆ MoneyMarket ┆ 12669120635 ┆ Rejected    │\n",
       "│ 7592524      ┆ /data/Sampl ┆             ┆ 05234072    ┆ SavingsAcco ┆ 100340698   ┆             │\n",
       "│              ┆ eHDS.json   ┆             ┆             ┆ unt         ┆             ┆             │\n",
       "│ 574777579609 ┆ ../../../.. ┆ 1.0         ┆ 92697825883 ┆ BasicChecki ┆ 12669120635 ┆ Rejected    │\n",
       "│ 3069664      ┆ /data/Sampl ┆             ┆ 12137392    ┆ ng          ┆ 100340698   ┆             │\n",
       "│              ┆ eHDS.json   ┆             ┆             ┆             ┆             ┆             │\n",
       "│ 472114804842 ┆ ../../../.. ┆ 0.718982    ┆ 84596884097 ┆ BasicChecki ┆ 48533781320 ┆ Accepted    │\n",
       "│ 9670100      ┆ /data/Sampl ┆             ┆ 45709155    ┆ ng          ┆ 0017096     ┆             │\n",
       "│              ┆ eHDS.json   ┆             ┆             ┆             ┆             ┆             │\n",
       "│ 823286453911 ┆ ../../../.. ┆ 0.0         ┆ 35036618451 ┆ UPlusFinPer ┆ null        ┆ Rejected    │\n",
       "│ 2797945      ┆ /data/Sampl ┆             ┆ 05234072    ┆ sonal       ┆             ┆             │\n",
       "│              ┆ eHDS.json   ┆             ┆             ┆             ┆             ┆             │\n",
       "│ 709285575454 ┆ ../../../.. ┆ 0.02333     ┆ 35036618451 ┆ BasicChecki ┆ 48533781320 ┆ Rejected    │\n",
       "│ 674668       ┆ /data/Sampl ┆             ┆ 05234072    ┆ ng          ┆ 0017096     ┆             │\n",
       "│              ┆ eHDS.json   ┆             ┆             ┆             ┆             ┆             │\n",
       "└──────────────┴─────────────┴─────────────┴─────────────┴─────────────┴─────────────┴─────────────┘"
      ]
     },
     "execution_count": 8,
     "metadata": {},
     "output_type": "execute_result"
    }
   ],
   "source": [
    "anon = DataAnonymization(\n",
    "    hds_folder=\"../../../../data/\",\n",
    "    mask_ih_names=False,\n",
    "    mask_outcome_values=False,\n",
    "    mask_context_key_values=False,\n",
    "    mask_context_key_names=False,\n",
    ")\n",
    "anon.process()\n"
   ]
  },
  {
   "attachments": {},
   "cell_type": "markdown",
   "metadata": {},
   "source": [
    "The configs can also be written and read as such:"
   ]
  },
  {
   "cell_type": "code",
   "execution_count": 9,
   "metadata": {
    "execution": {
     "iopub.execute_input": "2023-12-20T14:17:46.277035Z",
     "iopub.status.busy": "2023-12-20T14:17:46.276720Z",
     "iopub.status.idle": "2023-12-20T14:17:46.279415Z",
     "shell.execute_reply": "2023-12-20T14:17:46.278995Z"
    }
   },
   "outputs": [],
   "source": [
    "anon.config.save_to_config_file('config.json')"
   ]
  },
  {
   "cell_type": "code",
   "execution_count": 10,
   "metadata": {
    "execution": {
     "iopub.execute_input": "2023-12-20T14:17:46.281168Z",
     "iopub.status.busy": "2023-12-20T14:17:46.281008Z",
     "iopub.status.idle": "2023-12-20T14:17:46.289026Z",
     "shell.execute_reply": "2023-12-20T14:17:46.288486Z"
    }
   },
   "outputs": [
    {
     "data": {
      "text/html": [
       "<div><style>\n",
       ".dataframe > thead > tr,\n",
       ".dataframe > tbody > tr {\n",
       "  text-align: right;\n",
       "  white-space: pre-wrap;\n",
       "}\n",
       "</style>\n",
       "<small>shape: (7, 7)</small><table border=\"1\" class=\"dataframe\"><thead><tr><th>PREDICTOR_0</th><th>filename</th><th>PREDICTOR_2</th><th>PREDICTOR_3</th><th>Context_Name</th><th>IH_Web_Inbound_Accepted_pxLastGroupID</th><th>Decision_Outcome</th></tr><tr><td>str</td><td>str</td><td>f64</td><td>str</td><td>str</td><td>str</td><td>str</td></tr></thead><tbody><tr><td>&quot;99237720360233…</td><td>&quot;../../../../da…</td><td>0.983033</td><td>&quot;13235136263636…</td><td>&quot;FirstMortgage3…</td><td>&quot;36855300967555…</td><td>&quot;Rejected&quot;</td></tr><tr><td>&quot;17374838874684…</td><td>&quot;../../../../da…</td><td>0.144221</td><td>&quot;13921839255404…</td><td>&quot;FirstMortgage3…</td><td>&quot;15703949077309…</td><td>&quot;Accepted&quot;</td></tr><tr><td>&quot;19019558796776…</td><td>&quot;../../../../da…</td><td>0.679745</td><td>&quot;15685291931819…</td><td>&quot;MoneyMarketSav…</td><td>&quot;36855300967555…</td><td>&quot;Rejected&quot;</td></tr><tr><td>&quot;13007456445199…</td><td>&quot;../../../../da…</td><td>1.0</td><td>&quot;13921839255404…</td><td>&quot;BasicChecking&quot;</td><td>&quot;36855300967555…</td><td>&quot;Rejected&quot;</td></tr><tr><td>&quot;31991447106417…</td><td>&quot;../../../../da…</td><td>0.718982</td><td>&quot;13235136263636…</td><td>&quot;BasicChecking&quot;</td><td>&quot;37830296464809…</td><td>&quot;Accepted&quot;</td></tr><tr><td>&quot;38658239521581…</td><td>&quot;../../../../da…</td><td>0.0</td><td>&quot;15685291931819…</td><td>&quot;UPlusFinPerson…</td><td>null</td><td>&quot;Rejected&quot;</td></tr><tr><td>&quot;21153313054748…</td><td>&quot;../../../../da…</td><td>0.02333</td><td>&quot;15685291931819…</td><td>&quot;BasicChecking&quot;</td><td>&quot;37830296464809…</td><td>&quot;Rejected&quot;</td></tr></tbody></table></div>"
      ],
      "text/plain": [
       "shape: (7, 7)\n",
       "┌──────────────┬─────────────┬─────────────┬─────────────┬─────────────┬─────────────┬─────────────┐\n",
       "│ PREDICTOR_0  ┆ filename    ┆ PREDICTOR_2 ┆ PREDICTOR_3 ┆ Context_Nam ┆ IH_Web_Inbo ┆ Decision_Ou │\n",
       "│ ---          ┆ ---         ┆ ---         ┆ ---         ┆ e           ┆ und_Accepte ┆ tcome       │\n",
       "│ str          ┆ str         ┆ f64         ┆ str         ┆ ---         ┆ d_pxLastGr… ┆ ---         │\n",
       "│              ┆             ┆             ┆             ┆ str         ┆ ---         ┆ str         │\n",
       "│              ┆             ┆             ┆             ┆             ┆ str         ┆             │\n",
       "╞══════════════╪═════════════╪═════════════╪═════════════╪═════════════╪═════════════╪═════════════╡\n",
       "│ 992377203602 ┆ ../../../.. ┆ 0.983033    ┆ 13235136263 ┆ FirstMortga ┆ 36855300967 ┆ Rejected    │\n",
       "│ 3380118      ┆ /data/Sampl ┆             ┆ 636590212   ┆ ge30yr      ┆ 5550004     ┆             │\n",
       "│              ┆ eHDS.json   ┆             ┆             ┆             ┆             ┆             │\n",
       "│ 173748388746 ┆ ../../../.. ┆ 0.144221    ┆ 13921839255 ┆ FirstMortga ┆ 15703949077 ┆ Accepted    │\n",
       "│ 84420149     ┆ /data/Sampl ┆             ┆ 404828313   ┆ ge30yr      ┆ 309833054   ┆             │\n",
       "│              ┆ eHDS.json   ┆             ┆             ┆             ┆             ┆             │\n",
       "│ 190195587967 ┆ ../../../.. ┆ 0.679745    ┆ 15685291931 ┆ MoneyMarket ┆ 36855300967 ┆ Rejected    │\n",
       "│ 7612200      ┆ /data/Sampl ┆             ┆ 819603660   ┆ SavingsAcco ┆ 5550004     ┆             │\n",
       "│              ┆ eHDS.json   ┆             ┆             ┆ unt         ┆             ┆             │\n",
       "│ 130074564451 ┆ ../../../.. ┆ 1.0         ┆ 13921839255 ┆ BasicChecki ┆ 36855300967 ┆ Rejected    │\n",
       "│ 99410611     ┆ /data/Sampl ┆             ┆ 404828313   ┆ ng          ┆ 5550004     ┆             │\n",
       "│              ┆ eHDS.json   ┆             ┆             ┆             ┆             ┆             │\n",
       "│ 319914471064 ┆ ../../../.. ┆ 0.718982    ┆ 13235136263 ┆ BasicChecki ┆ 37830296464 ┆ Accepted    │\n",
       "│ 1725155      ┆ /data/Sampl ┆             ┆ 636590212   ┆ ng          ┆ 80936386    ┆             │\n",
       "│              ┆ eHDS.json   ┆             ┆             ┆             ┆             ┆             │\n",
       "│ 386582395215 ┆ ../../../.. ┆ 0.0         ┆ 15685291931 ┆ UPlusFinPer ┆ null        ┆ Rejected    │\n",
       "│ 8114214      ┆ /data/Sampl ┆             ┆ 819603660   ┆ sonal       ┆             ┆             │\n",
       "│              ┆ eHDS.json   ┆             ┆             ┆             ┆             ┆             │\n",
       "│ 211533130547 ┆ ../../../.. ┆ 0.02333     ┆ 15685291931 ┆ BasicChecki ┆ 37830296464 ┆ Rejected    │\n",
       "│ 483752       ┆ /data/Sampl ┆             ┆ 819603660   ┆ ng          ┆ 80936386    ┆             │\n",
       "│              ┆ eHDS.json   ┆             ┆             ┆             ┆             ┆             │\n",
       "└──────────────┴─────────────┴─────────────┴─────────────┴─────────────┴─────────────┴─────────────┘"
      ]
     },
     "execution_count": 10,
     "metadata": {},
     "output_type": "execute_result"
    }
   ],
   "source": [
    "anon = DataAnonymization(config=Config(config_file='config.json'))\n",
    "anon.process()"
   ]
  },
  {
   "attachments": {},
   "cell_type": "markdown",
   "metadata": {},
   "source": [
    "## Exporting\n",
    "Two functions export:\n",
    "- `create_mapping_file()` writes the mapping file of the predictor names\n",
    "- `write_to_output()` writes the processed dataframe to disk\n",
    "\n",
    "Write to output accepts the following extensions: `[\"ndjson\", \"parquet\", \"arrow\", \"csv\"]`"
   ]
  },
  {
   "cell_type": "code",
   "execution_count": 11,
   "metadata": {
    "execution": {
     "iopub.execute_input": "2023-12-20T14:17:46.291283Z",
     "iopub.status.busy": "2023-12-20T14:17:46.290893Z",
     "iopub.status.idle": "2023-12-20T14:17:46.294396Z",
     "shell.execute_reply": "2023-12-20T14:17:46.293861Z"
    }
   },
   "outputs": [
    {
     "name": "stdout",
     "output_type": "stream",
     "text": [
      "Customer_City=PREDICTOR_0\n",
      "filename=filename\n",
      "Customer_CLV=PREDICTOR_2\n",
      "Customer_MaritalStatus=PREDICTOR_3\n",
      "Context_Name=Context_Name\n",
      "IH_Web_Inbound_Accepted_pxLastGroupID=IH_Web_Inbound_Accepted_pxLastGroupID\n",
      "Decision_Outcome=Decision_Outcome\n",
      "\n"
     ]
    }
   ],
   "source": [
    "anon.create_mapping_file()\n",
    "with open('mapping.map') as f:\n",
    "    print(f.read())"
   ]
  },
  {
   "cell_type": "code",
   "execution_count": 12,
   "metadata": {
    "execution": {
     "iopub.execute_input": "2023-12-20T14:17:46.296251Z",
     "iopub.status.busy": "2023-12-20T14:17:46.295974Z",
     "iopub.status.idle": "2023-12-20T14:17:46.299464Z",
     "shell.execute_reply": "2023-12-20T14:17:46.299055Z"
    }
   },
   "outputs": [],
   "source": [
    "anon.write_to_output(ext='arrow')"
   ]
  },
  {
   "cell_type": "code",
   "execution_count": 13,
   "metadata": {
    "execution": {
     "iopub.execute_input": "2023-12-20T14:17:46.301369Z",
     "iopub.status.busy": "2023-12-20T14:17:46.301078Z",
     "iopub.status.idle": "2023-12-20T14:17:46.305388Z",
     "shell.execute_reply": "2023-12-20T14:17:46.304879Z"
    }
   },
   "outputs": [
    {
     "data": {
      "text/html": [
       "<div><style>\n",
       ".dataframe > thead > tr,\n",
       ".dataframe > tbody > tr {\n",
       "  text-align: right;\n",
       "  white-space: pre-wrap;\n",
       "}\n",
       "</style>\n",
       "<small>shape: (7, 6)</small><table border=\"1\" class=\"dataframe\"><thead><tr><th>PREDICTOR_0</th><th>PREDICTOR_2</th><th>PREDICTOR_3</th><th>Context_Name</th><th>IH_Web_Inbound_Accepted_pxLastGroupID</th><th>Decision_Outcome</th></tr><tr><td>str</td><td>f64</td><td>str</td><td>str</td><td>str</td><td>str</td></tr></thead><tbody><tr><td>&quot;17365703334939…</td><td>0.983033</td><td>&quot;16749446200245…</td><td>&quot;FirstMortgage3…</td><td>&quot;97007343656452…</td><td>&quot;Rejected&quot;</td></tr><tr><td>&quot;15186627092586…</td><td>0.144221</td><td>&quot;70803600115574…</td><td>&quot;FirstMortgage3…</td><td>&quot;15866242989268…</td><td>&quot;Accepted&quot;</td></tr><tr><td>&quot;10581512266795…</td><td>0.679745</td><td>&quot;16977705343030…</td><td>&quot;MoneyMarketSav…</td><td>&quot;97007343656452…</td><td>&quot;Rejected&quot;</td></tr><tr><td>&quot;69388596778533…</td><td>1.0</td><td>&quot;70803600115574…</td><td>&quot;BasicChecking&quot;</td><td>&quot;97007343656452…</td><td>&quot;Rejected&quot;</td></tr><tr><td>&quot;15602511724838…</td><td>0.718982</td><td>&quot;16749446200245…</td><td>&quot;BasicChecking&quot;</td><td>&quot;68338176198180…</td><td>&quot;Accepted&quot;</td></tr><tr><td>&quot;73353172274930…</td><td>0.0</td><td>&quot;16977705343030…</td><td>&quot;UPlusFinPerson…</td><td>null</td><td>&quot;Rejected&quot;</td></tr><tr><td>&quot;28674699094310…</td><td>0.02333</td><td>&quot;16977705343030…</td><td>&quot;BasicChecking&quot;</td><td>&quot;68338176198180…</td><td>&quot;Rejected&quot;</td></tr></tbody></table></div>"
      ],
      "text/plain": [
       "shape: (7, 6)\n",
       "┌────────────────┬─────────────┬────────────────┬────────────────┬────────────────┬────────────────┐\n",
       "│ PREDICTOR_0    ┆ PREDICTOR_2 ┆ PREDICTOR_3    ┆ Context_Name   ┆ IH_Web_Inbound ┆ Decision_Outco │\n",
       "│ ---            ┆ ---         ┆ ---            ┆ ---            ┆ _Accepted_pxLa ┆ me             │\n",
       "│ str            ┆ f64         ┆ str            ┆ str            ┆ stGr…          ┆ ---            │\n",
       "│                ┆             ┆                ┆                ┆ ---            ┆ str            │\n",
       "│                ┆             ┆                ┆                ┆ str            ┆                │\n",
       "╞════════════════╪═════════════╪════════════════╪════════════════╪════════════════╪════════════════╡\n",
       "│ 17365703334939 ┆ 0.983033    ┆ 16749446200245 ┆ FirstMortgage3 ┆ 97007343656452 ┆ Rejected       │\n",
       "│ 120234         ┆             ┆ 336461         ┆ 0yr            ┆ 41962          ┆                │\n",
       "│ 15186627092586 ┆ 0.144221    ┆ 70803600115574 ┆ FirstMortgage3 ┆ 15866242989268 ┆ Accepted       │\n",
       "│ 205831         ┆             ┆ 1085           ┆ 0yr            ┆ 811735         ┆                │\n",
       "│ 10581512266795 ┆ 0.679745    ┆ 16977705343030 ┆ MoneyMarketSav ┆ 97007343656452 ┆ Rejected       │\n",
       "│ 819209         ┆             ┆ 967757         ┆ ingsAccount    ┆ 41962          ┆                │\n",
       "│ 69388596778533 ┆ 1.0         ┆ 70803600115574 ┆ BasicChecking  ┆ 97007343656452 ┆ Rejected       │\n",
       "│ 08669          ┆             ┆ 1085           ┆                ┆ 41962          ┆                │\n",
       "│ 15602511724838 ┆ 0.718982    ┆ 16749446200245 ┆ BasicChecking  ┆ 68338176198180 ┆ Accepted       │\n",
       "│ 249788         ┆             ┆ 336461         ┆                ┆ 70157          ┆                │\n",
       "│ 73353172274930 ┆ 0.0         ┆ 16977705343030 ┆ UPlusFinPerson ┆ null           ┆ Rejected       │\n",
       "│ 45395          ┆             ┆ 967757         ┆ al             ┆                ┆                │\n",
       "│ 28674699094310 ┆ 0.02333     ┆ 16977705343030 ┆ BasicChecking  ┆ 68338176198180 ┆ Rejected       │\n",
       "│ 90502          ┆             ┆ 967757         ┆                ┆ 70157          ┆                │\n",
       "└────────────────┴─────────────┴────────────────┴────────────────┴────────────────┴────────────────┘"
      ]
     },
     "execution_count": 13,
     "metadata": {},
     "output_type": "execute_result"
    }
   ],
   "source": [
    "pl.read_ipc('output/hds.arrow')"
   ]
  },
  {
   "attachments": {},
   "cell_type": "markdown",
   "metadata": {
    "nbsphinx": "hidden"
   },
   "source": [
    "## Advanced: Hash fuctions\n",
    "\n",
    "By default, we use [the same hashing algorithm Polars](https://pola-rs.github.io/polars/py-polars/html/reference/expressions/api/polars.Expr.hash.html#polars.Expr.hash) uses: [xxhash](https://github.com/Cyan4973/xxHash), as implemented [here](https://github.com/pola-rs/polars/blob/3f287f370b3c388ed2f3f218b2c096382548136f/polars/polars-core/src/vector_hasher.rs#L266). xxhash is fast to compute, and you can check its performance in collision, dispersion and randomness [here](https://github.com/Cyan4973/xxHash/tree/dev/tests). \n",
    "\n",
    "xxhash accepts four distinct seeds, but by default we set the seeds to `0`. It is possible to set the `seed` argument of the `process()` function to `'random'`, which will set all four seeds to a random integer between `0` and `1000000000`. Alternatively, it is possible to supply the four seeds manually with arguments `seed`, `seed_1`, `seed_2` and `seed_3`. \n",
    "\n",
    "If the xxhash with (random) seed(s) is not deemed sufficiently secure, it is possible to use your own hashing algorithm.\n",
    "\n",
    "Note that since we're now running python code and not native Polars code anymore, this will be _significantly_ slower. Nonetheless, it is possible.\n",
    "\n",
    "Just as an example - this is how one would use sha3_256:"
   ]
  },
  {
   "cell_type": "code",
   "execution_count": 14,
   "metadata": {
    "execution": {
     "iopub.execute_input": "2023-12-20T14:17:46.307433Z",
     "iopub.status.busy": "2023-12-20T14:17:46.307118Z",
     "iopub.status.idle": "2023-12-20T14:17:46.314528Z",
     "shell.execute_reply": "2023-12-20T14:17:46.313973Z"
    },
    "nbsphinx": "hidden"
   },
   "outputs": [
    {
     "data": {
      "text/html": [
       "<div><style>\n",
       ".dataframe > thead > tr,\n",
       ".dataframe > tbody > tr {\n",
       "  text-align: right;\n",
       "  white-space: pre-wrap;\n",
       "}\n",
       "</style>\n",
       "<small>shape: (7, 7)</small><table border=\"1\" class=\"dataframe\"><thead><tr><th>PREDICTOR_0</th><th>filename</th><th>PREDICTOR_2</th><th>PREDICTOR_3</th><th>Context_Name</th><th>IH_Web_Inbound_Accepted_pxLastGroupID</th><th>Decision_Outcome</th></tr><tr><td>str</td><td>str</td><td>f64</td><td>str</td><td>str</td><td>str</td><td>str</td></tr></thead><tbody><tr><td>&quot;c73023dda51de1…</td><td>&quot;../../../../da…</td><td>0.983033</td><td>&quot;af486bc1815c72…</td><td>&quot;FirstMortgage3…</td><td>&quot;2513d0e24d8d02…</td><td>&quot;Rejected&quot;</td></tr><tr><td>&quot;5414b197fb87b3…</td><td>&quot;../../../../da…</td><td>0.144221</td><td>&quot;3cdf7b1ae1342e…</td><td>&quot;FirstMortgage3…</td><td>&quot;8b55bf62fc2ecd…</td><td>&quot;Accepted&quot;</td></tr><tr><td>&quot;892f5d61a9215e…</td><td>&quot;../../../../da…</td><td>0.679745</td><td>&quot;806ef34eb8237f…</td><td>&quot;MoneyMarketSav…</td><td>&quot;2513d0e24d8d02…</td><td>&quot;Rejected&quot;</td></tr><tr><td>&quot;c3aa807d9e927a…</td><td>&quot;../../../../da…</td><td>1.0</td><td>&quot;3cdf7b1ae1342e…</td><td>&quot;BasicChecking&quot;</td><td>&quot;2513d0e24d8d02…</td><td>&quot;Rejected&quot;</td></tr><tr><td>&quot;c2d492f9a05073…</td><td>&quot;../../../../da…</td><td>0.718982</td><td>&quot;af486bc1815c72…</td><td>&quot;BasicChecking&quot;</td><td>&quot;1cd082ecbd5dd9…</td><td>&quot;Accepted&quot;</td></tr><tr><td>&quot;b21059221605c4…</td><td>&quot;../../../../da…</td><td>0.0</td><td>&quot;806ef34eb8237f…</td><td>&quot;UPlusFinPerson…</td><td>null</td><td>&quot;Rejected&quot;</td></tr><tr><td>&quot;80cbe489dcecd4…</td><td>&quot;../../../../da…</td><td>0.02333</td><td>&quot;806ef34eb8237f…</td><td>&quot;BasicChecking&quot;</td><td>&quot;1cd082ecbd5dd9…</td><td>&quot;Rejected&quot;</td></tr></tbody></table></div>"
      ],
      "text/plain": [
       "shape: (7, 7)\n",
       "┌──────────────┬─────────────┬─────────────┬─────────────┬─────────────┬─────────────┬─────────────┐\n",
       "│ PREDICTOR_0  ┆ filename    ┆ PREDICTOR_2 ┆ PREDICTOR_3 ┆ Context_Nam ┆ IH_Web_Inbo ┆ Decision_Ou │\n",
       "│ ---          ┆ ---         ┆ ---         ┆ ---         ┆ e           ┆ und_Accepte ┆ tcome       │\n",
       "│ str          ┆ str         ┆ f64         ┆ str         ┆ ---         ┆ d_pxLastGr… ┆ ---         │\n",
       "│              ┆             ┆             ┆             ┆ str         ┆ ---         ┆ str         │\n",
       "│              ┆             ┆             ┆             ┆             ┆ str         ┆             │\n",
       "╞══════════════╪═════════════╪═════════════╪═════════════╪═════════════╪═════════════╪═════════════╡\n",
       "│ c73023dda51d ┆ ../../../.. ┆ 0.983033    ┆ af486bc1815 ┆ FirstMortga ┆ 2513d0e24d8 ┆ Rejected    │\n",
       "│ e1b84f7af774 ┆ /data/Sampl ┆             ┆ c726c357890 ┆ ge30yr      ┆ d0214eda4fb ┆             │\n",
       "│ fd6f8c73…    ┆ eHDS.json   ┆             ┆ ac2a40ba98… ┆             ┆ 454447162b… ┆             │\n",
       "│ 5414b197fb87 ┆ ../../../.. ┆ 0.144221    ┆ 3cdf7b1ae13 ┆ FirstMortga ┆ 8b55bf62fc2 ┆ Accepted    │\n",
       "│ b3f2e350d7a7 ┆ /data/Sampl ┆             ┆ 42ef979ea2a ┆ ge30yr      ┆ ecd16af97d4 ┆             │\n",
       "│ 4a840a81…    ┆ eHDS.json   ┆             ┆ 782541ad05… ┆             ┆ 8e469362cf… ┆             │\n",
       "│ 892f5d61a921 ┆ ../../../.. ┆ 0.679745    ┆ 806ef34eb82 ┆ MoneyMarket ┆ 2513d0e24d8 ┆ Rejected    │\n",
       "│ 5ef985f3fa29 ┆ /data/Sampl ┆             ┆ 37f4db85004 ┆ SavingsAcco ┆ d0214eda4fb ┆             │\n",
       "│ 3d51c92e…    ┆ eHDS.json   ┆             ┆ e96dc471d8… ┆ unt         ┆ 454447162b… ┆             │\n",
       "│ c3aa807d9e92 ┆ ../../../.. ┆ 1.0         ┆ 3cdf7b1ae13 ┆ BasicChecki ┆ 2513d0e24d8 ┆ Rejected    │\n",
       "│ 7ae426a89e76 ┆ /data/Sampl ┆             ┆ 42ef979ea2a ┆ ng          ┆ d0214eda4fb ┆             │\n",
       "│ a12b9160…    ┆ eHDS.json   ┆             ┆ 782541ad05… ┆             ┆ 454447162b… ┆             │\n",
       "│ c2d492f9a050 ┆ ../../../.. ┆ 0.718982    ┆ af486bc1815 ┆ BasicChecki ┆ 1cd082ecbd5 ┆ Accepted    │\n",
       "│ 7327c14285e9 ┆ /data/Sampl ┆             ┆ c726c357890 ┆ ng          ┆ dd95383b104 ┆             │\n",
       "│ 4e8ee54c…    ┆ eHDS.json   ┆             ┆ ac2a40ba98… ┆             ┆ 65e395c1f7… ┆             │\n",
       "│ b21059221605 ┆ ../../../.. ┆ 0.0         ┆ 806ef34eb82 ┆ UPlusFinPer ┆ null        ┆ Rejected    │\n",
       "│ c49757cfe0fe ┆ /data/Sampl ┆             ┆ 37f4db85004 ┆ sonal       ┆             ┆             │\n",
       "│ e45640db…    ┆ eHDS.json   ┆             ┆ e96dc471d8… ┆             ┆             ┆             │\n",
       "│ 80cbe489dcec ┆ ../../../.. ┆ 0.02333     ┆ 806ef34eb82 ┆ BasicChecki ┆ 1cd082ecbd5 ┆ Rejected    │\n",
       "│ d4b9304898c9 ┆ /data/Sampl ┆             ┆ 37f4db85004 ┆ ng          ┆ dd95383b104 ┆             │\n",
       "│ 986afeeb…    ┆ eHDS.json   ┆             ┆ e96dc471d8… ┆             ┆ 65e395c1f7… ┆             │\n",
       "└──────────────┴─────────────┴─────────────┴─────────────┴─────────────┴─────────────┴─────────────┘"
      ]
     },
     "execution_count": 14,
     "metadata": {},
     "output_type": "execute_result"
    }
   ],
   "source": [
    "from hashlib import sha3_256\n",
    "\n",
    "anon.process(algorithm=lambda x: sha3_256(x.encode()).hexdigest())"
   ]
  }
 ],
 "metadata": {
  "kernelspec": {
   "display_name": "Python 3",
   "language": "python",
   "name": "python3"
  },
  "language_info": {
   "codemirror_mode": {
    "name": "ipython",
    "version": 3
   },
   "file_extension": ".py",
   "mimetype": "text/x-python",
   "name": "python",
   "nbconvert_exporter": "python",
   "pygments_lexer": "ipython3",
   "version": "3.11.7"
  },
  "vscode": {
   "interpreter": {
    "hash": "aee8b7b246df8f9039afb4144a1f6fd8d2ca17a180786b69acc140d282b71a49"
   }
  }
 },
 "nbformat": 4,
 "nbformat_minor": 2
}
