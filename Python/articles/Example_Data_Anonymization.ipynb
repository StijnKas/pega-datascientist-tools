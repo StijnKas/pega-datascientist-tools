{
 "cells": [
  {
   "attachments": {},
   "cell_type": "markdown",
   "metadata": {},
   "source": [
    "# Example data anonymization\n",
    "\n",
    "In Pega CDH 8.5 and up, it's now possible to record the historical data as seen by the Adaptive Models. See [this academy challenge](https://academy.pega.com/challenge/exporting-historical-data/v4) for reference. This historical data can be further used to experiment with offline models, but also to fine-tune the OOTB Gradient Boosting model. However, sharing this information with Pega can be sensitive as it contains raw predictor data. \n",
    "\n",
    "To this end, we provide a simple and transparent script to fully anonimize this dataset.\n",
    "\n",
    "The DataAnonymization script is now part of pdstools, and you can import it directly as such."
   ]
  },
  {
   "cell_type": "code",
   "execution_count": 1,
   "metadata": {
    "execution": {
     "iopub.execute_input": "2023-07-25T13:36:04.246998Z",
     "iopub.status.busy": "2023-07-25T13:36:04.246625Z",
     "iopub.status.idle": "2023-07-25T13:36:04.253182Z",
     "shell.execute_reply": "2023-07-25T13:36:04.252555Z"
    },
    "nbsphinx": "hidden"
   },
   "outputs": [],
   "source": [
    "# These lines are only for rendering in the docs, and are hidden through Jupyter tags\n",
    "# Do not run if you're running the notebook seperately\n",
    "\n",
    "import sys\n",
    "sys.path.append('../../../')"
   ]
  },
  {
   "cell_type": "code",
   "execution_count": 2,
   "metadata": {
    "execution": {
     "iopub.execute_input": "2023-07-25T13:36:04.255535Z",
     "iopub.status.busy": "2023-07-25T13:36:04.255350Z",
     "iopub.status.idle": "2023-07-25T13:36:05.369617Z",
     "shell.execute_reply": "2023-07-25T13:36:05.368136Z"
    }
   },
   "outputs": [],
   "source": [
    "from pdstools import ADMDatamart\n",
    "from pdstools import Config, DataAnonymization\n",
    "import polars as pl"
   ]
  },
  {
   "attachments": {},
   "cell_type": "markdown",
   "metadata": {},
   "source": [
    "## Input data\n",
    "\n",
    "To demonstrate this process, we're going to anonymise this toy example dataframe:"
   ]
  },
  {
   "cell_type": "code",
   "execution_count": 3,
   "metadata": {
    "execution": {
     "iopub.execute_input": "2023-07-25T13:36:05.374328Z",
     "iopub.status.busy": "2023-07-25T13:36:05.373981Z",
     "iopub.status.idle": "2023-07-25T13:36:05.385578Z",
     "shell.execute_reply": "2023-07-25T13:36:05.385074Z"
    }
   },
   "outputs": [
    {
     "data": {
      "text/html": [
       "<div><style>\n",
       ".dataframe > thead > tr > th,\n",
       ".dataframe > tbody > tr > td {\n",
       "  text-align: right;\n",
       "}\n",
       "</style>\n",
       "<small>shape: (7, 6)</small><table border=\"1\" class=\"dataframe\"><thead><tr><th>Context_Name</th><th>Customer_MaritalStatus</th><th>Customer_CLV</th><th>Customer_City</th><th>IH_Web_Inbound_Accepted_pxLastGroupID</th><th>Decision_Outcome</th></tr><tr><td>str</td><td>str</td><td>i64</td><td>str</td><td>str</td><td>str</td></tr></thead><tbody><tr><td>&quot;FirstMortgage3…</td><td>&quot;Married&quot;</td><td>1460</td><td>&quot;Port Raoul&quot;</td><td>&quot;Account&quot;</td><td>&quot;Rejected&quot;</td></tr><tr><td>&quot;FirstMortgage3…</td><td>&quot;Unknown&quot;</td><td>669</td><td>&quot;Laurianneshire…</td><td>&quot;AutoLoans&quot;</td><td>&quot;Accepted&quot;</td></tr><tr><td>&quot;MoneyMarketSav…</td><td>&quot;No Resp+&quot;</td><td>1174</td><td>&quot;Jacobshaven&quot;</td><td>&quot;Account&quot;</td><td>&quot;Rejected&quot;</td></tr><tr><td>&quot;BasicChecking&quot;</td><td>&quot;Unknown&quot;</td><td>1476</td><td>&quot;Lindton&quot;</td><td>&quot;Account&quot;</td><td>&quot;Rejected&quot;</td></tr><tr><td>&quot;BasicChecking&quot;</td><td>&quot;Married&quot;</td><td>1211</td><td>&quot;South Jimmiesh…</td><td>&quot;DepositAccount…</td><td>&quot;Accepted&quot;</td></tr><tr><td>&quot;UPlusFinPerson…</td><td>&quot;No Resp+&quot;</td><td>533</td><td>&quot;Bergeville&quot;</td><td>null</td><td>&quot;Rejected&quot;</td></tr><tr><td>&quot;BasicChecking&quot;</td><td>&quot;No Resp+&quot;</td><td>555</td><td>&quot;Willyville&quot;</td><td>&quot;DepositAccount…</td><td>&quot;Rejected&quot;</td></tr></tbody></table></div>"
      ],
      "text/plain": [
       "shape: (7, 6)\n",
       "┌────────────────┬────────────────┬──────────────┬────────────────┬────────────────┬───────────────┐\n",
       "│ Context_Name   ┆ Customer_Marit ┆ Customer_CLV ┆ Customer_City  ┆ IH_Web_Inbound ┆ Decision_Outc │\n",
       "│ ---            ┆ alStatus       ┆ ---          ┆ ---            ┆ _Accepted_pxLa ┆ ome           │\n",
       "│ str            ┆ ---            ┆ i64          ┆ str            ┆ stGr…          ┆ ---           │\n",
       "│                ┆ str            ┆              ┆                ┆ ---            ┆ str           │\n",
       "│                ┆                ┆              ┆                ┆ str            ┆               │\n",
       "╞════════════════╪════════════════╪══════════════╪════════════════╪════════════════╪═══════════════╡\n",
       "│ FirstMortgage3 ┆ Married        ┆ 1460         ┆ Port Raoul     ┆ Account        ┆ Rejected      │\n",
       "│ 0yr            ┆                ┆              ┆                ┆                ┆               │\n",
       "│ FirstMortgage3 ┆ Unknown        ┆ 669          ┆ Laurianneshire ┆ AutoLoans      ┆ Accepted      │\n",
       "│ 0yr            ┆                ┆              ┆                ┆                ┆               │\n",
       "│ MoneyMarketSav ┆ No Resp+       ┆ 1174         ┆ Jacobshaven    ┆ Account        ┆ Rejected      │\n",
       "│ ingsAccount    ┆                ┆              ┆                ┆                ┆               │\n",
       "│ BasicChecking  ┆ Unknown        ┆ 1476         ┆ Lindton        ┆ Account        ┆ Rejected      │\n",
       "│ BasicChecking  ┆ Married        ┆ 1211         ┆ South          ┆ DepositAccount ┆ Accepted      │\n",
       "│                ┆                ┆              ┆ Jimmieshire    ┆ s              ┆               │\n",
       "│ UPlusFinPerson ┆ No Resp+       ┆ 533          ┆ Bergeville     ┆ null           ┆ Rejected      │\n",
       "│ al             ┆                ┆              ┆                ┆                ┆               │\n",
       "│ BasicChecking  ┆ No Resp+       ┆ 555          ┆ Willyville     ┆ DepositAccount ┆ Rejected      │\n",
       "│                ┆                ┆              ┆                ┆ s              ┆               │\n",
       "└────────────────┴────────────────┴──────────────┴────────────────┴────────────────┴───────────────┘"
      ]
     },
     "execution_count": 3,
     "metadata": {},
     "output_type": "execute_result"
    }
   ],
   "source": [
    "pl.read_ndjson('../../../../data/SampleHDS.json')"
   ]
  },
  {
   "attachments": {},
   "cell_type": "markdown",
   "metadata": {},
   "source": [
    "As you can see, this dataset consists of regular predictors, IH predictors, context keys and the outcome column. Additionally, some columns are numeric, others are strings. Let's first initialize the DataAnonymization class."
   ]
  },
  {
   "cell_type": "code",
   "execution_count": 4,
   "metadata": {
    "execution": {
     "iopub.execute_input": "2023-07-25T13:36:05.388577Z",
     "iopub.status.busy": "2023-07-25T13:36:05.387950Z",
     "iopub.status.idle": "2023-07-25T13:36:05.397127Z",
     "shell.execute_reply": "2023-07-25T13:36:05.396586Z"
    }
   },
   "outputs": [],
   "source": [
    "anon = DataAnonymization(hds_folder='../../../../data/')"
   ]
  },
  {
   "attachments": {},
   "cell_type": "markdown",
   "metadata": {},
   "source": [
    "By default, the class applies a set of anonymisation techniques:\n",
    "- Column names are remapped to a non-descriptive name\n",
    "- Categorical values are hashed with a random seed\n",
    "- Numerical values are normalized between 0 and 1\n",
    "- Outcomes are mapped to a binary outcome.\n",
    "\n",
    "To apply these techniques, simply call `.process()`:"
   ]
  },
  {
   "cell_type": "code",
   "execution_count": 5,
   "metadata": {
    "execution": {
     "iopub.execute_input": "2023-07-25T13:36:05.399631Z",
     "iopub.status.busy": "2023-07-25T13:36:05.399218Z",
     "iopub.status.idle": "2023-07-25T13:36:05.408119Z",
     "shell.execute_reply": "2023-07-25T13:36:05.407305Z"
    }
   },
   "outputs": [
    {
     "data": {
      "text/html": [
       "<div><style>\n",
       ".dataframe > thead > tr > th,\n",
       ".dataframe > tbody > tr > td {\n",
       "  text-align: right;\n",
       "}\n",
       "</style>\n",
       "<small>shape: (7, 7)</small><table border=\"1\" class=\"dataframe\"><thead><tr><th>PREDICTOR_0</th><th>PREDICTOR_1</th><th>PREDICTOR_2</th><th>filename</th><th>Context_Name</th><th>IH_PREDICTOR_0</th><th>Decision_Outcome</th></tr><tr><td>f64</td><td>str</td><td>str</td><td>str</td><td>str</td><td>str</td><td>bool</td></tr></thead><tbody><tr><td>1.2927e19</td><td>&quot;66526714496212…</td><td>&quot;29692933595473…</td><td>&quot;../../../../da…</td><td>&quot;14235259546565…</td><td>&quot;11209164150765…</td><td>false</td></tr><tr><td>1.4856e19</td><td>&quot;97482130749936…</td><td>&quot;11964963790368…</td><td>&quot;../../../../da…</td><td>&quot;14235259546565…</td><td>&quot;12369327655890…</td><td>true</td></tr><tr><td>5.6458e17</td><td>&quot;15972111734345…</td><td>&quot;47691578853928…</td><td>&quot;../../../../da…</td><td>&quot;64561219271934…</td><td>&quot;11209164150765…</td><td>false</td></tr><tr><td>4.0723e18</td><td>&quot;97482130749936…</td><td>&quot;88670864045259…</td><td>&quot;../../../../da…</td><td>&quot;18122970989605…</td><td>&quot;11209164150765…</td><td>false</td></tr><tr><td>1.4677e19</td><td>&quot;66526714496212…</td><td>&quot;14455781705313…</td><td>&quot;../../../../da…</td><td>&quot;18122970989605…</td><td>&quot;17646959532832…</td><td>true</td></tr><tr><td>1.6330e19</td><td>&quot;15972111734345…</td><td>&quot;14013775461747…</td><td>&quot;../../../../da…</td><td>&quot;13675369541481…</td><td>null</td><td>false</td></tr><tr><td>8.7675e18</td><td>&quot;15972111734345…</td><td>&quot;43359284942717…</td><td>&quot;../../../../da…</td><td>&quot;18122970989605…</td><td>&quot;17646959532832…</td><td>false</td></tr></tbody></table></div>"
      ],
      "text/plain": [
       "shape: (7, 7)\n",
       "┌─────────────┬──────────────┬─────────────┬─────────────┬─────────────┬─────────────┬─────────────┐\n",
       "│ PREDICTOR_0 ┆ PREDICTOR_1  ┆ PREDICTOR_2 ┆ filename    ┆ Context_Nam ┆ IH_PREDICTO ┆ Decision_Ou │\n",
       "│ ---         ┆ ---          ┆ ---         ┆ ---         ┆ e           ┆ R_0         ┆ tcome       │\n",
       "│ f64         ┆ str          ┆ str         ┆ str         ┆ ---         ┆ ---         ┆ ---         │\n",
       "│             ┆              ┆             ┆             ┆ str         ┆ str         ┆ bool        │\n",
       "╞═════════════╪══════════════╪═════════════╪═════════════╪═════════════╪═════════════╪═════════════╡\n",
       "│ 1.2927e19   ┆ 665267144962 ┆ 29692933595 ┆ ../../../.. ┆ 14235259546 ┆ 11209164150 ┆ false       │\n",
       "│             ┆ 1208840      ┆ 47306804    ┆ /data/Sampl ┆ 565343611   ┆ 765615770   ┆             │\n",
       "│             ┆              ┆             ┆ eHDS.json   ┆             ┆             ┆             │\n",
       "│ 1.4856e19   ┆ 974821307499 ┆ 11964963790 ┆ ../../../.. ┆ 14235259546 ┆ 12369327655 ┆ true        │\n",
       "│             ┆ 3676471      ┆ 368871440   ┆ /data/Sampl ┆ 565343611   ┆ 890837689   ┆             │\n",
       "│             ┆              ┆             ┆ eHDS.json   ┆             ┆             ┆             │\n",
       "│ 5.6458e17   ┆ 159721117343 ┆ 47691578853 ┆ ../../../.. ┆ 64561219271 ┆ 11209164150 ┆ false       │\n",
       "│             ┆ 45776570     ┆ 92869336    ┆ /data/Sampl ┆ 9345669     ┆ 765615770   ┆             │\n",
       "│             ┆              ┆             ┆ eHDS.json   ┆             ┆             ┆             │\n",
       "│ 4.0723e18   ┆ 974821307499 ┆ 88670864045 ┆ ../../../.. ┆ 18122970989 ┆ 11209164150 ┆ false       │\n",
       "│             ┆ 3676471      ┆ 25920168    ┆ /data/Sampl ┆ 605567141   ┆ 765615770   ┆             │\n",
       "│             ┆              ┆             ┆ eHDS.json   ┆             ┆             ┆             │\n",
       "│ 1.4677e19   ┆ 665267144962 ┆ 14455781705 ┆ ../../../.. ┆ 18122970989 ┆ 17646959532 ┆ true        │\n",
       "│             ┆ 1208840      ┆ 313187742   ┆ /data/Sampl ┆ 605567141   ┆ 832531682   ┆             │\n",
       "│             ┆              ┆             ┆ eHDS.json   ┆             ┆             ┆             │\n",
       "│ 1.6330e19   ┆ 159721117343 ┆ 14013775461 ┆ ../../../.. ┆ 13675369541 ┆ null        ┆ false       │\n",
       "│             ┆ 45776570     ┆ 747105722   ┆ /data/Sampl ┆ 481794753   ┆             ┆             │\n",
       "│             ┆              ┆             ┆ eHDS.json   ┆             ┆             ┆             │\n",
       "│ 8.7675e18   ┆ 159721117343 ┆ 43359284942 ┆ ../../../.. ┆ 18122970989 ┆ 17646959532 ┆ false       │\n",
       "│             ┆ 45776570     ┆ 71704054    ┆ /data/Sampl ┆ 605567141   ┆ 832531682   ┆             │\n",
       "│             ┆              ┆             ┆ eHDS.json   ┆             ┆             ┆             │\n",
       "└─────────────┴──────────────┴─────────────┴─────────────┴─────────────┴─────────────┴─────────────┘"
      ]
     },
     "execution_count": 5,
     "metadata": {},
     "output_type": "execute_result"
    }
   ],
   "source": [
    "anon.process()"
   ]
  },
  {
   "attachments": {},
   "cell_type": "markdown",
   "metadata": {},
   "source": [
    "To trace back the columns to their original names, the class also contains a mapping, which does not have to be provided."
   ]
  },
  {
   "cell_type": "code",
   "execution_count": 6,
   "metadata": {
    "execution": {
     "iopub.execute_input": "2023-07-25T13:36:05.411602Z",
     "iopub.status.busy": "2023-07-25T13:36:05.411237Z",
     "iopub.status.idle": "2023-07-25T13:36:05.416670Z",
     "shell.execute_reply": "2023-07-25T13:36:05.415953Z"
    }
   },
   "outputs": [
    {
     "data": {
      "text/plain": [
       "{'Customer_CLV': 'PREDICTOR_0',\n",
       " 'Customer_MaritalStatus': 'PREDICTOR_1',\n",
       " 'Customer_City': 'PREDICTOR_2',\n",
       " 'filename': 'filename',\n",
       " 'Context_Name': 'Context_Name',\n",
       " 'IH_Web_Inbound_Accepted_pxLastGroupID': 'IH_PREDICTOR_0',\n",
       " 'Decision_Outcome': 'Decision_Outcome'}"
      ]
     },
     "execution_count": 6,
     "metadata": {},
     "output_type": "execute_result"
    }
   ],
   "source": [
    "anon.column_mapping"
   ]
  },
  {
   "attachments": {},
   "cell_type": "markdown",
   "metadata": {},
   "source": [
    "## Configs\n",
    "\n",
    "Each capability can optionally be turned off - see below for the full list of config options, and refer to the API reference for the full description."
   ]
  },
  {
   "cell_type": "code",
   "execution_count": 7,
   "metadata": {
    "execution": {
     "iopub.execute_input": "2023-07-25T13:36:05.420612Z",
     "iopub.status.busy": "2023-07-25T13:36:05.420313Z",
     "iopub.status.idle": "2023-07-25T13:36:05.426029Z",
     "shell.execute_reply": "2023-07-25T13:36:05.425343Z"
    }
   },
   "outputs": [
    {
     "data": {
      "text/plain": [
       "{'config_file': None,\n",
       " 'hds_folder': '.',\n",
       " 'use_datamart': False,\n",
       " 'datamart_folder': 'datamart',\n",
       " 'output_format': 'ndjson',\n",
       " 'output_folder': 'output',\n",
       " 'mapping_file': 'mapping.map',\n",
       " 'mask_predictor_names': True,\n",
       " 'mask_context_key_names': False,\n",
       " 'mask_ih_names': True,\n",
       " 'mask_outcome_name': False,\n",
       " 'mask_predictor_values': True,\n",
       " 'mask_context_key_values': True,\n",
       " 'mask_ih_values': True,\n",
       " 'mask_outcome_values': True,\n",
       " 'context_key_label': 'Context_*',\n",
       " 'ih_label': 'IH_*',\n",
       " 'outcome_column': 'Decision_Outcome',\n",
       " 'positive_outcomes': ['Accepted', 'Clicked'],\n",
       " 'negative_outcomes': ['Rejected', 'Impression'],\n",
       " 'special_predictors': ['Decision_DecisionTime',\n",
       "  'Decision_OutcomeTime',\n",
       "  'Decision_Rank'],\n",
       " 'sample_percentage_schema_inferencing': 0.01}"
      ]
     },
     "execution_count": 7,
     "metadata": {},
     "output_type": "execute_result"
    }
   ],
   "source": [
    "dict(zip(Config.__init__.__code__.co_varnames[1:], Config.__init__.__defaults__))"
   ]
  },
  {
   "attachments": {},
   "cell_type": "markdown",
   "metadata": {},
   "source": [
    "It's easy to change these parameters by just passing the keyword arguments. In the following example, we\n",
    "- Keep the IH predictor names\n",
    "- Keep the outcome values\n",
    "- Keep the context key values\n",
    "- Keep the context key predictor names"
   ]
  },
  {
   "cell_type": "code",
   "execution_count": 8,
   "metadata": {
    "execution": {
     "iopub.execute_input": "2023-07-25T13:36:05.429528Z",
     "iopub.status.busy": "2023-07-25T13:36:05.429324Z",
     "iopub.status.idle": "2023-07-25T13:36:05.442743Z",
     "shell.execute_reply": "2023-07-25T13:36:05.442136Z"
    }
   },
   "outputs": [
    {
     "data": {
      "text/html": [
       "<div><style>\n",
       ".dataframe > thead > tr > th,\n",
       ".dataframe > tbody > tr > td {\n",
       "  text-align: right;\n",
       "}\n",
       "</style>\n",
       "<small>shape: (7, 7)</small><table border=\"1\" class=\"dataframe\"><thead><tr><th>PREDICTOR_0</th><th>PREDICTOR_1</th><th>PREDICTOR_2</th><th>filename</th><th>Context_Name</th><th>IH_Web_Inbound_Accepted_pxLastGroupID</th><th>Decision_Outcome</th></tr><tr><td>f64</td><td>str</td><td>str</td><td>str</td><td>str</td><td>str</td><td>str</td></tr></thead><tbody><tr><td>1.2927e19</td><td>&quot;15617293385758…</td><td>&quot;17371285973342…</td><td>&quot;../../../../da…</td><td>&quot;FirstMortgage3…</td><td>&quot;10620329084147…</td><td>&quot;Rejected&quot;</td></tr><tr><td>1.4856e19</td><td>&quot;17046245443677…</td><td>&quot;14316508188531…</td><td>&quot;../../../../da…</td><td>&quot;FirstMortgage3…</td><td>&quot;89699665134391…</td><td>&quot;Accepted&quot;</td></tr><tr><td>5.6458e17</td><td>&quot;14132566875036…</td><td>&quot;12313279250907…</td><td>&quot;../../../../da…</td><td>&quot;MoneyMarketSav…</td><td>&quot;10620329084147…</td><td>&quot;Rejected&quot;</td></tr><tr><td>4.0723e18</td><td>&quot;17046245443677…</td><td>&quot;97686161037651…</td><td>&quot;../../../../da…</td><td>&quot;BasicChecking&quot;</td><td>&quot;10620329084147…</td><td>&quot;Rejected&quot;</td></tr><tr><td>1.4677e19</td><td>&quot;15617293385758…</td><td>&quot;44440556749278…</td><td>&quot;../../../../da…</td><td>&quot;BasicChecking&quot;</td><td>&quot;64013245854424…</td><td>&quot;Accepted&quot;</td></tr><tr><td>1.6330e19</td><td>&quot;14132566875036…</td><td>&quot;18248418998918…</td><td>&quot;../../../../da…</td><td>&quot;UPlusFinPerson…</td><td>null</td><td>&quot;Rejected&quot;</td></tr><tr><td>8.7675e18</td><td>&quot;14132566875036…</td><td>&quot;11030385617665…</td><td>&quot;../../../../da…</td><td>&quot;BasicChecking&quot;</td><td>&quot;64013245854424…</td><td>&quot;Rejected&quot;</td></tr></tbody></table></div>"
      ],
      "text/plain": [
       "shape: (7, 7)\n",
       "┌─────────────┬──────────────┬─────────────┬─────────────┬─────────────┬─────────────┬─────────────┐\n",
       "│ PREDICTOR_0 ┆ PREDICTOR_1  ┆ PREDICTOR_2 ┆ filename    ┆ Context_Nam ┆ IH_Web_Inbo ┆ Decision_Ou │\n",
       "│ ---         ┆ ---          ┆ ---         ┆ ---         ┆ e           ┆ und_Accepte ┆ tcome       │\n",
       "│ f64         ┆ str          ┆ str         ┆ str         ┆ ---         ┆ d_pxLastGr… ┆ ---         │\n",
       "│             ┆              ┆             ┆             ┆ str         ┆ ---         ┆ str         │\n",
       "│             ┆              ┆             ┆             ┆             ┆ str         ┆             │\n",
       "╞═════════════╪══════════════╪═════════════╪═════════════╪═════════════╪═════════════╪═════════════╡\n",
       "│ 1.2927e19   ┆ 156172933857 ┆ 17371285973 ┆ ../../../.. ┆ FirstMortga ┆ 10620329084 ┆ Rejected    │\n",
       "│             ┆ 58084614     ┆ 342747246   ┆ /data/Sampl ┆ ge30yr      ┆ 147961031   ┆             │\n",
       "│             ┆              ┆             ┆ eHDS.json   ┆             ┆             ┆             │\n",
       "│ 1.4856e19   ┆ 170462454436 ┆ 14316508188 ┆ ../../../.. ┆ FirstMortga ┆ 89699665134 ┆ Accepted    │\n",
       "│             ┆ 77510468     ┆ 531793468   ┆ /data/Sampl ┆ ge30yr      ┆ 39172084    ┆             │\n",
       "│             ┆              ┆             ┆ eHDS.json   ┆             ┆             ┆             │\n",
       "│ 5.6458e17   ┆ 141325668750 ┆ 12313279250 ┆ ../../../.. ┆ MoneyMarket ┆ 10620329084 ┆ Rejected    │\n",
       "│             ┆ 3658732      ┆ 907304967   ┆ /data/Sampl ┆ SavingsAcco ┆ 147961031   ┆             │\n",
       "│             ┆              ┆             ┆ eHDS.json   ┆ unt         ┆             ┆             │\n",
       "│ 4.0723e18   ┆ 170462454436 ┆ 97686161037 ┆ ../../../.. ┆ BasicChecki ┆ 10620329084 ┆ Rejected    │\n",
       "│             ┆ 77510468     ┆ 65159892    ┆ /data/Sampl ┆ ng          ┆ 147961031   ┆             │\n",
       "│             ┆              ┆             ┆ eHDS.json   ┆             ┆             ┆             │\n",
       "│ 1.4677e19   ┆ 156172933857 ┆ 44440556749 ┆ ../../../.. ┆ BasicChecki ┆ 64013245854 ┆ Accepted    │\n",
       "│             ┆ 58084614     ┆ 27811905    ┆ /data/Sampl ┆ ng          ┆ 42449977    ┆             │\n",
       "│             ┆              ┆             ┆ eHDS.json   ┆             ┆             ┆             │\n",
       "│ 1.6330e19   ┆ 141325668750 ┆ 18248418998 ┆ ../../../.. ┆ UPlusFinPer ┆ null        ┆ Rejected    │\n",
       "│             ┆ 3658732      ┆ 918511516   ┆ /data/Sampl ┆ sonal       ┆             ┆             │\n",
       "│             ┆              ┆             ┆ eHDS.json   ┆             ┆             ┆             │\n",
       "│ 8.7675e18   ┆ 141325668750 ┆ 11030385617 ┆ ../../../.. ┆ BasicChecki ┆ 64013245854 ┆ Rejected    │\n",
       "│             ┆ 3658732      ┆ 665006611   ┆ /data/Sampl ┆ ng          ┆ 42449977    ┆             │\n",
       "│             ┆              ┆             ┆ eHDS.json   ┆             ┆             ┆             │\n",
       "└─────────────┴──────────────┴─────────────┴─────────────┴─────────────┴─────────────┴─────────────┘"
      ]
     },
     "execution_count": 8,
     "metadata": {},
     "output_type": "execute_result"
    }
   ],
   "source": [
    "anon = DataAnonymization(\n",
    "    hds_folder='../../../../data/',\n",
    "    mask_ih_names=False,\n",
    "    mask_outcome_values=False,\n",
    "    mask_context_key_values=False,\n",
    "    mask_context_key_names=False,\n",
    ")\n",
    "anon.process()\n"
   ]
  },
  {
   "attachments": {},
   "cell_type": "markdown",
   "metadata": {},
   "source": [
    "The configs can also be written and read as such:"
   ]
  },
  {
   "cell_type": "code",
   "execution_count": 9,
   "metadata": {
    "execution": {
     "iopub.execute_input": "2023-07-25T13:36:05.445421Z",
     "iopub.status.busy": "2023-07-25T13:36:05.445230Z",
     "iopub.status.idle": "2023-07-25T13:36:05.448521Z",
     "shell.execute_reply": "2023-07-25T13:36:05.447919Z"
    }
   },
   "outputs": [],
   "source": [
    "anon.config.save_to_config_file('config.json')"
   ]
  },
  {
   "cell_type": "code",
   "execution_count": 10,
   "metadata": {
    "execution": {
     "iopub.execute_input": "2023-07-25T13:36:05.451066Z",
     "iopub.status.busy": "2023-07-25T13:36:05.450718Z",
     "iopub.status.idle": "2023-07-25T13:36:05.461128Z",
     "shell.execute_reply": "2023-07-25T13:36:05.460649Z"
    }
   },
   "outputs": [
    {
     "data": {
      "text/html": [
       "<div><style>\n",
       ".dataframe > thead > tr > th,\n",
       ".dataframe > tbody > tr > td {\n",
       "  text-align: right;\n",
       "}\n",
       "</style>\n",
       "<small>shape: (7, 7)</small><table border=\"1\" class=\"dataframe\"><thead><tr><th>PREDICTOR_0</th><th>PREDICTOR_1</th><th>PREDICTOR_2</th><th>filename</th><th>Context_Name</th><th>IH_Web_Inbound_Accepted_pxLastGroupID</th><th>Decision_Outcome</th></tr><tr><td>f64</td><td>str</td><td>str</td><td>str</td><td>str</td><td>str</td><td>str</td></tr></thead><tbody><tr><td>1.2927e19</td><td>&quot;87369257940103…</td><td>&quot;10535316624230…</td><td>&quot;../../../../da…</td><td>&quot;FirstMortgage3…</td><td>&quot;13227709960437…</td><td>&quot;Rejected&quot;</td></tr><tr><td>1.4856e19</td><td>&quot;40416675154065…</td><td>&quot;17144553996205…</td><td>&quot;../../../../da…</td><td>&quot;FirstMortgage3…</td><td>&quot;13284121494191…</td><td>&quot;Accepted&quot;</td></tr><tr><td>5.6458e17</td><td>&quot;18431311201394…</td><td>&quot;71258393424999…</td><td>&quot;../../../../da…</td><td>&quot;MoneyMarketSav…</td><td>&quot;13227709960437…</td><td>&quot;Rejected&quot;</td></tr><tr><td>4.0723e18</td><td>&quot;40416675154065…</td><td>&quot;85065603375564…</td><td>&quot;../../../../da…</td><td>&quot;BasicChecking&quot;</td><td>&quot;13227709960437…</td><td>&quot;Rejected&quot;</td></tr><tr><td>1.4677e19</td><td>&quot;87369257940103…</td><td>&quot;68441453490210…</td><td>&quot;../../../../da…</td><td>&quot;BasicChecking&quot;</td><td>&quot;14494256486233…</td><td>&quot;Accepted&quot;</td></tr><tr><td>1.6330e19</td><td>&quot;18431311201394…</td><td>&quot;13630269744742…</td><td>&quot;../../../../da…</td><td>&quot;UPlusFinPerson…</td><td>null</td><td>&quot;Rejected&quot;</td></tr><tr><td>8.7675e18</td><td>&quot;18431311201394…</td><td>&quot;12604808447557…</td><td>&quot;../../../../da…</td><td>&quot;BasicChecking&quot;</td><td>&quot;14494256486233…</td><td>&quot;Rejected&quot;</td></tr></tbody></table></div>"
      ],
      "text/plain": [
       "shape: (7, 7)\n",
       "┌─────────────┬──────────────┬─────────────┬─────────────┬─────────────┬─────────────┬─────────────┐\n",
       "│ PREDICTOR_0 ┆ PREDICTOR_1  ┆ PREDICTOR_2 ┆ filename    ┆ Context_Nam ┆ IH_Web_Inbo ┆ Decision_Ou │\n",
       "│ ---         ┆ ---          ┆ ---         ┆ ---         ┆ e           ┆ und_Accepte ┆ tcome       │\n",
       "│ f64         ┆ str          ┆ str         ┆ str         ┆ ---         ┆ d_pxLastGr… ┆ ---         │\n",
       "│             ┆              ┆             ┆             ┆ str         ┆ ---         ┆ str         │\n",
       "│             ┆              ┆             ┆             ┆             ┆ str         ┆             │\n",
       "╞═════════════╪══════════════╪═════════════╪═════════════╪═════════════╪═════════════╪═════════════╡\n",
       "│ 1.2927e19   ┆ 873692579401 ┆ 10535316624 ┆ ../../../.. ┆ FirstMortga ┆ 13227709960 ┆ Rejected    │\n",
       "│             ┆ 0332021      ┆ 23069231    ┆ /data/Sampl ┆ ge30yr      ┆ 437308831   ┆             │\n",
       "│             ┆              ┆             ┆ eHDS.json   ┆             ┆             ┆             │\n",
       "│ 1.4856e19   ┆ 404166751540 ┆ 17144553996 ┆ ../../../.. ┆ FirstMortga ┆ 13284121494 ┆ Accepted    │\n",
       "│             ┆ 6592348      ┆ 205767467   ┆ /data/Sampl ┆ ge30yr      ┆ 191526813   ┆             │\n",
       "│             ┆              ┆             ┆ eHDS.json   ┆             ┆             ┆             │\n",
       "│ 5.6458e17   ┆ 184313112013 ┆ 71258393424 ┆ ../../../.. ┆ MoneyMarket ┆ 13227709960 ┆ Rejected    │\n",
       "│             ┆ 94856108     ┆ 99938629    ┆ /data/Sampl ┆ SavingsAcco ┆ 437308831   ┆             │\n",
       "│             ┆              ┆             ┆ eHDS.json   ┆ unt         ┆             ┆             │\n",
       "│ 4.0723e18   ┆ 404166751540 ┆ 85065603375 ┆ ../../../.. ┆ BasicChecki ┆ 13227709960 ┆ Rejected    │\n",
       "│             ┆ 6592348      ┆ 56402075    ┆ /data/Sampl ┆ ng          ┆ 437308831   ┆             │\n",
       "│             ┆              ┆             ┆ eHDS.json   ┆             ┆             ┆             │\n",
       "│ 1.4677e19   ┆ 873692579401 ┆ 68441453490 ┆ ../../../.. ┆ BasicChecki ┆ 14494256486 ┆ Accepted    │\n",
       "│             ┆ 0332021      ┆ 21032444    ┆ /data/Sampl ┆ ng          ┆ 233166405   ┆             │\n",
       "│             ┆              ┆             ┆ eHDS.json   ┆             ┆             ┆             │\n",
       "│ 1.6330e19   ┆ 184313112013 ┆ 13630269744 ┆ ../../../.. ┆ UPlusFinPer ┆ null        ┆ Rejected    │\n",
       "│             ┆ 94856108     ┆ 742363797   ┆ /data/Sampl ┆ sonal       ┆             ┆             │\n",
       "│             ┆              ┆             ┆ eHDS.json   ┆             ┆             ┆             │\n",
       "│ 8.7675e18   ┆ 184313112013 ┆ 12604808447 ┆ ../../../.. ┆ BasicChecki ┆ 14494256486 ┆ Rejected    │\n",
       "│             ┆ 94856108     ┆ 557178880   ┆ /data/Sampl ┆ ng          ┆ 233166405   ┆             │\n",
       "│             ┆              ┆             ┆ eHDS.json   ┆             ┆             ┆             │\n",
       "└─────────────┴──────────────┴─────────────┴─────────────┴─────────────┴─────────────┴─────────────┘"
      ]
     },
     "execution_count": 10,
     "metadata": {},
     "output_type": "execute_result"
    }
   ],
   "source": [
    "anon = DataAnonymization(config=Config(config_file='config.json'))\n",
    "anon.process()"
   ]
  },
  {
   "attachments": {},
   "cell_type": "markdown",
   "metadata": {},
   "source": [
    "## Exporting\n",
    "Two functions export:\n",
    "- `create_mapping_file()` writes the mapping file of the predictor names\n",
    "- `write_to_output()` writes the processed dataframe to disk\n",
    "\n",
    "Write to output accepts the following extensions: `[\"ndjson\", \"parquet\", \"arrow\", \"csv\"]`"
   ]
  },
  {
   "cell_type": "code",
   "execution_count": 11,
   "metadata": {
    "execution": {
     "iopub.execute_input": "2023-07-25T13:36:05.463707Z",
     "iopub.status.busy": "2023-07-25T13:36:05.463178Z",
     "iopub.status.idle": "2023-07-25T13:36:05.466806Z",
     "shell.execute_reply": "2023-07-25T13:36:05.466270Z"
    }
   },
   "outputs": [
    {
     "name": "stdout",
     "output_type": "stream",
     "text": [
      "Customer_CLV=PREDICTOR_0\n",
      "Customer_MaritalStatus=PREDICTOR_1\n",
      "Customer_City=PREDICTOR_2\n",
      "filename=filename\n",
      "Context_Name=Context_Name\n",
      "IH_Web_Inbound_Accepted_pxLastGroupID=IH_Web_Inbound_Accepted_pxLastGroupID\n",
      "Decision_Outcome=Decision_Outcome\n",
      "\n"
     ]
    }
   ],
   "source": [
    "anon.create_mapping_file()\n",
    "with open('mapping.map') as f:\n",
    "    print(f.read())"
   ]
  },
  {
   "cell_type": "code",
   "execution_count": 12,
   "metadata": {
    "execution": {
     "iopub.execute_input": "2023-07-25T13:36:05.469488Z",
     "iopub.status.busy": "2023-07-25T13:36:05.469041Z",
     "iopub.status.idle": "2023-07-25T13:36:05.473090Z",
     "shell.execute_reply": "2023-07-25T13:36:05.472505Z"
    }
   },
   "outputs": [],
   "source": [
    "anon.write_to_output(ext='arrow')"
   ]
  },
  {
   "cell_type": "code",
   "execution_count": 13,
   "metadata": {
    "execution": {
     "iopub.execute_input": "2023-07-25T13:36:05.476458Z",
     "iopub.status.busy": "2023-07-25T13:36:05.476009Z",
     "iopub.status.idle": "2023-07-25T13:36:05.481268Z",
     "shell.execute_reply": "2023-07-25T13:36:05.480733Z"
    }
   },
   "outputs": [
    {
     "data": {
      "text/html": [
       "<div><style>\n",
       ".dataframe > thead > tr > th,\n",
       ".dataframe > tbody > tr > td {\n",
       "  text-align: right;\n",
       "}\n",
       "</style>\n",
       "<small>shape: (7, 6)</small><table border=\"1\" class=\"dataframe\"><thead><tr><th>PREDICTOR_0</th><th>PREDICTOR_1</th><th>PREDICTOR_2</th><th>Context_Name</th><th>IH_Web_Inbound_Accepted_pxLastGroupID</th><th>Decision_Outcome</th></tr><tr><td>f64</td><td>str</td><td>str</td><td>str</td><td>str</td><td>str</td></tr></thead><tbody><tr><td>1.2927e19</td><td>&quot;83011734515338…</td><td>&quot;17650633749912…</td><td>&quot;FirstMortgage3…</td><td>&quot;69360374940376…</td><td>&quot;Rejected&quot;</td></tr><tr><td>1.4856e19</td><td>&quot;89964691861830…</td><td>&quot;85899333162546…</td><td>&quot;FirstMortgage3…</td><td>&quot;34295806061795…</td><td>&quot;Accepted&quot;</td></tr><tr><td>5.6458e17</td><td>&quot;58864247645148…</td><td>&quot;11442970269565…</td><td>&quot;MoneyMarketSav…</td><td>&quot;69360374940376…</td><td>&quot;Rejected&quot;</td></tr><tr><td>4.0723e18</td><td>&quot;89964691861830…</td><td>&quot;27953477958887…</td><td>&quot;BasicChecking&quot;</td><td>&quot;69360374940376…</td><td>&quot;Rejected&quot;</td></tr><tr><td>1.4677e19</td><td>&quot;83011734515338…</td><td>&quot;10121404329141…</td><td>&quot;BasicChecking&quot;</td><td>&quot;12430035930158…</td><td>&quot;Accepted&quot;</td></tr><tr><td>1.6330e19</td><td>&quot;58864247645148…</td><td>&quot;17404628342792…</td><td>&quot;UPlusFinPerson…</td><td>null</td><td>&quot;Rejected&quot;</td></tr><tr><td>8.7675e18</td><td>&quot;58864247645148…</td><td>&quot;12905364428377…</td><td>&quot;BasicChecking&quot;</td><td>&quot;12430035930158…</td><td>&quot;Rejected&quot;</td></tr></tbody></table></div>"
      ],
      "text/plain": [
       "shape: (7, 6)\n",
       "┌─────────────┬────────────────┬────────────────┬────────────────┬────────────────┬────────────────┐\n",
       "│ PREDICTOR_0 ┆ PREDICTOR_1    ┆ PREDICTOR_2    ┆ Context_Name   ┆ IH_Web_Inbound ┆ Decision_Outco │\n",
       "│ ---         ┆ ---            ┆ ---            ┆ ---            ┆ _Accepted_pxLa ┆ me             │\n",
       "│ f64         ┆ str            ┆ str            ┆ str            ┆ stGr…          ┆ ---            │\n",
       "│             ┆                ┆                ┆                ┆ ---            ┆ str            │\n",
       "│             ┆                ┆                ┆                ┆ str            ┆                │\n",
       "╞═════════════╪════════════════╪════════════════╪════════════════╪════════════════╪════════════════╡\n",
       "│ 1.2927e19   ┆ 83011734515338 ┆ 17650633749912 ┆ FirstMortgage3 ┆ 69360374940376 ┆ Rejected       │\n",
       "│             ┆ 62088          ┆ 155070         ┆ 0yr            ┆ 14709          ┆                │\n",
       "│ 1.4856e19   ┆ 89964691861830 ┆ 85899333162546 ┆ FirstMortgage3 ┆ 34295806061795 ┆ Accepted       │\n",
       "│             ┆ 29999          ┆ 96392          ┆ 0yr            ┆ 8870           ┆                │\n",
       "│ 5.6458e17   ┆ 58864247645148 ┆ 11442970269565 ┆ MoneyMarketSav ┆ 69360374940376 ┆ Rejected       │\n",
       "│             ┆ 39645          ┆ 418033         ┆ ingsAccount    ┆ 14709          ┆                │\n",
       "│ 4.0723e18   ┆ 89964691861830 ┆ 27953477958887 ┆ BasicChecking  ┆ 69360374940376 ┆ Rejected       │\n",
       "│             ┆ 29999          ┆ 38966          ┆                ┆ 14709          ┆                │\n",
       "│ 1.4677e19   ┆ 83011734515338 ┆ 10121404329141 ┆ BasicChecking  ┆ 12430035930158 ┆ Accepted       │\n",
       "│             ┆ 62088          ┆ 951369         ┆                ┆ 005059         ┆                │\n",
       "│ 1.6330e19   ┆ 58864247645148 ┆ 17404628342792 ┆ UPlusFinPerson ┆ null           ┆ Rejected       │\n",
       "│             ┆ 39645          ┆ 109670         ┆ al             ┆                ┆                │\n",
       "│ 8.7675e18   ┆ 58864247645148 ┆ 12905364428377 ┆ BasicChecking  ┆ 12430035930158 ┆ Rejected       │\n",
       "│             ┆ 39645          ┆ 989215         ┆                ┆ 005059         ┆                │\n",
       "└─────────────┴────────────────┴────────────────┴────────────────┴────────────────┴────────────────┘"
      ]
     },
     "execution_count": 13,
     "metadata": {},
     "output_type": "execute_result"
    }
   ],
   "source": [
    "pl.read_ipc('output/hds.arrow')"
   ]
  },
  {
   "attachments": {},
   "cell_type": "markdown",
   "metadata": {},
   "source": [
    "## Advanced: Hash fuctions\n",
    "\n",
    "By default, we use [the same hashing algorithm Polars](https://pola-rs.github.io/polars/py-polars/html/reference/expressions/api/polars.Expr.hash.html#polars.Expr.hash) uses: [xxhash](https://github.com/Cyan4973/xxHash), as implemented [here](https://github.com/pola-rs/polars/blob/3f287f370b3c388ed2f3f218b2c096382548136f/polars/polars-core/src/vector_hasher.rs#L266). xxhash is fast to compute, and you can check its performance in collision, dispersion and randomness [here](https://github.com/Cyan4973/xxHash/tree/dev/tests). \n",
    "\n",
    "xxhash accepts four distinct seeds, but by default we set the seeds to `0`. It is possible to set the `seed` argument of the `process()` function to `'random'`, which will set all four seeds to a random integer between `0` and `1000000000`. Alternatively, it is possible to supply the four seeds manually with arguments `seed`, `seed_1`, `seed_2` and `seed_3`. \n",
    "\n",
    "If the xxhash with (random) seed(s) is not deemed sufficiently secure, it is possible to use your own hashing algorithm.\n",
    "\n",
    "Note that since we're now running python code and not native Polars code anymore, this will be _significantly_ slower. Nonetheless, it is possible.\n",
    "\n",
    "Just as an example - this is how one would use sha3_256:"
   ]
  },
  {
   "cell_type": "code",
   "execution_count": 14,
   "metadata": {
    "execution": {
     "iopub.execute_input": "2023-07-25T13:36:05.484467Z",
     "iopub.status.busy": "2023-07-25T13:36:05.483954Z",
     "iopub.status.idle": "2023-07-25T13:36:05.814636Z",
     "shell.execute_reply": "2023-07-25T13:36:05.813988Z"
    }
   },
   "outputs": [
    {
     "ename": "ComputeError",
     "evalue": "AttributeError: 'int' object has no attribute 'encode'",
     "output_type": "error",
     "traceback": [
      "\u001b[0;31m---------------------------------------------------------------------------\u001b[0m",
      "\u001b[0;31mComputeError\u001b[0m                              Traceback (most recent call last)",
      "Cell \u001b[0;32mIn[14], line 3\u001b[0m\n\u001b[1;32m      1\u001b[0m \u001b[38;5;28;01mfrom\u001b[39;00m \u001b[38;5;21;01mhashlib\u001b[39;00m \u001b[38;5;28;01mimport\u001b[39;00m sha3_256\n\u001b[0;32m----> 3\u001b[0m \u001b[43manon\u001b[49m\u001b[38;5;241;43m.\u001b[39;49m\u001b[43mprocess\u001b[49m\u001b[43m(\u001b[49m\u001b[43malgorithm\u001b[49m\u001b[38;5;241;43m=\u001b[39;49m\u001b[38;5;28;43;01mlambda\u001b[39;49;00m\u001b[43m \u001b[49m\u001b[43mx\u001b[49m\u001b[43m:\u001b[49m\u001b[43m \u001b[49m\u001b[43msha3_256\u001b[49m\u001b[43m(\u001b[49m\u001b[43mx\u001b[49m\u001b[38;5;241;43m.\u001b[39;49m\u001b[43mencode\u001b[49m\u001b[43m(\u001b[49m\u001b[43m)\u001b[49m\u001b[43m)\u001b[49m\u001b[38;5;241;43m.\u001b[39;49m\u001b[43mhexdigest\u001b[49m\u001b[43m(\u001b[49m\u001b[43m)\u001b[49m\u001b[43m)\u001b[49m\n",
      "File \u001b[0;32m~/work/pega-datascientist-tools/pega-datascientist-tools/python/docs/source/articles/../../../pdstools/utils/hds_utils.py:516\u001b[0m, in \u001b[0;36mDataAnonymization.process\u001b[0;34m(self, strategy, **kwargs)\u001b[0m\n\u001b[1;32m    514\u001b[0m df \u001b[38;5;241m=\u001b[39m df\u001b[38;5;241m.\u001b[39mselect(\u001b[38;5;28mself\u001b[39m\u001b[38;5;241m.\u001b[39mcolumn_mapping\u001b[38;5;241m.\u001b[39mkeys())\u001b[38;5;241m.\u001b[39mrename(\u001b[38;5;28mself\u001b[39m\u001b[38;5;241m.\u001b[39mcolumn_mapping)\n\u001b[1;32m    515\u001b[0m \u001b[38;5;28;01mif\u001b[39;00m strategy \u001b[38;5;241m==\u001b[39m \u001b[38;5;124m\"\u001b[39m\u001b[38;5;124meager\u001b[39m\u001b[38;5;124m\"\u001b[39m:\n\u001b[0;32m--> 516\u001b[0m     \u001b[38;5;28;01mreturn\u001b[39;00m \u001b[43mdf\u001b[49m\u001b[38;5;241;43m.\u001b[39;49m\u001b[43mcollect\u001b[49m\u001b[43m(\u001b[49m\u001b[43m)\u001b[49m\n\u001b[1;32m    517\u001b[0m \u001b[38;5;28;01mreturn\u001b[39;00m df\n",
      "File \u001b[0;32m/opt/hostedtoolcache/Python/3.11.4/x64/lib/python3.11/site-packages/polars/lazyframe/frame.py:1530\u001b[0m, in \u001b[0;36mLazyFrame.collect\u001b[0;34m(self, type_coercion, predicate_pushdown, projection_pushdown, simplify_expression, no_optimization, slice_pushdown, common_subplan_elimination, streaming)\u001b[0m\n\u001b[1;32m   1519\u001b[0m     common_subplan_elimination \u001b[38;5;241m=\u001b[39m \u001b[38;5;28;01mFalse\u001b[39;00m\n\u001b[1;32m   1521\u001b[0m ldf \u001b[38;5;241m=\u001b[39m \u001b[38;5;28mself\u001b[39m\u001b[38;5;241m.\u001b[39m_ldf\u001b[38;5;241m.\u001b[39moptimization_toggle(\n\u001b[1;32m   1522\u001b[0m     type_coercion,\n\u001b[1;32m   1523\u001b[0m     predicate_pushdown,\n\u001b[0;32m   (...)\u001b[0m\n\u001b[1;32m   1528\u001b[0m     streaming,\n\u001b[1;32m   1529\u001b[0m )\n\u001b[0;32m-> 1530\u001b[0m \u001b[38;5;28;01mreturn\u001b[39;00m wrap_df(ldf\u001b[38;5;241m.\u001b[39mcollect())\n",
      "\u001b[0;31mComputeError\u001b[0m: AttributeError: 'int' object has no attribute 'encode'"
     ]
    }
   ],
   "source": [
    "from hashlib import sha3_256\n",
    "\n",
    "anon.process(algorithm=lambda x: sha3_256(x.encode()).hexdigest())"
   ]
  }
 ],
 "metadata": {
  "kernelspec": {
   "display_name": "Python 3",
   "language": "python",
   "name": "python3"
  },
  "language_info": {
   "codemirror_mode": {
    "name": "ipython",
    "version": 3
   },
   "file_extension": ".py",
   "mimetype": "text/x-python",
   "name": "python",
   "nbconvert_exporter": "python",
   "pygments_lexer": "ipython3",
   "version": "3.11.4"
  },
  "vscode": {
   "interpreter": {
    "hash": "aee8b7b246df8f9039afb4144a1f6fd8d2ca17a180786b69acc140d282b71a49"
   }
  }
 },
 "nbformat": 4,
 "nbformat_minor": 2
}
