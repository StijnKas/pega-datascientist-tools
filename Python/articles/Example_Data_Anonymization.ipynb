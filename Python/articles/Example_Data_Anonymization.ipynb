{
 "cells": [
  {
   "attachments": {},
   "cell_type": "markdown",
   "metadata": {},
   "source": [
    "# Example data anonymization\n",
    "\n",
    "In Pega CDH 8.5 and up, it's now possible to record the historical data as seen by the Adaptive Models. See [this academy challenge](https://academy.pega.com/challenge/exporting-historical-data/v4) for reference. This historical data can be further used to experiment with offline models, but also to fine-tune the OOTB Gradient Boosting model. However, sharing this information with Pega can be sensitive as it contains raw predictor data. \n",
    "\n",
    "To this end, we provide a simple and transparent script to fully anonimize this dataset.\n",
    "\n",
    "The DataAnonymization script is now part of pdstools, and you can import it directly as such."
   ]
  },
  {
   "cell_type": "code",
   "execution_count": 1,
   "metadata": {
    "execution": {
     "iopub.execute_input": "2023-06-21T14:30:57.062582Z",
     "iopub.status.busy": "2023-06-21T14:30:57.062203Z",
     "iopub.status.idle": "2023-06-21T14:30:57.068362Z",
     "shell.execute_reply": "2023-06-21T14:30:57.067846Z"
    },
    "nbsphinx": "hidden"
   },
   "outputs": [],
   "source": [
    "# These lines are only for rendering in the docs, and are hidden through Jupyter tags\n",
    "# Do not run if you're running the notebook seperately\n",
    "\n",
    "import sys\n",
    "sys.path.append('../../../')"
   ]
  },
  {
   "cell_type": "code",
   "execution_count": 2,
   "metadata": {
    "execution": {
     "iopub.execute_input": "2023-06-21T14:30:57.070769Z",
     "iopub.status.busy": "2023-06-21T14:30:57.070403Z",
     "iopub.status.idle": "2023-06-21T14:30:58.225892Z",
     "shell.execute_reply": "2023-06-21T14:30:58.225265Z"
    }
   },
   "outputs": [],
   "source": [
    "from pdstools import ADMDatamart\n",
    "from pdstools import Config, DataAnonymization\n",
    "import polars as pl"
   ]
  },
  {
   "attachments": {},
   "cell_type": "markdown",
   "metadata": {},
   "source": [
    "## Input data\n",
    "\n",
    "To demonstrate this process, we're going to anonymise this toy example dataframe:"
   ]
  },
  {
   "cell_type": "code",
   "execution_count": 3,
   "metadata": {
    "execution": {
     "iopub.execute_input": "2023-06-21T14:30:58.229020Z",
     "iopub.status.busy": "2023-06-21T14:30:58.228620Z",
     "iopub.status.idle": "2023-06-21T14:30:58.239053Z",
     "shell.execute_reply": "2023-06-21T14:30:58.238445Z"
    }
   },
   "outputs": [
    {
     "data": {
      "text/html": [
       "<div><style>\n",
       ".dataframe > thead > tr > th,\n",
       ".dataframe > tbody > tr > td {\n",
       "  text-align: right;\n",
       "}\n",
       "</style>\n",
       "<small>shape: (7, 6)</small><table border=\"1\" class=\"dataframe\"><thead><tr><th>Context_Name</th><th>Customer_MaritalStatus</th><th>Customer_CLV</th><th>Customer_City</th><th>IH_Web_Inbound_Accepted_pxLastGroupID</th><th>Decision_Outcome</th></tr><tr><td>str</td><td>str</td><td>i64</td><td>str</td><td>str</td><td>str</td></tr></thead><tbody><tr><td>&quot;FirstMortgage3…</td><td>&quot;Married&quot;</td><td>1460</td><td>&quot;Port Raoul&quot;</td><td>&quot;Account&quot;</td><td>&quot;Rejected&quot;</td></tr><tr><td>&quot;FirstMortgage3…</td><td>&quot;Unknown&quot;</td><td>669</td><td>&quot;Laurianneshire…</td><td>&quot;AutoLoans&quot;</td><td>&quot;Accepted&quot;</td></tr><tr><td>&quot;MoneyMarketSav…</td><td>&quot;No Resp+&quot;</td><td>1174</td><td>&quot;Jacobshaven&quot;</td><td>&quot;Account&quot;</td><td>&quot;Rejected&quot;</td></tr><tr><td>&quot;BasicChecking&quot;</td><td>&quot;Unknown&quot;</td><td>1476</td><td>&quot;Lindton&quot;</td><td>&quot;Account&quot;</td><td>&quot;Rejected&quot;</td></tr><tr><td>&quot;BasicChecking&quot;</td><td>&quot;Married&quot;</td><td>1211</td><td>&quot;South Jimmiesh…</td><td>&quot;DepositAccount…</td><td>&quot;Accepted&quot;</td></tr><tr><td>&quot;UPlusFinPerson…</td><td>&quot;No Resp+&quot;</td><td>533</td><td>&quot;Bergeville&quot;</td><td>null</td><td>&quot;Rejected&quot;</td></tr><tr><td>&quot;BasicChecking&quot;</td><td>&quot;No Resp+&quot;</td><td>555</td><td>&quot;Willyville&quot;</td><td>&quot;DepositAccount…</td><td>&quot;Rejected&quot;</td></tr></tbody></table></div>"
      ],
      "text/plain": [
       "shape: (7, 6)\n",
       "┌────────────────┬────────────────┬──────────────┬────────────────┬────────────────┬───────────────┐\n",
       "│ Context_Name   ┆ Customer_Marit ┆ Customer_CLV ┆ Customer_City  ┆ IH_Web_Inbound ┆ Decision_Outc │\n",
       "│ ---            ┆ alStatus       ┆ ---          ┆ ---            ┆ _Accepted_pxLa ┆ ome           │\n",
       "│ str            ┆ ---            ┆ i64          ┆ str            ┆ stGr…          ┆ ---           │\n",
       "│                ┆ str            ┆              ┆                ┆ ---            ┆ str           │\n",
       "│                ┆                ┆              ┆                ┆ str            ┆               │\n",
       "╞════════════════╪════════════════╪══════════════╪════════════════╪════════════════╪═══════════════╡\n",
       "│ FirstMortgage3 ┆ Married        ┆ 1460         ┆ Port Raoul     ┆ Account        ┆ Rejected      │\n",
       "│ 0yr            ┆                ┆              ┆                ┆                ┆               │\n",
       "│ FirstMortgage3 ┆ Unknown        ┆ 669          ┆ Laurianneshire ┆ AutoLoans      ┆ Accepted      │\n",
       "│ 0yr            ┆                ┆              ┆                ┆                ┆               │\n",
       "│ MoneyMarketSav ┆ No Resp+       ┆ 1174         ┆ Jacobshaven    ┆ Account        ┆ Rejected      │\n",
       "│ ingsAccount    ┆                ┆              ┆                ┆                ┆               │\n",
       "│ BasicChecking  ┆ Unknown        ┆ 1476         ┆ Lindton        ┆ Account        ┆ Rejected      │\n",
       "│ BasicChecking  ┆ Married        ┆ 1211         ┆ South          ┆ DepositAccount ┆ Accepted      │\n",
       "│                ┆                ┆              ┆ Jimmieshire    ┆ s              ┆               │\n",
       "│ UPlusFinPerson ┆ No Resp+       ┆ 533          ┆ Bergeville     ┆ null           ┆ Rejected      │\n",
       "│ al             ┆                ┆              ┆                ┆                ┆               │\n",
       "│ BasicChecking  ┆ No Resp+       ┆ 555          ┆ Willyville     ┆ DepositAccount ┆ Rejected      │\n",
       "│                ┆                ┆              ┆                ┆ s              ┆               │\n",
       "└────────────────┴────────────────┴──────────────┴────────────────┴────────────────┴───────────────┘"
      ]
     },
     "execution_count": 3,
     "metadata": {},
     "output_type": "execute_result"
    }
   ],
   "source": [
    "pl.read_ndjson('../../../../data/SampleHDS.json')"
   ]
  },
  {
   "attachments": {},
   "cell_type": "markdown",
   "metadata": {},
   "source": [
    "As you can see, this dataset consists of regular predictors, IH predictors, context keys and the outcome column. Additionally, some columns are numeric, others are strings. Let's first initialize the DataAnonymization class."
   ]
  },
  {
   "cell_type": "code",
   "execution_count": 4,
   "metadata": {
    "execution": {
     "iopub.execute_input": "2023-06-21T14:30:58.241485Z",
     "iopub.status.busy": "2023-06-21T14:30:58.241114Z",
     "iopub.status.idle": "2023-06-21T14:30:58.249024Z",
     "shell.execute_reply": "2023-06-21T14:30:58.248562Z"
    }
   },
   "outputs": [],
   "source": [
    "anon = DataAnonymization(hds_folder='../../../../data/')"
   ]
  },
  {
   "attachments": {},
   "cell_type": "markdown",
   "metadata": {},
   "source": [
    "By default, the class applies a set of anonymisation techniques:\n",
    "- Column names are remapped to a non-descriptive name\n",
    "- Categorical values are hashed with a random seed\n",
    "- Numerical values are normalized between 0 and 1\n",
    "- Outcomes are mapped to a binary outcome.\n",
    "\n",
    "To apply these techniques, simply call `.process()`:"
   ]
  },
  {
   "cell_type": "code",
   "execution_count": 5,
   "metadata": {
    "execution": {
     "iopub.execute_input": "2023-06-21T14:30:58.251290Z",
     "iopub.status.busy": "2023-06-21T14:30:58.250940Z",
     "iopub.status.idle": "2023-06-21T14:30:58.256893Z",
     "shell.execute_reply": "2023-06-21T14:30:58.256450Z"
    }
   },
   "outputs": [
    {
     "data": {
      "text/html": [
       "<div><style>\n",
       ".dataframe > thead > tr > th,\n",
       ".dataframe > tbody > tr > td {\n",
       "  text-align: right;\n",
       "}\n",
       "</style>\n",
       "<small>shape: (7, 7)</small><table border=\"1\" class=\"dataframe\"><thead><tr><th>PREDICTOR_0</th><th>PREDICTOR_1</th><th>filename</th><th>PREDICTOR_3</th><th>Context_Name</th><th>IH_PREDICTOR_0</th><th>Decision_Outcome</th></tr><tr><td>f64</td><td>str</td><td>str</td><td>str</td><td>str</td><td>str</td><td>bool</td></tr></thead><tbody><tr><td>1.2927e19</td><td>&quot;12218784699474…</td><td>&quot;../../../../da…</td><td>&quot;16572993644997…</td><td>&quot;17615327437218…</td><td>&quot;13748744088833…</td><td>false</td></tr><tr><td>1.4856e19</td><td>&quot;11664559491605…</td><td>&quot;../../../../da…</td><td>&quot;15323330438582…</td><td>&quot;17615327437218…</td><td>&quot;11405312846311…</td><td>true</td></tr><tr><td>5.6458e17</td><td>&quot;17818714246510…</td><td>&quot;../../../../da…</td><td>&quot;40562624011471…</td><td>&quot;34950384669302…</td><td>&quot;13748744088833…</td><td>false</td></tr><tr><td>4.0723e18</td><td>&quot;14034663189207…</td><td>&quot;../../../../da…</td><td>&quot;15323330438582…</td><td>&quot;70736739346241…</td><td>&quot;13748744088833…</td><td>false</td></tr><tr><td>1.4677e19</td><td>&quot;10444893483847…</td><td>&quot;../../../../da…</td><td>&quot;16572993644997…</td><td>&quot;70736739346241…</td><td>&quot;17466373686993…</td><td>true</td></tr><tr><td>1.6330e19</td><td>&quot;16087207103916…</td><td>&quot;../../../../da…</td><td>&quot;40562624011471…</td><td>&quot;83932373740557…</td><td>null</td><td>false</td></tr><tr><td>8.7675e18</td><td>&quot;13304530244605…</td><td>&quot;../../../../da…</td><td>&quot;40562624011471…</td><td>&quot;70736739346241…</td><td>&quot;17466373686993…</td><td>false</td></tr></tbody></table></div>"
      ],
      "text/plain": [
       "shape: (7, 7)\n",
       "┌─────────────┬───────────────┬──────────────┬──────────────┬────────────┬────────────┬────────────┐\n",
       "│ PREDICTOR_0 ┆ PREDICTOR_1   ┆ filename     ┆ PREDICTOR_3  ┆ Context_Na ┆ IH_PREDICT ┆ Decision_O │\n",
       "│ ---         ┆ ---           ┆ ---          ┆ ---          ┆ me         ┆ OR_0       ┆ utcome     │\n",
       "│ f64         ┆ str           ┆ str          ┆ str          ┆ ---        ┆ ---        ┆ ---        │\n",
       "│             ┆               ┆              ┆              ┆ str        ┆ str        ┆ bool       │\n",
       "╞═════════════╪═══════════════╪══════════════╪══════════════╪════════════╪════════════╪════════════╡\n",
       "│ 1.2927e19   ┆ 1221878469947 ┆ ../../../../ ┆ 165729936449 ┆ 1761532743 ┆ 1374874408 ┆ false      │\n",
       "│             ┆ 4568135       ┆ data/SampleH ┆ 97737501     ┆ 7218048237 ┆ 8833472460 ┆            │\n",
       "│             ┆               ┆ DS.json      ┆              ┆            ┆            ┆            │\n",
       "│ 1.4856e19   ┆ 1166455949160 ┆ ../../../../ ┆ 153233304385 ┆ 1761532743 ┆ 1140531284 ┆ true       │\n",
       "│             ┆ 5465211       ┆ data/SampleH ┆ 82285340     ┆ 7218048237 ┆ 631160086  ┆            │\n",
       "│             ┆               ┆ DS.json      ┆              ┆            ┆            ┆            │\n",
       "│ 5.6458e17   ┆ 1781871424651 ┆ ../../../../ ┆ 405626240114 ┆ 3495038466 ┆ 1374874408 ┆ false      │\n",
       "│             ┆ 0586388       ┆ data/SampleH ┆ 7126131      ┆ 930227947  ┆ 8833472460 ┆            │\n",
       "│             ┆               ┆ DS.json      ┆              ┆            ┆            ┆            │\n",
       "│ 4.0723e18   ┆ 1403466318920 ┆ ../../../../ ┆ 153233304385 ┆ 7073673934 ┆ 1374874408 ┆ false      │\n",
       "│             ┆ 7063160       ┆ data/SampleH ┆ 82285340     ┆ 624108655  ┆ 8833472460 ┆            │\n",
       "│             ┆               ┆ DS.json      ┆              ┆            ┆            ┆            │\n",
       "│ 1.4677e19   ┆ 1044489348384 ┆ ../../../../ ┆ 165729936449 ┆ 7073673934 ┆ 1746637368 ┆ true       │\n",
       "│             ┆ 7899857       ┆ data/SampleH ┆ 97737501     ┆ 624108655  ┆ 6993538373 ┆            │\n",
       "│             ┆               ┆ DS.json      ┆              ┆            ┆            ┆            │\n",
       "│ 1.6330e19   ┆ 1608720710391 ┆ ../../../../ ┆ 405626240114 ┆ 8393237374 ┆ null       ┆ false      │\n",
       "│             ┆ 6446422       ┆ data/SampleH ┆ 7126131      ┆ 055751667  ┆            ┆            │\n",
       "│             ┆               ┆ DS.json      ┆              ┆            ┆            ┆            │\n",
       "│ 8.7675e18   ┆ 1330453024460 ┆ ../../../../ ┆ 405626240114 ┆ 7073673934 ┆ 1746637368 ┆ false      │\n",
       "│             ┆ 5909442       ┆ data/SampleH ┆ 7126131      ┆ 624108655  ┆ 6993538373 ┆            │\n",
       "│             ┆               ┆ DS.json      ┆              ┆            ┆            ┆            │\n",
       "└─────────────┴───────────────┴──────────────┴──────────────┴────────────┴────────────┴────────────┘"
      ]
     },
     "execution_count": 5,
     "metadata": {},
     "output_type": "execute_result"
    }
   ],
   "source": [
    "anon.process()"
   ]
  },
  {
   "attachments": {},
   "cell_type": "markdown",
   "metadata": {},
   "source": [
    "To trace back the columns to their original names, the class also contains a mapping, which does not have to be provided."
   ]
  },
  {
   "cell_type": "code",
   "execution_count": 6,
   "metadata": {
    "execution": {
     "iopub.execute_input": "2023-06-21T14:30:58.259084Z",
     "iopub.status.busy": "2023-06-21T14:30:58.258718Z",
     "iopub.status.idle": "2023-06-21T14:30:58.262452Z",
     "shell.execute_reply": "2023-06-21T14:30:58.262007Z"
    }
   },
   "outputs": [
    {
     "data": {
      "text/plain": [
       "{'Customer_CLV': 'PREDICTOR_0',\n",
       " 'Customer_City': 'PREDICTOR_1',\n",
       " 'filename': 'filename',\n",
       " 'Customer_MaritalStatus': 'PREDICTOR_3',\n",
       " 'Context_Name': 'Context_Name',\n",
       " 'IH_Web_Inbound_Accepted_pxLastGroupID': 'IH_PREDICTOR_0',\n",
       " 'Decision_Outcome': 'Decision_Outcome'}"
      ]
     },
     "execution_count": 6,
     "metadata": {},
     "output_type": "execute_result"
    }
   ],
   "source": [
    "anon.column_mapping"
   ]
  },
  {
   "attachments": {},
   "cell_type": "markdown",
   "metadata": {},
   "source": [
    "## Configs\n",
    "\n",
    "Each capability can optionally be turned off - see below for the full list of config options, and refer to the API reference for the full description."
   ]
  },
  {
   "cell_type": "code",
   "execution_count": 7,
   "metadata": {
    "execution": {
     "iopub.execute_input": "2023-06-21T14:30:58.264593Z",
     "iopub.status.busy": "2023-06-21T14:30:58.264228Z",
     "iopub.status.idle": "2023-06-21T14:30:58.268757Z",
     "shell.execute_reply": "2023-06-21T14:30:58.268187Z"
    }
   },
   "outputs": [
    {
     "data": {
      "text/plain": [
       "{'config_file': None,\n",
       " 'hds_folder': '.',\n",
       " 'use_datamart': False,\n",
       " 'datamart_folder': 'datamart',\n",
       " 'output_format': 'ndjson',\n",
       " 'output_folder': 'output',\n",
       " 'mapping_file': 'mapping.map',\n",
       " 'mask_predictor_names': True,\n",
       " 'mask_context_key_names': False,\n",
       " 'mask_ih_names': True,\n",
       " 'mask_outcome_name': False,\n",
       " 'mask_predictor_values': True,\n",
       " 'mask_context_key_values': True,\n",
       " 'mask_ih_values': True,\n",
       " 'mask_outcome_values': True,\n",
       " 'context_key_label': 'Context_*',\n",
       " 'ih_label': 'IH_*',\n",
       " 'outcome_column': 'Decision_Outcome',\n",
       " 'positive_outcomes': ['Accepted', 'Clicked'],\n",
       " 'negative_outcomes': ['Rejected', 'Impression'],\n",
       " 'special_predictors': ['Decision_DecisionTime',\n",
       "  'Decision_OutcomeTime',\n",
       "  'Decision_Rank'],\n",
       " 'sample_percentage_schema_inferencing': 0.01}"
      ]
     },
     "execution_count": 7,
     "metadata": {},
     "output_type": "execute_result"
    }
   ],
   "source": [
    "dict(zip(Config.__init__.__code__.co_varnames[1:], Config.__init__.__defaults__))"
   ]
  },
  {
   "attachments": {},
   "cell_type": "markdown",
   "metadata": {},
   "source": [
    "It's easy to change these parameters by just passing the keyword arguments. In the following example, we\n",
    "- Keep the IH predictor names\n",
    "- Keep the outcome values\n",
    "- Keep the context key values\n",
    "- Keep the context key predictor names"
   ]
  },
  {
   "cell_type": "code",
   "execution_count": 8,
   "metadata": {
    "execution": {
     "iopub.execute_input": "2023-06-21T14:30:58.271245Z",
     "iopub.status.busy": "2023-06-21T14:30:58.271056Z",
     "iopub.status.idle": "2023-06-21T14:30:58.281252Z",
     "shell.execute_reply": "2023-06-21T14:30:58.280694Z"
    }
   },
   "outputs": [
    {
     "data": {
      "text/html": [
       "<div><style>\n",
       ".dataframe > thead > tr > th,\n",
       ".dataframe > tbody > tr > td {\n",
       "  text-align: right;\n",
       "}\n",
       "</style>\n",
       "<small>shape: (7, 7)</small><table border=\"1\" class=\"dataframe\"><thead><tr><th>PREDICTOR_0</th><th>PREDICTOR_1</th><th>filename</th><th>PREDICTOR_3</th><th>Context_Name</th><th>IH_Web_Inbound_Accepted_pxLastGroupID</th><th>Decision_Outcome</th></tr><tr><td>f64</td><td>str</td><td>str</td><td>str</td><td>str</td><td>str</td><td>str</td></tr></thead><tbody><tr><td>1.2927e19</td><td>&quot;86606204180755…</td><td>&quot;../../../../da…</td><td>&quot;54581766898083…</td><td>&quot;FirstMortgage3…</td><td>&quot;68189799491514…</td><td>&quot;Rejected&quot;</td></tr><tr><td>1.4856e19</td><td>&quot;17757176471861…</td><td>&quot;../../../../da…</td><td>&quot;84491316786583…</td><td>&quot;FirstMortgage3…</td><td>&quot;17477144953442…</td><td>&quot;Accepted&quot;</td></tr><tr><td>5.6458e17</td><td>&quot;52840798808264…</td><td>&quot;../../../../da…</td><td>&quot;97268020857330…</td><td>&quot;MoneyMarketSav…</td><td>&quot;68189799491514…</td><td>&quot;Rejected&quot;</td></tr><tr><td>4.0723e18</td><td>&quot;17484896181961…</td><td>&quot;../../../../da…</td><td>&quot;84491316786583…</td><td>&quot;BasicChecking&quot;</td><td>&quot;68189799491514…</td><td>&quot;Rejected&quot;</td></tr><tr><td>1.4677e19</td><td>&quot;95983250069319…</td><td>&quot;../../../../da…</td><td>&quot;54581766898083…</td><td>&quot;BasicChecking&quot;</td><td>&quot;63907070653938…</td><td>&quot;Accepted&quot;</td></tr><tr><td>1.6330e19</td><td>&quot;13577353539760…</td><td>&quot;../../../../da…</td><td>&quot;97268020857330…</td><td>&quot;UPlusFinPerson…</td><td>null</td><td>&quot;Rejected&quot;</td></tr><tr><td>8.7675e18</td><td>&quot;65719760475481…</td><td>&quot;../../../../da…</td><td>&quot;97268020857330…</td><td>&quot;BasicChecking&quot;</td><td>&quot;63907070653938…</td><td>&quot;Rejected&quot;</td></tr></tbody></table></div>"
      ],
      "text/plain": [
       "shape: (7, 7)\n",
       "┌─────────────┬───────────────┬──────────────┬──────────────┬────────────┬────────────┬────────────┐\n",
       "│ PREDICTOR_0 ┆ PREDICTOR_1   ┆ filename     ┆ PREDICTOR_3  ┆ Context_Na ┆ IH_Web_Inb ┆ Decision_O │\n",
       "│ ---         ┆ ---           ┆ ---          ┆ ---          ┆ me         ┆ ound_Accep ┆ utcome     │\n",
       "│ f64         ┆ str           ┆ str          ┆ str          ┆ ---        ┆ ted_pxLast ┆ ---        │\n",
       "│             ┆               ┆              ┆              ┆ str        ┆ Gr…        ┆ str        │\n",
       "│             ┆               ┆              ┆              ┆            ┆ ---        ┆            │\n",
       "│             ┆               ┆              ┆              ┆            ┆ str        ┆            │\n",
       "╞═════════════╪═══════════════╪══════════════╪══════════════╪════════════╪════════════╪════════════╡\n",
       "│ 1.2927e19   ┆ 8660620418075 ┆ ../../../../ ┆ 545817668980 ┆ FirstMortg ┆ 6818979949 ┆ Rejected   │\n",
       "│             ┆ 567260        ┆ data/SampleH ┆ 8326832      ┆ age30yr    ┆ 151464292  ┆            │\n",
       "│             ┆               ┆ DS.json      ┆              ┆            ┆            ┆            │\n",
       "│ 1.4856e19   ┆ 1775717647186 ┆ ../../../../ ┆ 844913167865 ┆ FirstMortg ┆ 1747714495 ┆ Accepted   │\n",
       "│             ┆ 1491330       ┆ data/SampleH ┆ 8351288      ┆ age30yr    ┆ 3442458201 ┆            │\n",
       "│             ┆               ┆ DS.json      ┆              ┆            ┆            ┆            │\n",
       "│ 5.6458e17   ┆ 5284079880826 ┆ ../../../../ ┆ 972680208573 ┆ MoneyMarke ┆ 6818979949 ┆ Rejected   │\n",
       "│             ┆ 488592        ┆ data/SampleH ┆ 3078812      ┆ tSavingsAc ┆ 151464292  ┆            │\n",
       "│             ┆               ┆ DS.json      ┆              ┆ count      ┆            ┆            │\n",
       "│ 4.0723e18   ┆ 1748489618196 ┆ ../../../../ ┆ 844913167865 ┆ BasicCheck ┆ 6818979949 ┆ Rejected   │\n",
       "│             ┆ 1933711       ┆ data/SampleH ┆ 8351288      ┆ ing        ┆ 151464292  ┆            │\n",
       "│             ┆               ┆ DS.json      ┆              ┆            ┆            ┆            │\n",
       "│ 1.4677e19   ┆ 9598325006931 ┆ ../../../../ ┆ 545817668980 ┆ BasicCheck ┆ 6390707065 ┆ Accepted   │\n",
       "│             ┆ 978011        ┆ data/SampleH ┆ 8326832      ┆ ing        ┆ 393838826  ┆            │\n",
       "│             ┆               ┆ DS.json      ┆              ┆            ┆            ┆            │\n",
       "│ 1.6330e19   ┆ 1357735353976 ┆ ../../../../ ┆ 972680208573 ┆ UPlusFinPe ┆ null       ┆ Rejected   │\n",
       "│             ┆ 0439796       ┆ data/SampleH ┆ 3078812      ┆ rsonal     ┆            ┆            │\n",
       "│             ┆               ┆ DS.json      ┆              ┆            ┆            ┆            │\n",
       "│ 8.7675e18   ┆ 6571976047548 ┆ ../../../../ ┆ 972680208573 ┆ BasicCheck ┆ 6390707065 ┆ Rejected   │\n",
       "│             ┆ 155418        ┆ data/SampleH ┆ 3078812      ┆ ing        ┆ 393838826  ┆            │\n",
       "│             ┆               ┆ DS.json      ┆              ┆            ┆            ┆            │\n",
       "└─────────────┴───────────────┴──────────────┴──────────────┴────────────┴────────────┴────────────┘"
      ]
     },
     "execution_count": 8,
     "metadata": {},
     "output_type": "execute_result"
    }
   ],
   "source": [
    "anon = DataAnonymization(\n",
    "    hds_folder='../../../../data/',\n",
    "    mask_ih_names=False,\n",
    "    mask_outcome_values=False,\n",
    "    mask_context_key_values=False,\n",
    "    mask_context_key_names=False,\n",
    ")\n",
    "anon.process()\n"
   ]
  },
  {
   "attachments": {},
   "cell_type": "markdown",
   "metadata": {},
   "source": [
    "The configs can also be written and read as such:"
   ]
  },
  {
   "cell_type": "code",
   "execution_count": 9,
   "metadata": {
    "execution": {
     "iopub.execute_input": "2023-06-21T14:30:58.283278Z",
     "iopub.status.busy": "2023-06-21T14:30:58.283093Z",
     "iopub.status.idle": "2023-06-21T14:30:58.286043Z",
     "shell.execute_reply": "2023-06-21T14:30:58.285499Z"
    }
   },
   "outputs": [],
   "source": [
    "anon.config.save_to_config_file('config.json')"
   ]
  },
  {
   "cell_type": "code",
   "execution_count": 10,
   "metadata": {
    "execution": {
     "iopub.execute_input": "2023-06-21T14:30:58.288141Z",
     "iopub.status.busy": "2023-06-21T14:30:58.287957Z",
     "iopub.status.idle": "2023-06-21T14:30:58.297667Z",
     "shell.execute_reply": "2023-06-21T14:30:58.297116Z"
    }
   },
   "outputs": [
    {
     "data": {
      "text/html": [
       "<div><style>\n",
       ".dataframe > thead > tr > th,\n",
       ".dataframe > tbody > tr > td {\n",
       "  text-align: right;\n",
       "}\n",
       "</style>\n",
       "<small>shape: (7, 7)</small><table border=\"1\" class=\"dataframe\"><thead><tr><th>PREDICTOR_0</th><th>PREDICTOR_1</th><th>filename</th><th>PREDICTOR_3</th><th>Context_Name</th><th>IH_Web_Inbound_Accepted_pxLastGroupID</th><th>Decision_Outcome</th></tr><tr><td>f64</td><td>str</td><td>str</td><td>str</td><td>str</td><td>str</td><td>str</td></tr></thead><tbody><tr><td>1.2927e19</td><td>&quot;10604228058608…</td><td>&quot;../../../../da…</td><td>&quot;55081110609466…</td><td>&quot;FirstMortgage3…</td><td>&quot;59958942236058…</td><td>&quot;Rejected&quot;</td></tr><tr><td>1.4856e19</td><td>&quot;17158792168735…</td><td>&quot;../../../../da…</td><td>&quot;14908757140887…</td><td>&quot;FirstMortgage3…</td><td>&quot;78621541948389…</td><td>&quot;Accepted&quot;</td></tr><tr><td>5.6458e17</td><td>&quot;31343449231457…</td><td>&quot;../../../../da…</td><td>&quot;11820534906403…</td><td>&quot;MoneyMarketSav…</td><td>&quot;59958942236058…</td><td>&quot;Rejected&quot;</td></tr><tr><td>4.0723e18</td><td>&quot;96928619995131…</td><td>&quot;../../../../da…</td><td>&quot;14908757140887…</td><td>&quot;BasicChecking&quot;</td><td>&quot;59958942236058…</td><td>&quot;Rejected&quot;</td></tr><tr><td>1.4677e19</td><td>&quot;60687904926235…</td><td>&quot;../../../../da…</td><td>&quot;55081110609466…</td><td>&quot;BasicChecking&quot;</td><td>&quot;35179578350898…</td><td>&quot;Accepted&quot;</td></tr><tr><td>1.6330e19</td><td>&quot;63544432848266…</td><td>&quot;../../../../da…</td><td>&quot;11820534906403…</td><td>&quot;UPlusFinPerson…</td><td>null</td><td>&quot;Rejected&quot;</td></tr><tr><td>8.7675e18</td><td>&quot;37642989087553…</td><td>&quot;../../../../da…</td><td>&quot;11820534906403…</td><td>&quot;BasicChecking&quot;</td><td>&quot;35179578350898…</td><td>&quot;Rejected&quot;</td></tr></tbody></table></div>"
      ],
      "text/plain": [
       "shape: (7, 7)\n",
       "┌─────────────┬───────────────┬──────────────┬──────────────┬────────────┬────────────┬────────────┐\n",
       "│ PREDICTOR_0 ┆ PREDICTOR_1   ┆ filename     ┆ PREDICTOR_3  ┆ Context_Na ┆ IH_Web_Inb ┆ Decision_O │\n",
       "│ ---         ┆ ---           ┆ ---          ┆ ---          ┆ me         ┆ ound_Accep ┆ utcome     │\n",
       "│ f64         ┆ str           ┆ str          ┆ str          ┆ ---        ┆ ted_pxLast ┆ ---        │\n",
       "│             ┆               ┆              ┆              ┆ str        ┆ Gr…        ┆ str        │\n",
       "│             ┆               ┆              ┆              ┆            ┆ ---        ┆            │\n",
       "│             ┆               ┆              ┆              ┆            ┆ str        ┆            │\n",
       "╞═════════════╪═══════════════╪══════════════╪══════════════╪════════════╪════════════╪════════════╡\n",
       "│ 1.2927e19   ┆ 1060422805860 ┆ ../../../../ ┆ 550811106094 ┆ FirstMortg ┆ 5995894223 ┆ Rejected   │\n",
       "│             ┆ 8819519       ┆ data/SampleH ┆ 6659321      ┆ age30yr    ┆ 605817250  ┆            │\n",
       "│             ┆               ┆ DS.json      ┆              ┆            ┆            ┆            │\n",
       "│ 1.4856e19   ┆ 1715879216873 ┆ ../../../../ ┆ 149087571408 ┆ FirstMortg ┆ 7862154194 ┆ Accepted   │\n",
       "│             ┆ 5727507       ┆ data/SampleH ┆ 87431275     ┆ age30yr    ┆ 838901108  ┆            │\n",
       "│             ┆               ┆ DS.json      ┆              ┆            ┆            ┆            │\n",
       "│ 5.6458e17   ┆ 3134344923145 ┆ ../../../../ ┆ 118205349064 ┆ MoneyMarke ┆ 5995894223 ┆ Rejected   │\n",
       "│             ┆ 742910        ┆ data/SampleH ┆ 03648043     ┆ tSavingsAc ┆ 605817250  ┆            │\n",
       "│             ┆               ┆ DS.json      ┆              ┆ count      ┆            ┆            │\n",
       "│ 4.0723e18   ┆ 9692861999513 ┆ ../../../../ ┆ 149087571408 ┆ BasicCheck ┆ 5995894223 ┆ Rejected   │\n",
       "│             ┆ 157607        ┆ data/SampleH ┆ 87431275     ┆ ing        ┆ 605817250  ┆            │\n",
       "│             ┆               ┆ DS.json      ┆              ┆            ┆            ┆            │\n",
       "│ 1.4677e19   ┆ 6068790492623 ┆ ../../../../ ┆ 550811106094 ┆ BasicCheck ┆ 3517957835 ┆ Accepted   │\n",
       "│             ┆ 503050        ┆ data/SampleH ┆ 6659321      ┆ ing        ┆ 089805999  ┆            │\n",
       "│             ┆               ┆ DS.json      ┆              ┆            ┆            ┆            │\n",
       "│ 1.6330e19   ┆ 6354443284826 ┆ ../../../../ ┆ 118205349064 ┆ UPlusFinPe ┆ null       ┆ Rejected   │\n",
       "│             ┆ 610531        ┆ data/SampleH ┆ 03648043     ┆ rsonal     ┆            ┆            │\n",
       "│             ┆               ┆ DS.json      ┆              ┆            ┆            ┆            │\n",
       "│ 8.7675e18   ┆ 3764298908755 ┆ ../../../../ ┆ 118205349064 ┆ BasicCheck ┆ 3517957835 ┆ Rejected   │\n",
       "│             ┆ 381670        ┆ data/SampleH ┆ 03648043     ┆ ing        ┆ 089805999  ┆            │\n",
       "│             ┆               ┆ DS.json      ┆              ┆            ┆            ┆            │\n",
       "└─────────────┴───────────────┴──────────────┴──────────────┴────────────┴────────────┴────────────┘"
      ]
     },
     "execution_count": 10,
     "metadata": {},
     "output_type": "execute_result"
    }
   ],
   "source": [
    "anon = DataAnonymization(config=Config(config_file='config.json'))\n",
    "anon.process()"
   ]
  },
  {
   "attachments": {},
   "cell_type": "markdown",
   "metadata": {},
   "source": [
    "## Exporting\n",
    "Two functions export:\n",
    "- `create_mapping_file()` writes the mapping file of the predictor names\n",
    "- `write_to_output()` writes the processed dataframe to disk\n",
    "\n",
    "Write to output accepts the following extensions: `[\"ndjson\", \"parquet\", \"arrow\", \"csv\"]`"
   ]
  },
  {
   "cell_type": "code",
   "execution_count": 11,
   "metadata": {
    "execution": {
     "iopub.execute_input": "2023-06-21T14:30:58.299905Z",
     "iopub.status.busy": "2023-06-21T14:30:58.299562Z",
     "iopub.status.idle": "2023-06-21T14:30:58.303185Z",
     "shell.execute_reply": "2023-06-21T14:30:58.302635Z"
    }
   },
   "outputs": [
    {
     "name": "stdout",
     "output_type": "stream",
     "text": [
      "Customer_CLV=PREDICTOR_0\n",
      "Customer_City=PREDICTOR_1\n",
      "filename=filename\n",
      "Customer_MaritalStatus=PREDICTOR_3\n",
      "Context_Name=Context_Name\n",
      "IH_Web_Inbound_Accepted_pxLastGroupID=IH_Web_Inbound_Accepted_pxLastGroupID\n",
      "Decision_Outcome=Decision_Outcome\n",
      "\n"
     ]
    }
   ],
   "source": [
    "anon.create_mapping_file()\n",
    "with open('mapping.map') as f:\n",
    "    print(f.read())"
   ]
  },
  {
   "cell_type": "code",
   "execution_count": 12,
   "metadata": {
    "execution": {
     "iopub.execute_input": "2023-06-21T14:30:58.305814Z",
     "iopub.status.busy": "2023-06-21T14:30:58.305460Z",
     "iopub.status.idle": "2023-06-21T14:30:58.308865Z",
     "shell.execute_reply": "2023-06-21T14:30:58.308433Z"
    }
   },
   "outputs": [],
   "source": [
    "anon.write_to_output(ext='arrow')"
   ]
  },
  {
   "cell_type": "code",
   "execution_count": 13,
   "metadata": {
    "execution": {
     "iopub.execute_input": "2023-06-21T14:30:58.311002Z",
     "iopub.status.busy": "2023-06-21T14:30:58.310709Z",
     "iopub.status.idle": "2023-06-21T14:30:58.314966Z",
     "shell.execute_reply": "2023-06-21T14:30:58.314540Z"
    }
   },
   "outputs": [
    {
     "data": {
      "text/html": [
       "<div><style>\n",
       ".dataframe > thead > tr > th,\n",
       ".dataframe > tbody > tr > td {\n",
       "  text-align: right;\n",
       "}\n",
       "</style>\n",
       "<small>shape: (7, 6)</small><table border=\"1\" class=\"dataframe\"><thead><tr><th>PREDICTOR_0</th><th>PREDICTOR_1</th><th>PREDICTOR_3</th><th>Context_Name</th><th>IH_Web_Inbound_Accepted_pxLastGroupID</th><th>Decision_Outcome</th></tr><tr><td>f64</td><td>str</td><td>str</td><td>str</td><td>str</td><td>str</td></tr></thead><tbody><tr><td>1.2927e19</td><td>&quot;40196945896493…</td><td>&quot;13798084114447…</td><td>&quot;FirstMortgage3…</td><td>&quot;30588241176168…</td><td>&quot;Rejected&quot;</td></tr><tr><td>1.4856e19</td><td>&quot;45134561734569…</td><td>&quot;64503284393415…</td><td>&quot;FirstMortgage3…</td><td>&quot;61929722680852…</td><td>&quot;Accepted&quot;</td></tr><tr><td>5.6458e17</td><td>&quot;15945104598315…</td><td>&quot;99537567147413…</td><td>&quot;MoneyMarketSav…</td><td>&quot;30588241176168…</td><td>&quot;Rejected&quot;</td></tr><tr><td>4.0723e18</td><td>&quot;17149883280324…</td><td>&quot;64503284393415…</td><td>&quot;BasicChecking&quot;</td><td>&quot;30588241176168…</td><td>&quot;Rejected&quot;</td></tr><tr><td>1.4677e19</td><td>&quot;17919991720699…</td><td>&quot;13798084114447…</td><td>&quot;BasicChecking&quot;</td><td>&quot;15922805819319…</td><td>&quot;Accepted&quot;</td></tr><tr><td>1.6330e19</td><td>&quot;17609449331077…</td><td>&quot;99537567147413…</td><td>&quot;UPlusFinPerson…</td><td>null</td><td>&quot;Rejected&quot;</td></tr><tr><td>8.7675e18</td><td>&quot;35015719473000…</td><td>&quot;99537567147413…</td><td>&quot;BasicChecking&quot;</td><td>&quot;15922805819319…</td><td>&quot;Rejected&quot;</td></tr></tbody></table></div>"
      ],
      "text/plain": [
       "shape: (7, 6)\n",
       "┌─────────────┬────────────────┬────────────────┬────────────────┬────────────────┬────────────────┐\n",
       "│ PREDICTOR_0 ┆ PREDICTOR_1    ┆ PREDICTOR_3    ┆ Context_Name   ┆ IH_Web_Inbound ┆ Decision_Outco │\n",
       "│ ---         ┆ ---            ┆ ---            ┆ ---            ┆ _Accepted_pxLa ┆ me             │\n",
       "│ f64         ┆ str            ┆ str            ┆ str            ┆ stGr…          ┆ ---            │\n",
       "│             ┆                ┆                ┆                ┆ ---            ┆ str            │\n",
       "│             ┆                ┆                ┆                ┆ str            ┆                │\n",
       "╞═════════════╪════════════════╪════════════════╪════════════════╪════════════════╪════════════════╡\n",
       "│ 1.2927e19   ┆ 40196945896493 ┆ 13798084114447 ┆ FirstMortgage3 ┆ 30588241176168 ┆ Rejected       │\n",
       "│             ┆ 30362          ┆ 251749         ┆ 0yr            ┆ 15020          ┆                │\n",
       "│ 1.4856e19   ┆ 45134561734569 ┆ 64503284393415 ┆ FirstMortgage3 ┆ 61929722680852 ┆ Accepted       │\n",
       "│             ┆ 20937          ┆ 68242          ┆ 0yr            ┆ 95076          ┆                │\n",
       "│ 5.6458e17   ┆ 15945104598315 ┆ 99537567147413 ┆ MoneyMarketSav ┆ 30588241176168 ┆ Rejected       │\n",
       "│             ┆ 551042         ┆ 49667          ┆ ingsAccount    ┆ 15020          ┆                │\n",
       "│ 4.0723e18   ┆ 17149883280324 ┆ 64503284393415 ┆ BasicChecking  ┆ 30588241176168 ┆ Rejected       │\n",
       "│             ┆ 307381         ┆ 68242          ┆                ┆ 15020          ┆                │\n",
       "│ 1.4677e19   ┆ 17919991720699 ┆ 13798084114447 ┆ BasicChecking  ┆ 15922805819319 ┆ Accepted       │\n",
       "│             ┆ 136571         ┆ 251749         ┆                ┆ 367068         ┆                │\n",
       "│ 1.6330e19   ┆ 17609449331077 ┆ 99537567147413 ┆ UPlusFinPerson ┆ null           ┆ Rejected       │\n",
       "│             ┆ 584824         ┆ 49667          ┆ al             ┆                ┆                │\n",
       "│ 8.7675e18   ┆ 35015719473000 ┆ 99537567147413 ┆ BasicChecking  ┆ 15922805819319 ┆ Rejected       │\n",
       "│             ┆ 92889          ┆ 49667          ┆                ┆ 367068         ┆                │\n",
       "└─────────────┴────────────────┴────────────────┴────────────────┴────────────────┴────────────────┘"
      ]
     },
     "execution_count": 13,
     "metadata": {},
     "output_type": "execute_result"
    }
   ],
   "source": [
    "pl.read_ipc('output/hds.arrow')"
   ]
  },
  {
   "attachments": {},
   "cell_type": "markdown",
   "metadata": {},
   "source": [
    "## Advanced: Hash fuctions\n",
    "\n",
    "By default, we use [the same hashing algorithm Polars](https://pola-rs.github.io/polars/py-polars/html/reference/expressions/api/polars.Expr.hash.html#polars.Expr.hash) uses: [xxhash](https://github.com/Cyan4973/xxHash), as implemented [here](https://github.com/pola-rs/polars/blob/3f287f370b3c388ed2f3f218b2c096382548136f/polars/polars-core/src/vector_hasher.rs#L266). xxhash is fast to compute, and you can check its performance in collision, dispersion and randomness [here](https://github.com/Cyan4973/xxHash/tree/dev/tests). \n",
    "\n",
    "xxhash accepts four distinct seeds, but by default we set the seeds to `0`. It is possible to set the `seed` argument of the `process()` function to `'random'`, which will set all four seeds to a random integer between `0` and `1000000000`. Alternatively, it is possible to supply the four seeds manually with arguments `seed`, `seed_1`, `seed_2` and `seed_3`. \n",
    "\n",
    "If the xxhash with (random) seed(s) is not deemed sufficiently secure, it is possible to use your own hashing algorithm.\n",
    "\n",
    "Note that since we're now running python code and not native Polars code anymore, this will be _significantly_ slower. Nonetheless, it is possible.\n",
    "\n",
    "Just as an example - this is how one would use sha3_256:"
   ]
  },
  {
   "cell_type": "code",
   "execution_count": 14,
   "metadata": {
    "execution": {
     "iopub.execute_input": "2023-06-21T14:30:58.317110Z",
     "iopub.status.busy": "2023-06-21T14:30:58.316817Z",
     "iopub.status.idle": "2023-06-21T14:30:58.664137Z",
     "shell.execute_reply": "2023-06-21T14:30:58.663409Z"
    }
   },
   "outputs": [
    {
     "ename": "ComputeError",
     "evalue": "AttributeError: 'int' object has no attribute 'encode'",
     "output_type": "error",
     "traceback": [
      "\u001b[0;31m---------------------------------------------------------------------------\u001b[0m",
      "\u001b[0;31mComputeError\u001b[0m                              Traceback (most recent call last)",
      "Cell \u001b[0;32mIn[14], line 3\u001b[0m\n\u001b[1;32m      1\u001b[0m \u001b[38;5;28;01mfrom\u001b[39;00m \u001b[38;5;21;01mhashlib\u001b[39;00m \u001b[38;5;28;01mimport\u001b[39;00m sha3_256\n\u001b[0;32m----> 3\u001b[0m \u001b[43manon\u001b[49m\u001b[38;5;241;43m.\u001b[39;49m\u001b[43mprocess\u001b[49m\u001b[43m(\u001b[49m\u001b[43malgorithm\u001b[49m\u001b[38;5;241;43m=\u001b[39;49m\u001b[38;5;28;43;01mlambda\u001b[39;49;00m\u001b[43m \u001b[49m\u001b[43mx\u001b[49m\u001b[43m:\u001b[49m\u001b[43m \u001b[49m\u001b[43msha3_256\u001b[49m\u001b[43m(\u001b[49m\u001b[43mx\u001b[49m\u001b[38;5;241;43m.\u001b[39;49m\u001b[43mencode\u001b[49m\u001b[43m(\u001b[49m\u001b[43m)\u001b[49m\u001b[43m)\u001b[49m\u001b[38;5;241;43m.\u001b[39;49m\u001b[43mhexdigest\u001b[49m\u001b[43m(\u001b[49m\u001b[43m)\u001b[49m\u001b[43m)\u001b[49m\n",
      "File \u001b[0;32m~/work/pega-datascientist-tools/pega-datascientist-tools/python/docs/source/articles/../../../pdstools/utils/hds_utils.py:516\u001b[0m, in \u001b[0;36mDataAnonymization.process\u001b[0;34m(self, strategy, **kwargs)\u001b[0m\n\u001b[1;32m    514\u001b[0m df \u001b[38;5;241m=\u001b[39m df\u001b[38;5;241m.\u001b[39mselect(\u001b[38;5;28mself\u001b[39m\u001b[38;5;241m.\u001b[39mcolumn_mapping\u001b[38;5;241m.\u001b[39mkeys())\u001b[38;5;241m.\u001b[39mrename(\u001b[38;5;28mself\u001b[39m\u001b[38;5;241m.\u001b[39mcolumn_mapping)\n\u001b[1;32m    515\u001b[0m \u001b[38;5;28;01mif\u001b[39;00m strategy \u001b[38;5;241m==\u001b[39m \u001b[38;5;124m\"\u001b[39m\u001b[38;5;124meager\u001b[39m\u001b[38;5;124m\"\u001b[39m:\n\u001b[0;32m--> 516\u001b[0m     \u001b[38;5;28;01mreturn\u001b[39;00m \u001b[43mdf\u001b[49m\u001b[38;5;241;43m.\u001b[39;49m\u001b[43mcollect\u001b[49m\u001b[43m(\u001b[49m\u001b[43m)\u001b[49m\n\u001b[1;32m    517\u001b[0m \u001b[38;5;28;01mreturn\u001b[39;00m df\n",
      "File \u001b[0;32m/opt/hostedtoolcache/Python/3.11.4/x64/lib/python3.11/site-packages/polars/lazyframe/frame.py:1504\u001b[0m, in \u001b[0;36mLazyFrame.collect\u001b[0;34m(self, type_coercion, predicate_pushdown, projection_pushdown, simplify_expression, no_optimization, slice_pushdown, common_subplan_elimination, streaming)\u001b[0m\n\u001b[1;32m   1493\u001b[0m     common_subplan_elimination \u001b[38;5;241m=\u001b[39m \u001b[38;5;28;01mFalse\u001b[39;00m\n\u001b[1;32m   1495\u001b[0m ldf \u001b[38;5;241m=\u001b[39m \u001b[38;5;28mself\u001b[39m\u001b[38;5;241m.\u001b[39m_ldf\u001b[38;5;241m.\u001b[39moptimization_toggle(\n\u001b[1;32m   1496\u001b[0m     type_coercion,\n\u001b[1;32m   1497\u001b[0m     predicate_pushdown,\n\u001b[0;32m   (...)\u001b[0m\n\u001b[1;32m   1502\u001b[0m     streaming,\n\u001b[1;32m   1503\u001b[0m )\n\u001b[0;32m-> 1504\u001b[0m \u001b[38;5;28;01mreturn\u001b[39;00m wrap_df(ldf\u001b[38;5;241m.\u001b[39mcollect())\n",
      "\u001b[0;31mComputeError\u001b[0m: AttributeError: 'int' object has no attribute 'encode'"
     ]
    }
   ],
   "source": [
    "from hashlib import sha3_256\n",
    "\n",
    "anon.process(algorithm=lambda x: sha3_256(x.encode()).hexdigest())"
   ]
  }
 ],
 "metadata": {
  "kernelspec": {
   "display_name": "Python 3",
   "language": "python",
   "name": "python3"
  },
  "language_info": {
   "codemirror_mode": {
    "name": "ipython",
    "version": 3
   },
   "file_extension": ".py",
   "mimetype": "text/x-python",
   "name": "python",
   "nbconvert_exporter": "python",
   "pygments_lexer": "ipython3",
   "version": "3.11.4"
  },
  "vscode": {
   "interpreter": {
    "hash": "aee8b7b246df8f9039afb4144a1f6fd8d2ca17a180786b69acc140d282b71a49"
   }
  }
 },
 "nbformat": 4,
 "nbformat_minor": 2
}
