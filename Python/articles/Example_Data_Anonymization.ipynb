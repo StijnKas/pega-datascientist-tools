{
 "cells": [
  {
   "attachments": {},
   "cell_type": "markdown",
   "metadata": {},
   "source": [
    "# Data Anonymization\n",
    "\n",
    "In Pega CDH 8.5 and up, it's now possible to record the historical data as seen by the Adaptive Models. See [this academy challenge](https://academy.pega.com/challenge/exporting-historical-data/v4) for reference. This historical data can be further used to experiment with offline models, but also to fine-tune the OOTB Gradient Boosting model. However, sharing this information with Pega can be sensitive as it contains raw predictor data. \n",
    "\n",
    "To this end, we provide a simple and transparent script to fully anonimize this dataset.\n",
    "\n",
    "The DataAnonymization script is now part of pdstools, and you can import it directly as such."
   ]
  },
  {
   "cell_type": "code",
   "execution_count": 1,
   "metadata": {
    "execution": {
     "iopub.execute_input": "2024-06-21T13:02:55.874813Z",
     "iopub.status.busy": "2024-06-21T13:02:55.874431Z",
     "iopub.status.idle": "2024-06-21T13:02:55.946829Z",
     "shell.execute_reply": "2024-06-21T13:02:55.946266Z"
    },
    "nbsphinx": "hidden"
   },
   "outputs": [],
   "source": [
    "# These lines are only for rendering in the docs, and are hidden through Jupyter tags\n",
    "# Do not run if you're running the notebook seperately\n",
    "\n",
    "import os  \n",
    "import sys\n",
    "import plotly.io as pio\n",
    "pio.renderers.default = \"notebook_connected\"\n",
    "\n",
    "sys.path.append(\"../../../\")\n",
    "sys.path.append('../../python')"
   ]
  },
  {
   "cell_type": "code",
   "execution_count": 2,
   "metadata": {
    "execution": {
     "iopub.execute_input": "2024-06-21T13:02:55.949191Z",
     "iopub.status.busy": "2024-06-21T13:02:55.948863Z",
     "iopub.status.idle": "2024-06-21T13:02:57.037821Z",
     "shell.execute_reply": "2024-06-21T13:02:57.037312Z"
    }
   },
   "outputs": [],
   "source": [
    "from pdstools import ADMDatamart\n",
    "from pdstools import Config, DataAnonymization\n",
    "import polars as pl"
   ]
  },
  {
   "attachments": {},
   "cell_type": "markdown",
   "metadata": {},
   "source": [
    "## Input data\n",
    "\n",
    "To demonstrate this process, we're going to anonymise this toy example dataframe:"
   ]
  },
  {
   "cell_type": "code",
   "execution_count": 3,
   "metadata": {
    "execution": {
     "iopub.execute_input": "2024-06-21T13:02:57.040379Z",
     "iopub.status.busy": "2024-06-21T13:02:57.039979Z",
     "iopub.status.idle": "2024-06-21T13:02:57.047977Z",
     "shell.execute_reply": "2024-06-21T13:02:57.047491Z"
    }
   },
   "outputs": [
    {
     "data": {
      "text/html": [
       "<div><style>\n",
       ".dataframe > thead > tr,\n",
       ".dataframe > tbody > tr {\n",
       "  text-align: right;\n",
       "  white-space: pre-wrap;\n",
       "}\n",
       "</style>\n",
       "<small>shape: (7, 6)</small><table border=\"1\" class=\"dataframe\"><thead><tr><th>Context_Name</th><th>Customer_MaritalStatus</th><th>Customer_CLV</th><th>Customer_City</th><th>IH_Web_Inbound_Accepted_pxLastGroupID</th><th>Decision_Outcome</th></tr><tr><td>str</td><td>str</td><td>i64</td><td>str</td><td>str</td><td>str</td></tr></thead><tbody><tr><td>&quot;FirstMortgage30yr&quot;</td><td>&quot;Married&quot;</td><td>1460</td><td>&quot;Port Raoul&quot;</td><td>&quot;Account&quot;</td><td>&quot;Rejected&quot;</td></tr><tr><td>&quot;FirstMortgage30yr&quot;</td><td>&quot;Unknown&quot;</td><td>669</td><td>&quot;Laurianneshire&quot;</td><td>&quot;AutoLoans&quot;</td><td>&quot;Accepted&quot;</td></tr><tr><td>&quot;MoneyMarketSavingsAccount&quot;</td><td>&quot;No Resp+&quot;</td><td>1174</td><td>&quot;Jacobshaven&quot;</td><td>&quot;Account&quot;</td><td>&quot;Rejected&quot;</td></tr><tr><td>&quot;BasicChecking&quot;</td><td>&quot;Unknown&quot;</td><td>1476</td><td>&quot;Lindton&quot;</td><td>&quot;Account&quot;</td><td>&quot;Rejected&quot;</td></tr><tr><td>&quot;BasicChecking&quot;</td><td>&quot;Married&quot;</td><td>1211</td><td>&quot;South Jimmieshire&quot;</td><td>&quot;DepositAccounts&quot;</td><td>&quot;Accepted&quot;</td></tr><tr><td>&quot;UPlusFinPersonal&quot;</td><td>&quot;No Resp+&quot;</td><td>533</td><td>&quot;Bergeville&quot;</td><td>null</td><td>&quot;Rejected&quot;</td></tr><tr><td>&quot;BasicChecking&quot;</td><td>&quot;No Resp+&quot;</td><td>555</td><td>&quot;Willyville&quot;</td><td>&quot;DepositAccounts&quot;</td><td>&quot;Rejected&quot;</td></tr></tbody></table></div>"
      ],
      "text/plain": [
       "shape: (7, 6)\n",
       "┌────────────────┬────────────────┬──────────────┬────────────────┬────────────────┬───────────────┐\n",
       "│ Context_Name   ┆ Customer_Marit ┆ Customer_CLV ┆ Customer_City  ┆ IH_Web_Inbound ┆ Decision_Outc │\n",
       "│ ---            ┆ alStatus       ┆ ---          ┆ ---            ┆ _Accepted_pxLa ┆ ome           │\n",
       "│ str            ┆ ---            ┆ i64          ┆ str            ┆ st…            ┆ ---           │\n",
       "│                ┆ str            ┆              ┆                ┆ ---            ┆ str           │\n",
       "│                ┆                ┆              ┆                ┆ str            ┆               │\n",
       "╞════════════════╪════════════════╪══════════════╪════════════════╪════════════════╪═══════════════╡\n",
       "│ FirstMortgage3 ┆ Married        ┆ 1460         ┆ Port Raoul     ┆ Account        ┆ Rejected      │\n",
       "│ 0yr            ┆                ┆              ┆                ┆                ┆               │\n",
       "│ FirstMortgage3 ┆ Unknown        ┆ 669          ┆ Laurianneshire ┆ AutoLoans      ┆ Accepted      │\n",
       "│ 0yr            ┆                ┆              ┆                ┆                ┆               │\n",
       "│ MoneyMarketSav ┆ No Resp+       ┆ 1174         ┆ Jacobshaven    ┆ Account        ┆ Rejected      │\n",
       "│ ingsAccount    ┆                ┆              ┆                ┆                ┆               │\n",
       "│ BasicChecking  ┆ Unknown        ┆ 1476         ┆ Lindton        ┆ Account        ┆ Rejected      │\n",
       "│ BasicChecking  ┆ Married        ┆ 1211         ┆ South          ┆ DepositAccount ┆ Accepted      │\n",
       "│                ┆                ┆              ┆ Jimmieshire    ┆ s              ┆               │\n",
       "│ UPlusFinPerson ┆ No Resp+       ┆ 533          ┆ Bergeville     ┆ null           ┆ Rejected      │\n",
       "│ al             ┆                ┆              ┆                ┆                ┆               │\n",
       "│ BasicChecking  ┆ No Resp+       ┆ 555          ┆ Willyville     ┆ DepositAccount ┆ Rejected      │\n",
       "│                ┆                ┆              ┆                ┆ s              ┆               │\n",
       "└────────────────┴────────────────┴──────────────┴────────────────┴────────────────┴───────────────┘"
      ]
     },
     "execution_count": 3,
     "metadata": {},
     "output_type": "execute_result"
    }
   ],
   "source": [
    "pl.read_ndjson('../../../../data/SampleHDS.json')"
   ]
  },
  {
   "attachments": {},
   "cell_type": "markdown",
   "metadata": {},
   "source": [
    "As you can see, this dataset consists of regular predictors, IH predictors, context keys and the outcome column. Additionally, some columns are numeric, others are strings. Let's first initialize the DataAnonymization class."
   ]
  },
  {
   "cell_type": "code",
   "execution_count": 4,
   "metadata": {
    "execution": {
     "iopub.execute_input": "2024-06-21T13:02:57.050241Z",
     "iopub.status.busy": "2024-06-21T13:02:57.049849Z",
     "iopub.status.idle": "2024-06-21T13:02:57.059693Z",
     "shell.execute_reply": "2024-06-21T13:02:57.059141Z"
    }
   },
   "outputs": [],
   "source": [
    "anon = DataAnonymization(hds_folder='../../../../data/')"
   ]
  },
  {
   "attachments": {},
   "cell_type": "markdown",
   "metadata": {},
   "source": [
    "By default, the class applies a set of anonymisation techniques:\n",
    "- Column names are remapped to a non-descriptive name\n",
    "- Categorical values are hashed with a random seed\n",
    "- Numerical values are normalized between 0 and 1\n",
    "- Outcomes are mapped to a binary outcome.\n",
    "\n",
    "To apply these techniques, simply call `.process()`:"
   ]
  },
  {
   "cell_type": "code",
   "execution_count": 5,
   "metadata": {
    "execution": {
     "iopub.execute_input": "2024-06-21T13:02:57.061907Z",
     "iopub.status.busy": "2024-06-21T13:02:57.061513Z",
     "iopub.status.idle": "2024-06-21T13:02:57.066645Z",
     "shell.execute_reply": "2024-06-21T13:02:57.066162Z"
    }
   },
   "outputs": [
    {
     "data": {
      "text/html": [
       "<div><style>\n",
       ".dataframe > thead > tr,\n",
       ".dataframe > tbody > tr {\n",
       "  text-align: right;\n",
       "  white-space: pre-wrap;\n",
       "}\n",
       "</style>\n",
       "<small>shape: (7, 7)</small><table border=\"1\" class=\"dataframe\"><thead><tr><th>PREDICTOR_0</th><th>filename</th><th>PREDICTOR_2</th><th>PREDICTOR_3</th><th>Context_Name</th><th>IH_PREDICTOR_0</th><th>Decision_Outcome</th></tr><tr><td>str</td><td>str</td><td>f64</td><td>str</td><td>str</td><td>str</td><td>bool</td></tr></thead><tbody><tr><td>&quot;691197781971827891&quot;</td><td>&quot;../../../../data/SampleHDS.jso…</td><td>1.8131e19</td><td>&quot;6788814000666158344&quot;</td><td>&quot;1807495087070518929&quot;</td><td>&quot;10715696322800222803&quot;</td><td>false</td></tr><tr><td>&quot;10999938515951544731&quot;</td><td>&quot;../../../../data/SampleHDS.jso…</td><td>4.4513e18</td><td>&quot;17766061654098553858&quot;</td><td>&quot;1807495087070518929&quot;</td><td>&quot;11790348815617421942&quot;</td><td>true</td></tr><tr><td>&quot;17812041478982766094&quot;</td><td>&quot;../../../../data/SampleHDS.jso…</td><td>1.1866e19</td><td>&quot;543964326338920493&quot;</td><td>&quot;9707906583168779324&quot;</td><td>&quot;10715696322800222803&quot;</td><td>false</td></tr><tr><td>&quot;13839515366937315848&quot;</td><td>&quot;../../../../data/SampleHDS.jso…</td><td>7.3997e17</td><td>&quot;17766061654098553858&quot;</td><td>&quot;12527926076214438504&quot;</td><td>&quot;10715696322800222803&quot;</td><td>false</td></tr><tr><td>&quot;2628909978425021390&quot;</td><td>&quot;../../../../data/SampleHDS.jso…</td><td>1.3863e19</td><td>&quot;6788814000666158344&quot;</td><td>&quot;12527926076214438504&quot;</td><td>&quot;2272780766066799917&quot;</td><td>true</td></tr><tr><td>&quot;2446656932817686084&quot;</td><td>&quot;../../../../data/SampleHDS.jso…</td><td>6.7232e18</td><td>&quot;543964326338920493&quot;</td><td>&quot;12317285103146212382&quot;</td><td>null</td><td>false</td></tr><tr><td>&quot;16847043457161517924&quot;</td><td>&quot;../../../../data/SampleHDS.jso…</td><td>8.3425e18</td><td>&quot;543964326338920493&quot;</td><td>&quot;12527926076214438504&quot;</td><td>&quot;2272780766066799917&quot;</td><td>false</td></tr></tbody></table></div>"
      ],
      "text/plain": [
       "shape: (7, 7)\n",
       "┌──────────────┬─────────────┬─────────────┬─────────────┬─────────────┬─────────────┬─────────────┐\n",
       "│ PREDICTOR_0  ┆ filename    ┆ PREDICTOR_2 ┆ PREDICTOR_3 ┆ Context_Nam ┆ IH_PREDICTO ┆ Decision_Ou │\n",
       "│ ---          ┆ ---         ┆ ---         ┆ ---         ┆ e           ┆ R_0         ┆ tcome       │\n",
       "│ str          ┆ str         ┆ f64         ┆ str         ┆ ---         ┆ ---         ┆ ---         │\n",
       "│              ┆             ┆             ┆             ┆ str         ┆ str         ┆ bool        │\n",
       "╞══════════════╪═════════════╪═════════════╪═════════════╪═════════════╪═════════════╪═════════════╡\n",
       "│ 691197781971 ┆ ../../../.. ┆ 1.8131e19   ┆ 67888140006 ┆ 18074950870 ┆ 10715696322 ┆ false       │\n",
       "│ 827891       ┆ /data/Sampl ┆             ┆ 66158344    ┆ 70518929    ┆ 800222803   ┆             │\n",
       "│              ┆ eHDS.jso…   ┆             ┆             ┆             ┆             ┆             │\n",
       "│ 109999385159 ┆ ../../../.. ┆ 4.4513e18   ┆ 17766061654 ┆ 18074950870 ┆ 11790348815 ┆ true        │\n",
       "│ 51544731     ┆ /data/Sampl ┆             ┆ 098553858   ┆ 70518929    ┆ 617421942   ┆             │\n",
       "│              ┆ eHDS.jso…   ┆             ┆             ┆             ┆             ┆             │\n",
       "│ 178120414789 ┆ ../../../.. ┆ 1.1866e19   ┆ 54396432633 ┆ 97079065831 ┆ 10715696322 ┆ false       │\n",
       "│ 82766094     ┆ /data/Sampl ┆             ┆ 8920493     ┆ 68779324    ┆ 800222803   ┆             │\n",
       "│              ┆ eHDS.jso…   ┆             ┆             ┆             ┆             ┆             │\n",
       "│ 138395153669 ┆ ../../../.. ┆ 7.3997e17   ┆ 17766061654 ┆ 12527926076 ┆ 10715696322 ┆ false       │\n",
       "│ 37315848     ┆ /data/Sampl ┆             ┆ 098553858   ┆ 214438504   ┆ 800222803   ┆             │\n",
       "│              ┆ eHDS.jso…   ┆             ┆             ┆             ┆             ┆             │\n",
       "│ 262890997842 ┆ ../../../.. ┆ 1.3863e19   ┆ 67888140006 ┆ 12527926076 ┆ 22727807660 ┆ true        │\n",
       "│ 5021390      ┆ /data/Sampl ┆             ┆ 66158344    ┆ 214438504   ┆ 66799917    ┆             │\n",
       "│              ┆ eHDS.jso…   ┆             ┆             ┆             ┆             ┆             │\n",
       "│ 244665693281 ┆ ../../../.. ┆ 6.7232e18   ┆ 54396432633 ┆ 12317285103 ┆ null        ┆ false       │\n",
       "│ 7686084      ┆ /data/Sampl ┆             ┆ 8920493     ┆ 146212382   ┆             ┆             │\n",
       "│              ┆ eHDS.jso…   ┆             ┆             ┆             ┆             ┆             │\n",
       "│ 168470434571 ┆ ../../../.. ┆ 8.3425e18   ┆ 54396432633 ┆ 12527926076 ┆ 22727807660 ┆ false       │\n",
       "│ 61517924     ┆ /data/Sampl ┆             ┆ 8920493     ┆ 214438504   ┆ 66799917    ┆             │\n",
       "│              ┆ eHDS.jso…   ┆             ┆             ┆             ┆             ┆             │\n",
       "└──────────────┴─────────────┴─────────────┴─────────────┴─────────────┴─────────────┴─────────────┘"
      ]
     },
     "execution_count": 5,
     "metadata": {},
     "output_type": "execute_result"
    }
   ],
   "source": [
    "anon.process()"
   ]
  },
  {
   "attachments": {},
   "cell_type": "markdown",
   "metadata": {},
   "source": [
    "To trace back the columns to their original names, the class also contains a mapping, which does not have to be provided."
   ]
  },
  {
   "cell_type": "code",
   "execution_count": 6,
   "metadata": {
    "execution": {
     "iopub.execute_input": "2024-06-21T13:02:57.068652Z",
     "iopub.status.busy": "2024-06-21T13:02:57.068360Z",
     "iopub.status.idle": "2024-06-21T13:02:57.071941Z",
     "shell.execute_reply": "2024-06-21T13:02:57.071425Z"
    }
   },
   "outputs": [
    {
     "data": {
      "text/plain": [
       "{'Customer_City': 'PREDICTOR_0',\n",
       " 'filename': 'filename',\n",
       " 'Customer_CLV': 'PREDICTOR_2',\n",
       " 'Customer_MaritalStatus': 'PREDICTOR_3',\n",
       " 'Context_Name': 'Context_Name',\n",
       " 'IH_Web_Inbound_Accepted_pxLastGroupID': 'IH_PREDICTOR_0',\n",
       " 'Decision_Outcome': 'Decision_Outcome'}"
      ]
     },
     "execution_count": 6,
     "metadata": {},
     "output_type": "execute_result"
    }
   ],
   "source": [
    "anon.column_mapping"
   ]
  },
  {
   "attachments": {},
   "cell_type": "markdown",
   "metadata": {},
   "source": [
    "## Configs\n",
    "\n",
    "Each capability can optionally be turned off - see below for the full list of config options, and refer to the API reference for the full description."
   ]
  },
  {
   "cell_type": "code",
   "execution_count": 7,
   "metadata": {
    "execution": {
     "iopub.execute_input": "2024-06-21T13:02:57.073897Z",
     "iopub.status.busy": "2024-06-21T13:02:57.073523Z",
     "iopub.status.idle": "2024-06-21T13:02:57.077677Z",
     "shell.execute_reply": "2024-06-21T13:02:57.077134Z"
    }
   },
   "outputs": [
    {
     "data": {
      "text/plain": [
       "{'config_file': None,\n",
       " 'hds_folder': '.',\n",
       " 'use_datamart': False,\n",
       " 'datamart_folder': 'datamart',\n",
       " 'output_format': 'ndjson',\n",
       " 'output_folder': 'output',\n",
       " 'mapping_file': 'mapping.map',\n",
       " 'mask_predictor_names': True,\n",
       " 'mask_context_key_names': False,\n",
       " 'mask_ih_names': True,\n",
       " 'mask_outcome_name': False,\n",
       " 'mask_predictor_values': True,\n",
       " 'mask_context_key_values': True,\n",
       " 'mask_ih_values': True,\n",
       " 'mask_outcome_values': True,\n",
       " 'context_key_label': 'Context_*',\n",
       " 'ih_label': 'IH_*',\n",
       " 'outcome_column': 'Decision_Outcome',\n",
       " 'positive_outcomes': ['Accepted', 'Clicked'],\n",
       " 'negative_outcomes': ['Rejected', 'Impression'],\n",
       " 'special_predictors': ['Decision_DecisionTime',\n",
       "  'Decision_OutcomeTime',\n",
       "  'Decision_Rank'],\n",
       " 'sample_percentage_schema_inferencing': 0.01}"
      ]
     },
     "execution_count": 7,
     "metadata": {},
     "output_type": "execute_result"
    }
   ],
   "source": [
    "dict(zip(Config.__init__.__code__.co_varnames[1:], Config.__init__.__defaults__))"
   ]
  },
  {
   "attachments": {},
   "cell_type": "markdown",
   "metadata": {},
   "source": [
    "It's easy to change these parameters by just passing the keyword arguments. In the following example, we\n",
    "- Keep the IH predictor names\n",
    "- Keep the outcome values\n",
    "- Keep the context key values\n",
    "- Keep the context key predictor names"
   ]
  },
  {
   "cell_type": "code",
   "execution_count": 8,
   "metadata": {
    "execution": {
     "iopub.execute_input": "2024-06-21T13:02:57.079707Z",
     "iopub.status.busy": "2024-06-21T13:02:57.079396Z",
     "iopub.status.idle": "2024-06-21T13:02:57.086908Z",
     "shell.execute_reply": "2024-06-21T13:02:57.086312Z"
    }
   },
   "outputs": [
    {
     "data": {
      "text/html": [
       "<div><style>\n",
       ".dataframe > thead > tr,\n",
       ".dataframe > tbody > tr {\n",
       "  text-align: right;\n",
       "  white-space: pre-wrap;\n",
       "}\n",
       "</style>\n",
       "<small>shape: (7, 7)</small><table border=\"1\" class=\"dataframe\"><thead><tr><th>PREDICTOR_0</th><th>filename</th><th>PREDICTOR_2</th><th>PREDICTOR_3</th><th>Context_Name</th><th>IH_Web_Inbound_Accepted_pxLastGroupID</th><th>Decision_Outcome</th></tr><tr><td>str</td><td>str</td><td>f64</td><td>str</td><td>str</td><td>str</td><td>str</td></tr></thead><tbody><tr><td>&quot;3263834468606255033&quot;</td><td>&quot;../../../../data/SampleHDS.jso…</td><td>7.4715e17</td><td>&quot;2286599241787763870&quot;</td><td>&quot;FirstMortgage30yr&quot;</td><td>&quot;16715406515172532053&quot;</td><td>&quot;Rejected&quot;</td></tr><tr><td>&quot;14874286154894550228&quot;</td><td>&quot;../../../../data/SampleHDS.jso…</td><td>6.1233e18</td><td>&quot;8666711214355202543&quot;</td><td>&quot;FirstMortgage30yr&quot;</td><td>&quot;4895876909422641951&quot;</td><td>&quot;Accepted&quot;</td></tr><tr><td>&quot;17177501560813984677&quot;</td><td>&quot;../../../../data/SampleHDS.jso…</td><td>7.6431e17</td><td>&quot;17588318256273102662&quot;</td><td>&quot;MoneyMarketSavingsAccount&quot;</td><td>&quot;16715406515172532053&quot;</td><td>&quot;Rejected&quot;</td></tr><tr><td>&quot;441329367583901785&quot;</td><td>&quot;../../../../data/SampleHDS.jso…</td><td>1.4396e19</td><td>&quot;8666711214355202543&quot;</td><td>&quot;BasicChecking&quot;</td><td>&quot;16715406515172532053&quot;</td><td>&quot;Rejected&quot;</td></tr><tr><td>&quot;5855532576063378990&quot;</td><td>&quot;../../../../data/SampleHDS.jso…</td><td>2.4408e18</td><td>&quot;2286599241787763870&quot;</td><td>&quot;BasicChecking&quot;</td><td>&quot;479697389844671758&quot;</td><td>&quot;Accepted&quot;</td></tr><tr><td>&quot;799813177046235496&quot;</td><td>&quot;../../../../data/SampleHDS.jso…</td><td>9.6075e18</td><td>&quot;17588318256273102662&quot;</td><td>&quot;UPlusFinPersonal&quot;</td><td>null</td><td>&quot;Rejected&quot;</td></tr><tr><td>&quot;7600645980953877941&quot;</td><td>&quot;../../../../data/SampleHDS.jso…</td><td>1.7229e19</td><td>&quot;17588318256273102662&quot;</td><td>&quot;BasicChecking&quot;</td><td>&quot;479697389844671758&quot;</td><td>&quot;Rejected&quot;</td></tr></tbody></table></div>"
      ],
      "text/plain": [
       "shape: (7, 7)\n",
       "┌──────────────┬─────────────┬─────────────┬─────────────┬─────────────┬─────────────┬─────────────┐\n",
       "│ PREDICTOR_0  ┆ filename    ┆ PREDICTOR_2 ┆ PREDICTOR_3 ┆ Context_Nam ┆ IH_Web_Inbo ┆ Decision_Ou │\n",
       "│ ---          ┆ ---         ┆ ---         ┆ ---         ┆ e           ┆ und_Accepte ┆ tcome       │\n",
       "│ str          ┆ str         ┆ f64         ┆ str         ┆ ---         ┆ d_pxLast…   ┆ ---         │\n",
       "│              ┆             ┆             ┆             ┆ str         ┆ ---         ┆ str         │\n",
       "│              ┆             ┆             ┆             ┆             ┆ str         ┆             │\n",
       "╞══════════════╪═════════════╪═════════════╪═════════════╪═════════════╪═════════════╪═════════════╡\n",
       "│ 326383446860 ┆ ../../../.. ┆ 7.4715e17   ┆ 22865992417 ┆ FirstMortga ┆ 16715406515 ┆ Rejected    │\n",
       "│ 6255033      ┆ /data/Sampl ┆             ┆ 87763870    ┆ ge30yr      ┆ 172532053   ┆             │\n",
       "│              ┆ eHDS.jso…   ┆             ┆             ┆             ┆             ┆             │\n",
       "│ 148742861548 ┆ ../../../.. ┆ 6.1233e18   ┆ 86667112143 ┆ FirstMortga ┆ 48958769094 ┆ Accepted    │\n",
       "│ 94550228     ┆ /data/Sampl ┆             ┆ 55202543    ┆ ge30yr      ┆ 22641951    ┆             │\n",
       "│              ┆ eHDS.jso…   ┆             ┆             ┆             ┆             ┆             │\n",
       "│ 171775015608 ┆ ../../../.. ┆ 7.6431e17   ┆ 17588318256 ┆ MoneyMarket ┆ 16715406515 ┆ Rejected    │\n",
       "│ 13984677     ┆ /data/Sampl ┆             ┆ 273102662   ┆ SavingsAcco ┆ 172532053   ┆             │\n",
       "│              ┆ eHDS.jso…   ┆             ┆             ┆ unt         ┆             ┆             │\n",
       "│ 441329367583 ┆ ../../../.. ┆ 1.4396e19   ┆ 86667112143 ┆ BasicChecki ┆ 16715406515 ┆ Rejected    │\n",
       "│ 901785       ┆ /data/Sampl ┆             ┆ 55202543    ┆ ng          ┆ 172532053   ┆             │\n",
       "│              ┆ eHDS.jso…   ┆             ┆             ┆             ┆             ┆             │\n",
       "│ 585553257606 ┆ ../../../.. ┆ 2.4408e18   ┆ 22865992417 ┆ BasicChecki ┆ 47969738984 ┆ Accepted    │\n",
       "│ 3378990      ┆ /data/Sampl ┆             ┆ 87763870    ┆ ng          ┆ 4671758     ┆             │\n",
       "│              ┆ eHDS.jso…   ┆             ┆             ┆             ┆             ┆             │\n",
       "│ 799813177046 ┆ ../../../.. ┆ 9.6075e18   ┆ 17588318256 ┆ UPlusFinPer ┆ null        ┆ Rejected    │\n",
       "│ 235496       ┆ /data/Sampl ┆             ┆ 273102662   ┆ sonal       ┆             ┆             │\n",
       "│              ┆ eHDS.jso…   ┆             ┆             ┆             ┆             ┆             │\n",
       "│ 760064598095 ┆ ../../../.. ┆ 1.7229e19   ┆ 17588318256 ┆ BasicChecki ┆ 47969738984 ┆ Rejected    │\n",
       "│ 3877941      ┆ /data/Sampl ┆             ┆ 273102662   ┆ ng          ┆ 4671758     ┆             │\n",
       "│              ┆ eHDS.jso…   ┆             ┆             ┆             ┆             ┆             │\n",
       "└──────────────┴─────────────┴─────────────┴─────────────┴─────────────┴─────────────┴─────────────┘"
      ]
     },
     "execution_count": 8,
     "metadata": {},
     "output_type": "execute_result"
    }
   ],
   "source": [
    "anon = DataAnonymization(\n",
    "    hds_folder=\"../../../../data/\",\n",
    "    mask_ih_names=False,\n",
    "    mask_outcome_values=False,\n",
    "    mask_context_key_values=False,\n",
    "    mask_context_key_names=False,\n",
    ")\n",
    "anon.process()\n"
   ]
  },
  {
   "attachments": {},
   "cell_type": "markdown",
   "metadata": {},
   "source": [
    "The configs can also be written and read as such:"
   ]
  },
  {
   "cell_type": "code",
   "execution_count": 9,
   "metadata": {
    "execution": {
     "iopub.execute_input": "2024-06-21T13:02:57.088846Z",
     "iopub.status.busy": "2024-06-21T13:02:57.088541Z",
     "iopub.status.idle": "2024-06-21T13:02:57.091382Z",
     "shell.execute_reply": "2024-06-21T13:02:57.090844Z"
    }
   },
   "outputs": [],
   "source": [
    "anon.config.save_to_config_file('config.json')"
   ]
  },
  {
   "cell_type": "code",
   "execution_count": 10,
   "metadata": {
    "execution": {
     "iopub.execute_input": "2024-06-21T13:02:57.093343Z",
     "iopub.status.busy": "2024-06-21T13:02:57.093011Z",
     "iopub.status.idle": "2024-06-21T13:02:57.100199Z",
     "shell.execute_reply": "2024-06-21T13:02:57.099756Z"
    }
   },
   "outputs": [
    {
     "data": {
      "text/html": [
       "<div><style>\n",
       ".dataframe > thead > tr,\n",
       ".dataframe > tbody > tr {\n",
       "  text-align: right;\n",
       "  white-space: pre-wrap;\n",
       "}\n",
       "</style>\n",
       "<small>shape: (7, 7)</small><table border=\"1\" class=\"dataframe\"><thead><tr><th>PREDICTOR_0</th><th>filename</th><th>PREDICTOR_2</th><th>PREDICTOR_3</th><th>Context_Name</th><th>IH_Web_Inbound_Accepted_pxLastGroupID</th><th>Decision_Outcome</th></tr><tr><td>str</td><td>str</td><td>f64</td><td>str</td><td>str</td><td>str</td><td>str</td></tr></thead><tbody><tr><td>&quot;2510431148283100736&quot;</td><td>&quot;../../../../data/SampleHDS.jso…</td><td>1.5489e19</td><td>&quot;1168283601422785168&quot;</td><td>&quot;FirstMortgage30yr&quot;</td><td>&quot;3289888222901381477&quot;</td><td>&quot;Rejected&quot;</td></tr><tr><td>&quot;13544339998689241518&quot;</td><td>&quot;../../../../data/SampleHDS.jso…</td><td>1.5364e19</td><td>&quot;1466340910418875350&quot;</td><td>&quot;FirstMortgage30yr&quot;</td><td>&quot;5550077600777793491&quot;</td><td>&quot;Accepted&quot;</td></tr><tr><td>&quot;12198588379682162784&quot;</td><td>&quot;../../../../data/SampleHDS.jso…</td><td>2.9325e18</td><td>&quot;10191297706386385913&quot;</td><td>&quot;MoneyMarketSavingsAccount&quot;</td><td>&quot;3289888222901381477&quot;</td><td>&quot;Rejected&quot;</td></tr><tr><td>&quot;6480202717234652871&quot;</td><td>&quot;../../../../data/SampleHDS.jso…</td><td>1.1188e19</td><td>&quot;1466340910418875350&quot;</td><td>&quot;BasicChecking&quot;</td><td>&quot;3289888222901381477&quot;</td><td>&quot;Rejected&quot;</td></tr><tr><td>&quot;5629024877325767703&quot;</td><td>&quot;../../../../data/SampleHDS.jso…</td><td>2.7728e18</td><td>&quot;1168283601422785168&quot;</td><td>&quot;BasicChecking&quot;</td><td>&quot;6726269753998004695&quot;</td><td>&quot;Accepted&quot;</td></tr><tr><td>&quot;8975731957308671675&quot;</td><td>&quot;../../../../data/SampleHDS.jso…</td><td>1.2885e19</td><td>&quot;10191297706386385913&quot;</td><td>&quot;UPlusFinPersonal&quot;</td><td>null</td><td>&quot;Rejected&quot;</td></tr><tr><td>&quot;17991739025603532050&quot;</td><td>&quot;../../../../data/SampleHDS.jso…</td><td>1.5425e19</td><td>&quot;10191297706386385913&quot;</td><td>&quot;BasicChecking&quot;</td><td>&quot;6726269753998004695&quot;</td><td>&quot;Rejected&quot;</td></tr></tbody></table></div>"
      ],
      "text/plain": [
       "shape: (7, 7)\n",
       "┌──────────────┬─────────────┬─────────────┬─────────────┬─────────────┬─────────────┬─────────────┐\n",
       "│ PREDICTOR_0  ┆ filename    ┆ PREDICTOR_2 ┆ PREDICTOR_3 ┆ Context_Nam ┆ IH_Web_Inbo ┆ Decision_Ou │\n",
       "│ ---          ┆ ---         ┆ ---         ┆ ---         ┆ e           ┆ und_Accepte ┆ tcome       │\n",
       "│ str          ┆ str         ┆ f64         ┆ str         ┆ ---         ┆ d_pxLast…   ┆ ---         │\n",
       "│              ┆             ┆             ┆             ┆ str         ┆ ---         ┆ str         │\n",
       "│              ┆             ┆             ┆             ┆             ┆ str         ┆             │\n",
       "╞══════════════╪═════════════╪═════════════╪═════════════╪═════════════╪═════════════╪═════════════╡\n",
       "│ 251043114828 ┆ ../../../.. ┆ 1.5489e19   ┆ 11682836014 ┆ FirstMortga ┆ 32898882229 ┆ Rejected    │\n",
       "│ 3100736      ┆ /data/Sampl ┆             ┆ 22785168    ┆ ge30yr      ┆ 01381477    ┆             │\n",
       "│              ┆ eHDS.jso…   ┆             ┆             ┆             ┆             ┆             │\n",
       "│ 135443399986 ┆ ../../../.. ┆ 1.5364e19   ┆ 14663409104 ┆ FirstMortga ┆ 55500776007 ┆ Accepted    │\n",
       "│ 89241518     ┆ /data/Sampl ┆             ┆ 18875350    ┆ ge30yr      ┆ 77793491    ┆             │\n",
       "│              ┆ eHDS.jso…   ┆             ┆             ┆             ┆             ┆             │\n",
       "│ 121985883796 ┆ ../../../.. ┆ 2.9325e18   ┆ 10191297706 ┆ MoneyMarket ┆ 32898882229 ┆ Rejected    │\n",
       "│ 82162784     ┆ /data/Sampl ┆             ┆ 386385913   ┆ SavingsAcco ┆ 01381477    ┆             │\n",
       "│              ┆ eHDS.jso…   ┆             ┆             ┆ unt         ┆             ┆             │\n",
       "│ 648020271723 ┆ ../../../.. ┆ 1.1188e19   ┆ 14663409104 ┆ BasicChecki ┆ 32898882229 ┆ Rejected    │\n",
       "│ 4652871      ┆ /data/Sampl ┆             ┆ 18875350    ┆ ng          ┆ 01381477    ┆             │\n",
       "│              ┆ eHDS.jso…   ┆             ┆             ┆             ┆             ┆             │\n",
       "│ 562902487732 ┆ ../../../.. ┆ 2.7728e18   ┆ 11682836014 ┆ BasicChecki ┆ 67262697539 ┆ Accepted    │\n",
       "│ 5767703      ┆ /data/Sampl ┆             ┆ 22785168    ┆ ng          ┆ 98004695    ┆             │\n",
       "│              ┆ eHDS.jso…   ┆             ┆             ┆             ┆             ┆             │\n",
       "│ 897573195730 ┆ ../../../.. ┆ 1.2885e19   ┆ 10191297706 ┆ UPlusFinPer ┆ null        ┆ Rejected    │\n",
       "│ 8671675      ┆ /data/Sampl ┆             ┆ 386385913   ┆ sonal       ┆             ┆             │\n",
       "│              ┆ eHDS.jso…   ┆             ┆             ┆             ┆             ┆             │\n",
       "│ 179917390256 ┆ ../../../.. ┆ 1.5425e19   ┆ 10191297706 ┆ BasicChecki ┆ 67262697539 ┆ Rejected    │\n",
       "│ 03532050     ┆ /data/Sampl ┆             ┆ 386385913   ┆ ng          ┆ 98004695    ┆             │\n",
       "│              ┆ eHDS.jso…   ┆             ┆             ┆             ┆             ┆             │\n",
       "└──────────────┴─────────────┴─────────────┴─────────────┴─────────────┴─────────────┴─────────────┘"
      ]
     },
     "execution_count": 10,
     "metadata": {},
     "output_type": "execute_result"
    }
   ],
   "source": [
    "anon = DataAnonymization(config=Config(config_file='config.json'))\n",
    "anon.process()"
   ]
  },
  {
   "attachments": {},
   "cell_type": "markdown",
   "metadata": {},
   "source": [
    "## Exporting\n",
    "Two functions export:\n",
    "- `create_mapping_file()` writes the mapping file of the predictor names\n",
    "- `write_to_output()` writes the processed dataframe to disk\n",
    "\n",
    "Write to output accepts the following extensions: `[\"ndjson\", \"parquet\", \"arrow\", \"csv\"]`"
   ]
  },
  {
   "cell_type": "code",
   "execution_count": 11,
   "metadata": {
    "execution": {
     "iopub.execute_input": "2024-06-21T13:02:57.102280Z",
     "iopub.status.busy": "2024-06-21T13:02:57.101868Z",
     "iopub.status.idle": "2024-06-21T13:02:57.105294Z",
     "shell.execute_reply": "2024-06-21T13:02:57.104775Z"
    }
   },
   "outputs": [
    {
     "name": "stdout",
     "output_type": "stream",
     "text": [
      "Customer_City=PREDICTOR_0\n",
      "filename=filename\n",
      "Customer_CLV=PREDICTOR_2\n",
      "Customer_MaritalStatus=PREDICTOR_3\n",
      "Context_Name=Context_Name\n",
      "IH_Web_Inbound_Accepted_pxLastGroupID=IH_Web_Inbound_Accepted_pxLastGroupID\n",
      "Decision_Outcome=Decision_Outcome\n",
      "\n"
     ]
    }
   ],
   "source": [
    "anon.create_mapping_file()\n",
    "with open('mapping.map') as f:\n",
    "    print(f.read())"
   ]
  },
  {
   "cell_type": "code",
   "execution_count": 12,
   "metadata": {
    "execution": {
     "iopub.execute_input": "2024-06-21T13:02:57.107265Z",
     "iopub.status.busy": "2024-06-21T13:02:57.106866Z",
     "iopub.status.idle": "2024-06-21T13:02:57.110385Z",
     "shell.execute_reply": "2024-06-21T13:02:57.109848Z"
    }
   },
   "outputs": [],
   "source": [
    "anon.write_to_output(ext='arrow')"
   ]
  },
  {
   "cell_type": "code",
   "execution_count": 13,
   "metadata": {
    "execution": {
     "iopub.execute_input": "2024-06-21T13:02:57.112558Z",
     "iopub.status.busy": "2024-06-21T13:02:57.112241Z",
     "iopub.status.idle": "2024-06-21T13:02:57.116547Z",
     "shell.execute_reply": "2024-06-21T13:02:57.116107Z"
    }
   },
   "outputs": [
    {
     "data": {
      "text/html": [
       "<div><style>\n",
       ".dataframe > thead > tr,\n",
       ".dataframe > tbody > tr {\n",
       "  text-align: right;\n",
       "  white-space: pre-wrap;\n",
       "}\n",
       "</style>\n",
       "<small>shape: (7, 6)</small><table border=\"1\" class=\"dataframe\"><thead><tr><th>PREDICTOR_0</th><th>PREDICTOR_2</th><th>PREDICTOR_3</th><th>Context_Name</th><th>IH_Web_Inbound_Accepted_pxLastGroupID</th><th>Decision_Outcome</th></tr><tr><td>str</td><td>f64</td><td>str</td><td>str</td><td>str</td><td>str</td></tr></thead><tbody><tr><td>&quot;15122765976582220577&quot;</td><td>8.6265e18</td><td>&quot;5762467642394820671&quot;</td><td>&quot;FirstMortgage30yr&quot;</td><td>&quot;4897140851006610&quot;</td><td>&quot;Rejected&quot;</td></tr><tr><td>&quot;13698617338135623329&quot;</td><td>1.7737e19</td><td>&quot;9812330530823692772&quot;</td><td>&quot;FirstMortgage30yr&quot;</td><td>&quot;4894900476293963135&quot;</td><td>&quot;Accepted&quot;</td></tr><tr><td>&quot;12614204991113463875&quot;</td><td>1.4366e19</td><td>&quot;9347960655015846029&quot;</td><td>&quot;MoneyMarketSavingsAccount&quot;</td><td>&quot;4897140851006610&quot;</td><td>&quot;Rejected&quot;</td></tr><tr><td>&quot;13601209821213943615&quot;</td><td>8.4258e18</td><td>&quot;9812330530823692772&quot;</td><td>&quot;BasicChecking&quot;</td><td>&quot;4897140851006610&quot;</td><td>&quot;Rejected&quot;</td></tr><tr><td>&quot;4343123255841089993&quot;</td><td>1.5715e19</td><td>&quot;5762467642394820671&quot;</td><td>&quot;BasicChecking&quot;</td><td>&quot;10226615252858444876&quot;</td><td>&quot;Accepted&quot;</td></tr><tr><td>&quot;5434870236914464649&quot;</td><td>4.5615e18</td><td>&quot;9347960655015846029&quot;</td><td>&quot;UPlusFinPersonal&quot;</td><td>null</td><td>&quot;Rejected&quot;</td></tr><tr><td>&quot;16471380837393918291&quot;</td><td>1.7608e19</td><td>&quot;9347960655015846029&quot;</td><td>&quot;BasicChecking&quot;</td><td>&quot;10226615252858444876&quot;</td><td>&quot;Rejected&quot;</td></tr></tbody></table></div>"
      ],
      "text/plain": [
       "shape: (7, 6)\n",
       "┌────────────────┬─────────────┬────────────────┬────────────────┬────────────────┬────────────────┐\n",
       "│ PREDICTOR_0    ┆ PREDICTOR_2 ┆ PREDICTOR_3    ┆ Context_Name   ┆ IH_Web_Inbound ┆ Decision_Outco │\n",
       "│ ---            ┆ ---         ┆ ---            ┆ ---            ┆ _Accepted_pxLa ┆ me             │\n",
       "│ str            ┆ f64         ┆ str            ┆ str            ┆ st…            ┆ ---            │\n",
       "│                ┆             ┆                ┆                ┆ ---            ┆ str            │\n",
       "│                ┆             ┆                ┆                ┆ str            ┆                │\n",
       "╞════════════════╪═════════════╪════════════════╪════════════════╪════════════════╪════════════════╡\n",
       "│ 15122765976582 ┆ 8.6265e18   ┆ 57624676423948 ┆ FirstMortgage3 ┆ 48971408510066 ┆ Rejected       │\n",
       "│ 220577         ┆             ┆ 20671          ┆ 0yr            ┆ 10             ┆                │\n",
       "│ 13698617338135 ┆ 1.7737e19   ┆ 98123305308236 ┆ FirstMortgage3 ┆ 48949004762939 ┆ Accepted       │\n",
       "│ 623329         ┆             ┆ 92772          ┆ 0yr            ┆ 63135          ┆                │\n",
       "│ 12614204991113 ┆ 1.4366e19   ┆ 93479606550158 ┆ MoneyMarketSav ┆ 48971408510066 ┆ Rejected       │\n",
       "│ 463875         ┆             ┆ 46029          ┆ ingsAccount    ┆ 10             ┆                │\n",
       "│ 13601209821213 ┆ 8.4258e18   ┆ 98123305308236 ┆ BasicChecking  ┆ 48971408510066 ┆ Rejected       │\n",
       "│ 943615         ┆             ┆ 92772          ┆                ┆ 10             ┆                │\n",
       "│ 43431232558410 ┆ 1.5715e19   ┆ 57624676423948 ┆ BasicChecking  ┆ 10226615252858 ┆ Accepted       │\n",
       "│ 89993          ┆             ┆ 20671          ┆                ┆ 444876         ┆                │\n",
       "│ 54348702369144 ┆ 4.5615e18   ┆ 93479606550158 ┆ UPlusFinPerson ┆ null           ┆ Rejected       │\n",
       "│ 64649          ┆             ┆ 46029          ┆ al             ┆                ┆                │\n",
       "│ 16471380837393 ┆ 1.7608e19   ┆ 93479606550158 ┆ BasicChecking  ┆ 10226615252858 ┆ Rejected       │\n",
       "│ 918291         ┆             ┆ 46029          ┆                ┆ 444876         ┆                │\n",
       "└────────────────┴─────────────┴────────────────┴────────────────┴────────────────┴────────────────┘"
      ]
     },
     "execution_count": 13,
     "metadata": {},
     "output_type": "execute_result"
    }
   ],
   "source": [
    "pl.read_ipc('output/hds.arrow')"
   ]
  },
  {
   "attachments": {},
   "cell_type": "markdown",
   "metadata": {
    "nbsphinx": "hidden"
   },
   "source": [
    "## Advanced: Hash fuctions\n",
    "\n",
    "By default, we use [the same hashing algorithm Polars](https://pola-rs.github.io/polars/py-polars/html/reference/expressions/api/polars.Expr.hash.html#polars.Expr.hash) uses: [xxhash](https://github.com/Cyan4973/xxHash), as implemented [here](https://github.com/pola-rs/polars/blob/3f287f370b3c388ed2f3f218b2c096382548136f/polars/polars-core/src/vector_hasher.rs#L266). xxhash is fast to compute, and you can check its performance in collision, dispersion and randomness [here](https://github.com/Cyan4973/xxHash/tree/dev/tests). \n",
    "\n",
    "xxhash accepts four distinct seeds, but by default we set the seeds to `0`. It is possible to set the `seed` argument of the `process()` function to `'random'`, which will set all four seeds to a random integer between `0` and `1000000000`. Alternatively, it is possible to supply the four seeds manually with arguments `seed`, `seed_1`, `seed_2` and `seed_3`. \n",
    "\n",
    "If the xxhash with (random) seed(s) is not deemed sufficiently secure, it is possible to use your own hashing algorithm.\n",
    "\n",
    "Note that since we're now running python code and not native Polars code anymore, this will be _significantly_ slower. Nonetheless, it is possible.\n",
    "\n",
    "Just as an example - this is how one would use sha3_256:"
   ]
  },
  {
   "cell_type": "code",
   "execution_count": 14,
   "metadata": {
    "execution": {
     "iopub.execute_input": "2024-06-21T13:02:57.118481Z",
     "iopub.status.busy": "2024-06-21T13:02:57.118168Z",
     "iopub.status.idle": "2024-06-21T13:02:57.443209Z",
     "shell.execute_reply": "2024-06-21T13:02:57.442640Z"
    },
    "nbsphinx": "hidden"
   },
   "outputs": [
    {
     "name": "stderr",
     "output_type": "stream",
     "text": [
      "sys:1: MapWithoutReturnDtypeWarning:\n",
      "\n",
      "Calling `map_elements` without specifying `return_dtype` can lead to unpredictable results. Specify `return_dtype` to silence this warning.\n",
      "\n",
      "sys:1: MapWithoutReturnDtypeWarning:\n",
      "\n",
      "Calling `map_elements` without specifying `return_dtype` can lead to unpredictable results. Specify `return_dtype` to silence this warning.\n",
      "\n",
      "sys:1: MapWithoutReturnDtypeWarning:\n",
      "\n",
      "Calling `map_elements` without specifying `return_dtype` can lead to unpredictable results. Specify `return_dtype` to silence this warning.\n",
      "\n",
      "sys:1: MapWithoutReturnDtypeWarning:\n",
      "\n",
      "Calling `map_elements` without specifying `return_dtype` can lead to unpredictable results. Specify `return_dtype` to silence this warning.\n",
      "\n"
     ]
    },
    {
     "ename": "ComputeError",
     "evalue": "AttributeError: 'int' object has no attribute 'encode'",
     "output_type": "error",
     "traceback": [
      "\u001b[0;31m---------------------------------------------------------------------------\u001b[0m",
      "\u001b[0;31mComputeError\u001b[0m                              Traceback (most recent call last)",
      "Cell \u001b[0;32mIn[14], line 3\u001b[0m\n\u001b[1;32m      1\u001b[0m \u001b[38;5;28;01mfrom\u001b[39;00m \u001b[38;5;21;01mhashlib\u001b[39;00m \u001b[38;5;28;01mimport\u001b[39;00m sha3_256\n\u001b[0;32m----> 3\u001b[0m \u001b[43manon\u001b[49m\u001b[38;5;241;43m.\u001b[39;49m\u001b[43mprocess\u001b[49m\u001b[43m(\u001b[49m\u001b[43malgorithm\u001b[49m\u001b[38;5;241;43m=\u001b[39;49m\u001b[38;5;28;43;01mlambda\u001b[39;49;00m\u001b[43m \u001b[49m\u001b[43mx\u001b[49m\u001b[43m:\u001b[49m\u001b[43m \u001b[49m\u001b[43msha3_256\u001b[49m\u001b[43m(\u001b[49m\u001b[43mx\u001b[49m\u001b[38;5;241;43m.\u001b[39;49m\u001b[43mencode\u001b[49m\u001b[43m(\u001b[49m\u001b[43m)\u001b[49m\u001b[43m)\u001b[49m\u001b[38;5;241;43m.\u001b[39;49m\u001b[43mhexdigest\u001b[49m\u001b[43m(\u001b[49m\u001b[43m)\u001b[49m\u001b[43m)\u001b[49m\n",
      "File \u001b[0;32m~/work/pega-datascientist-tools/pega-datascientist-tools/python/docs/source/articles/../../../pdstools/utils/hds_utils.py:512\u001b[0m, in \u001b[0;36mDataAnonymization.process\u001b[0;34m(self, strategy, **kwargs)\u001b[0m\n\u001b[1;32m    510\u001b[0m df \u001b[38;5;241m=\u001b[39m df\u001b[38;5;241m.\u001b[39mselect(\u001b[38;5;28mself\u001b[39m\u001b[38;5;241m.\u001b[39mcolumn_mapping\u001b[38;5;241m.\u001b[39mkeys())\u001b[38;5;241m.\u001b[39mrename(\u001b[38;5;28mself\u001b[39m\u001b[38;5;241m.\u001b[39mcolumn_mapping)\n\u001b[1;32m    511\u001b[0m \u001b[38;5;28;01mif\u001b[39;00m strategy \u001b[38;5;241m==\u001b[39m \u001b[38;5;124m\"\u001b[39m\u001b[38;5;124meager\u001b[39m\u001b[38;5;124m\"\u001b[39m:\n\u001b[0;32m--> 512\u001b[0m     \u001b[38;5;28;01mreturn\u001b[39;00m \u001b[43mdf\u001b[49m\u001b[38;5;241;43m.\u001b[39;49m\u001b[43mcollect\u001b[49m\u001b[43m(\u001b[49m\u001b[43m)\u001b[49m\n\u001b[1;32m    513\u001b[0m \u001b[38;5;28;01mreturn\u001b[39;00m df\n",
      "File \u001b[0;32m/opt/hostedtoolcache/Python/3.11.9/x64/lib/python3.11/site-packages/polars/lazyframe/frame.py:1967\u001b[0m, in \u001b[0;36mLazyFrame.collect\u001b[0;34m(self, type_coercion, predicate_pushdown, projection_pushdown, simplify_expression, slice_pushdown, comm_subplan_elim, comm_subexpr_elim, cluster_with_columns, no_optimization, streaming, background, _eager, **_kwargs)\u001b[0m\n\u001b[1;32m   1964\u001b[0m \u001b[38;5;66;03m# Only for testing purposes atm.\u001b[39;00m\n\u001b[1;32m   1965\u001b[0m callback \u001b[38;5;241m=\u001b[39m _kwargs\u001b[38;5;241m.\u001b[39mget(\u001b[38;5;124m\"\u001b[39m\u001b[38;5;124mpost_opt_callback\u001b[39m\u001b[38;5;124m\"\u001b[39m)\n\u001b[0;32m-> 1967\u001b[0m \u001b[38;5;28;01mreturn\u001b[39;00m wrap_df(\u001b[43mldf\u001b[49m\u001b[38;5;241;43m.\u001b[39;49m\u001b[43mcollect\u001b[49m\u001b[43m(\u001b[49m\u001b[43mcallback\u001b[49m\u001b[43m)\u001b[49m)\n",
      "\u001b[0;31mComputeError\u001b[0m: AttributeError: 'int' object has no attribute 'encode'"
     ]
    }
   ],
   "source": [
    "from hashlib import sha3_256\n",
    "\n",
    "anon.process(algorithm=lambda x: sha3_256(x.encode()).hexdigest())"
   ]
  }
 ],
 "metadata": {
  "kernelspec": {
   "display_name": "Python 3",
   "language": "python",
   "name": "python3"
  },
  "language_info": {
   "codemirror_mode": {
    "name": "ipython",
    "version": 3
   },
   "file_extension": ".py",
   "mimetype": "text/x-python",
   "name": "python",
   "nbconvert_exporter": "python",
   "pygments_lexer": "ipython3",
   "version": "3.11.9"
  },
  "vscode": {
   "interpreter": {
    "hash": "aee8b7b246df8f9039afb4144a1f6fd8d2ca17a180786b69acc140d282b71a49"
   }
  }
 },
 "nbformat": 4,
 "nbformat_minor": 2
}
