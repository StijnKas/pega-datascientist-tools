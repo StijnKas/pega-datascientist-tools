{
 "cells": [
  {
   "attachments": {},
   "cell_type": "markdown",
   "metadata": {},
   "source": [
    "# Example data anonymization\n",
    "\n",
    "In Pega CDH 8.5 and up, it's now possible to record the historical data as seen by the Adaptive Models. See [this academy challenge](https://academy.pega.com/challenge/exporting-historical-data/v4) for reference. This historical data can be further used to experiment with offline models, but also to fine-tune the OOTB Gradient Boosting model. However, sharing this information with Pega can be sensitive as it contains raw predictor data. \n",
    "\n",
    "To this end, we provide a simple and transparent script to fully anonimize this dataset.\n",
    "\n",
    "The DataAnonymization script is now part of pdstools, and you can import it directly as such."
   ]
  },
  {
   "cell_type": "code",
   "execution_count": 1,
   "metadata": {
    "execution": {
     "iopub.execute_input": "2023-07-06T11:23:19.189222Z",
     "iopub.status.busy": "2023-07-06T11:23:19.188994Z",
     "iopub.status.idle": "2023-07-06T11:23:19.195101Z",
     "shell.execute_reply": "2023-07-06T11:23:19.194550Z"
    },
    "nbsphinx": "hidden"
   },
   "outputs": [],
   "source": [
    "# These lines are only for rendering in the docs, and are hidden through Jupyter tags\n",
    "# Do not run if you're running the notebook seperately\n",
    "\n",
    "import sys\n",
    "sys.path.append('../../../')"
   ]
  },
  {
   "cell_type": "code",
   "execution_count": 2,
   "metadata": {
    "execution": {
     "iopub.execute_input": "2023-07-06T11:23:19.197486Z",
     "iopub.status.busy": "2023-07-06T11:23:19.197118Z",
     "iopub.status.idle": "2023-07-06T11:23:20.331928Z",
     "shell.execute_reply": "2023-07-06T11:23:20.331312Z"
    }
   },
   "outputs": [],
   "source": [
    "from pdstools import ADMDatamart\n",
    "from pdstools import Config, DataAnonymization\n",
    "import polars as pl"
   ]
  },
  {
   "attachments": {},
   "cell_type": "markdown",
   "metadata": {},
   "source": [
    "## Input data\n",
    "\n",
    "To demonstrate this process, we're going to anonymise this toy example dataframe:"
   ]
  },
  {
   "cell_type": "code",
   "execution_count": 3,
   "metadata": {
    "execution": {
     "iopub.execute_input": "2023-07-06T11:23:20.335371Z",
     "iopub.status.busy": "2023-07-06T11:23:20.334869Z",
     "iopub.status.idle": "2023-07-06T11:23:20.346616Z",
     "shell.execute_reply": "2023-07-06T11:23:20.346111Z"
    }
   },
   "outputs": [
    {
     "data": {
      "text/html": [
       "<div><style>\n",
       ".dataframe > thead > tr > th,\n",
       ".dataframe > tbody > tr > td {\n",
       "  text-align: right;\n",
       "}\n",
       "</style>\n",
       "<small>shape: (7, 6)</small><table border=\"1\" class=\"dataframe\"><thead><tr><th>Context_Name</th><th>Customer_MaritalStatus</th><th>Customer_CLV</th><th>Customer_City</th><th>IH_Web_Inbound_Accepted_pxLastGroupID</th><th>Decision_Outcome</th></tr><tr><td>str</td><td>str</td><td>i64</td><td>str</td><td>str</td><td>str</td></tr></thead><tbody><tr><td>&quot;FirstMortgage3…</td><td>&quot;Married&quot;</td><td>1460</td><td>&quot;Port Raoul&quot;</td><td>&quot;Account&quot;</td><td>&quot;Rejected&quot;</td></tr><tr><td>&quot;FirstMortgage3…</td><td>&quot;Unknown&quot;</td><td>669</td><td>&quot;Laurianneshire…</td><td>&quot;AutoLoans&quot;</td><td>&quot;Accepted&quot;</td></tr><tr><td>&quot;MoneyMarketSav…</td><td>&quot;No Resp+&quot;</td><td>1174</td><td>&quot;Jacobshaven&quot;</td><td>&quot;Account&quot;</td><td>&quot;Rejected&quot;</td></tr><tr><td>&quot;BasicChecking&quot;</td><td>&quot;Unknown&quot;</td><td>1476</td><td>&quot;Lindton&quot;</td><td>&quot;Account&quot;</td><td>&quot;Rejected&quot;</td></tr><tr><td>&quot;BasicChecking&quot;</td><td>&quot;Married&quot;</td><td>1211</td><td>&quot;South Jimmiesh…</td><td>&quot;DepositAccount…</td><td>&quot;Accepted&quot;</td></tr><tr><td>&quot;UPlusFinPerson…</td><td>&quot;No Resp+&quot;</td><td>533</td><td>&quot;Bergeville&quot;</td><td>null</td><td>&quot;Rejected&quot;</td></tr><tr><td>&quot;BasicChecking&quot;</td><td>&quot;No Resp+&quot;</td><td>555</td><td>&quot;Willyville&quot;</td><td>&quot;DepositAccount…</td><td>&quot;Rejected&quot;</td></tr></tbody></table></div>"
      ],
      "text/plain": [
       "shape: (7, 6)\n",
       "┌────────────────┬────────────────┬──────────────┬────────────────┬────────────────┬───────────────┐\n",
       "│ Context_Name   ┆ Customer_Marit ┆ Customer_CLV ┆ Customer_City  ┆ IH_Web_Inbound ┆ Decision_Outc │\n",
       "│ ---            ┆ alStatus       ┆ ---          ┆ ---            ┆ _Accepted_pxLa ┆ ome           │\n",
       "│ str            ┆ ---            ┆ i64          ┆ str            ┆ stGr…          ┆ ---           │\n",
       "│                ┆ str            ┆              ┆                ┆ ---            ┆ str           │\n",
       "│                ┆                ┆              ┆                ┆ str            ┆               │\n",
       "╞════════════════╪════════════════╪══════════════╪════════════════╪════════════════╪═══════════════╡\n",
       "│ FirstMortgage3 ┆ Married        ┆ 1460         ┆ Port Raoul     ┆ Account        ┆ Rejected      │\n",
       "│ 0yr            ┆                ┆              ┆                ┆                ┆               │\n",
       "│ FirstMortgage3 ┆ Unknown        ┆ 669          ┆ Laurianneshire ┆ AutoLoans      ┆ Accepted      │\n",
       "│ 0yr            ┆                ┆              ┆                ┆                ┆               │\n",
       "│ MoneyMarketSav ┆ No Resp+       ┆ 1174         ┆ Jacobshaven    ┆ Account        ┆ Rejected      │\n",
       "│ ingsAccount    ┆                ┆              ┆                ┆                ┆               │\n",
       "│ BasicChecking  ┆ Unknown        ┆ 1476         ┆ Lindton        ┆ Account        ┆ Rejected      │\n",
       "│ BasicChecking  ┆ Married        ┆ 1211         ┆ South          ┆ DepositAccount ┆ Accepted      │\n",
       "│                ┆                ┆              ┆ Jimmieshire    ┆ s              ┆               │\n",
       "│ UPlusFinPerson ┆ No Resp+       ┆ 533          ┆ Bergeville     ┆ null           ┆ Rejected      │\n",
       "│ al             ┆                ┆              ┆                ┆                ┆               │\n",
       "│ BasicChecking  ┆ No Resp+       ┆ 555          ┆ Willyville     ┆ DepositAccount ┆ Rejected      │\n",
       "│                ┆                ┆              ┆                ┆ s              ┆               │\n",
       "└────────────────┴────────────────┴──────────────┴────────────────┴────────────────┴───────────────┘"
      ]
     },
     "execution_count": 3,
     "metadata": {},
     "output_type": "execute_result"
    }
   ],
   "source": [
    "pl.read_ndjson('../../../../data/SampleHDS.json')"
   ]
  },
  {
   "attachments": {},
   "cell_type": "markdown",
   "metadata": {},
   "source": [
    "As you can see, this dataset consists of regular predictors, IH predictors, context keys and the outcome column. Additionally, some columns are numeric, others are strings. Let's first initialize the DataAnonymization class."
   ]
  },
  {
   "cell_type": "code",
   "execution_count": 4,
   "metadata": {
    "execution": {
     "iopub.execute_input": "2023-07-06T11:23:20.348964Z",
     "iopub.status.busy": "2023-07-06T11:23:20.348658Z",
     "iopub.status.idle": "2023-07-06T11:23:20.358101Z",
     "shell.execute_reply": "2023-07-06T11:23:20.357590Z"
    }
   },
   "outputs": [],
   "source": [
    "anon = DataAnonymization(hds_folder='../../../../data/')"
   ]
  },
  {
   "attachments": {},
   "cell_type": "markdown",
   "metadata": {},
   "source": [
    "By default, the class applies a set of anonymisation techniques:\n",
    "- Column names are remapped to a non-descriptive name\n",
    "- Categorical values are hashed with a random seed\n",
    "- Numerical values are normalized between 0 and 1\n",
    "- Outcomes are mapped to a binary outcome.\n",
    "\n",
    "To apply these techniques, simply call `.process()`:"
   ]
  },
  {
   "cell_type": "code",
   "execution_count": 5,
   "metadata": {
    "execution": {
     "iopub.execute_input": "2023-07-06T11:23:20.360902Z",
     "iopub.status.busy": "2023-07-06T11:23:20.360617Z",
     "iopub.status.idle": "2023-07-06T11:23:20.368369Z",
     "shell.execute_reply": "2023-07-06T11:23:20.367877Z"
    }
   },
   "outputs": [
    {
     "data": {
      "text/html": [
       "<div><style>\n",
       ".dataframe > thead > tr > th,\n",
       ".dataframe > tbody > tr > td {\n",
       "  text-align: right;\n",
       "}\n",
       "</style>\n",
       "<small>shape: (7, 7)</small><table border=\"1\" class=\"dataframe\"><thead><tr><th>filename</th><th>PREDICTOR_1</th><th>PREDICTOR_2</th><th>PREDICTOR_3</th><th>Context_Name</th><th>IH_PREDICTOR_0</th><th>Decision_Outcome</th></tr><tr><td>str</td><td>str</td><td>str</td><td>f64</td><td>str</td><td>str</td><td>bool</td></tr></thead><tbody><tr><td>&quot;../../../../da…</td><td>&quot;38531247799057…</td><td>&quot;74514634382439…</td><td>1.2927e19</td><td>&quot;11276312873930…</td><td>&quot;15824663000456…</td><td>false</td></tr><tr><td>&quot;../../../../da…</td><td>&quot;50060751709436…</td><td>&quot;11516187759915…</td><td>1.4856e19</td><td>&quot;11276312873930…</td><td>&quot;69232738458648…</td><td>true</td></tr><tr><td>&quot;../../../../da…</td><td>&quot;10179697731576…</td><td>&quot;10206684803586…</td><td>5.6458e17</td><td>&quot;12983908670116…</td><td>&quot;15824663000456…</td><td>false</td></tr><tr><td>&quot;../../../../da…</td><td>&quot;50060751709436…</td><td>&quot;12844266501975…</td><td>4.0723e18</td><td>&quot;74726269259809…</td><td>&quot;15824663000456…</td><td>false</td></tr><tr><td>&quot;../../../../da…</td><td>&quot;38531247799057…</td><td>&quot;95740663638628…</td><td>1.4677e19</td><td>&quot;74726269259809…</td><td>&quot;39621191195074…</td><td>true</td></tr><tr><td>&quot;../../../../da…</td><td>&quot;10179697731576…</td><td>&quot;15508239920557…</td><td>1.6330e19</td><td>&quot;40644369389378…</td><td>null</td><td>false</td></tr><tr><td>&quot;../../../../da…</td><td>&quot;10179697731576…</td><td>&quot;18403526683461…</td><td>8.7675e18</td><td>&quot;74726269259809…</td><td>&quot;39621191195074…</td><td>false</td></tr></tbody></table></div>"
      ],
      "text/plain": [
       "shape: (7, 7)\n",
       "┌───────────────┬──────────────┬──────────────┬─────────────┬────────────┬────────────┬────────────┐\n",
       "│ filename      ┆ PREDICTOR_1  ┆ PREDICTOR_2  ┆ PREDICTOR_3 ┆ Context_Na ┆ IH_PREDICT ┆ Decision_O │\n",
       "│ ---           ┆ ---          ┆ ---          ┆ ---         ┆ me         ┆ OR_0       ┆ utcome     │\n",
       "│ str           ┆ str          ┆ str          ┆ f64         ┆ ---        ┆ ---        ┆ ---        │\n",
       "│               ┆              ┆              ┆             ┆ str        ┆ str        ┆ bool       │\n",
       "╞═══════════════╪══════════════╪══════════════╪═════════════╪════════════╪════════════╪════════════╡\n",
       "│ ../../../../d ┆ 385312477990 ┆ 745146343824 ┆ 1.2927e19   ┆ 1127631287 ┆ 1582466300 ┆ false      │\n",
       "│ ata/SampleHDS ┆ 5735330      ┆ 3989448      ┆             ┆ 3930223976 ┆ 0456968234 ┆            │\n",
       "│ .json         ┆              ┆              ┆             ┆            ┆            ┆            │\n",
       "│ ../../../../d ┆ 500607517094 ┆ 115161877599 ┆ 1.4856e19   ┆ 1127631287 ┆ 6923273845 ┆ true       │\n",
       "│ ata/SampleHDS ┆ 3650504      ┆ 15725342     ┆             ┆ 3930223976 ┆ 864847177  ┆            │\n",
       "│ .json         ┆              ┆              ┆             ┆            ┆            ┆            │\n",
       "│ ../../../../d ┆ 101796977315 ┆ 102066848035 ┆ 5.6458e17   ┆ 1298390867 ┆ 1582466300 ┆ false      │\n",
       "│ ata/SampleHDS ┆ 7643535      ┆ 86665734     ┆             ┆ 0116795095 ┆ 0456968234 ┆            │\n",
       "│ .json         ┆              ┆              ┆             ┆            ┆            ┆            │\n",
       "│ ../../../../d ┆ 500607517094 ┆ 128442665019 ┆ 4.0723e18   ┆ 7472626925 ┆ 1582466300 ┆ false      │\n",
       "│ ata/SampleHDS ┆ 3650504      ┆ 7537396      ┆             ┆ 980963975  ┆ 0456968234 ┆            │\n",
       "│ .json         ┆              ┆              ┆             ┆            ┆            ┆            │\n",
       "│ ../../../../d ┆ 385312477990 ┆ 957406636386 ┆ 1.4677e19   ┆ 7472626925 ┆ 3962119119 ┆ true       │\n",
       "│ ata/SampleHDS ┆ 5735330      ┆ 2885209      ┆             ┆ 980963975  ┆ 507411909  ┆            │\n",
       "│ .json         ┆              ┆              ┆             ┆            ┆            ┆            │\n",
       "│ ../../../../d ┆ 101796977315 ┆ 155082399205 ┆ 1.6330e19   ┆ 4064436938 ┆ null       ┆ false      │\n",
       "│ ata/SampleHDS ┆ 7643535      ┆ 57352132     ┆             ┆ 937895645  ┆            ┆            │\n",
       "│ .json         ┆              ┆              ┆             ┆            ┆            ┆            │\n",
       "│ ../../../../d ┆ 101796977315 ┆ 184035266834 ┆ 8.7675e18   ┆ 7472626925 ┆ 3962119119 ┆ false      │\n",
       "│ ata/SampleHDS ┆ 7643535      ┆ 61457873     ┆             ┆ 980963975  ┆ 507411909  ┆            │\n",
       "│ .json         ┆              ┆              ┆             ┆            ┆            ┆            │\n",
       "└───────────────┴──────────────┴──────────────┴─────────────┴────────────┴────────────┴────────────┘"
      ]
     },
     "execution_count": 5,
     "metadata": {},
     "output_type": "execute_result"
    }
   ],
   "source": [
    "anon.process()"
   ]
  },
  {
   "attachments": {},
   "cell_type": "markdown",
   "metadata": {},
   "source": [
    "To trace back the columns to their original names, the class also contains a mapping, which does not have to be provided."
   ]
  },
  {
   "cell_type": "code",
   "execution_count": 6,
   "metadata": {
    "execution": {
     "iopub.execute_input": "2023-07-06T11:23:20.370846Z",
     "iopub.status.busy": "2023-07-06T11:23:20.370562Z",
     "iopub.status.idle": "2023-07-06T11:23:20.375942Z",
     "shell.execute_reply": "2023-07-06T11:23:20.375446Z"
    }
   },
   "outputs": [
    {
     "data": {
      "text/plain": [
       "{'filename': 'filename',\n",
       " 'Customer_MaritalStatus': 'PREDICTOR_1',\n",
       " 'Customer_City': 'PREDICTOR_2',\n",
       " 'Customer_CLV': 'PREDICTOR_3',\n",
       " 'Context_Name': 'Context_Name',\n",
       " 'IH_Web_Inbound_Accepted_pxLastGroupID': 'IH_PREDICTOR_0',\n",
       " 'Decision_Outcome': 'Decision_Outcome'}"
      ]
     },
     "execution_count": 6,
     "metadata": {},
     "output_type": "execute_result"
    }
   ],
   "source": [
    "anon.column_mapping"
   ]
  },
  {
   "attachments": {},
   "cell_type": "markdown",
   "metadata": {},
   "source": [
    "## Configs\n",
    "\n",
    "Each capability can optionally be turned off - see below for the full list of config options, and refer to the API reference for the full description."
   ]
  },
  {
   "cell_type": "code",
   "execution_count": 7,
   "metadata": {
    "execution": {
     "iopub.execute_input": "2023-07-06T11:23:20.378350Z",
     "iopub.status.busy": "2023-07-06T11:23:20.378081Z",
     "iopub.status.idle": "2023-07-06T11:23:20.383945Z",
     "shell.execute_reply": "2023-07-06T11:23:20.383463Z"
    }
   },
   "outputs": [
    {
     "data": {
      "text/plain": [
       "{'config_file': None,\n",
       " 'hds_folder': '.',\n",
       " 'use_datamart': False,\n",
       " 'datamart_folder': 'datamart',\n",
       " 'output_format': 'ndjson',\n",
       " 'output_folder': 'output',\n",
       " 'mapping_file': 'mapping.map',\n",
       " 'mask_predictor_names': True,\n",
       " 'mask_context_key_names': False,\n",
       " 'mask_ih_names': True,\n",
       " 'mask_outcome_name': False,\n",
       " 'mask_predictor_values': True,\n",
       " 'mask_context_key_values': True,\n",
       " 'mask_ih_values': True,\n",
       " 'mask_outcome_values': True,\n",
       " 'context_key_label': 'Context_*',\n",
       " 'ih_label': 'IH_*',\n",
       " 'outcome_column': 'Decision_Outcome',\n",
       " 'positive_outcomes': ['Accepted', 'Clicked'],\n",
       " 'negative_outcomes': ['Rejected', 'Impression'],\n",
       " 'special_predictors': ['Decision_DecisionTime',\n",
       "  'Decision_OutcomeTime',\n",
       "  'Decision_Rank'],\n",
       " 'sample_percentage_schema_inferencing': 0.01}"
      ]
     },
     "execution_count": 7,
     "metadata": {},
     "output_type": "execute_result"
    }
   ],
   "source": [
    "dict(zip(Config.__init__.__code__.co_varnames[1:], Config.__init__.__defaults__))"
   ]
  },
  {
   "attachments": {},
   "cell_type": "markdown",
   "metadata": {},
   "source": [
    "It's easy to change these parameters by just passing the keyword arguments. In the following example, we\n",
    "- Keep the IH predictor names\n",
    "- Keep the outcome values\n",
    "- Keep the context key values\n",
    "- Keep the context key predictor names"
   ]
  },
  {
   "cell_type": "code",
   "execution_count": 8,
   "metadata": {
    "execution": {
     "iopub.execute_input": "2023-07-06T11:23:20.386414Z",
     "iopub.status.busy": "2023-07-06T11:23:20.386145Z",
     "iopub.status.idle": "2023-07-06T11:23:20.399144Z",
     "shell.execute_reply": "2023-07-06T11:23:20.398695Z"
    }
   },
   "outputs": [
    {
     "data": {
      "text/html": [
       "<div><style>\n",
       ".dataframe > thead > tr > th,\n",
       ".dataframe > tbody > tr > td {\n",
       "  text-align: right;\n",
       "}\n",
       "</style>\n",
       "<small>shape: (7, 7)</small><table border=\"1\" class=\"dataframe\"><thead><tr><th>filename</th><th>PREDICTOR_1</th><th>PREDICTOR_2</th><th>PREDICTOR_3</th><th>Context_Name</th><th>IH_Web_Inbound_Accepted_pxLastGroupID</th><th>Decision_Outcome</th></tr><tr><td>str</td><td>str</td><td>str</td><td>f64</td><td>str</td><td>str</td><td>str</td></tr></thead><tbody><tr><td>&quot;../../../../da…</td><td>&quot;98189861281952…</td><td>&quot;15146581906312…</td><td>1.2927e19</td><td>&quot;FirstMortgage3…</td><td>&quot;11173092033416…</td><td>&quot;Rejected&quot;</td></tr><tr><td>&quot;../../../../da…</td><td>&quot;54408371297395…</td><td>&quot;11283163751089…</td><td>1.4856e19</td><td>&quot;FirstMortgage3…</td><td>&quot;61909326753733…</td><td>&quot;Accepted&quot;</td></tr><tr><td>&quot;../../../../da…</td><td>&quot;12417782891543…</td><td>&quot;71724905022193…</td><td>5.6458e17</td><td>&quot;MoneyMarketSav…</td><td>&quot;11173092033416…</td><td>&quot;Rejected&quot;</td></tr><tr><td>&quot;../../../../da…</td><td>&quot;54408371297395…</td><td>&quot;10271379074945…</td><td>4.0723e18</td><td>&quot;BasicChecking&quot;</td><td>&quot;11173092033416…</td><td>&quot;Rejected&quot;</td></tr><tr><td>&quot;../../../../da…</td><td>&quot;98189861281952…</td><td>&quot;61116809072641…</td><td>1.4677e19</td><td>&quot;BasicChecking&quot;</td><td>&quot;12873539048473…</td><td>&quot;Accepted&quot;</td></tr><tr><td>&quot;../../../../da…</td><td>&quot;12417782891543…</td><td>&quot;43672394736898…</td><td>1.6330e19</td><td>&quot;UPlusFinPerson…</td><td>null</td><td>&quot;Rejected&quot;</td></tr><tr><td>&quot;../../../../da…</td><td>&quot;12417782891543…</td><td>&quot;12351434122536…</td><td>8.7675e18</td><td>&quot;BasicChecking&quot;</td><td>&quot;12873539048473…</td><td>&quot;Rejected&quot;</td></tr></tbody></table></div>"
      ],
      "text/plain": [
       "shape: (7, 7)\n",
       "┌───────────────┬──────────────┬──────────────┬─────────────┬────────────┬────────────┬────────────┐\n",
       "│ filename      ┆ PREDICTOR_1  ┆ PREDICTOR_2  ┆ PREDICTOR_3 ┆ Context_Na ┆ IH_Web_Inb ┆ Decision_O │\n",
       "│ ---           ┆ ---          ┆ ---          ┆ ---         ┆ me         ┆ ound_Accep ┆ utcome     │\n",
       "│ str           ┆ str          ┆ str          ┆ f64         ┆ ---        ┆ ted_pxLast ┆ ---        │\n",
       "│               ┆              ┆              ┆             ┆ str        ┆ Gr…        ┆ str        │\n",
       "│               ┆              ┆              ┆             ┆            ┆ ---        ┆            │\n",
       "│               ┆              ┆              ┆             ┆            ┆ str        ┆            │\n",
       "╞═══════════════╪══════════════╪══════════════╪═════════════╪════════════╪════════════╪════════════╡\n",
       "│ ../../../../d ┆ 981898612819 ┆ 151465819063 ┆ 1.2927e19   ┆ FirstMortg ┆ 1117309203 ┆ Rejected   │\n",
       "│ ata/SampleHDS ┆ 5211081      ┆ 12401475     ┆             ┆ age30yr    ┆ 3416232449 ┆            │\n",
       "│ .json         ┆              ┆              ┆             ┆            ┆            ┆            │\n",
       "│ ../../../../d ┆ 544083712973 ┆ 112831637510 ┆ 1.4856e19   ┆ FirstMortg ┆ 6190932675 ┆ Accepted   │\n",
       "│ ata/SampleHDS ┆ 9579013      ┆ 89663378     ┆             ┆ age30yr    ┆ 373378464  ┆            │\n",
       "│ .json         ┆              ┆              ┆             ┆            ┆            ┆            │\n",
       "│ ../../../../d ┆ 124177828915 ┆ 717249050221 ┆ 5.6458e17   ┆ MoneyMarke ┆ 1117309203 ┆ Rejected   │\n",
       "│ ata/SampleHDS ┆ 43292632     ┆ 9346367      ┆             ┆ tSavingsAc ┆ 3416232449 ┆            │\n",
       "│ .json         ┆              ┆              ┆             ┆ count      ┆            ┆            │\n",
       "│ ../../../../d ┆ 544083712973 ┆ 102713790749 ┆ 4.0723e18   ┆ BasicCheck ┆ 1117309203 ┆ Rejected   │\n",
       "│ ata/SampleHDS ┆ 9579013      ┆ 45005596     ┆             ┆ ing        ┆ 3416232449 ┆            │\n",
       "│ .json         ┆              ┆              ┆             ┆            ┆            ┆            │\n",
       "│ ../../../../d ┆ 981898612819 ┆ 611168090726 ┆ 1.4677e19   ┆ BasicCheck ┆ 1287353904 ┆ Accepted   │\n",
       "│ ata/SampleHDS ┆ 5211081      ┆ 41517        ┆             ┆ ing        ┆ 8473338355 ┆            │\n",
       "│ .json         ┆              ┆              ┆             ┆            ┆            ┆            │\n",
       "│ ../../../../d ┆ 124177828915 ┆ 436723947368 ┆ 1.6330e19   ┆ UPlusFinPe ┆ null       ┆ Rejected   │\n",
       "│ ata/SampleHDS ┆ 43292632     ┆ 9825297      ┆             ┆ rsonal     ┆            ┆            │\n",
       "│ .json         ┆              ┆              ┆             ┆            ┆            ┆            │\n",
       "│ ../../../../d ┆ 124177828915 ┆ 123514341225 ┆ 8.7675e18   ┆ BasicCheck ┆ 1287353904 ┆ Rejected   │\n",
       "│ ata/SampleHDS ┆ 43292632     ┆ 36203100     ┆             ┆ ing        ┆ 8473338355 ┆            │\n",
       "│ .json         ┆              ┆              ┆             ┆            ┆            ┆            │\n",
       "└───────────────┴──────────────┴──────────────┴─────────────┴────────────┴────────────┴────────────┘"
      ]
     },
     "execution_count": 8,
     "metadata": {},
     "output_type": "execute_result"
    }
   ],
   "source": [
    "anon = DataAnonymization(\n",
    "    hds_folder='../../../../data/',\n",
    "    mask_ih_names=False,\n",
    "    mask_outcome_values=False,\n",
    "    mask_context_key_values=False,\n",
    "    mask_context_key_names=False,\n",
    ")\n",
    "anon.process()\n"
   ]
  },
  {
   "attachments": {},
   "cell_type": "markdown",
   "metadata": {},
   "source": [
    "The configs can also be written and read as such:"
   ]
  },
  {
   "cell_type": "code",
   "execution_count": 9,
   "metadata": {
    "execution": {
     "iopub.execute_input": "2023-07-06T11:23:20.401411Z",
     "iopub.status.busy": "2023-07-06T11:23:20.401049Z",
     "iopub.status.idle": "2023-07-06T11:23:20.403793Z",
     "shell.execute_reply": "2023-07-06T11:23:20.403368Z"
    }
   },
   "outputs": [],
   "source": [
    "anon.config.save_to_config_file('config.json')"
   ]
  },
  {
   "cell_type": "code",
   "execution_count": 10,
   "metadata": {
    "execution": {
     "iopub.execute_input": "2023-07-06T11:23:20.405960Z",
     "iopub.status.busy": "2023-07-06T11:23:20.405602Z",
     "iopub.status.idle": "2023-07-06T11:23:20.418201Z",
     "shell.execute_reply": "2023-07-06T11:23:20.417768Z"
    }
   },
   "outputs": [
    {
     "data": {
      "text/html": [
       "<div><style>\n",
       ".dataframe > thead > tr > th,\n",
       ".dataframe > tbody > tr > td {\n",
       "  text-align: right;\n",
       "}\n",
       "</style>\n",
       "<small>shape: (7, 7)</small><table border=\"1\" class=\"dataframe\"><thead><tr><th>filename</th><th>PREDICTOR_1</th><th>PREDICTOR_2</th><th>PREDICTOR_3</th><th>Context_Name</th><th>IH_Web_Inbound_Accepted_pxLastGroupID</th><th>Decision_Outcome</th></tr><tr><td>str</td><td>str</td><td>str</td><td>f64</td><td>str</td><td>str</td><td>str</td></tr></thead><tbody><tr><td>&quot;../../../../da…</td><td>&quot;12201179972037…</td><td>&quot;32776048454305…</td><td>1.2927e19</td><td>&quot;FirstMortgage3…</td><td>&quot;67466781592698…</td><td>&quot;Rejected&quot;</td></tr><tr><td>&quot;../../../../da…</td><td>&quot;10387954017491…</td><td>&quot;17542996113574…</td><td>1.4856e19</td><td>&quot;FirstMortgage3…</td><td>&quot;12516058878803…</td><td>&quot;Accepted&quot;</td></tr><tr><td>&quot;../../../../da…</td><td>&quot;68895133942764…</td><td>&quot;76254892061477…</td><td>5.6458e17</td><td>&quot;MoneyMarketSav…</td><td>&quot;67466781592698…</td><td>&quot;Rejected&quot;</td></tr><tr><td>&quot;../../../../da…</td><td>&quot;10387954017491…</td><td>&quot;15693247401202…</td><td>4.0723e18</td><td>&quot;BasicChecking&quot;</td><td>&quot;67466781592698…</td><td>&quot;Rejected&quot;</td></tr><tr><td>&quot;../../../../da…</td><td>&quot;12201179972037…</td><td>&quot;13297783642379…</td><td>1.4677e19</td><td>&quot;BasicChecking&quot;</td><td>&quot;10432716814319…</td><td>&quot;Accepted&quot;</td></tr><tr><td>&quot;../../../../da…</td><td>&quot;68895133942764…</td><td>&quot;16485367939758…</td><td>1.6330e19</td><td>&quot;UPlusFinPerson…</td><td>null</td><td>&quot;Rejected&quot;</td></tr><tr><td>&quot;../../../../da…</td><td>&quot;68895133942764…</td><td>&quot;62821819395448…</td><td>8.7675e18</td><td>&quot;BasicChecking&quot;</td><td>&quot;10432716814319…</td><td>&quot;Rejected&quot;</td></tr></tbody></table></div>"
      ],
      "text/plain": [
       "shape: (7, 7)\n",
       "┌───────────────┬──────────────┬──────────────┬─────────────┬────────────┬────────────┬────────────┐\n",
       "│ filename      ┆ PREDICTOR_1  ┆ PREDICTOR_2  ┆ PREDICTOR_3 ┆ Context_Na ┆ IH_Web_Inb ┆ Decision_O │\n",
       "│ ---           ┆ ---          ┆ ---          ┆ ---         ┆ me         ┆ ound_Accep ┆ utcome     │\n",
       "│ str           ┆ str          ┆ str          ┆ f64         ┆ ---        ┆ ted_pxLast ┆ ---        │\n",
       "│               ┆              ┆              ┆             ┆ str        ┆ Gr…        ┆ str        │\n",
       "│               ┆              ┆              ┆             ┆            ┆ ---        ┆            │\n",
       "│               ┆              ┆              ┆             ┆            ┆ str        ┆            │\n",
       "╞═══════════════╪══════════════╪══════════════╪═════════════╪════════════╪════════════╪════════════╡\n",
       "│ ../../../../d ┆ 122011799720 ┆ 327760484543 ┆ 1.2927e19   ┆ FirstMortg ┆ 6746678159 ┆ Rejected   │\n",
       "│ ata/SampleHDS ┆ 37351268     ┆ 0513559      ┆             ┆ age30yr    ┆ 269837513  ┆            │\n",
       "│ .json         ┆              ┆              ┆             ┆            ┆            ┆            │\n",
       "│ ../../../../d ┆ 103879540174 ┆ 175429961135 ┆ 1.4856e19   ┆ FirstMortg ┆ 1251605887 ┆ Accepted   │\n",
       "│ ata/SampleHDS ┆ 91582835     ┆ 7480627      ┆             ┆ age30yr    ┆ 8803959963 ┆            │\n",
       "│ .json         ┆              ┆              ┆             ┆            ┆            ┆            │\n",
       "│ ../../../../d ┆ 688951339427 ┆ 762548920614 ┆ 5.6458e17   ┆ MoneyMarke ┆ 6746678159 ┆ Rejected   │\n",
       "│ ata/SampleHDS ┆ 6461319      ┆ 7717609      ┆             ┆ tSavingsAc ┆ 269837513  ┆            │\n",
       "│ .json         ┆              ┆              ┆             ┆ count      ┆            ┆            │\n",
       "│ ../../../../d ┆ 103879540174 ┆ 156932474012 ┆ 4.0723e18   ┆ BasicCheck ┆ 6746678159 ┆ Rejected   │\n",
       "│ ata/SampleHDS ┆ 91582835     ┆ 02273005     ┆             ┆ ing        ┆ 269837513  ┆            │\n",
       "│ .json         ┆              ┆              ┆             ┆            ┆            ┆            │\n",
       "│ ../../../../d ┆ 122011799720 ┆ 132977836423 ┆ 1.4677e19   ┆ BasicCheck ┆ 1043271681 ┆ Accepted   │\n",
       "│ ata/SampleHDS ┆ 37351268     ┆ 79213989     ┆             ┆ ing        ┆ 4319302486 ┆            │\n",
       "│ .json         ┆              ┆              ┆             ┆            ┆            ┆            │\n",
       "│ ../../../../d ┆ 688951339427 ┆ 164853679397 ┆ 1.6330e19   ┆ UPlusFinPe ┆ null       ┆ Rejected   │\n",
       "│ ata/SampleHDS ┆ 6461319      ┆ 58745520     ┆             ┆ rsonal     ┆            ┆            │\n",
       "│ .json         ┆              ┆              ┆             ┆            ┆            ┆            │\n",
       "│ ../../../../d ┆ 688951339427 ┆ 628218193954 ┆ 8.7675e18   ┆ BasicCheck ┆ 1043271681 ┆ Rejected   │\n",
       "│ ata/SampleHDS ┆ 6461319      ┆ 4861295      ┆             ┆ ing        ┆ 4319302486 ┆            │\n",
       "│ .json         ┆              ┆              ┆             ┆            ┆            ┆            │\n",
       "└───────────────┴──────────────┴──────────────┴─────────────┴────────────┴────────────┴────────────┘"
      ]
     },
     "execution_count": 10,
     "metadata": {},
     "output_type": "execute_result"
    }
   ],
   "source": [
    "anon = DataAnonymization(config=Config(config_file='config.json'))\n",
    "anon.process()"
   ]
  },
  {
   "attachments": {},
   "cell_type": "markdown",
   "metadata": {},
   "source": [
    "## Exporting\n",
    "Two functions export:\n",
    "- `create_mapping_file()` writes the mapping file of the predictor names\n",
    "- `write_to_output()` writes the processed dataframe to disk\n",
    "\n",
    "Write to output accepts the following extensions: `[\"ndjson\", \"parquet\", \"arrow\", \"csv\"]`"
   ]
  },
  {
   "cell_type": "code",
   "execution_count": 11,
   "metadata": {
    "execution": {
     "iopub.execute_input": "2023-07-06T11:23:20.420551Z",
     "iopub.status.busy": "2023-07-06T11:23:20.420172Z",
     "iopub.status.idle": "2023-07-06T11:23:20.423621Z",
     "shell.execute_reply": "2023-07-06T11:23:20.423198Z"
    }
   },
   "outputs": [
    {
     "name": "stdout",
     "output_type": "stream",
     "text": [
      "filename=filename\n",
      "Customer_MaritalStatus=PREDICTOR_1\n",
      "Customer_City=PREDICTOR_2\n",
      "Customer_CLV=PREDICTOR_3\n",
      "Context_Name=Context_Name\n",
      "IH_Web_Inbound_Accepted_pxLastGroupID=IH_Web_Inbound_Accepted_pxLastGroupID\n",
      "Decision_Outcome=Decision_Outcome\n",
      "\n"
     ]
    }
   ],
   "source": [
    "anon.create_mapping_file()\n",
    "with open('mapping.map') as f:\n",
    "    print(f.read())"
   ]
  },
  {
   "cell_type": "code",
   "execution_count": 12,
   "metadata": {
    "execution": {
     "iopub.execute_input": "2023-07-06T11:23:20.425801Z",
     "iopub.status.busy": "2023-07-06T11:23:20.425448Z",
     "iopub.status.idle": "2023-07-06T11:23:20.428956Z",
     "shell.execute_reply": "2023-07-06T11:23:20.428525Z"
    }
   },
   "outputs": [],
   "source": [
    "anon.write_to_output(ext='arrow')"
   ]
  },
  {
   "cell_type": "code",
   "execution_count": 13,
   "metadata": {
    "execution": {
     "iopub.execute_input": "2023-07-06T11:23:20.431114Z",
     "iopub.status.busy": "2023-07-06T11:23:20.430762Z",
     "iopub.status.idle": "2023-07-06T11:23:20.435318Z",
     "shell.execute_reply": "2023-07-06T11:23:20.434894Z"
    }
   },
   "outputs": [
    {
     "data": {
      "text/html": [
       "<div><style>\n",
       ".dataframe > thead > tr > th,\n",
       ".dataframe > tbody > tr > td {\n",
       "  text-align: right;\n",
       "}\n",
       "</style>\n",
       "<small>shape: (7, 6)</small><table border=\"1\" class=\"dataframe\"><thead><tr><th>PREDICTOR_1</th><th>PREDICTOR_2</th><th>PREDICTOR_3</th><th>Context_Name</th><th>IH_Web_Inbound_Accepted_pxLastGroupID</th><th>Decision_Outcome</th></tr><tr><td>str</td><td>str</td><td>f64</td><td>str</td><td>str</td><td>str</td></tr></thead><tbody><tr><td>&quot;16736394067969…</td><td>&quot;18282423764750…</td><td>1.2927e19</td><td>&quot;FirstMortgage3…</td><td>&quot;18272059495901…</td><td>&quot;Rejected&quot;</td></tr><tr><td>&quot;13800566454611…</td><td>&quot;10699049831208…</td><td>1.4856e19</td><td>&quot;FirstMortgage3…</td><td>&quot;13014437798982…</td><td>&quot;Accepted&quot;</td></tr><tr><td>&quot;13766911688903…</td><td>&quot;41887238179429…</td><td>5.6458e17</td><td>&quot;MoneyMarketSav…</td><td>&quot;18272059495901…</td><td>&quot;Rejected&quot;</td></tr><tr><td>&quot;13800566454611…</td><td>&quot;12220168637682…</td><td>4.0723e18</td><td>&quot;BasicChecking&quot;</td><td>&quot;18272059495901…</td><td>&quot;Rejected&quot;</td></tr><tr><td>&quot;16736394067969…</td><td>&quot;15766058094250…</td><td>1.4677e19</td><td>&quot;BasicChecking&quot;</td><td>&quot;17990249299604…</td><td>&quot;Accepted&quot;</td></tr><tr><td>&quot;13766911688903…</td><td>&quot;11972766348848…</td><td>1.6330e19</td><td>&quot;UPlusFinPerson…</td><td>null</td><td>&quot;Rejected&quot;</td></tr><tr><td>&quot;13766911688903…</td><td>&quot;69056436566025…</td><td>8.7675e18</td><td>&quot;BasicChecking&quot;</td><td>&quot;17990249299604…</td><td>&quot;Rejected&quot;</td></tr></tbody></table></div>"
      ],
      "text/plain": [
       "shape: (7, 6)\n",
       "┌────────────────┬────────────────┬─────────────┬────────────────┬────────────────┬────────────────┐\n",
       "│ PREDICTOR_1    ┆ PREDICTOR_2    ┆ PREDICTOR_3 ┆ Context_Name   ┆ IH_Web_Inbound ┆ Decision_Outco │\n",
       "│ ---            ┆ ---            ┆ ---         ┆ ---            ┆ _Accepted_pxLa ┆ me             │\n",
       "│ str            ┆ str            ┆ f64         ┆ str            ┆ stGr…          ┆ ---            │\n",
       "│                ┆                ┆             ┆                ┆ ---            ┆ str            │\n",
       "│                ┆                ┆             ┆                ┆ str            ┆                │\n",
       "╞════════════════╪════════════════╪═════════════╪════════════════╪════════════════╪════════════════╡\n",
       "│ 16736394067969 ┆ 18282423764750 ┆ 1.2927e19   ┆ FirstMortgage3 ┆ 18272059495901 ┆ Rejected       │\n",
       "│ 59702          ┆ 11022          ┆             ┆ 0yr            ┆ 221833         ┆                │\n",
       "│ 13800566454611 ┆ 10699049831208 ┆ 1.4856e19   ┆ FirstMortgage3 ┆ 13014437798982 ┆ Accepted       │\n",
       "│ 84434          ┆ 715015         ┆             ┆ 0yr            ┆ 697191         ┆                │\n",
       "│ 13766911688903 ┆ 41887238179429 ┆ 5.6458e17   ┆ MoneyMarketSav ┆ 18272059495901 ┆ Rejected       │\n",
       "│ 368278         ┆ 63848          ┆             ┆ ingsAccount    ┆ 221833         ┆                │\n",
       "│ 13800566454611 ┆ 12220168637682 ┆ 4.0723e18   ┆ BasicChecking  ┆ 18272059495901 ┆ Rejected       │\n",
       "│ 84434          ┆ 150572         ┆             ┆                ┆ 221833         ┆                │\n",
       "│ 16736394067969 ┆ 15766058094250 ┆ 1.4677e19   ┆ BasicChecking  ┆ 17990249299604 ┆ Accepted       │\n",
       "│ 59702          ┆ 881025         ┆             ┆                ┆ 874745         ┆                │\n",
       "│ 13766911688903 ┆ 11972766348848 ┆ 1.6330e19   ┆ UPlusFinPerson ┆ null           ┆ Rejected       │\n",
       "│ 368278         ┆ 874965         ┆             ┆ al             ┆                ┆                │\n",
       "│ 13766911688903 ┆ 69056436566025 ┆ 8.7675e18   ┆ BasicChecking  ┆ 17990249299604 ┆ Rejected       │\n",
       "│ 368278         ┆ 54849          ┆             ┆                ┆ 874745         ┆                │\n",
       "└────────────────┴────────────────┴─────────────┴────────────────┴────────────────┴────────────────┘"
      ]
     },
     "execution_count": 13,
     "metadata": {},
     "output_type": "execute_result"
    }
   ],
   "source": [
    "pl.read_ipc('output/hds.arrow')"
   ]
  },
  {
   "attachments": {},
   "cell_type": "markdown",
   "metadata": {},
   "source": [
    "## Advanced: Hash fuctions\n",
    "\n",
    "By default, we use [the same hashing algorithm Polars](https://pola-rs.github.io/polars/py-polars/html/reference/expressions/api/polars.Expr.hash.html#polars.Expr.hash) uses: [xxhash](https://github.com/Cyan4973/xxHash), as implemented [here](https://github.com/pola-rs/polars/blob/3f287f370b3c388ed2f3f218b2c096382548136f/polars/polars-core/src/vector_hasher.rs#L266). xxhash is fast to compute, and you can check its performance in collision, dispersion and randomness [here](https://github.com/Cyan4973/xxHash/tree/dev/tests). \n",
    "\n",
    "xxhash accepts four distinct seeds, but by default we set the seeds to `0`. It is possible to set the `seed` argument of the `process()` function to `'random'`, which will set all four seeds to a random integer between `0` and `1000000000`. Alternatively, it is possible to supply the four seeds manually with arguments `seed`, `seed_1`, `seed_2` and `seed_3`. \n",
    "\n",
    "If the xxhash with (random) seed(s) is not deemed sufficiently secure, it is possible to use your own hashing algorithm.\n",
    "\n",
    "Note that since we're now running python code and not native Polars code anymore, this will be _significantly_ slower. Nonetheless, it is possible.\n",
    "\n",
    "Just as an example - this is how one would use sha3_256:"
   ]
  },
  {
   "cell_type": "code",
   "execution_count": 14,
   "metadata": {
    "execution": {
     "iopub.execute_input": "2023-07-06T11:23:20.437506Z",
     "iopub.status.busy": "2023-07-06T11:23:20.437159Z",
     "iopub.status.idle": "2023-07-06T11:23:20.782443Z",
     "shell.execute_reply": "2023-07-06T11:23:20.781746Z"
    }
   },
   "outputs": [
    {
     "ename": "ComputeError",
     "evalue": "AttributeError: 'int' object has no attribute 'encode'",
     "output_type": "error",
     "traceback": [
      "\u001b[0;31m---------------------------------------------------------------------------\u001b[0m",
      "\u001b[0;31mComputeError\u001b[0m                              Traceback (most recent call last)",
      "Cell \u001b[0;32mIn[14], line 3\u001b[0m\n\u001b[1;32m      1\u001b[0m \u001b[38;5;28;01mfrom\u001b[39;00m \u001b[38;5;21;01mhashlib\u001b[39;00m \u001b[38;5;28;01mimport\u001b[39;00m sha3_256\n\u001b[0;32m----> 3\u001b[0m \u001b[43manon\u001b[49m\u001b[38;5;241;43m.\u001b[39;49m\u001b[43mprocess\u001b[49m\u001b[43m(\u001b[49m\u001b[43malgorithm\u001b[49m\u001b[38;5;241;43m=\u001b[39;49m\u001b[38;5;28;43;01mlambda\u001b[39;49;00m\u001b[43m \u001b[49m\u001b[43mx\u001b[49m\u001b[43m:\u001b[49m\u001b[43m \u001b[49m\u001b[43msha3_256\u001b[49m\u001b[43m(\u001b[49m\u001b[43mx\u001b[49m\u001b[38;5;241;43m.\u001b[39;49m\u001b[43mencode\u001b[49m\u001b[43m(\u001b[49m\u001b[43m)\u001b[49m\u001b[43m)\u001b[49m\u001b[38;5;241;43m.\u001b[39;49m\u001b[43mhexdigest\u001b[49m\u001b[43m(\u001b[49m\u001b[43m)\u001b[49m\u001b[43m)\u001b[49m\n",
      "File \u001b[0;32m~/work/pega-datascientist-tools/pega-datascientist-tools/python/docs/source/articles/../../../pdstools/utils/hds_utils.py:516\u001b[0m, in \u001b[0;36mDataAnonymization.process\u001b[0;34m(self, strategy, **kwargs)\u001b[0m\n\u001b[1;32m    514\u001b[0m df \u001b[38;5;241m=\u001b[39m df\u001b[38;5;241m.\u001b[39mselect(\u001b[38;5;28mself\u001b[39m\u001b[38;5;241m.\u001b[39mcolumn_mapping\u001b[38;5;241m.\u001b[39mkeys())\u001b[38;5;241m.\u001b[39mrename(\u001b[38;5;28mself\u001b[39m\u001b[38;5;241m.\u001b[39mcolumn_mapping)\n\u001b[1;32m    515\u001b[0m \u001b[38;5;28;01mif\u001b[39;00m strategy \u001b[38;5;241m==\u001b[39m \u001b[38;5;124m\"\u001b[39m\u001b[38;5;124meager\u001b[39m\u001b[38;5;124m\"\u001b[39m:\n\u001b[0;32m--> 516\u001b[0m     \u001b[38;5;28;01mreturn\u001b[39;00m \u001b[43mdf\u001b[49m\u001b[38;5;241;43m.\u001b[39;49m\u001b[43mcollect\u001b[49m\u001b[43m(\u001b[49m\u001b[43m)\u001b[49m\n\u001b[1;32m    517\u001b[0m \u001b[38;5;28;01mreturn\u001b[39;00m df\n",
      "File \u001b[0;32m/opt/hostedtoolcache/Python/3.11.4/x64/lib/python3.11/site-packages/polars/lazyframe/frame.py:1508\u001b[0m, in \u001b[0;36mLazyFrame.collect\u001b[0;34m(self, type_coercion, predicate_pushdown, projection_pushdown, simplify_expression, no_optimization, slice_pushdown, common_subplan_elimination, streaming)\u001b[0m\n\u001b[1;32m   1497\u001b[0m     common_subplan_elimination \u001b[38;5;241m=\u001b[39m \u001b[38;5;28;01mFalse\u001b[39;00m\n\u001b[1;32m   1499\u001b[0m ldf \u001b[38;5;241m=\u001b[39m \u001b[38;5;28mself\u001b[39m\u001b[38;5;241m.\u001b[39m_ldf\u001b[38;5;241m.\u001b[39moptimization_toggle(\n\u001b[1;32m   1500\u001b[0m     type_coercion,\n\u001b[1;32m   1501\u001b[0m     predicate_pushdown,\n\u001b[0;32m   (...)\u001b[0m\n\u001b[1;32m   1506\u001b[0m     streaming,\n\u001b[1;32m   1507\u001b[0m )\n\u001b[0;32m-> 1508\u001b[0m \u001b[38;5;28;01mreturn\u001b[39;00m wrap_df(ldf\u001b[38;5;241m.\u001b[39mcollect())\n",
      "\u001b[0;31mComputeError\u001b[0m: AttributeError: 'int' object has no attribute 'encode'"
     ]
    }
   ],
   "source": [
    "from hashlib import sha3_256\n",
    "\n",
    "anon.process(algorithm=lambda x: sha3_256(x.encode()).hexdigest())"
   ]
  }
 ],
 "metadata": {
  "kernelspec": {
   "display_name": "Python 3",
   "language": "python",
   "name": "python3"
  },
  "language_info": {
   "codemirror_mode": {
    "name": "ipython",
    "version": 3
   },
   "file_extension": ".py",
   "mimetype": "text/x-python",
   "name": "python",
   "nbconvert_exporter": "python",
   "pygments_lexer": "ipython3",
   "version": "3.11.4"
  },
  "vscode": {
   "interpreter": {
    "hash": "aee8b7b246df8f9039afb4144a1f6fd8d2ca17a180786b69acc140d282b71a49"
   }
  }
 },
 "nbformat": 4,
 "nbformat_minor": 2
}
