{
 "cells": [
  {
   "attachments": {},
   "cell_type": "markdown",
   "metadata": {},
   "source": [
    "# Data Anonymization\n",
    "\n",
    "In Pega CDH 8.5 and up, it's now possible to record the historical data as seen by the Adaptive Models. See [this academy challenge](https://academy.pega.com/challenge/exporting-historical-data/v4) for reference. This historical data can be further used to experiment with offline models, but also to fine-tune the OOTB Gradient Boosting model. However, sharing this information with Pega can be sensitive as it contains raw predictor data. \n",
    "\n",
    "To this end, we provide a simple and transparent script to fully anonimize this dataset.\n",
    "\n",
    "The DataAnonymization script is now part of pdstools, and you can import it directly as such."
   ]
  },
  {
   "cell_type": "code",
   "execution_count": 1,
   "metadata": {
    "execution": {
     "iopub.execute_input": "2024-06-21T21:18:36.205915Z",
     "iopub.status.busy": "2024-06-21T21:18:36.205748Z",
     "iopub.status.idle": "2024-06-21T21:18:36.277069Z",
     "shell.execute_reply": "2024-06-21T21:18:36.276579Z"
    },
    "nbsphinx": "hidden"
   },
   "outputs": [],
   "source": [
    "# These lines are only for rendering in the docs, and are hidden through Jupyter tags\n",
    "# Do not run if you're running the notebook seperately\n",
    "\n",
    "import os  \n",
    "import sys\n",
    "import plotly.io as pio\n",
    "pio.renderers.default = \"notebook_connected\"\n",
    "\n",
    "sys.path.append(\"../../../\")\n",
    "sys.path.append('../../python')"
   ]
  },
  {
   "cell_type": "code",
   "execution_count": 2,
   "metadata": {
    "execution": {
     "iopub.execute_input": "2024-06-21T21:18:36.278986Z",
     "iopub.status.busy": "2024-06-21T21:18:36.278815Z",
     "iopub.status.idle": "2024-06-21T21:18:37.347861Z",
     "shell.execute_reply": "2024-06-21T21:18:37.347349Z"
    }
   },
   "outputs": [],
   "source": [
    "from pdstools import ADMDatamart\n",
    "from pdstools import Config, DataAnonymization\n",
    "import polars as pl"
   ]
  },
  {
   "attachments": {},
   "cell_type": "markdown",
   "metadata": {},
   "source": [
    "## Input data\n",
    "\n",
    "To demonstrate this process, we're going to anonymise this toy example dataframe:"
   ]
  },
  {
   "cell_type": "code",
   "execution_count": 3,
   "metadata": {
    "execution": {
     "iopub.execute_input": "2024-06-21T21:18:37.350532Z",
     "iopub.status.busy": "2024-06-21T21:18:37.349951Z",
     "iopub.status.idle": "2024-06-21T21:18:37.358279Z",
     "shell.execute_reply": "2024-06-21T21:18:37.357781Z"
    }
   },
   "outputs": [
    {
     "data": {
      "text/html": [
       "<div><style>\n",
       ".dataframe > thead > tr,\n",
       ".dataframe > tbody > tr {\n",
       "  text-align: right;\n",
       "  white-space: pre-wrap;\n",
       "}\n",
       "</style>\n",
       "<small>shape: (7, 6)</small><table border=\"1\" class=\"dataframe\"><thead><tr><th>Context_Name</th><th>Customer_MaritalStatus</th><th>Customer_CLV</th><th>Customer_City</th><th>IH_Web_Inbound_Accepted_pxLastGroupID</th><th>Decision_Outcome</th></tr><tr><td>str</td><td>str</td><td>i64</td><td>str</td><td>str</td><td>str</td></tr></thead><tbody><tr><td>&quot;FirstMortgage30yr&quot;</td><td>&quot;Married&quot;</td><td>1460</td><td>&quot;Port Raoul&quot;</td><td>&quot;Account&quot;</td><td>&quot;Rejected&quot;</td></tr><tr><td>&quot;FirstMortgage30yr&quot;</td><td>&quot;Unknown&quot;</td><td>669</td><td>&quot;Laurianneshire&quot;</td><td>&quot;AutoLoans&quot;</td><td>&quot;Accepted&quot;</td></tr><tr><td>&quot;MoneyMarketSavingsAccount&quot;</td><td>&quot;No Resp+&quot;</td><td>1174</td><td>&quot;Jacobshaven&quot;</td><td>&quot;Account&quot;</td><td>&quot;Rejected&quot;</td></tr><tr><td>&quot;BasicChecking&quot;</td><td>&quot;Unknown&quot;</td><td>1476</td><td>&quot;Lindton&quot;</td><td>&quot;Account&quot;</td><td>&quot;Rejected&quot;</td></tr><tr><td>&quot;BasicChecking&quot;</td><td>&quot;Married&quot;</td><td>1211</td><td>&quot;South Jimmieshire&quot;</td><td>&quot;DepositAccounts&quot;</td><td>&quot;Accepted&quot;</td></tr><tr><td>&quot;UPlusFinPersonal&quot;</td><td>&quot;No Resp+&quot;</td><td>533</td><td>&quot;Bergeville&quot;</td><td>null</td><td>&quot;Rejected&quot;</td></tr><tr><td>&quot;BasicChecking&quot;</td><td>&quot;No Resp+&quot;</td><td>555</td><td>&quot;Willyville&quot;</td><td>&quot;DepositAccounts&quot;</td><td>&quot;Rejected&quot;</td></tr></tbody></table></div>"
      ],
      "text/plain": [
       "shape: (7, 6)\n",
       "┌────────────────┬────────────────┬──────────────┬────────────────┬────────────────┬───────────────┐\n",
       "│ Context_Name   ┆ Customer_Marit ┆ Customer_CLV ┆ Customer_City  ┆ IH_Web_Inbound ┆ Decision_Outc │\n",
       "│ ---            ┆ alStatus       ┆ ---          ┆ ---            ┆ _Accepted_pxLa ┆ ome           │\n",
       "│ str            ┆ ---            ┆ i64          ┆ str            ┆ st…            ┆ ---           │\n",
       "│                ┆ str            ┆              ┆                ┆ ---            ┆ str           │\n",
       "│                ┆                ┆              ┆                ┆ str            ┆               │\n",
       "╞════════════════╪════════════════╪══════════════╪════════════════╪════════════════╪═══════════════╡\n",
       "│ FirstMortgage3 ┆ Married        ┆ 1460         ┆ Port Raoul     ┆ Account        ┆ Rejected      │\n",
       "│ 0yr            ┆                ┆              ┆                ┆                ┆               │\n",
       "│ FirstMortgage3 ┆ Unknown        ┆ 669          ┆ Laurianneshire ┆ AutoLoans      ┆ Accepted      │\n",
       "│ 0yr            ┆                ┆              ┆                ┆                ┆               │\n",
       "│ MoneyMarketSav ┆ No Resp+       ┆ 1174         ┆ Jacobshaven    ┆ Account        ┆ Rejected      │\n",
       "│ ingsAccount    ┆                ┆              ┆                ┆                ┆               │\n",
       "│ BasicChecking  ┆ Unknown        ┆ 1476         ┆ Lindton        ┆ Account        ┆ Rejected      │\n",
       "│ BasicChecking  ┆ Married        ┆ 1211         ┆ South          ┆ DepositAccount ┆ Accepted      │\n",
       "│                ┆                ┆              ┆ Jimmieshire    ┆ s              ┆               │\n",
       "│ UPlusFinPerson ┆ No Resp+       ┆ 533          ┆ Bergeville     ┆ null           ┆ Rejected      │\n",
       "│ al             ┆                ┆              ┆                ┆                ┆               │\n",
       "│ BasicChecking  ┆ No Resp+       ┆ 555          ┆ Willyville     ┆ DepositAccount ┆ Rejected      │\n",
       "│                ┆                ┆              ┆                ┆ s              ┆               │\n",
       "└────────────────┴────────────────┴──────────────┴────────────────┴────────────────┴───────────────┘"
      ]
     },
     "execution_count": 3,
     "metadata": {},
     "output_type": "execute_result"
    }
   ],
   "source": [
    "pl.read_ndjson('../../../../data/SampleHDS.json')"
   ]
  },
  {
   "attachments": {},
   "cell_type": "markdown",
   "metadata": {},
   "source": [
    "As you can see, this dataset consists of regular predictors, IH predictors, context keys and the outcome column. Additionally, some columns are numeric, others are strings. Let's first initialize the DataAnonymization class."
   ]
  },
  {
   "cell_type": "code",
   "execution_count": 4,
   "metadata": {
    "execution": {
     "iopub.execute_input": "2024-06-21T21:18:37.360536Z",
     "iopub.status.busy": "2024-06-21T21:18:37.360184Z",
     "iopub.status.idle": "2024-06-21T21:18:37.370175Z",
     "shell.execute_reply": "2024-06-21T21:18:37.369640Z"
    }
   },
   "outputs": [],
   "source": [
    "anon = DataAnonymization(hds_folder='../../../../data/')"
   ]
  },
  {
   "attachments": {},
   "cell_type": "markdown",
   "metadata": {},
   "source": [
    "By default, the class applies a set of anonymisation techniques:\n",
    "- Column names are remapped to a non-descriptive name\n",
    "- Categorical values are hashed with a random seed\n",
    "- Numerical values are normalized between 0 and 1\n",
    "- Outcomes are mapped to a binary outcome.\n",
    "\n",
    "To apply these techniques, simply call `.process()`:"
   ]
  },
  {
   "cell_type": "code",
   "execution_count": 5,
   "metadata": {
    "execution": {
     "iopub.execute_input": "2024-06-21T21:18:37.372412Z",
     "iopub.status.busy": "2024-06-21T21:18:37.371990Z",
     "iopub.status.idle": "2024-06-21T21:18:37.377142Z",
     "shell.execute_reply": "2024-06-21T21:18:37.376579Z"
    }
   },
   "outputs": [
    {
     "data": {
      "text/html": [
       "<div><style>\n",
       ".dataframe > thead > tr,\n",
       ".dataframe > tbody > tr {\n",
       "  text-align: right;\n",
       "  white-space: pre-wrap;\n",
       "}\n",
       "</style>\n",
       "<small>shape: (7, 7)</small><table border=\"1\" class=\"dataframe\"><thead><tr><th>PREDICTOR_0</th><th>PREDICTOR_1</th><th>PREDICTOR_2</th><th>filename</th><th>Context_Name</th><th>IH_PREDICTOR_0</th><th>Decision_Outcome</th></tr><tr><td>str</td><td>f64</td><td>str</td><td>str</td><td>str</td><td>str</td><td>bool</td></tr></thead><tbody><tr><td>&quot;795470542650947764&quot;</td><td>6.5252e18</td><td>&quot;16059694790928032659&quot;</td><td>&quot;../../../../data/SampleHDS.jso…</td><td>&quot;14152965782273010791&quot;</td><td>&quot;17657698819028080637&quot;</td><td>false</td></tr><tr><td>&quot;7747942690140083009&quot;</td><td>1.2602e18</td><td>&quot;5678168896995548438&quot;</td><td>&quot;../../../../data/SampleHDS.jso…</td><td>&quot;14152965782273010791&quot;</td><td>&quot;9418057028760544756&quot;</td><td>true</td></tr><tr><td>&quot;13909698919238809691&quot;</td><td>1.3990e19</td><td>&quot;4490851485659337937&quot;</td><td>&quot;../../../../data/SampleHDS.jso…</td><td>&quot;14729588571204805445&quot;</td><td>&quot;17657698819028080637&quot;</td><td>false</td></tr><tr><td>&quot;18022688109823518762&quot;</td><td>3.6987e18</td><td>&quot;5678168896995548438&quot;</td><td>&quot;../../../../data/SampleHDS.jso…</td><td>&quot;8439336320454046961&quot;</td><td>&quot;17657698819028080637&quot;</td><td>false</td></tr><tr><td>&quot;4708720033607670321&quot;</td><td>1.5620e19</td><td>&quot;16059694790928032659&quot;</td><td>&quot;../../../../data/SampleHDS.jso…</td><td>&quot;8439336320454046961&quot;</td><td>&quot;1249143407491477972&quot;</td><td>true</td></tr><tr><td>&quot;4210289601518336501&quot;</td><td>8.3466e18</td><td>&quot;4490851485659337937&quot;</td><td>&quot;../../../../data/SampleHDS.jso…</td><td>&quot;18434988546458978529&quot;</td><td>null</td><td>false</td></tr><tr><td>&quot;15604252109584585756&quot;</td><td>2.1037e18</td><td>&quot;4490851485659337937&quot;</td><td>&quot;../../../../data/SampleHDS.jso…</td><td>&quot;8439336320454046961&quot;</td><td>&quot;1249143407491477972&quot;</td><td>false</td></tr></tbody></table></div>"
      ],
      "text/plain": [
       "shape: (7, 7)\n",
       "┌──────────────┬─────────────┬─────────────┬─────────────┬─────────────┬─────────────┬─────────────┐\n",
       "│ PREDICTOR_0  ┆ PREDICTOR_1 ┆ PREDICTOR_2 ┆ filename    ┆ Context_Nam ┆ IH_PREDICTO ┆ Decision_Ou │\n",
       "│ ---          ┆ ---         ┆ ---         ┆ ---         ┆ e           ┆ R_0         ┆ tcome       │\n",
       "│ str          ┆ f64         ┆ str         ┆ str         ┆ ---         ┆ ---         ┆ ---         │\n",
       "│              ┆             ┆             ┆             ┆ str         ┆ str         ┆ bool        │\n",
       "╞══════════════╪═════════════╪═════════════╪═════════════╪═════════════╪═════════════╪═════════════╡\n",
       "│ 795470542650 ┆ 6.5252e18   ┆ 16059694790 ┆ ../../../.. ┆ 14152965782 ┆ 17657698819 ┆ false       │\n",
       "│ 947764       ┆             ┆ 928032659   ┆ /data/Sampl ┆ 273010791   ┆ 028080637   ┆             │\n",
       "│              ┆             ┆             ┆ eHDS.jso…   ┆             ┆             ┆             │\n",
       "│ 774794269014 ┆ 1.2602e18   ┆ 56781688969 ┆ ../../../.. ┆ 14152965782 ┆ 94180570287 ┆ true        │\n",
       "│ 0083009      ┆             ┆ 95548438    ┆ /data/Sampl ┆ 273010791   ┆ 60544756    ┆             │\n",
       "│              ┆             ┆             ┆ eHDS.jso…   ┆             ┆             ┆             │\n",
       "│ 139096989192 ┆ 1.3990e19   ┆ 44908514856 ┆ ../../../.. ┆ 14729588571 ┆ 17657698819 ┆ false       │\n",
       "│ 38809691     ┆             ┆ 59337937    ┆ /data/Sampl ┆ 204805445   ┆ 028080637   ┆             │\n",
       "│              ┆             ┆             ┆ eHDS.jso…   ┆             ┆             ┆             │\n",
       "│ 180226881098 ┆ 3.6987e18   ┆ 56781688969 ┆ ../../../.. ┆ 84393363204 ┆ 17657698819 ┆ false       │\n",
       "│ 23518762     ┆             ┆ 95548438    ┆ /data/Sampl ┆ 54046961    ┆ 028080637   ┆             │\n",
       "│              ┆             ┆             ┆ eHDS.jso…   ┆             ┆             ┆             │\n",
       "│ 470872003360 ┆ 1.5620e19   ┆ 16059694790 ┆ ../../../.. ┆ 84393363204 ┆ 12491434074 ┆ true        │\n",
       "│ 7670321      ┆             ┆ 928032659   ┆ /data/Sampl ┆ 54046961    ┆ 91477972    ┆             │\n",
       "│              ┆             ┆             ┆ eHDS.jso…   ┆             ┆             ┆             │\n",
       "│ 421028960151 ┆ 8.3466e18   ┆ 44908514856 ┆ ../../../.. ┆ 18434988546 ┆ null        ┆ false       │\n",
       "│ 8336501      ┆             ┆ 59337937    ┆ /data/Sampl ┆ 458978529   ┆             ┆             │\n",
       "│              ┆             ┆             ┆ eHDS.jso…   ┆             ┆             ┆             │\n",
       "│ 156042521095 ┆ 2.1037e18   ┆ 44908514856 ┆ ../../../.. ┆ 84393363204 ┆ 12491434074 ┆ false       │\n",
       "│ 84585756     ┆             ┆ 59337937    ┆ /data/Sampl ┆ 54046961    ┆ 91477972    ┆             │\n",
       "│              ┆             ┆             ┆ eHDS.jso…   ┆             ┆             ┆             │\n",
       "└──────────────┴─────────────┴─────────────┴─────────────┴─────────────┴─────────────┴─────────────┘"
      ]
     },
     "execution_count": 5,
     "metadata": {},
     "output_type": "execute_result"
    }
   ],
   "source": [
    "anon.process()"
   ]
  },
  {
   "attachments": {},
   "cell_type": "markdown",
   "metadata": {},
   "source": [
    "To trace back the columns to their original names, the class also contains a mapping, which does not have to be provided."
   ]
  },
  {
   "cell_type": "code",
   "execution_count": 6,
   "metadata": {
    "execution": {
     "iopub.execute_input": "2024-06-21T21:18:37.379222Z",
     "iopub.status.busy": "2024-06-21T21:18:37.378908Z",
     "iopub.status.idle": "2024-06-21T21:18:37.382467Z",
     "shell.execute_reply": "2024-06-21T21:18:37.381945Z"
    }
   },
   "outputs": [
    {
     "data": {
      "text/plain": [
       "{'Customer_City': 'PREDICTOR_0',\n",
       " 'Customer_CLV': 'PREDICTOR_1',\n",
       " 'Customer_MaritalStatus': 'PREDICTOR_2',\n",
       " 'filename': 'filename',\n",
       " 'Context_Name': 'Context_Name',\n",
       " 'IH_Web_Inbound_Accepted_pxLastGroupID': 'IH_PREDICTOR_0',\n",
       " 'Decision_Outcome': 'Decision_Outcome'}"
      ]
     },
     "execution_count": 6,
     "metadata": {},
     "output_type": "execute_result"
    }
   ],
   "source": [
    "anon.column_mapping"
   ]
  },
  {
   "attachments": {},
   "cell_type": "markdown",
   "metadata": {},
   "source": [
    "## Configs\n",
    "\n",
    "Each capability can optionally be turned off - see below for the full list of config options, and refer to the API reference for the full description."
   ]
  },
  {
   "cell_type": "code",
   "execution_count": 7,
   "metadata": {
    "execution": {
     "iopub.execute_input": "2024-06-21T21:18:37.384399Z",
     "iopub.status.busy": "2024-06-21T21:18:37.384107Z",
     "iopub.status.idle": "2024-06-21T21:18:37.388180Z",
     "shell.execute_reply": "2024-06-21T21:18:37.387649Z"
    }
   },
   "outputs": [
    {
     "data": {
      "text/plain": [
       "{'config_file': None,\n",
       " 'hds_folder': '.',\n",
       " 'use_datamart': False,\n",
       " 'datamart_folder': 'datamart',\n",
       " 'output_format': 'ndjson',\n",
       " 'output_folder': 'output',\n",
       " 'mapping_file': 'mapping.map',\n",
       " 'mask_predictor_names': True,\n",
       " 'mask_context_key_names': False,\n",
       " 'mask_ih_names': True,\n",
       " 'mask_outcome_name': False,\n",
       " 'mask_predictor_values': True,\n",
       " 'mask_context_key_values': True,\n",
       " 'mask_ih_values': True,\n",
       " 'mask_outcome_values': True,\n",
       " 'context_key_label': 'Context_*',\n",
       " 'ih_label': 'IH_*',\n",
       " 'outcome_column': 'Decision_Outcome',\n",
       " 'positive_outcomes': ['Accepted', 'Clicked'],\n",
       " 'negative_outcomes': ['Rejected', 'Impression'],\n",
       " 'special_predictors': ['Decision_DecisionTime',\n",
       "  'Decision_OutcomeTime',\n",
       "  'Decision_Rank'],\n",
       " 'sample_percentage_schema_inferencing': 0.01}"
      ]
     },
     "execution_count": 7,
     "metadata": {},
     "output_type": "execute_result"
    }
   ],
   "source": [
    "dict(zip(Config.__init__.__code__.co_varnames[1:], Config.__init__.__defaults__))"
   ]
  },
  {
   "attachments": {},
   "cell_type": "markdown",
   "metadata": {},
   "source": [
    "It's easy to change these parameters by just passing the keyword arguments. In the following example, we\n",
    "- Keep the IH predictor names\n",
    "- Keep the outcome values\n",
    "- Keep the context key values\n",
    "- Keep the context key predictor names"
   ]
  },
  {
   "cell_type": "code",
   "execution_count": 8,
   "metadata": {
    "execution": {
     "iopub.execute_input": "2024-06-21T21:18:37.390139Z",
     "iopub.status.busy": "2024-06-21T21:18:37.389872Z",
     "iopub.status.idle": "2024-06-21T21:18:37.397330Z",
     "shell.execute_reply": "2024-06-21T21:18:37.396776Z"
    }
   },
   "outputs": [
    {
     "data": {
      "text/html": [
       "<div><style>\n",
       ".dataframe > thead > tr,\n",
       ".dataframe > tbody > tr {\n",
       "  text-align: right;\n",
       "  white-space: pre-wrap;\n",
       "}\n",
       "</style>\n",
       "<small>shape: (7, 7)</small><table border=\"1\" class=\"dataframe\"><thead><tr><th>PREDICTOR_0</th><th>PREDICTOR_1</th><th>PREDICTOR_2</th><th>filename</th><th>Context_Name</th><th>IH_Web_Inbound_Accepted_pxLastGroupID</th><th>Decision_Outcome</th></tr><tr><td>str</td><td>f64</td><td>str</td><td>str</td><td>str</td><td>str</td><td>str</td></tr></thead><tbody><tr><td>&quot;2742402609161262927&quot;</td><td>3.4430e18</td><td>&quot;9291639150031189430&quot;</td><td>&quot;../../../../data/SampleHDS.jso…</td><td>&quot;FirstMortgage30yr&quot;</td><td>&quot;419096811171409744&quot;</td><td>&quot;Rejected&quot;</td></tr><tr><td>&quot;12223096994811160508&quot;</td><td>4.2669e18</td><td>&quot;13738449543083054085&quot;</td><td>&quot;../../../../data/SampleHDS.jso…</td><td>&quot;FirstMortgage30yr&quot;</td><td>&quot;6023664356922739631&quot;</td><td>&quot;Accepted&quot;</td></tr><tr><td>&quot;13381497734241155053&quot;</td><td>1.6401e19</td><td>&quot;6778766994719090455&quot;</td><td>&quot;../../../../data/SampleHDS.jso…</td><td>&quot;MoneyMarketSavingsAccount&quot;</td><td>&quot;419096811171409744&quot;</td><td>&quot;Rejected&quot;</td></tr><tr><td>&quot;2646088907403870476&quot;</td><td>6.5243e18</td><td>&quot;13738449543083054085&quot;</td><td>&quot;../../../../data/SampleHDS.jso…</td><td>&quot;BasicChecking&quot;</td><td>&quot;419096811171409744&quot;</td><td>&quot;Rejected&quot;</td></tr><tr><td>&quot;1559000332094691741&quot;</td><td>1.0095e18</td><td>&quot;9291639150031189430&quot;</td><td>&quot;../../../../data/SampleHDS.jso…</td><td>&quot;BasicChecking&quot;</td><td>&quot;6010183960746362401&quot;</td><td>&quot;Accepted&quot;</td></tr><tr><td>&quot;11694959838813486563&quot;</td><td>3.5195e18</td><td>&quot;6778766994719090455&quot;</td><td>&quot;../../../../data/SampleHDS.jso…</td><td>&quot;UPlusFinPersonal&quot;</td><td>null</td><td>&quot;Rejected&quot;</td></tr><tr><td>&quot;14498360098373855464&quot;</td><td>6.9678e18</td><td>&quot;6778766994719090455&quot;</td><td>&quot;../../../../data/SampleHDS.jso…</td><td>&quot;BasicChecking&quot;</td><td>&quot;6010183960746362401&quot;</td><td>&quot;Rejected&quot;</td></tr></tbody></table></div>"
      ],
      "text/plain": [
       "shape: (7, 7)\n",
       "┌──────────────┬─────────────┬─────────────┬─────────────┬─────────────┬─────────────┬─────────────┐\n",
       "│ PREDICTOR_0  ┆ PREDICTOR_1 ┆ PREDICTOR_2 ┆ filename    ┆ Context_Nam ┆ IH_Web_Inbo ┆ Decision_Ou │\n",
       "│ ---          ┆ ---         ┆ ---         ┆ ---         ┆ e           ┆ und_Accepte ┆ tcome       │\n",
       "│ str          ┆ f64         ┆ str         ┆ str         ┆ ---         ┆ d_pxLast…   ┆ ---         │\n",
       "│              ┆             ┆             ┆             ┆ str         ┆ ---         ┆ str         │\n",
       "│              ┆             ┆             ┆             ┆             ┆ str         ┆             │\n",
       "╞══════════════╪═════════════╪═════════════╪═════════════╪═════════════╪═════════════╪═════════════╡\n",
       "│ 274240260916 ┆ 3.4430e18   ┆ 92916391500 ┆ ../../../.. ┆ FirstMortga ┆ 41909681117 ┆ Rejected    │\n",
       "│ 1262927      ┆             ┆ 31189430    ┆ /data/Sampl ┆ ge30yr      ┆ 1409744     ┆             │\n",
       "│              ┆             ┆             ┆ eHDS.jso…   ┆             ┆             ┆             │\n",
       "│ 122230969948 ┆ 4.2669e18   ┆ 13738449543 ┆ ../../../.. ┆ FirstMortga ┆ 60236643569 ┆ Accepted    │\n",
       "│ 11160508     ┆             ┆ 083054085   ┆ /data/Sampl ┆ ge30yr      ┆ 22739631    ┆             │\n",
       "│              ┆             ┆             ┆ eHDS.jso…   ┆             ┆             ┆             │\n",
       "│ 133814977342 ┆ 1.6401e19   ┆ 67787669947 ┆ ../../../.. ┆ MoneyMarket ┆ 41909681117 ┆ Rejected    │\n",
       "│ 41155053     ┆             ┆ 19090455    ┆ /data/Sampl ┆ SavingsAcco ┆ 1409744     ┆             │\n",
       "│              ┆             ┆             ┆ eHDS.jso…   ┆ unt         ┆             ┆             │\n",
       "│ 264608890740 ┆ 6.5243e18   ┆ 13738449543 ┆ ../../../.. ┆ BasicChecki ┆ 41909681117 ┆ Rejected    │\n",
       "│ 3870476      ┆             ┆ 083054085   ┆ /data/Sampl ┆ ng          ┆ 1409744     ┆             │\n",
       "│              ┆             ┆             ┆ eHDS.jso…   ┆             ┆             ┆             │\n",
       "│ 155900033209 ┆ 1.0095e18   ┆ 92916391500 ┆ ../../../.. ┆ BasicChecki ┆ 60101839607 ┆ Accepted    │\n",
       "│ 4691741      ┆             ┆ 31189430    ┆ /data/Sampl ┆ ng          ┆ 46362401    ┆             │\n",
       "│              ┆             ┆             ┆ eHDS.jso…   ┆             ┆             ┆             │\n",
       "│ 116949598388 ┆ 3.5195e18   ┆ 67787669947 ┆ ../../../.. ┆ UPlusFinPer ┆ null        ┆ Rejected    │\n",
       "│ 13486563     ┆             ┆ 19090455    ┆ /data/Sampl ┆ sonal       ┆             ┆             │\n",
       "│              ┆             ┆             ┆ eHDS.jso…   ┆             ┆             ┆             │\n",
       "│ 144983600983 ┆ 6.9678e18   ┆ 67787669947 ┆ ../../../.. ┆ BasicChecki ┆ 60101839607 ┆ Rejected    │\n",
       "│ 73855464     ┆             ┆ 19090455    ┆ /data/Sampl ┆ ng          ┆ 46362401    ┆             │\n",
       "│              ┆             ┆             ┆ eHDS.jso…   ┆             ┆             ┆             │\n",
       "└──────────────┴─────────────┴─────────────┴─────────────┴─────────────┴─────────────┴─────────────┘"
      ]
     },
     "execution_count": 8,
     "metadata": {},
     "output_type": "execute_result"
    }
   ],
   "source": [
    "anon = DataAnonymization(\n",
    "    hds_folder=\"../../../../data/\",\n",
    "    mask_ih_names=False,\n",
    "    mask_outcome_values=False,\n",
    "    mask_context_key_values=False,\n",
    "    mask_context_key_names=False,\n",
    ")\n",
    "anon.process()\n"
   ]
  },
  {
   "attachments": {},
   "cell_type": "markdown",
   "metadata": {},
   "source": [
    "The configs can also be written and read as such:"
   ]
  },
  {
   "cell_type": "code",
   "execution_count": 9,
   "metadata": {
    "execution": {
     "iopub.execute_input": "2024-06-21T21:18:37.399370Z",
     "iopub.status.busy": "2024-06-21T21:18:37.398923Z",
     "iopub.status.idle": "2024-06-21T21:18:37.401832Z",
     "shell.execute_reply": "2024-06-21T21:18:37.401297Z"
    }
   },
   "outputs": [],
   "source": [
    "anon.config.save_to_config_file('config.json')"
   ]
  },
  {
   "cell_type": "code",
   "execution_count": 10,
   "metadata": {
    "execution": {
     "iopub.execute_input": "2024-06-21T21:18:37.403778Z",
     "iopub.status.busy": "2024-06-21T21:18:37.403469Z",
     "iopub.status.idle": "2024-06-21T21:18:37.411016Z",
     "shell.execute_reply": "2024-06-21T21:18:37.410499Z"
    }
   },
   "outputs": [
    {
     "data": {
      "text/html": [
       "<div><style>\n",
       ".dataframe > thead > tr,\n",
       ".dataframe > tbody > tr {\n",
       "  text-align: right;\n",
       "  white-space: pre-wrap;\n",
       "}\n",
       "</style>\n",
       "<small>shape: (7, 7)</small><table border=\"1\" class=\"dataframe\"><thead><tr><th>PREDICTOR_0</th><th>PREDICTOR_1</th><th>PREDICTOR_2</th><th>filename</th><th>Context_Name</th><th>IH_Web_Inbound_Accepted_pxLastGroupID</th><th>Decision_Outcome</th></tr><tr><td>str</td><td>f64</td><td>str</td><td>str</td><td>str</td><td>str</td><td>str</td></tr></thead><tbody><tr><td>&quot;2367453110802760380&quot;</td><td>1.5330e19</td><td>&quot;9335179623399248105&quot;</td><td>&quot;../../../../data/SampleHDS.jso…</td><td>&quot;FirstMortgage30yr&quot;</td><td>&quot;2375532983593433660&quot;</td><td>&quot;Rejected&quot;</td></tr><tr><td>&quot;16370374282811519483&quot;</td><td>1.4982e19</td><td>&quot;8921306619331836235&quot;</td><td>&quot;../../../../data/SampleHDS.jso…</td><td>&quot;FirstMortgage30yr&quot;</td><td>&quot;12652014746904830672&quot;</td><td>&quot;Accepted&quot;</td></tr><tr><td>&quot;10776462071605567053&quot;</td><td>7.4551e18</td><td>&quot;1095654781442232193&quot;</td><td>&quot;../../../../data/SampleHDS.jso…</td><td>&quot;MoneyMarketSavingsAccount&quot;</td><td>&quot;2375532983593433660&quot;</td><td>&quot;Rejected&quot;</td></tr><tr><td>&quot;1311660277637660253&quot;</td><td>8.5549e18</td><td>&quot;8921306619331836235&quot;</td><td>&quot;../../../../data/SampleHDS.jso…</td><td>&quot;BasicChecking&quot;</td><td>&quot;2375532983593433660&quot;</td><td>&quot;Rejected&quot;</td></tr><tr><td>&quot;5339408134475176182&quot;</td><td>6.4534e18</td><td>&quot;9335179623399248105&quot;</td><td>&quot;../../../../data/SampleHDS.jso…</td><td>&quot;BasicChecking&quot;</td><td>&quot;7051141762435135260&quot;</td><td>&quot;Accepted&quot;</td></tr><tr><td>&quot;14514825350656967983&quot;</td><td>9.1316e18</td><td>&quot;1095654781442232193&quot;</td><td>&quot;../../../../data/SampleHDS.jso…</td><td>&quot;UPlusFinPersonal&quot;</td><td>null</td><td>&quot;Rejected&quot;</td></tr><tr><td>&quot;16526616692047699199&quot;</td><td>9.4323e18</td><td>&quot;1095654781442232193&quot;</td><td>&quot;../../../../data/SampleHDS.jso…</td><td>&quot;BasicChecking&quot;</td><td>&quot;7051141762435135260&quot;</td><td>&quot;Rejected&quot;</td></tr></tbody></table></div>"
      ],
      "text/plain": [
       "shape: (7, 7)\n",
       "┌──────────────┬─────────────┬─────────────┬─────────────┬─────────────┬─────────────┬─────────────┐\n",
       "│ PREDICTOR_0  ┆ PREDICTOR_1 ┆ PREDICTOR_2 ┆ filename    ┆ Context_Nam ┆ IH_Web_Inbo ┆ Decision_Ou │\n",
       "│ ---          ┆ ---         ┆ ---         ┆ ---         ┆ e           ┆ und_Accepte ┆ tcome       │\n",
       "│ str          ┆ f64         ┆ str         ┆ str         ┆ ---         ┆ d_pxLast…   ┆ ---         │\n",
       "│              ┆             ┆             ┆             ┆ str         ┆ ---         ┆ str         │\n",
       "│              ┆             ┆             ┆             ┆             ┆ str         ┆             │\n",
       "╞══════════════╪═════════════╪═════════════╪═════════════╪═════════════╪═════════════╪═════════════╡\n",
       "│ 236745311080 ┆ 1.5330e19   ┆ 93351796233 ┆ ../../../.. ┆ FirstMortga ┆ 23755329835 ┆ Rejected    │\n",
       "│ 2760380      ┆             ┆ 99248105    ┆ /data/Sampl ┆ ge30yr      ┆ 93433660    ┆             │\n",
       "│              ┆             ┆             ┆ eHDS.jso…   ┆             ┆             ┆             │\n",
       "│ 163703742828 ┆ 1.4982e19   ┆ 89213066193 ┆ ../../../.. ┆ FirstMortga ┆ 12652014746 ┆ Accepted    │\n",
       "│ 11519483     ┆             ┆ 31836235    ┆ /data/Sampl ┆ ge30yr      ┆ 904830672   ┆             │\n",
       "│              ┆             ┆             ┆ eHDS.jso…   ┆             ┆             ┆             │\n",
       "│ 107764620716 ┆ 7.4551e18   ┆ 10956547814 ┆ ../../../.. ┆ MoneyMarket ┆ 23755329835 ┆ Rejected    │\n",
       "│ 05567053     ┆             ┆ 42232193    ┆ /data/Sampl ┆ SavingsAcco ┆ 93433660    ┆             │\n",
       "│              ┆             ┆             ┆ eHDS.jso…   ┆ unt         ┆             ┆             │\n",
       "│ 131166027763 ┆ 8.5549e18   ┆ 89213066193 ┆ ../../../.. ┆ BasicChecki ┆ 23755329835 ┆ Rejected    │\n",
       "│ 7660253      ┆             ┆ 31836235    ┆ /data/Sampl ┆ ng          ┆ 93433660    ┆             │\n",
       "│              ┆             ┆             ┆ eHDS.jso…   ┆             ┆             ┆             │\n",
       "│ 533940813447 ┆ 6.4534e18   ┆ 93351796233 ┆ ../../../.. ┆ BasicChecki ┆ 70511417624 ┆ Accepted    │\n",
       "│ 5176182      ┆             ┆ 99248105    ┆ /data/Sampl ┆ ng          ┆ 35135260    ┆             │\n",
       "│              ┆             ┆             ┆ eHDS.jso…   ┆             ┆             ┆             │\n",
       "│ 145148253506 ┆ 9.1316e18   ┆ 10956547814 ┆ ../../../.. ┆ UPlusFinPer ┆ null        ┆ Rejected    │\n",
       "│ 56967983     ┆             ┆ 42232193    ┆ /data/Sampl ┆ sonal       ┆             ┆             │\n",
       "│              ┆             ┆             ┆ eHDS.jso…   ┆             ┆             ┆             │\n",
       "│ 165266166920 ┆ 9.4323e18   ┆ 10956547814 ┆ ../../../.. ┆ BasicChecki ┆ 70511417624 ┆ Rejected    │\n",
       "│ 47699199     ┆             ┆ 42232193    ┆ /data/Sampl ┆ ng          ┆ 35135260    ┆             │\n",
       "│              ┆             ┆             ┆ eHDS.jso…   ┆             ┆             ┆             │\n",
       "└──────────────┴─────────────┴─────────────┴─────────────┴─────────────┴─────────────┴─────────────┘"
      ]
     },
     "execution_count": 10,
     "metadata": {},
     "output_type": "execute_result"
    }
   ],
   "source": [
    "anon = DataAnonymization(config=Config(config_file='config.json'))\n",
    "anon.process()"
   ]
  },
  {
   "attachments": {},
   "cell_type": "markdown",
   "metadata": {},
   "source": [
    "## Exporting\n",
    "Two functions export:\n",
    "- `create_mapping_file()` writes the mapping file of the predictor names\n",
    "- `write_to_output()` writes the processed dataframe to disk\n",
    "\n",
    "Write to output accepts the following extensions: `[\"ndjson\", \"parquet\", \"arrow\", \"csv\"]`"
   ]
  },
  {
   "cell_type": "code",
   "execution_count": 11,
   "metadata": {
    "execution": {
     "iopub.execute_input": "2024-06-21T21:18:37.412969Z",
     "iopub.status.busy": "2024-06-21T21:18:37.412684Z",
     "iopub.status.idle": "2024-06-21T21:18:37.415894Z",
     "shell.execute_reply": "2024-06-21T21:18:37.415476Z"
    }
   },
   "outputs": [
    {
     "name": "stdout",
     "output_type": "stream",
     "text": [
      "Customer_City=PREDICTOR_0\n",
      "Customer_CLV=PREDICTOR_1\n",
      "Customer_MaritalStatus=PREDICTOR_2\n",
      "filename=filename\n",
      "Context_Name=Context_Name\n",
      "IH_Web_Inbound_Accepted_pxLastGroupID=IH_Web_Inbound_Accepted_pxLastGroupID\n",
      "Decision_Outcome=Decision_Outcome\n",
      "\n"
     ]
    }
   ],
   "source": [
    "anon.create_mapping_file()\n",
    "with open('mapping.map') as f:\n",
    "    print(f.read())"
   ]
  },
  {
   "cell_type": "code",
   "execution_count": 12,
   "metadata": {
    "execution": {
     "iopub.execute_input": "2024-06-21T21:18:37.417912Z",
     "iopub.status.busy": "2024-06-21T21:18:37.417499Z",
     "iopub.status.idle": "2024-06-21T21:18:37.420972Z",
     "shell.execute_reply": "2024-06-21T21:18:37.420448Z"
    }
   },
   "outputs": [],
   "source": [
    "anon.write_to_output(ext='arrow')"
   ]
  },
  {
   "cell_type": "code",
   "execution_count": 13,
   "metadata": {
    "execution": {
     "iopub.execute_input": "2024-06-21T21:18:37.422856Z",
     "iopub.status.busy": "2024-06-21T21:18:37.422557Z",
     "iopub.status.idle": "2024-06-21T21:18:37.426819Z",
     "shell.execute_reply": "2024-06-21T21:18:37.426362Z"
    }
   },
   "outputs": [
    {
     "data": {
      "text/html": [
       "<div><style>\n",
       ".dataframe > thead > tr,\n",
       ".dataframe > tbody > tr {\n",
       "  text-align: right;\n",
       "  white-space: pre-wrap;\n",
       "}\n",
       "</style>\n",
       "<small>shape: (7, 6)</small><table border=\"1\" class=\"dataframe\"><thead><tr><th>PREDICTOR_0</th><th>PREDICTOR_1</th><th>PREDICTOR_2</th><th>Context_Name</th><th>IH_Web_Inbound_Accepted_pxLastGroupID</th><th>Decision_Outcome</th></tr><tr><td>str</td><td>f64</td><td>str</td><td>str</td><td>str</td><td>str</td></tr></thead><tbody><tr><td>&quot;15370721970324918795&quot;</td><td>7.7396e18</td><td>&quot;13758520771433417676&quot;</td><td>&quot;FirstMortgage30yr&quot;</td><td>&quot;11536232935238918781&quot;</td><td>&quot;Rejected&quot;</td></tr><tr><td>&quot;18382913153702564300&quot;</td><td>1.4392e19</td><td>&quot;1931693483292258967&quot;</td><td>&quot;FirstMortgage30yr&quot;</td><td>&quot;3057198860239785687&quot;</td><td>&quot;Accepted&quot;</td></tr><tr><td>&quot;5603129501703082898&quot;</td><td>8.1198e18</td><td>&quot;6767418375704386890&quot;</td><td>&quot;MoneyMarketSavingsAccount&quot;</td><td>&quot;11536232935238918781&quot;</td><td>&quot;Rejected&quot;</td></tr><tr><td>&quot;8971610426504297500&quot;</td><td>7.8131e18</td><td>&quot;1931693483292258967&quot;</td><td>&quot;BasicChecking&quot;</td><td>&quot;11536232935238918781&quot;</td><td>&quot;Rejected&quot;</td></tr><tr><td>&quot;14114570098984104195&quot;</td><td>1.2082e19</td><td>&quot;13758520771433417676&quot;</td><td>&quot;BasicChecking&quot;</td><td>&quot;2948221747051975111&quot;</td><td>&quot;Accepted&quot;</td></tr><tr><td>&quot;17535626493183681514&quot;</td><td>1.7870e19</td><td>&quot;6767418375704386890&quot;</td><td>&quot;UPlusFinPersonal&quot;</td><td>null</td><td>&quot;Rejected&quot;</td></tr><tr><td>&quot;10502679744977247574&quot;</td><td>1.2575e19</td><td>&quot;6767418375704386890&quot;</td><td>&quot;BasicChecking&quot;</td><td>&quot;2948221747051975111&quot;</td><td>&quot;Rejected&quot;</td></tr></tbody></table></div>"
      ],
      "text/plain": [
       "shape: (7, 6)\n",
       "┌────────────────┬─────────────┬────────────────┬────────────────┬────────────────┬────────────────┐\n",
       "│ PREDICTOR_0    ┆ PREDICTOR_1 ┆ PREDICTOR_2    ┆ Context_Name   ┆ IH_Web_Inbound ┆ Decision_Outco │\n",
       "│ ---            ┆ ---         ┆ ---            ┆ ---            ┆ _Accepted_pxLa ┆ me             │\n",
       "│ str            ┆ f64         ┆ str            ┆ str            ┆ st…            ┆ ---            │\n",
       "│                ┆             ┆                ┆                ┆ ---            ┆ str            │\n",
       "│                ┆             ┆                ┆                ┆ str            ┆                │\n",
       "╞════════════════╪═════════════╪════════════════╪════════════════╪════════════════╪════════════════╡\n",
       "│ 15370721970324 ┆ 7.7396e18   ┆ 13758520771433 ┆ FirstMortgage3 ┆ 11536232935238 ┆ Rejected       │\n",
       "│ 918795         ┆             ┆ 417676         ┆ 0yr            ┆ 918781         ┆                │\n",
       "│ 18382913153702 ┆ 1.4392e19   ┆ 19316934832922 ┆ FirstMortgage3 ┆ 30571988602397 ┆ Accepted       │\n",
       "│ 564300         ┆             ┆ 58967          ┆ 0yr            ┆ 85687          ┆                │\n",
       "│ 56031295017030 ┆ 8.1198e18   ┆ 67674183757043 ┆ MoneyMarketSav ┆ 11536232935238 ┆ Rejected       │\n",
       "│ 82898          ┆             ┆ 86890          ┆ ingsAccount    ┆ 918781         ┆                │\n",
       "│ 89716104265042 ┆ 7.8131e18   ┆ 19316934832922 ┆ BasicChecking  ┆ 11536232935238 ┆ Rejected       │\n",
       "│ 97500          ┆             ┆ 58967          ┆                ┆ 918781         ┆                │\n",
       "│ 14114570098984 ┆ 1.2082e19   ┆ 13758520771433 ┆ BasicChecking  ┆ 29482217470519 ┆ Accepted       │\n",
       "│ 104195         ┆             ┆ 417676         ┆                ┆ 75111          ┆                │\n",
       "│ 17535626493183 ┆ 1.7870e19   ┆ 67674183757043 ┆ UPlusFinPerson ┆ null           ┆ Rejected       │\n",
       "│ 681514         ┆             ┆ 86890          ┆ al             ┆                ┆                │\n",
       "│ 10502679744977 ┆ 1.2575e19   ┆ 67674183757043 ┆ BasicChecking  ┆ 29482217470519 ┆ Rejected       │\n",
       "│ 247574         ┆             ┆ 86890          ┆                ┆ 75111          ┆                │\n",
       "└────────────────┴─────────────┴────────────────┴────────────────┴────────────────┴────────────────┘"
      ]
     },
     "execution_count": 13,
     "metadata": {},
     "output_type": "execute_result"
    }
   ],
   "source": [
    "pl.read_ipc('output/hds.arrow')"
   ]
  },
  {
   "attachments": {},
   "cell_type": "markdown",
   "metadata": {
    "nbsphinx": "hidden"
   },
   "source": [
    "## Advanced: Hash fuctions\n",
    "\n",
    "By default, we use [the same hashing algorithm Polars](https://pola-rs.github.io/polars/py-polars/html/reference/expressions/api/polars.Expr.hash.html#polars.Expr.hash) uses: [xxhash](https://github.com/Cyan4973/xxHash), as implemented [here](https://github.com/pola-rs/polars/blob/3f287f370b3c388ed2f3f218b2c096382548136f/polars/polars-core/src/vector_hasher.rs#L266). xxhash is fast to compute, and you can check its performance in collision, dispersion and randomness [here](https://github.com/Cyan4973/xxHash/tree/dev/tests). \n",
    "\n",
    "xxhash accepts four distinct seeds, but by default we set the seeds to `0`. It is possible to set the `seed` argument of the `process()` function to `'random'`, which will set all four seeds to a random integer between `0` and `1000000000`. Alternatively, it is possible to supply the four seeds manually with arguments `seed`, `seed_1`, `seed_2` and `seed_3`. \n",
    "\n",
    "If the xxhash with (random) seed(s) is not deemed sufficiently secure, it is possible to use your own hashing algorithm.\n",
    "\n",
    "Note that since we're now running python code and not native Polars code anymore, this will be _significantly_ slower. Nonetheless, it is possible.\n",
    "\n",
    "Just as an example - this is how one would use sha3_256:"
   ]
  },
  {
   "cell_type": "code",
   "execution_count": 14,
   "metadata": {
    "execution": {
     "iopub.execute_input": "2024-06-21T21:18:37.428791Z",
     "iopub.status.busy": "2024-06-21T21:18:37.428462Z",
     "iopub.status.idle": "2024-06-21T21:18:37.751298Z",
     "shell.execute_reply": "2024-06-21T21:18:37.750751Z"
    },
    "nbsphinx": "hidden"
   },
   "outputs": [
    {
     "name": "stderr",
     "output_type": "stream",
     "text": [
      "sys:1: MapWithoutReturnDtypeWarning:\n",
      "\n",
      "Calling `map_elements` without specifying `return_dtype` can lead to unpredictable results. Specify `return_dtype` to silence this warning.\n",
      "\n",
      "sys:1: MapWithoutReturnDtypeWarning:\n",
      "\n",
      "Calling `map_elements` without specifying `return_dtype` can lead to unpredictable results. Specify `return_dtype` to silence this warning.\n",
      "\n",
      "sys:1: MapWithoutReturnDtypeWarning:\n",
      "\n",
      "Calling `map_elements` without specifying `return_dtype` can lead to unpredictable results. Specify `return_dtype` to silence this warning.\n",
      "\n",
      "sys:1: MapWithoutReturnDtypeWarning:\n",
      "\n",
      "Calling `map_elements` without specifying `return_dtype` can lead to unpredictable results. Specify `return_dtype` to silence this warning.\n",
      "\n"
     ]
    },
    {
     "ename": "ComputeError",
     "evalue": "AttributeError: 'int' object has no attribute 'encode'",
     "output_type": "error",
     "traceback": [
      "\u001b[0;31m---------------------------------------------------------------------------\u001b[0m",
      "\u001b[0;31mComputeError\u001b[0m                              Traceback (most recent call last)",
      "Cell \u001b[0;32mIn[14], line 3\u001b[0m\n\u001b[1;32m      1\u001b[0m \u001b[38;5;28;01mfrom\u001b[39;00m \u001b[38;5;21;01mhashlib\u001b[39;00m \u001b[38;5;28;01mimport\u001b[39;00m sha3_256\n\u001b[0;32m----> 3\u001b[0m \u001b[43manon\u001b[49m\u001b[38;5;241;43m.\u001b[39;49m\u001b[43mprocess\u001b[49m\u001b[43m(\u001b[49m\u001b[43malgorithm\u001b[49m\u001b[38;5;241;43m=\u001b[39;49m\u001b[38;5;28;43;01mlambda\u001b[39;49;00m\u001b[43m \u001b[49m\u001b[43mx\u001b[49m\u001b[43m:\u001b[49m\u001b[43m \u001b[49m\u001b[43msha3_256\u001b[49m\u001b[43m(\u001b[49m\u001b[43mx\u001b[49m\u001b[38;5;241;43m.\u001b[39;49m\u001b[43mencode\u001b[49m\u001b[43m(\u001b[49m\u001b[43m)\u001b[49m\u001b[43m)\u001b[49m\u001b[38;5;241;43m.\u001b[39;49m\u001b[43mhexdigest\u001b[49m\u001b[43m(\u001b[49m\u001b[43m)\u001b[49m\u001b[43m)\u001b[49m\n",
      "File \u001b[0;32m~/work/pega-datascientist-tools/pega-datascientist-tools/python/docs/source/articles/../../../pdstools/utils/hds_utils.py:512\u001b[0m, in \u001b[0;36mDataAnonymization.process\u001b[0;34m(self, strategy, **kwargs)\u001b[0m\n\u001b[1;32m    510\u001b[0m df \u001b[38;5;241m=\u001b[39m df\u001b[38;5;241m.\u001b[39mselect(\u001b[38;5;28mself\u001b[39m\u001b[38;5;241m.\u001b[39mcolumn_mapping\u001b[38;5;241m.\u001b[39mkeys())\u001b[38;5;241m.\u001b[39mrename(\u001b[38;5;28mself\u001b[39m\u001b[38;5;241m.\u001b[39mcolumn_mapping)\n\u001b[1;32m    511\u001b[0m \u001b[38;5;28;01mif\u001b[39;00m strategy \u001b[38;5;241m==\u001b[39m \u001b[38;5;124m\"\u001b[39m\u001b[38;5;124meager\u001b[39m\u001b[38;5;124m\"\u001b[39m:\n\u001b[0;32m--> 512\u001b[0m     \u001b[38;5;28;01mreturn\u001b[39;00m \u001b[43mdf\u001b[49m\u001b[38;5;241;43m.\u001b[39;49m\u001b[43mcollect\u001b[49m\u001b[43m(\u001b[49m\u001b[43m)\u001b[49m\n\u001b[1;32m    513\u001b[0m \u001b[38;5;28;01mreturn\u001b[39;00m df\n",
      "File \u001b[0;32m/opt/hostedtoolcache/Python/3.11.9/x64/lib/python3.11/site-packages/polars/lazyframe/frame.py:1967\u001b[0m, in \u001b[0;36mLazyFrame.collect\u001b[0;34m(self, type_coercion, predicate_pushdown, projection_pushdown, simplify_expression, slice_pushdown, comm_subplan_elim, comm_subexpr_elim, cluster_with_columns, no_optimization, streaming, background, _eager, **_kwargs)\u001b[0m\n\u001b[1;32m   1964\u001b[0m \u001b[38;5;66;03m# Only for testing purposes atm.\u001b[39;00m\n\u001b[1;32m   1965\u001b[0m callback \u001b[38;5;241m=\u001b[39m _kwargs\u001b[38;5;241m.\u001b[39mget(\u001b[38;5;124m\"\u001b[39m\u001b[38;5;124mpost_opt_callback\u001b[39m\u001b[38;5;124m\"\u001b[39m)\n\u001b[0;32m-> 1967\u001b[0m \u001b[38;5;28;01mreturn\u001b[39;00m wrap_df(\u001b[43mldf\u001b[49m\u001b[38;5;241;43m.\u001b[39;49m\u001b[43mcollect\u001b[49m\u001b[43m(\u001b[49m\u001b[43mcallback\u001b[49m\u001b[43m)\u001b[49m)\n",
      "\u001b[0;31mComputeError\u001b[0m: AttributeError: 'int' object has no attribute 'encode'"
     ]
    }
   ],
   "source": [
    "from hashlib import sha3_256\n",
    "\n",
    "anon.process(algorithm=lambda x: sha3_256(x.encode()).hexdigest())"
   ]
  }
 ],
 "metadata": {
  "kernelspec": {
   "display_name": "Python 3",
   "language": "python",
   "name": "python3"
  },
  "language_info": {
   "codemirror_mode": {
    "name": "ipython",
    "version": 3
   },
   "file_extension": ".py",
   "mimetype": "text/x-python",
   "name": "python",
   "nbconvert_exporter": "python",
   "pygments_lexer": "ipython3",
   "version": "3.11.9"
  },
  "vscode": {
   "interpreter": {
    "hash": "aee8b7b246df8f9039afb4144a1f6fd8d2ca17a180786b69acc140d282b71a49"
   }
  }
 },
 "nbformat": 4,
 "nbformat_minor": 2
}
