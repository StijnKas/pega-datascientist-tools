{
 "cells": [
  {
   "attachments": {},
   "cell_type": "markdown",
   "metadata": {},
   "source": [
    "# Data Anonymization\n",
    "\n",
    "In Pega CDH 8.5 and up, it's now possible to record the historical data as seen by the Adaptive Models. See [this academy challenge](https://academy.pega.com/challenge/exporting-historical-data/v4) for reference. This historical data can be further used to experiment with offline models, but also to fine-tune the OOTB Gradient Boosting model. However, sharing this information with Pega can be sensitive as it contains raw predictor data. \n",
    "\n",
    "To this end, we provide a simple and transparent script to fully anonimize this dataset.\n",
    "\n",
    "The DataAnonymization script is now part of pdstools, and you can import it directly as such."
   ]
  },
  {
   "cell_type": "code",
   "execution_count": 1,
   "metadata": {
    "execution": {
     "iopub.execute_input": "2024-04-15T12:07:04.561747Z",
     "iopub.status.busy": "2024-04-15T12:07:04.561563Z",
     "iopub.status.idle": "2024-04-15T12:07:04.633238Z",
     "shell.execute_reply": "2024-04-15T12:07:04.632768Z"
    },
    "nbsphinx": "hidden"
   },
   "outputs": [],
   "source": [
    "# These lines are only for rendering in the docs, and are hidden through Jupyter tags\n",
    "# Do not run if you're running the notebook seperately\n",
    "\n",
    "import os  \n",
    "import sys\n",
    "import plotly.io as pio\n",
    "pio.renderers.default = \"notebook_connected\"\n",
    "\n",
    "sys.path.append(\"../../../\")\n",
    "sys.path.append('../../python')"
   ]
  },
  {
   "cell_type": "code",
   "execution_count": 2,
   "metadata": {
    "execution": {
     "iopub.execute_input": "2024-04-15T12:07:04.635574Z",
     "iopub.status.busy": "2024-04-15T12:07:04.635384Z",
     "iopub.status.idle": "2024-04-15T12:07:05.658454Z",
     "shell.execute_reply": "2024-04-15T12:07:05.657943Z"
    }
   },
   "outputs": [],
   "source": [
    "from pdstools import ADMDatamart\n",
    "from pdstools import Config, DataAnonymization\n",
    "import polars as pl"
   ]
  },
  {
   "attachments": {},
   "cell_type": "markdown",
   "metadata": {},
   "source": [
    "## Input data\n",
    "\n",
    "To demonstrate this process, we're going to anonymise this toy example dataframe:"
   ]
  },
  {
   "cell_type": "code",
   "execution_count": 3,
   "metadata": {
    "execution": {
     "iopub.execute_input": "2024-04-15T12:07:05.661112Z",
     "iopub.status.busy": "2024-04-15T12:07:05.660637Z",
     "iopub.status.idle": "2024-04-15T12:07:05.669083Z",
     "shell.execute_reply": "2024-04-15T12:07:05.668582Z"
    }
   },
   "outputs": [
    {
     "data": {
      "text/html": [
       "<div><style>\n",
       ".dataframe > thead > tr,\n",
       ".dataframe > tbody > tr {\n",
       "  text-align: right;\n",
       "  white-space: pre-wrap;\n",
       "}\n",
       "</style>\n",
       "<small>shape: (7, 6)</small><table border=\"1\" class=\"dataframe\"><thead><tr><th>Context_Name</th><th>Customer_MaritalStatus</th><th>Customer_CLV</th><th>Customer_City</th><th>IH_Web_Inbound_Accepted_pxLastGroupID</th><th>Decision_Outcome</th></tr><tr><td>str</td><td>str</td><td>i64</td><td>str</td><td>str</td><td>str</td></tr></thead><tbody><tr><td>&quot;FirstMortgage3…</td><td>&quot;Married&quot;</td><td>1460</td><td>&quot;Port Raoul&quot;</td><td>&quot;Account&quot;</td><td>&quot;Rejected&quot;</td></tr><tr><td>&quot;FirstMortgage3…</td><td>&quot;Unknown&quot;</td><td>669</td><td>&quot;Laurianneshire…</td><td>&quot;AutoLoans&quot;</td><td>&quot;Accepted&quot;</td></tr><tr><td>&quot;MoneyMarketSav…</td><td>&quot;No Resp+&quot;</td><td>1174</td><td>&quot;Jacobshaven&quot;</td><td>&quot;Account&quot;</td><td>&quot;Rejected&quot;</td></tr><tr><td>&quot;BasicChecking&quot;</td><td>&quot;Unknown&quot;</td><td>1476</td><td>&quot;Lindton&quot;</td><td>&quot;Account&quot;</td><td>&quot;Rejected&quot;</td></tr><tr><td>&quot;BasicChecking&quot;</td><td>&quot;Married&quot;</td><td>1211</td><td>&quot;South Jimmiesh…</td><td>&quot;DepositAccount…</td><td>&quot;Accepted&quot;</td></tr><tr><td>&quot;UPlusFinPerson…</td><td>&quot;No Resp+&quot;</td><td>533</td><td>&quot;Bergeville&quot;</td><td>null</td><td>&quot;Rejected&quot;</td></tr><tr><td>&quot;BasicChecking&quot;</td><td>&quot;No Resp+&quot;</td><td>555</td><td>&quot;Willyville&quot;</td><td>&quot;DepositAccount…</td><td>&quot;Rejected&quot;</td></tr></tbody></table></div>"
      ],
      "text/plain": [
       "shape: (7, 6)\n",
       "┌────────────────┬────────────────┬──────────────┬────────────────┬────────────────┬───────────────┐\n",
       "│ Context_Name   ┆ Customer_Marit ┆ Customer_CLV ┆ Customer_City  ┆ IH_Web_Inbound ┆ Decision_Outc │\n",
       "│ ---            ┆ alStatus       ┆ ---          ┆ ---            ┆ _Accepted_pxLa ┆ ome           │\n",
       "│ str            ┆ ---            ┆ i64          ┆ str            ┆ stGr…          ┆ ---           │\n",
       "│                ┆ str            ┆              ┆                ┆ ---            ┆ str           │\n",
       "│                ┆                ┆              ┆                ┆ str            ┆               │\n",
       "╞════════════════╪════════════════╪══════════════╪════════════════╪════════════════╪═══════════════╡\n",
       "│ FirstMortgage3 ┆ Married        ┆ 1460         ┆ Port Raoul     ┆ Account        ┆ Rejected      │\n",
       "│ 0yr            ┆                ┆              ┆                ┆                ┆               │\n",
       "│ FirstMortgage3 ┆ Unknown        ┆ 669          ┆ Laurianneshire ┆ AutoLoans      ┆ Accepted      │\n",
       "│ 0yr            ┆                ┆              ┆                ┆                ┆               │\n",
       "│ MoneyMarketSav ┆ No Resp+       ┆ 1174         ┆ Jacobshaven    ┆ Account        ┆ Rejected      │\n",
       "│ ingsAccount    ┆                ┆              ┆                ┆                ┆               │\n",
       "│ BasicChecking  ┆ Unknown        ┆ 1476         ┆ Lindton        ┆ Account        ┆ Rejected      │\n",
       "│ BasicChecking  ┆ Married        ┆ 1211         ┆ South          ┆ DepositAccount ┆ Accepted      │\n",
       "│                ┆                ┆              ┆ Jimmieshire    ┆ s              ┆               │\n",
       "│ UPlusFinPerson ┆ No Resp+       ┆ 533          ┆ Bergeville     ┆ null           ┆ Rejected      │\n",
       "│ al             ┆                ┆              ┆                ┆                ┆               │\n",
       "│ BasicChecking  ┆ No Resp+       ┆ 555          ┆ Willyville     ┆ DepositAccount ┆ Rejected      │\n",
       "│                ┆                ┆              ┆                ┆ s              ┆               │\n",
       "└────────────────┴────────────────┴──────────────┴────────────────┴────────────────┴───────────────┘"
      ]
     },
     "execution_count": 3,
     "metadata": {},
     "output_type": "execute_result"
    }
   ],
   "source": [
    "pl.read_ndjson('../../../../data/SampleHDS.json')"
   ]
  },
  {
   "attachments": {},
   "cell_type": "markdown",
   "metadata": {},
   "source": [
    "As you can see, this dataset consists of regular predictors, IH predictors, context keys and the outcome column. Additionally, some columns are numeric, others are strings. Let's first initialize the DataAnonymization class."
   ]
  },
  {
   "cell_type": "code",
   "execution_count": 4,
   "metadata": {
    "execution": {
     "iopub.execute_input": "2024-04-15T12:07:05.671191Z",
     "iopub.status.busy": "2024-04-15T12:07:05.670862Z",
     "iopub.status.idle": "2024-04-15T12:07:05.676818Z",
     "shell.execute_reply": "2024-04-15T12:07:05.676392Z"
    }
   },
   "outputs": [],
   "source": [
    "anon = DataAnonymization(hds_folder='../../../../data/')"
   ]
  },
  {
   "attachments": {},
   "cell_type": "markdown",
   "metadata": {},
   "source": [
    "By default, the class applies a set of anonymisation techniques:\n",
    "- Column names are remapped to a non-descriptive name\n",
    "- Categorical values are hashed with a random seed\n",
    "- Numerical values are normalized between 0 and 1\n",
    "- Outcomes are mapped to a binary outcome.\n",
    "\n",
    "To apply these techniques, simply call `.process()`:"
   ]
  },
  {
   "cell_type": "code",
   "execution_count": 5,
   "metadata": {
    "execution": {
     "iopub.execute_input": "2024-04-15T12:07:05.678864Z",
     "iopub.status.busy": "2024-04-15T12:07:05.678566Z",
     "iopub.status.idle": "2024-04-15T12:07:05.684195Z",
     "shell.execute_reply": "2024-04-15T12:07:05.683718Z"
    }
   },
   "outputs": [
    {
     "data": {
      "text/html": [
       "<div><style>\n",
       ".dataframe > thead > tr,\n",
       ".dataframe > tbody > tr {\n",
       "  text-align: right;\n",
       "  white-space: pre-wrap;\n",
       "}\n",
       "</style>\n",
       "<small>shape: (7, 7)</small><table border=\"1\" class=\"dataframe\"><thead><tr><th>filename</th><th>PREDICTOR_1</th><th>PREDICTOR_2</th><th>PREDICTOR_3</th><th>Context_Name</th><th>IH_PREDICTOR_0</th><th>Decision_Outcome</th></tr><tr><td>str</td><td>f64</td><td>str</td><td>str</td><td>str</td><td>str</td><td>bool</td></tr></thead><tbody><tr><td>&quot;../../../../da…</td><td>0.983033</td><td>&quot;81701663760121…</td><td>&quot;17181442165297…</td><td>&quot;27836849224021…</td><td>&quot;17887856683503…</td><td>false</td></tr><tr><td>&quot;../../../../da…</td><td>0.144221</td><td>&quot;12094951921698…</td><td>&quot;18848308573589…</td><td>&quot;27836849224021…</td><td>&quot;58499450088185…</td><td>true</td></tr><tr><td>&quot;../../../../da…</td><td>0.679745</td><td>&quot;31518682012029…</td><td>&quot;15512005559854…</td><td>&quot;12258085065076…</td><td>&quot;17887856683503…</td><td>false</td></tr><tr><td>&quot;../../../../da…</td><td>1.0</td><td>&quot;12094951921698…</td><td>&quot;33215299827652…</td><td>&quot;95060435695362…</td><td>&quot;17887856683503…</td><td>false</td></tr><tr><td>&quot;../../../../da…</td><td>0.718982</td><td>&quot;81701663760121…</td><td>&quot;12042592091914…</td><td>&quot;95060435695362…</td><td>&quot;12483061181518…</td><td>true</td></tr><tr><td>&quot;../../../../da…</td><td>0.0</td><td>&quot;31518682012029…</td><td>&quot;11300891304573…</td><td>&quot;74067613040551…</td><td>null</td><td>false</td></tr><tr><td>&quot;../../../../da…</td><td>0.02333</td><td>&quot;31518682012029…</td><td>&quot;94335802046083…</td><td>&quot;95060435695362…</td><td>&quot;12483061181518…</td><td>false</td></tr></tbody></table></div>"
      ],
      "text/plain": [
       "shape: (7, 7)\n",
       "┌──────────────┬─────────────┬─────────────┬─────────────┬─────────────┬─────────────┬─────────────┐\n",
       "│ filename     ┆ PREDICTOR_1 ┆ PREDICTOR_2 ┆ PREDICTOR_3 ┆ Context_Nam ┆ IH_PREDICTO ┆ Decision_Ou │\n",
       "│ ---          ┆ ---         ┆ ---         ┆ ---         ┆ e           ┆ R_0         ┆ tcome       │\n",
       "│ str          ┆ f64         ┆ str         ┆ str         ┆ ---         ┆ ---         ┆ ---         │\n",
       "│              ┆             ┆             ┆             ┆ str         ┆ str         ┆ bool        │\n",
       "╞══════════════╪═════════════╪═════════════╪═════════════╪═════════════╪═════════════╪═════════════╡\n",
       "│ ../../../../ ┆ 0.983033    ┆ 81701663760 ┆ 17181442165 ┆ 27836849224 ┆ 17887856683 ┆ false       │\n",
       "│ data/SampleH ┆             ┆ 12127003    ┆ 29745524    ┆ 02144954    ┆ 503763473   ┆             │\n",
       "│ DS.json      ┆             ┆             ┆             ┆             ┆             ┆             │\n",
       "│ ../../../../ ┆ 0.144221    ┆ 12094951921 ┆ 18848308573 ┆ 27836849224 ┆ 58499450088 ┆ true        │\n",
       "│ data/SampleH ┆             ┆ 698046066   ┆ 58980969    ┆ 02144954    ┆ 18567521    ┆             │\n",
       "│ DS.json      ┆             ┆             ┆             ┆             ┆             ┆             │\n",
       "│ ../../../../ ┆ 0.679745    ┆ 31518682012 ┆ 15512005559 ┆ 12258085065 ┆ 17887856683 ┆ false       │\n",
       "│ data/SampleH ┆             ┆ 02983911    ┆ 854060941   ┆ 07674908    ┆ 503763473   ┆             │\n",
       "│ DS.json      ┆             ┆             ┆             ┆             ┆             ┆             │\n",
       "│ ../../../../ ┆ 1.0         ┆ 12094951921 ┆ 33215299827 ┆ 95060435695 ┆ 17887856683 ┆ false       │\n",
       "│ data/SampleH ┆             ┆ 698046066   ┆ 6526323     ┆ 36267745    ┆ 503763473   ┆             │\n",
       "│ DS.json      ┆             ┆             ┆             ┆             ┆             ┆             │\n",
       "│ ../../../../ ┆ 0.718982    ┆ 81701663760 ┆ 12042592091 ┆ 95060435695 ┆ 12483061181 ┆ true        │\n",
       "│ data/SampleH ┆             ┆ 12127003    ┆ 914269552   ┆ 36267745    ┆ 518502602   ┆             │\n",
       "│ DS.json      ┆             ┆             ┆             ┆             ┆             ┆             │\n",
       "│ ../../../../ ┆ 0.0         ┆ 31518682012 ┆ 11300891304 ┆ 74067613040 ┆ null        ┆ false       │\n",
       "│ data/SampleH ┆             ┆ 02983911    ┆ 573833284   ┆ 55123146    ┆             ┆             │\n",
       "│ DS.json      ┆             ┆             ┆             ┆             ┆             ┆             │\n",
       "│ ../../../../ ┆ 0.02333     ┆ 31518682012 ┆ 94335802046 ┆ 95060435695 ┆ 12483061181 ┆ false       │\n",
       "│ data/SampleH ┆             ┆ 02983911    ┆ 08371844    ┆ 36267745    ┆ 518502602   ┆             │\n",
       "│ DS.json      ┆             ┆             ┆             ┆             ┆             ┆             │\n",
       "└──────────────┴─────────────┴─────────────┴─────────────┴─────────────┴─────────────┴─────────────┘"
      ]
     },
     "execution_count": 5,
     "metadata": {},
     "output_type": "execute_result"
    }
   ],
   "source": [
    "anon.process()"
   ]
  },
  {
   "attachments": {},
   "cell_type": "markdown",
   "metadata": {},
   "source": [
    "To trace back the columns to their original names, the class also contains a mapping, which does not have to be provided."
   ]
  },
  {
   "cell_type": "code",
   "execution_count": 6,
   "metadata": {
    "execution": {
     "iopub.execute_input": "2024-04-15T12:07:05.686376Z",
     "iopub.status.busy": "2024-04-15T12:07:05.685979Z",
     "iopub.status.idle": "2024-04-15T12:07:05.689991Z",
     "shell.execute_reply": "2024-04-15T12:07:05.689543Z"
    }
   },
   "outputs": [
    {
     "data": {
      "text/plain": [
       "{'filename': 'filename',\n",
       " 'Customer_CLV': 'PREDICTOR_1',\n",
       " 'Customer_MaritalStatus': 'PREDICTOR_2',\n",
       " 'Customer_City': 'PREDICTOR_3',\n",
       " 'Context_Name': 'Context_Name',\n",
       " 'IH_Web_Inbound_Accepted_pxLastGroupID': 'IH_PREDICTOR_0',\n",
       " 'Decision_Outcome': 'Decision_Outcome'}"
      ]
     },
     "execution_count": 6,
     "metadata": {},
     "output_type": "execute_result"
    }
   ],
   "source": [
    "anon.column_mapping"
   ]
  },
  {
   "attachments": {},
   "cell_type": "markdown",
   "metadata": {},
   "source": [
    "## Configs\n",
    "\n",
    "Each capability can optionally be turned off - see below for the full list of config options, and refer to the API reference for the full description."
   ]
  },
  {
   "cell_type": "code",
   "execution_count": 7,
   "metadata": {
    "execution": {
     "iopub.execute_input": "2024-04-15T12:07:05.691989Z",
     "iopub.status.busy": "2024-04-15T12:07:05.691633Z",
     "iopub.status.idle": "2024-04-15T12:07:05.695731Z",
     "shell.execute_reply": "2024-04-15T12:07:05.695288Z"
    }
   },
   "outputs": [
    {
     "data": {
      "text/plain": [
       "{'config_file': None,\n",
       " 'hds_folder': '.',\n",
       " 'use_datamart': False,\n",
       " 'datamart_folder': 'datamart',\n",
       " 'output_format': 'ndjson',\n",
       " 'output_folder': 'output',\n",
       " 'mapping_file': 'mapping.map',\n",
       " 'mask_predictor_names': True,\n",
       " 'mask_context_key_names': False,\n",
       " 'mask_ih_names': True,\n",
       " 'mask_outcome_name': False,\n",
       " 'mask_predictor_values': True,\n",
       " 'mask_context_key_values': True,\n",
       " 'mask_ih_values': True,\n",
       " 'mask_outcome_values': True,\n",
       " 'context_key_label': 'Context_*',\n",
       " 'ih_label': 'IH_*',\n",
       " 'outcome_column': 'Decision_Outcome',\n",
       " 'positive_outcomes': ['Accepted', 'Clicked'],\n",
       " 'negative_outcomes': ['Rejected', 'Impression'],\n",
       " 'special_predictors': ['Decision_DecisionTime',\n",
       "  'Decision_OutcomeTime',\n",
       "  'Decision_Rank'],\n",
       " 'sample_percentage_schema_inferencing': 0.01}"
      ]
     },
     "execution_count": 7,
     "metadata": {},
     "output_type": "execute_result"
    }
   ],
   "source": [
    "dict(zip(Config.__init__.__code__.co_varnames[1:], Config.__init__.__defaults__))"
   ]
  },
  {
   "attachments": {},
   "cell_type": "markdown",
   "metadata": {},
   "source": [
    "It's easy to change these parameters by just passing the keyword arguments. In the following example, we\n",
    "- Keep the IH predictor names\n",
    "- Keep the outcome values\n",
    "- Keep the context key values\n",
    "- Keep the context key predictor names"
   ]
  },
  {
   "cell_type": "code",
   "execution_count": 8,
   "metadata": {
    "execution": {
     "iopub.execute_input": "2024-04-15T12:07:05.697791Z",
     "iopub.status.busy": "2024-04-15T12:07:05.697410Z",
     "iopub.status.idle": "2024-04-15T12:07:05.705061Z",
     "shell.execute_reply": "2024-04-15T12:07:05.704618Z"
    }
   },
   "outputs": [
    {
     "data": {
      "text/html": [
       "<div><style>\n",
       ".dataframe > thead > tr,\n",
       ".dataframe > tbody > tr {\n",
       "  text-align: right;\n",
       "  white-space: pre-wrap;\n",
       "}\n",
       "</style>\n",
       "<small>shape: (7, 7)</small><table border=\"1\" class=\"dataframe\"><thead><tr><th>filename</th><th>PREDICTOR_1</th><th>PREDICTOR_2</th><th>PREDICTOR_3</th><th>Context_Name</th><th>IH_Web_Inbound_Accepted_pxLastGroupID</th><th>Decision_Outcome</th></tr><tr><td>str</td><td>f64</td><td>str</td><td>str</td><td>str</td><td>str</td><td>str</td></tr></thead><tbody><tr><td>&quot;../../../../da…</td><td>0.983033</td><td>&quot;11092292457853…</td><td>&quot;50341947693815…</td><td>&quot;FirstMortgage3…</td><td>&quot;48187139684324…</td><td>&quot;Rejected&quot;</td></tr><tr><td>&quot;../../../../da…</td><td>0.144221</td><td>&quot;44750233197729…</td><td>&quot;16182007178025…</td><td>&quot;FirstMortgage3…</td><td>&quot;18065876345323…</td><td>&quot;Accepted&quot;</td></tr><tr><td>&quot;../../../../da…</td><td>0.679745</td><td>&quot;11206293772999…</td><td>&quot;56415102783961…</td><td>&quot;MoneyMarketSav…</td><td>&quot;48187139684324…</td><td>&quot;Rejected&quot;</td></tr><tr><td>&quot;../../../../da…</td><td>1.0</td><td>&quot;44750233197729…</td><td>&quot;14777679553099…</td><td>&quot;BasicChecking&quot;</td><td>&quot;48187139684324…</td><td>&quot;Rejected&quot;</td></tr><tr><td>&quot;../../../../da…</td><td>0.718982</td><td>&quot;11092292457853…</td><td>&quot;17544931583175…</td><td>&quot;BasicChecking&quot;</td><td>&quot;16735609960521…</td><td>&quot;Accepted&quot;</td></tr><tr><td>&quot;../../../../da…</td><td>0.0</td><td>&quot;11206293772999…</td><td>&quot;23209049094547…</td><td>&quot;UPlusFinPerson…</td><td>null</td><td>&quot;Rejected&quot;</td></tr><tr><td>&quot;../../../../da…</td><td>0.02333</td><td>&quot;11206293772999…</td><td>&quot;13528634905035…</td><td>&quot;BasicChecking&quot;</td><td>&quot;16735609960521…</td><td>&quot;Rejected&quot;</td></tr></tbody></table></div>"
      ],
      "text/plain": [
       "shape: (7, 7)\n",
       "┌──────────────┬─────────────┬─────────────┬─────────────┬─────────────┬─────────────┬─────────────┐\n",
       "│ filename     ┆ PREDICTOR_1 ┆ PREDICTOR_2 ┆ PREDICTOR_3 ┆ Context_Nam ┆ IH_Web_Inbo ┆ Decision_Ou │\n",
       "│ ---          ┆ ---         ┆ ---         ┆ ---         ┆ e           ┆ und_Accepte ┆ tcome       │\n",
       "│ str          ┆ f64         ┆ str         ┆ str         ┆ ---         ┆ d_pxLastGr… ┆ ---         │\n",
       "│              ┆             ┆             ┆             ┆ str         ┆ ---         ┆ str         │\n",
       "│              ┆             ┆             ┆             ┆             ┆ str         ┆             │\n",
       "╞══════════════╪═════════════╪═════════════╪═════════════╪═════════════╪═════════════╪═════════════╡\n",
       "│ ../../../../ ┆ 0.983033    ┆ 11092292457 ┆ 50341947693 ┆ FirstMortga ┆ 48187139684 ┆ Rejected    │\n",
       "│ data/SampleH ┆             ┆ 853147706   ┆ 81554374    ┆ ge30yr      ┆ 32491735    ┆             │\n",
       "│ DS.json      ┆             ┆             ┆             ┆             ┆             ┆             │\n",
       "│ ../../../../ ┆ 0.144221    ┆ 44750233197 ┆ 16182007178 ┆ FirstMortga ┆ 18065876345 ┆ Accepted    │\n",
       "│ data/SampleH ┆             ┆ 72967934    ┆ 025505493   ┆ ge30yr      ┆ 32335582    ┆             │\n",
       "│ DS.json      ┆             ┆             ┆             ┆             ┆             ┆             │\n",
       "│ ../../../../ ┆ 0.679745    ┆ 11206293772 ┆ 56415102783 ┆ MoneyMarket ┆ 48187139684 ┆ Rejected    │\n",
       "│ data/SampleH ┆             ┆ 999344840   ┆ 96120068    ┆ SavingsAcco ┆ 32491735    ┆             │\n",
       "│ DS.json      ┆             ┆             ┆             ┆ unt         ┆             ┆             │\n",
       "│ ../../../../ ┆ 1.0         ┆ 44750233197 ┆ 14777679553 ┆ BasicChecki ┆ 48187139684 ┆ Rejected    │\n",
       "│ data/SampleH ┆             ┆ 72967934    ┆ 099380951   ┆ ng          ┆ 32491735    ┆             │\n",
       "│ DS.json      ┆             ┆             ┆             ┆             ┆             ┆             │\n",
       "│ ../../../../ ┆ 0.718982    ┆ 11092292457 ┆ 17544931583 ┆ BasicChecki ┆ 16735609960 ┆ Accepted    │\n",
       "│ data/SampleH ┆             ┆ 853147706   ┆ 175513742   ┆ ng          ┆ 52138307    ┆             │\n",
       "│ DS.json      ┆             ┆             ┆             ┆             ┆             ┆             │\n",
       "│ ../../../../ ┆ 0.0         ┆ 11206293772 ┆ 23209049094 ┆ UPlusFinPer ┆ null        ┆ Rejected    │\n",
       "│ data/SampleH ┆             ┆ 999344840   ┆ 54724937    ┆ sonal       ┆             ┆             │\n",
       "│ DS.json      ┆             ┆             ┆             ┆             ┆             ┆             │\n",
       "│ ../../../../ ┆ 0.02333     ┆ 11206293772 ┆ 13528634905 ┆ BasicChecki ┆ 16735609960 ┆ Rejected    │\n",
       "│ data/SampleH ┆             ┆ 999344840   ┆ 035970872   ┆ ng          ┆ 52138307    ┆             │\n",
       "│ DS.json      ┆             ┆             ┆             ┆             ┆             ┆             │\n",
       "└──────────────┴─────────────┴─────────────┴─────────────┴─────────────┴─────────────┴─────────────┘"
      ]
     },
     "execution_count": 8,
     "metadata": {},
     "output_type": "execute_result"
    }
   ],
   "source": [
    "anon = DataAnonymization(\n",
    "    hds_folder=\"../../../../data/\",\n",
    "    mask_ih_names=False,\n",
    "    mask_outcome_values=False,\n",
    "    mask_context_key_values=False,\n",
    "    mask_context_key_names=False,\n",
    ")\n",
    "anon.process()\n"
   ]
  },
  {
   "attachments": {},
   "cell_type": "markdown",
   "metadata": {},
   "source": [
    "The configs can also be written and read as such:"
   ]
  },
  {
   "cell_type": "code",
   "execution_count": 9,
   "metadata": {
    "execution": {
     "iopub.execute_input": "2024-04-15T12:07:05.707050Z",
     "iopub.status.busy": "2024-04-15T12:07:05.706727Z",
     "iopub.status.idle": "2024-04-15T12:07:05.709433Z",
     "shell.execute_reply": "2024-04-15T12:07:05.708994Z"
    }
   },
   "outputs": [],
   "source": [
    "anon.config.save_to_config_file('config.json')"
   ]
  },
  {
   "cell_type": "code",
   "execution_count": 10,
   "metadata": {
    "execution": {
     "iopub.execute_input": "2024-04-15T12:07:05.711369Z",
     "iopub.status.busy": "2024-04-15T12:07:05.711051Z",
     "iopub.status.idle": "2024-04-15T12:07:05.719024Z",
     "shell.execute_reply": "2024-04-15T12:07:05.718509Z"
    }
   },
   "outputs": [
    {
     "data": {
      "text/html": [
       "<div><style>\n",
       ".dataframe > thead > tr,\n",
       ".dataframe > tbody > tr {\n",
       "  text-align: right;\n",
       "  white-space: pre-wrap;\n",
       "}\n",
       "</style>\n",
       "<small>shape: (7, 7)</small><table border=\"1\" class=\"dataframe\"><thead><tr><th>filename</th><th>PREDICTOR_1</th><th>PREDICTOR_2</th><th>PREDICTOR_3</th><th>Context_Name</th><th>IH_Web_Inbound_Accepted_pxLastGroupID</th><th>Decision_Outcome</th></tr><tr><td>str</td><td>f64</td><td>str</td><td>str</td><td>str</td><td>str</td><td>str</td></tr></thead><tbody><tr><td>&quot;../../../../da…</td><td>0.983033</td><td>&quot;21857111409190…</td><td>&quot;58501827839619…</td><td>&quot;FirstMortgage3…</td><td>&quot;96345335742264…</td><td>&quot;Rejected&quot;</td></tr><tr><td>&quot;../../../../da…</td><td>0.144221</td><td>&quot;15929699332520…</td><td>&quot;16411158005903…</td><td>&quot;FirstMortgage3…</td><td>&quot;21278487074756…</td><td>&quot;Accepted&quot;</td></tr><tr><td>&quot;../../../../da…</td><td>0.679745</td><td>&quot;93119567777356…</td><td>&quot;84785521362207…</td><td>&quot;MoneyMarketSav…</td><td>&quot;96345335742264…</td><td>&quot;Rejected&quot;</td></tr><tr><td>&quot;../../../../da…</td><td>1.0</td><td>&quot;15929699332520…</td><td>&quot;11291379350897…</td><td>&quot;BasicChecking&quot;</td><td>&quot;96345335742264…</td><td>&quot;Rejected&quot;</td></tr><tr><td>&quot;../../../../da…</td><td>0.718982</td><td>&quot;21857111409190…</td><td>&quot;13633485781360…</td><td>&quot;BasicChecking&quot;</td><td>&quot;16091929067385…</td><td>&quot;Accepted&quot;</td></tr><tr><td>&quot;../../../../da…</td><td>0.0</td><td>&quot;93119567777356…</td><td>&quot;10631640587607…</td><td>&quot;UPlusFinPerson…</td><td>null</td><td>&quot;Rejected&quot;</td></tr><tr><td>&quot;../../../../da…</td><td>0.02333</td><td>&quot;93119567777356…</td><td>&quot;71873878467237…</td><td>&quot;BasicChecking&quot;</td><td>&quot;16091929067385…</td><td>&quot;Rejected&quot;</td></tr></tbody></table></div>"
      ],
      "text/plain": [
       "shape: (7, 7)\n",
       "┌──────────────┬─────────────┬─────────────┬─────────────┬─────────────┬─────────────┬─────────────┐\n",
       "│ filename     ┆ PREDICTOR_1 ┆ PREDICTOR_2 ┆ PREDICTOR_3 ┆ Context_Nam ┆ IH_Web_Inbo ┆ Decision_Ou │\n",
       "│ ---          ┆ ---         ┆ ---         ┆ ---         ┆ e           ┆ und_Accepte ┆ tcome       │\n",
       "│ str          ┆ f64         ┆ str         ┆ str         ┆ ---         ┆ d_pxLastGr… ┆ ---         │\n",
       "│              ┆             ┆             ┆             ┆ str         ┆ ---         ┆ str         │\n",
       "│              ┆             ┆             ┆             ┆             ┆ str         ┆             │\n",
       "╞══════════════╪═════════════╪═════════════╪═════════════╪═════════════╪═════════════╪═════════════╡\n",
       "│ ../../../../ ┆ 0.983033    ┆ 21857111409 ┆ 58501827839 ┆ FirstMortga ┆ 96345335742 ┆ Rejected    │\n",
       "│ data/SampleH ┆             ┆ 19064986    ┆ 61954799    ┆ ge30yr      ┆ 26487855    ┆             │\n",
       "│ DS.json      ┆             ┆             ┆             ┆             ┆             ┆             │\n",
       "│ ../../../../ ┆ 0.144221    ┆ 15929699332 ┆ 16411158005 ┆ FirstMortga ┆ 21278487074 ┆ Accepted    │\n",
       "│ data/SampleH ┆             ┆ 520642537   ┆ 903792070   ┆ ge30yr      ┆ 75645425    ┆             │\n",
       "│ DS.json      ┆             ┆             ┆             ┆             ┆             ┆             │\n",
       "│ ../../../../ ┆ 0.679745    ┆ 93119567777 ┆ 84785521362 ┆ MoneyMarket ┆ 96345335742 ┆ Rejected    │\n",
       "│ data/SampleH ┆             ┆ 35620148    ┆ 20725808    ┆ SavingsAcco ┆ 26487855    ┆             │\n",
       "│ DS.json      ┆             ┆             ┆             ┆ unt         ┆             ┆             │\n",
       "│ ../../../../ ┆ 1.0         ┆ 15929699332 ┆ 11291379350 ┆ BasicChecki ┆ 96345335742 ┆ Rejected    │\n",
       "│ data/SampleH ┆             ┆ 520642537   ┆ 897208141   ┆ ng          ┆ 26487855    ┆             │\n",
       "│ DS.json      ┆             ┆             ┆             ┆             ┆             ┆             │\n",
       "│ ../../../../ ┆ 0.718982    ┆ 21857111409 ┆ 13633485781 ┆ BasicChecki ┆ 16091929067 ┆ Accepted    │\n",
       "│ data/SampleH ┆             ┆ 19064986    ┆ 360652127   ┆ ng          ┆ 385098738   ┆             │\n",
       "│ DS.json      ┆             ┆             ┆             ┆             ┆             ┆             │\n",
       "│ ../../../../ ┆ 0.0         ┆ 93119567777 ┆ 10631640587 ┆ UPlusFinPer ┆ null        ┆ Rejected    │\n",
       "│ data/SampleH ┆             ┆ 35620148    ┆ 607972897   ┆ sonal       ┆             ┆             │\n",
       "│ DS.json      ┆             ┆             ┆             ┆             ┆             ┆             │\n",
       "│ ../../../../ ┆ 0.02333     ┆ 93119567777 ┆ 71873878467 ┆ BasicChecki ┆ 16091929067 ┆ Rejected    │\n",
       "│ data/SampleH ┆             ┆ 35620148    ┆ 23739495    ┆ ng          ┆ 385098738   ┆             │\n",
       "│ DS.json      ┆             ┆             ┆             ┆             ┆             ┆             │\n",
       "└──────────────┴─────────────┴─────────────┴─────────────┴─────────────┴─────────────┴─────────────┘"
      ]
     },
     "execution_count": 10,
     "metadata": {},
     "output_type": "execute_result"
    }
   ],
   "source": [
    "anon = DataAnonymization(config=Config(config_file='config.json'))\n",
    "anon.process()"
   ]
  },
  {
   "attachments": {},
   "cell_type": "markdown",
   "metadata": {},
   "source": [
    "## Exporting\n",
    "Two functions export:\n",
    "- `create_mapping_file()` writes the mapping file of the predictor names\n",
    "- `write_to_output()` writes the processed dataframe to disk\n",
    "\n",
    "Write to output accepts the following extensions: `[\"ndjson\", \"parquet\", \"arrow\", \"csv\"]`"
   ]
  },
  {
   "cell_type": "code",
   "execution_count": 11,
   "metadata": {
    "execution": {
     "iopub.execute_input": "2024-04-15T12:07:05.721127Z",
     "iopub.status.busy": "2024-04-15T12:07:05.720820Z",
     "iopub.status.idle": "2024-04-15T12:07:05.724151Z",
     "shell.execute_reply": "2024-04-15T12:07:05.723608Z"
    }
   },
   "outputs": [
    {
     "name": "stdout",
     "output_type": "stream",
     "text": [
      "filename=filename\n",
      "Customer_CLV=PREDICTOR_1\n",
      "Customer_MaritalStatus=PREDICTOR_2\n",
      "Customer_City=PREDICTOR_3\n",
      "Context_Name=Context_Name\n",
      "IH_Web_Inbound_Accepted_pxLastGroupID=IH_Web_Inbound_Accepted_pxLastGroupID\n",
      "Decision_Outcome=Decision_Outcome\n",
      "\n"
     ]
    }
   ],
   "source": [
    "anon.create_mapping_file()\n",
    "with open('mapping.map') as f:\n",
    "    print(f.read())"
   ]
  },
  {
   "cell_type": "code",
   "execution_count": 12,
   "metadata": {
    "execution": {
     "iopub.execute_input": "2024-04-15T12:07:05.726013Z",
     "iopub.status.busy": "2024-04-15T12:07:05.725723Z",
     "iopub.status.idle": "2024-04-15T12:07:05.729275Z",
     "shell.execute_reply": "2024-04-15T12:07:05.728739Z"
    }
   },
   "outputs": [],
   "source": [
    "anon.write_to_output(ext='arrow')"
   ]
  },
  {
   "cell_type": "code",
   "execution_count": 13,
   "metadata": {
    "execution": {
     "iopub.execute_input": "2024-04-15T12:07:05.731264Z",
     "iopub.status.busy": "2024-04-15T12:07:05.730849Z",
     "iopub.status.idle": "2024-04-15T12:07:05.735418Z",
     "shell.execute_reply": "2024-04-15T12:07:05.734981Z"
    }
   },
   "outputs": [
    {
     "data": {
      "text/html": [
       "<div><style>\n",
       ".dataframe > thead > tr,\n",
       ".dataframe > tbody > tr {\n",
       "  text-align: right;\n",
       "  white-space: pre-wrap;\n",
       "}\n",
       "</style>\n",
       "<small>shape: (7, 6)</small><table border=\"1\" class=\"dataframe\"><thead><tr><th>PREDICTOR_1</th><th>PREDICTOR_2</th><th>PREDICTOR_3</th><th>Context_Name</th><th>IH_Web_Inbound_Accepted_pxLastGroupID</th><th>Decision_Outcome</th></tr><tr><td>f64</td><td>str</td><td>str</td><td>str</td><td>str</td><td>str</td></tr></thead><tbody><tr><td>0.983033</td><td>&quot;13686919398513…</td><td>&quot;72959366638869…</td><td>&quot;FirstMortgage3…</td><td>&quot;72566773098919…</td><td>&quot;Rejected&quot;</td></tr><tr><td>0.144221</td><td>&quot;86438975486424…</td><td>&quot;40668026573728…</td><td>&quot;FirstMortgage3…</td><td>&quot;66444887132843…</td><td>&quot;Accepted&quot;</td></tr><tr><td>0.679745</td><td>&quot;14309242750737…</td><td>&quot;91133572366819…</td><td>&quot;MoneyMarketSav…</td><td>&quot;72566773098919…</td><td>&quot;Rejected&quot;</td></tr><tr><td>1.0</td><td>&quot;86438975486424…</td><td>&quot;73109584135671…</td><td>&quot;BasicChecking&quot;</td><td>&quot;72566773098919…</td><td>&quot;Rejected&quot;</td></tr><tr><td>0.718982</td><td>&quot;13686919398513…</td><td>&quot;69253245190037…</td><td>&quot;BasicChecking&quot;</td><td>&quot;71536781826709…</td><td>&quot;Accepted&quot;</td></tr><tr><td>0.0</td><td>&quot;14309242750737…</td><td>&quot;62096544634083…</td><td>&quot;UPlusFinPerson…</td><td>null</td><td>&quot;Rejected&quot;</td></tr><tr><td>0.02333</td><td>&quot;14309242750737…</td><td>&quot;98349458799446…</td><td>&quot;BasicChecking&quot;</td><td>&quot;71536781826709…</td><td>&quot;Rejected&quot;</td></tr></tbody></table></div>"
      ],
      "text/plain": [
       "shape: (7, 6)\n",
       "┌─────────────┬────────────────┬────────────────┬────────────────┬────────────────┬────────────────┐\n",
       "│ PREDICTOR_1 ┆ PREDICTOR_2    ┆ PREDICTOR_3    ┆ Context_Name   ┆ IH_Web_Inbound ┆ Decision_Outco │\n",
       "│ ---         ┆ ---            ┆ ---            ┆ ---            ┆ _Accepted_pxLa ┆ me             │\n",
       "│ f64         ┆ str            ┆ str            ┆ str            ┆ stGr…          ┆ ---            │\n",
       "│             ┆                ┆                ┆                ┆ ---            ┆ str            │\n",
       "│             ┆                ┆                ┆                ┆ str            ┆                │\n",
       "╞═════════════╪════════════════╪════════════════╪════════════════╪════════════════╪════════════════╡\n",
       "│ 0.983033    ┆ 13686919398513 ┆ 72959366638869 ┆ FirstMortgage3 ┆ 72566773098919 ┆ Rejected       │\n",
       "│             ┆ 977936         ┆ 62371          ┆ 0yr            ┆ 1923           ┆                │\n",
       "│ 0.144221    ┆ 86438975486424 ┆ 40668026573728 ┆ FirstMortgage3 ┆ 66444887132843 ┆ Accepted       │\n",
       "│             ┆ 578            ┆ 71578          ┆ 0yr            ┆ 80366          ┆                │\n",
       "│ 0.679745    ┆ 14309242750737 ┆ 91133572366819 ┆ MoneyMarketSav ┆ 72566773098919 ┆ Rejected       │\n",
       "│             ┆ 347263         ┆ 21674          ┆ ingsAccount    ┆ 1923           ┆                │\n",
       "│ 1.0         ┆ 86438975486424 ┆ 73109584135671 ┆ BasicChecking  ┆ 72566773098919 ┆ Rejected       │\n",
       "│             ┆ 578            ┆ 62667          ┆                ┆ 1923           ┆                │\n",
       "│ 0.718982    ┆ 13686919398513 ┆ 69253245190037 ┆ BasicChecking  ┆ 71536781826709 ┆ Accepted       │\n",
       "│             ┆ 977936         ┆ 55223          ┆                ┆ 35064          ┆                │\n",
       "│ 0.0         ┆ 14309242750737 ┆ 62096544634083 ┆ UPlusFinPerson ┆ null           ┆ Rejected       │\n",
       "│             ┆ 347263         ┆ 3755           ┆ al             ┆                ┆                │\n",
       "│ 0.02333     ┆ 14309242750737 ┆ 98349458799446 ┆ BasicChecking  ┆ 71536781826709 ┆ Rejected       │\n",
       "│             ┆ 347263         ┆ 57398          ┆                ┆ 35064          ┆                │\n",
       "└─────────────┴────────────────┴────────────────┴────────────────┴────────────────┴────────────────┘"
      ]
     },
     "execution_count": 13,
     "metadata": {},
     "output_type": "execute_result"
    }
   ],
   "source": [
    "pl.read_ipc('output/hds.arrow')"
   ]
  },
  {
   "attachments": {},
   "cell_type": "markdown",
   "metadata": {
    "nbsphinx": "hidden"
   },
   "source": [
    "## Advanced: Hash fuctions\n",
    "\n",
    "By default, we use [the same hashing algorithm Polars](https://pola-rs.github.io/polars/py-polars/html/reference/expressions/api/polars.Expr.hash.html#polars.Expr.hash) uses: [xxhash](https://github.com/Cyan4973/xxHash), as implemented [here](https://github.com/pola-rs/polars/blob/3f287f370b3c388ed2f3f218b2c096382548136f/polars/polars-core/src/vector_hasher.rs#L266). xxhash is fast to compute, and you can check its performance in collision, dispersion and randomness [here](https://github.com/Cyan4973/xxHash/tree/dev/tests). \n",
    "\n",
    "xxhash accepts four distinct seeds, but by default we set the seeds to `0`. It is possible to set the `seed` argument of the `process()` function to `'random'`, which will set all four seeds to a random integer between `0` and `1000000000`. Alternatively, it is possible to supply the four seeds manually with arguments `seed`, `seed_1`, `seed_2` and `seed_3`. \n",
    "\n",
    "If the xxhash with (random) seed(s) is not deemed sufficiently secure, it is possible to use your own hashing algorithm.\n",
    "\n",
    "Note that since we're now running python code and not native Polars code anymore, this will be _significantly_ slower. Nonetheless, it is possible.\n",
    "\n",
    "Just as an example - this is how one would use sha3_256:"
   ]
  },
  {
   "cell_type": "code",
   "execution_count": 14,
   "metadata": {
    "execution": {
     "iopub.execute_input": "2024-04-15T12:07:05.737426Z",
     "iopub.status.busy": "2024-04-15T12:07:05.737101Z",
     "iopub.status.idle": "2024-04-15T12:07:05.744516Z",
     "shell.execute_reply": "2024-04-15T12:07:05.744067Z"
    },
    "nbsphinx": "hidden"
   },
   "outputs": [
    {
     "data": {
      "text/html": [
       "<div><style>\n",
       ".dataframe > thead > tr,\n",
       ".dataframe > tbody > tr {\n",
       "  text-align: right;\n",
       "  white-space: pre-wrap;\n",
       "}\n",
       "</style>\n",
       "<small>shape: (7, 7)</small><table border=\"1\" class=\"dataframe\"><thead><tr><th>filename</th><th>PREDICTOR_1</th><th>PREDICTOR_2</th><th>PREDICTOR_3</th><th>Context_Name</th><th>IH_Web_Inbound_Accepted_pxLastGroupID</th><th>Decision_Outcome</th></tr><tr><td>str</td><td>f64</td><td>str</td><td>str</td><td>str</td><td>str</td><td>str</td></tr></thead><tbody><tr><td>&quot;../../../../da…</td><td>0.983033</td><td>&quot;af486bc1815c72…</td><td>&quot;c73023dda51de1…</td><td>&quot;FirstMortgage3…</td><td>&quot;2513d0e24d8d02…</td><td>&quot;Rejected&quot;</td></tr><tr><td>&quot;../../../../da…</td><td>0.144221</td><td>&quot;3cdf7b1ae1342e…</td><td>&quot;5414b197fb87b3…</td><td>&quot;FirstMortgage3…</td><td>&quot;8b55bf62fc2ecd…</td><td>&quot;Accepted&quot;</td></tr><tr><td>&quot;../../../../da…</td><td>0.679745</td><td>&quot;806ef34eb8237f…</td><td>&quot;892f5d61a9215e…</td><td>&quot;MoneyMarketSav…</td><td>&quot;2513d0e24d8d02…</td><td>&quot;Rejected&quot;</td></tr><tr><td>&quot;../../../../da…</td><td>1.0</td><td>&quot;3cdf7b1ae1342e…</td><td>&quot;c3aa807d9e927a…</td><td>&quot;BasicChecking&quot;</td><td>&quot;2513d0e24d8d02…</td><td>&quot;Rejected&quot;</td></tr><tr><td>&quot;../../../../da…</td><td>0.718982</td><td>&quot;af486bc1815c72…</td><td>&quot;c2d492f9a05073…</td><td>&quot;BasicChecking&quot;</td><td>&quot;1cd082ecbd5dd9…</td><td>&quot;Accepted&quot;</td></tr><tr><td>&quot;../../../../da…</td><td>0.0</td><td>&quot;806ef34eb8237f…</td><td>&quot;b21059221605c4…</td><td>&quot;UPlusFinPerson…</td><td>null</td><td>&quot;Rejected&quot;</td></tr><tr><td>&quot;../../../../da…</td><td>0.02333</td><td>&quot;806ef34eb8237f…</td><td>&quot;80cbe489dcecd4…</td><td>&quot;BasicChecking&quot;</td><td>&quot;1cd082ecbd5dd9…</td><td>&quot;Rejected&quot;</td></tr></tbody></table></div>"
      ],
      "text/plain": [
       "shape: (7, 7)\n",
       "┌──────────────┬─────────────┬─────────────┬─────────────┬─────────────┬─────────────┬─────────────┐\n",
       "│ filename     ┆ PREDICTOR_1 ┆ PREDICTOR_2 ┆ PREDICTOR_3 ┆ Context_Nam ┆ IH_Web_Inbo ┆ Decision_Ou │\n",
       "│ ---          ┆ ---         ┆ ---         ┆ ---         ┆ e           ┆ und_Accepte ┆ tcome       │\n",
       "│ str          ┆ f64         ┆ str         ┆ str         ┆ ---         ┆ d_pxLastGr… ┆ ---         │\n",
       "│              ┆             ┆             ┆             ┆ str         ┆ ---         ┆ str         │\n",
       "│              ┆             ┆             ┆             ┆             ┆ str         ┆             │\n",
       "╞══════════════╪═════════════╪═════════════╪═════════════╪═════════════╪═════════════╪═════════════╡\n",
       "│ ../../../../ ┆ 0.983033    ┆ af486bc1815 ┆ c73023dda51 ┆ FirstMortga ┆ 2513d0e24d8 ┆ Rejected    │\n",
       "│ data/SampleH ┆             ┆ c726c357890 ┆ de1b84f7af7 ┆ ge30yr      ┆ d0214eda4fb ┆             │\n",
       "│ DS.json      ┆             ┆ ac2a40ba98… ┆ 74fd6f8c73… ┆             ┆ 454447162b… ┆             │\n",
       "│ ../../../../ ┆ 0.144221    ┆ 3cdf7b1ae13 ┆ 5414b197fb8 ┆ FirstMortga ┆ 8b55bf62fc2 ┆ Accepted    │\n",
       "│ data/SampleH ┆             ┆ 42ef979ea2a ┆ 7b3f2e350d7 ┆ ge30yr      ┆ ecd16af97d4 ┆             │\n",
       "│ DS.json      ┆             ┆ 782541ad05… ┆ a74a840a81… ┆             ┆ 8e469362cf… ┆             │\n",
       "│ ../../../../ ┆ 0.679745    ┆ 806ef34eb82 ┆ 892f5d61a92 ┆ MoneyMarket ┆ 2513d0e24d8 ┆ Rejected    │\n",
       "│ data/SampleH ┆             ┆ 37f4db85004 ┆ 15ef985f3fa ┆ SavingsAcco ┆ d0214eda4fb ┆             │\n",
       "│ DS.json      ┆             ┆ e96dc471d8… ┆ 293d51c92e… ┆ unt         ┆ 454447162b… ┆             │\n",
       "│ ../../../../ ┆ 1.0         ┆ 3cdf7b1ae13 ┆ c3aa807d9e9 ┆ BasicChecki ┆ 2513d0e24d8 ┆ Rejected    │\n",
       "│ data/SampleH ┆             ┆ 42ef979ea2a ┆ 27ae426a89e ┆ ng          ┆ d0214eda4fb ┆             │\n",
       "│ DS.json      ┆             ┆ 782541ad05… ┆ 76a12b9160… ┆             ┆ 454447162b… ┆             │\n",
       "│ ../../../../ ┆ 0.718982    ┆ af486bc1815 ┆ c2d492f9a05 ┆ BasicChecki ┆ 1cd082ecbd5 ┆ Accepted    │\n",
       "│ data/SampleH ┆             ┆ c726c357890 ┆ 07327c14285 ┆ ng          ┆ dd95383b104 ┆             │\n",
       "│ DS.json      ┆             ┆ ac2a40ba98… ┆ e94e8ee54c… ┆             ┆ 65e395c1f7… ┆             │\n",
       "│ ../../../../ ┆ 0.0         ┆ 806ef34eb82 ┆ b2105922160 ┆ UPlusFinPer ┆ null        ┆ Rejected    │\n",
       "│ data/SampleH ┆             ┆ 37f4db85004 ┆ 5c49757cfe0 ┆ sonal       ┆             ┆             │\n",
       "│ DS.json      ┆             ┆ e96dc471d8… ┆ fee45640db… ┆             ┆             ┆             │\n",
       "│ ../../../../ ┆ 0.02333     ┆ 806ef34eb82 ┆ 80cbe489dce ┆ BasicChecki ┆ 1cd082ecbd5 ┆ Rejected    │\n",
       "│ data/SampleH ┆             ┆ 37f4db85004 ┆ cd4b9304898 ┆ ng          ┆ dd95383b104 ┆             │\n",
       "│ DS.json      ┆             ┆ e96dc471d8… ┆ c9986afeeb… ┆             ┆ 65e395c1f7… ┆             │\n",
       "└──────────────┴─────────────┴─────────────┴─────────────┴─────────────┴─────────────┴─────────────┘"
      ]
     },
     "execution_count": 14,
     "metadata": {},
     "output_type": "execute_result"
    }
   ],
   "source": [
    "from hashlib import sha3_256\n",
    "\n",
    "anon.process(algorithm=lambda x: sha3_256(x.encode()).hexdigest())"
   ]
  }
 ],
 "metadata": {
  "kernelspec": {
   "display_name": "Python 3",
   "language": "python",
   "name": "python3"
  },
  "language_info": {
   "codemirror_mode": {
    "name": "ipython",
    "version": 3
   },
   "file_extension": ".py",
   "mimetype": "text/x-python",
   "name": "python",
   "nbconvert_exporter": "python",
   "pygments_lexer": "ipython3",
   "version": "3.11.9"
  },
  "vscode": {
   "interpreter": {
    "hash": "aee8b7b246df8f9039afb4144a1f6fd8d2ca17a180786b69acc140d282b71a49"
   }
  }
 },
 "nbformat": 4,
 "nbformat_minor": 2
}
