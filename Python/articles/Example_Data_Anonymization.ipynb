{
 "cells": [
  {
   "attachments": {},
   "cell_type": "markdown",
   "metadata": {},
   "source": [
    "# Data Anonymization\n",
    "\n",
    "In Pega CDH 8.5 and up, it's now possible to record the historical data as seen by the Adaptive Models. See [this academy challenge](https://academy.pega.com/challenge/exporting-historical-data/v4) for reference. This historical data can be further used to experiment with offline models, but also to fine-tune the OOTB Gradient Boosting model. However, sharing this information with Pega can be sensitive as it contains raw predictor data. \n",
    "\n",
    "To this end, we provide a simple and transparent script to fully anonimize this dataset.\n",
    "\n",
    "The DataAnonymization script is now part of pdstools, and you can import it directly as such."
   ]
  },
  {
   "cell_type": "code",
   "execution_count": 1,
   "metadata": {
    "execution": {
     "iopub.execute_input": "2024-04-08T08:28:10.113417Z",
     "iopub.status.busy": "2024-04-08T08:28:10.112811Z",
     "iopub.status.idle": "2024-04-08T08:28:10.184563Z",
     "shell.execute_reply": "2024-04-08T08:28:10.184052Z"
    },
    "nbsphinx": "hidden"
   },
   "outputs": [],
   "source": [
    "# These lines are only for rendering in the docs, and are hidden through Jupyter tags\n",
    "# Do not run if you're running the notebook seperately\n",
    "\n",
    "import os  \n",
    "import sys\n",
    "import plotly.io as pio\n",
    "pio.renderers.default = \"notebook_connected\"\n",
    "\n",
    "sys.path.append(\"../../../\")\n",
    "sys.path.append('../../python')"
   ]
  },
  {
   "cell_type": "code",
   "execution_count": 2,
   "metadata": {
    "execution": {
     "iopub.execute_input": "2024-04-08T08:28:10.187030Z",
     "iopub.status.busy": "2024-04-08T08:28:10.186659Z",
     "iopub.status.idle": "2024-04-08T08:28:11.208958Z",
     "shell.execute_reply": "2024-04-08T08:28:11.208305Z"
    }
   },
   "outputs": [],
   "source": [
    "from pdstools import ADMDatamart\n",
    "from pdstools import Config, DataAnonymization\n",
    "import polars as pl"
   ]
  },
  {
   "attachments": {},
   "cell_type": "markdown",
   "metadata": {},
   "source": [
    "## Input data\n",
    "\n",
    "To demonstrate this process, we're going to anonymise this toy example dataframe:"
   ]
  },
  {
   "cell_type": "code",
   "execution_count": 3,
   "metadata": {
    "execution": {
     "iopub.execute_input": "2024-04-08T08:28:11.211618Z",
     "iopub.status.busy": "2024-04-08T08:28:11.211196Z",
     "iopub.status.idle": "2024-04-08T08:28:11.219159Z",
     "shell.execute_reply": "2024-04-08T08:28:11.218622Z"
    }
   },
   "outputs": [
    {
     "data": {
      "text/html": [
       "<div><style>\n",
       ".dataframe > thead > tr,\n",
       ".dataframe > tbody > tr {\n",
       "  text-align: right;\n",
       "  white-space: pre-wrap;\n",
       "}\n",
       "</style>\n",
       "<small>shape: (7, 6)</small><table border=\"1\" class=\"dataframe\"><thead><tr><th>Context_Name</th><th>Customer_MaritalStatus</th><th>Customer_CLV</th><th>Customer_City</th><th>IH_Web_Inbound_Accepted_pxLastGroupID</th><th>Decision_Outcome</th></tr><tr><td>str</td><td>str</td><td>i64</td><td>str</td><td>str</td><td>str</td></tr></thead><tbody><tr><td>&quot;FirstMortgage3…</td><td>&quot;Married&quot;</td><td>1460</td><td>&quot;Port Raoul&quot;</td><td>&quot;Account&quot;</td><td>&quot;Rejected&quot;</td></tr><tr><td>&quot;FirstMortgage3…</td><td>&quot;Unknown&quot;</td><td>669</td><td>&quot;Laurianneshire…</td><td>&quot;AutoLoans&quot;</td><td>&quot;Accepted&quot;</td></tr><tr><td>&quot;MoneyMarketSav…</td><td>&quot;No Resp+&quot;</td><td>1174</td><td>&quot;Jacobshaven&quot;</td><td>&quot;Account&quot;</td><td>&quot;Rejected&quot;</td></tr><tr><td>&quot;BasicChecking&quot;</td><td>&quot;Unknown&quot;</td><td>1476</td><td>&quot;Lindton&quot;</td><td>&quot;Account&quot;</td><td>&quot;Rejected&quot;</td></tr><tr><td>&quot;BasicChecking&quot;</td><td>&quot;Married&quot;</td><td>1211</td><td>&quot;South Jimmiesh…</td><td>&quot;DepositAccount…</td><td>&quot;Accepted&quot;</td></tr><tr><td>&quot;UPlusFinPerson…</td><td>&quot;No Resp+&quot;</td><td>533</td><td>&quot;Bergeville&quot;</td><td>null</td><td>&quot;Rejected&quot;</td></tr><tr><td>&quot;BasicChecking&quot;</td><td>&quot;No Resp+&quot;</td><td>555</td><td>&quot;Willyville&quot;</td><td>&quot;DepositAccount…</td><td>&quot;Rejected&quot;</td></tr></tbody></table></div>"
      ],
      "text/plain": [
       "shape: (7, 6)\n",
       "┌────────────────┬────────────────┬──────────────┬────────────────┬────────────────┬───────────────┐\n",
       "│ Context_Name   ┆ Customer_Marit ┆ Customer_CLV ┆ Customer_City  ┆ IH_Web_Inbound ┆ Decision_Outc │\n",
       "│ ---            ┆ alStatus       ┆ ---          ┆ ---            ┆ _Accepted_pxLa ┆ ome           │\n",
       "│ str            ┆ ---            ┆ i64          ┆ str            ┆ stGr…          ┆ ---           │\n",
       "│                ┆ str            ┆              ┆                ┆ ---            ┆ str           │\n",
       "│                ┆                ┆              ┆                ┆ str            ┆               │\n",
       "╞════════════════╪════════════════╪══════════════╪════════════════╪════════════════╪═══════════════╡\n",
       "│ FirstMortgage3 ┆ Married        ┆ 1460         ┆ Port Raoul     ┆ Account        ┆ Rejected      │\n",
       "│ 0yr            ┆                ┆              ┆                ┆                ┆               │\n",
       "│ FirstMortgage3 ┆ Unknown        ┆ 669          ┆ Laurianneshire ┆ AutoLoans      ┆ Accepted      │\n",
       "│ 0yr            ┆                ┆              ┆                ┆                ┆               │\n",
       "│ MoneyMarketSav ┆ No Resp+       ┆ 1174         ┆ Jacobshaven    ┆ Account        ┆ Rejected      │\n",
       "│ ingsAccount    ┆                ┆              ┆                ┆                ┆               │\n",
       "│ BasicChecking  ┆ Unknown        ┆ 1476         ┆ Lindton        ┆ Account        ┆ Rejected      │\n",
       "│ BasicChecking  ┆ Married        ┆ 1211         ┆ South          ┆ DepositAccount ┆ Accepted      │\n",
       "│                ┆                ┆              ┆ Jimmieshire    ┆ s              ┆               │\n",
       "│ UPlusFinPerson ┆ No Resp+       ┆ 533          ┆ Bergeville     ┆ null           ┆ Rejected      │\n",
       "│ al             ┆                ┆              ┆                ┆                ┆               │\n",
       "│ BasicChecking  ┆ No Resp+       ┆ 555          ┆ Willyville     ┆ DepositAccount ┆ Rejected      │\n",
       "│                ┆                ┆              ┆                ┆ s              ┆               │\n",
       "└────────────────┴────────────────┴──────────────┴────────────────┴────────────────┴───────────────┘"
      ]
     },
     "execution_count": 3,
     "metadata": {},
     "output_type": "execute_result"
    }
   ],
   "source": [
    "pl.read_ndjson('../../../../data/SampleHDS.json')"
   ]
  },
  {
   "attachments": {},
   "cell_type": "markdown",
   "metadata": {},
   "source": [
    "As you can see, this dataset consists of regular predictors, IH predictors, context keys and the outcome column. Additionally, some columns are numeric, others are strings. Let's first initialize the DataAnonymization class."
   ]
  },
  {
   "cell_type": "code",
   "execution_count": 4,
   "metadata": {
    "execution": {
     "iopub.execute_input": "2024-04-08T08:28:11.221284Z",
     "iopub.status.busy": "2024-04-08T08:28:11.220949Z",
     "iopub.status.idle": "2024-04-08T08:28:11.226795Z",
     "shell.execute_reply": "2024-04-08T08:28:11.226386Z"
    }
   },
   "outputs": [],
   "source": [
    "anon = DataAnonymization(hds_folder='../../../../data/')"
   ]
  },
  {
   "attachments": {},
   "cell_type": "markdown",
   "metadata": {},
   "source": [
    "By default, the class applies a set of anonymisation techniques:\n",
    "- Column names are remapped to a non-descriptive name\n",
    "- Categorical values are hashed with a random seed\n",
    "- Numerical values are normalized between 0 and 1\n",
    "- Outcomes are mapped to a binary outcome.\n",
    "\n",
    "To apply these techniques, simply call `.process()`:"
   ]
  },
  {
   "cell_type": "code",
   "execution_count": 5,
   "metadata": {
    "execution": {
     "iopub.execute_input": "2024-04-08T08:28:11.228973Z",
     "iopub.status.busy": "2024-04-08T08:28:11.228575Z",
     "iopub.status.idle": "2024-04-08T08:28:11.234092Z",
     "shell.execute_reply": "2024-04-08T08:28:11.233548Z"
    }
   },
   "outputs": [
    {
     "data": {
      "text/html": [
       "<div><style>\n",
       ".dataframe > thead > tr,\n",
       ".dataframe > tbody > tr {\n",
       "  text-align: right;\n",
       "  white-space: pre-wrap;\n",
       "}\n",
       "</style>\n",
       "<small>shape: (7, 7)</small><table border=\"1\" class=\"dataframe\"><thead><tr><th>PREDICTOR_0</th><th>filename</th><th>PREDICTOR_2</th><th>PREDICTOR_3</th><th>Context_Name</th><th>IH_PREDICTOR_0</th><th>Decision_Outcome</th></tr><tr><td>f64</td><td>str</td><td>str</td><td>str</td><td>str</td><td>str</td><td>bool</td></tr></thead><tbody><tr><td>0.983033</td><td>&quot;../../../../da…</td><td>&quot;11671200884189…</td><td>&quot;91640726718368…</td><td>&quot;13211218634510…</td><td>&quot;11677416372389…</td><td>false</td></tr><tr><td>0.144221</td><td>&quot;../../../../da…</td><td>&quot;91294119658649…</td><td>&quot;72034408193519…</td><td>&quot;13211218634510…</td><td>&quot;20573202545895…</td><td>true</td></tr><tr><td>0.679745</td><td>&quot;../../../../da…</td><td>&quot;11376928002966…</td><td>&quot;17187169143002…</td><td>&quot;12242721041436…</td><td>&quot;11677416372389…</td><td>false</td></tr><tr><td>1.0</td><td>&quot;../../../../da…</td><td>&quot;91294119658649…</td><td>&quot;17384847226213…</td><td>&quot;24434699689787…</td><td>&quot;11677416372389…</td><td>false</td></tr><tr><td>0.718982</td><td>&quot;../../../../da…</td><td>&quot;11671200884189…</td><td>&quot;76217144762438…</td><td>&quot;24434699689787…</td><td>&quot;33972047121872…</td><td>true</td></tr><tr><td>0.0</td><td>&quot;../../../../da…</td><td>&quot;11376928002966…</td><td>&quot;13237975058790…</td><td>&quot;11201485653184…</td><td>null</td><td>false</td></tr><tr><td>0.02333</td><td>&quot;../../../../da…</td><td>&quot;11376928002966…</td><td>&quot;15221266732673…</td><td>&quot;24434699689787…</td><td>&quot;33972047121872…</td><td>false</td></tr></tbody></table></div>"
      ],
      "text/plain": [
       "shape: (7, 7)\n",
       "┌─────────────┬──────────────┬─────────────┬─────────────┬─────────────┬─────────────┬─────────────┐\n",
       "│ PREDICTOR_0 ┆ filename     ┆ PREDICTOR_2 ┆ PREDICTOR_3 ┆ Context_Nam ┆ IH_PREDICTO ┆ Decision_Ou │\n",
       "│ ---         ┆ ---          ┆ ---         ┆ ---         ┆ e           ┆ R_0         ┆ tcome       │\n",
       "│ f64         ┆ str          ┆ str         ┆ str         ┆ ---         ┆ ---         ┆ ---         │\n",
       "│             ┆              ┆             ┆             ┆ str         ┆ str         ┆ bool        │\n",
       "╞═════════════╪══════════════╪═════════════╪═════════════╪═════════════╪═════════════╪═════════════╡\n",
       "│ 0.983033    ┆ ../../../../ ┆ 11671200884 ┆ 91640726718 ┆ 13211218634 ┆ 11677416372 ┆ false       │\n",
       "│             ┆ data/SampleH ┆ 189397596   ┆ 36834590    ┆ 510103587   ┆ 389181378   ┆             │\n",
       "│             ┆ DS.json      ┆             ┆             ┆             ┆             ┆             │\n",
       "│ 0.144221    ┆ ../../../../ ┆ 91294119658 ┆ 72034408193 ┆ 13211218634 ┆ 20573202545 ┆ true        │\n",
       "│             ┆ data/SampleH ┆ 64956251    ┆ 51965619    ┆ 510103587   ┆ 89538105    ┆             │\n",
       "│             ┆ DS.json      ┆             ┆             ┆             ┆             ┆             │\n",
       "│ 0.679745    ┆ ../../../../ ┆ 11376928002 ┆ 17187169143 ┆ 12242721041 ┆ 11677416372 ┆ false       │\n",
       "│             ┆ data/SampleH ┆ 966676485   ┆ 002385523   ┆ 436161175   ┆ 389181378   ┆             │\n",
       "│             ┆ DS.json      ┆             ┆             ┆             ┆             ┆             │\n",
       "│ 1.0         ┆ ../../../../ ┆ 91294119658 ┆ 17384847226 ┆ 24434699689 ┆ 11677416372 ┆ false       │\n",
       "│             ┆ data/SampleH ┆ 64956251    ┆ 213053007   ┆ 78783362    ┆ 389181378   ┆             │\n",
       "│             ┆ DS.json      ┆             ┆             ┆             ┆             ┆             │\n",
       "│ 0.718982    ┆ ../../../../ ┆ 11671200884 ┆ 76217144762 ┆ 24434699689 ┆ 33972047121 ┆ true        │\n",
       "│             ┆ data/SampleH ┆ 189397596   ┆ 43881873    ┆ 78783362    ┆ 87264407    ┆             │\n",
       "│             ┆ DS.json      ┆             ┆             ┆             ┆             ┆             │\n",
       "│ 0.0         ┆ ../../../../ ┆ 11376928002 ┆ 13237975058 ┆ 11201485653 ┆ null        ┆ false       │\n",
       "│             ┆ data/SampleH ┆ 966676485   ┆ 79074545    ┆ 184892614   ┆             ┆             │\n",
       "│             ┆ DS.json      ┆             ┆             ┆             ┆             ┆             │\n",
       "│ 0.02333     ┆ ../../../../ ┆ 11376928002 ┆ 15221266732 ┆ 24434699689 ┆ 33972047121 ┆ false       │\n",
       "│             ┆ data/SampleH ┆ 966676485   ┆ 673765178   ┆ 78783362    ┆ 87264407    ┆             │\n",
       "│             ┆ DS.json      ┆             ┆             ┆             ┆             ┆             │\n",
       "└─────────────┴──────────────┴─────────────┴─────────────┴─────────────┴─────────────┴─────────────┘"
      ]
     },
     "execution_count": 5,
     "metadata": {},
     "output_type": "execute_result"
    }
   ],
   "source": [
    "anon.process()"
   ]
  },
  {
   "attachments": {},
   "cell_type": "markdown",
   "metadata": {},
   "source": [
    "To trace back the columns to their original names, the class also contains a mapping, which does not have to be provided."
   ]
  },
  {
   "cell_type": "code",
   "execution_count": 6,
   "metadata": {
    "execution": {
     "iopub.execute_input": "2024-04-08T08:28:11.236274Z",
     "iopub.status.busy": "2024-04-08T08:28:11.235882Z",
     "iopub.status.idle": "2024-04-08T08:28:11.239549Z",
     "shell.execute_reply": "2024-04-08T08:28:11.239011Z"
    }
   },
   "outputs": [
    {
     "data": {
      "text/plain": [
       "{'Customer_CLV': 'PREDICTOR_0',\n",
       " 'filename': 'filename',\n",
       " 'Customer_MaritalStatus': 'PREDICTOR_2',\n",
       " 'Customer_City': 'PREDICTOR_3',\n",
       " 'Context_Name': 'Context_Name',\n",
       " 'IH_Web_Inbound_Accepted_pxLastGroupID': 'IH_PREDICTOR_0',\n",
       " 'Decision_Outcome': 'Decision_Outcome'}"
      ]
     },
     "execution_count": 6,
     "metadata": {},
     "output_type": "execute_result"
    }
   ],
   "source": [
    "anon.column_mapping"
   ]
  },
  {
   "attachments": {},
   "cell_type": "markdown",
   "metadata": {},
   "source": [
    "## Configs\n",
    "\n",
    "Each capability can optionally be turned off - see below for the full list of config options, and refer to the API reference for the full description."
   ]
  },
  {
   "cell_type": "code",
   "execution_count": 7,
   "metadata": {
    "execution": {
     "iopub.execute_input": "2024-04-08T08:28:11.241630Z",
     "iopub.status.busy": "2024-04-08T08:28:11.241322Z",
     "iopub.status.idle": "2024-04-08T08:28:11.245363Z",
     "shell.execute_reply": "2024-04-08T08:28:11.244828Z"
    }
   },
   "outputs": [
    {
     "data": {
      "text/plain": [
       "{'config_file': None,\n",
       " 'hds_folder': '.',\n",
       " 'use_datamart': False,\n",
       " 'datamart_folder': 'datamart',\n",
       " 'output_format': 'ndjson',\n",
       " 'output_folder': 'output',\n",
       " 'mapping_file': 'mapping.map',\n",
       " 'mask_predictor_names': True,\n",
       " 'mask_context_key_names': False,\n",
       " 'mask_ih_names': True,\n",
       " 'mask_outcome_name': False,\n",
       " 'mask_predictor_values': True,\n",
       " 'mask_context_key_values': True,\n",
       " 'mask_ih_values': True,\n",
       " 'mask_outcome_values': True,\n",
       " 'context_key_label': 'Context_*',\n",
       " 'ih_label': 'IH_*',\n",
       " 'outcome_column': 'Decision_Outcome',\n",
       " 'positive_outcomes': ['Accepted', 'Clicked'],\n",
       " 'negative_outcomes': ['Rejected', 'Impression'],\n",
       " 'special_predictors': ['Decision_DecisionTime',\n",
       "  'Decision_OutcomeTime',\n",
       "  'Decision_Rank'],\n",
       " 'sample_percentage_schema_inferencing': 0.01}"
      ]
     },
     "execution_count": 7,
     "metadata": {},
     "output_type": "execute_result"
    }
   ],
   "source": [
    "dict(zip(Config.__init__.__code__.co_varnames[1:], Config.__init__.__defaults__))"
   ]
  },
  {
   "attachments": {},
   "cell_type": "markdown",
   "metadata": {},
   "source": [
    "It's easy to change these parameters by just passing the keyword arguments. In the following example, we\n",
    "- Keep the IH predictor names\n",
    "- Keep the outcome values\n",
    "- Keep the context key values\n",
    "- Keep the context key predictor names"
   ]
  },
  {
   "cell_type": "code",
   "execution_count": 8,
   "metadata": {
    "execution": {
     "iopub.execute_input": "2024-04-08T08:28:11.247232Z",
     "iopub.status.busy": "2024-04-08T08:28:11.247056Z",
     "iopub.status.idle": "2024-04-08T08:28:11.254737Z",
     "shell.execute_reply": "2024-04-08T08:28:11.254302Z"
    }
   },
   "outputs": [
    {
     "data": {
      "text/html": [
       "<div><style>\n",
       ".dataframe > thead > tr,\n",
       ".dataframe > tbody > tr {\n",
       "  text-align: right;\n",
       "  white-space: pre-wrap;\n",
       "}\n",
       "</style>\n",
       "<small>shape: (7, 7)</small><table border=\"1\" class=\"dataframe\"><thead><tr><th>PREDICTOR_0</th><th>filename</th><th>PREDICTOR_2</th><th>PREDICTOR_3</th><th>Context_Name</th><th>IH_Web_Inbound_Accepted_pxLastGroupID</th><th>Decision_Outcome</th></tr><tr><td>f64</td><td>str</td><td>str</td><td>str</td><td>str</td><td>str</td><td>str</td></tr></thead><tbody><tr><td>0.983033</td><td>&quot;../../../../da…</td><td>&quot;87211407765889…</td><td>&quot;15636757365444…</td><td>&quot;FirstMortgage3…</td><td>&quot;31994863079766…</td><td>&quot;Rejected&quot;</td></tr><tr><td>0.144221</td><td>&quot;../../../../da…</td><td>&quot;14827426443313…</td><td>&quot;16061509756808…</td><td>&quot;FirstMortgage3…</td><td>&quot;10882223958817…</td><td>&quot;Accepted&quot;</td></tr><tr><td>0.679745</td><td>&quot;../../../../da…</td><td>&quot;60216918437190…</td><td>&quot;12758509480611…</td><td>&quot;MoneyMarketSav…</td><td>&quot;31994863079766…</td><td>&quot;Rejected&quot;</td></tr><tr><td>1.0</td><td>&quot;../../../../da…</td><td>&quot;14827426443313…</td><td>&quot;33302119832023…</td><td>&quot;BasicChecking&quot;</td><td>&quot;31994863079766…</td><td>&quot;Rejected&quot;</td></tr><tr><td>0.718982</td><td>&quot;../../../../da…</td><td>&quot;87211407765889…</td><td>&quot;18422447300973…</td><td>&quot;BasicChecking&quot;</td><td>&quot;95609170324871…</td><td>&quot;Accepted&quot;</td></tr><tr><td>0.0</td><td>&quot;../../../../da…</td><td>&quot;60216918437190…</td><td>&quot;14092580028975…</td><td>&quot;UPlusFinPerson…</td><td>null</td><td>&quot;Rejected&quot;</td></tr><tr><td>0.02333</td><td>&quot;../../../../da…</td><td>&quot;60216918437190…</td><td>&quot;16501551279156…</td><td>&quot;BasicChecking&quot;</td><td>&quot;95609170324871…</td><td>&quot;Rejected&quot;</td></tr></tbody></table></div>"
      ],
      "text/plain": [
       "shape: (7, 7)\n",
       "┌─────────────┬──────────────┬─────────────┬─────────────┬─────────────┬─────────────┬─────────────┐\n",
       "│ PREDICTOR_0 ┆ filename     ┆ PREDICTOR_2 ┆ PREDICTOR_3 ┆ Context_Nam ┆ IH_Web_Inbo ┆ Decision_Ou │\n",
       "│ ---         ┆ ---          ┆ ---         ┆ ---         ┆ e           ┆ und_Accepte ┆ tcome       │\n",
       "│ f64         ┆ str          ┆ str         ┆ str         ┆ ---         ┆ d_pxLastGr… ┆ ---         │\n",
       "│             ┆              ┆             ┆             ┆ str         ┆ ---         ┆ str         │\n",
       "│             ┆              ┆             ┆             ┆             ┆ str         ┆             │\n",
       "╞═════════════╪══════════════╪═════════════╪═════════════╪═════════════╪═════════════╪═════════════╡\n",
       "│ 0.983033    ┆ ../../../../ ┆ 87211407765 ┆ 15636757365 ┆ FirstMortga ┆ 31994863079 ┆ Rejected    │\n",
       "│             ┆ data/SampleH ┆ 88919348    ┆ 444756436   ┆ ge30yr      ┆ 76678253    ┆             │\n",
       "│             ┆ DS.json      ┆             ┆             ┆             ┆             ┆             │\n",
       "│ 0.144221    ┆ ../../../../ ┆ 14827426443 ┆ 16061509756 ┆ FirstMortga ┆ 10882223958 ┆ Accepted    │\n",
       "│             ┆ data/SampleH ┆ 313744551   ┆ 80801872    ┆ ge30yr      ┆ 817398954   ┆             │\n",
       "│             ┆ DS.json      ┆             ┆             ┆             ┆             ┆             │\n",
       "│ 0.679745    ┆ ../../../../ ┆ 60216918437 ┆ 12758509480 ┆ MoneyMarket ┆ 31994863079 ┆ Rejected    │\n",
       "│             ┆ data/SampleH ┆ 19078718    ┆ 611067477   ┆ SavingsAcco ┆ 76678253    ┆             │\n",
       "│             ┆ DS.json      ┆             ┆             ┆ unt         ┆             ┆             │\n",
       "│ 1.0         ┆ ../../../../ ┆ 14827426443 ┆ 33302119832 ┆ BasicChecki ┆ 31994863079 ┆ Rejected    │\n",
       "│             ┆ data/SampleH ┆ 313744551   ┆ 02385069    ┆ ng          ┆ 76678253    ┆             │\n",
       "│             ┆ DS.json      ┆             ┆             ┆             ┆             ┆             │\n",
       "│ 0.718982    ┆ ../../../../ ┆ 87211407765 ┆ 18422447300 ┆ BasicChecki ┆ 95609170324 ┆ Accepted    │\n",
       "│             ┆ data/SampleH ┆ 88919348    ┆ 973123430   ┆ ng          ┆ 87166471    ┆             │\n",
       "│             ┆ DS.json      ┆             ┆             ┆             ┆             ┆             │\n",
       "│ 0.0         ┆ ../../../../ ┆ 60216918437 ┆ 14092580028 ┆ UPlusFinPer ┆ null        ┆ Rejected    │\n",
       "│             ┆ data/SampleH ┆ 19078718    ┆ 975227278   ┆ sonal       ┆             ┆             │\n",
       "│             ┆ DS.json      ┆             ┆             ┆             ┆             ┆             │\n",
       "│ 0.02333     ┆ ../../../../ ┆ 60216918437 ┆ 16501551279 ┆ BasicChecki ┆ 95609170324 ┆ Rejected    │\n",
       "│             ┆ data/SampleH ┆ 19078718    ┆ 156205632   ┆ ng          ┆ 87166471    ┆             │\n",
       "│             ┆ DS.json      ┆             ┆             ┆             ┆             ┆             │\n",
       "└─────────────┴──────────────┴─────────────┴─────────────┴─────────────┴─────────────┴─────────────┘"
      ]
     },
     "execution_count": 8,
     "metadata": {},
     "output_type": "execute_result"
    }
   ],
   "source": [
    "anon = DataAnonymization(\n",
    "    hds_folder=\"../../../../data/\",\n",
    "    mask_ih_names=False,\n",
    "    mask_outcome_values=False,\n",
    "    mask_context_key_values=False,\n",
    "    mask_context_key_names=False,\n",
    ")\n",
    "anon.process()\n"
   ]
  },
  {
   "attachments": {},
   "cell_type": "markdown",
   "metadata": {},
   "source": [
    "The configs can also be written and read as such:"
   ]
  },
  {
   "cell_type": "code",
   "execution_count": 9,
   "metadata": {
    "execution": {
     "iopub.execute_input": "2024-04-08T08:28:11.256643Z",
     "iopub.status.busy": "2024-04-08T08:28:11.256315Z",
     "iopub.status.idle": "2024-04-08T08:28:11.259117Z",
     "shell.execute_reply": "2024-04-08T08:28:11.258695Z"
    }
   },
   "outputs": [],
   "source": [
    "anon.config.save_to_config_file('config.json')"
   ]
  },
  {
   "cell_type": "code",
   "execution_count": 10,
   "metadata": {
    "execution": {
     "iopub.execute_input": "2024-04-08T08:28:11.261117Z",
     "iopub.status.busy": "2024-04-08T08:28:11.260780Z",
     "iopub.status.idle": "2024-04-08T08:28:11.268576Z",
     "shell.execute_reply": "2024-04-08T08:28:11.268057Z"
    }
   },
   "outputs": [
    {
     "data": {
      "text/html": [
       "<div><style>\n",
       ".dataframe > thead > tr,\n",
       ".dataframe > tbody > tr {\n",
       "  text-align: right;\n",
       "  white-space: pre-wrap;\n",
       "}\n",
       "</style>\n",
       "<small>shape: (7, 7)</small><table border=\"1\" class=\"dataframe\"><thead><tr><th>PREDICTOR_0</th><th>filename</th><th>PREDICTOR_2</th><th>PREDICTOR_3</th><th>Context_Name</th><th>IH_Web_Inbound_Accepted_pxLastGroupID</th><th>Decision_Outcome</th></tr><tr><td>f64</td><td>str</td><td>str</td><td>str</td><td>str</td><td>str</td><td>str</td></tr></thead><tbody><tr><td>0.983033</td><td>&quot;../../../../da…</td><td>&quot;70351932222699…</td><td>&quot;58333950518766…</td><td>&quot;FirstMortgage3…</td><td>&quot;42355577160528…</td><td>&quot;Rejected&quot;</td></tr><tr><td>0.144221</td><td>&quot;../../../../da…</td><td>&quot;14398682168795…</td><td>&quot;13406412452339…</td><td>&quot;FirstMortgage3…</td><td>&quot;12298051147893…</td><td>&quot;Accepted&quot;</td></tr><tr><td>0.679745</td><td>&quot;../../../../da…</td><td>&quot;17032659558441…</td><td>&quot;16739956289374…</td><td>&quot;MoneyMarketSav…</td><td>&quot;42355577160528…</td><td>&quot;Rejected&quot;</td></tr><tr><td>1.0</td><td>&quot;../../../../da…</td><td>&quot;14398682168795…</td><td>&quot;11730224244444…</td><td>&quot;BasicChecking&quot;</td><td>&quot;42355577160528…</td><td>&quot;Rejected&quot;</td></tr><tr><td>0.718982</td><td>&quot;../../../../da…</td><td>&quot;70351932222699…</td><td>&quot;74758509249330…</td><td>&quot;BasicChecking&quot;</td><td>&quot;12354541975117…</td><td>&quot;Accepted&quot;</td></tr><tr><td>0.0</td><td>&quot;../../../../da…</td><td>&quot;17032659558441…</td><td>&quot;65264461175144…</td><td>&quot;UPlusFinPerson…</td><td>null</td><td>&quot;Rejected&quot;</td></tr><tr><td>0.02333</td><td>&quot;../../../../da…</td><td>&quot;17032659558441…</td><td>&quot;10670839543086…</td><td>&quot;BasicChecking&quot;</td><td>&quot;12354541975117…</td><td>&quot;Rejected&quot;</td></tr></tbody></table></div>"
      ],
      "text/plain": [
       "shape: (7, 7)\n",
       "┌─────────────┬──────────────┬─────────────┬─────────────┬─────────────┬─────────────┬─────────────┐\n",
       "│ PREDICTOR_0 ┆ filename     ┆ PREDICTOR_2 ┆ PREDICTOR_3 ┆ Context_Nam ┆ IH_Web_Inbo ┆ Decision_Ou │\n",
       "│ ---         ┆ ---          ┆ ---         ┆ ---         ┆ e           ┆ und_Accepte ┆ tcome       │\n",
       "│ f64         ┆ str          ┆ str         ┆ str         ┆ ---         ┆ d_pxLastGr… ┆ ---         │\n",
       "│             ┆              ┆             ┆             ┆ str         ┆ ---         ┆ str         │\n",
       "│             ┆              ┆             ┆             ┆             ┆ str         ┆             │\n",
       "╞═════════════╪══════════════╪═════════════╪═════════════╪═════════════╪═════════════╪═════════════╡\n",
       "│ 0.983033    ┆ ../../../../ ┆ 70351932222 ┆ 58333950518 ┆ FirstMortga ┆ 42355577160 ┆ Rejected    │\n",
       "│             ┆ data/SampleH ┆ 69915958    ┆ 76602473    ┆ ge30yr      ┆ 52827088    ┆             │\n",
       "│             ┆ DS.json      ┆             ┆             ┆             ┆             ┆             │\n",
       "│ 0.144221    ┆ ../../../../ ┆ 14398682168 ┆ 13406412452 ┆ FirstMortga ┆ 12298051147 ┆ Accepted    │\n",
       "│             ┆ data/SampleH ┆ 795934455   ┆ 339792363   ┆ ge30yr      ┆ 893602291   ┆             │\n",
       "│             ┆ DS.json      ┆             ┆             ┆             ┆             ┆             │\n",
       "│ 0.679745    ┆ ../../../../ ┆ 17032659558 ┆ 16739956289 ┆ MoneyMarket ┆ 42355577160 ┆ Rejected    │\n",
       "│             ┆ data/SampleH ┆ 441650657   ┆ 374410409   ┆ SavingsAcco ┆ 52827088    ┆             │\n",
       "│             ┆ DS.json      ┆             ┆             ┆ unt         ┆             ┆             │\n",
       "│ 1.0         ┆ ../../../../ ┆ 14398682168 ┆ 11730224244 ┆ BasicChecki ┆ 42355577160 ┆ Rejected    │\n",
       "│             ┆ data/SampleH ┆ 795934455   ┆ 44416698    ┆ ng          ┆ 52827088    ┆             │\n",
       "│             ┆ DS.json      ┆             ┆             ┆             ┆             ┆             │\n",
       "│ 0.718982    ┆ ../../../../ ┆ 70351932222 ┆ 74758509249 ┆ BasicChecki ┆ 12354541975 ┆ Accepted    │\n",
       "│             ┆ data/SampleH ┆ 69915958    ┆ 33003152    ┆ ng          ┆ 117563794   ┆             │\n",
       "│             ┆ DS.json      ┆             ┆             ┆             ┆             ┆             │\n",
       "│ 0.0         ┆ ../../../../ ┆ 17032659558 ┆ 65264461175 ┆ UPlusFinPer ┆ null        ┆ Rejected    │\n",
       "│             ┆ data/SampleH ┆ 441650657   ┆ 14470285    ┆ sonal       ┆             ┆             │\n",
       "│             ┆ DS.json      ┆             ┆             ┆             ┆             ┆             │\n",
       "│ 0.02333     ┆ ../../../../ ┆ 17032659558 ┆ 10670839543 ┆ BasicChecki ┆ 12354541975 ┆ Rejected    │\n",
       "│             ┆ data/SampleH ┆ 441650657   ┆ 086372050   ┆ ng          ┆ 117563794   ┆             │\n",
       "│             ┆ DS.json      ┆             ┆             ┆             ┆             ┆             │\n",
       "└─────────────┴──────────────┴─────────────┴─────────────┴─────────────┴─────────────┴─────────────┘"
      ]
     },
     "execution_count": 10,
     "metadata": {},
     "output_type": "execute_result"
    }
   ],
   "source": [
    "anon = DataAnonymization(config=Config(config_file='config.json'))\n",
    "anon.process()"
   ]
  },
  {
   "attachments": {},
   "cell_type": "markdown",
   "metadata": {},
   "source": [
    "## Exporting\n",
    "Two functions export:\n",
    "- `create_mapping_file()` writes the mapping file of the predictor names\n",
    "- `write_to_output()` writes the processed dataframe to disk\n",
    "\n",
    "Write to output accepts the following extensions: `[\"ndjson\", \"parquet\", \"arrow\", \"csv\"]`"
   ]
  },
  {
   "cell_type": "code",
   "execution_count": 11,
   "metadata": {
    "execution": {
     "iopub.execute_input": "2024-04-08T08:28:11.270554Z",
     "iopub.status.busy": "2024-04-08T08:28:11.270174Z",
     "iopub.status.idle": "2024-04-08T08:28:11.273503Z",
     "shell.execute_reply": "2024-04-08T08:28:11.272981Z"
    }
   },
   "outputs": [
    {
     "name": "stdout",
     "output_type": "stream",
     "text": [
      "Customer_CLV=PREDICTOR_0\n",
      "filename=filename\n",
      "Customer_MaritalStatus=PREDICTOR_2\n",
      "Customer_City=PREDICTOR_3\n",
      "Context_Name=Context_Name\n",
      "IH_Web_Inbound_Accepted_pxLastGroupID=IH_Web_Inbound_Accepted_pxLastGroupID\n",
      "Decision_Outcome=Decision_Outcome\n",
      "\n"
     ]
    }
   ],
   "source": [
    "anon.create_mapping_file()\n",
    "with open('mapping.map') as f:\n",
    "    print(f.read())"
   ]
  },
  {
   "cell_type": "code",
   "execution_count": 12,
   "metadata": {
    "execution": {
     "iopub.execute_input": "2024-04-08T08:28:11.275274Z",
     "iopub.status.busy": "2024-04-08T08:28:11.275109Z",
     "iopub.status.idle": "2024-04-08T08:28:11.278464Z",
     "shell.execute_reply": "2024-04-08T08:28:11.278035Z"
    }
   },
   "outputs": [],
   "source": [
    "anon.write_to_output(ext='arrow')"
   ]
  },
  {
   "cell_type": "code",
   "execution_count": 13,
   "metadata": {
    "execution": {
     "iopub.execute_input": "2024-04-08T08:28:11.280157Z",
     "iopub.status.busy": "2024-04-08T08:28:11.279996Z",
     "iopub.status.idle": "2024-04-08T08:28:11.284333Z",
     "shell.execute_reply": "2024-04-08T08:28:11.283816Z"
    }
   },
   "outputs": [
    {
     "data": {
      "text/html": [
       "<div><style>\n",
       ".dataframe > thead > tr,\n",
       ".dataframe > tbody > tr {\n",
       "  text-align: right;\n",
       "  white-space: pre-wrap;\n",
       "}\n",
       "</style>\n",
       "<small>shape: (7, 6)</small><table border=\"1\" class=\"dataframe\"><thead><tr><th>PREDICTOR_0</th><th>PREDICTOR_2</th><th>PREDICTOR_3</th><th>Context_Name</th><th>IH_Web_Inbound_Accepted_pxLastGroupID</th><th>Decision_Outcome</th></tr><tr><td>f64</td><td>str</td><td>str</td><td>str</td><td>str</td><td>str</td></tr></thead><tbody><tr><td>0.983033</td><td>&quot;61615498372082…</td><td>&quot;18243174417114…</td><td>&quot;FirstMortgage3…</td><td>&quot;75514094785616…</td><td>&quot;Rejected&quot;</td></tr><tr><td>0.144221</td><td>&quot;28594643936316…</td><td>&quot;13714759292447…</td><td>&quot;FirstMortgage3…</td><td>&quot;51107376122753…</td><td>&quot;Accepted&quot;</td></tr><tr><td>0.679745</td><td>&quot;77108199206847…</td><td>&quot;15535964875617…</td><td>&quot;MoneyMarketSav…</td><td>&quot;75514094785616…</td><td>&quot;Rejected&quot;</td></tr><tr><td>1.0</td><td>&quot;28594643936316…</td><td>&quot;16793151251414…</td><td>&quot;BasicChecking&quot;</td><td>&quot;75514094785616…</td><td>&quot;Rejected&quot;</td></tr><tr><td>0.718982</td><td>&quot;61615498372082…</td><td>&quot;20402169895328…</td><td>&quot;BasicChecking&quot;</td><td>&quot;10206987716541…</td><td>&quot;Accepted&quot;</td></tr><tr><td>0.0</td><td>&quot;77108199206847…</td><td>&quot;10232547140510…</td><td>&quot;UPlusFinPerson…</td><td>null</td><td>&quot;Rejected&quot;</td></tr><tr><td>0.02333</td><td>&quot;77108199206847…</td><td>&quot;54283047069528…</td><td>&quot;BasicChecking&quot;</td><td>&quot;10206987716541…</td><td>&quot;Rejected&quot;</td></tr></tbody></table></div>"
      ],
      "text/plain": [
       "shape: (7, 6)\n",
       "┌─────────────┬────────────────┬────────────────┬────────────────┬────────────────┬────────────────┐\n",
       "│ PREDICTOR_0 ┆ PREDICTOR_2    ┆ PREDICTOR_3    ┆ Context_Name   ┆ IH_Web_Inbound ┆ Decision_Outco │\n",
       "│ ---         ┆ ---            ┆ ---            ┆ ---            ┆ _Accepted_pxLa ┆ me             │\n",
       "│ f64         ┆ str            ┆ str            ┆ str            ┆ stGr…          ┆ ---            │\n",
       "│             ┆                ┆                ┆                ┆ ---            ┆ str            │\n",
       "│             ┆                ┆                ┆                ┆ str            ┆                │\n",
       "╞═════════════╪════════════════╪════════════════╪════════════════╪════════════════╪════════════════╡\n",
       "│ 0.983033    ┆ 61615498372082 ┆ 18243174417114 ┆ FirstMortgage3 ┆ 75514094785616 ┆ Rejected       │\n",
       "│             ┆ 91925          ┆ 424602         ┆ 0yr            ┆ 03587          ┆                │\n",
       "│ 0.144221    ┆ 28594643936316 ┆ 13714759292447 ┆ FirstMortgage3 ┆ 51107376122753 ┆ Accepted       │\n",
       "│             ┆ 08822          ┆ 749934         ┆ 0yr            ┆ 01278          ┆                │\n",
       "│ 0.679745    ┆ 77108199206847 ┆ 15535964875617 ┆ MoneyMarketSav ┆ 75514094785616 ┆ Rejected       │\n",
       "│             ┆ 46984          ┆ 706879         ┆ ingsAccount    ┆ 03587          ┆                │\n",
       "│ 1.0         ┆ 28594643936316 ┆ 16793151251414 ┆ BasicChecking  ┆ 75514094785616 ┆ Rejected       │\n",
       "│             ┆ 08822          ┆ 038917         ┆                ┆ 03587          ┆                │\n",
       "│ 0.718982    ┆ 61615498372082 ┆ 20402169895328 ┆ BasicChecking  ┆ 10206987716541 ┆ Accepted       │\n",
       "│             ┆ 91925          ┆ 65520          ┆                ┆ 82639          ┆                │\n",
       "│ 0.0         ┆ 77108199206847 ┆ 10232547140510 ┆ UPlusFinPerson ┆ null           ┆ Rejected       │\n",
       "│             ┆ 46984          ┆ 070467         ┆ al             ┆                ┆                │\n",
       "│ 0.02333     ┆ 77108199206847 ┆ 54283047069528 ┆ BasicChecking  ┆ 10206987716541 ┆ Rejected       │\n",
       "│             ┆ 46984          ┆ 75109          ┆                ┆ 82639          ┆                │\n",
       "└─────────────┴────────────────┴────────────────┴────────────────┴────────────────┴────────────────┘"
      ]
     },
     "execution_count": 13,
     "metadata": {},
     "output_type": "execute_result"
    }
   ],
   "source": [
    "pl.read_ipc('output/hds.arrow')"
   ]
  },
  {
   "attachments": {},
   "cell_type": "markdown",
   "metadata": {
    "nbsphinx": "hidden"
   },
   "source": [
    "## Advanced: Hash fuctions\n",
    "\n",
    "By default, we use [the same hashing algorithm Polars](https://pola-rs.github.io/polars/py-polars/html/reference/expressions/api/polars.Expr.hash.html#polars.Expr.hash) uses: [xxhash](https://github.com/Cyan4973/xxHash), as implemented [here](https://github.com/pola-rs/polars/blob/3f287f370b3c388ed2f3f218b2c096382548136f/polars/polars-core/src/vector_hasher.rs#L266). xxhash is fast to compute, and you can check its performance in collision, dispersion and randomness [here](https://github.com/Cyan4973/xxHash/tree/dev/tests). \n",
    "\n",
    "xxhash accepts four distinct seeds, but by default we set the seeds to `0`. It is possible to set the `seed` argument of the `process()` function to `'random'`, which will set all four seeds to a random integer between `0` and `1000000000`. Alternatively, it is possible to supply the four seeds manually with arguments `seed`, `seed_1`, `seed_2` and `seed_3`. \n",
    "\n",
    "If the xxhash with (random) seed(s) is not deemed sufficiently secure, it is possible to use your own hashing algorithm.\n",
    "\n",
    "Note that since we're now running python code and not native Polars code anymore, this will be _significantly_ slower. Nonetheless, it is possible.\n",
    "\n",
    "Just as an example - this is how one would use sha3_256:"
   ]
  },
  {
   "cell_type": "code",
   "execution_count": 14,
   "metadata": {
    "execution": {
     "iopub.execute_input": "2024-04-08T08:28:11.286323Z",
     "iopub.status.busy": "2024-04-08T08:28:11.286043Z",
     "iopub.status.idle": "2024-04-08T08:28:11.293654Z",
     "shell.execute_reply": "2024-04-08T08:28:11.293137Z"
    },
    "nbsphinx": "hidden"
   },
   "outputs": [
    {
     "data": {
      "text/html": [
       "<div><style>\n",
       ".dataframe > thead > tr,\n",
       ".dataframe > tbody > tr {\n",
       "  text-align: right;\n",
       "  white-space: pre-wrap;\n",
       "}\n",
       "</style>\n",
       "<small>shape: (7, 7)</small><table border=\"1\" class=\"dataframe\"><thead><tr><th>PREDICTOR_0</th><th>filename</th><th>PREDICTOR_2</th><th>PREDICTOR_3</th><th>Context_Name</th><th>IH_Web_Inbound_Accepted_pxLastGroupID</th><th>Decision_Outcome</th></tr><tr><td>f64</td><td>str</td><td>str</td><td>str</td><td>str</td><td>str</td><td>str</td></tr></thead><tbody><tr><td>0.983033</td><td>&quot;../../../../da…</td><td>&quot;af486bc1815c72…</td><td>&quot;c73023dda51de1…</td><td>&quot;FirstMortgage3…</td><td>&quot;2513d0e24d8d02…</td><td>&quot;Rejected&quot;</td></tr><tr><td>0.144221</td><td>&quot;../../../../da…</td><td>&quot;3cdf7b1ae1342e…</td><td>&quot;5414b197fb87b3…</td><td>&quot;FirstMortgage3…</td><td>&quot;8b55bf62fc2ecd…</td><td>&quot;Accepted&quot;</td></tr><tr><td>0.679745</td><td>&quot;../../../../da…</td><td>&quot;806ef34eb8237f…</td><td>&quot;892f5d61a9215e…</td><td>&quot;MoneyMarketSav…</td><td>&quot;2513d0e24d8d02…</td><td>&quot;Rejected&quot;</td></tr><tr><td>1.0</td><td>&quot;../../../../da…</td><td>&quot;3cdf7b1ae1342e…</td><td>&quot;c3aa807d9e927a…</td><td>&quot;BasicChecking&quot;</td><td>&quot;2513d0e24d8d02…</td><td>&quot;Rejected&quot;</td></tr><tr><td>0.718982</td><td>&quot;../../../../da…</td><td>&quot;af486bc1815c72…</td><td>&quot;c2d492f9a05073…</td><td>&quot;BasicChecking&quot;</td><td>&quot;1cd082ecbd5dd9…</td><td>&quot;Accepted&quot;</td></tr><tr><td>0.0</td><td>&quot;../../../../da…</td><td>&quot;806ef34eb8237f…</td><td>&quot;b21059221605c4…</td><td>&quot;UPlusFinPerson…</td><td>null</td><td>&quot;Rejected&quot;</td></tr><tr><td>0.02333</td><td>&quot;../../../../da…</td><td>&quot;806ef34eb8237f…</td><td>&quot;80cbe489dcecd4…</td><td>&quot;BasicChecking&quot;</td><td>&quot;1cd082ecbd5dd9…</td><td>&quot;Rejected&quot;</td></tr></tbody></table></div>"
      ],
      "text/plain": [
       "shape: (7, 7)\n",
       "┌─────────────┬──────────────┬─────────────┬─────────────┬─────────────┬─────────────┬─────────────┐\n",
       "│ PREDICTOR_0 ┆ filename     ┆ PREDICTOR_2 ┆ PREDICTOR_3 ┆ Context_Nam ┆ IH_Web_Inbo ┆ Decision_Ou │\n",
       "│ ---         ┆ ---          ┆ ---         ┆ ---         ┆ e           ┆ und_Accepte ┆ tcome       │\n",
       "│ f64         ┆ str          ┆ str         ┆ str         ┆ ---         ┆ d_pxLastGr… ┆ ---         │\n",
       "│             ┆              ┆             ┆             ┆ str         ┆ ---         ┆ str         │\n",
       "│             ┆              ┆             ┆             ┆             ┆ str         ┆             │\n",
       "╞═════════════╪══════════════╪═════════════╪═════════════╪═════════════╪═════════════╪═════════════╡\n",
       "│ 0.983033    ┆ ../../../../ ┆ af486bc1815 ┆ c73023dda51 ┆ FirstMortga ┆ 2513d0e24d8 ┆ Rejected    │\n",
       "│             ┆ data/SampleH ┆ c726c357890 ┆ de1b84f7af7 ┆ ge30yr      ┆ d0214eda4fb ┆             │\n",
       "│             ┆ DS.json      ┆ ac2a40ba98… ┆ 74fd6f8c73… ┆             ┆ 454447162b… ┆             │\n",
       "│ 0.144221    ┆ ../../../../ ┆ 3cdf7b1ae13 ┆ 5414b197fb8 ┆ FirstMortga ┆ 8b55bf62fc2 ┆ Accepted    │\n",
       "│             ┆ data/SampleH ┆ 42ef979ea2a ┆ 7b3f2e350d7 ┆ ge30yr      ┆ ecd16af97d4 ┆             │\n",
       "│             ┆ DS.json      ┆ 782541ad05… ┆ a74a840a81… ┆             ┆ 8e469362cf… ┆             │\n",
       "│ 0.679745    ┆ ../../../../ ┆ 806ef34eb82 ┆ 892f5d61a92 ┆ MoneyMarket ┆ 2513d0e24d8 ┆ Rejected    │\n",
       "│             ┆ data/SampleH ┆ 37f4db85004 ┆ 15ef985f3fa ┆ SavingsAcco ┆ d0214eda4fb ┆             │\n",
       "│             ┆ DS.json      ┆ e96dc471d8… ┆ 293d51c92e… ┆ unt         ┆ 454447162b… ┆             │\n",
       "│ 1.0         ┆ ../../../../ ┆ 3cdf7b1ae13 ┆ c3aa807d9e9 ┆ BasicChecki ┆ 2513d0e24d8 ┆ Rejected    │\n",
       "│             ┆ data/SampleH ┆ 42ef979ea2a ┆ 27ae426a89e ┆ ng          ┆ d0214eda4fb ┆             │\n",
       "│             ┆ DS.json      ┆ 782541ad05… ┆ 76a12b9160… ┆             ┆ 454447162b… ┆             │\n",
       "│ 0.718982    ┆ ../../../../ ┆ af486bc1815 ┆ c2d492f9a05 ┆ BasicChecki ┆ 1cd082ecbd5 ┆ Accepted    │\n",
       "│             ┆ data/SampleH ┆ c726c357890 ┆ 07327c14285 ┆ ng          ┆ dd95383b104 ┆             │\n",
       "│             ┆ DS.json      ┆ ac2a40ba98… ┆ e94e8ee54c… ┆             ┆ 65e395c1f7… ┆             │\n",
       "│ 0.0         ┆ ../../../../ ┆ 806ef34eb82 ┆ b2105922160 ┆ UPlusFinPer ┆ null        ┆ Rejected    │\n",
       "│             ┆ data/SampleH ┆ 37f4db85004 ┆ 5c49757cfe0 ┆ sonal       ┆             ┆             │\n",
       "│             ┆ DS.json      ┆ e96dc471d8… ┆ fee45640db… ┆             ┆             ┆             │\n",
       "│ 0.02333     ┆ ../../../../ ┆ 806ef34eb82 ┆ 80cbe489dce ┆ BasicChecki ┆ 1cd082ecbd5 ┆ Rejected    │\n",
       "│             ┆ data/SampleH ┆ 37f4db85004 ┆ cd4b9304898 ┆ ng          ┆ dd95383b104 ┆             │\n",
       "│             ┆ DS.json      ┆ e96dc471d8… ┆ c9986afeeb… ┆             ┆ 65e395c1f7… ┆             │\n",
       "└─────────────┴──────────────┴─────────────┴─────────────┴─────────────┴─────────────┴─────────────┘"
      ]
     },
     "execution_count": 14,
     "metadata": {},
     "output_type": "execute_result"
    }
   ],
   "source": [
    "from hashlib import sha3_256\n",
    "\n",
    "anon.process(algorithm=lambda x: sha3_256(x.encode()).hexdigest())"
   ]
  }
 ],
 "metadata": {
  "kernelspec": {
   "display_name": "Python 3",
   "language": "python",
   "name": "python3"
  },
  "language_info": {
   "codemirror_mode": {
    "name": "ipython",
    "version": 3
   },
   "file_extension": ".py",
   "mimetype": "text/x-python",
   "name": "python",
   "nbconvert_exporter": "python",
   "pygments_lexer": "ipython3",
   "version": "3.11.8"
  },
  "vscode": {
   "interpreter": {
    "hash": "aee8b7b246df8f9039afb4144a1f6fd8d2ca17a180786b69acc140d282b71a49"
   }
  }
 },
 "nbformat": 4,
 "nbformat_minor": 2
}
