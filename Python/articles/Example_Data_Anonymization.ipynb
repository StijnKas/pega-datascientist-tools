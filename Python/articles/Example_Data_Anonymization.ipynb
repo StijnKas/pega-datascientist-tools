{
 "cells": [
  {
   "attachments": {},
   "cell_type": "markdown",
   "metadata": {},
   "source": [
    "# Example data anonymization\n",
    "\n",
    "In Pega CDH 8.5 and up, it's now possible to record the historical data as seen by the Adaptive Models. See [this academy challenge](https://academy.pega.com/challenge/exporting-historical-data/v4) for reference. This historical data can be further used to experiment with offline models, but also to fine-tune the OOTB Gradient Boosting model. However, sharing this information with Pega can be sensitive as it contains raw predictor data. \n",
    "\n",
    "To this end, we provide a simple and transparent script to fully anonimize this dataset.\n",
    "\n",
    "The DataAnonymization script is now part of pdstools, and you can import it directly as such."
   ]
  },
  {
   "cell_type": "code",
   "execution_count": 1,
   "metadata": {
    "execution": {
     "iopub.execute_input": "2023-06-21T11:27:52.318350Z",
     "iopub.status.busy": "2023-06-21T11:27:52.317943Z",
     "iopub.status.idle": "2023-06-21T11:27:52.326674Z",
     "shell.execute_reply": "2023-06-21T11:27:52.325995Z"
    },
    "nbsphinx": "hidden"
   },
   "outputs": [],
   "source": [
    "# These lines are only for rendering in the docs, and are hidden through Jupyter tags\n",
    "# Do not run if you're running the notebook seperately\n",
    "\n",
    "import sys\n",
    "sys.path.append('../../../')"
   ]
  },
  {
   "cell_type": "code",
   "execution_count": 2,
   "metadata": {
    "execution": {
     "iopub.execute_input": "2023-06-21T11:27:52.329571Z",
     "iopub.status.busy": "2023-06-21T11:27:52.329138Z",
     "iopub.status.idle": "2023-06-21T11:27:53.671242Z",
     "shell.execute_reply": "2023-06-21T11:27:53.670375Z"
    }
   },
   "outputs": [],
   "source": [
    "from pdstools import ADMDatamart\n",
    "from pdstools import Config, DataAnonymization\n",
    "import polars as pl"
   ]
  },
  {
   "attachments": {},
   "cell_type": "markdown",
   "metadata": {},
   "source": [
    "## Input data\n",
    "\n",
    "To demonstrate this process, we're going to anonymise this toy example dataframe:"
   ]
  },
  {
   "cell_type": "code",
   "execution_count": 3,
   "metadata": {
    "execution": {
     "iopub.execute_input": "2023-06-21T11:27:53.675764Z",
     "iopub.status.busy": "2023-06-21T11:27:53.675180Z",
     "iopub.status.idle": "2023-06-21T11:27:53.686382Z",
     "shell.execute_reply": "2023-06-21T11:27:53.685842Z"
    }
   },
   "outputs": [
    {
     "data": {
      "text/html": [
       "<div><style>\n",
       ".dataframe > thead > tr > th,\n",
       ".dataframe > tbody > tr > td {\n",
       "  text-align: right;\n",
       "}\n",
       "</style>\n",
       "<small>shape: (7, 6)</small><table border=\"1\" class=\"dataframe\"><thead><tr><th>Context_Name</th><th>Customer_MaritalStatus</th><th>Customer_CLV</th><th>Customer_City</th><th>IH_Web_Inbound_Accepted_pxLastGroupID</th><th>Decision_Outcome</th></tr><tr><td>str</td><td>str</td><td>i64</td><td>str</td><td>str</td><td>str</td></tr></thead><tbody><tr><td>&quot;FirstMortgage3…</td><td>&quot;Married&quot;</td><td>1460</td><td>&quot;Port Raoul&quot;</td><td>&quot;Account&quot;</td><td>&quot;Rejected&quot;</td></tr><tr><td>&quot;FirstMortgage3…</td><td>&quot;Unknown&quot;</td><td>669</td><td>&quot;Laurianneshire…</td><td>&quot;AutoLoans&quot;</td><td>&quot;Accepted&quot;</td></tr><tr><td>&quot;MoneyMarketSav…</td><td>&quot;No Resp+&quot;</td><td>1174</td><td>&quot;Jacobshaven&quot;</td><td>&quot;Account&quot;</td><td>&quot;Rejected&quot;</td></tr><tr><td>&quot;BasicChecking&quot;</td><td>&quot;Unknown&quot;</td><td>1476</td><td>&quot;Lindton&quot;</td><td>&quot;Account&quot;</td><td>&quot;Rejected&quot;</td></tr><tr><td>&quot;BasicChecking&quot;</td><td>&quot;Married&quot;</td><td>1211</td><td>&quot;South Jimmiesh…</td><td>&quot;DepositAccount…</td><td>&quot;Accepted&quot;</td></tr><tr><td>&quot;UPlusFinPerson…</td><td>&quot;No Resp+&quot;</td><td>533</td><td>&quot;Bergeville&quot;</td><td>null</td><td>&quot;Rejected&quot;</td></tr><tr><td>&quot;BasicChecking&quot;</td><td>&quot;No Resp+&quot;</td><td>555</td><td>&quot;Willyville&quot;</td><td>&quot;DepositAccount…</td><td>&quot;Rejected&quot;</td></tr></tbody></table></div>"
      ],
      "text/plain": [
       "shape: (7, 6)\n",
       "┌────────────────┬────────────────┬──────────────┬────────────────┬────────────────┬───────────────┐\n",
       "│ Context_Name   ┆ Customer_Marit ┆ Customer_CLV ┆ Customer_City  ┆ IH_Web_Inbound ┆ Decision_Outc │\n",
       "│ ---            ┆ alStatus       ┆ ---          ┆ ---            ┆ _Accepted_pxLa ┆ ome           │\n",
       "│ str            ┆ ---            ┆ i64          ┆ str            ┆ stGr…          ┆ ---           │\n",
       "│                ┆ str            ┆              ┆                ┆ ---            ┆ str           │\n",
       "│                ┆                ┆              ┆                ┆ str            ┆               │\n",
       "╞════════════════╪════════════════╪══════════════╪════════════════╪════════════════╪═══════════════╡\n",
       "│ FirstMortgage3 ┆ Married        ┆ 1460         ┆ Port Raoul     ┆ Account        ┆ Rejected      │\n",
       "│ 0yr            ┆                ┆              ┆                ┆                ┆               │\n",
       "│ FirstMortgage3 ┆ Unknown        ┆ 669          ┆ Laurianneshire ┆ AutoLoans      ┆ Accepted      │\n",
       "│ 0yr            ┆                ┆              ┆                ┆                ┆               │\n",
       "│ MoneyMarketSav ┆ No Resp+       ┆ 1174         ┆ Jacobshaven    ┆ Account        ┆ Rejected      │\n",
       "│ ingsAccount    ┆                ┆              ┆                ┆                ┆               │\n",
       "│ BasicChecking  ┆ Unknown        ┆ 1476         ┆ Lindton        ┆ Account        ┆ Rejected      │\n",
       "│ BasicChecking  ┆ Married        ┆ 1211         ┆ South          ┆ DepositAccount ┆ Accepted      │\n",
       "│                ┆                ┆              ┆ Jimmieshire    ┆ s              ┆               │\n",
       "│ UPlusFinPerson ┆ No Resp+       ┆ 533          ┆ Bergeville     ┆ null           ┆ Rejected      │\n",
       "│ al             ┆                ┆              ┆                ┆                ┆               │\n",
       "│ BasicChecking  ┆ No Resp+       ┆ 555          ┆ Willyville     ┆ DepositAccount ┆ Rejected      │\n",
       "│                ┆                ┆              ┆                ┆ s              ┆               │\n",
       "└────────────────┴────────────────┴──────────────┴────────────────┴────────────────┴───────────────┘"
      ]
     },
     "execution_count": 3,
     "metadata": {},
     "output_type": "execute_result"
    }
   ],
   "source": [
    "pl.read_ndjson('../../../../data/SampleHDS.json')"
   ]
  },
  {
   "attachments": {},
   "cell_type": "markdown",
   "metadata": {},
   "source": [
    "As you can see, this dataset consists of regular predictors, IH predictors, context keys and the outcome column. Additionally, some columns are numeric, others are strings. Let's first initialize the DataAnonymization class."
   ]
  },
  {
   "cell_type": "code",
   "execution_count": 4,
   "metadata": {
    "execution": {
     "iopub.execute_input": "2023-06-21T11:27:53.689264Z",
     "iopub.status.busy": "2023-06-21T11:27:53.688610Z",
     "iopub.status.idle": "2023-06-21T11:27:53.698115Z",
     "shell.execute_reply": "2023-06-21T11:27:53.697561Z"
    }
   },
   "outputs": [],
   "source": [
    "anon = DataAnonymization(hds_folder='../../../../data/')"
   ]
  },
  {
   "attachments": {},
   "cell_type": "markdown",
   "metadata": {},
   "source": [
    "By default, the class applies a set of anonymisation techniques:\n",
    "- Column names are remapped to a non-descriptive name\n",
    "- Categorical values are hashed with a random seed\n",
    "- Numerical values are normalized between 0 and 1\n",
    "- Outcomes are mapped to a binary outcome.\n",
    "\n",
    "To apply these techniques, simply call `.process()`:"
   ]
  },
  {
   "cell_type": "code",
   "execution_count": 5,
   "metadata": {
    "execution": {
     "iopub.execute_input": "2023-06-21T11:27:53.700811Z",
     "iopub.status.busy": "2023-06-21T11:27:53.700384Z",
     "iopub.status.idle": "2023-06-21T11:27:53.707229Z",
     "shell.execute_reply": "2023-06-21T11:27:53.706720Z"
    }
   },
   "outputs": [
    {
     "data": {
      "text/html": [
       "<div><style>\n",
       ".dataframe > thead > tr > th,\n",
       ".dataframe > tbody > tr > td {\n",
       "  text-align: right;\n",
       "}\n",
       "</style>\n",
       "<small>shape: (7, 7)</small><table border=\"1\" class=\"dataframe\"><thead><tr><th>filename</th><th>PREDICTOR_1</th><th>PREDICTOR_2</th><th>PREDICTOR_3</th><th>Context_Name</th><th>IH_PREDICTOR_0</th><th>Decision_Outcome</th></tr><tr><td>str</td><td>str</td><td>str</td><td>f64</td><td>str</td><td>str</td><td>bool</td></tr></thead><tbody><tr><td>&quot;../../../../da…</td><td>&quot;21299364521099…</td><td>&quot;10663593066270…</td><td>1.2927e19</td><td>&quot;98427614285609…</td><td>&quot;13352465235166…</td><td>false</td></tr><tr><td>&quot;../../../../da…</td><td>&quot;18402887482138…</td><td>&quot;24723785218702…</td><td>1.4856e19</td><td>&quot;98427614285609…</td><td>&quot;31258234234857…</td><td>true</td></tr><tr><td>&quot;../../../../da…</td><td>&quot;15415537547478…</td><td>&quot;12834114050594…</td><td>5.6458e17</td><td>&quot;14144817760672…</td><td>&quot;13352465235166…</td><td>false</td></tr><tr><td>&quot;../../../../da…</td><td>&quot;18402887482138…</td><td>&quot;15008317121162…</td><td>4.0723e18</td><td>&quot;18066536610648…</td><td>&quot;13352465235166…</td><td>false</td></tr><tr><td>&quot;../../../../da…</td><td>&quot;21299364521099…</td><td>&quot;92904430923903…</td><td>1.4677e19</td><td>&quot;18066536610648…</td><td>&quot;10211729355007…</td><td>true</td></tr><tr><td>&quot;../../../../da…</td><td>&quot;15415537547478…</td><td>&quot;62701079443247…</td><td>1.6330e19</td><td>&quot;76970820996358…</td><td>null</td><td>false</td></tr><tr><td>&quot;../../../../da…</td><td>&quot;15415537547478…</td><td>&quot;15814842802250…</td><td>8.7675e18</td><td>&quot;18066536610648…</td><td>&quot;10211729355007…</td><td>false</td></tr></tbody></table></div>"
      ],
      "text/plain": [
       "shape: (7, 7)\n",
       "┌───────────────┬──────────────┬──────────────┬─────────────┬────────────┬────────────┬────────────┐\n",
       "│ filename      ┆ PREDICTOR_1  ┆ PREDICTOR_2  ┆ PREDICTOR_3 ┆ Context_Na ┆ IH_PREDICT ┆ Decision_O │\n",
       "│ ---           ┆ ---          ┆ ---          ┆ ---         ┆ me         ┆ OR_0       ┆ utcome     │\n",
       "│ str           ┆ str          ┆ str          ┆ f64         ┆ ---        ┆ ---        ┆ ---        │\n",
       "│               ┆              ┆              ┆             ┆ str        ┆ str        ┆ bool       │\n",
       "╞═══════════════╪══════════════╪══════════════╪═════════════╪════════════╪════════════╪════════════╡\n",
       "│ ../../../../d ┆ 212993645210 ┆ 106635930662 ┆ 1.2927e19   ┆ 9842761428 ┆ 1335246523 ┆ false      │\n",
       "│ ata/SampleHDS ┆ 9969758      ┆ 70568149     ┆             ┆ 560961436  ┆ 5166994346 ┆            │\n",
       "│ .json         ┆              ┆              ┆             ┆            ┆            ┆            │\n",
       "│ ../../../../d ┆ 184028874821 ┆ 247237852187 ┆ 1.4856e19   ┆ 9842761428 ┆ 3125823423 ┆ true       │\n",
       "│ ata/SampleHDS ┆ 38306792     ┆ 0258985      ┆             ┆ 560961436  ┆ 485723526  ┆            │\n",
       "│ .json         ┆              ┆              ┆             ┆            ┆            ┆            │\n",
       "│ ../../../../d ┆ 154155375474 ┆ 128341140505 ┆ 5.6458e17   ┆ 1414481776 ┆ 1335246523 ┆ false      │\n",
       "│ ata/SampleHDS ┆ 78910306     ┆ 94146972     ┆             ┆ 0672095305 ┆ 5166994346 ┆            │\n",
       "│ .json         ┆              ┆              ┆             ┆            ┆            ┆            │\n",
       "│ ../../../../d ┆ 184028874821 ┆ 150083171211 ┆ 4.0723e18   ┆ 1806653661 ┆ 1335246523 ┆ false      │\n",
       "│ ata/SampleHDS ┆ 38306792     ┆ 62688323     ┆             ┆ 0648226667 ┆ 5166994346 ┆            │\n",
       "│ .json         ┆              ┆              ┆             ┆            ┆            ┆            │\n",
       "│ ../../../../d ┆ 212993645210 ┆ 929044309239 ┆ 1.4677e19   ┆ 1806653661 ┆ 1021172935 ┆ true       │\n",
       "│ ata/SampleHDS ┆ 9969758      ┆ 0378193      ┆             ┆ 0648226667 ┆ 5007025526 ┆            │\n",
       "│ .json         ┆              ┆              ┆             ┆            ┆            ┆            │\n",
       "│ ../../../../d ┆ 154155375474 ┆ 627010794432 ┆ 1.6330e19   ┆ 7697082099 ┆ null       ┆ false      │\n",
       "│ ata/SampleHDS ┆ 78910306     ┆ 4764568      ┆             ┆ 63589722   ┆            ┆            │\n",
       "│ .json         ┆              ┆              ┆             ┆            ┆            ┆            │\n",
       "│ ../../../../d ┆ 154155375474 ┆ 158148428022 ┆ 8.7675e18   ┆ 1806653661 ┆ 1021172935 ┆ false      │\n",
       "│ ata/SampleHDS ┆ 78910306     ┆ 50198284     ┆             ┆ 0648226667 ┆ 5007025526 ┆            │\n",
       "│ .json         ┆              ┆              ┆             ┆            ┆            ┆            │\n",
       "└───────────────┴──────────────┴──────────────┴─────────────┴────────────┴────────────┴────────────┘"
      ]
     },
     "execution_count": 5,
     "metadata": {},
     "output_type": "execute_result"
    }
   ],
   "source": [
    "anon.process()"
   ]
  },
  {
   "attachments": {},
   "cell_type": "markdown",
   "metadata": {},
   "source": [
    "To trace back the columns to their original names, the class also contains a mapping, which does not have to be provided."
   ]
  },
  {
   "cell_type": "code",
   "execution_count": 6,
   "metadata": {
    "execution": {
     "iopub.execute_input": "2023-06-21T11:27:53.709857Z",
     "iopub.status.busy": "2023-06-21T11:27:53.709409Z",
     "iopub.status.idle": "2023-06-21T11:27:53.713718Z",
     "shell.execute_reply": "2023-06-21T11:27:53.713200Z"
    }
   },
   "outputs": [
    {
     "data": {
      "text/plain": [
       "{'filename': 'filename',\n",
       " 'Customer_MaritalStatus': 'PREDICTOR_1',\n",
       " 'Customer_City': 'PREDICTOR_2',\n",
       " 'Customer_CLV': 'PREDICTOR_3',\n",
       " 'Context_Name': 'Context_Name',\n",
       " 'IH_Web_Inbound_Accepted_pxLastGroupID': 'IH_PREDICTOR_0',\n",
       " 'Decision_Outcome': 'Decision_Outcome'}"
      ]
     },
     "execution_count": 6,
     "metadata": {},
     "output_type": "execute_result"
    }
   ],
   "source": [
    "anon.column_mapping"
   ]
  },
  {
   "attachments": {},
   "cell_type": "markdown",
   "metadata": {},
   "source": [
    "## Configs\n",
    "\n",
    "Each capability can optionally be turned off - see below for the full list of config options, and refer to the API reference for the full description."
   ]
  },
  {
   "cell_type": "code",
   "execution_count": 7,
   "metadata": {
    "execution": {
     "iopub.execute_input": "2023-06-21T11:27:53.716613Z",
     "iopub.status.busy": "2023-06-21T11:27:53.716213Z",
     "iopub.status.idle": "2023-06-21T11:27:53.721441Z",
     "shell.execute_reply": "2023-06-21T11:27:53.720772Z"
    }
   },
   "outputs": [
    {
     "data": {
      "text/plain": [
       "{'config_file': None,\n",
       " 'hds_folder': '.',\n",
       " 'use_datamart': False,\n",
       " 'datamart_folder': 'datamart',\n",
       " 'output_format': 'ndjson',\n",
       " 'output_folder': 'output',\n",
       " 'mapping_file': 'mapping.map',\n",
       " 'mask_predictor_names': True,\n",
       " 'mask_context_key_names': False,\n",
       " 'mask_ih_names': True,\n",
       " 'mask_outcome_name': False,\n",
       " 'mask_predictor_values': True,\n",
       " 'mask_context_key_values': True,\n",
       " 'mask_ih_values': True,\n",
       " 'mask_outcome_values': True,\n",
       " 'context_key_label': 'Context_*',\n",
       " 'ih_label': 'IH_*',\n",
       " 'outcome_column': 'Decision_Outcome',\n",
       " 'positive_outcomes': ['Accepted', 'Clicked'],\n",
       " 'negative_outcomes': ['Rejected', 'Impression'],\n",
       " 'special_predictors': ['Decision_DecisionTime',\n",
       "  'Decision_OutcomeTime',\n",
       "  'Decision_Rank'],\n",
       " 'sample_percentage_schema_inferencing': 0.01}"
      ]
     },
     "execution_count": 7,
     "metadata": {},
     "output_type": "execute_result"
    }
   ],
   "source": [
    "dict(zip(Config.__init__.__code__.co_varnames[1:], Config.__init__.__defaults__))"
   ]
  },
  {
   "attachments": {},
   "cell_type": "markdown",
   "metadata": {},
   "source": [
    "It's easy to change these parameters by just passing the keyword arguments. In the following example, we\n",
    "- Keep the IH predictor names\n",
    "- Keep the outcome values\n",
    "- Keep the context key values\n",
    "- Keep the context key predictor names"
   ]
  },
  {
   "cell_type": "code",
   "execution_count": 8,
   "metadata": {
    "execution": {
     "iopub.execute_input": "2023-06-21T11:27:53.724543Z",
     "iopub.status.busy": "2023-06-21T11:27:53.724325Z",
     "iopub.status.idle": "2023-06-21T11:27:53.736119Z",
     "shell.execute_reply": "2023-06-21T11:27:53.735473Z"
    }
   },
   "outputs": [
    {
     "data": {
      "text/html": [
       "<div><style>\n",
       ".dataframe > thead > tr > th,\n",
       ".dataframe > tbody > tr > td {\n",
       "  text-align: right;\n",
       "}\n",
       "</style>\n",
       "<small>shape: (7, 7)</small><table border=\"1\" class=\"dataframe\"><thead><tr><th>filename</th><th>PREDICTOR_1</th><th>PREDICTOR_2</th><th>PREDICTOR_3</th><th>Context_Name</th><th>IH_Web_Inbound_Accepted_pxLastGroupID</th><th>Decision_Outcome</th></tr><tr><td>str</td><td>str</td><td>str</td><td>f64</td><td>str</td><td>str</td><td>str</td></tr></thead><tbody><tr><td>&quot;../../../../da…</td><td>&quot;12330604238011…</td><td>&quot;14757800479140…</td><td>1.2927e19</td><td>&quot;FirstMortgage3…</td><td>&quot;91044029019124…</td><td>&quot;Rejected&quot;</td></tr><tr><td>&quot;../../../../da…</td><td>&quot;26511972791204…</td><td>&quot;89282673054583…</td><td>1.4856e19</td><td>&quot;FirstMortgage3…</td><td>&quot;19173353074300…</td><td>&quot;Accepted&quot;</td></tr><tr><td>&quot;../../../../da…</td><td>&quot;38620538188546…</td><td>&quot;18053901497030…</td><td>5.6458e17</td><td>&quot;MoneyMarketSav…</td><td>&quot;91044029019124…</td><td>&quot;Rejected&quot;</td></tr><tr><td>&quot;../../../../da…</td><td>&quot;26511972791204…</td><td>&quot;10933703277702…</td><td>4.0723e18</td><td>&quot;BasicChecking&quot;</td><td>&quot;91044029019124…</td><td>&quot;Rejected&quot;</td></tr><tr><td>&quot;../../../../da…</td><td>&quot;12330604238011…</td><td>&quot;76753222573203…</td><td>1.4677e19</td><td>&quot;BasicChecking&quot;</td><td>&quot;56773351394436…</td><td>&quot;Accepted&quot;</td></tr><tr><td>&quot;../../../../da…</td><td>&quot;38620538188546…</td><td>&quot;56287046312406…</td><td>1.6330e19</td><td>&quot;UPlusFinPerson…</td><td>null</td><td>&quot;Rejected&quot;</td></tr><tr><td>&quot;../../../../da…</td><td>&quot;38620538188546…</td><td>&quot;15000966808313…</td><td>8.7675e18</td><td>&quot;BasicChecking&quot;</td><td>&quot;56773351394436…</td><td>&quot;Rejected&quot;</td></tr></tbody></table></div>"
      ],
      "text/plain": [
       "shape: (7, 7)\n",
       "┌───────────────┬──────────────┬──────────────┬─────────────┬────────────┬────────────┬────────────┐\n",
       "│ filename      ┆ PREDICTOR_1  ┆ PREDICTOR_2  ┆ PREDICTOR_3 ┆ Context_Na ┆ IH_Web_Inb ┆ Decision_O │\n",
       "│ ---           ┆ ---          ┆ ---          ┆ ---         ┆ me         ┆ ound_Accep ┆ utcome     │\n",
       "│ str           ┆ str          ┆ str          ┆ f64         ┆ ---        ┆ ted_pxLast ┆ ---        │\n",
       "│               ┆              ┆              ┆             ┆ str        ┆ Gr…        ┆ str        │\n",
       "│               ┆              ┆              ┆             ┆            ┆ ---        ┆            │\n",
       "│               ┆              ┆              ┆             ┆            ┆ str        ┆            │\n",
       "╞═══════════════╪══════════════╪══════════════╪═════════════╪════════════╪════════════╪════════════╡\n",
       "│ ../../../../d ┆ 123306042380 ┆ 147578004791 ┆ 1.2927e19   ┆ FirstMortg ┆ 9104402901 ┆ Rejected   │\n",
       "│ ata/SampleHDS ┆ 11333272     ┆ 40505033     ┆             ┆ age30yr    ┆ 912476124  ┆            │\n",
       "│ .json         ┆              ┆              ┆             ┆            ┆            ┆            │\n",
       "│ ../../../../d ┆ 265119727912 ┆ 892826730545 ┆ 1.4856e19   ┆ FirstMortg ┆ 1917335307 ┆ Accepted   │\n",
       "│ ata/SampleHDS ┆ 0435337      ┆ 8330678      ┆             ┆ age30yr    ┆ 430022934  ┆            │\n",
       "│ .json         ┆              ┆              ┆             ┆            ┆            ┆            │\n",
       "│ ../../../../d ┆ 386205381885 ┆ 180539014970 ┆ 5.6458e17   ┆ MoneyMarke ┆ 9104402901 ┆ Rejected   │\n",
       "│ ata/SampleHDS ┆ 4614725      ┆ 30480563     ┆             ┆ tSavingsAc ┆ 912476124  ┆            │\n",
       "│ .json         ┆              ┆              ┆             ┆ count      ┆            ┆            │\n",
       "│ ../../../../d ┆ 265119727912 ┆ 109337032777 ┆ 4.0723e18   ┆ BasicCheck ┆ 9104402901 ┆ Rejected   │\n",
       "│ ata/SampleHDS ┆ 0435337      ┆ 02146395     ┆             ┆ ing        ┆ 912476124  ┆            │\n",
       "│ .json         ┆              ┆              ┆             ┆            ┆            ┆            │\n",
       "│ ../../../../d ┆ 123306042380 ┆ 767532225732 ┆ 1.4677e19   ┆ BasicCheck ┆ 5677335139 ┆ Accepted   │\n",
       "│ ata/SampleHDS ┆ 11333272     ┆ 0352494      ┆             ┆ ing        ┆ 443653585  ┆            │\n",
       "│ .json         ┆              ┆              ┆             ┆            ┆            ┆            │\n",
       "│ ../../../../d ┆ 386205381885 ┆ 562870463124 ┆ 1.6330e19   ┆ UPlusFinPe ┆ null       ┆ Rejected   │\n",
       "│ ata/SampleHDS ┆ 4614725      ┆ 0614041      ┆             ┆ rsonal     ┆            ┆            │\n",
       "│ .json         ┆              ┆              ┆             ┆            ┆            ┆            │\n",
       "│ ../../../../d ┆ 386205381885 ┆ 150009668083 ┆ 8.7675e18   ┆ BasicCheck ┆ 5677335139 ┆ Rejected   │\n",
       "│ ata/SampleHDS ┆ 4614725      ┆ 1375376      ┆             ┆ ing        ┆ 443653585  ┆            │\n",
       "│ .json         ┆              ┆              ┆             ┆            ┆            ┆            │\n",
       "└───────────────┴──────────────┴──────────────┴─────────────┴────────────┴────────────┴────────────┘"
      ]
     },
     "execution_count": 8,
     "metadata": {},
     "output_type": "execute_result"
    }
   ],
   "source": [
    "anon = DataAnonymization(\n",
    "    hds_folder='../../../../data/',\n",
    "    mask_ih_names=False,\n",
    "    mask_outcome_values=False,\n",
    "    mask_context_key_values=False,\n",
    "    mask_context_key_names=False,\n",
    ")\n",
    "anon.process()\n"
   ]
  },
  {
   "attachments": {},
   "cell_type": "markdown",
   "metadata": {},
   "source": [
    "The configs can also be written and read as such:"
   ]
  },
  {
   "cell_type": "code",
   "execution_count": 9,
   "metadata": {
    "execution": {
     "iopub.execute_input": "2023-06-21T11:27:53.738780Z",
     "iopub.status.busy": "2023-06-21T11:27:53.738566Z",
     "iopub.status.idle": "2023-06-21T11:27:53.741898Z",
     "shell.execute_reply": "2023-06-21T11:27:53.741252Z"
    }
   },
   "outputs": [],
   "source": [
    "anon.config.save_to_config_file('config.json')"
   ]
  },
  {
   "cell_type": "code",
   "execution_count": 10,
   "metadata": {
    "execution": {
     "iopub.execute_input": "2023-06-21T11:27:53.744432Z",
     "iopub.status.busy": "2023-06-21T11:27:53.744219Z",
     "iopub.status.idle": "2023-06-21T11:27:53.755343Z",
     "shell.execute_reply": "2023-06-21T11:27:53.754700Z"
    }
   },
   "outputs": [
    {
     "data": {
      "text/html": [
       "<div><style>\n",
       ".dataframe > thead > tr > th,\n",
       ".dataframe > tbody > tr > td {\n",
       "  text-align: right;\n",
       "}\n",
       "</style>\n",
       "<small>shape: (7, 7)</small><table border=\"1\" class=\"dataframe\"><thead><tr><th>filename</th><th>PREDICTOR_1</th><th>PREDICTOR_2</th><th>PREDICTOR_3</th><th>Context_Name</th><th>IH_Web_Inbound_Accepted_pxLastGroupID</th><th>Decision_Outcome</th></tr><tr><td>str</td><td>str</td><td>str</td><td>f64</td><td>str</td><td>str</td><td>str</td></tr></thead><tbody><tr><td>&quot;../../../../da…</td><td>&quot;11404547384918…</td><td>&quot;43062171125591…</td><td>1.2927e19</td><td>&quot;FirstMortgage3…</td><td>&quot;94572400789038…</td><td>&quot;Rejected&quot;</td></tr><tr><td>&quot;../../../../da…</td><td>&quot;17181087556677…</td><td>&quot;53690163446344…</td><td>1.4856e19</td><td>&quot;FirstMortgage3…</td><td>&quot;31515402810507…</td><td>&quot;Accepted&quot;</td></tr><tr><td>&quot;../../../../da…</td><td>&quot;18438105527449…</td><td>&quot;35113049559343…</td><td>5.6458e17</td><td>&quot;MoneyMarketSav…</td><td>&quot;94572400789038…</td><td>&quot;Rejected&quot;</td></tr><tr><td>&quot;../../../../da…</td><td>&quot;17181087556677…</td><td>&quot;12469279897069…</td><td>4.0723e18</td><td>&quot;BasicChecking&quot;</td><td>&quot;94572400789038…</td><td>&quot;Rejected&quot;</td></tr><tr><td>&quot;../../../../da…</td><td>&quot;11404547384918…</td><td>&quot;72029287291846…</td><td>1.4677e19</td><td>&quot;BasicChecking&quot;</td><td>&quot;11025177936841…</td><td>&quot;Accepted&quot;</td></tr><tr><td>&quot;../../../../da…</td><td>&quot;18438105527449…</td><td>&quot;66779901994881…</td><td>1.6330e19</td><td>&quot;UPlusFinPerson…</td><td>null</td><td>&quot;Rejected&quot;</td></tr><tr><td>&quot;../../../../da…</td><td>&quot;18438105527449…</td><td>&quot;17172116703971…</td><td>8.7675e18</td><td>&quot;BasicChecking&quot;</td><td>&quot;11025177936841…</td><td>&quot;Rejected&quot;</td></tr></tbody></table></div>"
      ],
      "text/plain": [
       "shape: (7, 7)\n",
       "┌───────────────┬──────────────┬──────────────┬─────────────┬────────────┬────────────┬────────────┐\n",
       "│ filename      ┆ PREDICTOR_1  ┆ PREDICTOR_2  ┆ PREDICTOR_3 ┆ Context_Na ┆ IH_Web_Inb ┆ Decision_O │\n",
       "│ ---           ┆ ---          ┆ ---          ┆ ---         ┆ me         ┆ ound_Accep ┆ utcome     │\n",
       "│ str           ┆ str          ┆ str          ┆ f64         ┆ ---        ┆ ted_pxLast ┆ ---        │\n",
       "│               ┆              ┆              ┆             ┆ str        ┆ Gr…        ┆ str        │\n",
       "│               ┆              ┆              ┆             ┆            ┆ ---        ┆            │\n",
       "│               ┆              ┆              ┆             ┆            ┆ str        ┆            │\n",
       "╞═══════════════╪══════════════╪══════════════╪═════════════╪════════════╪════════════╪════════════╡\n",
       "│ ../../../../d ┆ 114045473849 ┆ 430621711255 ┆ 1.2927e19   ┆ FirstMortg ┆ 9457240078 ┆ Rejected   │\n",
       "│ ata/SampleHDS ┆ 18652542     ┆ 9127901      ┆             ┆ age30yr    ┆ 903831230  ┆            │\n",
       "│ .json         ┆              ┆              ┆             ┆            ┆            ┆            │\n",
       "│ ../../../../d ┆ 171810875566 ┆ 536901634463 ┆ 1.4856e19   ┆ FirstMortg ┆ 3151540281 ┆ Accepted   │\n",
       "│ ata/SampleHDS ┆ 77036638     ┆ 4430826      ┆             ┆ age30yr    ┆ 050727509  ┆            │\n",
       "│ .json         ┆              ┆              ┆             ┆            ┆            ┆            │\n",
       "│ ../../../../d ┆ 184381055274 ┆ 351130495593 ┆ 5.6458e17   ┆ MoneyMarke ┆ 9457240078 ┆ Rejected   │\n",
       "│ ata/SampleHDS ┆ 49273013     ┆ 4319279      ┆             ┆ tSavingsAc ┆ 903831230  ┆            │\n",
       "│ .json         ┆              ┆              ┆             ┆ count      ┆            ┆            │\n",
       "│ ../../../../d ┆ 171810875566 ┆ 124692798970 ┆ 4.0723e18   ┆ BasicCheck ┆ 9457240078 ┆ Rejected   │\n",
       "│ ata/SampleHDS ┆ 77036638     ┆ 69653944     ┆             ┆ ing        ┆ 903831230  ┆            │\n",
       "│ .json         ┆              ┆              ┆             ┆            ┆            ┆            │\n",
       "│ ../../../../d ┆ 114045473849 ┆ 720292872918 ┆ 1.4677e19   ┆ BasicCheck ┆ 1102517793 ┆ Accepted   │\n",
       "│ ata/SampleHDS ┆ 18652542     ┆ 46872        ┆             ┆ ing        ┆ 6841759127 ┆            │\n",
       "│ .json         ┆              ┆              ┆             ┆            ┆            ┆            │\n",
       "│ ../../../../d ┆ 184381055274 ┆ 667799019948 ┆ 1.6330e19   ┆ UPlusFinPe ┆ null       ┆ Rejected   │\n",
       "│ ata/SampleHDS ┆ 49273013     ┆ 8137147      ┆             ┆ rsonal     ┆            ┆            │\n",
       "│ .json         ┆              ┆              ┆             ┆            ┆            ┆            │\n",
       "│ ../../../../d ┆ 184381055274 ┆ 171721167039 ┆ 8.7675e18   ┆ BasicCheck ┆ 1102517793 ┆ Rejected   │\n",
       "│ ata/SampleHDS ┆ 49273013     ┆ 71222828     ┆             ┆ ing        ┆ 6841759127 ┆            │\n",
       "│ .json         ┆              ┆              ┆             ┆            ┆            ┆            │\n",
       "└───────────────┴──────────────┴──────────────┴─────────────┴────────────┴────────────┴────────────┘"
      ]
     },
     "execution_count": 10,
     "metadata": {},
     "output_type": "execute_result"
    }
   ],
   "source": [
    "anon = DataAnonymization(config=Config(config_file='config.json'))\n",
    "anon.process()"
   ]
  },
  {
   "attachments": {},
   "cell_type": "markdown",
   "metadata": {},
   "source": [
    "## Exporting\n",
    "Two functions export:\n",
    "- `create_mapping_file()` writes the mapping file of the predictor names\n",
    "- `write_to_output()` writes the processed dataframe to disk\n",
    "\n",
    "Write to output accepts the following extensions: `[\"ndjson\", \"parquet\", \"arrow\", \"csv\"]`"
   ]
  },
  {
   "cell_type": "code",
   "execution_count": 11,
   "metadata": {
    "execution": {
     "iopub.execute_input": "2023-06-21T11:27:53.757957Z",
     "iopub.status.busy": "2023-06-21T11:27:53.757714Z",
     "iopub.status.idle": "2023-06-21T11:27:53.761669Z",
     "shell.execute_reply": "2023-06-21T11:27:53.761036Z"
    }
   },
   "outputs": [
    {
     "name": "stdout",
     "output_type": "stream",
     "text": [
      "filename=filename\n",
      "Customer_MaritalStatus=PREDICTOR_1\n",
      "Customer_City=PREDICTOR_2\n",
      "Customer_CLV=PREDICTOR_3\n",
      "Context_Name=Context_Name\n",
      "IH_Web_Inbound_Accepted_pxLastGroupID=IH_Web_Inbound_Accepted_pxLastGroupID\n",
      "Decision_Outcome=Decision_Outcome\n",
      "\n"
     ]
    }
   ],
   "source": [
    "anon.create_mapping_file()\n",
    "with open('mapping.map') as f:\n",
    "    print(f.read())"
   ]
  },
  {
   "cell_type": "code",
   "execution_count": 12,
   "metadata": {
    "execution": {
     "iopub.execute_input": "2023-06-21T11:27:53.764913Z",
     "iopub.status.busy": "2023-06-21T11:27:53.764679Z",
     "iopub.status.idle": "2023-06-21T11:27:53.768615Z",
     "shell.execute_reply": "2023-06-21T11:27:53.768007Z"
    }
   },
   "outputs": [],
   "source": [
    "anon.write_to_output(ext='arrow')"
   ]
  },
  {
   "cell_type": "code",
   "execution_count": 13,
   "metadata": {
    "execution": {
     "iopub.execute_input": "2023-06-21T11:27:53.771136Z",
     "iopub.status.busy": "2023-06-21T11:27:53.770924Z",
     "iopub.status.idle": "2023-06-21T11:27:53.776156Z",
     "shell.execute_reply": "2023-06-21T11:27:53.775529Z"
    }
   },
   "outputs": [
    {
     "data": {
      "text/html": [
       "<div><style>\n",
       ".dataframe > thead > tr > th,\n",
       ".dataframe > tbody > tr > td {\n",
       "  text-align: right;\n",
       "}\n",
       "</style>\n",
       "<small>shape: (7, 6)</small><table border=\"1\" class=\"dataframe\"><thead><tr><th>PREDICTOR_1</th><th>PREDICTOR_2</th><th>PREDICTOR_3</th><th>Context_Name</th><th>IH_Web_Inbound_Accepted_pxLastGroupID</th><th>Decision_Outcome</th></tr><tr><td>str</td><td>str</td><td>f64</td><td>str</td><td>str</td><td>str</td></tr></thead><tbody><tr><td>&quot;17504707935294…</td><td>&quot;15845156209276…</td><td>1.2927e19</td><td>&quot;FirstMortgage3…</td><td>&quot;10149009894560…</td><td>&quot;Rejected&quot;</td></tr><tr><td>&quot;53873372893109…</td><td>&quot;13860477619638…</td><td>1.4856e19</td><td>&quot;FirstMortgage3…</td><td>&quot;29249144800946…</td><td>&quot;Accepted&quot;</td></tr><tr><td>&quot;65357475894913…</td><td>&quot;12534100378957…</td><td>5.6458e17</td><td>&quot;MoneyMarketSav…</td><td>&quot;10149009894560…</td><td>&quot;Rejected&quot;</td></tr><tr><td>&quot;53873372893109…</td><td>&quot;12418375478126…</td><td>4.0723e18</td><td>&quot;BasicChecking&quot;</td><td>&quot;10149009894560…</td><td>&quot;Rejected&quot;</td></tr><tr><td>&quot;17504707935294…</td><td>&quot;59071463433610…</td><td>1.4677e19</td><td>&quot;BasicChecking&quot;</td><td>&quot;93337275302481…</td><td>&quot;Accepted&quot;</td></tr><tr><td>&quot;65357475894913…</td><td>&quot;14836065567992…</td><td>1.6330e19</td><td>&quot;UPlusFinPerson…</td><td>null</td><td>&quot;Rejected&quot;</td></tr><tr><td>&quot;65357475894913…</td><td>&quot;17618505657411…</td><td>8.7675e18</td><td>&quot;BasicChecking&quot;</td><td>&quot;93337275302481…</td><td>&quot;Rejected&quot;</td></tr></tbody></table></div>"
      ],
      "text/plain": [
       "shape: (7, 6)\n",
       "┌────────────────┬────────────────┬─────────────┬────────────────┬────────────────┬────────────────┐\n",
       "│ PREDICTOR_1    ┆ PREDICTOR_2    ┆ PREDICTOR_3 ┆ Context_Name   ┆ IH_Web_Inbound ┆ Decision_Outco │\n",
       "│ ---            ┆ ---            ┆ ---         ┆ ---            ┆ _Accepted_pxLa ┆ me             │\n",
       "│ str            ┆ str            ┆ f64         ┆ str            ┆ stGr…          ┆ ---            │\n",
       "│                ┆                ┆             ┆                ┆ ---            ┆ str            │\n",
       "│                ┆                ┆             ┆                ┆ str            ┆                │\n",
       "╞════════════════╪════════════════╪═════════════╪════════════════╪════════════════╪════════════════╡\n",
       "│ 17504707935294 ┆ 15845156209276 ┆ 1.2927e19   ┆ FirstMortgage3 ┆ 10149009894560 ┆ Rejected       │\n",
       "│ 418278         ┆ 468576         ┆             ┆ 0yr            ┆ 312942         ┆                │\n",
       "│ 53873372893109 ┆ 13860477619638 ┆ 1.4856e19   ┆ FirstMortgage3 ┆ 29249144800946 ┆ Accepted       │\n",
       "│ 2616           ┆ 861963         ┆             ┆ 0yr            ┆ 1821           ┆                │\n",
       "│ 65357475894913 ┆ 12534100378957 ┆ 5.6458e17   ┆ MoneyMarketSav ┆ 10149009894560 ┆ Rejected       │\n",
       "│ 82042          ┆ 770927         ┆             ┆ ingsAccount    ┆ 312942         ┆                │\n",
       "│ 53873372893109 ┆ 12418375478126 ┆ 4.0723e18   ┆ BasicChecking  ┆ 10149009894560 ┆ Rejected       │\n",
       "│ 2616           ┆ 911484         ┆             ┆                ┆ 312942         ┆                │\n",
       "│ 17504707935294 ┆ 59071463433610 ┆ 1.4677e19   ┆ BasicChecking  ┆ 93337275302481 ┆ Accepted       │\n",
       "│ 418278         ┆ 46845          ┆             ┆                ┆ 62741          ┆                │\n",
       "│ 65357475894913 ┆ 14836065567992 ┆ 1.6330e19   ┆ UPlusFinPerson ┆ null           ┆ Rejected       │\n",
       "│ 82042          ┆ 754277         ┆             ┆ al             ┆                ┆                │\n",
       "│ 65357475894913 ┆ 17618505657411 ┆ 8.7675e18   ┆ BasicChecking  ┆ 93337275302481 ┆ Rejected       │\n",
       "│ 82042          ┆ 63665          ┆             ┆                ┆ 62741          ┆                │\n",
       "└────────────────┴────────────────┴─────────────┴────────────────┴────────────────┴────────────────┘"
      ]
     },
     "execution_count": 13,
     "metadata": {},
     "output_type": "execute_result"
    }
   ],
   "source": [
    "pl.read_ipc('output/hds.arrow')"
   ]
  },
  {
   "attachments": {},
   "cell_type": "markdown",
   "metadata": {},
   "source": [
    "## Advanced: Hash fuctions\n",
    "\n",
    "By default, we use [the same hashing algorithm Polars](https://pola-rs.github.io/polars/py-polars/html/reference/expressions/api/polars.Expr.hash.html#polars.Expr.hash) uses: [xxhash](https://github.com/Cyan4973/xxHash), as implemented [here](https://github.com/pola-rs/polars/blob/3f287f370b3c388ed2f3f218b2c096382548136f/polars/polars-core/src/vector_hasher.rs#L266). xxhash is fast to compute, and you can check its performance in collision, dispersion and randomness [here](https://github.com/Cyan4973/xxHash/tree/dev/tests). \n",
    "\n",
    "xxhash accepts four distinct seeds, but by default we set the seeds to `0`. It is possible to set the `seed` argument of the `process()` function to `'random'`, which will set all four seeds to a random integer between `0` and `1000000000`. Alternatively, it is possible to supply the four seeds manually with arguments `seed`, `seed_1`, `seed_2` and `seed_3`. \n",
    "\n",
    "If the xxhash with (random) seed(s) is not deemed sufficiently secure, it is possible to use your own hashing algorithm.\n",
    "\n",
    "Note that since we're now running python code and not native Polars code anymore, this will be _significantly_ slower. Nonetheless, it is possible.\n",
    "\n",
    "Just as an example - this is how one would use sha3_256:"
   ]
  },
  {
   "cell_type": "code",
   "execution_count": 14,
   "metadata": {
    "execution": {
     "iopub.execute_input": "2023-06-21T11:27:53.779697Z",
     "iopub.status.busy": "2023-06-21T11:27:53.779485Z",
     "iopub.status.idle": "2023-06-21T11:27:54.187998Z",
     "shell.execute_reply": "2023-06-21T11:27:54.187086Z"
    }
   },
   "outputs": [
    {
     "ename": "ComputeError",
     "evalue": "AttributeError: 'int' object has no attribute 'encode'",
     "output_type": "error",
     "traceback": [
      "\u001b[0;31m---------------------------------------------------------------------------\u001b[0m",
      "\u001b[0;31mComputeError\u001b[0m                              Traceback (most recent call last)",
      "Cell \u001b[0;32mIn[14], line 3\u001b[0m\n\u001b[1;32m      1\u001b[0m \u001b[38;5;28;01mfrom\u001b[39;00m \u001b[38;5;21;01mhashlib\u001b[39;00m \u001b[38;5;28;01mimport\u001b[39;00m sha3_256\n\u001b[0;32m----> 3\u001b[0m \u001b[43manon\u001b[49m\u001b[38;5;241;43m.\u001b[39;49m\u001b[43mprocess\u001b[49m\u001b[43m(\u001b[49m\u001b[43malgorithm\u001b[49m\u001b[38;5;241;43m=\u001b[39;49m\u001b[38;5;28;43;01mlambda\u001b[39;49;00m\u001b[43m \u001b[49m\u001b[43mx\u001b[49m\u001b[43m:\u001b[49m\u001b[43m \u001b[49m\u001b[43msha3_256\u001b[49m\u001b[43m(\u001b[49m\u001b[43mx\u001b[49m\u001b[38;5;241;43m.\u001b[39;49m\u001b[43mencode\u001b[49m\u001b[43m(\u001b[49m\u001b[43m)\u001b[49m\u001b[43m)\u001b[49m\u001b[38;5;241;43m.\u001b[39;49m\u001b[43mhexdigest\u001b[49m\u001b[43m(\u001b[49m\u001b[43m)\u001b[49m\u001b[43m)\u001b[49m\n",
      "File \u001b[0;32m~/work/pega-datascientist-tools/pega-datascientist-tools/python/docs/source/articles/../../../pdstools/utils/hds_utils.py:516\u001b[0m, in \u001b[0;36mDataAnonymization.process\u001b[0;34m(self, strategy, **kwargs)\u001b[0m\n\u001b[1;32m    514\u001b[0m df \u001b[38;5;241m=\u001b[39m df\u001b[38;5;241m.\u001b[39mselect(\u001b[38;5;28mself\u001b[39m\u001b[38;5;241m.\u001b[39mcolumn_mapping\u001b[38;5;241m.\u001b[39mkeys())\u001b[38;5;241m.\u001b[39mrename(\u001b[38;5;28mself\u001b[39m\u001b[38;5;241m.\u001b[39mcolumn_mapping)\n\u001b[1;32m    515\u001b[0m \u001b[38;5;28;01mif\u001b[39;00m strategy \u001b[38;5;241m==\u001b[39m \u001b[38;5;124m\"\u001b[39m\u001b[38;5;124meager\u001b[39m\u001b[38;5;124m\"\u001b[39m:\n\u001b[0;32m--> 516\u001b[0m     \u001b[38;5;28;01mreturn\u001b[39;00m \u001b[43mdf\u001b[49m\u001b[38;5;241;43m.\u001b[39;49m\u001b[43mcollect\u001b[49m\u001b[43m(\u001b[49m\u001b[43m)\u001b[49m\n\u001b[1;32m    517\u001b[0m \u001b[38;5;28;01mreturn\u001b[39;00m df\n",
      "File \u001b[0;32m/opt/hostedtoolcache/Python/3.11.4/x64/lib/python3.11/site-packages/polars/lazyframe/frame.py:1504\u001b[0m, in \u001b[0;36mLazyFrame.collect\u001b[0;34m(self, type_coercion, predicate_pushdown, projection_pushdown, simplify_expression, no_optimization, slice_pushdown, common_subplan_elimination, streaming)\u001b[0m\n\u001b[1;32m   1493\u001b[0m     common_subplan_elimination \u001b[38;5;241m=\u001b[39m \u001b[38;5;28;01mFalse\u001b[39;00m\n\u001b[1;32m   1495\u001b[0m ldf \u001b[38;5;241m=\u001b[39m \u001b[38;5;28mself\u001b[39m\u001b[38;5;241m.\u001b[39m_ldf\u001b[38;5;241m.\u001b[39moptimization_toggle(\n\u001b[1;32m   1496\u001b[0m     type_coercion,\n\u001b[1;32m   1497\u001b[0m     predicate_pushdown,\n\u001b[0;32m   (...)\u001b[0m\n\u001b[1;32m   1502\u001b[0m     streaming,\n\u001b[1;32m   1503\u001b[0m )\n\u001b[0;32m-> 1504\u001b[0m \u001b[38;5;28;01mreturn\u001b[39;00m wrap_df(ldf\u001b[38;5;241m.\u001b[39mcollect())\n",
      "\u001b[0;31mComputeError\u001b[0m: AttributeError: 'int' object has no attribute 'encode'"
     ]
    }
   ],
   "source": [
    "from hashlib import sha3_256\n",
    "\n",
    "anon.process(algorithm=lambda x: sha3_256(x.encode()).hexdigest())"
   ]
  }
 ],
 "metadata": {
  "kernelspec": {
   "display_name": "Python 3",
   "language": "python",
   "name": "python3"
  },
  "language_info": {
   "codemirror_mode": {
    "name": "ipython",
    "version": 3
   },
   "file_extension": ".py",
   "mimetype": "text/x-python",
   "name": "python",
   "nbconvert_exporter": "python",
   "pygments_lexer": "ipython3",
   "version": "3.11.4"
  },
  "vscode": {
   "interpreter": {
    "hash": "aee8b7b246df8f9039afb4144a1f6fd8d2ca17a180786b69acc140d282b71a49"
   }
  }
 },
 "nbformat": 4,
 "nbformat_minor": 2
}
