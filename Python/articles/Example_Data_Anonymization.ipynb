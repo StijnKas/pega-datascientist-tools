{
 "cells": [
  {
   "attachments": {},
   "cell_type": "markdown",
   "metadata": {},
   "source": [
    "# Data Anonymization\n",
    "\n",
    "In Pega CDH 8.5 and up, it's now possible to record the historical data as seen by the Adaptive Models. See [this academy challenge](https://academy.pega.com/challenge/exporting-historical-data/v4) for reference. This historical data can be further used to experiment with offline models, but also to fine-tune the OOTB Gradient Boosting model. However, sharing this information with Pega can be sensitive as it contains raw predictor data. \n",
    "\n",
    "To this end, we provide a simple and transparent script to fully anonimize this dataset.\n",
    "\n",
    "The DataAnonymization script is now part of pdstools, and you can import it directly as such."
   ]
  },
  {
   "cell_type": "code",
   "execution_count": 1,
   "metadata": {
    "execution": {
     "iopub.execute_input": "2023-12-13T14:33:12.109766Z",
     "iopub.status.busy": "2023-12-13T14:33:12.109602Z",
     "iopub.status.idle": "2023-12-13T14:33:12.179773Z",
     "shell.execute_reply": "2023-12-13T14:33:12.179249Z"
    },
    "nbsphinx": "hidden"
   },
   "outputs": [],
   "source": [
    "# These lines are only for rendering in the docs, and are hidden through Jupyter tags\n",
    "# Do not run if you're running the notebook seperately\n",
    "\n",
    "import os  \n",
    "import sys\n",
    "import plotly.io as pio\n",
    "pio.renderers.default = \"notebook_connected\"\n",
    "\n",
    "sys.path.append(\"../../../\")\n",
    "sys.path.append('../../python')"
   ]
  },
  {
   "cell_type": "code",
   "execution_count": 2,
   "metadata": {
    "execution": {
     "iopub.execute_input": "2023-12-13T14:33:12.182319Z",
     "iopub.status.busy": "2023-12-13T14:33:12.181858Z",
     "iopub.status.idle": "2023-12-13T14:33:13.192249Z",
     "shell.execute_reply": "2023-12-13T14:33:13.191726Z"
    }
   },
   "outputs": [],
   "source": [
    "from pdstools import ADMDatamart\n",
    "from pdstools import Config, DataAnonymization\n",
    "import polars as pl"
   ]
  },
  {
   "attachments": {},
   "cell_type": "markdown",
   "metadata": {},
   "source": [
    "## Input data\n",
    "\n",
    "To demonstrate this process, we're going to anonymise this toy example dataframe:"
   ]
  },
  {
   "cell_type": "code",
   "execution_count": 3,
   "metadata": {
    "execution": {
     "iopub.execute_input": "2023-12-13T14:33:13.194953Z",
     "iopub.status.busy": "2023-12-13T14:33:13.194383Z",
     "iopub.status.idle": "2023-12-13T14:33:13.203336Z",
     "shell.execute_reply": "2023-12-13T14:33:13.202861Z"
    }
   },
   "outputs": [
    {
     "data": {
      "text/html": [
       "<div><style>\n",
       ".dataframe > thead > tr > th,\n",
       ".dataframe > tbody > tr > td {\n",
       "  text-align: right;\n",
       "  white-space: pre-wrap;\n",
       "}\n",
       "</style>\n",
       "<small>shape: (7, 6)</small><table border=\"1\" class=\"dataframe\"><thead><tr><th>Context_Name</th><th>Customer_MaritalStatus</th><th>Customer_CLV</th><th>Customer_City</th><th>IH_Web_Inbound_Accepted_pxLastGroupID</th><th>Decision_Outcome</th></tr><tr><td>str</td><td>str</td><td>i64</td><td>str</td><td>str</td><td>str</td></tr></thead><tbody><tr><td>&quot;FirstMortgage3…</td><td>&quot;Married&quot;</td><td>1460</td><td>&quot;Port Raoul&quot;</td><td>&quot;Account&quot;</td><td>&quot;Rejected&quot;</td></tr><tr><td>&quot;FirstMortgage3…</td><td>&quot;Unknown&quot;</td><td>669</td><td>&quot;Laurianneshire…</td><td>&quot;AutoLoans&quot;</td><td>&quot;Accepted&quot;</td></tr><tr><td>&quot;MoneyMarketSav…</td><td>&quot;No Resp+&quot;</td><td>1174</td><td>&quot;Jacobshaven&quot;</td><td>&quot;Account&quot;</td><td>&quot;Rejected&quot;</td></tr><tr><td>&quot;BasicChecking&quot;</td><td>&quot;Unknown&quot;</td><td>1476</td><td>&quot;Lindton&quot;</td><td>&quot;Account&quot;</td><td>&quot;Rejected&quot;</td></tr><tr><td>&quot;BasicChecking&quot;</td><td>&quot;Married&quot;</td><td>1211</td><td>&quot;South Jimmiesh…</td><td>&quot;DepositAccount…</td><td>&quot;Accepted&quot;</td></tr><tr><td>&quot;UPlusFinPerson…</td><td>&quot;No Resp+&quot;</td><td>533</td><td>&quot;Bergeville&quot;</td><td>null</td><td>&quot;Rejected&quot;</td></tr><tr><td>&quot;BasicChecking&quot;</td><td>&quot;No Resp+&quot;</td><td>555</td><td>&quot;Willyville&quot;</td><td>&quot;DepositAccount…</td><td>&quot;Rejected&quot;</td></tr></tbody></table></div>"
      ],
      "text/plain": [
       "shape: (7, 6)\n",
       "┌────────────────┬────────────────┬──────────────┬────────────────┬────────────────┬───────────────┐\n",
       "│ Context_Name   ┆ Customer_Marit ┆ Customer_CLV ┆ Customer_City  ┆ IH_Web_Inbound ┆ Decision_Outc │\n",
       "│ ---            ┆ alStatus       ┆ ---          ┆ ---            ┆ _Accepted_pxLa ┆ ome           │\n",
       "│ str            ┆ ---            ┆ i64          ┆ str            ┆ stGr…          ┆ ---           │\n",
       "│                ┆ str            ┆              ┆                ┆ ---            ┆ str           │\n",
       "│                ┆                ┆              ┆                ┆ str            ┆               │\n",
       "╞════════════════╪════════════════╪══════════════╪════════════════╪════════════════╪═══════════════╡\n",
       "│ FirstMortgage3 ┆ Married        ┆ 1460         ┆ Port Raoul     ┆ Account        ┆ Rejected      │\n",
       "│ 0yr            ┆                ┆              ┆                ┆                ┆               │\n",
       "│ FirstMortgage3 ┆ Unknown        ┆ 669          ┆ Laurianneshire ┆ AutoLoans      ┆ Accepted      │\n",
       "│ 0yr            ┆                ┆              ┆                ┆                ┆               │\n",
       "│ MoneyMarketSav ┆ No Resp+       ┆ 1174         ┆ Jacobshaven    ┆ Account        ┆ Rejected      │\n",
       "│ ingsAccount    ┆                ┆              ┆                ┆                ┆               │\n",
       "│ BasicChecking  ┆ Unknown        ┆ 1476         ┆ Lindton        ┆ Account        ┆ Rejected      │\n",
       "│ BasicChecking  ┆ Married        ┆ 1211         ┆ South          ┆ DepositAccount ┆ Accepted      │\n",
       "│                ┆                ┆              ┆ Jimmieshire    ┆ s              ┆               │\n",
       "│ UPlusFinPerson ┆ No Resp+       ┆ 533          ┆ Bergeville     ┆ null           ┆ Rejected      │\n",
       "│ al             ┆                ┆              ┆                ┆                ┆               │\n",
       "│ BasicChecking  ┆ No Resp+       ┆ 555          ┆ Willyville     ┆ DepositAccount ┆ Rejected      │\n",
       "│                ┆                ┆              ┆                ┆ s              ┆               │\n",
       "└────────────────┴────────────────┴──────────────┴────────────────┴────────────────┴───────────────┘"
      ]
     },
     "execution_count": 3,
     "metadata": {},
     "output_type": "execute_result"
    }
   ],
   "source": [
    "pl.read_ndjson('../../../../data/SampleHDS.json')"
   ]
  },
  {
   "attachments": {},
   "cell_type": "markdown",
   "metadata": {},
   "source": [
    "As you can see, this dataset consists of regular predictors, IH predictors, context keys and the outcome column. Additionally, some columns are numeric, others are strings. Let's first initialize the DataAnonymization class."
   ]
  },
  {
   "cell_type": "code",
   "execution_count": 4,
   "metadata": {
    "execution": {
     "iopub.execute_input": "2023-12-13T14:33:13.205613Z",
     "iopub.status.busy": "2023-12-13T14:33:13.205279Z",
     "iopub.status.idle": "2023-12-13T14:33:13.213691Z",
     "shell.execute_reply": "2023-12-13T14:33:13.213257Z"
    }
   },
   "outputs": [],
   "source": [
    "anon = DataAnonymization(hds_folder='../../../../data/')"
   ]
  },
  {
   "attachments": {},
   "cell_type": "markdown",
   "metadata": {},
   "source": [
    "By default, the class applies a set of anonymisation techniques:\n",
    "- Column names are remapped to a non-descriptive name\n",
    "- Categorical values are hashed with a random seed\n",
    "- Numerical values are normalized between 0 and 1\n",
    "- Outcomes are mapped to a binary outcome.\n",
    "\n",
    "To apply these techniques, simply call `.process()`:"
   ]
  },
  {
   "cell_type": "code",
   "execution_count": 5,
   "metadata": {
    "execution": {
     "iopub.execute_input": "2023-12-13T14:33:13.215789Z",
     "iopub.status.busy": "2023-12-13T14:33:13.215439Z",
     "iopub.status.idle": "2023-12-13T14:33:13.221098Z",
     "shell.execute_reply": "2023-12-13T14:33:13.220570Z"
    }
   },
   "outputs": [
    {
     "data": {
      "text/html": [
       "<div><style>\n",
       ".dataframe > thead > tr > th,\n",
       ".dataframe > tbody > tr > td {\n",
       "  text-align: right;\n",
       "  white-space: pre-wrap;\n",
       "}\n",
       "</style>\n",
       "<small>shape: (7, 7)</small><table border=\"1\" class=\"dataframe\"><thead><tr><th>PREDICTOR_0</th><th>PREDICTOR_1</th><th>PREDICTOR_2</th><th>filename</th><th>Context_Name</th><th>IH_PREDICTOR_0</th><th>Decision_Outcome</th></tr><tr><td>str</td><td>f64</td><td>str</td><td>str</td><td>str</td><td>str</td><td>bool</td></tr></thead><tbody><tr><td>&quot;88945527298968…</td><td>1.2927e19</td><td>&quot;93837818692862…</td><td>&quot;../../../../da…</td><td>&quot;73239185242105…</td><td>&quot;77675970219477…</td><td>false</td></tr><tr><td>&quot;11719919838601…</td><td>1.4856e19</td><td>&quot;17648699915268…</td><td>&quot;../../../../da…</td><td>&quot;73239185242105…</td><td>&quot;11920231821231…</td><td>true</td></tr><tr><td>&quot;12160588939708…</td><td>5.6458e17</td><td>&quot;97281193061303…</td><td>&quot;../../../../da…</td><td>&quot;23624208644214…</td><td>&quot;77675970219477…</td><td>false</td></tr><tr><td>&quot;11719919838601…</td><td>4.0723e18</td><td>&quot;67779136794306…</td><td>&quot;../../../../da…</td><td>&quot;95720002195558…</td><td>&quot;77675970219477…</td><td>false</td></tr><tr><td>&quot;88945527298968…</td><td>1.4677e19</td><td>&quot;83978650070482…</td><td>&quot;../../../../da…</td><td>&quot;95720002195558…</td><td>&quot;85522487177668…</td><td>true</td></tr><tr><td>&quot;12160588939708…</td><td>1.6330e19</td><td>&quot;14033821259909…</td><td>&quot;../../../../da…</td><td>&quot;56176689662753…</td><td>null</td><td>false</td></tr><tr><td>&quot;12160588939708…</td><td>8.7675e18</td><td>&quot;18050029038812…</td><td>&quot;../../../../da…</td><td>&quot;95720002195558…</td><td>&quot;85522487177668…</td><td>false</td></tr></tbody></table></div>"
      ],
      "text/plain": [
       "shape: (7, 7)\n",
       "┌──────────────┬─────────────┬─────────────┬─────────────┬─────────────┬─────────────┬─────────────┐\n",
       "│ PREDICTOR_0  ┆ PREDICTOR_1 ┆ PREDICTOR_2 ┆ filename    ┆ Context_Nam ┆ IH_PREDICTO ┆ Decision_Ou │\n",
       "│ ---          ┆ ---         ┆ ---         ┆ ---         ┆ e           ┆ R_0         ┆ tcome       │\n",
       "│ str          ┆ f64         ┆ str         ┆ str         ┆ ---         ┆ ---         ┆ ---         │\n",
       "│              ┆             ┆             ┆             ┆ str         ┆ str         ┆ bool        │\n",
       "╞══════════════╪═════════════╪═════════════╪═════════════╪═════════════╪═════════════╪═════════════╡\n",
       "│ 889455272989 ┆ 1.2927e19   ┆ 93837818692 ┆ ../../../.. ┆ 73239185242 ┆ 77675970219 ┆ false       │\n",
       "│ 6814387      ┆             ┆ 8629187     ┆ /data/Sampl ┆ 10504421    ┆ 47795982    ┆             │\n",
       "│              ┆             ┆             ┆ eHDS.json   ┆             ┆             ┆             │\n",
       "│ 117199198386 ┆ 1.4856e19   ┆ 17648699915 ┆ ../../../.. ┆ 73239185242 ┆ 11920231821 ┆ true        │\n",
       "│ 01750014     ┆             ┆ 268821854   ┆ /data/Sampl ┆ 10504421    ┆ 231289579   ┆             │\n",
       "│              ┆             ┆             ┆ eHDS.json   ┆             ┆             ┆             │\n",
       "│ 121605889397 ┆ 5.6458e17   ┆ 97281193061 ┆ ../../../.. ┆ 23624208644 ┆ 77675970219 ┆ false       │\n",
       "│ 08884226     ┆             ┆ 30380102    ┆ /data/Sampl ┆ 21463711    ┆ 47795982    ┆             │\n",
       "│              ┆             ┆             ┆ eHDS.json   ┆             ┆             ┆             │\n",
       "│ 117199198386 ┆ 4.0723e18   ┆ 67779136794 ┆ ../../../.. ┆ 95720002195 ┆ 77675970219 ┆ false       │\n",
       "│ 01750014     ┆             ┆ 30620819    ┆ /data/Sampl ┆ 5582866     ┆ 47795982    ┆             │\n",
       "│              ┆             ┆             ┆ eHDS.json   ┆             ┆             ┆             │\n",
       "│ 889455272989 ┆ 1.4677e19   ┆ 83978650070 ┆ ../../../.. ┆ 95720002195 ┆ 85522487177 ┆ true        │\n",
       "│ 6814387      ┆             ┆ 48281831    ┆ /data/Sampl ┆ 5582866     ┆ 66814442    ┆             │\n",
       "│              ┆             ┆             ┆ eHDS.json   ┆             ┆             ┆             │\n",
       "│ 121605889397 ┆ 1.6330e19   ┆ 14033821259 ┆ ../../../.. ┆ 56176689662 ┆ null        ┆ false       │\n",
       "│ 08884226     ┆             ┆ 9099359     ┆ /data/Sampl ┆ 75322874    ┆             ┆             │\n",
       "│              ┆             ┆             ┆ eHDS.json   ┆             ┆             ┆             │\n",
       "│ 121605889397 ┆ 8.7675e18   ┆ 18050029038 ┆ ../../../.. ┆ 95720002195 ┆ 85522487177 ┆ false       │\n",
       "│ 08884226     ┆             ┆ 812412808   ┆ /data/Sampl ┆ 5582866     ┆ 66814442    ┆             │\n",
       "│              ┆             ┆             ┆ eHDS.json   ┆             ┆             ┆             │\n",
       "└──────────────┴─────────────┴─────────────┴─────────────┴─────────────┴─────────────┴─────────────┘"
      ]
     },
     "execution_count": 5,
     "metadata": {},
     "output_type": "execute_result"
    }
   ],
   "source": [
    "anon.process()"
   ]
  },
  {
   "attachments": {},
   "cell_type": "markdown",
   "metadata": {},
   "source": [
    "To trace back the columns to their original names, the class also contains a mapping, which does not have to be provided."
   ]
  },
  {
   "cell_type": "code",
   "execution_count": 6,
   "metadata": {
    "execution": {
     "iopub.execute_input": "2023-12-13T14:33:13.223025Z",
     "iopub.status.busy": "2023-12-13T14:33:13.222857Z",
     "iopub.status.idle": "2023-12-13T14:33:13.226417Z",
     "shell.execute_reply": "2023-12-13T14:33:13.225938Z"
    }
   },
   "outputs": [
    {
     "data": {
      "text/plain": [
       "{'Customer_MaritalStatus': 'PREDICTOR_0',\n",
       " 'Customer_CLV': 'PREDICTOR_1',\n",
       " 'Customer_City': 'PREDICTOR_2',\n",
       " 'filename': 'filename',\n",
       " 'Context_Name': 'Context_Name',\n",
       " 'IH_Web_Inbound_Accepted_pxLastGroupID': 'IH_PREDICTOR_0',\n",
       " 'Decision_Outcome': 'Decision_Outcome'}"
      ]
     },
     "execution_count": 6,
     "metadata": {},
     "output_type": "execute_result"
    }
   ],
   "source": [
    "anon.column_mapping"
   ]
  },
  {
   "attachments": {},
   "cell_type": "markdown",
   "metadata": {},
   "source": [
    "## Configs\n",
    "\n",
    "Each capability can optionally be turned off - see below for the full list of config options, and refer to the API reference for the full description."
   ]
  },
  {
   "cell_type": "code",
   "execution_count": 7,
   "metadata": {
    "execution": {
     "iopub.execute_input": "2023-12-13T14:33:13.228439Z",
     "iopub.status.busy": "2023-12-13T14:33:13.228091Z",
     "iopub.status.idle": "2023-12-13T14:33:13.232252Z",
     "shell.execute_reply": "2023-12-13T14:33:13.231756Z"
    }
   },
   "outputs": [
    {
     "data": {
      "text/plain": [
       "{'config_file': None,\n",
       " 'hds_folder': '.',\n",
       " 'use_datamart': False,\n",
       " 'datamart_folder': 'datamart',\n",
       " 'output_format': 'ndjson',\n",
       " 'output_folder': 'output',\n",
       " 'mapping_file': 'mapping.map',\n",
       " 'mask_predictor_names': True,\n",
       " 'mask_context_key_names': False,\n",
       " 'mask_ih_names': True,\n",
       " 'mask_outcome_name': False,\n",
       " 'mask_predictor_values': True,\n",
       " 'mask_context_key_values': True,\n",
       " 'mask_ih_values': True,\n",
       " 'mask_outcome_values': True,\n",
       " 'context_key_label': 'Context_*',\n",
       " 'ih_label': 'IH_*',\n",
       " 'outcome_column': 'Decision_Outcome',\n",
       " 'positive_outcomes': ['Accepted', 'Clicked'],\n",
       " 'negative_outcomes': ['Rejected', 'Impression'],\n",
       " 'special_predictors': ['Decision_DecisionTime',\n",
       "  'Decision_OutcomeTime',\n",
       "  'Decision_Rank'],\n",
       " 'sample_percentage_schema_inferencing': 0.01}"
      ]
     },
     "execution_count": 7,
     "metadata": {},
     "output_type": "execute_result"
    }
   ],
   "source": [
    "dict(zip(Config.__init__.__code__.co_varnames[1:], Config.__init__.__defaults__))"
   ]
  },
  {
   "attachments": {},
   "cell_type": "markdown",
   "metadata": {},
   "source": [
    "It's easy to change these parameters by just passing the keyword arguments. In the following example, we\n",
    "- Keep the IH predictor names\n",
    "- Keep the outcome values\n",
    "- Keep the context key values\n",
    "- Keep the context key predictor names"
   ]
  },
  {
   "cell_type": "code",
   "execution_count": 8,
   "metadata": {
    "execution": {
     "iopub.execute_input": "2023-12-13T14:33:13.234209Z",
     "iopub.status.busy": "2023-12-13T14:33:13.233899Z",
     "iopub.status.idle": "2023-12-13T14:33:13.244781Z",
     "shell.execute_reply": "2023-12-13T14:33:13.244265Z"
    }
   },
   "outputs": [
    {
     "data": {
      "text/html": [
       "<div><style>\n",
       ".dataframe > thead > tr > th,\n",
       ".dataframe > tbody > tr > td {\n",
       "  text-align: right;\n",
       "  white-space: pre-wrap;\n",
       "}\n",
       "</style>\n",
       "<small>shape: (7, 7)</small><table border=\"1\" class=\"dataframe\"><thead><tr><th>PREDICTOR_0</th><th>PREDICTOR_1</th><th>PREDICTOR_2</th><th>filename</th><th>Context_Name</th><th>IH_Web_Inbound_Accepted_pxLastGroupID</th><th>Decision_Outcome</th></tr><tr><td>str</td><td>f64</td><td>str</td><td>str</td><td>str</td><td>str</td><td>str</td></tr></thead><tbody><tr><td>&quot;16582436097159…</td><td>1.2927e19</td><td>&quot;82180385016239…</td><td>&quot;../../../../da…</td><td>&quot;FirstMortgage3…</td><td>&quot;10125362313690…</td><td>&quot;Rejected&quot;</td></tr><tr><td>&quot;13139364891275…</td><td>1.4856e19</td><td>&quot;17974943830241…</td><td>&quot;../../../../da…</td><td>&quot;FirstMortgage3…</td><td>&quot;81416166200102…</td><td>&quot;Accepted&quot;</td></tr><tr><td>&quot;68079525977637…</td><td>5.6458e17</td><td>&quot;16311104902049…</td><td>&quot;../../../../da…</td><td>&quot;MoneyMarketSav…</td><td>&quot;10125362313690…</td><td>&quot;Rejected&quot;</td></tr><tr><td>&quot;13139364891275…</td><td>4.0723e18</td><td>&quot;11650568885024…</td><td>&quot;../../../../da…</td><td>&quot;BasicChecking&quot;</td><td>&quot;10125362313690…</td><td>&quot;Rejected&quot;</td></tr><tr><td>&quot;16582436097159…</td><td>1.4677e19</td><td>&quot;16974687978395…</td><td>&quot;../../../../da…</td><td>&quot;BasicChecking&quot;</td><td>&quot;71876257215794…</td><td>&quot;Accepted&quot;</td></tr><tr><td>&quot;68079525977637…</td><td>1.6330e19</td><td>&quot;16926878725590…</td><td>&quot;../../../../da…</td><td>&quot;UPlusFinPerson…</td><td>null</td><td>&quot;Rejected&quot;</td></tr><tr><td>&quot;68079525977637…</td><td>8.7675e18</td><td>&quot;66095262115458…</td><td>&quot;../../../../da…</td><td>&quot;BasicChecking&quot;</td><td>&quot;71876257215794…</td><td>&quot;Rejected&quot;</td></tr></tbody></table></div>"
      ],
      "text/plain": [
       "shape: (7, 7)\n",
       "┌──────────────┬─────────────┬─────────────┬─────────────┬─────────────┬─────────────┬─────────────┐\n",
       "│ PREDICTOR_0  ┆ PREDICTOR_1 ┆ PREDICTOR_2 ┆ filename    ┆ Context_Nam ┆ IH_Web_Inbo ┆ Decision_Ou │\n",
       "│ ---          ┆ ---         ┆ ---         ┆ ---         ┆ e           ┆ und_Accepte ┆ tcome       │\n",
       "│ str          ┆ f64         ┆ str         ┆ str         ┆ ---         ┆ d_pxLastGr… ┆ ---         │\n",
       "│              ┆             ┆             ┆             ┆ str         ┆ ---         ┆ str         │\n",
       "│              ┆             ┆             ┆             ┆             ┆ str         ┆             │\n",
       "╞══════════════╪═════════════╪═════════════╪═════════════╪═════════════╪═════════════╪═════════════╡\n",
       "│ 165824360971 ┆ 1.2927e19   ┆ 82180385016 ┆ ../../../.. ┆ FirstMortga ┆ 10125362313 ┆ Rejected    │\n",
       "│ 59243312     ┆             ┆ 23923578    ┆ /data/Sampl ┆ ge30yr      ┆ 690247766   ┆             │\n",
       "│              ┆             ┆             ┆ eHDS.json   ┆             ┆             ┆             │\n",
       "│ 131393648912 ┆ 1.4856e19   ┆ 17974943830 ┆ ../../../.. ┆ FirstMortga ┆ 81416166200 ┆ Accepted    │\n",
       "│ 750110       ┆             ┆ 241651895   ┆ /data/Sampl ┆ ge30yr      ┆ 10231850    ┆             │\n",
       "│              ┆             ┆             ┆ eHDS.json   ┆             ┆             ┆             │\n",
       "│ 680795259776 ┆ 5.6458e17   ┆ 16311104902 ┆ ../../../.. ┆ MoneyMarket ┆ 10125362313 ┆ Rejected    │\n",
       "│ 3722514      ┆             ┆ 049436684   ┆ /data/Sampl ┆ SavingsAcco ┆ 690247766   ┆             │\n",
       "│              ┆             ┆             ┆ eHDS.json   ┆ unt         ┆             ┆             │\n",
       "│ 131393648912 ┆ 4.0723e18   ┆ 11650568885 ┆ ../../../.. ┆ BasicChecki ┆ 10125362313 ┆ Rejected    │\n",
       "│ 750110       ┆             ┆ 024992159   ┆ /data/Sampl ┆ ng          ┆ 690247766   ┆             │\n",
       "│              ┆             ┆             ┆ eHDS.json   ┆             ┆             ┆             │\n",
       "│ 165824360971 ┆ 1.4677e19   ┆ 16974687978 ┆ ../../../.. ┆ BasicChecki ┆ 71876257215 ┆ Accepted    │\n",
       "│ 59243312     ┆             ┆ 395152831   ┆ /data/Sampl ┆ ng          ┆ 79419670    ┆             │\n",
       "│              ┆             ┆             ┆ eHDS.json   ┆             ┆             ┆             │\n",
       "│ 680795259776 ┆ 1.6330e19   ┆ 16926878725 ┆ ../../../.. ┆ UPlusFinPer ┆ null        ┆ Rejected    │\n",
       "│ 3722514      ┆             ┆ 590712768   ┆ /data/Sampl ┆ sonal       ┆             ┆             │\n",
       "│              ┆             ┆             ┆ eHDS.json   ┆             ┆             ┆             │\n",
       "│ 680795259776 ┆ 8.7675e18   ┆ 66095262115 ┆ ../../../.. ┆ BasicChecki ┆ 71876257215 ┆ Rejected    │\n",
       "│ 3722514      ┆             ┆ 45803945    ┆ /data/Sampl ┆ ng          ┆ 79419670    ┆             │\n",
       "│              ┆             ┆             ┆ eHDS.json   ┆             ┆             ┆             │\n",
       "└──────────────┴─────────────┴─────────────┴─────────────┴─────────────┴─────────────┴─────────────┘"
      ]
     },
     "execution_count": 8,
     "metadata": {},
     "output_type": "execute_result"
    }
   ],
   "source": [
    "anon = DataAnonymization(\n",
    "    hds_folder=\"../../../../data/\",\n",
    "    mask_ih_names=False,\n",
    "    mask_outcome_values=False,\n",
    "    mask_context_key_values=False,\n",
    "    mask_context_key_names=False,\n",
    ")\n",
    "anon.process()\n"
   ]
  },
  {
   "attachments": {},
   "cell_type": "markdown",
   "metadata": {},
   "source": [
    "The configs can also be written and read as such:"
   ]
  },
  {
   "cell_type": "code",
   "execution_count": 9,
   "metadata": {
    "execution": {
     "iopub.execute_input": "2023-12-13T14:33:13.246882Z",
     "iopub.status.busy": "2023-12-13T14:33:13.246568Z",
     "iopub.status.idle": "2023-12-13T14:33:13.249314Z",
     "shell.execute_reply": "2023-12-13T14:33:13.248890Z"
    }
   },
   "outputs": [],
   "source": [
    "anon.config.save_to_config_file('config.json')"
   ]
  },
  {
   "cell_type": "code",
   "execution_count": 10,
   "metadata": {
    "execution": {
     "iopub.execute_input": "2023-12-13T14:33:13.251203Z",
     "iopub.status.busy": "2023-12-13T14:33:13.250935Z",
     "iopub.status.idle": "2023-12-13T14:33:13.261250Z",
     "shell.execute_reply": "2023-12-13T14:33:13.260733Z"
    }
   },
   "outputs": [
    {
     "data": {
      "text/html": [
       "<div><style>\n",
       ".dataframe > thead > tr > th,\n",
       ".dataframe > tbody > tr > td {\n",
       "  text-align: right;\n",
       "  white-space: pre-wrap;\n",
       "}\n",
       "</style>\n",
       "<small>shape: (7, 7)</small><table border=\"1\" class=\"dataframe\"><thead><tr><th>PREDICTOR_0</th><th>PREDICTOR_1</th><th>PREDICTOR_2</th><th>filename</th><th>Context_Name</th><th>IH_Web_Inbound_Accepted_pxLastGroupID</th><th>Decision_Outcome</th></tr><tr><td>str</td><td>f64</td><td>str</td><td>str</td><td>str</td><td>str</td><td>str</td></tr></thead><tbody><tr><td>&quot;16686079065500…</td><td>1.2927e19</td><td>&quot;14959839893282…</td><td>&quot;../../../../da…</td><td>&quot;FirstMortgage3…</td><td>&quot;17140456795469…</td><td>&quot;Rejected&quot;</td></tr><tr><td>&quot;23747817491141…</td><td>1.4856e19</td><td>&quot;52912516683147…</td><td>&quot;../../../../da…</td><td>&quot;FirstMortgage3…</td><td>&quot;49294037482609…</td><td>&quot;Accepted&quot;</td></tr><tr><td>&quot;99074266395035…</td><td>5.6458e17</td><td>&quot;10515225873486…</td><td>&quot;../../../../da…</td><td>&quot;MoneyMarketSav…</td><td>&quot;17140456795469…</td><td>&quot;Rejected&quot;</td></tr><tr><td>&quot;23747817491141…</td><td>4.0723e18</td><td>&quot;91774708609900…</td><td>&quot;../../../../da…</td><td>&quot;BasicChecking&quot;</td><td>&quot;17140456795469…</td><td>&quot;Rejected&quot;</td></tr><tr><td>&quot;16686079065500…</td><td>1.4677e19</td><td>&quot;11502310219706…</td><td>&quot;../../../../da…</td><td>&quot;BasicChecking&quot;</td><td>&quot;49098197024273…</td><td>&quot;Accepted&quot;</td></tr><tr><td>&quot;99074266395035…</td><td>1.6330e19</td><td>&quot;91056769612006…</td><td>&quot;../../../../da…</td><td>&quot;UPlusFinPerson…</td><td>null</td><td>&quot;Rejected&quot;</td></tr><tr><td>&quot;99074266395035…</td><td>8.7675e18</td><td>&quot;87685034873596…</td><td>&quot;../../../../da…</td><td>&quot;BasicChecking&quot;</td><td>&quot;49098197024273…</td><td>&quot;Rejected&quot;</td></tr></tbody></table></div>"
      ],
      "text/plain": [
       "shape: (7, 7)\n",
       "┌──────────────┬─────────────┬─────────────┬─────────────┬─────────────┬─────────────┬─────────────┐\n",
       "│ PREDICTOR_0  ┆ PREDICTOR_1 ┆ PREDICTOR_2 ┆ filename    ┆ Context_Nam ┆ IH_Web_Inbo ┆ Decision_Ou │\n",
       "│ ---          ┆ ---         ┆ ---         ┆ ---         ┆ e           ┆ und_Accepte ┆ tcome       │\n",
       "│ str          ┆ f64         ┆ str         ┆ str         ┆ ---         ┆ d_pxLastGr… ┆ ---         │\n",
       "│              ┆             ┆             ┆             ┆ str         ┆ ---         ┆ str         │\n",
       "│              ┆             ┆             ┆             ┆             ┆ str         ┆             │\n",
       "╞══════════════╪═════════════╪═════════════╪═════════════╪═════════════╪═════════════╪═════════════╡\n",
       "│ 166860790655 ┆ 1.2927e19   ┆ 14959839893 ┆ ../../../.. ┆ FirstMortga ┆ 17140456795 ┆ Rejected    │\n",
       "│ 00649700     ┆             ┆ 282636388   ┆ /data/Sampl ┆ ge30yr      ┆ 469653450   ┆             │\n",
       "│              ┆             ┆             ┆ eHDS.json   ┆             ┆             ┆             │\n",
       "│ 237478174911 ┆ 1.4856e19   ┆ 52912516683 ┆ ../../../.. ┆ FirstMortga ┆ 49294037482 ┆ Accepted    │\n",
       "│ 4119154      ┆             ┆ 1475738     ┆ /data/Sampl ┆ ge30yr      ┆ 60944740    ┆             │\n",
       "│              ┆             ┆             ┆ eHDS.json   ┆             ┆             ┆             │\n",
       "│ 990742663950 ┆ 5.6458e17   ┆ 10515225873 ┆ ../../../.. ┆ MoneyMarket ┆ 17140456795 ┆ Rejected    │\n",
       "│ 3537868      ┆             ┆ 48661417    ┆ /data/Sampl ┆ SavingsAcco ┆ 469653450   ┆             │\n",
       "│              ┆             ┆             ┆ eHDS.json   ┆ unt         ┆             ┆             │\n",
       "│ 237478174911 ┆ 4.0723e18   ┆ 91774708609 ┆ ../../../.. ┆ BasicChecki ┆ 17140456795 ┆ Rejected    │\n",
       "│ 4119154      ┆             ┆ 9008120     ┆ /data/Sampl ┆ ng          ┆ 469653450   ┆             │\n",
       "│              ┆             ┆             ┆ eHDS.json   ┆             ┆             ┆             │\n",
       "│ 166860790655 ┆ 1.4677e19   ┆ 11502310219 ┆ ../../../.. ┆ BasicChecki ┆ 49098197024 ┆ Accepted    │\n",
       "│ 00649700     ┆             ┆ 706892270   ┆ /data/Sampl ┆ ng          ┆ 27350867    ┆             │\n",
       "│              ┆             ┆             ┆ eHDS.json   ┆             ┆             ┆             │\n",
       "│ 990742663950 ┆ 1.6330e19   ┆ 91056769612 ┆ ../../../.. ┆ UPlusFinPer ┆ null        ┆ Rejected    │\n",
       "│ 3537868      ┆             ┆ 00693183    ┆ /data/Sampl ┆ sonal       ┆             ┆             │\n",
       "│              ┆             ┆             ┆ eHDS.json   ┆             ┆             ┆             │\n",
       "│ 990742663950 ┆ 8.7675e18   ┆ 87685034873 ┆ ../../../.. ┆ BasicChecki ┆ 49098197024 ┆ Rejected    │\n",
       "│ 3537868      ┆             ┆ 59631826    ┆ /data/Sampl ┆ ng          ┆ 27350867    ┆             │\n",
       "│              ┆             ┆             ┆ eHDS.json   ┆             ┆             ┆             │\n",
       "└──────────────┴─────────────┴─────────────┴─────────────┴─────────────┴─────────────┴─────────────┘"
      ]
     },
     "execution_count": 10,
     "metadata": {},
     "output_type": "execute_result"
    }
   ],
   "source": [
    "anon = DataAnonymization(config=Config(config_file='config.json'))\n",
    "anon.process()"
   ]
  },
  {
   "attachments": {},
   "cell_type": "markdown",
   "metadata": {},
   "source": [
    "## Exporting\n",
    "Two functions export:\n",
    "- `create_mapping_file()` writes the mapping file of the predictor names\n",
    "- `write_to_output()` writes the processed dataframe to disk\n",
    "\n",
    "Write to output accepts the following extensions: `[\"ndjson\", \"parquet\", \"arrow\", \"csv\"]`"
   ]
  },
  {
   "cell_type": "code",
   "execution_count": 11,
   "metadata": {
    "execution": {
     "iopub.execute_input": "2023-12-13T14:33:13.263239Z",
     "iopub.status.busy": "2023-12-13T14:33:13.262943Z",
     "iopub.status.idle": "2023-12-13T14:33:13.266433Z",
     "shell.execute_reply": "2023-12-13T14:33:13.265928Z"
    }
   },
   "outputs": [
    {
     "name": "stdout",
     "output_type": "stream",
     "text": [
      "Customer_MaritalStatus=PREDICTOR_0\n",
      "Customer_CLV=PREDICTOR_1\n",
      "Customer_City=PREDICTOR_2\n",
      "filename=filename\n",
      "Context_Name=Context_Name\n",
      "IH_Web_Inbound_Accepted_pxLastGroupID=IH_Web_Inbound_Accepted_pxLastGroupID\n",
      "Decision_Outcome=Decision_Outcome\n",
      "\n"
     ]
    }
   ],
   "source": [
    "anon.create_mapping_file()\n",
    "with open('mapping.map') as f:\n",
    "    print(f.read())"
   ]
  },
  {
   "cell_type": "code",
   "execution_count": 12,
   "metadata": {
    "execution": {
     "iopub.execute_input": "2023-12-13T14:33:13.268325Z",
     "iopub.status.busy": "2023-12-13T14:33:13.268053Z",
     "iopub.status.idle": "2023-12-13T14:33:13.271553Z",
     "shell.execute_reply": "2023-12-13T14:33:13.271026Z"
    }
   },
   "outputs": [],
   "source": [
    "anon.write_to_output(ext='arrow')"
   ]
  },
  {
   "cell_type": "code",
   "execution_count": 13,
   "metadata": {
    "execution": {
     "iopub.execute_input": "2023-12-13T14:33:13.273296Z",
     "iopub.status.busy": "2023-12-13T14:33:13.273133Z",
     "iopub.status.idle": "2023-12-13T14:33:13.277749Z",
     "shell.execute_reply": "2023-12-13T14:33:13.277314Z"
    }
   },
   "outputs": [
    {
     "data": {
      "text/html": [
       "<div><style>\n",
       ".dataframe > thead > tr > th,\n",
       ".dataframe > tbody > tr > td {\n",
       "  text-align: right;\n",
       "  white-space: pre-wrap;\n",
       "}\n",
       "</style>\n",
       "<small>shape: (7, 6)</small><table border=\"1\" class=\"dataframe\"><thead><tr><th>PREDICTOR_0</th><th>PREDICTOR_1</th><th>PREDICTOR_2</th><th>Context_Name</th><th>IH_Web_Inbound_Accepted_pxLastGroupID</th><th>Decision_Outcome</th></tr><tr><td>str</td><td>f64</td><td>str</td><td>str</td><td>str</td><td>str</td></tr></thead><tbody><tr><td>&quot;44345192573017…</td><td>1.2927e19</td><td>&quot;18389633021022…</td><td>&quot;FirstMortgage3…</td><td>&quot;16107099235534…</td><td>&quot;Rejected&quot;</td></tr><tr><td>&quot;44376021020444…</td><td>1.4856e19</td><td>&quot;60236920906636…</td><td>&quot;FirstMortgage3…</td><td>&quot;96895691805128…</td><td>&quot;Accepted&quot;</td></tr><tr><td>&quot;13161436144832…</td><td>5.6458e17</td><td>&quot;14503888285351…</td><td>&quot;MoneyMarketSav…</td><td>&quot;16107099235534…</td><td>&quot;Rejected&quot;</td></tr><tr><td>&quot;44376021020444…</td><td>4.0723e18</td><td>&quot;72425077910630…</td><td>&quot;BasicChecking&quot;</td><td>&quot;16107099235534…</td><td>&quot;Rejected&quot;</td></tr><tr><td>&quot;44345192573017…</td><td>1.4677e19</td><td>&quot;16929505030521…</td><td>&quot;BasicChecking&quot;</td><td>&quot;97404980987137…</td><td>&quot;Accepted&quot;</td></tr><tr><td>&quot;13161436144832…</td><td>1.6330e19</td><td>&quot;14300843658167…</td><td>&quot;UPlusFinPerson…</td><td>null</td><td>&quot;Rejected&quot;</td></tr><tr><td>&quot;13161436144832…</td><td>8.7675e18</td><td>&quot;11116172582286…</td><td>&quot;BasicChecking&quot;</td><td>&quot;97404980987137…</td><td>&quot;Rejected&quot;</td></tr></tbody></table></div>"
      ],
      "text/plain": [
       "shape: (7, 6)\n",
       "┌────────────────┬─────────────┬────────────────┬────────────────┬────────────────┬────────────────┐\n",
       "│ PREDICTOR_0    ┆ PREDICTOR_1 ┆ PREDICTOR_2    ┆ Context_Name   ┆ IH_Web_Inbound ┆ Decision_Outco │\n",
       "│ ---            ┆ ---         ┆ ---            ┆ ---            ┆ _Accepted_pxLa ┆ me             │\n",
       "│ str            ┆ f64         ┆ str            ┆ str            ┆ stGr…          ┆ ---            │\n",
       "│                ┆             ┆                ┆                ┆ ---            ┆ str            │\n",
       "│                ┆             ┆                ┆                ┆ str            ┆                │\n",
       "╞════════════════╪═════════════╪════════════════╪════════════════╪════════════════╪════════════════╡\n",
       "│ 44345192573017 ┆ 1.2927e19   ┆ 18389633021022 ┆ FirstMortgage3 ┆ 16107099235534 ┆ Rejected       │\n",
       "│ 02414          ┆             ┆ 312097         ┆ 0yr            ┆ 523399         ┆                │\n",
       "│ 44376021020444 ┆ 1.4856e19   ┆ 60236920906636 ┆ FirstMortgage3 ┆ 96895691805128 ┆ Accepted       │\n",
       "│ 60640          ┆             ┆ 89854          ┆ 0yr            ┆ 77874          ┆                │\n",
       "│ 13161436144832 ┆ 5.6458e17   ┆ 14503888285351 ┆ MoneyMarketSav ┆ 16107099235534 ┆ Rejected       │\n",
       "│ 187897         ┆             ┆ 103051         ┆ ingsAccount    ┆ 523399         ┆                │\n",
       "│ 44376021020444 ┆ 4.0723e18   ┆ 72425077910630 ┆ BasicChecking  ┆ 16107099235534 ┆ Rejected       │\n",
       "│ 60640          ┆             ┆ 81650          ┆                ┆ 523399         ┆                │\n",
       "│ 44345192573017 ┆ 1.4677e19   ┆ 16929505030521 ┆ BasicChecking  ┆ 97404980987137 ┆ Accepted       │\n",
       "│ 02414          ┆             ┆ 855658         ┆                ┆ 85489          ┆                │\n",
       "│ 13161436144832 ┆ 1.6330e19   ┆ 14300843658167 ┆ UPlusFinPerson ┆ null           ┆ Rejected       │\n",
       "│ 187897         ┆             ┆ 500876         ┆ al             ┆                ┆                │\n",
       "│ 13161436144832 ┆ 8.7675e18   ┆ 11116172582286 ┆ BasicChecking  ┆ 97404980987137 ┆ Rejected       │\n",
       "│ 187897         ┆             ┆ 555219         ┆                ┆ 85489          ┆                │\n",
       "└────────────────┴─────────────┴────────────────┴────────────────┴────────────────┴────────────────┘"
      ]
     },
     "execution_count": 13,
     "metadata": {},
     "output_type": "execute_result"
    }
   ],
   "source": [
    "pl.read_ipc('output/hds.arrow')"
   ]
  },
  {
   "attachments": {},
   "cell_type": "markdown",
   "metadata": {
    "nbsphinx": "hidden"
   },
   "source": [
    "## Advanced: Hash fuctions\n",
    "\n",
    "By default, we use [the same hashing algorithm Polars](https://pola-rs.github.io/polars/py-polars/html/reference/expressions/api/polars.Expr.hash.html#polars.Expr.hash) uses: [xxhash](https://github.com/Cyan4973/xxHash), as implemented [here](https://github.com/pola-rs/polars/blob/3f287f370b3c388ed2f3f218b2c096382548136f/polars/polars-core/src/vector_hasher.rs#L266). xxhash is fast to compute, and you can check its performance in collision, dispersion and randomness [here](https://github.com/Cyan4973/xxHash/tree/dev/tests). \n",
    "\n",
    "xxhash accepts four distinct seeds, but by default we set the seeds to `0`. It is possible to set the `seed` argument of the `process()` function to `'random'`, which will set all four seeds to a random integer between `0` and `1000000000`. Alternatively, it is possible to supply the four seeds manually with arguments `seed`, `seed_1`, `seed_2` and `seed_3`. \n",
    "\n",
    "If the xxhash with (random) seed(s) is not deemed sufficiently secure, it is possible to use your own hashing algorithm.\n",
    "\n",
    "Note that since we're now running python code and not native Polars code anymore, this will be _significantly_ slower. Nonetheless, it is possible.\n",
    "\n",
    "Just as an example - this is how one would use sha3_256:"
   ]
  },
  {
   "cell_type": "code",
   "execution_count": 14,
   "metadata": {
    "execution": {
     "iopub.execute_input": "2023-12-13T14:33:13.279506Z",
     "iopub.status.busy": "2023-12-13T14:33:13.279348Z",
     "iopub.status.idle": "2023-12-13T14:33:13.610583Z",
     "shell.execute_reply": "2023-12-13T14:33:13.609937Z"
    },
    "nbsphinx": "hidden"
   },
   "outputs": [
    {
     "ename": "ComputeError",
     "evalue": "AttributeError: 'int' object has no attribute 'encode'",
     "output_type": "error",
     "traceback": [
      "\u001b[0;31m---------------------------------------------------------------------------\u001b[0m",
      "\u001b[0;31mComputeError\u001b[0m                              Traceback (most recent call last)",
      "Cell \u001b[0;32mIn[14], line 3\u001b[0m\n\u001b[1;32m      1\u001b[0m \u001b[38;5;28;01mfrom\u001b[39;00m \u001b[38;5;21;01mhashlib\u001b[39;00m \u001b[38;5;28;01mimport\u001b[39;00m sha3_256\n\u001b[0;32m----> 3\u001b[0m \u001b[43manon\u001b[49m\u001b[38;5;241;43m.\u001b[39;49m\u001b[43mprocess\u001b[49m\u001b[43m(\u001b[49m\u001b[43malgorithm\u001b[49m\u001b[38;5;241;43m=\u001b[39;49m\u001b[38;5;28;43;01mlambda\u001b[39;49;00m\u001b[43m \u001b[49m\u001b[43mx\u001b[49m\u001b[43m:\u001b[49m\u001b[43m \u001b[49m\u001b[43msha3_256\u001b[49m\u001b[43m(\u001b[49m\u001b[43mx\u001b[49m\u001b[38;5;241;43m.\u001b[39;49m\u001b[43mencode\u001b[49m\u001b[43m(\u001b[49m\u001b[43m)\u001b[49m\u001b[43m)\u001b[49m\u001b[38;5;241;43m.\u001b[39;49m\u001b[43mhexdigest\u001b[49m\u001b[43m(\u001b[49m\u001b[43m)\u001b[49m\u001b[43m)\u001b[49m\n",
      "File \u001b[0;32m~/work/pega-datascientist-tools/pega-datascientist-tools/python/docs/source/articles/../../../pdstools/utils/hds_utils.py:516\u001b[0m, in \u001b[0;36mDataAnonymization.process\u001b[0;34m(self, strategy, **kwargs)\u001b[0m\n\u001b[1;32m    514\u001b[0m df \u001b[38;5;241m=\u001b[39m df\u001b[38;5;241m.\u001b[39mselect(\u001b[38;5;28mself\u001b[39m\u001b[38;5;241m.\u001b[39mcolumn_mapping\u001b[38;5;241m.\u001b[39mkeys())\u001b[38;5;241m.\u001b[39mrename(\u001b[38;5;28mself\u001b[39m\u001b[38;5;241m.\u001b[39mcolumn_mapping)\n\u001b[1;32m    515\u001b[0m \u001b[38;5;28;01mif\u001b[39;00m strategy \u001b[38;5;241m==\u001b[39m \u001b[38;5;124m\"\u001b[39m\u001b[38;5;124meager\u001b[39m\u001b[38;5;124m\"\u001b[39m:\n\u001b[0;32m--> 516\u001b[0m     \u001b[38;5;28;01mreturn\u001b[39;00m \u001b[43mdf\u001b[49m\u001b[38;5;241;43m.\u001b[39;49m\u001b[43mcollect\u001b[49m\u001b[43m(\u001b[49m\u001b[43m)\u001b[49m\n\u001b[1;32m    517\u001b[0m \u001b[38;5;28;01mreturn\u001b[39;00m df\n",
      "File \u001b[0;32m/opt/hostedtoolcache/Python/3.11.7/x64/lib/python3.11/site-packages/polars/utils/deprecation.py:100\u001b[0m, in \u001b[0;36mdeprecate_renamed_parameter.<locals>.decorate.<locals>.wrapper\u001b[0;34m(*args, **kwargs)\u001b[0m\n\u001b[1;32m     95\u001b[0m \u001b[38;5;129m@wraps\u001b[39m(function)\n\u001b[1;32m     96\u001b[0m \u001b[38;5;28;01mdef\u001b[39;00m \u001b[38;5;21mwrapper\u001b[39m(\u001b[38;5;241m*\u001b[39margs: P\u001b[38;5;241m.\u001b[39margs, \u001b[38;5;241m*\u001b[39m\u001b[38;5;241m*\u001b[39mkwargs: P\u001b[38;5;241m.\u001b[39mkwargs) \u001b[38;5;241m-\u001b[39m\u001b[38;5;241m>\u001b[39m T:\n\u001b[1;32m     97\u001b[0m     _rename_keyword_argument(\n\u001b[1;32m     98\u001b[0m         old_name, new_name, kwargs, function\u001b[38;5;241m.\u001b[39m\u001b[38;5;18m__name__\u001b[39m, version\n\u001b[1;32m     99\u001b[0m     )\n\u001b[0;32m--> 100\u001b[0m     \u001b[38;5;28;01mreturn\u001b[39;00m \u001b[43mfunction\u001b[49m\u001b[43m(\u001b[49m\u001b[38;5;241;43m*\u001b[39;49m\u001b[43margs\u001b[49m\u001b[43m,\u001b[49m\u001b[43m \u001b[49m\u001b[38;5;241;43m*\u001b[39;49m\u001b[38;5;241;43m*\u001b[39;49m\u001b[43mkwargs\u001b[49m\u001b[43m)\u001b[49m\n",
      "File \u001b[0;32m/opt/hostedtoolcache/Python/3.11.7/x64/lib/python3.11/site-packages/polars/lazyframe/frame.py:1787\u001b[0m, in \u001b[0;36mLazyFrame.collect\u001b[0;34m(self, type_coercion, predicate_pushdown, projection_pushdown, simplify_expression, slice_pushdown, comm_subplan_elim, comm_subexpr_elim, no_optimization, streaming, _eager)\u001b[0m\n\u001b[1;32m   1774\u001b[0m     comm_subplan_elim \u001b[38;5;241m=\u001b[39m \u001b[38;5;28;01mFalse\u001b[39;00m\n\u001b[1;32m   1776\u001b[0m ldf \u001b[38;5;241m=\u001b[39m \u001b[38;5;28mself\u001b[39m\u001b[38;5;241m.\u001b[39m_ldf\u001b[38;5;241m.\u001b[39moptimization_toggle(\n\u001b[1;32m   1777\u001b[0m     type_coercion,\n\u001b[1;32m   1778\u001b[0m     predicate_pushdown,\n\u001b[0;32m   (...)\u001b[0m\n\u001b[1;32m   1785\u001b[0m     _eager,\n\u001b[1;32m   1786\u001b[0m )\n\u001b[0;32m-> 1787\u001b[0m \u001b[38;5;28;01mreturn\u001b[39;00m wrap_df(ldf\u001b[38;5;241m.\u001b[39mcollect())\n",
      "\u001b[0;31mComputeError\u001b[0m: AttributeError: 'int' object has no attribute 'encode'"
     ]
    }
   ],
   "source": [
    "from hashlib import sha3_256\n",
    "\n",
    "anon.process(algorithm=lambda x: sha3_256(x.encode()).hexdigest())"
   ]
  }
 ],
 "metadata": {
  "kernelspec": {
   "display_name": "Python 3",
   "language": "python",
   "name": "python3"
  },
  "language_info": {
   "codemirror_mode": {
    "name": "ipython",
    "version": 3
   },
   "file_extension": ".py",
   "mimetype": "text/x-python",
   "name": "python",
   "nbconvert_exporter": "python",
   "pygments_lexer": "ipython3",
   "version": "3.11.7"
  },
  "vscode": {
   "interpreter": {
    "hash": "aee8b7b246df8f9039afb4144a1f6fd8d2ca17a180786b69acc140d282b71a49"
   }
  }
 },
 "nbformat": 4,
 "nbformat_minor": 2
}
