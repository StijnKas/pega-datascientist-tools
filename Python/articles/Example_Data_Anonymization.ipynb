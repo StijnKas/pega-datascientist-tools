{
 "cells": [
  {
   "attachments": {},
   "cell_type": "markdown",
   "metadata": {},
   "source": [
    "# Data Anonymization\n",
    "\n",
    "In Pega CDH 8.5 and up, it's now possible to record the historical data as seen by the Adaptive Models. See [this academy challenge](https://academy.pega.com/challenge/exporting-historical-data/v4) for reference. This historical data can be further used to experiment with offline models, but also to fine-tune the OOTB Gradient Boosting model. However, sharing this information with Pega can be sensitive as it contains raw predictor data. \n",
    "\n",
    "To this end, we provide a simple and transparent script to fully anonimize this dataset.\n",
    "\n",
    "The DataAnonymization script is now part of pdstools, and you can import it directly as such."
   ]
  },
  {
   "cell_type": "code",
   "execution_count": 1,
   "metadata": {
    "execution": {
     "iopub.execute_input": "2024-04-08T07:55:43.582688Z",
     "iopub.status.busy": "2024-04-08T07:55:43.582524Z",
     "iopub.status.idle": "2024-04-08T07:55:43.652213Z",
     "shell.execute_reply": "2024-04-08T07:55:43.651642Z"
    },
    "nbsphinx": "hidden"
   },
   "outputs": [],
   "source": [
    "# These lines are only for rendering in the docs, and are hidden through Jupyter tags\n",
    "# Do not run if you're running the notebook seperately\n",
    "\n",
    "import os  \n",
    "import sys\n",
    "import plotly.io as pio\n",
    "pio.renderers.default = \"notebook_connected\"\n",
    "\n",
    "sys.path.append(\"../../../\")\n",
    "sys.path.append('../../python')"
   ]
  },
  {
   "cell_type": "code",
   "execution_count": 2,
   "metadata": {
    "execution": {
     "iopub.execute_input": "2024-04-08T07:55:43.654554Z",
     "iopub.status.busy": "2024-04-08T07:55:43.654220Z",
     "iopub.status.idle": "2024-04-08T07:55:44.654374Z",
     "shell.execute_reply": "2024-04-08T07:55:44.653757Z"
    }
   },
   "outputs": [],
   "source": [
    "from pdstools import ADMDatamart\n",
    "from pdstools import Config, DataAnonymization\n",
    "import polars as pl"
   ]
  },
  {
   "attachments": {},
   "cell_type": "markdown",
   "metadata": {},
   "source": [
    "## Input data\n",
    "\n",
    "To demonstrate this process, we're going to anonymise this toy example dataframe:"
   ]
  },
  {
   "cell_type": "code",
   "execution_count": 3,
   "metadata": {
    "execution": {
     "iopub.execute_input": "2024-04-08T07:55:44.657074Z",
     "iopub.status.busy": "2024-04-08T07:55:44.656654Z",
     "iopub.status.idle": "2024-04-08T07:55:44.664565Z",
     "shell.execute_reply": "2024-04-08T07:55:44.663999Z"
    }
   },
   "outputs": [
    {
     "data": {
      "text/html": [
       "<div><style>\n",
       ".dataframe > thead > tr,\n",
       ".dataframe > tbody > tr {\n",
       "  text-align: right;\n",
       "  white-space: pre-wrap;\n",
       "}\n",
       "</style>\n",
       "<small>shape: (7, 6)</small><table border=\"1\" class=\"dataframe\"><thead><tr><th>Context_Name</th><th>Customer_MaritalStatus</th><th>Customer_CLV</th><th>Customer_City</th><th>IH_Web_Inbound_Accepted_pxLastGroupID</th><th>Decision_Outcome</th></tr><tr><td>str</td><td>str</td><td>i64</td><td>str</td><td>str</td><td>str</td></tr></thead><tbody><tr><td>&quot;FirstMortgage3…</td><td>&quot;Married&quot;</td><td>1460</td><td>&quot;Port Raoul&quot;</td><td>&quot;Account&quot;</td><td>&quot;Rejected&quot;</td></tr><tr><td>&quot;FirstMortgage3…</td><td>&quot;Unknown&quot;</td><td>669</td><td>&quot;Laurianneshire…</td><td>&quot;AutoLoans&quot;</td><td>&quot;Accepted&quot;</td></tr><tr><td>&quot;MoneyMarketSav…</td><td>&quot;No Resp+&quot;</td><td>1174</td><td>&quot;Jacobshaven&quot;</td><td>&quot;Account&quot;</td><td>&quot;Rejected&quot;</td></tr><tr><td>&quot;BasicChecking&quot;</td><td>&quot;Unknown&quot;</td><td>1476</td><td>&quot;Lindton&quot;</td><td>&quot;Account&quot;</td><td>&quot;Rejected&quot;</td></tr><tr><td>&quot;BasicChecking&quot;</td><td>&quot;Married&quot;</td><td>1211</td><td>&quot;South Jimmiesh…</td><td>&quot;DepositAccount…</td><td>&quot;Accepted&quot;</td></tr><tr><td>&quot;UPlusFinPerson…</td><td>&quot;No Resp+&quot;</td><td>533</td><td>&quot;Bergeville&quot;</td><td>null</td><td>&quot;Rejected&quot;</td></tr><tr><td>&quot;BasicChecking&quot;</td><td>&quot;No Resp+&quot;</td><td>555</td><td>&quot;Willyville&quot;</td><td>&quot;DepositAccount…</td><td>&quot;Rejected&quot;</td></tr></tbody></table></div>"
      ],
      "text/plain": [
       "shape: (7, 6)\n",
       "┌────────────────┬────────────────┬──────────────┬────────────────┬────────────────┬───────────────┐\n",
       "│ Context_Name   ┆ Customer_Marit ┆ Customer_CLV ┆ Customer_City  ┆ IH_Web_Inbound ┆ Decision_Outc │\n",
       "│ ---            ┆ alStatus       ┆ ---          ┆ ---            ┆ _Accepted_pxLa ┆ ome           │\n",
       "│ str            ┆ ---            ┆ i64          ┆ str            ┆ stGr…          ┆ ---           │\n",
       "│                ┆ str            ┆              ┆                ┆ ---            ┆ str           │\n",
       "│                ┆                ┆              ┆                ┆ str            ┆               │\n",
       "╞════════════════╪════════════════╪══════════════╪════════════════╪════════════════╪═══════════════╡\n",
       "│ FirstMortgage3 ┆ Married        ┆ 1460         ┆ Port Raoul     ┆ Account        ┆ Rejected      │\n",
       "│ 0yr            ┆                ┆              ┆                ┆                ┆               │\n",
       "│ FirstMortgage3 ┆ Unknown        ┆ 669          ┆ Laurianneshire ┆ AutoLoans      ┆ Accepted      │\n",
       "│ 0yr            ┆                ┆              ┆                ┆                ┆               │\n",
       "│ MoneyMarketSav ┆ No Resp+       ┆ 1174         ┆ Jacobshaven    ┆ Account        ┆ Rejected      │\n",
       "│ ingsAccount    ┆                ┆              ┆                ┆                ┆               │\n",
       "│ BasicChecking  ┆ Unknown        ┆ 1476         ┆ Lindton        ┆ Account        ┆ Rejected      │\n",
       "│ BasicChecking  ┆ Married        ┆ 1211         ┆ South          ┆ DepositAccount ┆ Accepted      │\n",
       "│                ┆                ┆              ┆ Jimmieshire    ┆ s              ┆               │\n",
       "│ UPlusFinPerson ┆ No Resp+       ┆ 533          ┆ Bergeville     ┆ null           ┆ Rejected      │\n",
       "│ al             ┆                ┆              ┆                ┆                ┆               │\n",
       "│ BasicChecking  ┆ No Resp+       ┆ 555          ┆ Willyville     ┆ DepositAccount ┆ Rejected      │\n",
       "│                ┆                ┆              ┆                ┆ s              ┆               │\n",
       "└────────────────┴────────────────┴──────────────┴────────────────┴────────────────┴───────────────┘"
      ]
     },
     "execution_count": 3,
     "metadata": {},
     "output_type": "execute_result"
    }
   ],
   "source": [
    "pl.read_ndjson('../../../../data/SampleHDS.json')"
   ]
  },
  {
   "attachments": {},
   "cell_type": "markdown",
   "metadata": {},
   "source": [
    "As you can see, this dataset consists of regular predictors, IH predictors, context keys and the outcome column. Additionally, some columns are numeric, others are strings. Let's first initialize the DataAnonymization class."
   ]
  },
  {
   "cell_type": "code",
   "execution_count": 4,
   "metadata": {
    "execution": {
     "iopub.execute_input": "2024-04-08T07:55:44.666698Z",
     "iopub.status.busy": "2024-04-08T07:55:44.666322Z",
     "iopub.status.idle": "2024-04-08T07:55:44.672148Z",
     "shell.execute_reply": "2024-04-08T07:55:44.671706Z"
    }
   },
   "outputs": [],
   "source": [
    "anon = DataAnonymization(hds_folder='../../../../data/')"
   ]
  },
  {
   "attachments": {},
   "cell_type": "markdown",
   "metadata": {},
   "source": [
    "By default, the class applies a set of anonymisation techniques:\n",
    "- Column names are remapped to a non-descriptive name\n",
    "- Categorical values are hashed with a random seed\n",
    "- Numerical values are normalized between 0 and 1\n",
    "- Outcomes are mapped to a binary outcome.\n",
    "\n",
    "To apply these techniques, simply call `.process()`:"
   ]
  },
  {
   "cell_type": "code",
   "execution_count": 5,
   "metadata": {
    "execution": {
     "iopub.execute_input": "2024-04-08T07:55:44.674151Z",
     "iopub.status.busy": "2024-04-08T07:55:44.673853Z",
     "iopub.status.idle": "2024-04-08T07:55:44.679157Z",
     "shell.execute_reply": "2024-04-08T07:55:44.678737Z"
    }
   },
   "outputs": [
    {
     "data": {
      "text/html": [
       "<div><style>\n",
       ".dataframe > thead > tr,\n",
       ".dataframe > tbody > tr {\n",
       "  text-align: right;\n",
       "  white-space: pre-wrap;\n",
       "}\n",
       "</style>\n",
       "<small>shape: (7, 7)</small><table border=\"1\" class=\"dataframe\"><thead><tr><th>PREDICTOR_0</th><th>PREDICTOR_1</th><th>PREDICTOR_2</th><th>filename</th><th>Context_Name</th><th>IH_PREDICTOR_0</th><th>Decision_Outcome</th></tr><tr><td>f64</td><td>str</td><td>str</td><td>str</td><td>str</td><td>str</td><td>bool</td></tr></thead><tbody><tr><td>0.983033</td><td>&quot;12249502927619…</td><td>&quot;86042211074412…</td><td>&quot;../../../../da…</td><td>&quot;16070643130240…</td><td>&quot;12581602152447…</td><td>false</td></tr><tr><td>0.144221</td><td>&quot;78538896275013…</td><td>&quot;14790277734238…</td><td>&quot;../../../../da…</td><td>&quot;16070643130240…</td><td>&quot;17360215677611…</td><td>true</td></tr><tr><td>0.679745</td><td>&quot;12500012403984…</td><td>&quot;15012080527241…</td><td>&quot;../../../../da…</td><td>&quot;41393944907364…</td><td>&quot;12581602152447…</td><td>false</td></tr><tr><td>1.0</td><td>&quot;78538896275013…</td><td>&quot;11144430626797…</td><td>&quot;../../../../da…</td><td>&quot;28532511430333…</td><td>&quot;12581602152447…</td><td>false</td></tr><tr><td>0.718982</td><td>&quot;12249502927619…</td><td>&quot;16643628383471…</td><td>&quot;../../../../da…</td><td>&quot;28532511430333…</td><td>&quot;17933557521831…</td><td>true</td></tr><tr><td>0.0</td><td>&quot;12500012403984…</td><td>&quot;98098447921227…</td><td>&quot;../../../../da…</td><td>&quot;11521820815398…</td><td>null</td><td>false</td></tr><tr><td>0.02333</td><td>&quot;12500012403984…</td><td>&quot;28113095851923…</td><td>&quot;../../../../da…</td><td>&quot;28532511430333…</td><td>&quot;17933557521831…</td><td>false</td></tr></tbody></table></div>"
      ],
      "text/plain": [
       "shape: (7, 7)\n",
       "┌─────────────┬──────────────┬─────────────┬─────────────┬─────────────┬─────────────┬─────────────┐\n",
       "│ PREDICTOR_0 ┆ PREDICTOR_1  ┆ PREDICTOR_2 ┆ filename    ┆ Context_Nam ┆ IH_PREDICTO ┆ Decision_Ou │\n",
       "│ ---         ┆ ---          ┆ ---         ┆ ---         ┆ e           ┆ R_0         ┆ tcome       │\n",
       "│ f64         ┆ str          ┆ str         ┆ str         ┆ ---         ┆ ---         ┆ ---         │\n",
       "│             ┆              ┆             ┆             ┆ str         ┆ str         ┆ bool        │\n",
       "╞═════════════╪══════════════╪═════════════╪═════════════╪═════════════╪═════════════╪═════════════╡\n",
       "│ 0.983033    ┆ 122495029276 ┆ 86042211074 ┆ ../../../.. ┆ 16070643130 ┆ 12581602152 ┆ false       │\n",
       "│             ┆ 19029448     ┆ 41226415    ┆ /data/Sampl ┆ 240887434   ┆ 447005964   ┆             │\n",
       "│             ┆              ┆             ┆ eHDS.json   ┆             ┆             ┆             │\n",
       "│ 0.144221    ┆ 785388962750 ┆ 14790277734 ┆ ../../../.. ┆ 16070643130 ┆ 17360215677 ┆ true        │\n",
       "│             ┆ 1387001      ┆ 238622070   ┆ /data/Sampl ┆ 240887434   ┆ 611828813   ┆             │\n",
       "│             ┆              ┆             ┆ eHDS.json   ┆             ┆             ┆             │\n",
       "│ 0.679745    ┆ 125000124039 ┆ 15012080527 ┆ ../../../.. ┆ 41393944907 ┆ 12581602152 ┆ false       │\n",
       "│             ┆ 84096814     ┆ 24118160    ┆ /data/Sampl ┆ 36452470    ┆ 447005964   ┆             │\n",
       "│             ┆              ┆             ┆ eHDS.json   ┆             ┆             ┆             │\n",
       "│ 1.0         ┆ 785388962750 ┆ 11144430626 ┆ ../../../.. ┆ 28532511430 ┆ 12581602152 ┆ false       │\n",
       "│             ┆ 1387001      ┆ 797792939   ┆ /data/Sampl ┆ 33351755    ┆ 447005964   ┆             │\n",
       "│             ┆              ┆             ┆ eHDS.json   ┆             ┆             ┆             │\n",
       "│ 0.718982    ┆ 122495029276 ┆ 16643628383 ┆ ../../../.. ┆ 28532511430 ┆ 17933557521 ┆ true        │\n",
       "│             ┆ 19029448     ┆ 471461710   ┆ /data/Sampl ┆ 33351755    ┆ 831530532   ┆             │\n",
       "│             ┆              ┆             ┆ eHDS.json   ┆             ┆             ┆             │\n",
       "│ 0.0         ┆ 125000124039 ┆ 98098447921 ┆ ../../../.. ┆ 11521820815 ┆ null        ┆ false       │\n",
       "│             ┆ 84096814     ┆ 22774959    ┆ /data/Sampl ┆ 398582942   ┆             ┆             │\n",
       "│             ┆              ┆             ┆ eHDS.json   ┆             ┆             ┆             │\n",
       "│ 0.02333     ┆ 125000124039 ┆ 28113095851 ┆ ../../../.. ┆ 28532511430 ┆ 17933557521 ┆ false       │\n",
       "│             ┆ 84096814     ┆ 92358592    ┆ /data/Sampl ┆ 33351755    ┆ 831530532   ┆             │\n",
       "│             ┆              ┆             ┆ eHDS.json   ┆             ┆             ┆             │\n",
       "└─────────────┴──────────────┴─────────────┴─────────────┴─────────────┴─────────────┴─────────────┘"
      ]
     },
     "execution_count": 5,
     "metadata": {},
     "output_type": "execute_result"
    }
   ],
   "source": [
    "anon.process()"
   ]
  },
  {
   "attachments": {},
   "cell_type": "markdown",
   "metadata": {},
   "source": [
    "To trace back the columns to their original names, the class also contains a mapping, which does not have to be provided."
   ]
  },
  {
   "cell_type": "code",
   "execution_count": 6,
   "metadata": {
    "execution": {
     "iopub.execute_input": "2024-04-08T07:55:44.681081Z",
     "iopub.status.busy": "2024-04-08T07:55:44.680739Z",
     "iopub.status.idle": "2024-04-08T07:55:44.684349Z",
     "shell.execute_reply": "2024-04-08T07:55:44.683800Z"
    }
   },
   "outputs": [
    {
     "data": {
      "text/plain": [
       "{'Customer_CLV': 'PREDICTOR_0',\n",
       " 'Customer_MaritalStatus': 'PREDICTOR_1',\n",
       " 'Customer_City': 'PREDICTOR_2',\n",
       " 'filename': 'filename',\n",
       " 'Context_Name': 'Context_Name',\n",
       " 'IH_Web_Inbound_Accepted_pxLastGroupID': 'IH_PREDICTOR_0',\n",
       " 'Decision_Outcome': 'Decision_Outcome'}"
      ]
     },
     "execution_count": 6,
     "metadata": {},
     "output_type": "execute_result"
    }
   ],
   "source": [
    "anon.column_mapping"
   ]
  },
  {
   "attachments": {},
   "cell_type": "markdown",
   "metadata": {},
   "source": [
    "## Configs\n",
    "\n",
    "Each capability can optionally be turned off - see below for the full list of config options, and refer to the API reference for the full description."
   ]
  },
  {
   "cell_type": "code",
   "execution_count": 7,
   "metadata": {
    "execution": {
     "iopub.execute_input": "2024-04-08T07:55:44.686355Z",
     "iopub.status.busy": "2024-04-08T07:55:44.685970Z",
     "iopub.status.idle": "2024-04-08T07:55:44.690022Z",
     "shell.execute_reply": "2024-04-08T07:55:44.689508Z"
    }
   },
   "outputs": [
    {
     "data": {
      "text/plain": [
       "{'config_file': None,\n",
       " 'hds_folder': '.',\n",
       " 'use_datamart': False,\n",
       " 'datamart_folder': 'datamart',\n",
       " 'output_format': 'ndjson',\n",
       " 'output_folder': 'output',\n",
       " 'mapping_file': 'mapping.map',\n",
       " 'mask_predictor_names': True,\n",
       " 'mask_context_key_names': False,\n",
       " 'mask_ih_names': True,\n",
       " 'mask_outcome_name': False,\n",
       " 'mask_predictor_values': True,\n",
       " 'mask_context_key_values': True,\n",
       " 'mask_ih_values': True,\n",
       " 'mask_outcome_values': True,\n",
       " 'context_key_label': 'Context_*',\n",
       " 'ih_label': 'IH_*',\n",
       " 'outcome_column': 'Decision_Outcome',\n",
       " 'positive_outcomes': ['Accepted', 'Clicked'],\n",
       " 'negative_outcomes': ['Rejected', 'Impression'],\n",
       " 'special_predictors': ['Decision_DecisionTime',\n",
       "  'Decision_OutcomeTime',\n",
       "  'Decision_Rank'],\n",
       " 'sample_percentage_schema_inferencing': 0.01}"
      ]
     },
     "execution_count": 7,
     "metadata": {},
     "output_type": "execute_result"
    }
   ],
   "source": [
    "dict(zip(Config.__init__.__code__.co_varnames[1:], Config.__init__.__defaults__))"
   ]
  },
  {
   "attachments": {},
   "cell_type": "markdown",
   "metadata": {},
   "source": [
    "It's easy to change these parameters by just passing the keyword arguments. In the following example, we\n",
    "- Keep the IH predictor names\n",
    "- Keep the outcome values\n",
    "- Keep the context key values\n",
    "- Keep the context key predictor names"
   ]
  },
  {
   "cell_type": "code",
   "execution_count": 8,
   "metadata": {
    "execution": {
     "iopub.execute_input": "2024-04-08T07:55:44.692194Z",
     "iopub.status.busy": "2024-04-08T07:55:44.691716Z",
     "iopub.status.idle": "2024-04-08T07:55:44.699456Z",
     "shell.execute_reply": "2024-04-08T07:55:44.699033Z"
    }
   },
   "outputs": [
    {
     "data": {
      "text/html": [
       "<div><style>\n",
       ".dataframe > thead > tr,\n",
       ".dataframe > tbody > tr {\n",
       "  text-align: right;\n",
       "  white-space: pre-wrap;\n",
       "}\n",
       "</style>\n",
       "<small>shape: (7, 7)</small><table border=\"1\" class=\"dataframe\"><thead><tr><th>PREDICTOR_0</th><th>PREDICTOR_1</th><th>PREDICTOR_2</th><th>filename</th><th>Context_Name</th><th>IH_Web_Inbound_Accepted_pxLastGroupID</th><th>Decision_Outcome</th></tr><tr><td>f64</td><td>str</td><td>str</td><td>str</td><td>str</td><td>str</td><td>str</td></tr></thead><tbody><tr><td>0.983033</td><td>&quot;94913893337741…</td><td>&quot;59833892884998…</td><td>&quot;../../../../da…</td><td>&quot;FirstMortgage3…</td><td>&quot;61333049257759…</td><td>&quot;Rejected&quot;</td></tr><tr><td>0.144221</td><td>&quot;58997686691872…</td><td>&quot;13697290440563…</td><td>&quot;../../../../da…</td><td>&quot;FirstMortgage3…</td><td>&quot;12719367232162…</td><td>&quot;Accepted&quot;</td></tr><tr><td>0.679745</td><td>&quot;27620955018113…</td><td>&quot;16872435357674…</td><td>&quot;../../../../da…</td><td>&quot;MoneyMarketSav…</td><td>&quot;61333049257759…</td><td>&quot;Rejected&quot;</td></tr><tr><td>1.0</td><td>&quot;58997686691872…</td><td>&quot;17242578652642…</td><td>&quot;../../../../da…</td><td>&quot;BasicChecking&quot;</td><td>&quot;61333049257759…</td><td>&quot;Rejected&quot;</td></tr><tr><td>0.718982</td><td>&quot;94913893337741…</td><td>&quot;13881469920525…</td><td>&quot;../../../../da…</td><td>&quot;BasicChecking&quot;</td><td>&quot;92392120807932…</td><td>&quot;Accepted&quot;</td></tr><tr><td>0.0</td><td>&quot;27620955018113…</td><td>&quot;51564708334291…</td><td>&quot;../../../../da…</td><td>&quot;UPlusFinPerson…</td><td>null</td><td>&quot;Rejected&quot;</td></tr><tr><td>0.02333</td><td>&quot;27620955018113…</td><td>&quot;86567181109056…</td><td>&quot;../../../../da…</td><td>&quot;BasicChecking&quot;</td><td>&quot;92392120807932…</td><td>&quot;Rejected&quot;</td></tr></tbody></table></div>"
      ],
      "text/plain": [
       "shape: (7, 7)\n",
       "┌─────────────┬──────────────┬─────────────┬─────────────┬─────────────┬─────────────┬─────────────┐\n",
       "│ PREDICTOR_0 ┆ PREDICTOR_1  ┆ PREDICTOR_2 ┆ filename    ┆ Context_Nam ┆ IH_Web_Inbo ┆ Decision_Ou │\n",
       "│ ---         ┆ ---          ┆ ---         ┆ ---         ┆ e           ┆ und_Accepte ┆ tcome       │\n",
       "│ f64         ┆ str          ┆ str         ┆ str         ┆ ---         ┆ d_pxLastGr… ┆ ---         │\n",
       "│             ┆              ┆             ┆             ┆ str         ┆ ---         ┆ str         │\n",
       "│             ┆              ┆             ┆             ┆             ┆ str         ┆             │\n",
       "╞═════════════╪══════════════╪═════════════╪═════════════╪═════════════╪═════════════╪═════════════╡\n",
       "│ 0.983033    ┆ 949138933377 ┆ 59833892884 ┆ ../../../.. ┆ FirstMortga ┆ 61333049257 ┆ Rejected    │\n",
       "│             ┆ 4124101      ┆ 99867766    ┆ /data/Sampl ┆ ge30yr      ┆ 75983234    ┆             │\n",
       "│             ┆              ┆             ┆ eHDS.json   ┆             ┆             ┆             │\n",
       "│ 0.144221    ┆ 589976866918 ┆ 13697290440 ┆ ../../../.. ┆ FirstMortga ┆ 12719367232 ┆ Accepted    │\n",
       "│             ┆ 7255826      ┆ 563309865   ┆ /data/Sampl ┆ ge30yr      ┆ 162444520   ┆             │\n",
       "│             ┆              ┆             ┆ eHDS.json   ┆             ┆             ┆             │\n",
       "│ 0.679745    ┆ 276209550181 ┆ 16872435357 ┆ ../../../.. ┆ MoneyMarket ┆ 61333049257 ┆ Rejected    │\n",
       "│             ┆ 1348393      ┆ 674635085   ┆ /data/Sampl ┆ SavingsAcco ┆ 75983234    ┆             │\n",
       "│             ┆              ┆             ┆ eHDS.json   ┆ unt         ┆             ┆             │\n",
       "│ 1.0         ┆ 589976866918 ┆ 17242578652 ┆ ../../../.. ┆ BasicChecki ┆ 61333049257 ┆ Rejected    │\n",
       "│             ┆ 7255826      ┆ 642377446   ┆ /data/Sampl ┆ ng          ┆ 75983234    ┆             │\n",
       "│             ┆              ┆             ┆ eHDS.json   ┆             ┆             ┆             │\n",
       "│ 0.718982    ┆ 949138933377 ┆ 13881469920 ┆ ../../../.. ┆ BasicChecki ┆ 92392120807 ┆ Accepted    │\n",
       "│             ┆ 4124101      ┆ 525950388   ┆ /data/Sampl ┆ ng          ┆ 93246377    ┆             │\n",
       "│             ┆              ┆             ┆ eHDS.json   ┆             ┆             ┆             │\n",
       "│ 0.0         ┆ 276209550181 ┆ 51564708334 ┆ ../../../.. ┆ UPlusFinPer ┆ null        ┆ Rejected    │\n",
       "│             ┆ 1348393      ┆ 29102202    ┆ /data/Sampl ┆ sonal       ┆             ┆             │\n",
       "│             ┆              ┆             ┆ eHDS.json   ┆             ┆             ┆             │\n",
       "│ 0.02333     ┆ 276209550181 ┆ 86567181109 ┆ ../../../.. ┆ BasicChecki ┆ 92392120807 ┆ Rejected    │\n",
       "│             ┆ 1348393      ┆ 05665875    ┆ /data/Sampl ┆ ng          ┆ 93246377    ┆             │\n",
       "│             ┆              ┆             ┆ eHDS.json   ┆             ┆             ┆             │\n",
       "└─────────────┴──────────────┴─────────────┴─────────────┴─────────────┴─────────────┴─────────────┘"
      ]
     },
     "execution_count": 8,
     "metadata": {},
     "output_type": "execute_result"
    }
   ],
   "source": [
    "anon = DataAnonymization(\n",
    "    hds_folder=\"../../../../data/\",\n",
    "    mask_ih_names=False,\n",
    "    mask_outcome_values=False,\n",
    "    mask_context_key_values=False,\n",
    "    mask_context_key_names=False,\n",
    ")\n",
    "anon.process()\n"
   ]
  },
  {
   "attachments": {},
   "cell_type": "markdown",
   "metadata": {},
   "source": [
    "The configs can also be written and read as such:"
   ]
  },
  {
   "cell_type": "code",
   "execution_count": 9,
   "metadata": {
    "execution": {
     "iopub.execute_input": "2024-04-08T07:55:44.701235Z",
     "iopub.status.busy": "2024-04-08T07:55:44.701059Z",
     "iopub.status.idle": "2024-04-08T07:55:44.703863Z",
     "shell.execute_reply": "2024-04-08T07:55:44.703353Z"
    }
   },
   "outputs": [],
   "source": [
    "anon.config.save_to_config_file('config.json')"
   ]
  },
  {
   "cell_type": "code",
   "execution_count": 10,
   "metadata": {
    "execution": {
     "iopub.execute_input": "2024-04-08T07:55:44.705770Z",
     "iopub.status.busy": "2024-04-08T07:55:44.705493Z",
     "iopub.status.idle": "2024-04-08T07:55:44.712775Z",
     "shell.execute_reply": "2024-04-08T07:55:44.712334Z"
    }
   },
   "outputs": [
    {
     "data": {
      "text/html": [
       "<div><style>\n",
       ".dataframe > thead > tr,\n",
       ".dataframe > tbody > tr {\n",
       "  text-align: right;\n",
       "  white-space: pre-wrap;\n",
       "}\n",
       "</style>\n",
       "<small>shape: (7, 7)</small><table border=\"1\" class=\"dataframe\"><thead><tr><th>PREDICTOR_0</th><th>PREDICTOR_1</th><th>PREDICTOR_2</th><th>filename</th><th>Context_Name</th><th>IH_Web_Inbound_Accepted_pxLastGroupID</th><th>Decision_Outcome</th></tr><tr><td>f64</td><td>str</td><td>str</td><td>str</td><td>str</td><td>str</td><td>str</td></tr></thead><tbody><tr><td>0.983033</td><td>&quot;33381313484202…</td><td>&quot;26451989467737…</td><td>&quot;../../../../da…</td><td>&quot;FirstMortgage3…</td><td>&quot;11731520622551…</td><td>&quot;Rejected&quot;</td></tr><tr><td>0.144221</td><td>&quot;70159638173123…</td><td>&quot;41603067539608…</td><td>&quot;../../../../da…</td><td>&quot;FirstMortgage3…</td><td>&quot;14231758363267…</td><td>&quot;Accepted&quot;</td></tr><tr><td>0.679745</td><td>&quot;60423976143506…</td><td>&quot;17540059047875…</td><td>&quot;../../../../da…</td><td>&quot;MoneyMarketSav…</td><td>&quot;11731520622551…</td><td>&quot;Rejected&quot;</td></tr><tr><td>1.0</td><td>&quot;70159638173123…</td><td>&quot;12440572819090…</td><td>&quot;../../../../da…</td><td>&quot;BasicChecking&quot;</td><td>&quot;11731520622551…</td><td>&quot;Rejected&quot;</td></tr><tr><td>0.718982</td><td>&quot;33381313484202…</td><td>&quot;10090786266790…</td><td>&quot;../../../../da…</td><td>&quot;BasicChecking&quot;</td><td>&quot;11500124902462…</td><td>&quot;Accepted&quot;</td></tr><tr><td>0.0</td><td>&quot;60423976143506…</td><td>&quot;15823557688274…</td><td>&quot;../../../../da…</td><td>&quot;UPlusFinPerson…</td><td>null</td><td>&quot;Rejected&quot;</td></tr><tr><td>0.02333</td><td>&quot;60423976143506…</td><td>&quot;78927259699167…</td><td>&quot;../../../../da…</td><td>&quot;BasicChecking&quot;</td><td>&quot;11500124902462…</td><td>&quot;Rejected&quot;</td></tr></tbody></table></div>"
      ],
      "text/plain": [
       "shape: (7, 7)\n",
       "┌─────────────┬──────────────┬─────────────┬─────────────┬─────────────┬─────────────┬─────────────┐\n",
       "│ PREDICTOR_0 ┆ PREDICTOR_1  ┆ PREDICTOR_2 ┆ filename    ┆ Context_Nam ┆ IH_Web_Inbo ┆ Decision_Ou │\n",
       "│ ---         ┆ ---          ┆ ---         ┆ ---         ┆ e           ┆ und_Accepte ┆ tcome       │\n",
       "│ f64         ┆ str          ┆ str         ┆ str         ┆ ---         ┆ d_pxLastGr… ┆ ---         │\n",
       "│             ┆              ┆             ┆             ┆ str         ┆ ---         ┆ str         │\n",
       "│             ┆              ┆             ┆             ┆             ┆ str         ┆             │\n",
       "╞═════════════╪══════════════╪═════════════╪═════════════╪═════════════╪═════════════╪═════════════╡\n",
       "│ 0.983033    ┆ 333813134842 ┆ 26451989467 ┆ ../../../.. ┆ FirstMortga ┆ 11731520622 ┆ Rejected    │\n",
       "│             ┆ 0293053      ┆ 73742561    ┆ /data/Sampl ┆ ge30yr      ┆ 551533546   ┆             │\n",
       "│             ┆              ┆             ┆ eHDS.json   ┆             ┆             ┆             │\n",
       "│ 0.144221    ┆ 701596381731 ┆ 41603067539 ┆ ../../../.. ┆ FirstMortga ┆ 14231758363 ┆ Accepted    │\n",
       "│             ┆ 2312361      ┆ 60811511    ┆ /data/Sampl ┆ ge30yr      ┆ 267321307   ┆             │\n",
       "│             ┆              ┆             ┆ eHDS.json   ┆             ┆             ┆             │\n",
       "│ 0.679745    ┆ 604239761435 ┆ 17540059047 ┆ ../../../.. ┆ MoneyMarket ┆ 11731520622 ┆ Rejected    │\n",
       "│             ┆ 0627560      ┆ 875905329   ┆ /data/Sampl ┆ SavingsAcco ┆ 551533546   ┆             │\n",
       "│             ┆              ┆             ┆ eHDS.json   ┆ unt         ┆             ┆             │\n",
       "│ 1.0         ┆ 701596381731 ┆ 12440572819 ┆ ../../../.. ┆ BasicChecki ┆ 11731520622 ┆ Rejected    │\n",
       "│             ┆ 2312361      ┆ 090454564   ┆ /data/Sampl ┆ ng          ┆ 551533546   ┆             │\n",
       "│             ┆              ┆             ┆ eHDS.json   ┆             ┆             ┆             │\n",
       "│ 0.718982    ┆ 333813134842 ┆ 10090786266 ┆ ../../../.. ┆ BasicChecki ┆ 11500124902 ┆ Accepted    │\n",
       "│             ┆ 0293053      ┆ 790310562   ┆ /data/Sampl ┆ ng          ┆ 46236278    ┆             │\n",
       "│             ┆              ┆             ┆ eHDS.json   ┆             ┆             ┆             │\n",
       "│ 0.0         ┆ 604239761435 ┆ 15823557688 ┆ ../../../.. ┆ UPlusFinPer ┆ null        ┆ Rejected    │\n",
       "│             ┆ 0627560      ┆ 274915346   ┆ /data/Sampl ┆ sonal       ┆             ┆             │\n",
       "│             ┆              ┆             ┆ eHDS.json   ┆             ┆             ┆             │\n",
       "│ 0.02333     ┆ 604239761435 ┆ 78927259699 ┆ ../../../.. ┆ BasicChecki ┆ 11500124902 ┆ Rejected    │\n",
       "│             ┆ 0627560      ┆ 16764207    ┆ /data/Sampl ┆ ng          ┆ 46236278    ┆             │\n",
       "│             ┆              ┆             ┆ eHDS.json   ┆             ┆             ┆             │\n",
       "└─────────────┴──────────────┴─────────────┴─────────────┴─────────────┴─────────────┴─────────────┘"
      ]
     },
     "execution_count": 10,
     "metadata": {},
     "output_type": "execute_result"
    }
   ],
   "source": [
    "anon = DataAnonymization(config=Config(config_file='config.json'))\n",
    "anon.process()"
   ]
  },
  {
   "attachments": {},
   "cell_type": "markdown",
   "metadata": {},
   "source": [
    "## Exporting\n",
    "Two functions export:\n",
    "- `create_mapping_file()` writes the mapping file of the predictor names\n",
    "- `write_to_output()` writes the processed dataframe to disk\n",
    "\n",
    "Write to output accepts the following extensions: `[\"ndjson\", \"parquet\", \"arrow\", \"csv\"]`"
   ]
  },
  {
   "cell_type": "code",
   "execution_count": 11,
   "metadata": {
    "execution": {
     "iopub.execute_input": "2024-04-08T07:55:44.714757Z",
     "iopub.status.busy": "2024-04-08T07:55:44.714354Z",
     "iopub.status.idle": "2024-04-08T07:55:44.717669Z",
     "shell.execute_reply": "2024-04-08T07:55:44.717229Z"
    }
   },
   "outputs": [
    {
     "name": "stdout",
     "output_type": "stream",
     "text": [
      "Customer_CLV=PREDICTOR_0\n",
      "Customer_MaritalStatus=PREDICTOR_1\n",
      "Customer_City=PREDICTOR_2\n",
      "filename=filename\n",
      "Context_Name=Context_Name\n",
      "IH_Web_Inbound_Accepted_pxLastGroupID=IH_Web_Inbound_Accepted_pxLastGroupID\n",
      "Decision_Outcome=Decision_Outcome\n",
      "\n"
     ]
    }
   ],
   "source": [
    "anon.create_mapping_file()\n",
    "with open('mapping.map') as f:\n",
    "    print(f.read())"
   ]
  },
  {
   "cell_type": "code",
   "execution_count": 12,
   "metadata": {
    "execution": {
     "iopub.execute_input": "2024-04-08T07:55:44.719516Z",
     "iopub.status.busy": "2024-04-08T07:55:44.719195Z",
     "iopub.status.idle": "2024-04-08T07:55:44.722624Z",
     "shell.execute_reply": "2024-04-08T07:55:44.722210Z"
    }
   },
   "outputs": [],
   "source": [
    "anon.write_to_output(ext='arrow')"
   ]
  },
  {
   "cell_type": "code",
   "execution_count": 13,
   "metadata": {
    "execution": {
     "iopub.execute_input": "2024-04-08T07:55:44.724591Z",
     "iopub.status.busy": "2024-04-08T07:55:44.724280Z",
     "iopub.status.idle": "2024-04-08T07:55:44.728598Z",
     "shell.execute_reply": "2024-04-08T07:55:44.728056Z"
    }
   },
   "outputs": [
    {
     "data": {
      "text/html": [
       "<div><style>\n",
       ".dataframe > thead > tr,\n",
       ".dataframe > tbody > tr {\n",
       "  text-align: right;\n",
       "  white-space: pre-wrap;\n",
       "}\n",
       "</style>\n",
       "<small>shape: (7, 6)</small><table border=\"1\" class=\"dataframe\"><thead><tr><th>PREDICTOR_0</th><th>PREDICTOR_1</th><th>PREDICTOR_2</th><th>Context_Name</th><th>IH_Web_Inbound_Accepted_pxLastGroupID</th><th>Decision_Outcome</th></tr><tr><td>f64</td><td>str</td><td>str</td><td>str</td><td>str</td><td>str</td></tr></thead><tbody><tr><td>0.983033</td><td>&quot;18304550312009…</td><td>&quot;70010494637149…</td><td>&quot;FirstMortgage3…</td><td>&quot;33221983541513…</td><td>&quot;Rejected&quot;</td></tr><tr><td>0.144221</td><td>&quot;33584084860306…</td><td>&quot;16613078792937…</td><td>&quot;FirstMortgage3…</td><td>&quot;76463602502463…</td><td>&quot;Accepted&quot;</td></tr><tr><td>0.679745</td><td>&quot;10056018342410…</td><td>&quot;11120597934597…</td><td>&quot;MoneyMarketSav…</td><td>&quot;33221983541513…</td><td>&quot;Rejected&quot;</td></tr><tr><td>1.0</td><td>&quot;33584084860306…</td><td>&quot;13794431511254…</td><td>&quot;BasicChecking&quot;</td><td>&quot;33221983541513…</td><td>&quot;Rejected&quot;</td></tr><tr><td>0.718982</td><td>&quot;18304550312009…</td><td>&quot;46986485332567…</td><td>&quot;BasicChecking&quot;</td><td>&quot;12359858489125…</td><td>&quot;Accepted&quot;</td></tr><tr><td>0.0</td><td>&quot;10056018342410…</td><td>&quot;43192427758124…</td><td>&quot;UPlusFinPerson…</td><td>null</td><td>&quot;Rejected&quot;</td></tr><tr><td>0.02333</td><td>&quot;10056018342410…</td><td>&quot;90619178897974…</td><td>&quot;BasicChecking&quot;</td><td>&quot;12359858489125…</td><td>&quot;Rejected&quot;</td></tr></tbody></table></div>"
      ],
      "text/plain": [
       "shape: (7, 6)\n",
       "┌─────────────┬────────────────┬────────────────┬────────────────┬────────────────┬────────────────┐\n",
       "│ PREDICTOR_0 ┆ PREDICTOR_1    ┆ PREDICTOR_2    ┆ Context_Name   ┆ IH_Web_Inbound ┆ Decision_Outco │\n",
       "│ ---         ┆ ---            ┆ ---            ┆ ---            ┆ _Accepted_pxLa ┆ me             │\n",
       "│ f64         ┆ str            ┆ str            ┆ str            ┆ stGr…          ┆ ---            │\n",
       "│             ┆                ┆                ┆                ┆ ---            ┆ str            │\n",
       "│             ┆                ┆                ┆                ┆ str            ┆                │\n",
       "╞═════════════╪════════════════╪════════════════╪════════════════╪════════════════╪════════════════╡\n",
       "│ 0.983033    ┆ 18304550312009 ┆ 70010494637149 ┆ FirstMortgage3 ┆ 33221983541513 ┆ Rejected       │\n",
       "│             ┆ 909466         ┆ 13639          ┆ 0yr            ┆ 61382          ┆                │\n",
       "│ 0.144221    ┆ 33584084860306 ┆ 16613078792937 ┆ FirstMortgage3 ┆ 76463602502463 ┆ Accepted       │\n",
       "│             ┆ 9703           ┆ 680932         ┆ 0yr            ┆ 66149          ┆                │\n",
       "│ 0.679745    ┆ 10056018342410 ┆ 11120597934597 ┆ MoneyMarketSav ┆ 33221983541513 ┆ Rejected       │\n",
       "│             ┆ 688263         ┆ 289506         ┆ ingsAccount    ┆ 61382          ┆                │\n",
       "│ 1.0         ┆ 33584084860306 ┆ 13794431511254 ┆ BasicChecking  ┆ 33221983541513 ┆ Rejected       │\n",
       "│             ┆ 9703           ┆ 922154         ┆                ┆ 61382          ┆                │\n",
       "│ 0.718982    ┆ 18304550312009 ┆ 46986485332567 ┆ BasicChecking  ┆ 12359858489125 ┆ Accepted       │\n",
       "│             ┆ 909466         ┆ 26286          ┆                ┆ 369121         ┆                │\n",
       "│ 0.0         ┆ 10056018342410 ┆ 43192427758124 ┆ UPlusFinPerson ┆ null           ┆ Rejected       │\n",
       "│             ┆ 688263         ┆ 19989          ┆ al             ┆                ┆                │\n",
       "│ 0.02333     ┆ 10056018342410 ┆ 90619178897974 ┆ BasicChecking  ┆ 12359858489125 ┆ Rejected       │\n",
       "│             ┆ 688263         ┆ 4827           ┆                ┆ 369121         ┆                │\n",
       "└─────────────┴────────────────┴────────────────┴────────────────┴────────────────┴────────────────┘"
      ]
     },
     "execution_count": 13,
     "metadata": {},
     "output_type": "execute_result"
    }
   ],
   "source": [
    "pl.read_ipc('output/hds.arrow')"
   ]
  },
  {
   "attachments": {},
   "cell_type": "markdown",
   "metadata": {
    "nbsphinx": "hidden"
   },
   "source": [
    "## Advanced: Hash fuctions\n",
    "\n",
    "By default, we use [the same hashing algorithm Polars](https://pola-rs.github.io/polars/py-polars/html/reference/expressions/api/polars.Expr.hash.html#polars.Expr.hash) uses: [xxhash](https://github.com/Cyan4973/xxHash), as implemented [here](https://github.com/pola-rs/polars/blob/3f287f370b3c388ed2f3f218b2c096382548136f/polars/polars-core/src/vector_hasher.rs#L266). xxhash is fast to compute, and you can check its performance in collision, dispersion and randomness [here](https://github.com/Cyan4973/xxHash/tree/dev/tests). \n",
    "\n",
    "xxhash accepts four distinct seeds, but by default we set the seeds to `0`. It is possible to set the `seed` argument of the `process()` function to `'random'`, which will set all four seeds to a random integer between `0` and `1000000000`. Alternatively, it is possible to supply the four seeds manually with arguments `seed`, `seed_1`, `seed_2` and `seed_3`. \n",
    "\n",
    "If the xxhash with (random) seed(s) is not deemed sufficiently secure, it is possible to use your own hashing algorithm.\n",
    "\n",
    "Note that since we're now running python code and not native Polars code anymore, this will be _significantly_ slower. Nonetheless, it is possible.\n",
    "\n",
    "Just as an example - this is how one would use sha3_256:"
   ]
  },
  {
   "cell_type": "code",
   "execution_count": 14,
   "metadata": {
    "execution": {
     "iopub.execute_input": "2024-04-08T07:55:44.730613Z",
     "iopub.status.busy": "2024-04-08T07:55:44.730304Z",
     "iopub.status.idle": "2024-04-08T07:55:44.737621Z",
     "shell.execute_reply": "2024-04-08T07:55:44.737176Z"
    },
    "nbsphinx": "hidden"
   },
   "outputs": [
    {
     "data": {
      "text/html": [
       "<div><style>\n",
       ".dataframe > thead > tr,\n",
       ".dataframe > tbody > tr {\n",
       "  text-align: right;\n",
       "  white-space: pre-wrap;\n",
       "}\n",
       "</style>\n",
       "<small>shape: (7, 7)</small><table border=\"1\" class=\"dataframe\"><thead><tr><th>PREDICTOR_0</th><th>PREDICTOR_1</th><th>PREDICTOR_2</th><th>filename</th><th>Context_Name</th><th>IH_Web_Inbound_Accepted_pxLastGroupID</th><th>Decision_Outcome</th></tr><tr><td>f64</td><td>str</td><td>str</td><td>str</td><td>str</td><td>str</td><td>str</td></tr></thead><tbody><tr><td>0.983033</td><td>&quot;af486bc1815c72…</td><td>&quot;c73023dda51de1…</td><td>&quot;../../../../da…</td><td>&quot;FirstMortgage3…</td><td>&quot;2513d0e24d8d02…</td><td>&quot;Rejected&quot;</td></tr><tr><td>0.144221</td><td>&quot;3cdf7b1ae1342e…</td><td>&quot;5414b197fb87b3…</td><td>&quot;../../../../da…</td><td>&quot;FirstMortgage3…</td><td>&quot;8b55bf62fc2ecd…</td><td>&quot;Accepted&quot;</td></tr><tr><td>0.679745</td><td>&quot;806ef34eb8237f…</td><td>&quot;892f5d61a9215e…</td><td>&quot;../../../../da…</td><td>&quot;MoneyMarketSav…</td><td>&quot;2513d0e24d8d02…</td><td>&quot;Rejected&quot;</td></tr><tr><td>1.0</td><td>&quot;3cdf7b1ae1342e…</td><td>&quot;c3aa807d9e927a…</td><td>&quot;../../../../da…</td><td>&quot;BasicChecking&quot;</td><td>&quot;2513d0e24d8d02…</td><td>&quot;Rejected&quot;</td></tr><tr><td>0.718982</td><td>&quot;af486bc1815c72…</td><td>&quot;c2d492f9a05073…</td><td>&quot;../../../../da…</td><td>&quot;BasicChecking&quot;</td><td>&quot;1cd082ecbd5dd9…</td><td>&quot;Accepted&quot;</td></tr><tr><td>0.0</td><td>&quot;806ef34eb8237f…</td><td>&quot;b21059221605c4…</td><td>&quot;../../../../da…</td><td>&quot;UPlusFinPerson…</td><td>null</td><td>&quot;Rejected&quot;</td></tr><tr><td>0.02333</td><td>&quot;806ef34eb8237f…</td><td>&quot;80cbe489dcecd4…</td><td>&quot;../../../../da…</td><td>&quot;BasicChecking&quot;</td><td>&quot;1cd082ecbd5dd9…</td><td>&quot;Rejected&quot;</td></tr></tbody></table></div>"
      ],
      "text/plain": [
       "shape: (7, 7)\n",
       "┌─────────────┬──────────────┬─────────────┬─────────────┬─────────────┬─────────────┬─────────────┐\n",
       "│ PREDICTOR_0 ┆ PREDICTOR_1  ┆ PREDICTOR_2 ┆ filename    ┆ Context_Nam ┆ IH_Web_Inbo ┆ Decision_Ou │\n",
       "│ ---         ┆ ---          ┆ ---         ┆ ---         ┆ e           ┆ und_Accepte ┆ tcome       │\n",
       "│ f64         ┆ str          ┆ str         ┆ str         ┆ ---         ┆ d_pxLastGr… ┆ ---         │\n",
       "│             ┆              ┆             ┆             ┆ str         ┆ ---         ┆ str         │\n",
       "│             ┆              ┆             ┆             ┆             ┆ str         ┆             │\n",
       "╞═════════════╪══════════════╪═════════════╪═════════════╪═════════════╪═════════════╪═════════════╡\n",
       "│ 0.983033    ┆ af486bc1815c ┆ c73023dda51 ┆ ../../../.. ┆ FirstMortga ┆ 2513d0e24d8 ┆ Rejected    │\n",
       "│             ┆ 726c357890ac ┆ de1b84f7af7 ┆ /data/Sampl ┆ ge30yr      ┆ d0214eda4fb ┆             │\n",
       "│             ┆ 2a40ba98…    ┆ 74fd6f8c73… ┆ eHDS.json   ┆             ┆ 454447162b… ┆             │\n",
       "│ 0.144221    ┆ 3cdf7b1ae134 ┆ 5414b197fb8 ┆ ../../../.. ┆ FirstMortga ┆ 8b55bf62fc2 ┆ Accepted    │\n",
       "│             ┆ 2ef979ea2a78 ┆ 7b3f2e350d7 ┆ /data/Sampl ┆ ge30yr      ┆ ecd16af97d4 ┆             │\n",
       "│             ┆ 2541ad05…    ┆ a74a840a81… ┆ eHDS.json   ┆             ┆ 8e469362cf… ┆             │\n",
       "│ 0.679745    ┆ 806ef34eb823 ┆ 892f5d61a92 ┆ ../../../.. ┆ MoneyMarket ┆ 2513d0e24d8 ┆ Rejected    │\n",
       "│             ┆ 7f4db85004e9 ┆ 15ef985f3fa ┆ /data/Sampl ┆ SavingsAcco ┆ d0214eda4fb ┆             │\n",
       "│             ┆ 6dc471d8…    ┆ 293d51c92e… ┆ eHDS.json   ┆ unt         ┆ 454447162b… ┆             │\n",
       "│ 1.0         ┆ 3cdf7b1ae134 ┆ c3aa807d9e9 ┆ ../../../.. ┆ BasicChecki ┆ 2513d0e24d8 ┆ Rejected    │\n",
       "│             ┆ 2ef979ea2a78 ┆ 27ae426a89e ┆ /data/Sampl ┆ ng          ┆ d0214eda4fb ┆             │\n",
       "│             ┆ 2541ad05…    ┆ 76a12b9160… ┆ eHDS.json   ┆             ┆ 454447162b… ┆             │\n",
       "│ 0.718982    ┆ af486bc1815c ┆ c2d492f9a05 ┆ ../../../.. ┆ BasicChecki ┆ 1cd082ecbd5 ┆ Accepted    │\n",
       "│             ┆ 726c357890ac ┆ 07327c14285 ┆ /data/Sampl ┆ ng          ┆ dd95383b104 ┆             │\n",
       "│             ┆ 2a40ba98…    ┆ e94e8ee54c… ┆ eHDS.json   ┆             ┆ 65e395c1f7… ┆             │\n",
       "│ 0.0         ┆ 806ef34eb823 ┆ b2105922160 ┆ ../../../.. ┆ UPlusFinPer ┆ null        ┆ Rejected    │\n",
       "│             ┆ 7f4db85004e9 ┆ 5c49757cfe0 ┆ /data/Sampl ┆ sonal       ┆             ┆             │\n",
       "│             ┆ 6dc471d8…    ┆ fee45640db… ┆ eHDS.json   ┆             ┆             ┆             │\n",
       "│ 0.02333     ┆ 806ef34eb823 ┆ 80cbe489dce ┆ ../../../.. ┆ BasicChecki ┆ 1cd082ecbd5 ┆ Rejected    │\n",
       "│             ┆ 7f4db85004e9 ┆ cd4b9304898 ┆ /data/Sampl ┆ ng          ┆ dd95383b104 ┆             │\n",
       "│             ┆ 6dc471d8…    ┆ c9986afeeb… ┆ eHDS.json   ┆             ┆ 65e395c1f7… ┆             │\n",
       "└─────────────┴──────────────┴─────────────┴─────────────┴─────────────┴─────────────┴─────────────┘"
      ]
     },
     "execution_count": 14,
     "metadata": {},
     "output_type": "execute_result"
    }
   ],
   "source": [
    "from hashlib import sha3_256\n",
    "\n",
    "anon.process(algorithm=lambda x: sha3_256(x.encode()).hexdigest())"
   ]
  }
 ],
 "metadata": {
  "kernelspec": {
   "display_name": "Python 3",
   "language": "python",
   "name": "python3"
  },
  "language_info": {
   "codemirror_mode": {
    "name": "ipython",
    "version": 3
   },
   "file_extension": ".py",
   "mimetype": "text/x-python",
   "name": "python",
   "nbconvert_exporter": "python",
   "pygments_lexer": "ipython3",
   "version": "3.11.8"
  },
  "vscode": {
   "interpreter": {
    "hash": "aee8b7b246df8f9039afb4144a1f6fd8d2ca17a180786b69acc140d282b71a49"
   }
  }
 },
 "nbformat": 4,
 "nbformat_minor": 2
}
