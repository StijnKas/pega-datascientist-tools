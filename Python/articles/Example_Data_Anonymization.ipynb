{
 "cells": [
  {
   "attachments": {},
   "cell_type": "markdown",
   "metadata": {},
   "source": [
    "# Example data anonymization\n",
    "\n",
    "In Pega CDH 8.5 and up, it's now possible to record the historical data as seen by the Adaptive Models. See [this academy challenge](https://academy.pega.com/challenge/exporting-historical-data/v4) for reference. This historical data can be further used to experiment with offline models, but also to fine-tune the OOTB Gradient Boosting model. However, sharing this information with Pega can be sensitive as it contains raw predictor data. \n",
    "\n",
    "To this end, we provide a simple and transparent script to fully anonimize this dataset.\n",
    "\n",
    "The DataAnonymization script is now part of pdstools, and you can import it directly as such."
   ]
  },
  {
   "cell_type": "code",
   "execution_count": 1,
   "metadata": {
    "execution": {
     "iopub.execute_input": "2023-05-30T12:22:32.848240Z",
     "iopub.status.busy": "2023-05-30T12:22:32.848046Z",
     "iopub.status.idle": "2023-05-30T12:22:32.853922Z",
     "shell.execute_reply": "2023-05-30T12:22:32.853388Z"
    },
    "nbsphinx": "hidden"
   },
   "outputs": [],
   "source": [
    "# These lines are only for rendering in the docs, and are hidden through Jupyter tags\n",
    "# Do not run if you're running the notebook seperately\n",
    "\n",
    "import sys\n",
    "sys.path.append('../../../')"
   ]
  },
  {
   "cell_type": "code",
   "execution_count": 2,
   "metadata": {
    "execution": {
     "iopub.execute_input": "2023-05-30T12:22:32.856463Z",
     "iopub.status.busy": "2023-05-30T12:22:32.856021Z",
     "iopub.status.idle": "2023-05-30T12:22:33.924218Z",
     "shell.execute_reply": "2023-05-30T12:22:33.923595Z"
    }
   },
   "outputs": [],
   "source": [
    "from pdstools import ADMDatamart\n",
    "from pdstools import Config, DataAnonymization\n",
    "import polars as pl"
   ]
  },
  {
   "attachments": {},
   "cell_type": "markdown",
   "metadata": {},
   "source": [
    "## Input data\n",
    "\n",
    "To demonstrate this process, we're going to anonymise this toy example dataframe:"
   ]
  },
  {
   "cell_type": "code",
   "execution_count": 3,
   "metadata": {
    "execution": {
     "iopub.execute_input": "2023-05-30T12:22:33.927776Z",
     "iopub.status.busy": "2023-05-30T12:22:33.927198Z",
     "iopub.status.idle": "2023-05-30T12:22:33.942706Z",
     "shell.execute_reply": "2023-05-30T12:22:33.941459Z"
    }
   },
   "outputs": [
    {
     "name": "stderr",
     "output_type": "stream",
     "text": [
      "[/home/runner/work/polars/polars/polars/polars-io/src/ndjson/core.rs:162] &data_type = Struct(\n",
      "    [\n",
      "        Field {\n",
      "            name: \"Context_Name\",\n",
      "            data_type: LargeUtf8,\n",
      "            is_nullable: true,\n",
      "            metadata: {},\n",
      "        },\n",
      "        Field {\n",
      "            name: \"Customer_MaritalStatus\",\n",
      "            data_type: LargeUtf8,\n",
      "            is_nullable: true,\n",
      "            metadata: {},\n",
      "        },\n",
      "        Field {\n",
      "            name: \"Customer_CLV\",\n",
      "            data_type: Int64,\n",
      "            is_nullable: true,\n",
      "            metadata: {},\n",
      "        },\n",
      "        Field {\n",
      "            name: \"Customer_City\",\n",
      "            data_type: LargeUtf8,\n",
      "            is_nullable: true,\n",
      "            metadata: {},\n",
      "        },\n",
      "        Field {\n",
      "            name: \"IH_Web_Inbound_Accepted_pxLastGroupID\",\n",
      "            data_type: LargeUtf8,\n",
      "            is_nullable: true,\n",
      "            metadata: {},\n",
      "        },\n",
      "        Field {\n",
      "            name: \"Decision_Outcome\",\n",
      "            data_type: LargeUtf8,\n",
      "            is_nullable: true,\n",
      "            metadata: {},\n",
      "        },\n",
      "    ],\n",
      ")\n"
     ]
    },
    {
     "data": {
      "text/html": [
       "<div><style>\n",
       ".dataframe > thead > tr > th,\n",
       ".dataframe > tbody > tr > td {\n",
       "  text-align: right;\n",
       "}\n",
       "</style>\n",
       "<small>shape: (7, 6)</small><table border=\"1\" class=\"dataframe\"><thead><tr><th>Context_Name</th><th>Customer_MaritalStatus</th><th>Customer_CLV</th><th>Customer_City</th><th>IH_Web_Inbound_Accepted_pxLastGroupID</th><th>Decision_Outcome</th></tr><tr><td>str</td><td>str</td><td>i64</td><td>str</td><td>str</td><td>str</td></tr></thead><tbody><tr><td>&quot;FirstMortgage3…</td><td>&quot;Married&quot;</td><td>1460</td><td>&quot;Port Raoul&quot;</td><td>&quot;Account&quot;</td><td>&quot;Rejected&quot;</td></tr><tr><td>&quot;FirstMortgage3…</td><td>&quot;Unknown&quot;</td><td>669</td><td>&quot;Laurianneshire…</td><td>&quot;AutoLoans&quot;</td><td>&quot;Accepted&quot;</td></tr><tr><td>&quot;MoneyMarketSav…</td><td>&quot;No Resp+&quot;</td><td>1174</td><td>&quot;Jacobshaven&quot;</td><td>&quot;Account&quot;</td><td>&quot;Rejected&quot;</td></tr><tr><td>&quot;BasicChecking&quot;</td><td>&quot;Unknown&quot;</td><td>1476</td><td>&quot;Lindton&quot;</td><td>&quot;Account&quot;</td><td>&quot;Rejected&quot;</td></tr><tr><td>&quot;BasicChecking&quot;</td><td>&quot;Married&quot;</td><td>1211</td><td>&quot;South Jimmiesh…</td><td>&quot;DepositAccount…</td><td>&quot;Accepted&quot;</td></tr><tr><td>&quot;UPlusFinPerson…</td><td>&quot;No Resp+&quot;</td><td>533</td><td>&quot;Bergeville&quot;</td><td>null</td><td>&quot;Rejected&quot;</td></tr><tr><td>&quot;BasicChecking&quot;</td><td>&quot;No Resp+&quot;</td><td>555</td><td>&quot;Willyville&quot;</td><td>&quot;DepositAccount…</td><td>&quot;Rejected&quot;</td></tr></tbody></table></div>"
      ],
      "text/plain": [
       "shape: (7, 6)\n",
       "┌────────────────┬────────────────┬──────────────┬────────────────┬────────────────┬───────────────┐\n",
       "│ Context_Name   ┆ Customer_Marit ┆ Customer_CLV ┆ Customer_City  ┆ IH_Web_Inbound ┆ Decision_Outc │\n",
       "│ ---            ┆ alStatus       ┆ ---          ┆ ---            ┆ _Accepted_pxLa ┆ ome           │\n",
       "│ str            ┆ ---            ┆ i64          ┆ str            ┆ stGr…          ┆ ---           │\n",
       "│                ┆ str            ┆              ┆                ┆ ---            ┆ str           │\n",
       "│                ┆                ┆              ┆                ┆ str            ┆               │\n",
       "╞════════════════╪════════════════╪══════════════╪════════════════╪════════════════╪═══════════════╡\n",
       "│ FirstMortgage3 ┆ Married        ┆ 1460         ┆ Port Raoul     ┆ Account        ┆ Rejected      │\n",
       "│ 0yr            ┆                ┆              ┆                ┆                ┆               │\n",
       "│ FirstMortgage3 ┆ Unknown        ┆ 669          ┆ Laurianneshire ┆ AutoLoans      ┆ Accepted      │\n",
       "│ 0yr            ┆                ┆              ┆                ┆                ┆               │\n",
       "│ MoneyMarketSav ┆ No Resp+       ┆ 1174         ┆ Jacobshaven    ┆ Account        ┆ Rejected      │\n",
       "│ ingsAccount    ┆                ┆              ┆                ┆                ┆               │\n",
       "│ BasicChecking  ┆ Unknown        ┆ 1476         ┆ Lindton        ┆ Account        ┆ Rejected      │\n",
       "│ BasicChecking  ┆ Married        ┆ 1211         ┆ South          ┆ DepositAccount ┆ Accepted      │\n",
       "│                ┆                ┆              ┆ Jimmieshire    ┆ s              ┆               │\n",
       "│ UPlusFinPerson ┆ No Resp+       ┆ 533          ┆ Bergeville     ┆ null           ┆ Rejected      │\n",
       "│ al             ┆                ┆              ┆                ┆                ┆               │\n",
       "│ BasicChecking  ┆ No Resp+       ┆ 555          ┆ Willyville     ┆ DepositAccount ┆ Rejected      │\n",
       "│                ┆                ┆              ┆                ┆ s              ┆               │\n",
       "└────────────────┴────────────────┴──────────────┴────────────────┴────────────────┴───────────────┘"
      ]
     },
     "execution_count": 3,
     "metadata": {},
     "output_type": "execute_result"
    }
   ],
   "source": [
    "pl.read_ndjson('../../../../data/SampleHDS.json')"
   ]
  },
  {
   "attachments": {},
   "cell_type": "markdown",
   "metadata": {},
   "source": [
    "As you can see, this dataset consists of regular predictors, IH predictors, context keys and the outcome column. Additionally, some columns are numeric, others are strings. Let's first initialize the DataAnonymization class."
   ]
  },
  {
   "cell_type": "code",
   "execution_count": 4,
   "metadata": {
    "execution": {
     "iopub.execute_input": "2023-05-30T12:22:33.945465Z",
     "iopub.status.busy": "2023-05-30T12:22:33.945252Z",
     "iopub.status.idle": "2023-05-30T12:22:33.954401Z",
     "shell.execute_reply": "2023-05-30T12:22:33.953860Z"
    }
   },
   "outputs": [],
   "source": [
    "anon = DataAnonymization(hds_folder='../../../../data/')"
   ]
  },
  {
   "attachments": {},
   "cell_type": "markdown",
   "metadata": {},
   "source": [
    "By default, the class applies a set of anonymisation techniques:\n",
    "- Column names are remapped to a non-descriptive name\n",
    "- Categorical values are hashed with a random seed\n",
    "- Numerical values are normalized between 0 and 1\n",
    "- Outcomes are mapped to a binary outcome.\n",
    "\n",
    "To apply these techniques, simply call `.process()`:"
   ]
  },
  {
   "cell_type": "code",
   "execution_count": 5,
   "metadata": {
    "execution": {
     "iopub.execute_input": "2023-05-30T12:22:33.956894Z",
     "iopub.status.busy": "2023-05-30T12:22:33.956594Z",
     "iopub.status.idle": "2023-05-30T12:22:33.962873Z",
     "shell.execute_reply": "2023-05-30T12:22:33.962298Z"
    }
   },
   "outputs": [
    {
     "data": {
      "text/html": [
       "<div><style>\n",
       ".dataframe > thead > tr > th,\n",
       ".dataframe > tbody > tr > td {\n",
       "  text-align: right;\n",
       "}\n",
       "</style>\n",
       "<small>shape: (7, 7)</small><table border=\"1\" class=\"dataframe\"><thead><tr><th>PREDICTOR_0</th><th>filename</th><th>PREDICTOR_2</th><th>PREDICTOR_3</th><th>Context_Name</th><th>IH_PREDICTOR_0</th><th>Decision_Outcome</th></tr><tr><td>str</td><td>str</td><td>str</td><td>f64</td><td>str</td><td>str</td><td>bool</td></tr></thead><tbody><tr><td>&quot;15243619332462…</td><td>&quot;../../../../da…</td><td>&quot;10149035484578…</td><td>1.2927e19</td><td>&quot;81576304423393…</td><td>&quot;91376559699788…</td><td>false</td></tr><tr><td>&quot;10560957371051…</td><td>&quot;../../../../da…</td><td>&quot;11259203928390…</td><td>1.4856e19</td><td>&quot;81576304423393…</td><td>&quot;10910283550035…</td><td>true</td></tr><tr><td>&quot;51409184502006…</td><td>&quot;../../../../da…</td><td>&quot;18388052367913…</td><td>5.6458e17</td><td>&quot;17146062868891…</td><td>&quot;91376559699788…</td><td>false</td></tr><tr><td>&quot;10560957371051…</td><td>&quot;../../../../da…</td><td>&quot;12324963588222…</td><td>4.0723e18</td><td>&quot;66398332728223…</td><td>&quot;91376559699788…</td><td>false</td></tr><tr><td>&quot;15243619332462…</td><td>&quot;../../../../da…</td><td>&quot;10296852847910…</td><td>1.4677e19</td><td>&quot;66398332728223…</td><td>&quot;13271899037682…</td><td>true</td></tr><tr><td>&quot;51409184502006…</td><td>&quot;../../../../da…</td><td>&quot;13304500656889…</td><td>1.6330e19</td><td>&quot;12365283327124…</td><td>null</td><td>false</td></tr><tr><td>&quot;51409184502006…</td><td>&quot;../../../../da…</td><td>&quot;43179294262795…</td><td>8.7675e18</td><td>&quot;66398332728223…</td><td>&quot;13271899037682…</td><td>false</td></tr></tbody></table></div>"
      ],
      "text/plain": [
       "shape: (7, 7)\n",
       "┌───────────────┬──────────────┬──────────────┬─────────────┬────────────┬────────────┬────────────┐\n",
       "│ PREDICTOR_0   ┆ filename     ┆ PREDICTOR_2  ┆ PREDICTOR_3 ┆ Context_Na ┆ IH_PREDICT ┆ Decision_O │\n",
       "│ ---           ┆ ---          ┆ ---          ┆ ---         ┆ me         ┆ OR_0       ┆ utcome     │\n",
       "│ str           ┆ str          ┆ str          ┆ f64         ┆ ---        ┆ ---        ┆ ---        │\n",
       "│               ┆              ┆              ┆             ┆ str        ┆ str        ┆ bool       │\n",
       "╞═══════════════╪══════════════╪══════════════╪═════════════╪════════════╪════════════╪════════════╡\n",
       "│ 1524361933246 ┆ ../../../../ ┆ 101490354845 ┆ 1.2927e19   ┆ 8157630442 ┆ 9137655969 ┆ false      │\n",
       "│ 2675200       ┆ data/SampleH ┆ 78171616     ┆             ┆ 339353892  ┆ 978898769  ┆            │\n",
       "│               ┆ DS.json      ┆              ┆             ┆            ┆            ┆            │\n",
       "│ 1056095737105 ┆ ../../../../ ┆ 112592039283 ┆ 1.4856e19   ┆ 8157630442 ┆ 1091028355 ┆ true       │\n",
       "│ 1193819       ┆ data/SampleH ┆ 90835911     ┆             ┆ 339353892  ┆ 0035455821 ┆            │\n",
       "│               ┆ DS.json      ┆              ┆             ┆            ┆            ┆            │\n",
       "│ 5140918450200 ┆ ../../../../ ┆ 183880523679 ┆ 5.6458e17   ┆ 1714606286 ┆ 9137655969 ┆ false      │\n",
       "│ 658387        ┆ data/SampleH ┆ 13312568     ┆             ┆ 8891583590 ┆ 978898769  ┆            │\n",
       "│               ┆ DS.json      ┆              ┆             ┆            ┆            ┆            │\n",
       "│ 1056095737105 ┆ ../../../../ ┆ 123249635882 ┆ 4.0723e18   ┆ 6639833272 ┆ 9137655969 ┆ false      │\n",
       "│ 1193819       ┆ data/SampleH ┆ 22858905     ┆             ┆ 82237315   ┆ 978898769  ┆            │\n",
       "│               ┆ DS.json      ┆              ┆             ┆            ┆            ┆            │\n",
       "│ 1524361933246 ┆ ../../../../ ┆ 102968528479 ┆ 1.4677e19   ┆ 6639833272 ┆ 1327189903 ┆ true       │\n",
       "│ 2675200       ┆ data/SampleH ┆ 10282985     ┆             ┆ 82237315   ┆ 7682175423 ┆            │\n",
       "│               ┆ DS.json      ┆              ┆             ┆            ┆            ┆            │\n",
       "│ 5140918450200 ┆ ../../../../ ┆ 133045006568 ┆ 1.6330e19   ┆ 1236528332 ┆ null       ┆ false      │\n",
       "│ 658387        ┆ data/SampleH ┆ 8943395      ┆             ┆ 7124384242 ┆            ┆            │\n",
       "│               ┆ DS.json      ┆              ┆             ┆            ┆            ┆            │\n",
       "│ 5140918450200 ┆ ../../../../ ┆ 431792942627 ┆ 8.7675e18   ┆ 6639833272 ┆ 1327189903 ┆ false      │\n",
       "│ 658387        ┆ data/SampleH ┆ 9576348      ┆             ┆ 82237315   ┆ 7682175423 ┆            │\n",
       "│               ┆ DS.json      ┆              ┆             ┆            ┆            ┆            │\n",
       "└───────────────┴──────────────┴──────────────┴─────────────┴────────────┴────────────┴────────────┘"
      ]
     },
     "execution_count": 5,
     "metadata": {},
     "output_type": "execute_result"
    }
   ],
   "source": [
    "anon.process()"
   ]
  },
  {
   "attachments": {},
   "cell_type": "markdown",
   "metadata": {},
   "source": [
    "To trace back the columns to their original names, the class also contains a mapping, which does not have to be provided."
   ]
  },
  {
   "cell_type": "code",
   "execution_count": 6,
   "metadata": {
    "execution": {
     "iopub.execute_input": "2023-05-30T12:22:33.965445Z",
     "iopub.status.busy": "2023-05-30T12:22:33.964966Z",
     "iopub.status.idle": "2023-05-30T12:22:33.968892Z",
     "shell.execute_reply": "2023-05-30T12:22:33.968430Z"
    }
   },
   "outputs": [
    {
     "data": {
      "text/plain": [
       "{'Customer_MaritalStatus': 'PREDICTOR_0',\n",
       " 'filename': 'filename',\n",
       " 'Customer_City': 'PREDICTOR_2',\n",
       " 'Customer_CLV': 'PREDICTOR_3',\n",
       " 'Context_Name': 'Context_Name',\n",
       " 'IH_Web_Inbound_Accepted_pxLastGroupID': 'IH_PREDICTOR_0',\n",
       " 'Decision_Outcome': 'Decision_Outcome'}"
      ]
     },
     "execution_count": 6,
     "metadata": {},
     "output_type": "execute_result"
    }
   ],
   "source": [
    "anon.column_mapping"
   ]
  },
  {
   "attachments": {},
   "cell_type": "markdown",
   "metadata": {},
   "source": [
    "## Configs\n",
    "\n",
    "Each capability can optionally be turned off - see below for the full list of config options, and refer to the API reference for the full description."
   ]
  },
  {
   "cell_type": "code",
   "execution_count": 7,
   "metadata": {
    "execution": {
     "iopub.execute_input": "2023-05-30T12:22:33.971765Z",
     "iopub.status.busy": "2023-05-30T12:22:33.971457Z",
     "iopub.status.idle": "2023-05-30T12:22:33.975890Z",
     "shell.execute_reply": "2023-05-30T12:22:33.975315Z"
    }
   },
   "outputs": [
    {
     "data": {
      "text/plain": [
       "{'config_file': None,\n",
       " 'hds_folder': '.',\n",
       " 'use_datamart': False,\n",
       " 'datamart_folder': 'datamart',\n",
       " 'output_format': 'ndjson',\n",
       " 'output_folder': 'output',\n",
       " 'mapping_file': 'mapping.map',\n",
       " 'mask_predictor_names': True,\n",
       " 'mask_context_key_names': False,\n",
       " 'mask_ih_names': True,\n",
       " 'mask_outcome_name': False,\n",
       " 'mask_predictor_values': True,\n",
       " 'mask_context_key_values': True,\n",
       " 'mask_ih_values': True,\n",
       " 'mask_outcome_values': True,\n",
       " 'context_key_label': 'Context_*',\n",
       " 'ih_label': 'IH_*',\n",
       " 'outcome_column': 'Decision_Outcome',\n",
       " 'positive_outcomes': ['Accepted', 'Clicked'],\n",
       " 'negative_outcomes': ['Rejected', 'Impression'],\n",
       " 'special_predictors': ['Decision_DecisionTime',\n",
       "  'Decision_OutcomeTime',\n",
       "  'Decision_Rank'],\n",
       " 'sample_percentage_schema_inferencing': 0.01}"
      ]
     },
     "execution_count": 7,
     "metadata": {},
     "output_type": "execute_result"
    }
   ],
   "source": [
    "dict(zip(Config.__init__.__code__.co_varnames[1:], Config.__init__.__defaults__))"
   ]
  },
  {
   "attachments": {},
   "cell_type": "markdown",
   "metadata": {},
   "source": [
    "It's easy to change these parameters by just passing the keyword arguments. In the following example, we\n",
    "- Keep the IH predictor names\n",
    "- Keep the outcome values\n",
    "- Keep the context key values\n",
    "- Keep the context key predictor names"
   ]
  },
  {
   "cell_type": "code",
   "execution_count": 8,
   "metadata": {
    "execution": {
     "iopub.execute_input": "2023-05-30T12:22:33.978119Z",
     "iopub.status.busy": "2023-05-30T12:22:33.977754Z",
     "iopub.status.idle": "2023-05-30T12:22:33.988435Z",
     "shell.execute_reply": "2023-05-30T12:22:33.987908Z"
    }
   },
   "outputs": [
    {
     "data": {
      "text/html": [
       "<div><style>\n",
       ".dataframe > thead > tr > th,\n",
       ".dataframe > tbody > tr > td {\n",
       "  text-align: right;\n",
       "}\n",
       "</style>\n",
       "<small>shape: (7, 7)</small><table border=\"1\" class=\"dataframe\"><thead><tr><th>PREDICTOR_0</th><th>filename</th><th>PREDICTOR_2</th><th>PREDICTOR_3</th><th>Context_Name</th><th>IH_Web_Inbound_Accepted_pxLastGroupID</th><th>Decision_Outcome</th></tr><tr><td>str</td><td>str</td><td>str</td><td>f64</td><td>str</td><td>str</td><td>str</td></tr></thead><tbody><tr><td>&quot;57981767698644…</td><td>&quot;../../../../da…</td><td>&quot;39014622327347…</td><td>1.2927e19</td><td>&quot;FirstMortgage3…</td><td>&quot;29864510279585…</td><td>&quot;Rejected&quot;</td></tr><tr><td>&quot;20034400615145…</td><td>&quot;../../../../da…</td><td>&quot;13506148910785…</td><td>1.4856e19</td><td>&quot;FirstMortgage3…</td><td>&quot;29321842687390…</td><td>&quot;Accepted&quot;</td></tr><tr><td>&quot;17003349692390…</td><td>&quot;../../../../da…</td><td>&quot;17868425778774…</td><td>5.6458e17</td><td>&quot;MoneyMarketSav…</td><td>&quot;29864510279585…</td><td>&quot;Rejected&quot;</td></tr><tr><td>&quot;20034400615145…</td><td>&quot;../../../../da…</td><td>&quot;38088291581577…</td><td>4.0723e18</td><td>&quot;BasicChecking&quot;</td><td>&quot;29864510279585…</td><td>&quot;Rejected&quot;</td></tr><tr><td>&quot;57981767698644…</td><td>&quot;../../../../da…</td><td>&quot;14077697359937…</td><td>1.4677e19</td><td>&quot;BasicChecking&quot;</td><td>&quot;59590284364673…</td><td>&quot;Accepted&quot;</td></tr><tr><td>&quot;17003349692390…</td><td>&quot;../../../../da…</td><td>&quot;34628527521707…</td><td>1.6330e19</td><td>&quot;UPlusFinPerson…</td><td>null</td><td>&quot;Rejected&quot;</td></tr><tr><td>&quot;17003349692390…</td><td>&quot;../../../../da…</td><td>&quot;15609339381971…</td><td>8.7675e18</td><td>&quot;BasicChecking&quot;</td><td>&quot;59590284364673…</td><td>&quot;Rejected&quot;</td></tr></tbody></table></div>"
      ],
      "text/plain": [
       "shape: (7, 7)\n",
       "┌───────────────┬──────────────┬──────────────┬─────────────┬────────────┬────────────┬────────────┐\n",
       "│ PREDICTOR_0   ┆ filename     ┆ PREDICTOR_2  ┆ PREDICTOR_3 ┆ Context_Na ┆ IH_Web_Inb ┆ Decision_O │\n",
       "│ ---           ┆ ---          ┆ ---          ┆ ---         ┆ me         ┆ ound_Accep ┆ utcome     │\n",
       "│ str           ┆ str          ┆ str          ┆ f64         ┆ ---        ┆ ted_pxLast ┆ ---        │\n",
       "│               ┆              ┆              ┆             ┆ str        ┆ Gr…        ┆ str        │\n",
       "│               ┆              ┆              ┆             ┆            ┆ ---        ┆            │\n",
       "│               ┆              ┆              ┆             ┆            ┆ str        ┆            │\n",
       "╞═══════════════╪══════════════╪══════════════╪═════════════╪════════════╪════════════╪════════════╡\n",
       "│ 5798176769864 ┆ ../../../../ ┆ 390146223273 ┆ 1.2927e19   ┆ FirstMortg ┆ 2986451027 ┆ Rejected   │\n",
       "│ 418140        ┆ data/SampleH ┆ 4729691      ┆             ┆ age30yr    ┆ 958545447  ┆            │\n",
       "│               ┆ DS.json      ┆              ┆             ┆            ┆            ┆            │\n",
       "│ 2003440061514 ┆ ../../../../ ┆ 135061489107 ┆ 1.4856e19   ┆ FirstMortg ┆ 2932184268 ┆ Accepted   │\n",
       "│ 543547        ┆ data/SampleH ┆ 85170363     ┆             ┆ age30yr    ┆ 739008240  ┆            │\n",
       "│               ┆ DS.json      ┆              ┆             ┆            ┆            ┆            │\n",
       "│ 1700334969239 ┆ ../../../../ ┆ 178684257787 ┆ 5.6458e17   ┆ MoneyMarke ┆ 2986451027 ┆ Rejected   │\n",
       "│ 0271852       ┆ data/SampleH ┆ 74796081     ┆             ┆ tSavingsAc ┆ 958545447  ┆            │\n",
       "│               ┆ DS.json      ┆              ┆             ┆ count      ┆            ┆            │\n",
       "│ 2003440061514 ┆ ../../../../ ┆ 380882915815 ┆ 4.0723e18   ┆ BasicCheck ┆ 2986451027 ┆ Rejected   │\n",
       "│ 543547        ┆ data/SampleH ┆ 7738430      ┆             ┆ ing        ┆ 958545447  ┆            │\n",
       "│               ┆ DS.json      ┆              ┆             ┆            ┆            ┆            │\n",
       "│ 5798176769864 ┆ ../../../../ ┆ 140776973599 ┆ 1.4677e19   ┆ BasicCheck ┆ 5959028436 ┆ Accepted   │\n",
       "│ 418140        ┆ data/SampleH ┆ 37896396     ┆             ┆ ing        ┆ 467311097  ┆            │\n",
       "│               ┆ DS.json      ┆              ┆             ┆            ┆            ┆            │\n",
       "│ 1700334969239 ┆ ../../../../ ┆ 346285275217 ┆ 1.6330e19   ┆ UPlusFinPe ┆ null       ┆ Rejected   │\n",
       "│ 0271852       ┆ data/SampleH ┆ 0764549      ┆             ┆ rsonal     ┆            ┆            │\n",
       "│               ┆ DS.json      ┆              ┆             ┆            ┆            ┆            │\n",
       "│ 1700334969239 ┆ ../../../../ ┆ 156093393819 ┆ 8.7675e18   ┆ BasicCheck ┆ 5959028436 ┆ Rejected   │\n",
       "│ 0271852       ┆ data/SampleH ┆ 7189825      ┆             ┆ ing        ┆ 467311097  ┆            │\n",
       "│               ┆ DS.json      ┆              ┆             ┆            ┆            ┆            │\n",
       "└───────────────┴──────────────┴──────────────┴─────────────┴────────────┴────────────┴────────────┘"
      ]
     },
     "execution_count": 8,
     "metadata": {},
     "output_type": "execute_result"
    }
   ],
   "source": [
    "anon = DataAnonymization(\n",
    "    hds_folder='../../../../data/',\n",
    "    mask_ih_names=False,\n",
    "    mask_outcome_values=False,\n",
    "    mask_context_key_values=False,\n",
    "    mask_context_key_names=False,\n",
    ")\n",
    "anon.process()\n"
   ]
  },
  {
   "attachments": {},
   "cell_type": "markdown",
   "metadata": {},
   "source": [
    "The configs can also be written and read as such:"
   ]
  },
  {
   "cell_type": "code",
   "execution_count": 9,
   "metadata": {
    "execution": {
     "iopub.execute_input": "2023-05-30T12:22:33.990767Z",
     "iopub.status.busy": "2023-05-30T12:22:33.990331Z",
     "iopub.status.idle": "2023-05-30T12:22:33.993325Z",
     "shell.execute_reply": "2023-05-30T12:22:33.992797Z"
    }
   },
   "outputs": [],
   "source": [
    "anon.config.save_to_config_file('config.json')"
   ]
  },
  {
   "cell_type": "code",
   "execution_count": 10,
   "metadata": {
    "execution": {
     "iopub.execute_input": "2023-05-30T12:22:33.995385Z",
     "iopub.status.busy": "2023-05-30T12:22:33.995103Z",
     "iopub.status.idle": "2023-05-30T12:22:34.004936Z",
     "shell.execute_reply": "2023-05-30T12:22:34.004410Z"
    }
   },
   "outputs": [
    {
     "data": {
      "text/html": [
       "<div><style>\n",
       ".dataframe > thead > tr > th,\n",
       ".dataframe > tbody > tr > td {\n",
       "  text-align: right;\n",
       "}\n",
       "</style>\n",
       "<small>shape: (7, 7)</small><table border=\"1\" class=\"dataframe\"><thead><tr><th>PREDICTOR_0</th><th>filename</th><th>PREDICTOR_2</th><th>PREDICTOR_3</th><th>Context_Name</th><th>IH_Web_Inbound_Accepted_pxLastGroupID</th><th>Decision_Outcome</th></tr><tr><td>str</td><td>str</td><td>str</td><td>f64</td><td>str</td><td>str</td><td>str</td></tr></thead><tbody><tr><td>&quot;12154556426016…</td><td>&quot;../../../../da…</td><td>&quot;51519854107079…</td><td>1.2927e19</td><td>&quot;FirstMortgage3…</td><td>&quot;15929775116617…</td><td>&quot;Rejected&quot;</td></tr><tr><td>&quot;87092951009805…</td><td>&quot;../../../../da…</td><td>&quot;15153075939479…</td><td>1.4856e19</td><td>&quot;FirstMortgage3…</td><td>&quot;22217454315621…</td><td>&quot;Accepted&quot;</td></tr><tr><td>&quot;37034796642100…</td><td>&quot;../../../../da…</td><td>&quot;53797203847259…</td><td>5.6458e17</td><td>&quot;MoneyMarketSav…</td><td>&quot;15929775116617…</td><td>&quot;Rejected&quot;</td></tr><tr><td>&quot;87092951009805…</td><td>&quot;../../../../da…</td><td>&quot;13115112908575…</td><td>4.0723e18</td><td>&quot;BasicChecking&quot;</td><td>&quot;15929775116617…</td><td>&quot;Rejected&quot;</td></tr><tr><td>&quot;12154556426016…</td><td>&quot;../../../../da…</td><td>&quot;45128932187154…</td><td>1.4677e19</td><td>&quot;BasicChecking&quot;</td><td>&quot;14102865238668…</td><td>&quot;Accepted&quot;</td></tr><tr><td>&quot;37034796642100…</td><td>&quot;../../../../da…</td><td>&quot;13714943107391…</td><td>1.6330e19</td><td>&quot;UPlusFinPerson…</td><td>null</td><td>&quot;Rejected&quot;</td></tr><tr><td>&quot;37034796642100…</td><td>&quot;../../../../da…</td><td>&quot;12843442113734…</td><td>8.7675e18</td><td>&quot;BasicChecking&quot;</td><td>&quot;14102865238668…</td><td>&quot;Rejected&quot;</td></tr></tbody></table></div>"
      ],
      "text/plain": [
       "shape: (7, 7)\n",
       "┌───────────────┬──────────────┬──────────────┬─────────────┬────────────┬────────────┬────────────┐\n",
       "│ PREDICTOR_0   ┆ filename     ┆ PREDICTOR_2  ┆ PREDICTOR_3 ┆ Context_Na ┆ IH_Web_Inb ┆ Decision_O │\n",
       "│ ---           ┆ ---          ┆ ---          ┆ ---         ┆ me         ┆ ound_Accep ┆ utcome     │\n",
       "│ str           ┆ str          ┆ str          ┆ f64         ┆ ---        ┆ ted_pxLast ┆ ---        │\n",
       "│               ┆              ┆              ┆             ┆ str        ┆ Gr…        ┆ str        │\n",
       "│               ┆              ┆              ┆             ┆            ┆ ---        ┆            │\n",
       "│               ┆              ┆              ┆             ┆            ┆ str        ┆            │\n",
       "╞═══════════════╪══════════════╪══════════════╪═════════════╪════════════╪════════════╪════════════╡\n",
       "│ 1215455642601 ┆ ../../../../ ┆ 515198541070 ┆ 1.2927e19   ┆ FirstMortg ┆ 1592977511 ┆ Rejected   │\n",
       "│ 6996948       ┆ data/SampleH ┆ 791832       ┆             ┆ age30yr    ┆ 6617934904 ┆            │\n",
       "│               ┆ DS.json      ┆              ┆             ┆            ┆            ┆            │\n",
       "│ 8709295100980 ┆ ../../../../ ┆ 151530759394 ┆ 1.4856e19   ┆ FirstMortg ┆ 2221745431 ┆ Accepted   │\n",
       "│ 560806        ┆ data/SampleH ┆ 79496149     ┆             ┆ age30yr    ┆ 562197723  ┆            │\n",
       "│               ┆ DS.json      ┆              ┆             ┆            ┆            ┆            │\n",
       "│ 3703479664210 ┆ ../../../../ ┆ 537972038472 ┆ 5.6458e17   ┆ MoneyMarke ┆ 1592977511 ┆ Rejected   │\n",
       "│ 044182        ┆ data/SampleH ┆ 5929947      ┆             ┆ tSavingsAc ┆ 6617934904 ┆            │\n",
       "│               ┆ DS.json      ┆              ┆             ┆ count      ┆            ┆            │\n",
       "│ 8709295100980 ┆ ../../../../ ┆ 131151129085 ┆ 4.0723e18   ┆ BasicCheck ┆ 1592977511 ┆ Rejected   │\n",
       "│ 560806        ┆ data/SampleH ┆ 75053618     ┆             ┆ ing        ┆ 6617934904 ┆            │\n",
       "│               ┆ DS.json      ┆              ┆             ┆            ┆            ┆            │\n",
       "│ 1215455642601 ┆ ../../../../ ┆ 451289321871 ┆ 1.4677e19   ┆ BasicCheck ┆ 1410286523 ┆ Accepted   │\n",
       "│ 6996948       ┆ data/SampleH ┆ 5435983      ┆             ┆ ing        ┆ 8668385391 ┆            │\n",
       "│               ┆ DS.json      ┆              ┆             ┆            ┆            ┆            │\n",
       "│ 3703479664210 ┆ ../../../../ ┆ 137149431073 ┆ 1.6330e19   ┆ UPlusFinPe ┆ null       ┆ Rejected   │\n",
       "│ 044182        ┆ data/SampleH ┆ 91405042     ┆             ┆ rsonal     ┆            ┆            │\n",
       "│               ┆ DS.json      ┆              ┆             ┆            ┆            ┆            │\n",
       "│ 3703479664210 ┆ ../../../../ ┆ 128434421137 ┆ 8.7675e18   ┆ BasicCheck ┆ 1410286523 ┆ Rejected   │\n",
       "│ 044182        ┆ data/SampleH ┆ 34344517     ┆             ┆ ing        ┆ 8668385391 ┆            │\n",
       "│               ┆ DS.json      ┆              ┆             ┆            ┆            ┆            │\n",
       "└───────────────┴──────────────┴──────────────┴─────────────┴────────────┴────────────┴────────────┘"
      ]
     },
     "execution_count": 10,
     "metadata": {},
     "output_type": "execute_result"
    }
   ],
   "source": [
    "anon = DataAnonymization(config=Config(config_file='config.json'))\n",
    "anon.process()"
   ]
  },
  {
   "attachments": {},
   "cell_type": "markdown",
   "metadata": {},
   "source": [
    "## Exporting\n",
    "Two functions export:\n",
    "- `create_mapping_file()` writes the mapping file of the predictor names\n",
    "- `write_to_output()` writes the processed dataframe to disk\n",
    "\n",
    "Write to output accepts the following extensions: `[\"ndjson\", \"parquet\", \"arrow\", \"csv\"]`"
   ]
  },
  {
   "cell_type": "code",
   "execution_count": 11,
   "metadata": {
    "execution": {
     "iopub.execute_input": "2023-05-30T12:22:34.007310Z",
     "iopub.status.busy": "2023-05-30T12:22:34.006798Z",
     "iopub.status.idle": "2023-05-30T12:22:34.010521Z",
     "shell.execute_reply": "2023-05-30T12:22:34.009971Z"
    }
   },
   "outputs": [
    {
     "name": "stdout",
     "output_type": "stream",
     "text": [
      "Customer_MaritalStatus=PREDICTOR_0\n",
      "filename=filename\n",
      "Customer_City=PREDICTOR_2\n",
      "Customer_CLV=PREDICTOR_3\n",
      "Context_Name=Context_Name\n",
      "IH_Web_Inbound_Accepted_pxLastGroupID=IH_Web_Inbound_Accepted_pxLastGroupID\n",
      "Decision_Outcome=Decision_Outcome\n",
      "\n"
     ]
    }
   ],
   "source": [
    "anon.create_mapping_file()\n",
    "with open('mapping.map') as f:\n",
    "    print(f.read())"
   ]
  },
  {
   "cell_type": "code",
   "execution_count": 12,
   "metadata": {
    "execution": {
     "iopub.execute_input": "2023-05-30T12:22:34.012750Z",
     "iopub.status.busy": "2023-05-30T12:22:34.012320Z",
     "iopub.status.idle": "2023-05-30T12:22:34.016110Z",
     "shell.execute_reply": "2023-05-30T12:22:34.015584Z"
    }
   },
   "outputs": [],
   "source": [
    "anon.write_to_output(ext='arrow')"
   ]
  },
  {
   "cell_type": "code",
   "execution_count": 13,
   "metadata": {
    "execution": {
     "iopub.execute_input": "2023-05-30T12:22:34.018415Z",
     "iopub.status.busy": "2023-05-30T12:22:34.017900Z",
     "iopub.status.idle": "2023-05-30T12:22:34.022834Z",
     "shell.execute_reply": "2023-05-30T12:22:34.022306Z"
    }
   },
   "outputs": [
    {
     "data": {
      "text/html": [
       "<div><style>\n",
       ".dataframe > thead > tr > th,\n",
       ".dataframe > tbody > tr > td {\n",
       "  text-align: right;\n",
       "}\n",
       "</style>\n",
       "<small>shape: (7, 6)</small><table border=\"1\" class=\"dataframe\"><thead><tr><th>PREDICTOR_0</th><th>PREDICTOR_2</th><th>PREDICTOR_3</th><th>Context_Name</th><th>IH_Web_Inbound_Accepted_pxLastGroupID</th><th>Decision_Outcome</th></tr><tr><td>str</td><td>str</td><td>f64</td><td>str</td><td>str</td><td>str</td></tr></thead><tbody><tr><td>&quot;18316296074826…</td><td>&quot;13446682987184…</td><td>1.2927e19</td><td>&quot;FirstMortgage3…</td><td>&quot;29800245460062…</td><td>&quot;Rejected&quot;</td></tr><tr><td>&quot;10164741166500…</td><td>&quot;13141756321301…</td><td>1.4856e19</td><td>&quot;FirstMortgage3…</td><td>&quot;49548930210707…</td><td>&quot;Accepted&quot;</td></tr><tr><td>&quot;16140911506523…</td><td>&quot;16428835737377…</td><td>5.6458e17</td><td>&quot;MoneyMarketSav…</td><td>&quot;29800245460062…</td><td>&quot;Rejected&quot;</td></tr><tr><td>&quot;10164741166500…</td><td>&quot;15030230866027…</td><td>4.0723e18</td><td>&quot;BasicChecking&quot;</td><td>&quot;29800245460062…</td><td>&quot;Rejected&quot;</td></tr><tr><td>&quot;18316296074826…</td><td>&quot;16001436589638…</td><td>1.4677e19</td><td>&quot;BasicChecking&quot;</td><td>&quot;76436698215230…</td><td>&quot;Accepted&quot;</td></tr><tr><td>&quot;16140911506523…</td><td>&quot;92850967457124…</td><td>1.6330e19</td><td>&quot;UPlusFinPerson…</td><td>null</td><td>&quot;Rejected&quot;</td></tr><tr><td>&quot;16140911506523…</td><td>&quot;92249694172767…</td><td>8.7675e18</td><td>&quot;BasicChecking&quot;</td><td>&quot;76436698215230…</td><td>&quot;Rejected&quot;</td></tr></tbody></table></div>"
      ],
      "text/plain": [
       "shape: (7, 6)\n",
       "┌────────────────┬────────────────┬─────────────┬────────────────┬────────────────┬────────────────┐\n",
       "│ PREDICTOR_0    ┆ PREDICTOR_2    ┆ PREDICTOR_3 ┆ Context_Name   ┆ IH_Web_Inbound ┆ Decision_Outco │\n",
       "│ ---            ┆ ---            ┆ ---         ┆ ---            ┆ _Accepted_pxLa ┆ me             │\n",
       "│ str            ┆ str            ┆ f64         ┆ str            ┆ stGr…          ┆ ---            │\n",
       "│                ┆                ┆             ┆                ┆ ---            ┆ str            │\n",
       "│                ┆                ┆             ┆                ┆ str            ┆                │\n",
       "╞════════════════╪════════════════╪═════════════╪════════════════╪════════════════╪════════════════╡\n",
       "│ 18316296074826 ┆ 13446682987184 ┆ 1.2927e19   ┆ FirstMortgage3 ┆ 29800245460062 ┆ Rejected       │\n",
       "│ 734373         ┆ 417092         ┆             ┆ 0yr            ┆ 45183          ┆                │\n",
       "│ 10164741166500 ┆ 13141756321301 ┆ 1.4856e19   ┆ FirstMortgage3 ┆ 49548930210707 ┆ Accepted       │\n",
       "│ 45435          ┆ 728005         ┆             ┆ 0yr            ┆ 47182          ┆                │\n",
       "│ 16140911506523 ┆ 16428835737377 ┆ 5.6458e17   ┆ MoneyMarketSav ┆ 29800245460062 ┆ Rejected       │\n",
       "│ 358494         ┆ 528728         ┆             ┆ ingsAccount    ┆ 45183          ┆                │\n",
       "│ 10164741166500 ┆ 15030230866027 ┆ 4.0723e18   ┆ BasicChecking  ┆ 29800245460062 ┆ Rejected       │\n",
       "│ 45435          ┆ 812399         ┆             ┆                ┆ 45183          ┆                │\n",
       "│ 18316296074826 ┆ 16001436589638 ┆ 1.4677e19   ┆ BasicChecking  ┆ 76436698215230 ┆ Accepted       │\n",
       "│ 734373         ┆ 799645         ┆             ┆                ┆ 35828          ┆                │\n",
       "│ 16140911506523 ┆ 92850967457124 ┆ 1.6330e19   ┆ UPlusFinPerson ┆ null           ┆ Rejected       │\n",
       "│ 358494         ┆ 10990          ┆             ┆ al             ┆                ┆                │\n",
       "│ 16140911506523 ┆ 92249694172767 ┆ 8.7675e18   ┆ BasicChecking  ┆ 76436698215230 ┆ Rejected       │\n",
       "│ 358494         ┆ 85640          ┆             ┆                ┆ 35828          ┆                │\n",
       "└────────────────┴────────────────┴─────────────┴────────────────┴────────────────┴────────────────┘"
      ]
     },
     "execution_count": 13,
     "metadata": {},
     "output_type": "execute_result"
    }
   ],
   "source": [
    "pl.read_ipc('output/hds.arrow')"
   ]
  },
  {
   "attachments": {},
   "cell_type": "markdown",
   "metadata": {},
   "source": [
    "## Advanced: Hash fuctions\n",
    "\n",
    "By default, we use [the same hashing algorithm Polars](https://pola-rs.github.io/polars/py-polars/html/reference/expressions/api/polars.Expr.hash.html#polars.Expr.hash) uses: [xxhash](https://github.com/Cyan4973/xxHash), as implemented [here](https://github.com/pola-rs/polars/blob/3f287f370b3c388ed2f3f218b2c096382548136f/polars/polars-core/src/vector_hasher.rs#L266). xxhash is fast to compute, and you can check its performance in collision, dispersion and randomness [here](https://github.com/Cyan4973/xxHash/tree/dev/tests). \n",
    "\n",
    "xxhash accepts four distinct seeds, but by default we set the seeds to `0`. It is possible to set the `seed` argument of the `process()` function to `'random'`, which will set all four seeds to a random integer between `0` and `1000000000`. Alternatively, it is possible to supply the four seeds manually with arguments `seed`, `seed_1`, `seed_2` and `seed_3`. \n",
    "\n",
    "If the xxhash with (random) seed(s) is not deemed sufficiently secure, it is possible to use your own hashing algorithm.\n",
    "\n",
    "Note that since we're now running python code and not native Polars code anymore, this will be _significantly_ slower. Nonetheless, it is possible.\n",
    "\n",
    "Just as an example - this is how one would use sha3_256:"
   ]
  },
  {
   "cell_type": "code",
   "execution_count": 14,
   "metadata": {
    "execution": {
     "iopub.execute_input": "2023-05-30T12:22:34.025119Z",
     "iopub.status.busy": "2023-05-30T12:22:34.024841Z",
     "iopub.status.idle": "2023-05-30T12:22:34.359860Z",
     "shell.execute_reply": "2023-05-30T12:22:34.359189Z"
    }
   },
   "outputs": [
    {
     "ename": "ComputeError",
     "evalue": "AttributeError: 'int' object has no attribute 'encode'",
     "output_type": "error",
     "traceback": [
      "\u001b[0;31m---------------------------------------------------------------------------\u001b[0m",
      "\u001b[0;31mComputeError\u001b[0m                              Traceback (most recent call last)",
      "Cell \u001b[0;32mIn[14], line 3\u001b[0m\n\u001b[1;32m      1\u001b[0m \u001b[38;5;28;01mfrom\u001b[39;00m \u001b[38;5;21;01mhashlib\u001b[39;00m \u001b[38;5;28;01mimport\u001b[39;00m sha3_256\n\u001b[0;32m----> 3\u001b[0m \u001b[43manon\u001b[49m\u001b[38;5;241;43m.\u001b[39;49m\u001b[43mprocess\u001b[49m\u001b[43m(\u001b[49m\u001b[43malgorithm\u001b[49m\u001b[38;5;241;43m=\u001b[39;49m\u001b[38;5;28;43;01mlambda\u001b[39;49;00m\u001b[43m \u001b[49m\u001b[43mx\u001b[49m\u001b[43m:\u001b[49m\u001b[43m \u001b[49m\u001b[43msha3_256\u001b[49m\u001b[43m(\u001b[49m\u001b[43mx\u001b[49m\u001b[38;5;241;43m.\u001b[39;49m\u001b[43mencode\u001b[49m\u001b[43m(\u001b[49m\u001b[43m)\u001b[49m\u001b[43m)\u001b[49m\u001b[38;5;241;43m.\u001b[39;49m\u001b[43mhexdigest\u001b[49m\u001b[43m(\u001b[49m\u001b[43m)\u001b[49m\u001b[43m)\u001b[49m\n",
      "File \u001b[0;32m~/work/pega-datascientist-tools/pega-datascientist-tools/python/docs/source/articles/../../../pdstools/utils/hds_utils.py:516\u001b[0m, in \u001b[0;36mDataAnonymization.process\u001b[0;34m(self, strategy, **kwargs)\u001b[0m\n\u001b[1;32m    514\u001b[0m df \u001b[38;5;241m=\u001b[39m df\u001b[38;5;241m.\u001b[39mselect(\u001b[38;5;28mself\u001b[39m\u001b[38;5;241m.\u001b[39mcolumn_mapping\u001b[38;5;241m.\u001b[39mkeys())\u001b[38;5;241m.\u001b[39mrename(\u001b[38;5;28mself\u001b[39m\u001b[38;5;241m.\u001b[39mcolumn_mapping)\n\u001b[1;32m    515\u001b[0m \u001b[38;5;28;01mif\u001b[39;00m strategy \u001b[38;5;241m==\u001b[39m \u001b[38;5;124m\"\u001b[39m\u001b[38;5;124meager\u001b[39m\u001b[38;5;124m\"\u001b[39m:\n\u001b[0;32m--> 516\u001b[0m     \u001b[38;5;28;01mreturn\u001b[39;00m \u001b[43mdf\u001b[49m\u001b[38;5;241;43m.\u001b[39;49m\u001b[43mcollect\u001b[49m\u001b[43m(\u001b[49m\u001b[43m)\u001b[49m\n\u001b[1;32m    517\u001b[0m \u001b[38;5;28;01mreturn\u001b[39;00m df\n",
      "File \u001b[0;32m/opt/hostedtoolcache/Python/3.11.3/x64/lib/python3.11/site-packages/polars/lazyframe/frame.py:1501\u001b[0m, in \u001b[0;36mLazyFrame.collect\u001b[0;34m(self, type_coercion, predicate_pushdown, projection_pushdown, simplify_expression, no_optimization, slice_pushdown, common_subplan_elimination, streaming)\u001b[0m\n\u001b[1;32m   1490\u001b[0m     common_subplan_elimination \u001b[38;5;241m=\u001b[39m \u001b[38;5;28;01mFalse\u001b[39;00m\n\u001b[1;32m   1492\u001b[0m ldf \u001b[38;5;241m=\u001b[39m \u001b[38;5;28mself\u001b[39m\u001b[38;5;241m.\u001b[39m_ldf\u001b[38;5;241m.\u001b[39moptimization_toggle(\n\u001b[1;32m   1493\u001b[0m     type_coercion,\n\u001b[1;32m   1494\u001b[0m     predicate_pushdown,\n\u001b[0;32m   (...)\u001b[0m\n\u001b[1;32m   1499\u001b[0m     streaming,\n\u001b[1;32m   1500\u001b[0m )\n\u001b[0;32m-> 1501\u001b[0m \u001b[38;5;28;01mreturn\u001b[39;00m wrap_df(ldf\u001b[38;5;241m.\u001b[39mcollect())\n",
      "\u001b[0;31mComputeError\u001b[0m: AttributeError: 'int' object has no attribute 'encode'"
     ]
    }
   ],
   "source": [
    "from hashlib import sha3_256\n",
    "\n",
    "anon.process(algorithm=lambda x: sha3_256(x.encode()).hexdigest())"
   ]
  }
 ],
 "metadata": {
  "kernelspec": {
   "display_name": "Python 3",
   "language": "python",
   "name": "python3"
  },
  "language_info": {
   "codemirror_mode": {
    "name": "ipython",
    "version": 3
   },
   "file_extension": ".py",
   "mimetype": "text/x-python",
   "name": "python",
   "nbconvert_exporter": "python",
   "pygments_lexer": "ipython3",
   "version": "3.11.3"
  },
  "vscode": {
   "interpreter": {
    "hash": "aee8b7b246df8f9039afb4144a1f6fd8d2ca17a180786b69acc140d282b71a49"
   }
  }
 },
 "nbformat": 4,
 "nbformat_minor": 2
}
