{
 "cells": [
  {
   "attachments": {},
   "cell_type": "markdown",
   "metadata": {},
   "source": [
    "# Example data anonymization\n",
    "\n",
    "In Pega CDH 8.5 and up, it's now possible to record the historical data as seen by the Adaptive Models. See [this academy challenge](https://academy.pega.com/challenge/exporting-historical-data/v4) for reference. This historical data can be further used to experiment with offline models, but also to fine-tune the OOTB Gradient Boosting model. However, sharing this information with Pega can be sensitive as it contains raw predictor data. \n",
    "\n",
    "To this end, we provide a simple and transparent script to fully anonimize this dataset.\n",
    "\n",
    "The DataAnonymization script is now part of pdstools, and you can import it directly as such."
   ]
  },
  {
   "cell_type": "code",
   "execution_count": 1,
   "metadata": {
    "execution": {
     "iopub.execute_input": "2023-06-21T12:38:53.461015Z",
     "iopub.status.busy": "2023-06-21T12:38:53.460381Z",
     "iopub.status.idle": "2023-06-21T12:38:53.467152Z",
     "shell.execute_reply": "2023-06-21T12:38:53.466659Z"
    },
    "nbsphinx": "hidden"
   },
   "outputs": [],
   "source": [
    "# These lines are only for rendering in the docs, and are hidden through Jupyter tags\n",
    "# Do not run if you're running the notebook seperately\n",
    "\n",
    "import sys\n",
    "sys.path.append('../../../')"
   ]
  },
  {
   "cell_type": "code",
   "execution_count": 2,
   "metadata": {
    "execution": {
     "iopub.execute_input": "2023-06-21T12:38:53.469506Z",
     "iopub.status.busy": "2023-06-21T12:38:53.469155Z",
     "iopub.status.idle": "2023-06-21T12:38:54.609616Z",
     "shell.execute_reply": "2023-06-21T12:38:54.608981Z"
    }
   },
   "outputs": [],
   "source": [
    "from pdstools import ADMDatamart\n",
    "from pdstools import Config, DataAnonymization\n",
    "import polars as pl"
   ]
  },
  {
   "attachments": {},
   "cell_type": "markdown",
   "metadata": {},
   "source": [
    "## Input data\n",
    "\n",
    "To demonstrate this process, we're going to anonymise this toy example dataframe:"
   ]
  },
  {
   "cell_type": "code",
   "execution_count": 3,
   "metadata": {
    "execution": {
     "iopub.execute_input": "2023-06-21T12:38:54.612968Z",
     "iopub.status.busy": "2023-06-21T12:38:54.612444Z",
     "iopub.status.idle": "2023-06-21T12:38:54.624071Z",
     "shell.execute_reply": "2023-06-21T12:38:54.623555Z"
    }
   },
   "outputs": [
    {
     "data": {
      "text/html": [
       "<div><style>\n",
       ".dataframe > thead > tr > th,\n",
       ".dataframe > tbody > tr > td {\n",
       "  text-align: right;\n",
       "}\n",
       "</style>\n",
       "<small>shape: (7, 6)</small><table border=\"1\" class=\"dataframe\"><thead><tr><th>Context_Name</th><th>Customer_MaritalStatus</th><th>Customer_CLV</th><th>Customer_City</th><th>IH_Web_Inbound_Accepted_pxLastGroupID</th><th>Decision_Outcome</th></tr><tr><td>str</td><td>str</td><td>i64</td><td>str</td><td>str</td><td>str</td></tr></thead><tbody><tr><td>&quot;FirstMortgage3…</td><td>&quot;Married&quot;</td><td>1460</td><td>&quot;Port Raoul&quot;</td><td>&quot;Account&quot;</td><td>&quot;Rejected&quot;</td></tr><tr><td>&quot;FirstMortgage3…</td><td>&quot;Unknown&quot;</td><td>669</td><td>&quot;Laurianneshire…</td><td>&quot;AutoLoans&quot;</td><td>&quot;Accepted&quot;</td></tr><tr><td>&quot;MoneyMarketSav…</td><td>&quot;No Resp+&quot;</td><td>1174</td><td>&quot;Jacobshaven&quot;</td><td>&quot;Account&quot;</td><td>&quot;Rejected&quot;</td></tr><tr><td>&quot;BasicChecking&quot;</td><td>&quot;Unknown&quot;</td><td>1476</td><td>&quot;Lindton&quot;</td><td>&quot;Account&quot;</td><td>&quot;Rejected&quot;</td></tr><tr><td>&quot;BasicChecking&quot;</td><td>&quot;Married&quot;</td><td>1211</td><td>&quot;South Jimmiesh…</td><td>&quot;DepositAccount…</td><td>&quot;Accepted&quot;</td></tr><tr><td>&quot;UPlusFinPerson…</td><td>&quot;No Resp+&quot;</td><td>533</td><td>&quot;Bergeville&quot;</td><td>null</td><td>&quot;Rejected&quot;</td></tr><tr><td>&quot;BasicChecking&quot;</td><td>&quot;No Resp+&quot;</td><td>555</td><td>&quot;Willyville&quot;</td><td>&quot;DepositAccount…</td><td>&quot;Rejected&quot;</td></tr></tbody></table></div>"
      ],
      "text/plain": [
       "shape: (7, 6)\n",
       "┌────────────────┬────────────────┬──────────────┬────────────────┬────────────────┬───────────────┐\n",
       "│ Context_Name   ┆ Customer_Marit ┆ Customer_CLV ┆ Customer_City  ┆ IH_Web_Inbound ┆ Decision_Outc │\n",
       "│ ---            ┆ alStatus       ┆ ---          ┆ ---            ┆ _Accepted_pxLa ┆ ome           │\n",
       "│ str            ┆ ---            ┆ i64          ┆ str            ┆ stGr…          ┆ ---           │\n",
       "│                ┆ str            ┆              ┆                ┆ ---            ┆ str           │\n",
       "│                ┆                ┆              ┆                ┆ str            ┆               │\n",
       "╞════════════════╪════════════════╪══════════════╪════════════════╪════════════════╪═══════════════╡\n",
       "│ FirstMortgage3 ┆ Married        ┆ 1460         ┆ Port Raoul     ┆ Account        ┆ Rejected      │\n",
       "│ 0yr            ┆                ┆              ┆                ┆                ┆               │\n",
       "│ FirstMortgage3 ┆ Unknown        ┆ 669          ┆ Laurianneshire ┆ AutoLoans      ┆ Accepted      │\n",
       "│ 0yr            ┆                ┆              ┆                ┆                ┆               │\n",
       "│ MoneyMarketSav ┆ No Resp+       ┆ 1174         ┆ Jacobshaven    ┆ Account        ┆ Rejected      │\n",
       "│ ingsAccount    ┆                ┆              ┆                ┆                ┆               │\n",
       "│ BasicChecking  ┆ Unknown        ┆ 1476         ┆ Lindton        ┆ Account        ┆ Rejected      │\n",
       "│ BasicChecking  ┆ Married        ┆ 1211         ┆ South          ┆ DepositAccount ┆ Accepted      │\n",
       "│                ┆                ┆              ┆ Jimmieshire    ┆ s              ┆               │\n",
       "│ UPlusFinPerson ┆ No Resp+       ┆ 533          ┆ Bergeville     ┆ null           ┆ Rejected      │\n",
       "│ al             ┆                ┆              ┆                ┆                ┆               │\n",
       "│ BasicChecking  ┆ No Resp+       ┆ 555          ┆ Willyville     ┆ DepositAccount ┆ Rejected      │\n",
       "│                ┆                ┆              ┆                ┆ s              ┆               │\n",
       "└────────────────┴────────────────┴──────────────┴────────────────┴────────────────┴───────────────┘"
      ]
     },
     "execution_count": 3,
     "metadata": {},
     "output_type": "execute_result"
    }
   ],
   "source": [
    "pl.read_ndjson('../../../../data/SampleHDS.json')"
   ]
  },
  {
   "attachments": {},
   "cell_type": "markdown",
   "metadata": {},
   "source": [
    "As you can see, this dataset consists of regular predictors, IH predictors, context keys and the outcome column. Additionally, some columns are numeric, others are strings. Let's first initialize the DataAnonymization class."
   ]
  },
  {
   "cell_type": "code",
   "execution_count": 4,
   "metadata": {
    "execution": {
     "iopub.execute_input": "2023-06-21T12:38:54.627545Z",
     "iopub.status.busy": "2023-06-21T12:38:54.626532Z",
     "iopub.status.idle": "2023-06-21T12:38:54.635638Z",
     "shell.execute_reply": "2023-06-21T12:38:54.635186Z"
    }
   },
   "outputs": [],
   "source": [
    "anon = DataAnonymization(hds_folder='../../../../data/')"
   ]
  },
  {
   "attachments": {},
   "cell_type": "markdown",
   "metadata": {},
   "source": [
    "By default, the class applies a set of anonymisation techniques:\n",
    "- Column names are remapped to a non-descriptive name\n",
    "- Categorical values are hashed with a random seed\n",
    "- Numerical values are normalized between 0 and 1\n",
    "- Outcomes are mapped to a binary outcome.\n",
    "\n",
    "To apply these techniques, simply call `.process()`:"
   ]
  },
  {
   "cell_type": "code",
   "execution_count": 5,
   "metadata": {
    "execution": {
     "iopub.execute_input": "2023-06-21T12:38:54.637971Z",
     "iopub.status.busy": "2023-06-21T12:38:54.637776Z",
     "iopub.status.idle": "2023-06-21T12:38:54.644187Z",
     "shell.execute_reply": "2023-06-21T12:38:54.643537Z"
    }
   },
   "outputs": [
    {
     "data": {
      "text/html": [
       "<div><style>\n",
       ".dataframe > thead > tr > th,\n",
       ".dataframe > tbody > tr > td {\n",
       "  text-align: right;\n",
       "}\n",
       "</style>\n",
       "<small>shape: (7, 7)</small><table border=\"1\" class=\"dataframe\"><thead><tr><th>filename</th><th>PREDICTOR_1</th><th>PREDICTOR_2</th><th>PREDICTOR_3</th><th>Context_Name</th><th>IH_PREDICTOR_0</th><th>Decision_Outcome</th></tr><tr><td>str</td><td>str</td><td>str</td><td>f64</td><td>str</td><td>str</td><td>bool</td></tr></thead><tbody><tr><td>&quot;../../../../da…</td><td>&quot;13162532141526…</td><td>&quot;16393585128650…</td><td>1.2927e19</td><td>&quot;17967518745389…</td><td>&quot;10667307397135…</td><td>false</td></tr><tr><td>&quot;../../../../da…</td><td>&quot;22327275621277…</td><td>&quot;80738214335114…</td><td>1.4856e19</td><td>&quot;17967518745389…</td><td>&quot;91349648356075…</td><td>true</td></tr><tr><td>&quot;../../../../da…</td><td>&quot;71267959666747…</td><td>&quot;22308464403280…</td><td>5.6458e17</td><td>&quot;14413288701990…</td><td>&quot;10667307397135…</td><td>false</td></tr><tr><td>&quot;../../../../da…</td><td>&quot;22327275621277…</td><td>&quot;63537247226430…</td><td>4.0723e18</td><td>&quot;31854394385421…</td><td>&quot;10667307397135…</td><td>false</td></tr><tr><td>&quot;../../../../da…</td><td>&quot;13162532141526…</td><td>&quot;14569052436926…</td><td>1.4677e19</td><td>&quot;31854394385421…</td><td>&quot;16597108704203…</td><td>true</td></tr><tr><td>&quot;../../../../da…</td><td>&quot;71267959666747…</td><td>&quot;11583844034896…</td><td>1.6330e19</td><td>&quot;16513521720234…</td><td>null</td><td>false</td></tr><tr><td>&quot;../../../../da…</td><td>&quot;71267959666747…</td><td>&quot;12714244815129…</td><td>8.7675e18</td><td>&quot;31854394385421…</td><td>&quot;16597108704203…</td><td>false</td></tr></tbody></table></div>"
      ],
      "text/plain": [
       "shape: (7, 7)\n",
       "┌───────────────┬──────────────┬──────────────┬─────────────┬────────────┬────────────┬────────────┐\n",
       "│ filename      ┆ PREDICTOR_1  ┆ PREDICTOR_2  ┆ PREDICTOR_3 ┆ Context_Na ┆ IH_PREDICT ┆ Decision_O │\n",
       "│ ---           ┆ ---          ┆ ---          ┆ ---         ┆ me         ┆ OR_0       ┆ utcome     │\n",
       "│ str           ┆ str          ┆ str          ┆ f64         ┆ ---        ┆ ---        ┆ ---        │\n",
       "│               ┆              ┆              ┆             ┆ str        ┆ str        ┆ bool       │\n",
       "╞═══════════════╪══════════════╪══════════════╪═════════════╪════════════╪════════════╪════════════╡\n",
       "│ ../../../../d ┆ 131625321415 ┆ 163935851286 ┆ 1.2927e19   ┆ 1796751874 ┆ 1066730739 ┆ false      │\n",
       "│ ata/SampleHDS ┆ 26954515     ┆ 50494084     ┆             ┆ 5389396097 ┆ 7135308268 ┆            │\n",
       "│ .json         ┆              ┆              ┆             ┆            ┆            ┆            │\n",
       "│ ../../../../d ┆ 223272756212 ┆ 807382143351 ┆ 1.4856e19   ┆ 1796751874 ┆ 9134964835 ┆ true       │\n",
       "│ ata/SampleHDS ┆ 7757313      ┆ 1476964      ┆             ┆ 5389396097 ┆ 607546331  ┆            │\n",
       "│ .json         ┆              ┆              ┆             ┆            ┆            ┆            │\n",
       "│ ../../../../d ┆ 712679596667 ┆ 223084644032 ┆ 5.6458e17   ┆ 1441328870 ┆ 1066730739 ┆ false      │\n",
       "│ ata/SampleHDS ┆ 4742882      ┆ 8086385      ┆             ┆ 1990005533 ┆ 7135308268 ┆            │\n",
       "│ .json         ┆              ┆              ┆             ┆            ┆            ┆            │\n",
       "│ ../../../../d ┆ 223272756212 ┆ 635372472264 ┆ 4.0723e18   ┆ 3185439438 ┆ 1066730739 ┆ false      │\n",
       "│ ata/SampleHDS ┆ 7757313      ┆ 3050779      ┆             ┆ 542135415  ┆ 7135308268 ┆            │\n",
       "│ .json         ┆              ┆              ┆             ┆            ┆            ┆            │\n",
       "│ ../../../../d ┆ 131625321415 ┆ 145690524369 ┆ 1.4677e19   ┆ 3185439438 ┆ 1659710870 ┆ true       │\n",
       "│ ata/SampleHDS ┆ 26954515     ┆ 26768892     ┆             ┆ 542135415  ┆ 4203839907 ┆            │\n",
       "│ .json         ┆              ┆              ┆             ┆            ┆            ┆            │\n",
       "│ ../../../../d ┆ 712679596667 ┆ 115838440348 ┆ 1.6330e19   ┆ 1651352172 ┆ null       ┆ false      │\n",
       "│ ata/SampleHDS ┆ 4742882      ┆ 96791959     ┆             ┆ 0234011689 ┆            ┆            │\n",
       "│ .json         ┆              ┆              ┆             ┆            ┆            ┆            │\n",
       "│ ../../../../d ┆ 712679596667 ┆ 127142448151 ┆ 8.7675e18   ┆ 3185439438 ┆ 1659710870 ┆ false      │\n",
       "│ ata/SampleHDS ┆ 4742882      ┆ 293753       ┆             ┆ 542135415  ┆ 4203839907 ┆            │\n",
       "│ .json         ┆              ┆              ┆             ┆            ┆            ┆            │\n",
       "└───────────────┴──────────────┴──────────────┴─────────────┴────────────┴────────────┴────────────┘"
      ]
     },
     "execution_count": 5,
     "metadata": {},
     "output_type": "execute_result"
    }
   ],
   "source": [
    "anon.process()"
   ]
  },
  {
   "attachments": {},
   "cell_type": "markdown",
   "metadata": {},
   "source": [
    "To trace back the columns to their original names, the class also contains a mapping, which does not have to be provided."
   ]
  },
  {
   "cell_type": "code",
   "execution_count": 6,
   "metadata": {
    "execution": {
     "iopub.execute_input": "2023-06-21T12:38:54.646415Z",
     "iopub.status.busy": "2023-06-21T12:38:54.646229Z",
     "iopub.status.idle": "2023-06-21T12:38:54.649878Z",
     "shell.execute_reply": "2023-06-21T12:38:54.649344Z"
    }
   },
   "outputs": [
    {
     "data": {
      "text/plain": [
       "{'filename': 'filename',\n",
       " 'Customer_MaritalStatus': 'PREDICTOR_1',\n",
       " 'Customer_City': 'PREDICTOR_2',\n",
       " 'Customer_CLV': 'PREDICTOR_3',\n",
       " 'Context_Name': 'Context_Name',\n",
       " 'IH_Web_Inbound_Accepted_pxLastGroupID': 'IH_PREDICTOR_0',\n",
       " 'Decision_Outcome': 'Decision_Outcome'}"
      ]
     },
     "execution_count": 6,
     "metadata": {},
     "output_type": "execute_result"
    }
   ],
   "source": [
    "anon.column_mapping"
   ]
  },
  {
   "attachments": {},
   "cell_type": "markdown",
   "metadata": {},
   "source": [
    "## Configs\n",
    "\n",
    "Each capability can optionally be turned off - see below for the full list of config options, and refer to the API reference for the full description."
   ]
  },
  {
   "cell_type": "code",
   "execution_count": 7,
   "metadata": {
    "execution": {
     "iopub.execute_input": "2023-06-21T12:38:54.652732Z",
     "iopub.status.busy": "2023-06-21T12:38:54.652544Z",
     "iopub.status.idle": "2023-06-21T12:38:54.656694Z",
     "shell.execute_reply": "2023-06-21T12:38:54.656127Z"
    }
   },
   "outputs": [
    {
     "data": {
      "text/plain": [
       "{'config_file': None,\n",
       " 'hds_folder': '.',\n",
       " 'use_datamart': False,\n",
       " 'datamart_folder': 'datamart',\n",
       " 'output_format': 'ndjson',\n",
       " 'output_folder': 'output',\n",
       " 'mapping_file': 'mapping.map',\n",
       " 'mask_predictor_names': True,\n",
       " 'mask_context_key_names': False,\n",
       " 'mask_ih_names': True,\n",
       " 'mask_outcome_name': False,\n",
       " 'mask_predictor_values': True,\n",
       " 'mask_context_key_values': True,\n",
       " 'mask_ih_values': True,\n",
       " 'mask_outcome_values': True,\n",
       " 'context_key_label': 'Context_*',\n",
       " 'ih_label': 'IH_*',\n",
       " 'outcome_column': 'Decision_Outcome',\n",
       " 'positive_outcomes': ['Accepted', 'Clicked'],\n",
       " 'negative_outcomes': ['Rejected', 'Impression'],\n",
       " 'special_predictors': ['Decision_DecisionTime',\n",
       "  'Decision_OutcomeTime',\n",
       "  'Decision_Rank'],\n",
       " 'sample_percentage_schema_inferencing': 0.01}"
      ]
     },
     "execution_count": 7,
     "metadata": {},
     "output_type": "execute_result"
    }
   ],
   "source": [
    "dict(zip(Config.__init__.__code__.co_varnames[1:], Config.__init__.__defaults__))"
   ]
  },
  {
   "attachments": {},
   "cell_type": "markdown",
   "metadata": {},
   "source": [
    "It's easy to change these parameters by just passing the keyword arguments. In the following example, we\n",
    "- Keep the IH predictor names\n",
    "- Keep the outcome values\n",
    "- Keep the context key values\n",
    "- Keep the context key predictor names"
   ]
  },
  {
   "cell_type": "code",
   "execution_count": 8,
   "metadata": {
    "execution": {
     "iopub.execute_input": "2023-06-21T12:38:54.659414Z",
     "iopub.status.busy": "2023-06-21T12:38:54.659223Z",
     "iopub.status.idle": "2023-06-21T12:38:54.668767Z",
     "shell.execute_reply": "2023-06-21T12:38:54.668206Z"
    }
   },
   "outputs": [
    {
     "data": {
      "text/html": [
       "<div><style>\n",
       ".dataframe > thead > tr > th,\n",
       ".dataframe > tbody > tr > td {\n",
       "  text-align: right;\n",
       "}\n",
       "</style>\n",
       "<small>shape: (7, 7)</small><table border=\"1\" class=\"dataframe\"><thead><tr><th>filename</th><th>PREDICTOR_1</th><th>PREDICTOR_2</th><th>PREDICTOR_3</th><th>Context_Name</th><th>IH_Web_Inbound_Accepted_pxLastGroupID</th><th>Decision_Outcome</th></tr><tr><td>str</td><td>str</td><td>str</td><td>f64</td><td>str</td><td>str</td><td>str</td></tr></thead><tbody><tr><td>&quot;../../../../da…</td><td>&quot;14346263775424…</td><td>&quot;15962270862107…</td><td>1.2927e19</td><td>&quot;FirstMortgage3…</td><td>&quot;33910925400977…</td><td>&quot;Rejected&quot;</td></tr><tr><td>&quot;../../../../da…</td><td>&quot;93548594396485…</td><td>&quot;13001260806302…</td><td>1.4856e19</td><td>&quot;FirstMortgage3…</td><td>&quot;81623812645215…</td><td>&quot;Accepted&quot;</td></tr><tr><td>&quot;../../../../da…</td><td>&quot;82369845046256…</td><td>&quot;15934768941265…</td><td>5.6458e17</td><td>&quot;MoneyMarketSav…</td><td>&quot;33910925400977…</td><td>&quot;Rejected&quot;</td></tr><tr><td>&quot;../../../../da…</td><td>&quot;93548594396485…</td><td>&quot;11756320322906…</td><td>4.0723e18</td><td>&quot;BasicChecking&quot;</td><td>&quot;33910925400977…</td><td>&quot;Rejected&quot;</td></tr><tr><td>&quot;../../../../da…</td><td>&quot;14346263775424…</td><td>&quot;24720120222833…</td><td>1.4677e19</td><td>&quot;BasicChecking&quot;</td><td>&quot;71312238589880…</td><td>&quot;Accepted&quot;</td></tr><tr><td>&quot;../../../../da…</td><td>&quot;82369845046256…</td><td>&quot;17193908736011…</td><td>1.6330e19</td><td>&quot;UPlusFinPerson…</td><td>null</td><td>&quot;Rejected&quot;</td></tr><tr><td>&quot;../../../../da…</td><td>&quot;82369845046256…</td><td>&quot;16526790954226…</td><td>8.7675e18</td><td>&quot;BasicChecking&quot;</td><td>&quot;71312238589880…</td><td>&quot;Rejected&quot;</td></tr></tbody></table></div>"
      ],
      "text/plain": [
       "shape: (7, 7)\n",
       "┌───────────────┬──────────────┬──────────────┬─────────────┬────────────┬────────────┬────────────┐\n",
       "│ filename      ┆ PREDICTOR_1  ┆ PREDICTOR_2  ┆ PREDICTOR_3 ┆ Context_Na ┆ IH_Web_Inb ┆ Decision_O │\n",
       "│ ---           ┆ ---          ┆ ---          ┆ ---         ┆ me         ┆ ound_Accep ┆ utcome     │\n",
       "│ str           ┆ str          ┆ str          ┆ f64         ┆ ---        ┆ ted_pxLast ┆ ---        │\n",
       "│               ┆              ┆              ┆             ┆ str        ┆ Gr…        ┆ str        │\n",
       "│               ┆              ┆              ┆             ┆            ┆ ---        ┆            │\n",
       "│               ┆              ┆              ┆             ┆            ┆ str        ┆            │\n",
       "╞═══════════════╪══════════════╪══════════════╪═════════════╪════════════╪════════════╪════════════╡\n",
       "│ ../../../../d ┆ 143462637754 ┆ 159622708621 ┆ 1.2927e19   ┆ FirstMortg ┆ 3391092540 ┆ Rejected   │\n",
       "│ ata/SampleHDS ┆ 24828531     ┆ 07211750     ┆             ┆ age30yr    ┆ 097728752  ┆            │\n",
       "│ .json         ┆              ┆              ┆             ┆            ┆            ┆            │\n",
       "│ ../../../../d ┆ 935485943964 ┆ 130012608063 ┆ 1.4856e19   ┆ FirstMortg ┆ 8162381264 ┆ Accepted   │\n",
       "│ ata/SampleHDS ┆ 8568493      ┆ 02029310     ┆             ┆ age30yr    ┆ 521584777  ┆            │\n",
       "│ .json         ┆              ┆              ┆             ┆            ┆            ┆            │\n",
       "│ ../../../../d ┆ 823698450462 ┆ 159347689412 ┆ 5.6458e17   ┆ MoneyMarke ┆ 3391092540 ┆ Rejected   │\n",
       "│ ata/SampleHDS ┆ 5652004      ┆ 65950179     ┆             ┆ tSavingsAc ┆ 097728752  ┆            │\n",
       "│ .json         ┆              ┆              ┆             ┆ count      ┆            ┆            │\n",
       "│ ../../../../d ┆ 935485943964 ┆ 117563203229 ┆ 4.0723e18   ┆ BasicCheck ┆ 3391092540 ┆ Rejected   │\n",
       "│ ata/SampleHDS ┆ 8568493      ┆ 06917253     ┆             ┆ ing        ┆ 097728752  ┆            │\n",
       "│ .json         ┆              ┆              ┆             ┆            ┆            ┆            │\n",
       "│ ../../../../d ┆ 143462637754 ┆ 247201202228 ┆ 1.4677e19   ┆ BasicCheck ┆ 7131223858 ┆ Accepted   │\n",
       "│ ata/SampleHDS ┆ 24828531     ┆ 3369376      ┆             ┆ ing        ┆ 988061185  ┆            │\n",
       "│ .json         ┆              ┆              ┆             ┆            ┆            ┆            │\n",
       "│ ../../../../d ┆ 823698450462 ┆ 171939087360 ┆ 1.6330e19   ┆ UPlusFinPe ┆ null       ┆ Rejected   │\n",
       "│ ata/SampleHDS ┆ 5652004      ┆ 11198741     ┆             ┆ rsonal     ┆            ┆            │\n",
       "│ .json         ┆              ┆              ┆             ┆            ┆            ┆            │\n",
       "│ ../../../../d ┆ 823698450462 ┆ 165267909542 ┆ 8.7675e18   ┆ BasicCheck ┆ 7131223858 ┆ Rejected   │\n",
       "│ ata/SampleHDS ┆ 5652004      ┆ 26619229     ┆             ┆ ing        ┆ 988061185  ┆            │\n",
       "│ .json         ┆              ┆              ┆             ┆            ┆            ┆            │\n",
       "└───────────────┴──────────────┴──────────────┴─────────────┴────────────┴────────────┴────────────┘"
      ]
     },
     "execution_count": 8,
     "metadata": {},
     "output_type": "execute_result"
    }
   ],
   "source": [
    "anon = DataAnonymization(\n",
    "    hds_folder='../../../../data/',\n",
    "    mask_ih_names=False,\n",
    "    mask_outcome_values=False,\n",
    "    mask_context_key_values=False,\n",
    "    mask_context_key_names=False,\n",
    ")\n",
    "anon.process()\n"
   ]
  },
  {
   "attachments": {},
   "cell_type": "markdown",
   "metadata": {},
   "source": [
    "The configs can also be written and read as such:"
   ]
  },
  {
   "cell_type": "code",
   "execution_count": 9,
   "metadata": {
    "execution": {
     "iopub.execute_input": "2023-06-21T12:38:54.671118Z",
     "iopub.status.busy": "2023-06-21T12:38:54.670932Z",
     "iopub.status.idle": "2023-06-21T12:38:54.673763Z",
     "shell.execute_reply": "2023-06-21T12:38:54.673235Z"
    }
   },
   "outputs": [],
   "source": [
    "anon.config.save_to_config_file('config.json')"
   ]
  },
  {
   "cell_type": "code",
   "execution_count": 10,
   "metadata": {
    "execution": {
     "iopub.execute_input": "2023-06-21T12:38:54.675824Z",
     "iopub.status.busy": "2023-06-21T12:38:54.675643Z",
     "iopub.status.idle": "2023-06-21T12:38:54.685061Z",
     "shell.execute_reply": "2023-06-21T12:38:54.684495Z"
    }
   },
   "outputs": [
    {
     "data": {
      "text/html": [
       "<div><style>\n",
       ".dataframe > thead > tr > th,\n",
       ".dataframe > tbody > tr > td {\n",
       "  text-align: right;\n",
       "}\n",
       "</style>\n",
       "<small>shape: (7, 7)</small><table border=\"1\" class=\"dataframe\"><thead><tr><th>filename</th><th>PREDICTOR_1</th><th>PREDICTOR_2</th><th>PREDICTOR_3</th><th>Context_Name</th><th>IH_Web_Inbound_Accepted_pxLastGroupID</th><th>Decision_Outcome</th></tr><tr><td>str</td><td>str</td><td>str</td><td>f64</td><td>str</td><td>str</td><td>str</td></tr></thead><tbody><tr><td>&quot;../../../../da…</td><td>&quot;12052365626173…</td><td>&quot;16014625708796…</td><td>1.2927e19</td><td>&quot;FirstMortgage3…</td><td>&quot;10032699116207…</td><td>&quot;Rejected&quot;</td></tr><tr><td>&quot;../../../../da…</td><td>&quot;66190943918933…</td><td>&quot;12587381290624…</td><td>1.4856e19</td><td>&quot;FirstMortgage3…</td><td>&quot;15071511925841…</td><td>&quot;Accepted&quot;</td></tr><tr><td>&quot;../../../../da…</td><td>&quot;15694079305192…</td><td>&quot;15884553225396…</td><td>5.6458e17</td><td>&quot;MoneyMarketSav…</td><td>&quot;10032699116207…</td><td>&quot;Rejected&quot;</td></tr><tr><td>&quot;../../../../da…</td><td>&quot;66190943918933…</td><td>&quot;22560853359593…</td><td>4.0723e18</td><td>&quot;BasicChecking&quot;</td><td>&quot;10032699116207…</td><td>&quot;Rejected&quot;</td></tr><tr><td>&quot;../../../../da…</td><td>&quot;12052365626173…</td><td>&quot;79043896039421…</td><td>1.4677e19</td><td>&quot;BasicChecking&quot;</td><td>&quot;10704517234339…</td><td>&quot;Accepted&quot;</td></tr><tr><td>&quot;../../../../da…</td><td>&quot;15694079305192…</td><td>&quot;29156544383692…</td><td>1.6330e19</td><td>&quot;UPlusFinPerson…</td><td>null</td><td>&quot;Rejected&quot;</td></tr><tr><td>&quot;../../../../da…</td><td>&quot;15694079305192…</td><td>&quot;20065452508901…</td><td>8.7675e18</td><td>&quot;BasicChecking&quot;</td><td>&quot;10704517234339…</td><td>&quot;Rejected&quot;</td></tr></tbody></table></div>"
      ],
      "text/plain": [
       "shape: (7, 7)\n",
       "┌───────────────┬──────────────┬──────────────┬─────────────┬────────────┬────────────┬────────────┐\n",
       "│ filename      ┆ PREDICTOR_1  ┆ PREDICTOR_2  ┆ PREDICTOR_3 ┆ Context_Na ┆ IH_Web_Inb ┆ Decision_O │\n",
       "│ ---           ┆ ---          ┆ ---          ┆ ---         ┆ me         ┆ ound_Accep ┆ utcome     │\n",
       "│ str           ┆ str          ┆ str          ┆ f64         ┆ ---        ┆ ted_pxLast ┆ ---        │\n",
       "│               ┆              ┆              ┆             ┆ str        ┆ Gr…        ┆ str        │\n",
       "│               ┆              ┆              ┆             ┆            ┆ ---        ┆            │\n",
       "│               ┆              ┆              ┆             ┆            ┆ str        ┆            │\n",
       "╞═══════════════╪══════════════╪══════════════╪═════════════╪════════════╪════════════╪════════════╡\n",
       "│ ../../../../d ┆ 120523656261 ┆ 160146257087 ┆ 1.2927e19   ┆ FirstMortg ┆ 1003269911 ┆ Rejected   │\n",
       "│ ata/SampleHDS ┆ 73604365     ┆ 96716955     ┆             ┆ age30yr    ┆ 6207303806 ┆            │\n",
       "│ .json         ┆              ┆              ┆             ┆            ┆            ┆            │\n",
       "│ ../../../../d ┆ 661909439189 ┆ 125873812906 ┆ 1.4856e19   ┆ FirstMortg ┆ 1507151192 ┆ Accepted   │\n",
       "│ ata/SampleHDS ┆ 3391778      ┆ 24534045     ┆             ┆ age30yr    ┆ 5841844433 ┆            │\n",
       "│ .json         ┆              ┆              ┆             ┆            ┆            ┆            │\n",
       "│ ../../../../d ┆ 156940793051 ┆ 158845532253 ┆ 5.6458e17   ┆ MoneyMarke ┆ 1003269911 ┆ Rejected   │\n",
       "│ ata/SampleHDS ┆ 92678605     ┆ 96864111     ┆             ┆ tSavingsAc ┆ 6207303806 ┆            │\n",
       "│ .json         ┆              ┆              ┆             ┆ count      ┆            ┆            │\n",
       "│ ../../../../d ┆ 661909439189 ┆ 225608533595 ┆ 4.0723e18   ┆ BasicCheck ┆ 1003269911 ┆ Rejected   │\n",
       "│ ata/SampleHDS ┆ 3391778      ┆ 9335860      ┆             ┆ ing        ┆ 6207303806 ┆            │\n",
       "│ .json         ┆              ┆              ┆             ┆            ┆            ┆            │\n",
       "│ ../../../../d ┆ 120523656261 ┆ 790438960394 ┆ 1.4677e19   ┆ BasicCheck ┆ 1070451723 ┆ Accepted   │\n",
       "│ ata/SampleHDS ┆ 73604365     ┆ 2170614      ┆             ┆ ing        ┆ 4339753498 ┆            │\n",
       "│ .json         ┆              ┆              ┆             ┆            ┆            ┆            │\n",
       "│ ../../../../d ┆ 156940793051 ┆ 291565443836 ┆ 1.6330e19   ┆ UPlusFinPe ┆ null       ┆ Rejected   │\n",
       "│ ata/SampleHDS ┆ 92678605     ┆ 9246669      ┆             ┆ rsonal     ┆            ┆            │\n",
       "│ .json         ┆              ┆              ┆             ┆            ┆            ┆            │\n",
       "│ ../../../../d ┆ 156940793051 ┆ 200654525089 ┆ 8.7675e18   ┆ BasicCheck ┆ 1070451723 ┆ Rejected   │\n",
       "│ ata/SampleHDS ┆ 92678605     ┆ 0126014      ┆             ┆ ing        ┆ 4339753498 ┆            │\n",
       "│ .json         ┆              ┆              ┆             ┆            ┆            ┆            │\n",
       "└───────────────┴──────────────┴──────────────┴─────────────┴────────────┴────────────┴────────────┘"
      ]
     },
     "execution_count": 10,
     "metadata": {},
     "output_type": "execute_result"
    }
   ],
   "source": [
    "anon = DataAnonymization(config=Config(config_file='config.json'))\n",
    "anon.process()"
   ]
  },
  {
   "attachments": {},
   "cell_type": "markdown",
   "metadata": {},
   "source": [
    "## Exporting\n",
    "Two functions export:\n",
    "- `create_mapping_file()` writes the mapping file of the predictor names\n",
    "- `write_to_output()` writes the processed dataframe to disk\n",
    "\n",
    "Write to output accepts the following extensions: `[\"ndjson\", \"parquet\", \"arrow\", \"csv\"]`"
   ]
  },
  {
   "cell_type": "code",
   "execution_count": 11,
   "metadata": {
    "execution": {
     "iopub.execute_input": "2023-06-21T12:38:54.687417Z",
     "iopub.status.busy": "2023-06-21T12:38:54.687234Z",
     "iopub.status.idle": "2023-06-21T12:38:54.690681Z",
     "shell.execute_reply": "2023-06-21T12:38:54.690137Z"
    }
   },
   "outputs": [
    {
     "name": "stdout",
     "output_type": "stream",
     "text": [
      "filename=filename\n",
      "Customer_MaritalStatus=PREDICTOR_1\n",
      "Customer_City=PREDICTOR_2\n",
      "Customer_CLV=PREDICTOR_3\n",
      "Context_Name=Context_Name\n",
      "IH_Web_Inbound_Accepted_pxLastGroupID=IH_Web_Inbound_Accepted_pxLastGroupID\n",
      "Decision_Outcome=Decision_Outcome\n",
      "\n"
     ]
    }
   ],
   "source": [
    "anon.create_mapping_file()\n",
    "with open('mapping.map') as f:\n",
    "    print(f.read())"
   ]
  },
  {
   "cell_type": "code",
   "execution_count": 12,
   "metadata": {
    "execution": {
     "iopub.execute_input": "2023-06-21T12:38:54.693380Z",
     "iopub.status.busy": "2023-06-21T12:38:54.693196Z",
     "iopub.status.idle": "2023-06-21T12:38:54.696589Z",
     "shell.execute_reply": "2023-06-21T12:38:54.696049Z"
    }
   },
   "outputs": [],
   "source": [
    "anon.write_to_output(ext='arrow')"
   ]
  },
  {
   "cell_type": "code",
   "execution_count": 13,
   "metadata": {
    "execution": {
     "iopub.execute_input": "2023-06-21T12:38:54.698687Z",
     "iopub.status.busy": "2023-06-21T12:38:54.698490Z",
     "iopub.status.idle": "2023-06-21T12:38:54.703090Z",
     "shell.execute_reply": "2023-06-21T12:38:54.702571Z"
    }
   },
   "outputs": [
    {
     "data": {
      "text/html": [
       "<div><style>\n",
       ".dataframe > thead > tr > th,\n",
       ".dataframe > tbody > tr > td {\n",
       "  text-align: right;\n",
       "}\n",
       "</style>\n",
       "<small>shape: (7, 6)</small><table border=\"1\" class=\"dataframe\"><thead><tr><th>PREDICTOR_1</th><th>PREDICTOR_2</th><th>PREDICTOR_3</th><th>Context_Name</th><th>IH_Web_Inbound_Accepted_pxLastGroupID</th><th>Decision_Outcome</th></tr><tr><td>str</td><td>str</td><td>f64</td><td>str</td><td>str</td><td>str</td></tr></thead><tbody><tr><td>&quot;97800958896705…</td><td>&quot;94634722308245…</td><td>1.2927e19</td><td>&quot;FirstMortgage3…</td><td>&quot;65939190003388…</td><td>&quot;Rejected&quot;</td></tr><tr><td>&quot;17345172212663…</td><td>&quot;48704912334109…</td><td>1.4856e19</td><td>&quot;FirstMortgage3…</td><td>&quot;11208405990540…</td><td>&quot;Accepted&quot;</td></tr><tr><td>&quot;15463151947305…</td><td>&quot;15835845628485…</td><td>5.6458e17</td><td>&quot;MoneyMarketSav…</td><td>&quot;65939190003388…</td><td>&quot;Rejected&quot;</td></tr><tr><td>&quot;17345172212663…</td><td>&quot;94136447049391…</td><td>4.0723e18</td><td>&quot;BasicChecking&quot;</td><td>&quot;65939190003388…</td><td>&quot;Rejected&quot;</td></tr><tr><td>&quot;97800958896705…</td><td>&quot;68239903795898…</td><td>1.4677e19</td><td>&quot;BasicChecking&quot;</td><td>&quot;56989559042602…</td><td>&quot;Accepted&quot;</td></tr><tr><td>&quot;15463151947305…</td><td>&quot;14595392990158…</td><td>1.6330e19</td><td>&quot;UPlusFinPerson…</td><td>null</td><td>&quot;Rejected&quot;</td></tr><tr><td>&quot;15463151947305…</td><td>&quot;75542362386650…</td><td>8.7675e18</td><td>&quot;BasicChecking&quot;</td><td>&quot;56989559042602…</td><td>&quot;Rejected&quot;</td></tr></tbody></table></div>"
      ],
      "text/plain": [
       "shape: (7, 6)\n",
       "┌────────────────┬────────────────┬─────────────┬────────────────┬────────────────┬────────────────┐\n",
       "│ PREDICTOR_1    ┆ PREDICTOR_2    ┆ PREDICTOR_3 ┆ Context_Name   ┆ IH_Web_Inbound ┆ Decision_Outco │\n",
       "│ ---            ┆ ---            ┆ ---         ┆ ---            ┆ _Accepted_pxLa ┆ me             │\n",
       "│ str            ┆ str            ┆ f64         ┆ str            ┆ stGr…          ┆ ---            │\n",
       "│                ┆                ┆             ┆                ┆ ---            ┆ str            │\n",
       "│                ┆                ┆             ┆                ┆ str            ┆                │\n",
       "╞════════════════╪════════════════╪═════════════╪════════════════╪════════════════╪════════════════╡\n",
       "│ 97800958896705 ┆ 94634722308245 ┆ 1.2927e19   ┆ FirstMortgage3 ┆ 65939190003388 ┆ Rejected       │\n",
       "│ 4807           ┆ 0356           ┆             ┆ 0yr            ┆ 38192          ┆                │\n",
       "│ 17345172212663 ┆ 48704912334109 ┆ 1.4856e19   ┆ FirstMortgage3 ┆ 11208405990540 ┆ Accepted       │\n",
       "│ 210029         ┆ 12324          ┆             ┆ 0yr            ┆ 142684         ┆                │\n",
       "│ 15463151947305 ┆ 15835845628485 ┆ 5.6458e17   ┆ MoneyMarketSav ┆ 65939190003388 ┆ Rejected       │\n",
       "│ 713973         ┆ 190913         ┆             ┆ ingsAccount    ┆ 38192          ┆                │\n",
       "│ 17345172212663 ┆ 94136447049391 ┆ 4.0723e18   ┆ BasicChecking  ┆ 65939190003388 ┆ Rejected       │\n",
       "│ 210029         ┆ 1543           ┆             ┆                ┆ 38192          ┆                │\n",
       "│ 97800958896705 ┆ 68239903795898 ┆ 1.4677e19   ┆ BasicChecking  ┆ 56989559042602 ┆ Accepted       │\n",
       "│ 4807           ┆ 64814          ┆             ┆                ┆ 96936          ┆                │\n",
       "│ 15463151947305 ┆ 14595392990158 ┆ 1.6330e19   ┆ UPlusFinPerson ┆ null           ┆ Rejected       │\n",
       "│ 713973         ┆ 361839         ┆             ┆ al             ┆                ┆                │\n",
       "│ 15463151947305 ┆ 75542362386650 ┆ 8.7675e18   ┆ BasicChecking  ┆ 56989559042602 ┆ Rejected       │\n",
       "│ 713973         ┆ 24010          ┆             ┆                ┆ 96936          ┆                │\n",
       "└────────────────┴────────────────┴─────────────┴────────────────┴────────────────┴────────────────┘"
      ]
     },
     "execution_count": 13,
     "metadata": {},
     "output_type": "execute_result"
    }
   ],
   "source": [
    "pl.read_ipc('output/hds.arrow')"
   ]
  },
  {
   "attachments": {},
   "cell_type": "markdown",
   "metadata": {},
   "source": [
    "## Advanced: Hash fuctions\n",
    "\n",
    "By default, we use [the same hashing algorithm Polars](https://pola-rs.github.io/polars/py-polars/html/reference/expressions/api/polars.Expr.hash.html#polars.Expr.hash) uses: [xxhash](https://github.com/Cyan4973/xxHash), as implemented [here](https://github.com/pola-rs/polars/blob/3f287f370b3c388ed2f3f218b2c096382548136f/polars/polars-core/src/vector_hasher.rs#L266). xxhash is fast to compute, and you can check its performance in collision, dispersion and randomness [here](https://github.com/Cyan4973/xxHash/tree/dev/tests). \n",
    "\n",
    "xxhash accepts four distinct seeds, but by default we set the seeds to `0`. It is possible to set the `seed` argument of the `process()` function to `'random'`, which will set all four seeds to a random integer between `0` and `1000000000`. Alternatively, it is possible to supply the four seeds manually with arguments `seed`, `seed_1`, `seed_2` and `seed_3`. \n",
    "\n",
    "If the xxhash with (random) seed(s) is not deemed sufficiently secure, it is possible to use your own hashing algorithm.\n",
    "\n",
    "Note that since we're now running python code and not native Polars code anymore, this will be _significantly_ slower. Nonetheless, it is possible.\n",
    "\n",
    "Just as an example - this is how one would use sha3_256:"
   ]
  },
  {
   "cell_type": "code",
   "execution_count": 14,
   "metadata": {
    "execution": {
     "iopub.execute_input": "2023-06-21T12:38:54.705779Z",
     "iopub.status.busy": "2023-06-21T12:38:54.705598Z",
     "iopub.status.idle": "2023-06-21T12:38:55.054114Z",
     "shell.execute_reply": "2023-06-21T12:38:55.053474Z"
    }
   },
   "outputs": [
    {
     "ename": "ComputeError",
     "evalue": "AttributeError: 'int' object has no attribute 'encode'",
     "output_type": "error",
     "traceback": [
      "\u001b[0;31m---------------------------------------------------------------------------\u001b[0m",
      "\u001b[0;31mComputeError\u001b[0m                              Traceback (most recent call last)",
      "Cell \u001b[0;32mIn[14], line 3\u001b[0m\n\u001b[1;32m      1\u001b[0m \u001b[38;5;28;01mfrom\u001b[39;00m \u001b[38;5;21;01mhashlib\u001b[39;00m \u001b[38;5;28;01mimport\u001b[39;00m sha3_256\n\u001b[0;32m----> 3\u001b[0m \u001b[43manon\u001b[49m\u001b[38;5;241;43m.\u001b[39;49m\u001b[43mprocess\u001b[49m\u001b[43m(\u001b[49m\u001b[43malgorithm\u001b[49m\u001b[38;5;241;43m=\u001b[39;49m\u001b[38;5;28;43;01mlambda\u001b[39;49;00m\u001b[43m \u001b[49m\u001b[43mx\u001b[49m\u001b[43m:\u001b[49m\u001b[43m \u001b[49m\u001b[43msha3_256\u001b[49m\u001b[43m(\u001b[49m\u001b[43mx\u001b[49m\u001b[38;5;241;43m.\u001b[39;49m\u001b[43mencode\u001b[49m\u001b[43m(\u001b[49m\u001b[43m)\u001b[49m\u001b[43m)\u001b[49m\u001b[38;5;241;43m.\u001b[39;49m\u001b[43mhexdigest\u001b[49m\u001b[43m(\u001b[49m\u001b[43m)\u001b[49m\u001b[43m)\u001b[49m\n",
      "File \u001b[0;32m~/work/pega-datascientist-tools/pega-datascientist-tools/python/docs/source/articles/../../../pdstools/utils/hds_utils.py:516\u001b[0m, in \u001b[0;36mDataAnonymization.process\u001b[0;34m(self, strategy, **kwargs)\u001b[0m\n\u001b[1;32m    514\u001b[0m df \u001b[38;5;241m=\u001b[39m df\u001b[38;5;241m.\u001b[39mselect(\u001b[38;5;28mself\u001b[39m\u001b[38;5;241m.\u001b[39mcolumn_mapping\u001b[38;5;241m.\u001b[39mkeys())\u001b[38;5;241m.\u001b[39mrename(\u001b[38;5;28mself\u001b[39m\u001b[38;5;241m.\u001b[39mcolumn_mapping)\n\u001b[1;32m    515\u001b[0m \u001b[38;5;28;01mif\u001b[39;00m strategy \u001b[38;5;241m==\u001b[39m \u001b[38;5;124m\"\u001b[39m\u001b[38;5;124meager\u001b[39m\u001b[38;5;124m\"\u001b[39m:\n\u001b[0;32m--> 516\u001b[0m     \u001b[38;5;28;01mreturn\u001b[39;00m \u001b[43mdf\u001b[49m\u001b[38;5;241;43m.\u001b[39;49m\u001b[43mcollect\u001b[49m\u001b[43m(\u001b[49m\u001b[43m)\u001b[49m\n\u001b[1;32m    517\u001b[0m \u001b[38;5;28;01mreturn\u001b[39;00m df\n",
      "File \u001b[0;32m/opt/hostedtoolcache/Python/3.11.4/x64/lib/python3.11/site-packages/polars/lazyframe/frame.py:1504\u001b[0m, in \u001b[0;36mLazyFrame.collect\u001b[0;34m(self, type_coercion, predicate_pushdown, projection_pushdown, simplify_expression, no_optimization, slice_pushdown, common_subplan_elimination, streaming)\u001b[0m\n\u001b[1;32m   1493\u001b[0m     common_subplan_elimination \u001b[38;5;241m=\u001b[39m \u001b[38;5;28;01mFalse\u001b[39;00m\n\u001b[1;32m   1495\u001b[0m ldf \u001b[38;5;241m=\u001b[39m \u001b[38;5;28mself\u001b[39m\u001b[38;5;241m.\u001b[39m_ldf\u001b[38;5;241m.\u001b[39moptimization_toggle(\n\u001b[1;32m   1496\u001b[0m     type_coercion,\n\u001b[1;32m   1497\u001b[0m     predicate_pushdown,\n\u001b[0;32m   (...)\u001b[0m\n\u001b[1;32m   1502\u001b[0m     streaming,\n\u001b[1;32m   1503\u001b[0m )\n\u001b[0;32m-> 1504\u001b[0m \u001b[38;5;28;01mreturn\u001b[39;00m wrap_df(ldf\u001b[38;5;241m.\u001b[39mcollect())\n",
      "\u001b[0;31mComputeError\u001b[0m: AttributeError: 'int' object has no attribute 'encode'"
     ]
    }
   ],
   "source": [
    "from hashlib import sha3_256\n",
    "\n",
    "anon.process(algorithm=lambda x: sha3_256(x.encode()).hexdigest())"
   ]
  }
 ],
 "metadata": {
  "kernelspec": {
   "display_name": "Python 3",
   "language": "python",
   "name": "python3"
  },
  "language_info": {
   "codemirror_mode": {
    "name": "ipython",
    "version": 3
   },
   "file_extension": ".py",
   "mimetype": "text/x-python",
   "name": "python",
   "nbconvert_exporter": "python",
   "pygments_lexer": "ipython3",
   "version": "3.11.4"
  },
  "vscode": {
   "interpreter": {
    "hash": "aee8b7b246df8f9039afb4144a1f6fd8d2ca17a180786b69acc140d282b71a49"
   }
  }
 },
 "nbformat": 4,
 "nbformat_minor": 2
}
