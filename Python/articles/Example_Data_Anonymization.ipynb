{
 "cells": [
  {
   "attachments": {},
   "cell_type": "markdown",
   "metadata": {},
   "source": [
    "# Example data anonymization\n",
    "\n",
    "In Pega CDH 8.5 and up, it's now possible to record the historical data as seen by the Adaptive Models. See [this academy challenge](https://academy.pega.com/challenge/exporting-historical-data/v4) for reference. This historical data can be further used to experiment with offline models, but also to fine-tune the OOTB Gradient Boosting model. However, sharing this information with Pega can be sensitive as it contains raw predictor data. \n",
    "\n",
    "To this end, we provide a simple and transparent script to fully anonimize this dataset.\n",
    "\n",
    "The DataAnonymization script is now part of pdstools, and you can import it directly as such."
   ]
  },
  {
   "cell_type": "code",
   "execution_count": 1,
   "metadata": {
    "execution": {
     "iopub.execute_input": "2023-09-27T08:30:24.414792Z",
     "iopub.status.busy": "2023-09-27T08:30:24.414382Z",
     "iopub.status.idle": "2023-09-27T08:30:24.496477Z",
     "shell.execute_reply": "2023-09-27T08:30:24.495848Z"
    },
    "nbsphinx": "hidden"
   },
   "outputs": [],
   "source": [
    "# These lines are only for rendering in the docs, and are hidden through Jupyter tags\n",
    "# Do not run if you're running the notebook seperately\n",
    "\n",
    "import os  \n",
    "import sys\n",
    "import plotly.io as pio\n",
    "pio.renderers.default = \"notebook_connected\"\n",
    "\n",
    "sys.path.append(\"../../../\")\n",
    "sys.path.append('../../python')"
   ]
  },
  {
   "cell_type": "code",
   "execution_count": 2,
   "metadata": {
    "execution": {
     "iopub.execute_input": "2023-09-27T08:30:24.499493Z",
     "iopub.status.busy": "2023-09-27T08:30:24.499285Z",
     "iopub.status.idle": "2023-09-27T08:30:25.682820Z",
     "shell.execute_reply": "2023-09-27T08:30:25.682180Z"
    }
   },
   "outputs": [],
   "source": [
    "from pdstools import ADMDatamart\n",
    "from pdstools import Config, DataAnonymization\n",
    "import polars as pl"
   ]
  },
  {
   "attachments": {},
   "cell_type": "markdown",
   "metadata": {},
   "source": [
    "## Input data\n",
    "\n",
    "To demonstrate this process, we're going to anonymise this toy example dataframe:"
   ]
  },
  {
   "cell_type": "code",
   "execution_count": 3,
   "metadata": {
    "execution": {
     "iopub.execute_input": "2023-09-27T08:30:25.686735Z",
     "iopub.status.busy": "2023-09-27T08:30:25.685485Z",
     "iopub.status.idle": "2023-09-27T08:30:25.696342Z",
     "shell.execute_reply": "2023-09-27T08:30:25.695877Z"
    }
   },
   "outputs": [
    {
     "data": {
      "text/html": [
       "<div><style>\n",
       ".dataframe > thead > tr > th,\n",
       ".dataframe > tbody > tr > td {\n",
       "  text-align: right;\n",
       "}\n",
       "</style>\n",
       "<small>shape: (7, 6)</small><table border=\"1\" class=\"dataframe\"><thead><tr><th>Context_Name</th><th>Customer_MaritalStatus</th><th>Customer_CLV</th><th>Customer_City</th><th>IH_Web_Inbound_Accepted_pxLastGroupID</th><th>Decision_Outcome</th></tr><tr><td>str</td><td>str</td><td>i64</td><td>str</td><td>str</td><td>str</td></tr></thead><tbody><tr><td>&quot;FirstMortgage3…</td><td>&quot;Married&quot;</td><td>1460</td><td>&quot;Port Raoul&quot;</td><td>&quot;Account&quot;</td><td>&quot;Rejected&quot;</td></tr><tr><td>&quot;FirstMortgage3…</td><td>&quot;Unknown&quot;</td><td>669</td><td>&quot;Laurianneshire…</td><td>&quot;AutoLoans&quot;</td><td>&quot;Accepted&quot;</td></tr><tr><td>&quot;MoneyMarketSav…</td><td>&quot;No Resp+&quot;</td><td>1174</td><td>&quot;Jacobshaven&quot;</td><td>&quot;Account&quot;</td><td>&quot;Rejected&quot;</td></tr><tr><td>&quot;BasicChecking&quot;</td><td>&quot;Unknown&quot;</td><td>1476</td><td>&quot;Lindton&quot;</td><td>&quot;Account&quot;</td><td>&quot;Rejected&quot;</td></tr><tr><td>&quot;BasicChecking&quot;</td><td>&quot;Married&quot;</td><td>1211</td><td>&quot;South Jimmiesh…</td><td>&quot;DepositAccount…</td><td>&quot;Accepted&quot;</td></tr><tr><td>&quot;UPlusFinPerson…</td><td>&quot;No Resp+&quot;</td><td>533</td><td>&quot;Bergeville&quot;</td><td>null</td><td>&quot;Rejected&quot;</td></tr><tr><td>&quot;BasicChecking&quot;</td><td>&quot;No Resp+&quot;</td><td>555</td><td>&quot;Willyville&quot;</td><td>&quot;DepositAccount…</td><td>&quot;Rejected&quot;</td></tr></tbody></table></div>"
      ],
      "text/plain": [
       "shape: (7, 6)\n",
       "┌────────────────┬────────────────┬──────────────┬────────────────┬────────────────┬───────────────┐\n",
       "│ Context_Name   ┆ Customer_Marit ┆ Customer_CLV ┆ Customer_City  ┆ IH_Web_Inbound ┆ Decision_Outc │\n",
       "│ ---            ┆ alStatus       ┆ ---          ┆ ---            ┆ _Accepted_pxLa ┆ ome           │\n",
       "│ str            ┆ ---            ┆ i64          ┆ str            ┆ stGr…          ┆ ---           │\n",
       "│                ┆ str            ┆              ┆                ┆ ---            ┆ str           │\n",
       "│                ┆                ┆              ┆                ┆ str            ┆               │\n",
       "╞════════════════╪════════════════╪══════════════╪════════════════╪════════════════╪═══════════════╡\n",
       "│ FirstMortgage3 ┆ Married        ┆ 1460         ┆ Port Raoul     ┆ Account        ┆ Rejected      │\n",
       "│ 0yr            ┆                ┆              ┆                ┆                ┆               │\n",
       "│ FirstMortgage3 ┆ Unknown        ┆ 669          ┆ Laurianneshire ┆ AutoLoans      ┆ Accepted      │\n",
       "│ 0yr            ┆                ┆              ┆                ┆                ┆               │\n",
       "│ MoneyMarketSav ┆ No Resp+       ┆ 1174         ┆ Jacobshaven    ┆ Account        ┆ Rejected      │\n",
       "│ ingsAccount    ┆                ┆              ┆                ┆                ┆               │\n",
       "│ BasicChecking  ┆ Unknown        ┆ 1476         ┆ Lindton        ┆ Account        ┆ Rejected      │\n",
       "│ BasicChecking  ┆ Married        ┆ 1211         ┆ South          ┆ DepositAccount ┆ Accepted      │\n",
       "│                ┆                ┆              ┆ Jimmieshire    ┆ s              ┆               │\n",
       "│ UPlusFinPerson ┆ No Resp+       ┆ 533          ┆ Bergeville     ┆ null           ┆ Rejected      │\n",
       "│ al             ┆                ┆              ┆                ┆                ┆               │\n",
       "│ BasicChecking  ┆ No Resp+       ┆ 555          ┆ Willyville     ┆ DepositAccount ┆ Rejected      │\n",
       "│                ┆                ┆              ┆                ┆ s              ┆               │\n",
       "└────────────────┴────────────────┴──────────────┴────────────────┴────────────────┴───────────────┘"
      ]
     },
     "execution_count": 3,
     "metadata": {},
     "output_type": "execute_result"
    }
   ],
   "source": [
    "pl.read_ndjson('../../../../data/SampleHDS.json')"
   ]
  },
  {
   "attachments": {},
   "cell_type": "markdown",
   "metadata": {},
   "source": [
    "As you can see, this dataset consists of regular predictors, IH predictors, context keys and the outcome column. Additionally, some columns are numeric, others are strings. Let's first initialize the DataAnonymization class."
   ]
  },
  {
   "cell_type": "code",
   "execution_count": 4,
   "metadata": {
    "execution": {
     "iopub.execute_input": "2023-09-27T08:30:25.698630Z",
     "iopub.status.busy": "2023-09-27T08:30:25.698262Z",
     "iopub.status.idle": "2023-09-27T08:30:25.708638Z",
     "shell.execute_reply": "2023-09-27T08:30:25.708182Z"
    }
   },
   "outputs": [],
   "source": [
    "anon = DataAnonymization(hds_folder='../../../../data/')"
   ]
  },
  {
   "attachments": {},
   "cell_type": "markdown",
   "metadata": {},
   "source": [
    "By default, the class applies a set of anonymisation techniques:\n",
    "- Column names are remapped to a non-descriptive name\n",
    "- Categorical values are hashed with a random seed\n",
    "- Numerical values are normalized between 0 and 1\n",
    "- Outcomes are mapped to a binary outcome.\n",
    "\n",
    "To apply these techniques, simply call `.process()`:"
   ]
  },
  {
   "cell_type": "code",
   "execution_count": 5,
   "metadata": {
    "execution": {
     "iopub.execute_input": "2023-09-27T08:30:25.710998Z",
     "iopub.status.busy": "2023-09-27T08:30:25.710624Z",
     "iopub.status.idle": "2023-09-27T08:30:25.716792Z",
     "shell.execute_reply": "2023-09-27T08:30:25.716346Z"
    }
   },
   "outputs": [
    {
     "data": {
      "text/html": [
       "<div><style>\n",
       ".dataframe > thead > tr > th,\n",
       ".dataframe > tbody > tr > td {\n",
       "  text-align: right;\n",
       "}\n",
       "</style>\n",
       "<small>shape: (7, 7)</small><table border=\"1\" class=\"dataframe\"><thead><tr><th>PREDICTOR_0</th><th>PREDICTOR_1</th><th>PREDICTOR_2</th><th>filename</th><th>Context_Name</th><th>IH_PREDICTOR_0</th><th>Decision_Outcome</th></tr><tr><td>str</td><td>str</td><td>f64</td><td>str</td><td>str</td><td>str</td><td>bool</td></tr></thead><tbody><tr><td>&quot;11223948959695…</td><td>&quot;17645643167003…</td><td>1.2927e19</td><td>&quot;../../../../da…</td><td>&quot;58865352104714…</td><td>&quot;16157557372327…</td><td>false</td></tr><tr><td>&quot;41582988830006…</td><td>&quot;61702525782928…</td><td>1.4856e19</td><td>&quot;../../../../da…</td><td>&quot;58865352104714…</td><td>&quot;16561452295005…</td><td>true</td></tr><tr><td>&quot;67884499600445…</td><td>&quot;17401230934396…</td><td>5.6458e17</td><td>&quot;../../../../da…</td><td>&quot;10220997260835…</td><td>&quot;16157557372327…</td><td>false</td></tr><tr><td>&quot;14576363591829…</td><td>&quot;61702525782928…</td><td>4.0723e18</td><td>&quot;../../../../da…</td><td>&quot;16032088430577…</td><td>&quot;16157557372327…</td><td>false</td></tr><tr><td>&quot;64058152419668…</td><td>&quot;17645643167003…</td><td>1.4677e19</td><td>&quot;../../../../da…</td><td>&quot;16032088430577…</td><td>&quot;13823534609580…</td><td>true</td></tr><tr><td>&quot;16476413666493…</td><td>&quot;17401230934396…</td><td>1.6330e19</td><td>&quot;../../../../da…</td><td>&quot;40463759670147…</td><td>null</td><td>false</td></tr><tr><td>&quot;69769001333469…</td><td>&quot;17401230934396…</td><td>8.7675e18</td><td>&quot;../../../../da…</td><td>&quot;16032088430577…</td><td>&quot;13823534609580…</td><td>false</td></tr></tbody></table></div>"
      ],
      "text/plain": [
       "shape: (7, 7)\n",
       "┌──────────────┬─────────────┬─────────────┬─────────────┬─────────────┬─────────────┬─────────────┐\n",
       "│ PREDICTOR_0  ┆ PREDICTOR_1 ┆ PREDICTOR_2 ┆ filename    ┆ Context_Nam ┆ IH_PREDICTO ┆ Decision_Ou │\n",
       "│ ---          ┆ ---         ┆ ---         ┆ ---         ┆ e           ┆ R_0         ┆ tcome       │\n",
       "│ str          ┆ str         ┆ f64         ┆ str         ┆ ---         ┆ ---         ┆ ---         │\n",
       "│              ┆             ┆             ┆             ┆ str         ┆ str         ┆ bool        │\n",
       "╞══════════════╪═════════════╪═════════════╪═════════════╪═════════════╪═════════════╪═════════════╡\n",
       "│ 112239489596 ┆ 17645643167 ┆ 1.2927e19   ┆ ../../../.. ┆ 58865352104 ┆ 16157557372 ┆ false       │\n",
       "│ 95224510     ┆ 003003334   ┆             ┆ /data/Sampl ┆ 71448575    ┆ 327300214   ┆             │\n",
       "│              ┆             ┆             ┆ eHDS.json   ┆             ┆             ┆             │\n",
       "│ 415829888300 ┆ 61702525782 ┆ 1.4856e19   ┆ ../../../.. ┆ 58865352104 ┆ 16561452295 ┆ true        │\n",
       "│ 0690936      ┆ 9286064     ┆             ┆ /data/Sampl ┆ 71448575    ┆ 00552622    ┆             │\n",
       "│              ┆             ┆             ┆ eHDS.json   ┆             ┆             ┆             │\n",
       "│ 678844996004 ┆ 17401230934 ┆ 5.6458e17   ┆ ../../../.. ┆ 10220997260 ┆ 16157557372 ┆ false       │\n",
       "│ 4514038      ┆ 396802652   ┆             ┆ /data/Sampl ┆ 83513108    ┆ 327300214   ┆             │\n",
       "│              ┆             ┆             ┆ eHDS.json   ┆             ┆             ┆             │\n",
       "│ 145763635918 ┆ 61702525782 ┆ 4.0723e18   ┆ ../../../.. ┆ 16032088430 ┆ 16157557372 ┆ false       │\n",
       "│ 29454612     ┆ 9286064     ┆             ┆ /data/Sampl ┆ 577520726   ┆ 327300214   ┆             │\n",
       "│              ┆             ┆             ┆ eHDS.json   ┆             ┆             ┆             │\n",
       "│ 640581524196 ┆ 17645643167 ┆ 1.4677e19   ┆ ../../../.. ┆ 16032088430 ┆ 13823534609 ┆ true        │\n",
       "│ 6818662      ┆ 003003334   ┆             ┆ /data/Sampl ┆ 577520726   ┆ 580986046   ┆             │\n",
       "│              ┆             ┆             ┆ eHDS.json   ┆             ┆             ┆             │\n",
       "│ 164764136664 ┆ 17401230934 ┆ 1.6330e19   ┆ ../../../.. ┆ 40463759670 ┆ null        ┆ false       │\n",
       "│ 93626288     ┆ 396802652   ┆             ┆ /data/Sampl ┆ 14765799    ┆             ┆             │\n",
       "│              ┆             ┆             ┆ eHDS.json   ┆             ┆             ┆             │\n",
       "│ 697690013334 ┆ 17401230934 ┆ 8.7675e18   ┆ ../../../.. ┆ 16032088430 ┆ 13823534609 ┆ false       │\n",
       "│ 6931547      ┆ 396802652   ┆             ┆ /data/Sampl ┆ 577520726   ┆ 580986046   ┆             │\n",
       "│              ┆             ┆             ┆ eHDS.json   ┆             ┆             ┆             │\n",
       "└──────────────┴─────────────┴─────────────┴─────────────┴─────────────┴─────────────┴─────────────┘"
      ]
     },
     "execution_count": 5,
     "metadata": {},
     "output_type": "execute_result"
    }
   ],
   "source": [
    "anon.process()"
   ]
  },
  {
   "attachments": {},
   "cell_type": "markdown",
   "metadata": {},
   "source": [
    "To trace back the columns to their original names, the class also contains a mapping, which does not have to be provided."
   ]
  },
  {
   "cell_type": "code",
   "execution_count": 6,
   "metadata": {
    "execution": {
     "iopub.execute_input": "2023-09-27T08:30:25.718903Z",
     "iopub.status.busy": "2023-09-27T08:30:25.718559Z",
     "iopub.status.idle": "2023-09-27T08:30:25.722307Z",
     "shell.execute_reply": "2023-09-27T08:30:25.721872Z"
    }
   },
   "outputs": [
    {
     "data": {
      "text/plain": [
       "{'Customer_City': 'PREDICTOR_0',\n",
       " 'Customer_MaritalStatus': 'PREDICTOR_1',\n",
       " 'Customer_CLV': 'PREDICTOR_2',\n",
       " 'filename': 'filename',\n",
       " 'Context_Name': 'Context_Name',\n",
       " 'IH_Web_Inbound_Accepted_pxLastGroupID': 'IH_PREDICTOR_0',\n",
       " 'Decision_Outcome': 'Decision_Outcome'}"
      ]
     },
     "execution_count": 6,
     "metadata": {},
     "output_type": "execute_result"
    }
   ],
   "source": [
    "anon.column_mapping"
   ]
  },
  {
   "attachments": {},
   "cell_type": "markdown",
   "metadata": {},
   "source": [
    "## Configs\n",
    "\n",
    "Each capability can optionally be turned off - see below for the full list of config options, and refer to the API reference for the full description."
   ]
  },
  {
   "cell_type": "code",
   "execution_count": 7,
   "metadata": {
    "execution": {
     "iopub.execute_input": "2023-09-27T08:30:25.724634Z",
     "iopub.status.busy": "2023-09-27T08:30:25.724099Z",
     "iopub.status.idle": "2023-09-27T08:30:25.728424Z",
     "shell.execute_reply": "2023-09-27T08:30:25.727986Z"
    }
   },
   "outputs": [
    {
     "data": {
      "text/plain": [
       "{'config_file': None,\n",
       " 'hds_folder': '.',\n",
       " 'use_datamart': False,\n",
       " 'datamart_folder': 'datamart',\n",
       " 'output_format': 'ndjson',\n",
       " 'output_folder': 'output',\n",
       " 'mapping_file': 'mapping.map',\n",
       " 'mask_predictor_names': True,\n",
       " 'mask_context_key_names': False,\n",
       " 'mask_ih_names': True,\n",
       " 'mask_outcome_name': False,\n",
       " 'mask_predictor_values': True,\n",
       " 'mask_context_key_values': True,\n",
       " 'mask_ih_values': True,\n",
       " 'mask_outcome_values': True,\n",
       " 'context_key_label': 'Context_*',\n",
       " 'ih_label': 'IH_*',\n",
       " 'outcome_column': 'Decision_Outcome',\n",
       " 'positive_outcomes': ['Accepted', 'Clicked'],\n",
       " 'negative_outcomes': ['Rejected', 'Impression'],\n",
       " 'special_predictors': ['Decision_DecisionTime',\n",
       "  'Decision_OutcomeTime',\n",
       "  'Decision_Rank'],\n",
       " 'sample_percentage_schema_inferencing': 0.01}"
      ]
     },
     "execution_count": 7,
     "metadata": {},
     "output_type": "execute_result"
    }
   ],
   "source": [
    "dict(zip(Config.__init__.__code__.co_varnames[1:], Config.__init__.__defaults__))"
   ]
  },
  {
   "attachments": {},
   "cell_type": "markdown",
   "metadata": {},
   "source": [
    "It's easy to change these parameters by just passing the keyword arguments. In the following example, we\n",
    "- Keep the IH predictor names\n",
    "- Keep the outcome values\n",
    "- Keep the context key values\n",
    "- Keep the context key predictor names"
   ]
  },
  {
   "cell_type": "code",
   "execution_count": 8,
   "metadata": {
    "execution": {
     "iopub.execute_input": "2023-09-27T08:30:25.730518Z",
     "iopub.status.busy": "2023-09-27T08:30:25.730163Z",
     "iopub.status.idle": "2023-09-27T08:30:25.742104Z",
     "shell.execute_reply": "2023-09-27T08:30:25.741648Z"
    }
   },
   "outputs": [
    {
     "data": {
      "text/html": [
       "<div><style>\n",
       ".dataframe > thead > tr > th,\n",
       ".dataframe > tbody > tr > td {\n",
       "  text-align: right;\n",
       "}\n",
       "</style>\n",
       "<small>shape: (7, 7)</small><table border=\"1\" class=\"dataframe\"><thead><tr><th>PREDICTOR_0</th><th>PREDICTOR_1</th><th>PREDICTOR_2</th><th>filename</th><th>Context_Name</th><th>IH_Web_Inbound_Accepted_pxLastGroupID</th><th>Decision_Outcome</th></tr><tr><td>str</td><td>str</td><td>f64</td><td>str</td><td>str</td><td>str</td><td>str</td></tr></thead><tbody><tr><td>&quot;10730081711002…</td><td>&quot;14439969459869…</td><td>1.2927e19</td><td>&quot;../../../../da…</td><td>&quot;FirstMortgage3…</td><td>&quot;64848284903645…</td><td>&quot;Rejected&quot;</td></tr><tr><td>&quot;60885141891533…</td><td>&quot;74190240061959…</td><td>1.4856e19</td><td>&quot;../../../../da…</td><td>&quot;FirstMortgage3…</td><td>&quot;18256410263021…</td><td>&quot;Accepted&quot;</td></tr><tr><td>&quot;64509270876306…</td><td>&quot;17426890358125…</td><td>5.6458e17</td><td>&quot;../../../../da…</td><td>&quot;MoneyMarketSav…</td><td>&quot;64848284903645…</td><td>&quot;Rejected&quot;</td></tr><tr><td>&quot;37815927258849…</td><td>&quot;74190240061959…</td><td>4.0723e18</td><td>&quot;../../../../da…</td><td>&quot;BasicChecking&quot;</td><td>&quot;64848284903645…</td><td>&quot;Rejected&quot;</td></tr><tr><td>&quot;16341596450321…</td><td>&quot;14439969459869…</td><td>1.4677e19</td><td>&quot;../../../../da…</td><td>&quot;BasicChecking&quot;</td><td>&quot;10732537378065…</td><td>&quot;Accepted&quot;</td></tr><tr><td>&quot;62375961934331…</td><td>&quot;17426890358125…</td><td>1.6330e19</td><td>&quot;../../../../da…</td><td>&quot;UPlusFinPerson…</td><td>null</td><td>&quot;Rejected&quot;</td></tr><tr><td>&quot;22482046078109…</td><td>&quot;17426890358125…</td><td>8.7675e18</td><td>&quot;../../../../da…</td><td>&quot;BasicChecking&quot;</td><td>&quot;10732537378065…</td><td>&quot;Rejected&quot;</td></tr></tbody></table></div>"
      ],
      "text/plain": [
       "shape: (7, 7)\n",
       "┌──────────────┬─────────────┬─────────────┬─────────────┬─────────────┬─────────────┬─────────────┐\n",
       "│ PREDICTOR_0  ┆ PREDICTOR_1 ┆ PREDICTOR_2 ┆ filename    ┆ Context_Nam ┆ IH_Web_Inbo ┆ Decision_Ou │\n",
       "│ ---          ┆ ---         ┆ ---         ┆ ---         ┆ e           ┆ und_Accepte ┆ tcome       │\n",
       "│ str          ┆ str         ┆ f64         ┆ str         ┆ ---         ┆ d_pxLastGr… ┆ ---         │\n",
       "│              ┆             ┆             ┆             ┆ str         ┆ ---         ┆ str         │\n",
       "│              ┆             ┆             ┆             ┆             ┆ str         ┆             │\n",
       "╞══════════════╪═════════════╪═════════════╪═════════════╪═════════════╪═════════════╪═════════════╡\n",
       "│ 107300817110 ┆ 14439969459 ┆ 1.2927e19   ┆ ../../../.. ┆ FirstMortga ┆ 64848284903 ┆ Rejected    │\n",
       "│ 02889592     ┆ 869994073   ┆             ┆ /data/Sampl ┆ ge30yr      ┆ 64561970    ┆             │\n",
       "│              ┆             ┆             ┆ eHDS.json   ┆             ┆             ┆             │\n",
       "│ 608851418915 ┆ 74190240061 ┆ 1.4856e19   ┆ ../../../.. ┆ FirstMortga ┆ 18256410263 ┆ Accepted    │\n",
       "│ 332486       ┆ 95918275    ┆             ┆ /data/Sampl ┆ ge30yr      ┆ 021137475   ┆             │\n",
       "│              ┆             ┆             ┆ eHDS.json   ┆             ┆             ┆             │\n",
       "│ 645092708763 ┆ 17426890358 ┆ 5.6458e17   ┆ ../../../.. ┆ MoneyMarket ┆ 64848284903 ┆ Rejected    │\n",
       "│ 0675700      ┆ 125080509   ┆             ┆ /data/Sampl ┆ SavingsAcco ┆ 64561970    ┆             │\n",
       "│              ┆             ┆             ┆ eHDS.json   ┆ unt         ┆             ┆             │\n",
       "│ 378159272588 ┆ 74190240061 ┆ 4.0723e18   ┆ ../../../.. ┆ BasicChecki ┆ 64848284903 ┆ Rejected    │\n",
       "│ 4948776      ┆ 95918275    ┆             ┆ /data/Sampl ┆ ng          ┆ 64561970    ┆             │\n",
       "│              ┆             ┆             ┆ eHDS.json   ┆             ┆             ┆             │\n",
       "│ 163415964503 ┆ 14439969459 ┆ 1.4677e19   ┆ ../../../.. ┆ BasicChecki ┆ 10732537378 ┆ Accepted    │\n",
       "│ 21373219     ┆ 869994073   ┆             ┆ /data/Sampl ┆ ng          ┆ 065573985   ┆             │\n",
       "│              ┆             ┆             ┆ eHDS.json   ┆             ┆             ┆             │\n",
       "│ 623759619343 ┆ 17426890358 ┆ 1.6330e19   ┆ ../../../.. ┆ UPlusFinPer ┆ null        ┆ Rejected    │\n",
       "│ 3106457      ┆ 125080509   ┆             ┆ /data/Sampl ┆ sonal       ┆             ┆             │\n",
       "│              ┆             ┆             ┆ eHDS.json   ┆             ┆             ┆             │\n",
       "│ 224820460781 ┆ 17426890358 ┆ 8.7675e18   ┆ ../../../.. ┆ BasicChecki ┆ 10732537378 ┆ Rejected    │\n",
       "│ 0981737      ┆ 125080509   ┆             ┆ /data/Sampl ┆ ng          ┆ 065573985   ┆             │\n",
       "│              ┆             ┆             ┆ eHDS.json   ┆             ┆             ┆             │\n",
       "└──────────────┴─────────────┴─────────────┴─────────────┴─────────────┴─────────────┴─────────────┘"
      ]
     },
     "execution_count": 8,
     "metadata": {},
     "output_type": "execute_result"
    }
   ],
   "source": [
    "anon = DataAnonymization(\n",
    "    hds_folder=\"../../../../data/\",\n",
    "    mask_ih_names=False,\n",
    "    mask_outcome_values=False,\n",
    "    mask_context_key_values=False,\n",
    "    mask_context_key_names=False,\n",
    ")\n",
    "anon.process()\n"
   ]
  },
  {
   "attachments": {},
   "cell_type": "markdown",
   "metadata": {},
   "source": [
    "The configs can also be written and read as such:"
   ]
  },
  {
   "cell_type": "code",
   "execution_count": 9,
   "metadata": {
    "execution": {
     "iopub.execute_input": "2023-09-27T08:30:25.744310Z",
     "iopub.status.busy": "2023-09-27T08:30:25.743958Z",
     "iopub.status.idle": "2023-09-27T08:30:25.746817Z",
     "shell.execute_reply": "2023-09-27T08:30:25.746377Z"
    }
   },
   "outputs": [],
   "source": [
    "anon.config.save_to_config_file('config.json')"
   ]
  },
  {
   "cell_type": "code",
   "execution_count": 10,
   "metadata": {
    "execution": {
     "iopub.execute_input": "2023-09-27T08:30:25.748979Z",
     "iopub.status.busy": "2023-09-27T08:30:25.748641Z",
     "iopub.status.idle": "2023-09-27T08:30:25.757823Z",
     "shell.execute_reply": "2023-09-27T08:30:25.757382Z"
    }
   },
   "outputs": [
    {
     "data": {
      "text/html": [
       "<div><style>\n",
       ".dataframe > thead > tr > th,\n",
       ".dataframe > tbody > tr > td {\n",
       "  text-align: right;\n",
       "}\n",
       "</style>\n",
       "<small>shape: (7, 7)</small><table border=\"1\" class=\"dataframe\"><thead><tr><th>PREDICTOR_0</th><th>PREDICTOR_1</th><th>PREDICTOR_2</th><th>filename</th><th>Context_Name</th><th>IH_Web_Inbound_Accepted_pxLastGroupID</th><th>Decision_Outcome</th></tr><tr><td>str</td><td>str</td><td>f64</td><td>str</td><td>str</td><td>str</td><td>str</td></tr></thead><tbody><tr><td>&quot;81429170010528…</td><td>&quot;55021687312135…</td><td>1.2927e19</td><td>&quot;../../../../da…</td><td>&quot;FirstMortgage3…</td><td>&quot;17438279797796…</td><td>&quot;Rejected&quot;</td></tr><tr><td>&quot;63860309419116…</td><td>&quot;17538054774074…</td><td>1.4856e19</td><td>&quot;../../../../da…</td><td>&quot;FirstMortgage3…</td><td>&quot;13430660972751…</td><td>&quot;Accepted&quot;</td></tr><tr><td>&quot;16612301817165…</td><td>&quot;47501446901677…</td><td>5.6458e17</td><td>&quot;../../../../da…</td><td>&quot;MoneyMarketSav…</td><td>&quot;17438279797796…</td><td>&quot;Rejected&quot;</td></tr><tr><td>&quot;83030470879462…</td><td>&quot;17538054774074…</td><td>4.0723e18</td><td>&quot;../../../../da…</td><td>&quot;BasicChecking&quot;</td><td>&quot;17438279797796…</td><td>&quot;Rejected&quot;</td></tr><tr><td>&quot;15376182315599…</td><td>&quot;55021687312135…</td><td>1.4677e19</td><td>&quot;../../../../da…</td><td>&quot;BasicChecking&quot;</td><td>&quot;14997005410232…</td><td>&quot;Accepted&quot;</td></tr><tr><td>&quot;31957005986162…</td><td>&quot;47501446901677…</td><td>1.6330e19</td><td>&quot;../../../../da…</td><td>&quot;UPlusFinPerson…</td><td>null</td><td>&quot;Rejected&quot;</td></tr><tr><td>&quot;64616923252803…</td><td>&quot;47501446901677…</td><td>8.7675e18</td><td>&quot;../../../../da…</td><td>&quot;BasicChecking&quot;</td><td>&quot;14997005410232…</td><td>&quot;Rejected&quot;</td></tr></tbody></table></div>"
      ],
      "text/plain": [
       "shape: (7, 7)\n",
       "┌──────────────┬─────────────┬─────────────┬─────────────┬─────────────┬─────────────┬─────────────┐\n",
       "│ PREDICTOR_0  ┆ PREDICTOR_1 ┆ PREDICTOR_2 ┆ filename    ┆ Context_Nam ┆ IH_Web_Inbo ┆ Decision_Ou │\n",
       "│ ---          ┆ ---         ┆ ---         ┆ ---         ┆ e           ┆ und_Accepte ┆ tcome       │\n",
       "│ str          ┆ str         ┆ f64         ┆ str         ┆ ---         ┆ d_pxLastGr… ┆ ---         │\n",
       "│              ┆             ┆             ┆             ┆ str         ┆ ---         ┆ str         │\n",
       "│              ┆             ┆             ┆             ┆             ┆ str         ┆             │\n",
       "╞══════════════╪═════════════╪═════════════╪═════════════╪═════════════╪═════════════╪═════════════╡\n",
       "│ 814291700105 ┆ 55021687312 ┆ 1.2927e19   ┆ ../../../.. ┆ FirstMortga ┆ 17438279797 ┆ Rejected    │\n",
       "│ 2831797      ┆ 13566304    ┆             ┆ /data/Sampl ┆ ge30yr      ┆ 796759574   ┆             │\n",
       "│              ┆             ┆             ┆ eHDS.json   ┆             ┆             ┆             │\n",
       "│ 638603094191 ┆ 17538054774 ┆ 1.4856e19   ┆ ../../../.. ┆ FirstMortga ┆ 13430660972 ┆ Accepted    │\n",
       "│ 1695209      ┆ 074224633   ┆             ┆ /data/Sampl ┆ ge30yr      ┆ 751588899   ┆             │\n",
       "│              ┆             ┆             ┆ eHDS.json   ┆             ┆             ┆             │\n",
       "│ 166123018171 ┆ 47501446901 ┆ 5.6458e17   ┆ ../../../.. ┆ MoneyMarket ┆ 17438279797 ┆ Rejected    │\n",
       "│ 65098997     ┆ 67734746    ┆             ┆ /data/Sampl ┆ SavingsAcco ┆ 796759574   ┆             │\n",
       "│              ┆             ┆             ┆ eHDS.json   ┆ unt         ┆             ┆             │\n",
       "│ 830304708794 ┆ 17538054774 ┆ 4.0723e18   ┆ ../../../.. ┆ BasicChecki ┆ 17438279797 ┆ Rejected    │\n",
       "│ 6274205      ┆ 074224633   ┆             ┆ /data/Sampl ┆ ng          ┆ 796759574   ┆             │\n",
       "│              ┆             ┆             ┆ eHDS.json   ┆             ┆             ┆             │\n",
       "│ 153761823155 ┆ 55021687312 ┆ 1.4677e19   ┆ ../../../.. ┆ BasicChecki ┆ 14997005410 ┆ Accepted    │\n",
       "│ 99703229     ┆ 13566304    ┆             ┆ /data/Sampl ┆ ng          ┆ 232732      ┆             │\n",
       "│              ┆             ┆             ┆ eHDS.json   ┆             ┆             ┆             │\n",
       "│ 319570059861 ┆ 47501446901 ┆ 1.6330e19   ┆ ../../../.. ┆ UPlusFinPer ┆ null        ┆ Rejected    │\n",
       "│ 6291637      ┆ 67734746    ┆             ┆ /data/Sampl ┆ sonal       ┆             ┆             │\n",
       "│              ┆             ┆             ┆ eHDS.json   ┆             ┆             ┆             │\n",
       "│ 646169232528 ┆ 47501446901 ┆ 8.7675e18   ┆ ../../../.. ┆ BasicChecki ┆ 14997005410 ┆ Rejected    │\n",
       "│ 0338157      ┆ 67734746    ┆             ┆ /data/Sampl ┆ ng          ┆ 232732      ┆             │\n",
       "│              ┆             ┆             ┆ eHDS.json   ┆             ┆             ┆             │\n",
       "└──────────────┴─────────────┴─────────────┴─────────────┴─────────────┴─────────────┴─────────────┘"
      ]
     },
     "execution_count": 10,
     "metadata": {},
     "output_type": "execute_result"
    }
   ],
   "source": [
    "anon = DataAnonymization(config=Config(config_file='config.json'))\n",
    "anon.process()"
   ]
  },
  {
   "attachments": {},
   "cell_type": "markdown",
   "metadata": {},
   "source": [
    "## Exporting\n",
    "Two functions export:\n",
    "- `create_mapping_file()` writes the mapping file of the predictor names\n",
    "- `write_to_output()` writes the processed dataframe to disk\n",
    "\n",
    "Write to output accepts the following extensions: `[\"ndjson\", \"parquet\", \"arrow\", \"csv\"]`"
   ]
  },
  {
   "cell_type": "code",
   "execution_count": 11,
   "metadata": {
    "execution": {
     "iopub.execute_input": "2023-09-27T08:30:25.760002Z",
     "iopub.status.busy": "2023-09-27T08:30:25.759711Z",
     "iopub.status.idle": "2023-09-27T08:30:25.762936Z",
     "shell.execute_reply": "2023-09-27T08:30:25.762485Z"
    }
   },
   "outputs": [
    {
     "name": "stdout",
     "output_type": "stream",
     "text": [
      "Customer_City=PREDICTOR_0\n",
      "Customer_MaritalStatus=PREDICTOR_1\n",
      "Customer_CLV=PREDICTOR_2\n",
      "filename=filename\n",
      "Context_Name=Context_Name\n",
      "IH_Web_Inbound_Accepted_pxLastGroupID=IH_Web_Inbound_Accepted_pxLastGroupID\n",
      "Decision_Outcome=Decision_Outcome\n",
      "\n"
     ]
    }
   ],
   "source": [
    "anon.create_mapping_file()\n",
    "with open('mapping.map') as f:\n",
    "    print(f.read())"
   ]
  },
  {
   "cell_type": "code",
   "execution_count": 12,
   "metadata": {
    "execution": {
     "iopub.execute_input": "2023-09-27T08:30:25.765007Z",
     "iopub.status.busy": "2023-09-27T08:30:25.764715Z",
     "iopub.status.idle": "2023-09-27T08:30:25.768091Z",
     "shell.execute_reply": "2023-09-27T08:30:25.767649Z"
    }
   },
   "outputs": [],
   "source": [
    "anon.write_to_output(ext='arrow')"
   ]
  },
  {
   "cell_type": "code",
   "execution_count": 13,
   "metadata": {
    "execution": {
     "iopub.execute_input": "2023-09-27T08:30:25.770218Z",
     "iopub.status.busy": "2023-09-27T08:30:25.769927Z",
     "iopub.status.idle": "2023-09-27T08:30:25.774266Z",
     "shell.execute_reply": "2023-09-27T08:30:25.773836Z"
    }
   },
   "outputs": [
    {
     "data": {
      "text/html": [
       "<div><style>\n",
       ".dataframe > thead > tr > th,\n",
       ".dataframe > tbody > tr > td {\n",
       "  text-align: right;\n",
       "}\n",
       "</style>\n",
       "<small>shape: (7, 6)</small><table border=\"1\" class=\"dataframe\"><thead><tr><th>PREDICTOR_0</th><th>PREDICTOR_1</th><th>PREDICTOR_2</th><th>Context_Name</th><th>IH_Web_Inbound_Accepted_pxLastGroupID</th><th>Decision_Outcome</th></tr><tr><td>str</td><td>str</td><td>f64</td><td>str</td><td>str</td><td>str</td></tr></thead><tbody><tr><td>&quot;67009631579970…</td><td>&quot;32966211964868…</td><td>1.2927e19</td><td>&quot;FirstMortgage3…</td><td>&quot;11155849890858…</td><td>&quot;Rejected&quot;</td></tr><tr><td>&quot;10077571576639…</td><td>&quot;53413691127143…</td><td>1.4856e19</td><td>&quot;FirstMortgage3…</td><td>&quot;13671245199553…</td><td>&quot;Accepted&quot;</td></tr><tr><td>&quot;16229304227491…</td><td>&quot;16239150918016…</td><td>5.6458e17</td><td>&quot;MoneyMarketSav…</td><td>&quot;11155849890858…</td><td>&quot;Rejected&quot;</td></tr><tr><td>&quot;12131083617595…</td><td>&quot;53413691127143…</td><td>4.0723e18</td><td>&quot;BasicChecking&quot;</td><td>&quot;11155849890858…</td><td>&quot;Rejected&quot;</td></tr><tr><td>&quot;43188282610253…</td><td>&quot;32966211964868…</td><td>1.4677e19</td><td>&quot;BasicChecking&quot;</td><td>&quot;90436352696598…</td><td>&quot;Accepted&quot;</td></tr><tr><td>&quot;10354523313264…</td><td>&quot;16239150918016…</td><td>1.6330e19</td><td>&quot;UPlusFinPerson…</td><td>null</td><td>&quot;Rejected&quot;</td></tr><tr><td>&quot;13221698483425…</td><td>&quot;16239150918016…</td><td>8.7675e18</td><td>&quot;BasicChecking&quot;</td><td>&quot;90436352696598…</td><td>&quot;Rejected&quot;</td></tr></tbody></table></div>"
      ],
      "text/plain": [
       "shape: (7, 6)\n",
       "┌────────────────┬────────────────┬─────────────┬────────────────┬────────────────┬────────────────┐\n",
       "│ PREDICTOR_0    ┆ PREDICTOR_1    ┆ PREDICTOR_2 ┆ Context_Name   ┆ IH_Web_Inbound ┆ Decision_Outco │\n",
       "│ ---            ┆ ---            ┆ ---         ┆ ---            ┆ _Accepted_pxLa ┆ me             │\n",
       "│ str            ┆ str            ┆ f64         ┆ str            ┆ stGr…          ┆ ---            │\n",
       "│                ┆                ┆             ┆                ┆ ---            ┆ str            │\n",
       "│                ┆                ┆             ┆                ┆ str            ┆                │\n",
       "╞════════════════╪════════════════╪═════════════╪════════════════╪════════════════╪════════════════╡\n",
       "│ 67009631579970 ┆ 32966211964868 ┆ 1.2927e19   ┆ FirstMortgage3 ┆ 11155849890858 ┆ Rejected       │\n",
       "│ 77149          ┆ 88420          ┆             ┆ 0yr            ┆ 823014         ┆                │\n",
       "│ 10077571576639 ┆ 53413691127143 ┆ 1.4856e19   ┆ FirstMortgage3 ┆ 13671245199553 ┆ Accepted       │\n",
       "│ 143328         ┆ 00087          ┆             ┆ 0yr            ┆ 013216         ┆                │\n",
       "│ 16229304227491 ┆ 16239150918016 ┆ 5.6458e17   ┆ MoneyMarketSav ┆ 11155849890858 ┆ Rejected       │\n",
       "│ 115897         ┆ 5044           ┆             ┆ ingsAccount    ┆ 823014         ┆                │\n",
       "│ 12131083617595 ┆ 53413691127143 ┆ 4.0723e18   ┆ BasicChecking  ┆ 11155849890858 ┆ Rejected       │\n",
       "│ 66952          ┆ 00087          ┆             ┆                ┆ 823014         ┆                │\n",
       "│ 43188282610253 ┆ 32966211964868 ┆ 1.4677e19   ┆ BasicChecking  ┆ 90436352696598 ┆ Accepted       │\n",
       "│ 04227          ┆ 88420          ┆             ┆                ┆ 24167          ┆                │\n",
       "│ 10354523313264 ┆ 16239150918016 ┆ 1.6330e19   ┆ UPlusFinPerson ┆ null           ┆ Rejected       │\n",
       "│ 817173         ┆ 5044           ┆             ┆ al             ┆                ┆                │\n",
       "│ 13221698483425 ┆ 16239150918016 ┆ 8.7675e18   ┆ BasicChecking  ┆ 90436352696598 ┆ Rejected       │\n",
       "│ 96888          ┆ 5044           ┆             ┆                ┆ 24167          ┆                │\n",
       "└────────────────┴────────────────┴─────────────┴────────────────┴────────────────┴────────────────┘"
      ]
     },
     "execution_count": 13,
     "metadata": {},
     "output_type": "execute_result"
    }
   ],
   "source": [
    "pl.read_ipc('output/hds.arrow')"
   ]
  },
  {
   "attachments": {},
   "cell_type": "markdown",
   "metadata": {
    "nbsphinx": "hidden"
   },
   "source": [
    "## Advanced: Hash fuctions\n",
    "\n",
    "By default, we use [the same hashing algorithm Polars](https://pola-rs.github.io/polars/py-polars/html/reference/expressions/api/polars.Expr.hash.html#polars.Expr.hash) uses: [xxhash](https://github.com/Cyan4973/xxHash), as implemented [here](https://github.com/pola-rs/polars/blob/3f287f370b3c388ed2f3f218b2c096382548136f/polars/polars-core/src/vector_hasher.rs#L266). xxhash is fast to compute, and you can check its performance in collision, dispersion and randomness [here](https://github.com/Cyan4973/xxHash/tree/dev/tests). \n",
    "\n",
    "xxhash accepts four distinct seeds, but by default we set the seeds to `0`. It is possible to set the `seed` argument of the `process()` function to `'random'`, which will set all four seeds to a random integer between `0` and `1000000000`. Alternatively, it is possible to supply the four seeds manually with arguments `seed`, `seed_1`, `seed_2` and `seed_3`. \n",
    "\n",
    "If the xxhash with (random) seed(s) is not deemed sufficiently secure, it is possible to use your own hashing algorithm.\n",
    "\n",
    "Note that since we're now running python code and not native Polars code anymore, this will be _significantly_ slower. Nonetheless, it is possible.\n",
    "\n",
    "Just as an example - this is how one would use sha3_256:"
   ]
  },
  {
   "cell_type": "code",
   "execution_count": 14,
   "metadata": {
    "execution": {
     "iopub.execute_input": "2023-09-27T08:30:25.776408Z",
     "iopub.status.busy": "2023-09-27T08:30:25.776120Z",
     "iopub.status.idle": "2023-09-27T08:30:26.128649Z",
     "shell.execute_reply": "2023-09-27T08:30:26.127933Z"
    },
    "nbsphinx": "hidden"
   },
   "outputs": [
    {
     "ename": "ComputeError",
     "evalue": "AttributeError: 'int' object has no attribute 'encode'",
     "output_type": "error",
     "traceback": [
      "\u001b[0;31m---------------------------------------------------------------------------\u001b[0m",
      "\u001b[0;31mComputeError\u001b[0m                              Traceback (most recent call last)",
      "Cell \u001b[0;32mIn[14], line 3\u001b[0m\n\u001b[1;32m      1\u001b[0m \u001b[38;5;28;01mfrom\u001b[39;00m \u001b[38;5;21;01mhashlib\u001b[39;00m \u001b[38;5;28;01mimport\u001b[39;00m sha3_256\n\u001b[0;32m----> 3\u001b[0m \u001b[43manon\u001b[49m\u001b[38;5;241;43m.\u001b[39;49m\u001b[43mprocess\u001b[49m\u001b[43m(\u001b[49m\u001b[43malgorithm\u001b[49m\u001b[38;5;241;43m=\u001b[39;49m\u001b[38;5;28;43;01mlambda\u001b[39;49;00m\u001b[43m \u001b[49m\u001b[43mx\u001b[49m\u001b[43m:\u001b[49m\u001b[43m \u001b[49m\u001b[43msha3_256\u001b[49m\u001b[43m(\u001b[49m\u001b[43mx\u001b[49m\u001b[38;5;241;43m.\u001b[39;49m\u001b[43mencode\u001b[49m\u001b[43m(\u001b[49m\u001b[43m)\u001b[49m\u001b[43m)\u001b[49m\u001b[38;5;241;43m.\u001b[39;49m\u001b[43mhexdigest\u001b[49m\u001b[43m(\u001b[49m\u001b[43m)\u001b[49m\u001b[43m)\u001b[49m\n",
      "File \u001b[0;32m~/work/pega-datascientist-tools/pega-datascientist-tools/python/docs/source/articles/../../../pdstools/utils/hds_utils.py:516\u001b[0m, in \u001b[0;36mDataAnonymization.process\u001b[0;34m(self, strategy, **kwargs)\u001b[0m\n\u001b[1;32m    514\u001b[0m df \u001b[38;5;241m=\u001b[39m df\u001b[38;5;241m.\u001b[39mselect(\u001b[38;5;28mself\u001b[39m\u001b[38;5;241m.\u001b[39mcolumn_mapping\u001b[38;5;241m.\u001b[39mkeys())\u001b[38;5;241m.\u001b[39mrename(\u001b[38;5;28mself\u001b[39m\u001b[38;5;241m.\u001b[39mcolumn_mapping)\n\u001b[1;32m    515\u001b[0m \u001b[38;5;28;01mif\u001b[39;00m strategy \u001b[38;5;241m==\u001b[39m \u001b[38;5;124m\"\u001b[39m\u001b[38;5;124meager\u001b[39m\u001b[38;5;124m\"\u001b[39m:\n\u001b[0;32m--> 516\u001b[0m     \u001b[38;5;28;01mreturn\u001b[39;00m \u001b[43mdf\u001b[49m\u001b[38;5;241;43m.\u001b[39;49m\u001b[43mcollect\u001b[49m\u001b[43m(\u001b[49m\u001b[43m)\u001b[49m\n\u001b[1;32m    517\u001b[0m \u001b[38;5;28;01mreturn\u001b[39;00m df\n",
      "File \u001b[0;32m/opt/hostedtoolcache/Python/3.11.5/x64/lib/python3.11/site-packages/polars/lazyframe/frame.py:1530\u001b[0m, in \u001b[0;36mLazyFrame.collect\u001b[0;34m(self, type_coercion, predicate_pushdown, projection_pushdown, simplify_expression, no_optimization, slice_pushdown, common_subplan_elimination, streaming)\u001b[0m\n\u001b[1;32m   1519\u001b[0m     common_subplan_elimination \u001b[38;5;241m=\u001b[39m \u001b[38;5;28;01mFalse\u001b[39;00m\n\u001b[1;32m   1521\u001b[0m ldf \u001b[38;5;241m=\u001b[39m \u001b[38;5;28mself\u001b[39m\u001b[38;5;241m.\u001b[39m_ldf\u001b[38;5;241m.\u001b[39moptimization_toggle(\n\u001b[1;32m   1522\u001b[0m     type_coercion,\n\u001b[1;32m   1523\u001b[0m     predicate_pushdown,\n\u001b[0;32m   (...)\u001b[0m\n\u001b[1;32m   1528\u001b[0m     streaming,\n\u001b[1;32m   1529\u001b[0m )\n\u001b[0;32m-> 1530\u001b[0m \u001b[38;5;28;01mreturn\u001b[39;00m wrap_df(ldf\u001b[38;5;241m.\u001b[39mcollect())\n",
      "\u001b[0;31mComputeError\u001b[0m: AttributeError: 'int' object has no attribute 'encode'"
     ]
    }
   ],
   "source": [
    "from hashlib import sha3_256\n",
    "\n",
    "anon.process(algorithm=lambda x: sha3_256(x.encode()).hexdigest())"
   ]
  }
 ],
 "metadata": {
  "kernelspec": {
   "display_name": "Python 3",
   "language": "python",
   "name": "python3"
  },
  "language_info": {
   "codemirror_mode": {
    "name": "ipython",
    "version": 3
   },
   "file_extension": ".py",
   "mimetype": "text/x-python",
   "name": "python",
   "nbconvert_exporter": "python",
   "pygments_lexer": "ipython3",
   "version": "3.11.5"
  },
  "vscode": {
   "interpreter": {
    "hash": "aee8b7b246df8f9039afb4144a1f6fd8d2ca17a180786b69acc140d282b71a49"
   }
  }
 },
 "nbformat": 4,
 "nbformat_minor": 2
}
