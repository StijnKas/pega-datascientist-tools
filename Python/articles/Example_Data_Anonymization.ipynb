{
 "cells": [
  {
   "attachments": {},
   "cell_type": "markdown",
   "metadata": {},
   "source": [
    "# Data Anonymization\n",
    "\n",
    "In Pega CDH 8.5 and up, it's now possible to record the historical data as seen by the Adaptive Models. See [this academy challenge](https://academy.pega.com/challenge/exporting-historical-data/v4) for reference. This historical data can be further used to experiment with offline models, but also to fine-tune the OOTB Gradient Boosting model. However, sharing this information with Pega can be sensitive as it contains raw predictor data. \n",
    "\n",
    "To this end, we provide a simple and transparent script to fully anonimize this dataset.\n",
    "\n",
    "The DataAnonymization script is now part of pdstools, and you can import it directly as such."
   ]
  },
  {
   "cell_type": "code",
   "execution_count": 1,
   "metadata": {
    "execution": {
     "iopub.execute_input": "2024-07-24T14:05:00.411692Z",
     "iopub.status.busy": "2024-07-24T14:05:00.411522Z",
     "iopub.status.idle": "2024-07-24T14:05:00.483274Z",
     "shell.execute_reply": "2024-07-24T14:05:00.482821Z"
    },
    "nbsphinx": "hidden"
   },
   "outputs": [],
   "source": [
    "# These lines are only for rendering in the docs, and are hidden through Jupyter tags\n",
    "# Do not run if you're running the notebook seperately\n",
    "\n",
    "import os  \n",
    "import sys\n",
    "import plotly.io as pio\n",
    "pio.renderers.default = \"notebook_connected\"\n",
    "\n",
    "sys.path.append(\"../../../\")\n",
    "sys.path.append('../../python')"
   ]
  },
  {
   "cell_type": "code",
   "execution_count": 2,
   "metadata": {
    "execution": {
     "iopub.execute_input": "2024-07-24T14:05:00.485185Z",
     "iopub.status.busy": "2024-07-24T14:05:00.485013Z",
     "iopub.status.idle": "2024-07-24T14:05:01.554583Z",
     "shell.execute_reply": "2024-07-24T14:05:01.554008Z"
    }
   },
   "outputs": [],
   "source": [
    "from pdstools import ADMDatamart\n",
    "from pdstools import Config, DataAnonymization\n",
    "import polars as pl"
   ]
  },
  {
   "attachments": {},
   "cell_type": "markdown",
   "metadata": {},
   "source": [
    "## Input data\n",
    "\n",
    "To demonstrate this process, we're going to anonymise this toy example dataframe:"
   ]
  },
  {
   "cell_type": "code",
   "execution_count": 3,
   "metadata": {
    "execution": {
     "iopub.execute_input": "2024-07-24T14:05:01.557293Z",
     "iopub.status.busy": "2024-07-24T14:05:01.556849Z",
     "iopub.status.idle": "2024-07-24T14:05:01.566854Z",
     "shell.execute_reply": "2024-07-24T14:05:01.566300Z"
    }
   },
   "outputs": [
    {
     "data": {
      "text/html": [
       "<div><style>\n",
       ".dataframe > thead > tr,\n",
       ".dataframe > tbody > tr {\n",
       "  text-align: right;\n",
       "  white-space: pre-wrap;\n",
       "}\n",
       "</style>\n",
       "<small>shape: (7, 6)</small><table border=\"1\" class=\"dataframe\"><thead><tr><th>Context_Name</th><th>Customer_MaritalStatus</th><th>Customer_CLV</th><th>Customer_City</th><th>IH_Web_Inbound_Accepted_pxLastGroupID</th><th>Decision_Outcome</th></tr><tr><td>str</td><td>str</td><td>i64</td><td>str</td><td>str</td><td>str</td></tr></thead><tbody><tr><td>&quot;FirstMortgage30yr&quot;</td><td>&quot;Married&quot;</td><td>1460</td><td>&quot;Port Raoul&quot;</td><td>&quot;Account&quot;</td><td>&quot;Rejected&quot;</td></tr><tr><td>&quot;FirstMortgage30yr&quot;</td><td>&quot;Unknown&quot;</td><td>669</td><td>&quot;Laurianneshire&quot;</td><td>&quot;AutoLoans&quot;</td><td>&quot;Accepted&quot;</td></tr><tr><td>&quot;MoneyMarketSavingsAccount&quot;</td><td>&quot;No Resp+&quot;</td><td>1174</td><td>&quot;Jacobshaven&quot;</td><td>&quot;Account&quot;</td><td>&quot;Rejected&quot;</td></tr><tr><td>&quot;BasicChecking&quot;</td><td>&quot;Unknown&quot;</td><td>1476</td><td>&quot;Lindton&quot;</td><td>&quot;Account&quot;</td><td>&quot;Rejected&quot;</td></tr><tr><td>&quot;BasicChecking&quot;</td><td>&quot;Married&quot;</td><td>1211</td><td>&quot;South Jimmieshire&quot;</td><td>&quot;DepositAccounts&quot;</td><td>&quot;Accepted&quot;</td></tr><tr><td>&quot;UPlusFinPersonal&quot;</td><td>&quot;No Resp+&quot;</td><td>533</td><td>&quot;Bergeville&quot;</td><td>null</td><td>&quot;Rejected&quot;</td></tr><tr><td>&quot;BasicChecking&quot;</td><td>&quot;No Resp+&quot;</td><td>555</td><td>&quot;Willyville&quot;</td><td>&quot;DepositAccounts&quot;</td><td>&quot;Rejected&quot;</td></tr></tbody></table></div>"
      ],
      "text/plain": [
       "shape: (7, 6)\n",
       "┌────────────────┬────────────────┬──────────────┬────────────────┬────────────────┬───────────────┐\n",
       "│ Context_Name   ┆ Customer_Marit ┆ Customer_CLV ┆ Customer_City  ┆ IH_Web_Inbound ┆ Decision_Outc │\n",
       "│ ---            ┆ alStatus       ┆ ---          ┆ ---            ┆ _Accepted_pxLa ┆ ome           │\n",
       "│ str            ┆ ---            ┆ i64          ┆ str            ┆ st…            ┆ ---           │\n",
       "│                ┆ str            ┆              ┆                ┆ ---            ┆ str           │\n",
       "│                ┆                ┆              ┆                ┆ str            ┆               │\n",
       "╞════════════════╪════════════════╪══════════════╪════════════════╪════════════════╪═══════════════╡\n",
       "│ FirstMortgage3 ┆ Married        ┆ 1460         ┆ Port Raoul     ┆ Account        ┆ Rejected      │\n",
       "│ 0yr            ┆                ┆              ┆                ┆                ┆               │\n",
       "│ FirstMortgage3 ┆ Unknown        ┆ 669          ┆ Laurianneshire ┆ AutoLoans      ┆ Accepted      │\n",
       "│ 0yr            ┆                ┆              ┆                ┆                ┆               │\n",
       "│ MoneyMarketSav ┆ No Resp+       ┆ 1174         ┆ Jacobshaven    ┆ Account        ┆ Rejected      │\n",
       "│ ingsAccount    ┆                ┆              ┆                ┆                ┆               │\n",
       "│ BasicChecking  ┆ Unknown        ┆ 1476         ┆ Lindton        ┆ Account        ┆ Rejected      │\n",
       "│ BasicChecking  ┆ Married        ┆ 1211         ┆ South          ┆ DepositAccount ┆ Accepted      │\n",
       "│                ┆                ┆              ┆ Jimmieshire    ┆ s              ┆               │\n",
       "│ UPlusFinPerson ┆ No Resp+       ┆ 533          ┆ Bergeville     ┆ null           ┆ Rejected      │\n",
       "│ al             ┆                ┆              ┆                ┆                ┆               │\n",
       "│ BasicChecking  ┆ No Resp+       ┆ 555          ┆ Willyville     ┆ DepositAccount ┆ Rejected      │\n",
       "│                ┆                ┆              ┆                ┆ s              ┆               │\n",
       "└────────────────┴────────────────┴──────────────┴────────────────┴────────────────┴───────────────┘"
      ]
     },
     "execution_count": 3,
     "metadata": {},
     "output_type": "execute_result"
    }
   ],
   "source": [
    "pl.read_ndjson('../../../../data/SampleHDS.json')"
   ]
  },
  {
   "attachments": {},
   "cell_type": "markdown",
   "metadata": {},
   "source": [
    "As you can see, this dataset consists of regular predictors, IH predictors, context keys and the outcome column. Additionally, some columns are numeric, others are strings. Let's first initialize the DataAnonymization class."
   ]
  },
  {
   "cell_type": "code",
   "execution_count": 4,
   "metadata": {
    "execution": {
     "iopub.execute_input": "2024-07-24T14:05:01.569184Z",
     "iopub.status.busy": "2024-07-24T14:05:01.568798Z",
     "iopub.status.idle": "2024-07-24T14:05:01.580323Z",
     "shell.execute_reply": "2024-07-24T14:05:01.579765Z"
    }
   },
   "outputs": [],
   "source": [
    "anon = DataAnonymization(hds_folder='../../../../data/')"
   ]
  },
  {
   "attachments": {},
   "cell_type": "markdown",
   "metadata": {},
   "source": [
    "By default, the class applies a set of anonymisation techniques:\n",
    "- Column names are remapped to a non-descriptive name\n",
    "- Categorical values are hashed with a random seed\n",
    "- Numerical values are normalized between 0 and 1\n",
    "- Outcomes are mapped to a binary outcome.\n",
    "\n",
    "To apply these techniques, simply call `.process()`:"
   ]
  },
  {
   "cell_type": "code",
   "execution_count": 5,
   "metadata": {
    "execution": {
     "iopub.execute_input": "2024-07-24T14:05:01.582480Z",
     "iopub.status.busy": "2024-07-24T14:05:01.582161Z",
     "iopub.status.idle": "2024-07-24T14:05:01.588328Z",
     "shell.execute_reply": "2024-07-24T14:05:01.587781Z"
    }
   },
   "outputs": [
    {
     "data": {
      "text/html": [
       "<div><style>\n",
       ".dataframe > thead > tr,\n",
       ".dataframe > tbody > tr {\n",
       "  text-align: right;\n",
       "  white-space: pre-wrap;\n",
       "}\n",
       "</style>\n",
       "<small>shape: (7, 7)</small><table border=\"1\" class=\"dataframe\"><thead><tr><th>PREDICTOR_0</th><th>filename</th><th>PREDICTOR_2</th><th>PREDICTOR_3</th><th>Context_Name</th><th>IH_PREDICTOR_0</th><th>Decision_Outcome</th></tr><tr><td>str</td><td>str</td><td>f64</td><td>str</td><td>str</td><td>str</td><td>bool</td></tr></thead><tbody><tr><td>&quot;6275097744559574010&quot;</td><td>&quot;../../../../data/SampleHDS.jso…</td><td>9.2848e18</td><td>&quot;10306486805967617818&quot;</td><td>&quot;2382519158753068455&quot;</td><td>&quot;17760177122755181677&quot;</td><td>false</td></tr><tr><td>&quot;9482796887042462106&quot;</td><td>&quot;../../../../data/SampleHDS.jso…</td><td>2.0454e18</td><td>&quot;11918527913091301470&quot;</td><td>&quot;2382519158753068455&quot;</td><td>&quot;15118512626600884629&quot;</td><td>true</td></tr><tr><td>&quot;16061077705285200777&quot;</td><td>&quot;../../../../data/SampleHDS.jso…</td><td>1.5406e19</td><td>&quot;684820393843911019&quot;</td><td>&quot;2981876698801444673&quot;</td><td>&quot;17760177122755181677&quot;</td><td>false</td></tr><tr><td>&quot;9482796887042462106&quot;</td><td>&quot;../../../../data/SampleHDS.jso…</td><td>2.3701e18</td><td>&quot;8977965327411525791&quot;</td><td>&quot;7636242769622112659&quot;</td><td>&quot;17760177122755181677&quot;</td><td>false</td></tr><tr><td>&quot;6275097744559574010&quot;</td><td>&quot;../../../../data/SampleHDS.jso…</td><td>1.4807e19</td><td>&quot;11956642666021257144&quot;</td><td>&quot;7636242769622112659&quot;</td><td>&quot;13375232735198986275&quot;</td><td>true</td></tr><tr><td>&quot;16061077705285200777&quot;</td><td>&quot;../../../../data/SampleHDS.jso…</td><td>1.4127e19</td><td>&quot;2234553176610934197&quot;</td><td>&quot;1101636941703303503&quot;</td><td>null</td><td>false</td></tr><tr><td>&quot;16061077705285200777&quot;</td><td>&quot;../../../../data/SampleHDS.jso…</td><td>1.1740e19</td><td>&quot;7232745456979798795&quot;</td><td>&quot;7636242769622112659&quot;</td><td>&quot;13375232735198986275&quot;</td><td>false</td></tr></tbody></table></div>"
      ],
      "text/plain": [
       "shape: (7, 7)\n",
       "┌──────────────┬─────────────┬─────────────┬─────────────┬─────────────┬─────────────┬─────────────┐\n",
       "│ PREDICTOR_0  ┆ filename    ┆ PREDICTOR_2 ┆ PREDICTOR_3 ┆ Context_Nam ┆ IH_PREDICTO ┆ Decision_Ou │\n",
       "│ ---          ┆ ---         ┆ ---         ┆ ---         ┆ e           ┆ R_0         ┆ tcome       │\n",
       "│ str          ┆ str         ┆ f64         ┆ str         ┆ ---         ┆ ---         ┆ ---         │\n",
       "│              ┆             ┆             ┆             ┆ str         ┆ str         ┆ bool        │\n",
       "╞══════════════╪═════════════╪═════════════╪═════════════╪═════════════╪═════════════╪═════════════╡\n",
       "│ 627509774455 ┆ ../../../.. ┆ 9.2848e18   ┆ 10306486805 ┆ 23825191587 ┆ 17760177122 ┆ false       │\n",
       "│ 9574010      ┆ /data/Sampl ┆             ┆ 967617818   ┆ 53068455    ┆ 755181677   ┆             │\n",
       "│              ┆ eHDS.jso…   ┆             ┆             ┆             ┆             ┆             │\n",
       "│ 948279688704 ┆ ../../../.. ┆ 2.0454e18   ┆ 11918527913 ┆ 23825191587 ┆ 15118512626 ┆ true        │\n",
       "│ 2462106      ┆ /data/Sampl ┆             ┆ 091301470   ┆ 53068455    ┆ 600884629   ┆             │\n",
       "│              ┆ eHDS.jso…   ┆             ┆             ┆             ┆             ┆             │\n",
       "│ 160610777052 ┆ ../../../.. ┆ 1.5406e19   ┆ 68482039384 ┆ 29818766988 ┆ 17760177122 ┆ false       │\n",
       "│ 85200777     ┆ /data/Sampl ┆             ┆ 3911019     ┆ 01444673    ┆ 755181677   ┆             │\n",
       "│              ┆ eHDS.jso…   ┆             ┆             ┆             ┆             ┆             │\n",
       "│ 948279688704 ┆ ../../../.. ┆ 2.3701e18   ┆ 89779653274 ┆ 76362427696 ┆ 17760177122 ┆ false       │\n",
       "│ 2462106      ┆ /data/Sampl ┆             ┆ 11525791    ┆ 22112659    ┆ 755181677   ┆             │\n",
       "│              ┆ eHDS.jso…   ┆             ┆             ┆             ┆             ┆             │\n",
       "│ 627509774455 ┆ ../../../.. ┆ 1.4807e19   ┆ 11956642666 ┆ 76362427696 ┆ 13375232735 ┆ true        │\n",
       "│ 9574010      ┆ /data/Sampl ┆             ┆ 021257144   ┆ 22112659    ┆ 198986275   ┆             │\n",
       "│              ┆ eHDS.jso…   ┆             ┆             ┆             ┆             ┆             │\n",
       "│ 160610777052 ┆ ../../../.. ┆ 1.4127e19   ┆ 22345531766 ┆ 11016369417 ┆ null        ┆ false       │\n",
       "│ 85200777     ┆ /data/Sampl ┆             ┆ 10934197    ┆ 03303503    ┆             ┆             │\n",
       "│              ┆ eHDS.jso…   ┆             ┆             ┆             ┆             ┆             │\n",
       "│ 160610777052 ┆ ../../../.. ┆ 1.1740e19   ┆ 72327454569 ┆ 76362427696 ┆ 13375232735 ┆ false       │\n",
       "│ 85200777     ┆ /data/Sampl ┆             ┆ 79798795    ┆ 22112659    ┆ 198986275   ┆             │\n",
       "│              ┆ eHDS.jso…   ┆             ┆             ┆             ┆             ┆             │\n",
       "└──────────────┴─────────────┴─────────────┴─────────────┴─────────────┴─────────────┴─────────────┘"
      ]
     },
     "execution_count": 5,
     "metadata": {},
     "output_type": "execute_result"
    }
   ],
   "source": [
    "anon.process()"
   ]
  },
  {
   "attachments": {},
   "cell_type": "markdown",
   "metadata": {},
   "source": [
    "To trace back the columns to their original names, the class also contains a mapping, which does not have to be provided."
   ]
  },
  {
   "cell_type": "code",
   "execution_count": 6,
   "metadata": {
    "execution": {
     "iopub.execute_input": "2024-07-24T14:05:01.590573Z",
     "iopub.status.busy": "2024-07-24T14:05:01.590180Z",
     "iopub.status.idle": "2024-07-24T14:05:01.594629Z",
     "shell.execute_reply": "2024-07-24T14:05:01.594088Z"
    }
   },
   "outputs": [
    {
     "data": {
      "text/plain": [
       "{'Customer_MaritalStatus': 'PREDICTOR_0',\n",
       " 'filename': 'filename',\n",
       " 'Customer_CLV': 'PREDICTOR_2',\n",
       " 'Customer_City': 'PREDICTOR_3',\n",
       " 'Context_Name': 'Context_Name',\n",
       " 'IH_Web_Inbound_Accepted_pxLastGroupID': 'IH_PREDICTOR_0',\n",
       " 'Decision_Outcome': 'Decision_Outcome'}"
      ]
     },
     "execution_count": 6,
     "metadata": {},
     "output_type": "execute_result"
    }
   ],
   "source": [
    "anon.column_mapping"
   ]
  },
  {
   "attachments": {},
   "cell_type": "markdown",
   "metadata": {},
   "source": [
    "## Configs\n",
    "\n",
    "Each capability can optionally be turned off - see below for the full list of config options, and refer to the API reference for the full description."
   ]
  },
  {
   "cell_type": "code",
   "execution_count": 7,
   "metadata": {
    "execution": {
     "iopub.execute_input": "2024-07-24T14:05:01.597154Z",
     "iopub.status.busy": "2024-07-24T14:05:01.596821Z",
     "iopub.status.idle": "2024-07-24T14:05:01.601079Z",
     "shell.execute_reply": "2024-07-24T14:05:01.600563Z"
    }
   },
   "outputs": [
    {
     "data": {
      "text/plain": [
       "{'config_file': None,\n",
       " 'hds_folder': '.',\n",
       " 'use_datamart': False,\n",
       " 'datamart_folder': 'datamart',\n",
       " 'output_format': 'ndjson',\n",
       " 'output_folder': 'output',\n",
       " 'mapping_file': 'mapping.map',\n",
       " 'mask_predictor_names': True,\n",
       " 'mask_context_key_names': False,\n",
       " 'mask_ih_names': True,\n",
       " 'mask_outcome_name': False,\n",
       " 'mask_predictor_values': True,\n",
       " 'mask_context_key_values': True,\n",
       " 'mask_ih_values': True,\n",
       " 'mask_outcome_values': True,\n",
       " 'context_key_label': 'Context_*',\n",
       " 'ih_label': 'IH_*',\n",
       " 'outcome_column': 'Decision_Outcome',\n",
       " 'positive_outcomes': ['Accepted', 'Clicked'],\n",
       " 'negative_outcomes': ['Rejected', 'Impression'],\n",
       " 'special_predictors': ['Decision_DecisionTime',\n",
       "  'Decision_OutcomeTime',\n",
       "  'Decision_Rank'],\n",
       " 'sample_percentage_schema_inferencing': 0.01}"
      ]
     },
     "execution_count": 7,
     "metadata": {},
     "output_type": "execute_result"
    }
   ],
   "source": [
    "dict(zip(Config.__init__.__code__.co_varnames[1:], Config.__init__.__defaults__))"
   ]
  },
  {
   "attachments": {},
   "cell_type": "markdown",
   "metadata": {},
   "source": [
    "It's easy to change these parameters by just passing the keyword arguments. In the following example, we\n",
    "- Keep the IH predictor names\n",
    "- Keep the outcome values\n",
    "- Keep the context key values\n",
    "- Keep the context key predictor names"
   ]
  },
  {
   "cell_type": "code",
   "execution_count": 8,
   "metadata": {
    "execution": {
     "iopub.execute_input": "2024-07-24T14:05:01.603044Z",
     "iopub.status.busy": "2024-07-24T14:05:01.602815Z",
     "iopub.status.idle": "2024-07-24T14:05:01.610958Z",
     "shell.execute_reply": "2024-07-24T14:05:01.610374Z"
    }
   },
   "outputs": [
    {
     "data": {
      "text/html": [
       "<div><style>\n",
       ".dataframe > thead > tr,\n",
       ".dataframe > tbody > tr {\n",
       "  text-align: right;\n",
       "  white-space: pre-wrap;\n",
       "}\n",
       "</style>\n",
       "<small>shape: (7, 7)</small><table border=\"1\" class=\"dataframe\"><thead><tr><th>PREDICTOR_0</th><th>filename</th><th>PREDICTOR_2</th><th>PREDICTOR_3</th><th>Context_Name</th><th>IH_Web_Inbound_Accepted_pxLastGroupID</th><th>Decision_Outcome</th></tr><tr><td>str</td><td>str</td><td>f64</td><td>str</td><td>str</td><td>str</td><td>str</td></tr></thead><tbody><tr><td>&quot;5766404158110507986&quot;</td><td>&quot;../../../../data/SampleHDS.jso…</td><td>1.5242e19</td><td>&quot;8504739752384003293&quot;</td><td>&quot;FirstMortgage30yr&quot;</td><td>&quot;12812892158211725560&quot;</td><td>&quot;Rejected&quot;</td></tr><tr><td>&quot;13367359089129038591&quot;</td><td>&quot;../../../../data/SampleHDS.jso…</td><td>1.9311e18</td><td>&quot;7638137855293712250&quot;</td><td>&quot;FirstMortgage30yr&quot;</td><td>&quot;1276008524838559547&quot;</td><td>&quot;Accepted&quot;</td></tr><tr><td>&quot;16430965575142587899&quot;</td><td>&quot;../../../../data/SampleHDS.jso…</td><td>1.8246e19</td><td>&quot;14462901201731778082&quot;</td><td>&quot;MoneyMarketSavingsAccount&quot;</td><td>&quot;12812892158211725560&quot;</td><td>&quot;Rejected&quot;</td></tr><tr><td>&quot;13367359089129038591&quot;</td><td>&quot;../../../../data/SampleHDS.jso…</td><td>9.4900e17</td><td>&quot;17995255738908433474&quot;</td><td>&quot;BasicChecking&quot;</td><td>&quot;12812892158211725560&quot;</td><td>&quot;Rejected&quot;</td></tr><tr><td>&quot;5766404158110507986&quot;</td><td>&quot;../../../../data/SampleHDS.jso…</td><td>6.5217e18</td><td>&quot;2897280204769898120&quot;</td><td>&quot;BasicChecking&quot;</td><td>&quot;70882184920580256&quot;</td><td>&quot;Accepted&quot;</td></tr><tr><td>&quot;16430965575142587899&quot;</td><td>&quot;../../../../data/SampleHDS.jso…</td><td>1.7656e19</td><td>&quot;7277685732885758086&quot;</td><td>&quot;UPlusFinPersonal&quot;</td><td>null</td><td>&quot;Rejected&quot;</td></tr><tr><td>&quot;16430965575142587899&quot;</td><td>&quot;../../../../data/SampleHDS.jso…</td><td>9.6935e18</td><td>&quot;2080474136168805276&quot;</td><td>&quot;BasicChecking&quot;</td><td>&quot;70882184920580256&quot;</td><td>&quot;Rejected&quot;</td></tr></tbody></table></div>"
      ],
      "text/plain": [
       "shape: (7, 7)\n",
       "┌──────────────┬─────────────┬─────────────┬─────────────┬─────────────┬─────────────┬─────────────┐\n",
       "│ PREDICTOR_0  ┆ filename    ┆ PREDICTOR_2 ┆ PREDICTOR_3 ┆ Context_Nam ┆ IH_Web_Inbo ┆ Decision_Ou │\n",
       "│ ---          ┆ ---         ┆ ---         ┆ ---         ┆ e           ┆ und_Accepte ┆ tcome       │\n",
       "│ str          ┆ str         ┆ f64         ┆ str         ┆ ---         ┆ d_pxLast…   ┆ ---         │\n",
       "│              ┆             ┆             ┆             ┆ str         ┆ ---         ┆ str         │\n",
       "│              ┆             ┆             ┆             ┆             ┆ str         ┆             │\n",
       "╞══════════════╪═════════════╪═════════════╪═════════════╪═════════════╪═════════════╪═════════════╡\n",
       "│ 576640415811 ┆ ../../../.. ┆ 1.5242e19   ┆ 85047397523 ┆ FirstMortga ┆ 12812892158 ┆ Rejected    │\n",
       "│ 0507986      ┆ /data/Sampl ┆             ┆ 84003293    ┆ ge30yr      ┆ 211725560   ┆             │\n",
       "│              ┆ eHDS.jso…   ┆             ┆             ┆             ┆             ┆             │\n",
       "│ 133673590891 ┆ ../../../.. ┆ 1.9311e18   ┆ 76381378552 ┆ FirstMortga ┆ 12760085248 ┆ Accepted    │\n",
       "│ 29038591     ┆ /data/Sampl ┆             ┆ 93712250    ┆ ge30yr      ┆ 38559547    ┆             │\n",
       "│              ┆ eHDS.jso…   ┆             ┆             ┆             ┆             ┆             │\n",
       "│ 164309655751 ┆ ../../../.. ┆ 1.8246e19   ┆ 14462901201 ┆ MoneyMarket ┆ 12812892158 ┆ Rejected    │\n",
       "│ 42587899     ┆ /data/Sampl ┆             ┆ 731778082   ┆ SavingsAcco ┆ 211725560   ┆             │\n",
       "│              ┆ eHDS.jso…   ┆             ┆             ┆ unt         ┆             ┆             │\n",
       "│ 133673590891 ┆ ../../../.. ┆ 9.4900e17   ┆ 17995255738 ┆ BasicChecki ┆ 12812892158 ┆ Rejected    │\n",
       "│ 29038591     ┆ /data/Sampl ┆             ┆ 908433474   ┆ ng          ┆ 211725560   ┆             │\n",
       "│              ┆ eHDS.jso…   ┆             ┆             ┆             ┆             ┆             │\n",
       "│ 576640415811 ┆ ../../../.. ┆ 6.5217e18   ┆ 28972802047 ┆ BasicChecki ┆ 70882184920 ┆ Accepted    │\n",
       "│ 0507986      ┆ /data/Sampl ┆             ┆ 69898120    ┆ ng          ┆ 580256      ┆             │\n",
       "│              ┆ eHDS.jso…   ┆             ┆             ┆             ┆             ┆             │\n",
       "│ 164309655751 ┆ ../../../.. ┆ 1.7656e19   ┆ 72776857328 ┆ UPlusFinPer ┆ null        ┆ Rejected    │\n",
       "│ 42587899     ┆ /data/Sampl ┆             ┆ 85758086    ┆ sonal       ┆             ┆             │\n",
       "│              ┆ eHDS.jso…   ┆             ┆             ┆             ┆             ┆             │\n",
       "│ 164309655751 ┆ ../../../.. ┆ 9.6935e18   ┆ 20804741361 ┆ BasicChecki ┆ 70882184920 ┆ Rejected    │\n",
       "│ 42587899     ┆ /data/Sampl ┆             ┆ 68805276    ┆ ng          ┆ 580256      ┆             │\n",
       "│              ┆ eHDS.jso…   ┆             ┆             ┆             ┆             ┆             │\n",
       "└──────────────┴─────────────┴─────────────┴─────────────┴─────────────┴─────────────┴─────────────┘"
      ]
     },
     "execution_count": 8,
     "metadata": {},
     "output_type": "execute_result"
    }
   ],
   "source": [
    "anon = DataAnonymization(\n",
    "    hds_folder=\"../../../../data/\",\n",
    "    mask_ih_names=False,\n",
    "    mask_outcome_values=False,\n",
    "    mask_context_key_values=False,\n",
    "    mask_context_key_names=False,\n",
    ")\n",
    "anon.process()\n"
   ]
  },
  {
   "attachments": {},
   "cell_type": "markdown",
   "metadata": {},
   "source": [
    "The configs can also be written and read as such:"
   ]
  },
  {
   "cell_type": "code",
   "execution_count": 9,
   "metadata": {
    "execution": {
     "iopub.execute_input": "2024-07-24T14:05:01.612789Z",
     "iopub.status.busy": "2024-07-24T14:05:01.612622Z",
     "iopub.status.idle": "2024-07-24T14:05:01.615726Z",
     "shell.execute_reply": "2024-07-24T14:05:01.615177Z"
    }
   },
   "outputs": [],
   "source": [
    "anon.config.save_to_config_file('config.json')"
   ]
  },
  {
   "cell_type": "code",
   "execution_count": 10,
   "metadata": {
    "execution": {
     "iopub.execute_input": "2024-07-24T14:05:01.617567Z",
     "iopub.status.busy": "2024-07-24T14:05:01.617403Z",
     "iopub.status.idle": "2024-07-24T14:05:01.625096Z",
     "shell.execute_reply": "2024-07-24T14:05:01.624561Z"
    }
   },
   "outputs": [
    {
     "data": {
      "text/html": [
       "<div><style>\n",
       ".dataframe > thead > tr,\n",
       ".dataframe > tbody > tr {\n",
       "  text-align: right;\n",
       "  white-space: pre-wrap;\n",
       "}\n",
       "</style>\n",
       "<small>shape: (7, 7)</small><table border=\"1\" class=\"dataframe\"><thead><tr><th>PREDICTOR_0</th><th>filename</th><th>PREDICTOR_2</th><th>PREDICTOR_3</th><th>Context_Name</th><th>IH_Web_Inbound_Accepted_pxLastGroupID</th><th>Decision_Outcome</th></tr><tr><td>str</td><td>str</td><td>f64</td><td>str</td><td>str</td><td>str</td><td>str</td></tr></thead><tbody><tr><td>&quot;3473946129008980297&quot;</td><td>&quot;../../../../data/SampleHDS.jso…</td><td>1.7191e19</td><td>&quot;12875483311381377467&quot;</td><td>&quot;FirstMortgage30yr&quot;</td><td>&quot;5534842213215035278&quot;</td><td>&quot;Rejected&quot;</td></tr><tr><td>&quot;3277094176435325323&quot;</td><td>&quot;../../../../data/SampleHDS.jso…</td><td>1.1160e19</td><td>&quot;15120354705354382329&quot;</td><td>&quot;FirstMortgage30yr&quot;</td><td>&quot;7986167464058135351&quot;</td><td>&quot;Accepted&quot;</td></tr><tr><td>&quot;17586505008797777738&quot;</td><td>&quot;../../../../data/SampleHDS.jso…</td><td>1.7163e19</td><td>&quot;6854933321251688621&quot;</td><td>&quot;MoneyMarketSavingsAccount&quot;</td><td>&quot;5534842213215035278&quot;</td><td>&quot;Rejected&quot;</td></tr><tr><td>&quot;3277094176435325323&quot;</td><td>&quot;../../../../data/SampleHDS.jso…</td><td>1.9619e18</td><td>&quot;16033506363561669748&quot;</td><td>&quot;BasicChecking&quot;</td><td>&quot;5534842213215035278&quot;</td><td>&quot;Rejected&quot;</td></tr><tr><td>&quot;3473946129008980297&quot;</td><td>&quot;../../../../data/SampleHDS.jso…</td><td>1.1535e19</td><td>&quot;13829135170550592963&quot;</td><td>&quot;BasicChecking&quot;</td><td>&quot;4970695758426312814&quot;</td><td>&quot;Accepted&quot;</td></tr><tr><td>&quot;17586505008797777738&quot;</td><td>&quot;../../../../data/SampleHDS.jso…</td><td>1.1176e19</td><td>&quot;7186761782723303341&quot;</td><td>&quot;UPlusFinPersonal&quot;</td><td>null</td><td>&quot;Rejected&quot;</td></tr><tr><td>&quot;17586505008797777738&quot;</td><td>&quot;../../../../data/SampleHDS.jso…</td><td>1.4264e18</td><td>&quot;7727667316676853198&quot;</td><td>&quot;BasicChecking&quot;</td><td>&quot;4970695758426312814&quot;</td><td>&quot;Rejected&quot;</td></tr></tbody></table></div>"
      ],
      "text/plain": [
       "shape: (7, 7)\n",
       "┌──────────────┬─────────────┬─────────────┬─────────────┬─────────────┬─────────────┬─────────────┐\n",
       "│ PREDICTOR_0  ┆ filename    ┆ PREDICTOR_2 ┆ PREDICTOR_3 ┆ Context_Nam ┆ IH_Web_Inbo ┆ Decision_Ou │\n",
       "│ ---          ┆ ---         ┆ ---         ┆ ---         ┆ e           ┆ und_Accepte ┆ tcome       │\n",
       "│ str          ┆ str         ┆ f64         ┆ str         ┆ ---         ┆ d_pxLast…   ┆ ---         │\n",
       "│              ┆             ┆             ┆             ┆ str         ┆ ---         ┆ str         │\n",
       "│              ┆             ┆             ┆             ┆             ┆ str         ┆             │\n",
       "╞══════════════╪═════════════╪═════════════╪═════════════╪═════════════╪═════════════╪═════════════╡\n",
       "│ 347394612900 ┆ ../../../.. ┆ 1.7191e19   ┆ 12875483311 ┆ FirstMortga ┆ 55348422132 ┆ Rejected    │\n",
       "│ 8980297      ┆ /data/Sampl ┆             ┆ 381377467   ┆ ge30yr      ┆ 15035278    ┆             │\n",
       "│              ┆ eHDS.jso…   ┆             ┆             ┆             ┆             ┆             │\n",
       "│ 327709417643 ┆ ../../../.. ┆ 1.1160e19   ┆ 15120354705 ┆ FirstMortga ┆ 79861674640 ┆ Accepted    │\n",
       "│ 5325323      ┆ /data/Sampl ┆             ┆ 354382329   ┆ ge30yr      ┆ 58135351    ┆             │\n",
       "│              ┆ eHDS.jso…   ┆             ┆             ┆             ┆             ┆             │\n",
       "│ 175865050087 ┆ ../../../.. ┆ 1.7163e19   ┆ 68549333212 ┆ MoneyMarket ┆ 55348422132 ┆ Rejected    │\n",
       "│ 97777738     ┆ /data/Sampl ┆             ┆ 51688621    ┆ SavingsAcco ┆ 15035278    ┆             │\n",
       "│              ┆ eHDS.jso…   ┆             ┆             ┆ unt         ┆             ┆             │\n",
       "│ 327709417643 ┆ ../../../.. ┆ 1.9619e18   ┆ 16033506363 ┆ BasicChecki ┆ 55348422132 ┆ Rejected    │\n",
       "│ 5325323      ┆ /data/Sampl ┆             ┆ 561669748   ┆ ng          ┆ 15035278    ┆             │\n",
       "│              ┆ eHDS.jso…   ┆             ┆             ┆             ┆             ┆             │\n",
       "│ 347394612900 ┆ ../../../.. ┆ 1.1535e19   ┆ 13829135170 ┆ BasicChecki ┆ 49706957584 ┆ Accepted    │\n",
       "│ 8980297      ┆ /data/Sampl ┆             ┆ 550592963   ┆ ng          ┆ 26312814    ┆             │\n",
       "│              ┆ eHDS.jso…   ┆             ┆             ┆             ┆             ┆             │\n",
       "│ 175865050087 ┆ ../../../.. ┆ 1.1176e19   ┆ 71867617827 ┆ UPlusFinPer ┆ null        ┆ Rejected    │\n",
       "│ 97777738     ┆ /data/Sampl ┆             ┆ 23303341    ┆ sonal       ┆             ┆             │\n",
       "│              ┆ eHDS.jso…   ┆             ┆             ┆             ┆             ┆             │\n",
       "│ 175865050087 ┆ ../../../.. ┆ 1.4264e18   ┆ 77276673166 ┆ BasicChecki ┆ 49706957584 ┆ Rejected    │\n",
       "│ 97777738     ┆ /data/Sampl ┆             ┆ 76853198    ┆ ng          ┆ 26312814    ┆             │\n",
       "│              ┆ eHDS.jso…   ┆             ┆             ┆             ┆             ┆             │\n",
       "└──────────────┴─────────────┴─────────────┴─────────────┴─────────────┴─────────────┴─────────────┘"
      ]
     },
     "execution_count": 10,
     "metadata": {},
     "output_type": "execute_result"
    }
   ],
   "source": [
    "anon = DataAnonymization(config=Config(config_file='config.json'))\n",
    "anon.process()"
   ]
  },
  {
   "attachments": {},
   "cell_type": "markdown",
   "metadata": {},
   "source": [
    "## Exporting\n",
    "Two functions export:\n",
    "- `create_mapping_file()` writes the mapping file of the predictor names\n",
    "- `write_to_output()` writes the processed dataframe to disk\n",
    "\n",
    "Write to output accepts the following extensions: `[\"ndjson\", \"parquet\", \"arrow\", \"csv\"]`"
   ]
  },
  {
   "cell_type": "code",
   "execution_count": 11,
   "metadata": {
    "execution": {
     "iopub.execute_input": "2024-07-24T14:05:01.627196Z",
     "iopub.status.busy": "2024-07-24T14:05:01.626853Z",
     "iopub.status.idle": "2024-07-24T14:05:01.630297Z",
     "shell.execute_reply": "2024-07-24T14:05:01.629757Z"
    }
   },
   "outputs": [
    {
     "name": "stdout",
     "output_type": "stream",
     "text": [
      "Customer_MaritalStatus=PREDICTOR_0\n",
      "filename=filename\n",
      "Customer_CLV=PREDICTOR_2\n",
      "Customer_City=PREDICTOR_3\n",
      "Context_Name=Context_Name\n",
      "IH_Web_Inbound_Accepted_pxLastGroupID=IH_Web_Inbound_Accepted_pxLastGroupID\n",
      "Decision_Outcome=Decision_Outcome\n",
      "\n"
     ]
    }
   ],
   "source": [
    "anon.create_mapping_file()\n",
    "with open('mapping.map') as f:\n",
    "    print(f.read())"
   ]
  },
  {
   "cell_type": "code",
   "execution_count": 12,
   "metadata": {
    "execution": {
     "iopub.execute_input": "2024-07-24T14:05:01.632432Z",
     "iopub.status.busy": "2024-07-24T14:05:01.632059Z",
     "iopub.status.idle": "2024-07-24T14:05:01.635862Z",
     "shell.execute_reply": "2024-07-24T14:05:01.635346Z"
    }
   },
   "outputs": [],
   "source": [
    "anon.write_to_output(ext='arrow')"
   ]
  },
  {
   "cell_type": "code",
   "execution_count": 13,
   "metadata": {
    "execution": {
     "iopub.execute_input": "2024-07-24T14:05:01.637969Z",
     "iopub.status.busy": "2024-07-24T14:05:01.637601Z",
     "iopub.status.idle": "2024-07-24T14:05:01.642601Z",
     "shell.execute_reply": "2024-07-24T14:05:01.642075Z"
    }
   },
   "outputs": [
    {
     "data": {
      "text/html": [
       "<div><style>\n",
       ".dataframe > thead > tr,\n",
       ".dataframe > tbody > tr {\n",
       "  text-align: right;\n",
       "  white-space: pre-wrap;\n",
       "}\n",
       "</style>\n",
       "<small>shape: (7, 6)</small><table border=\"1\" class=\"dataframe\"><thead><tr><th>PREDICTOR_0</th><th>PREDICTOR_2</th><th>PREDICTOR_3</th><th>Context_Name</th><th>IH_Web_Inbound_Accepted_pxLastGroupID</th><th>Decision_Outcome</th></tr><tr><td>str</td><td>f64</td><td>str</td><td>str</td><td>str</td><td>str</td></tr></thead><tbody><tr><td>&quot;17174759180291830288&quot;</td><td>1.2076e19</td><td>&quot;5613992885271300235&quot;</td><td>&quot;FirstMortgage30yr&quot;</td><td>&quot;11051565088612097061&quot;</td><td>&quot;Rejected&quot;</td></tr><tr><td>&quot;6569120804418583131&quot;</td><td>1.0270e19</td><td>&quot;8257885365892022783&quot;</td><td>&quot;FirstMortgage30yr&quot;</td><td>&quot;13564162851899026182&quot;</td><td>&quot;Accepted&quot;</td></tr><tr><td>&quot;12718880256019266485&quot;</td><td>1.8160e19</td><td>&quot;10161459987275879238&quot;</td><td>&quot;MoneyMarketSavingsAccount&quot;</td><td>&quot;11051565088612097061&quot;</td><td>&quot;Rejected&quot;</td></tr><tr><td>&quot;6569120804418583131&quot;</td><td>1.1990e19</td><td>&quot;5396933171168263340&quot;</td><td>&quot;BasicChecking&quot;</td><td>&quot;11051565088612097061&quot;</td><td>&quot;Rejected&quot;</td></tr><tr><td>&quot;17174759180291830288&quot;</td><td>1.6543e19</td><td>&quot;3498391044375404885&quot;</td><td>&quot;BasicChecking&quot;</td><td>&quot;7488771017295566855&quot;</td><td>&quot;Accepted&quot;</td></tr><tr><td>&quot;12718880256019266485&quot;</td><td>1.7700e19</td><td>&quot;6804590939661930777&quot;</td><td>&quot;UPlusFinPersonal&quot;</td><td>null</td><td>&quot;Rejected&quot;</td></tr><tr><td>&quot;12718880256019266485&quot;</td><td>2.5216e18</td><td>&quot;3249274183386193199&quot;</td><td>&quot;BasicChecking&quot;</td><td>&quot;7488771017295566855&quot;</td><td>&quot;Rejected&quot;</td></tr></tbody></table></div>"
      ],
      "text/plain": [
       "shape: (7, 6)\n",
       "┌────────────────┬─────────────┬────────────────┬────────────────┬────────────────┬────────────────┐\n",
       "│ PREDICTOR_0    ┆ PREDICTOR_2 ┆ PREDICTOR_3    ┆ Context_Name   ┆ IH_Web_Inbound ┆ Decision_Outco │\n",
       "│ ---            ┆ ---         ┆ ---            ┆ ---            ┆ _Accepted_pxLa ┆ me             │\n",
       "│ str            ┆ f64         ┆ str            ┆ str            ┆ st…            ┆ ---            │\n",
       "│                ┆             ┆                ┆                ┆ ---            ┆ str            │\n",
       "│                ┆             ┆                ┆                ┆ str            ┆                │\n",
       "╞════════════════╪═════════════╪════════════════╪════════════════╪════════════════╪════════════════╡\n",
       "│ 17174759180291 ┆ 1.2076e19   ┆ 56139928852713 ┆ FirstMortgage3 ┆ 11051565088612 ┆ Rejected       │\n",
       "│ 830288         ┆             ┆ 00235          ┆ 0yr            ┆ 097061         ┆                │\n",
       "│ 65691208044185 ┆ 1.0270e19   ┆ 82578853658920 ┆ FirstMortgage3 ┆ 13564162851899 ┆ Accepted       │\n",
       "│ 83131          ┆             ┆ 22783          ┆ 0yr            ┆ 026182         ┆                │\n",
       "│ 12718880256019 ┆ 1.8160e19   ┆ 10161459987275 ┆ MoneyMarketSav ┆ 11051565088612 ┆ Rejected       │\n",
       "│ 266485         ┆             ┆ 879238         ┆ ingsAccount    ┆ 097061         ┆                │\n",
       "│ 65691208044185 ┆ 1.1990e19   ┆ 53969331711682 ┆ BasicChecking  ┆ 11051565088612 ┆ Rejected       │\n",
       "│ 83131          ┆             ┆ 63340          ┆                ┆ 097061         ┆                │\n",
       "│ 17174759180291 ┆ 1.6543e19   ┆ 34983910443754 ┆ BasicChecking  ┆ 74887710172955 ┆ Accepted       │\n",
       "│ 830288         ┆             ┆ 04885          ┆                ┆ 66855          ┆                │\n",
       "│ 12718880256019 ┆ 1.7700e19   ┆ 68045909396619 ┆ UPlusFinPerson ┆ null           ┆ Rejected       │\n",
       "│ 266485         ┆             ┆ 30777          ┆ al             ┆                ┆                │\n",
       "│ 12718880256019 ┆ 2.5216e18   ┆ 32492741833861 ┆ BasicChecking  ┆ 74887710172955 ┆ Rejected       │\n",
       "│ 266485         ┆             ┆ 93199          ┆                ┆ 66855          ┆                │\n",
       "└────────────────┴─────────────┴────────────────┴────────────────┴────────────────┴────────────────┘"
      ]
     },
     "execution_count": 13,
     "metadata": {},
     "output_type": "execute_result"
    }
   ],
   "source": [
    "pl.read_ipc('output/hds.arrow')"
   ]
  },
  {
   "attachments": {},
   "cell_type": "markdown",
   "metadata": {
    "nbsphinx": "hidden"
   },
   "source": [
    "## Advanced: Hash fuctions\n",
    "\n",
    "By default, we use [the same hashing algorithm Polars](https://pola-rs.github.io/polars/py-polars/html/reference/expressions/api/polars.Expr.hash.html#polars.Expr.hash) uses: [xxhash](https://github.com/Cyan4973/xxHash), as implemented [here](https://github.com/pola-rs/polars/blob/3f287f370b3c388ed2f3f218b2c096382548136f/polars/polars-core/src/vector_hasher.rs#L266). xxhash is fast to compute, and you can check its performance in collision, dispersion and randomness [here](https://github.com/Cyan4973/xxHash/tree/dev/tests). \n",
    "\n",
    "xxhash accepts four distinct seeds, but by default we set the seeds to `0`. It is possible to set the `seed` argument of the `process()` function to `'random'`, which will set all four seeds to a random integer between `0` and `1000000000`. Alternatively, it is possible to supply the four seeds manually with arguments `seed`, `seed_1`, `seed_2` and `seed_3`. \n",
    "\n",
    "If the xxhash with (random) seed(s) is not deemed sufficiently secure, it is possible to use your own hashing algorithm.\n",
    "\n",
    "Note that since we're now running python code and not native Polars code anymore, this will be _significantly_ slower. Nonetheless, it is possible.\n",
    "\n",
    "Just as an example - this is how one would use sha3_256:"
   ]
  },
  {
   "cell_type": "code",
   "execution_count": 14,
   "metadata": {
    "execution": {
     "iopub.execute_input": "2024-07-24T14:05:01.644972Z",
     "iopub.status.busy": "2024-07-24T14:05:01.644637Z",
     "iopub.status.idle": "2024-07-24T14:05:01.968400Z",
     "shell.execute_reply": "2024-07-24T14:05:01.967801Z"
    },
    "nbsphinx": "hidden"
   },
   "outputs": [
    {
     "name": "stderr",
     "output_type": "stream",
     "text": [
      "sys:1: MapWithoutReturnDtypeWarning:\n",
      "\n",
      "Calling `map_elements` without specifying `return_dtype` can lead to unpredictable results. Specify `return_dtype` to silence this warning.\n",
      "\n",
      "sys:1: MapWithoutReturnDtypeWarning:\n",
      "\n",
      "Calling `map_elements` without specifying `return_dtype` can lead to unpredictable results. Specify `return_dtype` to silence this warning.\n",
      "\n",
      "sys:1: MapWithoutReturnDtypeWarning:\n",
      "\n",
      "Calling `map_elements` without specifying `return_dtype` can lead to unpredictable results. Specify `return_dtype` to silence this warning.\n",
      "\n",
      "sys:1: MapWithoutReturnDtypeWarning:\n",
      "\n",
      "Calling `map_elements` without specifying `return_dtype` can lead to unpredictable results. Specify `return_dtype` to silence this warning.\n",
      "\n"
     ]
    },
    {
     "ename": "ComputeError",
     "evalue": "AttributeError: 'int' object has no attribute 'encode'",
     "output_type": "error",
     "traceback": [
      "\u001b[0;31m---------------------------------------------------------------------------\u001b[0m",
      "\u001b[0;31mComputeError\u001b[0m                              Traceback (most recent call last)",
      "Cell \u001b[0;32mIn[14], line 3\u001b[0m\n\u001b[1;32m      1\u001b[0m \u001b[38;5;28;01mfrom\u001b[39;00m \u001b[38;5;21;01mhashlib\u001b[39;00m \u001b[38;5;28;01mimport\u001b[39;00m sha3_256\n\u001b[0;32m----> 3\u001b[0m \u001b[43manon\u001b[49m\u001b[38;5;241;43m.\u001b[39;49m\u001b[43mprocess\u001b[49m\u001b[43m(\u001b[49m\u001b[43malgorithm\u001b[49m\u001b[38;5;241;43m=\u001b[39;49m\u001b[38;5;28;43;01mlambda\u001b[39;49;00m\u001b[43m \u001b[49m\u001b[43mx\u001b[49m\u001b[43m:\u001b[49m\u001b[43m \u001b[49m\u001b[43msha3_256\u001b[49m\u001b[43m(\u001b[49m\u001b[43mx\u001b[49m\u001b[38;5;241;43m.\u001b[39;49m\u001b[43mencode\u001b[49m\u001b[43m(\u001b[49m\u001b[43m)\u001b[49m\u001b[43m)\u001b[49m\u001b[38;5;241;43m.\u001b[39;49m\u001b[43mhexdigest\u001b[49m\u001b[43m(\u001b[49m\u001b[43m)\u001b[49m\u001b[43m)\u001b[49m\n",
      "File \u001b[0;32m~/work/pega-datascientist-tools/pega-datascientist-tools/python/docs/source/articles/../../../pdstools/utils/hds_utils.py:512\u001b[0m, in \u001b[0;36mDataAnonymization.process\u001b[0;34m(self, strategy, **kwargs)\u001b[0m\n\u001b[1;32m    510\u001b[0m df \u001b[38;5;241m=\u001b[39m df\u001b[38;5;241m.\u001b[39mselect(\u001b[38;5;28mself\u001b[39m\u001b[38;5;241m.\u001b[39mcolumn_mapping\u001b[38;5;241m.\u001b[39mkeys())\u001b[38;5;241m.\u001b[39mrename(\u001b[38;5;28mself\u001b[39m\u001b[38;5;241m.\u001b[39mcolumn_mapping)\n\u001b[1;32m    511\u001b[0m \u001b[38;5;28;01mif\u001b[39;00m strategy \u001b[38;5;241m==\u001b[39m \u001b[38;5;124m\"\u001b[39m\u001b[38;5;124meager\u001b[39m\u001b[38;5;124m\"\u001b[39m:\n\u001b[0;32m--> 512\u001b[0m     \u001b[38;5;28;01mreturn\u001b[39;00m \u001b[43mdf\u001b[49m\u001b[38;5;241;43m.\u001b[39;49m\u001b[43mcollect\u001b[49m\u001b[43m(\u001b[49m\u001b[43m)\u001b[49m\n\u001b[1;32m    513\u001b[0m \u001b[38;5;28;01mreturn\u001b[39;00m df\n",
      "File \u001b[0;32m/opt/hostedtoolcache/Python/3.11.9/x64/lib/python3.11/site-packages/polars/lazyframe/frame.py:1967\u001b[0m, in \u001b[0;36mLazyFrame.collect\u001b[0;34m(self, type_coercion, predicate_pushdown, projection_pushdown, simplify_expression, slice_pushdown, comm_subplan_elim, comm_subexpr_elim, cluster_with_columns, no_optimization, streaming, background, _eager, **_kwargs)\u001b[0m\n\u001b[1;32m   1964\u001b[0m \u001b[38;5;66;03m# Only for testing purposes atm.\u001b[39;00m\n\u001b[1;32m   1965\u001b[0m callback \u001b[38;5;241m=\u001b[39m _kwargs\u001b[38;5;241m.\u001b[39mget(\u001b[38;5;124m\"\u001b[39m\u001b[38;5;124mpost_opt_callback\u001b[39m\u001b[38;5;124m\"\u001b[39m)\n\u001b[0;32m-> 1967\u001b[0m \u001b[38;5;28;01mreturn\u001b[39;00m wrap_df(\u001b[43mldf\u001b[49m\u001b[38;5;241;43m.\u001b[39;49m\u001b[43mcollect\u001b[49m\u001b[43m(\u001b[49m\u001b[43mcallback\u001b[49m\u001b[43m)\u001b[49m)\n",
      "\u001b[0;31mComputeError\u001b[0m: AttributeError: 'int' object has no attribute 'encode'"
     ]
    }
   ],
   "source": [
    "from hashlib import sha3_256\n",
    "\n",
    "anon.process(algorithm=lambda x: sha3_256(x.encode()).hexdigest())"
   ]
  }
 ],
 "metadata": {
  "kernelspec": {
   "display_name": "Python 3",
   "language": "python",
   "name": "python3"
  },
  "language_info": {
   "codemirror_mode": {
    "name": "ipython",
    "version": 3
   },
   "file_extension": ".py",
   "mimetype": "text/x-python",
   "name": "python",
   "nbconvert_exporter": "python",
   "pygments_lexer": "ipython3",
   "version": "3.11.9"
  },
  "vscode": {
   "interpreter": {
    "hash": "aee8b7b246df8f9039afb4144a1f6fd8d2ca17a180786b69acc140d282b71a49"
   }
  }
 },
 "nbformat": 4,
 "nbformat_minor": 2
}
