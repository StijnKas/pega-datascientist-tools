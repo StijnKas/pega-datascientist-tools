{
 "cells": [
  {
   "cell_type": "markdown",
   "metadata": {},
   "source": [
    "# Explainability Extract Analysis\n",
    "\n",
    "__Pega__\n",
    "\n",
    "__2024-06-11__\n",
    "\n",
    "Welcome to the Explainability Extract Demo. This notebook is designed to guide you through the analysis of Explainability Extract data using the DecisionData class of pdstools library. Explainability Extract is a subset of the Decision Analyzer data, focusing specifically on the \"Arbitration\" stage. While the full Decision Analyzer dataset is still in development, this notebook allows you to explore the rich possibilities offered by Explainability Extract data.\n",
    "\n",
    "We developed this notebook with a dual purpose. Firstly, we aim to familiarize you with the various functions and visualizations available in the DecisionData class. You'll learn how to aggregate and visualize data in ways that are meaningful and insightful for your specific use cases.\n",
    "\n",
    "Secondly, we hope this notebook will inspire you. The analysis and visualizations demonstrated here are only the tip of the iceberg. We encourage you to think creatively and explore other ways this data can be utilized. Consider this notebook a springboard for your analysis journey.\n",
    "\n",
    "Each data point represents a decision made in real-time, providing a snapshot of the arbitration process. By examining this data, you have the opportunity to delve into the intricacies of these decisions, gaining a deeper understanding of the decision-making process.\n",
    "\n",
    "As you navigate through this notebook, remember that it is interactive. This means you can not only run each code cell to see the results but also tweak the code and experiment as you go along. This hands-on approach is one of the best ways to learn and we strongly encourage it.\n",
    "\n",
    "Finally, this notebook is designed to be used in tandem with our Decision Analyzer Streamlit app. While the app provides a user-friendly interface for exploring the data, this notebook offers a more detailed and customizable analysis experience.\n"
   ]
  },
  {
   "cell_type": "code",
   "execution_count": 1,
   "metadata": {
    "execution": {
     "iopub.execute_input": "2024-06-21T21:18:39.503295Z",
     "iopub.status.busy": "2024-06-21T21:18:39.502878Z",
     "iopub.status.idle": "2024-06-21T21:18:39.574677Z",
     "shell.execute_reply": "2024-06-21T21:18:39.574191Z"
    },
    "nbsphinx": "hidden"
   },
   "outputs": [],
   "source": [
    "# These lines are only for rendering in the docs, and are hidden through Jupyter tags\n",
    "# Do not run if you're running the notebook seperately\n",
    "\n",
    "import plotly.io as pio\n",
    "\n",
    "pio.renderers.default = \"notebook_connected\"\n",
    "\n",
    "import sys\n",
    "\n",
    "sys.path.append(\"../../../\")\n",
    "sys.path.append('../../python')"
   ]
  },
  {
   "cell_type": "code",
   "execution_count": 2,
   "metadata": {
    "execution": {
     "iopub.execute_input": "2024-06-21T21:18:39.576778Z",
     "iopub.status.busy": "2024-06-21T21:18:39.576447Z",
     "iopub.status.idle": "2024-06-21T21:18:40.651350Z",
     "shell.execute_reply": "2024-06-21T21:18:40.650709Z"
    }
   },
   "outputs": [],
   "source": [
    "from pdstools import DecisionData, readDSExport\n",
    "import polars as pl"
   ]
  },
  {
   "cell_type": "markdown",
   "metadata": {},
   "source": [
    "### Read the Data and create DecisionData instance"
   ]
  },
  {
   "cell_type": "code",
   "execution_count": 3,
   "metadata": {
    "execution": {
     "iopub.execute_input": "2024-06-21T21:18:40.654435Z",
     "iopub.status.busy": "2024-06-21T21:18:40.653774Z",
     "iopub.status.idle": "2024-06-21T21:18:40.985159Z",
     "shell.execute_reply": "2024-06-21T21:18:40.984528Z"
    }
   },
   "outputs": [
    {
     "ename": "ValueError",
     "evalue": "Could not import file: Target not found, with extension ",
     "output_type": "error",
     "traceback": [
      "\u001b[0;31m---------------------------------------------------------------------------\u001b[0m",
      "\u001b[0;31mValueError\u001b[0m                                Traceback (most recent call last)",
      "Cell \u001b[0;32mIn[3], line 1\u001b[0m\n\u001b[0;32m----> 1\u001b[0m df \u001b[38;5;241m=\u001b[39m \u001b[43mreadDSExport\u001b[49m\u001b[43m(\u001b[49m\n\u001b[1;32m      2\u001b[0m \u001b[43m    \u001b[49m\u001b[43mfilename\u001b[49m\u001b[38;5;241;43m=\u001b[39;49m\u001b[38;5;124;43m\"\u001b[39;49m\u001b[38;5;124;43msample_explainability_extract.parquet\u001b[39;49m\u001b[38;5;124;43m\"\u001b[39;49m\u001b[43m,\u001b[49m\n\u001b[1;32m      3\u001b[0m \u001b[43m    \u001b[49m\u001b[43mpath\u001b[49m\u001b[38;5;241;43m=\u001b[39;49m\u001b[38;5;124;43m\"\u001b[39;49m\u001b[38;5;124;43mhttps://raw.githubusercontent.com/pegasystems/pega-datascientist-tools/explainability/data\u001b[39;49m\u001b[38;5;124;43m\"\u001b[39;49m\u001b[43m,\u001b[49m\n\u001b[1;32m      4\u001b[0m \u001b[43m)\u001b[49m\n\u001b[1;32m      5\u001b[0m decision_data \u001b[38;5;241m=\u001b[39m DecisionData(df\u001b[38;5;241m.\u001b[39mlazy())\n",
      "File \u001b[0;32m~/work/pega-datascientist-tools/pega-datascientist-tools/python/docs/source/articles/../../../pdstools/pega_io/File.py:132\u001b[0m, in \u001b[0;36mreadDSExport\u001b[0;34m(filename, path, verbose, **reading_opts)\u001b[0m\n\u001b[1;32m    128\u001b[0m     name, extension \u001b[38;5;241m=\u001b[39m os\u001b[38;5;241m.\u001b[39mpath\u001b[38;5;241m.\u001b[39msplitext(file)\n\u001b[1;32m    130\u001b[0m \u001b[38;5;66;03m# Now we should either have a full path to a file, or a\u001b[39;00m\n\u001b[1;32m    131\u001b[0m \u001b[38;5;66;03m# BytesIO wrapper around the file. Polars can read those both.\u001b[39;00m\n\u001b[0;32m--> 132\u001b[0m \u001b[38;5;28;01mreturn\u001b[39;00m \u001b[43mimport_file\u001b[49m\u001b[43m(\u001b[49m\u001b[43mfile\u001b[49m\u001b[43m,\u001b[49m\u001b[43m \u001b[49m\u001b[43mextension\u001b[49m\u001b[43m,\u001b[49m\u001b[43m \u001b[49m\u001b[38;5;241;43m*\u001b[39;49m\u001b[38;5;241;43m*\u001b[39;49m\u001b[43mreading_opts\u001b[49m\u001b[43m)\u001b[49m\n",
      "File \u001b[0;32m~/work/pega-datascientist-tools/pega-datascientist-tools/python/docs/source/articles/../../../pdstools/pega_io/File.py:215\u001b[0m, in \u001b[0;36mimport_file\u001b[0;34m(file, extension, **reading_opts)\u001b[0m\n\u001b[1;32m    212\u001b[0m         file \u001b[38;5;241m=\u001b[39m pl\u001b[38;5;241m.\u001b[39mscan_ipc(file)\n\u001b[1;32m    214\u001b[0m \u001b[38;5;28;01melse\u001b[39;00m:\n\u001b[0;32m--> 215\u001b[0m     \u001b[38;5;28;01mraise\u001b[39;00m \u001b[38;5;167;01mValueError\u001b[39;00m(\u001b[38;5;124mf\u001b[39m\u001b[38;5;124m\"\u001b[39m\u001b[38;5;124mCould not import file: \u001b[39m\u001b[38;5;132;01m{\u001b[39;00mfile\u001b[38;5;132;01m}\u001b[39;00m\u001b[38;5;124m, with extension \u001b[39m\u001b[38;5;132;01m{\u001b[39;00mextension\u001b[38;5;132;01m}\u001b[39;00m\u001b[38;5;124m\"\u001b[39m)\n\u001b[1;32m    217\u001b[0m \u001b[38;5;28;01mreturn\u001b[39;00m file\n",
      "\u001b[0;31mValueError\u001b[0m: Could not import file: Target not found, with extension "
     ]
    }
   ],
   "source": [
    "df = readDSExport(\n",
    "    filename=\"sample_explainability_extract.parquet\",\n",
    "    path=\"https://raw.githubusercontent.com/pegasystems/pega-datascientist-tools/explainability/data\",\n",
    ")\n",
    "decision_data = DecisionData(df.lazy())"
   ]
  },
  {
   "cell_type": "markdown",
   "metadata": {},
   "source": [
    "### Overview"
   ]
  },
  {
   "cell_type": "markdown",
   "metadata": {},
   "source": [
    "`get_overview_stats` property of `DecisionData` shows general statistics of the data."
   ]
  },
  {
   "cell_type": "code",
   "execution_count": 4,
   "metadata": {
    "execution": {
     "iopub.execute_input": "2024-06-21T21:18:40.987336Z",
     "iopub.status.busy": "2024-06-21T21:18:40.987144Z",
     "iopub.status.idle": "2024-06-21T21:18:40.999160Z",
     "shell.execute_reply": "2024-06-21T21:18:40.998612Z"
    }
   },
   "outputs": [
    {
     "ename": "NameError",
     "evalue": "name 'decision_data' is not defined",
     "output_type": "error",
     "traceback": [
      "\u001b[0;31m---------------------------------------------------------------------------\u001b[0m",
      "\u001b[0;31mNameError\u001b[0m                                 Traceback (most recent call last)",
      "Cell \u001b[0;32mIn[4], line 1\u001b[0m\n\u001b[0;32m----> 1\u001b[0m \u001b[43mdecision_data\u001b[49m\u001b[38;5;241m.\u001b[39mget_overview_stats\n",
      "\u001b[0;31mNameError\u001b[0m: name 'decision_data' is not defined"
     ]
    }
   ],
   "source": [
    "decision_data.get_overview_stats"
   ]
  },
  {
   "cell_type": "markdown",
   "metadata": {},
   "source": [
    "Lets take a look at 1 decision. From the height of the dataframe you can see how many actions are available at the Arbitration Stage for this interaction of a customer. `pxRank` column shows the ranks of actions in the arbitration."
   ]
  },
  {
   "cell_type": "code",
   "execution_count": 5,
   "metadata": {
    "execution": {
     "iopub.execute_input": "2024-06-21T21:18:41.001048Z",
     "iopub.status.busy": "2024-06-21T21:18:41.000876Z",
     "iopub.status.idle": "2024-06-21T21:18:41.013410Z",
     "shell.execute_reply": "2024-06-21T21:18:41.012965Z"
    }
   },
   "outputs": [
    {
     "ename": "NameError",
     "evalue": "name 'decision_data' is not defined",
     "output_type": "error",
     "traceback": [
      "\u001b[0;31m---------------------------------------------------------------------------\u001b[0m",
      "\u001b[0;31mNameError\u001b[0m                                 Traceback (most recent call last)",
      "Cell \u001b[0;32mIn[5], line 1\u001b[0m\n\u001b[0;32m----> 1\u001b[0m selected_interaction_id \u001b[38;5;241m=\u001b[39m \u001b[43mdecision_data\u001b[49m\u001b[38;5;241m.\u001b[39munfiltered_raw_decision_data\u001b[38;5;241m.\u001b[39mselect(\u001b[38;5;124m\"\u001b[39m\u001b[38;5;124mpxInteractionID\u001b[39m\u001b[38;5;124m\"\u001b[39m)\u001b[38;5;241m.\u001b[39mfirst()\u001b[38;5;241m.\u001b[39mcollect()\u001b[38;5;241m.\u001b[39mrow(\u001b[38;5;241m0\u001b[39m)[\u001b[38;5;241m0\u001b[39m]\n\u001b[1;32m      2\u001b[0m \u001b[38;5;28mprint\u001b[39m(\u001b[38;5;124mf\u001b[39m\u001b[38;5;124m\"\u001b[39m\u001b[38;5;132;01m{\u001b[39;00mselected_interaction_id\u001b[38;5;132;01m=}\u001b[39;00m\u001b[38;5;124m\"\u001b[39m)\n\u001b[1;32m      3\u001b[0m decision_data\u001b[38;5;241m.\u001b[39munfiltered_raw_decision_data\u001b[38;5;241m.\u001b[39mfilter(\n\u001b[1;32m      4\u001b[0m     pl\u001b[38;5;241m.\u001b[39mcol(\u001b[38;5;124m\"\u001b[39m\u001b[38;5;124mpxInteractionID\u001b[39m\u001b[38;5;124m\"\u001b[39m) \u001b[38;5;241m==\u001b[39m selected_interaction_id\n\u001b[1;32m      5\u001b[0m )\u001b[38;5;241m.\u001b[39msort(\u001b[38;5;124m\"\u001b[39m\u001b[38;5;124mpxRank\u001b[39m\u001b[38;5;124m\"\u001b[39m)\u001b[38;5;241m.\u001b[39mcollect()\n",
      "\u001b[0;31mNameError\u001b[0m: name 'decision_data' is not defined"
     ]
    }
   ],
   "source": [
    "selected_interaction_id = decision_data.unfiltered_raw_decision_data.select(\"pxInteractionID\").first().collect().row(0)[0]\n",
    "print(f\"{selected_interaction_id=}\")\n",
    "decision_data.unfiltered_raw_decision_data.filter(\n",
    "    pl.col(\"pxInteractionID\") == selected_interaction_id\n",
    ").sort(\"pxRank\").collect()"
   ]
  },
  {
   "cell_type": "markdown",
   "metadata": {},
   "source": [
    "### Action Distribution\n",
    "\n",
    "Shows the overall distribution of actions at the Arbitration Stage. One can detect if a group of actions survive rarely until Arbitration."
   ]
  },
  {
   "cell_type": "code",
   "execution_count": 6,
   "metadata": {
    "execution": {
     "iopub.execute_input": "2024-06-21T21:18:41.015322Z",
     "iopub.status.busy": "2024-06-21T21:18:41.015151Z",
     "iopub.status.idle": "2024-06-21T21:18:41.027548Z",
     "shell.execute_reply": "2024-06-21T21:18:41.027091Z"
    }
   },
   "outputs": [
    {
     "ename": "NameError",
     "evalue": "name 'decision_data' is not defined",
     "output_type": "error",
     "traceback": [
      "\u001b[0;31m---------------------------------------------------------------------------\u001b[0m",
      "\u001b[0;31mNameError\u001b[0m                                 Traceback (most recent call last)",
      "Cell \u001b[0;32mIn[6], line 3\u001b[0m\n\u001b[1;32m      1\u001b[0m stage \u001b[38;5;241m=\u001b[39m \u001b[38;5;124m\"\u001b[39m\u001b[38;5;124mArbitration\u001b[39m\u001b[38;5;124m\"\u001b[39m\n\u001b[1;32m      2\u001b[0m scope_options \u001b[38;5;241m=\u001b[39m [\u001b[38;5;124m\"\u001b[39m\u001b[38;5;124mpyIssue\u001b[39m\u001b[38;5;124m\"\u001b[39m, \u001b[38;5;124m\"\u001b[39m\u001b[38;5;124mpyGroup\u001b[39m\u001b[38;5;124m\"\u001b[39m, \u001b[38;5;124m\"\u001b[39m\u001b[38;5;124mpyName\u001b[39m\u001b[38;5;124m\"\u001b[39m]\n\u001b[0;32m----> 3\u001b[0m distribution_data \u001b[38;5;241m=\u001b[39m \u001b[43mdecision_data\u001b[49m\u001b[38;5;241m.\u001b[39mgetDistributionData(stage, scope_options)\n\u001b[1;32m      4\u001b[0m fig \u001b[38;5;241m=\u001b[39m decision_data\u001b[38;5;241m.\u001b[39mplot\u001b[38;5;241m.\u001b[39mplot_distribution_as_treemap(\n\u001b[1;32m      5\u001b[0m     df\u001b[38;5;241m=\u001b[39mdistribution_data, stage\u001b[38;5;241m=\u001b[39mstage, scope_options\u001b[38;5;241m=\u001b[39mscope_options\n\u001b[1;32m      6\u001b[0m )\n\u001b[1;32m      7\u001b[0m fig\u001b[38;5;241m.\u001b[39mshow()\n",
      "\u001b[0;31mNameError\u001b[0m: name 'decision_data' is not defined"
     ]
    }
   ],
   "source": [
    "stage = \"Arbitration\"\n",
    "scope_options = [\"pyIssue\", \"pyGroup\", \"pyName\"]\n",
    "distribution_data = decision_data.getDistributionData(stage, scope_options)\n",
    "fig = decision_data.plot.plot_distribution_as_treemap(\n",
    "    df=distribution_data, stage=stage, scope_options=scope_options\n",
    ")\n",
    "fig.show()"
   ]
  },
  {
   "cell_type": "markdown",
   "metadata": {},
   "source": [
    "### Global Sensitivity\n",
    "\n",
    "The Global Sensitivity chart helps us understand how the 4 Arbitration factors propensity, value, levers, and context weights together affect the decision-making process.   \n",
    "**Sensitivity** refers to the impact on our top actions if one of these factors is omitted. The percentages indicate the potential change in our final decisions due to the absence of each factor.   \n",
    "      \n",
    "- **X-Axis (Decisions)**: Represents the number of decisions affected by the exclusion of each factor.  \n",
    "- **Y-Axis (Prioritization Factor)**: Lists the Arbitration formula components.\n",
    "- **Bars**: Each bar represents the percentage of decisions affected by the absence of the corresponding factor.  \n",
    "   \n",
    "   \n",
    "- By identifying the most impactful factors, stakeholders can make strategic adjustments to enhance decision-making accuracy. \n",
    "    \n",
    "- It highlights which factors need more attention or refinement. For instance, if \"Levers\" were to show a significant percentage, it would indicate a need for closer examination and potential improvement.  "
   ]
  },
  {
   "cell_type": "code",
   "execution_count": 7,
   "metadata": {
    "execution": {
     "iopub.execute_input": "2024-06-21T21:18:41.029559Z",
     "iopub.status.busy": "2024-06-21T21:18:41.029232Z",
     "iopub.status.idle": "2024-06-21T21:18:41.040938Z",
     "shell.execute_reply": "2024-06-21T21:18:41.040382Z"
    }
   },
   "outputs": [
    {
     "ename": "NameError",
     "evalue": "name 'decision_data' is not defined",
     "output_type": "error",
     "traceback": [
      "\u001b[0;31m---------------------------------------------------------------------------\u001b[0m",
      "\u001b[0;31mNameError\u001b[0m                                 Traceback (most recent call last)",
      "Cell \u001b[0;32mIn[7], line 1\u001b[0m\n\u001b[0;32m----> 1\u001b[0m \u001b[43mdecision_data\u001b[49m\u001b[38;5;241m.\u001b[39mplot\u001b[38;5;241m.\u001b[39mplot_sensitivity(win_rank\u001b[38;5;241m=\u001b[39m\u001b[38;5;241m1\u001b[39m)\n",
      "\u001b[0;31mNameError\u001b[0m: name 'decision_data' is not defined"
     ]
    }
   ],
   "source": [
    "decision_data.plot.plot_sensitivity(win_rank=1)"
   ]
  },
  {
   "cell_type": "markdown",
   "metadata": {},
   "source": [
    "### Wins and Losses in Arbitration"
   ]
  },
  {
   "cell_type": "markdown",
   "metadata": {},
   "source": [
    "Displays the distribution of wins and losses for different \"Issues\" in the arbitration stage. You can change the level to \"Group\" or \"Action\". Based on the `win_rank` actions are classified as either winning or losing.  \n",
    "   \n",
    "**X-Axis (Percentage)**: Represents the percentage of actions that are either wins or losses.  \n",
    "**Y-Axis (Status)**: Differentiates between wins and losses.  \n",
    "**Color Legend (Issue)**: Each color represents a different issue category, such as \"Retention,\" \"Service,\" \"Growth,\" etc.  \n",
    "      \n",
    "#### How to Interpret the Visual:  \n",
    "   \n",
    "- **Dominant Issues**: The length of the bars helps identify which issues have the highest and lowest win and loss percentages. For example, if \"Retention\" has a longer bar in the Wins section, it indicates a higher percentage of winning actions for that issue.  \n",
    "- **Comparative Analysis**: By comparing the bars, you can quickly see which issues are performing better in terms of winning in arbitration and which are underperforming.  \n",
    "- **Resource Allocation**: By understanding which issues have higher loss percentages, resources can be reallocated to improve strategies in those areas.  \n",
    "- **Decision-Making**: Provides a clear visual representation of how decisions are distributed across different issues, aiding in making data-driven decisions for future actions.  "
   ]
  },
  {
   "cell_type": "code",
   "execution_count": 8,
   "metadata": {
    "execution": {
     "iopub.execute_input": "2024-06-21T21:18:41.042757Z",
     "iopub.status.busy": "2024-06-21T21:18:41.042587Z",
     "iopub.status.idle": "2024-06-21T21:18:41.053719Z",
     "shell.execute_reply": "2024-06-21T21:18:41.053284Z"
    }
   },
   "outputs": [
    {
     "ename": "NameError",
     "evalue": "name 'decision_data' is not defined",
     "output_type": "error",
     "traceback": [
      "\u001b[0;31m---------------------------------------------------------------------------\u001b[0m",
      "\u001b[0;31mNameError\u001b[0m                                 Traceback (most recent call last)",
      "Cell \u001b[0;32mIn[8], line 1\u001b[0m\n\u001b[0;32m----> 1\u001b[0m \u001b[43mdecision_data\u001b[49m\u001b[38;5;241m.\u001b[39mplot\u001b[38;5;241m.\u001b[39mplot_global_winloss_distribution(level\u001b[38;5;241m=\u001b[39m\u001b[38;5;124m\"\u001b[39m\u001b[38;5;124mpyIssue\u001b[39m\u001b[38;5;124m\"\u001b[39m, win_rank\u001b[38;5;241m=\u001b[39m\u001b[38;5;241m1\u001b[39m)\n",
      "\u001b[0;31mNameError\u001b[0m: name 'decision_data' is not defined"
     ]
    }
   ],
   "source": [
    "decision_data.plot.plot_global_winloss_distribution(level=\"pyIssue\", win_rank=1)"
   ]
  },
  {
   "cell_type": "markdown",
   "metadata": {},
   "source": [
    "### Personalization Analysis\n",
    " \n",
    "The Personalization Analysis chart helps us understand the availability of options to present to customers during the arbitration stage. If only a limited number of actions survive to this stage, it becomes challenging to personalize offers effectively. Some customers may have only one action available, limiting the ability of our machine learning algorithm to arbitrate effectively.\n",
    "\n",
    "In the chart:\n",
    "\n",
    "The x-axis represents the number of actions available per customer.\n",
    "The left y-axis shows the number of decisions.\n",
    "The right y-axis shows the propensity percentage.\n",
    "\n",
    "The bars (Optionality) indicate the number of decisions where customers had a specific number of actions available. For instance, a high bar at \"2\" means many customers had exactly two actions available in arbitration.\n",
    "The line (Propensity) represents the average propensity of the top-ranking actions within each bin.\n",
    "\n",
    "This analysis helps in understanding the distribution of available actions. We expect the average propensity to increase as the number of available actions increase. If there are many customers with little or no actions available, it should be investigated"
   ]
  },
  {
   "cell_type": "code",
   "execution_count": 9,
   "metadata": {
    "execution": {
     "iopub.execute_input": "2024-06-21T21:18:41.055571Z",
     "iopub.status.busy": "2024-06-21T21:18:41.055406Z",
     "iopub.status.idle": "2024-06-21T21:18:41.066426Z",
     "shell.execute_reply": "2024-06-21T21:18:41.065885Z"
    }
   },
   "outputs": [
    {
     "ename": "NameError",
     "evalue": "name 'decision_data' is not defined",
     "output_type": "error",
     "traceback": [
      "\u001b[0;31m---------------------------------------------------------------------------\u001b[0m",
      "\u001b[0;31mNameError\u001b[0m                                 Traceback (most recent call last)",
      "Cell \u001b[0;32mIn[9], line 1\u001b[0m\n\u001b[0;32m----> 1\u001b[0m \u001b[43mdecision_data\u001b[49m\u001b[38;5;241m.\u001b[39mplot\u001b[38;5;241m.\u001b[39mplot_propensity_vs_optionality(stage\u001b[38;5;241m=\u001b[39m\u001b[38;5;124m\"\u001b[39m\u001b[38;5;124mArbitration\u001b[39m\u001b[38;5;124m\"\u001b[39m)\n",
      "\u001b[0;31mNameError\u001b[0m: name 'decision_data' is not defined"
     ]
    }
   ],
   "source": [
    "decision_data.plot.plot_propensity_vs_optionality(stage=\"Arbitration\")"
   ]
  },
  {
   "cell_type": "markdown",
   "metadata": {},
   "source": [
    "### Win/Loss Analysis\n"
   ]
  },
  {
   "cell_type": "markdown",
   "metadata": {},
   "source": [
    "#### Win Analysis\n",
    "Let's select an action to determine how often it wins and identify which actions it defeats in arbitration."
   ]
  },
  {
   "cell_type": "code",
   "execution_count": 10,
   "metadata": {
    "execution": {
     "iopub.execute_input": "2024-06-21T21:18:41.068599Z",
     "iopub.status.busy": "2024-06-21T21:18:41.068112Z",
     "iopub.status.idle": "2024-06-21T21:18:41.082563Z",
     "shell.execute_reply": "2024-06-21T21:18:41.082024Z"
    }
   },
   "outputs": [
    {
     "ename": "NameError",
     "evalue": "name 'decision_data' is not defined",
     "output_type": "error",
     "traceback": [
      "\u001b[0;31m---------------------------------------------------------------------------\u001b[0m",
      "\u001b[0;31mNameError\u001b[0m                                 Traceback (most recent call last)",
      "Cell \u001b[0;32mIn[10], line 3\u001b[0m\n\u001b[1;32m      1\u001b[0m win_rank \u001b[38;5;241m=\u001b[39m \u001b[38;5;241m1\u001b[39m\n\u001b[1;32m      2\u001b[0m selected_action \u001b[38;5;241m=\u001b[39m (\n\u001b[0;32m----> 3\u001b[0m     \u001b[43mdecision_data\u001b[49m\u001b[38;5;241m.\u001b[39munfiltered_raw_decision_data\u001b[38;5;241m.\u001b[39mfilter(pl\u001b[38;5;241m.\u001b[39mcol(\u001b[38;5;124m\"\u001b[39m\u001b[38;5;124mpxRank\u001b[39m\u001b[38;5;124m\"\u001b[39m) \u001b[38;5;241m==\u001b[39m \u001b[38;5;241m1\u001b[39m)\n\u001b[1;32m      4\u001b[0m     \u001b[38;5;241m.\u001b[39mgroup_by(\u001b[38;5;124m\"\u001b[39m\u001b[38;5;124mpyName\u001b[39m\u001b[38;5;124m\"\u001b[39m)\n\u001b[1;32m      5\u001b[0m     \u001b[38;5;241m.\u001b[39mlen()\n\u001b[1;32m      6\u001b[0m     \u001b[38;5;241m.\u001b[39msort(\u001b[38;5;124m\"\u001b[39m\u001b[38;5;124mlen\u001b[39m\u001b[38;5;124m\"\u001b[39m, descending\u001b[38;5;241m=\u001b[39m\u001b[38;5;28;01mTrue\u001b[39;00m)\n\u001b[1;32m      7\u001b[0m     \u001b[38;5;241m.\u001b[39mcollect()\n\u001b[1;32m      8\u001b[0m     \u001b[38;5;241m.\u001b[39mget_column(\u001b[38;5;124m\"\u001b[39m\u001b[38;5;124mpyName\u001b[39m\u001b[38;5;124m\"\u001b[39m)\n\u001b[1;32m      9\u001b[0m     \u001b[38;5;241m.\u001b[39mto_list()[\u001b[38;5;241m1\u001b[39m]\n\u001b[1;32m     10\u001b[0m )\n\u001b[1;32m     11\u001b[0m filter_statement \u001b[38;5;241m=\u001b[39m pl\u001b[38;5;241m.\u001b[39mcol(\u001b[38;5;124m\"\u001b[39m\u001b[38;5;124mpyName\u001b[39m\u001b[38;5;124m\"\u001b[39m) \u001b[38;5;241m==\u001b[39m selected_action\n\u001b[1;32m     13\u001b[0m interactions_where_comparison_group_wins \u001b[38;5;241m=\u001b[39m (\n\u001b[1;32m     14\u001b[0m     decision_data\u001b[38;5;241m.\u001b[39mget_winning_or_losing_interactions(\n\u001b[1;32m     15\u001b[0m         win_rank\u001b[38;5;241m=\u001b[39mwin_rank,\n\u001b[0;32m   (...)\u001b[0m\n\u001b[1;32m     18\u001b[0m     )\n\u001b[1;32m     19\u001b[0m )\n",
      "\u001b[0;31mNameError\u001b[0m: name 'decision_data' is not defined"
     ]
    }
   ],
   "source": [
    "win_rank = 1\n",
    "selected_action = (\n",
    "    decision_data.unfiltered_raw_decision_data.filter(pl.col(\"pxRank\") == 1)\n",
    "    .group_by(\"pyName\")\n",
    "    .len()\n",
    "    .sort(\"len\", descending=True)\n",
    "    .collect()\n",
    "    .get_column(\"pyName\")\n",
    "    .to_list()[1]\n",
    ")\n",
    "filter_statement = pl.col(\"pyName\") == selected_action\n",
    "\n",
    "interactions_where_comparison_group_wins = (\n",
    "    decision_data.get_winning_or_losing_interactions(\n",
    "        win_rank=win_rank,\n",
    "        group_filter=filter_statement,\n",
    "        win=True,\n",
    "    )\n",
    ")\n",
    "\n",
    "print(\n",
    "    f\"selected action '{selected_action}' wins(Rank{win_rank}) in {interactions_where_comparison_group_wins.collect().height} interactions.\"\n",
    ")"
   ]
  },
  {
   "cell_type": "markdown",
   "metadata": {},
   "source": [
    "Graph below shows the competing actions going into arbitration together with the selected action and how many times they lose. It highlights which actions are being surpassed by the chosen action."
   ]
  },
  {
   "cell_type": "code",
   "execution_count": 11,
   "metadata": {
    "execution": {
     "iopub.execute_input": "2024-06-21T21:18:41.084629Z",
     "iopub.status.busy": "2024-06-21T21:18:41.084300Z",
     "iopub.status.idle": "2024-06-21T21:18:41.096807Z",
     "shell.execute_reply": "2024-06-21T21:18:41.096357Z"
    }
   },
   "outputs": [
    {
     "ename": "NameError",
     "evalue": "name 'decision_data' is not defined",
     "output_type": "error",
     "traceback": [
      "\u001b[0;31m---------------------------------------------------------------------------\u001b[0m",
      "\u001b[0;31mNameError\u001b[0m                                 Traceback (most recent call last)",
      "Cell \u001b[0;32mIn[11], line 3\u001b[0m\n\u001b[1;32m      1\u001b[0m \u001b[38;5;66;03m# Losing actions in interactions where the selected action wins.\u001b[39;00m\n\u001b[1;32m      2\u001b[0m groupby_cols \u001b[38;5;241m=\u001b[39m [\u001b[38;5;124m\"\u001b[39m\u001b[38;5;124mpyIssue\u001b[39m\u001b[38;5;124m\"\u001b[39m, \u001b[38;5;124m\"\u001b[39m\u001b[38;5;124mpyGroup\u001b[39m\u001b[38;5;124m\"\u001b[39m, \u001b[38;5;124m\"\u001b[39m\u001b[38;5;124mpyName\u001b[39m\u001b[38;5;124m\"\u001b[39m]\n\u001b[0;32m----> 3\u001b[0m winning_from \u001b[38;5;241m=\u001b[39m \u001b[43mdecision_data\u001b[49m\u001b[38;5;241m.\u001b[39mwinning_from(\n\u001b[1;32m      4\u001b[0m     interactions\u001b[38;5;241m=\u001b[39minteractions_where_comparison_group_wins,\n\u001b[1;32m      5\u001b[0m     win_rank\u001b[38;5;241m=\u001b[39mwin_rank,\n\u001b[1;32m      6\u001b[0m     groupby_cols\u001b[38;5;241m=\u001b[39mgroupby_cols,\n\u001b[1;32m      7\u001b[0m     top_k\u001b[38;5;241m=\u001b[39m\u001b[38;5;241m20\u001b[39m,\n\u001b[1;32m      8\u001b[0m )\n\u001b[1;32m     10\u001b[0m decision_data\u001b[38;5;241m.\u001b[39mplot\u001b[38;5;241m.\u001b[39mplot_distribution_as_treemap(\n\u001b[1;32m     11\u001b[0m     df\u001b[38;5;241m=\u001b[39mwinning_from, stage\u001b[38;5;241m=\u001b[39m\u001b[38;5;124m\"\u001b[39m\u001b[38;5;124mArbitration\u001b[39m\u001b[38;5;124m\"\u001b[39m, scope_options\u001b[38;5;241m=\u001b[39mgroupby_cols\n\u001b[1;32m     12\u001b[0m )\n",
      "\u001b[0;31mNameError\u001b[0m: name 'decision_data' is not defined"
     ]
    }
   ],
   "source": [
    "# Losing actions in interactions where the selected action wins.\n",
    "groupby_cols = [\"pyIssue\", \"pyGroup\", \"pyName\"]\n",
    "winning_from = decision_data.winning_from(\n",
    "    interactions=interactions_where_comparison_group_wins,\n",
    "    win_rank=win_rank,\n",
    "    groupby_cols=groupby_cols,\n",
    "    top_k=20,\n",
    ")\n",
    "\n",
    "decision_data.plot.plot_distribution_as_treemap(\n",
    "    df=winning_from, stage=\"Arbitration\", scope_options=groupby_cols\n",
    ")"
   ]
  },
  {
   "cell_type": "markdown",
   "metadata": {},
   "source": [
    "#### Loss Analysis\n",
    "Let's analyze which actions come out on top when the selected action fails"
   ]
  },
  {
   "cell_type": "code",
   "execution_count": 12,
   "metadata": {
    "execution": {
     "iopub.execute_input": "2024-06-21T21:18:41.098753Z",
     "iopub.status.busy": "2024-06-21T21:18:41.098426Z",
     "iopub.status.idle": "2024-06-21T21:18:41.111793Z",
     "shell.execute_reply": "2024-06-21T21:18:41.111227Z"
    }
   },
   "outputs": [
    {
     "ename": "NameError",
     "evalue": "name 'decision_data' is not defined",
     "output_type": "error",
     "traceback": [
      "\u001b[0;31m---------------------------------------------------------------------------\u001b[0m",
      "\u001b[0;31mNameError\u001b[0m                                 Traceback (most recent call last)",
      "Cell \u001b[0;32mIn[12], line 2\u001b[0m\n\u001b[1;32m      1\u001b[0m interactions_where_comparison_group_loses \u001b[38;5;241m=\u001b[39m (\n\u001b[0;32m----> 2\u001b[0m     \u001b[43mdecision_data\u001b[49m\u001b[38;5;241m.\u001b[39mget_winning_or_losing_interactions(\n\u001b[1;32m      3\u001b[0m         win_rank\u001b[38;5;241m=\u001b[39mwin_rank,\n\u001b[1;32m      4\u001b[0m         group_filter\u001b[38;5;241m=\u001b[39mfilter_statement,\n\u001b[1;32m      5\u001b[0m         win\u001b[38;5;241m=\u001b[39m\u001b[38;5;28;01mFalse\u001b[39;00m,\n\u001b[1;32m      6\u001b[0m     )\n\u001b[1;32m      7\u001b[0m )\n\u001b[1;32m      9\u001b[0m \u001b[38;5;28mprint\u001b[39m(\n\u001b[1;32m     10\u001b[0m     \u001b[38;5;124mf\u001b[39m\u001b[38;5;124m\"\u001b[39m\u001b[38;5;124mselected action \u001b[39m\u001b[38;5;124m'\u001b[39m\u001b[38;5;132;01m{\u001b[39;00mselected_action\u001b[38;5;132;01m}\u001b[39;00m\u001b[38;5;124m'\u001b[39m\u001b[38;5;124m loses in \u001b[39m\u001b[38;5;132;01m{\u001b[39;00minteractions_where_comparison_group_loses\u001b[38;5;241m.\u001b[39mcollect()\u001b[38;5;241m.\u001b[39mheight\u001b[38;5;132;01m}\u001b[39;00m\u001b[38;5;124m interactions.\u001b[39m\u001b[38;5;124m\"\u001b[39m\n\u001b[1;32m     11\u001b[0m )\n\u001b[1;32m     12\u001b[0m \u001b[38;5;66;03m# Winning actions in interactions where the selected action loses.\u001b[39;00m\n",
      "\u001b[0;31mNameError\u001b[0m: name 'decision_data' is not defined"
     ]
    }
   ],
   "source": [
    "interactions_where_comparison_group_loses = (\n",
    "    decision_data.get_winning_or_losing_interactions(\n",
    "        win_rank=win_rank,\n",
    "        group_filter=filter_statement,\n",
    "        win=False,\n",
    "    )\n",
    ")\n",
    "\n",
    "print(\n",
    "    f\"selected action '{selected_action}' loses in {interactions_where_comparison_group_loses.collect().height} interactions.\"\n",
    ")\n",
    "# Winning actions in interactions where the selected action loses.\n",
    "losing_to = decision_data.winning_from(\n",
    "    interactions=interactions_where_comparison_group_loses,\n",
    "    win_rank=win_rank,\n",
    "    groupby_cols=groupby_cols,\n",
    "    top_k=20,\n",
    ")\n",
    "\n",
    "decision_data.plot.plot_distribution_as_treemap(\n",
    "    df=losing_to, stage=\"Arbitration\", scope_options=groupby_cols\n",
    ")"
   ]
  },
  {
   "cell_type": "markdown",
   "metadata": {},
   "source": [
    "#### What are the Prioritization Factors that make these actions win or lose?\n",
    "The analysis below shows the change in the number of times an action wins when each factor is individually removed from the prioritization calculation. Unlike the Global Sensitivity Analysis above, this chart can show negative numbers. A negative value means that the selected action would win more often if that component were removed from the arbitration process. Therefore, a component with a negative value is contributing to the action's loss."
   ]
  },
  {
   "cell_type": "code",
   "execution_count": 13,
   "metadata": {
    "execution": {
     "iopub.execute_input": "2024-06-21T21:18:41.113644Z",
     "iopub.status.busy": "2024-06-21T21:18:41.113481Z",
     "iopub.status.idle": "2024-06-21T21:18:41.125650Z",
     "shell.execute_reply": "2024-06-21T21:18:41.125201Z"
    }
   },
   "outputs": [
    {
     "ename": "NameError",
     "evalue": "name 'decision_data' is not defined",
     "output_type": "error",
     "traceback": [
      "\u001b[0;31m---------------------------------------------------------------------------\u001b[0m",
      "\u001b[0;31mNameError\u001b[0m                                 Traceback (most recent call last)",
      "Cell \u001b[0;32mIn[13], line 1\u001b[0m\n\u001b[0;32m----> 1\u001b[0m \u001b[43mdecision_data\u001b[49m\u001b[38;5;241m.\u001b[39mplot\u001b[38;5;241m.\u001b[39mplot_sensitivity(\n\u001b[1;32m      2\u001b[0m     limit_xaxis_range\u001b[38;5;241m=\u001b[39m\u001b[38;5;28;01mFalse\u001b[39;00m, reference_group\u001b[38;5;241m=\u001b[39mpl\u001b[38;5;241m.\u001b[39mcol(\u001b[38;5;124m\"\u001b[39m\u001b[38;5;124mpyName\u001b[39m\u001b[38;5;124m\"\u001b[39m) \u001b[38;5;241m==\u001b[39m selected_action\n\u001b[1;32m      3\u001b[0m )\n",
      "\u001b[0;31mNameError\u001b[0m: name 'decision_data' is not defined"
     ]
    }
   ],
   "source": [
    "decision_data.plot.plot_sensitivity(\n",
    "    limit_xaxis_range=False, reference_group=pl.col(\"pyName\") == selected_action\n",
    ")"
   ]
  },
  {
   "cell_type": "markdown",
   "metadata": {},
   "source": [
    "#### Why are the actions winning\n",
    "\n",
    "Here we show the distribution of the various arbitration factors of the comparison group vs the other actions that make it to arbitration for the same interactions."
   ]
  },
  {
   "cell_type": "code",
   "execution_count": 14,
   "metadata": {
    "execution": {
     "iopub.execute_input": "2024-06-21T21:18:41.127586Z",
     "iopub.status.busy": "2024-06-21T21:18:41.127421Z",
     "iopub.status.idle": "2024-06-21T21:18:41.139584Z",
     "shell.execute_reply": "2024-06-21T21:18:41.138997Z"
    }
   },
   "outputs": [
    {
     "ename": "NameError",
     "evalue": "name 'decision_data' is not defined",
     "output_type": "error",
     "traceback": [
      "\u001b[0;31m---------------------------------------------------------------------------\u001b[0m",
      "\u001b[0;31mNameError\u001b[0m                                 Traceback (most recent call last)",
      "Cell \u001b[0;32mIn[14], line 1\u001b[0m\n\u001b[0;32m----> 1\u001b[0m fig, warning_message \u001b[38;5;241m=\u001b[39m \u001b[43mdecision_data\u001b[49m\u001b[38;5;241m.\u001b[39mplot\u001b[38;5;241m.\u001b[39mplot_prio_factor_boxplots(\n\u001b[1;32m      2\u001b[0m     reference\u001b[38;5;241m=\u001b[39mpl\u001b[38;5;241m.\u001b[39mcol(\u001b[38;5;124m\"\u001b[39m\u001b[38;5;124mpyName\u001b[39m\u001b[38;5;124m\"\u001b[39m) \u001b[38;5;241m==\u001b[39m selected_action,\n\u001b[1;32m      3\u001b[0m     sample_size\u001b[38;5;241m=\u001b[39m\u001b[38;5;241m10000\u001b[39m,\n\u001b[1;32m      4\u001b[0m )\n\u001b[1;32m      5\u001b[0m \u001b[38;5;28;01mif\u001b[39;00m warning_message:\n\u001b[1;32m      6\u001b[0m     \u001b[38;5;28mprint\u001b[39m(warning_message)\n",
      "\u001b[0;31mNameError\u001b[0m: name 'decision_data' is not defined"
     ]
    }
   ],
   "source": [
    "fig, warning_message = decision_data.plot.plot_prio_factor_boxplots(\n",
    "    reference=pl.col(\"pyName\") == selected_action,\n",
    "    sample_size=10000,\n",
    ")\n",
    "if warning_message:\n",
    "    print(warning_message)\n",
    "else:\n",
    "    fig.show()"
   ]
  },
  {
   "cell_type": "markdown",
   "metadata": {},
   "source": [
    "#### Rank Distribution of Comparison Group\n",
    "\n",
    "Showing the distribution of the prioritization rank of the selected actions.\n",
    "If the rank is low, the selected actions are not (often) winning."
   ]
  },
  {
   "cell_type": "code",
   "execution_count": 15,
   "metadata": {
    "execution": {
     "iopub.execute_input": "2024-06-21T21:18:41.141535Z",
     "iopub.status.busy": "2024-06-21T21:18:41.141242Z",
     "iopub.status.idle": "2024-06-21T21:18:41.153622Z",
     "shell.execute_reply": "2024-06-21T21:18:41.153172Z"
    }
   },
   "outputs": [
    {
     "ename": "NameError",
     "evalue": "name 'decision_data' is not defined",
     "output_type": "error",
     "traceback": [
      "\u001b[0;31m---------------------------------------------------------------------------\u001b[0m",
      "\u001b[0;31mNameError\u001b[0m                                 Traceback (most recent call last)",
      "Cell \u001b[0;32mIn[15], line 1\u001b[0m\n\u001b[0;32m----> 1\u001b[0m \u001b[43mdecision_data\u001b[49m\u001b[38;5;241m.\u001b[39mplot\u001b[38;5;241m.\u001b[39mplot_rank_boxplot(\n\u001b[1;32m      2\u001b[0m     reference\u001b[38;5;241m=\u001b[39mpl\u001b[38;5;241m.\u001b[39mcol(\u001b[38;5;124m\"\u001b[39m\u001b[38;5;124mpyName\u001b[39m\u001b[38;5;124m\"\u001b[39m) \u001b[38;5;241m==\u001b[39m selected_action,\n\u001b[1;32m      3\u001b[0m )\n",
      "\u001b[0;31mNameError\u001b[0m: name 'decision_data' is not defined"
     ]
    }
   ],
   "source": [
    "decision_data.plot.plot_rank_boxplot(\n",
    "    reference=pl.col(\"pyName\") == selected_action,\n",
    ")"
   ]
  }
 ],
 "metadata": {
  "kernelspec": {
   "display_name": "Python 3",
   "language": "python",
   "name": "python3"
  },
  "language_info": {
   "codemirror_mode": {
    "name": "ipython",
    "version": 3
   },
   "file_extension": ".py",
   "mimetype": "text/x-python",
   "name": "python",
   "nbconvert_exporter": "python",
   "pygments_lexer": "ipython3",
   "version": "3.11.9"
  }
 },
 "nbformat": 4,
 "nbformat_minor": 2
}
